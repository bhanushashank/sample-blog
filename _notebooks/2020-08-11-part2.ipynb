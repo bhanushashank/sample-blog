{
 "cells": [
  {
   "cell_type": "markdown",
   "id": "98380cd3",
   "metadata": {
    "papermill": {
     "duration": 0.034888,
     "end_time": "2022-02-11T20:08:29.900865",
     "exception": false,
     "start_time": "2022-02-11T20:08:29.865977",
     "status": "completed"
    },
    "tags": []
   },
   "source": [
    "# Distinguish Your Own Digits (DYOD)"
   ]
  },
  {
   "cell_type": "markdown",
   "id": "ef31240d",
   "metadata": {
    "papermill": {
     "duration": 0.028017,
     "end_time": "2022-02-11T20:08:29.956296",
     "exception": false,
     "start_time": "2022-02-11T20:08:29.928279",
     "status": "completed"
    },
    "tags": []
   },
   "source": [
    "You are going to write a classifier that distinguishes between the number 3 and number 8."
   ]
  },
  {
   "cell_type": "code",
   "execution_count": 1,
   "id": "b15c8646",
   "metadata": {
    "execution": {
     "iopub.execute_input": "2022-02-11T20:08:30.023067Z",
     "iopub.status.busy": "2022-02-11T20:08:30.022372Z",
     "iopub.status.idle": "2022-02-11T20:08:30.033807Z",
     "shell.execute_reply": "2022-02-11T20:08:30.034325Z"
    },
    "papermill": {
     "duration": 0.051646,
     "end_time": "2022-02-11T20:08:30.034491",
     "exception": false,
     "start_time": "2022-02-11T20:08:29.982845",
     "status": "completed"
    },
    "tags": []
   },
   "outputs": [],
   "source": [
    "%load_ext autoreload\n",
    "%autoreload 2"
   ]
  },
  {
   "cell_type": "code",
   "execution_count": 2,
   "id": "22ef38dc",
   "metadata": {
    "execution": {
     "iopub.execute_input": "2022-02-11T20:08:30.095158Z",
     "iopub.status.busy": "2022-02-11T20:08:30.094495Z",
     "iopub.status.idle": "2022-02-11T20:08:30.761898Z",
     "shell.execute_reply": "2022-02-11T20:08:30.762738Z"
    },
    "papermill": {
     "duration": 0.701586,
     "end_time": "2022-02-11T20:08:30.762985",
     "exception": false,
     "start_time": "2022-02-11T20:08:30.061399",
     "status": "completed"
    },
    "tags": []
   },
   "outputs": [],
   "source": [
    "%matplotlib inline\n",
    "import numpy as np\n",
    "import matplotlib.pyplot as plt\n",
    "import pandas as pd"
   ]
  },
  {
   "cell_type": "markdown",
   "id": "ba036198",
   "metadata": {
    "papermill": {
     "duration": 0.026916,
     "end_time": "2022-02-11T20:08:30.819609",
     "exception": false,
     "start_time": "2022-02-11T20:08:30.792693",
     "status": "completed"
    },
    "tags": []
   },
   "source": [
    "From the command line run `pip install mnist`. This is a library that will help you bring down the mnist dataset. If you run this from a notebook, you need to put  `!pip install mnist` in a cell by itself."
   ]
  },
  {
   "cell_type": "code",
   "execution_count": 3,
   "id": "bb6ad8a1",
   "metadata": {
    "execution": {
     "iopub.execute_input": "2022-02-11T20:08:30.877983Z",
     "iopub.status.busy": "2022-02-11T20:08:30.877385Z",
     "iopub.status.idle": "2022-02-11T20:08:32.754856Z",
     "shell.execute_reply": "2022-02-11T20:08:32.755702Z"
    },
    "papermill": {
     "duration": 1.909445,
     "end_time": "2022-02-11T20:08:32.755860",
     "exception": false,
     "start_time": "2022-02-11T20:08:30.846415",
     "status": "completed"
    },
    "tags": []
   },
   "outputs": [
    {
     "name": "stdout",
     "output_type": "stream",
     "text": [
      "Collecting mnist\r\n"
     ]
    },
    {
     "name": "stdout",
     "output_type": "stream",
     "text": [
      "  Downloading mnist-0.2.2-py2.py3-none-any.whl (3.5 kB)\r\n",
      "Requirement already satisfied: numpy in /opt/hostedtoolcache/Python/3.6.15/x64/lib/python3.6/site-packages (from mnist) (1.19.5)\r\n"
     ]
    },
    {
     "name": "stdout",
     "output_type": "stream",
     "text": [
      "Installing collected packages: mnist\r\n",
      "Successfully installed mnist-0.2.2\r\n"
     ]
    }
   ],
   "source": [
    "!pip install mnist"
   ]
  },
  {
   "cell_type": "markdown",
   "id": "69df9c9a",
   "metadata": {
    "papermill": {
     "duration": 0.027502,
     "end_time": "2022-02-11T20:08:32.811257",
     "exception": false,
     "start_time": "2022-02-11T20:08:32.783755",
     "status": "completed"
    },
    "tags": []
   },
   "source": [
    "## Preparing the Data"
   ]
  },
  {
   "cell_type": "code",
   "execution_count": 4,
   "id": "7f69d806",
   "metadata": {
    "execution": {
     "iopub.execute_input": "2022-02-11T20:08:32.873915Z",
     "iopub.status.busy": "2022-02-11T20:08:32.873008Z",
     "iopub.status.idle": "2022-02-11T20:08:32.887357Z",
     "shell.execute_reply": "2022-02-11T20:08:32.887808Z"
    },
    "papermill": {
     "duration": 0.049211,
     "end_time": "2022-02-11T20:08:32.887947",
     "exception": false,
     "start_time": "2022-02-11T20:08:32.838736",
     "status": "completed"
    },
    "tags": []
   },
   "outputs": [],
   "source": [
    "import mnist"
   ]
  },
  {
   "cell_type": "code",
   "execution_count": 5,
   "id": "a411e44f",
   "metadata": {
    "execution": {
     "iopub.execute_input": "2022-02-11T20:08:32.949784Z",
     "iopub.status.busy": "2022-02-11T20:08:32.946763Z",
     "iopub.status.idle": "2022-02-11T20:08:33.557384Z",
     "shell.execute_reply": "2022-02-11T20:08:33.556773Z"
    },
    "papermill": {
     "duration": 0.641501,
     "end_time": "2022-02-11T20:08:33.557524",
     "exception": false,
     "start_time": "2022-02-11T20:08:32.916023",
     "status": "completed"
    },
    "tags": []
   },
   "outputs": [],
   "source": [
    "train_images = mnist.train_images()\n",
    "train_labels = mnist.train_labels()"
   ]
  },
  {
   "cell_type": "code",
   "execution_count": 6,
   "id": "dceab3a5",
   "metadata": {
    "execution": {
     "iopub.execute_input": "2022-02-11T20:08:33.617167Z",
     "iopub.status.busy": "2022-02-11T20:08:33.616579Z",
     "iopub.status.idle": "2022-02-11T20:08:33.632341Z",
     "shell.execute_reply": "2022-02-11T20:08:33.631857Z"
    },
    "papermill": {
     "duration": 0.046541,
     "end_time": "2022-02-11T20:08:33.632460",
     "exception": false,
     "start_time": "2022-02-11T20:08:33.585919",
     "status": "completed"
    },
    "tags": []
   },
   "outputs": [
    {
     "data": {
      "text/plain": [
       "((60000, 28, 28), (60000,))"
      ]
     },
     "execution_count": 6,
     "metadata": {},
     "output_type": "execute_result"
    }
   ],
   "source": [
    "train_images.shape, train_labels.shape"
   ]
  },
  {
   "cell_type": "code",
   "execution_count": 7,
   "id": "f50dc2bb",
   "metadata": {
    "execution": {
     "iopub.execute_input": "2022-02-11T20:08:33.692428Z",
     "iopub.status.busy": "2022-02-11T20:08:33.691845Z",
     "iopub.status.idle": "2022-02-11T20:08:33.898319Z",
     "shell.execute_reply": "2022-02-11T20:08:33.897389Z"
    },
    "papermill": {
     "duration": 0.238369,
     "end_time": "2022-02-11T20:08:33.898566",
     "exception": false,
     "start_time": "2022-02-11T20:08:33.660197",
     "status": "completed"
    },
    "tags": []
   },
   "outputs": [],
   "source": [
    "test_images = mnist.test_images()\n",
    "test_labels = mnist.test_labels()"
   ]
  },
  {
   "cell_type": "code",
   "execution_count": 8,
   "id": "fc38cf1b",
   "metadata": {
    "execution": {
     "iopub.execute_input": "2022-02-11T20:08:33.961015Z",
     "iopub.status.busy": "2022-02-11T20:08:33.960421Z",
     "iopub.status.idle": "2022-02-11T20:08:33.975346Z",
     "shell.execute_reply": "2022-02-11T20:08:33.974863Z"
    },
    "papermill": {
     "duration": 0.046709,
     "end_time": "2022-02-11T20:08:33.975469",
     "exception": false,
     "start_time": "2022-02-11T20:08:33.928760",
     "status": "completed"
    },
    "tags": []
   },
   "outputs": [
    {
     "data": {
      "text/plain": [
       "((10000, 28, 28), (10000,))"
      ]
     },
     "execution_count": 8,
     "metadata": {},
     "output_type": "execute_result"
    }
   ],
   "source": [
    "test_images.shape, test_labels.shape"
   ]
  },
  {
   "cell_type": "code",
   "execution_count": 9,
   "id": "f9ed8fe0",
   "metadata": {
    "execution": {
     "iopub.execute_input": "2022-02-11T20:08:34.036806Z",
     "iopub.status.busy": "2022-02-11T20:08:34.036221Z",
     "iopub.status.idle": "2022-02-11T20:08:34.196647Z",
     "shell.execute_reply": "2022-02-11T20:08:34.195852Z"
    },
    "papermill": {
     "duration": 0.193185,
     "end_time": "2022-02-11T20:08:34.196783",
     "exception": false,
     "start_time": "2022-02-11T20:08:34.003598",
     "status": "completed"
    },
    "tags": []
   },
   "outputs": [
    {
     "name": "stdout",
     "output_type": "stream",
     "text": [
      "2\n"
     ]
    },
    {
     "data": {
      "text/plain": [
       "<matplotlib.image.AxesImage at 0x7ffa57554550>"
      ]
     },
     "execution_count": 9,
     "metadata": {},
     "output_type": "execute_result"
    },
    {
     "data": {
      "image/png": "[encoded data removed]",
      "text/plain": [
       "<Figure size 432x288 with 1 Axes>"
      ]
     },
     "metadata": {
      "needs_background": "light"
     },
     "output_type": "display_data"
    }
   ],
   "source": [
    "image_index = 7776 # You may select anything up to 60,000\n",
    "print(train_labels[image_index]) \n",
    "plt.imshow(train_images[image_index], cmap='Greys')"
   ]
  },
  {
   "cell_type": "markdown",
   "id": "a8d2388d",
   "metadata": {
    "papermill": {
     "duration": 0.029435,
     "end_time": "2022-02-11T20:08:34.255976",
     "exception": false,
     "start_time": "2022-02-11T20:08:34.226541",
     "status": "completed"
    },
    "tags": []
   },
   "source": [
    "## Filter data to get 3 and 8 out"
   ]
  },
  {
   "cell_type": "code",
   "execution_count": 10,
   "id": "776f7fc7",
   "metadata": {
    "execution": {
     "iopub.execute_input": "2022-02-11T20:08:34.323367Z",
     "iopub.status.busy": "2022-02-11T20:08:34.319445Z",
     "iopub.status.idle": "2022-02-11T20:08:34.339710Z",
     "shell.execute_reply": "2022-02-11T20:08:34.339194Z"
    },
    "papermill": {
     "duration": 0.054548,
     "end_time": "2022-02-11T20:08:34.339839",
     "exception": false,
     "start_time": "2022-02-11T20:08:34.285291",
     "status": "completed"
    },
    "tags": []
   },
   "outputs": [],
   "source": [
    "train_filter = np.where((train_labels == 3 ) | (train_labels == 8))\n",
    "test_filter = np.where((test_labels == 3) | (test_labels == 8))\n",
    "X_train, y_train = train_images[train_filter], train_labels[train_filter]\n",
    "X_test, y_test = test_images[test_filter], test_labels[test_filter]"
   ]
  },
  {
   "cell_type": "markdown",
   "id": "948f0b7e",
   "metadata": {
    "papermill": {
     "duration": 0.029086,
     "end_time": "2022-02-11T20:08:34.399100",
     "exception": false,
     "start_time": "2022-02-11T20:08:34.370014",
     "status": "completed"
    },
    "tags": []
   },
   "source": [
    "We normalize the pizel values in the 0 to 1 range"
   ]
  },
  {
   "cell_type": "code",
   "execution_count": 11,
   "id": "ee4c2166",
   "metadata": {
    "execution": {
     "iopub.execute_input": "2022-02-11T20:08:34.463459Z",
     "iopub.status.busy": "2022-02-11T20:08:34.462859Z",
     "iopub.status.idle": "2022-02-11T20:08:34.518355Z",
     "shell.execute_reply": "2022-02-11T20:08:34.517436Z"
    },
    "papermill": {
     "duration": 0.090216,
     "end_time": "2022-02-11T20:08:34.518603",
     "exception": false,
     "start_time": "2022-02-11T20:08:34.428387",
     "status": "completed"
    },
    "tags": []
   },
   "outputs": [],
   "source": [
    "X_train = X_train/255.\n",
    "X_test = X_test/255."
   ]
  },
  {
   "cell_type": "markdown",
   "id": "ddcf4fab",
   "metadata": {
    "papermill": {
     "duration": 0.02954,
     "end_time": "2022-02-11T20:08:34.578645",
     "exception": false,
     "start_time": "2022-02-11T20:08:34.549105",
     "status": "completed"
    },
    "tags": []
   },
   "source": [
    "And setup the labels as 1 (when the digit is 3) and 0 (when the digit is 8)"
   ]
  },
  {
   "cell_type": "code",
   "execution_count": 12,
   "id": "7dc908f2",
   "metadata": {
    "execution": {
     "iopub.execute_input": "2022-02-11T20:08:34.643241Z",
     "iopub.status.busy": "2022-02-11T20:08:34.641207Z",
     "iopub.status.idle": "2022-02-11T20:08:34.655391Z",
     "shell.execute_reply": "2022-02-11T20:08:34.654903Z"
    },
    "papermill": {
     "duration": 0.047317,
     "end_time": "2022-02-11T20:08:34.655508",
     "exception": false,
     "start_time": "2022-02-11T20:08:34.608191",
     "status": "completed"
    },
    "tags": []
   },
   "outputs": [],
   "source": [
    "y_train = 1*(y_train==3)\n",
    "y_test = 1*(y_test==3)"
   ]
  },
  {
   "cell_type": "code",
   "execution_count": 13,
   "id": "01e4e969",
   "metadata": {
    "execution": {
     "iopub.execute_input": "2022-02-11T20:08:34.718938Z",
     "iopub.status.busy": "2022-02-11T20:08:34.718311Z",
     "iopub.status.idle": "2022-02-11T20:08:34.734627Z",
     "shell.execute_reply": "2022-02-11T20:08:34.735261Z"
    },
    "papermill": {
     "duration": 0.050402,
     "end_time": "2022-02-11T20:08:34.735409",
     "exception": false,
     "start_time": "2022-02-11T20:08:34.685007",
     "status": "completed"
    },
    "tags": []
   },
   "outputs": [
    {
     "data": {
      "text/plain": [
       "((11982, 28, 28), (1984, 28, 28))"
      ]
     },
     "execution_count": 13,
     "metadata": {},
     "output_type": "execute_result"
    }
   ],
   "source": [
    "X_train.shape, X_test.shape"
   ]
  },
  {
   "cell_type": "markdown",
   "id": "5ccf3f85",
   "metadata": {
    "papermill": {
     "duration": 0.029891,
     "end_time": "2022-02-11T20:08:34.794976",
     "exception": false,
     "start_time": "2022-02-11T20:08:34.765085",
     "status": "completed"
    },
    "tags": []
   },
   "source": [
    "We reshape the data to flatten the image pixels into a set of features or co-variates:"
   ]
  },
  {
   "cell_type": "code",
   "execution_count": 14,
   "id": "5286a4a3",
   "metadata": {
    "execution": {
     "iopub.execute_input": "2022-02-11T20:08:34.861751Z",
     "iopub.status.busy": "2022-02-11T20:08:34.861149Z",
     "iopub.status.idle": "2022-02-11T20:08:34.879222Z",
     "shell.execute_reply": "2022-02-11T20:08:34.878737Z"
    },
    "papermill": {
     "duration": 0.054356,
     "end_time": "2022-02-11T20:08:34.879344",
     "exception": false,
     "start_time": "2022-02-11T20:08:34.824988",
     "status": "completed"
    },
    "tags": []
   },
   "outputs": [
    {
     "data": {
      "text/plain": [
       "((11982, 784), (1984, 784))"
      ]
     },
     "execution_count": 14,
     "metadata": {},
     "output_type": "execute_result"
    }
   ],
   "source": [
    "X_train = X_train.reshape(X_train.shape[0], -1)\n",
    "X_test = X_test.reshape(X_test.shape[0], -1)\n",
    "X_train.shape, X_test.shape"
   ]
  },
  {
   "cell_type": "code",
   "execution_count": 15,
   "id": "73c5f88a",
   "metadata": {
    "execution": {
     "iopub.execute_input": "2022-02-11T20:08:34.946213Z",
     "iopub.status.busy": "2022-02-11T20:08:34.945603Z",
     "iopub.status.idle": "2022-02-11T20:08:34.967359Z",
     "shell.execute_reply": "2022-02-11T20:08:34.966868Z"
    },
    "papermill": {
     "duration": 0.057921,
     "end_time": "2022-02-11T20:08:34.967485",
     "exception": false,
     "start_time": "2022-02-11T20:08:34.909564",
     "status": "completed"
    },
    "tags": []
   },
   "outputs": [],
   "source": [
    "#Impoting functions from 'Kudzu'\n",
    "from kudzu.model import Model\n",
    "from kudzu.train import Learner\n",
    "from kudzu.optim import GD\n",
    "from kudzu.data import Data, Sampler,Dataloader\n",
    "\n",
    "from kudzu.callbacks import AccCallback\n",
    "from kudzu.callbacks import ClfCallback\n",
    "\n",
    "from kudzu.loss import MSE\n",
    "\n",
    "from kudzu.layer import Sigmoid,Relu\n",
    "from kudzu.layer import Affine"
   ]
  },
  {
   "cell_type": "markdown",
   "id": "bc01172a",
   "metadata": {
    "papermill": {
     "duration": 0.029881,
     "end_time": "2022-02-11T20:08:35.027258",
     "exception": false,
     "start_time": "2022-02-11T20:08:34.997377",
     "status": "completed"
    },
    "tags": []
   },
   "source": [
    "### Let us create a `Config` class, to store important parameters. \n",
    "This class essentially plays the role of a dictionary."
   ]
  },
  {
   "cell_type": "code",
   "execution_count": 16,
   "id": "978281aa",
   "metadata": {
    "execution": {
     "iopub.execute_input": "2022-02-11T20:08:35.091351Z",
     "iopub.status.busy": "2022-02-11T20:08:35.090747Z",
     "iopub.status.idle": "2022-02-11T20:08:35.103906Z",
     "shell.execute_reply": "2022-02-11T20:08:35.103402Z"
    },
    "papermill": {
     "duration": 0.046787,
     "end_time": "2022-02-11T20:08:35.104021",
     "exception": false,
     "start_time": "2022-02-11T20:08:35.057234",
     "status": "completed"
    },
    "tags": []
   },
   "outputs": [],
   "source": [
    "class Config:\n",
    "    pass\n",
    "config = Config()\n",
    "config.lr = 0.001\n",
    "config.num_epochs = 250\n",
    "config.bs = 50"
   ]
  },
  {
   "cell_type": "markdown",
   "id": "1385fa59",
   "metadata": {
    "papermill": {
     "duration": 0.029829,
     "end_time": "2022-02-11T20:08:35.163736",
     "exception": false,
     "start_time": "2022-02-11T20:08:35.133907",
     "status": "completed"
    },
    "tags": []
   },
   "source": [
    "### Running Models with the Training data\n",
    "Details about the network layers:\n",
    "- A first affine layer has 784 inputs and does 100 affine transforms. These are followed by a Relu\n",
    "- A second affine layer has 100 inputs from the 100 activations of the past layer, and does 100 affine transforms. These are followed by a Relu\n",
    "- A third affine layer has 100 activations and does 2 affine transformations to create an embedding for visualization. There is no non-linearity here.\n",
    "- A final \"logistic regression\" which has an affine transform from 2 inputs to 1 output, which is squeezed through a sigmoid.\n"
   ]
  },
  {
   "cell_type": "code",
   "execution_count": 17,
   "id": "2b9c66db",
   "metadata": {
    "execution": {
     "iopub.execute_input": "2022-02-11T20:08:35.229568Z",
     "iopub.status.busy": "2022-02-11T20:08:35.228978Z",
     "iopub.status.idle": "2022-02-11T20:08:35.243353Z",
     "shell.execute_reply": "2022-02-11T20:08:35.242869Z"
    },
    "papermill": {
     "duration": 0.049642,
     "end_time": "2022-02-11T20:08:35.243472",
     "exception": false,
     "start_time": "2022-02-11T20:08:35.193830",
     "status": "completed"
    },
    "tags": []
   },
   "outputs": [],
   "source": [
    "data = Data(X_train, y_train.reshape(-1,1))\n",
    "sampler = Sampler(data, config.bs, shuffle=True)\n",
    "\n",
    "dl = Dataloader(data, sampler)\n",
    "\n",
    "opt = GD(config.lr)\n",
    "loss = MSE()"
   ]
  },
  {
   "cell_type": "code",
   "execution_count": 18,
   "id": "b275e4c2",
   "metadata": {
    "execution": {
     "iopub.execute_input": "2022-02-11T20:08:35.308512Z",
     "iopub.status.busy": "2022-02-11T20:08:35.307919Z",
     "iopub.status.idle": "2022-02-11T20:08:35.321498Z",
     "shell.execute_reply": "2022-02-11T20:08:35.322002Z"
    },
    "papermill": {
     "duration": 0.048747,
     "end_time": "2022-02-11T20:08:35.322130",
     "exception": false,
     "start_time": "2022-02-11T20:08:35.273383",
     "status": "completed"
    },
    "tags": []
   },
   "outputs": [],
   "source": [
    "training_data_x = X_train\n",
    "testing_data_x = X_test\n",
    "training_data_y = y_train.reshape(-1,1)\n",
    "testing_data_y = y_test.reshape(-1,1)"
   ]
  },
  {
   "cell_type": "code",
   "execution_count": 19,
   "id": "76951160",
   "metadata": {
    "execution": {
     "iopub.execute_input": "2022-02-11T20:08:35.386678Z",
     "iopub.status.busy": "2022-02-11T20:08:35.386049Z",
     "iopub.status.idle": "2022-02-11T20:08:35.404251Z",
     "shell.execute_reply": "2022-02-11T20:08:35.403771Z"
    },
    "papermill": {
     "duration": 0.052388,
     "end_time": "2022-02-11T20:08:35.404373",
     "exception": false,
     "start_time": "2022-02-11T20:08:35.351985",
     "status": "completed"
    },
    "tags": []
   },
   "outputs": [
    {
     "name": "stdout",
     "output_type": "stream",
     "text": [
      "xavier\n",
      "xavier\n",
      "xavier\n",
      "xavier\n",
      "xavier\n"
     ]
    }
   ],
   "source": [
    "layers = [Affine(\"first\", 784, 100), Relu(\"first\"), Affine(\"second\", 100, 100), Relu(\"second\"), Affine(\"third\", 100, 2), Affine(\"last\", 2, 1), Sigmoid(\"last\")]\n",
    "model_nn = Model(layers)\n",
    "model_lr = Model([Affine(\"logits\", 784, 1), Sigmoid(\"sigmoid\")])"
   ]
  },
  {
   "cell_type": "code",
   "execution_count": 20,
   "id": "6eede77a",
   "metadata": {
    "execution": {
     "iopub.execute_input": "2022-02-11T20:08:35.472955Z",
     "iopub.status.busy": "2022-02-11T20:08:35.472352Z",
     "iopub.status.idle": "2022-02-11T20:08:35.485530Z",
     "shell.execute_reply": "2022-02-11T20:08:35.485048Z"
    },
    "papermill": {
     "duration": 0.050794,
     "end_time": "2022-02-11T20:08:35.485649",
     "exception": false,
     "start_time": "2022-02-11T20:08:35.434855",
     "status": "completed"
    },
    "tags": []
   },
   "outputs": [],
   "source": [
    "nn_learner = Learner(loss, model_nn, opt, config.num_epochs)\n",
    "acc_nn = ClfCallback(nn_learner, config.bs, training_data_x , testing_data_x, training_data_y, testing_data_y)\n",
    "nn_learner.set_callbacks([acc_nn])"
   ]
  },
  {
   "cell_type": "code",
   "execution_count": 21,
   "id": "877b6cc7",
   "metadata": {
    "execution": {
     "iopub.execute_input": "2022-02-11T20:08:35.551068Z",
     "iopub.status.busy": "2022-02-11T20:08:35.550449Z",
     "iopub.status.idle": "2022-02-11T20:08:35.565782Z",
     "shell.execute_reply": "2022-02-11T20:08:35.565305Z"
    },
    "papermill": {
     "duration": 0.049871,
     "end_time": "2022-02-11T20:08:35.565899",
     "exception": false,
     "start_time": "2022-02-11T20:08:35.516028",
     "status": "completed"
    },
    "tags": []
   },
   "outputs": [],
   "source": [
    "lr_learner = Learner(loss, model_lr, opt, config.num_epochs)\n",
    "acc_lr = ClfCallback(lr_learner, config.bs, training_data_x , testing_data_x, training_data_y, testing_data_y)\n",
    "lr_learner.set_callbacks([acc_lr])"
   ]
  },
  {
   "cell_type": "code",
   "execution_count": 22,
   "id": "d9b133c3",
   "metadata": {
    "execution": {
     "iopub.execute_input": "2022-02-11T20:08:35.631745Z",
     "iopub.status.busy": "2022-02-11T20:08:35.631160Z",
     "iopub.status.idle": "2022-02-11T20:10:04.653142Z",
     "shell.execute_reply": "2022-02-11T20:10:04.653981Z"
    },
    "papermill": {
     "duration": 89.057999,
     "end_time": "2022-02-11T20:10:04.654144",
     "exception": false,
     "start_time": "2022-02-11T20:08:35.596145",
     "status": "completed"
    },
    "tags": []
   },
   "outputs": [
    {
     "name": "stdout",
     "output_type": "stream",
     "text": [
      "Epoch 0, Loss 0.2528\n",
      "Training Accuracy: 0.4605, Testing Accuracy: 0.4592\n",
      "\n"
     ]
    },
    {
     "name": "stdout",
     "output_type": "stream",
     "text": [
      "Epoch 10, Loss 0.2252\n",
      "Training Accuracy: 0.8597, Testing Accuracy: 0.8720\n",
      "\n"
     ]
    },
    {
     "name": "stdout",
     "output_type": "stream",
     "text": [
      "Epoch 20, Loss 0.136\n",
      "Training Accuracy: 0.9110, Testing Accuracy: 0.9254\n",
      "\n"
     ]
    },
    {
     "name": "stdout",
     "output_type": "stream",
     "text": [
      "Epoch 30, Loss 0.0712\n",
      "Training Accuracy: 0.9323, Testing Accuracy: 0.9430\n",
      "\n"
     ]
    },
    {
     "name": "stdout",
     "output_type": "stream",
     "text": [
      "Epoch 40, Loss 0.052\n",
      "Training Accuracy: 0.9449, Testing Accuracy: 0.9541\n",
      "\n"
     ]
    },
    {
     "name": "stdout",
     "output_type": "stream",
     "text": [
      "Epoch 50, Loss 0.0435\n",
      "Training Accuracy: 0.9519, Testing Accuracy: 0.9577\n",
      "\n"
     ]
    },
    {
     "name": "stdout",
     "output_type": "stream",
     "text": [
      "Epoch 60, Loss 0.0386\n",
      "Training Accuracy: 0.9570, Testing Accuracy: 0.9637\n",
      "\n"
     ]
    },
    {
     "name": "stdout",
     "output_type": "stream",
     "text": [
      "Epoch 70, Loss 0.0354\n",
      "Training Accuracy: 0.9596, Testing Accuracy: 0.9672\n",
      "\n"
     ]
    },
    {
     "name": "stdout",
     "output_type": "stream",
     "text": [
      "Epoch 80, Loss 0.0331\n",
      "Training Accuracy: 0.9623, Testing Accuracy: 0.9688\n",
      "\n"
     ]
    },
    {
     "name": "stdout",
     "output_type": "stream",
     "text": [
      "Epoch 90, Loss 0.0312\n",
      "Training Accuracy: 0.9639, Testing Accuracy: 0.9713\n",
      "\n"
     ]
    },
    {
     "name": "stdout",
     "output_type": "stream",
     "text": [
      "Epoch 100, Loss 0.0298\n",
      "Training Accuracy: 0.9663, Testing Accuracy: 0.9723\n",
      "\n"
     ]
    },
    {
     "name": "stdout",
     "output_type": "stream",
     "text": [
      "Epoch 110, Loss 0.0285\n",
      "Training Accuracy: 0.9673, Testing Accuracy: 0.9723\n",
      "\n"
     ]
    },
    {
     "name": "stdout",
     "output_type": "stream",
     "text": [
      "Epoch 120, Loss 0.0275\n",
      "Training Accuracy: 0.9684, Testing Accuracy: 0.9723\n",
      "\n"
     ]
    },
    {
     "name": "stdout",
     "output_type": "stream",
     "text": [
      "Epoch 130, Loss 0.0266\n",
      "Training Accuracy: 0.9695, Testing Accuracy: 0.9728\n",
      "\n"
     ]
    },
    {
     "name": "stdout",
     "output_type": "stream",
     "text": [
      "Epoch 140, Loss 0.0258\n",
      "Training Accuracy: 0.9701, Testing Accuracy: 0.9733\n",
      "\n"
     ]
    },
    {
     "name": "stdout",
     "output_type": "stream",
     "text": [
      "Epoch 150, Loss 0.0251\n",
      "Training Accuracy: 0.9712, Testing Accuracy: 0.9738\n",
      "\n"
     ]
    },
    {
     "name": "stdout",
     "output_type": "stream",
     "text": [
      "Epoch 160, Loss 0.0244\n",
      "Training Accuracy: 0.9719, Testing Accuracy: 0.9738\n",
      "\n"
     ]
    },
    {
     "name": "stdout",
     "output_type": "stream",
     "text": [
      "Epoch 170, Loss 0.0238\n",
      "Training Accuracy: 0.9728, Testing Accuracy: 0.9738\n",
      "\n"
     ]
    },
    {
     "name": "stdout",
     "output_type": "stream",
     "text": [
      "Epoch 180, Loss 0.0233\n",
      "Training Accuracy: 0.9732, Testing Accuracy: 0.9738\n",
      "\n"
     ]
    },
    {
     "name": "stdout",
     "output_type": "stream",
     "text": [
      "Epoch 190, Loss 0.0227\n",
      "Training Accuracy: 0.9740, Testing Accuracy: 0.9748\n",
      "\n"
     ]
    },
    {
     "name": "stdout",
     "output_type": "stream",
     "text": [
      "Epoch 200, Loss 0.0223\n",
      "Training Accuracy: 0.9747, Testing Accuracy: 0.9748\n",
      "\n"
     ]
    },
    {
     "name": "stdout",
     "output_type": "stream",
     "text": [
      "Epoch 210, Loss 0.0218\n",
      "Training Accuracy: 0.9752, Testing Accuracy: 0.9753\n",
      "\n"
     ]
    },
    {
     "name": "stdout",
     "output_type": "stream",
     "text": [
      "Epoch 220, Loss 0.0214\n",
      "Training Accuracy: 0.9758, Testing Accuracy: 0.9758\n",
      "\n"
     ]
    },
    {
     "name": "stdout",
     "output_type": "stream",
     "text": [
      "Epoch 230, Loss 0.021\n",
      "Training Accuracy: 0.9764, Testing Accuracy: 0.9753\n",
      "\n"
     ]
    },
    {
     "name": "stdout",
     "output_type": "stream",
     "text": [
      "Epoch 240, Loss 0.0206\n",
      "Training Accuracy: 0.9769, Testing Accuracy: 0.9758\n",
      "\n"
     ]
    },
    {
     "data": {
      "text/plain": [
       "0.008270384130926458"
      ]
     },
     "execution_count": 22,
     "metadata": {},
     "output_type": "execute_result"
    }
   ],
   "source": [
    "nn_learner.train_loop(dl)"
   ]
  },
  {
   "cell_type": "code",
   "execution_count": 23,
   "id": "e0163366",
   "metadata": {
    "execution": {
     "iopub.execute_input": "2022-02-11T20:10:04.743974Z",
     "iopub.status.busy": "2022-02-11T20:10:04.743390Z",
     "iopub.status.idle": "2022-02-11T20:10:20.165202Z",
     "shell.execute_reply": "2022-02-11T20:10:20.166042Z"
    },
    "papermill": {
     "duration": 15.473392,
     "end_time": "2022-02-11T20:10:20.166216",
     "exception": false,
     "start_time": "2022-02-11T20:10:04.692824",
     "status": "completed"
    },
    "tags": []
   },
   "outputs": [
    {
     "name": "stdout",
     "output_type": "stream",
     "text": [
      "Epoch 0, Loss 0.2489\n",
      "Training Accuracy: 0.6551, Testing Accuracy: 0.6699\n",
      "\n"
     ]
    },
    {
     "name": "stdout",
     "output_type": "stream",
     "text": [
      "Epoch 10, Loss 0.1034\n",
      "Training Accuracy: 0.9056, Testing Accuracy: 0.9093\n",
      "\n"
     ]
    },
    {
     "name": "stdout",
     "output_type": "stream",
     "text": [
      "Epoch 20, Loss 0.0798\n",
      "Training Accuracy: 0.9238, Testing Accuracy: 0.9320\n",
      "\n"
     ]
    },
    {
     "name": "stdout",
     "output_type": "stream",
     "text": [
      "Epoch 30, Loss 0.0689\n",
      "Training Accuracy: 0.9340, Testing Accuracy: 0.9461\n",
      "\n"
     ]
    },
    {
     "name": "stdout",
     "output_type": "stream",
     "text": [
      "Epoch 40, Loss 0.0622\n",
      "Training Accuracy: 0.9397, Testing Accuracy: 0.9496\n",
      "\n"
     ]
    },
    {
     "name": "stdout",
     "output_type": "stream",
     "text": [
      "Epoch 50, Loss 0.0577\n",
      "Training Accuracy: 0.9436, Testing Accuracy: 0.9521\n",
      "\n"
     ]
    },
    {
     "name": "stdout",
     "output_type": "stream",
     "text": [
      "Epoch 60, Loss 0.0543\n",
      "Training Accuracy: 0.9465, Testing Accuracy: 0.9572\n",
      "\n"
     ]
    },
    {
     "name": "stdout",
     "output_type": "stream",
     "text": [
      "Epoch 70, Loss 0.0517\n",
      "Training Accuracy: 0.9478, Testing Accuracy: 0.9582\n",
      "\n"
     ]
    },
    {
     "name": "stdout",
     "output_type": "stream",
     "text": [
      "Epoch 80, Loss 0.0496\n",
      "Training Accuracy: 0.9498, Testing Accuracy: 0.9592\n",
      "\n"
     ]
    },
    {
     "name": "stdout",
     "output_type": "stream",
     "text": [
      "Epoch 90, Loss 0.0478\n",
      "Training Accuracy: 0.9508, Testing Accuracy: 0.9592\n",
      "\n"
     ]
    },
    {
     "name": "stdout",
     "output_type": "stream",
     "text": [
      "Epoch 100, Loss 0.0464\n",
      "Training Accuracy: 0.9524, Testing Accuracy: 0.9602\n",
      "\n"
     ]
    },
    {
     "name": "stdout",
     "output_type": "stream",
     "text": [
      "Epoch 110, Loss 0.0451\n",
      "Training Accuracy: 0.9532, Testing Accuracy: 0.9602\n",
      "\n"
     ]
    },
    {
     "name": "stdout",
     "output_type": "stream",
     "text": [
      "Epoch 120, Loss 0.044\n",
      "Training Accuracy: 0.9544, Testing Accuracy: 0.9612\n",
      "\n"
     ]
    },
    {
     "name": "stdout",
     "output_type": "stream",
     "text": [
      "Epoch 130, Loss 0.043\n",
      "Training Accuracy: 0.9553, Testing Accuracy: 0.9632\n",
      "\n"
     ]
    },
    {
     "name": "stdout",
     "output_type": "stream",
     "text": [
      "Epoch 140, Loss 0.0422\n",
      "Training Accuracy: 0.9561, Testing Accuracy: 0.9637\n",
      "\n"
     ]
    },
    {
     "name": "stdout",
     "output_type": "stream",
     "text": [
      "Epoch 150, Loss 0.0414\n",
      "Training Accuracy: 0.9569, Testing Accuracy: 0.9637\n",
      "\n"
     ]
    },
    {
     "name": "stdout",
     "output_type": "stream",
     "text": [
      "Epoch 160, Loss 0.0407\n",
      "Training Accuracy: 0.9576, Testing Accuracy: 0.9657\n",
      "\n"
     ]
    },
    {
     "name": "stdout",
     "output_type": "stream",
     "text": [
      "Epoch 170, Loss 0.0401\n",
      "Training Accuracy: 0.9584, Testing Accuracy: 0.9657\n",
      "\n"
     ]
    },
    {
     "name": "stdout",
     "output_type": "stream",
     "text": [
      "Epoch 180, Loss 0.0395\n",
      "Training Accuracy: 0.9589, Testing Accuracy: 0.9657\n",
      "\n"
     ]
    },
    {
     "name": "stdout",
     "output_type": "stream",
     "text": [
      "Epoch 190, Loss 0.039\n",
      "Training Accuracy: 0.9592, Testing Accuracy: 0.9672\n",
      "\n"
     ]
    },
    {
     "name": "stdout",
     "output_type": "stream",
     "text": [
      "Epoch 200, Loss 0.0385\n",
      "Training Accuracy: 0.9594, Testing Accuracy: 0.9672\n",
      "\n"
     ]
    },
    {
     "name": "stdout",
     "output_type": "stream",
     "text": [
      "Epoch 210, Loss 0.0381\n",
      "Training Accuracy: 0.9599, Testing Accuracy: 0.9672\n",
      "\n"
     ]
    },
    {
     "name": "stdout",
     "output_type": "stream",
     "text": [
      "Epoch 220, Loss 0.0376\n",
      "Training Accuracy: 0.9604, Testing Accuracy: 0.9667\n",
      "\n"
     ]
    },
    {
     "name": "stdout",
     "output_type": "stream",
     "text": [
      "Epoch 230, Loss 0.0372\n",
      "Training Accuracy: 0.9609, Testing Accuracy: 0.9667\n",
      "\n"
     ]
    },
    {
     "name": "stdout",
     "output_type": "stream",
     "text": [
      "Epoch 240, Loss 0.0369\n",
      "Training Accuracy: 0.9609, Testing Accuracy: 0.9677\n",
      "\n"
     ]
    },
    {
     "data": {
      "text/plain": [
       "0.08435440795776922"
      ]
     },
     "execution_count": 23,
     "metadata": {},
     "output_type": "execute_result"
    }
   ],
   "source": [
    "lr_learner.train_loop(dl)"
   ]
  },
  {
   "cell_type": "code",
   "execution_count": 24,
   "id": "ca410940",
   "metadata": {
    "execution": {
     "iopub.execute_input": "2022-02-11T20:10:20.271863Z",
     "iopub.status.busy": "2022-02-11T20:10:20.271253Z",
     "iopub.status.idle": "2022-02-11T20:10:20.525202Z",
     "shell.execute_reply": "2022-02-11T20:10:20.524701Z"
    },
    "papermill": {
     "duration": 0.312869,
     "end_time": "2022-02-11T20:10:20.525334",
     "exception": false,
     "start_time": "2022-02-11T20:10:20.212465",
     "status": "completed"
    },
    "tags": []
   },
   "outputs": [
    {
     "data": {
      "text/plain": [
       "<matplotlib.legend.Legend at 0x7ffa57131d30>"
      ]
     },
     "execution_count": 24,
     "metadata": {},
     "output_type": "execute_result"
    },
    {
     "data": {
      "image/png": "[encoded data removed]",
      "text/plain": [
       "<Figure size 1080x720 with 1 Axes>"
      ]
     },
     "metadata": {
      "needs_background": "light"
     },
     "output_type": "display_data"
    }
   ],
   "source": [
    "#comparing the results of NN and LR\n",
    "plt.figure(figsize=(15,10))\n",
    "\n",
    "# Neural Network plots\n",
    "plt.plot(acc_nn.accuracies, 'r-', label = \"Training Accuracies - NN\")\n",
    "plt.plot(acc_nn.test_accuracies, 'g-', label = \"Testing Accuracies - NN\")\n",
    "\n",
    "# Logistic Regression plots\n",
    "plt.plot(acc_lr.accuracies, 'k-', label = \"Training Accuracies - LR\")\n",
    "plt.plot(acc_lr.test_accuracies, 'b-', label = \"Testing Accuracies - LR\")\n",
    "plt.legend()"
   ]
  },
  {
   "cell_type": "markdown",
   "id": "80dfb35c",
   "metadata": {
    "papermill": {
     "duration": 0.046786,
     "end_time": "2022-02-11T20:10:20.619172",
     "exception": false,
     "start_time": "2022-02-11T20:10:20.572386",
     "status": "completed"
    },
    "tags": []
   },
   "source": [
    "#### Plotting the outputs of this layer of the NN.\n"
   ]
  },
  {
   "cell_type": "code",
   "execution_count": 25,
   "id": "45eb2ff5",
   "metadata": {
    "execution": {
     "iopub.execute_input": "2022-02-11T20:10:20.719295Z",
     "iopub.status.busy": "2022-02-11T20:10:20.718546Z",
     "iopub.status.idle": "2022-02-11T20:10:20.739986Z",
     "shell.execute_reply": "2022-02-11T20:10:20.740475Z"
    },
    "papermill": {
     "duration": 0.074617,
     "end_time": "2022-02-11T20:10:20.740637",
     "exception": false,
     "start_time": "2022-02-11T20:10:20.666020",
     "status": "completed"
    },
    "tags": []
   },
   "outputs": [],
   "source": [
    "new_model = Model(layers[:-2])\n",
    "testing_plot = new_model(testing_data_x)"
   ]
  },
  {
   "cell_type": "code",
   "execution_count": 26,
   "id": "4c0a5485",
   "metadata": {
    "execution": {
     "iopub.execute_input": "2022-02-11T20:10:20.843390Z",
     "iopub.status.busy": "2022-02-11T20:10:20.842787Z",
     "iopub.status.idle": "2022-02-11T20:10:21.066224Z",
     "shell.execute_reply": "2022-02-11T20:10:21.065354Z"
    },
    "papermill": {
     "duration": 0.277957,
     "end_time": "2022-02-11T20:10:21.066364",
     "exception": false,
     "start_time": "2022-02-11T20:10:20.788407",
     "status": "completed"
    },
    "tags": []
   },
   "outputs": [
    {
     "data": {
      "text/plain": [
       "Text(0.5, 1.0, 'Outputs')"
      ]
     },
     "execution_count": 26,
     "metadata": {},
     "output_type": "execute_result"
    },
    {
     "data": {
      "image/png": "[encoded data removed]",
      "text/plain": [
       "<Figure size 576x504 with 1 Axes>"
      ]
     },
     "metadata": {
      "needs_background": "light"
     },
     "output_type": "display_data"
    }
   ],
   "source": [
    "# Plotting the scatter plot of points and color coding by class\n",
    "plt.figure(figsize=(8,7))\n",
    "plt.scatter(testing_plot[:,0], testing_plot[:,1], alpha = 0.1, c = y_test.ravel());\n",
    "plt.title('Outputs')"
   ]
  },
  {
   "cell_type": "markdown",
   "id": "a74fcf8f",
   "metadata": {
    "papermill": {
     "duration": 0.04933,
     "end_time": "2022-02-11T20:10:21.165557",
     "exception": false,
     "start_time": "2022-02-11T20:10:21.116227",
     "status": "completed"
    },
    "tags": []
   },
   "source": [
    "Probability contours"
   ]
  },
  {
   "cell_type": "code",
   "execution_count": 27,
   "id": "d0afc8e3",
   "metadata": {
    "execution": {
     "iopub.execute_input": "2022-02-11T20:10:21.268666Z",
     "iopub.status.busy": "2022-02-11T20:10:21.268059Z",
     "iopub.status.idle": "2022-02-11T20:10:21.282659Z",
     "shell.execute_reply": "2022-02-11T20:10:21.282103Z"
    },
    "papermill": {
     "duration": 0.067755,
     "end_time": "2022-02-11T20:10:21.282785",
     "exception": false,
     "start_time": "2022-02-11T20:10:21.215030",
     "status": "completed"
    },
    "tags": []
   },
   "outputs": [],
   "source": [
    "model_prob = Model(layers[-2:]) "
   ]
  },
  {
   "cell_type": "code",
   "execution_count": 28,
   "id": "9b96e238",
   "metadata": {
    "execution": {
     "iopub.execute_input": "2022-02-11T20:10:21.389367Z",
     "iopub.status.busy": "2022-02-11T20:10:21.388739Z",
     "iopub.status.idle": "2022-02-11T20:10:21.403229Z",
     "shell.execute_reply": "2022-02-11T20:10:21.403687Z"
    },
    "papermill": {
     "duration": 0.071782,
     "end_time": "2022-02-11T20:10:21.403828",
     "exception": false,
     "start_time": "2022-02-11T20:10:21.332046",
     "status": "completed"
    },
    "tags": []
   },
   "outputs": [],
   "source": [
    "#creating the x and y ranges according to the above generated plot.\n",
    "x_range = np.linspace(-4, 1, 100) \n",
    "y_range = np.linspace(-6, 6, 100) \n",
    "x_grid, y_grid = np.meshgrid(x_range, y_range) # x_grid and y_grig are of size 100 X 100\n",
    "\n",
    "# converting x_grid and y_grid to continuous arrays\n",
    "x_gridflat = np.ravel(x_grid)\n",
    "y_gridflat = np.ravel(y_grid)\n",
    "\n",
    "# The last layer of the current model takes two columns as input. Hence transpose of np.vstack() is required.\n",
    "X = np.vstack((x_gridflat, y_gridflat)).T\n",
    "\n",
    "prob_contour = model_prob(X).reshape(100,100) "
   ]
  },
  {
   "cell_type": "code",
   "execution_count": 29,
   "id": "da72499a",
   "metadata": {
    "execution": {
     "iopub.execute_input": "2022-02-11T20:10:21.539790Z",
     "iopub.status.busy": "2022-02-11T20:10:21.539187Z",
     "iopub.status.idle": "2022-02-11T20:10:21.832378Z",
     "shell.execute_reply": "2022-02-11T20:10:21.832859Z"
    },
    "papermill": {
     "duration": 0.351107,
     "end_time": "2022-02-11T20:10:21.833014",
     "exception": false,
     "start_time": "2022-02-11T20:10:21.481907",
     "status": "completed"
    },
    "tags": []
   },
   "outputs": [
    {
     "data": {
      "image/png": "[encoded data removed]",
      "text/plain": [
       "<Figure size 720x648 with 1 Axes>"
      ]
     },
     "metadata": {
      "needs_background": "light"
     },
     "output_type": "display_data"
    }
   ],
   "source": [
    "plt.figure(figsize=(10,9))\n",
    "plt.scatter(testing_plot[:,0], testing_plot[:,1], alpha = 0.1, c = y_test.ravel())\n",
    "contours = plt.contour(x_grid,y_grid,prob_contour)\n",
    "plt.title('Probability Contours')\n",
    "plt.clabel(contours, inline = True );"
   ]
  },
  {
   "cell_type": "code",
   "execution_count": null,
   "id": "e81b4ac7",
   "metadata": {
    "papermill": {
     "duration": 0.051739,
     "end_time": "2022-02-11T20:10:21.937390",
     "exception": false,
     "start_time": "2022-02-11T20:10:21.885651",
     "status": "completed"
    },
    "tags": []
   },
   "outputs": [],
   "source": []
  }
 ],
 "metadata": {
  "kernelspec": {
   "display_name": "Python 3",
   "language": "python",
   "name": "python3"
  },
  "language_info": {
   "codemirror_mode": {
    "name": "ipython",
    "version": 3
   },
   "file_extension": ".py",
   "mimetype": "text/x-python",
   "name": "python",
   "nbconvert_exporter": "python",
   "pygments_lexer": "ipython3",
   "version": "3.6.15"
  },
  "papermill": {
   "default_parameters": {},
   "duration": 113.837189,
   "end_time": "2022-02-11T20:10:22.410358",
   "environment_variables": {},
   "exception": null,
   "input_path": "2020-08-11-part2.ipynb",
   "output_path": "2020-08-11-part2.ipynb",
   "parameters": {},
   "start_time": "2022-02-11T20:08:28.573169",
   "version": "2.3.3"
  }
 },
 "nbformat": 4,
 "nbformat_minor": 5
}