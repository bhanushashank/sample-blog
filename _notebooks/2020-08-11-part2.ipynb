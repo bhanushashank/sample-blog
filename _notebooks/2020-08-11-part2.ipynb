{
 "cells": [
  {
   "cell_type": "markdown",
   "id": "98380cd3",
   "metadata": {
    "papermill": {
     "duration": 0.028487,
     "end_time": "2022-01-10T10:09:33.289258",
     "exception": false,
     "start_time": "2022-01-10T10:09:33.260771",
     "status": "completed"
    },
    "tags": []
   },
   "source": [
    "# Distinguish Your Own Digits (DYOD)"
   ]
  },
  {
   "cell_type": "markdown",
   "id": "ef31240d",
   "metadata": {
    "papermill": {
     "duration": 0.023484,
     "end_time": "2022-01-10T10:09:33.337008",
     "exception": false,
     "start_time": "2022-01-10T10:09:33.313524",
     "status": "completed"
    },
    "tags": []
   },
   "source": [
    "You are going to write a classifier that distinguishes between the number 3 and number 8."
   ]
  },
  {
   "cell_type": "code",
   "execution_count": 1,
   "id": "b15c8646",
   "metadata": {
    "execution": {
     "iopub.execute_input": "2022-01-10T10:09:33.396319Z",
     "iopub.status.busy": "2022-01-10T10:09:33.395754Z",
     "iopub.status.idle": "2022-01-10T10:09:33.405760Z",
     "shell.execute_reply": "2022-01-10T10:09:33.406197Z"
    },
    "papermill": {
     "duration": 0.045833,
     "end_time": "2022-01-10T10:09:33.406336",
     "exception": false,
     "start_time": "2022-01-10T10:09:33.360503",
     "status": "completed"
    },
    "tags": []
   },
   "outputs": [],
   "source": [
    "%load_ext autoreload\n",
    "%autoreload 2"
   ]
  },
  {
   "cell_type": "code",
   "execution_count": 2,
   "id": "22ef38dc",
   "metadata": {
    "execution": {
     "iopub.execute_input": "2022-01-10T10:09:33.458012Z",
     "iopub.status.busy": "2022-01-10T10:09:33.457507Z",
     "iopub.status.idle": "2022-01-10T10:09:34.042608Z",
     "shell.execute_reply": "2022-01-10T10:09:34.042063Z"
    },
    "papermill": {
     "duration": 0.61272,
     "end_time": "2022-01-10T10:09:34.042751",
     "exception": false,
     "start_time": "2022-01-10T10:09:33.430031",
     "status": "completed"
    },
    "tags": []
   },
   "outputs": [],
   "source": [
    "%matplotlib inline\n",
    "import numpy as np\n",
    "import matplotlib.pyplot as plt\n",
    "import pandas as pd"
   ]
  },
  {
   "cell_type": "markdown",
   "id": "ba036198",
   "metadata": {
    "papermill": {
     "duration": 0.024237,
     "end_time": "2022-01-10T10:09:34.091180",
     "exception": false,
     "start_time": "2022-01-10T10:09:34.066943",
     "status": "completed"
    },
    "tags": []
   },
   "source": [
    "From the command line run `pip install mnist`. This is a library that will help you bring down the mnist dataset. If you run this from a notebook, you need to put  `!pip install mnist` in a cell by itself."
   ]
  },
  {
   "cell_type": "code",
   "execution_count": 3,
   "id": "bb6ad8a1",
   "metadata": {
    "execution": {
     "iopub.execute_input": "2022-01-10T10:09:34.145061Z",
     "iopub.status.busy": "2022-01-10T10:09:34.144550Z",
     "iopub.status.idle": "2022-01-10T10:09:35.889952Z",
     "shell.execute_reply": "2022-01-10T10:09:35.890470Z"
    },
    "papermill": {
     "duration": 1.775778,
     "end_time": "2022-01-10T10:09:35.890629",
     "exception": false,
     "start_time": "2022-01-10T10:09:34.114851",
     "status": "completed"
    },
    "tags": []
   },
   "outputs": [
    {
     "name": "stdout",
     "output_type": "stream",
     "text": [
      "Collecting mnist\r\n"
     ]
    },
    {
     "name": "stdout",
     "output_type": "stream",
     "text": [
      "  Downloading mnist-0.2.2-py2.py3-none-any.whl (3.5 kB)\r\n",
      "Requirement already satisfied: numpy in /opt/hostedtoolcache/Python/3.6.15/x64/lib/python3.6/site-packages (from mnist) (1.19.5)\r\n"
     ]
    },
    {
     "name": "stdout",
     "output_type": "stream",
     "text": [
      "Installing collected packages: mnist\r\n"
     ]
    },
    {
     "name": "stdout",
     "output_type": "stream",
     "text": [
      "Successfully installed mnist-0.2.2\r\n"
     ]
    }
   ],
   "source": [
    "!pip install mnist"
   ]
  },
  {
   "cell_type": "markdown",
   "id": "69df9c9a",
   "metadata": {
    "papermill": {
     "duration": 0.024742,
     "end_time": "2022-01-10T10:09:35.940530",
     "exception": false,
     "start_time": "2022-01-10T10:09:35.915788",
     "status": "completed"
    },
    "tags": []
   },
   "source": [
    "## Preparing the Data"
   ]
  },
  {
   "cell_type": "code",
   "execution_count": 4,
   "id": "7f69d806",
   "metadata": {
    "execution": {
     "iopub.execute_input": "2022-01-10T10:09:36.009049Z",
     "iopub.status.busy": "2022-01-10T10:09:36.005908Z",
     "iopub.status.idle": "2022-01-10T10:09:36.011274Z",
     "shell.execute_reply": "2022-01-10T10:09:36.010861Z"
    },
    "papermill": {
     "duration": 0.046244,
     "end_time": "2022-01-10T10:09:36.011382",
     "exception": false,
     "start_time": "2022-01-10T10:09:35.965138",
     "status": "completed"
    },
    "tags": []
   },
   "outputs": [],
   "source": [
    "import mnist"
   ]
  },
  {
   "cell_type": "code",
   "execution_count": 5,
   "id": "a411e44f",
   "metadata": {
    "execution": {
     "iopub.execute_input": "2022-01-10T10:09:36.067022Z",
     "iopub.status.busy": "2022-01-10T10:09:36.066510Z",
     "iopub.status.idle": "2022-01-10T10:09:36.689609Z",
     "shell.execute_reply": "2022-01-10T10:09:36.690130Z"
    },
    "papermill": {
     "duration": 0.654196,
     "end_time": "2022-01-10T10:09:36.690290",
     "exception": false,
     "start_time": "2022-01-10T10:09:36.036094",
     "status": "completed"
    },
    "tags": []
   },
   "outputs": [],
   "source": [
    "train_images = mnist.train_images()\n",
    "train_labels = mnist.train_labels()"
   ]
  },
  {
   "cell_type": "code",
   "execution_count": 6,
   "id": "dceab3a5",
   "metadata": {
    "execution": {
     "iopub.execute_input": "2022-01-10T10:09:36.747446Z",
     "iopub.status.busy": "2022-01-10T10:09:36.746915Z",
     "iopub.status.idle": "2022-01-10T10:09:36.759517Z",
     "shell.execute_reply": "2022-01-10T10:09:36.759102Z"
    },
    "papermill": {
     "duration": 0.04321,
     "end_time": "2022-01-10T10:09:36.759629",
     "exception": false,
     "start_time": "2022-01-10T10:09:36.716419",
     "status": "completed"
    },
    "tags": []
   },
   "outputs": [
    {
     "data": {
      "text/plain": [
       "((60000, 28, 28), (60000,))"
      ]
     },
     "execution_count": 6,
     "metadata": {},
     "output_type": "execute_result"
    }
   ],
   "source": [
    "train_images.shape, train_labels.shape"
   ]
  },
  {
   "cell_type": "code",
   "execution_count": 7,
   "id": "f50dc2bb",
   "metadata": {
    "execution": {
     "iopub.execute_input": "2022-01-10T10:09:36.812277Z",
     "iopub.status.busy": "2022-01-10T10:09:36.811741Z",
     "iopub.status.idle": "2022-01-10T10:09:37.088947Z",
     "shell.execute_reply": "2022-01-10T10:09:37.088387Z"
    },
    "papermill": {
     "duration": 0.304683,
     "end_time": "2022-01-10T10:09:37.089097",
     "exception": false,
     "start_time": "2022-01-10T10:09:36.784414",
     "status": "completed"
    },
    "tags": []
   },
   "outputs": [],
   "source": [
    "test_images = mnist.test_images()\n",
    "test_labels = mnist.test_labels()"
   ]
  },
  {
   "cell_type": "code",
   "execution_count": 8,
   "id": "fc38cf1b",
   "metadata": {
    "execution": {
     "iopub.execute_input": "2022-01-10T10:09:37.154584Z",
     "iopub.status.busy": "2022-01-10T10:09:37.154071Z",
     "iopub.status.idle": "2022-01-10T10:09:37.160068Z",
     "shell.execute_reply": "2022-01-10T10:09:37.160507Z"
    },
    "papermill": {
     "duration": 0.04634,
     "end_time": "2022-01-10T10:09:37.160630",
     "exception": false,
     "start_time": "2022-01-10T10:09:37.114290",
     "status": "completed"
    },
    "tags": []
   },
   "outputs": [
    {
     "data": {
      "text/plain": [
       "((10000, 28, 28), (10000,))"
      ]
     },
     "execution_count": 8,
     "metadata": {},
     "output_type": "execute_result"
    }
   ],
   "source": [
    "test_images.shape, test_labels.shape"
   ]
  },
  {
   "cell_type": "code",
   "execution_count": 9,
   "id": "f9ed8fe0",
   "metadata": {
    "execution": {
     "iopub.execute_input": "2022-01-10T10:09:37.217323Z",
     "iopub.status.busy": "2022-01-10T10:09:37.213191Z",
     "iopub.status.idle": "2022-01-10T10:09:37.351613Z",
     "shell.execute_reply": "2022-01-10T10:09:37.351118Z"
    },
    "papermill": {
     "duration": 0.166169,
     "end_time": "2022-01-10T10:09:37.351745",
     "exception": false,
     "start_time": "2022-01-10T10:09:37.185576",
     "status": "completed"
    },
    "tags": []
   },
   "outputs": [
    {
     "name": "stdout",
     "output_type": "stream",
     "text": [
      "2\n"
     ]
    },
    {
     "data": {
      "text/plain": [
       "<matplotlib.image.AxesImage at 0x7f5bd946c9b0>"
      ]
     },
     "execution_count": 9,
     "metadata": {},
     "output_type": "execute_result"
    },
    {
     "data": {
      "image/png": "[encoded data removed]",
      "text/plain": [
       "<Figure size 432x288 with 1 Axes>"
      ]
     },
     "metadata": {
      "needs_background": "light"
     },
     "output_type": "display_data"
    }
   ],
   "source": [
    "image_index = 7776 # You may select anything up to 60,000\n",
    "print(train_labels[image_index]) \n",
    "plt.imshow(train_images[image_index], cmap='Greys')"
   ]
  },
  {
   "cell_type": "markdown",
   "id": "a8d2388d",
   "metadata": {
    "papermill": {
     "duration": 0.026541,
     "end_time": "2022-01-10T10:09:37.404779",
     "exception": false,
     "start_time": "2022-01-10T10:09:37.378238",
     "status": "completed"
    },
    "tags": []
   },
   "source": [
    "## Filter data to get 3 and 8 out"
   ]
  },
  {
   "cell_type": "code",
   "execution_count": 10,
   "id": "776f7fc7",
   "metadata": {
    "execution": {
     "iopub.execute_input": "2022-01-10T10:09:37.460766Z",
     "iopub.status.busy": "2022-01-10T10:09:37.460246Z",
     "iopub.status.idle": "2022-01-10T10:09:37.479375Z",
     "shell.execute_reply": "2022-01-10T10:09:37.478890Z"
    },
    "papermill": {
     "duration": 0.048799,
     "end_time": "2022-01-10T10:09:37.479502",
     "exception": false,
     "start_time": "2022-01-10T10:09:37.430703",
     "status": "completed"
    },
    "tags": []
   },
   "outputs": [],
   "source": [
    "train_filter = np.where((train_labels == 3 ) | (train_labels == 8))\n",
    "test_filter = np.where((test_labels == 3) | (test_labels == 8))\n",
    "X_train, y_train = train_images[train_filter], train_labels[train_filter]\n",
    "X_test, y_test = test_images[test_filter], test_labels[test_filter]"
   ]
  },
  {
   "cell_type": "markdown",
   "id": "948f0b7e",
   "metadata": {
    "papermill": {
     "duration": 0.025898,
     "end_time": "2022-01-10T10:09:37.532393",
     "exception": false,
     "start_time": "2022-01-10T10:09:37.506495",
     "status": "completed"
    },
    "tags": []
   },
   "source": [
    "We normalize the pizel values in the 0 to 1 range"
   ]
  },
  {
   "cell_type": "code",
   "execution_count": 11,
   "id": "ee4c2166",
   "metadata": {
    "execution": {
     "iopub.execute_input": "2022-01-10T10:09:37.589058Z",
     "iopub.status.busy": "2022-01-10T10:09:37.588549Z",
     "iopub.status.idle": "2022-01-10T10:09:37.634798Z",
     "shell.execute_reply": "2022-01-10T10:09:37.634264Z"
    },
    "papermill": {
     "duration": 0.076765,
     "end_time": "2022-01-10T10:09:37.634943",
     "exception": false,
     "start_time": "2022-01-10T10:09:37.558178",
     "status": "completed"
    },
    "tags": []
   },
   "outputs": [],
   "source": [
    "X_train = X_train/255.\n",
    "X_test = X_test/255."
   ]
  },
  {
   "cell_type": "markdown",
   "id": "ddcf4fab",
   "metadata": {
    "papermill": {
     "duration": 0.026324,
     "end_time": "2022-01-10T10:09:37.687938",
     "exception": false,
     "start_time": "2022-01-10T10:09:37.661614",
     "status": "completed"
    },
    "tags": []
   },
   "source": [
    "And setup the labels as 1 (when the digit is 3) and 0 (when the digit is 8)"
   ]
  },
  {
   "cell_type": "code",
   "execution_count": 12,
   "id": "7dc908f2",
   "metadata": {
    "execution": {
     "iopub.execute_input": "2022-01-10T10:09:37.745006Z",
     "iopub.status.busy": "2022-01-10T10:09:37.744487Z",
     "iopub.status.idle": "2022-01-10T10:09:37.755488Z",
     "shell.execute_reply": "2022-01-10T10:09:37.755052Z"
    },
    "papermill": {
     "duration": 0.04161,
     "end_time": "2022-01-10T10:09:37.755597",
     "exception": false,
     "start_time": "2022-01-10T10:09:37.713987",
     "status": "completed"
    },
    "tags": []
   },
   "outputs": [],
   "source": [
    "y_train = 1*(y_train==3)\n",
    "y_test = 1*(y_test==3)"
   ]
  },
  {
   "cell_type": "code",
   "execution_count": 13,
   "id": "01e4e969",
   "metadata": {
    "execution": {
     "iopub.execute_input": "2022-01-10T10:09:37.825534Z",
     "iopub.status.busy": "2022-01-10T10:09:37.818218Z",
     "iopub.status.idle": "2022-01-10T10:09:37.830197Z",
     "shell.execute_reply": "2022-01-10T10:09:37.829760Z"
    },
    "papermill": {
     "duration": 0.048554,
     "end_time": "2022-01-10T10:09:37.830305",
     "exception": false,
     "start_time": "2022-01-10T10:09:37.781751",
     "status": "completed"
    },
    "tags": []
   },
   "outputs": [
    {
     "data": {
      "text/plain": [
       "((11982, 28, 28), (1984, 28, 28))"
      ]
     },
     "execution_count": 13,
     "metadata": {},
     "output_type": "execute_result"
    }
   ],
   "source": [
    "X_train.shape, X_test.shape"
   ]
  },
  {
   "cell_type": "markdown",
   "id": "5ccf3f85",
   "metadata": {
    "papermill": {
     "duration": 0.026079,
     "end_time": "2022-01-10T10:09:37.882682",
     "exception": false,
     "start_time": "2022-01-10T10:09:37.856603",
     "status": "completed"
    },
    "tags": []
   },
   "source": [
    "We reshape the data to flatten the image pixels into a set of features or co-variates:"
   ]
  },
  {
   "cell_type": "code",
   "execution_count": 14,
   "id": "5286a4a3",
   "metadata": {
    "execution": {
     "iopub.execute_input": "2022-01-10T10:09:37.945511Z",
     "iopub.status.busy": "2022-01-10T10:09:37.944979Z",
     "iopub.status.idle": "2022-01-10T10:09:37.954626Z",
     "shell.execute_reply": "2022-01-10T10:09:37.954218Z"
    },
    "papermill": {
     "duration": 0.045726,
     "end_time": "2022-01-10T10:09:37.954734",
     "exception": false,
     "start_time": "2022-01-10T10:09:37.909008",
     "status": "completed"
    },
    "tags": []
   },
   "outputs": [
    {
     "data": {
      "text/plain": [
       "((11982, 784), (1984, 784))"
      ]
     },
     "execution_count": 14,
     "metadata": {},
     "output_type": "execute_result"
    }
   ],
   "source": [
    "X_train = X_train.reshape(X_train.shape[0], -1)\n",
    "X_test = X_test.reshape(X_test.shape[0], -1)\n",
    "X_train.shape, X_test.shape"
   ]
  },
  {
   "cell_type": "code",
   "execution_count": 15,
   "id": "73c5f88a",
   "metadata": {
    "execution": {
     "iopub.execute_input": "2022-01-10T10:09:38.013011Z",
     "iopub.status.busy": "2022-01-10T10:09:38.012501Z",
     "iopub.status.idle": "2022-01-10T10:09:38.029736Z",
     "shell.execute_reply": "2022-01-10T10:09:38.029326Z"
    },
    "papermill": {
     "duration": 0.048552,
     "end_time": "2022-01-10T10:09:38.029844",
     "exception": false,
     "start_time": "2022-01-10T10:09:37.981292",
     "status": "completed"
    },
    "tags": []
   },
   "outputs": [],
   "source": [
    "#Impoting functions from 'Kudzu'\n",
    "from kudzu.model import Model\n",
    "from kudzu.train import Learner\n",
    "from kudzu.optim import GD\n",
    "from kudzu.data import Data, Sampler,Dataloader\n",
    "\n",
    "from kudzu.callbacks import AccCallback\n",
    "from kudzu.callbacks import ClfCallback\n",
    "\n",
    "from kudzu.loss import MSE\n",
    "\n",
    "from kudzu.layer import Sigmoid,Relu\n",
    "from kudzu.layer import Affine"
   ]
  },
  {
   "cell_type": "markdown",
   "id": "bc01172a",
   "metadata": {
    "papermill": {
     "duration": 0.026347,
     "end_time": "2022-01-10T10:09:38.082829",
     "exception": false,
     "start_time": "2022-01-10T10:09:38.056482",
     "status": "completed"
    },
    "tags": []
   },
   "source": [
    "### Let us create a `Config` class, to store important parameters. \n",
    "This class essentially plays the role of a dictionary."
   ]
  },
  {
   "cell_type": "code",
   "execution_count": 16,
   "id": "978281aa",
   "metadata": {
    "execution": {
     "iopub.execute_input": "2022-01-10T10:09:38.139141Z",
     "iopub.status.busy": "2022-01-10T10:09:38.138633Z",
     "iopub.status.idle": "2022-01-10T10:09:38.150456Z",
     "shell.execute_reply": "2022-01-10T10:09:38.150889Z"
    },
    "papermill": {
     "duration": 0.041674,
     "end_time": "2022-01-10T10:09:38.151007",
     "exception": false,
     "start_time": "2022-01-10T10:09:38.109333",
     "status": "completed"
    },
    "tags": []
   },
   "outputs": [],
   "source": [
    "class Config:\n",
    "    pass\n",
    "config = Config()\n",
    "config.lr = 0.001\n",
    "config.num_epochs = 250\n",
    "config.bs = 50"
   ]
  },
  {
   "cell_type": "markdown",
   "id": "1385fa59",
   "metadata": {
    "papermill": {
     "duration": 0.026299,
     "end_time": "2022-01-10T10:09:38.203911",
     "exception": false,
     "start_time": "2022-01-10T10:09:38.177612",
     "status": "completed"
    },
    "tags": []
   },
   "source": [
    "### Running Models with the Training data\n",
    "Details about the network layers:\n",
    "- A first affine layer has 784 inputs and does 100 affine transforms. These are followed by a Relu\n",
    "- A second affine layer has 100 inputs from the 100 activations of the past layer, and does 100 affine transforms. These are followed by a Relu\n",
    "- A third affine layer has 100 activations and does 2 affine transformations to create an embedding for visualization. There is no non-linearity here.\n",
    "- A final \"logistic regression\" which has an affine transform from 2 inputs to 1 output, which is squeezed through a sigmoid.\n"
   ]
  },
  {
   "cell_type": "code",
   "execution_count": 17,
   "id": "2b9c66db",
   "metadata": {
    "execution": {
     "iopub.execute_input": "2022-01-10T10:09:38.272486Z",
     "iopub.status.busy": "2022-01-10T10:09:38.265498Z",
     "iopub.status.idle": "2022-01-10T10:09:38.276577Z",
     "shell.execute_reply": "2022-01-10T10:09:38.276146Z"
    },
    "papermill": {
     "duration": 0.046285,
     "end_time": "2022-01-10T10:09:38.276676",
     "exception": false,
     "start_time": "2022-01-10T10:09:38.230391",
     "status": "completed"
    },
    "tags": []
   },
   "outputs": [],
   "source": [
    "data = Data(X_train, y_train.reshape(-1,1))\n",
    "sampler = Sampler(data, config.bs, shuffle=True)\n",
    "\n",
    "dl = Dataloader(data, sampler)\n",
    "\n",
    "opt = GD(config.lr)\n",
    "loss = MSE()"
   ]
  },
  {
   "cell_type": "code",
   "execution_count": 18,
   "id": "b275e4c2",
   "metadata": {
    "execution": {
     "iopub.execute_input": "2022-01-10T10:09:38.336628Z",
     "iopub.status.busy": "2022-01-10T10:09:38.336105Z",
     "iopub.status.idle": "2022-01-10T10:09:38.346784Z",
     "shell.execute_reply": "2022-01-10T10:09:38.347171Z"
    },
    "papermill": {
     "duration": 0.044025,
     "end_time": "2022-01-10T10:09:38.347294",
     "exception": false,
     "start_time": "2022-01-10T10:09:38.303269",
     "status": "completed"
    },
    "tags": []
   },
   "outputs": [],
   "source": [
    "training_data_x = X_train\n",
    "testing_data_x = X_test\n",
    "training_data_y = y_train.reshape(-1,1)\n",
    "testing_data_y = y_test.reshape(-1,1)"
   ]
  },
  {
   "cell_type": "code",
   "execution_count": 19,
   "id": "76951160",
   "metadata": {
    "execution": {
     "iopub.execute_input": "2022-01-10T10:09:38.416535Z",
     "iopub.status.busy": "2022-01-10T10:09:38.408470Z",
     "iopub.status.idle": "2022-01-10T10:09:38.421634Z",
     "shell.execute_reply": "2022-01-10T10:09:38.421203Z"
    },
    "papermill": {
     "duration": 0.047989,
     "end_time": "2022-01-10T10:09:38.421740",
     "exception": false,
     "start_time": "2022-01-10T10:09:38.373751",
     "status": "completed"
    },
    "tags": []
   },
   "outputs": [
    {
     "name": "stdout",
     "output_type": "stream",
     "text": [
      "xavier\n",
      "xavier\n",
      "xavier\n",
      "xavier\n",
      "xavier\n"
     ]
    }
   ],
   "source": [
    "layers = [Affine(\"first\", 784, 100), Relu(\"first\"), Affine(\"second\", 100, 100), Relu(\"second\"), Affine(\"third\", 100, 2), Affine(\"last\", 2, 1), Sigmoid(\"last\")]\n",
    "model_nn = Model(layers)\n",
    "model_lr = Model([Affine(\"logits\", 784, 1), Sigmoid(\"sigmoid\")])"
   ]
  },
  {
   "cell_type": "code",
   "execution_count": 20,
   "id": "6eede77a",
   "metadata": {
    "execution": {
     "iopub.execute_input": "2022-01-10T10:09:38.481268Z",
     "iopub.status.busy": "2022-01-10T10:09:38.480771Z",
     "iopub.status.idle": "2022-01-10T10:09:38.491249Z",
     "shell.execute_reply": "2022-01-10T10:09:38.490816Z"
    },
    "papermill": {
     "duration": 0.042632,
     "end_time": "2022-01-10T10:09:38.491353",
     "exception": false,
     "start_time": "2022-01-10T10:09:38.448721",
     "status": "completed"
    },
    "tags": []
   },
   "outputs": [],
   "source": [
    "nn_learner = Learner(loss, model_nn, opt, config.num_epochs)\n",
    "acc_nn = ClfCallback(nn_learner, config.bs, training_data_x , testing_data_x, training_data_y, testing_data_y)\n",
    "nn_learner.set_callbacks([acc_nn])"
   ]
  },
  {
   "cell_type": "code",
   "execution_count": 21,
   "id": "877b6cc7",
   "metadata": {
    "execution": {
     "iopub.execute_input": "2022-01-10T10:09:38.548436Z",
     "iopub.status.busy": "2022-01-10T10:09:38.547922Z",
     "iopub.status.idle": "2022-01-10T10:09:38.559170Z",
     "shell.execute_reply": "2022-01-10T10:09:38.559575Z"
    },
    "papermill": {
     "duration": 0.041515,
     "end_time": "2022-01-10T10:09:38.559694",
     "exception": false,
     "start_time": "2022-01-10T10:09:38.518179",
     "status": "completed"
    },
    "tags": []
   },
   "outputs": [],
   "source": [
    "lr_learner = Learner(loss, model_lr, opt, config.num_epochs)\n",
    "acc_lr = ClfCallback(lr_learner, config.bs, training_data_x , testing_data_x, training_data_y, testing_data_y)\n",
    "lr_learner.set_callbacks([acc_lr])"
   ]
  },
  {
   "cell_type": "code",
   "execution_count": 22,
   "id": "d9b133c3",
   "metadata": {
    "execution": {
     "iopub.execute_input": "2022-01-10T10:09:38.618234Z",
     "iopub.status.busy": "2022-01-10T10:09:38.617636Z",
     "iopub.status.idle": "2022-01-10T10:10:54.608046Z",
     "shell.execute_reply": "2022-01-10T10:10:54.608805Z"
    },
    "papermill": {
     "duration": 76.022419,
     "end_time": "2022-01-10T10:10:54.608963",
     "exception": false,
     "start_time": "2022-01-10T10:09:38.586544",
     "status": "completed"
    },
    "tags": []
   },
   "outputs": [
    {
     "name": "stdout",
     "output_type": "stream",
     "text": [
      "Epoch 0, Loss 0.2496\n",
      "Training Accuracy: 0.6521, Testing Accuracy: 0.6557\n",
      "\n"
     ]
    },
    {
     "name": "stdout",
     "output_type": "stream",
     "text": [
      "Epoch 10, Loss 0.0868\n",
      "Training Accuracy: 0.9182, Testing Accuracy: 0.9289\n",
      "\n"
     ]
    },
    {
     "name": "stdout",
     "output_type": "stream",
     "text": [
      "Epoch 20, Loss 0.0529\n",
      "Training Accuracy: 0.9470, Testing Accuracy: 0.9561\n",
      "\n"
     ]
    },
    {
     "name": "stdout",
     "output_type": "stream",
     "text": [
      "Epoch 30, Loss 0.0418\n",
      "Training Accuracy: 0.9547, Testing Accuracy: 0.9642\n",
      "\n"
     ]
    },
    {
     "name": "stdout",
     "output_type": "stream",
     "text": [
      "Epoch 40, Loss 0.0364\n",
      "Training Accuracy: 0.9601, Testing Accuracy: 0.9667\n",
      "\n"
     ]
    },
    {
     "name": "stdout",
     "output_type": "stream",
     "text": [
      "Epoch 50, Loss 0.0332\n",
      "Training Accuracy: 0.9636, Testing Accuracy: 0.9677\n",
      "\n"
     ]
    },
    {
     "name": "stdout",
     "output_type": "stream",
     "text": [
      "Epoch 60, Loss 0.0309\n",
      "Training Accuracy: 0.9657, Testing Accuracy: 0.9698\n",
      "\n"
     ]
    },
    {
     "name": "stdout",
     "output_type": "stream",
     "text": [
      "Epoch 70, Loss 0.0293\n",
      "Training Accuracy: 0.9670, Testing Accuracy: 0.9703\n",
      "\n"
     ]
    },
    {
     "name": "stdout",
     "output_type": "stream",
     "text": [
      "Epoch 80, Loss 0.028\n",
      "Training Accuracy: 0.9680, Testing Accuracy: 0.9708\n",
      "\n"
     ]
    },
    {
     "name": "stdout",
     "output_type": "stream",
     "text": [
      "Epoch 90, Loss 0.0269\n",
      "Training Accuracy: 0.9694, Testing Accuracy: 0.9718\n",
      "\n"
     ]
    },
    {
     "name": "stdout",
     "output_type": "stream",
     "text": [
      "Epoch 100, Loss 0.026\n",
      "Training Accuracy: 0.9699, Testing Accuracy: 0.9723\n",
      "\n"
     ]
    },
    {
     "name": "stdout",
     "output_type": "stream",
     "text": [
      "Epoch 110, Loss 0.0252\n",
      "Training Accuracy: 0.9710, Testing Accuracy: 0.9723\n",
      "\n"
     ]
    },
    {
     "name": "stdout",
     "output_type": "stream",
     "text": [
      "Epoch 120, Loss 0.0245\n",
      "Training Accuracy: 0.9717, Testing Accuracy: 0.9718\n",
      "\n"
     ]
    },
    {
     "name": "stdout",
     "output_type": "stream",
     "text": [
      "Epoch 130, Loss 0.0238\n",
      "Training Accuracy: 0.9724, Testing Accuracy: 0.9708\n",
      "\n"
     ]
    },
    {
     "name": "stdout",
     "output_type": "stream",
     "text": [
      "Epoch 140, Loss 0.0232\n",
      "Training Accuracy: 0.9735, Testing Accuracy: 0.9698\n",
      "\n"
     ]
    },
    {
     "name": "stdout",
     "output_type": "stream",
     "text": [
      "Epoch 150, Loss 0.0227\n",
      "Training Accuracy: 0.9740, Testing Accuracy: 0.9693\n",
      "\n"
     ]
    },
    {
     "name": "stdout",
     "output_type": "stream",
     "text": [
      "Epoch 160, Loss 0.0222\n",
      "Training Accuracy: 0.9747, Testing Accuracy: 0.9693\n",
      "\n"
     ]
    },
    {
     "name": "stdout",
     "output_type": "stream",
     "text": [
      "Epoch 170, Loss 0.0217\n",
      "Training Accuracy: 0.9757, Testing Accuracy: 0.9693\n",
      "\n"
     ]
    },
    {
     "name": "stdout",
     "output_type": "stream",
     "text": [
      "Epoch 180, Loss 0.0212\n",
      "Training Accuracy: 0.9760, Testing Accuracy: 0.9698\n",
      "\n"
     ]
    },
    {
     "name": "stdout",
     "output_type": "stream",
     "text": [
      "Epoch 190, Loss 0.0208\n",
      "Training Accuracy: 0.9768, Testing Accuracy: 0.9698\n",
      "\n"
     ]
    },
    {
     "name": "stdout",
     "output_type": "stream",
     "text": [
      "Epoch 200, Loss 0.0203\n",
      "Training Accuracy: 0.9772, Testing Accuracy: 0.9698\n",
      "\n"
     ]
    },
    {
     "name": "stdout",
     "output_type": "stream",
     "text": [
      "Epoch 210, Loss 0.0199\n",
      "Training Accuracy: 0.9778, Testing Accuracy: 0.9698\n",
      "\n"
     ]
    },
    {
     "name": "stdout",
     "output_type": "stream",
     "text": [
      "Epoch 220, Loss 0.0195\n",
      "Training Accuracy: 0.9783, Testing Accuracy: 0.9708\n",
      "\n"
     ]
    },
    {
     "name": "stdout",
     "output_type": "stream",
     "text": [
      "Epoch 230, Loss 0.0192\n",
      "Training Accuracy: 0.9788, Testing Accuracy: 0.9708\n",
      "\n"
     ]
    },
    {
     "name": "stdout",
     "output_type": "stream",
     "text": [
      "Epoch 240, Loss 0.0188\n",
      "Training Accuracy: 0.9793, Testing Accuracy: 0.9713\n",
      "\n"
     ]
    },
    {
     "data": {
      "text/plain": [
       "0.0020484752543733524"
      ]
     },
     "execution_count": 22,
     "metadata": {},
     "output_type": "execute_result"
    }
   ],
   "source": [
    "nn_learner.train_loop(dl)"
   ]
  },
  {
   "cell_type": "code",
   "execution_count": 23,
   "id": "e0163366",
   "metadata": {
    "execution": {
     "iopub.execute_input": "2022-01-10T10:10:54.690560Z",
     "iopub.status.busy": "2022-01-10T10:10:54.690039Z",
     "iopub.status.idle": "2022-01-10T10:11:08.160840Z",
     "shell.execute_reply": "2022-01-10T10:11:08.161585Z"
    },
    "papermill": {
     "duration": 13.518017,
     "end_time": "2022-01-10T10:11:08.161742",
     "exception": false,
     "start_time": "2022-01-10T10:10:54.643725",
     "status": "completed"
    },
    "tags": []
   },
   "outputs": [
    {
     "name": "stdout",
     "output_type": "stream",
     "text": [
      "Epoch 0, Loss 0.2215\n",
      "Training Accuracy: 0.7401, Testing Accuracy: 0.7676\n",
      "\n"
     ]
    },
    {
     "name": "stdout",
     "output_type": "stream",
     "text": [
      "Epoch 10, Loss 0.1023\n",
      "Training Accuracy: 0.9044, Testing Accuracy: 0.9093\n",
      "\n"
     ]
    },
    {
     "name": "stdout",
     "output_type": "stream",
     "text": [
      "Epoch 20, Loss 0.0802\n",
      "Training Accuracy: 0.9231, Testing Accuracy: 0.9304\n",
      "\n"
     ]
    },
    {
     "name": "stdout",
     "output_type": "stream",
     "text": [
      "Epoch 30, Loss 0.0694\n",
      "Training Accuracy: 0.9323, Testing Accuracy: 0.9410\n",
      "\n"
     ]
    },
    {
     "name": "stdout",
     "output_type": "stream",
     "text": [
      "Epoch 40, Loss 0.0628\n",
      "Training Accuracy: 0.9385, Testing Accuracy: 0.9481\n",
      "\n"
     ]
    },
    {
     "name": "stdout",
     "output_type": "stream",
     "text": [
      "Epoch 50, Loss 0.0582\n",
      "Training Accuracy: 0.9433, Testing Accuracy: 0.9521\n",
      "\n"
     ]
    },
    {
     "name": "stdout",
     "output_type": "stream",
     "text": [
      "Epoch 60, Loss 0.0548\n",
      "Training Accuracy: 0.9465, Testing Accuracy: 0.9556\n",
      "\n"
     ]
    },
    {
     "name": "stdout",
     "output_type": "stream",
     "text": [
      "Epoch 70, Loss 0.0522\n",
      "Training Accuracy: 0.9483, Testing Accuracy: 0.9567\n",
      "\n"
     ]
    },
    {
     "name": "stdout",
     "output_type": "stream",
     "text": [
      "Epoch 80, Loss 0.0501\n",
      "Training Accuracy: 0.9493, Testing Accuracy: 0.9577\n",
      "\n"
     ]
    },
    {
     "name": "stdout",
     "output_type": "stream",
     "text": [
      "Epoch 90, Loss 0.0483\n",
      "Training Accuracy: 0.9513, Testing Accuracy: 0.9587\n",
      "\n"
     ]
    },
    {
     "name": "stdout",
     "output_type": "stream",
     "text": [
      "Epoch 100, Loss 0.0469\n",
      "Training Accuracy: 0.9525, Testing Accuracy: 0.9597\n",
      "\n"
     ]
    },
    {
     "name": "stdout",
     "output_type": "stream",
     "text": [
      "Epoch 110, Loss 0.0456\n",
      "Training Accuracy: 0.9535, Testing Accuracy: 0.9607\n",
      "\n"
     ]
    },
    {
     "name": "stdout",
     "output_type": "stream",
     "text": [
      "Epoch 120, Loss 0.0445\n",
      "Training Accuracy: 0.9544, Testing Accuracy: 0.9617\n",
      "\n"
     ]
    },
    {
     "name": "stdout",
     "output_type": "stream",
     "text": [
      "Epoch 130, Loss 0.0435\n",
      "Training Accuracy: 0.9554, Testing Accuracy: 0.9617\n",
      "\n"
     ]
    },
    {
     "name": "stdout",
     "output_type": "stream",
     "text": [
      "Epoch 140, Loss 0.0427\n",
      "Training Accuracy: 0.9560, Testing Accuracy: 0.9642\n",
      "\n"
     ]
    },
    {
     "name": "stdout",
     "output_type": "stream",
     "text": [
      "Epoch 150, Loss 0.0419\n",
      "Training Accuracy: 0.9565, Testing Accuracy: 0.9642\n",
      "\n"
     ]
    },
    {
     "name": "stdout",
     "output_type": "stream",
     "text": [
      "Epoch 160, Loss 0.0412\n",
      "Training Accuracy: 0.9572, Testing Accuracy: 0.9642\n",
      "\n"
     ]
    },
    {
     "name": "stdout",
     "output_type": "stream",
     "text": [
      "Epoch 170, Loss 0.0405\n",
      "Training Accuracy: 0.9580, Testing Accuracy: 0.9657\n",
      "\n"
     ]
    },
    {
     "name": "stdout",
     "output_type": "stream",
     "text": [
      "Epoch 180, Loss 0.04\n",
      "Training Accuracy: 0.9584, Testing Accuracy: 0.9657\n",
      "\n"
     ]
    },
    {
     "name": "stdout",
     "output_type": "stream",
     "text": [
      "Epoch 190, Loss 0.0394\n",
      "Training Accuracy: 0.9587, Testing Accuracy: 0.9662\n",
      "\n"
     ]
    },
    {
     "name": "stdout",
     "output_type": "stream",
     "text": [
      "Epoch 200, Loss 0.0389\n",
      "Training Accuracy: 0.9590, Testing Accuracy: 0.9662\n",
      "\n"
     ]
    },
    {
     "name": "stdout",
     "output_type": "stream",
     "text": [
      "Epoch 210, Loss 0.0385\n",
      "Training Accuracy: 0.9595, Testing Accuracy: 0.9662\n",
      "\n"
     ]
    },
    {
     "name": "stdout",
     "output_type": "stream",
     "text": [
      "Epoch 220, Loss 0.038\n",
      "Training Accuracy: 0.9598, Testing Accuracy: 0.9662\n",
      "\n"
     ]
    },
    {
     "name": "stdout",
     "output_type": "stream",
     "text": [
      "Epoch 230, Loss 0.0376\n",
      "Training Accuracy: 0.9599, Testing Accuracy: 0.9662\n",
      "\n"
     ]
    },
    {
     "name": "stdout",
     "output_type": "stream",
     "text": [
      "Epoch 240, Loss 0.0373\n",
      "Training Accuracy: 0.9602, Testing Accuracy: 0.9662\n",
      "\n"
     ]
    },
    {
     "data": {
      "text/plain": [
       "0.060642149457591256"
      ]
     },
     "execution_count": 23,
     "metadata": {},
     "output_type": "execute_result"
    }
   ],
   "source": [
    "lr_learner.train_loop(dl)"
   ]
  },
  {
   "cell_type": "code",
   "execution_count": 24,
   "id": "ca410940",
   "metadata": {
    "execution": {
     "iopub.execute_input": "2022-01-10T10:11:08.251061Z",
     "iopub.status.busy": "2022-01-10T10:11:08.250540Z",
     "iopub.status.idle": "2022-01-10T10:11:08.479480Z",
     "shell.execute_reply": "2022-01-10T10:11:08.478679Z"
    },
    "papermill": {
     "duration": 0.276803,
     "end_time": "2022-01-10T10:11:08.479625",
     "exception": false,
     "start_time": "2022-01-10T10:11:08.202822",
     "status": "completed"
    },
    "tags": []
   },
   "outputs": [
    {
     "data": {
      "text/plain": [
       "<matplotlib.legend.Legend at 0x7f5bd8fd6a58>"
      ]
     },
     "execution_count": 24,
     "metadata": {},
     "output_type": "execute_result"
    },
    {
     "data": {
      "image/png": "[encoded data removed]",
      "text/plain": [
       "<Figure size 1080x720 with 1 Axes>"
      ]
     },
     "metadata": {
      "needs_background": "light"
     },
     "output_type": "display_data"
    }
   ],
   "source": [
    "#comparing the results of NN and LR\n",
    "plt.figure(figsize=(15,10))\n",
    "\n",
    "# Neural Network plots\n",
    "plt.plot(acc_nn.accuracies, 'r-', label = \"Training Accuracies - NN\")\n",
    "plt.plot(acc_nn.test_accuracies, 'g-', label = \"Testing Accuracies - NN\")\n",
    "\n",
    "# Logistic Regression plots\n",
    "plt.plot(acc_lr.accuracies, 'k-', label = \"Training Accuracies - LR\")\n",
    "plt.plot(acc_lr.test_accuracies, 'b-', label = \"Testing Accuracies - LR\")\n",
    "plt.legend()"
   ]
  },
  {
   "cell_type": "markdown",
   "id": "80dfb35c",
   "metadata": {
    "papermill": {
     "duration": 0.042039,
     "end_time": "2022-01-10T10:11:08.564453",
     "exception": false,
     "start_time": "2022-01-10T10:11:08.522414",
     "status": "completed"
    },
    "tags": []
   },
   "source": [
    "#### Plotting the outputs of this layer of the NN.\n"
   ]
  },
  {
   "cell_type": "code",
   "execution_count": 25,
   "id": "45eb2ff5",
   "metadata": {
    "execution": {
     "iopub.execute_input": "2022-01-10T10:11:08.670634Z",
     "iopub.status.busy": "2022-01-10T10:11:08.670105Z",
     "iopub.status.idle": "2022-01-10T10:11:08.677301Z",
     "shell.execute_reply": "2022-01-10T10:11:08.677714Z"
    },
    "papermill": {
     "duration": 0.071618,
     "end_time": "2022-01-10T10:11:08.677846",
     "exception": false,
     "start_time": "2022-01-10T10:11:08.606228",
     "status": "completed"
    },
    "tags": []
   },
   "outputs": [],
   "source": [
    "new_model = Model(layers[:-2])\n",
    "testing_plot = new_model(testing_data_x)"
   ]
  },
  {
   "cell_type": "code",
   "execution_count": 26,
   "id": "4c0a5485",
   "metadata": {
    "execution": {
     "iopub.execute_input": "2022-01-10T10:11:08.767328Z",
     "iopub.status.busy": "2022-01-10T10:11:08.766802Z",
     "iopub.status.idle": "2022-01-10T10:11:08.949024Z",
     "shell.execute_reply": "2022-01-10T10:11:08.949710Z"
    },
    "papermill": {
     "duration": 0.229902,
     "end_time": "2022-01-10T10:11:08.949850",
     "exception": false,
     "start_time": "2022-01-10T10:11:08.719948",
     "status": "completed"
    },
    "tags": []
   },
   "outputs": [
    {
     "data": {
      "text/plain": [
       "Text(0.5, 1.0, 'Outputs')"
      ]
     },
     "execution_count": 26,
     "metadata": {},
     "output_type": "execute_result"
    },
    {
     "data": {
      "image/png": "[encoded data removed]",
      "text/plain": [
       "<Figure size 576x504 with 1 Axes>"
      ]
     },
     "metadata": {
      "needs_background": "light"
     },
     "output_type": "display_data"
    }
   ],
   "source": [
    "# Plotting the scatter plot of points and color coding by class\n",
    "plt.figure(figsize=(8,7))\n",
    "plt.scatter(testing_plot[:,0], testing_plot[:,1], alpha = 0.1, c = y_test.ravel());\n",
    "plt.title('Outputs')"
   ]
  },
  {
   "cell_type": "markdown",
   "id": "a74fcf8f",
   "metadata": {
    "papermill": {
     "duration": 0.043219,
     "end_time": "2022-01-10T10:11:09.036809",
     "exception": false,
     "start_time": "2022-01-10T10:11:08.993590",
     "status": "completed"
    },
    "tags": []
   },
   "source": [
    "Probability contours"
   ]
  },
  {
   "cell_type": "code",
   "execution_count": 27,
   "id": "d0afc8e3",
   "metadata": {
    "execution": {
     "iopub.execute_input": "2022-01-10T10:11:09.139643Z",
     "iopub.status.busy": "2022-01-10T10:11:09.138863Z",
     "iopub.status.idle": "2022-01-10T10:11:09.145124Z",
     "shell.execute_reply": "2022-01-10T10:11:09.144439Z"
    },
    "papermill": {
     "duration": 0.065003,
     "end_time": "2022-01-10T10:11:09.145241",
     "exception": false,
     "start_time": "2022-01-10T10:11:09.080238",
     "status": "completed"
    },
    "tags": []
   },
   "outputs": [],
   "source": [
    "model_prob = Model(layers[-2:]) "
   ]
  },
  {
   "cell_type": "code",
   "execution_count": 28,
   "id": "9b96e238",
   "metadata": {
    "execution": {
     "iopub.execute_input": "2022-01-10T10:11:09.269076Z",
     "iopub.status.busy": "2022-01-10T10:11:09.268556Z",
     "iopub.status.idle": "2022-01-10T10:11:09.280905Z",
     "shell.execute_reply": "2022-01-10T10:11:09.280480Z"
    },
    "papermill": {
     "duration": 0.09208,
     "end_time": "2022-01-10T10:11:09.281016",
     "exception": false,
     "start_time": "2022-01-10T10:11:09.188936",
     "status": "completed"
    },
    "tags": []
   },
   "outputs": [],
   "source": [
    "#creating the x and y ranges according to the above generated plot.\n",
    "x_range = np.linspace(-4, 1, 100) \n",
    "y_range = np.linspace(-6, 6, 100) \n",
    "x_grid, y_grid = np.meshgrid(x_range, y_range) # x_grid and y_grig are of size 100 X 100\n",
    "\n",
    "# converting x_grid and y_grid to continuous arrays\n",
    "x_gridflat = np.ravel(x_grid)\n",
    "y_gridflat = np.ravel(y_grid)\n",
    "\n",
    "# The last layer of the current model takes two columns as input. Hence transpose of np.vstack() is required.\n",
    "X = np.vstack((x_gridflat, y_gridflat)).T\n",
    "\n",
    "prob_contour = model_prob(X).reshape(100,100) "
   ]
  },
  {
   "cell_type": "code",
   "execution_count": 29,
   "id": "da72499a",
   "metadata": {
    "execution": {
     "iopub.execute_input": "2022-01-10T10:11:09.381249Z",
     "iopub.status.busy": "2022-01-10T10:11:09.380732Z",
     "iopub.status.idle": "2022-01-10T10:11:09.611356Z",
     "shell.execute_reply": "2022-01-10T10:11:09.611767Z"
    },
    "papermill": {
     "duration": 0.286403,
     "end_time": "2022-01-10T10:11:09.611930",
     "exception": false,
     "start_time": "2022-01-10T10:11:09.325527",
     "status": "completed"
    },
    "tags": []
   },
   "outputs": [
    {
     "data": {
      "image/png": "[encoded data removed]",
      "text/plain": [
       "<Figure size 720x648 with 1 Axes>"
      ]
     },
     "metadata": {
      "needs_background": "light"
     },
     "output_type": "display_data"
    }
   ],
   "source": [
    "plt.figure(figsize=(10,9))\n",
    "plt.scatter(testing_plot[:,0], testing_plot[:,1], alpha = 0.1, c = y_test.ravel())\n",
    "contours = plt.contour(x_grid,y_grid,prob_contour)\n",
    "plt.title('Probability Contours')\n",
    "plt.clabel(contours, inline = True );"
   ]
  },
  {
   "cell_type": "code",
   "execution_count": null,
   "id": "e81b4ac7",
   "metadata": {
    "papermill": {
     "duration": 0.046085,
     "end_time": "2022-01-10T10:11:09.704803",
     "exception": false,
     "start_time": "2022-01-10T10:11:09.658718",
     "status": "completed"
    },
    "tags": []
   },
   "outputs": [],
   "source": []
  }
 ],
 "metadata": {
  "kernelspec": {
   "display_name": "Python 3",
   "language": "python",
   "name": "python3"
  },
  "language_info": {
   "codemirror_mode": {
    "name": "ipython",
    "version": 3
   },
   "file_extension": ".py",
   "mimetype": "text/x-python",
   "name": "python",
   "nbconvert_exporter": "python",
   "pygments_lexer": "ipython3",
   "version": "3.6.15"
  },
  "papermill": {
   "default_parameters": {},
   "duration": 97.819994,
   "end_time": "2022-01-10T10:11:10.159429",
   "environment_variables": {},
   "exception": null,
   "input_path": "2020-08-11-part2.ipynb",
   "output_path": "2020-08-11-part2.ipynb",
   "parameters": {},
   "start_time": "2022-01-10T10:09:32.339435",
   "version": "2.3.3"
  }
 },
 "nbformat": 4,
 "nbformat_minor": 5
}