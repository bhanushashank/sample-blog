{
 "cells": [
  {
   "cell_type": "markdown",
   "id": "98380cd3",
   "metadata": {
    "papermill": {
     "duration": 0.028536,
     "end_time": "2021-11-14T00:22:48.663016",
     "exception": false,
     "start_time": "2021-11-14T00:22:48.634480",
     "status": "completed"
    },
    "tags": []
   },
   "source": [
    "# Distinguish Your Own Digits (DYOD)"
   ]
  },
  {
   "cell_type": "markdown",
   "id": "ef31240d",
   "metadata": {
    "papermill": {
     "duration": 0.025969,
     "end_time": "2021-11-14T00:22:48.714293",
     "exception": false,
     "start_time": "2021-11-14T00:22:48.688324",
     "status": "completed"
    },
    "tags": []
   },
   "source": [
    "You are going to write a classifier that distinguishes between the number 3 and number 8."
   ]
  },
  {
   "cell_type": "code",
   "execution_count": 1,
   "id": "b15c8646",
   "metadata": {
    "execution": {
     "iopub.execute_input": "2021-11-14T00:22:48.774517Z",
     "iopub.status.busy": "2021-11-14T00:22:48.773948Z",
     "iopub.status.idle": "2021-11-14T00:22:48.784320Z",
     "shell.execute_reply": "2021-11-14T00:22:48.783833Z"
    },
    "papermill": {
     "duration": 0.045807,
     "end_time": "2021-11-14T00:22:48.784471",
     "exception": false,
     "start_time": "2021-11-14T00:22:48.738664",
     "status": "completed"
    },
    "tags": []
   },
   "outputs": [],
   "source": [
    "%load_ext autoreload\n",
    "%autoreload 2"
   ]
  },
  {
   "cell_type": "code",
   "execution_count": 2,
   "id": "22ef38dc",
   "metadata": {
    "execution": {
     "iopub.execute_input": "2021-11-14T00:22:48.849752Z",
     "iopub.status.busy": "2021-11-14T00:22:48.847712Z",
     "iopub.status.idle": "2021-11-14T00:22:49.396188Z",
     "shell.execute_reply": "2021-11-14T00:22:49.395578Z"
    },
    "papermill": {
     "duration": 0.58733,
     "end_time": "2021-11-14T00:22:49.396339",
     "exception": false,
     "start_time": "2021-11-14T00:22:48.809009",
     "status": "completed"
    },
    "tags": []
   },
   "outputs": [],
   "source": [
    "%matplotlib inline\n",
    "import numpy as np\n",
    "import matplotlib.pyplot as plt\n",
    "import pandas as pd"
   ]
  },
  {
   "cell_type": "markdown",
   "id": "ba036198",
   "metadata": {
    "papermill": {
     "duration": 0.024581,
     "end_time": "2021-11-14T00:22:49.445565",
     "exception": false,
     "start_time": "2021-11-14T00:22:49.420984",
     "status": "completed"
    },
    "tags": []
   },
   "source": [
    "From the command line run `pip install mnist`. This is a library that will help you bring down the mnist dataset. If you run this from a notebook, you need to put  `!pip install mnist` in a cell by itself."
   ]
  },
  {
   "cell_type": "code",
   "execution_count": 3,
   "id": "bb6ad8a1",
   "metadata": {
    "execution": {
     "iopub.execute_input": "2021-11-14T00:22:49.503207Z",
     "iopub.status.busy": "2021-11-14T00:22:49.502627Z",
     "iopub.status.idle": "2021-11-14T00:22:52.054000Z",
     "shell.execute_reply": "2021-11-14T00:22:52.054521Z"
    },
    "papermill": {
     "duration": 2.584555,
     "end_time": "2021-11-14T00:22:52.054688",
     "exception": false,
     "start_time": "2021-11-14T00:22:49.470133",
     "status": "completed"
    },
    "tags": []
   },
   "outputs": [
    {
     "name": "stdout",
     "output_type": "stream",
     "text": [
      "Collecting mnist\r\n"
     ]
    },
    {
     "name": "stdout",
     "output_type": "stream",
     "text": [
      "  Downloading mnist-0.2.2-py2.py3-none-any.whl (3.5 kB)\r\n",
      "Requirement already satisfied: numpy in /opt/hostedtoolcache/Python/3.6.15/x64/lib/python3.6/site-packages (from mnist) (1.19.5)\r\n"
     ]
    },
    {
     "name": "stdout",
     "output_type": "stream",
     "text": [
      "Installing collected packages: mnist\r\n"
     ]
    },
    {
     "name": "stdout",
     "output_type": "stream",
     "text": [
      "Successfully installed mnist-0.2.2\r\n"
     ]
    }
   ],
   "source": [
    "!pip install mnist"
   ]
  },
  {
   "cell_type": "markdown",
   "id": "69df9c9a",
   "metadata": {
    "papermill": {
     "duration": 0.025512,
     "end_time": "2021-11-14T00:22:52.106050",
     "exception": false,
     "start_time": "2021-11-14T00:22:52.080538",
     "status": "completed"
    },
    "tags": []
   },
   "source": [
    "## Preparing the Data"
   ]
  },
  {
   "cell_type": "code",
   "execution_count": 4,
   "id": "7f69d806",
   "metadata": {
    "execution": {
     "iopub.execute_input": "2021-11-14T00:22:52.160824Z",
     "iopub.status.busy": "2021-11-14T00:22:52.160280Z",
     "iopub.status.idle": "2021-11-14T00:22:52.175823Z",
     "shell.execute_reply": "2021-11-14T00:22:52.175382Z"
    },
    "papermill": {
     "duration": 0.044576,
     "end_time": "2021-11-14T00:22:52.175951",
     "exception": false,
     "start_time": "2021-11-14T00:22:52.131375",
     "status": "completed"
    },
    "tags": []
   },
   "outputs": [],
   "source": [
    "import mnist"
   ]
  },
  {
   "cell_type": "code",
   "execution_count": 5,
   "id": "a411e44f",
   "metadata": {
    "execution": {
     "iopub.execute_input": "2021-11-14T00:22:52.231702Z",
     "iopub.status.busy": "2021-11-14T00:22:52.230633Z",
     "iopub.status.idle": "2021-11-14T00:22:52.761768Z",
     "shell.execute_reply": "2021-11-14T00:22:52.762232Z"
    },
    "papermill": {
     "duration": 0.560663,
     "end_time": "2021-11-14T00:22:52.762390",
     "exception": false,
     "start_time": "2021-11-14T00:22:52.201727",
     "status": "completed"
    },
    "tags": []
   },
   "outputs": [],
   "source": [
    "train_images = mnist.train_images()\n",
    "train_labels = mnist.train_labels()"
   ]
  },
  {
   "cell_type": "code",
   "execution_count": 6,
   "id": "dceab3a5",
   "metadata": {
    "execution": {
     "iopub.execute_input": "2021-11-14T00:22:52.817662Z",
     "iopub.status.busy": "2021-11-14T00:22:52.817104Z",
     "iopub.status.idle": "2021-11-14T00:22:52.832254Z",
     "shell.execute_reply": "2021-11-14T00:22:52.832653Z"
    },
    "papermill": {
     "duration": 0.044745,
     "end_time": "2021-11-14T00:22:52.832809",
     "exception": false,
     "start_time": "2021-11-14T00:22:52.788064",
     "status": "completed"
    },
    "tags": []
   },
   "outputs": [
    {
     "data": {
      "text/plain": [
       "((60000, 28, 28), (60000,))"
      ]
     },
     "execution_count": 6,
     "metadata": {},
     "output_type": "execute_result"
    }
   ],
   "source": [
    "train_images.shape, train_labels.shape"
   ]
  },
  {
   "cell_type": "code",
   "execution_count": 7,
   "id": "f50dc2bb",
   "metadata": {
    "execution": {
     "iopub.execute_input": "2021-11-14T00:22:52.888636Z",
     "iopub.status.busy": "2021-11-14T00:22:52.888082Z",
     "iopub.status.idle": "2021-11-14T00:22:53.058134Z",
     "shell.execute_reply": "2021-11-14T00:22:53.057623Z"
    },
    "papermill": {
     "duration": 0.199741,
     "end_time": "2021-11-14T00:22:53.058264",
     "exception": false,
     "start_time": "2021-11-14T00:22:52.858523",
     "status": "completed"
    },
    "tags": []
   },
   "outputs": [],
   "source": [
    "test_images = mnist.test_images()\n",
    "test_labels = mnist.test_labels()"
   ]
  },
  {
   "cell_type": "code",
   "execution_count": 8,
   "id": "fc38cf1b",
   "metadata": {
    "execution": {
     "iopub.execute_input": "2021-11-14T00:22:53.115521Z",
     "iopub.status.busy": "2021-11-14T00:22:53.114465Z",
     "iopub.status.idle": "2021-11-14T00:22:53.128538Z",
     "shell.execute_reply": "2021-11-14T00:22:53.128978Z"
    },
    "papermill": {
     "duration": 0.043988,
     "end_time": "2021-11-14T00:22:53.129125",
     "exception": false,
     "start_time": "2021-11-14T00:22:53.085137",
     "status": "completed"
    },
    "tags": []
   },
   "outputs": [
    {
     "data": {
      "text/plain": [
       "((10000, 28, 28), (10000,))"
      ]
     },
     "execution_count": 8,
     "metadata": {},
     "output_type": "execute_result"
    }
   ],
   "source": [
    "test_images.shape, test_labels.shape"
   ]
  },
  {
   "cell_type": "code",
   "execution_count": 9,
   "id": "f9ed8fe0",
   "metadata": {
    "execution": {
     "iopub.execute_input": "2021-11-14T00:22:53.185161Z",
     "iopub.status.busy": "2021-11-14T00:22:53.184608Z",
     "iopub.status.idle": "2021-11-14T00:22:53.327397Z",
     "shell.execute_reply": "2021-11-14T00:22:53.326888Z"
    },
    "papermill": {
     "duration": 0.172588,
     "end_time": "2021-11-14T00:22:53.327541",
     "exception": false,
     "start_time": "2021-11-14T00:22:53.154953",
     "status": "completed"
    },
    "tags": []
   },
   "outputs": [
    {
     "name": "stdout",
     "output_type": "stream",
     "text": [
      "2\n"
     ]
    },
    {
     "data": {
      "text/plain": [
       "<matplotlib.image.AxesImage at 0x7fa4de4e90b8>"
      ]
     },
     "execution_count": 9,
     "metadata": {},
     "output_type": "execute_result"
    },
    {
     "data": {
      "image/png": "[encoded data removed]",
      "text/plain": [
       "<Figure size 432x288 with 1 Axes>"
      ]
     },
     "metadata": {
      "needs_background": "light"
     },
     "output_type": "display_data"
    }
   ],
   "source": [
    "image_index = 7776 # You may select anything up to 60,000\n",
    "print(train_labels[image_index]) \n",
    "plt.imshow(train_images[image_index], cmap='Greys')"
   ]
  },
  {
   "cell_type": "markdown",
   "id": "a8d2388d",
   "metadata": {
    "papermill": {
     "duration": 0.027513,
     "end_time": "2021-11-14T00:22:53.382696",
     "exception": false,
     "start_time": "2021-11-14T00:22:53.355183",
     "status": "completed"
    },
    "tags": []
   },
   "source": [
    "## Filter data to get 3 and 8 out"
   ]
  },
  {
   "cell_type": "code",
   "execution_count": 10,
   "id": "776f7fc7",
   "metadata": {
    "execution": {
     "iopub.execute_input": "2021-11-14T00:22:53.444205Z",
     "iopub.status.busy": "2021-11-14T00:22:53.443603Z",
     "iopub.status.idle": "2021-11-14T00:22:53.461479Z",
     "shell.execute_reply": "2021-11-14T00:22:53.461019Z"
    },
    "papermill": {
     "duration": 0.052153,
     "end_time": "2021-11-14T00:22:53.461616",
     "exception": false,
     "start_time": "2021-11-14T00:22:53.409463",
     "status": "completed"
    },
    "tags": []
   },
   "outputs": [],
   "source": [
    "train_filter = np.where((train_labels == 3 ) | (train_labels == 8))\n",
    "test_filter = np.where((test_labels == 3) | (test_labels == 8))\n",
    "X_train, y_train = train_images[train_filter], train_labels[train_filter]\n",
    "X_test, y_test = test_images[test_filter], test_labels[test_filter]"
   ]
  },
  {
   "cell_type": "markdown",
   "id": "948f0b7e",
   "metadata": {
    "papermill": {
     "duration": 0.027424,
     "end_time": "2021-11-14T00:22:53.516233",
     "exception": false,
     "start_time": "2021-11-14T00:22:53.488809",
     "status": "completed"
    },
    "tags": []
   },
   "source": [
    "We normalize the pizel values in the 0 to 1 range"
   ]
  },
  {
   "cell_type": "code",
   "execution_count": 11,
   "id": "ee4c2166",
   "metadata": {
    "execution": {
     "iopub.execute_input": "2021-11-14T00:22:53.574268Z",
     "iopub.status.busy": "2021-11-14T00:22:53.573722Z",
     "iopub.status.idle": "2021-11-14T00:22:53.623937Z",
     "shell.execute_reply": "2021-11-14T00:22:53.623034Z"
    },
    "papermill": {
     "duration": 0.081003,
     "end_time": "2021-11-14T00:22:53.624111",
     "exception": false,
     "start_time": "2021-11-14T00:22:53.543108",
     "status": "completed"
    },
    "tags": []
   },
   "outputs": [],
   "source": [
    "X_train = X_train/255.\n",
    "X_test = X_test/255."
   ]
  },
  {
   "cell_type": "markdown",
   "id": "ddcf4fab",
   "metadata": {
    "papermill": {
     "duration": 0.027018,
     "end_time": "2021-11-14T00:22:53.678206",
     "exception": false,
     "start_time": "2021-11-14T00:22:53.651188",
     "status": "completed"
    },
    "tags": []
   },
   "source": [
    "And setup the labels as 1 (when the digit is 3) and 0 (when the digit is 8)"
   ]
  },
  {
   "cell_type": "code",
   "execution_count": 12,
   "id": "7dc908f2",
   "metadata": {
    "execution": {
     "iopub.execute_input": "2021-11-14T00:22:53.749050Z",
     "iopub.status.busy": "2021-11-14T00:22:53.744996Z",
     "iopub.status.idle": "2021-11-14T00:22:53.751906Z",
     "shell.execute_reply": "2021-11-14T00:22:53.751477Z"
    },
    "papermill": {
     "duration": 0.047008,
     "end_time": "2021-11-14T00:22:53.752050",
     "exception": false,
     "start_time": "2021-11-14T00:22:53.705042",
     "status": "completed"
    },
    "tags": []
   },
   "outputs": [],
   "source": [
    "y_train = 1*(y_train==3)\n",
    "y_test = 1*(y_test==3)"
   ]
  },
  {
   "cell_type": "code",
   "execution_count": 13,
   "id": "01e4e969",
   "metadata": {
    "execution": {
     "iopub.execute_input": "2021-11-14T00:22:53.810717Z",
     "iopub.status.busy": "2021-11-14T00:22:53.810183Z",
     "iopub.status.idle": "2021-11-14T00:22:53.822669Z",
     "shell.execute_reply": "2021-11-14T00:22:53.823059Z"
    },
    "papermill": {
     "duration": 0.04396,
     "end_time": "2021-11-14T00:22:53.823208",
     "exception": false,
     "start_time": "2021-11-14T00:22:53.779248",
     "status": "completed"
    },
    "tags": []
   },
   "outputs": [
    {
     "data": {
      "text/plain": [
       "((11982, 28, 28), (1984, 28, 28))"
      ]
     },
     "execution_count": 13,
     "metadata": {},
     "output_type": "execute_result"
    }
   ],
   "source": [
    "X_train.shape, X_test.shape"
   ]
  },
  {
   "cell_type": "markdown",
   "id": "5ccf3f85",
   "metadata": {
    "papermill": {
     "duration": 0.027,
     "end_time": "2021-11-14T00:22:53.877322",
     "exception": false,
     "start_time": "2021-11-14T00:22:53.850322",
     "status": "completed"
    },
    "tags": []
   },
   "source": [
    "We reshape the data to flatten the image pixels into a set of features or co-variates:"
   ]
  },
  {
   "cell_type": "code",
   "execution_count": 14,
   "id": "5286a4a3",
   "metadata": {
    "execution": {
     "iopub.execute_input": "2021-11-14T00:22:53.944315Z",
     "iopub.status.busy": "2021-11-14T00:22:53.943687Z",
     "iopub.status.idle": "2021-11-14T00:22:53.953159Z",
     "shell.execute_reply": "2021-11-14T00:22:53.953554Z"
    },
    "papermill": {
     "duration": 0.048461,
     "end_time": "2021-11-14T00:22:53.953707",
     "exception": false,
     "start_time": "2021-11-14T00:22:53.905246",
     "status": "completed"
    },
    "tags": []
   },
   "outputs": [
    {
     "data": {
      "text/plain": [
       "((11982, 784), (1984, 784))"
      ]
     },
     "execution_count": 14,
     "metadata": {},
     "output_type": "execute_result"
    }
   ],
   "source": [
    "X_train = X_train.reshape(X_train.shape[0], -1)\n",
    "X_test = X_test.reshape(X_test.shape[0], -1)\n",
    "X_train.shape, X_test.shape"
   ]
  },
  {
   "cell_type": "code",
   "execution_count": 15,
   "id": "73c5f88a",
   "metadata": {
    "execution": {
     "iopub.execute_input": "2021-11-14T00:22:54.017510Z",
     "iopub.status.busy": "2021-11-14T00:22:54.016952Z",
     "iopub.status.idle": "2021-11-14T00:22:54.038293Z",
     "shell.execute_reply": "2021-11-14T00:22:54.037788Z"
    },
    "papermill": {
     "duration": 0.057257,
     "end_time": "2021-11-14T00:22:54.038437",
     "exception": false,
     "start_time": "2021-11-14T00:22:53.981180",
     "status": "completed"
    },
    "tags": []
   },
   "outputs": [],
   "source": [
    "#Impoting functions from 'Kudzu'\n",
    "from kudzu.model import Model\n",
    "from kudzu.train import Learner\n",
    "from kudzu.optim import GD\n",
    "from kudzu.data import Data, Sampler,Dataloader\n",
    "\n",
    "from kudzu.callbacks import AccCallback\n",
    "from kudzu.callbacks import ClfCallback\n",
    "\n",
    "from kudzu.loss import MSE\n",
    "\n",
    "from kudzu.layer import Sigmoid,Relu\n",
    "from kudzu.layer import Affine"
   ]
  },
  {
   "cell_type": "markdown",
   "id": "bc01172a",
   "metadata": {
    "papermill": {
     "duration": 0.027259,
     "end_time": "2021-11-14T00:22:54.093897",
     "exception": false,
     "start_time": "2021-11-14T00:22:54.066638",
     "status": "completed"
    },
    "tags": []
   },
   "source": [
    "### Let us create a `Config` class, to store important parameters. \n",
    "This class essentially plays the role of a dictionary."
   ]
  },
  {
   "cell_type": "code",
   "execution_count": 16,
   "id": "978281aa",
   "metadata": {
    "execution": {
     "iopub.execute_input": "2021-11-14T00:22:54.152512Z",
     "iopub.status.busy": "2021-11-14T00:22:54.151914Z",
     "iopub.status.idle": "2021-11-14T00:22:54.164975Z",
     "shell.execute_reply": "2021-11-14T00:22:54.164545Z"
    },
    "papermill": {
     "duration": 0.043871,
     "end_time": "2021-11-14T00:22:54.165100",
     "exception": false,
     "start_time": "2021-11-14T00:22:54.121229",
     "status": "completed"
    },
    "tags": []
   },
   "outputs": [],
   "source": [
    "class Config:\n",
    "    pass\n",
    "config = Config()\n",
    "config.lr = 0.001\n",
    "config.num_epochs = 250\n",
    "config.bs = 50"
   ]
  },
  {
   "cell_type": "markdown",
   "id": "1385fa59",
   "metadata": {
    "papermill": {
     "duration": 0.02733,
     "end_time": "2021-11-14T00:22:54.220094",
     "exception": false,
     "start_time": "2021-11-14T00:22:54.192764",
     "status": "completed"
    },
    "tags": []
   },
   "source": [
    "### Running Models with the Training data\n",
    "Details about the network layers:\n",
    "- A first affine layer has 784 inputs and does 100 affine transforms. These are followed by a Relu\n",
    "- A second affine layer has 100 inputs from the 100 activations of the past layer, and does 100 affine transforms. These are followed by a Relu\n",
    "- A third affine layer has 100 activations and does 2 affine transformations to create an embedding for visualization. There is no non-linearity here.\n",
    "- A final \"logistic regression\" which has an affine transform from 2 inputs to 1 output, which is squeezed through a sigmoid.\n"
   ]
  },
  {
   "cell_type": "code",
   "execution_count": 17,
   "id": "2b9c66db",
   "metadata": {
    "execution": {
     "iopub.execute_input": "2021-11-14T00:22:54.279714Z",
     "iopub.status.busy": "2021-11-14T00:22:54.279170Z",
     "iopub.status.idle": "2021-11-14T00:22:54.291207Z",
     "shell.execute_reply": "2021-11-14T00:22:54.290771Z"
    },
    "papermill": {
     "duration": 0.04385,
     "end_time": "2021-11-14T00:22:54.291336",
     "exception": false,
     "start_time": "2021-11-14T00:22:54.247486",
     "status": "completed"
    },
    "tags": []
   },
   "outputs": [],
   "source": [
    "data = Data(X_train, y_train.reshape(-1,1))\n",
    "sampler = Sampler(data, config.bs, shuffle=True)\n",
    "\n",
    "dl = Dataloader(data, sampler)\n",
    "\n",
    "opt = GD(config.lr)\n",
    "loss = MSE()"
   ]
  },
  {
   "cell_type": "code",
   "execution_count": 18,
   "id": "b275e4c2",
   "metadata": {
    "execution": {
     "iopub.execute_input": "2021-11-14T00:22:54.362565Z",
     "iopub.status.busy": "2021-11-14T00:22:54.360151Z",
     "iopub.status.idle": "2021-11-14T00:22:54.366645Z",
     "shell.execute_reply": "2021-11-14T00:22:54.366191Z"
    },
    "papermill": {
     "duration": 0.047704,
     "end_time": "2021-11-14T00:22:54.366775",
     "exception": false,
     "start_time": "2021-11-14T00:22:54.319071",
     "status": "completed"
    },
    "tags": []
   },
   "outputs": [],
   "source": [
    "training_data_x = X_train\n",
    "testing_data_x = X_test\n",
    "training_data_y = y_train.reshape(-1,1)\n",
    "testing_data_y = y_test.reshape(-1,1)"
   ]
  },
  {
   "cell_type": "code",
   "execution_count": 19,
   "id": "76951160",
   "metadata": {
    "execution": {
     "iopub.execute_input": "2021-11-14T00:22:54.427368Z",
     "iopub.status.busy": "2021-11-14T00:22:54.426815Z",
     "iopub.status.idle": "2021-11-14T00:22:54.442914Z",
     "shell.execute_reply": "2021-11-14T00:22:54.442466Z"
    },
    "papermill": {
     "duration": 0.048795,
     "end_time": "2021-11-14T00:22:54.443039",
     "exception": false,
     "start_time": "2021-11-14T00:22:54.394244",
     "status": "completed"
    },
    "tags": []
   },
   "outputs": [
    {
     "name": "stdout",
     "output_type": "stream",
     "text": [
      "xavier\n",
      "xavier\n",
      "xavier\n",
      "xavier\n",
      "xavier\n"
     ]
    }
   ],
   "source": [
    "layers = [Affine(\"first\", 784, 100), Relu(\"first\"), Affine(\"second\", 100, 100), Relu(\"second\"), Affine(\"third\", 100, 2), Affine(\"last\", 2, 1), Sigmoid(\"last\")]\n",
    "model_nn = Model(layers)\n",
    "model_lr = Model([Affine(\"logits\", 784, 1), Sigmoid(\"sigmoid\")])"
   ]
  },
  {
   "cell_type": "code",
   "execution_count": 20,
   "id": "6eede77a",
   "metadata": {
    "execution": {
     "iopub.execute_input": "2021-11-14T00:22:54.505849Z",
     "iopub.status.busy": "2021-11-14T00:22:54.505300Z",
     "iopub.status.idle": "2021-11-14T00:22:54.516115Z",
     "shell.execute_reply": "2021-11-14T00:22:54.515632Z"
    },
    "papermill": {
     "duration": 0.045253,
     "end_time": "2021-11-14T00:22:54.516246",
     "exception": false,
     "start_time": "2021-11-14T00:22:54.470993",
     "status": "completed"
    },
    "tags": []
   },
   "outputs": [],
   "source": [
    "nn_learner = Learner(loss, model_nn, opt, config.num_epochs)\n",
    "acc_nn = ClfCallback(nn_learner, config.bs, training_data_x , testing_data_x, training_data_y, testing_data_y)\n",
    "nn_learner.set_callbacks([acc_nn])"
   ]
  },
  {
   "cell_type": "code",
   "execution_count": 21,
   "id": "877b6cc7",
   "metadata": {
    "execution": {
     "iopub.execute_input": "2021-11-14T00:22:54.589734Z",
     "iopub.status.busy": "2021-11-14T00:22:54.585001Z",
     "iopub.status.idle": "2021-11-14T00:22:54.591751Z",
     "shell.execute_reply": "2021-11-14T00:22:54.592185Z"
    },
    "papermill": {
     "duration": 0.04841,
     "end_time": "2021-11-14T00:22:54.592340",
     "exception": false,
     "start_time": "2021-11-14T00:22:54.543930",
     "status": "completed"
    },
    "tags": []
   },
   "outputs": [],
   "source": [
    "lr_learner = Learner(loss, model_lr, opt, config.num_epochs)\n",
    "acc_lr = ClfCallback(lr_learner, config.bs, training_data_x , testing_data_x, training_data_y, testing_data_y)\n",
    "lr_learner.set_callbacks([acc_lr])"
   ]
  },
  {
   "cell_type": "code",
   "execution_count": 22,
   "id": "d9b133c3",
   "metadata": {
    "execution": {
     "iopub.execute_input": "2021-11-14T00:22:54.660887Z",
     "iopub.status.busy": "2021-11-14T00:22:54.651877Z",
     "iopub.status.idle": "2021-11-14T00:24:12.527173Z",
     "shell.execute_reply": "2021-11-14T00:24:12.527672Z"
    },
    "papermill": {
     "duration": 77.907508,
     "end_time": "2021-11-14T00:24:12.527814",
     "exception": false,
     "start_time": "2021-11-14T00:22:54.620306",
     "status": "completed"
    },
    "tags": []
   },
   "outputs": [
    {
     "name": "stdout",
     "output_type": "stream",
     "text": [
      "Epoch 0, Loss 0.2488\n",
      "Training Accuracy: 0.5754, Testing Accuracy: 0.5791\n",
      "\n"
     ]
    },
    {
     "name": "stdout",
     "output_type": "stream",
     "text": [
      "Epoch 10, Loss 0.0937\n",
      "Training Accuracy: 0.9140, Testing Accuracy: 0.9299\n",
      "\n"
     ]
    },
    {
     "name": "stdout",
     "output_type": "stream",
     "text": [
      "Epoch 20, Loss 0.0589\n",
      "Training Accuracy: 0.9380, Testing Accuracy: 0.9501\n",
      "\n"
     ]
    },
    {
     "name": "stdout",
     "output_type": "stream",
     "text": [
      "Epoch 30, Loss 0.0462\n",
      "Training Accuracy: 0.9497, Testing Accuracy: 0.9567\n",
      "\n"
     ]
    },
    {
     "name": "stdout",
     "output_type": "stream",
     "text": [
      "Epoch 40, Loss 0.0396\n",
      "Training Accuracy: 0.9557, Testing Accuracy: 0.9617\n",
      "\n"
     ]
    },
    {
     "name": "stdout",
     "output_type": "stream",
     "text": [
      "Epoch 50, Loss 0.0356\n",
      "Training Accuracy: 0.9603, Testing Accuracy: 0.9652\n",
      "\n"
     ]
    },
    {
     "name": "stdout",
     "output_type": "stream",
     "text": [
      "Epoch 60, Loss 0.0329\n",
      "Training Accuracy: 0.9626, Testing Accuracy: 0.9667\n",
      "\n"
     ]
    },
    {
     "name": "stdout",
     "output_type": "stream",
     "text": [
      "Epoch 70, Loss 0.0309\n",
      "Training Accuracy: 0.9644, Testing Accuracy: 0.9672\n",
      "\n"
     ]
    },
    {
     "name": "stdout",
     "output_type": "stream",
     "text": [
      "Epoch 80, Loss 0.0293\n",
      "Training Accuracy: 0.9659, Testing Accuracy: 0.9693\n",
      "\n"
     ]
    },
    {
     "name": "stdout",
     "output_type": "stream",
     "text": [
      "Epoch 90, Loss 0.028\n",
      "Training Accuracy: 0.9675, Testing Accuracy: 0.9703\n",
      "\n"
     ]
    },
    {
     "name": "stdout",
     "output_type": "stream",
     "text": [
      "Epoch 100, Loss 0.027\n",
      "Training Accuracy: 0.9687, Testing Accuracy: 0.9703\n",
      "\n"
     ]
    },
    {
     "name": "stdout",
     "output_type": "stream",
     "text": [
      "Epoch 110, Loss 0.0261\n",
      "Training Accuracy: 0.9700, Testing Accuracy: 0.9698\n",
      "\n"
     ]
    },
    {
     "name": "stdout",
     "output_type": "stream",
     "text": [
      "Epoch 120, Loss 0.0253\n",
      "Training Accuracy: 0.9712, Testing Accuracy: 0.9708\n",
      "\n"
     ]
    },
    {
     "name": "stdout",
     "output_type": "stream",
     "text": [
      "Epoch 130, Loss 0.0246\n",
      "Training Accuracy: 0.9718, Testing Accuracy: 0.9698\n",
      "\n"
     ]
    },
    {
     "name": "stdout",
     "output_type": "stream",
     "text": [
      "Epoch 140, Loss 0.0239\n",
      "Training Accuracy: 0.9722, Testing Accuracy: 0.9698\n",
      "\n"
     ]
    },
    {
     "name": "stdout",
     "output_type": "stream",
     "text": [
      "Epoch 150, Loss 0.0234\n",
      "Training Accuracy: 0.9732, Testing Accuracy: 0.9693\n",
      "\n"
     ]
    },
    {
     "name": "stdout",
     "output_type": "stream",
     "text": [
      "Epoch 160, Loss 0.0228\n",
      "Training Accuracy: 0.9739, Testing Accuracy: 0.9693\n",
      "\n"
     ]
    },
    {
     "name": "stdout",
     "output_type": "stream",
     "text": [
      "Epoch 170, Loss 0.0223\n",
      "Training Accuracy: 0.9747, Testing Accuracy: 0.9703\n",
      "\n"
     ]
    },
    {
     "name": "stdout",
     "output_type": "stream",
     "text": [
      "Epoch 180, Loss 0.0218\n",
      "Training Accuracy: 0.9751, Testing Accuracy: 0.9708\n",
      "\n"
     ]
    },
    {
     "name": "stdout",
     "output_type": "stream",
     "text": [
      "Epoch 190, Loss 0.0214\n",
      "Training Accuracy: 0.9756, Testing Accuracy: 0.9708\n",
      "\n"
     ]
    },
    {
     "name": "stdout",
     "output_type": "stream",
     "text": [
      "Epoch 200, Loss 0.0209\n",
      "Training Accuracy: 0.9763, Testing Accuracy: 0.9718\n",
      "\n"
     ]
    },
    {
     "name": "stdout",
     "output_type": "stream",
     "text": [
      "Epoch 210, Loss 0.0205\n",
      "Training Accuracy: 0.9767, Testing Accuracy: 0.9728\n",
      "\n"
     ]
    },
    {
     "name": "stdout",
     "output_type": "stream",
     "text": [
      "Epoch 220, Loss 0.0201\n",
      "Training Accuracy: 0.9770, Testing Accuracy: 0.9733\n",
      "\n"
     ]
    },
    {
     "name": "stdout",
     "output_type": "stream",
     "text": [
      "Epoch 230, Loss 0.0198\n",
      "Training Accuracy: 0.9775, Testing Accuracy: 0.9728\n",
      "\n"
     ]
    },
    {
     "name": "stdout",
     "output_type": "stream",
     "text": [
      "Epoch 240, Loss 0.0194\n",
      "Training Accuracy: 0.9780, Testing Accuracy: 0.9738\n",
      "\n"
     ]
    },
    {
     "data": {
      "text/plain": [
       "0.012850778625075342"
      ]
     },
     "execution_count": 22,
     "metadata": {},
     "output_type": "execute_result"
    }
   ],
   "source": [
    "nn_learner.train_loop(dl)"
   ]
  },
  {
   "cell_type": "code",
   "execution_count": 23,
   "id": "e0163366",
   "metadata": {
    "execution": {
     "iopub.execute_input": "2021-11-14T00:24:12.605381Z",
     "iopub.status.busy": "2021-11-14T00:24:12.604864Z",
     "iopub.status.idle": "2021-11-14T00:24:26.590919Z",
     "shell.execute_reply": "2021-11-14T00:24:26.591661Z"
    },
    "papermill": {
     "duration": 14.029151,
     "end_time": "2021-11-14T00:24:26.591820",
     "exception": false,
     "start_time": "2021-11-14T00:24:12.562669",
     "status": "completed"
    },
    "tags": []
   },
   "outputs": [
    {
     "name": "stdout",
     "output_type": "stream",
     "text": [
      "Epoch 0, Loss 0.2206\n",
      "Training Accuracy: 0.7350, Testing Accuracy: 0.7424\n",
      "\n"
     ]
    },
    {
     "name": "stdout",
     "output_type": "stream",
     "text": [
      "Epoch 10, Loss 0.1039\n",
      "Training Accuracy: 0.8988, Testing Accuracy: 0.9143\n",
      "\n"
     ]
    },
    {
     "name": "stdout",
     "output_type": "stream",
     "text": [
      "Epoch 20, Loss 0.0804\n",
      "Training Accuracy: 0.9217, Testing Accuracy: 0.9355\n",
      "\n"
     ]
    },
    {
     "name": "stdout",
     "output_type": "stream",
     "text": [
      "Epoch 30, Loss 0.0692\n",
      "Training Accuracy: 0.9307, Testing Accuracy: 0.9461\n",
      "\n"
     ]
    },
    {
     "name": "stdout",
     "output_type": "stream",
     "text": [
      "Epoch 40, Loss 0.0625\n",
      "Training Accuracy: 0.9368, Testing Accuracy: 0.9516\n",
      "\n"
     ]
    },
    {
     "name": "stdout",
     "output_type": "stream",
     "text": [
      "Epoch 50, Loss 0.0579\n",
      "Training Accuracy: 0.9417, Testing Accuracy: 0.9572\n",
      "\n"
     ]
    },
    {
     "name": "stdout",
     "output_type": "stream",
     "text": [
      "Epoch 60, Loss 0.0544\n",
      "Training Accuracy: 0.9448, Testing Accuracy: 0.9592\n",
      "\n"
     ]
    },
    {
     "name": "stdout",
     "output_type": "stream",
     "text": [
      "Epoch 70, Loss 0.0518\n",
      "Training Accuracy: 0.9465, Testing Accuracy: 0.9587\n",
      "\n"
     ]
    },
    {
     "name": "stdout",
     "output_type": "stream",
     "text": [
      "Epoch 80, Loss 0.0497\n",
      "Training Accuracy: 0.9483, Testing Accuracy: 0.9612\n",
      "\n"
     ]
    },
    {
     "name": "stdout",
     "output_type": "stream",
     "text": [
      "Epoch 90, Loss 0.048\n",
      "Training Accuracy: 0.9498, Testing Accuracy: 0.9617\n",
      "\n"
     ]
    },
    {
     "name": "stdout",
     "output_type": "stream",
     "text": [
      "Epoch 100, Loss 0.0465\n",
      "Training Accuracy: 0.9508, Testing Accuracy: 0.9627\n",
      "\n"
     ]
    },
    {
     "name": "stdout",
     "output_type": "stream",
     "text": [
      "Epoch 110, Loss 0.0452\n",
      "Training Accuracy: 0.9518, Testing Accuracy: 0.9622\n",
      "\n"
     ]
    },
    {
     "name": "stdout",
     "output_type": "stream",
     "text": [
      "Epoch 120, Loss 0.0442\n",
      "Training Accuracy: 0.9536, Testing Accuracy: 0.9627\n",
      "\n"
     ]
    },
    {
     "name": "stdout",
     "output_type": "stream",
     "text": [
      "Epoch 130, Loss 0.0432\n",
      "Training Accuracy: 0.9545, Testing Accuracy: 0.9627\n",
      "\n"
     ]
    },
    {
     "name": "stdout",
     "output_type": "stream",
     "text": [
      "Epoch 140, Loss 0.0423\n",
      "Training Accuracy: 0.9551, Testing Accuracy: 0.9642\n",
      "\n"
     ]
    },
    {
     "name": "stdout",
     "output_type": "stream",
     "text": [
      "Epoch 150, Loss 0.0416\n",
      "Training Accuracy: 0.9558, Testing Accuracy: 0.9647\n",
      "\n"
     ]
    },
    {
     "name": "stdout",
     "output_type": "stream",
     "text": [
      "Epoch 160, Loss 0.0409\n",
      "Training Accuracy: 0.9562, Testing Accuracy: 0.9647\n",
      "\n"
     ]
    },
    {
     "name": "stdout",
     "output_type": "stream",
     "text": [
      "Epoch 170, Loss 0.0403\n",
      "Training Accuracy: 0.9564, Testing Accuracy: 0.9652\n",
      "\n"
     ]
    },
    {
     "name": "stdout",
     "output_type": "stream",
     "text": [
      "Epoch 180, Loss 0.0397\n",
      "Training Accuracy: 0.9571, Testing Accuracy: 0.9652\n",
      "\n"
     ]
    },
    {
     "name": "stdout",
     "output_type": "stream",
     "text": [
      "Epoch 190, Loss 0.0392\n",
      "Training Accuracy: 0.9576, Testing Accuracy: 0.9657\n",
      "\n"
     ]
    },
    {
     "name": "stdout",
     "output_type": "stream",
     "text": [
      "Epoch 200, Loss 0.0387\n",
      "Training Accuracy: 0.9579, Testing Accuracy: 0.9662\n",
      "\n"
     ]
    },
    {
     "name": "stdout",
     "output_type": "stream",
     "text": [
      "Epoch 210, Loss 0.0382\n",
      "Training Accuracy: 0.9579, Testing Accuracy: 0.9662\n",
      "\n"
     ]
    },
    {
     "name": "stdout",
     "output_type": "stream",
     "text": [
      "Epoch 220, Loss 0.0378\n",
      "Training Accuracy: 0.9582, Testing Accuracy: 0.9667\n",
      "\n"
     ]
    },
    {
     "name": "stdout",
     "output_type": "stream",
     "text": [
      "Epoch 230, Loss 0.0374\n",
      "Training Accuracy: 0.9586, Testing Accuracy: 0.9672\n",
      "\n"
     ]
    },
    {
     "name": "stdout",
     "output_type": "stream",
     "text": [
      "Epoch 240, Loss 0.037\n",
      "Training Accuracy: 0.9589, Testing Accuracy: 0.9672\n",
      "\n"
     ]
    },
    {
     "data": {
      "text/plain": [
       "0.06458384655329275"
      ]
     },
     "execution_count": 23,
     "metadata": {},
     "output_type": "execute_result"
    }
   ],
   "source": [
    "lr_learner.train_loop(dl)"
   ]
  },
  {
   "cell_type": "code",
   "execution_count": 24,
   "id": "ca410940",
   "metadata": {
    "execution": {
     "iopub.execute_input": "2021-11-14T00:24:26.689531Z",
     "iopub.status.busy": "2021-11-14T00:24:26.688975Z",
     "iopub.status.idle": "2021-11-14T00:24:26.917909Z",
     "shell.execute_reply": "2021-11-14T00:24:26.917464Z"
    },
    "papermill": {
     "duration": 0.283948,
     "end_time": "2021-11-14T00:24:26.918042",
     "exception": false,
     "start_time": "2021-11-14T00:24:26.634094",
     "status": "completed"
    },
    "tags": []
   },
   "outputs": [
    {
     "data": {
      "text/plain": [
       "<matplotlib.legend.Legend at 0x7fa4de04d7f0>"
      ]
     },
     "execution_count": 24,
     "metadata": {},
     "output_type": "execute_result"
    },
    {
     "data": {
      "image/png": "[encoded data removed]",
      "text/plain": [
       "<Figure size 1080x720 with 1 Axes>"
      ]
     },
     "metadata": {
      "needs_background": "light"
     },
     "output_type": "display_data"
    }
   ],
   "source": [
    "#comparing the results of NN and LR\n",
    "plt.figure(figsize=(15,10))\n",
    "\n",
    "# Neural Network plots\n",
    "plt.plot(acc_nn.accuracies, 'r-', label = \"Training Accuracies - NN\")\n",
    "plt.plot(acc_nn.test_accuracies, 'g-', label = \"Testing Accuracies - NN\")\n",
    "\n",
    "# Logistic Regression plots\n",
    "plt.plot(acc_lr.accuracies, 'k-', label = \"Training Accuracies - LR\")\n",
    "plt.plot(acc_lr.test_accuracies, 'b-', label = \"Testing Accuracies - LR\")\n",
    "plt.legend()"
   ]
  },
  {
   "cell_type": "markdown",
   "id": "80dfb35c",
   "metadata": {
    "papermill": {
     "duration": 0.042453,
     "end_time": "2021-11-14T00:24:27.003280",
     "exception": false,
     "start_time": "2021-11-14T00:24:26.960827",
     "status": "completed"
    },
    "tags": []
   },
   "source": [
    "#### Plotting the outputs of this layer of the NN.\n"
   ]
  },
  {
   "cell_type": "code",
   "execution_count": 25,
   "id": "45eb2ff5",
   "metadata": {
    "execution": {
     "iopub.execute_input": "2021-11-14T00:24:27.097663Z",
     "iopub.status.busy": "2021-11-14T00:24:27.096713Z",
     "iopub.status.idle": "2021-11-14T00:24:27.114043Z",
     "shell.execute_reply": "2021-11-14T00:24:27.113592Z"
    },
    "papermill": {
     "duration": 0.068586,
     "end_time": "2021-11-14T00:24:27.114174",
     "exception": false,
     "start_time": "2021-11-14T00:24:27.045588",
     "status": "completed"
    },
    "tags": []
   },
   "outputs": [],
   "source": [
    "new_model = Model(layers[:-2])\n",
    "testing_plot = new_model(testing_data_x)"
   ]
  },
  {
   "cell_type": "code",
   "execution_count": 26,
   "id": "4c0a5485",
   "metadata": {
    "execution": {
     "iopub.execute_input": "2021-11-14T00:24:27.207887Z",
     "iopub.status.busy": "2021-11-14T00:24:27.207307Z",
     "iopub.status.idle": "2021-11-14T00:24:27.390669Z",
     "shell.execute_reply": "2021-11-14T00:24:27.391065Z"
    },
    "papermill": {
     "duration": 0.232855,
     "end_time": "2021-11-14T00:24:27.391211",
     "exception": false,
     "start_time": "2021-11-14T00:24:27.158356",
     "status": "completed"
    },
    "tags": []
   },
   "outputs": [
    {
     "data": {
      "text/plain": [
       "Text(0.5, 1.0, 'Outputs')"
      ]
     },
     "execution_count": 26,
     "metadata": {},
     "output_type": "execute_result"
    },
    {
     "data": {
      "image/png": "[encoded data removed]",
      "text/plain": [
       "<Figure size 576x504 with 1 Axes>"
      ]
     },
     "metadata": {
      "needs_background": "light"
     },
     "output_type": "display_data"
    }
   ],
   "source": [
    "# Plotting the scatter plot of points and color coding by class\n",
    "plt.figure(figsize=(8,7))\n",
    "plt.scatter(testing_plot[:,0], testing_plot[:,1], alpha = 0.1, c = y_test.ravel());\n",
    "plt.title('Outputs')"
   ]
  },
  {
   "cell_type": "markdown",
   "id": "a74fcf8f",
   "metadata": {
    "papermill": {
     "duration": 0.044401,
     "end_time": "2021-11-14T00:24:27.480218",
     "exception": false,
     "start_time": "2021-11-14T00:24:27.435817",
     "status": "completed"
    },
    "tags": []
   },
   "source": [
    "Probability contours"
   ]
  },
  {
   "cell_type": "code",
   "execution_count": 27,
   "id": "d0afc8e3",
   "metadata": {
    "execution": {
     "iopub.execute_input": "2021-11-14T00:24:27.573440Z",
     "iopub.status.busy": "2021-11-14T00:24:27.572817Z",
     "iopub.status.idle": "2021-11-14T00:24:27.585564Z",
     "shell.execute_reply": "2021-11-14T00:24:27.585984Z"
    },
    "papermill": {
     "duration": 0.061347,
     "end_time": "2021-11-14T00:24:27.586129",
     "exception": false,
     "start_time": "2021-11-14T00:24:27.524782",
     "status": "completed"
    },
    "tags": []
   },
   "outputs": [],
   "source": [
    "model_prob = Model(layers[-2:]) "
   ]
  },
  {
   "cell_type": "code",
   "execution_count": 28,
   "id": "9b96e238",
   "metadata": {
    "execution": {
     "iopub.execute_input": "2021-11-14T00:24:27.713654Z",
     "iopub.status.busy": "2021-11-14T00:24:27.713009Z",
     "iopub.status.idle": "2021-11-14T00:24:27.725462Z",
     "shell.execute_reply": "2021-11-14T00:24:27.726181Z"
    },
    "papermill": {
     "duration": 0.065083,
     "end_time": "2021-11-14T00:24:27.726318",
     "exception": false,
     "start_time": "2021-11-14T00:24:27.661235",
     "status": "completed"
    },
    "tags": []
   },
   "outputs": [],
   "source": [
    "#creating the x and y ranges according to the above generated plot.\n",
    "x_range = np.linspace(-4, 1, 100) \n",
    "y_range = np.linspace(-6, 6, 100) \n",
    "x_grid, y_grid = np.meshgrid(x_range, y_range) # x_grid and y_grig are of size 100 X 100\n",
    "\n",
    "# converting x_grid and y_grid to continuous arrays\n",
    "x_gridflat = np.ravel(x_grid)\n",
    "y_gridflat = np.ravel(y_grid)\n",
    "\n",
    "# The last layer of the current model takes two columns as input. Hence transpose of np.vstack() is required.\n",
    "X = np.vstack((x_gridflat, y_gridflat)).T\n",
    "\n",
    "prob_contour = model_prob(X).reshape(100,100) "
   ]
  },
  {
   "cell_type": "code",
   "execution_count": 29,
   "id": "da72499a",
   "metadata": {
    "execution": {
     "iopub.execute_input": "2021-11-14T00:24:27.825657Z",
     "iopub.status.busy": "2021-11-14T00:24:27.825131Z",
     "iopub.status.idle": "2021-11-14T00:24:28.060907Z",
     "shell.execute_reply": "2021-11-14T00:24:28.061303Z"
    },
    "papermill": {
     "duration": 0.290194,
     "end_time": "2021-11-14T00:24:28.061453",
     "exception": false,
     "start_time": "2021-11-14T00:24:27.771259",
     "status": "completed"
    },
    "tags": []
   },
   "outputs": [
    {
     "data": {
      "image/png": "[encoded data removed]",
      "text/plain": [
       "<Figure size 720x648 with 1 Axes>"
      ]
     },
     "metadata": {
      "needs_background": "light"
     },
     "output_type": "display_data"
    }
   ],
   "source": [
    "plt.figure(figsize=(10,9))\n",
    "plt.scatter(testing_plot[:,0], testing_plot[:,1], alpha = 0.1, c = y_test.ravel())\n",
    "contours = plt.contour(x_grid,y_grid,prob_contour)\n",
    "plt.title('Probability Contours')\n",
    "plt.clabel(contours, inline = True );"
   ]
  },
  {
   "cell_type": "code",
   "execution_count": null,
   "id": "e81b4ac7",
   "metadata": {
    "papermill": {
     "duration": 0.046906,
     "end_time": "2021-11-14T00:24:28.155875",
     "exception": false,
     "start_time": "2021-11-14T00:24:28.108969",
     "status": "completed"
    },
    "tags": []
   },
   "outputs": [],
   "source": []
  }
 ],
 "metadata": {
  "kernelspec": {
   "display_name": "Python 3",
   "language": "python",
   "name": "python3"
  },
  "language_info": {
   "codemirror_mode": {
    "name": "ipython",
    "version": 3
   },
   "file_extension": ".py",
   "mimetype": "text/x-python",
   "name": "python",
   "nbconvert_exporter": "python",
   "pygments_lexer": "ipython3",
   "version": "3.6.15"
  },
  "papermill": {
   "default_parameters": {},
   "duration": 101.02248,
   "end_time": "2021-11-14T00:24:28.611745",
   "environment_variables": {},
   "exception": null,
   "input_path": "2020-08-11-part2.ipynb",
   "output_path": "2020-08-11-part2.ipynb",
   "parameters": {},
   "start_time": "2021-11-14T00:22:47.589265",
   "version": "2.3.3"
  }
 },
 "nbformat": 4,
 "nbformat_minor": 5
}