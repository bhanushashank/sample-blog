{
 "cells": [
  {
   "cell_type": "markdown",
   "id": "98380cd3",
   "metadata": {
    "papermill": {
     "duration": 0.028082,
     "end_time": "2022-04-16T00:33:27.805710",
     "exception": false,
     "start_time": "2022-04-16T00:33:27.777628",
     "status": "completed"
    },
    "tags": []
   },
   "source": [
    "# Distinguish Your Own Digits (DYOD)"
   ]
  },
  {
   "cell_type": "markdown",
   "id": "ef31240d",
   "metadata": {
    "papermill": {
     "duration": 0.025735,
     "end_time": "2022-04-16T00:33:27.856744",
     "exception": false,
     "start_time": "2022-04-16T00:33:27.831009",
     "status": "completed"
    },
    "tags": []
   },
   "source": [
    "You are going to write a classifier that distinguishes between the number 3 and number 8."
   ]
  },
  {
   "cell_type": "code",
   "execution_count": 1,
   "id": "b15c8646",
   "metadata": {
    "execution": {
     "iopub.execute_input": "2022-04-16T00:33:27.915900Z",
     "iopub.status.busy": "2022-04-16T00:33:27.915385Z",
     "iopub.status.idle": "2022-04-16T00:33:27.925284Z",
     "shell.execute_reply": "2022-04-16T00:33:27.925660Z"
    },
    "papermill": {
     "duration": 0.044461,
     "end_time": "2022-04-16T00:33:27.925806",
     "exception": false,
     "start_time": "2022-04-16T00:33:27.881345",
     "status": "completed"
    },
    "tags": []
   },
   "outputs": [],
   "source": [
    "%load_ext autoreload\n",
    "%autoreload 2"
   ]
  },
  {
   "cell_type": "code",
   "execution_count": 2,
   "id": "22ef38dc",
   "metadata": {
    "execution": {
     "iopub.execute_input": "2022-04-16T00:33:27.979554Z",
     "iopub.status.busy": "2022-04-16T00:33:27.979047Z",
     "iopub.status.idle": "2022-04-16T00:33:28.503238Z",
     "shell.execute_reply": "2022-04-16T00:33:28.502795Z"
    },
    "papermill": {
     "duration": 0.552729,
     "end_time": "2022-04-16T00:33:28.503351",
     "exception": false,
     "start_time": "2022-04-16T00:33:27.950622",
     "status": "completed"
    },
    "tags": []
   },
   "outputs": [],
   "source": [
    "%matplotlib inline\n",
    "import numpy as np\n",
    "import matplotlib.pyplot as plt\n",
    "import pandas as pd"
   ]
  },
  {
   "cell_type": "markdown",
   "id": "ba036198",
   "metadata": {
    "papermill": {
     "duration": 0.024741,
     "end_time": "2022-04-16T00:33:28.552898",
     "exception": false,
     "start_time": "2022-04-16T00:33:28.528157",
     "status": "completed"
    },
    "tags": []
   },
   "source": [
    "From the command line run `pip install mnist`. This is a library that will help you bring down the mnist dataset. If you run this from a notebook, you need to put  `!pip install mnist` in a cell by itself."
   ]
  },
  {
   "cell_type": "code",
   "execution_count": 3,
   "id": "bb6ad8a1",
   "metadata": {
    "execution": {
     "iopub.execute_input": "2022-04-16T00:33:28.606617Z",
     "iopub.status.busy": "2022-04-16T00:33:28.606112Z",
     "iopub.status.idle": "2022-04-16T00:33:30.351339Z",
     "shell.execute_reply": "2022-04-16T00:33:30.350901Z"
    },
    "papermill": {
     "duration": 1.773723,
     "end_time": "2022-04-16T00:33:30.351453",
     "exception": false,
     "start_time": "2022-04-16T00:33:28.577730",
     "status": "completed"
    },
    "tags": []
   },
   "outputs": [
    {
     "name": "stdout",
     "output_type": "stream",
     "text": [
      "Collecting mnist\r\n"
     ]
    },
    {
     "name": "stdout",
     "output_type": "stream",
     "text": [
      "  Downloading mnist-0.2.2-py2.py3-none-any.whl (3.5 kB)\r\n",
      "Requirement already satisfied: numpy in /opt/hostedtoolcache/Python/3.6.15/x64/lib/python3.6/site-packages (from mnist) (1.19.5)\r\n"
     ]
    },
    {
     "name": "stdout",
     "output_type": "stream",
     "text": [
      "Installing collected packages: mnist\r\n"
     ]
    },
    {
     "name": "stdout",
     "output_type": "stream",
     "text": [
      "Successfully installed mnist-0.2.2\r\n"
     ]
    }
   ],
   "source": [
    "!pip install mnist"
   ]
  },
  {
   "cell_type": "markdown",
   "id": "69df9c9a",
   "metadata": {
    "papermill": {
     "duration": 0.026226,
     "end_time": "2022-04-16T00:33:30.403970",
     "exception": false,
     "start_time": "2022-04-16T00:33:30.377744",
     "status": "completed"
    },
    "tags": []
   },
   "source": [
    "## Preparing the Data"
   ]
  },
  {
   "cell_type": "code",
   "execution_count": 4,
   "id": "7f69d806",
   "metadata": {
    "execution": {
     "iopub.execute_input": "2022-04-16T00:33:30.459170Z",
     "iopub.status.busy": "2022-04-16T00:33:30.458669Z",
     "iopub.status.idle": "2022-04-16T00:33:30.472534Z",
     "shell.execute_reply": "2022-04-16T00:33:30.472120Z"
    },
    "papermill": {
     "duration": 0.042727,
     "end_time": "2022-04-16T00:33:30.472636",
     "exception": false,
     "start_time": "2022-04-16T00:33:30.429909",
     "status": "completed"
    },
    "tags": []
   },
   "outputs": [],
   "source": [
    "import mnist"
   ]
  },
  {
   "cell_type": "code",
   "execution_count": 5,
   "id": "a411e44f",
   "metadata": {
    "execution": {
     "iopub.execute_input": "2022-04-16T00:33:30.528269Z",
     "iopub.status.busy": "2022-04-16T00:33:30.527775Z",
     "iopub.status.idle": "2022-04-16T00:33:31.153254Z",
     "shell.execute_reply": "2022-04-16T00:33:31.152799Z"
    },
    "papermill": {
     "duration": 0.654719,
     "end_time": "2022-04-16T00:33:31.153370",
     "exception": false,
     "start_time": "2022-04-16T00:33:30.498651",
     "status": "completed"
    },
    "tags": []
   },
   "outputs": [],
   "source": [
    "train_images = mnist.train_images()\n",
    "train_labels = mnist.train_labels()"
   ]
  },
  {
   "cell_type": "code",
   "execution_count": 6,
   "id": "dceab3a5",
   "metadata": {
    "execution": {
     "iopub.execute_input": "2022-04-16T00:33:31.208848Z",
     "iopub.status.busy": "2022-04-16T00:33:31.208348Z",
     "iopub.status.idle": "2022-04-16T00:33:31.222672Z",
     "shell.execute_reply": "2022-04-16T00:33:31.222257Z"
    },
    "papermill": {
     "duration": 0.043316,
     "end_time": "2022-04-16T00:33:31.222780",
     "exception": false,
     "start_time": "2022-04-16T00:33:31.179464",
     "status": "completed"
    },
    "tags": []
   },
   "outputs": [
    {
     "data": {
      "text/plain": [
       "((60000, 28, 28), (60000,))"
      ]
     },
     "execution_count": 6,
     "metadata": {},
     "output_type": "execute_result"
    }
   ],
   "source": [
    "train_images.shape, train_labels.shape"
   ]
  },
  {
   "cell_type": "code",
   "execution_count": 7,
   "id": "f50dc2bb",
   "metadata": {
    "execution": {
     "iopub.execute_input": "2022-04-16T00:33:31.279145Z",
     "iopub.status.busy": "2022-04-16T00:33:31.278654Z",
     "iopub.status.idle": "2022-04-16T00:33:31.518096Z",
     "shell.execute_reply": "2022-04-16T00:33:31.517643Z"
    },
    "papermill": {
     "duration": 0.26927,
     "end_time": "2022-04-16T00:33:31.518214",
     "exception": false,
     "start_time": "2022-04-16T00:33:31.248944",
     "status": "completed"
    },
    "tags": []
   },
   "outputs": [],
   "source": [
    "test_images = mnist.test_images()\n",
    "test_labels = mnist.test_labels()"
   ]
  },
  {
   "cell_type": "code",
   "execution_count": 8,
   "id": "fc38cf1b",
   "metadata": {
    "execution": {
     "iopub.execute_input": "2022-04-16T00:33:31.574235Z",
     "iopub.status.busy": "2022-04-16T00:33:31.573732Z",
     "iopub.status.idle": "2022-04-16T00:33:31.587430Z",
     "shell.execute_reply": "2022-04-16T00:33:31.586940Z"
    },
    "papermill": {
     "duration": 0.043055,
     "end_time": "2022-04-16T00:33:31.587531",
     "exception": false,
     "start_time": "2022-04-16T00:33:31.544476",
     "status": "completed"
    },
    "tags": []
   },
   "outputs": [
    {
     "data": {
      "text/plain": [
       "((10000, 28, 28), (10000,))"
      ]
     },
     "execution_count": 8,
     "metadata": {},
     "output_type": "execute_result"
    }
   ],
   "source": [
    "test_images.shape, test_labels.shape"
   ]
  },
  {
   "cell_type": "code",
   "execution_count": 9,
   "id": "f9ed8fe0",
   "metadata": {
    "execution": {
     "iopub.execute_input": "2022-04-16T00:33:31.643812Z",
     "iopub.status.busy": "2022-04-16T00:33:31.643322Z",
     "iopub.status.idle": "2022-04-16T00:33:31.777529Z",
     "shell.execute_reply": "2022-04-16T00:33:31.777937Z"
    },
    "papermill": {
     "duration": 0.164064,
     "end_time": "2022-04-16T00:33:31.778064",
     "exception": false,
     "start_time": "2022-04-16T00:33:31.614000",
     "status": "completed"
    },
    "tags": []
   },
   "outputs": [
    {
     "name": "stdout",
     "output_type": "stream",
     "text": [
      "2\n"
     ]
    },
    {
     "data": {
      "text/plain": [
       "<matplotlib.image.AxesImage at 0x7f30f7b25358>"
      ]
     },
     "execution_count": 9,
     "metadata": {},
     "output_type": "execute_result"
    },
    {
     "data": {
      "image/png": "[encoded data removed]",
      "text/plain": [
       "<Figure size 432x288 with 1 Axes>"
      ]
     },
     "metadata": {
      "needs_background": "light"
     },
     "output_type": "display_data"
    }
   ],
   "source": [
    "image_index = 7776 # You may select anything up to 60,000\n",
    "print(train_labels[image_index]) \n",
    "plt.imshow(train_images[image_index], cmap='Greys')"
   ]
  },
  {
   "cell_type": "markdown",
   "id": "a8d2388d",
   "metadata": {
    "papermill": {
     "duration": 0.027497,
     "end_time": "2022-04-16T00:33:31.833076",
     "exception": false,
     "start_time": "2022-04-16T00:33:31.805579",
     "status": "completed"
    },
    "tags": []
   },
   "source": [
    "## Filter data to get 3 and 8 out"
   ]
  },
  {
   "cell_type": "code",
   "execution_count": 10,
   "id": "776f7fc7",
   "metadata": {
    "execution": {
     "iopub.execute_input": "2022-04-16T00:33:31.892229Z",
     "iopub.status.busy": "2022-04-16T00:33:31.891726Z",
     "iopub.status.idle": "2022-04-16T00:33:31.907559Z",
     "shell.execute_reply": "2022-04-16T00:33:31.907949Z"
    },
    "papermill": {
     "duration": 0.047485,
     "end_time": "2022-04-16T00:33:31.908080",
     "exception": false,
     "start_time": "2022-04-16T00:33:31.860595",
     "status": "completed"
    },
    "tags": []
   },
   "outputs": [],
   "source": [
    "train_filter = np.where((train_labels == 3 ) | (train_labels == 8))\n",
    "test_filter = np.where((test_labels == 3) | (test_labels == 8))\n",
    "X_train, y_train = train_images[train_filter], train_labels[train_filter]\n",
    "X_test, y_test = test_images[test_filter], test_labels[test_filter]"
   ]
  },
  {
   "cell_type": "markdown",
   "id": "948f0b7e",
   "metadata": {
    "papermill": {
     "duration": 0.02761,
     "end_time": "2022-04-16T00:33:31.963239",
     "exception": false,
     "start_time": "2022-04-16T00:33:31.935629",
     "status": "completed"
    },
    "tags": []
   },
   "source": [
    "We normalize the pizel values in the 0 to 1 range"
   ]
  },
  {
   "cell_type": "code",
   "execution_count": 11,
   "id": "ee4c2166",
   "metadata": {
    "execution": {
     "iopub.execute_input": "2022-04-16T00:33:32.021749Z",
     "iopub.status.busy": "2022-04-16T00:33:32.021225Z",
     "iopub.status.idle": "2022-04-16T00:33:32.062190Z",
     "shell.execute_reply": "2022-04-16T00:33:32.061697Z"
    },
    "papermill": {
     "duration": 0.071651,
     "end_time": "2022-04-16T00:33:32.062303",
     "exception": false,
     "start_time": "2022-04-16T00:33:31.990652",
     "status": "completed"
    },
    "tags": []
   },
   "outputs": [],
   "source": [
    "X_train = X_train/255.\n",
    "X_test = X_test/255."
   ]
  },
  {
   "cell_type": "markdown",
   "id": "ddcf4fab",
   "metadata": {
    "papermill": {
     "duration": 0.027741,
     "end_time": "2022-04-16T00:33:32.117586",
     "exception": false,
     "start_time": "2022-04-16T00:33:32.089845",
     "status": "completed"
    },
    "tags": []
   },
   "source": [
    "And setup the labels as 1 (when the digit is 3) and 0 (when the digit is 8)"
   ]
  },
  {
   "cell_type": "code",
   "execution_count": 12,
   "id": "7dc908f2",
   "metadata": {
    "execution": {
     "iopub.execute_input": "2022-04-16T00:33:32.176615Z",
     "iopub.status.busy": "2022-04-16T00:33:32.176103Z",
     "iopub.status.idle": "2022-04-16T00:33:32.188007Z",
     "shell.execute_reply": "2022-04-16T00:33:32.187600Z"
    },
    "papermill": {
     "duration": 0.042641,
     "end_time": "2022-04-16T00:33:32.188115",
     "exception": false,
     "start_time": "2022-04-16T00:33:32.145474",
     "status": "completed"
    },
    "tags": []
   },
   "outputs": [],
   "source": [
    "y_train = 1*(y_train==3)\n",
    "y_test = 1*(y_test==3)"
   ]
  },
  {
   "cell_type": "code",
   "execution_count": 13,
   "id": "01e4e969",
   "metadata": {
    "execution": {
     "iopub.execute_input": "2022-04-16T00:33:32.246886Z",
     "iopub.status.busy": "2022-04-16T00:33:32.246388Z",
     "iopub.status.idle": "2022-04-16T00:33:32.259372Z",
     "shell.execute_reply": "2022-04-16T00:33:32.258948Z"
    },
    "papermill": {
     "duration": 0.043716,
     "end_time": "2022-04-16T00:33:32.259477",
     "exception": false,
     "start_time": "2022-04-16T00:33:32.215761",
     "status": "completed"
    },
    "tags": []
   },
   "outputs": [
    {
     "data": {
      "text/plain": [
       "((11982, 28, 28), (1984, 28, 28))"
      ]
     },
     "execution_count": 13,
     "metadata": {},
     "output_type": "execute_result"
    }
   ],
   "source": [
    "X_train.shape, X_test.shape"
   ]
  },
  {
   "cell_type": "markdown",
   "id": "5ccf3f85",
   "metadata": {
    "papermill": {
     "duration": 0.027705,
     "end_time": "2022-04-16T00:33:32.315040",
     "exception": false,
     "start_time": "2022-04-16T00:33:32.287335",
     "status": "completed"
    },
    "tags": []
   },
   "source": [
    "We reshape the data to flatten the image pixels into a set of features or co-variates:"
   ]
  },
  {
   "cell_type": "code",
   "execution_count": 14,
   "id": "5286a4a3",
   "metadata": {
    "execution": {
     "iopub.execute_input": "2022-04-16T00:33:32.374518Z",
     "iopub.status.busy": "2022-04-16T00:33:32.374027Z",
     "iopub.status.idle": "2022-04-16T00:33:32.387398Z",
     "shell.execute_reply": "2022-04-16T00:33:32.386994Z"
    },
    "papermill": {
     "duration": 0.044673,
     "end_time": "2022-04-16T00:33:32.387506",
     "exception": false,
     "start_time": "2022-04-16T00:33:32.342833",
     "status": "completed"
    },
    "tags": []
   },
   "outputs": [
    {
     "data": {
      "text/plain": [
       "((11982, 784), (1984, 784))"
      ]
     },
     "execution_count": 14,
     "metadata": {},
     "output_type": "execute_result"
    }
   ],
   "source": [
    "X_train = X_train.reshape(X_train.shape[0], -1)\n",
    "X_test = X_test.reshape(X_test.shape[0], -1)\n",
    "X_train.shape, X_test.shape"
   ]
  },
  {
   "cell_type": "code",
   "execution_count": 15,
   "id": "73c5f88a",
   "metadata": {
    "execution": {
     "iopub.execute_input": "2022-04-16T00:33:32.447772Z",
     "iopub.status.busy": "2022-04-16T00:33:32.447271Z",
     "iopub.status.idle": "2022-04-16T00:33:32.465459Z",
     "shell.execute_reply": "2022-04-16T00:33:32.465022Z"
    },
    "papermill": {
     "duration": 0.049837,
     "end_time": "2022-04-16T00:33:32.465570",
     "exception": false,
     "start_time": "2022-04-16T00:33:32.415733",
     "status": "completed"
    },
    "tags": []
   },
   "outputs": [],
   "source": [
    "#Impoting functions from 'Kudzu'\n",
    "from kudzu.model import Model\n",
    "from kudzu.train import Learner\n",
    "from kudzu.optim import GD\n",
    "from kudzu.data import Data, Sampler,Dataloader\n",
    "\n",
    "from kudzu.callbacks import AccCallback\n",
    "from kudzu.callbacks import ClfCallback\n",
    "\n",
    "from kudzu.loss import MSE\n",
    "\n",
    "from kudzu.layer import Sigmoid,Relu\n",
    "from kudzu.layer import Affine"
   ]
  },
  {
   "cell_type": "markdown",
   "id": "bc01172a",
   "metadata": {
    "papermill": {
     "duration": 0.028691,
     "end_time": "2022-04-16T00:33:32.522414",
     "exception": false,
     "start_time": "2022-04-16T00:33:32.493723",
     "status": "completed"
    },
    "tags": []
   },
   "source": [
    "### Let us create a `Config` class, to store important parameters. \n",
    "This class essentially plays the role of a dictionary."
   ]
  },
  {
   "cell_type": "code",
   "execution_count": 16,
   "id": "978281aa",
   "metadata": {
    "execution": {
     "iopub.execute_input": "2022-04-16T00:33:32.581977Z",
     "iopub.status.busy": "2022-04-16T00:33:32.581462Z",
     "iopub.status.idle": "2022-04-16T00:33:32.594469Z",
     "shell.execute_reply": "2022-04-16T00:33:32.594024Z"
    },
    "papermill": {
     "duration": 0.044221,
     "end_time": "2022-04-16T00:33:32.594575",
     "exception": false,
     "start_time": "2022-04-16T00:33:32.550354",
     "status": "completed"
    },
    "tags": []
   },
   "outputs": [],
   "source": [
    "class Config:\n",
    "    pass\n",
    "config = Config()\n",
    "config.lr = 0.001\n",
    "config.num_epochs = 250\n",
    "config.bs = 50"
   ]
  },
  {
   "cell_type": "markdown",
   "id": "1385fa59",
   "metadata": {
    "papermill": {
     "duration": 0.028211,
     "end_time": "2022-04-16T00:33:32.650968",
     "exception": false,
     "start_time": "2022-04-16T00:33:32.622757",
     "status": "completed"
    },
    "tags": []
   },
   "source": [
    "### Running Models with the Training data\n",
    "Details about the network layers:\n",
    "- A first affine layer has 784 inputs and does 100 affine transforms. These are followed by a Relu\n",
    "- A second affine layer has 100 inputs from the 100 activations of the past layer, and does 100 affine transforms. These are followed by a Relu\n",
    "- A third affine layer has 100 activations and does 2 affine transformations to create an embedding for visualization. There is no non-linearity here.\n",
    "- A final \"logistic regression\" which has an affine transform from 2 inputs to 1 output, which is squeezed through a sigmoid.\n"
   ]
  },
  {
   "cell_type": "code",
   "execution_count": 17,
   "id": "2b9c66db",
   "metadata": {
    "execution": {
     "iopub.execute_input": "2022-04-16T00:33:32.710915Z",
     "iopub.status.busy": "2022-04-16T00:33:32.710421Z",
     "iopub.status.idle": "2022-04-16T00:33:32.722620Z",
     "shell.execute_reply": "2022-04-16T00:33:32.722189Z"
    },
    "papermill": {
     "duration": 0.043783,
     "end_time": "2022-04-16T00:33:32.722726",
     "exception": false,
     "start_time": "2022-04-16T00:33:32.678943",
     "status": "completed"
    },
    "tags": []
   },
   "outputs": [],
   "source": [
    "data = Data(X_train, y_train.reshape(-1,1))\n",
    "sampler = Sampler(data, config.bs, shuffle=True)\n",
    "\n",
    "dl = Dataloader(data, sampler)\n",
    "\n",
    "opt = GD(config.lr)\n",
    "loss = MSE()"
   ]
  },
  {
   "cell_type": "code",
   "execution_count": 18,
   "id": "b275e4c2",
   "metadata": {
    "execution": {
     "iopub.execute_input": "2022-04-16T00:33:32.782600Z",
     "iopub.status.busy": "2022-04-16T00:33:32.782100Z",
     "iopub.status.idle": "2022-04-16T00:33:32.793576Z",
     "shell.execute_reply": "2022-04-16T00:33:32.793973Z"
    },
    "papermill": {
     "duration": 0.043176,
     "end_time": "2022-04-16T00:33:32.794099",
     "exception": false,
     "start_time": "2022-04-16T00:33:32.750923",
     "status": "completed"
    },
    "tags": []
   },
   "outputs": [],
   "source": [
    "training_data_x = X_train\n",
    "testing_data_x = X_test\n",
    "training_data_y = y_train.reshape(-1,1)\n",
    "testing_data_y = y_test.reshape(-1,1)"
   ]
  },
  {
   "cell_type": "code",
   "execution_count": 19,
   "id": "76951160",
   "metadata": {
    "execution": {
     "iopub.execute_input": "2022-04-16T00:33:32.854038Z",
     "iopub.status.busy": "2022-04-16T00:33:32.853538Z",
     "iopub.status.idle": "2022-04-16T00:33:32.868947Z",
     "shell.execute_reply": "2022-04-16T00:33:32.868516Z"
    },
    "papermill": {
     "duration": 0.046966,
     "end_time": "2022-04-16T00:33:32.869050",
     "exception": false,
     "start_time": "2022-04-16T00:33:32.822084",
     "status": "completed"
    },
    "tags": []
   },
   "outputs": [
    {
     "name": "stdout",
     "output_type": "stream",
     "text": [
      "xavier\n",
      "xavier\n",
      "xavier\n",
      "xavier\n",
      "xavier\n"
     ]
    }
   ],
   "source": [
    "layers = [Affine(\"first\", 784, 100), Relu(\"first\"), Affine(\"second\", 100, 100), Relu(\"second\"), Affine(\"third\", 100, 2), Affine(\"last\", 2, 1), Sigmoid(\"last\")]\n",
    "model_nn = Model(layers)\n",
    "model_lr = Model([Affine(\"logits\", 784, 1), Sigmoid(\"sigmoid\")])"
   ]
  },
  {
   "cell_type": "code",
   "execution_count": 20,
   "id": "6eede77a",
   "metadata": {
    "execution": {
     "iopub.execute_input": "2022-04-16T00:33:32.929650Z",
     "iopub.status.busy": "2022-04-16T00:33:32.929094Z",
     "iopub.status.idle": "2022-04-16T00:33:32.941479Z",
     "shell.execute_reply": "2022-04-16T00:33:32.941047Z"
    },
    "papermill": {
     "duration": 0.044221,
     "end_time": "2022-04-16T00:33:32.941593",
     "exception": false,
     "start_time": "2022-04-16T00:33:32.897372",
     "status": "completed"
    },
    "tags": []
   },
   "outputs": [],
   "source": [
    "nn_learner = Learner(loss, model_nn, opt, config.num_epochs)\n",
    "acc_nn = ClfCallback(nn_learner, config.bs, training_data_x , testing_data_x, training_data_y, testing_data_y)\n",
    "nn_learner.set_callbacks([acc_nn])"
   ]
  },
  {
   "cell_type": "code",
   "execution_count": 21,
   "id": "877b6cc7",
   "metadata": {
    "execution": {
     "iopub.execute_input": "2022-04-16T00:33:33.002261Z",
     "iopub.status.busy": "2022-04-16T00:33:33.001751Z",
     "iopub.status.idle": "2022-04-16T00:33:33.013995Z",
     "shell.execute_reply": "2022-04-16T00:33:33.013580Z"
    },
    "papermill": {
     "duration": 0.044128,
     "end_time": "2022-04-16T00:33:33.014109",
     "exception": false,
     "start_time": "2022-04-16T00:33:32.969981",
     "status": "completed"
    },
    "tags": []
   },
   "outputs": [],
   "source": [
    "lr_learner = Learner(loss, model_lr, opt, config.num_epochs)\n",
    "acc_lr = ClfCallback(lr_learner, config.bs, training_data_x , testing_data_x, training_data_y, testing_data_y)\n",
    "lr_learner.set_callbacks([acc_lr])"
   ]
  },
  {
   "cell_type": "code",
   "execution_count": 22,
   "id": "d9b133c3",
   "metadata": {
    "execution": {
     "iopub.execute_input": "2022-04-16T00:33:33.074418Z",
     "iopub.status.busy": "2022-04-16T00:33:33.073931Z",
     "iopub.status.idle": "2022-04-16T00:36:28.598488Z",
     "shell.execute_reply": "2022-04-16T00:36:28.598907Z"
    },
    "papermill": {
     "duration": 175.556407,
     "end_time": "2022-04-16T00:36:28.599033",
     "exception": false,
     "start_time": "2022-04-16T00:33:33.042626",
     "status": "completed"
    },
    "tags": []
   },
   "outputs": [
    {
     "name": "stdout",
     "output_type": "stream",
     "text": [
      "Epoch 0, Loss 0.2056\n",
      "Training Accuracy: 0.8226, Testing Accuracy: 0.8463\n",
      "\n"
     ]
    },
    {
     "name": "stdout",
     "output_type": "stream",
     "text": [
      "Epoch 10, Loss 0.0606\n",
      "Training Accuracy: 0.9407, Testing Accuracy: 0.9526\n",
      "\n"
     ]
    },
    {
     "name": "stdout",
     "output_type": "stream",
     "text": [
      "Epoch 20, Loss 0.0431\n",
      "Training Accuracy: 0.9543, Testing Accuracy: 0.9642\n",
      "\n"
     ]
    },
    {
     "name": "stdout",
     "output_type": "stream",
     "text": [
      "Epoch 30, Loss 0.0364\n",
      "Training Accuracy: 0.9594, Testing Accuracy: 0.9682\n",
      "\n"
     ]
    },
    {
     "name": "stdout",
     "output_type": "stream",
     "text": [
      "Epoch 40, Loss 0.0327\n",
      "Training Accuracy: 0.9628, Testing Accuracy: 0.9718\n",
      "\n"
     ]
    },
    {
     "name": "stdout",
     "output_type": "stream",
     "text": [
      "Epoch 50, Loss 0.0302\n",
      "Training Accuracy: 0.9653, Testing Accuracy: 0.9718\n",
      "\n"
     ]
    },
    {
     "name": "stdout",
     "output_type": "stream",
     "text": [
      "Epoch 60, Loss 0.0284\n",
      "Training Accuracy: 0.9677, Testing Accuracy: 0.9723\n",
      "\n"
     ]
    },
    {
     "name": "stdout",
     "output_type": "stream",
     "text": [
      "Epoch 70, Loss 0.027\n",
      "Training Accuracy: 0.9691, Testing Accuracy: 0.9738\n",
      "\n"
     ]
    },
    {
     "name": "stdout",
     "output_type": "stream",
     "text": [
      "Epoch 80, Loss 0.0259\n",
      "Training Accuracy: 0.9703, Testing Accuracy: 0.9743\n",
      "\n"
     ]
    },
    {
     "name": "stdout",
     "output_type": "stream",
     "text": [
      "Epoch 90, Loss 0.0249\n",
      "Training Accuracy: 0.9713, Testing Accuracy: 0.9743\n",
      "\n"
     ]
    },
    {
     "name": "stdout",
     "output_type": "stream",
     "text": [
      "Epoch 100, Loss 0.024\n",
      "Training Accuracy: 0.9723, Testing Accuracy: 0.9753\n",
      "\n"
     ]
    },
    {
     "name": "stdout",
     "output_type": "stream",
     "text": [
      "Epoch 110, Loss 0.0233\n",
      "Training Accuracy: 0.9733, Testing Accuracy: 0.9748\n",
      "\n"
     ]
    },
    {
     "name": "stdout",
     "output_type": "stream",
     "text": [
      "Epoch 120, Loss 0.0226\n",
      "Training Accuracy: 0.9745, Testing Accuracy: 0.9748\n",
      "\n"
     ]
    },
    {
     "name": "stdout",
     "output_type": "stream",
     "text": [
      "Epoch 130, Loss 0.022\n",
      "Training Accuracy: 0.9750, Testing Accuracy: 0.9743\n",
      "\n"
     ]
    },
    {
     "name": "stdout",
     "output_type": "stream",
     "text": [
      "Epoch 140, Loss 0.0214\n",
      "Training Accuracy: 0.9753, Testing Accuracy: 0.9753\n",
      "\n"
     ]
    },
    {
     "name": "stdout",
     "output_type": "stream",
     "text": [
      "Epoch 150, Loss 0.0208\n",
      "Training Accuracy: 0.9758, Testing Accuracy: 0.9753\n",
      "\n"
     ]
    },
    {
     "name": "stdout",
     "output_type": "stream",
     "text": [
      "Epoch 160, Loss 0.0203\n",
      "Training Accuracy: 0.9764, Testing Accuracy: 0.9748\n",
      "\n"
     ]
    },
    {
     "name": "stdout",
     "output_type": "stream",
     "text": [
      "Epoch 170, Loss 0.0198\n",
      "Training Accuracy: 0.9770, Testing Accuracy: 0.9748\n",
      "\n"
     ]
    },
    {
     "name": "stdout",
     "output_type": "stream",
     "text": [
      "Epoch 180, Loss 0.0194\n",
      "Training Accuracy: 0.9775, Testing Accuracy: 0.9748\n",
      "\n"
     ]
    },
    {
     "name": "stdout",
     "output_type": "stream",
     "text": [
      "Epoch 190, Loss 0.0189\n",
      "Training Accuracy: 0.9782, Testing Accuracy: 0.9748\n",
      "\n"
     ]
    },
    {
     "name": "stdout",
     "output_type": "stream",
     "text": [
      "Epoch 200, Loss 0.0185\n",
      "Training Accuracy: 0.9788, Testing Accuracy: 0.9748\n",
      "\n"
     ]
    },
    {
     "name": "stdout",
     "output_type": "stream",
     "text": [
      "Epoch 210, Loss 0.0181\n",
      "Training Accuracy: 0.9793, Testing Accuracy: 0.9753\n",
      "\n"
     ]
    },
    {
     "name": "stdout",
     "output_type": "stream",
     "text": [
      "Epoch 220, Loss 0.0177\n",
      "Training Accuracy: 0.9798, Testing Accuracy: 0.9758\n",
      "\n"
     ]
    },
    {
     "name": "stdout",
     "output_type": "stream",
     "text": [
      "Epoch 230, Loss 0.0173\n",
      "Training Accuracy: 0.9805, Testing Accuracy: 0.9758\n",
      "\n"
     ]
    },
    {
     "name": "stdout",
     "output_type": "stream",
     "text": [
      "Epoch 240, Loss 0.017\n",
      "Training Accuracy: 0.9811, Testing Accuracy: 0.9763\n",
      "\n"
     ]
    },
    {
     "data": {
      "text/plain": [
       "0.011317606503164056"
      ]
     },
     "execution_count": 22,
     "metadata": {},
     "output_type": "execute_result"
    }
   ],
   "source": [
    "nn_learner.train_loop(dl)"
   ]
  },
  {
   "cell_type": "code",
   "execution_count": 23,
   "id": "e0163366",
   "metadata": {
    "execution": {
     "iopub.execute_input": "2022-04-16T00:36:28.673719Z",
     "iopub.status.busy": "2022-04-16T00:36:28.672408Z",
     "iopub.status.idle": "2022-04-16T00:36:40.950181Z",
     "shell.execute_reply": "2022-04-16T00:36:40.950582Z"
    },
    "papermill": {
     "duration": 12.31618,
     "end_time": "2022-04-16T00:36:40.950706",
     "exception": false,
     "start_time": "2022-04-16T00:36:28.634526",
     "status": "completed"
    },
    "tags": []
   },
   "outputs": [
    {
     "name": "stdout",
     "output_type": "stream",
     "text": [
      "Epoch 0, Loss 0.2249\n",
      "Training Accuracy: 0.7480, Testing Accuracy: 0.7868\n",
      "\n"
     ]
    },
    {
     "name": "stdout",
     "output_type": "stream",
     "text": [
      "Epoch 10, Loss 0.0979\n",
      "Training Accuracy: 0.9154, Testing Accuracy: 0.9249\n",
      "\n"
     ]
    },
    {
     "name": "stdout",
     "output_type": "stream",
     "text": [
      "Epoch 20, Loss 0.0768\n",
      "Training Accuracy: 0.9310, Testing Accuracy: 0.9435\n",
      "\n"
     ]
    },
    {
     "name": "stdout",
     "output_type": "stream",
     "text": [
      "Epoch 30, Loss 0.0669\n",
      "Training Accuracy: 0.9369, Testing Accuracy: 0.9491\n",
      "\n"
     ]
    },
    {
     "name": "stdout",
     "output_type": "stream",
     "text": [
      "Epoch 40, Loss 0.0607\n",
      "Training Accuracy: 0.9413, Testing Accuracy: 0.9531\n",
      "\n"
     ]
    },
    {
     "name": "stdout",
     "output_type": "stream",
     "text": [
      "Epoch 50, Loss 0.0565\n",
      "Training Accuracy: 0.9451, Testing Accuracy: 0.9541\n",
      "\n"
     ]
    },
    {
     "name": "stdout",
     "output_type": "stream",
     "text": [
      "Epoch 60, Loss 0.0533\n",
      "Training Accuracy: 0.9470, Testing Accuracy: 0.9561\n",
      "\n"
     ]
    },
    {
     "name": "stdout",
     "output_type": "stream",
     "text": [
      "Epoch 70, Loss 0.0509\n",
      "Training Accuracy: 0.9492, Testing Accuracy: 0.9572\n",
      "\n"
     ]
    },
    {
     "name": "stdout",
     "output_type": "stream",
     "text": [
      "Epoch 80, Loss 0.0489\n",
      "Training Accuracy: 0.9502, Testing Accuracy: 0.9572\n",
      "\n"
     ]
    },
    {
     "name": "stdout",
     "output_type": "stream",
     "text": [
      "Epoch 90, Loss 0.0473\n",
      "Training Accuracy: 0.9514, Testing Accuracy: 0.9597\n",
      "\n"
     ]
    },
    {
     "name": "stdout",
     "output_type": "stream",
     "text": [
      "Epoch 100, Loss 0.0459\n",
      "Training Accuracy: 0.9525, Testing Accuracy: 0.9607\n",
      "\n"
     ]
    },
    {
     "name": "stdout",
     "output_type": "stream",
     "text": [
      "Epoch 110, Loss 0.0447\n",
      "Training Accuracy: 0.9537, Testing Accuracy: 0.9627\n",
      "\n"
     ]
    },
    {
     "name": "stdout",
     "output_type": "stream",
     "text": [
      "Epoch 120, Loss 0.0437\n",
      "Training Accuracy: 0.9545, Testing Accuracy: 0.9632\n",
      "\n"
     ]
    },
    {
     "name": "stdout",
     "output_type": "stream",
     "text": [
      "Epoch 130, Loss 0.0427\n",
      "Training Accuracy: 0.9552, Testing Accuracy: 0.9642\n",
      "\n"
     ]
    },
    {
     "name": "stdout",
     "output_type": "stream",
     "text": [
      "Epoch 140, Loss 0.0419\n",
      "Training Accuracy: 0.9553, Testing Accuracy: 0.9657\n",
      "\n"
     ]
    },
    {
     "name": "stdout",
     "output_type": "stream",
     "text": [
      "Epoch 150, Loss 0.0412\n",
      "Training Accuracy: 0.9563, Testing Accuracy: 0.9657\n",
      "\n"
     ]
    },
    {
     "name": "stdout",
     "output_type": "stream",
     "text": [
      "Epoch 160, Loss 0.0405\n",
      "Training Accuracy: 0.9570, Testing Accuracy: 0.9662\n",
      "\n"
     ]
    },
    {
     "name": "stdout",
     "output_type": "stream",
     "text": [
      "Epoch 170, Loss 0.0399\n",
      "Training Accuracy: 0.9574, Testing Accuracy: 0.9667\n",
      "\n"
     ]
    },
    {
     "name": "stdout",
     "output_type": "stream",
     "text": [
      "Epoch 180, Loss 0.0394\n",
      "Training Accuracy: 0.9581, Testing Accuracy: 0.9667\n",
      "\n"
     ]
    },
    {
     "name": "stdout",
     "output_type": "stream",
     "text": [
      "Epoch 190, Loss 0.0389\n",
      "Training Accuracy: 0.9586, Testing Accuracy: 0.9667\n",
      "\n"
     ]
    },
    {
     "name": "stdout",
     "output_type": "stream",
     "text": [
      "Epoch 200, Loss 0.0384\n",
      "Training Accuracy: 0.9592, Testing Accuracy: 0.9662\n",
      "\n"
     ]
    },
    {
     "name": "stdout",
     "output_type": "stream",
     "text": [
      "Epoch 210, Loss 0.038\n",
      "Training Accuracy: 0.9597, Testing Accuracy: 0.9662\n",
      "\n"
     ]
    },
    {
     "name": "stdout",
     "output_type": "stream",
     "text": [
      "Epoch 220, Loss 0.0376\n",
      "Training Accuracy: 0.9603, Testing Accuracy: 0.9662\n",
      "\n"
     ]
    },
    {
     "name": "stdout",
     "output_type": "stream",
     "text": [
      "Epoch 230, Loss 0.0372\n",
      "Training Accuracy: 0.9607, Testing Accuracy: 0.9667\n",
      "\n"
     ]
    },
    {
     "name": "stdout",
     "output_type": "stream",
     "text": [
      "Epoch 240, Loss 0.0368\n",
      "Training Accuracy: 0.9607, Testing Accuracy: 0.9667\n",
      "\n"
     ]
    },
    {
     "data": {
      "text/plain": [
       "0.031340720426352775"
      ]
     },
     "execution_count": 23,
     "metadata": {},
     "output_type": "execute_result"
    }
   ],
   "source": [
    "lr_learner.train_loop(dl)"
   ]
  },
  {
   "cell_type": "code",
   "execution_count": 24,
   "id": "ca410940",
   "metadata": {
    "execution": {
     "iopub.execute_input": "2022-04-16T00:36:41.042213Z",
     "iopub.status.busy": "2022-04-16T00:36:41.041697Z",
     "iopub.status.idle": "2022-04-16T00:36:41.270765Z",
     "shell.execute_reply": "2022-04-16T00:36:41.270322Z"
    },
    "papermill": {
     "duration": 0.27746,
     "end_time": "2022-04-16T00:36:41.270874",
     "exception": false,
     "start_time": "2022-04-16T00:36:40.993414",
     "status": "completed"
    },
    "tags": []
   },
   "outputs": [
    {
     "data": {
      "text/plain": [
       "<matplotlib.legend.Legend at 0x7f30f7706b38>"
      ]
     },
     "execution_count": 24,
     "metadata": {},
     "output_type": "execute_result"
    },
    {
     "data": {
      "image/png": "[encoded data removed]",
      "text/plain": [
       "<Figure size 1080x720 with 1 Axes>"
      ]
     },
     "metadata": {
      "needs_background": "light"
     },
     "output_type": "display_data"
    }
   ],
   "source": [
    "#comparing the results of NN and LR\n",
    "plt.figure(figsize=(15,10))\n",
    "\n",
    "# Neural Network plots\n",
    "plt.plot(acc_nn.accuracies, 'r-', label = \"Training Accuracies - NN\")\n",
    "plt.plot(acc_nn.test_accuracies, 'g-', label = \"Testing Accuracies - NN\")\n",
    "\n",
    "# Logistic Regression plots\n",
    "plt.plot(acc_lr.accuracies, 'k-', label = \"Training Accuracies - LR\")\n",
    "plt.plot(acc_lr.test_accuracies, 'b-', label = \"Testing Accuracies - LR\")\n",
    "plt.legend()"
   ]
  },
  {
   "cell_type": "markdown",
   "id": "80dfb35c",
   "metadata": {
    "papermill": {
     "duration": 0.043929,
     "end_time": "2022-04-16T00:36:41.358640",
     "exception": false,
     "start_time": "2022-04-16T00:36:41.314711",
     "status": "completed"
    },
    "tags": []
   },
   "source": [
    "#### Plotting the outputs of this layer of the NN.\n"
   ]
  },
  {
   "cell_type": "code",
   "execution_count": 25,
   "id": "45eb2ff5",
   "metadata": {
    "execution": {
     "iopub.execute_input": "2022-04-16T00:36:41.449515Z",
     "iopub.status.busy": "2022-04-16T00:36:41.448968Z",
     "iopub.status.idle": "2022-04-16T00:36:41.484928Z",
     "shell.execute_reply": "2022-04-16T00:36:41.485557Z"
    },
    "papermill": {
     "duration": 0.083554,
     "end_time": "2022-04-16T00:36:41.485687",
     "exception": false,
     "start_time": "2022-04-16T00:36:41.402133",
     "status": "completed"
    },
    "tags": []
   },
   "outputs": [],
   "source": [
    "new_model = Model(layers[:-2])\n",
    "testing_plot = new_model(testing_data_x)"
   ]
  },
  {
   "cell_type": "code",
   "execution_count": 26,
   "id": "4c0a5485",
   "metadata": {
    "execution": {
     "iopub.execute_input": "2022-04-16T00:36:41.580569Z",
     "iopub.status.busy": "2022-04-16T00:36:41.579187Z",
     "iopub.status.idle": "2022-04-16T00:36:41.784036Z",
     "shell.execute_reply": "2022-04-16T00:36:41.783594Z"
    },
    "papermill": {
     "duration": 0.254072,
     "end_time": "2022-04-16T00:36:41.784144",
     "exception": false,
     "start_time": "2022-04-16T00:36:41.530072",
     "status": "completed"
    },
    "tags": []
   },
   "outputs": [
    {
     "data": {
      "text/plain": [
       "Text(0.5, 1.0, 'Outputs')"
      ]
     },
     "execution_count": 26,
     "metadata": {},
     "output_type": "execute_result"
    },
    {
     "data": {
      "image/png": "[encoded data removed]",
      "text/plain": [
       "<Figure size 576x504 with 1 Axes>"
      ]
     },
     "metadata": {
      "needs_background": "light"
     },
     "output_type": "display_data"
    }
   ],
   "source": [
    "# Plotting the scatter plot of points and color coding by class\n",
    "plt.figure(figsize=(8,7))\n",
    "plt.scatter(testing_plot[:,0], testing_plot[:,1], alpha = 0.1, c = y_test.ravel());\n",
    "plt.title('Outputs')"
   ]
  },
  {
   "cell_type": "markdown",
   "id": "a74fcf8f",
   "metadata": {
    "papermill": {
     "duration": 0.066908,
     "end_time": "2022-04-16T00:36:41.897723",
     "exception": false,
     "start_time": "2022-04-16T00:36:41.830815",
     "status": "completed"
    },
    "tags": []
   },
   "source": [
    "Probability contours"
   ]
  },
  {
   "cell_type": "code",
   "execution_count": 27,
   "id": "d0afc8e3",
   "metadata": {
    "execution": {
     "iopub.execute_input": "2022-04-16T00:36:41.997956Z",
     "iopub.status.busy": "2022-04-16T00:36:41.993602Z",
     "iopub.status.idle": "2022-04-16T00:36:42.004897Z",
     "shell.execute_reply": "2022-04-16T00:36:42.004492Z"
    },
    "papermill": {
     "duration": 0.060663,
     "end_time": "2022-04-16T00:36:42.005000",
     "exception": false,
     "start_time": "2022-04-16T00:36:41.944337",
     "status": "completed"
    },
    "tags": []
   },
   "outputs": [],
   "source": [
    "model_prob = Model(layers[-2:]) "
   ]
  },
  {
   "cell_type": "code",
   "execution_count": 28,
   "id": "9b96e238",
   "metadata": {
    "execution": {
     "iopub.execute_input": "2022-04-16T00:36:42.102608Z",
     "iopub.status.busy": "2022-04-16T00:36:42.102113Z",
     "iopub.status.idle": "2022-04-16T00:36:42.114302Z",
     "shell.execute_reply": "2022-04-16T00:36:42.114702Z"
    },
    "papermill": {
     "duration": 0.063206,
     "end_time": "2022-04-16T00:36:42.114828",
     "exception": false,
     "start_time": "2022-04-16T00:36:42.051622",
     "status": "completed"
    },
    "tags": []
   },
   "outputs": [],
   "source": [
    "#creating the x and y ranges according to the above generated plot.\n",
    "x_range = np.linspace(-4, 1, 100) \n",
    "y_range = np.linspace(-6, 6, 100) \n",
    "x_grid, y_grid = np.meshgrid(x_range, y_range) # x_grid and y_grig are of size 100 X 100\n",
    "\n",
    "# converting x_grid and y_grid to continuous arrays\n",
    "x_gridflat = np.ravel(x_grid)\n",
    "y_gridflat = np.ravel(y_grid)\n",
    "\n",
    "# The last layer of the current model takes two columns as input. Hence transpose of np.vstack() is required.\n",
    "X = np.vstack((x_gridflat, y_gridflat)).T\n",
    "\n",
    "prob_contour = model_prob(X).reshape(100,100) "
   ]
  },
  {
   "cell_type": "code",
   "execution_count": 29,
   "id": "da72499a",
   "metadata": {
    "execution": {
     "iopub.execute_input": "2022-04-16T00:36:42.213636Z",
     "iopub.status.busy": "2022-04-16T00:36:42.213141Z",
     "iopub.status.idle": "2022-04-16T00:36:42.459190Z",
     "shell.execute_reply": "2022-04-16T00:36:42.458771Z"
    },
    "papermill": {
     "duration": 0.296843,
     "end_time": "2022-04-16T00:36:42.459300",
     "exception": false,
     "start_time": "2022-04-16T00:36:42.162457",
     "status": "completed"
    },
    "tags": []
   },
   "outputs": [
    {
     "data": {
      "image/png": "[encoded data removed]",
      "text/plain": [
       "<Figure size 720x648 with 1 Axes>"
      ]
     },
     "metadata": {
      "needs_background": "light"
     },
     "output_type": "display_data"
    }
   ],
   "source": [
    "plt.figure(figsize=(10,9))\n",
    "plt.scatter(testing_plot[:,0], testing_plot[:,1], alpha = 0.1, c = y_test.ravel())\n",
    "contours = plt.contour(x_grid,y_grid,prob_contour)\n",
    "plt.title('Probability Contours')\n",
    "plt.clabel(contours, inline = True );"
   ]
  },
  {
   "cell_type": "code",
   "execution_count": null,
   "id": "e81b4ac7",
   "metadata": {
    "papermill": {
     "duration": 0.04921,
     "end_time": "2022-04-16T00:36:42.558388",
     "exception": false,
     "start_time": "2022-04-16T00:36:42.509178",
     "status": "completed"
    },
    "tags": []
   },
   "outputs": [],
   "source": []
  }
 ],
 "metadata": {
  "kernelspec": {
   "display_name": "Python 3",
   "language": "python",
   "name": "python3"
  },
  "language_info": {
   "codemirror_mode": {
    "name": "ipython",
    "version": 3
   },
   "file_extension": ".py",
   "mimetype": "text/x-python",
   "name": "python",
   "nbconvert_exporter": "python",
   "pygments_lexer": "ipython3",
   "version": "3.6.15"
  },
  "papermill": {
   "default_parameters": {},
   "duration": 196.067935,
   "end_time": "2022-04-16T00:36:42.924324",
   "environment_variables": {},
   "exception": null,
   "input_path": "2020-08-11-part2.ipynb",
   "output_path": "2020-08-11-part2.ipynb",
   "parameters": {},
   "start_time": "2022-04-16T00:33:26.856389",
   "version": "2.3.3"
  }
 },
 "nbformat": 4,
 "nbformat_minor": 5
}