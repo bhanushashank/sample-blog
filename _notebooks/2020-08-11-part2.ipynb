{
 "cells": [
  {
   "cell_type": "markdown",
   "id": "98380cd3",
   "metadata": {
    "papermill": {
     "duration": 0.029109,
     "end_time": "2022-01-19T10:07:00.986095",
     "exception": false,
     "start_time": "2022-01-19T10:07:00.956986",
     "status": "completed"
    },
    "tags": []
   },
   "source": [
    "# Distinguish Your Own Digits (DYOD)"
   ]
  },
  {
   "cell_type": "markdown",
   "id": "ef31240d",
   "metadata": {
    "papermill": {
     "duration": 0.023855,
     "end_time": "2022-01-19T10:07:01.034442",
     "exception": false,
     "start_time": "2022-01-19T10:07:01.010587",
     "status": "completed"
    },
    "tags": []
   },
   "source": [
    "You are going to write a classifier that distinguishes between the number 3 and number 8."
   ]
  },
  {
   "cell_type": "code",
   "execution_count": 1,
   "id": "b15c8646",
   "metadata": {
    "execution": {
     "iopub.execute_input": "2022-01-19T10:07:01.093520Z",
     "iopub.status.busy": "2022-01-19T10:07:01.092960Z",
     "iopub.status.idle": "2022-01-19T10:07:01.103000Z",
     "shell.execute_reply": "2022-01-19T10:07:01.102560Z"
    },
    "papermill": {
     "duration": 0.044788,
     "end_time": "2022-01-19T10:07:01.103116",
     "exception": false,
     "start_time": "2022-01-19T10:07:01.058328",
     "status": "completed"
    },
    "tags": []
   },
   "outputs": [],
   "source": [
    "%load_ext autoreload\n",
    "%autoreload 2"
   ]
  },
  {
   "cell_type": "code",
   "execution_count": 2,
   "id": "22ef38dc",
   "metadata": {
    "execution": {
     "iopub.execute_input": "2022-01-19T10:07:01.160878Z",
     "iopub.status.busy": "2022-01-19T10:07:01.160374Z",
     "iopub.status.idle": "2022-01-19T10:07:01.718460Z",
     "shell.execute_reply": "2022-01-19T10:07:01.718000Z"
    },
    "papermill": {
     "duration": 0.591349,
     "end_time": "2022-01-19T10:07:01.718583",
     "exception": false,
     "start_time": "2022-01-19T10:07:01.127234",
     "status": "completed"
    },
    "tags": []
   },
   "outputs": [],
   "source": [
    "%matplotlib inline\n",
    "import numpy as np\n",
    "import matplotlib.pyplot as plt\n",
    "import pandas as pd"
   ]
  },
  {
   "cell_type": "markdown",
   "id": "ba036198",
   "metadata": {
    "papermill": {
     "duration": 0.024142,
     "end_time": "2022-01-19T10:07:01.767230",
     "exception": false,
     "start_time": "2022-01-19T10:07:01.743088",
     "status": "completed"
    },
    "tags": []
   },
   "source": [
    "From the command line run `pip install mnist`. This is a library that will help you bring down the mnist dataset. If you run this from a notebook, you need to put  `!pip install mnist` in a cell by itself."
   ]
  },
  {
   "cell_type": "code",
   "execution_count": 3,
   "id": "bb6ad8a1",
   "metadata": {
    "execution": {
     "iopub.execute_input": "2022-01-19T10:07:01.819891Z",
     "iopub.status.busy": "2022-01-19T10:07:01.819382Z",
     "iopub.status.idle": "2022-01-19T10:07:03.530643Z",
     "shell.execute_reply": "2022-01-19T10:07:03.530099Z"
    },
    "papermill": {
     "duration": 1.739409,
     "end_time": "2022-01-19T10:07:03.530775",
     "exception": false,
     "start_time": "2022-01-19T10:07:01.791366",
     "status": "completed"
    },
    "tags": []
   },
   "outputs": [
    {
     "name": "stdout",
     "output_type": "stream",
     "text": [
      "Collecting mnist\r\n"
     ]
    },
    {
     "name": "stdout",
     "output_type": "stream",
     "text": [
      "  Downloading mnist-0.2.2-py2.py3-none-any.whl (3.5 kB)\r\n"
     ]
    },
    {
     "name": "stdout",
     "output_type": "stream",
     "text": [
      "Requirement already satisfied: numpy in /opt/hostedtoolcache/Python/3.6.15/x64/lib/python3.6/site-packages (from mnist) (1.19.5)\r\n"
     ]
    },
    {
     "name": "stdout",
     "output_type": "stream",
     "text": [
      "Installing collected packages: mnist\r\n"
     ]
    },
    {
     "name": "stdout",
     "output_type": "stream",
     "text": [
      "Successfully installed mnist-0.2.2\r\n"
     ]
    }
   ],
   "source": [
    "!pip install mnist"
   ]
  },
  {
   "cell_type": "markdown",
   "id": "69df9c9a",
   "metadata": {
    "papermill": {
     "duration": 0.025557,
     "end_time": "2022-01-19T10:07:03.582120",
     "exception": false,
     "start_time": "2022-01-19T10:07:03.556563",
     "status": "completed"
    },
    "tags": []
   },
   "source": [
    "## Preparing the Data"
   ]
  },
  {
   "cell_type": "code",
   "execution_count": 4,
   "id": "7f69d806",
   "metadata": {
    "execution": {
     "iopub.execute_input": "2022-01-19T10:07:03.650016Z",
     "iopub.status.busy": "2022-01-19T10:07:03.648898Z",
     "iopub.status.idle": "2022-01-19T10:07:03.651856Z",
     "shell.execute_reply": "2022-01-19T10:07:03.652237Z"
    },
    "papermill": {
     "duration": 0.045241,
     "end_time": "2022-01-19T10:07:03.652364",
     "exception": false,
     "start_time": "2022-01-19T10:07:03.607123",
     "status": "completed"
    },
    "tags": []
   },
   "outputs": [],
   "source": [
    "import mnist"
   ]
  },
  {
   "cell_type": "code",
   "execution_count": 5,
   "id": "a411e44f",
   "metadata": {
    "execution": {
     "iopub.execute_input": "2022-01-19T10:07:03.707562Z",
     "iopub.status.busy": "2022-01-19T10:07:03.706904Z",
     "iopub.status.idle": "2022-01-19T10:07:04.336557Z",
     "shell.execute_reply": "2022-01-19T10:07:04.336082Z"
    },
    "papermill": {
     "duration": 0.659214,
     "end_time": "2022-01-19T10:07:04.336677",
     "exception": false,
     "start_time": "2022-01-19T10:07:03.677463",
     "status": "completed"
    },
    "tags": []
   },
   "outputs": [],
   "source": [
    "train_images = mnist.train_images()\n",
    "train_labels = mnist.train_labels()"
   ]
  },
  {
   "cell_type": "code",
   "execution_count": 6,
   "id": "dceab3a5",
   "metadata": {
    "execution": {
     "iopub.execute_input": "2022-01-19T10:07:04.407346Z",
     "iopub.status.busy": "2022-01-19T10:07:04.406831Z",
     "iopub.status.idle": "2022-01-19T10:07:04.411788Z",
     "shell.execute_reply": "2022-01-19T10:07:04.411380Z"
    },
    "papermill": {
     "duration": 0.049838,
     "end_time": "2022-01-19T10:07:04.411896",
     "exception": false,
     "start_time": "2022-01-19T10:07:04.362058",
     "status": "completed"
    },
    "tags": []
   },
   "outputs": [
    {
     "data": {
      "text/plain": [
       "((60000, 28, 28), (60000,))"
      ]
     },
     "execution_count": 6,
     "metadata": {},
     "output_type": "execute_result"
    }
   ],
   "source": [
    "train_images.shape, train_labels.shape"
   ]
  },
  {
   "cell_type": "code",
   "execution_count": 7,
   "id": "f50dc2bb",
   "metadata": {
    "execution": {
     "iopub.execute_input": "2022-01-19T10:07:04.466301Z",
     "iopub.status.busy": "2022-01-19T10:07:04.465793Z",
     "iopub.status.idle": "2022-01-19T10:07:04.705544Z",
     "shell.execute_reply": "2022-01-19T10:07:04.704954Z"
    },
    "papermill": {
     "duration": 0.268422,
     "end_time": "2022-01-19T10:07:04.705678",
     "exception": false,
     "start_time": "2022-01-19T10:07:04.437256",
     "status": "completed"
    },
    "tags": []
   },
   "outputs": [],
   "source": [
    "test_images = mnist.test_images()\n",
    "test_labels = mnist.test_labels()"
   ]
  },
  {
   "cell_type": "code",
   "execution_count": 8,
   "id": "fc38cf1b",
   "metadata": {
    "execution": {
     "iopub.execute_input": "2022-01-19T10:07:04.761070Z",
     "iopub.status.busy": "2022-01-19T10:07:04.760563Z",
     "iopub.status.idle": "2022-01-19T10:07:04.773233Z",
     "shell.execute_reply": "2022-01-19T10:07:04.772775Z"
    },
    "papermill": {
     "duration": 0.04146,
     "end_time": "2022-01-19T10:07:04.773343",
     "exception": false,
     "start_time": "2022-01-19T10:07:04.731883",
     "status": "completed"
    },
    "tags": []
   },
   "outputs": [
    {
     "data": {
      "text/plain": [
       "((10000, 28, 28), (10000,))"
      ]
     },
     "execution_count": 8,
     "metadata": {},
     "output_type": "execute_result"
    }
   ],
   "source": [
    "test_images.shape, test_labels.shape"
   ]
  },
  {
   "cell_type": "code",
   "execution_count": 9,
   "id": "f9ed8fe0",
   "metadata": {
    "execution": {
     "iopub.execute_input": "2022-01-19T10:07:04.854059Z",
     "iopub.status.busy": "2022-01-19T10:07:04.837771Z",
     "iopub.status.idle": "2022-01-19T10:07:04.969512Z",
     "shell.execute_reply": "2022-01-19T10:07:04.968975Z"
    },
    "papermill": {
     "duration": 0.170715,
     "end_time": "2022-01-19T10:07:04.969651",
     "exception": false,
     "start_time": "2022-01-19T10:07:04.798936",
     "status": "completed"
    },
    "tags": []
   },
   "outputs": [
    {
     "name": "stdout",
     "output_type": "stream",
     "text": [
      "2\n"
     ]
    },
    {
     "data": {
      "text/plain": [
       "<matplotlib.image.AxesImage at 0x7f09d31b45f8>"
      ]
     },
     "execution_count": 9,
     "metadata": {},
     "output_type": "execute_result"
    },
    {
     "data": {
      "image/png": "[encoded data removed]",
      "text/plain": [
       "<Figure size 432x288 with 1 Axes>"
      ]
     },
     "metadata": {
      "needs_background": "light"
     },
     "output_type": "display_data"
    }
   ],
   "source": [
    "image_index = 7776 # You may select anything up to 60,000\n",
    "print(train_labels[image_index]) \n",
    "plt.imshow(train_images[image_index], cmap='Greys')"
   ]
  },
  {
   "cell_type": "markdown",
   "id": "a8d2388d",
   "metadata": {
    "papermill": {
     "duration": 0.026841,
     "end_time": "2022-01-19T10:07:05.023965",
     "exception": false,
     "start_time": "2022-01-19T10:07:04.997124",
     "status": "completed"
    },
    "tags": []
   },
   "source": [
    "## Filter data to get 3 and 8 out"
   ]
  },
  {
   "cell_type": "code",
   "execution_count": 10,
   "id": "776f7fc7",
   "metadata": {
    "execution": {
     "iopub.execute_input": "2022-01-19T10:07:05.081280Z",
     "iopub.status.busy": "2022-01-19T10:07:05.080736Z",
     "iopub.status.idle": "2022-01-19T10:07:05.098471Z",
     "shell.execute_reply": "2022-01-19T10:07:05.097972Z"
    },
    "papermill": {
     "duration": 0.047957,
     "end_time": "2022-01-19T10:07:05.098592",
     "exception": false,
     "start_time": "2022-01-19T10:07:05.050635",
     "status": "completed"
    },
    "tags": []
   },
   "outputs": [],
   "source": [
    "train_filter = np.where((train_labels == 3 ) | (train_labels == 8))\n",
    "test_filter = np.where((test_labels == 3) | (test_labels == 8))\n",
    "X_train, y_train = train_images[train_filter], train_labels[train_filter]\n",
    "X_test, y_test = test_images[test_filter], test_labels[test_filter]"
   ]
  },
  {
   "cell_type": "markdown",
   "id": "948f0b7e",
   "metadata": {
    "papermill": {
     "duration": 0.026928,
     "end_time": "2022-01-19T10:07:05.154069",
     "exception": false,
     "start_time": "2022-01-19T10:07:05.127141",
     "status": "completed"
    },
    "tags": []
   },
   "source": [
    "We normalize the pizel values in the 0 to 1 range"
   ]
  },
  {
   "cell_type": "code",
   "execution_count": 11,
   "id": "ee4c2166",
   "metadata": {
    "execution": {
     "iopub.execute_input": "2022-01-19T10:07:05.210441Z",
     "iopub.status.busy": "2022-01-19T10:07:05.209939Z",
     "iopub.status.idle": "2022-01-19T10:07:05.257898Z",
     "shell.execute_reply": "2022-01-19T10:07:05.257448Z"
    },
    "papermill": {
     "duration": 0.077414,
     "end_time": "2022-01-19T10:07:05.258018",
     "exception": false,
     "start_time": "2022-01-19T10:07:05.180604",
     "status": "completed"
    },
    "tags": []
   },
   "outputs": [],
   "source": [
    "X_train = X_train/255.\n",
    "X_test = X_test/255."
   ]
  },
  {
   "cell_type": "markdown",
   "id": "ddcf4fab",
   "metadata": {
    "papermill": {
     "duration": 0.026812,
     "end_time": "2022-01-19T10:07:05.311815",
     "exception": false,
     "start_time": "2022-01-19T10:07:05.285003",
     "status": "completed"
    },
    "tags": []
   },
   "source": [
    "And setup the labels as 1 (when the digit is 3) and 0 (when the digit is 8)"
   ]
  },
  {
   "cell_type": "code",
   "execution_count": 12,
   "id": "7dc908f2",
   "metadata": {
    "execution": {
     "iopub.execute_input": "2022-01-19T10:07:05.381402Z",
     "iopub.status.busy": "2022-01-19T10:07:05.378351Z",
     "iopub.status.idle": "2022-01-19T10:07:05.383653Z",
     "shell.execute_reply": "2022-01-19T10:07:05.383223Z"
    },
    "papermill": {
     "duration": 0.045265,
     "end_time": "2022-01-19T10:07:05.383759",
     "exception": false,
     "start_time": "2022-01-19T10:07:05.338494",
     "status": "completed"
    },
    "tags": []
   },
   "outputs": [],
   "source": [
    "y_train = 1*(y_train==3)\n",
    "y_test = 1*(y_test==3)"
   ]
  },
  {
   "cell_type": "code",
   "execution_count": 13,
   "id": "01e4e969",
   "metadata": {
    "execution": {
     "iopub.execute_input": "2022-01-19T10:07:05.441135Z",
     "iopub.status.busy": "2022-01-19T10:07:05.440604Z",
     "iopub.status.idle": "2022-01-19T10:07:05.454185Z",
     "shell.execute_reply": "2022-01-19T10:07:05.453756Z"
    },
    "papermill": {
     "duration": 0.043073,
     "end_time": "2022-01-19T10:07:05.454290",
     "exception": false,
     "start_time": "2022-01-19T10:07:05.411217",
     "status": "completed"
    },
    "tags": []
   },
   "outputs": [
    {
     "data": {
      "text/plain": [
       "((11982, 28, 28), (1984, 28, 28))"
      ]
     },
     "execution_count": 13,
     "metadata": {},
     "output_type": "execute_result"
    }
   ],
   "source": [
    "X_train.shape, X_test.shape"
   ]
  },
  {
   "cell_type": "markdown",
   "id": "5ccf3f85",
   "metadata": {
    "papermill": {
     "duration": 0.026757,
     "end_time": "2022-01-19T10:07:05.507759",
     "exception": false,
     "start_time": "2022-01-19T10:07:05.481002",
     "status": "completed"
    },
    "tags": []
   },
   "source": [
    "We reshape the data to flatten the image pixels into a set of features or co-variates:"
   ]
  },
  {
   "cell_type": "code",
   "execution_count": 14,
   "id": "5286a4a3",
   "metadata": {
    "execution": {
     "iopub.execute_input": "2022-01-19T10:07:05.570339Z",
     "iopub.status.busy": "2022-01-19T10:07:05.569825Z",
     "iopub.status.idle": "2022-01-19T10:07:05.580455Z",
     "shell.execute_reply": "2022-01-19T10:07:05.580024Z"
    },
    "papermill": {
     "duration": 0.045874,
     "end_time": "2022-01-19T10:07:05.580560",
     "exception": false,
     "start_time": "2022-01-19T10:07:05.534686",
     "status": "completed"
    },
    "tags": []
   },
   "outputs": [
    {
     "data": {
      "text/plain": [
       "((11982, 784), (1984, 784))"
      ]
     },
     "execution_count": 14,
     "metadata": {},
     "output_type": "execute_result"
    }
   ],
   "source": [
    "X_train = X_train.reshape(X_train.shape[0], -1)\n",
    "X_test = X_test.reshape(X_test.shape[0], -1)\n",
    "X_train.shape, X_test.shape"
   ]
  },
  {
   "cell_type": "code",
   "execution_count": 15,
   "id": "73c5f88a",
   "metadata": {
    "execution": {
     "iopub.execute_input": "2022-01-19T10:07:05.645204Z",
     "iopub.status.busy": "2022-01-19T10:07:05.644649Z",
     "iopub.status.idle": "2022-01-19T10:07:05.659623Z",
     "shell.execute_reply": "2022-01-19T10:07:05.660034Z"
    },
    "papermill": {
     "duration": 0.052254,
     "end_time": "2022-01-19T10:07:05.660160",
     "exception": false,
     "start_time": "2022-01-19T10:07:05.607906",
     "status": "completed"
    },
    "tags": []
   },
   "outputs": [],
   "source": [
    "#Impoting functions from 'Kudzu'\n",
    "from kudzu.model import Model\n",
    "from kudzu.train import Learner\n",
    "from kudzu.optim import GD\n",
    "from kudzu.data import Data, Sampler,Dataloader\n",
    "\n",
    "from kudzu.callbacks import AccCallback\n",
    "from kudzu.callbacks import ClfCallback\n",
    "\n",
    "from kudzu.loss import MSE\n",
    "\n",
    "from kudzu.layer import Sigmoid,Relu\n",
    "from kudzu.layer import Affine"
   ]
  },
  {
   "cell_type": "markdown",
   "id": "bc01172a",
   "metadata": {
    "papermill": {
     "duration": 0.027203,
     "end_time": "2022-01-19T10:07:05.714877",
     "exception": false,
     "start_time": "2022-01-19T10:07:05.687674",
     "status": "completed"
    },
    "tags": []
   },
   "source": [
    "### Let us create a `Config` class, to store important parameters. \n",
    "This class essentially plays the role of a dictionary."
   ]
  },
  {
   "cell_type": "code",
   "execution_count": 16,
   "id": "978281aa",
   "metadata": {
    "execution": {
     "iopub.execute_input": "2022-01-19T10:07:05.778223Z",
     "iopub.status.busy": "2022-01-19T10:07:05.777707Z",
     "iopub.status.idle": "2022-01-19T10:07:05.786086Z",
     "shell.execute_reply": "2022-01-19T10:07:05.785678Z"
    },
    "papermill": {
     "duration": 0.044196,
     "end_time": "2022-01-19T10:07:05.786193",
     "exception": false,
     "start_time": "2022-01-19T10:07:05.741997",
     "status": "completed"
    },
    "tags": []
   },
   "outputs": [],
   "source": [
    "class Config:\n",
    "    pass\n",
    "config = Config()\n",
    "config.lr = 0.001\n",
    "config.num_epochs = 250\n",
    "config.bs = 50"
   ]
  },
  {
   "cell_type": "markdown",
   "id": "1385fa59",
   "metadata": {
    "papermill": {
     "duration": 0.027023,
     "end_time": "2022-01-19T10:07:05.840411",
     "exception": false,
     "start_time": "2022-01-19T10:07:05.813388",
     "status": "completed"
    },
    "tags": []
   },
   "source": [
    "### Running Models with the Training data\n",
    "Details about the network layers:\n",
    "- A first affine layer has 784 inputs and does 100 affine transforms. These are followed by a Relu\n",
    "- A second affine layer has 100 inputs from the 100 activations of the past layer, and does 100 affine transforms. These are followed by a Relu\n",
    "- A third affine layer has 100 activations and does 2 affine transformations to create an embedding for visualization. There is no non-linearity here.\n",
    "- A final \"logistic regression\" which has an affine transform from 2 inputs to 1 output, which is squeezed through a sigmoid.\n"
   ]
  },
  {
   "cell_type": "code",
   "execution_count": 17,
   "id": "2b9c66db",
   "metadata": {
    "execution": {
     "iopub.execute_input": "2022-01-19T10:07:05.903921Z",
     "iopub.status.busy": "2022-01-19T10:07:05.903407Z",
     "iopub.status.idle": "2022-01-19T10:07:05.913023Z",
     "shell.execute_reply": "2022-01-19T10:07:05.912611Z"
    },
    "papermill": {
     "duration": 0.045621,
     "end_time": "2022-01-19T10:07:05.913153",
     "exception": false,
     "start_time": "2022-01-19T10:07:05.867532",
     "status": "completed"
    },
    "tags": []
   },
   "outputs": [],
   "source": [
    "data = Data(X_train, y_train.reshape(-1,1))\n",
    "sampler = Sampler(data, config.bs, shuffle=True)\n",
    "\n",
    "dl = Dataloader(data, sampler)\n",
    "\n",
    "opt = GD(config.lr)\n",
    "loss = MSE()"
   ]
  },
  {
   "cell_type": "code",
   "execution_count": 18,
   "id": "b275e4c2",
   "metadata": {
    "execution": {
     "iopub.execute_input": "2022-01-19T10:07:05.971575Z",
     "iopub.status.busy": "2022-01-19T10:07:05.971069Z",
     "iopub.status.idle": "2022-01-19T10:07:05.983003Z",
     "shell.execute_reply": "2022-01-19T10:07:05.982575Z"
    },
    "papermill": {
     "duration": 0.042794,
     "end_time": "2022-01-19T10:07:05.983107",
     "exception": false,
     "start_time": "2022-01-19T10:07:05.940313",
     "status": "completed"
    },
    "tags": []
   },
   "outputs": [],
   "source": [
    "training_data_x = X_train\n",
    "testing_data_x = X_test\n",
    "training_data_y = y_train.reshape(-1,1)\n",
    "testing_data_y = y_test.reshape(-1,1)"
   ]
  },
  {
   "cell_type": "code",
   "execution_count": 19,
   "id": "76951160",
   "metadata": {
    "execution": {
     "iopub.execute_input": "2022-01-19T10:07:06.050451Z",
     "iopub.status.busy": "2022-01-19T10:07:06.049931Z",
     "iopub.status.idle": "2022-01-19T10:07:06.060062Z",
     "shell.execute_reply": "2022-01-19T10:07:06.059633Z"
    },
    "papermill": {
     "duration": 0.050042,
     "end_time": "2022-01-19T10:07:06.060167",
     "exception": false,
     "start_time": "2022-01-19T10:07:06.010125",
     "status": "completed"
    },
    "tags": []
   },
   "outputs": [
    {
     "name": "stdout",
     "output_type": "stream",
     "text": [
      "xavier\n",
      "xavier\n",
      "xavier\n",
      "xavier\n",
      "xavier\n"
     ]
    }
   ],
   "source": [
    "layers = [Affine(\"first\", 784, 100), Relu(\"first\"), Affine(\"second\", 100, 100), Relu(\"second\"), Affine(\"third\", 100, 2), Affine(\"last\", 2, 1), Sigmoid(\"last\")]\n",
    "model_nn = Model(layers)\n",
    "model_lr = Model([Affine(\"logits\", 784, 1), Sigmoid(\"sigmoid\")])"
   ]
  },
  {
   "cell_type": "code",
   "execution_count": 20,
   "id": "6eede77a",
   "metadata": {
    "execution": {
     "iopub.execute_input": "2022-01-19T10:07:06.132729Z",
     "iopub.status.busy": "2022-01-19T10:07:06.129731Z",
     "iopub.status.idle": "2022-01-19T10:07:06.134972Z",
     "shell.execute_reply": "2022-01-19T10:07:06.134567Z"
    },
    "papermill": {
     "duration": 0.047274,
     "end_time": "2022-01-19T10:07:06.135076",
     "exception": false,
     "start_time": "2022-01-19T10:07:06.087802",
     "status": "completed"
    },
    "tags": []
   },
   "outputs": [],
   "source": [
    "nn_learner = Learner(loss, model_nn, opt, config.num_epochs)\n",
    "acc_nn = ClfCallback(nn_learner, config.bs, training_data_x , testing_data_x, training_data_y, testing_data_y)\n",
    "nn_learner.set_callbacks([acc_nn])"
   ]
  },
  {
   "cell_type": "code",
   "execution_count": 21,
   "id": "877b6cc7",
   "metadata": {
    "execution": {
     "iopub.execute_input": "2022-01-19T10:07:06.203943Z",
     "iopub.status.busy": "2022-01-19T10:07:06.197762Z",
     "iopub.status.idle": "2022-01-19T10:07:06.205778Z",
     "shell.execute_reply": "2022-01-19T10:07:06.206206Z"
    },
    "papermill": {
     "duration": 0.043909,
     "end_time": "2022-01-19T10:07:06.206324",
     "exception": false,
     "start_time": "2022-01-19T10:07:06.162415",
     "status": "completed"
    },
    "tags": []
   },
   "outputs": [],
   "source": [
    "lr_learner = Learner(loss, model_lr, opt, config.num_epochs)\n",
    "acc_lr = ClfCallback(lr_learner, config.bs, training_data_x , testing_data_x, training_data_y, testing_data_y)\n",
    "lr_learner.set_callbacks([acc_lr])"
   ]
  },
  {
   "cell_type": "code",
   "execution_count": 22,
   "id": "d9b133c3",
   "metadata": {
    "execution": {
     "iopub.execute_input": "2022-01-19T10:07:06.270008Z",
     "iopub.status.busy": "2022-01-19T10:07:06.269510Z",
     "iopub.status.idle": "2022-01-19T10:08:20.043504Z",
     "shell.execute_reply": "2022-01-19T10:08:20.044225Z"
    },
    "papermill": {
     "duration": 73.810569,
     "end_time": "2022-01-19T10:08:20.044370",
     "exception": false,
     "start_time": "2022-01-19T10:07:06.233801",
     "status": "completed"
    },
    "tags": []
   },
   "outputs": [
    {
     "name": "stdout",
     "output_type": "stream",
     "text": [
      "Epoch 0, Loss 0.2127\n",
      "Training Accuracy: 0.8045, Testing Accuracy: 0.8332\n",
      "\n"
     ]
    },
    {
     "name": "stdout",
     "output_type": "stream",
     "text": [
      "Epoch 10, Loss 0.0537\n",
      "Training Accuracy: 0.9440, Testing Accuracy: 0.9561\n",
      "\n"
     ]
    },
    {
     "name": "stdout",
     "output_type": "stream",
     "text": [
      "Epoch 20, Loss 0.0393\n",
      "Training Accuracy: 0.9568, Testing Accuracy: 0.9672\n",
      "\n"
     ]
    },
    {
     "name": "stdout",
     "output_type": "stream",
     "text": [
      "Epoch 30, Loss 0.0335\n",
      "Training Accuracy: 0.9625, Testing Accuracy: 0.9698\n",
      "\n"
     ]
    },
    {
     "name": "stdout",
     "output_type": "stream",
     "text": [
      "Epoch 40, Loss 0.0302\n",
      "Training Accuracy: 0.9664, Testing Accuracy: 0.9713\n",
      "\n"
     ]
    },
    {
     "name": "stdout",
     "output_type": "stream",
     "text": [
      "Epoch 50, Loss 0.0279\n",
      "Training Accuracy: 0.9687, Testing Accuracy: 0.9713\n",
      "\n"
     ]
    },
    {
     "name": "stdout",
     "output_type": "stream",
     "text": [
      "Epoch 60, Loss 0.0262\n",
      "Training Accuracy: 0.9709, Testing Accuracy: 0.9728\n",
      "\n"
     ]
    },
    {
     "name": "stdout",
     "output_type": "stream",
     "text": [
      "Epoch 70, Loss 0.0249\n",
      "Training Accuracy: 0.9724, Testing Accuracy: 0.9738\n",
      "\n"
     ]
    },
    {
     "name": "stdout",
     "output_type": "stream",
     "text": [
      "Epoch 80, Loss 0.0238\n",
      "Training Accuracy: 0.9735, Testing Accuracy: 0.9743\n",
      "\n"
     ]
    },
    {
     "name": "stdout",
     "output_type": "stream",
     "text": [
      "Epoch 90, Loss 0.0228\n",
      "Training Accuracy: 0.9745, Testing Accuracy: 0.9753\n",
      "\n"
     ]
    },
    {
     "name": "stdout",
     "output_type": "stream",
     "text": [
      "Epoch 100, Loss 0.022\n",
      "Training Accuracy: 0.9760, Testing Accuracy: 0.9748\n",
      "\n"
     ]
    },
    {
     "name": "stdout",
     "output_type": "stream",
     "text": [
      "Epoch 110, Loss 0.0212\n",
      "Training Accuracy: 0.9774, Testing Accuracy: 0.9753\n",
      "\n"
     ]
    },
    {
     "name": "stdout",
     "output_type": "stream",
     "text": [
      "Epoch 120, Loss 0.0206\n",
      "Training Accuracy: 0.9783, Testing Accuracy: 0.9753\n",
      "\n"
     ]
    },
    {
     "name": "stdout",
     "output_type": "stream",
     "text": [
      "Epoch 130, Loss 0.0199\n",
      "Training Accuracy: 0.9789, Testing Accuracy: 0.9763\n",
      "\n"
     ]
    },
    {
     "name": "stdout",
     "output_type": "stream",
     "text": [
      "Epoch 140, Loss 0.0194\n",
      "Training Accuracy: 0.9796, Testing Accuracy: 0.9753\n",
      "\n"
     ]
    },
    {
     "name": "stdout",
     "output_type": "stream",
     "text": [
      "Epoch 150, Loss 0.0188\n",
      "Training Accuracy: 0.9801, Testing Accuracy: 0.9753\n",
      "\n"
     ]
    },
    {
     "name": "stdout",
     "output_type": "stream",
     "text": [
      "Epoch 160, Loss 0.0183\n",
      "Training Accuracy: 0.9804, Testing Accuracy: 0.9758\n",
      "\n"
     ]
    },
    {
     "name": "stdout",
     "output_type": "stream",
     "text": [
      "Epoch 170, Loss 0.0179\n",
      "Training Accuracy: 0.9809, Testing Accuracy: 0.9773\n",
      "\n"
     ]
    },
    {
     "name": "stdout",
     "output_type": "stream",
     "text": [
      "Epoch 180, Loss 0.0174\n",
      "Training Accuracy: 0.9812, Testing Accuracy: 0.9763\n",
      "\n"
     ]
    },
    {
     "name": "stdout",
     "output_type": "stream",
     "text": [
      "Epoch 190, Loss 0.017\n",
      "Training Accuracy: 0.9820, Testing Accuracy: 0.9763\n",
      "\n"
     ]
    },
    {
     "name": "stdout",
     "output_type": "stream",
     "text": [
      "Epoch 200, Loss 0.0165\n",
      "Training Accuracy: 0.9820, Testing Accuracy: 0.9768\n",
      "\n"
     ]
    },
    {
     "name": "stdout",
     "output_type": "stream",
     "text": [
      "Epoch 210, Loss 0.0161\n",
      "Training Accuracy: 0.9823, Testing Accuracy: 0.9773\n",
      "\n"
     ]
    },
    {
     "name": "stdout",
     "output_type": "stream",
     "text": [
      "Epoch 220, Loss 0.0158\n",
      "Training Accuracy: 0.9827, Testing Accuracy: 0.9783\n",
      "\n"
     ]
    },
    {
     "name": "stdout",
     "output_type": "stream",
     "text": [
      "Epoch 230, Loss 0.0154\n",
      "Training Accuracy: 0.9836, Testing Accuracy: 0.9788\n",
      "\n"
     ]
    },
    {
     "name": "stdout",
     "output_type": "stream",
     "text": [
      "Epoch 240, Loss 0.015\n",
      "Training Accuracy: 0.9840, Testing Accuracy: 0.9788\n",
      "\n"
     ]
    },
    {
     "data": {
      "text/plain": [
       "0.0075571995494941105"
      ]
     },
     "execution_count": 22,
     "metadata": {},
     "output_type": "execute_result"
    }
   ],
   "source": [
    "nn_learner.train_loop(dl)"
   ]
  },
  {
   "cell_type": "code",
   "execution_count": 23,
   "id": "e0163366",
   "metadata": {
    "execution": {
     "iopub.execute_input": "2022-01-19T10:08:20.125694Z",
     "iopub.status.busy": "2022-01-19T10:08:20.125172Z",
     "iopub.status.idle": "2022-01-19T10:08:33.227310Z",
     "shell.execute_reply": "2022-01-19T10:08:33.227969Z"
    },
    "papermill": {
     "duration": 13.148393,
     "end_time": "2022-01-19T10:08:33.228115",
     "exception": false,
     "start_time": "2022-01-19T10:08:20.079722",
     "status": "completed"
    },
    "tags": []
   },
   "outputs": [
    {
     "name": "stdout",
     "output_type": "stream",
     "text": [
      "Epoch 0, Loss 0.2929\n",
      "Training Accuracy: 0.4513, Testing Accuracy: 0.4662\n",
      "\n"
     ]
    },
    {
     "name": "stdout",
     "output_type": "stream",
     "text": [
      "Epoch 10, Loss 0.1074\n",
      "Training Accuracy: 0.9108, Testing Accuracy: 0.9239\n",
      "\n"
     ]
    },
    {
     "name": "stdout",
     "output_type": "stream",
     "text": [
      "Epoch 20, Loss 0.0809\n",
      "Training Accuracy: 0.9288, Testing Accuracy: 0.9435\n",
      "\n"
     ]
    },
    {
     "name": "stdout",
     "output_type": "stream",
     "text": [
      "Epoch 30, Loss 0.0692\n",
      "Training Accuracy: 0.9369, Testing Accuracy: 0.9501\n",
      "\n"
     ]
    },
    {
     "name": "stdout",
     "output_type": "stream",
     "text": [
      "Epoch 40, Loss 0.0623\n",
      "Training Accuracy: 0.9408, Testing Accuracy: 0.9546\n",
      "\n"
     ]
    },
    {
     "name": "stdout",
     "output_type": "stream",
     "text": [
      "Epoch 50, Loss 0.0576\n",
      "Training Accuracy: 0.9444, Testing Accuracy: 0.9572\n",
      "\n"
     ]
    },
    {
     "name": "stdout",
     "output_type": "stream",
     "text": [
      "Epoch 60, Loss 0.0542\n",
      "Training Accuracy: 0.9473, Testing Accuracy: 0.9587\n",
      "\n"
     ]
    },
    {
     "name": "stdout",
     "output_type": "stream",
     "text": [
      "Epoch 70, Loss 0.0516\n",
      "Training Accuracy: 0.9493, Testing Accuracy: 0.9607\n",
      "\n"
     ]
    },
    {
     "name": "stdout",
     "output_type": "stream",
     "text": [
      "Epoch 80, Loss 0.0495\n",
      "Training Accuracy: 0.9506, Testing Accuracy: 0.9627\n",
      "\n"
     ]
    },
    {
     "name": "stdout",
     "output_type": "stream",
     "text": [
      "Epoch 90, Loss 0.0478\n",
      "Training Accuracy: 0.9514, Testing Accuracy: 0.9632\n",
      "\n"
     ]
    },
    {
     "name": "stdout",
     "output_type": "stream",
     "text": [
      "Epoch 100, Loss 0.0464\n",
      "Training Accuracy: 0.9530, Testing Accuracy: 0.9642\n",
      "\n"
     ]
    },
    {
     "name": "stdout",
     "output_type": "stream",
     "text": [
      "Epoch 110, Loss 0.0451\n",
      "Training Accuracy: 0.9543, Testing Accuracy: 0.9647\n",
      "\n"
     ]
    },
    {
     "name": "stdout",
     "output_type": "stream",
     "text": [
      "Epoch 120, Loss 0.044\n",
      "Training Accuracy: 0.9551, Testing Accuracy: 0.9647\n",
      "\n"
     ]
    },
    {
     "name": "stdout",
     "output_type": "stream",
     "text": [
      "Epoch 130, Loss 0.0431\n",
      "Training Accuracy: 0.9555, Testing Accuracy: 0.9657\n",
      "\n"
     ]
    },
    {
     "name": "stdout",
     "output_type": "stream",
     "text": [
      "Epoch 140, Loss 0.0422\n",
      "Training Accuracy: 0.9559, Testing Accuracy: 0.9657\n",
      "\n"
     ]
    },
    {
     "name": "stdout",
     "output_type": "stream",
     "text": [
      "Epoch 150, Loss 0.0415\n",
      "Training Accuracy: 0.9564, Testing Accuracy: 0.9667\n",
      "\n"
     ]
    },
    {
     "name": "stdout",
     "output_type": "stream",
     "text": [
      "Epoch 160, Loss 0.0408\n",
      "Training Accuracy: 0.9569, Testing Accuracy: 0.9672\n",
      "\n"
     ]
    },
    {
     "name": "stdout",
     "output_type": "stream",
     "text": [
      "Epoch 170, Loss 0.0402\n",
      "Training Accuracy: 0.9574, Testing Accuracy: 0.9672\n",
      "\n"
     ]
    },
    {
     "name": "stdout",
     "output_type": "stream",
     "text": [
      "Epoch 180, Loss 0.0396\n",
      "Training Accuracy: 0.9579, Testing Accuracy: 0.9667\n",
      "\n"
     ]
    },
    {
     "name": "stdout",
     "output_type": "stream",
     "text": [
      "Epoch 190, Loss 0.0391\n",
      "Training Accuracy: 0.9584, Testing Accuracy: 0.9667\n",
      "\n"
     ]
    },
    {
     "name": "stdout",
     "output_type": "stream",
     "text": [
      "Epoch 200, Loss 0.0386\n",
      "Training Accuracy: 0.9588, Testing Accuracy: 0.9672\n",
      "\n"
     ]
    },
    {
     "name": "stdout",
     "output_type": "stream",
     "text": [
      "Epoch 210, Loss 0.0382\n",
      "Training Accuracy: 0.9589, Testing Accuracy: 0.9672\n",
      "\n"
     ]
    },
    {
     "name": "stdout",
     "output_type": "stream",
     "text": [
      "Epoch 220, Loss 0.0377\n",
      "Training Accuracy: 0.9594, Testing Accuracy: 0.9672\n",
      "\n"
     ]
    },
    {
     "name": "stdout",
     "output_type": "stream",
     "text": [
      "Epoch 230, Loss 0.0373\n",
      "Training Accuracy: 0.9599, Testing Accuracy: 0.9672\n",
      "\n"
     ]
    },
    {
     "name": "stdout",
     "output_type": "stream",
     "text": [
      "Epoch 240, Loss 0.037\n",
      "Training Accuracy: 0.9601, Testing Accuracy: 0.9672\n",
      "\n"
     ]
    },
    {
     "data": {
      "text/plain": [
       "0.02487139638526773"
      ]
     },
     "execution_count": 23,
     "metadata": {},
     "output_type": "execute_result"
    }
   ],
   "source": [
    "lr_learner.train_loop(dl)"
   ]
  },
  {
   "cell_type": "code",
   "execution_count": 24,
   "id": "ca410940",
   "metadata": {
    "execution": {
     "iopub.execute_input": "2022-01-19T10:08:33.322322Z",
     "iopub.status.busy": "2022-01-19T10:08:33.321804Z",
     "iopub.status.idle": "2022-01-19T10:08:33.543257Z",
     "shell.execute_reply": "2022-01-19T10:08:33.542808Z"
    },
    "papermill": {
     "duration": 0.272908,
     "end_time": "2022-01-19T10:08:33.543373",
     "exception": false,
     "start_time": "2022-01-19T10:08:33.270465",
     "status": "completed"
    },
    "tags": []
   },
   "outputs": [
    {
     "data": {
      "text/plain": [
       "<matplotlib.legend.Legend at 0x7f09d2d0fcc0>"
      ]
     },
     "execution_count": 24,
     "metadata": {},
     "output_type": "execute_result"
    },
    {
     "data": {
      "image/png": "[encoded data removed]",
      "text/plain": [
       "<Figure size 1080x720 with 1 Axes>"
      ]
     },
     "metadata": {
      "needs_background": "light"
     },
     "output_type": "display_data"
    }
   ],
   "source": [
    "#comparing the results of NN and LR\n",
    "plt.figure(figsize=(15,10))\n",
    "\n",
    "# Neural Network plots\n",
    "plt.plot(acc_nn.accuracies, 'r-', label = \"Training Accuracies - NN\")\n",
    "plt.plot(acc_nn.test_accuracies, 'g-', label = \"Testing Accuracies - NN\")\n",
    "\n",
    "# Logistic Regression plots\n",
    "plt.plot(acc_lr.accuracies, 'k-', label = \"Training Accuracies - LR\")\n",
    "plt.plot(acc_lr.test_accuracies, 'b-', label = \"Testing Accuracies - LR\")\n",
    "plt.legend()"
   ]
  },
  {
   "cell_type": "markdown",
   "id": "80dfb35c",
   "metadata": {
    "papermill": {
     "duration": 0.042303,
     "end_time": "2022-01-19T10:08:33.628705",
     "exception": false,
     "start_time": "2022-01-19T10:08:33.586402",
     "status": "completed"
    },
    "tags": []
   },
   "source": [
    "#### Plotting the outputs of this layer of the NN.\n"
   ]
  },
  {
   "cell_type": "code",
   "execution_count": 25,
   "id": "45eb2ff5",
   "metadata": {
    "execution": {
     "iopub.execute_input": "2022-01-19T10:08:33.721764Z",
     "iopub.status.busy": "2022-01-19T10:08:33.717800Z",
     "iopub.status.idle": "2022-01-19T10:08:33.737350Z",
     "shell.execute_reply": "2022-01-19T10:08:33.737773Z"
    },
    "papermill": {
     "duration": 0.066698,
     "end_time": "2022-01-19T10:08:33.737903",
     "exception": false,
     "start_time": "2022-01-19T10:08:33.671205",
     "status": "completed"
    },
    "tags": []
   },
   "outputs": [],
   "source": [
    "new_model = Model(layers[:-2])\n",
    "testing_plot = new_model(testing_data_x)"
   ]
  },
  {
   "cell_type": "code",
   "execution_count": 26,
   "id": "4c0a5485",
   "metadata": {
    "execution": {
     "iopub.execute_input": "2022-01-19T10:08:33.828864Z",
     "iopub.status.busy": "2022-01-19T10:08:33.828344Z",
     "iopub.status.idle": "2022-01-19T10:08:34.019540Z",
     "shell.execute_reply": "2022-01-19T10:08:34.019936Z"
    },
    "papermill": {
     "duration": 0.238953,
     "end_time": "2022-01-19T10:08:34.020074",
     "exception": false,
     "start_time": "2022-01-19T10:08:33.781121",
     "status": "completed"
    },
    "tags": []
   },
   "outputs": [
    {
     "data": {
      "text/plain": [
       "Text(0.5, 1.0, 'Outputs')"
      ]
     },
     "execution_count": 26,
     "metadata": {},
     "output_type": "execute_result"
    },
    {
     "data": {
      "image/png": "[encoded data removed]",
      "text/plain": [
       "<Figure size 576x504 with 1 Axes>"
      ]
     },
     "metadata": {
      "needs_background": "light"
     },
     "output_type": "display_data"
    }
   ],
   "source": [
    "# Plotting the scatter plot of points and color coding by class\n",
    "plt.figure(figsize=(8,7))\n",
    "plt.scatter(testing_plot[:,0], testing_plot[:,1], alpha = 0.1, c = y_test.ravel());\n",
    "plt.title('Outputs')"
   ]
  },
  {
   "cell_type": "markdown",
   "id": "a74fcf8f",
   "metadata": {
    "papermill": {
     "duration": 0.044528,
     "end_time": "2022-01-19T10:08:34.109784",
     "exception": false,
     "start_time": "2022-01-19T10:08:34.065256",
     "status": "completed"
    },
    "tags": []
   },
   "source": [
    "Probability contours"
   ]
  },
  {
   "cell_type": "code",
   "execution_count": 27,
   "id": "d0afc8e3",
   "metadata": {
    "execution": {
     "iopub.execute_input": "2022-01-19T10:08:34.214478Z",
     "iopub.status.busy": "2022-01-19T10:08:34.213937Z",
     "iopub.status.idle": "2022-01-19T10:08:34.219915Z",
     "shell.execute_reply": "2022-01-19T10:08:34.219484Z"
    },
    "papermill": {
     "duration": 0.065535,
     "end_time": "2022-01-19T10:08:34.220022",
     "exception": false,
     "start_time": "2022-01-19T10:08:34.154487",
     "status": "completed"
    },
    "tags": []
   },
   "outputs": [],
   "source": [
    "model_prob = Model(layers[-2:]) "
   ]
  },
  {
   "cell_type": "code",
   "execution_count": 28,
   "id": "9b96e238",
   "metadata": {
    "execution": {
     "iopub.execute_input": "2022-01-19T10:08:34.349767Z",
     "iopub.status.busy": "2022-01-19T10:08:34.338801Z",
     "iopub.status.idle": "2022-01-19T10:08:34.354344Z",
     "shell.execute_reply": "2022-01-19T10:08:34.354821Z"
    },
    "papermill": {
     "duration": 0.090198,
     "end_time": "2022-01-19T10:08:34.354940",
     "exception": false,
     "start_time": "2022-01-19T10:08:34.264742",
     "status": "completed"
    },
    "tags": []
   },
   "outputs": [],
   "source": [
    "#creating the x and y ranges according to the above generated plot.\n",
    "x_range = np.linspace(-4, 1, 100) \n",
    "y_range = np.linspace(-6, 6, 100) \n",
    "x_grid, y_grid = np.meshgrid(x_range, y_range) # x_grid and y_grig are of size 100 X 100\n",
    "\n",
    "# converting x_grid and y_grid to continuous arrays\n",
    "x_gridflat = np.ravel(x_grid)\n",
    "y_gridflat = np.ravel(y_grid)\n",
    "\n",
    "# The last layer of the current model takes two columns as input. Hence transpose of np.vstack() is required.\n",
    "X = np.vstack((x_gridflat, y_gridflat)).T\n",
    "\n",
    "prob_contour = model_prob(X).reshape(100,100) "
   ]
  },
  {
   "cell_type": "code",
   "execution_count": 29,
   "id": "da72499a",
   "metadata": {
    "execution": {
     "iopub.execute_input": "2022-01-19T10:08:34.454220Z",
     "iopub.status.busy": "2022-01-19T10:08:34.453704Z",
     "iopub.status.idle": "2022-01-19T10:08:34.691665Z",
     "shell.execute_reply": "2022-01-19T10:08:34.692080Z"
    },
    "papermill": {
     "duration": 0.292416,
     "end_time": "2022-01-19T10:08:34.692215",
     "exception": false,
     "start_time": "2022-01-19T10:08:34.399799",
     "status": "completed"
    },
    "tags": []
   },
   "outputs": [
    {
     "data": {
      "image/png": "[encoded data removed]",
      "text/plain": [
       "<Figure size 720x648 with 1 Axes>"
      ]
     },
     "metadata": {
      "needs_background": "light"
     },
     "output_type": "display_data"
    }
   ],
   "source": [
    "plt.figure(figsize=(10,9))\n",
    "plt.scatter(testing_plot[:,0], testing_plot[:,1], alpha = 0.1, c = y_test.ravel())\n",
    "contours = plt.contour(x_grid,y_grid,prob_contour)\n",
    "plt.title('Probability Contours')\n",
    "plt.clabel(contours, inline = True );"
   ]
  },
  {
   "cell_type": "code",
   "execution_count": null,
   "id": "e81b4ac7",
   "metadata": {
    "papermill": {
     "duration": 0.047478,
     "end_time": "2022-01-19T10:08:34.787638",
     "exception": false,
     "start_time": "2022-01-19T10:08:34.740160",
     "status": "completed"
    },
    "tags": []
   },
   "outputs": [],
   "source": []
  }
 ],
 "metadata": {
  "kernelspec": {
   "display_name": "Python 3",
   "language": "python",
   "name": "python3"
  },
  "language_info": {
   "codemirror_mode": {
    "name": "ipython",
    "version": 3
   },
   "file_extension": ".py",
   "mimetype": "text/x-python",
   "name": "python",
   "nbconvert_exporter": "python",
   "pygments_lexer": "ipython3",
   "version": "3.6.15"
  },
  "papermill": {
   "default_parameters": {},
   "duration": 95.115582,
   "end_time": "2022-01-19T10:08:35.153334",
   "environment_variables": {},
   "exception": null,
   "input_path": "2020-08-11-part2.ipynb",
   "output_path": "2020-08-11-part2.ipynb",
   "parameters": {},
   "start_time": "2022-01-19T10:07:00.037752",
   "version": "2.3.3"
  }
 },
 "nbformat": 4,
 "nbformat_minor": 5
}