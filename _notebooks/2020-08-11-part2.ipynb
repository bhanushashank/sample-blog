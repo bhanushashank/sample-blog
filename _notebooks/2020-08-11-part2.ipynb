{
 "cells": [
  {
   "cell_type": "markdown",
   "id": "98380cd3",
   "metadata": {
    "papermill": {
     "duration": 0.028674,
     "end_time": "2022-11-06T10:10:12.718652",
     "exception": false,
     "start_time": "2022-11-06T10:10:12.689978",
     "status": "completed"
    },
    "tags": []
   },
   "source": [
    "# Distinguish Your Own Digits (DYOD)"
   ]
  },
  {
   "cell_type": "markdown",
   "id": "ef31240d",
   "metadata": {
    "papermill": {
     "duration": 0.023863,
     "end_time": "2022-11-06T10:10:12.767131",
     "exception": false,
     "start_time": "2022-11-06T10:10:12.743268",
     "status": "completed"
    },
    "tags": []
   },
   "source": [
    "You are going to write a classifier that distinguishes between the number 3 and number 8."
   ]
  },
  {
   "cell_type": "code",
   "execution_count": 1,
   "id": "b15c8646",
   "metadata": {
    "execution": {
     "iopub.execute_input": "2022-11-06T10:10:12.824515Z",
     "iopub.status.busy": "2022-11-06T10:10:12.823947Z",
     "iopub.status.idle": "2022-11-06T10:10:12.834339Z",
     "shell.execute_reply": "2022-11-06T10:10:12.833885Z"
    },
    "papermill": {
     "duration": 0.043552,
     "end_time": "2022-11-06T10:10:12.834447",
     "exception": false,
     "start_time": "2022-11-06T10:10:12.790895",
     "status": "completed"
    },
    "tags": []
   },
   "outputs": [],
   "source": [
    "%load_ext autoreload\n",
    "%autoreload 2"
   ]
  },
  {
   "cell_type": "code",
   "execution_count": 2,
   "id": "22ef38dc",
   "metadata": {
    "execution": {
     "iopub.execute_input": "2022-11-06T10:10:12.885564Z",
     "iopub.status.busy": "2022-11-06T10:10:12.885020Z",
     "iopub.status.idle": "2022-11-06T10:10:13.377636Z",
     "shell.execute_reply": "2022-11-06T10:10:13.377149Z"
    },
    "papermill": {
     "duration": 0.519425,
     "end_time": "2022-11-06T10:10:13.377754",
     "exception": false,
     "start_time": "2022-11-06T10:10:12.858329",
     "status": "completed"
    },
    "tags": []
   },
   "outputs": [],
   "source": [
    "%matplotlib inline\n",
    "import numpy as np\n",
    "import matplotlib.pyplot as plt\n",
    "import pandas as pd"
   ]
  },
  {
   "cell_type": "markdown",
   "id": "ba036198",
   "metadata": {
    "papermill": {
     "duration": 0.023919,
     "end_time": "2022-11-06T10:10:13.425706",
     "exception": false,
     "start_time": "2022-11-06T10:10:13.401787",
     "status": "completed"
    },
    "tags": []
   },
   "source": [
    "From the command line run `pip install mnist`. This is a library that will help you bring down the mnist dataset. If you run this from a notebook, you need to put  `!pip install mnist` in a cell by itself."
   ]
  },
  {
   "cell_type": "code",
   "execution_count": 3,
   "id": "bb6ad8a1",
   "metadata": {
    "execution": {
     "iopub.execute_input": "2022-11-06T10:10:13.477121Z",
     "iopub.status.busy": "2022-11-06T10:10:13.476554Z",
     "iopub.status.idle": "2022-11-06T10:10:15.101537Z",
     "shell.execute_reply": "2022-11-06T10:10:15.101036Z"
    },
    "papermill": {
     "duration": 1.65196,
     "end_time": "2022-11-06T10:10:15.101648",
     "exception": false,
     "start_time": "2022-11-06T10:10:13.449688",
     "status": "completed"
    },
    "tags": []
   },
   "outputs": [
    {
     "name": "stdout",
     "output_type": "stream",
     "text": [
      "Collecting mnist\r\n"
     ]
    },
    {
     "name": "stdout",
     "output_type": "stream",
     "text": [
      "  Downloading mnist-0.2.2-py2.py3-none-any.whl (3.5 kB)\r\n",
      "Requirement already satisfied: numpy in /opt/hostedtoolcache/Python/3.6.15/x64/lib/python3.6/site-packages (from mnist) (1.19.5)\r\n"
     ]
    },
    {
     "name": "stdout",
     "output_type": "stream",
     "text": [
      "Installing collected packages: mnist\r\n",
      "Successfully installed mnist-0.2.2\r\n"
     ]
    }
   ],
   "source": [
    "!pip install mnist"
   ]
  },
  {
   "cell_type": "markdown",
   "id": "69df9c9a",
   "metadata": {
    "papermill": {
     "duration": 0.024982,
     "end_time": "2022-11-06T10:10:15.151656",
     "exception": false,
     "start_time": "2022-11-06T10:10:15.126674",
     "status": "completed"
    },
    "tags": []
   },
   "source": [
    "## Preparing the Data"
   ]
  },
  {
   "cell_type": "code",
   "execution_count": 4,
   "id": "7f69d806",
   "metadata": {
    "execution": {
     "iopub.execute_input": "2022-11-06T10:10:15.204558Z",
     "iopub.status.busy": "2022-11-06T10:10:15.204009Z",
     "iopub.status.idle": "2022-11-06T10:10:15.218881Z",
     "shell.execute_reply": "2022-11-06T10:10:15.218430Z"
    },
    "papermill": {
     "duration": 0.042601,
     "end_time": "2022-11-06T10:10:15.218991",
     "exception": false,
     "start_time": "2022-11-06T10:10:15.176390",
     "status": "completed"
    },
    "tags": []
   },
   "outputs": [],
   "source": [
    "import mnist"
   ]
  },
  {
   "cell_type": "code",
   "execution_count": 5,
   "id": "a411e44f",
   "metadata": {
    "execution": {
     "iopub.execute_input": "2022-11-06T10:10:15.271615Z",
     "iopub.status.busy": "2022-11-06T10:10:15.271054Z",
     "iopub.status.idle": "2022-11-06T10:10:15.894909Z",
     "shell.execute_reply": "2022-11-06T10:10:15.893835Z"
    },
    "papermill": {
     "duration": 0.651162,
     "end_time": "2022-11-06T10:10:15.895043",
     "exception": false,
     "start_time": "2022-11-06T10:10:15.243881",
     "status": "completed"
    },
    "tags": []
   },
   "outputs": [],
   "source": [
    "train_images = mnist.train_images()\n",
    "train_labels = mnist.train_labels()"
   ]
  },
  {
   "cell_type": "code",
   "execution_count": 6,
   "id": "dceab3a5",
   "metadata": {
    "execution": {
     "iopub.execute_input": "2022-11-06T10:10:15.951997Z",
     "iopub.status.busy": "2022-11-06T10:10:15.947564Z",
     "iopub.status.idle": "2022-11-06T10:10:15.961486Z",
     "shell.execute_reply": "2022-11-06T10:10:15.961035Z"
    },
    "papermill": {
     "duration": 0.04152,
     "end_time": "2022-11-06T10:10:15.961583",
     "exception": false,
     "start_time": "2022-11-06T10:10:15.920063",
     "status": "completed"
    },
    "tags": []
   },
   "outputs": [
    {
     "data": {
      "text/plain": [
       "((60000, 28, 28), (60000,))"
      ]
     },
     "execution_count": 6,
     "metadata": {},
     "output_type": "execute_result"
    }
   ],
   "source": [
    "train_images.shape, train_labels.shape"
   ]
  },
  {
   "cell_type": "code",
   "execution_count": 7,
   "id": "f50dc2bb",
   "metadata": {
    "execution": {
     "iopub.execute_input": "2022-11-06T10:10:16.014783Z",
     "iopub.status.busy": "2022-11-06T10:10:16.014227Z",
     "iopub.status.idle": "2022-11-06T10:10:16.239919Z",
     "shell.execute_reply": "2022-11-06T10:10:16.239327Z"
    },
    "papermill": {
     "duration": 0.253414,
     "end_time": "2022-11-06T10:10:16.240029",
     "exception": false,
     "start_time": "2022-11-06T10:10:15.986615",
     "status": "completed"
    },
    "tags": []
   },
   "outputs": [],
   "source": [
    "test_images = mnist.test_images()\n",
    "test_labels = mnist.test_labels()"
   ]
  },
  {
   "cell_type": "code",
   "execution_count": 8,
   "id": "fc38cf1b",
   "metadata": {
    "execution": {
     "iopub.execute_input": "2022-11-06T10:10:16.294008Z",
     "iopub.status.busy": "2022-11-06T10:10:16.293463Z",
     "iopub.status.idle": "2022-11-06T10:10:16.306081Z",
     "shell.execute_reply": "2022-11-06T10:10:16.305633Z"
    },
    "papermill": {
     "duration": 0.040387,
     "end_time": "2022-11-06T10:10:16.306174",
     "exception": false,
     "start_time": "2022-11-06T10:10:16.265787",
     "status": "completed"
    },
    "tags": []
   },
   "outputs": [
    {
     "data": {
      "text/plain": [
       "((10000, 28, 28), (10000,))"
      ]
     },
     "execution_count": 8,
     "metadata": {},
     "output_type": "execute_result"
    }
   ],
   "source": [
    "test_images.shape, test_labels.shape"
   ]
  },
  {
   "cell_type": "code",
   "execution_count": 9,
   "id": "f9ed8fe0",
   "metadata": {
    "execution": {
     "iopub.execute_input": "2022-11-06T10:10:16.360310Z",
     "iopub.status.busy": "2022-11-06T10:10:16.359761Z",
     "iopub.status.idle": "2022-11-06T10:10:16.489361Z",
     "shell.execute_reply": "2022-11-06T10:10:16.489799Z"
    },
    "papermill": {
     "duration": 0.15837,
     "end_time": "2022-11-06T10:10:16.489908",
     "exception": false,
     "start_time": "2022-11-06T10:10:16.331538",
     "status": "completed"
    },
    "tags": []
   },
   "outputs": [
    {
     "name": "stdout",
     "output_type": "stream",
     "text": [
      "2\n"
     ]
    },
    {
     "data": {
      "text/plain": [
       "<matplotlib.image.AxesImage at 0x7f3d16e54da0>"
      ]
     },
     "execution_count": 9,
     "metadata": {},
     "output_type": "execute_result"
    },
    {
     "data": {
      "image/png": "[encoded data removed]",
      "text/plain": [
       "<Figure size 432x288 with 1 Axes>"
      ]
     },
     "metadata": {
      "needs_background": "light"
     },
     "output_type": "display_data"
    }
   ],
   "source": [
    "image_index = 7776 # You may select anything up to 60,000\n",
    "print(train_labels[image_index]) \n",
    "plt.imshow(train_images[image_index], cmap='Greys')"
   ]
  },
  {
   "cell_type": "markdown",
   "id": "a8d2388d",
   "metadata": {
    "papermill": {
     "duration": 0.026257,
     "end_time": "2022-11-06T10:10:16.542606",
     "exception": false,
     "start_time": "2022-11-06T10:10:16.516349",
     "status": "completed"
    },
    "tags": []
   },
   "source": [
    "## Filter data to get 3 and 8 out"
   ]
  },
  {
   "cell_type": "code",
   "execution_count": 10,
   "id": "776f7fc7",
   "metadata": {
    "execution": {
     "iopub.execute_input": "2022-11-06T10:10:16.599118Z",
     "iopub.status.busy": "2022-11-06T10:10:16.598524Z",
     "iopub.status.idle": "2022-11-06T10:10:16.613102Z",
     "shell.execute_reply": "2022-11-06T10:10:16.612648Z"
    },
    "papermill": {
     "duration": 0.043917,
     "end_time": "2022-11-06T10:10:16.613195",
     "exception": false,
     "start_time": "2022-11-06T10:10:16.569278",
     "status": "completed"
    },
    "tags": []
   },
   "outputs": [],
   "source": [
    "train_filter = np.where((train_labels == 3 ) | (train_labels == 8))\n",
    "test_filter = np.where((test_labels == 3) | (test_labels == 8))\n",
    "X_train, y_train = train_images[train_filter], train_labels[train_filter]\n",
    "X_test, y_test = test_images[test_filter], test_labels[test_filter]"
   ]
  },
  {
   "cell_type": "markdown",
   "id": "948f0b7e",
   "metadata": {
    "papermill": {
     "duration": 0.026208,
     "end_time": "2022-11-06T10:10:16.665864",
     "exception": false,
     "start_time": "2022-11-06T10:10:16.639656",
     "status": "completed"
    },
    "tags": []
   },
   "source": [
    "We normalize the pizel values in the 0 to 1 range"
   ]
  },
  {
   "cell_type": "code",
   "execution_count": 11,
   "id": "ee4c2166",
   "metadata": {
    "execution": {
     "iopub.execute_input": "2022-11-06T10:10:16.721236Z",
     "iopub.status.busy": "2022-11-06T10:10:16.720682Z",
     "iopub.status.idle": "2022-11-06T10:10:16.757565Z",
     "shell.execute_reply": "2022-11-06T10:10:16.757097Z"
    },
    "papermill": {
     "duration": 0.065598,
     "end_time": "2022-11-06T10:10:16.757670",
     "exception": false,
     "start_time": "2022-11-06T10:10:16.692072",
     "status": "completed"
    },
    "tags": []
   },
   "outputs": [],
   "source": [
    "X_train = X_train/255.\n",
    "X_test = X_test/255."
   ]
  },
  {
   "cell_type": "markdown",
   "id": "ddcf4fab",
   "metadata": {
    "papermill": {
     "duration": 0.026253,
     "end_time": "2022-11-06T10:10:16.810541",
     "exception": false,
     "start_time": "2022-11-06T10:10:16.784288",
     "status": "completed"
    },
    "tags": []
   },
   "source": [
    "And setup the labels as 1 (when the digit is 3) and 0 (when the digit is 8)"
   ]
  },
  {
   "cell_type": "code",
   "execution_count": 12,
   "id": "7dc908f2",
   "metadata": {
    "execution": {
     "iopub.execute_input": "2022-11-06T10:10:16.866541Z",
     "iopub.status.busy": "2022-11-06T10:10:16.865993Z",
     "iopub.status.idle": "2022-11-06T10:10:16.877510Z",
     "shell.execute_reply": "2022-11-06T10:10:16.876977Z"
    },
    "papermill": {
     "duration": 0.040738,
     "end_time": "2022-11-06T10:10:16.877606",
     "exception": false,
     "start_time": "2022-11-06T10:10:16.836868",
     "status": "completed"
    },
    "tags": []
   },
   "outputs": [],
   "source": [
    "y_train = 1*(y_train==3)\n",
    "y_test = 1*(y_test==3)"
   ]
  },
  {
   "cell_type": "code",
   "execution_count": 13,
   "id": "01e4e969",
   "metadata": {
    "execution": {
     "iopub.execute_input": "2022-11-06T10:10:16.933258Z",
     "iopub.status.busy": "2022-11-06T10:10:16.932711Z",
     "iopub.status.idle": "2022-11-06T10:10:16.944978Z",
     "shell.execute_reply": "2022-11-06T10:10:16.944445Z"
    },
    "papermill": {
     "duration": 0.041022,
     "end_time": "2022-11-06T10:10:16.945070",
     "exception": false,
     "start_time": "2022-11-06T10:10:16.904048",
     "status": "completed"
    },
    "tags": []
   },
   "outputs": [
    {
     "data": {
      "text/plain": [
       "((11982, 28, 28), (1984, 28, 28))"
      ]
     },
     "execution_count": 13,
     "metadata": {},
     "output_type": "execute_result"
    }
   ],
   "source": [
    "X_train.shape, X_test.shape"
   ]
  },
  {
   "cell_type": "markdown",
   "id": "5ccf3f85",
   "metadata": {
    "papermill": {
     "duration": 0.026463,
     "end_time": "2022-11-06T10:10:16.998007",
     "exception": false,
     "start_time": "2022-11-06T10:10:16.971544",
     "status": "completed"
    },
    "tags": []
   },
   "source": [
    "We reshape the data to flatten the image pixels into a set of features or co-variates:"
   ]
  },
  {
   "cell_type": "code",
   "execution_count": 14,
   "id": "5286a4a3",
   "metadata": {
    "execution": {
     "iopub.execute_input": "2022-11-06T10:10:17.054535Z",
     "iopub.status.busy": "2022-11-06T10:10:17.053979Z",
     "iopub.status.idle": "2022-11-06T10:10:17.066638Z",
     "shell.execute_reply": "2022-11-06T10:10:17.067110Z"
    },
    "papermill": {
     "duration": 0.042652,
     "end_time": "2022-11-06T10:10:17.067219",
     "exception": false,
     "start_time": "2022-11-06T10:10:17.024567",
     "status": "completed"
    },
    "tags": []
   },
   "outputs": [
    {
     "data": {
      "text/plain": [
       "((11982, 784), (1984, 784))"
      ]
     },
     "execution_count": 14,
     "metadata": {},
     "output_type": "execute_result"
    }
   ],
   "source": [
    "X_train = X_train.reshape(X_train.shape[0], -1)\n",
    "X_test = X_test.reshape(X_test.shape[0], -1)\n",
    "X_train.shape, X_test.shape"
   ]
  },
  {
   "cell_type": "code",
   "execution_count": 15,
   "id": "73c5f88a",
   "metadata": {
    "execution": {
     "iopub.execute_input": "2022-11-06T10:10:17.124519Z",
     "iopub.status.busy": "2022-11-06T10:10:17.123970Z",
     "iopub.status.idle": "2022-11-06T10:10:17.140837Z",
     "shell.execute_reply": "2022-11-06T10:10:17.141277Z"
    },
    "papermill": {
     "duration": 0.047401,
     "end_time": "2022-11-06T10:10:17.141383",
     "exception": false,
     "start_time": "2022-11-06T10:10:17.093982",
     "status": "completed"
    },
    "tags": []
   },
   "outputs": [],
   "source": [
    "#Impoting functions from 'Kudzu'\n",
    "from kudzu.model import Model\n",
    "from kudzu.train import Learner\n",
    "from kudzu.optim import GD\n",
    "from kudzu.data import Data, Sampler,Dataloader\n",
    "\n",
    "from kudzu.callbacks import AccCallback\n",
    "from kudzu.callbacks import ClfCallback\n",
    "\n",
    "from kudzu.loss import MSE\n",
    "\n",
    "from kudzu.layer import Sigmoid,Relu\n",
    "from kudzu.layer import Affine"
   ]
  },
  {
   "cell_type": "markdown",
   "id": "bc01172a",
   "metadata": {
    "papermill": {
     "duration": 0.026867,
     "end_time": "2022-11-06T10:10:17.195067",
     "exception": false,
     "start_time": "2022-11-06T10:10:17.168200",
     "status": "completed"
    },
    "tags": []
   },
   "source": [
    "### Let us create a `Config` class, to store important parameters. \n",
    "This class essentially plays the role of a dictionary."
   ]
  },
  {
   "cell_type": "code",
   "execution_count": 16,
   "id": "978281aa",
   "metadata": {
    "execution": {
     "iopub.execute_input": "2022-11-06T10:10:17.251764Z",
     "iopub.status.busy": "2022-11-06T10:10:17.251215Z",
     "iopub.status.idle": "2022-11-06T10:10:17.263396Z",
     "shell.execute_reply": "2022-11-06T10:10:17.262836Z"
    },
    "papermill": {
     "duration": 0.041689,
     "end_time": "2022-11-06T10:10:17.263491",
     "exception": false,
     "start_time": "2022-11-06T10:10:17.221802",
     "status": "completed"
    },
    "tags": []
   },
   "outputs": [],
   "source": [
    "class Config:\n",
    "    pass\n",
    "config = Config()\n",
    "config.lr = 0.001\n",
    "config.num_epochs = 250\n",
    "config.bs = 50"
   ]
  },
  {
   "cell_type": "markdown",
   "id": "1385fa59",
   "metadata": {
    "papermill": {
     "duration": 0.026906,
     "end_time": "2022-11-06T10:10:17.317307",
     "exception": false,
     "start_time": "2022-11-06T10:10:17.290401",
     "status": "completed"
    },
    "tags": []
   },
   "source": [
    "### Running Models with the Training data\n",
    "Details about the network layers:\n",
    "- A first affine layer has 784 inputs and does 100 affine transforms. These are followed by a Relu\n",
    "- A second affine layer has 100 inputs from the 100 activations of the past layer, and does 100 affine transforms. These are followed by a Relu\n",
    "- A third affine layer has 100 activations and does 2 affine transformations to create an embedding for visualization. There is no non-linearity here.\n",
    "- A final \"logistic regression\" which has an affine transform from 2 inputs to 1 output, which is squeezed through a sigmoid.\n"
   ]
  },
  {
   "cell_type": "code",
   "execution_count": 17,
   "id": "2b9c66db",
   "metadata": {
    "execution": {
     "iopub.execute_input": "2022-11-06T10:10:17.374286Z",
     "iopub.status.busy": "2022-11-06T10:10:17.373725Z",
     "iopub.status.idle": "2022-11-06T10:10:17.385199Z",
     "shell.execute_reply": "2022-11-06T10:10:17.384749Z"
    },
    "papermill": {
     "duration": 0.041292,
     "end_time": "2022-11-06T10:10:17.385292",
     "exception": false,
     "start_time": "2022-11-06T10:10:17.344000",
     "status": "completed"
    },
    "tags": []
   },
   "outputs": [],
   "source": [
    "data = Data(X_train, y_train.reshape(-1,1))\n",
    "sampler = Sampler(data, config.bs, shuffle=True)\n",
    "\n",
    "dl = Dataloader(data, sampler)\n",
    "\n",
    "opt = GD(config.lr)\n",
    "loss = MSE()"
   ]
  },
  {
   "cell_type": "code",
   "execution_count": 18,
   "id": "b275e4c2",
   "metadata": {
    "execution": {
     "iopub.execute_input": "2022-11-06T10:10:17.442301Z",
     "iopub.status.busy": "2022-11-06T10:10:17.441752Z",
     "iopub.status.idle": "2022-11-06T10:10:17.452378Z",
     "shell.execute_reply": "2022-11-06T10:10:17.452779Z"
    },
    "papermill": {
     "duration": 0.040786,
     "end_time": "2022-11-06T10:10:17.452886",
     "exception": false,
     "start_time": "2022-11-06T10:10:17.412100",
     "status": "completed"
    },
    "tags": []
   },
   "outputs": [],
   "source": [
    "training_data_x = X_train\n",
    "testing_data_x = X_test\n",
    "training_data_y = y_train.reshape(-1,1)\n",
    "testing_data_y = y_test.reshape(-1,1)"
   ]
  },
  {
   "cell_type": "code",
   "execution_count": 19,
   "id": "76951160",
   "metadata": {
    "execution": {
     "iopub.execute_input": "2022-11-06T10:10:17.509837Z",
     "iopub.status.busy": "2022-11-06T10:10:17.509284Z",
     "iopub.status.idle": "2022-11-06T10:10:17.524497Z",
     "shell.execute_reply": "2022-11-06T10:10:17.523966Z"
    },
    "papermill": {
     "duration": 0.045014,
     "end_time": "2022-11-06T10:10:17.524592",
     "exception": false,
     "start_time": "2022-11-06T10:10:17.479578",
     "status": "completed"
    },
    "tags": []
   },
   "outputs": [
    {
     "name": "stdout",
     "output_type": "stream",
     "text": [
      "xavier\n",
      "xavier\n",
      "xavier\n",
      "xavier\n",
      "xavier\n"
     ]
    }
   ],
   "source": [
    "layers = [Affine(\"first\", 784, 100), Relu(\"first\"), Affine(\"second\", 100, 100), Relu(\"second\"), Affine(\"third\", 100, 2), Affine(\"last\", 2, 1), Sigmoid(\"last\")]\n",
    "model_nn = Model(layers)\n",
    "model_lr = Model([Affine(\"logits\", 784, 1), Sigmoid(\"sigmoid\")])"
   ]
  },
  {
   "cell_type": "code",
   "execution_count": 20,
   "id": "6eede77a",
   "metadata": {
    "execution": {
     "iopub.execute_input": "2022-11-06T10:10:17.582151Z",
     "iopub.status.busy": "2022-11-06T10:10:17.581614Z",
     "iopub.status.idle": "2022-11-06T10:10:17.592214Z",
     "shell.execute_reply": "2022-11-06T10:10:17.592618Z"
    },
    "papermill": {
     "duration": 0.041002,
     "end_time": "2022-11-06T10:10:17.592725",
     "exception": false,
     "start_time": "2022-11-06T10:10:17.551723",
     "status": "completed"
    },
    "tags": []
   },
   "outputs": [],
   "source": [
    "nn_learner = Learner(loss, model_nn, opt, config.num_epochs)\n",
    "acc_nn = ClfCallback(nn_learner, config.bs, training_data_x , testing_data_x, training_data_y, testing_data_y)\n",
    "nn_learner.set_callbacks([acc_nn])"
   ]
  },
  {
   "cell_type": "code",
   "execution_count": 21,
   "id": "877b6cc7",
   "metadata": {
    "execution": {
     "iopub.execute_input": "2022-11-06T10:10:17.650087Z",
     "iopub.status.busy": "2022-11-06T10:10:17.649533Z",
     "iopub.status.idle": "2022-11-06T10:10:17.660084Z",
     "shell.execute_reply": "2022-11-06T10:10:17.659557Z"
    },
    "papermill": {
     "duration": 0.040486,
     "end_time": "2022-11-06T10:10:17.660176",
     "exception": false,
     "start_time": "2022-11-06T10:10:17.619690",
     "status": "completed"
    },
    "tags": []
   },
   "outputs": [],
   "source": [
    "lr_learner = Learner(loss, model_lr, opt, config.num_epochs)\n",
    "acc_lr = ClfCallback(lr_learner, config.bs, training_data_x , testing_data_x, training_data_y, testing_data_y)\n",
    "lr_learner.set_callbacks([acc_lr])"
   ]
  },
  {
   "cell_type": "code",
   "execution_count": 22,
   "id": "d9b133c3",
   "metadata": {
    "execution": {
     "iopub.execute_input": "2022-11-06T10:10:17.717294Z",
     "iopub.status.busy": "2022-11-06T10:10:17.716764Z",
     "iopub.status.idle": "2022-11-06T10:13:12.569847Z",
     "shell.execute_reply": "2022-11-06T10:13:12.570295Z"
    },
    "papermill": {
     "duration": 174.883122,
     "end_time": "2022-11-06T10:13:12.570423",
     "exception": false,
     "start_time": "2022-11-06T10:10:17.687301",
     "status": "completed"
    },
    "tags": []
   },
   "outputs": [
    {
     "name": "stdout",
     "output_type": "stream",
     "text": [
      "Epoch 0, Loss 0.2515\n",
      "Training Accuracy: 0.4745, Testing Accuracy: 0.4708\n",
      "\n"
     ]
    },
    {
     "name": "stdout",
     "output_type": "stream",
     "text": [
      "Epoch 10, Loss 0.2394\n",
      "Training Accuracy: 0.7678, Testing Accuracy: 0.7661\n",
      "\n"
     ]
    },
    {
     "name": "stdout",
     "output_type": "stream",
     "text": [
      "Epoch 20, Loss 0.2018\n",
      "Training Accuracy: 0.8698, Testing Accuracy: 0.8750\n",
      "\n"
     ]
    },
    {
     "name": "stdout",
     "output_type": "stream",
     "text": [
      "Epoch 30, Loss 0.1056\n",
      "Training Accuracy: 0.9113, Testing Accuracy: 0.9168\n",
      "\n"
     ]
    },
    {
     "name": "stdout",
     "output_type": "stream",
     "text": [
      "Epoch 40, Loss 0.0623\n",
      "Training Accuracy: 0.9350, Testing Accuracy: 0.9461\n",
      "\n"
     ]
    },
    {
     "name": "stdout",
     "output_type": "stream",
     "text": [
      "Epoch 50, Loss 0.0471\n",
      "Training Accuracy: 0.9499, Testing Accuracy: 0.9582\n",
      "\n"
     ]
    },
    {
     "name": "stdout",
     "output_type": "stream",
     "text": [
      "Epoch 60, Loss 0.0399\n",
      "Training Accuracy: 0.9561, Testing Accuracy: 0.9632\n",
      "\n"
     ]
    },
    {
     "name": "stdout",
     "output_type": "stream",
     "text": [
      "Epoch 70, Loss 0.0357\n",
      "Training Accuracy: 0.9598, Testing Accuracy: 0.9642\n",
      "\n"
     ]
    },
    {
     "name": "stdout",
     "output_type": "stream",
     "text": [
      "Epoch 80, Loss 0.033\n",
      "Training Accuracy: 0.9622, Testing Accuracy: 0.9672\n",
      "\n"
     ]
    },
    {
     "name": "stdout",
     "output_type": "stream",
     "text": [
      "Epoch 90, Loss 0.031\n",
      "Training Accuracy: 0.9635, Testing Accuracy: 0.9677\n",
      "\n"
     ]
    },
    {
     "name": "stdout",
     "output_type": "stream",
     "text": [
      "Epoch 100, Loss 0.0294\n",
      "Training Accuracy: 0.9654, Testing Accuracy: 0.9682\n",
      "\n"
     ]
    },
    {
     "name": "stdout",
     "output_type": "stream",
     "text": [
      "Epoch 110, Loss 0.0281\n",
      "Training Accuracy: 0.9673, Testing Accuracy: 0.9682\n",
      "\n"
     ]
    },
    {
     "name": "stdout",
     "output_type": "stream",
     "text": [
      "Epoch 120, Loss 0.0271\n",
      "Training Accuracy: 0.9676, Testing Accuracy: 0.9698\n",
      "\n"
     ]
    },
    {
     "name": "stdout",
     "output_type": "stream",
     "text": [
      "Epoch 130, Loss 0.0261\n",
      "Training Accuracy: 0.9692, Testing Accuracy: 0.9703\n",
      "\n"
     ]
    },
    {
     "name": "stdout",
     "output_type": "stream",
     "text": [
      "Epoch 140, Loss 0.0253\n",
      "Training Accuracy: 0.9705, Testing Accuracy: 0.9703\n",
      "\n"
     ]
    },
    {
     "name": "stdout",
     "output_type": "stream",
     "text": [
      "Epoch 150, Loss 0.0246\n",
      "Training Accuracy: 0.9717, Testing Accuracy: 0.9708\n",
      "\n"
     ]
    },
    {
     "name": "stdout",
     "output_type": "stream",
     "text": [
      "Epoch 160, Loss 0.024\n",
      "Training Accuracy: 0.9721, Testing Accuracy: 0.9713\n",
      "\n"
     ]
    },
    {
     "name": "stdout",
     "output_type": "stream",
     "text": [
      "Epoch 170, Loss 0.0234\n",
      "Training Accuracy: 0.9728, Testing Accuracy: 0.9708\n",
      "\n"
     ]
    },
    {
     "name": "stdout",
     "output_type": "stream",
     "text": [
      "Epoch 180, Loss 0.0228\n",
      "Training Accuracy: 0.9732, Testing Accuracy: 0.9708\n",
      "\n"
     ]
    },
    {
     "name": "stdout",
     "output_type": "stream",
     "text": [
      "Epoch 190, Loss 0.0223\n",
      "Training Accuracy: 0.9738, Testing Accuracy: 0.9713\n",
      "\n"
     ]
    },
    {
     "name": "stdout",
     "output_type": "stream",
     "text": [
      "Epoch 200, Loss 0.0218\n",
      "Training Accuracy: 0.9743, Testing Accuracy: 0.9713\n",
      "\n"
     ]
    },
    {
     "name": "stdout",
     "output_type": "stream",
     "text": [
      "Epoch 210, Loss 0.0214\n",
      "Training Accuracy: 0.9750, Testing Accuracy: 0.9723\n",
      "\n"
     ]
    },
    {
     "name": "stdout",
     "output_type": "stream",
     "text": [
      "Epoch 220, Loss 0.021\n",
      "Training Accuracy: 0.9762, Testing Accuracy: 0.9718\n",
      "\n"
     ]
    },
    {
     "name": "stdout",
     "output_type": "stream",
     "text": [
      "Epoch 230, Loss 0.0206\n",
      "Training Accuracy: 0.9765, Testing Accuracy: 0.9718\n",
      "\n"
     ]
    },
    {
     "name": "stdout",
     "output_type": "stream",
     "text": [
      "Epoch 240, Loss 0.0202\n",
      "Training Accuracy: 0.9771, Testing Accuracy: 0.9718\n",
      "\n"
     ]
    },
    {
     "data": {
      "text/plain": [
       "0.004090582373337773"
      ]
     },
     "execution_count": 22,
     "metadata": {},
     "output_type": "execute_result"
    }
   ],
   "source": [
    "nn_learner.train_loop(dl)"
   ]
  },
  {
   "cell_type": "code",
   "execution_count": 23,
   "id": "e0163366",
   "metadata": {
    "execution": {
     "iopub.execute_input": "2022-11-06T10:13:12.644133Z",
     "iopub.status.busy": "2022-11-06T10:13:12.643570Z",
     "iopub.status.idle": "2022-11-06T10:13:24.709513Z",
     "shell.execute_reply": "2022-11-06T10:13:24.710306Z"
    },
    "papermill": {
     "duration": 12.105778,
     "end_time": "2022-11-06T10:13:24.710439",
     "exception": false,
     "start_time": "2022-11-06T10:13:12.604661",
     "status": "completed"
    },
    "tags": []
   },
   "outputs": [
    {
     "name": "stdout",
     "output_type": "stream",
     "text": [
      "Epoch 0, Loss 0.2611\n",
      "Training Accuracy: 0.6311, Testing Accuracy: 0.6492\n",
      "\n"
     ]
    },
    {
     "name": "stdout",
     "output_type": "stream",
     "text": [
      "Epoch 10, Loss 0.1035\n",
      "Training Accuracy: 0.9089, Testing Accuracy: 0.9229\n",
      "\n"
     ]
    },
    {
     "name": "stdout",
     "output_type": "stream",
     "text": [
      "Epoch 20, Loss 0.079\n",
      "Training Accuracy: 0.9291, Testing Accuracy: 0.9420\n",
      "\n"
     ]
    },
    {
     "name": "stdout",
     "output_type": "stream",
     "text": [
      "Epoch 30, Loss 0.0678\n",
      "Training Accuracy: 0.9377, Testing Accuracy: 0.9461\n",
      "\n"
     ]
    },
    {
     "name": "stdout",
     "output_type": "stream",
     "text": [
      "Epoch 40, Loss 0.0612\n",
      "Training Accuracy: 0.9413, Testing Accuracy: 0.9521\n",
      "\n"
     ]
    },
    {
     "name": "stdout",
     "output_type": "stream",
     "text": [
      "Epoch 50, Loss 0.0567\n",
      "Training Accuracy: 0.9450, Testing Accuracy: 0.9551\n",
      "\n"
     ]
    },
    {
     "name": "stdout",
     "output_type": "stream",
     "text": [
      "Epoch 60, Loss 0.0534\n",
      "Training Accuracy: 0.9489, Testing Accuracy: 0.9572\n",
      "\n"
     ]
    },
    {
     "name": "stdout",
     "output_type": "stream",
     "text": [
      "Epoch 70, Loss 0.0508\n",
      "Training Accuracy: 0.9503, Testing Accuracy: 0.9582\n",
      "\n"
     ]
    },
    {
     "name": "stdout",
     "output_type": "stream",
     "text": [
      "Epoch 80, Loss 0.0488\n",
      "Training Accuracy: 0.9513, Testing Accuracy: 0.9602\n",
      "\n"
     ]
    },
    {
     "name": "stdout",
     "output_type": "stream",
     "text": [
      "Epoch 90, Loss 0.0471\n",
      "Training Accuracy: 0.9525, Testing Accuracy: 0.9602\n",
      "\n"
     ]
    },
    {
     "name": "stdout",
     "output_type": "stream",
     "text": [
      "Epoch 100, Loss 0.0457\n",
      "Training Accuracy: 0.9534, Testing Accuracy: 0.9607\n",
      "\n"
     ]
    },
    {
     "name": "stdout",
     "output_type": "stream",
     "text": [
      "Epoch 110, Loss 0.0445\n",
      "Training Accuracy: 0.9548, Testing Accuracy: 0.9612\n",
      "\n"
     ]
    },
    {
     "name": "stdout",
     "output_type": "stream",
     "text": [
      "Epoch 120, Loss 0.0435\n",
      "Training Accuracy: 0.9551, Testing Accuracy: 0.9622\n",
      "\n"
     ]
    },
    {
     "name": "stdout",
     "output_type": "stream",
     "text": [
      "Epoch 130, Loss 0.0426\n",
      "Training Accuracy: 0.9558, Testing Accuracy: 0.9627\n",
      "\n"
     ]
    },
    {
     "name": "stdout",
     "output_type": "stream",
     "text": [
      "Epoch 140, Loss 0.0418\n",
      "Training Accuracy: 0.9566, Testing Accuracy: 0.9632\n",
      "\n"
     ]
    },
    {
     "name": "stdout",
     "output_type": "stream",
     "text": [
      "Epoch 150, Loss 0.041\n",
      "Training Accuracy: 0.9574, Testing Accuracy: 0.9632\n",
      "\n"
     ]
    },
    {
     "name": "stdout",
     "output_type": "stream",
     "text": [
      "Epoch 160, Loss 0.0404\n",
      "Training Accuracy: 0.9585, Testing Accuracy: 0.9637\n",
      "\n"
     ]
    },
    {
     "name": "stdout",
     "output_type": "stream",
     "text": [
      "Epoch 170, Loss 0.0398\n",
      "Training Accuracy: 0.9590, Testing Accuracy: 0.9642\n",
      "\n"
     ]
    },
    {
     "name": "stdout",
     "output_type": "stream",
     "text": [
      "Epoch 180, Loss 0.0392\n",
      "Training Accuracy: 0.9599, Testing Accuracy: 0.9647\n",
      "\n"
     ]
    },
    {
     "name": "stdout",
     "output_type": "stream",
     "text": [
      "Epoch 190, Loss 0.0387\n",
      "Training Accuracy: 0.9602, Testing Accuracy: 0.9647\n",
      "\n"
     ]
    },
    {
     "name": "stdout",
     "output_type": "stream",
     "text": [
      "Epoch 200, Loss 0.0382\n",
      "Training Accuracy: 0.9604, Testing Accuracy: 0.9647\n",
      "\n"
     ]
    },
    {
     "name": "stdout",
     "output_type": "stream",
     "text": [
      "Epoch 210, Loss 0.0378\n",
      "Training Accuracy: 0.9606, Testing Accuracy: 0.9652\n",
      "\n"
     ]
    },
    {
     "name": "stdout",
     "output_type": "stream",
     "text": [
      "Epoch 220, Loss 0.0374\n",
      "Training Accuracy: 0.9606, Testing Accuracy: 0.9657\n",
      "\n"
     ]
    },
    {
     "name": "stdout",
     "output_type": "stream",
     "text": [
      "Epoch 230, Loss 0.037\n",
      "Training Accuracy: 0.9609, Testing Accuracy: 0.9657\n",
      "\n"
     ]
    },
    {
     "name": "stdout",
     "output_type": "stream",
     "text": [
      "Epoch 240, Loss 0.0367\n",
      "Training Accuracy: 0.9612, Testing Accuracy: 0.9662\n",
      "\n"
     ]
    },
    {
     "data": {
      "text/plain": [
       "0.040005491409492284"
      ]
     },
     "execution_count": 23,
     "metadata": {},
     "output_type": "execute_result"
    }
   ],
   "source": [
    "lr_learner.train_loop(dl)"
   ]
  },
  {
   "cell_type": "code",
   "execution_count": 24,
   "id": "ca410940",
   "metadata": {
    "execution": {
     "iopub.execute_input": "2022-11-06T10:13:24.805119Z",
     "iopub.status.busy": "2022-11-06T10:13:24.804553Z",
     "iopub.status.idle": "2022-11-06T10:13:25.027682Z",
     "shell.execute_reply": "2022-11-06T10:13:25.026897Z"
    },
    "papermill": {
     "duration": 0.275965,
     "end_time": "2022-11-06T10:13:25.027794",
     "exception": false,
     "start_time": "2022-11-06T10:13:24.751829",
     "status": "completed"
    },
    "tags": []
   },
   "outputs": [
    {
     "data": {
      "text/plain": [
       "<matplotlib.legend.Legend at 0x7f3d0a219588>"
      ]
     },
     "execution_count": 24,
     "metadata": {},
     "output_type": "execute_result"
    },
    {
     "data": {
      "image/png": "[encoded data removed]",
      "text/plain": [
       "<Figure size 1080x720 with 1 Axes>"
      ]
     },
     "metadata": {
      "needs_background": "light"
     },
     "output_type": "display_data"
    }
   ],
   "source": [
    "#comparing the results of NN and LR\n",
    "plt.figure(figsize=(15,10))\n",
    "\n",
    "# Neural Network plots\n",
    "plt.plot(acc_nn.accuracies, 'r-', label = \"Training Accuracies - NN\")\n",
    "plt.plot(acc_nn.test_accuracies, 'g-', label = \"Testing Accuracies - NN\")\n",
    "\n",
    "# Logistic Regression plots\n",
    "plt.plot(acc_lr.accuracies, 'k-', label = \"Training Accuracies - LR\")\n",
    "plt.plot(acc_lr.test_accuracies, 'b-', label = \"Testing Accuracies - LR\")\n",
    "plt.legend()"
   ]
  },
  {
   "cell_type": "markdown",
   "id": "80dfb35c",
   "metadata": {
    "papermill": {
     "duration": 0.042872,
     "end_time": "2022-11-06T10:13:25.113295",
     "exception": false,
     "start_time": "2022-11-06T10:13:25.070423",
     "status": "completed"
    },
    "tags": []
   },
   "source": [
    "#### Plotting the outputs of this layer of the NN.\n"
   ]
  },
  {
   "cell_type": "code",
   "execution_count": 25,
   "id": "45eb2ff5",
   "metadata": {
    "execution": {
     "iopub.execute_input": "2022-11-06T10:13:25.201609Z",
     "iopub.status.busy": "2022-11-06T10:13:25.201064Z",
     "iopub.status.idle": "2022-11-06T10:13:25.236260Z",
     "shell.execute_reply": "2022-11-06T10:13:25.236703Z"
    },
    "papermill": {
     "duration": 0.081203,
     "end_time": "2022-11-06T10:13:25.236825",
     "exception": false,
     "start_time": "2022-11-06T10:13:25.155622",
     "status": "completed"
    },
    "tags": []
   },
   "outputs": [],
   "source": [
    "new_model = Model(layers[:-2])\n",
    "testing_plot = new_model(testing_data_x)"
   ]
  },
  {
   "cell_type": "code",
   "execution_count": 26,
   "id": "4c0a5485",
   "metadata": {
    "execution": {
     "iopub.execute_input": "2022-11-06T10:13:25.330857Z",
     "iopub.status.busy": "2022-11-06T10:13:25.330305Z",
     "iopub.status.idle": "2022-11-06T10:13:25.549827Z",
     "shell.execute_reply": "2022-11-06T10:13:25.549348Z"
    },
    "papermill": {
     "duration": 0.270461,
     "end_time": "2022-11-06T10:13:25.549933",
     "exception": false,
     "start_time": "2022-11-06T10:13:25.279472",
     "status": "completed"
    },
    "tags": []
   },
   "outputs": [
    {
     "data": {
      "text/plain": [
       "Text(0.5, 1.0, 'Outputs')"
      ]
     },
     "execution_count": 26,
     "metadata": {},
     "output_type": "execute_result"
    },
    {
     "data": {
      "image/png": "[encoded data removed]",
      "text/plain": [
       "<Figure size 576x504 with 1 Axes>"
      ]
     },
     "metadata": {
      "needs_background": "light"
     },
     "output_type": "display_data"
    }
   ],
   "source": [
    "# Plotting the scatter plot of points and color coding by class\n",
    "plt.figure(figsize=(8,7))\n",
    "plt.scatter(testing_plot[:,0], testing_plot[:,1], alpha = 0.1, c = y_test.ravel());\n",
    "plt.title('Outputs')"
   ]
  },
  {
   "cell_type": "markdown",
   "id": "a74fcf8f",
   "metadata": {
    "papermill": {
     "duration": 0.045083,
     "end_time": "2022-11-06T10:13:25.640159",
     "exception": false,
     "start_time": "2022-11-06T10:13:25.595076",
     "status": "completed"
    },
    "tags": []
   },
   "source": [
    "Probability contours"
   ]
  },
  {
   "cell_type": "code",
   "execution_count": 27,
   "id": "d0afc8e3",
   "metadata": {
    "execution": {
     "iopub.execute_input": "2022-11-06T10:13:25.759922Z",
     "iopub.status.busy": "2022-11-06T10:13:25.757100Z",
     "iopub.status.idle": "2022-11-06T10:13:25.768877Z",
     "shell.execute_reply": "2022-11-06T10:13:25.769292Z"
    },
    "papermill": {
     "duration": 0.084073,
     "end_time": "2022-11-06T10:13:25.769410",
     "exception": false,
     "start_time": "2022-11-06T10:13:25.685337",
     "status": "completed"
    },
    "tags": []
   },
   "outputs": [],
   "source": [
    "model_prob = Model(layers[-2:]) "
   ]
  },
  {
   "cell_type": "code",
   "execution_count": 28,
   "id": "9b96e238",
   "metadata": {
    "execution": {
     "iopub.execute_input": "2022-11-06T10:13:25.866009Z",
     "iopub.status.busy": "2022-11-06T10:13:25.864694Z",
     "iopub.status.idle": "2022-11-06T10:13:25.877833Z",
     "shell.execute_reply": "2022-11-06T10:13:25.878232Z"
    },
    "papermill": {
     "duration": 0.063874,
     "end_time": "2022-11-06T10:13:25.878347",
     "exception": false,
     "start_time": "2022-11-06T10:13:25.814473",
     "status": "completed"
    },
    "tags": []
   },
   "outputs": [],
   "source": [
    "#creating the x and y ranges according to the above generated plot.\n",
    "x_range = np.linspace(-4, 1, 100) \n",
    "y_range = np.linspace(-6, 6, 100) \n",
    "x_grid, y_grid = np.meshgrid(x_range, y_range) # x_grid and y_grig are of size 100 X 100\n",
    "\n",
    "# converting x_grid and y_grid to continuous arrays\n",
    "x_gridflat = np.ravel(x_grid)\n",
    "y_gridflat = np.ravel(y_grid)\n",
    "\n",
    "# The last layer of the current model takes two columns as input. Hence transpose of np.vstack() is required.\n",
    "X = np.vstack((x_gridflat, y_gridflat)).T\n",
    "\n",
    "prob_contour = model_prob(X).reshape(100,100) "
   ]
  },
  {
   "cell_type": "code",
   "execution_count": 29,
   "id": "da72499a",
   "metadata": {
    "execution": {
     "iopub.execute_input": "2022-11-06T10:13:25.972358Z",
     "iopub.status.busy": "2022-11-06T10:13:25.971797Z",
     "iopub.status.idle": "2022-11-06T10:13:26.233338Z",
     "shell.execute_reply": "2022-11-06T10:13:26.232599Z"
    },
    "papermill": {
     "duration": 0.309944,
     "end_time": "2022-11-06T10:13:26.233448",
     "exception": false,
     "start_time": "2022-11-06T10:13:25.923504",
     "status": "completed"
    },
    "tags": []
   },
   "outputs": [
    {
     "data": {
      "image/png": "[encoded data removed]",
      "text/plain": [
       "<Figure size 720x648 with 1 Axes>"
      ]
     },
     "metadata": {
      "needs_background": "light"
     },
     "output_type": "display_data"
    }
   ],
   "source": [
    "plt.figure(figsize=(10,9))\n",
    "plt.scatter(testing_plot[:,0], testing_plot[:,1], alpha = 0.1, c = y_test.ravel())\n",
    "contours = plt.contour(x_grid,y_grid,prob_contour)\n",
    "plt.title('Probability Contours')\n",
    "plt.clabel(contours, inline = True );"
   ]
  },
  {
   "cell_type": "code",
   "execution_count": null,
   "id": "e81b4ac7",
   "metadata": {
    "papermill": {
     "duration": 0.047901,
     "end_time": "2022-11-06T10:13:26.330532",
     "exception": false,
     "start_time": "2022-11-06T10:13:26.282631",
     "status": "completed"
    },
    "tags": []
   },
   "outputs": [],
   "source": []
  }
 ],
 "metadata": {
  "kernelspec": {
   "display_name": "Python 3",
   "language": "python",
   "name": "python3"
  },
  "language_info": {
   "codemirror_mode": {
    "name": "ipython",
    "version": 3
   },
   "file_extension": ".py",
   "mimetype": "text/x-python",
   "name": "python",
   "nbconvert_exporter": "python",
   "pygments_lexer": "ipython3",
   "version": "3.6.15"
  },
  "papermill": {
   "default_parameters": {},
   "duration": 194.921252,
   "end_time": "2022-11-06T10:13:26.697407",
   "environment_variables": {},
   "exception": null,
   "input_path": "2020-08-11-part2.ipynb",
   "output_path": "2020-08-11-part2.ipynb",
   "parameters": {},
   "start_time": "2022-11-06T10:10:11.776155",
   "version": "2.3.3"
  }
 },
 "nbformat": 4,
 "nbformat_minor": 5
}