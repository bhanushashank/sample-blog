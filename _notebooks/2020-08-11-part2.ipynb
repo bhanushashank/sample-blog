{
 "cells": [
  {
   "cell_type": "markdown",
   "id": "98380cd3",
   "metadata": {
    "papermill": {
     "duration": 0.028211,
     "end_time": "2022-03-09T00:30:34.955338",
     "exception": false,
     "start_time": "2022-03-09T00:30:34.927127",
     "status": "completed"
    },
    "tags": []
   },
   "source": [
    "# Distinguish Your Own Digits (DYOD)"
   ]
  },
  {
   "cell_type": "markdown",
   "id": "ef31240d",
   "metadata": {
    "papermill": {
     "duration": 0.025037,
     "end_time": "2022-03-09T00:30:35.004388",
     "exception": false,
     "start_time": "2022-03-09T00:30:34.979351",
     "status": "completed"
    },
    "tags": []
   },
   "source": [
    "You are going to write a classifier that distinguishes between the number 3 and number 8."
   ]
  },
  {
   "cell_type": "code",
   "execution_count": 1,
   "id": "b15c8646",
   "metadata": {
    "execution": {
     "iopub.execute_input": "2022-03-09T00:30:35.061911Z",
     "iopub.status.busy": "2022-03-09T00:30:35.061320Z",
     "iopub.status.idle": "2022-03-09T00:30:35.072131Z",
     "shell.execute_reply": "2022-03-09T00:30:35.071700Z"
    },
    "papermill": {
     "duration": 0.04462,
     "end_time": "2022-03-09T00:30:35.072261",
     "exception": false,
     "start_time": "2022-03-09T00:30:35.027641",
     "status": "completed"
    },
    "tags": []
   },
   "outputs": [],
   "source": [
    "%load_ext autoreload\n",
    "%autoreload 2"
   ]
  },
  {
   "cell_type": "code",
   "execution_count": 2,
   "id": "22ef38dc",
   "metadata": {
    "execution": {
     "iopub.execute_input": "2022-03-09T00:30:35.134184Z",
     "iopub.status.busy": "2022-03-09T00:30:35.132281Z",
     "iopub.status.idle": "2022-03-09T00:30:35.696398Z",
     "shell.execute_reply": "2022-03-09T00:30:35.695864Z"
    },
    "papermill": {
     "duration": 0.60063,
     "end_time": "2022-03-09T00:30:35.696544",
     "exception": false,
     "start_time": "2022-03-09T00:30:35.095914",
     "status": "completed"
    },
    "tags": []
   },
   "outputs": [],
   "source": [
    "%matplotlib inline\n",
    "import numpy as np\n",
    "import matplotlib.pyplot as plt\n",
    "import pandas as pd"
   ]
  },
  {
   "cell_type": "markdown",
   "id": "ba036198",
   "metadata": {
    "papermill": {
     "duration": 0.023344,
     "end_time": "2022-03-09T00:30:35.744284",
     "exception": false,
     "start_time": "2022-03-09T00:30:35.720940",
     "status": "completed"
    },
    "tags": []
   },
   "source": [
    "From the command line run `pip install mnist`. This is a library that will help you bring down the mnist dataset. If you run this from a notebook, you need to put  `!pip install mnist` in a cell by itself."
   ]
  },
  {
   "cell_type": "code",
   "execution_count": 3,
   "id": "bb6ad8a1",
   "metadata": {
    "execution": {
     "iopub.execute_input": "2022-03-09T00:30:35.795612Z",
     "iopub.status.busy": "2022-03-09T00:30:35.795098Z",
     "iopub.status.idle": "2022-03-09T00:30:37.533749Z",
     "shell.execute_reply": "2022-03-09T00:30:37.533153Z"
    },
    "papermill": {
     "duration": 1.766201,
     "end_time": "2022-03-09T00:30:37.533889",
     "exception": false,
     "start_time": "2022-03-09T00:30:35.767688",
     "status": "completed"
    },
    "tags": []
   },
   "outputs": [
    {
     "name": "stdout",
     "output_type": "stream",
     "text": [
      "Collecting mnist\r\n"
     ]
    },
    {
     "name": "stdout",
     "output_type": "stream",
     "text": [
      "  Downloading mnist-0.2.2-py2.py3-none-any.whl (3.5 kB)\r\n",
      "Requirement already satisfied: numpy in /opt/hostedtoolcache/Python/3.6.15/x64/lib/python3.6/site-packages (from mnist) (1.19.5)\r\n"
     ]
    },
    {
     "name": "stdout",
     "output_type": "stream",
     "text": [
      "Installing collected packages: mnist\r\n",
      "Successfully installed mnist-0.2.2\r\n"
     ]
    }
   ],
   "source": [
    "!pip install mnist"
   ]
  },
  {
   "cell_type": "markdown",
   "id": "69df9c9a",
   "metadata": {
    "papermill": {
     "duration": 0.024683,
     "end_time": "2022-03-09T00:30:37.584259",
     "exception": false,
     "start_time": "2022-03-09T00:30:37.559576",
     "status": "completed"
    },
    "tags": []
   },
   "source": [
    "## Preparing the Data"
   ]
  },
  {
   "cell_type": "code",
   "execution_count": 4,
   "id": "7f69d806",
   "metadata": {
    "execution": {
     "iopub.execute_input": "2022-03-09T00:30:37.637193Z",
     "iopub.status.busy": "2022-03-09T00:30:37.636646Z",
     "iopub.status.idle": "2022-03-09T00:30:37.651071Z",
     "shell.execute_reply": "2022-03-09T00:30:37.650647Z"
    },
    "papermill": {
     "duration": 0.04286,
     "end_time": "2022-03-09T00:30:37.651179",
     "exception": false,
     "start_time": "2022-03-09T00:30:37.608319",
     "status": "completed"
    },
    "tags": []
   },
   "outputs": [],
   "source": [
    "import mnist"
   ]
  },
  {
   "cell_type": "code",
   "execution_count": 5,
   "id": "a411e44f",
   "metadata": {
    "execution": {
     "iopub.execute_input": "2022-03-09T00:30:37.703057Z",
     "iopub.status.busy": "2022-03-09T00:30:37.702561Z",
     "iopub.status.idle": "2022-03-09T00:30:38.337453Z",
     "shell.execute_reply": "2022-03-09T00:30:38.336911Z"
    },
    "papermill": {
     "duration": 0.66211,
     "end_time": "2022-03-09T00:30:38.337607",
     "exception": false,
     "start_time": "2022-03-09T00:30:37.675497",
     "status": "completed"
    },
    "tags": []
   },
   "outputs": [],
   "source": [
    "train_images = mnist.train_images()\n",
    "train_labels = mnist.train_labels()"
   ]
  },
  {
   "cell_type": "code",
   "execution_count": 6,
   "id": "dceab3a5",
   "metadata": {
    "execution": {
     "iopub.execute_input": "2022-03-09T00:30:38.396338Z",
     "iopub.status.busy": "2022-03-09T00:30:38.395790Z",
     "iopub.status.idle": "2022-03-09T00:30:38.409727Z",
     "shell.execute_reply": "2022-03-09T00:30:38.409260Z"
    },
    "papermill": {
     "duration": 0.046786,
     "end_time": "2022-03-09T00:30:38.409843",
     "exception": false,
     "start_time": "2022-03-09T00:30:38.363057",
     "status": "completed"
    },
    "tags": []
   },
   "outputs": [
    {
     "data": {
      "text/plain": [
       "((60000, 28, 28), (60000,))"
      ]
     },
     "execution_count": 6,
     "metadata": {},
     "output_type": "execute_result"
    }
   ],
   "source": [
    "train_images.shape, train_labels.shape"
   ]
  },
  {
   "cell_type": "code",
   "execution_count": 7,
   "id": "f50dc2bb",
   "metadata": {
    "execution": {
     "iopub.execute_input": "2022-03-09T00:30:38.466690Z",
     "iopub.status.busy": "2022-03-09T00:30:38.466191Z",
     "iopub.status.idle": "2022-03-09T00:30:38.696484Z",
     "shell.execute_reply": "2022-03-09T00:30:38.695260Z"
    },
    "papermill": {
     "duration": 0.262326,
     "end_time": "2022-03-09T00:30:38.696635",
     "exception": false,
     "start_time": "2022-03-09T00:30:38.434309",
     "status": "completed"
    },
    "tags": []
   },
   "outputs": [],
   "source": [
    "test_images = mnist.test_images()\n",
    "test_labels = mnist.test_labels()"
   ]
  },
  {
   "cell_type": "code",
   "execution_count": 8,
   "id": "fc38cf1b",
   "metadata": {
    "execution": {
     "iopub.execute_input": "2022-03-09T00:30:38.754224Z",
     "iopub.status.busy": "2022-03-09T00:30:38.749564Z",
     "iopub.status.idle": "2022-03-09T00:30:38.762420Z",
     "shell.execute_reply": "2022-03-09T00:30:38.761992Z"
    },
    "papermill": {
     "duration": 0.040513,
     "end_time": "2022-03-09T00:30:38.762530",
     "exception": false,
     "start_time": "2022-03-09T00:30:38.722017",
     "status": "completed"
    },
    "tags": []
   },
   "outputs": [
    {
     "data": {
      "text/plain": [
       "((10000, 28, 28), (10000,))"
      ]
     },
     "execution_count": 8,
     "metadata": {},
     "output_type": "execute_result"
    }
   ],
   "source": [
    "test_images.shape, test_labels.shape"
   ]
  },
  {
   "cell_type": "code",
   "execution_count": 9,
   "id": "f9ed8fe0",
   "metadata": {
    "execution": {
     "iopub.execute_input": "2022-03-09T00:30:38.818492Z",
     "iopub.status.busy": "2022-03-09T00:30:38.817996Z",
     "iopub.status.idle": "2022-03-09T00:30:38.951843Z",
     "shell.execute_reply": "2022-03-09T00:30:38.952314Z"
    },
    "papermill": {
     "duration": 0.164846,
     "end_time": "2022-03-09T00:30:38.952469",
     "exception": false,
     "start_time": "2022-03-09T00:30:38.787623",
     "status": "completed"
    },
    "tags": []
   },
   "outputs": [
    {
     "name": "stdout",
     "output_type": "stream",
     "text": [
      "2\n"
     ]
    },
    {
     "data": {
      "text/plain": [
       "<matplotlib.image.AxesImage at 0x7f75ed37e5c0>"
      ]
     },
     "execution_count": 9,
     "metadata": {},
     "output_type": "execute_result"
    },
    {
     "data": {
      "image/png": "[encoded data removed]",
      "text/plain": [
       "<Figure size 432x288 with 1 Axes>"
      ]
     },
     "metadata": {
      "needs_background": "light"
     },
     "output_type": "display_data"
    }
   ],
   "source": [
    "image_index = 7776 # You may select anything up to 60,000\n",
    "print(train_labels[image_index]) \n",
    "plt.imshow(train_images[image_index], cmap='Greys')"
   ]
  },
  {
   "cell_type": "markdown",
   "id": "a8d2388d",
   "metadata": {
    "papermill": {
     "duration": 0.026154,
     "end_time": "2022-03-09T00:30:39.004827",
     "exception": false,
     "start_time": "2022-03-09T00:30:38.978673",
     "status": "completed"
    },
    "tags": []
   },
   "source": [
    "## Filter data to get 3 and 8 out"
   ]
  },
  {
   "cell_type": "code",
   "execution_count": 10,
   "id": "776f7fc7",
   "metadata": {
    "execution": {
     "iopub.execute_input": "2022-03-09T00:30:39.060423Z",
     "iopub.status.busy": "2022-03-09T00:30:39.059907Z",
     "iopub.status.idle": "2022-03-09T00:30:39.079465Z",
     "shell.execute_reply": "2022-03-09T00:30:39.078973Z"
    },
    "papermill": {
     "duration": 0.049028,
     "end_time": "2022-03-09T00:30:39.079589",
     "exception": false,
     "start_time": "2022-03-09T00:30:39.030561",
     "status": "completed"
    },
    "tags": []
   },
   "outputs": [],
   "source": [
    "train_filter = np.where((train_labels == 3 ) | (train_labels == 8))\n",
    "test_filter = np.where((test_labels == 3) | (test_labels == 8))\n",
    "X_train, y_train = train_images[train_filter], train_labels[train_filter]\n",
    "X_test, y_test = test_images[test_filter], test_labels[test_filter]"
   ]
  },
  {
   "cell_type": "markdown",
   "id": "948f0b7e",
   "metadata": {
    "papermill": {
     "duration": 0.026094,
     "end_time": "2022-03-09T00:30:39.132379",
     "exception": false,
     "start_time": "2022-03-09T00:30:39.106285",
     "status": "completed"
    },
    "tags": []
   },
   "source": [
    "We normalize the pizel values in the 0 to 1 range"
   ]
  },
  {
   "cell_type": "code",
   "execution_count": 11,
   "id": "ee4c2166",
   "metadata": {
    "execution": {
     "iopub.execute_input": "2022-03-09T00:30:39.202784Z",
     "iopub.status.busy": "2022-03-09T00:30:39.202244Z",
     "iopub.status.idle": "2022-03-09T00:30:39.238697Z",
     "shell.execute_reply": "2022-03-09T00:30:39.239144Z"
    },
    "papermill": {
     "duration": 0.081203,
     "end_time": "2022-03-09T00:30:39.239294",
     "exception": false,
     "start_time": "2022-03-09T00:30:39.158091",
     "status": "completed"
    },
    "tags": []
   },
   "outputs": [],
   "source": [
    "X_train = X_train/255.\n",
    "X_test = X_test/255."
   ]
  },
  {
   "cell_type": "markdown",
   "id": "ddcf4fab",
   "metadata": {
    "papermill": {
     "duration": 0.026606,
     "end_time": "2022-03-09T00:30:39.292981",
     "exception": false,
     "start_time": "2022-03-09T00:30:39.266375",
     "status": "completed"
    },
    "tags": []
   },
   "source": [
    "And setup the labels as 1 (when the digit is 3) and 0 (when the digit is 8)"
   ]
  },
  {
   "cell_type": "code",
   "execution_count": 12,
   "id": "7dc908f2",
   "metadata": {
    "execution": {
     "iopub.execute_input": "2022-03-09T00:30:39.351086Z",
     "iopub.status.busy": "2022-03-09T00:30:39.350545Z",
     "iopub.status.idle": "2022-03-09T00:30:39.361560Z",
     "shell.execute_reply": "2022-03-09T00:30:39.361080Z"
    },
    "papermill": {
     "duration": 0.042024,
     "end_time": "2022-03-09T00:30:39.361678",
     "exception": false,
     "start_time": "2022-03-09T00:30:39.319654",
     "status": "completed"
    },
    "tags": []
   },
   "outputs": [],
   "source": [
    "y_train = 1*(y_train==3)\n",
    "y_test = 1*(y_test==3)"
   ]
  },
  {
   "cell_type": "code",
   "execution_count": 13,
   "id": "01e4e969",
   "metadata": {
    "execution": {
     "iopub.execute_input": "2022-03-09T00:30:39.430375Z",
     "iopub.status.busy": "2022-03-09T00:30:39.426499Z",
     "iopub.status.idle": "2022-03-09T00:30:39.433429Z",
     "shell.execute_reply": "2022-03-09T00:30:39.432977Z"
    },
    "papermill": {
     "duration": 0.046057,
     "end_time": "2022-03-09T00:30:39.433541",
     "exception": false,
     "start_time": "2022-03-09T00:30:39.387484",
     "status": "completed"
    },
    "tags": []
   },
   "outputs": [
    {
     "data": {
      "text/plain": [
       "((11982, 28, 28), (1984, 28, 28))"
      ]
     },
     "execution_count": 13,
     "metadata": {},
     "output_type": "execute_result"
    }
   ],
   "source": [
    "X_train.shape, X_test.shape"
   ]
  },
  {
   "cell_type": "markdown",
   "id": "5ccf3f85",
   "metadata": {
    "papermill": {
     "duration": 0.025879,
     "end_time": "2022-03-09T00:30:39.485397",
     "exception": false,
     "start_time": "2022-03-09T00:30:39.459518",
     "status": "completed"
    },
    "tags": []
   },
   "source": [
    "We reshape the data to flatten the image pixels into a set of features or co-variates:"
   ]
  },
  {
   "cell_type": "code",
   "execution_count": 14,
   "id": "5286a4a3",
   "metadata": {
    "execution": {
     "iopub.execute_input": "2022-03-09T00:30:39.543138Z",
     "iopub.status.busy": "2022-03-09T00:30:39.540588Z",
     "iopub.status.idle": "2022-03-09T00:30:39.553834Z",
     "shell.execute_reply": "2022-03-09T00:30:39.554212Z"
    },
    "papermill": {
     "duration": 0.042784,
     "end_time": "2022-03-09T00:30:39.554329",
     "exception": false,
     "start_time": "2022-03-09T00:30:39.511545",
     "status": "completed"
    },
    "tags": []
   },
   "outputs": [
    {
     "data": {
      "text/plain": [
       "((11982, 784), (1984, 784))"
      ]
     },
     "execution_count": 14,
     "metadata": {},
     "output_type": "execute_result"
    }
   ],
   "source": [
    "X_train = X_train.reshape(X_train.shape[0], -1)\n",
    "X_test = X_test.reshape(X_test.shape[0], -1)\n",
    "X_train.shape, X_test.shape"
   ]
  },
  {
   "cell_type": "code",
   "execution_count": 15,
   "id": "73c5f88a",
   "metadata": {
    "execution": {
     "iopub.execute_input": "2022-03-09T00:30:39.611680Z",
     "iopub.status.busy": "2022-03-09T00:30:39.611180Z",
     "iopub.status.idle": "2022-03-09T00:30:39.630400Z",
     "shell.execute_reply": "2022-03-09T00:30:39.630836Z"
    },
    "papermill": {
     "duration": 0.050487,
     "end_time": "2022-03-09T00:30:39.630968",
     "exception": false,
     "start_time": "2022-03-09T00:30:39.580481",
     "status": "completed"
    },
    "tags": []
   },
   "outputs": [],
   "source": [
    "#Impoting functions from 'Kudzu'\n",
    "from kudzu.model import Model\n",
    "from kudzu.train import Learner\n",
    "from kudzu.optim import GD\n",
    "from kudzu.data import Data, Sampler,Dataloader\n",
    "\n",
    "from kudzu.callbacks import AccCallback\n",
    "from kudzu.callbacks import ClfCallback\n",
    "\n",
    "from kudzu.loss import MSE\n",
    "\n",
    "from kudzu.layer import Sigmoid,Relu\n",
    "from kudzu.layer import Affine"
   ]
  },
  {
   "cell_type": "markdown",
   "id": "bc01172a",
   "metadata": {
    "papermill": {
     "duration": 0.026146,
     "end_time": "2022-03-09T00:30:39.684053",
     "exception": false,
     "start_time": "2022-03-09T00:30:39.657907",
     "status": "completed"
    },
    "tags": []
   },
   "source": [
    "### Let us create a `Config` class, to store important parameters. \n",
    "This class essentially plays the role of a dictionary."
   ]
  },
  {
   "cell_type": "code",
   "execution_count": 16,
   "id": "978281aa",
   "metadata": {
    "execution": {
     "iopub.execute_input": "2022-03-09T00:30:39.741454Z",
     "iopub.status.busy": "2022-03-09T00:30:39.740928Z",
     "iopub.status.idle": "2022-03-09T00:30:39.751813Z",
     "shell.execute_reply": "2022-03-09T00:30:39.751412Z"
    },
    "papermill": {
     "duration": 0.041232,
     "end_time": "2022-03-09T00:30:39.751916",
     "exception": false,
     "start_time": "2022-03-09T00:30:39.710684",
     "status": "completed"
    },
    "tags": []
   },
   "outputs": [],
   "source": [
    "class Config:\n",
    "    pass\n",
    "config = Config()\n",
    "config.lr = 0.001\n",
    "config.num_epochs = 250\n",
    "config.bs = 50"
   ]
  },
  {
   "cell_type": "markdown",
   "id": "1385fa59",
   "metadata": {
    "papermill": {
     "duration": 0.026418,
     "end_time": "2022-03-09T00:30:39.804628",
     "exception": false,
     "start_time": "2022-03-09T00:30:39.778210",
     "status": "completed"
    },
    "tags": []
   },
   "source": [
    "### Running Models with the Training data\n",
    "Details about the network layers:\n",
    "- A first affine layer has 784 inputs and does 100 affine transforms. These are followed by a Relu\n",
    "- A second affine layer has 100 inputs from the 100 activations of the past layer, and does 100 affine transforms. These are followed by a Relu\n",
    "- A third affine layer has 100 activations and does 2 affine transformations to create an embedding for visualization. There is no non-linearity here.\n",
    "- A final \"logistic regression\" which has an affine transform from 2 inputs to 1 output, which is squeezed through a sigmoid.\n"
   ]
  },
  {
   "cell_type": "code",
   "execution_count": 17,
   "id": "2b9c66db",
   "metadata": {
    "execution": {
     "iopub.execute_input": "2022-03-09T00:30:39.860661Z",
     "iopub.status.busy": "2022-03-09T00:30:39.860153Z",
     "iopub.status.idle": "2022-03-09T00:30:39.871813Z",
     "shell.execute_reply": "2022-03-09T00:30:39.871385Z"
    },
    "papermill": {
     "duration": 0.041045,
     "end_time": "2022-03-09T00:30:39.871915",
     "exception": false,
     "start_time": "2022-03-09T00:30:39.830870",
     "status": "completed"
    },
    "tags": []
   },
   "outputs": [],
   "source": [
    "data = Data(X_train, y_train.reshape(-1,1))\n",
    "sampler = Sampler(data, config.bs, shuffle=True)\n",
    "\n",
    "dl = Dataloader(data, sampler)\n",
    "\n",
    "opt = GD(config.lr)\n",
    "loss = MSE()"
   ]
  },
  {
   "cell_type": "code",
   "execution_count": 18,
   "id": "b275e4c2",
   "metadata": {
    "execution": {
     "iopub.execute_input": "2022-03-09T00:30:39.928793Z",
     "iopub.status.busy": "2022-03-09T00:30:39.928283Z",
     "iopub.status.idle": "2022-03-09T00:30:39.939251Z",
     "shell.execute_reply": "2022-03-09T00:30:39.938824Z"
    },
    "papermill": {
     "duration": 0.041177,
     "end_time": "2022-03-09T00:30:39.939353",
     "exception": false,
     "start_time": "2022-03-09T00:30:39.898176",
     "status": "completed"
    },
    "tags": []
   },
   "outputs": [],
   "source": [
    "training_data_x = X_train\n",
    "testing_data_x = X_test\n",
    "training_data_y = y_train.reshape(-1,1)\n",
    "testing_data_y = y_test.reshape(-1,1)"
   ]
  },
  {
   "cell_type": "code",
   "execution_count": 19,
   "id": "76951160",
   "metadata": {
    "execution": {
     "iopub.execute_input": "2022-03-09T00:30:39.995888Z",
     "iopub.status.busy": "2022-03-09T00:30:39.995349Z",
     "iopub.status.idle": "2022-03-09T00:30:40.011556Z",
     "shell.execute_reply": "2022-03-09T00:30:40.011153Z"
    },
    "papermill": {
     "duration": 0.045946,
     "end_time": "2022-03-09T00:30:40.011665",
     "exception": false,
     "start_time": "2022-03-09T00:30:39.965719",
     "status": "completed"
    },
    "tags": []
   },
   "outputs": [
    {
     "name": "stdout",
     "output_type": "stream",
     "text": [
      "xavier\n",
      "xavier\n",
      "xavier\n",
      "xavier\n",
      "xavier\n"
     ]
    }
   ],
   "source": [
    "layers = [Affine(\"first\", 784, 100), Relu(\"first\"), Affine(\"second\", 100, 100), Relu(\"second\"), Affine(\"third\", 100, 2), Affine(\"last\", 2, 1), Sigmoid(\"last\")]\n",
    "model_nn = Model(layers)\n",
    "model_lr = Model([Affine(\"logits\", 784, 1), Sigmoid(\"sigmoid\")])"
   ]
  },
  {
   "cell_type": "code",
   "execution_count": 20,
   "id": "6eede77a",
   "metadata": {
    "execution": {
     "iopub.execute_input": "2022-03-09T00:30:40.068633Z",
     "iopub.status.busy": "2022-03-09T00:30:40.068129Z",
     "iopub.status.idle": "2022-03-09T00:30:40.080296Z",
     "shell.execute_reply": "2022-03-09T00:30:40.079891Z"
    },
    "papermill": {
     "duration": 0.042153,
     "end_time": "2022-03-09T00:30:40.080405",
     "exception": false,
     "start_time": "2022-03-09T00:30:40.038252",
     "status": "completed"
    },
    "tags": []
   },
   "outputs": [],
   "source": [
    "nn_learner = Learner(loss, model_nn, opt, config.num_epochs)\n",
    "acc_nn = ClfCallback(nn_learner, config.bs, training_data_x , testing_data_x, training_data_y, testing_data_y)\n",
    "nn_learner.set_callbacks([acc_nn])"
   ]
  },
  {
   "cell_type": "code",
   "execution_count": 21,
   "id": "877b6cc7",
   "metadata": {
    "execution": {
     "iopub.execute_input": "2022-03-09T00:30:40.137698Z",
     "iopub.status.busy": "2022-03-09T00:30:40.137161Z",
     "iopub.status.idle": "2022-03-09T00:30:40.149558Z",
     "shell.execute_reply": "2022-03-09T00:30:40.149946Z"
    },
    "papermill": {
     "duration": 0.042898,
     "end_time": "2022-03-09T00:30:40.150070",
     "exception": false,
     "start_time": "2022-03-09T00:30:40.107172",
     "status": "completed"
    },
    "tags": []
   },
   "outputs": [],
   "source": [
    "lr_learner = Learner(loss, model_lr, opt, config.num_epochs)\n",
    "acc_lr = ClfCallback(lr_learner, config.bs, training_data_x , testing_data_x, training_data_y, testing_data_y)\n",
    "lr_learner.set_callbacks([acc_lr])"
   ]
  },
  {
   "cell_type": "code",
   "execution_count": 22,
   "id": "d9b133c3",
   "metadata": {
    "execution": {
     "iopub.execute_input": "2022-03-09T00:30:40.210615Z",
     "iopub.status.busy": "2022-03-09T00:30:40.210119Z",
     "iopub.status.idle": "2022-03-09T00:31:56.015715Z",
     "shell.execute_reply": "2022-03-09T00:31:56.016469Z"
    },
    "papermill": {
     "duration": 75.839986,
     "end_time": "2022-03-09T00:31:56.016626",
     "exception": false,
     "start_time": "2022-03-09T00:30:40.176640",
     "status": "completed"
    },
    "tags": []
   },
   "outputs": [
    {
     "name": "stdout",
     "output_type": "stream",
     "text": [
      "Epoch 0, Loss 0.2454\n",
      "Training Accuracy: 0.5866, Testing Accuracy: 0.5958\n",
      "\n"
     ]
    },
    {
     "name": "stdout",
     "output_type": "stream",
     "text": [
      "Epoch 10, Loss 0.2105\n",
      "Training Accuracy: 0.8637, Testing Accuracy: 0.8629\n",
      "\n"
     ]
    },
    {
     "name": "stdout",
     "output_type": "stream",
     "text": [
      "Epoch 20, Loss 0.1184\n",
      "Training Accuracy: 0.8945, Testing Accuracy: 0.9032\n",
      "\n"
     ]
    },
    {
     "name": "stdout",
     "output_type": "stream",
     "text": [
      "Epoch 30, Loss 0.0715\n",
      "Training Accuracy: 0.9256, Testing Accuracy: 0.9350\n",
      "\n"
     ]
    },
    {
     "name": "stdout",
     "output_type": "stream",
     "text": [
      "Epoch 40, Loss 0.0539\n",
      "Training Accuracy: 0.9393, Testing Accuracy: 0.9446\n",
      "\n"
     ]
    },
    {
     "name": "stdout",
     "output_type": "stream",
     "text": [
      "Epoch 50, Loss 0.0453\n",
      "Training Accuracy: 0.9469, Testing Accuracy: 0.9526\n",
      "\n"
     ]
    },
    {
     "name": "stdout",
     "output_type": "stream",
     "text": [
      "Epoch 60, Loss 0.0402\n",
      "Training Accuracy: 0.9527, Testing Accuracy: 0.9582\n",
      "\n"
     ]
    },
    {
     "name": "stdout",
     "output_type": "stream",
     "text": [
      "Epoch 70, Loss 0.0368\n",
      "Training Accuracy: 0.9554, Testing Accuracy: 0.9617\n",
      "\n"
     ]
    },
    {
     "name": "stdout",
     "output_type": "stream",
     "text": [
      "Epoch 80, Loss 0.0343\n",
      "Training Accuracy: 0.9591, Testing Accuracy: 0.9637\n",
      "\n"
     ]
    },
    {
     "name": "stdout",
     "output_type": "stream",
     "text": [
      "Epoch 90, Loss 0.0323\n",
      "Training Accuracy: 0.9619, Testing Accuracy: 0.9652\n",
      "\n"
     ]
    },
    {
     "name": "stdout",
     "output_type": "stream",
     "text": [
      "Epoch 100, Loss 0.0308\n",
      "Training Accuracy: 0.9638, Testing Accuracy: 0.9657\n",
      "\n"
     ]
    },
    {
     "name": "stdout",
     "output_type": "stream",
     "text": [
      "Epoch 110, Loss 0.0294\n",
      "Training Accuracy: 0.9652, Testing Accuracy: 0.9662\n",
      "\n"
     ]
    },
    {
     "name": "stdout",
     "output_type": "stream",
     "text": [
      "Epoch 120, Loss 0.0283\n",
      "Training Accuracy: 0.9673, Testing Accuracy: 0.9682\n",
      "\n"
     ]
    },
    {
     "name": "stdout",
     "output_type": "stream",
     "text": [
      "Epoch 130, Loss 0.0273\n",
      "Training Accuracy: 0.9685, Testing Accuracy: 0.9682\n",
      "\n"
     ]
    },
    {
     "name": "stdout",
     "output_type": "stream",
     "text": [
      "Epoch 140, Loss 0.0264\n",
      "Training Accuracy: 0.9695, Testing Accuracy: 0.9682\n",
      "\n"
     ]
    },
    {
     "name": "stdout",
     "output_type": "stream",
     "text": [
      "Epoch 150, Loss 0.0256\n",
      "Training Accuracy: 0.9705, Testing Accuracy: 0.9688\n",
      "\n"
     ]
    },
    {
     "name": "stdout",
     "output_type": "stream",
     "text": [
      "Epoch 160, Loss 0.0249\n",
      "Training Accuracy: 0.9713, Testing Accuracy: 0.9703\n",
      "\n"
     ]
    },
    {
     "name": "stdout",
     "output_type": "stream",
     "text": [
      "Epoch 170, Loss 0.0242\n",
      "Training Accuracy: 0.9723, Testing Accuracy: 0.9718\n",
      "\n"
     ]
    },
    {
     "name": "stdout",
     "output_type": "stream",
     "text": [
      "Epoch 180, Loss 0.0236\n",
      "Training Accuracy: 0.9733, Testing Accuracy: 0.9728\n",
      "\n"
     ]
    },
    {
     "name": "stdout",
     "output_type": "stream",
     "text": [
      "Epoch 190, Loss 0.0231\n",
      "Training Accuracy: 0.9740, Testing Accuracy: 0.9723\n",
      "\n"
     ]
    },
    {
     "name": "stdout",
     "output_type": "stream",
     "text": [
      "Epoch 200, Loss 0.0226\n",
      "Training Accuracy: 0.9745, Testing Accuracy: 0.9728\n",
      "\n"
     ]
    },
    {
     "name": "stdout",
     "output_type": "stream",
     "text": [
      "Epoch 210, Loss 0.0221\n",
      "Training Accuracy: 0.9751, Testing Accuracy: 0.9723\n",
      "\n"
     ]
    },
    {
     "name": "stdout",
     "output_type": "stream",
     "text": [
      "Epoch 220, Loss 0.0216\n",
      "Training Accuracy: 0.9752, Testing Accuracy: 0.9728\n",
      "\n"
     ]
    },
    {
     "name": "stdout",
     "output_type": "stream",
     "text": [
      "Epoch 230, Loss 0.0212\n",
      "Training Accuracy: 0.9762, Testing Accuracy: 0.9728\n",
      "\n"
     ]
    },
    {
     "name": "stdout",
     "output_type": "stream",
     "text": [
      "Epoch 240, Loss 0.0208\n",
      "Training Accuracy: 0.9765, Testing Accuracy: 0.9733\n",
      "\n"
     ]
    },
    {
     "data": {
      "text/plain": [
       "0.0028537086283635703"
      ]
     },
     "execution_count": 22,
     "metadata": {},
     "output_type": "execute_result"
    }
   ],
   "source": [
    "nn_learner.train_loop(dl)"
   ]
  },
  {
   "cell_type": "code",
   "execution_count": 23,
   "id": "e0163366",
   "metadata": {
    "execution": {
     "iopub.execute_input": "2022-03-09T00:31:56.094873Z",
     "iopub.status.busy": "2022-03-09T00:31:56.094332Z",
     "iopub.status.idle": "2022-03-09T00:32:10.556300Z",
     "shell.execute_reply": "2022-03-09T00:32:10.557046Z"
    },
    "papermill": {
     "duration": 14.506263,
     "end_time": "2022-03-09T00:32:10.557204",
     "exception": false,
     "start_time": "2022-03-09T00:31:56.050941",
     "status": "completed"
    },
    "tags": []
   },
   "outputs": [
    {
     "name": "stdout",
     "output_type": "stream",
     "text": [
      "Epoch 0, Loss 0.2006\n",
      "Training Accuracy: 0.8148, Testing Accuracy: 0.8145\n",
      "\n"
     ]
    },
    {
     "name": "stdout",
     "output_type": "stream",
     "text": [
      "Epoch 10, Loss 0.0974\n",
      "Training Accuracy: 0.9171, Testing Accuracy: 0.9259\n",
      "\n"
     ]
    },
    {
     "name": "stdout",
     "output_type": "stream",
     "text": [
      "Epoch 20, Loss 0.0765\n",
      "Training Accuracy: 0.9306, Testing Accuracy: 0.9395\n",
      "\n"
     ]
    },
    {
     "name": "stdout",
     "output_type": "stream",
     "text": [
      "Epoch 30, Loss 0.0665\n",
      "Training Accuracy: 0.9382, Testing Accuracy: 0.9496\n",
      "\n"
     ]
    },
    {
     "name": "stdout",
     "output_type": "stream",
     "text": [
      "Epoch 40, Loss 0.0604\n",
      "Training Accuracy: 0.9422, Testing Accuracy: 0.9531\n",
      "\n"
     ]
    },
    {
     "name": "stdout",
     "output_type": "stream",
     "text": [
      "Epoch 50, Loss 0.0562\n",
      "Training Accuracy: 0.9461, Testing Accuracy: 0.9561\n",
      "\n"
     ]
    },
    {
     "name": "stdout",
     "output_type": "stream",
     "text": [
      "Epoch 60, Loss 0.0531\n",
      "Training Accuracy: 0.9482, Testing Accuracy: 0.9592\n",
      "\n"
     ]
    },
    {
     "name": "stdout",
     "output_type": "stream",
     "text": [
      "Epoch 70, Loss 0.0507\n",
      "Training Accuracy: 0.9508, Testing Accuracy: 0.9597\n",
      "\n"
     ]
    },
    {
     "name": "stdout",
     "output_type": "stream",
     "text": [
      "Epoch 80, Loss 0.0487\n",
      "Training Accuracy: 0.9526, Testing Accuracy: 0.9607\n",
      "\n"
     ]
    },
    {
     "name": "stdout",
     "output_type": "stream",
     "text": [
      "Epoch 90, Loss 0.0471\n",
      "Training Accuracy: 0.9535, Testing Accuracy: 0.9627\n",
      "\n"
     ]
    },
    {
     "name": "stdout",
     "output_type": "stream",
     "text": [
      "Epoch 100, Loss 0.0458\n",
      "Training Accuracy: 0.9544, Testing Accuracy: 0.9627\n",
      "\n"
     ]
    },
    {
     "name": "stdout",
     "output_type": "stream",
     "text": [
      "Epoch 110, Loss 0.0446\n",
      "Training Accuracy: 0.9550, Testing Accuracy: 0.9637\n",
      "\n"
     ]
    },
    {
     "name": "stdout",
     "output_type": "stream",
     "text": [
      "Epoch 120, Loss 0.0436\n",
      "Training Accuracy: 0.9556, Testing Accuracy: 0.9642\n",
      "\n"
     ]
    },
    {
     "name": "stdout",
     "output_type": "stream",
     "text": [
      "Epoch 130, Loss 0.0427\n",
      "Training Accuracy: 0.9562, Testing Accuracy: 0.9642\n",
      "\n"
     ]
    },
    {
     "name": "stdout",
     "output_type": "stream",
     "text": [
      "Epoch 140, Loss 0.0419\n",
      "Training Accuracy: 0.9569, Testing Accuracy: 0.9652\n",
      "\n"
     ]
    },
    {
     "name": "stdout",
     "output_type": "stream",
     "text": [
      "Epoch 150, Loss 0.0412\n",
      "Training Accuracy: 0.9573, Testing Accuracy: 0.9652\n",
      "\n"
     ]
    },
    {
     "name": "stdout",
     "output_type": "stream",
     "text": [
      "Epoch 160, Loss 0.0405\n",
      "Training Accuracy: 0.9578, Testing Accuracy: 0.9662\n",
      "\n"
     ]
    },
    {
     "name": "stdout",
     "output_type": "stream",
     "text": [
      "Epoch 170, Loss 0.0399\n",
      "Training Accuracy: 0.9582, Testing Accuracy: 0.9662\n",
      "\n"
     ]
    },
    {
     "name": "stdout",
     "output_type": "stream",
     "text": [
      "Epoch 180, Loss 0.0394\n",
      "Training Accuracy: 0.9587, Testing Accuracy: 0.9657\n",
      "\n"
     ]
    },
    {
     "name": "stdout",
     "output_type": "stream",
     "text": [
      "Epoch 190, Loss 0.0389\n",
      "Training Accuracy: 0.9589, Testing Accuracy: 0.9662\n",
      "\n"
     ]
    },
    {
     "name": "stdout",
     "output_type": "stream",
     "text": [
      "Epoch 200, Loss 0.0384\n",
      "Training Accuracy: 0.9591, Testing Accuracy: 0.9672\n",
      "\n"
     ]
    },
    {
     "name": "stdout",
     "output_type": "stream",
     "text": [
      "Epoch 210, Loss 0.038\n",
      "Training Accuracy: 0.9597, Testing Accuracy: 0.9677\n",
      "\n"
     ]
    },
    {
     "name": "stdout",
     "output_type": "stream",
     "text": [
      "Epoch 220, Loss 0.0376\n",
      "Training Accuracy: 0.9604, Testing Accuracy: 0.9677\n",
      "\n"
     ]
    },
    {
     "name": "stdout",
     "output_type": "stream",
     "text": [
      "Epoch 230, Loss 0.0372\n",
      "Training Accuracy: 0.9609, Testing Accuracy: 0.9688\n",
      "\n"
     ]
    },
    {
     "name": "stdout",
     "output_type": "stream",
     "text": [
      "Epoch 240, Loss 0.0369\n",
      "Training Accuracy: 0.9612, Testing Accuracy: 0.9693\n",
      "\n"
     ]
    },
    {
     "data": {
      "text/plain": [
       "0.08122313804065925"
      ]
     },
     "execution_count": 23,
     "metadata": {},
     "output_type": "execute_result"
    }
   ],
   "source": [
    "lr_learner.train_loop(dl)"
   ]
  },
  {
   "cell_type": "code",
   "execution_count": 24,
   "id": "ca410940",
   "metadata": {
    "execution": {
     "iopub.execute_input": "2022-03-09T00:32:10.650614Z",
     "iopub.status.busy": "2022-03-09T00:32:10.650098Z",
     "iopub.status.idle": "2022-03-09T00:32:10.879808Z",
     "shell.execute_reply": "2022-03-09T00:32:10.879330Z"
    },
    "papermill": {
     "duration": 0.281784,
     "end_time": "2022-03-09T00:32:10.879937",
     "exception": false,
     "start_time": "2022-03-09T00:32:10.598153",
     "status": "completed"
    },
    "tags": []
   },
   "outputs": [
    {
     "data": {
      "text/plain": [
       "<matplotlib.legend.Legend at 0x7f75ecf5acf8>"
      ]
     },
     "execution_count": 24,
     "metadata": {},
     "output_type": "execute_result"
    },
    {
     "data": {
      "image/png": "[encoded data removed]",
      "text/plain": [
       "<Figure size 1080x720 with 1 Axes>"
      ]
     },
     "metadata": {
      "needs_background": "light"
     },
     "output_type": "display_data"
    }
   ],
   "source": [
    "#comparing the results of NN and LR\n",
    "plt.figure(figsize=(15,10))\n",
    "\n",
    "# Neural Network plots\n",
    "plt.plot(acc_nn.accuracies, 'r-', label = \"Training Accuracies - NN\")\n",
    "plt.plot(acc_nn.test_accuracies, 'g-', label = \"Testing Accuracies - NN\")\n",
    "\n",
    "# Logistic Regression plots\n",
    "plt.plot(acc_lr.accuracies, 'k-', label = \"Training Accuracies - LR\")\n",
    "plt.plot(acc_lr.test_accuracies, 'b-', label = \"Testing Accuracies - LR\")\n",
    "plt.legend()"
   ]
  },
  {
   "cell_type": "markdown",
   "id": "80dfb35c",
   "metadata": {
    "papermill": {
     "duration": 0.041463,
     "end_time": "2022-03-09T00:32:10.964528",
     "exception": false,
     "start_time": "2022-03-09T00:32:10.923065",
     "status": "completed"
    },
    "tags": []
   },
   "source": [
    "#### Plotting the outputs of this layer of the NN.\n"
   ]
  },
  {
   "cell_type": "code",
   "execution_count": 25,
   "id": "45eb2ff5",
   "metadata": {
    "execution": {
     "iopub.execute_input": "2022-03-09T00:32:11.054622Z",
     "iopub.status.busy": "2022-03-09T00:32:11.054098Z",
     "iopub.status.idle": "2022-03-09T00:32:11.072215Z",
     "shell.execute_reply": "2022-03-09T00:32:11.072639Z"
    },
    "papermill": {
     "duration": 0.067123,
     "end_time": "2022-03-09T00:32:11.072776",
     "exception": false,
     "start_time": "2022-03-09T00:32:11.005653",
     "status": "completed"
    },
    "tags": []
   },
   "outputs": [],
   "source": [
    "new_model = Model(layers[:-2])\n",
    "testing_plot = new_model(testing_data_x)"
   ]
  },
  {
   "cell_type": "code",
   "execution_count": 26,
   "id": "4c0a5485",
   "metadata": {
    "execution": {
     "iopub.execute_input": "2022-03-09T00:32:11.161270Z",
     "iopub.status.busy": "2022-03-09T00:32:11.159940Z",
     "iopub.status.idle": "2022-03-09T00:32:11.356054Z",
     "shell.execute_reply": "2022-03-09T00:32:11.356446Z"
    },
    "papermill": {
     "duration": 0.242388,
     "end_time": "2022-03-09T00:32:11.356597",
     "exception": false,
     "start_time": "2022-03-09T00:32:11.114209",
     "status": "completed"
    },
    "tags": []
   },
   "outputs": [
    {
     "data": {
      "text/plain": [
       "Text(0.5, 1.0, 'Outputs')"
      ]
     },
     "execution_count": 26,
     "metadata": {},
     "output_type": "execute_result"
    },
    {
     "data": {
      "image/png": "[encoded data removed]",
      "text/plain": [
       "<Figure size 576x504 with 1 Axes>"
      ]
     },
     "metadata": {
      "needs_background": "light"
     },
     "output_type": "display_data"
    }
   ],
   "source": [
    "# Plotting the scatter plot of points and color coding by class\n",
    "plt.figure(figsize=(8,7))\n",
    "plt.scatter(testing_plot[:,0], testing_plot[:,1], alpha = 0.1, c = y_test.ravel());\n",
    "plt.title('Outputs')"
   ]
  },
  {
   "cell_type": "markdown",
   "id": "a74fcf8f",
   "metadata": {
    "papermill": {
     "duration": 0.042997,
     "end_time": "2022-03-09T00:32:11.442901",
     "exception": false,
     "start_time": "2022-03-09T00:32:11.399904",
     "status": "completed"
    },
    "tags": []
   },
   "source": [
    "Probability contours"
   ]
  },
  {
   "cell_type": "code",
   "execution_count": 27,
   "id": "d0afc8e3",
   "metadata": {
    "execution": {
     "iopub.execute_input": "2022-03-09T00:32:11.542058Z",
     "iopub.status.busy": "2022-03-09T00:32:11.540567Z",
     "iopub.status.idle": "2022-03-09T00:32:11.548125Z",
     "shell.execute_reply": "2022-03-09T00:32:11.547682Z"
    },
    "papermill": {
     "duration": 0.06224,
     "end_time": "2022-03-09T00:32:11.548239",
     "exception": false,
     "start_time": "2022-03-09T00:32:11.485999",
     "status": "completed"
    },
    "tags": []
   },
   "outputs": [],
   "source": [
    "model_prob = Model(layers[-2:]) "
   ]
  },
  {
   "cell_type": "code",
   "execution_count": 28,
   "id": "9b96e238",
   "metadata": {
    "execution": {
     "iopub.execute_input": "2022-03-09T00:32:11.640039Z",
     "iopub.status.busy": "2022-03-09T00:32:11.639232Z",
     "iopub.status.idle": "2022-03-09T00:32:11.653305Z",
     "shell.execute_reply": "2022-03-09T00:32:11.652897Z"
    },
    "papermill": {
     "duration": 0.062005,
     "end_time": "2022-03-09T00:32:11.653446",
     "exception": false,
     "start_time": "2022-03-09T00:32:11.591441",
     "status": "completed"
    },
    "tags": []
   },
   "outputs": [],
   "source": [
    "#creating the x and y ranges according to the above generated plot.\n",
    "x_range = np.linspace(-4, 1, 100) \n",
    "y_range = np.linspace(-6, 6, 100) \n",
    "x_grid, y_grid = np.meshgrid(x_range, y_range) # x_grid and y_grig are of size 100 X 100\n",
    "\n",
    "# converting x_grid and y_grid to continuous arrays\n",
    "x_gridflat = np.ravel(x_grid)\n",
    "y_gridflat = np.ravel(y_grid)\n",
    "\n",
    "# The last layer of the current model takes two columns as input. Hence transpose of np.vstack() is required.\n",
    "X = np.vstack((x_gridflat, y_gridflat)).T\n",
    "\n",
    "prob_contour = model_prob(X).reshape(100,100) "
   ]
  },
  {
   "cell_type": "code",
   "execution_count": 29,
   "id": "da72499a",
   "metadata": {
    "execution": {
     "iopub.execute_input": "2022-03-09T00:32:11.774072Z",
     "iopub.status.busy": "2022-03-09T00:32:11.773551Z",
     "iopub.status.idle": "2022-03-09T00:32:12.019935Z",
     "shell.execute_reply": "2022-03-09T00:32:12.020345Z"
    },
    "papermill": {
     "duration": 0.323744,
     "end_time": "2022-03-09T00:32:12.020490",
     "exception": false,
     "start_time": "2022-03-09T00:32:11.696746",
     "status": "completed"
    },
    "tags": []
   },
   "outputs": [
    {
     "data": {
      "image/png": "[encoded data removed]",
      "text/plain": [
       "<Figure size 720x648 with 1 Axes>"
      ]
     },
     "metadata": {
      "needs_background": "light"
     },
     "output_type": "display_data"
    }
   ],
   "source": [
    "plt.figure(figsize=(10,9))\n",
    "plt.scatter(testing_plot[:,0], testing_plot[:,1], alpha = 0.1, c = y_test.ravel())\n",
    "contours = plt.contour(x_grid,y_grid,prob_contour)\n",
    "plt.title('Probability Contours')\n",
    "plt.clabel(contours, inline = True );"
   ]
  },
  {
   "cell_type": "code",
   "execution_count": null,
   "id": "e81b4ac7",
   "metadata": {
    "papermill": {
     "duration": 0.045416,
     "end_time": "2022-03-09T00:32:12.111925",
     "exception": false,
     "start_time": "2022-03-09T00:32:12.066509",
     "status": "completed"
    },
    "tags": []
   },
   "outputs": [],
   "source": []
  }
 ],
 "metadata": {
  "kernelspec": {
   "display_name": "Python 3",
   "language": "python",
   "name": "python3"
  },
  "language_info": {
   "codemirror_mode": {
    "name": "ipython",
    "version": 3
   },
   "file_extension": ".py",
   "mimetype": "text/x-python",
   "name": "python",
   "nbconvert_exporter": "python",
   "pygments_lexer": "ipython3",
   "version": "3.6.15"
  },
  "papermill": {
   "default_parameters": {},
   "duration": 98.569989,
   "end_time": "2022-03-09T00:32:12.575546",
   "environment_variables": {},
   "exception": null,
   "input_path": "2020-08-11-part2.ipynb",
   "output_path": "2020-08-11-part2.ipynb",
   "parameters": {},
   "start_time": "2022-03-09T00:30:34.005557",
   "version": "2.3.3"
  }
 },
 "nbformat": 4,
 "nbformat_minor": 5
}