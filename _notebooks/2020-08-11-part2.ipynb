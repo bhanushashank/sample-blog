{
 "cells": [
  {
   "cell_type": "markdown",
   "id": "98380cd3",
   "metadata": {
    "papermill": {
     "duration": 0.029134,
     "end_time": "2022-07-22T00:45:36.274156",
     "exception": false,
     "start_time": "2022-07-22T00:45:36.245022",
     "status": "completed"
    },
    "tags": []
   },
   "source": [
    "# Distinguish Your Own Digits (DYOD)"
   ]
  },
  {
   "cell_type": "markdown",
   "id": "ef31240d",
   "metadata": {
    "papermill": {
     "duration": 0.024259,
     "end_time": "2022-07-22T00:45:36.323182",
     "exception": false,
     "start_time": "2022-07-22T00:45:36.298923",
     "status": "completed"
    },
    "tags": []
   },
   "source": [
    "You are going to write a classifier that distinguishes between the number 3 and number 8."
   ]
  },
  {
   "cell_type": "code",
   "execution_count": 1,
   "id": "b15c8646",
   "metadata": {
    "execution": {
     "iopub.execute_input": "2022-07-22T00:45:36.381458Z",
     "iopub.status.busy": "2022-07-22T00:45:36.380870Z",
     "iopub.status.idle": "2022-07-22T00:45:36.392407Z",
     "shell.execute_reply": "2022-07-22T00:45:36.391833Z"
    },
    "papermill": {
     "duration": 0.04527,
     "end_time": "2022-07-22T00:45:36.392525",
     "exception": false,
     "start_time": "2022-07-22T00:45:36.347255",
     "status": "completed"
    },
    "tags": []
   },
   "outputs": [],
   "source": [
    "%load_ext autoreload\n",
    "%autoreload 2"
   ]
  },
  {
   "cell_type": "code",
   "execution_count": 2,
   "id": "22ef38dc",
   "metadata": {
    "execution": {
     "iopub.execute_input": "2022-07-22T00:45:36.444634Z",
     "iopub.status.busy": "2022-07-22T00:45:36.444052Z",
     "iopub.status.idle": "2022-07-22T00:45:36.963645Z",
     "shell.execute_reply": "2022-07-22T00:45:36.963098Z"
    },
    "papermill": {
     "duration": 0.546905,
     "end_time": "2022-07-22T00:45:36.963764",
     "exception": false,
     "start_time": "2022-07-22T00:45:36.416859",
     "status": "completed"
    },
    "tags": []
   },
   "outputs": [],
   "source": [
    "%matplotlib inline\n",
    "import numpy as np\n",
    "import matplotlib.pyplot as plt\n",
    "import pandas as pd"
   ]
  },
  {
   "cell_type": "markdown",
   "id": "ba036198",
   "metadata": {
    "papermill": {
     "duration": 0.02426,
     "end_time": "2022-07-22T00:45:37.012185",
     "exception": false,
     "start_time": "2022-07-22T00:45:36.987925",
     "status": "completed"
    },
    "tags": []
   },
   "source": [
    "From the command line run `pip install mnist`. This is a library that will help you bring down the mnist dataset. If you run this from a notebook, you need to put  `!pip install mnist` in a cell by itself."
   ]
  },
  {
   "cell_type": "code",
   "execution_count": 3,
   "id": "bb6ad8a1",
   "metadata": {
    "execution": {
     "iopub.execute_input": "2022-07-22T00:45:37.065090Z",
     "iopub.status.busy": "2022-07-22T00:45:37.064489Z",
     "iopub.status.idle": "2022-07-22T00:45:38.785893Z",
     "shell.execute_reply": "2022-07-22T00:45:38.786349Z"
    },
    "papermill": {
     "duration": 1.749883,
     "end_time": "2022-07-22T00:45:38.786490",
     "exception": false,
     "start_time": "2022-07-22T00:45:37.036607",
     "status": "completed"
    },
    "tags": []
   },
   "outputs": [
    {
     "name": "stdout",
     "output_type": "stream",
     "text": [
      "Collecting mnist\r\n"
     ]
    },
    {
     "name": "stdout",
     "output_type": "stream",
     "text": [
      "  Downloading mnist-0.2.2-py2.py3-none-any.whl (3.5 kB)\r\n",
      "Requirement already satisfied: numpy in /opt/hostedtoolcache/Python/3.6.15/x64/lib/python3.6/site-packages (from mnist) (1.19.5)\r\n"
     ]
    },
    {
     "name": "stdout",
     "output_type": "stream",
     "text": [
      "Installing collected packages: mnist\r\n"
     ]
    },
    {
     "name": "stdout",
     "output_type": "stream",
     "text": [
      "Successfully installed mnist-0.2.2\r\n"
     ]
    }
   ],
   "source": [
    "!pip install mnist"
   ]
  },
  {
   "cell_type": "markdown",
   "id": "69df9c9a",
   "metadata": {
    "papermill": {
     "duration": 0.02592,
     "end_time": "2022-07-22T00:45:38.837949",
     "exception": false,
     "start_time": "2022-07-22T00:45:38.812029",
     "status": "completed"
    },
    "tags": []
   },
   "source": [
    "## Preparing the Data"
   ]
  },
  {
   "cell_type": "code",
   "execution_count": 4,
   "id": "7f69d806",
   "metadata": {
    "execution": {
     "iopub.execute_input": "2022-07-22T00:45:38.892036Z",
     "iopub.status.busy": "2022-07-22T00:45:38.891456Z",
     "iopub.status.idle": "2022-07-22T00:45:38.906970Z",
     "shell.execute_reply": "2022-07-22T00:45:38.906486Z"
    },
    "papermill": {
     "duration": 0.044089,
     "end_time": "2022-07-22T00:45:38.907076",
     "exception": false,
     "start_time": "2022-07-22T00:45:38.862987",
     "status": "completed"
    },
    "tags": []
   },
   "outputs": [],
   "source": [
    "import mnist"
   ]
  },
  {
   "cell_type": "code",
   "execution_count": 5,
   "id": "a411e44f",
   "metadata": {
    "execution": {
     "iopub.execute_input": "2022-07-22T00:45:38.960485Z",
     "iopub.status.busy": "2022-07-22T00:45:38.959909Z",
     "iopub.status.idle": "2022-07-22T00:45:39.676033Z",
     "shell.execute_reply": "2022-07-22T00:45:39.676510Z"
    },
    "papermill": {
     "duration": 0.744459,
     "end_time": "2022-07-22T00:45:39.676643",
     "exception": false,
     "start_time": "2022-07-22T00:45:38.932184",
     "status": "completed"
    },
    "tags": []
   },
   "outputs": [],
   "source": [
    "train_images = mnist.train_images()\n",
    "train_labels = mnist.train_labels()"
   ]
  },
  {
   "cell_type": "code",
   "execution_count": 6,
   "id": "dceab3a5",
   "metadata": {
    "execution": {
     "iopub.execute_input": "2022-07-22T00:45:39.731955Z",
     "iopub.status.busy": "2022-07-22T00:45:39.731379Z",
     "iopub.status.idle": "2022-07-22T00:45:39.747064Z",
     "shell.execute_reply": "2022-07-22T00:45:39.746579Z"
    },
    "papermill": {
     "duration": 0.045187,
     "end_time": "2022-07-22T00:45:39.747171",
     "exception": false,
     "start_time": "2022-07-22T00:45:39.701984",
     "status": "completed"
    },
    "tags": []
   },
   "outputs": [
    {
     "data": {
      "text/plain": [
       "((60000, 28, 28), (60000,))"
      ]
     },
     "execution_count": 6,
     "metadata": {},
     "output_type": "execute_result"
    }
   ],
   "source": [
    "train_images.shape, train_labels.shape"
   ]
  },
  {
   "cell_type": "code",
   "execution_count": 7,
   "id": "f50dc2bb",
   "metadata": {
    "execution": {
     "iopub.execute_input": "2022-07-22T00:45:39.801235Z",
     "iopub.status.busy": "2022-07-22T00:45:39.800680Z",
     "iopub.status.idle": "2022-07-22T00:45:40.050830Z",
     "shell.execute_reply": "2022-07-22T00:45:40.050289Z"
    },
    "papermill": {
     "duration": 0.278344,
     "end_time": "2022-07-22T00:45:40.050947",
     "exception": false,
     "start_time": "2022-07-22T00:45:39.772603",
     "status": "completed"
    },
    "tags": []
   },
   "outputs": [],
   "source": [
    "test_images = mnist.test_images()\n",
    "test_labels = mnist.test_labels()"
   ]
  },
  {
   "cell_type": "code",
   "execution_count": 8,
   "id": "fc38cf1b",
   "metadata": {
    "execution": {
     "iopub.execute_input": "2022-07-22T00:45:40.107646Z",
     "iopub.status.busy": "2022-07-22T00:45:40.106940Z",
     "iopub.status.idle": "2022-07-22T00:45:40.121825Z",
     "shell.execute_reply": "2022-07-22T00:45:40.122781Z"
    },
    "papermill": {
     "duration": 0.046184,
     "end_time": "2022-07-22T00:45:40.122909",
     "exception": false,
     "start_time": "2022-07-22T00:45:40.076725",
     "status": "completed"
    },
    "tags": []
   },
   "outputs": [
    {
     "data": {
      "text/plain": [
       "((10000, 28, 28), (10000,))"
      ]
     },
     "execution_count": 8,
     "metadata": {},
     "output_type": "execute_result"
    }
   ],
   "source": [
    "test_images.shape, test_labels.shape"
   ]
  },
  {
   "cell_type": "code",
   "execution_count": 9,
   "id": "f9ed8fe0",
   "metadata": {
    "execution": {
     "iopub.execute_input": "2022-07-22T00:45:40.177488Z",
     "iopub.status.busy": "2022-07-22T00:45:40.176931Z",
     "iopub.status.idle": "2022-07-22T00:45:40.311900Z",
     "shell.execute_reply": "2022-07-22T00:45:40.312442Z"
    },
    "papermill": {
     "duration": 0.164122,
     "end_time": "2022-07-22T00:45:40.312567",
     "exception": false,
     "start_time": "2022-07-22T00:45:40.148445",
     "status": "completed"
    },
    "tags": []
   },
   "outputs": [
    {
     "name": "stdout",
     "output_type": "stream",
     "text": [
      "2\n"
     ]
    },
    {
     "data": {
      "text/plain": [
       "<matplotlib.image.AxesImage at 0x7fec4118da20>"
      ]
     },
     "execution_count": 9,
     "metadata": {},
     "output_type": "execute_result"
    },
    {
     "data": {
      "image/png": "[encoded data removed]",
      "text/plain": [
       "<Figure size 432x288 with 1 Axes>"
      ]
     },
     "metadata": {
      "needs_background": "light"
     },
     "output_type": "display_data"
    }
   ],
   "source": [
    "image_index = 7776 # You may select anything up to 60,000\n",
    "print(train_labels[image_index]) \n",
    "plt.imshow(train_images[image_index], cmap='Greys')"
   ]
  },
  {
   "cell_type": "markdown",
   "id": "a8d2388d",
   "metadata": {
    "papermill": {
     "duration": 0.027247,
     "end_time": "2022-07-22T00:45:40.366723",
     "exception": false,
     "start_time": "2022-07-22T00:45:40.339476",
     "status": "completed"
    },
    "tags": []
   },
   "source": [
    "## Filter data to get 3 and 8 out"
   ]
  },
  {
   "cell_type": "code",
   "execution_count": 10,
   "id": "776f7fc7",
   "metadata": {
    "execution": {
     "iopub.execute_input": "2022-07-22T00:45:40.424517Z",
     "iopub.status.busy": "2022-07-22T00:45:40.423944Z",
     "iopub.status.idle": "2022-07-22T00:45:40.446223Z",
     "shell.execute_reply": "2022-07-22T00:45:40.446649Z"
    },
    "papermill": {
     "duration": 0.052977,
     "end_time": "2022-07-22T00:45:40.446805",
     "exception": false,
     "start_time": "2022-07-22T00:45:40.393828",
     "status": "completed"
    },
    "tags": []
   },
   "outputs": [],
   "source": [
    "train_filter = np.where((train_labels == 3 ) | (train_labels == 8))\n",
    "test_filter = np.where((test_labels == 3) | (test_labels == 8))\n",
    "X_train, y_train = train_images[train_filter], train_labels[train_filter]\n",
    "X_test, y_test = test_images[test_filter], test_labels[test_filter]"
   ]
  },
  {
   "cell_type": "markdown",
   "id": "948f0b7e",
   "metadata": {
    "papermill": {
     "duration": 0.026756,
     "end_time": "2022-07-22T00:45:40.500402",
     "exception": false,
     "start_time": "2022-07-22T00:45:40.473646",
     "status": "completed"
    },
    "tags": []
   },
   "source": [
    "We normalize the pizel values in the 0 to 1 range"
   ]
  },
  {
   "cell_type": "code",
   "execution_count": 11,
   "id": "ee4c2166",
   "metadata": {
    "execution": {
     "iopub.execute_input": "2022-07-22T00:45:40.570596Z",
     "iopub.status.busy": "2022-07-22T00:45:40.560700Z",
     "iopub.status.idle": "2022-07-22T00:45:40.638349Z",
     "shell.execute_reply": "2022-07-22T00:45:40.638841Z"
    },
    "papermill": {
     "duration": 0.108099,
     "end_time": "2022-07-22T00:45:40.638988",
     "exception": false,
     "start_time": "2022-07-22T00:45:40.530889",
     "status": "completed"
    },
    "tags": []
   },
   "outputs": [],
   "source": [
    "X_train = X_train/255.\n",
    "X_test = X_test/255."
   ]
  },
  {
   "cell_type": "markdown",
   "id": "ddcf4fab",
   "metadata": {
    "papermill": {
     "duration": 0.026986,
     "end_time": "2022-07-22T00:45:40.693000",
     "exception": false,
     "start_time": "2022-07-22T00:45:40.666014",
     "status": "completed"
    },
    "tags": []
   },
   "source": [
    "And setup the labels as 1 (when the digit is 3) and 0 (when the digit is 8)"
   ]
  },
  {
   "cell_type": "code",
   "execution_count": 12,
   "id": "7dc908f2",
   "metadata": {
    "execution": {
     "iopub.execute_input": "2022-07-22T00:45:40.750674Z",
     "iopub.status.busy": "2022-07-22T00:45:40.750103Z",
     "iopub.status.idle": "2022-07-22T00:45:40.763026Z",
     "shell.execute_reply": "2022-07-22T00:45:40.762544Z"
    },
    "papermill": {
     "duration": 0.043204,
     "end_time": "2022-07-22T00:45:40.763130",
     "exception": false,
     "start_time": "2022-07-22T00:45:40.719926",
     "status": "completed"
    },
    "tags": []
   },
   "outputs": [],
   "source": [
    "y_train = 1*(y_train==3)\n",
    "y_test = 1*(y_test==3)"
   ]
  },
  {
   "cell_type": "code",
   "execution_count": 13,
   "id": "01e4e969",
   "metadata": {
    "execution": {
     "iopub.execute_input": "2022-07-22T00:45:40.820142Z",
     "iopub.status.busy": "2022-07-22T00:45:40.819568Z",
     "iopub.status.idle": "2022-07-22T00:45:40.833340Z",
     "shell.execute_reply": "2022-07-22T00:45:40.833879Z"
    },
    "papermill": {
     "duration": 0.044057,
     "end_time": "2022-07-22T00:45:40.833995",
     "exception": false,
     "start_time": "2022-07-22T00:45:40.789938",
     "status": "completed"
    },
    "tags": []
   },
   "outputs": [
    {
     "data": {
      "text/plain": [
       "((11982, 28, 28), (1984, 28, 28))"
      ]
     },
     "execution_count": 13,
     "metadata": {},
     "output_type": "execute_result"
    }
   ],
   "source": [
    "X_train.shape, X_test.shape"
   ]
  },
  {
   "cell_type": "markdown",
   "id": "5ccf3f85",
   "metadata": {
    "papermill": {
     "duration": 0.026862,
     "end_time": "2022-07-22T00:45:40.887771",
     "exception": false,
     "start_time": "2022-07-22T00:45:40.860909",
     "status": "completed"
    },
    "tags": []
   },
   "source": [
    "We reshape the data to flatten the image pixels into a set of features or co-variates:"
   ]
  },
  {
   "cell_type": "code",
   "execution_count": 14,
   "id": "5286a4a3",
   "metadata": {
    "execution": {
     "iopub.execute_input": "2022-07-22T00:45:40.949120Z",
     "iopub.status.busy": "2022-07-22T00:45:40.948546Z",
     "iopub.status.idle": "2022-07-22T00:45:40.962506Z",
     "shell.execute_reply": "2022-07-22T00:45:40.962987Z"
    },
    "papermill": {
     "duration": 0.044111,
     "end_time": "2022-07-22T00:45:40.963102",
     "exception": false,
     "start_time": "2022-07-22T00:45:40.918991",
     "status": "completed"
    },
    "tags": []
   },
   "outputs": [
    {
     "data": {
      "text/plain": [
       "((11982, 784), (1984, 784))"
      ]
     },
     "execution_count": 14,
     "metadata": {},
     "output_type": "execute_result"
    }
   ],
   "source": [
    "X_train = X_train.reshape(X_train.shape[0], -1)\n",
    "X_test = X_test.reshape(X_test.shape[0], -1)\n",
    "X_train.shape, X_test.shape"
   ]
  },
  {
   "cell_type": "code",
   "execution_count": 15,
   "id": "73c5f88a",
   "metadata": {
    "execution": {
     "iopub.execute_input": "2022-07-22T00:45:41.021034Z",
     "iopub.status.busy": "2022-07-22T00:45:41.020450Z",
     "iopub.status.idle": "2022-07-22T00:45:41.040974Z",
     "shell.execute_reply": "2022-07-22T00:45:41.040512Z"
    },
    "papermill": {
     "duration": 0.050906,
     "end_time": "2022-07-22T00:45:41.041071",
     "exception": false,
     "start_time": "2022-07-22T00:45:40.990165",
     "status": "completed"
    },
    "tags": []
   },
   "outputs": [],
   "source": [
    "#Impoting functions from 'Kudzu'\n",
    "from kudzu.model import Model\n",
    "from kudzu.train import Learner\n",
    "from kudzu.optim import GD\n",
    "from kudzu.data import Data, Sampler,Dataloader\n",
    "\n",
    "from kudzu.callbacks import AccCallback\n",
    "from kudzu.callbacks import ClfCallback\n",
    "\n",
    "from kudzu.loss import MSE\n",
    "\n",
    "from kudzu.layer import Sigmoid,Relu\n",
    "from kudzu.layer import Affine"
   ]
  },
  {
   "cell_type": "markdown",
   "id": "bc01172a",
   "metadata": {
    "papermill": {
     "duration": 0.027096,
     "end_time": "2022-07-22T00:45:41.095334",
     "exception": false,
     "start_time": "2022-07-22T00:45:41.068238",
     "status": "completed"
    },
    "tags": []
   },
   "source": [
    "### Let us create a `Config` class, to store important parameters. \n",
    "This class essentially plays the role of a dictionary."
   ]
  },
  {
   "cell_type": "code",
   "execution_count": 16,
   "id": "978281aa",
   "metadata": {
    "execution": {
     "iopub.execute_input": "2022-07-22T00:45:41.154806Z",
     "iopub.status.busy": "2022-07-22T00:45:41.154210Z",
     "iopub.status.idle": "2022-07-22T00:45:41.166729Z",
     "shell.execute_reply": "2022-07-22T00:45:41.167153Z"
    },
    "papermill": {
     "duration": 0.042939,
     "end_time": "2022-07-22T00:45:41.167269",
     "exception": false,
     "start_time": "2022-07-22T00:45:41.124330",
     "status": "completed"
    },
    "tags": []
   },
   "outputs": [],
   "source": [
    "class Config:\n",
    "    pass\n",
    "config = Config()\n",
    "config.lr = 0.001\n",
    "config.num_epochs = 250\n",
    "config.bs = 50"
   ]
  },
  {
   "cell_type": "markdown",
   "id": "1385fa59",
   "metadata": {
    "papermill": {
     "duration": 0.027211,
     "end_time": "2022-07-22T00:45:41.222034",
     "exception": false,
     "start_time": "2022-07-22T00:45:41.194823",
     "status": "completed"
    },
    "tags": []
   },
   "source": [
    "### Running Models with the Training data\n",
    "Details about the network layers:\n",
    "- A first affine layer has 784 inputs and does 100 affine transforms. These are followed by a Relu\n",
    "- A second affine layer has 100 inputs from the 100 activations of the past layer, and does 100 affine transforms. These are followed by a Relu\n",
    "- A third affine layer has 100 activations and does 2 affine transformations to create an embedding for visualization. There is no non-linearity here.\n",
    "- A final \"logistic regression\" which has an affine transform from 2 inputs to 1 output, which is squeezed through a sigmoid.\n"
   ]
  },
  {
   "cell_type": "code",
   "execution_count": 17,
   "id": "2b9c66db",
   "metadata": {
    "execution": {
     "iopub.execute_input": "2022-07-22T00:45:41.280340Z",
     "iopub.status.busy": "2022-07-22T00:45:41.279777Z",
     "iopub.status.idle": "2022-07-22T00:45:41.292869Z",
     "shell.execute_reply": "2022-07-22T00:45:41.292419Z"
    },
    "papermill": {
     "duration": 0.043562,
     "end_time": "2022-07-22T00:45:41.292967",
     "exception": false,
     "start_time": "2022-07-22T00:45:41.249405",
     "status": "completed"
    },
    "tags": []
   },
   "outputs": [],
   "source": [
    "data = Data(X_train, y_train.reshape(-1,1))\n",
    "sampler = Sampler(data, config.bs, shuffle=True)\n",
    "\n",
    "dl = Dataloader(data, sampler)\n",
    "\n",
    "opt = GD(config.lr)\n",
    "loss = MSE()"
   ]
  },
  {
   "cell_type": "code",
   "execution_count": 18,
   "id": "b275e4c2",
   "metadata": {
    "execution": {
     "iopub.execute_input": "2022-07-22T00:45:41.351043Z",
     "iopub.status.busy": "2022-07-22T00:45:41.350447Z",
     "iopub.status.idle": "2022-07-22T00:45:41.362856Z",
     "shell.execute_reply": "2022-07-22T00:45:41.363338Z"
    },
    "papermill": {
     "duration": 0.043179,
     "end_time": "2022-07-22T00:45:41.363452",
     "exception": false,
     "start_time": "2022-07-22T00:45:41.320273",
     "status": "completed"
    },
    "tags": []
   },
   "outputs": [],
   "source": [
    "training_data_x = X_train\n",
    "testing_data_x = X_test\n",
    "training_data_y = y_train.reshape(-1,1)\n",
    "testing_data_y = y_test.reshape(-1,1)"
   ]
  },
  {
   "cell_type": "code",
   "execution_count": 19,
   "id": "76951160",
   "metadata": {
    "execution": {
     "iopub.execute_input": "2022-07-22T00:45:41.420463Z",
     "iopub.status.busy": "2022-07-22T00:45:41.419889Z",
     "iopub.status.idle": "2022-07-22T00:45:41.438140Z",
     "shell.execute_reply": "2022-07-22T00:45:41.438559Z"
    },
    "papermill": {
     "duration": 0.048169,
     "end_time": "2022-07-22T00:45:41.438675",
     "exception": false,
     "start_time": "2022-07-22T00:45:41.390506",
     "status": "completed"
    },
    "tags": []
   },
   "outputs": [
    {
     "name": "stdout",
     "output_type": "stream",
     "text": [
      "xavier\n",
      "xavier\n",
      "xavier\n",
      "xavier\n",
      "xavier\n"
     ]
    }
   ],
   "source": [
    "layers = [Affine(\"first\", 784, 100), Relu(\"first\"), Affine(\"second\", 100, 100), Relu(\"second\"), Affine(\"third\", 100, 2), Affine(\"last\", 2, 1), Sigmoid(\"last\")]\n",
    "model_nn = Model(layers)\n",
    "model_lr = Model([Affine(\"logits\", 784, 1), Sigmoid(\"sigmoid\")])"
   ]
  },
  {
   "cell_type": "code",
   "execution_count": 20,
   "id": "6eede77a",
   "metadata": {
    "execution": {
     "iopub.execute_input": "2022-07-22T00:45:41.497693Z",
     "iopub.status.busy": "2022-07-22T00:45:41.497125Z",
     "iopub.status.idle": "2022-07-22T00:45:41.509571Z",
     "shell.execute_reply": "2022-07-22T00:45:41.510128Z"
    },
    "papermill": {
     "duration": 0.043881,
     "end_time": "2022-07-22T00:45:41.510243",
     "exception": false,
     "start_time": "2022-07-22T00:45:41.466362",
     "status": "completed"
    },
    "tags": []
   },
   "outputs": [],
   "source": [
    "nn_learner = Learner(loss, model_nn, opt, config.num_epochs)\n",
    "acc_nn = ClfCallback(nn_learner, config.bs, training_data_x , testing_data_x, training_data_y, testing_data_y)\n",
    "nn_learner.set_callbacks([acc_nn])"
   ]
  },
  {
   "cell_type": "code",
   "execution_count": 21,
   "id": "877b6cc7",
   "metadata": {
    "execution": {
     "iopub.execute_input": "2022-07-22T00:45:41.568915Z",
     "iopub.status.busy": "2022-07-22T00:45:41.568346Z",
     "iopub.status.idle": "2022-07-22T00:45:41.581301Z",
     "shell.execute_reply": "2022-07-22T00:45:41.580745Z"
    },
    "papermill": {
     "duration": 0.043564,
     "end_time": "2022-07-22T00:45:41.581402",
     "exception": false,
     "start_time": "2022-07-22T00:45:41.537838",
     "status": "completed"
    },
    "tags": []
   },
   "outputs": [],
   "source": [
    "lr_learner = Learner(loss, model_lr, opt, config.num_epochs)\n",
    "acc_lr = ClfCallback(lr_learner, config.bs, training_data_x , testing_data_x, training_data_y, testing_data_y)\n",
    "lr_learner.set_callbacks([acc_lr])"
   ]
  },
  {
   "cell_type": "code",
   "execution_count": 22,
   "id": "d9b133c3",
   "metadata": {
    "execution": {
     "iopub.execute_input": "2022-07-22T00:45:41.639538Z",
     "iopub.status.busy": "2022-07-22T00:45:41.638953Z",
     "iopub.status.idle": "2022-07-22T00:48:41.495565Z",
     "shell.execute_reply": "2022-07-22T00:48:41.496027Z"
    },
    "papermill": {
     "duration": 179.887214,
     "end_time": "2022-07-22T00:48:41.496161",
     "exception": false,
     "start_time": "2022-07-22T00:45:41.608947",
     "status": "completed"
    },
    "tags": []
   },
   "outputs": [
    {
     "name": "stdout",
     "output_type": "stream",
     "text": [
      "Epoch 0, Loss 0.221\n",
      "Training Accuracy: 0.7979, Testing Accuracy: 0.8034\n",
      "\n"
     ]
    },
    {
     "name": "stdout",
     "output_type": "stream",
     "text": [
      "Epoch 10, Loss 0.0672\n",
      "Training Accuracy: 0.9371, Testing Accuracy: 0.9541\n",
      "\n"
     ]
    },
    {
     "name": "stdout",
     "output_type": "stream",
     "text": [
      "Epoch 20, Loss 0.0467\n",
      "Training Accuracy: 0.9498, Testing Accuracy: 0.9637\n",
      "\n"
     ]
    },
    {
     "name": "stdout",
     "output_type": "stream",
     "text": [
      "Epoch 30, Loss 0.0388\n",
      "Training Accuracy: 0.9574, Testing Accuracy: 0.9667\n",
      "\n"
     ]
    },
    {
     "name": "stdout",
     "output_type": "stream",
     "text": [
      "Epoch 40, Loss 0.0345\n",
      "Training Accuracy: 0.9615, Testing Accuracy: 0.9688\n",
      "\n"
     ]
    },
    {
     "name": "stdout",
     "output_type": "stream",
     "text": [
      "Epoch 50, Loss 0.0316\n",
      "Training Accuracy: 0.9639, Testing Accuracy: 0.9688\n",
      "\n"
     ]
    },
    {
     "name": "stdout",
     "output_type": "stream",
     "text": [
      "Epoch 60, Loss 0.0296\n",
      "Training Accuracy: 0.9657, Testing Accuracy: 0.9718\n",
      "\n"
     ]
    },
    {
     "name": "stdout",
     "output_type": "stream",
     "text": [
      "Epoch 70, Loss 0.028\n",
      "Training Accuracy: 0.9676, Testing Accuracy: 0.9733\n",
      "\n"
     ]
    },
    {
     "name": "stdout",
     "output_type": "stream",
     "text": [
      "Epoch 80, Loss 0.0267\n",
      "Training Accuracy: 0.9693, Testing Accuracy: 0.9748\n",
      "\n"
     ]
    },
    {
     "name": "stdout",
     "output_type": "stream",
     "text": [
      "Epoch 90, Loss 0.0256\n",
      "Training Accuracy: 0.9707, Testing Accuracy: 0.9743\n",
      "\n"
     ]
    },
    {
     "name": "stdout",
     "output_type": "stream",
     "text": [
      "Epoch 100, Loss 0.0247\n",
      "Training Accuracy: 0.9717, Testing Accuracy: 0.9748\n",
      "\n"
     ]
    },
    {
     "name": "stdout",
     "output_type": "stream",
     "text": [
      "Epoch 110, Loss 0.0239\n",
      "Training Accuracy: 0.9729, Testing Accuracy: 0.9753\n",
      "\n"
     ]
    },
    {
     "name": "stdout",
     "output_type": "stream",
     "text": [
      "Epoch 120, Loss 0.0231\n",
      "Training Accuracy: 0.9738, Testing Accuracy: 0.9753\n",
      "\n"
     ]
    },
    {
     "name": "stdout",
     "output_type": "stream",
     "text": [
      "Epoch 130, Loss 0.0224\n",
      "Training Accuracy: 0.9746, Testing Accuracy: 0.9758\n",
      "\n"
     ]
    },
    {
     "name": "stdout",
     "output_type": "stream",
     "text": [
      "Epoch 140, Loss 0.0218\n",
      "Training Accuracy: 0.9758, Testing Accuracy: 0.9763\n",
      "\n"
     ]
    },
    {
     "name": "stdout",
     "output_type": "stream",
     "text": [
      "Epoch 150, Loss 0.0212\n",
      "Training Accuracy: 0.9762, Testing Accuracy: 0.9763\n",
      "\n"
     ]
    },
    {
     "name": "stdout",
     "output_type": "stream",
     "text": [
      "Epoch 160, Loss 0.0206\n",
      "Training Accuracy: 0.9772, Testing Accuracy: 0.9768\n",
      "\n"
     ]
    },
    {
     "name": "stdout",
     "output_type": "stream",
     "text": [
      "Epoch 170, Loss 0.0201\n",
      "Training Accuracy: 0.9777, Testing Accuracy: 0.9768\n",
      "\n"
     ]
    },
    {
     "name": "stdout",
     "output_type": "stream",
     "text": [
      "Epoch 180, Loss 0.0196\n",
      "Training Accuracy: 0.9782, Testing Accuracy: 0.9773\n",
      "\n"
     ]
    },
    {
     "name": "stdout",
     "output_type": "stream",
     "text": [
      "Epoch 190, Loss 0.0191\n",
      "Training Accuracy: 0.9792, Testing Accuracy: 0.9778\n",
      "\n"
     ]
    },
    {
     "name": "stdout",
     "output_type": "stream",
     "text": [
      "Epoch 200, Loss 0.0187\n",
      "Training Accuracy: 0.9798, Testing Accuracy: 0.9783\n",
      "\n"
     ]
    },
    {
     "name": "stdout",
     "output_type": "stream",
     "text": [
      "Epoch 210, Loss 0.0182\n",
      "Training Accuracy: 0.9801, Testing Accuracy: 0.9783\n",
      "\n"
     ]
    },
    {
     "name": "stdout",
     "output_type": "stream",
     "text": [
      "Epoch 220, Loss 0.0178\n",
      "Training Accuracy: 0.9806, Testing Accuracy: 0.9788\n",
      "\n"
     ]
    },
    {
     "name": "stdout",
     "output_type": "stream",
     "text": [
      "Epoch 230, Loss 0.0174\n",
      "Training Accuracy: 0.9811, Testing Accuracy: 0.9798\n",
      "\n"
     ]
    },
    {
     "name": "stdout",
     "output_type": "stream",
     "text": [
      "Epoch 240, Loss 0.017\n",
      "Training Accuracy: 0.9817, Testing Accuracy: 0.9798\n",
      "\n"
     ]
    },
    {
     "data": {
      "text/plain": [
       "0.009262116920378682"
      ]
     },
     "execution_count": 22,
     "metadata": {},
     "output_type": "execute_result"
    }
   ],
   "source": [
    "nn_learner.train_loop(dl)"
   ]
  },
  {
   "cell_type": "code",
   "execution_count": 23,
   "id": "e0163366",
   "metadata": {
    "execution": {
     "iopub.execute_input": "2022-07-22T00:48:41.569081Z",
     "iopub.status.busy": "2022-07-22T00:48:41.568503Z",
     "iopub.status.idle": "2022-07-22T00:48:54.111534Z",
     "shell.execute_reply": "2022-07-22T00:48:54.112372Z"
    },
    "papermill": {
     "duration": 12.582041,
     "end_time": "2022-07-22T00:48:54.112512",
     "exception": false,
     "start_time": "2022-07-22T00:48:41.530471",
     "status": "completed"
    },
    "tags": []
   },
   "outputs": [
    {
     "name": "stdout",
     "output_type": "stream",
     "text": [
      "Epoch 0, Loss 0.2352\n",
      "Training Accuracy: 0.7188, Testing Accuracy: 0.6951\n",
      "\n"
     ]
    },
    {
     "name": "stdout",
     "output_type": "stream",
     "text": [
      "Epoch 10, Loss 0.0994\n",
      "Training Accuracy: 0.9184, Testing Accuracy: 0.9269\n",
      "\n"
     ]
    },
    {
     "name": "stdout",
     "output_type": "stream",
     "text": [
      "Epoch 20, Loss 0.0769\n",
      "Training Accuracy: 0.9322, Testing Accuracy: 0.9385\n",
      "\n"
     ]
    },
    {
     "name": "stdout",
     "output_type": "stream",
     "text": [
      "Epoch 30, Loss 0.0665\n",
      "Training Accuracy: 0.9397, Testing Accuracy: 0.9461\n",
      "\n"
     ]
    },
    {
     "name": "stdout",
     "output_type": "stream",
     "text": [
      "Epoch 40, Loss 0.0602\n",
      "Training Accuracy: 0.9450, Testing Accuracy: 0.9506\n",
      "\n"
     ]
    },
    {
     "name": "stdout",
     "output_type": "stream",
     "text": [
      "Epoch 50, Loss 0.0559\n",
      "Training Accuracy: 0.9482, Testing Accuracy: 0.9511\n",
      "\n"
     ]
    },
    {
     "name": "stdout",
     "output_type": "stream",
     "text": [
      "Epoch 60, Loss 0.0527\n",
      "Training Accuracy: 0.9493, Testing Accuracy: 0.9546\n",
      "\n"
     ]
    },
    {
     "name": "stdout",
     "output_type": "stream",
     "text": [
      "Epoch 70, Loss 0.0503\n",
      "Training Accuracy: 0.9505, Testing Accuracy: 0.9567\n",
      "\n"
     ]
    },
    {
     "name": "stdout",
     "output_type": "stream",
     "text": [
      "Epoch 80, Loss 0.0483\n",
      "Training Accuracy: 0.9515, Testing Accuracy: 0.9592\n",
      "\n"
     ]
    },
    {
     "name": "stdout",
     "output_type": "stream",
     "text": [
      "Epoch 90, Loss 0.0467\n",
      "Training Accuracy: 0.9523, Testing Accuracy: 0.9597\n",
      "\n"
     ]
    },
    {
     "name": "stdout",
     "output_type": "stream",
     "text": [
      "Epoch 100, Loss 0.0454\n",
      "Training Accuracy: 0.9536, Testing Accuracy: 0.9607\n",
      "\n"
     ]
    },
    {
     "name": "stdout",
     "output_type": "stream",
     "text": [
      "Epoch 110, Loss 0.0442\n",
      "Training Accuracy: 0.9548, Testing Accuracy: 0.9612\n",
      "\n"
     ]
    },
    {
     "name": "stdout",
     "output_type": "stream",
     "text": [
      "Epoch 120, Loss 0.0432\n",
      "Training Accuracy: 0.9554, Testing Accuracy: 0.9622\n",
      "\n"
     ]
    },
    {
     "name": "stdout",
     "output_type": "stream",
     "text": [
      "Epoch 130, Loss 0.0423\n",
      "Training Accuracy: 0.9564, Testing Accuracy: 0.9627\n",
      "\n"
     ]
    },
    {
     "name": "stdout",
     "output_type": "stream",
     "text": [
      "Epoch 140, Loss 0.0415\n",
      "Training Accuracy: 0.9570, Testing Accuracy: 0.9642\n",
      "\n"
     ]
    },
    {
     "name": "stdout",
     "output_type": "stream",
     "text": [
      "Epoch 150, Loss 0.0408\n",
      "Training Accuracy: 0.9574, Testing Accuracy: 0.9647\n",
      "\n"
     ]
    },
    {
     "name": "stdout",
     "output_type": "stream",
     "text": [
      "Epoch 160, Loss 0.0402\n",
      "Training Accuracy: 0.9580, Testing Accuracy: 0.9647\n",
      "\n"
     ]
    },
    {
     "name": "stdout",
     "output_type": "stream",
     "text": [
      "Epoch 170, Loss 0.0396\n",
      "Training Accuracy: 0.9590, Testing Accuracy: 0.9652\n",
      "\n"
     ]
    },
    {
     "name": "stdout",
     "output_type": "stream",
     "text": [
      "Epoch 180, Loss 0.0391\n",
      "Training Accuracy: 0.9593, Testing Accuracy: 0.9652\n",
      "\n"
     ]
    },
    {
     "name": "stdout",
     "output_type": "stream",
     "text": [
      "Epoch 190, Loss 0.0386\n",
      "Training Accuracy: 0.9595, Testing Accuracy: 0.9662\n",
      "\n"
     ]
    },
    {
     "name": "stdout",
     "output_type": "stream",
     "text": [
      "Epoch 200, Loss 0.0381\n",
      "Training Accuracy: 0.9599, Testing Accuracy: 0.9667\n",
      "\n"
     ]
    },
    {
     "name": "stdout",
     "output_type": "stream",
     "text": [
      "Epoch 210, Loss 0.0377\n",
      "Training Accuracy: 0.9599, Testing Accuracy: 0.9667\n",
      "\n"
     ]
    },
    {
     "name": "stdout",
     "output_type": "stream",
     "text": [
      "Epoch 220, Loss 0.0373\n",
      "Training Accuracy: 0.9602, Testing Accuracy: 0.9667\n",
      "\n"
     ]
    },
    {
     "name": "stdout",
     "output_type": "stream",
     "text": [
      "Epoch 230, Loss 0.0369\n",
      "Training Accuracy: 0.9605, Testing Accuracy: 0.9667\n",
      "\n"
     ]
    },
    {
     "name": "stdout",
     "output_type": "stream",
     "text": [
      "Epoch 240, Loss 0.0366\n",
      "Training Accuracy: 0.9609, Testing Accuracy: 0.9667\n",
      "\n"
     ]
    },
    {
     "data": {
      "text/plain": [
       "0.03368046410188111"
      ]
     },
     "execution_count": 23,
     "metadata": {},
     "output_type": "execute_result"
    }
   ],
   "source": [
    "lr_learner.train_loop(dl)"
   ]
  },
  {
   "cell_type": "code",
   "execution_count": 24,
   "id": "ca410940",
   "metadata": {
    "execution": {
     "iopub.execute_input": "2022-07-22T00:48:54.216218Z",
     "iopub.status.busy": "2022-07-22T00:48:54.215652Z",
     "iopub.status.idle": "2022-07-22T00:48:54.444395Z",
     "shell.execute_reply": "2022-07-22T00:48:54.443934Z"
    },
    "papermill": {
     "duration": 0.286332,
     "end_time": "2022-07-22T00:48:54.444511",
     "exception": false,
     "start_time": "2022-07-22T00:48:54.158179",
     "status": "completed"
    },
    "tags": []
   },
   "outputs": [
    {
     "data": {
      "text/plain": [
       "<matplotlib.legend.Legend at 0x7fec40cf8b38>"
      ]
     },
     "execution_count": 24,
     "metadata": {},
     "output_type": "execute_result"
    },
    {
     "data": {
      "image/png": "[encoded data removed]",
      "text/plain": [
       "<Figure size 1080x720 with 1 Axes>"
      ]
     },
     "metadata": {
      "needs_background": "light"
     },
     "output_type": "display_data"
    }
   ],
   "source": [
    "#comparing the results of NN and LR\n",
    "plt.figure(figsize=(15,10))\n",
    "\n",
    "# Neural Network plots\n",
    "plt.plot(acc_nn.accuracies, 'r-', label = \"Training Accuracies - NN\")\n",
    "plt.plot(acc_nn.test_accuracies, 'g-', label = \"Testing Accuracies - NN\")\n",
    "\n",
    "# Logistic Regression plots\n",
    "plt.plot(acc_lr.accuracies, 'k-', label = \"Training Accuracies - LR\")\n",
    "plt.plot(acc_lr.test_accuracies, 'b-', label = \"Testing Accuracies - LR\")\n",
    "plt.legend()"
   ]
  },
  {
   "cell_type": "markdown",
   "id": "80dfb35c",
   "metadata": {
    "papermill": {
     "duration": 0.046724,
     "end_time": "2022-07-22T00:48:54.534478",
     "exception": false,
     "start_time": "2022-07-22T00:48:54.487754",
     "status": "completed"
    },
    "tags": []
   },
   "source": [
    "#### Plotting the outputs of this layer of the NN.\n"
   ]
  },
  {
   "cell_type": "code",
   "execution_count": 25,
   "id": "45eb2ff5",
   "metadata": {
    "execution": {
     "iopub.execute_input": "2022-07-22T00:48:54.625300Z",
     "iopub.status.busy": "2022-07-22T00:48:54.622970Z",
     "iopub.status.idle": "2022-07-22T00:48:54.665027Z",
     "shell.execute_reply": "2022-07-22T00:48:54.664554Z"
    },
    "papermill": {
     "duration": 0.088289,
     "end_time": "2022-07-22T00:48:54.665144",
     "exception": false,
     "start_time": "2022-07-22T00:48:54.576855",
     "status": "completed"
    },
    "tags": []
   },
   "outputs": [],
   "source": [
    "new_model = Model(layers[:-2])\n",
    "testing_plot = new_model(testing_data_x)"
   ]
  },
  {
   "cell_type": "code",
   "execution_count": 26,
   "id": "4c0a5485",
   "metadata": {
    "execution": {
     "iopub.execute_input": "2022-07-22T00:48:54.754722Z",
     "iopub.status.busy": "2022-07-22T00:48:54.754110Z",
     "iopub.status.idle": "2022-07-22T00:48:54.975281Z",
     "shell.execute_reply": "2022-07-22T00:48:54.974797Z"
    },
    "papermill": {
     "duration": 0.267451,
     "end_time": "2022-07-22T00:48:54.975392",
     "exception": false,
     "start_time": "2022-07-22T00:48:54.707941",
     "status": "completed"
    },
    "tags": []
   },
   "outputs": [
    {
     "data": {
      "text/plain": [
       "Text(0.5, 1.0, 'Outputs')"
      ]
     },
     "execution_count": 26,
     "metadata": {},
     "output_type": "execute_result"
    },
    {
     "data": {
      "image/png": "[encoded data removed]",
      "text/plain": [
       "<Figure size 576x504 with 1 Axes>"
      ]
     },
     "metadata": {
      "needs_background": "light"
     },
     "output_type": "display_data"
    }
   ],
   "source": [
    "# Plotting the scatter plot of points and color coding by class\n",
    "plt.figure(figsize=(8,7))\n",
    "plt.scatter(testing_plot[:,0], testing_plot[:,1], alpha = 0.1, c = y_test.ravel());\n",
    "plt.title('Outputs')"
   ]
  },
  {
   "cell_type": "markdown",
   "id": "a74fcf8f",
   "metadata": {
    "papermill": {
     "duration": 0.044864,
     "end_time": "2022-07-22T00:48:55.091182",
     "exception": false,
     "start_time": "2022-07-22T00:48:55.046318",
     "status": "completed"
    },
    "tags": []
   },
   "source": [
    "Probability contours"
   ]
  },
  {
   "cell_type": "code",
   "execution_count": 27,
   "id": "d0afc8e3",
   "metadata": {
    "execution": {
     "iopub.execute_input": "2022-07-22T00:48:55.184923Z",
     "iopub.status.busy": "2022-07-22T00:48:55.184342Z",
     "iopub.status.idle": "2022-07-22T00:48:55.197858Z",
     "shell.execute_reply": "2022-07-22T00:48:55.198553Z"
    },
    "papermill": {
     "duration": 0.062553,
     "end_time": "2022-07-22T00:48:55.198710",
     "exception": false,
     "start_time": "2022-07-22T00:48:55.136157",
     "status": "completed"
    },
    "tags": []
   },
   "outputs": [],
   "source": [
    "model_prob = Model(layers[-2:]) "
   ]
  },
  {
   "cell_type": "code",
   "execution_count": 28,
   "id": "9b96e238",
   "metadata": {
    "execution": {
     "iopub.execute_input": "2022-07-22T00:48:55.297353Z",
     "iopub.status.busy": "2022-07-22T00:48:55.296768Z",
     "iopub.status.idle": "2022-07-22T00:48:55.312319Z",
     "shell.execute_reply": "2022-07-22T00:48:55.312735Z"
    },
    "papermill": {
     "duration": 0.065908,
     "end_time": "2022-07-22T00:48:55.312856",
     "exception": false,
     "start_time": "2022-07-22T00:48:55.246948",
     "status": "completed"
    },
    "tags": []
   },
   "outputs": [],
   "source": [
    "#creating the x and y ranges according to the above generated plot.\n",
    "x_range = np.linspace(-4, 1, 100) \n",
    "y_range = np.linspace(-6, 6, 100) \n",
    "x_grid, y_grid = np.meshgrid(x_range, y_range) # x_grid and y_grig are of size 100 X 100\n",
    "\n",
    "# converting x_grid and y_grid to continuous arrays\n",
    "x_gridflat = np.ravel(x_grid)\n",
    "y_gridflat = np.ravel(y_grid)\n",
    "\n",
    "# The last layer of the current model takes two columns as input. Hence transpose of np.vstack() is required.\n",
    "X = np.vstack((x_gridflat, y_gridflat)).T\n",
    "\n",
    "prob_contour = model_prob(X).reshape(100,100) "
   ]
  },
  {
   "cell_type": "code",
   "execution_count": 29,
   "id": "da72499a",
   "metadata": {
    "execution": {
     "iopub.execute_input": "2022-07-22T00:48:55.432031Z",
     "iopub.status.busy": "2022-07-22T00:48:55.431452Z",
     "iopub.status.idle": "2022-07-22T00:48:55.681520Z",
     "shell.execute_reply": "2022-07-22T00:48:55.680730Z"
    },
    "papermill": {
     "duration": 0.310534,
     "end_time": "2022-07-22T00:48:55.681638",
     "exception": false,
     "start_time": "2022-07-22T00:48:55.371104",
     "status": "completed"
    },
    "tags": []
   },
   "outputs": [
    {
     "data": {
      "image/png": "[encoded data removed]",
      "text/plain": [
       "<Figure size 720x648 with 1 Axes>"
      ]
     },
     "metadata": {
      "needs_background": "light"
     },
     "output_type": "display_data"
    }
   ],
   "source": [
    "plt.figure(figsize=(10,9))\n",
    "plt.scatter(testing_plot[:,0], testing_plot[:,1], alpha = 0.1, c = y_test.ravel())\n",
    "contours = plt.contour(x_grid,y_grid,prob_contour)\n",
    "plt.title('Probability Contours')\n",
    "plt.clabel(contours, inline = True );"
   ]
  },
  {
   "cell_type": "code",
   "execution_count": null,
   "id": "e81b4ac7",
   "metadata": {
    "papermill": {
     "duration": 0.047432,
     "end_time": "2022-07-22T00:48:55.776936",
     "exception": false,
     "start_time": "2022-07-22T00:48:55.729504",
     "status": "completed"
    },
    "tags": []
   },
   "outputs": [],
   "source": []
  }
 ],
 "metadata": {
  "kernelspec": {
   "display_name": "Python 3",
   "language": "python",
   "name": "python3"
  },
  "language_info": {
   "codemirror_mode": {
    "name": "ipython",
    "version": 3
   },
   "file_extension": ".py",
   "mimetype": "text/x-python",
   "name": "python",
   "nbconvert_exporter": "python",
   "pygments_lexer": "ipython3",
   "version": "3.6.15"
  },
  "papermill": {
   "default_parameters": {},
   "duration": 201.04714,
   "end_time": "2022-07-22T00:48:56.141997",
   "environment_variables": {},
   "exception": null,
   "input_path": "2020-08-11-part2.ipynb",
   "output_path": "2020-08-11-part2.ipynb",
   "parameters": {},
   "start_time": "2022-07-22T00:45:35.094857",
   "version": "2.3.3"
  }
 },
 "nbformat": 4,
 "nbformat_minor": 5
}