{
 "cells": [
  {
   "cell_type": "markdown",
   "id": "98380cd3",
   "metadata": {
    "papermill": {
     "duration": 0.027064,
     "end_time": "2022-03-03T20:09:22.917105",
     "exception": false,
     "start_time": "2022-03-03T20:09:22.890041",
     "status": "completed"
    },
    "tags": []
   },
   "source": [
    "# Distinguish Your Own Digits (DYOD)"
   ]
  },
  {
   "cell_type": "markdown",
   "id": "ef31240d",
   "metadata": {
    "papermill": {
     "duration": 0.023016,
     "end_time": "2022-03-03T20:09:22.962242",
     "exception": false,
     "start_time": "2022-03-03T20:09:22.939226",
     "status": "completed"
    },
    "tags": []
   },
   "source": [
    "You are going to write a classifier that distinguishes between the number 3 and number 8."
   ]
  },
  {
   "cell_type": "code",
   "execution_count": 1,
   "id": "b15c8646",
   "metadata": {
    "execution": {
     "iopub.execute_input": "2022-03-03T20:09:23.015642Z",
     "iopub.status.busy": "2022-03-03T20:09:23.015145Z",
     "iopub.status.idle": "2022-03-03T20:09:23.025779Z",
     "shell.execute_reply": "2022-03-03T20:09:23.025380Z"
    },
    "papermill": {
     "duration": 0.042346,
     "end_time": "2022-03-03T20:09:23.025907",
     "exception": false,
     "start_time": "2022-03-03T20:09:22.983561",
     "status": "completed"
    },
    "tags": []
   },
   "outputs": [],
   "source": [
    "%load_ext autoreload\n",
    "%autoreload 2"
   ]
  },
  {
   "cell_type": "code",
   "execution_count": 2,
   "id": "22ef38dc",
   "metadata": {
    "execution": {
     "iopub.execute_input": "2022-03-03T20:09:23.093723Z",
     "iopub.status.busy": "2022-03-03T20:09:23.084457Z",
     "iopub.status.idle": "2022-03-03T20:09:23.690567Z",
     "shell.execute_reply": "2022-03-03T20:09:23.690013Z"
    },
    "papermill": {
     "duration": 0.6432,
     "end_time": "2022-03-03T20:09:23.690717",
     "exception": false,
     "start_time": "2022-03-03T20:09:23.047517",
     "status": "completed"
    },
    "tags": []
   },
   "outputs": [],
   "source": [
    "%matplotlib inline\n",
    "import numpy as np\n",
    "import matplotlib.pyplot as plt\n",
    "import pandas as pd"
   ]
  },
  {
   "cell_type": "markdown",
   "id": "ba036198",
   "metadata": {
    "papermill": {
     "duration": 0.024504,
     "end_time": "2022-03-03T20:09:23.740083",
     "exception": false,
     "start_time": "2022-03-03T20:09:23.715579",
     "status": "completed"
    },
    "tags": []
   },
   "source": [
    "From the command line run `pip install mnist`. This is a library that will help you bring down the mnist dataset. If you run this from a notebook, you need to put  `!pip install mnist` in a cell by itself."
   ]
  },
  {
   "cell_type": "code",
   "execution_count": 3,
   "id": "bb6ad8a1",
   "metadata": {
    "execution": {
     "iopub.execute_input": "2022-03-03T20:09:23.797562Z",
     "iopub.status.busy": "2022-03-03T20:09:23.797001Z",
     "iopub.status.idle": "2022-03-03T20:09:25.548197Z",
     "shell.execute_reply": "2022-03-03T20:09:25.547670Z"
    },
    "papermill": {
     "duration": 1.783717,
     "end_time": "2022-03-03T20:09:25.548333",
     "exception": false,
     "start_time": "2022-03-03T20:09:23.764616",
     "status": "completed"
    },
    "tags": []
   },
   "outputs": [
    {
     "name": "stdout",
     "output_type": "stream",
     "text": [
      "Collecting mnist\r\n"
     ]
    },
    {
     "name": "stdout",
     "output_type": "stream",
     "text": [
      "  Downloading mnist-0.2.2-py2.py3-none-any.whl (3.5 kB)\r\n",
      "Requirement already satisfied: numpy in /opt/hostedtoolcache/Python/3.6.15/x64/lib/python3.6/site-packages (from mnist) (1.19.5)\r\n"
     ]
    },
    {
     "name": "stdout",
     "output_type": "stream",
     "text": [
      "Installing collected packages: mnist\r\n"
     ]
    },
    {
     "name": "stdout",
     "output_type": "stream",
     "text": [
      "Successfully installed mnist-0.2.2\r\n"
     ]
    }
   ],
   "source": [
    "!pip install mnist"
   ]
  },
  {
   "cell_type": "markdown",
   "id": "69df9c9a",
   "metadata": {
    "papermill": {
     "duration": 0.02563,
     "end_time": "2022-03-03T20:09:25.599611",
     "exception": false,
     "start_time": "2022-03-03T20:09:25.573981",
     "status": "completed"
    },
    "tags": []
   },
   "source": [
    "## Preparing the Data"
   ]
  },
  {
   "cell_type": "code",
   "execution_count": 4,
   "id": "7f69d806",
   "metadata": {
    "execution": {
     "iopub.execute_input": "2022-03-03T20:09:25.654550Z",
     "iopub.status.busy": "2022-03-03T20:09:25.654032Z",
     "iopub.status.idle": "2022-03-03T20:09:25.666712Z",
     "shell.execute_reply": "2022-03-03T20:09:25.667108Z"
    },
    "papermill": {
     "duration": 0.042266,
     "end_time": "2022-03-03T20:09:25.667261",
     "exception": false,
     "start_time": "2022-03-03T20:09:25.624995",
     "status": "completed"
    },
    "tags": []
   },
   "outputs": [],
   "source": [
    "import mnist"
   ]
  },
  {
   "cell_type": "code",
   "execution_count": 5,
   "id": "a411e44f",
   "metadata": {
    "execution": {
     "iopub.execute_input": "2022-03-03T20:09:25.736856Z",
     "iopub.status.busy": "2022-03-03T20:09:25.732768Z",
     "iopub.status.idle": "2022-03-03T20:09:26.308354Z",
     "shell.execute_reply": "2022-03-03T20:09:26.307731Z"
    },
    "papermill": {
     "duration": 0.615506,
     "end_time": "2022-03-03T20:09:26.308492",
     "exception": false,
     "start_time": "2022-03-03T20:09:25.692986",
     "status": "completed"
    },
    "tags": []
   },
   "outputs": [],
   "source": [
    "train_images = mnist.train_images()\n",
    "train_labels = mnist.train_labels()"
   ]
  },
  {
   "cell_type": "code",
   "execution_count": 6,
   "id": "dceab3a5",
   "metadata": {
    "execution": {
     "iopub.execute_input": "2022-03-03T20:09:26.364382Z",
     "iopub.status.busy": "2022-03-03T20:09:26.363861Z",
     "iopub.status.idle": "2022-03-03T20:09:26.377363Z",
     "shell.execute_reply": "2022-03-03T20:09:26.376949Z"
    },
    "papermill": {
     "duration": 0.042941,
     "end_time": "2022-03-03T20:09:26.377478",
     "exception": false,
     "start_time": "2022-03-03T20:09:26.334537",
     "status": "completed"
    },
    "tags": []
   },
   "outputs": [
    {
     "data": {
      "text/plain": [
       "((60000, 28, 28), (60000,))"
      ]
     },
     "execution_count": 6,
     "metadata": {},
     "output_type": "execute_result"
    }
   ],
   "source": [
    "train_images.shape, train_labels.shape"
   ]
  },
  {
   "cell_type": "code",
   "execution_count": 7,
   "id": "f50dc2bb",
   "metadata": {
    "execution": {
     "iopub.execute_input": "2022-03-03T20:09:26.432883Z",
     "iopub.status.busy": "2022-03-03T20:09:26.432377Z",
     "iopub.status.idle": "2022-03-03T20:09:26.585959Z",
     "shell.execute_reply": "2022-03-03T20:09:26.586485Z"
    },
    "papermill": {
     "duration": 0.183569,
     "end_time": "2022-03-03T20:09:26.586651",
     "exception": false,
     "start_time": "2022-03-03T20:09:26.403082",
     "status": "completed"
    },
    "tags": []
   },
   "outputs": [],
   "source": [
    "test_images = mnist.test_images()\n",
    "test_labels = mnist.test_labels()"
   ]
  },
  {
   "cell_type": "code",
   "execution_count": 8,
   "id": "fc38cf1b",
   "metadata": {
    "execution": {
     "iopub.execute_input": "2022-03-03T20:09:26.642206Z",
     "iopub.status.busy": "2022-03-03T20:09:26.641691Z",
     "iopub.status.idle": "2022-03-03T20:09:26.655300Z",
     "shell.execute_reply": "2022-03-03T20:09:26.654861Z"
    },
    "papermill": {
     "duration": 0.042791,
     "end_time": "2022-03-03T20:09:26.655421",
     "exception": false,
     "start_time": "2022-03-03T20:09:26.612630",
     "status": "completed"
    },
    "tags": []
   },
   "outputs": [
    {
     "data": {
      "text/plain": [
       "((10000, 28, 28), (10000,))"
      ]
     },
     "execution_count": 8,
     "metadata": {},
     "output_type": "execute_result"
    }
   ],
   "source": [
    "test_images.shape, test_labels.shape"
   ]
  },
  {
   "cell_type": "code",
   "execution_count": 9,
   "id": "f9ed8fe0",
   "metadata": {
    "execution": {
     "iopub.execute_input": "2022-03-03T20:09:26.712684Z",
     "iopub.status.busy": "2022-03-03T20:09:26.712157Z",
     "iopub.status.idle": "2022-03-03T20:09:26.835516Z",
     "shell.execute_reply": "2022-03-03T20:09:26.836016Z"
    },
    "papermill": {
     "duration": 0.154903,
     "end_time": "2022-03-03T20:09:26.836174",
     "exception": false,
     "start_time": "2022-03-03T20:09:26.681271",
     "status": "completed"
    },
    "tags": []
   },
   "outputs": [
    {
     "name": "stdout",
     "output_type": "stream",
     "text": [
      "2\n"
     ]
    },
    {
     "data": {
      "text/plain": [
       "<matplotlib.image.AxesImage at 0x7f1e4e2a25c0>"
      ]
     },
     "execution_count": 9,
     "metadata": {},
     "output_type": "execute_result"
    },
    {
     "data": {
      "image/png": "[encoded data removed]",
      "text/plain": [
       "<Figure size 432x288 with 1 Axes>"
      ]
     },
     "metadata": {
      "needs_background": "light"
     },
     "output_type": "display_data"
    }
   ],
   "source": [
    "image_index = 7776 # You may select anything up to 60,000\n",
    "print(train_labels[image_index]) \n",
    "plt.imshow(train_images[image_index], cmap='Greys')"
   ]
  },
  {
   "cell_type": "markdown",
   "id": "a8d2388d",
   "metadata": {
    "papermill": {
     "duration": 0.026722,
     "end_time": "2022-03-03T20:09:26.890853",
     "exception": false,
     "start_time": "2022-03-03T20:09:26.864131",
     "status": "completed"
    },
    "tags": []
   },
   "source": [
    "## Filter data to get 3 and 8 out"
   ]
  },
  {
   "cell_type": "code",
   "execution_count": 10,
   "id": "776f7fc7",
   "metadata": {
    "execution": {
     "iopub.execute_input": "2022-03-03T20:09:26.961271Z",
     "iopub.status.busy": "2022-03-03T20:09:26.956413Z",
     "iopub.status.idle": "2022-03-03T20:09:26.970731Z",
     "shell.execute_reply": "2022-03-03T20:09:26.970296Z"
    },
    "papermill": {
     "duration": 0.053209,
     "end_time": "2022-03-03T20:09:26.970859",
     "exception": false,
     "start_time": "2022-03-03T20:09:26.917650",
     "status": "completed"
    },
    "tags": []
   },
   "outputs": [],
   "source": [
    "train_filter = np.where((train_labels == 3 ) | (train_labels == 8))\n",
    "test_filter = np.where((test_labels == 3) | (test_labels == 8))\n",
    "X_train, y_train = train_images[train_filter], train_labels[train_filter]\n",
    "X_test, y_test = test_images[test_filter], test_labels[test_filter]"
   ]
  },
  {
   "cell_type": "markdown",
   "id": "948f0b7e",
   "metadata": {
    "papermill": {
     "duration": 0.026938,
     "end_time": "2022-03-03T20:09:27.024754",
     "exception": false,
     "start_time": "2022-03-03T20:09:26.997816",
     "status": "completed"
    },
    "tags": []
   },
   "source": [
    "We normalize the pizel values in the 0 to 1 range"
   ]
  },
  {
   "cell_type": "code",
   "execution_count": 11,
   "id": "ee4c2166",
   "metadata": {
    "execution": {
     "iopub.execute_input": "2022-03-03T20:09:27.085088Z",
     "iopub.status.busy": "2022-03-03T20:09:27.084562Z",
     "iopub.status.idle": "2022-03-03T20:09:27.129704Z",
     "shell.execute_reply": "2022-03-03T20:09:27.129229Z"
    },
    "papermill": {
     "duration": 0.078195,
     "end_time": "2022-03-03T20:09:27.129832",
     "exception": false,
     "start_time": "2022-03-03T20:09:27.051637",
     "status": "completed"
    },
    "tags": []
   },
   "outputs": [],
   "source": [
    "X_train = X_train/255.\n",
    "X_test = X_test/255."
   ]
  },
  {
   "cell_type": "markdown",
   "id": "ddcf4fab",
   "metadata": {
    "papermill": {
     "duration": 0.026942,
     "end_time": "2022-03-03T20:09:27.184015",
     "exception": false,
     "start_time": "2022-03-03T20:09:27.157073",
     "status": "completed"
    },
    "tags": []
   },
   "source": [
    "And setup the labels as 1 (when the digit is 3) and 0 (when the digit is 8)"
   ]
  },
  {
   "cell_type": "code",
   "execution_count": 12,
   "id": "7dc908f2",
   "metadata": {
    "execution": {
     "iopub.execute_input": "2022-03-03T20:09:27.243190Z",
     "iopub.status.busy": "2022-03-03T20:09:27.242669Z",
     "iopub.status.idle": "2022-03-03T20:09:27.252660Z",
     "shell.execute_reply": "2022-03-03T20:09:27.252229Z"
    },
    "papermill": {
     "duration": 0.041839,
     "end_time": "2022-03-03T20:09:27.252775",
     "exception": false,
     "start_time": "2022-03-03T20:09:27.210936",
     "status": "completed"
    },
    "tags": []
   },
   "outputs": [],
   "source": [
    "y_train = 1*(y_train==3)\n",
    "y_test = 1*(y_test==3)"
   ]
  },
  {
   "cell_type": "code",
   "execution_count": 13,
   "id": "01e4e969",
   "metadata": {
    "execution": {
     "iopub.execute_input": "2022-03-03T20:09:27.310694Z",
     "iopub.status.busy": "2022-03-03T20:09:27.309715Z",
     "iopub.status.idle": "2022-03-03T20:09:27.323132Z",
     "shell.execute_reply": "2022-03-03T20:09:27.322719Z"
    },
    "papermill": {
     "duration": 0.043608,
     "end_time": "2022-03-03T20:09:27.323250",
     "exception": false,
     "start_time": "2022-03-03T20:09:27.279642",
     "status": "completed"
    },
    "tags": []
   },
   "outputs": [
    {
     "data": {
      "text/plain": [
       "((11982, 28, 28), (1984, 28, 28))"
      ]
     },
     "execution_count": 13,
     "metadata": {},
     "output_type": "execute_result"
    }
   ],
   "source": [
    "X_train.shape, X_test.shape"
   ]
  },
  {
   "cell_type": "markdown",
   "id": "5ccf3f85",
   "metadata": {
    "papermill": {
     "duration": 0.026857,
     "end_time": "2022-03-03T20:09:27.377031",
     "exception": false,
     "start_time": "2022-03-03T20:09:27.350174",
     "status": "completed"
    },
    "tags": []
   },
   "source": [
    "We reshape the data to flatten the image pixels into a set of features or co-variates:"
   ]
  },
  {
   "cell_type": "code",
   "execution_count": 14,
   "id": "5286a4a3",
   "metadata": {
    "execution": {
     "iopub.execute_input": "2022-03-03T20:09:27.436745Z",
     "iopub.status.busy": "2022-03-03T20:09:27.436232Z",
     "iopub.status.idle": "2022-03-03T20:09:27.447592Z",
     "shell.execute_reply": "2022-03-03T20:09:27.447178Z"
    },
    "papermill": {
     "duration": 0.043694,
     "end_time": "2022-03-03T20:09:27.447709",
     "exception": false,
     "start_time": "2022-03-03T20:09:27.404015",
     "status": "completed"
    },
    "tags": []
   },
   "outputs": [
    {
     "data": {
      "text/plain": [
       "((11982, 784), (1984, 784))"
      ]
     },
     "execution_count": 14,
     "metadata": {},
     "output_type": "execute_result"
    }
   ],
   "source": [
    "X_train = X_train.reshape(X_train.shape[0], -1)\n",
    "X_test = X_test.reshape(X_test.shape[0], -1)\n",
    "X_train.shape, X_test.shape"
   ]
  },
  {
   "cell_type": "code",
   "execution_count": 15,
   "id": "73c5f88a",
   "metadata": {
    "execution": {
     "iopub.execute_input": "2022-03-03T20:09:27.507151Z",
     "iopub.status.busy": "2022-03-03T20:09:27.506631Z",
     "iopub.status.idle": "2022-03-03T20:09:27.524263Z",
     "shell.execute_reply": "2022-03-03T20:09:27.523835Z"
    },
    "papermill": {
     "duration": 0.049203,
     "end_time": "2022-03-03T20:09:27.524380",
     "exception": false,
     "start_time": "2022-03-03T20:09:27.475177",
     "status": "completed"
    },
    "tags": []
   },
   "outputs": [],
   "source": [
    "#Impoting functions from 'Kudzu'\n",
    "from kudzu.model import Model\n",
    "from kudzu.train import Learner\n",
    "from kudzu.optim import GD\n",
    "from kudzu.data import Data, Sampler,Dataloader\n",
    "\n",
    "from kudzu.callbacks import AccCallback\n",
    "from kudzu.callbacks import ClfCallback\n",
    "\n",
    "from kudzu.loss import MSE\n",
    "\n",
    "from kudzu.layer import Sigmoid,Relu\n",
    "from kudzu.layer import Affine"
   ]
  },
  {
   "cell_type": "markdown",
   "id": "bc01172a",
   "metadata": {
    "papermill": {
     "duration": 0.028025,
     "end_time": "2022-03-03T20:09:27.579801",
     "exception": false,
     "start_time": "2022-03-03T20:09:27.551776",
     "status": "completed"
    },
    "tags": []
   },
   "source": [
    "### Let us create a `Config` class, to store important parameters. \n",
    "This class essentially plays the role of a dictionary."
   ]
  },
  {
   "cell_type": "code",
   "execution_count": 16,
   "id": "978281aa",
   "metadata": {
    "execution": {
     "iopub.execute_input": "2022-03-03T20:09:27.640160Z",
     "iopub.status.busy": "2022-03-03T20:09:27.639613Z",
     "iopub.status.idle": "2022-03-03T20:09:27.651611Z",
     "shell.execute_reply": "2022-03-03T20:09:27.651198Z"
    },
    "papermill": {
     "duration": 0.044659,
     "end_time": "2022-03-03T20:09:27.651718",
     "exception": false,
     "start_time": "2022-03-03T20:09:27.607059",
     "status": "completed"
    },
    "tags": []
   },
   "outputs": [],
   "source": [
    "class Config:\n",
    "    pass\n",
    "config = Config()\n",
    "config.lr = 0.001\n",
    "config.num_epochs = 250\n",
    "config.bs = 50"
   ]
  },
  {
   "cell_type": "markdown",
   "id": "1385fa59",
   "metadata": {
    "papermill": {
     "duration": 0.024303,
     "end_time": "2022-03-03T20:09:27.700368",
     "exception": false,
     "start_time": "2022-03-03T20:09:27.676065",
     "status": "completed"
    },
    "tags": []
   },
   "source": [
    "### Running Models with the Training data\n",
    "Details about the network layers:\n",
    "- A first affine layer has 784 inputs and does 100 affine transforms. These are followed by a Relu\n",
    "- A second affine layer has 100 inputs from the 100 activations of the past layer, and does 100 affine transforms. These are followed by a Relu\n",
    "- A third affine layer has 100 activations and does 2 affine transformations to create an embedding for visualization. There is no non-linearity here.\n",
    "- A final \"logistic regression\" which has an affine transform from 2 inputs to 1 output, which is squeezed through a sigmoid.\n"
   ]
  },
  {
   "cell_type": "code",
   "execution_count": 17,
   "id": "2b9c66db",
   "metadata": {
    "execution": {
     "iopub.execute_input": "2022-03-03T20:09:27.753580Z",
     "iopub.status.busy": "2022-03-03T20:09:27.753111Z",
     "iopub.status.idle": "2022-03-03T20:09:27.765675Z",
     "shell.execute_reply": "2022-03-03T20:09:27.765271Z"
    },
    "papermill": {
     "duration": 0.041224,
     "end_time": "2022-03-03T20:09:27.765785",
     "exception": false,
     "start_time": "2022-03-03T20:09:27.724561",
     "status": "completed"
    },
    "tags": []
   },
   "outputs": [],
   "source": [
    "data = Data(X_train, y_train.reshape(-1,1))\n",
    "sampler = Sampler(data, config.bs, shuffle=True)\n",
    "\n",
    "dl = Dataloader(data, sampler)\n",
    "\n",
    "opt = GD(config.lr)\n",
    "loss = MSE()"
   ]
  },
  {
   "cell_type": "code",
   "execution_count": 18,
   "id": "b275e4c2",
   "metadata": {
    "execution": {
     "iopub.execute_input": "2022-03-03T20:09:27.820943Z",
     "iopub.status.busy": "2022-03-03T20:09:27.820467Z",
     "iopub.status.idle": "2022-03-03T20:09:27.831015Z",
     "shell.execute_reply": "2022-03-03T20:09:27.831403Z"
    },
    "papermill": {
     "duration": 0.041251,
     "end_time": "2022-03-03T20:09:27.831529",
     "exception": false,
     "start_time": "2022-03-03T20:09:27.790278",
     "status": "completed"
    },
    "tags": []
   },
   "outputs": [],
   "source": [
    "training_data_x = X_train\n",
    "testing_data_x = X_test\n",
    "training_data_y = y_train.reshape(-1,1)\n",
    "testing_data_y = y_test.reshape(-1,1)"
   ]
  },
  {
   "cell_type": "code",
   "execution_count": 19,
   "id": "76951160",
   "metadata": {
    "execution": {
     "iopub.execute_input": "2022-03-03T20:09:27.884508Z",
     "iopub.status.busy": "2022-03-03T20:09:27.884025Z",
     "iopub.status.idle": "2022-03-03T20:09:27.899754Z",
     "shell.execute_reply": "2022-03-03T20:09:27.900107Z"
    },
    "papermill": {
     "duration": 0.044413,
     "end_time": "2022-03-03T20:09:27.900236",
     "exception": false,
     "start_time": "2022-03-03T20:09:27.855823",
     "status": "completed"
    },
    "tags": []
   },
   "outputs": [
    {
     "name": "stdout",
     "output_type": "stream",
     "text": [
      "xavier\n",
      "xavier\n",
      "xavier\n",
      "xavier\n",
      "xavier\n"
     ]
    }
   ],
   "source": [
    "layers = [Affine(\"first\", 784, 100), Relu(\"first\"), Affine(\"second\", 100, 100), Relu(\"second\"), Affine(\"third\", 100, 2), Affine(\"last\", 2, 1), Sigmoid(\"last\")]\n",
    "model_nn = Model(layers)\n",
    "model_lr = Model([Affine(\"logits\", 784, 1), Sigmoid(\"sigmoid\")])"
   ]
  },
  {
   "cell_type": "code",
   "execution_count": 20,
   "id": "6eede77a",
   "metadata": {
    "execution": {
     "iopub.execute_input": "2022-03-03T20:09:27.953247Z",
     "iopub.status.busy": "2022-03-03T20:09:27.952794Z",
     "iopub.status.idle": "2022-03-03T20:09:27.965025Z",
     "shell.execute_reply": "2022-03-03T20:09:27.964633Z"
    },
    "papermill": {
     "duration": 0.040438,
     "end_time": "2022-03-03T20:09:27.965129",
     "exception": false,
     "start_time": "2022-03-03T20:09:27.924691",
     "status": "completed"
    },
    "tags": []
   },
   "outputs": [],
   "source": [
    "nn_learner = Learner(loss, model_nn, opt, config.num_epochs)\n",
    "acc_nn = ClfCallback(nn_learner, config.bs, training_data_x , testing_data_x, training_data_y, testing_data_y)\n",
    "nn_learner.set_callbacks([acc_nn])"
   ]
  },
  {
   "cell_type": "code",
   "execution_count": 21,
   "id": "877b6cc7",
   "metadata": {
    "execution": {
     "iopub.execute_input": "2022-03-03T20:09:28.019033Z",
     "iopub.status.busy": "2022-03-03T20:09:28.018240Z",
     "iopub.status.idle": "2022-03-03T20:09:28.031970Z",
     "shell.execute_reply": "2022-03-03T20:09:28.031577Z"
    },
    "papermill": {
     "duration": 0.042399,
     "end_time": "2022-03-03T20:09:28.032078",
     "exception": false,
     "start_time": "2022-03-03T20:09:27.989679",
     "status": "completed"
    },
    "tags": []
   },
   "outputs": [],
   "source": [
    "lr_learner = Learner(loss, model_lr, opt, config.num_epochs)\n",
    "acc_lr = ClfCallback(lr_learner, config.bs, training_data_x , testing_data_x, training_data_y, testing_data_y)\n",
    "lr_learner.set_callbacks([acc_lr])"
   ]
  },
  {
   "cell_type": "code",
   "execution_count": 22,
   "id": "d9b133c3",
   "metadata": {
    "execution": {
     "iopub.execute_input": "2022-03-03T20:09:28.098425Z",
     "iopub.status.busy": "2022-03-03T20:09:28.090709Z",
     "iopub.status.idle": "2022-03-03T20:10:44.298736Z",
     "shell.execute_reply": "2022-03-03T20:10:44.299188Z"
    },
    "papermill": {
     "duration": 76.242765,
     "end_time": "2022-03-03T20:10:44.299327",
     "exception": false,
     "start_time": "2022-03-03T20:09:28.056562",
     "status": "completed"
    },
    "tags": []
   },
   "outputs": [
    {
     "name": "stdout",
     "output_type": "stream",
     "text": [
      "Epoch 0, Loss 0.2372\n",
      "Training Accuracy: 0.7514, Testing Accuracy: 0.7434\n",
      "\n"
     ]
    },
    {
     "name": "stdout",
     "output_type": "stream",
     "text": [
      "Epoch 10, Loss 0.0682\n",
      "Training Accuracy: 0.9352, Testing Accuracy: 0.9461\n",
      "\n"
     ]
    },
    {
     "name": "stdout",
     "output_type": "stream",
     "text": [
      "Epoch 20, Loss 0.0452\n",
      "Training Accuracy: 0.9533, Testing Accuracy: 0.9607\n",
      "\n"
     ]
    },
    {
     "name": "stdout",
     "output_type": "stream",
     "text": [
      "Epoch 30, Loss 0.0369\n",
      "Training Accuracy: 0.9615, Testing Accuracy: 0.9657\n",
      "\n"
     ]
    },
    {
     "name": "stdout",
     "output_type": "stream",
     "text": [
      "Epoch 40, Loss 0.0327\n",
      "Training Accuracy: 0.9647, Testing Accuracy: 0.9672\n",
      "\n"
     ]
    },
    {
     "name": "stdout",
     "output_type": "stream",
     "text": [
      "Epoch 50, Loss 0.03\n",
      "Training Accuracy: 0.9672, Testing Accuracy: 0.9693\n",
      "\n"
     ]
    },
    {
     "name": "stdout",
     "output_type": "stream",
     "text": [
      "Epoch 60, Loss 0.0281\n",
      "Training Accuracy: 0.9691, Testing Accuracy: 0.9682\n",
      "\n"
     ]
    },
    {
     "name": "stdout",
     "output_type": "stream",
     "text": [
      "Epoch 70, Loss 0.0266\n",
      "Training Accuracy: 0.9708, Testing Accuracy: 0.9693\n",
      "\n"
     ]
    },
    {
     "name": "stdout",
     "output_type": "stream",
     "text": [
      "Epoch 80, Loss 0.0254\n",
      "Training Accuracy: 0.9716, Testing Accuracy: 0.9698\n",
      "\n"
     ]
    },
    {
     "name": "stdout",
     "output_type": "stream",
     "text": [
      "Epoch 90, Loss 0.0244\n",
      "Training Accuracy: 0.9726, Testing Accuracy: 0.9723\n",
      "\n"
     ]
    },
    {
     "name": "stdout",
     "output_type": "stream",
     "text": [
      "Epoch 100, Loss 0.0235\n",
      "Training Accuracy: 0.9731, Testing Accuracy: 0.9728\n",
      "\n"
     ]
    },
    {
     "name": "stdout",
     "output_type": "stream",
     "text": [
      "Epoch 110, Loss 0.0228\n",
      "Training Accuracy: 0.9743, Testing Accuracy: 0.9738\n",
      "\n"
     ]
    },
    {
     "name": "stdout",
     "output_type": "stream",
     "text": [
      "Epoch 120, Loss 0.0221\n",
      "Training Accuracy: 0.9748, Testing Accuracy: 0.9733\n",
      "\n"
     ]
    },
    {
     "name": "stdout",
     "output_type": "stream",
     "text": [
      "Epoch 130, Loss 0.0215\n",
      "Training Accuracy: 0.9760, Testing Accuracy: 0.9728\n",
      "\n"
     ]
    },
    {
     "name": "stdout",
     "output_type": "stream",
     "text": [
      "Epoch 140, Loss 0.0209\n",
      "Training Accuracy: 0.9766, Testing Accuracy: 0.9728\n",
      "\n"
     ]
    },
    {
     "name": "stdout",
     "output_type": "stream",
     "text": [
      "Epoch 150, Loss 0.0203\n",
      "Training Accuracy: 0.9774, Testing Accuracy: 0.9728\n",
      "\n"
     ]
    },
    {
     "name": "stdout",
     "output_type": "stream",
     "text": [
      "Epoch 160, Loss 0.0198\n",
      "Training Accuracy: 0.9784, Testing Accuracy: 0.9728\n",
      "\n"
     ]
    },
    {
     "name": "stdout",
     "output_type": "stream",
     "text": [
      "Epoch 170, Loss 0.0193\n",
      "Training Accuracy: 0.9786, Testing Accuracy: 0.9743\n",
      "\n"
     ]
    },
    {
     "name": "stdout",
     "output_type": "stream",
     "text": [
      "Epoch 180, Loss 0.0189\n",
      "Training Accuracy: 0.9791, Testing Accuracy: 0.9738\n",
      "\n"
     ]
    },
    {
     "name": "stdout",
     "output_type": "stream",
     "text": [
      "Epoch 190, Loss 0.0185\n",
      "Training Accuracy: 0.9798, Testing Accuracy: 0.9743\n",
      "\n"
     ]
    },
    {
     "name": "stdout",
     "output_type": "stream",
     "text": [
      "Epoch 200, Loss 0.0181\n",
      "Training Accuracy: 0.9804, Testing Accuracy: 0.9748\n",
      "\n"
     ]
    },
    {
     "name": "stdout",
     "output_type": "stream",
     "text": [
      "Epoch 210, Loss 0.0177\n",
      "Training Accuracy: 0.9804, Testing Accuracy: 0.9738\n",
      "\n"
     ]
    },
    {
     "name": "stdout",
     "output_type": "stream",
     "text": [
      "Epoch 220, Loss 0.0173\n",
      "Training Accuracy: 0.9808, Testing Accuracy: 0.9738\n",
      "\n"
     ]
    },
    {
     "name": "stdout",
     "output_type": "stream",
     "text": [
      "Epoch 230, Loss 0.017\n",
      "Training Accuracy: 0.9814, Testing Accuracy: 0.9743\n",
      "\n"
     ]
    },
    {
     "name": "stdout",
     "output_type": "stream",
     "text": [
      "Epoch 240, Loss 0.0166\n",
      "Training Accuracy: 0.9817, Testing Accuracy: 0.9748\n",
      "\n"
     ]
    },
    {
     "data": {
      "text/plain": [
       "0.002331855264979159"
      ]
     },
     "execution_count": 22,
     "metadata": {},
     "output_type": "execute_result"
    }
   ],
   "source": [
    "nn_learner.train_loop(dl)"
   ]
  },
  {
   "cell_type": "code",
   "execution_count": 23,
   "id": "e0163366",
   "metadata": {
    "execution": {
     "iopub.execute_input": "2022-03-03T20:10:44.369252Z",
     "iopub.status.busy": "2022-03-03T20:10:44.368745Z",
     "iopub.status.idle": "2022-03-03T20:10:58.499546Z",
     "shell.execute_reply": "2022-03-03T20:10:58.500262Z"
    },
    "papermill": {
     "duration": 14.16984,
     "end_time": "2022-03-03T20:10:58.500424",
     "exception": false,
     "start_time": "2022-03-03T20:10:44.330584",
     "status": "completed"
    },
    "tags": []
   },
   "outputs": [
    {
     "name": "stdout",
     "output_type": "stream",
     "text": [
      "Epoch 0, Loss 0.2456\n",
      "Training Accuracy: 0.6851, Testing Accuracy: 0.7087\n",
      "\n"
     ]
    },
    {
     "name": "stdout",
     "output_type": "stream",
     "text": [
      "Epoch 10, Loss 0.1032\n",
      "Training Accuracy: 0.9092, Testing Accuracy: 0.9264\n",
      "\n"
     ]
    },
    {
     "name": "stdout",
     "output_type": "stream",
     "text": [
      "Epoch 20, Loss 0.0792\n",
      "Training Accuracy: 0.9293, Testing Accuracy: 0.9435\n",
      "\n"
     ]
    },
    {
     "name": "stdout",
     "output_type": "stream",
     "text": [
      "Epoch 30, Loss 0.0681\n",
      "Training Accuracy: 0.9381, Testing Accuracy: 0.9496\n",
      "\n"
     ]
    },
    {
     "name": "stdout",
     "output_type": "stream",
     "text": [
      "Epoch 40, Loss 0.0615\n",
      "Training Accuracy: 0.9423, Testing Accuracy: 0.9572\n",
      "\n"
     ]
    },
    {
     "name": "stdout",
     "output_type": "stream",
     "text": [
      "Epoch 50, Loss 0.057\n",
      "Training Accuracy: 0.9456, Testing Accuracy: 0.9587\n",
      "\n"
     ]
    },
    {
     "name": "stdout",
     "output_type": "stream",
     "text": [
      "Epoch 60, Loss 0.0537\n",
      "Training Accuracy: 0.9476, Testing Accuracy: 0.9597\n",
      "\n"
     ]
    },
    {
     "name": "stdout",
     "output_type": "stream",
     "text": [
      "Epoch 70, Loss 0.0512\n",
      "Training Accuracy: 0.9499, Testing Accuracy: 0.9617\n",
      "\n"
     ]
    },
    {
     "name": "stdout",
     "output_type": "stream",
     "text": [
      "Epoch 80, Loss 0.0491\n",
      "Training Accuracy: 0.9508, Testing Accuracy: 0.9622\n",
      "\n"
     ]
    },
    {
     "name": "stdout",
     "output_type": "stream",
     "text": [
      "Epoch 90, Loss 0.0474\n",
      "Training Accuracy: 0.9524, Testing Accuracy: 0.9627\n",
      "\n"
     ]
    },
    {
     "name": "stdout",
     "output_type": "stream",
     "text": [
      "Epoch 100, Loss 0.046\n",
      "Training Accuracy: 0.9533, Testing Accuracy: 0.9627\n",
      "\n"
     ]
    },
    {
     "name": "stdout",
     "output_type": "stream",
     "text": [
      "Epoch 110, Loss 0.0448\n",
      "Training Accuracy: 0.9542, Testing Accuracy: 0.9642\n",
      "\n"
     ]
    },
    {
     "name": "stdout",
     "output_type": "stream",
     "text": [
      "Epoch 120, Loss 0.0438\n",
      "Training Accuracy: 0.9553, Testing Accuracy: 0.9642\n",
      "\n"
     ]
    },
    {
     "name": "stdout",
     "output_type": "stream",
     "text": [
      "Epoch 130, Loss 0.0428\n",
      "Training Accuracy: 0.9556, Testing Accuracy: 0.9647\n",
      "\n"
     ]
    },
    {
     "name": "stdout",
     "output_type": "stream",
     "text": [
      "Epoch 140, Loss 0.042\n",
      "Training Accuracy: 0.9564, Testing Accuracy: 0.9657\n",
      "\n"
     ]
    },
    {
     "name": "stdout",
     "output_type": "stream",
     "text": [
      "Epoch 150, Loss 0.0413\n",
      "Training Accuracy: 0.9574, Testing Accuracy: 0.9662\n",
      "\n"
     ]
    },
    {
     "name": "stdout",
     "output_type": "stream",
     "text": [
      "Epoch 160, Loss 0.0406\n",
      "Training Accuracy: 0.9580, Testing Accuracy: 0.9662\n",
      "\n"
     ]
    },
    {
     "name": "stdout",
     "output_type": "stream",
     "text": [
      "Epoch 170, Loss 0.04\n",
      "Training Accuracy: 0.9586, Testing Accuracy: 0.9662\n",
      "\n"
     ]
    },
    {
     "name": "stdout",
     "output_type": "stream",
     "text": [
      "Epoch 180, Loss 0.0394\n",
      "Training Accuracy: 0.9589, Testing Accuracy: 0.9677\n",
      "\n"
     ]
    },
    {
     "name": "stdout",
     "output_type": "stream",
     "text": [
      "Epoch 190, Loss 0.0389\n",
      "Training Accuracy: 0.9593, Testing Accuracy: 0.9667\n",
      "\n"
     ]
    },
    {
     "name": "stdout",
     "output_type": "stream",
     "text": [
      "Epoch 200, Loss 0.0384\n",
      "Training Accuracy: 0.9599, Testing Accuracy: 0.9672\n",
      "\n"
     ]
    },
    {
     "name": "stdout",
     "output_type": "stream",
     "text": [
      "Epoch 210, Loss 0.038\n",
      "Training Accuracy: 0.9602, Testing Accuracy: 0.9672\n",
      "\n"
     ]
    },
    {
     "name": "stdout",
     "output_type": "stream",
     "text": [
      "Epoch 220, Loss 0.0376\n",
      "Training Accuracy: 0.9607, Testing Accuracy: 0.9672\n",
      "\n"
     ]
    },
    {
     "name": "stdout",
     "output_type": "stream",
     "text": [
      "Epoch 230, Loss 0.0372\n",
      "Training Accuracy: 0.9608, Testing Accuracy: 0.9672\n",
      "\n"
     ]
    },
    {
     "name": "stdout",
     "output_type": "stream",
     "text": [
      "Epoch 240, Loss 0.0368\n",
      "Training Accuracy: 0.9609, Testing Accuracy: 0.9672\n",
      "\n"
     ]
    },
    {
     "data": {
      "text/plain": [
       "0.037325543456250915"
      ]
     },
     "execution_count": 23,
     "metadata": {},
     "output_type": "execute_result"
    }
   ],
   "source": [
    "lr_learner.train_loop(dl)"
   ]
  },
  {
   "cell_type": "code",
   "execution_count": 24,
   "id": "ca410940",
   "metadata": {
    "execution": {
     "iopub.execute_input": "2022-03-03T20:10:58.587254Z",
     "iopub.status.busy": "2022-03-03T20:10:58.586748Z",
     "iopub.status.idle": "2022-03-03T20:10:58.789468Z",
     "shell.execute_reply": "2022-03-03T20:10:58.789846Z"
    },
    "papermill": {
     "duration": 0.252195,
     "end_time": "2022-03-03T20:10:58.789981",
     "exception": false,
     "start_time": "2022-03-03T20:10:58.537786",
     "status": "completed"
    },
    "tags": []
   },
   "outputs": [
    {
     "data": {
      "text/plain": [
       "<matplotlib.legend.Legend at 0x7f1e4de7dda0>"
      ]
     },
     "execution_count": 24,
     "metadata": {},
     "output_type": "execute_result"
    },
    {
     "data": {
      "image/png": "[encoded data removed]",
      "text/plain": [
       "<Figure size 1080x720 with 1 Axes>"
      ]
     },
     "metadata": {
      "needs_background": "light"
     },
     "output_type": "display_data"
    }
   ],
   "source": [
    "#comparing the results of NN and LR\n",
    "plt.figure(figsize=(15,10))\n",
    "\n",
    "# Neural Network plots\n",
    "plt.plot(acc_nn.accuracies, 'r-', label = \"Training Accuracies - NN\")\n",
    "plt.plot(acc_nn.test_accuracies, 'g-', label = \"Testing Accuracies - NN\")\n",
    "\n",
    "# Logistic Regression plots\n",
    "plt.plot(acc_lr.accuracies, 'k-', label = \"Training Accuracies - LR\")\n",
    "plt.plot(acc_lr.test_accuracies, 'b-', label = \"Testing Accuracies - LR\")\n",
    "plt.legend()"
   ]
  },
  {
   "cell_type": "markdown",
   "id": "80dfb35c",
   "metadata": {
    "papermill": {
     "duration": 0.038017,
     "end_time": "2022-03-03T20:10:58.866097",
     "exception": false,
     "start_time": "2022-03-03T20:10:58.828080",
     "status": "completed"
    },
    "tags": []
   },
   "source": [
    "#### Plotting the outputs of this layer of the NN.\n"
   ]
  },
  {
   "cell_type": "code",
   "execution_count": 25,
   "id": "45eb2ff5",
   "metadata": {
    "execution": {
     "iopub.execute_input": "2022-03-03T20:10:58.961894Z",
     "iopub.status.busy": "2022-03-03T20:10:58.959690Z",
     "iopub.status.idle": "2022-03-03T20:10:58.976653Z",
     "shell.execute_reply": "2022-03-03T20:10:58.977312Z"
    },
    "papermill": {
     "duration": 0.07335,
     "end_time": "2022-03-03T20:10:58.977458",
     "exception": false,
     "start_time": "2022-03-03T20:10:58.904108",
     "status": "completed"
    },
    "tags": []
   },
   "outputs": [],
   "source": [
    "new_model = Model(layers[:-2])\n",
    "testing_plot = new_model(testing_data_x)"
   ]
  },
  {
   "cell_type": "code",
   "execution_count": 26,
   "id": "4c0a5485",
   "metadata": {
    "execution": {
     "iopub.execute_input": "2022-03-03T20:10:59.069146Z",
     "iopub.status.busy": "2022-03-03T20:10:59.068644Z",
     "iopub.status.idle": "2022-03-03T20:10:59.237783Z",
     "shell.execute_reply": "2022-03-03T20:10:59.237389Z"
    },
    "papermill": {
     "duration": 0.221973,
     "end_time": "2022-03-03T20:10:59.237902",
     "exception": false,
     "start_time": "2022-03-03T20:10:59.015929",
     "status": "completed"
    },
    "tags": []
   },
   "outputs": [
    {
     "data": {
      "text/plain": [
       "Text(0.5, 1.0, 'Outputs')"
      ]
     },
     "execution_count": 26,
     "metadata": {},
     "output_type": "execute_result"
    },
    {
     "data": {
      "image/png": "[encoded data removed]",
      "text/plain": [
       "<Figure size 576x504 with 1 Axes>"
      ]
     },
     "metadata": {
      "needs_background": "light"
     },
     "output_type": "display_data"
    }
   ],
   "source": [
    "# Plotting the scatter plot of points and color coding by class\n",
    "plt.figure(figsize=(8,7))\n",
    "plt.scatter(testing_plot[:,0], testing_plot[:,1], alpha = 0.1, c = y_test.ravel());\n",
    "plt.title('Outputs')"
   ]
  },
  {
   "cell_type": "markdown",
   "id": "a74fcf8f",
   "metadata": {
    "papermill": {
     "duration": 0.039797,
     "end_time": "2022-03-03T20:10:59.317786",
     "exception": false,
     "start_time": "2022-03-03T20:10:59.277989",
     "status": "completed"
    },
    "tags": []
   },
   "source": [
    "Probability contours"
   ]
  },
  {
   "cell_type": "code",
   "execution_count": 27,
   "id": "d0afc8e3",
   "metadata": {
    "execution": {
     "iopub.execute_input": "2022-03-03T20:10:59.409394Z",
     "iopub.status.busy": "2022-03-03T20:10:59.408595Z",
     "iopub.status.idle": "2022-03-03T20:10:59.416751Z",
     "shell.execute_reply": "2022-03-03T20:10:59.417115Z"
    },
    "papermill": {
     "duration": 0.059518,
     "end_time": "2022-03-03T20:10:59.417249",
     "exception": false,
     "start_time": "2022-03-03T20:10:59.357731",
     "status": "completed"
    },
    "tags": []
   },
   "outputs": [],
   "source": [
    "model_prob = Model(layers[-2:]) "
   ]
  },
  {
   "cell_type": "code",
   "execution_count": 28,
   "id": "9b96e238",
   "metadata": {
    "execution": {
     "iopub.execute_input": "2022-03-03T20:10:59.536944Z",
     "iopub.status.busy": "2022-03-03T20:10:59.534161Z",
     "iopub.status.idle": "2022-03-03T20:10:59.551141Z",
     "shell.execute_reply": "2022-03-03T20:10:59.550306Z"
    },
    "papermill": {
     "duration": 0.06193,
     "end_time": "2022-03-03T20:10:59.551275",
     "exception": false,
     "start_time": "2022-03-03T20:10:59.489345",
     "status": "completed"
    },
    "tags": []
   },
   "outputs": [],
   "source": [
    "#creating the x and y ranges according to the above generated plot.\n",
    "x_range = np.linspace(-4, 1, 100) \n",
    "y_range = np.linspace(-6, 6, 100) \n",
    "x_grid, y_grid = np.meshgrid(x_range, y_range) # x_grid and y_grig are of size 100 X 100\n",
    "\n",
    "# converting x_grid and y_grid to continuous arrays\n",
    "x_gridflat = np.ravel(x_grid)\n",
    "y_gridflat = np.ravel(y_grid)\n",
    "\n",
    "# The last layer of the current model takes two columns as input. Hence transpose of np.vstack() is required.\n",
    "X = np.vstack((x_gridflat, y_gridflat)).T\n",
    "\n",
    "prob_contour = model_prob(X).reshape(100,100) "
   ]
  },
  {
   "cell_type": "code",
   "execution_count": 29,
   "id": "da72499a",
   "metadata": {
    "execution": {
     "iopub.execute_input": "2022-03-03T20:10:59.650061Z",
     "iopub.status.busy": "2022-03-03T20:10:59.649568Z",
     "iopub.status.idle": "2022-03-03T20:10:59.891153Z",
     "shell.execute_reply": "2022-03-03T20:10:59.890318Z"
    },
    "papermill": {
     "duration": 0.293531,
     "end_time": "2022-03-03T20:10:59.891289",
     "exception": false,
     "start_time": "2022-03-03T20:10:59.597758",
     "status": "completed"
    },
    "tags": []
   },
   "outputs": [
    {
     "data": {
      "image/png": "[encoded data removed]",
      "text/plain": [
       "<Figure size 720x648 with 1 Axes>"
      ]
     },
     "metadata": {
      "needs_background": "light"
     },
     "output_type": "display_data"
    }
   ],
   "source": [
    "plt.figure(figsize=(10,9))\n",
    "plt.scatter(testing_plot[:,0], testing_plot[:,1], alpha = 0.1, c = y_test.ravel())\n",
    "contours = plt.contour(x_grid,y_grid,prob_contour)\n",
    "plt.title('Probability Contours')\n",
    "plt.clabel(contours, inline = True );"
   ]
  },
  {
   "cell_type": "code",
   "execution_count": null,
   "id": "e81b4ac7",
   "metadata": {
    "papermill": {
     "duration": 0.042038,
     "end_time": "2022-03-03T20:10:59.976610",
     "exception": false,
     "start_time": "2022-03-03T20:10:59.934572",
     "status": "completed"
    },
    "tags": []
   },
   "outputs": [],
   "source": []
  }
 ],
 "metadata": {
  "kernelspec": {
   "display_name": "Python 3",
   "language": "python",
   "name": "python3"
  },
  "language_info": {
   "codemirror_mode": {
    "name": "ipython",
    "version": 3
   },
   "file_extension": ".py",
   "mimetype": "text/x-python",
   "name": "python",
   "nbconvert_exporter": "python",
   "pygments_lexer": "ipython3",
   "version": "3.6.15"
  },
  "papermill": {
   "default_parameters": {},
   "duration": 98.665602,
   "end_time": "2022-03-03T20:11:00.437807",
   "environment_variables": {},
   "exception": null,
   "input_path": "2020-08-11-part2.ipynb",
   "output_path": "2020-08-11-part2.ipynb",
   "parameters": {},
   "start_time": "2022-03-03T20:09:21.772205",
   "version": "2.3.3"
  }
 },
 "nbformat": 4,
 "nbformat_minor": 5
}