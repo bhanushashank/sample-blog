{
 "cells": [
  {
   "cell_type": "markdown",
   "id": "98380cd3",
   "metadata": {
    "papermill": {
     "duration": 0.029854,
     "end_time": "2022-07-04T20:09:48.126472",
     "exception": false,
     "start_time": "2022-07-04T20:09:48.096618",
     "status": "completed"
    },
    "tags": []
   },
   "source": [
    "# Distinguish Your Own Digits (DYOD)"
   ]
  },
  {
   "cell_type": "markdown",
   "id": "ef31240d",
   "metadata": {
    "papermill": {
     "duration": 0.025006,
     "end_time": "2022-07-04T20:09:48.175548",
     "exception": false,
     "start_time": "2022-07-04T20:09:48.150542",
     "status": "completed"
    },
    "tags": []
   },
   "source": [
    "You are going to write a classifier that distinguishes between the number 3 and number 8."
   ]
  },
  {
   "cell_type": "code",
   "execution_count": 1,
   "id": "b15c8646",
   "metadata": {
    "execution": {
     "iopub.execute_input": "2022-07-04T20:09:48.232862Z",
     "iopub.status.busy": "2022-07-04T20:09:48.232262Z",
     "iopub.status.idle": "2022-07-04T20:09:48.242976Z",
     "shell.execute_reply": "2022-07-04T20:09:48.243538Z"
    },
    "papermill": {
     "duration": 0.044885,
     "end_time": "2022-07-04T20:09:48.243679",
     "exception": false,
     "start_time": "2022-07-04T20:09:48.198794",
     "status": "completed"
    },
    "tags": []
   },
   "outputs": [],
   "source": [
    "%load_ext autoreload\n",
    "%autoreload 2"
   ]
  },
  {
   "cell_type": "code",
   "execution_count": 2,
   "id": "22ef38dc",
   "metadata": {
    "execution": {
     "iopub.execute_input": "2022-07-04T20:09:48.303293Z",
     "iopub.status.busy": "2022-07-04T20:09:48.300754Z",
     "iopub.status.idle": "2022-07-04T20:09:48.816105Z",
     "shell.execute_reply": "2022-07-04T20:09:48.815583Z"
    },
    "papermill": {
     "duration": 0.54925,
     "end_time": "2022-07-04T20:09:48.816235",
     "exception": false,
     "start_time": "2022-07-04T20:09:48.266985",
     "status": "completed"
    },
    "tags": []
   },
   "outputs": [],
   "source": [
    "%matplotlib inline\n",
    "import numpy as np\n",
    "import matplotlib.pyplot as plt\n",
    "import pandas as pd"
   ]
  },
  {
   "cell_type": "markdown",
   "id": "ba036198",
   "metadata": {
    "papermill": {
     "duration": 0.023413,
     "end_time": "2022-07-04T20:09:48.863084",
     "exception": false,
     "start_time": "2022-07-04T20:09:48.839671",
     "status": "completed"
    },
    "tags": []
   },
   "source": [
    "From the command line run `pip install mnist`. This is a library that will help you bring down the mnist dataset. If you run this from a notebook, you need to put  `!pip install mnist` in a cell by itself."
   ]
  },
  {
   "cell_type": "code",
   "execution_count": 3,
   "id": "bb6ad8a1",
   "metadata": {
    "execution": {
     "iopub.execute_input": "2022-07-04T20:09:48.917416Z",
     "iopub.status.busy": "2022-07-04T20:09:48.914752Z",
     "iopub.status.idle": "2022-07-04T20:09:50.567620Z",
     "shell.execute_reply": "2022-07-04T20:09:50.566022Z"
    },
    "papermill": {
     "duration": 1.681379,
     "end_time": "2022-07-04T20:09:50.567767",
     "exception": false,
     "start_time": "2022-07-04T20:09:48.886388",
     "status": "completed"
    },
    "tags": []
   },
   "outputs": [
    {
     "name": "stdout",
     "output_type": "stream",
     "text": [
      "Collecting mnist\r\n"
     ]
    },
    {
     "name": "stdout",
     "output_type": "stream",
     "text": [
      "  Downloading mnist-0.2.2-py2.py3-none-any.whl (3.5 kB)\r\n",
      "Requirement already satisfied: numpy in /opt/hostedtoolcache/Python/3.6.15/x64/lib/python3.6/site-packages (from mnist) (1.19.5)\r\n"
     ]
    },
    {
     "name": "stdout",
     "output_type": "stream",
     "text": [
      "Installing collected packages: mnist\r\n"
     ]
    },
    {
     "name": "stdout",
     "output_type": "stream",
     "text": [
      "Successfully installed mnist-0.2.2\r\n"
     ]
    }
   ],
   "source": [
    "!pip install mnist"
   ]
  },
  {
   "cell_type": "markdown",
   "id": "69df9c9a",
   "metadata": {
    "papermill": {
     "duration": 0.02769,
     "end_time": "2022-07-04T20:09:50.621252",
     "exception": false,
     "start_time": "2022-07-04T20:09:50.593562",
     "status": "completed"
    },
    "tags": []
   },
   "source": [
    "## Preparing the Data"
   ]
  },
  {
   "cell_type": "code",
   "execution_count": 4,
   "id": "7f69d806",
   "metadata": {
    "execution": {
     "iopub.execute_input": "2022-07-04T20:09:50.689967Z",
     "iopub.status.busy": "2022-07-04T20:09:50.687877Z",
     "iopub.status.idle": "2022-07-04T20:09:50.692186Z",
     "shell.execute_reply": "2022-07-04T20:09:50.692606Z"
    },
    "papermill": {
     "duration": 0.047366,
     "end_time": "2022-07-04T20:09:50.692734",
     "exception": false,
     "start_time": "2022-07-04T20:09:50.645368",
     "status": "completed"
    },
    "tags": []
   },
   "outputs": [],
   "source": [
    "import mnist"
   ]
  },
  {
   "cell_type": "code",
   "execution_count": 5,
   "id": "a411e44f",
   "metadata": {
    "execution": {
     "iopub.execute_input": "2022-07-04T20:09:50.756233Z",
     "iopub.status.busy": "2022-07-04T20:09:50.746912Z",
     "iopub.status.idle": "2022-07-04T20:09:51.340119Z",
     "shell.execute_reply": "2022-07-04T20:09:51.339106Z"
    },
    "papermill": {
     "duration": 0.62329,
     "end_time": "2022-07-04T20:09:51.340266",
     "exception": false,
     "start_time": "2022-07-04T20:09:50.716976",
     "status": "completed"
    },
    "tags": []
   },
   "outputs": [],
   "source": [
    "train_images = mnist.train_images()\n",
    "train_labels = mnist.train_labels()"
   ]
  },
  {
   "cell_type": "code",
   "execution_count": 6,
   "id": "dceab3a5",
   "metadata": {
    "execution": {
     "iopub.execute_input": "2022-07-04T20:09:51.395488Z",
     "iopub.status.busy": "2022-07-04T20:09:51.394905Z",
     "iopub.status.idle": "2022-07-04T20:09:51.408299Z",
     "shell.execute_reply": "2022-07-04T20:09:51.408772Z"
    },
    "papermill": {
     "duration": 0.043488,
     "end_time": "2022-07-04T20:09:51.408901",
     "exception": false,
     "start_time": "2022-07-04T20:09:51.365413",
     "status": "completed"
    },
    "tags": []
   },
   "outputs": [
    {
     "data": {
      "text/plain": [
       "((60000, 28, 28), (60000,))"
      ]
     },
     "execution_count": 6,
     "metadata": {},
     "output_type": "execute_result"
    }
   ],
   "source": [
    "train_images.shape, train_labels.shape"
   ]
  },
  {
   "cell_type": "code",
   "execution_count": 7,
   "id": "f50dc2bb",
   "metadata": {
    "execution": {
     "iopub.execute_input": "2022-07-04T20:09:51.461754Z",
     "iopub.status.busy": "2022-07-04T20:09:51.461181Z",
     "iopub.status.idle": "2022-07-04T20:09:51.682315Z",
     "shell.execute_reply": "2022-07-04T20:09:51.681747Z"
    },
    "papermill": {
     "duration": 0.249046,
     "end_time": "2022-07-04T20:09:51.682444",
     "exception": false,
     "start_time": "2022-07-04T20:09:51.433398",
     "status": "completed"
    },
    "tags": []
   },
   "outputs": [],
   "source": [
    "test_images = mnist.test_images()\n",
    "test_labels = mnist.test_labels()"
   ]
  },
  {
   "cell_type": "code",
   "execution_count": 8,
   "id": "fc38cf1b",
   "metadata": {
    "execution": {
     "iopub.execute_input": "2022-07-04T20:09:51.739559Z",
     "iopub.status.busy": "2022-07-04T20:09:51.738982Z",
     "iopub.status.idle": "2022-07-04T20:09:51.749907Z",
     "shell.execute_reply": "2022-07-04T20:09:51.750472Z"
    },
    "papermill": {
     "duration": 0.043235,
     "end_time": "2022-07-04T20:09:51.750598",
     "exception": false,
     "start_time": "2022-07-04T20:09:51.707363",
     "status": "completed"
    },
    "tags": []
   },
   "outputs": [
    {
     "data": {
      "text/plain": [
       "((10000, 28, 28), (10000,))"
      ]
     },
     "execution_count": 8,
     "metadata": {},
     "output_type": "execute_result"
    }
   ],
   "source": [
    "test_images.shape, test_labels.shape"
   ]
  },
  {
   "cell_type": "code",
   "execution_count": 9,
   "id": "f9ed8fe0",
   "metadata": {
    "execution": {
     "iopub.execute_input": "2022-07-04T20:09:51.804110Z",
     "iopub.status.busy": "2022-07-04T20:09:51.803533Z",
     "iopub.status.idle": "2022-07-04T20:09:51.941489Z",
     "shell.execute_reply": "2022-07-04T20:09:51.941999Z"
    },
    "papermill": {
     "duration": 0.166671,
     "end_time": "2022-07-04T20:09:51.942148",
     "exception": false,
     "start_time": "2022-07-04T20:09:51.775477",
     "status": "completed"
    },
    "tags": []
   },
   "outputs": [
    {
     "name": "stdout",
     "output_type": "stream",
     "text": [
      "2\n"
     ]
    },
    {
     "data": {
      "text/plain": [
       "<matplotlib.image.AxesImage at 0x7f44339eb4a8>"
      ]
     },
     "execution_count": 9,
     "metadata": {},
     "output_type": "execute_result"
    },
    {
     "data": {
      "image/png": "[encoded data removed]",
      "text/plain": [
       "<Figure size 432x288 with 1 Axes>"
      ]
     },
     "metadata": {
      "needs_background": "light"
     },
     "output_type": "display_data"
    }
   ],
   "source": [
    "image_index = 7776 # You may select anything up to 60,000\n",
    "print(train_labels[image_index]) \n",
    "plt.imshow(train_images[image_index], cmap='Greys')"
   ]
  },
  {
   "cell_type": "markdown",
   "id": "a8d2388d",
   "metadata": {
    "papermill": {
     "duration": 0.026422,
     "end_time": "2022-07-04T20:09:51.995048",
     "exception": false,
     "start_time": "2022-07-04T20:09:51.968626",
     "status": "completed"
    },
    "tags": []
   },
   "source": [
    "## Filter data to get 3 and 8 out"
   ]
  },
  {
   "cell_type": "code",
   "execution_count": 10,
   "id": "776f7fc7",
   "metadata": {
    "execution": {
     "iopub.execute_input": "2022-07-04T20:09:52.055839Z",
     "iopub.status.busy": "2022-07-04T20:09:52.055224Z",
     "iopub.status.idle": "2022-07-04T20:09:52.071975Z",
     "shell.execute_reply": "2022-07-04T20:09:52.072436Z"
    },
    "papermill": {
     "duration": 0.051632,
     "end_time": "2022-07-04T20:09:52.072575",
     "exception": false,
     "start_time": "2022-07-04T20:09:52.020943",
     "status": "completed"
    },
    "tags": []
   },
   "outputs": [],
   "source": [
    "train_filter = np.where((train_labels == 3 ) | (train_labels == 8))\n",
    "test_filter = np.where((test_labels == 3) | (test_labels == 8))\n",
    "X_train, y_train = train_images[train_filter], train_labels[train_filter]\n",
    "X_test, y_test = test_images[test_filter], test_labels[test_filter]"
   ]
  },
  {
   "cell_type": "markdown",
   "id": "948f0b7e",
   "metadata": {
    "papermill": {
     "duration": 0.026289,
     "end_time": "2022-07-04T20:09:52.125026",
     "exception": false,
     "start_time": "2022-07-04T20:09:52.098737",
     "status": "completed"
    },
    "tags": []
   },
   "source": [
    "We normalize the pizel values in the 0 to 1 range"
   ]
  },
  {
   "cell_type": "code",
   "execution_count": 11,
   "id": "ee4c2166",
   "metadata": {
    "execution": {
     "iopub.execute_input": "2022-07-04T20:09:52.180639Z",
     "iopub.status.busy": "2022-07-04T20:09:52.180060Z",
     "iopub.status.idle": "2022-07-04T20:09:52.228771Z",
     "shell.execute_reply": "2022-07-04T20:09:52.228179Z"
    },
    "papermill": {
     "duration": 0.077758,
     "end_time": "2022-07-04T20:09:52.228903",
     "exception": false,
     "start_time": "2022-07-04T20:09:52.151145",
     "status": "completed"
    },
    "tags": []
   },
   "outputs": [],
   "source": [
    "X_train = X_train/255.\n",
    "X_test = X_test/255."
   ]
  },
  {
   "cell_type": "markdown",
   "id": "ddcf4fab",
   "metadata": {
    "papermill": {
     "duration": 0.026218,
     "end_time": "2022-07-04T20:09:52.281467",
     "exception": false,
     "start_time": "2022-07-04T20:09:52.255249",
     "status": "completed"
    },
    "tags": []
   },
   "source": [
    "And setup the labels as 1 (when the digit is 3) and 0 (when the digit is 8)"
   ]
  },
  {
   "cell_type": "code",
   "execution_count": 12,
   "id": "7dc908f2",
   "metadata": {
    "execution": {
     "iopub.execute_input": "2022-07-04T20:09:52.338318Z",
     "iopub.status.busy": "2022-07-04T20:09:52.337714Z",
     "iopub.status.idle": "2022-07-04T20:09:52.349685Z",
     "shell.execute_reply": "2022-07-04T20:09:52.349212Z"
    },
    "papermill": {
     "duration": 0.042482,
     "end_time": "2022-07-04T20:09:52.349800",
     "exception": false,
     "start_time": "2022-07-04T20:09:52.307318",
     "status": "completed"
    },
    "tags": []
   },
   "outputs": [],
   "source": [
    "y_train = 1*(y_train==3)\n",
    "y_test = 1*(y_test==3)"
   ]
  },
  {
   "cell_type": "code",
   "execution_count": 13,
   "id": "01e4e969",
   "metadata": {
    "execution": {
     "iopub.execute_input": "2022-07-04T20:09:52.419565Z",
     "iopub.status.busy": "2022-07-04T20:09:52.418985Z",
     "iopub.status.idle": "2022-07-04T20:09:52.422238Z",
     "shell.execute_reply": "2022-07-04T20:09:52.422694Z"
    },
    "papermill": {
     "duration": 0.047096,
     "end_time": "2022-07-04T20:09:52.422816",
     "exception": false,
     "start_time": "2022-07-04T20:09:52.375720",
     "status": "completed"
    },
    "tags": []
   },
   "outputs": [
    {
     "data": {
      "text/plain": [
       "((11982, 28, 28), (1984, 28, 28))"
      ]
     },
     "execution_count": 13,
     "metadata": {},
     "output_type": "execute_result"
    }
   ],
   "source": [
    "X_train.shape, X_test.shape"
   ]
  },
  {
   "cell_type": "markdown",
   "id": "5ccf3f85",
   "metadata": {
    "papermill": {
     "duration": 0.026496,
     "end_time": "2022-07-04T20:09:52.475436",
     "exception": false,
     "start_time": "2022-07-04T20:09:52.448940",
     "status": "completed"
    },
    "tags": []
   },
   "source": [
    "We reshape the data to flatten the image pixels into a set of features or co-variates:"
   ]
  },
  {
   "cell_type": "code",
   "execution_count": 14,
   "id": "5286a4a3",
   "metadata": {
    "execution": {
     "iopub.execute_input": "2022-07-04T20:09:52.536344Z",
     "iopub.status.busy": "2022-07-04T20:09:52.531308Z",
     "iopub.status.idle": "2022-07-04T20:09:52.545934Z",
     "shell.execute_reply": "2022-07-04T20:09:52.545469Z"
    },
    "papermill": {
     "duration": 0.044432,
     "end_time": "2022-07-04T20:09:52.546040",
     "exception": false,
     "start_time": "2022-07-04T20:09:52.501608",
     "status": "completed"
    },
    "tags": []
   },
   "outputs": [
    {
     "data": {
      "text/plain": [
       "((11982, 784), (1984, 784))"
      ]
     },
     "execution_count": 14,
     "metadata": {},
     "output_type": "execute_result"
    }
   ],
   "source": [
    "X_train = X_train.reshape(X_train.shape[0], -1)\n",
    "X_test = X_test.reshape(X_test.shape[0], -1)\n",
    "X_train.shape, X_test.shape"
   ]
  },
  {
   "cell_type": "code",
   "execution_count": 15,
   "id": "73c5f88a",
   "metadata": {
    "execution": {
     "iopub.execute_input": "2022-07-04T20:09:52.607644Z",
     "iopub.status.busy": "2022-07-04T20:09:52.607070Z",
     "iopub.status.idle": "2022-07-04T20:09:52.623002Z",
     "shell.execute_reply": "2022-07-04T20:09:52.622529Z"
    },
    "papermill": {
     "duration": 0.050459,
     "end_time": "2022-07-04T20:09:52.623109",
     "exception": false,
     "start_time": "2022-07-04T20:09:52.572650",
     "status": "completed"
    },
    "tags": []
   },
   "outputs": [],
   "source": [
    "#Impoting functions from 'Kudzu'\n",
    "from kudzu.model import Model\n",
    "from kudzu.train import Learner\n",
    "from kudzu.optim import GD\n",
    "from kudzu.data import Data, Sampler,Dataloader\n",
    "\n",
    "from kudzu.callbacks import AccCallback\n",
    "from kudzu.callbacks import ClfCallback\n",
    "\n",
    "from kudzu.loss import MSE\n",
    "\n",
    "from kudzu.layer import Sigmoid,Relu\n",
    "from kudzu.layer import Affine"
   ]
  },
  {
   "cell_type": "markdown",
   "id": "bc01172a",
   "metadata": {
    "papermill": {
     "duration": 0.027435,
     "end_time": "2022-07-04T20:09:52.677106",
     "exception": false,
     "start_time": "2022-07-04T20:09:52.649671",
     "status": "completed"
    },
    "tags": []
   },
   "source": [
    "### Let us create a `Config` class, to store important parameters. \n",
    "This class essentially plays the role of a dictionary."
   ]
  },
  {
   "cell_type": "code",
   "execution_count": 16,
   "id": "978281aa",
   "metadata": {
    "execution": {
     "iopub.execute_input": "2022-07-04T20:09:52.733850Z",
     "iopub.status.busy": "2022-07-04T20:09:52.733272Z",
     "iopub.status.idle": "2022-07-04T20:09:52.746164Z",
     "shell.execute_reply": "2022-07-04T20:09:52.745697Z"
    },
    "papermill": {
     "duration": 0.042736,
     "end_time": "2022-07-04T20:09:52.746289",
     "exception": false,
     "start_time": "2022-07-04T20:09:52.703553",
     "status": "completed"
    },
    "tags": []
   },
   "outputs": [],
   "source": [
    "class Config:\n",
    "    pass\n",
    "config = Config()\n",
    "config.lr = 0.001\n",
    "config.num_epochs = 250\n",
    "config.bs = 50"
   ]
  },
  {
   "cell_type": "markdown",
   "id": "1385fa59",
   "metadata": {
    "papermill": {
     "duration": 0.02654,
     "end_time": "2022-07-04T20:09:52.799342",
     "exception": false,
     "start_time": "2022-07-04T20:09:52.772802",
     "status": "completed"
    },
    "tags": []
   },
   "source": [
    "### Running Models with the Training data\n",
    "Details about the network layers:\n",
    "- A first affine layer has 784 inputs and does 100 affine transforms. These are followed by a Relu\n",
    "- A second affine layer has 100 inputs from the 100 activations of the past layer, and does 100 affine transforms. These are followed by a Relu\n",
    "- A third affine layer has 100 activations and does 2 affine transformations to create an embedding for visualization. There is no non-linearity here.\n",
    "- A final \"logistic regression\" which has an affine transform from 2 inputs to 1 output, which is squeezed through a sigmoid.\n"
   ]
  },
  {
   "cell_type": "code",
   "execution_count": 17,
   "id": "2b9c66db",
   "metadata": {
    "execution": {
     "iopub.execute_input": "2022-07-04T20:09:52.867837Z",
     "iopub.status.busy": "2022-07-04T20:09:52.867247Z",
     "iopub.status.idle": "2022-07-04T20:09:52.874403Z",
     "shell.execute_reply": "2022-07-04T20:09:52.873909Z"
    },
    "papermill": {
     "duration": 0.048742,
     "end_time": "2022-07-04T20:09:52.874516",
     "exception": false,
     "start_time": "2022-07-04T20:09:52.825774",
     "status": "completed"
    },
    "tags": []
   },
   "outputs": [],
   "source": [
    "data = Data(X_train, y_train.reshape(-1,1))\n",
    "sampler = Sampler(data, config.bs, shuffle=True)\n",
    "\n",
    "dl = Dataloader(data, sampler)\n",
    "\n",
    "opt = GD(config.lr)\n",
    "loss = MSE()"
   ]
  },
  {
   "cell_type": "code",
   "execution_count": 18,
   "id": "b275e4c2",
   "metadata": {
    "execution": {
     "iopub.execute_input": "2022-07-04T20:09:52.931456Z",
     "iopub.status.busy": "2022-07-04T20:09:52.930882Z",
     "iopub.status.idle": "2022-07-04T20:09:52.942116Z",
     "shell.execute_reply": "2022-07-04T20:09:52.942702Z"
    },
    "papermill": {
     "duration": 0.04179,
     "end_time": "2022-07-04T20:09:52.942826",
     "exception": false,
     "start_time": "2022-07-04T20:09:52.901036",
     "status": "completed"
    },
    "tags": []
   },
   "outputs": [],
   "source": [
    "training_data_x = X_train\n",
    "testing_data_x = X_test\n",
    "training_data_y = y_train.reshape(-1,1)\n",
    "testing_data_y = y_test.reshape(-1,1)"
   ]
  },
  {
   "cell_type": "code",
   "execution_count": 19,
   "id": "76951160",
   "metadata": {
    "execution": {
     "iopub.execute_input": "2022-07-04T20:09:52.999561Z",
     "iopub.status.busy": "2022-07-04T20:09:52.998981Z",
     "iopub.status.idle": "2022-07-04T20:09:53.015343Z",
     "shell.execute_reply": "2022-07-04T20:09:53.014771Z"
    },
    "papermill": {
     "duration": 0.046351,
     "end_time": "2022-07-04T20:09:53.015448",
     "exception": false,
     "start_time": "2022-07-04T20:09:52.969097",
     "status": "completed"
    },
    "tags": []
   },
   "outputs": [
    {
     "name": "stdout",
     "output_type": "stream",
     "text": [
      "xavier\n",
      "xavier\n",
      "xavier\n",
      "xavier\n",
      "xavier\n"
     ]
    }
   ],
   "source": [
    "layers = [Affine(\"first\", 784, 100), Relu(\"first\"), Affine(\"second\", 100, 100), Relu(\"second\"), Affine(\"third\", 100, 2), Affine(\"last\", 2, 1), Sigmoid(\"last\")]\n",
    "model_nn = Model(layers)\n",
    "model_lr = Model([Affine(\"logits\", 784, 1), Sigmoid(\"sigmoid\")])"
   ]
  },
  {
   "cell_type": "code",
   "execution_count": 20,
   "id": "6eede77a",
   "metadata": {
    "execution": {
     "iopub.execute_input": "2022-07-04T20:09:53.085546Z",
     "iopub.status.busy": "2022-07-04T20:09:53.084969Z",
     "iopub.status.idle": "2022-07-04T20:09:53.087331Z",
     "shell.execute_reply": "2022-07-04T20:09:53.087774Z"
    },
    "papermill": {
     "duration": 0.045689,
     "end_time": "2022-07-04T20:09:53.087896",
     "exception": false,
     "start_time": "2022-07-04T20:09:53.042207",
     "status": "completed"
    },
    "tags": []
   },
   "outputs": [],
   "source": [
    "nn_learner = Learner(loss, model_nn, opt, config.num_epochs)\n",
    "acc_nn = ClfCallback(nn_learner, config.bs, training_data_x , testing_data_x, training_data_y, testing_data_y)\n",
    "nn_learner.set_callbacks([acc_nn])"
   ]
  },
  {
   "cell_type": "code",
   "execution_count": 21,
   "id": "877b6cc7",
   "metadata": {
    "execution": {
     "iopub.execute_input": "2022-07-04T20:09:53.155063Z",
     "iopub.status.busy": "2022-07-04T20:09:53.153271Z",
     "iopub.status.idle": "2022-07-04T20:09:53.160527Z",
     "shell.execute_reply": "2022-07-04T20:09:53.159977Z"
    },
    "papermill": {
     "duration": 0.046028,
     "end_time": "2022-07-04T20:09:53.160632",
     "exception": false,
     "start_time": "2022-07-04T20:09:53.114604",
     "status": "completed"
    },
    "tags": []
   },
   "outputs": [],
   "source": [
    "lr_learner = Learner(loss, model_lr, opt, config.num_epochs)\n",
    "acc_lr = ClfCallback(lr_learner, config.bs, training_data_x , testing_data_x, training_data_y, testing_data_y)\n",
    "lr_learner.set_callbacks([acc_lr])"
   ]
  },
  {
   "cell_type": "code",
   "execution_count": 22,
   "id": "d9b133c3",
   "metadata": {
    "execution": {
     "iopub.execute_input": "2022-07-04T20:09:53.230523Z",
     "iopub.status.busy": "2022-07-04T20:09:53.224420Z",
     "iopub.status.idle": "2022-07-04T20:11:06.890443Z",
     "shell.execute_reply": "2022-07-04T20:11:06.891334Z"
    },
    "papermill": {
     "duration": 73.704045,
     "end_time": "2022-07-04T20:11:06.891484",
     "exception": false,
     "start_time": "2022-07-04T20:09:53.187439",
     "status": "completed"
    },
    "tags": []
   },
   "outputs": [
    {
     "name": "stdout",
     "output_type": "stream",
     "text": [
      "Epoch 0, Loss 0.226\n",
      "Training Accuracy: 0.7786, Testing Accuracy: 0.7818\n",
      "\n"
     ]
    },
    {
     "name": "stdout",
     "output_type": "stream",
     "text": [
      "Epoch 10, Loss 0.0753\n",
      "Training Accuracy: 0.9326, Testing Accuracy: 0.9395\n",
      "\n"
     ]
    },
    {
     "name": "stdout",
     "output_type": "stream",
     "text": [
      "Epoch 20, Loss 0.0507\n",
      "Training Accuracy: 0.9465, Testing Accuracy: 0.9551\n",
      "\n"
     ]
    },
    {
     "name": "stdout",
     "output_type": "stream",
     "text": [
      "Epoch 30, Loss 0.0417\n",
      "Training Accuracy: 0.9530, Testing Accuracy: 0.9592\n",
      "\n"
     ]
    },
    {
     "name": "stdout",
     "output_type": "stream",
     "text": [
      "Epoch 40, Loss 0.0369\n",
      "Training Accuracy: 0.9580, Testing Accuracy: 0.9652\n",
      "\n"
     ]
    },
    {
     "name": "stdout",
     "output_type": "stream",
     "text": [
      "Epoch 50, Loss 0.0339\n",
      "Training Accuracy: 0.9600, Testing Accuracy: 0.9657\n",
      "\n"
     ]
    },
    {
     "name": "stdout",
     "output_type": "stream",
     "text": [
      "Epoch 60, Loss 0.0317\n",
      "Training Accuracy: 0.9620, Testing Accuracy: 0.9662\n",
      "\n"
     ]
    },
    {
     "name": "stdout",
     "output_type": "stream",
     "text": [
      "Epoch 70, Loss 0.0301\n",
      "Training Accuracy: 0.9641, Testing Accuracy: 0.9682\n",
      "\n"
     ]
    },
    {
     "name": "stdout",
     "output_type": "stream",
     "text": [
      "Epoch 80, Loss 0.0287\n",
      "Training Accuracy: 0.9664, Testing Accuracy: 0.9693\n",
      "\n"
     ]
    },
    {
     "name": "stdout",
     "output_type": "stream",
     "text": [
      "Epoch 90, Loss 0.0276\n",
      "Training Accuracy: 0.9668, Testing Accuracy: 0.9698\n",
      "\n"
     ]
    },
    {
     "name": "stdout",
     "output_type": "stream",
     "text": [
      "Epoch 100, Loss 0.0266\n",
      "Training Accuracy: 0.9681, Testing Accuracy: 0.9708\n",
      "\n"
     ]
    },
    {
     "name": "stdout",
     "output_type": "stream",
     "text": [
      "Epoch 110, Loss 0.0257\n",
      "Training Accuracy: 0.9693, Testing Accuracy: 0.9713\n",
      "\n"
     ]
    },
    {
     "name": "stdout",
     "output_type": "stream",
     "text": [
      "Epoch 120, Loss 0.0249\n",
      "Training Accuracy: 0.9703, Testing Accuracy: 0.9718\n",
      "\n"
     ]
    },
    {
     "name": "stdout",
     "output_type": "stream",
     "text": [
      "Epoch 130, Loss 0.0242\n",
      "Training Accuracy: 0.9709, Testing Accuracy: 0.9728\n",
      "\n"
     ]
    },
    {
     "name": "stdout",
     "output_type": "stream",
     "text": [
      "Epoch 140, Loss 0.0236\n",
      "Training Accuracy: 0.9716, Testing Accuracy: 0.9728\n",
      "\n"
     ]
    },
    {
     "name": "stdout",
     "output_type": "stream",
     "text": [
      "Epoch 150, Loss 0.023\n",
      "Training Accuracy: 0.9728, Testing Accuracy: 0.9738\n",
      "\n"
     ]
    },
    {
     "name": "stdout",
     "output_type": "stream",
     "text": [
      "Epoch 160, Loss 0.0225\n",
      "Training Accuracy: 0.9735, Testing Accuracy: 0.9738\n",
      "\n"
     ]
    },
    {
     "name": "stdout",
     "output_type": "stream",
     "text": [
      "Epoch 170, Loss 0.022\n",
      "Training Accuracy: 0.9741, Testing Accuracy: 0.9738\n",
      "\n"
     ]
    },
    {
     "name": "stdout",
     "output_type": "stream",
     "text": [
      "Epoch 180, Loss 0.0215\n",
      "Training Accuracy: 0.9745, Testing Accuracy: 0.9748\n",
      "\n"
     ]
    },
    {
     "name": "stdout",
     "output_type": "stream",
     "text": [
      "Epoch 190, Loss 0.021\n",
      "Training Accuracy: 0.9752, Testing Accuracy: 0.9748\n",
      "\n"
     ]
    },
    {
     "name": "stdout",
     "output_type": "stream",
     "text": [
      "Epoch 200, Loss 0.0206\n",
      "Training Accuracy: 0.9759, Testing Accuracy: 0.9753\n",
      "\n"
     ]
    },
    {
     "name": "stdout",
     "output_type": "stream",
     "text": [
      "Epoch 210, Loss 0.0202\n",
      "Training Accuracy: 0.9769, Testing Accuracy: 0.9758\n",
      "\n"
     ]
    },
    {
     "name": "stdout",
     "output_type": "stream",
     "text": [
      "Epoch 220, Loss 0.0198\n",
      "Training Accuracy: 0.9776, Testing Accuracy: 0.9758\n",
      "\n"
     ]
    },
    {
     "name": "stdout",
     "output_type": "stream",
     "text": [
      "Epoch 230, Loss 0.0194\n",
      "Training Accuracy: 0.9781, Testing Accuracy: 0.9758\n",
      "\n"
     ]
    },
    {
     "name": "stdout",
     "output_type": "stream",
     "text": [
      "Epoch 240, Loss 0.019\n",
      "Training Accuracy: 0.9789, Testing Accuracy: 0.9763\n",
      "\n"
     ]
    },
    {
     "data": {
      "text/plain": [
       "0.040278336774080915"
      ]
     },
     "execution_count": 22,
     "metadata": {},
     "output_type": "execute_result"
    }
   ],
   "source": [
    "nn_learner.train_loop(dl)"
   ]
  },
  {
   "cell_type": "code",
   "execution_count": 23,
   "id": "e0163366",
   "metadata": {
    "execution": {
     "iopub.execute_input": "2022-07-04T20:11:06.971000Z",
     "iopub.status.busy": "2022-07-04T20:11:06.970373Z",
     "iopub.status.idle": "2022-07-04T20:11:20.112989Z",
     "shell.execute_reply": "2022-07-04T20:11:20.113805Z"
    },
    "papermill": {
     "duration": 13.187774,
     "end_time": "2022-07-04T20:11:20.113953",
     "exception": false,
     "start_time": "2022-07-04T20:11:06.926179",
     "status": "completed"
    },
    "tags": []
   },
   "outputs": [
    {
     "name": "stdout",
     "output_type": "stream",
     "text": [
      "Epoch 0, Loss 0.233\n",
      "Training Accuracy: 0.7172, Testing Accuracy: 0.7278\n",
      "\n"
     ]
    },
    {
     "name": "stdout",
     "output_type": "stream",
     "text": [
      "Epoch 10, Loss 0.1054\n",
      "Training Accuracy: 0.8981, Testing Accuracy: 0.9093\n",
      "\n"
     ]
    },
    {
     "name": "stdout",
     "output_type": "stream",
     "text": [
      "Epoch 20, Loss 0.0816\n",
      "Training Accuracy: 0.9201, Testing Accuracy: 0.9335\n",
      "\n"
     ]
    },
    {
     "name": "stdout",
     "output_type": "stream",
     "text": [
      "Epoch 30, Loss 0.0702\n",
      "Training Accuracy: 0.9335, Testing Accuracy: 0.9430\n",
      "\n"
     ]
    },
    {
     "name": "stdout",
     "output_type": "stream",
     "text": [
      "Epoch 40, Loss 0.0633\n",
      "Training Accuracy: 0.9389, Testing Accuracy: 0.9481\n",
      "\n"
     ]
    },
    {
     "name": "stdout",
     "output_type": "stream",
     "text": [
      "Epoch 50, Loss 0.0586\n",
      "Training Accuracy: 0.9428, Testing Accuracy: 0.9506\n",
      "\n"
     ]
    },
    {
     "name": "stdout",
     "output_type": "stream",
     "text": [
      "Epoch 60, Loss 0.0551\n",
      "Training Accuracy: 0.9452, Testing Accuracy: 0.9531\n",
      "\n"
     ]
    },
    {
     "name": "stdout",
     "output_type": "stream",
     "text": [
      "Epoch 70, Loss 0.0524\n",
      "Training Accuracy: 0.9474, Testing Accuracy: 0.9572\n",
      "\n"
     ]
    },
    {
     "name": "stdout",
     "output_type": "stream",
     "text": [
      "Epoch 80, Loss 0.0503\n",
      "Training Accuracy: 0.9487, Testing Accuracy: 0.9587\n",
      "\n"
     ]
    },
    {
     "name": "stdout",
     "output_type": "stream",
     "text": [
      "Epoch 90, Loss 0.0485\n",
      "Training Accuracy: 0.9501, Testing Accuracy: 0.9587\n",
      "\n"
     ]
    },
    {
     "name": "stdout",
     "output_type": "stream",
     "text": [
      "Epoch 100, Loss 0.047\n",
      "Training Accuracy: 0.9512, Testing Accuracy: 0.9602\n",
      "\n"
     ]
    },
    {
     "name": "stdout",
     "output_type": "stream",
     "text": [
      "Epoch 110, Loss 0.0458\n",
      "Training Accuracy: 0.9526, Testing Accuracy: 0.9617\n",
      "\n"
     ]
    },
    {
     "name": "stdout",
     "output_type": "stream",
     "text": [
      "Epoch 120, Loss 0.0447\n",
      "Training Accuracy: 0.9536, Testing Accuracy: 0.9622\n",
      "\n"
     ]
    },
    {
     "name": "stdout",
     "output_type": "stream",
     "text": [
      "Epoch 130, Loss 0.0437\n",
      "Training Accuracy: 0.9546, Testing Accuracy: 0.9632\n",
      "\n"
     ]
    },
    {
     "name": "stdout",
     "output_type": "stream",
     "text": [
      "Epoch 140, Loss 0.0428\n",
      "Training Accuracy: 0.9548, Testing Accuracy: 0.9632\n",
      "\n"
     ]
    },
    {
     "name": "stdout",
     "output_type": "stream",
     "text": [
      "Epoch 150, Loss 0.0421\n",
      "Training Accuracy: 0.9556, Testing Accuracy: 0.9637\n",
      "\n"
     ]
    },
    {
     "name": "stdout",
     "output_type": "stream",
     "text": [
      "Epoch 160, Loss 0.0414\n",
      "Training Accuracy: 0.9562, Testing Accuracy: 0.9637\n",
      "\n"
     ]
    },
    {
     "name": "stdout",
     "output_type": "stream",
     "text": [
      "Epoch 170, Loss 0.0408\n",
      "Training Accuracy: 0.9566, Testing Accuracy: 0.9647\n",
      "\n"
     ]
    },
    {
     "name": "stdout",
     "output_type": "stream",
     "text": [
      "Epoch 180, Loss 0.0402\n",
      "Training Accuracy: 0.9568, Testing Accuracy: 0.9652\n",
      "\n"
     ]
    },
    {
     "name": "stdout",
     "output_type": "stream",
     "text": [
      "Epoch 190, Loss 0.0396\n",
      "Training Accuracy: 0.9571, Testing Accuracy: 0.9657\n",
      "\n"
     ]
    },
    {
     "name": "stdout",
     "output_type": "stream",
     "text": [
      "Epoch 200, Loss 0.0391\n",
      "Training Accuracy: 0.9574, Testing Accuracy: 0.9657\n",
      "\n"
     ]
    },
    {
     "name": "stdout",
     "output_type": "stream",
     "text": [
      "Epoch 210, Loss 0.0387\n",
      "Training Accuracy: 0.9579, Testing Accuracy: 0.9662\n",
      "\n"
     ]
    },
    {
     "name": "stdout",
     "output_type": "stream",
     "text": [
      "Epoch 220, Loss 0.0383\n",
      "Training Accuracy: 0.9584, Testing Accuracy: 0.9662\n",
      "\n"
     ]
    },
    {
     "name": "stdout",
     "output_type": "stream",
     "text": [
      "Epoch 230, Loss 0.0379\n",
      "Training Accuracy: 0.9590, Testing Accuracy: 0.9662\n",
      "\n"
     ]
    },
    {
     "name": "stdout",
     "output_type": "stream",
     "text": [
      "Epoch 240, Loss 0.0375\n",
      "Training Accuracy: 0.9592, Testing Accuracy: 0.9662\n",
      "\n"
     ]
    },
    {
     "data": {
      "text/plain": [
       "0.05783696402589461"
      ]
     },
     "execution_count": 23,
     "metadata": {},
     "output_type": "execute_result"
    }
   ],
   "source": [
    "lr_learner.train_loop(dl)"
   ]
  },
  {
   "cell_type": "code",
   "execution_count": 24,
   "id": "ca410940",
   "metadata": {
    "execution": {
     "iopub.execute_input": "2022-07-04T20:11:20.204162Z",
     "iopub.status.busy": "2022-07-04T20:11:20.203569Z",
     "iopub.status.idle": "2022-07-04T20:11:20.423455Z",
     "shell.execute_reply": "2022-07-04T20:11:20.422889Z"
    },
    "papermill": {
     "duration": 0.268637,
     "end_time": "2022-07-04T20:11:20.423594",
     "exception": false,
     "start_time": "2022-07-04T20:11:20.154957",
     "status": "completed"
    },
    "tags": []
   },
   "outputs": [
    {
     "data": {
      "text/plain": [
       "<matplotlib.legend.Legend at 0x7f443354ca90>"
      ]
     },
     "execution_count": 24,
     "metadata": {},
     "output_type": "execute_result"
    },
    {
     "data": {
      "image/png": "[encoded data removed]",
      "text/plain": [
       "<Figure size 1080x720 with 1 Axes>"
      ]
     },
     "metadata": {
      "needs_background": "light"
     },
     "output_type": "display_data"
    }
   ],
   "source": [
    "#comparing the results of NN and LR\n",
    "plt.figure(figsize=(15,10))\n",
    "\n",
    "# Neural Network plots\n",
    "plt.plot(acc_nn.accuracies, 'r-', label = \"Training Accuracies - NN\")\n",
    "plt.plot(acc_nn.test_accuracies, 'g-', label = \"Testing Accuracies - NN\")\n",
    "\n",
    "# Logistic Regression plots\n",
    "plt.plot(acc_lr.accuracies, 'k-', label = \"Training Accuracies - LR\")\n",
    "plt.plot(acc_lr.test_accuracies, 'b-', label = \"Testing Accuracies - LR\")\n",
    "plt.legend()"
   ]
  },
  {
   "cell_type": "markdown",
   "id": "80dfb35c",
   "metadata": {
    "papermill": {
     "duration": 0.041434,
     "end_time": "2022-07-04T20:11:20.509118",
     "exception": false,
     "start_time": "2022-07-04T20:11:20.467684",
     "status": "completed"
    },
    "tags": []
   },
   "source": [
    "#### Plotting the outputs of this layer of the NN.\n"
   ]
  },
  {
   "cell_type": "code",
   "execution_count": 25,
   "id": "45eb2ff5",
   "metadata": {
    "execution": {
     "iopub.execute_input": "2022-07-04T20:11:20.598498Z",
     "iopub.status.busy": "2022-07-04T20:11:20.597159Z",
     "iopub.status.idle": "2022-07-04T20:11:20.617010Z",
     "shell.execute_reply": "2022-07-04T20:11:20.616525Z"
    },
    "papermill": {
     "duration": 0.066712,
     "end_time": "2022-07-04T20:11:20.617122",
     "exception": false,
     "start_time": "2022-07-04T20:11:20.550410",
     "status": "completed"
    },
    "tags": []
   },
   "outputs": [],
   "source": [
    "new_model = Model(layers[:-2])\n",
    "testing_plot = new_model(testing_data_x)"
   ]
  },
  {
   "cell_type": "code",
   "execution_count": 26,
   "id": "4c0a5485",
   "metadata": {
    "execution": {
     "iopub.execute_input": "2022-07-04T20:11:20.706785Z",
     "iopub.status.busy": "2022-07-04T20:11:20.704908Z",
     "iopub.status.idle": "2022-07-04T20:11:20.904392Z",
     "shell.execute_reply": "2022-07-04T20:11:20.904973Z"
    },
    "papermill": {
     "duration": 0.245795,
     "end_time": "2022-07-04T20:11:20.905110",
     "exception": false,
     "start_time": "2022-07-04T20:11:20.659315",
     "status": "completed"
    },
    "tags": []
   },
   "outputs": [
    {
     "data": {
      "text/plain": [
       "Text(0.5, 1.0, 'Outputs')"
      ]
     },
     "execution_count": 26,
     "metadata": {},
     "output_type": "execute_result"
    },
    {
     "data": {
      "image/png": "[encoded data removed]",
      "text/plain": [
       "<Figure size 576x504 with 1 Axes>"
      ]
     },
     "metadata": {
      "needs_background": "light"
     },
     "output_type": "display_data"
    }
   ],
   "source": [
    "# Plotting the scatter plot of points and color coding by class\n",
    "plt.figure(figsize=(8,7))\n",
    "plt.scatter(testing_plot[:,0], testing_plot[:,1], alpha = 0.1, c = y_test.ravel());\n",
    "plt.title('Outputs')"
   ]
  },
  {
   "cell_type": "markdown",
   "id": "a74fcf8f",
   "metadata": {
    "papermill": {
     "duration": 0.043277,
     "end_time": "2022-07-04T20:11:20.992063",
     "exception": false,
     "start_time": "2022-07-04T20:11:20.948786",
     "status": "completed"
    },
    "tags": []
   },
   "source": [
    "Probability contours"
   ]
  },
  {
   "cell_type": "code",
   "execution_count": 27,
   "id": "d0afc8e3",
   "metadata": {
    "execution": {
     "iopub.execute_input": "2022-07-04T20:11:21.114046Z",
     "iopub.status.busy": "2022-07-04T20:11:21.113420Z",
     "iopub.status.idle": "2022-07-04T20:11:21.123215Z",
     "shell.execute_reply": "2022-07-04T20:11:21.122745Z"
    },
    "papermill": {
     "duration": 0.087766,
     "end_time": "2022-07-04T20:11:21.123322",
     "exception": false,
     "start_time": "2022-07-04T20:11:21.035556",
     "status": "completed"
    },
    "tags": []
   },
   "outputs": [],
   "source": [
    "model_prob = Model(layers[-2:]) "
   ]
  },
  {
   "cell_type": "code",
   "execution_count": 28,
   "id": "9b96e238",
   "metadata": {
    "execution": {
     "iopub.execute_input": "2022-07-04T20:11:21.229424Z",
     "iopub.status.busy": "2022-07-04T20:11:21.222973Z",
     "iopub.status.idle": "2022-07-04T20:11:21.236718Z",
     "shell.execute_reply": "2022-07-04T20:11:21.237262Z"
    },
    "papermill": {
     "duration": 0.070466,
     "end_time": "2022-07-04T20:11:21.237386",
     "exception": false,
     "start_time": "2022-07-04T20:11:21.166920",
     "status": "completed"
    },
    "tags": []
   },
   "outputs": [],
   "source": [
    "#creating the x and y ranges according to the above generated plot.\n",
    "x_range = np.linspace(-4, 1, 100) \n",
    "y_range = np.linspace(-6, 6, 100) \n",
    "x_grid, y_grid = np.meshgrid(x_range, y_range) # x_grid and y_grig are of size 100 X 100\n",
    "\n",
    "# converting x_grid and y_grid to continuous arrays\n",
    "x_gridflat = np.ravel(x_grid)\n",
    "y_gridflat = np.ravel(y_grid)\n",
    "\n",
    "# The last layer of the current model takes two columns as input. Hence transpose of np.vstack() is required.\n",
    "X = np.vstack((x_gridflat, y_gridflat)).T\n",
    "\n",
    "prob_contour = model_prob(X).reshape(100,100) "
   ]
  },
  {
   "cell_type": "code",
   "execution_count": 29,
   "id": "da72499a",
   "metadata": {
    "execution": {
     "iopub.execute_input": "2022-07-04T20:11:21.329126Z",
     "iopub.status.busy": "2022-07-04T20:11:21.328531Z",
     "iopub.status.idle": "2022-07-04T20:11:21.572985Z",
     "shell.execute_reply": "2022-07-04T20:11:21.573444Z"
    },
    "papermill": {
     "duration": 0.292419,
     "end_time": "2022-07-04T20:11:21.573581",
     "exception": false,
     "start_time": "2022-07-04T20:11:21.281162",
     "status": "completed"
    },
    "tags": []
   },
   "outputs": [
    {
     "data": {
      "image/png": "[encoded data removed]",
      "text/plain": [
       "<Figure size 720x648 with 1 Axes>"
      ]
     },
     "metadata": {
      "needs_background": "light"
     },
     "output_type": "display_data"
    }
   ],
   "source": [
    "plt.figure(figsize=(10,9))\n",
    "plt.scatter(testing_plot[:,0], testing_plot[:,1], alpha = 0.1, c = y_test.ravel())\n",
    "contours = plt.contour(x_grid,y_grid,prob_contour)\n",
    "plt.title('Probability Contours')\n",
    "plt.clabel(contours, inline = True );"
   ]
  },
  {
   "cell_type": "code",
   "execution_count": null,
   "id": "e81b4ac7",
   "metadata": {
    "papermill": {
     "duration": 0.045909,
     "end_time": "2022-07-04T20:11:21.666521",
     "exception": false,
     "start_time": "2022-07-04T20:11:21.620612",
     "status": "completed"
    },
    "tags": []
   },
   "outputs": [],
   "source": []
  }
 ],
 "metadata": {
  "kernelspec": {
   "display_name": "Python 3",
   "language": "python",
   "name": "python3"
  },
  "language_info": {
   "codemirror_mode": {
    "name": "ipython",
    "version": 3
   },
   "file_extension": ".py",
   "mimetype": "text/x-python",
   "name": "python",
   "nbconvert_exporter": "python",
   "pygments_lexer": "ipython3",
   "version": "3.6.15"
  },
  "papermill": {
   "default_parameters": {},
   "duration": 94.96627,
   "end_time": "2022-07-04T20:11:22.133994",
   "environment_variables": {},
   "exception": null,
   "input_path": "2020-08-11-part2.ipynb",
   "output_path": "2020-08-11-part2.ipynb",
   "parameters": {},
   "start_time": "2022-07-04T20:09:47.167724",
   "version": "2.3.3"
  }
 },
 "nbformat": 4,
 "nbformat_minor": 5
}