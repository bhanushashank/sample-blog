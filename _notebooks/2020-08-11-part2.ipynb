{
 "cells": [
  {
   "cell_type": "markdown",
   "id": "98380cd3",
   "metadata": {
    "papermill": {
     "duration": 0.030242,
     "end_time": "2021-12-30T00:23:50.466630",
     "exception": false,
     "start_time": "2021-12-30T00:23:50.436388",
     "status": "completed"
    },
    "tags": []
   },
   "source": [
    "# Distinguish Your Own Digits (DYOD)"
   ]
  },
  {
   "cell_type": "markdown",
   "id": "ef31240d",
   "metadata": {
    "papermill": {
     "duration": 0.030435,
     "end_time": "2021-12-30T00:23:50.521792",
     "exception": false,
     "start_time": "2021-12-30T00:23:50.491357",
     "status": "completed"
    },
    "tags": []
   },
   "source": [
    "You are going to write a classifier that distinguishes between the number 3 and number 8."
   ]
  },
  {
   "cell_type": "code",
   "execution_count": 1,
   "id": "b15c8646",
   "metadata": {
    "execution": {
     "iopub.execute_input": "2021-12-30T00:23:50.585368Z",
     "iopub.status.busy": "2021-12-30T00:23:50.584823Z",
     "iopub.status.idle": "2021-12-30T00:23:50.595411Z",
     "shell.execute_reply": "2021-12-30T00:23:50.594947Z"
    },
    "papermill": {
     "duration": 0.048397,
     "end_time": "2021-12-30T00:23:50.595536",
     "exception": false,
     "start_time": "2021-12-30T00:23:50.547139",
     "status": "completed"
    },
    "tags": []
   },
   "outputs": [],
   "source": [
    "%load_ext autoreload\n",
    "%autoreload 2"
   ]
  },
  {
   "cell_type": "code",
   "execution_count": 2,
   "id": "22ef38dc",
   "metadata": {
    "execution": {
     "iopub.execute_input": "2021-12-30T00:23:50.656927Z",
     "iopub.status.busy": "2021-12-30T00:23:50.653722Z",
     "iopub.status.idle": "2021-12-30T00:23:51.190858Z",
     "shell.execute_reply": "2021-12-30T00:23:51.190325Z"
    },
    "papermill": {
     "duration": 0.570825,
     "end_time": "2021-12-30T00:23:51.191006",
     "exception": false,
     "start_time": "2021-12-30T00:23:50.620181",
     "status": "completed"
    },
    "tags": []
   },
   "outputs": [],
   "source": [
    "%matplotlib inline\n",
    "import numpy as np\n",
    "import matplotlib.pyplot as plt\n",
    "import pandas as pd"
   ]
  },
  {
   "cell_type": "markdown",
   "id": "ba036198",
   "metadata": {
    "papermill": {
     "duration": 0.024159,
     "end_time": "2021-12-30T00:23:51.240246",
     "exception": false,
     "start_time": "2021-12-30T00:23:51.216087",
     "status": "completed"
    },
    "tags": []
   },
   "source": [
    "From the command line run `pip install mnist`. This is a library that will help you bring down the mnist dataset. If you run this from a notebook, you need to put  `!pip install mnist` in a cell by itself."
   ]
  },
  {
   "cell_type": "code",
   "execution_count": 3,
   "id": "bb6ad8a1",
   "metadata": {
    "execution": {
     "iopub.execute_input": "2021-12-30T00:23:51.291835Z",
     "iopub.status.busy": "2021-12-30T00:23:51.291288Z",
     "iopub.status.idle": "2021-12-30T00:23:52.990507Z",
     "shell.execute_reply": "2021-12-30T00:23:52.989930Z"
    },
    "papermill": {
     "duration": 1.726712,
     "end_time": "2021-12-30T00:23:52.990650",
     "exception": false,
     "start_time": "2021-12-30T00:23:51.263938",
     "status": "completed"
    },
    "tags": []
   },
   "outputs": [
    {
     "name": "stdout",
     "output_type": "stream",
     "text": [
      "Collecting mnist\r\n"
     ]
    },
    {
     "name": "stdout",
     "output_type": "stream",
     "text": [
      "  Downloading mnist-0.2.2-py2.py3-none-any.whl (3.5 kB)\r\n",
      "Requirement already satisfied: numpy in /opt/hostedtoolcache/Python/3.6.15/x64/lib/python3.6/site-packages (from mnist) (1.19.5)\r\n"
     ]
    },
    {
     "name": "stdout",
     "output_type": "stream",
     "text": [
      "Installing collected packages: mnist\r\n"
     ]
    },
    {
     "name": "stdout",
     "output_type": "stream",
     "text": [
      "Successfully installed mnist-0.2.2\r\n"
     ]
    }
   ],
   "source": [
    "!pip install mnist"
   ]
  },
  {
   "cell_type": "markdown",
   "id": "69df9c9a",
   "metadata": {
    "papermill": {
     "duration": 0.024902,
     "end_time": "2021-12-30T00:23:53.041119",
     "exception": false,
     "start_time": "2021-12-30T00:23:53.016217",
     "status": "completed"
    },
    "tags": []
   },
   "source": [
    "## Preparing the Data"
   ]
  },
  {
   "cell_type": "code",
   "execution_count": 4,
   "id": "7f69d806",
   "metadata": {
    "execution": {
     "iopub.execute_input": "2021-12-30T00:23:53.097688Z",
     "iopub.status.busy": "2021-12-30T00:23:53.097167Z",
     "iopub.status.idle": "2021-12-30T00:23:53.109598Z",
     "shell.execute_reply": "2021-12-30T00:23:53.109179Z"
    },
    "papermill": {
     "duration": 0.043924,
     "end_time": "2021-12-30T00:23:53.109717",
     "exception": false,
     "start_time": "2021-12-30T00:23:53.065793",
     "status": "completed"
    },
    "tags": []
   },
   "outputs": [],
   "source": [
    "import mnist"
   ]
  },
  {
   "cell_type": "code",
   "execution_count": 5,
   "id": "a411e44f",
   "metadata": {
    "execution": {
     "iopub.execute_input": "2021-12-30T00:23:53.162691Z",
     "iopub.status.busy": "2021-12-30T00:23:53.162176Z",
     "iopub.status.idle": "2021-12-30T00:23:53.844809Z",
     "shell.execute_reply": "2021-12-30T00:23:53.844261Z"
    },
    "papermill": {
     "duration": 0.710526,
     "end_time": "2021-12-30T00:23:53.844959",
     "exception": false,
     "start_time": "2021-12-30T00:23:53.134433",
     "status": "completed"
    },
    "tags": []
   },
   "outputs": [],
   "source": [
    "train_images = mnist.train_images()\n",
    "train_labels = mnist.train_labels()"
   ]
  },
  {
   "cell_type": "code",
   "execution_count": 6,
   "id": "dceab3a5",
   "metadata": {
    "execution": {
     "iopub.execute_input": "2021-12-30T00:23:53.903117Z",
     "iopub.status.busy": "2021-12-30T00:23:53.902580Z",
     "iopub.status.idle": "2021-12-30T00:23:53.916101Z",
     "shell.execute_reply": "2021-12-30T00:23:53.916512Z"
    },
    "papermill": {
     "duration": 0.045298,
     "end_time": "2021-12-30T00:23:53.916661",
     "exception": false,
     "start_time": "2021-12-30T00:23:53.871363",
     "status": "completed"
    },
    "tags": []
   },
   "outputs": [
    {
     "data": {
      "text/plain": [
       "((60000, 28, 28), (60000,))"
      ]
     },
     "execution_count": 6,
     "metadata": {},
     "output_type": "execute_result"
    }
   ],
   "source": [
    "train_images.shape, train_labels.shape"
   ]
  },
  {
   "cell_type": "code",
   "execution_count": 7,
   "id": "f50dc2bb",
   "metadata": {
    "execution": {
     "iopub.execute_input": "2021-12-30T00:23:53.979457Z",
     "iopub.status.busy": "2021-12-30T00:23:53.978937Z",
     "iopub.status.idle": "2021-12-30T00:23:54.191801Z",
     "shell.execute_reply": "2021-12-30T00:23:54.191275Z"
    },
    "papermill": {
     "duration": 0.249624,
     "end_time": "2021-12-30T00:23:54.191933",
     "exception": false,
     "start_time": "2021-12-30T00:23:53.942309",
     "status": "completed"
    },
    "tags": []
   },
   "outputs": [],
   "source": [
    "test_images = mnist.test_images()\n",
    "test_labels = mnist.test_labels()"
   ]
  },
  {
   "cell_type": "code",
   "execution_count": 8,
   "id": "fc38cf1b",
   "metadata": {
    "execution": {
     "iopub.execute_input": "2021-12-30T00:23:54.260746Z",
     "iopub.status.busy": "2021-12-30T00:23:54.252423Z",
     "iopub.status.idle": "2021-12-30T00:23:54.265293Z",
     "shell.execute_reply": "2021-12-30T00:23:54.264848Z"
    },
    "papermill": {
     "duration": 0.048133,
     "end_time": "2021-12-30T00:23:54.265413",
     "exception": false,
     "start_time": "2021-12-30T00:23:54.217280",
     "status": "completed"
    },
    "tags": []
   },
   "outputs": [
    {
     "data": {
      "text/plain": [
       "((10000, 28, 28), (10000,))"
      ]
     },
     "execution_count": 8,
     "metadata": {},
     "output_type": "execute_result"
    }
   ],
   "source": [
    "test_images.shape, test_labels.shape"
   ]
  },
  {
   "cell_type": "code",
   "execution_count": 9,
   "id": "f9ed8fe0",
   "metadata": {
    "execution": {
     "iopub.execute_input": "2021-12-30T00:23:54.320036Z",
     "iopub.status.busy": "2021-12-30T00:23:54.319487Z",
     "iopub.status.idle": "2021-12-30T00:23:54.466163Z",
     "shell.execute_reply": "2021-12-30T00:23:54.466641Z"
    },
    "papermill": {
     "duration": 0.176188,
     "end_time": "2021-12-30T00:23:54.466817",
     "exception": false,
     "start_time": "2021-12-30T00:23:54.290629",
     "status": "completed"
    },
    "tags": []
   },
   "outputs": [
    {
     "name": "stdout",
     "output_type": "stream",
     "text": [
      "2\n"
     ]
    },
    {
     "data": {
      "text/plain": [
       "<matplotlib.image.AxesImage at 0x7fa29823d588>"
      ]
     },
     "execution_count": 9,
     "metadata": {},
     "output_type": "execute_result"
    },
    {
     "data": {
      "image/png": "[encoded data removed]",
      "text/plain": [
       "<Figure size 432x288 with 1 Axes>"
      ]
     },
     "metadata": {
      "needs_background": "light"
     },
     "output_type": "display_data"
    }
   ],
   "source": [
    "image_index = 7776 # You may select anything up to 60,000\n",
    "print(train_labels[image_index]) \n",
    "plt.imshow(train_images[image_index], cmap='Greys')"
   ]
  },
  {
   "cell_type": "markdown",
   "id": "a8d2388d",
   "metadata": {
    "papermill": {
     "duration": 0.026734,
     "end_time": "2021-12-30T00:23:54.520086",
     "exception": false,
     "start_time": "2021-12-30T00:23:54.493352",
     "status": "completed"
    },
    "tags": []
   },
   "source": [
    "## Filter data to get 3 and 8 out"
   ]
  },
  {
   "cell_type": "code",
   "execution_count": 10,
   "id": "776f7fc7",
   "metadata": {
    "execution": {
     "iopub.execute_input": "2021-12-30T00:23:54.576716Z",
     "iopub.status.busy": "2021-12-30T00:23:54.576179Z",
     "iopub.status.idle": "2021-12-30T00:23:54.593895Z",
     "shell.execute_reply": "2021-12-30T00:23:54.594374Z"
    },
    "papermill": {
     "duration": 0.048298,
     "end_time": "2021-12-30T00:23:54.594513",
     "exception": false,
     "start_time": "2021-12-30T00:23:54.546215",
     "status": "completed"
    },
    "tags": []
   },
   "outputs": [],
   "source": [
    "train_filter = np.where((train_labels == 3 ) | (train_labels == 8))\n",
    "test_filter = np.where((test_labels == 3) | (test_labels == 8))\n",
    "X_train, y_train = train_images[train_filter], train_labels[train_filter]\n",
    "X_test, y_test = test_images[test_filter], test_labels[test_filter]"
   ]
  },
  {
   "cell_type": "markdown",
   "id": "948f0b7e",
   "metadata": {
    "papermill": {
     "duration": 0.026497,
     "end_time": "2021-12-30T00:23:54.647469",
     "exception": false,
     "start_time": "2021-12-30T00:23:54.620972",
     "status": "completed"
    },
    "tags": []
   },
   "source": [
    "We normalize the pizel values in the 0 to 1 range"
   ]
  },
  {
   "cell_type": "code",
   "execution_count": 11,
   "id": "ee4c2166",
   "metadata": {
    "execution": {
     "iopub.execute_input": "2021-12-30T00:23:54.704370Z",
     "iopub.status.busy": "2021-12-30T00:23:54.703838Z",
     "iopub.status.idle": "2021-12-30T00:23:54.753381Z",
     "shell.execute_reply": "2021-12-30T00:23:54.752866Z"
    },
    "papermill": {
     "duration": 0.079807,
     "end_time": "2021-12-30T00:23:54.753524",
     "exception": false,
     "start_time": "2021-12-30T00:23:54.673717",
     "status": "completed"
    },
    "tags": []
   },
   "outputs": [],
   "source": [
    "X_train = X_train/255.\n",
    "X_test = X_test/255."
   ]
  },
  {
   "cell_type": "markdown",
   "id": "ddcf4fab",
   "metadata": {
    "papermill": {
     "duration": 0.026446,
     "end_time": "2021-12-30T00:23:54.807834",
     "exception": false,
     "start_time": "2021-12-30T00:23:54.781388",
     "status": "completed"
    },
    "tags": []
   },
   "source": [
    "And setup the labels as 1 (when the digit is 3) and 0 (when the digit is 8)"
   ]
  },
  {
   "cell_type": "code",
   "execution_count": 12,
   "id": "7dc908f2",
   "metadata": {
    "execution": {
     "iopub.execute_input": "2021-12-30T00:23:54.864314Z",
     "iopub.status.busy": "2021-12-30T00:23:54.863769Z",
     "iopub.status.idle": "2021-12-30T00:23:54.877405Z",
     "shell.execute_reply": "2021-12-30T00:23:54.876988Z"
    },
    "papermill": {
     "duration": 0.043452,
     "end_time": "2021-12-30T00:23:54.877519",
     "exception": false,
     "start_time": "2021-12-30T00:23:54.834067",
     "status": "completed"
    },
    "tags": []
   },
   "outputs": [],
   "source": [
    "y_train = 1*(y_train==3)\n",
    "y_test = 1*(y_test==3)"
   ]
  },
  {
   "cell_type": "code",
   "execution_count": 13,
   "id": "01e4e969",
   "metadata": {
    "execution": {
     "iopub.execute_input": "2021-12-30T00:23:54.933960Z",
     "iopub.status.busy": "2021-12-30T00:23:54.933442Z",
     "iopub.status.idle": "2021-12-30T00:23:54.947049Z",
     "shell.execute_reply": "2021-12-30T00:23:54.947437Z"
    },
    "papermill": {
     "duration": 0.043575,
     "end_time": "2021-12-30T00:23:54.947576",
     "exception": false,
     "start_time": "2021-12-30T00:23:54.904001",
     "status": "completed"
    },
    "tags": []
   },
   "outputs": [
    {
     "data": {
      "text/plain": [
       "((11982, 28, 28), (1984, 28, 28))"
      ]
     },
     "execution_count": 13,
     "metadata": {},
     "output_type": "execute_result"
    }
   ],
   "source": [
    "X_train.shape, X_test.shape"
   ]
  },
  {
   "cell_type": "markdown",
   "id": "5ccf3f85",
   "metadata": {
    "papermill": {
     "duration": 0.026546,
     "end_time": "2021-12-30T00:23:55.000717",
     "exception": false,
     "start_time": "2021-12-30T00:23:54.974171",
     "status": "completed"
    },
    "tags": []
   },
   "source": [
    "We reshape the data to flatten the image pixels into a set of features or co-variates:"
   ]
  },
  {
   "cell_type": "code",
   "execution_count": 14,
   "id": "5286a4a3",
   "metadata": {
    "execution": {
     "iopub.execute_input": "2021-12-30T00:23:55.058369Z",
     "iopub.status.busy": "2021-12-30T00:23:55.057838Z",
     "iopub.status.idle": "2021-12-30T00:23:55.071585Z",
     "shell.execute_reply": "2021-12-30T00:23:55.072056Z"
    },
    "papermill": {
     "duration": 0.044736,
     "end_time": "2021-12-30T00:23:55.072197",
     "exception": false,
     "start_time": "2021-12-30T00:23:55.027461",
     "status": "completed"
    },
    "tags": []
   },
   "outputs": [
    {
     "data": {
      "text/plain": [
       "((11982, 784), (1984, 784))"
      ]
     },
     "execution_count": 14,
     "metadata": {},
     "output_type": "execute_result"
    }
   ],
   "source": [
    "X_train = X_train.reshape(X_train.shape[0], -1)\n",
    "X_test = X_test.reshape(X_test.shape[0], -1)\n",
    "X_train.shape, X_test.shape"
   ]
  },
  {
   "cell_type": "code",
   "execution_count": 15,
   "id": "73c5f88a",
   "metadata": {
    "execution": {
     "iopub.execute_input": "2021-12-30T00:23:55.132903Z",
     "iopub.status.busy": "2021-12-30T00:23:55.132372Z",
     "iopub.status.idle": "2021-12-30T00:23:55.151540Z",
     "shell.execute_reply": "2021-12-30T00:23:55.152035Z"
    },
    "papermill": {
     "duration": 0.053088,
     "end_time": "2021-12-30T00:23:55.152196",
     "exception": false,
     "start_time": "2021-12-30T00:23:55.099108",
     "status": "completed"
    },
    "tags": []
   },
   "outputs": [],
   "source": [
    "#Impoting functions from 'Kudzu'\n",
    "from kudzu.model import Model\n",
    "from kudzu.train import Learner\n",
    "from kudzu.optim import GD\n",
    "from kudzu.data import Data, Sampler,Dataloader\n",
    "\n",
    "from kudzu.callbacks import AccCallback\n",
    "from kudzu.callbacks import ClfCallback\n",
    "\n",
    "from kudzu.loss import MSE\n",
    "\n",
    "from kudzu.layer import Sigmoid,Relu\n",
    "from kudzu.layer import Affine"
   ]
  },
  {
   "cell_type": "markdown",
   "id": "bc01172a",
   "metadata": {
    "papermill": {
     "duration": 0.026976,
     "end_time": "2021-12-30T00:23:55.206911",
     "exception": false,
     "start_time": "2021-12-30T00:23:55.179935",
     "status": "completed"
    },
    "tags": []
   },
   "source": [
    "### Let us create a `Config` class, to store important parameters. \n",
    "This class essentially plays the role of a dictionary."
   ]
  },
  {
   "cell_type": "code",
   "execution_count": 16,
   "id": "978281aa",
   "metadata": {
    "execution": {
     "iopub.execute_input": "2021-12-30T00:23:55.277768Z",
     "iopub.status.busy": "2021-12-30T00:23:55.272468Z",
     "iopub.status.idle": "2021-12-30T00:23:55.281577Z",
     "shell.execute_reply": "2021-12-30T00:23:55.281129Z"
    },
    "papermill": {
     "duration": 0.047579,
     "end_time": "2021-12-30T00:23:55.281696",
     "exception": false,
     "start_time": "2021-12-30T00:23:55.234117",
     "status": "completed"
    },
    "tags": []
   },
   "outputs": [],
   "source": [
    "class Config:\n",
    "    pass\n",
    "config = Config()\n",
    "config.lr = 0.001\n",
    "config.num_epochs = 250\n",
    "config.bs = 50"
   ]
  },
  {
   "cell_type": "markdown",
   "id": "1385fa59",
   "metadata": {
    "papermill": {
     "duration": 0.026831,
     "end_time": "2021-12-30T00:23:55.335762",
     "exception": false,
     "start_time": "2021-12-30T00:23:55.308931",
     "status": "completed"
    },
    "tags": []
   },
   "source": [
    "### Running Models with the Training data\n",
    "Details about the network layers:\n",
    "- A first affine layer has 784 inputs and does 100 affine transforms. These are followed by a Relu\n",
    "- A second affine layer has 100 inputs from the 100 activations of the past layer, and does 100 affine transforms. These are followed by a Relu\n",
    "- A third affine layer has 100 activations and does 2 affine transformations to create an embedding for visualization. There is no non-linearity here.\n",
    "- A final \"logistic regression\" which has an affine transform from 2 inputs to 1 output, which is squeezed through a sigmoid.\n"
   ]
  },
  {
   "cell_type": "code",
   "execution_count": 17,
   "id": "2b9c66db",
   "metadata": {
    "execution": {
     "iopub.execute_input": "2021-12-30T00:23:55.402447Z",
     "iopub.status.busy": "2021-12-30T00:23:55.393431Z",
     "iopub.status.idle": "2021-12-30T00:23:55.408479Z",
     "shell.execute_reply": "2021-12-30T00:23:55.408062Z"
    },
    "papermill": {
     "duration": 0.04584,
     "end_time": "2021-12-30T00:23:55.408595",
     "exception": false,
     "start_time": "2021-12-30T00:23:55.362755",
     "status": "completed"
    },
    "tags": []
   },
   "outputs": [],
   "source": [
    "data = Data(X_train, y_train.reshape(-1,1))\n",
    "sampler = Sampler(data, config.bs, shuffle=True)\n",
    "\n",
    "dl = Dataloader(data, sampler)\n",
    "\n",
    "opt = GD(config.lr)\n",
    "loss = MSE()"
   ]
  },
  {
   "cell_type": "code",
   "execution_count": 18,
   "id": "b275e4c2",
   "metadata": {
    "execution": {
     "iopub.execute_input": "2021-12-30T00:23:55.466139Z",
     "iopub.status.busy": "2021-12-30T00:23:55.465622Z",
     "iopub.status.idle": "2021-12-30T00:23:55.477684Z",
     "shell.execute_reply": "2021-12-30T00:23:55.477266Z"
    },
    "papermill": {
     "duration": 0.042195,
     "end_time": "2021-12-30T00:23:55.477798",
     "exception": false,
     "start_time": "2021-12-30T00:23:55.435603",
     "status": "completed"
    },
    "tags": []
   },
   "outputs": [],
   "source": [
    "training_data_x = X_train\n",
    "testing_data_x = X_test\n",
    "training_data_y = y_train.reshape(-1,1)\n",
    "testing_data_y = y_test.reshape(-1,1)"
   ]
  },
  {
   "cell_type": "code",
   "execution_count": 19,
   "id": "76951160",
   "metadata": {
    "execution": {
     "iopub.execute_input": "2021-12-30T00:23:55.535527Z",
     "iopub.status.busy": "2021-12-30T00:23:55.535001Z",
     "iopub.status.idle": "2021-12-30T00:23:55.550555Z",
     "shell.execute_reply": "2021-12-30T00:23:55.550994Z"
    },
    "papermill": {
     "duration": 0.046667,
     "end_time": "2021-12-30T00:23:55.551124",
     "exception": false,
     "start_time": "2021-12-30T00:23:55.504457",
     "status": "completed"
    },
    "tags": []
   },
   "outputs": [
    {
     "name": "stdout",
     "output_type": "stream",
     "text": [
      "xavier\n",
      "xavier\n",
      "xavier\n",
      "xavier\n",
      "xavier\n"
     ]
    }
   ],
   "source": [
    "layers = [Affine(\"first\", 784, 100), Relu(\"first\"), Affine(\"second\", 100, 100), Relu(\"second\"), Affine(\"third\", 100, 2), Affine(\"last\", 2, 1), Sigmoid(\"last\")]\n",
    "model_nn = Model(layers)\n",
    "model_lr = Model([Affine(\"logits\", 784, 1), Sigmoid(\"sigmoid\")])"
   ]
  },
  {
   "cell_type": "code",
   "execution_count": 20,
   "id": "6eede77a",
   "metadata": {
    "execution": {
     "iopub.execute_input": "2021-12-30T00:23:55.610236Z",
     "iopub.status.busy": "2021-12-30T00:23:55.609722Z",
     "iopub.status.idle": "2021-12-30T00:23:55.626944Z",
     "shell.execute_reply": "2021-12-30T00:23:55.626520Z"
    },
    "papermill": {
     "duration": 0.048824,
     "end_time": "2021-12-30T00:23:55.627062",
     "exception": false,
     "start_time": "2021-12-30T00:23:55.578238",
     "status": "completed"
    },
    "tags": []
   },
   "outputs": [],
   "source": [
    "nn_learner = Learner(loss, model_nn, opt, config.num_epochs)\n",
    "acc_nn = ClfCallback(nn_learner, config.bs, training_data_x , testing_data_x, training_data_y, testing_data_y)\n",
    "nn_learner.set_callbacks([acc_nn])"
   ]
  },
  {
   "cell_type": "code",
   "execution_count": 21,
   "id": "877b6cc7",
   "metadata": {
    "execution": {
     "iopub.execute_input": "2021-12-30T00:23:55.688590Z",
     "iopub.status.busy": "2021-12-30T00:23:55.688073Z",
     "iopub.status.idle": "2021-12-30T00:23:55.697787Z",
     "shell.execute_reply": "2021-12-30T00:23:55.697349Z"
    },
    "papermill": {
     "duration": 0.043331,
     "end_time": "2021-12-30T00:23:55.697902",
     "exception": false,
     "start_time": "2021-12-30T00:23:55.654571",
     "status": "completed"
    },
    "tags": []
   },
   "outputs": [],
   "source": [
    "lr_learner = Learner(loss, model_lr, opt, config.num_epochs)\n",
    "acc_lr = ClfCallback(lr_learner, config.bs, training_data_x , testing_data_x, training_data_y, testing_data_y)\n",
    "lr_learner.set_callbacks([acc_lr])"
   ]
  },
  {
   "cell_type": "code",
   "execution_count": 22,
   "id": "d9b133c3",
   "metadata": {
    "execution": {
     "iopub.execute_input": "2021-12-30T00:23:55.769262Z",
     "iopub.status.busy": "2021-12-30T00:23:55.768729Z",
     "iopub.status.idle": "2021-12-30T00:25:12.692792Z",
     "shell.execute_reply": "2021-12-30T00:25:12.693496Z"
    },
    "papermill": {
     "duration": 76.968517,
     "end_time": "2021-12-30T00:25:12.693647",
     "exception": false,
     "start_time": "2021-12-30T00:23:55.725130",
     "status": "completed"
    },
    "tags": []
   },
   "outputs": [
    {
     "name": "stdout",
     "output_type": "stream",
     "text": [
      "Epoch 0, Loss 0.2435\n",
      "Training Accuracy: 0.6908, Testing Accuracy: 0.6895\n",
      "\n"
     ]
    },
    {
     "name": "stdout",
     "output_type": "stream",
     "text": [
      "Epoch 10, Loss 0.0843\n",
      "Training Accuracy: 0.9298, Testing Accuracy: 0.9410\n",
      "\n"
     ]
    },
    {
     "name": "stdout",
     "output_type": "stream",
     "text": [
      "Epoch 20, Loss 0.0519\n",
      "Training Accuracy: 0.9466, Testing Accuracy: 0.9582\n",
      "\n"
     ]
    },
    {
     "name": "stdout",
     "output_type": "stream",
     "text": [
      "Epoch 30, Loss 0.0418\n",
      "Training Accuracy: 0.9548, Testing Accuracy: 0.9622\n",
      "\n"
     ]
    },
    {
     "name": "stdout",
     "output_type": "stream",
     "text": [
      "Epoch 40, Loss 0.0367\n",
      "Training Accuracy: 0.9589, Testing Accuracy: 0.9657\n",
      "\n"
     ]
    },
    {
     "name": "stdout",
     "output_type": "stream",
     "text": [
      "Epoch 50, Loss 0.0335\n",
      "Training Accuracy: 0.9617, Testing Accuracy: 0.9657\n",
      "\n"
     ]
    },
    {
     "name": "stdout",
     "output_type": "stream",
     "text": [
      "Epoch 60, Loss 0.0312\n",
      "Training Accuracy: 0.9646, Testing Accuracy: 0.9688\n",
      "\n"
     ]
    },
    {
     "name": "stdout",
     "output_type": "stream",
     "text": [
      "Epoch 70, Loss 0.0295\n",
      "Training Accuracy: 0.9665, Testing Accuracy: 0.9708\n",
      "\n"
     ]
    },
    {
     "name": "stdout",
     "output_type": "stream",
     "text": [
      "Epoch 80, Loss 0.028\n",
      "Training Accuracy: 0.9680, Testing Accuracy: 0.9718\n",
      "\n"
     ]
    },
    {
     "name": "stdout",
     "output_type": "stream",
     "text": [
      "Epoch 90, Loss 0.0269\n",
      "Training Accuracy: 0.9687, Testing Accuracy: 0.9728\n",
      "\n"
     ]
    },
    {
     "name": "stdout",
     "output_type": "stream",
     "text": [
      "Epoch 100, Loss 0.0258\n",
      "Training Accuracy: 0.9700, Testing Accuracy: 0.9738\n",
      "\n"
     ]
    },
    {
     "name": "stdout",
     "output_type": "stream",
     "text": [
      "Epoch 110, Loss 0.025\n",
      "Training Accuracy: 0.9714, Testing Accuracy: 0.9743\n",
      "\n"
     ]
    },
    {
     "name": "stdout",
     "output_type": "stream",
     "text": [
      "Epoch 120, Loss 0.0242\n",
      "Training Accuracy: 0.9725, Testing Accuracy: 0.9758\n",
      "\n"
     ]
    },
    {
     "name": "stdout",
     "output_type": "stream",
     "text": [
      "Epoch 130, Loss 0.0234\n",
      "Training Accuracy: 0.9734, Testing Accuracy: 0.9758\n",
      "\n"
     ]
    },
    {
     "name": "stdout",
     "output_type": "stream",
     "text": [
      "Epoch 140, Loss 0.0228\n",
      "Training Accuracy: 0.9745, Testing Accuracy: 0.9748\n",
      "\n"
     ]
    },
    {
     "name": "stdout",
     "output_type": "stream",
     "text": [
      "Epoch 150, Loss 0.0222\n",
      "Training Accuracy: 0.9751, Testing Accuracy: 0.9748\n",
      "\n"
     ]
    },
    {
     "name": "stdout",
     "output_type": "stream",
     "text": [
      "Epoch 160, Loss 0.0216\n",
      "Training Accuracy: 0.9761, Testing Accuracy: 0.9748\n",
      "\n"
     ]
    },
    {
     "name": "stdout",
     "output_type": "stream",
     "text": [
      "Epoch 170, Loss 0.0211\n",
      "Training Accuracy: 0.9763, Testing Accuracy: 0.9748\n",
      "\n"
     ]
    },
    {
     "name": "stdout",
     "output_type": "stream",
     "text": [
      "Epoch 180, Loss 0.0206\n",
      "Training Accuracy: 0.9767, Testing Accuracy: 0.9743\n",
      "\n"
     ]
    },
    {
     "name": "stdout",
     "output_type": "stream",
     "text": [
      "Epoch 190, Loss 0.0201\n",
      "Training Accuracy: 0.9771, Testing Accuracy: 0.9753\n",
      "\n"
     ]
    },
    {
     "name": "stdout",
     "output_type": "stream",
     "text": [
      "Epoch 200, Loss 0.0197\n",
      "Training Accuracy: 0.9780, Testing Accuracy: 0.9768\n",
      "\n"
     ]
    },
    {
     "name": "stdout",
     "output_type": "stream",
     "text": [
      "Epoch 210, Loss 0.0192\n",
      "Training Accuracy: 0.9787, Testing Accuracy: 0.9763\n",
      "\n"
     ]
    },
    {
     "name": "stdout",
     "output_type": "stream",
     "text": [
      "Epoch 220, Loss 0.0188\n",
      "Training Accuracy: 0.9794, Testing Accuracy: 0.9763\n",
      "\n"
     ]
    },
    {
     "name": "stdout",
     "output_type": "stream",
     "text": [
      "Epoch 230, Loss 0.0184\n",
      "Training Accuracy: 0.9799, Testing Accuracy: 0.9763\n",
      "\n"
     ]
    },
    {
     "name": "stdout",
     "output_type": "stream",
     "text": [
      "Epoch 240, Loss 0.018\n",
      "Training Accuracy: 0.9804, Testing Accuracy: 0.9768\n",
      "\n"
     ]
    },
    {
     "data": {
      "text/plain": [
       "0.003972157672004147"
      ]
     },
     "execution_count": 22,
     "metadata": {},
     "output_type": "execute_result"
    }
   ],
   "source": [
    "nn_learner.train_loop(dl)"
   ]
  },
  {
   "cell_type": "code",
   "execution_count": 23,
   "id": "e0163366",
   "metadata": {
    "execution": {
     "iopub.execute_input": "2021-12-30T00:25:12.766921Z",
     "iopub.status.busy": "2021-12-30T00:25:12.766422Z",
     "iopub.status.idle": "2021-12-30T00:25:26.850231Z",
     "shell.execute_reply": "2021-12-30T00:25:26.850918Z"
    },
    "papermill": {
     "duration": 14.126727,
     "end_time": "2021-12-30T00:25:26.851068",
     "exception": false,
     "start_time": "2021-12-30T00:25:12.724341",
     "status": "completed"
    },
    "tags": []
   },
   "outputs": [
    {
     "name": "stdout",
     "output_type": "stream",
     "text": [
      "Epoch 0, Loss 0.2303\n",
      "Training Accuracy: 0.7032, Testing Accuracy: 0.7137\n",
      "\n"
     ]
    },
    {
     "name": "stdout",
     "output_type": "stream",
     "text": [
      "Epoch 10, Loss 0.1063\n",
      "Training Accuracy: 0.9004, Testing Accuracy: 0.9168\n",
      "\n"
     ]
    },
    {
     "name": "stdout",
     "output_type": "stream",
     "text": [
      "Epoch 20, Loss 0.0813\n",
      "Training Accuracy: 0.9246, Testing Accuracy: 0.9410\n",
      "\n"
     ]
    },
    {
     "name": "stdout",
     "output_type": "stream",
     "text": [
      "Epoch 30, Loss 0.0697\n",
      "Training Accuracy: 0.9345, Testing Accuracy: 0.9476\n",
      "\n"
     ]
    },
    {
     "name": "stdout",
     "output_type": "stream",
     "text": [
      "Epoch 40, Loss 0.0628\n",
      "Training Accuracy: 0.9399, Testing Accuracy: 0.9526\n",
      "\n"
     ]
    },
    {
     "name": "stdout",
     "output_type": "stream",
     "text": [
      "Epoch 50, Loss 0.0581\n",
      "Training Accuracy: 0.9435, Testing Accuracy: 0.9546\n",
      "\n"
     ]
    },
    {
     "name": "stdout",
     "output_type": "stream",
     "text": [
      "Epoch 60, Loss 0.0546\n",
      "Training Accuracy: 0.9462, Testing Accuracy: 0.9572\n",
      "\n"
     ]
    },
    {
     "name": "stdout",
     "output_type": "stream",
     "text": [
      "Epoch 70, Loss 0.052\n",
      "Training Accuracy: 0.9487, Testing Accuracy: 0.9572\n",
      "\n"
     ]
    },
    {
     "name": "stdout",
     "output_type": "stream",
     "text": [
      "Epoch 80, Loss 0.0499\n",
      "Training Accuracy: 0.9501, Testing Accuracy: 0.9597\n",
      "\n"
     ]
    },
    {
     "name": "stdout",
     "output_type": "stream",
     "text": [
      "Epoch 90, Loss 0.0481\n",
      "Training Accuracy: 0.9511, Testing Accuracy: 0.9607\n",
      "\n"
     ]
    },
    {
     "name": "stdout",
     "output_type": "stream",
     "text": [
      "Epoch 100, Loss 0.0466\n",
      "Training Accuracy: 0.9524, Testing Accuracy: 0.9622\n",
      "\n"
     ]
    },
    {
     "name": "stdout",
     "output_type": "stream",
     "text": [
      "Epoch 110, Loss 0.0454\n",
      "Training Accuracy: 0.9533, Testing Accuracy: 0.9627\n",
      "\n"
     ]
    },
    {
     "name": "stdout",
     "output_type": "stream",
     "text": [
      "Epoch 120, Loss 0.0443\n",
      "Training Accuracy: 0.9545, Testing Accuracy: 0.9647\n",
      "\n"
     ]
    },
    {
     "name": "stdout",
     "output_type": "stream",
     "text": [
      "Epoch 130, Loss 0.0433\n",
      "Training Accuracy: 0.9549, Testing Accuracy: 0.9652\n",
      "\n"
     ]
    },
    {
     "name": "stdout",
     "output_type": "stream",
     "text": [
      "Epoch 140, Loss 0.0425\n",
      "Training Accuracy: 0.9560, Testing Accuracy: 0.9647\n",
      "\n"
     ]
    },
    {
     "name": "stdout",
     "output_type": "stream",
     "text": [
      "Epoch 150, Loss 0.0417\n",
      "Training Accuracy: 0.9569, Testing Accuracy: 0.9647\n",
      "\n"
     ]
    },
    {
     "name": "stdout",
     "output_type": "stream",
     "text": [
      "Epoch 160, Loss 0.041\n",
      "Training Accuracy: 0.9571, Testing Accuracy: 0.9657\n",
      "\n"
     ]
    },
    {
     "name": "stdout",
     "output_type": "stream",
     "text": [
      "Epoch 170, Loss 0.0404\n",
      "Training Accuracy: 0.9577, Testing Accuracy: 0.9662\n",
      "\n"
     ]
    },
    {
     "name": "stdout",
     "output_type": "stream",
     "text": [
      "Epoch 180, Loss 0.0398\n",
      "Training Accuracy: 0.9582, Testing Accuracy: 0.9662\n",
      "\n"
     ]
    },
    {
     "name": "stdout",
     "output_type": "stream",
     "text": [
      "Epoch 190, Loss 0.0393\n",
      "Training Accuracy: 0.9588, Testing Accuracy: 0.9667\n",
      "\n"
     ]
    },
    {
     "name": "stdout",
     "output_type": "stream",
     "text": [
      "Epoch 200, Loss 0.0388\n",
      "Training Accuracy: 0.9591, Testing Accuracy: 0.9672\n",
      "\n"
     ]
    },
    {
     "name": "stdout",
     "output_type": "stream",
     "text": [
      "Epoch 210, Loss 0.0383\n",
      "Training Accuracy: 0.9590, Testing Accuracy: 0.9677\n",
      "\n"
     ]
    },
    {
     "name": "stdout",
     "output_type": "stream",
     "text": [
      "Epoch 220, Loss 0.0379\n",
      "Training Accuracy: 0.9592, Testing Accuracy: 0.9677\n",
      "\n"
     ]
    },
    {
     "name": "stdout",
     "output_type": "stream",
     "text": [
      "Epoch 230, Loss 0.0375\n",
      "Training Accuracy: 0.9594, Testing Accuracy: 0.9682\n",
      "\n"
     ]
    },
    {
     "name": "stdout",
     "output_type": "stream",
     "text": [
      "Epoch 240, Loss 0.0372\n",
      "Training Accuracy: 0.9598, Testing Accuracy: 0.9688\n",
      "\n"
     ]
    },
    {
     "data": {
      "text/plain": [
       "0.05052640595549003"
      ]
     },
     "execution_count": 23,
     "metadata": {},
     "output_type": "execute_result"
    }
   ],
   "source": [
    "lr_learner.train_loop(dl)"
   ]
  },
  {
   "cell_type": "code",
   "execution_count": 24,
   "id": "ca410940",
   "metadata": {
    "execution": {
     "iopub.execute_input": "2021-12-30T00:25:26.944984Z",
     "iopub.status.busy": "2021-12-30T00:25:26.944487Z",
     "iopub.status.idle": "2021-12-30T00:25:27.142714Z",
     "shell.execute_reply": "2021-12-30T00:25:27.142250Z"
    },
    "papermill": {
     "duration": 0.255421,
     "end_time": "2021-12-30T00:25:27.142844",
     "exception": false,
     "start_time": "2021-12-30T00:25:26.887423",
     "status": "completed"
    },
    "tags": []
   },
   "outputs": [
    {
     "data": {
      "text/plain": [
       "<matplotlib.legend.Legend at 0x7fa28aa8bcf8>"
      ]
     },
     "execution_count": 24,
     "metadata": {},
     "output_type": "execute_result"
    },
    {
     "data": {
      "image/png": "[encoded data removed]",
      "text/plain": [
       "<Figure size 1080x720 with 1 Axes>"
      ]
     },
     "metadata": {
      "needs_background": "light"
     },
     "output_type": "display_data"
    }
   ],
   "source": [
    "#comparing the results of NN and LR\n",
    "plt.figure(figsize=(15,10))\n",
    "\n",
    "# Neural Network plots\n",
    "plt.plot(acc_nn.accuracies, 'r-', label = \"Training Accuracies - NN\")\n",
    "plt.plot(acc_nn.test_accuracies, 'g-', label = \"Testing Accuracies - NN\")\n",
    "\n",
    "# Logistic Regression plots\n",
    "plt.plot(acc_lr.accuracies, 'k-', label = \"Training Accuracies - LR\")\n",
    "plt.plot(acc_lr.test_accuracies, 'b-', label = \"Testing Accuracies - LR\")\n",
    "plt.legend()"
   ]
  },
  {
   "cell_type": "markdown",
   "id": "80dfb35c",
   "metadata": {
    "papermill": {
     "duration": 0.042016,
     "end_time": "2021-12-30T00:25:27.227562",
     "exception": false,
     "start_time": "2021-12-30T00:25:27.185546",
     "status": "completed"
    },
    "tags": []
   },
   "source": [
    "#### Plotting the outputs of this layer of the NN.\n"
   ]
  },
  {
   "cell_type": "code",
   "execution_count": 25,
   "id": "45eb2ff5",
   "metadata": {
    "execution": {
     "iopub.execute_input": "2021-12-30T00:25:27.318965Z",
     "iopub.status.busy": "2021-12-30T00:25:27.318411Z",
     "iopub.status.idle": "2021-12-30T00:25:27.339111Z",
     "shell.execute_reply": "2021-12-30T00:25:27.338658Z"
    },
    "papermill": {
     "duration": 0.069677,
     "end_time": "2021-12-30T00:25:27.339237",
     "exception": false,
     "start_time": "2021-12-30T00:25:27.269560",
     "status": "completed"
    },
    "tags": []
   },
   "outputs": [],
   "source": [
    "new_model = Model(layers[:-2])\n",
    "testing_plot = new_model(testing_data_x)"
   ]
  },
  {
   "cell_type": "code",
   "execution_count": 26,
   "id": "4c0a5485",
   "metadata": {
    "execution": {
     "iopub.execute_input": "2021-12-30T00:25:27.430812Z",
     "iopub.status.busy": "2021-12-30T00:25:27.430288Z",
     "iopub.status.idle": "2021-12-30T00:25:27.642854Z",
     "shell.execute_reply": "2021-12-30T00:25:27.642383Z"
    },
    "papermill": {
     "duration": 0.260188,
     "end_time": "2021-12-30T00:25:27.642985",
     "exception": false,
     "start_time": "2021-12-30T00:25:27.382797",
     "status": "completed"
    },
    "tags": []
   },
   "outputs": [
    {
     "data": {
      "text/plain": [
       "Text(0.5, 1.0, 'Outputs')"
      ]
     },
     "execution_count": 26,
     "metadata": {},
     "output_type": "execute_result"
    },
    {
     "data": {
      "image/png": "[encoded data removed]",
      "text/plain": [
       "<Figure size 576x504 with 1 Axes>"
      ]
     },
     "metadata": {
      "needs_background": "light"
     },
     "output_type": "display_data"
    }
   ],
   "source": [
    "# Plotting the scatter plot of points and color coding by class\n",
    "plt.figure(figsize=(8,7))\n",
    "plt.scatter(testing_plot[:,0], testing_plot[:,1], alpha = 0.1, c = y_test.ravel());\n",
    "plt.title('Outputs')"
   ]
  },
  {
   "cell_type": "markdown",
   "id": "a74fcf8f",
   "metadata": {
    "papermill": {
     "duration": 0.0485,
     "end_time": "2021-12-30T00:25:27.744514",
     "exception": false,
     "start_time": "2021-12-30T00:25:27.696014",
     "status": "completed"
    },
    "tags": []
   },
   "source": [
    "Probability contours"
   ]
  },
  {
   "cell_type": "code",
   "execution_count": 27,
   "id": "d0afc8e3",
   "metadata": {
    "execution": {
     "iopub.execute_input": "2021-12-30T00:25:27.848957Z",
     "iopub.status.busy": "2021-12-30T00:25:27.848409Z",
     "iopub.status.idle": "2021-12-30T00:25:27.858307Z",
     "shell.execute_reply": "2021-12-30T00:25:27.858703Z"
    },
    "papermill": {
     "duration": 0.06654,
     "end_time": "2021-12-30T00:25:27.858839",
     "exception": false,
     "start_time": "2021-12-30T00:25:27.792299",
     "status": "completed"
    },
    "tags": []
   },
   "outputs": [],
   "source": [
    "model_prob = Model(layers[-2:]) "
   ]
  },
  {
   "cell_type": "code",
   "execution_count": 28,
   "id": "9b96e238",
   "metadata": {
    "execution": {
     "iopub.execute_input": "2021-12-30T00:25:27.984848Z",
     "iopub.status.busy": "2021-12-30T00:25:27.984323Z",
     "iopub.status.idle": "2021-12-30T00:25:27.997741Z",
     "shell.execute_reply": "2021-12-30T00:25:27.998139Z"
    },
    "papermill": {
     "duration": 0.093738,
     "end_time": "2021-12-30T00:25:27.998270",
     "exception": false,
     "start_time": "2021-12-30T00:25:27.904532",
     "status": "completed"
    },
    "tags": []
   },
   "outputs": [],
   "source": [
    "#creating the x and y ranges according to the above generated plot.\n",
    "x_range = np.linspace(-4, 1, 100) \n",
    "y_range = np.linspace(-6, 6, 100) \n",
    "x_grid, y_grid = np.meshgrid(x_range, y_range) # x_grid and y_grig are of size 100 X 100\n",
    "\n",
    "# converting x_grid and y_grid to continuous arrays\n",
    "x_gridflat = np.ravel(x_grid)\n",
    "y_gridflat = np.ravel(y_grid)\n",
    "\n",
    "# The last layer of the current model takes two columns as input. Hence transpose of np.vstack() is required.\n",
    "X = np.vstack((x_gridflat, y_gridflat)).T\n",
    "\n",
    "prob_contour = model_prob(X).reshape(100,100) "
   ]
  },
  {
   "cell_type": "code",
   "execution_count": 29,
   "id": "da72499a",
   "metadata": {
    "execution": {
     "iopub.execute_input": "2021-12-30T00:25:28.099546Z",
     "iopub.status.busy": "2021-12-30T00:25:28.099002Z",
     "iopub.status.idle": "2021-12-30T00:25:28.369962Z",
     "shell.execute_reply": "2021-12-30T00:25:28.369513Z"
    },
    "papermill": {
     "duration": 0.325578,
     "end_time": "2021-12-30T00:25:28.370089",
     "exception": false,
     "start_time": "2021-12-30T00:25:28.044511",
     "status": "completed"
    },
    "tags": []
   },
   "outputs": [
    {
     "data": {
      "image/png": "[encoded data removed]",
      "text/plain": [
       "<Figure size 720x648 with 1 Axes>"
      ]
     },
     "metadata": {
      "needs_background": "light"
     },
     "output_type": "display_data"
    }
   ],
   "source": [
    "plt.figure(figsize=(10,9))\n",
    "plt.scatter(testing_plot[:,0], testing_plot[:,1], alpha = 0.1, c = y_test.ravel())\n",
    "contours = plt.contour(x_grid,y_grid,prob_contour)\n",
    "plt.title('Probability Contours')\n",
    "plt.clabel(contours, inline = True );"
   ]
  },
  {
   "cell_type": "code",
   "execution_count": null,
   "id": "e81b4ac7",
   "metadata": {
    "papermill": {
     "duration": 0.047132,
     "end_time": "2021-12-30T00:25:28.464259",
     "exception": false,
     "start_time": "2021-12-30T00:25:28.417127",
     "status": "completed"
    },
    "tags": []
   },
   "outputs": [],
   "source": []
  }
 ],
 "metadata": {
  "kernelspec": {
   "display_name": "Python 3",
   "language": "python",
   "name": "python3"
  },
  "language_info": {
   "codemirror_mode": {
    "name": "ipython",
    "version": 3
   },
   "file_extension": ".py",
   "mimetype": "text/x-python",
   "name": "python",
   "nbconvert_exporter": "python",
   "pygments_lexer": "ipython3",
   "version": "3.6.15"
  },
  "papermill": {
   "default_parameters": {},
   "duration": 99.605668,
   "end_time": "2021-12-30T00:25:28.919047",
   "environment_variables": {},
   "exception": null,
   "input_path": "2020-08-11-part2.ipynb",
   "output_path": "2020-08-11-part2.ipynb",
   "parameters": {},
   "start_time": "2021-12-30T00:23:49.313379",
   "version": "2.3.3"
  }
 },
 "nbformat": 4,
 "nbformat_minor": 5
}