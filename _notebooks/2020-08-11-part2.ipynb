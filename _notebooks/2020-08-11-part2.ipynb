{
 "cells": [
  {
   "cell_type": "markdown",
   "id": "98380cd3",
   "metadata": {
    "papermill": {
     "duration": 0.034891,
     "end_time": "2021-08-27T20:07:20.524736",
     "exception": false,
     "start_time": "2021-08-27T20:07:20.489845",
     "status": "completed"
    },
    "tags": []
   },
   "source": [
    "# Distinguish Your Own Digits (DYOD)"
   ]
  },
  {
   "cell_type": "markdown",
   "id": "ef31240d",
   "metadata": {
    "papermill": {
     "duration": 0.026612,
     "end_time": "2021-08-27T20:07:20.578890",
     "exception": false,
     "start_time": "2021-08-27T20:07:20.552278",
     "status": "completed"
    },
    "tags": []
   },
   "source": [
    "You are going to write a classifier that distinguishes between the number 3 and number 8."
   ]
  },
  {
   "cell_type": "code",
   "execution_count": 1,
   "id": "b15c8646",
   "metadata": {
    "execution": {
     "iopub.execute_input": "2021-08-27T20:07:20.648978Z",
     "iopub.status.busy": "2021-08-27T20:07:20.648343Z",
     "iopub.status.idle": "2021-08-27T20:07:20.661278Z",
     "shell.execute_reply": "2021-08-27T20:07:20.660772Z"
    },
    "papermill": {
     "duration": 0.055819,
     "end_time": "2021-08-27T20:07:20.661451",
     "exception": false,
     "start_time": "2021-08-27T20:07:20.605632",
     "status": "completed"
    },
    "tags": []
   },
   "outputs": [],
   "source": [
    "%load_ext autoreload\n",
    "%autoreload 2"
   ]
  },
  {
   "cell_type": "code",
   "execution_count": 2,
   "id": "22ef38dc",
   "metadata": {
    "execution": {
     "iopub.execute_input": "2021-08-27T20:07:20.724228Z",
     "iopub.status.busy": "2021-08-27T20:07:20.723605Z",
     "iopub.status.idle": "2021-08-27T20:07:21.312749Z",
     "shell.execute_reply": "2021-08-27T20:07:21.311961Z"
    },
    "papermill": {
     "duration": 0.624651,
     "end_time": "2021-08-27T20:07:21.312947",
     "exception": false,
     "start_time": "2021-08-27T20:07:20.688296",
     "status": "completed"
    },
    "tags": []
   },
   "outputs": [],
   "source": [
    "%matplotlib inline\n",
    "import numpy as np\n",
    "import matplotlib.pyplot as plt\n",
    "import pandas as pd"
   ]
  },
  {
   "cell_type": "markdown",
   "id": "ba036198",
   "metadata": {
    "papermill": {
     "duration": 0.028525,
     "end_time": "2021-08-27T20:07:21.371058",
     "exception": false,
     "start_time": "2021-08-27T20:07:21.342533",
     "status": "completed"
    },
    "tags": []
   },
   "source": [
    "From the command line run `pip install mnist`. This is a library that will help you bring down the mnist dataset. If you run this from a notebook, you need to put  `!pip install mnist` in a cell by itself."
   ]
  },
  {
   "cell_type": "code",
   "execution_count": 3,
   "id": "bb6ad8a1",
   "metadata": {
    "execution": {
     "iopub.execute_input": "2021-08-27T20:07:21.430292Z",
     "iopub.status.busy": "2021-08-27T20:07:21.429652Z",
     "iopub.status.idle": "2021-08-27T20:07:23.274970Z",
     "shell.execute_reply": "2021-08-27T20:07:23.273634Z"
    },
    "papermill": {
     "duration": 1.877607,
     "end_time": "2021-08-27T20:07:23.275190",
     "exception": false,
     "start_time": "2021-08-27T20:07:21.397583",
     "status": "completed"
    },
    "tags": []
   },
   "outputs": [
    {
     "name": "stdout",
     "output_type": "stream",
     "text": [
      "Collecting mnist\r\n"
     ]
    },
    {
     "name": "stdout",
     "output_type": "stream",
     "text": [
      "  Downloading mnist-0.2.2-py2.py3-none-any.whl (3.5 kB)\r\n",
      "Requirement already satisfied: numpy in /opt/hostedtoolcache/Python/3.6.14/x64/lib/python3.6/site-packages (from mnist) (1.19.5)\r\n"
     ]
    },
    {
     "name": "stdout",
     "output_type": "stream",
     "text": [
      "Installing collected packages: mnist\r\n"
     ]
    },
    {
     "name": "stdout",
     "output_type": "stream",
     "text": [
      "Successfully installed mnist-0.2.2\r\n"
     ]
    }
   ],
   "source": [
    "!pip install mnist"
   ]
  },
  {
   "cell_type": "markdown",
   "id": "69df9c9a",
   "metadata": {
    "papermill": {
     "duration": 0.028682,
     "end_time": "2021-08-27T20:07:23.333676",
     "exception": false,
     "start_time": "2021-08-27T20:07:23.304994",
     "status": "completed"
    },
    "tags": []
   },
   "source": [
    "## Preparing the Data"
   ]
  },
  {
   "cell_type": "code",
   "execution_count": 4,
   "id": "7f69d806",
   "metadata": {
    "execution": {
     "iopub.execute_input": "2021-08-27T20:07:23.397890Z",
     "iopub.status.busy": "2021-08-27T20:07:23.397243Z",
     "iopub.status.idle": "2021-08-27T20:07:23.412445Z",
     "shell.execute_reply": "2021-08-27T20:07:23.412928Z"
    },
    "papermill": {
     "duration": 0.051415,
     "end_time": "2021-08-27T20:07:23.413085",
     "exception": false,
     "start_time": "2021-08-27T20:07:23.361670",
     "status": "completed"
    },
    "tags": []
   },
   "outputs": [],
   "source": [
    "import mnist"
   ]
  },
  {
   "cell_type": "code",
   "execution_count": 5,
   "id": "a411e44f",
   "metadata": {
    "execution": {
     "iopub.execute_input": "2021-08-27T20:07:23.473442Z",
     "iopub.status.busy": "2021-08-27T20:07:23.472822Z",
     "iopub.status.idle": "2021-08-27T20:07:24.021326Z",
     "shell.execute_reply": "2021-08-27T20:07:24.020769Z"
    },
    "papermill": {
     "duration": 0.580095,
     "end_time": "2021-08-27T20:07:24.021497",
     "exception": false,
     "start_time": "2021-08-27T20:07:23.441402",
     "status": "completed"
    },
    "tags": []
   },
   "outputs": [],
   "source": [
    "train_images = mnist.train_images()\n",
    "train_labels = mnist.train_labels()"
   ]
  },
  {
   "cell_type": "code",
   "execution_count": 6,
   "id": "dceab3a5",
   "metadata": {
    "execution": {
     "iopub.execute_input": "2021-08-27T20:07:24.086344Z",
     "iopub.status.busy": "2021-08-27T20:07:24.085747Z",
     "iopub.status.idle": "2021-08-27T20:07:24.102482Z",
     "shell.execute_reply": "2021-08-27T20:07:24.101974Z"
    },
    "papermill": {
     "duration": 0.051797,
     "end_time": "2021-08-27T20:07:24.102609",
     "exception": false,
     "start_time": "2021-08-27T20:07:24.050812",
     "status": "completed"
    },
    "tags": []
   },
   "outputs": [
    {
     "data": {
      "text/plain": [
       "((60000, 28, 28), (60000,))"
      ]
     },
     "execution_count": 6,
     "metadata": {},
     "output_type": "execute_result"
    }
   ],
   "source": [
    "train_images.shape, train_labels.shape"
   ]
  },
  {
   "cell_type": "code",
   "execution_count": 7,
   "id": "f50dc2bb",
   "metadata": {
    "execution": {
     "iopub.execute_input": "2021-08-27T20:07:24.165179Z",
     "iopub.status.busy": "2021-08-27T20:07:24.164578Z",
     "iopub.status.idle": "2021-08-27T20:07:24.308827Z",
     "shell.execute_reply": "2021-08-27T20:07:24.307955Z"
    },
    "papermill": {
     "duration": 0.177369,
     "end_time": "2021-08-27T20:07:24.309051",
     "exception": false,
     "start_time": "2021-08-27T20:07:24.131682",
     "status": "completed"
    },
    "tags": []
   },
   "outputs": [],
   "source": [
    "test_images = mnist.test_images()\n",
    "test_labels = mnist.test_labels()"
   ]
  },
  {
   "cell_type": "code",
   "execution_count": 8,
   "id": "fc38cf1b",
   "metadata": {
    "execution": {
     "iopub.execute_input": "2021-08-27T20:07:24.372085Z",
     "iopub.status.busy": "2021-08-27T20:07:24.371467Z",
     "iopub.status.idle": "2021-08-27T20:07:24.386851Z",
     "shell.execute_reply": "2021-08-27T20:07:24.386150Z"
    },
    "papermill": {
     "duration": 0.047367,
     "end_time": "2021-08-27T20:07:24.386977",
     "exception": false,
     "start_time": "2021-08-27T20:07:24.339610",
     "status": "completed"
    },
    "tags": []
   },
   "outputs": [
    {
     "data": {
      "text/plain": [
       "((10000, 28, 28), (10000,))"
      ]
     },
     "execution_count": 8,
     "metadata": {},
     "output_type": "execute_result"
    }
   ],
   "source": [
    "test_images.shape, test_labels.shape"
   ]
  },
  {
   "cell_type": "code",
   "execution_count": 9,
   "id": "f9ed8fe0",
   "metadata": {
    "execution": {
     "iopub.execute_input": "2021-08-27T20:07:24.449000Z",
     "iopub.status.busy": "2021-08-27T20:07:24.448392Z",
     "iopub.status.idle": "2021-08-27T20:07:24.612405Z",
     "shell.execute_reply": "2021-08-27T20:07:24.611736Z"
    },
    "papermill": {
     "duration": 0.197527,
     "end_time": "2021-08-27T20:07:24.612580",
     "exception": false,
     "start_time": "2021-08-27T20:07:24.415053",
     "status": "completed"
    },
    "tags": []
   },
   "outputs": [
    {
     "name": "stdout",
     "output_type": "stream",
     "text": [
      "2\n"
     ]
    },
    {
     "data": {
      "text/plain": [
       "<matplotlib.image.AxesImage at 0x7f1dad393940>"
      ]
     },
     "execution_count": 9,
     "metadata": {},
     "output_type": "execute_result"
    },
    {
     "data": {
      "image/png": "[encoded data removed]",
      "text/plain": [
       "<Figure size 432x288 with 1 Axes>"
      ]
     },
     "metadata": {
      "needs_background": "light"
     },
     "output_type": "display_data"
    }
   ],
   "source": [
    "image_index = 7776 # You may select anything up to 60,000\n",
    "print(train_labels[image_index]) \n",
    "plt.imshow(train_images[image_index], cmap='Greys')"
   ]
  },
  {
   "cell_type": "markdown",
   "id": "a8d2388d",
   "metadata": {
    "papermill": {
     "duration": 0.030495,
     "end_time": "2021-08-27T20:07:24.674442",
     "exception": false,
     "start_time": "2021-08-27T20:07:24.643947",
     "status": "completed"
    },
    "tags": []
   },
   "source": [
    "## Filter data to get 3 and 8 out"
   ]
  },
  {
   "cell_type": "code",
   "execution_count": 10,
   "id": "776f7fc7",
   "metadata": {
    "execution": {
     "iopub.execute_input": "2021-08-27T20:07:24.740458Z",
     "iopub.status.busy": "2021-08-27T20:07:24.739844Z",
     "iopub.status.idle": "2021-08-27T20:07:24.758531Z",
     "shell.execute_reply": "2021-08-27T20:07:24.758995Z"
    },
    "papermill": {
     "duration": 0.054534,
     "end_time": "2021-08-27T20:07:24.759154",
     "exception": false,
     "start_time": "2021-08-27T20:07:24.704620",
     "status": "completed"
    },
    "tags": []
   },
   "outputs": [],
   "source": [
    "train_filter = np.where((train_labels == 3 ) | (train_labels == 8))\n",
    "test_filter = np.where((test_labels == 3) | (test_labels == 8))\n",
    "X_train, y_train = train_images[train_filter], train_labels[train_filter]\n",
    "X_test, y_test = test_images[test_filter], test_labels[test_filter]"
   ]
  },
  {
   "cell_type": "markdown",
   "id": "948f0b7e",
   "metadata": {
    "papermill": {
     "duration": 0.031385,
     "end_time": "2021-08-27T20:07:24.820787",
     "exception": false,
     "start_time": "2021-08-27T20:07:24.789402",
     "status": "completed"
    },
    "tags": []
   },
   "source": [
    "We normalize the pizel values in the 0 to 1 range"
   ]
  },
  {
   "cell_type": "code",
   "execution_count": 11,
   "id": "ee4c2166",
   "metadata": {
    "execution": {
     "iopub.execute_input": "2021-08-27T20:07:24.886535Z",
     "iopub.status.busy": "2021-08-27T20:07:24.885926Z",
     "iopub.status.idle": "2021-08-27T20:07:24.941913Z",
     "shell.execute_reply": "2021-08-27T20:07:24.941310Z"
    },
    "papermill": {
     "duration": 0.090668,
     "end_time": "2021-08-27T20:07:24.942051",
     "exception": false,
     "start_time": "2021-08-27T20:07:24.851383",
     "status": "completed"
    },
    "tags": []
   },
   "outputs": [],
   "source": [
    "X_train = X_train/255.\n",
    "X_test = X_test/255."
   ]
  },
  {
   "cell_type": "markdown",
   "id": "ddcf4fab",
   "metadata": {
    "papermill": {
     "duration": 0.030627,
     "end_time": "2021-08-27T20:07:25.003487",
     "exception": false,
     "start_time": "2021-08-27T20:07:24.972860",
     "status": "completed"
    },
    "tags": []
   },
   "source": [
    "And setup the labels as 1 (when the digit is 3) and 0 (when the digit is 8)"
   ]
  },
  {
   "cell_type": "code",
   "execution_count": 12,
   "id": "7dc908f2",
   "metadata": {
    "execution": {
     "iopub.execute_input": "2021-08-27T20:07:25.069759Z",
     "iopub.status.busy": "2021-08-27T20:07:25.069112Z",
     "iopub.status.idle": "2021-08-27T20:07:25.083759Z",
     "shell.execute_reply": "2021-08-27T20:07:25.083252Z"
    },
    "papermill": {
     "duration": 0.050009,
     "end_time": "2021-08-27T20:07:25.083896",
     "exception": false,
     "start_time": "2021-08-27T20:07:25.033887",
     "status": "completed"
    },
    "tags": []
   },
   "outputs": [],
   "source": [
    "y_train = 1*(y_train==3)\n",
    "y_test = 1*(y_test==3)"
   ]
  },
  {
   "cell_type": "code",
   "execution_count": 13,
   "id": "01e4e969",
   "metadata": {
    "execution": {
     "iopub.execute_input": "2021-08-27T20:07:25.149890Z",
     "iopub.status.busy": "2021-08-27T20:07:25.149253Z",
     "iopub.status.idle": "2021-08-27T20:07:25.166171Z",
     "shell.execute_reply": "2021-08-27T20:07:25.165655Z"
    },
    "papermill": {
     "duration": 0.051888,
     "end_time": "2021-08-27T20:07:25.166303",
     "exception": false,
     "start_time": "2021-08-27T20:07:25.114415",
     "status": "completed"
    },
    "tags": []
   },
   "outputs": [
    {
     "data": {
      "text/plain": [
       "((11982, 28, 28), (1984, 28, 28))"
      ]
     },
     "execution_count": 13,
     "metadata": {},
     "output_type": "execute_result"
    }
   ],
   "source": [
    "X_train.shape, X_test.shape"
   ]
  },
  {
   "cell_type": "markdown",
   "id": "5ccf3f85",
   "metadata": {
    "papermill": {
     "duration": 0.030385,
     "end_time": "2021-08-27T20:07:25.227332",
     "exception": false,
     "start_time": "2021-08-27T20:07:25.196947",
     "status": "completed"
    },
    "tags": []
   },
   "source": [
    "We reshape the data to flatten the image pixels into a set of features or co-variates:"
   ]
  },
  {
   "cell_type": "code",
   "execution_count": 14,
   "id": "5286a4a3",
   "metadata": {
    "execution": {
     "iopub.execute_input": "2021-08-27T20:07:25.294412Z",
     "iopub.status.busy": "2021-08-27T20:07:25.293789Z",
     "iopub.status.idle": "2021-08-27T20:07:25.309748Z",
     "shell.execute_reply": "2021-08-27T20:07:25.309236Z"
    },
    "papermill": {
     "duration": 0.051856,
     "end_time": "2021-08-27T20:07:25.309886",
     "exception": false,
     "start_time": "2021-08-27T20:07:25.258030",
     "status": "completed"
    },
    "tags": []
   },
   "outputs": [
    {
     "data": {
      "text/plain": [
       "((11982, 784), (1984, 784))"
      ]
     },
     "execution_count": 14,
     "metadata": {},
     "output_type": "execute_result"
    }
   ],
   "source": [
    "X_train = X_train.reshape(X_train.shape[0], -1)\n",
    "X_test = X_test.reshape(X_test.shape[0], -1)\n",
    "X_train.shape, X_test.shape"
   ]
  },
  {
   "cell_type": "code",
   "execution_count": 15,
   "id": "73c5f88a",
   "metadata": {
    "execution": {
     "iopub.execute_input": "2021-08-27T20:07:25.379669Z",
     "iopub.status.busy": "2021-08-27T20:07:25.379064Z",
     "iopub.status.idle": "2021-08-27T20:07:25.399921Z",
     "shell.execute_reply": "2021-08-27T20:07:25.399416Z"
    },
    "papermill": {
     "duration": 0.057308,
     "end_time": "2021-08-27T20:07:25.400057",
     "exception": false,
     "start_time": "2021-08-27T20:07:25.342749",
     "status": "completed"
    },
    "tags": []
   },
   "outputs": [],
   "source": [
    "#Impoting functions from 'Kudzu'\n",
    "from kudzu.model import Model\n",
    "from kudzu.train import Learner\n",
    "from kudzu.optim import GD\n",
    "from kudzu.data import Data, Sampler,Dataloader\n",
    "\n",
    "from kudzu.callbacks import AccCallback\n",
    "from kudzu.callbacks import ClfCallback\n",
    "\n",
    "from kudzu.loss import MSE\n",
    "\n",
    "from kudzu.layer import Sigmoid,Relu\n",
    "from kudzu.layer import Affine"
   ]
  },
  {
   "cell_type": "markdown",
   "id": "bc01172a",
   "metadata": {
    "papermill": {
     "duration": 0.032023,
     "end_time": "2021-08-27T20:07:25.463281",
     "exception": false,
     "start_time": "2021-08-27T20:07:25.431258",
     "status": "completed"
    },
    "tags": []
   },
   "source": [
    "### Let us create a `Config` class, to store important parameters. \n",
    "This class essentially plays the role of a dictionary."
   ]
  },
  {
   "cell_type": "code",
   "execution_count": 16,
   "id": "978281aa",
   "metadata": {
    "execution": {
     "iopub.execute_input": "2021-08-27T20:07:25.531745Z",
     "iopub.status.busy": "2021-08-27T20:07:25.531147Z",
     "iopub.status.idle": "2021-08-27T20:07:25.543417Z",
     "shell.execute_reply": "2021-08-27T20:07:25.542904Z"
    },
    "papermill": {
     "duration": 0.049182,
     "end_time": "2021-08-27T20:07:25.543546",
     "exception": false,
     "start_time": "2021-08-27T20:07:25.494364",
     "status": "completed"
    },
    "tags": []
   },
   "outputs": [],
   "source": [
    "class Config:\n",
    "    pass\n",
    "config = Config()\n",
    "config.lr = 0.001\n",
    "config.num_epochs = 250\n",
    "config.bs = 50"
   ]
  },
  {
   "cell_type": "markdown",
   "id": "1385fa59",
   "metadata": {
    "papermill": {
     "duration": 0.030888,
     "end_time": "2021-08-27T20:07:25.605040",
     "exception": false,
     "start_time": "2021-08-27T20:07:25.574152",
     "status": "completed"
    },
    "tags": []
   },
   "source": [
    "### Running Models with the Training data\n",
    "Details about the network layers:\n",
    "- A first affine layer has 784 inputs and does 100 affine transforms. These are followed by a Relu\n",
    "- A second affine layer has 100 inputs from the 100 activations of the past layer, and does 100 affine transforms. These are followed by a Relu\n",
    "- A third affine layer has 100 activations and does 2 affine transformations to create an embedding for visualization. There is no non-linearity here.\n",
    "- A final \"logistic regression\" which has an affine transform from 2 inputs to 1 output, which is squeezed through a sigmoid.\n"
   ]
  },
  {
   "cell_type": "code",
   "execution_count": 17,
   "id": "2b9c66db",
   "metadata": {
    "execution": {
     "iopub.execute_input": "2021-08-27T20:07:25.673019Z",
     "iopub.status.busy": "2021-08-27T20:07:25.672410Z",
     "iopub.status.idle": "2021-08-27T20:07:25.685508Z",
     "shell.execute_reply": "2021-08-27T20:07:25.684956Z"
    },
    "papermill": {
     "duration": 0.049773,
     "end_time": "2021-08-27T20:07:25.685643",
     "exception": false,
     "start_time": "2021-08-27T20:07:25.635870",
     "status": "completed"
    },
    "tags": []
   },
   "outputs": [],
   "source": [
    "data = Data(X_train, y_train.reshape(-1,1))\n",
    "sampler = Sampler(data, config.bs, shuffle=True)\n",
    "\n",
    "dl = Dataloader(data, sampler)\n",
    "\n",
    "opt = GD(config.lr)\n",
    "loss = MSE()"
   ]
  },
  {
   "cell_type": "code",
   "execution_count": 18,
   "id": "b275e4c2",
   "metadata": {
    "execution": {
     "iopub.execute_input": "2021-08-27T20:07:25.753693Z",
     "iopub.status.busy": "2021-08-27T20:07:25.753054Z",
     "iopub.status.idle": "2021-08-27T20:07:25.765914Z",
     "shell.execute_reply": "2021-08-27T20:07:25.765444Z"
    },
    "papermill": {
     "duration": 0.049848,
     "end_time": "2021-08-27T20:07:25.766043",
     "exception": false,
     "start_time": "2021-08-27T20:07:25.716195",
     "status": "completed"
    },
    "tags": []
   },
   "outputs": [],
   "source": [
    "training_data_x = X_train\n",
    "testing_data_x = X_test\n",
    "training_data_y = y_train.reshape(-1,1)\n",
    "testing_data_y = y_test.reshape(-1,1)"
   ]
  },
  {
   "cell_type": "code",
   "execution_count": 19,
   "id": "76951160",
   "metadata": {
    "execution": {
     "iopub.execute_input": "2021-08-27T20:07:25.836019Z",
     "iopub.status.busy": "2021-08-27T20:07:25.835402Z",
     "iopub.status.idle": "2021-08-27T20:07:25.852943Z",
     "shell.execute_reply": "2021-08-27T20:07:25.853751Z"
    },
    "papermill": {
     "duration": 0.054641,
     "end_time": "2021-08-27T20:07:25.853916",
     "exception": false,
     "start_time": "2021-08-27T20:07:25.799275",
     "status": "completed"
    },
    "tags": []
   },
   "outputs": [
    {
     "name": "stdout",
     "output_type": "stream",
     "text": [
      "xavier\n",
      "xavier\n",
      "xavier\n",
      "xavier\n",
      "xavier\n"
     ]
    }
   ],
   "source": [
    "layers = [Affine(\"first\", 784, 100), Relu(\"first\"), Affine(\"second\", 100, 100), Relu(\"second\"), Affine(\"third\", 100, 2), Affine(\"last\", 2, 1), Sigmoid(\"last\")]\n",
    "model_nn = Model(layers)\n",
    "model_lr = Model([Affine(\"logits\", 784, 1), Sigmoid(\"sigmoid\")])"
   ]
  },
  {
   "cell_type": "code",
   "execution_count": 20,
   "id": "6eede77a",
   "metadata": {
    "execution": {
     "iopub.execute_input": "2021-08-27T20:07:25.920188Z",
     "iopub.status.busy": "2021-08-27T20:07:25.919574Z",
     "iopub.status.idle": "2021-08-27T20:07:25.934257Z",
     "shell.execute_reply": "2021-08-27T20:07:25.933682Z"
    },
    "papermill": {
     "duration": 0.049659,
     "end_time": "2021-08-27T20:07:25.934390",
     "exception": false,
     "start_time": "2021-08-27T20:07:25.884731",
     "status": "completed"
    },
    "tags": []
   },
   "outputs": [],
   "source": [
    "nn_learner = Learner(loss, model_nn, opt, config.num_epochs)\n",
    "acc_nn = ClfCallback(nn_learner, config.bs, training_data_x , testing_data_x, training_data_y, testing_data_y)\n",
    "nn_learner.set_callbacks([acc_nn])"
   ]
  },
  {
   "cell_type": "code",
   "execution_count": 21,
   "id": "877b6cc7",
   "metadata": {
    "execution": {
     "iopub.execute_input": "2021-08-27T20:07:26.001617Z",
     "iopub.status.busy": "2021-08-27T20:07:26.000965Z",
     "iopub.status.idle": "2021-08-27T20:07:26.016395Z",
     "shell.execute_reply": "2021-08-27T20:07:26.016856Z"
    },
    "papermill": {
     "duration": 0.052013,
     "end_time": "2021-08-27T20:07:26.017019",
     "exception": false,
     "start_time": "2021-08-27T20:07:25.965006",
     "status": "completed"
    },
    "tags": []
   },
   "outputs": [],
   "source": [
    "lr_learner = Learner(loss, model_lr, opt, config.num_epochs)\n",
    "acc_lr = ClfCallback(lr_learner, config.bs, training_data_x , testing_data_x, training_data_y, testing_data_y)\n",
    "lr_learner.set_callbacks([acc_lr])"
   ]
  },
  {
   "cell_type": "code",
   "execution_count": 22,
   "id": "d9b133c3",
   "metadata": {
    "execution": {
     "iopub.execute_input": "2021-08-27T20:07:26.082558Z",
     "iopub.status.busy": "2021-08-27T20:07:26.081968Z",
     "iopub.status.idle": "2021-08-27T20:08:55.526035Z",
     "shell.execute_reply": "2021-08-27T20:08:55.526859Z"
    },
    "papermill": {
     "duration": 89.479172,
     "end_time": "2021-08-27T20:08:55.527022",
     "exception": false,
     "start_time": "2021-08-27T20:07:26.047850",
     "status": "completed"
    },
    "tags": []
   },
   "outputs": [
    {
     "name": "stdout",
     "output_type": "stream",
     "text": [
      "Epoch 0, Loss 0.2395\n",
      "Training Accuracy: 0.7076, Testing Accuracy: 0.7112\n",
      "\n"
     ]
    },
    {
     "name": "stdout",
     "output_type": "stream",
     "text": [
      "Epoch 10, Loss 0.0659\n",
      "Training Accuracy: 0.9362, Testing Accuracy: 0.9441\n",
      "\n"
     ]
    },
    {
     "name": "stdout",
     "output_type": "stream",
     "text": [
      "Epoch 20, Loss 0.0452\n",
      "Training Accuracy: 0.9508, Testing Accuracy: 0.9577\n",
      "\n"
     ]
    },
    {
     "name": "stdout",
     "output_type": "stream",
     "text": [
      "Epoch 30, Loss 0.0377\n",
      "Training Accuracy: 0.9577, Testing Accuracy: 0.9642\n",
      "\n"
     ]
    },
    {
     "name": "stdout",
     "output_type": "stream",
     "text": [
      "Epoch 40, Loss 0.0337\n",
      "Training Accuracy: 0.9629, Testing Accuracy: 0.9652\n",
      "\n"
     ]
    },
    {
     "name": "stdout",
     "output_type": "stream",
     "text": [
      "Epoch 50, Loss 0.031\n",
      "Training Accuracy: 0.9659, Testing Accuracy: 0.9652\n",
      "\n"
     ]
    },
    {
     "name": "stdout",
     "output_type": "stream",
     "text": [
      "Epoch 60, Loss 0.029\n",
      "Training Accuracy: 0.9677, Testing Accuracy: 0.9698\n",
      "\n"
     ]
    },
    {
     "name": "stdout",
     "output_type": "stream",
     "text": [
      "Epoch 70, Loss 0.0274\n",
      "Training Accuracy: 0.9694, Testing Accuracy: 0.9698\n",
      "\n"
     ]
    },
    {
     "name": "stdout",
     "output_type": "stream",
     "text": [
      "Epoch 80, Loss 0.0261\n",
      "Training Accuracy: 0.9708, Testing Accuracy: 0.9693\n",
      "\n"
     ]
    },
    {
     "name": "stdout",
     "output_type": "stream",
     "text": [
      "Epoch 90, Loss 0.025\n",
      "Training Accuracy: 0.9719, Testing Accuracy: 0.9713\n",
      "\n"
     ]
    },
    {
     "name": "stdout",
     "output_type": "stream",
     "text": [
      "Epoch 100, Loss 0.0241\n",
      "Training Accuracy: 0.9725, Testing Accuracy: 0.9713\n",
      "\n"
     ]
    },
    {
     "name": "stdout",
     "output_type": "stream",
     "text": [
      "Epoch 110, Loss 0.0233\n",
      "Training Accuracy: 0.9730, Testing Accuracy: 0.9718\n",
      "\n"
     ]
    },
    {
     "name": "stdout",
     "output_type": "stream",
     "text": [
      "Epoch 120, Loss 0.0225\n",
      "Training Accuracy: 0.9737, Testing Accuracy: 0.9723\n",
      "\n"
     ]
    },
    {
     "name": "stdout",
     "output_type": "stream",
     "text": [
      "Epoch 130, Loss 0.0219\n",
      "Training Accuracy: 0.9745, Testing Accuracy: 0.9728\n",
      "\n"
     ]
    },
    {
     "name": "stdout",
     "output_type": "stream",
     "text": [
      "Epoch 140, Loss 0.0213\n",
      "Training Accuracy: 0.9758, Testing Accuracy: 0.9728\n",
      "\n"
     ]
    },
    {
     "name": "stdout",
     "output_type": "stream",
     "text": [
      "Epoch 150, Loss 0.0207\n",
      "Training Accuracy: 0.9764, Testing Accuracy: 0.9728\n",
      "\n"
     ]
    },
    {
     "name": "stdout",
     "output_type": "stream",
     "text": [
      "Epoch 160, Loss 0.0202\n",
      "Training Accuracy: 0.9772, Testing Accuracy: 0.9733\n",
      "\n"
     ]
    },
    {
     "name": "stdout",
     "output_type": "stream",
     "text": [
      "Epoch 170, Loss 0.0197\n",
      "Training Accuracy: 0.9779, Testing Accuracy: 0.9733\n",
      "\n"
     ]
    },
    {
     "name": "stdout",
     "output_type": "stream",
     "text": [
      "Epoch 180, Loss 0.0192\n",
      "Training Accuracy: 0.9784, Testing Accuracy: 0.9738\n",
      "\n"
     ]
    },
    {
     "name": "stdout",
     "output_type": "stream",
     "text": [
      "Epoch 190, Loss 0.0188\n",
      "Training Accuracy: 0.9792, Testing Accuracy: 0.9743\n",
      "\n"
     ]
    },
    {
     "name": "stdout",
     "output_type": "stream",
     "text": [
      "Epoch 200, Loss 0.0183\n",
      "Training Accuracy: 0.9801, Testing Accuracy: 0.9753\n",
      "\n"
     ]
    },
    {
     "name": "stdout",
     "output_type": "stream",
     "text": [
      "Epoch 210, Loss 0.0179\n",
      "Training Accuracy: 0.9807, Testing Accuracy: 0.9758\n",
      "\n"
     ]
    },
    {
     "name": "stdout",
     "output_type": "stream",
     "text": [
      "Epoch 220, Loss 0.0175\n",
      "Training Accuracy: 0.9814, Testing Accuracy: 0.9758\n",
      "\n"
     ]
    },
    {
     "name": "stdout",
     "output_type": "stream",
     "text": [
      "Epoch 230, Loss 0.0172\n",
      "Training Accuracy: 0.9817, Testing Accuracy: 0.9758\n",
      "\n"
     ]
    },
    {
     "name": "stdout",
     "output_type": "stream",
     "text": [
      "Epoch 240, Loss 0.0168\n",
      "Training Accuracy: 0.9821, Testing Accuracy: 0.9758\n",
      "\n"
     ]
    },
    {
     "data": {
      "text/plain": [
       "0.027961463637745022"
      ]
     },
     "execution_count": 22,
     "metadata": {},
     "output_type": "execute_result"
    }
   ],
   "source": [
    "nn_learner.train_loop(dl)"
   ]
  },
  {
   "cell_type": "code",
   "execution_count": 23,
   "id": "e0163366",
   "metadata": {
    "execution": {
     "iopub.execute_input": "2021-08-27T20:08:55.618562Z",
     "iopub.status.busy": "2021-08-27T20:08:55.617940Z",
     "iopub.status.idle": "2021-08-27T20:09:11.850998Z",
     "shell.execute_reply": "2021-08-27T20:09:11.851792Z"
    },
    "papermill": {
     "duration": 16.285832,
     "end_time": "2021-08-27T20:09:11.851960",
     "exception": false,
     "start_time": "2021-08-27T20:08:55.566128",
     "status": "completed"
    },
    "tags": []
   },
   "outputs": [
    {
     "name": "stdout",
     "output_type": "stream",
     "text": [
      "Epoch 0, Loss 0.2448\n",
      "Training Accuracy: 0.6540, Testing Accuracy: 0.6618\n",
      "\n"
     ]
    },
    {
     "name": "stdout",
     "output_type": "stream",
     "text": [
      "Epoch 10, Loss 0.1093\n",
      "Training Accuracy: 0.8921, Testing Accuracy: 0.9052\n",
      "\n"
     ]
    },
    {
     "name": "stdout",
     "output_type": "stream",
     "text": [
      "Epoch 20, Loss 0.0822\n",
      "Training Accuracy: 0.9229, Testing Accuracy: 0.9320\n",
      "\n"
     ]
    },
    {
     "name": "stdout",
     "output_type": "stream",
     "text": [
      "Epoch 30, Loss 0.0699\n",
      "Training Accuracy: 0.9338, Testing Accuracy: 0.9430\n",
      "\n"
     ]
    },
    {
     "name": "stdout",
     "output_type": "stream",
     "text": [
      "Epoch 40, Loss 0.0627\n",
      "Training Accuracy: 0.9397, Testing Accuracy: 0.9491\n",
      "\n"
     ]
    },
    {
     "name": "stdout",
     "output_type": "stream",
     "text": [
      "Epoch 50, Loss 0.0579\n",
      "Training Accuracy: 0.9437, Testing Accuracy: 0.9531\n",
      "\n"
     ]
    },
    {
     "name": "stdout",
     "output_type": "stream",
     "text": [
      "Epoch 60, Loss 0.0544\n",
      "Training Accuracy: 0.9453, Testing Accuracy: 0.9567\n",
      "\n"
     ]
    },
    {
     "name": "stdout",
     "output_type": "stream",
     "text": [
      "Epoch 70, Loss 0.0517\n",
      "Training Accuracy: 0.9480, Testing Accuracy: 0.9572\n",
      "\n"
     ]
    },
    {
     "name": "stdout",
     "output_type": "stream",
     "text": [
      "Epoch 80, Loss 0.0496\n",
      "Training Accuracy: 0.9498, Testing Accuracy: 0.9577\n",
      "\n"
     ]
    },
    {
     "name": "stdout",
     "output_type": "stream",
     "text": [
      "Epoch 90, Loss 0.0478\n",
      "Training Accuracy: 0.9516, Testing Accuracy: 0.9602\n",
      "\n"
     ]
    },
    {
     "name": "stdout",
     "output_type": "stream",
     "text": [
      "Epoch 100, Loss 0.0464\n",
      "Training Accuracy: 0.9529, Testing Accuracy: 0.9612\n",
      "\n"
     ]
    },
    {
     "name": "stdout",
     "output_type": "stream",
     "text": [
      "Epoch 110, Loss 0.0451\n",
      "Training Accuracy: 0.9538, Testing Accuracy: 0.9632\n",
      "\n"
     ]
    },
    {
     "name": "stdout",
     "output_type": "stream",
     "text": [
      "Epoch 120, Loss 0.044\n",
      "Training Accuracy: 0.9551, Testing Accuracy: 0.9632\n",
      "\n"
     ]
    },
    {
     "name": "stdout",
     "output_type": "stream",
     "text": [
      "Epoch 130, Loss 0.0431\n",
      "Training Accuracy: 0.9560, Testing Accuracy: 0.9627\n",
      "\n"
     ]
    },
    {
     "name": "stdout",
     "output_type": "stream",
     "text": [
      "Epoch 140, Loss 0.0422\n",
      "Training Accuracy: 0.9569, Testing Accuracy: 0.9632\n",
      "\n"
     ]
    },
    {
     "name": "stdout",
     "output_type": "stream",
     "text": [
      "Epoch 150, Loss 0.0415\n",
      "Training Accuracy: 0.9575, Testing Accuracy: 0.9632\n",
      "\n"
     ]
    },
    {
     "name": "stdout",
     "output_type": "stream",
     "text": [
      "Epoch 160, Loss 0.0408\n",
      "Training Accuracy: 0.9581, Testing Accuracy: 0.9632\n",
      "\n"
     ]
    },
    {
     "name": "stdout",
     "output_type": "stream",
     "text": [
      "Epoch 170, Loss 0.0401\n",
      "Training Accuracy: 0.9584, Testing Accuracy: 0.9632\n",
      "\n"
     ]
    },
    {
     "name": "stdout",
     "output_type": "stream",
     "text": [
      "Epoch 180, Loss 0.0396\n",
      "Training Accuracy: 0.9589, Testing Accuracy: 0.9632\n",
      "\n"
     ]
    },
    {
     "name": "stdout",
     "output_type": "stream",
     "text": [
      "Epoch 190, Loss 0.039\n",
      "Training Accuracy: 0.9593, Testing Accuracy: 0.9637\n",
      "\n"
     ]
    },
    {
     "name": "stdout",
     "output_type": "stream",
     "text": [
      "Epoch 200, Loss 0.0386\n",
      "Training Accuracy: 0.9592, Testing Accuracy: 0.9637\n",
      "\n"
     ]
    },
    {
     "name": "stdout",
     "output_type": "stream",
     "text": [
      "Epoch 210, Loss 0.0381\n",
      "Training Accuracy: 0.9594, Testing Accuracy: 0.9637\n",
      "\n"
     ]
    },
    {
     "name": "stdout",
     "output_type": "stream",
     "text": [
      "Epoch 220, Loss 0.0377\n",
      "Training Accuracy: 0.9599, Testing Accuracy: 0.9642\n",
      "\n"
     ]
    },
    {
     "name": "stdout",
     "output_type": "stream",
     "text": [
      "Epoch 230, Loss 0.0373\n",
      "Training Accuracy: 0.9600, Testing Accuracy: 0.9647\n",
      "\n"
     ]
    },
    {
     "name": "stdout",
     "output_type": "stream",
     "text": [
      "Epoch 240, Loss 0.0369\n",
      "Training Accuracy: 0.9600, Testing Accuracy: 0.9652\n",
      "\n"
     ]
    },
    {
     "data": {
      "text/plain": [
       "0.030349990400518157"
      ]
     },
     "execution_count": 23,
     "metadata": {},
     "output_type": "execute_result"
    }
   ],
   "source": [
    "lr_learner.train_loop(dl)"
   ]
  },
  {
   "cell_type": "code",
   "execution_count": 24,
   "id": "ca410940",
   "metadata": {
    "execution": {
     "iopub.execute_input": "2021-08-27T20:09:11.956345Z",
     "iopub.status.busy": "2021-08-27T20:09:11.955714Z",
     "iopub.status.idle": "2021-08-27T20:09:12.229113Z",
     "shell.execute_reply": "2021-08-27T20:09:12.228447Z"
    },
    "papermill": {
     "duration": 0.330697,
     "end_time": "2021-08-27T20:09:12.229288",
     "exception": false,
     "start_time": "2021-08-27T20:09:11.898591",
     "status": "completed"
    },
    "tags": []
   },
   "outputs": [
    {
     "data": {
      "text/plain": [
       "<matplotlib.legend.Legend at 0x7f1dacef7a58>"
      ]
     },
     "execution_count": 24,
     "metadata": {},
     "output_type": "execute_result"
    },
    {
     "data": {
      "image/png": "[encoded data removed]",
      "text/plain": [
       "<Figure size 1080x720 with 1 Axes>"
      ]
     },
     "metadata": {
      "needs_background": "light"
     },
     "output_type": "display_data"
    }
   ],
   "source": [
    "#comparing the results of NN and LR\n",
    "plt.figure(figsize=(15,10))\n",
    "\n",
    "# Neural Network plots\n",
    "plt.plot(acc_nn.accuracies, 'r-', label = \"Training Accuracies - NN\")\n",
    "plt.plot(acc_nn.test_accuracies, 'g-', label = \"Testing Accuracies - NN\")\n",
    "\n",
    "# Logistic Regression plots\n",
    "plt.plot(acc_lr.accuracies, 'k-', label = \"Training Accuracies - LR\")\n",
    "plt.plot(acc_lr.test_accuracies, 'b-', label = \"Testing Accuracies - LR\")\n",
    "plt.legend()"
   ]
  },
  {
   "cell_type": "markdown",
   "id": "80dfb35c",
   "metadata": {
    "papermill": {
     "duration": 0.049661,
     "end_time": "2021-08-27T20:09:12.329002",
     "exception": false,
     "start_time": "2021-08-27T20:09:12.279341",
     "status": "completed"
    },
    "tags": []
   },
   "source": [
    "#### Plotting the outputs of this layer of the NN.\n"
   ]
  },
  {
   "cell_type": "code",
   "execution_count": 25,
   "id": "45eb2ff5",
   "metadata": {
    "execution": {
     "iopub.execute_input": "2021-08-27T20:09:12.432224Z",
     "iopub.status.busy": "2021-08-27T20:09:12.430686Z",
     "iopub.status.idle": "2021-08-27T20:09:12.455185Z",
     "shell.execute_reply": "2021-08-27T20:09:12.454626Z"
    },
    "papermill": {
     "duration": 0.0777,
     "end_time": "2021-08-27T20:09:12.455317",
     "exception": false,
     "start_time": "2021-08-27T20:09:12.377617",
     "status": "completed"
    },
    "tags": []
   },
   "outputs": [],
   "source": [
    "new_model = Model(layers[:-2])\n",
    "testing_plot = new_model(testing_data_x)"
   ]
  },
  {
   "cell_type": "code",
   "execution_count": 26,
   "id": "4c0a5485",
   "metadata": {
    "execution": {
     "iopub.execute_input": "2021-08-27T20:09:12.570774Z",
     "iopub.status.busy": "2021-08-27T20:09:12.570153Z",
     "iopub.status.idle": "2021-08-27T20:09:12.798161Z",
     "shell.execute_reply": "2021-08-27T20:09:12.797657Z"
    },
    "papermill": {
     "duration": 0.294071,
     "end_time": "2021-08-27T20:09:12.798302",
     "exception": false,
     "start_time": "2021-08-27T20:09:12.504231",
     "status": "completed"
    },
    "tags": []
   },
   "outputs": [
    {
     "data": {
      "text/plain": [
       "Text(0.5, 1.0, 'Outputs')"
      ]
     },
     "execution_count": 26,
     "metadata": {},
     "output_type": "execute_result"
    },
    {
     "data": {
      "image/png": "[encoded data removed]",
      "text/plain": [
       "<Figure size 576x504 with 1 Axes>"
      ]
     },
     "metadata": {
      "needs_background": "light"
     },
     "output_type": "display_data"
    }
   ],
   "source": [
    "# Plotting the scatter plot of points and color coding by class\n",
    "plt.figure(figsize=(8,7))\n",
    "plt.scatter(testing_plot[:,0], testing_plot[:,1], alpha = 0.1, c = y_test.ravel());\n",
    "plt.title('Outputs')"
   ]
  },
  {
   "cell_type": "markdown",
   "id": "a74fcf8f",
   "metadata": {
    "papermill": {
     "duration": 0.050138,
     "end_time": "2021-08-27T20:09:12.899093",
     "exception": false,
     "start_time": "2021-08-27T20:09:12.848955",
     "status": "completed"
    },
    "tags": []
   },
   "source": [
    "Probability contours"
   ]
  },
  {
   "cell_type": "code",
   "execution_count": 27,
   "id": "d0afc8e3",
   "metadata": {
    "execution": {
     "iopub.execute_input": "2021-08-27T20:09:13.014271Z",
     "iopub.status.busy": "2021-08-27T20:09:13.013608Z",
     "iopub.status.idle": "2021-08-27T20:09:13.016025Z",
     "shell.execute_reply": "2021-08-27T20:09:13.016503Z"
    },
    "papermill": {
     "duration": 0.067202,
     "end_time": "2021-08-27T20:09:13.016657",
     "exception": false,
     "start_time": "2021-08-27T20:09:12.949455",
     "status": "completed"
    },
    "tags": []
   },
   "outputs": [],
   "source": [
    "model_prob = Model(layers[-2:]) "
   ]
  },
  {
   "cell_type": "code",
   "execution_count": 28,
   "id": "9b96e238",
   "metadata": {
    "execution": {
     "iopub.execute_input": "2021-08-27T20:09:13.122678Z",
     "iopub.status.busy": "2021-08-27T20:09:13.122018Z",
     "iopub.status.idle": "2021-08-27T20:09:13.136658Z",
     "shell.execute_reply": "2021-08-27T20:09:13.137222Z"
    },
    "papermill": {
     "duration": 0.070433,
     "end_time": "2021-08-27T20:09:13.137403",
     "exception": false,
     "start_time": "2021-08-27T20:09:13.066970",
     "status": "completed"
    },
    "tags": []
   },
   "outputs": [],
   "source": [
    "#creating the x and y ranges according to the above generated plot.\n",
    "x_range = np.linspace(-4, 1, 100) \n",
    "y_range = np.linspace(-6, 6, 100) \n",
    "x_grid, y_grid = np.meshgrid(x_range, y_range) # x_grid and y_grig are of size 100 X 100\n",
    "\n",
    "# converting x_grid and y_grid to continuous arrays\n",
    "x_gridflat = np.ravel(x_grid)\n",
    "y_gridflat = np.ravel(y_grid)\n",
    "\n",
    "# The last layer of the current model takes two columns as input. Hence transpose of np.vstack() is required.\n",
    "X = np.vstack((x_gridflat, y_gridflat)).T\n",
    "\n",
    "prob_contour = model_prob(X).reshape(100,100) "
   ]
  },
  {
   "cell_type": "code",
   "execution_count": 29,
   "id": "da72499a",
   "metadata": {
    "execution": {
     "iopub.execute_input": "2021-08-27T20:09:13.281635Z",
     "iopub.status.busy": "2021-08-27T20:09:13.280997Z",
     "iopub.status.idle": "2021-08-27T20:09:13.564535Z",
     "shell.execute_reply": "2021-08-27T20:09:13.564039Z"
    },
    "papermill": {
     "duration": 0.338326,
     "end_time": "2021-08-27T20:09:13.564670",
     "exception": false,
     "start_time": "2021-08-27T20:09:13.226344",
     "status": "completed"
    },
    "tags": []
   },
   "outputs": [
    {
     "data": {
      "image/png": "[encoded data removed]",
      "text/plain": [
       "<Figure size 720x648 with 1 Axes>"
      ]
     },
     "metadata": {
      "needs_background": "light"
     },
     "output_type": "display_data"
    }
   ],
   "source": [
    "plt.figure(figsize=(10,9))\n",
    "plt.scatter(testing_plot[:,0], testing_plot[:,1], alpha = 0.1, c = y_test.ravel())\n",
    "contours = plt.contour(x_grid,y_grid,prob_contour)\n",
    "plt.title('Probability Contours')\n",
    "plt.clabel(contours, inline = True );"
   ]
  },
  {
   "cell_type": "code",
   "execution_count": null,
   "id": "e81b4ac7",
   "metadata": {
    "papermill": {
     "duration": 0.05488,
     "end_time": "2021-08-27T20:09:13.675044",
     "exception": false,
     "start_time": "2021-08-27T20:09:13.620164",
     "status": "completed"
    },
    "tags": []
   },
   "outputs": [],
   "source": []
  }
 ],
 "metadata": {
  "kernelspec": {
   "display_name": "Python 3",
   "language": "python",
   "name": "python3"
  },
  "language_info": {
   "codemirror_mode": {
    "name": "ipython",
    "version": 3
   },
   "file_extension": ".py",
   "mimetype": "text/x-python",
   "name": "python",
   "nbconvert_exporter": "python",
   "pygments_lexer": "ipython3",
   "version": "3.6.14"
  },
  "papermill": {
   "default_parameters": {},
   "duration": 114.737479,
   "end_time": "2021-08-27T20:09:14.149790",
   "environment_variables": {},
   "exception": null,
   "input_path": "2020-08-11-part2.ipynb",
   "output_path": "2020-08-11-part2.ipynb",
   "parameters": {},
   "start_time": "2021-08-27T20:07:19.412311",
   "version": "2.3.3"
  }
 },
 "nbformat": 4,
 "nbformat_minor": 5
}