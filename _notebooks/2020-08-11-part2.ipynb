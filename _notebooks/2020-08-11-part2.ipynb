{
 "cells": [
  {
   "cell_type": "markdown",
   "id": "98380cd3",
   "metadata": {
    "papermill": {
     "duration": 0.028822,
     "end_time": "2022-10-01T20:10:46.558786",
     "exception": false,
     "start_time": "2022-10-01T20:10:46.529964",
     "status": "completed"
    },
    "tags": []
   },
   "source": [
    "# Distinguish Your Own Digits (DYOD)"
   ]
  },
  {
   "cell_type": "markdown",
   "id": "ef31240d",
   "metadata": {
    "papermill": {
     "duration": 0.024152,
     "end_time": "2022-10-01T20:10:46.607628",
     "exception": false,
     "start_time": "2022-10-01T20:10:46.583476",
     "status": "completed"
    },
    "tags": []
   },
   "source": [
    "You are going to write a classifier that distinguishes between the number 3 and number 8."
   ]
  },
  {
   "cell_type": "code",
   "execution_count": 1,
   "id": "b15c8646",
   "metadata": {
    "execution": {
     "iopub.execute_input": "2022-10-01T20:10:46.665390Z",
     "iopub.status.busy": "2022-10-01T20:10:46.664821Z",
     "iopub.status.idle": "2022-10-01T20:10:46.674972Z",
     "shell.execute_reply": "2022-10-01T20:10:46.674522Z"
    },
    "papermill": {
     "duration": 0.043487,
     "end_time": "2022-10-01T20:10:46.675081",
     "exception": false,
     "start_time": "2022-10-01T20:10:46.631594",
     "status": "completed"
    },
    "tags": []
   },
   "outputs": [],
   "source": [
    "%load_ext autoreload\n",
    "%autoreload 2"
   ]
  },
  {
   "cell_type": "code",
   "execution_count": 2,
   "id": "22ef38dc",
   "metadata": {
    "execution": {
     "iopub.execute_input": "2022-10-01T20:10:46.726630Z",
     "iopub.status.busy": "2022-10-01T20:10:46.726084Z",
     "iopub.status.idle": "2022-10-01T20:10:47.221700Z",
     "shell.execute_reply": "2022-10-01T20:10:47.221209Z"
    },
    "papermill": {
     "duration": 0.522659,
     "end_time": "2022-10-01T20:10:47.221818",
     "exception": false,
     "start_time": "2022-10-01T20:10:46.699159",
     "status": "completed"
    },
    "tags": []
   },
   "outputs": [],
   "source": [
    "%matplotlib inline\n",
    "import numpy as np\n",
    "import matplotlib.pyplot as plt\n",
    "import pandas as pd"
   ]
  },
  {
   "cell_type": "markdown",
   "id": "ba036198",
   "metadata": {
    "papermill": {
     "duration": 0.023995,
     "end_time": "2022-10-01T20:10:47.269942",
     "exception": false,
     "start_time": "2022-10-01T20:10:47.245947",
     "status": "completed"
    },
    "tags": []
   },
   "source": [
    "From the command line run `pip install mnist`. This is a library that will help you bring down the mnist dataset. If you run this from a notebook, you need to put  `!pip install mnist` in a cell by itself."
   ]
  },
  {
   "cell_type": "code",
   "execution_count": 3,
   "id": "bb6ad8a1",
   "metadata": {
    "execution": {
     "iopub.execute_input": "2022-10-01T20:10:47.321758Z",
     "iopub.status.busy": "2022-10-01T20:10:47.321208Z",
     "iopub.status.idle": "2022-10-01T20:10:48.838533Z",
     "shell.execute_reply": "2022-10-01T20:10:48.837547Z"
    },
    "papermill": {
     "duration": 1.544623,
     "end_time": "2022-10-01T20:10:48.838654",
     "exception": false,
     "start_time": "2022-10-01T20:10:47.294031",
     "status": "completed"
    },
    "tags": []
   },
   "outputs": [
    {
     "name": "stdout",
     "output_type": "stream",
     "text": [
      "Collecting mnist\r\n"
     ]
    },
    {
     "name": "stdout",
     "output_type": "stream",
     "text": [
      "  Downloading mnist-0.2.2-py2.py3-none-any.whl (3.5 kB)\r\n",
      "Requirement already satisfied: numpy in /opt/hostedtoolcache/Python/3.6.15/x64/lib/python3.6/site-packages (from mnist) (1.19.5)\r\n"
     ]
    },
    {
     "name": "stdout",
     "output_type": "stream",
     "text": [
      "Installing collected packages: mnist\r\n",
      "Successfully installed mnist-0.2.2\r\n"
     ]
    }
   ],
   "source": [
    "!pip install mnist"
   ]
  },
  {
   "cell_type": "markdown",
   "id": "69df9c9a",
   "metadata": {
    "papermill": {
     "duration": 0.025134,
     "end_time": "2022-10-01T20:10:48.889069",
     "exception": false,
     "start_time": "2022-10-01T20:10:48.863935",
     "status": "completed"
    },
    "tags": []
   },
   "source": [
    "## Preparing the Data"
   ]
  },
  {
   "cell_type": "code",
   "execution_count": 4,
   "id": "7f69d806",
   "metadata": {
    "execution": {
     "iopub.execute_input": "2022-10-01T20:10:48.941769Z",
     "iopub.status.busy": "2022-10-01T20:10:48.941224Z",
     "iopub.status.idle": "2022-10-01T20:10:48.954841Z",
     "shell.execute_reply": "2022-10-01T20:10:48.955249Z"
    },
    "papermill": {
     "duration": 0.041573,
     "end_time": "2022-10-01T20:10:48.955361",
     "exception": false,
     "start_time": "2022-10-01T20:10:48.913788",
     "status": "completed"
    },
    "tags": []
   },
   "outputs": [],
   "source": [
    "import mnist"
   ]
  },
  {
   "cell_type": "code",
   "execution_count": 5,
   "id": "a411e44f",
   "metadata": {
    "execution": {
     "iopub.execute_input": "2022-10-01T20:10:49.007870Z",
     "iopub.status.busy": "2022-10-01T20:10:49.007316Z",
     "iopub.status.idle": "2022-10-01T20:10:49.691994Z",
     "shell.execute_reply": "2022-10-01T20:10:49.691487Z"
    },
    "papermill": {
     "duration": 0.711928,
     "end_time": "2022-10-01T20:10:49.692105",
     "exception": false,
     "start_time": "2022-10-01T20:10:48.980177",
     "status": "completed"
    },
    "tags": []
   },
   "outputs": [],
   "source": [
    "train_images = mnist.train_images()\n",
    "train_labels = mnist.train_labels()"
   ]
  },
  {
   "cell_type": "code",
   "execution_count": 6,
   "id": "dceab3a5",
   "metadata": {
    "execution": {
     "iopub.execute_input": "2022-10-01T20:10:49.745607Z",
     "iopub.status.busy": "2022-10-01T20:10:49.745062Z",
     "iopub.status.idle": "2022-10-01T20:10:49.758644Z",
     "shell.execute_reply": "2022-10-01T20:10:49.759092Z"
    },
    "papermill": {
     "duration": 0.042009,
     "end_time": "2022-10-01T20:10:49.759202",
     "exception": false,
     "start_time": "2022-10-01T20:10:49.717193",
     "status": "completed"
    },
    "tags": []
   },
   "outputs": [
    {
     "data": {
      "text/plain": [
       "((60000, 28, 28), (60000,))"
      ]
     },
     "execution_count": 6,
     "metadata": {},
     "output_type": "execute_result"
    }
   ],
   "source": [
    "train_images.shape, train_labels.shape"
   ]
  },
  {
   "cell_type": "code",
   "execution_count": 7,
   "id": "f50dc2bb",
   "metadata": {
    "execution": {
     "iopub.execute_input": "2022-10-01T20:10:49.812293Z",
     "iopub.status.busy": "2022-10-01T20:10:49.811742Z",
     "iopub.status.idle": "2022-10-01T20:10:50.048039Z",
     "shell.execute_reply": "2022-10-01T20:10:50.047558Z"
    },
    "papermill": {
     "duration": 0.263986,
     "end_time": "2022-10-01T20:10:50.048153",
     "exception": false,
     "start_time": "2022-10-01T20:10:49.784167",
     "status": "completed"
    },
    "tags": []
   },
   "outputs": [],
   "source": [
    "test_images = mnist.test_images()\n",
    "test_labels = mnist.test_labels()"
   ]
  },
  {
   "cell_type": "code",
   "execution_count": 8,
   "id": "fc38cf1b",
   "metadata": {
    "execution": {
     "iopub.execute_input": "2022-10-01T20:10:50.104244Z",
     "iopub.status.busy": "2022-10-01T20:10:50.103699Z",
     "iopub.status.idle": "2022-10-01T20:10:50.116226Z",
     "shell.execute_reply": "2022-10-01T20:10:50.115704Z"
    },
    "papermill": {
     "duration": 0.040419,
     "end_time": "2022-10-01T20:10:50.116322",
     "exception": false,
     "start_time": "2022-10-01T20:10:50.075903",
     "status": "completed"
    },
    "tags": []
   },
   "outputs": [
    {
     "data": {
      "text/plain": [
       "((10000, 28, 28), (10000,))"
      ]
     },
     "execution_count": 8,
     "metadata": {},
     "output_type": "execute_result"
    }
   ],
   "source": [
    "test_images.shape, test_labels.shape"
   ]
  },
  {
   "cell_type": "code",
   "execution_count": 9,
   "id": "f9ed8fe0",
   "metadata": {
    "execution": {
     "iopub.execute_input": "2022-10-01T20:10:50.170077Z",
     "iopub.status.busy": "2022-10-01T20:10:50.169538Z",
     "iopub.status.idle": "2022-10-01T20:10:50.302620Z",
     "shell.execute_reply": "2022-10-01T20:10:50.301776Z"
    },
    "papermill": {
     "duration": 0.16107,
     "end_time": "2022-10-01T20:10:50.302731",
     "exception": false,
     "start_time": "2022-10-01T20:10:50.141661",
     "status": "completed"
    },
    "tags": []
   },
   "outputs": [
    {
     "name": "stdout",
     "output_type": "stream",
     "text": [
      "2\n"
     ]
    },
    {
     "data": {
      "text/plain": [
       "<matplotlib.image.AxesImage at 0x7f8eb48bccc0>"
      ]
     },
     "execution_count": 9,
     "metadata": {},
     "output_type": "execute_result"
    },
    {
     "data": {
      "image/png": "[encoded data removed]",
      "text/plain": [
       "<Figure size 432x288 with 1 Axes>"
      ]
     },
     "metadata": {
      "needs_background": "light"
     },
     "output_type": "display_data"
    }
   ],
   "source": [
    "image_index = 7776 # You may select anything up to 60,000\n",
    "print(train_labels[image_index]) \n",
    "plt.imshow(train_images[image_index], cmap='Greys')"
   ]
  },
  {
   "cell_type": "markdown",
   "id": "a8d2388d",
   "metadata": {
    "papermill": {
     "duration": 0.026445,
     "end_time": "2022-10-01T20:10:50.355764",
     "exception": false,
     "start_time": "2022-10-01T20:10:50.329319",
     "status": "completed"
    },
    "tags": []
   },
   "source": [
    "## Filter data to get 3 and 8 out"
   ]
  },
  {
   "cell_type": "code",
   "execution_count": 10,
   "id": "776f7fc7",
   "metadata": {
    "execution": {
     "iopub.execute_input": "2022-10-01T20:10:50.417412Z",
     "iopub.status.busy": "2022-10-01T20:10:50.413249Z",
     "iopub.status.idle": "2022-10-01T20:10:50.427187Z",
     "shell.execute_reply": "2022-10-01T20:10:50.426732Z"
    },
    "papermill": {
     "duration": 0.043523,
     "end_time": "2022-10-01T20:10:50.427283",
     "exception": false,
     "start_time": "2022-10-01T20:10:50.383760",
     "status": "completed"
    },
    "tags": []
   },
   "outputs": [],
   "source": [
    "train_filter = np.where((train_labels == 3 ) | (train_labels == 8))\n",
    "test_filter = np.where((test_labels == 3) | (test_labels == 8))\n",
    "X_train, y_train = train_images[train_filter], train_labels[train_filter]\n",
    "X_test, y_test = test_images[test_filter], test_labels[test_filter]"
   ]
  },
  {
   "cell_type": "markdown",
   "id": "948f0b7e",
   "metadata": {
    "papermill": {
     "duration": 0.026445,
     "end_time": "2022-10-01T20:10:50.480417",
     "exception": false,
     "start_time": "2022-10-01T20:10:50.453972",
     "status": "completed"
    },
    "tags": []
   },
   "source": [
    "We normalize the pizel values in the 0 to 1 range"
   ]
  },
  {
   "cell_type": "code",
   "execution_count": 11,
   "id": "ee4c2166",
   "metadata": {
    "execution": {
     "iopub.execute_input": "2022-10-01T20:10:50.536879Z",
     "iopub.status.busy": "2022-10-01T20:10:50.536294Z",
     "iopub.status.idle": "2022-10-01T20:10:50.573117Z",
     "shell.execute_reply": "2022-10-01T20:10:50.572608Z"
    },
    "papermill": {
     "duration": 0.066402,
     "end_time": "2022-10-01T20:10:50.573227",
     "exception": false,
     "start_time": "2022-10-01T20:10:50.506825",
     "status": "completed"
    },
    "tags": []
   },
   "outputs": [],
   "source": [
    "X_train = X_train/255.\n",
    "X_test = X_test/255."
   ]
  },
  {
   "cell_type": "markdown",
   "id": "ddcf4fab",
   "metadata": {
    "papermill": {
     "duration": 0.026699,
     "end_time": "2022-10-01T20:10:50.626855",
     "exception": false,
     "start_time": "2022-10-01T20:10:50.600156",
     "status": "completed"
    },
    "tags": []
   },
   "source": [
    "And setup the labels as 1 (when the digit is 3) and 0 (when the digit is 8)"
   ]
  },
  {
   "cell_type": "code",
   "execution_count": 12,
   "id": "7dc908f2",
   "metadata": {
    "execution": {
     "iopub.execute_input": "2022-10-01T20:10:50.682987Z",
     "iopub.status.busy": "2022-10-01T20:10:50.682438Z",
     "iopub.status.idle": "2022-10-01T20:10:50.693534Z",
     "shell.execute_reply": "2022-10-01T20:10:50.693982Z"
    },
    "papermill": {
     "duration": 0.04067,
     "end_time": "2022-10-01T20:10:50.694091",
     "exception": false,
     "start_time": "2022-10-01T20:10:50.653421",
     "status": "completed"
    },
    "tags": []
   },
   "outputs": [],
   "source": [
    "y_train = 1*(y_train==3)\n",
    "y_test = 1*(y_test==3)"
   ]
  },
  {
   "cell_type": "code",
   "execution_count": 13,
   "id": "01e4e969",
   "metadata": {
    "execution": {
     "iopub.execute_input": "2022-10-01T20:10:50.750171Z",
     "iopub.status.busy": "2022-10-01T20:10:50.749617Z",
     "iopub.status.idle": "2022-10-01T20:10:50.761377Z",
     "shell.execute_reply": "2022-10-01T20:10:50.761795Z"
    },
    "papermill": {
     "duration": 0.041255,
     "end_time": "2022-10-01T20:10:50.761901",
     "exception": false,
     "start_time": "2022-10-01T20:10:50.720646",
     "status": "completed"
    },
    "tags": []
   },
   "outputs": [
    {
     "data": {
      "text/plain": [
       "((11982, 28, 28), (1984, 28, 28))"
      ]
     },
     "execution_count": 13,
     "metadata": {},
     "output_type": "execute_result"
    }
   ],
   "source": [
    "X_train.shape, X_test.shape"
   ]
  },
  {
   "cell_type": "markdown",
   "id": "5ccf3f85",
   "metadata": {
    "papermill": {
     "duration": 0.026579,
     "end_time": "2022-10-01T20:10:50.815165",
     "exception": false,
     "start_time": "2022-10-01T20:10:50.788586",
     "status": "completed"
    },
    "tags": []
   },
   "source": [
    "We reshape the data to flatten the image pixels into a set of features or co-variates:"
   ]
  },
  {
   "cell_type": "code",
   "execution_count": 14,
   "id": "5286a4a3",
   "metadata": {
    "execution": {
     "iopub.execute_input": "2022-10-01T20:10:50.872018Z",
     "iopub.status.busy": "2022-10-01T20:10:50.871414Z",
     "iopub.status.idle": "2022-10-01T20:10:50.883150Z",
     "shell.execute_reply": "2022-10-01T20:10:50.883572Z"
    },
    "papermill": {
     "duration": 0.041783,
     "end_time": "2022-10-01T20:10:50.883678",
     "exception": false,
     "start_time": "2022-10-01T20:10:50.841895",
     "status": "completed"
    },
    "tags": []
   },
   "outputs": [
    {
     "data": {
      "text/plain": [
       "((11982, 784), (1984, 784))"
      ]
     },
     "execution_count": 14,
     "metadata": {},
     "output_type": "execute_result"
    }
   ],
   "source": [
    "X_train = X_train.reshape(X_train.shape[0], -1)\n",
    "X_test = X_test.reshape(X_test.shape[0], -1)\n",
    "X_train.shape, X_test.shape"
   ]
  },
  {
   "cell_type": "code",
   "execution_count": 15,
   "id": "73c5f88a",
   "metadata": {
    "execution": {
     "iopub.execute_input": "2022-10-01T20:10:50.941170Z",
     "iopub.status.busy": "2022-10-01T20:10:50.940614Z",
     "iopub.status.idle": "2022-10-01T20:10:50.956914Z",
     "shell.execute_reply": "2022-10-01T20:10:50.957363Z"
    },
    "papermill": {
     "duration": 0.04658,
     "end_time": "2022-10-01T20:10:50.957467",
     "exception": false,
     "start_time": "2022-10-01T20:10:50.910887",
     "status": "completed"
    },
    "tags": []
   },
   "outputs": [],
   "source": [
    "#Impoting functions from 'Kudzu'\n",
    "from kudzu.model import Model\n",
    "from kudzu.train import Learner\n",
    "from kudzu.optim import GD\n",
    "from kudzu.data import Data, Sampler,Dataloader\n",
    "\n",
    "from kudzu.callbacks import AccCallback\n",
    "from kudzu.callbacks import ClfCallback\n",
    "\n",
    "from kudzu.loss import MSE\n",
    "\n",
    "from kudzu.layer import Sigmoid,Relu\n",
    "from kudzu.layer import Affine"
   ]
  },
  {
   "cell_type": "markdown",
   "id": "bc01172a",
   "metadata": {
    "papermill": {
     "duration": 0.026822,
     "end_time": "2022-10-01T20:10:51.011210",
     "exception": false,
     "start_time": "2022-10-01T20:10:50.984388",
     "status": "completed"
    },
    "tags": []
   },
   "source": [
    "### Let us create a `Config` class, to store important parameters. \n",
    "This class essentially plays the role of a dictionary."
   ]
  },
  {
   "cell_type": "code",
   "execution_count": 16,
   "id": "978281aa",
   "metadata": {
    "execution": {
     "iopub.execute_input": "2022-10-01T20:10:51.068117Z",
     "iopub.status.busy": "2022-10-01T20:10:51.067557Z",
     "iopub.status.idle": "2022-10-01T20:10:51.077652Z",
     "shell.execute_reply": "2022-10-01T20:10:51.078088Z"
    },
    "papermill": {
     "duration": 0.040068,
     "end_time": "2022-10-01T20:10:51.078192",
     "exception": false,
     "start_time": "2022-10-01T20:10:51.038124",
     "status": "completed"
    },
    "tags": []
   },
   "outputs": [],
   "source": [
    "class Config:\n",
    "    pass\n",
    "config = Config()\n",
    "config.lr = 0.001\n",
    "config.num_epochs = 250\n",
    "config.bs = 50"
   ]
  },
  {
   "cell_type": "markdown",
   "id": "1385fa59",
   "metadata": {
    "papermill": {
     "duration": 0.026939,
     "end_time": "2022-10-01T20:10:51.132184",
     "exception": false,
     "start_time": "2022-10-01T20:10:51.105245",
     "status": "completed"
    },
    "tags": []
   },
   "source": [
    "### Running Models with the Training data\n",
    "Details about the network layers:\n",
    "- A first affine layer has 784 inputs and does 100 affine transforms. These are followed by a Relu\n",
    "- A second affine layer has 100 inputs from the 100 activations of the past layer, and does 100 affine transforms. These are followed by a Relu\n",
    "- A third affine layer has 100 activations and does 2 affine transformations to create an embedding for visualization. There is no non-linearity here.\n",
    "- A final \"logistic regression\" which has an affine transform from 2 inputs to 1 output, which is squeezed through a sigmoid.\n"
   ]
  },
  {
   "cell_type": "code",
   "execution_count": 17,
   "id": "2b9c66db",
   "metadata": {
    "execution": {
     "iopub.execute_input": "2022-10-01T20:10:51.193518Z",
     "iopub.status.busy": "2022-10-01T20:10:51.192972Z",
     "iopub.status.idle": "2022-10-01T20:10:51.199490Z",
     "shell.execute_reply": "2022-10-01T20:10:51.199041Z"
    },
    "papermill": {
     "duration": 0.040544,
     "end_time": "2022-10-01T20:10:51.199583",
     "exception": false,
     "start_time": "2022-10-01T20:10:51.159039",
     "status": "completed"
    },
    "tags": []
   },
   "outputs": [],
   "source": [
    "data = Data(X_train, y_train.reshape(-1,1))\n",
    "sampler = Sampler(data, config.bs, shuffle=True)\n",
    "\n",
    "dl = Dataloader(data, sampler)\n",
    "\n",
    "opt = GD(config.lr)\n",
    "loss = MSE()"
   ]
  },
  {
   "cell_type": "code",
   "execution_count": 18,
   "id": "b275e4c2",
   "metadata": {
    "execution": {
     "iopub.execute_input": "2022-10-01T20:10:51.256649Z",
     "iopub.status.busy": "2022-10-01T20:10:51.256078Z",
     "iopub.status.idle": "2022-10-01T20:10:51.266504Z",
     "shell.execute_reply": "2022-10-01T20:10:51.265975Z"
    },
    "papermill": {
     "duration": 0.039955,
     "end_time": "2022-10-01T20:10:51.266597",
     "exception": false,
     "start_time": "2022-10-01T20:10:51.226642",
     "status": "completed"
    },
    "tags": []
   },
   "outputs": [],
   "source": [
    "training_data_x = X_train\n",
    "testing_data_x = X_test\n",
    "training_data_y = y_train.reshape(-1,1)\n",
    "testing_data_y = y_test.reshape(-1,1)"
   ]
  },
  {
   "cell_type": "code",
   "execution_count": 19,
   "id": "76951160",
   "metadata": {
    "execution": {
     "iopub.execute_input": "2022-10-01T20:10:51.328341Z",
     "iopub.status.busy": "2022-10-01T20:10:51.325336Z",
     "iopub.status.idle": "2022-10-01T20:10:51.340848Z",
     "shell.execute_reply": "2022-10-01T20:10:51.340153Z"
    },
    "papermill": {
     "duration": 0.047519,
     "end_time": "2022-10-01T20:10:51.340945",
     "exception": false,
     "start_time": "2022-10-01T20:10:51.293426",
     "status": "completed"
    },
    "tags": []
   },
   "outputs": [
    {
     "name": "stdout",
     "output_type": "stream",
     "text": [
      "xavier\n",
      "xavier\n",
      "xavier\n",
      "xavier\n",
      "xavier\n"
     ]
    }
   ],
   "source": [
    "layers = [Affine(\"first\", 784, 100), Relu(\"first\"), Affine(\"second\", 100, 100), Relu(\"second\"), Affine(\"third\", 100, 2), Affine(\"last\", 2, 1), Sigmoid(\"last\")]\n",
    "model_nn = Model(layers)\n",
    "model_lr = Model([Affine(\"logits\", 784, 1), Sigmoid(\"sigmoid\")])"
   ]
  },
  {
   "cell_type": "code",
   "execution_count": 20,
   "id": "6eede77a",
   "metadata": {
    "execution": {
     "iopub.execute_input": "2022-10-01T20:10:51.399002Z",
     "iopub.status.busy": "2022-10-01T20:10:51.398443Z",
     "iopub.status.idle": "2022-10-01T20:10:51.410295Z",
     "shell.execute_reply": "2022-10-01T20:10:51.409834Z"
    },
    "papermill": {
     "duration": 0.042187,
     "end_time": "2022-10-01T20:10:51.410392",
     "exception": false,
     "start_time": "2022-10-01T20:10:51.368205",
     "status": "completed"
    },
    "tags": []
   },
   "outputs": [],
   "source": [
    "nn_learner = Learner(loss, model_nn, opt, config.num_epochs)\n",
    "acc_nn = ClfCallback(nn_learner, config.bs, training_data_x , testing_data_x, training_data_y, testing_data_y)\n",
    "nn_learner.set_callbacks([acc_nn])"
   ]
  },
  {
   "cell_type": "code",
   "execution_count": 21,
   "id": "877b6cc7",
   "metadata": {
    "execution": {
     "iopub.execute_input": "2022-10-01T20:10:51.468347Z",
     "iopub.status.busy": "2022-10-01T20:10:51.467788Z",
     "iopub.status.idle": "2022-10-01T20:10:51.479610Z",
     "shell.execute_reply": "2022-10-01T20:10:51.479178Z"
    },
    "papermill": {
     "duration": 0.041934,
     "end_time": "2022-10-01T20:10:51.479701",
     "exception": false,
     "start_time": "2022-10-01T20:10:51.437767",
     "status": "completed"
    },
    "tags": []
   },
   "outputs": [],
   "source": [
    "lr_learner = Learner(loss, model_lr, opt, config.num_epochs)\n",
    "acc_lr = ClfCallback(lr_learner, config.bs, training_data_x , testing_data_x, training_data_y, testing_data_y)\n",
    "lr_learner.set_callbacks([acc_lr])"
   ]
  },
  {
   "cell_type": "code",
   "execution_count": 22,
   "id": "d9b133c3",
   "metadata": {
    "execution": {
     "iopub.execute_input": "2022-10-01T20:10:51.539108Z",
     "iopub.status.busy": "2022-10-01T20:10:51.535918Z",
     "iopub.status.idle": "2022-10-01T20:13:47.492299Z",
     "shell.execute_reply": "2022-10-01T20:13:47.492786Z"
    },
    "papermill": {
     "duration": 175.986003,
     "end_time": "2022-10-01T20:13:47.492917",
     "exception": false,
     "start_time": "2022-10-01T20:10:51.506914",
     "status": "completed"
    },
    "tags": []
   },
   "outputs": [
    {
     "name": "stdout",
     "output_type": "stream",
     "text": [
      "Epoch 0, Loss 0.21\n",
      "Training Accuracy: 0.8137, Testing Accuracy: 0.8246\n",
      "\n"
     ]
    },
    {
     "name": "stdout",
     "output_type": "stream",
     "text": [
      "Epoch 10, Loss 0.0699\n",
      "Training Accuracy: 0.9355, Testing Accuracy: 0.9466\n",
      "\n"
     ]
    },
    {
     "name": "stdout",
     "output_type": "stream",
     "text": [
      "Epoch 20, Loss 0.0465\n",
      "Training Accuracy: 0.9505, Testing Accuracy: 0.9617\n",
      "\n"
     ]
    },
    {
     "name": "stdout",
     "output_type": "stream",
     "text": [
      "Epoch 30, Loss 0.0383\n",
      "Training Accuracy: 0.9589, Testing Accuracy: 0.9652\n",
      "\n"
     ]
    },
    {
     "name": "stdout",
     "output_type": "stream",
     "text": [
      "Epoch 40, Loss 0.0339\n",
      "Training Accuracy: 0.9619, Testing Accuracy: 0.9688\n",
      "\n"
     ]
    },
    {
     "name": "stdout",
     "output_type": "stream",
     "text": [
      "Epoch 50, Loss 0.031\n",
      "Training Accuracy: 0.9645, Testing Accuracy: 0.9703\n",
      "\n"
     ]
    },
    {
     "name": "stdout",
     "output_type": "stream",
     "text": [
      "Epoch 60, Loss 0.0289\n",
      "Training Accuracy: 0.9667, Testing Accuracy: 0.9713\n",
      "\n"
     ]
    },
    {
     "name": "stdout",
     "output_type": "stream",
     "text": [
      "Epoch 70, Loss 0.0272\n",
      "Training Accuracy: 0.9683, Testing Accuracy: 0.9718\n",
      "\n"
     ]
    },
    {
     "name": "stdout",
     "output_type": "stream",
     "text": [
      "Epoch 80, Loss 0.0259\n",
      "Training Accuracy: 0.9701, Testing Accuracy: 0.9723\n",
      "\n"
     ]
    },
    {
     "name": "stdout",
     "output_type": "stream",
     "text": [
      "Epoch 90, Loss 0.0247\n",
      "Training Accuracy: 0.9710, Testing Accuracy: 0.9733\n",
      "\n"
     ]
    },
    {
     "name": "stdout",
     "output_type": "stream",
     "text": [
      "Epoch 100, Loss 0.0237\n",
      "Training Accuracy: 0.9722, Testing Accuracy: 0.9738\n",
      "\n"
     ]
    },
    {
     "name": "stdout",
     "output_type": "stream",
     "text": [
      "Epoch 110, Loss 0.0228\n",
      "Training Accuracy: 0.9735, Testing Accuracy: 0.9743\n",
      "\n"
     ]
    },
    {
     "name": "stdout",
     "output_type": "stream",
     "text": [
      "Epoch 120, Loss 0.022\n",
      "Training Accuracy: 0.9748, Testing Accuracy: 0.9748\n",
      "\n"
     ]
    },
    {
     "name": "stdout",
     "output_type": "stream",
     "text": [
      "Epoch 130, Loss 0.0212\n",
      "Training Accuracy: 0.9755, Testing Accuracy: 0.9743\n",
      "\n"
     ]
    },
    {
     "name": "stdout",
     "output_type": "stream",
     "text": [
      "Epoch 140, Loss 0.0206\n",
      "Training Accuracy: 0.9764, Testing Accuracy: 0.9748\n",
      "\n"
     ]
    },
    {
     "name": "stdout",
     "output_type": "stream",
     "text": [
      "Epoch 150, Loss 0.02\n",
      "Training Accuracy: 0.9775, Testing Accuracy: 0.9763\n",
      "\n"
     ]
    },
    {
     "name": "stdout",
     "output_type": "stream",
     "text": [
      "Epoch 160, Loss 0.0194\n",
      "Training Accuracy: 0.9784, Testing Accuracy: 0.9768\n",
      "\n"
     ]
    },
    {
     "name": "stdout",
     "output_type": "stream",
     "text": [
      "Epoch 170, Loss 0.0188\n",
      "Training Accuracy: 0.9793, Testing Accuracy: 0.9773\n",
      "\n"
     ]
    },
    {
     "name": "stdout",
     "output_type": "stream",
     "text": [
      "Epoch 180, Loss 0.0183\n",
      "Training Accuracy: 0.9801, Testing Accuracy: 0.9778\n",
      "\n"
     ]
    },
    {
     "name": "stdout",
     "output_type": "stream",
     "text": [
      "Epoch 190, Loss 0.0178\n",
      "Training Accuracy: 0.9806, Testing Accuracy: 0.9778\n",
      "\n"
     ]
    },
    {
     "name": "stdout",
     "output_type": "stream",
     "text": [
      "Epoch 200, Loss 0.0174\n",
      "Training Accuracy: 0.9812, Testing Accuracy: 0.9778\n",
      "\n"
     ]
    },
    {
     "name": "stdout",
     "output_type": "stream",
     "text": [
      "Epoch 210, Loss 0.017\n",
      "Training Accuracy: 0.9816, Testing Accuracy: 0.9778\n",
      "\n"
     ]
    },
    {
     "name": "stdout",
     "output_type": "stream",
     "text": [
      "Epoch 220, Loss 0.0165\n",
      "Training Accuracy: 0.9818, Testing Accuracy: 0.9783\n",
      "\n"
     ]
    },
    {
     "name": "stdout",
     "output_type": "stream",
     "text": [
      "Epoch 230, Loss 0.0161\n",
      "Training Accuracy: 0.9819, Testing Accuracy: 0.9788\n",
      "\n"
     ]
    },
    {
     "name": "stdout",
     "output_type": "stream",
     "text": [
      "Epoch 240, Loss 0.0158\n",
      "Training Accuracy: 0.9828, Testing Accuracy: 0.9788\n",
      "\n"
     ]
    },
    {
     "data": {
      "text/plain": [
       "0.01018272305741089"
      ]
     },
     "execution_count": 22,
     "metadata": {},
     "output_type": "execute_result"
    }
   ],
   "source": [
    "nn_learner.train_loop(dl)"
   ]
  },
  {
   "cell_type": "code",
   "execution_count": 23,
   "id": "e0163366",
   "metadata": {
    "execution": {
     "iopub.execute_input": "2022-10-01T20:13:47.566825Z",
     "iopub.status.busy": "2022-10-01T20:13:47.566236Z",
     "iopub.status.idle": "2022-10-01T20:13:59.495514Z",
     "shell.execute_reply": "2022-10-01T20:13:59.496328Z"
    },
    "papermill": {
     "duration": 11.969069,
     "end_time": "2022-10-01T20:13:59.496479",
     "exception": false,
     "start_time": "2022-10-01T20:13:47.527410",
     "status": "completed"
    },
    "tags": []
   },
   "outputs": [
    {
     "name": "stdout",
     "output_type": "stream",
     "text": [
      "Epoch 0, Loss 0.2252\n",
      "Training Accuracy: 0.7529, Testing Accuracy: 0.7440\n",
      "\n"
     ]
    },
    {
     "name": "stdout",
     "output_type": "stream",
     "text": [
      "Epoch 10, Loss 0.1022\n",
      "Training Accuracy: 0.9084, Testing Accuracy: 0.9168\n",
      "\n"
     ]
    },
    {
     "name": "stdout",
     "output_type": "stream",
     "text": [
      "Epoch 20, Loss 0.0789\n",
      "Training Accuracy: 0.9263, Testing Accuracy: 0.9400\n",
      "\n"
     ]
    },
    {
     "name": "stdout",
     "output_type": "stream",
     "text": [
      "Epoch 30, Loss 0.068\n",
      "Training Accuracy: 0.9362, Testing Accuracy: 0.9516\n",
      "\n"
     ]
    },
    {
     "name": "stdout",
     "output_type": "stream",
     "text": [
      "Epoch 40, Loss 0.0614\n",
      "Training Accuracy: 0.9410, Testing Accuracy: 0.9551\n",
      "\n"
     ]
    },
    {
     "name": "stdout",
     "output_type": "stream",
     "text": [
      "Epoch 50, Loss 0.0569\n",
      "Training Accuracy: 0.9452, Testing Accuracy: 0.9572\n",
      "\n"
     ]
    },
    {
     "name": "stdout",
     "output_type": "stream",
     "text": [
      "Epoch 60, Loss 0.0535\n",
      "Training Accuracy: 0.9473, Testing Accuracy: 0.9582\n",
      "\n"
     ]
    },
    {
     "name": "stdout",
     "output_type": "stream",
     "text": [
      "Epoch 70, Loss 0.051\n",
      "Training Accuracy: 0.9504, Testing Accuracy: 0.9597\n",
      "\n"
     ]
    },
    {
     "name": "stdout",
     "output_type": "stream",
     "text": [
      "Epoch 80, Loss 0.0489\n",
      "Training Accuracy: 0.9520, Testing Accuracy: 0.9607\n",
      "\n"
     ]
    },
    {
     "name": "stdout",
     "output_type": "stream",
     "text": [
      "Epoch 90, Loss 0.0473\n",
      "Training Accuracy: 0.9533, Testing Accuracy: 0.9612\n",
      "\n"
     ]
    },
    {
     "name": "stdout",
     "output_type": "stream",
     "text": [
      "Epoch 100, Loss 0.0458\n",
      "Training Accuracy: 0.9545, Testing Accuracy: 0.9617\n",
      "\n"
     ]
    },
    {
     "name": "stdout",
     "output_type": "stream",
     "text": [
      "Epoch 110, Loss 0.0446\n",
      "Training Accuracy: 0.9556, Testing Accuracy: 0.9627\n",
      "\n"
     ]
    },
    {
     "name": "stdout",
     "output_type": "stream",
     "text": [
      "Epoch 120, Loss 0.0436\n",
      "Training Accuracy: 0.9556, Testing Accuracy: 0.9637\n",
      "\n"
     ]
    },
    {
     "name": "stdout",
     "output_type": "stream",
     "text": [
      "Epoch 130, Loss 0.0426\n",
      "Training Accuracy: 0.9565, Testing Accuracy: 0.9642\n",
      "\n"
     ]
    },
    {
     "name": "stdout",
     "output_type": "stream",
     "text": [
      "Epoch 140, Loss 0.0418\n",
      "Training Accuracy: 0.9573, Testing Accuracy: 0.9657\n",
      "\n"
     ]
    },
    {
     "name": "stdout",
     "output_type": "stream",
     "text": [
      "Epoch 150, Loss 0.0411\n",
      "Training Accuracy: 0.9578, Testing Accuracy: 0.9662\n",
      "\n"
     ]
    },
    {
     "name": "stdout",
     "output_type": "stream",
     "text": [
      "Epoch 160, Loss 0.0404\n",
      "Training Accuracy: 0.9582, Testing Accuracy: 0.9662\n",
      "\n"
     ]
    },
    {
     "name": "stdout",
     "output_type": "stream",
     "text": [
      "Epoch 170, Loss 0.0398\n",
      "Training Accuracy: 0.9592, Testing Accuracy: 0.9667\n",
      "\n"
     ]
    },
    {
     "name": "stdout",
     "output_type": "stream",
     "text": [
      "Epoch 180, Loss 0.0392\n",
      "Training Accuracy: 0.9594, Testing Accuracy: 0.9667\n",
      "\n"
     ]
    },
    {
     "name": "stdout",
     "output_type": "stream",
     "text": [
      "Epoch 190, Loss 0.0387\n",
      "Training Accuracy: 0.9596, Testing Accuracy: 0.9667\n",
      "\n"
     ]
    },
    {
     "name": "stdout",
     "output_type": "stream",
     "text": [
      "Epoch 200, Loss 0.0382\n",
      "Training Accuracy: 0.9599, Testing Accuracy: 0.9667\n",
      "\n"
     ]
    },
    {
     "name": "stdout",
     "output_type": "stream",
     "text": [
      "Epoch 210, Loss 0.0378\n",
      "Training Accuracy: 0.9599, Testing Accuracy: 0.9667\n",
      "\n"
     ]
    },
    {
     "name": "stdout",
     "output_type": "stream",
     "text": [
      "Epoch 220, Loss 0.0374\n",
      "Training Accuracy: 0.9605, Testing Accuracy: 0.9662\n",
      "\n"
     ]
    },
    {
     "name": "stdout",
     "output_type": "stream",
     "text": [
      "Epoch 230, Loss 0.037\n",
      "Training Accuracy: 0.9604, Testing Accuracy: 0.9667\n",
      "\n"
     ]
    },
    {
     "name": "stdout",
     "output_type": "stream",
     "text": [
      "Epoch 240, Loss 0.0366\n",
      "Training Accuracy: 0.9613, Testing Accuracy: 0.9672\n",
      "\n"
     ]
    },
    {
     "data": {
      "text/plain": [
       "0.02398503332399758"
      ]
     },
     "execution_count": 23,
     "metadata": {},
     "output_type": "execute_result"
    }
   ],
   "source": [
    "lr_learner.train_loop(dl)"
   ]
  },
  {
   "cell_type": "code",
   "execution_count": 24,
   "id": "ca410940",
   "metadata": {
    "execution": {
     "iopub.execute_input": "2022-10-01T20:13:59.586818Z",
     "iopub.status.busy": "2022-10-01T20:13:59.586256Z",
     "iopub.status.idle": "2022-10-01T20:13:59.804468Z",
     "shell.execute_reply": "2022-10-01T20:13:59.804912Z"
    },
    "papermill": {
     "duration": 0.266871,
     "end_time": "2022-10-01T20:13:59.805033",
     "exception": false,
     "start_time": "2022-10-01T20:13:59.538162",
     "status": "completed"
    },
    "tags": []
   },
   "outputs": [
    {
     "data": {
      "text/plain": [
       "<matplotlib.legend.Legend at 0x7f8ea7c802e8>"
      ]
     },
     "execution_count": 24,
     "metadata": {},
     "output_type": "execute_result"
    },
    {
     "data": {
      "image/png": "[encoded data removed]",
      "text/plain": [
       "<Figure size 1080x720 with 1 Axes>"
      ]
     },
     "metadata": {
      "needs_background": "light"
     },
     "output_type": "display_data"
    }
   ],
   "source": [
    "#comparing the results of NN and LR\n",
    "plt.figure(figsize=(15,10))\n",
    "\n",
    "# Neural Network plots\n",
    "plt.plot(acc_nn.accuracies, 'r-', label = \"Training Accuracies - NN\")\n",
    "plt.plot(acc_nn.test_accuracies, 'g-', label = \"Testing Accuracies - NN\")\n",
    "\n",
    "# Logistic Regression plots\n",
    "plt.plot(acc_lr.accuracies, 'k-', label = \"Training Accuracies - LR\")\n",
    "plt.plot(acc_lr.test_accuracies, 'b-', label = \"Testing Accuracies - LR\")\n",
    "plt.legend()"
   ]
  },
  {
   "cell_type": "markdown",
   "id": "80dfb35c",
   "metadata": {
    "papermill": {
     "duration": 0.042402,
     "end_time": "2022-10-01T20:13:59.889935",
     "exception": false,
     "start_time": "2022-10-01T20:13:59.847533",
     "status": "completed"
    },
    "tags": []
   },
   "source": [
    "#### Plotting the outputs of this layer of the NN.\n"
   ]
  },
  {
   "cell_type": "code",
   "execution_count": 25,
   "id": "45eb2ff5",
   "metadata": {
    "execution": {
     "iopub.execute_input": "2022-10-01T20:13:59.980316Z",
     "iopub.status.busy": "2022-10-01T20:13:59.978864Z",
     "iopub.status.idle": "2022-10-01T20:14:00.013270Z",
     "shell.execute_reply": "2022-10-01T20:14:00.013780Z"
    },
    "papermill": {
     "duration": 0.081823,
     "end_time": "2022-10-01T20:14:00.013896",
     "exception": false,
     "start_time": "2022-10-01T20:13:59.932073",
     "status": "completed"
    },
    "tags": []
   },
   "outputs": [],
   "source": [
    "new_model = Model(layers[:-2])\n",
    "testing_plot = new_model(testing_data_x)"
   ]
  },
  {
   "cell_type": "code",
   "execution_count": 26,
   "id": "4c0a5485",
   "metadata": {
    "execution": {
     "iopub.execute_input": "2022-10-01T20:14:00.105702Z",
     "iopub.status.busy": "2022-10-01T20:14:00.105146Z",
     "iopub.status.idle": "2022-10-01T20:14:00.280789Z",
     "shell.execute_reply": "2022-10-01T20:14:00.281231Z"
    },
    "papermill": {
     "duration": 0.22445,
     "end_time": "2022-10-01T20:14:00.281348",
     "exception": false,
     "start_time": "2022-10-01T20:14:00.056898",
     "status": "completed"
    },
    "tags": []
   },
   "outputs": [
    {
     "data": {
      "text/plain": [
       "Text(0.5, 1.0, 'Outputs')"
      ]
     },
     "execution_count": 26,
     "metadata": {},
     "output_type": "execute_result"
    },
    {
     "data": {
      "image/png": "[encoded data removed]",
      "text/plain": [
       "<Figure size 576x504 with 1 Axes>"
      ]
     },
     "metadata": {
      "needs_background": "light"
     },
     "output_type": "display_data"
    }
   ],
   "source": [
    "# Plotting the scatter plot of points and color coding by class\n",
    "plt.figure(figsize=(8,7))\n",
    "plt.scatter(testing_plot[:,0], testing_plot[:,1], alpha = 0.1, c = y_test.ravel());\n",
    "plt.title('Outputs')"
   ]
  },
  {
   "cell_type": "markdown",
   "id": "a74fcf8f",
   "metadata": {
    "papermill": {
     "duration": 0.044048,
     "end_time": "2022-10-01T20:14:00.369825",
     "exception": false,
     "start_time": "2022-10-01T20:14:00.325777",
     "status": "completed"
    },
    "tags": []
   },
   "source": [
    "Probability contours"
   ]
  },
  {
   "cell_type": "code",
   "execution_count": 27,
   "id": "d0afc8e3",
   "metadata": {
    "execution": {
     "iopub.execute_input": "2022-10-01T20:14:00.483507Z",
     "iopub.status.busy": "2022-10-01T20:14:00.482953Z",
     "iopub.status.idle": "2022-10-01T20:14:00.494429Z",
     "shell.execute_reply": "2022-10-01T20:14:00.493993Z"
    },
    "papermill": {
     "duration": 0.080293,
     "end_time": "2022-10-01T20:14:00.494526",
     "exception": false,
     "start_time": "2022-10-01T20:14:00.414233",
     "status": "completed"
    },
    "tags": []
   },
   "outputs": [],
   "source": [
    "model_prob = Model(layers[-2:]) "
   ]
  },
  {
   "cell_type": "code",
   "execution_count": 28,
   "id": "9b96e238",
   "metadata": {
    "execution": {
     "iopub.execute_input": "2022-10-01T20:14:00.586530Z",
     "iopub.status.busy": "2022-10-01T20:14:00.585977Z",
     "iopub.status.idle": "2022-10-01T20:14:00.598176Z",
     "shell.execute_reply": "2022-10-01T20:14:00.598597Z"
    },
    "papermill": {
     "duration": 0.060198,
     "end_time": "2022-10-01T20:14:00.598711",
     "exception": false,
     "start_time": "2022-10-01T20:14:00.538513",
     "status": "completed"
    },
    "tags": []
   },
   "outputs": [],
   "source": [
    "#creating the x and y ranges according to the above generated plot.\n",
    "x_range = np.linspace(-4, 1, 100) \n",
    "y_range = np.linspace(-6, 6, 100) \n",
    "x_grid, y_grid = np.meshgrid(x_range, y_range) # x_grid and y_grig are of size 100 X 100\n",
    "\n",
    "# converting x_grid and y_grid to continuous arrays\n",
    "x_gridflat = np.ravel(x_grid)\n",
    "y_gridflat = np.ravel(y_grid)\n",
    "\n",
    "# The last layer of the current model takes two columns as input. Hence transpose of np.vstack() is required.\n",
    "X = np.vstack((x_gridflat, y_gridflat)).T\n",
    "\n",
    "prob_contour = model_prob(X).reshape(100,100) "
   ]
  },
  {
   "cell_type": "code",
   "execution_count": 29,
   "id": "da72499a",
   "metadata": {
    "execution": {
     "iopub.execute_input": "2022-10-01T20:14:00.692580Z",
     "iopub.status.busy": "2022-10-01T20:14:00.692022Z",
     "iopub.status.idle": "2022-10-01T20:14:00.929817Z",
     "shell.execute_reply": "2022-10-01T20:14:00.929367Z"
    },
    "papermill": {
     "duration": 0.28609,
     "end_time": "2022-10-01T20:14:00.929913",
     "exception": false,
     "start_time": "2022-10-01T20:14:00.643823",
     "status": "completed"
    },
    "tags": []
   },
   "outputs": [
    {
     "data": {
      "image/png": "[encoded data removed]",
      "text/plain": [
       "<Figure size 720x648 with 1 Axes>"
      ]
     },
     "metadata": {
      "needs_background": "light"
     },
     "output_type": "display_data"
    }
   ],
   "source": [
    "plt.figure(figsize=(10,9))\n",
    "plt.scatter(testing_plot[:,0], testing_plot[:,1], alpha = 0.1, c = y_test.ravel())\n",
    "contours = plt.contour(x_grid,y_grid,prob_contour)\n",
    "plt.title('Probability Contours')\n",
    "plt.clabel(contours, inline = True );"
   ]
  },
  {
   "cell_type": "code",
   "execution_count": null,
   "id": "e81b4ac7",
   "metadata": {
    "papermill": {
     "duration": 0.046689,
     "end_time": "2022-10-01T20:14:01.024436",
     "exception": false,
     "start_time": "2022-10-01T20:14:00.977747",
     "status": "completed"
    },
    "tags": []
   },
   "outputs": [],
   "source": []
  }
 ],
 "metadata": {
  "kernelspec": {
   "display_name": "Python 3",
   "language": "python",
   "name": "python3"
  },
  "language_info": {
   "codemirror_mode": {
    "name": "ipython",
    "version": 3
   },
   "file_extension": ".py",
   "mimetype": "text/x-python",
   "name": "python",
   "nbconvert_exporter": "python",
   "pygments_lexer": "ipython3",
   "version": "3.6.15"
  },
  "papermill": {
   "default_parameters": {},
   "duration": 195.767478,
   "end_time": "2022-10-01T20:14:01.388175",
   "environment_variables": {},
   "exception": null,
   "input_path": "2020-08-11-part2.ipynb",
   "output_path": "2020-08-11-part2.ipynb",
   "parameters": {},
   "start_time": "2022-10-01T20:10:45.620697",
   "version": "2.3.3"
  }
 },
 "nbformat": 4,
 "nbformat_minor": 5
}