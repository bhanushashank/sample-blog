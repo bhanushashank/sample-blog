{
 "cells": [
  {
   "cell_type": "markdown",
   "id": "98380cd3",
   "metadata": {
    "papermill": {
     "duration": 0.038506,
     "end_time": "2022-07-25T10:10:53.043190",
     "exception": false,
     "start_time": "2022-07-25T10:10:53.004684",
     "status": "completed"
    },
    "tags": []
   },
   "source": [
    "# Distinguish Your Own Digits (DYOD)"
   ]
  },
  {
   "cell_type": "markdown",
   "id": "ef31240d",
   "metadata": {
    "papermill": {
     "duration": 0.027324,
     "end_time": "2022-07-25T10:10:53.098705",
     "exception": false,
     "start_time": "2022-07-25T10:10:53.071381",
     "status": "completed"
    },
    "tags": []
   },
   "source": [
    "You are going to write a classifier that distinguishes between the number 3 and number 8."
   ]
  },
  {
   "cell_type": "code",
   "execution_count": 1,
   "id": "b15c8646",
   "metadata": {
    "execution": {
     "iopub.execute_input": "2022-07-25T10:10:53.176074Z",
     "iopub.status.busy": "2022-07-25T10:10:53.167046Z",
     "iopub.status.idle": "2022-07-25T10:10:53.183239Z",
     "shell.execute_reply": "2022-07-25T10:10:53.183785Z"
    },
    "papermill": {
     "duration": 0.056202,
     "end_time": "2022-07-25T10:10:53.183979",
     "exception": false,
     "start_time": "2022-07-25T10:10:53.127777",
     "status": "completed"
    },
    "tags": []
   },
   "outputs": [],
   "source": [
    "%load_ext autoreload\n",
    "%autoreload 2"
   ]
  },
  {
   "cell_type": "code",
   "execution_count": 2,
   "id": "22ef38dc",
   "metadata": {
    "execution": {
     "iopub.execute_input": "2022-07-25T10:10:53.250675Z",
     "iopub.status.busy": "2022-07-25T10:10:53.243425Z",
     "iopub.status.idle": "2022-07-25T10:10:53.918769Z",
     "shell.execute_reply": "2022-07-25T10:10:53.919780Z"
    },
    "papermill": {
     "duration": 0.708766,
     "end_time": "2022-07-25T10:10:53.919977",
     "exception": false,
     "start_time": "2022-07-25T10:10:53.211211",
     "status": "completed"
    },
    "tags": []
   },
   "outputs": [],
   "source": [
    "%matplotlib inline\n",
    "import numpy as np\n",
    "import matplotlib.pyplot as plt\n",
    "import pandas as pd"
   ]
  },
  {
   "cell_type": "markdown",
   "id": "ba036198",
   "metadata": {
    "papermill": {
     "duration": 0.027124,
     "end_time": "2022-07-25T10:10:53.974529",
     "exception": false,
     "start_time": "2022-07-25T10:10:53.947405",
     "status": "completed"
    },
    "tags": []
   },
   "source": [
    "From the command line run `pip install mnist`. This is a library that will help you bring down the mnist dataset. If you run this from a notebook, you need to put  `!pip install mnist` in a cell by itself."
   ]
  },
  {
   "cell_type": "code",
   "execution_count": 3,
   "id": "bb6ad8a1",
   "metadata": {
    "execution": {
     "iopub.execute_input": "2022-07-25T10:10:54.033434Z",
     "iopub.status.busy": "2022-07-25T10:10:54.032654Z",
     "iopub.status.idle": "2022-07-25T10:10:55.944111Z",
     "shell.execute_reply": "2022-07-25T10:10:55.943542Z"
    },
    "papermill": {
     "duration": 1.942818,
     "end_time": "2022-07-25T10:10:55.944259",
     "exception": false,
     "start_time": "2022-07-25T10:10:54.001441",
     "status": "completed"
    },
    "tags": []
   },
   "outputs": [
    {
     "name": "stdout",
     "output_type": "stream",
     "text": [
      "Collecting mnist\r\n"
     ]
    },
    {
     "name": "stdout",
     "output_type": "stream",
     "text": [
      "  Downloading mnist-0.2.2-py2.py3-none-any.whl (3.5 kB)\r\n",
      "Requirement already satisfied: numpy in /opt/hostedtoolcache/Python/3.6.15/x64/lib/python3.6/site-packages (from mnist) (1.19.5)\r\n"
     ]
    },
    {
     "name": "stdout",
     "output_type": "stream",
     "text": [
      "Installing collected packages: mnist\r\n"
     ]
    },
    {
     "name": "stdout",
     "output_type": "stream",
     "text": [
      "Successfully installed mnist-0.2.2\r\n"
     ]
    }
   ],
   "source": [
    "!pip install mnist"
   ]
  },
  {
   "cell_type": "markdown",
   "id": "69df9c9a",
   "metadata": {
    "papermill": {
     "duration": 0.029891,
     "end_time": "2022-07-25T10:10:56.007809",
     "exception": false,
     "start_time": "2022-07-25T10:10:55.977918",
     "status": "completed"
    },
    "tags": []
   },
   "source": [
    "## Preparing the Data"
   ]
  },
  {
   "cell_type": "code",
   "execution_count": 4,
   "id": "7f69d806",
   "metadata": {
    "execution": {
     "iopub.execute_input": "2022-07-25T10:10:56.075837Z",
     "iopub.status.busy": "2022-07-25T10:10:56.075139Z",
     "iopub.status.idle": "2022-07-25T10:10:56.097434Z",
     "shell.execute_reply": "2022-07-25T10:10:56.096595Z"
    },
    "papermill": {
     "duration": 0.057308,
     "end_time": "2022-07-25T10:10:56.097598",
     "exception": false,
     "start_time": "2022-07-25T10:10:56.040290",
     "status": "completed"
    },
    "tags": []
   },
   "outputs": [],
   "source": [
    "import mnist"
   ]
  },
  {
   "cell_type": "code",
   "execution_count": 5,
   "id": "a411e44f",
   "metadata": {
    "execution": {
     "iopub.execute_input": "2022-07-25T10:10:56.160222Z",
     "iopub.status.busy": "2022-07-25T10:10:56.159432Z",
     "iopub.status.idle": "2022-07-25T10:10:56.815181Z",
     "shell.execute_reply": "2022-07-25T10:10:56.814542Z"
    },
    "papermill": {
     "duration": 0.688512,
     "end_time": "2022-07-25T10:10:56.815330",
     "exception": false,
     "start_time": "2022-07-25T10:10:56.126818",
     "status": "completed"
    },
    "tags": []
   },
   "outputs": [],
   "source": [
    "train_images = mnist.train_images()\n",
    "train_labels = mnist.train_labels()"
   ]
  },
  {
   "cell_type": "code",
   "execution_count": 6,
   "id": "dceab3a5",
   "metadata": {
    "execution": {
     "iopub.execute_input": "2022-07-25T10:10:56.879041Z",
     "iopub.status.busy": "2022-07-25T10:10:56.878294Z",
     "iopub.status.idle": "2022-07-25T10:10:56.896668Z",
     "shell.execute_reply": "2022-07-25T10:10:56.897278Z"
    },
    "papermill": {
     "duration": 0.053193,
     "end_time": "2022-07-25T10:10:56.897458",
     "exception": false,
     "start_time": "2022-07-25T10:10:56.844265",
     "status": "completed"
    },
    "tags": []
   },
   "outputs": [
    {
     "data": {
      "text/plain": [
       "((60000, 28, 28), (60000,))"
      ]
     },
     "execution_count": 6,
     "metadata": {},
     "output_type": "execute_result"
    }
   ],
   "source": [
    "train_images.shape, train_labels.shape"
   ]
  },
  {
   "cell_type": "code",
   "execution_count": 7,
   "id": "f50dc2bb",
   "metadata": {
    "execution": {
     "iopub.execute_input": "2022-07-25T10:10:56.964139Z",
     "iopub.status.busy": "2022-07-25T10:10:56.963427Z",
     "iopub.status.idle": "2022-07-25T10:10:57.114774Z",
     "shell.execute_reply": "2022-07-25T10:10:57.113949Z"
    },
    "papermill": {
     "duration": 0.184605,
     "end_time": "2022-07-25T10:10:57.114979",
     "exception": false,
     "start_time": "2022-07-25T10:10:56.930374",
     "status": "completed"
    },
    "tags": []
   },
   "outputs": [],
   "source": [
    "test_images = mnist.test_images()\n",
    "test_labels = mnist.test_labels()"
   ]
  },
  {
   "cell_type": "code",
   "execution_count": 8,
   "id": "fc38cf1b",
   "metadata": {
    "execution": {
     "iopub.execute_input": "2022-07-25T10:10:57.182298Z",
     "iopub.status.busy": "2022-07-25T10:10:57.181576Z",
     "iopub.status.idle": "2022-07-25T10:10:57.199577Z",
     "shell.execute_reply": "2022-07-25T10:10:57.198744Z"
    },
    "papermill": {
     "duration": 0.053438,
     "end_time": "2022-07-25T10:10:57.199726",
     "exception": false,
     "start_time": "2022-07-25T10:10:57.146288",
     "status": "completed"
    },
    "tags": []
   },
   "outputs": [
    {
     "data": {
      "text/plain": [
       "((10000, 28, 28), (10000,))"
      ]
     },
     "execution_count": 8,
     "metadata": {},
     "output_type": "execute_result"
    }
   ],
   "source": [
    "test_images.shape, test_labels.shape"
   ]
  },
  {
   "cell_type": "code",
   "execution_count": 9,
   "id": "f9ed8fe0",
   "metadata": {
    "execution": {
     "iopub.execute_input": "2022-07-25T10:10:57.265985Z",
     "iopub.status.busy": "2022-07-25T10:10:57.265178Z",
     "iopub.status.idle": "2022-07-25T10:10:57.439791Z",
     "shell.execute_reply": "2022-07-25T10:10:57.440343Z"
    },
    "papermill": {
     "duration": 0.210566,
     "end_time": "2022-07-25T10:10:57.440514",
     "exception": false,
     "start_time": "2022-07-25T10:10:57.229948",
     "status": "completed"
    },
    "tags": []
   },
   "outputs": [
    {
     "name": "stdout",
     "output_type": "stream",
     "text": [
      "2\n"
     ]
    },
    {
     "data": {
      "text/plain": [
       "<matplotlib.image.AxesImage at 0x7f5ed8b71470>"
      ]
     },
     "execution_count": 9,
     "metadata": {},
     "output_type": "execute_result"
    },
    {
     "data": {
      "image/png": "[encoded data removed]",
      "text/plain": [
       "<Figure size 432x288 with 1 Axes>"
      ]
     },
     "metadata": {
      "needs_background": "light"
     },
     "output_type": "display_data"
    }
   ],
   "source": [
    "image_index = 7776 # You may select anything up to 60,000\n",
    "print(train_labels[image_index]) \n",
    "plt.imshow(train_images[image_index], cmap='Greys')"
   ]
  },
  {
   "cell_type": "markdown",
   "id": "a8d2388d",
   "metadata": {
    "papermill": {
     "duration": 0.030872,
     "end_time": "2022-07-25T10:10:57.501770",
     "exception": false,
     "start_time": "2022-07-25T10:10:57.470898",
     "status": "completed"
    },
    "tags": []
   },
   "source": [
    "## Filter data to get 3 and 8 out"
   ]
  },
  {
   "cell_type": "code",
   "execution_count": 10,
   "id": "776f7fc7",
   "metadata": {
    "execution": {
     "iopub.execute_input": "2022-07-25T10:10:57.573308Z",
     "iopub.status.busy": "2022-07-25T10:10:57.572521Z",
     "iopub.status.idle": "2022-07-25T10:10:57.599093Z",
     "shell.execute_reply": "2022-07-25T10:10:57.598409Z"
    },
    "papermill": {
     "duration": 0.063099,
     "end_time": "2022-07-25T10:10:57.599251",
     "exception": false,
     "start_time": "2022-07-25T10:10:57.536152",
     "status": "completed"
    },
    "tags": []
   },
   "outputs": [],
   "source": [
    "train_filter = np.where((train_labels == 3 ) | (train_labels == 8))\n",
    "test_filter = np.where((test_labels == 3) | (test_labels == 8))\n",
    "X_train, y_train = train_images[train_filter], train_labels[train_filter]\n",
    "X_test, y_test = test_images[test_filter], test_labels[test_filter]"
   ]
  },
  {
   "cell_type": "markdown",
   "id": "948f0b7e",
   "metadata": {
    "papermill": {
     "duration": 0.030566,
     "end_time": "2022-07-25T10:10:57.661167",
     "exception": false,
     "start_time": "2022-07-25T10:10:57.630601",
     "status": "completed"
    },
    "tags": []
   },
   "source": [
    "We normalize the pizel values in the 0 to 1 range"
   ]
  },
  {
   "cell_type": "code",
   "execution_count": 11,
   "id": "ee4c2166",
   "metadata": {
    "execution": {
     "iopub.execute_input": "2022-07-25T10:10:57.726131Z",
     "iopub.status.busy": "2022-07-25T10:10:57.725430Z",
     "iopub.status.idle": "2022-07-25T10:10:57.805082Z",
     "shell.execute_reply": "2022-07-25T10:10:57.804122Z"
    },
    "papermill": {
     "duration": 0.11414,
     "end_time": "2022-07-25T10:10:57.805299",
     "exception": false,
     "start_time": "2022-07-25T10:10:57.691159",
     "status": "completed"
    },
    "tags": []
   },
   "outputs": [],
   "source": [
    "X_train = X_train/255.\n",
    "X_test = X_test/255."
   ]
  },
  {
   "cell_type": "markdown",
   "id": "ddcf4fab",
   "metadata": {
    "papermill": {
     "duration": 0.030721,
     "end_time": "2022-07-25T10:10:57.868326",
     "exception": false,
     "start_time": "2022-07-25T10:10:57.837605",
     "status": "completed"
    },
    "tags": []
   },
   "source": [
    "And setup the labels as 1 (when the digit is 3) and 0 (when the digit is 8)"
   ]
  },
  {
   "cell_type": "code",
   "execution_count": 12,
   "id": "7dc908f2",
   "metadata": {
    "execution": {
     "iopub.execute_input": "2022-07-25T10:10:57.935411Z",
     "iopub.status.busy": "2022-07-25T10:10:57.934633Z",
     "iopub.status.idle": "2022-07-25T10:10:57.950664Z",
     "shell.execute_reply": "2022-07-25T10:10:57.950079Z"
    },
    "papermill": {
     "duration": 0.052166,
     "end_time": "2022-07-25T10:10:57.950814",
     "exception": false,
     "start_time": "2022-07-25T10:10:57.898648",
     "status": "completed"
    },
    "tags": []
   },
   "outputs": [],
   "source": [
    "y_train = 1*(y_train==3)\n",
    "y_test = 1*(y_test==3)"
   ]
  },
  {
   "cell_type": "code",
   "execution_count": 13,
   "id": "01e4e969",
   "metadata": {
    "execution": {
     "iopub.execute_input": "2022-07-25T10:10:58.016626Z",
     "iopub.status.busy": "2022-07-25T10:10:58.015891Z",
     "iopub.status.idle": "2022-07-25T10:10:58.034713Z",
     "shell.execute_reply": "2022-07-25T10:10:58.035223Z"
    },
    "papermill": {
     "duration": 0.054285,
     "end_time": "2022-07-25T10:10:58.035390",
     "exception": false,
     "start_time": "2022-07-25T10:10:57.981105",
     "status": "completed"
    },
    "tags": []
   },
   "outputs": [
    {
     "data": {
      "text/plain": [
       "((11982, 28, 28), (1984, 28, 28))"
      ]
     },
     "execution_count": 13,
     "metadata": {},
     "output_type": "execute_result"
    }
   ],
   "source": [
    "X_train.shape, X_test.shape"
   ]
  },
  {
   "cell_type": "markdown",
   "id": "5ccf3f85",
   "metadata": {
    "papermill": {
     "duration": 0.030712,
     "end_time": "2022-07-25T10:10:58.097752",
     "exception": false,
     "start_time": "2022-07-25T10:10:58.067040",
     "status": "completed"
    },
    "tags": []
   },
   "source": [
    "We reshape the data to flatten the image pixels into a set of features or co-variates:"
   ]
  },
  {
   "cell_type": "code",
   "execution_count": 14,
   "id": "5286a4a3",
   "metadata": {
    "execution": {
     "iopub.execute_input": "2022-07-25T10:10:58.165343Z",
     "iopub.status.busy": "2022-07-25T10:10:58.164587Z",
     "iopub.status.idle": "2022-07-25T10:10:58.184182Z",
     "shell.execute_reply": "2022-07-25T10:10:58.183589Z"
    },
    "papermill": {
     "duration": 0.055547,
     "end_time": "2022-07-25T10:10:58.184329",
     "exception": false,
     "start_time": "2022-07-25T10:10:58.128782",
     "status": "completed"
    },
    "tags": []
   },
   "outputs": [
    {
     "data": {
      "text/plain": [
       "((11982, 784), (1984, 784))"
      ]
     },
     "execution_count": 14,
     "metadata": {},
     "output_type": "execute_result"
    }
   ],
   "source": [
    "X_train = X_train.reshape(X_train.shape[0], -1)\n",
    "X_test = X_test.reshape(X_test.shape[0], -1)\n",
    "X_train.shape, X_test.shape"
   ]
  },
  {
   "cell_type": "code",
   "execution_count": 15,
   "id": "73c5f88a",
   "metadata": {
    "execution": {
     "iopub.execute_input": "2022-07-25T10:10:58.253061Z",
     "iopub.status.busy": "2022-07-25T10:10:58.252301Z",
     "iopub.status.idle": "2022-07-25T10:10:58.283198Z",
     "shell.execute_reply": "2022-07-25T10:10:58.283743Z"
    },
    "papermill": {
     "duration": 0.068694,
     "end_time": "2022-07-25T10:10:58.283919",
     "exception": false,
     "start_time": "2022-07-25T10:10:58.215225",
     "status": "completed"
    },
    "tags": []
   },
   "outputs": [],
   "source": [
    "#Impoting functions from 'Kudzu'\n",
    "from kudzu.model import Model\n",
    "from kudzu.train import Learner\n",
    "from kudzu.optim import GD\n",
    "from kudzu.data import Data, Sampler,Dataloader\n",
    "\n",
    "from kudzu.callbacks import AccCallback\n",
    "from kudzu.callbacks import ClfCallback\n",
    "\n",
    "from kudzu.loss import MSE\n",
    "\n",
    "from kudzu.layer import Sigmoid,Relu\n",
    "from kudzu.layer import Affine"
   ]
  },
  {
   "cell_type": "markdown",
   "id": "bc01172a",
   "metadata": {
    "papermill": {
     "duration": 0.031233,
     "end_time": "2022-07-25T10:10:58.351458",
     "exception": false,
     "start_time": "2022-07-25T10:10:58.320225",
     "status": "completed"
    },
    "tags": []
   },
   "source": [
    "### Let us create a `Config` class, to store important parameters. \n",
    "This class essentially plays the role of a dictionary."
   ]
  },
  {
   "cell_type": "code",
   "execution_count": 16,
   "id": "978281aa",
   "metadata": {
    "execution": {
     "iopub.execute_input": "2022-07-25T10:10:58.420666Z",
     "iopub.status.busy": "2022-07-25T10:10:58.419851Z",
     "iopub.status.idle": "2022-07-25T10:10:58.436108Z",
     "shell.execute_reply": "2022-07-25T10:10:58.436686Z"
    },
    "papermill": {
     "duration": 0.054202,
     "end_time": "2022-07-25T10:10:58.436851",
     "exception": false,
     "start_time": "2022-07-25T10:10:58.382649",
     "status": "completed"
    },
    "tags": []
   },
   "outputs": [],
   "source": [
    "class Config:\n",
    "    pass\n",
    "config = Config()\n",
    "config.lr = 0.001\n",
    "config.num_epochs = 250\n",
    "config.bs = 50"
   ]
  },
  {
   "cell_type": "markdown",
   "id": "1385fa59",
   "metadata": {
    "papermill": {
     "duration": 0.030729,
     "end_time": "2022-07-25T10:10:58.500166",
     "exception": false,
     "start_time": "2022-07-25T10:10:58.469437",
     "status": "completed"
    },
    "tags": []
   },
   "source": [
    "### Running Models with the Training data\n",
    "Details about the network layers:\n",
    "- A first affine layer has 784 inputs and does 100 affine transforms. These are followed by a Relu\n",
    "- A second affine layer has 100 inputs from the 100 activations of the past layer, and does 100 affine transforms. These are followed by a Relu\n",
    "- A third affine layer has 100 activations and does 2 affine transformations to create an embedding for visualization. There is no non-linearity here.\n",
    "- A final \"logistic regression\" which has an affine transform from 2 inputs to 1 output, which is squeezed through a sigmoid.\n"
   ]
  },
  {
   "cell_type": "code",
   "execution_count": 17,
   "id": "2b9c66db",
   "metadata": {
    "execution": {
     "iopub.execute_input": "2022-07-25T10:10:58.567362Z",
     "iopub.status.busy": "2022-07-25T10:10:58.566627Z",
     "iopub.status.idle": "2022-07-25T10:10:58.583643Z",
     "shell.execute_reply": "2022-07-25T10:10:58.583041Z"
    },
    "papermill": {
     "duration": 0.05286,
     "end_time": "2022-07-25T10:10:58.583785",
     "exception": false,
     "start_time": "2022-07-25T10:10:58.530925",
     "status": "completed"
    },
    "tags": []
   },
   "outputs": [],
   "source": [
    "data = Data(X_train, y_train.reshape(-1,1))\n",
    "sampler = Sampler(data, config.bs, shuffle=True)\n",
    "\n",
    "dl = Dataloader(data, sampler)\n",
    "\n",
    "opt = GD(config.lr)\n",
    "loss = MSE()"
   ]
  },
  {
   "cell_type": "code",
   "execution_count": 18,
   "id": "b275e4c2",
   "metadata": {
    "execution": {
     "iopub.execute_input": "2022-07-25T10:10:58.655543Z",
     "iopub.status.busy": "2022-07-25T10:10:58.654812Z",
     "iopub.status.idle": "2022-07-25T10:10:58.667857Z",
     "shell.execute_reply": "2022-07-25T10:10:58.668377Z"
    },
    "papermill": {
     "duration": 0.053783,
     "end_time": "2022-07-25T10:10:58.668550",
     "exception": false,
     "start_time": "2022-07-25T10:10:58.614767",
     "status": "completed"
    },
    "tags": []
   },
   "outputs": [],
   "source": [
    "training_data_x = X_train\n",
    "testing_data_x = X_test\n",
    "training_data_y = y_train.reshape(-1,1)\n",
    "testing_data_y = y_test.reshape(-1,1)"
   ]
  },
  {
   "cell_type": "code",
   "execution_count": 19,
   "id": "76951160",
   "metadata": {
    "execution": {
     "iopub.execute_input": "2022-07-25T10:10:58.735670Z",
     "iopub.status.busy": "2022-07-25T10:10:58.734935Z",
     "iopub.status.idle": "2022-07-25T10:10:58.755689Z",
     "shell.execute_reply": "2022-07-25T10:10:58.755112Z"
    },
    "papermill": {
     "duration": 0.056619,
     "end_time": "2022-07-25T10:10:58.755828",
     "exception": false,
     "start_time": "2022-07-25T10:10:58.699209",
     "status": "completed"
    },
    "tags": []
   },
   "outputs": [
    {
     "name": "stdout",
     "output_type": "stream",
     "text": [
      "xavier\n",
      "xavier\n",
      "xavier\n",
      "xavier\n",
      "xavier\n"
     ]
    }
   ],
   "source": [
    "layers = [Affine(\"first\", 784, 100), Relu(\"first\"), Affine(\"second\", 100, 100), Relu(\"second\"), Affine(\"third\", 100, 2), Affine(\"last\", 2, 1), Sigmoid(\"last\")]\n",
    "model_nn = Model(layers)\n",
    "model_lr = Model([Affine(\"logits\", 784, 1), Sigmoid(\"sigmoid\")])"
   ]
  },
  {
   "cell_type": "code",
   "execution_count": 20,
   "id": "6eede77a",
   "metadata": {
    "execution": {
     "iopub.execute_input": "2022-07-25T10:10:58.827242Z",
     "iopub.status.busy": "2022-07-25T10:10:58.826545Z",
     "iopub.status.idle": "2022-07-25T10:10:58.845255Z",
     "shell.execute_reply": "2022-07-25T10:10:58.844626Z"
    },
    "papermill": {
     "duration": 0.057796,
     "end_time": "2022-07-25T10:10:58.845409",
     "exception": false,
     "start_time": "2022-07-25T10:10:58.787613",
     "status": "completed"
    },
    "tags": []
   },
   "outputs": [],
   "source": [
    "nn_learner = Learner(loss, model_nn, opt, config.num_epochs)\n",
    "acc_nn = ClfCallback(nn_learner, config.bs, training_data_x , testing_data_x, training_data_y, testing_data_y)\n",
    "nn_learner.set_callbacks([acc_nn])"
   ]
  },
  {
   "cell_type": "code",
   "execution_count": 21,
   "id": "877b6cc7",
   "metadata": {
    "execution": {
     "iopub.execute_input": "2022-07-25T10:10:58.915326Z",
     "iopub.status.busy": "2022-07-25T10:10:58.914605Z",
     "iopub.status.idle": "2022-07-25T10:10:58.932057Z",
     "shell.execute_reply": "2022-07-25T10:10:58.932655Z"
    },
    "papermill": {
     "duration": 0.055424,
     "end_time": "2022-07-25T10:10:58.932830",
     "exception": false,
     "start_time": "2022-07-25T10:10:58.877406",
     "status": "completed"
    },
    "tags": []
   },
   "outputs": [],
   "source": [
    "lr_learner = Learner(loss, model_lr, opt, config.num_epochs)\n",
    "acc_lr = ClfCallback(lr_learner, config.bs, training_data_x , testing_data_x, training_data_y, testing_data_y)\n",
    "lr_learner.set_callbacks([acc_lr])"
   ]
  },
  {
   "cell_type": "code",
   "execution_count": 22,
   "id": "d9b133c3",
   "metadata": {
    "execution": {
     "iopub.execute_input": "2022-07-25T10:10:59.000472Z",
     "iopub.status.busy": "2022-07-25T10:10:58.999721Z",
     "iopub.status.idle": "2022-07-25T10:12:33.508200Z",
     "shell.execute_reply": "2022-07-25T10:12:33.508719Z"
    },
    "papermill": {
     "duration": 94.544728,
     "end_time": "2022-07-25T10:12:33.508894",
     "exception": false,
     "start_time": "2022-07-25T10:10:58.964166",
     "status": "completed"
    },
    "tags": []
   },
   "outputs": [
    {
     "name": "stdout",
     "output_type": "stream",
     "text": [
      "Epoch 0, Loss 0.2037\n",
      "Training Accuracy: 0.8168, Testing Accuracy: 0.8221\n",
      "\n"
     ]
    },
    {
     "name": "stdout",
     "output_type": "stream",
     "text": [
      "Epoch 10, Loss 0.0485\n",
      "Training Accuracy: 0.9485, Testing Accuracy: 0.9546\n",
      "\n"
     ]
    },
    {
     "name": "stdout",
     "output_type": "stream",
     "text": [
      "Epoch 20, Loss 0.0362\n",
      "Training Accuracy: 0.9590, Testing Accuracy: 0.9627\n",
      "\n"
     ]
    },
    {
     "name": "stdout",
     "output_type": "stream",
     "text": [
      "Epoch 30, Loss 0.0311\n",
      "Training Accuracy: 0.9641, Testing Accuracy: 0.9667\n",
      "\n"
     ]
    },
    {
     "name": "stdout",
     "output_type": "stream",
     "text": [
      "Epoch 40, Loss 0.028\n",
      "Training Accuracy: 0.9679, Testing Accuracy: 0.9672\n",
      "\n"
     ]
    },
    {
     "name": "stdout",
     "output_type": "stream",
     "text": [
      "Epoch 50, Loss 0.0258\n",
      "Training Accuracy: 0.9714, Testing Accuracy: 0.9677\n",
      "\n"
     ]
    },
    {
     "name": "stdout",
     "output_type": "stream",
     "text": [
      "Epoch 60, Loss 0.0241\n",
      "Training Accuracy: 0.9736, Testing Accuracy: 0.9677\n",
      "\n"
     ]
    },
    {
     "name": "stdout",
     "output_type": "stream",
     "text": [
      "Epoch 70, Loss 0.0227\n",
      "Training Accuracy: 0.9750, Testing Accuracy: 0.9688\n",
      "\n"
     ]
    },
    {
     "name": "stdout",
     "output_type": "stream",
     "text": [
      "Epoch 80, Loss 0.0215\n",
      "Training Accuracy: 0.9766, Testing Accuracy: 0.9708\n",
      "\n"
     ]
    },
    {
     "name": "stdout",
     "output_type": "stream",
     "text": [
      "Epoch 90, Loss 0.0205\n",
      "Training Accuracy: 0.9779, Testing Accuracy: 0.9703\n",
      "\n"
     ]
    },
    {
     "name": "stdout",
     "output_type": "stream",
     "text": [
      "Epoch 100, Loss 0.0196\n",
      "Training Accuracy: 0.9789, Testing Accuracy: 0.9718\n",
      "\n"
     ]
    },
    {
     "name": "stdout",
     "output_type": "stream",
     "text": [
      "Epoch 110, Loss 0.0187\n",
      "Training Accuracy: 0.9802, Testing Accuracy: 0.9723\n",
      "\n"
     ]
    },
    {
     "name": "stdout",
     "output_type": "stream",
     "text": [
      "Epoch 120, Loss 0.018\n",
      "Training Accuracy: 0.9809, Testing Accuracy: 0.9723\n",
      "\n"
     ]
    },
    {
     "name": "stdout",
     "output_type": "stream",
     "text": [
      "Epoch 130, Loss 0.0173\n",
      "Training Accuracy: 0.9815, Testing Accuracy: 0.9733\n",
      "\n"
     ]
    },
    {
     "name": "stdout",
     "output_type": "stream",
     "text": [
      "Epoch 140, Loss 0.0167\n",
      "Training Accuracy: 0.9825, Testing Accuracy: 0.9743\n",
      "\n"
     ]
    },
    {
     "name": "stdout",
     "output_type": "stream",
     "text": [
      "Epoch 150, Loss 0.0161\n",
      "Training Accuracy: 0.9833, Testing Accuracy: 0.9753\n",
      "\n"
     ]
    },
    {
     "name": "stdout",
     "output_type": "stream",
     "text": [
      "Epoch 160, Loss 0.0156\n",
      "Training Accuracy: 0.9844, Testing Accuracy: 0.9758\n",
      "\n"
     ]
    },
    {
     "name": "stdout",
     "output_type": "stream",
     "text": [
      "Epoch 170, Loss 0.0151\n",
      "Training Accuracy: 0.9851, Testing Accuracy: 0.9768\n",
      "\n"
     ]
    },
    {
     "name": "stdout",
     "output_type": "stream",
     "text": [
      "Epoch 180, Loss 0.0146\n",
      "Training Accuracy: 0.9856, Testing Accuracy: 0.9778\n",
      "\n"
     ]
    },
    {
     "name": "stdout",
     "output_type": "stream",
     "text": [
      "Epoch 190, Loss 0.0142\n",
      "Training Accuracy: 0.9858, Testing Accuracy: 0.9783\n",
      "\n"
     ]
    },
    {
     "name": "stdout",
     "output_type": "stream",
     "text": [
      "Epoch 200, Loss 0.0138\n",
      "Training Accuracy: 0.9865, Testing Accuracy: 0.9788\n",
      "\n"
     ]
    },
    {
     "name": "stdout",
     "output_type": "stream",
     "text": [
      "Epoch 210, Loss 0.0134\n",
      "Training Accuracy: 0.9865, Testing Accuracy: 0.9793\n",
      "\n"
     ]
    },
    {
     "name": "stdout",
     "output_type": "stream",
     "text": [
      "Epoch 220, Loss 0.013\n",
      "Training Accuracy: 0.9868, Testing Accuracy: 0.9798\n",
      "\n"
     ]
    },
    {
     "name": "stdout",
     "output_type": "stream",
     "text": [
      "Epoch 230, Loss 0.0127\n",
      "Training Accuracy: 0.9871, Testing Accuracy: 0.9819\n",
      "\n"
     ]
    },
    {
     "name": "stdout",
     "output_type": "stream",
     "text": [
      "Epoch 240, Loss 0.0123\n",
      "Training Accuracy: 0.9873, Testing Accuracy: 0.9814\n",
      "\n"
     ]
    },
    {
     "data": {
      "text/plain": [
       "0.0073162673801130396"
      ]
     },
     "execution_count": 22,
     "metadata": {},
     "output_type": "execute_result"
    }
   ],
   "source": [
    "nn_learner.train_loop(dl)"
   ]
  },
  {
   "cell_type": "code",
   "execution_count": 23,
   "id": "e0163366",
   "metadata": {
    "execution": {
     "iopub.execute_input": "2022-07-25T10:12:33.606682Z",
     "iopub.status.busy": "2022-07-25T10:12:33.605950Z",
     "iopub.status.idle": "2022-07-25T10:12:50.385690Z",
     "shell.execute_reply": "2022-07-25T10:12:50.386366Z"
    },
    "papermill": {
     "duration": 16.827873,
     "end_time": "2022-07-25T10:12:50.386535",
     "exception": false,
     "start_time": "2022-07-25T10:12:33.558662",
     "status": "completed"
    },
    "tags": []
   },
   "outputs": [
    {
     "name": "stdout",
     "output_type": "stream",
     "text": [
      "Epoch 0, Loss 0.2293\n",
      "Training Accuracy: 0.7226, Testing Accuracy: 0.7409\n",
      "\n"
     ]
    },
    {
     "name": "stdout",
     "output_type": "stream",
     "text": [
      "Epoch 10, Loss 0.1024\n",
      "Training Accuracy: 0.9084, Testing Accuracy: 0.9163\n",
      "\n"
     ]
    },
    {
     "name": "stdout",
     "output_type": "stream",
     "text": [
      "Epoch 20, Loss 0.079\n",
      "Training Accuracy: 0.9288, Testing Accuracy: 0.9400\n",
      "\n"
     ]
    },
    {
     "name": "stdout",
     "output_type": "stream",
     "text": [
      "Epoch 30, Loss 0.0679\n",
      "Training Accuracy: 0.9362, Testing Accuracy: 0.9466\n",
      "\n"
     ]
    },
    {
     "name": "stdout",
     "output_type": "stream",
     "text": [
      "Epoch 40, Loss 0.0613\n",
      "Training Accuracy: 0.9427, Testing Accuracy: 0.9501\n",
      "\n"
     ]
    },
    {
     "name": "stdout",
     "output_type": "stream",
     "text": [
      "Epoch 50, Loss 0.0568\n",
      "Training Accuracy: 0.9476, Testing Accuracy: 0.9536\n",
      "\n"
     ]
    },
    {
     "name": "stdout",
     "output_type": "stream",
     "text": [
      "Epoch 60, Loss 0.0534\n",
      "Training Accuracy: 0.9498, Testing Accuracy: 0.9567\n",
      "\n"
     ]
    },
    {
     "name": "stdout",
     "output_type": "stream",
     "text": [
      "Epoch 70, Loss 0.0509\n",
      "Training Accuracy: 0.9516, Testing Accuracy: 0.9572\n",
      "\n"
     ]
    },
    {
     "name": "stdout",
     "output_type": "stream",
     "text": [
      "Epoch 80, Loss 0.0489\n",
      "Training Accuracy: 0.9524, Testing Accuracy: 0.9602\n",
      "\n"
     ]
    },
    {
     "name": "stdout",
     "output_type": "stream",
     "text": [
      "Epoch 90, Loss 0.0472\n",
      "Training Accuracy: 0.9533, Testing Accuracy: 0.9627\n",
      "\n"
     ]
    },
    {
     "name": "stdout",
     "output_type": "stream",
     "text": [
      "Epoch 100, Loss 0.0458\n",
      "Training Accuracy: 0.9543, Testing Accuracy: 0.9632\n",
      "\n"
     ]
    },
    {
     "name": "stdout",
     "output_type": "stream",
     "text": [
      "Epoch 110, Loss 0.0446\n",
      "Training Accuracy: 0.9553, Testing Accuracy: 0.9652\n",
      "\n"
     ]
    },
    {
     "name": "stdout",
     "output_type": "stream",
     "text": [
      "Epoch 120, Loss 0.0435\n",
      "Training Accuracy: 0.9557, Testing Accuracy: 0.9662\n",
      "\n"
     ]
    },
    {
     "name": "stdout",
     "output_type": "stream",
     "text": [
      "Epoch 130, Loss 0.0426\n",
      "Training Accuracy: 0.9569, Testing Accuracy: 0.9667\n",
      "\n"
     ]
    },
    {
     "name": "stdout",
     "output_type": "stream",
     "text": [
      "Epoch 140, Loss 0.0418\n",
      "Training Accuracy: 0.9574, Testing Accuracy: 0.9672\n",
      "\n"
     ]
    },
    {
     "name": "stdout",
     "output_type": "stream",
     "text": [
      "Epoch 150, Loss 0.041\n",
      "Training Accuracy: 0.9583, Testing Accuracy: 0.9672\n",
      "\n"
     ]
    },
    {
     "name": "stdout",
     "output_type": "stream",
     "text": [
      "Epoch 160, Loss 0.0404\n",
      "Training Accuracy: 0.9586, Testing Accuracy: 0.9672\n",
      "\n"
     ]
    },
    {
     "name": "stdout",
     "output_type": "stream",
     "text": [
      "Epoch 170, Loss 0.0398\n",
      "Training Accuracy: 0.9596, Testing Accuracy: 0.9677\n",
      "\n"
     ]
    },
    {
     "name": "stdout",
     "output_type": "stream",
     "text": [
      "Epoch 180, Loss 0.0392\n",
      "Training Accuracy: 0.9599, Testing Accuracy: 0.9677\n",
      "\n"
     ]
    },
    {
     "name": "stdout",
     "output_type": "stream",
     "text": [
      "Epoch 190, Loss 0.0387\n",
      "Training Accuracy: 0.9605, Testing Accuracy: 0.9682\n",
      "\n"
     ]
    },
    {
     "name": "stdout",
     "output_type": "stream",
     "text": [
      "Epoch 200, Loss 0.0382\n",
      "Training Accuracy: 0.9610, Testing Accuracy: 0.9682\n",
      "\n"
     ]
    },
    {
     "name": "stdout",
     "output_type": "stream",
     "text": [
      "Epoch 210, Loss 0.0378\n",
      "Training Accuracy: 0.9613, Testing Accuracy: 0.9682\n",
      "\n"
     ]
    },
    {
     "name": "stdout",
     "output_type": "stream",
     "text": [
      "Epoch 220, Loss 0.0374\n",
      "Training Accuracy: 0.9614, Testing Accuracy: 0.9682\n",
      "\n"
     ]
    },
    {
     "name": "stdout",
     "output_type": "stream",
     "text": [
      "Epoch 230, Loss 0.037\n",
      "Training Accuracy: 0.9617, Testing Accuracy: 0.9688\n",
      "\n"
     ]
    },
    {
     "name": "stdout",
     "output_type": "stream",
     "text": [
      "Epoch 240, Loss 0.0366\n",
      "Training Accuracy: 0.9619, Testing Accuracy: 0.9698\n",
      "\n"
     ]
    },
    {
     "data": {
      "text/plain": [
       "0.03997466747310828"
      ]
     },
     "execution_count": 23,
     "metadata": {},
     "output_type": "execute_result"
    }
   ],
   "source": [
    "lr_learner.train_loop(dl)"
   ]
  },
  {
   "cell_type": "code",
   "execution_count": 24,
   "id": "ca410940",
   "metadata": {
    "execution": {
     "iopub.execute_input": "2022-07-25T10:12:50.499425Z",
     "iopub.status.busy": "2022-07-25T10:12:50.498699Z",
     "iopub.status.idle": "2022-07-25T10:12:50.785230Z",
     "shell.execute_reply": "2022-07-25T10:12:50.785723Z"
    },
    "papermill": {
     "duration": 0.340721,
     "end_time": "2022-07-25T10:12:50.785868",
     "exception": false,
     "start_time": "2022-07-25T10:12:50.445147",
     "status": "completed"
    },
    "tags": []
   },
   "outputs": [
    {
     "data": {
      "text/plain": [
       "<matplotlib.legend.Legend at 0x7f5ed86cfc88>"
      ]
     },
     "execution_count": 24,
     "metadata": {},
     "output_type": "execute_result"
    },
    {
     "data": {
      "image/png": "[encoded data removed]",
      "text/plain": [
       "<Figure size 1080x720 with 1 Axes>"
      ]
     },
     "metadata": {
      "needs_background": "light"
     },
     "output_type": "display_data"
    }
   ],
   "source": [
    "#comparing the results of NN and LR\n",
    "plt.figure(figsize=(15,10))\n",
    "\n",
    "# Neural Network plots\n",
    "plt.plot(acc_nn.accuracies, 'r-', label = \"Training Accuracies - NN\")\n",
    "plt.plot(acc_nn.test_accuracies, 'g-', label = \"Testing Accuracies - NN\")\n",
    "\n",
    "# Logistic Regression plots\n",
    "plt.plot(acc_lr.accuracies, 'k-', label = \"Training Accuracies - LR\")\n",
    "plt.plot(acc_lr.test_accuracies, 'b-', label = \"Testing Accuracies - LR\")\n",
    "plt.legend()"
   ]
  },
  {
   "cell_type": "markdown",
   "id": "80dfb35c",
   "metadata": {
    "papermill": {
     "duration": 0.047246,
     "end_time": "2022-07-25T10:12:50.881196",
     "exception": false,
     "start_time": "2022-07-25T10:12:50.833950",
     "status": "completed"
    },
    "tags": []
   },
   "source": [
    "#### Plotting the outputs of this layer of the NN.\n"
   ]
  },
  {
   "cell_type": "code",
   "execution_count": 25,
   "id": "45eb2ff5",
   "metadata": {
    "execution": {
     "iopub.execute_input": "2022-07-25T10:12:50.987916Z",
     "iopub.status.busy": "2022-07-25T10:12:50.987179Z",
     "iopub.status.idle": "2022-07-25T10:12:51.012162Z",
     "shell.execute_reply": "2022-07-25T10:12:51.012743Z"
    },
    "papermill": {
     "duration": 0.078158,
     "end_time": "2022-07-25T10:12:51.012919",
     "exception": false,
     "start_time": "2022-07-25T10:12:50.934761",
     "status": "completed"
    },
    "tags": []
   },
   "outputs": [],
   "source": [
    "new_model = Model(layers[:-2])\n",
    "testing_plot = new_model(testing_data_x)"
   ]
  },
  {
   "cell_type": "code",
   "execution_count": 26,
   "id": "4c0a5485",
   "metadata": {
    "execution": {
     "iopub.execute_input": "2022-07-25T10:12:51.123017Z",
     "iopub.status.busy": "2022-07-25T10:12:51.122299Z",
     "iopub.status.idle": "2022-07-25T10:12:51.348695Z",
     "shell.execute_reply": "2022-07-25T10:12:51.349231Z"
    },
    "papermill": {
     "duration": 0.280309,
     "end_time": "2022-07-25T10:12:51.349399",
     "exception": false,
     "start_time": "2022-07-25T10:12:51.069090",
     "status": "completed"
    },
    "tags": []
   },
   "outputs": [
    {
     "data": {
      "text/plain": [
       "Text(0.5, 1.0, 'Outputs')"
      ]
     },
     "execution_count": 26,
     "metadata": {},
     "output_type": "execute_result"
    },
    {
     "data": {
      "image/png": "[encoded data removed]",
      "text/plain": [
       "<Figure size 576x504 with 1 Axes>"
      ]
     },
     "metadata": {
      "needs_background": "light"
     },
     "output_type": "display_data"
    }
   ],
   "source": [
    "# Plotting the scatter plot of points and color coding by class\n",
    "plt.figure(figsize=(8,7))\n",
    "plt.scatter(testing_plot[:,0], testing_plot[:,1], alpha = 0.1, c = y_test.ravel());\n",
    "plt.title('Outputs')"
   ]
  },
  {
   "cell_type": "markdown",
   "id": "a74fcf8f",
   "metadata": {
    "papermill": {
     "duration": 0.050199,
     "end_time": "2022-07-25T10:12:51.449140",
     "exception": false,
     "start_time": "2022-07-25T10:12:51.398941",
     "status": "completed"
    },
    "tags": []
   },
   "source": [
    "Probability contours"
   ]
  },
  {
   "cell_type": "code",
   "execution_count": 27,
   "id": "d0afc8e3",
   "metadata": {
    "execution": {
     "iopub.execute_input": "2022-07-25T10:12:51.586333Z",
     "iopub.status.busy": "2022-07-25T10:12:51.585732Z",
     "iopub.status.idle": "2022-07-25T10:12:51.604636Z",
     "shell.execute_reply": "2022-07-25T10:12:51.605234Z"
    },
    "papermill": {
     "duration": 0.075287,
     "end_time": "2022-07-25T10:12:51.605397",
     "exception": false,
     "start_time": "2022-07-25T10:12:51.530110",
     "status": "completed"
    },
    "tags": []
   },
   "outputs": [],
   "source": [
    "model_prob = Model(layers[-2:]) "
   ]
  },
  {
   "cell_type": "code",
   "execution_count": 28,
   "id": "9b96e238",
   "metadata": {
    "execution": {
     "iopub.execute_input": "2022-07-25T10:12:51.712516Z",
     "iopub.status.busy": "2022-07-25T10:12:51.711792Z",
     "iopub.status.idle": "2022-07-25T10:12:51.732323Z",
     "shell.execute_reply": "2022-07-25T10:12:51.732865Z"
    },
    "papermill": {
     "duration": 0.077675,
     "end_time": "2022-07-25T10:12:51.733026",
     "exception": false,
     "start_time": "2022-07-25T10:12:51.655351",
     "status": "completed"
    },
    "tags": []
   },
   "outputs": [],
   "source": [
    "#creating the x and y ranges according to the above generated plot.\n",
    "x_range = np.linspace(-4, 1, 100) \n",
    "y_range = np.linspace(-6, 6, 100) \n",
    "x_grid, y_grid = np.meshgrid(x_range, y_range) # x_grid and y_grig are of size 100 X 100\n",
    "\n",
    "# converting x_grid and y_grid to continuous arrays\n",
    "x_gridflat = np.ravel(x_grid)\n",
    "y_gridflat = np.ravel(y_grid)\n",
    "\n",
    "# The last layer of the current model takes two columns as input. Hence transpose of np.vstack() is required.\n",
    "X = np.vstack((x_gridflat, y_gridflat)).T\n",
    "\n",
    "prob_contour = model_prob(X).reshape(100,100) "
   ]
  },
  {
   "cell_type": "code",
   "execution_count": 29,
   "id": "da72499a",
   "metadata": {
    "execution": {
     "iopub.execute_input": "2022-07-25T10:12:51.844602Z",
     "iopub.status.busy": "2022-07-25T10:12:51.843885Z",
     "iopub.status.idle": "2022-07-25T10:12:52.140258Z",
     "shell.execute_reply": "2022-07-25T10:12:52.140773Z"
    },
    "papermill": {
     "duration": 0.353089,
     "end_time": "2022-07-25T10:12:52.140946",
     "exception": false,
     "start_time": "2022-07-25T10:12:51.787857",
     "status": "completed"
    },
    "tags": []
   },
   "outputs": [
    {
     "data": {
      "image/png": "[encoded data removed]",
      "text/plain": [
       "<Figure size 720x648 with 1 Axes>"
      ]
     },
     "metadata": {
      "needs_background": "light"
     },
     "output_type": "display_data"
    }
   ],
   "source": [
    "plt.figure(figsize=(10,9))\n",
    "plt.scatter(testing_plot[:,0], testing_plot[:,1], alpha = 0.1, c = y_test.ravel())\n",
    "contours = plt.contour(x_grid,y_grid,prob_contour)\n",
    "plt.title('Probability Contours')\n",
    "plt.clabel(contours, inline = True );"
   ]
  },
  {
   "cell_type": "code",
   "execution_count": null,
   "id": "e81b4ac7",
   "metadata": {
    "papermill": {
     "duration": 0.053936,
     "end_time": "2022-07-25T10:12:52.249198",
     "exception": false,
     "start_time": "2022-07-25T10:12:52.195262",
     "status": "completed"
    },
    "tags": []
   },
   "outputs": [],
   "source": []
  }
 ],
 "metadata": {
  "kernelspec": {
   "display_name": "Python 3",
   "language": "python",
   "name": "python3"
  },
  "language_info": {
   "codemirror_mode": {
    "name": "ipython",
    "version": 3
   },
   "file_extension": ".py",
   "mimetype": "text/x-python",
   "name": "python",
   "nbconvert_exporter": "python",
   "pygments_lexer": "ipython3",
   "version": "3.6.15"
  },
  "papermill": {
   "default_parameters": {},
   "duration": 121.043485,
   "end_time": "2022-07-25T10:12:52.723683",
   "environment_variables": {},
   "exception": null,
   "input_path": "2020-08-11-part2.ipynb",
   "output_path": "2020-08-11-part2.ipynb",
   "parameters": {},
   "start_time": "2022-07-25T10:10:51.680198",
   "version": "2.3.3"
  }
 },
 "nbformat": 4,
 "nbformat_minor": 5
}