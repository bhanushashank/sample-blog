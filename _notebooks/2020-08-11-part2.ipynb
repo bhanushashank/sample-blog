{
 "cells": [
  {
   "cell_type": "markdown",
   "id": "98380cd3",
   "metadata": {
    "papermill": {
     "duration": 0.028622,
     "end_time": "2022-04-20T10:10:04.653105",
     "exception": false,
     "start_time": "2022-04-20T10:10:04.624483",
     "status": "completed"
    },
    "tags": []
   },
   "source": [
    "# Distinguish Your Own Digits (DYOD)"
   ]
  },
  {
   "cell_type": "markdown",
   "id": "ef31240d",
   "metadata": {
    "papermill": {
     "duration": 0.025671,
     "end_time": "2022-04-20T10:10:04.703966",
     "exception": false,
     "start_time": "2022-04-20T10:10:04.678295",
     "status": "completed"
    },
    "tags": []
   },
   "source": [
    "You are going to write a classifier that distinguishes between the number 3 and number 8."
   ]
  },
  {
   "cell_type": "code",
   "execution_count": 1,
   "id": "b15c8646",
   "metadata": {
    "execution": {
     "iopub.execute_input": "2022-04-20T10:10:04.762755Z",
     "iopub.status.busy": "2022-04-20T10:10:04.762221Z",
     "iopub.status.idle": "2022-04-20T10:10:04.771921Z",
     "shell.execute_reply": "2022-04-20T10:10:04.772322Z"
    },
    "papermill": {
     "duration": 0.043941,
     "end_time": "2022-04-20T10:10:04.772455",
     "exception": false,
     "start_time": "2022-04-20T10:10:04.728514",
     "status": "completed"
    },
    "tags": []
   },
   "outputs": [],
   "source": [
    "%load_ext autoreload\n",
    "%autoreload 2"
   ]
  },
  {
   "cell_type": "code",
   "execution_count": 2,
   "id": "22ef38dc",
   "metadata": {
    "execution": {
     "iopub.execute_input": "2022-04-20T10:10:04.825389Z",
     "iopub.status.busy": "2022-04-20T10:10:04.824880Z",
     "iopub.status.idle": "2022-04-20T10:10:05.333777Z",
     "shell.execute_reply": "2022-04-20T10:10:05.333309Z"
    },
    "papermill": {
     "duration": 0.536762,
     "end_time": "2022-04-20T10:10:05.333887",
     "exception": false,
     "start_time": "2022-04-20T10:10:04.797125",
     "status": "completed"
    },
    "tags": []
   },
   "outputs": [],
   "source": [
    "%matplotlib inline\n",
    "import numpy as np\n",
    "import matplotlib.pyplot as plt\n",
    "import pandas as pd"
   ]
  },
  {
   "cell_type": "markdown",
   "id": "ba036198",
   "metadata": {
    "papermill": {
     "duration": 0.024802,
     "end_time": "2022-04-20T10:10:05.383938",
     "exception": false,
     "start_time": "2022-04-20T10:10:05.359136",
     "status": "completed"
    },
    "tags": []
   },
   "source": [
    "From the command line run `pip install mnist`. This is a library that will help you bring down the mnist dataset. If you run this from a notebook, you need to put  `!pip install mnist` in a cell by itself."
   ]
  },
  {
   "cell_type": "code",
   "execution_count": 3,
   "id": "bb6ad8a1",
   "metadata": {
    "execution": {
     "iopub.execute_input": "2022-04-20T10:10:05.437185Z",
     "iopub.status.busy": "2022-04-20T10:10:05.436695Z",
     "iopub.status.idle": "2022-04-20T10:10:07.328214Z",
     "shell.execute_reply": "2022-04-20T10:10:07.327340Z"
    },
    "papermill": {
     "duration": 1.919564,
     "end_time": "2022-04-20T10:10:07.328337",
     "exception": false,
     "start_time": "2022-04-20T10:10:05.408773",
     "status": "completed"
    },
    "tags": []
   },
   "outputs": [
    {
     "name": "stdout",
     "output_type": "stream",
     "text": [
      "Collecting mnist\r\n"
     ]
    },
    {
     "name": "stdout",
     "output_type": "stream",
     "text": [
      "  Downloading mnist-0.2.2-py2.py3-none-any.whl (3.5 kB)\r\n",
      "Requirement already satisfied: numpy in /opt/hostedtoolcache/Python/3.6.15/x64/lib/python3.6/site-packages (from mnist) (1.19.5)\r\n"
     ]
    },
    {
     "name": "stdout",
     "output_type": "stream",
     "text": [
      "Installing collected packages: mnist\r\n"
     ]
    },
    {
     "name": "stdout",
     "output_type": "stream",
     "text": [
      "Successfully installed mnist-0.2.2\r\n"
     ]
    }
   ],
   "source": [
    "!pip install mnist"
   ]
  },
  {
   "cell_type": "markdown",
   "id": "69df9c9a",
   "metadata": {
    "papermill": {
     "duration": 0.026059,
     "end_time": "2022-04-20T10:10:07.381007",
     "exception": false,
     "start_time": "2022-04-20T10:10:07.354948",
     "status": "completed"
    },
    "tags": []
   },
   "source": [
    "## Preparing the Data"
   ]
  },
  {
   "cell_type": "code",
   "execution_count": 4,
   "id": "7f69d806",
   "metadata": {
    "execution": {
     "iopub.execute_input": "2022-04-20T10:10:07.439219Z",
     "iopub.status.busy": "2022-04-20T10:10:07.435715Z",
     "iopub.status.idle": "2022-04-20T10:10:07.448914Z",
     "shell.execute_reply": "2022-04-20T10:10:07.448489Z"
    },
    "papermill": {
     "duration": 0.042054,
     "end_time": "2022-04-20T10:10:07.449013",
     "exception": false,
     "start_time": "2022-04-20T10:10:07.406959",
     "status": "completed"
    },
    "tags": []
   },
   "outputs": [],
   "source": [
    "import mnist"
   ]
  },
  {
   "cell_type": "code",
   "execution_count": 5,
   "id": "a411e44f",
   "metadata": {
    "execution": {
     "iopub.execute_input": "2022-04-20T10:10:07.504721Z",
     "iopub.status.busy": "2022-04-20T10:10:07.504205Z",
     "iopub.status.idle": "2022-04-20T10:10:08.127803Z",
     "shell.execute_reply": "2022-04-20T10:10:08.127365Z"
    },
    "papermill": {
     "duration": 0.652935,
     "end_time": "2022-04-20T10:10:08.127917",
     "exception": false,
     "start_time": "2022-04-20T10:10:07.474982",
     "status": "completed"
    },
    "tags": []
   },
   "outputs": [],
   "source": [
    "train_images = mnist.train_images()\n",
    "train_labels = mnist.train_labels()"
   ]
  },
  {
   "cell_type": "code",
   "execution_count": 6,
   "id": "dceab3a5",
   "metadata": {
    "execution": {
     "iopub.execute_input": "2022-04-20T10:10:08.184066Z",
     "iopub.status.busy": "2022-04-20T10:10:08.183549Z",
     "iopub.status.idle": "2022-04-20T10:10:08.198551Z",
     "shell.execute_reply": "2022-04-20T10:10:08.197760Z"
    },
    "papermill": {
     "duration": 0.044575,
     "end_time": "2022-04-20T10:10:08.198663",
     "exception": false,
     "start_time": "2022-04-20T10:10:08.154088",
     "status": "completed"
    },
    "tags": []
   },
   "outputs": [
    {
     "data": {
      "text/plain": [
       "((60000, 28, 28), (60000,))"
      ]
     },
     "execution_count": 6,
     "metadata": {},
     "output_type": "execute_result"
    }
   ],
   "source": [
    "train_images.shape, train_labels.shape"
   ]
  },
  {
   "cell_type": "code",
   "execution_count": 7,
   "id": "f50dc2bb",
   "metadata": {
    "execution": {
     "iopub.execute_input": "2022-04-20T10:10:08.255596Z",
     "iopub.status.busy": "2022-04-20T10:10:08.254818Z",
     "iopub.status.idle": "2022-04-20T10:10:08.479742Z",
     "shell.execute_reply": "2022-04-20T10:10:08.479282Z"
    },
    "papermill": {
     "duration": 0.254381,
     "end_time": "2022-04-20T10:10:08.479849",
     "exception": false,
     "start_time": "2022-04-20T10:10:08.225468",
     "status": "completed"
    },
    "tags": []
   },
   "outputs": [],
   "source": [
    "test_images = mnist.test_images()\n",
    "test_labels = mnist.test_labels()"
   ]
  },
  {
   "cell_type": "code",
   "execution_count": 8,
   "id": "fc38cf1b",
   "metadata": {
    "execution": {
     "iopub.execute_input": "2022-04-20T10:10:08.535516Z",
     "iopub.status.busy": "2022-04-20T10:10:08.535026Z",
     "iopub.status.idle": "2022-04-20T10:10:08.546889Z",
     "shell.execute_reply": "2022-04-20T10:10:08.547356Z"
    },
    "papermill": {
     "duration": 0.041185,
     "end_time": "2022-04-20T10:10:08.547468",
     "exception": false,
     "start_time": "2022-04-20T10:10:08.506283",
     "status": "completed"
    },
    "tags": []
   },
   "outputs": [
    {
     "data": {
      "text/plain": [
       "((10000, 28, 28), (10000,))"
      ]
     },
     "execution_count": 8,
     "metadata": {},
     "output_type": "execute_result"
    }
   ],
   "source": [
    "test_images.shape, test_labels.shape"
   ]
  },
  {
   "cell_type": "code",
   "execution_count": 9,
   "id": "f9ed8fe0",
   "metadata": {
    "execution": {
     "iopub.execute_input": "2022-04-20T10:10:08.603291Z",
     "iopub.status.busy": "2022-04-20T10:10:08.602801Z",
     "iopub.status.idle": "2022-04-20T10:10:08.736593Z",
     "shell.execute_reply": "2022-04-20T10:10:08.737005Z"
    },
    "papermill": {
     "duration": 0.163274,
     "end_time": "2022-04-20T10:10:08.737129",
     "exception": false,
     "start_time": "2022-04-20T10:10:08.573855",
     "status": "completed"
    },
    "tags": []
   },
   "outputs": [
    {
     "name": "stdout",
     "output_type": "stream",
     "text": [
      "2\n"
     ]
    },
    {
     "data": {
      "text/plain": [
       "<matplotlib.image.AxesImage at 0x7fc67286a8d0>"
      ]
     },
     "execution_count": 9,
     "metadata": {},
     "output_type": "execute_result"
    },
    {
     "data": {
      "image/png": "[encoded data removed]",
      "text/plain": [
       "<Figure size 432x288 with 1 Axes>"
      ]
     },
     "metadata": {
      "needs_background": "light"
     },
     "output_type": "display_data"
    }
   ],
   "source": [
    "image_index = 7776 # You may select anything up to 60,000\n",
    "print(train_labels[image_index]) \n",
    "plt.imshow(train_images[image_index], cmap='Greys')"
   ]
  },
  {
   "cell_type": "markdown",
   "id": "a8d2388d",
   "metadata": {
    "papermill": {
     "duration": 0.027591,
     "end_time": "2022-04-20T10:10:08.792518",
     "exception": false,
     "start_time": "2022-04-20T10:10:08.764927",
     "status": "completed"
    },
    "tags": []
   },
   "source": [
    "## Filter data to get 3 and 8 out"
   ]
  },
  {
   "cell_type": "code",
   "execution_count": 10,
   "id": "776f7fc7",
   "metadata": {
    "execution": {
     "iopub.execute_input": "2022-04-20T10:10:08.851824Z",
     "iopub.status.busy": "2022-04-20T10:10:08.851318Z",
     "iopub.status.idle": "2022-04-20T10:10:08.867867Z",
     "shell.execute_reply": "2022-04-20T10:10:08.867472Z"
    },
    "papermill": {
     "duration": 0.047898,
     "end_time": "2022-04-20T10:10:08.867972",
     "exception": false,
     "start_time": "2022-04-20T10:10:08.820074",
     "status": "completed"
    },
    "tags": []
   },
   "outputs": [],
   "source": [
    "train_filter = np.where((train_labels == 3 ) | (train_labels == 8))\n",
    "test_filter = np.where((test_labels == 3) | (test_labels == 8))\n",
    "X_train, y_train = train_images[train_filter], train_labels[train_filter]\n",
    "X_test, y_test = test_images[test_filter], test_labels[test_filter]"
   ]
  },
  {
   "cell_type": "markdown",
   "id": "948f0b7e",
   "metadata": {
    "papermill": {
     "duration": 0.027678,
     "end_time": "2022-04-20T10:10:08.923365",
     "exception": false,
     "start_time": "2022-04-20T10:10:08.895687",
     "status": "completed"
    },
    "tags": []
   },
   "source": [
    "We normalize the pizel values in the 0 to 1 range"
   ]
  },
  {
   "cell_type": "code",
   "execution_count": 11,
   "id": "ee4c2166",
   "metadata": {
    "execution": {
     "iopub.execute_input": "2022-04-20T10:10:08.981741Z",
     "iopub.status.busy": "2022-04-20T10:10:08.981249Z",
     "iopub.status.idle": "2022-04-20T10:10:09.021350Z",
     "shell.execute_reply": "2022-04-20T10:10:09.020918Z"
    },
    "papermill": {
     "duration": 0.070581,
     "end_time": "2022-04-20T10:10:09.021462",
     "exception": false,
     "start_time": "2022-04-20T10:10:08.950881",
     "status": "completed"
    },
    "tags": []
   },
   "outputs": [],
   "source": [
    "X_train = X_train/255.\n",
    "X_test = X_test/255."
   ]
  },
  {
   "cell_type": "markdown",
   "id": "ddcf4fab",
   "metadata": {
    "papermill": {
     "duration": 0.027597,
     "end_time": "2022-04-20T10:10:09.076993",
     "exception": false,
     "start_time": "2022-04-20T10:10:09.049396",
     "status": "completed"
    },
    "tags": []
   },
   "source": [
    "And setup the labels as 1 (when the digit is 3) and 0 (when the digit is 8)"
   ]
  },
  {
   "cell_type": "code",
   "execution_count": 12,
   "id": "7dc908f2",
   "metadata": {
    "execution": {
     "iopub.execute_input": "2022-04-20T10:10:09.135866Z",
     "iopub.status.busy": "2022-04-20T10:10:09.135367Z",
     "iopub.status.idle": "2022-04-20T10:10:09.147988Z",
     "shell.execute_reply": "2022-04-20T10:10:09.147557Z"
    },
    "papermill": {
     "duration": 0.043464,
     "end_time": "2022-04-20T10:10:09.148096",
     "exception": false,
     "start_time": "2022-04-20T10:10:09.104632",
     "status": "completed"
    },
    "tags": []
   },
   "outputs": [],
   "source": [
    "y_train = 1*(y_train==3)\n",
    "y_test = 1*(y_test==3)"
   ]
  },
  {
   "cell_type": "code",
   "execution_count": 13,
   "id": "01e4e969",
   "metadata": {
    "execution": {
     "iopub.execute_input": "2022-04-20T10:10:09.206790Z",
     "iopub.status.busy": "2022-04-20T10:10:09.206265Z",
     "iopub.status.idle": "2022-04-20T10:10:09.218984Z",
     "shell.execute_reply": "2022-04-20T10:10:09.218580Z"
    },
    "papermill": {
     "duration": 0.043291,
     "end_time": "2022-04-20T10:10:09.219089",
     "exception": false,
     "start_time": "2022-04-20T10:10:09.175798",
     "status": "completed"
    },
    "tags": []
   },
   "outputs": [
    {
     "data": {
      "text/plain": [
       "((11982, 28, 28), (1984, 28, 28))"
      ]
     },
     "execution_count": 13,
     "metadata": {},
     "output_type": "execute_result"
    }
   ],
   "source": [
    "X_train.shape, X_test.shape"
   ]
  },
  {
   "cell_type": "markdown",
   "id": "5ccf3f85",
   "metadata": {
    "papermill": {
     "duration": 0.027821,
     "end_time": "2022-04-20T10:10:09.274727",
     "exception": false,
     "start_time": "2022-04-20T10:10:09.246906",
     "status": "completed"
    },
    "tags": []
   },
   "source": [
    "We reshape the data to flatten the image pixels into a set of features or co-variates:"
   ]
  },
  {
   "cell_type": "code",
   "execution_count": 14,
   "id": "5286a4a3",
   "metadata": {
    "execution": {
     "iopub.execute_input": "2022-04-20T10:10:09.335039Z",
     "iopub.status.busy": "2022-04-20T10:10:09.334538Z",
     "iopub.status.idle": "2022-04-20T10:10:09.346890Z",
     "shell.execute_reply": "2022-04-20T10:10:09.346461Z"
    },
    "papermill": {
     "duration": 0.044368,
     "end_time": "2022-04-20T10:10:09.347003",
     "exception": false,
     "start_time": "2022-04-20T10:10:09.302635",
     "status": "completed"
    },
    "tags": []
   },
   "outputs": [
    {
     "data": {
      "text/plain": [
       "((11982, 784), (1984, 784))"
      ]
     },
     "execution_count": 14,
     "metadata": {},
     "output_type": "execute_result"
    }
   ],
   "source": [
    "X_train = X_train.reshape(X_train.shape[0], -1)\n",
    "X_test = X_test.reshape(X_test.shape[0], -1)\n",
    "X_train.shape, X_test.shape"
   ]
  },
  {
   "cell_type": "code",
   "execution_count": 15,
   "id": "73c5f88a",
   "metadata": {
    "execution": {
     "iopub.execute_input": "2022-04-20T10:10:09.407948Z",
     "iopub.status.busy": "2022-04-20T10:10:09.407440Z",
     "iopub.status.idle": "2022-04-20T10:10:09.426085Z",
     "shell.execute_reply": "2022-04-20T10:10:09.425644Z"
    },
    "papermill": {
     "duration": 0.050891,
     "end_time": "2022-04-20T10:10:09.426191",
     "exception": false,
     "start_time": "2022-04-20T10:10:09.375300",
     "status": "completed"
    },
    "tags": []
   },
   "outputs": [],
   "source": [
    "#Impoting functions from 'Kudzu'\n",
    "from kudzu.model import Model\n",
    "from kudzu.train import Learner\n",
    "from kudzu.optim import GD\n",
    "from kudzu.data import Data, Sampler,Dataloader\n",
    "\n",
    "from kudzu.callbacks import AccCallback\n",
    "from kudzu.callbacks import ClfCallback\n",
    "\n",
    "from kudzu.loss import MSE\n",
    "\n",
    "from kudzu.layer import Sigmoid,Relu\n",
    "from kudzu.layer import Affine"
   ]
  },
  {
   "cell_type": "markdown",
   "id": "bc01172a",
   "metadata": {
    "papermill": {
     "duration": 0.0285,
     "end_time": "2022-04-20T10:10:09.483066",
     "exception": false,
     "start_time": "2022-04-20T10:10:09.454566",
     "status": "completed"
    },
    "tags": []
   },
   "source": [
    "### Let us create a `Config` class, to store important parameters. \n",
    "This class essentially plays the role of a dictionary."
   ]
  },
  {
   "cell_type": "code",
   "execution_count": 16,
   "id": "978281aa",
   "metadata": {
    "execution": {
     "iopub.execute_input": "2022-04-20T10:10:09.542786Z",
     "iopub.status.busy": "2022-04-20T10:10:09.542256Z",
     "iopub.status.idle": "2022-04-20T10:10:09.554272Z",
     "shell.execute_reply": "2022-04-20T10:10:09.553860Z"
    },
    "papermill": {
     "duration": 0.043268,
     "end_time": "2022-04-20T10:10:09.554381",
     "exception": false,
     "start_time": "2022-04-20T10:10:09.511113",
     "status": "completed"
    },
    "tags": []
   },
   "outputs": [],
   "source": [
    "class Config:\n",
    "    pass\n",
    "config = Config()\n",
    "config.lr = 0.001\n",
    "config.num_epochs = 250\n",
    "config.bs = 50"
   ]
  },
  {
   "cell_type": "markdown",
   "id": "1385fa59",
   "metadata": {
    "papermill": {
     "duration": 0.028574,
     "end_time": "2022-04-20T10:10:09.611388",
     "exception": false,
     "start_time": "2022-04-20T10:10:09.582814",
     "status": "completed"
    },
    "tags": []
   },
   "source": [
    "### Running Models with the Training data\n",
    "Details about the network layers:\n",
    "- A first affine layer has 784 inputs and does 100 affine transforms. These are followed by a Relu\n",
    "- A second affine layer has 100 inputs from the 100 activations of the past layer, and does 100 affine transforms. These are followed by a Relu\n",
    "- A third affine layer has 100 activations and does 2 affine transformations to create an embedding for visualization. There is no non-linearity here.\n",
    "- A final \"logistic regression\" which has an affine transform from 2 inputs to 1 output, which is squeezed through a sigmoid.\n"
   ]
  },
  {
   "cell_type": "code",
   "execution_count": 17,
   "id": "2b9c66db",
   "metadata": {
    "execution": {
     "iopub.execute_input": "2022-04-20T10:10:09.671467Z",
     "iopub.status.busy": "2022-04-20T10:10:09.670957Z",
     "iopub.status.idle": "2022-04-20T10:10:09.683054Z",
     "shell.execute_reply": "2022-04-20T10:10:09.682656Z"
    },
    "papermill": {
     "duration": 0.043561,
     "end_time": "2022-04-20T10:10:09.683158",
     "exception": false,
     "start_time": "2022-04-20T10:10:09.639597",
     "status": "completed"
    },
    "tags": []
   },
   "outputs": [],
   "source": [
    "data = Data(X_train, y_train.reshape(-1,1))\n",
    "sampler = Sampler(data, config.bs, shuffle=True)\n",
    "\n",
    "dl = Dataloader(data, sampler)\n",
    "\n",
    "opt = GD(config.lr)\n",
    "loss = MSE()"
   ]
  },
  {
   "cell_type": "code",
   "execution_count": 18,
   "id": "b275e4c2",
   "metadata": {
    "execution": {
     "iopub.execute_input": "2022-04-20T10:10:09.743513Z",
     "iopub.status.busy": "2022-04-20T10:10:09.743012Z",
     "iopub.status.idle": "2022-04-20T10:10:09.754605Z",
     "shell.execute_reply": "2022-04-20T10:10:09.754179Z"
    },
    "papermill": {
     "duration": 0.04335,
     "end_time": "2022-04-20T10:10:09.754709",
     "exception": false,
     "start_time": "2022-04-20T10:10:09.711359",
     "status": "completed"
    },
    "tags": []
   },
   "outputs": [],
   "source": [
    "training_data_x = X_train\n",
    "testing_data_x = X_test\n",
    "training_data_y = y_train.reshape(-1,1)\n",
    "testing_data_y = y_test.reshape(-1,1)"
   ]
  },
  {
   "cell_type": "code",
   "execution_count": 19,
   "id": "76951160",
   "metadata": {
    "execution": {
     "iopub.execute_input": "2022-04-20T10:10:09.814932Z",
     "iopub.status.busy": "2022-04-20T10:10:09.814338Z",
     "iopub.status.idle": "2022-04-20T10:10:09.829506Z",
     "shell.execute_reply": "2022-04-20T10:10:09.829879Z"
    },
    "papermill": {
     "duration": 0.047341,
     "end_time": "2022-04-20T10:10:09.830000",
     "exception": false,
     "start_time": "2022-04-20T10:10:09.782659",
     "status": "completed"
    },
    "tags": []
   },
   "outputs": [
    {
     "name": "stdout",
     "output_type": "stream",
     "text": [
      "xavier\n",
      "xavier\n",
      "xavier\n",
      "xavier\n",
      "xavier\n"
     ]
    }
   ],
   "source": [
    "layers = [Affine(\"first\", 784, 100), Relu(\"first\"), Affine(\"second\", 100, 100), Relu(\"second\"), Affine(\"third\", 100, 2), Affine(\"last\", 2, 1), Sigmoid(\"last\")]\n",
    "model_nn = Model(layers)\n",
    "model_lr = Model([Affine(\"logits\", 784, 1), Sigmoid(\"sigmoid\")])"
   ]
  },
  {
   "cell_type": "code",
   "execution_count": 20,
   "id": "6eede77a",
   "metadata": {
    "execution": {
     "iopub.execute_input": "2022-04-20T10:10:09.890652Z",
     "iopub.status.busy": "2022-04-20T10:10:09.890116Z",
     "iopub.status.idle": "2022-04-20T10:10:09.902022Z",
     "shell.execute_reply": "2022-04-20T10:10:09.901630Z"
    },
    "papermill": {
     "duration": 0.043591,
     "end_time": "2022-04-20T10:10:09.902124",
     "exception": false,
     "start_time": "2022-04-20T10:10:09.858533",
     "status": "completed"
    },
    "tags": []
   },
   "outputs": [],
   "source": [
    "nn_learner = Learner(loss, model_nn, opt, config.num_epochs)\n",
    "acc_nn = ClfCallback(nn_learner, config.bs, training_data_x , testing_data_x, training_data_y, testing_data_y)\n",
    "nn_learner.set_callbacks([acc_nn])"
   ]
  },
  {
   "cell_type": "code",
   "execution_count": 21,
   "id": "877b6cc7",
   "metadata": {
    "execution": {
     "iopub.execute_input": "2022-04-20T10:10:09.963285Z",
     "iopub.status.busy": "2022-04-20T10:10:09.962366Z",
     "iopub.status.idle": "2022-04-20T10:10:09.974437Z",
     "shell.execute_reply": "2022-04-20T10:10:09.974853Z"
    },
    "papermill": {
     "duration": 0.044313,
     "end_time": "2022-04-20T10:10:09.974975",
     "exception": false,
     "start_time": "2022-04-20T10:10:09.930662",
     "status": "completed"
    },
    "tags": []
   },
   "outputs": [],
   "source": [
    "lr_learner = Learner(loss, model_lr, opt, config.num_epochs)\n",
    "acc_lr = ClfCallback(lr_learner, config.bs, training_data_x , testing_data_x, training_data_y, testing_data_y)\n",
    "lr_learner.set_callbacks([acc_lr])"
   ]
  },
  {
   "cell_type": "code",
   "execution_count": 22,
   "id": "d9b133c3",
   "metadata": {
    "execution": {
     "iopub.execute_input": "2022-04-20T10:10:10.035710Z",
     "iopub.status.busy": "2022-04-20T10:10:10.035212Z",
     "iopub.status.idle": "2022-04-20T10:13:07.703434Z",
     "shell.execute_reply": "2022-04-20T10:13:07.703854Z"
    },
    "papermill": {
     "duration": 177.700152,
     "end_time": "2022-04-20T10:13:07.703979",
     "exception": false,
     "start_time": "2022-04-20T10:10:10.003827",
     "status": "completed"
    },
    "tags": []
   },
   "outputs": [
    {
     "name": "stdout",
     "output_type": "stream",
     "text": [
      "Epoch 0, Loss 0.2262\n",
      "Training Accuracy: 0.7424, Testing Accuracy: 0.7646\n",
      "\n"
     ]
    },
    {
     "name": "stdout",
     "output_type": "stream",
     "text": [
      "Epoch 10, Loss 0.0597\n",
      "Training Accuracy: 0.9349, Testing Accuracy: 0.9486\n",
      "\n"
     ]
    },
    {
     "name": "stdout",
     "output_type": "stream",
     "text": [
      "Epoch 20, Loss 0.042\n",
      "Training Accuracy: 0.9525, Testing Accuracy: 0.9607\n",
      "\n"
     ]
    },
    {
     "name": "stdout",
     "output_type": "stream",
     "text": [
      "Epoch 30, Loss 0.0348\n",
      "Training Accuracy: 0.9597, Testing Accuracy: 0.9672\n",
      "\n"
     ]
    },
    {
     "name": "stdout",
     "output_type": "stream",
     "text": [
      "Epoch 40, Loss 0.0307\n",
      "Training Accuracy: 0.9643, Testing Accuracy: 0.9677\n",
      "\n"
     ]
    },
    {
     "name": "stdout",
     "output_type": "stream",
     "text": [
      "Epoch 50, Loss 0.0279\n",
      "Training Accuracy: 0.9690, Testing Accuracy: 0.9708\n",
      "\n"
     ]
    },
    {
     "name": "stdout",
     "output_type": "stream",
     "text": [
      "Epoch 60, Loss 0.0258\n",
      "Training Accuracy: 0.9710, Testing Accuracy: 0.9708\n",
      "\n"
     ]
    },
    {
     "name": "stdout",
     "output_type": "stream",
     "text": [
      "Epoch 70, Loss 0.0242\n",
      "Training Accuracy: 0.9726, Testing Accuracy: 0.9708\n",
      "\n"
     ]
    },
    {
     "name": "stdout",
     "output_type": "stream",
     "text": [
      "Epoch 80, Loss 0.0229\n",
      "Training Accuracy: 0.9745, Testing Accuracy: 0.9718\n",
      "\n"
     ]
    },
    {
     "name": "stdout",
     "output_type": "stream",
     "text": [
      "Epoch 90, Loss 0.0218\n",
      "Training Accuracy: 0.9759, Testing Accuracy: 0.9728\n",
      "\n"
     ]
    },
    {
     "name": "stdout",
     "output_type": "stream",
     "text": [
      "Epoch 100, Loss 0.0208\n",
      "Training Accuracy: 0.9769, Testing Accuracy: 0.9743\n",
      "\n"
     ]
    },
    {
     "name": "stdout",
     "output_type": "stream",
     "text": [
      "Epoch 110, Loss 0.0199\n",
      "Training Accuracy: 0.9781, Testing Accuracy: 0.9748\n",
      "\n"
     ]
    },
    {
     "name": "stdout",
     "output_type": "stream",
     "text": [
      "Epoch 120, Loss 0.0192\n",
      "Training Accuracy: 0.9791, Testing Accuracy: 0.9748\n",
      "\n"
     ]
    },
    {
     "name": "stdout",
     "output_type": "stream",
     "text": [
      "Epoch 130, Loss 0.0185\n",
      "Training Accuracy: 0.9800, Testing Accuracy: 0.9758\n",
      "\n"
     ]
    },
    {
     "name": "stdout",
     "output_type": "stream",
     "text": [
      "Epoch 140, Loss 0.0178\n",
      "Training Accuracy: 0.9806, Testing Accuracy: 0.9768\n",
      "\n"
     ]
    },
    {
     "name": "stdout",
     "output_type": "stream",
     "text": [
      "Epoch 150, Loss 0.0173\n",
      "Training Accuracy: 0.9811, Testing Accuracy: 0.9768\n",
      "\n"
     ]
    },
    {
     "name": "stdout",
     "output_type": "stream",
     "text": [
      "Epoch 160, Loss 0.0167\n",
      "Training Accuracy: 0.9819, Testing Accuracy: 0.9768\n",
      "\n"
     ]
    },
    {
     "name": "stdout",
     "output_type": "stream",
     "text": [
      "Epoch 170, Loss 0.0162\n",
      "Training Accuracy: 0.9829, Testing Accuracy: 0.9768\n",
      "\n"
     ]
    },
    {
     "name": "stdout",
     "output_type": "stream",
     "text": [
      "Epoch 180, Loss 0.0157\n",
      "Training Accuracy: 0.9831, Testing Accuracy: 0.9773\n",
      "\n"
     ]
    },
    {
     "name": "stdout",
     "output_type": "stream",
     "text": [
      "Epoch 190, Loss 0.0152\n",
      "Training Accuracy: 0.9835, Testing Accuracy: 0.9783\n",
      "\n"
     ]
    },
    {
     "name": "stdout",
     "output_type": "stream",
     "text": [
      "Epoch 200, Loss 0.0148\n",
      "Training Accuracy: 0.9838, Testing Accuracy: 0.9788\n",
      "\n"
     ]
    },
    {
     "name": "stdout",
     "output_type": "stream",
     "text": [
      "Epoch 210, Loss 0.0144\n",
      "Training Accuracy: 0.9841, Testing Accuracy: 0.9788\n",
      "\n"
     ]
    },
    {
     "name": "stdout",
     "output_type": "stream",
     "text": [
      "Epoch 220, Loss 0.014\n",
      "Training Accuracy: 0.9845, Testing Accuracy: 0.9793\n",
      "\n"
     ]
    },
    {
     "name": "stdout",
     "output_type": "stream",
     "text": [
      "Epoch 230, Loss 0.0136\n",
      "Training Accuracy: 0.9851, Testing Accuracy: 0.9793\n",
      "\n"
     ]
    },
    {
     "name": "stdout",
     "output_type": "stream",
     "text": [
      "Epoch 240, Loss 0.0133\n",
      "Training Accuracy: 0.9856, Testing Accuracy: 0.9798\n",
      "\n"
     ]
    },
    {
     "data": {
      "text/plain": [
       "0.010626958875915284"
      ]
     },
     "execution_count": 22,
     "metadata": {},
     "output_type": "execute_result"
    }
   ],
   "source": [
    "nn_learner.train_loop(dl)"
   ]
  },
  {
   "cell_type": "code",
   "execution_count": 23,
   "id": "e0163366",
   "metadata": {
    "execution": {
     "iopub.execute_input": "2022-04-20T10:13:07.780088Z",
     "iopub.status.busy": "2022-04-20T10:13:07.779526Z",
     "iopub.status.idle": "2022-04-20T10:13:20.469600Z",
     "shell.execute_reply": "2022-04-20T10:13:20.470000Z"
    },
    "papermill": {
     "duration": 12.730254,
     "end_time": "2022-04-20T10:13:20.470127",
     "exception": false,
     "start_time": "2022-04-20T10:13:07.739873",
     "status": "completed"
    },
    "tags": []
   },
   "outputs": [
    {
     "name": "stdout",
     "output_type": "stream",
     "text": [
      "Epoch 0, Loss 0.2722\n",
      "Training Accuracy: 0.5705, Testing Accuracy: 0.5590\n",
      "\n"
     ]
    },
    {
     "name": "stdout",
     "output_type": "stream",
     "text": [
      "Epoch 10, Loss 0.1097\n",
      "Training Accuracy: 0.8983, Testing Accuracy: 0.9098\n",
      "\n"
     ]
    },
    {
     "name": "stdout",
     "output_type": "stream",
     "text": [
      "Epoch 20, Loss 0.0828\n",
      "Training Accuracy: 0.9224, Testing Accuracy: 0.9360\n",
      "\n"
     ]
    },
    {
     "name": "stdout",
     "output_type": "stream",
     "text": [
      "Epoch 30, Loss 0.0707\n",
      "Training Accuracy: 0.9328, Testing Accuracy: 0.9441\n",
      "\n"
     ]
    },
    {
     "name": "stdout",
     "output_type": "stream",
     "text": [
      "Epoch 40, Loss 0.0635\n",
      "Training Accuracy: 0.9390, Testing Accuracy: 0.9486\n",
      "\n"
     ]
    },
    {
     "name": "stdout",
     "output_type": "stream",
     "text": [
      "Epoch 50, Loss 0.0587\n",
      "Training Accuracy: 0.9423, Testing Accuracy: 0.9531\n",
      "\n"
     ]
    },
    {
     "name": "stdout",
     "output_type": "stream",
     "text": [
      "Epoch 60, Loss 0.0551\n",
      "Training Accuracy: 0.9457, Testing Accuracy: 0.9577\n",
      "\n"
     ]
    },
    {
     "name": "stdout",
     "output_type": "stream",
     "text": [
      "Epoch 70, Loss 0.0524\n",
      "Training Accuracy: 0.9479, Testing Accuracy: 0.9597\n",
      "\n"
     ]
    },
    {
     "name": "stdout",
     "output_type": "stream",
     "text": [
      "Epoch 80, Loss 0.0502\n",
      "Training Accuracy: 0.9496, Testing Accuracy: 0.9607\n",
      "\n"
     ]
    },
    {
     "name": "stdout",
     "output_type": "stream",
     "text": [
      "Epoch 90, Loss 0.0485\n",
      "Training Accuracy: 0.9511, Testing Accuracy: 0.9612\n",
      "\n"
     ]
    },
    {
     "name": "stdout",
     "output_type": "stream",
     "text": [
      "Epoch 100, Loss 0.047\n",
      "Training Accuracy: 0.9519, Testing Accuracy: 0.9622\n",
      "\n"
     ]
    },
    {
     "name": "stdout",
     "output_type": "stream",
     "text": [
      "Epoch 110, Loss 0.0457\n",
      "Training Accuracy: 0.9529, Testing Accuracy: 0.9637\n",
      "\n"
     ]
    },
    {
     "name": "stdout",
     "output_type": "stream",
     "text": [
      "Epoch 120, Loss 0.0446\n",
      "Training Accuracy: 0.9541, Testing Accuracy: 0.9632\n",
      "\n"
     ]
    },
    {
     "name": "stdout",
     "output_type": "stream",
     "text": [
      "Epoch 130, Loss 0.0436\n",
      "Training Accuracy: 0.9548, Testing Accuracy: 0.9642\n",
      "\n"
     ]
    },
    {
     "name": "stdout",
     "output_type": "stream",
     "text": [
      "Epoch 140, Loss 0.0427\n",
      "Training Accuracy: 0.9553, Testing Accuracy: 0.9642\n",
      "\n"
     ]
    },
    {
     "name": "stdout",
     "output_type": "stream",
     "text": [
      "Epoch 150, Loss 0.0419\n",
      "Training Accuracy: 0.9559, Testing Accuracy: 0.9647\n",
      "\n"
     ]
    },
    {
     "name": "stdout",
     "output_type": "stream",
     "text": [
      "Epoch 160, Loss 0.0412\n",
      "Training Accuracy: 0.9563, Testing Accuracy: 0.9652\n",
      "\n"
     ]
    },
    {
     "name": "stdout",
     "output_type": "stream",
     "text": [
      "Epoch 170, Loss 0.0406\n",
      "Training Accuracy: 0.9569, Testing Accuracy: 0.9662\n",
      "\n"
     ]
    },
    {
     "name": "stdout",
     "output_type": "stream",
     "text": [
      "Epoch 180, Loss 0.04\n",
      "Training Accuracy: 0.9576, Testing Accuracy: 0.9662\n",
      "\n"
     ]
    },
    {
     "name": "stdout",
     "output_type": "stream",
     "text": [
      "Epoch 190, Loss 0.0395\n",
      "Training Accuracy: 0.9584, Testing Accuracy: 0.9672\n",
      "\n"
     ]
    },
    {
     "name": "stdout",
     "output_type": "stream",
     "text": [
      "Epoch 200, Loss 0.039\n",
      "Training Accuracy: 0.9587, Testing Accuracy: 0.9662\n",
      "\n"
     ]
    },
    {
     "name": "stdout",
     "output_type": "stream",
     "text": [
      "Epoch 210, Loss 0.0385\n",
      "Training Accuracy: 0.9589, Testing Accuracy: 0.9667\n",
      "\n"
     ]
    },
    {
     "name": "stdout",
     "output_type": "stream",
     "text": [
      "Epoch 220, Loss 0.0381\n",
      "Training Accuracy: 0.9594, Testing Accuracy: 0.9667\n",
      "\n"
     ]
    },
    {
     "name": "stdout",
     "output_type": "stream",
     "text": [
      "Epoch 230, Loss 0.0377\n",
      "Training Accuracy: 0.9594, Testing Accuracy: 0.9667\n",
      "\n"
     ]
    },
    {
     "name": "stdout",
     "output_type": "stream",
     "text": [
      "Epoch 240, Loss 0.0373\n",
      "Training Accuracy: 0.9597, Testing Accuracy: 0.9667\n",
      "\n"
     ]
    },
    {
     "data": {
      "text/plain": [
       "0.03216481325298049"
      ]
     },
     "execution_count": 23,
     "metadata": {},
     "output_type": "execute_result"
    }
   ],
   "source": [
    "lr_learner.train_loop(dl)"
   ]
  },
  {
   "cell_type": "code",
   "execution_count": 24,
   "id": "ca410940",
   "metadata": {
    "execution": {
     "iopub.execute_input": "2022-04-20T10:13:20.562388Z",
     "iopub.status.busy": "2022-04-20T10:13:20.561157Z",
     "iopub.status.idle": "2022-04-20T10:13:20.786550Z",
     "shell.execute_reply": "2022-04-20T10:13:20.786949Z"
    },
    "papermill": {
     "duration": 0.273687,
     "end_time": "2022-04-20T10:13:20.787081",
     "exception": false,
     "start_time": "2022-04-20T10:13:20.513394",
     "status": "completed"
    },
    "tags": []
   },
   "outputs": [
    {
     "data": {
      "text/plain": [
       "<matplotlib.legend.Legend at 0x7fc6723d9a90>"
      ]
     },
     "execution_count": 24,
     "metadata": {},
     "output_type": "execute_result"
    },
    {
     "data": {
      "image/png": "[encoded data removed]",
      "text/plain": [
       "<Figure size 1080x720 with 1 Axes>"
      ]
     },
     "metadata": {
      "needs_background": "light"
     },
     "output_type": "display_data"
    }
   ],
   "source": [
    "#comparing the results of NN and LR\n",
    "plt.figure(figsize=(15,10))\n",
    "\n",
    "# Neural Network plots\n",
    "plt.plot(acc_nn.accuracies, 'r-', label = \"Training Accuracies - NN\")\n",
    "plt.plot(acc_nn.test_accuracies, 'g-', label = \"Testing Accuracies - NN\")\n",
    "\n",
    "# Logistic Regression plots\n",
    "plt.plot(acc_lr.accuracies, 'k-', label = \"Training Accuracies - LR\")\n",
    "plt.plot(acc_lr.test_accuracies, 'b-', label = \"Testing Accuracies - LR\")\n",
    "plt.legend()"
   ]
  },
  {
   "cell_type": "markdown",
   "id": "80dfb35c",
   "metadata": {
    "papermill": {
     "duration": 0.044201,
     "end_time": "2022-04-20T10:13:20.875339",
     "exception": false,
     "start_time": "2022-04-20T10:13:20.831138",
     "status": "completed"
    },
    "tags": []
   },
   "source": [
    "#### Plotting the outputs of this layer of the NN.\n"
   ]
  },
  {
   "cell_type": "code",
   "execution_count": 25,
   "id": "45eb2ff5",
   "metadata": {
    "execution": {
     "iopub.execute_input": "2022-04-20T10:13:20.967143Z",
     "iopub.status.busy": "2022-04-20T10:13:20.966603Z",
     "iopub.status.idle": "2022-04-20T10:13:21.002441Z",
     "shell.execute_reply": "2022-04-20T10:13:21.003091Z"
    },
    "papermill": {
     "duration": 0.083817,
     "end_time": "2022-04-20T10:13:21.003222",
     "exception": false,
     "start_time": "2022-04-20T10:13:20.919405",
     "status": "completed"
    },
    "tags": []
   },
   "outputs": [],
   "source": [
    "new_model = Model(layers[:-2])\n",
    "testing_plot = new_model(testing_data_x)"
   ]
  },
  {
   "cell_type": "code",
   "execution_count": 26,
   "id": "4c0a5485",
   "metadata": {
    "execution": {
     "iopub.execute_input": "2022-04-20T10:13:21.100390Z",
     "iopub.status.busy": "2022-04-20T10:13:21.099879Z",
     "iopub.status.idle": "2022-04-20T10:13:21.287944Z",
     "shell.execute_reply": "2022-04-20T10:13:21.288358Z"
    },
    "papermill": {
     "duration": 0.239298,
     "end_time": "2022-04-20T10:13:21.288484",
     "exception": false,
     "start_time": "2022-04-20T10:13:21.049186",
     "status": "completed"
    },
    "tags": []
   },
   "outputs": [
    {
     "data": {
      "text/plain": [
       "Text(0.5, 1.0, 'Outputs')"
      ]
     },
     "execution_count": 26,
     "metadata": {},
     "output_type": "execute_result"
    },
    {
     "data": {
      "image/png": "[encoded data removed]",
      "text/plain": [
       "<Figure size 576x504 with 1 Axes>"
      ]
     },
     "metadata": {
      "needs_background": "light"
     },
     "output_type": "display_data"
    }
   ],
   "source": [
    "# Plotting the scatter plot of points and color coding by class\n",
    "plt.figure(figsize=(8,7))\n",
    "plt.scatter(testing_plot[:,0], testing_plot[:,1], alpha = 0.1, c = y_test.ravel());\n",
    "plt.title('Outputs')"
   ]
  },
  {
   "cell_type": "markdown",
   "id": "a74fcf8f",
   "metadata": {
    "papermill": {
     "duration": 0.070262,
     "end_time": "2022-04-20T10:13:21.407051",
     "exception": false,
     "start_time": "2022-04-20T10:13:21.336789",
     "status": "completed"
    },
    "tags": []
   },
   "source": [
    "Probability contours"
   ]
  },
  {
   "cell_type": "code",
   "execution_count": 27,
   "id": "d0afc8e3",
   "metadata": {
    "execution": {
     "iopub.execute_input": "2022-04-20T10:13:21.526629Z",
     "iopub.status.busy": "2022-04-20T10:13:21.526092Z",
     "iopub.status.idle": "2022-04-20T10:13:21.527607Z",
     "shell.execute_reply": "2022-04-20T10:13:21.527973Z"
    },
    "papermill": {
     "duration": 0.06617,
     "end_time": "2022-04-20T10:13:21.528096",
     "exception": false,
     "start_time": "2022-04-20T10:13:21.461926",
     "status": "completed"
    },
    "tags": []
   },
   "outputs": [],
   "source": [
    "model_prob = Model(layers[-2:]) "
   ]
  },
  {
   "cell_type": "code",
   "execution_count": 28,
   "id": "9b96e238",
   "metadata": {
    "execution": {
     "iopub.execute_input": "2022-04-20T10:13:21.627041Z",
     "iopub.status.busy": "2022-04-20T10:13:21.625566Z",
     "iopub.status.idle": "2022-04-20T10:13:21.639592Z",
     "shell.execute_reply": "2022-04-20T10:13:21.639970Z"
    },
    "papermill": {
     "duration": 0.065669,
     "end_time": "2022-04-20T10:13:21.640092",
     "exception": false,
     "start_time": "2022-04-20T10:13:21.574423",
     "status": "completed"
    },
    "tags": []
   },
   "outputs": [],
   "source": [
    "#creating the x and y ranges according to the above generated plot.\n",
    "x_range = np.linspace(-4, 1, 100) \n",
    "y_range = np.linspace(-6, 6, 100) \n",
    "x_grid, y_grid = np.meshgrid(x_range, y_range) # x_grid and y_grig are of size 100 X 100\n",
    "\n",
    "# converting x_grid and y_grid to continuous arrays\n",
    "x_gridflat = np.ravel(x_grid)\n",
    "y_gridflat = np.ravel(y_grid)\n",
    "\n",
    "# The last layer of the current model takes two columns as input. Hence transpose of np.vstack() is required.\n",
    "X = np.vstack((x_gridflat, y_gridflat)).T\n",
    "\n",
    "prob_contour = model_prob(X).reshape(100,100) "
   ]
  },
  {
   "cell_type": "code",
   "execution_count": 29,
   "id": "da72499a",
   "metadata": {
    "execution": {
     "iopub.execute_input": "2022-04-20T10:13:21.739618Z",
     "iopub.status.busy": "2022-04-20T10:13:21.739112Z",
     "iopub.status.idle": "2022-04-20T10:13:21.981382Z",
     "shell.execute_reply": "2022-04-20T10:13:21.980584Z"
    },
    "papermill": {
     "duration": 0.295356,
     "end_time": "2022-04-20T10:13:21.981503",
     "exception": false,
     "start_time": "2022-04-20T10:13:21.686147",
     "status": "completed"
    },
    "tags": []
   },
   "outputs": [
    {
     "data": {
      "image/png": "[encoded data removed]",
      "text/plain": [
       "<Figure size 720x648 with 1 Axes>"
      ]
     },
     "metadata": {
      "needs_background": "light"
     },
     "output_type": "display_data"
    }
   ],
   "source": [
    "plt.figure(figsize=(10,9))\n",
    "plt.scatter(testing_plot[:,0], testing_plot[:,1], alpha = 0.1, c = y_test.ravel())\n",
    "contours = plt.contour(x_grid,y_grid,prob_contour)\n",
    "plt.title('Probability Contours')\n",
    "plt.clabel(contours, inline = True );"
   ]
  },
  {
   "cell_type": "code",
   "execution_count": null,
   "id": "e81b4ac7",
   "metadata": {
    "papermill": {
     "duration": 0.049043,
     "end_time": "2022-04-20T10:13:22.079644",
     "exception": false,
     "start_time": "2022-04-20T10:13:22.030601",
     "status": "completed"
    },
    "tags": []
   },
   "outputs": [],
   "source": []
  }
 ],
 "metadata": {
  "kernelspec": {
   "display_name": "Python 3",
   "language": "python",
   "name": "python3"
  },
  "language_info": {
   "codemirror_mode": {
    "name": "ipython",
    "version": 3
   },
   "file_extension": ".py",
   "mimetype": "text/x-python",
   "name": "python",
   "nbconvert_exporter": "python",
   "pygments_lexer": "ipython3",
   "version": "3.6.15"
  },
  "papermill": {
   "default_parameters": {},
   "duration": 198.73452,
   "end_time": "2022-04-20T10:13:22.445287",
   "environment_variables": {},
   "exception": null,
   "input_path": "2020-08-11-part2.ipynb",
   "output_path": "2020-08-11-part2.ipynb",
   "parameters": {},
   "start_time": "2022-04-20T10:10:03.710767",
   "version": "2.3.3"
  }
 },
 "nbformat": 4,
 "nbformat_minor": 5
}