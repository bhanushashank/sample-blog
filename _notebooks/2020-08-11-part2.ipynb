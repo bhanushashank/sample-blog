{
 "cells": [
  {
   "cell_type": "markdown",
   "id": "98380cd3",
   "metadata": {
    "papermill": {
     "duration": 0.027755,
     "end_time": "2022-04-06T20:33:12.037162",
     "exception": false,
     "start_time": "2022-04-06T20:33:12.009407",
     "status": "completed"
    },
    "tags": []
   },
   "source": [
    "# Distinguish Your Own Digits (DYOD)"
   ]
  },
  {
   "cell_type": "markdown",
   "id": "ef31240d",
   "metadata": {
    "papermill": {
     "duration": 0.02513,
     "end_time": "2022-04-06T20:33:12.086781",
     "exception": false,
     "start_time": "2022-04-06T20:33:12.061651",
     "status": "completed"
    },
    "tags": []
   },
   "source": [
    "You are going to write a classifier that distinguishes between the number 3 and number 8."
   ]
  },
  {
   "cell_type": "code",
   "execution_count": 1,
   "id": "b15c8646",
   "metadata": {
    "execution": {
     "iopub.execute_input": "2022-04-06T20:33:12.145531Z",
     "iopub.status.busy": "2022-04-06T20:33:12.144986Z",
     "iopub.status.idle": "2022-04-06T20:33:12.154697Z",
     "shell.execute_reply": "2022-04-06T20:33:12.155142Z"
    },
    "papermill": {
     "duration": 0.044805,
     "end_time": "2022-04-06T20:33:12.155299",
     "exception": false,
     "start_time": "2022-04-06T20:33:12.110494",
     "status": "completed"
    },
    "tags": []
   },
   "outputs": [],
   "source": [
    "%load_ext autoreload\n",
    "%autoreload 2"
   ]
  },
  {
   "cell_type": "code",
   "execution_count": 2,
   "id": "22ef38dc",
   "metadata": {
    "execution": {
     "iopub.execute_input": "2022-04-06T20:33:12.212562Z",
     "iopub.status.busy": "2022-04-06T20:33:12.212018Z",
     "iopub.status.idle": "2022-04-06T20:33:12.802017Z",
     "shell.execute_reply": "2022-04-06T20:33:12.802551Z"
    },
    "papermill": {
     "duration": 0.623353,
     "end_time": "2022-04-06T20:33:12.802722",
     "exception": false,
     "start_time": "2022-04-06T20:33:12.179369",
     "status": "completed"
    },
    "tags": []
   },
   "outputs": [],
   "source": [
    "%matplotlib inline\n",
    "import numpy as np\n",
    "import matplotlib.pyplot as plt\n",
    "import pandas as pd"
   ]
  },
  {
   "cell_type": "markdown",
   "id": "ba036198",
   "metadata": {
    "papermill": {
     "duration": 0.023863,
     "end_time": "2022-04-06T20:33:12.850784",
     "exception": false,
     "start_time": "2022-04-06T20:33:12.826921",
     "status": "completed"
    },
    "tags": []
   },
   "source": [
    "From the command line run `pip install mnist`. This is a library that will help you bring down the mnist dataset. If you run this from a notebook, you need to put  `!pip install mnist` in a cell by itself."
   ]
  },
  {
   "cell_type": "code",
   "execution_count": 3,
   "id": "bb6ad8a1",
   "metadata": {
    "execution": {
     "iopub.execute_input": "2022-04-06T20:33:12.911617Z",
     "iopub.status.busy": "2022-04-06T20:33:12.911085Z",
     "iopub.status.idle": "2022-04-06T20:33:14.618664Z",
     "shell.execute_reply": "2022-04-06T20:33:14.617601Z"
    },
    "papermill": {
     "duration": 1.744088,
     "end_time": "2022-04-06T20:33:14.618819",
     "exception": false,
     "start_time": "2022-04-06T20:33:12.874731",
     "status": "completed"
    },
    "tags": []
   },
   "outputs": [
    {
     "name": "stdout",
     "output_type": "stream",
     "text": [
      "Collecting mnist\r\n"
     ]
    },
    {
     "name": "stdout",
     "output_type": "stream",
     "text": [
      "  Downloading mnist-0.2.2-py2.py3-none-any.whl (3.5 kB)\r\n",
      "Requirement already satisfied: numpy in /opt/hostedtoolcache/Python/3.6.15/x64/lib/python3.6/site-packages (from mnist) (1.19.5)\r\n"
     ]
    },
    {
     "name": "stdout",
     "output_type": "stream",
     "text": [
      "Installing collected packages: mnist\r\n"
     ]
    },
    {
     "name": "stdout",
     "output_type": "stream",
     "text": [
      "Successfully installed mnist-0.2.2\r\n"
     ]
    }
   ],
   "source": [
    "!pip install mnist"
   ]
  },
  {
   "cell_type": "markdown",
   "id": "69df9c9a",
   "metadata": {
    "papermill": {
     "duration": 0.02506,
     "end_time": "2022-04-06T20:33:14.669101",
     "exception": false,
     "start_time": "2022-04-06T20:33:14.644041",
     "status": "completed"
    },
    "tags": []
   },
   "source": [
    "## Preparing the Data"
   ]
  },
  {
   "cell_type": "code",
   "execution_count": 4,
   "id": "7f69d806",
   "metadata": {
    "execution": {
     "iopub.execute_input": "2022-04-06T20:33:14.724926Z",
     "iopub.status.busy": "2022-04-06T20:33:14.724409Z",
     "iopub.status.idle": "2022-04-06T20:33:14.737654Z",
     "shell.execute_reply": "2022-04-06T20:33:14.737238Z"
    },
    "papermill": {
     "duration": 0.043769,
     "end_time": "2022-04-06T20:33:14.737769",
     "exception": false,
     "start_time": "2022-04-06T20:33:14.694000",
     "status": "completed"
    },
    "tags": []
   },
   "outputs": [],
   "source": [
    "import mnist"
   ]
  },
  {
   "cell_type": "code",
   "execution_count": 5,
   "id": "a411e44f",
   "metadata": {
    "execution": {
     "iopub.execute_input": "2022-04-06T20:33:14.805326Z",
     "iopub.status.busy": "2022-04-06T20:33:14.803648Z",
     "iopub.status.idle": "2022-04-06T20:33:15.362974Z",
     "shell.execute_reply": "2022-04-06T20:33:15.363448Z"
    },
    "papermill": {
     "duration": 0.600734,
     "end_time": "2022-04-06T20:33:15.363608",
     "exception": false,
     "start_time": "2022-04-06T20:33:14.762874",
     "status": "completed"
    },
    "tags": []
   },
   "outputs": [],
   "source": [
    "train_images = mnist.train_images()\n",
    "train_labels = mnist.train_labels()"
   ]
  },
  {
   "cell_type": "code",
   "execution_count": 6,
   "id": "dceab3a5",
   "metadata": {
    "execution": {
     "iopub.execute_input": "2022-04-06T20:33:15.429775Z",
     "iopub.status.busy": "2022-04-06T20:33:15.423023Z",
     "iopub.status.idle": "2022-04-06T20:33:15.438290Z",
     "shell.execute_reply": "2022-04-06T20:33:15.438712Z"
    },
    "papermill": {
     "duration": 0.049978,
     "end_time": "2022-04-06T20:33:15.438847",
     "exception": false,
     "start_time": "2022-04-06T20:33:15.388869",
     "status": "completed"
    },
    "tags": []
   },
   "outputs": [
    {
     "data": {
      "text/plain": [
       "((60000, 28, 28), (60000,))"
      ]
     },
     "execution_count": 6,
     "metadata": {},
     "output_type": "execute_result"
    }
   ],
   "source": [
    "train_images.shape, train_labels.shape"
   ]
  },
  {
   "cell_type": "code",
   "execution_count": 7,
   "id": "f50dc2bb",
   "metadata": {
    "execution": {
     "iopub.execute_input": "2022-04-06T20:33:15.493539Z",
     "iopub.status.busy": "2022-04-06T20:33:15.493015Z",
     "iopub.status.idle": "2022-04-06T20:33:15.612110Z",
     "shell.execute_reply": "2022-04-06T20:33:15.612594Z"
    },
    "papermill": {
     "duration": 0.148641,
     "end_time": "2022-04-06T20:33:15.612757",
     "exception": false,
     "start_time": "2022-04-06T20:33:15.464116",
     "status": "completed"
    },
    "tags": []
   },
   "outputs": [],
   "source": [
    "test_images = mnist.test_images()\n",
    "test_labels = mnist.test_labels()"
   ]
  },
  {
   "cell_type": "code",
   "execution_count": 8,
   "id": "fc38cf1b",
   "metadata": {
    "execution": {
     "iopub.execute_input": "2022-04-06T20:33:15.675389Z",
     "iopub.status.busy": "2022-04-06T20:33:15.674837Z",
     "iopub.status.idle": "2022-04-06T20:33:15.683942Z",
     "shell.execute_reply": "2022-04-06T20:33:15.683526Z"
    },
    "papermill": {
     "duration": 0.044827,
     "end_time": "2022-04-06T20:33:15.684057",
     "exception": false,
     "start_time": "2022-04-06T20:33:15.639230",
     "status": "completed"
    },
    "tags": []
   },
   "outputs": [
    {
     "data": {
      "text/plain": [
       "((10000, 28, 28), (10000,))"
      ]
     },
     "execution_count": 8,
     "metadata": {},
     "output_type": "execute_result"
    }
   ],
   "source": [
    "test_images.shape, test_labels.shape"
   ]
  },
  {
   "cell_type": "code",
   "execution_count": 9,
   "id": "f9ed8fe0",
   "metadata": {
    "execution": {
     "iopub.execute_input": "2022-04-06T20:33:15.767600Z",
     "iopub.status.busy": "2022-04-06T20:33:15.753987Z",
     "iopub.status.idle": "2022-04-06T20:33:15.884799Z",
     "shell.execute_reply": "2022-04-06T20:33:15.885201Z"
    },
    "papermill": {
     "duration": 0.175518,
     "end_time": "2022-04-06T20:33:15.885347",
     "exception": false,
     "start_time": "2022-04-06T20:33:15.709829",
     "status": "completed"
    },
    "tags": []
   },
   "outputs": [
    {
     "name": "stdout",
     "output_type": "stream",
     "text": [
      "2\n"
     ]
    },
    {
     "data": {
      "text/plain": [
       "<matplotlib.image.AxesImage at 0x7f099a423550>"
      ]
     },
     "execution_count": 9,
     "metadata": {},
     "output_type": "execute_result"
    },
    {
     "data": {
      "image/png": "[encoded data removed]",
      "text/plain": [
       "<Figure size 432x288 with 1 Axes>"
      ]
     },
     "metadata": {
      "needs_background": "light"
     },
     "output_type": "display_data"
    }
   ],
   "source": [
    "image_index = 7776 # You may select anything up to 60,000\n",
    "print(train_labels[image_index]) \n",
    "plt.imshow(train_images[image_index], cmap='Greys')"
   ]
  },
  {
   "cell_type": "markdown",
   "id": "a8d2388d",
   "metadata": {
    "papermill": {
     "duration": 0.026761,
     "end_time": "2022-04-06T20:33:15.939185",
     "exception": false,
     "start_time": "2022-04-06T20:33:15.912424",
     "status": "completed"
    },
    "tags": []
   },
   "source": [
    "## Filter data to get 3 and 8 out"
   ]
  },
  {
   "cell_type": "code",
   "execution_count": 10,
   "id": "776f7fc7",
   "metadata": {
    "execution": {
     "iopub.execute_input": "2022-04-06T20:33:15.997599Z",
     "iopub.status.busy": "2022-04-06T20:33:15.996784Z",
     "iopub.status.idle": "2022-04-06T20:33:16.015897Z",
     "shell.execute_reply": "2022-04-06T20:33:16.015465Z"
    },
    "papermill": {
     "duration": 0.049705,
     "end_time": "2022-04-06T20:33:16.016018",
     "exception": false,
     "start_time": "2022-04-06T20:33:15.966313",
     "status": "completed"
    },
    "tags": []
   },
   "outputs": [],
   "source": [
    "train_filter = np.where((train_labels == 3 ) | (train_labels == 8))\n",
    "test_filter = np.where((test_labels == 3) | (test_labels == 8))\n",
    "X_train, y_train = train_images[train_filter], train_labels[train_filter]\n",
    "X_test, y_test = test_images[test_filter], test_labels[test_filter]"
   ]
  },
  {
   "cell_type": "markdown",
   "id": "948f0b7e",
   "metadata": {
    "papermill": {
     "duration": 0.026636,
     "end_time": "2022-04-06T20:33:16.069587",
     "exception": false,
     "start_time": "2022-04-06T20:33:16.042951",
     "status": "completed"
    },
    "tags": []
   },
   "source": [
    "We normalize the pizel values in the 0 to 1 range"
   ]
  },
  {
   "cell_type": "code",
   "execution_count": 11,
   "id": "ee4c2166",
   "metadata": {
    "execution": {
     "iopub.execute_input": "2022-04-06T20:33:16.131549Z",
     "iopub.status.busy": "2022-04-06T20:33:16.131027Z",
     "iopub.status.idle": "2022-04-06T20:33:16.175035Z",
     "shell.execute_reply": "2022-04-06T20:33:16.174516Z"
    },
    "papermill": {
     "duration": 0.078967,
     "end_time": "2022-04-06T20:33:16.175176",
     "exception": false,
     "start_time": "2022-04-06T20:33:16.096209",
     "status": "completed"
    },
    "tags": []
   },
   "outputs": [],
   "source": [
    "X_train = X_train/255.\n",
    "X_test = X_test/255."
   ]
  },
  {
   "cell_type": "markdown",
   "id": "ddcf4fab",
   "metadata": {
    "papermill": {
     "duration": 0.026924,
     "end_time": "2022-04-06T20:33:16.229736",
     "exception": false,
     "start_time": "2022-04-06T20:33:16.202812",
     "status": "completed"
    },
    "tags": []
   },
   "source": [
    "And setup the labels as 1 (when the digit is 3) and 0 (when the digit is 8)"
   ]
  },
  {
   "cell_type": "code",
   "execution_count": 12,
   "id": "7dc908f2",
   "metadata": {
    "execution": {
     "iopub.execute_input": "2022-04-06T20:33:16.300721Z",
     "iopub.status.busy": "2022-04-06T20:33:16.299126Z",
     "iopub.status.idle": "2022-04-06T20:33:16.303112Z",
     "shell.execute_reply": "2022-04-06T20:33:16.302673Z"
    },
    "papermill": {
     "duration": 0.047013,
     "end_time": "2022-04-06T20:33:16.303224",
     "exception": false,
     "start_time": "2022-04-06T20:33:16.256211",
     "status": "completed"
    },
    "tags": []
   },
   "outputs": [],
   "source": [
    "y_train = 1*(y_train==3)\n",
    "y_test = 1*(y_test==3)"
   ]
  },
  {
   "cell_type": "code",
   "execution_count": 13,
   "id": "01e4e969",
   "metadata": {
    "execution": {
     "iopub.execute_input": "2022-04-06T20:33:16.371815Z",
     "iopub.status.busy": "2022-04-06T20:33:16.359630Z",
     "iopub.status.idle": "2022-04-06T20:33:16.376088Z",
     "shell.execute_reply": "2022-04-06T20:33:16.376472Z"
    },
    "papermill": {
     "duration": 0.04672,
     "end_time": "2022-04-06T20:33:16.376607",
     "exception": false,
     "start_time": "2022-04-06T20:33:16.329887",
     "status": "completed"
    },
    "tags": []
   },
   "outputs": [
    {
     "data": {
      "text/plain": [
       "((11982, 28, 28), (1984, 28, 28))"
      ]
     },
     "execution_count": 13,
     "metadata": {},
     "output_type": "execute_result"
    }
   ],
   "source": [
    "X_train.shape, X_test.shape"
   ]
  },
  {
   "cell_type": "markdown",
   "id": "5ccf3f85",
   "metadata": {
    "papermill": {
     "duration": 0.02681,
     "end_time": "2022-04-06T20:33:16.430131",
     "exception": false,
     "start_time": "2022-04-06T20:33:16.403321",
     "status": "completed"
    },
    "tags": []
   },
   "source": [
    "We reshape the data to flatten the image pixels into a set of features or co-variates:"
   ]
  },
  {
   "cell_type": "code",
   "execution_count": 14,
   "id": "5286a4a3",
   "metadata": {
    "execution": {
     "iopub.execute_input": "2022-04-06T20:33:16.487585Z",
     "iopub.status.busy": "2022-04-06T20:33:16.487056Z",
     "iopub.status.idle": "2022-04-06T20:33:16.500670Z",
     "shell.execute_reply": "2022-04-06T20:33:16.500233Z"
    },
    "papermill": {
     "duration": 0.043858,
     "end_time": "2022-04-06T20:33:16.500781",
     "exception": false,
     "start_time": "2022-04-06T20:33:16.456923",
     "status": "completed"
    },
    "tags": []
   },
   "outputs": [
    {
     "data": {
      "text/plain": [
       "((11982, 784), (1984, 784))"
      ]
     },
     "execution_count": 14,
     "metadata": {},
     "output_type": "execute_result"
    }
   ],
   "source": [
    "X_train = X_train.reshape(X_train.shape[0], -1)\n",
    "X_test = X_test.reshape(X_test.shape[0], -1)\n",
    "X_train.shape, X_test.shape"
   ]
  },
  {
   "cell_type": "code",
   "execution_count": 15,
   "id": "73c5f88a",
   "metadata": {
    "execution": {
     "iopub.execute_input": "2022-04-06T20:33:16.561487Z",
     "iopub.status.busy": "2022-04-06T20:33:16.559406Z",
     "iopub.status.idle": "2022-04-06T20:33:16.578962Z",
     "shell.execute_reply": "2022-04-06T20:33:16.579375Z"
    },
    "papermill": {
     "duration": 0.051512,
     "end_time": "2022-04-06T20:33:16.579516",
     "exception": false,
     "start_time": "2022-04-06T20:33:16.528004",
     "status": "completed"
    },
    "tags": []
   },
   "outputs": [],
   "source": [
    "#Impoting functions from 'Kudzu'\n",
    "from kudzu.model import Model\n",
    "from kudzu.train import Learner\n",
    "from kudzu.optim import GD\n",
    "from kudzu.data import Data, Sampler,Dataloader\n",
    "\n",
    "from kudzu.callbacks import AccCallback\n",
    "from kudzu.callbacks import ClfCallback\n",
    "\n",
    "from kudzu.loss import MSE\n",
    "\n",
    "from kudzu.layer import Sigmoid,Relu\n",
    "from kudzu.layer import Affine"
   ]
  },
  {
   "cell_type": "markdown",
   "id": "bc01172a",
   "metadata": {
    "papermill": {
     "duration": 0.027008,
     "end_time": "2022-04-06T20:33:16.633793",
     "exception": false,
     "start_time": "2022-04-06T20:33:16.606785",
     "status": "completed"
    },
    "tags": []
   },
   "source": [
    "### Let us create a `Config` class, to store important parameters. \n",
    "This class essentially plays the role of a dictionary."
   ]
  },
  {
   "cell_type": "code",
   "execution_count": 16,
   "id": "978281aa",
   "metadata": {
    "execution": {
     "iopub.execute_input": "2022-04-06T20:33:16.702962Z",
     "iopub.status.busy": "2022-04-06T20:33:16.701790Z",
     "iopub.status.idle": "2022-04-06T20:33:16.708382Z",
     "shell.execute_reply": "2022-04-06T20:33:16.708777Z"
    },
    "papermill": {
     "duration": 0.048111,
     "end_time": "2022-04-06T20:33:16.708917",
     "exception": false,
     "start_time": "2022-04-06T20:33:16.660806",
     "status": "completed"
    },
    "tags": []
   },
   "outputs": [],
   "source": [
    "class Config:\n",
    "    pass\n",
    "config = Config()\n",
    "config.lr = 0.001\n",
    "config.num_epochs = 250\n",
    "config.bs = 50"
   ]
  },
  {
   "cell_type": "markdown",
   "id": "1385fa59",
   "metadata": {
    "papermill": {
     "duration": 0.027232,
     "end_time": "2022-04-06T20:33:16.763555",
     "exception": false,
     "start_time": "2022-04-06T20:33:16.736323",
     "status": "completed"
    },
    "tags": []
   },
   "source": [
    "### Running Models with the Training data\n",
    "Details about the network layers:\n",
    "- A first affine layer has 784 inputs and does 100 affine transforms. These are followed by a Relu\n",
    "- A second affine layer has 100 inputs from the 100 activations of the past layer, and does 100 affine transforms. These are followed by a Relu\n",
    "- A third affine layer has 100 activations and does 2 affine transformations to create an embedding for visualization. There is no non-linearity here.\n",
    "- A final \"logistic regression\" which has an affine transform from 2 inputs to 1 output, which is squeezed through a sigmoid.\n"
   ]
  },
  {
   "cell_type": "code",
   "execution_count": 17,
   "id": "2b9c66db",
   "metadata": {
    "execution": {
     "iopub.execute_input": "2022-04-06T20:33:16.822930Z",
     "iopub.status.busy": "2022-04-06T20:33:16.821469Z",
     "iopub.status.idle": "2022-04-06T20:33:16.833674Z",
     "shell.execute_reply": "2022-04-06T20:33:16.834057Z"
    },
    "papermill": {
     "duration": 0.043453,
     "end_time": "2022-04-06T20:33:16.834211",
     "exception": false,
     "start_time": "2022-04-06T20:33:16.790758",
     "status": "completed"
    },
    "tags": []
   },
   "outputs": [],
   "source": [
    "data = Data(X_train, y_train.reshape(-1,1))\n",
    "sampler = Sampler(data, config.bs, shuffle=True)\n",
    "\n",
    "dl = Dataloader(data, sampler)\n",
    "\n",
    "opt = GD(config.lr)\n",
    "loss = MSE()"
   ]
  },
  {
   "cell_type": "code",
   "execution_count": 18,
   "id": "b275e4c2",
   "metadata": {
    "execution": {
     "iopub.execute_input": "2022-04-06T20:33:16.901354Z",
     "iopub.status.busy": "2022-04-06T20:33:16.900799Z",
     "iopub.status.idle": "2022-04-06T20:33:16.906678Z",
     "shell.execute_reply": "2022-04-06T20:33:16.906239Z"
    },
    "papermill": {
     "duration": 0.045321,
     "end_time": "2022-04-06T20:33:16.906798",
     "exception": false,
     "start_time": "2022-04-06T20:33:16.861477",
     "status": "completed"
    },
    "tags": []
   },
   "outputs": [],
   "source": [
    "training_data_x = X_train\n",
    "testing_data_x = X_test\n",
    "training_data_y = y_train.reshape(-1,1)\n",
    "testing_data_y = y_test.reshape(-1,1)"
   ]
  },
  {
   "cell_type": "code",
   "execution_count": 19,
   "id": "76951160",
   "metadata": {
    "execution": {
     "iopub.execute_input": "2022-04-06T20:33:16.982169Z",
     "iopub.status.busy": "2022-04-06T20:33:16.975088Z",
     "iopub.status.idle": "2022-04-06T20:33:16.984564Z",
     "shell.execute_reply": "2022-04-06T20:33:16.984960Z"
    },
    "papermill": {
     "duration": 0.051048,
     "end_time": "2022-04-06T20:33:16.985104",
     "exception": false,
     "start_time": "2022-04-06T20:33:16.934056",
     "status": "completed"
    },
    "tags": []
   },
   "outputs": [
    {
     "name": "stdout",
     "output_type": "stream",
     "text": [
      "xavier\n",
      "xavier\n",
      "xavier\n",
      "xavier\n",
      "xavier\n"
     ]
    }
   ],
   "source": [
    "layers = [Affine(\"first\", 784, 100), Relu(\"first\"), Affine(\"second\", 100, 100), Relu(\"second\"), Affine(\"third\", 100, 2), Affine(\"last\", 2, 1), Sigmoid(\"last\")]\n",
    "model_nn = Model(layers)\n",
    "model_lr = Model([Affine(\"logits\", 784, 1), Sigmoid(\"sigmoid\")])"
   ]
  },
  {
   "cell_type": "code",
   "execution_count": 20,
   "id": "6eede77a",
   "metadata": {
    "execution": {
     "iopub.execute_input": "2022-04-06T20:33:17.058511Z",
     "iopub.status.busy": "2022-04-06T20:33:17.055124Z",
     "iopub.status.idle": "2022-04-06T20:33:17.060327Z",
     "shell.execute_reply": "2022-04-06T20:33:17.060739Z"
    },
    "papermill": {
     "duration": 0.048159,
     "end_time": "2022-04-06T20:33:17.060875",
     "exception": false,
     "start_time": "2022-04-06T20:33:17.012716",
     "status": "completed"
    },
    "tags": []
   },
   "outputs": [],
   "source": [
    "nn_learner = Learner(loss, model_nn, opt, config.num_epochs)\n",
    "acc_nn = ClfCallback(nn_learner, config.bs, training_data_x , testing_data_x, training_data_y, testing_data_y)\n",
    "nn_learner.set_callbacks([acc_nn])"
   ]
  },
  {
   "cell_type": "code",
   "execution_count": 21,
   "id": "877b6cc7",
   "metadata": {
    "execution": {
     "iopub.execute_input": "2022-04-06T20:33:17.119610Z",
     "iopub.status.busy": "2022-04-06T20:33:17.119095Z",
     "iopub.status.idle": "2022-04-06T20:33:17.131260Z",
     "shell.execute_reply": "2022-04-06T20:33:17.130841Z"
    },
    "papermill": {
     "duration": 0.043096,
     "end_time": "2022-04-06T20:33:17.131377",
     "exception": false,
     "start_time": "2022-04-06T20:33:17.088281",
     "status": "completed"
    },
    "tags": []
   },
   "outputs": [],
   "source": [
    "lr_learner = Learner(loss, model_lr, opt, config.num_epochs)\n",
    "acc_lr = ClfCallback(lr_learner, config.bs, training_data_x , testing_data_x, training_data_y, testing_data_y)\n",
    "lr_learner.set_callbacks([acc_lr])"
   ]
  },
  {
   "cell_type": "code",
   "execution_count": 22,
   "id": "d9b133c3",
   "metadata": {
    "execution": {
     "iopub.execute_input": "2022-04-06T20:33:17.189663Z",
     "iopub.status.busy": "2022-04-06T20:33:17.189141Z",
     "iopub.status.idle": "2022-04-06T20:34:34.097276Z",
     "shell.execute_reply": "2022-04-06T20:34:34.098023Z"
    },
    "papermill": {
     "duration": 76.939382,
     "end_time": "2022-04-06T20:34:34.098166",
     "exception": false,
     "start_time": "2022-04-06T20:33:17.158784",
     "status": "completed"
    },
    "tags": []
   },
   "outputs": [
    {
     "name": "stdout",
     "output_type": "stream",
     "text": [
      "Epoch 0, Loss 0.2698\n",
      "Training Accuracy: 0.4933, Testing Accuracy: 0.4924\n",
      "\n"
     ]
    },
    {
     "name": "stdout",
     "output_type": "stream",
     "text": [
      "Epoch 10, Loss 0.0914\n",
      "Training Accuracy: 0.9205, Testing Accuracy: 0.9365\n",
      "\n"
     ]
    },
    {
     "name": "stdout",
     "output_type": "stream",
     "text": [
      "Epoch 20, Loss 0.0538\n",
      "Training Accuracy: 0.9451, Testing Accuracy: 0.9587\n",
      "\n"
     ]
    },
    {
     "name": "stdout",
     "output_type": "stream",
     "text": [
      "Epoch 30, Loss 0.042\n",
      "Training Accuracy: 0.9549, Testing Accuracy: 0.9667\n",
      "\n"
     ]
    },
    {
     "name": "stdout",
     "output_type": "stream",
     "text": [
      "Epoch 40, Loss 0.0364\n",
      "Training Accuracy: 0.9600, Testing Accuracy: 0.9693\n",
      "\n"
     ]
    },
    {
     "name": "stdout",
     "output_type": "stream",
     "text": [
      "Epoch 50, Loss 0.033\n",
      "Training Accuracy: 0.9627, Testing Accuracy: 0.9708\n",
      "\n"
     ]
    },
    {
     "name": "stdout",
     "output_type": "stream",
     "text": [
      "Epoch 60, Loss 0.0306\n",
      "Training Accuracy: 0.9650, Testing Accuracy: 0.9703\n",
      "\n"
     ]
    },
    {
     "name": "stdout",
     "output_type": "stream",
     "text": [
      "Epoch 70, Loss 0.0289\n",
      "Training Accuracy: 0.9668, Testing Accuracy: 0.9703\n",
      "\n"
     ]
    },
    {
     "name": "stdout",
     "output_type": "stream",
     "text": [
      "Epoch 80, Loss 0.0275\n",
      "Training Accuracy: 0.9689, Testing Accuracy: 0.9708\n",
      "\n"
     ]
    },
    {
     "name": "stdout",
     "output_type": "stream",
     "text": [
      "Epoch 90, Loss 0.0263\n",
      "Training Accuracy: 0.9699, Testing Accuracy: 0.9713\n",
      "\n"
     ]
    },
    {
     "name": "stdout",
     "output_type": "stream",
     "text": [
      "Epoch 100, Loss 0.0254\n",
      "Training Accuracy: 0.9707, Testing Accuracy: 0.9708\n",
      "\n"
     ]
    },
    {
     "name": "stdout",
     "output_type": "stream",
     "text": [
      "Epoch 110, Loss 0.0245\n",
      "Training Accuracy: 0.9717, Testing Accuracy: 0.9713\n",
      "\n"
     ]
    },
    {
     "name": "stdout",
     "output_type": "stream",
     "text": [
      "Epoch 120, Loss 0.0237\n",
      "Training Accuracy: 0.9730, Testing Accuracy: 0.9723\n",
      "\n"
     ]
    },
    {
     "name": "stdout",
     "output_type": "stream",
     "text": [
      "Epoch 130, Loss 0.023\n",
      "Training Accuracy: 0.9735, Testing Accuracy: 0.9728\n",
      "\n"
     ]
    },
    {
     "name": "stdout",
     "output_type": "stream",
     "text": [
      "Epoch 140, Loss 0.0224\n",
      "Training Accuracy: 0.9739, Testing Accuracy: 0.9723\n",
      "\n"
     ]
    },
    {
     "name": "stdout",
     "output_type": "stream",
     "text": [
      "Epoch 150, Loss 0.0218\n",
      "Training Accuracy: 0.9745, Testing Accuracy: 0.9723\n",
      "\n"
     ]
    },
    {
     "name": "stdout",
     "output_type": "stream",
     "text": [
      "Epoch 160, Loss 0.0213\n",
      "Training Accuracy: 0.9753, Testing Accuracy: 0.9723\n",
      "\n"
     ]
    },
    {
     "name": "stdout",
     "output_type": "stream",
     "text": [
      "Epoch 170, Loss 0.0208\n",
      "Training Accuracy: 0.9760, Testing Accuracy: 0.9728\n",
      "\n"
     ]
    },
    {
     "name": "stdout",
     "output_type": "stream",
     "text": [
      "Epoch 180, Loss 0.0203\n",
      "Training Accuracy: 0.9764, Testing Accuracy: 0.9723\n",
      "\n"
     ]
    },
    {
     "name": "stdout",
     "output_type": "stream",
     "text": [
      "Epoch 190, Loss 0.0198\n",
      "Training Accuracy: 0.9772, Testing Accuracy: 0.9718\n",
      "\n"
     ]
    },
    {
     "name": "stdout",
     "output_type": "stream",
     "text": [
      "Epoch 200, Loss 0.0194\n",
      "Training Accuracy: 0.9775, Testing Accuracy: 0.9718\n",
      "\n"
     ]
    },
    {
     "name": "stdout",
     "output_type": "stream",
     "text": [
      "Epoch 210, Loss 0.019\n",
      "Training Accuracy: 0.9779, Testing Accuracy: 0.9723\n",
      "\n"
     ]
    },
    {
     "name": "stdout",
     "output_type": "stream",
     "text": [
      "Epoch 220, Loss 0.0186\n",
      "Training Accuracy: 0.9790, Testing Accuracy: 0.9728\n",
      "\n"
     ]
    },
    {
     "name": "stdout",
     "output_type": "stream",
     "text": [
      "Epoch 230, Loss 0.0182\n",
      "Training Accuracy: 0.9799, Testing Accuracy: 0.9733\n",
      "\n"
     ]
    },
    {
     "name": "stdout",
     "output_type": "stream",
     "text": [
      "Epoch 240, Loss 0.0178\n",
      "Training Accuracy: 0.9806, Testing Accuracy: 0.9738\n",
      "\n"
     ]
    },
    {
     "data": {
      "text/plain": [
       "0.009879302570380218"
      ]
     },
     "execution_count": 22,
     "metadata": {},
     "output_type": "execute_result"
    }
   ],
   "source": [
    "nn_learner.train_loop(dl)"
   ]
  },
  {
   "cell_type": "code",
   "execution_count": 23,
   "id": "e0163366",
   "metadata": {
    "execution": {
     "iopub.execute_input": "2022-04-06T20:34:34.182270Z",
     "iopub.status.busy": "2022-04-06T20:34:34.181704Z",
     "iopub.status.idle": "2022-04-06T20:34:47.863572Z",
     "shell.execute_reply": "2022-04-06T20:34:47.864302Z"
    },
    "papermill": {
     "duration": 13.730393,
     "end_time": "2022-04-06T20:34:47.864450",
     "exception": false,
     "start_time": "2022-04-06T20:34:34.134057",
     "status": "completed"
    },
    "tags": []
   },
   "outputs": [
    {
     "name": "stdout",
     "output_type": "stream",
     "text": [
      "Epoch 0, Loss 0.2502\n",
      "Training Accuracy: 0.6435, Testing Accuracy: 0.6724\n",
      "\n"
     ]
    },
    {
     "name": "stdout",
     "output_type": "stream",
     "text": [
      "Epoch 10, Loss 0.1025\n",
      "Training Accuracy: 0.9129, Testing Accuracy: 0.9189\n",
      "\n"
     ]
    },
    {
     "name": "stdout",
     "output_type": "stream",
     "text": [
      "Epoch 20, Loss 0.0791\n",
      "Training Accuracy: 0.9290, Testing Accuracy: 0.9370\n",
      "\n"
     ]
    },
    {
     "name": "stdout",
     "output_type": "stream",
     "text": [
      "Epoch 30, Loss 0.0683\n",
      "Training Accuracy: 0.9370, Testing Accuracy: 0.9441\n",
      "\n"
     ]
    },
    {
     "name": "stdout",
     "output_type": "stream",
     "text": [
      "Epoch 40, Loss 0.0617\n",
      "Training Accuracy: 0.9417, Testing Accuracy: 0.9506\n",
      "\n"
     ]
    },
    {
     "name": "stdout",
     "output_type": "stream",
     "text": [
      "Epoch 50, Loss 0.0572\n",
      "Training Accuracy: 0.9444, Testing Accuracy: 0.9526\n",
      "\n"
     ]
    },
    {
     "name": "stdout",
     "output_type": "stream",
     "text": [
      "Epoch 60, Loss 0.0539\n",
      "Training Accuracy: 0.9474, Testing Accuracy: 0.9541\n",
      "\n"
     ]
    },
    {
     "name": "stdout",
     "output_type": "stream",
     "text": [
      "Epoch 70, Loss 0.0514\n",
      "Training Accuracy: 0.9492, Testing Accuracy: 0.9567\n",
      "\n"
     ]
    },
    {
     "name": "stdout",
     "output_type": "stream",
     "text": [
      "Epoch 80, Loss 0.0493\n",
      "Training Accuracy: 0.9505, Testing Accuracy: 0.9567\n",
      "\n"
     ]
    },
    {
     "name": "stdout",
     "output_type": "stream",
     "text": [
      "Epoch 90, Loss 0.0476\n",
      "Training Accuracy: 0.9523, Testing Accuracy: 0.9587\n",
      "\n"
     ]
    },
    {
     "name": "stdout",
     "output_type": "stream",
     "text": [
      "Epoch 100, Loss 0.0462\n",
      "Training Accuracy: 0.9535, Testing Accuracy: 0.9607\n",
      "\n"
     ]
    },
    {
     "name": "stdout",
     "output_type": "stream",
     "text": [
      "Epoch 110, Loss 0.0449\n",
      "Training Accuracy: 0.9547, Testing Accuracy: 0.9612\n",
      "\n"
     ]
    },
    {
     "name": "stdout",
     "output_type": "stream",
     "text": [
      "Epoch 120, Loss 0.0439\n",
      "Training Accuracy: 0.9553, Testing Accuracy: 0.9627\n",
      "\n"
     ]
    },
    {
     "name": "stdout",
     "output_type": "stream",
     "text": [
      "Epoch 130, Loss 0.0429\n",
      "Training Accuracy: 0.9561, Testing Accuracy: 0.9637\n",
      "\n"
     ]
    },
    {
     "name": "stdout",
     "output_type": "stream",
     "text": [
      "Epoch 140, Loss 0.0421\n",
      "Training Accuracy: 0.9571, Testing Accuracy: 0.9642\n",
      "\n"
     ]
    },
    {
     "name": "stdout",
     "output_type": "stream",
     "text": [
      "Epoch 150, Loss 0.0413\n",
      "Training Accuracy: 0.9579, Testing Accuracy: 0.9642\n",
      "\n"
     ]
    },
    {
     "name": "stdout",
     "output_type": "stream",
     "text": [
      "Epoch 160, Loss 0.0407\n",
      "Training Accuracy: 0.9579, Testing Accuracy: 0.9647\n",
      "\n"
     ]
    },
    {
     "name": "stdout",
     "output_type": "stream",
     "text": [
      "Epoch 170, Loss 0.04\n",
      "Training Accuracy: 0.9584, Testing Accuracy: 0.9657\n",
      "\n"
     ]
    },
    {
     "name": "stdout",
     "output_type": "stream",
     "text": [
      "Epoch 180, Loss 0.0395\n",
      "Training Accuracy: 0.9588, Testing Accuracy: 0.9657\n",
      "\n"
     ]
    },
    {
     "name": "stdout",
     "output_type": "stream",
     "text": [
      "Epoch 190, Loss 0.039\n",
      "Training Accuracy: 0.9586, Testing Accuracy: 0.9647\n",
      "\n"
     ]
    },
    {
     "name": "stdout",
     "output_type": "stream",
     "text": [
      "Epoch 200, Loss 0.0385\n",
      "Training Accuracy: 0.9590, Testing Accuracy: 0.9647\n",
      "\n"
     ]
    },
    {
     "name": "stdout",
     "output_type": "stream",
     "text": [
      "Epoch 210, Loss 0.038\n",
      "Training Accuracy: 0.9595, Testing Accuracy: 0.9652\n",
      "\n"
     ]
    },
    {
     "name": "stdout",
     "output_type": "stream",
     "text": [
      "Epoch 220, Loss 0.0376\n",
      "Training Accuracy: 0.9603, Testing Accuracy: 0.9652\n",
      "\n"
     ]
    },
    {
     "name": "stdout",
     "output_type": "stream",
     "text": [
      "Epoch 230, Loss 0.0372\n",
      "Training Accuracy: 0.9604, Testing Accuracy: 0.9652\n",
      "\n"
     ]
    },
    {
     "name": "stdout",
     "output_type": "stream",
     "text": [
      "Epoch 240, Loss 0.0369\n",
      "Training Accuracy: 0.9606, Testing Accuracy: 0.9657\n",
      "\n"
     ]
    },
    {
     "data": {
      "text/plain": [
       "0.01880234048671134"
      ]
     },
     "execution_count": 23,
     "metadata": {},
     "output_type": "execute_result"
    }
   ],
   "source": [
    "lr_learner.train_loop(dl)"
   ]
  },
  {
   "cell_type": "code",
   "execution_count": 24,
   "id": "ca410940",
   "metadata": {
    "execution": {
     "iopub.execute_input": "2022-04-06T20:34:47.955918Z",
     "iopub.status.busy": "2022-04-06T20:34:47.955380Z",
     "iopub.status.idle": "2022-04-06T20:34:48.181158Z",
     "shell.execute_reply": "2022-04-06T20:34:48.180643Z"
    },
    "papermill": {
     "duration": 0.275056,
     "end_time": "2022-04-06T20:34:48.181288",
     "exception": false,
     "start_time": "2022-04-06T20:34:47.906232",
     "status": "completed"
    },
    "tags": []
   },
   "outputs": [
    {
     "data": {
      "text/plain": [
       "<matplotlib.legend.Legend at 0x7f099a000be0>"
      ]
     },
     "execution_count": 24,
     "metadata": {},
     "output_type": "execute_result"
    },
    {
     "data": {
      "image/png": "[encoded data removed]",
      "text/plain": [
       "<Figure size 1080x720 with 1 Axes>"
      ]
     },
     "metadata": {
      "needs_background": "light"
     },
     "output_type": "display_data"
    }
   ],
   "source": [
    "#comparing the results of NN and LR\n",
    "plt.figure(figsize=(15,10))\n",
    "\n",
    "# Neural Network plots\n",
    "plt.plot(acc_nn.accuracies, 'r-', label = \"Training Accuracies - NN\")\n",
    "plt.plot(acc_nn.test_accuracies, 'g-', label = \"Testing Accuracies - NN\")\n",
    "\n",
    "# Logistic Regression plots\n",
    "plt.plot(acc_lr.accuracies, 'k-', label = \"Training Accuracies - LR\")\n",
    "plt.plot(acc_lr.test_accuracies, 'b-', label = \"Testing Accuracies - LR\")\n",
    "plt.legend()"
   ]
  },
  {
   "cell_type": "markdown",
   "id": "80dfb35c",
   "metadata": {
    "papermill": {
     "duration": 0.042203,
     "end_time": "2022-04-06T20:34:48.266833",
     "exception": false,
     "start_time": "2022-04-06T20:34:48.224630",
     "status": "completed"
    },
    "tags": []
   },
   "source": [
    "#### Plotting the outputs of this layer of the NN.\n"
   ]
  },
  {
   "cell_type": "code",
   "execution_count": 25,
   "id": "45eb2ff5",
   "metadata": {
    "execution": {
     "iopub.execute_input": "2022-04-06T20:34:48.368096Z",
     "iopub.status.busy": "2022-04-06T20:34:48.367535Z",
     "iopub.status.idle": "2022-04-06T20:34:48.380777Z",
     "shell.execute_reply": "2022-04-06T20:34:48.381211Z"
    },
    "papermill": {
     "duration": 0.072256,
     "end_time": "2022-04-06T20:34:48.381351",
     "exception": false,
     "start_time": "2022-04-06T20:34:48.309095",
     "status": "completed"
    },
    "tags": []
   },
   "outputs": [],
   "source": [
    "new_model = Model(layers[:-2])\n",
    "testing_plot = new_model(testing_data_x)"
   ]
  },
  {
   "cell_type": "code",
   "execution_count": 26,
   "id": "4c0a5485",
   "metadata": {
    "execution": {
     "iopub.execute_input": "2022-04-06T20:34:48.471532Z",
     "iopub.status.busy": "2022-04-06T20:34:48.471012Z",
     "iopub.status.idle": "2022-04-06T20:34:48.680011Z",
     "shell.execute_reply": "2022-04-06T20:34:48.679545Z"
    },
    "papermill": {
     "duration": 0.255625,
     "end_time": "2022-04-06T20:34:48.680129",
     "exception": false,
     "start_time": "2022-04-06T20:34:48.424504",
     "status": "completed"
    },
    "tags": []
   },
   "outputs": [
    {
     "data": {
      "text/plain": [
       "Text(0.5, 1.0, 'Outputs')"
      ]
     },
     "execution_count": 26,
     "metadata": {},
     "output_type": "execute_result"
    },
    {
     "data": {
      "image/png": "[encoded data removed]",
      "text/plain": [
       "<Figure size 576x504 with 1 Axes>"
      ]
     },
     "metadata": {
      "needs_background": "light"
     },
     "output_type": "display_data"
    }
   ],
   "source": [
    "# Plotting the scatter plot of points and color coding by class\n",
    "plt.figure(figsize=(8,7))\n",
    "plt.scatter(testing_plot[:,0], testing_plot[:,1], alpha = 0.1, c = y_test.ravel());\n",
    "plt.title('Outputs')"
   ]
  },
  {
   "cell_type": "markdown",
   "id": "a74fcf8f",
   "metadata": {
    "papermill": {
     "duration": 0.044512,
     "end_time": "2022-04-06T20:34:48.769400",
     "exception": false,
     "start_time": "2022-04-06T20:34:48.724888",
     "status": "completed"
    },
    "tags": []
   },
   "source": [
    "Probability contours"
   ]
  },
  {
   "cell_type": "code",
   "execution_count": 27,
   "id": "d0afc8e3",
   "metadata": {
    "execution": {
     "iopub.execute_input": "2022-04-06T20:34:48.863543Z",
     "iopub.status.busy": "2022-04-06T20:34:48.862922Z",
     "iopub.status.idle": "2022-04-06T20:34:48.874536Z",
     "shell.execute_reply": "2022-04-06T20:34:48.874033Z"
    },
    "papermill": {
     "duration": 0.060684,
     "end_time": "2022-04-06T20:34:48.874657",
     "exception": false,
     "start_time": "2022-04-06T20:34:48.813973",
     "status": "completed"
    },
    "tags": []
   },
   "outputs": [],
   "source": [
    "model_prob = Model(layers[-2:]) "
   ]
  },
  {
   "cell_type": "code",
   "execution_count": 28,
   "id": "9b96e238",
   "metadata": {
    "execution": {
     "iopub.execute_input": "2022-04-06T20:34:48.999672Z",
     "iopub.status.busy": "2022-04-06T20:34:48.999114Z",
     "iopub.status.idle": "2022-04-06T20:34:49.014785Z",
     "shell.execute_reply": "2022-04-06T20:34:49.015204Z"
    },
    "papermill": {
     "duration": 0.067302,
     "end_time": "2022-04-06T20:34:49.015349",
     "exception": false,
     "start_time": "2022-04-06T20:34:48.948047",
     "status": "completed"
    },
    "tags": []
   },
   "outputs": [],
   "source": [
    "#creating the x and y ranges according to the above generated plot.\n",
    "x_range = np.linspace(-4, 1, 100) \n",
    "y_range = np.linspace(-6, 6, 100) \n",
    "x_grid, y_grid = np.meshgrid(x_range, y_range) # x_grid and y_grig are of size 100 X 100\n",
    "\n",
    "# converting x_grid and y_grid to continuous arrays\n",
    "x_gridflat = np.ravel(x_grid)\n",
    "y_gridflat = np.ravel(y_grid)\n",
    "\n",
    "# The last layer of the current model takes two columns as input. Hence transpose of np.vstack() is required.\n",
    "X = np.vstack((x_gridflat, y_gridflat)).T\n",
    "\n",
    "prob_contour = model_prob(X).reshape(100,100) "
   ]
  },
  {
   "cell_type": "code",
   "execution_count": 29,
   "id": "da72499a",
   "metadata": {
    "execution": {
     "iopub.execute_input": "2022-04-06T20:34:49.125468Z",
     "iopub.status.busy": "2022-04-06T20:34:49.124915Z",
     "iopub.status.idle": "2022-04-06T20:34:49.353120Z",
     "shell.execute_reply": "2022-04-06T20:34:49.352688Z"
    },
    "papermill": {
     "duration": 0.292554,
     "end_time": "2022-04-06T20:34:49.353246",
     "exception": false,
     "start_time": "2022-04-06T20:34:49.060692",
     "status": "completed"
    },
    "tags": []
   },
   "outputs": [
    {
     "data": {
      "image/png": "[encoded data removed]",
      "text/plain": [
       "<Figure size 720x648 with 1 Axes>"
      ]
     },
     "metadata": {
      "needs_background": "light"
     },
     "output_type": "display_data"
    }
   ],
   "source": [
    "plt.figure(figsize=(10,9))\n",
    "plt.scatter(testing_plot[:,0], testing_plot[:,1], alpha = 0.1, c = y_test.ravel())\n",
    "contours = plt.contour(x_grid,y_grid,prob_contour)\n",
    "plt.title('Probability Contours')\n",
    "plt.clabel(contours, inline = True );"
   ]
  },
  {
   "cell_type": "code",
   "execution_count": null,
   "id": "e81b4ac7",
   "metadata": {
    "papermill": {
     "duration": 0.047177,
     "end_time": "2022-04-06T20:34:49.447439",
     "exception": false,
     "start_time": "2022-04-06T20:34:49.400262",
     "status": "completed"
    },
    "tags": []
   },
   "outputs": [],
   "source": []
  }
 ],
 "metadata": {
  "kernelspec": {
   "display_name": "Python 3",
   "language": "python",
   "name": "python3"
  },
  "language_info": {
   "codemirror_mode": {
    "name": "ipython",
    "version": 3
   },
   "file_extension": ".py",
   "mimetype": "text/x-python",
   "name": "python",
   "nbconvert_exporter": "python",
   "pygments_lexer": "ipython3",
   "version": "3.6.15"
  },
  "papermill": {
   "default_parameters": {},
   "duration": 98.849753,
   "end_time": "2022-04-06T20:34:49.912735",
   "environment_variables": {},
   "exception": null,
   "input_path": "2020-08-11-part2.ipynb",
   "output_path": "2020-08-11-part2.ipynb",
   "parameters": {},
   "start_time": "2022-04-06T20:33:11.062982",
   "version": "2.3.3"
  }
 },
 "nbformat": 4,
 "nbformat_minor": 5
}