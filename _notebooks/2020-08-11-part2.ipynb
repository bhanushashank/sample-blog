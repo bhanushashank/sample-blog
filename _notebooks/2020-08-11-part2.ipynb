{
 "cells": [
  {
   "cell_type": "markdown",
   "id": "98380cd3",
   "metadata": {
    "papermill": {
     "duration": 0.038966,
     "end_time": "2022-03-14T20:10:23.948153",
     "exception": false,
     "start_time": "2022-03-14T20:10:23.909187",
     "status": "completed"
    },
    "tags": []
   },
   "source": [
    "# Distinguish Your Own Digits (DYOD)"
   ]
  },
  {
   "cell_type": "markdown",
   "id": "ef31240d",
   "metadata": {
    "papermill": {
     "duration": 0.032309,
     "end_time": "2022-03-14T20:10:24.012276",
     "exception": false,
     "start_time": "2022-03-14T20:10:23.979967",
     "status": "completed"
    },
    "tags": []
   },
   "source": [
    "You are going to write a classifier that distinguishes between the number 3 and number 8."
   ]
  },
  {
   "cell_type": "code",
   "execution_count": 1,
   "id": "b15c8646",
   "metadata": {
    "execution": {
     "iopub.execute_input": "2022-03-14T20:10:24.087451Z",
     "iopub.status.busy": "2022-03-14T20:10:24.086754Z",
     "iopub.status.idle": "2022-03-14T20:10:24.098643Z",
     "shell.execute_reply": "2022-03-14T20:10:24.098005Z"
    },
    "papermill": {
     "duration": 0.057076,
     "end_time": "2022-03-14T20:10:24.098823",
     "exception": false,
     "start_time": "2022-03-14T20:10:24.041747",
     "status": "completed"
    },
    "tags": []
   },
   "outputs": [],
   "source": [
    "%load_ext autoreload\n",
    "%autoreload 2"
   ]
  },
  {
   "cell_type": "code",
   "execution_count": 2,
   "id": "22ef38dc",
   "metadata": {
    "execution": {
     "iopub.execute_input": "2022-03-14T20:10:24.169181Z",
     "iopub.status.busy": "2022-03-14T20:10:24.168468Z",
     "iopub.status.idle": "2022-03-14T20:10:24.932876Z",
     "shell.execute_reply": "2022-03-14T20:10:24.933392Z"
    },
    "papermill": {
     "duration": 0.801565,
     "end_time": "2022-03-14T20:10:24.933602",
     "exception": false,
     "start_time": "2022-03-14T20:10:24.132037",
     "status": "completed"
    },
    "tags": []
   },
   "outputs": [],
   "source": [
    "%matplotlib inline\n",
    "import numpy as np\n",
    "import matplotlib.pyplot as plt\n",
    "import pandas as pd"
   ]
  },
  {
   "cell_type": "markdown",
   "id": "ba036198",
   "metadata": {
    "papermill": {
     "duration": 0.029986,
     "end_time": "2022-03-14T20:10:24.996239",
     "exception": false,
     "start_time": "2022-03-14T20:10:24.966253",
     "status": "completed"
    },
    "tags": []
   },
   "source": [
    "From the command line run `pip install mnist`. This is a library that will help you bring down the mnist dataset. If you run this from a notebook, you need to put  `!pip install mnist` in a cell by itself."
   ]
  },
  {
   "cell_type": "code",
   "execution_count": 3,
   "id": "bb6ad8a1",
   "metadata": {
    "execution": {
     "iopub.execute_input": "2022-03-14T20:10:25.073555Z",
     "iopub.status.busy": "2022-03-14T20:10:25.071348Z",
     "iopub.status.idle": "2022-03-14T20:10:27.265967Z",
     "shell.execute_reply": "2022-03-14T20:10:27.265158Z"
    },
    "papermill": {
     "duration": 2.239106,
     "end_time": "2022-03-14T20:10:27.266118",
     "exception": false,
     "start_time": "2022-03-14T20:10:25.027012",
     "status": "completed"
    },
    "tags": []
   },
   "outputs": [
    {
     "name": "stdout",
     "output_type": "stream",
     "text": [
      "Collecting mnist\r\n"
     ]
    },
    {
     "name": "stdout",
     "output_type": "stream",
     "text": [
      "  Downloading mnist-0.2.2-py2.py3-none-any.whl (3.5 kB)\r\n",
      "Requirement already satisfied: numpy in /opt/hostedtoolcache/Python/3.6.15/x64/lib/python3.6/site-packages (from mnist) (1.19.5)\r\n"
     ]
    },
    {
     "name": "stdout",
     "output_type": "stream",
     "text": [
      "Installing collected packages: mnist\r\n"
     ]
    },
    {
     "name": "stdout",
     "output_type": "stream",
     "text": [
      "Successfully installed mnist-0.2.2\r\n"
     ]
    }
   ],
   "source": [
    "!pip install mnist"
   ]
  },
  {
   "cell_type": "markdown",
   "id": "69df9c9a",
   "metadata": {
    "papermill": {
     "duration": 0.0328,
     "end_time": "2022-03-14T20:10:27.332583",
     "exception": false,
     "start_time": "2022-03-14T20:10:27.299783",
     "status": "completed"
    },
    "tags": []
   },
   "source": [
    "## Preparing the Data"
   ]
  },
  {
   "cell_type": "code",
   "execution_count": 4,
   "id": "7f69d806",
   "metadata": {
    "execution": {
     "iopub.execute_input": "2022-03-14T20:10:27.405307Z",
     "iopub.status.busy": "2022-03-14T20:10:27.404596Z",
     "iopub.status.idle": "2022-03-14T20:10:27.420847Z",
     "shell.execute_reply": "2022-03-14T20:10:27.420155Z"
    },
    "papermill": {
     "duration": 0.054325,
     "end_time": "2022-03-14T20:10:27.421000",
     "exception": false,
     "start_time": "2022-03-14T20:10:27.366675",
     "status": "completed"
    },
    "tags": []
   },
   "outputs": [],
   "source": [
    "import mnist"
   ]
  },
  {
   "cell_type": "code",
   "execution_count": 5,
   "id": "a411e44f",
   "metadata": {
    "execution": {
     "iopub.execute_input": "2022-03-14T20:10:27.501540Z",
     "iopub.status.busy": "2022-03-14T20:10:27.500749Z",
     "iopub.status.idle": "2022-03-14T20:10:28.126690Z",
     "shell.execute_reply": "2022-03-14T20:10:28.126038Z"
    },
    "papermill": {
     "duration": 0.670777,
     "end_time": "2022-03-14T20:10:28.126868",
     "exception": false,
     "start_time": "2022-03-14T20:10:27.456091",
     "status": "completed"
    },
    "tags": []
   },
   "outputs": [],
   "source": [
    "train_images = mnist.train_images()\n",
    "train_labels = mnist.train_labels()"
   ]
  },
  {
   "cell_type": "code",
   "execution_count": 6,
   "id": "dceab3a5",
   "metadata": {
    "execution": {
     "iopub.execute_input": "2022-03-14T20:10:28.212502Z",
     "iopub.status.busy": "2022-03-14T20:10:28.210668Z",
     "iopub.status.idle": "2022-03-14T20:10:28.232911Z",
     "shell.execute_reply": "2022-03-14T20:10:28.233765Z"
    },
    "papermill": {
     "duration": 0.075019,
     "end_time": "2022-03-14T20:10:28.234039",
     "exception": false,
     "start_time": "2022-03-14T20:10:28.159020",
     "status": "completed"
    },
    "tags": []
   },
   "outputs": [
    {
     "data": {
      "text/plain": [
       "((60000, 28, 28), (60000,))"
      ]
     },
     "execution_count": 6,
     "metadata": {},
     "output_type": "execute_result"
    }
   ],
   "source": [
    "train_images.shape, train_labels.shape"
   ]
  },
  {
   "cell_type": "code",
   "execution_count": 7,
   "id": "f50dc2bb",
   "metadata": {
    "execution": {
     "iopub.execute_input": "2022-03-14T20:10:28.323725Z",
     "iopub.status.busy": "2022-03-14T20:10:28.322385Z",
     "iopub.status.idle": "2022-03-14T20:10:28.522040Z",
     "shell.execute_reply": "2022-03-14T20:10:28.521399Z"
    },
    "papermill": {
     "duration": 0.240191,
     "end_time": "2022-03-14T20:10:28.522238",
     "exception": false,
     "start_time": "2022-03-14T20:10:28.282047",
     "status": "completed"
    },
    "tags": []
   },
   "outputs": [],
   "source": [
    "test_images = mnist.test_images()\n",
    "test_labels = mnist.test_labels()"
   ]
  },
  {
   "cell_type": "code",
   "execution_count": 8,
   "id": "fc38cf1b",
   "metadata": {
    "execution": {
     "iopub.execute_input": "2022-03-14T20:10:28.597630Z",
     "iopub.status.busy": "2022-03-14T20:10:28.596912Z",
     "iopub.status.idle": "2022-03-14T20:10:28.611949Z",
     "shell.execute_reply": "2022-03-14T20:10:28.612469Z"
    },
    "papermill": {
     "duration": 0.05765,
     "end_time": "2022-03-14T20:10:28.612629",
     "exception": false,
     "start_time": "2022-03-14T20:10:28.554979",
     "status": "completed"
    },
    "tags": []
   },
   "outputs": [
    {
     "data": {
      "text/plain": [
       "((10000, 28, 28), (10000,))"
      ]
     },
     "execution_count": 8,
     "metadata": {},
     "output_type": "execute_result"
    }
   ],
   "source": [
    "test_images.shape, test_labels.shape"
   ]
  },
  {
   "cell_type": "code",
   "execution_count": 9,
   "id": "f9ed8fe0",
   "metadata": {
    "execution": {
     "iopub.execute_input": "2022-03-14T20:10:28.686449Z",
     "iopub.status.busy": "2022-03-14T20:10:28.685143Z",
     "iopub.status.idle": "2022-03-14T20:10:28.878837Z",
     "shell.execute_reply": "2022-03-14T20:10:28.878257Z"
    },
    "papermill": {
     "duration": 0.233046,
     "end_time": "2022-03-14T20:10:28.878985",
     "exception": false,
     "start_time": "2022-03-14T20:10:28.645939",
     "status": "completed"
    },
    "tags": []
   },
   "outputs": [
    {
     "name": "stdout",
     "output_type": "stream",
     "text": [
      "2\n"
     ]
    },
    {
     "data": {
      "text/plain": [
       "<matplotlib.image.AxesImage at 0x7f63ba7e0198>"
      ]
     },
     "execution_count": 9,
     "metadata": {},
     "output_type": "execute_result"
    },
    {
     "data": {
      "image/png": "[encoded data removed]",
      "text/plain": [
       "<Figure size 432x288 with 1 Axes>"
      ]
     },
     "metadata": {
      "needs_background": "light"
     },
     "output_type": "display_data"
    }
   ],
   "source": [
    "image_index = 7776 # You may select anything up to 60,000\n",
    "print(train_labels[image_index]) \n",
    "plt.imshow(train_images[image_index], cmap='Greys')"
   ]
  },
  {
   "cell_type": "markdown",
   "id": "a8d2388d",
   "metadata": {
    "papermill": {
     "duration": 0.039097,
     "end_time": "2022-03-14T20:10:28.954895",
     "exception": false,
     "start_time": "2022-03-14T20:10:28.915798",
     "status": "completed"
    },
    "tags": []
   },
   "source": [
    "## Filter data to get 3 and 8 out"
   ]
  },
  {
   "cell_type": "code",
   "execution_count": 10,
   "id": "776f7fc7",
   "metadata": {
    "execution": {
     "iopub.execute_input": "2022-03-14T20:10:29.031599Z",
     "iopub.status.busy": "2022-03-14T20:10:29.030940Z",
     "iopub.status.idle": "2022-03-14T20:10:29.053696Z",
     "shell.execute_reply": "2022-03-14T20:10:29.053076Z"
    },
    "papermill": {
     "duration": 0.063126,
     "end_time": "2022-03-14T20:10:29.053852",
     "exception": false,
     "start_time": "2022-03-14T20:10:28.990726",
     "status": "completed"
    },
    "tags": []
   },
   "outputs": [],
   "source": [
    "train_filter = np.where((train_labels == 3 ) | (train_labels == 8))\n",
    "test_filter = np.where((test_labels == 3) | (test_labels == 8))\n",
    "X_train, y_train = train_images[train_filter], train_labels[train_filter]\n",
    "X_test, y_test = test_images[test_filter], test_labels[test_filter]"
   ]
  },
  {
   "cell_type": "markdown",
   "id": "948f0b7e",
   "metadata": {
    "papermill": {
     "duration": 0.033962,
     "end_time": "2022-03-14T20:10:29.124938",
     "exception": false,
     "start_time": "2022-03-14T20:10:29.090976",
     "status": "completed"
    },
    "tags": []
   },
   "source": [
    "We normalize the pizel values in the 0 to 1 range"
   ]
  },
  {
   "cell_type": "code",
   "execution_count": 11,
   "id": "ee4c2166",
   "metadata": {
    "execution": {
     "iopub.execute_input": "2022-03-14T20:10:29.201399Z",
     "iopub.status.busy": "2022-03-14T20:10:29.200470Z",
     "iopub.status.idle": "2022-03-14T20:10:29.270090Z",
     "shell.execute_reply": "2022-03-14T20:10:29.270605Z"
    },
    "papermill": {
     "duration": 0.112275,
     "end_time": "2022-03-14T20:10:29.270782",
     "exception": false,
     "start_time": "2022-03-14T20:10:29.158507",
     "status": "completed"
    },
    "tags": []
   },
   "outputs": [],
   "source": [
    "X_train = X_train/255.\n",
    "X_test = X_test/255."
   ]
  },
  {
   "cell_type": "markdown",
   "id": "ddcf4fab",
   "metadata": {
    "papermill": {
     "duration": 0.036397,
     "end_time": "2022-03-14T20:10:29.346420",
     "exception": false,
     "start_time": "2022-03-14T20:10:29.310023",
     "status": "completed"
    },
    "tags": []
   },
   "source": [
    "And setup the labels as 1 (when the digit is 3) and 0 (when the digit is 8)"
   ]
  },
  {
   "cell_type": "code",
   "execution_count": 12,
   "id": "7dc908f2",
   "metadata": {
    "execution": {
     "iopub.execute_input": "2022-03-14T20:10:29.426457Z",
     "iopub.status.busy": "2022-03-14T20:10:29.425776Z",
     "iopub.status.idle": "2022-03-14T20:10:29.442060Z",
     "shell.execute_reply": "2022-03-14T20:10:29.441506Z"
    },
    "papermill": {
     "duration": 0.060612,
     "end_time": "2022-03-14T20:10:29.442200",
     "exception": false,
     "start_time": "2022-03-14T20:10:29.381588",
     "status": "completed"
    },
    "tags": []
   },
   "outputs": [],
   "source": [
    "y_train = 1*(y_train==3)\n",
    "y_test = 1*(y_test==3)"
   ]
  },
  {
   "cell_type": "code",
   "execution_count": 13,
   "id": "01e4e969",
   "metadata": {
    "execution": {
     "iopub.execute_input": "2022-03-14T20:10:29.525056Z",
     "iopub.status.busy": "2022-03-14T20:10:29.524213Z",
     "iopub.status.idle": "2022-03-14T20:10:29.544975Z",
     "shell.execute_reply": "2022-03-14T20:10:29.544328Z"
    },
    "papermill": {
     "duration": 0.066289,
     "end_time": "2022-03-14T20:10:29.545118",
     "exception": false,
     "start_time": "2022-03-14T20:10:29.478829",
     "status": "completed"
    },
    "tags": []
   },
   "outputs": [
    {
     "data": {
      "text/plain": [
       "((11982, 28, 28), (1984, 28, 28))"
      ]
     },
     "execution_count": 13,
     "metadata": {},
     "output_type": "execute_result"
    }
   ],
   "source": [
    "X_train.shape, X_test.shape"
   ]
  },
  {
   "cell_type": "markdown",
   "id": "5ccf3f85",
   "metadata": {
    "papermill": {
     "duration": 0.036483,
     "end_time": "2022-03-14T20:10:29.618470",
     "exception": false,
     "start_time": "2022-03-14T20:10:29.581987",
     "status": "completed"
    },
    "tags": []
   },
   "source": [
    "We reshape the data to flatten the image pixels into a set of features or co-variates:"
   ]
  },
  {
   "cell_type": "code",
   "execution_count": 14,
   "id": "5286a4a3",
   "metadata": {
    "execution": {
     "iopub.execute_input": "2022-03-14T20:10:29.702392Z",
     "iopub.status.busy": "2022-03-14T20:10:29.701776Z",
     "iopub.status.idle": "2022-03-14T20:10:29.717583Z",
     "shell.execute_reply": "2022-03-14T20:10:29.718248Z"
    },
    "papermill": {
     "duration": 0.056468,
     "end_time": "2022-03-14T20:10:29.718435",
     "exception": false,
     "start_time": "2022-03-14T20:10:29.661967",
     "status": "completed"
    },
    "tags": []
   },
   "outputs": [
    {
     "data": {
      "text/plain": [
       "((11982, 784), (1984, 784))"
      ]
     },
     "execution_count": 14,
     "metadata": {},
     "output_type": "execute_result"
    }
   ],
   "source": [
    "X_train = X_train.reshape(X_train.shape[0], -1)\n",
    "X_test = X_test.reshape(X_test.shape[0], -1)\n",
    "X_train.shape, X_test.shape"
   ]
  },
  {
   "cell_type": "code",
   "execution_count": 15,
   "id": "73c5f88a",
   "metadata": {
    "execution": {
     "iopub.execute_input": "2022-03-14T20:10:29.797324Z",
     "iopub.status.busy": "2022-03-14T20:10:29.796612Z",
     "iopub.status.idle": "2022-03-14T20:10:29.818969Z",
     "shell.execute_reply": "2022-03-14T20:10:29.819627Z"
    },
    "papermill": {
     "duration": 0.065643,
     "end_time": "2022-03-14T20:10:29.819850",
     "exception": false,
     "start_time": "2022-03-14T20:10:29.754207",
     "status": "completed"
    },
    "tags": []
   },
   "outputs": [],
   "source": [
    "#Impoting functions from 'Kudzu'\n",
    "from kudzu.model import Model\n",
    "from kudzu.train import Learner\n",
    "from kudzu.optim import GD\n",
    "from kudzu.data import Data, Sampler,Dataloader\n",
    "\n",
    "from kudzu.callbacks import AccCallback\n",
    "from kudzu.callbacks import ClfCallback\n",
    "\n",
    "from kudzu.loss import MSE\n",
    "\n",
    "from kudzu.layer import Sigmoid,Relu\n",
    "from kudzu.layer import Affine"
   ]
  },
  {
   "cell_type": "markdown",
   "id": "bc01172a",
   "metadata": {
    "papermill": {
     "duration": 0.040169,
     "end_time": "2022-03-14T20:10:29.897677",
     "exception": false,
     "start_time": "2022-03-14T20:10:29.857508",
     "status": "completed"
    },
    "tags": []
   },
   "source": [
    "### Let us create a `Config` class, to store important parameters. \n",
    "This class essentially plays the role of a dictionary."
   ]
  },
  {
   "cell_type": "code",
   "execution_count": 16,
   "id": "978281aa",
   "metadata": {
    "execution": {
     "iopub.execute_input": "2022-03-14T20:10:29.976834Z",
     "iopub.status.busy": "2022-03-14T20:10:29.976117Z",
     "iopub.status.idle": "2022-03-14T20:10:29.989836Z",
     "shell.execute_reply": "2022-03-14T20:10:29.990479Z"
    },
    "papermill": {
     "duration": 0.055422,
     "end_time": "2022-03-14T20:10:29.990660",
     "exception": false,
     "start_time": "2022-03-14T20:10:29.935238",
     "status": "completed"
    },
    "tags": []
   },
   "outputs": [],
   "source": [
    "class Config:\n",
    "    pass\n",
    "config = Config()\n",
    "config.lr = 0.001\n",
    "config.num_epochs = 250\n",
    "config.bs = 50"
   ]
  },
  {
   "cell_type": "markdown",
   "id": "1385fa59",
   "metadata": {
    "papermill": {
     "duration": 0.035847,
     "end_time": "2022-03-14T20:10:30.064147",
     "exception": false,
     "start_time": "2022-03-14T20:10:30.028300",
     "status": "completed"
    },
    "tags": []
   },
   "source": [
    "### Running Models with the Training data\n",
    "Details about the network layers:\n",
    "- A first affine layer has 784 inputs and does 100 affine transforms. These are followed by a Relu\n",
    "- A second affine layer has 100 inputs from the 100 activations of the past layer, and does 100 affine transforms. These are followed by a Relu\n",
    "- A third affine layer has 100 activations and does 2 affine transformations to create an embedding for visualization. There is no non-linearity here.\n",
    "- A final \"logistic regression\" which has an affine transform from 2 inputs to 1 output, which is squeezed through a sigmoid.\n"
   ]
  },
  {
   "cell_type": "code",
   "execution_count": 17,
   "id": "2b9c66db",
   "metadata": {
    "execution": {
     "iopub.execute_input": "2022-03-14T20:10:30.150274Z",
     "iopub.status.busy": "2022-03-14T20:10:30.146506Z",
     "iopub.status.idle": "2022-03-14T20:10:30.157028Z",
     "shell.execute_reply": "2022-03-14T20:10:30.157560Z"
    },
    "papermill": {
     "duration": 0.057087,
     "end_time": "2022-03-14T20:10:30.157744",
     "exception": false,
     "start_time": "2022-03-14T20:10:30.100657",
     "status": "completed"
    },
    "tags": []
   },
   "outputs": [],
   "source": [
    "data = Data(X_train, y_train.reshape(-1,1))\n",
    "sampler = Sampler(data, config.bs, shuffle=True)\n",
    "\n",
    "dl = Dataloader(data, sampler)\n",
    "\n",
    "opt = GD(config.lr)\n",
    "loss = MSE()"
   ]
  },
  {
   "cell_type": "code",
   "execution_count": 18,
   "id": "b275e4c2",
   "metadata": {
    "execution": {
     "iopub.execute_input": "2022-03-14T20:10:30.239225Z",
     "iopub.status.busy": "2022-03-14T20:10:30.238430Z",
     "iopub.status.idle": "2022-03-14T20:10:30.256231Z",
     "shell.execute_reply": "2022-03-14T20:10:30.255174Z"
    },
    "papermill": {
     "duration": 0.062778,
     "end_time": "2022-03-14T20:10:30.256421",
     "exception": false,
     "start_time": "2022-03-14T20:10:30.193643",
     "status": "completed"
    },
    "tags": []
   },
   "outputs": [],
   "source": [
    "training_data_x = X_train\n",
    "testing_data_x = X_test\n",
    "training_data_y = y_train.reshape(-1,1)\n",
    "testing_data_y = y_test.reshape(-1,1)"
   ]
  },
  {
   "cell_type": "code",
   "execution_count": 19,
   "id": "76951160",
   "metadata": {
    "execution": {
     "iopub.execute_input": "2022-03-14T20:10:30.348850Z",
     "iopub.status.busy": "2022-03-14T20:10:30.348113Z",
     "iopub.status.idle": "2022-03-14T20:10:30.369790Z",
     "shell.execute_reply": "2022-03-14T20:10:30.370311Z"
    },
    "papermill": {
     "duration": 0.06778,
     "end_time": "2022-03-14T20:10:30.370494",
     "exception": false,
     "start_time": "2022-03-14T20:10:30.302714",
     "status": "completed"
    },
    "tags": []
   },
   "outputs": [
    {
     "name": "stdout",
     "output_type": "stream",
     "text": [
      "xavier\n",
      "xavier\n",
      "xavier\n",
      "xavier\n",
      "xavier\n"
     ]
    }
   ],
   "source": [
    "layers = [Affine(\"first\", 784, 100), Relu(\"first\"), Affine(\"second\", 100, 100), Relu(\"second\"), Affine(\"third\", 100, 2), Affine(\"last\", 2, 1), Sigmoid(\"last\")]\n",
    "model_nn = Model(layers)\n",
    "model_lr = Model([Affine(\"logits\", 784, 1), Sigmoid(\"sigmoid\")])"
   ]
  },
  {
   "cell_type": "code",
   "execution_count": 20,
   "id": "6eede77a",
   "metadata": {
    "execution": {
     "iopub.execute_input": "2022-03-14T20:10:30.453156Z",
     "iopub.status.busy": "2022-03-14T20:10:30.452421Z",
     "iopub.status.idle": "2022-03-14T20:10:30.468978Z",
     "shell.execute_reply": "2022-03-14T20:10:30.469539Z"
    },
    "papermill": {
     "duration": 0.060677,
     "end_time": "2022-03-14T20:10:30.469727",
     "exception": false,
     "start_time": "2022-03-14T20:10:30.409050",
     "status": "completed"
    },
    "tags": []
   },
   "outputs": [],
   "source": [
    "nn_learner = Learner(loss, model_nn, opt, config.num_epochs)\n",
    "acc_nn = ClfCallback(nn_learner, config.bs, training_data_x , testing_data_x, training_data_y, testing_data_y)\n",
    "nn_learner.set_callbacks([acc_nn])"
   ]
  },
  {
   "cell_type": "code",
   "execution_count": 21,
   "id": "877b6cc7",
   "metadata": {
    "execution": {
     "iopub.execute_input": "2022-03-14T20:10:30.551348Z",
     "iopub.status.busy": "2022-03-14T20:10:30.550659Z",
     "iopub.status.idle": "2022-03-14T20:10:30.564942Z",
     "shell.execute_reply": "2022-03-14T20:10:30.564307Z"
    },
    "papermill": {
     "duration": 0.056185,
     "end_time": "2022-03-14T20:10:30.565083",
     "exception": false,
     "start_time": "2022-03-14T20:10:30.508898",
     "status": "completed"
    },
    "tags": []
   },
   "outputs": [],
   "source": [
    "lr_learner = Learner(loss, model_lr, opt, config.num_epochs)\n",
    "acc_lr = ClfCallback(lr_learner, config.bs, training_data_x , testing_data_x, training_data_y, testing_data_y)\n",
    "lr_learner.set_callbacks([acc_lr])"
   ]
  },
  {
   "cell_type": "code",
   "execution_count": 22,
   "id": "d9b133c3",
   "metadata": {
    "execution": {
     "iopub.execute_input": "2022-03-14T20:10:30.660086Z",
     "iopub.status.busy": "2022-03-14T20:10:30.656697Z",
     "iopub.status.idle": "2022-03-14T20:13:00.899158Z",
     "shell.execute_reply": "2022-03-14T20:13:00.898187Z"
    },
    "papermill": {
     "duration": 150.283451,
     "end_time": "2022-03-14T20:13:00.899313",
     "exception": false,
     "start_time": "2022-03-14T20:10:30.615862",
     "status": "completed"
    },
    "tags": []
   },
   "outputs": [
    {
     "name": "stdout",
     "output_type": "stream",
     "text": [
      "Epoch 0, Loss 0.2557\n",
      "Training Accuracy: 0.5542, Testing Accuracy: 0.5272\n",
      "\n"
     ]
    },
    {
     "name": "stdout",
     "output_type": "stream",
     "text": [
      "Epoch 10, Loss 0.1256\n",
      "Training Accuracy: 0.8933, Testing Accuracy: 0.8997\n",
      "\n"
     ]
    },
    {
     "name": "stdout",
     "output_type": "stream",
     "text": [
      "Epoch 20, Loss 0.069\n",
      "Training Accuracy: 0.9295, Testing Accuracy: 0.9380\n",
      "\n"
     ]
    },
    {
     "name": "stdout",
     "output_type": "stream",
     "text": [
      "Epoch 30, Loss 0.0508\n",
      "Training Accuracy: 0.9481, Testing Accuracy: 0.9526\n",
      "\n"
     ]
    },
    {
     "name": "stdout",
     "output_type": "stream",
     "text": [
      "Epoch 40, Loss 0.0425\n",
      "Training Accuracy: 0.9538, Testing Accuracy: 0.9607\n",
      "\n"
     ]
    },
    {
     "name": "stdout",
     "output_type": "stream",
     "text": [
      "Epoch 50, Loss 0.0378\n",
      "Training Accuracy: 0.9585, Testing Accuracy: 0.9642\n",
      "\n"
     ]
    },
    {
     "name": "stdout",
     "output_type": "stream",
     "text": [
      "Epoch 60, Loss 0.0347\n",
      "Training Accuracy: 0.9613, Testing Accuracy: 0.9627\n",
      "\n"
     ]
    },
    {
     "name": "stdout",
     "output_type": "stream",
     "text": [
      "Epoch 70, Loss 0.0325\n",
      "Training Accuracy: 0.9633, Testing Accuracy: 0.9627\n",
      "\n"
     ]
    },
    {
     "name": "stdout",
     "output_type": "stream",
     "text": [
      "Epoch 80, Loss 0.0308\n",
      "Training Accuracy: 0.9648, Testing Accuracy: 0.9642\n",
      "\n"
     ]
    },
    {
     "name": "stdout",
     "output_type": "stream",
     "text": [
      "Epoch 90, Loss 0.0294\n",
      "Training Accuracy: 0.9659, Testing Accuracy: 0.9657\n",
      "\n"
     ]
    },
    {
     "name": "stdout",
     "output_type": "stream",
     "text": [
      "Epoch 100, Loss 0.0283\n",
      "Training Accuracy: 0.9676, Testing Accuracy: 0.9667\n",
      "\n"
     ]
    },
    {
     "name": "stdout",
     "output_type": "stream",
     "text": [
      "Epoch 110, Loss 0.0273\n",
      "Training Accuracy: 0.9690, Testing Accuracy: 0.9672\n",
      "\n"
     ]
    },
    {
     "name": "stdout",
     "output_type": "stream",
     "text": [
      "Epoch 120, Loss 0.0265\n",
      "Training Accuracy: 0.9701, Testing Accuracy: 0.9682\n",
      "\n"
     ]
    },
    {
     "name": "stdout",
     "output_type": "stream",
     "text": [
      "Epoch 130, Loss 0.0257\n",
      "Training Accuracy: 0.9710, Testing Accuracy: 0.9672\n",
      "\n"
     ]
    },
    {
     "name": "stdout",
     "output_type": "stream",
     "text": [
      "Epoch 140, Loss 0.025\n",
      "Training Accuracy: 0.9715, Testing Accuracy: 0.9682\n",
      "\n"
     ]
    },
    {
     "name": "stdout",
     "output_type": "stream",
     "text": [
      "Epoch 150, Loss 0.0243\n",
      "Training Accuracy: 0.9721, Testing Accuracy: 0.9688\n",
      "\n"
     ]
    },
    {
     "name": "stdout",
     "output_type": "stream",
     "text": [
      "Epoch 160, Loss 0.0238\n",
      "Training Accuracy: 0.9730, Testing Accuracy: 0.9688\n",
      "\n"
     ]
    },
    {
     "name": "stdout",
     "output_type": "stream",
     "text": [
      "Epoch 170, Loss 0.0232\n",
      "Training Accuracy: 0.9734, Testing Accuracy: 0.9688\n",
      "\n"
     ]
    },
    {
     "name": "stdout",
     "output_type": "stream",
     "text": [
      "Epoch 180, Loss 0.0227\n",
      "Training Accuracy: 0.9743, Testing Accuracy: 0.9688\n",
      "\n"
     ]
    },
    {
     "name": "stdout",
     "output_type": "stream",
     "text": [
      "Epoch 190, Loss 0.0222\n",
      "Training Accuracy: 0.9750, Testing Accuracy: 0.9703\n",
      "\n"
     ]
    },
    {
     "name": "stdout",
     "output_type": "stream",
     "text": [
      "Epoch 200, Loss 0.0217\n",
      "Training Accuracy: 0.9755, Testing Accuracy: 0.9698\n",
      "\n"
     ]
    },
    {
     "name": "stdout",
     "output_type": "stream",
     "text": [
      "Epoch 210, Loss 0.0212\n",
      "Training Accuracy: 0.9758, Testing Accuracy: 0.9703\n",
      "\n"
     ]
    },
    {
     "name": "stdout",
     "output_type": "stream",
     "text": [
      "Epoch 220, Loss 0.0208\n",
      "Training Accuracy: 0.9763, Testing Accuracy: 0.9713\n",
      "\n"
     ]
    },
    {
     "name": "stdout",
     "output_type": "stream",
     "text": [
      "Epoch 230, Loss 0.0204\n",
      "Training Accuracy: 0.9769, Testing Accuracy: 0.9713\n",
      "\n"
     ]
    },
    {
     "name": "stdout",
     "output_type": "stream",
     "text": [
      "Epoch 240, Loss 0.02\n",
      "Training Accuracy: 0.9770, Testing Accuracy: 0.9713\n",
      "\n"
     ]
    },
    {
     "data": {
      "text/plain": [
       "0.03290895335443611"
      ]
     },
     "execution_count": 22,
     "metadata": {},
     "output_type": "execute_result"
    }
   ],
   "source": [
    "nn_learner.train_loop(dl)"
   ]
  },
  {
   "cell_type": "code",
   "execution_count": 23,
   "id": "e0163366",
   "metadata": {
    "execution": {
     "iopub.execute_input": "2022-03-14T20:13:01.000329Z",
     "iopub.status.busy": "2022-03-14T20:13:00.996592Z",
     "iopub.status.idle": "2022-03-14T20:13:22.111873Z",
     "shell.execute_reply": "2022-03-14T20:13:22.112817Z"
    },
    "papermill": {
     "duration": 21.164381,
     "end_time": "2022-03-14T20:13:22.113009",
     "exception": false,
     "start_time": "2022-03-14T20:13:00.948628",
     "status": "completed"
    },
    "tags": []
   },
   "outputs": [
    {
     "name": "stdout",
     "output_type": "stream",
     "text": [
      "Epoch 0, Loss 0.2394\n",
      "Training Accuracy: 0.6763, Testing Accuracy: 0.6754\n",
      "\n"
     ]
    },
    {
     "name": "stdout",
     "output_type": "stream",
     "text": [
      "Epoch 10, Loss 0.1052\n",
      "Training Accuracy: 0.9037, Testing Accuracy: 0.9168\n",
      "\n"
     ]
    },
    {
     "name": "stdout",
     "output_type": "stream",
     "text": [
      "Epoch 20, Loss 0.0802\n",
      "Training Accuracy: 0.9253, Testing Accuracy: 0.9370\n",
      "\n"
     ]
    },
    {
     "name": "stdout",
     "output_type": "stream",
     "text": [
      "Epoch 30, Loss 0.0687\n",
      "Training Accuracy: 0.9353, Testing Accuracy: 0.9430\n",
      "\n"
     ]
    },
    {
     "name": "stdout",
     "output_type": "stream",
     "text": [
      "Epoch 40, Loss 0.0619\n",
      "Training Accuracy: 0.9408, Testing Accuracy: 0.9486\n",
      "\n"
     ]
    },
    {
     "name": "stdout",
     "output_type": "stream",
     "text": [
      "Epoch 50, Loss 0.0573\n",
      "Training Accuracy: 0.9438, Testing Accuracy: 0.9531\n",
      "\n"
     ]
    },
    {
     "name": "stdout",
     "output_type": "stream",
     "text": [
      "Epoch 60, Loss 0.0539\n",
      "Training Accuracy: 0.9458, Testing Accuracy: 0.9582\n",
      "\n"
     ]
    },
    {
     "name": "stdout",
     "output_type": "stream",
     "text": [
      "Epoch 70, Loss 0.0513\n",
      "Training Accuracy: 0.9489, Testing Accuracy: 0.9587\n",
      "\n"
     ]
    },
    {
     "name": "stdout",
     "output_type": "stream",
     "text": [
      "Epoch 80, Loss 0.0492\n",
      "Training Accuracy: 0.9504, Testing Accuracy: 0.9602\n",
      "\n"
     ]
    },
    {
     "name": "stdout",
     "output_type": "stream",
     "text": [
      "Epoch 90, Loss 0.0475\n",
      "Training Accuracy: 0.9514, Testing Accuracy: 0.9597\n",
      "\n"
     ]
    },
    {
     "name": "stdout",
     "output_type": "stream",
     "text": [
      "Epoch 100, Loss 0.0461\n",
      "Training Accuracy: 0.9515, Testing Accuracy: 0.9602\n",
      "\n"
     ]
    },
    {
     "name": "stdout",
     "output_type": "stream",
     "text": [
      "Epoch 110, Loss 0.0449\n",
      "Training Accuracy: 0.9524, Testing Accuracy: 0.9617\n",
      "\n"
     ]
    },
    {
     "name": "stdout",
     "output_type": "stream",
     "text": [
      "Epoch 120, Loss 0.0438\n",
      "Training Accuracy: 0.9532, Testing Accuracy: 0.9617\n",
      "\n"
     ]
    },
    {
     "name": "stdout",
     "output_type": "stream",
     "text": [
      "Epoch 130, Loss 0.0429\n",
      "Training Accuracy: 0.9540, Testing Accuracy: 0.9632\n",
      "\n"
     ]
    },
    {
     "name": "stdout",
     "output_type": "stream",
     "text": [
      "Epoch 140, Loss 0.0421\n",
      "Training Accuracy: 0.9553, Testing Accuracy: 0.9642\n",
      "\n"
     ]
    },
    {
     "name": "stdout",
     "output_type": "stream",
     "text": [
      "Epoch 150, Loss 0.0413\n",
      "Training Accuracy: 0.9559, Testing Accuracy: 0.9642\n",
      "\n"
     ]
    },
    {
     "name": "stdout",
     "output_type": "stream",
     "text": [
      "Epoch 160, Loss 0.0407\n",
      "Training Accuracy: 0.9563, Testing Accuracy: 0.9647\n",
      "\n"
     ]
    },
    {
     "name": "stdout",
     "output_type": "stream",
     "text": [
      "Epoch 170, Loss 0.0401\n",
      "Training Accuracy: 0.9572, Testing Accuracy: 0.9642\n",
      "\n"
     ]
    },
    {
     "name": "stdout",
     "output_type": "stream",
     "text": [
      "Epoch 180, Loss 0.0395\n",
      "Training Accuracy: 0.9574, Testing Accuracy: 0.9642\n",
      "\n"
     ]
    },
    {
     "name": "stdout",
     "output_type": "stream",
     "text": [
      "Epoch 190, Loss 0.039\n",
      "Training Accuracy: 0.9580, Testing Accuracy: 0.9642\n",
      "\n"
     ]
    },
    {
     "name": "stdout",
     "output_type": "stream",
     "text": [
      "Epoch 200, Loss 0.0385\n",
      "Training Accuracy: 0.9584, Testing Accuracy: 0.9652\n",
      "\n"
     ]
    },
    {
     "name": "stdout",
     "output_type": "stream",
     "text": [
      "Epoch 210, Loss 0.0381\n",
      "Training Accuracy: 0.9587, Testing Accuracy: 0.9657\n",
      "\n"
     ]
    },
    {
     "name": "stdout",
     "output_type": "stream",
     "text": [
      "Epoch 220, Loss 0.0377\n",
      "Training Accuracy: 0.9591, Testing Accuracy: 0.9657\n",
      "\n"
     ]
    },
    {
     "name": "stdout",
     "output_type": "stream",
     "text": [
      "Epoch 230, Loss 0.0373\n",
      "Training Accuracy: 0.9594, Testing Accuracy: 0.9662\n",
      "\n"
     ]
    },
    {
     "name": "stdout",
     "output_type": "stream",
     "text": [
      "Epoch 240, Loss 0.0369\n",
      "Training Accuracy: 0.9597, Testing Accuracy: 0.9662\n",
      "\n"
     ]
    },
    {
     "data": {
      "text/plain": [
       "0.03847403666827379"
      ]
     },
     "execution_count": 23,
     "metadata": {},
     "output_type": "execute_result"
    }
   ],
   "source": [
    "lr_learner.train_loop(dl)"
   ]
  },
  {
   "cell_type": "code",
   "execution_count": 24,
   "id": "ca410940",
   "metadata": {
    "execution": {
     "iopub.execute_input": "2022-03-14T20:13:22.229133Z",
     "iopub.status.busy": "2022-03-14T20:13:22.228409Z",
     "iopub.status.idle": "2022-03-14T20:13:22.548308Z",
     "shell.execute_reply": "2022-03-14T20:13:22.548875Z"
    },
    "papermill": {
     "duration": 0.380876,
     "end_time": "2022-03-14T20:13:22.549042",
     "exception": false,
     "start_time": "2022-03-14T20:13:22.168166",
     "status": "completed"
    },
    "tags": []
   },
   "outputs": [
    {
     "data": {
      "text/plain": [
       "<matplotlib.legend.Legend at 0x7f63b7398cc0>"
      ]
     },
     "execution_count": 24,
     "metadata": {},
     "output_type": "execute_result"
    },
    {
     "data": {
      "image/png": "[encoded data removed]",
      "text/plain": [
       "<Figure size 1080x720 with 1 Axes>"
      ]
     },
     "metadata": {
      "needs_background": "light"
     },
     "output_type": "display_data"
    }
   ],
   "source": [
    "#comparing the results of NN and LR\n",
    "plt.figure(figsize=(15,10))\n",
    "\n",
    "# Neural Network plots\n",
    "plt.plot(acc_nn.accuracies, 'r-', label = \"Training Accuracies - NN\")\n",
    "plt.plot(acc_nn.test_accuracies, 'g-', label = \"Testing Accuracies - NN\")\n",
    "\n",
    "# Logistic Regression plots\n",
    "plt.plot(acc_lr.accuracies, 'k-', label = \"Training Accuracies - LR\")\n",
    "plt.plot(acc_lr.test_accuracies, 'b-', label = \"Testing Accuracies - LR\")\n",
    "plt.legend()"
   ]
  },
  {
   "cell_type": "markdown",
   "id": "80dfb35c",
   "metadata": {
    "papermill": {
     "duration": 0.055823,
     "end_time": "2022-03-14T20:13:22.657754",
     "exception": false,
     "start_time": "2022-03-14T20:13:22.601931",
     "status": "completed"
    },
    "tags": []
   },
   "source": [
    "#### Plotting the outputs of this layer of the NN.\n"
   ]
  },
  {
   "cell_type": "code",
   "execution_count": 25,
   "id": "45eb2ff5",
   "metadata": {
    "execution": {
     "iopub.execute_input": "2022-03-14T20:13:22.775450Z",
     "iopub.status.busy": "2022-03-14T20:13:22.774707Z",
     "iopub.status.idle": "2022-03-14T20:13:22.804972Z",
     "shell.execute_reply": "2022-03-14T20:13:22.806074Z"
    },
    "papermill": {
     "duration": 0.094108,
     "end_time": "2022-03-14T20:13:22.806311",
     "exception": false,
     "start_time": "2022-03-14T20:13:22.712203",
     "status": "completed"
    },
    "tags": []
   },
   "outputs": [],
   "source": [
    "new_model = Model(layers[:-2])\n",
    "testing_plot = new_model(testing_data_x)"
   ]
  },
  {
   "cell_type": "code",
   "execution_count": 26,
   "id": "4c0a5485",
   "metadata": {
    "execution": {
     "iopub.execute_input": "2022-03-14T20:13:22.927375Z",
     "iopub.status.busy": "2022-03-14T20:13:22.926665Z",
     "iopub.status.idle": "2022-03-14T20:13:23.216072Z",
     "shell.execute_reply": "2022-03-14T20:13:23.215385Z"
    },
    "papermill": {
     "duration": 0.352693,
     "end_time": "2022-03-14T20:13:23.216238",
     "exception": false,
     "start_time": "2022-03-14T20:13:22.863545",
     "status": "completed"
    },
    "tags": []
   },
   "outputs": [
    {
     "data": {
      "text/plain": [
       "Text(0.5, 1.0, 'Outputs')"
      ]
     },
     "execution_count": 26,
     "metadata": {},
     "output_type": "execute_result"
    },
    {
     "data": {
      "image/png": "[encoded data removed]",
      "text/plain": [
       "<Figure size 576x504 with 1 Axes>"
      ]
     },
     "metadata": {
      "needs_background": "light"
     },
     "output_type": "display_data"
    }
   ],
   "source": [
    "# Plotting the scatter plot of points and color coding by class\n",
    "plt.figure(figsize=(8,7))\n",
    "plt.scatter(testing_plot[:,0], testing_plot[:,1], alpha = 0.1, c = y_test.ravel());\n",
    "plt.title('Outputs')"
   ]
  },
  {
   "cell_type": "markdown",
   "id": "a74fcf8f",
   "metadata": {
    "papermill": {
     "duration": 0.0627,
     "end_time": "2022-03-14T20:13:23.335887",
     "exception": false,
     "start_time": "2022-03-14T20:13:23.273187",
     "status": "completed"
    },
    "tags": []
   },
   "source": [
    "Probability contours"
   ]
  },
  {
   "cell_type": "code",
   "execution_count": 27,
   "id": "d0afc8e3",
   "metadata": {
    "execution": {
     "iopub.execute_input": "2022-03-14T20:13:23.490446Z",
     "iopub.status.busy": "2022-03-14T20:13:23.489879Z",
     "iopub.status.idle": "2022-03-14T20:13:23.503018Z",
     "shell.execute_reply": "2022-03-14T20:13:23.503738Z"
    },
    "papermill": {
     "duration": 0.075115,
     "end_time": "2022-03-14T20:13:23.503914",
     "exception": false,
     "start_time": "2022-03-14T20:13:23.428799",
     "status": "completed"
    },
    "tags": []
   },
   "outputs": [],
   "source": [
    "model_prob = Model(layers[-2:]) "
   ]
  },
  {
   "cell_type": "code",
   "execution_count": 28,
   "id": "9b96e238",
   "metadata": {
    "execution": {
     "iopub.execute_input": "2022-03-14T20:13:23.623235Z",
     "iopub.status.busy": "2022-03-14T20:13:23.622609Z",
     "iopub.status.idle": "2022-03-14T20:13:23.637194Z",
     "shell.execute_reply": "2022-03-14T20:13:23.637637Z"
    },
    "papermill": {
     "duration": 0.07709,
     "end_time": "2022-03-14T20:13:23.637782",
     "exception": false,
     "start_time": "2022-03-14T20:13:23.560692",
     "status": "completed"
    },
    "tags": []
   },
   "outputs": [],
   "source": [
    "#creating the x and y ranges according to the above generated plot.\n",
    "x_range = np.linspace(-4, 1, 100) \n",
    "y_range = np.linspace(-6, 6, 100) \n",
    "x_grid, y_grid = np.meshgrid(x_range, y_range) # x_grid and y_grig are of size 100 X 100\n",
    "\n",
    "# converting x_grid and y_grid to continuous arrays\n",
    "x_gridflat = np.ravel(x_grid)\n",
    "y_gridflat = np.ravel(y_grid)\n",
    "\n",
    "# The last layer of the current model takes two columns as input. Hence transpose of np.vstack() is required.\n",
    "X = np.vstack((x_gridflat, y_gridflat)).T\n",
    "\n",
    "prob_contour = model_prob(X).reshape(100,100) "
   ]
  },
  {
   "cell_type": "code",
   "execution_count": 29,
   "id": "da72499a",
   "metadata": {
    "execution": {
     "iopub.execute_input": "2022-03-14T20:13:23.761050Z",
     "iopub.status.busy": "2022-03-14T20:13:23.760306Z",
     "iopub.status.idle": "2022-03-14T20:13:24.106541Z",
     "shell.execute_reply": "2022-03-14T20:13:24.107056Z"
    },
    "papermill": {
     "duration": 0.408204,
     "end_time": "2022-03-14T20:13:24.107242",
     "exception": false,
     "start_time": "2022-03-14T20:13:23.699038",
     "status": "completed"
    },
    "tags": []
   },
   "outputs": [
    {
     "data": {
      "image/png": "[encoded data removed]",
      "text/plain": [
       "<Figure size 720x648 with 1 Axes>"
      ]
     },
     "metadata": {
      "needs_background": "light"
     },
     "output_type": "display_data"
    }
   ],
   "source": [
    "plt.figure(figsize=(10,9))\n",
    "plt.scatter(testing_plot[:,0], testing_plot[:,1], alpha = 0.1, c = y_test.ravel())\n",
    "contours = plt.contour(x_grid,y_grid,prob_contour)\n",
    "plt.title('Probability Contours')\n",
    "plt.clabel(contours, inline = True );"
   ]
  },
  {
   "cell_type": "code",
   "execution_count": null,
   "id": "e81b4ac7",
   "metadata": {
    "papermill": {
     "duration": 0.067746,
     "end_time": "2022-03-14T20:13:24.238498",
     "exception": false,
     "start_time": "2022-03-14T20:13:24.170752",
     "status": "completed"
    },
    "tags": []
   },
   "outputs": [],
   "source": []
  }
 ],
 "metadata": {
  "kernelspec": {
   "display_name": "Python 3",
   "language": "python",
   "name": "python3"
  },
  "language_info": {
   "codemirror_mode": {
    "name": "ipython",
    "version": 3
   },
   "file_extension": ".py",
   "mimetype": "text/x-python",
   "name": "python",
   "nbconvert_exporter": "python",
   "pygments_lexer": "ipython3",
   "version": "3.6.15"
  },
  "papermill": {
   "default_parameters": {},
   "duration": 182.208006,
   "end_time": "2022-03-14T20:13:24.720616",
   "environment_variables": {},
   "exception": null,
   "input_path": "2020-08-11-part2.ipynb",
   "output_path": "2020-08-11-part2.ipynb",
   "parameters": {},
   "start_time": "2022-03-14T20:10:22.512610",
   "version": "2.3.3"
  }
 },
 "nbformat": 4,
 "nbformat_minor": 5
}