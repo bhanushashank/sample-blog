{
 "cells": [
  {
   "cell_type": "markdown",
   "id": "98380cd3",
   "metadata": {
    "papermill": {
     "duration": 0.034932,
     "end_time": "2022-02-01T00:29:56.481318",
     "exception": false,
     "start_time": "2022-02-01T00:29:56.446386",
     "status": "completed"
    },
    "tags": []
   },
   "source": [
    "# Distinguish Your Own Digits (DYOD)"
   ]
  },
  {
   "cell_type": "markdown",
   "id": "ef31240d",
   "metadata": {
    "papermill": {
     "duration": 0.027068,
     "end_time": "2022-02-01T00:29:56.536502",
     "exception": false,
     "start_time": "2022-02-01T00:29:56.509434",
     "status": "completed"
    },
    "tags": []
   },
   "source": [
    "You are going to write a classifier that distinguishes between the number 3 and number 8."
   ]
  },
  {
   "cell_type": "code",
   "execution_count": 1,
   "id": "b15c8646",
   "metadata": {
    "execution": {
     "iopub.execute_input": "2022-02-01T00:29:56.605125Z",
     "iopub.status.busy": "2022-02-01T00:29:56.604410Z",
     "iopub.status.idle": "2022-02-01T00:29:56.616912Z",
     "shell.execute_reply": "2022-02-01T00:29:56.616322Z"
    },
    "papermill": {
     "duration": 0.05358,
     "end_time": "2022-02-01T00:29:56.617066",
     "exception": false,
     "start_time": "2022-02-01T00:29:56.563486",
     "status": "completed"
    },
    "tags": []
   },
   "outputs": [],
   "source": [
    "%load_ext autoreload\n",
    "%autoreload 2"
   ]
  },
  {
   "cell_type": "code",
   "execution_count": 2,
   "id": "22ef38dc",
   "metadata": {
    "execution": {
     "iopub.execute_input": "2022-02-01T00:29:56.678482Z",
     "iopub.status.busy": "2022-02-01T00:29:56.677848Z",
     "iopub.status.idle": "2022-02-01T00:29:57.381202Z",
     "shell.execute_reply": "2022-02-01T00:29:57.380355Z"
    },
    "papermill": {
     "duration": 0.737136,
     "end_time": "2022-02-01T00:29:57.381468",
     "exception": false,
     "start_time": "2022-02-01T00:29:56.644332",
     "status": "completed"
    },
    "tags": []
   },
   "outputs": [],
   "source": [
    "%matplotlib inline\n",
    "import numpy as np\n",
    "import matplotlib.pyplot as plt\n",
    "import pandas as pd"
   ]
  },
  {
   "cell_type": "markdown",
   "id": "ba036198",
   "metadata": {
    "papermill": {
     "duration": 0.029881,
     "end_time": "2022-02-01T00:29:57.440647",
     "exception": false,
     "start_time": "2022-02-01T00:29:57.410766",
     "status": "completed"
    },
    "tags": []
   },
   "source": [
    "From the command line run `pip install mnist`. This is a library that will help you bring down the mnist dataset. If you run this from a notebook, you need to put  `!pip install mnist` in a cell by itself."
   ]
  },
  {
   "cell_type": "code",
   "execution_count": 3,
   "id": "bb6ad8a1",
   "metadata": {
    "execution": {
     "iopub.execute_input": "2022-02-01T00:29:57.507502Z",
     "iopub.status.busy": "2022-02-01T00:29:57.506906Z",
     "iopub.status.idle": "2022-02-01T00:30:00.187550Z",
     "shell.execute_reply": "2022-02-01T00:30:00.186970Z"
    },
    "papermill": {
     "duration": 2.717519,
     "end_time": "2022-02-01T00:30:00.187684",
     "exception": false,
     "start_time": "2022-02-01T00:29:57.470165",
     "status": "completed"
    },
    "tags": []
   },
   "outputs": [
    {
     "name": "stdout",
     "output_type": "stream",
     "text": [
      "Collecting mnist\r\n"
     ]
    },
    {
     "name": "stdout",
     "output_type": "stream",
     "text": [
      "  Downloading mnist-0.2.2-py2.py3-none-any.whl (3.5 kB)\r\n",
      "Requirement already satisfied: numpy in /opt/hostedtoolcache/Python/3.6.15/x64/lib/python3.6/site-packages (from mnist) (1.19.5)\r\n"
     ]
    },
    {
     "name": "stdout",
     "output_type": "stream",
     "text": [
      "Installing collected packages: mnist\r\n"
     ]
    },
    {
     "name": "stdout",
     "output_type": "stream",
     "text": [
      "Successfully installed mnist-0.2.2\r\n"
     ]
    }
   ],
   "source": [
    "!pip install mnist"
   ]
  },
  {
   "cell_type": "markdown",
   "id": "69df9c9a",
   "metadata": {
    "papermill": {
     "duration": 0.028286,
     "end_time": "2022-02-01T00:30:00.244542",
     "exception": false,
     "start_time": "2022-02-01T00:30:00.216256",
     "status": "completed"
    },
    "tags": []
   },
   "source": [
    "## Preparing the Data"
   ]
  },
  {
   "cell_type": "code",
   "execution_count": 4,
   "id": "7f69d806",
   "metadata": {
    "execution": {
     "iopub.execute_input": "2022-02-01T00:30:00.305647Z",
     "iopub.status.busy": "2022-02-01T00:30:00.305017Z",
     "iopub.status.idle": "2022-02-01T00:30:00.323128Z",
     "shell.execute_reply": "2022-02-01T00:30:00.322570Z"
    },
    "papermill": {
     "duration": 0.050582,
     "end_time": "2022-02-01T00:30:00.323261",
     "exception": false,
     "start_time": "2022-02-01T00:30:00.272679",
     "status": "completed"
    },
    "tags": []
   },
   "outputs": [],
   "source": [
    "import mnist"
   ]
  },
  {
   "cell_type": "code",
   "execution_count": 5,
   "id": "a411e44f",
   "metadata": {
    "execution": {
     "iopub.execute_input": "2022-02-01T00:30:00.385372Z",
     "iopub.status.busy": "2022-02-01T00:30:00.383766Z",
     "iopub.status.idle": "2022-02-01T00:30:00.956690Z",
     "shell.execute_reply": "2022-02-01T00:30:00.955409Z"
    },
    "papermill": {
     "duration": 0.604815,
     "end_time": "2022-02-01T00:30:00.956837",
     "exception": false,
     "start_time": "2022-02-01T00:30:00.352022",
     "status": "completed"
    },
    "tags": []
   },
   "outputs": [],
   "source": [
    "train_images = mnist.train_images()\n",
    "train_labels = mnist.train_labels()"
   ]
  },
  {
   "cell_type": "code",
   "execution_count": 6,
   "id": "dceab3a5",
   "metadata": {
    "execution": {
     "iopub.execute_input": "2022-02-01T00:30:01.019303Z",
     "iopub.status.busy": "2022-02-01T00:30:01.017792Z",
     "iopub.status.idle": "2022-02-01T00:30:01.033252Z",
     "shell.execute_reply": "2022-02-01T00:30:01.033768Z"
    },
    "papermill": {
     "duration": 0.04853,
     "end_time": "2022-02-01T00:30:01.033918",
     "exception": false,
     "start_time": "2022-02-01T00:30:00.985388",
     "status": "completed"
    },
    "tags": []
   },
   "outputs": [
    {
     "data": {
      "text/plain": [
       "((60000, 28, 28), (60000,))"
      ]
     },
     "execution_count": 6,
     "metadata": {},
     "output_type": "execute_result"
    }
   ],
   "source": [
    "train_images.shape, train_labels.shape"
   ]
  },
  {
   "cell_type": "code",
   "execution_count": 7,
   "id": "f50dc2bb",
   "metadata": {
    "execution": {
     "iopub.execute_input": "2022-02-01T00:30:01.095125Z",
     "iopub.status.busy": "2022-02-01T00:30:01.094514Z",
     "iopub.status.idle": "2022-02-01T00:30:01.250259Z",
     "shell.execute_reply": "2022-02-01T00:30:01.249374Z"
    },
    "papermill": {
     "duration": 0.188158,
     "end_time": "2022-02-01T00:30:01.250484",
     "exception": false,
     "start_time": "2022-02-01T00:30:01.062326",
     "status": "completed"
    },
    "tags": []
   },
   "outputs": [],
   "source": [
    "test_images = mnist.test_images()\n",
    "test_labels = mnist.test_labels()"
   ]
  },
  {
   "cell_type": "code",
   "execution_count": 8,
   "id": "fc38cf1b",
   "metadata": {
    "execution": {
     "iopub.execute_input": "2022-02-01T00:30:01.315291Z",
     "iopub.status.busy": "2022-02-01T00:30:01.314667Z",
     "iopub.status.idle": "2022-02-01T00:30:01.329755Z",
     "shell.execute_reply": "2022-02-01T00:30:01.329268Z"
    },
    "papermill": {
     "duration": 0.048383,
     "end_time": "2022-02-01T00:30:01.329893",
     "exception": false,
     "start_time": "2022-02-01T00:30:01.281510",
     "status": "completed"
    },
    "tags": []
   },
   "outputs": [
    {
     "data": {
      "text/plain": [
       "((10000, 28, 28), (10000,))"
      ]
     },
     "execution_count": 8,
     "metadata": {},
     "output_type": "execute_result"
    }
   ],
   "source": [
    "test_images.shape, test_labels.shape"
   ]
  },
  {
   "cell_type": "code",
   "execution_count": 9,
   "id": "f9ed8fe0",
   "metadata": {
    "execution": {
     "iopub.execute_input": "2022-02-01T00:30:01.393369Z",
     "iopub.status.busy": "2022-02-01T00:30:01.392071Z",
     "iopub.status.idle": "2022-02-01T00:30:01.560478Z",
     "shell.execute_reply": "2022-02-01T00:30:01.559566Z"
    },
    "papermill": {
     "duration": 0.201599,
     "end_time": "2022-02-01T00:30:01.560631",
     "exception": false,
     "start_time": "2022-02-01T00:30:01.359032",
     "status": "completed"
    },
    "tags": []
   },
   "outputs": [
    {
     "name": "stdout",
     "output_type": "stream",
     "text": [
      "2\n"
     ]
    },
    {
     "data": {
      "text/plain": [
       "<matplotlib.image.AxesImage at 0x7f23c8a5dba8>"
      ]
     },
     "execution_count": 9,
     "metadata": {},
     "output_type": "execute_result"
    },
    {
     "data": {
      "image/png": "[encoded data removed]",
      "text/plain": [
       "<Figure size 432x288 with 1 Axes>"
      ]
     },
     "metadata": {
      "needs_background": "light"
     },
     "output_type": "display_data"
    }
   ],
   "source": [
    "image_index = 7776 # You may select anything up to 60,000\n",
    "print(train_labels[image_index]) \n",
    "plt.imshow(train_images[image_index], cmap='Greys')"
   ]
  },
  {
   "cell_type": "markdown",
   "id": "a8d2388d",
   "metadata": {
    "papermill": {
     "duration": 0.029801,
     "end_time": "2022-02-01T00:30:01.620697",
     "exception": false,
     "start_time": "2022-02-01T00:30:01.590896",
     "status": "completed"
    },
    "tags": []
   },
   "source": [
    "## Filter data to get 3 and 8 out"
   ]
  },
  {
   "cell_type": "code",
   "execution_count": 10,
   "id": "776f7fc7",
   "metadata": {
    "execution": {
     "iopub.execute_input": "2022-02-01T00:30:01.692659Z",
     "iopub.status.busy": "2022-02-01T00:30:01.687747Z",
     "iopub.status.idle": "2022-02-01T00:30:01.710805Z",
     "shell.execute_reply": "2022-02-01T00:30:01.710282Z"
    },
    "papermill": {
     "duration": 0.06014,
     "end_time": "2022-02-01T00:30:01.710944",
     "exception": false,
     "start_time": "2022-02-01T00:30:01.650804",
     "status": "completed"
    },
    "tags": []
   },
   "outputs": [],
   "source": [
    "train_filter = np.where((train_labels == 3 ) | (train_labels == 8))\n",
    "test_filter = np.where((test_labels == 3) | (test_labels == 8))\n",
    "X_train, y_train = train_images[train_filter], train_labels[train_filter]\n",
    "X_test, y_test = test_images[test_filter], test_labels[test_filter]"
   ]
  },
  {
   "cell_type": "markdown",
   "id": "948f0b7e",
   "metadata": {
    "papermill": {
     "duration": 0.029767,
     "end_time": "2022-02-01T00:30:01.770988",
     "exception": false,
     "start_time": "2022-02-01T00:30:01.741221",
     "status": "completed"
    },
    "tags": []
   },
   "source": [
    "We normalize the pizel values in the 0 to 1 range"
   ]
  },
  {
   "cell_type": "code",
   "execution_count": 11,
   "id": "ee4c2166",
   "metadata": {
    "execution": {
     "iopub.execute_input": "2022-02-01T00:30:01.835127Z",
     "iopub.status.busy": "2022-02-01T00:30:01.834486Z",
     "iopub.status.idle": "2022-02-01T00:30:01.890104Z",
     "shell.execute_reply": "2022-02-01T00:30:01.889533Z"
    },
    "papermill": {
     "duration": 0.08935,
     "end_time": "2022-02-01T00:30:01.890240",
     "exception": false,
     "start_time": "2022-02-01T00:30:01.800890",
     "status": "completed"
    },
    "tags": []
   },
   "outputs": [],
   "source": [
    "X_train = X_train/255.\n",
    "X_test = X_test/255."
   ]
  },
  {
   "cell_type": "markdown",
   "id": "ddcf4fab",
   "metadata": {
    "papermill": {
     "duration": 0.029927,
     "end_time": "2022-02-01T00:30:01.950358",
     "exception": false,
     "start_time": "2022-02-01T00:30:01.920431",
     "status": "completed"
    },
    "tags": []
   },
   "source": [
    "And setup the labels as 1 (when the digit is 3) and 0 (when the digit is 8)"
   ]
  },
  {
   "cell_type": "code",
   "execution_count": 12,
   "id": "7dc908f2",
   "metadata": {
    "execution": {
     "iopub.execute_input": "2022-02-01T00:30:02.015003Z",
     "iopub.status.busy": "2022-02-01T00:30:02.014366Z",
     "iopub.status.idle": "2022-02-01T00:30:02.030348Z",
     "shell.execute_reply": "2022-02-01T00:30:02.029191Z"
    },
    "papermill": {
     "duration": 0.049916,
     "end_time": "2022-02-01T00:30:02.030492",
     "exception": false,
     "start_time": "2022-02-01T00:30:01.980576",
     "status": "completed"
    },
    "tags": []
   },
   "outputs": [],
   "source": [
    "y_train = 1*(y_train==3)\n",
    "y_test = 1*(y_test==3)"
   ]
  },
  {
   "cell_type": "code",
   "execution_count": 13,
   "id": "01e4e969",
   "metadata": {
    "execution": {
     "iopub.execute_input": "2022-02-01T00:30:02.094943Z",
     "iopub.status.busy": "2022-02-01T00:30:02.094306Z",
     "iopub.status.idle": "2022-02-01T00:30:02.111801Z",
     "shell.execute_reply": "2022-02-01T00:30:02.112264Z"
    },
    "papermill": {
     "duration": 0.051708,
     "end_time": "2022-02-01T00:30:02.112427",
     "exception": false,
     "start_time": "2022-02-01T00:30:02.060719",
     "status": "completed"
    },
    "tags": []
   },
   "outputs": [
    {
     "data": {
      "text/plain": [
       "((11982, 28, 28), (1984, 28, 28))"
      ]
     },
     "execution_count": 13,
     "metadata": {},
     "output_type": "execute_result"
    }
   ],
   "source": [
    "X_train.shape, X_test.shape"
   ]
  },
  {
   "cell_type": "markdown",
   "id": "5ccf3f85",
   "metadata": {
    "papermill": {
     "duration": 0.033036,
     "end_time": "2022-02-01T00:30:02.175811",
     "exception": false,
     "start_time": "2022-02-01T00:30:02.142775",
     "status": "completed"
    },
    "tags": []
   },
   "source": [
    "We reshape the data to flatten the image pixels into a set of features or co-variates:"
   ]
  },
  {
   "cell_type": "code",
   "execution_count": 14,
   "id": "5286a4a3",
   "metadata": {
    "execution": {
     "iopub.execute_input": "2022-02-01T00:30:02.245637Z",
     "iopub.status.busy": "2022-02-01T00:30:02.240499Z",
     "iopub.status.idle": "2022-02-01T00:30:02.256680Z",
     "shell.execute_reply": "2022-02-01T00:30:02.256147Z"
    },
    "papermill": {
     "duration": 0.050605,
     "end_time": "2022-02-01T00:30:02.256821",
     "exception": false,
     "start_time": "2022-02-01T00:30:02.206216",
     "status": "completed"
    },
    "tags": []
   },
   "outputs": [
    {
     "data": {
      "text/plain": [
       "((11982, 784), (1984, 784))"
      ]
     },
     "execution_count": 14,
     "metadata": {},
     "output_type": "execute_result"
    }
   ],
   "source": [
    "X_train = X_train.reshape(X_train.shape[0], -1)\n",
    "X_test = X_test.reshape(X_test.shape[0], -1)\n",
    "X_train.shape, X_test.shape"
   ]
  },
  {
   "cell_type": "code",
   "execution_count": 15,
   "id": "73c5f88a",
   "metadata": {
    "execution": {
     "iopub.execute_input": "2022-02-01T00:30:02.323860Z",
     "iopub.status.busy": "2022-02-01T00:30:02.322588Z",
     "iopub.status.idle": "2022-02-01T00:30:02.344237Z",
     "shell.execute_reply": "2022-02-01T00:30:02.344768Z"
    },
    "papermill": {
     "duration": 0.057389,
     "end_time": "2022-02-01T00:30:02.344940",
     "exception": false,
     "start_time": "2022-02-01T00:30:02.287551",
     "status": "completed"
    },
    "tags": []
   },
   "outputs": [],
   "source": [
    "#Impoting functions from 'Kudzu'\n",
    "from kudzu.model import Model\n",
    "from kudzu.train import Learner\n",
    "from kudzu.optim import GD\n",
    "from kudzu.data import Data, Sampler,Dataloader\n",
    "\n",
    "from kudzu.callbacks import AccCallback\n",
    "from kudzu.callbacks import ClfCallback\n",
    "\n",
    "from kudzu.loss import MSE\n",
    "\n",
    "from kudzu.layer import Sigmoid,Relu\n",
    "from kudzu.layer import Affine"
   ]
  },
  {
   "cell_type": "markdown",
   "id": "bc01172a",
   "metadata": {
    "papermill": {
     "duration": 0.030501,
     "end_time": "2022-02-01T00:30:02.406293",
     "exception": false,
     "start_time": "2022-02-01T00:30:02.375792",
     "status": "completed"
    },
    "tags": []
   },
   "source": [
    "### Let us create a `Config` class, to store important parameters. \n",
    "This class essentially plays the role of a dictionary."
   ]
  },
  {
   "cell_type": "code",
   "execution_count": 16,
   "id": "978281aa",
   "metadata": {
    "execution": {
     "iopub.execute_input": "2022-02-01T00:30:02.476530Z",
     "iopub.status.busy": "2022-02-01T00:30:02.472697Z",
     "iopub.status.idle": "2022-02-01T00:30:02.490290Z",
     "shell.execute_reply": "2022-02-01T00:30:02.489793Z"
    },
    "papermill": {
     "duration": 0.053526,
     "end_time": "2022-02-01T00:30:02.490425",
     "exception": false,
     "start_time": "2022-02-01T00:30:02.436899",
     "status": "completed"
    },
    "tags": []
   },
   "outputs": [],
   "source": [
    "class Config:\n",
    "    pass\n",
    "config = Config()\n",
    "config.lr = 0.001\n",
    "config.num_epochs = 250\n",
    "config.bs = 50"
   ]
  },
  {
   "cell_type": "markdown",
   "id": "1385fa59",
   "metadata": {
    "papermill": {
     "duration": 0.030865,
     "end_time": "2022-02-01T00:30:02.552974",
     "exception": false,
     "start_time": "2022-02-01T00:30:02.522109",
     "status": "completed"
    },
    "tags": []
   },
   "source": [
    "### Running Models with the Training data\n",
    "Details about the network layers:\n",
    "- A first affine layer has 784 inputs and does 100 affine transforms. These are followed by a Relu\n",
    "- A second affine layer has 100 inputs from the 100 activations of the past layer, and does 100 affine transforms. These are followed by a Relu\n",
    "- A third affine layer has 100 activations and does 2 affine transformations to create an embedding for visualization. There is no non-linearity here.\n",
    "- A final \"logistic regression\" which has an affine transform from 2 inputs to 1 output, which is squeezed through a sigmoid.\n"
   ]
  },
  {
   "cell_type": "code",
   "execution_count": 17,
   "id": "2b9c66db",
   "metadata": {
    "execution": {
     "iopub.execute_input": "2022-02-01T00:30:02.619643Z",
     "iopub.status.busy": "2022-02-01T00:30:02.618992Z",
     "iopub.status.idle": "2022-02-01T00:30:02.635370Z",
     "shell.execute_reply": "2022-02-01T00:30:02.634235Z"
    },
    "papermill": {
     "duration": 0.05194,
     "end_time": "2022-02-01T00:30:02.635510",
     "exception": false,
     "start_time": "2022-02-01T00:30:02.583570",
     "status": "completed"
    },
    "tags": []
   },
   "outputs": [],
   "source": [
    "data = Data(X_train, y_train.reshape(-1,1))\n",
    "sampler = Sampler(data, config.bs, shuffle=True)\n",
    "\n",
    "dl = Dataloader(data, sampler)\n",
    "\n",
    "opt = GD(config.lr)\n",
    "loss = MSE()"
   ]
  },
  {
   "cell_type": "code",
   "execution_count": 18,
   "id": "b275e4c2",
   "metadata": {
    "execution": {
     "iopub.execute_input": "2022-02-01T00:30:02.701963Z",
     "iopub.status.busy": "2022-02-01T00:30:02.701323Z",
     "iopub.status.idle": "2022-02-01T00:30:02.718884Z",
     "shell.execute_reply": "2022-02-01T00:30:02.718370Z"
    },
    "papermill": {
     "duration": 0.052698,
     "end_time": "2022-02-01T00:30:02.719019",
     "exception": false,
     "start_time": "2022-02-01T00:30:02.666321",
     "status": "completed"
    },
    "tags": []
   },
   "outputs": [],
   "source": [
    "training_data_x = X_train\n",
    "testing_data_x = X_test\n",
    "training_data_y = y_train.reshape(-1,1)\n",
    "testing_data_y = y_test.reshape(-1,1)"
   ]
  },
  {
   "cell_type": "code",
   "execution_count": 19,
   "id": "76951160",
   "metadata": {
    "execution": {
     "iopub.execute_input": "2022-02-01T00:30:02.789419Z",
     "iopub.status.busy": "2022-02-01T00:30:02.788494Z",
     "iopub.status.idle": "2022-02-01T00:30:02.806895Z",
     "shell.execute_reply": "2022-02-01T00:30:02.807362Z"
    },
    "papermill": {
     "duration": 0.057863,
     "end_time": "2022-02-01T00:30:02.807524",
     "exception": false,
     "start_time": "2022-02-01T00:30:02.749661",
     "status": "completed"
    },
    "tags": []
   },
   "outputs": [
    {
     "name": "stdout",
     "output_type": "stream",
     "text": [
      "xavier\n",
      "xavier\n",
      "xavier\n",
      "xavier\n",
      "xavier\n"
     ]
    }
   ],
   "source": [
    "layers = [Affine(\"first\", 784, 100), Relu(\"first\"), Affine(\"second\", 100, 100), Relu(\"second\"), Affine(\"third\", 100, 2), Affine(\"last\", 2, 1), Sigmoid(\"last\")]\n",
    "model_nn = Model(layers)\n",
    "model_lr = Model([Affine(\"logits\", 784, 1), Sigmoid(\"sigmoid\")])"
   ]
  },
  {
   "cell_type": "code",
   "execution_count": 20,
   "id": "6eede77a",
   "metadata": {
    "execution": {
     "iopub.execute_input": "2022-02-01T00:30:02.874824Z",
     "iopub.status.busy": "2022-02-01T00:30:02.874212Z",
     "iopub.status.idle": "2022-02-01T00:30:02.888259Z",
     "shell.execute_reply": "2022-02-01T00:30:02.887701Z"
    },
    "papermill": {
     "duration": 0.049645,
     "end_time": "2022-02-01T00:30:02.888391",
     "exception": false,
     "start_time": "2022-02-01T00:30:02.838746",
     "status": "completed"
    },
    "tags": []
   },
   "outputs": [],
   "source": [
    "nn_learner = Learner(loss, model_nn, opt, config.num_epochs)\n",
    "acc_nn = ClfCallback(nn_learner, config.bs, training_data_x , testing_data_x, training_data_y, testing_data_y)\n",
    "nn_learner.set_callbacks([acc_nn])"
   ]
  },
  {
   "cell_type": "code",
   "execution_count": 21,
   "id": "877b6cc7",
   "metadata": {
    "execution": {
     "iopub.execute_input": "2022-02-01T00:30:02.956770Z",
     "iopub.status.busy": "2022-02-01T00:30:02.956057Z",
     "iopub.status.idle": "2022-02-01T00:30:02.970611Z",
     "shell.execute_reply": "2022-02-01T00:30:02.970083Z"
    },
    "papermill": {
     "duration": 0.051354,
     "end_time": "2022-02-01T00:30:02.970750",
     "exception": false,
     "start_time": "2022-02-01T00:30:02.919396",
     "status": "completed"
    },
    "tags": []
   },
   "outputs": [],
   "source": [
    "lr_learner = Learner(loss, model_lr, opt, config.num_epochs)\n",
    "acc_lr = ClfCallback(lr_learner, config.bs, training_data_x , testing_data_x, training_data_y, testing_data_y)\n",
    "lr_learner.set_callbacks([acc_lr])"
   ]
  },
  {
   "cell_type": "code",
   "execution_count": 22,
   "id": "d9b133c3",
   "metadata": {
    "execution": {
     "iopub.execute_input": "2022-02-01T00:30:03.038315Z",
     "iopub.status.busy": "2022-02-01T00:30:03.037671Z",
     "iopub.status.idle": "2022-02-01T00:31:36.801281Z",
     "shell.execute_reply": "2022-02-01T00:31:36.801861Z"
    },
    "papermill": {
     "duration": 93.799845,
     "end_time": "2022-02-01T00:31:36.802016",
     "exception": false,
     "start_time": "2022-02-01T00:30:03.002171",
     "status": "completed"
    },
    "tags": []
   },
   "outputs": [
    {
     "name": "stdout",
     "output_type": "stream",
     "text": [
      "Epoch 0, Loss 0.259\n",
      "Training Accuracy: 0.6874, Testing Accuracy: 0.6845\n",
      "\n"
     ]
    },
    {
     "name": "stdout",
     "output_type": "stream",
     "text": [
      "Epoch 10, Loss 0.0633\n",
      "Training Accuracy: 0.9389, Testing Accuracy: 0.9501\n",
      "\n"
     ]
    },
    {
     "name": "stdout",
     "output_type": "stream",
     "text": [
      "Epoch 20, Loss 0.0425\n",
      "Training Accuracy: 0.9560, Testing Accuracy: 0.9657\n",
      "\n"
     ]
    },
    {
     "name": "stdout",
     "output_type": "stream",
     "text": [
      "Epoch 30, Loss 0.0352\n",
      "Training Accuracy: 0.9620, Testing Accuracy: 0.9682\n",
      "\n"
     ]
    },
    {
     "name": "stdout",
     "output_type": "stream",
     "text": [
      "Epoch 40, Loss 0.0313\n",
      "Training Accuracy: 0.9649, Testing Accuracy: 0.9682\n",
      "\n"
     ]
    },
    {
     "name": "stdout",
     "output_type": "stream",
     "text": [
      "Epoch 50, Loss 0.0289\n",
      "Training Accuracy: 0.9672, Testing Accuracy: 0.9693\n",
      "\n"
     ]
    },
    {
     "name": "stdout",
     "output_type": "stream",
     "text": [
      "Epoch 60, Loss 0.0271\n",
      "Training Accuracy: 0.9689, Testing Accuracy: 0.9703\n",
      "\n"
     ]
    },
    {
     "name": "stdout",
     "output_type": "stream",
     "text": [
      "Epoch 70, Loss 0.0256\n",
      "Training Accuracy: 0.9704, Testing Accuracy: 0.9708\n",
      "\n"
     ]
    },
    {
     "name": "stdout",
     "output_type": "stream",
     "text": [
      "Epoch 80, Loss 0.0245\n",
      "Training Accuracy: 0.9714, Testing Accuracy: 0.9718\n",
      "\n"
     ]
    },
    {
     "name": "stdout",
     "output_type": "stream",
     "text": [
      "Epoch 90, Loss 0.0235\n",
      "Training Accuracy: 0.9724, Testing Accuracy: 0.9713\n",
      "\n"
     ]
    },
    {
     "name": "stdout",
     "output_type": "stream",
     "text": [
      "Epoch 100, Loss 0.0227\n",
      "Training Accuracy: 0.9736, Testing Accuracy: 0.9723\n",
      "\n"
     ]
    },
    {
     "name": "stdout",
     "output_type": "stream",
     "text": [
      "Epoch 110, Loss 0.0219\n",
      "Training Accuracy: 0.9748, Testing Accuracy: 0.9723\n",
      "\n"
     ]
    },
    {
     "name": "stdout",
     "output_type": "stream",
     "text": [
      "Epoch 120, Loss 0.0212\n",
      "Training Accuracy: 0.9755, Testing Accuracy: 0.9723\n",
      "\n"
     ]
    },
    {
     "name": "stdout",
     "output_type": "stream",
     "text": [
      "Epoch 130, Loss 0.0206\n",
      "Training Accuracy: 0.9764, Testing Accuracy: 0.9723\n",
      "\n"
     ]
    },
    {
     "name": "stdout",
     "output_type": "stream",
     "text": [
      "Epoch 140, Loss 0.02\n",
      "Training Accuracy: 0.9768, Testing Accuracy: 0.9723\n",
      "\n"
     ]
    },
    {
     "name": "stdout",
     "output_type": "stream",
     "text": [
      "Epoch 150, Loss 0.0194\n",
      "Training Accuracy: 0.9775, Testing Accuracy: 0.9728\n",
      "\n"
     ]
    },
    {
     "name": "stdout",
     "output_type": "stream",
     "text": [
      "Epoch 160, Loss 0.0189\n",
      "Training Accuracy: 0.9781, Testing Accuracy: 0.9733\n",
      "\n"
     ]
    },
    {
     "name": "stdout",
     "output_type": "stream",
     "text": [
      "Epoch 170, Loss 0.0184\n",
      "Training Accuracy: 0.9788, Testing Accuracy: 0.9733\n",
      "\n"
     ]
    },
    {
     "name": "stdout",
     "output_type": "stream",
     "text": [
      "Epoch 180, Loss 0.0179\n",
      "Training Accuracy: 0.9794, Testing Accuracy: 0.9728\n",
      "\n"
     ]
    },
    {
     "name": "stdout",
     "output_type": "stream",
     "text": [
      "Epoch 190, Loss 0.0175\n",
      "Training Accuracy: 0.9801, Testing Accuracy: 0.9728\n",
      "\n"
     ]
    },
    {
     "name": "stdout",
     "output_type": "stream",
     "text": [
      "Epoch 200, Loss 0.017\n",
      "Training Accuracy: 0.9809, Testing Accuracy: 0.9733\n",
      "\n"
     ]
    },
    {
     "name": "stdout",
     "output_type": "stream",
     "text": [
      "Epoch 210, Loss 0.0166\n",
      "Training Accuracy: 0.9813, Testing Accuracy: 0.9733\n",
      "\n"
     ]
    },
    {
     "name": "stdout",
     "output_type": "stream",
     "text": [
      "Epoch 220, Loss 0.0162\n",
      "Training Accuracy: 0.9821, Testing Accuracy: 0.9738\n",
      "\n"
     ]
    },
    {
     "name": "stdout",
     "output_type": "stream",
     "text": [
      "Epoch 230, Loss 0.0158\n",
      "Training Accuracy: 0.9823, Testing Accuracy: 0.9738\n",
      "\n"
     ]
    },
    {
     "name": "stdout",
     "output_type": "stream",
     "text": [
      "Epoch 240, Loss 0.0154\n",
      "Training Accuracy: 0.9831, Testing Accuracy: 0.9748\n",
      "\n"
     ]
    },
    {
     "data": {
      "text/plain": [
       "0.010704161158306325"
      ]
     },
     "execution_count": 22,
     "metadata": {},
     "output_type": "execute_result"
    }
   ],
   "source": [
    "nn_learner.train_loop(dl)"
   ]
  },
  {
   "cell_type": "code",
   "execution_count": 23,
   "id": "e0163366",
   "metadata": {
    "execution": {
     "iopub.execute_input": "2022-02-01T00:31:36.890384Z",
     "iopub.status.busy": "2022-02-01T00:31:36.889757Z",
     "iopub.status.idle": "2022-02-01T00:31:53.490156Z",
     "shell.execute_reply": "2022-02-01T00:31:53.491032Z"
    },
    "papermill": {
     "duration": 16.650428,
     "end_time": "2022-02-01T00:31:53.491203",
     "exception": false,
     "start_time": "2022-02-01T00:31:36.840775",
     "status": "completed"
    },
    "tags": []
   },
   "outputs": [
    {
     "name": "stdout",
     "output_type": "stream",
     "text": [
      "Epoch 0, Loss 0.2555\n",
      "Training Accuracy: 0.6204, Testing Accuracy: 0.6074\n",
      "\n"
     ]
    },
    {
     "name": "stdout",
     "output_type": "stream",
     "text": [
      "Epoch 10, Loss 0.1047\n",
      "Training Accuracy: 0.9064, Testing Accuracy: 0.9219\n",
      "\n"
     ]
    },
    {
     "name": "stdout",
     "output_type": "stream",
     "text": [
      "Epoch 20, Loss 0.0798\n",
      "Training Accuracy: 0.9244, Testing Accuracy: 0.9415\n",
      "\n"
     ]
    },
    {
     "name": "stdout",
     "output_type": "stream",
     "text": [
      "Epoch 30, Loss 0.0686\n",
      "Training Accuracy: 0.9348, Testing Accuracy: 0.9496\n",
      "\n"
     ]
    },
    {
     "name": "stdout",
     "output_type": "stream",
     "text": [
      "Epoch 40, Loss 0.0619\n",
      "Training Accuracy: 0.9421, Testing Accuracy: 0.9551\n",
      "\n"
     ]
    },
    {
     "name": "stdout",
     "output_type": "stream",
     "text": [
      "Epoch 50, Loss 0.0573\n",
      "Training Accuracy: 0.9455, Testing Accuracy: 0.9587\n",
      "\n"
     ]
    },
    {
     "name": "stdout",
     "output_type": "stream",
     "text": [
      "Epoch 60, Loss 0.0539\n",
      "Training Accuracy: 0.9480, Testing Accuracy: 0.9592\n",
      "\n"
     ]
    },
    {
     "name": "stdout",
     "output_type": "stream",
     "text": [
      "Epoch 70, Loss 0.0513\n",
      "Training Accuracy: 0.9498, Testing Accuracy: 0.9607\n",
      "\n"
     ]
    },
    {
     "name": "stdout",
     "output_type": "stream",
     "text": [
      "Epoch 80, Loss 0.0492\n",
      "Training Accuracy: 0.9512, Testing Accuracy: 0.9612\n",
      "\n"
     ]
    },
    {
     "name": "stdout",
     "output_type": "stream",
     "text": [
      "Epoch 90, Loss 0.0475\n",
      "Training Accuracy: 0.9523, Testing Accuracy: 0.9617\n",
      "\n"
     ]
    },
    {
     "name": "stdout",
     "output_type": "stream",
     "text": [
      "Epoch 100, Loss 0.0461\n",
      "Training Accuracy: 0.9542, Testing Accuracy: 0.9642\n",
      "\n"
     ]
    },
    {
     "name": "stdout",
     "output_type": "stream",
     "text": [
      "Epoch 110, Loss 0.0449\n",
      "Training Accuracy: 0.9545, Testing Accuracy: 0.9657\n",
      "\n"
     ]
    },
    {
     "name": "stdout",
     "output_type": "stream",
     "text": [
      "Epoch 120, Loss 0.0438\n",
      "Training Accuracy: 0.9550, Testing Accuracy: 0.9662\n",
      "\n"
     ]
    },
    {
     "name": "stdout",
     "output_type": "stream",
     "text": [
      "Epoch 130, Loss 0.0428\n",
      "Training Accuracy: 0.9559, Testing Accuracy: 0.9667\n",
      "\n"
     ]
    },
    {
     "name": "stdout",
     "output_type": "stream",
     "text": [
      "Epoch 140, Loss 0.042\n",
      "Training Accuracy: 0.9565, Testing Accuracy: 0.9677\n",
      "\n"
     ]
    },
    {
     "name": "stdout",
     "output_type": "stream",
     "text": [
      "Epoch 150, Loss 0.0413\n",
      "Training Accuracy: 0.9568, Testing Accuracy: 0.9677\n",
      "\n"
     ]
    },
    {
     "name": "stdout",
     "output_type": "stream",
     "text": [
      "Epoch 160, Loss 0.0406\n",
      "Training Accuracy: 0.9570, Testing Accuracy: 0.9677\n",
      "\n"
     ]
    },
    {
     "name": "stdout",
     "output_type": "stream",
     "text": [
      "Epoch 170, Loss 0.04\n",
      "Training Accuracy: 0.9574, Testing Accuracy: 0.9682\n",
      "\n"
     ]
    },
    {
     "name": "stdout",
     "output_type": "stream",
     "text": [
      "Epoch 180, Loss 0.0394\n",
      "Training Accuracy: 0.9580, Testing Accuracy: 0.9682\n",
      "\n"
     ]
    },
    {
     "name": "stdout",
     "output_type": "stream",
     "text": [
      "Epoch 190, Loss 0.0389\n",
      "Training Accuracy: 0.9583, Testing Accuracy: 0.9688\n",
      "\n"
     ]
    },
    {
     "name": "stdout",
     "output_type": "stream",
     "text": [
      "Epoch 200, Loss 0.0384\n",
      "Training Accuracy: 0.9584, Testing Accuracy: 0.9682\n",
      "\n"
     ]
    },
    {
     "name": "stdout",
     "output_type": "stream",
     "text": [
      "Epoch 210, Loss 0.038\n",
      "Training Accuracy: 0.9585, Testing Accuracy: 0.9682\n",
      "\n"
     ]
    },
    {
     "name": "stdout",
     "output_type": "stream",
     "text": [
      "Epoch 220, Loss 0.0375\n",
      "Training Accuracy: 0.9588, Testing Accuracy: 0.9688\n",
      "\n"
     ]
    },
    {
     "name": "stdout",
     "output_type": "stream",
     "text": [
      "Epoch 230, Loss 0.0372\n",
      "Training Accuracy: 0.9589, Testing Accuracy: 0.9688\n",
      "\n"
     ]
    },
    {
     "name": "stdout",
     "output_type": "stream",
     "text": [
      "Epoch 240, Loss 0.0368\n",
      "Training Accuracy: 0.9597, Testing Accuracy: 0.9688\n",
      "\n"
     ]
    },
    {
     "data": {
      "text/plain": [
       "0.013700146142007576"
      ]
     },
     "execution_count": 23,
     "metadata": {},
     "output_type": "execute_result"
    }
   ],
   "source": [
    "lr_learner.train_loop(dl)"
   ]
  },
  {
   "cell_type": "code",
   "execution_count": 24,
   "id": "ca410940",
   "metadata": {
    "execution": {
     "iopub.execute_input": "2022-02-01T00:31:53.594474Z",
     "iopub.status.busy": "2022-02-01T00:31:53.593825Z",
     "iopub.status.idle": "2022-02-01T00:31:53.875921Z",
     "shell.execute_reply": "2022-02-01T00:31:53.875393Z"
    },
    "papermill": {
     "duration": 0.338099,
     "end_time": "2022-02-01T00:31:53.876062",
     "exception": false,
     "start_time": "2022-02-01T00:31:53.537963",
     "status": "completed"
    },
    "tags": []
   },
   "outputs": [
    {
     "data": {
      "text/plain": [
       "<matplotlib.legend.Legend at 0x7f23c85cd320>"
      ]
     },
     "execution_count": 24,
     "metadata": {},
     "output_type": "execute_result"
    },
    {
     "data": {
      "image/png": "[encoded data removed]",
      "text/plain": [
       "<Figure size 1080x720 with 1 Axes>"
      ]
     },
     "metadata": {
      "needs_background": "light"
     },
     "output_type": "display_data"
    }
   ],
   "source": [
    "#comparing the results of NN and LR\n",
    "plt.figure(figsize=(15,10))\n",
    "\n",
    "# Neural Network plots\n",
    "plt.plot(acc_nn.accuracies, 'r-', label = \"Training Accuracies - NN\")\n",
    "plt.plot(acc_nn.test_accuracies, 'g-', label = \"Testing Accuracies - NN\")\n",
    "\n",
    "# Logistic Regression plots\n",
    "plt.plot(acc_lr.accuracies, 'k-', label = \"Training Accuracies - LR\")\n",
    "plt.plot(acc_lr.test_accuracies, 'b-', label = \"Testing Accuracies - LR\")\n",
    "plt.legend()"
   ]
  },
  {
   "cell_type": "markdown",
   "id": "80dfb35c",
   "metadata": {
    "papermill": {
     "duration": 0.048048,
     "end_time": "2022-02-01T00:31:53.974233",
     "exception": false,
     "start_time": "2022-02-01T00:31:53.926185",
     "status": "completed"
    },
    "tags": []
   },
   "source": [
    "#### Plotting the outputs of this layer of the NN.\n"
   ]
  },
  {
   "cell_type": "code",
   "execution_count": 25,
   "id": "45eb2ff5",
   "metadata": {
    "execution": {
     "iopub.execute_input": "2022-02-01T00:31:54.075284Z",
     "iopub.status.busy": "2022-02-01T00:31:54.074045Z",
     "iopub.status.idle": "2022-02-01T00:31:54.099329Z",
     "shell.execute_reply": "2022-02-01T00:31:54.099881Z"
    },
    "papermill": {
     "duration": 0.078094,
     "end_time": "2022-02-01T00:31:54.100048",
     "exception": false,
     "start_time": "2022-02-01T00:31:54.021954",
     "status": "completed"
    },
    "tags": []
   },
   "outputs": [],
   "source": [
    "new_model = Model(layers[:-2])\n",
    "testing_plot = new_model(testing_data_x)"
   ]
  },
  {
   "cell_type": "code",
   "execution_count": 26,
   "id": "4c0a5485",
   "metadata": {
    "execution": {
     "iopub.execute_input": "2022-02-01T00:31:54.203932Z",
     "iopub.status.busy": "2022-02-01T00:31:54.203286Z",
     "iopub.status.idle": "2022-02-01T00:31:54.431791Z",
     "shell.execute_reply": "2022-02-01T00:31:54.431282Z"
    },
    "papermill": {
     "duration": 0.283371,
     "end_time": "2022-02-01T00:31:54.431928",
     "exception": false,
     "start_time": "2022-02-01T00:31:54.148557",
     "status": "completed"
    },
    "tags": []
   },
   "outputs": [
    {
     "data": {
      "text/plain": [
       "Text(0.5, 1.0, 'Outputs')"
      ]
     },
     "execution_count": 26,
     "metadata": {},
     "output_type": "execute_result"
    },
    {
     "data": {
      "image/png": "[encoded data removed]",
      "text/plain": [
       "<Figure size 576x504 with 1 Axes>"
      ]
     },
     "metadata": {
      "needs_background": "light"
     },
     "output_type": "display_data"
    }
   ],
   "source": [
    "# Plotting the scatter plot of points and color coding by class\n",
    "plt.figure(figsize=(8,7))\n",
    "plt.scatter(testing_plot[:,0], testing_plot[:,1], alpha = 0.1, c = y_test.ravel());\n",
    "plt.title('Outputs')"
   ]
  },
  {
   "cell_type": "markdown",
   "id": "a74fcf8f",
   "metadata": {
    "papermill": {
     "duration": 0.050442,
     "end_time": "2022-02-01T00:31:54.533302",
     "exception": false,
     "start_time": "2022-02-01T00:31:54.482860",
     "status": "completed"
    },
    "tags": []
   },
   "source": [
    "Probability contours"
   ]
  },
  {
   "cell_type": "code",
   "execution_count": 27,
   "id": "d0afc8e3",
   "metadata": {
    "execution": {
     "iopub.execute_input": "2022-02-01T00:31:54.640750Z",
     "iopub.status.busy": "2022-02-01T00:31:54.639615Z",
     "iopub.status.idle": "2022-02-01T00:31:54.652995Z",
     "shell.execute_reply": "2022-02-01T00:31:54.652362Z"
    },
    "papermill": {
     "duration": 0.068674,
     "end_time": "2022-02-01T00:31:54.653131",
     "exception": false,
     "start_time": "2022-02-01T00:31:54.584457",
     "status": "completed"
    },
    "tags": []
   },
   "outputs": [],
   "source": [
    "model_prob = Model(layers[-2:]) "
   ]
  },
  {
   "cell_type": "code",
   "execution_count": 28,
   "id": "9b96e238",
   "metadata": {
    "execution": {
     "iopub.execute_input": "2022-02-01T00:31:54.793327Z",
     "iopub.status.busy": "2022-02-01T00:31:54.792599Z",
     "iopub.status.idle": "2022-02-01T00:31:54.809952Z",
     "shell.execute_reply": "2022-02-01T00:31:54.810414Z"
    },
    "papermill": {
     "duration": 0.073995,
     "end_time": "2022-02-01T00:31:54.810571",
     "exception": false,
     "start_time": "2022-02-01T00:31:54.736576",
     "status": "completed"
    },
    "tags": []
   },
   "outputs": [],
   "source": [
    "#creating the x and y ranges according to the above generated plot.\n",
    "x_range = np.linspace(-4, 1, 100) \n",
    "y_range = np.linspace(-6, 6, 100) \n",
    "x_grid, y_grid = np.meshgrid(x_range, y_range) # x_grid and y_grig are of size 100 X 100\n",
    "\n",
    "# converting x_grid and y_grid to continuous arrays\n",
    "x_gridflat = np.ravel(x_grid)\n",
    "y_gridflat = np.ravel(y_grid)\n",
    "\n",
    "# The last layer of the current model takes two columns as input. Hence transpose of np.vstack() is required.\n",
    "X = np.vstack((x_gridflat, y_gridflat)).T\n",
    "\n",
    "prob_contour = model_prob(X).reshape(100,100) "
   ]
  },
  {
   "cell_type": "code",
   "execution_count": 29,
   "id": "da72499a",
   "metadata": {
    "execution": {
     "iopub.execute_input": "2022-02-01T00:31:54.917912Z",
     "iopub.status.busy": "2022-02-01T00:31:54.917283Z",
     "iopub.status.idle": "2022-02-01T00:31:55.213093Z",
     "shell.execute_reply": "2022-02-01T00:31:55.213697Z"
    },
    "papermill": {
     "duration": 0.352438,
     "end_time": "2022-02-01T00:31:55.213896",
     "exception": false,
     "start_time": "2022-02-01T00:31:54.861458",
     "status": "completed"
    },
    "tags": []
   },
   "outputs": [
    {
     "data": {
      "image/png": "[encoded data removed]",
      "text/plain": [
       "<Figure size 720x648 with 1 Axes>"
      ]
     },
     "metadata": {
      "needs_background": "light"
     },
     "output_type": "display_data"
    }
   ],
   "source": [
    "plt.figure(figsize=(10,9))\n",
    "plt.scatter(testing_plot[:,0], testing_plot[:,1], alpha = 0.1, c = y_test.ravel())\n",
    "contours = plt.contour(x_grid,y_grid,prob_contour)\n",
    "plt.title('Probability Contours')\n",
    "plt.clabel(contours, inline = True );"
   ]
  },
  {
   "cell_type": "code",
   "execution_count": null,
   "id": "e81b4ac7",
   "metadata": {
    "papermill": {
     "duration": 0.053847,
     "end_time": "2022-02-01T00:31:55.322987",
     "exception": false,
     "start_time": "2022-02-01T00:31:55.269140",
     "status": "completed"
    },
    "tags": []
   },
   "outputs": [],
   "source": []
  }
 ],
 "metadata": {
  "kernelspec": {
   "display_name": "Python 3",
   "language": "python",
   "name": "python3"
  },
  "language_info": {
   "codemirror_mode": {
    "name": "ipython",
    "version": 3
   },
   "file_extension": ".py",
   "mimetype": "text/x-python",
   "name": "python",
   "nbconvert_exporter": "python",
   "pygments_lexer": "ipython3",
   "version": "3.6.15"
  },
  "papermill": {
   "default_parameters": {},
   "duration": 120.652709,
   "end_time": "2022-02-01T00:31:55.798061",
   "environment_variables": {},
   "exception": null,
   "input_path": "2020-08-11-part2.ipynb",
   "output_path": "2020-08-11-part2.ipynb",
   "parameters": {},
   "start_time": "2022-02-01T00:29:55.145352",
   "version": "2.3.3"
  }
 },
 "nbformat": 4,
 "nbformat_minor": 5
}