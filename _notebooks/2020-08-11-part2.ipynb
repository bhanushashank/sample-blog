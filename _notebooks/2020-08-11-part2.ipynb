{
 "cells": [
  {
   "cell_type": "markdown",
   "id": "98380cd3",
   "metadata": {
    "papermill": {
     "duration": 0.039254,
     "end_time": "2021-09-23T20:07:46.525208",
     "exception": false,
     "start_time": "2021-09-23T20:07:46.485954",
     "status": "completed"
    },
    "tags": []
   },
   "source": [
    "# Distinguish Your Own Digits (DYOD)"
   ]
  },
  {
   "cell_type": "markdown",
   "id": "ef31240d",
   "metadata": {
    "papermill": {
     "duration": 0.030685,
     "end_time": "2021-09-23T20:07:46.586602",
     "exception": false,
     "start_time": "2021-09-23T20:07:46.555917",
     "status": "completed"
    },
    "tags": []
   },
   "source": [
    "You are going to write a classifier that distinguishes between the number 3 and number 8."
   ]
  },
  {
   "cell_type": "code",
   "execution_count": 1,
   "id": "b15c8646",
   "metadata": {
    "execution": {
     "iopub.execute_input": "2021-09-23T20:07:46.664422Z",
     "iopub.status.busy": "2021-09-23T20:07:46.663510Z",
     "iopub.status.idle": "2021-09-23T20:07:46.675508Z",
     "shell.execute_reply": "2021-09-23T20:07:46.676013Z"
    },
    "papermill": {
     "duration": 0.054853,
     "end_time": "2021-09-23T20:07:46.676207",
     "exception": false,
     "start_time": "2021-09-23T20:07:46.621354",
     "status": "completed"
    },
    "tags": []
   },
   "outputs": [],
   "source": [
    "%load_ext autoreload\n",
    "%autoreload 2"
   ]
  },
  {
   "cell_type": "code",
   "execution_count": 2,
   "id": "22ef38dc",
   "metadata": {
    "execution": {
     "iopub.execute_input": "2021-09-23T20:07:46.743038Z",
     "iopub.status.busy": "2021-09-23T20:07:46.742472Z",
     "iopub.status.idle": "2021-09-23T20:07:47.349974Z",
     "shell.execute_reply": "2021-09-23T20:07:47.350623Z"
    },
    "papermill": {
     "duration": 0.644849,
     "end_time": "2021-09-23T20:07:47.350778",
     "exception": false,
     "start_time": "2021-09-23T20:07:46.705929",
     "status": "completed"
    },
    "tags": []
   },
   "outputs": [],
   "source": [
    "%matplotlib inline\n",
    "import numpy as np\n",
    "import matplotlib.pyplot as plt\n",
    "import pandas as pd"
   ]
  },
  {
   "cell_type": "markdown",
   "id": "ba036198",
   "metadata": {
    "papermill": {
     "duration": 0.032457,
     "end_time": "2021-09-23T20:07:47.415621",
     "exception": false,
     "start_time": "2021-09-23T20:07:47.383164",
     "status": "completed"
    },
    "tags": []
   },
   "source": [
    "From the command line run `pip install mnist`. This is a library that will help you bring down the mnist dataset. If you run this from a notebook, you need to put  `!pip install mnist` in a cell by itself."
   ]
  },
  {
   "cell_type": "code",
   "execution_count": 3,
   "id": "bb6ad8a1",
   "metadata": {
    "execution": {
     "iopub.execute_input": "2021-09-23T20:07:47.485982Z",
     "iopub.status.busy": "2021-09-23T20:07:47.485212Z",
     "iopub.status.idle": "2021-09-23T20:07:49.479672Z",
     "shell.execute_reply": "2021-09-23T20:07:49.479044Z"
    },
    "papermill": {
     "duration": 2.03113,
     "end_time": "2021-09-23T20:07:49.479830",
     "exception": false,
     "start_time": "2021-09-23T20:07:47.448700",
     "status": "completed"
    },
    "tags": []
   },
   "outputs": [
    {
     "name": "stdout",
     "output_type": "stream",
     "text": [
      "Collecting mnist\r\n"
     ]
    },
    {
     "name": "stdout",
     "output_type": "stream",
     "text": [
      "  Downloading mnist-0.2.2-py2.py3-none-any.whl (3.5 kB)\r\n"
     ]
    },
    {
     "name": "stdout",
     "output_type": "stream",
     "text": [
      "Requirement already satisfied: numpy in /opt/hostedtoolcache/Python/3.6.15/x64/lib/python3.6/site-packages (from mnist) (1.19.5)\r\n"
     ]
    },
    {
     "name": "stdout",
     "output_type": "stream",
     "text": [
      "Installing collected packages: mnist\r\n"
     ]
    },
    {
     "name": "stdout",
     "output_type": "stream",
     "text": [
      "Successfully installed mnist-0.2.2\r\n"
     ]
    }
   ],
   "source": [
    "!pip install mnist"
   ]
  },
  {
   "cell_type": "markdown",
   "id": "69df9c9a",
   "metadata": {
    "papermill": {
     "duration": 0.029189,
     "end_time": "2021-09-23T20:07:49.539926",
     "exception": false,
     "start_time": "2021-09-23T20:07:49.510737",
     "status": "completed"
    },
    "tags": []
   },
   "source": [
    "## Preparing the Data"
   ]
  },
  {
   "cell_type": "code",
   "execution_count": 4,
   "id": "7f69d806",
   "metadata": {
    "execution": {
     "iopub.execute_input": "2021-09-23T20:07:49.620340Z",
     "iopub.status.busy": "2021-09-23T20:07:49.610093Z",
     "iopub.status.idle": "2021-09-23T20:07:49.628605Z",
     "shell.execute_reply": "2021-09-23T20:07:49.629329Z"
    },
    "papermill": {
     "duration": 0.058434,
     "end_time": "2021-09-23T20:07:49.629489",
     "exception": false,
     "start_time": "2021-09-23T20:07:49.571055",
     "status": "completed"
    },
    "tags": []
   },
   "outputs": [],
   "source": [
    "import mnist"
   ]
  },
  {
   "cell_type": "code",
   "execution_count": 5,
   "id": "a411e44f",
   "metadata": {
    "execution": {
     "iopub.execute_input": "2021-09-23T20:07:49.705200Z",
     "iopub.status.busy": "2021-09-23T20:07:49.701036Z",
     "iopub.status.idle": "2021-09-23T20:07:50.318771Z",
     "shell.execute_reply": "2021-09-23T20:07:50.318233Z"
    },
    "papermill": {
     "duration": 0.653225,
     "end_time": "2021-09-23T20:07:50.318969",
     "exception": false,
     "start_time": "2021-09-23T20:07:49.665744",
     "status": "completed"
    },
    "tags": []
   },
   "outputs": [],
   "source": [
    "train_images = mnist.train_images()\n",
    "train_labels = mnist.train_labels()"
   ]
  },
  {
   "cell_type": "code",
   "execution_count": 6,
   "id": "dceab3a5",
   "metadata": {
    "execution": {
     "iopub.execute_input": "2021-09-23T20:07:50.393968Z",
     "iopub.status.busy": "2021-09-23T20:07:50.393363Z",
     "iopub.status.idle": "2021-09-23T20:07:50.408886Z",
     "shell.execute_reply": "2021-09-23T20:07:50.408392Z"
    },
    "papermill": {
     "duration": 0.05271,
     "end_time": "2021-09-23T20:07:50.409001",
     "exception": false,
     "start_time": "2021-09-23T20:07:50.356291",
     "status": "completed"
    },
    "tags": []
   },
   "outputs": [
    {
     "data": {
      "text/plain": [
       "((60000, 28, 28), (60000,))"
      ]
     },
     "execution_count": 6,
     "metadata": {},
     "output_type": "execute_result"
    }
   ],
   "source": [
    "train_images.shape, train_labels.shape"
   ]
  },
  {
   "cell_type": "code",
   "execution_count": 7,
   "id": "f50dc2bb",
   "metadata": {
    "execution": {
     "iopub.execute_input": "2021-09-23T20:07:50.477238Z",
     "iopub.status.busy": "2021-09-23T20:07:50.476414Z",
     "iopub.status.idle": "2021-09-23T20:07:50.672040Z",
     "shell.execute_reply": "2021-09-23T20:07:50.671405Z"
    },
    "papermill": {
     "duration": 0.230793,
     "end_time": "2021-09-23T20:07:50.672255",
     "exception": false,
     "start_time": "2021-09-23T20:07:50.441462",
     "status": "completed"
    },
    "tags": []
   },
   "outputs": [],
   "source": [
    "test_images = mnist.test_images()\n",
    "test_labels = mnist.test_labels()"
   ]
  },
  {
   "cell_type": "code",
   "execution_count": 8,
   "id": "fc38cf1b",
   "metadata": {
    "execution": {
     "iopub.execute_input": "2021-09-23T20:07:50.742444Z",
     "iopub.status.busy": "2021-09-23T20:07:50.741844Z",
     "iopub.status.idle": "2021-09-23T20:07:50.757389Z",
     "shell.execute_reply": "2021-09-23T20:07:50.756888Z"
    },
    "papermill": {
     "duration": 0.052537,
     "end_time": "2021-09-23T20:07:50.757548",
     "exception": false,
     "start_time": "2021-09-23T20:07:50.705011",
     "status": "completed"
    },
    "tags": []
   },
   "outputs": [
    {
     "data": {
      "text/plain": [
       "((10000, 28, 28), (10000,))"
      ]
     },
     "execution_count": 8,
     "metadata": {},
     "output_type": "execute_result"
    }
   ],
   "source": [
    "test_images.shape, test_labels.shape"
   ]
  },
  {
   "cell_type": "code",
   "execution_count": 9,
   "id": "f9ed8fe0",
   "metadata": {
    "execution": {
     "iopub.execute_input": "2021-09-23T20:07:50.828701Z",
     "iopub.status.busy": "2021-09-23T20:07:50.828074Z",
     "iopub.status.idle": "2021-09-23T20:07:51.018722Z",
     "shell.execute_reply": "2021-09-23T20:07:51.019222Z"
    },
    "papermill": {
     "duration": 0.230565,
     "end_time": "2021-09-23T20:07:51.019391",
     "exception": false,
     "start_time": "2021-09-23T20:07:50.788826",
     "status": "completed"
    },
    "tags": []
   },
   "outputs": [
    {
     "name": "stdout",
     "output_type": "stream",
     "text": [
      "2\n"
     ]
    },
    {
     "data": {
      "text/plain": [
       "<matplotlib.image.AxesImage at 0x7fb6bbe56898>"
      ]
     },
     "execution_count": 9,
     "metadata": {},
     "output_type": "execute_result"
    },
    {
     "data": {
      "image/png": "[encoded data removed]",
      "text/plain": [
       "<Figure size 432x288 with 1 Axes>"
      ]
     },
     "metadata": {
      "needs_background": "light"
     },
     "output_type": "display_data"
    }
   ],
   "source": [
    "image_index = 7776 # You may select anything up to 60,000\n",
    "print(train_labels[image_index]) \n",
    "plt.imshow(train_images[image_index], cmap='Greys')"
   ]
  },
  {
   "cell_type": "markdown",
   "id": "a8d2388d",
   "metadata": {
    "papermill": {
     "duration": 0.036778,
     "end_time": "2021-09-23T20:07:51.087512",
     "exception": false,
     "start_time": "2021-09-23T20:07:51.050734",
     "status": "completed"
    },
    "tags": []
   },
   "source": [
    "## Filter data to get 3 and 8 out"
   ]
  },
  {
   "cell_type": "code",
   "execution_count": 10,
   "id": "776f7fc7",
   "metadata": {
    "execution": {
     "iopub.execute_input": "2021-09-23T20:07:51.161935Z",
     "iopub.status.busy": "2021-09-23T20:07:51.161250Z",
     "iopub.status.idle": "2021-09-23T20:07:51.183574Z",
     "shell.execute_reply": "2021-09-23T20:07:51.184071Z"
    },
    "papermill": {
     "duration": 0.061728,
     "end_time": "2021-09-23T20:07:51.184279",
     "exception": false,
     "start_time": "2021-09-23T20:07:51.122551",
     "status": "completed"
    },
    "tags": []
   },
   "outputs": [],
   "source": [
    "train_filter = np.where((train_labels == 3 ) | (train_labels == 8))\n",
    "test_filter = np.where((test_labels == 3) | (test_labels == 8))\n",
    "X_train, y_train = train_images[train_filter], train_labels[train_filter]\n",
    "X_test, y_test = test_images[test_filter], test_labels[test_filter]"
   ]
  },
  {
   "cell_type": "markdown",
   "id": "948f0b7e",
   "metadata": {
    "papermill": {
     "duration": 0.03104,
     "end_time": "2021-09-23T20:07:51.247982",
     "exception": false,
     "start_time": "2021-09-23T20:07:51.216942",
     "status": "completed"
    },
    "tags": []
   },
   "source": [
    "We normalize the pizel values in the 0 to 1 range"
   ]
  },
  {
   "cell_type": "code",
   "execution_count": 11,
   "id": "ee4c2166",
   "metadata": {
    "execution": {
     "iopub.execute_input": "2021-09-23T20:07:51.318541Z",
     "iopub.status.busy": "2021-09-23T20:07:51.317229Z",
     "iopub.status.idle": "2021-09-23T20:07:51.382638Z",
     "shell.execute_reply": "2021-09-23T20:07:51.382065Z"
    },
    "papermill": {
     "duration": 0.098482,
     "end_time": "2021-09-23T20:07:51.382816",
     "exception": false,
     "start_time": "2021-09-23T20:07:51.284334",
     "status": "completed"
    },
    "tags": []
   },
   "outputs": [],
   "source": [
    "X_train = X_train/255.\n",
    "X_test = X_test/255."
   ]
  },
  {
   "cell_type": "markdown",
   "id": "ddcf4fab",
   "metadata": {
    "papermill": {
     "duration": 0.032237,
     "end_time": "2021-09-23T20:07:51.447393",
     "exception": false,
     "start_time": "2021-09-23T20:07:51.415156",
     "status": "completed"
    },
    "tags": []
   },
   "source": [
    "And setup the labels as 1 (when the digit is 3) and 0 (when the digit is 8)"
   ]
  },
  {
   "cell_type": "code",
   "execution_count": 12,
   "id": "7dc908f2",
   "metadata": {
    "execution": {
     "iopub.execute_input": "2021-09-23T20:07:51.518240Z",
     "iopub.status.busy": "2021-09-23T20:07:51.517531Z",
     "iopub.status.idle": "2021-09-23T20:07:51.531985Z",
     "shell.execute_reply": "2021-09-23T20:07:51.531377Z"
    },
    "papermill": {
     "duration": 0.05043,
     "end_time": "2021-09-23T20:07:51.532100",
     "exception": false,
     "start_time": "2021-09-23T20:07:51.481670",
     "status": "completed"
    },
    "tags": []
   },
   "outputs": [],
   "source": [
    "y_train = 1*(y_train==3)\n",
    "y_test = 1*(y_test==3)"
   ]
  },
  {
   "cell_type": "code",
   "execution_count": 13,
   "id": "01e4e969",
   "metadata": {
    "execution": {
     "iopub.execute_input": "2021-09-23T20:07:51.605180Z",
     "iopub.status.busy": "2021-09-23T20:07:51.604564Z",
     "iopub.status.idle": "2021-09-23T20:07:51.617519Z",
     "shell.execute_reply": "2021-09-23T20:07:51.616928Z"
    },
    "papermill": {
     "duration": 0.051333,
     "end_time": "2021-09-23T20:07:51.617648",
     "exception": false,
     "start_time": "2021-09-23T20:07:51.566315",
     "status": "completed"
    },
    "tags": []
   },
   "outputs": [
    {
     "data": {
      "text/plain": [
       "((11982, 28, 28), (1984, 28, 28))"
      ]
     },
     "execution_count": 13,
     "metadata": {},
     "output_type": "execute_result"
    }
   ],
   "source": [
    "X_train.shape, X_test.shape"
   ]
  },
  {
   "cell_type": "markdown",
   "id": "5ccf3f85",
   "metadata": {
    "papermill": {
     "duration": 0.032095,
     "end_time": "2021-09-23T20:07:51.681349",
     "exception": false,
     "start_time": "2021-09-23T20:07:51.649254",
     "status": "completed"
    },
    "tags": []
   },
   "source": [
    "We reshape the data to flatten the image pixels into a set of features or co-variates:"
   ]
  },
  {
   "cell_type": "code",
   "execution_count": 14,
   "id": "5286a4a3",
   "metadata": {
    "execution": {
     "iopub.execute_input": "2021-09-23T20:07:51.755885Z",
     "iopub.status.busy": "2021-09-23T20:07:51.752914Z",
     "iopub.status.idle": "2021-09-23T20:07:51.766190Z",
     "shell.execute_reply": "2021-09-23T20:07:51.766783Z"
    },
    "papermill": {
     "duration": 0.054931,
     "end_time": "2021-09-23T20:07:51.766945",
     "exception": false,
     "start_time": "2021-09-23T20:07:51.712014",
     "status": "completed"
    },
    "tags": []
   },
   "outputs": [
    {
     "data": {
      "text/plain": [
       "((11982, 784), (1984, 784))"
      ]
     },
     "execution_count": 14,
     "metadata": {},
     "output_type": "execute_result"
    }
   ],
   "source": [
    "X_train = X_train.reshape(X_train.shape[0], -1)\n",
    "X_test = X_test.reshape(X_test.shape[0], -1)\n",
    "X_train.shape, X_test.shape"
   ]
  },
  {
   "cell_type": "code",
   "execution_count": 15,
   "id": "73c5f88a",
   "metadata": {
    "execution": {
     "iopub.execute_input": "2021-09-23T20:07:51.841702Z",
     "iopub.status.busy": "2021-09-23T20:07:51.841018Z",
     "iopub.status.idle": "2021-09-23T20:07:51.860471Z",
     "shell.execute_reply": "2021-09-23T20:07:51.861055Z"
    },
    "papermill": {
     "duration": 0.061086,
     "end_time": "2021-09-23T20:07:51.861225",
     "exception": false,
     "start_time": "2021-09-23T20:07:51.800139",
     "status": "completed"
    },
    "tags": []
   },
   "outputs": [],
   "source": [
    "#Impoting functions from 'Kudzu'\n",
    "from kudzu.model import Model\n",
    "from kudzu.train import Learner\n",
    "from kudzu.optim import GD\n",
    "from kudzu.data import Data, Sampler,Dataloader\n",
    "\n",
    "from kudzu.callbacks import AccCallback\n",
    "from kudzu.callbacks import ClfCallback\n",
    "\n",
    "from kudzu.loss import MSE\n",
    "\n",
    "from kudzu.layer import Sigmoid,Relu\n",
    "from kudzu.layer import Affine"
   ]
  },
  {
   "cell_type": "markdown",
   "id": "bc01172a",
   "metadata": {
    "papermill": {
     "duration": 0.03396,
     "end_time": "2021-09-23T20:07:51.927533",
     "exception": false,
     "start_time": "2021-09-23T20:07:51.893573",
     "status": "completed"
    },
    "tags": []
   },
   "source": [
    "### Let us create a `Config` class, to store important parameters. \n",
    "This class essentially plays the role of a dictionary."
   ]
  },
  {
   "cell_type": "code",
   "execution_count": 16,
   "id": "978281aa",
   "metadata": {
    "execution": {
     "iopub.execute_input": "2021-09-23T20:07:51.993473Z",
     "iopub.status.busy": "2021-09-23T20:07:51.992901Z",
     "iopub.status.idle": "2021-09-23T20:07:52.007916Z",
     "shell.execute_reply": "2021-09-23T20:07:52.007425Z"
    },
    "papermill": {
     "duration": 0.050086,
     "end_time": "2021-09-23T20:07:52.008087",
     "exception": false,
     "start_time": "2021-09-23T20:07:51.958001",
     "status": "completed"
    },
    "tags": []
   },
   "outputs": [],
   "source": [
    "class Config:\n",
    "    pass\n",
    "config = Config()\n",
    "config.lr = 0.001\n",
    "config.num_epochs = 250\n",
    "config.bs = 50"
   ]
  },
  {
   "cell_type": "markdown",
   "id": "1385fa59",
   "metadata": {
    "papermill": {
     "duration": 0.033495,
     "end_time": "2021-09-23T20:07:52.075522",
     "exception": false,
     "start_time": "2021-09-23T20:07:52.042027",
     "status": "completed"
    },
    "tags": []
   },
   "source": [
    "### Running Models with the Training data\n",
    "Details about the network layers:\n",
    "- A first affine layer has 784 inputs and does 100 affine transforms. These are followed by a Relu\n",
    "- A second affine layer has 100 inputs from the 100 activations of the past layer, and does 100 affine transforms. These are followed by a Relu\n",
    "- A third affine layer has 100 activations and does 2 affine transformations to create an embedding for visualization. There is no non-linearity here.\n",
    "- A final \"logistic regression\" which has an affine transform from 2 inputs to 1 output, which is squeezed through a sigmoid.\n"
   ]
  },
  {
   "cell_type": "code",
   "execution_count": 17,
   "id": "2b9c66db",
   "metadata": {
    "execution": {
     "iopub.execute_input": "2021-09-23T20:07:52.149036Z",
     "iopub.status.busy": "2021-09-23T20:07:52.148497Z",
     "iopub.status.idle": "2021-09-23T20:07:52.160502Z",
     "shell.execute_reply": "2021-09-23T20:07:52.161016Z"
    },
    "papermill": {
     "duration": 0.050414,
     "end_time": "2021-09-23T20:07:52.161132",
     "exception": false,
     "start_time": "2021-09-23T20:07:52.110718",
     "status": "completed"
    },
    "tags": []
   },
   "outputs": [],
   "source": [
    "data = Data(X_train, y_train.reshape(-1,1))\n",
    "sampler = Sampler(data, config.bs, shuffle=True)\n",
    "\n",
    "dl = Dataloader(data, sampler)\n",
    "\n",
    "opt = GD(config.lr)\n",
    "loss = MSE()"
   ]
  },
  {
   "cell_type": "code",
   "execution_count": 18,
   "id": "b275e4c2",
   "metadata": {
    "execution": {
     "iopub.execute_input": "2021-09-23T20:07:52.233373Z",
     "iopub.status.busy": "2021-09-23T20:07:52.232812Z",
     "iopub.status.idle": "2021-09-23T20:07:52.247909Z",
     "shell.execute_reply": "2021-09-23T20:07:52.248647Z"
    },
    "papermill": {
     "duration": 0.053752,
     "end_time": "2021-09-23T20:07:52.248789",
     "exception": false,
     "start_time": "2021-09-23T20:07:52.195037",
     "status": "completed"
    },
    "tags": []
   },
   "outputs": [],
   "source": [
    "training_data_x = X_train\n",
    "testing_data_x = X_test\n",
    "training_data_y = y_train.reshape(-1,1)\n",
    "testing_data_y = y_test.reshape(-1,1)"
   ]
  },
  {
   "cell_type": "code",
   "execution_count": 19,
   "id": "76951160",
   "metadata": {
    "execution": {
     "iopub.execute_input": "2021-09-23T20:07:52.317109Z",
     "iopub.status.busy": "2021-09-23T20:07:52.316564Z",
     "iopub.status.idle": "2021-09-23T20:07:52.335648Z",
     "shell.execute_reply": "2021-09-23T20:07:52.334987Z"
    },
    "papermill": {
     "duration": 0.054598,
     "end_time": "2021-09-23T20:07:52.335795",
     "exception": false,
     "start_time": "2021-09-23T20:07:52.281197",
     "status": "completed"
    },
    "tags": []
   },
   "outputs": [
    {
     "name": "stdout",
     "output_type": "stream",
     "text": [
      "xavier\n",
      "xavier\n",
      "xavier\n",
      "xavier\n",
      "xavier\n"
     ]
    }
   ],
   "source": [
    "layers = [Affine(\"first\", 784, 100), Relu(\"first\"), Affine(\"second\", 100, 100), Relu(\"second\"), Affine(\"third\", 100, 2), Affine(\"last\", 2, 1), Sigmoid(\"last\")]\n",
    "model_nn = Model(layers)\n",
    "model_lr = Model([Affine(\"logits\", 784, 1), Sigmoid(\"sigmoid\")])"
   ]
  },
  {
   "cell_type": "code",
   "execution_count": 20,
   "id": "6eede77a",
   "metadata": {
    "execution": {
     "iopub.execute_input": "2021-09-23T20:07:52.408621Z",
     "iopub.status.busy": "2021-09-23T20:07:52.407847Z",
     "iopub.status.idle": "2021-09-23T20:07:52.419369Z",
     "shell.execute_reply": "2021-09-23T20:07:52.418805Z"
    },
    "papermill": {
     "duration": 0.047958,
     "end_time": "2021-09-23T20:07:52.419520",
     "exception": false,
     "start_time": "2021-09-23T20:07:52.371562",
     "status": "completed"
    },
    "tags": []
   },
   "outputs": [],
   "source": [
    "nn_learner = Learner(loss, model_nn, opt, config.num_epochs)\n",
    "acc_nn = ClfCallback(nn_learner, config.bs, training_data_x , testing_data_x, training_data_y, testing_data_y)\n",
    "nn_learner.set_callbacks([acc_nn])"
   ]
  },
  {
   "cell_type": "code",
   "execution_count": 21,
   "id": "877b6cc7",
   "metadata": {
    "execution": {
     "iopub.execute_input": "2021-09-23T20:07:52.485993Z",
     "iopub.status.busy": "2021-09-23T20:07:52.485431Z",
     "iopub.status.idle": "2021-09-23T20:07:52.498047Z",
     "shell.execute_reply": "2021-09-23T20:07:52.498629Z"
    },
    "papermill": {
     "duration": 0.048622,
     "end_time": "2021-09-23T20:07:52.498755",
     "exception": false,
     "start_time": "2021-09-23T20:07:52.450133",
     "status": "completed"
    },
    "tags": []
   },
   "outputs": [],
   "source": [
    "lr_learner = Learner(loss, model_lr, opt, config.num_epochs)\n",
    "acc_lr = ClfCallback(lr_learner, config.bs, training_data_x , testing_data_x, training_data_y, testing_data_y)\n",
    "lr_learner.set_callbacks([acc_lr])"
   ]
  },
  {
   "cell_type": "code",
   "execution_count": 22,
   "id": "d9b133c3",
   "metadata": {
    "execution": {
     "iopub.execute_input": "2021-09-23T20:07:52.567817Z",
     "iopub.status.busy": "2021-09-23T20:07:52.567189Z",
     "iopub.status.idle": "2021-09-23T20:10:19.008092Z",
     "shell.execute_reply": "2021-09-23T20:10:19.009109Z"
    },
    "papermill": {
     "duration": 146.477942,
     "end_time": "2021-09-23T20:10:19.009289",
     "exception": false,
     "start_time": "2021-09-23T20:07:52.531347",
     "status": "completed"
    },
    "tags": []
   },
   "outputs": [
    {
     "name": "stdout",
     "output_type": "stream",
     "text": [
      "Epoch 0, Loss 0.2447\n",
      "Training Accuracy: 0.6446, Testing Accuracy: 0.6436\n",
      "\n"
     ]
    },
    {
     "name": "stdout",
     "output_type": "stream",
     "text": [
      "Epoch 10, Loss 0.1414\n",
      "Training Accuracy: 0.9069, Testing Accuracy: 0.9183\n",
      "\n"
     ]
    },
    {
     "name": "stdout",
     "output_type": "stream",
     "text": [
      "Epoch 20, Loss 0.073\n",
      "Training Accuracy: 0.9283, Testing Accuracy: 0.9360\n",
      "\n"
     ]
    },
    {
     "name": "stdout",
     "output_type": "stream",
     "text": [
      "Epoch 30, Loss 0.0529\n",
      "Training Accuracy: 0.9422, Testing Accuracy: 0.9531\n",
      "\n"
     ]
    },
    {
     "name": "stdout",
     "output_type": "stream",
     "text": [
      "Epoch 40, Loss 0.0438\n",
      "Training Accuracy: 0.9504, Testing Accuracy: 0.9607\n",
      "\n"
     ]
    },
    {
     "name": "stdout",
     "output_type": "stream",
     "text": [
      "Epoch 50, Loss 0.0387\n",
      "Training Accuracy: 0.9555, Testing Accuracy: 0.9632\n",
      "\n"
     ]
    },
    {
     "name": "stdout",
     "output_type": "stream",
     "text": [
      "Epoch 60, Loss 0.0355\n",
      "Training Accuracy: 0.9588, Testing Accuracy: 0.9667\n",
      "\n"
     ]
    },
    {
     "name": "stdout",
     "output_type": "stream",
     "text": [
      "Epoch 70, Loss 0.0332\n",
      "Training Accuracy: 0.9611, Testing Accuracy: 0.9698\n",
      "\n"
     ]
    },
    {
     "name": "stdout",
     "output_type": "stream",
     "text": [
      "Epoch 80, Loss 0.0314\n",
      "Training Accuracy: 0.9630, Testing Accuracy: 0.9693\n",
      "\n"
     ]
    },
    {
     "name": "stdout",
     "output_type": "stream",
     "text": [
      "Epoch 90, Loss 0.03\n",
      "Training Accuracy: 0.9647, Testing Accuracy: 0.9708\n",
      "\n"
     ]
    },
    {
     "name": "stdout",
     "output_type": "stream",
     "text": [
      "Epoch 100, Loss 0.0288\n",
      "Training Accuracy: 0.9662, Testing Accuracy: 0.9713\n",
      "\n"
     ]
    },
    {
     "name": "stdout",
     "output_type": "stream",
     "text": [
      "Epoch 110, Loss 0.0278\n",
      "Training Accuracy: 0.9671, Testing Accuracy: 0.9718\n",
      "\n"
     ]
    },
    {
     "name": "stdout",
     "output_type": "stream",
     "text": [
      "Epoch 120, Loss 0.0269\n",
      "Training Accuracy: 0.9684, Testing Accuracy: 0.9728\n",
      "\n"
     ]
    },
    {
     "name": "stdout",
     "output_type": "stream",
     "text": [
      "Epoch 130, Loss 0.0261\n",
      "Training Accuracy: 0.9700, Testing Accuracy: 0.9723\n",
      "\n"
     ]
    },
    {
     "name": "stdout",
     "output_type": "stream",
     "text": [
      "Epoch 140, Loss 0.0254\n",
      "Training Accuracy: 0.9705, Testing Accuracy: 0.9723\n",
      "\n"
     ]
    },
    {
     "name": "stdout",
     "output_type": "stream",
     "text": [
      "Epoch 150, Loss 0.0248\n",
      "Training Accuracy: 0.9713, Testing Accuracy: 0.9728\n",
      "\n"
     ]
    },
    {
     "name": "stdout",
     "output_type": "stream",
     "text": [
      "Epoch 160, Loss 0.0242\n",
      "Training Accuracy: 0.9725, Testing Accuracy: 0.9733\n",
      "\n"
     ]
    },
    {
     "name": "stdout",
     "output_type": "stream",
     "text": [
      "Epoch 170, Loss 0.0237\n",
      "Training Accuracy: 0.9730, Testing Accuracy: 0.9728\n",
      "\n"
     ]
    },
    {
     "name": "stdout",
     "output_type": "stream",
     "text": [
      "Epoch 180, Loss 0.0231\n",
      "Training Accuracy: 0.9732, Testing Accuracy: 0.9738\n",
      "\n"
     ]
    },
    {
     "name": "stdout",
     "output_type": "stream",
     "text": [
      "Epoch 190, Loss 0.0227\n",
      "Training Accuracy: 0.9738, Testing Accuracy: 0.9738\n",
      "\n"
     ]
    },
    {
     "name": "stdout",
     "output_type": "stream",
     "text": [
      "Epoch 200, Loss 0.0222\n",
      "Training Accuracy: 0.9741, Testing Accuracy: 0.9743\n",
      "\n"
     ]
    },
    {
     "name": "stdout",
     "output_type": "stream",
     "text": [
      "Epoch 210, Loss 0.0218\n",
      "Training Accuracy: 0.9745, Testing Accuracy: 0.9743\n",
      "\n"
     ]
    },
    {
     "name": "stdout",
     "output_type": "stream",
     "text": [
      "Epoch 220, Loss 0.0214\n",
      "Training Accuracy: 0.9754, Testing Accuracy: 0.9743\n",
      "\n"
     ]
    },
    {
     "name": "stdout",
     "output_type": "stream",
     "text": [
      "Epoch 230, Loss 0.021\n",
      "Training Accuracy: 0.9757, Testing Accuracy: 0.9753\n",
      "\n"
     ]
    },
    {
     "name": "stdout",
     "output_type": "stream",
     "text": [
      "Epoch 240, Loss 0.0206\n",
      "Training Accuracy: 0.9766, Testing Accuracy: 0.9753\n",
      "\n"
     ]
    },
    {
     "data": {
      "text/plain": [
       "0.009909785533434428"
      ]
     },
     "execution_count": 22,
     "metadata": {},
     "output_type": "execute_result"
    }
   ],
   "source": [
    "nn_learner.train_loop(dl)"
   ]
  },
  {
   "cell_type": "code",
   "execution_count": 23,
   "id": "e0163366",
   "metadata": {
    "execution": {
     "iopub.execute_input": "2021-09-23T20:10:19.106308Z",
     "iopub.status.busy": "2021-09-23T20:10:19.105735Z",
     "iopub.status.idle": "2021-09-23T20:10:39.772834Z",
     "shell.execute_reply": "2021-09-23T20:10:39.773932Z"
    },
    "papermill": {
     "duration": 20.720899,
     "end_time": "2021-09-23T20:10:39.774105",
     "exception": false,
     "start_time": "2021-09-23T20:10:19.053206",
     "status": "completed"
    },
    "tags": []
   },
   "outputs": [
    {
     "name": "stdout",
     "output_type": "stream",
     "text": [
      "Epoch 0, Loss 0.2214\n",
      "Training Accuracy: 0.7379, Testing Accuracy: 0.7404\n",
      "\n"
     ]
    },
    {
     "name": "stdout",
     "output_type": "stream",
     "text": [
      "Epoch 10, Loss 0.1026\n",
      "Training Accuracy: 0.9099, Testing Accuracy: 0.9194\n",
      "\n"
     ]
    },
    {
     "name": "stdout",
     "output_type": "stream",
     "text": [
      "Epoch 20, Loss 0.0785\n",
      "Training Accuracy: 0.9296, Testing Accuracy: 0.9375\n",
      "\n"
     ]
    },
    {
     "name": "stdout",
     "output_type": "stream",
     "text": [
      "Epoch 30, Loss 0.0675\n",
      "Training Accuracy: 0.9378, Testing Accuracy: 0.9461\n",
      "\n"
     ]
    },
    {
     "name": "stdout",
     "output_type": "stream",
     "text": [
      "Epoch 40, Loss 0.061\n",
      "Training Accuracy: 0.9424, Testing Accuracy: 0.9511\n",
      "\n"
     ]
    },
    {
     "name": "stdout",
     "output_type": "stream",
     "text": [
      "Epoch 50, Loss 0.0566\n",
      "Training Accuracy: 0.9459, Testing Accuracy: 0.9531\n",
      "\n"
     ]
    },
    {
     "name": "stdout",
     "output_type": "stream",
     "text": [
      "Epoch 60, Loss 0.0533\n",
      "Training Accuracy: 0.9478, Testing Accuracy: 0.9556\n",
      "\n"
     ]
    },
    {
     "name": "stdout",
     "output_type": "stream",
     "text": [
      "Epoch 70, Loss 0.0508\n",
      "Training Accuracy: 0.9497, Testing Accuracy: 0.9577\n",
      "\n"
     ]
    },
    {
     "name": "stdout",
     "output_type": "stream",
     "text": [
      "Epoch 80, Loss 0.0488\n",
      "Training Accuracy: 0.9508, Testing Accuracy: 0.9582\n",
      "\n"
     ]
    },
    {
     "name": "stdout",
     "output_type": "stream",
     "text": [
      "Epoch 90, Loss 0.0471\n",
      "Training Accuracy: 0.9522, Testing Accuracy: 0.9592\n",
      "\n"
     ]
    },
    {
     "name": "stdout",
     "output_type": "stream",
     "text": [
      "Epoch 100, Loss 0.0457\n",
      "Training Accuracy: 0.9537, Testing Accuracy: 0.9607\n",
      "\n"
     ]
    },
    {
     "name": "stdout",
     "output_type": "stream",
     "text": [
      "Epoch 110, Loss 0.0446\n",
      "Training Accuracy: 0.9545, Testing Accuracy: 0.9622\n",
      "\n"
     ]
    },
    {
     "name": "stdout",
     "output_type": "stream",
     "text": [
      "Epoch 120, Loss 0.0435\n",
      "Training Accuracy: 0.9551, Testing Accuracy: 0.9637\n",
      "\n"
     ]
    },
    {
     "name": "stdout",
     "output_type": "stream",
     "text": [
      "Epoch 130, Loss 0.0426\n",
      "Training Accuracy: 0.9553, Testing Accuracy: 0.9642\n",
      "\n"
     ]
    },
    {
     "name": "stdout",
     "output_type": "stream",
     "text": [
      "Epoch 140, Loss 0.0418\n",
      "Training Accuracy: 0.9559, Testing Accuracy: 0.9647\n",
      "\n"
     ]
    },
    {
     "name": "stdout",
     "output_type": "stream",
     "text": [
      "Epoch 150, Loss 0.0411\n",
      "Training Accuracy: 0.9567, Testing Accuracy: 0.9652\n",
      "\n"
     ]
    },
    {
     "name": "stdout",
     "output_type": "stream",
     "text": [
      "Epoch 160, Loss 0.0404\n",
      "Training Accuracy: 0.9574, Testing Accuracy: 0.9667\n",
      "\n"
     ]
    },
    {
     "name": "stdout",
     "output_type": "stream",
     "text": [
      "Epoch 170, Loss 0.0398\n",
      "Training Accuracy: 0.9578, Testing Accuracy: 0.9667\n",
      "\n"
     ]
    },
    {
     "name": "stdout",
     "output_type": "stream",
     "text": [
      "Epoch 180, Loss 0.0392\n",
      "Training Accuracy: 0.9584, Testing Accuracy: 0.9672\n",
      "\n"
     ]
    },
    {
     "name": "stdout",
     "output_type": "stream",
     "text": [
      "Epoch 190, Loss 0.0387\n",
      "Training Accuracy: 0.9586, Testing Accuracy: 0.9667\n",
      "\n"
     ]
    },
    {
     "name": "stdout",
     "output_type": "stream",
     "text": [
      "Epoch 200, Loss 0.0383\n",
      "Training Accuracy: 0.9590, Testing Accuracy: 0.9672\n",
      "\n"
     ]
    },
    {
     "name": "stdout",
     "output_type": "stream",
     "text": [
      "Epoch 210, Loss 0.0378\n",
      "Training Accuracy: 0.9594, Testing Accuracy: 0.9677\n",
      "\n"
     ]
    },
    {
     "name": "stdout",
     "output_type": "stream",
     "text": [
      "Epoch 220, Loss 0.0374\n",
      "Training Accuracy: 0.9597, Testing Accuracy: 0.9677\n",
      "\n"
     ]
    },
    {
     "name": "stdout",
     "output_type": "stream",
     "text": [
      "Epoch 230, Loss 0.037\n",
      "Training Accuracy: 0.9604, Testing Accuracy: 0.9672\n",
      "\n"
     ]
    },
    {
     "name": "stdout",
     "output_type": "stream",
     "text": [
      "Epoch 240, Loss 0.0367\n",
      "Training Accuracy: 0.9606, Testing Accuracy: 0.9672\n",
      "\n"
     ]
    },
    {
     "data": {
      "text/plain": [
       "0.04081687939025318"
      ]
     },
     "execution_count": 23,
     "metadata": {},
     "output_type": "execute_result"
    }
   ],
   "source": [
    "lr_learner.train_loop(dl)"
   ]
  },
  {
   "cell_type": "code",
   "execution_count": 24,
   "id": "ca410940",
   "metadata": {
    "execution": {
     "iopub.execute_input": "2021-09-23T20:10:39.888502Z",
     "iopub.status.busy": "2021-09-23T20:10:39.887864Z",
     "iopub.status.idle": "2021-09-23T20:10:40.193474Z",
     "shell.execute_reply": "2021-09-23T20:10:40.192935Z"
    },
    "papermill": {
     "duration": 0.366573,
     "end_time": "2021-09-23T20:10:40.193605",
     "exception": false,
     "start_time": "2021-09-23T20:10:39.827032",
     "status": "completed"
    },
    "tags": []
   },
   "outputs": [
    {
     "data": {
      "text/plain": [
       "<matplotlib.legend.Legend at 0x7fb6bb9b9940>"
      ]
     },
     "execution_count": 24,
     "metadata": {},
     "output_type": "execute_result"
    },
    {
     "data": {
      "image/png": "[encoded data removed]",
      "text/plain": [
       "<Figure size 1080x720 with 1 Axes>"
      ]
     },
     "metadata": {
      "needs_background": "light"
     },
     "output_type": "display_data"
    }
   ],
   "source": [
    "#comparing the results of NN and LR\n",
    "plt.figure(figsize=(15,10))\n",
    "\n",
    "# Neural Network plots\n",
    "plt.plot(acc_nn.accuracies, 'r-', label = \"Training Accuracies - NN\")\n",
    "plt.plot(acc_nn.test_accuracies, 'g-', label = \"Testing Accuracies - NN\")\n",
    "\n",
    "# Logistic Regression plots\n",
    "plt.plot(acc_lr.accuracies, 'k-', label = \"Training Accuracies - LR\")\n",
    "plt.plot(acc_lr.test_accuracies, 'b-', label = \"Testing Accuracies - LR\")\n",
    "plt.legend()"
   ]
  },
  {
   "cell_type": "markdown",
   "id": "80dfb35c",
   "metadata": {
    "papermill": {
     "duration": 0.052924,
     "end_time": "2021-09-23T20:10:40.299881",
     "exception": false,
     "start_time": "2021-09-23T20:10:40.246957",
     "status": "completed"
    },
    "tags": []
   },
   "source": [
    "#### Plotting the outputs of this layer of the NN.\n"
   ]
  },
  {
   "cell_type": "code",
   "execution_count": 25,
   "id": "45eb2ff5",
   "metadata": {
    "execution": {
     "iopub.execute_input": "2021-09-23T20:10:40.406907Z",
     "iopub.status.busy": "2021-09-23T20:10:40.405643Z",
     "iopub.status.idle": "2021-09-23T20:10:40.432043Z",
     "shell.execute_reply": "2021-09-23T20:10:40.432760Z"
    },
    "papermill": {
     "duration": 0.081951,
     "end_time": "2021-09-23T20:10:40.432904",
     "exception": false,
     "start_time": "2021-09-23T20:10:40.350953",
     "status": "completed"
    },
    "tags": []
   },
   "outputs": [],
   "source": [
    "new_model = Model(layers[:-2])\n",
    "testing_plot = new_model(testing_data_x)"
   ]
  },
  {
   "cell_type": "code",
   "execution_count": 26,
   "id": "4c0a5485",
   "metadata": {
    "execution": {
     "iopub.execute_input": "2021-09-23T20:10:40.549027Z",
     "iopub.status.busy": "2021-09-23T20:10:40.548330Z",
     "iopub.status.idle": "2021-09-23T20:10:40.785362Z",
     "shell.execute_reply": "2021-09-23T20:10:40.785875Z"
    },
    "papermill": {
     "duration": 0.297746,
     "end_time": "2021-09-23T20:10:40.786023",
     "exception": false,
     "start_time": "2021-09-23T20:10:40.488277",
     "status": "completed"
    },
    "tags": []
   },
   "outputs": [
    {
     "data": {
      "text/plain": [
       "Text(0.5, 1.0, 'Outputs')"
      ]
     },
     "execution_count": 26,
     "metadata": {},
     "output_type": "execute_result"
    },
    {
     "data": {
      "image/png": "[encoded data removed]",
      "text/plain": [
       "<Figure size 576x504 with 1 Axes>"
      ]
     },
     "metadata": {
      "needs_background": "light"
     },
     "output_type": "display_data"
    }
   ],
   "source": [
    "# Plotting the scatter plot of points and color coding by class\n",
    "plt.figure(figsize=(8,7))\n",
    "plt.scatter(testing_plot[:,0], testing_plot[:,1], alpha = 0.1, c = y_test.ravel());\n",
    "plt.title('Outputs')"
   ]
  },
  {
   "cell_type": "markdown",
   "id": "a74fcf8f",
   "metadata": {
    "papermill": {
     "duration": 0.052195,
     "end_time": "2021-09-23T20:10:40.891780",
     "exception": false,
     "start_time": "2021-09-23T20:10:40.839585",
     "status": "completed"
    },
    "tags": []
   },
   "source": [
    "Probability contours"
   ]
  },
  {
   "cell_type": "code",
   "execution_count": 27,
   "id": "d0afc8e3",
   "metadata": {
    "execution": {
     "iopub.execute_input": "2021-09-23T20:10:41.021468Z",
     "iopub.status.busy": "2021-09-23T20:10:41.020696Z",
     "iopub.status.idle": "2021-09-23T20:10:41.034505Z",
     "shell.execute_reply": "2021-09-23T20:10:41.033889Z"
    },
    "papermill": {
     "duration": 0.093336,
     "end_time": "2021-09-23T20:10:41.034671",
     "exception": false,
     "start_time": "2021-09-23T20:10:40.941335",
     "status": "completed"
    },
    "tags": []
   },
   "outputs": [],
   "source": [
    "model_prob = Model(layers[-2:]) "
   ]
  },
  {
   "cell_type": "code",
   "execution_count": 28,
   "id": "9b96e238",
   "metadata": {
    "execution": {
     "iopub.execute_input": "2021-09-23T20:10:41.147478Z",
     "iopub.status.busy": "2021-09-23T20:10:41.146910Z",
     "iopub.status.idle": "2021-09-23T20:10:41.162562Z",
     "shell.execute_reply": "2021-09-23T20:10:41.162997Z"
    },
    "papermill": {
     "duration": 0.073619,
     "end_time": "2021-09-23T20:10:41.163129",
     "exception": false,
     "start_time": "2021-09-23T20:10:41.089510",
     "status": "completed"
    },
    "tags": []
   },
   "outputs": [],
   "source": [
    "#creating the x and y ranges according to the above generated plot.\n",
    "x_range = np.linspace(-4, 1, 100) \n",
    "y_range = np.linspace(-6, 6, 100) \n",
    "x_grid, y_grid = np.meshgrid(x_range, y_range) # x_grid and y_grig are of size 100 X 100\n",
    "\n",
    "# converting x_grid and y_grid to continuous arrays\n",
    "x_gridflat = np.ravel(x_grid)\n",
    "y_gridflat = np.ravel(y_grid)\n",
    "\n",
    "# The last layer of the current model takes two columns as input. Hence transpose of np.vstack() is required.\n",
    "X = np.vstack((x_gridflat, y_gridflat)).T\n",
    "\n",
    "prob_contour = model_prob(X).reshape(100,100) "
   ]
  },
  {
   "cell_type": "code",
   "execution_count": 29,
   "id": "da72499a",
   "metadata": {
    "execution": {
     "iopub.execute_input": "2021-09-23T20:10:41.284085Z",
     "iopub.status.busy": "2021-09-23T20:10:41.283485Z",
     "iopub.status.idle": "2021-09-23T20:10:41.597147Z",
     "shell.execute_reply": "2021-09-23T20:10:41.597639Z"
    },
    "papermill": {
     "duration": 0.372776,
     "end_time": "2021-09-23T20:10:41.597884",
     "exception": false,
     "start_time": "2021-09-23T20:10:41.225108",
     "status": "completed"
    },
    "tags": []
   },
   "outputs": [
    {
     "data": {
      "image/png": "[encoded data removed]",
      "text/plain": [
       "<Figure size 720x648 with 1 Axes>"
      ]
     },
     "metadata": {
      "needs_background": "light"
     },
     "output_type": "display_data"
    }
   ],
   "source": [
    "plt.figure(figsize=(10,9))\n",
    "plt.scatter(testing_plot[:,0], testing_plot[:,1], alpha = 0.1, c = y_test.ravel())\n",
    "contours = plt.contour(x_grid,y_grid,prob_contour)\n",
    "plt.title('Probability Contours')\n",
    "plt.clabel(contours, inline = True );"
   ]
  },
  {
   "cell_type": "code",
   "execution_count": null,
   "id": "e81b4ac7",
   "metadata": {
    "papermill": {
     "duration": 0.053676,
     "end_time": "2021-09-23T20:10:41.708461",
     "exception": false,
     "start_time": "2021-09-23T20:10:41.654785",
     "status": "completed"
    },
    "tags": []
   },
   "outputs": [],
   "source": []
  }
 ],
 "metadata": {
  "kernelspec": {
   "display_name": "Python 3",
   "language": "python",
   "name": "python3"
  },
  "language_info": {
   "codemirror_mode": {
    "name": "ipython",
    "version": 3
   },
   "file_extension": ".py",
   "mimetype": "text/x-python",
   "name": "python",
   "nbconvert_exporter": "python",
   "pygments_lexer": "ipython3",
   "version": "3.6.15"
  },
  "papermill": {
   "default_parameters": {},
   "duration": 176.821842,
   "end_time": "2021-09-23T20:10:42.173006",
   "environment_variables": {},
   "exception": null,
   "input_path": "2020-08-11-part2.ipynb",
   "output_path": "2020-08-11-part2.ipynb",
   "parameters": {},
   "start_time": "2021-09-23T20:07:45.351164",
   "version": "2.3.3"
  }
 },
 "nbformat": 4,
 "nbformat_minor": 5
}