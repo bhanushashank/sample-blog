{
 "cells": [
  {
   "cell_type": "markdown",
   "id": "98380cd3",
   "metadata": {
    "papermill": {
     "duration": 0.034074,
     "end_time": "2021-11-09T00:22:25.480650",
     "exception": false,
     "start_time": "2021-11-09T00:22:25.446576",
     "status": "completed"
    },
    "tags": []
   },
   "source": [
    "# Distinguish Your Own Digits (DYOD)"
   ]
  },
  {
   "cell_type": "markdown",
   "id": "ef31240d",
   "metadata": {
    "papermill": {
     "duration": 0.030515,
     "end_time": "2021-11-09T00:22:25.541143",
     "exception": false,
     "start_time": "2021-11-09T00:22:25.510628",
     "status": "completed"
    },
    "tags": []
   },
   "source": [
    "You are going to write a classifier that distinguishes between the number 3 and number 8."
   ]
  },
  {
   "cell_type": "code",
   "execution_count": 1,
   "id": "b15c8646",
   "metadata": {
    "execution": {
     "iopub.execute_input": "2021-11-09T00:22:25.612534Z",
     "iopub.status.busy": "2021-11-09T00:22:25.611818Z",
     "iopub.status.idle": "2021-11-09T00:22:25.622700Z",
     "shell.execute_reply": "2021-11-09T00:22:25.622113Z"
    },
    "papermill": {
     "duration": 0.051857,
     "end_time": "2021-11-09T00:22:25.622903",
     "exception": false,
     "start_time": "2021-11-09T00:22:25.571046",
     "status": "completed"
    },
    "tags": []
   },
   "outputs": [],
   "source": [
    "%load_ext autoreload\n",
    "%autoreload 2"
   ]
  },
  {
   "cell_type": "code",
   "execution_count": 2,
   "id": "22ef38dc",
   "metadata": {
    "execution": {
     "iopub.execute_input": "2021-11-09T00:22:25.687273Z",
     "iopub.status.busy": "2021-11-09T00:22:25.686626Z",
     "iopub.status.idle": "2021-11-09T00:22:26.363587Z",
     "shell.execute_reply": "2021-11-09T00:22:26.362990Z"
    },
    "papermill": {
     "duration": 0.710815,
     "end_time": "2021-11-09T00:22:26.363745",
     "exception": false,
     "start_time": "2021-11-09T00:22:25.652930",
     "status": "completed"
    },
    "tags": []
   },
   "outputs": [],
   "source": [
    "%matplotlib inline\n",
    "import numpy as np\n",
    "import matplotlib.pyplot as plt\n",
    "import pandas as pd"
   ]
  },
  {
   "cell_type": "markdown",
   "id": "ba036198",
   "metadata": {
    "papermill": {
     "duration": 0.030435,
     "end_time": "2021-11-09T00:22:26.424972",
     "exception": false,
     "start_time": "2021-11-09T00:22:26.394537",
     "status": "completed"
    },
    "tags": []
   },
   "source": [
    "From the command line run `pip install mnist`. This is a library that will help you bring down the mnist dataset. If you run this from a notebook, you need to put  `!pip install mnist` in a cell by itself."
   ]
  },
  {
   "cell_type": "code",
   "execution_count": 3,
   "id": "bb6ad8a1",
   "metadata": {
    "execution": {
     "iopub.execute_input": "2021-11-09T00:22:26.510232Z",
     "iopub.status.busy": "2021-11-09T00:22:26.509230Z",
     "iopub.status.idle": "2021-11-09T00:22:29.363830Z",
     "shell.execute_reply": "2021-11-09T00:22:29.363273Z"
    },
    "papermill": {
     "duration": 2.908986,
     "end_time": "2021-11-09T00:22:29.363973",
     "exception": false,
     "start_time": "2021-11-09T00:22:26.454987",
     "status": "completed"
    },
    "tags": []
   },
   "outputs": [
    {
     "name": "stdout",
     "output_type": "stream",
     "text": [
      "Collecting mnist\r\n"
     ]
    },
    {
     "name": "stdout",
     "output_type": "stream",
     "text": [
      "  Downloading mnist-0.2.2-py2.py3-none-any.whl (3.5 kB)\r\n",
      "Requirement already satisfied: numpy in /opt/hostedtoolcache/Python/3.6.15/x64/lib/python3.6/site-packages (from mnist) (1.19.5)\r\n"
     ]
    },
    {
     "name": "stdout",
     "output_type": "stream",
     "text": [
      "Installing collected packages: mnist\r\n"
     ]
    },
    {
     "name": "stdout",
     "output_type": "stream",
     "text": [
      "Successfully installed mnist-0.2.2\r\n"
     ]
    }
   ],
   "source": [
    "!pip install mnist"
   ]
  },
  {
   "cell_type": "markdown",
   "id": "69df9c9a",
   "metadata": {
    "papermill": {
     "duration": 0.029382,
     "end_time": "2021-11-09T00:22:29.421983",
     "exception": false,
     "start_time": "2021-11-09T00:22:29.392601",
     "status": "completed"
    },
    "tags": []
   },
   "source": [
    "## Preparing the Data"
   ]
  },
  {
   "cell_type": "code",
   "execution_count": 4,
   "id": "7f69d806",
   "metadata": {
    "execution": {
     "iopub.execute_input": "2021-11-09T00:22:29.489576Z",
     "iopub.status.busy": "2021-11-09T00:22:29.488210Z",
     "iopub.status.idle": "2021-11-09T00:22:29.503950Z",
     "shell.execute_reply": "2021-11-09T00:22:29.503437Z"
    },
    "papermill": {
     "duration": 0.053869,
     "end_time": "2021-11-09T00:22:29.504097",
     "exception": false,
     "start_time": "2021-11-09T00:22:29.450228",
     "status": "completed"
    },
    "tags": []
   },
   "outputs": [],
   "source": [
    "import mnist"
   ]
  },
  {
   "cell_type": "code",
   "execution_count": 5,
   "id": "a411e44f",
   "metadata": {
    "execution": {
     "iopub.execute_input": "2021-11-09T00:22:29.573195Z",
     "iopub.status.busy": "2021-11-09T00:22:29.567210Z",
     "iopub.status.idle": "2021-11-09T00:22:30.343829Z",
     "shell.execute_reply": "2021-11-09T00:22:30.343228Z"
    },
    "papermill": {
     "duration": 0.808944,
     "end_time": "2021-11-09T00:22:30.343992",
     "exception": false,
     "start_time": "2021-11-09T00:22:29.535048",
     "status": "completed"
    },
    "tags": []
   },
   "outputs": [],
   "source": [
    "train_images = mnist.train_images()\n",
    "train_labels = mnist.train_labels()"
   ]
  },
  {
   "cell_type": "code",
   "execution_count": 6,
   "id": "dceab3a5",
   "metadata": {
    "execution": {
     "iopub.execute_input": "2021-11-09T00:22:30.422273Z",
     "iopub.status.busy": "2021-11-09T00:22:30.421612Z",
     "iopub.status.idle": "2021-11-09T00:22:30.432982Z",
     "shell.execute_reply": "2021-11-09T00:22:30.432074Z"
    },
    "papermill": {
     "duration": 0.057053,
     "end_time": "2021-11-09T00:22:30.433126",
     "exception": false,
     "start_time": "2021-11-09T00:22:30.376073",
     "status": "completed"
    },
    "tags": []
   },
   "outputs": [
    {
     "data": {
      "text/plain": [
       "((60000, 28, 28), (60000,))"
      ]
     },
     "execution_count": 6,
     "metadata": {},
     "output_type": "execute_result"
    }
   ],
   "source": [
    "train_images.shape, train_labels.shape"
   ]
  },
  {
   "cell_type": "code",
   "execution_count": 7,
   "id": "f50dc2bb",
   "metadata": {
    "execution": {
     "iopub.execute_input": "2021-11-09T00:22:30.516564Z",
     "iopub.status.busy": "2021-11-09T00:22:30.515626Z",
     "iopub.status.idle": "2021-11-09T00:22:30.737037Z",
     "shell.execute_reply": "2021-11-09T00:22:30.737603Z"
    },
    "papermill": {
     "duration": 0.263382,
     "end_time": "2021-11-09T00:22:30.737800",
     "exception": false,
     "start_time": "2021-11-09T00:22:30.474418",
     "status": "completed"
    },
    "tags": []
   },
   "outputs": [],
   "source": [
    "test_images = mnist.test_images()\n",
    "test_labels = mnist.test_labels()"
   ]
  },
  {
   "cell_type": "code",
   "execution_count": 8,
   "id": "fc38cf1b",
   "metadata": {
    "execution": {
     "iopub.execute_input": "2021-11-09T00:22:30.806978Z",
     "iopub.status.busy": "2021-11-09T00:22:30.806374Z",
     "iopub.status.idle": "2021-11-09T00:22:30.819882Z",
     "shell.execute_reply": "2021-11-09T00:22:30.819377Z"
    },
    "papermill": {
     "duration": 0.052378,
     "end_time": "2021-11-09T00:22:30.820010",
     "exception": false,
     "start_time": "2021-11-09T00:22:30.767632",
     "status": "completed"
    },
    "tags": []
   },
   "outputs": [
    {
     "data": {
      "text/plain": [
       "((10000, 28, 28), (10000,))"
      ]
     },
     "execution_count": 8,
     "metadata": {},
     "output_type": "execute_result"
    }
   ],
   "source": [
    "test_images.shape, test_labels.shape"
   ]
  },
  {
   "cell_type": "code",
   "execution_count": 9,
   "id": "f9ed8fe0",
   "metadata": {
    "execution": {
     "iopub.execute_input": "2021-11-09T00:22:30.895307Z",
     "iopub.status.busy": "2021-11-09T00:22:30.889230Z",
     "iopub.status.idle": "2021-11-09T00:22:31.074800Z",
     "shell.execute_reply": "2021-11-09T00:22:31.075649Z"
    },
    "papermill": {
     "duration": 0.227716,
     "end_time": "2021-11-09T00:22:31.075831",
     "exception": false,
     "start_time": "2021-11-09T00:22:30.848115",
     "status": "completed"
    },
    "tags": []
   },
   "outputs": [
    {
     "name": "stdout",
     "output_type": "stream",
     "text": [
      "2\n"
     ]
    },
    {
     "data": {
      "text/plain": [
       "<matplotlib.image.AxesImage at 0x7f6da89cc208>"
      ]
     },
     "execution_count": 9,
     "metadata": {},
     "output_type": "execute_result"
    },
    {
     "data": {
      "image/png": "[encoded data removed]",
      "text/plain": [
       "<Figure size 432x288 with 1 Axes>"
      ]
     },
     "metadata": {
      "needs_background": "light"
     },
     "output_type": "display_data"
    }
   ],
   "source": [
    "image_index = 7776 # You may select anything up to 60,000\n",
    "print(train_labels[image_index]) \n",
    "plt.imshow(train_images[image_index], cmap='Greys')"
   ]
  },
  {
   "cell_type": "markdown",
   "id": "a8d2388d",
   "metadata": {
    "papermill": {
     "duration": 0.033348,
     "end_time": "2021-11-09T00:22:31.145670",
     "exception": false,
     "start_time": "2021-11-09T00:22:31.112322",
     "status": "completed"
    },
    "tags": []
   },
   "source": [
    "## Filter data to get 3 and 8 out"
   ]
  },
  {
   "cell_type": "code",
   "execution_count": 10,
   "id": "776f7fc7",
   "metadata": {
    "execution": {
     "iopub.execute_input": "2021-11-09T00:22:31.220103Z",
     "iopub.status.busy": "2021-11-09T00:22:31.218933Z",
     "iopub.status.idle": "2021-11-09T00:22:31.238704Z",
     "shell.execute_reply": "2021-11-09T00:22:31.239255Z"
    },
    "papermill": {
     "duration": 0.059805,
     "end_time": "2021-11-09T00:22:31.239448",
     "exception": false,
     "start_time": "2021-11-09T00:22:31.179643",
     "status": "completed"
    },
    "tags": []
   },
   "outputs": [],
   "source": [
    "train_filter = np.where((train_labels == 3 ) | (train_labels == 8))\n",
    "test_filter = np.where((test_labels == 3) | (test_labels == 8))\n",
    "X_train, y_train = train_images[train_filter], train_labels[train_filter]\n",
    "X_test, y_test = test_images[test_filter], test_labels[test_filter]"
   ]
  },
  {
   "cell_type": "markdown",
   "id": "948f0b7e",
   "metadata": {
    "papermill": {
     "duration": 0.037939,
     "end_time": "2021-11-09T00:22:31.311411",
     "exception": false,
     "start_time": "2021-11-09T00:22:31.273472",
     "status": "completed"
    },
    "tags": []
   },
   "source": [
    "We normalize the pizel values in the 0 to 1 range"
   ]
  },
  {
   "cell_type": "code",
   "execution_count": 11,
   "id": "ee4c2166",
   "metadata": {
    "execution": {
     "iopub.execute_input": "2021-11-09T00:22:31.386669Z",
     "iopub.status.busy": "2021-11-09T00:22:31.381233Z",
     "iopub.status.idle": "2021-11-09T00:22:31.439055Z",
     "shell.execute_reply": "2021-11-09T00:22:31.438492Z"
    },
    "papermill": {
     "duration": 0.095438,
     "end_time": "2021-11-09T00:22:31.439215",
     "exception": false,
     "start_time": "2021-11-09T00:22:31.343777",
     "status": "completed"
    },
    "tags": []
   },
   "outputs": [],
   "source": [
    "X_train = X_train/255.\n",
    "X_test = X_test/255."
   ]
  },
  {
   "cell_type": "markdown",
   "id": "ddcf4fab",
   "metadata": {
    "papermill": {
     "duration": 0.029234,
     "end_time": "2021-11-09T00:22:31.498651",
     "exception": false,
     "start_time": "2021-11-09T00:22:31.469417",
     "status": "completed"
    },
    "tags": []
   },
   "source": [
    "And setup the labels as 1 (when the digit is 3) and 0 (when the digit is 8)"
   ]
  },
  {
   "cell_type": "code",
   "execution_count": 12,
   "id": "7dc908f2",
   "metadata": {
    "execution": {
     "iopub.execute_input": "2021-11-09T00:22:31.563494Z",
     "iopub.status.busy": "2021-11-09T00:22:31.562906Z",
     "iopub.status.idle": "2021-11-09T00:22:31.574800Z",
     "shell.execute_reply": "2021-11-09T00:22:31.575358Z"
    },
    "papermill": {
     "duration": 0.045046,
     "end_time": "2021-11-09T00:22:31.575490",
     "exception": false,
     "start_time": "2021-11-09T00:22:31.530444",
     "status": "completed"
    },
    "tags": []
   },
   "outputs": [],
   "source": [
    "y_train = 1*(y_train==3)\n",
    "y_test = 1*(y_test==3)"
   ]
  },
  {
   "cell_type": "code",
   "execution_count": 13,
   "id": "01e4e969",
   "metadata": {
    "execution": {
     "iopub.execute_input": "2021-11-09T00:22:31.638020Z",
     "iopub.status.busy": "2021-11-09T00:22:31.637444Z",
     "iopub.status.idle": "2021-11-09T00:22:31.651232Z",
     "shell.execute_reply": "2021-11-09T00:22:31.650759Z"
    },
    "papermill": {
     "duration": 0.046856,
     "end_time": "2021-11-09T00:22:31.651353",
     "exception": false,
     "start_time": "2021-11-09T00:22:31.604497",
     "status": "completed"
    },
    "tags": []
   },
   "outputs": [
    {
     "data": {
      "text/plain": [
       "((11982, 28, 28), (1984, 28, 28))"
      ]
     },
     "execution_count": 13,
     "metadata": {},
     "output_type": "execute_result"
    }
   ],
   "source": [
    "X_train.shape, X_test.shape"
   ]
  },
  {
   "cell_type": "markdown",
   "id": "5ccf3f85",
   "metadata": {
    "papermill": {
     "duration": 0.034111,
     "end_time": "2021-11-09T00:22:31.719254",
     "exception": false,
     "start_time": "2021-11-09T00:22:31.685143",
     "status": "completed"
    },
    "tags": []
   },
   "source": [
    "We reshape the data to flatten the image pixels into a set of features or co-variates:"
   ]
  },
  {
   "cell_type": "code",
   "execution_count": 14,
   "id": "5286a4a3",
   "metadata": {
    "execution": {
     "iopub.execute_input": "2021-11-09T00:22:31.794201Z",
     "iopub.status.busy": "2021-11-09T00:22:31.793509Z",
     "iopub.status.idle": "2021-11-09T00:22:31.806752Z",
     "shell.execute_reply": "2021-11-09T00:22:31.807285Z"
    },
    "papermill": {
     "duration": 0.054398,
     "end_time": "2021-11-09T00:22:31.807449",
     "exception": false,
     "start_time": "2021-11-09T00:22:31.753051",
     "status": "completed"
    },
    "tags": []
   },
   "outputs": [
    {
     "data": {
      "text/plain": [
       "((11982, 784), (1984, 784))"
      ]
     },
     "execution_count": 14,
     "metadata": {},
     "output_type": "execute_result"
    }
   ],
   "source": [
    "X_train = X_train.reshape(X_train.shape[0], -1)\n",
    "X_test = X_test.reshape(X_test.shape[0], -1)\n",
    "X_train.shape, X_test.shape"
   ]
  },
  {
   "cell_type": "code",
   "execution_count": 15,
   "id": "73c5f88a",
   "metadata": {
    "execution": {
     "iopub.execute_input": "2021-11-09T00:22:31.882449Z",
     "iopub.status.busy": "2021-11-09T00:22:31.881771Z",
     "iopub.status.idle": "2021-11-09T00:22:31.900833Z",
     "shell.execute_reply": "2021-11-09T00:22:31.900161Z"
    },
    "papermill": {
     "duration": 0.059314,
     "end_time": "2021-11-09T00:22:31.900987",
     "exception": false,
     "start_time": "2021-11-09T00:22:31.841673",
     "status": "completed"
    },
    "tags": []
   },
   "outputs": [],
   "source": [
    "#Impoting functions from 'Kudzu'\n",
    "from kudzu.model import Model\n",
    "from kudzu.train import Learner\n",
    "from kudzu.optim import GD\n",
    "from kudzu.data import Data, Sampler,Dataloader\n",
    "\n",
    "from kudzu.callbacks import AccCallback\n",
    "from kudzu.callbacks import ClfCallback\n",
    "\n",
    "from kudzu.loss import MSE\n",
    "\n",
    "from kudzu.layer import Sigmoid,Relu\n",
    "from kudzu.layer import Affine"
   ]
  },
  {
   "cell_type": "markdown",
   "id": "bc01172a",
   "metadata": {
    "papermill": {
     "duration": 0.032189,
     "end_time": "2021-11-09T00:22:31.967824",
     "exception": false,
     "start_time": "2021-11-09T00:22:31.935635",
     "status": "completed"
    },
    "tags": []
   },
   "source": [
    "### Let us create a `Config` class, to store important parameters. \n",
    "This class essentially plays the role of a dictionary."
   ]
  },
  {
   "cell_type": "code",
   "execution_count": 16,
   "id": "978281aa",
   "metadata": {
    "execution": {
     "iopub.execute_input": "2021-11-09T00:22:32.044920Z",
     "iopub.status.busy": "2021-11-09T00:22:32.040170Z",
     "iopub.status.idle": "2021-11-09T00:22:32.050958Z",
     "shell.execute_reply": "2021-11-09T00:22:32.050478Z"
    },
    "papermill": {
     "duration": 0.052548,
     "end_time": "2021-11-09T00:22:32.051083",
     "exception": false,
     "start_time": "2021-11-09T00:22:31.998535",
     "status": "completed"
    },
    "tags": []
   },
   "outputs": [],
   "source": [
    "class Config:\n",
    "    pass\n",
    "config = Config()\n",
    "config.lr = 0.001\n",
    "config.num_epochs = 250\n",
    "config.bs = 50"
   ]
  },
  {
   "cell_type": "markdown",
   "id": "1385fa59",
   "metadata": {
    "papermill": {
     "duration": 0.035296,
     "end_time": "2021-11-09T00:22:32.119406",
     "exception": false,
     "start_time": "2021-11-09T00:22:32.084110",
     "status": "completed"
    },
    "tags": []
   },
   "source": [
    "### Running Models with the Training data\n",
    "Details about the network layers:\n",
    "- A first affine layer has 784 inputs and does 100 affine transforms. These are followed by a Relu\n",
    "- A second affine layer has 100 inputs from the 100 activations of the past layer, and does 100 affine transforms. These are followed by a Relu\n",
    "- A third affine layer has 100 activations and does 2 affine transformations to create an embedding for visualization. There is no non-linearity here.\n",
    "- A final \"logistic regression\" which has an affine transform from 2 inputs to 1 output, which is squeezed through a sigmoid.\n"
   ]
  },
  {
   "cell_type": "code",
   "execution_count": 17,
   "id": "2b9c66db",
   "metadata": {
    "execution": {
     "iopub.execute_input": "2021-11-09T00:22:32.195389Z",
     "iopub.status.busy": "2021-11-09T00:22:32.194764Z",
     "iopub.status.idle": "2021-11-09T00:22:32.205327Z",
     "shell.execute_reply": "2021-11-09T00:22:32.204829Z"
    },
    "papermill": {
     "duration": 0.051163,
     "end_time": "2021-11-09T00:22:32.205448",
     "exception": false,
     "start_time": "2021-11-09T00:22:32.154285",
     "status": "completed"
    },
    "tags": []
   },
   "outputs": [],
   "source": [
    "data = Data(X_train, y_train.reshape(-1,1))\n",
    "sampler = Sampler(data, config.bs, shuffle=True)\n",
    "\n",
    "dl = Dataloader(data, sampler)\n",
    "\n",
    "opt = GD(config.lr)\n",
    "loss = MSE()"
   ]
  },
  {
   "cell_type": "code",
   "execution_count": 18,
   "id": "b275e4c2",
   "metadata": {
    "execution": {
     "iopub.execute_input": "2021-11-09T00:22:32.275549Z",
     "iopub.status.busy": "2021-11-09T00:22:32.274866Z",
     "iopub.status.idle": "2021-11-09T00:22:32.287551Z",
     "shell.execute_reply": "2021-11-09T00:22:32.288235Z"
    },
    "papermill": {
     "duration": 0.050729,
     "end_time": "2021-11-09T00:22:32.288384",
     "exception": false,
     "start_time": "2021-11-09T00:22:32.237655",
     "status": "completed"
    },
    "tags": []
   },
   "outputs": [],
   "source": [
    "training_data_x = X_train\n",
    "testing_data_x = X_test\n",
    "training_data_y = y_train.reshape(-1,1)\n",
    "testing_data_y = y_test.reshape(-1,1)"
   ]
  },
  {
   "cell_type": "code",
   "execution_count": 19,
   "id": "76951160",
   "metadata": {
    "execution": {
     "iopub.execute_input": "2021-11-09T00:22:32.359869Z",
     "iopub.status.busy": "2021-11-09T00:22:32.359177Z",
     "iopub.status.idle": "2021-11-09T00:22:32.377267Z",
     "shell.execute_reply": "2021-11-09T00:22:32.376668Z"
    },
    "papermill": {
     "duration": 0.056527,
     "end_time": "2021-11-09T00:22:32.377412",
     "exception": false,
     "start_time": "2021-11-09T00:22:32.320885",
     "status": "completed"
    },
    "tags": []
   },
   "outputs": [
    {
     "name": "stdout",
     "output_type": "stream",
     "text": [
      "xavier\n",
      "xavier\n",
      "xavier\n",
      "xavier\n",
      "xavier\n"
     ]
    }
   ],
   "source": [
    "layers = [Affine(\"first\", 784, 100), Relu(\"first\"), Affine(\"second\", 100, 100), Relu(\"second\"), Affine(\"third\", 100, 2), Affine(\"last\", 2, 1), Sigmoid(\"last\")]\n",
    "model_nn = Model(layers)\n",
    "model_lr = Model([Affine(\"logits\", 784, 1), Sigmoid(\"sigmoid\")])"
   ]
  },
  {
   "cell_type": "code",
   "execution_count": 20,
   "id": "6eede77a",
   "metadata": {
    "execution": {
     "iopub.execute_input": "2021-11-09T00:22:32.445805Z",
     "iopub.status.busy": "2021-11-09T00:22:32.445042Z",
     "iopub.status.idle": "2021-11-09T00:22:32.457991Z",
     "shell.execute_reply": "2021-11-09T00:22:32.457487Z"
    },
    "papermill": {
     "duration": 0.047898,
     "end_time": "2021-11-09T00:22:32.458113",
     "exception": false,
     "start_time": "2021-11-09T00:22:32.410215",
     "status": "completed"
    },
    "tags": []
   },
   "outputs": [],
   "source": [
    "nn_learner = Learner(loss, model_nn, opt, config.num_epochs)\n",
    "acc_nn = ClfCallback(nn_learner, config.bs, training_data_x , testing_data_x, training_data_y, testing_data_y)\n",
    "nn_learner.set_callbacks([acc_nn])"
   ]
  },
  {
   "cell_type": "code",
   "execution_count": 21,
   "id": "877b6cc7",
   "metadata": {
    "execution": {
     "iopub.execute_input": "2021-11-09T00:22:32.527677Z",
     "iopub.status.busy": "2021-11-09T00:22:32.527047Z",
     "iopub.status.idle": "2021-11-09T00:22:32.542240Z",
     "shell.execute_reply": "2021-11-09T00:22:32.540746Z"
    },
    "papermill": {
     "duration": 0.052255,
     "end_time": "2021-11-09T00:22:32.542376",
     "exception": false,
     "start_time": "2021-11-09T00:22:32.490121",
     "status": "completed"
    },
    "tags": []
   },
   "outputs": [],
   "source": [
    "lr_learner = Learner(loss, model_lr, opt, config.num_epochs)\n",
    "acc_lr = ClfCallback(lr_learner, config.bs, training_data_x , testing_data_x, training_data_y, testing_data_y)\n",
    "lr_learner.set_callbacks([acc_lr])"
   ]
  },
  {
   "cell_type": "code",
   "execution_count": 22,
   "id": "d9b133c3",
   "metadata": {
    "execution": {
     "iopub.execute_input": "2021-11-09T00:22:32.625627Z",
     "iopub.status.busy": "2021-11-09T00:22:32.624939Z",
     "iopub.status.idle": "2021-11-09T00:24:38.741837Z",
     "shell.execute_reply": "2021-11-09T00:24:38.742476Z"
    },
    "papermill": {
     "duration": 126.165728,
     "end_time": "2021-11-09T00:24:38.742654",
     "exception": false,
     "start_time": "2021-11-09T00:22:32.576926",
     "status": "completed"
    },
    "tags": []
   },
   "outputs": [
    {
     "name": "stdout",
     "output_type": "stream",
     "text": [
      "Epoch 0, Loss 0.2368\n",
      "Training Accuracy: 0.6883, Testing Accuracy: 0.6744\n",
      "\n"
     ]
    },
    {
     "name": "stdout",
     "output_type": "stream",
     "text": [
      "Epoch 10, Loss 0.0926\n",
      "Training Accuracy: 0.9148, Testing Accuracy: 0.9274\n",
      "\n"
     ]
    },
    {
     "name": "stdout",
     "output_type": "stream",
     "text": [
      "Epoch 20, Loss 0.0562\n",
      "Training Accuracy: 0.9427, Testing Accuracy: 0.9531\n",
      "\n"
     ]
    },
    {
     "name": "stdout",
     "output_type": "stream",
     "text": [
      "Epoch 30, Loss 0.0439\n",
      "Training Accuracy: 0.9523, Testing Accuracy: 0.9617\n",
      "\n"
     ]
    },
    {
     "name": "stdout",
     "output_type": "stream",
     "text": [
      "Epoch 40, Loss 0.038\n",
      "Training Accuracy: 0.9579, Testing Accuracy: 0.9652\n",
      "\n"
     ]
    },
    {
     "name": "stdout",
     "output_type": "stream",
     "text": [
      "Epoch 50, Loss 0.0345\n",
      "Training Accuracy: 0.9608, Testing Accuracy: 0.9652\n",
      "\n"
     ]
    },
    {
     "name": "stdout",
     "output_type": "stream",
     "text": [
      "Epoch 60, Loss 0.0321\n",
      "Training Accuracy: 0.9627, Testing Accuracy: 0.9667\n",
      "\n"
     ]
    },
    {
     "name": "stdout",
     "output_type": "stream",
     "text": [
      "Epoch 70, Loss 0.0303\n",
      "Training Accuracy: 0.9644, Testing Accuracy: 0.9677\n",
      "\n"
     ]
    },
    {
     "name": "stdout",
     "output_type": "stream",
     "text": [
      "Epoch 80, Loss 0.0289\n",
      "Training Accuracy: 0.9665, Testing Accuracy: 0.9688\n",
      "\n"
     ]
    },
    {
     "name": "stdout",
     "output_type": "stream",
     "text": [
      "Epoch 90, Loss 0.0277\n",
      "Training Accuracy: 0.9673, Testing Accuracy: 0.9698\n",
      "\n"
     ]
    },
    {
     "name": "stdout",
     "output_type": "stream",
     "text": [
      "Epoch 100, Loss 0.0268\n",
      "Training Accuracy: 0.9685, Testing Accuracy: 0.9693\n",
      "\n"
     ]
    },
    {
     "name": "stdout",
     "output_type": "stream",
     "text": [
      "Epoch 110, Loss 0.0259\n",
      "Training Accuracy: 0.9695, Testing Accuracy: 0.9693\n",
      "\n"
     ]
    },
    {
     "name": "stdout",
     "output_type": "stream",
     "text": [
      "Epoch 120, Loss 0.0251\n",
      "Training Accuracy: 0.9704, Testing Accuracy: 0.9698\n",
      "\n"
     ]
    },
    {
     "name": "stdout",
     "output_type": "stream",
     "text": [
      "Epoch 130, Loss 0.0244\n",
      "Training Accuracy: 0.9715, Testing Accuracy: 0.9693\n",
      "\n"
     ]
    },
    {
     "name": "stdout",
     "output_type": "stream",
     "text": [
      "Epoch 140, Loss 0.0238\n",
      "Training Accuracy: 0.9723, Testing Accuracy: 0.9698\n",
      "\n"
     ]
    },
    {
     "name": "stdout",
     "output_type": "stream",
     "text": [
      "Epoch 150, Loss 0.0232\n",
      "Training Accuracy: 0.9732, Testing Accuracy: 0.9698\n",
      "\n"
     ]
    },
    {
     "name": "stdout",
     "output_type": "stream",
     "text": [
      "Epoch 160, Loss 0.0226\n",
      "Training Accuracy: 0.9738, Testing Accuracy: 0.9693\n",
      "\n"
     ]
    },
    {
     "name": "stdout",
     "output_type": "stream",
     "text": [
      "Epoch 170, Loss 0.0221\n",
      "Training Accuracy: 0.9745, Testing Accuracy: 0.9698\n",
      "\n"
     ]
    },
    {
     "name": "stdout",
     "output_type": "stream",
     "text": [
      "Epoch 180, Loss 0.0216\n",
      "Training Accuracy: 0.9755, Testing Accuracy: 0.9708\n",
      "\n"
     ]
    },
    {
     "name": "stdout",
     "output_type": "stream",
     "text": [
      "Epoch 190, Loss 0.0211\n",
      "Training Accuracy: 0.9763, Testing Accuracy: 0.9713\n",
      "\n"
     ]
    },
    {
     "name": "stdout",
     "output_type": "stream",
     "text": [
      "Epoch 200, Loss 0.0206\n",
      "Training Accuracy: 0.9765, Testing Accuracy: 0.9728\n",
      "\n"
     ]
    },
    {
     "name": "stdout",
     "output_type": "stream",
     "text": [
      "Epoch 210, Loss 0.0202\n",
      "Training Accuracy: 0.9770, Testing Accuracy: 0.9728\n",
      "\n"
     ]
    },
    {
     "name": "stdout",
     "output_type": "stream",
     "text": [
      "Epoch 220, Loss 0.0198\n",
      "Training Accuracy: 0.9775, Testing Accuracy: 0.9738\n",
      "\n"
     ]
    },
    {
     "name": "stdout",
     "output_type": "stream",
     "text": [
      "Epoch 230, Loss 0.0193\n",
      "Training Accuracy: 0.9776, Testing Accuracy: 0.9738\n",
      "\n"
     ]
    },
    {
     "name": "stdout",
     "output_type": "stream",
     "text": [
      "Epoch 240, Loss 0.019\n",
      "Training Accuracy: 0.9786, Testing Accuracy: 0.9748\n",
      "\n"
     ]
    },
    {
     "data": {
      "text/plain": [
       "0.010240983895823393"
      ]
     },
     "execution_count": 22,
     "metadata": {},
     "output_type": "execute_result"
    }
   ],
   "source": [
    "nn_learner.train_loop(dl)"
   ]
  },
  {
   "cell_type": "code",
   "execution_count": 23,
   "id": "e0163366",
   "metadata": {
    "execution": {
     "iopub.execute_input": "2021-11-09T00:24:38.838931Z",
     "iopub.status.busy": "2021-11-09T00:24:38.837883Z",
     "iopub.status.idle": "2021-11-09T00:24:57.288489Z",
     "shell.execute_reply": "2021-11-09T00:24:57.289392Z"
    },
    "papermill": {
     "duration": 18.502728,
     "end_time": "2021-11-09T00:24:57.289569",
     "exception": false,
     "start_time": "2021-11-09T00:24:38.786841",
     "status": "completed"
    },
    "tags": []
   },
   "outputs": [
    {
     "name": "stdout",
     "output_type": "stream",
     "text": [
      "Epoch 0, Loss 0.2012\n",
      "Training Accuracy: 0.8356, Testing Accuracy: 0.8407\n",
      "\n"
     ]
    },
    {
     "name": "stdout",
     "output_type": "stream",
     "text": [
      "Epoch 10, Loss 0.0974\n",
      "Training Accuracy: 0.9180, Testing Accuracy: 0.9219\n",
      "\n"
     ]
    },
    {
     "name": "stdout",
     "output_type": "stream",
     "text": [
      "Epoch 20, Loss 0.0767\n",
      "Training Accuracy: 0.9297, Testing Accuracy: 0.9405\n",
      "\n"
     ]
    },
    {
     "name": "stdout",
     "output_type": "stream",
     "text": [
      "Epoch 30, Loss 0.0668\n",
      "Training Accuracy: 0.9369, Testing Accuracy: 0.9496\n",
      "\n"
     ]
    },
    {
     "name": "stdout",
     "output_type": "stream",
     "text": [
      "Epoch 40, Loss 0.0607\n",
      "Training Accuracy: 0.9409, Testing Accuracy: 0.9521\n",
      "\n"
     ]
    },
    {
     "name": "stdout",
     "output_type": "stream",
     "text": [
      "Epoch 50, Loss 0.0565\n",
      "Training Accuracy: 0.9447, Testing Accuracy: 0.9551\n",
      "\n"
     ]
    },
    {
     "name": "stdout",
     "output_type": "stream",
     "text": [
      "Epoch 60, Loss 0.0534\n",
      "Training Accuracy: 0.9474, Testing Accuracy: 0.9556\n",
      "\n"
     ]
    },
    {
     "name": "stdout",
     "output_type": "stream",
     "text": [
      "Epoch 70, Loss 0.0509\n",
      "Training Accuracy: 0.9493, Testing Accuracy: 0.9561\n",
      "\n"
     ]
    },
    {
     "name": "stdout",
     "output_type": "stream",
     "text": [
      "Epoch 80, Loss 0.049\n",
      "Training Accuracy: 0.9508, Testing Accuracy: 0.9582\n",
      "\n"
     ]
    },
    {
     "name": "stdout",
     "output_type": "stream",
     "text": [
      "Epoch 90, Loss 0.0473\n",
      "Training Accuracy: 0.9523, Testing Accuracy: 0.9592\n",
      "\n"
     ]
    },
    {
     "name": "stdout",
     "output_type": "stream",
     "text": [
      "Epoch 100, Loss 0.0459\n",
      "Training Accuracy: 0.9536, Testing Accuracy: 0.9607\n",
      "\n"
     ]
    },
    {
     "name": "stdout",
     "output_type": "stream",
     "text": [
      "Epoch 110, Loss 0.0447\n",
      "Training Accuracy: 0.9543, Testing Accuracy: 0.9622\n",
      "\n"
     ]
    },
    {
     "name": "stdout",
     "output_type": "stream",
     "text": [
      "Epoch 120, Loss 0.0437\n",
      "Training Accuracy: 0.9543, Testing Accuracy: 0.9622\n",
      "\n"
     ]
    },
    {
     "name": "stdout",
     "output_type": "stream",
     "text": [
      "Epoch 130, Loss 0.0428\n",
      "Training Accuracy: 0.9550, Testing Accuracy: 0.9622\n",
      "\n"
     ]
    },
    {
     "name": "stdout",
     "output_type": "stream",
     "text": [
      "Epoch 140, Loss 0.042\n",
      "Training Accuracy: 0.9554, Testing Accuracy: 0.9627\n",
      "\n"
     ]
    },
    {
     "name": "stdout",
     "output_type": "stream",
     "text": [
      "Epoch 150, Loss 0.0412\n",
      "Training Accuracy: 0.9563, Testing Accuracy: 0.9632\n",
      "\n"
     ]
    },
    {
     "name": "stdout",
     "output_type": "stream",
     "text": [
      "Epoch 160, Loss 0.0406\n",
      "Training Accuracy: 0.9573, Testing Accuracy: 0.9637\n",
      "\n"
     ]
    },
    {
     "name": "stdout",
     "output_type": "stream",
     "text": [
      "Epoch 170, Loss 0.04\n",
      "Training Accuracy: 0.9578, Testing Accuracy: 0.9652\n",
      "\n"
     ]
    },
    {
     "name": "stdout",
     "output_type": "stream",
     "text": [
      "Epoch 180, Loss 0.0394\n",
      "Training Accuracy: 0.9583, Testing Accuracy: 0.9652\n",
      "\n"
     ]
    },
    {
     "name": "stdout",
     "output_type": "stream",
     "text": [
      "Epoch 190, Loss 0.0389\n",
      "Training Accuracy: 0.9589, Testing Accuracy: 0.9657\n",
      "\n"
     ]
    },
    {
     "name": "stdout",
     "output_type": "stream",
     "text": [
      "Epoch 200, Loss 0.0384\n",
      "Training Accuracy: 0.9591, Testing Accuracy: 0.9652\n",
      "\n"
     ]
    },
    {
     "name": "stdout",
     "output_type": "stream",
     "text": [
      "Epoch 210, Loss 0.038\n",
      "Training Accuracy: 0.9595, Testing Accuracy: 0.9657\n",
      "\n"
     ]
    },
    {
     "name": "stdout",
     "output_type": "stream",
     "text": [
      "Epoch 220, Loss 0.0376\n",
      "Training Accuracy: 0.9598, Testing Accuracy: 0.9657\n",
      "\n"
     ]
    },
    {
     "name": "stdout",
     "output_type": "stream",
     "text": [
      "Epoch 230, Loss 0.0372\n",
      "Training Accuracy: 0.9606, Testing Accuracy: 0.9657\n",
      "\n"
     ]
    },
    {
     "name": "stdout",
     "output_type": "stream",
     "text": [
      "Epoch 240, Loss 0.0369\n",
      "Training Accuracy: 0.9610, Testing Accuracy: 0.9657\n",
      "\n"
     ]
    },
    {
     "data": {
      "text/plain": [
       "0.05642433527717672"
      ]
     },
     "execution_count": 23,
     "metadata": {},
     "output_type": "execute_result"
    }
   ],
   "source": [
    "lr_learner.train_loop(dl)"
   ]
  },
  {
   "cell_type": "code",
   "execution_count": 24,
   "id": "ca410940",
   "metadata": {
    "execution": {
     "iopub.execute_input": "2021-11-09T00:24:57.401740Z",
     "iopub.status.busy": "2021-11-09T00:24:57.399747Z",
     "iopub.status.idle": "2021-11-09T00:24:57.691320Z",
     "shell.execute_reply": "2021-11-09T00:24:57.690732Z"
    },
    "papermill": {
     "duration": 0.349929,
     "end_time": "2021-11-09T00:24:57.691470",
     "exception": false,
     "start_time": "2021-11-09T00:24:57.341541",
     "status": "completed"
    },
    "tags": []
   },
   "outputs": [
    {
     "data": {
      "text/plain": [
       "<matplotlib.legend.Legend at 0x7f6da8531828>"
      ]
     },
     "execution_count": 24,
     "metadata": {},
     "output_type": "execute_result"
    },
    {
     "data": {
      "image/png": "[encoded data removed]",
      "text/plain": [
       "<Figure size 1080x720 with 1 Axes>"
      ]
     },
     "metadata": {
      "needs_background": "light"
     },
     "output_type": "display_data"
    }
   ],
   "source": [
    "#comparing the results of NN and LR\n",
    "plt.figure(figsize=(15,10))\n",
    "\n",
    "# Neural Network plots\n",
    "plt.plot(acc_nn.accuracies, 'r-', label = \"Training Accuracies - NN\")\n",
    "plt.plot(acc_nn.test_accuracies, 'g-', label = \"Testing Accuracies - NN\")\n",
    "\n",
    "# Logistic Regression plots\n",
    "plt.plot(acc_lr.accuracies, 'k-', label = \"Training Accuracies - LR\")\n",
    "plt.plot(acc_lr.test_accuracies, 'b-', label = \"Testing Accuracies - LR\")\n",
    "plt.legend()"
   ]
  },
  {
   "cell_type": "markdown",
   "id": "80dfb35c",
   "metadata": {
    "papermill": {
     "duration": 0.052556,
     "end_time": "2021-11-09T00:24:57.798891",
     "exception": false,
     "start_time": "2021-11-09T00:24:57.746335",
     "status": "completed"
    },
    "tags": []
   },
   "source": [
    "#### Plotting the outputs of this layer of the NN.\n"
   ]
  },
  {
   "cell_type": "code",
   "execution_count": 25,
   "id": "45eb2ff5",
   "metadata": {
    "execution": {
     "iopub.execute_input": "2021-11-09T00:24:57.911571Z",
     "iopub.status.busy": "2021-11-09T00:24:57.910863Z",
     "iopub.status.idle": "2021-11-09T00:24:57.939785Z",
     "shell.execute_reply": "2021-11-09T00:24:57.940452Z"
    },
    "papermill": {
     "duration": 0.087043,
     "end_time": "2021-11-09T00:24:57.940668",
     "exception": false,
     "start_time": "2021-11-09T00:24:57.853625",
     "status": "completed"
    },
    "tags": []
   },
   "outputs": [],
   "source": [
    "new_model = Model(layers[:-2])\n",
    "testing_plot = new_model(testing_data_x)"
   ]
  },
  {
   "cell_type": "code",
   "execution_count": 26,
   "id": "4c0a5485",
   "metadata": {
    "execution": {
     "iopub.execute_input": "2021-11-09T00:24:58.055654Z",
     "iopub.status.busy": "2021-11-09T00:24:58.054991Z",
     "iopub.status.idle": "2021-11-09T00:24:58.361940Z",
     "shell.execute_reply": "2021-11-09T00:24:58.362455Z"
    },
    "papermill": {
     "duration": 0.367348,
     "end_time": "2021-11-09T00:24:58.362627",
     "exception": false,
     "start_time": "2021-11-09T00:24:57.995279",
     "status": "completed"
    },
    "tags": []
   },
   "outputs": [
    {
     "data": {
      "text/plain": [
       "Text(0.5, 1.0, 'Outputs')"
      ]
     },
     "execution_count": 26,
     "metadata": {},
     "output_type": "execute_result"
    },
    {
     "data": {
      "image/png": "[encoded data removed]",
      "text/plain": [
       "<Figure size 576x504 with 1 Axes>"
      ]
     },
     "metadata": {
      "needs_background": "light"
     },
     "output_type": "display_data"
    }
   ],
   "source": [
    "# Plotting the scatter plot of points and color coding by class\n",
    "plt.figure(figsize=(8,7))\n",
    "plt.scatter(testing_plot[:,0], testing_plot[:,1], alpha = 0.1, c = y_test.ravel());\n",
    "plt.title('Outputs')"
   ]
  },
  {
   "cell_type": "markdown",
   "id": "a74fcf8f",
   "metadata": {
    "papermill": {
     "duration": 0.061147,
     "end_time": "2021-11-09T00:24:58.482105",
     "exception": false,
     "start_time": "2021-11-09T00:24:58.420958",
     "status": "completed"
    },
    "tags": []
   },
   "source": [
    "Probability contours"
   ]
  },
  {
   "cell_type": "code",
   "execution_count": 27,
   "id": "d0afc8e3",
   "metadata": {
    "execution": {
     "iopub.execute_input": "2021-11-09T00:24:58.618871Z",
     "iopub.status.busy": "2021-11-09T00:24:58.618267Z",
     "iopub.status.idle": "2021-11-09T00:24:58.626936Z",
     "shell.execute_reply": "2021-11-09T00:24:58.626431Z"
    },
    "papermill": {
     "duration": 0.071173,
     "end_time": "2021-11-09T00:24:58.627059",
     "exception": false,
     "start_time": "2021-11-09T00:24:58.555886",
     "status": "completed"
    },
    "tags": []
   },
   "outputs": [],
   "source": [
    "model_prob = Model(layers[-2:]) "
   ]
  },
  {
   "cell_type": "code",
   "execution_count": 28,
   "id": "9b96e238",
   "metadata": {
    "execution": {
     "iopub.execute_input": "2021-11-09T00:24:58.738976Z",
     "iopub.status.busy": "2021-11-09T00:24:58.738263Z",
     "iopub.status.idle": "2021-11-09T00:24:58.751171Z",
     "shell.execute_reply": "2021-11-09T00:24:58.750488Z"
    },
    "papermill": {
     "duration": 0.074832,
     "end_time": "2021-11-09T00:24:58.751316",
     "exception": false,
     "start_time": "2021-11-09T00:24:58.676484",
     "status": "completed"
    },
    "tags": []
   },
   "outputs": [],
   "source": [
    "#creating the x and y ranges according to the above generated plot.\n",
    "x_range = np.linspace(-4, 1, 100) \n",
    "y_range = np.linspace(-6, 6, 100) \n",
    "x_grid, y_grid = np.meshgrid(x_range, y_range) # x_grid and y_grig are of size 100 X 100\n",
    "\n",
    "# converting x_grid and y_grid to continuous arrays\n",
    "x_gridflat = np.ravel(x_grid)\n",
    "y_gridflat = np.ravel(y_grid)\n",
    "\n",
    "# The last layer of the current model takes two columns as input. Hence transpose of np.vstack() is required.\n",
    "X = np.vstack((x_gridflat, y_gridflat)).T\n",
    "\n",
    "prob_contour = model_prob(X).reshape(100,100) "
   ]
  },
  {
   "cell_type": "code",
   "execution_count": 29,
   "id": "da72499a",
   "metadata": {
    "execution": {
     "iopub.execute_input": "2021-11-09T00:24:58.894078Z",
     "iopub.status.busy": "2021-11-09T00:24:58.886573Z",
     "iopub.status.idle": "2021-11-09T00:24:59.190251Z",
     "shell.execute_reply": "2021-11-09T00:24:59.189431Z"
    },
    "papermill": {
     "duration": 0.386966,
     "end_time": "2021-11-09T00:24:59.190386",
     "exception": false,
     "start_time": "2021-11-09T00:24:58.803420",
     "status": "completed"
    },
    "tags": []
   },
   "outputs": [
    {
     "data": {
      "image/png": "[encoded data removed]",
      "text/plain": [
       "<Figure size 720x648 with 1 Axes>"
      ]
     },
     "metadata": {
      "needs_background": "light"
     },
     "output_type": "display_data"
    }
   ],
   "source": [
    "plt.figure(figsize=(10,9))\n",
    "plt.scatter(testing_plot[:,0], testing_plot[:,1], alpha = 0.1, c = y_test.ravel())\n",
    "contours = plt.contour(x_grid,y_grid,prob_contour)\n",
    "plt.title('Probability Contours')\n",
    "plt.clabel(contours, inline = True );"
   ]
  },
  {
   "cell_type": "code",
   "execution_count": null,
   "id": "e81b4ac7",
   "metadata": {
    "papermill": {
     "duration": 0.052093,
     "end_time": "2021-11-09T00:24:59.296218",
     "exception": false,
     "start_time": "2021-11-09T00:24:59.244125",
     "status": "completed"
    },
    "tags": []
   },
   "outputs": [],
   "source": []
  }
 ],
 "metadata": {
  "kernelspec": {
   "display_name": "Python 3",
   "language": "python",
   "name": "python3"
  },
  "language_info": {
   "codemirror_mode": {
    "name": "ipython",
    "version": 3
   },
   "file_extension": ".py",
   "mimetype": "text/x-python",
   "name": "python",
   "nbconvert_exporter": "python",
   "pygments_lexer": "ipython3",
   "version": "3.6.15"
  },
  "papermill": {
   "default_parameters": {},
   "duration": 155.461805,
   "end_time": "2021-11-09T00:24:59.760889",
   "environment_variables": {},
   "exception": null,
   "input_path": "2020-08-11-part2.ipynb",
   "output_path": "2020-08-11-part2.ipynb",
   "parameters": {},
   "start_time": "2021-11-09T00:22:24.299084",
   "version": "2.3.3"
  }
 },
 "nbformat": 4,
 "nbformat_minor": 5
}