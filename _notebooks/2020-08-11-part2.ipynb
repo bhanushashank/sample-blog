{
 "cells": [
  {
   "cell_type": "markdown",
   "id": "98380cd3",
   "metadata": {
    "papermill": {
     "duration": 0.032414,
     "end_time": "2022-03-02T00:30:32.230594",
     "exception": false,
     "start_time": "2022-03-02T00:30:32.198180",
     "status": "completed"
    },
    "tags": []
   },
   "source": [
    "# Distinguish Your Own Digits (DYOD)"
   ]
  },
  {
   "cell_type": "markdown",
   "id": "ef31240d",
   "metadata": {
    "papermill": {
     "duration": 0.029414,
     "end_time": "2022-03-02T00:30:32.288858",
     "exception": false,
     "start_time": "2022-03-02T00:30:32.259444",
     "status": "completed"
    },
    "tags": []
   },
   "source": [
    "You are going to write a classifier that distinguishes between the number 3 and number 8."
   ]
  },
  {
   "cell_type": "code",
   "execution_count": 1,
   "id": "b15c8646",
   "metadata": {
    "execution": {
     "iopub.execute_input": "2022-03-02T00:30:32.361878Z",
     "iopub.status.busy": "2022-03-02T00:30:32.361112Z",
     "iopub.status.idle": "2022-03-02T00:30:32.373133Z",
     "shell.execute_reply": "2022-03-02T00:30:32.373640Z"
    },
    "papermill": {
     "duration": 0.056232,
     "end_time": "2022-03-02T00:30:32.373826",
     "exception": false,
     "start_time": "2022-03-02T00:30:32.317594",
     "status": "completed"
    },
    "tags": []
   },
   "outputs": [],
   "source": [
    "%load_ext autoreload\n",
    "%autoreload 2"
   ]
  },
  {
   "cell_type": "code",
   "execution_count": 2,
   "id": "22ef38dc",
   "metadata": {
    "execution": {
     "iopub.execute_input": "2022-03-02T00:30:32.435320Z",
     "iopub.status.busy": "2022-03-02T00:30:32.434184Z",
     "iopub.status.idle": "2022-03-02T00:30:33.152559Z",
     "shell.execute_reply": "2022-03-02T00:30:33.151332Z"
    },
    "papermill": {
     "duration": 0.750892,
     "end_time": "2022-03-02T00:30:33.152716",
     "exception": false,
     "start_time": "2022-03-02T00:30:32.401824",
     "status": "completed"
    },
    "tags": []
   },
   "outputs": [],
   "source": [
    "%matplotlib inline\n",
    "import numpy as np\n",
    "import matplotlib.pyplot as plt\n",
    "import pandas as pd"
   ]
  },
  {
   "cell_type": "markdown",
   "id": "ba036198",
   "metadata": {
    "papermill": {
     "duration": 0.027054,
     "end_time": "2022-03-02T00:30:33.207062",
     "exception": false,
     "start_time": "2022-03-02T00:30:33.180008",
     "status": "completed"
    },
    "tags": []
   },
   "source": [
    "From the command line run `pip install mnist`. This is a library that will help you bring down the mnist dataset. If you run this from a notebook, you need to put  `!pip install mnist` in a cell by itself."
   ]
  },
  {
   "cell_type": "code",
   "execution_count": 3,
   "id": "bb6ad8a1",
   "metadata": {
    "execution": {
     "iopub.execute_input": "2022-03-02T00:30:33.266653Z",
     "iopub.status.busy": "2022-03-02T00:30:33.265956Z",
     "iopub.status.idle": "2022-03-02T00:30:35.981749Z",
     "shell.execute_reply": "2022-03-02T00:30:35.981148Z"
    },
    "papermill": {
     "duration": 2.747851,
     "end_time": "2022-03-02T00:30:35.981892",
     "exception": false,
     "start_time": "2022-03-02T00:30:33.234041",
     "status": "completed"
    },
    "tags": []
   },
   "outputs": [
    {
     "name": "stdout",
     "output_type": "stream",
     "text": [
      "Collecting mnist\r\n"
     ]
    },
    {
     "name": "stdout",
     "output_type": "stream",
     "text": [
      "  Downloading mnist-0.2.2-py2.py3-none-any.whl (3.5 kB)\r\n",
      "Requirement already satisfied: numpy in /opt/hostedtoolcache/Python/3.6.15/x64/lib/python3.6/site-packages (from mnist) (1.19.5)\r\n"
     ]
    },
    {
     "name": "stdout",
     "output_type": "stream",
     "text": [
      "Installing collected packages: mnist\r\n"
     ]
    },
    {
     "name": "stdout",
     "output_type": "stream",
     "text": [
      "Successfully installed mnist-0.2.2\r\n"
     ]
    }
   ],
   "source": [
    "!pip install mnist"
   ]
  },
  {
   "cell_type": "markdown",
   "id": "69df9c9a",
   "metadata": {
    "papermill": {
     "duration": 0.030672,
     "end_time": "2022-03-02T00:30:36.047771",
     "exception": false,
     "start_time": "2022-03-02T00:30:36.017099",
     "status": "completed"
    },
    "tags": []
   },
   "source": [
    "## Preparing the Data"
   ]
  },
  {
   "cell_type": "code",
   "execution_count": 4,
   "id": "7f69d806",
   "metadata": {
    "execution": {
     "iopub.execute_input": "2022-03-02T00:30:36.120599Z",
     "iopub.status.busy": "2022-03-02T00:30:36.119973Z",
     "iopub.status.idle": "2022-03-02T00:30:36.138424Z",
     "shell.execute_reply": "2022-03-02T00:30:36.137751Z"
    },
    "papermill": {
     "duration": 0.055584,
     "end_time": "2022-03-02T00:30:36.138577",
     "exception": false,
     "start_time": "2022-03-02T00:30:36.082993",
     "status": "completed"
    },
    "tags": []
   },
   "outputs": [],
   "source": [
    "import mnist"
   ]
  },
  {
   "cell_type": "code",
   "execution_count": 5,
   "id": "a411e44f",
   "metadata": {
    "execution": {
     "iopub.execute_input": "2022-03-02T00:30:36.207424Z",
     "iopub.status.busy": "2022-03-02T00:30:36.206800Z",
     "iopub.status.idle": "2022-03-02T00:30:36.827377Z",
     "shell.execute_reply": "2022-03-02T00:30:36.826573Z"
    },
    "papermill": {
     "duration": 0.656811,
     "end_time": "2022-03-02T00:30:36.827576",
     "exception": false,
     "start_time": "2022-03-02T00:30:36.170765",
     "status": "completed"
    },
    "tags": []
   },
   "outputs": [],
   "source": [
    "train_images = mnist.train_images()\n",
    "train_labels = mnist.train_labels()"
   ]
  },
  {
   "cell_type": "code",
   "execution_count": 6,
   "id": "dceab3a5",
   "metadata": {
    "execution": {
     "iopub.execute_input": "2022-03-02T00:30:36.897067Z",
     "iopub.status.busy": "2022-03-02T00:30:36.896446Z",
     "iopub.status.idle": "2022-03-02T00:30:36.913938Z",
     "shell.execute_reply": "2022-03-02T00:30:36.914421Z"
    },
    "papermill": {
     "duration": 0.054321,
     "end_time": "2022-03-02T00:30:36.914578",
     "exception": false,
     "start_time": "2022-03-02T00:30:36.860257",
     "status": "completed"
    },
    "tags": []
   },
   "outputs": [
    {
     "data": {
      "text/plain": [
       "((60000, 28, 28), (60000,))"
      ]
     },
     "execution_count": 6,
     "metadata": {},
     "output_type": "execute_result"
    }
   ],
   "source": [
    "train_images.shape, train_labels.shape"
   ]
  },
  {
   "cell_type": "code",
   "execution_count": 7,
   "id": "f50dc2bb",
   "metadata": {
    "execution": {
     "iopub.execute_input": "2022-03-02T00:30:36.976735Z",
     "iopub.status.busy": "2022-03-02T00:30:36.976138Z",
     "iopub.status.idle": "2022-03-02T00:30:37.150357Z",
     "shell.execute_reply": "2022-03-02T00:30:37.149783Z"
    },
    "papermill": {
     "duration": 0.207237,
     "end_time": "2022-03-02T00:30:37.150498",
     "exception": false,
     "start_time": "2022-03-02T00:30:36.943261",
     "status": "completed"
    },
    "tags": []
   },
   "outputs": [],
   "source": [
    "test_images = mnist.test_images()\n",
    "test_labels = mnist.test_labels()"
   ]
  },
  {
   "cell_type": "code",
   "execution_count": 8,
   "id": "fc38cf1b",
   "metadata": {
    "execution": {
     "iopub.execute_input": "2022-03-02T00:30:37.214439Z",
     "iopub.status.busy": "2022-03-02T00:30:37.213843Z",
     "iopub.status.idle": "2022-03-02T00:30:37.233068Z",
     "shell.execute_reply": "2022-03-02T00:30:37.232579Z"
    },
    "papermill": {
     "duration": 0.053371,
     "end_time": "2022-03-02T00:30:37.233204",
     "exception": false,
     "start_time": "2022-03-02T00:30:37.179833",
     "status": "completed"
    },
    "tags": []
   },
   "outputs": [
    {
     "data": {
      "text/plain": [
       "((10000, 28, 28), (10000,))"
      ]
     },
     "execution_count": 8,
     "metadata": {},
     "output_type": "execute_result"
    }
   ],
   "source": [
    "test_images.shape, test_labels.shape"
   ]
  },
  {
   "cell_type": "code",
   "execution_count": 9,
   "id": "f9ed8fe0",
   "metadata": {
    "execution": {
     "iopub.execute_input": "2022-03-02T00:30:37.295732Z",
     "iopub.status.busy": "2022-03-02T00:30:37.295131Z",
     "iopub.status.idle": "2022-03-02T00:30:37.458049Z",
     "shell.execute_reply": "2022-03-02T00:30:37.458516Z"
    },
    "papermill": {
     "duration": 0.196029,
     "end_time": "2022-03-02T00:30:37.458684",
     "exception": false,
     "start_time": "2022-03-02T00:30:37.262655",
     "status": "completed"
    },
    "tags": []
   },
   "outputs": [
    {
     "name": "stdout",
     "output_type": "stream",
     "text": [
      "2\n"
     ]
    },
    {
     "data": {
      "text/plain": [
       "<matplotlib.image.AxesImage at 0x7f79cb1d94e0>"
      ]
     },
     "execution_count": 9,
     "metadata": {},
     "output_type": "execute_result"
    },
    {
     "data": {
      "image/png": "[encoded data removed]",
      "text/plain": [
       "<Figure size 432x288 with 1 Axes>"
      ]
     },
     "metadata": {
      "needs_background": "light"
     },
     "output_type": "display_data"
    }
   ],
   "source": [
    "image_index = 7776 # You may select anything up to 60,000\n",
    "print(train_labels[image_index]) \n",
    "plt.imshow(train_images[image_index], cmap='Greys')"
   ]
  },
  {
   "cell_type": "markdown",
   "id": "a8d2388d",
   "metadata": {
    "papermill": {
     "duration": 0.031294,
     "end_time": "2022-03-02T00:30:37.520758",
     "exception": false,
     "start_time": "2022-03-02T00:30:37.489464",
     "status": "completed"
    },
    "tags": []
   },
   "source": [
    "## Filter data to get 3 and 8 out"
   ]
  },
  {
   "cell_type": "code",
   "execution_count": 10,
   "id": "776f7fc7",
   "metadata": {
    "execution": {
     "iopub.execute_input": "2022-03-02T00:30:37.590193Z",
     "iopub.status.busy": "2022-03-02T00:30:37.589565Z",
     "iopub.status.idle": "2022-03-02T00:30:37.612424Z",
     "shell.execute_reply": "2022-03-02T00:30:37.611308Z"
    },
    "papermill": {
     "duration": 0.059691,
     "end_time": "2022-03-02T00:30:37.612566",
     "exception": false,
     "start_time": "2022-03-02T00:30:37.552875",
     "status": "completed"
    },
    "tags": []
   },
   "outputs": [],
   "source": [
    "train_filter = np.where((train_labels == 3 ) | (train_labels == 8))\n",
    "test_filter = np.where((test_labels == 3) | (test_labels == 8))\n",
    "X_train, y_train = train_images[train_filter], train_labels[train_filter]\n",
    "X_test, y_test = test_images[test_filter], test_labels[test_filter]"
   ]
  },
  {
   "cell_type": "markdown",
   "id": "948f0b7e",
   "metadata": {
    "papermill": {
     "duration": 0.033188,
     "end_time": "2022-03-02T00:30:37.678605",
     "exception": false,
     "start_time": "2022-03-02T00:30:37.645417",
     "status": "completed"
    },
    "tags": []
   },
   "source": [
    "We normalize the pizel values in the 0 to 1 range"
   ]
  },
  {
   "cell_type": "code",
   "execution_count": 11,
   "id": "ee4c2166",
   "metadata": {
    "execution": {
     "iopub.execute_input": "2022-03-02T00:30:37.751926Z",
     "iopub.status.busy": "2022-03-02T00:30:37.748966Z",
     "iopub.status.idle": "2022-03-02T00:30:37.805916Z",
     "shell.execute_reply": "2022-03-02T00:30:37.804837Z"
    },
    "papermill": {
     "duration": 0.094096,
     "end_time": "2022-03-02T00:30:37.806094",
     "exception": false,
     "start_time": "2022-03-02T00:30:37.711998",
     "status": "completed"
    },
    "tags": []
   },
   "outputs": [],
   "source": [
    "X_train = X_train/255.\n",
    "X_test = X_test/255."
   ]
  },
  {
   "cell_type": "markdown",
   "id": "ddcf4fab",
   "metadata": {
    "papermill": {
     "duration": 0.031035,
     "end_time": "2022-03-02T00:30:37.868076",
     "exception": false,
     "start_time": "2022-03-02T00:30:37.837041",
     "status": "completed"
    },
    "tags": []
   },
   "source": [
    "And setup the labels as 1 (when the digit is 3) and 0 (when the digit is 8)"
   ]
  },
  {
   "cell_type": "code",
   "execution_count": 12,
   "id": "7dc908f2",
   "metadata": {
    "execution": {
     "iopub.execute_input": "2022-03-02T00:30:37.941206Z",
     "iopub.status.busy": "2022-03-02T00:30:37.936417Z",
     "iopub.status.idle": "2022-03-02T00:30:37.952413Z",
     "shell.execute_reply": "2022-03-02T00:30:37.951908Z"
    },
    "papermill": {
     "duration": 0.052476,
     "end_time": "2022-03-02T00:30:37.952549",
     "exception": false,
     "start_time": "2022-03-02T00:30:37.900073",
     "status": "completed"
    },
    "tags": []
   },
   "outputs": [],
   "source": [
    "y_train = 1*(y_train==3)\n",
    "y_test = 1*(y_test==3)"
   ]
  },
  {
   "cell_type": "code",
   "execution_count": 13,
   "id": "01e4e969",
   "metadata": {
    "execution": {
     "iopub.execute_input": "2022-03-02T00:30:38.022008Z",
     "iopub.status.busy": "2022-03-02T00:30:38.021416Z",
     "iopub.status.idle": "2022-03-02T00:30:38.036298Z",
     "shell.execute_reply": "2022-03-02T00:30:38.035760Z"
    },
    "papermill": {
     "duration": 0.052458,
     "end_time": "2022-03-02T00:30:38.036430",
     "exception": false,
     "start_time": "2022-03-02T00:30:37.983972",
     "status": "completed"
    },
    "tags": []
   },
   "outputs": [
    {
     "data": {
      "text/plain": [
       "((11982, 28, 28), (1984, 28, 28))"
      ]
     },
     "execution_count": 13,
     "metadata": {},
     "output_type": "execute_result"
    }
   ],
   "source": [
    "X_train.shape, X_test.shape"
   ]
  },
  {
   "cell_type": "markdown",
   "id": "5ccf3f85",
   "metadata": {
    "papermill": {
     "duration": 0.032443,
     "end_time": "2022-03-02T00:30:38.101665",
     "exception": false,
     "start_time": "2022-03-02T00:30:38.069222",
     "status": "completed"
    },
    "tags": []
   },
   "source": [
    "We reshape the data to flatten the image pixels into a set of features or co-variates:"
   ]
  },
  {
   "cell_type": "code",
   "execution_count": 14,
   "id": "5286a4a3",
   "metadata": {
    "execution": {
     "iopub.execute_input": "2022-03-02T00:30:38.172149Z",
     "iopub.status.busy": "2022-03-02T00:30:38.171541Z",
     "iopub.status.idle": "2022-03-02T00:30:38.186927Z",
     "shell.execute_reply": "2022-03-02T00:30:38.187459Z"
    },
    "papermill": {
     "duration": 0.052995,
     "end_time": "2022-03-02T00:30:38.187621",
     "exception": false,
     "start_time": "2022-03-02T00:30:38.134626",
     "status": "completed"
    },
    "tags": []
   },
   "outputs": [
    {
     "data": {
      "text/plain": [
       "((11982, 784), (1984, 784))"
      ]
     },
     "execution_count": 14,
     "metadata": {},
     "output_type": "execute_result"
    }
   ],
   "source": [
    "X_train = X_train.reshape(X_train.shape[0], -1)\n",
    "X_test = X_test.reshape(X_test.shape[0], -1)\n",
    "X_train.shape, X_test.shape"
   ]
  },
  {
   "cell_type": "code",
   "execution_count": 15,
   "id": "73c5f88a",
   "metadata": {
    "execution": {
     "iopub.execute_input": "2022-03-02T00:30:38.260639Z",
     "iopub.status.busy": "2022-03-02T00:30:38.260008Z",
     "iopub.status.idle": "2022-03-02T00:30:38.284992Z",
     "shell.execute_reply": "2022-03-02T00:30:38.284036Z"
    },
    "papermill": {
     "duration": 0.064579,
     "end_time": "2022-03-02T00:30:38.285214",
     "exception": false,
     "start_time": "2022-03-02T00:30:38.220635",
     "status": "completed"
    },
    "tags": []
   },
   "outputs": [],
   "source": [
    "#Impoting functions from 'Kudzu'\n",
    "from kudzu.model import Model\n",
    "from kudzu.train import Learner\n",
    "from kudzu.optim import GD\n",
    "from kudzu.data import Data, Sampler,Dataloader\n",
    "\n",
    "from kudzu.callbacks import AccCallback\n",
    "from kudzu.callbacks import ClfCallback\n",
    "\n",
    "from kudzu.loss import MSE\n",
    "\n",
    "from kudzu.layer import Sigmoid,Relu\n",
    "from kudzu.layer import Affine"
   ]
  },
  {
   "cell_type": "markdown",
   "id": "bc01172a",
   "metadata": {
    "papermill": {
     "duration": 0.031783,
     "end_time": "2022-03-02T00:30:38.351798",
     "exception": false,
     "start_time": "2022-03-02T00:30:38.320015",
     "status": "completed"
    },
    "tags": []
   },
   "source": [
    "### Let us create a `Config` class, to store important parameters. \n",
    "This class essentially plays the role of a dictionary."
   ]
  },
  {
   "cell_type": "code",
   "execution_count": 16,
   "id": "978281aa",
   "metadata": {
    "execution": {
     "iopub.execute_input": "2022-03-02T00:30:38.425232Z",
     "iopub.status.busy": "2022-03-02T00:30:38.424538Z",
     "iopub.status.idle": "2022-03-02T00:30:38.439613Z",
     "shell.execute_reply": "2022-03-02T00:30:38.439119Z"
    },
    "papermill": {
     "duration": 0.056381,
     "end_time": "2022-03-02T00:30:38.439751",
     "exception": false,
     "start_time": "2022-03-02T00:30:38.383370",
     "status": "completed"
    },
    "tags": []
   },
   "outputs": [],
   "source": [
    "class Config:\n",
    "    pass\n",
    "config = Config()\n",
    "config.lr = 0.001\n",
    "config.num_epochs = 250\n",
    "config.bs = 50"
   ]
  },
  {
   "cell_type": "markdown",
   "id": "1385fa59",
   "metadata": {
    "papermill": {
     "duration": 0.033006,
     "end_time": "2022-03-02T00:30:38.505155",
     "exception": false,
     "start_time": "2022-03-02T00:30:38.472149",
     "status": "completed"
    },
    "tags": []
   },
   "source": [
    "### Running Models with the Training data\n",
    "Details about the network layers:\n",
    "- A first affine layer has 784 inputs and does 100 affine transforms. These are followed by a Relu\n",
    "- A second affine layer has 100 inputs from the 100 activations of the past layer, and does 100 affine transforms. These are followed by a Relu\n",
    "- A third affine layer has 100 activations and does 2 affine transformations to create an embedding for visualization. There is no non-linearity here.\n",
    "- A final \"logistic regression\" which has an affine transform from 2 inputs to 1 output, which is squeezed through a sigmoid.\n"
   ]
  },
  {
   "cell_type": "code",
   "execution_count": 17,
   "id": "2b9c66db",
   "metadata": {
    "execution": {
     "iopub.execute_input": "2022-03-02T00:30:38.576697Z",
     "iopub.status.busy": "2022-03-02T00:30:38.576073Z",
     "iopub.status.idle": "2022-03-02T00:30:38.590519Z",
     "shell.execute_reply": "2022-03-02T00:30:38.589948Z"
    },
    "papermill": {
     "duration": 0.052033,
     "end_time": "2022-03-02T00:30:38.590663",
     "exception": false,
     "start_time": "2022-03-02T00:30:38.538630",
     "status": "completed"
    },
    "tags": []
   },
   "outputs": [],
   "source": [
    "data = Data(X_train, y_train.reshape(-1,1))\n",
    "sampler = Sampler(data, config.bs, shuffle=True)\n",
    "\n",
    "dl = Dataloader(data, sampler)\n",
    "\n",
    "opt = GD(config.lr)\n",
    "loss = MSE()"
   ]
  },
  {
   "cell_type": "code",
   "execution_count": 18,
   "id": "b275e4c2",
   "metadata": {
    "execution": {
     "iopub.execute_input": "2022-03-02T00:30:38.663732Z",
     "iopub.status.busy": "2022-03-02T00:30:38.663102Z",
     "iopub.status.idle": "2022-03-02T00:30:38.676970Z",
     "shell.execute_reply": "2022-03-02T00:30:38.676417Z"
    },
    "papermill": {
     "duration": 0.051607,
     "end_time": "2022-03-02T00:30:38.677105",
     "exception": false,
     "start_time": "2022-03-02T00:30:38.625498",
     "status": "completed"
    },
    "tags": []
   },
   "outputs": [],
   "source": [
    "training_data_x = X_train\n",
    "testing_data_x = X_test\n",
    "training_data_y = y_train.reshape(-1,1)\n",
    "testing_data_y = y_test.reshape(-1,1)"
   ]
  },
  {
   "cell_type": "code",
   "execution_count": 19,
   "id": "76951160",
   "metadata": {
    "execution": {
     "iopub.execute_input": "2022-03-02T00:30:38.744346Z",
     "iopub.status.busy": "2022-03-02T00:30:38.743720Z",
     "iopub.status.idle": "2022-03-02T00:30:38.764975Z",
     "shell.execute_reply": "2022-03-02T00:30:38.764487Z"
    },
    "papermill": {
     "duration": 0.056291,
     "end_time": "2022-03-02T00:30:38.765112",
     "exception": false,
     "start_time": "2022-03-02T00:30:38.708821",
     "status": "completed"
    },
    "tags": []
   },
   "outputs": [
    {
     "name": "stdout",
     "output_type": "stream",
     "text": [
      "xavier\n",
      "xavier\n",
      "xavier\n",
      "xavier\n",
      "xavier\n"
     ]
    }
   ],
   "source": [
    "layers = [Affine(\"first\", 784, 100), Relu(\"first\"), Affine(\"second\", 100, 100), Relu(\"second\"), Affine(\"third\", 100, 2), Affine(\"last\", 2, 1), Sigmoid(\"last\")]\n",
    "model_nn = Model(layers)\n",
    "model_lr = Model([Affine(\"logits\", 784, 1), Sigmoid(\"sigmoid\")])"
   ]
  },
  {
   "cell_type": "code",
   "execution_count": 20,
   "id": "6eede77a",
   "metadata": {
    "execution": {
     "iopub.execute_input": "2022-03-02T00:30:38.835806Z",
     "iopub.status.busy": "2022-03-02T00:30:38.835198Z",
     "iopub.status.idle": "2022-03-02T00:30:38.849893Z",
     "shell.execute_reply": "2022-03-02T00:30:38.849400Z"
    },
    "papermill": {
     "duration": 0.051388,
     "end_time": "2022-03-02T00:30:38.850029",
     "exception": false,
     "start_time": "2022-03-02T00:30:38.798641",
     "status": "completed"
    },
    "tags": []
   },
   "outputs": [],
   "source": [
    "nn_learner = Learner(loss, model_nn, opt, config.num_epochs)\n",
    "acc_nn = ClfCallback(nn_learner, config.bs, training_data_x , testing_data_x, training_data_y, testing_data_y)\n",
    "nn_learner.set_callbacks([acc_nn])"
   ]
  },
  {
   "cell_type": "code",
   "execution_count": 21,
   "id": "877b6cc7",
   "metadata": {
    "execution": {
     "iopub.execute_input": "2022-03-02T00:30:38.919566Z",
     "iopub.status.busy": "2022-03-02T00:30:38.918963Z",
     "iopub.status.idle": "2022-03-02T00:30:38.935646Z",
     "shell.execute_reply": "2022-03-02T00:30:38.935164Z"
    },
    "papermill": {
     "duration": 0.053471,
     "end_time": "2022-03-02T00:30:38.935778",
     "exception": false,
     "start_time": "2022-03-02T00:30:38.882307",
     "status": "completed"
    },
    "tags": []
   },
   "outputs": [],
   "source": [
    "lr_learner = Learner(loss, model_lr, opt, config.num_epochs)\n",
    "acc_lr = ClfCallback(lr_learner, config.bs, training_data_x , testing_data_x, training_data_y, testing_data_y)\n",
    "lr_learner.set_callbacks([acc_lr])"
   ]
  },
  {
   "cell_type": "code",
   "execution_count": 22,
   "id": "d9b133c3",
   "metadata": {
    "execution": {
     "iopub.execute_input": "2022-03-02T00:30:39.004017Z",
     "iopub.status.busy": "2022-03-02T00:30:39.003427Z",
     "iopub.status.idle": "2022-03-02T00:32:13.603456Z",
     "shell.execute_reply": "2022-03-02T00:32:13.604345Z"
    },
    "papermill": {
     "duration": 94.637043,
     "end_time": "2022-03-02T00:32:13.604525",
     "exception": false,
     "start_time": "2022-03-02T00:30:38.967482",
     "status": "completed"
    },
    "tags": []
   },
   "outputs": [
    {
     "name": "stdout",
     "output_type": "stream",
     "text": [
      "Epoch 0, Loss 0.2349\n",
      "Training Accuracy: 0.8241, Testing Accuracy: 0.8276\n",
      "\n"
     ]
    },
    {
     "name": "stdout",
     "output_type": "stream",
     "text": [
      "Epoch 10, Loss 0.0492\n",
      "Training Accuracy: 0.9474, Testing Accuracy: 0.9582\n",
      "\n"
     ]
    },
    {
     "name": "stdout",
     "output_type": "stream",
     "text": [
      "Epoch 20, Loss 0.037\n",
      "Training Accuracy: 0.9608, Testing Accuracy: 0.9662\n",
      "\n"
     ]
    },
    {
     "name": "stdout",
     "output_type": "stream",
     "text": [
      "Epoch 30, Loss 0.0316\n",
      "Training Accuracy: 0.9650, Testing Accuracy: 0.9672\n",
      "\n"
     ]
    },
    {
     "name": "stdout",
     "output_type": "stream",
     "text": [
      "Epoch 40, Loss 0.0284\n",
      "Training Accuracy: 0.9685, Testing Accuracy: 0.9693\n",
      "\n"
     ]
    },
    {
     "name": "stdout",
     "output_type": "stream",
     "text": [
      "Epoch 50, Loss 0.0263\n",
      "Training Accuracy: 0.9712, Testing Accuracy: 0.9713\n",
      "\n"
     ]
    },
    {
     "name": "stdout",
     "output_type": "stream",
     "text": [
      "Epoch 60, Loss 0.0247\n",
      "Training Accuracy: 0.9728, Testing Accuracy: 0.9718\n",
      "\n"
     ]
    },
    {
     "name": "stdout",
     "output_type": "stream",
     "text": [
      "Epoch 70, Loss 0.0234\n",
      "Training Accuracy: 0.9746, Testing Accuracy: 0.9728\n",
      "\n"
     ]
    },
    {
     "name": "stdout",
     "output_type": "stream",
     "text": [
      "Epoch 80, Loss 0.0224\n",
      "Training Accuracy: 0.9757, Testing Accuracy: 0.9733\n",
      "\n"
     ]
    },
    {
     "name": "stdout",
     "output_type": "stream",
     "text": [
      "Epoch 90, Loss 0.0216\n",
      "Training Accuracy: 0.9768, Testing Accuracy: 0.9743\n",
      "\n"
     ]
    },
    {
     "name": "stdout",
     "output_type": "stream",
     "text": [
      "Epoch 100, Loss 0.0208\n",
      "Training Accuracy: 0.9776, Testing Accuracy: 0.9743\n",
      "\n"
     ]
    },
    {
     "name": "stdout",
     "output_type": "stream",
     "text": [
      "Epoch 110, Loss 0.0201\n",
      "Training Accuracy: 0.9786, Testing Accuracy: 0.9748\n",
      "\n"
     ]
    },
    {
     "name": "stdout",
     "output_type": "stream",
     "text": [
      "Epoch 120, Loss 0.0194\n",
      "Training Accuracy: 0.9792, Testing Accuracy: 0.9753\n",
      "\n"
     ]
    },
    {
     "name": "stdout",
     "output_type": "stream",
     "text": [
      "Epoch 130, Loss 0.0189\n",
      "Training Accuracy: 0.9795, Testing Accuracy: 0.9758\n",
      "\n"
     ]
    },
    {
     "name": "stdout",
     "output_type": "stream",
     "text": [
      "Epoch 140, Loss 0.0183\n",
      "Training Accuracy: 0.9804, Testing Accuracy: 0.9758\n",
      "\n"
     ]
    },
    {
     "name": "stdout",
     "output_type": "stream",
     "text": [
      "Epoch 150, Loss 0.0178\n",
      "Training Accuracy: 0.9810, Testing Accuracy: 0.9758\n",
      "\n"
     ]
    },
    {
     "name": "stdout",
     "output_type": "stream",
     "text": [
      "Epoch 160, Loss 0.0174\n",
      "Training Accuracy: 0.9815, Testing Accuracy: 0.9758\n",
      "\n"
     ]
    },
    {
     "name": "stdout",
     "output_type": "stream",
     "text": [
      "Epoch 170, Loss 0.0169\n",
      "Training Accuracy: 0.9821, Testing Accuracy: 0.9758\n",
      "\n"
     ]
    },
    {
     "name": "stdout",
     "output_type": "stream",
     "text": [
      "Epoch 180, Loss 0.0165\n",
      "Training Accuracy: 0.9825, Testing Accuracy: 0.9758\n",
      "\n"
     ]
    },
    {
     "name": "stdout",
     "output_type": "stream",
     "text": [
      "Epoch 190, Loss 0.016\n",
      "Training Accuracy: 0.9827, Testing Accuracy: 0.9763\n",
      "\n"
     ]
    },
    {
     "name": "stdout",
     "output_type": "stream",
     "text": [
      "Epoch 200, Loss 0.0156\n",
      "Training Accuracy: 0.9831, Testing Accuracy: 0.9763\n",
      "\n"
     ]
    },
    {
     "name": "stdout",
     "output_type": "stream",
     "text": [
      "Epoch 210, Loss 0.0152\n",
      "Training Accuracy: 0.9842, Testing Accuracy: 0.9763\n",
      "\n"
     ]
    },
    {
     "name": "stdout",
     "output_type": "stream",
     "text": [
      "Epoch 220, Loss 0.0149\n",
      "Training Accuracy: 0.9846, Testing Accuracy: 0.9773\n",
      "\n"
     ]
    },
    {
     "name": "stdout",
     "output_type": "stream",
     "text": [
      "Epoch 230, Loss 0.0145\n",
      "Training Accuracy: 0.9847, Testing Accuracy: 0.9773\n",
      "\n"
     ]
    },
    {
     "name": "stdout",
     "output_type": "stream",
     "text": [
      "Epoch 240, Loss 0.0141\n",
      "Training Accuracy: 0.9853, Testing Accuracy: 0.9778\n",
      "\n"
     ]
    },
    {
     "data": {
      "text/plain": [
       "0.007354529025197062"
      ]
     },
     "execution_count": 22,
     "metadata": {},
     "output_type": "execute_result"
    }
   ],
   "source": [
    "nn_learner.train_loop(dl)"
   ]
  },
  {
   "cell_type": "code",
   "execution_count": 23,
   "id": "e0163366",
   "metadata": {
    "execution": {
     "iopub.execute_input": "2022-03-02T00:32:13.696446Z",
     "iopub.status.busy": "2022-03-02T00:32:13.695784Z",
     "iopub.status.idle": "2022-03-02T00:32:30.648508Z",
     "shell.execute_reply": "2022-03-02T00:32:30.649092Z"
    },
    "papermill": {
     "duration": 17.004988,
     "end_time": "2022-03-02T00:32:30.649256",
     "exception": false,
     "start_time": "2022-03-02T00:32:13.644268",
     "status": "completed"
    },
    "tags": []
   },
   "outputs": [
    {
     "name": "stdout",
     "output_type": "stream",
     "text": [
      "Epoch 0, Loss 0.2334\n",
      "Training Accuracy: 0.7053, Testing Accuracy: 0.6956\n",
      "\n"
     ]
    },
    {
     "name": "stdout",
     "output_type": "stream",
     "text": [
      "Epoch 10, Loss 0.1048\n",
      "Training Accuracy: 0.9046, Testing Accuracy: 0.9078\n",
      "\n"
     ]
    },
    {
     "name": "stdout",
     "output_type": "stream",
     "text": [
      "Epoch 20, Loss 0.0807\n",
      "Training Accuracy: 0.9252, Testing Accuracy: 0.9335\n",
      "\n"
     ]
    },
    {
     "name": "stdout",
     "output_type": "stream",
     "text": [
      "Epoch 30, Loss 0.0694\n",
      "Training Accuracy: 0.9336, Testing Accuracy: 0.9456\n",
      "\n"
     ]
    },
    {
     "name": "stdout",
     "output_type": "stream",
     "text": [
      "Epoch 40, Loss 0.0626\n",
      "Training Accuracy: 0.9395, Testing Accuracy: 0.9486\n",
      "\n"
     ]
    },
    {
     "name": "stdout",
     "output_type": "stream",
     "text": [
      "Epoch 50, Loss 0.0579\n",
      "Training Accuracy: 0.9428, Testing Accuracy: 0.9551\n",
      "\n"
     ]
    },
    {
     "name": "stdout",
     "output_type": "stream",
     "text": [
      "Epoch 60, Loss 0.0545\n",
      "Training Accuracy: 0.9465, Testing Accuracy: 0.9572\n",
      "\n"
     ]
    },
    {
     "name": "stdout",
     "output_type": "stream",
     "text": [
      "Epoch 70, Loss 0.0519\n",
      "Training Accuracy: 0.9482, Testing Accuracy: 0.9602\n",
      "\n"
     ]
    },
    {
     "name": "stdout",
     "output_type": "stream",
     "text": [
      "Epoch 80, Loss 0.0498\n",
      "Training Accuracy: 0.9498, Testing Accuracy: 0.9602\n",
      "\n"
     ]
    },
    {
     "name": "stdout",
     "output_type": "stream",
     "text": [
      "Epoch 90, Loss 0.0481\n",
      "Training Accuracy: 0.9514, Testing Accuracy: 0.9617\n",
      "\n"
     ]
    },
    {
     "name": "stdout",
     "output_type": "stream",
     "text": [
      "Epoch 100, Loss 0.0466\n",
      "Training Accuracy: 0.9523, Testing Accuracy: 0.9617\n",
      "\n"
     ]
    },
    {
     "name": "stdout",
     "output_type": "stream",
     "text": [
      "Epoch 110, Loss 0.0453\n",
      "Training Accuracy: 0.9529, Testing Accuracy: 0.9622\n",
      "\n"
     ]
    },
    {
     "name": "stdout",
     "output_type": "stream",
     "text": [
      "Epoch 120, Loss 0.0443\n",
      "Training Accuracy: 0.9538, Testing Accuracy: 0.9622\n",
      "\n"
     ]
    },
    {
     "name": "stdout",
     "output_type": "stream",
     "text": [
      "Epoch 130, Loss 0.0433\n",
      "Training Accuracy: 0.9546, Testing Accuracy: 0.9652\n",
      "\n"
     ]
    },
    {
     "name": "stdout",
     "output_type": "stream",
     "text": [
      "Epoch 140, Loss 0.0425\n",
      "Training Accuracy: 0.9550, Testing Accuracy: 0.9647\n",
      "\n"
     ]
    },
    {
     "name": "stdout",
     "output_type": "stream",
     "text": [
      "Epoch 150, Loss 0.0417\n",
      "Training Accuracy: 0.9559, Testing Accuracy: 0.9652\n",
      "\n"
     ]
    },
    {
     "name": "stdout",
     "output_type": "stream",
     "text": [
      "Epoch 160, Loss 0.041\n",
      "Training Accuracy: 0.9564, Testing Accuracy: 0.9652\n",
      "\n"
     ]
    },
    {
     "name": "stdout",
     "output_type": "stream",
     "text": [
      "Epoch 170, Loss 0.0404\n",
      "Training Accuracy: 0.9574, Testing Accuracy: 0.9652\n",
      "\n"
     ]
    },
    {
     "name": "stdout",
     "output_type": "stream",
     "text": [
      "Epoch 180, Loss 0.0398\n",
      "Training Accuracy: 0.9579, Testing Accuracy: 0.9657\n",
      "\n"
     ]
    },
    {
     "name": "stdout",
     "output_type": "stream",
     "text": [
      "Epoch 190, Loss 0.0393\n",
      "Training Accuracy: 0.9584, Testing Accuracy: 0.9662\n",
      "\n"
     ]
    },
    {
     "name": "stdout",
     "output_type": "stream",
     "text": [
      "Epoch 200, Loss 0.0388\n",
      "Training Accuracy: 0.9589, Testing Accuracy: 0.9662\n",
      "\n"
     ]
    },
    {
     "name": "stdout",
     "output_type": "stream",
     "text": [
      "Epoch 210, Loss 0.0383\n",
      "Training Accuracy: 0.9594, Testing Accuracy: 0.9662\n",
      "\n"
     ]
    },
    {
     "name": "stdout",
     "output_type": "stream",
     "text": [
      "Epoch 220, Loss 0.0379\n",
      "Training Accuracy: 0.9594, Testing Accuracy: 0.9662\n",
      "\n"
     ]
    },
    {
     "name": "stdout",
     "output_type": "stream",
     "text": [
      "Epoch 230, Loss 0.0375\n",
      "Training Accuracy: 0.9595, Testing Accuracy: 0.9662\n",
      "\n"
     ]
    },
    {
     "name": "stdout",
     "output_type": "stream",
     "text": [
      "Epoch 240, Loss 0.0372\n",
      "Training Accuracy: 0.9598, Testing Accuracy: 0.9662\n",
      "\n"
     ]
    },
    {
     "data": {
      "text/plain": [
       "0.07356698915997482"
      ]
     },
     "execution_count": 23,
     "metadata": {},
     "output_type": "execute_result"
    }
   ],
   "source": [
    "lr_learner.train_loop(dl)"
   ]
  },
  {
   "cell_type": "code",
   "execution_count": 24,
   "id": "ca410940",
   "metadata": {
    "execution": {
     "iopub.execute_input": "2022-03-02T00:32:30.752510Z",
     "iopub.status.busy": "2022-03-02T00:32:30.751871Z",
     "iopub.status.idle": "2022-03-02T00:32:31.025467Z",
     "shell.execute_reply": "2022-03-02T00:32:31.025994Z"
    },
    "papermill": {
     "duration": 0.328946,
     "end_time": "2022-03-02T00:32:31.026165",
     "exception": false,
     "start_time": "2022-03-02T00:32:30.697219",
     "status": "completed"
    },
    "tags": []
   },
   "outputs": [
    {
     "data": {
      "text/plain": [
       "<matplotlib.legend.Legend at 0x7f79cadb6c50>"
      ]
     },
     "execution_count": 24,
     "metadata": {},
     "output_type": "execute_result"
    },
    {
     "data": {
      "image/png": "[encoded data removed]",
      "text/plain": [
       "<Figure size 1080x720 with 1 Axes>"
      ]
     },
     "metadata": {
      "needs_background": "light"
     },
     "output_type": "display_data"
    }
   ],
   "source": [
    "#comparing the results of NN and LR\n",
    "plt.figure(figsize=(15,10))\n",
    "\n",
    "# Neural Network plots\n",
    "plt.plot(acc_nn.accuracies, 'r-', label = \"Training Accuracies - NN\")\n",
    "plt.plot(acc_nn.test_accuracies, 'g-', label = \"Testing Accuracies - NN\")\n",
    "\n",
    "# Logistic Regression plots\n",
    "plt.plot(acc_lr.accuracies, 'k-', label = \"Training Accuracies - LR\")\n",
    "plt.plot(acc_lr.test_accuracies, 'b-', label = \"Testing Accuracies - LR\")\n",
    "plt.legend()"
   ]
  },
  {
   "cell_type": "markdown",
   "id": "80dfb35c",
   "metadata": {
    "papermill": {
     "duration": 0.04827,
     "end_time": "2022-03-02T00:32:31.123158",
     "exception": false,
     "start_time": "2022-03-02T00:32:31.074888",
     "status": "completed"
    },
    "tags": []
   },
   "source": [
    "#### Plotting the outputs of this layer of the NN.\n"
   ]
  },
  {
   "cell_type": "code",
   "execution_count": 25,
   "id": "45eb2ff5",
   "metadata": {
    "execution": {
     "iopub.execute_input": "2022-03-02T00:32:31.225192Z",
     "iopub.status.busy": "2022-03-02T00:32:31.223359Z",
     "iopub.status.idle": "2022-03-02T00:32:31.247126Z",
     "shell.execute_reply": "2022-03-02T00:32:31.247847Z"
    },
    "papermill": {
     "duration": 0.076503,
     "end_time": "2022-03-02T00:32:31.248020",
     "exception": false,
     "start_time": "2022-03-02T00:32:31.171517",
     "status": "completed"
    },
    "tags": []
   },
   "outputs": [],
   "source": [
    "new_model = Model(layers[:-2])\n",
    "testing_plot = new_model(testing_data_x)"
   ]
  },
  {
   "cell_type": "code",
   "execution_count": 26,
   "id": "4c0a5485",
   "metadata": {
    "execution": {
     "iopub.execute_input": "2022-03-02T00:32:31.350445Z",
     "iopub.status.busy": "2022-03-02T00:32:31.349818Z",
     "iopub.status.idle": "2022-03-02T00:32:31.597917Z",
     "shell.execute_reply": "2022-03-02T00:32:31.598407Z"
    },
    "papermill": {
     "duration": 0.30195,
     "end_time": "2022-03-02T00:32:31.598572",
     "exception": false,
     "start_time": "2022-03-02T00:32:31.296622",
     "status": "completed"
    },
    "tags": []
   },
   "outputs": [
    {
     "data": {
      "text/plain": [
       "Text(0.5, 1.0, 'Outputs')"
      ]
     },
     "execution_count": 26,
     "metadata": {},
     "output_type": "execute_result"
    },
    {
     "data": {
      "image/png": "[encoded data removed]",
      "text/plain": [
       "<Figure size 576x504 with 1 Axes>"
      ]
     },
     "metadata": {
      "needs_background": "light"
     },
     "output_type": "display_data"
    }
   ],
   "source": [
    "# Plotting the scatter plot of points and color coding by class\n",
    "plt.figure(figsize=(8,7))\n",
    "plt.scatter(testing_plot[:,0], testing_plot[:,1], alpha = 0.1, c = y_test.ravel());\n",
    "plt.title('Outputs')"
   ]
  },
  {
   "cell_type": "markdown",
   "id": "a74fcf8f",
   "metadata": {
    "papermill": {
     "duration": 0.051179,
     "end_time": "2022-03-02T00:32:31.701347",
     "exception": false,
     "start_time": "2022-03-02T00:32:31.650168",
     "status": "completed"
    },
    "tags": []
   },
   "source": [
    "Probability contours"
   ]
  },
  {
   "cell_type": "code",
   "execution_count": 27,
   "id": "d0afc8e3",
   "metadata": {
    "execution": {
     "iopub.execute_input": "2022-03-02T00:32:31.840944Z",
     "iopub.status.busy": "2022-03-02T00:32:31.840344Z",
     "iopub.status.idle": "2022-03-02T00:32:31.853826Z",
     "shell.execute_reply": "2022-03-02T00:32:31.853310Z"
    },
    "papermill": {
     "duration": 0.100962,
     "end_time": "2022-03-02T00:32:31.853957",
     "exception": false,
     "start_time": "2022-03-02T00:32:31.752995",
     "status": "completed"
    },
    "tags": []
   },
   "outputs": [],
   "source": [
    "model_prob = Model(layers[-2:]) "
   ]
  },
  {
   "cell_type": "code",
   "execution_count": 28,
   "id": "9b96e238",
   "metadata": {
    "execution": {
     "iopub.execute_input": "2022-03-02T00:32:31.964564Z",
     "iopub.status.busy": "2022-03-02T00:32:31.963943Z",
     "iopub.status.idle": "2022-03-02T00:32:31.977865Z",
     "shell.execute_reply": "2022-03-02T00:32:31.978330Z"
    },
    "papermill": {
     "duration": 0.073029,
     "end_time": "2022-03-02T00:32:31.978492",
     "exception": false,
     "start_time": "2022-03-02T00:32:31.905463",
     "status": "completed"
    },
    "tags": []
   },
   "outputs": [],
   "source": [
    "#creating the x and y ranges according to the above generated plot.\n",
    "x_range = np.linspace(-4, 1, 100) \n",
    "y_range = np.linspace(-6, 6, 100) \n",
    "x_grid, y_grid = np.meshgrid(x_range, y_range) # x_grid and y_grig are of size 100 X 100\n",
    "\n",
    "# converting x_grid and y_grid to continuous arrays\n",
    "x_gridflat = np.ravel(x_grid)\n",
    "y_gridflat = np.ravel(y_grid)\n",
    "\n",
    "# The last layer of the current model takes two columns as input. Hence transpose of np.vstack() is required.\n",
    "X = np.vstack((x_gridflat, y_gridflat)).T\n",
    "\n",
    "prob_contour = model_prob(X).reshape(100,100) "
   ]
  },
  {
   "cell_type": "code",
   "execution_count": 29,
   "id": "da72499a",
   "metadata": {
    "execution": {
     "iopub.execute_input": "2022-03-02T00:32:32.096376Z",
     "iopub.status.busy": "2022-03-02T00:32:32.095748Z",
     "iopub.status.idle": "2022-03-02T00:32:32.382078Z",
     "shell.execute_reply": "2022-03-02T00:32:32.381558Z"
    },
    "papermill": {
     "duration": 0.351962,
     "end_time": "2022-03-02T00:32:32.382223",
     "exception": false,
     "start_time": "2022-03-02T00:32:32.030261",
     "status": "completed"
    },
    "tags": []
   },
   "outputs": [
    {
     "data": {
      "image/png": "[encoded data removed]",
      "text/plain": [
       "<Figure size 720x648 with 1 Axes>"
      ]
     },
     "metadata": {
      "needs_background": "light"
     },
     "output_type": "display_data"
    }
   ],
   "source": [
    "plt.figure(figsize=(10,9))\n",
    "plt.scatter(testing_plot[:,0], testing_plot[:,1], alpha = 0.1, c = y_test.ravel())\n",
    "contours = plt.contour(x_grid,y_grid,prob_contour)\n",
    "plt.title('Probability Contours')\n",
    "plt.clabel(contours, inline = True );"
   ]
  },
  {
   "cell_type": "code",
   "execution_count": null,
   "id": "e81b4ac7",
   "metadata": {
    "papermill": {
     "duration": 0.054653,
     "end_time": "2022-03-02T00:32:32.492309",
     "exception": false,
     "start_time": "2022-03-02T00:32:32.437656",
     "status": "completed"
    },
    "tags": []
   },
   "outputs": [],
   "source": []
  }
 ],
 "metadata": {
  "kernelspec": {
   "display_name": "Python 3",
   "language": "python",
   "name": "python3"
  },
  "language_info": {
   "codemirror_mode": {
    "name": "ipython",
    "version": 3
   },
   "file_extension": ".py",
   "mimetype": "text/x-python",
   "name": "python",
   "nbconvert_exporter": "python",
   "pygments_lexer": "ipython3",
   "version": "3.6.15"
  },
  "papermill": {
   "default_parameters": {},
   "duration": 122.068439,
   "end_time": "2022-03-02T00:32:32.966627",
   "environment_variables": {},
   "exception": null,
   "input_path": "2020-08-11-part2.ipynb",
   "output_path": "2020-08-11-part2.ipynb",
   "parameters": {},
   "start_time": "2022-03-02T00:30:30.898188",
   "version": "2.3.3"
  }
 },
 "nbformat": 4,
 "nbformat_minor": 5
}