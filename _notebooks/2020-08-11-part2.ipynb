{
 "cells": [
  {
   "cell_type": "markdown",
   "id": "98380cd3",
   "metadata": {
    "papermill": {
     "duration": 0.034131,
     "end_time": "2021-12-15T00:23:56.666802",
     "exception": false,
     "start_time": "2021-12-15T00:23:56.632671",
     "status": "completed"
    },
    "tags": []
   },
   "source": [
    "# Distinguish Your Own Digits (DYOD)"
   ]
  },
  {
   "cell_type": "markdown",
   "id": "ef31240d",
   "metadata": {
    "papermill": {
     "duration": 0.034608,
     "end_time": "2021-12-15T00:23:56.731574",
     "exception": false,
     "start_time": "2021-12-15T00:23:56.696966",
     "status": "completed"
    },
    "tags": []
   },
   "source": [
    "You are going to write a classifier that distinguishes between the number 3 and number 8."
   ]
  },
  {
   "cell_type": "code",
   "execution_count": 1,
   "id": "b15c8646",
   "metadata": {
    "execution": {
     "iopub.execute_input": "2021-12-15T00:23:56.798095Z",
     "iopub.status.busy": "2021-12-15T00:23:56.794721Z",
     "iopub.status.idle": "2021-12-15T00:23:56.811239Z",
     "shell.execute_reply": "2021-12-15T00:23:56.810680Z"
    },
    "papermill": {
     "duration": 0.052942,
     "end_time": "2021-12-15T00:23:56.811391",
     "exception": false,
     "start_time": "2021-12-15T00:23:56.758449",
     "status": "completed"
    },
    "tags": []
   },
   "outputs": [],
   "source": [
    "%load_ext autoreload\n",
    "%autoreload 2"
   ]
  },
  {
   "cell_type": "code",
   "execution_count": 2,
   "id": "22ef38dc",
   "metadata": {
    "execution": {
     "iopub.execute_input": "2021-12-15T00:23:56.877040Z",
     "iopub.status.busy": "2021-12-15T00:23:56.876381Z",
     "iopub.status.idle": "2021-12-15T00:23:57.568442Z",
     "shell.execute_reply": "2021-12-15T00:23:57.567864Z"
    },
    "papermill": {
     "duration": 0.728511,
     "end_time": "2021-12-15T00:23:57.568588",
     "exception": false,
     "start_time": "2021-12-15T00:23:56.840077",
     "status": "completed"
    },
    "tags": []
   },
   "outputs": [],
   "source": [
    "%matplotlib inline\n",
    "import numpy as np\n",
    "import matplotlib.pyplot as plt\n",
    "import pandas as pd"
   ]
  },
  {
   "cell_type": "markdown",
   "id": "ba036198",
   "metadata": {
    "papermill": {
     "duration": 0.03052,
     "end_time": "2021-12-15T00:23:57.630249",
     "exception": false,
     "start_time": "2021-12-15T00:23:57.599729",
     "status": "completed"
    },
    "tags": []
   },
   "source": [
    "From the command line run `pip install mnist`. This is a library that will help you bring down the mnist dataset. If you run this from a notebook, you need to put  `!pip install mnist` in a cell by itself."
   ]
  },
  {
   "cell_type": "code",
   "execution_count": 3,
   "id": "bb6ad8a1",
   "metadata": {
    "execution": {
     "iopub.execute_input": "2021-12-15T00:23:57.694772Z",
     "iopub.status.busy": "2021-12-15T00:23:57.694157Z",
     "iopub.status.idle": "2021-12-15T00:24:00.424931Z",
     "shell.execute_reply": "2021-12-15T00:24:00.424384Z"
    },
    "papermill": {
     "duration": 2.765535,
     "end_time": "2021-12-15T00:24:00.425075",
     "exception": false,
     "start_time": "2021-12-15T00:23:57.659540",
     "status": "completed"
    },
    "tags": []
   },
   "outputs": [
    {
     "name": "stdout",
     "output_type": "stream",
     "text": [
      "Collecting mnist\r\n"
     ]
    },
    {
     "name": "stdout",
     "output_type": "stream",
     "text": [
      "  Downloading mnist-0.2.2-py2.py3-none-any.whl (3.5 kB)\r\n",
      "Requirement already satisfied: numpy in /opt/hostedtoolcache/Python/3.6.15/x64/lib/python3.6/site-packages (from mnist) (1.19.5)\r\n"
     ]
    },
    {
     "name": "stdout",
     "output_type": "stream",
     "text": [
      "Installing collected packages: mnist\r\n"
     ]
    },
    {
     "name": "stdout",
     "output_type": "stream",
     "text": [
      "Successfully installed mnist-0.2.2\r\n"
     ]
    }
   ],
   "source": [
    "!pip install mnist"
   ]
  },
  {
   "cell_type": "markdown",
   "id": "69df9c9a",
   "metadata": {
    "papermill": {
     "duration": 0.028367,
     "end_time": "2021-12-15T00:24:00.482359",
     "exception": false,
     "start_time": "2021-12-15T00:24:00.453992",
     "status": "completed"
    },
    "tags": []
   },
   "source": [
    "## Preparing the Data"
   ]
  },
  {
   "cell_type": "code",
   "execution_count": 4,
   "id": "7f69d806",
   "metadata": {
    "execution": {
     "iopub.execute_input": "2021-12-15T00:24:00.544270Z",
     "iopub.status.busy": "2021-12-15T00:24:00.543627Z",
     "iopub.status.idle": "2021-12-15T00:24:00.561644Z",
     "shell.execute_reply": "2021-12-15T00:24:00.561117Z"
    },
    "papermill": {
     "duration": 0.050942,
     "end_time": "2021-12-15T00:24:00.561785",
     "exception": false,
     "start_time": "2021-12-15T00:24:00.510843",
     "status": "completed"
    },
    "tags": []
   },
   "outputs": [],
   "source": [
    "import mnist"
   ]
  },
  {
   "cell_type": "code",
   "execution_count": 5,
   "id": "a411e44f",
   "metadata": {
    "execution": {
     "iopub.execute_input": "2021-12-15T00:24:00.625089Z",
     "iopub.status.busy": "2021-12-15T00:24:00.624232Z",
     "iopub.status.idle": "2021-12-15T00:24:01.230241Z",
     "shell.execute_reply": "2021-12-15T00:24:01.229575Z"
    },
    "papermill": {
     "duration": 0.639805,
     "end_time": "2021-12-15T00:24:01.230393",
     "exception": false,
     "start_time": "2021-12-15T00:24:00.590588",
     "status": "completed"
    },
    "tags": []
   },
   "outputs": [],
   "source": [
    "train_images = mnist.train_images()\n",
    "train_labels = mnist.train_labels()"
   ]
  },
  {
   "cell_type": "code",
   "execution_count": 6,
   "id": "dceab3a5",
   "metadata": {
    "execution": {
     "iopub.execute_input": "2021-12-15T00:24:01.298866Z",
     "iopub.status.busy": "2021-12-15T00:24:01.298215Z",
     "iopub.status.idle": "2021-12-15T00:24:01.315321Z",
     "shell.execute_reply": "2021-12-15T00:24:01.314708Z"
    },
    "papermill": {
     "duration": 0.054029,
     "end_time": "2021-12-15T00:24:01.315463",
     "exception": false,
     "start_time": "2021-12-15T00:24:01.261434",
     "status": "completed"
    },
    "tags": []
   },
   "outputs": [
    {
     "data": {
      "text/plain": [
       "((60000, 28, 28), (60000,))"
      ]
     },
     "execution_count": 6,
     "metadata": {},
     "output_type": "execute_result"
    }
   ],
   "source": [
    "train_images.shape, train_labels.shape"
   ]
  },
  {
   "cell_type": "code",
   "execution_count": 7,
   "id": "f50dc2bb",
   "metadata": {
    "execution": {
     "iopub.execute_input": "2021-12-15T00:24:01.379745Z",
     "iopub.status.busy": "2021-12-15T00:24:01.379094Z",
     "iopub.status.idle": "2021-12-15T00:24:01.570016Z",
     "shell.execute_reply": "2021-12-15T00:24:01.569474Z"
    },
    "papermill": {
     "duration": 0.224976,
     "end_time": "2021-12-15T00:24:01.570158",
     "exception": false,
     "start_time": "2021-12-15T00:24:01.345182",
     "status": "completed"
    },
    "tags": []
   },
   "outputs": [],
   "source": [
    "test_images = mnist.test_images()\n",
    "test_labels = mnist.test_labels()"
   ]
  },
  {
   "cell_type": "code",
   "execution_count": 8,
   "id": "fc38cf1b",
   "metadata": {
    "execution": {
     "iopub.execute_input": "2021-12-15T00:24:01.635028Z",
     "iopub.status.busy": "2021-12-15T00:24:01.634416Z",
     "iopub.status.idle": "2021-12-15T00:24:01.650608Z",
     "shell.execute_reply": "2021-12-15T00:24:01.650118Z"
    },
    "papermill": {
     "duration": 0.050349,
     "end_time": "2021-12-15T00:24:01.650743",
     "exception": false,
     "start_time": "2021-12-15T00:24:01.600394",
     "status": "completed"
    },
    "tags": []
   },
   "outputs": [
    {
     "data": {
      "text/plain": [
       "((10000, 28, 28), (10000,))"
      ]
     },
     "execution_count": 8,
     "metadata": {},
     "output_type": "execute_result"
    }
   ],
   "source": [
    "test_images.shape, test_labels.shape"
   ]
  },
  {
   "cell_type": "code",
   "execution_count": 9,
   "id": "f9ed8fe0",
   "metadata": {
    "execution": {
     "iopub.execute_input": "2021-12-15T00:24:01.715619Z",
     "iopub.status.busy": "2021-12-15T00:24:01.714976Z",
     "iopub.status.idle": "2021-12-15T00:24:01.879115Z",
     "shell.execute_reply": "2021-12-15T00:24:01.878604Z"
    },
    "papermill": {
     "duration": 0.198949,
     "end_time": "2021-12-15T00:24:01.879258",
     "exception": false,
     "start_time": "2021-12-15T00:24:01.680309",
     "status": "completed"
    },
    "tags": []
   },
   "outputs": [
    {
     "name": "stdout",
     "output_type": "stream",
     "text": [
      "2\n"
     ]
    },
    {
     "data": {
      "text/plain": [
       "<matplotlib.image.AxesImage at 0x7fe0ec5344e0>"
      ]
     },
     "execution_count": 9,
     "metadata": {},
     "output_type": "execute_result"
    },
    {
     "data": {
      "image/png": "[encoded data removed]",
      "text/plain": [
       "<Figure size 432x288 with 1 Axes>"
      ]
     },
     "metadata": {
      "needs_background": "light"
     },
     "output_type": "display_data"
    }
   ],
   "source": [
    "image_index = 7776 # You may select anything up to 60,000\n",
    "print(train_labels[image_index]) \n",
    "plt.imshow(train_images[image_index], cmap='Greys')"
   ]
  },
  {
   "cell_type": "markdown",
   "id": "a8d2388d",
   "metadata": {
    "papermill": {
     "duration": 0.030578,
     "end_time": "2021-12-15T00:24:01.940338",
     "exception": false,
     "start_time": "2021-12-15T00:24:01.909760",
     "status": "completed"
    },
    "tags": []
   },
   "source": [
    "## Filter data to get 3 and 8 out"
   ]
  },
  {
   "cell_type": "code",
   "execution_count": 10,
   "id": "776f7fc7",
   "metadata": {
    "execution": {
     "iopub.execute_input": "2021-12-15T00:24:02.005843Z",
     "iopub.status.busy": "2021-12-15T00:24:02.005192Z",
     "iopub.status.idle": "2021-12-15T00:24:02.026459Z",
     "shell.execute_reply": "2021-12-15T00:24:02.025877Z"
    },
    "papermill": {
     "duration": 0.056024,
     "end_time": "2021-12-15T00:24:02.026607",
     "exception": false,
     "start_time": "2021-12-15T00:24:01.970583",
     "status": "completed"
    },
    "tags": []
   },
   "outputs": [],
   "source": [
    "train_filter = np.where((train_labels == 3 ) | (train_labels == 8))\n",
    "test_filter = np.where((test_labels == 3) | (test_labels == 8))\n",
    "X_train, y_train = train_images[train_filter], train_labels[train_filter]\n",
    "X_test, y_test = test_images[test_filter], test_labels[test_filter]"
   ]
  },
  {
   "cell_type": "markdown",
   "id": "948f0b7e",
   "metadata": {
    "papermill": {
     "duration": 0.030302,
     "end_time": "2021-12-15T00:24:02.087341",
     "exception": false,
     "start_time": "2021-12-15T00:24:02.057039",
     "status": "completed"
    },
    "tags": []
   },
   "source": [
    "We normalize the pizel values in the 0 to 1 range"
   ]
  },
  {
   "cell_type": "code",
   "execution_count": 11,
   "id": "ee4c2166",
   "metadata": {
    "execution": {
     "iopub.execute_input": "2021-12-15T00:24:02.152496Z",
     "iopub.status.busy": "2021-12-15T00:24:02.151866Z",
     "iopub.status.idle": "2021-12-15T00:24:02.208224Z",
     "shell.execute_reply": "2021-12-15T00:24:02.207133Z"
    },
    "papermill": {
     "duration": 0.090711,
     "end_time": "2021-12-15T00:24:02.208463",
     "exception": false,
     "start_time": "2021-12-15T00:24:02.117752",
     "status": "completed"
    },
    "tags": []
   },
   "outputs": [],
   "source": [
    "X_train = X_train/255.\n",
    "X_test = X_test/255."
   ]
  },
  {
   "cell_type": "markdown",
   "id": "ddcf4fab",
   "metadata": {
    "papermill": {
     "duration": 0.032631,
     "end_time": "2021-12-15T00:24:02.274847",
     "exception": false,
     "start_time": "2021-12-15T00:24:02.242216",
     "status": "completed"
    },
    "tags": []
   },
   "source": [
    "And setup the labels as 1 (when the digit is 3) and 0 (when the digit is 8)"
   ]
  },
  {
   "cell_type": "code",
   "execution_count": 12,
   "id": "7dc908f2",
   "metadata": {
    "execution": {
     "iopub.execute_input": "2021-12-15T00:24:02.352225Z",
     "iopub.status.busy": "2021-12-15T00:24:02.351571Z",
     "iopub.status.idle": "2021-12-15T00:24:02.371085Z",
     "shell.execute_reply": "2021-12-15T00:24:02.370398Z"
    },
    "papermill": {
     "duration": 0.061784,
     "end_time": "2021-12-15T00:24:02.371269",
     "exception": false,
     "start_time": "2021-12-15T00:24:02.309485",
     "status": "completed"
    },
    "tags": []
   },
   "outputs": [],
   "source": [
    "y_train = 1*(y_train==3)\n",
    "y_test = 1*(y_test==3)"
   ]
  },
  {
   "cell_type": "code",
   "execution_count": 13,
   "id": "01e4e969",
   "metadata": {
    "execution": {
     "iopub.execute_input": "2021-12-15T00:24:02.444989Z",
     "iopub.status.busy": "2021-12-15T00:24:02.444388Z",
     "iopub.status.idle": "2021-12-15T00:24:02.460100Z",
     "shell.execute_reply": "2021-12-15T00:24:02.459270Z"
    },
    "papermill": {
     "duration": 0.054725,
     "end_time": "2021-12-15T00:24:02.460291",
     "exception": false,
     "start_time": "2021-12-15T00:24:02.405566",
     "status": "completed"
    },
    "tags": []
   },
   "outputs": [
    {
     "data": {
      "text/plain": [
       "((11982, 28, 28), (1984, 28, 28))"
      ]
     },
     "execution_count": 13,
     "metadata": {},
     "output_type": "execute_result"
    }
   ],
   "source": [
    "X_train.shape, X_test.shape"
   ]
  },
  {
   "cell_type": "markdown",
   "id": "5ccf3f85",
   "metadata": {
    "papermill": {
     "duration": 0.030436,
     "end_time": "2021-12-15T00:24:02.524408",
     "exception": false,
     "start_time": "2021-12-15T00:24:02.493972",
     "status": "completed"
    },
    "tags": []
   },
   "source": [
    "We reshape the data to flatten the image pixels into a set of features or co-variates:"
   ]
  },
  {
   "cell_type": "code",
   "execution_count": 14,
   "id": "5286a4a3",
   "metadata": {
    "execution": {
     "iopub.execute_input": "2021-12-15T00:24:02.590453Z",
     "iopub.status.busy": "2021-12-15T00:24:02.589814Z",
     "iopub.status.idle": "2021-12-15T00:24:02.604987Z",
     "shell.execute_reply": "2021-12-15T00:24:02.605445Z"
    },
    "papermill": {
     "duration": 0.050396,
     "end_time": "2021-12-15T00:24:02.605613",
     "exception": false,
     "start_time": "2021-12-15T00:24:02.555217",
     "status": "completed"
    },
    "tags": []
   },
   "outputs": [
    {
     "data": {
      "text/plain": [
       "((11982, 784), (1984, 784))"
      ]
     },
     "execution_count": 14,
     "metadata": {},
     "output_type": "execute_result"
    }
   ],
   "source": [
    "X_train = X_train.reshape(X_train.shape[0], -1)\n",
    "X_test = X_test.reshape(X_test.shape[0], -1)\n",
    "X_train.shape, X_test.shape"
   ]
  },
  {
   "cell_type": "code",
   "execution_count": 15,
   "id": "73c5f88a",
   "metadata": {
    "execution": {
     "iopub.execute_input": "2021-12-15T00:24:02.672489Z",
     "iopub.status.busy": "2021-12-15T00:24:02.671816Z",
     "iopub.status.idle": "2021-12-15T00:24:02.693914Z",
     "shell.execute_reply": "2021-12-15T00:24:02.693369Z"
    },
    "papermill": {
     "duration": 0.05769,
     "end_time": "2021-12-15T00:24:02.694060",
     "exception": false,
     "start_time": "2021-12-15T00:24:02.636370",
     "status": "completed"
    },
    "tags": []
   },
   "outputs": [],
   "source": [
    "#Impoting functions from 'Kudzu'\n",
    "from kudzu.model import Model\n",
    "from kudzu.train import Learner\n",
    "from kudzu.optim import GD\n",
    "from kudzu.data import Data, Sampler,Dataloader\n",
    "\n",
    "from kudzu.callbacks import AccCallback\n",
    "from kudzu.callbacks import ClfCallback\n",
    "\n",
    "from kudzu.loss import MSE\n",
    "\n",
    "from kudzu.layer import Sigmoid,Relu\n",
    "from kudzu.layer import Affine"
   ]
  },
  {
   "cell_type": "markdown",
   "id": "bc01172a",
   "metadata": {
    "papermill": {
     "duration": 0.030657,
     "end_time": "2021-12-15T00:24:02.756552",
     "exception": false,
     "start_time": "2021-12-15T00:24:02.725895",
     "status": "completed"
    },
    "tags": []
   },
   "source": [
    "### Let us create a `Config` class, to store important parameters. \n",
    "This class essentially plays the role of a dictionary."
   ]
  },
  {
   "cell_type": "code",
   "execution_count": 16,
   "id": "978281aa",
   "metadata": {
    "execution": {
     "iopub.execute_input": "2021-12-15T00:24:02.824982Z",
     "iopub.status.busy": "2021-12-15T00:24:02.824343Z",
     "iopub.status.idle": "2021-12-15T00:24:02.837524Z",
     "shell.execute_reply": "2021-12-15T00:24:02.837003Z"
    },
    "papermill": {
     "duration": 0.050331,
     "end_time": "2021-12-15T00:24:02.837656",
     "exception": false,
     "start_time": "2021-12-15T00:24:02.787325",
     "status": "completed"
    },
    "tags": []
   },
   "outputs": [],
   "source": [
    "class Config:\n",
    "    pass\n",
    "config = Config()\n",
    "config.lr = 0.001\n",
    "config.num_epochs = 250\n",
    "config.bs = 50"
   ]
  },
  {
   "cell_type": "markdown",
   "id": "1385fa59",
   "metadata": {
    "papermill": {
     "duration": 0.03059,
     "end_time": "2021-12-15T00:24:02.899067",
     "exception": false,
     "start_time": "2021-12-15T00:24:02.868477",
     "status": "completed"
    },
    "tags": []
   },
   "source": [
    "### Running Models with the Training data\n",
    "Details about the network layers:\n",
    "- A first affine layer has 784 inputs and does 100 affine transforms. These are followed by a Relu\n",
    "- A second affine layer has 100 inputs from the 100 activations of the past layer, and does 100 affine transforms. These are followed by a Relu\n",
    "- A third affine layer has 100 activations and does 2 affine transformations to create an embedding for visualization. There is no non-linearity here.\n",
    "- A final \"logistic regression\" which has an affine transform from 2 inputs to 1 output, which is squeezed through a sigmoid.\n"
   ]
  },
  {
   "cell_type": "code",
   "execution_count": 17,
   "id": "2b9c66db",
   "metadata": {
    "execution": {
     "iopub.execute_input": "2021-12-15T00:24:02.965873Z",
     "iopub.status.busy": "2021-12-15T00:24:02.965249Z",
     "iopub.status.idle": "2021-12-15T00:24:02.979648Z",
     "shell.execute_reply": "2021-12-15T00:24:02.979075Z"
    },
    "papermill": {
     "duration": 0.049973,
     "end_time": "2021-12-15T00:24:02.979788",
     "exception": false,
     "start_time": "2021-12-15T00:24:02.929815",
     "status": "completed"
    },
    "tags": []
   },
   "outputs": [],
   "source": [
    "data = Data(X_train, y_train.reshape(-1,1))\n",
    "sampler = Sampler(data, config.bs, shuffle=True)\n",
    "\n",
    "dl = Dataloader(data, sampler)\n",
    "\n",
    "opt = GD(config.lr)\n",
    "loss = MSE()"
   ]
  },
  {
   "cell_type": "code",
   "execution_count": 18,
   "id": "b275e4c2",
   "metadata": {
    "execution": {
     "iopub.execute_input": "2021-12-15T00:24:03.046193Z",
     "iopub.status.busy": "2021-12-15T00:24:03.045560Z",
     "iopub.status.idle": "2021-12-15T00:24:03.059802Z",
     "shell.execute_reply": "2021-12-15T00:24:03.060288Z"
    },
    "papermill": {
     "duration": 0.049758,
     "end_time": "2021-12-15T00:24:03.060450",
     "exception": false,
     "start_time": "2021-12-15T00:24:03.010692",
     "status": "completed"
    },
    "tags": []
   },
   "outputs": [],
   "source": [
    "training_data_x = X_train\n",
    "testing_data_x = X_test\n",
    "training_data_y = y_train.reshape(-1,1)\n",
    "testing_data_y = y_test.reshape(-1,1)"
   ]
  },
  {
   "cell_type": "code",
   "execution_count": 19,
   "id": "76951160",
   "metadata": {
    "execution": {
     "iopub.execute_input": "2021-12-15T00:24:03.127171Z",
     "iopub.status.busy": "2021-12-15T00:24:03.126516Z",
     "iopub.status.idle": "2021-12-15T00:24:03.152077Z",
     "shell.execute_reply": "2021-12-15T00:24:03.152563Z"
    },
    "papermill": {
     "duration": 0.061534,
     "end_time": "2021-12-15T00:24:03.152730",
     "exception": false,
     "start_time": "2021-12-15T00:24:03.091196",
     "status": "completed"
    },
    "tags": []
   },
   "outputs": [
    {
     "name": "stdout",
     "output_type": "stream",
     "text": [
      "xavier\n",
      "xavier\n",
      "xavier\n",
      "xavier\n",
      "xavier\n"
     ]
    }
   ],
   "source": [
    "layers = [Affine(\"first\", 784, 100), Relu(\"first\"), Affine(\"second\", 100, 100), Relu(\"second\"), Affine(\"third\", 100, 2), Affine(\"last\", 2, 1), Sigmoid(\"last\")]\n",
    "model_nn = Model(layers)\n",
    "model_lr = Model([Affine(\"logits\", 784, 1), Sigmoid(\"sigmoid\")])"
   ]
  },
  {
   "cell_type": "code",
   "execution_count": 20,
   "id": "6eede77a",
   "metadata": {
    "execution": {
     "iopub.execute_input": "2021-12-15T00:24:03.220400Z",
     "iopub.status.busy": "2021-12-15T00:24:03.219769Z",
     "iopub.status.idle": "2021-12-15T00:24:03.233234Z",
     "shell.execute_reply": "2021-12-15T00:24:03.233714Z"
    },
    "papermill": {
     "duration": 0.049116,
     "end_time": "2021-12-15T00:24:03.233880",
     "exception": false,
     "start_time": "2021-12-15T00:24:03.184764",
     "status": "completed"
    },
    "tags": []
   },
   "outputs": [],
   "source": [
    "nn_learner = Learner(loss, model_nn, opt, config.num_epochs)\n",
    "acc_nn = ClfCallback(nn_learner, config.bs, training_data_x , testing_data_x, training_data_y, testing_data_y)\n",
    "nn_learner.set_callbacks([acc_nn])"
   ]
  },
  {
   "cell_type": "code",
   "execution_count": 21,
   "id": "877b6cc7",
   "metadata": {
    "execution": {
     "iopub.execute_input": "2021-12-15T00:24:03.305708Z",
     "iopub.status.busy": "2021-12-15T00:24:03.305078Z",
     "iopub.status.idle": "2021-12-15T00:24:03.322577Z",
     "shell.execute_reply": "2021-12-15T00:24:03.323100Z"
    },
    "papermill": {
     "duration": 0.055605,
     "end_time": "2021-12-15T00:24:03.323259",
     "exception": false,
     "start_time": "2021-12-15T00:24:03.267654",
     "status": "completed"
    },
    "tags": []
   },
   "outputs": [],
   "source": [
    "lr_learner = Learner(loss, model_lr, opt, config.num_epochs)\n",
    "acc_lr = ClfCallback(lr_learner, config.bs, training_data_x , testing_data_x, training_data_y, testing_data_y)\n",
    "lr_learner.set_callbacks([acc_lr])"
   ]
  },
  {
   "cell_type": "code",
   "execution_count": 22,
   "id": "d9b133c3",
   "metadata": {
    "execution": {
     "iopub.execute_input": "2021-12-15T00:24:03.392993Z",
     "iopub.status.busy": "2021-12-15T00:24:03.392389Z",
     "iopub.status.idle": "2021-12-15T00:25:35.823054Z",
     "shell.execute_reply": "2021-12-15T00:25:35.823989Z"
    },
    "papermill": {
     "duration": 92.467228,
     "end_time": "2021-12-15T00:25:35.824169",
     "exception": false,
     "start_time": "2021-12-15T00:24:03.356941",
     "status": "completed"
    },
    "tags": []
   },
   "outputs": [
    {
     "name": "stdout",
     "output_type": "stream",
     "text": [
      "Epoch 0, Loss 0.2395\n",
      "Training Accuracy: 0.7248, Testing Accuracy: 0.7102\n",
      "\n"
     ]
    },
    {
     "name": "stdout",
     "output_type": "stream",
     "text": [
      "Epoch 10, Loss 0.1098\n",
      "Training Accuracy: 0.9046, Testing Accuracy: 0.9138\n",
      "\n"
     ]
    },
    {
     "name": "stdout",
     "output_type": "stream",
     "text": [
      "Epoch 20, Loss 0.0651\n",
      "Training Accuracy: 0.9327, Testing Accuracy: 0.9420\n",
      "\n"
     ]
    },
    {
     "name": "stdout",
     "output_type": "stream",
     "text": [
      "Epoch 30, Loss 0.0494\n",
      "Training Accuracy: 0.9455, Testing Accuracy: 0.9531\n",
      "\n"
     ]
    },
    {
     "name": "stdout",
     "output_type": "stream",
     "text": [
      "Epoch 40, Loss 0.0419\n",
      "Training Accuracy: 0.9529, Testing Accuracy: 0.9612\n",
      "\n"
     ]
    },
    {
     "name": "stdout",
     "output_type": "stream",
     "text": [
      "Epoch 50, Loss 0.0374\n",
      "Training Accuracy: 0.9578, Testing Accuracy: 0.9622\n",
      "\n"
     ]
    },
    {
     "name": "stdout",
     "output_type": "stream",
     "text": [
      "Epoch 60, Loss 0.0345\n",
      "Training Accuracy: 0.9602, Testing Accuracy: 0.9642\n",
      "\n"
     ]
    },
    {
     "name": "stdout",
     "output_type": "stream",
     "text": [
      "Epoch 70, Loss 0.0323\n",
      "Training Accuracy: 0.9625, Testing Accuracy: 0.9652\n",
      "\n"
     ]
    },
    {
     "name": "stdout",
     "output_type": "stream",
     "text": [
      "Epoch 80, Loss 0.0306\n",
      "Training Accuracy: 0.9644, Testing Accuracy: 0.9677\n",
      "\n"
     ]
    },
    {
     "name": "stdout",
     "output_type": "stream",
     "text": [
      "Epoch 90, Loss 0.0292\n",
      "Training Accuracy: 0.9653, Testing Accuracy: 0.9693\n",
      "\n"
     ]
    },
    {
     "name": "stdout",
     "output_type": "stream",
     "text": [
      "Epoch 100, Loss 0.0281\n",
      "Training Accuracy: 0.9671, Testing Accuracy: 0.9688\n",
      "\n"
     ]
    },
    {
     "name": "stdout",
     "output_type": "stream",
     "text": [
      "Epoch 110, Loss 0.0271\n",
      "Training Accuracy: 0.9682, Testing Accuracy: 0.9693\n",
      "\n"
     ]
    },
    {
     "name": "stdout",
     "output_type": "stream",
     "text": [
      "Epoch 120, Loss 0.0262\n",
      "Training Accuracy: 0.9690, Testing Accuracy: 0.9698\n",
      "\n"
     ]
    },
    {
     "name": "stdout",
     "output_type": "stream",
     "text": [
      "Epoch 130, Loss 0.0255\n",
      "Training Accuracy: 0.9700, Testing Accuracy: 0.9693\n",
      "\n"
     ]
    },
    {
     "name": "stdout",
     "output_type": "stream",
     "text": [
      "Epoch 140, Loss 0.0248\n",
      "Training Accuracy: 0.9710, Testing Accuracy: 0.9698\n",
      "\n"
     ]
    },
    {
     "name": "stdout",
     "output_type": "stream",
     "text": [
      "Epoch 150, Loss 0.0242\n",
      "Training Accuracy: 0.9715, Testing Accuracy: 0.9713\n",
      "\n"
     ]
    },
    {
     "name": "stdout",
     "output_type": "stream",
     "text": [
      "Epoch 160, Loss 0.0236\n",
      "Training Accuracy: 0.9721, Testing Accuracy: 0.9713\n",
      "\n"
     ]
    },
    {
     "name": "stdout",
     "output_type": "stream",
     "text": [
      "Epoch 170, Loss 0.023\n",
      "Training Accuracy: 0.9727, Testing Accuracy: 0.9723\n",
      "\n"
     ]
    },
    {
     "name": "stdout",
     "output_type": "stream",
     "text": [
      "Epoch 180, Loss 0.0225\n",
      "Training Accuracy: 0.9734, Testing Accuracy: 0.9723\n",
      "\n"
     ]
    },
    {
     "name": "stdout",
     "output_type": "stream",
     "text": [
      "Epoch 190, Loss 0.022\n",
      "Training Accuracy: 0.9742, Testing Accuracy: 0.9723\n",
      "\n"
     ]
    },
    {
     "name": "stdout",
     "output_type": "stream",
     "text": [
      "Epoch 200, Loss 0.0216\n",
      "Training Accuracy: 0.9751, Testing Accuracy: 0.9728\n",
      "\n"
     ]
    },
    {
     "name": "stdout",
     "output_type": "stream",
     "text": [
      "Epoch 210, Loss 0.0211\n",
      "Training Accuracy: 0.9757, Testing Accuracy: 0.9723\n",
      "\n"
     ]
    },
    {
     "name": "stdout",
     "output_type": "stream",
     "text": [
      "Epoch 220, Loss 0.0207\n",
      "Training Accuracy: 0.9764, Testing Accuracy: 0.9728\n",
      "\n"
     ]
    },
    {
     "name": "stdout",
     "output_type": "stream",
     "text": [
      "Epoch 230, Loss 0.0203\n",
      "Training Accuracy: 0.9770, Testing Accuracy: 0.9723\n",
      "\n"
     ]
    },
    {
     "name": "stdout",
     "output_type": "stream",
     "text": [
      "Epoch 240, Loss 0.0199\n",
      "Training Accuracy: 0.9775, Testing Accuracy: 0.9723\n",
      "\n"
     ]
    },
    {
     "data": {
      "text/plain": [
       "0.002977899536841186"
      ]
     },
     "execution_count": 22,
     "metadata": {},
     "output_type": "execute_result"
    }
   ],
   "source": [
    "nn_learner.train_loop(dl)"
   ]
  },
  {
   "cell_type": "code",
   "execution_count": 23,
   "id": "e0163366",
   "metadata": {
    "execution": {
     "iopub.execute_input": "2021-12-15T00:25:35.917295Z",
     "iopub.status.busy": "2021-12-15T00:25:35.916648Z",
     "iopub.status.idle": "2021-12-15T00:25:52.894480Z",
     "shell.execute_reply": "2021-12-15T00:25:52.895344Z"
    },
    "papermill": {
     "duration": 17.031438,
     "end_time": "2021-12-15T00:25:52.895534",
     "exception": false,
     "start_time": "2021-12-15T00:25:35.864096",
     "status": "completed"
    },
    "tags": []
   },
   "outputs": [
    {
     "name": "stdout",
     "output_type": "stream",
     "text": [
      "Epoch 0, Loss 0.247\n",
      "Training Accuracy: 0.6708, Testing Accuracy: 0.6804\n",
      "\n"
     ]
    },
    {
     "name": "stdout",
     "output_type": "stream",
     "text": [
      "Epoch 10, Loss 0.1056\n",
      "Training Accuracy: 0.9004, Testing Accuracy: 0.9133\n",
      "\n"
     ]
    },
    {
     "name": "stdout",
     "output_type": "stream",
     "text": [
      "Epoch 20, Loss 0.0809\n",
      "Training Accuracy: 0.9220, Testing Accuracy: 0.9335\n",
      "\n"
     ]
    },
    {
     "name": "stdout",
     "output_type": "stream",
     "text": [
      "Epoch 30, Loss 0.0694\n",
      "Training Accuracy: 0.9317, Testing Accuracy: 0.9466\n",
      "\n"
     ]
    },
    {
     "name": "stdout",
     "output_type": "stream",
     "text": [
      "Epoch 40, Loss 0.0625\n",
      "Training Accuracy: 0.9384, Testing Accuracy: 0.9511\n",
      "\n"
     ]
    },
    {
     "name": "stdout",
     "output_type": "stream",
     "text": [
      "Epoch 50, Loss 0.0578\n",
      "Training Accuracy: 0.9434, Testing Accuracy: 0.9567\n",
      "\n"
     ]
    },
    {
     "name": "stdout",
     "output_type": "stream",
     "text": [
      "Epoch 60, Loss 0.0544\n",
      "Training Accuracy: 0.9460, Testing Accuracy: 0.9587\n",
      "\n"
     ]
    },
    {
     "name": "stdout",
     "output_type": "stream",
     "text": [
      "Epoch 70, Loss 0.0517\n",
      "Training Accuracy: 0.9480, Testing Accuracy: 0.9612\n",
      "\n"
     ]
    },
    {
     "name": "stdout",
     "output_type": "stream",
     "text": [
      "Epoch 80, Loss 0.0496\n",
      "Training Accuracy: 0.9508, Testing Accuracy: 0.9627\n",
      "\n"
     ]
    },
    {
     "name": "stdout",
     "output_type": "stream",
     "text": [
      "Epoch 90, Loss 0.0479\n",
      "Training Accuracy: 0.9519, Testing Accuracy: 0.9632\n",
      "\n"
     ]
    },
    {
     "name": "stdout",
     "output_type": "stream",
     "text": [
      "Epoch 100, Loss 0.0464\n",
      "Training Accuracy: 0.9533, Testing Accuracy: 0.9642\n",
      "\n"
     ]
    },
    {
     "name": "stdout",
     "output_type": "stream",
     "text": [
      "Epoch 110, Loss 0.0451\n",
      "Training Accuracy: 0.9546, Testing Accuracy: 0.9652\n",
      "\n"
     ]
    },
    {
     "name": "stdout",
     "output_type": "stream",
     "text": [
      "Epoch 120, Loss 0.044\n",
      "Training Accuracy: 0.9555, Testing Accuracy: 0.9657\n",
      "\n"
     ]
    },
    {
     "name": "stdout",
     "output_type": "stream",
     "text": [
      "Epoch 130, Loss 0.0431\n",
      "Training Accuracy: 0.9569, Testing Accuracy: 0.9657\n",
      "\n"
     ]
    },
    {
     "name": "stdout",
     "output_type": "stream",
     "text": [
      "Epoch 140, Loss 0.0422\n",
      "Training Accuracy: 0.9576, Testing Accuracy: 0.9662\n",
      "\n"
     ]
    },
    {
     "name": "stdout",
     "output_type": "stream",
     "text": [
      "Epoch 150, Loss 0.0415\n",
      "Training Accuracy: 0.9585, Testing Accuracy: 0.9672\n",
      "\n"
     ]
    },
    {
     "name": "stdout",
     "output_type": "stream",
     "text": [
      "Epoch 160, Loss 0.0408\n",
      "Training Accuracy: 0.9591, Testing Accuracy: 0.9672\n",
      "\n"
     ]
    },
    {
     "name": "stdout",
     "output_type": "stream",
     "text": [
      "Epoch 170, Loss 0.0402\n",
      "Training Accuracy: 0.9594, Testing Accuracy: 0.9677\n",
      "\n"
     ]
    },
    {
     "name": "stdout",
     "output_type": "stream",
     "text": [
      "Epoch 180, Loss 0.0396\n",
      "Training Accuracy: 0.9595, Testing Accuracy: 0.9677\n",
      "\n"
     ]
    },
    {
     "name": "stdout",
     "output_type": "stream",
     "text": [
      "Epoch 190, Loss 0.0391\n",
      "Training Accuracy: 0.9599, Testing Accuracy: 0.9677\n",
      "\n"
     ]
    },
    {
     "name": "stdout",
     "output_type": "stream",
     "text": [
      "Epoch 200, Loss 0.0386\n",
      "Training Accuracy: 0.9604, Testing Accuracy: 0.9677\n",
      "\n"
     ]
    },
    {
     "name": "stdout",
     "output_type": "stream",
     "text": [
      "Epoch 210, Loss 0.0381\n",
      "Training Accuracy: 0.9607, Testing Accuracy: 0.9672\n",
      "\n"
     ]
    },
    {
     "name": "stdout",
     "output_type": "stream",
     "text": [
      "Epoch 220, Loss 0.0377\n",
      "Training Accuracy: 0.9610, Testing Accuracy: 0.9677\n",
      "\n"
     ]
    },
    {
     "name": "stdout",
     "output_type": "stream",
     "text": [
      "Epoch 230, Loss 0.0373\n",
      "Training Accuracy: 0.9615, Testing Accuracy: 0.9682\n",
      "\n"
     ]
    },
    {
     "name": "stdout",
     "output_type": "stream",
     "text": [
      "Epoch 240, Loss 0.0369\n",
      "Training Accuracy: 0.9619, Testing Accuracy: 0.9682\n",
      "\n"
     ]
    },
    {
     "data": {
      "text/plain": [
       "0.025475377787852665"
      ]
     },
     "execution_count": 23,
     "metadata": {},
     "output_type": "execute_result"
    }
   ],
   "source": [
    "lr_learner.train_loop(dl)"
   ]
  },
  {
   "cell_type": "code",
   "execution_count": 24,
   "id": "ca410940",
   "metadata": {
    "execution": {
     "iopub.execute_input": "2021-12-15T00:25:53.005196Z",
     "iopub.status.busy": "2021-12-15T00:25:53.004563Z",
     "iopub.status.idle": "2021-12-15T00:25:53.268355Z",
     "shell.execute_reply": "2021-12-15T00:25:53.267580Z"
    },
    "papermill": {
     "duration": 0.325772,
     "end_time": "2021-12-15T00:25:53.268508",
     "exception": false,
     "start_time": "2021-12-15T00:25:52.942736",
     "status": "completed"
    },
    "tags": []
   },
   "outputs": [
    {
     "data": {
      "text/plain": [
       "<matplotlib.legend.Legend at 0x7fe0ec10cbe0>"
      ]
     },
     "execution_count": 24,
     "metadata": {},
     "output_type": "execute_result"
    },
    {
     "data": {
      "image/png": "[encoded data removed]",
      "text/plain": [
       "<Figure size 1080x720 with 1 Axes>"
      ]
     },
     "metadata": {
      "needs_background": "light"
     },
     "output_type": "display_data"
    }
   ],
   "source": [
    "#comparing the results of NN and LR\n",
    "plt.figure(figsize=(15,10))\n",
    "\n",
    "# Neural Network plots\n",
    "plt.plot(acc_nn.accuracies, 'r-', label = \"Training Accuracies - NN\")\n",
    "plt.plot(acc_nn.test_accuracies, 'g-', label = \"Testing Accuracies - NN\")\n",
    "\n",
    "# Logistic Regression plots\n",
    "plt.plot(acc_lr.accuracies, 'k-', label = \"Training Accuracies - LR\")\n",
    "plt.plot(acc_lr.test_accuracies, 'b-', label = \"Testing Accuracies - LR\")\n",
    "plt.legend()"
   ]
  },
  {
   "cell_type": "markdown",
   "id": "80dfb35c",
   "metadata": {
    "papermill": {
     "duration": 0.051504,
     "end_time": "2021-12-15T00:25:53.370112",
     "exception": false,
     "start_time": "2021-12-15T00:25:53.318608",
     "status": "completed"
    },
    "tags": []
   },
   "source": [
    "#### Plotting the outputs of this layer of the NN.\n"
   ]
  },
  {
   "cell_type": "code",
   "execution_count": 25,
   "id": "45eb2ff5",
   "metadata": {
    "execution": {
     "iopub.execute_input": "2021-12-15T00:25:53.477581Z",
     "iopub.status.busy": "2021-12-15T00:25:53.475982Z",
     "iopub.status.idle": "2021-12-15T00:25:53.499214Z",
     "shell.execute_reply": "2021-12-15T00:25:53.499756Z"
    },
    "papermill": {
     "duration": 0.079615,
     "end_time": "2021-12-15T00:25:53.499937",
     "exception": false,
     "start_time": "2021-12-15T00:25:53.420322",
     "status": "completed"
    },
    "tags": []
   },
   "outputs": [],
   "source": [
    "new_model = Model(layers[:-2])\n",
    "testing_plot = new_model(testing_data_x)"
   ]
  },
  {
   "cell_type": "code",
   "execution_count": 26,
   "id": "4c0a5485",
   "metadata": {
    "execution": {
     "iopub.execute_input": "2021-12-15T00:25:53.613600Z",
     "iopub.status.busy": "2021-12-15T00:25:53.609721Z",
     "iopub.status.idle": "2021-12-15T00:25:53.875966Z",
     "shell.execute_reply": "2021-12-15T00:25:53.876755Z"
    },
    "papermill": {
     "duration": 0.326708,
     "end_time": "2021-12-15T00:25:53.877127",
     "exception": false,
     "start_time": "2021-12-15T00:25:53.550419",
     "status": "completed"
    },
    "tags": []
   },
   "outputs": [
    {
     "data": {
      "text/plain": [
       "Text(0.5, 1.0, 'Outputs')"
      ]
     },
     "execution_count": 26,
     "metadata": {},
     "output_type": "execute_result"
    },
    {
     "data": {
      "image/png": "[encoded data removed]",
      "text/plain": [
       "<Figure size 576x504 with 1 Axes>"
      ]
     },
     "metadata": {
      "needs_background": "light"
     },
     "output_type": "display_data"
    }
   ],
   "source": [
    "# Plotting the scatter plot of points and color coding by class\n",
    "plt.figure(figsize=(8,7))\n",
    "plt.scatter(testing_plot[:,0], testing_plot[:,1], alpha = 0.1, c = y_test.ravel());\n",
    "plt.title('Outputs')"
   ]
  },
  {
   "cell_type": "markdown",
   "id": "a74fcf8f",
   "metadata": {
    "papermill": {
     "duration": 0.055275,
     "end_time": "2021-12-15T00:25:53.988402",
     "exception": false,
     "start_time": "2021-12-15T00:25:53.933127",
     "status": "completed"
    },
    "tags": []
   },
   "source": [
    "Probability contours"
   ]
  },
  {
   "cell_type": "code",
   "execution_count": 27,
   "id": "d0afc8e3",
   "metadata": {
    "execution": {
     "iopub.execute_input": "2021-12-15T00:25:54.107429Z",
     "iopub.status.busy": "2021-12-15T00:25:54.106782Z",
     "iopub.status.idle": "2021-12-15T00:25:54.120957Z",
     "shell.execute_reply": "2021-12-15T00:25:54.119416Z"
    },
    "papermill": {
     "duration": 0.079271,
     "end_time": "2021-12-15T00:25:54.121106",
     "exception": false,
     "start_time": "2021-12-15T00:25:54.041835",
     "status": "completed"
    },
    "tags": []
   },
   "outputs": [],
   "source": [
    "model_prob = Model(layers[-2:]) "
   ]
  },
  {
   "cell_type": "code",
   "execution_count": 28,
   "id": "9b96e238",
   "metadata": {
    "execution": {
     "iopub.execute_input": "2021-12-15T00:25:54.268905Z",
     "iopub.status.busy": "2021-12-15T00:25:54.268294Z",
     "iopub.status.idle": "2021-12-15T00:25:54.286174Z",
     "shell.execute_reply": "2021-12-15T00:25:54.286676Z"
    },
    "papermill": {
     "duration": 0.080934,
     "end_time": "2021-12-15T00:25:54.286844",
     "exception": false,
     "start_time": "2021-12-15T00:25:54.205910",
     "status": "completed"
    },
    "tags": []
   },
   "outputs": [],
   "source": [
    "#creating the x and y ranges according to the above generated plot.\n",
    "x_range = np.linspace(-4, 1, 100) \n",
    "y_range = np.linspace(-6, 6, 100) \n",
    "x_grid, y_grid = np.meshgrid(x_range, y_range) # x_grid and y_grig are of size 100 X 100\n",
    "\n",
    "# converting x_grid and y_grid to continuous arrays\n",
    "x_gridflat = np.ravel(x_grid)\n",
    "y_gridflat = np.ravel(y_grid)\n",
    "\n",
    "# The last layer of the current model takes two columns as input. Hence transpose of np.vstack() is required.\n",
    "X = np.vstack((x_gridflat, y_gridflat)).T\n",
    "\n",
    "prob_contour = model_prob(X).reshape(100,100) "
   ]
  },
  {
   "cell_type": "code",
   "execution_count": 29,
   "id": "da72499a",
   "metadata": {
    "execution": {
     "iopub.execute_input": "2021-12-15T00:25:54.399069Z",
     "iopub.status.busy": "2021-12-15T00:25:54.398411Z",
     "iopub.status.idle": "2021-12-15T00:25:54.715206Z",
     "shell.execute_reply": "2021-12-15T00:25:54.714076Z"
    },
    "papermill": {
     "duration": 0.375695,
     "end_time": "2021-12-15T00:25:54.715347",
     "exception": false,
     "start_time": "2021-12-15T00:25:54.339652",
     "status": "completed"
    },
    "tags": []
   },
   "outputs": [
    {
     "data": {
      "image/png": "[encoded data removed]",
      "text/plain": [
       "<Figure size 720x648 with 1 Axes>"
      ]
     },
     "metadata": {
      "needs_background": "light"
     },
     "output_type": "display_data"
    }
   ],
   "source": [
    "plt.figure(figsize=(10,9))\n",
    "plt.scatter(testing_plot[:,0], testing_plot[:,1], alpha = 0.1, c = y_test.ravel())\n",
    "contours = plt.contour(x_grid,y_grid,prob_contour)\n",
    "plt.title('Probability Contours')\n",
    "plt.clabel(contours, inline = True );"
   ]
  },
  {
   "cell_type": "code",
   "execution_count": null,
   "id": "e81b4ac7",
   "metadata": {
    "papermill": {
     "duration": 0.054446,
     "end_time": "2021-12-15T00:25:54.824377",
     "exception": false,
     "start_time": "2021-12-15T00:25:54.769931",
     "status": "completed"
    },
    "tags": []
   },
   "outputs": [],
   "source": []
  }
 ],
 "metadata": {
  "kernelspec": {
   "display_name": "Python 3",
   "language": "python",
   "name": "python3"
  },
  "language_info": {
   "codemirror_mode": {
    "name": "ipython",
    "version": 3
   },
   "file_extension": ".py",
   "mimetype": "text/x-python",
   "name": "python",
   "nbconvert_exporter": "python",
   "pygments_lexer": "ipython3",
   "version": "3.6.15"
  },
  "papermill": {
   "default_parameters": {},
   "duration": 119.951922,
   "end_time": "2021-12-15T00:25:55.287894",
   "environment_variables": {},
   "exception": null,
   "input_path": "2020-08-11-part2.ipynb",
   "output_path": "2020-08-11-part2.ipynb",
   "parameters": {},
   "start_time": "2021-12-15T00:23:55.335972",
   "version": "2.3.3"
  }
 },
 "nbformat": 4,
 "nbformat_minor": 5
}