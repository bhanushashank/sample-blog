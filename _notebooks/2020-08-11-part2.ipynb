{
 "cells": [
  {
   "cell_type": "markdown",
   "id": "98380cd3",
   "metadata": {
    "papermill": {
     "duration": 0.028503,
     "end_time": "2021-11-22T10:08:25.378069",
     "exception": false,
     "start_time": "2021-11-22T10:08:25.349566",
     "status": "completed"
    },
    "tags": []
   },
   "source": [
    "# Distinguish Your Own Digits (DYOD)"
   ]
  },
  {
   "cell_type": "markdown",
   "id": "ef31240d",
   "metadata": {
    "papermill": {
     "duration": 0.025388,
     "end_time": "2021-11-22T10:08:25.428188",
     "exception": false,
     "start_time": "2021-11-22T10:08:25.402800",
     "status": "completed"
    },
    "tags": []
   },
   "source": [
    "You are going to write a classifier that distinguishes between the number 3 and number 8."
   ]
  },
  {
   "cell_type": "code",
   "execution_count": 1,
   "id": "b15c8646",
   "metadata": {
    "execution": {
     "iopub.execute_input": "2021-11-22T10:08:25.487400Z",
     "iopub.status.busy": "2021-11-22T10:08:25.486855Z",
     "iopub.status.idle": "2021-11-22T10:08:25.496893Z",
     "shell.execute_reply": "2021-11-22T10:08:25.497278Z"
    },
    "papermill": {
     "duration": 0.045311,
     "end_time": "2021-11-22T10:08:25.497440",
     "exception": false,
     "start_time": "2021-11-22T10:08:25.452129",
     "status": "completed"
    },
    "tags": []
   },
   "outputs": [],
   "source": [
    "%load_ext autoreload\n",
    "%autoreload 2"
   ]
  },
  {
   "cell_type": "code",
   "execution_count": 2,
   "id": "22ef38dc",
   "metadata": {
    "execution": {
     "iopub.execute_input": "2021-11-22T10:08:25.559096Z",
     "iopub.status.busy": "2021-11-22T10:08:25.556571Z",
     "iopub.status.idle": "2021-11-22T10:08:26.154721Z",
     "shell.execute_reply": "2021-11-22T10:08:26.154147Z"
    },
    "papermill": {
     "duration": 0.633323,
     "end_time": "2021-11-22T10:08:26.154869",
     "exception": false,
     "start_time": "2021-11-22T10:08:25.521546",
     "status": "completed"
    },
    "tags": []
   },
   "outputs": [],
   "source": [
    "%matplotlib inline\n",
    "import numpy as np\n",
    "import matplotlib.pyplot as plt\n",
    "import pandas as pd"
   ]
  },
  {
   "cell_type": "markdown",
   "id": "ba036198",
   "metadata": {
    "papermill": {
     "duration": 0.023929,
     "end_time": "2021-11-22T10:08:26.203406",
     "exception": false,
     "start_time": "2021-11-22T10:08:26.179477",
     "status": "completed"
    },
    "tags": []
   },
   "source": [
    "From the command line run `pip install mnist`. This is a library that will help you bring down the mnist dataset. If you run this from a notebook, you need to put  `!pip install mnist` in a cell by itself."
   ]
  },
  {
   "cell_type": "code",
   "execution_count": 3,
   "id": "bb6ad8a1",
   "metadata": {
    "execution": {
     "iopub.execute_input": "2021-11-22T10:08:26.256024Z",
     "iopub.status.busy": "2021-11-22T10:08:26.255487Z",
     "iopub.status.idle": "2021-11-22T10:08:28.621086Z",
     "shell.execute_reply": "2021-11-22T10:08:28.621549Z"
    },
    "papermill": {
     "duration": 2.394238,
     "end_time": "2021-11-22T10:08:28.621730",
     "exception": false,
     "start_time": "2021-11-22T10:08:26.227492",
     "status": "completed"
    },
    "tags": []
   },
   "outputs": [
    {
     "name": "stdout",
     "output_type": "stream",
     "text": [
      "Collecting mnist\r\n"
     ]
    },
    {
     "name": "stdout",
     "output_type": "stream",
     "text": [
      "  Downloading mnist-0.2.2-py2.py3-none-any.whl (3.5 kB)\r\n",
      "Requirement already satisfied: numpy in /opt/hostedtoolcache/Python/3.6.15/x64/lib/python3.6/site-packages (from mnist) (1.19.5)\r\n"
     ]
    },
    {
     "name": "stdout",
     "output_type": "stream",
     "text": [
      "Installing collected packages: mnist\r\n",
      "Successfully installed mnist-0.2.2\r\n"
     ]
    }
   ],
   "source": [
    "!pip install mnist"
   ]
  },
  {
   "cell_type": "markdown",
   "id": "69df9c9a",
   "metadata": {
    "papermill": {
     "duration": 0.025084,
     "end_time": "2021-11-22T10:08:28.671940",
     "exception": false,
     "start_time": "2021-11-22T10:08:28.646856",
     "status": "completed"
    },
    "tags": []
   },
   "source": [
    "## Preparing the Data"
   ]
  },
  {
   "cell_type": "code",
   "execution_count": 4,
   "id": "7f69d806",
   "metadata": {
    "execution": {
     "iopub.execute_input": "2021-11-22T10:08:28.741066Z",
     "iopub.status.busy": "2021-11-22T10:08:28.726356Z",
     "iopub.status.idle": "2021-11-22T10:08:28.744742Z",
     "shell.execute_reply": "2021-11-22T10:08:28.744309Z"
    },
    "papermill": {
     "duration": 0.04805,
     "end_time": "2021-11-22T10:08:28.744875",
     "exception": false,
     "start_time": "2021-11-22T10:08:28.696825",
     "status": "completed"
    },
    "tags": []
   },
   "outputs": [],
   "source": [
    "import mnist"
   ]
  },
  {
   "cell_type": "code",
   "execution_count": 5,
   "id": "a411e44f",
   "metadata": {
    "execution": {
     "iopub.execute_input": "2021-11-22T10:08:28.798894Z",
     "iopub.status.busy": "2021-11-22T10:08:28.798368Z",
     "iopub.status.idle": "2021-11-22T10:08:29.363941Z",
     "shell.execute_reply": "2021-11-22T10:08:29.363400Z"
    },
    "papermill": {
     "duration": 0.593787,
     "end_time": "2021-11-22T10:08:29.364083",
     "exception": false,
     "start_time": "2021-11-22T10:08:28.770296",
     "status": "completed"
    },
    "tags": []
   },
   "outputs": [],
   "source": [
    "train_images = mnist.train_images()\n",
    "train_labels = mnist.train_labels()"
   ]
  },
  {
   "cell_type": "code",
   "execution_count": 6,
   "id": "dceab3a5",
   "metadata": {
    "execution": {
     "iopub.execute_input": "2021-11-22T10:08:29.419107Z",
     "iopub.status.busy": "2021-11-22T10:08:29.418590Z",
     "iopub.status.idle": "2021-11-22T10:08:29.433068Z",
     "shell.execute_reply": "2021-11-22T10:08:29.432633Z"
    },
    "papermill": {
     "duration": 0.043899,
     "end_time": "2021-11-22T10:08:29.433179",
     "exception": false,
     "start_time": "2021-11-22T10:08:29.389280",
     "status": "completed"
    },
    "tags": []
   },
   "outputs": [
    {
     "data": {
      "text/plain": [
       "((60000, 28, 28), (60000,))"
      ]
     },
     "execution_count": 6,
     "metadata": {},
     "output_type": "execute_result"
    }
   ],
   "source": [
    "train_images.shape, train_labels.shape"
   ]
  },
  {
   "cell_type": "code",
   "execution_count": 7,
   "id": "f50dc2bb",
   "metadata": {
    "execution": {
     "iopub.execute_input": "2021-11-22T10:08:29.486816Z",
     "iopub.status.busy": "2021-11-22T10:08:29.486305Z",
     "iopub.status.idle": "2021-11-22T10:08:29.636243Z",
     "shell.execute_reply": "2021-11-22T10:08:29.635699Z"
    },
    "papermill": {
     "duration": 0.178356,
     "end_time": "2021-11-22T10:08:29.636443",
     "exception": false,
     "start_time": "2021-11-22T10:08:29.458087",
     "status": "completed"
    },
    "tags": []
   },
   "outputs": [],
   "source": [
    "test_images = mnist.test_images()\n",
    "test_labels = mnist.test_labels()"
   ]
  },
  {
   "cell_type": "code",
   "execution_count": 8,
   "id": "fc38cf1b",
   "metadata": {
    "execution": {
     "iopub.execute_input": "2021-11-22T10:08:29.695236Z",
     "iopub.status.busy": "2021-11-22T10:08:29.694711Z",
     "iopub.status.idle": "2021-11-22T10:08:29.706037Z",
     "shell.execute_reply": "2021-11-22T10:08:29.705592Z"
    },
    "papermill": {
     "duration": 0.044251,
     "end_time": "2021-11-22T10:08:29.706158",
     "exception": false,
     "start_time": "2021-11-22T10:08:29.661907",
     "status": "completed"
    },
    "tags": []
   },
   "outputs": [
    {
     "data": {
      "text/plain": [
       "((10000, 28, 28), (10000,))"
      ]
     },
     "execution_count": 8,
     "metadata": {},
     "output_type": "execute_result"
    }
   ],
   "source": [
    "test_images.shape, test_labels.shape"
   ]
  },
  {
   "cell_type": "code",
   "execution_count": 9,
   "id": "f9ed8fe0",
   "metadata": {
    "execution": {
     "iopub.execute_input": "2021-11-22T10:08:29.760526Z",
     "iopub.status.busy": "2021-11-22T10:08:29.760011Z",
     "iopub.status.idle": "2021-11-22T10:08:29.898435Z",
     "shell.execute_reply": "2021-11-22T10:08:29.898907Z"
    },
    "papermill": {
     "duration": 0.167754,
     "end_time": "2021-11-22T10:08:29.899067",
     "exception": false,
     "start_time": "2021-11-22T10:08:29.731313",
     "status": "completed"
    },
    "tags": []
   },
   "outputs": [
    {
     "name": "stdout",
     "output_type": "stream",
     "text": [
      "2\n"
     ]
    },
    {
     "data": {
      "text/plain": [
       "<matplotlib.image.AxesImage at 0x7f8326f6b048>"
      ]
     },
     "execution_count": 9,
     "metadata": {},
     "output_type": "execute_result"
    },
    {
     "data": {
      "image/png": "[encoded data removed]",
      "text/plain": [
       "<Figure size 432x288 with 1 Axes>"
      ]
     },
     "metadata": {
      "needs_background": "light"
     },
     "output_type": "display_data"
    }
   ],
   "source": [
    "image_index = 7776 # You may select anything up to 60,000\n",
    "print(train_labels[image_index]) \n",
    "plt.imshow(train_images[image_index], cmap='Greys')"
   ]
  },
  {
   "cell_type": "markdown",
   "id": "a8d2388d",
   "metadata": {
    "papermill": {
     "duration": 0.026756,
     "end_time": "2021-11-22T10:08:29.953176",
     "exception": false,
     "start_time": "2021-11-22T10:08:29.926420",
     "status": "completed"
    },
    "tags": []
   },
   "source": [
    "## Filter data to get 3 and 8 out"
   ]
  },
  {
   "cell_type": "code",
   "execution_count": 10,
   "id": "776f7fc7",
   "metadata": {
    "execution": {
     "iopub.execute_input": "2021-11-22T10:08:30.010560Z",
     "iopub.status.busy": "2021-11-22T10:08:30.010014Z",
     "iopub.status.idle": "2021-11-22T10:08:30.028658Z",
     "shell.execute_reply": "2021-11-22T10:08:30.028221Z"
    },
    "papermill": {
     "duration": 0.049179,
     "end_time": "2021-11-22T10:08:30.028787",
     "exception": false,
     "start_time": "2021-11-22T10:08:29.979608",
     "status": "completed"
    },
    "tags": []
   },
   "outputs": [],
   "source": [
    "train_filter = np.where((train_labels == 3 ) | (train_labels == 8))\n",
    "test_filter = np.where((test_labels == 3) | (test_labels == 8))\n",
    "X_train, y_train = train_images[train_filter], train_labels[train_filter]\n",
    "X_test, y_test = test_images[test_filter], test_labels[test_filter]"
   ]
  },
  {
   "cell_type": "markdown",
   "id": "948f0b7e",
   "metadata": {
    "papermill": {
     "duration": 0.026339,
     "end_time": "2021-11-22T10:08:30.081775",
     "exception": false,
     "start_time": "2021-11-22T10:08:30.055436",
     "status": "completed"
    },
    "tags": []
   },
   "source": [
    "We normalize the pizel values in the 0 to 1 range"
   ]
  },
  {
   "cell_type": "code",
   "execution_count": 11,
   "id": "ee4c2166",
   "metadata": {
    "execution": {
     "iopub.execute_input": "2021-11-22T10:08:30.146905Z",
     "iopub.status.busy": "2021-11-22T10:08:30.146355Z",
     "iopub.status.idle": "2021-11-22T10:08:30.189549Z",
     "shell.execute_reply": "2021-11-22T10:08:30.190020Z"
    },
    "papermill": {
     "duration": 0.081595,
     "end_time": "2021-11-22T10:08:30.190184",
     "exception": false,
     "start_time": "2021-11-22T10:08:30.108589",
     "status": "completed"
    },
    "tags": []
   },
   "outputs": [],
   "source": [
    "X_train = X_train/255.\n",
    "X_test = X_test/255."
   ]
  },
  {
   "cell_type": "markdown",
   "id": "ddcf4fab",
   "metadata": {
    "papermill": {
     "duration": 0.026253,
     "end_time": "2021-11-22T10:08:30.243161",
     "exception": false,
     "start_time": "2021-11-22T10:08:30.216908",
     "status": "completed"
    },
    "tags": []
   },
   "source": [
    "And setup the labels as 1 (when the digit is 3) and 0 (when the digit is 8)"
   ]
  },
  {
   "cell_type": "code",
   "execution_count": 12,
   "id": "7dc908f2",
   "metadata": {
    "execution": {
     "iopub.execute_input": "2021-11-22T10:08:30.305609Z",
     "iopub.status.busy": "2021-11-22T10:08:30.299778Z",
     "iopub.status.idle": "2021-11-22T10:08:30.313292Z",
     "shell.execute_reply": "2021-11-22T10:08:30.312877Z"
    },
    "papermill": {
     "duration": 0.043974,
     "end_time": "2021-11-22T10:08:30.313420",
     "exception": false,
     "start_time": "2021-11-22T10:08:30.269446",
     "status": "completed"
    },
    "tags": []
   },
   "outputs": [],
   "source": [
    "y_train = 1*(y_train==3)\n",
    "y_test = 1*(y_test==3)"
   ]
  },
  {
   "cell_type": "code",
   "execution_count": 13,
   "id": "01e4e969",
   "metadata": {
    "execution": {
     "iopub.execute_input": "2021-11-22T10:08:30.370040Z",
     "iopub.status.busy": "2021-11-22T10:08:30.369487Z",
     "iopub.status.idle": "2021-11-22T10:08:30.383838Z",
     "shell.execute_reply": "2021-11-22T10:08:30.383423Z"
    },
    "papermill": {
     "duration": 0.043974,
     "end_time": "2021-11-22T10:08:30.383959",
     "exception": false,
     "start_time": "2021-11-22T10:08:30.339985",
     "status": "completed"
    },
    "tags": []
   },
   "outputs": [
    {
     "data": {
      "text/plain": [
       "((11982, 28, 28), (1984, 28, 28))"
      ]
     },
     "execution_count": 13,
     "metadata": {},
     "output_type": "execute_result"
    }
   ],
   "source": [
    "X_train.shape, X_test.shape"
   ]
  },
  {
   "cell_type": "markdown",
   "id": "5ccf3f85",
   "metadata": {
    "papermill": {
     "duration": 0.026523,
     "end_time": "2021-11-22T10:08:30.437177",
     "exception": false,
     "start_time": "2021-11-22T10:08:30.410654",
     "status": "completed"
    },
    "tags": []
   },
   "source": [
    "We reshape the data to flatten the image pixels into a set of features or co-variates:"
   ]
  },
  {
   "cell_type": "code",
   "execution_count": 14,
   "id": "5286a4a3",
   "metadata": {
    "execution": {
     "iopub.execute_input": "2021-11-22T10:08:30.511123Z",
     "iopub.status.busy": "2021-11-22T10:08:30.510582Z",
     "iopub.status.idle": "2021-11-22T10:08:30.518949Z",
     "shell.execute_reply": "2021-11-22T10:08:30.518540Z"
    },
    "papermill": {
     "duration": 0.055039,
     "end_time": "2021-11-22T10:08:30.519068",
     "exception": false,
     "start_time": "2021-11-22T10:08:30.464029",
     "status": "completed"
    },
    "tags": []
   },
   "outputs": [
    {
     "data": {
      "text/plain": [
       "((11982, 784), (1984, 784))"
      ]
     },
     "execution_count": 14,
     "metadata": {},
     "output_type": "execute_result"
    }
   ],
   "source": [
    "X_train = X_train.reshape(X_train.shape[0], -1)\n",
    "X_test = X_test.reshape(X_test.shape[0], -1)\n",
    "X_train.shape, X_test.shape"
   ]
  },
  {
   "cell_type": "code",
   "execution_count": 15,
   "id": "73c5f88a",
   "metadata": {
    "execution": {
     "iopub.execute_input": "2021-11-22T10:08:30.579025Z",
     "iopub.status.busy": "2021-11-22T10:08:30.578484Z",
     "iopub.status.idle": "2021-11-22T10:08:30.596572Z",
     "shell.execute_reply": "2021-11-22T10:08:30.596148Z"
    },
    "papermill": {
     "duration": 0.050873,
     "end_time": "2021-11-22T10:08:30.596698",
     "exception": false,
     "start_time": "2021-11-22T10:08:30.545825",
     "status": "completed"
    },
    "tags": []
   },
   "outputs": [],
   "source": [
    "#Impoting functions from 'Kudzu'\n",
    "from kudzu.model import Model\n",
    "from kudzu.train import Learner\n",
    "from kudzu.optim import GD\n",
    "from kudzu.data import Data, Sampler,Dataloader\n",
    "\n",
    "from kudzu.callbacks import AccCallback\n",
    "from kudzu.callbacks import ClfCallback\n",
    "\n",
    "from kudzu.loss import MSE\n",
    "\n",
    "from kudzu.layer import Sigmoid,Relu\n",
    "from kudzu.layer import Affine"
   ]
  },
  {
   "cell_type": "markdown",
   "id": "bc01172a",
   "metadata": {
    "papermill": {
     "duration": 0.026744,
     "end_time": "2021-11-22T10:08:30.650452",
     "exception": false,
     "start_time": "2021-11-22T10:08:30.623708",
     "status": "completed"
    },
    "tags": []
   },
   "source": [
    "### Let us create a `Config` class, to store important parameters. \n",
    "This class essentially plays the role of a dictionary."
   ]
  },
  {
   "cell_type": "code",
   "execution_count": 16,
   "id": "978281aa",
   "metadata": {
    "execution": {
     "iopub.execute_input": "2021-11-22T10:08:30.711017Z",
     "iopub.status.busy": "2021-11-22T10:08:30.710483Z",
     "iopub.status.idle": "2021-11-22T10:08:30.721111Z",
     "shell.execute_reply": "2021-11-22T10:08:30.720677Z"
    },
    "papermill": {
     "duration": 0.044068,
     "end_time": "2021-11-22T10:08:30.721227",
     "exception": false,
     "start_time": "2021-11-22T10:08:30.677159",
     "status": "completed"
    },
    "tags": []
   },
   "outputs": [],
   "source": [
    "class Config:\n",
    "    pass\n",
    "config = Config()\n",
    "config.lr = 0.001\n",
    "config.num_epochs = 250\n",
    "config.bs = 50"
   ]
  },
  {
   "cell_type": "markdown",
   "id": "1385fa59",
   "metadata": {
    "papermill": {
     "duration": 0.02666,
     "end_time": "2021-11-22T10:08:30.774718",
     "exception": false,
     "start_time": "2021-11-22T10:08:30.748058",
     "status": "completed"
    },
    "tags": []
   },
   "source": [
    "### Running Models with the Training data\n",
    "Details about the network layers:\n",
    "- A first affine layer has 784 inputs and does 100 affine transforms. These are followed by a Relu\n",
    "- A second affine layer has 100 inputs from the 100 activations of the past layer, and does 100 affine transforms. These are followed by a Relu\n",
    "- A third affine layer has 100 activations and does 2 affine transformations to create an embedding for visualization. There is no non-linearity here.\n",
    "- A final \"logistic regression\" which has an affine transform from 2 inputs to 1 output, which is squeezed through a sigmoid.\n"
   ]
  },
  {
   "cell_type": "code",
   "execution_count": 17,
   "id": "2b9c66db",
   "metadata": {
    "execution": {
     "iopub.execute_input": "2021-11-22T10:08:30.833615Z",
     "iopub.status.busy": "2021-11-22T10:08:30.833091Z",
     "iopub.status.idle": "2021-11-22T10:08:30.845110Z",
     "shell.execute_reply": "2021-11-22T10:08:30.844695Z"
    },
    "papermill": {
     "duration": 0.043725,
     "end_time": "2021-11-22T10:08:30.845228",
     "exception": false,
     "start_time": "2021-11-22T10:08:30.801503",
     "status": "completed"
    },
    "tags": []
   },
   "outputs": [],
   "source": [
    "data = Data(X_train, y_train.reshape(-1,1))\n",
    "sampler = Sampler(data, config.bs, shuffle=True)\n",
    "\n",
    "dl = Dataloader(data, sampler)\n",
    "\n",
    "opt = GD(config.lr)\n",
    "loss = MSE()"
   ]
  },
  {
   "cell_type": "code",
   "execution_count": 18,
   "id": "b275e4c2",
   "metadata": {
    "execution": {
     "iopub.execute_input": "2021-11-22T10:08:30.907016Z",
     "iopub.status.busy": "2021-11-22T10:08:30.906487Z",
     "iopub.status.idle": "2021-11-22T10:08:30.916228Z",
     "shell.execute_reply": "2021-11-22T10:08:30.915809Z"
    },
    "papermill": {
     "duration": 0.044197,
     "end_time": "2021-11-22T10:08:30.916349",
     "exception": false,
     "start_time": "2021-11-22T10:08:30.872152",
     "status": "completed"
    },
    "tags": []
   },
   "outputs": [],
   "source": [
    "training_data_x = X_train\n",
    "testing_data_x = X_test\n",
    "training_data_y = y_train.reshape(-1,1)\n",
    "testing_data_y = y_test.reshape(-1,1)"
   ]
  },
  {
   "cell_type": "code",
   "execution_count": 19,
   "id": "76951160",
   "metadata": {
    "execution": {
     "iopub.execute_input": "2021-11-22T10:08:30.973912Z",
     "iopub.status.busy": "2021-11-22T10:08:30.973355Z",
     "iopub.status.idle": "2021-11-22T10:08:30.989846Z",
     "shell.execute_reply": "2021-11-22T10:08:30.989413Z"
    },
    "papermill": {
     "duration": 0.046931,
     "end_time": "2021-11-22T10:08:30.989971",
     "exception": false,
     "start_time": "2021-11-22T10:08:30.943040",
     "status": "completed"
    },
    "tags": []
   },
   "outputs": [
    {
     "name": "stdout",
     "output_type": "stream",
     "text": [
      "xavier\n",
      "xavier\n",
      "xavier\n",
      "xavier\n",
      "xavier\n"
     ]
    }
   ],
   "source": [
    "layers = [Affine(\"first\", 784, 100), Relu(\"first\"), Affine(\"second\", 100, 100), Relu(\"second\"), Affine(\"third\", 100, 2), Affine(\"last\", 2, 1), Sigmoid(\"last\")]\n",
    "model_nn = Model(layers)\n",
    "model_lr = Model([Affine(\"logits\", 784, 1), Sigmoid(\"sigmoid\")])"
   ]
  },
  {
   "cell_type": "code",
   "execution_count": 20,
   "id": "6eede77a",
   "metadata": {
    "execution": {
     "iopub.execute_input": "2021-11-22T10:08:31.048739Z",
     "iopub.status.busy": "2021-11-22T10:08:31.048226Z",
     "iopub.status.idle": "2021-11-22T10:08:31.060540Z",
     "shell.execute_reply": "2021-11-22T10:08:31.060089Z"
    },
    "papermill": {
     "duration": 0.043204,
     "end_time": "2021-11-22T10:08:31.060660",
     "exception": false,
     "start_time": "2021-11-22T10:08:31.017456",
     "status": "completed"
    },
    "tags": []
   },
   "outputs": [],
   "source": [
    "nn_learner = Learner(loss, model_nn, opt, config.num_epochs)\n",
    "acc_nn = ClfCallback(nn_learner, config.bs, training_data_x , testing_data_x, training_data_y, testing_data_y)\n",
    "nn_learner.set_callbacks([acc_nn])"
   ]
  },
  {
   "cell_type": "code",
   "execution_count": 21,
   "id": "877b6cc7",
   "metadata": {
    "execution": {
     "iopub.execute_input": "2021-11-22T10:08:31.120219Z",
     "iopub.status.busy": "2021-11-22T10:08:31.119691Z",
     "iopub.status.idle": "2021-11-22T10:08:31.131774Z",
     "shell.execute_reply": "2021-11-22T10:08:31.131357Z"
    },
    "papermill": {
     "duration": 0.043839,
     "end_time": "2021-11-22T10:08:31.131898",
     "exception": false,
     "start_time": "2021-11-22T10:08:31.088059",
     "status": "completed"
    },
    "tags": []
   },
   "outputs": [],
   "source": [
    "lr_learner = Learner(loss, model_lr, opt, config.num_epochs)\n",
    "acc_lr = ClfCallback(lr_learner, config.bs, training_data_x , testing_data_x, training_data_y, testing_data_y)\n",
    "lr_learner.set_callbacks([acc_lr])"
   ]
  },
  {
   "cell_type": "code",
   "execution_count": 22,
   "id": "d9b133c3",
   "metadata": {
    "execution": {
     "iopub.execute_input": "2021-11-22T10:08:31.190959Z",
     "iopub.status.busy": "2021-11-22T10:08:31.190447Z",
     "iopub.status.idle": "2021-11-22T10:09:46.898439Z",
     "shell.execute_reply": "2021-11-22T10:09:46.899187Z"
    },
    "papermill": {
     "duration": 75.740004,
     "end_time": "2021-11-22T10:09:46.899339",
     "exception": false,
     "start_time": "2021-11-22T10:08:31.159335",
     "status": "completed"
    },
    "tags": []
   },
   "outputs": [
    {
     "name": "stdout",
     "output_type": "stream",
     "text": [
      "Epoch 0, Loss 0.2547\n",
      "Training Accuracy: 0.4865, Testing Accuracy: 0.4934\n",
      "\n"
     ]
    },
    {
     "name": "stdout",
     "output_type": "stream",
     "text": [
      "Epoch 10, Loss 0.2007\n",
      "Training Accuracy: 0.8476, Testing Accuracy: 0.8725\n",
      "\n"
     ]
    },
    {
     "name": "stdout",
     "output_type": "stream",
     "text": [
      "Epoch 20, Loss 0.1025\n",
      "Training Accuracy: 0.9028, Testing Accuracy: 0.9178\n",
      "\n"
     ]
    },
    {
     "name": "stdout",
     "output_type": "stream",
     "text": [
      "Epoch 30, Loss 0.0654\n",
      "Training Accuracy: 0.9272, Testing Accuracy: 0.9410\n",
      "\n"
     ]
    },
    {
     "name": "stdout",
     "output_type": "stream",
     "text": [
      "Epoch 40, Loss 0.0512\n",
      "Training Accuracy: 0.9407, Testing Accuracy: 0.9511\n",
      "\n"
     ]
    },
    {
     "name": "stdout",
     "output_type": "stream",
     "text": [
      "Epoch 50, Loss 0.0439\n",
      "Training Accuracy: 0.9469, Testing Accuracy: 0.9556\n",
      "\n"
     ]
    },
    {
     "name": "stdout",
     "output_type": "stream",
     "text": [
      "Epoch 60, Loss 0.0395\n",
      "Training Accuracy: 0.9528, Testing Accuracy: 0.9602\n",
      "\n"
     ]
    },
    {
     "name": "stdout",
     "output_type": "stream",
     "text": [
      "Epoch 70, Loss 0.0364\n",
      "Training Accuracy: 0.9562, Testing Accuracy: 0.9637\n",
      "\n"
     ]
    },
    {
     "name": "stdout",
     "output_type": "stream",
     "text": [
      "Epoch 80, Loss 0.0342\n",
      "Training Accuracy: 0.9590, Testing Accuracy: 0.9652\n",
      "\n"
     ]
    },
    {
     "name": "stdout",
     "output_type": "stream",
     "text": [
      "Epoch 90, Loss 0.0325\n",
      "Training Accuracy: 0.9612, Testing Accuracy: 0.9672\n",
      "\n"
     ]
    },
    {
     "name": "stdout",
     "output_type": "stream",
     "text": [
      "Epoch 100, Loss 0.0311\n",
      "Training Accuracy: 0.9629, Testing Accuracy: 0.9667\n",
      "\n"
     ]
    },
    {
     "name": "stdout",
     "output_type": "stream",
     "text": [
      "Epoch 110, Loss 0.03\n",
      "Training Accuracy: 0.9645, Testing Accuracy: 0.9677\n",
      "\n"
     ]
    },
    {
     "name": "stdout",
     "output_type": "stream",
     "text": [
      "Epoch 120, Loss 0.029\n",
      "Training Accuracy: 0.9659, Testing Accuracy: 0.9682\n",
      "\n"
     ]
    },
    {
     "name": "stdout",
     "output_type": "stream",
     "text": [
      "Epoch 130, Loss 0.0282\n",
      "Training Accuracy: 0.9667, Testing Accuracy: 0.9693\n",
      "\n"
     ]
    },
    {
     "name": "stdout",
     "output_type": "stream",
     "text": [
      "Epoch 140, Loss 0.0274\n",
      "Training Accuracy: 0.9673, Testing Accuracy: 0.9693\n",
      "\n"
     ]
    },
    {
     "name": "stdout",
     "output_type": "stream",
     "text": [
      "Epoch 150, Loss 0.0267\n",
      "Training Accuracy: 0.9688, Testing Accuracy: 0.9703\n",
      "\n"
     ]
    },
    {
     "name": "stdout",
     "output_type": "stream",
     "text": [
      "Epoch 160, Loss 0.0261\n",
      "Training Accuracy: 0.9693, Testing Accuracy: 0.9713\n",
      "\n"
     ]
    },
    {
     "name": "stdout",
     "output_type": "stream",
     "text": [
      "Epoch 170, Loss 0.0256\n",
      "Training Accuracy: 0.9699, Testing Accuracy: 0.9718\n",
      "\n"
     ]
    },
    {
     "name": "stdout",
     "output_type": "stream",
     "text": [
      "Epoch 180, Loss 0.0251\n",
      "Training Accuracy: 0.9703, Testing Accuracy: 0.9723\n",
      "\n"
     ]
    },
    {
     "name": "stdout",
     "output_type": "stream",
     "text": [
      "Epoch 190, Loss 0.0246\n",
      "Training Accuracy: 0.9709, Testing Accuracy: 0.9723\n",
      "\n"
     ]
    },
    {
     "name": "stdout",
     "output_type": "stream",
     "text": [
      "Epoch 200, Loss 0.0242\n",
      "Training Accuracy: 0.9715, Testing Accuracy: 0.9733\n",
      "\n"
     ]
    },
    {
     "name": "stdout",
     "output_type": "stream",
     "text": [
      "Epoch 210, Loss 0.0237\n",
      "Training Accuracy: 0.9723, Testing Accuracy: 0.9723\n",
      "\n"
     ]
    },
    {
     "name": "stdout",
     "output_type": "stream",
     "text": [
      "Epoch 220, Loss 0.0233\n",
      "Training Accuracy: 0.9726, Testing Accuracy: 0.9723\n",
      "\n"
     ]
    },
    {
     "name": "stdout",
     "output_type": "stream",
     "text": [
      "Epoch 230, Loss 0.023\n",
      "Training Accuracy: 0.9732, Testing Accuracy: 0.9718\n",
      "\n"
     ]
    },
    {
     "name": "stdout",
     "output_type": "stream",
     "text": [
      "Epoch 240, Loss 0.0226\n",
      "Training Accuracy: 0.9738, Testing Accuracy: 0.9723\n",
      "\n"
     ]
    },
    {
     "data": {
      "text/plain": [
       "0.05243648359937213"
      ]
     },
     "execution_count": 22,
     "metadata": {},
     "output_type": "execute_result"
    }
   ],
   "source": [
    "nn_learner.train_loop(dl)"
   ]
  },
  {
   "cell_type": "code",
   "execution_count": 23,
   "id": "e0163366",
   "metadata": {
    "execution": {
     "iopub.execute_input": "2021-11-22T10:09:46.980559Z",
     "iopub.status.busy": "2021-11-22T10:09:46.980041Z",
     "iopub.status.idle": "2021-11-22T10:10:00.627802Z",
     "shell.execute_reply": "2021-11-22T10:10:00.628564Z"
    },
    "papermill": {
     "duration": 13.694622,
     "end_time": "2021-11-22T10:10:00.628721",
     "exception": false,
     "start_time": "2021-11-22T10:09:46.934099",
     "status": "completed"
    },
    "tags": []
   },
   "outputs": [
    {
     "name": "stdout",
     "output_type": "stream",
     "text": [
      "Epoch 0, Loss 0.2562\n",
      "Training Accuracy: 0.6329, Testing Accuracy: 0.6477\n",
      "\n"
     ]
    },
    {
     "name": "stdout",
     "output_type": "stream",
     "text": [
      "Epoch 10, Loss 0.1039\n",
      "Training Accuracy: 0.9110, Testing Accuracy: 0.9194\n",
      "\n"
     ]
    },
    {
     "name": "stdout",
     "output_type": "stream",
     "text": [
      "Epoch 20, Loss 0.0796\n",
      "Training Accuracy: 0.9256, Testing Accuracy: 0.9375\n",
      "\n"
     ]
    },
    {
     "name": "stdout",
     "output_type": "stream",
     "text": [
      "Epoch 30, Loss 0.0686\n",
      "Training Accuracy: 0.9346, Testing Accuracy: 0.9451\n",
      "\n"
     ]
    },
    {
     "name": "stdout",
     "output_type": "stream",
     "text": [
      "Epoch 40, Loss 0.062\n",
      "Training Accuracy: 0.9407, Testing Accuracy: 0.9516\n",
      "\n"
     ]
    },
    {
     "name": "stdout",
     "output_type": "stream",
     "text": [
      "Epoch 50, Loss 0.0574\n",
      "Training Accuracy: 0.9447, Testing Accuracy: 0.9541\n",
      "\n"
     ]
    },
    {
     "name": "stdout",
     "output_type": "stream",
     "text": [
      "Epoch 60, Loss 0.0541\n",
      "Training Accuracy: 0.9485, Testing Accuracy: 0.9577\n",
      "\n"
     ]
    },
    {
     "name": "stdout",
     "output_type": "stream",
     "text": [
      "Epoch 70, Loss 0.0516\n",
      "Training Accuracy: 0.9496, Testing Accuracy: 0.9587\n",
      "\n"
     ]
    },
    {
     "name": "stdout",
     "output_type": "stream",
     "text": [
      "Epoch 80, Loss 0.0495\n",
      "Training Accuracy: 0.9511, Testing Accuracy: 0.9597\n",
      "\n"
     ]
    },
    {
     "name": "stdout",
     "output_type": "stream",
     "text": [
      "Epoch 90, Loss 0.0478\n",
      "Training Accuracy: 0.9520, Testing Accuracy: 0.9602\n",
      "\n"
     ]
    },
    {
     "name": "stdout",
     "output_type": "stream",
     "text": [
      "Epoch 100, Loss 0.0464\n",
      "Training Accuracy: 0.9528, Testing Accuracy: 0.9612\n",
      "\n"
     ]
    },
    {
     "name": "stdout",
     "output_type": "stream",
     "text": [
      "Epoch 110, Loss 0.0452\n",
      "Training Accuracy: 0.9533, Testing Accuracy: 0.9632\n",
      "\n"
     ]
    },
    {
     "name": "stdout",
     "output_type": "stream",
     "text": [
      "Epoch 120, Loss 0.0441\n",
      "Training Accuracy: 0.9540, Testing Accuracy: 0.9642\n",
      "\n"
     ]
    },
    {
     "name": "stdout",
     "output_type": "stream",
     "text": [
      "Epoch 130, Loss 0.0432\n",
      "Training Accuracy: 0.9549, Testing Accuracy: 0.9647\n",
      "\n"
     ]
    },
    {
     "name": "stdout",
     "output_type": "stream",
     "text": [
      "Epoch 140, Loss 0.0423\n",
      "Training Accuracy: 0.9555, Testing Accuracy: 0.9652\n",
      "\n"
     ]
    },
    {
     "name": "stdout",
     "output_type": "stream",
     "text": [
      "Epoch 150, Loss 0.0416\n",
      "Training Accuracy: 0.9562, Testing Accuracy: 0.9662\n",
      "\n"
     ]
    },
    {
     "name": "stdout",
     "output_type": "stream",
     "text": [
      "Epoch 160, Loss 0.0409\n",
      "Training Accuracy: 0.9569, Testing Accuracy: 0.9662\n",
      "\n"
     ]
    },
    {
     "name": "stdout",
     "output_type": "stream",
     "text": [
      "Epoch 170, Loss 0.0403\n",
      "Training Accuracy: 0.9574, Testing Accuracy: 0.9662\n",
      "\n"
     ]
    },
    {
     "name": "stdout",
     "output_type": "stream",
     "text": [
      "Epoch 180, Loss 0.0397\n",
      "Training Accuracy: 0.9576, Testing Accuracy: 0.9662\n",
      "\n"
     ]
    },
    {
     "name": "stdout",
     "output_type": "stream",
     "text": [
      "Epoch 190, Loss 0.0392\n",
      "Training Accuracy: 0.9585, Testing Accuracy: 0.9662\n",
      "\n"
     ]
    },
    {
     "name": "stdout",
     "output_type": "stream",
     "text": [
      "Epoch 200, Loss 0.0387\n",
      "Training Accuracy: 0.9589, Testing Accuracy: 0.9662\n",
      "\n"
     ]
    },
    {
     "name": "stdout",
     "output_type": "stream",
     "text": [
      "Epoch 210, Loss 0.0383\n",
      "Training Accuracy: 0.9591, Testing Accuracy: 0.9662\n",
      "\n"
     ]
    },
    {
     "name": "stdout",
     "output_type": "stream",
     "text": [
      "Epoch 220, Loss 0.0379\n",
      "Training Accuracy: 0.9595, Testing Accuracy: 0.9662\n",
      "\n"
     ]
    },
    {
     "name": "stdout",
     "output_type": "stream",
     "text": [
      "Epoch 230, Loss 0.0375\n",
      "Training Accuracy: 0.9597, Testing Accuracy: 0.9667\n",
      "\n"
     ]
    },
    {
     "name": "stdout",
     "output_type": "stream",
     "text": [
      "Epoch 240, Loss 0.0371\n",
      "Training Accuracy: 0.9599, Testing Accuracy: 0.9667\n",
      "\n"
     ]
    },
    {
     "data": {
      "text/plain": [
       "0.03655422301814363"
      ]
     },
     "execution_count": 23,
     "metadata": {},
     "output_type": "execute_result"
    }
   ],
   "source": [
    "lr_learner.train_loop(dl)"
   ]
  },
  {
   "cell_type": "code",
   "execution_count": 24,
   "id": "ca410940",
   "metadata": {
    "execution": {
     "iopub.execute_input": "2021-11-22T10:10:00.720046Z",
     "iopub.status.busy": "2021-11-22T10:10:00.719098Z",
     "iopub.status.idle": "2021-11-22T10:10:00.940211Z",
     "shell.execute_reply": "2021-11-22T10:10:00.940631Z"
    },
    "papermill": {
     "duration": 0.270619,
     "end_time": "2021-11-22T10:10:00.940783",
     "exception": false,
     "start_time": "2021-11-22T10:10:00.670164",
     "status": "completed"
    },
    "tags": []
   },
   "outputs": [
    {
     "data": {
      "text/plain": [
       "<matplotlib.legend.Legend at 0x7f8326acd780>"
      ]
     },
     "execution_count": 24,
     "metadata": {},
     "output_type": "execute_result"
    },
    {
     "data": {
      "image/png": "[encoded data removed]",
      "text/plain": [
       "<Figure size 1080x720 with 1 Axes>"
      ]
     },
     "metadata": {
      "needs_background": "light"
     },
     "output_type": "display_data"
    }
   ],
   "source": [
    "#comparing the results of NN and LR\n",
    "plt.figure(figsize=(15,10))\n",
    "\n",
    "# Neural Network plots\n",
    "plt.plot(acc_nn.accuracies, 'r-', label = \"Training Accuracies - NN\")\n",
    "plt.plot(acc_nn.test_accuracies, 'g-', label = \"Testing Accuracies - NN\")\n",
    "\n",
    "# Logistic Regression plots\n",
    "plt.plot(acc_lr.accuracies, 'k-', label = \"Training Accuracies - LR\")\n",
    "plt.plot(acc_lr.test_accuracies, 'b-', label = \"Testing Accuracies - LR\")\n",
    "plt.legend()"
   ]
  },
  {
   "cell_type": "markdown",
   "id": "80dfb35c",
   "metadata": {
    "papermill": {
     "duration": 0.041987,
     "end_time": "2021-11-22T10:10:01.025052",
     "exception": false,
     "start_time": "2021-11-22T10:10:00.983065",
     "status": "completed"
    },
    "tags": []
   },
   "source": [
    "#### Plotting the outputs of this layer of the NN.\n"
   ]
  },
  {
   "cell_type": "code",
   "execution_count": 25,
   "id": "45eb2ff5",
   "metadata": {
    "execution": {
     "iopub.execute_input": "2021-11-22T10:10:01.113302Z",
     "iopub.status.busy": "2021-11-22T10:10:01.112403Z",
     "iopub.status.idle": "2021-11-22T10:10:01.133855Z",
     "shell.execute_reply": "2021-11-22T10:10:01.134286Z"
    },
    "papermill": {
     "duration": 0.067502,
     "end_time": "2021-11-22T10:10:01.134427",
     "exception": false,
     "start_time": "2021-11-22T10:10:01.066925",
     "status": "completed"
    },
    "tags": []
   },
   "outputs": [],
   "source": [
    "new_model = Model(layers[:-2])\n",
    "testing_plot = new_model(testing_data_x)"
   ]
  },
  {
   "cell_type": "code",
   "execution_count": 26,
   "id": "4c0a5485",
   "metadata": {
    "execution": {
     "iopub.execute_input": "2021-11-22T10:10:01.230901Z",
     "iopub.status.busy": "2021-11-22T10:10:01.230364Z",
     "iopub.status.idle": "2021-11-22T10:10:01.428139Z",
     "shell.execute_reply": "2021-11-22T10:10:01.427706Z"
    },
    "papermill": {
     "duration": 0.250855,
     "end_time": "2021-11-22T10:10:01.428266",
     "exception": false,
     "start_time": "2021-11-22T10:10:01.177411",
     "status": "completed"
    },
    "tags": []
   },
   "outputs": [
    {
     "data": {
      "text/plain": [
       "Text(0.5, 1.0, 'Outputs')"
      ]
     },
     "execution_count": 26,
     "metadata": {},
     "output_type": "execute_result"
    },
    {
     "data": {
      "image/png": "[encoded data removed]",
      "text/plain": [
       "<Figure size 576x504 with 1 Axes>"
      ]
     },
     "metadata": {
      "needs_background": "light"
     },
     "output_type": "display_data"
    }
   ],
   "source": [
    "# Plotting the scatter plot of points and color coding by class\n",
    "plt.figure(figsize=(8,7))\n",
    "plt.scatter(testing_plot[:,0], testing_plot[:,1], alpha = 0.1, c = y_test.ravel());\n",
    "plt.title('Outputs')"
   ]
  },
  {
   "cell_type": "markdown",
   "id": "a74fcf8f",
   "metadata": {
    "papermill": {
     "duration": 0.044701,
     "end_time": "2021-11-22T10:10:01.517868",
     "exception": false,
     "start_time": "2021-11-22T10:10:01.473167",
     "status": "completed"
    },
    "tags": []
   },
   "source": [
    "Probability contours"
   ]
  },
  {
   "cell_type": "code",
   "execution_count": 27,
   "id": "d0afc8e3",
   "metadata": {
    "execution": {
     "iopub.execute_input": "2021-11-22T10:10:01.615121Z",
     "iopub.status.busy": "2021-11-22T10:10:01.614506Z",
     "iopub.status.idle": "2021-11-22T10:10:01.623788Z",
     "shell.execute_reply": "2021-11-22T10:10:01.623330Z"
    },
    "papermill": {
     "duration": 0.061258,
     "end_time": "2021-11-22T10:10:01.623908",
     "exception": false,
     "start_time": "2021-11-22T10:10:01.562650",
     "status": "completed"
    },
    "tags": []
   },
   "outputs": [],
   "source": [
    "model_prob = Model(layers[-2:]) "
   ]
  },
  {
   "cell_type": "code",
   "execution_count": 28,
   "id": "9b96e238",
   "metadata": {
    "execution": {
     "iopub.execute_input": "2021-11-22T10:10:01.720536Z",
     "iopub.status.busy": "2021-11-22T10:10:01.719618Z",
     "iopub.status.idle": "2021-11-22T10:10:01.733570Z",
     "shell.execute_reply": "2021-11-22T10:10:01.733982Z"
    },
    "papermill": {
     "duration": 0.065467,
     "end_time": "2021-11-22T10:10:01.734125",
     "exception": false,
     "start_time": "2021-11-22T10:10:01.668658",
     "status": "completed"
    },
    "tags": []
   },
   "outputs": [],
   "source": [
    "#creating the x and y ranges according to the above generated plot.\n",
    "x_range = np.linspace(-4, 1, 100) \n",
    "y_range = np.linspace(-6, 6, 100) \n",
    "x_grid, y_grid = np.meshgrid(x_range, y_range) # x_grid and y_grig are of size 100 X 100\n",
    "\n",
    "# converting x_grid and y_grid to continuous arrays\n",
    "x_gridflat = np.ravel(x_grid)\n",
    "y_gridflat = np.ravel(y_grid)\n",
    "\n",
    "# The last layer of the current model takes two columns as input. Hence transpose of np.vstack() is required.\n",
    "X = np.vstack((x_gridflat, y_gridflat)).T\n",
    "\n",
    "prob_contour = model_prob(X).reshape(100,100) "
   ]
  },
  {
   "cell_type": "code",
   "execution_count": 29,
   "id": "da72499a",
   "metadata": {
    "execution": {
     "iopub.execute_input": "2021-11-22T10:10:01.864900Z",
     "iopub.status.busy": "2021-11-22T10:10:01.864370Z",
     "iopub.status.idle": "2021-11-22T10:10:02.095658Z",
     "shell.execute_reply": "2021-11-22T10:10:02.096108Z"
    },
    "papermill": {
     "duration": 0.317043,
     "end_time": "2021-11-22T10:10:02.096277",
     "exception": false,
     "start_time": "2021-11-22T10:10:01.779234",
     "status": "completed"
    },
    "tags": []
   },
   "outputs": [
    {
     "data": {
      "image/png": "[encoded data removed]",
      "text/plain": [
       "<Figure size 720x648 with 1 Axes>"
      ]
     },
     "metadata": {
      "needs_background": "light"
     },
     "output_type": "display_data"
    }
   ],
   "source": [
    "plt.figure(figsize=(10,9))\n",
    "plt.scatter(testing_plot[:,0], testing_plot[:,1], alpha = 0.1, c = y_test.ravel())\n",
    "contours = plt.contour(x_grid,y_grid,prob_contour)\n",
    "plt.title('Probability Contours')\n",
    "plt.clabel(contours, inline = True );"
   ]
  },
  {
   "cell_type": "code",
   "execution_count": null,
   "id": "e81b4ac7",
   "metadata": {
    "papermill": {
     "duration": 0.046592,
     "end_time": "2021-11-22T10:10:02.190169",
     "exception": false,
     "start_time": "2021-11-22T10:10:02.143577",
     "status": "completed"
    },
    "tags": []
   },
   "outputs": [],
   "source": []
  }
 ],
 "metadata": {
  "kernelspec": {
   "display_name": "Python 3",
   "language": "python",
   "name": "python3"
  },
  "language_info": {
   "codemirror_mode": {
    "name": "ipython",
    "version": 3
   },
   "file_extension": ".py",
   "mimetype": "text/x-python",
   "name": "python",
   "nbconvert_exporter": "python",
   "pygments_lexer": "ipython3",
   "version": "3.6.15"
  },
  "papermill": {
   "default_parameters": {},
   "duration": 98.341722,
   "end_time": "2021-11-22T10:10:02.646098",
   "environment_variables": {},
   "exception": null,
   "input_path": "2020-08-11-part2.ipynb",
   "output_path": "2020-08-11-part2.ipynb",
   "parameters": {},
   "start_time": "2021-11-22T10:08:24.304376",
   "version": "2.3.3"
  }
 },
 "nbformat": 4,
 "nbformat_minor": 5
}