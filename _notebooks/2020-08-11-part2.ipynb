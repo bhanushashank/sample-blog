{
 "cells": [
  {
   "cell_type": "markdown",
   "id": "98380cd3",
   "metadata": {
    "papermill": {
     "duration": 0.024836,
     "end_time": "2022-03-07T10:09:18.743259",
     "exception": false,
     "start_time": "2022-03-07T10:09:18.718423",
     "status": "completed"
    },
    "tags": []
   },
   "source": [
    "# Distinguish Your Own Digits (DYOD)"
   ]
  },
  {
   "cell_type": "markdown",
   "id": "ef31240d",
   "metadata": {
    "papermill": {
     "duration": 0.021453,
     "end_time": "2022-03-07T10:09:18.785985",
     "exception": false,
     "start_time": "2022-03-07T10:09:18.764532",
     "status": "completed"
    },
    "tags": []
   },
   "source": [
    "You are going to write a classifier that distinguishes between the number 3 and number 8."
   ]
  },
  {
   "cell_type": "code",
   "execution_count": 1,
   "id": "b15c8646",
   "metadata": {
    "execution": {
     "iopub.execute_input": "2022-03-07T10:09:18.837501Z",
     "iopub.status.busy": "2022-03-07T10:09:18.837017Z",
     "iopub.status.idle": "2022-03-07T10:09:18.846574Z",
     "shell.execute_reply": "2022-03-07T10:09:18.846202Z"
    },
    "papermill": {
     "duration": 0.040095,
     "end_time": "2022-03-07T10:09:18.846682",
     "exception": false,
     "start_time": "2022-03-07T10:09:18.806587",
     "status": "completed"
    },
    "tags": []
   },
   "outputs": [],
   "source": [
    "%load_ext autoreload\n",
    "%autoreload 2"
   ]
  },
  {
   "cell_type": "code",
   "execution_count": 2,
   "id": "22ef38dc",
   "metadata": {
    "execution": {
     "iopub.execute_input": "2022-03-07T10:09:18.894508Z",
     "iopub.status.busy": "2022-03-07T10:09:18.894058Z",
     "iopub.status.idle": "2022-03-07T10:09:19.401980Z",
     "shell.execute_reply": "2022-03-07T10:09:19.401447Z"
    },
    "papermill": {
     "duration": 0.534854,
     "end_time": "2022-03-07T10:09:19.402103",
     "exception": false,
     "start_time": "2022-03-07T10:09:18.867249",
     "status": "completed"
    },
    "tags": []
   },
   "outputs": [],
   "source": [
    "%matplotlib inline\n",
    "import numpy as np\n",
    "import matplotlib.pyplot as plt\n",
    "import pandas as pd"
   ]
  },
  {
   "cell_type": "markdown",
   "id": "ba036198",
   "metadata": {
    "papermill": {
     "duration": 0.020872,
     "end_time": "2022-03-07T10:09:19.444000",
     "exception": false,
     "start_time": "2022-03-07T10:09:19.423128",
     "status": "completed"
    },
    "tags": []
   },
   "source": [
    "From the command line run `pip install mnist`. This is a library that will help you bring down the mnist dataset. If you run this from a notebook, you need to put  `!pip install mnist` in a cell by itself."
   ]
  },
  {
   "cell_type": "code",
   "execution_count": 3,
   "id": "bb6ad8a1",
   "metadata": {
    "execution": {
     "iopub.execute_input": "2022-03-07T10:09:19.488926Z",
     "iopub.status.busy": "2022-03-07T10:09:19.488465Z",
     "iopub.status.idle": "2022-03-07T10:09:21.698769Z",
     "shell.execute_reply": "2022-03-07T10:09:21.698219Z"
    },
    "papermill": {
     "duration": 2.234418,
     "end_time": "2022-03-07T10:09:21.698915",
     "exception": false,
     "start_time": "2022-03-07T10:09:19.464497",
     "status": "completed"
    },
    "tags": []
   },
   "outputs": [
    {
     "name": "stdout",
     "output_type": "stream",
     "text": [
      "Collecting mnist\r\n",
      "  Downloading mnist-0.2.2-py2.py3-none-any.whl (3.5 kB)\r\n",
      "Requirement already satisfied: numpy in /opt/hostedtoolcache/Python/3.6.15/x64/lib/python3.6/site-packages (from mnist) (1.19.5)\r\n"
     ]
    },
    {
     "name": "stdout",
     "output_type": "stream",
     "text": [
      "Installing collected packages: mnist\r\n",
      "Successfully installed mnist-0.2.2\r\n"
     ]
    }
   ],
   "source": [
    "!pip install mnist"
   ]
  },
  {
   "cell_type": "markdown",
   "id": "69df9c9a",
   "metadata": {
    "papermill": {
     "duration": 0.021331,
     "end_time": "2022-03-07T10:09:21.743559",
     "exception": false,
     "start_time": "2022-03-07T10:09:21.722228",
     "status": "completed"
    },
    "tags": []
   },
   "source": [
    "## Preparing the Data"
   ]
  },
  {
   "cell_type": "code",
   "execution_count": 4,
   "id": "7f69d806",
   "metadata": {
    "execution": {
     "iopub.execute_input": "2022-03-07T10:09:21.789979Z",
     "iopub.status.busy": "2022-03-07T10:09:21.789482Z",
     "iopub.status.idle": "2022-03-07T10:09:21.805119Z",
     "shell.execute_reply": "2022-03-07T10:09:21.804729Z"
    },
    "papermill": {
     "duration": 0.040383,
     "end_time": "2022-03-07T10:09:21.805218",
     "exception": false,
     "start_time": "2022-03-07T10:09:21.764835",
     "status": "completed"
    },
    "tags": []
   },
   "outputs": [],
   "source": [
    "import mnist"
   ]
  },
  {
   "cell_type": "code",
   "execution_count": 5,
   "id": "a411e44f",
   "metadata": {
    "execution": {
     "iopub.execute_input": "2022-03-07T10:09:21.854490Z",
     "iopub.status.busy": "2022-03-07T10:09:21.854031Z",
     "iopub.status.idle": "2022-03-07T10:09:22.356393Z",
     "shell.execute_reply": "2022-03-07T10:09:22.355942Z"
    },
    "papermill": {
     "duration": 0.529692,
     "end_time": "2022-03-07T10:09:22.356521",
     "exception": false,
     "start_time": "2022-03-07T10:09:21.826829",
     "status": "completed"
    },
    "tags": []
   },
   "outputs": [],
   "source": [
    "train_images = mnist.train_images()\n",
    "train_labels = mnist.train_labels()"
   ]
  },
  {
   "cell_type": "code",
   "execution_count": 6,
   "id": "dceab3a5",
   "metadata": {
    "execution": {
     "iopub.execute_input": "2022-03-07T10:09:22.402542Z",
     "iopub.status.busy": "2022-03-07T10:09:22.402095Z",
     "iopub.status.idle": "2022-03-07T10:09:22.415261Z",
     "shell.execute_reply": "2022-03-07T10:09:22.415628Z"
    },
    "papermill": {
     "duration": 0.037421,
     "end_time": "2022-03-07T10:09:22.415737",
     "exception": false,
     "start_time": "2022-03-07T10:09:22.378316",
     "status": "completed"
    },
    "tags": []
   },
   "outputs": [
    {
     "data": {
      "text/plain": [
       "((60000, 28, 28), (60000,))"
      ]
     },
     "execution_count": 6,
     "metadata": {},
     "output_type": "execute_result"
    }
   ],
   "source": [
    "train_images.shape, train_labels.shape"
   ]
  },
  {
   "cell_type": "code",
   "execution_count": 7,
   "id": "f50dc2bb",
   "metadata": {
    "execution": {
     "iopub.execute_input": "2022-03-07T10:09:22.462917Z",
     "iopub.status.busy": "2022-03-07T10:09:22.462481Z",
     "iopub.status.idle": "2022-03-07T10:09:22.564427Z",
     "shell.execute_reply": "2022-03-07T10:09:22.564915Z"
    },
    "papermill": {
     "duration": 0.127302,
     "end_time": "2022-03-07T10:09:22.565081",
     "exception": false,
     "start_time": "2022-03-07T10:09:22.437779",
     "status": "completed"
    },
    "tags": []
   },
   "outputs": [],
   "source": [
    "test_images = mnist.test_images()\n",
    "test_labels = mnist.test_labels()"
   ]
  },
  {
   "cell_type": "code",
   "execution_count": 8,
   "id": "fc38cf1b",
   "metadata": {
    "execution": {
     "iopub.execute_input": "2022-03-07T10:09:22.613310Z",
     "iopub.status.busy": "2022-03-07T10:09:22.612834Z",
     "iopub.status.idle": "2022-03-07T10:09:22.627054Z",
     "shell.execute_reply": "2022-03-07T10:09:22.626657Z"
    },
    "papermill": {
     "duration": 0.038601,
     "end_time": "2022-03-07T10:09:22.627145",
     "exception": false,
     "start_time": "2022-03-07T10:09:22.588544",
     "status": "completed"
    },
    "tags": []
   },
   "outputs": [
    {
     "data": {
      "text/plain": [
       "((10000, 28, 28), (10000,))"
      ]
     },
     "execution_count": 8,
     "metadata": {},
     "output_type": "execute_result"
    }
   ],
   "source": [
    "test_images.shape, test_labels.shape"
   ]
  },
  {
   "cell_type": "code",
   "execution_count": 9,
   "id": "f9ed8fe0",
   "metadata": {
    "execution": {
     "iopub.execute_input": "2022-03-07T10:09:22.674778Z",
     "iopub.status.busy": "2022-03-07T10:09:22.674312Z",
     "iopub.status.idle": "2022-03-07T10:09:22.795876Z",
     "shell.execute_reply": "2022-03-07T10:09:22.796344Z"
    },
    "papermill": {
     "duration": 0.147374,
     "end_time": "2022-03-07T10:09:22.796493",
     "exception": false,
     "start_time": "2022-03-07T10:09:22.649119",
     "status": "completed"
    },
    "tags": []
   },
   "outputs": [
    {
     "name": "stdout",
     "output_type": "stream",
     "text": [
      "2\n"
     ]
    },
    {
     "data": {
      "text/plain": [
       "<matplotlib.image.AxesImage at 0x7f643fd4d630>"
      ]
     },
     "execution_count": 9,
     "metadata": {},
     "output_type": "execute_result"
    },
    {
     "data": {
      "image/png": "[encoded data removed]",
      "text/plain": [
       "<Figure size 432x288 with 1 Axes>"
      ]
     },
     "metadata": {
      "needs_background": "light"
     },
     "output_type": "display_data"
    }
   ],
   "source": [
    "image_index = 7776 # You may select anything up to 60,000\n",
    "print(train_labels[image_index]) \n",
    "plt.imshow(train_images[image_index], cmap='Greys')"
   ]
  },
  {
   "cell_type": "markdown",
   "id": "a8d2388d",
   "metadata": {
    "papermill": {
     "duration": 0.022976,
     "end_time": "2022-03-07T10:09:22.843604",
     "exception": false,
     "start_time": "2022-03-07T10:09:22.820628",
     "status": "completed"
    },
    "tags": []
   },
   "source": [
    "## Filter data to get 3 and 8 out"
   ]
  },
  {
   "cell_type": "code",
   "execution_count": 10,
   "id": "776f7fc7",
   "metadata": {
    "execution": {
     "iopub.execute_input": "2022-03-07T10:09:22.906385Z",
     "iopub.status.busy": "2022-03-07T10:09:22.902407Z",
     "iopub.status.idle": "2022-03-07T10:09:22.913222Z",
     "shell.execute_reply": "2022-03-07T10:09:22.912863Z"
    },
    "papermill": {
     "duration": 0.046853,
     "end_time": "2022-03-07T10:09:22.913321",
     "exception": false,
     "start_time": "2022-03-07T10:09:22.866468",
     "status": "completed"
    },
    "tags": []
   },
   "outputs": [],
   "source": [
    "train_filter = np.where((train_labels == 3 ) | (train_labels == 8))\n",
    "test_filter = np.where((test_labels == 3) | (test_labels == 8))\n",
    "X_train, y_train = train_images[train_filter], train_labels[train_filter]\n",
    "X_test, y_test = test_images[test_filter], test_labels[test_filter]"
   ]
  },
  {
   "cell_type": "markdown",
   "id": "948f0b7e",
   "metadata": {
    "papermill": {
     "duration": 0.022806,
     "end_time": "2022-03-07T10:09:22.958996",
     "exception": false,
     "start_time": "2022-03-07T10:09:22.936190",
     "status": "completed"
    },
    "tags": []
   },
   "source": [
    "We normalize the pizel values in the 0 to 1 range"
   ]
  },
  {
   "cell_type": "code",
   "execution_count": 11,
   "id": "ee4c2166",
   "metadata": {
    "execution": {
     "iopub.execute_input": "2022-03-07T10:09:23.007512Z",
     "iopub.status.busy": "2022-03-07T10:09:23.007067Z",
     "iopub.status.idle": "2022-03-07T10:09:23.054373Z",
     "shell.execute_reply": "2022-03-07T10:09:23.053855Z"
    },
    "papermill": {
     "duration": 0.072867,
     "end_time": "2022-03-07T10:09:23.054514",
     "exception": false,
     "start_time": "2022-03-07T10:09:22.981647",
     "status": "completed"
    },
    "tags": []
   },
   "outputs": [],
   "source": [
    "X_train = X_train/255.\n",
    "X_test = X_test/255."
   ]
  },
  {
   "cell_type": "markdown",
   "id": "ddcf4fab",
   "metadata": {
    "papermill": {
     "duration": 0.023311,
     "end_time": "2022-03-07T10:09:23.101990",
     "exception": false,
     "start_time": "2022-03-07T10:09:23.078679",
     "status": "completed"
    },
    "tags": []
   },
   "source": [
    "And setup the labels as 1 (when the digit is 3) and 0 (when the digit is 8)"
   ]
  },
  {
   "cell_type": "code",
   "execution_count": 12,
   "id": "7dc908f2",
   "metadata": {
    "execution": {
     "iopub.execute_input": "2022-03-07T10:09:23.151153Z",
     "iopub.status.busy": "2022-03-07T10:09:23.150710Z",
     "iopub.status.idle": "2022-03-07T10:09:23.162642Z",
     "shell.execute_reply": "2022-03-07T10:09:23.162278Z"
    },
    "papermill": {
     "duration": 0.038122,
     "end_time": "2022-03-07T10:09:23.162739",
     "exception": false,
     "start_time": "2022-03-07T10:09:23.124617",
     "status": "completed"
    },
    "tags": []
   },
   "outputs": [],
   "source": [
    "y_train = 1*(y_train==3)\n",
    "y_test = 1*(y_test==3)"
   ]
  },
  {
   "cell_type": "code",
   "execution_count": 13,
   "id": "01e4e969",
   "metadata": {
    "execution": {
     "iopub.execute_input": "2022-03-07T10:09:23.211402Z",
     "iopub.status.busy": "2022-03-07T10:09:23.210956Z",
     "iopub.status.idle": "2022-03-07T10:09:23.223914Z",
     "shell.execute_reply": "2022-03-07T10:09:23.223542Z"
    },
    "papermill": {
     "duration": 0.038557,
     "end_time": "2022-03-07T10:09:23.224009",
     "exception": false,
     "start_time": "2022-03-07T10:09:23.185452",
     "status": "completed"
    },
    "tags": []
   },
   "outputs": [
    {
     "data": {
      "text/plain": [
       "((11982, 28, 28), (1984, 28, 28))"
      ]
     },
     "execution_count": 13,
     "metadata": {},
     "output_type": "execute_result"
    }
   ],
   "source": [
    "X_train.shape, X_test.shape"
   ]
  },
  {
   "cell_type": "markdown",
   "id": "5ccf3f85",
   "metadata": {
    "papermill": {
     "duration": 0.022976,
     "end_time": "2022-03-07T10:09:23.269207",
     "exception": false,
     "start_time": "2022-03-07T10:09:23.246231",
     "status": "completed"
    },
    "tags": []
   },
   "source": [
    "We reshape the data to flatten the image pixels into a set of features or co-variates:"
   ]
  },
  {
   "cell_type": "code",
   "execution_count": 14,
   "id": "5286a4a3",
   "metadata": {
    "execution": {
     "iopub.execute_input": "2022-03-07T10:09:23.330936Z",
     "iopub.status.busy": "2022-03-07T10:09:23.330475Z",
     "iopub.status.idle": "2022-03-07T10:09:23.337230Z",
     "shell.execute_reply": "2022-03-07T10:09:23.336863Z"
    },
    "papermill": {
     "duration": 0.044858,
     "end_time": "2022-03-07T10:09:23.337333",
     "exception": false,
     "start_time": "2022-03-07T10:09:23.292475",
     "status": "completed"
    },
    "tags": []
   },
   "outputs": [
    {
     "data": {
      "text/plain": [
       "((11982, 784), (1984, 784))"
      ]
     },
     "execution_count": 14,
     "metadata": {},
     "output_type": "execute_result"
    }
   ],
   "source": [
    "X_train = X_train.reshape(X_train.shape[0], -1)\n",
    "X_test = X_test.reshape(X_test.shape[0], -1)\n",
    "X_train.shape, X_test.shape"
   ]
  },
  {
   "cell_type": "code",
   "execution_count": 15,
   "id": "73c5f88a",
   "metadata": {
    "execution": {
     "iopub.execute_input": "2022-03-07T10:09:23.386744Z",
     "iopub.status.busy": "2022-03-07T10:09:23.386298Z",
     "iopub.status.idle": "2022-03-07T10:09:23.403125Z",
     "shell.execute_reply": "2022-03-07T10:09:23.402684Z"
    },
    "papermill": {
     "duration": 0.043019,
     "end_time": "2022-03-07T10:09:23.403217",
     "exception": false,
     "start_time": "2022-03-07T10:09:23.360198",
     "status": "completed"
    },
    "tags": []
   },
   "outputs": [],
   "source": [
    "#Impoting functions from 'Kudzu'\n",
    "from kudzu.model import Model\n",
    "from kudzu.train import Learner\n",
    "from kudzu.optim import GD\n",
    "from kudzu.data import Data, Sampler,Dataloader\n",
    "\n",
    "from kudzu.callbacks import AccCallback\n",
    "from kudzu.callbacks import ClfCallback\n",
    "\n",
    "from kudzu.loss import MSE\n",
    "\n",
    "from kudzu.layer import Sigmoid,Relu\n",
    "from kudzu.layer import Affine"
   ]
  },
  {
   "cell_type": "markdown",
   "id": "bc01172a",
   "metadata": {
    "papermill": {
     "duration": 0.022721,
     "end_time": "2022-03-07T10:09:23.449475",
     "exception": false,
     "start_time": "2022-03-07T10:09:23.426754",
     "status": "completed"
    },
    "tags": []
   },
   "source": [
    "### Let us create a `Config` class, to store important parameters. \n",
    "This class essentially plays the role of a dictionary."
   ]
  },
  {
   "cell_type": "code",
   "execution_count": 16,
   "id": "978281aa",
   "metadata": {
    "execution": {
     "iopub.execute_input": "2022-03-07T10:09:23.501981Z",
     "iopub.status.busy": "2022-03-07T10:09:23.501496Z",
     "iopub.status.idle": "2022-03-07T10:09:23.510692Z",
     "shell.execute_reply": "2022-03-07T10:09:23.510299Z"
    },
    "papermill": {
     "duration": 0.038206,
     "end_time": "2022-03-07T10:09:23.510790",
     "exception": false,
     "start_time": "2022-03-07T10:09:23.472584",
     "status": "completed"
    },
    "tags": []
   },
   "outputs": [],
   "source": [
    "class Config:\n",
    "    pass\n",
    "config = Config()\n",
    "config.lr = 0.001\n",
    "config.num_epochs = 250\n",
    "config.bs = 50"
   ]
  },
  {
   "cell_type": "markdown",
   "id": "1385fa59",
   "metadata": {
    "papermill": {
     "duration": 0.023242,
     "end_time": "2022-03-07T10:09:23.557393",
     "exception": false,
     "start_time": "2022-03-07T10:09:23.534151",
     "status": "completed"
    },
    "tags": []
   },
   "source": [
    "### Running Models with the Training data\n",
    "Details about the network layers:\n",
    "- A first affine layer has 784 inputs and does 100 affine transforms. These are followed by a Relu\n",
    "- A second affine layer has 100 inputs from the 100 activations of the past layer, and does 100 affine transforms. These are followed by a Relu\n",
    "- A third affine layer has 100 activations and does 2 affine transformations to create an embedding for visualization. There is no non-linearity here.\n",
    "- A final \"logistic regression\" which has an affine transform from 2 inputs to 1 output, which is squeezed through a sigmoid.\n"
   ]
  },
  {
   "cell_type": "code",
   "execution_count": 17,
   "id": "2b9c66db",
   "metadata": {
    "execution": {
     "iopub.execute_input": "2022-03-07T10:09:23.607553Z",
     "iopub.status.busy": "2022-03-07T10:09:23.607096Z",
     "iopub.status.idle": "2022-03-07T10:09:23.617196Z",
     "shell.execute_reply": "2022-03-07T10:09:23.617579Z"
    },
    "papermill": {
     "duration": 0.037082,
     "end_time": "2022-03-07T10:09:23.617691",
     "exception": false,
     "start_time": "2022-03-07T10:09:23.580609",
     "status": "completed"
    },
    "tags": []
   },
   "outputs": [],
   "source": [
    "data = Data(X_train, y_train.reshape(-1,1))\n",
    "sampler = Sampler(data, config.bs, shuffle=True)\n",
    "\n",
    "dl = Dataloader(data, sampler)\n",
    "\n",
    "opt = GD(config.lr)\n",
    "loss = MSE()"
   ]
  },
  {
   "cell_type": "code",
   "execution_count": 18,
   "id": "b275e4c2",
   "metadata": {
    "execution": {
     "iopub.execute_input": "2022-03-07T10:09:23.667947Z",
     "iopub.status.busy": "2022-03-07T10:09:23.667500Z",
     "iopub.status.idle": "2022-03-07T10:09:23.679400Z",
     "shell.execute_reply": "2022-03-07T10:09:23.679028Z"
    },
    "papermill": {
     "duration": 0.038381,
     "end_time": "2022-03-07T10:09:23.679498",
     "exception": false,
     "start_time": "2022-03-07T10:09:23.641117",
     "status": "completed"
    },
    "tags": []
   },
   "outputs": [],
   "source": [
    "training_data_x = X_train\n",
    "testing_data_x = X_test\n",
    "training_data_y = y_train.reshape(-1,1)\n",
    "testing_data_y = y_test.reshape(-1,1)"
   ]
  },
  {
   "cell_type": "code",
   "execution_count": 19,
   "id": "76951160",
   "metadata": {
    "execution": {
     "iopub.execute_input": "2022-03-07T10:09:23.730523Z",
     "iopub.status.busy": "2022-03-07T10:09:23.730076Z",
     "iopub.status.idle": "2022-03-07T10:09:23.744432Z",
     "shell.execute_reply": "2022-03-07T10:09:23.744056Z"
    },
    "papermill": {
     "duration": 0.04172,
     "end_time": "2022-03-07T10:09:23.744526",
     "exception": false,
     "start_time": "2022-03-07T10:09:23.702806",
     "status": "completed"
    },
    "tags": []
   },
   "outputs": [
    {
     "name": "stdout",
     "output_type": "stream",
     "text": [
      "xavier\n",
      "xavier\n",
      "xavier\n",
      "xavier\n",
      "xavier\n"
     ]
    }
   ],
   "source": [
    "layers = [Affine(\"first\", 784, 100), Relu(\"first\"), Affine(\"second\", 100, 100), Relu(\"second\"), Affine(\"third\", 100, 2), Affine(\"last\", 2, 1), Sigmoid(\"last\")]\n",
    "model_nn = Model(layers)\n",
    "model_lr = Model([Affine(\"logits\", 784, 1), Sigmoid(\"sigmoid\")])"
   ]
  },
  {
   "cell_type": "code",
   "execution_count": 20,
   "id": "6eede77a",
   "metadata": {
    "execution": {
     "iopub.execute_input": "2022-03-07T10:09:23.793304Z",
     "iopub.status.busy": "2022-03-07T10:09:23.792851Z",
     "iopub.status.idle": "2022-03-07T10:09:23.803617Z",
     "shell.execute_reply": "2022-03-07T10:09:23.803257Z"
    },
    "papermill": {
     "duration": 0.036487,
     "end_time": "2022-03-07T10:09:23.803710",
     "exception": false,
     "start_time": "2022-03-07T10:09:23.767223",
     "status": "completed"
    },
    "tags": []
   },
   "outputs": [],
   "source": [
    "nn_learner = Learner(loss, model_nn, opt, config.num_epochs)\n",
    "acc_nn = ClfCallback(nn_learner, config.bs, training_data_x , testing_data_x, training_data_y, testing_data_y)\n",
    "nn_learner.set_callbacks([acc_nn])"
   ]
  },
  {
   "cell_type": "code",
   "execution_count": 21,
   "id": "877b6cc7",
   "metadata": {
    "execution": {
     "iopub.execute_input": "2022-03-07T10:09:23.855783Z",
     "iopub.status.busy": "2022-03-07T10:09:23.855345Z",
     "iopub.status.idle": "2022-03-07T10:09:23.864527Z",
     "shell.execute_reply": "2022-03-07T10:09:23.864163Z"
    },
    "papermill": {
     "duration": 0.037412,
     "end_time": "2022-03-07T10:09:23.864620",
     "exception": false,
     "start_time": "2022-03-07T10:09:23.827208",
     "status": "completed"
    },
    "tags": []
   },
   "outputs": [],
   "source": [
    "lr_learner = Learner(loss, model_lr, opt, config.num_epochs)\n",
    "acc_lr = ClfCallback(lr_learner, config.bs, training_data_x , testing_data_x, training_data_y, testing_data_y)\n",
    "lr_learner.set_callbacks([acc_lr])"
   ]
  },
  {
   "cell_type": "code",
   "execution_count": 22,
   "id": "d9b133c3",
   "metadata": {
    "execution": {
     "iopub.execute_input": "2022-03-07T10:09:23.914533Z",
     "iopub.status.busy": "2022-03-07T10:09:23.914077Z",
     "iopub.status.idle": "2022-03-07T10:10:36.273053Z",
     "shell.execute_reply": "2022-03-07T10:10:36.273734Z"
    },
    "papermill": {
     "duration": 72.386095,
     "end_time": "2022-03-07T10:10:36.273899",
     "exception": false,
     "start_time": "2022-03-07T10:09:23.887804",
     "status": "completed"
    },
    "tags": []
   },
   "outputs": [
    {
     "name": "stdout",
     "output_type": "stream",
     "text": [
      "Epoch 0, Loss 0.2552\n",
      "Training Accuracy: 0.4897, Testing Accuracy: 0.4904\n",
      "\n"
     ]
    },
    {
     "name": "stdout",
     "output_type": "stream",
     "text": [
      "Epoch 10, Loss 0.1807\n",
      "Training Accuracy: 0.8883, Testing Accuracy: 0.9022\n",
      "\n"
     ]
    },
    {
     "name": "stdout",
     "output_type": "stream",
     "text": [
      "Epoch 20, Loss 0.0819\n",
      "Training Accuracy: 0.9311, Testing Accuracy: 0.9441\n",
      "\n"
     ]
    },
    {
     "name": "stdout",
     "output_type": "stream",
     "text": [
      "Epoch 30, Loss 0.0531\n",
      "Training Accuracy: 0.9468, Testing Accuracy: 0.9577\n",
      "\n"
     ]
    },
    {
     "name": "stdout",
     "output_type": "stream",
     "text": [
      "Epoch 40, Loss 0.0428\n",
      "Training Accuracy: 0.9538, Testing Accuracy: 0.9662\n",
      "\n"
     ]
    },
    {
     "name": "stdout",
     "output_type": "stream",
     "text": [
      "Epoch 50, Loss 0.0376\n",
      "Training Accuracy: 0.9569, Testing Accuracy: 0.9672\n",
      "\n"
     ]
    },
    {
     "name": "stdout",
     "output_type": "stream",
     "text": [
      "Epoch 60, Loss 0.0344\n",
      "Training Accuracy: 0.9603, Testing Accuracy: 0.9682\n",
      "\n"
     ]
    },
    {
     "name": "stdout",
     "output_type": "stream",
     "text": [
      "Epoch 70, Loss 0.0321\n",
      "Training Accuracy: 0.9629, Testing Accuracy: 0.9693\n",
      "\n"
     ]
    },
    {
     "name": "stdout",
     "output_type": "stream",
     "text": [
      "Epoch 80, Loss 0.0304\n",
      "Training Accuracy: 0.9646, Testing Accuracy: 0.9693\n",
      "\n"
     ]
    },
    {
     "name": "stdout",
     "output_type": "stream",
     "text": [
      "Epoch 90, Loss 0.029\n",
      "Training Accuracy: 0.9658, Testing Accuracy: 0.9703\n",
      "\n"
     ]
    },
    {
     "name": "stdout",
     "output_type": "stream",
     "text": [
      "Epoch 100, Loss 0.0279\n",
      "Training Accuracy: 0.9667, Testing Accuracy: 0.9718\n",
      "\n"
     ]
    },
    {
     "name": "stdout",
     "output_type": "stream",
     "text": [
      "Epoch 110, Loss 0.0269\n",
      "Training Accuracy: 0.9673, Testing Accuracy: 0.9713\n",
      "\n"
     ]
    },
    {
     "name": "stdout",
     "output_type": "stream",
     "text": [
      "Epoch 120, Loss 0.0261\n",
      "Training Accuracy: 0.9683, Testing Accuracy: 0.9713\n",
      "\n"
     ]
    },
    {
     "name": "stdout",
     "output_type": "stream",
     "text": [
      "Epoch 130, Loss 0.0254\n",
      "Training Accuracy: 0.9690, Testing Accuracy: 0.9708\n",
      "\n"
     ]
    },
    {
     "name": "stdout",
     "output_type": "stream",
     "text": [
      "Epoch 140, Loss 0.0248\n",
      "Training Accuracy: 0.9701, Testing Accuracy: 0.9713\n",
      "\n"
     ]
    },
    {
     "name": "stdout",
     "output_type": "stream",
     "text": [
      "Epoch 150, Loss 0.0242\n",
      "Training Accuracy: 0.9707, Testing Accuracy: 0.9723\n",
      "\n"
     ]
    },
    {
     "name": "stdout",
     "output_type": "stream",
     "text": [
      "Epoch 160, Loss 0.0236\n",
      "Training Accuracy: 0.9710, Testing Accuracy: 0.9728\n",
      "\n"
     ]
    },
    {
     "name": "stdout",
     "output_type": "stream",
     "text": [
      "Epoch 170, Loss 0.0232\n",
      "Training Accuracy: 0.9725, Testing Accuracy: 0.9728\n",
      "\n"
     ]
    },
    {
     "name": "stdout",
     "output_type": "stream",
     "text": [
      "Epoch 180, Loss 0.0227\n",
      "Training Accuracy: 0.9728, Testing Accuracy: 0.9738\n",
      "\n"
     ]
    },
    {
     "name": "stdout",
     "output_type": "stream",
     "text": [
      "Epoch 190, Loss 0.0223\n",
      "Training Accuracy: 0.9735, Testing Accuracy: 0.9748\n",
      "\n"
     ]
    },
    {
     "name": "stdout",
     "output_type": "stream",
     "text": [
      "Epoch 200, Loss 0.0218\n",
      "Training Accuracy: 0.9745, Testing Accuracy: 0.9733\n",
      "\n"
     ]
    },
    {
     "name": "stdout",
     "output_type": "stream",
     "text": [
      "Epoch 210, Loss 0.0215\n",
      "Training Accuracy: 0.9752, Testing Accuracy: 0.9738\n",
      "\n"
     ]
    },
    {
     "name": "stdout",
     "output_type": "stream",
     "text": [
      "Epoch 220, Loss 0.0211\n",
      "Training Accuracy: 0.9759, Testing Accuracy: 0.9738\n",
      "\n"
     ]
    },
    {
     "name": "stdout",
     "output_type": "stream",
     "text": [
      "Epoch 230, Loss 0.0208\n",
      "Training Accuracy: 0.9761, Testing Accuracy: 0.9743\n",
      "\n"
     ]
    },
    {
     "name": "stdout",
     "output_type": "stream",
     "text": [
      "Epoch 240, Loss 0.0204\n",
      "Training Accuracy: 0.9766, Testing Accuracy: 0.9738\n",
      "\n"
     ]
    },
    {
     "data": {
      "text/plain": [
       "0.0580548445708762"
      ]
     },
     "execution_count": 22,
     "metadata": {},
     "output_type": "execute_result"
    }
   ],
   "source": [
    "nn_learner.train_loop(dl)"
   ]
  },
  {
   "cell_type": "code",
   "execution_count": 23,
   "id": "e0163366",
   "metadata": {
    "execution": {
     "iopub.execute_input": "2022-03-07T10:10:36.343243Z",
     "iopub.status.busy": "2022-03-07T10:10:36.342793Z",
     "iopub.status.idle": "2022-03-07T10:10:49.107458Z",
     "shell.execute_reply": "2022-03-07T10:10:49.108131Z"
    },
    "papermill": {
     "duration": 12.803817,
     "end_time": "2022-03-07T10:10:49.108271",
     "exception": false,
     "start_time": "2022-03-07T10:10:36.304454",
     "status": "completed"
    },
    "tags": []
   },
   "outputs": [
    {
     "name": "stdout",
     "output_type": "stream",
     "text": [
      "Epoch 0, Loss 0.2567\n",
      "Training Accuracy: 0.6345, Testing Accuracy: 0.6497\n",
      "\n"
     ]
    },
    {
     "name": "stdout",
     "output_type": "stream",
     "text": [
      "Epoch 10, Loss 0.1058\n",
      "Training Accuracy: 0.9015, Testing Accuracy: 0.9123\n",
      "\n"
     ]
    },
    {
     "name": "stdout",
     "output_type": "stream",
     "text": [
      "Epoch 20, Loss 0.0809\n",
      "Training Accuracy: 0.9234, Testing Accuracy: 0.9345\n",
      "\n"
     ]
    },
    {
     "name": "stdout",
     "output_type": "stream",
     "text": [
      "Epoch 30, Loss 0.0694\n",
      "Training Accuracy: 0.9338, Testing Accuracy: 0.9425\n",
      "\n"
     ]
    },
    {
     "name": "stdout",
     "output_type": "stream",
     "text": [
      "Epoch 40, Loss 0.0625\n",
      "Training Accuracy: 0.9393, Testing Accuracy: 0.9506\n",
      "\n"
     ]
    },
    {
     "name": "stdout",
     "output_type": "stream",
     "text": [
      "Epoch 50, Loss 0.0578\n",
      "Training Accuracy: 0.9431, Testing Accuracy: 0.9531\n",
      "\n"
     ]
    },
    {
     "name": "stdout",
     "output_type": "stream",
     "text": [
      "Epoch 60, Loss 0.0544\n",
      "Training Accuracy: 0.9459, Testing Accuracy: 0.9572\n",
      "\n"
     ]
    },
    {
     "name": "stdout",
     "output_type": "stream",
     "text": [
      "Epoch 70, Loss 0.0517\n",
      "Training Accuracy: 0.9473, Testing Accuracy: 0.9597\n",
      "\n"
     ]
    },
    {
     "name": "stdout",
     "output_type": "stream",
     "text": [
      "Epoch 80, Loss 0.0496\n",
      "Training Accuracy: 0.9488, Testing Accuracy: 0.9592\n",
      "\n"
     ]
    },
    {
     "name": "stdout",
     "output_type": "stream",
     "text": [
      "Epoch 90, Loss 0.0479\n",
      "Training Accuracy: 0.9502, Testing Accuracy: 0.9612\n",
      "\n"
     ]
    },
    {
     "name": "stdout",
     "output_type": "stream",
     "text": [
      "Epoch 100, Loss 0.0464\n",
      "Training Accuracy: 0.9514, Testing Accuracy: 0.9617\n",
      "\n"
     ]
    },
    {
     "name": "stdout",
     "output_type": "stream",
     "text": [
      "Epoch 110, Loss 0.0452\n",
      "Training Accuracy: 0.9528, Testing Accuracy: 0.9632\n",
      "\n"
     ]
    },
    {
     "name": "stdout",
     "output_type": "stream",
     "text": [
      "Epoch 120, Loss 0.0441\n",
      "Training Accuracy: 0.9537, Testing Accuracy: 0.9637\n",
      "\n"
     ]
    },
    {
     "name": "stdout",
     "output_type": "stream",
     "text": [
      "Epoch 130, Loss 0.0431\n",
      "Training Accuracy: 0.9548, Testing Accuracy: 0.9642\n",
      "\n"
     ]
    },
    {
     "name": "stdout",
     "output_type": "stream",
     "text": [
      "Epoch 140, Loss 0.0423\n",
      "Training Accuracy: 0.9559, Testing Accuracy: 0.9647\n",
      "\n"
     ]
    },
    {
     "name": "stdout",
     "output_type": "stream",
     "text": [
      "Epoch 150, Loss 0.0415\n",
      "Training Accuracy: 0.9567, Testing Accuracy: 0.9642\n",
      "\n"
     ]
    },
    {
     "name": "stdout",
     "output_type": "stream",
     "text": [
      "Epoch 160, Loss 0.0408\n",
      "Training Accuracy: 0.9570, Testing Accuracy: 0.9642\n",
      "\n"
     ]
    },
    {
     "name": "stdout",
     "output_type": "stream",
     "text": [
      "Epoch 170, Loss 0.0402\n",
      "Training Accuracy: 0.9579, Testing Accuracy: 0.9642\n",
      "\n"
     ]
    },
    {
     "name": "stdout",
     "output_type": "stream",
     "text": [
      "Epoch 180, Loss 0.0396\n",
      "Training Accuracy: 0.9584, Testing Accuracy: 0.9647\n",
      "\n"
     ]
    },
    {
     "name": "stdout",
     "output_type": "stream",
     "text": [
      "Epoch 190, Loss 0.0391\n",
      "Training Accuracy: 0.9584, Testing Accuracy: 0.9652\n",
      "\n"
     ]
    },
    {
     "name": "stdout",
     "output_type": "stream",
     "text": [
      "Epoch 200, Loss 0.0386\n",
      "Training Accuracy: 0.9589, Testing Accuracy: 0.9652\n",
      "\n"
     ]
    },
    {
     "name": "stdout",
     "output_type": "stream",
     "text": [
      "Epoch 210, Loss 0.0382\n",
      "Training Accuracy: 0.9592, Testing Accuracy: 0.9657\n",
      "\n"
     ]
    },
    {
     "name": "stdout",
     "output_type": "stream",
     "text": [
      "Epoch 220, Loss 0.0377\n",
      "Training Accuracy: 0.9597, Testing Accuracy: 0.9662\n",
      "\n"
     ]
    },
    {
     "name": "stdout",
     "output_type": "stream",
     "text": [
      "Epoch 230, Loss 0.0374\n",
      "Training Accuracy: 0.9601, Testing Accuracy: 0.9662\n",
      "\n"
     ]
    },
    {
     "name": "stdout",
     "output_type": "stream",
     "text": [
      "Epoch 240, Loss 0.037\n",
      "Training Accuracy: 0.9609, Testing Accuracy: 0.9662\n",
      "\n"
     ]
    },
    {
     "data": {
      "text/plain": [
       "0.022606156488209"
      ]
     },
     "execution_count": 23,
     "metadata": {},
     "output_type": "execute_result"
    }
   ],
   "source": [
    "lr_learner.train_loop(dl)"
   ]
  },
  {
   "cell_type": "code",
   "execution_count": 24,
   "id": "ca410940",
   "metadata": {
    "execution": {
     "iopub.execute_input": "2022-03-07T10:10:49.190823Z",
     "iopub.status.busy": "2022-03-07T10:10:49.190393Z",
     "iopub.status.idle": "2022-03-07T10:10:49.376106Z",
     "shell.execute_reply": "2022-03-07T10:10:49.376550Z"
    },
    "papermill": {
     "duration": 0.233167,
     "end_time": "2022-03-07T10:10:49.376709",
     "exception": false,
     "start_time": "2022-03-07T10:10:49.143542",
     "status": "completed"
    },
    "tags": []
   },
   "outputs": [
    {
     "data": {
      "text/plain": [
       "<matplotlib.legend.Legend at 0x7f643f929c88>"
      ]
     },
     "execution_count": 24,
     "metadata": {},
     "output_type": "execute_result"
    },
    {
     "data": {
      "image/png": "[encoded data removed]",
      "text/plain": [
       "<Figure size 1080x720 with 1 Axes>"
      ]
     },
     "metadata": {
      "needs_background": "light"
     },
     "output_type": "display_data"
    }
   ],
   "source": [
    "#comparing the results of NN and LR\n",
    "plt.figure(figsize=(15,10))\n",
    "\n",
    "# Neural Network plots\n",
    "plt.plot(acc_nn.accuracies, 'r-', label = \"Training Accuracies - NN\")\n",
    "plt.plot(acc_nn.test_accuracies, 'g-', label = \"Testing Accuracies - NN\")\n",
    "\n",
    "# Logistic Regression plots\n",
    "plt.plot(acc_lr.accuracies, 'k-', label = \"Training Accuracies - LR\")\n",
    "plt.plot(acc_lr.test_accuracies, 'b-', label = \"Testing Accuracies - LR\")\n",
    "plt.legend()"
   ]
  },
  {
   "cell_type": "markdown",
   "id": "80dfb35c",
   "metadata": {
    "papermill": {
     "duration": 0.035693,
     "end_time": "2022-03-07T10:10:49.450125",
     "exception": false,
     "start_time": "2022-03-07T10:10:49.414432",
     "status": "completed"
    },
    "tags": []
   },
   "source": [
    "#### Plotting the outputs of this layer of the NN.\n"
   ]
  },
  {
   "cell_type": "code",
   "execution_count": 25,
   "id": "45eb2ff5",
   "metadata": {
    "execution": {
     "iopub.execute_input": "2022-03-07T10:10:49.527166Z",
     "iopub.status.busy": "2022-03-07T10:10:49.526704Z",
     "iopub.status.idle": "2022-03-07T10:10:49.546094Z",
     "shell.execute_reply": "2022-03-07T10:10:49.545673Z"
    },
    "papermill": {
     "duration": 0.059743,
     "end_time": "2022-03-07T10:10:49.546205",
     "exception": false,
     "start_time": "2022-03-07T10:10:49.486462",
     "status": "completed"
    },
    "tags": []
   },
   "outputs": [],
   "source": [
    "new_model = Model(layers[:-2])\n",
    "testing_plot = new_model(testing_data_x)"
   ]
  },
  {
   "cell_type": "code",
   "execution_count": 26,
   "id": "4c0a5485",
   "metadata": {
    "execution": {
     "iopub.execute_input": "2022-03-07T10:10:49.626433Z",
     "iopub.status.busy": "2022-03-07T10:10:49.624955Z",
     "iopub.status.idle": "2022-03-07T10:10:49.791842Z",
     "shell.execute_reply": "2022-03-07T10:10:49.791428Z"
    },
    "papermill": {
     "duration": 0.208217,
     "end_time": "2022-03-07T10:10:49.791952",
     "exception": false,
     "start_time": "2022-03-07T10:10:49.583735",
     "status": "completed"
    },
    "tags": []
   },
   "outputs": [
    {
     "data": {
      "text/plain": [
       "Text(0.5, 1.0, 'Outputs')"
      ]
     },
     "execution_count": 26,
     "metadata": {},
     "output_type": "execute_result"
    },
    {
     "data": {
      "image/png": "[encoded data removed]",
      "text/plain": [
       "<Figure size 576x504 with 1 Axes>"
      ]
     },
     "metadata": {
      "needs_background": "light"
     },
     "output_type": "display_data"
    }
   ],
   "source": [
    "# Plotting the scatter plot of points and color coding by class\n",
    "plt.figure(figsize=(8,7))\n",
    "plt.scatter(testing_plot[:,0], testing_plot[:,1], alpha = 0.1, c = y_test.ravel());\n",
    "plt.title('Outputs')"
   ]
  },
  {
   "cell_type": "markdown",
   "id": "a74fcf8f",
   "metadata": {
    "papermill": {
     "duration": 0.037573,
     "end_time": "2022-03-07T10:10:49.867352",
     "exception": false,
     "start_time": "2022-03-07T10:10:49.829779",
     "status": "completed"
    },
    "tags": []
   },
   "source": [
    "Probability contours"
   ]
  },
  {
   "cell_type": "code",
   "execution_count": 27,
   "id": "d0afc8e3",
   "metadata": {
    "execution": {
     "iopub.execute_input": "2022-03-07T10:10:49.947243Z",
     "iopub.status.busy": "2022-03-07T10:10:49.946773Z",
     "iopub.status.idle": "2022-03-07T10:10:49.956976Z",
     "shell.execute_reply": "2022-03-07T10:10:49.957342Z"
    },
    "papermill": {
     "duration": 0.052976,
     "end_time": "2022-03-07T10:10:49.957453",
     "exception": false,
     "start_time": "2022-03-07T10:10:49.904477",
     "status": "completed"
    },
    "tags": []
   },
   "outputs": [],
   "source": [
    "model_prob = Model(layers[-2:]) "
   ]
  },
  {
   "cell_type": "code",
   "execution_count": 28,
   "id": "9b96e238",
   "metadata": {
    "execution": {
     "iopub.execute_input": "2022-03-07T10:10:50.047140Z",
     "iopub.status.busy": "2022-03-07T10:10:50.046266Z",
     "iopub.status.idle": "2022-03-07T10:10:50.055671Z",
     "shell.execute_reply": "2022-03-07T10:10:50.056043Z"
    },
    "papermill": {
     "duration": 0.061523,
     "end_time": "2022-03-07T10:10:50.056157",
     "exception": false,
     "start_time": "2022-03-07T10:10:49.994634",
     "status": "completed"
    },
    "tags": []
   },
   "outputs": [],
   "source": [
    "#creating the x and y ranges according to the above generated plot.\n",
    "x_range = np.linspace(-4, 1, 100) \n",
    "y_range = np.linspace(-6, 6, 100) \n",
    "x_grid, y_grid = np.meshgrid(x_range, y_range) # x_grid and y_grig are of size 100 X 100\n",
    "\n",
    "# converting x_grid and y_grid to continuous arrays\n",
    "x_gridflat = np.ravel(x_grid)\n",
    "y_gridflat = np.ravel(y_grid)\n",
    "\n",
    "# The last layer of the current model takes two columns as input. Hence transpose of np.vstack() is required.\n",
    "X = np.vstack((x_gridflat, y_gridflat)).T\n",
    "\n",
    "prob_contour = model_prob(X).reshape(100,100) "
   ]
  },
  {
   "cell_type": "code",
   "execution_count": 29,
   "id": "da72499a",
   "metadata": {
    "execution": {
     "iopub.execute_input": "2022-03-07T10:10:50.169717Z",
     "iopub.status.busy": "2022-03-07T10:10:50.169231Z",
     "iopub.status.idle": "2022-03-07T10:10:50.379070Z",
     "shell.execute_reply": "2022-03-07T10:10:50.379428Z"
    },
    "papermill": {
     "duration": 0.284699,
     "end_time": "2022-03-07T10:10:50.379559",
     "exception": false,
     "start_time": "2022-03-07T10:10:50.094860",
     "status": "completed"
    },
    "tags": []
   },
   "outputs": [
    {
     "data": {
      "image/png": "[encoded data removed]",
      "text/plain": [
       "<Figure size 720x648 with 1 Axes>"
      ]
     },
     "metadata": {
      "needs_background": "light"
     },
     "output_type": "display_data"
    }
   ],
   "source": [
    "plt.figure(figsize=(10,9))\n",
    "plt.scatter(testing_plot[:,0], testing_plot[:,1], alpha = 0.1, c = y_test.ravel())\n",
    "contours = plt.contour(x_grid,y_grid,prob_contour)\n",
    "plt.title('Probability Contours')\n",
    "plt.clabel(contours, inline = True );"
   ]
  },
  {
   "cell_type": "code",
   "execution_count": null,
   "id": "e81b4ac7",
   "metadata": {
    "papermill": {
     "duration": 0.040039,
     "end_time": "2022-03-07T10:10:50.459886",
     "exception": false,
     "start_time": "2022-03-07T10:10:50.419847",
     "status": "completed"
    },
    "tags": []
   },
   "outputs": [],
   "source": []
  }
 ],
 "metadata": {
  "kernelspec": {
   "display_name": "Python 3",
   "language": "python",
   "name": "python3"
  },
  "language_info": {
   "codemirror_mode": {
    "name": "ipython",
    "version": 3
   },
   "file_extension": ".py",
   "mimetype": "text/x-python",
   "name": "python",
   "nbconvert_exporter": "python",
   "pygments_lexer": "ipython3",
   "version": "3.6.15"
  },
  "papermill": {
   "default_parameters": {},
   "duration": 93.275646,
   "end_time": "2022-03-07T10:10:50.917817",
   "environment_variables": {},
   "exception": null,
   "input_path": "2020-08-11-part2.ipynb",
   "output_path": "2020-08-11-part2.ipynb",
   "parameters": {},
   "start_time": "2022-03-07T10:09:17.642171",
   "version": "2.3.3"
  }
 },
 "nbformat": 4,
 "nbformat_minor": 5
}