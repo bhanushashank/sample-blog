{
 "cells": [
  {
   "cell_type": "markdown",
   "id": "98380cd3",
   "metadata": {
    "papermill": {
     "duration": 0.02896,
     "end_time": "2022-11-12T00:44:27.782642",
     "exception": false,
     "start_time": "2022-11-12T00:44:27.753682",
     "status": "completed"
    },
    "tags": []
   },
   "source": [
    "# Distinguish Your Own Digits (DYOD)"
   ]
  },
  {
   "cell_type": "markdown",
   "id": "ef31240d",
   "metadata": {
    "papermill": {
     "duration": 0.02418,
     "end_time": "2022-11-12T00:44:27.831598",
     "exception": false,
     "start_time": "2022-11-12T00:44:27.807418",
     "status": "completed"
    },
    "tags": []
   },
   "source": [
    "You are going to write a classifier that distinguishes between the number 3 and number 8."
   ]
  },
  {
   "cell_type": "code",
   "execution_count": 1,
   "id": "b15c8646",
   "metadata": {
    "execution": {
     "iopub.execute_input": "2022-11-12T00:44:27.889713Z",
     "iopub.status.busy": "2022-11-12T00:44:27.889133Z",
     "iopub.status.idle": "2022-11-12T00:44:27.899745Z",
     "shell.execute_reply": "2022-11-12T00:44:27.899277Z"
    },
    "papermill": {
     "duration": 0.044305,
     "end_time": "2022-11-12T00:44:27.899884",
     "exception": false,
     "start_time": "2022-11-12T00:44:27.855579",
     "status": "completed"
    },
    "tags": []
   },
   "outputs": [],
   "source": [
    "%load_ext autoreload\n",
    "%autoreload 2"
   ]
  },
  {
   "cell_type": "code",
   "execution_count": 2,
   "id": "22ef38dc",
   "metadata": {
    "execution": {
     "iopub.execute_input": "2022-11-12T00:44:27.952304Z",
     "iopub.status.busy": "2022-11-12T00:44:27.951696Z",
     "iopub.status.idle": "2022-11-12T00:44:28.465345Z",
     "shell.execute_reply": "2022-11-12T00:44:28.465790Z"
    },
    "papermill": {
     "duration": 0.541877,
     "end_time": "2022-11-12T00:44:28.465930",
     "exception": false,
     "start_time": "2022-11-12T00:44:27.924053",
     "status": "completed"
    },
    "tags": []
   },
   "outputs": [],
   "source": [
    "%matplotlib inline\n",
    "import numpy as np\n",
    "import matplotlib.pyplot as plt\n",
    "import pandas as pd"
   ]
  },
  {
   "cell_type": "markdown",
   "id": "ba036198",
   "metadata": {
    "papermill": {
     "duration": 0.024021,
     "end_time": "2022-11-12T00:44:28.514179",
     "exception": false,
     "start_time": "2022-11-12T00:44:28.490158",
     "status": "completed"
    },
    "tags": []
   },
   "source": [
    "From the command line run `pip install mnist`. This is a library that will help you bring down the mnist dataset. If you run this from a notebook, you need to put  `!pip install mnist` in a cell by itself."
   ]
  },
  {
   "cell_type": "code",
   "execution_count": 3,
   "id": "bb6ad8a1",
   "metadata": {
    "execution": {
     "iopub.execute_input": "2022-11-12T00:44:28.566967Z",
     "iopub.status.busy": "2022-11-12T00:44:28.566379Z",
     "iopub.status.idle": "2022-11-12T00:44:30.201535Z",
     "shell.execute_reply": "2022-11-12T00:44:30.201059Z"
    },
    "papermill": {
     "duration": 1.663341,
     "end_time": "2022-11-12T00:44:30.201652",
     "exception": false,
     "start_time": "2022-11-12T00:44:28.538311",
     "status": "completed"
    },
    "tags": []
   },
   "outputs": [
    {
     "name": "stdout",
     "output_type": "stream",
     "text": [
      "Collecting mnist\r\n"
     ]
    },
    {
     "name": "stdout",
     "output_type": "stream",
     "text": [
      "  Downloading mnist-0.2.2-py2.py3-none-any.whl (3.5 kB)\r\n",
      "Requirement already satisfied: numpy in /opt/hostedtoolcache/Python/3.6.15/x64/lib/python3.6/site-packages (from mnist) (1.19.5)\r\n"
     ]
    },
    {
     "name": "stdout",
     "output_type": "stream",
     "text": [
      "Installing collected packages: mnist\r\n",
      "Successfully installed mnist-0.2.2\r\n"
     ]
    }
   ],
   "source": [
    "!pip install mnist"
   ]
  },
  {
   "cell_type": "markdown",
   "id": "69df9c9a",
   "metadata": {
    "papermill": {
     "duration": 0.025045,
     "end_time": "2022-11-12T00:44:30.251897",
     "exception": false,
     "start_time": "2022-11-12T00:44:30.226852",
     "status": "completed"
    },
    "tags": []
   },
   "source": [
    "## Preparing the Data"
   ]
  },
  {
   "cell_type": "code",
   "execution_count": 4,
   "id": "7f69d806",
   "metadata": {
    "execution": {
     "iopub.execute_input": "2022-11-12T00:44:30.305938Z",
     "iopub.status.busy": "2022-11-12T00:44:30.305377Z",
     "iopub.status.idle": "2022-11-12T00:44:30.319128Z",
     "shell.execute_reply": "2022-11-12T00:44:30.318677Z"
    },
    "papermill": {
     "duration": 0.042545,
     "end_time": "2022-11-12T00:44:30.319232",
     "exception": false,
     "start_time": "2022-11-12T00:44:30.276687",
     "status": "completed"
    },
    "tags": []
   },
   "outputs": [],
   "source": [
    "import mnist"
   ]
  },
  {
   "cell_type": "code",
   "execution_count": 5,
   "id": "a411e44f",
   "metadata": {
    "execution": {
     "iopub.execute_input": "2022-11-12T00:44:30.372580Z",
     "iopub.status.busy": "2022-11-12T00:44:30.372024Z",
     "iopub.status.idle": "2022-11-12T00:44:31.300620Z",
     "shell.execute_reply": "2022-11-12T00:44:31.300153Z"
    },
    "papermill": {
     "duration": 0.956729,
     "end_time": "2022-11-12T00:44:31.300736",
     "exception": false,
     "start_time": "2022-11-12T00:44:30.344007",
     "status": "completed"
    },
    "tags": []
   },
   "outputs": [],
   "source": [
    "train_images = mnist.train_images()\n",
    "train_labels = mnist.train_labels()"
   ]
  },
  {
   "cell_type": "code",
   "execution_count": 6,
   "id": "dceab3a5",
   "metadata": {
    "execution": {
     "iopub.execute_input": "2022-11-12T00:44:31.356830Z",
     "iopub.status.busy": "2022-11-12T00:44:31.355425Z",
     "iopub.status.idle": "2022-11-12T00:44:31.369408Z",
     "shell.execute_reply": "2022-11-12T00:44:31.368944Z"
    },
    "papermill": {
     "duration": 0.043774,
     "end_time": "2022-11-12T00:44:31.369517",
     "exception": false,
     "start_time": "2022-11-12T00:44:31.325743",
     "status": "completed"
    },
    "tags": []
   },
   "outputs": [
    {
     "data": {
      "text/plain": [
       "((60000, 28, 28), (60000,))"
      ]
     },
     "execution_count": 6,
     "metadata": {},
     "output_type": "execute_result"
    }
   ],
   "source": [
    "train_images.shape, train_labels.shape"
   ]
  },
  {
   "cell_type": "code",
   "execution_count": 7,
   "id": "f50dc2bb",
   "metadata": {
    "execution": {
     "iopub.execute_input": "2022-11-12T00:44:31.423735Z",
     "iopub.status.busy": "2022-11-12T00:44:31.423154Z",
     "iopub.status.idle": "2022-11-12T00:44:31.705693Z",
     "shell.execute_reply": "2022-11-12T00:44:31.705193Z"
    },
    "papermill": {
     "duration": 0.31111,
     "end_time": "2022-11-12T00:44:31.705810",
     "exception": false,
     "start_time": "2022-11-12T00:44:31.394700",
     "status": "completed"
    },
    "tags": []
   },
   "outputs": [],
   "source": [
    "test_images = mnist.test_images()\n",
    "test_labels = mnist.test_labels()"
   ]
  },
  {
   "cell_type": "code",
   "execution_count": 8,
   "id": "fc38cf1b",
   "metadata": {
    "execution": {
     "iopub.execute_input": "2022-11-12T00:44:31.760725Z",
     "iopub.status.busy": "2022-11-12T00:44:31.760152Z",
     "iopub.status.idle": "2022-11-12T00:44:31.772476Z",
     "shell.execute_reply": "2022-11-12T00:44:31.773007Z"
    },
    "papermill": {
     "duration": 0.041879,
     "end_time": "2022-11-12T00:44:31.773128",
     "exception": false,
     "start_time": "2022-11-12T00:44:31.731249",
     "status": "completed"
    },
    "tags": []
   },
   "outputs": [
    {
     "data": {
      "text/plain": [
       "((10000, 28, 28), (10000,))"
      ]
     },
     "execution_count": 8,
     "metadata": {},
     "output_type": "execute_result"
    }
   ],
   "source": [
    "test_images.shape, test_labels.shape"
   ]
  },
  {
   "cell_type": "code",
   "execution_count": 9,
   "id": "f9ed8fe0",
   "metadata": {
    "execution": {
     "iopub.execute_input": "2022-11-12T00:44:31.828528Z",
     "iopub.status.busy": "2022-11-12T00:44:31.827931Z",
     "iopub.status.idle": "2022-11-12T00:44:31.964669Z",
     "shell.execute_reply": "2022-11-12T00:44:31.964190Z"
    },
    "papermill": {
     "duration": 0.166079,
     "end_time": "2022-11-12T00:44:31.964785",
     "exception": false,
     "start_time": "2022-11-12T00:44:31.798706",
     "status": "completed"
    },
    "tags": []
   },
   "outputs": [
    {
     "name": "stdout",
     "output_type": "stream",
     "text": [
      "2\n"
     ]
    },
    {
     "data": {
      "text/plain": [
       "<matplotlib.image.AxesImage at 0x7f4919857dd8>"
      ]
     },
     "execution_count": 9,
     "metadata": {},
     "output_type": "execute_result"
    },
    {
     "data": {
      "image/png": "[encoded data removed]",
      "text/plain": [
       "<Figure size 432x288 with 1 Axes>"
      ]
     },
     "metadata": {
      "needs_background": "light"
     },
     "output_type": "display_data"
    }
   ],
   "source": [
    "image_index = 7776 # You may select anything up to 60,000\n",
    "print(train_labels[image_index]) \n",
    "plt.imshow(train_images[image_index], cmap='Greys')"
   ]
  },
  {
   "cell_type": "markdown",
   "id": "a8d2388d",
   "metadata": {
    "papermill": {
     "duration": 0.026699,
     "end_time": "2022-11-12T00:44:32.018268",
     "exception": false,
     "start_time": "2022-11-12T00:44:31.991569",
     "status": "completed"
    },
    "tags": []
   },
   "source": [
    "## Filter data to get 3 and 8 out"
   ]
  },
  {
   "cell_type": "code",
   "execution_count": 10,
   "id": "776f7fc7",
   "metadata": {
    "execution": {
     "iopub.execute_input": "2022-11-12T00:44:32.076090Z",
     "iopub.status.busy": "2022-11-12T00:44:32.075480Z",
     "iopub.status.idle": "2022-11-12T00:44:32.092575Z",
     "shell.execute_reply": "2022-11-12T00:44:32.092094Z"
    },
    "papermill": {
     "duration": 0.047882,
     "end_time": "2022-11-12T00:44:32.092683",
     "exception": false,
     "start_time": "2022-11-12T00:44:32.044801",
     "status": "completed"
    },
    "tags": []
   },
   "outputs": [],
   "source": [
    "train_filter = np.where((train_labels == 3 ) | (train_labels == 8))\n",
    "test_filter = np.where((test_labels == 3) | (test_labels == 8))\n",
    "X_train, y_train = train_images[train_filter], train_labels[train_filter]\n",
    "X_test, y_test = test_images[test_filter], test_labels[test_filter]"
   ]
  },
  {
   "cell_type": "markdown",
   "id": "948f0b7e",
   "metadata": {
    "papermill": {
     "duration": 0.026759,
     "end_time": "2022-11-12T00:44:32.146485",
     "exception": false,
     "start_time": "2022-11-12T00:44:32.119726",
     "status": "completed"
    },
    "tags": []
   },
   "source": [
    "We normalize the pizel values in the 0 to 1 range"
   ]
  },
  {
   "cell_type": "code",
   "execution_count": 11,
   "id": "ee4c2166",
   "metadata": {
    "execution": {
     "iopub.execute_input": "2022-11-12T00:44:32.203108Z",
     "iopub.status.busy": "2022-11-12T00:44:32.202549Z",
     "iopub.status.idle": "2022-11-12T00:44:32.243934Z",
     "shell.execute_reply": "2022-11-12T00:44:32.243339Z"
    },
    "papermill": {
     "duration": 0.071052,
     "end_time": "2022-11-12T00:44:32.244048",
     "exception": false,
     "start_time": "2022-11-12T00:44:32.172996",
     "status": "completed"
    },
    "tags": []
   },
   "outputs": [],
   "source": [
    "X_train = X_train/255.\n",
    "X_test = X_test/255."
   ]
  },
  {
   "cell_type": "markdown",
   "id": "ddcf4fab",
   "metadata": {
    "papermill": {
     "duration": 0.026406,
     "end_time": "2022-11-12T00:44:32.297059",
     "exception": false,
     "start_time": "2022-11-12T00:44:32.270653",
     "status": "completed"
    },
    "tags": []
   },
   "source": [
    "And setup the labels as 1 (when the digit is 3) and 0 (when the digit is 8)"
   ]
  },
  {
   "cell_type": "code",
   "execution_count": 12,
   "id": "7dc908f2",
   "metadata": {
    "execution": {
     "iopub.execute_input": "2022-11-12T00:44:32.353585Z",
     "iopub.status.busy": "2022-11-12T00:44:32.353014Z",
     "iopub.status.idle": "2022-11-12T00:44:32.364638Z",
     "shell.execute_reply": "2022-11-12T00:44:32.365058Z"
    },
    "papermill": {
     "duration": 0.041783,
     "end_time": "2022-11-12T00:44:32.365181",
     "exception": false,
     "start_time": "2022-11-12T00:44:32.323398",
     "status": "completed"
    },
    "tags": []
   },
   "outputs": [],
   "source": [
    "y_train = 1*(y_train==3)\n",
    "y_test = 1*(y_test==3)"
   ]
  },
  {
   "cell_type": "code",
   "execution_count": 13,
   "id": "01e4e969",
   "metadata": {
    "execution": {
     "iopub.execute_input": "2022-11-12T00:44:32.422252Z",
     "iopub.status.busy": "2022-11-12T00:44:32.421700Z",
     "iopub.status.idle": "2022-11-12T00:44:32.434320Z",
     "shell.execute_reply": "2022-11-12T00:44:32.434750Z"
    },
    "papermill": {
     "duration": 0.043021,
     "end_time": "2022-11-12T00:44:32.434874",
     "exception": false,
     "start_time": "2022-11-12T00:44:32.391853",
     "status": "completed"
    },
    "tags": []
   },
   "outputs": [
    {
     "data": {
      "text/plain": [
       "((11982, 28, 28), (1984, 28, 28))"
      ]
     },
     "execution_count": 13,
     "metadata": {},
     "output_type": "execute_result"
    }
   ],
   "source": [
    "X_train.shape, X_test.shape"
   ]
  },
  {
   "cell_type": "markdown",
   "id": "5ccf3f85",
   "metadata": {
    "papermill": {
     "duration": 0.026618,
     "end_time": "2022-11-12T00:44:32.488257",
     "exception": false,
     "start_time": "2022-11-12T00:44:32.461639",
     "status": "completed"
    },
    "tags": []
   },
   "source": [
    "We reshape the data to flatten the image pixels into a set of features or co-variates:"
   ]
  },
  {
   "cell_type": "code",
   "execution_count": 14,
   "id": "5286a4a3",
   "metadata": {
    "execution": {
     "iopub.execute_input": "2022-11-12T00:44:32.545564Z",
     "iopub.status.busy": "2022-11-12T00:44:32.545005Z",
     "iopub.status.idle": "2022-11-12T00:44:32.558534Z",
     "shell.execute_reply": "2022-11-12T00:44:32.557960Z"
    },
    "papermill": {
     "duration": 0.043554,
     "end_time": "2022-11-12T00:44:32.558640",
     "exception": false,
     "start_time": "2022-11-12T00:44:32.515086",
     "status": "completed"
    },
    "tags": []
   },
   "outputs": [
    {
     "data": {
      "text/plain": [
       "((11982, 784), (1984, 784))"
      ]
     },
     "execution_count": 14,
     "metadata": {},
     "output_type": "execute_result"
    }
   ],
   "source": [
    "X_train = X_train.reshape(X_train.shape[0], -1)\n",
    "X_test = X_test.reshape(X_test.shape[0], -1)\n",
    "X_train.shape, X_test.shape"
   ]
  },
  {
   "cell_type": "code",
   "execution_count": 15,
   "id": "73c5f88a",
   "metadata": {
    "execution": {
     "iopub.execute_input": "2022-11-12T00:44:32.616616Z",
     "iopub.status.busy": "2022-11-12T00:44:32.616042Z",
     "iopub.status.idle": "2022-11-12T00:44:32.634193Z",
     "shell.execute_reply": "2022-11-12T00:44:32.633725Z"
    },
    "papermill": {
     "duration": 0.048831,
     "end_time": "2022-11-12T00:44:32.634299",
     "exception": false,
     "start_time": "2022-11-12T00:44:32.585468",
     "status": "completed"
    },
    "tags": []
   },
   "outputs": [],
   "source": [
    "#Impoting functions from 'Kudzu'\n",
    "from kudzu.model import Model\n",
    "from kudzu.train import Learner\n",
    "from kudzu.optim import GD\n",
    "from kudzu.data import Data, Sampler,Dataloader\n",
    "\n",
    "from kudzu.callbacks import AccCallback\n",
    "from kudzu.callbacks import ClfCallback\n",
    "\n",
    "from kudzu.loss import MSE\n",
    "\n",
    "from kudzu.layer import Sigmoid,Relu\n",
    "from kudzu.layer import Affine"
   ]
  },
  {
   "cell_type": "markdown",
   "id": "bc01172a",
   "metadata": {
    "papermill": {
     "duration": 0.027305,
     "end_time": "2022-11-12T00:44:32.688732",
     "exception": false,
     "start_time": "2022-11-12T00:44:32.661427",
     "status": "completed"
    },
    "tags": []
   },
   "source": [
    "### Let us create a `Config` class, to store important parameters. \n",
    "This class essentially plays the role of a dictionary."
   ]
  },
  {
   "cell_type": "code",
   "execution_count": 16,
   "id": "978281aa",
   "metadata": {
    "execution": {
     "iopub.execute_input": "2022-11-12T00:44:32.746427Z",
     "iopub.status.busy": "2022-11-12T00:44:32.745848Z",
     "iopub.status.idle": "2022-11-12T00:44:32.757860Z",
     "shell.execute_reply": "2022-11-12T00:44:32.757396Z"
    },
    "papermill": {
     "duration": 0.042307,
     "end_time": "2022-11-12T00:44:32.757966",
     "exception": false,
     "start_time": "2022-11-12T00:44:32.715659",
     "status": "completed"
    },
    "tags": []
   },
   "outputs": [],
   "source": [
    "class Config:\n",
    "    pass\n",
    "config = Config()\n",
    "config.lr = 0.001\n",
    "config.num_epochs = 250\n",
    "config.bs = 50"
   ]
  },
  {
   "cell_type": "markdown",
   "id": "1385fa59",
   "metadata": {
    "papermill": {
     "duration": 0.027081,
     "end_time": "2022-11-12T00:44:32.812065",
     "exception": false,
     "start_time": "2022-11-12T00:44:32.784984",
     "status": "completed"
    },
    "tags": []
   },
   "source": [
    "### Running Models with the Training data\n",
    "Details about the network layers:\n",
    "- A first affine layer has 784 inputs and does 100 affine transforms. These are followed by a Relu\n",
    "- A second affine layer has 100 inputs from the 100 activations of the past layer, and does 100 affine transforms. These are followed by a Relu\n",
    "- A third affine layer has 100 activations and does 2 affine transformations to create an embedding for visualization. There is no non-linearity here.\n",
    "- A final \"logistic regression\" which has an affine transform from 2 inputs to 1 output, which is squeezed through a sigmoid.\n"
   ]
  },
  {
   "cell_type": "code",
   "execution_count": 17,
   "id": "2b9c66db",
   "metadata": {
    "execution": {
     "iopub.execute_input": "2022-11-12T00:44:32.870042Z",
     "iopub.status.busy": "2022-11-12T00:44:32.869471Z",
     "iopub.status.idle": "2022-11-12T00:44:32.881665Z",
     "shell.execute_reply": "2022-11-12T00:44:32.881200Z"
    },
    "papermill": {
     "duration": 0.042806,
     "end_time": "2022-11-12T00:44:32.881771",
     "exception": false,
     "start_time": "2022-11-12T00:44:32.838965",
     "status": "completed"
    },
    "tags": []
   },
   "outputs": [],
   "source": [
    "data = Data(X_train, y_train.reshape(-1,1))\n",
    "sampler = Sampler(data, config.bs, shuffle=True)\n",
    "\n",
    "dl = Dataloader(data, sampler)\n",
    "\n",
    "opt = GD(config.lr)\n",
    "loss = MSE()"
   ]
  },
  {
   "cell_type": "code",
   "execution_count": 18,
   "id": "b275e4c2",
   "metadata": {
    "execution": {
     "iopub.execute_input": "2022-11-12T00:44:32.939904Z",
     "iopub.status.busy": "2022-11-12T00:44:32.939305Z",
     "iopub.status.idle": "2022-11-12T00:44:32.950966Z",
     "shell.execute_reply": "2022-11-12T00:44:32.951381Z"
    },
    "papermill": {
     "duration": 0.04257,
     "end_time": "2022-11-12T00:44:32.951507",
     "exception": false,
     "start_time": "2022-11-12T00:44:32.908937",
     "status": "completed"
    },
    "tags": []
   },
   "outputs": [],
   "source": [
    "training_data_x = X_train\n",
    "testing_data_x = X_test\n",
    "training_data_y = y_train.reshape(-1,1)\n",
    "testing_data_y = y_test.reshape(-1,1)"
   ]
  },
  {
   "cell_type": "code",
   "execution_count": 19,
   "id": "76951160",
   "metadata": {
    "execution": {
     "iopub.execute_input": "2022-11-12T00:44:33.009864Z",
     "iopub.status.busy": "2022-11-12T00:44:33.009300Z",
     "iopub.status.idle": "2022-11-12T00:44:33.025583Z",
     "shell.execute_reply": "2022-11-12T00:44:33.026052Z"
    },
    "papermill": {
     "duration": 0.04763,
     "end_time": "2022-11-12T00:44:33.026180",
     "exception": false,
     "start_time": "2022-11-12T00:44:32.978550",
     "status": "completed"
    },
    "tags": []
   },
   "outputs": [
    {
     "name": "stdout",
     "output_type": "stream",
     "text": [
      "xavier\n",
      "xavier\n",
      "xavier\n",
      "xavier\n",
      "xavier\n"
     ]
    }
   ],
   "source": [
    "layers = [Affine(\"first\", 784, 100), Relu(\"first\"), Affine(\"second\", 100, 100), Relu(\"second\"), Affine(\"third\", 100, 2), Affine(\"last\", 2, 1), Sigmoid(\"last\")]\n",
    "model_nn = Model(layers)\n",
    "model_lr = Model([Affine(\"logits\", 784, 1), Sigmoid(\"sigmoid\")])"
   ]
  },
  {
   "cell_type": "code",
   "execution_count": 20,
   "id": "6eede77a",
   "metadata": {
    "execution": {
     "iopub.execute_input": "2022-11-12T00:44:33.084970Z",
     "iopub.status.busy": "2022-11-12T00:44:33.084407Z",
     "iopub.status.idle": "2022-11-12T00:44:33.095790Z",
     "shell.execute_reply": "2022-11-12T00:44:33.096267Z"
    },
    "papermill": {
     "duration": 0.042834,
     "end_time": "2022-11-12T00:44:33.096389",
     "exception": false,
     "start_time": "2022-11-12T00:44:33.053555",
     "status": "completed"
    },
    "tags": []
   },
   "outputs": [],
   "source": [
    "nn_learner = Learner(loss, model_nn, opt, config.num_epochs)\n",
    "acc_nn = ClfCallback(nn_learner, config.bs, training_data_x , testing_data_x, training_data_y, testing_data_y)\n",
    "nn_learner.set_callbacks([acc_nn])"
   ]
  },
  {
   "cell_type": "code",
   "execution_count": 21,
   "id": "877b6cc7",
   "metadata": {
    "execution": {
     "iopub.execute_input": "2022-11-12T00:44:33.155716Z",
     "iopub.status.busy": "2022-11-12T00:44:33.155142Z",
     "iopub.status.idle": "2022-11-12T00:44:33.166866Z",
     "shell.execute_reply": "2022-11-12T00:44:33.166406Z"
    },
    "papermill": {
     "duration": 0.042808,
     "end_time": "2022-11-12T00:44:33.166974",
     "exception": false,
     "start_time": "2022-11-12T00:44:33.124166",
     "status": "completed"
    },
    "tags": []
   },
   "outputs": [],
   "source": [
    "lr_learner = Learner(loss, model_lr, opt, config.num_epochs)\n",
    "acc_lr = ClfCallback(lr_learner, config.bs, training_data_x , testing_data_x, training_data_y, testing_data_y)\n",
    "lr_learner.set_callbacks([acc_lr])"
   ]
  },
  {
   "cell_type": "code",
   "execution_count": 22,
   "id": "d9b133c3",
   "metadata": {
    "execution": {
     "iopub.execute_input": "2022-11-12T00:44:33.225185Z",
     "iopub.status.busy": "2022-11-12T00:44:33.224625Z",
     "iopub.status.idle": "2022-11-12T00:47:29.916868Z",
     "shell.execute_reply": "2022-11-12T00:47:29.917321Z"
    },
    "papermill": {
     "duration": 176.722961,
     "end_time": "2022-11-12T00:47:29.917452",
     "exception": false,
     "start_time": "2022-11-12T00:44:33.194491",
     "status": "completed"
    },
    "tags": []
   },
   "outputs": [
    {
     "name": "stdout",
     "output_type": "stream",
     "text": [
      "Epoch 0, Loss 0.2407\n",
      "Training Accuracy: 0.6887, Testing Accuracy: 0.6910\n",
      "\n"
     ]
    },
    {
     "name": "stdout",
     "output_type": "stream",
     "text": [
      "Epoch 10, Loss 0.0805\n",
      "Training Accuracy: 0.9253, Testing Accuracy: 0.9274\n",
      "\n"
     ]
    },
    {
     "name": "stdout",
     "output_type": "stream",
     "text": [
      "Epoch 20, Loss 0.0517\n",
      "Training Accuracy: 0.9460, Testing Accuracy: 0.9551\n",
      "\n"
     ]
    },
    {
     "name": "stdout",
     "output_type": "stream",
     "text": [
      "Epoch 30, Loss 0.0418\n",
      "Training Accuracy: 0.9535, Testing Accuracy: 0.9612\n",
      "\n"
     ]
    },
    {
     "name": "stdout",
     "output_type": "stream",
     "text": [
      "Epoch 40, Loss 0.0368\n",
      "Training Accuracy: 0.9585, Testing Accuracy: 0.9642\n",
      "\n"
     ]
    },
    {
     "name": "stdout",
     "output_type": "stream",
     "text": [
      "Epoch 50, Loss 0.0336\n",
      "Training Accuracy: 0.9608, Testing Accuracy: 0.9657\n",
      "\n"
     ]
    },
    {
     "name": "stdout",
     "output_type": "stream",
     "text": [
      "Epoch 60, Loss 0.0314\n",
      "Training Accuracy: 0.9631, Testing Accuracy: 0.9677\n",
      "\n"
     ]
    },
    {
     "name": "stdout",
     "output_type": "stream",
     "text": [
      "Epoch 70, Loss 0.0297\n",
      "Training Accuracy: 0.9644, Testing Accuracy: 0.9688\n",
      "\n"
     ]
    },
    {
     "name": "stdout",
     "output_type": "stream",
     "text": [
      "Epoch 80, Loss 0.0284\n",
      "Training Accuracy: 0.9663, Testing Accuracy: 0.9708\n",
      "\n"
     ]
    },
    {
     "name": "stdout",
     "output_type": "stream",
     "text": [
      "Epoch 90, Loss 0.0273\n",
      "Training Accuracy: 0.9679, Testing Accuracy: 0.9708\n",
      "\n"
     ]
    },
    {
     "name": "stdout",
     "output_type": "stream",
     "text": [
      "Epoch 100, Loss 0.0263\n",
      "Training Accuracy: 0.9685, Testing Accuracy: 0.9708\n",
      "\n"
     ]
    },
    {
     "name": "stdout",
     "output_type": "stream",
     "text": [
      "Epoch 110, Loss 0.0255\n",
      "Training Accuracy: 0.9698, Testing Accuracy: 0.9708\n",
      "\n"
     ]
    },
    {
     "name": "stdout",
     "output_type": "stream",
     "text": [
      "Epoch 120, Loss 0.0248\n",
      "Training Accuracy: 0.9705, Testing Accuracy: 0.9708\n",
      "\n"
     ]
    },
    {
     "name": "stdout",
     "output_type": "stream",
     "text": [
      "Epoch 130, Loss 0.0241\n",
      "Training Accuracy: 0.9717, Testing Accuracy: 0.9708\n",
      "\n"
     ]
    },
    {
     "name": "stdout",
     "output_type": "stream",
     "text": [
      "Epoch 140, Loss 0.0235\n",
      "Training Accuracy: 0.9726, Testing Accuracy: 0.9708\n",
      "\n"
     ]
    },
    {
     "name": "stdout",
     "output_type": "stream",
     "text": [
      "Epoch 150, Loss 0.0229\n",
      "Training Accuracy: 0.9735, Testing Accuracy: 0.9703\n",
      "\n"
     ]
    },
    {
     "name": "stdout",
     "output_type": "stream",
     "text": [
      "Epoch 160, Loss 0.0223\n",
      "Training Accuracy: 0.9742, Testing Accuracy: 0.9708\n",
      "\n"
     ]
    },
    {
     "name": "stdout",
     "output_type": "stream",
     "text": [
      "Epoch 170, Loss 0.0218\n",
      "Training Accuracy: 0.9746, Testing Accuracy: 0.9708\n",
      "\n"
     ]
    },
    {
     "name": "stdout",
     "output_type": "stream",
     "text": [
      "Epoch 180, Loss 0.0213\n",
      "Training Accuracy: 0.9752, Testing Accuracy: 0.9723\n",
      "\n"
     ]
    },
    {
     "name": "stdout",
     "output_type": "stream",
     "text": [
      "Epoch 190, Loss 0.0209\n",
      "Training Accuracy: 0.9760, Testing Accuracy: 0.9728\n",
      "\n"
     ]
    },
    {
     "name": "stdout",
     "output_type": "stream",
     "text": [
      "Epoch 200, Loss 0.0204\n",
      "Training Accuracy: 0.9770, Testing Accuracy: 0.9728\n",
      "\n"
     ]
    },
    {
     "name": "stdout",
     "output_type": "stream",
     "text": [
      "Epoch 210, Loss 0.02\n",
      "Training Accuracy: 0.9775, Testing Accuracy: 0.9733\n",
      "\n"
     ]
    },
    {
     "name": "stdout",
     "output_type": "stream",
     "text": [
      "Epoch 220, Loss 0.0196\n",
      "Training Accuracy: 0.9778, Testing Accuracy: 0.9738\n",
      "\n"
     ]
    },
    {
     "name": "stdout",
     "output_type": "stream",
     "text": [
      "Epoch 230, Loss 0.0191\n",
      "Training Accuracy: 0.9780, Testing Accuracy: 0.9738\n",
      "\n"
     ]
    },
    {
     "name": "stdout",
     "output_type": "stream",
     "text": [
      "Epoch 240, Loss 0.0187\n",
      "Training Accuracy: 0.9789, Testing Accuracy: 0.9743\n",
      "\n"
     ]
    },
    {
     "data": {
      "text/plain": [
       "0.03306786137379729"
      ]
     },
     "execution_count": 22,
     "metadata": {},
     "output_type": "execute_result"
    }
   ],
   "source": [
    "nn_learner.train_loop(dl)"
   ]
  },
  {
   "cell_type": "code",
   "execution_count": 23,
   "id": "e0163366",
   "metadata": {
    "execution": {
     "iopub.execute_input": "2022-11-12T00:47:29.993963Z",
     "iopub.status.busy": "2022-11-12T00:47:29.990866Z",
     "iopub.status.idle": "2022-11-12T00:47:42.219985Z",
     "shell.execute_reply": "2022-11-12T00:47:42.220760Z"
    },
    "papermill": {
     "duration": 12.268903,
     "end_time": "2022-11-12T00:47:42.220895",
     "exception": false,
     "start_time": "2022-11-12T00:47:29.951992",
     "status": "completed"
    },
    "tags": []
   },
   "outputs": [
    {
     "name": "stdout",
     "output_type": "stream",
     "text": [
      "Epoch 0, Loss 0.2352\n",
      "Training Accuracy: 0.7298, Testing Accuracy: 0.7419\n",
      "\n"
     ]
    },
    {
     "name": "stdout",
     "output_type": "stream",
     "text": [
      "Epoch 10, Loss 0.1001\n",
      "Training Accuracy: 0.9135, Testing Accuracy: 0.9234\n",
      "\n"
     ]
    },
    {
     "name": "stdout",
     "output_type": "stream",
     "text": [
      "Epoch 20, Loss 0.0781\n",
      "Training Accuracy: 0.9290, Testing Accuracy: 0.9385\n",
      "\n"
     ]
    },
    {
     "name": "stdout",
     "output_type": "stream",
     "text": [
      "Epoch 30, Loss 0.0678\n",
      "Training Accuracy: 0.9351, Testing Accuracy: 0.9481\n",
      "\n"
     ]
    },
    {
     "name": "stdout",
     "output_type": "stream",
     "text": [
      "Epoch 40, Loss 0.0615\n",
      "Training Accuracy: 0.9401, Testing Accuracy: 0.9526\n",
      "\n"
     ]
    },
    {
     "name": "stdout",
     "output_type": "stream",
     "text": [
      "Epoch 50, Loss 0.0572\n",
      "Training Accuracy: 0.9439, Testing Accuracy: 0.9536\n",
      "\n"
     ]
    },
    {
     "name": "stdout",
     "output_type": "stream",
     "text": [
      "Epoch 60, Loss 0.054\n",
      "Training Accuracy: 0.9468, Testing Accuracy: 0.9561\n",
      "\n"
     ]
    },
    {
     "name": "stdout",
     "output_type": "stream",
     "text": [
      "Epoch 70, Loss 0.0514\n",
      "Training Accuracy: 0.9489, Testing Accuracy: 0.9572\n",
      "\n"
     ]
    },
    {
     "name": "stdout",
     "output_type": "stream",
     "text": [
      "Epoch 80, Loss 0.0494\n",
      "Training Accuracy: 0.9503, Testing Accuracy: 0.9577\n",
      "\n"
     ]
    },
    {
     "name": "stdout",
     "output_type": "stream",
     "text": [
      "Epoch 90, Loss 0.0477\n",
      "Training Accuracy: 0.9513, Testing Accuracy: 0.9587\n",
      "\n"
     ]
    },
    {
     "name": "stdout",
     "output_type": "stream",
     "text": [
      "Epoch 100, Loss 0.0463\n",
      "Training Accuracy: 0.9531, Testing Accuracy: 0.9587\n",
      "\n"
     ]
    },
    {
     "name": "stdout",
     "output_type": "stream",
     "text": [
      "Epoch 110, Loss 0.0451\n",
      "Training Accuracy: 0.9538, Testing Accuracy: 0.9607\n",
      "\n"
     ]
    },
    {
     "name": "stdout",
     "output_type": "stream",
     "text": [
      "Epoch 120, Loss 0.044\n",
      "Training Accuracy: 0.9549, Testing Accuracy: 0.9632\n",
      "\n"
     ]
    },
    {
     "name": "stdout",
     "output_type": "stream",
     "text": [
      "Epoch 130, Loss 0.0431\n",
      "Training Accuracy: 0.9559, Testing Accuracy: 0.9647\n",
      "\n"
     ]
    },
    {
     "name": "stdout",
     "output_type": "stream",
     "text": [
      "Epoch 140, Loss 0.0422\n",
      "Training Accuracy: 0.9563, Testing Accuracy: 0.9647\n",
      "\n"
     ]
    },
    {
     "name": "stdout",
     "output_type": "stream",
     "text": [
      "Epoch 150, Loss 0.0415\n",
      "Training Accuracy: 0.9571, Testing Accuracy: 0.9647\n",
      "\n"
     ]
    },
    {
     "name": "stdout",
     "output_type": "stream",
     "text": [
      "Epoch 160, Loss 0.0408\n",
      "Training Accuracy: 0.9582, Testing Accuracy: 0.9647\n",
      "\n"
     ]
    },
    {
     "name": "stdout",
     "output_type": "stream",
     "text": [
      "Epoch 170, Loss 0.0402\n",
      "Training Accuracy: 0.9589, Testing Accuracy: 0.9652\n",
      "\n"
     ]
    },
    {
     "name": "stdout",
     "output_type": "stream",
     "text": [
      "Epoch 180, Loss 0.0396\n",
      "Training Accuracy: 0.9593, Testing Accuracy: 0.9652\n",
      "\n"
     ]
    },
    {
     "name": "stdout",
     "output_type": "stream",
     "text": [
      "Epoch 190, Loss 0.0391\n",
      "Training Accuracy: 0.9598, Testing Accuracy: 0.9652\n",
      "\n"
     ]
    },
    {
     "name": "stdout",
     "output_type": "stream",
     "text": [
      "Epoch 200, Loss 0.0386\n",
      "Training Accuracy: 0.9603, Testing Accuracy: 0.9647\n",
      "\n"
     ]
    },
    {
     "name": "stdout",
     "output_type": "stream",
     "text": [
      "Epoch 210, Loss 0.0381\n",
      "Training Accuracy: 0.9601, Testing Accuracy: 0.9652\n",
      "\n"
     ]
    },
    {
     "name": "stdout",
     "output_type": "stream",
     "text": [
      "Epoch 220, Loss 0.0377\n",
      "Training Accuracy: 0.9607, Testing Accuracy: 0.9652\n",
      "\n"
     ]
    },
    {
     "name": "stdout",
     "output_type": "stream",
     "text": [
      "Epoch 230, Loss 0.0373\n",
      "Training Accuracy: 0.9614, Testing Accuracy: 0.9662\n",
      "\n"
     ]
    },
    {
     "name": "stdout",
     "output_type": "stream",
     "text": [
      "Epoch 240, Loss 0.037\n",
      "Training Accuracy: 0.9614, Testing Accuracy: 0.9667\n",
      "\n"
     ]
    },
    {
     "data": {
      "text/plain": [
       "0.07603907321469394"
      ]
     },
     "execution_count": 23,
     "metadata": {},
     "output_type": "execute_result"
    }
   ],
   "source": [
    "lr_learner.train_loop(dl)"
   ]
  },
  {
   "cell_type": "code",
   "execution_count": 24,
   "id": "ca410940",
   "metadata": {
    "execution": {
     "iopub.execute_input": "2022-11-12T00:47:42.311604Z",
     "iopub.status.busy": "2022-11-12T00:47:42.311014Z",
     "iopub.status.idle": "2022-11-12T00:47:42.536025Z",
     "shell.execute_reply": "2022-11-12T00:47:42.536467Z"
    },
    "papermill": {
     "duration": 0.273798,
     "end_time": "2022-11-12T00:47:42.536595",
     "exception": false,
     "start_time": "2022-11-12T00:47:42.262797",
     "status": "completed"
    },
    "tags": []
   },
   "outputs": [
    {
     "data": {
      "text/plain": [
       "<matplotlib.legend.Legend at 0x7f49193c25c0>"
      ]
     },
     "execution_count": 24,
     "metadata": {},
     "output_type": "execute_result"
    },
    {
     "data": {
      "image/png": "[encoded data removed]",
      "text/plain": [
       "<Figure size 1080x720 with 1 Axes>"
      ]
     },
     "metadata": {
      "needs_background": "light"
     },
     "output_type": "display_data"
    }
   ],
   "source": [
    "#comparing the results of NN and LR\n",
    "plt.figure(figsize=(15,10))\n",
    "\n",
    "# Neural Network plots\n",
    "plt.plot(acc_nn.accuracies, 'r-', label = \"Training Accuracies - NN\")\n",
    "plt.plot(acc_nn.test_accuracies, 'g-', label = \"Testing Accuracies - NN\")\n",
    "\n",
    "# Logistic Regression plots\n",
    "plt.plot(acc_lr.accuracies, 'k-', label = \"Training Accuracies - LR\")\n",
    "plt.plot(acc_lr.test_accuracies, 'b-', label = \"Testing Accuracies - LR\")\n",
    "plt.legend()"
   ]
  },
  {
   "cell_type": "markdown",
   "id": "80dfb35c",
   "metadata": {
    "papermill": {
     "duration": 0.042191,
     "end_time": "2022-11-12T00:47:42.621286",
     "exception": false,
     "start_time": "2022-11-12T00:47:42.579095",
     "status": "completed"
    },
    "tags": []
   },
   "source": [
    "#### Plotting the outputs of this layer of the NN.\n"
   ]
  },
  {
   "cell_type": "code",
   "execution_count": 25,
   "id": "45eb2ff5",
   "metadata": {
    "execution": {
     "iopub.execute_input": "2022-11-12T00:47:42.711682Z",
     "iopub.status.busy": "2022-11-12T00:47:42.710310Z",
     "iopub.status.idle": "2022-11-12T00:47:42.745506Z",
     "shell.execute_reply": "2022-11-12T00:47:42.746329Z"
    },
    "papermill": {
     "duration": 0.08295,
     "end_time": "2022-11-12T00:47:42.746477",
     "exception": false,
     "start_time": "2022-11-12T00:47:42.663527",
     "status": "completed"
    },
    "tags": []
   },
   "outputs": [],
   "source": [
    "new_model = Model(layers[:-2])\n",
    "testing_plot = new_model(testing_data_x)"
   ]
  },
  {
   "cell_type": "code",
   "execution_count": 26,
   "id": "4c0a5485",
   "metadata": {
    "execution": {
     "iopub.execute_input": "2022-11-12T00:47:42.839886Z",
     "iopub.status.busy": "2022-11-12T00:47:42.839309Z",
     "iopub.status.idle": "2022-11-12T00:47:43.013529Z",
     "shell.execute_reply": "2022-11-12T00:47:43.012939Z"
    },
    "papermill": {
     "duration": 0.224149,
     "end_time": "2022-11-12T00:47:43.013640",
     "exception": false,
     "start_time": "2022-11-12T00:47:42.789491",
     "status": "completed"
    },
    "tags": []
   },
   "outputs": [
    {
     "data": {
      "text/plain": [
       "Text(0.5, 1.0, 'Outputs')"
      ]
     },
     "execution_count": 26,
     "metadata": {},
     "output_type": "execute_result"
    },
    {
     "data": {
      "image/png": "[encoded data removed]",
      "text/plain": [
       "<Figure size 576x504 with 1 Axes>"
      ]
     },
     "metadata": {
      "needs_background": "light"
     },
     "output_type": "display_data"
    }
   ],
   "source": [
    "# Plotting the scatter plot of points and color coding by class\n",
    "plt.figure(figsize=(8,7))\n",
    "plt.scatter(testing_plot[:,0], testing_plot[:,1], alpha = 0.1, c = y_test.ravel());\n",
    "plt.title('Outputs')"
   ]
  },
  {
   "cell_type": "markdown",
   "id": "a74fcf8f",
   "metadata": {
    "papermill": {
     "duration": 0.044133,
     "end_time": "2022-11-12T00:47:43.102097",
     "exception": false,
     "start_time": "2022-11-12T00:47:43.057964",
     "status": "completed"
    },
    "tags": []
   },
   "source": [
    "Probability contours"
   ]
  },
  {
   "cell_type": "code",
   "execution_count": 27,
   "id": "d0afc8e3",
   "metadata": {
    "execution": {
     "iopub.execute_input": "2022-11-12T00:47:43.220638Z",
     "iopub.status.busy": "2022-11-12T00:47:43.216564Z",
     "iopub.status.idle": "2022-11-12T00:47:43.228295Z",
     "shell.execute_reply": "2022-11-12T00:47:43.227830Z"
    },
    "papermill": {
     "duration": 0.082012,
     "end_time": "2022-11-12T00:47:43.228399",
     "exception": false,
     "start_time": "2022-11-12T00:47:43.146387",
     "status": "completed"
    },
    "tags": []
   },
   "outputs": [],
   "source": [
    "model_prob = Model(layers[-2:]) "
   ]
  },
  {
   "cell_type": "code",
   "execution_count": 28,
   "id": "9b96e238",
   "metadata": {
    "execution": {
     "iopub.execute_input": "2022-11-12T00:47:43.320924Z",
     "iopub.status.busy": "2022-11-12T00:47:43.320356Z",
     "iopub.status.idle": "2022-11-12T00:47:43.333014Z",
     "shell.execute_reply": "2022-11-12T00:47:43.333462Z"
    },
    "papermill": {
     "duration": 0.06119,
     "end_time": "2022-11-12T00:47:43.333593",
     "exception": false,
     "start_time": "2022-11-12T00:47:43.272403",
     "status": "completed"
    },
    "tags": []
   },
   "outputs": [],
   "source": [
    "#creating the x and y ranges according to the above generated plot.\n",
    "x_range = np.linspace(-4, 1, 100) \n",
    "y_range = np.linspace(-6, 6, 100) \n",
    "x_grid, y_grid = np.meshgrid(x_range, y_range) # x_grid and y_grig are of size 100 X 100\n",
    "\n",
    "# converting x_grid and y_grid to continuous arrays\n",
    "x_gridflat = np.ravel(x_grid)\n",
    "y_gridflat = np.ravel(y_grid)\n",
    "\n",
    "# The last layer of the current model takes two columns as input. Hence transpose of np.vstack() is required.\n",
    "X = np.vstack((x_gridflat, y_gridflat)).T\n",
    "\n",
    "prob_contour = model_prob(X).reshape(100,100) "
   ]
  },
  {
   "cell_type": "code",
   "execution_count": 29,
   "id": "da72499a",
   "metadata": {
    "execution": {
     "iopub.execute_input": "2022-11-12T00:47:43.426980Z",
     "iopub.status.busy": "2022-11-12T00:47:43.426443Z",
     "iopub.status.idle": "2022-11-12T00:47:43.664026Z",
     "shell.execute_reply": "2022-11-12T00:47:43.664487Z"
    },
    "papermill": {
     "duration": 0.286658,
     "end_time": "2022-11-12T00:47:43.664617",
     "exception": false,
     "start_time": "2022-11-12T00:47:43.377959",
     "status": "completed"
    },
    "tags": []
   },
   "outputs": [
    {
     "data": {
      "image/png": "[encoded data removed]",
      "text/plain": [
       "<Figure size 720x648 with 1 Axes>"
      ]
     },
     "metadata": {
      "needs_background": "light"
     },
     "output_type": "display_data"
    }
   ],
   "source": [
    "plt.figure(figsize=(10,9))\n",
    "plt.scatter(testing_plot[:,0], testing_plot[:,1], alpha = 0.1, c = y_test.ravel())\n",
    "contours = plt.contour(x_grid,y_grid,prob_contour)\n",
    "plt.title('Probability Contours')\n",
    "plt.clabel(contours, inline = True );"
   ]
  },
  {
   "cell_type": "code",
   "execution_count": null,
   "id": "e81b4ac7",
   "metadata": {
    "papermill": {
     "duration": 0.04656,
     "end_time": "2022-11-12T00:47:43.758361",
     "exception": false,
     "start_time": "2022-11-12T00:47:43.711801",
     "status": "completed"
    },
    "tags": []
   },
   "outputs": [],
   "source": []
  }
 ],
 "metadata": {
  "kernelspec": {
   "display_name": "Python 3",
   "language": "python",
   "name": "python3"
  },
  "language_info": {
   "codemirror_mode": {
    "name": "ipython",
    "version": 3
   },
   "file_extension": ".py",
   "mimetype": "text/x-python",
   "name": "python",
   "nbconvert_exporter": "python",
   "pygments_lexer": "ipython3",
   "version": "3.6.15"
  },
  "papermill": {
   "default_parameters": {},
   "duration": 197.298803,
   "end_time": "2022-11-12T00:47:44.122877",
   "environment_variables": {},
   "exception": null,
   "input_path": "2020-08-11-part2.ipynb",
   "output_path": "2020-08-11-part2.ipynb",
   "parameters": {},
   "start_time": "2022-11-12T00:44:26.824074",
   "version": "2.3.3"
  }
 },
 "nbformat": 4,
 "nbformat_minor": 5
}