{
 "cells": [
  {
   "cell_type": "markdown",
   "id": "98380cd3",
   "metadata": {
    "papermill": {
     "duration": 0.035641,
     "end_time": "2022-06-03T20:10:18.670984",
     "exception": false,
     "start_time": "2022-06-03T20:10:18.635343",
     "status": "completed"
    },
    "tags": []
   },
   "source": [
    "# Distinguish Your Own Digits (DYOD)"
   ]
  },
  {
   "cell_type": "markdown",
   "id": "ef31240d",
   "metadata": {
    "papermill": {
     "duration": 0.026649,
     "end_time": "2022-06-03T20:10:18.725193",
     "exception": false,
     "start_time": "2022-06-03T20:10:18.698544",
     "status": "completed"
    },
    "tags": []
   },
   "source": [
    "You are going to write a classifier that distinguishes between the number 3 and number 8."
   ]
  },
  {
   "cell_type": "code",
   "execution_count": 1,
   "id": "b15c8646",
   "metadata": {
    "execution": {
     "iopub.execute_input": "2022-06-03T20:10:18.791827Z",
     "iopub.status.busy": "2022-06-03T20:10:18.791119Z",
     "iopub.status.idle": "2022-06-03T20:10:18.803718Z",
     "shell.execute_reply": "2022-06-03T20:10:18.803019Z"
    },
    "papermill": {
     "duration": 0.051944,
     "end_time": "2022-06-03T20:10:18.803865",
     "exception": false,
     "start_time": "2022-06-03T20:10:18.751921",
     "status": "completed"
    },
    "tags": []
   },
   "outputs": [],
   "source": [
    "%load_ext autoreload\n",
    "%autoreload 2"
   ]
  },
  {
   "cell_type": "code",
   "execution_count": 2,
   "id": "22ef38dc",
   "metadata": {
    "execution": {
     "iopub.execute_input": "2022-06-03T20:10:18.863907Z",
     "iopub.status.busy": "2022-06-03T20:10:18.863194Z",
     "iopub.status.idle": "2022-06-03T20:10:19.503467Z",
     "shell.execute_reply": "2022-06-03T20:10:19.502845Z"
    },
    "papermill": {
     "duration": 0.672974,
     "end_time": "2022-06-03T20:10:19.503605",
     "exception": false,
     "start_time": "2022-06-03T20:10:18.830631",
     "status": "completed"
    },
    "tags": []
   },
   "outputs": [],
   "source": [
    "%matplotlib inline\n",
    "import numpy as np\n",
    "import matplotlib.pyplot as plt\n",
    "import pandas as pd"
   ]
  },
  {
   "cell_type": "markdown",
   "id": "ba036198",
   "metadata": {
    "papermill": {
     "duration": 0.026979,
     "end_time": "2022-06-03T20:10:19.557548",
     "exception": false,
     "start_time": "2022-06-03T20:10:19.530569",
     "status": "completed"
    },
    "tags": []
   },
   "source": [
    "From the command line run `pip install mnist`. This is a library that will help you bring down the mnist dataset. If you run this from a notebook, you need to put  `!pip install mnist` in a cell by itself."
   ]
  },
  {
   "cell_type": "code",
   "execution_count": 3,
   "id": "bb6ad8a1",
   "metadata": {
    "execution": {
     "iopub.execute_input": "2022-06-03T20:10:19.620298Z",
     "iopub.status.busy": "2022-06-03T20:10:19.618125Z",
     "iopub.status.idle": "2022-06-03T20:10:22.340999Z",
     "shell.execute_reply": "2022-06-03T20:10:22.340312Z"
    },
    "papermill": {
     "duration": 2.756923,
     "end_time": "2022-06-03T20:10:22.341147",
     "exception": false,
     "start_time": "2022-06-03T20:10:19.584224",
     "status": "completed"
    },
    "tags": []
   },
   "outputs": [
    {
     "name": "stdout",
     "output_type": "stream",
     "text": [
      "Collecting mnist\r\n"
     ]
    },
    {
     "name": "stdout",
     "output_type": "stream",
     "text": [
      "  Downloading mnist-0.2.2-py2.py3-none-any.whl (3.5 kB)\r\n",
      "Requirement already satisfied: numpy in /opt/hostedtoolcache/Python/3.6.15/x64/lib/python3.6/site-packages (from mnist) (1.19.5)\r\n"
     ]
    },
    {
     "name": "stdout",
     "output_type": "stream",
     "text": [
      "Installing collected packages: mnist\r\n"
     ]
    },
    {
     "name": "stdout",
     "output_type": "stream",
     "text": [
      "Successfully installed mnist-0.2.2\r\n"
     ]
    }
   ],
   "source": [
    "!pip install mnist"
   ]
  },
  {
   "cell_type": "markdown",
   "id": "69df9c9a",
   "metadata": {
    "papermill": {
     "duration": 0.028408,
     "end_time": "2022-06-03T20:10:22.397797",
     "exception": false,
     "start_time": "2022-06-03T20:10:22.369389",
     "status": "completed"
    },
    "tags": []
   },
   "source": [
    "## Preparing the Data"
   ]
  },
  {
   "cell_type": "code",
   "execution_count": 4,
   "id": "7f69d806",
   "metadata": {
    "execution": {
     "iopub.execute_input": "2022-06-03T20:10:22.468020Z",
     "iopub.status.busy": "2022-06-03T20:10:22.458483Z",
     "iopub.status.idle": "2022-06-03T20:10:22.478632Z",
     "shell.execute_reply": "2022-06-03T20:10:22.479171Z"
    },
    "papermill": {
     "duration": 0.053524,
     "end_time": "2022-06-03T20:10:22.479330",
     "exception": false,
     "start_time": "2022-06-03T20:10:22.425806",
     "status": "completed"
    },
    "tags": []
   },
   "outputs": [],
   "source": [
    "import mnist"
   ]
  },
  {
   "cell_type": "code",
   "execution_count": 5,
   "id": "a411e44f",
   "metadata": {
    "execution": {
     "iopub.execute_input": "2022-06-03T20:10:22.549681Z",
     "iopub.status.busy": "2022-06-03T20:10:22.541476Z",
     "iopub.status.idle": "2022-06-03T20:10:23.119423Z",
     "shell.execute_reply": "2022-06-03T20:10:23.118765Z"
    },
    "papermill": {
     "duration": 0.611986,
     "end_time": "2022-06-03T20:10:23.119570",
     "exception": false,
     "start_time": "2022-06-03T20:10:22.507584",
     "status": "completed"
    },
    "tags": []
   },
   "outputs": [],
   "source": [
    "train_images = mnist.train_images()\n",
    "train_labels = mnist.train_labels()"
   ]
  },
  {
   "cell_type": "code",
   "execution_count": 6,
   "id": "dceab3a5",
   "metadata": {
    "execution": {
     "iopub.execute_input": "2022-06-03T20:10:23.183581Z",
     "iopub.status.busy": "2022-06-03T20:10:23.181565Z",
     "iopub.status.idle": "2022-06-03T20:10:23.199114Z",
     "shell.execute_reply": "2022-06-03T20:10:23.198528Z"
    },
    "papermill": {
     "duration": 0.050683,
     "end_time": "2022-06-03T20:10:23.199253",
     "exception": false,
     "start_time": "2022-06-03T20:10:23.148570",
     "status": "completed"
    },
    "tags": []
   },
   "outputs": [
    {
     "data": {
      "text/plain": [
       "((60000, 28, 28), (60000,))"
      ]
     },
     "execution_count": 6,
     "metadata": {},
     "output_type": "execute_result"
    }
   ],
   "source": [
    "train_images.shape, train_labels.shape"
   ]
  },
  {
   "cell_type": "code",
   "execution_count": 7,
   "id": "f50dc2bb",
   "metadata": {
    "execution": {
     "iopub.execute_input": "2022-06-03T20:10:23.266284Z",
     "iopub.status.busy": "2022-06-03T20:10:23.265568Z",
     "iopub.status.idle": "2022-06-03T20:10:23.396960Z",
     "shell.execute_reply": "2022-06-03T20:10:23.395917Z"
    },
    "papermill": {
     "duration": 0.169176,
     "end_time": "2022-06-03T20:10:23.397195",
     "exception": false,
     "start_time": "2022-06-03T20:10:23.228019",
     "status": "completed"
    },
    "tags": []
   },
   "outputs": [],
   "source": [
    "test_images = mnist.test_images()\n",
    "test_labels = mnist.test_labels()"
   ]
  },
  {
   "cell_type": "code",
   "execution_count": 8,
   "id": "fc38cf1b",
   "metadata": {
    "execution": {
     "iopub.execute_input": "2022-06-03T20:10:23.459792Z",
     "iopub.status.busy": "2022-06-03T20:10:23.459072Z",
     "iopub.status.idle": "2022-06-03T20:10:23.482316Z",
     "shell.execute_reply": "2022-06-03T20:10:23.482811Z"
    },
    "papermill": {
     "duration": 0.056223,
     "end_time": "2022-06-03T20:10:23.482971",
     "exception": false,
     "start_time": "2022-06-03T20:10:23.426748",
     "status": "completed"
    },
    "tags": []
   },
   "outputs": [
    {
     "data": {
      "text/plain": [
       "((10000, 28, 28), (10000,))"
      ]
     },
     "execution_count": 8,
     "metadata": {},
     "output_type": "execute_result"
    }
   ],
   "source": [
    "test_images.shape, test_labels.shape"
   ]
  },
  {
   "cell_type": "code",
   "execution_count": 9,
   "id": "f9ed8fe0",
   "metadata": {
    "execution": {
     "iopub.execute_input": "2022-06-03T20:10:23.550957Z",
     "iopub.status.busy": "2022-06-03T20:10:23.550223Z",
     "iopub.status.idle": "2022-06-03T20:10:23.712946Z",
     "shell.execute_reply": "2022-06-03T20:10:23.712232Z"
    },
    "papermill": {
     "duration": 0.201364,
     "end_time": "2022-06-03T20:10:23.713091",
     "exception": false,
     "start_time": "2022-06-03T20:10:23.511727",
     "status": "completed"
    },
    "tags": []
   },
   "outputs": [
    {
     "name": "stdout",
     "output_type": "stream",
     "text": [
      "2\n"
     ]
    },
    {
     "data": {
      "text/plain": [
       "<matplotlib.image.AxesImage at 0x7fda759113c8>"
      ]
     },
     "execution_count": 9,
     "metadata": {},
     "output_type": "execute_result"
    },
    {
     "data": {
      "image/png": "[encoded data removed]",
      "text/plain": [
       "<Figure size 432x288 with 1 Axes>"
      ]
     },
     "metadata": {
      "needs_background": "light"
     },
     "output_type": "display_data"
    }
   ],
   "source": [
    "image_index = 7776 # You may select anything up to 60,000\n",
    "print(train_labels[image_index]) \n",
    "plt.imshow(train_images[image_index], cmap='Greys')"
   ]
  },
  {
   "cell_type": "markdown",
   "id": "a8d2388d",
   "metadata": {
    "papermill": {
     "duration": 0.029935,
     "end_time": "2022-06-03T20:10:23.773054",
     "exception": false,
     "start_time": "2022-06-03T20:10:23.743119",
     "status": "completed"
    },
    "tags": []
   },
   "source": [
    "## Filter data to get 3 and 8 out"
   ]
  },
  {
   "cell_type": "code",
   "execution_count": 10,
   "id": "776f7fc7",
   "metadata": {
    "execution": {
     "iopub.execute_input": "2022-06-03T20:10:23.839399Z",
     "iopub.status.busy": "2022-06-03T20:10:23.838656Z",
     "iopub.status.idle": "2022-06-03T20:10:23.859833Z",
     "shell.execute_reply": "2022-06-03T20:10:23.859237Z"
    },
    "papermill": {
     "duration": 0.05702,
     "end_time": "2022-06-03T20:10:23.859988",
     "exception": false,
     "start_time": "2022-06-03T20:10:23.802968",
     "status": "completed"
    },
    "tags": []
   },
   "outputs": [],
   "source": [
    "train_filter = np.where((train_labels == 3 ) | (train_labels == 8))\n",
    "test_filter = np.where((test_labels == 3) | (test_labels == 8))\n",
    "X_train, y_train = train_images[train_filter], train_labels[train_filter]\n",
    "X_test, y_test = test_images[test_filter], test_labels[test_filter]"
   ]
  },
  {
   "cell_type": "markdown",
   "id": "948f0b7e",
   "metadata": {
    "papermill": {
     "duration": 0.030019,
     "end_time": "2022-06-03T20:10:23.920076",
     "exception": false,
     "start_time": "2022-06-03T20:10:23.890057",
     "status": "completed"
    },
    "tags": []
   },
   "source": [
    "We normalize the pizel values in the 0 to 1 range"
   ]
  },
  {
   "cell_type": "code",
   "execution_count": 11,
   "id": "ee4c2166",
   "metadata": {
    "execution": {
     "iopub.execute_input": "2022-06-03T20:10:23.984020Z",
     "iopub.status.busy": "2022-06-03T20:10:23.983328Z",
     "iopub.status.idle": "2022-06-03T20:10:24.038695Z",
     "shell.execute_reply": "2022-06-03T20:10:24.038035Z"
    },
    "papermill": {
     "duration": 0.089006,
     "end_time": "2022-06-03T20:10:24.038836",
     "exception": false,
     "start_time": "2022-06-03T20:10:23.949830",
     "status": "completed"
    },
    "tags": []
   },
   "outputs": [],
   "source": [
    "X_train = X_train/255.\n",
    "X_test = X_test/255."
   ]
  },
  {
   "cell_type": "markdown",
   "id": "ddcf4fab",
   "metadata": {
    "papermill": {
     "duration": 0.029537,
     "end_time": "2022-06-03T20:10:24.098372",
     "exception": false,
     "start_time": "2022-06-03T20:10:24.068835",
     "status": "completed"
    },
    "tags": []
   },
   "source": [
    "And setup the labels as 1 (when the digit is 3) and 0 (when the digit is 8)"
   ]
  },
  {
   "cell_type": "code",
   "execution_count": 12,
   "id": "7dc908f2",
   "metadata": {
    "execution": {
     "iopub.execute_input": "2022-06-03T20:10:24.162928Z",
     "iopub.status.busy": "2022-06-03T20:10:24.162237Z",
     "iopub.status.idle": "2022-06-03T20:10:24.182228Z",
     "shell.execute_reply": "2022-06-03T20:10:24.181635Z"
    },
    "papermill": {
     "duration": 0.054457,
     "end_time": "2022-06-03T20:10:24.182363",
     "exception": false,
     "start_time": "2022-06-03T20:10:24.127906",
     "status": "completed"
    },
    "tags": []
   },
   "outputs": [],
   "source": [
    "y_train = 1*(y_train==3)\n",
    "y_test = 1*(y_test==3)"
   ]
  },
  {
   "cell_type": "code",
   "execution_count": 13,
   "id": "01e4e969",
   "metadata": {
    "execution": {
     "iopub.execute_input": "2022-06-03T20:10:24.247518Z",
     "iopub.status.busy": "2022-06-03T20:10:24.246818Z",
     "iopub.status.idle": "2022-06-03T20:10:24.265272Z",
     "shell.execute_reply": "2022-06-03T20:10:24.264689Z"
    },
    "papermill": {
     "duration": 0.052959,
     "end_time": "2022-06-03T20:10:24.265408",
     "exception": false,
     "start_time": "2022-06-03T20:10:24.212449",
     "status": "completed"
    },
    "tags": []
   },
   "outputs": [
    {
     "data": {
      "text/plain": [
       "((11982, 28, 28), (1984, 28, 28))"
      ]
     },
     "execution_count": 13,
     "metadata": {},
     "output_type": "execute_result"
    }
   ],
   "source": [
    "X_train.shape, X_test.shape"
   ]
  },
  {
   "cell_type": "markdown",
   "id": "5ccf3f85",
   "metadata": {
    "papermill": {
     "duration": 0.029908,
     "end_time": "2022-06-03T20:10:24.325136",
     "exception": false,
     "start_time": "2022-06-03T20:10:24.295228",
     "status": "completed"
    },
    "tags": []
   },
   "source": [
    "We reshape the data to flatten the image pixels into a set of features or co-variates:"
   ]
  },
  {
   "cell_type": "code",
   "execution_count": 14,
   "id": "5286a4a3",
   "metadata": {
    "execution": {
     "iopub.execute_input": "2022-06-03T20:10:24.392406Z",
     "iopub.status.busy": "2022-06-03T20:10:24.391721Z",
     "iopub.status.idle": "2022-06-03T20:10:24.407710Z",
     "shell.execute_reply": "2022-06-03T20:10:24.408204Z"
    },
    "papermill": {
     "duration": 0.053057,
     "end_time": "2022-06-03T20:10:24.408363",
     "exception": false,
     "start_time": "2022-06-03T20:10:24.355306",
     "status": "completed"
    },
    "tags": []
   },
   "outputs": [
    {
     "data": {
      "text/plain": [
       "((11982, 784), (1984, 784))"
      ]
     },
     "execution_count": 14,
     "metadata": {},
     "output_type": "execute_result"
    }
   ],
   "source": [
    "X_train = X_train.reshape(X_train.shape[0], -1)\n",
    "X_test = X_test.reshape(X_test.shape[0], -1)\n",
    "X_train.shape, X_test.shape"
   ]
  },
  {
   "cell_type": "code",
   "execution_count": 15,
   "id": "73c5f88a",
   "metadata": {
    "execution": {
     "iopub.execute_input": "2022-06-03T20:10:24.477200Z",
     "iopub.status.busy": "2022-06-03T20:10:24.476468Z",
     "iopub.status.idle": "2022-06-03T20:10:24.498297Z",
     "shell.execute_reply": "2022-06-03T20:10:24.497706Z"
    },
    "papermill": {
     "duration": 0.059529,
     "end_time": "2022-06-03T20:10:24.498431",
     "exception": false,
     "start_time": "2022-06-03T20:10:24.438902",
     "status": "completed"
    },
    "tags": []
   },
   "outputs": [],
   "source": [
    "#Impoting functions from 'Kudzu'\n",
    "from kudzu.model import Model\n",
    "from kudzu.train import Learner\n",
    "from kudzu.optim import GD\n",
    "from kudzu.data import Data, Sampler,Dataloader\n",
    "\n",
    "from kudzu.callbacks import AccCallback\n",
    "from kudzu.callbacks import ClfCallback\n",
    "\n",
    "from kudzu.loss import MSE\n",
    "\n",
    "from kudzu.layer import Sigmoid,Relu\n",
    "from kudzu.layer import Affine"
   ]
  },
  {
   "cell_type": "markdown",
   "id": "bc01172a",
   "metadata": {
    "papermill": {
     "duration": 0.030174,
     "end_time": "2022-06-03T20:10:24.559189",
     "exception": false,
     "start_time": "2022-06-03T20:10:24.529015",
     "status": "completed"
    },
    "tags": []
   },
   "source": [
    "### Let us create a `Config` class, to store important parameters. \n",
    "This class essentially plays the role of a dictionary."
   ]
  },
  {
   "cell_type": "code",
   "execution_count": 16,
   "id": "978281aa",
   "metadata": {
    "execution": {
     "iopub.execute_input": "2022-06-03T20:10:24.628702Z",
     "iopub.status.busy": "2022-06-03T20:10:24.627933Z",
     "iopub.status.idle": "2022-06-03T20:10:24.641672Z",
     "shell.execute_reply": "2022-06-03T20:10:24.641086Z"
    },
    "papermill": {
     "duration": 0.052279,
     "end_time": "2022-06-03T20:10:24.641810",
     "exception": false,
     "start_time": "2022-06-03T20:10:24.589531",
     "status": "completed"
    },
    "tags": []
   },
   "outputs": [],
   "source": [
    "class Config:\n",
    "    pass\n",
    "config = Config()\n",
    "config.lr = 0.001\n",
    "config.num_epochs = 250\n",
    "config.bs = 50"
   ]
  },
  {
   "cell_type": "markdown",
   "id": "1385fa59",
   "metadata": {
    "papermill": {
     "duration": 0.030299,
     "end_time": "2022-06-03T20:10:24.702596",
     "exception": false,
     "start_time": "2022-06-03T20:10:24.672297",
     "status": "completed"
    },
    "tags": []
   },
   "source": [
    "### Running Models with the Training data\n",
    "Details about the network layers:\n",
    "- A first affine layer has 784 inputs and does 100 affine transforms. These are followed by a Relu\n",
    "- A second affine layer has 100 inputs from the 100 activations of the past layer, and does 100 affine transforms. These are followed by a Relu\n",
    "- A third affine layer has 100 activations and does 2 affine transformations to create an embedding for visualization. There is no non-linearity here.\n",
    "- A final \"logistic regression\" which has an affine transform from 2 inputs to 1 output, which is squeezed through a sigmoid.\n"
   ]
  },
  {
   "cell_type": "code",
   "execution_count": 17,
   "id": "2b9c66db",
   "metadata": {
    "execution": {
     "iopub.execute_input": "2022-06-03T20:10:24.769510Z",
     "iopub.status.busy": "2022-06-03T20:10:24.768789Z",
     "iopub.status.idle": "2022-06-03T20:10:24.783486Z",
     "shell.execute_reply": "2022-06-03T20:10:24.784016Z"
    },
    "papermill": {
     "duration": 0.051275,
     "end_time": "2022-06-03T20:10:24.784171",
     "exception": false,
     "start_time": "2022-06-03T20:10:24.732896",
     "status": "completed"
    },
    "tags": []
   },
   "outputs": [],
   "source": [
    "data = Data(X_train, y_train.reshape(-1,1))\n",
    "sampler = Sampler(data, config.bs, shuffle=True)\n",
    "\n",
    "dl = Dataloader(data, sampler)\n",
    "\n",
    "opt = GD(config.lr)\n",
    "loss = MSE()"
   ]
  },
  {
   "cell_type": "code",
   "execution_count": 18,
   "id": "b275e4c2",
   "metadata": {
    "execution": {
     "iopub.execute_input": "2022-06-03T20:10:24.851076Z",
     "iopub.status.busy": "2022-06-03T20:10:24.850381Z",
     "iopub.status.idle": "2022-06-03T20:10:24.866188Z",
     "shell.execute_reply": "2022-06-03T20:10:24.865555Z"
    },
    "papermill": {
     "duration": 0.051197,
     "end_time": "2022-06-03T20:10:24.866326",
     "exception": false,
     "start_time": "2022-06-03T20:10:24.815129",
     "status": "completed"
    },
    "tags": []
   },
   "outputs": [],
   "source": [
    "training_data_x = X_train\n",
    "testing_data_x = X_test\n",
    "training_data_y = y_train.reshape(-1,1)\n",
    "testing_data_y = y_test.reshape(-1,1)"
   ]
  },
  {
   "cell_type": "code",
   "execution_count": 19,
   "id": "76951160",
   "metadata": {
    "execution": {
     "iopub.execute_input": "2022-06-03T20:10:24.933796Z",
     "iopub.status.busy": "2022-06-03T20:10:24.933093Z",
     "iopub.status.idle": "2022-06-03T20:10:24.951697Z",
     "shell.execute_reply": "2022-06-03T20:10:24.952260Z"
    },
    "papermill": {
     "duration": 0.055822,
     "end_time": "2022-06-03T20:10:24.952433",
     "exception": false,
     "start_time": "2022-06-03T20:10:24.896611",
     "status": "completed"
    },
    "tags": []
   },
   "outputs": [
    {
     "name": "stdout",
     "output_type": "stream",
     "text": [
      "xavier\n",
      "xavier\n",
      "xavier\n",
      "xavier\n",
      "xavier\n"
     ]
    }
   ],
   "source": [
    "layers = [Affine(\"first\", 784, 100), Relu(\"first\"), Affine(\"second\", 100, 100), Relu(\"second\"), Affine(\"third\", 100, 2), Affine(\"last\", 2, 1), Sigmoid(\"last\")]\n",
    "model_nn = Model(layers)\n",
    "model_lr = Model([Affine(\"logits\", 784, 1), Sigmoid(\"sigmoid\")])"
   ]
  },
  {
   "cell_type": "code",
   "execution_count": 20,
   "id": "6eede77a",
   "metadata": {
    "execution": {
     "iopub.execute_input": "2022-06-03T20:10:25.019762Z",
     "iopub.status.busy": "2022-06-03T20:10:25.019085Z",
     "iopub.status.idle": "2022-06-03T20:10:25.035210Z",
     "shell.execute_reply": "2022-06-03T20:10:25.034628Z"
    },
    "papermill": {
     "duration": 0.052106,
     "end_time": "2022-06-03T20:10:25.035342",
     "exception": false,
     "start_time": "2022-06-03T20:10:24.983236",
     "status": "completed"
    },
    "tags": []
   },
   "outputs": [],
   "source": [
    "nn_learner = Learner(loss, model_nn, opt, config.num_epochs)\n",
    "acc_nn = ClfCallback(nn_learner, config.bs, training_data_x , testing_data_x, training_data_y, testing_data_y)\n",
    "nn_learner.set_callbacks([acc_nn])"
   ]
  },
  {
   "cell_type": "code",
   "execution_count": 21,
   "id": "877b6cc7",
   "metadata": {
    "execution": {
     "iopub.execute_input": "2022-06-03T20:10:25.102683Z",
     "iopub.status.busy": "2022-06-03T20:10:25.101998Z",
     "iopub.status.idle": "2022-06-03T20:10:25.117334Z",
     "shell.execute_reply": "2022-06-03T20:10:25.116760Z"
    },
    "papermill": {
     "duration": 0.051569,
     "end_time": "2022-06-03T20:10:25.117463",
     "exception": false,
     "start_time": "2022-06-03T20:10:25.065894",
     "status": "completed"
    },
    "tags": []
   },
   "outputs": [],
   "source": [
    "lr_learner = Learner(loss, model_lr, opt, config.num_epochs)\n",
    "acc_lr = ClfCallback(lr_learner, config.bs, training_data_x , testing_data_x, training_data_y, testing_data_y)\n",
    "lr_learner.set_callbacks([acc_lr])"
   ]
  },
  {
   "cell_type": "code",
   "execution_count": 22,
   "id": "d9b133c3",
   "metadata": {
    "execution": {
     "iopub.execute_input": "2022-06-03T20:10:25.183567Z",
     "iopub.status.busy": "2022-06-03T20:10:25.182878Z",
     "iopub.status.idle": "2022-06-03T20:11:55.950758Z",
     "shell.execute_reply": "2022-06-03T20:11:55.951749Z"
    },
    "papermill": {
     "duration": 90.803768,
     "end_time": "2022-06-03T20:11:55.951925",
     "exception": false,
     "start_time": "2022-06-03T20:10:25.148157",
     "status": "completed"
    },
    "tags": []
   },
   "outputs": [
    {
     "name": "stdout",
     "output_type": "stream",
     "text": [
      "Epoch 0, Loss 0.2626\n",
      "Training Accuracy: 0.6549, Testing Accuracy: 0.6613\n",
      "\n"
     ]
    },
    {
     "name": "stdout",
     "output_type": "stream",
     "text": [
      "Epoch 10, Loss 0.0659\n",
      "Training Accuracy: 0.9345, Testing Accuracy: 0.9405\n",
      "\n"
     ]
    },
    {
     "name": "stdout",
     "output_type": "stream",
     "text": [
      "Epoch 20, Loss 0.0442\n",
      "Training Accuracy: 0.9527, Testing Accuracy: 0.9592\n",
      "\n"
     ]
    },
    {
     "name": "stdout",
     "output_type": "stream",
     "text": [
      "Epoch 30, Loss 0.0371\n",
      "Training Accuracy: 0.9592, Testing Accuracy: 0.9647\n",
      "\n"
     ]
    },
    {
     "name": "stdout",
     "output_type": "stream",
     "text": [
      "Epoch 40, Loss 0.0333\n",
      "Training Accuracy: 0.9618, Testing Accuracy: 0.9677\n",
      "\n"
     ]
    },
    {
     "name": "stdout",
     "output_type": "stream",
     "text": [
      "Epoch 50, Loss 0.0308\n",
      "Training Accuracy: 0.9639, Testing Accuracy: 0.9693\n",
      "\n"
     ]
    },
    {
     "name": "stdout",
     "output_type": "stream",
     "text": [
      "Epoch 60, Loss 0.029\n",
      "Training Accuracy: 0.9658, Testing Accuracy: 0.9698\n",
      "\n"
     ]
    },
    {
     "name": "stdout",
     "output_type": "stream",
     "text": [
      "Epoch 70, Loss 0.0276\n",
      "Training Accuracy: 0.9679, Testing Accuracy: 0.9708\n",
      "\n"
     ]
    },
    {
     "name": "stdout",
     "output_type": "stream",
     "text": [
      "Epoch 80, Loss 0.0264\n",
      "Training Accuracy: 0.9692, Testing Accuracy: 0.9713\n",
      "\n"
     ]
    },
    {
     "name": "stdout",
     "output_type": "stream",
     "text": [
      "Epoch 90, Loss 0.0254\n",
      "Training Accuracy: 0.9698, Testing Accuracy: 0.9728\n",
      "\n"
     ]
    },
    {
     "name": "stdout",
     "output_type": "stream",
     "text": [
      "Epoch 100, Loss 0.0245\n",
      "Training Accuracy: 0.9714, Testing Accuracy: 0.9728\n",
      "\n"
     ]
    },
    {
     "name": "stdout",
     "output_type": "stream",
     "text": [
      "Epoch 110, Loss 0.0237\n",
      "Training Accuracy: 0.9724, Testing Accuracy: 0.9728\n",
      "\n"
     ]
    },
    {
     "name": "stdout",
     "output_type": "stream",
     "text": [
      "Epoch 120, Loss 0.0229\n",
      "Training Accuracy: 0.9736, Testing Accuracy: 0.9728\n",
      "\n"
     ]
    },
    {
     "name": "stdout",
     "output_type": "stream",
     "text": [
      "Epoch 130, Loss 0.0223\n",
      "Training Accuracy: 0.9745, Testing Accuracy: 0.9723\n",
      "\n"
     ]
    },
    {
     "name": "stdout",
     "output_type": "stream",
     "text": [
      "Epoch 140, Loss 0.0216\n",
      "Training Accuracy: 0.9753, Testing Accuracy: 0.9738\n",
      "\n"
     ]
    },
    {
     "name": "stdout",
     "output_type": "stream",
     "text": [
      "Epoch 150, Loss 0.021\n",
      "Training Accuracy: 0.9760, Testing Accuracy: 0.9738\n",
      "\n"
     ]
    },
    {
     "name": "stdout",
     "output_type": "stream",
     "text": [
      "Epoch 160, Loss 0.0205\n",
      "Training Accuracy: 0.9770, Testing Accuracy: 0.9743\n",
      "\n"
     ]
    },
    {
     "name": "stdout",
     "output_type": "stream",
     "text": [
      "Epoch 170, Loss 0.02\n",
      "Training Accuracy: 0.9781, Testing Accuracy: 0.9743\n",
      "\n"
     ]
    },
    {
     "name": "stdout",
     "output_type": "stream",
     "text": [
      "Epoch 180, Loss 0.0194\n",
      "Training Accuracy: 0.9790, Testing Accuracy: 0.9743\n",
      "\n"
     ]
    },
    {
     "name": "stdout",
     "output_type": "stream",
     "text": [
      "Epoch 190, Loss 0.0189\n",
      "Training Accuracy: 0.9797, Testing Accuracy: 0.9748\n",
      "\n"
     ]
    },
    {
     "name": "stdout",
     "output_type": "stream",
     "text": [
      "Epoch 200, Loss 0.0185\n",
      "Training Accuracy: 0.9801, Testing Accuracy: 0.9753\n",
      "\n"
     ]
    },
    {
     "name": "stdout",
     "output_type": "stream",
     "text": [
      "Epoch 210, Loss 0.018\n",
      "Training Accuracy: 0.9807, Testing Accuracy: 0.9758\n",
      "\n"
     ]
    },
    {
     "name": "stdout",
     "output_type": "stream",
     "text": [
      "Epoch 220, Loss 0.0175\n",
      "Training Accuracy: 0.9812, Testing Accuracy: 0.9763\n",
      "\n"
     ]
    },
    {
     "name": "stdout",
     "output_type": "stream",
     "text": [
      "Epoch 230, Loss 0.0171\n",
      "Training Accuracy: 0.9813, Testing Accuracy: 0.9763\n",
      "\n"
     ]
    },
    {
     "name": "stdout",
     "output_type": "stream",
     "text": [
      "Epoch 240, Loss 0.0167\n",
      "Training Accuracy: 0.9822, Testing Accuracy: 0.9768\n",
      "\n"
     ]
    },
    {
     "data": {
      "text/plain": [
       "0.02884649012301268"
      ]
     },
     "execution_count": 22,
     "metadata": {},
     "output_type": "execute_result"
    }
   ],
   "source": [
    "nn_learner.train_loop(dl)"
   ]
  },
  {
   "cell_type": "code",
   "execution_count": 23,
   "id": "e0163366",
   "metadata": {
    "execution": {
     "iopub.execute_input": "2022-06-03T20:11:56.043016Z",
     "iopub.status.busy": "2022-06-03T20:11:56.042305Z",
     "iopub.status.idle": "2022-06-03T20:12:12.103901Z",
     "shell.execute_reply": "2022-06-03T20:12:12.104924Z"
    },
    "papermill": {
     "duration": 16.113397,
     "end_time": "2022-06-03T20:12:12.105099",
     "exception": false,
     "start_time": "2022-06-03T20:11:55.991702",
     "status": "completed"
    },
    "tags": []
   },
   "outputs": [
    {
     "name": "stdout",
     "output_type": "stream",
     "text": [
      "Epoch 0, Loss 0.2427\n",
      "Training Accuracy: 0.6693, Testing Accuracy: 0.6704\n",
      "\n"
     ]
    },
    {
     "name": "stdout",
     "output_type": "stream",
     "text": [
      "Epoch 10, Loss 0.1056\n",
      "Training Accuracy: 0.8992, Testing Accuracy: 0.9083\n",
      "\n"
     ]
    },
    {
     "name": "stdout",
     "output_type": "stream",
     "text": [
      "Epoch 20, Loss 0.0806\n",
      "Training Accuracy: 0.9242, Testing Accuracy: 0.9335\n",
      "\n"
     ]
    },
    {
     "name": "stdout",
     "output_type": "stream",
     "text": [
      "Epoch 30, Loss 0.0691\n",
      "Training Accuracy: 0.9328, Testing Accuracy: 0.9415\n",
      "\n"
     ]
    },
    {
     "name": "stdout",
     "output_type": "stream",
     "text": [
      "Epoch 40, Loss 0.0623\n",
      "Training Accuracy: 0.9392, Testing Accuracy: 0.9486\n",
      "\n"
     ]
    },
    {
     "name": "stdout",
     "output_type": "stream",
     "text": [
      "Epoch 50, Loss 0.0576\n",
      "Training Accuracy: 0.9428, Testing Accuracy: 0.9516\n",
      "\n"
     ]
    },
    {
     "name": "stdout",
     "output_type": "stream",
     "text": [
      "Epoch 60, Loss 0.0542\n",
      "Training Accuracy: 0.9454, Testing Accuracy: 0.9551\n",
      "\n"
     ]
    },
    {
     "name": "stdout",
     "output_type": "stream",
     "text": [
      "Epoch 70, Loss 0.0515\n",
      "Training Accuracy: 0.9483, Testing Accuracy: 0.9572\n",
      "\n"
     ]
    },
    {
     "name": "stdout",
     "output_type": "stream",
     "text": [
      "Epoch 80, Loss 0.0494\n",
      "Training Accuracy: 0.9502, Testing Accuracy: 0.9587\n",
      "\n"
     ]
    },
    {
     "name": "stdout",
     "output_type": "stream",
     "text": [
      "Epoch 90, Loss 0.0477\n",
      "Training Accuracy: 0.9519, Testing Accuracy: 0.9617\n",
      "\n"
     ]
    },
    {
     "name": "stdout",
     "output_type": "stream",
     "text": [
      "Epoch 100, Loss 0.0462\n",
      "Training Accuracy: 0.9529, Testing Accuracy: 0.9622\n",
      "\n"
     ]
    },
    {
     "name": "stdout",
     "output_type": "stream",
     "text": [
      "Epoch 110, Loss 0.045\n",
      "Training Accuracy: 0.9538, Testing Accuracy: 0.9632\n",
      "\n"
     ]
    },
    {
     "name": "stdout",
     "output_type": "stream",
     "text": [
      "Epoch 120, Loss 0.0439\n",
      "Training Accuracy: 0.9545, Testing Accuracy: 0.9642\n",
      "\n"
     ]
    },
    {
     "name": "stdout",
     "output_type": "stream",
     "text": [
      "Epoch 130, Loss 0.0429\n",
      "Training Accuracy: 0.9555, Testing Accuracy: 0.9647\n",
      "\n"
     ]
    },
    {
     "name": "stdout",
     "output_type": "stream",
     "text": [
      "Epoch 140, Loss 0.0421\n",
      "Training Accuracy: 0.9559, Testing Accuracy: 0.9662\n",
      "\n"
     ]
    },
    {
     "name": "stdout",
     "output_type": "stream",
     "text": [
      "Epoch 150, Loss 0.0413\n",
      "Training Accuracy: 0.9568, Testing Accuracy: 0.9662\n",
      "\n"
     ]
    },
    {
     "name": "stdout",
     "output_type": "stream",
     "text": [
      "Epoch 160, Loss 0.0406\n",
      "Training Accuracy: 0.9573, Testing Accuracy: 0.9657\n",
      "\n"
     ]
    },
    {
     "name": "stdout",
     "output_type": "stream",
     "text": [
      "Epoch 170, Loss 0.04\n",
      "Training Accuracy: 0.9576, Testing Accuracy: 0.9652\n",
      "\n"
     ]
    },
    {
     "name": "stdout",
     "output_type": "stream",
     "text": [
      "Epoch 180, Loss 0.0394\n",
      "Training Accuracy: 0.9585, Testing Accuracy: 0.9657\n",
      "\n"
     ]
    },
    {
     "name": "stdout",
     "output_type": "stream",
     "text": [
      "Epoch 190, Loss 0.0389\n",
      "Training Accuracy: 0.9592, Testing Accuracy: 0.9657\n",
      "\n"
     ]
    },
    {
     "name": "stdout",
     "output_type": "stream",
     "text": [
      "Epoch 200, Loss 0.0384\n",
      "Training Accuracy: 0.9598, Testing Accuracy: 0.9657\n",
      "\n"
     ]
    },
    {
     "name": "stdout",
     "output_type": "stream",
     "text": [
      "Epoch 210, Loss 0.038\n",
      "Training Accuracy: 0.9602, Testing Accuracy: 0.9657\n",
      "\n"
     ]
    },
    {
     "name": "stdout",
     "output_type": "stream",
     "text": [
      "Epoch 220, Loss 0.0375\n",
      "Training Accuracy: 0.9608, Testing Accuracy: 0.9662\n",
      "\n"
     ]
    },
    {
     "name": "stdout",
     "output_type": "stream",
     "text": [
      "Epoch 230, Loss 0.0371\n",
      "Training Accuracy: 0.9611, Testing Accuracy: 0.9657\n",
      "\n"
     ]
    },
    {
     "name": "stdout",
     "output_type": "stream",
     "text": [
      "Epoch 240, Loss 0.0368\n",
      "Training Accuracy: 0.9613, Testing Accuracy: 0.9672\n",
      "\n"
     ]
    },
    {
     "data": {
      "text/plain": [
       "0.03143089954468369"
      ]
     },
     "execution_count": 23,
     "metadata": {},
     "output_type": "execute_result"
    }
   ],
   "source": [
    "lr_learner.train_loop(dl)"
   ]
  },
  {
   "cell_type": "code",
   "execution_count": 24,
   "id": "ca410940",
   "metadata": {
    "execution": {
     "iopub.execute_input": "2022-06-03T20:12:12.214032Z",
     "iopub.status.busy": "2022-06-03T20:12:12.213306Z",
     "iopub.status.idle": "2022-06-03T20:12:12.479508Z",
     "shell.execute_reply": "2022-06-03T20:12:12.480054Z"
    },
    "papermill": {
     "duration": 0.328191,
     "end_time": "2022-06-03T20:12:12.480216",
     "exception": false,
     "start_time": "2022-06-03T20:12:12.152025",
     "status": "completed"
    },
    "tags": []
   },
   "outputs": [
    {
     "data": {
      "text/plain": [
       "<matplotlib.legend.Legend at 0x7fda754739e8>"
      ]
     },
     "execution_count": 24,
     "metadata": {},
     "output_type": "execute_result"
    },
    {
     "data": {
      "image/png": "[encoded data removed]",
      "text/plain": [
       "<Figure size 1080x720 with 1 Axes>"
      ]
     },
     "metadata": {
      "needs_background": "light"
     },
     "output_type": "display_data"
    }
   ],
   "source": [
    "#comparing the results of NN and LR\n",
    "plt.figure(figsize=(15,10))\n",
    "\n",
    "# Neural Network plots\n",
    "plt.plot(acc_nn.accuracies, 'r-', label = \"Training Accuracies - NN\")\n",
    "plt.plot(acc_nn.test_accuracies, 'g-', label = \"Testing Accuracies - NN\")\n",
    "\n",
    "# Logistic Regression plots\n",
    "plt.plot(acc_lr.accuracies, 'k-', label = \"Training Accuracies - LR\")\n",
    "plt.plot(acc_lr.test_accuracies, 'b-', label = \"Testing Accuracies - LR\")\n",
    "plt.legend()"
   ]
  },
  {
   "cell_type": "markdown",
   "id": "80dfb35c",
   "metadata": {
    "papermill": {
     "duration": 0.047336,
     "end_time": "2022-06-03T20:12:12.575370",
     "exception": false,
     "start_time": "2022-06-03T20:12:12.528034",
     "status": "completed"
    },
    "tags": []
   },
   "source": [
    "#### Plotting the outputs of this layer of the NN.\n"
   ]
  },
  {
   "cell_type": "code",
   "execution_count": 25,
   "id": "45eb2ff5",
   "metadata": {
    "execution": {
     "iopub.execute_input": "2022-06-03T20:12:12.683879Z",
     "iopub.status.busy": "2022-06-03T20:12:12.683159Z",
     "iopub.status.idle": "2022-06-03T20:12:12.706064Z",
     "shell.execute_reply": "2022-06-03T20:12:12.706621Z"
    },
    "papermill": {
     "duration": 0.079796,
     "end_time": "2022-06-03T20:12:12.706783",
     "exception": false,
     "start_time": "2022-06-03T20:12:12.626987",
     "status": "completed"
    },
    "tags": []
   },
   "outputs": [],
   "source": [
    "new_model = Model(layers[:-2])\n",
    "testing_plot = new_model(testing_data_x)"
   ]
  },
  {
   "cell_type": "code",
   "execution_count": 26,
   "id": "4c0a5485",
   "metadata": {
    "execution": {
     "iopub.execute_input": "2022-06-03T20:12:12.816297Z",
     "iopub.status.busy": "2022-06-03T20:12:12.815570Z",
     "iopub.status.idle": "2022-06-03T20:12:13.047727Z",
     "shell.execute_reply": "2022-06-03T20:12:13.047149Z"
    },
    "papermill": {
     "duration": 0.293512,
     "end_time": "2022-06-03T20:12:13.047861",
     "exception": false,
     "start_time": "2022-06-03T20:12:12.754349",
     "status": "completed"
    },
    "tags": []
   },
   "outputs": [
    {
     "data": {
      "text/plain": [
       "Text(0.5, 1.0, 'Outputs')"
      ]
     },
     "execution_count": 26,
     "metadata": {},
     "output_type": "execute_result"
    },
    {
     "data": {
      "image/png": "[encoded data removed]",
      "text/plain": [
       "<Figure size 576x504 with 1 Axes>"
      ]
     },
     "metadata": {
      "needs_background": "light"
     },
     "output_type": "display_data"
    }
   ],
   "source": [
    "# Plotting the scatter plot of points and color coding by class\n",
    "plt.figure(figsize=(8,7))\n",
    "plt.scatter(testing_plot[:,0], testing_plot[:,1], alpha = 0.1, c = y_test.ravel());\n",
    "plt.title('Outputs')"
   ]
  },
  {
   "cell_type": "markdown",
   "id": "a74fcf8f",
   "metadata": {
    "papermill": {
     "duration": 0.050213,
     "end_time": "2022-06-03T20:12:13.151409",
     "exception": false,
     "start_time": "2022-06-03T20:12:13.101196",
     "status": "completed"
    },
    "tags": []
   },
   "source": [
    "Probability contours"
   ]
  },
  {
   "cell_type": "code",
   "execution_count": 27,
   "id": "d0afc8e3",
   "metadata": {
    "execution": {
     "iopub.execute_input": "2022-06-03T20:12:13.291013Z",
     "iopub.status.busy": "2022-06-03T20:12:13.289794Z",
     "iopub.status.idle": "2022-06-03T20:12:13.303458Z",
     "shell.execute_reply": "2022-06-03T20:12:13.302866Z"
    },
    "papermill": {
     "duration": 0.069335,
     "end_time": "2022-06-03T20:12:13.303604",
     "exception": false,
     "start_time": "2022-06-03T20:12:13.234269",
     "status": "completed"
    },
    "tags": []
   },
   "outputs": [],
   "source": [
    "model_prob = Model(layers[-2:]) "
   ]
  },
  {
   "cell_type": "code",
   "execution_count": 28,
   "id": "9b96e238",
   "metadata": {
    "execution": {
     "iopub.execute_input": "2022-06-03T20:12:13.413545Z",
     "iopub.status.busy": "2022-06-03T20:12:13.412769Z",
     "iopub.status.idle": "2022-06-03T20:12:13.429229Z",
     "shell.execute_reply": "2022-06-03T20:12:13.429761Z"
    },
    "papermill": {
     "duration": 0.07607,
     "end_time": "2022-06-03T20:12:13.429929",
     "exception": false,
     "start_time": "2022-06-03T20:12:13.353859",
     "status": "completed"
    },
    "tags": []
   },
   "outputs": [],
   "source": [
    "#creating the x and y ranges according to the above generated plot.\n",
    "x_range = np.linspace(-4, 1, 100) \n",
    "y_range = np.linspace(-6, 6, 100) \n",
    "x_grid, y_grid = np.meshgrid(x_range, y_range) # x_grid and y_grig are of size 100 X 100\n",
    "\n",
    "# converting x_grid and y_grid to continuous arrays\n",
    "x_gridflat = np.ravel(x_grid)\n",
    "y_gridflat = np.ravel(y_grid)\n",
    "\n",
    "# The last layer of the current model takes two columns as input. Hence transpose of np.vstack() is required.\n",
    "X = np.vstack((x_gridflat, y_gridflat)).T\n",
    "\n",
    "prob_contour = model_prob(X).reshape(100,100) "
   ]
  },
  {
   "cell_type": "code",
   "execution_count": 29,
   "id": "da72499a",
   "metadata": {
    "execution": {
     "iopub.execute_input": "2022-06-03T20:12:13.545617Z",
     "iopub.status.busy": "2022-06-03T20:12:13.544884Z",
     "iopub.status.idle": "2022-06-03T20:12:13.821888Z",
     "shell.execute_reply": "2022-06-03T20:12:13.822568Z"
    },
    "papermill": {
     "duration": 0.337938,
     "end_time": "2022-06-03T20:12:13.822730",
     "exception": false,
     "start_time": "2022-06-03T20:12:13.484792",
     "status": "completed"
    },
    "tags": []
   },
   "outputs": [
    {
     "data": {
      "image/png": "[encoded data removed]",
      "text/plain": [
       "<Figure size 720x648 with 1 Axes>"
      ]
     },
     "metadata": {
      "needs_background": "light"
     },
     "output_type": "display_data"
    }
   ],
   "source": [
    "plt.figure(figsize=(10,9))\n",
    "plt.scatter(testing_plot[:,0], testing_plot[:,1], alpha = 0.1, c = y_test.ravel())\n",
    "contours = plt.contour(x_grid,y_grid,prob_contour)\n",
    "plt.title('Probability Contours')\n",
    "plt.clabel(contours, inline = True );"
   ]
  },
  {
   "cell_type": "code",
   "execution_count": null,
   "id": "e81b4ac7",
   "metadata": {
    "papermill": {
     "duration": 0.053675,
     "end_time": "2022-06-03T20:12:13.930771",
     "exception": false,
     "start_time": "2022-06-03T20:12:13.877096",
     "status": "completed"
    },
    "tags": []
   },
   "outputs": [],
   "source": []
  }
 ],
 "metadata": {
  "kernelspec": {
   "display_name": "Python 3",
   "language": "python",
   "name": "python3"
  },
  "language_info": {
   "codemirror_mode": {
    "name": "ipython",
    "version": 3
   },
   "file_extension": ".py",
   "mimetype": "text/x-python",
   "name": "python",
   "nbconvert_exporter": "python",
   "pygments_lexer": "ipython3",
   "version": "3.6.15"
  },
  "papermill": {
   "default_parameters": {},
   "duration": 116.93719,
   "end_time": "2022-06-03T20:12:14.404581",
   "environment_variables": {},
   "exception": null,
   "input_path": "2020-08-11-part2.ipynb",
   "output_path": "2020-08-11-part2.ipynb",
   "parameters": {},
   "start_time": "2022-06-03T20:10:17.467391",
   "version": "2.3.3"
  }
 },
 "nbformat": 4,
 "nbformat_minor": 5
}