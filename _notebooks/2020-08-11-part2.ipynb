{
 "cells": [
  {
   "cell_type": "markdown",
   "id": "98380cd3",
   "metadata": {
    "papermill": {
     "duration": 0.02647,
     "end_time": "2021-10-20T10:07:58.123710",
     "exception": false,
     "start_time": "2021-10-20T10:07:58.097240",
     "status": "completed"
    },
    "tags": []
   },
   "source": [
    "# Distinguish Your Own Digits (DYOD)"
   ]
  },
  {
   "cell_type": "markdown",
   "id": "ef31240d",
   "metadata": {
    "papermill": {
     "duration": 0.021533,
     "end_time": "2021-10-20T10:07:58.167400",
     "exception": false,
     "start_time": "2021-10-20T10:07:58.145867",
     "status": "completed"
    },
    "tags": []
   },
   "source": [
    "You are going to write a classifier that distinguishes between the number 3 and number 8."
   ]
  },
  {
   "cell_type": "code",
   "execution_count": 1,
   "id": "b15c8646",
   "metadata": {
    "execution": {
     "iopub.execute_input": "2021-10-20T10:07:58.222436Z",
     "iopub.status.busy": "2021-10-20T10:07:58.221932Z",
     "iopub.status.idle": "2021-10-20T10:07:58.235636Z",
     "shell.execute_reply": "2021-10-20T10:07:58.235223Z"
    },
    "papermill": {
     "duration": 0.046912,
     "end_time": "2021-10-20T10:07:58.235779",
     "exception": false,
     "start_time": "2021-10-20T10:07:58.188867",
     "status": "completed"
    },
    "tags": []
   },
   "outputs": [],
   "source": [
    "%load_ext autoreload\n",
    "%autoreload 2"
   ]
  },
  {
   "cell_type": "code",
   "execution_count": 2,
   "id": "22ef38dc",
   "metadata": {
    "execution": {
     "iopub.execute_input": "2021-10-20T10:07:58.286995Z",
     "iopub.status.busy": "2021-10-20T10:07:58.286499Z",
     "iopub.status.idle": "2021-10-20T10:07:58.778215Z",
     "shell.execute_reply": "2021-10-20T10:07:58.778888Z"
    },
    "papermill": {
     "duration": 0.521249,
     "end_time": "2021-10-20T10:07:58.779058",
     "exception": false,
     "start_time": "2021-10-20T10:07:58.257809",
     "status": "completed"
    },
    "tags": []
   },
   "outputs": [],
   "source": [
    "%matplotlib inline\n",
    "import numpy as np\n",
    "import matplotlib.pyplot as plt\n",
    "import pandas as pd"
   ]
  },
  {
   "cell_type": "markdown",
   "id": "ba036198",
   "metadata": {
    "papermill": {
     "duration": 0.027087,
     "end_time": "2021-10-20T10:07:58.832452",
     "exception": false,
     "start_time": "2021-10-20T10:07:58.805365",
     "status": "completed"
    },
    "tags": []
   },
   "source": [
    "From the command line run `pip install mnist`. This is a library that will help you bring down the mnist dataset. If you run this from a notebook, you need to put  `!pip install mnist` in a cell by itself."
   ]
  },
  {
   "cell_type": "code",
   "execution_count": 3,
   "id": "bb6ad8a1",
   "metadata": {
    "execution": {
     "iopub.execute_input": "2021-10-20T10:07:58.891078Z",
     "iopub.status.busy": "2021-10-20T10:07:58.890378Z",
     "iopub.status.idle": "2021-10-20T10:08:00.495121Z",
     "shell.execute_reply": "2021-10-20T10:08:00.494193Z"
    },
    "papermill": {
     "duration": 1.636887,
     "end_time": "2021-10-20T10:08:00.495275",
     "exception": false,
     "start_time": "2021-10-20T10:07:58.858388",
     "status": "completed"
    },
    "tags": []
   },
   "outputs": [
    {
     "name": "stdout",
     "output_type": "stream",
     "text": [
      "Collecting mnist\r\n"
     ]
    },
    {
     "name": "stdout",
     "output_type": "stream",
     "text": [
      "  Downloading mnist-0.2.2-py2.py3-none-any.whl (3.5 kB)\r\n",
      "Requirement already satisfied: numpy in /opt/hostedtoolcache/Python/3.6.15/x64/lib/python3.6/site-packages (from mnist) (1.19.5)\r\n"
     ]
    },
    {
     "name": "stdout",
     "output_type": "stream",
     "text": [
      "Installing collected packages: mnist\r\n"
     ]
    },
    {
     "name": "stdout",
     "output_type": "stream",
     "text": [
      "Successfully installed mnist-0.2.2\r\n"
     ]
    },
    {
     "name": "stdout",
     "output_type": "stream",
     "text": [
      "\u001b[33mWARNING: You are using pip version 21.2.4; however, version 21.3 is available.\r\n",
      "You should consider upgrading via the '/opt/hostedtoolcache/Python/3.6.15/x64/bin/python -m pip install --upgrade pip' command.\u001b[0m\r\n"
     ]
    }
   ],
   "source": [
    "!pip install mnist"
   ]
  },
  {
   "cell_type": "markdown",
   "id": "69df9c9a",
   "metadata": {
    "papermill": {
     "duration": 0.022592,
     "end_time": "2021-10-20T10:08:00.542769",
     "exception": false,
     "start_time": "2021-10-20T10:08:00.520177",
     "status": "completed"
    },
    "tags": []
   },
   "source": [
    "## Preparing the Data"
   ]
  },
  {
   "cell_type": "code",
   "execution_count": 4,
   "id": "7f69d806",
   "metadata": {
    "execution": {
     "iopub.execute_input": "2021-10-20T10:08:00.591868Z",
     "iopub.status.busy": "2021-10-20T10:08:00.591395Z",
     "iopub.status.idle": "2021-10-20T10:08:00.605173Z",
     "shell.execute_reply": "2021-10-20T10:08:00.605520Z"
    },
    "papermill": {
     "duration": 0.040328,
     "end_time": "2021-10-20T10:08:00.605651",
     "exception": false,
     "start_time": "2021-10-20T10:08:00.565323",
     "status": "completed"
    },
    "tags": []
   },
   "outputs": [],
   "source": [
    "import mnist"
   ]
  },
  {
   "cell_type": "code",
   "execution_count": 5,
   "id": "a411e44f",
   "metadata": {
    "execution": {
     "iopub.execute_input": "2021-10-20T10:08:00.656091Z",
     "iopub.status.busy": "2021-10-20T10:08:00.655621Z",
     "iopub.status.idle": "2021-10-20T10:08:01.230912Z",
     "shell.execute_reply": "2021-10-20T10:08:01.231370Z"
    },
    "papermill": {
     "duration": 0.603074,
     "end_time": "2021-10-20T10:08:01.231525",
     "exception": false,
     "start_time": "2021-10-20T10:08:00.628451",
     "status": "completed"
    },
    "tags": []
   },
   "outputs": [],
   "source": [
    "train_images = mnist.train_images()\n",
    "train_labels = mnist.train_labels()"
   ]
  },
  {
   "cell_type": "code",
   "execution_count": 6,
   "id": "dceab3a5",
   "metadata": {
    "execution": {
     "iopub.execute_input": "2021-10-20T10:08:01.289538Z",
     "iopub.status.busy": "2021-10-20T10:08:01.288977Z",
     "iopub.status.idle": "2021-10-20T10:08:01.301688Z",
     "shell.execute_reply": "2021-10-20T10:08:01.301260Z"
    },
    "papermill": {
     "duration": 0.044304,
     "end_time": "2021-10-20T10:08:01.301816",
     "exception": false,
     "start_time": "2021-10-20T10:08:01.257512",
     "status": "completed"
    },
    "tags": []
   },
   "outputs": [
    {
     "data": {
      "text/plain": [
       "((60000, 28, 28), (60000,))"
      ]
     },
     "execution_count": 6,
     "metadata": {},
     "output_type": "execute_result"
    }
   ],
   "source": [
    "train_images.shape, train_labels.shape"
   ]
  },
  {
   "cell_type": "code",
   "execution_count": 7,
   "id": "f50dc2bb",
   "metadata": {
    "execution": {
     "iopub.execute_input": "2021-10-20T10:08:01.358189Z",
     "iopub.status.busy": "2021-10-20T10:08:01.357669Z",
     "iopub.status.idle": "2021-10-20T10:08:01.592549Z",
     "shell.execute_reply": "2021-10-20T10:08:01.592003Z"
    },
    "papermill": {
     "duration": 0.264965,
     "end_time": "2021-10-20T10:08:01.592700",
     "exception": false,
     "start_time": "2021-10-20T10:08:01.327735",
     "status": "completed"
    },
    "tags": []
   },
   "outputs": [],
   "source": [
    "test_images = mnist.test_images()\n",
    "test_labels = mnist.test_labels()"
   ]
  },
  {
   "cell_type": "code",
   "execution_count": 8,
   "id": "fc38cf1b",
   "metadata": {
    "execution": {
     "iopub.execute_input": "2021-10-20T10:08:01.649720Z",
     "iopub.status.busy": "2021-10-20T10:08:01.649187Z",
     "iopub.status.idle": "2021-10-20T10:08:01.661499Z",
     "shell.execute_reply": "2021-10-20T10:08:01.661070Z"
    },
    "papermill": {
     "duration": 0.042049,
     "end_time": "2021-10-20T10:08:01.661625",
     "exception": false,
     "start_time": "2021-10-20T10:08:01.619576",
     "status": "completed"
    },
    "tags": []
   },
   "outputs": [
    {
     "data": {
      "text/plain": [
       "((10000, 28, 28), (10000,))"
      ]
     },
     "execution_count": 8,
     "metadata": {},
     "output_type": "execute_result"
    }
   ],
   "source": [
    "test_images.shape, test_labels.shape"
   ]
  },
  {
   "cell_type": "code",
   "execution_count": 9,
   "id": "f9ed8fe0",
   "metadata": {
    "execution": {
     "iopub.execute_input": "2021-10-20T10:08:01.721725Z",
     "iopub.status.busy": "2021-10-20T10:08:01.721194Z",
     "iopub.status.idle": "2021-10-20T10:08:01.845328Z",
     "shell.execute_reply": "2021-10-20T10:08:01.845806Z"
    },
    "papermill": {
     "duration": 0.158362,
     "end_time": "2021-10-20T10:08:01.845965",
     "exception": false,
     "start_time": "2021-10-20T10:08:01.687603",
     "status": "completed"
    },
    "tags": []
   },
   "outputs": [
    {
     "name": "stdout",
     "output_type": "stream",
     "text": [
      "2\n"
     ]
    },
    {
     "data": {
      "text/plain": [
       "<matplotlib.image.AxesImage at 0x7f3c797a89b0>"
      ]
     },
     "execution_count": 9,
     "metadata": {},
     "output_type": "execute_result"
    },
    {
     "data": {
      "image/png": "[encoded data removed]",
      "text/plain": [
       "<Figure size 432x288 with 1 Axes>"
      ]
     },
     "metadata": {
      "needs_background": "light"
     },
     "output_type": "display_data"
    }
   ],
   "source": [
    "image_index = 7776 # You may select anything up to 60,000\n",
    "print(train_labels[image_index]) \n",
    "plt.imshow(train_images[image_index], cmap='Greys')"
   ]
  },
  {
   "cell_type": "markdown",
   "id": "a8d2388d",
   "metadata": {
    "papermill": {
     "duration": 0.027428,
     "end_time": "2021-10-20T10:08:01.901261",
     "exception": false,
     "start_time": "2021-10-20T10:08:01.873833",
     "status": "completed"
    },
    "tags": []
   },
   "source": [
    "## Filter data to get 3 and 8 out"
   ]
  },
  {
   "cell_type": "code",
   "execution_count": 10,
   "id": "776f7fc7",
   "metadata": {
    "execution": {
     "iopub.execute_input": "2021-10-20T10:08:01.960455Z",
     "iopub.status.busy": "2021-10-20T10:08:01.959919Z",
     "iopub.status.idle": "2021-10-20T10:08:01.976149Z",
     "shell.execute_reply": "2021-10-20T10:08:01.975721Z"
    },
    "papermill": {
     "duration": 0.047822,
     "end_time": "2021-10-20T10:08:01.976277",
     "exception": false,
     "start_time": "2021-10-20T10:08:01.928455",
     "status": "completed"
    },
    "tags": []
   },
   "outputs": [],
   "source": [
    "train_filter = np.where((train_labels == 3 ) | (train_labels == 8))\n",
    "test_filter = np.where((test_labels == 3) | (test_labels == 8))\n",
    "X_train, y_train = train_images[train_filter], train_labels[train_filter]\n",
    "X_test, y_test = test_images[test_filter], test_labels[test_filter]"
   ]
  },
  {
   "cell_type": "markdown",
   "id": "948f0b7e",
   "metadata": {
    "papermill": {
     "duration": 0.027024,
     "end_time": "2021-10-20T10:08:02.030566",
     "exception": false,
     "start_time": "2021-10-20T10:08:02.003542",
     "status": "completed"
    },
    "tags": []
   },
   "source": [
    "We normalize the pizel values in the 0 to 1 range"
   ]
  },
  {
   "cell_type": "code",
   "execution_count": 11,
   "id": "ee4c2166",
   "metadata": {
    "execution": {
     "iopub.execute_input": "2021-10-20T10:08:02.089922Z",
     "iopub.status.busy": "2021-10-20T10:08:02.089390Z",
     "iopub.status.idle": "2021-10-20T10:08:02.133744Z",
     "shell.execute_reply": "2021-10-20T10:08:02.133211Z"
    },
    "papermill": {
     "duration": 0.076261,
     "end_time": "2021-10-20T10:08:02.133893",
     "exception": false,
     "start_time": "2021-10-20T10:08:02.057632",
     "status": "completed"
    },
    "tags": []
   },
   "outputs": [],
   "source": [
    "X_train = X_train/255.\n",
    "X_test = X_test/255."
   ]
  },
  {
   "cell_type": "markdown",
   "id": "ddcf4fab",
   "metadata": {
    "papermill": {
     "duration": 0.023986,
     "end_time": "2021-10-20T10:08:02.183170",
     "exception": false,
     "start_time": "2021-10-20T10:08:02.159184",
     "status": "completed"
    },
    "tags": []
   },
   "source": [
    "And setup the labels as 1 (when the digit is 3) and 0 (when the digit is 8)"
   ]
  },
  {
   "cell_type": "code",
   "execution_count": 12,
   "id": "7dc908f2",
   "metadata": {
    "execution": {
     "iopub.execute_input": "2021-10-20T10:08:02.239622Z",
     "iopub.status.busy": "2021-10-20T10:08:02.239135Z",
     "iopub.status.idle": "2021-10-20T10:08:02.248794Z",
     "shell.execute_reply": "2021-10-20T10:08:02.248399Z"
    },
    "papermill": {
     "duration": 0.041884,
     "end_time": "2021-10-20T10:08:02.248945",
     "exception": false,
     "start_time": "2021-10-20T10:08:02.207061",
     "status": "completed"
    },
    "tags": []
   },
   "outputs": [],
   "source": [
    "y_train = 1*(y_train==3)\n",
    "y_test = 1*(y_test==3)"
   ]
  },
  {
   "cell_type": "code",
   "execution_count": 13,
   "id": "01e4e969",
   "metadata": {
    "execution": {
     "iopub.execute_input": "2021-10-20T10:08:02.303601Z",
     "iopub.status.busy": "2021-10-20T10:08:02.303119Z",
     "iopub.status.idle": "2021-10-20T10:08:02.313883Z",
     "shell.execute_reply": "2021-10-20T10:08:02.314255Z"
    },
    "papermill": {
     "duration": 0.041068,
     "end_time": "2021-10-20T10:08:02.314385",
     "exception": false,
     "start_time": "2021-10-20T10:08:02.273317",
     "status": "completed"
    },
    "tags": []
   },
   "outputs": [
    {
     "data": {
      "text/plain": [
       "((11982, 28, 28), (1984, 28, 28))"
      ]
     },
     "execution_count": 13,
     "metadata": {},
     "output_type": "execute_result"
    }
   ],
   "source": [
    "X_train.shape, X_test.shape"
   ]
  },
  {
   "cell_type": "markdown",
   "id": "5ccf3f85",
   "metadata": {
    "papermill": {
     "duration": 0.02462,
     "end_time": "2021-10-20T10:08:02.363296",
     "exception": false,
     "start_time": "2021-10-20T10:08:02.338676",
     "status": "completed"
    },
    "tags": []
   },
   "source": [
    "We reshape the data to flatten the image pixels into a set of features or co-variates:"
   ]
  },
  {
   "cell_type": "code",
   "execution_count": 14,
   "id": "5286a4a3",
   "metadata": {
    "execution": {
     "iopub.execute_input": "2021-10-20T10:08:02.416698Z",
     "iopub.status.busy": "2021-10-20T10:08:02.415701Z",
     "iopub.status.idle": "2021-10-20T10:08:02.430303Z",
     "shell.execute_reply": "2021-10-20T10:08:02.430671Z"
    },
    "papermill": {
     "duration": 0.04291,
     "end_time": "2021-10-20T10:08:02.430804",
     "exception": false,
     "start_time": "2021-10-20T10:08:02.387894",
     "status": "completed"
    },
    "tags": []
   },
   "outputs": [
    {
     "data": {
      "text/plain": [
       "((11982, 784), (1984, 784))"
      ]
     },
     "execution_count": 14,
     "metadata": {},
     "output_type": "execute_result"
    }
   ],
   "source": [
    "X_train = X_train.reshape(X_train.shape[0], -1)\n",
    "X_test = X_test.reshape(X_test.shape[0], -1)\n",
    "X_train.shape, X_test.shape"
   ]
  },
  {
   "cell_type": "code",
   "execution_count": 15,
   "id": "73c5f88a",
   "metadata": {
    "execution": {
     "iopub.execute_input": "2021-10-20T10:08:02.483682Z",
     "iopub.status.busy": "2021-10-20T10:08:02.483209Z",
     "iopub.status.idle": "2021-10-20T10:08:02.502164Z",
     "shell.execute_reply": "2021-10-20T10:08:02.501236Z"
    },
    "papermill": {
     "duration": 0.046942,
     "end_time": "2021-10-20T10:08:02.502284",
     "exception": false,
     "start_time": "2021-10-20T10:08:02.455342",
     "status": "completed"
    },
    "tags": []
   },
   "outputs": [],
   "source": [
    "#Impoting functions from 'Kudzu'\n",
    "from kudzu.model import Model\n",
    "from kudzu.train import Learner\n",
    "from kudzu.optim import GD\n",
    "from kudzu.data import Data, Sampler,Dataloader\n",
    "\n",
    "from kudzu.callbacks import AccCallback\n",
    "from kudzu.callbacks import ClfCallback\n",
    "\n",
    "from kudzu.loss import MSE\n",
    "\n",
    "from kudzu.layer import Sigmoid,Relu\n",
    "from kudzu.layer import Affine"
   ]
  },
  {
   "cell_type": "markdown",
   "id": "bc01172a",
   "metadata": {
    "papermill": {
     "duration": 0.02433,
     "end_time": "2021-10-20T10:08:02.551220",
     "exception": false,
     "start_time": "2021-10-20T10:08:02.526890",
     "status": "completed"
    },
    "tags": []
   },
   "source": [
    "### Let us create a `Config` class, to store important parameters. \n",
    "This class essentially plays the role of a dictionary."
   ]
  },
  {
   "cell_type": "code",
   "execution_count": 16,
   "id": "978281aa",
   "metadata": {
    "execution": {
     "iopub.execute_input": "2021-10-20T10:08:02.604004Z",
     "iopub.status.busy": "2021-10-20T10:08:02.603512Z",
     "iopub.status.idle": "2021-10-20T10:08:02.616947Z",
     "shell.execute_reply": "2021-10-20T10:08:02.617328Z"
    },
    "papermill": {
     "duration": 0.041942,
     "end_time": "2021-10-20T10:08:02.617475",
     "exception": false,
     "start_time": "2021-10-20T10:08:02.575533",
     "status": "completed"
    },
    "tags": []
   },
   "outputs": [],
   "source": [
    "class Config:\n",
    "    pass\n",
    "config = Config()\n",
    "config.lr = 0.001\n",
    "config.num_epochs = 250\n",
    "config.bs = 50"
   ]
  },
  {
   "cell_type": "markdown",
   "id": "1385fa59",
   "metadata": {
    "papermill": {
     "duration": 0.024546,
     "end_time": "2021-10-20T10:08:02.666747",
     "exception": false,
     "start_time": "2021-10-20T10:08:02.642201",
     "status": "completed"
    },
    "tags": []
   },
   "source": [
    "### Running Models with the Training data\n",
    "Details about the network layers:\n",
    "- A first affine layer has 784 inputs and does 100 affine transforms. These are followed by a Relu\n",
    "- A second affine layer has 100 inputs from the 100 activations of the past layer, and does 100 affine transforms. These are followed by a Relu\n",
    "- A third affine layer has 100 activations and does 2 affine transformations to create an embedding for visualization. There is no non-linearity here.\n",
    "- A final \"logistic regression\" which has an affine transform from 2 inputs to 1 output, which is squeezed through a sigmoid.\n"
   ]
  },
  {
   "cell_type": "code",
   "execution_count": 17,
   "id": "2b9c66db",
   "metadata": {
    "execution": {
     "iopub.execute_input": "2021-10-20T10:08:02.720194Z",
     "iopub.status.busy": "2021-10-20T10:08:02.719161Z",
     "iopub.status.idle": "2021-10-20T10:08:02.730504Z",
     "shell.execute_reply": "2021-10-20T10:08:02.730101Z"
    },
    "papermill": {
     "duration": 0.039436,
     "end_time": "2021-10-20T10:08:02.730610",
     "exception": false,
     "start_time": "2021-10-20T10:08:02.691174",
     "status": "completed"
    },
    "tags": []
   },
   "outputs": [],
   "source": [
    "data = Data(X_train, y_train.reshape(-1,1))\n",
    "sampler = Sampler(data, config.bs, shuffle=True)\n",
    "\n",
    "dl = Dataloader(data, sampler)\n",
    "\n",
    "opt = GD(config.lr)\n",
    "loss = MSE()"
   ]
  },
  {
   "cell_type": "code",
   "execution_count": 18,
   "id": "b275e4c2",
   "metadata": {
    "execution": {
     "iopub.execute_input": "2021-10-20T10:08:02.793175Z",
     "iopub.status.busy": "2021-10-20T10:08:02.784284Z",
     "iopub.status.idle": "2021-10-20T10:08:02.798444Z",
     "shell.execute_reply": "2021-10-20T10:08:02.798783Z"
    },
    "papermill": {
     "duration": 0.043712,
     "end_time": "2021-10-20T10:08:02.798911",
     "exception": false,
     "start_time": "2021-10-20T10:08:02.755199",
     "status": "completed"
    },
    "tags": []
   },
   "outputs": [],
   "source": [
    "training_data_x = X_train\n",
    "testing_data_x = X_test\n",
    "training_data_y = y_train.reshape(-1,1)\n",
    "testing_data_y = y_test.reshape(-1,1)"
   ]
  },
  {
   "cell_type": "code",
   "execution_count": 19,
   "id": "76951160",
   "metadata": {
    "execution": {
     "iopub.execute_input": "2021-10-20T10:08:02.852306Z",
     "iopub.status.busy": "2021-10-20T10:08:02.851829Z",
     "iopub.status.idle": "2021-10-20T10:08:02.867482Z",
     "shell.execute_reply": "2021-10-20T10:08:02.867820Z"
    },
    "papermill": {
     "duration": 0.044762,
     "end_time": "2021-10-20T10:08:02.867949",
     "exception": false,
     "start_time": "2021-10-20T10:08:02.823187",
     "status": "completed"
    },
    "tags": []
   },
   "outputs": [
    {
     "name": "stdout",
     "output_type": "stream",
     "text": [
      "xavier\n",
      "xavier\n",
      "xavier\n",
      "xavier\n",
      "xavier\n"
     ]
    }
   ],
   "source": [
    "layers = [Affine(\"first\", 784, 100), Relu(\"first\"), Affine(\"second\", 100, 100), Relu(\"second\"), Affine(\"third\", 100, 2), Affine(\"last\", 2, 1), Sigmoid(\"last\")]\n",
    "model_nn = Model(layers)\n",
    "model_lr = Model([Affine(\"logits\", 784, 1), Sigmoid(\"sigmoid\")])"
   ]
  },
  {
   "cell_type": "code",
   "execution_count": 20,
   "id": "6eede77a",
   "metadata": {
    "execution": {
     "iopub.execute_input": "2021-10-20T10:08:02.925042Z",
     "iopub.status.busy": "2021-10-20T10:08:02.921303Z",
     "iopub.status.idle": "2021-10-20T10:08:02.935933Z",
     "shell.execute_reply": "2021-10-20T10:08:02.935541Z"
    },
    "papermill": {
     "duration": 0.043415,
     "end_time": "2021-10-20T10:08:02.936038",
     "exception": false,
     "start_time": "2021-10-20T10:08:02.892623",
     "status": "completed"
    },
    "tags": []
   },
   "outputs": [],
   "source": [
    "nn_learner = Learner(loss, model_nn, opt, config.num_epochs)\n",
    "acc_nn = ClfCallback(nn_learner, config.bs, training_data_x , testing_data_x, training_data_y, testing_data_y)\n",
    "nn_learner.set_callbacks([acc_nn])"
   ]
  },
  {
   "cell_type": "code",
   "execution_count": 21,
   "id": "877b6cc7",
   "metadata": {
    "execution": {
     "iopub.execute_input": "2021-10-20T10:08:02.989899Z",
     "iopub.status.busy": "2021-10-20T10:08:02.989439Z",
     "iopub.status.idle": "2021-10-20T10:08:03.001247Z",
     "shell.execute_reply": "2021-10-20T10:08:03.001618Z"
    },
    "papermill": {
     "duration": 0.040975,
     "end_time": "2021-10-20T10:08:03.001747",
     "exception": false,
     "start_time": "2021-10-20T10:08:02.960772",
     "status": "completed"
    },
    "tags": []
   },
   "outputs": [],
   "source": [
    "lr_learner = Learner(loss, model_lr, opt, config.num_epochs)\n",
    "acc_lr = ClfCallback(lr_learner, config.bs, training_data_x , testing_data_x, training_data_y, testing_data_y)\n",
    "lr_learner.set_callbacks([acc_lr])"
   ]
  },
  {
   "cell_type": "code",
   "execution_count": 22,
   "id": "d9b133c3",
   "metadata": {
    "execution": {
     "iopub.execute_input": "2021-10-20T10:08:03.063429Z",
     "iopub.status.busy": "2021-10-20T10:08:03.061702Z",
     "iopub.status.idle": "2021-10-20T10:09:26.496970Z",
     "shell.execute_reply": "2021-10-20T10:09:26.497688Z"
    },
    "papermill": {
     "duration": 83.471088,
     "end_time": "2021-10-20T10:09:26.497836",
     "exception": false,
     "start_time": "2021-10-20T10:08:03.026748",
     "status": "completed"
    },
    "tags": []
   },
   "outputs": [
    {
     "name": "stdout",
     "output_type": "stream",
     "text": [
      "Epoch 0, Loss 0.2404\n",
      "Training Accuracy: 0.6810, Testing Accuracy: 0.6941\n",
      "\n"
     ]
    },
    {
     "name": "stdout",
     "output_type": "stream",
     "text": [
      "Epoch 10, Loss 0.1447\n",
      "Training Accuracy: 0.8943, Testing Accuracy: 0.9012\n",
      "\n"
     ]
    },
    {
     "name": "stdout",
     "output_type": "stream",
     "text": [
      "Epoch 20, Loss 0.074\n",
      "Training Accuracy: 0.9265, Testing Accuracy: 0.9370\n",
      "\n"
     ]
    },
    {
     "name": "stdout",
     "output_type": "stream",
     "text": [
      "Epoch 30, Loss 0.053\n",
      "Training Accuracy: 0.9422, Testing Accuracy: 0.9577\n",
      "\n"
     ]
    },
    {
     "name": "stdout",
     "output_type": "stream",
     "text": [
      "Epoch 40, Loss 0.0436\n",
      "Training Accuracy: 0.9508, Testing Accuracy: 0.9602\n",
      "\n"
     ]
    },
    {
     "name": "stdout",
     "output_type": "stream",
     "text": [
      "Epoch 50, Loss 0.0385\n",
      "Training Accuracy: 0.9561, Testing Accuracy: 0.9617\n",
      "\n"
     ]
    },
    {
     "name": "stdout",
     "output_type": "stream",
     "text": [
      "Epoch 60, Loss 0.0352\n",
      "Training Accuracy: 0.9598, Testing Accuracy: 0.9667\n",
      "\n"
     ]
    },
    {
     "name": "stdout",
     "output_type": "stream",
     "text": [
      "Epoch 70, Loss 0.0328\n",
      "Training Accuracy: 0.9629, Testing Accuracy: 0.9677\n",
      "\n"
     ]
    },
    {
     "name": "stdout",
     "output_type": "stream",
     "text": [
      "Epoch 80, Loss 0.031\n",
      "Training Accuracy: 0.9643, Testing Accuracy: 0.9708\n",
      "\n"
     ]
    },
    {
     "name": "stdout",
     "output_type": "stream",
     "text": [
      "Epoch 90, Loss 0.0295\n",
      "Training Accuracy: 0.9657, Testing Accuracy: 0.9703\n",
      "\n"
     ]
    },
    {
     "name": "stdout",
     "output_type": "stream",
     "text": [
      "Epoch 100, Loss 0.0283\n",
      "Training Accuracy: 0.9666, Testing Accuracy: 0.9713\n",
      "\n"
     ]
    },
    {
     "name": "stdout",
     "output_type": "stream",
     "text": [
      "Epoch 110, Loss 0.0273\n",
      "Training Accuracy: 0.9683, Testing Accuracy: 0.9713\n",
      "\n"
     ]
    },
    {
     "name": "stdout",
     "output_type": "stream",
     "text": [
      "Epoch 120, Loss 0.0264\n",
      "Training Accuracy: 0.9692, Testing Accuracy: 0.9713\n",
      "\n"
     ]
    },
    {
     "name": "stdout",
     "output_type": "stream",
     "text": [
      "Epoch 130, Loss 0.0256\n",
      "Training Accuracy: 0.9705, Testing Accuracy: 0.9713\n",
      "\n"
     ]
    },
    {
     "name": "stdout",
     "output_type": "stream",
     "text": [
      "Epoch 140, Loss 0.0249\n",
      "Training Accuracy: 0.9710, Testing Accuracy: 0.9718\n",
      "\n"
     ]
    },
    {
     "name": "stdout",
     "output_type": "stream",
     "text": [
      "Epoch 150, Loss 0.0242\n",
      "Training Accuracy: 0.9720, Testing Accuracy: 0.9713\n",
      "\n"
     ]
    },
    {
     "name": "stdout",
     "output_type": "stream",
     "text": [
      "Epoch 160, Loss 0.0236\n",
      "Training Accuracy: 0.9730, Testing Accuracy: 0.9713\n",
      "\n"
     ]
    },
    {
     "name": "stdout",
     "output_type": "stream",
     "text": [
      "Epoch 170, Loss 0.023\n",
      "Training Accuracy: 0.9736, Testing Accuracy: 0.9723\n",
      "\n"
     ]
    },
    {
     "name": "stdout",
     "output_type": "stream",
     "text": [
      "Epoch 180, Loss 0.0225\n",
      "Training Accuracy: 0.9743, Testing Accuracy: 0.9728\n",
      "\n"
     ]
    },
    {
     "name": "stdout",
     "output_type": "stream",
     "text": [
      "Epoch 190, Loss 0.022\n",
      "Training Accuracy: 0.9754, Testing Accuracy: 0.9738\n",
      "\n"
     ]
    },
    {
     "name": "stdout",
     "output_type": "stream",
     "text": [
      "Epoch 200, Loss 0.0215\n",
      "Training Accuracy: 0.9759, Testing Accuracy: 0.9733\n",
      "\n"
     ]
    },
    {
     "name": "stdout",
     "output_type": "stream",
     "text": [
      "Epoch 210, Loss 0.0211\n",
      "Training Accuracy: 0.9766, Testing Accuracy: 0.9738\n",
      "\n"
     ]
    },
    {
     "name": "stdout",
     "output_type": "stream",
     "text": [
      "Epoch 220, Loss 0.0207\n",
      "Training Accuracy: 0.9767, Testing Accuracy: 0.9738\n",
      "\n"
     ]
    },
    {
     "name": "stdout",
     "output_type": "stream",
     "text": [
      "Epoch 230, Loss 0.0203\n",
      "Training Accuracy: 0.9771, Testing Accuracy: 0.9738\n",
      "\n"
     ]
    },
    {
     "name": "stdout",
     "output_type": "stream",
     "text": [
      "Epoch 240, Loss 0.0199\n",
      "Training Accuracy: 0.9775, Testing Accuracy: 0.9748\n",
      "\n"
     ]
    },
    {
     "data": {
      "text/plain": [
       "0.018904122739090912"
      ]
     },
     "execution_count": 22,
     "metadata": {},
     "output_type": "execute_result"
    }
   ],
   "source": [
    "nn_learner.train_loop(dl)"
   ]
  },
  {
   "cell_type": "code",
   "execution_count": 23,
   "id": "e0163366",
   "metadata": {
    "execution": {
     "iopub.execute_input": "2021-10-20T10:09:26.572456Z",
     "iopub.status.busy": "2021-10-20T10:09:26.571980Z",
     "iopub.status.idle": "2021-10-20T10:09:41.936170Z",
     "shell.execute_reply": "2021-10-20T10:09:41.936863Z"
    },
    "papermill": {
     "duration": 15.407961,
     "end_time": "2021-10-20T10:09:41.937040",
     "exception": false,
     "start_time": "2021-10-20T10:09:26.529079",
     "status": "completed"
    },
    "tags": []
   },
   "outputs": [
    {
     "name": "stdout",
     "output_type": "stream",
     "text": [
      "Epoch 0, Loss 0.2354\n",
      "Training Accuracy: 0.7045, Testing Accuracy: 0.7273\n",
      "\n"
     ]
    },
    {
     "name": "stdout",
     "output_type": "stream",
     "text": [
      "Epoch 10, Loss 0.1031\n",
      "Training Accuracy: 0.9045, Testing Accuracy: 0.9183\n",
      "\n"
     ]
    },
    {
     "name": "stdout",
     "output_type": "stream",
     "text": [
      "Epoch 20, Loss 0.0798\n",
      "Training Accuracy: 0.9233, Testing Accuracy: 0.9380\n",
      "\n"
     ]
    },
    {
     "name": "stdout",
     "output_type": "stream",
     "text": [
      "Epoch 30, Loss 0.0689\n",
      "Training Accuracy: 0.9324, Testing Accuracy: 0.9466\n",
      "\n"
     ]
    },
    {
     "name": "stdout",
     "output_type": "stream",
     "text": [
      "Epoch 40, Loss 0.0623\n",
      "Training Accuracy: 0.9378, Testing Accuracy: 0.9531\n",
      "\n"
     ]
    },
    {
     "name": "stdout",
     "output_type": "stream",
     "text": [
      "Epoch 50, Loss 0.0578\n",
      "Training Accuracy: 0.9428, Testing Accuracy: 0.9556\n",
      "\n"
     ]
    },
    {
     "name": "stdout",
     "output_type": "stream",
     "text": [
      "Epoch 60, Loss 0.0544\n",
      "Training Accuracy: 0.9458, Testing Accuracy: 0.9577\n",
      "\n"
     ]
    },
    {
     "name": "stdout",
     "output_type": "stream",
     "text": [
      "Epoch 70, Loss 0.0518\n",
      "Training Accuracy: 0.9483, Testing Accuracy: 0.9602\n",
      "\n"
     ]
    },
    {
     "name": "stdout",
     "output_type": "stream",
     "text": [
      "Epoch 80, Loss 0.0497\n",
      "Training Accuracy: 0.9503, Testing Accuracy: 0.9612\n",
      "\n"
     ]
    },
    {
     "name": "stdout",
     "output_type": "stream",
     "text": [
      "Epoch 90, Loss 0.048\n",
      "Training Accuracy: 0.9510, Testing Accuracy: 0.9612\n",
      "\n"
     ]
    },
    {
     "name": "stdout",
     "output_type": "stream",
     "text": [
      "Epoch 100, Loss 0.0465\n",
      "Training Accuracy: 0.9525, Testing Accuracy: 0.9612\n",
      "\n"
     ]
    },
    {
     "name": "stdout",
     "output_type": "stream",
     "text": [
      "Epoch 110, Loss 0.0453\n",
      "Training Accuracy: 0.9531, Testing Accuracy: 0.9612\n",
      "\n"
     ]
    },
    {
     "name": "stdout",
     "output_type": "stream",
     "text": [
      "Epoch 120, Loss 0.0442\n",
      "Training Accuracy: 0.9538, Testing Accuracy: 0.9622\n",
      "\n"
     ]
    },
    {
     "name": "stdout",
     "output_type": "stream",
     "text": [
      "Epoch 130, Loss 0.0432\n",
      "Training Accuracy: 0.9548, Testing Accuracy: 0.9647\n",
      "\n"
     ]
    },
    {
     "name": "stdout",
     "output_type": "stream",
     "text": [
      "Epoch 140, Loss 0.0424\n",
      "Training Accuracy: 0.9557, Testing Accuracy: 0.9652\n",
      "\n"
     ]
    },
    {
     "name": "stdout",
     "output_type": "stream",
     "text": [
      "Epoch 150, Loss 0.0416\n",
      "Training Accuracy: 0.9561, Testing Accuracy: 0.9652\n",
      "\n"
     ]
    },
    {
     "name": "stdout",
     "output_type": "stream",
     "text": [
      "Epoch 160, Loss 0.0409\n",
      "Training Accuracy: 0.9566, Testing Accuracy: 0.9662\n",
      "\n"
     ]
    },
    {
     "name": "stdout",
     "output_type": "stream",
     "text": [
      "Epoch 170, Loss 0.0403\n",
      "Training Accuracy: 0.9569, Testing Accuracy: 0.9662\n",
      "\n"
     ]
    },
    {
     "name": "stdout",
     "output_type": "stream",
     "text": [
      "Epoch 180, Loss 0.0397\n",
      "Training Accuracy: 0.9577, Testing Accuracy: 0.9662\n",
      "\n"
     ]
    },
    {
     "name": "stdout",
     "output_type": "stream",
     "text": [
      "Epoch 190, Loss 0.0392\n",
      "Training Accuracy: 0.9584, Testing Accuracy: 0.9662\n",
      "\n"
     ]
    },
    {
     "name": "stdout",
     "output_type": "stream",
     "text": [
      "Epoch 200, Loss 0.0387\n",
      "Training Accuracy: 0.9585, Testing Accuracy: 0.9672\n",
      "\n"
     ]
    },
    {
     "name": "stdout",
     "output_type": "stream",
     "text": [
      "Epoch 210, Loss 0.0383\n",
      "Training Accuracy: 0.9589, Testing Accuracy: 0.9672\n",
      "\n"
     ]
    },
    {
     "name": "stdout",
     "output_type": "stream",
     "text": [
      "Epoch 220, Loss 0.0379\n",
      "Training Accuracy: 0.9594, Testing Accuracy: 0.9682\n",
      "\n"
     ]
    },
    {
     "name": "stdout",
     "output_type": "stream",
     "text": [
      "Epoch 230, Loss 0.0375\n",
      "Training Accuracy: 0.9598, Testing Accuracy: 0.9688\n",
      "\n"
     ]
    },
    {
     "name": "stdout",
     "output_type": "stream",
     "text": [
      "Epoch 240, Loss 0.0371\n",
      "Training Accuracy: 0.9603, Testing Accuracy: 0.9688\n",
      "\n"
     ]
    },
    {
     "data": {
      "text/plain": [
       "0.0598652235534887"
      ]
     },
     "execution_count": 23,
     "metadata": {},
     "output_type": "execute_result"
    }
   ],
   "source": [
    "lr_learner.train_loop(dl)"
   ]
  },
  {
   "cell_type": "code",
   "execution_count": 24,
   "id": "ca410940",
   "metadata": {
    "execution": {
     "iopub.execute_input": "2021-10-20T10:09:42.026389Z",
     "iopub.status.busy": "2021-10-20T10:09:42.025893Z",
     "iopub.status.idle": "2021-10-20T10:09:42.227751Z",
     "shell.execute_reply": "2021-10-20T10:09:42.227364Z"
    },
    "papermill": {
     "duration": 0.25331,
     "end_time": "2021-10-20T10:09:42.227868",
     "exception": false,
     "start_time": "2021-10-20T10:09:41.974558",
     "status": "completed"
    },
    "tags": []
   },
   "outputs": [
    {
     "data": {
      "text/plain": [
       "<matplotlib.legend.Legend at 0x7f3c6bf7ff28>"
      ]
     },
     "execution_count": 24,
     "metadata": {},
     "output_type": "execute_result"
    },
    {
     "data": {
      "image/png": "[encoded data removed]",
      "text/plain": [
       "<Figure size 1080x720 with 1 Axes>"
      ]
     },
     "metadata": {
      "needs_background": "light"
     },
     "output_type": "display_data"
    }
   ],
   "source": [
    "#comparing the results of NN and LR\n",
    "plt.figure(figsize=(15,10))\n",
    "\n",
    "# Neural Network plots\n",
    "plt.plot(acc_nn.accuracies, 'r-', label = \"Training Accuracies - NN\")\n",
    "plt.plot(acc_nn.test_accuracies, 'g-', label = \"Testing Accuracies - NN\")\n",
    "\n",
    "# Logistic Regression plots\n",
    "plt.plot(acc_lr.accuracies, 'k-', label = \"Training Accuracies - LR\")\n",
    "plt.plot(acc_lr.test_accuracies, 'b-', label = \"Testing Accuracies - LR\")\n",
    "plt.legend()"
   ]
  },
  {
   "cell_type": "markdown",
   "id": "80dfb35c",
   "metadata": {
    "papermill": {
     "duration": 0.038201,
     "end_time": "2021-10-20T10:09:42.304547",
     "exception": false,
     "start_time": "2021-10-20T10:09:42.266346",
     "status": "completed"
    },
    "tags": []
   },
   "source": [
    "#### Plotting the outputs of this layer of the NN.\n"
   ]
  },
  {
   "cell_type": "code",
   "execution_count": 25,
   "id": "45eb2ff5",
   "metadata": {
    "execution": {
     "iopub.execute_input": "2021-10-20T10:09:42.394849Z",
     "iopub.status.busy": "2021-10-20T10:09:42.394320Z",
     "iopub.status.idle": "2021-10-20T10:09:42.409715Z",
     "shell.execute_reply": "2021-10-20T10:09:42.410111Z"
    },
    "papermill": {
     "duration": 0.067581,
     "end_time": "2021-10-20T10:09:42.410252",
     "exception": false,
     "start_time": "2021-10-20T10:09:42.342671",
     "status": "completed"
    },
    "tags": []
   },
   "outputs": [],
   "source": [
    "new_model = Model(layers[:-2])\n",
    "testing_plot = new_model(testing_data_x)"
   ]
  },
  {
   "cell_type": "code",
   "execution_count": 26,
   "id": "4c0a5485",
   "metadata": {
    "execution": {
     "iopub.execute_input": "2021-10-20T10:09:42.510338Z",
     "iopub.status.busy": "2021-10-20T10:09:42.509837Z",
     "iopub.status.idle": "2021-10-20T10:09:42.677805Z",
     "shell.execute_reply": "2021-10-20T10:09:42.677382Z"
    },
    "papermill": {
     "duration": 0.221149,
     "end_time": "2021-10-20T10:09:42.677922",
     "exception": false,
     "start_time": "2021-10-20T10:09:42.456773",
     "status": "completed"
    },
    "tags": []
   },
   "outputs": [
    {
     "data": {
      "text/plain": [
       "Text(0.5, 1.0, 'Outputs')"
      ]
     },
     "execution_count": 26,
     "metadata": {},
     "output_type": "execute_result"
    },
    {
     "data": {
      "image/png": "[encoded data removed]",
      "text/plain": [
       "<Figure size 576x504 with 1 Axes>"
      ]
     },
     "metadata": {
      "needs_background": "light"
     },
     "output_type": "display_data"
    }
   ],
   "source": [
    "# Plotting the scatter plot of points and color coding by class\n",
    "plt.figure(figsize=(8,7))\n",
    "plt.scatter(testing_plot[:,0], testing_plot[:,1], alpha = 0.1, c = y_test.ravel());\n",
    "plt.title('Outputs')"
   ]
  },
  {
   "cell_type": "markdown",
   "id": "a74fcf8f",
   "metadata": {
    "papermill": {
     "duration": 0.03987,
     "end_time": "2021-10-20T10:09:42.758350",
     "exception": false,
     "start_time": "2021-10-20T10:09:42.718480",
     "status": "completed"
    },
    "tags": []
   },
   "source": [
    "Probability contours"
   ]
  },
  {
   "cell_type": "code",
   "execution_count": 27,
   "id": "d0afc8e3",
   "metadata": {
    "execution": {
     "iopub.execute_input": "2021-10-20T10:09:42.841517Z",
     "iopub.status.busy": "2021-10-20T10:09:42.841039Z",
     "iopub.status.idle": "2021-10-20T10:09:42.853702Z",
     "shell.execute_reply": "2021-10-20T10:09:42.853306Z"
    },
    "papermill": {
     "duration": 0.055576,
     "end_time": "2021-10-20T10:09:42.853811",
     "exception": false,
     "start_time": "2021-10-20T10:09:42.798235",
     "status": "completed"
    },
    "tags": []
   },
   "outputs": [],
   "source": [
    "model_prob = Model(layers[-2:]) "
   ]
  },
  {
   "cell_type": "code",
   "execution_count": 28,
   "id": "9b96e238",
   "metadata": {
    "execution": {
     "iopub.execute_input": "2021-10-20T10:09:42.971341Z",
     "iopub.status.busy": "2021-10-20T10:09:42.970862Z",
     "iopub.status.idle": "2021-10-20T10:09:42.989293Z",
     "shell.execute_reply": "2021-10-20T10:09:42.989649Z"
    },
    "papermill": {
     "duration": 0.062842,
     "end_time": "2021-10-20T10:09:42.989795",
     "exception": false,
     "start_time": "2021-10-20T10:09:42.926953",
     "status": "completed"
    },
    "tags": []
   },
   "outputs": [],
   "source": [
    "#creating the x and y ranges according to the above generated plot.\n",
    "x_range = np.linspace(-4, 1, 100) \n",
    "y_range = np.linspace(-6, 6, 100) \n",
    "x_grid, y_grid = np.meshgrid(x_range, y_range) # x_grid and y_grig are of size 100 X 100\n",
    "\n",
    "# converting x_grid and y_grid to continuous arrays\n",
    "x_gridflat = np.ravel(x_grid)\n",
    "y_gridflat = np.ravel(y_grid)\n",
    "\n",
    "# The last layer of the current model takes two columns as input. Hence transpose of np.vstack() is required.\n",
    "X = np.vstack((x_gridflat, y_gridflat)).T\n",
    "\n",
    "prob_contour = model_prob(X).reshape(100,100) "
   ]
  },
  {
   "cell_type": "code",
   "execution_count": 29,
   "id": "da72499a",
   "metadata": {
    "execution": {
     "iopub.execute_input": "2021-10-20T10:09:43.079112Z",
     "iopub.status.busy": "2021-10-20T10:09:43.078626Z",
     "iopub.status.idle": "2021-10-20T10:09:43.312439Z",
     "shell.execute_reply": "2021-10-20T10:09:43.312805Z"
    },
    "papermill": {
     "duration": 0.278596,
     "end_time": "2021-10-20T10:09:43.312957",
     "exception": false,
     "start_time": "2021-10-20T10:09:43.034361",
     "status": "completed"
    },
    "tags": []
   },
   "outputs": [
    {
     "data": {
      "image/png": "[encoded data removed]",
      "text/plain": [
       "<Figure size 720x648 with 1 Axes>"
      ]
     },
     "metadata": {
      "needs_background": "light"
     },
     "output_type": "display_data"
    }
   ],
   "source": [
    "plt.figure(figsize=(10,9))\n",
    "plt.scatter(testing_plot[:,0], testing_plot[:,1], alpha = 0.1, c = y_test.ravel())\n",
    "contours = plt.contour(x_grid,y_grid,prob_contour)\n",
    "plt.title('Probability Contours')\n",
    "plt.clabel(contours, inline = True );"
   ]
  },
  {
   "cell_type": "code",
   "execution_count": null,
   "id": "e81b4ac7",
   "metadata": {
    "papermill": {
     "duration": 0.042002,
     "end_time": "2021-10-20T10:09:43.397374",
     "exception": false,
     "start_time": "2021-10-20T10:09:43.355372",
     "status": "completed"
    },
    "tags": []
   },
   "outputs": [],
   "source": []
  }
 ],
 "metadata": {
  "kernelspec": {
   "display_name": "Python 3",
   "language": "python",
   "name": "python3"
  },
  "language_info": {
   "codemirror_mode": {
    "name": "ipython",
    "version": 3
   },
   "file_extension": ".py",
   "mimetype": "text/x-python",
   "name": "python",
   "nbconvert_exporter": "python",
   "pygments_lexer": "ipython3",
   "version": "3.6.15"
  },
  "papermill": {
   "default_parameters": {},
   "duration": 106.757149,
   "end_time": "2021-10-20T10:09:43.848390",
   "environment_variables": {},
   "exception": null,
   "input_path": "2020-08-11-part2.ipynb",
   "output_path": "2020-08-11-part2.ipynb",
   "parameters": {},
   "start_time": "2021-10-20T10:07:57.091241",
   "version": "2.3.3"
  }
 },
 "nbformat": 4,
 "nbformat_minor": 5
}