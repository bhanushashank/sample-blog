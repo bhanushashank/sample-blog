{
 "cells": [
  {
   "cell_type": "markdown",
   "id": "98380cd3",
   "metadata": {
    "papermill": {
     "duration": 0.032087,
     "end_time": "2022-05-13T00:44:30.017226",
     "exception": false,
     "start_time": "2022-05-13T00:44:29.985139",
     "status": "completed"
    },
    "tags": []
   },
   "source": [
    "# Distinguish Your Own Digits (DYOD)"
   ]
  },
  {
   "cell_type": "markdown",
   "id": "ef31240d",
   "metadata": {
    "papermill": {
     "duration": 0.024136,
     "end_time": "2022-05-13T00:44:30.064548",
     "exception": false,
     "start_time": "2022-05-13T00:44:30.040412",
     "status": "completed"
    },
    "tags": []
   },
   "source": [
    "You are going to write a classifier that distinguishes between the number 3 and number 8."
   ]
  },
  {
   "cell_type": "code",
   "execution_count": 1,
   "id": "b15c8646",
   "metadata": {
    "execution": {
     "iopub.execute_input": "2022-05-13T00:44:30.124203Z",
     "iopub.status.busy": "2022-05-13T00:44:30.120837Z",
     "iopub.status.idle": "2022-05-13T00:44:30.135116Z",
     "shell.execute_reply": "2022-05-13T00:44:30.134580Z"
    },
    "papermill": {
     "duration": 0.047833,
     "end_time": "2022-05-13T00:44:30.135257",
     "exception": false,
     "start_time": "2022-05-13T00:44:30.087424",
     "status": "completed"
    },
    "tags": []
   },
   "outputs": [],
   "source": [
    "%load_ext autoreload\n",
    "%autoreload 2"
   ]
  },
  {
   "cell_type": "code",
   "execution_count": 2,
   "id": "22ef38dc",
   "metadata": {
    "execution": {
     "iopub.execute_input": "2022-05-13T00:44:30.185848Z",
     "iopub.status.busy": "2022-05-13T00:44:30.185251Z",
     "iopub.status.idle": "2022-05-13T00:44:30.732708Z",
     "shell.execute_reply": "2022-05-13T00:44:30.731833Z"
    },
    "papermill": {
     "duration": 0.57455,
     "end_time": "2022-05-13T00:44:30.732927",
     "exception": false,
     "start_time": "2022-05-13T00:44:30.158377",
     "status": "completed"
    },
    "tags": []
   },
   "outputs": [],
   "source": [
    "%matplotlib inline\n",
    "import numpy as np\n",
    "import matplotlib.pyplot as plt\n",
    "import pandas as pd"
   ]
  },
  {
   "cell_type": "markdown",
   "id": "ba036198",
   "metadata": {
    "papermill": {
     "duration": 0.023694,
     "end_time": "2022-05-13T00:44:30.781854",
     "exception": false,
     "start_time": "2022-05-13T00:44:30.758160",
     "status": "completed"
    },
    "tags": []
   },
   "source": [
    "From the command line run `pip install mnist`. This is a library that will help you bring down the mnist dataset. If you run this from a notebook, you need to put  `!pip install mnist` in a cell by itself."
   ]
  },
  {
   "cell_type": "code",
   "execution_count": 3,
   "id": "bb6ad8a1",
   "metadata": {
    "execution": {
     "iopub.execute_input": "2022-05-13T00:44:30.837668Z",
     "iopub.status.busy": "2022-05-13T00:44:30.837008Z",
     "iopub.status.idle": "2022-05-13T00:44:32.598021Z",
     "shell.execute_reply": "2022-05-13T00:44:32.596511Z"
    },
    "papermill": {
     "duration": 1.793564,
     "end_time": "2022-05-13T00:44:32.598251",
     "exception": false,
     "start_time": "2022-05-13T00:44:30.804687",
     "status": "completed"
    },
    "tags": []
   },
   "outputs": [
    {
     "name": "stdout",
     "output_type": "stream",
     "text": [
      "Collecting mnist\r\n",
      "  Downloading mnist-0.2.2-py2.py3-none-any.whl (3.5 kB)\r\n"
     ]
    },
    {
     "name": "stdout",
     "output_type": "stream",
     "text": [
      "Requirement already satisfied: numpy in /opt/hostedtoolcache/Python/3.6.15/x64/lib/python3.6/site-packages (from mnist) (1.19.5)\r\n"
     ]
    },
    {
     "name": "stdout",
     "output_type": "stream",
     "text": [
      "Installing collected packages: mnist\r\n"
     ]
    },
    {
     "name": "stdout",
     "output_type": "stream",
     "text": [
      "Successfully installed mnist-0.2.2\r\n"
     ]
    }
   ],
   "source": [
    "!pip install mnist"
   ]
  },
  {
   "cell_type": "markdown",
   "id": "69df9c9a",
   "metadata": {
    "papermill": {
     "duration": 0.026825,
     "end_time": "2022-05-13T00:44:32.656188",
     "exception": false,
     "start_time": "2022-05-13T00:44:32.629363",
     "status": "completed"
    },
    "tags": []
   },
   "source": [
    "## Preparing the Data"
   ]
  },
  {
   "cell_type": "code",
   "execution_count": 4,
   "id": "7f69d806",
   "metadata": {
    "execution": {
     "iopub.execute_input": "2022-05-13T00:44:32.714666Z",
     "iopub.status.busy": "2022-05-13T00:44:32.714064Z",
     "iopub.status.idle": "2022-05-13T00:44:32.729090Z",
     "shell.execute_reply": "2022-05-13T00:44:32.729598Z"
    },
    "papermill": {
     "duration": 0.047031,
     "end_time": "2022-05-13T00:44:32.729741",
     "exception": false,
     "start_time": "2022-05-13T00:44:32.682710",
     "status": "completed"
    },
    "tags": []
   },
   "outputs": [],
   "source": [
    "import mnist"
   ]
  },
  {
   "cell_type": "code",
   "execution_count": 5,
   "id": "a411e44f",
   "metadata": {
    "execution": {
     "iopub.execute_input": "2022-05-13T00:44:32.787881Z",
     "iopub.status.busy": "2022-05-13T00:44:32.787258Z",
     "iopub.status.idle": "2022-05-13T00:44:33.307816Z",
     "shell.execute_reply": "2022-05-13T00:44:33.306925Z"
    },
    "papermill": {
     "duration": 0.551487,
     "end_time": "2022-05-13T00:44:33.308041",
     "exception": false,
     "start_time": "2022-05-13T00:44:32.756554",
     "status": "completed"
    },
    "tags": []
   },
   "outputs": [],
   "source": [
    "train_images = mnist.train_images()\n",
    "train_labels = mnist.train_labels()"
   ]
  },
  {
   "cell_type": "code",
   "execution_count": 6,
   "id": "dceab3a5",
   "metadata": {
    "execution": {
     "iopub.execute_input": "2022-05-13T00:44:33.364707Z",
     "iopub.status.busy": "2022-05-13T00:44:33.364123Z",
     "iopub.status.idle": "2022-05-13T00:44:33.379095Z",
     "shell.execute_reply": "2022-05-13T00:44:33.378708Z"
    },
    "papermill": {
     "duration": 0.043678,
     "end_time": "2022-05-13T00:44:33.379202",
     "exception": false,
     "start_time": "2022-05-13T00:44:33.335524",
     "status": "completed"
    },
    "tags": []
   },
   "outputs": [
    {
     "data": {
      "text/plain": [
       "((60000, 28, 28), (60000,))"
      ]
     },
     "execution_count": 6,
     "metadata": {},
     "output_type": "execute_result"
    }
   ],
   "source": [
    "train_images.shape, train_labels.shape"
   ]
  },
  {
   "cell_type": "code",
   "execution_count": 7,
   "id": "f50dc2bb",
   "metadata": {
    "execution": {
     "iopub.execute_input": "2022-05-13T00:44:33.435837Z",
     "iopub.status.busy": "2022-05-13T00:44:33.435291Z",
     "iopub.status.idle": "2022-05-13T00:44:33.568168Z",
     "shell.execute_reply": "2022-05-13T00:44:33.567742Z"
    },
    "papermill": {
     "duration": 0.163603,
     "end_time": "2022-05-13T00:44:33.568272",
     "exception": false,
     "start_time": "2022-05-13T00:44:33.404669",
     "status": "completed"
    },
    "tags": []
   },
   "outputs": [],
   "source": [
    "test_images = mnist.test_images()\n",
    "test_labels = mnist.test_labels()"
   ]
  },
  {
   "cell_type": "code",
   "execution_count": 8,
   "id": "fc38cf1b",
   "metadata": {
    "execution": {
     "iopub.execute_input": "2022-05-13T00:44:33.623746Z",
     "iopub.status.busy": "2022-05-13T00:44:33.623194Z",
     "iopub.status.idle": "2022-05-13T00:44:33.636668Z",
     "shell.execute_reply": "2022-05-13T00:44:33.636222Z"
    },
    "papermill": {
     "duration": 0.042584,
     "end_time": "2022-05-13T00:44:33.636791",
     "exception": false,
     "start_time": "2022-05-13T00:44:33.594207",
     "status": "completed"
    },
    "tags": []
   },
   "outputs": [
    {
     "data": {
      "text/plain": [
       "((10000, 28, 28), (10000,))"
      ]
     },
     "execution_count": 8,
     "metadata": {},
     "output_type": "execute_result"
    }
   ],
   "source": [
    "test_images.shape, test_labels.shape"
   ]
  },
  {
   "cell_type": "code",
   "execution_count": 9,
   "id": "f9ed8fe0",
   "metadata": {
    "execution": {
     "iopub.execute_input": "2022-05-13T00:44:33.693302Z",
     "iopub.status.busy": "2022-05-13T00:44:33.692729Z",
     "iopub.status.idle": "2022-05-13T00:44:33.841233Z",
     "shell.execute_reply": "2022-05-13T00:44:33.841866Z"
    },
    "papermill": {
     "duration": 0.181374,
     "end_time": "2022-05-13T00:44:33.842058",
     "exception": false,
     "start_time": "2022-05-13T00:44:33.660684",
     "status": "completed"
    },
    "tags": []
   },
   "outputs": [
    {
     "name": "stdout",
     "output_type": "stream",
     "text": [
      "2\n"
     ]
    },
    {
     "data": {
      "text/plain": [
       "<matplotlib.image.AxesImage at 0x7f39a198e518>"
      ]
     },
     "execution_count": 9,
     "metadata": {},
     "output_type": "execute_result"
    },
    {
     "data": {
      "image/png": "[encoded data removed]",
      "text/plain": [
       "<Figure size 432x288 with 1 Axes>"
      ]
     },
     "metadata": {
      "needs_background": "light"
     },
     "output_type": "display_data"
    }
   ],
   "source": [
    "image_index = 7776 # You may select anything up to 60,000\n",
    "print(train_labels[image_index]) \n",
    "plt.imshow(train_images[image_index], cmap='Greys')"
   ]
  },
  {
   "cell_type": "markdown",
   "id": "a8d2388d",
   "metadata": {
    "papermill": {
     "duration": 0.028005,
     "end_time": "2022-05-13T00:44:33.898913",
     "exception": false,
     "start_time": "2022-05-13T00:44:33.870908",
     "status": "completed"
    },
    "tags": []
   },
   "source": [
    "## Filter data to get 3 and 8 out"
   ]
  },
  {
   "cell_type": "code",
   "execution_count": 10,
   "id": "776f7fc7",
   "metadata": {
    "execution": {
     "iopub.execute_input": "2022-05-13T00:44:33.965454Z",
     "iopub.status.busy": "2022-05-13T00:44:33.964691Z",
     "iopub.status.idle": "2022-05-13T00:44:33.984555Z",
     "shell.execute_reply": "2022-05-13T00:44:33.984068Z"
    },
    "papermill": {
     "duration": 0.054542,
     "end_time": "2022-05-13T00:44:33.984683",
     "exception": false,
     "start_time": "2022-05-13T00:44:33.930141",
     "status": "completed"
    },
    "tags": []
   },
   "outputs": [],
   "source": [
    "train_filter = np.where((train_labels == 3 ) | (train_labels == 8))\n",
    "test_filter = np.where((test_labels == 3) | (test_labels == 8))\n",
    "X_train, y_train = train_images[train_filter], train_labels[train_filter]\n",
    "X_test, y_test = test_images[test_filter], test_labels[test_filter]"
   ]
  },
  {
   "cell_type": "markdown",
   "id": "948f0b7e",
   "metadata": {
    "papermill": {
     "duration": 0.028861,
     "end_time": "2022-05-13T00:44:34.048082",
     "exception": false,
     "start_time": "2022-05-13T00:44:34.019221",
     "status": "completed"
    },
    "tags": []
   },
   "source": [
    "We normalize the pizel values in the 0 to 1 range"
   ]
  },
  {
   "cell_type": "code",
   "execution_count": 11,
   "id": "ee4c2166",
   "metadata": {
    "execution": {
     "iopub.execute_input": "2022-05-13T00:44:34.111122Z",
     "iopub.status.busy": "2022-05-13T00:44:34.110540Z",
     "iopub.status.idle": "2022-05-13T00:44:34.164540Z",
     "shell.execute_reply": "2022-05-13T00:44:34.163681Z"
    },
    "papermill": {
     "duration": 0.08779,
     "end_time": "2022-05-13T00:44:34.164759",
     "exception": false,
     "start_time": "2022-05-13T00:44:34.076969",
     "status": "completed"
    },
    "tags": []
   },
   "outputs": [],
   "source": [
    "X_train = X_train/255.\n",
    "X_test = X_test/255."
   ]
  },
  {
   "cell_type": "markdown",
   "id": "ddcf4fab",
   "metadata": {
    "papermill": {
     "duration": 0.028611,
     "end_time": "2022-05-13T00:44:34.222823",
     "exception": false,
     "start_time": "2022-05-13T00:44:34.194212",
     "status": "completed"
    },
    "tags": []
   },
   "source": [
    "And setup the labels as 1 (when the digit is 3) and 0 (when the digit is 8)"
   ]
  },
  {
   "cell_type": "code",
   "execution_count": 12,
   "id": "7dc908f2",
   "metadata": {
    "execution": {
     "iopub.execute_input": "2022-05-13T00:44:34.284813Z",
     "iopub.status.busy": "2022-05-13T00:44:34.284227Z",
     "iopub.status.idle": "2022-05-13T00:44:34.301698Z",
     "shell.execute_reply": "2022-05-13T00:44:34.302184Z"
    },
    "papermill": {
     "duration": 0.050018,
     "end_time": "2022-05-13T00:44:34.302335",
     "exception": false,
     "start_time": "2022-05-13T00:44:34.252317",
     "status": "completed"
    },
    "tags": []
   },
   "outputs": [],
   "source": [
    "y_train = 1*(y_train==3)\n",
    "y_test = 1*(y_test==3)"
   ]
  },
  {
   "cell_type": "code",
   "execution_count": 13,
   "id": "01e4e969",
   "metadata": {
    "execution": {
     "iopub.execute_input": "2022-05-13T00:44:34.364215Z",
     "iopub.status.busy": "2022-05-13T00:44:34.363634Z",
     "iopub.status.idle": "2022-05-13T00:44:34.379896Z",
     "shell.execute_reply": "2022-05-13T00:44:34.379384Z"
    },
    "papermill": {
     "duration": 0.048494,
     "end_time": "2022-05-13T00:44:34.380010",
     "exception": false,
     "start_time": "2022-05-13T00:44:34.331516",
     "status": "completed"
    },
    "tags": []
   },
   "outputs": [
    {
     "data": {
      "text/plain": [
       "((11982, 28, 28), (1984, 28, 28))"
      ]
     },
     "execution_count": 13,
     "metadata": {},
     "output_type": "execute_result"
    }
   ],
   "source": [
    "X_train.shape, X_test.shape"
   ]
  },
  {
   "cell_type": "markdown",
   "id": "5ccf3f85",
   "metadata": {
    "papermill": {
     "duration": 0.029775,
     "end_time": "2022-05-13T00:44:34.439729",
     "exception": false,
     "start_time": "2022-05-13T00:44:34.409954",
     "status": "completed"
    },
    "tags": []
   },
   "source": [
    "We reshape the data to flatten the image pixels into a set of features or co-variates:"
   ]
  },
  {
   "cell_type": "code",
   "execution_count": 14,
   "id": "5286a4a3",
   "metadata": {
    "execution": {
     "iopub.execute_input": "2022-05-13T00:44:34.500924Z",
     "iopub.status.busy": "2022-05-13T00:44:34.500298Z",
     "iopub.status.idle": "2022-05-13T00:44:34.515648Z",
     "shell.execute_reply": "2022-05-13T00:44:34.515990Z"
    },
    "papermill": {
     "duration": 0.04732,
     "end_time": "2022-05-13T00:44:34.516106",
     "exception": false,
     "start_time": "2022-05-13T00:44:34.468786",
     "status": "completed"
    },
    "tags": []
   },
   "outputs": [
    {
     "data": {
      "text/plain": [
       "((11982, 784), (1984, 784))"
      ]
     },
     "execution_count": 14,
     "metadata": {},
     "output_type": "execute_result"
    }
   ],
   "source": [
    "X_train = X_train.reshape(X_train.shape[0], -1)\n",
    "X_test = X_test.reshape(X_test.shape[0], -1)\n",
    "X_train.shape, X_test.shape"
   ]
  },
  {
   "cell_type": "code",
   "execution_count": 15,
   "id": "73c5f88a",
   "metadata": {
    "execution": {
     "iopub.execute_input": "2022-05-13T00:44:34.586925Z",
     "iopub.status.busy": "2022-05-13T00:44:34.586327Z",
     "iopub.status.idle": "2022-05-13T00:44:34.606365Z",
     "shell.execute_reply": "2022-05-13T00:44:34.605890Z"
    },
    "papermill": {
     "duration": 0.058398,
     "end_time": "2022-05-13T00:44:34.606490",
     "exception": false,
     "start_time": "2022-05-13T00:44:34.548092",
     "status": "completed"
    },
    "tags": []
   },
   "outputs": [],
   "source": [
    "#Impoting functions from 'Kudzu'\n",
    "from kudzu.model import Model\n",
    "from kudzu.train import Learner\n",
    "from kudzu.optim import GD\n",
    "from kudzu.data import Data, Sampler,Dataloader\n",
    "\n",
    "from kudzu.callbacks import AccCallback\n",
    "from kudzu.callbacks import ClfCallback\n",
    "\n",
    "from kudzu.loss import MSE\n",
    "\n",
    "from kudzu.layer import Sigmoid,Relu\n",
    "from kudzu.layer import Affine"
   ]
  },
  {
   "cell_type": "markdown",
   "id": "bc01172a",
   "metadata": {
    "papermill": {
     "duration": 0.02806,
     "end_time": "2022-05-13T00:44:34.663346",
     "exception": false,
     "start_time": "2022-05-13T00:44:34.635286",
     "status": "completed"
    },
    "tags": []
   },
   "source": [
    "### Let us create a `Config` class, to store important parameters. \n",
    "This class essentially plays the role of a dictionary."
   ]
  },
  {
   "cell_type": "code",
   "execution_count": 16,
   "id": "978281aa",
   "metadata": {
    "execution": {
     "iopub.execute_input": "2022-05-13T00:44:34.727540Z",
     "iopub.status.busy": "2022-05-13T00:44:34.726917Z",
     "iopub.status.idle": "2022-05-13T00:44:34.740599Z",
     "shell.execute_reply": "2022-05-13T00:44:34.740086Z"
    },
    "papermill": {
     "duration": 0.049283,
     "end_time": "2022-05-13T00:44:34.740723",
     "exception": false,
     "start_time": "2022-05-13T00:44:34.691440",
     "status": "completed"
    },
    "tags": []
   },
   "outputs": [],
   "source": [
    "class Config:\n",
    "    pass\n",
    "config = Config()\n",
    "config.lr = 0.001\n",
    "config.num_epochs = 250\n",
    "config.bs = 50"
   ]
  },
  {
   "cell_type": "markdown",
   "id": "1385fa59",
   "metadata": {
    "papermill": {
     "duration": 0.02917,
     "end_time": "2022-05-13T00:44:34.799187",
     "exception": false,
     "start_time": "2022-05-13T00:44:34.770017",
     "status": "completed"
    },
    "tags": []
   },
   "source": [
    "### Running Models with the Training data\n",
    "Details about the network layers:\n",
    "- A first affine layer has 784 inputs and does 100 affine transforms. These are followed by a Relu\n",
    "- A second affine layer has 100 inputs from the 100 activations of the past layer, and does 100 affine transforms. These are followed by a Relu\n",
    "- A third affine layer has 100 activations and does 2 affine transformations to create an embedding for visualization. There is no non-linearity here.\n",
    "- A final \"logistic regression\" which has an affine transform from 2 inputs to 1 output, which is squeezed through a sigmoid.\n"
   ]
  },
  {
   "cell_type": "code",
   "execution_count": 17,
   "id": "2b9c66db",
   "metadata": {
    "execution": {
     "iopub.execute_input": "2022-05-13T00:44:34.868869Z",
     "iopub.status.busy": "2022-05-13T00:44:34.868269Z",
     "iopub.status.idle": "2022-05-13T00:44:34.883553Z",
     "shell.execute_reply": "2022-05-13T00:44:34.883037Z"
    },
    "papermill": {
     "duration": 0.050533,
     "end_time": "2022-05-13T00:44:34.883678",
     "exception": false,
     "start_time": "2022-05-13T00:44:34.833145",
     "status": "completed"
    },
    "tags": []
   },
   "outputs": [],
   "source": [
    "data = Data(X_train, y_train.reshape(-1,1))\n",
    "sampler = Sampler(data, config.bs, shuffle=True)\n",
    "\n",
    "dl = Dataloader(data, sampler)\n",
    "\n",
    "opt = GD(config.lr)\n",
    "loss = MSE()"
   ]
  },
  {
   "cell_type": "code",
   "execution_count": 18,
   "id": "b275e4c2",
   "metadata": {
    "execution": {
     "iopub.execute_input": "2022-05-13T00:44:34.953431Z",
     "iopub.status.busy": "2022-05-13T00:44:34.952343Z",
     "iopub.status.idle": "2022-05-13T00:44:34.964325Z",
     "shell.execute_reply": "2022-05-13T00:44:34.963896Z"
    },
    "papermill": {
     "duration": 0.046394,
     "end_time": "2022-05-13T00:44:34.964445",
     "exception": false,
     "start_time": "2022-05-13T00:44:34.918051",
     "status": "completed"
    },
    "tags": []
   },
   "outputs": [],
   "source": [
    "training_data_x = X_train\n",
    "testing_data_x = X_test\n",
    "training_data_y = y_train.reshape(-1,1)\n",
    "testing_data_y = y_test.reshape(-1,1)"
   ]
  },
  {
   "cell_type": "code",
   "execution_count": 19,
   "id": "76951160",
   "metadata": {
    "execution": {
     "iopub.execute_input": "2022-05-13T00:44:35.027876Z",
     "iopub.status.busy": "2022-05-13T00:44:35.027311Z",
     "iopub.status.idle": "2022-05-13T00:44:35.044251Z",
     "shell.execute_reply": "2022-05-13T00:44:35.044752Z"
    },
    "papermill": {
     "duration": 0.054303,
     "end_time": "2022-05-13T00:44:35.044895",
     "exception": false,
     "start_time": "2022-05-13T00:44:34.990592",
     "status": "completed"
    },
    "tags": []
   },
   "outputs": [
    {
     "name": "stdout",
     "output_type": "stream",
     "text": [
      "xavier\n",
      "xavier\n",
      "xavier\n",
      "xavier\n",
      "xavier\n"
     ]
    }
   ],
   "source": [
    "layers = [Affine(\"first\", 784, 100), Relu(\"first\"), Affine(\"second\", 100, 100), Relu(\"second\"), Affine(\"third\", 100, 2), Affine(\"last\", 2, 1), Sigmoid(\"last\")]\n",
    "model_nn = Model(layers)\n",
    "model_lr = Model([Affine(\"logits\", 784, 1), Sigmoid(\"sigmoid\")])"
   ]
  },
  {
   "cell_type": "code",
   "execution_count": 20,
   "id": "6eede77a",
   "metadata": {
    "execution": {
     "iopub.execute_input": "2022-05-13T00:44:35.105078Z",
     "iopub.status.busy": "2022-05-13T00:44:35.104482Z",
     "iopub.status.idle": "2022-05-13T00:44:35.119242Z",
     "shell.execute_reply": "2022-05-13T00:44:35.118778Z"
    },
    "papermill": {
     "duration": 0.046533,
     "end_time": "2022-05-13T00:44:35.119365",
     "exception": false,
     "start_time": "2022-05-13T00:44:35.072832",
     "status": "completed"
    },
    "tags": []
   },
   "outputs": [],
   "source": [
    "nn_learner = Learner(loss, model_nn, opt, config.num_epochs)\n",
    "acc_nn = ClfCallback(nn_learner, config.bs, training_data_x , testing_data_x, training_data_y, testing_data_y)\n",
    "nn_learner.set_callbacks([acc_nn])"
   ]
  },
  {
   "cell_type": "code",
   "execution_count": 21,
   "id": "877b6cc7",
   "metadata": {
    "execution": {
     "iopub.execute_input": "2022-05-13T00:44:35.183390Z",
     "iopub.status.busy": "2022-05-13T00:44:35.182845Z",
     "iopub.status.idle": "2022-05-13T00:44:35.194315Z",
     "shell.execute_reply": "2022-05-13T00:44:35.194761Z"
    },
    "papermill": {
     "duration": 0.048995,
     "end_time": "2022-05-13T00:44:35.194911",
     "exception": false,
     "start_time": "2022-05-13T00:44:35.145916",
     "status": "completed"
    },
    "tags": []
   },
   "outputs": [],
   "source": [
    "lr_learner = Learner(loss, model_lr, opt, config.num_epochs)\n",
    "acc_lr = ClfCallback(lr_learner, config.bs, training_data_x , testing_data_x, training_data_y, testing_data_y)\n",
    "lr_learner.set_callbacks([acc_lr])"
   ]
  },
  {
   "cell_type": "code",
   "execution_count": 22,
   "id": "d9b133c3",
   "metadata": {
    "execution": {
     "iopub.execute_input": "2022-05-13T00:44:35.263340Z",
     "iopub.status.busy": "2022-05-13T00:44:35.262781Z",
     "iopub.status.idle": "2022-05-13T00:45:56.599957Z",
     "shell.execute_reply": "2022-05-13T00:45:56.600796Z"
    },
    "papermill": {
     "duration": 81.372668,
     "end_time": "2022-05-13T00:45:56.600953",
     "exception": false,
     "start_time": "2022-05-13T00:44:35.228285",
     "status": "completed"
    },
    "tags": []
   },
   "outputs": [
    {
     "name": "stdout",
     "output_type": "stream",
     "text": [
      "Epoch 0, Loss 0.2494\n",
      "Training Accuracy: 0.4949, Testing Accuracy: 0.4940\n",
      "\n"
     ]
    },
    {
     "name": "stdout",
     "output_type": "stream",
     "text": [
      "Epoch 10, Loss 0.2392\n",
      "Training Accuracy: 0.7232, Testing Accuracy: 0.7424\n",
      "\n"
     ]
    },
    {
     "name": "stdout",
     "output_type": "stream",
     "text": [
      "Epoch 20, Loss 0.2016\n",
      "Training Accuracy: 0.8546, Testing Accuracy: 0.8750\n",
      "\n"
     ]
    },
    {
     "name": "stdout",
     "output_type": "stream",
     "text": [
      "Epoch 30, Loss 0.1092\n",
      "Training Accuracy: 0.9084, Testing Accuracy: 0.9219\n",
      "\n"
     ]
    },
    {
     "name": "stdout",
     "output_type": "stream",
     "text": [
      "Epoch 40, Loss 0.0657\n",
      "Training Accuracy: 0.9326, Testing Accuracy: 0.9466\n",
      "\n"
     ]
    },
    {
     "name": "stdout",
     "output_type": "stream",
     "text": [
      "Epoch 50, Loss 0.05\n",
      "Training Accuracy: 0.9458, Testing Accuracy: 0.9572\n",
      "\n"
     ]
    },
    {
     "name": "stdout",
     "output_type": "stream",
     "text": [
      "Epoch 60, Loss 0.0424\n",
      "Training Accuracy: 0.9524, Testing Accuracy: 0.9602\n",
      "\n"
     ]
    },
    {
     "name": "stdout",
     "output_type": "stream",
     "text": [
      "Epoch 70, Loss 0.0379\n",
      "Training Accuracy: 0.9564, Testing Accuracy: 0.9632\n",
      "\n"
     ]
    },
    {
     "name": "stdout",
     "output_type": "stream",
     "text": [
      "Epoch 80, Loss 0.035\n",
      "Training Accuracy: 0.9596, Testing Accuracy: 0.9657\n",
      "\n"
     ]
    },
    {
     "name": "stdout",
     "output_type": "stream",
     "text": [
      "Epoch 90, Loss 0.0329\n",
      "Training Accuracy: 0.9617, Testing Accuracy: 0.9682\n",
      "\n"
     ]
    },
    {
     "name": "stdout",
     "output_type": "stream",
     "text": [
      "Epoch 100, Loss 0.0313\n",
      "Training Accuracy: 0.9631, Testing Accuracy: 0.9698\n",
      "\n"
     ]
    },
    {
     "name": "stdout",
     "output_type": "stream",
     "text": [
      "Epoch 110, Loss 0.0299\n",
      "Training Accuracy: 0.9644, Testing Accuracy: 0.9718\n",
      "\n"
     ]
    },
    {
     "name": "stdout",
     "output_type": "stream",
     "text": [
      "Epoch 120, Loss 0.0288\n",
      "Training Accuracy: 0.9658, Testing Accuracy: 0.9723\n",
      "\n"
     ]
    },
    {
     "name": "stdout",
     "output_type": "stream",
     "text": [
      "Epoch 130, Loss 0.0278\n",
      "Training Accuracy: 0.9671, Testing Accuracy: 0.9728\n",
      "\n"
     ]
    },
    {
     "name": "stdout",
     "output_type": "stream",
     "text": [
      "Epoch 140, Loss 0.027\n",
      "Training Accuracy: 0.9677, Testing Accuracy: 0.9738\n",
      "\n"
     ]
    },
    {
     "name": "stdout",
     "output_type": "stream",
     "text": [
      "Epoch 150, Loss 0.0262\n",
      "Training Accuracy: 0.9685, Testing Accuracy: 0.9733\n",
      "\n"
     ]
    },
    {
     "name": "stdout",
     "output_type": "stream",
     "text": [
      "Epoch 160, Loss 0.0255\n",
      "Training Accuracy: 0.9692, Testing Accuracy: 0.9728\n",
      "\n"
     ]
    },
    {
     "name": "stdout",
     "output_type": "stream",
     "text": [
      "Epoch 170, Loss 0.0249\n",
      "Training Accuracy: 0.9701, Testing Accuracy: 0.9733\n",
      "\n"
     ]
    },
    {
     "name": "stdout",
     "output_type": "stream",
     "text": [
      "Epoch 180, Loss 0.0243\n",
      "Training Accuracy: 0.9710, Testing Accuracy: 0.9728\n",
      "\n"
     ]
    },
    {
     "name": "stdout",
     "output_type": "stream",
     "text": [
      "Epoch 190, Loss 0.0238\n",
      "Training Accuracy: 0.9715, Testing Accuracy: 0.9728\n",
      "\n"
     ]
    },
    {
     "name": "stdout",
     "output_type": "stream",
     "text": [
      "Epoch 200, Loss 0.0232\n",
      "Training Accuracy: 0.9718, Testing Accuracy: 0.9733\n",
      "\n"
     ]
    },
    {
     "name": "stdout",
     "output_type": "stream",
     "text": [
      "Epoch 210, Loss 0.0227\n",
      "Training Accuracy: 0.9725, Testing Accuracy: 0.9738\n",
      "\n"
     ]
    },
    {
     "name": "stdout",
     "output_type": "stream",
     "text": [
      "Epoch 220, Loss 0.0223\n",
      "Training Accuracy: 0.9735, Testing Accuracy: 0.9743\n",
      "\n"
     ]
    },
    {
     "name": "stdout",
     "output_type": "stream",
     "text": [
      "Epoch 230, Loss 0.0218\n",
      "Training Accuracy: 0.9743, Testing Accuracy: 0.9738\n",
      "\n"
     ]
    },
    {
     "name": "stdout",
     "output_type": "stream",
     "text": [
      "Epoch 240, Loss 0.0214\n",
      "Training Accuracy: 0.9747, Testing Accuracy: 0.9738\n",
      "\n"
     ]
    },
    {
     "data": {
      "text/plain": [
       "0.0023304617375667336"
      ]
     },
     "execution_count": 22,
     "metadata": {},
     "output_type": "execute_result"
    }
   ],
   "source": [
    "nn_learner.train_loop(dl)"
   ]
  },
  {
   "cell_type": "code",
   "execution_count": 23,
   "id": "e0163366",
   "metadata": {
    "execution": {
     "iopub.execute_input": "2022-05-13T00:45:56.683290Z",
     "iopub.status.busy": "2022-05-13T00:45:56.682667Z",
     "iopub.status.idle": "2022-05-13T00:46:10.846431Z",
     "shell.execute_reply": "2022-05-13T00:46:10.847109Z"
    },
    "papermill": {
     "duration": 14.208804,
     "end_time": "2022-05-13T00:46:10.847255",
     "exception": false,
     "start_time": "2022-05-13T00:45:56.638451",
     "status": "completed"
    },
    "tags": []
   },
   "outputs": [
    {
     "name": "stdout",
     "output_type": "stream",
     "text": [
      "Epoch 0, Loss 0.2764\n",
      "Training Accuracy: 0.5088, Testing Accuracy: 0.5171\n",
      "\n"
     ]
    },
    {
     "name": "stdout",
     "output_type": "stream",
     "text": [
      "Epoch 10, Loss 0.1011\n",
      "Training Accuracy: 0.9226, Testing Accuracy: 0.9335\n",
      "\n"
     ]
    },
    {
     "name": "stdout",
     "output_type": "stream",
     "text": [
      "Epoch 20, Loss 0.0764\n",
      "Training Accuracy: 0.9360, Testing Accuracy: 0.9435\n",
      "\n"
     ]
    },
    {
     "name": "stdout",
     "output_type": "stream",
     "text": [
      "Epoch 30, Loss 0.0658\n",
      "Training Accuracy: 0.9422, Testing Accuracy: 0.9511\n",
      "\n"
     ]
    },
    {
     "name": "stdout",
     "output_type": "stream",
     "text": [
      "Epoch 40, Loss 0.0596\n",
      "Training Accuracy: 0.9460, Testing Accuracy: 0.9551\n",
      "\n"
     ]
    },
    {
     "name": "stdout",
     "output_type": "stream",
     "text": [
      "Epoch 50, Loss 0.0555\n",
      "Training Accuracy: 0.9486, Testing Accuracy: 0.9582\n",
      "\n"
     ]
    },
    {
     "name": "stdout",
     "output_type": "stream",
     "text": [
      "Epoch 60, Loss 0.0524\n",
      "Training Accuracy: 0.9503, Testing Accuracy: 0.9607\n",
      "\n"
     ]
    },
    {
     "name": "stdout",
     "output_type": "stream",
     "text": [
      "Epoch 70, Loss 0.05\n",
      "Training Accuracy: 0.9519, Testing Accuracy: 0.9622\n",
      "\n"
     ]
    },
    {
     "name": "stdout",
     "output_type": "stream",
     "text": [
      "Epoch 80, Loss 0.0481\n",
      "Training Accuracy: 0.9530, Testing Accuracy: 0.9647\n",
      "\n"
     ]
    },
    {
     "name": "stdout",
     "output_type": "stream",
     "text": [
      "Epoch 90, Loss 0.0466\n",
      "Training Accuracy: 0.9540, Testing Accuracy: 0.9657\n",
      "\n"
     ]
    },
    {
     "name": "stdout",
     "output_type": "stream",
     "text": [
      "Epoch 100, Loss 0.0452\n",
      "Training Accuracy: 0.9545, Testing Accuracy: 0.9662\n",
      "\n"
     ]
    },
    {
     "name": "stdout",
     "output_type": "stream",
     "text": [
      "Epoch 110, Loss 0.0441\n",
      "Training Accuracy: 0.9553, Testing Accuracy: 0.9662\n",
      "\n"
     ]
    },
    {
     "name": "stdout",
     "output_type": "stream",
     "text": [
      "Epoch 120, Loss 0.0431\n",
      "Training Accuracy: 0.9557, Testing Accuracy: 0.9662\n",
      "\n"
     ]
    },
    {
     "name": "stdout",
     "output_type": "stream",
     "text": [
      "Epoch 130, Loss 0.0422\n",
      "Training Accuracy: 0.9563, Testing Accuracy: 0.9667\n",
      "\n"
     ]
    },
    {
     "name": "stdout",
     "output_type": "stream",
     "text": [
      "Epoch 140, Loss 0.0414\n",
      "Training Accuracy: 0.9572, Testing Accuracy: 0.9672\n",
      "\n"
     ]
    },
    {
     "name": "stdout",
     "output_type": "stream",
     "text": [
      "Epoch 150, Loss 0.0407\n",
      "Training Accuracy: 0.9578, Testing Accuracy: 0.9667\n",
      "\n"
     ]
    },
    {
     "name": "stdout",
     "output_type": "stream",
     "text": [
      "Epoch 160, Loss 0.0401\n",
      "Training Accuracy: 0.9580, Testing Accuracy: 0.9672\n",
      "\n"
     ]
    },
    {
     "name": "stdout",
     "output_type": "stream",
     "text": [
      "Epoch 170, Loss 0.0395\n",
      "Training Accuracy: 0.9585, Testing Accuracy: 0.9677\n",
      "\n"
     ]
    },
    {
     "name": "stdout",
     "output_type": "stream",
     "text": [
      "Epoch 180, Loss 0.0389\n",
      "Training Accuracy: 0.9589, Testing Accuracy: 0.9682\n",
      "\n"
     ]
    },
    {
     "name": "stdout",
     "output_type": "stream",
     "text": [
      "Epoch 190, Loss 0.0385\n",
      "Training Accuracy: 0.9592, Testing Accuracy: 0.9688\n",
      "\n"
     ]
    },
    {
     "name": "stdout",
     "output_type": "stream",
     "text": [
      "Epoch 200, Loss 0.038\n",
      "Training Accuracy: 0.9599, Testing Accuracy: 0.9693\n",
      "\n"
     ]
    },
    {
     "name": "stdout",
     "output_type": "stream",
     "text": [
      "Epoch 210, Loss 0.0376\n",
      "Training Accuracy: 0.9602, Testing Accuracy: 0.9693\n",
      "\n"
     ]
    },
    {
     "name": "stdout",
     "output_type": "stream",
     "text": [
      "Epoch 220, Loss 0.0372\n",
      "Training Accuracy: 0.9604, Testing Accuracy: 0.9698\n",
      "\n"
     ]
    },
    {
     "name": "stdout",
     "output_type": "stream",
     "text": [
      "Epoch 230, Loss 0.0368\n",
      "Training Accuracy: 0.9609, Testing Accuracy: 0.9698\n",
      "\n"
     ]
    },
    {
     "name": "stdout",
     "output_type": "stream",
     "text": [
      "Epoch 240, Loss 0.0365\n",
      "Training Accuracy: 0.9613, Testing Accuracy: 0.9703\n",
      "\n"
     ]
    },
    {
     "data": {
      "text/plain": [
       "0.02685268005674308"
      ]
     },
     "execution_count": 23,
     "metadata": {},
     "output_type": "execute_result"
    }
   ],
   "source": [
    "lr_learner.train_loop(dl)"
   ]
  },
  {
   "cell_type": "code",
   "execution_count": 24,
   "id": "ca410940",
   "metadata": {
    "execution": {
     "iopub.execute_input": "2022-05-13T00:46:10.938607Z",
     "iopub.status.busy": "2022-05-13T00:46:10.938113Z",
     "iopub.status.idle": "2022-05-13T00:46:11.168192Z",
     "shell.execute_reply": "2022-05-13T00:46:11.168592Z"
    },
    "papermill": {
     "duration": 0.281857,
     "end_time": "2022-05-13T00:46:11.168735",
     "exception": false,
     "start_time": "2022-05-13T00:46:10.886878",
     "status": "completed"
    },
    "tags": []
   },
   "outputs": [
    {
     "data": {
      "text/plain": [
       "<matplotlib.legend.Legend at 0x7f39a156cc18>"
      ]
     },
     "execution_count": 24,
     "metadata": {},
     "output_type": "execute_result"
    },
    {
     "data": {
      "image/png": "[encoded data removed]",
      "text/plain": [
       "<Figure size 1080x720 with 1 Axes>"
      ]
     },
     "metadata": {
      "needs_background": "light"
     },
     "output_type": "display_data"
    }
   ],
   "source": [
    "#comparing the results of NN and LR\n",
    "plt.figure(figsize=(15,10))\n",
    "\n",
    "# Neural Network plots\n",
    "plt.plot(acc_nn.accuracies, 'r-', label = \"Training Accuracies - NN\")\n",
    "plt.plot(acc_nn.test_accuracies, 'g-', label = \"Testing Accuracies - NN\")\n",
    "\n",
    "# Logistic Regression plots\n",
    "plt.plot(acc_lr.accuracies, 'k-', label = \"Training Accuracies - LR\")\n",
    "plt.plot(acc_lr.test_accuracies, 'b-', label = \"Testing Accuracies - LR\")\n",
    "plt.legend()"
   ]
  },
  {
   "cell_type": "markdown",
   "id": "80dfb35c",
   "metadata": {
    "papermill": {
     "duration": 0.041758,
     "end_time": "2022-05-13T00:46:11.252634",
     "exception": false,
     "start_time": "2022-05-13T00:46:11.210876",
     "status": "completed"
    },
    "tags": []
   },
   "source": [
    "#### Plotting the outputs of this layer of the NN.\n"
   ]
  },
  {
   "cell_type": "code",
   "execution_count": 25,
   "id": "45eb2ff5",
   "metadata": {
    "execution": {
     "iopub.execute_input": "2022-05-13T00:46:11.339734Z",
     "iopub.status.busy": "2022-05-13T00:46:11.339145Z",
     "iopub.status.idle": "2022-05-13T00:46:11.361031Z",
     "shell.execute_reply": "2022-05-13T00:46:11.361499Z"
    },
    "papermill": {
     "duration": 0.06845,
     "end_time": "2022-05-13T00:46:11.361639",
     "exception": false,
     "start_time": "2022-05-13T00:46:11.293189",
     "status": "completed"
    },
    "tags": []
   },
   "outputs": [],
   "source": [
    "new_model = Model(layers[:-2])\n",
    "testing_plot = new_model(testing_data_x)"
   ]
  },
  {
   "cell_type": "code",
   "execution_count": 26,
   "id": "4c0a5485",
   "metadata": {
    "execution": {
     "iopub.execute_input": "2022-05-13T00:46:11.458967Z",
     "iopub.status.busy": "2022-05-13T00:46:11.457992Z",
     "iopub.status.idle": "2022-05-13T00:46:11.645781Z",
     "shell.execute_reply": "2022-05-13T00:46:11.644467Z"
    },
    "papermill": {
     "duration": 0.241412,
     "end_time": "2022-05-13T00:46:11.645923",
     "exception": false,
     "start_time": "2022-05-13T00:46:11.404511",
     "status": "completed"
    },
    "tags": []
   },
   "outputs": [
    {
     "data": {
      "text/plain": [
       "Text(0.5, 1.0, 'Outputs')"
      ]
     },
     "execution_count": 26,
     "metadata": {},
     "output_type": "execute_result"
    },
    {
     "data": {
      "image/png": "[encoded data removed]",
      "text/plain": [
       "<Figure size 576x504 with 1 Axes>"
      ]
     },
     "metadata": {
      "needs_background": "light"
     },
     "output_type": "display_data"
    }
   ],
   "source": [
    "# Plotting the scatter plot of points and color coding by class\n",
    "plt.figure(figsize=(8,7))\n",
    "plt.scatter(testing_plot[:,0], testing_plot[:,1], alpha = 0.1, c = y_test.ravel());\n",
    "plt.title('Outputs')"
   ]
  },
  {
   "cell_type": "markdown",
   "id": "a74fcf8f",
   "metadata": {
    "papermill": {
     "duration": 0.043035,
     "end_time": "2022-05-13T00:46:11.733894",
     "exception": false,
     "start_time": "2022-05-13T00:46:11.690859",
     "status": "completed"
    },
    "tags": []
   },
   "source": [
    "Probability contours"
   ]
  },
  {
   "cell_type": "code",
   "execution_count": 27,
   "id": "d0afc8e3",
   "metadata": {
    "execution": {
     "iopub.execute_input": "2022-05-13T00:46:11.858504Z",
     "iopub.status.busy": "2022-05-13T00:46:11.857939Z",
     "iopub.status.idle": "2022-05-13T00:46:11.871147Z",
     "shell.execute_reply": "2022-05-13T00:46:11.871666Z"
    },
    "papermill": {
     "duration": 0.093988,
     "end_time": "2022-05-13T00:46:11.871809",
     "exception": false,
     "start_time": "2022-05-13T00:46:11.777821",
     "status": "completed"
    },
    "tags": []
   },
   "outputs": [],
   "source": [
    "model_prob = Model(layers[-2:]) "
   ]
  },
  {
   "cell_type": "code",
   "execution_count": 28,
   "id": "9b96e238",
   "metadata": {
    "execution": {
     "iopub.execute_input": "2022-05-13T00:46:11.967373Z",
     "iopub.status.busy": "2022-05-13T00:46:11.966725Z",
     "iopub.status.idle": "2022-05-13T00:46:11.981985Z",
     "shell.execute_reply": "2022-05-13T00:46:11.982406Z"
    },
    "papermill": {
     "duration": 0.066139,
     "end_time": "2022-05-13T00:46:11.982546",
     "exception": false,
     "start_time": "2022-05-13T00:46:11.916407",
     "status": "completed"
    },
    "tags": []
   },
   "outputs": [],
   "source": [
    "#creating the x and y ranges according to the above generated plot.\n",
    "x_range = np.linspace(-4, 1, 100) \n",
    "y_range = np.linspace(-6, 6, 100) \n",
    "x_grid, y_grid = np.meshgrid(x_range, y_range) # x_grid and y_grig are of size 100 X 100\n",
    "\n",
    "# converting x_grid and y_grid to continuous arrays\n",
    "x_gridflat = np.ravel(x_grid)\n",
    "y_gridflat = np.ravel(y_grid)\n",
    "\n",
    "# The last layer of the current model takes two columns as input. Hence transpose of np.vstack() is required.\n",
    "X = np.vstack((x_gridflat, y_gridflat)).T\n",
    "\n",
    "prob_contour = model_prob(X).reshape(100,100) "
   ]
  },
  {
   "cell_type": "code",
   "execution_count": 29,
   "id": "da72499a",
   "metadata": {
    "execution": {
     "iopub.execute_input": "2022-05-13T00:46:12.082799Z",
     "iopub.status.busy": "2022-05-13T00:46:12.082316Z",
     "iopub.status.idle": "2022-05-13T00:46:12.345495Z",
     "shell.execute_reply": "2022-05-13T00:46:12.344659Z"
    },
    "papermill": {
     "duration": 0.319329,
     "end_time": "2022-05-13T00:46:12.345689",
     "exception": false,
     "start_time": "2022-05-13T00:46:12.026360",
     "status": "completed"
    },
    "tags": []
   },
   "outputs": [
    {
     "data": {
      "image/png": "[encoded data removed]",
      "text/plain": [
       "<Figure size 720x648 with 1 Axes>"
      ]
     },
     "metadata": {
      "needs_background": "light"
     },
     "output_type": "display_data"
    }
   ],
   "source": [
    "plt.figure(figsize=(10,9))\n",
    "plt.scatter(testing_plot[:,0], testing_plot[:,1], alpha = 0.1, c = y_test.ravel())\n",
    "contours = plt.contour(x_grid,y_grid,prob_contour)\n",
    "plt.title('Probability Contours')\n",
    "plt.clabel(contours, inline = True );"
   ]
  },
  {
   "cell_type": "code",
   "execution_count": null,
   "id": "e81b4ac7",
   "metadata": {
    "papermill": {
     "duration": 0.046661,
     "end_time": "2022-05-13T00:46:12.438208",
     "exception": false,
     "start_time": "2022-05-13T00:46:12.391547",
     "status": "completed"
    },
    "tags": []
   },
   "outputs": [],
   "source": []
  }
 ],
 "metadata": {
  "kernelspec": {
   "display_name": "Python 3",
   "language": "python",
   "name": "python3"
  },
  "language_info": {
   "codemirror_mode": {
    "name": "ipython",
    "version": 3
   },
   "file_extension": ".py",
   "mimetype": "text/x-python",
   "name": "python",
   "nbconvert_exporter": "python",
   "pygments_lexer": "ipython3",
   "version": "3.6.15"
  },
  "papermill": {
   "default_parameters": {},
   "duration": 104.175891,
   "end_time": "2022-05-13T00:46:12.904622",
   "environment_variables": {},
   "exception": null,
   "input_path": "2020-08-11-part2.ipynb",
   "output_path": "2020-08-11-part2.ipynb",
   "parameters": {},
   "start_time": "2022-05-13T00:44:28.728731",
   "version": "2.3.3"
  }
 },
 "nbformat": 4,
 "nbformat_minor": 5
}