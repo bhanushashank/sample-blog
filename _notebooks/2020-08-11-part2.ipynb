{
 "cells": [
  {
   "cell_type": "markdown",
   "id": "98380cd3",
   "metadata": {
    "papermill": {
     "duration": 0.029233,
     "end_time": "2022-07-09T00:33:51.986450",
     "exception": false,
     "start_time": "2022-07-09T00:33:51.957217",
     "status": "completed"
    },
    "tags": []
   },
   "source": [
    "# Distinguish Your Own Digits (DYOD)"
   ]
  },
  {
   "cell_type": "markdown",
   "id": "ef31240d",
   "metadata": {
    "papermill": {
     "duration": 0.023992,
     "end_time": "2022-07-09T00:33:52.035093",
     "exception": false,
     "start_time": "2022-07-09T00:33:52.011101",
     "status": "completed"
    },
    "tags": []
   },
   "source": [
    "You are going to write a classifier that distinguishes between the number 3 and number 8."
   ]
  },
  {
   "cell_type": "code",
   "execution_count": 1,
   "id": "b15c8646",
   "metadata": {
    "execution": {
     "iopub.execute_input": "2022-07-09T00:33:52.092871Z",
     "iopub.status.busy": "2022-07-09T00:33:52.092307Z",
     "iopub.status.idle": "2022-07-09T00:33:52.102817Z",
     "shell.execute_reply": "2022-07-09T00:33:52.102358Z"
    },
    "papermill": {
     "duration": 0.043954,
     "end_time": "2022-07-09T00:33:52.102933",
     "exception": false,
     "start_time": "2022-07-09T00:33:52.058979",
     "status": "completed"
    },
    "tags": []
   },
   "outputs": [],
   "source": [
    "%load_ext autoreload\n",
    "%autoreload 2"
   ]
  },
  {
   "cell_type": "code",
   "execution_count": 2,
   "id": "22ef38dc",
   "metadata": {
    "execution": {
     "iopub.execute_input": "2022-07-09T00:33:52.154816Z",
     "iopub.status.busy": "2022-07-09T00:33:52.154259Z",
     "iopub.status.idle": "2022-07-09T00:33:52.661768Z",
     "shell.execute_reply": "2022-07-09T00:33:52.660946Z"
    },
    "papermill": {
     "duration": 0.534913,
     "end_time": "2022-07-09T00:33:52.661886",
     "exception": false,
     "start_time": "2022-07-09T00:33:52.126973",
     "status": "completed"
    },
    "tags": []
   },
   "outputs": [],
   "source": [
    "%matplotlib inline\n",
    "import numpy as np\n",
    "import matplotlib.pyplot as plt\n",
    "import pandas as pd"
   ]
  },
  {
   "cell_type": "markdown",
   "id": "ba036198",
   "metadata": {
    "papermill": {
     "duration": 0.02422,
     "end_time": "2022-07-09T00:33:52.710185",
     "exception": false,
     "start_time": "2022-07-09T00:33:52.685965",
     "status": "completed"
    },
    "tags": []
   },
   "source": [
    "From the command line run `pip install mnist`. This is a library that will help you bring down the mnist dataset. If you run this from a notebook, you need to put  `!pip install mnist` in a cell by itself."
   ]
  },
  {
   "cell_type": "code",
   "execution_count": 3,
   "id": "bb6ad8a1",
   "metadata": {
    "execution": {
     "iopub.execute_input": "2022-07-09T00:33:52.765068Z",
     "iopub.status.busy": "2022-07-09T00:33:52.763601Z",
     "iopub.status.idle": "2022-07-09T00:33:54.369186Z",
     "shell.execute_reply": "2022-07-09T00:33:54.367825Z"
    },
    "papermill": {
     "duration": 1.635053,
     "end_time": "2022-07-09T00:33:54.369312",
     "exception": false,
     "start_time": "2022-07-09T00:33:52.734259",
     "status": "completed"
    },
    "tags": []
   },
   "outputs": [
    {
     "name": "stdout",
     "output_type": "stream",
     "text": [
      "Collecting mnist\r\n"
     ]
    },
    {
     "name": "stdout",
     "output_type": "stream",
     "text": [
      "  Downloading mnist-0.2.2-py2.py3-none-any.whl (3.5 kB)\r\n",
      "Requirement already satisfied: numpy in /opt/hostedtoolcache/Python/3.6.15/x64/lib/python3.6/site-packages (from mnist) (1.19.5)\r\n"
     ]
    },
    {
     "name": "stdout",
     "output_type": "stream",
     "text": [
      "Installing collected packages: mnist\r\n"
     ]
    },
    {
     "name": "stdout",
     "output_type": "stream",
     "text": [
      "Successfully installed mnist-0.2.2\r\n"
     ]
    }
   ],
   "source": [
    "!pip install mnist"
   ]
  },
  {
   "cell_type": "markdown",
   "id": "69df9c9a",
   "metadata": {
    "papermill": {
     "duration": 0.025282,
     "end_time": "2022-07-09T00:33:54.419797",
     "exception": false,
     "start_time": "2022-07-09T00:33:54.394515",
     "status": "completed"
    },
    "tags": []
   },
   "source": [
    "## Preparing the Data"
   ]
  },
  {
   "cell_type": "code",
   "execution_count": 4,
   "id": "7f69d806",
   "metadata": {
    "execution": {
     "iopub.execute_input": "2022-07-09T00:33:54.477020Z",
     "iopub.status.busy": "2022-07-09T00:33:54.472911Z",
     "iopub.status.idle": "2022-07-09T00:33:54.486858Z",
     "shell.execute_reply": "2022-07-09T00:33:54.486399Z"
    },
    "papermill": {
     "duration": 0.042272,
     "end_time": "2022-07-09T00:33:54.486963",
     "exception": false,
     "start_time": "2022-07-09T00:33:54.444691",
     "status": "completed"
    },
    "tags": []
   },
   "outputs": [],
   "source": [
    "import mnist"
   ]
  },
  {
   "cell_type": "code",
   "execution_count": 5,
   "id": "a411e44f",
   "metadata": {
    "execution": {
     "iopub.execute_input": "2022-07-09T00:33:54.540439Z",
     "iopub.status.busy": "2022-07-09T00:33:54.539860Z",
     "iopub.status.idle": "2022-07-09T00:33:55.065717Z",
     "shell.execute_reply": "2022-07-09T00:33:55.064602Z"
    },
    "papermill": {
     "duration": 0.553888,
     "end_time": "2022-07-09T00:33:55.065839",
     "exception": false,
     "start_time": "2022-07-09T00:33:54.511951",
     "status": "completed"
    },
    "tags": []
   },
   "outputs": [],
   "source": [
    "train_images = mnist.train_images()\n",
    "train_labels = mnist.train_labels()"
   ]
  },
  {
   "cell_type": "code",
   "execution_count": 6,
   "id": "dceab3a5",
   "metadata": {
    "execution": {
     "iopub.execute_input": "2022-07-09T00:33:55.121142Z",
     "iopub.status.busy": "2022-07-09T00:33:55.119432Z",
     "iopub.status.idle": "2022-07-09T00:33:55.133832Z",
     "shell.execute_reply": "2022-07-09T00:33:55.133381Z"
    },
    "papermill": {
     "duration": 0.04282,
     "end_time": "2022-07-09T00:33:55.133939",
     "exception": false,
     "start_time": "2022-07-09T00:33:55.091119",
     "status": "completed"
    },
    "tags": []
   },
   "outputs": [
    {
     "data": {
      "text/plain": [
       "((60000, 28, 28), (60000,))"
      ]
     },
     "execution_count": 6,
     "metadata": {},
     "output_type": "execute_result"
    }
   ],
   "source": [
    "train_images.shape, train_labels.shape"
   ]
  },
  {
   "cell_type": "code",
   "execution_count": 7,
   "id": "f50dc2bb",
   "metadata": {
    "execution": {
     "iopub.execute_input": "2022-07-09T00:33:55.188421Z",
     "iopub.status.busy": "2022-07-09T00:33:55.187769Z",
     "iopub.status.idle": "2022-07-09T00:33:55.381718Z",
     "shell.execute_reply": "2022-07-09T00:33:55.381146Z"
    },
    "papermill": {
     "duration": 0.22261,
     "end_time": "2022-07-09T00:33:55.381826",
     "exception": false,
     "start_time": "2022-07-09T00:33:55.159216",
     "status": "completed"
    },
    "tags": []
   },
   "outputs": [],
   "source": [
    "test_images = mnist.test_images()\n",
    "test_labels = mnist.test_labels()"
   ]
  },
  {
   "cell_type": "code",
   "execution_count": 8,
   "id": "fc38cf1b",
   "metadata": {
    "execution": {
     "iopub.execute_input": "2022-07-09T00:33:55.436479Z",
     "iopub.status.busy": "2022-07-09T00:33:55.435882Z",
     "iopub.status.idle": "2022-07-09T00:33:55.447904Z",
     "shell.execute_reply": "2022-07-09T00:33:55.448436Z"
    },
    "papermill": {
     "duration": 0.041039,
     "end_time": "2022-07-09T00:33:55.448549",
     "exception": false,
     "start_time": "2022-07-09T00:33:55.407510",
     "status": "completed"
    },
    "tags": []
   },
   "outputs": [
    {
     "data": {
      "text/plain": [
       "((10000, 28, 28), (10000,))"
      ]
     },
     "execution_count": 8,
     "metadata": {},
     "output_type": "execute_result"
    }
   ],
   "source": [
    "test_images.shape, test_labels.shape"
   ]
  },
  {
   "cell_type": "code",
   "execution_count": 9,
   "id": "f9ed8fe0",
   "metadata": {
    "execution": {
     "iopub.execute_input": "2022-07-09T00:33:55.503095Z",
     "iopub.status.busy": "2022-07-09T00:33:55.502549Z",
     "iopub.status.idle": "2022-07-09T00:33:55.635742Z",
     "shell.execute_reply": "2022-07-09T00:33:55.636261Z"
    },
    "papermill": {
     "duration": 0.162474,
     "end_time": "2022-07-09T00:33:55.636395",
     "exception": false,
     "start_time": "2022-07-09T00:33:55.473921",
     "status": "completed"
    },
    "tags": []
   },
   "outputs": [
    {
     "name": "stdout",
     "output_type": "stream",
     "text": [
      "2\n"
     ]
    },
    {
     "data": {
      "text/plain": [
       "<matplotlib.image.AxesImage at 0x7f1c121b4470>"
      ]
     },
     "execution_count": 9,
     "metadata": {},
     "output_type": "execute_result"
    },
    {
     "data": {
      "image/png": "[encoded data removed]",
      "text/plain": [
       "<Figure size 432x288 with 1 Axes>"
      ]
     },
     "metadata": {
      "needs_background": "light"
     },
     "output_type": "display_data"
    }
   ],
   "source": [
    "image_index = 7776 # You may select anything up to 60,000\n",
    "print(train_labels[image_index]) \n",
    "plt.imshow(train_images[image_index], cmap='Greys')"
   ]
  },
  {
   "cell_type": "markdown",
   "id": "a8d2388d",
   "metadata": {
    "papermill": {
     "duration": 0.026611,
     "end_time": "2022-07-09T00:33:55.689992",
     "exception": false,
     "start_time": "2022-07-09T00:33:55.663381",
     "status": "completed"
    },
    "tags": []
   },
   "source": [
    "## Filter data to get 3 and 8 out"
   ]
  },
  {
   "cell_type": "code",
   "execution_count": 10,
   "id": "776f7fc7",
   "metadata": {
    "execution": {
     "iopub.execute_input": "2022-07-09T00:33:55.746953Z",
     "iopub.status.busy": "2022-07-09T00:33:55.746391Z",
     "iopub.status.idle": "2022-07-09T00:33:55.762756Z",
     "shell.execute_reply": "2022-07-09T00:33:55.762297Z"
    },
    "papermill": {
     "duration": 0.046221,
     "end_time": "2022-07-09T00:33:55.762857",
     "exception": false,
     "start_time": "2022-07-09T00:33:55.716636",
     "status": "completed"
    },
    "tags": []
   },
   "outputs": [],
   "source": [
    "train_filter = np.where((train_labels == 3 ) | (train_labels == 8))\n",
    "test_filter = np.where((test_labels == 3) | (test_labels == 8))\n",
    "X_train, y_train = train_images[train_filter], train_labels[train_filter]\n",
    "X_test, y_test = test_images[test_filter], test_labels[test_filter]"
   ]
  },
  {
   "cell_type": "markdown",
   "id": "948f0b7e",
   "metadata": {
    "papermill": {
     "duration": 0.026457,
     "end_time": "2022-07-09T00:33:55.815963",
     "exception": false,
     "start_time": "2022-07-09T00:33:55.789506",
     "status": "completed"
    },
    "tags": []
   },
   "source": [
    "We normalize the pizel values in the 0 to 1 range"
   ]
  },
  {
   "cell_type": "code",
   "execution_count": 11,
   "id": "ee4c2166",
   "metadata": {
    "execution": {
     "iopub.execute_input": "2022-07-09T00:33:55.871937Z",
     "iopub.status.busy": "2022-07-09T00:33:55.871397Z",
     "iopub.status.idle": "2022-07-09T00:33:55.912019Z",
     "shell.execute_reply": "2022-07-09T00:33:55.911546Z"
    },
    "papermill": {
     "duration": 0.069716,
     "end_time": "2022-07-09T00:33:55.912127",
     "exception": false,
     "start_time": "2022-07-09T00:33:55.842411",
     "status": "completed"
    },
    "tags": []
   },
   "outputs": [],
   "source": [
    "X_train = X_train/255.\n",
    "X_test = X_test/255."
   ]
  },
  {
   "cell_type": "markdown",
   "id": "ddcf4fab",
   "metadata": {
    "papermill": {
     "duration": 0.026532,
     "end_time": "2022-07-09T00:33:55.965543",
     "exception": false,
     "start_time": "2022-07-09T00:33:55.939011",
     "status": "completed"
    },
    "tags": []
   },
   "source": [
    "And setup the labels as 1 (when the digit is 3) and 0 (when the digit is 8)"
   ]
  },
  {
   "cell_type": "code",
   "execution_count": 12,
   "id": "7dc908f2",
   "metadata": {
    "execution": {
     "iopub.execute_input": "2022-07-09T00:33:56.021968Z",
     "iopub.status.busy": "2022-07-09T00:33:56.021408Z",
     "iopub.status.idle": "2022-07-09T00:33:56.033098Z",
     "shell.execute_reply": "2022-07-09T00:33:56.032668Z"
    },
    "papermill": {
     "duration": 0.040996,
     "end_time": "2022-07-09T00:33:56.033195",
     "exception": false,
     "start_time": "2022-07-09T00:33:55.992199",
     "status": "completed"
    },
    "tags": []
   },
   "outputs": [],
   "source": [
    "y_train = 1*(y_train==3)\n",
    "y_test = 1*(y_test==3)"
   ]
  },
  {
   "cell_type": "code",
   "execution_count": 13,
   "id": "01e4e969",
   "metadata": {
    "execution": {
     "iopub.execute_input": "2022-07-09T00:33:56.089387Z",
     "iopub.status.busy": "2022-07-09T00:33:56.088834Z",
     "iopub.status.idle": "2022-07-09T00:33:56.101059Z",
     "shell.execute_reply": "2022-07-09T00:33:56.101484Z"
    },
    "papermill": {
     "duration": 0.041802,
     "end_time": "2022-07-09T00:33:56.101592",
     "exception": false,
     "start_time": "2022-07-09T00:33:56.059790",
     "status": "completed"
    },
    "tags": []
   },
   "outputs": [
    {
     "data": {
      "text/plain": [
       "((11982, 28, 28), (1984, 28, 28))"
      ]
     },
     "execution_count": 13,
     "metadata": {},
     "output_type": "execute_result"
    }
   ],
   "source": [
    "X_train.shape, X_test.shape"
   ]
  },
  {
   "cell_type": "markdown",
   "id": "5ccf3f85",
   "metadata": {
    "papermill": {
     "duration": 0.026773,
     "end_time": "2022-07-09T00:33:56.155199",
     "exception": false,
     "start_time": "2022-07-09T00:33:56.128426",
     "status": "completed"
    },
    "tags": []
   },
   "source": [
    "We reshape the data to flatten the image pixels into a set of features or co-variates:"
   ]
  },
  {
   "cell_type": "code",
   "execution_count": 14,
   "id": "5286a4a3",
   "metadata": {
    "execution": {
     "iopub.execute_input": "2022-07-09T00:33:56.212587Z",
     "iopub.status.busy": "2022-07-09T00:33:56.211992Z",
     "iopub.status.idle": "2022-07-09T00:33:56.224503Z",
     "shell.execute_reply": "2022-07-09T00:33:56.224950Z"
    },
    "papermill": {
     "duration": 0.042843,
     "end_time": "2022-07-09T00:33:56.225060",
     "exception": false,
     "start_time": "2022-07-09T00:33:56.182217",
     "status": "completed"
    },
    "tags": []
   },
   "outputs": [
    {
     "data": {
      "text/plain": [
       "((11982, 784), (1984, 784))"
      ]
     },
     "execution_count": 14,
     "metadata": {},
     "output_type": "execute_result"
    }
   ],
   "source": [
    "X_train = X_train.reshape(X_train.shape[0], -1)\n",
    "X_test = X_test.reshape(X_test.shape[0], -1)\n",
    "X_train.shape, X_test.shape"
   ]
  },
  {
   "cell_type": "code",
   "execution_count": 15,
   "id": "73c5f88a",
   "metadata": {
    "execution": {
     "iopub.execute_input": "2022-07-09T00:33:56.282791Z",
     "iopub.status.busy": "2022-07-09T00:33:56.282233Z",
     "iopub.status.idle": "2022-07-09T00:33:56.299338Z",
     "shell.execute_reply": "2022-07-09T00:33:56.298887Z"
    },
    "papermill": {
     "duration": 0.047336,
     "end_time": "2022-07-09T00:33:56.299432",
     "exception": false,
     "start_time": "2022-07-09T00:33:56.252096",
     "status": "completed"
    },
    "tags": []
   },
   "outputs": [],
   "source": [
    "#Impoting functions from 'Kudzu'\n",
    "from kudzu.model import Model\n",
    "from kudzu.train import Learner\n",
    "from kudzu.optim import GD\n",
    "from kudzu.data import Data, Sampler,Dataloader\n",
    "\n",
    "from kudzu.callbacks import AccCallback\n",
    "from kudzu.callbacks import ClfCallback\n",
    "\n",
    "from kudzu.loss import MSE\n",
    "\n",
    "from kudzu.layer import Sigmoid,Relu\n",
    "from kudzu.layer import Affine"
   ]
  },
  {
   "cell_type": "markdown",
   "id": "bc01172a",
   "metadata": {
    "papermill": {
     "duration": 0.026898,
     "end_time": "2022-07-09T00:33:56.353778",
     "exception": false,
     "start_time": "2022-07-09T00:33:56.326880",
     "status": "completed"
    },
    "tags": []
   },
   "source": [
    "### Let us create a `Config` class, to store important parameters. \n",
    "This class essentially plays the role of a dictionary."
   ]
  },
  {
   "cell_type": "code",
   "execution_count": 16,
   "id": "978281aa",
   "metadata": {
    "execution": {
     "iopub.execute_input": "2022-07-09T00:33:56.411238Z",
     "iopub.status.busy": "2022-07-09T00:33:56.410681Z",
     "iopub.status.idle": "2022-07-09T00:33:56.423061Z",
     "shell.execute_reply": "2022-07-09T00:33:56.422600Z"
    },
    "papermill": {
     "duration": 0.042409,
     "end_time": "2022-07-09T00:33:56.423156",
     "exception": false,
     "start_time": "2022-07-09T00:33:56.380747",
     "status": "completed"
    },
    "tags": []
   },
   "outputs": [],
   "source": [
    "class Config:\n",
    "    pass\n",
    "config = Config()\n",
    "config.lr = 0.001\n",
    "config.num_epochs = 250\n",
    "config.bs = 50"
   ]
  },
  {
   "cell_type": "markdown",
   "id": "1385fa59",
   "metadata": {
    "papermill": {
     "duration": 0.026961,
     "end_time": "2022-07-09T00:33:56.477204",
     "exception": false,
     "start_time": "2022-07-09T00:33:56.450243",
     "status": "completed"
    },
    "tags": []
   },
   "source": [
    "### Running Models with the Training data\n",
    "Details about the network layers:\n",
    "- A first affine layer has 784 inputs and does 100 affine transforms. These are followed by a Relu\n",
    "- A second affine layer has 100 inputs from the 100 activations of the past layer, and does 100 affine transforms. These are followed by a Relu\n",
    "- A third affine layer has 100 activations and does 2 affine transformations to create an embedding for visualization. There is no non-linearity here.\n",
    "- A final \"logistic regression\" which has an affine transform from 2 inputs to 1 output, which is squeezed through a sigmoid.\n"
   ]
  },
  {
   "cell_type": "code",
   "execution_count": 17,
   "id": "2b9c66db",
   "metadata": {
    "execution": {
     "iopub.execute_input": "2022-07-09T00:33:56.534560Z",
     "iopub.status.busy": "2022-07-09T00:33:56.534014Z",
     "iopub.status.idle": "2022-07-09T00:33:56.545468Z",
     "shell.execute_reply": "2022-07-09T00:33:56.545024Z"
    },
    "papermill": {
     "duration": 0.041323,
     "end_time": "2022-07-09T00:33:56.545561",
     "exception": false,
     "start_time": "2022-07-09T00:33:56.504238",
     "status": "completed"
    },
    "tags": []
   },
   "outputs": [],
   "source": [
    "data = Data(X_train, y_train.reshape(-1,1))\n",
    "sampler = Sampler(data, config.bs, shuffle=True)\n",
    "\n",
    "dl = Dataloader(data, sampler)\n",
    "\n",
    "opt = GD(config.lr)\n",
    "loss = MSE()"
   ]
  },
  {
   "cell_type": "code",
   "execution_count": 18,
   "id": "b275e4c2",
   "metadata": {
    "execution": {
     "iopub.execute_input": "2022-07-09T00:33:56.603005Z",
     "iopub.status.busy": "2022-07-09T00:33:56.602464Z",
     "iopub.status.idle": "2022-07-09T00:33:56.613857Z",
     "shell.execute_reply": "2022-07-09T00:33:56.613406Z"
    },
    "papermill": {
     "duration": 0.041299,
     "end_time": "2022-07-09T00:33:56.613953",
     "exception": false,
     "start_time": "2022-07-09T00:33:56.572654",
     "status": "completed"
    },
    "tags": []
   },
   "outputs": [],
   "source": [
    "training_data_x = X_train\n",
    "testing_data_x = X_test\n",
    "training_data_y = y_train.reshape(-1,1)\n",
    "testing_data_y = y_test.reshape(-1,1)"
   ]
  },
  {
   "cell_type": "code",
   "execution_count": 19,
   "id": "76951160",
   "metadata": {
    "execution": {
     "iopub.execute_input": "2022-07-09T00:33:56.672770Z",
     "iopub.status.busy": "2022-07-09T00:33:56.672202Z",
     "iopub.status.idle": "2022-07-09T00:33:56.687578Z",
     "shell.execute_reply": "2022-07-09T00:33:56.688030Z"
    },
    "papermill": {
     "duration": 0.047118,
     "end_time": "2022-07-09T00:33:56.688160",
     "exception": false,
     "start_time": "2022-07-09T00:33:56.641042",
     "status": "completed"
    },
    "tags": []
   },
   "outputs": [
    {
     "name": "stdout",
     "output_type": "stream",
     "text": [
      "xavier\n",
      "xavier\n",
      "xavier\n",
      "xavier\n",
      "xavier\n"
     ]
    }
   ],
   "source": [
    "layers = [Affine(\"first\", 784, 100), Relu(\"first\"), Affine(\"second\", 100, 100), Relu(\"second\"), Affine(\"third\", 100, 2), Affine(\"last\", 2, 1), Sigmoid(\"last\")]\n",
    "model_nn = Model(layers)\n",
    "model_lr = Model([Affine(\"logits\", 784, 1), Sigmoid(\"sigmoid\")])"
   ]
  },
  {
   "cell_type": "code",
   "execution_count": 20,
   "id": "6eede77a",
   "metadata": {
    "execution": {
     "iopub.execute_input": "2022-07-09T00:33:56.747150Z",
     "iopub.status.busy": "2022-07-09T00:33:56.746592Z",
     "iopub.status.idle": "2022-07-09T00:33:56.758116Z",
     "shell.execute_reply": "2022-07-09T00:33:56.757678Z"
    },
    "papermill": {
     "duration": 0.042491,
     "end_time": "2022-07-09T00:33:56.758215",
     "exception": false,
     "start_time": "2022-07-09T00:33:56.715724",
     "status": "completed"
    },
    "tags": []
   },
   "outputs": [],
   "source": [
    "nn_learner = Learner(loss, model_nn, opt, config.num_epochs)\n",
    "acc_nn = ClfCallback(nn_learner, config.bs, training_data_x , testing_data_x, training_data_y, testing_data_y)\n",
    "nn_learner.set_callbacks([acc_nn])"
   ]
  },
  {
   "cell_type": "code",
   "execution_count": 21,
   "id": "877b6cc7",
   "metadata": {
    "execution": {
     "iopub.execute_input": "2022-07-09T00:33:56.816456Z",
     "iopub.status.busy": "2022-07-09T00:33:56.815867Z",
     "iopub.status.idle": "2022-07-09T00:33:56.827318Z",
     "shell.execute_reply": "2022-07-09T00:33:56.827728Z"
    },
    "papermill": {
     "duration": 0.042242,
     "end_time": "2022-07-09T00:33:56.827842",
     "exception": false,
     "start_time": "2022-07-09T00:33:56.785600",
     "status": "completed"
    },
    "tags": []
   },
   "outputs": [],
   "source": [
    "lr_learner = Learner(loss, model_lr, opt, config.num_epochs)\n",
    "acc_lr = ClfCallback(lr_learner, config.bs, training_data_x , testing_data_x, training_data_y, testing_data_y)\n",
    "lr_learner.set_callbacks([acc_lr])"
   ]
  },
  {
   "cell_type": "code",
   "execution_count": 22,
   "id": "d9b133c3",
   "metadata": {
    "execution": {
     "iopub.execute_input": "2022-07-09T00:33:56.886118Z",
     "iopub.status.busy": "2022-07-09T00:33:56.885566Z",
     "iopub.status.idle": "2022-07-09T00:36:51.308848Z",
     "shell.execute_reply": "2022-07-09T00:36:51.309287Z"
    },
    "papermill": {
     "duration": 174.454032,
     "end_time": "2022-07-09T00:36:51.309415",
     "exception": false,
     "start_time": "2022-07-09T00:33:56.855383",
     "status": "completed"
    },
    "tags": []
   },
   "outputs": [
    {
     "name": "stdout",
     "output_type": "stream",
     "text": [
      "Epoch 0, Loss 0.21\n",
      "Training Accuracy: 0.7631, Testing Accuracy: 0.7767\n",
      "\n"
     ]
    },
    {
     "name": "stdout",
     "output_type": "stream",
     "text": [
      "Epoch 10, Loss 0.0604\n",
      "Training Accuracy: 0.9393, Testing Accuracy: 0.9506\n",
      "\n"
     ]
    },
    {
     "name": "stdout",
     "output_type": "stream",
     "text": [
      "Epoch 20, Loss 0.0413\n",
      "Training Accuracy: 0.9566, Testing Accuracy: 0.9662\n",
      "\n"
     ]
    },
    {
     "name": "stdout",
     "output_type": "stream",
     "text": [
      "Epoch 30, Loss 0.0346\n",
      "Training Accuracy: 0.9616, Testing Accuracy: 0.9677\n",
      "\n"
     ]
    },
    {
     "name": "stdout",
     "output_type": "stream",
     "text": [
      "Epoch 40, Loss 0.031\n",
      "Training Accuracy: 0.9657, Testing Accuracy: 0.9682\n",
      "\n"
     ]
    },
    {
     "name": "stdout",
     "output_type": "stream",
     "text": [
      "Epoch 50, Loss 0.0286\n",
      "Training Accuracy: 0.9680, Testing Accuracy: 0.9708\n",
      "\n"
     ]
    },
    {
     "name": "stdout",
     "output_type": "stream",
     "text": [
      "Epoch 60, Loss 0.0268\n",
      "Training Accuracy: 0.9707, Testing Accuracy: 0.9708\n",
      "\n"
     ]
    },
    {
     "name": "stdout",
     "output_type": "stream",
     "text": [
      "Epoch 70, Loss 0.0255\n",
      "Training Accuracy: 0.9720, Testing Accuracy: 0.9723\n",
      "\n"
     ]
    },
    {
     "name": "stdout",
     "output_type": "stream",
     "text": [
      "Epoch 80, Loss 0.0243\n",
      "Training Accuracy: 0.9738, Testing Accuracy: 0.9723\n",
      "\n"
     ]
    },
    {
     "name": "stdout",
     "output_type": "stream",
     "text": [
      "Epoch 90, Loss 0.0233\n",
      "Training Accuracy: 0.9747, Testing Accuracy: 0.9713\n",
      "\n"
     ]
    },
    {
     "name": "stdout",
     "output_type": "stream",
     "text": [
      "Epoch 100, Loss 0.0225\n",
      "Training Accuracy: 0.9755, Testing Accuracy: 0.9713\n",
      "\n"
     ]
    },
    {
     "name": "stdout",
     "output_type": "stream",
     "text": [
      "Epoch 110, Loss 0.0217\n",
      "Training Accuracy: 0.9761, Testing Accuracy: 0.9708\n",
      "\n"
     ]
    },
    {
     "name": "stdout",
     "output_type": "stream",
     "text": [
      "Epoch 120, Loss 0.021\n",
      "Training Accuracy: 0.9767, Testing Accuracy: 0.9713\n",
      "\n"
     ]
    },
    {
     "name": "stdout",
     "output_type": "stream",
     "text": [
      "Epoch 130, Loss 0.0204\n",
      "Training Accuracy: 0.9775, Testing Accuracy: 0.9713\n",
      "\n"
     ]
    },
    {
     "name": "stdout",
     "output_type": "stream",
     "text": [
      "Epoch 140, Loss 0.0198\n",
      "Training Accuracy: 0.9782, Testing Accuracy: 0.9723\n",
      "\n"
     ]
    },
    {
     "name": "stdout",
     "output_type": "stream",
     "text": [
      "Epoch 150, Loss 0.0192\n",
      "Training Accuracy: 0.9792, Testing Accuracy: 0.9723\n",
      "\n"
     ]
    },
    {
     "name": "stdout",
     "output_type": "stream",
     "text": [
      "Epoch 160, Loss 0.0187\n",
      "Training Accuracy: 0.9799, Testing Accuracy: 0.9728\n",
      "\n"
     ]
    },
    {
     "name": "stdout",
     "output_type": "stream",
     "text": [
      "Epoch 170, Loss 0.0182\n",
      "Training Accuracy: 0.9801, Testing Accuracy: 0.9723\n",
      "\n"
     ]
    },
    {
     "name": "stdout",
     "output_type": "stream",
     "text": [
      "Epoch 180, Loss 0.0177\n",
      "Training Accuracy: 0.9808, Testing Accuracy: 0.9728\n",
      "\n"
     ]
    },
    {
     "name": "stdout",
     "output_type": "stream",
     "text": [
      "Epoch 190, Loss 0.0173\n",
      "Training Accuracy: 0.9816, Testing Accuracy: 0.9723\n",
      "\n"
     ]
    },
    {
     "name": "stdout",
     "output_type": "stream",
     "text": [
      "Epoch 200, Loss 0.0168\n",
      "Training Accuracy: 0.9825, Testing Accuracy: 0.9728\n",
      "\n"
     ]
    },
    {
     "name": "stdout",
     "output_type": "stream",
     "text": [
      "Epoch 210, Loss 0.0164\n",
      "Training Accuracy: 0.9827, Testing Accuracy: 0.9733\n",
      "\n"
     ]
    },
    {
     "name": "stdout",
     "output_type": "stream",
     "text": [
      "Epoch 220, Loss 0.0161\n",
      "Training Accuracy: 0.9835, Testing Accuracy: 0.9728\n",
      "\n"
     ]
    },
    {
     "name": "stdout",
     "output_type": "stream",
     "text": [
      "Epoch 230, Loss 0.0157\n",
      "Training Accuracy: 0.9844, Testing Accuracy: 0.9738\n",
      "\n"
     ]
    },
    {
     "name": "stdout",
     "output_type": "stream",
     "text": [
      "Epoch 240, Loss 0.0153\n",
      "Training Accuracy: 0.9846, Testing Accuracy: 0.9738\n",
      "\n"
     ]
    },
    {
     "data": {
      "text/plain": [
       "0.0012080509201366912"
      ]
     },
     "execution_count": 22,
     "metadata": {},
     "output_type": "execute_result"
    }
   ],
   "source": [
    "nn_learner.train_loop(dl)"
   ]
  },
  {
   "cell_type": "code",
   "execution_count": 23,
   "id": "e0163366",
   "metadata": {
    "execution": {
     "iopub.execute_input": "2022-07-09T00:36:51.381787Z",
     "iopub.status.busy": "2022-07-09T00:36:51.381225Z",
     "iopub.status.idle": "2022-07-09T00:37:03.394427Z",
     "shell.execute_reply": "2022-07-09T00:37:03.395157Z"
    },
    "papermill": {
     "duration": 12.051455,
     "end_time": "2022-07-09T00:37:03.395288",
     "exception": false,
     "start_time": "2022-07-09T00:36:51.343833",
     "status": "completed"
    },
    "tags": []
   },
   "outputs": [
    {
     "name": "stdout",
     "output_type": "stream",
     "text": [
      "Epoch 0, Loss 0.2281\n",
      "Training Accuracy: 0.7497, Testing Accuracy: 0.7495\n",
      "\n"
     ]
    },
    {
     "name": "stdout",
     "output_type": "stream",
     "text": [
      "Epoch 10, Loss 0.1011\n",
      "Training Accuracy: 0.9125, Testing Accuracy: 0.9239\n",
      "\n"
     ]
    },
    {
     "name": "stdout",
     "output_type": "stream",
     "text": [
      "Epoch 20, Loss 0.0784\n",
      "Training Accuracy: 0.9291, Testing Accuracy: 0.9430\n",
      "\n"
     ]
    },
    {
     "name": "stdout",
     "output_type": "stream",
     "text": [
      "Epoch 30, Loss 0.0678\n",
      "Training Accuracy: 0.9365, Testing Accuracy: 0.9501\n",
      "\n"
     ]
    },
    {
     "name": "stdout",
     "output_type": "stream",
     "text": [
      "Epoch 40, Loss 0.0614\n",
      "Training Accuracy: 0.9414, Testing Accuracy: 0.9556\n",
      "\n"
     ]
    },
    {
     "name": "stdout",
     "output_type": "stream",
     "text": [
      "Epoch 50, Loss 0.057\n",
      "Training Accuracy: 0.9448, Testing Accuracy: 0.9561\n",
      "\n"
     ]
    },
    {
     "name": "stdout",
     "output_type": "stream",
     "text": [
      "Epoch 60, Loss 0.0537\n",
      "Training Accuracy: 0.9473, Testing Accuracy: 0.9561\n",
      "\n"
     ]
    },
    {
     "name": "stdout",
     "output_type": "stream",
     "text": [
      "Epoch 70, Loss 0.0512\n",
      "Training Accuracy: 0.9492, Testing Accuracy: 0.9567\n",
      "\n"
     ]
    },
    {
     "name": "stdout",
     "output_type": "stream",
     "text": [
      "Epoch 80, Loss 0.0492\n",
      "Training Accuracy: 0.9511, Testing Accuracy: 0.9597\n",
      "\n"
     ]
    },
    {
     "name": "stdout",
     "output_type": "stream",
     "text": [
      "Epoch 90, Loss 0.0475\n",
      "Training Accuracy: 0.9524, Testing Accuracy: 0.9607\n",
      "\n"
     ]
    },
    {
     "name": "stdout",
     "output_type": "stream",
     "text": [
      "Epoch 100, Loss 0.0461\n",
      "Training Accuracy: 0.9533, Testing Accuracy: 0.9607\n",
      "\n"
     ]
    },
    {
     "name": "stdout",
     "output_type": "stream",
     "text": [
      "Epoch 110, Loss 0.0449\n",
      "Training Accuracy: 0.9544, Testing Accuracy: 0.9612\n",
      "\n"
     ]
    },
    {
     "name": "stdout",
     "output_type": "stream",
     "text": [
      "Epoch 120, Loss 0.0438\n",
      "Training Accuracy: 0.9549, Testing Accuracy: 0.9622\n",
      "\n"
     ]
    },
    {
     "name": "stdout",
     "output_type": "stream",
     "text": [
      "Epoch 130, Loss 0.0429\n",
      "Training Accuracy: 0.9555, Testing Accuracy: 0.9617\n",
      "\n"
     ]
    },
    {
     "name": "stdout",
     "output_type": "stream",
     "text": [
      "Epoch 140, Loss 0.0421\n",
      "Training Accuracy: 0.9566, Testing Accuracy: 0.9622\n",
      "\n"
     ]
    },
    {
     "name": "stdout",
     "output_type": "stream",
     "text": [
      "Epoch 150, Loss 0.0413\n",
      "Training Accuracy: 0.9571, Testing Accuracy: 0.9622\n",
      "\n"
     ]
    },
    {
     "name": "stdout",
     "output_type": "stream",
     "text": [
      "Epoch 160, Loss 0.0407\n",
      "Training Accuracy: 0.9574, Testing Accuracy: 0.9657\n",
      "\n"
     ]
    },
    {
     "name": "stdout",
     "output_type": "stream",
     "text": [
      "Epoch 170, Loss 0.0401\n",
      "Training Accuracy: 0.9579, Testing Accuracy: 0.9657\n",
      "\n"
     ]
    },
    {
     "name": "stdout",
     "output_type": "stream",
     "text": [
      "Epoch 180, Loss 0.0395\n",
      "Training Accuracy: 0.9584, Testing Accuracy: 0.9657\n",
      "\n"
     ]
    },
    {
     "name": "stdout",
     "output_type": "stream",
     "text": [
      "Epoch 190, Loss 0.039\n",
      "Training Accuracy: 0.9589, Testing Accuracy: 0.9657\n",
      "\n"
     ]
    },
    {
     "name": "stdout",
     "output_type": "stream",
     "text": [
      "Epoch 200, Loss 0.0385\n",
      "Training Accuracy: 0.9592, Testing Accuracy: 0.9667\n",
      "\n"
     ]
    },
    {
     "name": "stdout",
     "output_type": "stream",
     "text": [
      "Epoch 210, Loss 0.0381\n",
      "Training Accuracy: 0.9592, Testing Accuracy: 0.9667\n",
      "\n"
     ]
    },
    {
     "name": "stdout",
     "output_type": "stream",
     "text": [
      "Epoch 220, Loss 0.0377\n",
      "Training Accuracy: 0.9598, Testing Accuracy: 0.9677\n",
      "\n"
     ]
    },
    {
     "name": "stdout",
     "output_type": "stream",
     "text": [
      "Epoch 230, Loss 0.0373\n",
      "Training Accuracy: 0.9599, Testing Accuracy: 0.9682\n",
      "\n"
     ]
    },
    {
     "name": "stdout",
     "output_type": "stream",
     "text": [
      "Epoch 240, Loss 0.0369\n",
      "Training Accuracy: 0.9602, Testing Accuracy: 0.9688\n",
      "\n"
     ]
    },
    {
     "data": {
      "text/plain": [
       "0.027037710290408586"
      ]
     },
     "execution_count": 23,
     "metadata": {},
     "output_type": "execute_result"
    }
   ],
   "source": [
    "lr_learner.train_loop(dl)"
   ]
  },
  {
   "cell_type": "code",
   "execution_count": 24,
   "id": "ca410940",
   "metadata": {
    "execution": {
     "iopub.execute_input": "2022-07-09T00:37:03.485542Z",
     "iopub.status.busy": "2022-07-09T00:37:03.484978Z",
     "iopub.status.idle": "2022-07-09T00:37:03.707228Z",
     "shell.execute_reply": "2022-07-09T00:37:03.707657Z"
    },
    "papermill": {
     "duration": 0.270012,
     "end_time": "2022-07-09T00:37:03.707785",
     "exception": false,
     "start_time": "2022-07-09T00:37:03.437773",
     "status": "completed"
    },
    "tags": []
   },
   "outputs": [
    {
     "data": {
      "text/plain": [
       "<matplotlib.legend.Legend at 0x7f1c11d12ba8>"
      ]
     },
     "execution_count": 24,
     "metadata": {},
     "output_type": "execute_result"
    },
    {
     "data": {
      "image/png": "[encoded data removed]",
      "text/plain": [
       "<Figure size 1080x720 with 1 Axes>"
      ]
     },
     "metadata": {
      "needs_background": "light"
     },
     "output_type": "display_data"
    }
   ],
   "source": [
    "#comparing the results of NN and LR\n",
    "plt.figure(figsize=(15,10))\n",
    "\n",
    "# Neural Network plots\n",
    "plt.plot(acc_nn.accuracies, 'r-', label = \"Training Accuracies - NN\")\n",
    "plt.plot(acc_nn.test_accuracies, 'g-', label = \"Testing Accuracies - NN\")\n",
    "\n",
    "# Logistic Regression plots\n",
    "plt.plot(acc_lr.accuracies, 'k-', label = \"Training Accuracies - LR\")\n",
    "plt.plot(acc_lr.test_accuracies, 'b-', label = \"Testing Accuracies - LR\")\n",
    "plt.legend()"
   ]
  },
  {
   "cell_type": "markdown",
   "id": "80dfb35c",
   "metadata": {
    "papermill": {
     "duration": 0.042632,
     "end_time": "2022-07-09T00:37:03.793191",
     "exception": false,
     "start_time": "2022-07-09T00:37:03.750559",
     "status": "completed"
    },
    "tags": []
   },
   "source": [
    "#### Plotting the outputs of this layer of the NN.\n"
   ]
  },
  {
   "cell_type": "code",
   "execution_count": 25,
   "id": "45eb2ff5",
   "metadata": {
    "execution": {
     "iopub.execute_input": "2022-07-09T00:37:03.881594Z",
     "iopub.status.busy": "2022-07-09T00:37:03.881015Z",
     "iopub.status.idle": "2022-07-09T00:37:03.918736Z",
     "shell.execute_reply": "2022-07-09T00:37:03.918231Z"
    },
    "papermill": {
     "duration": 0.083313,
     "end_time": "2022-07-09T00:37:03.918850",
     "exception": false,
     "start_time": "2022-07-09T00:37:03.835537",
     "status": "completed"
    },
    "tags": []
   },
   "outputs": [],
   "source": [
    "new_model = Model(layers[:-2])\n",
    "testing_plot = new_model(testing_data_x)"
   ]
  },
  {
   "cell_type": "code",
   "execution_count": 26,
   "id": "4c0a5485",
   "metadata": {
    "execution": {
     "iopub.execute_input": "2022-07-09T00:37:04.012446Z",
     "iopub.status.busy": "2022-07-09T00:37:04.011851Z",
     "iopub.status.idle": "2022-07-09T00:37:04.219463Z",
     "shell.execute_reply": "2022-07-09T00:37:04.218515Z"
    },
    "papermill": {
     "duration": 0.257626,
     "end_time": "2022-07-09T00:37:04.219585",
     "exception": false,
     "start_time": "2022-07-09T00:37:03.961959",
     "status": "completed"
    },
    "tags": []
   },
   "outputs": [
    {
     "data": {
      "text/plain": [
       "Text(0.5, 1.0, 'Outputs')"
      ]
     },
     "execution_count": 26,
     "metadata": {},
     "output_type": "execute_result"
    },
    {
     "data": {
      "image/png": "[encoded data removed]",
      "text/plain": [
       "<Figure size 576x504 with 1 Axes>"
      ]
     },
     "metadata": {
      "needs_background": "light"
     },
     "output_type": "display_data"
    }
   ],
   "source": [
    "# Plotting the scatter plot of points and color coding by class\n",
    "plt.figure(figsize=(8,7))\n",
    "plt.scatter(testing_plot[:,0], testing_plot[:,1], alpha = 0.1, c = y_test.ravel());\n",
    "plt.title('Outputs')"
   ]
  },
  {
   "cell_type": "markdown",
   "id": "a74fcf8f",
   "metadata": {
    "papermill": {
     "duration": 0.044977,
     "end_time": "2022-07-09T00:37:04.331667",
     "exception": false,
     "start_time": "2022-07-09T00:37:04.286690",
     "status": "completed"
    },
    "tags": []
   },
   "source": [
    "Probability contours"
   ]
  },
  {
   "cell_type": "code",
   "execution_count": 27,
   "id": "d0afc8e3",
   "metadata": {
    "execution": {
     "iopub.execute_input": "2022-07-09T00:37:04.428105Z",
     "iopub.status.busy": "2022-07-09T00:37:04.427517Z",
     "iopub.status.idle": "2022-07-09T00:37:04.438308Z",
     "shell.execute_reply": "2022-07-09T00:37:04.437755Z"
    },
    "papermill": {
     "duration": 0.061643,
     "end_time": "2022-07-09T00:37:04.438412",
     "exception": false,
     "start_time": "2022-07-09T00:37:04.376769",
     "status": "completed"
    },
    "tags": []
   },
   "outputs": [],
   "source": [
    "model_prob = Model(layers[-2:]) "
   ]
  },
  {
   "cell_type": "code",
   "execution_count": 28,
   "id": "9b96e238",
   "metadata": {
    "execution": {
     "iopub.execute_input": "2022-07-09T00:37:04.534215Z",
     "iopub.status.busy": "2022-07-09T00:37:04.533638Z",
     "iopub.status.idle": "2022-07-09T00:37:04.547543Z",
     "shell.execute_reply": "2022-07-09T00:37:04.547939Z"
    },
    "papermill": {
     "duration": 0.064471,
     "end_time": "2022-07-09T00:37:04.548065",
     "exception": false,
     "start_time": "2022-07-09T00:37:04.483594",
     "status": "completed"
    },
    "tags": []
   },
   "outputs": [],
   "source": [
    "#creating the x and y ranges according to the above generated plot.\n",
    "x_range = np.linspace(-4, 1, 100) \n",
    "y_range = np.linspace(-6, 6, 100) \n",
    "x_grid, y_grid = np.meshgrid(x_range, y_range) # x_grid and y_grig are of size 100 X 100\n",
    "\n",
    "# converting x_grid and y_grid to continuous arrays\n",
    "x_gridflat = np.ravel(x_grid)\n",
    "y_gridflat = np.ravel(y_grid)\n",
    "\n",
    "# The last layer of the current model takes two columns as input. Hence transpose of np.vstack() is required.\n",
    "X = np.vstack((x_gridflat, y_gridflat)).T\n",
    "\n",
    "prob_contour = model_prob(X).reshape(100,100) "
   ]
  },
  {
   "cell_type": "code",
   "execution_count": 29,
   "id": "da72499a",
   "metadata": {
    "execution": {
     "iopub.execute_input": "2022-07-09T00:37:04.643250Z",
     "iopub.status.busy": "2022-07-09T00:37:04.642689Z",
     "iopub.status.idle": "2022-07-09T00:37:04.881493Z",
     "shell.execute_reply": "2022-07-09T00:37:04.880750Z"
    },
    "papermill": {
     "duration": 0.288342,
     "end_time": "2022-07-09T00:37:04.881608",
     "exception": false,
     "start_time": "2022-07-09T00:37:04.593266",
     "status": "completed"
    },
    "tags": []
   },
   "outputs": [
    {
     "data": {
      "image/png": "[encoded data removed]",
      "text/plain": [
       "<Figure size 720x648 with 1 Axes>"
      ]
     },
     "metadata": {
      "needs_background": "light"
     },
     "output_type": "display_data"
    }
   ],
   "source": [
    "plt.figure(figsize=(10,9))\n",
    "plt.scatter(testing_plot[:,0], testing_plot[:,1], alpha = 0.1, c = y_test.ravel())\n",
    "contours = plt.contour(x_grid,y_grid,prob_contour)\n",
    "plt.title('Probability Contours')\n",
    "plt.clabel(contours, inline = True );"
   ]
  },
  {
   "cell_type": "code",
   "execution_count": null,
   "id": "e81b4ac7",
   "metadata": {
    "papermill": {
     "duration": 0.047669,
     "end_time": "2022-07-09T00:37:04.977369",
     "exception": false,
     "start_time": "2022-07-09T00:37:04.929700",
     "status": "completed"
    },
    "tags": []
   },
   "outputs": [],
   "source": []
  }
 ],
 "metadata": {
  "kernelspec": {
   "display_name": "Python 3",
   "language": "python",
   "name": "python3"
  },
  "language_info": {
   "codemirror_mode": {
    "name": "ipython",
    "version": 3
   },
   "file_extension": ".py",
   "mimetype": "text/x-python",
   "name": "python",
   "nbconvert_exporter": "python",
   "pygments_lexer": "ipython3",
   "version": "3.6.15"
  },
  "papermill": {
   "default_parameters": {},
   "duration": 194.30165,
   "end_time": "2022-07-09T00:37:05.342356",
   "environment_variables": {},
   "exception": null,
   "input_path": "2020-08-11-part2.ipynb",
   "output_path": "2020-08-11-part2.ipynb",
   "parameters": {},
   "start_time": "2022-07-09T00:33:51.040706",
   "version": "2.3.3"
  }
 },
 "nbformat": 4,
 "nbformat_minor": 5
}