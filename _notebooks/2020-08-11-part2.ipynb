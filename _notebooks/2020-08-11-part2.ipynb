{
 "cells": [
  {
   "cell_type": "markdown",
   "id": "98380cd3",
   "metadata": {
    "papermill": {
     "duration": 0.036058,
     "end_time": "2021-11-08T20:08:36.431679",
     "exception": false,
     "start_time": "2021-11-08T20:08:36.395621",
     "status": "completed"
    },
    "tags": []
   },
   "source": [
    "# Distinguish Your Own Digits (DYOD)"
   ]
  },
  {
   "cell_type": "markdown",
   "id": "ef31240d",
   "metadata": {
    "papermill": {
     "duration": 0.029622,
     "end_time": "2021-11-08T20:08:36.490291",
     "exception": false,
     "start_time": "2021-11-08T20:08:36.460669",
     "status": "completed"
    },
    "tags": []
   },
   "source": [
    "You are going to write a classifier that distinguishes between the number 3 and number 8."
   ]
  },
  {
   "cell_type": "code",
   "execution_count": 1,
   "id": "b15c8646",
   "metadata": {
    "execution": {
     "iopub.execute_input": "2021-11-08T20:08:36.559646Z",
     "iopub.status.busy": "2021-11-08T20:08:36.558836Z",
     "iopub.status.idle": "2021-11-08T20:08:36.572062Z",
     "shell.execute_reply": "2021-11-08T20:08:36.572576Z"
    },
    "papermill": {
     "duration": 0.054625,
     "end_time": "2021-11-08T20:08:36.572775",
     "exception": false,
     "start_time": "2021-11-08T20:08:36.518150",
     "status": "completed"
    },
    "tags": []
   },
   "outputs": [],
   "source": [
    "%load_ext autoreload\n",
    "%autoreload 2"
   ]
  },
  {
   "cell_type": "code",
   "execution_count": 2,
   "id": "22ef38dc",
   "metadata": {
    "execution": {
     "iopub.execute_input": "2021-11-08T20:08:36.637284Z",
     "iopub.status.busy": "2021-11-08T20:08:36.636667Z",
     "iopub.status.idle": "2021-11-08T20:08:37.298467Z",
     "shell.execute_reply": "2021-11-08T20:08:37.297294Z"
    },
    "papermill": {
     "duration": 0.696691,
     "end_time": "2021-11-08T20:08:37.298624",
     "exception": false,
     "start_time": "2021-11-08T20:08:36.601933",
     "status": "completed"
    },
    "tags": []
   },
   "outputs": [],
   "source": [
    "%matplotlib inline\n",
    "import numpy as np\n",
    "import matplotlib.pyplot as plt\n",
    "import pandas as pd"
   ]
  },
  {
   "cell_type": "markdown",
   "id": "ba036198",
   "metadata": {
    "papermill": {
     "duration": 0.027743,
     "end_time": "2021-11-08T20:08:37.354561",
     "exception": false,
     "start_time": "2021-11-08T20:08:37.326818",
     "status": "completed"
    },
    "tags": []
   },
   "source": [
    "From the command line run `pip install mnist`. This is a library that will help you bring down the mnist dataset. If you run this from a notebook, you need to put  `!pip install mnist` in a cell by itself."
   ]
  },
  {
   "cell_type": "code",
   "execution_count": 3,
   "id": "bb6ad8a1",
   "metadata": {
    "execution": {
     "iopub.execute_input": "2021-11-08T20:08:37.420085Z",
     "iopub.status.busy": "2021-11-08T20:08:37.418831Z",
     "iopub.status.idle": "2021-11-08T20:08:39.497190Z",
     "shell.execute_reply": "2021-11-08T20:08:39.497679Z"
    },
    "papermill": {
     "duration": 2.115418,
     "end_time": "2021-11-08T20:08:39.497853",
     "exception": false,
     "start_time": "2021-11-08T20:08:37.382435",
     "status": "completed"
    },
    "tags": []
   },
   "outputs": [
    {
     "name": "stdout",
     "output_type": "stream",
     "text": [
      "Collecting mnist\r\n"
     ]
    },
    {
     "name": "stdout",
     "output_type": "stream",
     "text": [
      "  Downloading mnist-0.2.2-py2.py3-none-any.whl (3.5 kB)\r\n",
      "Requirement already satisfied: numpy in /opt/hostedtoolcache/Python/3.6.15/x64/lib/python3.6/site-packages (from mnist) (1.19.5)\r\n"
     ]
    },
    {
     "name": "stdout",
     "output_type": "stream",
     "text": [
      "Installing collected packages: mnist\r\n"
     ]
    },
    {
     "name": "stdout",
     "output_type": "stream",
     "text": [
      "Successfully installed mnist-0.2.2\r\n"
     ]
    }
   ],
   "source": [
    "!pip install mnist"
   ]
  },
  {
   "cell_type": "markdown",
   "id": "69df9c9a",
   "metadata": {
    "papermill": {
     "duration": 0.030426,
     "end_time": "2021-11-08T20:08:39.558104",
     "exception": false,
     "start_time": "2021-11-08T20:08:39.527678",
     "status": "completed"
    },
    "tags": []
   },
   "source": [
    "## Preparing the Data"
   ]
  },
  {
   "cell_type": "code",
   "execution_count": 4,
   "id": "7f69d806",
   "metadata": {
    "execution": {
     "iopub.execute_input": "2021-11-08T20:08:39.628108Z",
     "iopub.status.busy": "2021-11-08T20:08:39.621826Z",
     "iopub.status.idle": "2021-11-08T20:08:39.641966Z",
     "shell.execute_reply": "2021-11-08T20:08:39.641461Z"
    },
    "papermill": {
     "duration": 0.054678,
     "end_time": "2021-11-08T20:08:39.642107",
     "exception": false,
     "start_time": "2021-11-08T20:08:39.587429",
     "status": "completed"
    },
    "tags": []
   },
   "outputs": [],
   "source": [
    "import mnist"
   ]
  },
  {
   "cell_type": "code",
   "execution_count": 5,
   "id": "a411e44f",
   "metadata": {
    "execution": {
     "iopub.execute_input": "2021-11-08T20:08:39.710162Z",
     "iopub.status.busy": "2021-11-08T20:08:39.709517Z",
     "iopub.status.idle": "2021-11-08T20:08:40.428029Z",
     "shell.execute_reply": "2021-11-08T20:08:40.428519Z"
    },
    "papermill": {
     "duration": 0.753891,
     "end_time": "2021-11-08T20:08:40.428693",
     "exception": false,
     "start_time": "2021-11-08T20:08:39.674802",
     "status": "completed"
    },
    "tags": []
   },
   "outputs": [],
   "source": [
    "train_images = mnist.train_images()\n",
    "train_labels = mnist.train_labels()"
   ]
  },
  {
   "cell_type": "code",
   "execution_count": 6,
   "id": "dceab3a5",
   "metadata": {
    "execution": {
     "iopub.execute_input": "2021-11-08T20:08:40.494307Z",
     "iopub.status.busy": "2021-11-08T20:08:40.493676Z",
     "iopub.status.idle": "2021-11-08T20:08:40.511645Z",
     "shell.execute_reply": "2021-11-08T20:08:40.511087Z"
    },
    "papermill": {
     "duration": 0.053429,
     "end_time": "2021-11-08T20:08:40.511779",
     "exception": false,
     "start_time": "2021-11-08T20:08:40.458350",
     "status": "completed"
    },
    "tags": []
   },
   "outputs": [
    {
     "data": {
      "text/plain": [
       "((60000, 28, 28), (60000,))"
      ]
     },
     "execution_count": 6,
     "metadata": {},
     "output_type": "execute_result"
    }
   ],
   "source": [
    "train_images.shape, train_labels.shape"
   ]
  },
  {
   "cell_type": "code",
   "execution_count": 7,
   "id": "f50dc2bb",
   "metadata": {
    "execution": {
     "iopub.execute_input": "2021-11-08T20:08:40.575933Z",
     "iopub.status.busy": "2021-11-08T20:08:40.575296Z",
     "iopub.status.idle": "2021-11-08T20:08:40.821991Z",
     "shell.execute_reply": "2021-11-08T20:08:40.821445Z"
    },
    "papermill": {
     "duration": 0.280883,
     "end_time": "2021-11-08T20:08:40.822135",
     "exception": false,
     "start_time": "2021-11-08T20:08:40.541252",
     "status": "completed"
    },
    "tags": []
   },
   "outputs": [],
   "source": [
    "test_images = mnist.test_images()\n",
    "test_labels = mnist.test_labels()"
   ]
  },
  {
   "cell_type": "code",
   "execution_count": 8,
   "id": "fc38cf1b",
   "metadata": {
    "execution": {
     "iopub.execute_input": "2021-11-08T20:08:40.886428Z",
     "iopub.status.busy": "2021-11-08T20:08:40.885676Z",
     "iopub.status.idle": "2021-11-08T20:08:40.902561Z",
     "shell.execute_reply": "2021-11-08T20:08:40.901776Z"
    },
    "papermill": {
     "duration": 0.051063,
     "end_time": "2021-11-08T20:08:40.902701",
     "exception": false,
     "start_time": "2021-11-08T20:08:40.851638",
     "status": "completed"
    },
    "tags": []
   },
   "outputs": [
    {
     "data": {
      "text/plain": [
       "((10000, 28, 28), (10000,))"
      ]
     },
     "execution_count": 8,
     "metadata": {},
     "output_type": "execute_result"
    }
   ],
   "source": [
    "test_images.shape, test_labels.shape"
   ]
  },
  {
   "cell_type": "code",
   "execution_count": 9,
   "id": "f9ed8fe0",
   "metadata": {
    "execution": {
     "iopub.execute_input": "2021-11-08T20:08:40.968254Z",
     "iopub.status.busy": "2021-11-08T20:08:40.967636Z",
     "iopub.status.idle": "2021-11-08T20:08:41.133307Z",
     "shell.execute_reply": "2021-11-08T20:08:41.132782Z"
    },
    "papermill": {
     "duration": 0.200643,
     "end_time": "2021-11-08T20:08:41.133440",
     "exception": false,
     "start_time": "2021-11-08T20:08:40.932797",
     "status": "completed"
    },
    "tags": []
   },
   "outputs": [
    {
     "name": "stdout",
     "output_type": "stream",
     "text": [
      "2\n"
     ]
    },
    {
     "data": {
      "text/plain": [
       "<matplotlib.image.AxesImage at 0x7f9d75dbb128>"
      ]
     },
     "execution_count": 9,
     "metadata": {},
     "output_type": "execute_result"
    },
    {
     "data": {
      "image/png": "[encoded data removed]",
      "text/plain": [
       "<Figure size 432x288 with 1 Axes>"
      ]
     },
     "metadata": {
      "needs_background": "light"
     },
     "output_type": "display_data"
    }
   ],
   "source": [
    "image_index = 7776 # You may select anything up to 60,000\n",
    "print(train_labels[image_index]) \n",
    "plt.imshow(train_images[image_index], cmap='Greys')"
   ]
  },
  {
   "cell_type": "markdown",
   "id": "a8d2388d",
   "metadata": {
    "papermill": {
     "duration": 0.033821,
     "end_time": "2021-11-08T20:08:41.198857",
     "exception": false,
     "start_time": "2021-11-08T20:08:41.165036",
     "status": "completed"
    },
    "tags": []
   },
   "source": [
    "## Filter data to get 3 and 8 out"
   ]
  },
  {
   "cell_type": "code",
   "execution_count": 10,
   "id": "776f7fc7",
   "metadata": {
    "execution": {
     "iopub.execute_input": "2021-11-08T20:08:41.266396Z",
     "iopub.status.busy": "2021-11-08T20:08:41.265763Z",
     "iopub.status.idle": "2021-11-08T20:08:41.283559Z",
     "shell.execute_reply": "2021-11-08T20:08:41.284017Z"
    },
    "papermill": {
     "duration": 0.053679,
     "end_time": "2021-11-08T20:08:41.284179",
     "exception": false,
     "start_time": "2021-11-08T20:08:41.230500",
     "status": "completed"
    },
    "tags": []
   },
   "outputs": [],
   "source": [
    "train_filter = np.where((train_labels == 3 ) | (train_labels == 8))\n",
    "test_filter = np.where((test_labels == 3) | (test_labels == 8))\n",
    "X_train, y_train = train_images[train_filter], train_labels[train_filter]\n",
    "X_test, y_test = test_images[test_filter], test_labels[test_filter]"
   ]
  },
  {
   "cell_type": "markdown",
   "id": "948f0b7e",
   "metadata": {
    "papermill": {
     "duration": 0.031039,
     "end_time": "2021-11-08T20:08:41.346586",
     "exception": false,
     "start_time": "2021-11-08T20:08:41.315547",
     "status": "completed"
    },
    "tags": []
   },
   "source": [
    "We normalize the pizel values in the 0 to 1 range"
   ]
  },
  {
   "cell_type": "code",
   "execution_count": 11,
   "id": "ee4c2166",
   "metadata": {
    "execution": {
     "iopub.execute_input": "2021-11-08T20:08:41.413524Z",
     "iopub.status.busy": "2021-11-08T20:08:41.412901Z",
     "iopub.status.idle": "2021-11-08T20:08:41.469130Z",
     "shell.execute_reply": "2021-11-08T20:08:41.468419Z"
    },
    "papermill": {
     "duration": 0.091964,
     "end_time": "2021-11-08T20:08:41.469278",
     "exception": false,
     "start_time": "2021-11-08T20:08:41.377314",
     "status": "completed"
    },
    "tags": []
   },
   "outputs": [],
   "source": [
    "X_train = X_train/255.\n",
    "X_test = X_test/255."
   ]
  },
  {
   "cell_type": "markdown",
   "id": "ddcf4fab",
   "metadata": {
    "papermill": {
     "duration": 0.031457,
     "end_time": "2021-11-08T20:08:41.531935",
     "exception": false,
     "start_time": "2021-11-08T20:08:41.500478",
     "status": "completed"
    },
    "tags": []
   },
   "source": [
    "And setup the labels as 1 (when the digit is 3) and 0 (when the digit is 8)"
   ]
  },
  {
   "cell_type": "code",
   "execution_count": 12,
   "id": "7dc908f2",
   "metadata": {
    "execution": {
     "iopub.execute_input": "2021-11-08T20:08:41.600183Z",
     "iopub.status.busy": "2021-11-08T20:08:41.599552Z",
     "iopub.status.idle": "2021-11-08T20:08:41.615990Z",
     "shell.execute_reply": "2021-11-08T20:08:41.615275Z"
    },
    "papermill": {
     "duration": 0.051685,
     "end_time": "2021-11-08T20:08:41.616130",
     "exception": false,
     "start_time": "2021-11-08T20:08:41.564445",
     "status": "completed"
    },
    "tags": []
   },
   "outputs": [],
   "source": [
    "y_train = 1*(y_train==3)\n",
    "y_test = 1*(y_test==3)"
   ]
  },
  {
   "cell_type": "code",
   "execution_count": 13,
   "id": "01e4e969",
   "metadata": {
    "execution": {
     "iopub.execute_input": "2021-11-08T20:08:41.685664Z",
     "iopub.status.busy": "2021-11-08T20:08:41.685040Z",
     "iopub.status.idle": "2021-11-08T20:08:41.701193Z",
     "shell.execute_reply": "2021-11-08T20:08:41.700709Z"
    },
    "papermill": {
     "duration": 0.053097,
     "end_time": "2021-11-08T20:08:41.701331",
     "exception": false,
     "start_time": "2021-11-08T20:08:41.648234",
     "status": "completed"
    },
    "tags": []
   },
   "outputs": [
    {
     "data": {
      "text/plain": [
       "((11982, 28, 28), (1984, 28, 28))"
      ]
     },
     "execution_count": 13,
     "metadata": {},
     "output_type": "execute_result"
    }
   ],
   "source": [
    "X_train.shape, X_test.shape"
   ]
  },
  {
   "cell_type": "markdown",
   "id": "5ccf3f85",
   "metadata": {
    "papermill": {
     "duration": 0.031731,
     "end_time": "2021-11-08T20:08:41.765094",
     "exception": false,
     "start_time": "2021-11-08T20:08:41.733363",
     "status": "completed"
    },
    "tags": []
   },
   "source": [
    "We reshape the data to flatten the image pixels into a set of features or co-variates:"
   ]
  },
  {
   "cell_type": "code",
   "execution_count": 14,
   "id": "5286a4a3",
   "metadata": {
    "execution": {
     "iopub.execute_input": "2021-11-08T20:08:41.834582Z",
     "iopub.status.busy": "2021-11-08T20:08:41.833956Z",
     "iopub.status.idle": "2021-11-08T20:08:41.849445Z",
     "shell.execute_reply": "2021-11-08T20:08:41.848956Z"
    },
    "papermill": {
     "duration": 0.052778,
     "end_time": "2021-11-08T20:08:41.849584",
     "exception": false,
     "start_time": "2021-11-08T20:08:41.796806",
     "status": "completed"
    },
    "tags": []
   },
   "outputs": [
    {
     "data": {
      "text/plain": [
       "((11982, 784), (1984, 784))"
      ]
     },
     "execution_count": 14,
     "metadata": {},
     "output_type": "execute_result"
    }
   ],
   "source": [
    "X_train = X_train.reshape(X_train.shape[0], -1)\n",
    "X_test = X_test.reshape(X_test.shape[0], -1)\n",
    "X_train.shape, X_test.shape"
   ]
  },
  {
   "cell_type": "code",
   "execution_count": 15,
   "id": "73c5f88a",
   "metadata": {
    "execution": {
     "iopub.execute_input": "2021-11-08T20:08:41.922068Z",
     "iopub.status.busy": "2021-11-08T20:08:41.921448Z",
     "iopub.status.idle": "2021-11-08T20:08:41.943486Z",
     "shell.execute_reply": "2021-11-08T20:08:41.944009Z"
    },
    "papermill": {
     "duration": 0.063013,
     "end_time": "2021-11-08T20:08:41.944172",
     "exception": false,
     "start_time": "2021-11-08T20:08:41.881159",
     "status": "completed"
    },
    "tags": []
   },
   "outputs": [],
   "source": [
    "#Impoting functions from 'Kudzu'\n",
    "from kudzu.model import Model\n",
    "from kudzu.train import Learner\n",
    "from kudzu.optim import GD\n",
    "from kudzu.data import Data, Sampler,Dataloader\n",
    "\n",
    "from kudzu.callbacks import AccCallback\n",
    "from kudzu.callbacks import ClfCallback\n",
    "\n",
    "from kudzu.loss import MSE\n",
    "\n",
    "from kudzu.layer import Sigmoid,Relu\n",
    "from kudzu.layer import Affine"
   ]
  },
  {
   "cell_type": "markdown",
   "id": "bc01172a",
   "metadata": {
    "papermill": {
     "duration": 0.031145,
     "end_time": "2021-11-08T20:08:42.008185",
     "exception": false,
     "start_time": "2021-11-08T20:08:41.977040",
     "status": "completed"
    },
    "tags": []
   },
   "source": [
    "### Let us create a `Config` class, to store important parameters. \n",
    "This class essentially plays the role of a dictionary."
   ]
  },
  {
   "cell_type": "code",
   "execution_count": 16,
   "id": "978281aa",
   "metadata": {
    "execution": {
     "iopub.execute_input": "2021-11-08T20:08:42.075547Z",
     "iopub.status.busy": "2021-11-08T20:08:42.074879Z",
     "iopub.status.idle": "2021-11-08T20:08:42.088660Z",
     "shell.execute_reply": "2021-11-08T20:08:42.088129Z"
    },
    "papermill": {
     "duration": 0.049235,
     "end_time": "2021-11-08T20:08:42.088797",
     "exception": false,
     "start_time": "2021-11-08T20:08:42.039562",
     "status": "completed"
    },
    "tags": []
   },
   "outputs": [],
   "source": [
    "class Config:\n",
    "    pass\n",
    "config = Config()\n",
    "config.lr = 0.001\n",
    "config.num_epochs = 250\n",
    "config.bs = 50"
   ]
  },
  {
   "cell_type": "markdown",
   "id": "1385fa59",
   "metadata": {
    "papermill": {
     "duration": 0.032564,
     "end_time": "2021-11-08T20:08:42.156772",
     "exception": false,
     "start_time": "2021-11-08T20:08:42.124208",
     "status": "completed"
    },
    "tags": []
   },
   "source": [
    "### Running Models with the Training data\n",
    "Details about the network layers:\n",
    "- A first affine layer has 784 inputs and does 100 affine transforms. These are followed by a Relu\n",
    "- A second affine layer has 100 inputs from the 100 activations of the past layer, and does 100 affine transforms. These are followed by a Relu\n",
    "- A third affine layer has 100 activations and does 2 affine transformations to create an embedding for visualization. There is no non-linearity here.\n",
    "- A final \"logistic regression\" which has an affine transform from 2 inputs to 1 output, which is squeezed through a sigmoid.\n"
   ]
  },
  {
   "cell_type": "code",
   "execution_count": 17,
   "id": "2b9c66db",
   "metadata": {
    "execution": {
     "iopub.execute_input": "2021-11-08T20:08:42.227761Z",
     "iopub.status.busy": "2021-11-08T20:08:42.227103Z",
     "iopub.status.idle": "2021-11-08T20:08:42.241298Z",
     "shell.execute_reply": "2021-11-08T20:08:42.240812Z"
    },
    "papermill": {
     "duration": 0.052181,
     "end_time": "2021-11-08T20:08:42.241434",
     "exception": false,
     "start_time": "2021-11-08T20:08:42.189253",
     "status": "completed"
    },
    "tags": []
   },
   "outputs": [],
   "source": [
    "data = Data(X_train, y_train.reshape(-1,1))\n",
    "sampler = Sampler(data, config.bs, shuffle=True)\n",
    "\n",
    "dl = Dataloader(data, sampler)\n",
    "\n",
    "opt = GD(config.lr)\n",
    "loss = MSE()"
   ]
  },
  {
   "cell_type": "code",
   "execution_count": 18,
   "id": "b275e4c2",
   "metadata": {
    "execution": {
     "iopub.execute_input": "2021-11-08T20:08:42.312294Z",
     "iopub.status.busy": "2021-11-08T20:08:42.311681Z",
     "iopub.status.idle": "2021-11-08T20:08:42.327465Z",
     "shell.execute_reply": "2021-11-08T20:08:42.326718Z"
    },
    "papermill": {
     "duration": 0.05458,
     "end_time": "2021-11-08T20:08:42.327657",
     "exception": false,
     "start_time": "2021-11-08T20:08:42.273077",
     "status": "completed"
    },
    "tags": []
   },
   "outputs": [],
   "source": [
    "training_data_x = X_train\n",
    "testing_data_x = X_test\n",
    "training_data_y = y_train.reshape(-1,1)\n",
    "testing_data_y = y_test.reshape(-1,1)"
   ]
  },
  {
   "cell_type": "code",
   "execution_count": 19,
   "id": "76951160",
   "metadata": {
    "execution": {
     "iopub.execute_input": "2021-11-08T20:08:42.397509Z",
     "iopub.status.busy": "2021-11-08T20:08:42.396864Z",
     "iopub.status.idle": "2021-11-08T20:08:42.419322Z",
     "shell.execute_reply": "2021-11-08T20:08:42.418740Z"
    },
    "papermill": {
     "duration": 0.060352,
     "end_time": "2021-11-08T20:08:42.419468",
     "exception": false,
     "start_time": "2021-11-08T20:08:42.359116",
     "status": "completed"
    },
    "tags": []
   },
   "outputs": [
    {
     "name": "stdout",
     "output_type": "stream",
     "text": [
      "xavier\n",
      "xavier\n",
      "xavier\n",
      "xavier\n",
      "xavier\n"
     ]
    }
   ],
   "source": [
    "layers = [Affine(\"first\", 784, 100), Relu(\"first\"), Affine(\"second\", 100, 100), Relu(\"second\"), Affine(\"third\", 100, 2), Affine(\"last\", 2, 1), Sigmoid(\"last\")]\n",
    "model_nn = Model(layers)\n",
    "model_lr = Model([Affine(\"logits\", 784, 1), Sigmoid(\"sigmoid\")])"
   ]
  },
  {
   "cell_type": "code",
   "execution_count": 20,
   "id": "6eede77a",
   "metadata": {
    "execution": {
     "iopub.execute_input": "2021-11-08T20:08:42.492217Z",
     "iopub.status.busy": "2021-11-08T20:08:42.491501Z",
     "iopub.status.idle": "2021-11-08T20:08:42.505765Z",
     "shell.execute_reply": "2021-11-08T20:08:42.504715Z"
    },
    "papermill": {
     "duration": 0.054201,
     "end_time": "2021-11-08T20:08:42.506004",
     "exception": false,
     "start_time": "2021-11-08T20:08:42.451803",
     "status": "completed"
    },
    "tags": []
   },
   "outputs": [],
   "source": [
    "nn_learner = Learner(loss, model_nn, opt, config.num_epochs)\n",
    "acc_nn = ClfCallback(nn_learner, config.bs, training_data_x , testing_data_x, training_data_y, testing_data_y)\n",
    "nn_learner.set_callbacks([acc_nn])"
   ]
  },
  {
   "cell_type": "code",
   "execution_count": 21,
   "id": "877b6cc7",
   "metadata": {
    "execution": {
     "iopub.execute_input": "2021-11-08T20:08:42.582259Z",
     "iopub.status.busy": "2021-11-08T20:08:42.581609Z",
     "iopub.status.idle": "2021-11-08T20:08:42.595910Z",
     "shell.execute_reply": "2021-11-08T20:08:42.595371Z"
    },
    "papermill": {
     "duration": 0.052108,
     "end_time": "2021-11-08T20:08:42.596058",
     "exception": false,
     "start_time": "2021-11-08T20:08:42.543950",
     "status": "completed"
    },
    "tags": []
   },
   "outputs": [],
   "source": [
    "lr_learner = Learner(loss, model_lr, opt, config.num_epochs)\n",
    "acc_lr = ClfCallback(lr_learner, config.bs, training_data_x , testing_data_x, training_data_y, testing_data_y)\n",
    "lr_learner.set_callbacks([acc_lr])"
   ]
  },
  {
   "cell_type": "code",
   "execution_count": 22,
   "id": "d9b133c3",
   "metadata": {
    "execution": {
     "iopub.execute_input": "2021-11-08T20:08:42.668364Z",
     "iopub.status.busy": "2021-11-08T20:08:42.667746Z",
     "iopub.status.idle": "2021-11-08T20:10:18.655954Z",
     "shell.execute_reply": "2021-11-08T20:10:18.656865Z"
    },
    "papermill": {
     "duration": 96.02784,
     "end_time": "2021-11-08T20:10:18.657041",
     "exception": false,
     "start_time": "2021-11-08T20:08:42.629201",
     "status": "completed"
    },
    "tags": []
   },
   "outputs": [
    {
     "name": "stdout",
     "output_type": "stream",
     "text": [
      "Epoch 0, Loss 0.2557\n",
      "Training Accuracy: 0.5865, Testing Accuracy: 0.6245\n",
      "\n"
     ]
    },
    {
     "name": "stdout",
     "output_type": "stream",
     "text": [
      "Epoch 10, Loss 0.0848\n",
      "Training Accuracy: 0.9258, Testing Accuracy: 0.9385\n",
      "\n"
     ]
    },
    {
     "name": "stdout",
     "output_type": "stream",
     "text": [
      "Epoch 20, Loss 0.0523\n",
      "Training Accuracy: 0.9464, Testing Accuracy: 0.9536\n",
      "\n"
     ]
    },
    {
     "name": "stdout",
     "output_type": "stream",
     "text": [
      "Epoch 30, Loss 0.0419\n",
      "Training Accuracy: 0.9540, Testing Accuracy: 0.9582\n",
      "\n"
     ]
    },
    {
     "name": "stdout",
     "output_type": "stream",
     "text": [
      "Epoch 40, Loss 0.0367\n",
      "Training Accuracy: 0.9583, Testing Accuracy: 0.9642\n",
      "\n"
     ]
    },
    {
     "name": "stdout",
     "output_type": "stream",
     "text": [
      "Epoch 50, Loss 0.0335\n",
      "Training Accuracy: 0.9606, Testing Accuracy: 0.9688\n",
      "\n"
     ]
    },
    {
     "name": "stdout",
     "output_type": "stream",
     "text": [
      "Epoch 60, Loss 0.0312\n",
      "Training Accuracy: 0.9641, Testing Accuracy: 0.9693\n",
      "\n"
     ]
    },
    {
     "name": "stdout",
     "output_type": "stream",
     "text": [
      "Epoch 70, Loss 0.0295\n",
      "Training Accuracy: 0.9664, Testing Accuracy: 0.9708\n",
      "\n"
     ]
    },
    {
     "name": "stdout",
     "output_type": "stream",
     "text": [
      "Epoch 80, Loss 0.0281\n",
      "Training Accuracy: 0.9684, Testing Accuracy: 0.9708\n",
      "\n"
     ]
    },
    {
     "name": "stdout",
     "output_type": "stream",
     "text": [
      "Epoch 90, Loss 0.0269\n",
      "Training Accuracy: 0.9692, Testing Accuracy: 0.9698\n",
      "\n"
     ]
    },
    {
     "name": "stdout",
     "output_type": "stream",
     "text": [
      "Epoch 100, Loss 0.0259\n",
      "Training Accuracy: 0.9703, Testing Accuracy: 0.9703\n",
      "\n"
     ]
    },
    {
     "name": "stdout",
     "output_type": "stream",
     "text": [
      "Epoch 110, Loss 0.025\n",
      "Training Accuracy: 0.9717, Testing Accuracy: 0.9718\n",
      "\n"
     ]
    },
    {
     "name": "stdout",
     "output_type": "stream",
     "text": [
      "Epoch 120, Loss 0.0242\n",
      "Training Accuracy: 0.9723, Testing Accuracy: 0.9723\n",
      "\n"
     ]
    },
    {
     "name": "stdout",
     "output_type": "stream",
     "text": [
      "Epoch 130, Loss 0.0235\n",
      "Training Accuracy: 0.9731, Testing Accuracy: 0.9718\n",
      "\n"
     ]
    },
    {
     "name": "stdout",
     "output_type": "stream",
     "text": [
      "Epoch 140, Loss 0.0229\n",
      "Training Accuracy: 0.9740, Testing Accuracy: 0.9723\n",
      "\n"
     ]
    },
    {
     "name": "stdout",
     "output_type": "stream",
     "text": [
      "Epoch 150, Loss 0.0223\n",
      "Training Accuracy: 0.9746, Testing Accuracy: 0.9728\n",
      "\n"
     ]
    },
    {
     "name": "stdout",
     "output_type": "stream",
     "text": [
      "Epoch 160, Loss 0.0217\n",
      "Training Accuracy: 0.9752, Testing Accuracy: 0.9728\n",
      "\n"
     ]
    },
    {
     "name": "stdout",
     "output_type": "stream",
     "text": [
      "Epoch 170, Loss 0.0212\n",
      "Training Accuracy: 0.9757, Testing Accuracy: 0.9723\n",
      "\n"
     ]
    },
    {
     "name": "stdout",
     "output_type": "stream",
     "text": [
      "Epoch 180, Loss 0.0207\n",
      "Training Accuracy: 0.9764, Testing Accuracy: 0.9718\n",
      "\n"
     ]
    },
    {
     "name": "stdout",
     "output_type": "stream",
     "text": [
      "Epoch 190, Loss 0.0202\n",
      "Training Accuracy: 0.9775, Testing Accuracy: 0.9728\n",
      "\n"
     ]
    },
    {
     "name": "stdout",
     "output_type": "stream",
     "text": [
      "Epoch 200, Loss 0.0197\n",
      "Training Accuracy: 0.9781, Testing Accuracy: 0.9743\n",
      "\n"
     ]
    },
    {
     "name": "stdout",
     "output_type": "stream",
     "text": [
      "Epoch 210, Loss 0.0193\n",
      "Training Accuracy: 0.9786, Testing Accuracy: 0.9753\n",
      "\n"
     ]
    },
    {
     "name": "stdout",
     "output_type": "stream",
     "text": [
      "Epoch 220, Loss 0.0188\n",
      "Training Accuracy: 0.9791, Testing Accuracy: 0.9758\n",
      "\n"
     ]
    },
    {
     "name": "stdout",
     "output_type": "stream",
     "text": [
      "Epoch 230, Loss 0.0184\n",
      "Training Accuracy: 0.9798, Testing Accuracy: 0.9758\n",
      "\n"
     ]
    },
    {
     "name": "stdout",
     "output_type": "stream",
     "text": [
      "Epoch 240, Loss 0.018\n",
      "Training Accuracy: 0.9801, Testing Accuracy: 0.9758\n",
      "\n"
     ]
    },
    {
     "data": {
      "text/plain": [
       "0.0002912482746154246"
      ]
     },
     "execution_count": 22,
     "metadata": {},
     "output_type": "execute_result"
    }
   ],
   "source": [
    "nn_learner.train_loop(dl)"
   ]
  },
  {
   "cell_type": "code",
   "execution_count": 23,
   "id": "e0163366",
   "metadata": {
    "execution": {
     "iopub.execute_input": "2021-11-08T20:10:18.748920Z",
     "iopub.status.busy": "2021-11-08T20:10:18.748279Z",
     "iopub.status.idle": "2021-11-08T20:10:35.833928Z",
     "shell.execute_reply": "2021-11-08T20:10:35.834783Z"
    },
    "papermill": {
     "duration": 17.13774,
     "end_time": "2021-11-08T20:10:35.834955",
     "exception": false,
     "start_time": "2021-11-08T20:10:18.697215",
     "status": "completed"
    },
    "tags": []
   },
   "outputs": [
    {
     "name": "stdout",
     "output_type": "stream",
     "text": [
      "Epoch 0, Loss 0.2484\n",
      "Training Accuracy: 0.6768, Testing Accuracy: 0.6729\n",
      "\n"
     ]
    },
    {
     "name": "stdout",
     "output_type": "stream",
     "text": [
      "Epoch 10, Loss 0.1025\n",
      "Training Accuracy: 0.9109, Testing Accuracy: 0.9224\n",
      "\n"
     ]
    },
    {
     "name": "stdout",
     "output_type": "stream",
     "text": [
      "Epoch 20, Loss 0.0788\n",
      "Training Accuracy: 0.9279, Testing Accuracy: 0.9400\n",
      "\n"
     ]
    },
    {
     "name": "stdout",
     "output_type": "stream",
     "text": [
      "Epoch 30, Loss 0.0679\n",
      "Training Accuracy: 0.9360, Testing Accuracy: 0.9501\n",
      "\n"
     ]
    },
    {
     "name": "stdout",
     "output_type": "stream",
     "text": [
      "Epoch 40, Loss 0.0614\n",
      "Training Accuracy: 0.9406, Testing Accuracy: 0.9541\n",
      "\n"
     ]
    },
    {
     "name": "stdout",
     "output_type": "stream",
     "text": [
      "Epoch 50, Loss 0.0569\n",
      "Training Accuracy: 0.9448, Testing Accuracy: 0.9577\n",
      "\n"
     ]
    },
    {
     "name": "stdout",
     "output_type": "stream",
     "text": [
      "Epoch 60, Loss 0.0537\n",
      "Training Accuracy: 0.9470, Testing Accuracy: 0.9592\n",
      "\n"
     ]
    },
    {
     "name": "stdout",
     "output_type": "stream",
     "text": [
      "Epoch 70, Loss 0.0512\n",
      "Training Accuracy: 0.9487, Testing Accuracy: 0.9607\n",
      "\n"
     ]
    },
    {
     "name": "stdout",
     "output_type": "stream",
     "text": [
      "Epoch 80, Loss 0.0491\n",
      "Training Accuracy: 0.9504, Testing Accuracy: 0.9622\n",
      "\n"
     ]
    },
    {
     "name": "stdout",
     "output_type": "stream",
     "text": [
      "Epoch 90, Loss 0.0475\n",
      "Training Accuracy: 0.9512, Testing Accuracy: 0.9617\n",
      "\n"
     ]
    },
    {
     "name": "stdout",
     "output_type": "stream",
     "text": [
      "Epoch 100, Loss 0.0461\n",
      "Training Accuracy: 0.9527, Testing Accuracy: 0.9632\n",
      "\n"
     ]
    },
    {
     "name": "stdout",
     "output_type": "stream",
     "text": [
      "Epoch 110, Loss 0.0449\n",
      "Training Accuracy: 0.9534, Testing Accuracy: 0.9642\n",
      "\n"
     ]
    },
    {
     "name": "stdout",
     "output_type": "stream",
     "text": [
      "Epoch 120, Loss 0.0438\n",
      "Training Accuracy: 0.9547, Testing Accuracy: 0.9652\n",
      "\n"
     ]
    },
    {
     "name": "stdout",
     "output_type": "stream",
     "text": [
      "Epoch 130, Loss 0.0429\n",
      "Training Accuracy: 0.9551, Testing Accuracy: 0.9652\n",
      "\n"
     ]
    },
    {
     "name": "stdout",
     "output_type": "stream",
     "text": [
      "Epoch 140, Loss 0.0421\n",
      "Training Accuracy: 0.9560, Testing Accuracy: 0.9662\n",
      "\n"
     ]
    },
    {
     "name": "stdout",
     "output_type": "stream",
     "text": [
      "Epoch 150, Loss 0.0413\n",
      "Training Accuracy: 0.9569, Testing Accuracy: 0.9662\n",
      "\n"
     ]
    },
    {
     "name": "stdout",
     "output_type": "stream",
     "text": [
      "Epoch 160, Loss 0.0407\n",
      "Training Accuracy: 0.9575, Testing Accuracy: 0.9662\n",
      "\n"
     ]
    },
    {
     "name": "stdout",
     "output_type": "stream",
     "text": [
      "Epoch 170, Loss 0.0401\n",
      "Training Accuracy: 0.9581, Testing Accuracy: 0.9672\n",
      "\n"
     ]
    },
    {
     "name": "stdout",
     "output_type": "stream",
     "text": [
      "Epoch 180, Loss 0.0395\n",
      "Training Accuracy: 0.9585, Testing Accuracy: 0.9672\n",
      "\n"
     ]
    },
    {
     "name": "stdout",
     "output_type": "stream",
     "text": [
      "Epoch 190, Loss 0.039\n",
      "Training Accuracy: 0.9591, Testing Accuracy: 0.9672\n",
      "\n"
     ]
    },
    {
     "name": "stdout",
     "output_type": "stream",
     "text": [
      "Epoch 200, Loss 0.0385\n",
      "Training Accuracy: 0.9592, Testing Accuracy: 0.9672\n",
      "\n"
     ]
    },
    {
     "name": "stdout",
     "output_type": "stream",
     "text": [
      "Epoch 210, Loss 0.0381\n",
      "Training Accuracy: 0.9599, Testing Accuracy: 0.9677\n",
      "\n"
     ]
    },
    {
     "name": "stdout",
     "output_type": "stream",
     "text": [
      "Epoch 220, Loss 0.0377\n",
      "Training Accuracy: 0.9599, Testing Accuracy: 0.9688\n",
      "\n"
     ]
    },
    {
     "name": "stdout",
     "output_type": "stream",
     "text": [
      "Epoch 230, Loss 0.0373\n",
      "Training Accuracy: 0.9600, Testing Accuracy: 0.9677\n",
      "\n"
     ]
    },
    {
     "name": "stdout",
     "output_type": "stream",
     "text": [
      "Epoch 240, Loss 0.0369\n",
      "Training Accuracy: 0.9603, Testing Accuracy: 0.9677\n",
      "\n"
     ]
    },
    {
     "data": {
      "text/plain": [
       "0.015220962742630233"
      ]
     },
     "execution_count": 23,
     "metadata": {},
     "output_type": "execute_result"
    }
   ],
   "source": [
    "lr_learner.train_loop(dl)"
   ]
  },
  {
   "cell_type": "code",
   "execution_count": 24,
   "id": "ca410940",
   "metadata": {
    "execution": {
     "iopub.execute_input": "2021-11-08T20:10:35.940869Z",
     "iopub.status.busy": "2021-11-08T20:10:35.940228Z",
     "iopub.status.idle": "2021-11-08T20:10:36.222134Z",
     "shell.execute_reply": "2021-11-08T20:10:36.222606Z"
    },
    "papermill": {
     "duration": 0.339829,
     "end_time": "2021-11-08T20:10:36.222775",
     "exception": false,
     "start_time": "2021-11-08T20:10:35.882946",
     "status": "completed"
    },
    "tags": []
   },
   "outputs": [
    {
     "data": {
      "text/plain": [
       "<matplotlib.legend.Legend at 0x7f9d685947b8>"
      ]
     },
     "execution_count": 24,
     "metadata": {},
     "output_type": "execute_result"
    },
    {
     "data": {
      "image/png": "[encoded data removed]",
      "text/plain": [
       "<Figure size 1080x720 with 1 Axes>"
      ]
     },
     "metadata": {
      "needs_background": "light"
     },
     "output_type": "display_data"
    }
   ],
   "source": [
    "#comparing the results of NN and LR\n",
    "plt.figure(figsize=(15,10))\n",
    "\n",
    "# Neural Network plots\n",
    "plt.plot(acc_nn.accuracies, 'r-', label = \"Training Accuracies - NN\")\n",
    "plt.plot(acc_nn.test_accuracies, 'g-', label = \"Testing Accuracies - NN\")\n",
    "\n",
    "# Logistic Regression plots\n",
    "plt.plot(acc_lr.accuracies, 'k-', label = \"Training Accuracies - LR\")\n",
    "plt.plot(acc_lr.test_accuracies, 'b-', label = \"Testing Accuracies - LR\")\n",
    "plt.legend()"
   ]
  },
  {
   "cell_type": "markdown",
   "id": "80dfb35c",
   "metadata": {
    "papermill": {
     "duration": 0.048579,
     "end_time": "2021-11-08T20:10:36.319951",
     "exception": false,
     "start_time": "2021-11-08T20:10:36.271372",
     "status": "completed"
    },
    "tags": []
   },
   "source": [
    "#### Plotting the outputs of this layer of the NN.\n"
   ]
  },
  {
   "cell_type": "code",
   "execution_count": 25,
   "id": "45eb2ff5",
   "metadata": {
    "execution": {
     "iopub.execute_input": "2021-11-08T20:10:36.433527Z",
     "iopub.status.busy": "2021-11-08T20:10:36.432377Z",
     "iopub.status.idle": "2021-11-08T20:10:36.451582Z",
     "shell.execute_reply": "2021-11-08T20:10:36.452392Z"
    },
    "papermill": {
     "duration": 0.077342,
     "end_time": "2021-11-08T20:10:36.452567",
     "exception": false,
     "start_time": "2021-11-08T20:10:36.375225",
     "status": "completed"
    },
    "tags": []
   },
   "outputs": [],
   "source": [
    "new_model = Model(layers[:-2])\n",
    "testing_plot = new_model(testing_data_x)"
   ]
  },
  {
   "cell_type": "code",
   "execution_count": 26,
   "id": "4c0a5485",
   "metadata": {
    "execution": {
     "iopub.execute_input": "2021-11-08T20:10:36.554689Z",
     "iopub.status.busy": "2021-11-08T20:10:36.554059Z",
     "iopub.status.idle": "2021-11-08T20:10:36.806222Z",
     "shell.execute_reply": "2021-11-08T20:10:36.805661Z"
    },
    "papermill": {
     "duration": 0.30483,
     "end_time": "2021-11-08T20:10:36.806363",
     "exception": false,
     "start_time": "2021-11-08T20:10:36.501533",
     "status": "completed"
    },
    "tags": []
   },
   "outputs": [
    {
     "data": {
      "text/plain": [
       "Text(0.5, 1.0, 'Outputs')"
      ]
     },
     "execution_count": 26,
     "metadata": {},
     "output_type": "execute_result"
    },
    {
     "data": {
      "image/png": "[encoded data removed]",
      "text/plain": [
       "<Figure size 576x504 with 1 Axes>"
      ]
     },
     "metadata": {
      "needs_background": "light"
     },
     "output_type": "display_data"
    }
   ],
   "source": [
    "# Plotting the scatter plot of points and color coding by class\n",
    "plt.figure(figsize=(8,7))\n",
    "plt.scatter(testing_plot[:,0], testing_plot[:,1], alpha = 0.1, c = y_test.ravel());\n",
    "plt.title('Outputs')"
   ]
  },
  {
   "cell_type": "markdown",
   "id": "a74fcf8f",
   "metadata": {
    "papermill": {
     "duration": 0.053334,
     "end_time": "2021-11-08T20:10:36.912934",
     "exception": false,
     "start_time": "2021-11-08T20:10:36.859600",
     "status": "completed"
    },
    "tags": []
   },
   "source": [
    "Probability contours"
   ]
  },
  {
   "cell_type": "code",
   "execution_count": 27,
   "id": "d0afc8e3",
   "metadata": {
    "execution": {
     "iopub.execute_input": "2021-11-08T20:10:37.059378Z",
     "iopub.status.busy": "2021-11-08T20:10:37.058576Z",
     "iopub.status.idle": "2021-11-08T20:10:37.073341Z",
     "shell.execute_reply": "2021-11-08T20:10:37.072759Z"
    },
    "papermill": {
     "duration": 0.107274,
     "end_time": "2021-11-08T20:10:37.073479",
     "exception": false,
     "start_time": "2021-11-08T20:10:36.966205",
     "status": "completed"
    },
    "tags": []
   },
   "outputs": [],
   "source": [
    "model_prob = Model(layers[-2:]) "
   ]
  },
  {
   "cell_type": "code",
   "execution_count": 28,
   "id": "9b96e238",
   "metadata": {
    "execution": {
     "iopub.execute_input": "2021-11-08T20:10:37.188075Z",
     "iopub.status.busy": "2021-11-08T20:10:37.187403Z",
     "iopub.status.idle": "2021-11-08T20:10:37.201973Z",
     "shell.execute_reply": "2021-11-08T20:10:37.202440Z"
    },
    "papermill": {
     "duration": 0.076779,
     "end_time": "2021-11-08T20:10:37.202608",
     "exception": false,
     "start_time": "2021-11-08T20:10:37.125829",
     "status": "completed"
    },
    "tags": []
   },
   "outputs": [],
   "source": [
    "#creating the x and y ranges according to the above generated plot.\n",
    "x_range = np.linspace(-4, 1, 100) \n",
    "y_range = np.linspace(-6, 6, 100) \n",
    "x_grid, y_grid = np.meshgrid(x_range, y_range) # x_grid and y_grig are of size 100 X 100\n",
    "\n",
    "# converting x_grid and y_grid to continuous arrays\n",
    "x_gridflat = np.ravel(x_grid)\n",
    "y_gridflat = np.ravel(y_grid)\n",
    "\n",
    "# The last layer of the current model takes two columns as input. Hence transpose of np.vstack() is required.\n",
    "X = np.vstack((x_gridflat, y_gridflat)).T\n",
    "\n",
    "prob_contour = model_prob(X).reshape(100,100) "
   ]
  },
  {
   "cell_type": "code",
   "execution_count": 29,
   "id": "da72499a",
   "metadata": {
    "execution": {
     "iopub.execute_input": "2021-11-08T20:10:37.316747Z",
     "iopub.status.busy": "2021-11-08T20:10:37.316112Z",
     "iopub.status.idle": "2021-11-08T20:10:37.626955Z",
     "shell.execute_reply": "2021-11-08T20:10:37.625733Z"
    },
    "papermill": {
     "duration": 0.3725,
     "end_time": "2021-11-08T20:10:37.627103",
     "exception": false,
     "start_time": "2021-11-08T20:10:37.254603",
     "status": "completed"
    },
    "tags": []
   },
   "outputs": [
    {
     "data": {
      "image/png": "[encoded data removed]",
      "text/plain": [
       "<Figure size 720x648 with 1 Axes>"
      ]
     },
     "metadata": {
      "needs_background": "light"
     },
     "output_type": "display_data"
    }
   ],
   "source": [
    "plt.figure(figsize=(10,9))\n",
    "plt.scatter(testing_plot[:,0], testing_plot[:,1], alpha = 0.1, c = y_test.ravel())\n",
    "contours = plt.contour(x_grid,y_grid,prob_contour)\n",
    "plt.title('Probability Contours')\n",
    "plt.clabel(contours, inline = True );"
   ]
  },
  {
   "cell_type": "code",
   "execution_count": null,
   "id": "e81b4ac7",
   "metadata": {
    "papermill": {
     "duration": 0.057648,
     "end_time": "2021-11-08T20:10:37.741221",
     "exception": false,
     "start_time": "2021-11-08T20:10:37.683573",
     "status": "completed"
    },
    "tags": []
   },
   "outputs": [],
   "source": []
  }
 ],
 "metadata": {
  "kernelspec": {
   "display_name": "Python 3",
   "language": "python",
   "name": "python3"
  },
  "language_info": {
   "codemirror_mode": {
    "name": "ipython",
    "version": 3
   },
   "file_extension": ".py",
   "mimetype": "text/x-python",
   "name": "python",
   "nbconvert_exporter": "python",
   "pygments_lexer": "ipython3",
   "version": "3.6.15"
  },
  "papermill": {
   "default_parameters": {},
   "duration": 122.940254,
   "end_time": "2021-11-08T20:10:38.207523",
   "environment_variables": {},
   "exception": null,
   "input_path": "2020-08-11-part2.ipynb",
   "output_path": "2020-08-11-part2.ipynb",
   "parameters": {},
   "start_time": "2021-11-08T20:08:35.267269",
   "version": "2.3.3"
  }
 },
 "nbformat": 4,
 "nbformat_minor": 5
}