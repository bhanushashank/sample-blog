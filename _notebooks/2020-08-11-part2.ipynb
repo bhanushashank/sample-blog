{
 "cells": [
  {
   "cell_type": "markdown",
   "id": "98380cd3",
   "metadata": {
    "papermill": {
     "duration": 0.027896,
     "end_time": "2022-01-06T20:08:58.479397",
     "exception": false,
     "start_time": "2022-01-06T20:08:58.451501",
     "status": "completed"
    },
    "tags": []
   },
   "source": [
    "# Distinguish Your Own Digits (DYOD)"
   ]
  },
  {
   "cell_type": "markdown",
   "id": "ef31240d",
   "metadata": {
    "papermill": {
     "duration": 0.02367,
     "end_time": "2022-01-06T20:08:58.528086",
     "exception": false,
     "start_time": "2022-01-06T20:08:58.504416",
     "status": "completed"
    },
    "tags": []
   },
   "source": [
    "You are going to write a classifier that distinguishes between the number 3 and number 8."
   ]
  },
  {
   "cell_type": "code",
   "execution_count": 1,
   "id": "b15c8646",
   "metadata": {
    "execution": {
     "iopub.execute_input": "2022-01-06T20:08:58.587549Z",
     "iopub.status.busy": "2022-01-06T20:08:58.587024Z",
     "iopub.status.idle": "2022-01-06T20:08:58.597268Z",
     "shell.execute_reply": "2022-01-06T20:08:58.597677Z"
    },
    "papermill": {
     "duration": 0.044491,
     "end_time": "2022-01-06T20:08:58.597819",
     "exception": false,
     "start_time": "2022-01-06T20:08:58.553328",
     "status": "completed"
    },
    "tags": []
   },
   "outputs": [],
   "source": [
    "%load_ext autoreload\n",
    "%autoreload 2"
   ]
  },
  {
   "cell_type": "code",
   "execution_count": 2,
   "id": "22ef38dc",
   "metadata": {
    "execution": {
     "iopub.execute_input": "2022-01-06T20:08:58.649188Z",
     "iopub.status.busy": "2022-01-06T20:08:58.648636Z",
     "iopub.status.idle": "2022-01-06T20:08:59.218663Z",
     "shell.execute_reply": "2022-01-06T20:08:59.218127Z"
    },
    "papermill": {
     "duration": 0.596761,
     "end_time": "2022-01-06T20:08:59.218808",
     "exception": false,
     "start_time": "2022-01-06T20:08:58.622047",
     "status": "completed"
    },
    "tags": []
   },
   "outputs": [],
   "source": [
    "%matplotlib inline\n",
    "import numpy as np\n",
    "import matplotlib.pyplot as plt\n",
    "import pandas as pd"
   ]
  },
  {
   "cell_type": "markdown",
   "id": "ba036198",
   "metadata": {
    "papermill": {
     "duration": 0.023979,
     "end_time": "2022-01-06T20:08:59.267999",
     "exception": false,
     "start_time": "2022-01-06T20:08:59.244020",
     "status": "completed"
    },
    "tags": []
   },
   "source": [
    "From the command line run `pip install mnist`. This is a library that will help you bring down the mnist dataset. If you run this from a notebook, you need to put  `!pip install mnist` in a cell by itself."
   ]
  },
  {
   "cell_type": "code",
   "execution_count": 3,
   "id": "bb6ad8a1",
   "metadata": {
    "execution": {
     "iopub.execute_input": "2022-01-06T20:08:59.337331Z",
     "iopub.status.busy": "2022-01-06T20:08:59.329759Z",
     "iopub.status.idle": "2022-01-06T20:09:01.030164Z",
     "shell.execute_reply": "2022-01-06T20:09:01.029660Z"
    },
    "papermill": {
     "duration": 1.738103,
     "end_time": "2022-01-06T20:09:01.030289",
     "exception": false,
     "start_time": "2022-01-06T20:08:59.292186",
     "status": "completed"
    },
    "tags": []
   },
   "outputs": [
    {
     "name": "stdout",
     "output_type": "stream",
     "text": [
      "Collecting mnist\r\n"
     ]
    },
    {
     "name": "stdout",
     "output_type": "stream",
     "text": [
      "  Downloading mnist-0.2.2-py2.py3-none-any.whl (3.5 kB)\r\n",
      "Requirement already satisfied: numpy in /opt/hostedtoolcache/Python/3.6.15/x64/lib/python3.6/site-packages (from mnist) (1.19.5)\r\n"
     ]
    },
    {
     "name": "stdout",
     "output_type": "stream",
     "text": [
      "Installing collected packages: mnist\r\n"
     ]
    },
    {
     "name": "stdout",
     "output_type": "stream",
     "text": [
      "Successfully installed mnist-0.2.2\r\n"
     ]
    }
   ],
   "source": [
    "!pip install mnist"
   ]
  },
  {
   "cell_type": "markdown",
   "id": "69df9c9a",
   "metadata": {
    "papermill": {
     "duration": 0.024947,
     "end_time": "2022-01-06T20:09:01.080778",
     "exception": false,
     "start_time": "2022-01-06T20:09:01.055831",
     "status": "completed"
    },
    "tags": []
   },
   "source": [
    "## Preparing the Data"
   ]
  },
  {
   "cell_type": "code",
   "execution_count": 4,
   "id": "7f69d806",
   "metadata": {
    "execution": {
     "iopub.execute_input": "2022-01-06T20:09:01.146774Z",
     "iopub.status.busy": "2022-01-06T20:09:01.146264Z",
     "iopub.status.idle": "2022-01-06T20:09:01.152801Z",
     "shell.execute_reply": "2022-01-06T20:09:01.152395Z"
    },
    "papermill": {
     "duration": 0.047245,
     "end_time": "2022-01-06T20:09:01.152907",
     "exception": false,
     "start_time": "2022-01-06T20:09:01.105662",
     "status": "completed"
    },
    "tags": []
   },
   "outputs": [],
   "source": [
    "import mnist"
   ]
  },
  {
   "cell_type": "code",
   "execution_count": 5,
   "id": "a411e44f",
   "metadata": {
    "execution": {
     "iopub.execute_input": "2022-01-06T20:09:01.210114Z",
     "iopub.status.busy": "2022-01-06T20:09:01.209614Z",
     "iopub.status.idle": "2022-01-06T20:09:01.947160Z",
     "shell.execute_reply": "2022-01-06T20:09:01.946625Z"
    },
    "papermill": {
     "duration": 0.769432,
     "end_time": "2022-01-06T20:09:01.947304",
     "exception": false,
     "start_time": "2022-01-06T20:09:01.177872",
     "status": "completed"
    },
    "tags": []
   },
   "outputs": [],
   "source": [
    "train_images = mnist.train_images()\n",
    "train_labels = mnist.train_labels()"
   ]
  },
  {
   "cell_type": "code",
   "execution_count": 6,
   "id": "dceab3a5",
   "metadata": {
    "execution": {
     "iopub.execute_input": "2022-01-06T20:09:02.003302Z",
     "iopub.status.busy": "2022-01-06T20:09:02.002773Z",
     "iopub.status.idle": "2022-01-06T20:09:02.016269Z",
     "shell.execute_reply": "2022-01-06T20:09:02.016742Z"
    },
    "papermill": {
     "duration": 0.043535,
     "end_time": "2022-01-06T20:09:02.016856",
     "exception": false,
     "start_time": "2022-01-06T20:09:01.973321",
     "status": "completed"
    },
    "tags": []
   },
   "outputs": [
    {
     "data": {
      "text/plain": [
       "((60000, 28, 28), (60000,))"
      ]
     },
     "execution_count": 6,
     "metadata": {},
     "output_type": "execute_result"
    }
   ],
   "source": [
    "train_images.shape, train_labels.shape"
   ]
  },
  {
   "cell_type": "code",
   "execution_count": 7,
   "id": "f50dc2bb",
   "metadata": {
    "execution": {
     "iopub.execute_input": "2022-01-06T20:09:02.082056Z",
     "iopub.status.busy": "2022-01-06T20:09:02.077019Z",
     "iopub.status.idle": "2022-01-06T20:09:02.332727Z",
     "shell.execute_reply": "2022-01-06T20:09:02.333267Z"
    },
    "papermill": {
     "duration": 0.291456,
     "end_time": "2022-01-06T20:09:02.333444",
     "exception": false,
     "start_time": "2022-01-06T20:09:02.041988",
     "status": "completed"
    },
    "tags": []
   },
   "outputs": [],
   "source": [
    "test_images = mnist.test_images()\n",
    "test_labels = mnist.test_labels()"
   ]
  },
  {
   "cell_type": "code",
   "execution_count": 8,
   "id": "fc38cf1b",
   "metadata": {
    "execution": {
     "iopub.execute_input": "2022-01-06T20:09:02.396033Z",
     "iopub.status.busy": "2022-01-06T20:09:02.387709Z",
     "iopub.status.idle": "2022-01-06T20:09:02.405463Z",
     "shell.execute_reply": "2022-01-06T20:09:02.405055Z"
    },
    "papermill": {
     "duration": 0.046002,
     "end_time": "2022-01-06T20:09:02.405574",
     "exception": false,
     "start_time": "2022-01-06T20:09:02.359572",
     "status": "completed"
    },
    "tags": []
   },
   "outputs": [
    {
     "data": {
      "text/plain": [
       "((10000, 28, 28), (10000,))"
      ]
     },
     "execution_count": 8,
     "metadata": {},
     "output_type": "execute_result"
    }
   ],
   "source": [
    "test_images.shape, test_labels.shape"
   ]
  },
  {
   "cell_type": "code",
   "execution_count": 9,
   "id": "f9ed8fe0",
   "metadata": {
    "execution": {
     "iopub.execute_input": "2022-01-06T20:09:02.460160Z",
     "iopub.status.busy": "2022-01-06T20:09:02.459644Z",
     "iopub.status.idle": "2022-01-06T20:09:02.594613Z",
     "shell.execute_reply": "2022-01-06T20:09:02.595082Z"
    },
    "papermill": {
     "duration": 0.164259,
     "end_time": "2022-01-06T20:09:02.595231",
     "exception": false,
     "start_time": "2022-01-06T20:09:02.430972",
     "status": "completed"
    },
    "tags": []
   },
   "outputs": [
    {
     "name": "stdout",
     "output_type": "stream",
     "text": [
      "2\n"
     ]
    },
    {
     "data": {
      "text/plain": [
       "<matplotlib.image.AxesImage at 0x7f37836f0390>"
      ]
     },
     "execution_count": 9,
     "metadata": {},
     "output_type": "execute_result"
    },
    {
     "data": {
      "image/png": "[encoded data removed]",
      "text/plain": [
       "<Figure size 432x288 with 1 Axes>"
      ]
     },
     "metadata": {
      "needs_background": "light"
     },
     "output_type": "display_data"
    }
   ],
   "source": [
    "image_index = 7776 # You may select anything up to 60,000\n",
    "print(train_labels[image_index]) \n",
    "plt.imshow(train_images[image_index], cmap='Greys')"
   ]
  },
  {
   "cell_type": "markdown",
   "id": "a8d2388d",
   "metadata": {
    "papermill": {
     "duration": 0.02643,
     "end_time": "2022-01-06T20:09:02.649185",
     "exception": false,
     "start_time": "2022-01-06T20:09:02.622755",
     "status": "completed"
    },
    "tags": []
   },
   "source": [
    "## Filter data to get 3 and 8 out"
   ]
  },
  {
   "cell_type": "code",
   "execution_count": 10,
   "id": "776f7fc7",
   "metadata": {
    "execution": {
     "iopub.execute_input": "2022-01-06T20:09:02.714198Z",
     "iopub.status.busy": "2022-01-06T20:09:02.713676Z",
     "iopub.status.idle": "2022-01-06T20:09:02.726845Z",
     "shell.execute_reply": "2022-01-06T20:09:02.726432Z"
    },
    "papermill": {
     "duration": 0.051312,
     "end_time": "2022-01-06T20:09:02.726954",
     "exception": false,
     "start_time": "2022-01-06T20:09:02.675642",
     "status": "completed"
    },
    "tags": []
   },
   "outputs": [],
   "source": [
    "train_filter = np.where((train_labels == 3 ) | (train_labels == 8))\n",
    "test_filter = np.where((test_labels == 3) | (test_labels == 8))\n",
    "X_train, y_train = train_images[train_filter], train_labels[train_filter]\n",
    "X_test, y_test = test_images[test_filter], test_labels[test_filter]"
   ]
  },
  {
   "cell_type": "markdown",
   "id": "948f0b7e",
   "metadata": {
    "papermill": {
     "duration": 0.02624,
     "end_time": "2022-01-06T20:09:02.779689",
     "exception": false,
     "start_time": "2022-01-06T20:09:02.753449",
     "status": "completed"
    },
    "tags": []
   },
   "source": [
    "We normalize the pizel values in the 0 to 1 range"
   ]
  },
  {
   "cell_type": "code",
   "execution_count": 11,
   "id": "ee4c2166",
   "metadata": {
    "execution": {
     "iopub.execute_input": "2022-01-06T20:09:02.846362Z",
     "iopub.status.busy": "2022-01-06T20:09:02.845848Z",
     "iopub.status.idle": "2022-01-06T20:09:02.888574Z",
     "shell.execute_reply": "2022-01-06T20:09:02.888052Z"
    },
    "papermill": {
     "duration": 0.082721,
     "end_time": "2022-01-06T20:09:02.888716",
     "exception": false,
     "start_time": "2022-01-06T20:09:02.805995",
     "status": "completed"
    },
    "tags": []
   },
   "outputs": [],
   "source": [
    "X_train = X_train/255.\n",
    "X_test = X_test/255."
   ]
  },
  {
   "cell_type": "markdown",
   "id": "ddcf4fab",
   "metadata": {
    "papermill": {
     "duration": 0.026445,
     "end_time": "2022-01-06T20:09:02.942986",
     "exception": false,
     "start_time": "2022-01-06T20:09:02.916541",
     "status": "completed"
    },
    "tags": []
   },
   "source": [
    "And setup the labels as 1 (when the digit is 3) and 0 (when the digit is 8)"
   ]
  },
  {
   "cell_type": "code",
   "execution_count": 12,
   "id": "7dc908f2",
   "metadata": {
    "execution": {
     "iopub.execute_input": "2022-01-06T20:09:02.998959Z",
     "iopub.status.busy": "2022-01-06T20:09:02.998186Z",
     "iopub.status.idle": "2022-01-06T20:09:03.012014Z",
     "shell.execute_reply": "2022-01-06T20:09:03.011602Z"
    },
    "papermill": {
     "duration": 0.042683,
     "end_time": "2022-01-06T20:09:03.012122",
     "exception": false,
     "start_time": "2022-01-06T20:09:02.969439",
     "status": "completed"
    },
    "tags": []
   },
   "outputs": [],
   "source": [
    "y_train = 1*(y_train==3)\n",
    "y_test = 1*(y_test==3)"
   ]
  },
  {
   "cell_type": "code",
   "execution_count": 13,
   "id": "01e4e969",
   "metadata": {
    "execution": {
     "iopub.execute_input": "2022-01-06T20:09:03.070480Z",
     "iopub.status.busy": "2022-01-06T20:09:03.069967Z",
     "iopub.status.idle": "2022-01-06T20:09:03.081799Z",
     "shell.execute_reply": "2022-01-06T20:09:03.081389Z"
    },
    "papermill": {
     "duration": 0.043242,
     "end_time": "2022-01-06T20:09:03.081909",
     "exception": false,
     "start_time": "2022-01-06T20:09:03.038667",
     "status": "completed"
    },
    "tags": []
   },
   "outputs": [
    {
     "data": {
      "text/plain": [
       "((11982, 28, 28), (1984, 28, 28))"
      ]
     },
     "execution_count": 13,
     "metadata": {},
     "output_type": "execute_result"
    }
   ],
   "source": [
    "X_train.shape, X_test.shape"
   ]
  },
  {
   "cell_type": "markdown",
   "id": "5ccf3f85",
   "metadata": {
    "papermill": {
     "duration": 0.026546,
     "end_time": "2022-01-06T20:09:03.135031",
     "exception": false,
     "start_time": "2022-01-06T20:09:03.108485",
     "status": "completed"
    },
    "tags": []
   },
   "source": [
    "We reshape the data to flatten the image pixels into a set of features or co-variates:"
   ]
  },
  {
   "cell_type": "code",
   "execution_count": 14,
   "id": "5286a4a3",
   "metadata": {
    "execution": {
     "iopub.execute_input": "2022-01-06T20:09:03.194119Z",
     "iopub.status.busy": "2022-01-06T20:09:03.193607Z",
     "iopub.status.idle": "2022-01-06T20:09:03.206141Z",
     "shell.execute_reply": "2022-01-06T20:09:03.205738Z"
    },
    "papermill": {
     "duration": 0.04435,
     "end_time": "2022-01-06T20:09:03.206246",
     "exception": false,
     "start_time": "2022-01-06T20:09:03.161896",
     "status": "completed"
    },
    "tags": []
   },
   "outputs": [
    {
     "data": {
      "text/plain": [
       "((11982, 784), (1984, 784))"
      ]
     },
     "execution_count": 14,
     "metadata": {},
     "output_type": "execute_result"
    }
   ],
   "source": [
    "X_train = X_train.reshape(X_train.shape[0], -1)\n",
    "X_test = X_test.reshape(X_test.shape[0], -1)\n",
    "X_train.shape, X_test.shape"
   ]
  },
  {
   "cell_type": "code",
   "execution_count": 15,
   "id": "73c5f88a",
   "metadata": {
    "execution": {
     "iopub.execute_input": "2022-01-06T20:09:03.263694Z",
     "iopub.status.busy": "2022-01-06T20:09:03.263181Z",
     "iopub.status.idle": "2022-01-06T20:09:03.281356Z",
     "shell.execute_reply": "2022-01-06T20:09:03.280919Z"
    },
    "papermill": {
     "duration": 0.048275,
     "end_time": "2022-01-06T20:09:03.281460",
     "exception": false,
     "start_time": "2022-01-06T20:09:03.233185",
     "status": "completed"
    },
    "tags": []
   },
   "outputs": [],
   "source": [
    "#Impoting functions from 'Kudzu'\n",
    "from kudzu.model import Model\n",
    "from kudzu.train import Learner\n",
    "from kudzu.optim import GD\n",
    "from kudzu.data import Data, Sampler,Dataloader\n",
    "\n",
    "from kudzu.callbacks import AccCallback\n",
    "from kudzu.callbacks import ClfCallback\n",
    "\n",
    "from kudzu.loss import MSE\n",
    "\n",
    "from kudzu.layer import Sigmoid,Relu\n",
    "from kudzu.layer import Affine"
   ]
  },
  {
   "cell_type": "markdown",
   "id": "bc01172a",
   "metadata": {
    "papermill": {
     "duration": 0.026741,
     "end_time": "2022-01-06T20:09:03.335103",
     "exception": false,
     "start_time": "2022-01-06T20:09:03.308362",
     "status": "completed"
    },
    "tags": []
   },
   "source": [
    "### Let us create a `Config` class, to store important parameters. \n",
    "This class essentially plays the role of a dictionary."
   ]
  },
  {
   "cell_type": "code",
   "execution_count": 16,
   "id": "978281aa",
   "metadata": {
    "execution": {
     "iopub.execute_input": "2022-01-06T20:09:03.392782Z",
     "iopub.status.busy": "2022-01-06T20:09:03.392272Z",
     "iopub.status.idle": "2022-01-06T20:09:03.403791Z",
     "shell.execute_reply": "2022-01-06T20:09:03.403388Z"
    },
    "papermill": {
     "duration": 0.041965,
     "end_time": "2022-01-06T20:09:03.403895",
     "exception": false,
     "start_time": "2022-01-06T20:09:03.361930",
     "status": "completed"
    },
    "tags": []
   },
   "outputs": [],
   "source": [
    "class Config:\n",
    "    pass\n",
    "config = Config()\n",
    "config.lr = 0.001\n",
    "config.num_epochs = 250\n",
    "config.bs = 50"
   ]
  },
  {
   "cell_type": "markdown",
   "id": "1385fa59",
   "metadata": {
    "papermill": {
     "duration": 0.026741,
     "end_time": "2022-01-06T20:09:03.457736",
     "exception": false,
     "start_time": "2022-01-06T20:09:03.430995",
     "status": "completed"
    },
    "tags": []
   },
   "source": [
    "### Running Models with the Training data\n",
    "Details about the network layers:\n",
    "- A first affine layer has 784 inputs and does 100 affine transforms. These are followed by a Relu\n",
    "- A second affine layer has 100 inputs from the 100 activations of the past layer, and does 100 affine transforms. These are followed by a Relu\n",
    "- A third affine layer has 100 activations and does 2 affine transformations to create an embedding for visualization. There is no non-linearity here.\n",
    "- A final \"logistic regression\" which has an affine transform from 2 inputs to 1 output, which is squeezed through a sigmoid.\n"
   ]
  },
  {
   "cell_type": "code",
   "execution_count": 17,
   "id": "2b9c66db",
   "metadata": {
    "execution": {
     "iopub.execute_input": "2022-01-06T20:09:03.515349Z",
     "iopub.status.busy": "2022-01-06T20:09:03.514832Z",
     "iopub.status.idle": "2022-01-06T20:09:03.527174Z",
     "shell.execute_reply": "2022-01-06T20:09:03.527650Z"
    },
    "papermill": {
     "duration": 0.043131,
     "end_time": "2022-01-06T20:09:03.527770",
     "exception": false,
     "start_time": "2022-01-06T20:09:03.484639",
     "status": "completed"
    },
    "tags": []
   },
   "outputs": [],
   "source": [
    "data = Data(X_train, y_train.reshape(-1,1))\n",
    "sampler = Sampler(data, config.bs, shuffle=True)\n",
    "\n",
    "dl = Dataloader(data, sampler)\n",
    "\n",
    "opt = GD(config.lr)\n",
    "loss = MSE()"
   ]
  },
  {
   "cell_type": "code",
   "execution_count": 18,
   "id": "b275e4c2",
   "metadata": {
    "execution": {
     "iopub.execute_input": "2022-01-06T20:09:03.585143Z",
     "iopub.status.busy": "2022-01-06T20:09:03.584599Z",
     "iopub.status.idle": "2022-01-06T20:09:03.595656Z",
     "shell.execute_reply": "2022-01-06T20:09:03.595250Z"
    },
    "papermill": {
     "duration": 0.041044,
     "end_time": "2022-01-06T20:09:03.595760",
     "exception": false,
     "start_time": "2022-01-06T20:09:03.554716",
     "status": "completed"
    },
    "tags": []
   },
   "outputs": [],
   "source": [
    "training_data_x = X_train\n",
    "testing_data_x = X_test\n",
    "training_data_y = y_train.reshape(-1,1)\n",
    "testing_data_y = y_test.reshape(-1,1)"
   ]
  },
  {
   "cell_type": "code",
   "execution_count": 19,
   "id": "76951160",
   "metadata": {
    "execution": {
     "iopub.execute_input": "2022-01-06T20:09:03.656159Z",
     "iopub.status.busy": "2022-01-06T20:09:03.655642Z",
     "iopub.status.idle": "2022-01-06T20:09:03.668273Z",
     "shell.execute_reply": "2022-01-06T20:09:03.668705Z"
    },
    "papermill": {
     "duration": 0.046268,
     "end_time": "2022-01-06T20:09:03.668815",
     "exception": false,
     "start_time": "2022-01-06T20:09:03.622547",
     "status": "completed"
    },
    "tags": []
   },
   "outputs": [
    {
     "name": "stdout",
     "output_type": "stream",
     "text": [
      "xavier\n",
      "xavier\n",
      "xavier\n",
      "xavier\n",
      "xavier\n"
     ]
    }
   ],
   "source": [
    "layers = [Affine(\"first\", 784, 100), Relu(\"first\"), Affine(\"second\", 100, 100), Relu(\"second\"), Affine(\"third\", 100, 2), Affine(\"last\", 2, 1), Sigmoid(\"last\")]\n",
    "model_nn = Model(layers)\n",
    "model_lr = Model([Affine(\"logits\", 784, 1), Sigmoid(\"sigmoid\")])"
   ]
  },
  {
   "cell_type": "code",
   "execution_count": 20,
   "id": "6eede77a",
   "metadata": {
    "execution": {
     "iopub.execute_input": "2022-01-06T20:09:03.726762Z",
     "iopub.status.busy": "2022-01-06T20:09:03.726258Z",
     "iopub.status.idle": "2022-01-06T20:09:03.737195Z",
     "shell.execute_reply": "2022-01-06T20:09:03.737670Z"
    },
    "papermill": {
     "duration": 0.041686,
     "end_time": "2022-01-06T20:09:03.737780",
     "exception": false,
     "start_time": "2022-01-06T20:09:03.696094",
     "status": "completed"
    },
    "tags": []
   },
   "outputs": [],
   "source": [
    "nn_learner = Learner(loss, model_nn, opt, config.num_epochs)\n",
    "acc_nn = ClfCallback(nn_learner, config.bs, training_data_x , testing_data_x, training_data_y, testing_data_y)\n",
    "nn_learner.set_callbacks([acc_nn])"
   ]
  },
  {
   "cell_type": "code",
   "execution_count": 21,
   "id": "877b6cc7",
   "metadata": {
    "execution": {
     "iopub.execute_input": "2022-01-06T20:09:03.797823Z",
     "iopub.status.busy": "2022-01-06T20:09:03.797319Z",
     "iopub.status.idle": "2022-01-06T20:09:03.807168Z",
     "shell.execute_reply": "2022-01-06T20:09:03.807596Z"
    },
    "papermill": {
     "duration": 0.042808,
     "end_time": "2022-01-06T20:09:03.807706",
     "exception": false,
     "start_time": "2022-01-06T20:09:03.764898",
     "status": "completed"
    },
    "tags": []
   },
   "outputs": [],
   "source": [
    "lr_learner = Learner(loss, model_lr, opt, config.num_epochs)\n",
    "acc_lr = ClfCallback(lr_learner, config.bs, training_data_x , testing_data_x, training_data_y, testing_data_y)\n",
    "lr_learner.set_callbacks([acc_lr])"
   ]
  },
  {
   "cell_type": "code",
   "execution_count": 22,
   "id": "d9b133c3",
   "metadata": {
    "execution": {
     "iopub.execute_input": "2022-01-06T20:09:03.865187Z",
     "iopub.status.busy": "2022-01-06T20:09:03.864648Z",
     "iopub.status.idle": "2022-01-06T20:10:20.493073Z",
     "shell.execute_reply": "2022-01-06T20:10:20.493574Z"
    },
    "papermill": {
     "duration": 76.658554,
     "end_time": "2022-01-06T20:10:20.493714",
     "exception": false,
     "start_time": "2022-01-06T20:09:03.835160",
     "status": "completed"
    },
    "tags": []
   },
   "outputs": [
    {
     "name": "stdout",
     "output_type": "stream",
     "text": [
      "Epoch 0, Loss 0.2365\n",
      "Training Accuracy: 0.6884, Testing Accuracy: 0.6946\n",
      "\n"
     ]
    },
    {
     "name": "stdout",
     "output_type": "stream",
     "text": [
      "Epoch 10, Loss 0.1189\n",
      "Training Accuracy: 0.8999, Testing Accuracy: 0.9118\n",
      "\n"
     ]
    },
    {
     "name": "stdout",
     "output_type": "stream",
     "text": [
      "Epoch 20, Loss 0.0657\n",
      "Training Accuracy: 0.9343, Testing Accuracy: 0.9476\n",
      "\n"
     ]
    },
    {
     "name": "stdout",
     "output_type": "stream",
     "text": [
      "Epoch 30, Loss 0.049\n",
      "Training Accuracy: 0.9472, Testing Accuracy: 0.9551\n",
      "\n"
     ]
    },
    {
     "name": "stdout",
     "output_type": "stream",
     "text": [
      "Epoch 40, Loss 0.0414\n",
      "Training Accuracy: 0.9544, Testing Accuracy: 0.9592\n",
      "\n"
     ]
    },
    {
     "name": "stdout",
     "output_type": "stream",
     "text": [
      "Epoch 50, Loss 0.0371\n",
      "Training Accuracy: 0.9579, Testing Accuracy: 0.9642\n",
      "\n"
     ]
    },
    {
     "name": "stdout",
     "output_type": "stream",
     "text": [
      "Epoch 60, Loss 0.0342\n",
      "Training Accuracy: 0.9606, Testing Accuracy: 0.9667\n",
      "\n"
     ]
    },
    {
     "name": "stdout",
     "output_type": "stream",
     "text": [
      "Epoch 70, Loss 0.0322\n",
      "Training Accuracy: 0.9628, Testing Accuracy: 0.9682\n",
      "\n"
     ]
    },
    {
     "name": "stdout",
     "output_type": "stream",
     "text": [
      "Epoch 80, Loss 0.0305\n",
      "Training Accuracy: 0.9644, Testing Accuracy: 0.9698\n",
      "\n"
     ]
    },
    {
     "name": "stdout",
     "output_type": "stream",
     "text": [
      "Epoch 90, Loss 0.0292\n",
      "Training Accuracy: 0.9658, Testing Accuracy: 0.9723\n",
      "\n"
     ]
    },
    {
     "name": "stdout",
     "output_type": "stream",
     "text": [
      "Epoch 100, Loss 0.0282\n",
      "Training Accuracy: 0.9666, Testing Accuracy: 0.9718\n",
      "\n"
     ]
    },
    {
     "name": "stdout",
     "output_type": "stream",
     "text": [
      "Epoch 110, Loss 0.0272\n",
      "Training Accuracy: 0.9677, Testing Accuracy: 0.9718\n",
      "\n"
     ]
    },
    {
     "name": "stdout",
     "output_type": "stream",
     "text": [
      "Epoch 120, Loss 0.0264\n",
      "Training Accuracy: 0.9686, Testing Accuracy: 0.9718\n",
      "\n"
     ]
    },
    {
     "name": "stdout",
     "output_type": "stream",
     "text": [
      "Epoch 130, Loss 0.0257\n",
      "Training Accuracy: 0.9701, Testing Accuracy: 0.9723\n",
      "\n"
     ]
    },
    {
     "name": "stdout",
     "output_type": "stream",
     "text": [
      "Epoch 140, Loss 0.025\n",
      "Training Accuracy: 0.9712, Testing Accuracy: 0.9728\n",
      "\n"
     ]
    },
    {
     "name": "stdout",
     "output_type": "stream",
     "text": [
      "Epoch 150, Loss 0.0244\n",
      "Training Accuracy: 0.9717, Testing Accuracy: 0.9733\n",
      "\n"
     ]
    },
    {
     "name": "stdout",
     "output_type": "stream",
     "text": [
      "Epoch 160, Loss 0.0238\n",
      "Training Accuracy: 0.9726, Testing Accuracy: 0.9738\n",
      "\n"
     ]
    },
    {
     "name": "stdout",
     "output_type": "stream",
     "text": [
      "Epoch 170, Loss 0.0233\n",
      "Training Accuracy: 0.9730, Testing Accuracy: 0.9728\n",
      "\n"
     ]
    },
    {
     "name": "stdout",
     "output_type": "stream",
     "text": [
      "Epoch 180, Loss 0.0228\n",
      "Training Accuracy: 0.9735, Testing Accuracy: 0.9733\n",
      "\n"
     ]
    },
    {
     "name": "stdout",
     "output_type": "stream",
     "text": [
      "Epoch 190, Loss 0.0223\n",
      "Training Accuracy: 0.9741, Testing Accuracy: 0.9728\n",
      "\n"
     ]
    },
    {
     "name": "stdout",
     "output_type": "stream",
     "text": [
      "Epoch 200, Loss 0.0218\n",
      "Training Accuracy: 0.9751, Testing Accuracy: 0.9733\n",
      "\n"
     ]
    },
    {
     "name": "stdout",
     "output_type": "stream",
     "text": [
      "Epoch 210, Loss 0.0214\n",
      "Training Accuracy: 0.9754, Testing Accuracy: 0.9738\n",
      "\n"
     ]
    },
    {
     "name": "stdout",
     "output_type": "stream",
     "text": [
      "Epoch 220, Loss 0.021\n",
      "Training Accuracy: 0.9758, Testing Accuracy: 0.9738\n",
      "\n"
     ]
    },
    {
     "name": "stdout",
     "output_type": "stream",
     "text": [
      "Epoch 230, Loss 0.0206\n",
      "Training Accuracy: 0.9764, Testing Accuracy: 0.9748\n",
      "\n"
     ]
    },
    {
     "name": "stdout",
     "output_type": "stream",
     "text": [
      "Epoch 240, Loss 0.0203\n",
      "Training Accuracy: 0.9772, Testing Accuracy: 0.9748\n",
      "\n"
     ]
    },
    {
     "data": {
      "text/plain": [
       "0.006655901652266078"
      ]
     },
     "execution_count": 22,
     "metadata": {},
     "output_type": "execute_result"
    }
   ],
   "source": [
    "nn_learner.train_loop(dl)"
   ]
  },
  {
   "cell_type": "code",
   "execution_count": 23,
   "id": "e0163366",
   "metadata": {
    "execution": {
     "iopub.execute_input": "2022-01-06T20:10:20.574359Z",
     "iopub.status.busy": "2022-01-06T20:10:20.573837Z",
     "iopub.status.idle": "2022-01-06T20:10:34.138867Z",
     "shell.execute_reply": "2022-01-06T20:10:34.139626Z"
    },
    "papermill": {
     "duration": 13.611145,
     "end_time": "2022-01-06T20:10:34.139781",
     "exception": false,
     "start_time": "2022-01-06T20:10:20.528636",
     "status": "completed"
    },
    "tags": []
   },
   "outputs": [
    {
     "name": "stdout",
     "output_type": "stream",
     "text": [
      "Epoch 0, Loss 0.232\n",
      "Training Accuracy: 0.7049, Testing Accuracy: 0.7167\n",
      "\n"
     ]
    },
    {
     "name": "stdout",
     "output_type": "stream",
     "text": [
      "Epoch 10, Loss 0.1047\n",
      "Training Accuracy: 0.9018, Testing Accuracy: 0.9118\n",
      "\n"
     ]
    },
    {
     "name": "stdout",
     "output_type": "stream",
     "text": [
      "Epoch 20, Loss 0.0804\n",
      "Training Accuracy: 0.9259, Testing Accuracy: 0.9335\n",
      "\n"
     ]
    },
    {
     "name": "stdout",
     "output_type": "stream",
     "text": [
      "Epoch 30, Loss 0.0692\n",
      "Training Accuracy: 0.9354, Testing Accuracy: 0.9446\n",
      "\n"
     ]
    },
    {
     "name": "stdout",
     "output_type": "stream",
     "text": [
      "Epoch 40, Loss 0.0625\n",
      "Training Accuracy: 0.9391, Testing Accuracy: 0.9491\n",
      "\n"
     ]
    },
    {
     "name": "stdout",
     "output_type": "stream",
     "text": [
      "Epoch 50, Loss 0.0579\n",
      "Training Accuracy: 0.9436, Testing Accuracy: 0.9531\n",
      "\n"
     ]
    },
    {
     "name": "stdout",
     "output_type": "stream",
     "text": [
      "Epoch 60, Loss 0.0545\n",
      "Training Accuracy: 0.9460, Testing Accuracy: 0.9551\n",
      "\n"
     ]
    },
    {
     "name": "stdout",
     "output_type": "stream",
     "text": [
      "Epoch 70, Loss 0.0519\n",
      "Training Accuracy: 0.9477, Testing Accuracy: 0.9561\n",
      "\n"
     ]
    },
    {
     "name": "stdout",
     "output_type": "stream",
     "text": [
      "Epoch 80, Loss 0.0499\n",
      "Training Accuracy: 0.9492, Testing Accuracy: 0.9582\n",
      "\n"
     ]
    },
    {
     "name": "stdout",
     "output_type": "stream",
     "text": [
      "Epoch 90, Loss 0.0481\n",
      "Training Accuracy: 0.9505, Testing Accuracy: 0.9597\n",
      "\n"
     ]
    },
    {
     "name": "stdout",
     "output_type": "stream",
     "text": [
      "Epoch 100, Loss 0.0467\n",
      "Training Accuracy: 0.9517, Testing Accuracy: 0.9617\n",
      "\n"
     ]
    },
    {
     "name": "stdout",
     "output_type": "stream",
     "text": [
      "Epoch 110, Loss 0.0455\n",
      "Training Accuracy: 0.9528, Testing Accuracy: 0.9622\n",
      "\n"
     ]
    },
    {
     "name": "stdout",
     "output_type": "stream",
     "text": [
      "Epoch 120, Loss 0.0444\n",
      "Training Accuracy: 0.9543, Testing Accuracy: 0.9627\n",
      "\n"
     ]
    },
    {
     "name": "stdout",
     "output_type": "stream",
     "text": [
      "Epoch 130, Loss 0.0434\n",
      "Training Accuracy: 0.9547, Testing Accuracy: 0.9632\n",
      "\n"
     ]
    },
    {
     "name": "stdout",
     "output_type": "stream",
     "text": [
      "Epoch 140, Loss 0.0426\n",
      "Training Accuracy: 0.9559, Testing Accuracy: 0.9637\n",
      "\n"
     ]
    },
    {
     "name": "stdout",
     "output_type": "stream",
     "text": [
      "Epoch 150, Loss 0.0418\n",
      "Training Accuracy: 0.9564, Testing Accuracy: 0.9647\n",
      "\n"
     ]
    },
    {
     "name": "stdout",
     "output_type": "stream",
     "text": [
      "Epoch 160, Loss 0.0411\n",
      "Training Accuracy: 0.9568, Testing Accuracy: 0.9642\n",
      "\n"
     ]
    },
    {
     "name": "stdout",
     "output_type": "stream",
     "text": [
      "Epoch 170, Loss 0.0405\n",
      "Training Accuracy: 0.9572, Testing Accuracy: 0.9657\n",
      "\n"
     ]
    },
    {
     "name": "stdout",
     "output_type": "stream",
     "text": [
      "Epoch 180, Loss 0.0399\n",
      "Training Accuracy: 0.9578, Testing Accuracy: 0.9657\n",
      "\n"
     ]
    },
    {
     "name": "stdout",
     "output_type": "stream",
     "text": [
      "Epoch 190, Loss 0.0394\n",
      "Training Accuracy: 0.9579, Testing Accuracy: 0.9662\n",
      "\n"
     ]
    },
    {
     "name": "stdout",
     "output_type": "stream",
     "text": [
      "Epoch 200, Loss 0.0389\n",
      "Training Accuracy: 0.9586, Testing Accuracy: 0.9662\n",
      "\n"
     ]
    },
    {
     "name": "stdout",
     "output_type": "stream",
     "text": [
      "Epoch 210, Loss 0.0385\n",
      "Training Accuracy: 0.9590, Testing Accuracy: 0.9662\n",
      "\n"
     ]
    },
    {
     "name": "stdout",
     "output_type": "stream",
     "text": [
      "Epoch 220, Loss 0.038\n",
      "Training Accuracy: 0.9594, Testing Accuracy: 0.9662\n",
      "\n"
     ]
    },
    {
     "name": "stdout",
     "output_type": "stream",
     "text": [
      "Epoch 230, Loss 0.0376\n",
      "Training Accuracy: 0.9596, Testing Accuracy: 0.9662\n",
      "\n"
     ]
    },
    {
     "name": "stdout",
     "output_type": "stream",
     "text": [
      "Epoch 240, Loss 0.0373\n",
      "Training Accuracy: 0.9599, Testing Accuracy: 0.9667\n",
      "\n"
     ]
    },
    {
     "data": {
      "text/plain": [
       "0.060437517275351404"
      ]
     },
     "execution_count": 23,
     "metadata": {},
     "output_type": "execute_result"
    }
   ],
   "source": [
    "lr_learner.train_loop(dl)"
   ]
  },
  {
   "cell_type": "code",
   "execution_count": 24,
   "id": "ca410940",
   "metadata": {
    "execution": {
     "iopub.execute_input": "2022-01-06T20:10:34.238063Z",
     "iopub.status.busy": "2022-01-06T20:10:34.237537Z",
     "iopub.status.idle": "2022-01-06T20:10:34.457537Z",
     "shell.execute_reply": "2022-01-06T20:10:34.457067Z"
    },
    "papermill": {
     "duration": 0.275849,
     "end_time": "2022-01-06T20:10:34.457654",
     "exception": false,
     "start_time": "2022-01-06T20:10:34.181805",
     "status": "completed"
    },
    "tags": []
   },
   "outputs": [
    {
     "data": {
      "text/plain": [
       "<matplotlib.legend.Legend at 0x7f3783250a90>"
      ]
     },
     "execution_count": 24,
     "metadata": {},
     "output_type": "execute_result"
    },
    {
     "data": {
      "image/png": "[encoded data removed]",
      "text/plain": [
       "<Figure size 1080x720 with 1 Axes>"
      ]
     },
     "metadata": {
      "needs_background": "light"
     },
     "output_type": "display_data"
    }
   ],
   "source": [
    "#comparing the results of NN and LR\n",
    "plt.figure(figsize=(15,10))\n",
    "\n",
    "# Neural Network plots\n",
    "plt.plot(acc_nn.accuracies, 'r-', label = \"Training Accuracies - NN\")\n",
    "plt.plot(acc_nn.test_accuracies, 'g-', label = \"Testing Accuracies - NN\")\n",
    "\n",
    "# Logistic Regression plots\n",
    "plt.plot(acc_lr.accuracies, 'k-', label = \"Training Accuracies - LR\")\n",
    "plt.plot(acc_lr.test_accuracies, 'b-', label = \"Testing Accuracies - LR\")\n",
    "plt.legend()"
   ]
  },
  {
   "cell_type": "markdown",
   "id": "80dfb35c",
   "metadata": {
    "papermill": {
     "duration": 0.042501,
     "end_time": "2022-01-06T20:10:34.546929",
     "exception": false,
     "start_time": "2022-01-06T20:10:34.504428",
     "status": "completed"
    },
    "tags": []
   },
   "source": [
    "#### Plotting the outputs of this layer of the NN.\n"
   ]
  },
  {
   "cell_type": "code",
   "execution_count": 25,
   "id": "45eb2ff5",
   "metadata": {
    "execution": {
     "iopub.execute_input": "2022-01-06T20:10:34.638204Z",
     "iopub.status.busy": "2022-01-06T20:10:34.637678Z",
     "iopub.status.idle": "2022-01-06T20:10:34.654833Z",
     "shell.execute_reply": "2022-01-06T20:10:34.655262Z"
    },
    "papermill": {
     "duration": 0.065925,
     "end_time": "2022-01-06T20:10:34.655394",
     "exception": false,
     "start_time": "2022-01-06T20:10:34.589469",
     "status": "completed"
    },
    "tags": []
   },
   "outputs": [],
   "source": [
    "new_model = Model(layers[:-2])\n",
    "testing_plot = new_model(testing_data_x)"
   ]
  },
  {
   "cell_type": "code",
   "execution_count": 26,
   "id": "4c0a5485",
   "metadata": {
    "execution": {
     "iopub.execute_input": "2022-01-06T20:10:34.745640Z",
     "iopub.status.busy": "2022-01-06T20:10:34.745118Z",
     "iopub.status.idle": "2022-01-06T20:10:34.939794Z",
     "shell.execute_reply": "2022-01-06T20:10:34.939371Z"
    },
    "papermill": {
     "duration": 0.240724,
     "end_time": "2022-01-06T20:10:34.939912",
     "exception": false,
     "start_time": "2022-01-06T20:10:34.699188",
     "status": "completed"
    },
    "tags": []
   },
   "outputs": [
    {
     "data": {
      "text/plain": [
       "Text(0.5, 1.0, 'Outputs')"
      ]
     },
     "execution_count": 26,
     "metadata": {},
     "output_type": "execute_result"
    },
    {
     "data": {
      "image/png": "[encoded data removed]",
      "text/plain": [
       "<Figure size 576x504 with 1 Axes>"
      ]
     },
     "metadata": {
      "needs_background": "light"
     },
     "output_type": "display_data"
    }
   ],
   "source": [
    "# Plotting the scatter plot of points and color coding by class\n",
    "plt.figure(figsize=(8,7))\n",
    "plt.scatter(testing_plot[:,0], testing_plot[:,1], alpha = 0.1, c = y_test.ravel());\n",
    "plt.title('Outputs')"
   ]
  },
  {
   "cell_type": "markdown",
   "id": "a74fcf8f",
   "metadata": {
    "papermill": {
     "duration": 0.04464,
     "end_time": "2022-01-06T20:10:35.029590",
     "exception": false,
     "start_time": "2022-01-06T20:10:34.984950",
     "status": "completed"
    },
    "tags": []
   },
   "source": [
    "Probability contours"
   ]
  },
  {
   "cell_type": "code",
   "execution_count": 27,
   "id": "d0afc8e3",
   "metadata": {
    "execution": {
     "iopub.execute_input": "2022-01-06T20:10:35.125320Z",
     "iopub.status.busy": "2022-01-06T20:10:35.124771Z",
     "iopub.status.idle": "2022-01-06T20:10:35.135514Z",
     "shell.execute_reply": "2022-01-06T20:10:35.135082Z"
    },
    "papermill": {
     "duration": 0.061283,
     "end_time": "2022-01-06T20:10:35.135619",
     "exception": false,
     "start_time": "2022-01-06T20:10:35.074336",
     "status": "completed"
    },
    "tags": []
   },
   "outputs": [],
   "source": [
    "model_prob = Model(layers[-2:]) "
   ]
  },
  {
   "cell_type": "code",
   "execution_count": 28,
   "id": "9b96e238",
   "metadata": {
    "execution": {
     "iopub.execute_input": "2022-01-06T20:10:35.257787Z",
     "iopub.status.busy": "2022-01-06T20:10:35.257259Z",
     "iopub.status.idle": "2022-01-06T20:10:35.271566Z",
     "shell.execute_reply": "2022-01-06T20:10:35.271948Z"
    },
    "papermill": {
     "duration": 0.091887,
     "end_time": "2022-01-06T20:10:35.272074",
     "exception": false,
     "start_time": "2022-01-06T20:10:35.180187",
     "status": "completed"
    },
    "tags": []
   },
   "outputs": [],
   "source": [
    "#creating the x and y ranges according to the above generated plot.\n",
    "x_range = np.linspace(-4, 1, 100) \n",
    "y_range = np.linspace(-6, 6, 100) \n",
    "x_grid, y_grid = np.meshgrid(x_range, y_range) # x_grid and y_grig are of size 100 X 100\n",
    "\n",
    "# converting x_grid and y_grid to continuous arrays\n",
    "x_gridflat = np.ravel(x_grid)\n",
    "y_gridflat = np.ravel(y_grid)\n",
    "\n",
    "# The last layer of the current model takes two columns as input. Hence transpose of np.vstack() is required.\n",
    "X = np.vstack((x_gridflat, y_gridflat)).T\n",
    "\n",
    "prob_contour = model_prob(X).reshape(100,100) "
   ]
  },
  {
   "cell_type": "code",
   "execution_count": 29,
   "id": "da72499a",
   "metadata": {
    "execution": {
     "iopub.execute_input": "2022-01-06T20:10:35.366463Z",
     "iopub.status.busy": "2022-01-06T20:10:35.365938Z",
     "iopub.status.idle": "2022-01-06T20:10:35.611387Z",
     "shell.execute_reply": "2022-01-06T20:10:35.610931Z"
    },
    "papermill": {
     "duration": 0.294356,
     "end_time": "2022-01-06T20:10:35.611504",
     "exception": false,
     "start_time": "2022-01-06T20:10:35.317148",
     "status": "completed"
    },
    "tags": []
   },
   "outputs": [
    {
     "data": {
      "image/png": "[encoded data removed]",
      "text/plain": [
       "<Figure size 720x648 with 1 Axes>"
      ]
     },
     "metadata": {
      "needs_background": "light"
     },
     "output_type": "display_data"
    }
   ],
   "source": [
    "plt.figure(figsize=(10,9))\n",
    "plt.scatter(testing_plot[:,0], testing_plot[:,1], alpha = 0.1, c = y_test.ravel())\n",
    "contours = plt.contour(x_grid,y_grid,prob_contour)\n",
    "plt.title('Probability Contours')\n",
    "plt.clabel(contours, inline = True );"
   ]
  },
  {
   "cell_type": "code",
   "execution_count": null,
   "id": "e81b4ac7",
   "metadata": {
    "papermill": {
     "duration": 0.047339,
     "end_time": "2022-01-06T20:10:35.708240",
     "exception": false,
     "start_time": "2022-01-06T20:10:35.660901",
     "status": "completed"
    },
    "tags": []
   },
   "outputs": [],
   "source": []
  }
 ],
 "metadata": {
  "kernelspec": {
   "display_name": "Python 3",
   "language": "python",
   "name": "python3"
  },
  "language_info": {
   "codemirror_mode": {
    "name": "ipython",
    "version": 3
   },
   "file_extension": ".py",
   "mimetype": "text/x-python",
   "name": "python",
   "nbconvert_exporter": "python",
   "pygments_lexer": "ipython3",
   "version": "3.6.15"
  },
  "papermill": {
   "default_parameters": {},
   "duration": 98.630906,
   "end_time": "2022-01-06T20:10:36.164348",
   "environment_variables": {},
   "exception": null,
   "input_path": "2020-08-11-part2.ipynb",
   "output_path": "2020-08-11-part2.ipynb",
   "parameters": {},
   "start_time": "2022-01-06T20:08:57.533442",
   "version": "2.3.3"
  }
 },
 "nbformat": 4,
 "nbformat_minor": 5
}