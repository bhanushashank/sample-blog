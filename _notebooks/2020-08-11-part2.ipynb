{
 "cells": [
  {
   "cell_type": "markdown",
   "id": "98380cd3",
   "metadata": {
    "papermill": {
     "duration": 0.03435,
     "end_time": "2022-01-15T20:08:23.534282",
     "exception": false,
     "start_time": "2022-01-15T20:08:23.499932",
     "status": "completed"
    },
    "tags": []
   },
   "source": [
    "# Distinguish Your Own Digits (DYOD)"
   ]
  },
  {
   "cell_type": "markdown",
   "id": "ef31240d",
   "metadata": {
    "papermill": {
     "duration": 0.027218,
     "end_time": "2022-01-15T20:08:23.588584",
     "exception": false,
     "start_time": "2022-01-15T20:08:23.561366",
     "status": "completed"
    },
    "tags": []
   },
   "source": [
    "You are going to write a classifier that distinguishes between the number 3 and number 8."
   ]
  },
  {
   "cell_type": "code",
   "execution_count": 1,
   "id": "b15c8646",
   "metadata": {
    "execution": {
     "iopub.execute_input": "2022-01-15T20:08:23.654213Z",
     "iopub.status.busy": "2022-01-15T20:08:23.653607Z",
     "iopub.status.idle": "2022-01-15T20:08:23.665957Z",
     "shell.execute_reply": "2022-01-15T20:08:23.665437Z"
    },
    "papermill": {
     "duration": 0.051019,
     "end_time": "2022-01-15T20:08:23.666102",
     "exception": false,
     "start_time": "2022-01-15T20:08:23.615083",
     "status": "completed"
    },
    "tags": []
   },
   "outputs": [],
   "source": [
    "%load_ext autoreload\n",
    "%autoreload 2"
   ]
  },
  {
   "cell_type": "code",
   "execution_count": 2,
   "id": "22ef38dc",
   "metadata": {
    "execution": {
     "iopub.execute_input": "2022-01-15T20:08:23.723425Z",
     "iopub.status.busy": "2022-01-15T20:08:23.722830Z",
     "iopub.status.idle": "2022-01-15T20:08:24.408111Z",
     "shell.execute_reply": "2022-01-15T20:08:24.406614Z"
    },
    "papermill": {
     "duration": 0.715782,
     "end_time": "2022-01-15T20:08:24.408336",
     "exception": false,
     "start_time": "2022-01-15T20:08:23.692554",
     "status": "completed"
    },
    "tags": []
   },
   "outputs": [],
   "source": [
    "%matplotlib inline\n",
    "import numpy as np\n",
    "import matplotlib.pyplot as plt\n",
    "import pandas as pd"
   ]
  },
  {
   "cell_type": "markdown",
   "id": "ba036198",
   "metadata": {
    "papermill": {
     "duration": 0.026721,
     "end_time": "2022-01-15T20:08:24.462024",
     "exception": false,
     "start_time": "2022-01-15T20:08:24.435303",
     "status": "completed"
    },
    "tags": []
   },
   "source": [
    "From the command line run `pip install mnist`. This is a library that will help you bring down the mnist dataset. If you run this from a notebook, you need to put  `!pip install mnist` in a cell by itself."
   ]
  },
  {
   "cell_type": "code",
   "execution_count": 3,
   "id": "bb6ad8a1",
   "metadata": {
    "execution": {
     "iopub.execute_input": "2022-01-15T20:08:24.519951Z",
     "iopub.status.busy": "2022-01-15T20:08:24.519074Z",
     "iopub.status.idle": "2022-01-15T20:08:26.422390Z",
     "shell.execute_reply": "2022-01-15T20:08:26.421795Z"
    },
    "papermill": {
     "duration": 1.934245,
     "end_time": "2022-01-15T20:08:26.422530",
     "exception": false,
     "start_time": "2022-01-15T20:08:24.488285",
     "status": "completed"
    },
    "tags": []
   },
   "outputs": [
    {
     "name": "stdout",
     "output_type": "stream",
     "text": [
      "Collecting mnist\r\n"
     ]
    },
    {
     "name": "stdout",
     "output_type": "stream",
     "text": [
      "  Downloading mnist-0.2.2-py2.py3-none-any.whl (3.5 kB)\r\n",
      "Requirement already satisfied: numpy in /opt/hostedtoolcache/Python/3.6.15/x64/lib/python3.6/site-packages (from mnist) (1.19.5)\r\n"
     ]
    },
    {
     "name": "stdout",
     "output_type": "stream",
     "text": [
      "Installing collected packages: mnist\r\n"
     ]
    },
    {
     "name": "stdout",
     "output_type": "stream",
     "text": [
      "Successfully installed mnist-0.2.2\r\n"
     ]
    }
   ],
   "source": [
    "!pip install mnist"
   ]
  },
  {
   "cell_type": "markdown",
   "id": "69df9c9a",
   "metadata": {
    "papermill": {
     "duration": 0.026577,
     "end_time": "2022-01-15T20:08:26.476901",
     "exception": false,
     "start_time": "2022-01-15T20:08:26.450324",
     "status": "completed"
    },
    "tags": []
   },
   "source": [
    "## Preparing the Data"
   ]
  },
  {
   "cell_type": "code",
   "execution_count": 4,
   "id": "7f69d806",
   "metadata": {
    "execution": {
     "iopub.execute_input": "2022-01-15T20:08:26.535661Z",
     "iopub.status.busy": "2022-01-15T20:08:26.531845Z",
     "iopub.status.idle": "2022-01-15T20:08:26.549052Z",
     "shell.execute_reply": "2022-01-15T20:08:26.548040Z"
    },
    "papermill": {
     "duration": 0.046731,
     "end_time": "2022-01-15T20:08:26.549254",
     "exception": false,
     "start_time": "2022-01-15T20:08:26.502523",
     "status": "completed"
    },
    "tags": []
   },
   "outputs": [],
   "source": [
    "import mnist"
   ]
  },
  {
   "cell_type": "code",
   "execution_count": 5,
   "id": "a411e44f",
   "metadata": {
    "execution": {
     "iopub.execute_input": "2022-01-15T20:08:26.608351Z",
     "iopub.status.busy": "2022-01-15T20:08:26.607740Z",
     "iopub.status.idle": "2022-01-15T20:08:27.192717Z",
     "shell.execute_reply": "2022-01-15T20:08:27.192164Z"
    },
    "papermill": {
     "duration": 0.615901,
     "end_time": "2022-01-15T20:08:27.192861",
     "exception": false,
     "start_time": "2022-01-15T20:08:26.576960",
     "status": "completed"
    },
    "tags": []
   },
   "outputs": [],
   "source": [
    "train_images = mnist.train_images()\n",
    "train_labels = mnist.train_labels()"
   ]
  },
  {
   "cell_type": "code",
   "execution_count": 6,
   "id": "dceab3a5",
   "metadata": {
    "execution": {
     "iopub.execute_input": "2022-01-15T20:08:27.258115Z",
     "iopub.status.busy": "2022-01-15T20:08:27.257516Z",
     "iopub.status.idle": "2022-01-15T20:08:27.273051Z",
     "shell.execute_reply": "2022-01-15T20:08:27.273502Z"
    },
    "papermill": {
     "duration": 0.047745,
     "end_time": "2022-01-15T20:08:27.273651",
     "exception": false,
     "start_time": "2022-01-15T20:08:27.225906",
     "status": "completed"
    },
    "tags": []
   },
   "outputs": [
    {
     "data": {
      "text/plain": [
       "((60000, 28, 28), (60000,))"
      ]
     },
     "execution_count": 6,
     "metadata": {},
     "output_type": "execute_result"
    }
   ],
   "source": [
    "train_images.shape, train_labels.shape"
   ]
  },
  {
   "cell_type": "code",
   "execution_count": 7,
   "id": "f50dc2bb",
   "metadata": {
    "execution": {
     "iopub.execute_input": "2022-01-15T20:08:27.334162Z",
     "iopub.status.busy": "2022-01-15T20:08:27.333576Z",
     "iopub.status.idle": "2022-01-15T20:08:27.491399Z",
     "shell.execute_reply": "2022-01-15T20:08:27.490426Z"
    },
    "papermill": {
     "duration": 0.190433,
     "end_time": "2022-01-15T20:08:27.491664",
     "exception": false,
     "start_time": "2022-01-15T20:08:27.301231",
     "status": "completed"
    },
    "tags": []
   },
   "outputs": [],
   "source": [
    "test_images = mnist.test_images()\n",
    "test_labels = mnist.test_labels()"
   ]
  },
  {
   "cell_type": "code",
   "execution_count": 8,
   "id": "fc38cf1b",
   "metadata": {
    "execution": {
     "iopub.execute_input": "2022-01-15T20:08:27.550884Z",
     "iopub.status.busy": "2022-01-15T20:08:27.550322Z",
     "iopub.status.idle": "2022-01-15T20:08:27.564925Z",
     "shell.execute_reply": "2022-01-15T20:08:27.564452Z"
    },
    "papermill": {
     "duration": 0.046664,
     "end_time": "2022-01-15T20:08:27.565060",
     "exception": false,
     "start_time": "2022-01-15T20:08:27.518396",
     "status": "completed"
    },
    "tags": []
   },
   "outputs": [
    {
     "data": {
      "text/plain": [
       "((10000, 28, 28), (10000,))"
      ]
     },
     "execution_count": 8,
     "metadata": {},
     "output_type": "execute_result"
    }
   ],
   "source": [
    "test_images.shape, test_labels.shape"
   ]
  },
  {
   "cell_type": "code",
   "execution_count": 9,
   "id": "f9ed8fe0",
   "metadata": {
    "execution": {
     "iopub.execute_input": "2022-01-15T20:08:27.625234Z",
     "iopub.status.busy": "2022-01-15T20:08:27.624604Z",
     "iopub.status.idle": "2022-01-15T20:08:27.778932Z",
     "shell.execute_reply": "2022-01-15T20:08:27.778396Z"
    },
    "papermill": {
     "duration": 0.186203,
     "end_time": "2022-01-15T20:08:27.779072",
     "exception": false,
     "start_time": "2022-01-15T20:08:27.592869",
     "status": "completed"
    },
    "tags": []
   },
   "outputs": [
    {
     "name": "stdout",
     "output_type": "stream",
     "text": [
      "2\n"
     ]
    },
    {
     "data": {
      "text/plain": [
       "<matplotlib.image.AxesImage at 0x7fe57ce27518>"
      ]
     },
     "execution_count": 9,
     "metadata": {},
     "output_type": "execute_result"
    },
    {
     "data": {
      "image/png": "[encoded data removed]",
      "text/plain": [
       "<Figure size 432x288 with 1 Axes>"
      ]
     },
     "metadata": {
      "needs_background": "light"
     },
     "output_type": "display_data"
    }
   ],
   "source": [
    "image_index = 7776 # You may select anything up to 60,000\n",
    "print(train_labels[image_index]) \n",
    "plt.imshow(train_images[image_index], cmap='Greys')"
   ]
  },
  {
   "cell_type": "markdown",
   "id": "a8d2388d",
   "metadata": {
    "papermill": {
     "duration": 0.037143,
     "end_time": "2022-01-15T20:08:27.846088",
     "exception": false,
     "start_time": "2022-01-15T20:08:27.808945",
     "status": "completed"
    },
    "tags": []
   },
   "source": [
    "## Filter data to get 3 and 8 out"
   ]
  },
  {
   "cell_type": "code",
   "execution_count": 10,
   "id": "776f7fc7",
   "metadata": {
    "execution": {
     "iopub.execute_input": "2022-01-15T20:08:27.909927Z",
     "iopub.status.busy": "2022-01-15T20:08:27.909288Z",
     "iopub.status.idle": "2022-01-15T20:08:27.930686Z",
     "shell.execute_reply": "2022-01-15T20:08:27.929953Z"
    },
    "papermill": {
     "duration": 0.055319,
     "end_time": "2022-01-15T20:08:27.930863",
     "exception": false,
     "start_time": "2022-01-15T20:08:27.875544",
     "status": "completed"
    },
    "tags": []
   },
   "outputs": [],
   "source": [
    "train_filter = np.where((train_labels == 3 ) | (train_labels == 8))\n",
    "test_filter = np.where((test_labels == 3) | (test_labels == 8))\n",
    "X_train, y_train = train_images[train_filter], train_labels[train_filter]\n",
    "X_test, y_test = test_images[test_filter], test_labels[test_filter]"
   ]
  },
  {
   "cell_type": "markdown",
   "id": "948f0b7e",
   "metadata": {
    "papermill": {
     "duration": 0.028474,
     "end_time": "2022-01-15T20:08:27.989358",
     "exception": false,
     "start_time": "2022-01-15T20:08:27.960884",
     "status": "completed"
    },
    "tags": []
   },
   "source": [
    "We normalize the pizel values in the 0 to 1 range"
   ]
  },
  {
   "cell_type": "code",
   "execution_count": 11,
   "id": "ee4c2166",
   "metadata": {
    "execution": {
     "iopub.execute_input": "2022-01-15T20:08:28.050515Z",
     "iopub.status.busy": "2022-01-15T20:08:28.049917Z",
     "iopub.status.idle": "2022-01-15T20:08:28.103332Z",
     "shell.execute_reply": "2022-01-15T20:08:28.102474Z"
    },
    "papermill": {
     "duration": 0.086296,
     "end_time": "2022-01-15T20:08:28.103584",
     "exception": false,
     "start_time": "2022-01-15T20:08:28.017288",
     "status": "completed"
    },
    "tags": []
   },
   "outputs": [],
   "source": [
    "X_train = X_train/255.\n",
    "X_test = X_test/255."
   ]
  },
  {
   "cell_type": "markdown",
   "id": "ddcf4fab",
   "metadata": {
    "papermill": {
     "duration": 0.027664,
     "end_time": "2022-01-15T20:08:28.163443",
     "exception": false,
     "start_time": "2022-01-15T20:08:28.135779",
     "status": "completed"
    },
    "tags": []
   },
   "source": [
    "And setup the labels as 1 (when the digit is 3) and 0 (when the digit is 8)"
   ]
  },
  {
   "cell_type": "code",
   "execution_count": 12,
   "id": "7dc908f2",
   "metadata": {
    "execution": {
     "iopub.execute_input": "2022-01-15T20:08:28.232501Z",
     "iopub.status.busy": "2022-01-15T20:08:28.230774Z",
     "iopub.status.idle": "2022-01-15T20:08:28.240377Z",
     "shell.execute_reply": "2022-01-15T20:08:28.239922Z"
    },
    "papermill": {
     "duration": 0.048973,
     "end_time": "2022-01-15T20:08:28.240496",
     "exception": false,
     "start_time": "2022-01-15T20:08:28.191523",
     "status": "completed"
    },
    "tags": []
   },
   "outputs": [],
   "source": [
    "y_train = 1*(y_train==3)\n",
    "y_test = 1*(y_test==3)"
   ]
  },
  {
   "cell_type": "code",
   "execution_count": 13,
   "id": "01e4e969",
   "metadata": {
    "execution": {
     "iopub.execute_input": "2022-01-15T20:08:28.300809Z",
     "iopub.status.busy": "2022-01-15T20:08:28.300223Z",
     "iopub.status.idle": "2022-01-15T20:08:28.316986Z",
     "shell.execute_reply": "2022-01-15T20:08:28.316504Z"
    },
    "papermill": {
     "duration": 0.048427,
     "end_time": "2022-01-15T20:08:28.317114",
     "exception": false,
     "start_time": "2022-01-15T20:08:28.268687",
     "status": "completed"
    },
    "tags": []
   },
   "outputs": [
    {
     "data": {
      "text/plain": [
       "((11982, 28, 28), (1984, 28, 28))"
      ]
     },
     "execution_count": 13,
     "metadata": {},
     "output_type": "execute_result"
    }
   ],
   "source": [
    "X_train.shape, X_test.shape"
   ]
  },
  {
   "cell_type": "markdown",
   "id": "5ccf3f85",
   "metadata": {
    "papermill": {
     "duration": 0.029468,
     "end_time": "2022-01-15T20:08:28.376005",
     "exception": false,
     "start_time": "2022-01-15T20:08:28.346537",
     "status": "completed"
    },
    "tags": []
   },
   "source": [
    "We reshape the data to flatten the image pixels into a set of features or co-variates:"
   ]
  },
  {
   "cell_type": "code",
   "execution_count": 14,
   "id": "5286a4a3",
   "metadata": {
    "execution": {
     "iopub.execute_input": "2022-01-15T20:08:28.439532Z",
     "iopub.status.busy": "2022-01-15T20:08:28.438919Z",
     "iopub.status.idle": "2022-01-15T20:08:28.453426Z",
     "shell.execute_reply": "2022-01-15T20:08:28.453866Z"
    },
    "papermill": {
     "duration": 0.048304,
     "end_time": "2022-01-15T20:08:28.454012",
     "exception": false,
     "start_time": "2022-01-15T20:08:28.405708",
     "status": "completed"
    },
    "tags": []
   },
   "outputs": [
    {
     "data": {
      "text/plain": [
       "((11982, 784), (1984, 784))"
      ]
     },
     "execution_count": 14,
     "metadata": {},
     "output_type": "execute_result"
    }
   ],
   "source": [
    "X_train = X_train.reshape(X_train.shape[0], -1)\n",
    "X_test = X_test.reshape(X_test.shape[0], -1)\n",
    "X_train.shape, X_test.shape"
   ]
  },
  {
   "cell_type": "code",
   "execution_count": 15,
   "id": "73c5f88a",
   "metadata": {
    "execution": {
     "iopub.execute_input": "2022-01-15T20:08:28.517195Z",
     "iopub.status.busy": "2022-01-15T20:08:28.516610Z",
     "iopub.status.idle": "2022-01-15T20:08:28.544568Z",
     "shell.execute_reply": "2022-01-15T20:08:28.543894Z"
    },
    "papermill": {
     "duration": 0.061767,
     "end_time": "2022-01-15T20:08:28.544737",
     "exception": false,
     "start_time": "2022-01-15T20:08:28.482970",
     "status": "completed"
    },
    "tags": []
   },
   "outputs": [],
   "source": [
    "#Impoting functions from 'Kudzu'\n",
    "from kudzu.model import Model\n",
    "from kudzu.train import Learner\n",
    "from kudzu.optim import GD\n",
    "from kudzu.data import Data, Sampler,Dataloader\n",
    "\n",
    "from kudzu.callbacks import AccCallback\n",
    "from kudzu.callbacks import ClfCallback\n",
    "\n",
    "from kudzu.loss import MSE\n",
    "\n",
    "from kudzu.layer import Sigmoid,Relu\n",
    "from kudzu.layer import Affine"
   ]
  },
  {
   "cell_type": "markdown",
   "id": "bc01172a",
   "metadata": {
    "papermill": {
     "duration": 0.029151,
     "end_time": "2022-01-15T20:08:28.604559",
     "exception": false,
     "start_time": "2022-01-15T20:08:28.575408",
     "status": "completed"
    },
    "tags": []
   },
   "source": [
    "### Let us create a `Config` class, to store important parameters. \n",
    "This class essentially plays the role of a dictionary."
   ]
  },
  {
   "cell_type": "code",
   "execution_count": 16,
   "id": "978281aa",
   "metadata": {
    "execution": {
     "iopub.execute_input": "2022-01-15T20:08:28.667607Z",
     "iopub.status.busy": "2022-01-15T20:08:28.667012Z",
     "iopub.status.idle": "2022-01-15T20:08:28.683275Z",
     "shell.execute_reply": "2022-01-15T20:08:28.682765Z"
    },
    "papermill": {
     "duration": 0.050062,
     "end_time": "2022-01-15T20:08:28.683397",
     "exception": false,
     "start_time": "2022-01-15T20:08:28.633335",
     "status": "completed"
    },
    "tags": []
   },
   "outputs": [],
   "source": [
    "class Config:\n",
    "    pass\n",
    "config = Config()\n",
    "config.lr = 0.001\n",
    "config.num_epochs = 250\n",
    "config.bs = 50"
   ]
  },
  {
   "cell_type": "markdown",
   "id": "1385fa59",
   "metadata": {
    "papermill": {
     "duration": 0.029477,
     "end_time": "2022-01-15T20:08:28.742248",
     "exception": false,
     "start_time": "2022-01-15T20:08:28.712771",
     "status": "completed"
    },
    "tags": []
   },
   "source": [
    "### Running Models with the Training data\n",
    "Details about the network layers:\n",
    "- A first affine layer has 784 inputs and does 100 affine transforms. These are followed by a Relu\n",
    "- A second affine layer has 100 inputs from the 100 activations of the past layer, and does 100 affine transforms. These are followed by a Relu\n",
    "- A third affine layer has 100 activations and does 2 affine transformations to create an embedding for visualization. There is no non-linearity here.\n",
    "- A final \"logistic regression\" which has an affine transform from 2 inputs to 1 output, which is squeezed through a sigmoid.\n"
   ]
  },
  {
   "cell_type": "code",
   "execution_count": 17,
   "id": "2b9c66db",
   "metadata": {
    "execution": {
     "iopub.execute_input": "2022-01-15T20:08:28.806592Z",
     "iopub.status.busy": "2022-01-15T20:08:28.806032Z",
     "iopub.status.idle": "2022-01-15T20:08:28.819047Z",
     "shell.execute_reply": "2022-01-15T20:08:28.818598Z"
    },
    "papermill": {
     "duration": 0.04834,
     "end_time": "2022-01-15T20:08:28.819166",
     "exception": false,
     "start_time": "2022-01-15T20:08:28.770826",
     "status": "completed"
    },
    "tags": []
   },
   "outputs": [],
   "source": [
    "data = Data(X_train, y_train.reshape(-1,1))\n",
    "sampler = Sampler(data, config.bs, shuffle=True)\n",
    "\n",
    "dl = Dataloader(data, sampler)\n",
    "\n",
    "opt = GD(config.lr)\n",
    "loss = MSE()"
   ]
  },
  {
   "cell_type": "code",
   "execution_count": 18,
   "id": "b275e4c2",
   "metadata": {
    "execution": {
     "iopub.execute_input": "2022-01-15T20:08:28.883119Z",
     "iopub.status.busy": "2022-01-15T20:08:28.882494Z",
     "iopub.status.idle": "2022-01-15T20:08:28.896438Z",
     "shell.execute_reply": "2022-01-15T20:08:28.895928Z"
    },
    "papermill": {
     "duration": 0.047223,
     "end_time": "2022-01-15T20:08:28.896554",
     "exception": false,
     "start_time": "2022-01-15T20:08:28.849331",
     "status": "completed"
    },
    "tags": []
   },
   "outputs": [],
   "source": [
    "training_data_x = X_train\n",
    "testing_data_x = X_test\n",
    "training_data_y = y_train.reshape(-1,1)\n",
    "testing_data_y = y_test.reshape(-1,1)"
   ]
  },
  {
   "cell_type": "code",
   "execution_count": 19,
   "id": "76951160",
   "metadata": {
    "execution": {
     "iopub.execute_input": "2022-01-15T20:08:28.960810Z",
     "iopub.status.busy": "2022-01-15T20:08:28.960257Z",
     "iopub.status.idle": "2022-01-15T20:08:28.978752Z",
     "shell.execute_reply": "2022-01-15T20:08:28.978288Z"
    },
    "papermill": {
     "duration": 0.053783,
     "end_time": "2022-01-15T20:08:28.978869",
     "exception": false,
     "start_time": "2022-01-15T20:08:28.925086",
     "status": "completed"
    },
    "tags": []
   },
   "outputs": [
    {
     "name": "stdout",
     "output_type": "stream",
     "text": [
      "xavier\n",
      "xavier\n",
      "xavier\n",
      "xavier\n",
      "xavier\n"
     ]
    }
   ],
   "source": [
    "layers = [Affine(\"first\", 784, 100), Relu(\"first\"), Affine(\"second\", 100, 100), Relu(\"second\"), Affine(\"third\", 100, 2), Affine(\"last\", 2, 1), Sigmoid(\"last\")]\n",
    "model_nn = Model(layers)\n",
    "model_lr = Model([Affine(\"logits\", 784, 1), Sigmoid(\"sigmoid\")])"
   ]
  },
  {
   "cell_type": "code",
   "execution_count": 20,
   "id": "6eede77a",
   "metadata": {
    "execution": {
     "iopub.execute_input": "2022-01-15T20:08:29.042635Z",
     "iopub.status.busy": "2022-01-15T20:08:29.042087Z",
     "iopub.status.idle": "2022-01-15T20:08:29.056049Z",
     "shell.execute_reply": "2022-01-15T20:08:29.055595Z"
    },
    "papermill": {
     "duration": 0.048392,
     "end_time": "2022-01-15T20:08:29.056164",
     "exception": false,
     "start_time": "2022-01-15T20:08:29.007772",
     "status": "completed"
    },
    "tags": []
   },
   "outputs": [],
   "source": [
    "nn_learner = Learner(loss, model_nn, opt, config.num_epochs)\n",
    "acc_nn = ClfCallback(nn_learner, config.bs, training_data_x , testing_data_x, training_data_y, testing_data_y)\n",
    "nn_learner.set_callbacks([acc_nn])"
   ]
  },
  {
   "cell_type": "code",
   "execution_count": 21,
   "id": "877b6cc7",
   "metadata": {
    "execution": {
     "iopub.execute_input": "2022-01-15T20:08:29.124282Z",
     "iopub.status.busy": "2022-01-15T20:08:29.123572Z",
     "iopub.status.idle": "2022-01-15T20:08:29.135332Z",
     "shell.execute_reply": "2022-01-15T20:08:29.134745Z"
    },
    "papermill": {
     "duration": 0.049745,
     "end_time": "2022-01-15T20:08:29.135467",
     "exception": false,
     "start_time": "2022-01-15T20:08:29.085722",
     "status": "completed"
    },
    "tags": []
   },
   "outputs": [],
   "source": [
    "lr_learner = Learner(loss, model_lr, opt, config.num_epochs)\n",
    "acc_lr = ClfCallback(lr_learner, config.bs, training_data_x , testing_data_x, training_data_y, testing_data_y)\n",
    "lr_learner.set_callbacks([acc_lr])"
   ]
  },
  {
   "cell_type": "code",
   "execution_count": 22,
   "id": "d9b133c3",
   "metadata": {
    "execution": {
     "iopub.execute_input": "2022-01-15T20:08:29.205767Z",
     "iopub.status.busy": "2022-01-15T20:08:29.205080Z",
     "iopub.status.idle": "2022-01-15T20:09:57.007525Z",
     "shell.execute_reply": "2022-01-15T20:09:57.008361Z"
    },
    "papermill": {
     "duration": 87.840127,
     "end_time": "2022-01-15T20:09:57.008527",
     "exception": false,
     "start_time": "2022-01-15T20:08:29.168400",
     "status": "completed"
    },
    "tags": []
   },
   "outputs": [
    {
     "name": "stdout",
     "output_type": "stream",
     "text": [
      "Epoch 0, Loss 0.2358\n",
      "Training Accuracy: 0.7421, Testing Accuracy: 0.7560\n",
      "\n"
     ]
    },
    {
     "name": "stdout",
     "output_type": "stream",
     "text": [
      "Epoch 10, Loss 0.0812\n",
      "Training Accuracy: 0.9290, Testing Accuracy: 0.9451\n",
      "\n"
     ]
    },
    {
     "name": "stdout",
     "output_type": "stream",
     "text": [
      "Epoch 20, Loss 0.0527\n",
      "Training Accuracy: 0.9458, Testing Accuracy: 0.9607\n",
      "\n"
     ]
    },
    {
     "name": "stdout",
     "output_type": "stream",
     "text": [
      "Epoch 30, Loss 0.0426\n",
      "Training Accuracy: 0.9538, Testing Accuracy: 0.9622\n",
      "\n"
     ]
    },
    {
     "name": "stdout",
     "output_type": "stream",
     "text": [
      "Epoch 40, Loss 0.0374\n",
      "Training Accuracy: 0.9588, Testing Accuracy: 0.9662\n",
      "\n"
     ]
    },
    {
     "name": "stdout",
     "output_type": "stream",
     "text": [
      "Epoch 50, Loss 0.0342\n",
      "Training Accuracy: 0.9611, Testing Accuracy: 0.9672\n",
      "\n"
     ]
    },
    {
     "name": "stdout",
     "output_type": "stream",
     "text": [
      "Epoch 60, Loss 0.0319\n",
      "Training Accuracy: 0.9629, Testing Accuracy: 0.9693\n",
      "\n"
     ]
    },
    {
     "name": "stdout",
     "output_type": "stream",
     "text": [
      "Epoch 70, Loss 0.0302\n",
      "Training Accuracy: 0.9647, Testing Accuracy: 0.9677\n",
      "\n"
     ]
    },
    {
     "name": "stdout",
     "output_type": "stream",
     "text": [
      "Epoch 80, Loss 0.0288\n",
      "Training Accuracy: 0.9656, Testing Accuracy: 0.9667\n",
      "\n"
     ]
    },
    {
     "name": "stdout",
     "output_type": "stream",
     "text": [
      "Epoch 90, Loss 0.0277\n",
      "Training Accuracy: 0.9669, Testing Accuracy: 0.9682\n",
      "\n"
     ]
    },
    {
     "name": "stdout",
     "output_type": "stream",
     "text": [
      "Epoch 100, Loss 0.0267\n",
      "Training Accuracy: 0.9681, Testing Accuracy: 0.9688\n",
      "\n"
     ]
    },
    {
     "name": "stdout",
     "output_type": "stream",
     "text": [
      "Epoch 110, Loss 0.0259\n",
      "Training Accuracy: 0.9690, Testing Accuracy: 0.9688\n",
      "\n"
     ]
    },
    {
     "name": "stdout",
     "output_type": "stream",
     "text": [
      "Epoch 120, Loss 0.0252\n",
      "Training Accuracy: 0.9700, Testing Accuracy: 0.9682\n",
      "\n"
     ]
    },
    {
     "name": "stdout",
     "output_type": "stream",
     "text": [
      "Epoch 130, Loss 0.0245\n",
      "Training Accuracy: 0.9704, Testing Accuracy: 0.9693\n",
      "\n"
     ]
    },
    {
     "name": "stdout",
     "output_type": "stream",
     "text": [
      "Epoch 140, Loss 0.0239\n",
      "Training Accuracy: 0.9713, Testing Accuracy: 0.9693\n",
      "\n"
     ]
    },
    {
     "name": "stdout",
     "output_type": "stream",
     "text": [
      "Epoch 150, Loss 0.0233\n",
      "Training Accuracy: 0.9719, Testing Accuracy: 0.9698\n",
      "\n"
     ]
    },
    {
     "name": "stdout",
     "output_type": "stream",
     "text": [
      "Epoch 160, Loss 0.0228\n",
      "Training Accuracy: 0.9730, Testing Accuracy: 0.9698\n",
      "\n"
     ]
    },
    {
     "name": "stdout",
     "output_type": "stream",
     "text": [
      "Epoch 170, Loss 0.0223\n",
      "Training Accuracy: 0.9735, Testing Accuracy: 0.9703\n",
      "\n"
     ]
    },
    {
     "name": "stdout",
     "output_type": "stream",
     "text": [
      "Epoch 180, Loss 0.0218\n",
      "Training Accuracy: 0.9744, Testing Accuracy: 0.9718\n",
      "\n"
     ]
    },
    {
     "name": "stdout",
     "output_type": "stream",
     "text": [
      "Epoch 190, Loss 0.0214\n",
      "Training Accuracy: 0.9749, Testing Accuracy: 0.9713\n",
      "\n"
     ]
    },
    {
     "name": "stdout",
     "output_type": "stream",
     "text": [
      "Epoch 200, Loss 0.0209\n",
      "Training Accuracy: 0.9758, Testing Accuracy: 0.9718\n",
      "\n"
     ]
    },
    {
     "name": "stdout",
     "output_type": "stream",
     "text": [
      "Epoch 210, Loss 0.0205\n",
      "Training Accuracy: 0.9764, Testing Accuracy: 0.9728\n",
      "\n"
     ]
    },
    {
     "name": "stdout",
     "output_type": "stream",
     "text": [
      "Epoch 220, Loss 0.0201\n",
      "Training Accuracy: 0.9770, Testing Accuracy: 0.9733\n",
      "\n"
     ]
    },
    {
     "name": "stdout",
     "output_type": "stream",
     "text": [
      "Epoch 230, Loss 0.0197\n",
      "Training Accuracy: 0.9781, Testing Accuracy: 0.9738\n",
      "\n"
     ]
    },
    {
     "name": "stdout",
     "output_type": "stream",
     "text": [
      "Epoch 240, Loss 0.0193\n",
      "Training Accuracy: 0.9791, Testing Accuracy: 0.9738\n",
      "\n"
     ]
    },
    {
     "data": {
      "text/plain": [
       "0.007781618742552729"
      ]
     },
     "execution_count": 22,
     "metadata": {},
     "output_type": "execute_result"
    }
   ],
   "source": [
    "nn_learner.train_loop(dl)"
   ]
  },
  {
   "cell_type": "code",
   "execution_count": 23,
   "id": "e0163366",
   "metadata": {
    "execution": {
     "iopub.execute_input": "2022-01-15T20:09:57.093380Z",
     "iopub.status.busy": "2022-01-15T20:09:57.092783Z",
     "iopub.status.idle": "2022-01-15T20:10:12.686609Z",
     "shell.execute_reply": "2022-01-15T20:10:12.687436Z"
    },
    "papermill": {
     "duration": 15.640632,
     "end_time": "2022-01-15T20:10:12.687623",
     "exception": false,
     "start_time": "2022-01-15T20:09:57.046991",
     "status": "completed"
    },
    "tags": []
   },
   "outputs": [
    {
     "name": "stdout",
     "output_type": "stream",
     "text": [
      "Epoch 0, Loss 0.2405\n",
      "Training Accuracy: 0.7217, Testing Accuracy: 0.7283\n",
      "\n"
     ]
    },
    {
     "name": "stdout",
     "output_type": "stream",
     "text": [
      "Epoch 10, Loss 0.0985\n",
      "Training Accuracy: 0.9228, Testing Accuracy: 0.9375\n",
      "\n"
     ]
    },
    {
     "name": "stdout",
     "output_type": "stream",
     "text": [
      "Epoch 20, Loss 0.0765\n",
      "Training Accuracy: 0.9328, Testing Accuracy: 0.9486\n",
      "\n"
     ]
    },
    {
     "name": "stdout",
     "output_type": "stream",
     "text": [
      "Epoch 30, Loss 0.0663\n",
      "Training Accuracy: 0.9389, Testing Accuracy: 0.9526\n",
      "\n"
     ]
    },
    {
     "name": "stdout",
     "output_type": "stream",
     "text": [
      "Epoch 40, Loss 0.0602\n",
      "Training Accuracy: 0.9432, Testing Accuracy: 0.9561\n",
      "\n"
     ]
    },
    {
     "name": "stdout",
     "output_type": "stream",
     "text": [
      "Epoch 50, Loss 0.056\n",
      "Training Accuracy: 0.9470, Testing Accuracy: 0.9582\n",
      "\n"
     ]
    },
    {
     "name": "stdout",
     "output_type": "stream",
     "text": [
      "Epoch 60, Loss 0.0528\n",
      "Training Accuracy: 0.9494, Testing Accuracy: 0.9607\n",
      "\n"
     ]
    },
    {
     "name": "stdout",
     "output_type": "stream",
     "text": [
      "Epoch 70, Loss 0.0504\n",
      "Training Accuracy: 0.9516, Testing Accuracy: 0.9607\n",
      "\n"
     ]
    },
    {
     "name": "stdout",
     "output_type": "stream",
     "text": [
      "Epoch 80, Loss 0.0485\n",
      "Training Accuracy: 0.9527, Testing Accuracy: 0.9622\n",
      "\n"
     ]
    },
    {
     "name": "stdout",
     "output_type": "stream",
     "text": [
      "Epoch 90, Loss 0.0468\n",
      "Training Accuracy: 0.9538, Testing Accuracy: 0.9622\n",
      "\n"
     ]
    },
    {
     "name": "stdout",
     "output_type": "stream",
     "text": [
      "Epoch 100, Loss 0.0455\n",
      "Training Accuracy: 0.9548, Testing Accuracy: 0.9627\n",
      "\n"
     ]
    },
    {
     "name": "stdout",
     "output_type": "stream",
     "text": [
      "Epoch 110, Loss 0.0443\n",
      "Training Accuracy: 0.9557, Testing Accuracy: 0.9637\n",
      "\n"
     ]
    },
    {
     "name": "stdout",
     "output_type": "stream",
     "text": [
      "Epoch 120, Loss 0.0433\n",
      "Training Accuracy: 0.9564, Testing Accuracy: 0.9632\n",
      "\n"
     ]
    },
    {
     "name": "stdout",
     "output_type": "stream",
     "text": [
      "Epoch 130, Loss 0.0424\n",
      "Training Accuracy: 0.9568, Testing Accuracy: 0.9637\n",
      "\n"
     ]
    },
    {
     "name": "stdout",
     "output_type": "stream",
     "text": [
      "Epoch 140, Loss 0.0416\n",
      "Training Accuracy: 0.9574, Testing Accuracy: 0.9637\n",
      "\n"
     ]
    },
    {
     "name": "stdout",
     "output_type": "stream",
     "text": [
      "Epoch 150, Loss 0.0409\n",
      "Training Accuracy: 0.9583, Testing Accuracy: 0.9647\n",
      "\n"
     ]
    },
    {
     "name": "stdout",
     "output_type": "stream",
     "text": [
      "Epoch 160, Loss 0.0402\n",
      "Training Accuracy: 0.9589, Testing Accuracy: 0.9647\n",
      "\n"
     ]
    },
    {
     "name": "stdout",
     "output_type": "stream",
     "text": [
      "Epoch 170, Loss 0.0396\n",
      "Training Accuracy: 0.9592, Testing Accuracy: 0.9652\n",
      "\n"
     ]
    },
    {
     "name": "stdout",
     "output_type": "stream",
     "text": [
      "Epoch 180, Loss 0.0391\n",
      "Training Accuracy: 0.9594, Testing Accuracy: 0.9652\n",
      "\n"
     ]
    },
    {
     "name": "stdout",
     "output_type": "stream",
     "text": [
      "Epoch 190, Loss 0.0386\n",
      "Training Accuracy: 0.9597, Testing Accuracy: 0.9652\n",
      "\n"
     ]
    },
    {
     "name": "stdout",
     "output_type": "stream",
     "text": [
      "Epoch 200, Loss 0.0381\n",
      "Training Accuracy: 0.9605, Testing Accuracy: 0.9652\n",
      "\n"
     ]
    },
    {
     "name": "stdout",
     "output_type": "stream",
     "text": [
      "Epoch 210, Loss 0.0377\n",
      "Training Accuracy: 0.9607, Testing Accuracy: 0.9657\n",
      "\n"
     ]
    },
    {
     "name": "stdout",
     "output_type": "stream",
     "text": [
      "Epoch 220, Loss 0.0373\n",
      "Training Accuracy: 0.9609, Testing Accuracy: 0.9657\n",
      "\n"
     ]
    },
    {
     "name": "stdout",
     "output_type": "stream",
     "text": [
      "Epoch 230, Loss 0.0369\n",
      "Training Accuracy: 0.9610, Testing Accuracy: 0.9657\n",
      "\n"
     ]
    },
    {
     "name": "stdout",
     "output_type": "stream",
     "text": [
      "Epoch 240, Loss 0.0366\n",
      "Training Accuracy: 0.9613, Testing Accuracy: 0.9662\n",
      "\n"
     ]
    },
    {
     "data": {
      "text/plain": [
       "0.02448124964783464"
      ]
     },
     "execution_count": 23,
     "metadata": {},
     "output_type": "execute_result"
    }
   ],
   "source": [
    "lr_learner.train_loop(dl)"
   ]
  },
  {
   "cell_type": "code",
   "execution_count": 24,
   "id": "ca410940",
   "metadata": {
    "execution": {
     "iopub.execute_input": "2022-01-15T20:10:12.792357Z",
     "iopub.status.busy": "2022-01-15T20:10:12.791658Z",
     "iopub.status.idle": "2022-01-15T20:10:13.035195Z",
     "shell.execute_reply": "2022-01-15T20:10:13.035702Z"
    },
    "papermill": {
     "duration": 0.302738,
     "end_time": "2022-01-15T20:10:13.035862",
     "exception": false,
     "start_time": "2022-01-15T20:10:12.733124",
     "status": "completed"
    },
    "tags": []
   },
   "outputs": [
    {
     "data": {
      "text/plain": [
       "<matplotlib.legend.Legend at 0x7fe57ca01be0>"
      ]
     },
     "execution_count": 24,
     "metadata": {},
     "output_type": "execute_result"
    },
    {
     "data": {
      "image/png": "[encoded data removed]",
      "text/plain": [
       "<Figure size 1080x720 with 1 Axes>"
      ]
     },
     "metadata": {
      "needs_background": "light"
     },
     "output_type": "display_data"
    }
   ],
   "source": [
    "#comparing the results of NN and LR\n",
    "plt.figure(figsize=(15,10))\n",
    "\n",
    "# Neural Network plots\n",
    "plt.plot(acc_nn.accuracies, 'r-', label = \"Training Accuracies - NN\")\n",
    "plt.plot(acc_nn.test_accuracies, 'g-', label = \"Testing Accuracies - NN\")\n",
    "\n",
    "# Logistic Regression plots\n",
    "plt.plot(acc_lr.accuracies, 'k-', label = \"Training Accuracies - LR\")\n",
    "plt.plot(acc_lr.test_accuracies, 'b-', label = \"Testing Accuracies - LR\")\n",
    "plt.legend()"
   ]
  },
  {
   "cell_type": "markdown",
   "id": "80dfb35c",
   "metadata": {
    "papermill": {
     "duration": 0.04554,
     "end_time": "2022-01-15T20:10:13.128087",
     "exception": false,
     "start_time": "2022-01-15T20:10:13.082547",
     "status": "completed"
    },
    "tags": []
   },
   "source": [
    "#### Plotting the outputs of this layer of the NN.\n"
   ]
  },
  {
   "cell_type": "code",
   "execution_count": 25,
   "id": "45eb2ff5",
   "metadata": {
    "execution": {
     "iopub.execute_input": "2022-01-15T20:10:13.227888Z",
     "iopub.status.busy": "2022-01-15T20:10:13.227222Z",
     "iopub.status.idle": "2022-01-15T20:10:13.252202Z",
     "shell.execute_reply": "2022-01-15T20:10:13.252663Z"
    },
    "papermill": {
     "duration": 0.077778,
     "end_time": "2022-01-15T20:10:13.252828",
     "exception": false,
     "start_time": "2022-01-15T20:10:13.175050",
     "status": "completed"
    },
    "tags": []
   },
   "outputs": [],
   "source": [
    "new_model = Model(layers[:-2])\n",
    "testing_plot = new_model(testing_data_x)"
   ]
  },
  {
   "cell_type": "code",
   "execution_count": 26,
   "id": "4c0a5485",
   "metadata": {
    "execution": {
     "iopub.execute_input": "2022-01-15T20:10:13.352170Z",
     "iopub.status.busy": "2022-01-15T20:10:13.349736Z",
     "iopub.status.idle": "2022-01-15T20:10:13.590685Z",
     "shell.execute_reply": "2022-01-15T20:10:13.590049Z"
    },
    "papermill": {
     "duration": 0.291215,
     "end_time": "2022-01-15T20:10:13.590822",
     "exception": false,
     "start_time": "2022-01-15T20:10:13.299607",
     "status": "completed"
    },
    "tags": []
   },
   "outputs": [
    {
     "data": {
      "text/plain": [
       "Text(0.5, 1.0, 'Outputs')"
      ]
     },
     "execution_count": 26,
     "metadata": {},
     "output_type": "execute_result"
    },
    {
     "data": {
      "image/png": "[encoded data removed]",
      "text/plain": [
       "<Figure size 576x504 with 1 Axes>"
      ]
     },
     "metadata": {
      "needs_background": "light"
     },
     "output_type": "display_data"
    }
   ],
   "source": [
    "# Plotting the scatter plot of points and color coding by class\n",
    "plt.figure(figsize=(8,7))\n",
    "plt.scatter(testing_plot[:,0], testing_plot[:,1], alpha = 0.1, c = y_test.ravel());\n",
    "plt.title('Outputs')"
   ]
  },
  {
   "cell_type": "markdown",
   "id": "a74fcf8f",
   "metadata": {
    "papermill": {
     "duration": 0.048362,
     "end_time": "2022-01-15T20:10:13.688739",
     "exception": false,
     "start_time": "2022-01-15T20:10:13.640377",
     "status": "completed"
    },
    "tags": []
   },
   "source": [
    "Probability contours"
   ]
  },
  {
   "cell_type": "code",
   "execution_count": 27,
   "id": "d0afc8e3",
   "metadata": {
    "execution": {
     "iopub.execute_input": "2022-01-15T20:10:13.790973Z",
     "iopub.status.busy": "2022-01-15T20:10:13.790334Z",
     "iopub.status.idle": "2022-01-15T20:10:13.804426Z",
     "shell.execute_reply": "2022-01-15T20:10:13.805206Z"
    },
    "papermill": {
     "duration": 0.069123,
     "end_time": "2022-01-15T20:10:13.805365",
     "exception": false,
     "start_time": "2022-01-15T20:10:13.736242",
     "status": "completed"
    },
    "tags": []
   },
   "outputs": [],
   "source": [
    "model_prob = Model(layers[-2:]) "
   ]
  },
  {
   "cell_type": "code",
   "execution_count": 28,
   "id": "9b96e238",
   "metadata": {
    "execution": {
     "iopub.execute_input": "2022-01-15T20:10:13.941836Z",
     "iopub.status.busy": "2022-01-15T20:10:13.941210Z",
     "iopub.status.idle": "2022-01-15T20:10:13.954873Z",
     "shell.execute_reply": "2022-01-15T20:10:13.954070Z"
    },
    "papermill": {
     "duration": 0.071311,
     "end_time": "2022-01-15T20:10:13.954993",
     "exception": false,
     "start_time": "2022-01-15T20:10:13.883682",
     "status": "completed"
    },
    "tags": []
   },
   "outputs": [],
   "source": [
    "#creating the x and y ranges according to the above generated plot.\n",
    "x_range = np.linspace(-4, 1, 100) \n",
    "y_range = np.linspace(-6, 6, 100) \n",
    "x_grid, y_grid = np.meshgrid(x_range, y_range) # x_grid and y_grig are of size 100 X 100\n",
    "\n",
    "# converting x_grid and y_grid to continuous arrays\n",
    "x_gridflat = np.ravel(x_grid)\n",
    "y_gridflat = np.ravel(y_grid)\n",
    "\n",
    "# The last layer of the current model takes two columns as input. Hence transpose of np.vstack() is required.\n",
    "X = np.vstack((x_gridflat, y_gridflat)).T\n",
    "\n",
    "prob_contour = model_prob(X).reshape(100,100) "
   ]
  },
  {
   "cell_type": "code",
   "execution_count": 29,
   "id": "da72499a",
   "metadata": {
    "execution": {
     "iopub.execute_input": "2022-01-15T20:10:14.069109Z",
     "iopub.status.busy": "2022-01-15T20:10:14.068510Z",
     "iopub.status.idle": "2022-01-15T20:10:14.362874Z",
     "shell.execute_reply": "2022-01-15T20:10:14.363577Z"
    },
    "papermill": {
     "duration": 0.358616,
     "end_time": "2022-01-15T20:10:14.363785",
     "exception": false,
     "start_time": "2022-01-15T20:10:14.005169",
     "status": "completed"
    },
    "tags": []
   },
   "outputs": [
    {
     "data": {
      "image/png": "[encoded data removed]",
      "text/plain": [
       "<Figure size 720x648 with 1 Axes>"
      ]
     },
     "metadata": {
      "needs_background": "light"
     },
     "output_type": "display_data"
    }
   ],
   "source": [
    "plt.figure(figsize=(10,9))\n",
    "plt.scatter(testing_plot[:,0], testing_plot[:,1], alpha = 0.1, c = y_test.ravel())\n",
    "contours = plt.contour(x_grid,y_grid,prob_contour)\n",
    "plt.title('Probability Contours')\n",
    "plt.clabel(contours, inline = True );"
   ]
  },
  {
   "cell_type": "code",
   "execution_count": null,
   "id": "e81b4ac7",
   "metadata": {
    "papermill": {
     "duration": 0.052544,
     "end_time": "2022-01-15T20:10:14.469692",
     "exception": false,
     "start_time": "2022-01-15T20:10:14.417148",
     "status": "completed"
    },
    "tags": []
   },
   "outputs": [],
   "source": []
  }
 ],
 "metadata": {
  "kernelspec": {
   "display_name": "Python 3",
   "language": "python",
   "name": "python3"
  },
  "language_info": {
   "codemirror_mode": {
    "name": "ipython",
    "version": 3
   },
   "file_extension": ".py",
   "mimetype": "text/x-python",
   "name": "python",
   "nbconvert_exporter": "python",
   "pygments_lexer": "ipython3",
   "version": "3.6.15"
  },
  "papermill": {
   "default_parameters": {},
   "duration": 112.726229,
   "end_time": "2022-01-15T20:10:14.947374",
   "environment_variables": {},
   "exception": null,
   "input_path": "2020-08-11-part2.ipynb",
   "output_path": "2020-08-11-part2.ipynb",
   "parameters": {},
   "start_time": "2022-01-15T20:08:22.221145",
   "version": "2.3.3"
  }
 },
 "nbformat": 4,
 "nbformat_minor": 5
}