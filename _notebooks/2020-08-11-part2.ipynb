{
 "cells": [
  {
   "cell_type": "markdown",
   "id": "98380cd3",
   "metadata": {
    "papermill": {
     "duration": 0.034833,
     "end_time": "2021-09-08T10:06:40.299195",
     "exception": false,
     "start_time": "2021-09-08T10:06:40.264362",
     "status": "completed"
    },
    "tags": []
   },
   "source": [
    "# Distinguish Your Own Digits (DYOD)"
   ]
  },
  {
   "cell_type": "markdown",
   "id": "ef31240d",
   "metadata": {
    "papermill": {
     "duration": 0.026443,
     "end_time": "2021-09-08T10:06:40.352750",
     "exception": false,
     "start_time": "2021-09-08T10:06:40.326307",
     "status": "completed"
    },
    "tags": []
   },
   "source": [
    "You are going to write a classifier that distinguishes between the number 3 and number 8."
   ]
  },
  {
   "cell_type": "code",
   "execution_count": 1,
   "id": "b15c8646",
   "metadata": {
    "execution": {
     "iopub.execute_input": "2021-09-08T10:06:40.421469Z",
     "iopub.status.busy": "2021-09-08T10:06:40.420846Z",
     "iopub.status.idle": "2021-09-08T10:06:40.432138Z",
     "shell.execute_reply": "2021-09-08T10:06:40.431640Z"
    },
    "papermill": {
     "duration": 0.05302,
     "end_time": "2021-09-08T10:06:40.432280",
     "exception": false,
     "start_time": "2021-09-08T10:06:40.379260",
     "status": "completed"
    },
    "tags": []
   },
   "outputs": [],
   "source": [
    "%load_ext autoreload\n",
    "%autoreload 2"
   ]
  },
  {
   "cell_type": "code",
   "execution_count": 2,
   "id": "22ef38dc",
   "metadata": {
    "execution": {
     "iopub.execute_input": "2021-09-08T10:06:40.489890Z",
     "iopub.status.busy": "2021-09-08T10:06:40.489280Z",
     "iopub.status.idle": "2021-09-08T10:06:41.075673Z",
     "shell.execute_reply": "2021-09-08T10:06:41.076154Z"
    },
    "papermill": {
     "duration": 0.617448,
     "end_time": "2021-09-08T10:06:41.076313",
     "exception": false,
     "start_time": "2021-09-08T10:06:40.458865",
     "status": "completed"
    },
    "tags": []
   },
   "outputs": [],
   "source": [
    "%matplotlib inline\n",
    "import numpy as np\n",
    "import matplotlib.pyplot as plt\n",
    "import pandas as pd"
   ]
  },
  {
   "cell_type": "markdown",
   "id": "ba036198",
   "metadata": {
    "papermill": {
     "duration": 0.028112,
     "end_time": "2021-09-08T10:06:41.131447",
     "exception": false,
     "start_time": "2021-09-08T10:06:41.103335",
     "status": "completed"
    },
    "tags": []
   },
   "source": [
    "From the command line run `pip install mnist`. This is a library that will help you bring down the mnist dataset. If you run this from a notebook, you need to put  `!pip install mnist` in a cell by itself."
   ]
  },
  {
   "cell_type": "code",
   "execution_count": 3,
   "id": "bb6ad8a1",
   "metadata": {
    "execution": {
     "iopub.execute_input": "2021-09-08T10:06:41.189678Z",
     "iopub.status.busy": "2021-09-08T10:06:41.189074Z",
     "iopub.status.idle": "2021-09-08T10:06:43.005556Z",
     "shell.execute_reply": "2021-09-08T10:06:43.007134Z"
    },
    "papermill": {
     "duration": 1.849498,
     "end_time": "2021-09-08T10:06:43.007393",
     "exception": false,
     "start_time": "2021-09-08T10:06:41.157895",
     "status": "completed"
    },
    "tags": []
   },
   "outputs": [
    {
     "name": "stdout",
     "output_type": "stream",
     "text": [
      "Collecting mnist\r\n"
     ]
    },
    {
     "name": "stdout",
     "output_type": "stream",
     "text": [
      "  Downloading mnist-0.2.2-py2.py3-none-any.whl (3.5 kB)\r\n",
      "Requirement already satisfied: numpy in /opt/hostedtoolcache/Python/3.6.14/x64/lib/python3.6/site-packages (from mnist) (1.19.5)\r\n"
     ]
    },
    {
     "name": "stdout",
     "output_type": "stream",
     "text": [
      "Installing collected packages: mnist\r\n"
     ]
    },
    {
     "name": "stdout",
     "output_type": "stream",
     "text": [
      "Successfully installed mnist-0.2.2\r\n"
     ]
    }
   ],
   "source": [
    "!pip install mnist"
   ]
  },
  {
   "cell_type": "markdown",
   "id": "69df9c9a",
   "metadata": {
    "papermill": {
     "duration": 0.02843,
     "end_time": "2021-09-08T10:06:43.065239",
     "exception": false,
     "start_time": "2021-09-08T10:06:43.036809",
     "status": "completed"
    },
    "tags": []
   },
   "source": [
    "## Preparing the Data"
   ]
  },
  {
   "cell_type": "code",
   "execution_count": 4,
   "id": "7f69d806",
   "metadata": {
    "execution": {
     "iopub.execute_input": "2021-09-08T10:06:43.128136Z",
     "iopub.status.busy": "2021-09-08T10:06:43.127542Z",
     "iopub.status.idle": "2021-09-08T10:06:43.146345Z",
     "shell.execute_reply": "2021-09-08T10:06:43.145683Z"
    },
    "papermill": {
     "duration": 0.05291,
     "end_time": "2021-09-08T10:06:43.146541",
     "exception": false,
     "start_time": "2021-09-08T10:06:43.093631",
     "status": "completed"
    },
    "tags": []
   },
   "outputs": [],
   "source": [
    "import mnist"
   ]
  },
  {
   "cell_type": "code",
   "execution_count": 5,
   "id": "a411e44f",
   "metadata": {
    "execution": {
     "iopub.execute_input": "2021-09-08T10:06:43.209149Z",
     "iopub.status.busy": "2021-09-08T10:06:43.208545Z",
     "iopub.status.idle": "2021-09-08T10:06:43.770458Z",
     "shell.execute_reply": "2021-09-08T10:06:43.769414Z"
    },
    "papermill": {
     "duration": 0.594436,
     "end_time": "2021-09-08T10:06:43.770621",
     "exception": false,
     "start_time": "2021-09-08T10:06:43.176185",
     "status": "completed"
    },
    "tags": []
   },
   "outputs": [],
   "source": [
    "train_images = mnist.train_images()\n",
    "train_labels = mnist.train_labels()"
   ]
  },
  {
   "cell_type": "code",
   "execution_count": 6,
   "id": "dceab3a5",
   "metadata": {
    "execution": {
     "iopub.execute_input": "2021-09-08T10:06:43.832356Z",
     "iopub.status.busy": "2021-09-08T10:06:43.830961Z",
     "iopub.status.idle": "2021-09-08T10:06:43.846644Z",
     "shell.execute_reply": "2021-09-08T10:06:43.846089Z"
    },
    "papermill": {
     "duration": 0.04788,
     "end_time": "2021-09-08T10:06:43.846776",
     "exception": false,
     "start_time": "2021-09-08T10:06:43.798896",
     "status": "completed"
    },
    "tags": []
   },
   "outputs": [
    {
     "data": {
      "text/plain": [
       "((60000, 28, 28), (60000,))"
      ]
     },
     "execution_count": 6,
     "metadata": {},
     "output_type": "execute_result"
    }
   ],
   "source": [
    "train_images.shape, train_labels.shape"
   ]
  },
  {
   "cell_type": "code",
   "execution_count": 7,
   "id": "f50dc2bb",
   "metadata": {
    "execution": {
     "iopub.execute_input": "2021-09-08T10:06:43.910604Z",
     "iopub.status.busy": "2021-09-08T10:06:43.909818Z",
     "iopub.status.idle": "2021-09-08T10:06:44.041080Z",
     "shell.execute_reply": "2021-09-08T10:06:44.040303Z"
    },
    "papermill": {
     "duration": 0.165477,
     "end_time": "2021-09-08T10:06:44.041252",
     "exception": false,
     "start_time": "2021-09-08T10:06:43.875775",
     "status": "completed"
    },
    "tags": []
   },
   "outputs": [],
   "source": [
    "test_images = mnist.test_images()\n",
    "test_labels = mnist.test_labels()"
   ]
  },
  {
   "cell_type": "code",
   "execution_count": 8,
   "id": "fc38cf1b",
   "metadata": {
    "execution": {
     "iopub.execute_input": "2021-09-08T10:06:44.111531Z",
     "iopub.status.busy": "2021-09-08T10:06:44.110908Z",
     "iopub.status.idle": "2021-09-08T10:06:44.127310Z",
     "shell.execute_reply": "2021-09-08T10:06:44.127792Z"
    },
    "papermill": {
     "duration": 0.05408,
     "end_time": "2021-09-08T10:06:44.127944",
     "exception": false,
     "start_time": "2021-09-08T10:06:44.073864",
     "status": "completed"
    },
    "tags": []
   },
   "outputs": [
    {
     "data": {
      "text/plain": [
       "((10000, 28, 28), (10000,))"
      ]
     },
     "execution_count": 8,
     "metadata": {},
     "output_type": "execute_result"
    }
   ],
   "source": [
    "test_images.shape, test_labels.shape"
   ]
  },
  {
   "cell_type": "code",
   "execution_count": 9,
   "id": "f9ed8fe0",
   "metadata": {
    "execution": {
     "iopub.execute_input": "2021-09-08T10:06:44.194371Z",
     "iopub.status.busy": "2021-09-08T10:06:44.193755Z",
     "iopub.status.idle": "2021-09-08T10:06:44.352719Z",
     "shell.execute_reply": "2021-09-08T10:06:44.352213Z"
    },
    "papermill": {
     "duration": 0.195716,
     "end_time": "2021-09-08T10:06:44.352855",
     "exception": false,
     "start_time": "2021-09-08T10:06:44.157139",
     "status": "completed"
    },
    "tags": []
   },
   "outputs": [
    {
     "name": "stdout",
     "output_type": "stream",
     "text": [
      "2\n"
     ]
    },
    {
     "data": {
      "text/plain": [
       "<matplotlib.image.AxesImage at 0x7fea7967dcf8>"
      ]
     },
     "execution_count": 9,
     "metadata": {},
     "output_type": "execute_result"
    },
    {
     "data": {
      "image/png": "[encoded data removed]",
      "text/plain": [
       "<Figure size 432x288 with 1 Axes>"
      ]
     },
     "metadata": {
      "needs_background": "light"
     },
     "output_type": "display_data"
    }
   ],
   "source": [
    "image_index = 7776 # You may select anything up to 60,000\n",
    "print(train_labels[image_index]) \n",
    "plt.imshow(train_images[image_index], cmap='Greys')"
   ]
  },
  {
   "cell_type": "markdown",
   "id": "a8d2388d",
   "metadata": {
    "papermill": {
     "duration": 0.029654,
     "end_time": "2021-09-08T10:06:44.412561",
     "exception": false,
     "start_time": "2021-09-08T10:06:44.382907",
     "status": "completed"
    },
    "tags": []
   },
   "source": [
    "## Filter data to get 3 and 8 out"
   ]
  },
  {
   "cell_type": "code",
   "execution_count": 10,
   "id": "776f7fc7",
   "metadata": {
    "execution": {
     "iopub.execute_input": "2021-09-08T10:06:44.479426Z",
     "iopub.status.busy": "2021-09-08T10:06:44.476221Z",
     "iopub.status.idle": "2021-09-08T10:06:44.495903Z",
     "shell.execute_reply": "2021-09-08T10:06:44.495227Z"
    },
    "papermill": {
     "duration": 0.053763,
     "end_time": "2021-09-08T10:06:44.496045",
     "exception": false,
     "start_time": "2021-09-08T10:06:44.442282",
     "status": "completed"
    },
    "tags": []
   },
   "outputs": [],
   "source": [
    "train_filter = np.where((train_labels == 3 ) | (train_labels == 8))\n",
    "test_filter = np.where((test_labels == 3) | (test_labels == 8))\n",
    "X_train, y_train = train_images[train_filter], train_labels[train_filter]\n",
    "X_test, y_test = test_images[test_filter], test_labels[test_filter]"
   ]
  },
  {
   "cell_type": "markdown",
   "id": "948f0b7e",
   "metadata": {
    "papermill": {
     "duration": 0.030667,
     "end_time": "2021-09-08T10:06:44.559100",
     "exception": false,
     "start_time": "2021-09-08T10:06:44.528433",
     "status": "completed"
    },
    "tags": []
   },
   "source": [
    "We normalize the pizel values in the 0 to 1 range"
   ]
  },
  {
   "cell_type": "code",
   "execution_count": 11,
   "id": "ee4c2166",
   "metadata": {
    "execution": {
     "iopub.execute_input": "2021-09-08T10:06:44.624615Z",
     "iopub.status.busy": "2021-09-08T10:06:44.624004Z",
     "iopub.status.idle": "2021-09-08T10:06:44.679659Z",
     "shell.execute_reply": "2021-09-08T10:06:44.678346Z"
    },
    "papermill": {
     "duration": 0.089495,
     "end_time": "2021-09-08T10:06:44.679803",
     "exception": false,
     "start_time": "2021-09-08T10:06:44.590308",
     "status": "completed"
    },
    "tags": []
   },
   "outputs": [],
   "source": [
    "X_train = X_train/255.\n",
    "X_test = X_test/255."
   ]
  },
  {
   "cell_type": "markdown",
   "id": "ddcf4fab",
   "metadata": {
    "papermill": {
     "duration": 0.030056,
     "end_time": "2021-09-08T10:06:44.741021",
     "exception": false,
     "start_time": "2021-09-08T10:06:44.710965",
     "status": "completed"
    },
    "tags": []
   },
   "source": [
    "And setup the labels as 1 (when the digit is 3) and 0 (when the digit is 8)"
   ]
  },
  {
   "cell_type": "code",
   "execution_count": 12,
   "id": "7dc908f2",
   "metadata": {
    "execution": {
     "iopub.execute_input": "2021-09-08T10:06:44.812228Z",
     "iopub.status.busy": "2021-09-08T10:06:44.807106Z",
     "iopub.status.idle": "2021-09-08T10:06:44.823985Z",
     "shell.execute_reply": "2021-09-08T10:06:44.823462Z"
    },
    "papermill": {
     "duration": 0.051039,
     "end_time": "2021-09-08T10:06:44.824114",
     "exception": false,
     "start_time": "2021-09-08T10:06:44.773075",
     "status": "completed"
    },
    "tags": []
   },
   "outputs": [],
   "source": [
    "y_train = 1*(y_train==3)\n",
    "y_test = 1*(y_test==3)"
   ]
  },
  {
   "cell_type": "code",
   "execution_count": 13,
   "id": "01e4e969",
   "metadata": {
    "execution": {
     "iopub.execute_input": "2021-09-08T10:06:44.889145Z",
     "iopub.status.busy": "2021-09-08T10:06:44.888554Z",
     "iopub.status.idle": "2021-09-08T10:06:44.903585Z",
     "shell.execute_reply": "2021-09-08T10:06:44.903101Z"
    },
    "papermill": {
     "duration": 0.049269,
     "end_time": "2021-09-08T10:06:44.903711",
     "exception": false,
     "start_time": "2021-09-08T10:06:44.854442",
     "status": "completed"
    },
    "tags": []
   },
   "outputs": [
    {
     "data": {
      "text/plain": [
       "((11982, 28, 28), (1984, 28, 28))"
      ]
     },
     "execution_count": 13,
     "metadata": {},
     "output_type": "execute_result"
    }
   ],
   "source": [
    "X_train.shape, X_test.shape"
   ]
  },
  {
   "cell_type": "markdown",
   "id": "5ccf3f85",
   "metadata": {
    "papermill": {
     "duration": 0.031813,
     "end_time": "2021-09-08T10:06:44.972469",
     "exception": false,
     "start_time": "2021-09-08T10:06:44.940656",
     "status": "completed"
    },
    "tags": []
   },
   "source": [
    "We reshape the data to flatten the image pixels into a set of features or co-variates:"
   ]
  },
  {
   "cell_type": "code",
   "execution_count": 14,
   "id": "5286a4a3",
   "metadata": {
    "execution": {
     "iopub.execute_input": "2021-09-08T10:06:45.040139Z",
     "iopub.status.busy": "2021-09-08T10:06:45.039514Z",
     "iopub.status.idle": "2021-09-08T10:06:45.055529Z",
     "shell.execute_reply": "2021-09-08T10:06:45.055980Z"
    },
    "papermill": {
     "duration": 0.051944,
     "end_time": "2021-09-08T10:06:45.056140",
     "exception": false,
     "start_time": "2021-09-08T10:06:45.004196",
     "status": "completed"
    },
    "tags": []
   },
   "outputs": [
    {
     "data": {
      "text/plain": [
       "((11982, 784), (1984, 784))"
      ]
     },
     "execution_count": 14,
     "metadata": {},
     "output_type": "execute_result"
    }
   ],
   "source": [
    "X_train = X_train.reshape(X_train.shape[0], -1)\n",
    "X_test = X_test.reshape(X_test.shape[0], -1)\n",
    "X_train.shape, X_test.shape"
   ]
  },
  {
   "cell_type": "code",
   "execution_count": 15,
   "id": "73c5f88a",
   "metadata": {
    "execution": {
     "iopub.execute_input": "2021-09-08T10:06:45.125941Z",
     "iopub.status.busy": "2021-09-08T10:06:45.125321Z",
     "iopub.status.idle": "2021-09-08T10:06:45.147433Z",
     "shell.execute_reply": "2021-09-08T10:06:45.146915Z"
    },
    "papermill": {
     "duration": 0.060158,
     "end_time": "2021-09-08T10:06:45.147568",
     "exception": false,
     "start_time": "2021-09-08T10:06:45.087410",
     "status": "completed"
    },
    "tags": []
   },
   "outputs": [],
   "source": [
    "#Impoting functions from 'Kudzu'\n",
    "from kudzu.model import Model\n",
    "from kudzu.train import Learner\n",
    "from kudzu.optim import GD\n",
    "from kudzu.data import Data, Sampler,Dataloader\n",
    "\n",
    "from kudzu.callbacks import AccCallback\n",
    "from kudzu.callbacks import ClfCallback\n",
    "\n",
    "from kudzu.loss import MSE\n",
    "\n",
    "from kudzu.layer import Sigmoid,Relu\n",
    "from kudzu.layer import Affine"
   ]
  },
  {
   "cell_type": "markdown",
   "id": "bc01172a",
   "metadata": {
    "papermill": {
     "duration": 0.032424,
     "end_time": "2021-09-08T10:06:45.216481",
     "exception": false,
     "start_time": "2021-09-08T10:06:45.184057",
     "status": "completed"
    },
    "tags": []
   },
   "source": [
    "### Let us create a `Config` class, to store important parameters. \n",
    "This class essentially plays the role of a dictionary."
   ]
  },
  {
   "cell_type": "code",
   "execution_count": 16,
   "id": "978281aa",
   "metadata": {
    "execution": {
     "iopub.execute_input": "2021-09-08T10:06:45.286150Z",
     "iopub.status.busy": "2021-09-08T10:06:45.285512Z",
     "iopub.status.idle": "2021-09-08T10:06:45.300626Z",
     "shell.execute_reply": "2021-09-08T10:06:45.301258Z"
    },
    "papermill": {
     "duration": 0.052898,
     "end_time": "2021-09-08T10:06:45.301428",
     "exception": false,
     "start_time": "2021-09-08T10:06:45.248530",
     "status": "completed"
    },
    "tags": []
   },
   "outputs": [],
   "source": [
    "class Config:\n",
    "    pass\n",
    "config = Config()\n",
    "config.lr = 0.001\n",
    "config.num_epochs = 250\n",
    "config.bs = 50"
   ]
  },
  {
   "cell_type": "markdown",
   "id": "1385fa59",
   "metadata": {
    "papermill": {
     "duration": 0.030855,
     "end_time": "2021-09-08T10:06:45.365105",
     "exception": false,
     "start_time": "2021-09-08T10:06:45.334250",
     "status": "completed"
    },
    "tags": []
   },
   "source": [
    "### Running Models with the Training data\n",
    "Details about the network layers:\n",
    "- A first affine layer has 784 inputs and does 100 affine transforms. These are followed by a Relu\n",
    "- A second affine layer has 100 inputs from the 100 activations of the past layer, and does 100 affine transforms. These are followed by a Relu\n",
    "- A third affine layer has 100 activations and does 2 affine transformations to create an embedding for visualization. There is no non-linearity here.\n",
    "- A final \"logistic regression\" which has an affine transform from 2 inputs to 1 output, which is squeezed through a sigmoid.\n"
   ]
  },
  {
   "cell_type": "code",
   "execution_count": 17,
   "id": "2b9c66db",
   "metadata": {
    "execution": {
     "iopub.execute_input": "2021-09-08T10:06:45.434043Z",
     "iopub.status.busy": "2021-09-08T10:06:45.433401Z",
     "iopub.status.idle": "2021-09-08T10:06:45.446893Z",
     "shell.execute_reply": "2021-09-08T10:06:45.446370Z"
    },
    "papermill": {
     "duration": 0.050395,
     "end_time": "2021-09-08T10:06:45.447027",
     "exception": false,
     "start_time": "2021-09-08T10:06:45.396632",
     "status": "completed"
    },
    "tags": []
   },
   "outputs": [],
   "source": [
    "data = Data(X_train, y_train.reshape(-1,1))\n",
    "sampler = Sampler(data, config.bs, shuffle=True)\n",
    "\n",
    "dl = Dataloader(data, sampler)\n",
    "\n",
    "opt = GD(config.lr)\n",
    "loss = MSE()"
   ]
  },
  {
   "cell_type": "code",
   "execution_count": 18,
   "id": "b275e4c2",
   "metadata": {
    "execution": {
     "iopub.execute_input": "2021-09-08T10:06:45.523914Z",
     "iopub.status.busy": "2021-09-08T10:06:45.523084Z",
     "iopub.status.idle": "2021-09-08T10:06:45.536267Z",
     "shell.execute_reply": "2021-09-08T10:06:45.535745Z"
    },
    "papermill": {
     "duration": 0.058013,
     "end_time": "2021-09-08T10:06:45.536403",
     "exception": false,
     "start_time": "2021-09-08T10:06:45.478390",
     "status": "completed"
    },
    "tags": []
   },
   "outputs": [],
   "source": [
    "training_data_x = X_train\n",
    "testing_data_x = X_test\n",
    "training_data_y = y_train.reshape(-1,1)\n",
    "testing_data_y = y_test.reshape(-1,1)"
   ]
  },
  {
   "cell_type": "code",
   "execution_count": 19,
   "id": "76951160",
   "metadata": {
    "execution": {
     "iopub.execute_input": "2021-09-08T10:06:45.606666Z",
     "iopub.status.busy": "2021-09-08T10:06:45.606005Z",
     "iopub.status.idle": "2021-09-08T10:06:45.623772Z",
     "shell.execute_reply": "2021-09-08T10:06:45.623263Z"
    },
    "papermill": {
     "duration": 0.054199,
     "end_time": "2021-09-08T10:06:45.623904",
     "exception": false,
     "start_time": "2021-09-08T10:06:45.569705",
     "status": "completed"
    },
    "tags": []
   },
   "outputs": [
    {
     "name": "stdout",
     "output_type": "stream",
     "text": [
      "xavier\n",
      "xavier\n",
      "xavier\n",
      "xavier\n",
      "xavier\n"
     ]
    }
   ],
   "source": [
    "layers = [Affine(\"first\", 784, 100), Relu(\"first\"), Affine(\"second\", 100, 100), Relu(\"second\"), Affine(\"third\", 100, 2), Affine(\"last\", 2, 1), Sigmoid(\"last\")]\n",
    "model_nn = Model(layers)\n",
    "model_lr = Model([Affine(\"logits\", 784, 1), Sigmoid(\"sigmoid\")])"
   ]
  },
  {
   "cell_type": "code",
   "execution_count": 20,
   "id": "6eede77a",
   "metadata": {
    "execution": {
     "iopub.execute_input": "2021-09-08T10:06:45.696966Z",
     "iopub.status.busy": "2021-09-08T10:06:45.696332Z",
     "iopub.status.idle": "2021-09-08T10:06:45.710534Z",
     "shell.execute_reply": "2021-09-08T10:06:45.708965Z"
    },
    "papermill": {
     "duration": 0.054205,
     "end_time": "2021-09-08T10:06:45.710683",
     "exception": false,
     "start_time": "2021-09-08T10:06:45.656478",
     "status": "completed"
    },
    "tags": []
   },
   "outputs": [],
   "source": [
    "nn_learner = Learner(loss, model_nn, opt, config.num_epochs)\n",
    "acc_nn = ClfCallback(nn_learner, config.bs, training_data_x , testing_data_x, training_data_y, testing_data_y)\n",
    "nn_learner.set_callbacks([acc_nn])"
   ]
  },
  {
   "cell_type": "code",
   "execution_count": 21,
   "id": "877b6cc7",
   "metadata": {
    "execution": {
     "iopub.execute_input": "2021-09-08T10:06:45.788093Z",
     "iopub.status.busy": "2021-09-08T10:06:45.787461Z",
     "iopub.status.idle": "2021-09-08T10:06:45.799990Z",
     "shell.execute_reply": "2021-09-08T10:06:45.799489Z"
    },
    "papermill": {
     "duration": 0.055471,
     "end_time": "2021-09-08T10:06:45.800124",
     "exception": false,
     "start_time": "2021-09-08T10:06:45.744653",
     "status": "completed"
    },
    "tags": []
   },
   "outputs": [],
   "source": [
    "lr_learner = Learner(loss, model_lr, opt, config.num_epochs)\n",
    "acc_lr = ClfCallback(lr_learner, config.bs, training_data_x , testing_data_x, training_data_y, testing_data_y)\n",
    "lr_learner.set_callbacks([acc_lr])"
   ]
  },
  {
   "cell_type": "code",
   "execution_count": 22,
   "id": "d9b133c3",
   "metadata": {
    "execution": {
     "iopub.execute_input": "2021-09-08T10:06:45.875643Z",
     "iopub.status.busy": "2021-09-08T10:06:45.875019Z",
     "iopub.status.idle": "2021-09-08T10:08:13.912737Z",
     "shell.execute_reply": "2021-09-08T10:08:13.913567Z"
    },
    "papermill": {
     "duration": 88.080301,
     "end_time": "2021-09-08T10:08:13.913728",
     "exception": false,
     "start_time": "2021-09-08T10:06:45.833427",
     "status": "completed"
    },
    "tags": []
   },
   "outputs": [
    {
     "name": "stdout",
     "output_type": "stream",
     "text": [
      "Epoch 0, Loss 0.2426\n",
      "Training Accuracy: 0.6073, Testing Accuracy: 0.6442\n",
      "\n"
     ]
    },
    {
     "name": "stdout",
     "output_type": "stream",
     "text": [
      "Epoch 10, Loss 0.1889\n",
      "Training Accuracy: 0.8557, Testing Accuracy: 0.8851\n",
      "\n"
     ]
    },
    {
     "name": "stdout",
     "output_type": "stream",
     "text": [
      "Epoch 20, Loss 0.0986\n",
      "Training Accuracy: 0.9074, Testing Accuracy: 0.9178\n",
      "\n"
     ]
    },
    {
     "name": "stdout",
     "output_type": "stream",
     "text": [
      "Epoch 30, Loss 0.0633\n",
      "Training Accuracy: 0.9324, Testing Accuracy: 0.9451\n",
      "\n"
     ]
    },
    {
     "name": "stdout",
     "output_type": "stream",
     "text": [
      "Epoch 40, Loss 0.0491\n",
      "Training Accuracy: 0.9441, Testing Accuracy: 0.9551\n",
      "\n"
     ]
    },
    {
     "name": "stdout",
     "output_type": "stream",
     "text": [
      "Epoch 50, Loss 0.0419\n",
      "Training Accuracy: 0.9511, Testing Accuracy: 0.9612\n",
      "\n"
     ]
    },
    {
     "name": "stdout",
     "output_type": "stream",
     "text": [
      "Epoch 60, Loss 0.0375\n",
      "Training Accuracy: 0.9570, Testing Accuracy: 0.9637\n",
      "\n"
     ]
    },
    {
     "name": "stdout",
     "output_type": "stream",
     "text": [
      "Epoch 70, Loss 0.0345\n",
      "Training Accuracy: 0.9604, Testing Accuracy: 0.9652\n",
      "\n"
     ]
    },
    {
     "name": "stdout",
     "output_type": "stream",
     "text": [
      "Epoch 80, Loss 0.0323\n",
      "Training Accuracy: 0.9618, Testing Accuracy: 0.9662\n",
      "\n"
     ]
    },
    {
     "name": "stdout",
     "output_type": "stream",
     "text": [
      "Epoch 90, Loss 0.0306\n",
      "Training Accuracy: 0.9641, Testing Accuracy: 0.9693\n",
      "\n"
     ]
    },
    {
     "name": "stdout",
     "output_type": "stream",
     "text": [
      "Epoch 100, Loss 0.0292\n",
      "Training Accuracy: 0.9659, Testing Accuracy: 0.9698\n",
      "\n"
     ]
    },
    {
     "name": "stdout",
     "output_type": "stream",
     "text": [
      "Epoch 110, Loss 0.028\n",
      "Training Accuracy: 0.9675, Testing Accuracy: 0.9703\n",
      "\n"
     ]
    },
    {
     "name": "stdout",
     "output_type": "stream",
     "text": [
      "Epoch 120, Loss 0.027\n",
      "Training Accuracy: 0.9690, Testing Accuracy: 0.9703\n",
      "\n"
     ]
    },
    {
     "name": "stdout",
     "output_type": "stream",
     "text": [
      "Epoch 130, Loss 0.0262\n",
      "Training Accuracy: 0.9700, Testing Accuracy: 0.9698\n",
      "\n"
     ]
    },
    {
     "name": "stdout",
     "output_type": "stream",
     "text": [
      "Epoch 140, Loss 0.0254\n",
      "Training Accuracy: 0.9710, Testing Accuracy: 0.9718\n",
      "\n"
     ]
    },
    {
     "name": "stdout",
     "output_type": "stream",
     "text": [
      "Epoch 150, Loss 0.0247\n",
      "Training Accuracy: 0.9721, Testing Accuracy: 0.9708\n",
      "\n"
     ]
    },
    {
     "name": "stdout",
     "output_type": "stream",
     "text": [
      "Epoch 160, Loss 0.0241\n",
      "Training Accuracy: 0.9729, Testing Accuracy: 0.9713\n",
      "\n"
     ]
    },
    {
     "name": "stdout",
     "output_type": "stream",
     "text": [
      "Epoch 170, Loss 0.0235\n",
      "Training Accuracy: 0.9736, Testing Accuracy: 0.9713\n",
      "\n"
     ]
    },
    {
     "name": "stdout",
     "output_type": "stream",
     "text": [
      "Epoch 180, Loss 0.023\n",
      "Training Accuracy: 0.9745, Testing Accuracy: 0.9718\n",
      "\n"
     ]
    },
    {
     "name": "stdout",
     "output_type": "stream",
     "text": [
      "Epoch 190, Loss 0.0225\n",
      "Training Accuracy: 0.9750, Testing Accuracy: 0.9718\n",
      "\n"
     ]
    },
    {
     "name": "stdout",
     "output_type": "stream",
     "text": [
      "Epoch 200, Loss 0.022\n",
      "Training Accuracy: 0.9753, Testing Accuracy: 0.9718\n",
      "\n"
     ]
    },
    {
     "name": "stdout",
     "output_type": "stream",
     "text": [
      "Epoch 210, Loss 0.0216\n",
      "Training Accuracy: 0.9760, Testing Accuracy: 0.9723\n",
      "\n"
     ]
    },
    {
     "name": "stdout",
     "output_type": "stream",
     "text": [
      "Epoch 220, Loss 0.0211\n",
      "Training Accuracy: 0.9766, Testing Accuracy: 0.9723\n",
      "\n"
     ]
    },
    {
     "name": "stdout",
     "output_type": "stream",
     "text": [
      "Epoch 230, Loss 0.0207\n",
      "Training Accuracy: 0.9770, Testing Accuracy: 0.9723\n",
      "\n"
     ]
    },
    {
     "name": "stdout",
     "output_type": "stream",
     "text": [
      "Epoch 240, Loss 0.0204\n",
      "Training Accuracy: 0.9773, Testing Accuracy: 0.9728\n",
      "\n"
     ]
    },
    {
     "data": {
      "text/plain": [
       "0.028026736718527505"
      ]
     },
     "execution_count": 22,
     "metadata": {},
     "output_type": "execute_result"
    }
   ],
   "source": [
    "nn_learner.train_loop(dl)"
   ]
  },
  {
   "cell_type": "code",
   "execution_count": 23,
   "id": "e0163366",
   "metadata": {
    "execution": {
     "iopub.execute_input": "2021-09-08T10:08:14.000563Z",
     "iopub.status.busy": "2021-09-08T10:08:13.999942Z",
     "iopub.status.idle": "2021-09-08T10:08:29.756726Z",
     "shell.execute_reply": "2021-09-08T10:08:29.757565Z"
    },
    "papermill": {
     "duration": 15.804909,
     "end_time": "2021-09-08T10:08:29.757728",
     "exception": false,
     "start_time": "2021-09-08T10:08:13.952819",
     "status": "completed"
    },
    "tags": []
   },
   "outputs": [
    {
     "name": "stdout",
     "output_type": "stream",
     "text": [
      "Epoch 0, Loss 0.2541\n",
      "Training Accuracy: 0.6344, Testing Accuracy: 0.6401\n",
      "\n"
     ]
    },
    {
     "name": "stdout",
     "output_type": "stream",
     "text": [
      "Epoch 10, Loss 0.1041\n",
      "Training Accuracy: 0.9098, Testing Accuracy: 0.9219\n",
      "\n"
     ]
    },
    {
     "name": "stdout",
     "output_type": "stream",
     "text": [
      "Epoch 20, Loss 0.0797\n",
      "Training Accuracy: 0.9295, Testing Accuracy: 0.9425\n",
      "\n"
     ]
    },
    {
     "name": "stdout",
     "output_type": "stream",
     "text": [
      "Epoch 30, Loss 0.0685\n",
      "Training Accuracy: 0.9370, Testing Accuracy: 0.9491\n",
      "\n"
     ]
    },
    {
     "name": "stdout",
     "output_type": "stream",
     "text": [
      "Epoch 40, Loss 0.0618\n",
      "Training Accuracy: 0.9420, Testing Accuracy: 0.9516\n",
      "\n"
     ]
    },
    {
     "name": "stdout",
     "output_type": "stream",
     "text": [
      "Epoch 50, Loss 0.0572\n",
      "Training Accuracy: 0.9453, Testing Accuracy: 0.9567\n",
      "\n"
     ]
    },
    {
     "name": "stdout",
     "output_type": "stream",
     "text": [
      "Epoch 60, Loss 0.0539\n",
      "Training Accuracy: 0.9472, Testing Accuracy: 0.9597\n",
      "\n"
     ]
    },
    {
     "name": "stdout",
     "output_type": "stream",
     "text": [
      "Epoch 70, Loss 0.0513\n",
      "Training Accuracy: 0.9501, Testing Accuracy: 0.9612\n",
      "\n"
     ]
    },
    {
     "name": "stdout",
     "output_type": "stream",
     "text": [
      "Epoch 80, Loss 0.0492\n",
      "Training Accuracy: 0.9513, Testing Accuracy: 0.9627\n",
      "\n"
     ]
    },
    {
     "name": "stdout",
     "output_type": "stream",
     "text": [
      "Epoch 90, Loss 0.0475\n",
      "Training Accuracy: 0.9522, Testing Accuracy: 0.9637\n",
      "\n"
     ]
    },
    {
     "name": "stdout",
     "output_type": "stream",
     "text": [
      "Epoch 100, Loss 0.0461\n",
      "Training Accuracy: 0.9537, Testing Accuracy: 0.9642\n",
      "\n"
     ]
    },
    {
     "name": "stdout",
     "output_type": "stream",
     "text": [
      "Epoch 110, Loss 0.0449\n",
      "Training Accuracy: 0.9543, Testing Accuracy: 0.9647\n",
      "\n"
     ]
    },
    {
     "name": "stdout",
     "output_type": "stream",
     "text": [
      "Epoch 120, Loss 0.0438\n",
      "Training Accuracy: 0.9551, Testing Accuracy: 0.9652\n",
      "\n"
     ]
    },
    {
     "name": "stdout",
     "output_type": "stream",
     "text": [
      "Epoch 130, Loss 0.0429\n",
      "Training Accuracy: 0.9561, Testing Accuracy: 0.9662\n",
      "\n"
     ]
    },
    {
     "name": "stdout",
     "output_type": "stream",
     "text": [
      "Epoch 140, Loss 0.0421\n",
      "Training Accuracy: 0.9564, Testing Accuracy: 0.9667\n",
      "\n"
     ]
    },
    {
     "name": "stdout",
     "output_type": "stream",
     "text": [
      "Epoch 150, Loss 0.0413\n",
      "Training Accuracy: 0.9573, Testing Accuracy: 0.9667\n",
      "\n"
     ]
    },
    {
     "name": "stdout",
     "output_type": "stream",
     "text": [
      "Epoch 160, Loss 0.0406\n",
      "Training Accuracy: 0.9575, Testing Accuracy: 0.9662\n",
      "\n"
     ]
    },
    {
     "name": "stdout",
     "output_type": "stream",
     "text": [
      "Epoch 170, Loss 0.04\n",
      "Training Accuracy: 0.9586, Testing Accuracy: 0.9662\n",
      "\n"
     ]
    },
    {
     "name": "stdout",
     "output_type": "stream",
     "text": [
      "Epoch 180, Loss 0.0395\n",
      "Training Accuracy: 0.9589, Testing Accuracy: 0.9667\n",
      "\n"
     ]
    },
    {
     "name": "stdout",
     "output_type": "stream",
     "text": [
      "Epoch 190, Loss 0.0389\n",
      "Training Accuracy: 0.9594, Testing Accuracy: 0.9672\n",
      "\n"
     ]
    },
    {
     "name": "stdout",
     "output_type": "stream",
     "text": [
      "Epoch 200, Loss 0.0385\n",
      "Training Accuracy: 0.9599, Testing Accuracy: 0.9672\n",
      "\n"
     ]
    },
    {
     "name": "stdout",
     "output_type": "stream",
     "text": [
      "Epoch 210, Loss 0.038\n",
      "Training Accuracy: 0.9604, Testing Accuracy: 0.9688\n",
      "\n"
     ]
    },
    {
     "name": "stdout",
     "output_type": "stream",
     "text": [
      "Epoch 220, Loss 0.0376\n",
      "Training Accuracy: 0.9605, Testing Accuracy: 0.9693\n",
      "\n"
     ]
    },
    {
     "name": "stdout",
     "output_type": "stream",
     "text": [
      "Epoch 230, Loss 0.0372\n",
      "Training Accuracy: 0.9606, Testing Accuracy: 0.9688\n",
      "\n"
     ]
    },
    {
     "name": "stdout",
     "output_type": "stream",
     "text": [
      "Epoch 240, Loss 0.0369\n",
      "Training Accuracy: 0.9606, Testing Accuracy: 0.9682\n",
      "\n"
     ]
    },
    {
     "data": {
      "text/plain": [
       "0.06122048813443245"
      ]
     },
     "execution_count": 23,
     "metadata": {},
     "output_type": "execute_result"
    }
   ],
   "source": [
    "lr_learner.train_loop(dl)"
   ]
  },
  {
   "cell_type": "code",
   "execution_count": 24,
   "id": "ca410940",
   "metadata": {
    "execution": {
     "iopub.execute_input": "2021-09-08T10:08:29.864089Z",
     "iopub.status.busy": "2021-09-08T10:08:29.863471Z",
     "iopub.status.idle": "2021-09-08T10:08:30.129241Z",
     "shell.execute_reply": "2021-09-08T10:08:30.128623Z"
    },
    "papermill": {
     "duration": 0.325438,
     "end_time": "2021-09-08T10:08:30.129391",
     "exception": false,
     "start_time": "2021-09-08T10:08:29.803953",
     "status": "completed"
    },
    "tags": []
   },
   "outputs": [
    {
     "data": {
      "text/plain": [
       "<matplotlib.legend.Legend at 0x7fea7925be10>"
      ]
     },
     "execution_count": 24,
     "metadata": {},
     "output_type": "execute_result"
    },
    {
     "data": {
      "image/png": "[encoded data removed]",
      "text/plain": [
       "<Figure size 1080x720 with 1 Axes>"
      ]
     },
     "metadata": {
      "needs_background": "light"
     },
     "output_type": "display_data"
    }
   ],
   "source": [
    "#comparing the results of NN and LR\n",
    "plt.figure(figsize=(15,10))\n",
    "\n",
    "# Neural Network plots\n",
    "plt.plot(acc_nn.accuracies, 'r-', label = \"Training Accuracies - NN\")\n",
    "plt.plot(acc_nn.test_accuracies, 'g-', label = \"Testing Accuracies - NN\")\n",
    "\n",
    "# Logistic Regression plots\n",
    "plt.plot(acc_lr.accuracies, 'k-', label = \"Training Accuracies - LR\")\n",
    "plt.plot(acc_lr.test_accuracies, 'b-', label = \"Testing Accuracies - LR\")\n",
    "plt.legend()"
   ]
  },
  {
   "cell_type": "markdown",
   "id": "80dfb35c",
   "metadata": {
    "papermill": {
     "duration": 0.047612,
     "end_time": "2021-09-08T10:08:30.225290",
     "exception": false,
     "start_time": "2021-09-08T10:08:30.177678",
     "status": "completed"
    },
    "tags": []
   },
   "source": [
    "#### Plotting the outputs of this layer of the NN.\n"
   ]
  },
  {
   "cell_type": "code",
   "execution_count": 25,
   "id": "45eb2ff5",
   "metadata": {
    "execution": {
     "iopub.execute_input": "2021-09-08T10:08:30.325692Z",
     "iopub.status.busy": "2021-09-08T10:08:30.325076Z",
     "iopub.status.idle": "2021-09-08T10:08:30.346406Z",
     "shell.execute_reply": "2021-09-08T10:08:30.346931Z"
    },
    "papermill": {
     "duration": 0.074131,
     "end_time": "2021-09-08T10:08:30.347090",
     "exception": false,
     "start_time": "2021-09-08T10:08:30.272959",
     "status": "completed"
    },
    "tags": []
   },
   "outputs": [],
   "source": [
    "new_model = Model(layers[:-2])\n",
    "testing_plot = new_model(testing_data_x)"
   ]
  },
  {
   "cell_type": "code",
   "execution_count": 26,
   "id": "4c0a5485",
   "metadata": {
    "execution": {
     "iopub.execute_input": "2021-09-08T10:08:30.457518Z",
     "iopub.status.busy": "2021-09-08T10:08:30.456107Z",
     "iopub.status.idle": "2021-09-08T10:08:30.688268Z",
     "shell.execute_reply": "2021-09-08T10:08:30.687738Z"
    },
    "papermill": {
     "duration": 0.285414,
     "end_time": "2021-09-08T10:08:30.688402",
     "exception": false,
     "start_time": "2021-09-08T10:08:30.402988",
     "status": "completed"
    },
    "tags": []
   },
   "outputs": [
    {
     "data": {
      "text/plain": [
       "Text(0.5, 1.0, 'Outputs')"
      ]
     },
     "execution_count": 26,
     "metadata": {},
     "output_type": "execute_result"
    },
    {
     "data": {
      "image/png": "[encoded data removed]",
      "text/plain": [
       "<Figure size 576x504 with 1 Axes>"
      ]
     },
     "metadata": {
      "needs_background": "light"
     },
     "output_type": "display_data"
    }
   ],
   "source": [
    "# Plotting the scatter plot of points and color coding by class\n",
    "plt.figure(figsize=(8,7))\n",
    "plt.scatter(testing_plot[:,0], testing_plot[:,1], alpha = 0.1, c = y_test.ravel());\n",
    "plt.title('Outputs')"
   ]
  },
  {
   "cell_type": "markdown",
   "id": "a74fcf8f",
   "metadata": {
    "papermill": {
     "duration": 0.049674,
     "end_time": "2021-09-08T10:08:30.788994",
     "exception": false,
     "start_time": "2021-09-08T10:08:30.739320",
     "status": "completed"
    },
    "tags": []
   },
   "source": [
    "Probability contours"
   ]
  },
  {
   "cell_type": "code",
   "execution_count": 27,
   "id": "d0afc8e3",
   "metadata": {
    "execution": {
     "iopub.execute_input": "2021-09-08T10:08:30.899796Z",
     "iopub.status.busy": "2021-09-08T10:08:30.899161Z",
     "iopub.status.idle": "2021-09-08T10:08:30.906132Z",
     "shell.execute_reply": "2021-09-08T10:08:30.906645Z"
    },
    "papermill": {
     "duration": 0.068073,
     "end_time": "2021-09-08T10:08:30.906802",
     "exception": false,
     "start_time": "2021-09-08T10:08:30.838729",
     "status": "completed"
    },
    "tags": []
   },
   "outputs": [],
   "source": [
    "model_prob = Model(layers[-2:]) "
   ]
  },
  {
   "cell_type": "code",
   "execution_count": 28,
   "id": "9b96e238",
   "metadata": {
    "execution": {
     "iopub.execute_input": "2021-09-08T10:08:31.015526Z",
     "iopub.status.busy": "2021-09-08T10:08:31.014883Z",
     "iopub.status.idle": "2021-09-08T10:08:31.029808Z",
     "shell.execute_reply": "2021-09-08T10:08:31.030261Z"
    },
    "papermill": {
     "duration": 0.073755,
     "end_time": "2021-09-08T10:08:31.030417",
     "exception": false,
     "start_time": "2021-09-08T10:08:30.956662",
     "status": "completed"
    },
    "tags": []
   },
   "outputs": [],
   "source": [
    "#creating the x and y ranges according to the above generated plot.\n",
    "x_range = np.linspace(-4, 1, 100) \n",
    "y_range = np.linspace(-6, 6, 100) \n",
    "x_grid, y_grid = np.meshgrid(x_range, y_range) # x_grid and y_grig are of size 100 X 100\n",
    "\n",
    "# converting x_grid and y_grid to continuous arrays\n",
    "x_gridflat = np.ravel(x_grid)\n",
    "y_gridflat = np.ravel(y_grid)\n",
    "\n",
    "# The last layer of the current model takes two columns as input. Hence transpose of np.vstack() is required.\n",
    "X = np.vstack((x_gridflat, y_gridflat)).T\n",
    "\n",
    "prob_contour = model_prob(X).reshape(100,100) "
   ]
  },
  {
   "cell_type": "code",
   "execution_count": 29,
   "id": "da72499a",
   "metadata": {
    "execution": {
     "iopub.execute_input": "2021-09-08T10:08:31.173581Z",
     "iopub.status.busy": "2021-09-08T10:08:31.172972Z",
     "iopub.status.idle": "2021-09-08T10:08:31.466194Z",
     "shell.execute_reply": "2021-09-08T10:08:31.466697Z"
    },
    "papermill": {
     "duration": 0.348203,
     "end_time": "2021-09-08T10:08:31.466854",
     "exception": false,
     "start_time": "2021-09-08T10:08:31.118651",
     "status": "completed"
    },
    "tags": []
   },
   "outputs": [
    {
     "data": {
      "image/png": "[encoded data removed]",
      "text/plain": [
       "<Figure size 720x648 with 1 Axes>"
      ]
     },
     "metadata": {
      "needs_background": "light"
     },
     "output_type": "display_data"
    }
   ],
   "source": [
    "plt.figure(figsize=(10,9))\n",
    "plt.scatter(testing_plot[:,0], testing_plot[:,1], alpha = 0.1, c = y_test.ravel())\n",
    "contours = plt.contour(x_grid,y_grid,prob_contour)\n",
    "plt.title('Probability Contours')\n",
    "plt.clabel(contours, inline = True );"
   ]
  },
  {
   "cell_type": "code",
   "execution_count": null,
   "id": "e81b4ac7",
   "metadata": {
    "papermill": {
     "duration": 0.053614,
     "end_time": "2021-09-08T10:08:31.573852",
     "exception": false,
     "start_time": "2021-09-08T10:08:31.520238",
     "status": "completed"
    },
    "tags": []
   },
   "outputs": [],
   "source": []
  }
 ],
 "metadata": {
  "kernelspec": {
   "display_name": "Python 3",
   "language": "python",
   "name": "python3"
  },
  "language_info": {
   "codemirror_mode": {
    "name": "ipython",
    "version": 3
   },
   "file_extension": ".py",
   "mimetype": "text/x-python",
   "name": "python",
   "nbconvert_exporter": "python",
   "pygments_lexer": "ipython3",
   "version": "3.6.14"
  },
  "papermill": {
   "default_parameters": {},
   "duration": 112.84765,
   "end_time": "2021-09-08T10:08:32.037693",
   "environment_variables": {},
   "exception": null,
   "input_path": "2020-08-11-part2.ipynb",
   "output_path": "2020-08-11-part2.ipynb",
   "parameters": {},
   "start_time": "2021-09-08T10:06:39.190043",
   "version": "2.3.3"
  }
 },
 "nbformat": 4,
 "nbformat_minor": 5
}