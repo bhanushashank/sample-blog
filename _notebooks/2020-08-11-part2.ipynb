{
 "cells": [
  {
   "cell_type": "markdown",
   "id": "98380cd3",
   "metadata": {
    "papermill": {
     "duration": 0.029961,
     "end_time": "2022-05-31T00:38:01.238513",
     "exception": false,
     "start_time": "2022-05-31T00:38:01.208552",
     "status": "completed"
    },
    "tags": []
   },
   "source": [
    "# Distinguish Your Own Digits (DYOD)"
   ]
  },
  {
   "cell_type": "markdown",
   "id": "ef31240d",
   "metadata": {
    "papermill": {
     "duration": 0.024672,
     "end_time": "2022-05-31T00:38:01.288527",
     "exception": false,
     "start_time": "2022-05-31T00:38:01.263855",
     "status": "completed"
    },
    "tags": []
   },
   "source": [
    "You are going to write a classifier that distinguishes between the number 3 and number 8."
   ]
  },
  {
   "cell_type": "code",
   "execution_count": 1,
   "id": "b15c8646",
   "metadata": {
    "execution": {
     "iopub.execute_input": "2022-05-31T00:38:01.347827Z",
     "iopub.status.busy": "2022-05-31T00:38:01.347241Z",
     "iopub.status.idle": "2022-05-31T00:38:01.357571Z",
     "shell.execute_reply": "2022-05-31T00:38:01.357113Z"
    },
    "papermill": {
     "duration": 0.044442,
     "end_time": "2022-05-31T00:38:01.357679",
     "exception": false,
     "start_time": "2022-05-31T00:38:01.313237",
     "status": "completed"
    },
    "tags": []
   },
   "outputs": [],
   "source": [
    "%load_ext autoreload\n",
    "%autoreload 2"
   ]
  },
  {
   "cell_type": "code",
   "execution_count": 2,
   "id": "22ef38dc",
   "metadata": {
    "execution": {
     "iopub.execute_input": "2022-05-31T00:38:01.410473Z",
     "iopub.status.busy": "2022-05-31T00:38:01.409917Z",
     "iopub.status.idle": "2022-05-31T00:38:01.910493Z",
     "shell.execute_reply": "2022-05-31T00:38:01.909541Z"
    },
    "papermill": {
     "duration": 0.528195,
     "end_time": "2022-05-31T00:38:01.910616",
     "exception": false,
     "start_time": "2022-05-31T00:38:01.382421",
     "status": "completed"
    },
    "tags": []
   },
   "outputs": [],
   "source": [
    "%matplotlib inline\n",
    "import numpy as np\n",
    "import matplotlib.pyplot as plt\n",
    "import pandas as pd"
   ]
  },
  {
   "cell_type": "markdown",
   "id": "ba036198",
   "metadata": {
    "papermill": {
     "duration": 0.024445,
     "end_time": "2022-05-31T00:38:01.959675",
     "exception": false,
     "start_time": "2022-05-31T00:38:01.935230",
     "status": "completed"
    },
    "tags": []
   },
   "source": [
    "From the command line run `pip install mnist`. This is a library that will help you bring down the mnist dataset. If you run this from a notebook, you need to put  `!pip install mnist` in a cell by itself."
   ]
  },
  {
   "cell_type": "code",
   "execution_count": 3,
   "id": "bb6ad8a1",
   "metadata": {
    "execution": {
     "iopub.execute_input": "2022-05-31T00:38:02.015260Z",
     "iopub.status.busy": "2022-05-31T00:38:02.012522Z",
     "iopub.status.idle": "2022-05-31T00:38:03.730677Z",
     "shell.execute_reply": "2022-05-31T00:38:03.730196Z"
    },
    "papermill": {
     "duration": 1.746744,
     "end_time": "2022-05-31T00:38:03.730789",
     "exception": false,
     "start_time": "2022-05-31T00:38:01.984045",
     "status": "completed"
    },
    "tags": []
   },
   "outputs": [
    {
     "name": "stdout",
     "output_type": "stream",
     "text": [
      "Collecting mnist\r\n"
     ]
    },
    {
     "name": "stdout",
     "output_type": "stream",
     "text": [
      "  Downloading mnist-0.2.2-py2.py3-none-any.whl (3.5 kB)\r\n",
      "Requirement already satisfied: numpy in /opt/hostedtoolcache/Python/3.6.15/x64/lib/python3.6/site-packages (from mnist) (1.19.5)\r\n"
     ]
    },
    {
     "name": "stdout",
     "output_type": "stream",
     "text": [
      "Installing collected packages: mnist\r\n"
     ]
    },
    {
     "name": "stdout",
     "output_type": "stream",
     "text": [
      "Successfully installed mnist-0.2.2\r\n"
     ]
    }
   ],
   "source": [
    "!pip install mnist"
   ]
  },
  {
   "cell_type": "markdown",
   "id": "69df9c9a",
   "metadata": {
    "papermill": {
     "duration": 0.025671,
     "end_time": "2022-05-31T00:38:03.782293",
     "exception": false,
     "start_time": "2022-05-31T00:38:03.756622",
     "status": "completed"
    },
    "tags": []
   },
   "source": [
    "## Preparing the Data"
   ]
  },
  {
   "cell_type": "code",
   "execution_count": 4,
   "id": "7f69d806",
   "metadata": {
    "execution": {
     "iopub.execute_input": "2022-05-31T00:38:03.838107Z",
     "iopub.status.busy": "2022-05-31T00:38:03.837543Z",
     "iopub.status.idle": "2022-05-31T00:38:03.850048Z",
     "shell.execute_reply": "2022-05-31T00:38:03.850464Z"
    },
    "papermill": {
     "duration": 0.042828,
     "end_time": "2022-05-31T00:38:03.850583",
     "exception": false,
     "start_time": "2022-05-31T00:38:03.807755",
     "status": "completed"
    },
    "tags": []
   },
   "outputs": [],
   "source": [
    "import mnist"
   ]
  },
  {
   "cell_type": "code",
   "execution_count": 5,
   "id": "a411e44f",
   "metadata": {
    "execution": {
     "iopub.execute_input": "2022-05-31T00:38:03.904801Z",
     "iopub.status.busy": "2022-05-31T00:38:03.904241Z",
     "iopub.status.idle": "2022-05-31T00:38:04.500397Z",
     "shell.execute_reply": "2022-05-31T00:38:04.499892Z"
    },
    "papermill": {
     "duration": 0.62441,
     "end_time": "2022-05-31T00:38:04.500508",
     "exception": false,
     "start_time": "2022-05-31T00:38:03.876098",
     "status": "completed"
    },
    "tags": []
   },
   "outputs": [],
   "source": [
    "train_images = mnist.train_images()\n",
    "train_labels = mnist.train_labels()"
   ]
  },
  {
   "cell_type": "code",
   "execution_count": 6,
   "id": "dceab3a5",
   "metadata": {
    "execution": {
     "iopub.execute_input": "2022-05-31T00:38:04.555295Z",
     "iopub.status.busy": "2022-05-31T00:38:04.554699Z",
     "iopub.status.idle": "2022-05-31T00:38:04.569123Z",
     "shell.execute_reply": "2022-05-31T00:38:04.568579Z"
    },
    "papermill": {
     "duration": 0.042813,
     "end_time": "2022-05-31T00:38:04.569219",
     "exception": false,
     "start_time": "2022-05-31T00:38:04.526406",
     "status": "completed"
    },
    "tags": []
   },
   "outputs": [
    {
     "data": {
      "text/plain": [
       "((60000, 28, 28), (60000,))"
      ]
     },
     "execution_count": 6,
     "metadata": {},
     "output_type": "execute_result"
    }
   ],
   "source": [
    "train_images.shape, train_labels.shape"
   ]
  },
  {
   "cell_type": "code",
   "execution_count": 7,
   "id": "f50dc2bb",
   "metadata": {
    "execution": {
     "iopub.execute_input": "2022-05-31T00:38:04.623868Z",
     "iopub.status.busy": "2022-05-31T00:38:04.623312Z",
     "iopub.status.idle": "2022-05-31T00:38:04.799815Z",
     "shell.execute_reply": "2022-05-31T00:38:04.799306Z"
    },
    "papermill": {
     "duration": 0.204895,
     "end_time": "2022-05-31T00:38:04.799925",
     "exception": false,
     "start_time": "2022-05-31T00:38:04.595030",
     "status": "completed"
    },
    "tags": []
   },
   "outputs": [],
   "source": [
    "test_images = mnist.test_images()\n",
    "test_labels = mnist.test_labels()"
   ]
  },
  {
   "cell_type": "code",
   "execution_count": 8,
   "id": "fc38cf1b",
   "metadata": {
    "execution": {
     "iopub.execute_input": "2022-05-31T00:38:04.855294Z",
     "iopub.status.busy": "2022-05-31T00:38:04.854697Z",
     "iopub.status.idle": "2022-05-31T00:38:04.867154Z",
     "shell.execute_reply": "2022-05-31T00:38:04.867667Z"
    },
    "papermill": {
     "duration": 0.041872,
     "end_time": "2022-05-31T00:38:04.867781",
     "exception": false,
     "start_time": "2022-05-31T00:38:04.825909",
     "status": "completed"
    },
    "tags": []
   },
   "outputs": [
    {
     "data": {
      "text/plain": [
       "((10000, 28, 28), (10000,))"
      ]
     },
     "execution_count": 8,
     "metadata": {},
     "output_type": "execute_result"
    }
   ],
   "source": [
    "test_images.shape, test_labels.shape"
   ]
  },
  {
   "cell_type": "code",
   "execution_count": 9,
   "id": "f9ed8fe0",
   "metadata": {
    "execution": {
     "iopub.execute_input": "2022-05-31T00:38:04.923250Z",
     "iopub.status.busy": "2022-05-31T00:38:04.922672Z",
     "iopub.status.idle": "2022-05-31T00:38:05.053808Z",
     "shell.execute_reply": "2022-05-31T00:38:05.054249Z"
    },
    "papermill": {
     "duration": 0.160575,
     "end_time": "2022-05-31T00:38:05.054368",
     "exception": false,
     "start_time": "2022-05-31T00:38:04.893793",
     "status": "completed"
    },
    "tags": []
   },
   "outputs": [
    {
     "name": "stdout",
     "output_type": "stream",
     "text": [
      "2\n"
     ]
    },
    {
     "data": {
      "text/plain": [
       "<matplotlib.image.AxesImage at 0x7fc7efbb7e48>"
      ]
     },
     "execution_count": 9,
     "metadata": {},
     "output_type": "execute_result"
    },
    {
     "data": {
      "image/png": "[encoded data removed]",
      "text/plain": [
       "<Figure size 432x288 with 1 Axes>"
      ]
     },
     "metadata": {
      "needs_background": "light"
     },
     "output_type": "display_data"
    }
   ],
   "source": [
    "image_index = 7776 # You may select anything up to 60,000\n",
    "print(train_labels[image_index]) \n",
    "plt.imshow(train_images[image_index], cmap='Greys')"
   ]
  },
  {
   "cell_type": "markdown",
   "id": "a8d2388d",
   "metadata": {
    "papermill": {
     "duration": 0.027131,
     "end_time": "2022-05-31T00:38:05.109263",
     "exception": false,
     "start_time": "2022-05-31T00:38:05.082132",
     "status": "completed"
    },
    "tags": []
   },
   "source": [
    "## Filter data to get 3 and 8 out"
   ]
  },
  {
   "cell_type": "code",
   "execution_count": 10,
   "id": "776f7fc7",
   "metadata": {
    "execution": {
     "iopub.execute_input": "2022-05-31T00:38:05.167925Z",
     "iopub.status.busy": "2022-05-31T00:38:05.167341Z",
     "iopub.status.idle": "2022-05-31T00:38:05.183008Z",
     "shell.execute_reply": "2022-05-31T00:38:05.183445Z"
    },
    "papermill": {
     "duration": 0.047136,
     "end_time": "2022-05-31T00:38:05.183562",
     "exception": false,
     "start_time": "2022-05-31T00:38:05.136426",
     "status": "completed"
    },
    "tags": []
   },
   "outputs": [],
   "source": [
    "train_filter = np.where((train_labels == 3 ) | (train_labels == 8))\n",
    "test_filter = np.where((test_labels == 3) | (test_labels == 8))\n",
    "X_train, y_train = train_images[train_filter], train_labels[train_filter]\n",
    "X_test, y_test = test_images[test_filter], test_labels[test_filter]"
   ]
  },
  {
   "cell_type": "markdown",
   "id": "948f0b7e",
   "metadata": {
    "papermill": {
     "duration": 0.026989,
     "end_time": "2022-05-31T00:38:05.237833",
     "exception": false,
     "start_time": "2022-05-31T00:38:05.210844",
     "status": "completed"
    },
    "tags": []
   },
   "source": [
    "We normalize the pizel values in the 0 to 1 range"
   ]
  },
  {
   "cell_type": "code",
   "execution_count": 11,
   "id": "ee4c2166",
   "metadata": {
    "execution": {
     "iopub.execute_input": "2022-05-31T00:38:05.295431Z",
     "iopub.status.busy": "2022-05-31T00:38:05.294854Z",
     "iopub.status.idle": "2022-05-31T00:38:05.333843Z",
     "shell.execute_reply": "2022-05-31T00:38:05.333360Z"
    },
    "papermill": {
     "duration": 0.068977,
     "end_time": "2022-05-31T00:38:05.333954",
     "exception": false,
     "start_time": "2022-05-31T00:38:05.264977",
     "status": "completed"
    },
    "tags": []
   },
   "outputs": [],
   "source": [
    "X_train = X_train/255.\n",
    "X_test = X_test/255."
   ]
  },
  {
   "cell_type": "markdown",
   "id": "ddcf4fab",
   "metadata": {
    "papermill": {
     "duration": 0.027221,
     "end_time": "2022-05-31T00:38:05.388443",
     "exception": false,
     "start_time": "2022-05-31T00:38:05.361222",
     "status": "completed"
    },
    "tags": []
   },
   "source": [
    "And setup the labels as 1 (when the digit is 3) and 0 (when the digit is 8)"
   ]
  },
  {
   "cell_type": "code",
   "execution_count": 12,
   "id": "7dc908f2",
   "metadata": {
    "execution": {
     "iopub.execute_input": "2022-05-31T00:38:05.446068Z",
     "iopub.status.busy": "2022-05-31T00:38:05.445515Z",
     "iopub.status.idle": "2022-05-31T00:38:05.457368Z",
     "shell.execute_reply": "2022-05-31T00:38:05.456827Z"
    },
    "papermill": {
     "duration": 0.04193,
     "end_time": "2022-05-31T00:38:05.457465",
     "exception": false,
     "start_time": "2022-05-31T00:38:05.415535",
     "status": "completed"
    },
    "tags": []
   },
   "outputs": [],
   "source": [
    "y_train = 1*(y_train==3)\n",
    "y_test = 1*(y_test==3)"
   ]
  },
  {
   "cell_type": "code",
   "execution_count": 13,
   "id": "01e4e969",
   "metadata": {
    "execution": {
     "iopub.execute_input": "2022-05-31T00:38:05.514821Z",
     "iopub.status.busy": "2022-05-31T00:38:05.514277Z",
     "iopub.status.idle": "2022-05-31T00:38:05.526938Z",
     "shell.execute_reply": "2022-05-31T00:38:05.526366Z"
    },
    "papermill": {
     "duration": 0.042316,
     "end_time": "2022-05-31T00:38:05.527037",
     "exception": false,
     "start_time": "2022-05-31T00:38:05.484721",
     "status": "completed"
    },
    "tags": []
   },
   "outputs": [
    {
     "data": {
      "text/plain": [
       "((11982, 28, 28), (1984, 28, 28))"
      ]
     },
     "execution_count": 13,
     "metadata": {},
     "output_type": "execute_result"
    }
   ],
   "source": [
    "X_train.shape, X_test.shape"
   ]
  },
  {
   "cell_type": "markdown",
   "id": "5ccf3f85",
   "metadata": {
    "papermill": {
     "duration": 0.027555,
     "end_time": "2022-05-31T00:38:05.581736",
     "exception": false,
     "start_time": "2022-05-31T00:38:05.554181",
     "status": "completed"
    },
    "tags": []
   },
   "source": [
    "We reshape the data to flatten the image pixels into a set of features or co-variates:"
   ]
  },
  {
   "cell_type": "code",
   "execution_count": 14,
   "id": "5286a4a3",
   "metadata": {
    "execution": {
     "iopub.execute_input": "2022-05-31T00:38:05.639709Z",
     "iopub.status.busy": "2022-05-31T00:38:05.639148Z",
     "iopub.status.idle": "2022-05-31T00:38:05.651802Z",
     "shell.execute_reply": "2022-05-31T00:38:05.651357Z"
    },
    "papermill": {
     "duration": 0.042706,
     "end_time": "2022-05-31T00:38:05.651896",
     "exception": false,
     "start_time": "2022-05-31T00:38:05.609190",
     "status": "completed"
    },
    "tags": []
   },
   "outputs": [
    {
     "data": {
      "text/plain": [
       "((11982, 784), (1984, 784))"
      ]
     },
     "execution_count": 14,
     "metadata": {},
     "output_type": "execute_result"
    }
   ],
   "source": [
    "X_train = X_train.reshape(X_train.shape[0], -1)\n",
    "X_test = X_test.reshape(X_test.shape[0], -1)\n",
    "X_train.shape, X_test.shape"
   ]
  },
  {
   "cell_type": "code",
   "execution_count": 15,
   "id": "73c5f88a",
   "metadata": {
    "execution": {
     "iopub.execute_input": "2022-05-31T00:38:05.710541Z",
     "iopub.status.busy": "2022-05-31T00:38:05.709989Z",
     "iopub.status.idle": "2022-05-31T00:38:05.727262Z",
     "shell.execute_reply": "2022-05-31T00:38:05.726789Z"
    },
    "papermill": {
     "duration": 0.047967,
     "end_time": "2022-05-31T00:38:05.727357",
     "exception": false,
     "start_time": "2022-05-31T00:38:05.679390",
     "status": "completed"
    },
    "tags": []
   },
   "outputs": [],
   "source": [
    "#Impoting functions from 'Kudzu'\n",
    "from kudzu.model import Model\n",
    "from kudzu.train import Learner\n",
    "from kudzu.optim import GD\n",
    "from kudzu.data import Data, Sampler,Dataloader\n",
    "\n",
    "from kudzu.callbacks import AccCallback\n",
    "from kudzu.callbacks import ClfCallback\n",
    "\n",
    "from kudzu.loss import MSE\n",
    "\n",
    "from kudzu.layer import Sigmoid,Relu\n",
    "from kudzu.layer import Affine"
   ]
  },
  {
   "cell_type": "markdown",
   "id": "bc01172a",
   "metadata": {
    "papermill": {
     "duration": 0.027457,
     "end_time": "2022-05-31T00:38:05.782553",
     "exception": false,
     "start_time": "2022-05-31T00:38:05.755096",
     "status": "completed"
    },
    "tags": []
   },
   "source": [
    "### Let us create a `Config` class, to store important parameters. \n",
    "This class essentially plays the role of a dictionary."
   ]
  },
  {
   "cell_type": "code",
   "execution_count": 16,
   "id": "978281aa",
   "metadata": {
    "execution": {
     "iopub.execute_input": "2022-05-31T00:38:05.841443Z",
     "iopub.status.busy": "2022-05-31T00:38:05.840882Z",
     "iopub.status.idle": "2022-05-31T00:38:05.852286Z",
     "shell.execute_reply": "2022-05-31T00:38:05.851738Z"
    },
    "papermill": {
     "duration": 0.042234,
     "end_time": "2022-05-31T00:38:05.852380",
     "exception": false,
     "start_time": "2022-05-31T00:38:05.810146",
     "status": "completed"
    },
    "tags": []
   },
   "outputs": [],
   "source": [
    "class Config:\n",
    "    pass\n",
    "config = Config()\n",
    "config.lr = 0.001\n",
    "config.num_epochs = 250\n",
    "config.bs = 50"
   ]
  },
  {
   "cell_type": "markdown",
   "id": "1385fa59",
   "metadata": {
    "papermill": {
     "duration": 0.027447,
     "end_time": "2022-05-31T00:38:05.907522",
     "exception": false,
     "start_time": "2022-05-31T00:38:05.880075",
     "status": "completed"
    },
    "tags": []
   },
   "source": [
    "### Running Models with the Training data\n",
    "Details about the network layers:\n",
    "- A first affine layer has 784 inputs and does 100 affine transforms. These are followed by a Relu\n",
    "- A second affine layer has 100 inputs from the 100 activations of the past layer, and does 100 affine transforms. These are followed by a Relu\n",
    "- A third affine layer has 100 activations and does 2 affine transformations to create an embedding for visualization. There is no non-linearity here.\n",
    "- A final \"logistic regression\" which has an affine transform from 2 inputs to 1 output, which is squeezed through a sigmoid.\n"
   ]
  },
  {
   "cell_type": "code",
   "execution_count": 17,
   "id": "2b9c66db",
   "metadata": {
    "execution": {
     "iopub.execute_input": "2022-05-31T00:38:05.966257Z",
     "iopub.status.busy": "2022-05-31T00:38:05.965702Z",
     "iopub.status.idle": "2022-05-31T00:38:05.978067Z",
     "shell.execute_reply": "2022-05-31T00:38:05.977615Z"
    },
    "papermill": {
     "duration": 0.043056,
     "end_time": "2022-05-31T00:38:05.978162",
     "exception": false,
     "start_time": "2022-05-31T00:38:05.935106",
     "status": "completed"
    },
    "tags": []
   },
   "outputs": [],
   "source": [
    "data = Data(X_train, y_train.reshape(-1,1))\n",
    "sampler = Sampler(data, config.bs, shuffle=True)\n",
    "\n",
    "dl = Dataloader(data, sampler)\n",
    "\n",
    "opt = GD(config.lr)\n",
    "loss = MSE()"
   ]
  },
  {
   "cell_type": "code",
   "execution_count": 18,
   "id": "b275e4c2",
   "metadata": {
    "execution": {
     "iopub.execute_input": "2022-05-31T00:38:06.036562Z",
     "iopub.status.busy": "2022-05-31T00:38:06.036007Z",
     "iopub.status.idle": "2022-05-31T00:38:06.047537Z",
     "shell.execute_reply": "2022-05-31T00:38:06.047974Z"
    },
    "papermill": {
     "duration": 0.042286,
     "end_time": "2022-05-31T00:38:06.048084",
     "exception": false,
     "start_time": "2022-05-31T00:38:06.005798",
     "status": "completed"
    },
    "tags": []
   },
   "outputs": [],
   "source": [
    "training_data_x = X_train\n",
    "testing_data_x = X_test\n",
    "training_data_y = y_train.reshape(-1,1)\n",
    "testing_data_y = y_test.reshape(-1,1)"
   ]
  },
  {
   "cell_type": "code",
   "execution_count": 19,
   "id": "76951160",
   "metadata": {
    "execution": {
     "iopub.execute_input": "2022-05-31T00:38:06.106932Z",
     "iopub.status.busy": "2022-05-31T00:38:06.106353Z",
     "iopub.status.idle": "2022-05-31T00:38:06.121365Z",
     "shell.execute_reply": "2022-05-31T00:38:06.121794Z"
    },
    "papermill": {
     "duration": 0.046344,
     "end_time": "2022-05-31T00:38:06.121900",
     "exception": false,
     "start_time": "2022-05-31T00:38:06.075556",
     "status": "completed"
    },
    "tags": []
   },
   "outputs": [
    {
     "name": "stdout",
     "output_type": "stream",
     "text": [
      "xavier\n",
      "xavier\n",
      "xavier\n",
      "xavier\n",
      "xavier\n"
     ]
    }
   ],
   "source": [
    "layers = [Affine(\"first\", 784, 100), Relu(\"first\"), Affine(\"second\", 100, 100), Relu(\"second\"), Affine(\"third\", 100, 2), Affine(\"last\", 2, 1), Sigmoid(\"last\")]\n",
    "model_nn = Model(layers)\n",
    "model_lr = Model([Affine(\"logits\", 784, 1), Sigmoid(\"sigmoid\")])"
   ]
  },
  {
   "cell_type": "code",
   "execution_count": 20,
   "id": "6eede77a",
   "metadata": {
    "execution": {
     "iopub.execute_input": "2022-05-31T00:38:06.182679Z",
     "iopub.status.busy": "2022-05-31T00:38:06.182110Z",
     "iopub.status.idle": "2022-05-31T00:38:06.191522Z",
     "shell.execute_reply": "2022-05-31T00:38:06.191958Z"
    },
    "papermill": {
     "duration": 0.042147,
     "end_time": "2022-05-31T00:38:06.192069",
     "exception": false,
     "start_time": "2022-05-31T00:38:06.149922",
     "status": "completed"
    },
    "tags": []
   },
   "outputs": [],
   "source": [
    "nn_learner = Learner(loss, model_nn, opt, config.num_epochs)\n",
    "acc_nn = ClfCallback(nn_learner, config.bs, training_data_x , testing_data_x, training_data_y, testing_data_y)\n",
    "nn_learner.set_callbacks([acc_nn])"
   ]
  },
  {
   "cell_type": "code",
   "execution_count": 21,
   "id": "877b6cc7",
   "metadata": {
    "execution": {
     "iopub.execute_input": "2022-05-31T00:38:06.251254Z",
     "iopub.status.busy": "2022-05-31T00:38:06.250658Z",
     "iopub.status.idle": "2022-05-31T00:38:06.261718Z",
     "shell.execute_reply": "2022-05-31T00:38:06.262146Z"
    },
    "papermill": {
     "duration": 0.042186,
     "end_time": "2022-05-31T00:38:06.262254",
     "exception": false,
     "start_time": "2022-05-31T00:38:06.220068",
     "status": "completed"
    },
    "tags": []
   },
   "outputs": [],
   "source": [
    "lr_learner = Learner(loss, model_lr, opt, config.num_epochs)\n",
    "acc_lr = ClfCallback(lr_learner, config.bs, training_data_x , testing_data_x, training_data_y, testing_data_y)\n",
    "lr_learner.set_callbacks([acc_lr])"
   ]
  },
  {
   "cell_type": "code",
   "execution_count": 22,
   "id": "d9b133c3",
   "metadata": {
    "execution": {
     "iopub.execute_input": "2022-05-31T00:38:06.320752Z",
     "iopub.status.busy": "2022-05-31T00:38:06.320202Z",
     "iopub.status.idle": "2022-05-31T00:41:00.903126Z",
     "shell.execute_reply": "2022-05-31T00:41:00.903598Z"
    },
    "papermill": {
     "duration": 174.613597,
     "end_time": "2022-05-31T00:41:00.903726",
     "exception": false,
     "start_time": "2022-05-31T00:38:06.290129",
     "status": "completed"
    },
    "tags": []
   },
   "outputs": [
    {
     "name": "stdout",
     "output_type": "stream",
     "text": [
      "Epoch 0, Loss 0.2339\n",
      "Training Accuracy: 0.7677, Testing Accuracy: 0.7802\n",
      "\n"
     ]
    },
    {
     "name": "stdout",
     "output_type": "stream",
     "text": [
      "Epoch 10, Loss 0.0689\n",
      "Training Accuracy: 0.9314, Testing Accuracy: 0.9456\n",
      "\n"
     ]
    },
    {
     "name": "stdout",
     "output_type": "stream",
     "text": [
      "Epoch 20, Loss 0.046\n",
      "Training Accuracy: 0.9506, Testing Accuracy: 0.9637\n",
      "\n"
     ]
    },
    {
     "name": "stdout",
     "output_type": "stream",
     "text": [
      "Epoch 30, Loss 0.0376\n",
      "Training Accuracy: 0.9596, Testing Accuracy: 0.9677\n",
      "\n"
     ]
    },
    {
     "name": "stdout",
     "output_type": "stream",
     "text": [
      "Epoch 40, Loss 0.0333\n",
      "Training Accuracy: 0.9631, Testing Accuracy: 0.9703\n",
      "\n"
     ]
    },
    {
     "name": "stdout",
     "output_type": "stream",
     "text": [
      "Epoch 50, Loss 0.0305\n",
      "Training Accuracy: 0.9652, Testing Accuracy: 0.9733\n",
      "\n"
     ]
    },
    {
     "name": "stdout",
     "output_type": "stream",
     "text": [
      "Epoch 60, Loss 0.0286\n",
      "Training Accuracy: 0.9678, Testing Accuracy: 0.9748\n",
      "\n"
     ]
    },
    {
     "name": "stdout",
     "output_type": "stream",
     "text": [
      "Epoch 70, Loss 0.027\n",
      "Training Accuracy: 0.9690, Testing Accuracy: 0.9738\n",
      "\n"
     ]
    },
    {
     "name": "stdout",
     "output_type": "stream",
     "text": [
      "Epoch 80, Loss 0.0258\n",
      "Training Accuracy: 0.9704, Testing Accuracy: 0.9733\n",
      "\n"
     ]
    },
    {
     "name": "stdout",
     "output_type": "stream",
     "text": [
      "Epoch 90, Loss 0.0248\n",
      "Training Accuracy: 0.9723, Testing Accuracy: 0.9738\n",
      "\n"
     ]
    },
    {
     "name": "stdout",
     "output_type": "stream",
     "text": [
      "Epoch 100, Loss 0.0239\n",
      "Training Accuracy: 0.9732, Testing Accuracy: 0.9748\n",
      "\n"
     ]
    },
    {
     "name": "stdout",
     "output_type": "stream",
     "text": [
      "Epoch 110, Loss 0.0231\n",
      "Training Accuracy: 0.9738, Testing Accuracy: 0.9748\n",
      "\n"
     ]
    },
    {
     "name": "stdout",
     "output_type": "stream",
     "text": [
      "Epoch 120, Loss 0.0224\n",
      "Training Accuracy: 0.9750, Testing Accuracy: 0.9758\n",
      "\n"
     ]
    },
    {
     "name": "stdout",
     "output_type": "stream",
     "text": [
      "Epoch 130, Loss 0.0218\n",
      "Training Accuracy: 0.9756, Testing Accuracy: 0.9758\n",
      "\n"
     ]
    },
    {
     "name": "stdout",
     "output_type": "stream",
     "text": [
      "Epoch 140, Loss 0.0212\n",
      "Training Accuracy: 0.9762, Testing Accuracy: 0.9758\n",
      "\n"
     ]
    },
    {
     "name": "stdout",
     "output_type": "stream",
     "text": [
      "Epoch 150, Loss 0.0206\n",
      "Training Accuracy: 0.9767, Testing Accuracy: 0.9758\n",
      "\n"
     ]
    },
    {
     "name": "stdout",
     "output_type": "stream",
     "text": [
      "Epoch 160, Loss 0.0201\n",
      "Training Accuracy: 0.9772, Testing Accuracy: 0.9758\n",
      "\n"
     ]
    },
    {
     "name": "stdout",
     "output_type": "stream",
     "text": [
      "Epoch 170, Loss 0.0196\n",
      "Training Accuracy: 0.9781, Testing Accuracy: 0.9758\n",
      "\n"
     ]
    },
    {
     "name": "stdout",
     "output_type": "stream",
     "text": [
      "Epoch 180, Loss 0.0191\n",
      "Training Accuracy: 0.9784, Testing Accuracy: 0.9753\n",
      "\n"
     ]
    },
    {
     "name": "stdout",
     "output_type": "stream",
     "text": [
      "Epoch 190, Loss 0.0186\n",
      "Training Accuracy: 0.9796, Testing Accuracy: 0.9758\n",
      "\n"
     ]
    },
    {
     "name": "stdout",
     "output_type": "stream",
     "text": [
      "Epoch 200, Loss 0.0182\n",
      "Training Accuracy: 0.9800, Testing Accuracy: 0.9763\n",
      "\n"
     ]
    },
    {
     "name": "stdout",
     "output_type": "stream",
     "text": [
      "Epoch 210, Loss 0.0178\n",
      "Training Accuracy: 0.9805, Testing Accuracy: 0.9763\n",
      "\n"
     ]
    },
    {
     "name": "stdout",
     "output_type": "stream",
     "text": [
      "Epoch 220, Loss 0.0174\n",
      "Training Accuracy: 0.9811, Testing Accuracy: 0.9768\n",
      "\n"
     ]
    },
    {
     "name": "stdout",
     "output_type": "stream",
     "text": [
      "Epoch 230, Loss 0.017\n",
      "Training Accuracy: 0.9816, Testing Accuracy: 0.9768\n",
      "\n"
     ]
    },
    {
     "name": "stdout",
     "output_type": "stream",
     "text": [
      "Epoch 240, Loss 0.0166\n",
      "Training Accuracy: 0.9822, Testing Accuracy: 0.9768\n",
      "\n"
     ]
    },
    {
     "data": {
      "text/plain": [
       "0.0026296112566444405"
      ]
     },
     "execution_count": 22,
     "metadata": {},
     "output_type": "execute_result"
    }
   ],
   "source": [
    "nn_learner.train_loop(dl)"
   ]
  },
  {
   "cell_type": "code",
   "execution_count": 23,
   "id": "e0163366",
   "metadata": {
    "execution": {
     "iopub.execute_input": "2022-05-31T00:41:00.980328Z",
     "iopub.status.busy": "2022-05-31T00:41:00.979500Z",
     "iopub.status.idle": "2022-05-31T00:41:12.944026Z",
     "shell.execute_reply": "2022-05-31T00:41:12.944498Z"
    },
    "papermill": {
     "duration": 12.005448,
     "end_time": "2022-05-31T00:41:12.944626",
     "exception": false,
     "start_time": "2022-05-31T00:41:00.939178",
     "status": "completed"
    },
    "tags": []
   },
   "outputs": [
    {
     "name": "stdout",
     "output_type": "stream",
     "text": [
      "Epoch 0, Loss 0.2423\n",
      "Training Accuracy: 0.6896, Testing Accuracy: 0.7208\n",
      "\n"
     ]
    },
    {
     "name": "stdout",
     "output_type": "stream",
     "text": [
      "Epoch 10, Loss 0.1021\n",
      "Training Accuracy: 0.9110, Testing Accuracy: 0.9234\n",
      "\n"
     ]
    },
    {
     "name": "stdout",
     "output_type": "stream",
     "text": [
      "Epoch 20, Loss 0.0788\n",
      "Training Accuracy: 0.9266, Testing Accuracy: 0.9400\n",
      "\n"
     ]
    },
    {
     "name": "stdout",
     "output_type": "stream",
     "text": [
      "Epoch 30, Loss 0.068\n",
      "Training Accuracy: 0.9360, Testing Accuracy: 0.9476\n",
      "\n"
     ]
    },
    {
     "name": "stdout",
     "output_type": "stream",
     "text": [
      "Epoch 40, Loss 0.0615\n",
      "Training Accuracy: 0.9415, Testing Accuracy: 0.9526\n",
      "\n"
     ]
    },
    {
     "name": "stdout",
     "output_type": "stream",
     "text": [
      "Epoch 50, Loss 0.0571\n",
      "Training Accuracy: 0.9450, Testing Accuracy: 0.9551\n",
      "\n"
     ]
    },
    {
     "name": "stdout",
     "output_type": "stream",
     "text": [
      "Epoch 60, Loss 0.0538\n",
      "Training Accuracy: 0.9483, Testing Accuracy: 0.9556\n",
      "\n"
     ]
    },
    {
     "name": "stdout",
     "output_type": "stream",
     "text": [
      "Epoch 70, Loss 0.0512\n",
      "Training Accuracy: 0.9507, Testing Accuracy: 0.9567\n",
      "\n"
     ]
    },
    {
     "name": "stdout",
     "output_type": "stream",
     "text": [
      "Epoch 80, Loss 0.0492\n",
      "Training Accuracy: 0.9518, Testing Accuracy: 0.9582\n",
      "\n"
     ]
    },
    {
     "name": "stdout",
     "output_type": "stream",
     "text": [
      "Epoch 90, Loss 0.0475\n",
      "Training Accuracy: 0.9531, Testing Accuracy: 0.9597\n",
      "\n"
     ]
    },
    {
     "name": "stdout",
     "output_type": "stream",
     "text": [
      "Epoch 100, Loss 0.0461\n",
      "Training Accuracy: 0.9536, Testing Accuracy: 0.9602\n",
      "\n"
     ]
    },
    {
     "name": "stdout",
     "output_type": "stream",
     "text": [
      "Epoch 110, Loss 0.0448\n",
      "Training Accuracy: 0.9546, Testing Accuracy: 0.9612\n",
      "\n"
     ]
    },
    {
     "name": "stdout",
     "output_type": "stream",
     "text": [
      "Epoch 120, Loss 0.0438\n",
      "Training Accuracy: 0.9555, Testing Accuracy: 0.9632\n",
      "\n"
     ]
    },
    {
     "name": "stdout",
     "output_type": "stream",
     "text": [
      "Epoch 130, Loss 0.0428\n",
      "Training Accuracy: 0.9560, Testing Accuracy: 0.9637\n",
      "\n"
     ]
    },
    {
     "name": "stdout",
     "output_type": "stream",
     "text": [
      "Epoch 140, Loss 0.042\n",
      "Training Accuracy: 0.9566, Testing Accuracy: 0.9637\n",
      "\n"
     ]
    },
    {
     "name": "stdout",
     "output_type": "stream",
     "text": [
      "Epoch 150, Loss 0.0413\n",
      "Training Accuracy: 0.9572, Testing Accuracy: 0.9647\n",
      "\n"
     ]
    },
    {
     "name": "stdout",
     "output_type": "stream",
     "text": [
      "Epoch 160, Loss 0.0406\n",
      "Training Accuracy: 0.9576, Testing Accuracy: 0.9652\n",
      "\n"
     ]
    },
    {
     "name": "stdout",
     "output_type": "stream",
     "text": [
      "Epoch 170, Loss 0.04\n",
      "Training Accuracy: 0.9581, Testing Accuracy: 0.9652\n",
      "\n"
     ]
    },
    {
     "name": "stdout",
     "output_type": "stream",
     "text": [
      "Epoch 180, Loss 0.0394\n",
      "Training Accuracy: 0.9586, Testing Accuracy: 0.9652\n",
      "\n"
     ]
    },
    {
     "name": "stdout",
     "output_type": "stream",
     "text": [
      "Epoch 190, Loss 0.0389\n",
      "Training Accuracy: 0.9594, Testing Accuracy: 0.9657\n",
      "\n"
     ]
    },
    {
     "name": "stdout",
     "output_type": "stream",
     "text": [
      "Epoch 200, Loss 0.0384\n",
      "Training Accuracy: 0.9599, Testing Accuracy: 0.9662\n",
      "\n"
     ]
    },
    {
     "name": "stdout",
     "output_type": "stream",
     "text": [
      "Epoch 210, Loss 0.038\n",
      "Training Accuracy: 0.9602, Testing Accuracy: 0.9667\n",
      "\n"
     ]
    },
    {
     "name": "stdout",
     "output_type": "stream",
     "text": [
      "Epoch 220, Loss 0.0376\n",
      "Training Accuracy: 0.9607, Testing Accuracy: 0.9667\n",
      "\n"
     ]
    },
    {
     "name": "stdout",
     "output_type": "stream",
     "text": [
      "Epoch 230, Loss 0.0372\n",
      "Training Accuracy: 0.9609, Testing Accuracy: 0.9672\n",
      "\n"
     ]
    },
    {
     "name": "stdout",
     "output_type": "stream",
     "text": [
      "Epoch 240, Loss 0.0368\n",
      "Training Accuracy: 0.9609, Testing Accuracy: 0.9682\n",
      "\n"
     ]
    },
    {
     "data": {
      "text/plain": [
       "0.04505069036939149"
      ]
     },
     "execution_count": 23,
     "metadata": {},
     "output_type": "execute_result"
    }
   ],
   "source": [
    "lr_learner.train_loop(dl)"
   ]
  },
  {
   "cell_type": "code",
   "execution_count": 24,
   "id": "ca410940",
   "metadata": {
    "execution": {
     "iopub.execute_input": "2022-05-31T00:41:13.035354Z",
     "iopub.status.busy": "2022-05-31T00:41:13.034751Z",
     "iopub.status.idle": "2022-05-31T00:41:13.260443Z",
     "shell.execute_reply": "2022-05-31T00:41:13.260884Z"
    },
    "papermill": {
     "duration": 0.273947,
     "end_time": "2022-05-31T00:41:13.261009",
     "exception": false,
     "start_time": "2022-05-31T00:41:12.987062",
     "status": "completed"
    },
    "tags": []
   },
   "outputs": [
    {
     "data": {
      "text/plain": [
       "<matplotlib.legend.Legend at 0x7fc7ef728438>"
      ]
     },
     "execution_count": 24,
     "metadata": {},
     "output_type": "execute_result"
    },
    {
     "data": {
      "image/png": "[encoded data removed]",
      "text/plain": [
       "<Figure size 1080x720 with 1 Axes>"
      ]
     },
     "metadata": {
      "needs_background": "light"
     },
     "output_type": "display_data"
    }
   ],
   "source": [
    "#comparing the results of NN and LR\n",
    "plt.figure(figsize=(15,10))\n",
    "\n",
    "# Neural Network plots\n",
    "plt.plot(acc_nn.accuracies, 'r-', label = \"Training Accuracies - NN\")\n",
    "plt.plot(acc_nn.test_accuracies, 'g-', label = \"Testing Accuracies - NN\")\n",
    "\n",
    "# Logistic Regression plots\n",
    "plt.plot(acc_lr.accuracies, 'k-', label = \"Training Accuracies - LR\")\n",
    "plt.plot(acc_lr.test_accuracies, 'b-', label = \"Testing Accuracies - LR\")\n",
    "plt.legend()"
   ]
  },
  {
   "cell_type": "markdown",
   "id": "80dfb35c",
   "metadata": {
    "papermill": {
     "duration": 0.043494,
     "end_time": "2022-05-31T00:41:13.348934",
     "exception": false,
     "start_time": "2022-05-31T00:41:13.305440",
     "status": "completed"
    },
    "tags": []
   },
   "source": [
    "#### Plotting the outputs of this layer of the NN.\n"
   ]
  },
  {
   "cell_type": "code",
   "execution_count": 25,
   "id": "45eb2ff5",
   "metadata": {
    "execution": {
     "iopub.execute_input": "2022-05-31T00:41:13.441402Z",
     "iopub.status.busy": "2022-05-31T00:41:13.440009Z",
     "iopub.status.idle": "2022-05-31T00:41:13.475212Z",
     "shell.execute_reply": "2022-05-31T00:41:13.475999Z"
    },
    "papermill": {
     "duration": 0.083761,
     "end_time": "2022-05-31T00:41:13.476142",
     "exception": false,
     "start_time": "2022-05-31T00:41:13.392381",
     "status": "completed"
    },
    "tags": []
   },
   "outputs": [],
   "source": [
    "new_model = Model(layers[:-2])\n",
    "testing_plot = new_model(testing_data_x)"
   ]
  },
  {
   "cell_type": "code",
   "execution_count": 26,
   "id": "4c0a5485",
   "metadata": {
    "execution": {
     "iopub.execute_input": "2022-05-31T00:41:13.571977Z",
     "iopub.status.busy": "2022-05-31T00:41:13.570537Z",
     "iopub.status.idle": "2022-05-31T00:41:13.780984Z",
     "shell.execute_reply": "2022-05-31T00:41:13.781417Z"
    },
    "papermill": {
     "duration": 0.26124,
     "end_time": "2022-05-31T00:41:13.781542",
     "exception": false,
     "start_time": "2022-05-31T00:41:13.520302",
     "status": "completed"
    },
    "tags": []
   },
   "outputs": [
    {
     "data": {
      "text/plain": [
       "Text(0.5, 1.0, 'Outputs')"
      ]
     },
     "execution_count": 26,
     "metadata": {},
     "output_type": "execute_result"
    },
    {
     "data": {
      "image/png": "[encoded data removed]",
      "text/plain": [
       "<Figure size 576x504 with 1 Axes>"
      ]
     },
     "metadata": {
      "needs_background": "light"
     },
     "output_type": "display_data"
    }
   ],
   "source": [
    "# Plotting the scatter plot of points and color coding by class\n",
    "plt.figure(figsize=(8,7))\n",
    "plt.scatter(testing_plot[:,0], testing_plot[:,1], alpha = 0.1, c = y_test.ravel());\n",
    "plt.title('Outputs')"
   ]
  },
  {
   "cell_type": "markdown",
   "id": "a74fcf8f",
   "metadata": {
    "papermill": {
     "duration": 0.046907,
     "end_time": "2022-05-31T00:41:13.896298",
     "exception": false,
     "start_time": "2022-05-31T00:41:13.849391",
     "status": "completed"
    },
    "tags": []
   },
   "source": [
    "Probability contours"
   ]
  },
  {
   "cell_type": "code",
   "execution_count": 27,
   "id": "d0afc8e3",
   "metadata": {
    "execution": {
     "iopub.execute_input": "2022-05-31T00:41:13.995745Z",
     "iopub.status.busy": "2022-05-31T00:41:13.992748Z",
     "iopub.status.idle": "2022-05-31T00:41:14.004108Z",
     "shell.execute_reply": "2022-05-31T00:41:14.004628Z"
    },
    "papermill": {
     "duration": 0.061699,
     "end_time": "2022-05-31T00:41:14.004740",
     "exception": false,
     "start_time": "2022-05-31T00:41:13.943041",
     "status": "completed"
    },
    "tags": []
   },
   "outputs": [],
   "source": [
    "model_prob = Model(layers[-2:]) "
   ]
  },
  {
   "cell_type": "code",
   "execution_count": 28,
   "id": "9b96e238",
   "metadata": {
    "execution": {
     "iopub.execute_input": "2022-05-31T00:41:14.101793Z",
     "iopub.status.busy": "2022-05-31T00:41:14.101227Z",
     "iopub.status.idle": "2022-05-31T00:41:14.114031Z",
     "shell.execute_reply": "2022-05-31T00:41:14.114477Z"
    },
    "papermill": {
     "duration": 0.063462,
     "end_time": "2022-05-31T00:41:14.114598",
     "exception": false,
     "start_time": "2022-05-31T00:41:14.051136",
     "status": "completed"
    },
    "tags": []
   },
   "outputs": [],
   "source": [
    "#creating the x and y ranges according to the above generated plot.\n",
    "x_range = np.linspace(-4, 1, 100) \n",
    "y_range = np.linspace(-6, 6, 100) \n",
    "x_grid, y_grid = np.meshgrid(x_range, y_range) # x_grid and y_grig are of size 100 X 100\n",
    "\n",
    "# converting x_grid and y_grid to continuous arrays\n",
    "x_gridflat = np.ravel(x_grid)\n",
    "y_gridflat = np.ravel(y_grid)\n",
    "\n",
    "# The last layer of the current model takes two columns as input. Hence transpose of np.vstack() is required.\n",
    "X = np.vstack((x_gridflat, y_gridflat)).T\n",
    "\n",
    "prob_contour = model_prob(X).reshape(100,100) "
   ]
  },
  {
   "cell_type": "code",
   "execution_count": 29,
   "id": "da72499a",
   "metadata": {
    "execution": {
     "iopub.execute_input": "2022-05-31T00:41:14.212465Z",
     "iopub.status.busy": "2022-05-31T00:41:14.211930Z",
     "iopub.status.idle": "2022-05-31T00:41:14.455227Z",
     "shell.execute_reply": "2022-05-31T00:41:14.455653Z"
    },
    "papermill": {
     "duration": 0.293813,
     "end_time": "2022-05-31T00:41:14.455782",
     "exception": false,
     "start_time": "2022-05-31T00:41:14.161969",
     "status": "completed"
    },
    "tags": []
   },
   "outputs": [
    {
     "data": {
      "image/png": "[encoded data removed]",
      "text/plain": [
       "<Figure size 720x648 with 1 Axes>"
      ]
     },
     "metadata": {
      "needs_background": "light"
     },
     "output_type": "display_data"
    }
   ],
   "source": [
    "plt.figure(figsize=(10,9))\n",
    "plt.scatter(testing_plot[:,0], testing_plot[:,1], alpha = 0.1, c = y_test.ravel())\n",
    "contours = plt.contour(x_grid,y_grid,prob_contour)\n",
    "plt.title('Probability Contours')\n",
    "plt.clabel(contours, inline = True );"
   ]
  },
  {
   "cell_type": "code",
   "execution_count": null,
   "id": "e81b4ac7",
   "metadata": {
    "papermill": {
     "duration": 0.048863,
     "end_time": "2022-05-31T00:41:14.554552",
     "exception": false,
     "start_time": "2022-05-31T00:41:14.505689",
     "status": "completed"
    },
    "tags": []
   },
   "outputs": [],
   "source": []
  }
 ],
 "metadata": {
  "kernelspec": {
   "display_name": "Python 3",
   "language": "python",
   "name": "python3"
  },
  "language_info": {
   "codemirror_mode": {
    "name": "ipython",
    "version": 3
   },
   "file_extension": ".py",
   "mimetype": "text/x-python",
   "name": "python",
   "nbconvert_exporter": "python",
   "pygments_lexer": "ipython3",
   "version": "3.6.15"
  },
  "papermill": {
   "default_parameters": {},
   "duration": 194.624912,
   "end_time": "2022-05-31T00:41:14.921751",
   "environment_variables": {},
   "exception": null,
   "input_path": "2020-08-11-part2.ipynb",
   "output_path": "2020-08-11-part2.ipynb",
   "parameters": {},
   "start_time": "2022-05-31T00:38:00.296839",
   "version": "2.3.3"
  }
 },
 "nbformat": 4,
 "nbformat_minor": 5
}