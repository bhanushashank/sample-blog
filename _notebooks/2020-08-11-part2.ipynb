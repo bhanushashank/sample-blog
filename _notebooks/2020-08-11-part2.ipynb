{
 "cells": [
  {
   "cell_type": "markdown",
   "id": "98380cd3",
   "metadata": {
    "papermill": {
     "duration": 0.028428,
     "end_time": "2022-03-26T20:09:48.992563",
     "exception": false,
     "start_time": "2022-03-26T20:09:48.964135",
     "status": "completed"
    },
    "tags": []
   },
   "source": [
    "# Distinguish Your Own Digits (DYOD)"
   ]
  },
  {
   "cell_type": "markdown",
   "id": "ef31240d",
   "metadata": {
    "papermill": {
     "duration": 0.025613,
     "end_time": "2022-03-26T20:09:49.042971",
     "exception": false,
     "start_time": "2022-03-26T20:09:49.017358",
     "status": "completed"
    },
    "tags": []
   },
   "source": [
    "You are going to write a classifier that distinguishes between the number 3 and number 8."
   ]
  },
  {
   "cell_type": "code",
   "execution_count": 1,
   "id": "b15c8646",
   "metadata": {
    "execution": {
     "iopub.execute_input": "2022-03-26T20:09:49.102038Z",
     "iopub.status.busy": "2022-03-26T20:09:49.101416Z",
     "iopub.status.idle": "2022-03-26T20:09:49.111616Z",
     "shell.execute_reply": "2022-03-26T20:09:49.112018Z"
    },
    "papermill": {
     "duration": 0.04549,
     "end_time": "2022-03-26T20:09:49.112199",
     "exception": false,
     "start_time": "2022-03-26T20:09:49.066709",
     "status": "completed"
    },
    "tags": []
   },
   "outputs": [],
   "source": [
    "%load_ext autoreload\n",
    "%autoreload 2"
   ]
  },
  {
   "cell_type": "code",
   "execution_count": 2,
   "id": "22ef38dc",
   "metadata": {
    "execution": {
     "iopub.execute_input": "2022-03-26T20:09:49.164337Z",
     "iopub.status.busy": "2022-03-26T20:09:49.163791Z",
     "iopub.status.idle": "2022-03-26T20:09:49.738616Z",
     "shell.execute_reply": "2022-03-26T20:09:49.738068Z"
    },
    "papermill": {
     "duration": 0.602409,
     "end_time": "2022-03-26T20:09:49.738764",
     "exception": false,
     "start_time": "2022-03-26T20:09:49.136355",
     "status": "completed"
    },
    "tags": []
   },
   "outputs": [],
   "source": [
    "%matplotlib inline\n",
    "import numpy as np\n",
    "import matplotlib.pyplot as plt\n",
    "import pandas as pd"
   ]
  },
  {
   "cell_type": "markdown",
   "id": "ba036198",
   "metadata": {
    "papermill": {
     "duration": 0.032845,
     "end_time": "2022-03-26T20:09:49.797306",
     "exception": false,
     "start_time": "2022-03-26T20:09:49.764461",
     "status": "completed"
    },
    "tags": []
   },
   "source": [
    "From the command line run `pip install mnist`. This is a library that will help you bring down the mnist dataset. If you run this from a notebook, you need to put  `!pip install mnist` in a cell by itself."
   ]
  },
  {
   "cell_type": "code",
   "execution_count": 3,
   "id": "bb6ad8a1",
   "metadata": {
    "execution": {
     "iopub.execute_input": "2022-03-26T20:09:49.850575Z",
     "iopub.status.busy": "2022-03-26T20:09:49.850055Z",
     "iopub.status.idle": "2022-03-26T20:09:51.613564Z",
     "shell.execute_reply": "2022-03-26T20:09:51.613020Z"
    },
    "papermill": {
     "duration": 1.791935,
     "end_time": "2022-03-26T20:09:51.613714",
     "exception": false,
     "start_time": "2022-03-26T20:09:49.821779",
     "status": "completed"
    },
    "tags": []
   },
   "outputs": [
    {
     "name": "stdout",
     "output_type": "stream",
     "text": [
      "Collecting mnist\r\n"
     ]
    },
    {
     "name": "stdout",
     "output_type": "stream",
     "text": [
      "  Downloading mnist-0.2.2-py2.py3-none-any.whl (3.5 kB)\r\n",
      "Requirement already satisfied: numpy in /opt/hostedtoolcache/Python/3.6.15/x64/lib/python3.6/site-packages (from mnist) (1.19.5)\r\n"
     ]
    },
    {
     "name": "stdout",
     "output_type": "stream",
     "text": [
      "Installing collected packages: mnist\r\n"
     ]
    },
    {
     "name": "stdout",
     "output_type": "stream",
     "text": [
      "Successfully installed mnist-0.2.2\r\n"
     ]
    }
   ],
   "source": [
    "!pip install mnist"
   ]
  },
  {
   "cell_type": "markdown",
   "id": "69df9c9a",
   "metadata": {
    "papermill": {
     "duration": 0.025173,
     "end_time": "2022-03-26T20:09:51.664833",
     "exception": false,
     "start_time": "2022-03-26T20:09:51.639660",
     "status": "completed"
    },
    "tags": []
   },
   "source": [
    "## Preparing the Data"
   ]
  },
  {
   "cell_type": "code",
   "execution_count": 4,
   "id": "7f69d806",
   "metadata": {
    "execution": {
     "iopub.execute_input": "2022-03-26T20:09:51.733506Z",
     "iopub.status.busy": "2022-03-26T20:09:51.729599Z",
     "iopub.status.idle": "2022-03-26T20:09:51.736808Z",
     "shell.execute_reply": "2022-03-26T20:09:51.736392Z"
    },
    "papermill": {
     "duration": 0.047122,
     "end_time": "2022-03-26T20:09:51.736920",
     "exception": false,
     "start_time": "2022-03-26T20:09:51.689798",
     "status": "completed"
    },
    "tags": []
   },
   "outputs": [],
   "source": [
    "import mnist"
   ]
  },
  {
   "cell_type": "code",
   "execution_count": 5,
   "id": "a411e44f",
   "metadata": {
    "execution": {
     "iopub.execute_input": "2022-03-26T20:09:51.790366Z",
     "iopub.status.busy": "2022-03-26T20:09:51.789862Z",
     "iopub.status.idle": "2022-03-26T20:09:52.452226Z",
     "shell.execute_reply": "2022-03-26T20:09:52.451664Z"
    },
    "papermill": {
     "duration": 0.690116,
     "end_time": "2022-03-26T20:09:52.452364",
     "exception": false,
     "start_time": "2022-03-26T20:09:51.762248",
     "status": "completed"
    },
    "tags": []
   },
   "outputs": [],
   "source": [
    "train_images = mnist.train_images()\n",
    "train_labels = mnist.train_labels()"
   ]
  },
  {
   "cell_type": "code",
   "execution_count": 6,
   "id": "dceab3a5",
   "metadata": {
    "execution": {
     "iopub.execute_input": "2022-03-26T20:09:52.510052Z",
     "iopub.status.busy": "2022-03-26T20:09:52.509513Z",
     "iopub.status.idle": "2022-03-26T20:09:52.521753Z",
     "shell.execute_reply": "2022-03-26T20:09:52.521322Z"
    },
    "papermill": {
     "duration": 0.044195,
     "end_time": "2022-03-26T20:09:52.521862",
     "exception": false,
     "start_time": "2022-03-26T20:09:52.477667",
     "status": "completed"
    },
    "tags": []
   },
   "outputs": [
    {
     "data": {
      "text/plain": [
       "((60000, 28, 28), (60000,))"
      ]
     },
     "execution_count": 6,
     "metadata": {},
     "output_type": "execute_result"
    }
   ],
   "source": [
    "train_images.shape, train_labels.shape"
   ]
  },
  {
   "cell_type": "code",
   "execution_count": 7,
   "id": "f50dc2bb",
   "metadata": {
    "execution": {
     "iopub.execute_input": "2022-03-26T20:09:52.576267Z",
     "iopub.status.busy": "2022-03-26T20:09:52.575722Z",
     "iopub.status.idle": "2022-03-26T20:09:52.768001Z",
     "shell.execute_reply": "2022-03-26T20:09:52.768578Z"
    },
    "papermill": {
     "duration": 0.221688,
     "end_time": "2022-03-26T20:09:52.768750",
     "exception": false,
     "start_time": "2022-03-26T20:09:52.547062",
     "status": "completed"
    },
    "tags": []
   },
   "outputs": [],
   "source": [
    "test_images = mnist.test_images()\n",
    "test_labels = mnist.test_labels()"
   ]
  },
  {
   "cell_type": "code",
   "execution_count": 8,
   "id": "fc38cf1b",
   "metadata": {
    "execution": {
     "iopub.execute_input": "2022-03-26T20:09:52.823990Z",
     "iopub.status.busy": "2022-03-26T20:09:52.823480Z",
     "iopub.status.idle": "2022-03-26T20:09:52.836446Z",
     "shell.execute_reply": "2022-03-26T20:09:52.836001Z"
    },
    "papermill": {
     "duration": 0.041597,
     "end_time": "2022-03-26T20:09:52.836565",
     "exception": false,
     "start_time": "2022-03-26T20:09:52.794968",
     "status": "completed"
    },
    "tags": []
   },
   "outputs": [
    {
     "data": {
      "text/plain": [
       "((10000, 28, 28), (10000,))"
      ]
     },
     "execution_count": 8,
     "metadata": {},
     "output_type": "execute_result"
    }
   ],
   "source": [
    "test_images.shape, test_labels.shape"
   ]
  },
  {
   "cell_type": "code",
   "execution_count": 9,
   "id": "f9ed8fe0",
   "metadata": {
    "execution": {
     "iopub.execute_input": "2022-03-26T20:09:52.890993Z",
     "iopub.status.busy": "2022-03-26T20:09:52.890487Z",
     "iopub.status.idle": "2022-03-26T20:09:53.024188Z",
     "shell.execute_reply": "2022-03-26T20:09:53.024674Z"
    },
    "papermill": {
     "duration": 0.162784,
     "end_time": "2022-03-26T20:09:53.024825",
     "exception": false,
     "start_time": "2022-03-26T20:09:52.862041",
     "status": "completed"
    },
    "tags": []
   },
   "outputs": [
    {
     "name": "stdout",
     "output_type": "stream",
     "text": [
      "2\n"
     ]
    },
    {
     "data": {
      "text/plain": [
       "<matplotlib.image.AxesImage at 0x7fed5b4bd5c0>"
      ]
     },
     "execution_count": 9,
     "metadata": {},
     "output_type": "execute_result"
    },
    {
     "data": {
      "image/png": "[encoded data removed]",
      "text/plain": [
       "<Figure size 432x288 with 1 Axes>"
      ]
     },
     "metadata": {
      "needs_background": "light"
     },
     "output_type": "display_data"
    }
   ],
   "source": [
    "image_index = 7776 # You may select anything up to 60,000\n",
    "print(train_labels[image_index]) \n",
    "plt.imshow(train_images[image_index], cmap='Greys')"
   ]
  },
  {
   "cell_type": "markdown",
   "id": "a8d2388d",
   "metadata": {
    "papermill": {
     "duration": 0.028789,
     "end_time": "2022-03-26T20:09:53.080504",
     "exception": false,
     "start_time": "2022-03-26T20:09:53.051715",
     "status": "completed"
    },
    "tags": []
   },
   "source": [
    "## Filter data to get 3 and 8 out"
   ]
  },
  {
   "cell_type": "code",
   "execution_count": 10,
   "id": "776f7fc7",
   "metadata": {
    "execution": {
     "iopub.execute_input": "2022-03-26T20:09:53.139650Z",
     "iopub.status.busy": "2022-03-26T20:09:53.139096Z",
     "iopub.status.idle": "2022-03-26T20:09:53.157166Z",
     "shell.execute_reply": "2022-03-26T20:09:53.156721Z"
    },
    "papermill": {
     "duration": 0.050012,
     "end_time": "2022-03-26T20:09:53.157279",
     "exception": false,
     "start_time": "2022-03-26T20:09:53.107267",
     "status": "completed"
    },
    "tags": []
   },
   "outputs": [],
   "source": [
    "train_filter = np.where((train_labels == 3 ) | (train_labels == 8))\n",
    "test_filter = np.where((test_labels == 3) | (test_labels == 8))\n",
    "X_train, y_train = train_images[train_filter], train_labels[train_filter]\n",
    "X_test, y_test = test_images[test_filter], test_labels[test_filter]"
   ]
  },
  {
   "cell_type": "markdown",
   "id": "948f0b7e",
   "metadata": {
    "papermill": {
     "duration": 0.026628,
     "end_time": "2022-03-26T20:09:53.211166",
     "exception": false,
     "start_time": "2022-03-26T20:09:53.184538",
     "status": "completed"
    },
    "tags": []
   },
   "source": [
    "We normalize the pizel values in the 0 to 1 range"
   ]
  },
  {
   "cell_type": "code",
   "execution_count": 11,
   "id": "ee4c2166",
   "metadata": {
    "execution": {
     "iopub.execute_input": "2022-03-26T20:09:53.267061Z",
     "iopub.status.busy": "2022-03-26T20:09:53.266544Z",
     "iopub.status.idle": "2022-03-26T20:09:53.314210Z",
     "shell.execute_reply": "2022-03-26T20:09:53.313657Z"
    },
    "papermill": {
     "duration": 0.076874,
     "end_time": "2022-03-26T20:09:53.314351",
     "exception": false,
     "start_time": "2022-03-26T20:09:53.237477",
     "status": "completed"
    },
    "tags": []
   },
   "outputs": [],
   "source": [
    "X_train = X_train/255.\n",
    "X_test = X_test/255."
   ]
  },
  {
   "cell_type": "markdown",
   "id": "ddcf4fab",
   "metadata": {
    "papermill": {
     "duration": 0.026876,
     "end_time": "2022-03-26T20:09:53.369612",
     "exception": false,
     "start_time": "2022-03-26T20:09:53.342736",
     "status": "completed"
    },
    "tags": []
   },
   "source": [
    "And setup the labels as 1 (when the digit is 3) and 0 (when the digit is 8)"
   ]
  },
  {
   "cell_type": "code",
   "execution_count": 12,
   "id": "7dc908f2",
   "metadata": {
    "execution": {
     "iopub.execute_input": "2022-03-26T20:09:53.433063Z",
     "iopub.status.busy": "2022-03-26T20:09:53.432528Z",
     "iopub.status.idle": "2022-03-26T20:09:53.441002Z",
     "shell.execute_reply": "2022-03-26T20:09:53.440588Z"
    },
    "papermill": {
     "duration": 0.044946,
     "end_time": "2022-03-26T20:09:53.441115",
     "exception": false,
     "start_time": "2022-03-26T20:09:53.396169",
     "status": "completed"
    },
    "tags": []
   },
   "outputs": [],
   "source": [
    "y_train = 1*(y_train==3)\n",
    "y_test = 1*(y_test==3)"
   ]
  },
  {
   "cell_type": "code",
   "execution_count": 13,
   "id": "01e4e969",
   "metadata": {
    "execution": {
     "iopub.execute_input": "2022-03-26T20:09:53.497313Z",
     "iopub.status.busy": "2022-03-26T20:09:53.496808Z",
     "iopub.status.idle": "2022-03-26T20:09:53.510411Z",
     "shell.execute_reply": "2022-03-26T20:09:53.510000Z"
    },
    "papermill": {
     "duration": 0.04294,
     "end_time": "2022-03-26T20:09:53.510519",
     "exception": false,
     "start_time": "2022-03-26T20:09:53.467579",
     "status": "completed"
    },
    "tags": []
   },
   "outputs": [
    {
     "data": {
      "text/plain": [
       "((11982, 28, 28), (1984, 28, 28))"
      ]
     },
     "execution_count": 13,
     "metadata": {},
     "output_type": "execute_result"
    }
   ],
   "source": [
    "X_train.shape, X_test.shape"
   ]
  },
  {
   "cell_type": "markdown",
   "id": "5ccf3f85",
   "metadata": {
    "papermill": {
     "duration": 0.026654,
     "end_time": "2022-03-26T20:09:53.563859",
     "exception": false,
     "start_time": "2022-03-26T20:09:53.537205",
     "status": "completed"
    },
    "tags": []
   },
   "source": [
    "We reshape the data to flatten the image pixels into a set of features or co-variates:"
   ]
  },
  {
   "cell_type": "code",
   "execution_count": 14,
   "id": "5286a4a3",
   "metadata": {
    "execution": {
     "iopub.execute_input": "2022-03-26T20:09:53.620704Z",
     "iopub.status.busy": "2022-03-26T20:09:53.620184Z",
     "iopub.status.idle": "2022-03-26T20:09:53.633336Z",
     "shell.execute_reply": "2022-03-26T20:09:53.632930Z"
    },
    "papermill": {
     "duration": 0.042766,
     "end_time": "2022-03-26T20:09:53.633441",
     "exception": false,
     "start_time": "2022-03-26T20:09:53.590675",
     "status": "completed"
    },
    "tags": []
   },
   "outputs": [
    {
     "data": {
      "text/plain": [
       "((11982, 784), (1984, 784))"
      ]
     },
     "execution_count": 14,
     "metadata": {},
     "output_type": "execute_result"
    }
   ],
   "source": [
    "X_train = X_train.reshape(X_train.shape[0], -1)\n",
    "X_test = X_test.reshape(X_test.shape[0], -1)\n",
    "X_train.shape, X_test.shape"
   ]
  },
  {
   "cell_type": "code",
   "execution_count": 15,
   "id": "73c5f88a",
   "metadata": {
    "execution": {
     "iopub.execute_input": "2022-03-26T20:09:53.691123Z",
     "iopub.status.busy": "2022-03-26T20:09:53.690610Z",
     "iopub.status.idle": "2022-03-26T20:09:53.708196Z",
     "shell.execute_reply": "2022-03-26T20:09:53.708648Z"
    },
    "papermill": {
     "duration": 0.048358,
     "end_time": "2022-03-26T20:09:53.708779",
     "exception": false,
     "start_time": "2022-03-26T20:09:53.660421",
     "status": "completed"
    },
    "tags": []
   },
   "outputs": [],
   "source": [
    "#Impoting functions from 'Kudzu'\n",
    "from kudzu.model import Model\n",
    "from kudzu.train import Learner\n",
    "from kudzu.optim import GD\n",
    "from kudzu.data import Data, Sampler,Dataloader\n",
    "\n",
    "from kudzu.callbacks import AccCallback\n",
    "from kudzu.callbacks import ClfCallback\n",
    "\n",
    "from kudzu.loss import MSE\n",
    "\n",
    "from kudzu.layer import Sigmoid,Relu\n",
    "from kudzu.layer import Affine"
   ]
  },
  {
   "cell_type": "markdown",
   "id": "bc01172a",
   "metadata": {
    "papermill": {
     "duration": 0.026854,
     "end_time": "2022-03-26T20:09:53.763615",
     "exception": false,
     "start_time": "2022-03-26T20:09:53.736761",
     "status": "completed"
    },
    "tags": []
   },
   "source": [
    "### Let us create a `Config` class, to store important parameters. \n",
    "This class essentially plays the role of a dictionary."
   ]
  },
  {
   "cell_type": "code",
   "execution_count": 16,
   "id": "978281aa",
   "metadata": {
    "execution": {
     "iopub.execute_input": "2022-03-26T20:09:53.821306Z",
     "iopub.status.busy": "2022-03-26T20:09:53.820786Z",
     "iopub.status.idle": "2022-03-26T20:09:53.833146Z",
     "shell.execute_reply": "2022-03-26T20:09:53.833592Z"
    },
    "papermill": {
     "duration": 0.043265,
     "end_time": "2022-03-26T20:09:53.833714",
     "exception": false,
     "start_time": "2022-03-26T20:09:53.790449",
     "status": "completed"
    },
    "tags": []
   },
   "outputs": [],
   "source": [
    "class Config:\n",
    "    pass\n",
    "config = Config()\n",
    "config.lr = 0.001\n",
    "config.num_epochs = 250\n",
    "config.bs = 50"
   ]
  },
  {
   "cell_type": "markdown",
   "id": "1385fa59",
   "metadata": {
    "papermill": {
     "duration": 0.02692,
     "end_time": "2022-03-26T20:09:53.887773",
     "exception": false,
     "start_time": "2022-03-26T20:09:53.860853",
     "status": "completed"
    },
    "tags": []
   },
   "source": [
    "### Running Models with the Training data\n",
    "Details about the network layers:\n",
    "- A first affine layer has 784 inputs and does 100 affine transforms. These are followed by a Relu\n",
    "- A second affine layer has 100 inputs from the 100 activations of the past layer, and does 100 affine transforms. These are followed by a Relu\n",
    "- A third affine layer has 100 activations and does 2 affine transformations to create an embedding for visualization. There is no non-linearity here.\n",
    "- A final \"logistic regression\" which has an affine transform from 2 inputs to 1 output, which is squeezed through a sigmoid.\n"
   ]
  },
  {
   "cell_type": "code",
   "execution_count": 17,
   "id": "2b9c66db",
   "metadata": {
    "execution": {
     "iopub.execute_input": "2022-03-26T20:09:53.946122Z",
     "iopub.status.busy": "2022-03-26T20:09:53.945597Z",
     "iopub.status.idle": "2022-03-26T20:09:53.958231Z",
     "shell.execute_reply": "2022-03-26T20:09:53.957822Z"
    },
    "papermill": {
     "duration": 0.043322,
     "end_time": "2022-03-26T20:09:53.958343",
     "exception": false,
     "start_time": "2022-03-26T20:09:53.915021",
     "status": "completed"
    },
    "tags": []
   },
   "outputs": [],
   "source": [
    "data = Data(X_train, y_train.reshape(-1,1))\n",
    "sampler = Sampler(data, config.bs, shuffle=True)\n",
    "\n",
    "dl = Dataloader(data, sampler)\n",
    "\n",
    "opt = GD(config.lr)\n",
    "loss = MSE()"
   ]
  },
  {
   "cell_type": "code",
   "execution_count": 18,
   "id": "b275e4c2",
   "metadata": {
    "execution": {
     "iopub.execute_input": "2022-03-26T20:09:54.029970Z",
     "iopub.status.busy": "2022-03-26T20:09:54.028505Z",
     "iopub.status.idle": "2022-03-26T20:09:54.031768Z",
     "shell.execute_reply": "2022-03-26T20:09:54.032181Z"
    },
    "papermill": {
     "duration": 0.046891,
     "end_time": "2022-03-26T20:09:54.032310",
     "exception": false,
     "start_time": "2022-03-26T20:09:53.985419",
     "status": "completed"
    },
    "tags": []
   },
   "outputs": [],
   "source": [
    "training_data_x = X_train\n",
    "testing_data_x = X_test\n",
    "training_data_y = y_train.reshape(-1,1)\n",
    "testing_data_y = y_test.reshape(-1,1)"
   ]
  },
  {
   "cell_type": "code",
   "execution_count": 19,
   "id": "76951160",
   "metadata": {
    "execution": {
     "iopub.execute_input": "2022-03-26T20:09:54.102870Z",
     "iopub.status.busy": "2022-03-26T20:09:54.089793Z",
     "iopub.status.idle": "2022-03-26T20:09:54.109163Z",
     "shell.execute_reply": "2022-03-26T20:09:54.108736Z"
    },
    "papermill": {
     "duration": 0.049978,
     "end_time": "2022-03-26T20:09:54.109268",
     "exception": false,
     "start_time": "2022-03-26T20:09:54.059290",
     "status": "completed"
    },
    "tags": []
   },
   "outputs": [
    {
     "name": "stdout",
     "output_type": "stream",
     "text": [
      "xavier\n",
      "xavier\n",
      "xavier\n",
      "xavier\n",
      "xavier\n"
     ]
    }
   ],
   "source": [
    "layers = [Affine(\"first\", 784, 100), Relu(\"first\"), Affine(\"second\", 100, 100), Relu(\"second\"), Affine(\"third\", 100, 2), Affine(\"last\", 2, 1), Sigmoid(\"last\")]\n",
    "model_nn = Model(layers)\n",
    "model_lr = Model([Affine(\"logits\", 784, 1), Sigmoid(\"sigmoid\")])"
   ]
  },
  {
   "cell_type": "code",
   "execution_count": 20,
   "id": "6eede77a",
   "metadata": {
    "execution": {
     "iopub.execute_input": "2022-03-26T20:09:54.167283Z",
     "iopub.status.busy": "2022-03-26T20:09:54.166780Z",
     "iopub.status.idle": "2022-03-26T20:09:54.178492Z",
     "shell.execute_reply": "2022-03-26T20:09:54.178924Z"
    },
    "papermill": {
     "duration": 0.042428,
     "end_time": "2022-03-26T20:09:54.179041",
     "exception": false,
     "start_time": "2022-03-26T20:09:54.136613",
     "status": "completed"
    },
    "tags": []
   },
   "outputs": [],
   "source": [
    "nn_learner = Learner(loss, model_nn, opt, config.num_epochs)\n",
    "acc_nn = ClfCallback(nn_learner, config.bs, training_data_x , testing_data_x, training_data_y, testing_data_y)\n",
    "nn_learner.set_callbacks([acc_nn])"
   ]
  },
  {
   "cell_type": "code",
   "execution_count": 21,
   "id": "877b6cc7",
   "metadata": {
    "execution": {
     "iopub.execute_input": "2022-03-26T20:09:54.249706Z",
     "iopub.status.busy": "2022-03-26T20:09:54.244741Z",
     "iopub.status.idle": "2022-03-26T20:09:54.251905Z",
     "shell.execute_reply": "2022-03-26T20:09:54.251474Z"
    },
    "papermill": {
     "duration": 0.0455,
     "end_time": "2022-03-26T20:09:54.252007",
     "exception": false,
     "start_time": "2022-03-26T20:09:54.206507",
     "status": "completed"
    },
    "tags": []
   },
   "outputs": [],
   "source": [
    "lr_learner = Learner(loss, model_lr, opt, config.num_epochs)\n",
    "acc_lr = ClfCallback(lr_learner, config.bs, training_data_x , testing_data_x, training_data_y, testing_data_y)\n",
    "lr_learner.set_callbacks([acc_lr])"
   ]
  },
  {
   "cell_type": "code",
   "execution_count": 22,
   "id": "d9b133c3",
   "metadata": {
    "execution": {
     "iopub.execute_input": "2022-03-26T20:09:54.321090Z",
     "iopub.status.busy": "2022-03-26T20:09:54.316028Z",
     "iopub.status.idle": "2022-03-26T20:11:09.717432Z",
     "shell.execute_reply": "2022-03-26T20:11:09.718187Z"
    },
    "papermill": {
     "duration": 75.438931,
     "end_time": "2022-03-26T20:11:09.718341",
     "exception": false,
     "start_time": "2022-03-26T20:09:54.279410",
     "status": "completed"
    },
    "tags": []
   },
   "outputs": [
    {
     "name": "stdout",
     "output_type": "stream",
     "text": [
      "Epoch 0, Loss 0.2467\n",
      "Training Accuracy: 0.6274, Testing Accuracy: 0.6371\n",
      "\n"
     ]
    },
    {
     "name": "stdout",
     "output_type": "stream",
     "text": [
      "Epoch 10, Loss 0.1094\n",
      "Training Accuracy: 0.9085, Testing Accuracy: 0.9239\n",
      "\n"
     ]
    },
    {
     "name": "stdout",
     "output_type": "stream",
     "text": [
      "Epoch 20, Loss 0.0625\n",
      "Training Accuracy: 0.9336, Testing Accuracy: 0.9441\n",
      "\n"
     ]
    },
    {
     "name": "stdout",
     "output_type": "stream",
     "text": [
      "Epoch 30, Loss 0.0484\n",
      "Training Accuracy: 0.9458, Testing Accuracy: 0.9551\n",
      "\n"
     ]
    },
    {
     "name": "stdout",
     "output_type": "stream",
     "text": [
      "Epoch 40, Loss 0.0415\n",
      "Training Accuracy: 0.9523, Testing Accuracy: 0.9587\n",
      "\n"
     ]
    },
    {
     "name": "stdout",
     "output_type": "stream",
     "text": [
      "Epoch 50, Loss 0.0374\n",
      "Training Accuracy: 0.9571, Testing Accuracy: 0.9632\n",
      "\n"
     ]
    },
    {
     "name": "stdout",
     "output_type": "stream",
     "text": [
      "Epoch 60, Loss 0.0346\n",
      "Training Accuracy: 0.9592, Testing Accuracy: 0.9657\n",
      "\n"
     ]
    },
    {
     "name": "stdout",
     "output_type": "stream",
     "text": [
      "Epoch 70, Loss 0.0325\n",
      "Training Accuracy: 0.9618, Testing Accuracy: 0.9677\n",
      "\n"
     ]
    },
    {
     "name": "stdout",
     "output_type": "stream",
     "text": [
      "Epoch 80, Loss 0.0308\n",
      "Training Accuracy: 0.9630, Testing Accuracy: 0.9677\n",
      "\n"
     ]
    },
    {
     "name": "stdout",
     "output_type": "stream",
     "text": [
      "Epoch 90, Loss 0.0295\n",
      "Training Accuracy: 0.9644, Testing Accuracy: 0.9688\n",
      "\n"
     ]
    },
    {
     "name": "stdout",
     "output_type": "stream",
     "text": [
      "Epoch 100, Loss 0.0283\n",
      "Training Accuracy: 0.9660, Testing Accuracy: 0.9698\n",
      "\n"
     ]
    },
    {
     "name": "stdout",
     "output_type": "stream",
     "text": [
      "Epoch 110, Loss 0.0273\n",
      "Training Accuracy: 0.9666, Testing Accuracy: 0.9698\n",
      "\n"
     ]
    },
    {
     "name": "stdout",
     "output_type": "stream",
     "text": [
      "Epoch 120, Loss 0.0265\n",
      "Training Accuracy: 0.9688, Testing Accuracy: 0.9708\n",
      "\n"
     ]
    },
    {
     "name": "stdout",
     "output_type": "stream",
     "text": [
      "Epoch 130, Loss 0.0257\n",
      "Training Accuracy: 0.9694, Testing Accuracy: 0.9708\n",
      "\n"
     ]
    },
    {
     "name": "stdout",
     "output_type": "stream",
     "text": [
      "Epoch 140, Loss 0.025\n",
      "Training Accuracy: 0.9706, Testing Accuracy: 0.9698\n",
      "\n"
     ]
    },
    {
     "name": "stdout",
     "output_type": "stream",
     "text": [
      "Epoch 150, Loss 0.0243\n",
      "Training Accuracy: 0.9715, Testing Accuracy: 0.9703\n",
      "\n"
     ]
    },
    {
     "name": "stdout",
     "output_type": "stream",
     "text": [
      "Epoch 160, Loss 0.0237\n",
      "Training Accuracy: 0.9724, Testing Accuracy: 0.9698\n",
      "\n"
     ]
    },
    {
     "name": "stdout",
     "output_type": "stream",
     "text": [
      "Epoch 170, Loss 0.0232\n",
      "Training Accuracy: 0.9730, Testing Accuracy: 0.9703\n",
      "\n"
     ]
    },
    {
     "name": "stdout",
     "output_type": "stream",
     "text": [
      "Epoch 180, Loss 0.0227\n",
      "Training Accuracy: 0.9738, Testing Accuracy: 0.9703\n",
      "\n"
     ]
    },
    {
     "name": "stdout",
     "output_type": "stream",
     "text": [
      "Epoch 190, Loss 0.0222\n",
      "Training Accuracy: 0.9742, Testing Accuracy: 0.9708\n",
      "\n"
     ]
    },
    {
     "name": "stdout",
     "output_type": "stream",
     "text": [
      "Epoch 200, Loss 0.0218\n",
      "Training Accuracy: 0.9754, Testing Accuracy: 0.9708\n",
      "\n"
     ]
    },
    {
     "name": "stdout",
     "output_type": "stream",
     "text": [
      "Epoch 210, Loss 0.0213\n",
      "Training Accuracy: 0.9757, Testing Accuracy: 0.9708\n",
      "\n"
     ]
    },
    {
     "name": "stdout",
     "output_type": "stream",
     "text": [
      "Epoch 220, Loss 0.0209\n",
      "Training Accuracy: 0.9761, Testing Accuracy: 0.9703\n",
      "\n"
     ]
    },
    {
     "name": "stdout",
     "output_type": "stream",
     "text": [
      "Epoch 230, Loss 0.0206\n",
      "Training Accuracy: 0.9768, Testing Accuracy: 0.9708\n",
      "\n"
     ]
    },
    {
     "name": "stdout",
     "output_type": "stream",
     "text": [
      "Epoch 240, Loss 0.0202\n",
      "Training Accuracy: 0.9775, Testing Accuracy: 0.9708\n",
      "\n"
     ]
    },
    {
     "data": {
      "text/plain": [
       "0.003213634178858026"
      ]
     },
     "execution_count": 22,
     "metadata": {},
     "output_type": "execute_result"
    }
   ],
   "source": [
    "nn_learner.train_loop(dl)"
   ]
  },
  {
   "cell_type": "code",
   "execution_count": 23,
   "id": "e0163366",
   "metadata": {
    "execution": {
     "iopub.execute_input": "2022-03-26T20:11:09.800280Z",
     "iopub.status.busy": "2022-03-26T20:11:09.799733Z",
     "iopub.status.idle": "2022-03-26T20:11:23.654176Z",
     "shell.execute_reply": "2022-03-26T20:11:23.654933Z"
    },
    "papermill": {
     "duration": 13.901767,
     "end_time": "2022-03-26T20:11:23.655098",
     "exception": false,
     "start_time": "2022-03-26T20:11:09.753331",
     "status": "completed"
    },
    "tags": []
   },
   "outputs": [
    {
     "name": "stdout",
     "output_type": "stream",
     "text": [
      "Epoch 0, Loss 0.2497\n",
      "Training Accuracy: 0.6430, Testing Accuracy: 0.6341\n",
      "\n"
     ]
    },
    {
     "name": "stdout",
     "output_type": "stream",
     "text": [
      "Epoch 10, Loss 0.1053\n",
      "Training Accuracy: 0.9045, Testing Accuracy: 0.9183\n",
      "\n"
     ]
    },
    {
     "name": "stdout",
     "output_type": "stream",
     "text": [
      "Epoch 20, Loss 0.0802\n",
      "Training Accuracy: 0.9262, Testing Accuracy: 0.9360\n",
      "\n"
     ]
    },
    {
     "name": "stdout",
     "output_type": "stream",
     "text": [
      "Epoch 30, Loss 0.0688\n",
      "Training Accuracy: 0.9347, Testing Accuracy: 0.9461\n",
      "\n"
     ]
    },
    {
     "name": "stdout",
     "output_type": "stream",
     "text": [
      "Epoch 40, Loss 0.0621\n",
      "Training Accuracy: 0.9410, Testing Accuracy: 0.9521\n",
      "\n"
     ]
    },
    {
     "name": "stdout",
     "output_type": "stream",
     "text": [
      "Epoch 50, Loss 0.0575\n",
      "Training Accuracy: 0.9436, Testing Accuracy: 0.9551\n",
      "\n"
     ]
    },
    {
     "name": "stdout",
     "output_type": "stream",
     "text": [
      "Epoch 60, Loss 0.0542\n",
      "Training Accuracy: 0.9468, Testing Accuracy: 0.9561\n",
      "\n"
     ]
    },
    {
     "name": "stdout",
     "output_type": "stream",
     "text": [
      "Epoch 70, Loss 0.0516\n",
      "Training Accuracy: 0.9479, Testing Accuracy: 0.9577\n",
      "\n"
     ]
    },
    {
     "name": "stdout",
     "output_type": "stream",
     "text": [
      "Epoch 80, Loss 0.0495\n",
      "Training Accuracy: 0.9496, Testing Accuracy: 0.9597\n",
      "\n"
     ]
    },
    {
     "name": "stdout",
     "output_type": "stream",
     "text": [
      "Epoch 90, Loss 0.0478\n",
      "Training Accuracy: 0.9513, Testing Accuracy: 0.9612\n",
      "\n"
     ]
    },
    {
     "name": "stdout",
     "output_type": "stream",
     "text": [
      "Epoch 100, Loss 0.0464\n",
      "Training Accuracy: 0.9528, Testing Accuracy: 0.9622\n",
      "\n"
     ]
    },
    {
     "name": "stdout",
     "output_type": "stream",
     "text": [
      "Epoch 110, Loss 0.0452\n",
      "Training Accuracy: 0.9536, Testing Accuracy: 0.9617\n",
      "\n"
     ]
    },
    {
     "name": "stdout",
     "output_type": "stream",
     "text": [
      "Epoch 120, Loss 0.0441\n",
      "Training Accuracy: 0.9545, Testing Accuracy: 0.9632\n",
      "\n"
     ]
    },
    {
     "name": "stdout",
     "output_type": "stream",
     "text": [
      "Epoch 130, Loss 0.0431\n",
      "Training Accuracy: 0.9552, Testing Accuracy: 0.9632\n",
      "\n"
     ]
    },
    {
     "name": "stdout",
     "output_type": "stream",
     "text": [
      "Epoch 140, Loss 0.0423\n",
      "Training Accuracy: 0.9557, Testing Accuracy: 0.9637\n",
      "\n"
     ]
    },
    {
     "name": "stdout",
     "output_type": "stream",
     "text": [
      "Epoch 150, Loss 0.0415\n",
      "Training Accuracy: 0.9559, Testing Accuracy: 0.9647\n",
      "\n"
     ]
    },
    {
     "name": "stdout",
     "output_type": "stream",
     "text": [
      "Epoch 160, Loss 0.0409\n",
      "Training Accuracy: 0.9569, Testing Accuracy: 0.9652\n",
      "\n"
     ]
    },
    {
     "name": "stdout",
     "output_type": "stream",
     "text": [
      "Epoch 170, Loss 0.0402\n",
      "Training Accuracy: 0.9576, Testing Accuracy: 0.9662\n",
      "\n"
     ]
    },
    {
     "name": "stdout",
     "output_type": "stream",
     "text": [
      "Epoch 180, Loss 0.0397\n",
      "Training Accuracy: 0.9579, Testing Accuracy: 0.9662\n",
      "\n"
     ]
    },
    {
     "name": "stdout",
     "output_type": "stream",
     "text": [
      "Epoch 190, Loss 0.0391\n",
      "Training Accuracy: 0.9583, Testing Accuracy: 0.9667\n",
      "\n"
     ]
    },
    {
     "name": "stdout",
     "output_type": "stream",
     "text": [
      "Epoch 200, Loss 0.0387\n",
      "Training Accuracy: 0.9587, Testing Accuracy: 0.9672\n",
      "\n"
     ]
    },
    {
     "name": "stdout",
     "output_type": "stream",
     "text": [
      "Epoch 210, Loss 0.0382\n",
      "Training Accuracy: 0.9591, Testing Accuracy: 0.9672\n",
      "\n"
     ]
    },
    {
     "name": "stdout",
     "output_type": "stream",
     "text": [
      "Epoch 220, Loss 0.0378\n",
      "Training Accuracy: 0.9594, Testing Accuracy: 0.9672\n",
      "\n"
     ]
    },
    {
     "name": "stdout",
     "output_type": "stream",
     "text": [
      "Epoch 230, Loss 0.0374\n",
      "Training Accuracy: 0.9595, Testing Accuracy: 0.9672\n",
      "\n"
     ]
    },
    {
     "name": "stdout",
     "output_type": "stream",
     "text": [
      "Epoch 240, Loss 0.037\n",
      "Training Accuracy: 0.9602, Testing Accuracy: 0.9672\n",
      "\n"
     ]
    },
    {
     "data": {
      "text/plain": [
       "0.07173771031014782"
      ]
     },
     "execution_count": 23,
     "metadata": {},
     "output_type": "execute_result"
    }
   ],
   "source": [
    "lr_learner.train_loop(dl)"
   ]
  },
  {
   "cell_type": "code",
   "execution_count": 24,
   "id": "ca410940",
   "metadata": {
    "execution": {
     "iopub.execute_input": "2022-03-26T20:11:23.745739Z",
     "iopub.status.busy": "2022-03-26T20:11:23.745205Z",
     "iopub.status.idle": "2022-03-26T20:11:23.973544Z",
     "shell.execute_reply": "2022-03-26T20:11:23.973082Z"
    },
    "papermill": {
     "duration": 0.276919,
     "end_time": "2022-03-26T20:11:23.973672",
     "exception": false,
     "start_time": "2022-03-26T20:11:23.696753",
     "status": "completed"
    },
    "tags": []
   },
   "outputs": [
    {
     "data": {
      "text/plain": [
       "<matplotlib.legend.Legend at 0x7fed5b098da0>"
      ]
     },
     "execution_count": 24,
     "metadata": {},
     "output_type": "execute_result"
    },
    {
     "data": {
      "image/png": "[encoded data removed]",
      "text/plain": [
       "<Figure size 1080x720 with 1 Axes>"
      ]
     },
     "metadata": {
      "needs_background": "light"
     },
     "output_type": "display_data"
    }
   ],
   "source": [
    "#comparing the results of NN and LR\n",
    "plt.figure(figsize=(15,10))\n",
    "\n",
    "# Neural Network plots\n",
    "plt.plot(acc_nn.accuracies, 'r-', label = \"Training Accuracies - NN\")\n",
    "plt.plot(acc_nn.test_accuracies, 'g-', label = \"Testing Accuracies - NN\")\n",
    "\n",
    "# Logistic Regression plots\n",
    "plt.plot(acc_lr.accuracies, 'k-', label = \"Training Accuracies - LR\")\n",
    "plt.plot(acc_lr.test_accuracies, 'b-', label = \"Testing Accuracies - LR\")\n",
    "plt.legend()"
   ]
  },
  {
   "cell_type": "markdown",
   "id": "80dfb35c",
   "metadata": {
    "papermill": {
     "duration": 0.045036,
     "end_time": "2022-03-26T20:11:24.067197",
     "exception": false,
     "start_time": "2022-03-26T20:11:24.022161",
     "status": "completed"
    },
    "tags": []
   },
   "source": [
    "#### Plotting the outputs of this layer of the NN.\n"
   ]
  },
  {
   "cell_type": "code",
   "execution_count": 25,
   "id": "45eb2ff5",
   "metadata": {
    "execution": {
     "iopub.execute_input": "2022-03-26T20:11:24.157405Z",
     "iopub.status.busy": "2022-03-26T20:11:24.156860Z",
     "iopub.status.idle": "2022-03-26T20:11:24.177215Z",
     "shell.execute_reply": "2022-03-26T20:11:24.177637Z"
    },
    "papermill": {
     "duration": 0.067254,
     "end_time": "2022-03-26T20:11:24.177777",
     "exception": false,
     "start_time": "2022-03-26T20:11:24.110523",
     "status": "completed"
    },
    "tags": []
   },
   "outputs": [],
   "source": [
    "new_model = Model(layers[:-2])\n",
    "testing_plot = new_model(testing_data_x)"
   ]
  },
  {
   "cell_type": "code",
   "execution_count": 26,
   "id": "4c0a5485",
   "metadata": {
    "execution": {
     "iopub.execute_input": "2022-03-26T20:11:24.272966Z",
     "iopub.status.busy": "2022-03-26T20:11:24.271066Z",
     "iopub.status.idle": "2022-03-26T20:11:24.470226Z",
     "shell.execute_reply": "2022-03-26T20:11:24.470623Z"
    },
    "papermill": {
     "duration": 0.24823,
     "end_time": "2022-03-26T20:11:24.470772",
     "exception": false,
     "start_time": "2022-03-26T20:11:24.222542",
     "status": "completed"
    },
    "tags": []
   },
   "outputs": [
    {
     "data": {
      "text/plain": [
       "Text(0.5, 1.0, 'Outputs')"
      ]
     },
     "execution_count": 26,
     "metadata": {},
     "output_type": "execute_result"
    },
    {
     "data": {
      "image/png": "[encoded data removed]",
      "text/plain": [
       "<Figure size 576x504 with 1 Axes>"
      ]
     },
     "metadata": {
      "needs_background": "light"
     },
     "output_type": "display_data"
    }
   ],
   "source": [
    "# Plotting the scatter plot of points and color coding by class\n",
    "plt.figure(figsize=(8,7))\n",
    "plt.scatter(testing_plot[:,0], testing_plot[:,1], alpha = 0.1, c = y_test.ravel());\n",
    "plt.title('Outputs')"
   ]
  },
  {
   "cell_type": "markdown",
   "id": "a74fcf8f",
   "metadata": {
    "papermill": {
     "duration": 0.04445,
     "end_time": "2022-03-26T20:11:24.559913",
     "exception": false,
     "start_time": "2022-03-26T20:11:24.515463",
     "status": "completed"
    },
    "tags": []
   },
   "source": [
    "Probability contours"
   ]
  },
  {
   "cell_type": "code",
   "execution_count": 27,
   "id": "d0afc8e3",
   "metadata": {
    "execution": {
     "iopub.execute_input": "2022-03-26T20:11:24.655344Z",
     "iopub.status.busy": "2022-03-26T20:11:24.652185Z",
     "iopub.status.idle": "2022-03-26T20:11:24.663933Z",
     "shell.execute_reply": "2022-03-26T20:11:24.663487Z"
    },
    "papermill": {
     "duration": 0.059628,
     "end_time": "2022-03-26T20:11:24.664046",
     "exception": false,
     "start_time": "2022-03-26T20:11:24.604418",
     "status": "completed"
    },
    "tags": []
   },
   "outputs": [],
   "source": [
    "model_prob = Model(layers[-2:]) "
   ]
  },
  {
   "cell_type": "code",
   "execution_count": 28,
   "id": "9b96e238",
   "metadata": {
    "execution": {
     "iopub.execute_input": "2022-03-26T20:11:24.805035Z",
     "iopub.status.busy": "2022-03-26T20:11:24.798469Z",
     "iopub.status.idle": "2022-03-26T20:11:24.806559Z",
     "shell.execute_reply": "2022-03-26T20:11:24.813062Z"
    },
    "papermill": {
     "duration": 0.071442,
     "end_time": "2022-03-26T20:11:24.813203",
     "exception": false,
     "start_time": "2022-03-26T20:11:24.741761",
     "status": "completed"
    },
    "tags": []
   },
   "outputs": [],
   "source": [
    "#creating the x and y ranges according to the above generated plot.\n",
    "x_range = np.linspace(-4, 1, 100) \n",
    "y_range = np.linspace(-6, 6, 100) \n",
    "x_grid, y_grid = np.meshgrid(x_range, y_range) # x_grid and y_grig are of size 100 X 100\n",
    "\n",
    "# converting x_grid and y_grid to continuous arrays\n",
    "x_gridflat = np.ravel(x_grid)\n",
    "y_gridflat = np.ravel(y_grid)\n",
    "\n",
    "# The last layer of the current model takes two columns as input. Hence transpose of np.vstack() is required.\n",
    "X = np.vstack((x_gridflat, y_gridflat)).T\n",
    "\n",
    "prob_contour = model_prob(X).reshape(100,100) "
   ]
  },
  {
   "cell_type": "code",
   "execution_count": 29,
   "id": "da72499a",
   "metadata": {
    "execution": {
     "iopub.execute_input": "2022-03-26T20:11:24.913423Z",
     "iopub.status.busy": "2022-03-26T20:11:24.912904Z",
     "iopub.status.idle": "2022-03-26T20:11:25.161686Z",
     "shell.execute_reply": "2022-03-26T20:11:25.161228Z"
    },
    "papermill": {
     "duration": 0.303393,
     "end_time": "2022-03-26T20:11:25.161808",
     "exception": false,
     "start_time": "2022-03-26T20:11:24.858415",
     "status": "completed"
    },
    "tags": []
   },
   "outputs": [
    {
     "data": {
      "image/png": "[encoded data removed]",
      "text/plain": [
       "<Figure size 720x648 with 1 Axes>"
      ]
     },
     "metadata": {
      "needs_background": "light"
     },
     "output_type": "display_data"
    }
   ],
   "source": [
    "plt.figure(figsize=(10,9))\n",
    "plt.scatter(testing_plot[:,0], testing_plot[:,1], alpha = 0.1, c = y_test.ravel())\n",
    "contours = plt.contour(x_grid,y_grid,prob_contour)\n",
    "plt.title('Probability Contours')\n",
    "plt.clabel(contours, inline = True );"
   ]
  },
  {
   "cell_type": "code",
   "execution_count": null,
   "id": "e81b4ac7",
   "metadata": {
    "papermill": {
     "duration": 0.047093,
     "end_time": "2022-03-26T20:11:25.257142",
     "exception": false,
     "start_time": "2022-03-26T20:11:25.210049",
     "status": "completed"
    },
    "tags": []
   },
   "outputs": [],
   "source": []
  }
 ],
 "metadata": {
  "kernelspec": {
   "display_name": "Python 3",
   "language": "python",
   "name": "python3"
  },
  "language_info": {
   "codemirror_mode": {
    "name": "ipython",
    "version": 3
   },
   "file_extension": ".py",
   "mimetype": "text/x-python",
   "name": "python",
   "nbconvert_exporter": "python",
   "pygments_lexer": "ipython3",
   "version": "3.6.15"
  },
  "papermill": {
   "default_parameters": {},
   "duration": 97.681058,
   "end_time": "2022-03-26T20:11:25.729319",
   "environment_variables": {},
   "exception": null,
   "input_path": "2020-08-11-part2.ipynb",
   "output_path": "2020-08-11-part2.ipynb",
   "parameters": {},
   "start_time": "2022-03-26T20:09:48.048261",
   "version": "2.3.3"
  }
 },
 "nbformat": 4,
 "nbformat_minor": 5
}