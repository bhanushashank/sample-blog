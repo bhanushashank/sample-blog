{
 "cells": [
  {
   "cell_type": "markdown",
   "id": "98380cd3",
   "metadata": {
    "papermill": {
     "duration": 0.031913,
     "end_time": "2022-02-02T20:09:39.211087",
     "exception": false,
     "start_time": "2022-02-02T20:09:39.179174",
     "status": "completed"
    },
    "tags": []
   },
   "source": [
    "# Distinguish Your Own Digits (DYOD)"
   ]
  },
  {
   "cell_type": "markdown",
   "id": "ef31240d",
   "metadata": {
    "papermill": {
     "duration": 0.027756,
     "end_time": "2022-02-02T20:09:39.267186",
     "exception": false,
     "start_time": "2022-02-02T20:09:39.239430",
     "status": "completed"
    },
    "tags": []
   },
   "source": [
    "You are going to write a classifier that distinguishes between the number 3 and number 8."
   ]
  },
  {
   "cell_type": "code",
   "execution_count": 1,
   "id": "b15c8646",
   "metadata": {
    "execution": {
     "iopub.execute_input": "2022-02-02T20:09:39.336522Z",
     "iopub.status.busy": "2022-02-02T20:09:39.335865Z",
     "iopub.status.idle": "2022-02-02T20:09:39.348959Z",
     "shell.execute_reply": "2022-02-02T20:09:39.348420Z"
    },
    "papermill": {
     "duration": 0.054168,
     "end_time": "2022-02-02T20:09:39.349117",
     "exception": false,
     "start_time": "2022-02-02T20:09:39.294949",
     "status": "completed"
    },
    "tags": []
   },
   "outputs": [],
   "source": [
    "%load_ext autoreload\n",
    "%autoreload 2"
   ]
  },
  {
   "cell_type": "code",
   "execution_count": 2,
   "id": "22ef38dc",
   "metadata": {
    "execution": {
     "iopub.execute_input": "2022-02-02T20:09:39.409351Z",
     "iopub.status.busy": "2022-02-02T20:09:39.408685Z",
     "iopub.status.idle": "2022-02-02T20:09:40.107423Z",
     "shell.execute_reply": "2022-02-02T20:09:40.106891Z"
    },
    "papermill": {
     "duration": 0.730667,
     "end_time": "2022-02-02T20:09:40.107567",
     "exception": false,
     "start_time": "2022-02-02T20:09:39.376900",
     "status": "completed"
    },
    "tags": []
   },
   "outputs": [],
   "source": [
    "%matplotlib inline\n",
    "import numpy as np\n",
    "import matplotlib.pyplot as plt\n",
    "import pandas as pd"
   ]
  },
  {
   "cell_type": "markdown",
   "id": "ba036198",
   "metadata": {
    "papermill": {
     "duration": 0.027894,
     "end_time": "2022-02-02T20:09:40.163856",
     "exception": false,
     "start_time": "2022-02-02T20:09:40.135962",
     "status": "completed"
    },
    "tags": []
   },
   "source": [
    "From the command line run `pip install mnist`. This is a library that will help you bring down the mnist dataset. If you run this from a notebook, you need to put  `!pip install mnist` in a cell by itself."
   ]
  },
  {
   "cell_type": "code",
   "execution_count": 3,
   "id": "bb6ad8a1",
   "metadata": {
    "execution": {
     "iopub.execute_input": "2022-02-02T20:09:40.227995Z",
     "iopub.status.busy": "2022-02-02T20:09:40.225339Z",
     "iopub.status.idle": "2022-02-02T20:09:42.160556Z",
     "shell.execute_reply": "2022-02-02T20:09:42.159591Z"
    },
    "papermill": {
     "duration": 1.969724,
     "end_time": "2022-02-02T20:09:42.160799",
     "exception": false,
     "start_time": "2022-02-02T20:09:40.191075",
     "status": "completed"
    },
    "tags": []
   },
   "outputs": [
    {
     "name": "stdout",
     "output_type": "stream",
     "text": [
      "Collecting mnist\r\n",
      "  Downloading mnist-0.2.2-py2.py3-none-any.whl (3.5 kB)\r\n"
     ]
    },
    {
     "name": "stdout",
     "output_type": "stream",
     "text": [
      "Requirement already satisfied: numpy in /opt/hostedtoolcache/Python/3.6.15/x64/lib/python3.6/site-packages (from mnist) (1.19.5)\r\n"
     ]
    },
    {
     "name": "stdout",
     "output_type": "stream",
     "text": [
      "Installing collected packages: mnist\r\n"
     ]
    },
    {
     "name": "stdout",
     "output_type": "stream",
     "text": [
      "Successfully installed mnist-0.2.2\r\n"
     ]
    }
   ],
   "source": [
    "!pip install mnist"
   ]
  },
  {
   "cell_type": "markdown",
   "id": "69df9c9a",
   "metadata": {
    "papermill": {
     "duration": 0.029477,
     "end_time": "2022-02-02T20:09:42.221617",
     "exception": false,
     "start_time": "2022-02-02T20:09:42.192140",
     "status": "completed"
    },
    "tags": []
   },
   "source": [
    "## Preparing the Data"
   ]
  },
  {
   "cell_type": "code",
   "execution_count": 4,
   "id": "7f69d806",
   "metadata": {
    "execution": {
     "iopub.execute_input": "2022-02-02T20:09:42.293237Z",
     "iopub.status.busy": "2022-02-02T20:09:42.287645Z",
     "iopub.status.idle": "2022-02-02T20:09:42.305338Z",
     "shell.execute_reply": "2022-02-02T20:09:42.304798Z"
    },
    "papermill": {
     "duration": 0.050921,
     "end_time": "2022-02-02T20:09:42.305485",
     "exception": false,
     "start_time": "2022-02-02T20:09:42.254564",
     "status": "completed"
    },
    "tags": []
   },
   "outputs": [],
   "source": [
    "import mnist"
   ]
  },
  {
   "cell_type": "code",
   "execution_count": 5,
   "id": "a411e44f",
   "metadata": {
    "execution": {
     "iopub.execute_input": "2022-02-02T20:09:42.367051Z",
     "iopub.status.busy": "2022-02-02T20:09:42.366412Z",
     "iopub.status.idle": "2022-02-02T20:09:42.971495Z",
     "shell.execute_reply": "2022-02-02T20:09:42.972382Z"
    },
    "papermill": {
     "duration": 0.638404,
     "end_time": "2022-02-02T20:09:42.972552",
     "exception": false,
     "start_time": "2022-02-02T20:09:42.334148",
     "status": "completed"
    },
    "tags": []
   },
   "outputs": [],
   "source": [
    "train_images = mnist.train_images()\n",
    "train_labels = mnist.train_labels()"
   ]
  },
  {
   "cell_type": "code",
   "execution_count": 6,
   "id": "dceab3a5",
   "metadata": {
    "execution": {
     "iopub.execute_input": "2022-02-02T20:09:43.034101Z",
     "iopub.status.busy": "2022-02-02T20:09:43.033372Z",
     "iopub.status.idle": "2022-02-02T20:09:43.051771Z",
     "shell.execute_reply": "2022-02-02T20:09:43.052258Z"
    },
    "papermill": {
     "duration": 0.051262,
     "end_time": "2022-02-02T20:09:43.052415",
     "exception": false,
     "start_time": "2022-02-02T20:09:43.001153",
     "status": "completed"
    },
    "tags": []
   },
   "outputs": [
    {
     "data": {
      "text/plain": [
       "((60000, 28, 28), (60000,))"
      ]
     },
     "execution_count": 6,
     "metadata": {},
     "output_type": "execute_result"
    }
   ],
   "source": [
    "train_images.shape, train_labels.shape"
   ]
  },
  {
   "cell_type": "code",
   "execution_count": 7,
   "id": "f50dc2bb",
   "metadata": {
    "execution": {
     "iopub.execute_input": "2022-02-02T20:09:43.114094Z",
     "iopub.status.busy": "2022-02-02T20:09:43.113469Z",
     "iopub.status.idle": "2022-02-02T20:09:43.257558Z",
     "shell.execute_reply": "2022-02-02T20:09:43.256949Z"
    },
    "papermill": {
     "duration": 0.176633,
     "end_time": "2022-02-02T20:09:43.257720",
     "exception": false,
     "start_time": "2022-02-02T20:09:43.081087",
     "status": "completed"
    },
    "tags": []
   },
   "outputs": [],
   "source": [
    "test_images = mnist.test_images()\n",
    "test_labels = mnist.test_labels()"
   ]
  },
  {
   "cell_type": "code",
   "execution_count": 8,
   "id": "fc38cf1b",
   "metadata": {
    "execution": {
     "iopub.execute_input": "2022-02-02T20:09:43.320372Z",
     "iopub.status.busy": "2022-02-02T20:09:43.319764Z",
     "iopub.status.idle": "2022-02-02T20:09:43.336019Z",
     "shell.execute_reply": "2022-02-02T20:09:43.337301Z"
    },
    "papermill": {
     "duration": 0.050418,
     "end_time": "2022-02-02T20:09:43.337734",
     "exception": false,
     "start_time": "2022-02-02T20:09:43.287316",
     "status": "completed"
    },
    "tags": []
   },
   "outputs": [
    {
     "data": {
      "text/plain": [
       "((10000, 28, 28), (10000,))"
      ]
     },
     "execution_count": 8,
     "metadata": {},
     "output_type": "execute_result"
    }
   ],
   "source": [
    "test_images.shape, test_labels.shape"
   ]
  },
  {
   "cell_type": "code",
   "execution_count": 9,
   "id": "f9ed8fe0",
   "metadata": {
    "execution": {
     "iopub.execute_input": "2022-02-02T20:09:43.406590Z",
     "iopub.status.busy": "2022-02-02T20:09:43.405934Z",
     "iopub.status.idle": "2022-02-02T20:09:43.591523Z",
     "shell.execute_reply": "2022-02-02T20:09:43.592037Z"
    },
    "papermill": {
     "duration": 0.220572,
     "end_time": "2022-02-02T20:09:43.592204",
     "exception": false,
     "start_time": "2022-02-02T20:09:43.371632",
     "status": "completed"
    },
    "tags": []
   },
   "outputs": [
    {
     "name": "stdout",
     "output_type": "stream",
     "text": [
      "2\n"
     ]
    },
    {
     "data": {
      "text/plain": [
       "<matplotlib.image.AxesImage at 0x7f6340095b70>"
      ]
     },
     "execution_count": 9,
     "metadata": {},
     "output_type": "execute_result"
    },
    {
     "data": {
      "image/png": "[encoded data removed]",
      "text/plain": [
       "<Figure size 432x288 with 1 Axes>"
      ]
     },
     "metadata": {
      "needs_background": "light"
     },
     "output_type": "display_data"
    }
   ],
   "source": [
    "image_index = 7776 # You may select anything up to 60,000\n",
    "print(train_labels[image_index]) \n",
    "plt.imshow(train_images[image_index], cmap='Greys')"
   ]
  },
  {
   "cell_type": "markdown",
   "id": "a8d2388d",
   "metadata": {
    "papermill": {
     "duration": 0.032437,
     "end_time": "2022-02-02T20:09:43.655665",
     "exception": false,
     "start_time": "2022-02-02T20:09:43.623228",
     "status": "completed"
    },
    "tags": []
   },
   "source": [
    "## Filter data to get 3 and 8 out"
   ]
  },
  {
   "cell_type": "code",
   "execution_count": 10,
   "id": "776f7fc7",
   "metadata": {
    "execution": {
     "iopub.execute_input": "2022-02-02T20:09:43.735758Z",
     "iopub.status.busy": "2022-02-02T20:09:43.726658Z",
     "iopub.status.idle": "2022-02-02T20:09:43.755029Z",
     "shell.execute_reply": "2022-02-02T20:09:43.755531Z"
    },
    "papermill": {
     "duration": 0.066504,
     "end_time": "2022-02-02T20:09:43.755811",
     "exception": false,
     "start_time": "2022-02-02T20:09:43.689307",
     "status": "completed"
    },
    "tags": []
   },
   "outputs": [],
   "source": [
    "train_filter = np.where((train_labels == 3 ) | (train_labels == 8))\n",
    "test_filter = np.where((test_labels == 3) | (test_labels == 8))\n",
    "X_train, y_train = train_images[train_filter], train_labels[train_filter]\n",
    "X_test, y_test = test_images[test_filter], test_labels[test_filter]"
   ]
  },
  {
   "cell_type": "markdown",
   "id": "948f0b7e",
   "metadata": {
    "papermill": {
     "duration": 0.030977,
     "end_time": "2022-02-02T20:09:43.824382",
     "exception": false,
     "start_time": "2022-02-02T20:09:43.793405",
     "status": "completed"
    },
    "tags": []
   },
   "source": [
    "We normalize the pizel values in the 0 to 1 range"
   ]
  },
  {
   "cell_type": "code",
   "execution_count": 11,
   "id": "ee4c2166",
   "metadata": {
    "execution": {
     "iopub.execute_input": "2022-02-02T20:09:43.894326Z",
     "iopub.status.busy": "2022-02-02T20:09:43.891551Z",
     "iopub.status.idle": "2022-02-02T20:09:43.943853Z",
     "shell.execute_reply": "2022-02-02T20:09:43.943287Z"
    },
    "papermill": {
     "duration": 0.08782,
     "end_time": "2022-02-02T20:09:43.943992",
     "exception": false,
     "start_time": "2022-02-02T20:09:43.856172",
     "status": "completed"
    },
    "tags": []
   },
   "outputs": [],
   "source": [
    "X_train = X_train/255.\n",
    "X_test = X_test/255."
   ]
  },
  {
   "cell_type": "markdown",
   "id": "ddcf4fab",
   "metadata": {
    "papermill": {
     "duration": 0.040279,
     "end_time": "2022-02-02T20:09:44.017137",
     "exception": false,
     "start_time": "2022-02-02T20:09:43.976858",
     "status": "completed"
    },
    "tags": []
   },
   "source": [
    "And setup the labels as 1 (when the digit is 3) and 0 (when the digit is 8)"
   ]
  },
  {
   "cell_type": "code",
   "execution_count": 12,
   "id": "7dc908f2",
   "metadata": {
    "execution": {
     "iopub.execute_input": "2022-02-02T20:09:44.088931Z",
     "iopub.status.busy": "2022-02-02T20:09:44.088302Z",
     "iopub.status.idle": "2022-02-02T20:09:44.101657Z",
     "shell.execute_reply": "2022-02-02T20:09:44.102159Z"
    },
    "papermill": {
     "duration": 0.050179,
     "end_time": "2022-02-02T20:09:44.102330",
     "exception": false,
     "start_time": "2022-02-02T20:09:44.052151",
     "status": "completed"
    },
    "tags": []
   },
   "outputs": [],
   "source": [
    "y_train = 1*(y_train==3)\n",
    "y_test = 1*(y_test==3)"
   ]
  },
  {
   "cell_type": "code",
   "execution_count": 13,
   "id": "01e4e969",
   "metadata": {
    "execution": {
     "iopub.execute_input": "2022-02-02T20:09:44.185168Z",
     "iopub.status.busy": "2022-02-02T20:09:44.171842Z",
     "iopub.status.idle": "2022-02-02T20:09:44.199848Z",
     "shell.execute_reply": "2022-02-02T20:09:44.199322Z"
    },
    "papermill": {
     "duration": 0.062633,
     "end_time": "2022-02-02T20:09:44.199990",
     "exception": false,
     "start_time": "2022-02-02T20:09:44.137357",
     "status": "completed"
    },
    "tags": []
   },
   "outputs": [
    {
     "data": {
      "text/plain": [
       "((11982, 28, 28), (1984, 28, 28))"
      ]
     },
     "execution_count": 13,
     "metadata": {},
     "output_type": "execute_result"
    }
   ],
   "source": [
    "X_train.shape, X_test.shape"
   ]
  },
  {
   "cell_type": "markdown",
   "id": "5ccf3f85",
   "metadata": {
    "papermill": {
     "duration": 0.034154,
     "end_time": "2022-02-02T20:09:44.272857",
     "exception": false,
     "start_time": "2022-02-02T20:09:44.238703",
     "status": "completed"
    },
    "tags": []
   },
   "source": [
    "We reshape the data to flatten the image pixels into a set of features or co-variates:"
   ]
  },
  {
   "cell_type": "code",
   "execution_count": 14,
   "id": "5286a4a3",
   "metadata": {
    "execution": {
     "iopub.execute_input": "2022-02-02T20:09:44.344635Z",
     "iopub.status.busy": "2022-02-02T20:09:44.344015Z",
     "iopub.status.idle": "2022-02-02T20:09:44.360796Z",
     "shell.execute_reply": "2022-02-02T20:09:44.360267Z"
    },
    "papermill": {
     "duration": 0.053263,
     "end_time": "2022-02-02T20:09:44.360930",
     "exception": false,
     "start_time": "2022-02-02T20:09:44.307667",
     "status": "completed"
    },
    "tags": []
   },
   "outputs": [
    {
     "data": {
      "text/plain": [
       "((11982, 784), (1984, 784))"
      ]
     },
     "execution_count": 14,
     "metadata": {},
     "output_type": "execute_result"
    }
   ],
   "source": [
    "X_train = X_train.reshape(X_train.shape[0], -1)\n",
    "X_test = X_test.reshape(X_test.shape[0], -1)\n",
    "X_train.shape, X_test.shape"
   ]
  },
  {
   "cell_type": "code",
   "execution_count": 15,
   "id": "73c5f88a",
   "metadata": {
    "execution": {
     "iopub.execute_input": "2022-02-02T20:09:44.431724Z",
     "iopub.status.busy": "2022-02-02T20:09:44.431047Z",
     "iopub.status.idle": "2022-02-02T20:09:44.456003Z",
     "shell.execute_reply": "2022-02-02T20:09:44.455406Z"
    },
    "papermill": {
     "duration": 0.063064,
     "end_time": "2022-02-02T20:09:44.456146",
     "exception": false,
     "start_time": "2022-02-02T20:09:44.393082",
     "status": "completed"
    },
    "tags": []
   },
   "outputs": [],
   "source": [
    "#Impoting functions from 'Kudzu'\n",
    "from kudzu.model import Model\n",
    "from kudzu.train import Learner\n",
    "from kudzu.optim import GD\n",
    "from kudzu.data import Data, Sampler,Dataloader\n",
    "\n",
    "from kudzu.callbacks import AccCallback\n",
    "from kudzu.callbacks import ClfCallback\n",
    "\n",
    "from kudzu.loss import MSE\n",
    "\n",
    "from kudzu.layer import Sigmoid,Relu\n",
    "from kudzu.layer import Affine"
   ]
  },
  {
   "cell_type": "markdown",
   "id": "bc01172a",
   "metadata": {
    "papermill": {
     "duration": 0.034718,
     "end_time": "2022-02-02T20:09:44.530797",
     "exception": false,
     "start_time": "2022-02-02T20:09:44.496079",
     "status": "completed"
    },
    "tags": []
   },
   "source": [
    "### Let us create a `Config` class, to store important parameters. \n",
    "This class essentially plays the role of a dictionary."
   ]
  },
  {
   "cell_type": "code",
   "execution_count": 16,
   "id": "978281aa",
   "metadata": {
    "execution": {
     "iopub.execute_input": "2022-02-02T20:09:44.602648Z",
     "iopub.status.busy": "2022-02-02T20:09:44.601925Z",
     "iopub.status.idle": "2022-02-02T20:09:44.622428Z",
     "shell.execute_reply": "2022-02-02T20:09:44.621455Z"
    },
    "papermill": {
     "duration": 0.05996,
     "end_time": "2022-02-02T20:09:44.622576",
     "exception": false,
     "start_time": "2022-02-02T20:09:44.562616",
     "status": "completed"
    },
    "tags": []
   },
   "outputs": [],
   "source": [
    "class Config:\n",
    "    pass\n",
    "config = Config()\n",
    "config.lr = 0.001\n",
    "config.num_epochs = 250\n",
    "config.bs = 50"
   ]
  },
  {
   "cell_type": "markdown",
   "id": "1385fa59",
   "metadata": {
    "papermill": {
     "duration": 0.031078,
     "end_time": "2022-02-02T20:09:44.684594",
     "exception": false,
     "start_time": "2022-02-02T20:09:44.653516",
     "status": "completed"
    },
    "tags": []
   },
   "source": [
    "### Running Models with the Training data\n",
    "Details about the network layers:\n",
    "- A first affine layer has 784 inputs and does 100 affine transforms. These are followed by a Relu\n",
    "- A second affine layer has 100 inputs from the 100 activations of the past layer, and does 100 affine transforms. These are followed by a Relu\n",
    "- A third affine layer has 100 activations and does 2 affine transformations to create an embedding for visualization. There is no non-linearity here.\n",
    "- A final \"logistic regression\" which has an affine transform from 2 inputs to 1 output, which is squeezed through a sigmoid.\n"
   ]
  },
  {
   "cell_type": "code",
   "execution_count": 17,
   "id": "2b9c66db",
   "metadata": {
    "execution": {
     "iopub.execute_input": "2022-02-02T20:09:44.752345Z",
     "iopub.status.busy": "2022-02-02T20:09:44.751694Z",
     "iopub.status.idle": "2022-02-02T20:09:44.768024Z",
     "shell.execute_reply": "2022-02-02T20:09:44.767456Z"
    },
    "papermill": {
     "duration": 0.052436,
     "end_time": "2022-02-02T20:09:44.768162",
     "exception": false,
     "start_time": "2022-02-02T20:09:44.715726",
     "status": "completed"
    },
    "tags": []
   },
   "outputs": [],
   "source": [
    "data = Data(X_train, y_train.reshape(-1,1))\n",
    "sampler = Sampler(data, config.bs, shuffle=True)\n",
    "\n",
    "dl = Dataloader(data, sampler)\n",
    "\n",
    "opt = GD(config.lr)\n",
    "loss = MSE()"
   ]
  },
  {
   "cell_type": "code",
   "execution_count": 18,
   "id": "b275e4c2",
   "metadata": {
    "execution": {
     "iopub.execute_input": "2022-02-02T20:09:44.842644Z",
     "iopub.status.busy": "2022-02-02T20:09:44.841993Z",
     "iopub.status.idle": "2022-02-02T20:09:44.856865Z",
     "shell.execute_reply": "2022-02-02T20:09:44.856134Z"
    },
    "papermill": {
     "duration": 0.057178,
     "end_time": "2022-02-02T20:09:44.857052",
     "exception": false,
     "start_time": "2022-02-02T20:09:44.799874",
     "status": "completed"
    },
    "tags": []
   },
   "outputs": [],
   "source": [
    "training_data_x = X_train\n",
    "testing_data_x = X_test\n",
    "training_data_y = y_train.reshape(-1,1)\n",
    "testing_data_y = y_test.reshape(-1,1)"
   ]
  },
  {
   "cell_type": "code",
   "execution_count": 19,
   "id": "76951160",
   "metadata": {
    "execution": {
     "iopub.execute_input": "2022-02-02T20:09:44.928600Z",
     "iopub.status.busy": "2022-02-02T20:09:44.927938Z",
     "iopub.status.idle": "2022-02-02T20:09:44.948751Z",
     "shell.execute_reply": "2022-02-02T20:09:44.948220Z"
    },
    "papermill": {
     "duration": 0.059535,
     "end_time": "2022-02-02T20:09:44.948885",
     "exception": false,
     "start_time": "2022-02-02T20:09:44.889350",
     "status": "completed"
    },
    "tags": []
   },
   "outputs": [
    {
     "name": "stdout",
     "output_type": "stream",
     "text": [
      "xavier\n",
      "xavier\n",
      "xavier\n",
      "xavier\n",
      "xavier\n"
     ]
    }
   ],
   "source": [
    "layers = [Affine(\"first\", 784, 100), Relu(\"first\"), Affine(\"second\", 100, 100), Relu(\"second\"), Affine(\"third\", 100, 2), Affine(\"last\", 2, 1), Sigmoid(\"last\")]\n",
    "model_nn = Model(layers)\n",
    "model_lr = Model([Affine(\"logits\", 784, 1), Sigmoid(\"sigmoid\")])"
   ]
  },
  {
   "cell_type": "code",
   "execution_count": 20,
   "id": "6eede77a",
   "metadata": {
    "execution": {
     "iopub.execute_input": "2022-02-02T20:09:45.016145Z",
     "iopub.status.busy": "2022-02-02T20:09:45.015506Z",
     "iopub.status.idle": "2022-02-02T20:09:45.032814Z",
     "shell.execute_reply": "2022-02-02T20:09:45.032262Z"
    },
    "papermill": {
     "duration": 0.052845,
     "end_time": "2022-02-02T20:09:45.032953",
     "exception": false,
     "start_time": "2022-02-02T20:09:44.980108",
     "status": "completed"
    },
    "tags": []
   },
   "outputs": [],
   "source": [
    "nn_learner = Learner(loss, model_nn, opt, config.num_epochs)\n",
    "acc_nn = ClfCallback(nn_learner, config.bs, training_data_x , testing_data_x, training_data_y, testing_data_y)\n",
    "nn_learner.set_callbacks([acc_nn])"
   ]
  },
  {
   "cell_type": "code",
   "execution_count": 21,
   "id": "877b6cc7",
   "metadata": {
    "execution": {
     "iopub.execute_input": "2022-02-02T20:09:45.100785Z",
     "iopub.status.busy": "2022-02-02T20:09:45.100153Z",
     "iopub.status.idle": "2022-02-02T20:09:45.116599Z",
     "shell.execute_reply": "2022-02-02T20:09:45.117103Z"
    },
    "papermill": {
     "duration": 0.052692,
     "end_time": "2022-02-02T20:09:45.117303",
     "exception": false,
     "start_time": "2022-02-02T20:09:45.064611",
     "status": "completed"
    },
    "tags": []
   },
   "outputs": [],
   "source": [
    "lr_learner = Learner(loss, model_lr, opt, config.num_epochs)\n",
    "acc_lr = ClfCallback(lr_learner, config.bs, training_data_x , testing_data_x, training_data_y, testing_data_y)\n",
    "lr_learner.set_callbacks([acc_lr])"
   ]
  },
  {
   "cell_type": "code",
   "execution_count": 22,
   "id": "d9b133c3",
   "metadata": {
    "execution": {
     "iopub.execute_input": "2022-02-02T20:09:45.184634Z",
     "iopub.status.busy": "2022-02-02T20:09:45.184016Z",
     "iopub.status.idle": "2022-02-02T20:11:23.484143Z",
     "shell.execute_reply": "2022-02-02T20:11:23.485182Z"
    },
    "papermill": {
     "duration": 98.336313,
     "end_time": "2022-02-02T20:11:23.485395",
     "exception": false,
     "start_time": "2022-02-02T20:09:45.149082",
     "status": "completed"
    },
    "tags": []
   },
   "outputs": [
    {
     "name": "stdout",
     "output_type": "stream",
     "text": [
      "Epoch 0, Loss 0.2243\n",
      "Training Accuracy: 0.7702, Testing Accuracy: 0.7722\n",
      "\n"
     ]
    },
    {
     "name": "stdout",
     "output_type": "stream",
     "text": [
      "Epoch 10, Loss 0.0701\n",
      "Training Accuracy: 0.9308, Testing Accuracy: 0.9456\n",
      "\n"
     ]
    },
    {
     "name": "stdout",
     "output_type": "stream",
     "text": [
      "Epoch 20, Loss 0.0478\n",
      "Training Accuracy: 0.9467, Testing Accuracy: 0.9592\n",
      "\n"
     ]
    },
    {
     "name": "stdout",
     "output_type": "stream",
     "text": [
      "Epoch 30, Loss 0.0392\n",
      "Training Accuracy: 0.9549, Testing Accuracy: 0.9642\n",
      "\n"
     ]
    },
    {
     "name": "stdout",
     "output_type": "stream",
     "text": [
      "Epoch 40, Loss 0.0346\n",
      "Training Accuracy: 0.9591, Testing Accuracy: 0.9667\n",
      "\n"
     ]
    },
    {
     "name": "stdout",
     "output_type": "stream",
     "text": [
      "Epoch 50, Loss 0.0315\n",
      "Training Accuracy: 0.9630, Testing Accuracy: 0.9693\n",
      "\n"
     ]
    },
    {
     "name": "stdout",
     "output_type": "stream",
     "text": [
      "Epoch 60, Loss 0.0294\n",
      "Training Accuracy: 0.9659, Testing Accuracy: 0.9703\n",
      "\n"
     ]
    },
    {
     "name": "stdout",
     "output_type": "stream",
     "text": [
      "Epoch 70, Loss 0.0277\n",
      "Training Accuracy: 0.9674, Testing Accuracy: 0.9738\n",
      "\n"
     ]
    },
    {
     "name": "stdout",
     "output_type": "stream",
     "text": [
      "Epoch 80, Loss 0.0263\n",
      "Training Accuracy: 0.9692, Testing Accuracy: 0.9738\n",
      "\n"
     ]
    },
    {
     "name": "stdout",
     "output_type": "stream",
     "text": [
      "Epoch 90, Loss 0.0251\n",
      "Training Accuracy: 0.9703, Testing Accuracy: 0.9748\n",
      "\n"
     ]
    },
    {
     "name": "stdout",
     "output_type": "stream",
     "text": [
      "Epoch 100, Loss 0.0241\n",
      "Training Accuracy: 0.9713, Testing Accuracy: 0.9743\n",
      "\n"
     ]
    },
    {
     "name": "stdout",
     "output_type": "stream",
     "text": [
      "Epoch 110, Loss 0.0232\n",
      "Training Accuracy: 0.9730, Testing Accuracy: 0.9743\n",
      "\n"
     ]
    },
    {
     "name": "stdout",
     "output_type": "stream",
     "text": [
      "Epoch 120, Loss 0.0224\n",
      "Training Accuracy: 0.9744, Testing Accuracy: 0.9738\n",
      "\n"
     ]
    },
    {
     "name": "stdout",
     "output_type": "stream",
     "text": [
      "Epoch 130, Loss 0.0217\n",
      "Training Accuracy: 0.9753, Testing Accuracy: 0.9738\n",
      "\n"
     ]
    },
    {
     "name": "stdout",
     "output_type": "stream",
     "text": [
      "Epoch 140, Loss 0.0211\n",
      "Training Accuracy: 0.9762, Testing Accuracy: 0.9748\n",
      "\n"
     ]
    },
    {
     "name": "stdout",
     "output_type": "stream",
     "text": [
      "Epoch 150, Loss 0.0205\n",
      "Training Accuracy: 0.9770, Testing Accuracy: 0.9748\n",
      "\n"
     ]
    },
    {
     "name": "stdout",
     "output_type": "stream",
     "text": [
      "Epoch 160, Loss 0.0199\n",
      "Training Accuracy: 0.9774, Testing Accuracy: 0.9748\n",
      "\n"
     ]
    },
    {
     "name": "stdout",
     "output_type": "stream",
     "text": [
      "Epoch 170, Loss 0.0194\n",
      "Training Accuracy: 0.9781, Testing Accuracy: 0.9753\n",
      "\n"
     ]
    },
    {
     "name": "stdout",
     "output_type": "stream",
     "text": [
      "Epoch 180, Loss 0.0189\n",
      "Training Accuracy: 0.9791, Testing Accuracy: 0.9758\n",
      "\n"
     ]
    },
    {
     "name": "stdout",
     "output_type": "stream",
     "text": [
      "Epoch 190, Loss 0.0184\n",
      "Training Accuracy: 0.9800, Testing Accuracy: 0.9768\n",
      "\n"
     ]
    },
    {
     "name": "stdout",
     "output_type": "stream",
     "text": [
      "Epoch 200, Loss 0.018\n",
      "Training Accuracy: 0.9807, Testing Accuracy: 0.9773\n",
      "\n"
     ]
    },
    {
     "name": "stdout",
     "output_type": "stream",
     "text": [
      "Epoch 210, Loss 0.0175\n",
      "Training Accuracy: 0.9810, Testing Accuracy: 0.9768\n",
      "\n"
     ]
    },
    {
     "name": "stdout",
     "output_type": "stream",
     "text": [
      "Epoch 220, Loss 0.0171\n",
      "Training Accuracy: 0.9813, Testing Accuracy: 0.9778\n",
      "\n"
     ]
    },
    {
     "name": "stdout",
     "output_type": "stream",
     "text": [
      "Epoch 230, Loss 0.0167\n",
      "Training Accuracy: 0.9821, Testing Accuracy: 0.9788\n",
      "\n"
     ]
    },
    {
     "name": "stdout",
     "output_type": "stream",
     "text": [
      "Epoch 240, Loss 0.0163\n",
      "Training Accuracy: 0.9830, Testing Accuracy: 0.9788\n",
      "\n"
     ]
    },
    {
     "data": {
      "text/plain": [
       "0.0011984306876749124"
      ]
     },
     "execution_count": 22,
     "metadata": {},
     "output_type": "execute_result"
    }
   ],
   "source": [
    "nn_learner.train_loop(dl)"
   ]
  },
  {
   "cell_type": "code",
   "execution_count": 23,
   "id": "e0163366",
   "metadata": {
    "execution": {
     "iopub.execute_input": "2022-02-02T20:11:23.578960Z",
     "iopub.status.busy": "2022-02-02T20:11:23.578332Z",
     "iopub.status.idle": "2022-02-02T20:11:41.183024Z",
     "shell.execute_reply": "2022-02-02T20:11:41.183891Z"
    },
    "papermill": {
     "duration": 17.658674,
     "end_time": "2022-02-02T20:11:41.184057",
     "exception": false,
     "start_time": "2022-02-02T20:11:23.525383",
     "status": "completed"
    },
    "tags": []
   },
   "outputs": [
    {
     "name": "stdout",
     "output_type": "stream",
     "text": [
      "Epoch 0, Loss 0.2606\n",
      "Training Accuracy: 0.6002, Testing Accuracy: 0.5761\n",
      "\n"
     ]
    },
    {
     "name": "stdout",
     "output_type": "stream",
     "text": [
      "Epoch 10, Loss 0.1051\n",
      "Training Accuracy: 0.9082, Testing Accuracy: 0.9274\n",
      "\n"
     ]
    },
    {
     "name": "stdout",
     "output_type": "stream",
     "text": [
      "Epoch 20, Loss 0.0792\n",
      "Training Accuracy: 0.9313, Testing Accuracy: 0.9441\n",
      "\n"
     ]
    },
    {
     "name": "stdout",
     "output_type": "stream",
     "text": [
      "Epoch 30, Loss 0.0677\n",
      "Training Accuracy: 0.9399, Testing Accuracy: 0.9501\n",
      "\n"
     ]
    },
    {
     "name": "stdout",
     "output_type": "stream",
     "text": [
      "Epoch 40, Loss 0.0609\n",
      "Training Accuracy: 0.9442, Testing Accuracy: 0.9531\n",
      "\n"
     ]
    },
    {
     "name": "stdout",
     "output_type": "stream",
     "text": [
      "Epoch 50, Loss 0.0564\n",
      "Training Accuracy: 0.9480, Testing Accuracy: 0.9561\n",
      "\n"
     ]
    },
    {
     "name": "stdout",
     "output_type": "stream",
     "text": [
      "Epoch 60, Loss 0.0531\n",
      "Training Accuracy: 0.9499, Testing Accuracy: 0.9597\n",
      "\n"
     ]
    },
    {
     "name": "stdout",
     "output_type": "stream",
     "text": [
      "Epoch 70, Loss 0.0506\n",
      "Training Accuracy: 0.9515, Testing Accuracy: 0.9627\n",
      "\n"
     ]
    },
    {
     "name": "stdout",
     "output_type": "stream",
     "text": [
      "Epoch 80, Loss 0.0486\n",
      "Training Accuracy: 0.9524, Testing Accuracy: 0.9627\n",
      "\n"
     ]
    },
    {
     "name": "stdout",
     "output_type": "stream",
     "text": [
      "Epoch 90, Loss 0.0469\n",
      "Training Accuracy: 0.9536, Testing Accuracy: 0.9637\n",
      "\n"
     ]
    },
    {
     "name": "stdout",
     "output_type": "stream",
     "text": [
      "Epoch 100, Loss 0.0456\n",
      "Training Accuracy: 0.9553, Testing Accuracy: 0.9642\n",
      "\n"
     ]
    },
    {
     "name": "stdout",
     "output_type": "stream",
     "text": [
      "Epoch 110, Loss 0.0444\n",
      "Training Accuracy: 0.9563, Testing Accuracy: 0.9652\n",
      "\n"
     ]
    },
    {
     "name": "stdout",
     "output_type": "stream",
     "text": [
      "Epoch 120, Loss 0.0433\n",
      "Training Accuracy: 0.9564, Testing Accuracy: 0.9652\n",
      "\n"
     ]
    },
    {
     "name": "stdout",
     "output_type": "stream",
     "text": [
      "Epoch 130, Loss 0.0424\n",
      "Training Accuracy: 0.9569, Testing Accuracy: 0.9652\n",
      "\n"
     ]
    },
    {
     "name": "stdout",
     "output_type": "stream",
     "text": [
      "Epoch 140, Loss 0.0416\n",
      "Training Accuracy: 0.9574, Testing Accuracy: 0.9647\n",
      "\n"
     ]
    },
    {
     "name": "stdout",
     "output_type": "stream",
     "text": [
      "Epoch 150, Loss 0.0409\n",
      "Training Accuracy: 0.9580, Testing Accuracy: 0.9652\n",
      "\n"
     ]
    },
    {
     "name": "stdout",
     "output_type": "stream",
     "text": [
      "Epoch 160, Loss 0.0403\n",
      "Training Accuracy: 0.9584, Testing Accuracy: 0.9652\n",
      "\n"
     ]
    },
    {
     "name": "stdout",
     "output_type": "stream",
     "text": [
      "Epoch 170, Loss 0.0397\n",
      "Training Accuracy: 0.9584, Testing Accuracy: 0.9662\n",
      "\n"
     ]
    },
    {
     "name": "stdout",
     "output_type": "stream",
     "text": [
      "Epoch 180, Loss 0.0391\n",
      "Training Accuracy: 0.9588, Testing Accuracy: 0.9672\n",
      "\n"
     ]
    },
    {
     "name": "stdout",
     "output_type": "stream",
     "text": [
      "Epoch 190, Loss 0.0386\n",
      "Training Accuracy: 0.9594, Testing Accuracy: 0.9682\n",
      "\n"
     ]
    },
    {
     "name": "stdout",
     "output_type": "stream",
     "text": [
      "Epoch 200, Loss 0.0382\n",
      "Training Accuracy: 0.9597, Testing Accuracy: 0.9688\n",
      "\n"
     ]
    },
    {
     "name": "stdout",
     "output_type": "stream",
     "text": [
      "Epoch 210, Loss 0.0377\n",
      "Training Accuracy: 0.9599, Testing Accuracy: 0.9693\n",
      "\n"
     ]
    },
    {
     "name": "stdout",
     "output_type": "stream",
     "text": [
      "Epoch 220, Loss 0.0373\n",
      "Training Accuracy: 0.9603, Testing Accuracy: 0.9698\n",
      "\n"
     ]
    },
    {
     "name": "stdout",
     "output_type": "stream",
     "text": [
      "Epoch 230, Loss 0.037\n",
      "Training Accuracy: 0.9604, Testing Accuracy: 0.9698\n",
      "\n"
     ]
    },
    {
     "name": "stdout",
     "output_type": "stream",
     "text": [
      "Epoch 240, Loss 0.0366\n",
      "Training Accuracy: 0.9608, Testing Accuracy: 0.9698\n",
      "\n"
     ]
    },
    {
     "data": {
      "text/plain": [
       "0.06807177613950087"
      ]
     },
     "execution_count": 23,
     "metadata": {},
     "output_type": "execute_result"
    }
   ],
   "source": [
    "lr_learner.train_loop(dl)"
   ]
  },
  {
   "cell_type": "code",
   "execution_count": 24,
   "id": "ca410940",
   "metadata": {
    "execution": {
     "iopub.execute_input": "2022-02-02T20:11:41.290877Z",
     "iopub.status.busy": "2022-02-02T20:11:41.290250Z",
     "iopub.status.idle": "2022-02-02T20:11:41.568392Z",
     "shell.execute_reply": "2022-02-02T20:11:41.567879Z"
    },
    "papermill": {
     "duration": 0.336472,
     "end_time": "2022-02-02T20:11:41.568532",
     "exception": false,
     "start_time": "2022-02-02T20:11:41.232060",
     "status": "completed"
    },
    "tags": []
   },
   "outputs": [
    {
     "data": {
      "text/plain": [
       "<matplotlib.legend.Legend at 0x7f6333473390>"
      ]
     },
     "execution_count": 24,
     "metadata": {},
     "output_type": "execute_result"
    },
    {
     "data": {
      "image/png": "[encoded data removed]",
      "text/plain": [
       "<Figure size 1080x720 with 1 Axes>"
      ]
     },
     "metadata": {
      "needs_background": "light"
     },
     "output_type": "display_data"
    }
   ],
   "source": [
    "#comparing the results of NN and LR\n",
    "plt.figure(figsize=(15,10))\n",
    "\n",
    "# Neural Network plots\n",
    "plt.plot(acc_nn.accuracies, 'r-', label = \"Training Accuracies - NN\")\n",
    "plt.plot(acc_nn.test_accuracies, 'g-', label = \"Testing Accuracies - NN\")\n",
    "\n",
    "# Logistic Regression plots\n",
    "plt.plot(acc_lr.accuracies, 'k-', label = \"Training Accuracies - LR\")\n",
    "plt.plot(acc_lr.test_accuracies, 'b-', label = \"Testing Accuracies - LR\")\n",
    "plt.legend()"
   ]
  },
  {
   "cell_type": "markdown",
   "id": "80dfb35c",
   "metadata": {
    "papermill": {
     "duration": 0.04815,
     "end_time": "2022-02-02T20:11:41.665675",
     "exception": false,
     "start_time": "2022-02-02T20:11:41.617525",
     "status": "completed"
    },
    "tags": []
   },
   "source": [
    "#### Plotting the outputs of this layer of the NN.\n"
   ]
  },
  {
   "cell_type": "code",
   "execution_count": 25,
   "id": "45eb2ff5",
   "metadata": {
    "execution": {
     "iopub.execute_input": "2022-02-02T20:11:41.768882Z",
     "iopub.status.busy": "2022-02-02T20:11:41.767220Z",
     "iopub.status.idle": "2022-02-02T20:11:41.806235Z",
     "shell.execute_reply": "2022-02-02T20:11:41.806765Z"
    },
    "papermill": {
     "duration": 0.09319,
     "end_time": "2022-02-02T20:11:41.806928",
     "exception": false,
     "start_time": "2022-02-02T20:11:41.713738",
     "status": "completed"
    },
    "tags": []
   },
   "outputs": [],
   "source": [
    "new_model = Model(layers[:-2])\n",
    "testing_plot = new_model(testing_data_x)"
   ]
  },
  {
   "cell_type": "code",
   "execution_count": 26,
   "id": "4c0a5485",
   "metadata": {
    "execution": {
     "iopub.execute_input": "2022-02-02T20:11:41.909229Z",
     "iopub.status.busy": "2022-02-02T20:11:41.908587Z",
     "iopub.status.idle": "2022-02-02T20:11:42.155966Z",
     "shell.execute_reply": "2022-02-02T20:11:42.156420Z"
    },
    "papermill": {
     "duration": 0.300695,
     "end_time": "2022-02-02T20:11:42.156578",
     "exception": false,
     "start_time": "2022-02-02T20:11:41.855883",
     "status": "completed"
    },
    "tags": []
   },
   "outputs": [
    {
     "data": {
      "text/plain": [
       "Text(0.5, 1.0, 'Outputs')"
      ]
     },
     "execution_count": 26,
     "metadata": {},
     "output_type": "execute_result"
    },
    {
     "data": {
      "image/png": "[encoded data removed]",
      "text/plain": [
       "<Figure size 576x504 with 1 Axes>"
      ]
     },
     "metadata": {
      "needs_background": "light"
     },
     "output_type": "display_data"
    }
   ],
   "source": [
    "# Plotting the scatter plot of points and color coding by class\n",
    "plt.figure(figsize=(8,7))\n",
    "plt.scatter(testing_plot[:,0], testing_plot[:,1], alpha = 0.1, c = y_test.ravel());\n",
    "plt.title('Outputs')"
   ]
  },
  {
   "cell_type": "markdown",
   "id": "a74fcf8f",
   "metadata": {
    "papermill": {
     "duration": 0.051115,
     "end_time": "2022-02-02T20:11:42.259206",
     "exception": false,
     "start_time": "2022-02-02T20:11:42.208091",
     "status": "completed"
    },
    "tags": []
   },
   "source": [
    "Probability contours"
   ]
  },
  {
   "cell_type": "code",
   "execution_count": 27,
   "id": "d0afc8e3",
   "metadata": {
    "execution": {
     "iopub.execute_input": "2022-02-02T20:11:42.367796Z",
     "iopub.status.busy": "2022-02-02T20:11:42.367169Z",
     "iopub.status.idle": "2022-02-02T20:11:42.386059Z",
     "shell.execute_reply": "2022-02-02T20:11:42.385548Z"
    },
    "papermill": {
     "duration": 0.074807,
     "end_time": "2022-02-02T20:11:42.386201",
     "exception": false,
     "start_time": "2022-02-02T20:11:42.311394",
     "status": "completed"
    },
    "tags": []
   },
   "outputs": [],
   "source": [
    "model_prob = Model(layers[-2:]) "
   ]
  },
  {
   "cell_type": "code",
   "execution_count": 28,
   "id": "9b96e238",
   "metadata": {
    "execution": {
     "iopub.execute_input": "2022-02-02T20:11:42.529389Z",
     "iopub.status.busy": "2022-02-02T20:11:42.528176Z",
     "iopub.status.idle": "2022-02-02T20:11:42.544257Z",
     "shell.execute_reply": "2022-02-02T20:11:42.544747Z"
    },
    "papermill": {
     "duration": 0.075106,
     "end_time": "2022-02-02T20:11:42.544900",
     "exception": false,
     "start_time": "2022-02-02T20:11:42.469794",
     "status": "completed"
    },
    "tags": []
   },
   "outputs": [],
   "source": [
    "#creating the x and y ranges according to the above generated plot.\n",
    "x_range = np.linspace(-4, 1, 100) \n",
    "y_range = np.linspace(-6, 6, 100) \n",
    "x_grid, y_grid = np.meshgrid(x_range, y_range) # x_grid and y_grig are of size 100 X 100\n",
    "\n",
    "# converting x_grid and y_grid to continuous arrays\n",
    "x_gridflat = np.ravel(x_grid)\n",
    "y_gridflat = np.ravel(y_grid)\n",
    "\n",
    "# The last layer of the current model takes two columns as input. Hence transpose of np.vstack() is required.\n",
    "X = np.vstack((x_gridflat, y_gridflat)).T\n",
    "\n",
    "prob_contour = model_prob(X).reshape(100,100) "
   ]
  },
  {
   "cell_type": "code",
   "execution_count": 29,
   "id": "da72499a",
   "metadata": {
    "execution": {
     "iopub.execute_input": "2022-02-02T20:11:42.663873Z",
     "iopub.status.busy": "2022-02-02T20:11:42.658280Z",
     "iopub.status.idle": "2022-02-02T20:11:42.940153Z",
     "shell.execute_reply": "2022-02-02T20:11:42.940643Z"
    },
    "papermill": {
     "duration": 0.344303,
     "end_time": "2022-02-02T20:11:42.940802",
     "exception": false,
     "start_time": "2022-02-02T20:11:42.596499",
     "status": "completed"
    },
    "tags": []
   },
   "outputs": [
    {
     "data": {
      "image/png": "[encoded data removed]",
      "text/plain": [
       "<Figure size 720x648 with 1 Axes>"
      ]
     },
     "metadata": {
      "needs_background": "light"
     },
     "output_type": "display_data"
    }
   ],
   "source": [
    "plt.figure(figsize=(10,9))\n",
    "plt.scatter(testing_plot[:,0], testing_plot[:,1], alpha = 0.1, c = y_test.ravel())\n",
    "contours = plt.contour(x_grid,y_grid,prob_contour)\n",
    "plt.title('Probability Contours')\n",
    "plt.clabel(contours, inline = True );"
   ]
  },
  {
   "cell_type": "code",
   "execution_count": null,
   "id": "e81b4ac7",
   "metadata": {
    "papermill": {
     "duration": 0.053653,
     "end_time": "2022-02-02T20:11:43.048951",
     "exception": false,
     "start_time": "2022-02-02T20:11:42.995298",
     "status": "completed"
    },
    "tags": []
   },
   "outputs": [],
   "source": []
  }
 ],
 "metadata": {
  "kernelspec": {
   "display_name": "Python 3",
   "language": "python",
   "name": "python3"
  },
  "language_info": {
   "codemirror_mode": {
    "name": "ipython",
    "version": 3
   },
   "file_extension": ".py",
   "mimetype": "text/x-python",
   "name": "python",
   "nbconvert_exporter": "python",
   "pygments_lexer": "ipython3",
   "version": "3.6.15"
  },
  "papermill": {
   "default_parameters": {},
   "duration": 125.637456,
   "end_time": "2022-02-02T20:11:43.522595",
   "environment_variables": {},
   "exception": null,
   "input_path": "2020-08-11-part2.ipynb",
   "output_path": "2020-08-11-part2.ipynb",
   "parameters": {},
   "start_time": "2022-02-02T20:09:37.885139",
   "version": "2.3.3"
  }
 },
 "nbformat": 4,
 "nbformat_minor": 5
}