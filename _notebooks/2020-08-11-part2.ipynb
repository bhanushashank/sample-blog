{
 "cells": [
  {
   "cell_type": "markdown",
   "id": "98380cd3",
   "metadata": {
    "papermill": {
     "duration": 0.038557,
     "end_time": "2021-10-12T10:08:31.293451",
     "exception": false,
     "start_time": "2021-10-12T10:08:31.254894",
     "status": "completed"
    },
    "tags": []
   },
   "source": [
    "# Distinguish Your Own Digits (DYOD)"
   ]
  },
  {
   "cell_type": "markdown",
   "id": "ef31240d",
   "metadata": {
    "papermill": {
     "duration": 0.034606,
     "end_time": "2021-10-12T10:08:31.361932",
     "exception": false,
     "start_time": "2021-10-12T10:08:31.327326",
     "status": "completed"
    },
    "tags": []
   },
   "source": [
    "You are going to write a classifier that distinguishes between the number 3 and number 8."
   ]
  },
  {
   "cell_type": "code",
   "execution_count": 1,
   "id": "b15c8646",
   "metadata": {
    "execution": {
     "iopub.execute_input": "2021-10-12T10:08:31.442026Z",
     "iopub.status.busy": "2021-10-12T10:08:31.441308Z",
     "iopub.status.idle": "2021-10-12T10:08:31.452767Z",
     "shell.execute_reply": "2021-10-12T10:08:31.453353Z"
    },
    "papermill": {
     "duration": 0.059529,
     "end_time": "2021-10-12T10:08:31.453530",
     "exception": false,
     "start_time": "2021-10-12T10:08:31.394001",
     "status": "completed"
    },
    "tags": []
   },
   "outputs": [],
   "source": [
    "%load_ext autoreload\n",
    "%autoreload 2"
   ]
  },
  {
   "cell_type": "code",
   "execution_count": 2,
   "id": "22ef38dc",
   "metadata": {
    "execution": {
     "iopub.execute_input": "2021-10-12T10:08:31.524317Z",
     "iopub.status.busy": "2021-10-12T10:08:31.523613Z",
     "iopub.status.idle": "2021-10-12T10:08:32.183866Z",
     "shell.execute_reply": "2021-10-12T10:08:32.183178Z"
    },
    "papermill": {
     "duration": 0.698444,
     "end_time": "2021-10-12T10:08:32.184249",
     "exception": false,
     "start_time": "2021-10-12T10:08:31.485805",
     "status": "completed"
    },
    "tags": []
   },
   "outputs": [],
   "source": [
    "%matplotlib inline\n",
    "import numpy as np\n",
    "import matplotlib.pyplot as plt\n",
    "import pandas as pd"
   ]
  },
  {
   "cell_type": "markdown",
   "id": "ba036198",
   "metadata": {
    "papermill": {
     "duration": 0.031375,
     "end_time": "2021-10-12T10:08:32.248355",
     "exception": false,
     "start_time": "2021-10-12T10:08:32.216980",
     "status": "completed"
    },
    "tags": []
   },
   "source": [
    "From the command line run `pip install mnist`. This is a library that will help you bring down the mnist dataset. If you run this from a notebook, you need to put  `!pip install mnist` in a cell by itself."
   ]
  },
  {
   "cell_type": "code",
   "execution_count": 3,
   "id": "bb6ad8a1",
   "metadata": {
    "execution": {
     "iopub.execute_input": "2021-10-12T10:08:32.320143Z",
     "iopub.status.busy": "2021-10-12T10:08:32.319495Z",
     "iopub.status.idle": "2021-10-12T10:08:35.278319Z",
     "shell.execute_reply": "2021-10-12T10:08:35.277713Z"
    },
    "papermill": {
     "duration": 2.999358,
     "end_time": "2021-10-12T10:08:35.278625",
     "exception": false,
     "start_time": "2021-10-12T10:08:32.279267",
     "status": "completed"
    },
    "tags": []
   },
   "outputs": [
    {
     "name": "stdout",
     "output_type": "stream",
     "text": [
      "Collecting mnist\r\n"
     ]
    },
    {
     "name": "stdout",
     "output_type": "stream",
     "text": [
      "  Downloading mnist-0.2.2-py2.py3-none-any.whl (3.5 kB)\r\n",
      "Requirement already satisfied: numpy in /opt/hostedtoolcache/Python/3.6.15/x64/lib/python3.6/site-packages (from mnist) (1.19.5)\r\n"
     ]
    },
    {
     "name": "stdout",
     "output_type": "stream",
     "text": [
      "Installing collected packages: mnist\r\n"
     ]
    },
    {
     "name": "stdout",
     "output_type": "stream",
     "text": [
      "Successfully installed mnist-0.2.2\r\n"
     ]
    },
    {
     "name": "stdout",
     "output_type": "stream",
     "text": [
      "\u001b[33mWARNING: You are using pip version 21.2.4; however, version 21.3 is available.\r\n",
      "You should consider upgrading via the '/opt/hostedtoolcache/Python/3.6.15/x64/bin/python -m pip install --upgrade pip' command.\u001b[0m\r\n"
     ]
    }
   ],
   "source": [
    "!pip install mnist"
   ]
  },
  {
   "cell_type": "markdown",
   "id": "69df9c9a",
   "metadata": {
    "papermill": {
     "duration": 0.041135,
     "end_time": "2021-10-12T10:08:35.358521",
     "exception": false,
     "start_time": "2021-10-12T10:08:35.317386",
     "status": "completed"
    },
    "tags": []
   },
   "source": [
    "## Preparing the Data"
   ]
  },
  {
   "cell_type": "code",
   "execution_count": 4,
   "id": "7f69d806",
   "metadata": {
    "execution": {
     "iopub.execute_input": "2021-10-12T10:08:35.433846Z",
     "iopub.status.busy": "2021-10-12T10:08:35.433123Z",
     "iopub.status.idle": "2021-10-12T10:08:35.449680Z",
     "shell.execute_reply": "2021-10-12T10:08:35.450195Z"
    },
    "papermill": {
     "duration": 0.056488,
     "end_time": "2021-10-12T10:08:35.450358",
     "exception": false,
     "start_time": "2021-10-12T10:08:35.393870",
     "status": "completed"
    },
    "tags": []
   },
   "outputs": [],
   "source": [
    "import mnist"
   ]
  },
  {
   "cell_type": "code",
   "execution_count": 5,
   "id": "a411e44f",
   "metadata": {
    "execution": {
     "iopub.execute_input": "2021-10-12T10:08:35.522930Z",
     "iopub.status.busy": "2021-10-12T10:08:35.522100Z",
     "iopub.status.idle": "2021-10-12T10:08:36.127846Z",
     "shell.execute_reply": "2021-10-12T10:08:36.127081Z"
    },
    "papermill": {
     "duration": 0.643575,
     "end_time": "2021-10-12T10:08:36.128047",
     "exception": false,
     "start_time": "2021-10-12T10:08:35.484472",
     "status": "completed"
    },
    "tags": []
   },
   "outputs": [],
   "source": [
    "train_images = mnist.train_images()\n",
    "train_labels = mnist.train_labels()"
   ]
  },
  {
   "cell_type": "code",
   "execution_count": 6,
   "id": "dceab3a5",
   "metadata": {
    "execution": {
     "iopub.execute_input": "2021-10-12T10:08:36.202409Z",
     "iopub.status.busy": "2021-10-12T10:08:36.201730Z",
     "iopub.status.idle": "2021-10-12T10:08:36.217722Z",
     "shell.execute_reply": "2021-10-12T10:08:36.218481Z"
    },
    "papermill": {
     "duration": 0.056913,
     "end_time": "2021-10-12T10:08:36.218653",
     "exception": false,
     "start_time": "2021-10-12T10:08:36.161740",
     "status": "completed"
    },
    "tags": []
   },
   "outputs": [
    {
     "data": {
      "text/plain": [
       "((60000, 28, 28), (60000,))"
      ]
     },
     "execution_count": 6,
     "metadata": {},
     "output_type": "execute_result"
    }
   ],
   "source": [
    "train_images.shape, train_labels.shape"
   ]
  },
  {
   "cell_type": "code",
   "execution_count": 7,
   "id": "f50dc2bb",
   "metadata": {
    "execution": {
     "iopub.execute_input": "2021-10-12T10:08:36.297440Z",
     "iopub.status.busy": "2021-10-12T10:08:36.296746Z",
     "iopub.status.idle": "2021-10-12T10:08:36.482269Z",
     "shell.execute_reply": "2021-10-12T10:08:36.481565Z"
    },
    "papermill": {
     "duration": 0.228135,
     "end_time": "2021-10-12T10:08:36.482424",
     "exception": false,
     "start_time": "2021-10-12T10:08:36.254289",
     "status": "completed"
    },
    "tags": []
   },
   "outputs": [],
   "source": [
    "test_images = mnist.test_images()\n",
    "test_labels = mnist.test_labels()"
   ]
  },
  {
   "cell_type": "code",
   "execution_count": 8,
   "id": "fc38cf1b",
   "metadata": {
    "execution": {
     "iopub.execute_input": "2021-10-12T10:08:36.566154Z",
     "iopub.status.busy": "2021-10-12T10:08:36.560637Z",
     "iopub.status.idle": "2021-10-12T10:08:36.574758Z",
     "shell.execute_reply": "2021-10-12T10:08:36.573699Z"
    },
    "papermill": {
     "duration": 0.058125,
     "end_time": "2021-10-12T10:08:36.574935",
     "exception": false,
     "start_time": "2021-10-12T10:08:36.516810",
     "status": "completed"
    },
    "tags": []
   },
   "outputs": [
    {
     "data": {
      "text/plain": [
       "((10000, 28, 28), (10000,))"
      ]
     },
     "execution_count": 8,
     "metadata": {},
     "output_type": "execute_result"
    }
   ],
   "source": [
    "test_images.shape, test_labels.shape"
   ]
  },
  {
   "cell_type": "code",
   "execution_count": 9,
   "id": "f9ed8fe0",
   "metadata": {
    "execution": {
     "iopub.execute_input": "2021-10-12T10:08:36.659807Z",
     "iopub.status.busy": "2021-10-12T10:08:36.655362Z",
     "iopub.status.idle": "2021-10-12T10:08:36.852752Z",
     "shell.execute_reply": "2021-10-12T10:08:36.851660Z"
    },
    "papermill": {
     "duration": 0.237094,
     "end_time": "2021-10-12T10:08:36.852900",
     "exception": false,
     "start_time": "2021-10-12T10:08:36.615806",
     "status": "completed"
    },
    "tags": []
   },
   "outputs": [
    {
     "name": "stdout",
     "output_type": "stream",
     "text": [
      "2\n"
     ]
    },
    {
     "data": {
      "text/plain": [
       "<matplotlib.image.AxesImage at 0x7fecf6ced898>"
      ]
     },
     "execution_count": 9,
     "metadata": {},
     "output_type": "execute_result"
    },
    {
     "data": {
      "image/png": "[encoded data removed]",
      "text/plain": [
       "<Figure size 432x288 with 1 Axes>"
      ]
     },
     "metadata": {
      "needs_background": "light"
     },
     "output_type": "display_data"
    }
   ],
   "source": [
    "image_index = 7776 # You may select anything up to 60,000\n",
    "print(train_labels[image_index]) \n",
    "plt.imshow(train_images[image_index], cmap='Greys')"
   ]
  },
  {
   "cell_type": "markdown",
   "id": "a8d2388d",
   "metadata": {
    "papermill": {
     "duration": 0.036307,
     "end_time": "2021-10-12T10:08:36.926774",
     "exception": false,
     "start_time": "2021-10-12T10:08:36.890467",
     "status": "completed"
    },
    "tags": []
   },
   "source": [
    "## Filter data to get 3 and 8 out"
   ]
  },
  {
   "cell_type": "code",
   "execution_count": 10,
   "id": "776f7fc7",
   "metadata": {
    "execution": {
     "iopub.execute_input": "2021-10-12T10:08:37.010566Z",
     "iopub.status.busy": "2021-10-12T10:08:37.008400Z",
     "iopub.status.idle": "2021-10-12T10:08:37.026653Z",
     "shell.execute_reply": "2021-10-12T10:08:37.027283Z"
    },
    "papermill": {
     "duration": 0.063109,
     "end_time": "2021-10-12T10:08:37.027459",
     "exception": false,
     "start_time": "2021-10-12T10:08:36.964350",
     "status": "completed"
    },
    "tags": []
   },
   "outputs": [],
   "source": [
    "train_filter = np.where((train_labels == 3 ) | (train_labels == 8))\n",
    "test_filter = np.where((test_labels == 3) | (test_labels == 8))\n",
    "X_train, y_train = train_images[train_filter], train_labels[train_filter]\n",
    "X_test, y_test = test_images[test_filter], test_labels[test_filter]"
   ]
  },
  {
   "cell_type": "markdown",
   "id": "948f0b7e",
   "metadata": {
    "papermill": {
     "duration": 0.037356,
     "end_time": "2021-10-12T10:08:37.101366",
     "exception": false,
     "start_time": "2021-10-12T10:08:37.064010",
     "status": "completed"
    },
    "tags": []
   },
   "source": [
    "We normalize the pizel values in the 0 to 1 range"
   ]
  },
  {
   "cell_type": "code",
   "execution_count": 11,
   "id": "ee4c2166",
   "metadata": {
    "execution": {
     "iopub.execute_input": "2021-10-12T10:08:37.191782Z",
     "iopub.status.busy": "2021-10-12T10:08:37.184286Z",
     "iopub.status.idle": "2021-10-12T10:08:37.244925Z",
     "shell.execute_reply": "2021-10-12T10:08:37.244317Z"
    },
    "papermill": {
     "duration": 0.107669,
     "end_time": "2021-10-12T10:08:37.245075",
     "exception": false,
     "start_time": "2021-10-12T10:08:37.137406",
     "status": "completed"
    },
    "tags": []
   },
   "outputs": [],
   "source": [
    "X_train = X_train/255.\n",
    "X_test = X_test/255."
   ]
  },
  {
   "cell_type": "markdown",
   "id": "ddcf4fab",
   "metadata": {
    "papermill": {
     "duration": 0.036177,
     "end_time": "2021-10-12T10:08:37.317745",
     "exception": false,
     "start_time": "2021-10-12T10:08:37.281568",
     "status": "completed"
    },
    "tags": []
   },
   "source": [
    "And setup the labels as 1 (when the digit is 3) and 0 (when the digit is 8)"
   ]
  },
  {
   "cell_type": "code",
   "execution_count": 12,
   "id": "7dc908f2",
   "metadata": {
    "execution": {
     "iopub.execute_input": "2021-10-12T10:08:37.400026Z",
     "iopub.status.busy": "2021-10-12T10:08:37.399261Z",
     "iopub.status.idle": "2021-10-12T10:08:37.412609Z",
     "shell.execute_reply": "2021-10-12T10:08:37.413230Z"
    },
    "papermill": {
     "duration": 0.056304,
     "end_time": "2021-10-12T10:08:37.413418",
     "exception": false,
     "start_time": "2021-10-12T10:08:37.357114",
     "status": "completed"
    },
    "tags": []
   },
   "outputs": [],
   "source": [
    "y_train = 1*(y_train==3)\n",
    "y_test = 1*(y_test==3)"
   ]
  },
  {
   "cell_type": "code",
   "execution_count": 13,
   "id": "01e4e969",
   "metadata": {
    "execution": {
     "iopub.execute_input": "2021-10-12T10:08:37.486885Z",
     "iopub.status.busy": "2021-10-12T10:08:37.486137Z",
     "iopub.status.idle": "2021-10-12T10:08:37.500264Z",
     "shell.execute_reply": "2021-10-12T10:08:37.500940Z"
    },
    "papermill": {
     "duration": 0.05278,
     "end_time": "2021-10-12T10:08:37.501077",
     "exception": false,
     "start_time": "2021-10-12T10:08:37.448297",
     "status": "completed"
    },
    "tags": []
   },
   "outputs": [
    {
     "data": {
      "text/plain": [
       "((11982, 28, 28), (1984, 28, 28))"
      ]
     },
     "execution_count": 13,
     "metadata": {},
     "output_type": "execute_result"
    }
   ],
   "source": [
    "X_train.shape, X_test.shape"
   ]
  },
  {
   "cell_type": "markdown",
   "id": "5ccf3f85",
   "metadata": {
    "papermill": {
     "duration": 0.036357,
     "end_time": "2021-10-12T10:08:37.576912",
     "exception": false,
     "start_time": "2021-10-12T10:08:37.540555",
     "status": "completed"
    },
    "tags": []
   },
   "source": [
    "We reshape the data to flatten the image pixels into a set of features or co-variates:"
   ]
  },
  {
   "cell_type": "code",
   "execution_count": 14,
   "id": "5286a4a3",
   "metadata": {
    "execution": {
     "iopub.execute_input": "2021-10-12T10:08:37.655164Z",
     "iopub.status.busy": "2021-10-12T10:08:37.654458Z",
     "iopub.status.idle": "2021-10-12T10:08:37.670667Z",
     "shell.execute_reply": "2021-10-12T10:08:37.671277Z"
    },
    "papermill": {
     "duration": 0.057801,
     "end_time": "2021-10-12T10:08:37.671431",
     "exception": false,
     "start_time": "2021-10-12T10:08:37.613630",
     "status": "completed"
    },
    "tags": []
   },
   "outputs": [
    {
     "data": {
      "text/plain": [
       "((11982, 784), (1984, 784))"
      ]
     },
     "execution_count": 14,
     "metadata": {},
     "output_type": "execute_result"
    }
   ],
   "source": [
    "X_train = X_train.reshape(X_train.shape[0], -1)\n",
    "X_test = X_test.reshape(X_test.shape[0], -1)\n",
    "X_train.shape, X_test.shape"
   ]
  },
  {
   "cell_type": "code",
   "execution_count": 15,
   "id": "73c5f88a",
   "metadata": {
    "execution": {
     "iopub.execute_input": "2021-10-12T10:08:37.760111Z",
     "iopub.status.busy": "2021-10-12T10:08:37.755011Z",
     "iopub.status.idle": "2021-10-12T10:08:37.775763Z",
     "shell.execute_reply": "2021-10-12T10:08:37.776348Z"
    },
    "papermill": {
     "duration": 0.067351,
     "end_time": "2021-10-12T10:08:37.776519",
     "exception": false,
     "start_time": "2021-10-12T10:08:37.709168",
     "status": "completed"
    },
    "tags": []
   },
   "outputs": [],
   "source": [
    "#Impoting functions from 'Kudzu'\n",
    "from kudzu.model import Model\n",
    "from kudzu.train import Learner\n",
    "from kudzu.optim import GD\n",
    "from kudzu.data import Data, Sampler,Dataloader\n",
    "\n",
    "from kudzu.callbacks import AccCallback\n",
    "from kudzu.callbacks import ClfCallback\n",
    "\n",
    "from kudzu.loss import MSE\n",
    "\n",
    "from kudzu.layer import Sigmoid,Relu\n",
    "from kudzu.layer import Affine"
   ]
  },
  {
   "cell_type": "markdown",
   "id": "bc01172a",
   "metadata": {
    "papermill": {
     "duration": 0.040476,
     "end_time": "2021-10-12T10:08:37.853764",
     "exception": false,
     "start_time": "2021-10-12T10:08:37.813288",
     "status": "completed"
    },
    "tags": []
   },
   "source": [
    "### Let us create a `Config` class, to store important parameters. \n",
    "This class essentially plays the role of a dictionary."
   ]
  },
  {
   "cell_type": "code",
   "execution_count": 16,
   "id": "978281aa",
   "metadata": {
    "execution": {
     "iopub.execute_input": "2021-10-12T10:08:37.936993Z",
     "iopub.status.busy": "2021-10-12T10:08:37.936279Z",
     "iopub.status.idle": "2021-10-12T10:08:37.950483Z",
     "shell.execute_reply": "2021-10-12T10:08:37.951146Z"
    },
    "papermill": {
     "duration": 0.06099,
     "end_time": "2021-10-12T10:08:37.951598",
     "exception": false,
     "start_time": "2021-10-12T10:08:37.890608",
     "status": "completed"
    },
    "tags": []
   },
   "outputs": [],
   "source": [
    "class Config:\n",
    "    pass\n",
    "config = Config()\n",
    "config.lr = 0.001\n",
    "config.num_epochs = 250\n",
    "config.bs = 50"
   ]
  },
  {
   "cell_type": "markdown",
   "id": "1385fa59",
   "metadata": {
    "papermill": {
     "duration": 0.041301,
     "end_time": "2021-10-12T10:08:38.034384",
     "exception": false,
     "start_time": "2021-10-12T10:08:37.993083",
     "status": "completed"
    },
    "tags": []
   },
   "source": [
    "### Running Models with the Training data\n",
    "Details about the network layers:\n",
    "- A first affine layer has 784 inputs and does 100 affine transforms. These are followed by a Relu\n",
    "- A second affine layer has 100 inputs from the 100 activations of the past layer, and does 100 affine transforms. These are followed by a Relu\n",
    "- A third affine layer has 100 activations and does 2 affine transformations to create an embedding for visualization. There is no non-linearity here.\n",
    "- A final \"logistic regression\" which has an affine transform from 2 inputs to 1 output, which is squeezed through a sigmoid.\n"
   ]
  },
  {
   "cell_type": "code",
   "execution_count": 17,
   "id": "2b9c66db",
   "metadata": {
    "execution": {
     "iopub.execute_input": "2021-10-12T10:08:38.116667Z",
     "iopub.status.busy": "2021-10-12T10:08:38.115857Z",
     "iopub.status.idle": "2021-10-12T10:08:38.134958Z",
     "shell.execute_reply": "2021-10-12T10:08:38.134099Z"
    },
    "papermill": {
     "duration": 0.061617,
     "end_time": "2021-10-12T10:08:38.135100",
     "exception": false,
     "start_time": "2021-10-12T10:08:38.073483",
     "status": "completed"
    },
    "tags": []
   },
   "outputs": [],
   "source": [
    "data = Data(X_train, y_train.reshape(-1,1))\n",
    "sampler = Sampler(data, config.bs, shuffle=True)\n",
    "\n",
    "dl = Dataloader(data, sampler)\n",
    "\n",
    "opt = GD(config.lr)\n",
    "loss = MSE()"
   ]
  },
  {
   "cell_type": "code",
   "execution_count": 18,
   "id": "b275e4c2",
   "metadata": {
    "execution": {
     "iopub.execute_input": "2021-10-12T10:08:38.220485Z",
     "iopub.status.busy": "2021-10-12T10:08:38.219780Z",
     "iopub.status.idle": "2021-10-12T10:08:38.232681Z",
     "shell.execute_reply": "2021-10-12T10:08:38.233255Z"
    },
    "papermill": {
     "duration": 0.060009,
     "end_time": "2021-10-12T10:08:38.233416",
     "exception": false,
     "start_time": "2021-10-12T10:08:38.173407",
     "status": "completed"
    },
    "tags": []
   },
   "outputs": [],
   "source": [
    "training_data_x = X_train\n",
    "testing_data_x = X_test\n",
    "training_data_y = y_train.reshape(-1,1)\n",
    "testing_data_y = y_test.reshape(-1,1)"
   ]
  },
  {
   "cell_type": "code",
   "execution_count": 19,
   "id": "76951160",
   "metadata": {
    "execution": {
     "iopub.execute_input": "2021-10-12T10:08:38.314366Z",
     "iopub.status.busy": "2021-10-12T10:08:38.313691Z",
     "iopub.status.idle": "2021-10-12T10:08:38.332226Z",
     "shell.execute_reply": "2021-10-12T10:08:38.331608Z"
    },
    "papermill": {
     "duration": 0.060621,
     "end_time": "2021-10-12T10:08:38.332380",
     "exception": false,
     "start_time": "2021-10-12T10:08:38.271759",
     "status": "completed"
    },
    "tags": []
   },
   "outputs": [
    {
     "name": "stdout",
     "output_type": "stream",
     "text": [
      "xavier\n",
      "xavier\n",
      "xavier\n",
      "xavier\n",
      "xavier\n"
     ]
    }
   ],
   "source": [
    "layers = [Affine(\"first\", 784, 100), Relu(\"first\"), Affine(\"second\", 100, 100), Relu(\"second\"), Affine(\"third\", 100, 2), Affine(\"last\", 2, 1), Sigmoid(\"last\")]\n",
    "model_nn = Model(layers)\n",
    "model_lr = Model([Affine(\"logits\", 784, 1), Sigmoid(\"sigmoid\")])"
   ]
  },
  {
   "cell_type": "code",
   "execution_count": 20,
   "id": "6eede77a",
   "metadata": {
    "execution": {
     "iopub.execute_input": "2021-10-12T10:08:38.424384Z",
     "iopub.status.busy": "2021-10-12T10:08:38.413130Z",
     "iopub.status.idle": "2021-10-12T10:08:38.427050Z",
     "shell.execute_reply": "2021-10-12T10:08:38.426447Z"
    },
    "papermill": {
     "duration": 0.057443,
     "end_time": "2021-10-12T10:08:38.427175",
     "exception": false,
     "start_time": "2021-10-12T10:08:38.369732",
     "status": "completed"
    },
    "tags": []
   },
   "outputs": [],
   "source": [
    "nn_learner = Learner(loss, model_nn, opt, config.num_epochs)\n",
    "acc_nn = ClfCallback(nn_learner, config.bs, training_data_x , testing_data_x, training_data_y, testing_data_y)\n",
    "nn_learner.set_callbacks([acc_nn])"
   ]
  },
  {
   "cell_type": "code",
   "execution_count": 21,
   "id": "877b6cc7",
   "metadata": {
    "execution": {
     "iopub.execute_input": "2021-10-12T10:08:38.507521Z",
     "iopub.status.busy": "2021-10-12T10:08:38.506726Z",
     "iopub.status.idle": "2021-10-12T10:08:38.520612Z",
     "shell.execute_reply": "2021-10-12T10:08:38.521256Z"
    },
    "papermill": {
     "duration": 0.057336,
     "end_time": "2021-10-12T10:08:38.521521",
     "exception": false,
     "start_time": "2021-10-12T10:08:38.464185",
     "status": "completed"
    },
    "tags": []
   },
   "outputs": [],
   "source": [
    "lr_learner = Learner(loss, model_lr, opt, config.num_epochs)\n",
    "acc_lr = ClfCallback(lr_learner, config.bs, training_data_x , testing_data_x, training_data_y, testing_data_y)\n",
    "lr_learner.set_callbacks([acc_lr])"
   ]
  },
  {
   "cell_type": "code",
   "execution_count": 22,
   "id": "d9b133c3",
   "metadata": {
    "execution": {
     "iopub.execute_input": "2021-10-12T10:08:38.598766Z",
     "iopub.status.busy": "2021-10-12T10:08:38.598077Z",
     "iopub.status.idle": "2021-10-12T10:11:04.431134Z",
     "shell.execute_reply": "2021-10-12T10:11:04.432831Z"
    },
    "papermill": {
     "duration": 145.874073,
     "end_time": "2021-10-12T10:11:04.432995",
     "exception": false,
     "start_time": "2021-10-12T10:08:38.558922",
     "status": "completed"
    },
    "tags": []
   },
   "outputs": [
    {
     "name": "stdout",
     "output_type": "stream",
     "text": [
      "Epoch 0, Loss 0.2543\n",
      "Training Accuracy: 0.5000, Testing Accuracy: 0.4879\n",
      "\n"
     ]
    },
    {
     "name": "stdout",
     "output_type": "stream",
     "text": [
      "Epoch 10, Loss 0.2222\n",
      "Training Accuracy: 0.7985, Testing Accuracy: 0.7742\n",
      "\n"
     ]
    },
    {
     "name": "stdout",
     "output_type": "stream",
     "text": [
      "Epoch 20, Loss 0.1325\n",
      "Training Accuracy: 0.8908, Testing Accuracy: 0.8997\n",
      "\n"
     ]
    },
    {
     "name": "stdout",
     "output_type": "stream",
     "text": [
      "Epoch 30, Loss 0.0727\n",
      "Training Accuracy: 0.9239, Testing Accuracy: 0.9320\n",
      "\n"
     ]
    },
    {
     "name": "stdout",
     "output_type": "stream",
     "text": [
      "Epoch 40, Loss 0.0522\n",
      "Training Accuracy: 0.9432, Testing Accuracy: 0.9526\n",
      "\n"
     ]
    },
    {
     "name": "stdout",
     "output_type": "stream",
     "text": [
      "Epoch 50, Loss 0.0427\n",
      "Training Accuracy: 0.9533, Testing Accuracy: 0.9607\n",
      "\n"
     ]
    },
    {
     "name": "stdout",
     "output_type": "stream",
     "text": [
      "Epoch 60, Loss 0.0375\n",
      "Training Accuracy: 0.9574, Testing Accuracy: 0.9642\n",
      "\n"
     ]
    },
    {
     "name": "stdout",
     "output_type": "stream",
     "text": [
      "Epoch 70, Loss 0.0342\n",
      "Training Accuracy: 0.9609, Testing Accuracy: 0.9688\n",
      "\n"
     ]
    },
    {
     "name": "stdout",
     "output_type": "stream",
     "text": [
      "Epoch 80, Loss 0.0319\n",
      "Training Accuracy: 0.9624, Testing Accuracy: 0.9708\n",
      "\n"
     ]
    },
    {
     "name": "stdout",
     "output_type": "stream",
     "text": [
      "Epoch 90, Loss 0.0301\n",
      "Training Accuracy: 0.9642, Testing Accuracy: 0.9713\n",
      "\n"
     ]
    },
    {
     "name": "stdout",
     "output_type": "stream",
     "text": [
      "Epoch 100, Loss 0.0287\n",
      "Training Accuracy: 0.9661, Testing Accuracy: 0.9703\n",
      "\n"
     ]
    },
    {
     "name": "stdout",
     "output_type": "stream",
     "text": [
      "Epoch 110, Loss 0.0275\n",
      "Training Accuracy: 0.9675, Testing Accuracy: 0.9703\n",
      "\n"
     ]
    },
    {
     "name": "stdout",
     "output_type": "stream",
     "text": [
      "Epoch 120, Loss 0.0264\n",
      "Training Accuracy: 0.9685, Testing Accuracy: 0.9693\n",
      "\n"
     ]
    },
    {
     "name": "stdout",
     "output_type": "stream",
     "text": [
      "Epoch 130, Loss 0.0255\n",
      "Training Accuracy: 0.9694, Testing Accuracy: 0.9693\n",
      "\n"
     ]
    },
    {
     "name": "stdout",
     "output_type": "stream",
     "text": [
      "Epoch 140, Loss 0.0246\n",
      "Training Accuracy: 0.9709, Testing Accuracy: 0.9698\n",
      "\n"
     ]
    },
    {
     "name": "stdout",
     "output_type": "stream",
     "text": [
      "Epoch 150, Loss 0.0238\n",
      "Training Accuracy: 0.9716, Testing Accuracy: 0.9708\n",
      "\n"
     ]
    },
    {
     "name": "stdout",
     "output_type": "stream",
     "text": [
      "Epoch 160, Loss 0.0231\n",
      "Training Accuracy: 0.9727, Testing Accuracy: 0.9703\n",
      "\n"
     ]
    },
    {
     "name": "stdout",
     "output_type": "stream",
     "text": [
      "Epoch 170, Loss 0.0225\n",
      "Training Accuracy: 0.9737, Testing Accuracy: 0.9698\n",
      "\n"
     ]
    },
    {
     "name": "stdout",
     "output_type": "stream",
     "text": [
      "Epoch 180, Loss 0.0219\n",
      "Training Accuracy: 0.9744, Testing Accuracy: 0.9713\n",
      "\n"
     ]
    },
    {
     "name": "stdout",
     "output_type": "stream",
     "text": [
      "Epoch 190, Loss 0.0213\n",
      "Training Accuracy: 0.9757, Testing Accuracy: 0.9723\n",
      "\n"
     ]
    },
    {
     "name": "stdout",
     "output_type": "stream",
     "text": [
      "Epoch 200, Loss 0.0207\n",
      "Training Accuracy: 0.9768, Testing Accuracy: 0.9728\n",
      "\n"
     ]
    },
    {
     "name": "stdout",
     "output_type": "stream",
     "text": [
      "Epoch 210, Loss 0.0202\n",
      "Training Accuracy: 0.9778, Testing Accuracy: 0.9728\n",
      "\n"
     ]
    },
    {
     "name": "stdout",
     "output_type": "stream",
     "text": [
      "Epoch 220, Loss 0.0197\n",
      "Training Accuracy: 0.9781, Testing Accuracy: 0.9733\n",
      "\n"
     ]
    },
    {
     "name": "stdout",
     "output_type": "stream",
     "text": [
      "Epoch 230, Loss 0.0192\n",
      "Training Accuracy: 0.9786, Testing Accuracy: 0.9738\n",
      "\n"
     ]
    },
    {
     "name": "stdout",
     "output_type": "stream",
     "text": [
      "Epoch 240, Loss 0.0188\n",
      "Training Accuracy: 0.9790, Testing Accuracy: 0.9733\n",
      "\n"
     ]
    },
    {
     "data": {
      "text/plain": [
       "0.0045437699499243245"
      ]
     },
     "execution_count": 22,
     "metadata": {},
     "output_type": "execute_result"
    }
   ],
   "source": [
    "nn_learner.train_loop(dl)"
   ]
  },
  {
   "cell_type": "code",
   "execution_count": 23,
   "id": "e0163366",
   "metadata": {
    "execution": {
     "iopub.execute_input": "2021-10-12T10:11:04.540527Z",
     "iopub.status.busy": "2021-10-12T10:11:04.539846Z",
     "iopub.status.idle": "2021-10-12T10:11:25.621609Z",
     "shell.execute_reply": "2021-10-12T10:11:25.622535Z"
    },
    "papermill": {
     "duration": 21.142693,
     "end_time": "2021-10-12T10:11:25.622732",
     "exception": false,
     "start_time": "2021-10-12T10:11:04.480039",
     "status": "completed"
    },
    "tags": []
   },
   "outputs": [
    {
     "name": "stdout",
     "output_type": "stream",
     "text": [
      "Epoch 0, Loss 0.2879\n",
      "Training Accuracy: 0.4890, Testing Accuracy: 0.5297\n",
      "\n"
     ]
    },
    {
     "name": "stdout",
     "output_type": "stream",
     "text": [
      "Epoch 10, Loss 0.1068\n",
      "Training Accuracy: 0.9082, Testing Accuracy: 0.9219\n",
      "\n"
     ]
    },
    {
     "name": "stdout",
     "output_type": "stream",
     "text": [
      "Epoch 20, Loss 0.0809\n",
      "Training Accuracy: 0.9256, Testing Accuracy: 0.9380\n",
      "\n"
     ]
    },
    {
     "name": "stdout",
     "output_type": "stream",
     "text": [
      "Epoch 30, Loss 0.0693\n",
      "Training Accuracy: 0.9349, Testing Accuracy: 0.9461\n",
      "\n"
     ]
    },
    {
     "name": "stdout",
     "output_type": "stream",
     "text": [
      "Epoch 40, Loss 0.0624\n",
      "Training Accuracy: 0.9396, Testing Accuracy: 0.9531\n",
      "\n"
     ]
    },
    {
     "name": "stdout",
     "output_type": "stream",
     "text": [
      "Epoch 50, Loss 0.0577\n",
      "Training Accuracy: 0.9439, Testing Accuracy: 0.9567\n",
      "\n"
     ]
    },
    {
     "name": "stdout",
     "output_type": "stream",
     "text": [
      "Epoch 60, Loss 0.0543\n",
      "Training Accuracy: 0.9472, Testing Accuracy: 0.9582\n",
      "\n"
     ]
    },
    {
     "name": "stdout",
     "output_type": "stream",
     "text": [
      "Epoch 70, Loss 0.0517\n",
      "Training Accuracy: 0.9488, Testing Accuracy: 0.9597\n",
      "\n"
     ]
    },
    {
     "name": "stdout",
     "output_type": "stream",
     "text": [
      "Epoch 80, Loss 0.0496\n",
      "Training Accuracy: 0.9503, Testing Accuracy: 0.9602\n",
      "\n"
     ]
    },
    {
     "name": "stdout",
     "output_type": "stream",
     "text": [
      "Epoch 90, Loss 0.0478\n",
      "Training Accuracy: 0.9511, Testing Accuracy: 0.9617\n",
      "\n"
     ]
    },
    {
     "name": "stdout",
     "output_type": "stream",
     "text": [
      "Epoch 100, Loss 0.0464\n",
      "Training Accuracy: 0.9530, Testing Accuracy: 0.9612\n",
      "\n"
     ]
    },
    {
     "name": "stdout",
     "output_type": "stream",
     "text": [
      "Epoch 110, Loss 0.0451\n",
      "Training Accuracy: 0.9544, Testing Accuracy: 0.9627\n",
      "\n"
     ]
    },
    {
     "name": "stdout",
     "output_type": "stream",
     "text": [
      "Epoch 120, Loss 0.0441\n",
      "Training Accuracy: 0.9553, Testing Accuracy: 0.9652\n",
      "\n"
     ]
    },
    {
     "name": "stdout",
     "output_type": "stream",
     "text": [
      "Epoch 130, Loss 0.0431\n",
      "Training Accuracy: 0.9553, Testing Accuracy: 0.9647\n",
      "\n"
     ]
    },
    {
     "name": "stdout",
     "output_type": "stream",
     "text": [
      "Epoch 140, Loss 0.0423\n",
      "Training Accuracy: 0.9558, Testing Accuracy: 0.9642\n",
      "\n"
     ]
    },
    {
     "name": "stdout",
     "output_type": "stream",
     "text": [
      "Epoch 150, Loss 0.0415\n",
      "Training Accuracy: 0.9567, Testing Accuracy: 0.9647\n",
      "\n"
     ]
    },
    {
     "name": "stdout",
     "output_type": "stream",
     "text": [
      "Epoch 160, Loss 0.0408\n",
      "Training Accuracy: 0.9574, Testing Accuracy: 0.9657\n",
      "\n"
     ]
    },
    {
     "name": "stdout",
     "output_type": "stream",
     "text": [
      "Epoch 170, Loss 0.0402\n",
      "Training Accuracy: 0.9579, Testing Accuracy: 0.9662\n",
      "\n"
     ]
    },
    {
     "name": "stdout",
     "output_type": "stream",
     "text": [
      "Epoch 180, Loss 0.0396\n",
      "Training Accuracy: 0.9585, Testing Accuracy: 0.9662\n",
      "\n"
     ]
    },
    {
     "name": "stdout",
     "output_type": "stream",
     "text": [
      "Epoch 190, Loss 0.0391\n",
      "Training Accuracy: 0.9589, Testing Accuracy: 0.9667\n",
      "\n"
     ]
    },
    {
     "name": "stdout",
     "output_type": "stream",
     "text": [
      "Epoch 200, Loss 0.0386\n",
      "Training Accuracy: 0.9594, Testing Accuracy: 0.9667\n",
      "\n"
     ]
    },
    {
     "name": "stdout",
     "output_type": "stream",
     "text": [
      "Epoch 210, Loss 0.0382\n",
      "Training Accuracy: 0.9598, Testing Accuracy: 0.9672\n",
      "\n"
     ]
    },
    {
     "name": "stdout",
     "output_type": "stream",
     "text": [
      "Epoch 220, Loss 0.0378\n",
      "Training Accuracy: 0.9604, Testing Accuracy: 0.9672\n",
      "\n"
     ]
    },
    {
     "name": "stdout",
     "output_type": "stream",
     "text": [
      "Epoch 230, Loss 0.0374\n",
      "Training Accuracy: 0.9609, Testing Accuracy: 0.9677\n",
      "\n"
     ]
    },
    {
     "name": "stdout",
     "output_type": "stream",
     "text": [
      "Epoch 240, Loss 0.037\n",
      "Training Accuracy: 0.9612, Testing Accuracy: 0.9677\n",
      "\n"
     ]
    },
    {
     "data": {
      "text/plain": [
       "0.05109048830147582"
      ]
     },
     "execution_count": 23,
     "metadata": {},
     "output_type": "execute_result"
    }
   ],
   "source": [
    "lr_learner.train_loop(dl)"
   ]
  },
  {
   "cell_type": "code",
   "execution_count": 24,
   "id": "ca410940",
   "metadata": {
    "execution": {
     "iopub.execute_input": "2021-10-12T10:11:25.743607Z",
     "iopub.status.busy": "2021-10-12T10:11:25.742903Z",
     "iopub.status.idle": "2021-10-12T10:11:26.081697Z",
     "shell.execute_reply": "2021-10-12T10:11:26.080683Z"
    },
    "papermill": {
     "duration": 0.401424,
     "end_time": "2021-10-12T10:11:26.081851",
     "exception": false,
     "start_time": "2021-10-12T10:11:25.680427",
     "status": "completed"
    },
    "tags": []
   },
   "outputs": [
    {
     "data": {
      "text/plain": [
       "<matplotlib.legend.Legend at 0x7fecf6850908>"
      ]
     },
     "execution_count": 24,
     "metadata": {},
     "output_type": "execute_result"
    },
    {
     "data": {
      "image/png": "[encoded data removed]",
      "text/plain": [
       "<Figure size 1080x720 with 1 Axes>"
      ]
     },
     "metadata": {
      "needs_background": "light"
     },
     "output_type": "display_data"
    }
   ],
   "source": [
    "#comparing the results of NN and LR\n",
    "plt.figure(figsize=(15,10))\n",
    "\n",
    "# Neural Network plots\n",
    "plt.plot(acc_nn.accuracies, 'r-', label = \"Training Accuracies - NN\")\n",
    "plt.plot(acc_nn.test_accuracies, 'g-', label = \"Testing Accuracies - NN\")\n",
    "\n",
    "# Logistic Regression plots\n",
    "plt.plot(acc_lr.accuracies, 'k-', label = \"Training Accuracies - LR\")\n",
    "plt.plot(acc_lr.test_accuracies, 'b-', label = \"Testing Accuracies - LR\")\n",
    "plt.legend()"
   ]
  },
  {
   "cell_type": "markdown",
   "id": "80dfb35c",
   "metadata": {
    "papermill": {
     "duration": 0.056672,
     "end_time": "2021-10-12T10:11:26.195184",
     "exception": false,
     "start_time": "2021-10-12T10:11:26.138512",
     "status": "completed"
    },
    "tags": []
   },
   "source": [
    "#### Plotting the outputs of this layer of the NN.\n"
   ]
  },
  {
   "cell_type": "code",
   "execution_count": 25,
   "id": "45eb2ff5",
   "metadata": {
    "execution": {
     "iopub.execute_input": "2021-10-12T10:11:26.316167Z",
     "iopub.status.busy": "2021-10-12T10:11:26.315363Z",
     "iopub.status.idle": "2021-10-12T10:11:26.342913Z",
     "shell.execute_reply": "2021-10-12T10:11:26.343506Z"
    },
    "papermill": {
     "duration": 0.091094,
     "end_time": "2021-10-12T10:11:26.343682",
     "exception": false,
     "start_time": "2021-10-12T10:11:26.252588",
     "status": "completed"
    },
    "tags": []
   },
   "outputs": [],
   "source": [
    "new_model = Model(layers[:-2])\n",
    "testing_plot = new_model(testing_data_x)"
   ]
  },
  {
   "cell_type": "code",
   "execution_count": 26,
   "id": "4c0a5485",
   "metadata": {
    "execution": {
     "iopub.execute_input": "2021-10-12T10:11:26.476037Z",
     "iopub.status.busy": "2021-10-12T10:11:26.475356Z",
     "iopub.status.idle": "2021-10-12T10:11:26.767994Z",
     "shell.execute_reply": "2021-10-12T10:11:26.768515Z"
    },
    "papermill": {
     "duration": 0.358985,
     "end_time": "2021-10-12T10:11:26.768689",
     "exception": false,
     "start_time": "2021-10-12T10:11:26.409704",
     "status": "completed"
    },
    "tags": []
   },
   "outputs": [
    {
     "data": {
      "text/plain": [
       "Text(0.5, 1.0, 'Outputs')"
      ]
     },
     "execution_count": 26,
     "metadata": {},
     "output_type": "execute_result"
    },
    {
     "data": {
      "image/png": "[encoded data removed]",
      "text/plain": [
       "<Figure size 576x504 with 1 Axes>"
      ]
     },
     "metadata": {
      "needs_background": "light"
     },
     "output_type": "display_data"
    }
   ],
   "source": [
    "# Plotting the scatter plot of points and color coding by class\n",
    "plt.figure(figsize=(8,7))\n",
    "plt.scatter(testing_plot[:,0], testing_plot[:,1], alpha = 0.1, c = y_test.ravel());\n",
    "plt.title('Outputs')"
   ]
  },
  {
   "cell_type": "markdown",
   "id": "a74fcf8f",
   "metadata": {
    "papermill": {
     "duration": 0.059559,
     "end_time": "2021-10-12T10:11:26.887122",
     "exception": false,
     "start_time": "2021-10-12T10:11:26.827563",
     "status": "completed"
    },
    "tags": []
   },
   "source": [
    "Probability contours"
   ]
  },
  {
   "cell_type": "code",
   "execution_count": 27,
   "id": "d0afc8e3",
   "metadata": {
    "execution": {
     "iopub.execute_input": "2021-10-12T10:11:27.041973Z",
     "iopub.status.busy": "2021-10-12T10:11:27.041278Z",
     "iopub.status.idle": "2021-10-12T10:11:27.056396Z",
     "shell.execute_reply": "2021-10-12T10:11:27.055780Z"
    },
    "papermill": {
     "duration": 0.108848,
     "end_time": "2021-10-12T10:11:27.056537",
     "exception": false,
     "start_time": "2021-10-12T10:11:26.947689",
     "status": "completed"
    },
    "tags": []
   },
   "outputs": [],
   "source": [
    "model_prob = Model(layers[-2:]) "
   ]
  },
  {
   "cell_type": "code",
   "execution_count": 28,
   "id": "9b96e238",
   "metadata": {
    "execution": {
     "iopub.execute_input": "2021-10-12T10:11:27.194429Z",
     "iopub.status.busy": "2021-10-12T10:11:27.193652Z",
     "iopub.status.idle": "2021-10-12T10:11:27.204831Z",
     "shell.execute_reply": "2021-10-12T10:11:27.205480Z"
    },
    "papermill": {
     "duration": 0.083843,
     "end_time": "2021-10-12T10:11:27.205660",
     "exception": false,
     "start_time": "2021-10-12T10:11:27.121817",
     "status": "completed"
    },
    "tags": []
   },
   "outputs": [],
   "source": [
    "#creating the x and y ranges according to the above generated plot.\n",
    "x_range = np.linspace(-4, 1, 100) \n",
    "y_range = np.linspace(-6, 6, 100) \n",
    "x_grid, y_grid = np.meshgrid(x_range, y_range) # x_grid and y_grig are of size 100 X 100\n",
    "\n",
    "# converting x_grid and y_grid to continuous arrays\n",
    "x_gridflat = np.ravel(x_grid)\n",
    "y_gridflat = np.ravel(y_grid)\n",
    "\n",
    "# The last layer of the current model takes two columns as input. Hence transpose of np.vstack() is required.\n",
    "X = np.vstack((x_gridflat, y_gridflat)).T\n",
    "\n",
    "prob_contour = model_prob(X).reshape(100,100) "
   ]
  },
  {
   "cell_type": "code",
   "execution_count": 29,
   "id": "da72499a",
   "metadata": {
    "execution": {
     "iopub.execute_input": "2021-10-12T10:11:27.337690Z",
     "iopub.status.busy": "2021-10-12T10:11:27.337017Z",
     "iopub.status.idle": "2021-10-12T10:11:27.690564Z",
     "shell.execute_reply": "2021-10-12T10:11:27.689585Z"
    },
    "papermill": {
     "duration": 0.418784,
     "end_time": "2021-10-12T10:11:27.690716",
     "exception": false,
     "start_time": "2021-10-12T10:11:27.271932",
     "status": "completed"
    },
    "tags": []
   },
   "outputs": [
    {
     "data": {
      "image/png": "[encoded data removed]",
      "text/plain": [
       "<Figure size 720x648 with 1 Axes>"
      ]
     },
     "metadata": {
      "needs_background": "light"
     },
     "output_type": "display_data"
    }
   ],
   "source": [
    "plt.figure(figsize=(10,9))\n",
    "plt.scatter(testing_plot[:,0], testing_plot[:,1], alpha = 0.1, c = y_test.ravel())\n",
    "contours = plt.contour(x_grid,y_grid,prob_contour)\n",
    "plt.title('Probability Contours')\n",
    "plt.clabel(contours, inline = True );"
   ]
  },
  {
   "cell_type": "code",
   "execution_count": null,
   "id": "e81b4ac7",
   "metadata": {
    "papermill": {
     "duration": 0.061884,
     "end_time": "2021-10-12T10:11:27.816309",
     "exception": false,
     "start_time": "2021-10-12T10:11:27.754425",
     "status": "completed"
    },
    "tags": []
   },
   "outputs": [],
   "source": []
  }
 ],
 "metadata": {
  "kernelspec": {
   "display_name": "Python 3",
   "language": "python",
   "name": "python3"
  },
  "language_info": {
   "codemirror_mode": {
    "name": "ipython",
    "version": 3
   },
   "file_extension": ".py",
   "mimetype": "text/x-python",
   "name": "python",
   "nbconvert_exporter": "python",
   "pygments_lexer": "ipython3",
   "version": "3.6.15"
  },
  "papermill": {
   "default_parameters": {},
   "duration": 178.465565,
   "end_time": "2021-10-12T10:11:28.287747",
   "environment_variables": {},
   "exception": null,
   "input_path": "2020-08-11-part2.ipynb",
   "output_path": "2020-08-11-part2.ipynb",
   "parameters": {},
   "start_time": "2021-10-12T10:08:29.822182",
   "version": "2.3.3"
  }
 },
 "nbformat": 4,
 "nbformat_minor": 5
}