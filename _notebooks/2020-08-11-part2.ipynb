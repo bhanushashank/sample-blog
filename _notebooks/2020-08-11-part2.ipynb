{
 "cells": [
  {
   "cell_type": "markdown",
   "id": "98380cd3",
   "metadata": {
    "papermill": {
     "duration": 0.030031,
     "end_time": "2022-09-22T10:11:20.697730",
     "exception": false,
     "start_time": "2022-09-22T10:11:20.667699",
     "status": "completed"
    },
    "tags": []
   },
   "source": [
    "# Distinguish Your Own Digits (DYOD)"
   ]
  },
  {
   "cell_type": "markdown",
   "id": "ef31240d",
   "metadata": {
    "papermill": {
     "duration": 0.023988,
     "end_time": "2022-09-22T10:11:20.746532",
     "exception": false,
     "start_time": "2022-09-22T10:11:20.722544",
     "status": "completed"
    },
    "tags": []
   },
   "source": [
    "You are going to write a classifier that distinguishes between the number 3 and number 8."
   ]
  },
  {
   "cell_type": "code",
   "execution_count": 1,
   "id": "b15c8646",
   "metadata": {
    "execution": {
     "iopub.execute_input": "2022-09-22T10:11:20.804910Z",
     "iopub.status.busy": "2022-09-22T10:11:20.804293Z",
     "iopub.status.idle": "2022-09-22T10:11:20.815219Z",
     "shell.execute_reply": "2022-09-22T10:11:20.814725Z"
    },
    "papermill": {
     "duration": 0.04488,
     "end_time": "2022-09-22T10:11:20.815346",
     "exception": false,
     "start_time": "2022-09-22T10:11:20.770466",
     "status": "completed"
    },
    "tags": []
   },
   "outputs": [],
   "source": [
    "%load_ext autoreload\n",
    "%autoreload 2"
   ]
  },
  {
   "cell_type": "code",
   "execution_count": 2,
   "id": "22ef38dc",
   "metadata": {
    "execution": {
     "iopub.execute_input": "2022-09-22T10:11:20.868014Z",
     "iopub.status.busy": "2022-09-22T10:11:20.867405Z",
     "iopub.status.idle": "2022-09-22T10:11:21.400617Z",
     "shell.execute_reply": "2022-09-22T10:11:21.400083Z"
    },
    "papermill": {
     "duration": 0.561269,
     "end_time": "2022-09-22T10:11:21.400745",
     "exception": false,
     "start_time": "2022-09-22T10:11:20.839476",
     "status": "completed"
    },
    "tags": []
   },
   "outputs": [],
   "source": [
    "%matplotlib inline\n",
    "import numpy as np\n",
    "import matplotlib.pyplot as plt\n",
    "import pandas as pd"
   ]
  },
  {
   "cell_type": "markdown",
   "id": "ba036198",
   "metadata": {
    "papermill": {
     "duration": 0.024084,
     "end_time": "2022-09-22T10:11:21.448957",
     "exception": false,
     "start_time": "2022-09-22T10:11:21.424873",
     "status": "completed"
    },
    "tags": []
   },
   "source": [
    "From the command line run `pip install mnist`. This is a library that will help you bring down the mnist dataset. If you run this from a notebook, you need to put  `!pip install mnist` in a cell by itself."
   ]
  },
  {
   "cell_type": "code",
   "execution_count": 3,
   "id": "bb6ad8a1",
   "metadata": {
    "execution": {
     "iopub.execute_input": "2022-09-22T10:11:21.501201Z",
     "iopub.status.busy": "2022-09-22T10:11:21.500625Z",
     "iopub.status.idle": "2022-09-22T10:11:23.076373Z",
     "shell.execute_reply": "2022-09-22T10:11:23.075340Z"
    },
    "papermill": {
     "duration": 1.603494,
     "end_time": "2022-09-22T10:11:23.076510",
     "exception": false,
     "start_time": "2022-09-22T10:11:21.473016",
     "status": "completed"
    },
    "tags": []
   },
   "outputs": [
    {
     "name": "stdout",
     "output_type": "stream",
     "text": [
      "Collecting mnist\r\n"
     ]
    },
    {
     "name": "stdout",
     "output_type": "stream",
     "text": [
      "  Downloading mnist-0.2.2-py2.py3-none-any.whl (3.5 kB)\r\n",
      "Requirement already satisfied: numpy in /opt/hostedtoolcache/Python/3.6.15/x64/lib/python3.6/site-packages (from mnist) (1.19.5)\r\n"
     ]
    },
    {
     "name": "stdout",
     "output_type": "stream",
     "text": [
      "Installing collected packages: mnist\r\n"
     ]
    },
    {
     "name": "stdout",
     "output_type": "stream",
     "text": [
      "Successfully installed mnist-0.2.2\r\n"
     ]
    }
   ],
   "source": [
    "!pip install mnist"
   ]
  },
  {
   "cell_type": "markdown",
   "id": "69df9c9a",
   "metadata": {
    "papermill": {
     "duration": 0.025201,
     "end_time": "2022-09-22T10:11:23.127169",
     "exception": false,
     "start_time": "2022-09-22T10:11:23.101968",
     "status": "completed"
    },
    "tags": []
   },
   "source": [
    "## Preparing the Data"
   ]
  },
  {
   "cell_type": "code",
   "execution_count": 4,
   "id": "7f69d806",
   "metadata": {
    "execution": {
     "iopub.execute_input": "2022-09-22T10:11:23.185284Z",
     "iopub.status.busy": "2022-09-22T10:11:23.181293Z",
     "iopub.status.idle": "2022-09-22T10:11:23.196120Z",
     "shell.execute_reply": "2022-09-22T10:11:23.195471Z"
    },
    "papermill": {
     "duration": 0.043952,
     "end_time": "2022-09-22T10:11:23.196241",
     "exception": false,
     "start_time": "2022-09-22T10:11:23.152289",
     "status": "completed"
    },
    "tags": []
   },
   "outputs": [],
   "source": [
    "import mnist"
   ]
  },
  {
   "cell_type": "code",
   "execution_count": 5,
   "id": "a411e44f",
   "metadata": {
    "execution": {
     "iopub.execute_input": "2022-09-22T10:11:23.268293Z",
     "iopub.status.busy": "2022-09-22T10:11:23.261346Z",
     "iopub.status.idle": "2022-09-22T10:11:23.778598Z",
     "shell.execute_reply": "2022-09-22T10:11:23.778057Z"
    },
    "papermill": {
     "duration": 0.556909,
     "end_time": "2022-09-22T10:11:23.778717",
     "exception": false,
     "start_time": "2022-09-22T10:11:23.221808",
     "status": "completed"
    },
    "tags": []
   },
   "outputs": [],
   "source": [
    "train_images = mnist.train_images()\n",
    "train_labels = mnist.train_labels()"
   ]
  },
  {
   "cell_type": "code",
   "execution_count": 6,
   "id": "dceab3a5",
   "metadata": {
    "execution": {
     "iopub.execute_input": "2022-09-22T10:11:23.839286Z",
     "iopub.status.busy": "2022-09-22T10:11:23.838662Z",
     "iopub.status.idle": "2022-09-22T10:11:23.850900Z",
     "shell.execute_reply": "2022-09-22T10:11:23.851465Z"
    },
    "papermill": {
     "duration": 0.04752,
     "end_time": "2022-09-22T10:11:23.851597",
     "exception": false,
     "start_time": "2022-09-22T10:11:23.804077",
     "status": "completed"
    },
    "tags": []
   },
   "outputs": [
    {
     "data": {
      "text/plain": [
       "((60000, 28, 28), (60000,))"
      ]
     },
     "execution_count": 6,
     "metadata": {},
     "output_type": "execute_result"
    }
   ],
   "source": [
    "train_images.shape, train_labels.shape"
   ]
  },
  {
   "cell_type": "code",
   "execution_count": 7,
   "id": "f50dc2bb",
   "metadata": {
    "execution": {
     "iopub.execute_input": "2022-09-22T10:11:23.907037Z",
     "iopub.status.busy": "2022-09-22T10:11:23.906461Z",
     "iopub.status.idle": "2022-09-22T10:11:24.085575Z",
     "shell.execute_reply": "2022-09-22T10:11:24.085020Z"
    },
    "papermill": {
     "duration": 0.2082,
     "end_time": "2022-09-22T10:11:24.085700",
     "exception": false,
     "start_time": "2022-09-22T10:11:23.877500",
     "status": "completed"
    },
    "tags": []
   },
   "outputs": [],
   "source": [
    "test_images = mnist.test_images()\n",
    "test_labels = mnist.test_labels()"
   ]
  },
  {
   "cell_type": "code",
   "execution_count": 8,
   "id": "fc38cf1b",
   "metadata": {
    "execution": {
     "iopub.execute_input": "2022-09-22T10:11:24.145468Z",
     "iopub.status.busy": "2022-09-22T10:11:24.144871Z",
     "iopub.status.idle": "2022-09-22T10:11:24.156532Z",
     "shell.execute_reply": "2022-09-22T10:11:24.156964Z"
    },
    "papermill": {
     "duration": 0.045554,
     "end_time": "2022-09-22T10:11:24.157103",
     "exception": false,
     "start_time": "2022-09-22T10:11:24.111549",
     "status": "completed"
    },
    "tags": []
   },
   "outputs": [
    {
     "data": {
      "text/plain": [
       "((10000, 28, 28), (10000,))"
      ]
     },
     "execution_count": 8,
     "metadata": {},
     "output_type": "execute_result"
    }
   ],
   "source": [
    "test_images.shape, test_labels.shape"
   ]
  },
  {
   "cell_type": "code",
   "execution_count": 9,
   "id": "f9ed8fe0",
   "metadata": {
    "execution": {
     "iopub.execute_input": "2022-09-22T10:11:24.213440Z",
     "iopub.status.busy": "2022-09-22T10:11:24.212850Z",
     "iopub.status.idle": "2022-09-22T10:11:24.350957Z",
     "shell.execute_reply": "2022-09-22T10:11:24.351392Z"
    },
    "papermill": {
     "duration": 0.168664,
     "end_time": "2022-09-22T10:11:24.351533",
     "exception": false,
     "start_time": "2022-09-22T10:11:24.182869",
     "status": "completed"
    },
    "tags": []
   },
   "outputs": [
    {
     "name": "stdout",
     "output_type": "stream",
     "text": [
      "2\n"
     ]
    },
    {
     "data": {
      "text/plain": [
       "<matplotlib.image.AxesImage at 0x7f6ab47fbd30>"
      ]
     },
     "execution_count": 9,
     "metadata": {},
     "output_type": "execute_result"
    },
    {
     "data": {
      "image/png": "[encoded data removed]",
      "text/plain": [
       "<Figure size 432x288 with 1 Axes>"
      ]
     },
     "metadata": {
      "needs_background": "light"
     },
     "output_type": "display_data"
    }
   ],
   "source": [
    "image_index = 7776 # You may select anything up to 60,000\n",
    "print(train_labels[image_index]) \n",
    "plt.imshow(train_images[image_index], cmap='Greys')"
   ]
  },
  {
   "cell_type": "markdown",
   "id": "a8d2388d",
   "metadata": {
    "papermill": {
     "duration": 0.026775,
     "end_time": "2022-09-22T10:11:24.405727",
     "exception": false,
     "start_time": "2022-09-22T10:11:24.378952",
     "status": "completed"
    },
    "tags": []
   },
   "source": [
    "## Filter data to get 3 and 8 out"
   ]
  },
  {
   "cell_type": "code",
   "execution_count": 10,
   "id": "776f7fc7",
   "metadata": {
    "execution": {
     "iopub.execute_input": "2022-09-22T10:11:24.464591Z",
     "iopub.status.busy": "2022-09-22T10:11:24.463883Z",
     "iopub.status.idle": "2022-09-22T10:11:24.483259Z",
     "shell.execute_reply": "2022-09-22T10:11:24.482735Z"
    },
    "papermill": {
     "duration": 0.050867,
     "end_time": "2022-09-22T10:11:24.483378",
     "exception": false,
     "start_time": "2022-09-22T10:11:24.432511",
     "status": "completed"
    },
    "tags": []
   },
   "outputs": [],
   "source": [
    "train_filter = np.where((train_labels == 3 ) | (train_labels == 8))\n",
    "test_filter = np.where((test_labels == 3) | (test_labels == 8))\n",
    "X_train, y_train = train_images[train_filter], train_labels[train_filter]\n",
    "X_test, y_test = test_images[test_filter], test_labels[test_filter]"
   ]
  },
  {
   "cell_type": "markdown",
   "id": "948f0b7e",
   "metadata": {
    "papermill": {
     "duration": 0.027129,
     "end_time": "2022-09-22T10:11:24.537551",
     "exception": false,
     "start_time": "2022-09-22T10:11:24.510422",
     "status": "completed"
    },
    "tags": []
   },
   "source": [
    "We normalize the pizel values in the 0 to 1 range"
   ]
  },
  {
   "cell_type": "code",
   "execution_count": 11,
   "id": "ee4c2166",
   "metadata": {
    "execution": {
     "iopub.execute_input": "2022-09-22T10:11:24.595053Z",
     "iopub.status.busy": "2022-09-22T10:11:24.594462Z",
     "iopub.status.idle": "2022-09-22T10:11:24.641813Z",
     "shell.execute_reply": "2022-09-22T10:11:24.641234Z"
    },
    "papermill": {
     "duration": 0.0777,
     "end_time": "2022-09-22T10:11:24.641943",
     "exception": false,
     "start_time": "2022-09-22T10:11:24.564243",
     "status": "completed"
    },
    "tags": []
   },
   "outputs": [],
   "source": [
    "X_train = X_train/255.\n",
    "X_test = X_test/255."
   ]
  },
  {
   "cell_type": "markdown",
   "id": "ddcf4fab",
   "metadata": {
    "papermill": {
     "duration": 0.027252,
     "end_time": "2022-09-22T10:11:24.696872",
     "exception": false,
     "start_time": "2022-09-22T10:11:24.669620",
     "status": "completed"
    },
    "tags": []
   },
   "source": [
    "And setup the labels as 1 (when the digit is 3) and 0 (when the digit is 8)"
   ]
  },
  {
   "cell_type": "code",
   "execution_count": 12,
   "id": "7dc908f2",
   "metadata": {
    "execution": {
     "iopub.execute_input": "2022-09-22T10:11:24.757441Z",
     "iopub.status.busy": "2022-09-22T10:11:24.756843Z",
     "iopub.status.idle": "2022-09-22T10:11:24.768481Z",
     "shell.execute_reply": "2022-09-22T10:11:24.767876Z"
    },
    "papermill": {
     "duration": 0.044731,
     "end_time": "2022-09-22T10:11:24.768593",
     "exception": false,
     "start_time": "2022-09-22T10:11:24.723862",
     "status": "completed"
    },
    "tags": []
   },
   "outputs": [],
   "source": [
    "y_train = 1*(y_train==3)\n",
    "y_test = 1*(y_test==3)"
   ]
  },
  {
   "cell_type": "code",
   "execution_count": 13,
   "id": "01e4e969",
   "metadata": {
    "execution": {
     "iopub.execute_input": "2022-09-22T10:11:24.829846Z",
     "iopub.status.busy": "2022-09-22T10:11:24.829266Z",
     "iopub.status.idle": "2022-09-22T10:11:24.841072Z",
     "shell.execute_reply": "2022-09-22T10:11:24.840502Z"
    },
    "papermill": {
     "duration": 0.045731,
     "end_time": "2022-09-22T10:11:24.841179",
     "exception": false,
     "start_time": "2022-09-22T10:11:24.795448",
     "status": "completed"
    },
    "tags": []
   },
   "outputs": [
    {
     "data": {
      "text/plain": [
       "((11982, 28, 28), (1984, 28, 28))"
      ]
     },
     "execution_count": 13,
     "metadata": {},
     "output_type": "execute_result"
    }
   ],
   "source": [
    "X_train.shape, X_test.shape"
   ]
  },
  {
   "cell_type": "markdown",
   "id": "5ccf3f85",
   "metadata": {
    "papermill": {
     "duration": 0.027074,
     "end_time": "2022-09-22T10:11:24.895690",
     "exception": false,
     "start_time": "2022-09-22T10:11:24.868616",
     "status": "completed"
    },
    "tags": []
   },
   "source": [
    "We reshape the data to flatten the image pixels into a set of features or co-variates:"
   ]
  },
  {
   "cell_type": "code",
   "execution_count": 14,
   "id": "5286a4a3",
   "metadata": {
    "execution": {
     "iopub.execute_input": "2022-09-22T10:11:24.953847Z",
     "iopub.status.busy": "2022-09-22T10:11:24.953258Z",
     "iopub.status.idle": "2022-09-22T10:11:24.968298Z",
     "shell.execute_reply": "2022-09-22T10:11:24.967785Z"
    },
    "papermill": {
     "duration": 0.045585,
     "end_time": "2022-09-22T10:11:24.968410",
     "exception": false,
     "start_time": "2022-09-22T10:11:24.922825",
     "status": "completed"
    },
    "tags": []
   },
   "outputs": [
    {
     "data": {
      "text/plain": [
       "((11982, 784), (1984, 784))"
      ]
     },
     "execution_count": 14,
     "metadata": {},
     "output_type": "execute_result"
    }
   ],
   "source": [
    "X_train = X_train.reshape(X_train.shape[0], -1)\n",
    "X_test = X_test.reshape(X_test.shape[0], -1)\n",
    "X_train.shape, X_test.shape"
   ]
  },
  {
   "cell_type": "code",
   "execution_count": 15,
   "id": "73c5f88a",
   "metadata": {
    "execution": {
     "iopub.execute_input": "2022-09-22T10:11:25.027653Z",
     "iopub.status.busy": "2022-09-22T10:11:25.027065Z",
     "iopub.status.idle": "2022-09-22T10:11:25.046718Z",
     "shell.execute_reply": "2022-09-22T10:11:25.046179Z"
    },
    "papermill": {
     "duration": 0.051079,
     "end_time": "2022-09-22T10:11:25.046838",
     "exception": false,
     "start_time": "2022-09-22T10:11:24.995759",
     "status": "completed"
    },
    "tags": []
   },
   "outputs": [],
   "source": [
    "#Impoting functions from 'Kudzu'\n",
    "from kudzu.model import Model\n",
    "from kudzu.train import Learner\n",
    "from kudzu.optim import GD\n",
    "from kudzu.data import Data, Sampler,Dataloader\n",
    "\n",
    "from kudzu.callbacks import AccCallback\n",
    "from kudzu.callbacks import ClfCallback\n",
    "\n",
    "from kudzu.loss import MSE\n",
    "\n",
    "from kudzu.layer import Sigmoid,Relu\n",
    "from kudzu.layer import Affine"
   ]
  },
  {
   "cell_type": "markdown",
   "id": "bc01172a",
   "metadata": {
    "papermill": {
     "duration": 0.027195,
     "end_time": "2022-09-22T10:11:25.102371",
     "exception": false,
     "start_time": "2022-09-22T10:11:25.075176",
     "status": "completed"
    },
    "tags": []
   },
   "source": [
    "### Let us create a `Config` class, to store important parameters. \n",
    "This class essentially plays the role of a dictionary."
   ]
  },
  {
   "cell_type": "code",
   "execution_count": 16,
   "id": "978281aa",
   "metadata": {
    "execution": {
     "iopub.execute_input": "2022-09-22T10:11:25.162468Z",
     "iopub.status.busy": "2022-09-22T10:11:25.161876Z",
     "iopub.status.idle": "2022-09-22T10:11:25.174880Z",
     "shell.execute_reply": "2022-09-22T10:11:25.174399Z"
    },
    "papermill": {
     "duration": 0.044005,
     "end_time": "2022-09-22T10:11:25.174991",
     "exception": false,
     "start_time": "2022-09-22T10:11:25.130986",
     "status": "completed"
    },
    "tags": []
   },
   "outputs": [],
   "source": [
    "class Config:\n",
    "    pass\n",
    "config = Config()\n",
    "config.lr = 0.001\n",
    "config.num_epochs = 250\n",
    "config.bs = 50"
   ]
  },
  {
   "cell_type": "markdown",
   "id": "1385fa59",
   "metadata": {
    "papermill": {
     "duration": 0.027449,
     "end_time": "2022-09-22T10:11:25.229809",
     "exception": false,
     "start_time": "2022-09-22T10:11:25.202360",
     "status": "completed"
    },
    "tags": []
   },
   "source": [
    "### Running Models with the Training data\n",
    "Details about the network layers:\n",
    "- A first affine layer has 784 inputs and does 100 affine transforms. These are followed by a Relu\n",
    "- A second affine layer has 100 inputs from the 100 activations of the past layer, and does 100 affine transforms. These are followed by a Relu\n",
    "- A third affine layer has 100 activations and does 2 affine transformations to create an embedding for visualization. There is no non-linearity here.\n",
    "- A final \"logistic regression\" which has an affine transform from 2 inputs to 1 output, which is squeezed through a sigmoid.\n"
   ]
  },
  {
   "cell_type": "code",
   "execution_count": 17,
   "id": "2b9c66db",
   "metadata": {
    "execution": {
     "iopub.execute_input": "2022-09-22T10:11:25.293517Z",
     "iopub.status.busy": "2022-09-22T10:11:25.292903Z",
     "iopub.status.idle": "2022-09-22T10:11:25.303121Z",
     "shell.execute_reply": "2022-09-22T10:11:25.302597Z"
    },
    "papermill": {
     "duration": 0.04618,
     "end_time": "2022-09-22T10:11:25.303240",
     "exception": false,
     "start_time": "2022-09-22T10:11:25.257060",
     "status": "completed"
    },
    "tags": []
   },
   "outputs": [],
   "source": [
    "data = Data(X_train, y_train.reshape(-1,1))\n",
    "sampler = Sampler(data, config.bs, shuffle=True)\n",
    "\n",
    "dl = Dataloader(data, sampler)\n",
    "\n",
    "opt = GD(config.lr)\n",
    "loss = MSE()"
   ]
  },
  {
   "cell_type": "code",
   "execution_count": 18,
   "id": "b275e4c2",
   "metadata": {
    "execution": {
     "iopub.execute_input": "2022-09-22T10:11:25.362482Z",
     "iopub.status.busy": "2022-09-22T10:11:25.361886Z",
     "iopub.status.idle": "2022-09-22T10:11:25.374341Z",
     "shell.execute_reply": "2022-09-22T10:11:25.373751Z"
    },
    "papermill": {
     "duration": 0.043627,
     "end_time": "2022-09-22T10:11:25.374453",
     "exception": false,
     "start_time": "2022-09-22T10:11:25.330826",
     "status": "completed"
    },
    "tags": []
   },
   "outputs": [],
   "source": [
    "training_data_x = X_train\n",
    "testing_data_x = X_test\n",
    "training_data_y = y_train.reshape(-1,1)\n",
    "testing_data_y = y_test.reshape(-1,1)"
   ]
  },
  {
   "cell_type": "code",
   "execution_count": 19,
   "id": "76951160",
   "metadata": {
    "execution": {
     "iopub.execute_input": "2022-09-22T10:11:25.436241Z",
     "iopub.status.busy": "2022-09-22T10:11:25.435624Z",
     "iopub.status.idle": "2022-09-22T10:11:25.450451Z",
     "shell.execute_reply": "2022-09-22T10:11:25.450927Z"
    },
    "papermill": {
     "duration": 0.049195,
     "end_time": "2022-09-22T10:11:25.451059",
     "exception": false,
     "start_time": "2022-09-22T10:11:25.401864",
     "status": "completed"
    },
    "tags": []
   },
   "outputs": [
    {
     "name": "stdout",
     "output_type": "stream",
     "text": [
      "xavier\n",
      "xavier\n",
      "xavier\n",
      "xavier\n",
      "xavier\n"
     ]
    }
   ],
   "source": [
    "layers = [Affine(\"first\", 784, 100), Relu(\"first\"), Affine(\"second\", 100, 100), Relu(\"second\"), Affine(\"third\", 100, 2), Affine(\"last\", 2, 1), Sigmoid(\"last\")]\n",
    "model_nn = Model(layers)\n",
    "model_lr = Model([Affine(\"logits\", 784, 1), Sigmoid(\"sigmoid\")])"
   ]
  },
  {
   "cell_type": "code",
   "execution_count": 20,
   "id": "6eede77a",
   "metadata": {
    "execution": {
     "iopub.execute_input": "2022-09-22T10:11:25.521880Z",
     "iopub.status.busy": "2022-09-22T10:11:25.514698Z",
     "iopub.status.idle": "2022-09-22T10:11:25.524484Z",
     "shell.execute_reply": "2022-09-22T10:11:25.523889Z"
    },
    "papermill": {
     "duration": 0.045888,
     "end_time": "2022-09-22T10:11:25.524595",
     "exception": false,
     "start_time": "2022-09-22T10:11:25.478707",
     "status": "completed"
    },
    "tags": []
   },
   "outputs": [],
   "source": [
    "nn_learner = Learner(loss, model_nn, opt, config.num_epochs)\n",
    "acc_nn = ClfCallback(nn_learner, config.bs, training_data_x , testing_data_x, training_data_y, testing_data_y)\n",
    "nn_learner.set_callbacks([acc_nn])"
   ]
  },
  {
   "cell_type": "code",
   "execution_count": 21,
   "id": "877b6cc7",
   "metadata": {
    "execution": {
     "iopub.execute_input": "2022-09-22T10:11:25.594748Z",
     "iopub.status.busy": "2022-09-22T10:11:25.588713Z",
     "iopub.status.idle": "2022-09-22T10:11:25.596953Z",
     "shell.execute_reply": "2022-09-22T10:11:25.597399Z"
    },
    "papermill": {
     "duration": 0.04546,
     "end_time": "2022-09-22T10:11:25.597523",
     "exception": false,
     "start_time": "2022-09-22T10:11:25.552063",
     "status": "completed"
    },
    "tags": []
   },
   "outputs": [],
   "source": [
    "lr_learner = Learner(loss, model_lr, opt, config.num_epochs)\n",
    "acc_lr = ClfCallback(lr_learner, config.bs, training_data_x , testing_data_x, training_data_y, testing_data_y)\n",
    "lr_learner.set_callbacks([acc_lr])"
   ]
  },
  {
   "cell_type": "code",
   "execution_count": 22,
   "id": "d9b133c3",
   "metadata": {
    "execution": {
     "iopub.execute_input": "2022-09-22T10:11:25.655971Z",
     "iopub.status.busy": "2022-09-22T10:11:25.655399Z",
     "iopub.status.idle": "2022-09-22T10:12:40.175486Z",
     "shell.execute_reply": "2022-09-22T10:12:40.176358Z"
    },
    "papermill": {
     "duration": 74.551459,
     "end_time": "2022-09-22T10:12:40.176511",
     "exception": false,
     "start_time": "2022-09-22T10:11:25.625052",
     "status": "completed"
    },
    "tags": []
   },
   "outputs": [
    {
     "name": "stdout",
     "output_type": "stream",
     "text": [
      "Epoch 0, Loss 0.2397\n",
      "Training Accuracy: 0.6219, Testing Accuracy: 0.6401\n",
      "\n"
     ]
    },
    {
     "name": "stdout",
     "output_type": "stream",
     "text": [
      "Epoch 10, Loss 0.089\n",
      "Training Accuracy: 0.9264, Testing Accuracy: 0.9390\n",
      "\n"
     ]
    },
    {
     "name": "stdout",
     "output_type": "stream",
     "text": [
      "Epoch 20, Loss 0.0541\n",
      "Training Accuracy: 0.9460, Testing Accuracy: 0.9561\n",
      "\n"
     ]
    },
    {
     "name": "stdout",
     "output_type": "stream",
     "text": [
      "Epoch 30, Loss 0.0427\n",
      "Training Accuracy: 0.9546, Testing Accuracy: 0.9657\n",
      "\n"
     ]
    },
    {
     "name": "stdout",
     "output_type": "stream",
     "text": [
      "Epoch 40, Loss 0.0371\n",
      "Training Accuracy: 0.9592, Testing Accuracy: 0.9677\n",
      "\n"
     ]
    },
    {
     "name": "stdout",
     "output_type": "stream",
     "text": [
      "Epoch 50, Loss 0.0336\n",
      "Training Accuracy: 0.9625, Testing Accuracy: 0.9688\n",
      "\n"
     ]
    },
    {
     "name": "stdout",
     "output_type": "stream",
     "text": [
      "Epoch 60, Loss 0.0312\n",
      "Training Accuracy: 0.9649, Testing Accuracy: 0.9688\n",
      "\n"
     ]
    },
    {
     "name": "stdout",
     "output_type": "stream",
     "text": [
      "Epoch 70, Loss 0.0294\n",
      "Training Accuracy: 0.9666, Testing Accuracy: 0.9698\n",
      "\n"
     ]
    },
    {
     "name": "stdout",
     "output_type": "stream",
     "text": [
      "Epoch 80, Loss 0.028\n",
      "Training Accuracy: 0.9683, Testing Accuracy: 0.9698\n",
      "\n"
     ]
    },
    {
     "name": "stdout",
     "output_type": "stream",
     "text": [
      "Epoch 90, Loss 0.0268\n",
      "Training Accuracy: 0.9693, Testing Accuracy: 0.9698\n",
      "\n"
     ]
    },
    {
     "name": "stdout",
     "output_type": "stream",
     "text": [
      "Epoch 100, Loss 0.0257\n",
      "Training Accuracy: 0.9708, Testing Accuracy: 0.9698\n",
      "\n"
     ]
    },
    {
     "name": "stdout",
     "output_type": "stream",
     "text": [
      "Epoch 110, Loss 0.0249\n",
      "Training Accuracy: 0.9718, Testing Accuracy: 0.9693\n",
      "\n"
     ]
    },
    {
     "name": "stdout",
     "output_type": "stream",
     "text": [
      "Epoch 120, Loss 0.0241\n",
      "Training Accuracy: 0.9725, Testing Accuracy: 0.9698\n",
      "\n"
     ]
    },
    {
     "name": "stdout",
     "output_type": "stream",
     "text": [
      "Epoch 130, Loss 0.0234\n",
      "Training Accuracy: 0.9729, Testing Accuracy: 0.9723\n",
      "\n"
     ]
    },
    {
     "name": "stdout",
     "output_type": "stream",
     "text": [
      "Epoch 140, Loss 0.0227\n",
      "Training Accuracy: 0.9737, Testing Accuracy: 0.9723\n",
      "\n"
     ]
    },
    {
     "name": "stdout",
     "output_type": "stream",
     "text": [
      "Epoch 150, Loss 0.0222\n",
      "Training Accuracy: 0.9742, Testing Accuracy: 0.9728\n",
      "\n"
     ]
    },
    {
     "name": "stdout",
     "output_type": "stream",
     "text": [
      "Epoch 160, Loss 0.0216\n",
      "Training Accuracy: 0.9748, Testing Accuracy: 0.9723\n",
      "\n"
     ]
    },
    {
     "name": "stdout",
     "output_type": "stream",
     "text": [
      "Epoch 170, Loss 0.0211\n",
      "Training Accuracy: 0.9760, Testing Accuracy: 0.9723\n",
      "\n"
     ]
    },
    {
     "name": "stdout",
     "output_type": "stream",
     "text": [
      "Epoch 180, Loss 0.0206\n",
      "Training Accuracy: 0.9766, Testing Accuracy: 0.9723\n",
      "\n"
     ]
    },
    {
     "name": "stdout",
     "output_type": "stream",
     "text": [
      "Epoch 190, Loss 0.0202\n",
      "Training Accuracy: 0.9774, Testing Accuracy: 0.9728\n",
      "\n"
     ]
    },
    {
     "name": "stdout",
     "output_type": "stream",
     "text": [
      "Epoch 200, Loss 0.0198\n",
      "Training Accuracy: 0.9777, Testing Accuracy: 0.9728\n",
      "\n"
     ]
    },
    {
     "name": "stdout",
     "output_type": "stream",
     "text": [
      "Epoch 210, Loss 0.0193\n",
      "Training Accuracy: 0.9784, Testing Accuracy: 0.9733\n",
      "\n"
     ]
    },
    {
     "name": "stdout",
     "output_type": "stream",
     "text": [
      "Epoch 220, Loss 0.0189\n",
      "Training Accuracy: 0.9789, Testing Accuracy: 0.9733\n",
      "\n"
     ]
    },
    {
     "name": "stdout",
     "output_type": "stream",
     "text": [
      "Epoch 230, Loss 0.0185\n",
      "Training Accuracy: 0.9794, Testing Accuracy: 0.9733\n",
      "\n"
     ]
    },
    {
     "name": "stdout",
     "output_type": "stream",
     "text": [
      "Epoch 240, Loss 0.0182\n",
      "Training Accuracy: 0.9803, Testing Accuracy: 0.9743\n",
      "\n"
     ]
    },
    {
     "data": {
      "text/plain": [
       "0.009350768625315645"
      ]
     },
     "execution_count": 22,
     "metadata": {},
     "output_type": "execute_result"
    }
   ],
   "source": [
    "nn_learner.train_loop(dl)"
   ]
  },
  {
   "cell_type": "code",
   "execution_count": 23,
   "id": "e0163366",
   "metadata": {
    "execution": {
     "iopub.execute_input": "2022-09-22T10:12:40.257498Z",
     "iopub.status.busy": "2022-09-22T10:12:40.256910Z",
     "iopub.status.idle": "2022-09-22T10:12:54.078100Z",
     "shell.execute_reply": "2022-09-22T10:12:54.078923Z"
    },
    "papermill": {
     "duration": 13.86715,
     "end_time": "2022-09-22T10:12:54.079068",
     "exception": false,
     "start_time": "2022-09-22T10:12:40.211918",
     "status": "completed"
    },
    "tags": []
   },
   "outputs": [
    {
     "name": "stdout",
     "output_type": "stream",
     "text": [
      "Epoch 0, Loss 0.2403\n",
      "Training Accuracy: 0.7033, Testing Accuracy: 0.7359\n",
      "\n"
     ]
    },
    {
     "name": "stdout",
     "output_type": "stream",
     "text": [
      "Epoch 10, Loss 0.1021\n",
      "Training Accuracy: 0.9141, Testing Accuracy: 0.9264\n",
      "\n"
     ]
    },
    {
     "name": "stdout",
     "output_type": "stream",
     "text": [
      "Epoch 20, Loss 0.0781\n",
      "Training Accuracy: 0.9306, Testing Accuracy: 0.9380\n",
      "\n"
     ]
    },
    {
     "name": "stdout",
     "output_type": "stream",
     "text": [
      "Epoch 30, Loss 0.0672\n",
      "Training Accuracy: 0.9379, Testing Accuracy: 0.9441\n",
      "\n"
     ]
    },
    {
     "name": "stdout",
     "output_type": "stream",
     "text": [
      "Epoch 40, Loss 0.0608\n",
      "Training Accuracy: 0.9420, Testing Accuracy: 0.9501\n",
      "\n"
     ]
    },
    {
     "name": "stdout",
     "output_type": "stream",
     "text": [
      "Epoch 50, Loss 0.0564\n",
      "Training Accuracy: 0.9459, Testing Accuracy: 0.9541\n",
      "\n"
     ]
    },
    {
     "name": "stdout",
     "output_type": "stream",
     "text": [
      "Epoch 60, Loss 0.0532\n",
      "Training Accuracy: 0.9473, Testing Accuracy: 0.9561\n",
      "\n"
     ]
    },
    {
     "name": "stdout",
     "output_type": "stream",
     "text": [
      "Epoch 70, Loss 0.0507\n",
      "Training Accuracy: 0.9500, Testing Accuracy: 0.9582\n",
      "\n"
     ]
    },
    {
     "name": "stdout",
     "output_type": "stream",
     "text": [
      "Epoch 80, Loss 0.0487\n",
      "Training Accuracy: 0.9513, Testing Accuracy: 0.9592\n",
      "\n"
     ]
    },
    {
     "name": "stdout",
     "output_type": "stream",
     "text": [
      "Epoch 90, Loss 0.0471\n",
      "Training Accuracy: 0.9523, Testing Accuracy: 0.9612\n",
      "\n"
     ]
    },
    {
     "name": "stdout",
     "output_type": "stream",
     "text": [
      "Epoch 100, Loss 0.0457\n",
      "Training Accuracy: 0.9536, Testing Accuracy: 0.9622\n",
      "\n"
     ]
    },
    {
     "name": "stdout",
     "output_type": "stream",
     "text": [
      "Epoch 110, Loss 0.0446\n",
      "Training Accuracy: 0.9548, Testing Accuracy: 0.9622\n",
      "\n"
     ]
    },
    {
     "name": "stdout",
     "output_type": "stream",
     "text": [
      "Epoch 120, Loss 0.0435\n",
      "Training Accuracy: 0.9553, Testing Accuracy: 0.9622\n",
      "\n"
     ]
    },
    {
     "name": "stdout",
     "output_type": "stream",
     "text": [
      "Epoch 130, Loss 0.0426\n",
      "Training Accuracy: 0.9562, Testing Accuracy: 0.9627\n",
      "\n"
     ]
    },
    {
     "name": "stdout",
     "output_type": "stream",
     "text": [
      "Epoch 140, Loss 0.0418\n",
      "Training Accuracy: 0.9571, Testing Accuracy: 0.9627\n",
      "\n"
     ]
    },
    {
     "name": "stdout",
     "output_type": "stream",
     "text": [
      "Epoch 150, Loss 0.0411\n",
      "Training Accuracy: 0.9577, Testing Accuracy: 0.9637\n",
      "\n"
     ]
    },
    {
     "name": "stdout",
     "output_type": "stream",
     "text": [
      "Epoch 160, Loss 0.0404\n",
      "Training Accuracy: 0.9582, Testing Accuracy: 0.9637\n",
      "\n"
     ]
    },
    {
     "name": "stdout",
     "output_type": "stream",
     "text": [
      "Epoch 170, Loss 0.0399\n",
      "Training Accuracy: 0.9586, Testing Accuracy: 0.9647\n",
      "\n"
     ]
    },
    {
     "name": "stdout",
     "output_type": "stream",
     "text": [
      "Epoch 180, Loss 0.0393\n",
      "Training Accuracy: 0.9589, Testing Accuracy: 0.9647\n",
      "\n"
     ]
    },
    {
     "name": "stdout",
     "output_type": "stream",
     "text": [
      "Epoch 190, Loss 0.0388\n",
      "Training Accuracy: 0.9595, Testing Accuracy: 0.9642\n",
      "\n"
     ]
    },
    {
     "name": "stdout",
     "output_type": "stream",
     "text": [
      "Epoch 200, Loss 0.0383\n",
      "Training Accuracy: 0.9597, Testing Accuracy: 0.9642\n",
      "\n"
     ]
    },
    {
     "name": "stdout",
     "output_type": "stream",
     "text": [
      "Epoch 210, Loss 0.0379\n",
      "Training Accuracy: 0.9595, Testing Accuracy: 0.9642\n",
      "\n"
     ]
    },
    {
     "name": "stdout",
     "output_type": "stream",
     "text": [
      "Epoch 220, Loss 0.0375\n",
      "Training Accuracy: 0.9600, Testing Accuracy: 0.9632\n",
      "\n"
     ]
    },
    {
     "name": "stdout",
     "output_type": "stream",
     "text": [
      "Epoch 230, Loss 0.0371\n",
      "Training Accuracy: 0.9604, Testing Accuracy: 0.9637\n",
      "\n"
     ]
    },
    {
     "name": "stdout",
     "output_type": "stream",
     "text": [
      "Epoch 240, Loss 0.0368\n",
      "Training Accuracy: 0.9606, Testing Accuracy: 0.9637\n",
      "\n"
     ]
    },
    {
     "data": {
      "text/plain": [
       "0.04120285928045882"
      ]
     },
     "execution_count": 23,
     "metadata": {},
     "output_type": "execute_result"
    }
   ],
   "source": [
    "lr_learner.train_loop(dl)"
   ]
  },
  {
   "cell_type": "code",
   "execution_count": 24,
   "id": "ca410940",
   "metadata": {
    "execution": {
     "iopub.execute_input": "2022-09-22T10:12:54.173354Z",
     "iopub.status.busy": "2022-09-22T10:12:54.172741Z",
     "iopub.status.idle": "2022-09-22T10:12:54.402946Z",
     "shell.execute_reply": "2022-09-22T10:12:54.401599Z"
    },
    "papermill": {
     "duration": 0.281623,
     "end_time": "2022-09-22T10:12:54.403080",
     "exception": false,
     "start_time": "2022-09-22T10:12:54.121457",
     "status": "completed"
    },
    "tags": []
   },
   "outputs": [
    {
     "data": {
      "text/plain": [
       "<matplotlib.legend.Legend at 0x7f6ab436a358>"
      ]
     },
     "execution_count": 24,
     "metadata": {},
     "output_type": "execute_result"
    },
    {
     "data": {
      "image/png": "[encoded data removed]",
      "text/plain": [
       "<Figure size 1080x720 with 1 Axes>"
      ]
     },
     "metadata": {
      "needs_background": "light"
     },
     "output_type": "display_data"
    }
   ],
   "source": [
    "#comparing the results of NN and LR\n",
    "plt.figure(figsize=(15,10))\n",
    "\n",
    "# Neural Network plots\n",
    "plt.plot(acc_nn.accuracies, 'r-', label = \"Training Accuracies - NN\")\n",
    "plt.plot(acc_nn.test_accuracies, 'g-', label = \"Testing Accuracies - NN\")\n",
    "\n",
    "# Logistic Regression plots\n",
    "plt.plot(acc_lr.accuracies, 'k-', label = \"Training Accuracies - LR\")\n",
    "plt.plot(acc_lr.test_accuracies, 'b-', label = \"Testing Accuracies - LR\")\n",
    "plt.legend()"
   ]
  },
  {
   "cell_type": "markdown",
   "id": "80dfb35c",
   "metadata": {
    "papermill": {
     "duration": 0.042535,
     "end_time": "2022-09-22T10:12:54.488615",
     "exception": false,
     "start_time": "2022-09-22T10:12:54.446080",
     "status": "completed"
    },
    "tags": []
   },
   "source": [
    "#### Plotting the outputs of this layer of the NN.\n"
   ]
  },
  {
   "cell_type": "code",
   "execution_count": 25,
   "id": "45eb2ff5",
   "metadata": {
    "execution": {
     "iopub.execute_input": "2022-09-22T10:12:54.578504Z",
     "iopub.status.busy": "2022-09-22T10:12:54.577900Z",
     "iopub.status.idle": "2022-09-22T10:12:54.597230Z",
     "shell.execute_reply": "2022-09-22T10:12:54.596761Z"
    },
    "papermill": {
     "duration": 0.066284,
     "end_time": "2022-09-22T10:12:54.597349",
     "exception": false,
     "start_time": "2022-09-22T10:12:54.531065",
     "status": "completed"
    },
    "tags": []
   },
   "outputs": [],
   "source": [
    "new_model = Model(layers[:-2])\n",
    "testing_plot = new_model(testing_data_x)"
   ]
  },
  {
   "cell_type": "code",
   "execution_count": 26,
   "id": "4c0a5485",
   "metadata": {
    "execution": {
     "iopub.execute_input": "2022-09-22T10:12:54.692888Z",
     "iopub.status.busy": "2022-09-22T10:12:54.687995Z",
     "iopub.status.idle": "2022-09-22T10:12:54.878083Z",
     "shell.execute_reply": "2022-09-22T10:12:54.877592Z"
    },
    "papermill": {
     "duration": 0.23806,
     "end_time": "2022-09-22T10:12:54.878202",
     "exception": false,
     "start_time": "2022-09-22T10:12:54.640142",
     "status": "completed"
    },
    "tags": []
   },
   "outputs": [
    {
     "data": {
      "text/plain": [
       "Text(0.5, 1.0, 'Outputs')"
      ]
     },
     "execution_count": 26,
     "metadata": {},
     "output_type": "execute_result"
    },
    {
     "data": {
      "image/png": "[encoded data removed]",
      "text/plain": [
       "<Figure size 576x504 with 1 Axes>"
      ]
     },
     "metadata": {
      "needs_background": "light"
     },
     "output_type": "display_data"
    }
   ],
   "source": [
    "# Plotting the scatter plot of points and color coding by class\n",
    "plt.figure(figsize=(8,7))\n",
    "plt.scatter(testing_plot[:,0], testing_plot[:,1], alpha = 0.1, c = y_test.ravel());\n",
    "plt.title('Outputs')"
   ]
  },
  {
   "cell_type": "markdown",
   "id": "a74fcf8f",
   "metadata": {
    "papermill": {
     "duration": 0.044616,
     "end_time": "2022-09-22T10:12:54.967536",
     "exception": false,
     "start_time": "2022-09-22T10:12:54.922920",
     "status": "completed"
    },
    "tags": []
   },
   "source": [
    "Probability contours"
   ]
  },
  {
   "cell_type": "code",
   "execution_count": 27,
   "id": "d0afc8e3",
   "metadata": {
    "execution": {
     "iopub.execute_input": "2022-09-22T10:12:55.087630Z",
     "iopub.status.busy": "2022-09-22T10:12:55.087052Z",
     "iopub.status.idle": "2022-09-22T10:12:55.098705Z",
     "shell.execute_reply": "2022-09-22T10:12:55.099151Z"
    },
    "papermill": {
     "duration": 0.087109,
     "end_time": "2022-09-22T10:12:55.099275",
     "exception": false,
     "start_time": "2022-09-22T10:12:55.012166",
     "status": "completed"
    },
    "tags": []
   },
   "outputs": [],
   "source": [
    "model_prob = Model(layers[-2:]) "
   ]
  },
  {
   "cell_type": "code",
   "execution_count": 28,
   "id": "9b96e238",
   "metadata": {
    "execution": {
     "iopub.execute_input": "2022-09-22T10:12:55.198200Z",
     "iopub.status.busy": "2022-09-22T10:12:55.197586Z",
     "iopub.status.idle": "2022-09-22T10:12:55.208686Z",
     "shell.execute_reply": "2022-09-22T10:12:55.209113Z"
    },
    "papermill": {
     "duration": 0.065553,
     "end_time": "2022-09-22T10:12:55.209246",
     "exception": false,
     "start_time": "2022-09-22T10:12:55.143693",
     "status": "completed"
    },
    "tags": []
   },
   "outputs": [],
   "source": [
    "#creating the x and y ranges according to the above generated plot.\n",
    "x_range = np.linspace(-4, 1, 100) \n",
    "y_range = np.linspace(-6, 6, 100) \n",
    "x_grid, y_grid = np.meshgrid(x_range, y_range) # x_grid and y_grig are of size 100 X 100\n",
    "\n",
    "# converting x_grid and y_grid to continuous arrays\n",
    "x_gridflat = np.ravel(x_grid)\n",
    "y_gridflat = np.ravel(y_grid)\n",
    "\n",
    "# The last layer of the current model takes two columns as input. Hence transpose of np.vstack() is required.\n",
    "X = np.vstack((x_gridflat, y_gridflat)).T\n",
    "\n",
    "prob_contour = model_prob(X).reshape(100,100) "
   ]
  },
  {
   "cell_type": "code",
   "execution_count": 29,
   "id": "da72499a",
   "metadata": {
    "execution": {
     "iopub.execute_input": "2022-09-22T10:12:55.305357Z",
     "iopub.status.busy": "2022-09-22T10:12:55.304778Z",
     "iopub.status.idle": "2022-09-22T10:12:55.550460Z",
     "shell.execute_reply": "2022-09-22T10:12:55.549954Z"
    },
    "papermill": {
     "duration": 0.295617,
     "end_time": "2022-09-22T10:12:55.550577",
     "exception": false,
     "start_time": "2022-09-22T10:12:55.254960",
     "status": "completed"
    },
    "tags": []
   },
   "outputs": [
    {
     "data": {
      "image/png": "[encoded data removed]",
      "text/plain": [
       "<Figure size 720x648 with 1 Axes>"
      ]
     },
     "metadata": {
      "needs_background": "light"
     },
     "output_type": "display_data"
    }
   ],
   "source": [
    "plt.figure(figsize=(10,9))\n",
    "plt.scatter(testing_plot[:,0], testing_plot[:,1], alpha = 0.1, c = y_test.ravel())\n",
    "contours = plt.contour(x_grid,y_grid,prob_contour)\n",
    "plt.title('Probability Contours')\n",
    "plt.clabel(contours, inline = True );"
   ]
  },
  {
   "cell_type": "code",
   "execution_count": null,
   "id": "e81b4ac7",
   "metadata": {
    "papermill": {
     "duration": 0.047687,
     "end_time": "2022-09-22T10:12:55.646027",
     "exception": false,
     "start_time": "2022-09-22T10:12:55.598340",
     "status": "completed"
    },
    "tags": []
   },
   "outputs": [],
   "source": []
  }
 ],
 "metadata": {
  "kernelspec": {
   "display_name": "Python 3",
   "language": "python",
   "name": "python3"
  },
  "language_info": {
   "codemirror_mode": {
    "name": "ipython",
    "version": 3
   },
   "file_extension": ".py",
   "mimetype": "text/x-python",
   "name": "python",
   "nbconvert_exporter": "python",
   "pygments_lexer": "ipython3",
   "version": "3.6.15"
  },
  "papermill": {
   "default_parameters": {},
   "duration": 96.386979,
   "end_time": "2022-09-22T10:12:56.112717",
   "environment_variables": {},
   "exception": null,
   "input_path": "2020-08-11-part2.ipynb",
   "output_path": "2020-08-11-part2.ipynb",
   "parameters": {},
   "start_time": "2022-09-22T10:11:19.725738",
   "version": "2.3.3"
  }
 },
 "nbformat": 4,
 "nbformat_minor": 5
}