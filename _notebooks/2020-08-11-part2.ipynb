{
 "cells": [
  {
   "cell_type": "markdown",
   "id": "98380cd3",
   "metadata": {
    "papermill": {
     "duration": 0.037866,
     "end_time": "2022-03-09T20:10:14.405006",
     "exception": false,
     "start_time": "2022-03-09T20:10:14.367140",
     "status": "completed"
    },
    "tags": []
   },
   "source": [
    "# Distinguish Your Own Digits (DYOD)"
   ]
  },
  {
   "cell_type": "markdown",
   "id": "ef31240d",
   "metadata": {
    "papermill": {
     "duration": 0.033795,
     "end_time": "2022-03-09T20:10:14.472035",
     "exception": false,
     "start_time": "2022-03-09T20:10:14.438240",
     "status": "completed"
    },
    "tags": []
   },
   "source": [
    "You are going to write a classifier that distinguishes between the number 3 and number 8."
   ]
  },
  {
   "cell_type": "code",
   "execution_count": 1,
   "id": "b15c8646",
   "metadata": {
    "execution": {
     "iopub.execute_input": "2022-03-09T20:10:14.558336Z",
     "iopub.status.busy": "2022-03-09T20:10:14.557607Z",
     "iopub.status.idle": "2022-03-09T20:10:14.569631Z",
     "shell.execute_reply": "2022-03-09T20:10:14.569026Z"
    },
    "papermill": {
     "duration": 0.055634,
     "end_time": "2022-03-09T20:10:14.569794",
     "exception": false,
     "start_time": "2022-03-09T20:10:14.514160",
     "status": "completed"
    },
    "tags": []
   },
   "outputs": [],
   "source": [
    "%load_ext autoreload\n",
    "%autoreload 2"
   ]
  },
  {
   "cell_type": "code",
   "execution_count": 2,
   "id": "22ef38dc",
   "metadata": {
    "execution": {
     "iopub.execute_input": "2022-03-09T20:10:14.641967Z",
     "iopub.status.busy": "2022-03-09T20:10:14.639896Z",
     "iopub.status.idle": "2022-03-09T20:10:15.415476Z",
     "shell.execute_reply": "2022-03-09T20:10:15.414274Z"
    },
    "papermill": {
     "duration": 0.812822,
     "end_time": "2022-03-09T20:10:15.415634",
     "exception": false,
     "start_time": "2022-03-09T20:10:14.602812",
     "status": "completed"
    },
    "tags": []
   },
   "outputs": [],
   "source": [
    "%matplotlib inline\n",
    "import numpy as np\n",
    "import matplotlib.pyplot as plt\n",
    "import pandas as pd"
   ]
  },
  {
   "cell_type": "markdown",
   "id": "ba036198",
   "metadata": {
    "papermill": {
     "duration": 0.033682,
     "end_time": "2022-03-09T20:10:15.481256",
     "exception": false,
     "start_time": "2022-03-09T20:10:15.447574",
     "status": "completed"
    },
    "tags": []
   },
   "source": [
    "From the command line run `pip install mnist`. This is a library that will help you bring down the mnist dataset. If you run this from a notebook, you need to put  `!pip install mnist` in a cell by itself."
   ]
  },
  {
   "cell_type": "code",
   "execution_count": 3,
   "id": "bb6ad8a1",
   "metadata": {
    "execution": {
     "iopub.execute_input": "2022-03-09T20:10:15.550534Z",
     "iopub.status.busy": "2022-03-09T20:10:15.549794Z",
     "iopub.status.idle": "2022-03-09T20:10:17.652892Z",
     "shell.execute_reply": "2022-03-09T20:10:17.651951Z"
    },
    "papermill": {
     "duration": 2.140492,
     "end_time": "2022-03-09T20:10:17.653082",
     "exception": false,
     "start_time": "2022-03-09T20:10:15.512590",
     "status": "completed"
    },
    "tags": []
   },
   "outputs": [
    {
     "name": "stdout",
     "output_type": "stream",
     "text": [
      "Collecting mnist\r\n"
     ]
    },
    {
     "name": "stdout",
     "output_type": "stream",
     "text": [
      "  Downloading mnist-0.2.2-py2.py3-none-any.whl (3.5 kB)\r\n",
      "Requirement already satisfied: numpy in /opt/hostedtoolcache/Python/3.6.15/x64/lib/python3.6/site-packages (from mnist) (1.19.5)\r\n"
     ]
    },
    {
     "name": "stdout",
     "output_type": "stream",
     "text": [
      "Installing collected packages: mnist\r\n"
     ]
    },
    {
     "name": "stdout",
     "output_type": "stream",
     "text": [
      "Successfully installed mnist-0.2.2\r\n"
     ]
    }
   ],
   "source": [
    "!pip install mnist"
   ]
  },
  {
   "cell_type": "markdown",
   "id": "69df9c9a",
   "metadata": {
    "papermill": {
     "duration": 0.032463,
     "end_time": "2022-03-09T20:10:17.719417",
     "exception": false,
     "start_time": "2022-03-09T20:10:17.686954",
     "status": "completed"
    },
    "tags": []
   },
   "source": [
    "## Preparing the Data"
   ]
  },
  {
   "cell_type": "code",
   "execution_count": 4,
   "id": "7f69d806",
   "metadata": {
    "execution": {
     "iopub.execute_input": "2022-03-09T20:10:17.787575Z",
     "iopub.status.busy": "2022-03-09T20:10:17.786910Z",
     "iopub.status.idle": "2022-03-09T20:10:17.803544Z",
     "shell.execute_reply": "2022-03-09T20:10:17.802902Z"
    },
    "papermill": {
     "duration": 0.053089,
     "end_time": "2022-03-09T20:10:17.803677",
     "exception": false,
     "start_time": "2022-03-09T20:10:17.750588",
     "status": "completed"
    },
    "tags": []
   },
   "outputs": [],
   "source": [
    "import mnist"
   ]
  },
  {
   "cell_type": "code",
   "execution_count": 5,
   "id": "a411e44f",
   "metadata": {
    "execution": {
     "iopub.execute_input": "2022-03-09T20:10:17.873368Z",
     "iopub.status.busy": "2022-03-09T20:10:17.872757Z",
     "iopub.status.idle": "2022-03-09T20:10:18.513176Z",
     "shell.execute_reply": "2022-03-09T20:10:18.512551Z"
    },
    "papermill": {
     "duration": 0.676564,
     "end_time": "2022-03-09T20:10:18.513322",
     "exception": false,
     "start_time": "2022-03-09T20:10:17.836758",
     "status": "completed"
    },
    "tags": []
   },
   "outputs": [],
   "source": [
    "train_images = mnist.train_images()\n",
    "train_labels = mnist.train_labels()"
   ]
  },
  {
   "cell_type": "code",
   "execution_count": 6,
   "id": "dceab3a5",
   "metadata": {
    "execution": {
     "iopub.execute_input": "2022-03-09T20:10:18.586978Z",
     "iopub.status.busy": "2022-03-09T20:10:18.586295Z",
     "iopub.status.idle": "2022-03-09T20:10:18.605600Z",
     "shell.execute_reply": "2022-03-09T20:10:18.605040Z"
    },
    "papermill": {
     "duration": 0.058832,
     "end_time": "2022-03-09T20:10:18.605728",
     "exception": false,
     "start_time": "2022-03-09T20:10:18.546896",
     "status": "completed"
    },
    "tags": []
   },
   "outputs": [
    {
     "data": {
      "text/plain": [
       "((60000, 28, 28), (60000,))"
      ]
     },
     "execution_count": 6,
     "metadata": {},
     "output_type": "execute_result"
    }
   ],
   "source": [
    "train_images.shape, train_labels.shape"
   ]
  },
  {
   "cell_type": "code",
   "execution_count": 7,
   "id": "f50dc2bb",
   "metadata": {
    "execution": {
     "iopub.execute_input": "2022-03-09T20:10:18.675228Z",
     "iopub.status.busy": "2022-03-09T20:10:18.674469Z",
     "iopub.status.idle": "2022-03-09T20:10:18.866067Z",
     "shell.execute_reply": "2022-03-09T20:10:18.865404Z"
    },
    "papermill": {
     "duration": 0.228187,
     "end_time": "2022-03-09T20:10:18.866214",
     "exception": false,
     "start_time": "2022-03-09T20:10:18.638027",
     "status": "completed"
    },
    "tags": []
   },
   "outputs": [],
   "source": [
    "test_images = mnist.test_images()\n",
    "test_labels = mnist.test_labels()"
   ]
  },
  {
   "cell_type": "code",
   "execution_count": 8,
   "id": "fc38cf1b",
   "metadata": {
    "execution": {
     "iopub.execute_input": "2022-03-09T20:10:18.934769Z",
     "iopub.status.busy": "2022-03-09T20:10:18.933931Z",
     "iopub.status.idle": "2022-03-09T20:10:18.948228Z",
     "shell.execute_reply": "2022-03-09T20:10:18.949049Z"
    },
    "papermill": {
     "duration": 0.051055,
     "end_time": "2022-03-09T20:10:18.949251",
     "exception": false,
     "start_time": "2022-03-09T20:10:18.898196",
     "status": "completed"
    },
    "tags": []
   },
   "outputs": [
    {
     "data": {
      "text/plain": [
       "((10000, 28, 28), (10000,))"
      ]
     },
     "execution_count": 8,
     "metadata": {},
     "output_type": "execute_result"
    }
   ],
   "source": [
    "test_images.shape, test_labels.shape"
   ]
  },
  {
   "cell_type": "code",
   "execution_count": 9,
   "id": "f9ed8fe0",
   "metadata": {
    "execution": {
     "iopub.execute_input": "2022-03-09T20:10:19.016419Z",
     "iopub.status.busy": "2022-03-09T20:10:19.015848Z",
     "iopub.status.idle": "2022-03-09T20:10:19.217459Z",
     "shell.execute_reply": "2022-03-09T20:10:19.216907Z"
    },
    "papermill": {
     "duration": 0.237508,
     "end_time": "2022-03-09T20:10:19.217606",
     "exception": false,
     "start_time": "2022-03-09T20:10:18.980098",
     "status": "completed"
    },
    "tags": []
   },
   "outputs": [
    {
     "name": "stdout",
     "output_type": "stream",
     "text": [
      "2\n"
     ]
    },
    {
     "data": {
      "text/plain": [
       "<matplotlib.image.AxesImage at 0x7fbcc28a65f8>"
      ]
     },
     "execution_count": 9,
     "metadata": {},
     "output_type": "execute_result"
    },
    {
     "data": {
      "image/png": "[encoded data removed]",
      "text/plain": [
       "<Figure size 432x288 with 1 Axes>"
      ]
     },
     "metadata": {
      "needs_background": "light"
     },
     "output_type": "display_data"
    }
   ],
   "source": [
    "image_index = 7776 # You may select anything up to 60,000\n",
    "print(train_labels[image_index]) \n",
    "plt.imshow(train_images[image_index], cmap='Greys')"
   ]
  },
  {
   "cell_type": "markdown",
   "id": "a8d2388d",
   "metadata": {
    "papermill": {
     "duration": 0.033973,
     "end_time": "2022-03-09T20:10:19.287492",
     "exception": false,
     "start_time": "2022-03-09T20:10:19.253519",
     "status": "completed"
    },
    "tags": []
   },
   "source": [
    "## Filter data to get 3 and 8 out"
   ]
  },
  {
   "cell_type": "code",
   "execution_count": 10,
   "id": "776f7fc7",
   "metadata": {
    "execution": {
     "iopub.execute_input": "2022-03-09T20:10:19.366904Z",
     "iopub.status.busy": "2022-03-09T20:10:19.366148Z",
     "iopub.status.idle": "2022-03-09T20:10:19.383365Z",
     "shell.execute_reply": "2022-03-09T20:10:19.382795Z"
    },
    "papermill": {
     "duration": 0.0615,
     "end_time": "2022-03-09T20:10:19.383561",
     "exception": false,
     "start_time": "2022-03-09T20:10:19.322061",
     "status": "completed"
    },
    "tags": []
   },
   "outputs": [],
   "source": [
    "train_filter = np.where((train_labels == 3 ) | (train_labels == 8))\n",
    "test_filter = np.where((test_labels == 3) | (test_labels == 8))\n",
    "X_train, y_train = train_images[train_filter], train_labels[train_filter]\n",
    "X_test, y_test = test_images[test_filter], test_labels[test_filter]"
   ]
  },
  {
   "cell_type": "markdown",
   "id": "948f0b7e",
   "metadata": {
    "papermill": {
     "duration": 0.034248,
     "end_time": "2022-03-09T20:10:19.452657",
     "exception": false,
     "start_time": "2022-03-09T20:10:19.418409",
     "status": "completed"
    },
    "tags": []
   },
   "source": [
    "We normalize the pizel values in the 0 to 1 range"
   ]
  },
  {
   "cell_type": "code",
   "execution_count": 11,
   "id": "ee4c2166",
   "metadata": {
    "execution": {
     "iopub.execute_input": "2022-03-09T20:10:19.526163Z",
     "iopub.status.busy": "2022-03-09T20:10:19.525377Z",
     "iopub.status.idle": "2022-03-09T20:10:19.588867Z",
     "shell.execute_reply": "2022-03-09T20:10:19.588292Z"
    },
    "papermill": {
     "duration": 0.101103,
     "end_time": "2022-03-09T20:10:19.589074",
     "exception": false,
     "start_time": "2022-03-09T20:10:19.487971",
     "status": "completed"
    },
    "tags": []
   },
   "outputs": [],
   "source": [
    "X_train = X_train/255.\n",
    "X_test = X_test/255."
   ]
  },
  {
   "cell_type": "markdown",
   "id": "ddcf4fab",
   "metadata": {
    "papermill": {
     "duration": 0.037004,
     "end_time": "2022-03-09T20:10:19.662172",
     "exception": false,
     "start_time": "2022-03-09T20:10:19.625168",
     "status": "completed"
    },
    "tags": []
   },
   "source": [
    "And setup the labels as 1 (when the digit is 3) and 0 (when the digit is 8)"
   ]
  },
  {
   "cell_type": "code",
   "execution_count": 12,
   "id": "7dc908f2",
   "metadata": {
    "execution": {
     "iopub.execute_input": "2022-03-09T20:10:19.738263Z",
     "iopub.status.busy": "2022-03-09T20:10:19.737556Z",
     "iopub.status.idle": "2022-03-09T20:10:19.752137Z",
     "shell.execute_reply": "2022-03-09T20:10:19.752922Z"
    },
    "papermill": {
     "duration": 0.055823,
     "end_time": "2022-03-09T20:10:19.753151",
     "exception": false,
     "start_time": "2022-03-09T20:10:19.697328",
     "status": "completed"
    },
    "tags": []
   },
   "outputs": [],
   "source": [
    "y_train = 1*(y_train==3)\n",
    "y_test = 1*(y_test==3)"
   ]
  },
  {
   "cell_type": "code",
   "execution_count": 13,
   "id": "01e4e969",
   "metadata": {
    "execution": {
     "iopub.execute_input": "2022-03-09T20:10:19.831651Z",
     "iopub.status.busy": "2022-03-09T20:10:19.830974Z",
     "iopub.status.idle": "2022-03-09T20:10:19.844300Z",
     "shell.execute_reply": "2022-03-09T20:10:19.844845Z"
    },
    "papermill": {
     "duration": 0.056916,
     "end_time": "2022-03-09T20:10:19.845102",
     "exception": false,
     "start_time": "2022-03-09T20:10:19.788186",
     "status": "completed"
    },
    "tags": []
   },
   "outputs": [
    {
     "data": {
      "text/plain": [
       "((11982, 28, 28), (1984, 28, 28))"
      ]
     },
     "execution_count": 13,
     "metadata": {},
     "output_type": "execute_result"
    }
   ],
   "source": [
    "X_train.shape, X_test.shape"
   ]
  },
  {
   "cell_type": "markdown",
   "id": "5ccf3f85",
   "metadata": {
    "papermill": {
     "duration": 0.035338,
     "end_time": "2022-03-09T20:10:19.917653",
     "exception": false,
     "start_time": "2022-03-09T20:10:19.882315",
     "status": "completed"
    },
    "tags": []
   },
   "source": [
    "We reshape the data to flatten the image pixels into a set of features or co-variates:"
   ]
  },
  {
   "cell_type": "code",
   "execution_count": 14,
   "id": "5286a4a3",
   "metadata": {
    "execution": {
     "iopub.execute_input": "2022-03-09T20:10:19.997895Z",
     "iopub.status.busy": "2022-03-09T20:10:19.997195Z",
     "iopub.status.idle": "2022-03-09T20:10:20.012213Z",
     "shell.execute_reply": "2022-03-09T20:10:20.012701Z"
    },
    "papermill": {
     "duration": 0.059156,
     "end_time": "2022-03-09T20:10:20.012859",
     "exception": false,
     "start_time": "2022-03-09T20:10:19.953703",
     "status": "completed"
    },
    "tags": []
   },
   "outputs": [
    {
     "data": {
      "text/plain": [
       "((11982, 784), (1984, 784))"
      ]
     },
     "execution_count": 14,
     "metadata": {},
     "output_type": "execute_result"
    }
   ],
   "source": [
    "X_train = X_train.reshape(X_train.shape[0], -1)\n",
    "X_test = X_test.reshape(X_test.shape[0], -1)\n",
    "X_train.shape, X_test.shape"
   ]
  },
  {
   "cell_type": "code",
   "execution_count": 15,
   "id": "73c5f88a",
   "metadata": {
    "execution": {
     "iopub.execute_input": "2022-03-09T20:10:20.091673Z",
     "iopub.status.busy": "2022-03-09T20:10:20.090939Z",
     "iopub.status.idle": "2022-03-09T20:10:20.114072Z",
     "shell.execute_reply": "2022-03-09T20:10:20.114608Z"
    },
    "papermill": {
     "duration": 0.066394,
     "end_time": "2022-03-09T20:10:20.114794",
     "exception": false,
     "start_time": "2022-03-09T20:10:20.048400",
     "status": "completed"
    },
    "tags": []
   },
   "outputs": [],
   "source": [
    "#Impoting functions from 'Kudzu'\n",
    "from kudzu.model import Model\n",
    "from kudzu.train import Learner\n",
    "from kudzu.optim import GD\n",
    "from kudzu.data import Data, Sampler,Dataloader\n",
    "\n",
    "from kudzu.callbacks import AccCallback\n",
    "from kudzu.callbacks import ClfCallback\n",
    "\n",
    "from kudzu.loss import MSE\n",
    "\n",
    "from kudzu.layer import Sigmoid,Relu\n",
    "from kudzu.layer import Affine"
   ]
  },
  {
   "cell_type": "markdown",
   "id": "bc01172a",
   "metadata": {
    "papermill": {
     "duration": 0.038405,
     "end_time": "2022-03-09T20:10:20.192903",
     "exception": false,
     "start_time": "2022-03-09T20:10:20.154498",
     "status": "completed"
    },
    "tags": []
   },
   "source": [
    "### Let us create a `Config` class, to store important parameters. \n",
    "This class essentially plays the role of a dictionary."
   ]
  },
  {
   "cell_type": "code",
   "execution_count": 16,
   "id": "978281aa",
   "metadata": {
    "execution": {
     "iopub.execute_input": "2022-03-09T20:10:20.272983Z",
     "iopub.status.busy": "2022-03-09T20:10:20.271303Z",
     "iopub.status.idle": "2022-03-09T20:10:20.289723Z",
     "shell.execute_reply": "2022-03-09T20:10:20.288931Z"
    },
    "papermill": {
     "duration": 0.058981,
     "end_time": "2022-03-09T20:10:20.289857",
     "exception": false,
     "start_time": "2022-03-09T20:10:20.230876",
     "status": "completed"
    },
    "tags": []
   },
   "outputs": [],
   "source": [
    "class Config:\n",
    "    pass\n",
    "config = Config()\n",
    "config.lr = 0.001\n",
    "config.num_epochs = 250\n",
    "config.bs = 50"
   ]
  },
  {
   "cell_type": "markdown",
   "id": "1385fa59",
   "metadata": {
    "papermill": {
     "duration": 0.035494,
     "end_time": "2022-03-09T20:10:20.361382",
     "exception": false,
     "start_time": "2022-03-09T20:10:20.325888",
     "status": "completed"
    },
    "tags": []
   },
   "source": [
    "### Running Models with the Training data\n",
    "Details about the network layers:\n",
    "- A first affine layer has 784 inputs and does 100 affine transforms. These are followed by a Relu\n",
    "- A second affine layer has 100 inputs from the 100 activations of the past layer, and does 100 affine transforms. These are followed by a Relu\n",
    "- A third affine layer has 100 activations and does 2 affine transformations to create an embedding for visualization. There is no non-linearity here.\n",
    "- A final \"logistic regression\" which has an affine transform from 2 inputs to 1 output, which is squeezed through a sigmoid.\n"
   ]
  },
  {
   "cell_type": "code",
   "execution_count": 17,
   "id": "2b9c66db",
   "metadata": {
    "execution": {
     "iopub.execute_input": "2022-03-09T20:10:20.443875Z",
     "iopub.status.busy": "2022-03-09T20:10:20.437898Z",
     "iopub.status.idle": "2022-03-09T20:10:20.453059Z",
     "shell.execute_reply": "2022-03-09T20:10:20.452369Z"
    },
    "papermill": {
     "duration": 0.055736,
     "end_time": "2022-03-09T20:10:20.453197",
     "exception": false,
     "start_time": "2022-03-09T20:10:20.397461",
     "status": "completed"
    },
    "tags": []
   },
   "outputs": [],
   "source": [
    "data = Data(X_train, y_train.reshape(-1,1))\n",
    "sampler = Sampler(data, config.bs, shuffle=True)\n",
    "\n",
    "dl = Dataloader(data, sampler)\n",
    "\n",
    "opt = GD(config.lr)\n",
    "loss = MSE()"
   ]
  },
  {
   "cell_type": "code",
   "execution_count": 18,
   "id": "b275e4c2",
   "metadata": {
    "execution": {
     "iopub.execute_input": "2022-03-09T20:10:20.528748Z",
     "iopub.status.busy": "2022-03-09T20:10:20.528010Z",
     "iopub.status.idle": "2022-03-09T20:10:20.543242Z",
     "shell.execute_reply": "2022-03-09T20:10:20.542631Z"
    },
    "papermill": {
     "duration": 0.054224,
     "end_time": "2022-03-09T20:10:20.543373",
     "exception": false,
     "start_time": "2022-03-09T20:10:20.489149",
     "status": "completed"
    },
    "tags": []
   },
   "outputs": [],
   "source": [
    "training_data_x = X_train\n",
    "testing_data_x = X_test\n",
    "training_data_y = y_train.reshape(-1,1)\n",
    "testing_data_y = y_test.reshape(-1,1)"
   ]
  },
  {
   "cell_type": "code",
   "execution_count": 19,
   "id": "76951160",
   "metadata": {
    "execution": {
     "iopub.execute_input": "2022-03-09T20:10:20.619549Z",
     "iopub.status.busy": "2022-03-09T20:10:20.618851Z",
     "iopub.status.idle": "2022-03-09T20:10:20.637955Z",
     "shell.execute_reply": "2022-03-09T20:10:20.638538Z"
    },
    "papermill": {
     "duration": 0.06073,
     "end_time": "2022-03-09T20:10:20.638693",
     "exception": false,
     "start_time": "2022-03-09T20:10:20.577963",
     "status": "completed"
    },
    "tags": []
   },
   "outputs": [
    {
     "name": "stdout",
     "output_type": "stream",
     "text": [
      "xavier\n",
      "xavier\n",
      "xavier\n",
      "xavier\n",
      "xavier\n"
     ]
    }
   ],
   "source": [
    "layers = [Affine(\"first\", 784, 100), Relu(\"first\"), Affine(\"second\", 100, 100), Relu(\"second\"), Affine(\"third\", 100, 2), Affine(\"last\", 2, 1), Sigmoid(\"last\")]\n",
    "model_nn = Model(layers)\n",
    "model_lr = Model([Affine(\"logits\", 784, 1), Sigmoid(\"sigmoid\")])"
   ]
  },
  {
   "cell_type": "code",
   "execution_count": 20,
   "id": "6eede77a",
   "metadata": {
    "execution": {
     "iopub.execute_input": "2022-03-09T20:10:20.715794Z",
     "iopub.status.busy": "2022-03-09T20:10:20.715118Z",
     "iopub.status.idle": "2022-03-09T20:10:20.731242Z",
     "shell.execute_reply": "2022-03-09T20:10:20.731808Z"
    },
    "papermill": {
     "duration": 0.057288,
     "end_time": "2022-03-09T20:10:20.731988",
     "exception": false,
     "start_time": "2022-03-09T20:10:20.674700",
     "status": "completed"
    },
    "tags": []
   },
   "outputs": [],
   "source": [
    "nn_learner = Learner(loss, model_nn, opt, config.num_epochs)\n",
    "acc_nn = ClfCallback(nn_learner, config.bs, training_data_x , testing_data_x, training_data_y, testing_data_y)\n",
    "nn_learner.set_callbacks([acc_nn])"
   ]
  },
  {
   "cell_type": "code",
   "execution_count": 21,
   "id": "877b6cc7",
   "metadata": {
    "execution": {
     "iopub.execute_input": "2022-03-09T20:10:20.813761Z",
     "iopub.status.busy": "2022-03-09T20:10:20.813043Z",
     "iopub.status.idle": "2022-03-09T20:10:20.827606Z",
     "shell.execute_reply": "2022-03-09T20:10:20.826878Z"
    },
    "papermill": {
     "duration": 0.056807,
     "end_time": "2022-03-09T20:10:20.827739",
     "exception": false,
     "start_time": "2022-03-09T20:10:20.770932",
     "status": "completed"
    },
    "tags": []
   },
   "outputs": [],
   "source": [
    "lr_learner = Learner(loss, model_lr, opt, config.num_epochs)\n",
    "acc_lr = ClfCallback(lr_learner, config.bs, training_data_x , testing_data_x, training_data_y, testing_data_y)\n",
    "lr_learner.set_callbacks([acc_lr])"
   ]
  },
  {
   "cell_type": "code",
   "execution_count": 22,
   "id": "d9b133c3",
   "metadata": {
    "execution": {
     "iopub.execute_input": "2022-03-09T20:10:20.905191Z",
     "iopub.status.busy": "2022-03-09T20:10:20.904499Z",
     "iopub.status.idle": "2022-03-09T20:12:45.568333Z",
     "shell.execute_reply": "2022-03-09T20:12:45.569404Z"
    },
    "papermill": {
     "duration": 144.705908,
     "end_time": "2022-03-09T20:12:45.569595",
     "exception": false,
     "start_time": "2022-03-09T20:10:20.863687",
     "status": "completed"
    },
    "tags": []
   },
   "outputs": [
    {
     "name": "stdout",
     "output_type": "stream",
     "text": [
      "Epoch 0, Loss 0.2456\n",
      "Training Accuracy: 0.6386, Testing Accuracy: 0.6190\n",
      "\n"
     ]
    },
    {
     "name": "stdout",
     "output_type": "stream",
     "text": [
      "Epoch 10, Loss 0.1325\n",
      "Training Accuracy: 0.8821, Testing Accuracy: 0.8921\n",
      "\n"
     ]
    },
    {
     "name": "stdout",
     "output_type": "stream",
     "text": [
      "Epoch 20, Loss 0.0727\n",
      "Training Accuracy: 0.9226, Testing Accuracy: 0.9315\n",
      "\n"
     ]
    },
    {
     "name": "stdout",
     "output_type": "stream",
     "text": [
      "Epoch 30, Loss 0.0531\n",
      "Training Accuracy: 0.9420, Testing Accuracy: 0.9506\n",
      "\n"
     ]
    },
    {
     "name": "stdout",
     "output_type": "stream",
     "text": [
      "Epoch 40, Loss 0.0439\n",
      "Training Accuracy: 0.9501, Testing Accuracy: 0.9597\n",
      "\n"
     ]
    },
    {
     "name": "stdout",
     "output_type": "stream",
     "text": [
      "Epoch 50, Loss 0.0386\n",
      "Training Accuracy: 0.9563, Testing Accuracy: 0.9632\n",
      "\n"
     ]
    },
    {
     "name": "stdout",
     "output_type": "stream",
     "text": [
      "Epoch 60, Loss 0.0352\n",
      "Training Accuracy: 0.9599, Testing Accuracy: 0.9652\n",
      "\n"
     ]
    },
    {
     "name": "stdout",
     "output_type": "stream",
     "text": [
      "Epoch 70, Loss 0.0328\n",
      "Training Accuracy: 0.9624, Testing Accuracy: 0.9657\n",
      "\n"
     ]
    },
    {
     "name": "stdout",
     "output_type": "stream",
     "text": [
      "Epoch 80, Loss 0.0309\n",
      "Training Accuracy: 0.9637, Testing Accuracy: 0.9682\n",
      "\n"
     ]
    },
    {
     "name": "stdout",
     "output_type": "stream",
     "text": [
      "Epoch 90, Loss 0.0295\n",
      "Training Accuracy: 0.9661, Testing Accuracy: 0.9703\n",
      "\n"
     ]
    },
    {
     "name": "stdout",
     "output_type": "stream",
     "text": [
      "Epoch 100, Loss 0.0282\n",
      "Training Accuracy: 0.9670, Testing Accuracy: 0.9703\n",
      "\n"
     ]
    },
    {
     "name": "stdout",
     "output_type": "stream",
     "text": [
      "Epoch 110, Loss 0.0272\n",
      "Training Accuracy: 0.9686, Testing Accuracy: 0.9713\n",
      "\n"
     ]
    },
    {
     "name": "stdout",
     "output_type": "stream",
     "text": [
      "Epoch 120, Loss 0.0263\n",
      "Training Accuracy: 0.9695, Testing Accuracy: 0.9713\n",
      "\n"
     ]
    },
    {
     "name": "stdout",
     "output_type": "stream",
     "text": [
      "Epoch 130, Loss 0.0255\n",
      "Training Accuracy: 0.9706, Testing Accuracy: 0.9713\n",
      "\n"
     ]
    },
    {
     "name": "stdout",
     "output_type": "stream",
     "text": [
      "Epoch 140, Loss 0.0249\n",
      "Training Accuracy: 0.9710, Testing Accuracy: 0.9713\n",
      "\n"
     ]
    },
    {
     "name": "stdout",
     "output_type": "stream",
     "text": [
      "Epoch 150, Loss 0.0242\n",
      "Training Accuracy: 0.9713, Testing Accuracy: 0.9703\n",
      "\n"
     ]
    },
    {
     "name": "stdout",
     "output_type": "stream",
     "text": [
      "Epoch 160, Loss 0.0237\n",
      "Training Accuracy: 0.9722, Testing Accuracy: 0.9698\n",
      "\n"
     ]
    },
    {
     "name": "stdout",
     "output_type": "stream",
     "text": [
      "Epoch 170, Loss 0.0231\n",
      "Training Accuracy: 0.9725, Testing Accuracy: 0.9698\n",
      "\n"
     ]
    },
    {
     "name": "stdout",
     "output_type": "stream",
     "text": [
      "Epoch 180, Loss 0.0226\n",
      "Training Accuracy: 0.9737, Testing Accuracy: 0.9703\n",
      "\n"
     ]
    },
    {
     "name": "stdout",
     "output_type": "stream",
     "text": [
      "Epoch 190, Loss 0.0222\n",
      "Training Accuracy: 0.9744, Testing Accuracy: 0.9703\n",
      "\n"
     ]
    },
    {
     "name": "stdout",
     "output_type": "stream",
     "text": [
      "Epoch 200, Loss 0.0217\n",
      "Training Accuracy: 0.9745, Testing Accuracy: 0.9718\n",
      "\n"
     ]
    },
    {
     "name": "stdout",
     "output_type": "stream",
     "text": [
      "Epoch 210, Loss 0.0213\n",
      "Training Accuracy: 0.9751, Testing Accuracy: 0.9718\n",
      "\n"
     ]
    },
    {
     "name": "stdout",
     "output_type": "stream",
     "text": [
      "Epoch 220, Loss 0.0209\n",
      "Training Accuracy: 0.9755, Testing Accuracy: 0.9718\n",
      "\n"
     ]
    },
    {
     "name": "stdout",
     "output_type": "stream",
     "text": [
      "Epoch 230, Loss 0.0205\n",
      "Training Accuracy: 0.9760, Testing Accuracy: 0.9718\n",
      "\n"
     ]
    },
    {
     "name": "stdout",
     "output_type": "stream",
     "text": [
      "Epoch 240, Loss 0.0202\n",
      "Training Accuracy: 0.9765, Testing Accuracy: 0.9723\n",
      "\n"
     ]
    },
    {
     "data": {
      "text/plain": [
       "0.04589312052097881"
      ]
     },
     "execution_count": 22,
     "metadata": {},
     "output_type": "execute_result"
    }
   ],
   "source": [
    "nn_learner.train_loop(dl)"
   ]
  },
  {
   "cell_type": "code",
   "execution_count": 23,
   "id": "e0163366",
   "metadata": {
    "execution": {
     "iopub.execute_input": "2022-03-09T20:12:45.675825Z",
     "iopub.status.busy": "2022-03-09T20:12:45.675106Z",
     "iopub.status.idle": "2022-03-09T20:13:06.399631Z",
     "shell.execute_reply": "2022-03-09T20:13:06.400656Z"
    },
    "papermill": {
     "duration": 20.782162,
     "end_time": "2022-03-09T20:13:06.400834",
     "exception": false,
     "start_time": "2022-03-09T20:12:45.618672",
     "status": "completed"
    },
    "tags": []
   },
   "outputs": [
    {
     "name": "stdout",
     "output_type": "stream",
     "text": [
      "Epoch 0, Loss 0.2549\n",
      "Training Accuracy: 0.6592, Testing Accuracy: 0.6552\n",
      "\n"
     ]
    },
    {
     "name": "stdout",
     "output_type": "stream",
     "text": [
      "Epoch 10, Loss 0.1025\n",
      "Training Accuracy: 0.9105, Testing Accuracy: 0.9234\n",
      "\n"
     ]
    },
    {
     "name": "stdout",
     "output_type": "stream",
     "text": [
      "Epoch 20, Loss 0.0791\n",
      "Training Accuracy: 0.9278, Testing Accuracy: 0.9395\n",
      "\n"
     ]
    },
    {
     "name": "stdout",
     "output_type": "stream",
     "text": [
      "Epoch 30, Loss 0.0683\n",
      "Training Accuracy: 0.9363, Testing Accuracy: 0.9461\n",
      "\n"
     ]
    },
    {
     "name": "stdout",
     "output_type": "stream",
     "text": [
      "Epoch 40, Loss 0.0618\n",
      "Training Accuracy: 0.9411, Testing Accuracy: 0.9496\n",
      "\n"
     ]
    },
    {
     "name": "stdout",
     "output_type": "stream",
     "text": [
      "Epoch 50, Loss 0.0573\n",
      "Training Accuracy: 0.9442, Testing Accuracy: 0.9536\n",
      "\n"
     ]
    },
    {
     "name": "stdout",
     "output_type": "stream",
     "text": [
      "Epoch 60, Loss 0.054\n",
      "Training Accuracy: 0.9463, Testing Accuracy: 0.9551\n",
      "\n"
     ]
    },
    {
     "name": "stdout",
     "output_type": "stream",
     "text": [
      "Epoch 70, Loss 0.0515\n",
      "Training Accuracy: 0.9480, Testing Accuracy: 0.9572\n",
      "\n"
     ]
    },
    {
     "name": "stdout",
     "output_type": "stream",
     "text": [
      "Epoch 80, Loss 0.0494\n",
      "Training Accuracy: 0.9498, Testing Accuracy: 0.9582\n",
      "\n"
     ]
    },
    {
     "name": "stdout",
     "output_type": "stream",
     "text": [
      "Epoch 90, Loss 0.0477\n",
      "Training Accuracy: 0.9516, Testing Accuracy: 0.9592\n",
      "\n"
     ]
    },
    {
     "name": "stdout",
     "output_type": "stream",
     "text": [
      "Epoch 100, Loss 0.0463\n",
      "Training Accuracy: 0.9526, Testing Accuracy: 0.9627\n",
      "\n"
     ]
    },
    {
     "name": "stdout",
     "output_type": "stream",
     "text": [
      "Epoch 110, Loss 0.0451\n",
      "Training Accuracy: 0.9537, Testing Accuracy: 0.9627\n",
      "\n"
     ]
    },
    {
     "name": "stdout",
     "output_type": "stream",
     "text": [
      "Epoch 120, Loss 0.044\n",
      "Training Accuracy: 0.9545, Testing Accuracy: 0.9632\n",
      "\n"
     ]
    },
    {
     "name": "stdout",
     "output_type": "stream",
     "text": [
      "Epoch 130, Loss 0.0431\n",
      "Training Accuracy: 0.9551, Testing Accuracy: 0.9637\n",
      "\n"
     ]
    },
    {
     "name": "stdout",
     "output_type": "stream",
     "text": [
      "Epoch 140, Loss 0.0422\n",
      "Training Accuracy: 0.9556, Testing Accuracy: 0.9642\n",
      "\n"
     ]
    },
    {
     "name": "stdout",
     "output_type": "stream",
     "text": [
      "Epoch 150, Loss 0.0415\n",
      "Training Accuracy: 0.9562, Testing Accuracy: 0.9647\n",
      "\n"
     ]
    },
    {
     "name": "stdout",
     "output_type": "stream",
     "text": [
      "Epoch 160, Loss 0.0408\n",
      "Training Accuracy: 0.9569, Testing Accuracy: 0.9652\n",
      "\n"
     ]
    },
    {
     "name": "stdout",
     "output_type": "stream",
     "text": [
      "Epoch 170, Loss 0.0402\n",
      "Training Accuracy: 0.9574, Testing Accuracy: 0.9652\n",
      "\n"
     ]
    },
    {
     "name": "stdout",
     "output_type": "stream",
     "text": [
      "Epoch 180, Loss 0.0396\n",
      "Training Accuracy: 0.9583, Testing Accuracy: 0.9657\n",
      "\n"
     ]
    },
    {
     "name": "stdout",
     "output_type": "stream",
     "text": [
      "Epoch 190, Loss 0.0391\n",
      "Training Accuracy: 0.9586, Testing Accuracy: 0.9667\n",
      "\n"
     ]
    },
    {
     "name": "stdout",
     "output_type": "stream",
     "text": [
      "Epoch 200, Loss 0.0386\n",
      "Training Accuracy: 0.9587, Testing Accuracy: 0.9667\n",
      "\n"
     ]
    },
    {
     "name": "stdout",
     "output_type": "stream",
     "text": [
      "Epoch 210, Loss 0.0382\n",
      "Training Accuracy: 0.9593, Testing Accuracy: 0.9667\n",
      "\n"
     ]
    },
    {
     "name": "stdout",
     "output_type": "stream",
     "text": [
      "Epoch 220, Loss 0.0378\n",
      "Training Accuracy: 0.9596, Testing Accuracy: 0.9667\n",
      "\n"
     ]
    },
    {
     "name": "stdout",
     "output_type": "stream",
     "text": [
      "Epoch 230, Loss 0.0374\n",
      "Training Accuracy: 0.9600, Testing Accuracy: 0.9667\n",
      "\n"
     ]
    },
    {
     "name": "stdout",
     "output_type": "stream",
     "text": [
      "Epoch 240, Loss 0.037\n",
      "Training Accuracy: 0.9602, Testing Accuracy: 0.9672\n",
      "\n"
     ]
    },
    {
     "data": {
      "text/plain": [
       "0.038920333315423425"
      ]
     },
     "execution_count": 23,
     "metadata": {},
     "output_type": "execute_result"
    }
   ],
   "source": [
    "lr_learner.train_loop(dl)"
   ]
  },
  {
   "cell_type": "code",
   "execution_count": 24,
   "id": "ca410940",
   "metadata": {
    "execution": {
     "iopub.execute_input": "2022-03-09T20:13:06.545616Z",
     "iopub.status.busy": "2022-03-09T20:13:06.542630Z",
     "iopub.status.idle": "2022-03-09T20:13:06.876481Z",
     "shell.execute_reply": "2022-03-09T20:13:06.875553Z"
    },
    "papermill": {
     "duration": 0.405689,
     "end_time": "2022-03-09T20:13:06.876630",
     "exception": false,
     "start_time": "2022-03-09T20:13:06.470941",
     "status": "completed"
    },
    "tags": []
   },
   "outputs": [
    {
     "data": {
      "text/plain": [
       "<matplotlib.legend.Legend at 0x7fbcb5cd4cc0>"
      ]
     },
     "execution_count": 24,
     "metadata": {},
     "output_type": "execute_result"
    },
    {
     "data": {
      "image/png": "[encoded data removed]",
      "text/plain": [
       "<Figure size 1080x720 with 1 Axes>"
      ]
     },
     "metadata": {
      "needs_background": "light"
     },
     "output_type": "display_data"
    }
   ],
   "source": [
    "#comparing the results of NN and LR\n",
    "plt.figure(figsize=(15,10))\n",
    "\n",
    "# Neural Network plots\n",
    "plt.plot(acc_nn.accuracies, 'r-', label = \"Training Accuracies - NN\")\n",
    "plt.plot(acc_nn.test_accuracies, 'g-', label = \"Testing Accuracies - NN\")\n",
    "\n",
    "# Logistic Regression plots\n",
    "plt.plot(acc_lr.accuracies, 'k-', label = \"Training Accuracies - LR\")\n",
    "plt.plot(acc_lr.test_accuracies, 'b-', label = \"Testing Accuracies - LR\")\n",
    "plt.legend()"
   ]
  },
  {
   "cell_type": "markdown",
   "id": "80dfb35c",
   "metadata": {
    "papermill": {
     "duration": 0.054675,
     "end_time": "2022-03-09T20:13:06.987329",
     "exception": false,
     "start_time": "2022-03-09T20:13:06.932654",
     "status": "completed"
    },
    "tags": []
   },
   "source": [
    "#### Plotting the outputs of this layer of the NN.\n"
   ]
  },
  {
   "cell_type": "code",
   "execution_count": 25,
   "id": "45eb2ff5",
   "metadata": {
    "execution": {
     "iopub.execute_input": "2022-03-09T20:13:07.106274Z",
     "iopub.status.busy": "2022-03-09T20:13:07.105534Z",
     "iopub.status.idle": "2022-03-09T20:13:07.134096Z",
     "shell.execute_reply": "2022-03-09T20:13:07.134776Z"
    },
    "papermill": {
     "duration": 0.092374,
     "end_time": "2022-03-09T20:13:07.135004",
     "exception": false,
     "start_time": "2022-03-09T20:13:07.042630",
     "status": "completed"
    },
    "tags": []
   },
   "outputs": [],
   "source": [
    "new_model = Model(layers[:-2])\n",
    "testing_plot = new_model(testing_data_x)"
   ]
  },
  {
   "cell_type": "code",
   "execution_count": 26,
   "id": "4c0a5485",
   "metadata": {
    "execution": {
     "iopub.execute_input": "2022-03-09T20:13:07.263629Z",
     "iopub.status.busy": "2022-03-09T20:13:07.262139Z",
     "iopub.status.idle": "2022-03-09T20:13:07.556730Z",
     "shell.execute_reply": "2022-03-09T20:13:07.557237Z"
    },
    "papermill": {
     "duration": 0.363915,
     "end_time": "2022-03-09T20:13:07.557408",
     "exception": false,
     "start_time": "2022-03-09T20:13:07.193493",
     "status": "completed"
    },
    "tags": []
   },
   "outputs": [
    {
     "data": {
      "text/plain": [
       "Text(0.5, 1.0, 'Outputs')"
      ]
     },
     "execution_count": 26,
     "metadata": {},
     "output_type": "execute_result"
    },
    {
     "data": {
      "image/png": "[encoded data removed]",
      "text/plain": [
       "<Figure size 576x504 with 1 Axes>"
      ]
     },
     "metadata": {
      "needs_background": "light"
     },
     "output_type": "display_data"
    }
   ],
   "source": [
    "# Plotting the scatter plot of points and color coding by class\n",
    "plt.figure(figsize=(8,7))\n",
    "plt.scatter(testing_plot[:,0], testing_plot[:,1], alpha = 0.1, c = y_test.ravel());\n",
    "plt.title('Outputs')"
   ]
  },
  {
   "cell_type": "markdown",
   "id": "a74fcf8f",
   "metadata": {
    "papermill": {
     "duration": 0.058721,
     "end_time": "2022-03-09T20:13:07.673852",
     "exception": false,
     "start_time": "2022-03-09T20:13:07.615131",
     "status": "completed"
    },
    "tags": []
   },
   "source": [
    "Probability contours"
   ]
  },
  {
   "cell_type": "code",
   "execution_count": 27,
   "id": "d0afc8e3",
   "metadata": {
    "execution": {
     "iopub.execute_input": "2022-03-09T20:13:07.824270Z",
     "iopub.status.busy": "2022-03-09T20:13:07.823543Z",
     "iopub.status.idle": "2022-03-09T20:13:07.837289Z",
     "shell.execute_reply": "2022-03-09T20:13:07.836695Z"
    },
    "papermill": {
     "duration": 0.079176,
     "end_time": "2022-03-09T20:13:07.837468",
     "exception": false,
     "start_time": "2022-03-09T20:13:07.758292",
     "status": "completed"
    },
    "tags": []
   },
   "outputs": [],
   "source": [
    "model_prob = Model(layers[-2:]) "
   ]
  },
  {
   "cell_type": "code",
   "execution_count": 28,
   "id": "9b96e238",
   "metadata": {
    "execution": {
     "iopub.execute_input": "2022-03-09T20:13:07.955112Z",
     "iopub.status.busy": "2022-03-09T20:13:07.954221Z",
     "iopub.status.idle": "2022-03-09T20:13:07.972160Z",
     "shell.execute_reply": "2022-03-09T20:13:07.972684Z"
    },
    "papermill": {
     "duration": 0.081431,
     "end_time": "2022-03-09T20:13:07.972861",
     "exception": false,
     "start_time": "2022-03-09T20:13:07.891430",
     "status": "completed"
    },
    "tags": []
   },
   "outputs": [],
   "source": [
    "#creating the x and y ranges according to the above generated plot.\n",
    "x_range = np.linspace(-4, 1, 100) \n",
    "y_range = np.linspace(-6, 6, 100) \n",
    "x_grid, y_grid = np.meshgrid(x_range, y_range) # x_grid and y_grig are of size 100 X 100\n",
    "\n",
    "# converting x_grid and y_grid to continuous arrays\n",
    "x_gridflat = np.ravel(x_grid)\n",
    "y_gridflat = np.ravel(y_grid)\n",
    "\n",
    "# The last layer of the current model takes two columns as input. Hence transpose of np.vstack() is required.\n",
    "X = np.vstack((x_gridflat, y_gridflat)).T\n",
    "\n",
    "prob_contour = model_prob(X).reshape(100,100) "
   ]
  },
  {
   "cell_type": "code",
   "execution_count": 29,
   "id": "da72499a",
   "metadata": {
    "execution": {
     "iopub.execute_input": "2022-03-09T20:13:08.109075Z",
     "iopub.status.busy": "2022-03-09T20:13:08.108269Z",
     "iopub.status.idle": "2022-03-09T20:13:08.455661Z",
     "shell.execute_reply": "2022-03-09T20:13:08.455148Z"
    },
    "papermill": {
     "duration": 0.416138,
     "end_time": "2022-03-09T20:13:08.455799",
     "exception": false,
     "start_time": "2022-03-09T20:13:08.039661",
     "status": "completed"
    },
    "tags": []
   },
   "outputs": [
    {
     "data": {
      "image/png": "[encoded data removed]",
      "text/plain": [
       "<Figure size 720x648 with 1 Axes>"
      ]
     },
     "metadata": {
      "needs_background": "light"
     },
     "output_type": "display_data"
    }
   ],
   "source": [
    "plt.figure(figsize=(10,9))\n",
    "plt.scatter(testing_plot[:,0], testing_plot[:,1], alpha = 0.1, c = y_test.ravel())\n",
    "contours = plt.contour(x_grid,y_grid,prob_contour)\n",
    "plt.title('Probability Contours')\n",
    "plt.clabel(contours, inline = True );"
   ]
  },
  {
   "cell_type": "code",
   "execution_count": null,
   "id": "e81b4ac7",
   "metadata": {
    "papermill": {
     "duration": 0.058831,
     "end_time": "2022-03-09T20:13:08.577332",
     "exception": false,
     "start_time": "2022-03-09T20:13:08.518501",
     "status": "completed"
    },
    "tags": []
   },
   "outputs": [],
   "source": []
  }
 ],
 "metadata": {
  "kernelspec": {
   "display_name": "Python 3",
   "language": "python",
   "name": "python3"
  },
  "language_info": {
   "codemirror_mode": {
    "name": "ipython",
    "version": 3
   },
   "file_extension": ".py",
   "mimetype": "text/x-python",
   "name": "python",
   "nbconvert_exporter": "python",
   "pygments_lexer": "ipython3",
   "version": "3.6.15"
  },
  "papermill": {
   "default_parameters": {},
   "duration": 176.070439,
   "end_time": "2022-03-09T20:13:09.058556",
   "environment_variables": {},
   "exception": null,
   "input_path": "2020-08-11-part2.ipynb",
   "output_path": "2020-08-11-part2.ipynb",
   "parameters": {},
   "start_time": "2022-03-09T20:10:12.988117",
   "version": "2.3.3"
  }
 },
 "nbformat": 4,
 "nbformat_minor": 5
}