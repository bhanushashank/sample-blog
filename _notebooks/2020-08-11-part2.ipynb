{
 "cells": [
  {
   "cell_type": "markdown",
   "id": "98380cd3",
   "metadata": {
    "papermill": {
     "duration": 0.036038,
     "end_time": "2021-09-21T20:12:18.868866",
     "exception": false,
     "start_time": "2021-09-21T20:12:18.832828",
     "status": "completed"
    },
    "tags": []
   },
   "source": [
    "# Distinguish Your Own Digits (DYOD)"
   ]
  },
  {
   "cell_type": "markdown",
   "id": "ef31240d",
   "metadata": {
    "papermill": {
     "duration": 0.032532,
     "end_time": "2021-09-21T20:12:18.932525",
     "exception": false,
     "start_time": "2021-09-21T20:12:18.899993",
     "status": "completed"
    },
    "tags": []
   },
   "source": [
    "You are going to write a classifier that distinguishes between the number 3 and number 8."
   ]
  },
  {
   "cell_type": "code",
   "execution_count": 1,
   "id": "b15c8646",
   "metadata": {
    "execution": {
     "iopub.execute_input": "2021-09-21T20:12:19.004218Z",
     "iopub.status.busy": "2021-09-21T20:12:19.003524Z",
     "iopub.status.idle": "2021-09-21T20:12:19.021272Z",
     "shell.execute_reply": "2021-09-21T20:12:19.020754Z"
    },
    "papermill": {
     "duration": 0.057668,
     "end_time": "2021-09-21T20:12:19.021419",
     "exception": false,
     "start_time": "2021-09-21T20:12:18.963751",
     "status": "completed"
    },
    "tags": []
   },
   "outputs": [],
   "source": [
    "%load_ext autoreload\n",
    "%autoreload 2"
   ]
  },
  {
   "cell_type": "code",
   "execution_count": 2,
   "id": "22ef38dc",
   "metadata": {
    "execution": {
     "iopub.execute_input": "2021-09-21T20:12:19.082621Z",
     "iopub.status.busy": "2021-09-21T20:12:19.081972Z",
     "iopub.status.idle": "2021-09-21T20:12:19.683573Z",
     "shell.execute_reply": "2021-09-21T20:12:19.682588Z"
    },
    "papermill": {
     "duration": 0.633039,
     "end_time": "2021-09-21T20:12:19.683713",
     "exception": false,
     "start_time": "2021-09-21T20:12:19.050674",
     "status": "completed"
    },
    "tags": []
   },
   "outputs": [],
   "source": [
    "%matplotlib inline\n",
    "import numpy as np\n",
    "import matplotlib.pyplot as plt\n",
    "import pandas as pd"
   ]
  },
  {
   "cell_type": "markdown",
   "id": "ba036198",
   "metadata": {
    "papermill": {
     "duration": 0.027785,
     "end_time": "2021-09-21T20:12:19.739508",
     "exception": false,
     "start_time": "2021-09-21T20:12:19.711723",
     "status": "completed"
    },
    "tags": []
   },
   "source": [
    "From the command line run `pip install mnist`. This is a library that will help you bring down the mnist dataset. If you run this from a notebook, you need to put  `!pip install mnist` in a cell by itself."
   ]
  },
  {
   "cell_type": "code",
   "execution_count": 3,
   "id": "bb6ad8a1",
   "metadata": {
    "execution": {
     "iopub.execute_input": "2021-09-21T20:12:19.801337Z",
     "iopub.status.busy": "2021-09-21T20:12:19.799874Z",
     "iopub.status.idle": "2021-09-21T20:12:22.637745Z",
     "shell.execute_reply": "2021-09-21T20:12:22.638268Z"
    },
    "papermill": {
     "duration": 2.871519,
     "end_time": "2021-09-21T20:12:22.638438",
     "exception": false,
     "start_time": "2021-09-21T20:12:19.766919",
     "status": "completed"
    },
    "tags": []
   },
   "outputs": [
    {
     "name": "stdout",
     "output_type": "stream",
     "text": [
      "Collecting mnist\r\n"
     ]
    },
    {
     "name": "stdout",
     "output_type": "stream",
     "text": [
      "  Downloading mnist-0.2.2-py2.py3-none-any.whl (3.5 kB)\r\n",
      "Requirement already satisfied: numpy in /opt/hostedtoolcache/Python/3.6.15/x64/lib/python3.6/site-packages (from mnist) (1.19.5)\r\n"
     ]
    },
    {
     "name": "stdout",
     "output_type": "stream",
     "text": [
      "Installing collected packages: mnist\r\n"
     ]
    },
    {
     "name": "stdout",
     "output_type": "stream",
     "text": [
      "Successfully installed mnist-0.2.2\r\n"
     ]
    }
   ],
   "source": [
    "!pip install mnist"
   ]
  },
  {
   "cell_type": "markdown",
   "id": "69df9c9a",
   "metadata": {
    "papermill": {
     "duration": 0.029918,
     "end_time": "2021-09-21T20:12:22.698761",
     "exception": false,
     "start_time": "2021-09-21T20:12:22.668843",
     "status": "completed"
    },
    "tags": []
   },
   "source": [
    "## Preparing the Data"
   ]
  },
  {
   "cell_type": "code",
   "execution_count": 4,
   "id": "7f69d806",
   "metadata": {
    "execution": {
     "iopub.execute_input": "2021-09-21T20:12:22.775132Z",
     "iopub.status.busy": "2021-09-21T20:12:22.770604Z",
     "iopub.status.idle": "2021-09-21T20:12:22.786638Z",
     "shell.execute_reply": "2021-09-21T20:12:22.787142Z"
    },
    "papermill": {
     "duration": 0.057672,
     "end_time": "2021-09-21T20:12:22.787295",
     "exception": false,
     "start_time": "2021-09-21T20:12:22.729623",
     "status": "completed"
    },
    "tags": []
   },
   "outputs": [],
   "source": [
    "import mnist"
   ]
  },
  {
   "cell_type": "code",
   "execution_count": 5,
   "id": "a411e44f",
   "metadata": {
    "execution": {
     "iopub.execute_input": "2021-09-21T20:12:22.858523Z",
     "iopub.status.busy": "2021-09-21T20:12:22.857861Z",
     "iopub.status.idle": "2021-09-21T20:12:23.540906Z",
     "shell.execute_reply": "2021-09-21T20:12:23.540284Z"
    },
    "papermill": {
     "duration": 0.722954,
     "end_time": "2021-09-21T20:12:23.541059",
     "exception": false,
     "start_time": "2021-09-21T20:12:22.818105",
     "status": "completed"
    },
    "tags": []
   },
   "outputs": [],
   "source": [
    "train_images = mnist.train_images()\n",
    "train_labels = mnist.train_labels()"
   ]
  },
  {
   "cell_type": "code",
   "execution_count": 6,
   "id": "dceab3a5",
   "metadata": {
    "execution": {
     "iopub.execute_input": "2021-09-21T20:12:23.609035Z",
     "iopub.status.busy": "2021-09-21T20:12:23.607433Z",
     "iopub.status.idle": "2021-09-21T20:12:23.624541Z",
     "shell.execute_reply": "2021-09-21T20:12:23.624053Z"
    },
    "papermill": {
     "duration": 0.052254,
     "end_time": "2021-09-21T20:12:23.624671",
     "exception": false,
     "start_time": "2021-09-21T20:12:23.572417",
     "status": "completed"
    },
    "tags": []
   },
   "outputs": [
    {
     "data": {
      "text/plain": [
       "((60000, 28, 28), (60000,))"
      ]
     },
     "execution_count": 6,
     "metadata": {},
     "output_type": "execute_result"
    }
   ],
   "source": [
    "train_images.shape, train_labels.shape"
   ]
  },
  {
   "cell_type": "code",
   "execution_count": 7,
   "id": "f50dc2bb",
   "metadata": {
    "execution": {
     "iopub.execute_input": "2021-09-21T20:12:23.692294Z",
     "iopub.status.busy": "2021-09-21T20:12:23.691693Z",
     "iopub.status.idle": "2021-09-21T20:12:23.944701Z",
     "shell.execute_reply": "2021-09-21T20:12:23.944109Z"
    },
    "papermill": {
     "duration": 0.28832,
     "end_time": "2021-09-21T20:12:23.944831",
     "exception": false,
     "start_time": "2021-09-21T20:12:23.656511",
     "status": "completed"
    },
    "tags": []
   },
   "outputs": [],
   "source": [
    "test_images = mnist.test_images()\n",
    "test_labels = mnist.test_labels()"
   ]
  },
  {
   "cell_type": "code",
   "execution_count": 8,
   "id": "fc38cf1b",
   "metadata": {
    "execution": {
     "iopub.execute_input": "2021-09-21T20:12:24.012053Z",
     "iopub.status.busy": "2021-09-21T20:12:24.011458Z",
     "iopub.status.idle": "2021-09-21T20:12:24.027304Z",
     "shell.execute_reply": "2021-09-21T20:12:24.026699Z"
    },
    "papermill": {
     "duration": 0.051873,
     "end_time": "2021-09-21T20:12:24.027439",
     "exception": false,
     "start_time": "2021-09-21T20:12:23.975566",
     "status": "completed"
    },
    "tags": []
   },
   "outputs": [
    {
     "data": {
      "text/plain": [
       "((10000, 28, 28), (10000,))"
      ]
     },
     "execution_count": 8,
     "metadata": {},
     "output_type": "execute_result"
    }
   ],
   "source": [
    "test_images.shape, test_labels.shape"
   ]
  },
  {
   "cell_type": "code",
   "execution_count": 9,
   "id": "f9ed8fe0",
   "metadata": {
    "execution": {
     "iopub.execute_input": "2021-09-21T20:12:24.097557Z",
     "iopub.status.busy": "2021-09-21T20:12:24.096910Z",
     "iopub.status.idle": "2021-09-21T20:12:24.259237Z",
     "shell.execute_reply": "2021-09-21T20:12:24.259875Z"
    },
    "papermill": {
     "duration": 0.201176,
     "end_time": "2021-09-21T20:12:24.260023",
     "exception": false,
     "start_time": "2021-09-21T20:12:24.058847",
     "status": "completed"
    },
    "tags": []
   },
   "outputs": [
    {
     "name": "stdout",
     "output_type": "stream",
     "text": [
      "2\n"
     ]
    },
    {
     "data": {
      "text/plain": [
       "<matplotlib.image.AxesImage at 0x7fd8ac8dc8d0>"
      ]
     },
     "execution_count": 9,
     "metadata": {},
     "output_type": "execute_result"
    },
    {
     "data": {
      "image/png": "[encoded data removed]",
      "text/plain": [
       "<Figure size 432x288 with 1 Axes>"
      ]
     },
     "metadata": {
      "needs_background": "light"
     },
     "output_type": "display_data"
    }
   ],
   "source": [
    "image_index = 7776 # You may select anything up to 60,000\n",
    "print(train_labels[image_index]) \n",
    "plt.imshow(train_images[image_index], cmap='Greys')"
   ]
  },
  {
   "cell_type": "markdown",
   "id": "a8d2388d",
   "metadata": {
    "papermill": {
     "duration": 0.030568,
     "end_time": "2021-09-21T20:12:24.321135",
     "exception": false,
     "start_time": "2021-09-21T20:12:24.290567",
     "status": "completed"
    },
    "tags": []
   },
   "source": [
    "## Filter data to get 3 and 8 out"
   ]
  },
  {
   "cell_type": "code",
   "execution_count": 10,
   "id": "776f7fc7",
   "metadata": {
    "execution": {
     "iopub.execute_input": "2021-09-21T20:12:24.386788Z",
     "iopub.status.busy": "2021-09-21T20:12:24.386122Z",
     "iopub.status.idle": "2021-09-21T20:12:24.410677Z",
     "shell.execute_reply": "2021-09-21T20:12:24.409984Z"
    },
    "papermill": {
     "duration": 0.059226,
     "end_time": "2021-09-21T20:12:24.410825",
     "exception": false,
     "start_time": "2021-09-21T20:12:24.351599",
     "status": "completed"
    },
    "tags": []
   },
   "outputs": [],
   "source": [
    "train_filter = np.where((train_labels == 3 ) | (train_labels == 8))\n",
    "test_filter = np.where((test_labels == 3) | (test_labels == 8))\n",
    "X_train, y_train = train_images[train_filter], train_labels[train_filter]\n",
    "X_test, y_test = test_images[test_filter], test_labels[test_filter]"
   ]
  },
  {
   "cell_type": "markdown",
   "id": "948f0b7e",
   "metadata": {
    "papermill": {
     "duration": 0.030526,
     "end_time": "2021-09-21T20:12:24.476063",
     "exception": false,
     "start_time": "2021-09-21T20:12:24.445537",
     "status": "completed"
    },
    "tags": []
   },
   "source": [
    "We normalize the pizel values in the 0 to 1 range"
   ]
  },
  {
   "cell_type": "code",
   "execution_count": 11,
   "id": "ee4c2166",
   "metadata": {
    "execution": {
     "iopub.execute_input": "2021-09-21T20:12:24.542014Z",
     "iopub.status.busy": "2021-09-21T20:12:24.541384Z",
     "iopub.status.idle": "2021-09-21T20:12:24.595142Z",
     "shell.execute_reply": "2021-09-21T20:12:24.594400Z"
    },
    "papermill": {
     "duration": 0.088858,
     "end_time": "2021-09-21T20:12:24.595275",
     "exception": false,
     "start_time": "2021-09-21T20:12:24.506417",
     "status": "completed"
    },
    "tags": []
   },
   "outputs": [],
   "source": [
    "X_train = X_train/255.\n",
    "X_test = X_test/255."
   ]
  },
  {
   "cell_type": "markdown",
   "id": "ddcf4fab",
   "metadata": {
    "papermill": {
     "duration": 0.033307,
     "end_time": "2021-09-21T20:12:24.661171",
     "exception": false,
     "start_time": "2021-09-21T20:12:24.627864",
     "status": "completed"
    },
    "tags": []
   },
   "source": [
    "And setup the labels as 1 (when the digit is 3) and 0 (when the digit is 8)"
   ]
  },
  {
   "cell_type": "code",
   "execution_count": 12,
   "id": "7dc908f2",
   "metadata": {
    "execution": {
     "iopub.execute_input": "2021-09-21T20:12:24.726154Z",
     "iopub.status.busy": "2021-09-21T20:12:24.725544Z",
     "iopub.status.idle": "2021-09-21T20:12:24.739028Z",
     "shell.execute_reply": "2021-09-21T20:12:24.739507Z"
    },
    "papermill": {
     "duration": 0.047938,
     "end_time": "2021-09-21T20:12:24.739652",
     "exception": false,
     "start_time": "2021-09-21T20:12:24.691714",
     "status": "completed"
    },
    "tags": []
   },
   "outputs": [],
   "source": [
    "y_train = 1*(y_train==3)\n",
    "y_test = 1*(y_test==3)"
   ]
  },
  {
   "cell_type": "code",
   "execution_count": 13,
   "id": "01e4e969",
   "metadata": {
    "execution": {
     "iopub.execute_input": "2021-09-21T20:12:24.804371Z",
     "iopub.status.busy": "2021-09-21T20:12:24.803780Z",
     "iopub.status.idle": "2021-09-21T20:12:24.818511Z",
     "shell.execute_reply": "2021-09-21T20:12:24.817981Z"
    },
    "papermill": {
     "duration": 0.048339,
     "end_time": "2021-09-21T20:12:24.818675",
     "exception": false,
     "start_time": "2021-09-21T20:12:24.770336",
     "status": "completed"
    },
    "tags": []
   },
   "outputs": [
    {
     "data": {
      "text/plain": [
       "((11982, 28, 28), (1984, 28, 28))"
      ]
     },
     "execution_count": 13,
     "metadata": {},
     "output_type": "execute_result"
    }
   ],
   "source": [
    "X_train.shape, X_test.shape"
   ]
  },
  {
   "cell_type": "markdown",
   "id": "5ccf3f85",
   "metadata": {
    "papermill": {
     "duration": 0.03064,
     "end_time": "2021-09-21T20:12:24.880792",
     "exception": false,
     "start_time": "2021-09-21T20:12:24.850152",
     "status": "completed"
    },
    "tags": []
   },
   "source": [
    "We reshape the data to flatten the image pixels into a set of features or co-variates:"
   ]
  },
  {
   "cell_type": "code",
   "execution_count": 14,
   "id": "5286a4a3",
   "metadata": {
    "execution": {
     "iopub.execute_input": "2021-09-21T20:12:24.952786Z",
     "iopub.status.busy": "2021-09-21T20:12:24.952189Z",
     "iopub.status.idle": "2021-09-21T20:12:24.966297Z",
     "shell.execute_reply": "2021-09-21T20:12:24.965749Z"
    },
    "papermill": {
     "duration": 0.054548,
     "end_time": "2021-09-21T20:12:24.966430",
     "exception": false,
     "start_time": "2021-09-21T20:12:24.911882",
     "status": "completed"
    },
    "tags": []
   },
   "outputs": [
    {
     "data": {
      "text/plain": [
       "((11982, 784), (1984, 784))"
      ]
     },
     "execution_count": 14,
     "metadata": {},
     "output_type": "execute_result"
    }
   ],
   "source": [
    "X_train = X_train.reshape(X_train.shape[0], -1)\n",
    "X_test = X_test.reshape(X_test.shape[0], -1)\n",
    "X_train.shape, X_test.shape"
   ]
  },
  {
   "cell_type": "code",
   "execution_count": 15,
   "id": "73c5f88a",
   "metadata": {
    "execution": {
     "iopub.execute_input": "2021-09-21T20:12:25.035139Z",
     "iopub.status.busy": "2021-09-21T20:12:25.034511Z",
     "iopub.status.idle": "2021-09-21T20:12:25.054847Z",
     "shell.execute_reply": "2021-09-21T20:12:25.055336Z"
    },
    "papermill": {
     "duration": 0.057781,
     "end_time": "2021-09-21T20:12:25.055495",
     "exception": false,
     "start_time": "2021-09-21T20:12:24.997714",
     "status": "completed"
    },
    "tags": []
   },
   "outputs": [],
   "source": [
    "#Impoting functions from 'Kudzu'\n",
    "from kudzu.model import Model\n",
    "from kudzu.train import Learner\n",
    "from kudzu.optim import GD\n",
    "from kudzu.data import Data, Sampler,Dataloader\n",
    "\n",
    "from kudzu.callbacks import AccCallback\n",
    "from kudzu.callbacks import ClfCallback\n",
    "\n",
    "from kudzu.loss import MSE\n",
    "\n",
    "from kudzu.layer import Sigmoid,Relu\n",
    "from kudzu.layer import Affine"
   ]
  },
  {
   "cell_type": "markdown",
   "id": "bc01172a",
   "metadata": {
    "papermill": {
     "duration": 0.030905,
     "end_time": "2021-09-21T20:12:25.117687",
     "exception": false,
     "start_time": "2021-09-21T20:12:25.086782",
     "status": "completed"
    },
    "tags": []
   },
   "source": [
    "### Let us create a `Config` class, to store important parameters. \n",
    "This class essentially plays the role of a dictionary."
   ]
  },
  {
   "cell_type": "code",
   "execution_count": 16,
   "id": "978281aa",
   "metadata": {
    "execution": {
     "iopub.execute_input": "2021-09-21T20:12:25.186091Z",
     "iopub.status.busy": "2021-09-21T20:12:25.185488Z",
     "iopub.status.idle": "2021-09-21T20:12:25.199385Z",
     "shell.execute_reply": "2021-09-21T20:12:25.199884Z"
    },
    "papermill": {
     "duration": 0.051378,
     "end_time": "2021-09-21T20:12:25.200047",
     "exception": false,
     "start_time": "2021-09-21T20:12:25.148669",
     "status": "completed"
    },
    "tags": []
   },
   "outputs": [],
   "source": [
    "class Config:\n",
    "    pass\n",
    "config = Config()\n",
    "config.lr = 0.001\n",
    "config.num_epochs = 250\n",
    "config.bs = 50"
   ]
  },
  {
   "cell_type": "markdown",
   "id": "1385fa59",
   "metadata": {
    "papermill": {
     "duration": 0.031067,
     "end_time": "2021-09-21T20:12:25.262501",
     "exception": false,
     "start_time": "2021-09-21T20:12:25.231434",
     "status": "completed"
    },
    "tags": []
   },
   "source": [
    "### Running Models with the Training data\n",
    "Details about the network layers:\n",
    "- A first affine layer has 784 inputs and does 100 affine transforms. These are followed by a Relu\n",
    "- A second affine layer has 100 inputs from the 100 activations of the past layer, and does 100 affine transforms. These are followed by a Relu\n",
    "- A third affine layer has 100 activations and does 2 affine transformations to create an embedding for visualization. There is no non-linearity here.\n",
    "- A final \"logistic regression\" which has an affine transform from 2 inputs to 1 output, which is squeezed through a sigmoid.\n"
   ]
  },
  {
   "cell_type": "code",
   "execution_count": 17,
   "id": "2b9c66db",
   "metadata": {
    "execution": {
     "iopub.execute_input": "2021-09-21T20:12:25.329279Z",
     "iopub.status.busy": "2021-09-21T20:12:25.328674Z",
     "iopub.status.idle": "2021-09-21T20:12:25.342382Z",
     "shell.execute_reply": "2021-09-21T20:12:25.342903Z"
    },
    "papermill": {
     "duration": 0.049543,
     "end_time": "2021-09-21T20:12:25.343058",
     "exception": false,
     "start_time": "2021-09-21T20:12:25.293515",
     "status": "completed"
    },
    "tags": []
   },
   "outputs": [],
   "source": [
    "data = Data(X_train, y_train.reshape(-1,1))\n",
    "sampler = Sampler(data, config.bs, shuffle=True)\n",
    "\n",
    "dl = Dataloader(data, sampler)\n",
    "\n",
    "opt = GD(config.lr)\n",
    "loss = MSE()"
   ]
  },
  {
   "cell_type": "code",
   "execution_count": 18,
   "id": "b275e4c2",
   "metadata": {
    "execution": {
     "iopub.execute_input": "2021-09-21T20:12:25.409367Z",
     "iopub.status.busy": "2021-09-21T20:12:25.408751Z",
     "iopub.status.idle": "2021-09-21T20:12:25.422564Z",
     "shell.execute_reply": "2021-09-21T20:12:25.422017Z"
    },
    "papermill": {
     "duration": 0.048525,
     "end_time": "2021-09-21T20:12:25.422690",
     "exception": false,
     "start_time": "2021-09-21T20:12:25.374165",
     "status": "completed"
    },
    "tags": []
   },
   "outputs": [],
   "source": [
    "training_data_x = X_train\n",
    "testing_data_x = X_test\n",
    "training_data_y = y_train.reshape(-1,1)\n",
    "testing_data_y = y_test.reshape(-1,1)"
   ]
  },
  {
   "cell_type": "code",
   "execution_count": 19,
   "id": "76951160",
   "metadata": {
    "execution": {
     "iopub.execute_input": "2021-09-21T20:12:25.489534Z",
     "iopub.status.busy": "2021-09-21T20:12:25.488912Z",
     "iopub.status.idle": "2021-09-21T20:12:25.507080Z",
     "shell.execute_reply": "2021-09-21T20:12:25.506581Z"
    },
    "papermill": {
     "duration": 0.053495,
     "end_time": "2021-09-21T20:12:25.507215",
     "exception": false,
     "start_time": "2021-09-21T20:12:25.453720",
     "status": "completed"
    },
    "tags": []
   },
   "outputs": [
    {
     "name": "stdout",
     "output_type": "stream",
     "text": [
      "xavier\n",
      "xavier\n",
      "xavier\n",
      "xavier\n",
      "xavier\n"
     ]
    }
   ],
   "source": [
    "layers = [Affine(\"first\", 784, 100), Relu(\"first\"), Affine(\"second\", 100, 100), Relu(\"second\"), Affine(\"third\", 100, 2), Affine(\"last\", 2, 1), Sigmoid(\"last\")]\n",
    "model_nn = Model(layers)\n",
    "model_lr = Model([Affine(\"logits\", 784, 1), Sigmoid(\"sigmoid\")])"
   ]
  },
  {
   "cell_type": "code",
   "execution_count": 20,
   "id": "6eede77a",
   "metadata": {
    "execution": {
     "iopub.execute_input": "2021-09-21T20:12:25.574905Z",
     "iopub.status.busy": "2021-09-21T20:12:25.574284Z",
     "iopub.status.idle": "2021-09-21T20:12:25.588310Z",
     "shell.execute_reply": "2021-09-21T20:12:25.587810Z"
    },
    "papermill": {
     "duration": 0.049656,
     "end_time": "2021-09-21T20:12:25.588442",
     "exception": false,
     "start_time": "2021-09-21T20:12:25.538786",
     "status": "completed"
    },
    "tags": []
   },
   "outputs": [],
   "source": [
    "nn_learner = Learner(loss, model_nn, opt, config.num_epochs)\n",
    "acc_nn = ClfCallback(nn_learner, config.bs, training_data_x , testing_data_x, training_data_y, testing_data_y)\n",
    "nn_learner.set_callbacks([acc_nn])"
   ]
  },
  {
   "cell_type": "code",
   "execution_count": 21,
   "id": "877b6cc7",
   "metadata": {
    "execution": {
     "iopub.execute_input": "2021-09-21T20:12:25.656236Z",
     "iopub.status.busy": "2021-09-21T20:12:25.655642Z",
     "iopub.status.idle": "2021-09-21T20:12:25.671010Z",
     "shell.execute_reply": "2021-09-21T20:12:25.671463Z"
    },
    "papermill": {
     "duration": 0.051489,
     "end_time": "2021-09-21T20:12:25.671616",
     "exception": false,
     "start_time": "2021-09-21T20:12:25.620127",
     "status": "completed"
    },
    "tags": []
   },
   "outputs": [],
   "source": [
    "lr_learner = Learner(loss, model_lr, opt, config.num_epochs)\n",
    "acc_lr = ClfCallback(lr_learner, config.bs, training_data_x , testing_data_x, training_data_y, testing_data_y)\n",
    "lr_learner.set_callbacks([acc_lr])"
   ]
  },
  {
   "cell_type": "code",
   "execution_count": 22,
   "id": "d9b133c3",
   "metadata": {
    "execution": {
     "iopub.execute_input": "2021-09-21T20:12:25.739588Z",
     "iopub.status.busy": "2021-09-21T20:12:25.738966Z",
     "iopub.status.idle": "2021-09-21T20:13:57.711062Z",
     "shell.execute_reply": "2021-09-21T20:13:57.711632Z"
    },
    "papermill": {
     "duration": 92.008469,
     "end_time": "2021-09-21T20:13:57.711787",
     "exception": false,
     "start_time": "2021-09-21T20:12:25.703318",
     "status": "completed"
    },
    "tags": []
   },
   "outputs": [
    {
     "name": "stdout",
     "output_type": "stream",
     "text": [
      "Epoch 0, Loss 0.2436\n",
      "Training Accuracy: 0.6283, Testing Accuracy: 0.6074\n",
      "\n"
     ]
    },
    {
     "name": "stdout",
     "output_type": "stream",
     "text": [
      "Epoch 10, Loss 0.1537\n",
      "Training Accuracy: 0.8782, Testing Accuracy: 0.8856\n",
      "\n"
     ]
    },
    {
     "name": "stdout",
     "output_type": "stream",
     "text": [
      "Epoch 20, Loss 0.0805\n",
      "Training Accuracy: 0.9191, Testing Accuracy: 0.9294\n",
      "\n"
     ]
    },
    {
     "name": "stdout",
     "output_type": "stream",
     "text": [
      "Epoch 30, Loss 0.0563\n",
      "Training Accuracy: 0.9381, Testing Accuracy: 0.9471\n",
      "\n"
     ]
    },
    {
     "name": "stdout",
     "output_type": "stream",
     "text": [
      "Epoch 40, Loss 0.0458\n",
      "Training Accuracy: 0.9489, Testing Accuracy: 0.9536\n",
      "\n"
     ]
    },
    {
     "name": "stdout",
     "output_type": "stream",
     "text": [
      "Epoch 50, Loss 0.0401\n",
      "Training Accuracy: 0.9547, Testing Accuracy: 0.9602\n",
      "\n"
     ]
    },
    {
     "name": "stdout",
     "output_type": "stream",
     "text": [
      "Epoch 60, Loss 0.0365\n",
      "Training Accuracy: 0.9581, Testing Accuracy: 0.9627\n",
      "\n"
     ]
    },
    {
     "name": "stdout",
     "output_type": "stream",
     "text": [
      "Epoch 70, Loss 0.0339\n",
      "Training Accuracy: 0.9607, Testing Accuracy: 0.9652\n",
      "\n"
     ]
    },
    {
     "name": "stdout",
     "output_type": "stream",
     "text": [
      "Epoch 80, Loss 0.032\n",
      "Training Accuracy: 0.9625, Testing Accuracy: 0.9667\n",
      "\n"
     ]
    },
    {
     "name": "stdout",
     "output_type": "stream",
     "text": [
      "Epoch 90, Loss 0.0305\n",
      "Training Accuracy: 0.9641, Testing Accuracy: 0.9672\n",
      "\n"
     ]
    },
    {
     "name": "stdout",
     "output_type": "stream",
     "text": [
      "Epoch 100, Loss 0.0293\n",
      "Training Accuracy: 0.9653, Testing Accuracy: 0.9667\n",
      "\n"
     ]
    },
    {
     "name": "stdout",
     "output_type": "stream",
     "text": [
      "Epoch 110, Loss 0.0283\n",
      "Training Accuracy: 0.9658, Testing Accuracy: 0.9682\n",
      "\n"
     ]
    },
    {
     "name": "stdout",
     "output_type": "stream",
     "text": [
      "Epoch 120, Loss 0.0274\n",
      "Training Accuracy: 0.9671, Testing Accuracy: 0.9693\n",
      "\n"
     ]
    },
    {
     "name": "stdout",
     "output_type": "stream",
     "text": [
      "Epoch 130, Loss 0.0266\n",
      "Training Accuracy: 0.9680, Testing Accuracy: 0.9698\n",
      "\n"
     ]
    },
    {
     "name": "stdout",
     "output_type": "stream",
     "text": [
      "Epoch 140, Loss 0.0259\n",
      "Training Accuracy: 0.9693, Testing Accuracy: 0.9703\n",
      "\n"
     ]
    },
    {
     "name": "stdout",
     "output_type": "stream",
     "text": [
      "Epoch 150, Loss 0.0253\n",
      "Training Accuracy: 0.9703, Testing Accuracy: 0.9708\n",
      "\n"
     ]
    },
    {
     "name": "stdout",
     "output_type": "stream",
     "text": [
      "Epoch 160, Loss 0.0247\n",
      "Training Accuracy: 0.9710, Testing Accuracy: 0.9723\n",
      "\n"
     ]
    },
    {
     "name": "stdout",
     "output_type": "stream",
     "text": [
      "Epoch 170, Loss 0.0241\n",
      "Training Accuracy: 0.9720, Testing Accuracy: 0.9728\n",
      "\n"
     ]
    },
    {
     "name": "stdout",
     "output_type": "stream",
     "text": [
      "Epoch 180, Loss 0.0236\n",
      "Training Accuracy: 0.9723, Testing Accuracy: 0.9733\n",
      "\n"
     ]
    },
    {
     "name": "stdout",
     "output_type": "stream",
     "text": [
      "Epoch 190, Loss 0.0231\n",
      "Training Accuracy: 0.9727, Testing Accuracy: 0.9738\n",
      "\n"
     ]
    },
    {
     "name": "stdout",
     "output_type": "stream",
     "text": [
      "Epoch 200, Loss 0.0227\n",
      "Training Accuracy: 0.9734, Testing Accuracy: 0.9733\n",
      "\n"
     ]
    },
    {
     "name": "stdout",
     "output_type": "stream",
     "text": [
      "Epoch 210, Loss 0.0223\n",
      "Training Accuracy: 0.9742, Testing Accuracy: 0.9733\n",
      "\n"
     ]
    },
    {
     "name": "stdout",
     "output_type": "stream",
     "text": [
      "Epoch 220, Loss 0.0219\n",
      "Training Accuracy: 0.9748, Testing Accuracy: 0.9738\n",
      "\n"
     ]
    },
    {
     "name": "stdout",
     "output_type": "stream",
     "text": [
      "Epoch 230, Loss 0.0215\n",
      "Training Accuracy: 0.9750, Testing Accuracy: 0.9738\n",
      "\n"
     ]
    },
    {
     "name": "stdout",
     "output_type": "stream",
     "text": [
      "Epoch 240, Loss 0.0211\n",
      "Training Accuracy: 0.9756, Testing Accuracy: 0.9738\n",
      "\n"
     ]
    },
    {
     "data": {
      "text/plain": [
       "0.0296276366045801"
      ]
     },
     "execution_count": 22,
     "metadata": {},
     "output_type": "execute_result"
    }
   ],
   "source": [
    "nn_learner.train_loop(dl)"
   ]
  },
  {
   "cell_type": "code",
   "execution_count": 23,
   "id": "e0163366",
   "metadata": {
    "execution": {
     "iopub.execute_input": "2021-09-21T20:13:57.822839Z",
     "iopub.status.busy": "2021-09-21T20:13:57.822217Z",
     "iopub.status.idle": "2021-09-21T20:14:13.995406Z",
     "shell.execute_reply": "2021-09-21T20:14:13.996238Z"
    },
    "papermill": {
     "duration": 16.24424,
     "end_time": "2021-09-21T20:14:13.996399",
     "exception": false,
     "start_time": "2021-09-21T20:13:57.752159",
     "status": "completed"
    },
    "tags": []
   },
   "outputs": [
    {
     "name": "stdout",
     "output_type": "stream",
     "text": [
      "Epoch 0, Loss 0.2185\n",
      "Training Accuracy: 0.7142, Testing Accuracy: 0.7238\n",
      "\n"
     ]
    },
    {
     "name": "stdout",
     "output_type": "stream",
     "text": [
      "Epoch 10, Loss 0.1039\n",
      "Training Accuracy: 0.9009, Testing Accuracy: 0.9108\n",
      "\n"
     ]
    },
    {
     "name": "stdout",
     "output_type": "stream",
     "text": [
      "Epoch 20, Loss 0.0801\n",
      "Training Accuracy: 0.9228, Testing Accuracy: 0.9350\n",
      "\n"
     ]
    },
    {
     "name": "stdout",
     "output_type": "stream",
     "text": [
      "Epoch 30, Loss 0.0691\n",
      "Training Accuracy: 0.9330, Testing Accuracy: 0.9451\n",
      "\n"
     ]
    },
    {
     "name": "stdout",
     "output_type": "stream",
     "text": [
      "Epoch 40, Loss 0.0624\n",
      "Training Accuracy: 0.9385, Testing Accuracy: 0.9516\n",
      "\n"
     ]
    },
    {
     "name": "stdout",
     "output_type": "stream",
     "text": [
      "Epoch 50, Loss 0.0579\n",
      "Training Accuracy: 0.9417, Testing Accuracy: 0.9572\n",
      "\n"
     ]
    },
    {
     "name": "stdout",
     "output_type": "stream",
     "text": [
      "Epoch 60, Loss 0.0545\n",
      "Training Accuracy: 0.9452, Testing Accuracy: 0.9587\n",
      "\n"
     ]
    },
    {
     "name": "stdout",
     "output_type": "stream",
     "text": [
      "Epoch 70, Loss 0.0519\n",
      "Training Accuracy: 0.9478, Testing Accuracy: 0.9602\n",
      "\n"
     ]
    },
    {
     "name": "stdout",
     "output_type": "stream",
     "text": [
      "Epoch 80, Loss 0.0498\n",
      "Training Accuracy: 0.9490, Testing Accuracy: 0.9602\n",
      "\n"
     ]
    },
    {
     "name": "stdout",
     "output_type": "stream",
     "text": [
      "Epoch 90, Loss 0.0481\n",
      "Training Accuracy: 0.9507, Testing Accuracy: 0.9607\n",
      "\n"
     ]
    },
    {
     "name": "stdout",
     "output_type": "stream",
     "text": [
      "Epoch 100, Loss 0.0466\n",
      "Training Accuracy: 0.9515, Testing Accuracy: 0.9622\n",
      "\n"
     ]
    },
    {
     "name": "stdout",
     "output_type": "stream",
     "text": [
      "Epoch 110, Loss 0.0454\n",
      "Training Accuracy: 0.9523, Testing Accuracy: 0.9642\n",
      "\n"
     ]
    },
    {
     "name": "stdout",
     "output_type": "stream",
     "text": [
      "Epoch 120, Loss 0.0443\n",
      "Training Accuracy: 0.9528, Testing Accuracy: 0.9642\n",
      "\n"
     ]
    },
    {
     "name": "stdout",
     "output_type": "stream",
     "text": [
      "Epoch 130, Loss 0.0433\n",
      "Training Accuracy: 0.9538, Testing Accuracy: 0.9647\n",
      "\n"
     ]
    },
    {
     "name": "stdout",
     "output_type": "stream",
     "text": [
      "Epoch 140, Loss 0.0425\n",
      "Training Accuracy: 0.9544, Testing Accuracy: 0.9647\n",
      "\n"
     ]
    },
    {
     "name": "stdout",
     "output_type": "stream",
     "text": [
      "Epoch 150, Loss 0.0417\n",
      "Training Accuracy: 0.9553, Testing Accuracy: 0.9647\n",
      "\n"
     ]
    },
    {
     "name": "stdout",
     "output_type": "stream",
     "text": [
      "Epoch 160, Loss 0.041\n",
      "Training Accuracy: 0.9560, Testing Accuracy: 0.9652\n",
      "\n"
     ]
    },
    {
     "name": "stdout",
     "output_type": "stream",
     "text": [
      "Epoch 170, Loss 0.0404\n",
      "Training Accuracy: 0.9567, Testing Accuracy: 0.9652\n",
      "\n"
     ]
    },
    {
     "name": "stdout",
     "output_type": "stream",
     "text": [
      "Epoch 180, Loss 0.0398\n",
      "Training Accuracy: 0.9571, Testing Accuracy: 0.9657\n",
      "\n"
     ]
    },
    {
     "name": "stdout",
     "output_type": "stream",
     "text": [
      "Epoch 190, Loss 0.0393\n",
      "Training Accuracy: 0.9575, Testing Accuracy: 0.9657\n",
      "\n"
     ]
    },
    {
     "name": "stdout",
     "output_type": "stream",
     "text": [
      "Epoch 200, Loss 0.0388\n",
      "Training Accuracy: 0.9580, Testing Accuracy: 0.9657\n",
      "\n"
     ]
    },
    {
     "name": "stdout",
     "output_type": "stream",
     "text": [
      "Epoch 210, Loss 0.0383\n",
      "Training Accuracy: 0.9584, Testing Accuracy: 0.9662\n",
      "\n"
     ]
    },
    {
     "name": "stdout",
     "output_type": "stream",
     "text": [
      "Epoch 220, Loss 0.0379\n",
      "Training Accuracy: 0.9585, Testing Accuracy: 0.9672\n",
      "\n"
     ]
    },
    {
     "name": "stdout",
     "output_type": "stream",
     "text": [
      "Epoch 230, Loss 0.0375\n",
      "Training Accuracy: 0.9587, Testing Accuracy: 0.9682\n",
      "\n"
     ]
    },
    {
     "name": "stdout",
     "output_type": "stream",
     "text": [
      "Epoch 240, Loss 0.0371\n",
      "Training Accuracy: 0.9591, Testing Accuracy: 0.9688\n",
      "\n"
     ]
    },
    {
     "data": {
      "text/plain": [
       "0.04470587882775556"
      ]
     },
     "execution_count": 23,
     "metadata": {},
     "output_type": "execute_result"
    }
   ],
   "source": [
    "lr_learner.train_loop(dl)"
   ]
  },
  {
   "cell_type": "code",
   "execution_count": 24,
   "id": "ca410940",
   "metadata": {
    "execution": {
     "iopub.execute_input": "2021-09-21T20:14:14.107697Z",
     "iopub.status.busy": "2021-09-21T20:14:14.107044Z",
     "iopub.status.idle": "2021-09-21T20:14:14.376273Z",
     "shell.execute_reply": "2021-09-21T20:14:14.375483Z"
    },
    "papermill": {
     "duration": 0.332271,
     "end_time": "2021-09-21T20:14:14.376408",
     "exception": false,
     "start_time": "2021-09-21T20:14:14.044137",
     "status": "completed"
    },
    "tags": []
   },
   "outputs": [
    {
     "data": {
      "text/plain": [
       "<matplotlib.legend.Legend at 0x7fd8ac440908>"
      ]
     },
     "execution_count": 24,
     "metadata": {},
     "output_type": "execute_result"
    },
    {
     "data": {
      "image/png": "[encoded data removed]",
      "text/plain": [
       "<Figure size 1080x720 with 1 Axes>"
      ]
     },
     "metadata": {
      "needs_background": "light"
     },
     "output_type": "display_data"
    }
   ],
   "source": [
    "#comparing the results of NN and LR\n",
    "plt.figure(figsize=(15,10))\n",
    "\n",
    "# Neural Network plots\n",
    "plt.plot(acc_nn.accuracies, 'r-', label = \"Training Accuracies - NN\")\n",
    "plt.plot(acc_nn.test_accuracies, 'g-', label = \"Testing Accuracies - NN\")\n",
    "\n",
    "# Logistic Regression plots\n",
    "plt.plot(acc_lr.accuracies, 'k-', label = \"Training Accuracies - LR\")\n",
    "plt.plot(acc_lr.test_accuracies, 'b-', label = \"Testing Accuracies - LR\")\n",
    "plt.legend()"
   ]
  },
  {
   "cell_type": "markdown",
   "id": "80dfb35c",
   "metadata": {
    "papermill": {
     "duration": 0.048339,
     "end_time": "2021-09-21T20:14:14.474071",
     "exception": false,
     "start_time": "2021-09-21T20:14:14.425732",
     "status": "completed"
    },
    "tags": []
   },
   "source": [
    "#### Plotting the outputs of this layer of the NN.\n"
   ]
  },
  {
   "cell_type": "code",
   "execution_count": 25,
   "id": "45eb2ff5",
   "metadata": {
    "execution": {
     "iopub.execute_input": "2021-09-21T20:14:14.575447Z",
     "iopub.status.busy": "2021-09-21T20:14:14.574822Z",
     "iopub.status.idle": "2021-09-21T20:14:14.597340Z",
     "shell.execute_reply": "2021-09-21T20:14:14.597862Z"
    },
    "papermill": {
     "duration": 0.075377,
     "end_time": "2021-09-21T20:14:14.598018",
     "exception": false,
     "start_time": "2021-09-21T20:14:14.522641",
     "status": "completed"
    },
    "tags": []
   },
   "outputs": [],
   "source": [
    "new_model = Model(layers[:-2])\n",
    "testing_plot = new_model(testing_data_x)"
   ]
  },
  {
   "cell_type": "code",
   "execution_count": 26,
   "id": "4c0a5485",
   "metadata": {
    "execution": {
     "iopub.execute_input": "2021-09-21T20:14:14.724065Z",
     "iopub.status.busy": "2021-09-21T20:14:14.723337Z",
     "iopub.status.idle": "2021-09-21T20:14:14.961138Z",
     "shell.execute_reply": "2021-09-21T20:14:14.960075Z"
    },
    "papermill": {
     "duration": 0.307753,
     "end_time": "2021-09-21T20:14:14.961277",
     "exception": false,
     "start_time": "2021-09-21T20:14:14.653524",
     "status": "completed"
    },
    "tags": []
   },
   "outputs": [
    {
     "data": {
      "text/plain": [
       "Text(0.5, 1.0, 'Outputs')"
      ]
     },
     "execution_count": 26,
     "metadata": {},
     "output_type": "execute_result"
    },
    {
     "data": {
      "image/png": "[encoded data removed]",
      "text/plain": [
       "<Figure size 576x504 with 1 Axes>"
      ]
     },
     "metadata": {
      "needs_background": "light"
     },
     "output_type": "display_data"
    }
   ],
   "source": [
    "# Plotting the scatter plot of points and color coding by class\n",
    "plt.figure(figsize=(8,7))\n",
    "plt.scatter(testing_plot[:,0], testing_plot[:,1], alpha = 0.1, c = y_test.ravel());\n",
    "plt.title('Outputs')"
   ]
  },
  {
   "cell_type": "markdown",
   "id": "a74fcf8f",
   "metadata": {
    "papermill": {
     "duration": 0.051395,
     "end_time": "2021-09-21T20:14:15.065941",
     "exception": false,
     "start_time": "2021-09-21T20:14:15.014546",
     "status": "completed"
    },
    "tags": []
   },
   "source": [
    "Probability contours"
   ]
  },
  {
   "cell_type": "code",
   "execution_count": 27,
   "id": "d0afc8e3",
   "metadata": {
    "execution": {
     "iopub.execute_input": "2021-09-21T20:14:15.180494Z",
     "iopub.status.busy": "2021-09-21T20:14:15.177514Z",
     "iopub.status.idle": "2021-09-21T20:14:15.187726Z",
     "shell.execute_reply": "2021-09-21T20:14:15.187185Z"
    },
    "papermill": {
     "duration": 0.070775,
     "end_time": "2021-09-21T20:14:15.187856",
     "exception": false,
     "start_time": "2021-09-21T20:14:15.117081",
     "status": "completed"
    },
    "tags": []
   },
   "outputs": [],
   "source": [
    "model_prob = Model(layers[-2:]) "
   ]
  },
  {
   "cell_type": "code",
   "execution_count": 28,
   "id": "9b96e238",
   "metadata": {
    "execution": {
     "iopub.execute_input": "2021-09-21T20:14:15.343660Z",
     "iopub.status.busy": "2021-09-21T20:14:15.341508Z",
     "iopub.status.idle": "2021-09-21T20:14:15.358150Z",
     "shell.execute_reply": "2021-09-21T20:14:15.358672Z"
    },
    "papermill": {
     "duration": 0.078296,
     "end_time": "2021-09-21T20:14:15.358836",
     "exception": false,
     "start_time": "2021-09-21T20:14:15.280540",
     "status": "completed"
    },
    "tags": []
   },
   "outputs": [],
   "source": [
    "#creating the x and y ranges according to the above generated plot.\n",
    "x_range = np.linspace(-4, 1, 100) \n",
    "y_range = np.linspace(-6, 6, 100) \n",
    "x_grid, y_grid = np.meshgrid(x_range, y_range) # x_grid and y_grig are of size 100 X 100\n",
    "\n",
    "# converting x_grid and y_grid to continuous arrays\n",
    "x_gridflat = np.ravel(x_grid)\n",
    "y_gridflat = np.ravel(y_grid)\n",
    "\n",
    "# The last layer of the current model takes two columns as input. Hence transpose of np.vstack() is required.\n",
    "X = np.vstack((x_gridflat, y_gridflat)).T\n",
    "\n",
    "prob_contour = model_prob(X).reshape(100,100) "
   ]
  },
  {
   "cell_type": "code",
   "execution_count": 29,
   "id": "da72499a",
   "metadata": {
    "execution": {
     "iopub.execute_input": "2021-09-21T20:14:15.483717Z",
     "iopub.status.busy": "2021-09-21T20:14:15.483070Z",
     "iopub.status.idle": "2021-09-21T20:14:15.767800Z",
     "shell.execute_reply": "2021-09-21T20:14:15.768571Z"
    },
    "papermill": {
     "duration": 0.350299,
     "end_time": "2021-09-21T20:14:15.768734",
     "exception": false,
     "start_time": "2021-09-21T20:14:15.418435",
     "status": "completed"
    },
    "tags": []
   },
   "outputs": [
    {
     "data": {
      "image/png": "[encoded data removed]",
      "text/plain": [
       "<Figure size 720x648 with 1 Axes>"
      ]
     },
     "metadata": {
      "needs_background": "light"
     },
     "output_type": "display_data"
    }
   ],
   "source": [
    "plt.figure(figsize=(10,9))\n",
    "plt.scatter(testing_plot[:,0], testing_plot[:,1], alpha = 0.1, c = y_test.ravel())\n",
    "contours = plt.contour(x_grid,y_grid,prob_contour)\n",
    "plt.title('Probability Contours')\n",
    "plt.clabel(contours, inline = True );"
   ]
  },
  {
   "cell_type": "code",
   "execution_count": null,
   "id": "e81b4ac7",
   "metadata": {
    "papermill": {
     "duration": 0.053683,
     "end_time": "2021-09-21T20:14:15.877031",
     "exception": false,
     "start_time": "2021-09-21T20:14:15.823348",
     "status": "completed"
    },
    "tags": []
   },
   "outputs": [],
   "source": []
  }
 ],
 "metadata": {
  "kernelspec": {
   "display_name": "Python 3",
   "language": "python",
   "name": "python3"
  },
  "language_info": {
   "codemirror_mode": {
    "name": "ipython",
    "version": 3
   },
   "file_extension": ".py",
   "mimetype": "text/x-python",
   "name": "python",
   "nbconvert_exporter": "python",
   "pygments_lexer": "ipython3",
   "version": "3.6.15"
  },
  "papermill": {
   "default_parameters": {},
   "duration": 118.845725,
   "end_time": "2021-09-21T20:14:16.340679",
   "environment_variables": {},
   "exception": null,
   "input_path": "2020-08-11-part2.ipynb",
   "output_path": "2020-08-11-part2.ipynb",
   "parameters": {},
   "start_time": "2021-09-21T20:12:17.494954",
   "version": "2.3.3"
  }
 },
 "nbformat": 4,
 "nbformat_minor": 5
}