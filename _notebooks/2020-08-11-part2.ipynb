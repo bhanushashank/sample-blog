{
 "cells": [
  {
   "cell_type": "markdown",
   "id": "98380cd3",
   "metadata": {
    "papermill": {
     "duration": 0.035032,
     "end_time": "2022-11-20T20:10:16.919896",
     "exception": false,
     "start_time": "2022-11-20T20:10:16.884864",
     "status": "completed"
    },
    "tags": []
   },
   "source": [
    "# Distinguish Your Own Digits (DYOD)"
   ]
  },
  {
   "cell_type": "markdown",
   "id": "ef31240d",
   "metadata": {
    "papermill": {
     "duration": 0.027289,
     "end_time": "2022-11-20T20:10:16.976127",
     "exception": false,
     "start_time": "2022-11-20T20:10:16.948838",
     "status": "completed"
    },
    "tags": []
   },
   "source": [
    "You are going to write a classifier that distinguishes between the number 3 and number 8."
   ]
  },
  {
   "cell_type": "code",
   "execution_count": 1,
   "id": "b15c8646",
   "metadata": {
    "execution": {
     "iopub.execute_input": "2022-11-20T20:10:17.043870Z",
     "iopub.status.busy": "2022-11-20T20:10:17.043184Z",
     "iopub.status.idle": "2022-11-20T20:10:17.057066Z",
     "shell.execute_reply": "2022-11-20T20:10:17.056351Z"
    },
    "papermill": {
     "duration": 0.052818,
     "end_time": "2022-11-20T20:10:17.057250",
     "exception": false,
     "start_time": "2022-11-20T20:10:17.004432",
     "status": "completed"
    },
    "tags": []
   },
   "outputs": [],
   "source": [
    "%load_ext autoreload\n",
    "%autoreload 2"
   ]
  },
  {
   "cell_type": "code",
   "execution_count": 2,
   "id": "22ef38dc",
   "metadata": {
    "execution": {
     "iopub.execute_input": "2022-11-20T20:10:17.121874Z",
     "iopub.status.busy": "2022-11-20T20:10:17.121198Z",
     "iopub.status.idle": "2022-11-20T20:10:17.714190Z",
     "shell.execute_reply": "2022-11-20T20:10:17.713435Z"
    },
    "papermill": {
     "duration": 0.625353,
     "end_time": "2022-11-20T20:10:17.714333",
     "exception": false,
     "start_time": "2022-11-20T20:10:17.088980",
     "status": "completed"
    },
    "tags": []
   },
   "outputs": [],
   "source": [
    "%matplotlib inline\n",
    "import numpy as np\n",
    "import matplotlib.pyplot as plt\n",
    "import pandas as pd"
   ]
  },
  {
   "cell_type": "markdown",
   "id": "ba036198",
   "metadata": {
    "papermill": {
     "duration": 0.02799,
     "end_time": "2022-11-20T20:10:17.770682",
     "exception": false,
     "start_time": "2022-11-20T20:10:17.742692",
     "status": "completed"
    },
    "tags": []
   },
   "source": [
    "From the command line run `pip install mnist`. This is a library that will help you bring down the mnist dataset. If you run this from a notebook, you need to put  `!pip install mnist` in a cell by itself."
   ]
  },
  {
   "cell_type": "code",
   "execution_count": 3,
   "id": "bb6ad8a1",
   "metadata": {
    "execution": {
     "iopub.execute_input": "2022-11-20T20:10:17.837231Z",
     "iopub.status.busy": "2022-11-20T20:10:17.836558Z",
     "iopub.status.idle": "2022-11-20T20:10:19.729226Z",
     "shell.execute_reply": "2022-11-20T20:10:19.729751Z"
    },
    "papermill": {
     "duration": 1.930006,
     "end_time": "2022-11-20T20:10:19.729920",
     "exception": false,
     "start_time": "2022-11-20T20:10:17.799914",
     "status": "completed"
    },
    "tags": []
   },
   "outputs": [
    {
     "name": "stdout",
     "output_type": "stream",
     "text": [
      "Collecting mnist\r\n"
     ]
    },
    {
     "name": "stdout",
     "output_type": "stream",
     "text": [
      "  Downloading mnist-0.2.2-py2.py3-none-any.whl (3.5 kB)\r\n",
      "Requirement already satisfied: numpy in /opt/hostedtoolcache/Python/3.6.15/x64/lib/python3.6/site-packages (from mnist) (1.19.5)\r\n"
     ]
    },
    {
     "name": "stdout",
     "output_type": "stream",
     "text": [
      "Installing collected packages: mnist\r\n"
     ]
    },
    {
     "name": "stdout",
     "output_type": "stream",
     "text": [
      "Successfully installed mnist-0.2.2\r\n"
     ]
    }
   ],
   "source": [
    "!pip install mnist"
   ]
  },
  {
   "cell_type": "markdown",
   "id": "69df9c9a",
   "metadata": {
    "papermill": {
     "duration": 0.029078,
     "end_time": "2022-11-20T20:10:19.788284",
     "exception": false,
     "start_time": "2022-11-20T20:10:19.759206",
     "status": "completed"
    },
    "tags": []
   },
   "source": [
    "## Preparing the Data"
   ]
  },
  {
   "cell_type": "code",
   "execution_count": 4,
   "id": "7f69d806",
   "metadata": {
    "execution": {
     "iopub.execute_input": "2022-11-20T20:10:19.855028Z",
     "iopub.status.busy": "2022-11-20T20:10:19.850978Z",
     "iopub.status.idle": "2022-11-20T20:10:19.868571Z",
     "shell.execute_reply": "2022-11-20T20:10:19.869272Z"
    },
    "papermill": {
     "duration": 0.052457,
     "end_time": "2022-11-20T20:10:19.869424",
     "exception": false,
     "start_time": "2022-11-20T20:10:19.816967",
     "status": "completed"
    },
    "tags": []
   },
   "outputs": [],
   "source": [
    "import mnist"
   ]
  },
  {
   "cell_type": "code",
   "execution_count": 5,
   "id": "a411e44f",
   "metadata": {
    "execution": {
     "iopub.execute_input": "2022-11-20T20:10:19.944639Z",
     "iopub.status.busy": "2022-11-20T20:10:19.934596Z",
     "iopub.status.idle": "2022-11-20T20:10:20.778028Z",
     "shell.execute_reply": "2022-11-20T20:10:20.778667Z"
    },
    "papermill": {
     "duration": 0.879012,
     "end_time": "2022-11-20T20:10:20.778859",
     "exception": false,
     "start_time": "2022-11-20T20:10:19.899847",
     "status": "completed"
    },
    "tags": []
   },
   "outputs": [],
   "source": [
    "train_images = mnist.train_images()\n",
    "train_labels = mnist.train_labels()"
   ]
  },
  {
   "cell_type": "code",
   "execution_count": 6,
   "id": "dceab3a5",
   "metadata": {
    "execution": {
     "iopub.execute_input": "2022-11-20T20:10:20.853581Z",
     "iopub.status.busy": "2022-11-20T20:10:20.842233Z",
     "iopub.status.idle": "2022-11-20T20:10:20.857859Z",
     "shell.execute_reply": "2022-11-20T20:10:20.857158Z"
    },
    "papermill": {
     "duration": 0.049568,
     "end_time": "2022-11-20T20:10:20.857982",
     "exception": false,
     "start_time": "2022-11-20T20:10:20.808414",
     "status": "completed"
    },
    "tags": []
   },
   "outputs": [
    {
     "data": {
      "text/plain": [
       "((60000, 28, 28), (60000,))"
      ]
     },
     "execution_count": 6,
     "metadata": {},
     "output_type": "execute_result"
    }
   ],
   "source": [
    "train_images.shape, train_labels.shape"
   ]
  },
  {
   "cell_type": "code",
   "execution_count": 7,
   "id": "f50dc2bb",
   "metadata": {
    "execution": {
     "iopub.execute_input": "2022-11-20T20:10:20.927134Z",
     "iopub.status.busy": "2022-11-20T20:10:20.922406Z",
     "iopub.status.idle": "2022-11-20T20:10:21.215222Z",
     "shell.execute_reply": "2022-11-20T20:10:21.215761Z"
    },
    "papermill": {
     "duration": 0.328601,
     "end_time": "2022-11-20T20:10:21.215928",
     "exception": false,
     "start_time": "2022-11-20T20:10:20.887327",
     "status": "completed"
    },
    "tags": []
   },
   "outputs": [],
   "source": [
    "test_images = mnist.test_images()\n",
    "test_labels = mnist.test_labels()"
   ]
  },
  {
   "cell_type": "code",
   "execution_count": 8,
   "id": "fc38cf1b",
   "metadata": {
    "execution": {
     "iopub.execute_input": "2022-11-20T20:10:21.278647Z",
     "iopub.status.busy": "2022-11-20T20:10:21.277948Z",
     "iopub.status.idle": "2022-11-20T20:10:21.293280Z",
     "shell.execute_reply": "2022-11-20T20:10:21.294013Z"
    },
    "papermill": {
     "duration": 0.047954,
     "end_time": "2022-11-20T20:10:21.294190",
     "exception": false,
     "start_time": "2022-11-20T20:10:21.246236",
     "status": "completed"
    },
    "tags": []
   },
   "outputs": [
    {
     "data": {
      "text/plain": [
       "((10000, 28, 28), (10000,))"
      ]
     },
     "execution_count": 8,
     "metadata": {},
     "output_type": "execute_result"
    }
   ],
   "source": [
    "test_images.shape, test_labels.shape"
   ]
  },
  {
   "cell_type": "code",
   "execution_count": 9,
   "id": "f9ed8fe0",
   "metadata": {
    "execution": {
     "iopub.execute_input": "2022-11-20T20:10:21.366985Z",
     "iopub.status.busy": "2022-11-20T20:10:21.366236Z",
     "iopub.status.idle": "2022-11-20T20:10:21.548516Z",
     "shell.execute_reply": "2022-11-20T20:10:21.547949Z"
    },
    "papermill": {
     "duration": 0.222999,
     "end_time": "2022-11-20T20:10:21.548650",
     "exception": false,
     "start_time": "2022-11-20T20:10:21.325651",
     "status": "completed"
    },
    "tags": []
   },
   "outputs": [
    {
     "name": "stdout",
     "output_type": "stream",
     "text": [
      "2\n"
     ]
    },
    {
     "data": {
      "text/plain": [
       "<matplotlib.image.AxesImage at 0x7f696b81fda0>"
      ]
     },
     "execution_count": 9,
     "metadata": {},
     "output_type": "execute_result"
    },
    {
     "data": {
      "image/png": "[encoded data removed]",
      "text/plain": [
       "<Figure size 432x288 with 1 Axes>"
      ]
     },
     "metadata": {
      "needs_background": "light"
     },
     "output_type": "display_data"
    }
   ],
   "source": [
    "image_index = 7776 # You may select anything up to 60,000\n",
    "print(train_labels[image_index]) \n",
    "plt.imshow(train_images[image_index], cmap='Greys')"
   ]
  },
  {
   "cell_type": "markdown",
   "id": "a8d2388d",
   "metadata": {
    "papermill": {
     "duration": 0.032049,
     "end_time": "2022-11-20T20:10:21.611996",
     "exception": false,
     "start_time": "2022-11-20T20:10:21.579947",
     "status": "completed"
    },
    "tags": []
   },
   "source": [
    "## Filter data to get 3 and 8 out"
   ]
  },
  {
   "cell_type": "code",
   "execution_count": 10,
   "id": "776f7fc7",
   "metadata": {
    "execution": {
     "iopub.execute_input": "2022-11-20T20:10:21.683290Z",
     "iopub.status.busy": "2022-11-20T20:10:21.678776Z",
     "iopub.status.idle": "2022-11-20T20:10:21.700544Z",
     "shell.execute_reply": "2022-11-20T20:10:21.699948Z"
    },
    "papermill": {
     "duration": 0.056619,
     "end_time": "2022-11-20T20:10:21.700684",
     "exception": false,
     "start_time": "2022-11-20T20:10:21.644065",
     "status": "completed"
    },
    "tags": []
   },
   "outputs": [],
   "source": [
    "train_filter = np.where((train_labels == 3 ) | (train_labels == 8))\n",
    "test_filter = np.where((test_labels == 3) | (test_labels == 8))\n",
    "X_train, y_train = train_images[train_filter], train_labels[train_filter]\n",
    "X_test, y_test = test_images[test_filter], test_labels[test_filter]"
   ]
  },
  {
   "cell_type": "markdown",
   "id": "948f0b7e",
   "metadata": {
    "papermill": {
     "duration": 0.031535,
     "end_time": "2022-11-20T20:10:21.764801",
     "exception": false,
     "start_time": "2022-11-20T20:10:21.733266",
     "status": "completed"
    },
    "tags": []
   },
   "source": [
    "We normalize the pizel values in the 0 to 1 range"
   ]
  },
  {
   "cell_type": "code",
   "execution_count": 11,
   "id": "ee4c2166",
   "metadata": {
    "execution": {
     "iopub.execute_input": "2022-11-20T20:10:21.835074Z",
     "iopub.status.busy": "2022-11-20T20:10:21.831376Z",
     "iopub.status.idle": "2022-11-20T20:10:21.890624Z",
     "shell.execute_reply": "2022-11-20T20:10:21.889990Z"
    },
    "papermill": {
     "duration": 0.095335,
     "end_time": "2022-11-20T20:10:21.890786",
     "exception": false,
     "start_time": "2022-11-20T20:10:21.795451",
     "status": "completed"
    },
    "tags": []
   },
   "outputs": [],
   "source": [
    "X_train = X_train/255.\n",
    "X_test = X_test/255."
   ]
  },
  {
   "cell_type": "markdown",
   "id": "ddcf4fab",
   "metadata": {
    "papermill": {
     "duration": 0.032639,
     "end_time": "2022-11-20T20:10:21.954701",
     "exception": false,
     "start_time": "2022-11-20T20:10:21.922062",
     "status": "completed"
    },
    "tags": []
   },
   "source": [
    "And setup the labels as 1 (when the digit is 3) and 0 (when the digit is 8)"
   ]
  },
  {
   "cell_type": "code",
   "execution_count": 12,
   "id": "7dc908f2",
   "metadata": {
    "execution": {
     "iopub.execute_input": "2022-11-20T20:10:22.025886Z",
     "iopub.status.busy": "2022-11-20T20:10:22.025221Z",
     "iopub.status.idle": "2022-11-20T20:10:22.038449Z",
     "shell.execute_reply": "2022-11-20T20:10:22.037873Z"
    },
    "papermill": {
     "duration": 0.05175,
     "end_time": "2022-11-20T20:10:22.038572",
     "exception": false,
     "start_time": "2022-11-20T20:10:21.986822",
     "status": "completed"
    },
    "tags": []
   },
   "outputs": [],
   "source": [
    "y_train = 1*(y_train==3)\n",
    "y_test = 1*(y_test==3)"
   ]
  },
  {
   "cell_type": "code",
   "execution_count": 13,
   "id": "01e4e969",
   "metadata": {
    "execution": {
     "iopub.execute_input": "2022-11-20T20:10:22.110519Z",
     "iopub.status.busy": "2022-11-20T20:10:22.109803Z",
     "iopub.status.idle": "2022-11-20T20:10:22.124799Z",
     "shell.execute_reply": "2022-11-20T20:10:22.125478Z"
    },
    "papermill": {
     "duration": 0.052233,
     "end_time": "2022-11-20T20:10:22.125612",
     "exception": false,
     "start_time": "2022-11-20T20:10:22.073379",
     "status": "completed"
    },
    "tags": []
   },
   "outputs": [
    {
     "data": {
      "text/plain": [
       "((11982, 28, 28), (1984, 28, 28))"
      ]
     },
     "execution_count": 13,
     "metadata": {},
     "output_type": "execute_result"
    }
   ],
   "source": [
    "X_train.shape, X_test.shape"
   ]
  },
  {
   "cell_type": "markdown",
   "id": "5ccf3f85",
   "metadata": {
    "papermill": {
     "duration": 0.03107,
     "end_time": "2022-11-20T20:10:22.187086",
     "exception": false,
     "start_time": "2022-11-20T20:10:22.156016",
     "status": "completed"
    },
    "tags": []
   },
   "source": [
    "We reshape the data to flatten the image pixels into a set of features or co-variates:"
   ]
  },
  {
   "cell_type": "code",
   "execution_count": 14,
   "id": "5286a4a3",
   "metadata": {
    "execution": {
     "iopub.execute_input": "2022-11-20T20:10:22.257613Z",
     "iopub.status.busy": "2022-11-20T20:10:22.256875Z",
     "iopub.status.idle": "2022-11-20T20:10:22.272429Z",
     "shell.execute_reply": "2022-11-20T20:10:22.271854Z"
    },
    "papermill": {
     "duration": 0.053465,
     "end_time": "2022-11-20T20:10:22.272554",
     "exception": false,
     "start_time": "2022-11-20T20:10:22.219089",
     "status": "completed"
    },
    "tags": []
   },
   "outputs": [
    {
     "data": {
      "text/plain": [
       "((11982, 784), (1984, 784))"
      ]
     },
     "execution_count": 14,
     "metadata": {},
     "output_type": "execute_result"
    }
   ],
   "source": [
    "X_train = X_train.reshape(X_train.shape[0], -1)\n",
    "X_test = X_test.reshape(X_test.shape[0], -1)\n",
    "X_train.shape, X_test.shape"
   ]
  },
  {
   "cell_type": "code",
   "execution_count": 15,
   "id": "73c5f88a",
   "metadata": {
    "execution": {
     "iopub.execute_input": "2022-11-20T20:10:22.341091Z",
     "iopub.status.busy": "2022-11-20T20:10:22.340414Z",
     "iopub.status.idle": "2022-11-20T20:10:22.361280Z",
     "shell.execute_reply": "2022-11-20T20:10:22.361769Z"
    },
    "papermill": {
     "duration": 0.057076,
     "end_time": "2022-11-20T20:10:22.361922",
     "exception": false,
     "start_time": "2022-11-20T20:10:22.304846",
     "status": "completed"
    },
    "tags": []
   },
   "outputs": [],
   "source": [
    "#Impoting functions from 'Kudzu'\n",
    "from kudzu.model import Model\n",
    "from kudzu.train import Learner\n",
    "from kudzu.optim import GD\n",
    "from kudzu.data import Data, Sampler,Dataloader\n",
    "\n",
    "from kudzu.callbacks import AccCallback\n",
    "from kudzu.callbacks import ClfCallback\n",
    "\n",
    "from kudzu.loss import MSE\n",
    "\n",
    "from kudzu.layer import Sigmoid,Relu\n",
    "from kudzu.layer import Affine"
   ]
  },
  {
   "cell_type": "markdown",
   "id": "bc01172a",
   "metadata": {
    "papermill": {
     "duration": 0.031534,
     "end_time": "2022-11-20T20:10:22.425459",
     "exception": false,
     "start_time": "2022-11-20T20:10:22.393925",
     "status": "completed"
    },
    "tags": []
   },
   "source": [
    "### Let us create a `Config` class, to store important parameters. \n",
    "This class essentially plays the role of a dictionary."
   ]
  },
  {
   "cell_type": "code",
   "execution_count": 16,
   "id": "978281aa",
   "metadata": {
    "execution": {
     "iopub.execute_input": "2022-11-20T20:10:22.493790Z",
     "iopub.status.busy": "2022-11-20T20:10:22.493058Z",
     "iopub.status.idle": "2022-11-20T20:10:22.508135Z",
     "shell.execute_reply": "2022-11-20T20:10:22.507539Z"
    },
    "papermill": {
     "duration": 0.051837,
     "end_time": "2022-11-20T20:10:22.508262",
     "exception": false,
     "start_time": "2022-11-20T20:10:22.456425",
     "status": "completed"
    },
    "tags": []
   },
   "outputs": [],
   "source": [
    "class Config:\n",
    "    pass\n",
    "config = Config()\n",
    "config.lr = 0.001\n",
    "config.num_epochs = 250\n",
    "config.bs = 50"
   ]
  },
  {
   "cell_type": "markdown",
   "id": "1385fa59",
   "metadata": {
    "papermill": {
     "duration": 0.03138,
     "end_time": "2022-11-20T20:10:22.571098",
     "exception": false,
     "start_time": "2022-11-20T20:10:22.539718",
     "status": "completed"
    },
    "tags": []
   },
   "source": [
    "### Running Models with the Training data\n",
    "Details about the network layers:\n",
    "- A first affine layer has 784 inputs and does 100 affine transforms. These are followed by a Relu\n",
    "- A second affine layer has 100 inputs from the 100 activations of the past layer, and does 100 affine transforms. These are followed by a Relu\n",
    "- A third affine layer has 100 activations and does 2 affine transformations to create an embedding for visualization. There is no non-linearity here.\n",
    "- A final \"logistic regression\" which has an affine transform from 2 inputs to 1 output, which is squeezed through a sigmoid.\n"
   ]
  },
  {
   "cell_type": "code",
   "execution_count": 17,
   "id": "2b9c66db",
   "metadata": {
    "execution": {
     "iopub.execute_input": "2022-11-20T20:10:22.640979Z",
     "iopub.status.busy": "2022-11-20T20:10:22.640278Z",
     "iopub.status.idle": "2022-11-20T20:10:22.653501Z",
     "shell.execute_reply": "2022-11-20T20:10:22.652953Z"
    },
    "papermill": {
     "duration": 0.050211,
     "end_time": "2022-11-20T20:10:22.653622",
     "exception": false,
     "start_time": "2022-11-20T20:10:22.603411",
     "status": "completed"
    },
    "tags": []
   },
   "outputs": [],
   "source": [
    "data = Data(X_train, y_train.reshape(-1,1))\n",
    "sampler = Sampler(data, config.bs, shuffle=True)\n",
    "\n",
    "dl = Dataloader(data, sampler)\n",
    "\n",
    "opt = GD(config.lr)\n",
    "loss = MSE()"
   ]
  },
  {
   "cell_type": "code",
   "execution_count": 18,
   "id": "b275e4c2",
   "metadata": {
    "execution": {
     "iopub.execute_input": "2022-11-20T20:10:22.720746Z",
     "iopub.status.busy": "2022-11-20T20:10:22.719970Z",
     "iopub.status.idle": "2022-11-20T20:10:22.733887Z",
     "shell.execute_reply": "2022-11-20T20:10:22.733340Z"
    },
    "papermill": {
     "duration": 0.049302,
     "end_time": "2022-11-20T20:10:22.734006",
     "exception": false,
     "start_time": "2022-11-20T20:10:22.684704",
     "status": "completed"
    },
    "tags": []
   },
   "outputs": [],
   "source": [
    "training_data_x = X_train\n",
    "testing_data_x = X_test\n",
    "training_data_y = y_train.reshape(-1,1)\n",
    "testing_data_y = y_test.reshape(-1,1)"
   ]
  },
  {
   "cell_type": "code",
   "execution_count": 19,
   "id": "76951160",
   "metadata": {
    "execution": {
     "iopub.execute_input": "2022-11-20T20:10:22.800688Z",
     "iopub.status.busy": "2022-11-20T20:10:22.799981Z",
     "iopub.status.idle": "2022-11-20T20:10:22.817898Z",
     "shell.execute_reply": "2022-11-20T20:10:22.817321Z"
    },
    "papermill": {
     "duration": 0.053359,
     "end_time": "2022-11-20T20:10:22.818014",
     "exception": false,
     "start_time": "2022-11-20T20:10:22.764655",
     "status": "completed"
    },
    "tags": []
   },
   "outputs": [
    {
     "name": "stdout",
     "output_type": "stream",
     "text": [
      "xavier\n",
      "xavier\n",
      "xavier\n",
      "xavier\n",
      "xavier\n"
     ]
    }
   ],
   "source": [
    "layers = [Affine(\"first\", 784, 100), Relu(\"first\"), Affine(\"second\", 100, 100), Relu(\"second\"), Affine(\"third\", 100, 2), Affine(\"last\", 2, 1), Sigmoid(\"last\")]\n",
    "model_nn = Model(layers)\n",
    "model_lr = Model([Affine(\"logits\", 784, 1), Sigmoid(\"sigmoid\")])"
   ]
  },
  {
   "cell_type": "code",
   "execution_count": 20,
   "id": "6eede77a",
   "metadata": {
    "execution": {
     "iopub.execute_input": "2022-11-20T20:10:22.886390Z",
     "iopub.status.busy": "2022-11-20T20:10:22.885610Z",
     "iopub.status.idle": "2022-11-20T20:10:22.897719Z",
     "shell.execute_reply": "2022-11-20T20:10:22.898338Z"
    },
    "papermill": {
     "duration": 0.049308,
     "end_time": "2022-11-20T20:10:22.898466",
     "exception": false,
     "start_time": "2022-11-20T20:10:22.849158",
     "status": "completed"
    },
    "tags": []
   },
   "outputs": [],
   "source": [
    "nn_learner = Learner(loss, model_nn, opt, config.num_epochs)\n",
    "acc_nn = ClfCallback(nn_learner, config.bs, training_data_x , testing_data_x, training_data_y, testing_data_y)\n",
    "nn_learner.set_callbacks([acc_nn])"
   ]
  },
  {
   "cell_type": "code",
   "execution_count": 21,
   "id": "877b6cc7",
   "metadata": {
    "execution": {
     "iopub.execute_input": "2022-11-20T20:10:22.966964Z",
     "iopub.status.busy": "2022-11-20T20:10:22.966231Z",
     "iopub.status.idle": "2022-11-20T20:10:22.978346Z",
     "shell.execute_reply": "2022-11-20T20:10:22.979038Z"
    },
    "papermill": {
     "duration": 0.049268,
     "end_time": "2022-11-20T20:10:22.979171",
     "exception": false,
     "start_time": "2022-11-20T20:10:22.929903",
     "status": "completed"
    },
    "tags": []
   },
   "outputs": [],
   "source": [
    "lr_learner = Learner(loss, model_lr, opt, config.num_epochs)\n",
    "acc_lr = ClfCallback(lr_learner, config.bs, training_data_x , testing_data_x, training_data_y, testing_data_y)\n",
    "lr_learner.set_callbacks([acc_lr])"
   ]
  },
  {
   "cell_type": "code",
   "execution_count": 22,
   "id": "d9b133c3",
   "metadata": {
    "execution": {
     "iopub.execute_input": "2022-11-20T20:10:23.049236Z",
     "iopub.status.busy": "2022-11-20T20:10:23.048535Z",
     "iopub.status.idle": "2022-11-20T20:12:27.260468Z",
     "shell.execute_reply": "2022-11-20T20:12:27.261428Z"
    },
    "papermill": {
     "duration": 124.250368,
     "end_time": "2022-11-20T20:12:27.261589",
     "exception": false,
     "start_time": "2022-11-20T20:10:23.011221",
     "status": "completed"
    },
    "tags": []
   },
   "outputs": [
    {
     "name": "stdout",
     "output_type": "stream",
     "text": [
      "Epoch 0, Loss 0.2532\n",
      "Training Accuracy: 0.5295, Testing Accuracy: 0.5378\n",
      "\n"
     ]
    },
    {
     "name": "stdout",
     "output_type": "stream",
     "text": [
      "Epoch 10, Loss 0.1161\n",
      "Training Accuracy: 0.9053, Testing Accuracy: 0.9178\n",
      "\n"
     ]
    },
    {
     "name": "stdout",
     "output_type": "stream",
     "text": [
      "Epoch 20, Loss 0.065\n",
      "Training Accuracy: 0.9333, Testing Accuracy: 0.9461\n",
      "\n"
     ]
    },
    {
     "name": "stdout",
     "output_type": "stream",
     "text": [
      "Epoch 30, Loss 0.0492\n",
      "Training Accuracy: 0.9447, Testing Accuracy: 0.9572\n",
      "\n"
     ]
    },
    {
     "name": "stdout",
     "output_type": "stream",
     "text": [
      "Epoch 40, Loss 0.0418\n",
      "Training Accuracy: 0.9520, Testing Accuracy: 0.9642\n",
      "\n"
     ]
    },
    {
     "name": "stdout",
     "output_type": "stream",
     "text": [
      "Epoch 50, Loss 0.0375\n",
      "Training Accuracy: 0.9555, Testing Accuracy: 0.9677\n",
      "\n"
     ]
    },
    {
     "name": "stdout",
     "output_type": "stream",
     "text": [
      "Epoch 60, Loss 0.0346\n",
      "Training Accuracy: 0.9588, Testing Accuracy: 0.9682\n",
      "\n"
     ]
    },
    {
     "name": "stdout",
     "output_type": "stream",
     "text": [
      "Epoch 70, Loss 0.0324\n",
      "Training Accuracy: 0.9614, Testing Accuracy: 0.9698\n",
      "\n"
     ]
    },
    {
     "name": "stdout",
     "output_type": "stream",
     "text": [
      "Epoch 80, Loss 0.0308\n",
      "Training Accuracy: 0.9626, Testing Accuracy: 0.9713\n",
      "\n"
     ]
    },
    {
     "name": "stdout",
     "output_type": "stream",
     "text": [
      "Epoch 90, Loss 0.0294\n",
      "Training Accuracy: 0.9644, Testing Accuracy: 0.9723\n",
      "\n"
     ]
    },
    {
     "name": "stdout",
     "output_type": "stream",
     "text": [
      "Epoch 100, Loss 0.0283\n",
      "Training Accuracy: 0.9660, Testing Accuracy: 0.9718\n",
      "\n"
     ]
    },
    {
     "name": "stdout",
     "output_type": "stream",
     "text": [
      "Epoch 110, Loss 0.0273\n",
      "Training Accuracy: 0.9676, Testing Accuracy: 0.9713\n",
      "\n"
     ]
    },
    {
     "name": "stdout",
     "output_type": "stream",
     "text": [
      "Epoch 120, Loss 0.0264\n",
      "Training Accuracy: 0.9691, Testing Accuracy: 0.9713\n",
      "\n"
     ]
    },
    {
     "name": "stdout",
     "output_type": "stream",
     "text": [
      "Epoch 130, Loss 0.0256\n",
      "Training Accuracy: 0.9700, Testing Accuracy: 0.9713\n",
      "\n"
     ]
    },
    {
     "name": "stdout",
     "output_type": "stream",
     "text": [
      "Epoch 140, Loss 0.025\n",
      "Training Accuracy: 0.9709, Testing Accuracy: 0.9718\n",
      "\n"
     ]
    },
    {
     "name": "stdout",
     "output_type": "stream",
     "text": [
      "Epoch 150, Loss 0.0243\n",
      "Training Accuracy: 0.9714, Testing Accuracy: 0.9718\n",
      "\n"
     ]
    },
    {
     "name": "stdout",
     "output_type": "stream",
     "text": [
      "Epoch 160, Loss 0.0237\n",
      "Training Accuracy: 0.9719, Testing Accuracy: 0.9723\n",
      "\n"
     ]
    },
    {
     "name": "stdout",
     "output_type": "stream",
     "text": [
      "Epoch 170, Loss 0.0232\n",
      "Training Accuracy: 0.9726, Testing Accuracy: 0.9713\n",
      "\n"
     ]
    },
    {
     "name": "stdout",
     "output_type": "stream",
     "text": [
      "Epoch 180, Loss 0.0227\n",
      "Training Accuracy: 0.9732, Testing Accuracy: 0.9708\n",
      "\n"
     ]
    },
    {
     "name": "stdout",
     "output_type": "stream",
     "text": [
      "Epoch 190, Loss 0.0222\n",
      "Training Accuracy: 0.9737, Testing Accuracy: 0.9708\n",
      "\n"
     ]
    },
    {
     "name": "stdout",
     "output_type": "stream",
     "text": [
      "Epoch 200, Loss 0.0218\n",
      "Training Accuracy: 0.9739, Testing Accuracy: 0.9723\n",
      "\n"
     ]
    },
    {
     "name": "stdout",
     "output_type": "stream",
     "text": [
      "Epoch 210, Loss 0.0214\n",
      "Training Accuracy: 0.9752, Testing Accuracy: 0.9718\n",
      "\n"
     ]
    },
    {
     "name": "stdout",
     "output_type": "stream",
     "text": [
      "Epoch 220, Loss 0.021\n",
      "Training Accuracy: 0.9754, Testing Accuracy: 0.9723\n",
      "\n"
     ]
    },
    {
     "name": "stdout",
     "output_type": "stream",
     "text": [
      "Epoch 230, Loss 0.0206\n",
      "Training Accuracy: 0.9762, Testing Accuracy: 0.9728\n",
      "\n"
     ]
    },
    {
     "name": "stdout",
     "output_type": "stream",
     "text": [
      "Epoch 240, Loss 0.0202\n",
      "Training Accuracy: 0.9770, Testing Accuracy: 0.9723\n",
      "\n"
     ]
    },
    {
     "data": {
      "text/plain": [
       "0.004398662298040816"
      ]
     },
     "execution_count": 22,
     "metadata": {},
     "output_type": "execute_result"
    }
   ],
   "source": [
    "nn_learner.train_loop(dl)"
   ]
  },
  {
   "cell_type": "code",
   "execution_count": 23,
   "id": "e0163366",
   "metadata": {
    "execution": {
     "iopub.execute_input": "2022-11-20T20:12:27.359841Z",
     "iopub.status.busy": "2022-11-20T20:12:27.359188Z",
     "iopub.status.idle": "2022-11-20T20:12:45.818415Z",
     "shell.execute_reply": "2022-11-20T20:12:45.819435Z"
    },
    "papermill": {
     "duration": 18.51464,
     "end_time": "2022-11-20T20:12:45.819613",
     "exception": false,
     "start_time": "2022-11-20T20:12:27.304973",
     "status": "completed"
    },
    "tags": []
   },
   "outputs": [
    {
     "name": "stdout",
     "output_type": "stream",
     "text": [
      "Epoch 0, Loss 0.2195\n",
      "Training Accuracy: 0.7653, Testing Accuracy: 0.7752\n",
      "\n"
     ]
    },
    {
     "name": "stdout",
     "output_type": "stream",
     "text": [
      "Epoch 10, Loss 0.1001\n",
      "Training Accuracy: 0.9123, Testing Accuracy: 0.9214\n",
      "\n"
     ]
    },
    {
     "name": "stdout",
     "output_type": "stream",
     "text": [
      "Epoch 20, Loss 0.0777\n",
      "Training Accuracy: 0.9289, Testing Accuracy: 0.9420\n",
      "\n"
     ]
    },
    {
     "name": "stdout",
     "output_type": "stream",
     "text": [
      "Epoch 30, Loss 0.0672\n",
      "Training Accuracy: 0.9371, Testing Accuracy: 0.9511\n",
      "\n"
     ]
    },
    {
     "name": "stdout",
     "output_type": "stream",
     "text": [
      "Epoch 40, Loss 0.0608\n",
      "Training Accuracy: 0.9432, Testing Accuracy: 0.9521\n",
      "\n"
     ]
    },
    {
     "name": "stdout",
     "output_type": "stream",
     "text": [
      "Epoch 50, Loss 0.0564\n",
      "Training Accuracy: 0.9453, Testing Accuracy: 0.9541\n",
      "\n"
     ]
    },
    {
     "name": "stdout",
     "output_type": "stream",
     "text": [
      "Epoch 60, Loss 0.0531\n",
      "Training Accuracy: 0.9478, Testing Accuracy: 0.9561\n",
      "\n"
     ]
    },
    {
     "name": "stdout",
     "output_type": "stream",
     "text": [
      "Epoch 70, Loss 0.0506\n",
      "Training Accuracy: 0.9494, Testing Accuracy: 0.9587\n",
      "\n"
     ]
    },
    {
     "name": "stdout",
     "output_type": "stream",
     "text": [
      "Epoch 80, Loss 0.0486\n",
      "Training Accuracy: 0.9506, Testing Accuracy: 0.9612\n",
      "\n"
     ]
    },
    {
     "name": "stdout",
     "output_type": "stream",
     "text": [
      "Epoch 90, Loss 0.0469\n",
      "Training Accuracy: 0.9522, Testing Accuracy: 0.9622\n",
      "\n"
     ]
    },
    {
     "name": "stdout",
     "output_type": "stream",
     "text": [
      "Epoch 100, Loss 0.0455\n",
      "Training Accuracy: 0.9534, Testing Accuracy: 0.9622\n",
      "\n"
     ]
    },
    {
     "name": "stdout",
     "output_type": "stream",
     "text": [
      "Epoch 110, Loss 0.0443\n",
      "Training Accuracy: 0.9542, Testing Accuracy: 0.9632\n",
      "\n"
     ]
    },
    {
     "name": "stdout",
     "output_type": "stream",
     "text": [
      "Epoch 120, Loss 0.0433\n",
      "Training Accuracy: 0.9553, Testing Accuracy: 0.9632\n",
      "\n"
     ]
    },
    {
     "name": "stdout",
     "output_type": "stream",
     "text": [
      "Epoch 130, Loss 0.0424\n",
      "Training Accuracy: 0.9558, Testing Accuracy: 0.9647\n",
      "\n"
     ]
    },
    {
     "name": "stdout",
     "output_type": "stream",
     "text": [
      "Epoch 140, Loss 0.0415\n",
      "Training Accuracy: 0.9565, Testing Accuracy: 0.9647\n",
      "\n"
     ]
    },
    {
     "name": "stdout",
     "output_type": "stream",
     "text": [
      "Epoch 150, Loss 0.0408\n",
      "Training Accuracy: 0.9569, Testing Accuracy: 0.9647\n",
      "\n"
     ]
    },
    {
     "name": "stdout",
     "output_type": "stream",
     "text": [
      "Epoch 160, Loss 0.0401\n",
      "Training Accuracy: 0.9579, Testing Accuracy: 0.9657\n",
      "\n"
     ]
    },
    {
     "name": "stdout",
     "output_type": "stream",
     "text": [
      "Epoch 170, Loss 0.0395\n",
      "Training Accuracy: 0.9588, Testing Accuracy: 0.9662\n",
      "\n"
     ]
    },
    {
     "name": "stdout",
     "output_type": "stream",
     "text": [
      "Epoch 180, Loss 0.039\n",
      "Training Accuracy: 0.9589, Testing Accuracy: 0.9657\n",
      "\n"
     ]
    },
    {
     "name": "stdout",
     "output_type": "stream",
     "text": [
      "Epoch 190, Loss 0.0385\n",
      "Training Accuracy: 0.9596, Testing Accuracy: 0.9662\n",
      "\n"
     ]
    },
    {
     "name": "stdout",
     "output_type": "stream",
     "text": [
      "Epoch 200, Loss 0.038\n",
      "Training Accuracy: 0.9603, Testing Accuracy: 0.9662\n",
      "\n"
     ]
    },
    {
     "name": "stdout",
     "output_type": "stream",
     "text": [
      "Epoch 210, Loss 0.0376\n",
      "Training Accuracy: 0.9606, Testing Accuracy: 0.9667\n",
      "\n"
     ]
    },
    {
     "name": "stdout",
     "output_type": "stream",
     "text": [
      "Epoch 220, Loss 0.0372\n",
      "Training Accuracy: 0.9610, Testing Accuracy: 0.9672\n",
      "\n"
     ]
    },
    {
     "name": "stdout",
     "output_type": "stream",
     "text": [
      "Epoch 230, Loss 0.0368\n",
      "Training Accuracy: 0.9615, Testing Accuracy: 0.9672\n",
      "\n"
     ]
    },
    {
     "name": "stdout",
     "output_type": "stream",
     "text": [
      "Epoch 240, Loss 0.0364\n",
      "Training Accuracy: 0.9618, Testing Accuracy: 0.9672\n",
      "\n"
     ]
    },
    {
     "data": {
      "text/plain": [
       "0.02194074310768541"
      ]
     },
     "execution_count": 23,
     "metadata": {},
     "output_type": "execute_result"
    }
   ],
   "source": [
    "lr_learner.train_loop(dl)"
   ]
  },
  {
   "cell_type": "code",
   "execution_count": 24,
   "id": "ca410940",
   "metadata": {
    "execution": {
     "iopub.execute_input": "2022-11-20T20:12:45.929456Z",
     "iopub.status.busy": "2022-11-20T20:12:45.928630Z",
     "iopub.status.idle": "2022-11-20T20:12:46.213341Z",
     "shell.execute_reply": "2022-11-20T20:12:46.214178Z"
    },
    "papermill": {
     "duration": 0.343098,
     "end_time": "2022-11-20T20:12:46.214334",
     "exception": false,
     "start_time": "2022-11-20T20:12:45.871236",
     "status": "completed"
    },
    "tags": []
   },
   "outputs": [
    {
     "data": {
      "text/plain": [
       "<matplotlib.legend.Legend at 0x7f696b391400>"
      ]
     },
     "execution_count": 24,
     "metadata": {},
     "output_type": "execute_result"
    },
    {
     "data": {
      "image/png": "[encoded data removed]",
      "text/plain": [
       "<Figure size 1080x720 with 1 Axes>"
      ]
     },
     "metadata": {
      "needs_background": "light"
     },
     "output_type": "display_data"
    }
   ],
   "source": [
    "#comparing the results of NN and LR\n",
    "plt.figure(figsize=(15,10))\n",
    "\n",
    "# Neural Network plots\n",
    "plt.plot(acc_nn.accuracies, 'r-', label = \"Training Accuracies - NN\")\n",
    "plt.plot(acc_nn.test_accuracies, 'g-', label = \"Testing Accuracies - NN\")\n",
    "\n",
    "# Logistic Regression plots\n",
    "plt.plot(acc_lr.accuracies, 'k-', label = \"Training Accuracies - LR\")\n",
    "plt.plot(acc_lr.test_accuracies, 'b-', label = \"Testing Accuracies - LR\")\n",
    "plt.legend()"
   ]
  },
  {
   "cell_type": "markdown",
   "id": "80dfb35c",
   "metadata": {
    "papermill": {
     "duration": 0.049182,
     "end_time": "2022-11-20T20:12:46.314835",
     "exception": false,
     "start_time": "2022-11-20T20:12:46.265653",
     "status": "completed"
    },
    "tags": []
   },
   "source": [
    "#### Plotting the outputs of this layer of the NN.\n"
   ]
  },
  {
   "cell_type": "code",
   "execution_count": 25,
   "id": "45eb2ff5",
   "metadata": {
    "execution": {
     "iopub.execute_input": "2022-11-20T20:12:46.425598Z",
     "iopub.status.busy": "2022-11-20T20:12:46.424362Z",
     "iopub.status.idle": "2022-11-20T20:12:46.449771Z",
     "shell.execute_reply": "2022-11-20T20:12:46.450357Z"
    },
    "papermill": {
     "duration": 0.087263,
     "end_time": "2022-11-20T20:12:46.450527",
     "exception": false,
     "start_time": "2022-11-20T20:12:46.363264",
     "status": "completed"
    },
    "tags": []
   },
   "outputs": [],
   "source": [
    "new_model = Model(layers[:-2])\n",
    "testing_plot = new_model(testing_data_x)"
   ]
  },
  {
   "cell_type": "code",
   "execution_count": 26,
   "id": "4c0a5485",
   "metadata": {
    "execution": {
     "iopub.execute_input": "2022-11-20T20:12:46.558566Z",
     "iopub.status.busy": "2022-11-20T20:12:46.557685Z",
     "iopub.status.idle": "2022-11-20T20:12:46.797494Z",
     "shell.execute_reply": "2022-11-20T20:12:46.797984Z"
    },
    "papermill": {
     "duration": 0.296566,
     "end_time": "2022-11-20T20:12:46.798162",
     "exception": false,
     "start_time": "2022-11-20T20:12:46.501596",
     "status": "completed"
    },
    "tags": []
   },
   "outputs": [
    {
     "data": {
      "text/plain": [
       "Text(0.5, 1.0, 'Outputs')"
      ]
     },
     "execution_count": 26,
     "metadata": {},
     "output_type": "execute_result"
    },
    {
     "data": {
      "image/png": "[encoded data removed]",
      "text/plain": [
       "<Figure size 576x504 with 1 Axes>"
      ]
     },
     "metadata": {
      "needs_background": "light"
     },
     "output_type": "display_data"
    }
   ],
   "source": [
    "# Plotting the scatter plot of points and color coding by class\n",
    "plt.figure(figsize=(8,7))\n",
    "plt.scatter(testing_plot[:,0], testing_plot[:,1], alpha = 0.1, c = y_test.ravel());\n",
    "plt.title('Outputs')"
   ]
  },
  {
   "cell_type": "markdown",
   "id": "a74fcf8f",
   "metadata": {
    "papermill": {
     "duration": 0.084993,
     "end_time": "2022-11-20T20:12:46.936895",
     "exception": false,
     "start_time": "2022-11-20T20:12:46.851902",
     "status": "completed"
    },
    "tags": []
   },
   "source": [
    "Probability contours"
   ]
  },
  {
   "cell_type": "code",
   "execution_count": 27,
   "id": "d0afc8e3",
   "metadata": {
    "execution": {
     "iopub.execute_input": "2022-11-20T20:12:47.053150Z",
     "iopub.status.busy": "2022-11-20T20:12:47.052459Z",
     "iopub.status.idle": "2022-11-20T20:12:47.068227Z",
     "shell.execute_reply": "2022-11-20T20:12:47.067622Z"
    },
    "papermill": {
     "duration": 0.073926,
     "end_time": "2022-11-20T20:12:47.068356",
     "exception": false,
     "start_time": "2022-11-20T20:12:46.994430",
     "status": "completed"
    },
    "tags": []
   },
   "outputs": [],
   "source": [
    "model_prob = Model(layers[-2:]) "
   ]
  },
  {
   "cell_type": "code",
   "execution_count": 28,
   "id": "9b96e238",
   "metadata": {
    "execution": {
     "iopub.execute_input": "2022-11-20T20:12:47.182963Z",
     "iopub.status.busy": "2022-11-20T20:12:47.182192Z",
     "iopub.status.idle": "2022-11-20T20:12:47.198956Z",
     "shell.execute_reply": "2022-11-20T20:12:47.199500Z"
    },
    "papermill": {
     "duration": 0.079439,
     "end_time": "2022-11-20T20:12:47.199855",
     "exception": false,
     "start_time": "2022-11-20T20:12:47.120416",
     "status": "completed"
    },
    "tags": []
   },
   "outputs": [],
   "source": [
    "#creating the x and y ranges according to the above generated plot.\n",
    "x_range = np.linspace(-4, 1, 100) \n",
    "y_range = np.linspace(-6, 6, 100) \n",
    "x_grid, y_grid = np.meshgrid(x_range, y_range) # x_grid and y_grig are of size 100 X 100\n",
    "\n",
    "# converting x_grid and y_grid to continuous arrays\n",
    "x_gridflat = np.ravel(x_grid)\n",
    "y_gridflat = np.ravel(y_grid)\n",
    "\n",
    "# The last layer of the current model takes two columns as input. Hence transpose of np.vstack() is required.\n",
    "X = np.vstack((x_gridflat, y_gridflat)).T\n",
    "\n",
    "prob_contour = model_prob(X).reshape(100,100) "
   ]
  },
  {
   "cell_type": "code",
   "execution_count": 29,
   "id": "da72499a",
   "metadata": {
    "execution": {
     "iopub.execute_input": "2022-11-20T20:12:47.319244Z",
     "iopub.status.busy": "2022-11-20T20:12:47.318527Z",
     "iopub.status.idle": "2022-11-20T20:12:47.633491Z",
     "shell.execute_reply": "2022-11-20T20:12:47.632859Z"
    },
    "papermill": {
     "duration": 0.379397,
     "end_time": "2022-11-20T20:12:47.633628",
     "exception": false,
     "start_time": "2022-11-20T20:12:47.254231",
     "status": "completed"
    },
    "tags": []
   },
   "outputs": [
    {
     "data": {
      "image/png": "[encoded data removed]",
      "text/plain": [
       "<Figure size 720x648 with 1 Axes>"
      ]
     },
     "metadata": {
      "needs_background": "light"
     },
     "output_type": "display_data"
    }
   ],
   "source": [
    "plt.figure(figsize=(10,9))\n",
    "plt.scatter(testing_plot[:,0], testing_plot[:,1], alpha = 0.1, c = y_test.ravel())\n",
    "contours = plt.contour(x_grid,y_grid,prob_contour)\n",
    "plt.title('Probability Contours')\n",
    "plt.clabel(contours, inline = True );"
   ]
  },
  {
   "cell_type": "code",
   "execution_count": null,
   "id": "e81b4ac7",
   "metadata": {
    "papermill": {
     "duration": 0.057191,
     "end_time": "2022-11-20T20:12:47.746005",
     "exception": false,
     "start_time": "2022-11-20T20:12:47.688814",
     "status": "completed"
    },
    "tags": []
   },
   "outputs": [],
   "source": []
  }
 ],
 "metadata": {
  "kernelspec": {
   "display_name": "Python 3",
   "language": "python",
   "name": "python3"
  },
  "language_info": {
   "codemirror_mode": {
    "name": "ipython",
    "version": 3
   },
   "file_extension": ".py",
   "mimetype": "text/x-python",
   "name": "python",
   "nbconvert_exporter": "python",
   "pygments_lexer": "ipython3",
   "version": "3.6.15"
  },
  "papermill": {
   "default_parameters": {},
   "duration": 152.624451,
   "end_time": "2022-11-20T20:12:48.223515",
   "environment_variables": {},
   "exception": null,
   "input_path": "2020-08-11-part2.ipynb",
   "output_path": "2020-08-11-part2.ipynb",
   "parameters": {},
   "start_time": "2022-11-20T20:10:15.599064",
   "version": "2.3.3"
  }
 },
 "nbformat": 4,
 "nbformat_minor": 5
}