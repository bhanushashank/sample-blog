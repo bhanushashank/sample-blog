{
 "cells": [
  {
   "cell_type": "markdown",
   "id": "98380cd3",
   "metadata": {
    "papermill": {
     "duration": 0.029755,
     "end_time": "2021-12-07T00:23:56.554363",
     "exception": false,
     "start_time": "2021-12-07T00:23:56.524608",
     "status": "completed"
    },
    "tags": []
   },
   "source": [
    "# Distinguish Your Own Digits (DYOD)"
   ]
  },
  {
   "cell_type": "markdown",
   "id": "ef31240d",
   "metadata": {
    "papermill": {
     "duration": 0.023979,
     "end_time": "2021-12-07T00:23:56.603072",
     "exception": false,
     "start_time": "2021-12-07T00:23:56.579093",
     "status": "completed"
    },
    "tags": []
   },
   "source": [
    "You are going to write a classifier that distinguishes between the number 3 and number 8."
   ]
  },
  {
   "cell_type": "code",
   "execution_count": 1,
   "id": "b15c8646",
   "metadata": {
    "execution": {
     "iopub.execute_input": "2021-12-07T00:23:56.662969Z",
     "iopub.status.busy": "2021-12-07T00:23:56.662385Z",
     "iopub.status.idle": "2021-12-07T00:23:56.672549Z",
     "shell.execute_reply": "2021-12-07T00:23:56.672944Z"
    },
    "papermill": {
     "duration": 0.046121,
     "end_time": "2021-12-07T00:23:56.673101",
     "exception": false,
     "start_time": "2021-12-07T00:23:56.626980",
     "status": "completed"
    },
    "tags": []
   },
   "outputs": [],
   "source": [
    "%load_ext autoreload\n",
    "%autoreload 2"
   ]
  },
  {
   "cell_type": "code",
   "execution_count": 2,
   "id": "22ef38dc",
   "metadata": {
    "execution": {
     "iopub.execute_input": "2021-12-07T00:23:56.733883Z",
     "iopub.status.busy": "2021-12-07T00:23:56.733336Z",
     "iopub.status.idle": "2021-12-07T00:23:57.324766Z",
     "shell.execute_reply": "2021-12-07T00:23:57.325256Z"
    },
    "papermill": {
     "duration": 0.628034,
     "end_time": "2021-12-07T00:23:57.325426",
     "exception": false,
     "start_time": "2021-12-07T00:23:56.697392",
     "status": "completed"
    },
    "tags": []
   },
   "outputs": [],
   "source": [
    "%matplotlib inline\n",
    "import numpy as np\n",
    "import matplotlib.pyplot as plt\n",
    "import pandas as pd"
   ]
  },
  {
   "cell_type": "markdown",
   "id": "ba036198",
   "metadata": {
    "papermill": {
     "duration": 0.02404,
     "end_time": "2021-12-07T00:23:57.374605",
     "exception": false,
     "start_time": "2021-12-07T00:23:57.350565",
     "status": "completed"
    },
    "tags": []
   },
   "source": [
    "From the command line run `pip install mnist`. This is a library that will help you bring down the mnist dataset. If you run this from a notebook, you need to put  `!pip install mnist` in a cell by itself."
   ]
  },
  {
   "cell_type": "code",
   "execution_count": 3,
   "id": "bb6ad8a1",
   "metadata": {
    "execution": {
     "iopub.execute_input": "2021-12-07T00:23:57.432260Z",
     "iopub.status.busy": "2021-12-07T00:23:57.431714Z",
     "iopub.status.idle": "2021-12-07T00:23:59.636156Z",
     "shell.execute_reply": "2021-12-07T00:23:59.636598Z"
    },
    "papermill": {
     "duration": 2.237987,
     "end_time": "2021-12-07T00:23:59.636757",
     "exception": false,
     "start_time": "2021-12-07T00:23:57.398770",
     "status": "completed"
    },
    "tags": []
   },
   "outputs": [
    {
     "name": "stdout",
     "output_type": "stream",
     "text": [
      "Collecting mnist\r\n"
     ]
    },
    {
     "name": "stdout",
     "output_type": "stream",
     "text": [
      "  Downloading mnist-0.2.2-py2.py3-none-any.whl (3.5 kB)\r\n",
      "Requirement already satisfied: numpy in /opt/hostedtoolcache/Python/3.6.15/x64/lib/python3.6/site-packages (from mnist) (1.19.5)\r\n"
     ]
    },
    {
     "name": "stdout",
     "output_type": "stream",
     "text": [
      "Installing collected packages: mnist\r\n",
      "Successfully installed mnist-0.2.2\r\n"
     ]
    }
   ],
   "source": [
    "!pip install mnist"
   ]
  },
  {
   "cell_type": "markdown",
   "id": "69df9c9a",
   "metadata": {
    "papermill": {
     "duration": 0.025461,
     "end_time": "2021-12-07T00:23:59.687368",
     "exception": false,
     "start_time": "2021-12-07T00:23:59.661907",
     "status": "completed"
    },
    "tags": []
   },
   "source": [
    "## Preparing the Data"
   ]
  },
  {
   "cell_type": "code",
   "execution_count": 4,
   "id": "7f69d806",
   "metadata": {
    "execution": {
     "iopub.execute_input": "2021-12-07T00:23:59.755638Z",
     "iopub.status.busy": "2021-12-07T00:23:59.753069Z",
     "iopub.status.idle": "2021-12-07T00:23:59.760578Z",
     "shell.execute_reply": "2021-12-07T00:23:59.760973Z"
    },
    "papermill": {
     "duration": 0.048848,
     "end_time": "2021-12-07T00:23:59.761120",
     "exception": false,
     "start_time": "2021-12-07T00:23:59.712272",
     "status": "completed"
    },
    "tags": []
   },
   "outputs": [],
   "source": [
    "import mnist"
   ]
  },
  {
   "cell_type": "code",
   "execution_count": 5,
   "id": "a411e44f",
   "metadata": {
    "execution": {
     "iopub.execute_input": "2021-12-07T00:23:59.829273Z",
     "iopub.status.busy": "2021-12-07T00:23:59.823718Z",
     "iopub.status.idle": "2021-12-07T00:24:00.365268Z",
     "shell.execute_reply": "2021-12-07T00:24:00.364711Z"
    },
    "papermill": {
     "duration": 0.579153,
     "end_time": "2021-12-07T00:24:00.365418",
     "exception": false,
     "start_time": "2021-12-07T00:23:59.786265",
     "status": "completed"
    },
    "tags": []
   },
   "outputs": [],
   "source": [
    "train_images = mnist.train_images()\n",
    "train_labels = mnist.train_labels()"
   ]
  },
  {
   "cell_type": "code",
   "execution_count": 6,
   "id": "dceab3a5",
   "metadata": {
    "execution": {
     "iopub.execute_input": "2021-12-07T00:24:00.419773Z",
     "iopub.status.busy": "2021-12-07T00:24:00.419235Z",
     "iopub.status.idle": "2021-12-07T00:24:00.435025Z",
     "shell.execute_reply": "2021-12-07T00:24:00.434557Z"
    },
    "papermill": {
     "duration": 0.044346,
     "end_time": "2021-12-07T00:24:00.435150",
     "exception": false,
     "start_time": "2021-12-07T00:24:00.390804",
     "status": "completed"
    },
    "tags": []
   },
   "outputs": [
    {
     "data": {
      "text/plain": [
       "((60000, 28, 28), (60000,))"
      ]
     },
     "execution_count": 6,
     "metadata": {},
     "output_type": "execute_result"
    }
   ],
   "source": [
    "train_images.shape, train_labels.shape"
   ]
  },
  {
   "cell_type": "code",
   "execution_count": 7,
   "id": "f50dc2bb",
   "metadata": {
    "execution": {
     "iopub.execute_input": "2021-12-07T00:24:00.492507Z",
     "iopub.status.busy": "2021-12-07T00:24:00.491952Z",
     "iopub.status.idle": "2021-12-07T00:24:00.642204Z",
     "shell.execute_reply": "2021-12-07T00:24:00.641664Z"
    },
    "papermill": {
     "duration": 0.181926,
     "end_time": "2021-12-07T00:24:00.642352",
     "exception": false,
     "start_time": "2021-12-07T00:24:00.460426",
     "status": "completed"
    },
    "tags": []
   },
   "outputs": [],
   "source": [
    "test_images = mnist.test_images()\n",
    "test_labels = mnist.test_labels()"
   ]
  },
  {
   "cell_type": "code",
   "execution_count": 8,
   "id": "fc38cf1b",
   "metadata": {
    "execution": {
     "iopub.execute_input": "2021-12-07T00:24:00.698329Z",
     "iopub.status.busy": "2021-12-07T00:24:00.697810Z",
     "iopub.status.idle": "2021-12-07T00:24:00.711406Z",
     "shell.execute_reply": "2021-12-07T00:24:00.710954Z"
    },
    "papermill": {
     "duration": 0.042501,
     "end_time": "2021-12-07T00:24:00.711526",
     "exception": false,
     "start_time": "2021-12-07T00:24:00.669025",
     "status": "completed"
    },
    "tags": []
   },
   "outputs": [
    {
     "data": {
      "text/plain": [
       "((10000, 28, 28), (10000,))"
      ]
     },
     "execution_count": 8,
     "metadata": {},
     "output_type": "execute_result"
    }
   ],
   "source": [
    "test_images.shape, test_labels.shape"
   ]
  },
  {
   "cell_type": "code",
   "execution_count": 9,
   "id": "f9ed8fe0",
   "metadata": {
    "execution": {
     "iopub.execute_input": "2021-12-07T00:24:00.766404Z",
     "iopub.status.busy": "2021-12-07T00:24:00.765884Z",
     "iopub.status.idle": "2021-12-07T00:24:00.906566Z",
     "shell.execute_reply": "2021-12-07T00:24:00.907031Z"
    },
    "papermill": {
     "duration": 0.170201,
     "end_time": "2021-12-07T00:24:00.907187",
     "exception": false,
     "start_time": "2021-12-07T00:24:00.736986",
     "status": "completed"
    },
    "tags": []
   },
   "outputs": [
    {
     "name": "stdout",
     "output_type": "stream",
     "text": [
      "2\n"
     ]
    },
    {
     "data": {
      "text/plain": [
       "<matplotlib.image.AxesImage at 0x7fabe45c74e0>"
      ]
     },
     "execution_count": 9,
     "metadata": {},
     "output_type": "execute_result"
    },
    {
     "data": {
      "image/png": "[encoded data removed]",
      "text/plain": [
       "<Figure size 432x288 with 1 Axes>"
      ]
     },
     "metadata": {
      "needs_background": "light"
     },
     "output_type": "display_data"
    }
   ],
   "source": [
    "image_index = 7776 # You may select anything up to 60,000\n",
    "print(train_labels[image_index]) \n",
    "plt.imshow(train_images[image_index], cmap='Greys')"
   ]
  },
  {
   "cell_type": "markdown",
   "id": "a8d2388d",
   "metadata": {
    "papermill": {
     "duration": 0.026698,
     "end_time": "2021-12-07T00:24:00.960650",
     "exception": false,
     "start_time": "2021-12-07T00:24:00.933952",
     "status": "completed"
    },
    "tags": []
   },
   "source": [
    "## Filter data to get 3 and 8 out"
   ]
  },
  {
   "cell_type": "code",
   "execution_count": 10,
   "id": "776f7fc7",
   "metadata": {
    "execution": {
     "iopub.execute_input": "2021-12-07T00:24:01.023483Z",
     "iopub.status.busy": "2021-12-07T00:24:01.022914Z",
     "iopub.status.idle": "2021-12-07T00:24:01.038972Z",
     "shell.execute_reply": "2021-12-07T00:24:01.038487Z"
    },
    "papermill": {
     "duration": 0.051677,
     "end_time": "2021-12-07T00:24:01.039098",
     "exception": false,
     "start_time": "2021-12-07T00:24:00.987421",
     "status": "completed"
    },
    "tags": []
   },
   "outputs": [],
   "source": [
    "train_filter = np.where((train_labels == 3 ) | (train_labels == 8))\n",
    "test_filter = np.where((test_labels == 3) | (test_labels == 8))\n",
    "X_train, y_train = train_images[train_filter], train_labels[train_filter]\n",
    "X_test, y_test = test_images[test_filter], test_labels[test_filter]"
   ]
  },
  {
   "cell_type": "markdown",
   "id": "948f0b7e",
   "metadata": {
    "papermill": {
     "duration": 0.026587,
     "end_time": "2021-12-07T00:24:01.092482",
     "exception": false,
     "start_time": "2021-12-07T00:24:01.065895",
     "status": "completed"
    },
    "tags": []
   },
   "source": [
    "We normalize the pizel values in the 0 to 1 range"
   ]
  },
  {
   "cell_type": "code",
   "execution_count": 11,
   "id": "ee4c2166",
   "metadata": {
    "execution": {
     "iopub.execute_input": "2021-12-07T00:24:01.149833Z",
     "iopub.status.busy": "2021-12-07T00:24:01.149216Z",
     "iopub.status.idle": "2021-12-07T00:24:01.197840Z",
     "shell.execute_reply": "2021-12-07T00:24:01.197325Z"
    },
    "papermill": {
     "duration": 0.07897,
     "end_time": "2021-12-07T00:24:01.197983",
     "exception": false,
     "start_time": "2021-12-07T00:24:01.119013",
     "status": "completed"
    },
    "tags": []
   },
   "outputs": [],
   "source": [
    "X_train = X_train/255.\n",
    "X_test = X_test/255."
   ]
  },
  {
   "cell_type": "markdown",
   "id": "ddcf4fab",
   "metadata": {
    "papermill": {
     "duration": 0.026634,
     "end_time": "2021-12-07T00:24:01.251789",
     "exception": false,
     "start_time": "2021-12-07T00:24:01.225155",
     "status": "completed"
    },
    "tags": []
   },
   "source": [
    "And setup the labels as 1 (when the digit is 3) and 0 (when the digit is 8)"
   ]
  },
  {
   "cell_type": "code",
   "execution_count": 12,
   "id": "7dc908f2",
   "metadata": {
    "execution": {
     "iopub.execute_input": "2021-12-07T00:24:01.316406Z",
     "iopub.status.busy": "2021-12-07T00:24:01.315824Z",
     "iopub.status.idle": "2021-12-07T00:24:01.325548Z",
     "shell.execute_reply": "2021-12-07T00:24:01.325083Z"
    },
    "papermill": {
     "duration": 0.047144,
     "end_time": "2021-12-07T00:24:01.325669",
     "exception": false,
     "start_time": "2021-12-07T00:24:01.278525",
     "status": "completed"
    },
    "tags": []
   },
   "outputs": [],
   "source": [
    "y_train = 1*(y_train==3)\n",
    "y_test = 1*(y_test==3)"
   ]
  },
  {
   "cell_type": "code",
   "execution_count": 13,
   "id": "01e4e969",
   "metadata": {
    "execution": {
     "iopub.execute_input": "2021-12-07T00:24:01.396048Z",
     "iopub.status.busy": "2021-12-07T00:24:01.383051Z",
     "iopub.status.idle": "2021-12-07T00:24:01.400732Z",
     "shell.execute_reply": "2021-12-07T00:24:01.401120Z"
    },
    "papermill": {
     "duration": 0.048472,
     "end_time": "2021-12-07T00:24:01.401264",
     "exception": false,
     "start_time": "2021-12-07T00:24:01.352792",
     "status": "completed"
    },
    "tags": []
   },
   "outputs": [
    {
     "data": {
      "text/plain": [
       "((11982, 28, 28), (1984, 28, 28))"
      ]
     },
     "execution_count": 13,
     "metadata": {},
     "output_type": "execute_result"
    }
   ],
   "source": [
    "X_train.shape, X_test.shape"
   ]
  },
  {
   "cell_type": "markdown",
   "id": "5ccf3f85",
   "metadata": {
    "papermill": {
     "duration": 0.026918,
     "end_time": "2021-12-07T00:24:01.455058",
     "exception": false,
     "start_time": "2021-12-07T00:24:01.428140",
     "status": "completed"
    },
    "tags": []
   },
   "source": [
    "We reshape the data to flatten the image pixels into a set of features or co-variates:"
   ]
  },
  {
   "cell_type": "code",
   "execution_count": 14,
   "id": "5286a4a3",
   "metadata": {
    "execution": {
     "iopub.execute_input": "2021-12-07T00:24:01.516790Z",
     "iopub.status.busy": "2021-12-07T00:24:01.516250Z",
     "iopub.status.idle": "2021-12-07T00:24:01.527655Z",
     "shell.execute_reply": "2021-12-07T00:24:01.528069Z"
    },
    "papermill": {
     "duration": 0.046094,
     "end_time": "2021-12-07T00:24:01.528212",
     "exception": false,
     "start_time": "2021-12-07T00:24:01.482118",
     "status": "completed"
    },
    "tags": []
   },
   "outputs": [
    {
     "data": {
      "text/plain": [
       "((11982, 784), (1984, 784))"
      ]
     },
     "execution_count": 14,
     "metadata": {},
     "output_type": "execute_result"
    }
   ],
   "source": [
    "X_train = X_train.reshape(X_train.shape[0], -1)\n",
    "X_test = X_test.reshape(X_test.shape[0], -1)\n",
    "X_train.shape, X_test.shape"
   ]
  },
  {
   "cell_type": "code",
   "execution_count": 15,
   "id": "73c5f88a",
   "metadata": {
    "execution": {
     "iopub.execute_input": "2021-12-07T00:24:01.591563Z",
     "iopub.status.busy": "2021-12-07T00:24:01.586634Z",
     "iopub.status.idle": "2021-12-07T00:24:01.609042Z",
     "shell.execute_reply": "2021-12-07T00:24:01.608603Z"
    },
    "papermill": {
     "duration": 0.053589,
     "end_time": "2021-12-07T00:24:01.609169",
     "exception": false,
     "start_time": "2021-12-07T00:24:01.555580",
     "status": "completed"
    },
    "tags": []
   },
   "outputs": [],
   "source": [
    "#Impoting functions from 'Kudzu'\n",
    "from kudzu.model import Model\n",
    "from kudzu.train import Learner\n",
    "from kudzu.optim import GD\n",
    "from kudzu.data import Data, Sampler,Dataloader\n",
    "\n",
    "from kudzu.callbacks import AccCallback\n",
    "from kudzu.callbacks import ClfCallback\n",
    "\n",
    "from kudzu.loss import MSE\n",
    "\n",
    "from kudzu.layer import Sigmoid,Relu\n",
    "from kudzu.layer import Affine"
   ]
  },
  {
   "cell_type": "markdown",
   "id": "bc01172a",
   "metadata": {
    "papermill": {
     "duration": 0.026858,
     "end_time": "2021-12-07T00:24:01.663108",
     "exception": false,
     "start_time": "2021-12-07T00:24:01.636250",
     "status": "completed"
    },
    "tags": []
   },
   "source": [
    "### Let us create a `Config` class, to store important parameters. \n",
    "This class essentially plays the role of a dictionary."
   ]
  },
  {
   "cell_type": "code",
   "execution_count": 16,
   "id": "978281aa",
   "metadata": {
    "execution": {
     "iopub.execute_input": "2021-12-07T00:24:01.727537Z",
     "iopub.status.busy": "2021-12-07T00:24:01.726972Z",
     "iopub.status.idle": "2021-12-07T00:24:01.735619Z",
     "shell.execute_reply": "2021-12-07T00:24:01.735164Z"
    },
    "papermill": {
     "duration": 0.04554,
     "end_time": "2021-12-07T00:24:01.735737",
     "exception": false,
     "start_time": "2021-12-07T00:24:01.690197",
     "status": "completed"
    },
    "tags": []
   },
   "outputs": [],
   "source": [
    "class Config:\n",
    "    pass\n",
    "config = Config()\n",
    "config.lr = 0.001\n",
    "config.num_epochs = 250\n",
    "config.bs = 50"
   ]
  },
  {
   "cell_type": "markdown",
   "id": "1385fa59",
   "metadata": {
    "papermill": {
     "duration": 0.026845,
     "end_time": "2021-12-07T00:24:01.789709",
     "exception": false,
     "start_time": "2021-12-07T00:24:01.762864",
     "status": "completed"
    },
    "tags": []
   },
   "source": [
    "### Running Models with the Training data\n",
    "Details about the network layers:\n",
    "- A first affine layer has 784 inputs and does 100 affine transforms. These are followed by a Relu\n",
    "- A second affine layer has 100 inputs from the 100 activations of the past layer, and does 100 affine transforms. These are followed by a Relu\n",
    "- A third affine layer has 100 activations and does 2 affine transformations to create an embedding for visualization. There is no non-linearity here.\n",
    "- A final \"logistic regression\" which has an affine transform from 2 inputs to 1 output, which is squeezed through a sigmoid.\n"
   ]
  },
  {
   "cell_type": "code",
   "execution_count": 17,
   "id": "2b9c66db",
   "metadata": {
    "execution": {
     "iopub.execute_input": "2021-12-07T00:24:01.848798Z",
     "iopub.status.busy": "2021-12-07T00:24:01.848268Z",
     "iopub.status.idle": "2021-12-07T00:24:01.861058Z",
     "shell.execute_reply": "2021-12-07T00:24:01.860627Z"
    },
    "papermill": {
     "duration": 0.044418,
     "end_time": "2021-12-07T00:24:01.861181",
     "exception": false,
     "start_time": "2021-12-07T00:24:01.816763",
     "status": "completed"
    },
    "tags": []
   },
   "outputs": [],
   "source": [
    "data = Data(X_train, y_train.reshape(-1,1))\n",
    "sampler = Sampler(data, config.bs, shuffle=True)\n",
    "\n",
    "dl = Dataloader(data, sampler)\n",
    "\n",
    "opt = GD(config.lr)\n",
    "loss = MSE()"
   ]
  },
  {
   "cell_type": "code",
   "execution_count": 18,
   "id": "b275e4c2",
   "metadata": {
    "execution": {
     "iopub.execute_input": "2021-12-07T00:24:01.919684Z",
     "iopub.status.busy": "2021-12-07T00:24:01.919145Z",
     "iopub.status.idle": "2021-12-07T00:24:01.931277Z",
     "shell.execute_reply": "2021-12-07T00:24:01.931729Z"
    },
    "papermill": {
     "duration": 0.043052,
     "end_time": "2021-12-07T00:24:01.931869",
     "exception": false,
     "start_time": "2021-12-07T00:24:01.888817",
     "status": "completed"
    },
    "tags": []
   },
   "outputs": [],
   "source": [
    "training_data_x = X_train\n",
    "testing_data_x = X_test\n",
    "training_data_y = y_train.reshape(-1,1)\n",
    "testing_data_y = y_test.reshape(-1,1)"
   ]
  },
  {
   "cell_type": "code",
   "execution_count": 19,
   "id": "76951160",
   "metadata": {
    "execution": {
     "iopub.execute_input": "2021-12-07T00:24:02.003969Z",
     "iopub.status.busy": "2021-12-07T00:24:01.995732Z",
     "iopub.status.idle": "2021-12-07T00:24:02.009999Z",
     "shell.execute_reply": "2021-12-07T00:24:02.009569Z"
    },
    "papermill": {
     "duration": 0.051391,
     "end_time": "2021-12-07T00:24:02.010127",
     "exception": false,
     "start_time": "2021-12-07T00:24:01.958736",
     "status": "completed"
    },
    "tags": []
   },
   "outputs": [
    {
     "name": "stdout",
     "output_type": "stream",
     "text": [
      "xavier\n",
      "xavier\n",
      "xavier\n",
      "xavier\n",
      "xavier\n"
     ]
    }
   ],
   "source": [
    "layers = [Affine(\"first\", 784, 100), Relu(\"first\"), Affine(\"second\", 100, 100), Relu(\"second\"), Affine(\"third\", 100, 2), Affine(\"last\", 2, 1), Sigmoid(\"last\")]\n",
    "model_nn = Model(layers)\n",
    "model_lr = Model([Affine(\"logits\", 784, 1), Sigmoid(\"sigmoid\")])"
   ]
  },
  {
   "cell_type": "code",
   "execution_count": 20,
   "id": "6eede77a",
   "metadata": {
    "execution": {
     "iopub.execute_input": "2021-12-07T00:24:02.069737Z",
     "iopub.status.busy": "2021-12-07T00:24:02.069185Z",
     "iopub.status.idle": "2021-12-07T00:24:02.083140Z",
     "shell.execute_reply": "2021-12-07T00:24:02.082293Z"
    },
    "papermill": {
     "duration": 0.045678,
     "end_time": "2021-12-07T00:24:02.083265",
     "exception": false,
     "start_time": "2021-12-07T00:24:02.037587",
     "status": "completed"
    },
    "tags": []
   },
   "outputs": [],
   "source": [
    "nn_learner = Learner(loss, model_nn, opt, config.num_epochs)\n",
    "acc_nn = ClfCallback(nn_learner, config.bs, training_data_x , testing_data_x, training_data_y, testing_data_y)\n",
    "nn_learner.set_callbacks([acc_nn])"
   ]
  },
  {
   "cell_type": "code",
   "execution_count": 21,
   "id": "877b6cc7",
   "metadata": {
    "execution": {
     "iopub.execute_input": "2021-12-07T00:24:02.142371Z",
     "iopub.status.busy": "2021-12-07T00:24:02.141843Z",
     "iopub.status.idle": "2021-12-07T00:24:02.154599Z",
     "shell.execute_reply": "2021-12-07T00:24:02.154147Z"
    },
    "papermill": {
     "duration": 0.043858,
     "end_time": "2021-12-07T00:24:02.154718",
     "exception": false,
     "start_time": "2021-12-07T00:24:02.110860",
     "status": "completed"
    },
    "tags": []
   },
   "outputs": [],
   "source": [
    "lr_learner = Learner(loss, model_lr, opt, config.num_epochs)\n",
    "acc_lr = ClfCallback(lr_learner, config.bs, training_data_x , testing_data_x, training_data_y, testing_data_y)\n",
    "lr_learner.set_callbacks([acc_lr])"
   ]
  },
  {
   "cell_type": "code",
   "execution_count": 22,
   "id": "d9b133c3",
   "metadata": {
    "execution": {
     "iopub.execute_input": "2021-12-07T00:24:02.213706Z",
     "iopub.status.busy": "2021-12-07T00:24:02.213169Z",
     "iopub.status.idle": "2021-12-07T00:25:22.185369Z",
     "shell.execute_reply": "2021-12-07T00:25:22.186123Z"
    },
    "papermill": {
     "duration": 80.004034,
     "end_time": "2021-12-07T00:25:22.186279",
     "exception": false,
     "start_time": "2021-12-07T00:24:02.182245",
     "status": "completed"
    },
    "tags": []
   },
   "outputs": [
    {
     "name": "stdout",
     "output_type": "stream",
     "text": [
      "Epoch 0, Loss 0.2518\n",
      "Training Accuracy: 0.5319, Testing Accuracy: 0.5297\n",
      "\n"
     ]
    },
    {
     "name": "stdout",
     "output_type": "stream",
     "text": [
      "Epoch 10, Loss 0.1428\n",
      "Training Accuracy: 0.8890, Testing Accuracy: 0.8957\n",
      "\n"
     ]
    },
    {
     "name": "stdout",
     "output_type": "stream",
     "text": [
      "Epoch 20, Loss 0.0743\n",
      "Training Accuracy: 0.9251, Testing Accuracy: 0.9335\n",
      "\n"
     ]
    },
    {
     "name": "stdout",
     "output_type": "stream",
     "text": [
      "Epoch 30, Loss 0.0532\n",
      "Training Accuracy: 0.9426, Testing Accuracy: 0.9546\n",
      "\n"
     ]
    },
    {
     "name": "stdout",
     "output_type": "stream",
     "text": [
      "Epoch 40, Loss 0.0438\n",
      "Training Accuracy: 0.9498, Testing Accuracy: 0.9597\n",
      "\n"
     ]
    },
    {
     "name": "stdout",
     "output_type": "stream",
     "text": [
      "Epoch 50, Loss 0.0386\n",
      "Training Accuracy: 0.9548, Testing Accuracy: 0.9637\n",
      "\n"
     ]
    },
    {
     "name": "stdout",
     "output_type": "stream",
     "text": [
      "Epoch 60, Loss 0.0351\n",
      "Training Accuracy: 0.9588, Testing Accuracy: 0.9637\n",
      "\n"
     ]
    },
    {
     "name": "stdout",
     "output_type": "stream",
     "text": [
      "Epoch 70, Loss 0.0327\n",
      "Training Accuracy: 0.9617, Testing Accuracy: 0.9662\n",
      "\n"
     ]
    },
    {
     "name": "stdout",
     "output_type": "stream",
     "text": [
      "Epoch 80, Loss 0.0308\n",
      "Training Accuracy: 0.9646, Testing Accuracy: 0.9688\n",
      "\n"
     ]
    },
    {
     "name": "stdout",
     "output_type": "stream",
     "text": [
      "Epoch 90, Loss 0.0293\n",
      "Training Accuracy: 0.9664, Testing Accuracy: 0.9698\n",
      "\n"
     ]
    },
    {
     "name": "stdout",
     "output_type": "stream",
     "text": [
      "Epoch 100, Loss 0.028\n",
      "Training Accuracy: 0.9676, Testing Accuracy: 0.9703\n",
      "\n"
     ]
    },
    {
     "name": "stdout",
     "output_type": "stream",
     "text": [
      "Epoch 110, Loss 0.0269\n",
      "Training Accuracy: 0.9685, Testing Accuracy: 0.9708\n",
      "\n"
     ]
    },
    {
     "name": "stdout",
     "output_type": "stream",
     "text": [
      "Epoch 120, Loss 0.026\n",
      "Training Accuracy: 0.9695, Testing Accuracy: 0.9713\n",
      "\n"
     ]
    },
    {
     "name": "stdout",
     "output_type": "stream",
     "text": [
      "Epoch 130, Loss 0.0252\n",
      "Training Accuracy: 0.9703, Testing Accuracy: 0.9718\n",
      "\n"
     ]
    },
    {
     "name": "stdout",
     "output_type": "stream",
     "text": [
      "Epoch 140, Loss 0.0244\n",
      "Training Accuracy: 0.9711, Testing Accuracy: 0.9723\n",
      "\n"
     ]
    },
    {
     "name": "stdout",
     "output_type": "stream",
     "text": [
      "Epoch 150, Loss 0.0237\n",
      "Training Accuracy: 0.9720, Testing Accuracy: 0.9733\n",
      "\n"
     ]
    },
    {
     "name": "stdout",
     "output_type": "stream",
     "text": [
      "Epoch 160, Loss 0.0231\n",
      "Training Accuracy: 0.9730, Testing Accuracy: 0.9728\n",
      "\n"
     ]
    },
    {
     "name": "stdout",
     "output_type": "stream",
     "text": [
      "Epoch 170, Loss 0.0226\n",
      "Training Accuracy: 0.9737, Testing Accuracy: 0.9728\n",
      "\n"
     ]
    },
    {
     "name": "stdout",
     "output_type": "stream",
     "text": [
      "Epoch 180, Loss 0.022\n",
      "Training Accuracy: 0.9744, Testing Accuracy: 0.9733\n",
      "\n"
     ]
    },
    {
     "name": "stdout",
     "output_type": "stream",
     "text": [
      "Epoch 190, Loss 0.0215\n",
      "Training Accuracy: 0.9750, Testing Accuracy: 0.9718\n",
      "\n"
     ]
    },
    {
     "name": "stdout",
     "output_type": "stream",
     "text": [
      "Epoch 200, Loss 0.0211\n",
      "Training Accuracy: 0.9756, Testing Accuracy: 0.9723\n",
      "\n"
     ]
    },
    {
     "name": "stdout",
     "output_type": "stream",
     "text": [
      "Epoch 210, Loss 0.0206\n",
      "Training Accuracy: 0.9764, Testing Accuracy: 0.9723\n",
      "\n"
     ]
    },
    {
     "name": "stdout",
     "output_type": "stream",
     "text": [
      "Epoch 220, Loss 0.0202\n",
      "Training Accuracy: 0.9770, Testing Accuracy: 0.9723\n",
      "\n"
     ]
    },
    {
     "name": "stdout",
     "output_type": "stream",
     "text": [
      "Epoch 230, Loss 0.0198\n",
      "Training Accuracy: 0.9775, Testing Accuracy: 0.9718\n",
      "\n"
     ]
    },
    {
     "name": "stdout",
     "output_type": "stream",
     "text": [
      "Epoch 240, Loss 0.0194\n",
      "Training Accuracy: 0.9779, Testing Accuracy: 0.9728\n",
      "\n"
     ]
    },
    {
     "data": {
      "text/plain": [
       "0.023889397994623814"
      ]
     },
     "execution_count": 22,
     "metadata": {},
     "output_type": "execute_result"
    }
   ],
   "source": [
    "nn_learner.train_loop(dl)"
   ]
  },
  {
   "cell_type": "code",
   "execution_count": 23,
   "id": "e0163366",
   "metadata": {
    "execution": {
     "iopub.execute_input": "2021-12-07T00:25:22.268426Z",
     "iopub.status.busy": "2021-12-07T00:25:22.267886Z",
     "iopub.status.idle": "2021-12-07T00:25:36.617497Z",
     "shell.execute_reply": "2021-12-07T00:25:36.618260Z"
    },
    "papermill": {
     "duration": 14.397049,
     "end_time": "2021-12-07T00:25:36.618418",
     "exception": false,
     "start_time": "2021-12-07T00:25:22.221369",
     "status": "completed"
    },
    "tags": []
   },
   "outputs": [
    {
     "name": "stdout",
     "output_type": "stream",
     "text": [
      "Epoch 0, Loss 0.2122\n",
      "Training Accuracy: 0.7963, Testing Accuracy: 0.8175\n",
      "\n"
     ]
    },
    {
     "name": "stdout",
     "output_type": "stream",
     "text": [
      "Epoch 10, Loss 0.0996\n",
      "Training Accuracy: 0.9120, Testing Accuracy: 0.9284\n",
      "\n"
     ]
    },
    {
     "name": "stdout",
     "output_type": "stream",
     "text": [
      "Epoch 20, Loss 0.0782\n",
      "Training Accuracy: 0.9271, Testing Accuracy: 0.9400\n",
      "\n"
     ]
    },
    {
     "name": "stdout",
     "output_type": "stream",
     "text": [
      "Epoch 30, Loss 0.0679\n",
      "Training Accuracy: 0.9344, Testing Accuracy: 0.9430\n",
      "\n"
     ]
    },
    {
     "name": "stdout",
     "output_type": "stream",
     "text": [
      "Epoch 40, Loss 0.0617\n",
      "Training Accuracy: 0.9388, Testing Accuracy: 0.9486\n",
      "\n"
     ]
    },
    {
     "name": "stdout",
     "output_type": "stream",
     "text": [
      "Epoch 50, Loss 0.0573\n",
      "Training Accuracy: 0.9425, Testing Accuracy: 0.9516\n",
      "\n"
     ]
    },
    {
     "name": "stdout",
     "output_type": "stream",
     "text": [
      "Epoch 60, Loss 0.0541\n",
      "Training Accuracy: 0.9454, Testing Accuracy: 0.9556\n",
      "\n"
     ]
    },
    {
     "name": "stdout",
     "output_type": "stream",
     "text": [
      "Epoch 70, Loss 0.0516\n",
      "Training Accuracy: 0.9469, Testing Accuracy: 0.9577\n",
      "\n"
     ]
    },
    {
     "name": "stdout",
     "output_type": "stream",
     "text": [
      "Epoch 80, Loss 0.0496\n",
      "Training Accuracy: 0.9483, Testing Accuracy: 0.9592\n",
      "\n"
     ]
    },
    {
     "name": "stdout",
     "output_type": "stream",
     "text": [
      "Epoch 90, Loss 0.0479\n",
      "Training Accuracy: 0.9491, Testing Accuracy: 0.9597\n",
      "\n"
     ]
    },
    {
     "name": "stdout",
     "output_type": "stream",
     "text": [
      "Epoch 100, Loss 0.0465\n",
      "Training Accuracy: 0.9503, Testing Accuracy: 0.9607\n",
      "\n"
     ]
    },
    {
     "name": "stdout",
     "output_type": "stream",
     "text": [
      "Epoch 110, Loss 0.0453\n",
      "Training Accuracy: 0.9513, Testing Accuracy: 0.9612\n",
      "\n"
     ]
    },
    {
     "name": "stdout",
     "output_type": "stream",
     "text": [
      "Epoch 120, Loss 0.0442\n",
      "Training Accuracy: 0.9528, Testing Accuracy: 0.9622\n",
      "\n"
     ]
    },
    {
     "name": "stdout",
     "output_type": "stream",
     "text": [
      "Epoch 130, Loss 0.0433\n",
      "Training Accuracy: 0.9536, Testing Accuracy: 0.9632\n",
      "\n"
     ]
    },
    {
     "name": "stdout",
     "output_type": "stream",
     "text": [
      "Epoch 140, Loss 0.0424\n",
      "Training Accuracy: 0.9543, Testing Accuracy: 0.9632\n",
      "\n"
     ]
    },
    {
     "name": "stdout",
     "output_type": "stream",
     "text": [
      "Epoch 150, Loss 0.0417\n",
      "Training Accuracy: 0.9546, Testing Accuracy: 0.9637\n",
      "\n"
     ]
    },
    {
     "name": "stdout",
     "output_type": "stream",
     "text": [
      "Epoch 160, Loss 0.041\n",
      "Training Accuracy: 0.9554, Testing Accuracy: 0.9642\n",
      "\n"
     ]
    },
    {
     "name": "stdout",
     "output_type": "stream",
     "text": [
      "Epoch 170, Loss 0.0404\n",
      "Training Accuracy: 0.9559, Testing Accuracy: 0.9647\n",
      "\n"
     ]
    },
    {
     "name": "stdout",
     "output_type": "stream",
     "text": [
      "Epoch 180, Loss 0.0398\n",
      "Training Accuracy: 0.9562, Testing Accuracy: 0.9657\n",
      "\n"
     ]
    },
    {
     "name": "stdout",
     "output_type": "stream",
     "text": [
      "Epoch 190, Loss 0.0393\n",
      "Training Accuracy: 0.9570, Testing Accuracy: 0.9647\n",
      "\n"
     ]
    },
    {
     "name": "stdout",
     "output_type": "stream",
     "text": [
      "Epoch 200, Loss 0.0388\n",
      "Training Accuracy: 0.9574, Testing Accuracy: 0.9647\n",
      "\n"
     ]
    },
    {
     "name": "stdout",
     "output_type": "stream",
     "text": [
      "Epoch 210, Loss 0.0383\n",
      "Training Accuracy: 0.9579, Testing Accuracy: 0.9652\n",
      "\n"
     ]
    },
    {
     "name": "stdout",
     "output_type": "stream",
     "text": [
      "Epoch 220, Loss 0.0379\n",
      "Training Accuracy: 0.9583, Testing Accuracy: 0.9652\n",
      "\n"
     ]
    },
    {
     "name": "stdout",
     "output_type": "stream",
     "text": [
      "Epoch 230, Loss 0.0375\n",
      "Training Accuracy: 0.9589, Testing Accuracy: 0.9652\n",
      "\n"
     ]
    },
    {
     "name": "stdout",
     "output_type": "stream",
     "text": [
      "Epoch 240, Loss 0.0372\n",
      "Training Accuracy: 0.9590, Testing Accuracy: 0.9652\n",
      "\n"
     ]
    },
    {
     "data": {
      "text/plain": [
       "0.04555824971979075"
      ]
     },
     "execution_count": 23,
     "metadata": {},
     "output_type": "execute_result"
    }
   ],
   "source": [
    "lr_learner.train_loop(dl)"
   ]
  },
  {
   "cell_type": "code",
   "execution_count": 24,
   "id": "ca410940",
   "metadata": {
    "execution": {
     "iopub.execute_input": "2021-12-07T00:25:36.716348Z",
     "iopub.status.busy": "2021-12-07T00:25:36.715785Z",
     "iopub.status.idle": "2021-12-07T00:25:36.933618Z",
     "shell.execute_reply": "2021-12-07T00:25:36.934053Z"
    },
    "papermill": {
     "duration": 0.274364,
     "end_time": "2021-12-07T00:25:36.934205",
     "exception": false,
     "start_time": "2021-12-07T00:25:36.659841",
     "status": "completed"
    },
    "tags": []
   },
   "outputs": [
    {
     "data": {
      "text/plain": [
       "<matplotlib.legend.Legend at 0x7fabe41a2c50>"
      ]
     },
     "execution_count": 24,
     "metadata": {},
     "output_type": "execute_result"
    },
    {
     "data": {
      "image/png": "[encoded data removed]",
      "text/plain": [
       "<Figure size 1080x720 with 1 Axes>"
      ]
     },
     "metadata": {
      "needs_background": "light"
     },
     "output_type": "display_data"
    }
   ],
   "source": [
    "#comparing the results of NN and LR\n",
    "plt.figure(figsize=(15,10))\n",
    "\n",
    "# Neural Network plots\n",
    "plt.plot(acc_nn.accuracies, 'r-', label = \"Training Accuracies - NN\")\n",
    "plt.plot(acc_nn.test_accuracies, 'g-', label = \"Testing Accuracies - NN\")\n",
    "\n",
    "# Logistic Regression plots\n",
    "plt.plot(acc_lr.accuracies, 'k-', label = \"Training Accuracies - LR\")\n",
    "plt.plot(acc_lr.test_accuracies, 'b-', label = \"Testing Accuracies - LR\")\n",
    "plt.legend()"
   ]
  },
  {
   "cell_type": "markdown",
   "id": "80dfb35c",
   "metadata": {
    "papermill": {
     "duration": 0.041989,
     "end_time": "2021-12-07T00:25:37.018525",
     "exception": false,
     "start_time": "2021-12-07T00:25:36.976536",
     "status": "completed"
    },
    "tags": []
   },
   "source": [
    "#### Plotting the outputs of this layer of the NN.\n"
   ]
  },
  {
   "cell_type": "code",
   "execution_count": 25,
   "id": "45eb2ff5",
   "metadata": {
    "execution": {
     "iopub.execute_input": "2021-12-07T00:25:37.108696Z",
     "iopub.status.busy": "2021-12-07T00:25:37.108130Z",
     "iopub.status.idle": "2021-12-07T00:25:37.127419Z",
     "shell.execute_reply": "2021-12-07T00:25:37.127874Z"
    },
    "papermill": {
     "duration": 0.067389,
     "end_time": "2021-12-07T00:25:37.128024",
     "exception": false,
     "start_time": "2021-12-07T00:25:37.060635",
     "status": "completed"
    },
    "tags": []
   },
   "outputs": [],
   "source": [
    "new_model = Model(layers[:-2])\n",
    "testing_plot = new_model(testing_data_x)"
   ]
  },
  {
   "cell_type": "code",
   "execution_count": 26,
   "id": "4c0a5485",
   "metadata": {
    "execution": {
     "iopub.execute_input": "2021-12-07T00:25:37.219831Z",
     "iopub.status.busy": "2021-12-07T00:25:37.219259Z",
     "iopub.status.idle": "2021-12-07T00:25:37.425347Z",
     "shell.execute_reply": "2021-12-07T00:25:37.424903Z"
    },
    "papermill": {
     "duration": 0.255019,
     "end_time": "2021-12-07T00:25:37.425473",
     "exception": false,
     "start_time": "2021-12-07T00:25:37.170454",
     "status": "completed"
    },
    "tags": []
   },
   "outputs": [
    {
     "data": {
      "text/plain": [
       "Text(0.5, 1.0, 'Outputs')"
      ]
     },
     "execution_count": 26,
     "metadata": {},
     "output_type": "execute_result"
    },
    {
     "data": {
      "image/png": "[encoded data removed]",
      "text/plain": [
       "<Figure size 576x504 with 1 Axes>"
      ]
     },
     "metadata": {
      "needs_background": "light"
     },
     "output_type": "display_data"
    }
   ],
   "source": [
    "# Plotting the scatter plot of points and color coding by class\n",
    "plt.figure(figsize=(8,7))\n",
    "plt.scatter(testing_plot[:,0], testing_plot[:,1], alpha = 0.1, c = y_test.ravel());\n",
    "plt.title('Outputs')"
   ]
  },
  {
   "cell_type": "markdown",
   "id": "a74fcf8f",
   "metadata": {
    "papermill": {
     "duration": 0.044509,
     "end_time": "2021-12-07T00:25:37.514793",
     "exception": false,
     "start_time": "2021-12-07T00:25:37.470284",
     "status": "completed"
    },
    "tags": []
   },
   "source": [
    "Probability contours"
   ]
  },
  {
   "cell_type": "code",
   "execution_count": 27,
   "id": "d0afc8e3",
   "metadata": {
    "execution": {
     "iopub.execute_input": "2021-12-07T00:25:37.622956Z",
     "iopub.status.busy": "2021-12-07T00:25:37.619806Z",
     "iopub.status.idle": "2021-12-07T00:25:37.625330Z",
     "shell.execute_reply": "2021-12-07T00:25:37.624885Z"
    },
    "papermill": {
     "duration": 0.06588,
     "end_time": "2021-12-07T00:25:37.625449",
     "exception": false,
     "start_time": "2021-12-07T00:25:37.559569",
     "status": "completed"
    },
    "tags": []
   },
   "outputs": [],
   "source": [
    "model_prob = Model(layers[-2:]) "
   ]
  },
  {
   "cell_type": "code",
   "execution_count": 28,
   "id": "9b96e238",
   "metadata": {
    "execution": {
     "iopub.execute_input": "2021-12-07T00:25:37.719830Z",
     "iopub.status.busy": "2021-12-07T00:25:37.719283Z",
     "iopub.status.idle": "2021-12-07T00:25:37.733864Z",
     "shell.execute_reply": "2021-12-07T00:25:37.734257Z"
    },
    "papermill": {
     "duration": 0.064101,
     "end_time": "2021-12-07T00:25:37.734402",
     "exception": false,
     "start_time": "2021-12-07T00:25:37.670301",
     "status": "completed"
    },
    "tags": []
   },
   "outputs": [],
   "source": [
    "#creating the x and y ranges according to the above generated plot.\n",
    "x_range = np.linspace(-4, 1, 100) \n",
    "y_range = np.linspace(-6, 6, 100) \n",
    "x_grid, y_grid = np.meshgrid(x_range, y_range) # x_grid and y_grig are of size 100 X 100\n",
    "\n",
    "# converting x_grid and y_grid to continuous arrays\n",
    "x_gridflat = np.ravel(x_grid)\n",
    "y_gridflat = np.ravel(y_grid)\n",
    "\n",
    "# The last layer of the current model takes two columns as input. Hence transpose of np.vstack() is required.\n",
    "X = np.vstack((x_gridflat, y_gridflat)).T\n",
    "\n",
    "prob_contour = model_prob(X).reshape(100,100) "
   ]
  },
  {
   "cell_type": "code",
   "execution_count": 29,
   "id": "da72499a",
   "metadata": {
    "execution": {
     "iopub.execute_input": "2021-12-07T00:25:37.836289Z",
     "iopub.status.busy": "2021-12-07T00:25:37.835753Z",
     "iopub.status.idle": "2021-12-07T00:25:38.081580Z",
     "shell.execute_reply": "2021-12-07T00:25:38.082073Z"
    },
    "papermill": {
     "duration": 0.302273,
     "end_time": "2021-12-07T00:25:38.082238",
     "exception": false,
     "start_time": "2021-12-07T00:25:37.779965",
     "status": "completed"
    },
    "tags": []
   },
   "outputs": [
    {
     "data": {
      "image/png": "[encoded data removed]",
      "text/plain": [
       "<Figure size 720x648 with 1 Axes>"
      ]
     },
     "metadata": {
      "needs_background": "light"
     },
     "output_type": "display_data"
    }
   ],
   "source": [
    "plt.figure(figsize=(10,9))\n",
    "plt.scatter(testing_plot[:,0], testing_plot[:,1], alpha = 0.1, c = y_test.ravel())\n",
    "contours = plt.contour(x_grid,y_grid,prob_contour)\n",
    "plt.title('Probability Contours')\n",
    "plt.clabel(contours, inline = True );"
   ]
  },
  {
   "cell_type": "code",
   "execution_count": null,
   "id": "e81b4ac7",
   "metadata": {
    "papermill": {
     "duration": 0.047281,
     "end_time": "2021-12-07T00:25:38.209989",
     "exception": false,
     "start_time": "2021-12-07T00:25:38.162708",
     "status": "completed"
    },
    "tags": []
   },
   "outputs": [],
   "source": []
  }
 ],
 "metadata": {
  "kernelspec": {
   "display_name": "Python 3",
   "language": "python",
   "name": "python3"
  },
  "language_info": {
   "codemirror_mode": {
    "name": "ipython",
    "version": 3
   },
   "file_extension": ".py",
   "mimetype": "text/x-python",
   "name": "python",
   "nbconvert_exporter": "python",
   "pygments_lexer": "ipython3",
   "version": "3.6.15"
  },
  "papermill": {
   "default_parameters": {},
   "duration": 103.084167,
   "end_time": "2021-12-07T00:25:38.667022",
   "environment_variables": {},
   "exception": null,
   "input_path": "2020-08-11-part2.ipynb",
   "output_path": "2020-08-11-part2.ipynb",
   "parameters": {},
   "start_time": "2021-12-07T00:23:55.582855",
   "version": "2.3.3"
  }
 },
 "nbformat": 4,
 "nbformat_minor": 5
}