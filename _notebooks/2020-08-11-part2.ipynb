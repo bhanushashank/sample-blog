{
 "cells": [
  {
   "cell_type": "markdown",
   "id": "98380cd3",
   "metadata": {
    "papermill": {
     "duration": 0.03621,
     "end_time": "2022-10-24T10:17:33.235396",
     "exception": false,
     "start_time": "2022-10-24T10:17:33.199186",
     "status": "completed"
    },
    "tags": []
   },
   "source": [
    "# Distinguish Your Own Digits (DYOD)"
   ]
  },
  {
   "cell_type": "markdown",
   "id": "ef31240d",
   "metadata": {
    "papermill": {
     "duration": 0.027256,
     "end_time": "2022-10-24T10:17:33.290172",
     "exception": false,
     "start_time": "2022-10-24T10:17:33.262916",
     "status": "completed"
    },
    "tags": []
   },
   "source": [
    "You are going to write a classifier that distinguishes between the number 3 and number 8."
   ]
  },
  {
   "cell_type": "code",
   "execution_count": 1,
   "id": "b15c8646",
   "metadata": {
    "execution": {
     "iopub.execute_input": "2022-10-24T10:17:33.357217Z",
     "iopub.status.busy": "2022-10-24T10:17:33.356524Z",
     "iopub.status.idle": "2022-10-24T10:17:33.368878Z",
     "shell.execute_reply": "2022-10-24T10:17:33.368190Z"
    },
    "papermill": {
     "duration": 0.052001,
     "end_time": "2022-10-24T10:17:33.369019",
     "exception": false,
     "start_time": "2022-10-24T10:17:33.317018",
     "status": "completed"
    },
    "tags": []
   },
   "outputs": [],
   "source": [
    "%load_ext autoreload\n",
    "%autoreload 2"
   ]
  },
  {
   "cell_type": "code",
   "execution_count": 2,
   "id": "22ef38dc",
   "metadata": {
    "execution": {
     "iopub.execute_input": "2022-10-24T10:17:33.427558Z",
     "iopub.status.busy": "2022-10-24T10:17:33.426865Z",
     "iopub.status.idle": "2022-10-24T10:17:34.074453Z",
     "shell.execute_reply": "2022-10-24T10:17:34.073347Z"
    },
    "papermill": {
     "duration": 0.678634,
     "end_time": "2022-10-24T10:17:34.074674",
     "exception": false,
     "start_time": "2022-10-24T10:17:33.396040",
     "status": "completed"
    },
    "tags": []
   },
   "outputs": [],
   "source": [
    "%matplotlib inline\n",
    "import numpy as np\n",
    "import matplotlib.pyplot as plt\n",
    "import pandas as pd"
   ]
  },
  {
   "cell_type": "markdown",
   "id": "ba036198",
   "metadata": {
    "papermill": {
     "duration": 0.026991,
     "end_time": "2022-10-24T10:17:34.129718",
     "exception": false,
     "start_time": "2022-10-24T10:17:34.102727",
     "status": "completed"
    },
    "tags": []
   },
   "source": [
    "From the command line run `pip install mnist`. This is a library that will help you bring down the mnist dataset. If you run this from a notebook, you need to put  `!pip install mnist` in a cell by itself."
   ]
  },
  {
   "cell_type": "code",
   "execution_count": 3,
   "id": "bb6ad8a1",
   "metadata": {
    "execution": {
     "iopub.execute_input": "2022-10-24T10:17:34.189366Z",
     "iopub.status.busy": "2022-10-24T10:17:34.188255Z",
     "iopub.status.idle": "2022-10-24T10:17:36.016051Z",
     "shell.execute_reply": "2022-10-24T10:17:36.015430Z"
    },
    "papermill": {
     "duration": 1.859909,
     "end_time": "2022-10-24T10:17:36.016190",
     "exception": false,
     "start_time": "2022-10-24T10:17:34.156281",
     "status": "completed"
    },
    "tags": []
   },
   "outputs": [
    {
     "name": "stdout",
     "output_type": "stream",
     "text": [
      "Collecting mnist\r\n"
     ]
    },
    {
     "name": "stdout",
     "output_type": "stream",
     "text": [
      "  Downloading mnist-0.2.2-py2.py3-none-any.whl (3.5 kB)\r\n"
     ]
    },
    {
     "name": "stdout",
     "output_type": "stream",
     "text": [
      "Requirement already satisfied: numpy in /opt/hostedtoolcache/Python/3.6.15/x64/lib/python3.6/site-packages (from mnist) (1.19.5)\r\n"
     ]
    },
    {
     "name": "stdout",
     "output_type": "stream",
     "text": [
      "Installing collected packages: mnist\r\n"
     ]
    },
    {
     "name": "stdout",
     "output_type": "stream",
     "text": [
      "Successfully installed mnist-0.2.2\r\n"
     ]
    }
   ],
   "source": [
    "!pip install mnist"
   ]
  },
  {
   "cell_type": "markdown",
   "id": "69df9c9a",
   "metadata": {
    "papermill": {
     "duration": 0.030577,
     "end_time": "2022-10-24T10:17:36.076412",
     "exception": false,
     "start_time": "2022-10-24T10:17:36.045835",
     "status": "completed"
    },
    "tags": []
   },
   "source": [
    "## Preparing the Data"
   ]
  },
  {
   "cell_type": "code",
   "execution_count": 4,
   "id": "7f69d806",
   "metadata": {
    "execution": {
     "iopub.execute_input": "2022-10-24T10:17:36.148787Z",
     "iopub.status.busy": "2022-10-24T10:17:36.148091Z",
     "iopub.status.idle": "2022-10-24T10:17:36.162376Z",
     "shell.execute_reply": "2022-10-24T10:17:36.161797Z"
    },
    "papermill": {
     "duration": 0.057288,
     "end_time": "2022-10-24T10:17:36.162498",
     "exception": false,
     "start_time": "2022-10-24T10:17:36.105210",
     "status": "completed"
    },
    "tags": []
   },
   "outputs": [],
   "source": [
    "import mnist"
   ]
  },
  {
   "cell_type": "code",
   "execution_count": 5,
   "id": "a411e44f",
   "metadata": {
    "execution": {
     "iopub.execute_input": "2022-10-24T10:17:36.230638Z",
     "iopub.status.busy": "2022-10-24T10:17:36.229877Z",
     "iopub.status.idle": "2022-10-24T10:17:36.836121Z",
     "shell.execute_reply": "2022-10-24T10:17:36.835269Z"
    },
    "papermill": {
     "duration": 0.645314,
     "end_time": "2022-10-24T10:17:36.836260",
     "exception": false,
     "start_time": "2022-10-24T10:17:36.190946",
     "status": "completed"
    },
    "tags": []
   },
   "outputs": [],
   "source": [
    "train_images = mnist.train_images()\n",
    "train_labels = mnist.train_labels()"
   ]
  },
  {
   "cell_type": "code",
   "execution_count": 6,
   "id": "dceab3a5",
   "metadata": {
    "execution": {
     "iopub.execute_input": "2022-10-24T10:17:36.898814Z",
     "iopub.status.busy": "2022-10-24T10:17:36.898113Z",
     "iopub.status.idle": "2022-10-24T10:17:36.917595Z",
     "shell.execute_reply": "2022-10-24T10:17:36.918186Z"
    },
    "papermill": {
     "duration": 0.053406,
     "end_time": "2022-10-24T10:17:36.918337",
     "exception": false,
     "start_time": "2022-10-24T10:17:36.864931",
     "status": "completed"
    },
    "tags": []
   },
   "outputs": [
    {
     "data": {
      "text/plain": [
       "((60000, 28, 28), (60000,))"
      ]
     },
     "execution_count": 6,
     "metadata": {},
     "output_type": "execute_result"
    }
   ],
   "source": [
    "train_images.shape, train_labels.shape"
   ]
  },
  {
   "cell_type": "code",
   "execution_count": 7,
   "id": "f50dc2bb",
   "metadata": {
    "execution": {
     "iopub.execute_input": "2022-10-24T10:17:36.980789Z",
     "iopub.status.busy": "2022-10-24T10:17:36.980102Z",
     "iopub.status.idle": "2022-10-24T10:17:37.242808Z",
     "shell.execute_reply": "2022-10-24T10:17:37.242199Z"
    },
    "papermill": {
     "duration": 0.29586,
     "end_time": "2022-10-24T10:17:37.242964",
     "exception": false,
     "start_time": "2022-10-24T10:17:36.947104",
     "status": "completed"
    },
    "tags": []
   },
   "outputs": [],
   "source": [
    "test_images = mnist.test_images()\n",
    "test_labels = mnist.test_labels()"
   ]
  },
  {
   "cell_type": "code",
   "execution_count": 8,
   "id": "fc38cf1b",
   "metadata": {
    "execution": {
     "iopub.execute_input": "2022-10-24T10:17:37.304695Z",
     "iopub.status.busy": "2022-10-24T10:17:37.304012Z",
     "iopub.status.idle": "2022-10-24T10:17:37.319125Z",
     "shell.execute_reply": "2022-10-24T10:17:37.318578Z"
    },
    "papermill": {
     "duration": 0.048227,
     "end_time": "2022-10-24T10:17:37.319248",
     "exception": false,
     "start_time": "2022-10-24T10:17:37.271021",
     "status": "completed"
    },
    "tags": []
   },
   "outputs": [
    {
     "data": {
      "text/plain": [
       "((10000, 28, 28), (10000,))"
      ]
     },
     "execution_count": 8,
     "metadata": {},
     "output_type": "execute_result"
    }
   ],
   "source": [
    "test_images.shape, test_labels.shape"
   ]
  },
  {
   "cell_type": "code",
   "execution_count": 9,
   "id": "f9ed8fe0",
   "metadata": {
    "execution": {
     "iopub.execute_input": "2022-10-24T10:17:37.383878Z",
     "iopub.status.busy": "2022-10-24T10:17:37.382959Z",
     "iopub.status.idle": "2022-10-24T10:17:37.541181Z",
     "shell.execute_reply": "2022-10-24T10:17:37.541690Z"
    },
    "papermill": {
     "duration": 0.193642,
     "end_time": "2022-10-24T10:17:37.541866",
     "exception": false,
     "start_time": "2022-10-24T10:17:37.348224",
     "status": "completed"
    },
    "tags": []
   },
   "outputs": [
    {
     "name": "stdout",
     "output_type": "stream",
     "text": [
      "2\n"
     ]
    },
    {
     "data": {
      "text/plain": [
       "<matplotlib.image.AxesImage at 0x7ff024a24cc0>"
      ]
     },
     "execution_count": 9,
     "metadata": {},
     "output_type": "execute_result"
    },
    {
     "data": {
      "image/png": "[encoded data removed]",
      "text/plain": [
       "<Figure size 432x288 with 1 Axes>"
      ]
     },
     "metadata": {
      "needs_background": "light"
     },
     "output_type": "display_data"
    }
   ],
   "source": [
    "image_index = 7776 # You may select anything up to 60,000\n",
    "print(train_labels[image_index]) \n",
    "plt.imshow(train_images[image_index], cmap='Greys')"
   ]
  },
  {
   "cell_type": "markdown",
   "id": "a8d2388d",
   "metadata": {
    "papermill": {
     "duration": 0.029916,
     "end_time": "2022-10-24T10:17:37.602555",
     "exception": false,
     "start_time": "2022-10-24T10:17:37.572639",
     "status": "completed"
    },
    "tags": []
   },
   "source": [
    "## Filter data to get 3 and 8 out"
   ]
  },
  {
   "cell_type": "code",
   "execution_count": 10,
   "id": "776f7fc7",
   "metadata": {
    "execution": {
     "iopub.execute_input": "2022-10-24T10:17:37.670065Z",
     "iopub.status.busy": "2022-10-24T10:17:37.669301Z",
     "iopub.status.idle": "2022-10-24T10:17:37.687106Z",
     "shell.execute_reply": "2022-10-24T10:17:37.686534Z"
    },
    "papermill": {
     "duration": 0.054503,
     "end_time": "2022-10-24T10:17:37.687235",
     "exception": false,
     "start_time": "2022-10-24T10:17:37.632732",
     "status": "completed"
    },
    "tags": []
   },
   "outputs": [],
   "source": [
    "train_filter = np.where((train_labels == 3 ) | (train_labels == 8))\n",
    "test_filter = np.where((test_labels == 3) | (test_labels == 8))\n",
    "X_train, y_train = train_images[train_filter], train_labels[train_filter]\n",
    "X_test, y_test = test_images[test_filter], test_labels[test_filter]"
   ]
  },
  {
   "cell_type": "markdown",
   "id": "948f0b7e",
   "metadata": {
    "papermill": {
     "duration": 0.032009,
     "end_time": "2022-10-24T10:17:37.750257",
     "exception": false,
     "start_time": "2022-10-24T10:17:37.718248",
     "status": "completed"
    },
    "tags": []
   },
   "source": [
    "We normalize the pizel values in the 0 to 1 range"
   ]
  },
  {
   "cell_type": "code",
   "execution_count": 11,
   "id": "ee4c2166",
   "metadata": {
    "execution": {
     "iopub.execute_input": "2022-10-24T10:17:37.822093Z",
     "iopub.status.busy": "2022-10-24T10:17:37.821347Z",
     "iopub.status.idle": "2022-10-24T10:17:37.874235Z",
     "shell.execute_reply": "2022-10-24T10:17:37.873401Z"
    },
    "papermill": {
     "duration": 0.093579,
     "end_time": "2022-10-24T10:17:37.874473",
     "exception": false,
     "start_time": "2022-10-24T10:17:37.780894",
     "status": "completed"
    },
    "tags": []
   },
   "outputs": [],
   "source": [
    "X_train = X_train/255.\n",
    "X_test = X_test/255."
   ]
  },
  {
   "cell_type": "markdown",
   "id": "ddcf4fab",
   "metadata": {
    "papermill": {
     "duration": 0.030026,
     "end_time": "2022-10-24T10:17:37.936688",
     "exception": false,
     "start_time": "2022-10-24T10:17:37.906662",
     "status": "completed"
    },
    "tags": []
   },
   "source": [
    "And setup the labels as 1 (when the digit is 3) and 0 (when the digit is 8)"
   ]
  },
  {
   "cell_type": "code",
   "execution_count": 12,
   "id": "7dc908f2",
   "metadata": {
    "execution": {
     "iopub.execute_input": "2022-10-24T10:17:38.001102Z",
     "iopub.status.busy": "2022-10-24T10:17:38.000424Z",
     "iopub.status.idle": "2022-10-24T10:17:38.015323Z",
     "shell.execute_reply": "2022-10-24T10:17:38.014807Z"
    },
    "papermill": {
     "duration": 0.048651,
     "end_time": "2022-10-24T10:17:38.015440",
     "exception": false,
     "start_time": "2022-10-24T10:17:37.966789",
     "status": "completed"
    },
    "tags": []
   },
   "outputs": [],
   "source": [
    "y_train = 1*(y_train==3)\n",
    "y_test = 1*(y_test==3)"
   ]
  },
  {
   "cell_type": "code",
   "execution_count": 13,
   "id": "01e4e969",
   "metadata": {
    "execution": {
     "iopub.execute_input": "2022-10-24T10:17:38.082021Z",
     "iopub.status.busy": "2022-10-24T10:17:38.081300Z",
     "iopub.status.idle": "2022-10-24T10:17:38.096910Z",
     "shell.execute_reply": "2022-10-24T10:17:38.096346Z"
    },
    "papermill": {
     "duration": 0.052112,
     "end_time": "2022-10-24T10:17:38.097030",
     "exception": false,
     "start_time": "2022-10-24T10:17:38.044918",
     "status": "completed"
    },
    "tags": []
   },
   "outputs": [
    {
     "data": {
      "text/plain": [
       "((11982, 28, 28), (1984, 28, 28))"
      ]
     },
     "execution_count": 13,
     "metadata": {},
     "output_type": "execute_result"
    }
   ],
   "source": [
    "X_train.shape, X_test.shape"
   ]
  },
  {
   "cell_type": "markdown",
   "id": "5ccf3f85",
   "metadata": {
    "papermill": {
     "duration": 0.030376,
     "end_time": "2022-10-24T10:17:38.157282",
     "exception": false,
     "start_time": "2022-10-24T10:17:38.126906",
     "status": "completed"
    },
    "tags": []
   },
   "source": [
    "We reshape the data to flatten the image pixels into a set of features or co-variates:"
   ]
  },
  {
   "cell_type": "code",
   "execution_count": 14,
   "id": "5286a4a3",
   "metadata": {
    "execution": {
     "iopub.execute_input": "2022-10-24T10:17:38.224336Z",
     "iopub.status.busy": "2022-10-24T10:17:38.223646Z",
     "iopub.status.idle": "2022-10-24T10:17:38.240865Z",
     "shell.execute_reply": "2022-10-24T10:17:38.240306Z"
    },
    "papermill": {
     "duration": 0.052763,
     "end_time": "2022-10-24T10:17:38.240993",
     "exception": false,
     "start_time": "2022-10-24T10:17:38.188230",
     "status": "completed"
    },
    "tags": []
   },
   "outputs": [
    {
     "data": {
      "text/plain": [
       "((11982, 784), (1984, 784))"
      ]
     },
     "execution_count": 14,
     "metadata": {},
     "output_type": "execute_result"
    }
   ],
   "source": [
    "X_train = X_train.reshape(X_train.shape[0], -1)\n",
    "X_test = X_test.reshape(X_test.shape[0], -1)\n",
    "X_train.shape, X_test.shape"
   ]
  },
  {
   "cell_type": "code",
   "execution_count": 15,
   "id": "73c5f88a",
   "metadata": {
    "execution": {
     "iopub.execute_input": "2022-10-24T10:17:38.309492Z",
     "iopub.status.busy": "2022-10-24T10:17:38.308838Z",
     "iopub.status.idle": "2022-10-24T10:17:38.330570Z",
     "shell.execute_reply": "2022-10-24T10:17:38.329831Z"
    },
    "papermill": {
     "duration": 0.059399,
     "end_time": "2022-10-24T10:17:38.330723",
     "exception": false,
     "start_time": "2022-10-24T10:17:38.271324",
     "status": "completed"
    },
    "tags": []
   },
   "outputs": [],
   "source": [
    "#Impoting functions from 'Kudzu'\n",
    "from kudzu.model import Model\n",
    "from kudzu.train import Learner\n",
    "from kudzu.optim import GD\n",
    "from kudzu.data import Data, Sampler,Dataloader\n",
    "\n",
    "from kudzu.callbacks import AccCallback\n",
    "from kudzu.callbacks import ClfCallback\n",
    "\n",
    "from kudzu.loss import MSE\n",
    "\n",
    "from kudzu.layer import Sigmoid,Relu\n",
    "from kudzu.layer import Affine"
   ]
  },
  {
   "cell_type": "markdown",
   "id": "bc01172a",
   "metadata": {
    "papermill": {
     "duration": 0.030473,
     "end_time": "2022-10-24T10:17:38.393039",
     "exception": false,
     "start_time": "2022-10-24T10:17:38.362566",
     "status": "completed"
    },
    "tags": []
   },
   "source": [
    "### Let us create a `Config` class, to store important parameters. \n",
    "This class essentially plays the role of a dictionary."
   ]
  },
  {
   "cell_type": "code",
   "execution_count": 16,
   "id": "978281aa",
   "metadata": {
    "execution": {
     "iopub.execute_input": "2022-10-24T10:17:38.458699Z",
     "iopub.status.busy": "2022-10-24T10:17:38.458000Z",
     "iopub.status.idle": "2022-10-24T10:17:38.472321Z",
     "shell.execute_reply": "2022-10-24T10:17:38.471763Z"
    },
    "papermill": {
     "duration": 0.049174,
     "end_time": "2022-10-24T10:17:38.472459",
     "exception": false,
     "start_time": "2022-10-24T10:17:38.423285",
     "status": "completed"
    },
    "tags": []
   },
   "outputs": [],
   "source": [
    "class Config:\n",
    "    pass\n",
    "config = Config()\n",
    "config.lr = 0.001\n",
    "config.num_epochs = 250\n",
    "config.bs = 50"
   ]
  },
  {
   "cell_type": "markdown",
   "id": "1385fa59",
   "metadata": {
    "papermill": {
     "duration": 0.030647,
     "end_time": "2022-10-24T10:17:38.534039",
     "exception": false,
     "start_time": "2022-10-24T10:17:38.503392",
     "status": "completed"
    },
    "tags": []
   },
   "source": [
    "### Running Models with the Training data\n",
    "Details about the network layers:\n",
    "- A first affine layer has 784 inputs and does 100 affine transforms. These are followed by a Relu\n",
    "- A second affine layer has 100 inputs from the 100 activations of the past layer, and does 100 affine transforms. These are followed by a Relu\n",
    "- A third affine layer has 100 activations and does 2 affine transformations to create an embedding for visualization. There is no non-linearity here.\n",
    "- A final \"logistic regression\" which has an affine transform from 2 inputs to 1 output, which is squeezed through a sigmoid.\n"
   ]
  },
  {
   "cell_type": "code",
   "execution_count": 17,
   "id": "2b9c66db",
   "metadata": {
    "execution": {
     "iopub.execute_input": "2022-10-24T10:17:38.601294Z",
     "iopub.status.busy": "2022-10-24T10:17:38.600611Z",
     "iopub.status.idle": "2022-10-24T10:17:38.614795Z",
     "shell.execute_reply": "2022-10-24T10:17:38.614115Z"
    },
    "papermill": {
     "duration": 0.049826,
     "end_time": "2022-10-24T10:17:38.614920",
     "exception": false,
     "start_time": "2022-10-24T10:17:38.565094",
     "status": "completed"
    },
    "tags": []
   },
   "outputs": [],
   "source": [
    "data = Data(X_train, y_train.reshape(-1,1))\n",
    "sampler = Sampler(data, config.bs, shuffle=True)\n",
    "\n",
    "dl = Dataloader(data, sampler)\n",
    "\n",
    "opt = GD(config.lr)\n",
    "loss = MSE()"
   ]
  },
  {
   "cell_type": "code",
   "execution_count": 18,
   "id": "b275e4c2",
   "metadata": {
    "execution": {
     "iopub.execute_input": "2022-10-24T10:17:38.686769Z",
     "iopub.status.busy": "2022-10-24T10:17:38.685294Z",
     "iopub.status.idle": "2022-10-24T10:17:38.697869Z",
     "shell.execute_reply": "2022-10-24T10:17:38.698452Z"
    },
    "papermill": {
     "duration": 0.052924,
     "end_time": "2022-10-24T10:17:38.698602",
     "exception": false,
     "start_time": "2022-10-24T10:17:38.645678",
     "status": "completed"
    },
    "tags": []
   },
   "outputs": [],
   "source": [
    "training_data_x = X_train\n",
    "testing_data_x = X_test\n",
    "training_data_y = y_train.reshape(-1,1)\n",
    "testing_data_y = y_test.reshape(-1,1)"
   ]
  },
  {
   "cell_type": "code",
   "execution_count": 19,
   "id": "76951160",
   "metadata": {
    "execution": {
     "iopub.execute_input": "2022-10-24T10:17:38.765666Z",
     "iopub.status.busy": "2022-10-24T10:17:38.764923Z",
     "iopub.status.idle": "2022-10-24T10:17:38.786149Z",
     "shell.execute_reply": "2022-10-24T10:17:38.784875Z"
    },
    "papermill": {
     "duration": 0.057198,
     "end_time": "2022-10-24T10:17:38.786289",
     "exception": false,
     "start_time": "2022-10-24T10:17:38.729091",
     "status": "completed"
    },
    "tags": []
   },
   "outputs": [
    {
     "name": "stdout",
     "output_type": "stream",
     "text": [
      "xavier\n",
      "xavier\n",
      "xavier\n",
      "xavier\n",
      "xavier\n"
     ]
    }
   ],
   "source": [
    "layers = [Affine(\"first\", 784, 100), Relu(\"first\"), Affine(\"second\", 100, 100), Relu(\"second\"), Affine(\"third\", 100, 2), Affine(\"last\", 2, 1), Sigmoid(\"last\")]\n",
    "model_nn = Model(layers)\n",
    "model_lr = Model([Affine(\"logits\", 784, 1), Sigmoid(\"sigmoid\")])"
   ]
  },
  {
   "cell_type": "code",
   "execution_count": 20,
   "id": "6eede77a",
   "metadata": {
    "execution": {
     "iopub.execute_input": "2022-10-24T10:17:38.863118Z",
     "iopub.status.busy": "2022-10-24T10:17:38.855595Z",
     "iopub.status.idle": "2022-10-24T10:17:38.869235Z",
     "shell.execute_reply": "2022-10-24T10:17:38.868571Z"
    },
    "papermill": {
     "duration": 0.051515,
     "end_time": "2022-10-24T10:17:38.869356",
     "exception": false,
     "start_time": "2022-10-24T10:17:38.817841",
     "status": "completed"
    },
    "tags": []
   },
   "outputs": [],
   "source": [
    "nn_learner = Learner(loss, model_nn, opt, config.num_epochs)\n",
    "acc_nn = ClfCallback(nn_learner, config.bs, training_data_x , testing_data_x, training_data_y, testing_data_y)\n",
    "nn_learner.set_callbacks([acc_nn])"
   ]
  },
  {
   "cell_type": "code",
   "execution_count": 21,
   "id": "877b6cc7",
   "metadata": {
    "execution": {
     "iopub.execute_input": "2022-10-24T10:17:38.936987Z",
     "iopub.status.busy": "2022-10-24T10:17:38.936302Z",
     "iopub.status.idle": "2022-10-24T10:17:38.950715Z",
     "shell.execute_reply": "2022-10-24T10:17:38.950138Z"
    },
    "papermill": {
     "duration": 0.050664,
     "end_time": "2022-10-24T10:17:38.950841",
     "exception": false,
     "start_time": "2022-10-24T10:17:38.900177",
     "status": "completed"
    },
    "tags": []
   },
   "outputs": [],
   "source": [
    "lr_learner = Learner(loss, model_lr, opt, config.num_epochs)\n",
    "acc_lr = ClfCallback(lr_learner, config.bs, training_data_x , testing_data_x, training_data_y, testing_data_y)\n",
    "lr_learner.set_callbacks([acc_lr])"
   ]
  },
  {
   "cell_type": "code",
   "execution_count": 22,
   "id": "d9b133c3",
   "metadata": {
    "execution": {
     "iopub.execute_input": "2022-10-24T10:17:39.023609Z",
     "iopub.status.busy": "2022-10-24T10:17:39.022912Z",
     "iopub.status.idle": "2022-10-24T10:19:06.682562Z",
     "shell.execute_reply": "2022-10-24T10:19:06.683544Z"
    },
    "papermill": {
     "duration": 87.698962,
     "end_time": "2022-10-24T10:19:06.683709",
     "exception": false,
     "start_time": "2022-10-24T10:17:38.984747",
     "status": "completed"
    },
    "tags": []
   },
   "outputs": [
    {
     "name": "stdout",
     "output_type": "stream",
     "text": [
      "Epoch 0, Loss 0.2321\n",
      "Training Accuracy: 0.7057, Testing Accuracy: 0.6855\n",
      "\n"
     ]
    },
    {
     "name": "stdout",
     "output_type": "stream",
     "text": [
      "Epoch 10, Loss 0.07\n",
      "Training Accuracy: 0.9331, Testing Accuracy: 0.9370\n",
      "\n"
     ]
    },
    {
     "name": "stdout",
     "output_type": "stream",
     "text": [
      "Epoch 20, Loss 0.0463\n",
      "Training Accuracy: 0.9521, Testing Accuracy: 0.9546\n",
      "\n"
     ]
    },
    {
     "name": "stdout",
     "output_type": "stream",
     "text": [
      "Epoch 30, Loss 0.038\n",
      "Training Accuracy: 0.9587, Testing Accuracy: 0.9627\n",
      "\n"
     ]
    },
    {
     "name": "stdout",
     "output_type": "stream",
     "text": [
      "Epoch 40, Loss 0.0336\n",
      "Training Accuracy: 0.9622, Testing Accuracy: 0.9652\n",
      "\n"
     ]
    },
    {
     "name": "stdout",
     "output_type": "stream",
     "text": [
      "Epoch 50, Loss 0.0308\n",
      "Training Accuracy: 0.9654, Testing Accuracy: 0.9672\n",
      "\n"
     ]
    },
    {
     "name": "stdout",
     "output_type": "stream",
     "text": [
      "Epoch 60, Loss 0.0288\n",
      "Training Accuracy: 0.9679, Testing Accuracy: 0.9688\n",
      "\n"
     ]
    },
    {
     "name": "stdout",
     "output_type": "stream",
     "text": [
      "Epoch 70, Loss 0.0272\n",
      "Training Accuracy: 0.9699, Testing Accuracy: 0.9693\n",
      "\n"
     ]
    },
    {
     "name": "stdout",
     "output_type": "stream",
     "text": [
      "Epoch 80, Loss 0.0259\n",
      "Training Accuracy: 0.9714, Testing Accuracy: 0.9688\n",
      "\n"
     ]
    },
    {
     "name": "stdout",
     "output_type": "stream",
     "text": [
      "Epoch 90, Loss 0.0249\n",
      "Training Accuracy: 0.9723, Testing Accuracy: 0.9688\n",
      "\n"
     ]
    },
    {
     "name": "stdout",
     "output_type": "stream",
     "text": [
      "Epoch 100, Loss 0.0239\n",
      "Training Accuracy: 0.9729, Testing Accuracy: 0.9703\n",
      "\n"
     ]
    },
    {
     "name": "stdout",
     "output_type": "stream",
     "text": [
      "Epoch 110, Loss 0.0231\n",
      "Training Accuracy: 0.9733, Testing Accuracy: 0.9698\n",
      "\n"
     ]
    },
    {
     "name": "stdout",
     "output_type": "stream",
     "text": [
      "Epoch 120, Loss 0.0224\n",
      "Training Accuracy: 0.9745, Testing Accuracy: 0.9698\n",
      "\n"
     ]
    },
    {
     "name": "stdout",
     "output_type": "stream",
     "text": [
      "Epoch 130, Loss 0.0217\n",
      "Training Accuracy: 0.9751, Testing Accuracy: 0.9708\n",
      "\n"
     ]
    },
    {
     "name": "stdout",
     "output_type": "stream",
     "text": [
      "Epoch 140, Loss 0.0211\n",
      "Training Accuracy: 0.9758, Testing Accuracy: 0.9718\n",
      "\n"
     ]
    },
    {
     "name": "stdout",
     "output_type": "stream",
     "text": [
      "Epoch 150, Loss 0.0205\n",
      "Training Accuracy: 0.9765, Testing Accuracy: 0.9718\n",
      "\n"
     ]
    },
    {
     "name": "stdout",
     "output_type": "stream",
     "text": [
      "Epoch 160, Loss 0.02\n",
      "Training Accuracy: 0.9777, Testing Accuracy: 0.9718\n",
      "\n"
     ]
    },
    {
     "name": "stdout",
     "output_type": "stream",
     "text": [
      "Epoch 170, Loss 0.0195\n",
      "Training Accuracy: 0.9785, Testing Accuracy: 0.9723\n",
      "\n"
     ]
    },
    {
     "name": "stdout",
     "output_type": "stream",
     "text": [
      "Epoch 180, Loss 0.019\n",
      "Training Accuracy: 0.9789, Testing Accuracy: 0.9723\n",
      "\n"
     ]
    },
    {
     "name": "stdout",
     "output_type": "stream",
     "text": [
      "Epoch 190, Loss 0.0185\n",
      "Training Accuracy: 0.9794, Testing Accuracy: 0.9728\n",
      "\n"
     ]
    },
    {
     "name": "stdout",
     "output_type": "stream",
     "text": [
      "Epoch 200, Loss 0.0181\n",
      "Training Accuracy: 0.9800, Testing Accuracy: 0.9728\n",
      "\n"
     ]
    },
    {
     "name": "stdout",
     "output_type": "stream",
     "text": [
      "Epoch 210, Loss 0.0176\n",
      "Training Accuracy: 0.9801, Testing Accuracy: 0.9743\n",
      "\n"
     ]
    },
    {
     "name": "stdout",
     "output_type": "stream",
     "text": [
      "Epoch 220, Loss 0.0172\n",
      "Training Accuracy: 0.9806, Testing Accuracy: 0.9748\n",
      "\n"
     ]
    },
    {
     "name": "stdout",
     "output_type": "stream",
     "text": [
      "Epoch 230, Loss 0.0168\n",
      "Training Accuracy: 0.9811, Testing Accuracy: 0.9748\n",
      "\n"
     ]
    },
    {
     "name": "stdout",
     "output_type": "stream",
     "text": [
      "Epoch 240, Loss 0.0164\n",
      "Training Accuracy: 0.9813, Testing Accuracy: 0.9748\n",
      "\n"
     ]
    },
    {
     "data": {
      "text/plain": [
       "0.0026316398804029717"
      ]
     },
     "execution_count": 22,
     "metadata": {},
     "output_type": "execute_result"
    }
   ],
   "source": [
    "nn_learner.train_loop(dl)"
   ]
  },
  {
   "cell_type": "code",
   "execution_count": 23,
   "id": "e0163366",
   "metadata": {
    "execution": {
     "iopub.execute_input": "2022-10-24T10:19:06.775753Z",
     "iopub.status.busy": "2022-10-24T10:19:06.775038Z",
     "iopub.status.idle": "2022-10-24T10:19:22.524024Z",
     "shell.execute_reply": "2022-10-24T10:19:22.524999Z"
    },
    "papermill": {
     "duration": 15.802169,
     "end_time": "2022-10-24T10:19:22.525165",
     "exception": false,
     "start_time": "2022-10-24T10:19:06.722996",
     "status": "completed"
    },
    "tags": []
   },
   "outputs": [
    {
     "name": "stdout",
     "output_type": "stream",
     "text": [
      "Epoch 0, Loss 0.2635\n",
      "Training Accuracy: 0.5879, Testing Accuracy: 0.6230\n",
      "\n"
     ]
    },
    {
     "name": "stdout",
     "output_type": "stream",
     "text": [
      "Epoch 10, Loss 0.1099\n",
      "Training Accuracy: 0.8908, Testing Accuracy: 0.9073\n",
      "\n"
     ]
    },
    {
     "name": "stdout",
     "output_type": "stream",
     "text": [
      "Epoch 20, Loss 0.0827\n",
      "Training Accuracy: 0.9200, Testing Accuracy: 0.9320\n",
      "\n"
     ]
    },
    {
     "name": "stdout",
     "output_type": "stream",
     "text": [
      "Epoch 30, Loss 0.0704\n",
      "Training Accuracy: 0.9307, Testing Accuracy: 0.9466\n",
      "\n"
     ]
    },
    {
     "name": "stdout",
     "output_type": "stream",
     "text": [
      "Epoch 40, Loss 0.0632\n",
      "Training Accuracy: 0.9377, Testing Accuracy: 0.9496\n",
      "\n"
     ]
    },
    {
     "name": "stdout",
     "output_type": "stream",
     "text": [
      "Epoch 50, Loss 0.0583\n",
      "Training Accuracy: 0.9413, Testing Accuracy: 0.9541\n",
      "\n"
     ]
    },
    {
     "name": "stdout",
     "output_type": "stream",
     "text": [
      "Epoch 60, Loss 0.0547\n",
      "Training Accuracy: 0.9442, Testing Accuracy: 0.9556\n",
      "\n"
     ]
    },
    {
     "name": "stdout",
     "output_type": "stream",
     "text": [
      "Epoch 70, Loss 0.052\n",
      "Training Accuracy: 0.9465, Testing Accuracy: 0.9572\n",
      "\n"
     ]
    },
    {
     "name": "stdout",
     "output_type": "stream",
     "text": [
      "Epoch 80, Loss 0.0499\n",
      "Training Accuracy: 0.9489, Testing Accuracy: 0.9577\n",
      "\n"
     ]
    },
    {
     "name": "stdout",
     "output_type": "stream",
     "text": [
      "Epoch 90, Loss 0.0481\n",
      "Training Accuracy: 0.9511, Testing Accuracy: 0.9582\n",
      "\n"
     ]
    },
    {
     "name": "stdout",
     "output_type": "stream",
     "text": [
      "Epoch 100, Loss 0.0466\n",
      "Training Accuracy: 0.9521, Testing Accuracy: 0.9587\n",
      "\n"
     ]
    },
    {
     "name": "stdout",
     "output_type": "stream",
     "text": [
      "Epoch 110, Loss 0.0453\n",
      "Training Accuracy: 0.9536, Testing Accuracy: 0.9597\n",
      "\n"
     ]
    },
    {
     "name": "stdout",
     "output_type": "stream",
     "text": [
      "Epoch 120, Loss 0.0442\n",
      "Training Accuracy: 0.9545, Testing Accuracy: 0.9607\n",
      "\n"
     ]
    },
    {
     "name": "stdout",
     "output_type": "stream",
     "text": [
      "Epoch 130, Loss 0.0433\n",
      "Training Accuracy: 0.9552, Testing Accuracy: 0.9622\n",
      "\n"
     ]
    },
    {
     "name": "stdout",
     "output_type": "stream",
     "text": [
      "Epoch 140, Loss 0.0424\n",
      "Training Accuracy: 0.9559, Testing Accuracy: 0.9627\n",
      "\n"
     ]
    },
    {
     "name": "stdout",
     "output_type": "stream",
     "text": [
      "Epoch 150, Loss 0.0416\n",
      "Training Accuracy: 0.9562, Testing Accuracy: 0.9627\n",
      "\n"
     ]
    },
    {
     "name": "stdout",
     "output_type": "stream",
     "text": [
      "Epoch 160, Loss 0.0409\n",
      "Training Accuracy: 0.9569, Testing Accuracy: 0.9632\n",
      "\n"
     ]
    },
    {
     "name": "stdout",
     "output_type": "stream",
     "text": [
      "Epoch 170, Loss 0.0403\n",
      "Training Accuracy: 0.9574, Testing Accuracy: 0.9632\n",
      "\n"
     ]
    },
    {
     "name": "stdout",
     "output_type": "stream",
     "text": [
      "Epoch 180, Loss 0.0397\n",
      "Training Accuracy: 0.9577, Testing Accuracy: 0.9637\n",
      "\n"
     ]
    },
    {
     "name": "stdout",
     "output_type": "stream",
     "text": [
      "Epoch 190, Loss 0.0392\n",
      "Training Accuracy: 0.9579, Testing Accuracy: 0.9642\n",
      "\n"
     ]
    },
    {
     "name": "stdout",
     "output_type": "stream",
     "text": [
      "Epoch 200, Loss 0.0387\n",
      "Training Accuracy: 0.9588, Testing Accuracy: 0.9642\n",
      "\n"
     ]
    },
    {
     "name": "stdout",
     "output_type": "stream",
     "text": [
      "Epoch 210, Loss 0.0383\n",
      "Training Accuracy: 0.9594, Testing Accuracy: 0.9642\n",
      "\n"
     ]
    },
    {
     "name": "stdout",
     "output_type": "stream",
     "text": [
      "Epoch 220, Loss 0.0378\n",
      "Training Accuracy: 0.9598, Testing Accuracy: 0.9652\n",
      "\n"
     ]
    },
    {
     "name": "stdout",
     "output_type": "stream",
     "text": [
      "Epoch 230, Loss 0.0374\n",
      "Training Accuracy: 0.9601, Testing Accuracy: 0.9652\n",
      "\n"
     ]
    },
    {
     "name": "stdout",
     "output_type": "stream",
     "text": [
      "Epoch 240, Loss 0.0371\n",
      "Training Accuracy: 0.9605, Testing Accuracy: 0.9652\n",
      "\n"
     ]
    },
    {
     "data": {
      "text/plain": [
       "0.026504958373333845"
      ]
     },
     "execution_count": 23,
     "metadata": {},
     "output_type": "execute_result"
    }
   ],
   "source": [
    "lr_learner.train_loop(dl)"
   ]
  },
  {
   "cell_type": "code",
   "execution_count": 24,
   "id": "ca410940",
   "metadata": {
    "execution": {
     "iopub.execute_input": "2022-10-24T10:19:22.627921Z",
     "iopub.status.busy": "2022-10-24T10:19:22.627217Z",
     "iopub.status.idle": "2022-10-24T10:19:22.902217Z",
     "shell.execute_reply": "2022-10-24T10:19:22.902788Z"
    },
    "papermill": {
     "duration": 0.330649,
     "end_time": "2022-10-24T10:19:22.902941",
     "exception": false,
     "start_time": "2022-10-24T10:19:22.572292",
     "status": "completed"
    },
    "tags": []
   },
   "outputs": [
    {
     "data": {
      "text/plain": [
       "<matplotlib.legend.Legend at 0x7ff017de7320>"
      ]
     },
     "execution_count": 24,
     "metadata": {},
     "output_type": "execute_result"
    },
    {
     "data": {
      "image/png": "[encoded data removed]",
      "text/plain": [
       "<Figure size 1080x720 with 1 Axes>"
      ]
     },
     "metadata": {
      "needs_background": "light"
     },
     "output_type": "display_data"
    }
   ],
   "source": [
    "#comparing the results of NN and LR\n",
    "plt.figure(figsize=(15,10))\n",
    "\n",
    "# Neural Network plots\n",
    "plt.plot(acc_nn.accuracies, 'r-', label = \"Training Accuracies - NN\")\n",
    "plt.plot(acc_nn.test_accuracies, 'g-', label = \"Testing Accuracies - NN\")\n",
    "\n",
    "# Logistic Regression plots\n",
    "plt.plot(acc_lr.accuracies, 'k-', label = \"Training Accuracies - LR\")\n",
    "plt.plot(acc_lr.test_accuracies, 'b-', label = \"Testing Accuracies - LR\")\n",
    "plt.legend()"
   ]
  },
  {
   "cell_type": "markdown",
   "id": "80dfb35c",
   "metadata": {
    "papermill": {
     "duration": 0.047902,
     "end_time": "2022-10-24T10:19:22.999282",
     "exception": false,
     "start_time": "2022-10-24T10:19:22.951380",
     "status": "completed"
    },
    "tags": []
   },
   "source": [
    "#### Plotting the outputs of this layer of the NN.\n"
   ]
  },
  {
   "cell_type": "code",
   "execution_count": 25,
   "id": "45eb2ff5",
   "metadata": {
    "execution": {
     "iopub.execute_input": "2022-10-24T10:19:23.104655Z",
     "iopub.status.busy": "2022-10-24T10:19:23.102341Z",
     "iopub.status.idle": "2022-10-24T10:19:23.127752Z",
     "shell.execute_reply": "2022-10-24T10:19:23.128330Z"
    },
    "papermill": {
     "duration": 0.081004,
     "end_time": "2022-10-24T10:19:23.128490",
     "exception": false,
     "start_time": "2022-10-24T10:19:23.047486",
     "status": "completed"
    },
    "tags": []
   },
   "outputs": [],
   "source": [
    "new_model = Model(layers[:-2])\n",
    "testing_plot = new_model(testing_data_x)"
   ]
  },
  {
   "cell_type": "code",
   "execution_count": 26,
   "id": "4c0a5485",
   "metadata": {
    "execution": {
     "iopub.execute_input": "2022-10-24T10:19:23.244005Z",
     "iopub.status.busy": "2022-10-24T10:19:23.241997Z",
     "iopub.status.idle": "2022-10-24T10:19:23.477653Z",
     "shell.execute_reply": "2022-10-24T10:19:23.478329Z"
    },
    "papermill": {
     "duration": 0.299678,
     "end_time": "2022-10-24T10:19:23.478512",
     "exception": false,
     "start_time": "2022-10-24T10:19:23.178834",
     "status": "completed"
    },
    "tags": []
   },
   "outputs": [
    {
     "data": {
      "text/plain": [
       "Text(0.5, 1.0, 'Outputs')"
      ]
     },
     "execution_count": 26,
     "metadata": {},
     "output_type": "execute_result"
    },
    {
     "data": {
      "image/png": "[encoded data removed]",
      "text/plain": [
       "<Figure size 576x504 with 1 Axes>"
      ]
     },
     "metadata": {
      "needs_background": "light"
     },
     "output_type": "display_data"
    }
   ],
   "source": [
    "# Plotting the scatter plot of points and color coding by class\n",
    "plt.figure(figsize=(8,7))\n",
    "plt.scatter(testing_plot[:,0], testing_plot[:,1], alpha = 0.1, c = y_test.ravel());\n",
    "plt.title('Outputs')"
   ]
  },
  {
   "cell_type": "markdown",
   "id": "a74fcf8f",
   "metadata": {
    "papermill": {
     "duration": 0.050508,
     "end_time": "2022-10-24T10:19:23.578897",
     "exception": false,
     "start_time": "2022-10-24T10:19:23.528389",
     "status": "completed"
    },
    "tags": []
   },
   "source": [
    "Probability contours"
   ]
  },
  {
   "cell_type": "code",
   "execution_count": 27,
   "id": "d0afc8e3",
   "metadata": {
    "execution": {
     "iopub.execute_input": "2022-10-24T10:19:23.718865Z",
     "iopub.status.busy": "2022-10-24T10:19:23.718137Z",
     "iopub.status.idle": "2022-10-24T10:19:23.733839Z",
     "shell.execute_reply": "2022-10-24T10:19:23.733267Z"
    },
    "papermill": {
     "duration": 0.072234,
     "end_time": "2022-10-24T10:19:23.733986",
     "exception": false,
     "start_time": "2022-10-24T10:19:23.661752",
     "status": "completed"
    },
    "tags": []
   },
   "outputs": [],
   "source": [
    "model_prob = Model(layers[-2:]) "
   ]
  },
  {
   "cell_type": "code",
   "execution_count": 28,
   "id": "9b96e238",
   "metadata": {
    "execution": {
     "iopub.execute_input": "2022-10-24T10:19:23.846005Z",
     "iopub.status.busy": "2022-10-24T10:19:23.845274Z",
     "iopub.status.idle": "2022-10-24T10:19:23.859746Z",
     "shell.execute_reply": "2022-10-24T10:19:23.860259Z"
    },
    "papermill": {
     "duration": 0.074803,
     "end_time": "2022-10-24T10:19:23.860413",
     "exception": false,
     "start_time": "2022-10-24T10:19:23.785610",
     "status": "completed"
    },
    "tags": []
   },
   "outputs": [],
   "source": [
    "#creating the x and y ranges according to the above generated plot.\n",
    "x_range = np.linspace(-4, 1, 100) \n",
    "y_range = np.linspace(-6, 6, 100) \n",
    "x_grid, y_grid = np.meshgrid(x_range, y_range) # x_grid and y_grig are of size 100 X 100\n",
    "\n",
    "# converting x_grid and y_grid to continuous arrays\n",
    "x_gridflat = np.ravel(x_grid)\n",
    "y_gridflat = np.ravel(y_grid)\n",
    "\n",
    "# The last layer of the current model takes two columns as input. Hence transpose of np.vstack() is required.\n",
    "X = np.vstack((x_gridflat, y_gridflat)).T\n",
    "\n",
    "prob_contour = model_prob(X).reshape(100,100) "
   ]
  },
  {
   "cell_type": "code",
   "execution_count": 29,
   "id": "da72499a",
   "metadata": {
    "execution": {
     "iopub.execute_input": "2022-10-24T10:19:23.979749Z",
     "iopub.status.busy": "2022-10-24T10:19:23.979056Z",
     "iopub.status.idle": "2022-10-24T10:19:24.254908Z",
     "shell.execute_reply": "2022-10-24T10:19:24.255417Z"
    },
    "papermill": {
     "duration": 0.343119,
     "end_time": "2022-10-24T10:19:24.255579",
     "exception": false,
     "start_time": "2022-10-24T10:19:23.912460",
     "status": "completed"
    },
    "tags": []
   },
   "outputs": [
    {
     "data": {
      "image/png": "[encoded data removed]",
      "text/plain": [
       "<Figure size 720x648 with 1 Axes>"
      ]
     },
     "metadata": {
      "needs_background": "light"
     },
     "output_type": "display_data"
    }
   ],
   "source": [
    "plt.figure(figsize=(10,9))\n",
    "plt.scatter(testing_plot[:,0], testing_plot[:,1], alpha = 0.1, c = y_test.ravel())\n",
    "contours = plt.contour(x_grid,y_grid,prob_contour)\n",
    "plt.title('Probability Contours')\n",
    "plt.clabel(contours, inline = True );"
   ]
  },
  {
   "cell_type": "code",
   "execution_count": null,
   "id": "e81b4ac7",
   "metadata": {
    "papermill": {
     "duration": 0.058453,
     "end_time": "2022-10-24T10:19:24.371735",
     "exception": false,
     "start_time": "2022-10-24T10:19:24.313282",
     "status": "completed"
    },
    "tags": []
   },
   "outputs": [],
   "source": []
  }
 ],
 "metadata": {
  "kernelspec": {
   "display_name": "Python 3",
   "language": "python",
   "name": "python3"
  },
  "language_info": {
   "codemirror_mode": {
    "name": "ipython",
    "version": 3
   },
   "file_extension": ".py",
   "mimetype": "text/x-python",
   "name": "python",
   "nbconvert_exporter": "python",
   "pygments_lexer": "ipython3",
   "version": "3.6.15"
  },
  "papermill": {
   "default_parameters": {},
   "duration": 112.942602,
   "end_time": "2022-10-24T10:19:24.848040",
   "environment_variables": {},
   "exception": null,
   "input_path": "2020-08-11-part2.ipynb",
   "output_path": "2020-08-11-part2.ipynb",
   "parameters": {},
   "start_time": "2022-10-24T10:17:31.905438",
   "version": "2.3.3"
  }
 },
 "nbformat": 4,
 "nbformat_minor": 5
}