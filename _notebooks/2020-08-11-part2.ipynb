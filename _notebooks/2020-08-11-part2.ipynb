{
 "cells": [
  {
   "cell_type": "markdown",
   "id": "98380cd3",
   "metadata": {
    "papermill": {
     "duration": 0.038471,
     "end_time": "2021-11-12T20:08:31.435297",
     "exception": false,
     "start_time": "2021-11-12T20:08:31.396826",
     "status": "completed"
    },
    "tags": []
   },
   "source": [
    "# Distinguish Your Own Digits (DYOD)"
   ]
  },
  {
   "cell_type": "markdown",
   "id": "ef31240d",
   "metadata": {
    "papermill": {
     "duration": 0.033749,
     "end_time": "2021-11-12T20:08:31.502211",
     "exception": false,
     "start_time": "2021-11-12T20:08:31.468462",
     "status": "completed"
    },
    "tags": []
   },
   "source": [
    "You are going to write a classifier that distinguishes between the number 3 and number 8."
   ]
  },
  {
   "cell_type": "code",
   "execution_count": 1,
   "id": "b15c8646",
   "metadata": {
    "execution": {
     "iopub.execute_input": "2021-11-12T20:08:31.579562Z",
     "iopub.status.busy": "2021-11-12T20:08:31.578850Z",
     "iopub.status.idle": "2021-11-12T20:08:31.590227Z",
     "shell.execute_reply": "2021-11-12T20:08:31.589636Z"
    },
    "papermill": {
     "duration": 0.055447,
     "end_time": "2021-11-12T20:08:31.590438",
     "exception": false,
     "start_time": "2021-11-12T20:08:31.534991",
     "status": "completed"
    },
    "tags": []
   },
   "outputs": [],
   "source": [
    "%load_ext autoreload\n",
    "%autoreload 2"
   ]
  },
  {
   "cell_type": "code",
   "execution_count": 2,
   "id": "22ef38dc",
   "metadata": {
    "execution": {
     "iopub.execute_input": "2021-11-12T20:08:31.656859Z",
     "iopub.status.busy": "2021-11-12T20:08:31.656062Z",
     "iopub.status.idle": "2021-11-12T20:08:32.243464Z",
     "shell.execute_reply": "2021-11-12T20:08:32.242731Z"
    },
    "papermill": {
     "duration": 0.622959,
     "end_time": "2021-11-12T20:08:32.243693",
     "exception": false,
     "start_time": "2021-11-12T20:08:31.620734",
     "status": "completed"
    },
    "tags": []
   },
   "outputs": [],
   "source": [
    "%matplotlib inline\n",
    "import numpy as np\n",
    "import matplotlib.pyplot as plt\n",
    "import pandas as pd"
   ]
  },
  {
   "cell_type": "markdown",
   "id": "ba036198",
   "metadata": {
    "papermill": {
     "duration": 0.030741,
     "end_time": "2021-11-12T20:08:32.304885",
     "exception": false,
     "start_time": "2021-11-12T20:08:32.274144",
     "status": "completed"
    },
    "tags": []
   },
   "source": [
    "From the command line run `pip install mnist`. This is a library that will help you bring down the mnist dataset. If you run this from a notebook, you need to put  `!pip install mnist` in a cell by itself."
   ]
  },
  {
   "cell_type": "code",
   "execution_count": 3,
   "id": "bb6ad8a1",
   "metadata": {
    "execution": {
     "iopub.execute_input": "2021-11-12T20:08:32.374163Z",
     "iopub.status.busy": "2021-11-12T20:08:32.373482Z",
     "iopub.status.idle": "2021-11-12T20:08:34.357991Z",
     "shell.execute_reply": "2021-11-12T20:08:34.357376Z"
    },
    "papermill": {
     "duration": 2.023511,
     "end_time": "2021-11-12T20:08:34.358122",
     "exception": false,
     "start_time": "2021-11-12T20:08:32.334611",
     "status": "completed"
    },
    "tags": []
   },
   "outputs": [
    {
     "name": "stdout",
     "output_type": "stream",
     "text": [
      "Collecting mnist\r\n"
     ]
    },
    {
     "name": "stdout",
     "output_type": "stream",
     "text": [
      "  Downloading mnist-0.2.2-py2.py3-none-any.whl (3.5 kB)\r\n",
      "Requirement already satisfied: numpy in /opt/hostedtoolcache/Python/3.6.15/x64/lib/python3.6/site-packages (from mnist) (1.19.5)\r\n"
     ]
    },
    {
     "name": "stdout",
     "output_type": "stream",
     "text": [
      "Installing collected packages: mnist\r\n"
     ]
    },
    {
     "name": "stdout",
     "output_type": "stream",
     "text": [
      "Successfully installed mnist-0.2.2\r\n"
     ]
    }
   ],
   "source": [
    "!pip install mnist"
   ]
  },
  {
   "cell_type": "markdown",
   "id": "69df9c9a",
   "metadata": {
    "papermill": {
     "duration": 0.032054,
     "end_time": "2021-11-12T20:08:34.421039",
     "exception": false,
     "start_time": "2021-11-12T20:08:34.388985",
     "status": "completed"
    },
    "tags": []
   },
   "source": [
    "## Preparing the Data"
   ]
  },
  {
   "cell_type": "code",
   "execution_count": 4,
   "id": "7f69d806",
   "metadata": {
    "execution": {
     "iopub.execute_input": "2021-11-12T20:08:34.486924Z",
     "iopub.status.busy": "2021-11-12T20:08:34.486213Z",
     "iopub.status.idle": "2021-11-12T20:08:34.501863Z",
     "shell.execute_reply": "2021-11-12T20:08:34.502379Z"
    },
    "papermill": {
     "duration": 0.050887,
     "end_time": "2021-11-12T20:08:34.502519",
     "exception": false,
     "start_time": "2021-11-12T20:08:34.451632",
     "status": "completed"
    },
    "tags": []
   },
   "outputs": [],
   "source": [
    "import mnist"
   ]
  },
  {
   "cell_type": "code",
   "execution_count": 5,
   "id": "a411e44f",
   "metadata": {
    "execution": {
     "iopub.execute_input": "2021-11-12T20:08:34.571748Z",
     "iopub.status.busy": "2021-11-12T20:08:34.570993Z",
     "iopub.status.idle": "2021-11-12T20:08:35.367808Z",
     "shell.execute_reply": "2021-11-12T20:08:35.367284Z"
    },
    "papermill": {
     "duration": 0.831068,
     "end_time": "2021-11-12T20:08:35.367991",
     "exception": false,
     "start_time": "2021-11-12T20:08:34.536923",
     "status": "completed"
    },
    "tags": []
   },
   "outputs": [],
   "source": [
    "train_images = mnist.train_images()\n",
    "train_labels = mnist.train_labels()"
   ]
  },
  {
   "cell_type": "code",
   "execution_count": 6,
   "id": "dceab3a5",
   "metadata": {
    "execution": {
     "iopub.execute_input": "2021-11-12T20:08:35.441317Z",
     "iopub.status.busy": "2021-11-12T20:08:35.440638Z",
     "iopub.status.idle": "2021-11-12T20:08:35.456649Z",
     "shell.execute_reply": "2021-11-12T20:08:35.455996Z"
    },
    "papermill": {
     "duration": 0.056785,
     "end_time": "2021-11-12T20:08:35.456824",
     "exception": false,
     "start_time": "2021-11-12T20:08:35.400039",
     "status": "completed"
    },
    "tags": []
   },
   "outputs": [
    {
     "data": {
      "text/plain": [
       "((60000, 28, 28), (60000,))"
      ]
     },
     "execution_count": 6,
     "metadata": {},
     "output_type": "execute_result"
    }
   ],
   "source": [
    "train_images.shape, train_labels.shape"
   ]
  },
  {
   "cell_type": "code",
   "execution_count": 7,
   "id": "f50dc2bb",
   "metadata": {
    "execution": {
     "iopub.execute_input": "2021-11-12T20:08:35.529507Z",
     "iopub.status.busy": "2021-11-12T20:08:35.528843Z",
     "iopub.status.idle": "2021-11-12T20:08:35.800149Z",
     "shell.execute_reply": "2021-11-12T20:08:35.799429Z"
    },
    "papermill": {
     "duration": 0.30864,
     "end_time": "2021-11-12T20:08:35.800301",
     "exception": false,
     "start_time": "2021-11-12T20:08:35.491661",
     "status": "completed"
    },
    "tags": []
   },
   "outputs": [],
   "source": [
    "test_images = mnist.test_images()\n",
    "test_labels = mnist.test_labels()"
   ]
  },
  {
   "cell_type": "code",
   "execution_count": 8,
   "id": "fc38cf1b",
   "metadata": {
    "execution": {
     "iopub.execute_input": "2021-11-12T20:08:35.875437Z",
     "iopub.status.busy": "2021-11-12T20:08:35.874715Z",
     "iopub.status.idle": "2021-11-12T20:08:35.889582Z",
     "shell.execute_reply": "2021-11-12T20:08:35.888935Z"
    },
    "papermill": {
     "duration": 0.054571,
     "end_time": "2021-11-12T20:08:35.889734",
     "exception": false,
     "start_time": "2021-11-12T20:08:35.835163",
     "status": "completed"
    },
    "tags": []
   },
   "outputs": [
    {
     "data": {
      "text/plain": [
       "((10000, 28, 28), (10000,))"
      ]
     },
     "execution_count": 8,
     "metadata": {},
     "output_type": "execute_result"
    }
   ],
   "source": [
    "test_images.shape, test_labels.shape"
   ]
  },
  {
   "cell_type": "code",
   "execution_count": 9,
   "id": "f9ed8fe0",
   "metadata": {
    "execution": {
     "iopub.execute_input": "2021-11-12T20:08:35.963880Z",
     "iopub.status.busy": "2021-11-12T20:08:35.963229Z",
     "iopub.status.idle": "2021-11-12T20:08:36.162416Z",
     "shell.execute_reply": "2021-11-12T20:08:36.161739Z"
    },
    "papermill": {
     "duration": 0.239133,
     "end_time": "2021-11-12T20:08:36.162633",
     "exception": false,
     "start_time": "2021-11-12T20:08:35.923500",
     "status": "completed"
    },
    "tags": []
   },
   "outputs": [
    {
     "name": "stdout",
     "output_type": "stream",
     "text": [
      "2\n"
     ]
    },
    {
     "data": {
      "text/plain": [
       "<matplotlib.image.AxesImage at 0x7fe2bc57f0f0>"
      ]
     },
     "execution_count": 9,
     "metadata": {},
     "output_type": "execute_result"
    },
    {
     "data": {
      "image/png": "[encoded data removed]",
      "text/plain": [
       "<Figure size 432x288 with 1 Axes>"
      ]
     },
     "metadata": {
      "needs_background": "light"
     },
     "output_type": "display_data"
    }
   ],
   "source": [
    "image_index = 7776 # You may select anything up to 60,000\n",
    "print(train_labels[image_index]) \n",
    "plt.imshow(train_images[image_index], cmap='Greys')"
   ]
  },
  {
   "cell_type": "markdown",
   "id": "a8d2388d",
   "metadata": {
    "papermill": {
     "duration": 0.034246,
     "end_time": "2021-11-12T20:08:36.232168",
     "exception": false,
     "start_time": "2021-11-12T20:08:36.197922",
     "status": "completed"
    },
    "tags": []
   },
   "source": [
    "## Filter data to get 3 and 8 out"
   ]
  },
  {
   "cell_type": "code",
   "execution_count": 10,
   "id": "776f7fc7",
   "metadata": {
    "execution": {
     "iopub.execute_input": "2021-11-12T20:08:36.306761Z",
     "iopub.status.busy": "2021-11-12T20:08:36.306094Z",
     "iopub.status.idle": "2021-11-12T20:08:36.325092Z",
     "shell.execute_reply": "2021-11-12T20:08:36.324381Z"
    },
    "papermill": {
     "duration": 0.060235,
     "end_time": "2021-11-12T20:08:36.325279",
     "exception": false,
     "start_time": "2021-11-12T20:08:36.265044",
     "status": "completed"
    },
    "tags": []
   },
   "outputs": [],
   "source": [
    "train_filter = np.where((train_labels == 3 ) | (train_labels == 8))\n",
    "test_filter = np.where((test_labels == 3) | (test_labels == 8))\n",
    "X_train, y_train = train_images[train_filter], train_labels[train_filter]\n",
    "X_test, y_test = test_images[test_filter], test_labels[test_filter]"
   ]
  },
  {
   "cell_type": "markdown",
   "id": "948f0b7e",
   "metadata": {
    "papermill": {
     "duration": 0.034653,
     "end_time": "2021-11-12T20:08:36.394733",
     "exception": false,
     "start_time": "2021-11-12T20:08:36.360080",
     "status": "completed"
    },
    "tags": []
   },
   "source": [
    "We normalize the pizel values in the 0 to 1 range"
   ]
  },
  {
   "cell_type": "code",
   "execution_count": 11,
   "id": "ee4c2166",
   "metadata": {
    "execution": {
     "iopub.execute_input": "2021-11-12T20:08:36.470025Z",
     "iopub.status.busy": "2021-11-12T20:08:36.469232Z",
     "iopub.status.idle": "2021-11-12T20:08:36.535031Z",
     "shell.execute_reply": "2021-11-12T20:08:36.534386Z"
    },
    "papermill": {
     "duration": 0.10574,
     "end_time": "2021-11-12T20:08:36.535178",
     "exception": false,
     "start_time": "2021-11-12T20:08:36.429438",
     "status": "completed"
    },
    "tags": []
   },
   "outputs": [],
   "source": [
    "X_train = X_train/255.\n",
    "X_test = X_test/255."
   ]
  },
  {
   "cell_type": "markdown",
   "id": "ddcf4fab",
   "metadata": {
    "papermill": {
     "duration": 0.035543,
     "end_time": "2021-11-12T20:08:36.605873",
     "exception": false,
     "start_time": "2021-11-12T20:08:36.570330",
     "status": "completed"
    },
    "tags": []
   },
   "source": [
    "And setup the labels as 1 (when the digit is 3) and 0 (when the digit is 8)"
   ]
  },
  {
   "cell_type": "code",
   "execution_count": 12,
   "id": "7dc908f2",
   "metadata": {
    "execution": {
     "iopub.execute_input": "2021-11-12T20:08:36.690771Z",
     "iopub.status.busy": "2021-11-12T20:08:36.690127Z",
     "iopub.status.idle": "2021-11-12T20:08:36.702150Z",
     "shell.execute_reply": "2021-11-12T20:08:36.701284Z"
    },
    "papermill": {
     "duration": 0.058018,
     "end_time": "2021-11-12T20:08:36.702301",
     "exception": false,
     "start_time": "2021-11-12T20:08:36.644283",
     "status": "completed"
    },
    "tags": []
   },
   "outputs": [],
   "source": [
    "y_train = 1*(y_train==3)\n",
    "y_test = 1*(y_test==3)"
   ]
  },
  {
   "cell_type": "code",
   "execution_count": 13,
   "id": "01e4e969",
   "metadata": {
    "execution": {
     "iopub.execute_input": "2021-11-12T20:08:36.781637Z",
     "iopub.status.busy": "2021-11-12T20:08:36.779333Z",
     "iopub.status.idle": "2021-11-12T20:08:36.792988Z",
     "shell.execute_reply": "2021-11-12T20:08:36.792321Z"
    },
    "papermill": {
     "duration": 0.055873,
     "end_time": "2021-11-12T20:08:36.793162",
     "exception": false,
     "start_time": "2021-11-12T20:08:36.737289",
     "status": "completed"
    },
    "tags": []
   },
   "outputs": [
    {
     "data": {
      "text/plain": [
       "((11982, 28, 28), (1984, 28, 28))"
      ]
     },
     "execution_count": 13,
     "metadata": {},
     "output_type": "execute_result"
    }
   ],
   "source": [
    "X_train.shape, X_test.shape"
   ]
  },
  {
   "cell_type": "markdown",
   "id": "5ccf3f85",
   "metadata": {
    "papermill": {
     "duration": 0.038705,
     "end_time": "2021-11-12T20:08:36.868022",
     "exception": false,
     "start_time": "2021-11-12T20:08:36.829317",
     "status": "completed"
    },
    "tags": []
   },
   "source": [
    "We reshape the data to flatten the image pixels into a set of features or co-variates:"
   ]
  },
  {
   "cell_type": "code",
   "execution_count": 14,
   "id": "5286a4a3",
   "metadata": {
    "execution": {
     "iopub.execute_input": "2021-11-12T20:08:36.949657Z",
     "iopub.status.busy": "2021-11-12T20:08:36.947629Z",
     "iopub.status.idle": "2021-11-12T20:08:36.963318Z",
     "shell.execute_reply": "2021-11-12T20:08:36.963892Z"
    },
    "papermill": {
     "duration": 0.057985,
     "end_time": "2021-11-12T20:08:36.964043",
     "exception": false,
     "start_time": "2021-11-12T20:08:36.906058",
     "status": "completed"
    },
    "tags": []
   },
   "outputs": [
    {
     "data": {
      "text/plain": [
       "((11982, 784), (1984, 784))"
      ]
     },
     "execution_count": 14,
     "metadata": {},
     "output_type": "execute_result"
    }
   ],
   "source": [
    "X_train = X_train.reshape(X_train.shape[0], -1)\n",
    "X_test = X_test.reshape(X_test.shape[0], -1)\n",
    "X_train.shape, X_test.shape"
   ]
  },
  {
   "cell_type": "code",
   "execution_count": 15,
   "id": "73c5f88a",
   "metadata": {
    "execution": {
     "iopub.execute_input": "2021-11-12T20:08:37.042041Z",
     "iopub.status.busy": "2021-11-12T20:08:37.040130Z",
     "iopub.status.idle": "2021-11-12T20:08:37.064227Z",
     "shell.execute_reply": "2021-11-12T20:08:37.063435Z"
    },
    "papermill": {
     "duration": 0.064171,
     "end_time": "2021-11-12T20:08:37.064374",
     "exception": false,
     "start_time": "2021-11-12T20:08:37.000203",
     "status": "completed"
    },
    "tags": []
   },
   "outputs": [],
   "source": [
    "#Impoting functions from 'Kudzu'\n",
    "from kudzu.model import Model\n",
    "from kudzu.train import Learner\n",
    "from kudzu.optim import GD\n",
    "from kudzu.data import Data, Sampler,Dataloader\n",
    "\n",
    "from kudzu.callbacks import AccCallback\n",
    "from kudzu.callbacks import ClfCallback\n",
    "\n",
    "from kudzu.loss import MSE\n",
    "\n",
    "from kudzu.layer import Sigmoid,Relu\n",
    "from kudzu.layer import Affine"
   ]
  },
  {
   "cell_type": "markdown",
   "id": "bc01172a",
   "metadata": {
    "papermill": {
     "duration": 0.037047,
     "end_time": "2021-11-12T20:08:37.136987",
     "exception": false,
     "start_time": "2021-11-12T20:08:37.099940",
     "status": "completed"
    },
    "tags": []
   },
   "source": [
    "### Let us create a `Config` class, to store important parameters. \n",
    "This class essentially plays the role of a dictionary."
   ]
  },
  {
   "cell_type": "code",
   "execution_count": 16,
   "id": "978281aa",
   "metadata": {
    "execution": {
     "iopub.execute_input": "2021-11-12T20:08:37.212774Z",
     "iopub.status.busy": "2021-11-12T20:08:37.212011Z",
     "iopub.status.idle": "2021-11-12T20:08:37.225523Z",
     "shell.execute_reply": "2021-11-12T20:08:37.226093Z"
    },
    "papermill": {
     "duration": 0.052724,
     "end_time": "2021-11-12T20:08:37.226233",
     "exception": false,
     "start_time": "2021-11-12T20:08:37.173509",
     "status": "completed"
    },
    "tags": []
   },
   "outputs": [],
   "source": [
    "class Config:\n",
    "    pass\n",
    "config = Config()\n",
    "config.lr = 0.001\n",
    "config.num_epochs = 250\n",
    "config.bs = 50"
   ]
  },
  {
   "cell_type": "markdown",
   "id": "1385fa59",
   "metadata": {
    "papermill": {
     "duration": 0.040607,
     "end_time": "2021-11-12T20:08:37.301609",
     "exception": false,
     "start_time": "2021-11-12T20:08:37.261002",
     "status": "completed"
    },
    "tags": []
   },
   "source": [
    "### Running Models with the Training data\n",
    "Details about the network layers:\n",
    "- A first affine layer has 784 inputs and does 100 affine transforms. These are followed by a Relu\n",
    "- A second affine layer has 100 inputs from the 100 activations of the past layer, and does 100 affine transforms. These are followed by a Relu\n",
    "- A third affine layer has 100 activations and does 2 affine transformations to create an embedding for visualization. There is no non-linearity here.\n",
    "- A final \"logistic regression\" which has an affine transform from 2 inputs to 1 output, which is squeezed through a sigmoid.\n"
   ]
  },
  {
   "cell_type": "code",
   "execution_count": 17,
   "id": "2b9c66db",
   "metadata": {
    "execution": {
     "iopub.execute_input": "2021-11-12T20:08:37.376178Z",
     "iopub.status.busy": "2021-11-12T20:08:37.375230Z",
     "iopub.status.idle": "2021-11-12T20:08:37.389575Z",
     "shell.execute_reply": "2021-11-12T20:08:37.390080Z"
    },
    "papermill": {
     "duration": 0.05436,
     "end_time": "2021-11-12T20:08:37.390234",
     "exception": false,
     "start_time": "2021-11-12T20:08:37.335874",
     "status": "completed"
    },
    "tags": []
   },
   "outputs": [],
   "source": [
    "data = Data(X_train, y_train.reshape(-1,1))\n",
    "sampler = Sampler(data, config.bs, shuffle=True)\n",
    "\n",
    "dl = Dataloader(data, sampler)\n",
    "\n",
    "opt = GD(config.lr)\n",
    "loss = MSE()"
   ]
  },
  {
   "cell_type": "code",
   "execution_count": 18,
   "id": "b275e4c2",
   "metadata": {
    "execution": {
     "iopub.execute_input": "2021-11-12T20:08:37.467883Z",
     "iopub.status.busy": "2021-11-12T20:08:37.467209Z",
     "iopub.status.idle": "2021-11-12T20:08:37.480349Z",
     "shell.execute_reply": "2021-11-12T20:08:37.481038Z"
    },
    "papermill": {
     "duration": 0.054932,
     "end_time": "2021-11-12T20:08:37.481196",
     "exception": false,
     "start_time": "2021-11-12T20:08:37.426264",
     "status": "completed"
    },
    "tags": []
   },
   "outputs": [],
   "source": [
    "training_data_x = X_train\n",
    "testing_data_x = X_test\n",
    "training_data_y = y_train.reshape(-1,1)\n",
    "testing_data_y = y_test.reshape(-1,1)"
   ]
  },
  {
   "cell_type": "code",
   "execution_count": 19,
   "id": "76951160",
   "metadata": {
    "execution": {
     "iopub.execute_input": "2021-11-12T20:08:37.559706Z",
     "iopub.status.busy": "2021-11-12T20:08:37.558990Z",
     "iopub.status.idle": "2021-11-12T20:08:37.579515Z",
     "shell.execute_reply": "2021-11-12T20:08:37.578925Z"
    },
    "papermill": {
     "duration": 0.062453,
     "end_time": "2021-11-12T20:08:37.579735",
     "exception": false,
     "start_time": "2021-11-12T20:08:37.517282",
     "status": "completed"
    },
    "tags": []
   },
   "outputs": [
    {
     "name": "stdout",
     "output_type": "stream",
     "text": [
      "xavier\n",
      "xavier\n",
      "xavier\n",
      "xavier\n",
      "xavier\n"
     ]
    }
   ],
   "source": [
    "layers = [Affine(\"first\", 784, 100), Relu(\"first\"), Affine(\"second\", 100, 100), Relu(\"second\"), Affine(\"third\", 100, 2), Affine(\"last\", 2, 1), Sigmoid(\"last\")]\n",
    "model_nn = Model(layers)\n",
    "model_lr = Model([Affine(\"logits\", 784, 1), Sigmoid(\"sigmoid\")])"
   ]
  },
  {
   "cell_type": "code",
   "execution_count": 20,
   "id": "6eede77a",
   "metadata": {
    "execution": {
     "iopub.execute_input": "2021-11-12T20:08:37.664709Z",
     "iopub.status.busy": "2021-11-12T20:08:37.663937Z",
     "iopub.status.idle": "2021-11-12T20:08:37.677175Z",
     "shell.execute_reply": "2021-11-12T20:08:37.678001Z"
    },
    "papermill": {
     "duration": 0.058461,
     "end_time": "2021-11-12T20:08:37.678178",
     "exception": false,
     "start_time": "2021-11-12T20:08:37.619717",
     "status": "completed"
    },
    "tags": []
   },
   "outputs": [],
   "source": [
    "nn_learner = Learner(loss, model_nn, opt, config.num_epochs)\n",
    "acc_nn = ClfCallback(nn_learner, config.bs, training_data_x , testing_data_x, training_data_y, testing_data_y)\n",
    "nn_learner.set_callbacks([acc_nn])"
   ]
  },
  {
   "cell_type": "code",
   "execution_count": 21,
   "id": "877b6cc7",
   "metadata": {
    "execution": {
     "iopub.execute_input": "2021-11-12T20:08:37.757145Z",
     "iopub.status.busy": "2021-11-12T20:08:37.756475Z",
     "iopub.status.idle": "2021-11-12T20:08:37.769110Z",
     "shell.execute_reply": "2021-11-12T20:08:37.768509Z"
    },
    "papermill": {
     "duration": 0.055287,
     "end_time": "2021-11-12T20:08:37.769244",
     "exception": false,
     "start_time": "2021-11-12T20:08:37.713957",
     "status": "completed"
    },
    "tags": []
   },
   "outputs": [],
   "source": [
    "lr_learner = Learner(loss, model_lr, opt, config.num_epochs)\n",
    "acc_lr = ClfCallback(lr_learner, config.bs, training_data_x , testing_data_x, training_data_y, testing_data_y)\n",
    "lr_learner.set_callbacks([acc_lr])"
   ]
  },
  {
   "cell_type": "code",
   "execution_count": 22,
   "id": "d9b133c3",
   "metadata": {
    "execution": {
     "iopub.execute_input": "2021-11-12T20:08:37.848080Z",
     "iopub.status.busy": "2021-11-12T20:08:37.847445Z",
     "iopub.status.idle": "2021-11-12T20:11:03.143694Z",
     "shell.execute_reply": "2021-11-12T20:11:03.144835Z"
    },
    "papermill": {
     "duration": 145.339137,
     "end_time": "2021-11-12T20:11:03.145007",
     "exception": false,
     "start_time": "2021-11-12T20:08:37.805870",
     "status": "completed"
    },
    "tags": []
   },
   "outputs": [
    {
     "name": "stdout",
     "output_type": "stream",
     "text": [
      "Epoch 0, Loss 0.2524\n",
      "Training Accuracy: 0.6014, Testing Accuracy: 0.5902\n",
      "\n"
     ]
    },
    {
     "name": "stdout",
     "output_type": "stream",
     "text": [
      "Epoch 10, Loss 0.1061\n",
      "Training Accuracy: 0.9063, Testing Accuracy: 0.9118\n",
      "\n"
     ]
    },
    {
     "name": "stdout",
     "output_type": "stream",
     "text": [
      "Epoch 20, Loss 0.0609\n",
      "Training Accuracy: 0.9378, Testing Accuracy: 0.9441\n",
      "\n"
     ]
    },
    {
     "name": "stdout",
     "output_type": "stream",
     "text": [
      "Epoch 30, Loss 0.0461\n",
      "Training Accuracy: 0.9508, Testing Accuracy: 0.9556\n",
      "\n"
     ]
    },
    {
     "name": "stdout",
     "output_type": "stream",
     "text": [
      "Epoch 40, Loss 0.0392\n",
      "Training Accuracy: 0.9567, Testing Accuracy: 0.9617\n",
      "\n"
     ]
    },
    {
     "name": "stdout",
     "output_type": "stream",
     "text": [
      "Epoch 50, Loss 0.0352\n",
      "Training Accuracy: 0.9605, Testing Accuracy: 0.9632\n",
      "\n"
     ]
    },
    {
     "name": "stdout",
     "output_type": "stream",
     "text": [
      "Epoch 60, Loss 0.0326\n",
      "Training Accuracy: 0.9627, Testing Accuracy: 0.9667\n",
      "\n"
     ]
    },
    {
     "name": "stdout",
     "output_type": "stream",
     "text": [
      "Epoch 70, Loss 0.0306\n",
      "Training Accuracy: 0.9647, Testing Accuracy: 0.9662\n",
      "\n"
     ]
    },
    {
     "name": "stdout",
     "output_type": "stream",
     "text": [
      "Epoch 80, Loss 0.0291\n",
      "Training Accuracy: 0.9661, Testing Accuracy: 0.9677\n",
      "\n"
     ]
    },
    {
     "name": "stdout",
     "output_type": "stream",
     "text": [
      "Epoch 90, Loss 0.0279\n",
      "Training Accuracy: 0.9680, Testing Accuracy: 0.9677\n",
      "\n"
     ]
    },
    {
     "name": "stdout",
     "output_type": "stream",
     "text": [
      "Epoch 100, Loss 0.0268\n",
      "Training Accuracy: 0.9685, Testing Accuracy: 0.9708\n",
      "\n"
     ]
    },
    {
     "name": "stdout",
     "output_type": "stream",
     "text": [
      "Epoch 110, Loss 0.0259\n",
      "Training Accuracy: 0.9695, Testing Accuracy: 0.9703\n",
      "\n"
     ]
    },
    {
     "name": "stdout",
     "output_type": "stream",
     "text": [
      "Epoch 120, Loss 0.0252\n",
      "Training Accuracy: 0.9706, Testing Accuracy: 0.9723\n",
      "\n"
     ]
    },
    {
     "name": "stdout",
     "output_type": "stream",
     "text": [
      "Epoch 130, Loss 0.0245\n",
      "Training Accuracy: 0.9722, Testing Accuracy: 0.9728\n",
      "\n"
     ]
    },
    {
     "name": "stdout",
     "output_type": "stream",
     "text": [
      "Epoch 140, Loss 0.0238\n",
      "Training Accuracy: 0.9722, Testing Accuracy: 0.9728\n",
      "\n"
     ]
    },
    {
     "name": "stdout",
     "output_type": "stream",
     "text": [
      "Epoch 150, Loss 0.0232\n",
      "Training Accuracy: 0.9734, Testing Accuracy: 0.9723\n",
      "\n"
     ]
    },
    {
     "name": "stdout",
     "output_type": "stream",
     "text": [
      "Epoch 160, Loss 0.0227\n",
      "Training Accuracy: 0.9740, Testing Accuracy: 0.9723\n",
      "\n"
     ]
    },
    {
     "name": "stdout",
     "output_type": "stream",
     "text": [
      "Epoch 170, Loss 0.0222\n",
      "Training Accuracy: 0.9744, Testing Accuracy: 0.9728\n",
      "\n"
     ]
    },
    {
     "name": "stdout",
     "output_type": "stream",
     "text": [
      "Epoch 180, Loss 0.0217\n",
      "Training Accuracy: 0.9750, Testing Accuracy: 0.9733\n",
      "\n"
     ]
    },
    {
     "name": "stdout",
     "output_type": "stream",
     "text": [
      "Epoch 190, Loss 0.0213\n",
      "Training Accuracy: 0.9753, Testing Accuracy: 0.9733\n",
      "\n"
     ]
    },
    {
     "name": "stdout",
     "output_type": "stream",
     "text": [
      "Epoch 200, Loss 0.0208\n",
      "Training Accuracy: 0.9761, Testing Accuracy: 0.9743\n",
      "\n"
     ]
    },
    {
     "name": "stdout",
     "output_type": "stream",
     "text": [
      "Epoch 210, Loss 0.0204\n",
      "Training Accuracy: 0.9764, Testing Accuracy: 0.9728\n",
      "\n"
     ]
    },
    {
     "name": "stdout",
     "output_type": "stream",
     "text": [
      "Epoch 220, Loss 0.02\n",
      "Training Accuracy: 0.9770, Testing Accuracy: 0.9738\n",
      "\n"
     ]
    },
    {
     "name": "stdout",
     "output_type": "stream",
     "text": [
      "Epoch 230, Loss 0.0197\n",
      "Training Accuracy: 0.9776, Testing Accuracy: 0.9738\n",
      "\n"
     ]
    },
    {
     "name": "stdout",
     "output_type": "stream",
     "text": [
      "Epoch 240, Loss 0.0193\n",
      "Training Accuracy: 0.9784, Testing Accuracy: 0.9738\n",
      "\n"
     ]
    },
    {
     "data": {
      "text/plain": [
       "0.006392477285345871"
      ]
     },
     "execution_count": 22,
     "metadata": {},
     "output_type": "execute_result"
    }
   ],
   "source": [
    "nn_learner.train_loop(dl)"
   ]
  },
  {
   "cell_type": "code",
   "execution_count": 23,
   "id": "e0163366",
   "metadata": {
    "execution": {
     "iopub.execute_input": "2021-11-12T20:11:03.240376Z",
     "iopub.status.busy": "2021-11-12T20:11:03.239826Z",
     "iopub.status.idle": "2021-11-12T20:11:24.144800Z",
     "shell.execute_reply": "2021-11-12T20:11:24.145792Z"
    },
    "papermill": {
     "duration": 20.959368,
     "end_time": "2021-11-12T20:11:24.145960",
     "exception": false,
     "start_time": "2021-11-12T20:11:03.186592",
     "status": "completed"
    },
    "tags": []
   },
   "outputs": [
    {
     "name": "stdout",
     "output_type": "stream",
     "text": [
      "Epoch 0, Loss 0.2385\n",
      "Training Accuracy: 0.6763, Testing Accuracy: 0.6683\n",
      "\n"
     ]
    },
    {
     "name": "stdout",
     "output_type": "stream",
     "text": [
      "Epoch 10, Loss 0.1075\n",
      "Training Accuracy: 0.8968, Testing Accuracy: 0.9098\n",
      "\n"
     ]
    },
    {
     "name": "stdout",
     "output_type": "stream",
     "text": [
      "Epoch 20, Loss 0.0813\n",
      "Training Accuracy: 0.9239, Testing Accuracy: 0.9380\n",
      "\n"
     ]
    },
    {
     "name": "stdout",
     "output_type": "stream",
     "text": [
      "Epoch 30, Loss 0.0694\n",
      "Training Accuracy: 0.9352, Testing Accuracy: 0.9461\n",
      "\n"
     ]
    },
    {
     "name": "stdout",
     "output_type": "stream",
     "text": [
      "Epoch 40, Loss 0.0623\n",
      "Training Accuracy: 0.9408, Testing Accuracy: 0.9526\n",
      "\n"
     ]
    },
    {
     "name": "stdout",
     "output_type": "stream",
     "text": [
      "Epoch 50, Loss 0.0576\n",
      "Training Accuracy: 0.9452, Testing Accuracy: 0.9551\n",
      "\n"
     ]
    },
    {
     "name": "stdout",
     "output_type": "stream",
     "text": [
      "Epoch 60, Loss 0.0542\n",
      "Training Accuracy: 0.9478, Testing Accuracy: 0.9561\n",
      "\n"
     ]
    },
    {
     "name": "stdout",
     "output_type": "stream",
     "text": [
      "Epoch 70, Loss 0.0516\n",
      "Training Accuracy: 0.9502, Testing Accuracy: 0.9577\n",
      "\n"
     ]
    },
    {
     "name": "stdout",
     "output_type": "stream",
     "text": [
      "Epoch 80, Loss 0.0495\n",
      "Training Accuracy: 0.9523, Testing Accuracy: 0.9597\n",
      "\n"
     ]
    },
    {
     "name": "stdout",
     "output_type": "stream",
     "text": [
      "Epoch 90, Loss 0.0478\n",
      "Training Accuracy: 0.9532, Testing Accuracy: 0.9617\n",
      "\n"
     ]
    },
    {
     "name": "stdout",
     "output_type": "stream",
     "text": [
      "Epoch 100, Loss 0.0463\n",
      "Training Accuracy: 0.9539, Testing Accuracy: 0.9637\n",
      "\n"
     ]
    },
    {
     "name": "stdout",
     "output_type": "stream",
     "text": [
      "Epoch 110, Loss 0.0451\n",
      "Training Accuracy: 0.9546, Testing Accuracy: 0.9652\n",
      "\n"
     ]
    },
    {
     "name": "stdout",
     "output_type": "stream",
     "text": [
      "Epoch 120, Loss 0.044\n",
      "Training Accuracy: 0.9553, Testing Accuracy: 0.9647\n",
      "\n"
     ]
    },
    {
     "name": "stdout",
     "output_type": "stream",
     "text": [
      "Epoch 130, Loss 0.0431\n",
      "Training Accuracy: 0.9559, Testing Accuracy: 0.9652\n",
      "\n"
     ]
    },
    {
     "name": "stdout",
     "output_type": "stream",
     "text": [
      "Epoch 140, Loss 0.0422\n",
      "Training Accuracy: 0.9567, Testing Accuracy: 0.9662\n",
      "\n"
     ]
    },
    {
     "name": "stdout",
     "output_type": "stream",
     "text": [
      "Epoch 150, Loss 0.0415\n",
      "Training Accuracy: 0.9573, Testing Accuracy: 0.9667\n",
      "\n"
     ]
    },
    {
     "name": "stdout",
     "output_type": "stream",
     "text": [
      "Epoch 160, Loss 0.0408\n",
      "Training Accuracy: 0.9578, Testing Accuracy: 0.9672\n",
      "\n"
     ]
    },
    {
     "name": "stdout",
     "output_type": "stream",
     "text": [
      "Epoch 170, Loss 0.0402\n",
      "Training Accuracy: 0.9585, Testing Accuracy: 0.9667\n",
      "\n"
     ]
    },
    {
     "name": "stdout",
     "output_type": "stream",
     "text": [
      "Epoch 180, Loss 0.0396\n",
      "Training Accuracy: 0.9587, Testing Accuracy: 0.9677\n",
      "\n"
     ]
    },
    {
     "name": "stdout",
     "output_type": "stream",
     "text": [
      "Epoch 190, Loss 0.0391\n",
      "Training Accuracy: 0.9592, Testing Accuracy: 0.9672\n",
      "\n"
     ]
    },
    {
     "name": "stdout",
     "output_type": "stream",
     "text": [
      "Epoch 200, Loss 0.0386\n",
      "Training Accuracy: 0.9595, Testing Accuracy: 0.9677\n",
      "\n"
     ]
    },
    {
     "name": "stdout",
     "output_type": "stream",
     "text": [
      "Epoch 210, Loss 0.0382\n",
      "Training Accuracy: 0.9598, Testing Accuracy: 0.9672\n",
      "\n"
     ]
    },
    {
     "name": "stdout",
     "output_type": "stream",
     "text": [
      "Epoch 220, Loss 0.0378\n",
      "Training Accuracy: 0.9603, Testing Accuracy: 0.9682\n",
      "\n"
     ]
    },
    {
     "name": "stdout",
     "output_type": "stream",
     "text": [
      "Epoch 230, Loss 0.0374\n",
      "Training Accuracy: 0.9605, Testing Accuracy: 0.9682\n",
      "\n"
     ]
    },
    {
     "name": "stdout",
     "output_type": "stream",
     "text": [
      "Epoch 240, Loss 0.037\n",
      "Training Accuracy: 0.9607, Testing Accuracy: 0.9677\n",
      "\n"
     ]
    },
    {
     "data": {
      "text/plain": [
       "0.029146040974932428"
      ]
     },
     "execution_count": 23,
     "metadata": {},
     "output_type": "execute_result"
    }
   ],
   "source": [
    "lr_learner.train_loop(dl)"
   ]
  },
  {
   "cell_type": "code",
   "execution_count": 24,
   "id": "ca410940",
   "metadata": {
    "execution": {
     "iopub.execute_input": "2021-11-12T20:11:24.256922Z",
     "iopub.status.busy": "2021-11-12T20:11:24.256301Z",
     "iopub.status.idle": "2021-11-12T20:11:24.571470Z",
     "shell.execute_reply": "2021-11-12T20:11:24.572008Z"
    },
    "papermill": {
     "duration": 0.374538,
     "end_time": "2021-11-12T20:11:24.572247",
     "exception": false,
     "start_time": "2021-11-12T20:11:24.197709",
     "status": "completed"
    },
    "tags": []
   },
   "outputs": [
    {
     "data": {
      "text/plain": [
       "<matplotlib.legend.Legend at 0x7fe2aed587f0>"
      ]
     },
     "execution_count": 24,
     "metadata": {},
     "output_type": "execute_result"
    },
    {
     "data": {
      "image/png": "[encoded data removed]",
      "text/plain": [
       "<Figure size 1080x720 with 1 Axes>"
      ]
     },
     "metadata": {
      "needs_background": "light"
     },
     "output_type": "display_data"
    }
   ],
   "source": [
    "#comparing the results of NN and LR\n",
    "plt.figure(figsize=(15,10))\n",
    "\n",
    "# Neural Network plots\n",
    "plt.plot(acc_nn.accuracies, 'r-', label = \"Training Accuracies - NN\")\n",
    "plt.plot(acc_nn.test_accuracies, 'g-', label = \"Testing Accuracies - NN\")\n",
    "\n",
    "# Logistic Regression plots\n",
    "plt.plot(acc_lr.accuracies, 'k-', label = \"Training Accuracies - LR\")\n",
    "plt.plot(acc_lr.test_accuracies, 'b-', label = \"Testing Accuracies - LR\")\n",
    "plt.legend()"
   ]
  },
  {
   "cell_type": "markdown",
   "id": "80dfb35c",
   "metadata": {
    "papermill": {
     "duration": 0.053619,
     "end_time": "2021-11-12T20:11:24.677658",
     "exception": false,
     "start_time": "2021-11-12T20:11:24.624039",
     "status": "completed"
    },
    "tags": []
   },
   "source": [
    "#### Plotting the outputs of this layer of the NN.\n"
   ]
  },
  {
   "cell_type": "code",
   "execution_count": 25,
   "id": "45eb2ff5",
   "metadata": {
    "execution": {
     "iopub.execute_input": "2021-11-12T20:11:24.787539Z",
     "iopub.status.busy": "2021-11-12T20:11:24.786384Z",
     "iopub.status.idle": "2021-11-12T20:11:24.815449Z",
     "shell.execute_reply": "2021-11-12T20:11:24.815919Z"
    },
    "papermill": {
     "duration": 0.085551,
     "end_time": "2021-11-12T20:11:24.816063",
     "exception": false,
     "start_time": "2021-11-12T20:11:24.730512",
     "status": "completed"
    },
    "tags": []
   },
   "outputs": [],
   "source": [
    "new_model = Model(layers[:-2])\n",
    "testing_plot = new_model(testing_data_x)"
   ]
  },
  {
   "cell_type": "code",
   "execution_count": 26,
   "id": "4c0a5485",
   "metadata": {
    "execution": {
     "iopub.execute_input": "2021-11-12T20:11:24.934421Z",
     "iopub.status.busy": "2021-11-12T20:11:24.933790Z",
     "iopub.status.idle": "2021-11-12T20:11:25.183296Z",
     "shell.execute_reply": "2021-11-12T20:11:25.182769Z"
    },
    "papermill": {
     "duration": 0.311807,
     "end_time": "2021-11-12T20:11:25.183432",
     "exception": false,
     "start_time": "2021-11-12T20:11:24.871625",
     "status": "completed"
    },
    "tags": []
   },
   "outputs": [
    {
     "data": {
      "text/plain": [
       "Text(0.5, 1.0, 'Outputs')"
      ]
     },
     "execution_count": 26,
     "metadata": {},
     "output_type": "execute_result"
    },
    {
     "data": {
      "image/png": "[encoded data removed]",
      "text/plain": [
       "<Figure size 576x504 with 1 Axes>"
      ]
     },
     "metadata": {
      "needs_background": "light"
     },
     "output_type": "display_data"
    }
   ],
   "source": [
    "# Plotting the scatter plot of points and color coding by class\n",
    "plt.figure(figsize=(8,7))\n",
    "plt.scatter(testing_plot[:,0], testing_plot[:,1], alpha = 0.1, c = y_test.ravel());\n",
    "plt.title('Outputs')"
   ]
  },
  {
   "cell_type": "markdown",
   "id": "a74fcf8f",
   "metadata": {
    "papermill": {
     "duration": 0.051867,
     "end_time": "2021-11-12T20:11:25.289829",
     "exception": false,
     "start_time": "2021-11-12T20:11:25.237962",
     "status": "completed"
    },
    "tags": []
   },
   "source": [
    "Probability contours"
   ]
  },
  {
   "cell_type": "code",
   "execution_count": 27,
   "id": "d0afc8e3",
   "metadata": {
    "execution": {
     "iopub.execute_input": "2021-11-12T20:11:25.420724Z",
     "iopub.status.busy": "2021-11-12T20:11:25.419897Z",
     "iopub.status.idle": "2021-11-12T20:11:25.432848Z",
     "shell.execute_reply": "2021-11-12T20:11:25.433498Z"
    },
    "papermill": {
     "duration": 0.07236,
     "end_time": "2021-11-12T20:11:25.433676",
     "exception": false,
     "start_time": "2021-11-12T20:11:25.361316",
     "status": "completed"
    },
    "tags": []
   },
   "outputs": [],
   "source": [
    "model_prob = Model(layers[-2:]) "
   ]
  },
  {
   "cell_type": "code",
   "execution_count": 28,
   "id": "9b96e238",
   "metadata": {
    "execution": {
     "iopub.execute_input": "2021-11-12T20:11:25.541452Z",
     "iopub.status.busy": "2021-11-12T20:11:25.540829Z",
     "iopub.status.idle": "2021-11-12T20:11:25.555428Z",
     "shell.execute_reply": "2021-11-12T20:11:25.555919Z"
    },
    "papermill": {
     "duration": 0.074241,
     "end_time": "2021-11-12T20:11:25.556064",
     "exception": false,
     "start_time": "2021-11-12T20:11:25.481823",
     "status": "completed"
    },
    "tags": []
   },
   "outputs": [],
   "source": [
    "#creating the x and y ranges according to the above generated plot.\n",
    "x_range = np.linspace(-4, 1, 100) \n",
    "y_range = np.linspace(-6, 6, 100) \n",
    "x_grid, y_grid = np.meshgrid(x_range, y_range) # x_grid and y_grig are of size 100 X 100\n",
    "\n",
    "# converting x_grid and y_grid to continuous arrays\n",
    "x_gridflat = np.ravel(x_grid)\n",
    "y_gridflat = np.ravel(y_grid)\n",
    "\n",
    "# The last layer of the current model takes two columns as input. Hence transpose of np.vstack() is required.\n",
    "X = np.vstack((x_gridflat, y_gridflat)).T\n",
    "\n",
    "prob_contour = model_prob(X).reshape(100,100) "
   ]
  },
  {
   "cell_type": "code",
   "execution_count": 29,
   "id": "da72499a",
   "metadata": {
    "execution": {
     "iopub.execute_input": "2021-11-12T20:11:25.673665Z",
     "iopub.status.busy": "2021-11-12T20:11:25.672825Z",
     "iopub.status.idle": "2021-11-12T20:11:26.010472Z",
     "shell.execute_reply": "2021-11-12T20:11:26.011545Z"
    },
    "papermill": {
     "duration": 0.400723,
     "end_time": "2021-11-12T20:11:26.011716",
     "exception": false,
     "start_time": "2021-11-12T20:11:25.610993",
     "status": "completed"
    },
    "tags": []
   },
   "outputs": [
    {
     "data": {
      "image/png": "[encoded data removed]",
      "text/plain": [
       "<Figure size 720x648 with 1 Axes>"
      ]
     },
     "metadata": {
      "needs_background": "light"
     },
     "output_type": "display_data"
    }
   ],
   "source": [
    "plt.figure(figsize=(10,9))\n",
    "plt.scatter(testing_plot[:,0], testing_plot[:,1], alpha = 0.1, c = y_test.ravel())\n",
    "contours = plt.contour(x_grid,y_grid,prob_contour)\n",
    "plt.title('Probability Contours')\n",
    "plt.clabel(contours, inline = True );"
   ]
  },
  {
   "cell_type": "code",
   "execution_count": null,
   "id": "e81b4ac7",
   "metadata": {
    "papermill": {
     "duration": 0.062653,
     "end_time": "2021-11-12T20:11:26.138352",
     "exception": false,
     "start_time": "2021-11-12T20:11:26.075699",
     "status": "completed"
    },
    "tags": []
   },
   "outputs": [],
   "source": []
  }
 ],
 "metadata": {
  "kernelspec": {
   "display_name": "Python 3",
   "language": "python",
   "name": "python3"
  },
  "language_info": {
   "codemirror_mode": {
    "name": "ipython",
    "version": 3
   },
   "file_extension": ".py",
   "mimetype": "text/x-python",
   "name": "python",
   "nbconvert_exporter": "python",
   "pygments_lexer": "ipython3",
   "version": "3.6.15"
  },
  "papermill": {
   "default_parameters": {},
   "duration": 176.38552,
   "end_time": "2021-11-12T20:11:26.611998",
   "environment_variables": {},
   "exception": null,
   "input_path": "2020-08-11-part2.ipynb",
   "output_path": "2020-08-11-part2.ipynb",
   "parameters": {},
   "start_time": "2021-11-12T20:08:30.226478",
   "version": "2.3.3"
  }
 },
 "nbformat": 4,
 "nbformat_minor": 5
}