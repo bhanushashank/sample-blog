{
 "cells": [
  {
   "cell_type": "markdown",
   "id": "98380cd3",
   "metadata": {
    "papermill": {
     "duration": 0.027722,
     "end_time": "2022-04-29T00:36:19.497603",
     "exception": false,
     "start_time": "2022-04-29T00:36:19.469881",
     "status": "completed"
    },
    "tags": []
   },
   "source": [
    "# Distinguish Your Own Digits (DYOD)"
   ]
  },
  {
   "cell_type": "markdown",
   "id": "ef31240d",
   "metadata": {
    "papermill": {
     "duration": 0.024999,
     "end_time": "2022-04-29T00:36:19.546859",
     "exception": false,
     "start_time": "2022-04-29T00:36:19.521860",
     "status": "completed"
    },
    "tags": []
   },
   "source": [
    "You are going to write a classifier that distinguishes between the number 3 and number 8."
   ]
  },
  {
   "cell_type": "code",
   "execution_count": 1,
   "id": "b15c8646",
   "metadata": {
    "execution": {
     "iopub.execute_input": "2022-04-29T00:36:19.604421Z",
     "iopub.status.busy": "2022-04-29T00:36:19.603896Z",
     "iopub.status.idle": "2022-04-29T00:36:19.613683Z",
     "shell.execute_reply": "2022-04-29T00:36:19.614124Z"
    },
    "papermill": {
     "duration": 0.043853,
     "end_time": "2022-04-29T00:36:19.614262",
     "exception": false,
     "start_time": "2022-04-29T00:36:19.570409",
     "status": "completed"
    },
    "tags": []
   },
   "outputs": [],
   "source": [
    "%load_ext autoreload\n",
    "%autoreload 2"
   ]
  },
  {
   "cell_type": "code",
   "execution_count": 2,
   "id": "22ef38dc",
   "metadata": {
    "execution": {
     "iopub.execute_input": "2022-04-29T00:36:19.670257Z",
     "iopub.status.busy": "2022-04-29T00:36:19.669742Z",
     "iopub.status.idle": "2022-04-29T00:36:20.196962Z",
     "shell.execute_reply": "2022-04-29T00:36:20.197500Z"
    },
    "papermill": {
     "duration": 0.559866,
     "end_time": "2022-04-29T00:36:20.197666",
     "exception": false,
     "start_time": "2022-04-29T00:36:19.637800",
     "status": "completed"
    },
    "tags": []
   },
   "outputs": [],
   "source": [
    "%matplotlib inline\n",
    "import numpy as np\n",
    "import matplotlib.pyplot as plt\n",
    "import pandas as pd"
   ]
  },
  {
   "cell_type": "markdown",
   "id": "ba036198",
   "metadata": {
    "papermill": {
     "duration": 0.023841,
     "end_time": "2022-04-29T00:36:20.245555",
     "exception": false,
     "start_time": "2022-04-29T00:36:20.221714",
     "status": "completed"
    },
    "tags": []
   },
   "source": [
    "From the command line run `pip install mnist`. This is a library that will help you bring down the mnist dataset. If you run this from a notebook, you need to put  `!pip install mnist` in a cell by itself."
   ]
  },
  {
   "cell_type": "code",
   "execution_count": 3,
   "id": "bb6ad8a1",
   "metadata": {
    "execution": {
     "iopub.execute_input": "2022-04-29T00:36:20.297367Z",
     "iopub.status.busy": "2022-04-29T00:36:20.296830Z",
     "iopub.status.idle": "2022-04-29T00:36:21.984117Z",
     "shell.execute_reply": "2022-04-29T00:36:21.983586Z"
    },
    "papermill": {
     "duration": 1.715036,
     "end_time": "2022-04-29T00:36:21.984253",
     "exception": false,
     "start_time": "2022-04-29T00:36:20.269217",
     "status": "completed"
    },
    "tags": []
   },
   "outputs": [
    {
     "name": "stdout",
     "output_type": "stream",
     "text": [
      "Collecting mnist\r\n",
      "  Downloading mnist-0.2.2-py2.py3-none-any.whl (3.5 kB)\r\n"
     ]
    },
    {
     "name": "stdout",
     "output_type": "stream",
     "text": [
      "Requirement already satisfied: numpy in /opt/hostedtoolcache/Python/3.6.15/x64/lib/python3.6/site-packages (from mnist) (1.19.5)\r\n"
     ]
    },
    {
     "name": "stdout",
     "output_type": "stream",
     "text": [
      "Installing collected packages: mnist\r\n",
      "Successfully installed mnist-0.2.2\r\n"
     ]
    }
   ],
   "source": [
    "!pip install mnist"
   ]
  },
  {
   "cell_type": "markdown",
   "id": "69df9c9a",
   "metadata": {
    "papermill": {
     "duration": 0.024403,
     "end_time": "2022-04-29T00:36:22.033719",
     "exception": false,
     "start_time": "2022-04-29T00:36:22.009316",
     "status": "completed"
    },
    "tags": []
   },
   "source": [
    "## Preparing the Data"
   ]
  },
  {
   "cell_type": "code",
   "execution_count": 4,
   "id": "7f69d806",
   "metadata": {
    "execution": {
     "iopub.execute_input": "2022-04-29T00:36:22.086970Z",
     "iopub.status.busy": "2022-04-29T00:36:22.086461Z",
     "iopub.status.idle": "2022-04-29T00:36:22.099812Z",
     "shell.execute_reply": "2022-04-29T00:36:22.100195Z"
    },
    "papermill": {
     "duration": 0.042329,
     "end_time": "2022-04-29T00:36:22.100318",
     "exception": false,
     "start_time": "2022-04-29T00:36:22.057989",
     "status": "completed"
    },
    "tags": []
   },
   "outputs": [],
   "source": [
    "import mnist"
   ]
  },
  {
   "cell_type": "code",
   "execution_count": 5,
   "id": "a411e44f",
   "metadata": {
    "execution": {
     "iopub.execute_input": "2022-04-29T00:36:22.152626Z",
     "iopub.status.busy": "2022-04-29T00:36:22.152123Z",
     "iopub.status.idle": "2022-04-29T00:36:22.626768Z",
     "shell.execute_reply": "2022-04-29T00:36:22.627225Z"
    },
    "papermill": {
     "duration": 0.502684,
     "end_time": "2022-04-29T00:36:22.627366",
     "exception": false,
     "start_time": "2022-04-29T00:36:22.124682",
     "status": "completed"
    },
    "tags": []
   },
   "outputs": [],
   "source": [
    "train_images = mnist.train_images()\n",
    "train_labels = mnist.train_labels()"
   ]
  },
  {
   "cell_type": "code",
   "execution_count": 6,
   "id": "dceab3a5",
   "metadata": {
    "execution": {
     "iopub.execute_input": "2022-04-29T00:36:22.688618Z",
     "iopub.status.busy": "2022-04-29T00:36:22.688090Z",
     "iopub.status.idle": "2022-04-29T00:36:22.699150Z",
     "shell.execute_reply": "2022-04-29T00:36:22.699625Z"
    },
    "papermill": {
     "duration": 0.043159,
     "end_time": "2022-04-29T00:36:22.699745",
     "exception": false,
     "start_time": "2022-04-29T00:36:22.656586",
     "status": "completed"
    },
    "tags": []
   },
   "outputs": [
    {
     "data": {
      "text/plain": [
       "((60000, 28, 28), (60000,))"
      ]
     },
     "execution_count": 6,
     "metadata": {},
     "output_type": "execute_result"
    }
   ],
   "source": [
    "train_images.shape, train_labels.shape"
   ]
  },
  {
   "cell_type": "code",
   "execution_count": 7,
   "id": "f50dc2bb",
   "metadata": {
    "execution": {
     "iopub.execute_input": "2022-04-29T00:36:22.751879Z",
     "iopub.status.busy": "2022-04-29T00:36:22.751373Z",
     "iopub.status.idle": "2022-04-29T00:36:22.883700Z",
     "shell.execute_reply": "2022-04-29T00:36:22.883136Z"
    },
    "papermill": {
     "duration": 0.159658,
     "end_time": "2022-04-29T00:36:22.883830",
     "exception": false,
     "start_time": "2022-04-29T00:36:22.724172",
     "status": "completed"
    },
    "tags": []
   },
   "outputs": [],
   "source": [
    "test_images = mnist.test_images()\n",
    "test_labels = mnist.test_labels()"
   ]
  },
  {
   "cell_type": "code",
   "execution_count": 8,
   "id": "fc38cf1b",
   "metadata": {
    "execution": {
     "iopub.execute_input": "2022-04-29T00:36:22.952186Z",
     "iopub.status.busy": "2022-04-29T00:36:22.950054Z",
     "iopub.status.idle": "2022-04-29T00:36:22.955291Z",
     "shell.execute_reply": "2022-04-29T00:36:22.954771Z"
    },
    "papermill": {
     "duration": 0.045518,
     "end_time": "2022-04-29T00:36:22.955401",
     "exception": false,
     "start_time": "2022-04-29T00:36:22.909883",
     "status": "completed"
    },
    "tags": []
   },
   "outputs": [
    {
     "data": {
      "text/plain": [
       "((10000, 28, 28), (10000,))"
      ]
     },
     "execution_count": 8,
     "metadata": {},
     "output_type": "execute_result"
    }
   ],
   "source": [
    "test_images.shape, test_labels.shape"
   ]
  },
  {
   "cell_type": "code",
   "execution_count": 9,
   "id": "f9ed8fe0",
   "metadata": {
    "execution": {
     "iopub.execute_input": "2022-04-29T00:36:23.008291Z",
     "iopub.status.busy": "2022-04-29T00:36:23.007795Z",
     "iopub.status.idle": "2022-04-29T00:36:23.143461Z",
     "shell.execute_reply": "2022-04-29T00:36:23.143849Z"
    },
    "papermill": {
     "duration": 0.163759,
     "end_time": "2022-04-29T00:36:23.143985",
     "exception": false,
     "start_time": "2022-04-29T00:36:22.980226",
     "status": "completed"
    },
    "tags": []
   },
   "outputs": [
    {
     "name": "stdout",
     "output_type": "stream",
     "text": [
      "2\n"
     ]
    },
    {
     "data": {
      "text/plain": [
       "<matplotlib.image.AxesImage at 0x7f07127a38d0>"
      ]
     },
     "execution_count": 9,
     "metadata": {},
     "output_type": "execute_result"
    },
    {
     "data": {
      "image/png": "[encoded data removed]",
      "text/plain": [
       "<Figure size 432x288 with 1 Axes>"
      ]
     },
     "metadata": {
      "needs_background": "light"
     },
     "output_type": "display_data"
    }
   ],
   "source": [
    "image_index = 7776 # You may select anything up to 60,000\n",
    "print(train_labels[image_index]) \n",
    "plt.imshow(train_images[image_index], cmap='Greys')"
   ]
  },
  {
   "cell_type": "markdown",
   "id": "a8d2388d",
   "metadata": {
    "papermill": {
     "duration": 0.026165,
     "end_time": "2022-04-29T00:36:23.196393",
     "exception": false,
     "start_time": "2022-04-29T00:36:23.170228",
     "status": "completed"
    },
    "tags": []
   },
   "source": [
    "## Filter data to get 3 and 8 out"
   ]
  },
  {
   "cell_type": "code",
   "execution_count": 10,
   "id": "776f7fc7",
   "metadata": {
    "execution": {
     "iopub.execute_input": "2022-04-29T00:36:23.256032Z",
     "iopub.status.busy": "2022-04-29T00:36:23.255513Z",
     "iopub.status.idle": "2022-04-29T00:36:23.271167Z",
     "shell.execute_reply": "2022-04-29T00:36:23.270757Z"
    },
    "papermill": {
     "duration": 0.048899,
     "end_time": "2022-04-29T00:36:23.271274",
     "exception": false,
     "start_time": "2022-04-29T00:36:23.222375",
     "status": "completed"
    },
    "tags": []
   },
   "outputs": [],
   "source": [
    "train_filter = np.where((train_labels == 3 ) | (train_labels == 8))\n",
    "test_filter = np.where((test_labels == 3) | (test_labels == 8))\n",
    "X_train, y_train = train_images[train_filter], train_labels[train_filter]\n",
    "X_test, y_test = test_images[test_filter], test_labels[test_filter]"
   ]
  },
  {
   "cell_type": "markdown",
   "id": "948f0b7e",
   "metadata": {
    "papermill": {
     "duration": 0.026088,
     "end_time": "2022-04-29T00:36:23.323300",
     "exception": false,
     "start_time": "2022-04-29T00:36:23.297212",
     "status": "completed"
    },
    "tags": []
   },
   "source": [
    "We normalize the pizel values in the 0 to 1 range"
   ]
  },
  {
   "cell_type": "code",
   "execution_count": 11,
   "id": "ee4c2166",
   "metadata": {
    "execution": {
     "iopub.execute_input": "2022-04-29T00:36:23.382146Z",
     "iopub.status.busy": "2022-04-29T00:36:23.381640Z",
     "iopub.status.idle": "2022-04-29T00:36:23.427413Z",
     "shell.execute_reply": "2022-04-29T00:36:23.426952Z"
    },
    "papermill": {
     "duration": 0.078489,
     "end_time": "2022-04-29T00:36:23.427534",
     "exception": false,
     "start_time": "2022-04-29T00:36:23.349045",
     "status": "completed"
    },
    "tags": []
   },
   "outputs": [],
   "source": [
    "X_train = X_train/255.\n",
    "X_test = X_test/255."
   ]
  },
  {
   "cell_type": "markdown",
   "id": "ddcf4fab",
   "metadata": {
    "papermill": {
     "duration": 0.025875,
     "end_time": "2022-04-29T00:36:23.479824",
     "exception": false,
     "start_time": "2022-04-29T00:36:23.453949",
     "status": "completed"
    },
    "tags": []
   },
   "source": [
    "And setup the labels as 1 (when the digit is 3) and 0 (when the digit is 8)"
   ]
  },
  {
   "cell_type": "code",
   "execution_count": 12,
   "id": "7dc908f2",
   "metadata": {
    "execution": {
     "iopub.execute_input": "2022-04-29T00:36:23.538201Z",
     "iopub.status.busy": "2022-04-29T00:36:23.537684Z",
     "iopub.status.idle": "2022-04-29T00:36:23.547547Z",
     "shell.execute_reply": "2022-04-29T00:36:23.548033Z"
    },
    "papermill": {
     "duration": 0.04243,
     "end_time": "2022-04-29T00:36:23.548151",
     "exception": false,
     "start_time": "2022-04-29T00:36:23.505721",
     "status": "completed"
    },
    "tags": []
   },
   "outputs": [],
   "source": [
    "y_train = 1*(y_train==3)\n",
    "y_test = 1*(y_test==3)"
   ]
  },
  {
   "cell_type": "code",
   "execution_count": 13,
   "id": "01e4e969",
   "metadata": {
    "execution": {
     "iopub.execute_input": "2022-04-29T00:36:23.616489Z",
     "iopub.status.busy": "2022-04-29T00:36:23.613681Z",
     "iopub.status.idle": "2022-04-29T00:36:23.618905Z",
     "shell.execute_reply": "2022-04-29T00:36:23.619287Z"
    },
    "papermill": {
     "duration": 0.045367,
     "end_time": "2022-04-29T00:36:23.619406",
     "exception": false,
     "start_time": "2022-04-29T00:36:23.574039",
     "status": "completed"
    },
    "tags": []
   },
   "outputs": [
    {
     "data": {
      "text/plain": [
       "((11982, 28, 28), (1984, 28, 28))"
      ]
     },
     "execution_count": 13,
     "metadata": {},
     "output_type": "execute_result"
    }
   ],
   "source": [
    "X_train.shape, X_test.shape"
   ]
  },
  {
   "cell_type": "markdown",
   "id": "5ccf3f85",
   "metadata": {
    "papermill": {
     "duration": 0.025981,
     "end_time": "2022-04-29T00:36:23.671416",
     "exception": false,
     "start_time": "2022-04-29T00:36:23.645435",
     "status": "completed"
    },
    "tags": []
   },
   "source": [
    "We reshape the data to flatten the image pixels into a set of features or co-variates:"
   ]
  },
  {
   "cell_type": "code",
   "execution_count": 14,
   "id": "5286a4a3",
   "metadata": {
    "execution": {
     "iopub.execute_input": "2022-04-29T00:36:23.737601Z",
     "iopub.status.busy": "2022-04-29T00:36:23.729610Z",
     "iopub.status.idle": "2022-04-29T00:36:23.740080Z",
     "shell.execute_reply": "2022-04-29T00:36:23.740550Z"
    },
    "papermill": {
     "duration": 0.04307,
     "end_time": "2022-04-29T00:36:23.740663",
     "exception": false,
     "start_time": "2022-04-29T00:36:23.697593",
     "status": "completed"
    },
    "tags": []
   },
   "outputs": [
    {
     "data": {
      "text/plain": [
       "((11982, 784), (1984, 784))"
      ]
     },
     "execution_count": 14,
     "metadata": {},
     "output_type": "execute_result"
    }
   ],
   "source": [
    "X_train = X_train.reshape(X_train.shape[0], -1)\n",
    "X_test = X_test.reshape(X_test.shape[0], -1)\n",
    "X_train.shape, X_test.shape"
   ]
  },
  {
   "cell_type": "code",
   "execution_count": 15,
   "id": "73c5f88a",
   "metadata": {
    "execution": {
     "iopub.execute_input": "2022-04-29T00:36:23.814784Z",
     "iopub.status.busy": "2022-04-29T00:36:23.809637Z",
     "iopub.status.idle": "2022-04-29T00:36:23.819315Z",
     "shell.execute_reply": "2022-04-29T00:36:23.819718Z"
    },
    "papermill": {
     "duration": 0.052767,
     "end_time": "2022-04-29T00:36:23.819830",
     "exception": false,
     "start_time": "2022-04-29T00:36:23.767063",
     "status": "completed"
    },
    "tags": []
   },
   "outputs": [],
   "source": [
    "#Impoting functions from 'Kudzu'\n",
    "from kudzu.model import Model\n",
    "from kudzu.train import Learner\n",
    "from kudzu.optim import GD\n",
    "from kudzu.data import Data, Sampler,Dataloader\n",
    "\n",
    "from kudzu.callbacks import AccCallback\n",
    "from kudzu.callbacks import ClfCallback\n",
    "\n",
    "from kudzu.loss import MSE\n",
    "\n",
    "from kudzu.layer import Sigmoid,Relu\n",
    "from kudzu.layer import Affine"
   ]
  },
  {
   "cell_type": "markdown",
   "id": "bc01172a",
   "metadata": {
    "papermill": {
     "duration": 0.026491,
     "end_time": "2022-04-29T00:36:23.873141",
     "exception": false,
     "start_time": "2022-04-29T00:36:23.846650",
     "status": "completed"
    },
    "tags": []
   },
   "source": [
    "### Let us create a `Config` class, to store important parameters. \n",
    "This class essentially plays the role of a dictionary."
   ]
  },
  {
   "cell_type": "code",
   "execution_count": 16,
   "id": "978281aa",
   "metadata": {
    "execution": {
     "iopub.execute_input": "2022-04-29T00:36:23.942639Z",
     "iopub.status.busy": "2022-04-29T00:36:23.929645Z",
     "iopub.status.idle": "2022-04-29T00:36:23.945380Z",
     "shell.execute_reply": "2022-04-29T00:36:23.945788Z"
    },
    "papermill": {
     "duration": 0.046104,
     "end_time": "2022-04-29T00:36:23.945910",
     "exception": false,
     "start_time": "2022-04-29T00:36:23.899806",
     "status": "completed"
    },
    "tags": []
   },
   "outputs": [],
   "source": [
    "class Config:\n",
    "    pass\n",
    "config = Config()\n",
    "config.lr = 0.001\n",
    "config.num_epochs = 250\n",
    "config.bs = 50"
   ]
  },
  {
   "cell_type": "markdown",
   "id": "1385fa59",
   "metadata": {
    "papermill": {
     "duration": 0.026424,
     "end_time": "2022-04-29T00:36:23.998866",
     "exception": false,
     "start_time": "2022-04-29T00:36:23.972442",
     "status": "completed"
    },
    "tags": []
   },
   "source": [
    "### Running Models with the Training data\n",
    "Details about the network layers:\n",
    "- A first affine layer has 784 inputs and does 100 affine transforms. These are followed by a Relu\n",
    "- A second affine layer has 100 inputs from the 100 activations of the past layer, and does 100 affine transforms. These are followed by a Relu\n",
    "- A third affine layer has 100 activations and does 2 affine transformations to create an embedding for visualization. There is no non-linearity here.\n",
    "- A final \"logistic regression\" which has an affine transform from 2 inputs to 1 output, which is squeezed through a sigmoid.\n"
   ]
  },
  {
   "cell_type": "code",
   "execution_count": 17,
   "id": "2b9c66db",
   "metadata": {
    "execution": {
     "iopub.execute_input": "2022-04-29T00:36:24.065691Z",
     "iopub.status.busy": "2022-04-29T00:36:24.054981Z",
     "iopub.status.idle": "2022-04-29T00:36:24.070246Z",
     "shell.execute_reply": "2022-04-29T00:36:24.069816Z"
    },
    "papermill": {
     "duration": 0.045034,
     "end_time": "2022-04-29T00:36:24.070348",
     "exception": false,
     "start_time": "2022-04-29T00:36:24.025314",
     "status": "completed"
    },
    "tags": []
   },
   "outputs": [],
   "source": [
    "data = Data(X_train, y_train.reshape(-1,1))\n",
    "sampler = Sampler(data, config.bs, shuffle=True)\n",
    "\n",
    "dl = Dataloader(data, sampler)\n",
    "\n",
    "opt = GD(config.lr)\n",
    "loss = MSE()"
   ]
  },
  {
   "cell_type": "code",
   "execution_count": 18,
   "id": "b275e4c2",
   "metadata": {
    "execution": {
     "iopub.execute_input": "2022-04-29T00:36:24.127056Z",
     "iopub.status.busy": "2022-04-29T00:36:24.126550Z",
     "iopub.status.idle": "2022-04-29T00:36:24.137641Z",
     "shell.execute_reply": "2022-04-29T00:36:24.138049Z"
    },
    "papermill": {
     "duration": 0.041383,
     "end_time": "2022-04-29T00:36:24.138168",
     "exception": false,
     "start_time": "2022-04-29T00:36:24.096785",
     "status": "completed"
    },
    "tags": []
   },
   "outputs": [],
   "source": [
    "training_data_x = X_train\n",
    "testing_data_x = X_test\n",
    "training_data_y = y_train.reshape(-1,1)\n",
    "testing_data_y = y_test.reshape(-1,1)"
   ]
  },
  {
   "cell_type": "code",
   "execution_count": 19,
   "id": "76951160",
   "metadata": {
    "execution": {
     "iopub.execute_input": "2022-04-29T00:36:24.209668Z",
     "iopub.status.busy": "2022-04-29T00:36:24.205644Z",
     "iopub.status.idle": "2022-04-29T00:36:24.215194Z",
     "shell.execute_reply": "2022-04-29T00:36:24.214766Z"
    },
    "papermill": {
     "duration": 0.050858,
     "end_time": "2022-04-29T00:36:24.215295",
     "exception": false,
     "start_time": "2022-04-29T00:36:24.164437",
     "status": "completed"
    },
    "tags": []
   },
   "outputs": [
    {
     "name": "stdout",
     "output_type": "stream",
     "text": [
      "xavier\n",
      "xavier\n",
      "xavier\n",
      "xavier\n",
      "xavier\n"
     ]
    }
   ],
   "source": [
    "layers = [Affine(\"first\", 784, 100), Relu(\"first\"), Affine(\"second\", 100, 100), Relu(\"second\"), Affine(\"third\", 100, 2), Affine(\"last\", 2, 1), Sigmoid(\"last\")]\n",
    "model_nn = Model(layers)\n",
    "model_lr = Model([Affine(\"logits\", 784, 1), Sigmoid(\"sigmoid\")])"
   ]
  },
  {
   "cell_type": "code",
   "execution_count": 20,
   "id": "6eede77a",
   "metadata": {
    "execution": {
     "iopub.execute_input": "2022-04-29T00:36:24.274353Z",
     "iopub.status.busy": "2022-04-29T00:36:24.273834Z",
     "iopub.status.idle": "2022-04-29T00:36:24.284366Z",
     "shell.execute_reply": "2022-04-29T00:36:24.284747Z"
    },
    "papermill": {
     "duration": 0.042819,
     "end_time": "2022-04-29T00:36:24.284863",
     "exception": false,
     "start_time": "2022-04-29T00:36:24.242044",
     "status": "completed"
    },
    "tags": []
   },
   "outputs": [],
   "source": [
    "nn_learner = Learner(loss, model_nn, opt, config.num_epochs)\n",
    "acc_nn = ClfCallback(nn_learner, config.bs, training_data_x , testing_data_x, training_data_y, testing_data_y)\n",
    "nn_learner.set_callbacks([acc_nn])"
   ]
  },
  {
   "cell_type": "code",
   "execution_count": 21,
   "id": "877b6cc7",
   "metadata": {
    "execution": {
     "iopub.execute_input": "2022-04-29T00:36:24.354425Z",
     "iopub.status.busy": "2022-04-29T00:36:24.353646Z",
     "iopub.status.idle": "2022-04-29T00:36:24.358588Z",
     "shell.execute_reply": "2022-04-29T00:36:24.358189Z"
    },
    "papermill": {
     "duration": 0.047068,
     "end_time": "2022-04-29T00:36:24.358687",
     "exception": false,
     "start_time": "2022-04-29T00:36:24.311619",
     "status": "completed"
    },
    "tags": []
   },
   "outputs": [],
   "source": [
    "lr_learner = Learner(loss, model_lr, opt, config.num_epochs)\n",
    "acc_lr = ClfCallback(lr_learner, config.bs, training_data_x , testing_data_x, training_data_y, testing_data_y)\n",
    "lr_learner.set_callbacks([acc_lr])"
   ]
  },
  {
   "cell_type": "code",
   "execution_count": 22,
   "id": "d9b133c3",
   "metadata": {
    "execution": {
     "iopub.execute_input": "2022-04-29T00:36:24.422210Z",
     "iopub.status.busy": "2022-04-29T00:36:24.421482Z",
     "iopub.status.idle": "2022-04-29T00:37:38.220308Z",
     "shell.execute_reply": "2022-04-29T00:37:38.221076Z"
    },
    "papermill": {
     "duration": 73.835807,
     "end_time": "2022-04-29T00:37:38.221225",
     "exception": false,
     "start_time": "2022-04-29T00:36:24.385418",
     "status": "completed"
    },
    "tags": []
   },
   "outputs": [
    {
     "name": "stdout",
     "output_type": "stream",
     "text": [
      "Epoch 0, Loss 0.2457\n",
      "Training Accuracy: 0.6327, Testing Accuracy: 0.6638\n",
      "\n"
     ]
    },
    {
     "name": "stdout",
     "output_type": "stream",
     "text": [
      "Epoch 10, Loss 0.1306\n",
      "Training Accuracy: 0.8858, Testing Accuracy: 0.8967\n",
      "\n"
     ]
    },
    {
     "name": "stdout",
     "output_type": "stream",
     "text": [
      "Epoch 20, Loss 0.0737\n",
      "Training Accuracy: 0.9238, Testing Accuracy: 0.9345\n",
      "\n"
     ]
    },
    {
     "name": "stdout",
     "output_type": "stream",
     "text": [
      "Epoch 30, Loss 0.0538\n",
      "Training Accuracy: 0.9427, Testing Accuracy: 0.9531\n",
      "\n"
     ]
    },
    {
     "name": "stdout",
     "output_type": "stream",
     "text": [
      "Epoch 40, Loss 0.0445\n",
      "Training Accuracy: 0.9505, Testing Accuracy: 0.9622\n",
      "\n"
     ]
    },
    {
     "name": "stdout",
     "output_type": "stream",
     "text": [
      "Epoch 50, Loss 0.0393\n",
      "Training Accuracy: 0.9550, Testing Accuracy: 0.9652\n",
      "\n"
     ]
    },
    {
     "name": "stdout",
     "output_type": "stream",
     "text": [
      "Epoch 60, Loss 0.0359\n",
      "Training Accuracy: 0.9578, Testing Accuracy: 0.9672\n",
      "\n"
     ]
    },
    {
     "name": "stdout",
     "output_type": "stream",
     "text": [
      "Epoch 70, Loss 0.0335\n",
      "Training Accuracy: 0.9602, Testing Accuracy: 0.9672\n",
      "\n"
     ]
    },
    {
     "name": "stdout",
     "output_type": "stream",
     "text": [
      "Epoch 80, Loss 0.0317\n",
      "Training Accuracy: 0.9621, Testing Accuracy: 0.9688\n",
      "\n"
     ]
    },
    {
     "name": "stdout",
     "output_type": "stream",
     "text": [
      "Epoch 90, Loss 0.0302\n",
      "Training Accuracy: 0.9636, Testing Accuracy: 0.9693\n",
      "\n"
     ]
    },
    {
     "name": "stdout",
     "output_type": "stream",
     "text": [
      "Epoch 100, Loss 0.029\n",
      "Training Accuracy: 0.9654, Testing Accuracy: 0.9698\n",
      "\n"
     ]
    },
    {
     "name": "stdout",
     "output_type": "stream",
     "text": [
      "Epoch 110, Loss 0.028\n",
      "Training Accuracy: 0.9664, Testing Accuracy: 0.9698\n",
      "\n"
     ]
    },
    {
     "name": "stdout",
     "output_type": "stream",
     "text": [
      "Epoch 120, Loss 0.0271\n",
      "Training Accuracy: 0.9674, Testing Accuracy: 0.9703\n",
      "\n"
     ]
    },
    {
     "name": "stdout",
     "output_type": "stream",
     "text": [
      "Epoch 130, Loss 0.0263\n",
      "Training Accuracy: 0.9685, Testing Accuracy: 0.9703\n",
      "\n"
     ]
    },
    {
     "name": "stdout",
     "output_type": "stream",
     "text": [
      "Epoch 140, Loss 0.0256\n",
      "Training Accuracy: 0.9690, Testing Accuracy: 0.9708\n",
      "\n"
     ]
    },
    {
     "name": "stdout",
     "output_type": "stream",
     "text": [
      "Epoch 150, Loss 0.025\n",
      "Training Accuracy: 0.9700, Testing Accuracy: 0.9713\n",
      "\n"
     ]
    },
    {
     "name": "stdout",
     "output_type": "stream",
     "text": [
      "Epoch 160, Loss 0.0244\n",
      "Training Accuracy: 0.9709, Testing Accuracy: 0.9718\n",
      "\n"
     ]
    },
    {
     "name": "stdout",
     "output_type": "stream",
     "text": [
      "Epoch 170, Loss 0.0239\n",
      "Training Accuracy: 0.9716, Testing Accuracy: 0.9718\n",
      "\n"
     ]
    },
    {
     "name": "stdout",
     "output_type": "stream",
     "text": [
      "Epoch 180, Loss 0.0234\n",
      "Training Accuracy: 0.9725, Testing Accuracy: 0.9713\n",
      "\n"
     ]
    },
    {
     "name": "stdout",
     "output_type": "stream",
     "text": [
      "Epoch 190, Loss 0.0229\n",
      "Training Accuracy: 0.9730, Testing Accuracy: 0.9713\n",
      "\n"
     ]
    },
    {
     "name": "stdout",
     "output_type": "stream",
     "text": [
      "Epoch 200, Loss 0.0224\n",
      "Training Accuracy: 0.9740, Testing Accuracy: 0.9713\n",
      "\n"
     ]
    },
    {
     "name": "stdout",
     "output_type": "stream",
     "text": [
      "Epoch 210, Loss 0.022\n",
      "Training Accuracy: 0.9749, Testing Accuracy: 0.9713\n",
      "\n"
     ]
    },
    {
     "name": "stdout",
     "output_type": "stream",
     "text": [
      "Epoch 220, Loss 0.0216\n",
      "Training Accuracy: 0.9750, Testing Accuracy: 0.9713\n",
      "\n"
     ]
    },
    {
     "name": "stdout",
     "output_type": "stream",
     "text": [
      "Epoch 230, Loss 0.0212\n",
      "Training Accuracy: 0.9756, Testing Accuracy: 0.9718\n",
      "\n"
     ]
    },
    {
     "name": "stdout",
     "output_type": "stream",
     "text": [
      "Epoch 240, Loss 0.0208\n",
      "Training Accuracy: 0.9760, Testing Accuracy: 0.9718\n",
      "\n"
     ]
    },
    {
     "data": {
      "text/plain": [
       "0.030549802729835575"
      ]
     },
     "execution_count": 22,
     "metadata": {},
     "output_type": "execute_result"
    }
   ],
   "source": [
    "nn_learner.train_loop(dl)"
   ]
  },
  {
   "cell_type": "code",
   "execution_count": 23,
   "id": "e0163366",
   "metadata": {
    "execution": {
     "iopub.execute_input": "2022-04-29T00:37:38.298205Z",
     "iopub.status.busy": "2022-04-29T00:37:38.297700Z",
     "iopub.status.idle": "2022-04-29T00:37:51.436155Z",
     "shell.execute_reply": "2022-04-29T00:37:51.436901Z"
    },
    "papermill": {
     "duration": 13.181609,
     "end_time": "2022-04-29T00:37:51.437128",
     "exception": false,
     "start_time": "2022-04-29T00:37:38.255519",
     "status": "completed"
    },
    "tags": []
   },
   "outputs": [
    {
     "name": "stdout",
     "output_type": "stream",
     "text": [
      "Epoch 0, Loss 0.2122\n",
      "Training Accuracy: 0.7949, Testing Accuracy: 0.7994\n",
      "\n"
     ]
    },
    {
     "name": "stdout",
     "output_type": "stream",
     "text": [
      "Epoch 10, Loss 0.0993\n",
      "Training Accuracy: 0.9155, Testing Accuracy: 0.9194\n",
      "\n"
     ]
    },
    {
     "name": "stdout",
     "output_type": "stream",
     "text": [
      "Epoch 20, Loss 0.0776\n",
      "Training Accuracy: 0.9306, Testing Accuracy: 0.9420\n",
      "\n"
     ]
    },
    {
     "name": "stdout",
     "output_type": "stream",
     "text": [
      "Epoch 30, Loss 0.0672\n",
      "Training Accuracy: 0.9385, Testing Accuracy: 0.9481\n",
      "\n"
     ]
    },
    {
     "name": "stdout",
     "output_type": "stream",
     "text": [
      "Epoch 40, Loss 0.061\n",
      "Training Accuracy: 0.9430, Testing Accuracy: 0.9521\n",
      "\n"
     ]
    },
    {
     "name": "stdout",
     "output_type": "stream",
     "text": [
      "Epoch 50, Loss 0.0567\n",
      "Training Accuracy: 0.9458, Testing Accuracy: 0.9551\n",
      "\n"
     ]
    },
    {
     "name": "stdout",
     "output_type": "stream",
     "text": [
      "Epoch 60, Loss 0.0535\n",
      "Training Accuracy: 0.9480, Testing Accuracy: 0.9592\n",
      "\n"
     ]
    },
    {
     "name": "stdout",
     "output_type": "stream",
     "text": [
      "Epoch 70, Loss 0.051\n",
      "Training Accuracy: 0.9501, Testing Accuracy: 0.9597\n",
      "\n"
     ]
    },
    {
     "name": "stdout",
     "output_type": "stream",
     "text": [
      "Epoch 80, Loss 0.049\n",
      "Training Accuracy: 0.9512, Testing Accuracy: 0.9612\n",
      "\n"
     ]
    },
    {
     "name": "stdout",
     "output_type": "stream",
     "text": [
      "Epoch 90, Loss 0.0474\n",
      "Training Accuracy: 0.9528, Testing Accuracy: 0.9642\n",
      "\n"
     ]
    },
    {
     "name": "stdout",
     "output_type": "stream",
     "text": [
      "Epoch 100, Loss 0.046\n",
      "Training Accuracy: 0.9538, Testing Accuracy: 0.9652\n",
      "\n"
     ]
    },
    {
     "name": "stdout",
     "output_type": "stream",
     "text": [
      "Epoch 110, Loss 0.0448\n",
      "Training Accuracy: 0.9544, Testing Accuracy: 0.9652\n",
      "\n"
     ]
    },
    {
     "name": "stdout",
     "output_type": "stream",
     "text": [
      "Epoch 120, Loss 0.0438\n",
      "Training Accuracy: 0.9550, Testing Accuracy: 0.9667\n",
      "\n"
     ]
    },
    {
     "name": "stdout",
     "output_type": "stream",
     "text": [
      "Epoch 130, Loss 0.0429\n",
      "Training Accuracy: 0.9559, Testing Accuracy: 0.9672\n",
      "\n"
     ]
    },
    {
     "name": "stdout",
     "output_type": "stream",
     "text": [
      "Epoch 140, Loss 0.0421\n",
      "Training Accuracy: 0.9566, Testing Accuracy: 0.9667\n",
      "\n"
     ]
    },
    {
     "name": "stdout",
     "output_type": "stream",
     "text": [
      "Epoch 150, Loss 0.0413\n",
      "Training Accuracy: 0.9569, Testing Accuracy: 0.9672\n",
      "\n"
     ]
    },
    {
     "name": "stdout",
     "output_type": "stream",
     "text": [
      "Epoch 160, Loss 0.0407\n",
      "Training Accuracy: 0.9574, Testing Accuracy: 0.9672\n",
      "\n"
     ]
    },
    {
     "name": "stdout",
     "output_type": "stream",
     "text": [
      "Epoch 170, Loss 0.0401\n",
      "Training Accuracy: 0.9583, Testing Accuracy: 0.9672\n",
      "\n"
     ]
    },
    {
     "name": "stdout",
     "output_type": "stream",
     "text": [
      "Epoch 180, Loss 0.0395\n",
      "Training Accuracy: 0.9585, Testing Accuracy: 0.9672\n",
      "\n"
     ]
    },
    {
     "name": "stdout",
     "output_type": "stream",
     "text": [
      "Epoch 190, Loss 0.039\n",
      "Training Accuracy: 0.9589, Testing Accuracy: 0.9662\n",
      "\n"
     ]
    },
    {
     "name": "stdout",
     "output_type": "stream",
     "text": [
      "Epoch 200, Loss 0.0385\n",
      "Training Accuracy: 0.9594, Testing Accuracy: 0.9672\n",
      "\n"
     ]
    },
    {
     "name": "stdout",
     "output_type": "stream",
     "text": [
      "Epoch 210, Loss 0.0381\n",
      "Training Accuracy: 0.9595, Testing Accuracy: 0.9672\n",
      "\n"
     ]
    },
    {
     "name": "stdout",
     "output_type": "stream",
     "text": [
      "Epoch 220, Loss 0.0377\n",
      "Training Accuracy: 0.9599, Testing Accuracy: 0.9672\n",
      "\n"
     ]
    },
    {
     "name": "stdout",
     "output_type": "stream",
     "text": [
      "Epoch 230, Loss 0.0373\n",
      "Training Accuracy: 0.9601, Testing Accuracy: 0.9672\n",
      "\n"
     ]
    },
    {
     "name": "stdout",
     "output_type": "stream",
     "text": [
      "Epoch 240, Loss 0.0369\n",
      "Training Accuracy: 0.9608, Testing Accuracy: 0.9672\n",
      "\n"
     ]
    },
    {
     "data": {
      "text/plain": [
       "0.04975001999553638"
      ]
     },
     "execution_count": 23,
     "metadata": {},
     "output_type": "execute_result"
    }
   ],
   "source": [
    "lr_learner.train_loop(dl)"
   ]
  },
  {
   "cell_type": "code",
   "execution_count": 24,
   "id": "ca410940",
   "metadata": {
    "execution": {
     "iopub.execute_input": "2022-04-29T00:37:51.526590Z",
     "iopub.status.busy": "2022-04-29T00:37:51.526068Z",
     "iopub.status.idle": "2022-04-29T00:37:51.754500Z",
     "shell.execute_reply": "2022-04-29T00:37:51.753993Z"
    },
    "papermill": {
     "duration": 0.276544,
     "end_time": "2022-04-29T00:37:51.754623",
     "exception": false,
     "start_time": "2022-04-29T00:37:51.478079",
     "status": "completed"
    },
    "tags": []
   },
   "outputs": [
    {
     "data": {
      "text/plain": [
       "<matplotlib.legend.Legend at 0x7f0712311b00>"
      ]
     },
     "execution_count": 24,
     "metadata": {},
     "output_type": "execute_result"
    },
    {
     "data": {
      "image/png": "[encoded data removed]",
      "text/plain": [
       "<Figure size 1080x720 with 1 Axes>"
      ]
     },
     "metadata": {
      "needs_background": "light"
     },
     "output_type": "display_data"
    }
   ],
   "source": [
    "#comparing the results of NN and LR\n",
    "plt.figure(figsize=(15,10))\n",
    "\n",
    "# Neural Network plots\n",
    "plt.plot(acc_nn.accuracies, 'r-', label = \"Training Accuracies - NN\")\n",
    "plt.plot(acc_nn.test_accuracies, 'g-', label = \"Testing Accuracies - NN\")\n",
    "\n",
    "# Logistic Regression plots\n",
    "plt.plot(acc_lr.accuracies, 'k-', label = \"Training Accuracies - LR\")\n",
    "plt.plot(acc_lr.test_accuracies, 'b-', label = \"Testing Accuracies - LR\")\n",
    "plt.legend()"
   ]
  },
  {
   "cell_type": "markdown",
   "id": "80dfb35c",
   "metadata": {
    "papermill": {
     "duration": 0.041546,
     "end_time": "2022-04-29T00:37:51.838187",
     "exception": false,
     "start_time": "2022-04-29T00:37:51.796641",
     "status": "completed"
    },
    "tags": []
   },
   "source": [
    "#### Plotting the outputs of this layer of the NN.\n"
   ]
  },
  {
   "cell_type": "code",
   "execution_count": 25,
   "id": "45eb2ff5",
   "metadata": {
    "execution": {
     "iopub.execute_input": "2022-04-29T00:37:51.929297Z",
     "iopub.status.busy": "2022-04-29T00:37:51.928727Z",
     "iopub.status.idle": "2022-04-29T00:37:51.946171Z",
     "shell.execute_reply": "2022-04-29T00:37:51.946618Z"
    },
    "papermill": {
     "duration": 0.066833,
     "end_time": "2022-04-29T00:37:51.946761",
     "exception": false,
     "start_time": "2022-04-29T00:37:51.879928",
     "status": "completed"
    },
    "tags": []
   },
   "outputs": [],
   "source": [
    "new_model = Model(layers[:-2])\n",
    "testing_plot = new_model(testing_data_x)"
   ]
  },
  {
   "cell_type": "code",
   "execution_count": 26,
   "id": "4c0a5485",
   "metadata": {
    "execution": {
     "iopub.execute_input": "2022-04-29T00:37:52.039212Z",
     "iopub.status.busy": "2022-04-29T00:37:52.038318Z",
     "iopub.status.idle": "2022-04-29T00:37:52.243352Z",
     "shell.execute_reply": "2022-04-29T00:37:52.243791Z"
    },
    "papermill": {
     "duration": 0.254784,
     "end_time": "2022-04-29T00:37:52.243933",
     "exception": false,
     "start_time": "2022-04-29T00:37:51.989149",
     "status": "completed"
    },
    "tags": []
   },
   "outputs": [
    {
     "data": {
      "text/plain": [
       "Text(0.5, 1.0, 'Outputs')"
      ]
     },
     "execution_count": 26,
     "metadata": {},
     "output_type": "execute_result"
    },
    {
     "data": {
      "image/png": "[encoded data removed]",
      "text/plain": [
       "<Figure size 576x504 with 1 Axes>"
      ]
     },
     "metadata": {
      "needs_background": "light"
     },
     "output_type": "display_data"
    }
   ],
   "source": [
    "# Plotting the scatter plot of points and color coding by class\n",
    "plt.figure(figsize=(8,7))\n",
    "plt.scatter(testing_plot[:,0], testing_plot[:,1], alpha = 0.1, c = y_test.ravel());\n",
    "plt.title('Outputs')"
   ]
  },
  {
   "cell_type": "markdown",
   "id": "a74fcf8f",
   "metadata": {
    "papermill": {
     "duration": 0.043758,
     "end_time": "2022-04-29T00:37:52.331646",
     "exception": false,
     "start_time": "2022-04-29T00:37:52.287888",
     "status": "completed"
    },
    "tags": []
   },
   "source": [
    "Probability contours"
   ]
  },
  {
   "cell_type": "code",
   "execution_count": 27,
   "id": "d0afc8e3",
   "metadata": {
    "execution": {
     "iopub.execute_input": "2022-04-29T00:37:52.425797Z",
     "iopub.status.busy": "2022-04-29T00:37:52.424873Z",
     "iopub.status.idle": "2022-04-29T00:37:52.435759Z",
     "shell.execute_reply": "2022-04-29T00:37:52.436148Z"
    },
    "papermill": {
     "duration": 0.060578,
     "end_time": "2022-04-29T00:37:52.436276",
     "exception": false,
     "start_time": "2022-04-29T00:37:52.375698",
     "status": "completed"
    },
    "tags": []
   },
   "outputs": [],
   "source": [
    "model_prob = Model(layers[-2:]) "
   ]
  },
  {
   "cell_type": "code",
   "execution_count": 28,
   "id": "9b96e238",
   "metadata": {
    "execution": {
     "iopub.execute_input": "2022-04-29T00:37:52.543038Z",
     "iopub.status.busy": "2022-04-29T00:37:52.542526Z",
     "iopub.status.idle": "2022-04-29T00:37:52.546588Z",
     "shell.execute_reply": "2022-04-29T00:37:52.546098Z"
    },
    "papermill": {
     "duration": 0.066402,
     "end_time": "2022-04-29T00:37:52.546692",
     "exception": false,
     "start_time": "2022-04-29T00:37:52.480290",
     "status": "completed"
    },
    "tags": []
   },
   "outputs": [],
   "source": [
    "#creating the x and y ranges according to the above generated plot.\n",
    "x_range = np.linspace(-4, 1, 100) \n",
    "y_range = np.linspace(-6, 6, 100) \n",
    "x_grid, y_grid = np.meshgrid(x_range, y_range) # x_grid and y_grig are of size 100 X 100\n",
    "\n",
    "# converting x_grid and y_grid to continuous arrays\n",
    "x_gridflat = np.ravel(x_grid)\n",
    "y_gridflat = np.ravel(y_grid)\n",
    "\n",
    "# The last layer of the current model takes two columns as input. Hence transpose of np.vstack() is required.\n",
    "X = np.vstack((x_gridflat, y_gridflat)).T\n",
    "\n",
    "prob_contour = model_prob(X).reshape(100,100) "
   ]
  },
  {
   "cell_type": "code",
   "execution_count": 29,
   "id": "da72499a",
   "metadata": {
    "execution": {
     "iopub.execute_input": "2022-04-29T00:37:52.675763Z",
     "iopub.status.busy": "2022-04-29T00:37:52.674982Z",
     "iopub.status.idle": "2022-04-29T00:37:52.907725Z",
     "shell.execute_reply": "2022-04-29T00:37:52.907298Z"
    },
    "papermill": {
     "duration": 0.317163,
     "end_time": "2022-04-29T00:37:52.907844",
     "exception": false,
     "start_time": "2022-04-29T00:37:52.590681",
     "status": "completed"
    },
    "tags": []
   },
   "outputs": [
    {
     "data": {
      "image/png": "[encoded data removed]",
      "text/plain": [
       "<Figure size 720x648 with 1 Axes>"
      ]
     },
     "metadata": {
      "needs_background": "light"
     },
     "output_type": "display_data"
    }
   ],
   "source": [
    "plt.figure(figsize=(10,9))\n",
    "plt.scatter(testing_plot[:,0], testing_plot[:,1], alpha = 0.1, c = y_test.ravel())\n",
    "contours = plt.contour(x_grid,y_grid,prob_contour)\n",
    "plt.title('Probability Contours')\n",
    "plt.clabel(contours, inline = True );"
   ]
  },
  {
   "cell_type": "code",
   "execution_count": null,
   "id": "e81b4ac7",
   "metadata": {
    "papermill": {
     "duration": 0.04652,
     "end_time": "2022-04-29T00:37:53.002021",
     "exception": false,
     "start_time": "2022-04-29T00:37:52.955501",
     "status": "completed"
    },
    "tags": []
   },
   "outputs": [],
   "source": []
  }
 ],
 "metadata": {
  "kernelspec": {
   "display_name": "Python 3",
   "language": "python",
   "name": "python3"
  },
  "language_info": {
   "codemirror_mode": {
    "name": "ipython",
    "version": 3
   },
   "file_extension": ".py",
   "mimetype": "text/x-python",
   "name": "python",
   "nbconvert_exporter": "python",
   "pygments_lexer": "ipython3",
   "version": "3.6.15"
  },
  "papermill": {
   "default_parameters": {},
   "duration": 94.813432,
   "end_time": "2022-04-29T00:37:53.366961",
   "environment_variables": {},
   "exception": null,
   "input_path": "2020-08-11-part2.ipynb",
   "output_path": "2020-08-11-part2.ipynb",
   "parameters": {},
   "start_time": "2022-04-29T00:36:18.553529",
   "version": "2.3.3"
  }
 },
 "nbformat": 4,
 "nbformat_minor": 5
}