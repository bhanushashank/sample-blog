{
 "cells": [
  {
   "cell_type": "markdown",
   "id": "98380cd3",
   "metadata": {
    "papermill": {
     "duration": 0.042913,
     "end_time": "2022-05-27T00:39:02.010697",
     "exception": false,
     "start_time": "2022-05-27T00:39:01.967784",
     "status": "completed"
    },
    "tags": []
   },
   "source": [
    "# Distinguish Your Own Digits (DYOD)"
   ]
  },
  {
   "cell_type": "markdown",
   "id": "ef31240d",
   "metadata": {
    "papermill": {
     "duration": 0.033874,
     "end_time": "2022-05-27T00:39:02.078538",
     "exception": false,
     "start_time": "2022-05-27T00:39:02.044664",
     "status": "completed"
    },
    "tags": []
   },
   "source": [
    "You are going to write a classifier that distinguishes between the number 3 and number 8."
   ]
  },
  {
   "cell_type": "code",
   "execution_count": 1,
   "id": "b15c8646",
   "metadata": {
    "execution": {
     "iopub.execute_input": "2022-05-27T00:39:02.158352Z",
     "iopub.status.busy": "2022-05-27T00:39:02.157451Z",
     "iopub.status.idle": "2022-05-27T00:39:02.171910Z",
     "shell.execute_reply": "2022-05-27T00:39:02.171169Z"
    },
    "papermill": {
     "duration": 0.059975,
     "end_time": "2022-05-27T00:39:02.172091",
     "exception": false,
     "start_time": "2022-05-27T00:39:02.112116",
     "status": "completed"
    },
    "tags": []
   },
   "outputs": [],
   "source": [
    "%load_ext autoreload\n",
    "%autoreload 2"
   ]
  },
  {
   "cell_type": "code",
   "execution_count": 2,
   "id": "22ef38dc",
   "metadata": {
    "execution": {
     "iopub.execute_input": "2022-05-27T00:39:02.245102Z",
     "iopub.status.busy": "2022-05-27T00:39:02.244265Z",
     "iopub.status.idle": "2022-05-27T00:39:02.916490Z",
     "shell.execute_reply": "2022-05-27T00:39:02.915495Z"
    },
    "papermill": {
     "duration": 0.71206,
     "end_time": "2022-05-27T00:39:02.916644",
     "exception": false,
     "start_time": "2022-05-27T00:39:02.204584",
     "status": "completed"
    },
    "tags": []
   },
   "outputs": [],
   "source": [
    "%matplotlib inline\n",
    "import numpy as np\n",
    "import matplotlib.pyplot as plt\n",
    "import pandas as pd"
   ]
  },
  {
   "cell_type": "markdown",
   "id": "ba036198",
   "metadata": {
    "papermill": {
     "duration": 0.033881,
     "end_time": "2022-05-27T00:39:02.983669",
     "exception": false,
     "start_time": "2022-05-27T00:39:02.949788",
     "status": "completed"
    },
    "tags": []
   },
   "source": [
    "From the command line run `pip install mnist`. This is a library that will help you bring down the mnist dataset. If you run this from a notebook, you need to put  `!pip install mnist` in a cell by itself."
   ]
  },
  {
   "cell_type": "code",
   "execution_count": 3,
   "id": "bb6ad8a1",
   "metadata": {
    "execution": {
     "iopub.execute_input": "2022-05-27T00:39:03.061763Z",
     "iopub.status.busy": "2022-05-27T00:39:03.061015Z",
     "iopub.status.idle": "2022-05-27T00:39:05.243576Z",
     "shell.execute_reply": "2022-05-27T00:39:05.242372Z"
    },
    "papermill": {
     "duration": 2.219264,
     "end_time": "2022-05-27T00:39:05.243735",
     "exception": false,
     "start_time": "2022-05-27T00:39:03.024471",
     "status": "completed"
    },
    "tags": []
   },
   "outputs": [
    {
     "name": "stdout",
     "output_type": "stream",
     "text": [
      "Collecting mnist\r\n"
     ]
    },
    {
     "name": "stdout",
     "output_type": "stream",
     "text": [
      "  Downloading mnist-0.2.2-py2.py3-none-any.whl (3.5 kB)\r\n",
      "Requirement already satisfied: numpy in /opt/hostedtoolcache/Python/3.6.15/x64/lib/python3.6/site-packages (from mnist) (1.19.5)\r\n"
     ]
    },
    {
     "name": "stdout",
     "output_type": "stream",
     "text": [
      "Installing collected packages: mnist\r\n"
     ]
    },
    {
     "name": "stdout",
     "output_type": "stream",
     "text": [
      "Successfully installed mnist-0.2.2\r\n"
     ]
    }
   ],
   "source": [
    "!pip install mnist"
   ]
  },
  {
   "cell_type": "markdown",
   "id": "69df9c9a",
   "metadata": {
    "papermill": {
     "duration": 0.036425,
     "end_time": "2022-05-27T00:39:05.315176",
     "exception": false,
     "start_time": "2022-05-27T00:39:05.278751",
     "status": "completed"
    },
    "tags": []
   },
   "source": [
    "## Preparing the Data"
   ]
  },
  {
   "cell_type": "code",
   "execution_count": 4,
   "id": "7f69d806",
   "metadata": {
    "execution": {
     "iopub.execute_input": "2022-05-27T00:39:05.408213Z",
     "iopub.status.busy": "2022-05-27T00:39:05.397368Z",
     "iopub.status.idle": "2022-05-27T00:39:05.420436Z",
     "shell.execute_reply": "2022-05-27T00:39:05.419805Z"
    },
    "papermill": {
     "duration": 0.06323,
     "end_time": "2022-05-27T00:39:05.420592",
     "exception": false,
     "start_time": "2022-05-27T00:39:05.357362",
     "status": "completed"
    },
    "tags": []
   },
   "outputs": [],
   "source": [
    "import mnist"
   ]
  },
  {
   "cell_type": "code",
   "execution_count": 5,
   "id": "a411e44f",
   "metadata": {
    "execution": {
     "iopub.execute_input": "2022-05-27T00:39:05.497262Z",
     "iopub.status.busy": "2022-05-27T00:39:05.496266Z",
     "iopub.status.idle": "2022-05-27T00:39:06.139180Z",
     "shell.execute_reply": "2022-05-27T00:39:06.138524Z"
    },
    "papermill": {
     "duration": 0.68414,
     "end_time": "2022-05-27T00:39:06.139375",
     "exception": false,
     "start_time": "2022-05-27T00:39:05.455235",
     "status": "completed"
    },
    "tags": []
   },
   "outputs": [],
   "source": [
    "train_images = mnist.train_images()\n",
    "train_labels = mnist.train_labels()"
   ]
  },
  {
   "cell_type": "code",
   "execution_count": 6,
   "id": "dceab3a5",
   "metadata": {
    "execution": {
     "iopub.execute_input": "2022-05-27T00:39:06.218131Z",
     "iopub.status.busy": "2022-05-27T00:39:06.217396Z",
     "iopub.status.idle": "2022-05-27T00:39:06.233132Z",
     "shell.execute_reply": "2022-05-27T00:39:06.232447Z"
    },
    "papermill": {
     "duration": 0.058739,
     "end_time": "2022-05-27T00:39:06.233283",
     "exception": false,
     "start_time": "2022-05-27T00:39:06.174544",
     "status": "completed"
    },
    "tags": []
   },
   "outputs": [
    {
     "data": {
      "text/plain": [
       "((60000, 28, 28), (60000,))"
      ]
     },
     "execution_count": 6,
     "metadata": {},
     "output_type": "execute_result"
    }
   ],
   "source": [
    "train_images.shape, train_labels.shape"
   ]
  },
  {
   "cell_type": "code",
   "execution_count": 7,
   "id": "f50dc2bb",
   "metadata": {
    "execution": {
     "iopub.execute_input": "2022-05-27T00:39:06.311133Z",
     "iopub.status.busy": "2022-05-27T00:39:06.310383Z",
     "iopub.status.idle": "2022-05-27T00:39:06.476932Z",
     "shell.execute_reply": "2022-05-27T00:39:06.477667Z"
    },
    "papermill": {
     "duration": 0.207805,
     "end_time": "2022-05-27T00:39:06.477853",
     "exception": false,
     "start_time": "2022-05-27T00:39:06.270048",
     "status": "completed"
    },
    "tags": []
   },
   "outputs": [],
   "source": [
    "test_images = mnist.test_images()\n",
    "test_labels = mnist.test_labels()"
   ]
  },
  {
   "cell_type": "code",
   "execution_count": 8,
   "id": "fc38cf1b",
   "metadata": {
    "execution": {
     "iopub.execute_input": "2022-05-27T00:39:06.555971Z",
     "iopub.status.busy": "2022-05-27T00:39:06.555166Z",
     "iopub.status.idle": "2022-05-27T00:39:06.572056Z",
     "shell.execute_reply": "2022-05-27T00:39:06.571406Z"
    },
    "papermill": {
     "duration": 0.059175,
     "end_time": "2022-05-27T00:39:06.572203",
     "exception": false,
     "start_time": "2022-05-27T00:39:06.513028",
     "status": "completed"
    },
    "tags": []
   },
   "outputs": [
    {
     "data": {
      "text/plain": [
       "((10000, 28, 28), (10000,))"
      ]
     },
     "execution_count": 8,
     "metadata": {},
     "output_type": "execute_result"
    }
   ],
   "source": [
    "test_images.shape, test_labels.shape"
   ]
  },
  {
   "cell_type": "code",
   "execution_count": 9,
   "id": "f9ed8fe0",
   "metadata": {
    "execution": {
     "iopub.execute_input": "2022-05-27T00:39:06.650658Z",
     "iopub.status.busy": "2022-05-27T00:39:06.649803Z",
     "iopub.status.idle": "2022-05-27T00:39:06.845384Z",
     "shell.execute_reply": "2022-05-27T00:39:06.846002Z"
    },
    "papermill": {
     "duration": 0.239254,
     "end_time": "2022-05-27T00:39:06.846185",
     "exception": false,
     "start_time": "2022-05-27T00:39:06.606931",
     "status": "completed"
    },
    "tags": []
   },
   "outputs": [
    {
     "name": "stdout",
     "output_type": "stream",
     "text": [
      "2\n"
     ]
    },
    {
     "data": {
      "text/plain": [
       "<matplotlib.image.AxesImage at 0x7fd52c897e48>"
      ]
     },
     "execution_count": 9,
     "metadata": {},
     "output_type": "execute_result"
    },
    {
     "data": {
      "image/png": "[encoded data removed]",
      "text/plain": [
       "<Figure size 432x288 with 1 Axes>"
      ]
     },
     "metadata": {
      "needs_background": "light"
     },
     "output_type": "display_data"
    }
   ],
   "source": [
    "image_index = 7776 # You may select anything up to 60,000\n",
    "print(train_labels[image_index]) \n",
    "plt.imshow(train_images[image_index], cmap='Greys')"
   ]
  },
  {
   "cell_type": "markdown",
   "id": "a8d2388d",
   "metadata": {
    "papermill": {
     "duration": 0.037475,
     "end_time": "2022-05-27T00:39:06.920106",
     "exception": false,
     "start_time": "2022-05-27T00:39:06.882631",
     "status": "completed"
    },
    "tags": []
   },
   "source": [
    "## Filter data to get 3 and 8 out"
   ]
  },
  {
   "cell_type": "code",
   "execution_count": 10,
   "id": "776f7fc7",
   "metadata": {
    "execution": {
     "iopub.execute_input": "2022-05-27T00:39:06.998357Z",
     "iopub.status.busy": "2022-05-27T00:39:06.997583Z",
     "iopub.status.idle": "2022-05-27T00:39:07.021741Z",
     "shell.execute_reply": "2022-05-27T00:39:07.021055Z"
    },
    "papermill": {
     "duration": 0.065497,
     "end_time": "2022-05-27T00:39:07.021891",
     "exception": false,
     "start_time": "2022-05-27T00:39:06.956394",
     "status": "completed"
    },
    "tags": []
   },
   "outputs": [],
   "source": [
    "train_filter = np.where((train_labels == 3 ) | (train_labels == 8))\n",
    "test_filter = np.where((test_labels == 3) | (test_labels == 8))\n",
    "X_train, y_train = train_images[train_filter], train_labels[train_filter]\n",
    "X_test, y_test = test_images[test_filter], test_labels[test_filter]"
   ]
  },
  {
   "cell_type": "markdown",
   "id": "948f0b7e",
   "metadata": {
    "papermill": {
     "duration": 0.036235,
     "end_time": "2022-05-27T00:39:07.096482",
     "exception": false,
     "start_time": "2022-05-27T00:39:07.060247",
     "status": "completed"
    },
    "tags": []
   },
   "source": [
    "We normalize the pizel values in the 0 to 1 range"
   ]
  },
  {
   "cell_type": "code",
   "execution_count": 11,
   "id": "ee4c2166",
   "metadata": {
    "execution": {
     "iopub.execute_input": "2022-05-27T00:39:07.174799Z",
     "iopub.status.busy": "2022-05-27T00:39:07.174012Z",
     "iopub.status.idle": "2022-05-27T00:39:07.241656Z",
     "shell.execute_reply": "2022-05-27T00:39:07.240967Z"
    },
    "papermill": {
     "duration": 0.109307,
     "end_time": "2022-05-27T00:39:07.241805",
     "exception": false,
     "start_time": "2022-05-27T00:39:07.132498",
     "status": "completed"
    },
    "tags": []
   },
   "outputs": [],
   "source": [
    "X_train = X_train/255.\n",
    "X_test = X_test/255."
   ]
  },
  {
   "cell_type": "markdown",
   "id": "ddcf4fab",
   "metadata": {
    "papermill": {
     "duration": 0.034941,
     "end_time": "2022-05-27T00:39:07.316682",
     "exception": false,
     "start_time": "2022-05-27T00:39:07.281741",
     "status": "completed"
    },
    "tags": []
   },
   "source": [
    "And setup the labels as 1 (when the digit is 3) and 0 (when the digit is 8)"
   ]
  },
  {
   "cell_type": "code",
   "execution_count": 12,
   "id": "7dc908f2",
   "metadata": {
    "execution": {
     "iopub.execute_input": "2022-05-27T00:39:07.396136Z",
     "iopub.status.busy": "2022-05-27T00:39:07.395360Z",
     "iopub.status.idle": "2022-05-27T00:39:07.411264Z",
     "shell.execute_reply": "2022-05-27T00:39:07.410518Z"
    },
    "papermill": {
     "duration": 0.059405,
     "end_time": "2022-05-27T00:39:07.411433",
     "exception": false,
     "start_time": "2022-05-27T00:39:07.352028",
     "status": "completed"
    },
    "tags": []
   },
   "outputs": [],
   "source": [
    "y_train = 1*(y_train==3)\n",
    "y_test = 1*(y_test==3)"
   ]
  },
  {
   "cell_type": "code",
   "execution_count": 13,
   "id": "01e4e969",
   "metadata": {
    "execution": {
     "iopub.execute_input": "2022-05-27T00:39:07.491052Z",
     "iopub.status.busy": "2022-05-27T00:39:07.490274Z",
     "iopub.status.idle": "2022-05-27T00:39:07.508977Z",
     "shell.execute_reply": "2022-05-27T00:39:07.508321Z"
    },
    "papermill": {
     "duration": 0.059986,
     "end_time": "2022-05-27T00:39:07.509129",
     "exception": false,
     "start_time": "2022-05-27T00:39:07.449143",
     "status": "completed"
    },
    "tags": []
   },
   "outputs": [
    {
     "data": {
      "text/plain": [
       "((11982, 28, 28), (1984, 28, 28))"
      ]
     },
     "execution_count": 13,
     "metadata": {},
     "output_type": "execute_result"
    }
   ],
   "source": [
    "X_train.shape, X_test.shape"
   ]
  },
  {
   "cell_type": "markdown",
   "id": "5ccf3f85",
   "metadata": {
    "papermill": {
     "duration": 0.03677,
     "end_time": "2022-05-27T00:39:07.582263",
     "exception": false,
     "start_time": "2022-05-27T00:39:07.545493",
     "status": "completed"
    },
    "tags": []
   },
   "source": [
    "We reshape the data to flatten the image pixels into a set of features or co-variates:"
   ]
  },
  {
   "cell_type": "code",
   "execution_count": 14,
   "id": "5286a4a3",
   "metadata": {
    "execution": {
     "iopub.execute_input": "2022-05-27T00:39:07.665143Z",
     "iopub.status.busy": "2022-05-27T00:39:07.662429Z",
     "iopub.status.idle": "2022-05-27T00:39:07.680992Z",
     "shell.execute_reply": "2022-05-27T00:39:07.680361Z"
    },
    "papermill": {
     "duration": 0.061753,
     "end_time": "2022-05-27T00:39:07.681143",
     "exception": false,
     "start_time": "2022-05-27T00:39:07.619390",
     "status": "completed"
    },
    "tags": []
   },
   "outputs": [
    {
     "data": {
      "text/plain": [
       "((11982, 784), (1984, 784))"
      ]
     },
     "execution_count": 14,
     "metadata": {},
     "output_type": "execute_result"
    }
   ],
   "source": [
    "X_train = X_train.reshape(X_train.shape[0], -1)\n",
    "X_test = X_test.reshape(X_test.shape[0], -1)\n",
    "X_train.shape, X_test.shape"
   ]
  },
  {
   "cell_type": "code",
   "execution_count": 15,
   "id": "73c5f88a",
   "metadata": {
    "execution": {
     "iopub.execute_input": "2022-05-27T00:39:07.763291Z",
     "iopub.status.busy": "2022-05-27T00:39:07.762428Z",
     "iopub.status.idle": "2022-05-27T00:39:07.786455Z",
     "shell.execute_reply": "2022-05-27T00:39:07.785687Z"
    },
    "papermill": {
     "duration": 0.067923,
     "end_time": "2022-05-27T00:39:07.786599",
     "exception": false,
     "start_time": "2022-05-27T00:39:07.718676",
     "status": "completed"
    },
    "tags": []
   },
   "outputs": [],
   "source": [
    "#Impoting functions from 'Kudzu'\n",
    "from kudzu.model import Model\n",
    "from kudzu.train import Learner\n",
    "from kudzu.optim import GD\n",
    "from kudzu.data import Data, Sampler,Dataloader\n",
    "\n",
    "from kudzu.callbacks import AccCallback\n",
    "from kudzu.callbacks import ClfCallback\n",
    "\n",
    "from kudzu.loss import MSE\n",
    "\n",
    "from kudzu.layer import Sigmoid,Relu\n",
    "from kudzu.layer import Affine"
   ]
  },
  {
   "cell_type": "markdown",
   "id": "bc01172a",
   "metadata": {
    "papermill": {
     "duration": 0.03554,
     "end_time": "2022-05-27T00:39:07.858813",
     "exception": false,
     "start_time": "2022-05-27T00:39:07.823273",
     "status": "completed"
    },
    "tags": []
   },
   "source": [
    "### Let us create a `Config` class, to store important parameters. \n",
    "This class essentially plays the role of a dictionary."
   ]
  },
  {
   "cell_type": "code",
   "execution_count": 16,
   "id": "978281aa",
   "metadata": {
    "execution": {
     "iopub.execute_input": "2022-05-27T00:39:07.947388Z",
     "iopub.status.busy": "2022-05-27T00:39:07.945597Z",
     "iopub.status.idle": "2022-05-27T00:39:07.961593Z",
     "shell.execute_reply": "2022-05-27T00:39:07.960921Z"
    },
    "papermill": {
     "duration": 0.062629,
     "end_time": "2022-05-27T00:39:07.961749",
     "exception": false,
     "start_time": "2022-05-27T00:39:07.899120",
     "status": "completed"
    },
    "tags": []
   },
   "outputs": [],
   "source": [
    "class Config:\n",
    "    pass\n",
    "config = Config()\n",
    "config.lr = 0.001\n",
    "config.num_epochs = 250\n",
    "config.bs = 50"
   ]
  },
  {
   "cell_type": "markdown",
   "id": "1385fa59",
   "metadata": {
    "papermill": {
     "duration": 0.041558,
     "end_time": "2022-05-27T00:39:08.044699",
     "exception": false,
     "start_time": "2022-05-27T00:39:08.003141",
     "status": "completed"
    },
    "tags": []
   },
   "source": [
    "### Running Models with the Training data\n",
    "Details about the network layers:\n",
    "- A first affine layer has 784 inputs and does 100 affine transforms. These are followed by a Relu\n",
    "- A second affine layer has 100 inputs from the 100 activations of the past layer, and does 100 affine transforms. These are followed by a Relu\n",
    "- A third affine layer has 100 activations and does 2 affine transformations to create an embedding for visualization. There is no non-linearity here.\n",
    "- A final \"logistic regression\" which has an affine transform from 2 inputs to 1 output, which is squeezed through a sigmoid.\n"
   ]
  },
  {
   "cell_type": "code",
   "execution_count": 17,
   "id": "2b9c66db",
   "metadata": {
    "execution": {
     "iopub.execute_input": "2022-05-27T00:39:08.132786Z",
     "iopub.status.busy": "2022-05-27T00:39:08.131978Z",
     "iopub.status.idle": "2022-05-27T00:39:08.148316Z",
     "shell.execute_reply": "2022-05-27T00:39:08.147623Z"
    },
    "papermill": {
     "duration": 0.062401,
     "end_time": "2022-05-27T00:39:08.148478",
     "exception": false,
     "start_time": "2022-05-27T00:39:08.086077",
     "status": "completed"
    },
    "tags": []
   },
   "outputs": [],
   "source": [
    "data = Data(X_train, y_train.reshape(-1,1))\n",
    "sampler = Sampler(data, config.bs, shuffle=True)\n",
    "\n",
    "dl = Dataloader(data, sampler)\n",
    "\n",
    "opt = GD(config.lr)\n",
    "loss = MSE()"
   ]
  },
  {
   "cell_type": "code",
   "execution_count": 18,
   "id": "b275e4c2",
   "metadata": {
    "execution": {
     "iopub.execute_input": "2022-05-27T00:39:08.236656Z",
     "iopub.status.busy": "2022-05-27T00:39:08.235856Z",
     "iopub.status.idle": "2022-05-27T00:39:08.250475Z",
     "shell.execute_reply": "2022-05-27T00:39:08.249793Z"
    },
    "papermill": {
     "duration": 0.058725,
     "end_time": "2022-05-27T00:39:08.250626",
     "exception": false,
     "start_time": "2022-05-27T00:39:08.191901",
     "status": "completed"
    },
    "tags": []
   },
   "outputs": [],
   "source": [
    "training_data_x = X_train\n",
    "testing_data_x = X_test\n",
    "training_data_y = y_train.reshape(-1,1)\n",
    "testing_data_y = y_test.reshape(-1,1)"
   ]
  },
  {
   "cell_type": "code",
   "execution_count": 19,
   "id": "76951160",
   "metadata": {
    "execution": {
     "iopub.execute_input": "2022-05-27T00:39:08.331958Z",
     "iopub.status.busy": "2022-05-27T00:39:08.331182Z",
     "iopub.status.idle": "2022-05-27T00:39:08.356141Z",
     "shell.execute_reply": "2022-05-27T00:39:08.356744Z"
    },
    "papermill": {
     "duration": 0.067688,
     "end_time": "2022-05-27T00:39:08.356958",
     "exception": false,
     "start_time": "2022-05-27T00:39:08.289270",
     "status": "completed"
    },
    "tags": []
   },
   "outputs": [
    {
     "name": "stdout",
     "output_type": "stream",
     "text": [
      "xavier\n",
      "xavier\n",
      "xavier\n",
      "xavier\n",
      "xavier\n"
     ]
    }
   ],
   "source": [
    "layers = [Affine(\"first\", 784, 100), Relu(\"first\"), Affine(\"second\", 100, 100), Relu(\"second\"), Affine(\"third\", 100, 2), Affine(\"last\", 2, 1), Sigmoid(\"last\")]\n",
    "model_nn = Model(layers)\n",
    "model_lr = Model([Affine(\"logits\", 784, 1), Sigmoid(\"sigmoid\")])"
   ]
  },
  {
   "cell_type": "code",
   "execution_count": 20,
   "id": "6eede77a",
   "metadata": {
    "execution": {
     "iopub.execute_input": "2022-05-27T00:39:08.439122Z",
     "iopub.status.busy": "2022-05-27T00:39:08.438383Z",
     "iopub.status.idle": "2022-05-27T00:39:08.457469Z",
     "shell.execute_reply": "2022-05-27T00:39:08.456754Z"
    },
    "papermill": {
     "duration": 0.061469,
     "end_time": "2022-05-27T00:39:08.457638",
     "exception": false,
     "start_time": "2022-05-27T00:39:08.396169",
     "status": "completed"
    },
    "tags": []
   },
   "outputs": [],
   "source": [
    "nn_learner = Learner(loss, model_nn, opt, config.num_epochs)\n",
    "acc_nn = ClfCallback(nn_learner, config.bs, training_data_x , testing_data_x, training_data_y, testing_data_y)\n",
    "nn_learner.set_callbacks([acc_nn])"
   ]
  },
  {
   "cell_type": "code",
   "execution_count": 21,
   "id": "877b6cc7",
   "metadata": {
    "execution": {
     "iopub.execute_input": "2022-05-27T00:39:08.536690Z",
     "iopub.status.busy": "2022-05-27T00:39:08.535996Z",
     "iopub.status.idle": "2022-05-27T00:39:08.551447Z",
     "shell.execute_reply": "2022-05-27T00:39:08.550553Z"
    },
    "papermill": {
     "duration": 0.057626,
     "end_time": "2022-05-27T00:39:08.551592",
     "exception": false,
     "start_time": "2022-05-27T00:39:08.493966",
     "status": "completed"
    },
    "tags": []
   },
   "outputs": [],
   "source": [
    "lr_learner = Learner(loss, model_lr, opt, config.num_epochs)\n",
    "acc_lr = ClfCallback(lr_learner, config.bs, training_data_x , testing_data_x, training_data_y, testing_data_y)\n",
    "lr_learner.set_callbacks([acc_lr])"
   ]
  },
  {
   "cell_type": "code",
   "execution_count": 22,
   "id": "d9b133c3",
   "metadata": {
    "execution": {
     "iopub.execute_input": "2022-05-27T00:39:08.629528Z",
     "iopub.status.busy": "2022-05-27T00:39:08.628691Z",
     "iopub.status.idle": "2022-05-27T00:41:35.784833Z",
     "shell.execute_reply": "2022-05-27T00:41:35.786356Z"
    },
    "papermill": {
     "duration": 147.198518,
     "end_time": "2022-05-27T00:41:35.786569",
     "exception": false,
     "start_time": "2022-05-27T00:39:08.588051",
     "status": "completed"
    },
    "tags": []
   },
   "outputs": [
    {
     "name": "stdout",
     "output_type": "stream",
     "text": [
      "Epoch 0, Loss 0.2495\n",
      "Training Accuracy: 0.5549, Testing Accuracy: 0.5418\n",
      "\n"
     ]
    },
    {
     "name": "stdout",
     "output_type": "stream",
     "text": [
      "Epoch 10, Loss 0.1013\n",
      "Training Accuracy: 0.9190, Testing Accuracy: 0.9320\n",
      "\n"
     ]
    },
    {
     "name": "stdout",
     "output_type": "stream",
     "text": [
      "Epoch 20, Loss 0.0579\n",
      "Training Accuracy: 0.9398, Testing Accuracy: 0.9551\n",
      "\n"
     ]
    },
    {
     "name": "stdout",
     "output_type": "stream",
     "text": [
      "Epoch 30, Loss 0.0446\n",
      "Training Accuracy: 0.9519, Testing Accuracy: 0.9647\n",
      "\n"
     ]
    },
    {
     "name": "stdout",
     "output_type": "stream",
     "text": [
      "Epoch 40, Loss 0.0383\n",
      "Training Accuracy: 0.9570, Testing Accuracy: 0.9657\n",
      "\n"
     ]
    },
    {
     "name": "stdout",
     "output_type": "stream",
     "text": [
      "Epoch 50, Loss 0.0347\n",
      "Training Accuracy: 0.9608, Testing Accuracy: 0.9677\n",
      "\n"
     ]
    },
    {
     "name": "stdout",
     "output_type": "stream",
     "text": [
      "Epoch 60, Loss 0.0323\n",
      "Training Accuracy: 0.9629, Testing Accuracy: 0.9688\n",
      "\n"
     ]
    },
    {
     "name": "stdout",
     "output_type": "stream",
     "text": [
      "Epoch 70, Loss 0.0304\n",
      "Training Accuracy: 0.9649, Testing Accuracy: 0.9693\n",
      "\n"
     ]
    },
    {
     "name": "stdout",
     "output_type": "stream",
     "text": [
      "Epoch 80, Loss 0.029\n",
      "Training Accuracy: 0.9663, Testing Accuracy: 0.9688\n",
      "\n"
     ]
    },
    {
     "name": "stdout",
     "output_type": "stream",
     "text": [
      "Epoch 90, Loss 0.0278\n",
      "Training Accuracy: 0.9672, Testing Accuracy: 0.9703\n",
      "\n"
     ]
    },
    {
     "name": "stdout",
     "output_type": "stream",
     "text": [
      "Epoch 100, Loss 0.0268\n",
      "Training Accuracy: 0.9680, Testing Accuracy: 0.9713\n",
      "\n"
     ]
    },
    {
     "name": "stdout",
     "output_type": "stream",
     "text": [
      "Epoch 110, Loss 0.0259\n",
      "Training Accuracy: 0.9696, Testing Accuracy: 0.9688\n",
      "\n"
     ]
    },
    {
     "name": "stdout",
     "output_type": "stream",
     "text": [
      "Epoch 120, Loss 0.0251\n",
      "Training Accuracy: 0.9706, Testing Accuracy: 0.9698\n",
      "\n"
     ]
    },
    {
     "name": "stdout",
     "output_type": "stream",
     "text": [
      "Epoch 130, Loss 0.0244\n",
      "Training Accuracy: 0.9716, Testing Accuracy: 0.9708\n",
      "\n"
     ]
    },
    {
     "name": "stdout",
     "output_type": "stream",
     "text": [
      "Epoch 140, Loss 0.0237\n",
      "Training Accuracy: 0.9726, Testing Accuracy: 0.9698\n",
      "\n"
     ]
    },
    {
     "name": "stdout",
     "output_type": "stream",
     "text": [
      "Epoch 150, Loss 0.0231\n",
      "Training Accuracy: 0.9732, Testing Accuracy: 0.9718\n",
      "\n"
     ]
    },
    {
     "name": "stdout",
     "output_type": "stream",
     "text": [
      "Epoch 160, Loss 0.0226\n",
      "Training Accuracy: 0.9740, Testing Accuracy: 0.9718\n",
      "\n"
     ]
    },
    {
     "name": "stdout",
     "output_type": "stream",
     "text": [
      "Epoch 170, Loss 0.0221\n",
      "Training Accuracy: 0.9744, Testing Accuracy: 0.9723\n",
      "\n"
     ]
    },
    {
     "name": "stdout",
     "output_type": "stream",
     "text": [
      "Epoch 180, Loss 0.0216\n",
      "Training Accuracy: 0.9750, Testing Accuracy: 0.9723\n",
      "\n"
     ]
    },
    {
     "name": "stdout",
     "output_type": "stream",
     "text": [
      "Epoch 190, Loss 0.0212\n",
      "Training Accuracy: 0.9755, Testing Accuracy: 0.9723\n",
      "\n"
     ]
    },
    {
     "name": "stdout",
     "output_type": "stream",
     "text": [
      "Epoch 200, Loss 0.0207\n",
      "Training Accuracy: 0.9759, Testing Accuracy: 0.9733\n",
      "\n"
     ]
    },
    {
     "name": "stdout",
     "output_type": "stream",
     "text": [
      "Epoch 210, Loss 0.0203\n",
      "Training Accuracy: 0.9764, Testing Accuracy: 0.9733\n",
      "\n"
     ]
    },
    {
     "name": "stdout",
     "output_type": "stream",
     "text": [
      "Epoch 220, Loss 0.0199\n",
      "Training Accuracy: 0.9772, Testing Accuracy: 0.9728\n",
      "\n"
     ]
    },
    {
     "name": "stdout",
     "output_type": "stream",
     "text": [
      "Epoch 230, Loss 0.0196\n",
      "Training Accuracy: 0.9778, Testing Accuracy: 0.9733\n",
      "\n"
     ]
    },
    {
     "name": "stdout",
     "output_type": "stream",
     "text": [
      "Epoch 240, Loss 0.0192\n",
      "Training Accuracy: 0.9781, Testing Accuracy: 0.9738\n",
      "\n"
     ]
    },
    {
     "data": {
      "text/plain": [
       "0.004352083127448493"
      ]
     },
     "execution_count": 22,
     "metadata": {},
     "output_type": "execute_result"
    }
   ],
   "source": [
    "nn_learner.train_loop(dl)"
   ]
  },
  {
   "cell_type": "code",
   "execution_count": 23,
   "id": "e0163366",
   "metadata": {
    "execution": {
     "iopub.execute_input": "2022-05-27T00:41:35.894921Z",
     "iopub.status.busy": "2022-05-27T00:41:35.894094Z",
     "iopub.status.idle": "2022-05-27T00:41:56.785025Z",
     "shell.execute_reply": "2022-05-27T00:41:56.786084Z"
    },
    "papermill": {
     "duration": 20.953346,
     "end_time": "2022-05-27T00:41:56.786256",
     "exception": false,
     "start_time": "2022-05-27T00:41:35.832910",
     "status": "completed"
    },
    "tags": []
   },
   "outputs": [
    {
     "name": "stdout",
     "output_type": "stream",
     "text": [
      "Epoch 0, Loss 0.2126\n",
      "Training Accuracy: 0.7754, Testing Accuracy: 0.7959\n",
      "\n"
     ]
    },
    {
     "name": "stdout",
     "output_type": "stream",
     "text": [
      "Epoch 10, Loss 0.1013\n",
      "Training Accuracy: 0.9075, Testing Accuracy: 0.9214\n",
      "\n"
     ]
    },
    {
     "name": "stdout",
     "output_type": "stream",
     "text": [
      "Epoch 20, Loss 0.0791\n",
      "Training Accuracy: 0.9256, Testing Accuracy: 0.9380\n",
      "\n"
     ]
    },
    {
     "name": "stdout",
     "output_type": "stream",
     "text": [
      "Epoch 30, Loss 0.0683\n",
      "Training Accuracy: 0.9352, Testing Accuracy: 0.9501\n",
      "\n"
     ]
    },
    {
     "name": "stdout",
     "output_type": "stream",
     "text": [
      "Epoch 40, Loss 0.0618\n",
      "Training Accuracy: 0.9402, Testing Accuracy: 0.9531\n",
      "\n"
     ]
    },
    {
     "name": "stdout",
     "output_type": "stream",
     "text": [
      "Epoch 50, Loss 0.0572\n",
      "Training Accuracy: 0.9452, Testing Accuracy: 0.9541\n",
      "\n"
     ]
    },
    {
     "name": "stdout",
     "output_type": "stream",
     "text": [
      "Epoch 60, Loss 0.0539\n",
      "Training Accuracy: 0.9478, Testing Accuracy: 0.9556\n",
      "\n"
     ]
    },
    {
     "name": "stdout",
     "output_type": "stream",
     "text": [
      "Epoch 70, Loss 0.0513\n",
      "Training Accuracy: 0.9503, Testing Accuracy: 0.9577\n",
      "\n"
     ]
    },
    {
     "name": "stdout",
     "output_type": "stream",
     "text": [
      "Epoch 80, Loss 0.0493\n",
      "Training Accuracy: 0.9519, Testing Accuracy: 0.9587\n",
      "\n"
     ]
    },
    {
     "name": "stdout",
     "output_type": "stream",
     "text": [
      "Epoch 90, Loss 0.0475\n",
      "Training Accuracy: 0.9533, Testing Accuracy: 0.9607\n",
      "\n"
     ]
    },
    {
     "name": "stdout",
     "output_type": "stream",
     "text": [
      "Epoch 100, Loss 0.0461\n",
      "Training Accuracy: 0.9540, Testing Accuracy: 0.9622\n",
      "\n"
     ]
    },
    {
     "name": "stdout",
     "output_type": "stream",
     "text": [
      "Epoch 110, Loss 0.0449\n",
      "Training Accuracy: 0.9552, Testing Accuracy: 0.9617\n",
      "\n"
     ]
    },
    {
     "name": "stdout",
     "output_type": "stream",
     "text": [
      "Epoch 120, Loss 0.0438\n",
      "Training Accuracy: 0.9559, Testing Accuracy: 0.9632\n",
      "\n"
     ]
    },
    {
     "name": "stdout",
     "output_type": "stream",
     "text": [
      "Epoch 130, Loss 0.0429\n",
      "Training Accuracy: 0.9564, Testing Accuracy: 0.9647\n",
      "\n"
     ]
    },
    {
     "name": "stdout",
     "output_type": "stream",
     "text": [
      "Epoch 140, Loss 0.042\n",
      "Training Accuracy: 0.9570, Testing Accuracy: 0.9652\n",
      "\n"
     ]
    },
    {
     "name": "stdout",
     "output_type": "stream",
     "text": [
      "Epoch 150, Loss 0.0413\n",
      "Training Accuracy: 0.9574, Testing Accuracy: 0.9647\n",
      "\n"
     ]
    },
    {
     "name": "stdout",
     "output_type": "stream",
     "text": [
      "Epoch 160, Loss 0.0406\n",
      "Training Accuracy: 0.9584, Testing Accuracy: 0.9647\n",
      "\n"
     ]
    },
    {
     "name": "stdout",
     "output_type": "stream",
     "text": [
      "Epoch 170, Loss 0.04\n",
      "Training Accuracy: 0.9586, Testing Accuracy: 0.9647\n",
      "\n"
     ]
    },
    {
     "name": "stdout",
     "output_type": "stream",
     "text": [
      "Epoch 180, Loss 0.0394\n",
      "Training Accuracy: 0.9591, Testing Accuracy: 0.9647\n",
      "\n"
     ]
    },
    {
     "name": "stdout",
     "output_type": "stream",
     "text": [
      "Epoch 190, Loss 0.0389\n",
      "Training Accuracy: 0.9599, Testing Accuracy: 0.9652\n",
      "\n"
     ]
    },
    {
     "name": "stdout",
     "output_type": "stream",
     "text": [
      "Epoch 200, Loss 0.0384\n",
      "Training Accuracy: 0.9606, Testing Accuracy: 0.9652\n",
      "\n"
     ]
    },
    {
     "name": "stdout",
     "output_type": "stream",
     "text": [
      "Epoch 210, Loss 0.038\n",
      "Training Accuracy: 0.9611, Testing Accuracy: 0.9652\n",
      "\n"
     ]
    },
    {
     "name": "stdout",
     "output_type": "stream",
     "text": [
      "Epoch 220, Loss 0.0376\n",
      "Training Accuracy: 0.9613, Testing Accuracy: 0.9652\n",
      "\n"
     ]
    },
    {
     "name": "stdout",
     "output_type": "stream",
     "text": [
      "Epoch 230, Loss 0.0372\n",
      "Training Accuracy: 0.9618, Testing Accuracy: 0.9657\n",
      "\n"
     ]
    },
    {
     "name": "stdout",
     "output_type": "stream",
     "text": [
      "Epoch 240, Loss 0.0368\n",
      "Training Accuracy: 0.9623, Testing Accuracy: 0.9657\n",
      "\n"
     ]
    },
    {
     "data": {
      "text/plain": [
       "0.015606605372584202"
      ]
     },
     "execution_count": 23,
     "metadata": {},
     "output_type": "execute_result"
    }
   ],
   "source": [
    "lr_learner.train_loop(dl)"
   ]
  },
  {
   "cell_type": "code",
   "execution_count": 24,
   "id": "ca410940",
   "metadata": {
    "execution": {
     "iopub.execute_input": "2022-05-27T00:41:56.914241Z",
     "iopub.status.busy": "2022-05-27T00:41:56.913370Z",
     "iopub.status.idle": "2022-05-27T00:41:57.224773Z",
     "shell.execute_reply": "2022-05-27T00:41:57.224115Z"
    },
    "papermill": {
     "duration": 0.376858,
     "end_time": "2022-05-27T00:41:57.225014",
     "exception": false,
     "start_time": "2022-05-27T00:41:56.848156",
     "status": "completed"
    },
    "tags": []
   },
   "outputs": [
    {
     "data": {
      "text/plain": [
       "<matplotlib.legend.Legend at 0x7fd52c407588>"
      ]
     },
     "execution_count": 24,
     "metadata": {},
     "output_type": "execute_result"
    },
    {
     "data": {
      "image/png": "[encoded data removed]",
      "text/plain": [
       "<Figure size 1080x720 with 1 Axes>"
      ]
     },
     "metadata": {
      "needs_background": "light"
     },
     "output_type": "display_data"
    }
   ],
   "source": [
    "#comparing the results of NN and LR\n",
    "plt.figure(figsize=(15,10))\n",
    "\n",
    "# Neural Network plots\n",
    "plt.plot(acc_nn.accuracies, 'r-', label = \"Training Accuracies - NN\")\n",
    "plt.plot(acc_nn.test_accuracies, 'g-', label = \"Testing Accuracies - NN\")\n",
    "\n",
    "# Logistic Regression plots\n",
    "plt.plot(acc_lr.accuracies, 'k-', label = \"Training Accuracies - LR\")\n",
    "plt.plot(acc_lr.test_accuracies, 'b-', label = \"Testing Accuracies - LR\")\n",
    "plt.legend()"
   ]
  },
  {
   "cell_type": "markdown",
   "id": "80dfb35c",
   "metadata": {
    "papermill": {
     "duration": 0.05578,
     "end_time": "2022-05-27T00:41:57.340299",
     "exception": false,
     "start_time": "2022-05-27T00:41:57.284519",
     "status": "completed"
    },
    "tags": []
   },
   "source": [
    "#### Plotting the outputs of this layer of the NN.\n"
   ]
  },
  {
   "cell_type": "code",
   "execution_count": 25,
   "id": "45eb2ff5",
   "metadata": {
    "execution": {
     "iopub.execute_input": "2022-05-27T00:41:57.460627Z",
     "iopub.status.busy": "2022-05-27T00:41:57.459844Z",
     "iopub.status.idle": "2022-05-27T00:41:57.492745Z",
     "shell.execute_reply": "2022-05-27T00:41:57.490622Z"
    },
    "papermill": {
     "duration": 0.094466,
     "end_time": "2022-05-27T00:41:57.492937",
     "exception": false,
     "start_time": "2022-05-27T00:41:57.398471",
     "status": "completed"
    },
    "tags": []
   },
   "outputs": [],
   "source": [
    "new_model = Model(layers[:-2])\n",
    "testing_plot = new_model(testing_data_x)"
   ]
  },
  {
   "cell_type": "code",
   "execution_count": 26,
   "id": "4c0a5485",
   "metadata": {
    "execution": {
     "iopub.execute_input": "2022-05-27T00:41:57.615503Z",
     "iopub.status.busy": "2022-05-27T00:41:57.614744Z",
     "iopub.status.idle": "2022-05-27T00:41:57.891347Z",
     "shell.execute_reply": "2022-05-27T00:41:57.890679Z"
    },
    "papermill": {
     "duration": 0.340778,
     "end_time": "2022-05-27T00:41:57.891498",
     "exception": false,
     "start_time": "2022-05-27T00:41:57.550720",
     "status": "completed"
    },
    "tags": []
   },
   "outputs": [
    {
     "data": {
      "text/plain": [
       "Text(0.5, 1.0, 'Outputs')"
      ]
     },
     "execution_count": 26,
     "metadata": {},
     "output_type": "execute_result"
    },
    {
     "data": {
      "image/png": "[encoded data removed]",
      "text/plain": [
       "<Figure size 576x504 with 1 Axes>"
      ]
     },
     "metadata": {
      "needs_background": "light"
     },
     "output_type": "display_data"
    }
   ],
   "source": [
    "# Plotting the scatter plot of points and color coding by class\n",
    "plt.figure(figsize=(8,7))\n",
    "plt.scatter(testing_plot[:,0], testing_plot[:,1], alpha = 0.1, c = y_test.ravel());\n",
    "plt.title('Outputs')"
   ]
  },
  {
   "cell_type": "markdown",
   "id": "a74fcf8f",
   "metadata": {
    "papermill": {
     "duration": 0.095003,
     "end_time": "2022-05-27T00:41:58.047124",
     "exception": false,
     "start_time": "2022-05-27T00:41:57.952121",
     "status": "completed"
    },
    "tags": []
   },
   "source": [
    "Probability contours"
   ]
  },
  {
   "cell_type": "code",
   "execution_count": 27,
   "id": "d0afc8e3",
   "metadata": {
    "execution": {
     "iopub.execute_input": "2022-05-27T00:41:58.177554Z",
     "iopub.status.busy": "2022-05-27T00:41:58.176722Z",
     "iopub.status.idle": "2022-05-27T00:41:58.192198Z",
     "shell.execute_reply": "2022-05-27T00:41:58.191410Z"
    },
    "papermill": {
     "duration": 0.083882,
     "end_time": "2022-05-27T00:41:58.192358",
     "exception": false,
     "start_time": "2022-05-27T00:41:58.108476",
     "status": "completed"
    },
    "tags": []
   },
   "outputs": [],
   "source": [
    "model_prob = Model(layers[-2:]) "
   ]
  },
  {
   "cell_type": "code",
   "execution_count": 28,
   "id": "9b96e238",
   "metadata": {
    "execution": {
     "iopub.execute_input": "2022-05-27T00:41:58.319086Z",
     "iopub.status.busy": "2022-05-27T00:41:58.318147Z",
     "iopub.status.idle": "2022-05-27T00:41:58.333510Z",
     "shell.execute_reply": "2022-05-27T00:41:58.334136Z"
    },
    "papermill": {
     "duration": 0.082291,
     "end_time": "2022-05-27T00:41:58.334330",
     "exception": false,
     "start_time": "2022-05-27T00:41:58.252039",
     "status": "completed"
    },
    "tags": []
   },
   "outputs": [],
   "source": [
    "#creating the x and y ranges according to the above generated plot.\n",
    "x_range = np.linspace(-4, 1, 100) \n",
    "y_range = np.linspace(-6, 6, 100) \n",
    "x_grid, y_grid = np.meshgrid(x_range, y_range) # x_grid and y_grig are of size 100 X 100\n",
    "\n",
    "# converting x_grid and y_grid to continuous arrays\n",
    "x_gridflat = np.ravel(x_grid)\n",
    "y_gridflat = np.ravel(y_grid)\n",
    "\n",
    "# The last layer of the current model takes two columns as input. Hence transpose of np.vstack() is required.\n",
    "X = np.vstack((x_gridflat, y_gridflat)).T\n",
    "\n",
    "prob_contour = model_prob(X).reshape(100,100) "
   ]
  },
  {
   "cell_type": "code",
   "execution_count": 29,
   "id": "da72499a",
   "metadata": {
    "execution": {
     "iopub.execute_input": "2022-05-27T00:41:58.464656Z",
     "iopub.status.busy": "2022-05-27T00:41:58.463743Z",
     "iopub.status.idle": "2022-05-27T00:41:58.809168Z",
     "shell.execute_reply": "2022-05-27T00:41:58.809776Z"
    },
    "papermill": {
     "duration": 0.411251,
     "end_time": "2022-05-27T00:41:58.809958",
     "exception": false,
     "start_time": "2022-05-27T00:41:58.398707",
     "status": "completed"
    },
    "tags": []
   },
   "outputs": [
    {
     "data": {
      "image/png": "[encoded data removed]",
      "text/plain": [
       "<Figure size 720x648 with 1 Axes>"
      ]
     },
     "metadata": {
      "needs_background": "light"
     },
     "output_type": "display_data"
    }
   ],
   "source": [
    "plt.figure(figsize=(10,9))\n",
    "plt.scatter(testing_plot[:,0], testing_plot[:,1], alpha = 0.1, c = y_test.ravel())\n",
    "contours = plt.contour(x_grid,y_grid,prob_contour)\n",
    "plt.title('Probability Contours')\n",
    "plt.clabel(contours, inline = True );"
   ]
  },
  {
   "cell_type": "code",
   "execution_count": null,
   "id": "e81b4ac7",
   "metadata": {
    "papermill": {
     "duration": 0.067621,
     "end_time": "2022-05-27T00:41:58.944156",
     "exception": false,
     "start_time": "2022-05-27T00:41:58.876535",
     "status": "completed"
    },
    "tags": []
   },
   "outputs": [],
   "source": []
  }
 ],
 "metadata": {
  "kernelspec": {
   "display_name": "Python 3",
   "language": "python",
   "name": "python3"
  },
  "language_info": {
   "codemirror_mode": {
    "name": "ipython",
    "version": 3
   },
   "file_extension": ".py",
   "mimetype": "text/x-python",
   "name": "python",
   "nbconvert_exporter": "python",
   "pygments_lexer": "ipython3",
   "version": "3.6.15"
  },
  "papermill": {
   "default_parameters": {},
   "duration": 178.842519,
   "end_time": "2022-05-27T00:41:59.427451",
   "environment_variables": {},
   "exception": null,
   "input_path": "2020-08-11-part2.ipynb",
   "output_path": "2020-08-11-part2.ipynb",
   "parameters": {},
   "start_time": "2022-05-27T00:39:00.584932",
   "version": "2.3.3"
  }
 },
 "nbformat": 4,
 "nbformat_minor": 5
}