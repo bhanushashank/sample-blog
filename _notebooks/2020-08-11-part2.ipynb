{
 "cells": [
  {
   "cell_type": "markdown",
   "id": "98380cd3",
   "metadata": {
    "papermill": {
     "duration": 0.030153,
     "end_time": "2022-08-21T00:39:17.699230",
     "exception": false,
     "start_time": "2022-08-21T00:39:17.669077",
     "status": "completed"
    },
    "tags": []
   },
   "source": [
    "# Distinguish Your Own Digits (DYOD)"
   ]
  },
  {
   "cell_type": "markdown",
   "id": "ef31240d",
   "metadata": {
    "papermill": {
     "duration": 0.023663,
     "end_time": "2022-08-21T00:39:17.747324",
     "exception": false,
     "start_time": "2022-08-21T00:39:17.723661",
     "status": "completed"
    },
    "tags": []
   },
   "source": [
    "You are going to write a classifier that distinguishes between the number 3 and number 8."
   ]
  },
  {
   "cell_type": "code",
   "execution_count": 1,
   "id": "b15c8646",
   "metadata": {
    "execution": {
     "iopub.execute_input": "2022-08-21T00:39:17.805930Z",
     "iopub.status.busy": "2022-08-21T00:39:17.805312Z",
     "iopub.status.idle": "2022-08-21T00:39:17.816144Z",
     "shell.execute_reply": "2022-08-21T00:39:17.815641Z"
    },
    "papermill": {
     "duration": 0.045089,
     "end_time": "2022-08-21T00:39:17.816274",
     "exception": false,
     "start_time": "2022-08-21T00:39:17.771185",
     "status": "completed"
    },
    "tags": []
   },
   "outputs": [],
   "source": [
    "%load_ext autoreload\n",
    "%autoreload 2"
   ]
  },
  {
   "cell_type": "code",
   "execution_count": 2,
   "id": "22ef38dc",
   "metadata": {
    "execution": {
     "iopub.execute_input": "2022-08-21T00:39:17.873196Z",
     "iopub.status.busy": "2022-08-21T00:39:17.872606Z",
     "iopub.status.idle": "2022-08-21T00:39:18.401864Z",
     "shell.execute_reply": "2022-08-21T00:39:18.402330Z"
    },
    "papermill": {
     "duration": 0.562375,
     "end_time": "2022-08-21T00:39:18.402482",
     "exception": false,
     "start_time": "2022-08-21T00:39:17.840107",
     "status": "completed"
    },
    "tags": []
   },
   "outputs": [],
   "source": [
    "%matplotlib inline\n",
    "import numpy as np\n",
    "import matplotlib.pyplot as plt\n",
    "import pandas as pd"
   ]
  },
  {
   "cell_type": "markdown",
   "id": "ba036198",
   "metadata": {
    "papermill": {
     "duration": 0.023938,
     "end_time": "2022-08-21T00:39:18.450130",
     "exception": false,
     "start_time": "2022-08-21T00:39:18.426192",
     "status": "completed"
    },
    "tags": []
   },
   "source": [
    "From the command line run `pip install mnist`. This is a library that will help you bring down the mnist dataset. If you run this from a notebook, you need to put  `!pip install mnist` in a cell by itself."
   ]
  },
  {
   "cell_type": "code",
   "execution_count": 3,
   "id": "bb6ad8a1",
   "metadata": {
    "execution": {
     "iopub.execute_input": "2022-08-21T00:39:18.520474Z",
     "iopub.status.busy": "2022-08-21T00:39:18.516546Z",
     "iopub.status.idle": "2022-08-21T00:39:20.104758Z",
     "shell.execute_reply": "2022-08-21T00:39:20.103871Z"
    },
    "papermill": {
     "duration": 1.630709,
     "end_time": "2022-08-21T00:39:20.104899",
     "exception": false,
     "start_time": "2022-08-21T00:39:18.474190",
     "status": "completed"
    },
    "tags": []
   },
   "outputs": [
    {
     "name": "stdout",
     "output_type": "stream",
     "text": [
      "Collecting mnist\r\n"
     ]
    },
    {
     "name": "stdout",
     "output_type": "stream",
     "text": [
      "  Downloading mnist-0.2.2-py2.py3-none-any.whl (3.5 kB)\r\n",
      "Requirement already satisfied: numpy in /opt/hostedtoolcache/Python/3.6.15/x64/lib/python3.6/site-packages (from mnist) (1.19.5)\r\n"
     ]
    },
    {
     "name": "stdout",
     "output_type": "stream",
     "text": [
      "Installing collected packages: mnist\r\n",
      "Successfully installed mnist-0.2.2\r\n"
     ]
    }
   ],
   "source": [
    "!pip install mnist"
   ]
  },
  {
   "cell_type": "markdown",
   "id": "69df9c9a",
   "metadata": {
    "papermill": {
     "duration": 0.024973,
     "end_time": "2022-08-21T00:39:20.155027",
     "exception": false,
     "start_time": "2022-08-21T00:39:20.130054",
     "status": "completed"
    },
    "tags": []
   },
   "source": [
    "## Preparing the Data"
   ]
  },
  {
   "cell_type": "code",
   "execution_count": 4,
   "id": "7f69d806",
   "metadata": {
    "execution": {
     "iopub.execute_input": "2022-08-21T00:39:20.214798Z",
     "iopub.status.busy": "2022-08-21T00:39:20.214179Z",
     "iopub.status.idle": "2022-08-21T00:39:20.226371Z",
     "shell.execute_reply": "2022-08-21T00:39:20.225896Z"
    },
    "papermill": {
     "duration": 0.046844,
     "end_time": "2022-08-21T00:39:20.226485",
     "exception": false,
     "start_time": "2022-08-21T00:39:20.179641",
     "status": "completed"
    },
    "tags": []
   },
   "outputs": [],
   "source": [
    "import mnist"
   ]
  },
  {
   "cell_type": "code",
   "execution_count": 5,
   "id": "a411e44f",
   "metadata": {
    "execution": {
     "iopub.execute_input": "2022-08-21T00:39:20.279851Z",
     "iopub.status.busy": "2022-08-21T00:39:20.279225Z",
     "iopub.status.idle": "2022-08-21T00:39:20.794532Z",
     "shell.execute_reply": "2022-08-21T00:39:20.793328Z"
    },
    "papermill": {
     "duration": 0.543446,
     "end_time": "2022-08-21T00:39:20.794666",
     "exception": false,
     "start_time": "2022-08-21T00:39:20.251220",
     "status": "completed"
    },
    "tags": []
   },
   "outputs": [],
   "source": [
    "train_images = mnist.train_images()\n",
    "train_labels = mnist.train_labels()"
   ]
  },
  {
   "cell_type": "code",
   "execution_count": 6,
   "id": "dceab3a5",
   "metadata": {
    "execution": {
     "iopub.execute_input": "2022-08-21T00:39:20.852146Z",
     "iopub.status.busy": "2022-08-21T00:39:20.847475Z",
     "iopub.status.idle": "2022-08-21T00:39:20.861376Z",
     "shell.execute_reply": "2022-08-21T00:39:20.861848Z"
    },
    "papermill": {
     "duration": 0.042505,
     "end_time": "2022-08-21T00:39:20.861985",
     "exception": false,
     "start_time": "2022-08-21T00:39:20.819480",
     "status": "completed"
    },
    "tags": []
   },
   "outputs": [
    {
     "data": {
      "text/plain": [
       "((60000, 28, 28), (60000,))"
      ]
     },
     "execution_count": 6,
     "metadata": {},
     "output_type": "execute_result"
    }
   ],
   "source": [
    "train_images.shape, train_labels.shape"
   ]
  },
  {
   "cell_type": "code",
   "execution_count": 7,
   "id": "f50dc2bb",
   "metadata": {
    "execution": {
     "iopub.execute_input": "2022-08-21T00:39:20.915160Z",
     "iopub.status.busy": "2022-08-21T00:39:20.914589Z",
     "iopub.status.idle": "2022-08-21T00:39:21.053729Z",
     "shell.execute_reply": "2022-08-21T00:39:21.053210Z"
    },
    "papermill": {
     "duration": 0.167223,
     "end_time": "2022-08-21T00:39:21.053855",
     "exception": false,
     "start_time": "2022-08-21T00:39:20.886632",
     "status": "completed"
    },
    "tags": []
   },
   "outputs": [],
   "source": [
    "test_images = mnist.test_images()\n",
    "test_labels = mnist.test_labels()"
   ]
  },
  {
   "cell_type": "code",
   "execution_count": 8,
   "id": "fc38cf1b",
   "metadata": {
    "execution": {
     "iopub.execute_input": "2022-08-21T00:39:21.123914Z",
     "iopub.status.busy": "2022-08-21T00:39:21.122975Z",
     "iopub.status.idle": "2022-08-21T00:39:21.129690Z",
     "shell.execute_reply": "2022-08-21T00:39:21.128911Z"
    },
    "papermill": {
     "duration": 0.050805,
     "end_time": "2022-08-21T00:39:21.129814",
     "exception": false,
     "start_time": "2022-08-21T00:39:21.079009",
     "status": "completed"
    },
    "tags": []
   },
   "outputs": [
    {
     "data": {
      "text/plain": [
       "((10000, 28, 28), (10000,))"
      ]
     },
     "execution_count": 8,
     "metadata": {},
     "output_type": "execute_result"
    }
   ],
   "source": [
    "test_images.shape, test_labels.shape"
   ]
  },
  {
   "cell_type": "code",
   "execution_count": 9,
   "id": "f9ed8fe0",
   "metadata": {
    "execution": {
     "iopub.execute_input": "2022-08-21T00:39:21.185831Z",
     "iopub.status.busy": "2022-08-21T00:39:21.184063Z",
     "iopub.status.idle": "2022-08-21T00:39:21.323979Z",
     "shell.execute_reply": "2022-08-21T00:39:21.323416Z"
    },
    "papermill": {
     "duration": 0.169074,
     "end_time": "2022-08-21T00:39:21.324124",
     "exception": false,
     "start_time": "2022-08-21T00:39:21.155050",
     "status": "completed"
    },
    "tags": []
   },
   "outputs": [
    {
     "name": "stdout",
     "output_type": "stream",
     "text": [
      "2\n"
     ]
    },
    {
     "data": {
      "text/plain": [
       "<matplotlib.image.AxesImage at 0x7fac0880f9e8>"
      ]
     },
     "execution_count": 9,
     "metadata": {},
     "output_type": "execute_result"
    },
    {
     "data": {
      "image/png": "[encoded data removed]",
      "text/plain": [
       "<Figure size 432x288 with 1 Axes>"
      ]
     },
     "metadata": {
      "needs_background": "light"
     },
     "output_type": "display_data"
    }
   ],
   "source": [
    "image_index = 7776 # You may select anything up to 60,000\n",
    "print(train_labels[image_index]) \n",
    "plt.imshow(train_images[image_index], cmap='Greys')"
   ]
  },
  {
   "cell_type": "markdown",
   "id": "a8d2388d",
   "metadata": {
    "papermill": {
     "duration": 0.026239,
     "end_time": "2022-08-21T00:39:21.377091",
     "exception": false,
     "start_time": "2022-08-21T00:39:21.350852",
     "status": "completed"
    },
    "tags": []
   },
   "source": [
    "## Filter data to get 3 and 8 out"
   ]
  },
  {
   "cell_type": "code",
   "execution_count": 10,
   "id": "776f7fc7",
   "metadata": {
    "execution": {
     "iopub.execute_input": "2022-08-21T00:39:21.434167Z",
     "iopub.status.busy": "2022-08-21T00:39:21.433576Z",
     "iopub.status.idle": "2022-08-21T00:39:21.453388Z",
     "shell.execute_reply": "2022-08-21T00:39:21.452833Z"
    },
    "papermill": {
     "duration": 0.050113,
     "end_time": "2022-08-21T00:39:21.453519",
     "exception": false,
     "start_time": "2022-08-21T00:39:21.403406",
     "status": "completed"
    },
    "tags": []
   },
   "outputs": [],
   "source": [
    "train_filter = np.where((train_labels == 3 ) | (train_labels == 8))\n",
    "test_filter = np.where((test_labels == 3) | (test_labels == 8))\n",
    "X_train, y_train = train_images[train_filter], train_labels[train_filter]\n",
    "X_test, y_test = test_images[test_filter], test_labels[test_filter]"
   ]
  },
  {
   "cell_type": "markdown",
   "id": "948f0b7e",
   "metadata": {
    "papermill": {
     "duration": 0.026393,
     "end_time": "2022-08-21T00:39:21.506997",
     "exception": false,
     "start_time": "2022-08-21T00:39:21.480604",
     "status": "completed"
    },
    "tags": []
   },
   "source": [
    "We normalize the pizel values in the 0 to 1 range"
   ]
  },
  {
   "cell_type": "code",
   "execution_count": 11,
   "id": "ee4c2166",
   "metadata": {
    "execution": {
     "iopub.execute_input": "2022-08-21T00:39:21.576264Z",
     "iopub.status.busy": "2022-08-21T00:39:21.573409Z",
     "iopub.status.idle": "2022-08-21T00:39:21.614502Z",
     "shell.execute_reply": "2022-08-21T00:39:21.613916Z"
    },
    "papermill": {
     "duration": 0.081497,
     "end_time": "2022-08-21T00:39:21.614635",
     "exception": false,
     "start_time": "2022-08-21T00:39:21.533138",
     "status": "completed"
    },
    "tags": []
   },
   "outputs": [],
   "source": [
    "X_train = X_train/255.\n",
    "X_test = X_test/255."
   ]
  },
  {
   "cell_type": "markdown",
   "id": "ddcf4fab",
   "metadata": {
    "papermill": {
     "duration": 0.02631,
     "end_time": "2022-08-21T00:39:21.668343",
     "exception": false,
     "start_time": "2022-08-21T00:39:21.642033",
     "status": "completed"
    },
    "tags": []
   },
   "source": [
    "And setup the labels as 1 (when the digit is 3) and 0 (when the digit is 8)"
   ]
  },
  {
   "cell_type": "code",
   "execution_count": 12,
   "id": "7dc908f2",
   "metadata": {
    "execution": {
     "iopub.execute_input": "2022-08-21T00:39:21.725557Z",
     "iopub.status.busy": "2022-08-21T00:39:21.724950Z",
     "iopub.status.idle": "2022-08-21T00:39:21.736808Z",
     "shell.execute_reply": "2022-08-21T00:39:21.736346Z"
    },
    "papermill": {
     "duration": 0.042268,
     "end_time": "2022-08-21T00:39:21.736923",
     "exception": false,
     "start_time": "2022-08-21T00:39:21.694655",
     "status": "completed"
    },
    "tags": []
   },
   "outputs": [],
   "source": [
    "y_train = 1*(y_train==3)\n",
    "y_test = 1*(y_test==3)"
   ]
  },
  {
   "cell_type": "code",
   "execution_count": 13,
   "id": "01e4e969",
   "metadata": {
    "execution": {
     "iopub.execute_input": "2022-08-21T00:39:21.793076Z",
     "iopub.status.busy": "2022-08-21T00:39:21.792507Z",
     "iopub.status.idle": "2022-08-21T00:39:21.806323Z",
     "shell.execute_reply": "2022-08-21T00:39:21.805852Z"
    },
    "papermill": {
     "duration": 0.043145,
     "end_time": "2022-08-21T00:39:21.806431",
     "exception": false,
     "start_time": "2022-08-21T00:39:21.763286",
     "status": "completed"
    },
    "tags": []
   },
   "outputs": [
    {
     "data": {
      "text/plain": [
       "((11982, 28, 28), (1984, 28, 28))"
      ]
     },
     "execution_count": 13,
     "metadata": {},
     "output_type": "execute_result"
    }
   ],
   "source": [
    "X_train.shape, X_test.shape"
   ]
  },
  {
   "cell_type": "markdown",
   "id": "5ccf3f85",
   "metadata": {
    "papermill": {
     "duration": 0.026281,
     "end_time": "2022-08-21T00:39:21.859039",
     "exception": false,
     "start_time": "2022-08-21T00:39:21.832758",
     "status": "completed"
    },
    "tags": []
   },
   "source": [
    "We reshape the data to flatten the image pixels into a set of features or co-variates:"
   ]
  },
  {
   "cell_type": "code",
   "execution_count": 14,
   "id": "5286a4a3",
   "metadata": {
    "execution": {
     "iopub.execute_input": "2022-08-21T00:39:21.916517Z",
     "iopub.status.busy": "2022-08-21T00:39:21.915916Z",
     "iopub.status.idle": "2022-08-21T00:39:21.929305Z",
     "shell.execute_reply": "2022-08-21T00:39:21.929772Z"
    },
    "papermill": {
     "duration": 0.044379,
     "end_time": "2022-08-21T00:39:21.929899",
     "exception": false,
     "start_time": "2022-08-21T00:39:21.885520",
     "status": "completed"
    },
    "tags": []
   },
   "outputs": [
    {
     "data": {
      "text/plain": [
       "((11982, 784), (1984, 784))"
      ]
     },
     "execution_count": 14,
     "metadata": {},
     "output_type": "execute_result"
    }
   ],
   "source": [
    "X_train = X_train.reshape(X_train.shape[0], -1)\n",
    "X_test = X_test.reshape(X_test.shape[0], -1)\n",
    "X_train.shape, X_test.shape"
   ]
  },
  {
   "cell_type": "code",
   "execution_count": 15,
   "id": "73c5f88a",
   "metadata": {
    "execution": {
     "iopub.execute_input": "2022-08-21T00:39:21.987441Z",
     "iopub.status.busy": "2022-08-21T00:39:21.986831Z",
     "iopub.status.idle": "2022-08-21T00:39:22.005935Z",
     "shell.execute_reply": "2022-08-21T00:39:22.005455Z"
    },
    "papermill": {
     "duration": 0.049692,
     "end_time": "2022-08-21T00:39:22.006046",
     "exception": false,
     "start_time": "2022-08-21T00:39:21.956354",
     "status": "completed"
    },
    "tags": []
   },
   "outputs": [],
   "source": [
    "#Impoting functions from 'Kudzu'\n",
    "from kudzu.model import Model\n",
    "from kudzu.train import Learner\n",
    "from kudzu.optim import GD\n",
    "from kudzu.data import Data, Sampler,Dataloader\n",
    "\n",
    "from kudzu.callbacks import AccCallback\n",
    "from kudzu.callbacks import ClfCallback\n",
    "\n",
    "from kudzu.loss import MSE\n",
    "\n",
    "from kudzu.layer import Sigmoid,Relu\n",
    "from kudzu.layer import Affine"
   ]
  },
  {
   "cell_type": "markdown",
   "id": "bc01172a",
   "metadata": {
    "papermill": {
     "duration": 0.026674,
     "end_time": "2022-08-21T00:39:22.059423",
     "exception": false,
     "start_time": "2022-08-21T00:39:22.032749",
     "status": "completed"
    },
    "tags": []
   },
   "source": [
    "### Let us create a `Config` class, to store important parameters. \n",
    "This class essentially plays the role of a dictionary."
   ]
  },
  {
   "cell_type": "code",
   "execution_count": 16,
   "id": "978281aa",
   "metadata": {
    "execution": {
     "iopub.execute_input": "2022-08-21T00:39:22.117964Z",
     "iopub.status.busy": "2022-08-21T00:39:22.117375Z",
     "iopub.status.idle": "2022-08-21T00:39:22.129480Z",
     "shell.execute_reply": "2022-08-21T00:39:22.129006Z"
    },
    "papermill": {
     "duration": 0.043635,
     "end_time": "2022-08-21T00:39:22.129590",
     "exception": false,
     "start_time": "2022-08-21T00:39:22.085955",
     "status": "completed"
    },
    "tags": []
   },
   "outputs": [],
   "source": [
    "class Config:\n",
    "    pass\n",
    "config = Config()\n",
    "config.lr = 0.001\n",
    "config.num_epochs = 250\n",
    "config.bs = 50"
   ]
  },
  {
   "cell_type": "markdown",
   "id": "1385fa59",
   "metadata": {
    "papermill": {
     "duration": 0.02651,
     "end_time": "2022-08-21T00:39:22.182664",
     "exception": false,
     "start_time": "2022-08-21T00:39:22.156154",
     "status": "completed"
    },
    "tags": []
   },
   "source": [
    "### Running Models with the Training data\n",
    "Details about the network layers:\n",
    "- A first affine layer has 784 inputs and does 100 affine transforms. These are followed by a Relu\n",
    "- A second affine layer has 100 inputs from the 100 activations of the past layer, and does 100 affine transforms. These are followed by a Relu\n",
    "- A third affine layer has 100 activations and does 2 affine transformations to create an embedding for visualization. There is no non-linearity here.\n",
    "- A final \"logistic regression\" which has an affine transform from 2 inputs to 1 output, which is squeezed through a sigmoid.\n"
   ]
  },
  {
   "cell_type": "code",
   "execution_count": 17,
   "id": "2b9c66db",
   "metadata": {
    "execution": {
     "iopub.execute_input": "2022-08-21T00:39:22.240174Z",
     "iopub.status.busy": "2022-08-21T00:39:22.239573Z",
     "iopub.status.idle": "2022-08-21T00:39:22.252722Z",
     "shell.execute_reply": "2022-08-21T00:39:22.252246Z"
    },
    "papermill": {
     "duration": 0.043758,
     "end_time": "2022-08-21T00:39:22.252833",
     "exception": false,
     "start_time": "2022-08-21T00:39:22.209075",
     "status": "completed"
    },
    "tags": []
   },
   "outputs": [],
   "source": [
    "data = Data(X_train, y_train.reshape(-1,1))\n",
    "sampler = Sampler(data, config.bs, shuffle=True)\n",
    "\n",
    "dl = Dataloader(data, sampler)\n",
    "\n",
    "opt = GD(config.lr)\n",
    "loss = MSE()"
   ]
  },
  {
   "cell_type": "code",
   "execution_count": 18,
   "id": "b275e4c2",
   "metadata": {
    "execution": {
     "iopub.execute_input": "2022-08-21T00:39:22.309997Z",
     "iopub.status.busy": "2022-08-21T00:39:22.309429Z",
     "iopub.status.idle": "2022-08-21T00:39:22.322290Z",
     "shell.execute_reply": "2022-08-21T00:39:22.321818Z"
    },
    "papermill": {
     "duration": 0.042866,
     "end_time": "2022-08-21T00:39:22.322402",
     "exception": false,
     "start_time": "2022-08-21T00:39:22.279536",
     "status": "completed"
    },
    "tags": []
   },
   "outputs": [],
   "source": [
    "training_data_x = X_train\n",
    "testing_data_x = X_test\n",
    "training_data_y = y_train.reshape(-1,1)\n",
    "testing_data_y = y_test.reshape(-1,1)"
   ]
  },
  {
   "cell_type": "code",
   "execution_count": 19,
   "id": "76951160",
   "metadata": {
    "execution": {
     "iopub.execute_input": "2022-08-21T00:39:22.379878Z",
     "iopub.status.busy": "2022-08-21T00:39:22.379276Z",
     "iopub.status.idle": "2022-08-21T00:39:22.396499Z",
     "shell.execute_reply": "2022-08-21T00:39:22.396023Z"
    },
    "papermill": {
     "duration": 0.04772,
     "end_time": "2022-08-21T00:39:22.396612",
     "exception": false,
     "start_time": "2022-08-21T00:39:22.348892",
     "status": "completed"
    },
    "tags": []
   },
   "outputs": [
    {
     "name": "stdout",
     "output_type": "stream",
     "text": [
      "xavier\n",
      "xavier\n",
      "xavier\n",
      "xavier\n",
      "xavier\n"
     ]
    }
   ],
   "source": [
    "layers = [Affine(\"first\", 784, 100), Relu(\"first\"), Affine(\"second\", 100, 100), Relu(\"second\"), Affine(\"third\", 100, 2), Affine(\"last\", 2, 1), Sigmoid(\"last\")]\n",
    "model_nn = Model(layers)\n",
    "model_lr = Model([Affine(\"logits\", 784, 1), Sigmoid(\"sigmoid\")])"
   ]
  },
  {
   "cell_type": "code",
   "execution_count": 20,
   "id": "6eede77a",
   "metadata": {
    "execution": {
     "iopub.execute_input": "2022-08-21T00:39:22.454775Z",
     "iopub.status.busy": "2022-08-21T00:39:22.454203Z",
     "iopub.status.idle": "2022-08-21T00:39:22.466370Z",
     "shell.execute_reply": "2022-08-21T00:39:22.466903Z"
    },
    "papermill": {
     "duration": 0.043288,
     "end_time": "2022-08-21T00:39:22.467032",
     "exception": false,
     "start_time": "2022-08-21T00:39:22.423744",
     "status": "completed"
    },
    "tags": []
   },
   "outputs": [],
   "source": [
    "nn_learner = Learner(loss, model_nn, opt, config.num_epochs)\n",
    "acc_nn = ClfCallback(nn_learner, config.bs, training_data_x , testing_data_x, training_data_y, testing_data_y)\n",
    "nn_learner.set_callbacks([acc_nn])"
   ]
  },
  {
   "cell_type": "code",
   "execution_count": 21,
   "id": "877b6cc7",
   "metadata": {
    "execution": {
     "iopub.execute_input": "2022-08-21T00:39:22.524461Z",
     "iopub.status.busy": "2022-08-21T00:39:22.523901Z",
     "iopub.status.idle": "2022-08-21T00:39:22.536799Z",
     "shell.execute_reply": "2022-08-21T00:39:22.536333Z"
    },
    "papermill": {
     "duration": 0.043085,
     "end_time": "2022-08-21T00:39:22.536906",
     "exception": false,
     "start_time": "2022-08-21T00:39:22.493821",
     "status": "completed"
    },
    "tags": []
   },
   "outputs": [],
   "source": [
    "lr_learner = Learner(loss, model_lr, opt, config.num_epochs)\n",
    "acc_lr = ClfCallback(lr_learner, config.bs, training_data_x , testing_data_x, training_data_y, testing_data_y)\n",
    "lr_learner.set_callbacks([acc_lr])"
   ]
  },
  {
   "cell_type": "code",
   "execution_count": 22,
   "id": "d9b133c3",
   "metadata": {
    "execution": {
     "iopub.execute_input": "2022-08-21T00:39:22.594029Z",
     "iopub.status.busy": "2022-08-21T00:39:22.593468Z",
     "iopub.status.idle": "2022-08-21T00:40:36.369484Z",
     "shell.execute_reply": "2022-08-21T00:40:36.370335Z"
    },
    "papermill": {
     "duration": 73.80678,
     "end_time": "2022-08-21T00:40:36.370487",
     "exception": false,
     "start_time": "2022-08-21T00:39:22.563707",
     "status": "completed"
    },
    "tags": []
   },
   "outputs": [
    {
     "name": "stdout",
     "output_type": "stream",
     "text": [
      "Epoch 0, Loss 0.2426\n",
      "Training Accuracy: 0.5903, Testing Accuracy: 0.6210\n",
      "\n"
     ]
    },
    {
     "name": "stdout",
     "output_type": "stream",
     "text": [
      "Epoch 10, Loss 0.1102\n",
      "Training Accuracy: 0.9037, Testing Accuracy: 0.9173\n",
      "\n"
     ]
    },
    {
     "name": "stdout",
     "output_type": "stream",
     "text": [
      "Epoch 20, Loss 0.0633\n",
      "Training Accuracy: 0.9337, Testing Accuracy: 0.9476\n",
      "\n"
     ]
    },
    {
     "name": "stdout",
     "output_type": "stream",
     "text": [
      "Epoch 30, Loss 0.0482\n",
      "Training Accuracy: 0.9448, Testing Accuracy: 0.9567\n",
      "\n"
     ]
    },
    {
     "name": "stdout",
     "output_type": "stream",
     "text": [
      "Epoch 40, Loss 0.0411\n",
      "Training Accuracy: 0.9533, Testing Accuracy: 0.9632\n",
      "\n"
     ]
    },
    {
     "name": "stdout",
     "output_type": "stream",
     "text": [
      "Epoch 50, Loss 0.037\n",
      "Training Accuracy: 0.9567, Testing Accuracy: 0.9667\n",
      "\n"
     ]
    },
    {
     "name": "stdout",
     "output_type": "stream",
     "text": [
      "Epoch 60, Loss 0.0343\n",
      "Training Accuracy: 0.9595, Testing Accuracy: 0.9677\n",
      "\n"
     ]
    },
    {
     "name": "stdout",
     "output_type": "stream",
     "text": [
      "Epoch 70, Loss 0.0323\n",
      "Training Accuracy: 0.9616, Testing Accuracy: 0.9703\n",
      "\n"
     ]
    },
    {
     "name": "stdout",
     "output_type": "stream",
     "text": [
      "Epoch 80, Loss 0.0306\n",
      "Training Accuracy: 0.9633, Testing Accuracy: 0.9713\n",
      "\n"
     ]
    },
    {
     "name": "stdout",
     "output_type": "stream",
     "text": [
      "Epoch 90, Loss 0.0293\n",
      "Training Accuracy: 0.9647, Testing Accuracy: 0.9718\n",
      "\n"
     ]
    },
    {
     "name": "stdout",
     "output_type": "stream",
     "text": [
      "Epoch 100, Loss 0.0282\n",
      "Training Accuracy: 0.9664, Testing Accuracy: 0.9708\n",
      "\n"
     ]
    },
    {
     "name": "stdout",
     "output_type": "stream",
     "text": [
      "Epoch 110, Loss 0.0272\n",
      "Training Accuracy: 0.9678, Testing Accuracy: 0.9708\n",
      "\n"
     ]
    },
    {
     "name": "stdout",
     "output_type": "stream",
     "text": [
      "Epoch 120, Loss 0.0264\n",
      "Training Accuracy: 0.9691, Testing Accuracy: 0.9723\n",
      "\n"
     ]
    },
    {
     "name": "stdout",
     "output_type": "stream",
     "text": [
      "Epoch 130, Loss 0.0256\n",
      "Training Accuracy: 0.9700, Testing Accuracy: 0.9728\n",
      "\n"
     ]
    },
    {
     "name": "stdout",
     "output_type": "stream",
     "text": [
      "Epoch 140, Loss 0.0249\n",
      "Training Accuracy: 0.9707, Testing Accuracy: 0.9718\n",
      "\n"
     ]
    },
    {
     "name": "stdout",
     "output_type": "stream",
     "text": [
      "Epoch 150, Loss 0.0243\n",
      "Training Accuracy: 0.9715, Testing Accuracy: 0.9723\n",
      "\n"
     ]
    },
    {
     "name": "stdout",
     "output_type": "stream",
     "text": [
      "Epoch 160, Loss 0.0237\n",
      "Training Accuracy: 0.9726, Testing Accuracy: 0.9723\n",
      "\n"
     ]
    },
    {
     "name": "stdout",
     "output_type": "stream",
     "text": [
      "Epoch 170, Loss 0.0231\n",
      "Training Accuracy: 0.9735, Testing Accuracy: 0.9723\n",
      "\n"
     ]
    },
    {
     "name": "stdout",
     "output_type": "stream",
     "text": [
      "Epoch 180, Loss 0.0226\n",
      "Training Accuracy: 0.9738, Testing Accuracy: 0.9728\n",
      "\n"
     ]
    },
    {
     "name": "stdout",
     "output_type": "stream",
     "text": [
      "Epoch 190, Loss 0.0221\n",
      "Training Accuracy: 0.9748, Testing Accuracy: 0.9733\n",
      "\n"
     ]
    },
    {
     "name": "stdout",
     "output_type": "stream",
     "text": [
      "Epoch 200, Loss 0.0217\n",
      "Training Accuracy: 0.9750, Testing Accuracy: 0.9738\n",
      "\n"
     ]
    },
    {
     "name": "stdout",
     "output_type": "stream",
     "text": [
      "Epoch 210, Loss 0.0212\n",
      "Training Accuracy: 0.9755, Testing Accuracy: 0.9738\n",
      "\n"
     ]
    },
    {
     "name": "stdout",
     "output_type": "stream",
     "text": [
      "Epoch 220, Loss 0.0208\n",
      "Training Accuracy: 0.9760, Testing Accuracy: 0.9738\n",
      "\n"
     ]
    },
    {
     "name": "stdout",
     "output_type": "stream",
     "text": [
      "Epoch 230, Loss 0.0204\n",
      "Training Accuracy: 0.9763, Testing Accuracy: 0.9748\n",
      "\n"
     ]
    },
    {
     "name": "stdout",
     "output_type": "stream",
     "text": [
      "Epoch 240, Loss 0.02\n",
      "Training Accuracy: 0.9770, Testing Accuracy: 0.9753\n",
      "\n"
     ]
    },
    {
     "data": {
      "text/plain": [
       "0.039636909157555585"
      ]
     },
     "execution_count": 22,
     "metadata": {},
     "output_type": "execute_result"
    }
   ],
   "source": [
    "nn_learner.train_loop(dl)"
   ]
  },
  {
   "cell_type": "code",
   "execution_count": 23,
   "id": "e0163366",
   "metadata": {
    "execution": {
     "iopub.execute_input": "2022-08-21T00:40:36.449142Z",
     "iopub.status.busy": "2022-08-21T00:40:36.448553Z",
     "iopub.status.idle": "2022-08-21T00:40:49.562540Z",
     "shell.execute_reply": "2022-08-21T00:40:49.563395Z"
    },
    "papermill": {
     "duration": 13.158226,
     "end_time": "2022-08-21T00:40:49.563545",
     "exception": false,
     "start_time": "2022-08-21T00:40:36.405319",
     "status": "completed"
    },
    "tags": []
   },
   "outputs": [
    {
     "name": "stdout",
     "output_type": "stream",
     "text": [
      "Epoch 0, Loss 0.2449\n",
      "Training Accuracy: 0.6647, Testing Accuracy: 0.6830\n",
      "\n"
     ]
    },
    {
     "name": "stdout",
     "output_type": "stream",
     "text": [
      "Epoch 10, Loss 0.1053\n",
      "Training Accuracy: 0.9094, Testing Accuracy: 0.9163\n",
      "\n"
     ]
    },
    {
     "name": "stdout",
     "output_type": "stream",
     "text": [
      "Epoch 20, Loss 0.0798\n",
      "Training Accuracy: 0.9286, Testing Accuracy: 0.9375\n",
      "\n"
     ]
    },
    {
     "name": "stdout",
     "output_type": "stream",
     "text": [
      "Epoch 30, Loss 0.0682\n",
      "Training Accuracy: 0.9383, Testing Accuracy: 0.9481\n",
      "\n"
     ]
    },
    {
     "name": "stdout",
     "output_type": "stream",
     "text": [
      "Epoch 40, Loss 0.0614\n",
      "Training Accuracy: 0.9440, Testing Accuracy: 0.9526\n",
      "\n"
     ]
    },
    {
     "name": "stdout",
     "output_type": "stream",
     "text": [
      "Epoch 50, Loss 0.0568\n",
      "Training Accuracy: 0.9462, Testing Accuracy: 0.9531\n",
      "\n"
     ]
    },
    {
     "name": "stdout",
     "output_type": "stream",
     "text": [
      "Epoch 60, Loss 0.0534\n",
      "Training Accuracy: 0.9479, Testing Accuracy: 0.9556\n",
      "\n"
     ]
    },
    {
     "name": "stdout",
     "output_type": "stream",
     "text": [
      "Epoch 70, Loss 0.0509\n",
      "Training Accuracy: 0.9503, Testing Accuracy: 0.9587\n",
      "\n"
     ]
    },
    {
     "name": "stdout",
     "output_type": "stream",
     "text": [
      "Epoch 80, Loss 0.0488\n",
      "Training Accuracy: 0.9514, Testing Accuracy: 0.9607\n",
      "\n"
     ]
    },
    {
     "name": "stdout",
     "output_type": "stream",
     "text": [
      "Epoch 90, Loss 0.0472\n",
      "Training Accuracy: 0.9521, Testing Accuracy: 0.9607\n",
      "\n"
     ]
    },
    {
     "name": "stdout",
     "output_type": "stream",
     "text": [
      "Epoch 100, Loss 0.0457\n",
      "Training Accuracy: 0.9542, Testing Accuracy: 0.9627\n",
      "\n"
     ]
    },
    {
     "name": "stdout",
     "output_type": "stream",
     "text": [
      "Epoch 110, Loss 0.0445\n",
      "Training Accuracy: 0.9552, Testing Accuracy: 0.9637\n",
      "\n"
     ]
    },
    {
     "name": "stdout",
     "output_type": "stream",
     "text": [
      "Epoch 120, Loss 0.0435\n",
      "Training Accuracy: 0.9563, Testing Accuracy: 0.9642\n",
      "\n"
     ]
    },
    {
     "name": "stdout",
     "output_type": "stream",
     "text": [
      "Epoch 130, Loss 0.0426\n",
      "Training Accuracy: 0.9570, Testing Accuracy: 0.9652\n",
      "\n"
     ]
    },
    {
     "name": "stdout",
     "output_type": "stream",
     "text": [
      "Epoch 140, Loss 0.0418\n",
      "Training Accuracy: 0.9574, Testing Accuracy: 0.9647\n",
      "\n"
     ]
    },
    {
     "name": "stdout",
     "output_type": "stream",
     "text": [
      "Epoch 150, Loss 0.041\n",
      "Training Accuracy: 0.9584, Testing Accuracy: 0.9657\n",
      "\n"
     ]
    },
    {
     "name": "stdout",
     "output_type": "stream",
     "text": [
      "Epoch 160, Loss 0.0404\n",
      "Training Accuracy: 0.9586, Testing Accuracy: 0.9662\n",
      "\n"
     ]
    },
    {
     "name": "stdout",
     "output_type": "stream",
     "text": [
      "Epoch 170, Loss 0.0398\n",
      "Training Accuracy: 0.9594, Testing Accuracy: 0.9662\n",
      "\n"
     ]
    },
    {
     "name": "stdout",
     "output_type": "stream",
     "text": [
      "Epoch 180, Loss 0.0392\n",
      "Training Accuracy: 0.9600, Testing Accuracy: 0.9667\n",
      "\n"
     ]
    },
    {
     "name": "stdout",
     "output_type": "stream",
     "text": [
      "Epoch 190, Loss 0.0387\n",
      "Training Accuracy: 0.9605, Testing Accuracy: 0.9662\n",
      "\n"
     ]
    },
    {
     "name": "stdout",
     "output_type": "stream",
     "text": [
      "Epoch 200, Loss 0.0382\n",
      "Training Accuracy: 0.9607, Testing Accuracy: 0.9667\n",
      "\n"
     ]
    },
    {
     "name": "stdout",
     "output_type": "stream",
     "text": [
      "Epoch 210, Loss 0.0378\n",
      "Training Accuracy: 0.9612, Testing Accuracy: 0.9667\n",
      "\n"
     ]
    },
    {
     "name": "stdout",
     "output_type": "stream",
     "text": [
      "Epoch 220, Loss 0.0374\n",
      "Training Accuracy: 0.9614, Testing Accuracy: 0.9667\n",
      "\n"
     ]
    },
    {
     "name": "stdout",
     "output_type": "stream",
     "text": [
      "Epoch 230, Loss 0.037\n",
      "Training Accuracy: 0.9615, Testing Accuracy: 0.9667\n",
      "\n"
     ]
    },
    {
     "name": "stdout",
     "output_type": "stream",
     "text": [
      "Epoch 240, Loss 0.0367\n",
      "Training Accuracy: 0.9618, Testing Accuracy: 0.9667\n",
      "\n"
     ]
    },
    {
     "data": {
      "text/plain": [
       "0.017518242163321825"
      ]
     },
     "execution_count": 23,
     "metadata": {},
     "output_type": "execute_result"
    }
   ],
   "source": [
    "lr_learner.train_loop(dl)"
   ]
  },
  {
   "cell_type": "code",
   "execution_count": 24,
   "id": "ca410940",
   "metadata": {
    "execution": {
     "iopub.execute_input": "2022-08-21T00:40:49.656699Z",
     "iopub.status.busy": "2022-08-21T00:40:49.656119Z",
     "iopub.status.idle": "2022-08-21T00:40:49.885885Z",
     "shell.execute_reply": "2022-08-21T00:40:49.885104Z"
    },
    "papermill": {
     "duration": 0.281331,
     "end_time": "2022-08-21T00:40:49.886016",
     "exception": false,
     "start_time": "2022-08-21T00:40:49.604685",
     "status": "completed"
    },
    "tags": []
   },
   "outputs": [
    {
     "data": {
      "text/plain": [
       "<matplotlib.legend.Legend at 0x7fac08370fd0>"
      ]
     },
     "execution_count": 24,
     "metadata": {},
     "output_type": "execute_result"
    },
    {
     "data": {
      "image/png": "[encoded data removed]",
      "text/plain": [
       "<Figure size 1080x720 with 1 Axes>"
      ]
     },
     "metadata": {
      "needs_background": "light"
     },
     "output_type": "display_data"
    }
   ],
   "source": [
    "#comparing the results of NN and LR\n",
    "plt.figure(figsize=(15,10))\n",
    "\n",
    "# Neural Network plots\n",
    "plt.plot(acc_nn.accuracies, 'r-', label = \"Training Accuracies - NN\")\n",
    "plt.plot(acc_nn.test_accuracies, 'g-', label = \"Testing Accuracies - NN\")\n",
    "\n",
    "# Logistic Regression plots\n",
    "plt.plot(acc_lr.accuracies, 'k-', label = \"Training Accuracies - LR\")\n",
    "plt.plot(acc_lr.test_accuracies, 'b-', label = \"Testing Accuracies - LR\")\n",
    "plt.legend()"
   ]
  },
  {
   "cell_type": "markdown",
   "id": "80dfb35c",
   "metadata": {
    "papermill": {
     "duration": 0.041517,
     "end_time": "2022-08-21T00:40:49.972348",
     "exception": false,
     "start_time": "2022-08-21T00:40:49.930831",
     "status": "completed"
    },
    "tags": []
   },
   "source": [
    "#### Plotting the outputs of this layer of the NN.\n"
   ]
  },
  {
   "cell_type": "code",
   "execution_count": 25,
   "id": "45eb2ff5",
   "metadata": {
    "execution": {
     "iopub.execute_input": "2022-08-21T00:40:50.072720Z",
     "iopub.status.busy": "2022-08-21T00:40:50.072113Z",
     "iopub.status.idle": "2022-08-21T00:40:50.085132Z",
     "shell.execute_reply": "2022-08-21T00:40:50.085592Z"
    },
    "papermill": {
     "duration": 0.071991,
     "end_time": "2022-08-21T00:40:50.085733",
     "exception": false,
     "start_time": "2022-08-21T00:40:50.013742",
     "status": "completed"
    },
    "tags": []
   },
   "outputs": [],
   "source": [
    "new_model = Model(layers[:-2])\n",
    "testing_plot = new_model(testing_data_x)"
   ]
  },
  {
   "cell_type": "code",
   "execution_count": 26,
   "id": "4c0a5485",
   "metadata": {
    "execution": {
     "iopub.execute_input": "2022-08-21T00:40:50.184894Z",
     "iopub.status.busy": "2022-08-21T00:40:50.180049Z",
     "iopub.status.idle": "2022-08-21T00:40:50.370238Z",
     "shell.execute_reply": "2022-08-21T00:40:50.369729Z"
    },
    "papermill": {
     "duration": 0.242641,
     "end_time": "2022-08-21T00:40:50.370361",
     "exception": false,
     "start_time": "2022-08-21T00:40:50.127720",
     "status": "completed"
    },
    "tags": []
   },
   "outputs": [
    {
     "data": {
      "text/plain": [
       "Text(0.5, 1.0, 'Outputs')"
      ]
     },
     "execution_count": 26,
     "metadata": {},
     "output_type": "execute_result"
    },
    {
     "data": {
      "image/png": "[encoded data removed]",
      "text/plain": [
       "<Figure size 576x504 with 1 Axes>"
      ]
     },
     "metadata": {
      "needs_background": "light"
     },
     "output_type": "display_data"
    }
   ],
   "source": [
    "# Plotting the scatter plot of points and color coding by class\n",
    "plt.figure(figsize=(8,7))\n",
    "plt.scatter(testing_plot[:,0], testing_plot[:,1], alpha = 0.1, c = y_test.ravel());\n",
    "plt.title('Outputs')"
   ]
  },
  {
   "cell_type": "markdown",
   "id": "a74fcf8f",
   "metadata": {
    "papermill": {
     "duration": 0.043362,
     "end_time": "2022-08-21T00:40:50.457579",
     "exception": false,
     "start_time": "2022-08-21T00:40:50.414217",
     "status": "completed"
    },
    "tags": []
   },
   "source": [
    "Probability contours"
   ]
  },
  {
   "cell_type": "code",
   "execution_count": 27,
   "id": "d0afc8e3",
   "metadata": {
    "execution": {
     "iopub.execute_input": "2022-08-21T00:40:50.548882Z",
     "iopub.status.busy": "2022-08-21T00:40:50.548309Z",
     "iopub.status.idle": "2022-08-21T00:40:50.561209Z",
     "shell.execute_reply": "2022-08-21T00:40:50.560735Z"
    },
    "papermill": {
     "duration": 0.059912,
     "end_time": "2022-08-21T00:40:50.561320",
     "exception": false,
     "start_time": "2022-08-21T00:40:50.501408",
     "status": "completed"
    },
    "tags": []
   },
   "outputs": [],
   "source": [
    "model_prob = Model(layers[-2:]) "
   ]
  },
  {
   "cell_type": "code",
   "execution_count": 28,
   "id": "9b96e238",
   "metadata": {
    "execution": {
     "iopub.execute_input": "2022-08-21T00:40:50.680086Z",
     "iopub.status.busy": "2022-08-21T00:40:50.679502Z",
     "iopub.status.idle": "2022-08-21T00:40:50.693872Z",
     "shell.execute_reply": "2022-08-21T00:40:50.694298Z"
    },
    "papermill": {
     "duration": 0.089617,
     "end_time": "2022-08-21T00:40:50.694424",
     "exception": false,
     "start_time": "2022-08-21T00:40:50.604807",
     "status": "completed"
    },
    "tags": []
   },
   "outputs": [],
   "source": [
    "#creating the x and y ranges according to the above generated plot.\n",
    "x_range = np.linspace(-4, 1, 100) \n",
    "y_range = np.linspace(-6, 6, 100) \n",
    "x_grid, y_grid = np.meshgrid(x_range, y_range) # x_grid and y_grig are of size 100 X 100\n",
    "\n",
    "# converting x_grid and y_grid to continuous arrays\n",
    "x_gridflat = np.ravel(x_grid)\n",
    "y_gridflat = np.ravel(y_grid)\n",
    "\n",
    "# The last layer of the current model takes two columns as input. Hence transpose of np.vstack() is required.\n",
    "X = np.vstack((x_gridflat, y_gridflat)).T\n",
    "\n",
    "prob_contour = model_prob(X).reshape(100,100) "
   ]
  },
  {
   "cell_type": "code",
   "execution_count": 29,
   "id": "da72499a",
   "metadata": {
    "execution": {
     "iopub.execute_input": "2022-08-21T00:40:50.792994Z",
     "iopub.status.busy": "2022-08-21T00:40:50.792403Z",
     "iopub.status.idle": "2022-08-21T00:40:51.026225Z",
     "shell.execute_reply": "2022-08-21T00:40:51.026749Z"
    },
    "papermill": {
     "duration": 0.288684,
     "end_time": "2022-08-21T00:40:51.026887",
     "exception": false,
     "start_time": "2022-08-21T00:40:50.738203",
     "status": "completed"
    },
    "tags": []
   },
   "outputs": [
    {
     "data": {
      "image/png": "[encoded data removed]",
      "text/plain": [
       "<Figure size 720x648 with 1 Axes>"
      ]
     },
     "metadata": {
      "needs_background": "light"
     },
     "output_type": "display_data"
    }
   ],
   "source": [
    "plt.figure(figsize=(10,9))\n",
    "plt.scatter(testing_plot[:,0], testing_plot[:,1], alpha = 0.1, c = y_test.ravel())\n",
    "contours = plt.contour(x_grid,y_grid,prob_contour)\n",
    "plt.title('Probability Contours')\n",
    "plt.clabel(contours, inline = True );"
   ]
  },
  {
   "cell_type": "code",
   "execution_count": null,
   "id": "e81b4ac7",
   "metadata": {
    "papermill": {
     "duration": 0.047457,
     "end_time": "2022-08-21T00:40:51.121564",
     "exception": false,
     "start_time": "2022-08-21T00:40:51.074107",
     "status": "completed"
    },
    "tags": []
   },
   "outputs": [],
   "source": []
  }
 ],
 "metadata": {
  "kernelspec": {
   "display_name": "Python 3",
   "language": "python",
   "name": "python3"
  },
  "language_info": {
   "codemirror_mode": {
    "name": "ipython",
    "version": 3
   },
   "file_extension": ".py",
   "mimetype": "text/x-python",
   "name": "python",
   "nbconvert_exporter": "python",
   "pygments_lexer": "ipython3",
   "version": "3.6.15"
  },
  "papermill": {
   "default_parameters": {},
   "duration": 94.863663,
   "end_time": "2022-08-21T00:40:51.586762",
   "environment_variables": {},
   "exception": null,
   "input_path": "2020-08-11-part2.ipynb",
   "output_path": "2020-08-11-part2.ipynb",
   "parameters": {},
   "start_time": "2022-08-21T00:39:16.723099",
   "version": "2.3.3"
  }
 },
 "nbformat": 4,
 "nbformat_minor": 5
}