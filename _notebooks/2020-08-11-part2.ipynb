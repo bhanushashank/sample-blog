{
 "cells": [
  {
   "cell_type": "markdown",
   "id": "98380cd3",
   "metadata": {
    "papermill": {
     "duration": 0.034041,
     "end_time": "2022-07-27T00:44:45.954989",
     "exception": false,
     "start_time": "2022-07-27T00:44:45.920948",
     "status": "completed"
    },
    "tags": []
   },
   "source": [
    "# Distinguish Your Own Digits (DYOD)"
   ]
  },
  {
   "cell_type": "markdown",
   "id": "ef31240d",
   "metadata": {
    "papermill": {
     "duration": 0.031481,
     "end_time": "2022-07-27T00:44:46.014667",
     "exception": false,
     "start_time": "2022-07-27T00:44:45.983186",
     "status": "completed"
    },
    "tags": []
   },
   "source": [
    "You are going to write a classifier that distinguishes between the number 3 and number 8."
   ]
  },
  {
   "cell_type": "code",
   "execution_count": 1,
   "id": "b15c8646",
   "metadata": {
    "execution": {
     "iopub.execute_input": "2022-07-27T00:44:46.091627Z",
     "iopub.status.busy": "2022-07-27T00:44:46.090621Z",
     "iopub.status.idle": "2022-07-27T00:44:46.106045Z",
     "shell.execute_reply": "2022-07-27T00:44:46.106812Z"
    },
    "papermill": {
     "duration": 0.058519,
     "end_time": "2022-07-27T00:44:46.107011",
     "exception": false,
     "start_time": "2022-07-27T00:44:46.048492",
     "status": "completed"
    },
    "tags": []
   },
   "outputs": [],
   "source": [
    "%load_ext autoreload\n",
    "%autoreload 2"
   ]
  },
  {
   "cell_type": "code",
   "execution_count": 2,
   "id": "22ef38dc",
   "metadata": {
    "execution": {
     "iopub.execute_input": "2022-07-27T00:44:46.168651Z",
     "iopub.status.busy": "2022-07-27T00:44:46.167984Z",
     "iopub.status.idle": "2022-07-27T00:44:46.763020Z",
     "shell.execute_reply": "2022-07-27T00:44:46.762438Z"
    },
    "papermill": {
     "duration": 0.626925,
     "end_time": "2022-07-27T00:44:46.763153",
     "exception": false,
     "start_time": "2022-07-27T00:44:46.136228",
     "status": "completed"
    },
    "tags": []
   },
   "outputs": [],
   "source": [
    "%matplotlib inline\n",
    "import numpy as np\n",
    "import matplotlib.pyplot as plt\n",
    "import pandas as pd"
   ]
  },
  {
   "cell_type": "markdown",
   "id": "ba036198",
   "metadata": {
    "papermill": {
     "duration": 0.027033,
     "end_time": "2022-07-27T00:44:46.817424",
     "exception": false,
     "start_time": "2022-07-27T00:44:46.790391",
     "status": "completed"
    },
    "tags": []
   },
   "source": [
    "From the command line run `pip install mnist`. This is a library that will help you bring down the mnist dataset. If you run this from a notebook, you need to put  `!pip install mnist` in a cell by itself."
   ]
  },
  {
   "cell_type": "code",
   "execution_count": 3,
   "id": "bb6ad8a1",
   "metadata": {
    "execution": {
     "iopub.execute_input": "2022-07-27T00:44:46.877332Z",
     "iopub.status.busy": "2022-07-27T00:44:46.876483Z",
     "iopub.status.idle": "2022-07-27T00:44:48.681550Z",
     "shell.execute_reply": "2022-07-27T00:44:48.680408Z"
    },
    "papermill": {
     "duration": 1.836049,
     "end_time": "2022-07-27T00:44:48.681707",
     "exception": false,
     "start_time": "2022-07-27T00:44:46.845658",
     "status": "completed"
    },
    "tags": []
   },
   "outputs": [
    {
     "name": "stdout",
     "output_type": "stream",
     "text": [
      "Collecting mnist\r\n"
     ]
    },
    {
     "name": "stdout",
     "output_type": "stream",
     "text": [
      "  Downloading mnist-0.2.2-py2.py3-none-any.whl (3.5 kB)\r\n",
      "Requirement already satisfied: numpy in /opt/hostedtoolcache/Python/3.6.15/x64/lib/python3.6/site-packages (from mnist) (1.19.5)\r\n"
     ]
    },
    {
     "name": "stdout",
     "output_type": "stream",
     "text": [
      "Installing collected packages: mnist\r\n",
      "Successfully installed mnist-0.2.2\r\n"
     ]
    }
   ],
   "source": [
    "!pip install mnist"
   ]
  },
  {
   "cell_type": "markdown",
   "id": "69df9c9a",
   "metadata": {
    "papermill": {
     "duration": 0.02743,
     "end_time": "2022-07-27T00:44:48.737048",
     "exception": false,
     "start_time": "2022-07-27T00:44:48.709618",
     "status": "completed"
    },
    "tags": []
   },
   "source": [
    "## Preparing the Data"
   ]
  },
  {
   "cell_type": "code",
   "execution_count": 4,
   "id": "7f69d806",
   "metadata": {
    "execution": {
     "iopub.execute_input": "2022-07-27T00:44:48.806467Z",
     "iopub.status.busy": "2022-07-27T00:44:48.805807Z",
     "iopub.status.idle": "2022-07-27T00:44:48.820725Z",
     "shell.execute_reply": "2022-07-27T00:44:48.820182Z"
    },
    "papermill": {
     "duration": 0.056479,
     "end_time": "2022-07-27T00:44:48.820864",
     "exception": false,
     "start_time": "2022-07-27T00:44:48.764385",
     "status": "completed"
    },
    "tags": []
   },
   "outputs": [],
   "source": [
    "import mnist"
   ]
  },
  {
   "cell_type": "code",
   "execution_count": 5,
   "id": "a411e44f",
   "metadata": {
    "execution": {
     "iopub.execute_input": "2022-07-27T00:44:48.880515Z",
     "iopub.status.busy": "2022-07-27T00:44:48.878531Z",
     "iopub.status.idle": "2022-07-27T00:44:49.565226Z",
     "shell.execute_reply": "2022-07-27T00:44:49.564626Z"
    },
    "papermill": {
     "duration": 0.716923,
     "end_time": "2022-07-27T00:44:49.565364",
     "exception": false,
     "start_time": "2022-07-27T00:44:48.848441",
     "status": "completed"
    },
    "tags": []
   },
   "outputs": [],
   "source": [
    "train_images = mnist.train_images()\n",
    "train_labels = mnist.train_labels()"
   ]
  },
  {
   "cell_type": "code",
   "execution_count": 6,
   "id": "dceab3a5",
   "metadata": {
    "execution": {
     "iopub.execute_input": "2022-07-27T00:44:49.625140Z",
     "iopub.status.busy": "2022-07-27T00:44:49.624451Z",
     "iopub.status.idle": "2022-07-27T00:44:49.640590Z",
     "shell.execute_reply": "2022-07-27T00:44:49.639940Z"
    },
    "papermill": {
     "duration": 0.047336,
     "end_time": "2022-07-27T00:44:49.640710",
     "exception": false,
     "start_time": "2022-07-27T00:44:49.593374",
     "status": "completed"
    },
    "tags": []
   },
   "outputs": [
    {
     "data": {
      "text/plain": [
       "((60000, 28, 28), (60000,))"
      ]
     },
     "execution_count": 6,
     "metadata": {},
     "output_type": "execute_result"
    }
   ],
   "source": [
    "train_images.shape, train_labels.shape"
   ]
  },
  {
   "cell_type": "code",
   "execution_count": 7,
   "id": "f50dc2bb",
   "metadata": {
    "execution": {
     "iopub.execute_input": "2022-07-27T00:44:49.710778Z",
     "iopub.status.busy": "2022-07-27T00:44:49.710089Z",
     "iopub.status.idle": "2022-07-27T00:44:49.897080Z",
     "shell.execute_reply": "2022-07-27T00:44:49.896445Z"
    },
    "papermill": {
     "duration": 0.224352,
     "end_time": "2022-07-27T00:44:49.897221",
     "exception": false,
     "start_time": "2022-07-27T00:44:49.672869",
     "status": "completed"
    },
    "tags": []
   },
   "outputs": [],
   "source": [
    "test_images = mnist.test_images()\n",
    "test_labels = mnist.test_labels()"
   ]
  },
  {
   "cell_type": "code",
   "execution_count": 8,
   "id": "fc38cf1b",
   "metadata": {
    "execution": {
     "iopub.execute_input": "2022-07-27T00:44:49.960240Z",
     "iopub.status.busy": "2022-07-27T00:44:49.959550Z",
     "iopub.status.idle": "2022-07-27T00:44:49.973418Z",
     "shell.execute_reply": "2022-07-27T00:44:49.972811Z"
    },
    "papermill": {
     "duration": 0.047174,
     "end_time": "2022-07-27T00:44:49.973550",
     "exception": false,
     "start_time": "2022-07-27T00:44:49.926376",
     "status": "completed"
    },
    "tags": []
   },
   "outputs": [
    {
     "data": {
      "text/plain": [
       "((10000, 28, 28), (10000,))"
      ]
     },
     "execution_count": 8,
     "metadata": {},
     "output_type": "execute_result"
    }
   ],
   "source": [
    "test_images.shape, test_labels.shape"
   ]
  },
  {
   "cell_type": "code",
   "execution_count": 9,
   "id": "f9ed8fe0",
   "metadata": {
    "execution": {
     "iopub.execute_input": "2022-07-27T00:44:50.042722Z",
     "iopub.status.busy": "2022-07-27T00:44:50.041329Z",
     "iopub.status.idle": "2022-07-27T00:44:50.206017Z",
     "shell.execute_reply": "2022-07-27T00:44:50.206546Z"
    },
    "papermill": {
     "duration": 0.205295,
     "end_time": "2022-07-27T00:44:50.206700",
     "exception": false,
     "start_time": "2022-07-27T00:44:50.001405",
     "status": "completed"
    },
    "tags": []
   },
   "outputs": [
    {
     "name": "stdout",
     "output_type": "stream",
     "text": [
      "2\n"
     ]
    },
    {
     "data": {
      "text/plain": [
       "<matplotlib.image.AxesImage at 0x7f19eb06d470>"
      ]
     },
     "execution_count": 9,
     "metadata": {},
     "output_type": "execute_result"
    },
    {
     "data": {
      "image/png": "[encoded data removed]",
      "text/plain": [
       "<Figure size 432x288 with 1 Axes>"
      ]
     },
     "metadata": {
      "needs_background": "light"
     },
     "output_type": "display_data"
    }
   ],
   "source": [
    "image_index = 7776 # You may select anything up to 60,000\n",
    "print(train_labels[image_index]) \n",
    "plt.imshow(train_images[image_index], cmap='Greys')"
   ]
  },
  {
   "cell_type": "markdown",
   "id": "a8d2388d",
   "metadata": {
    "papermill": {
     "duration": 0.031445,
     "end_time": "2022-07-27T00:44:50.267801",
     "exception": false,
     "start_time": "2022-07-27T00:44:50.236356",
     "status": "completed"
    },
    "tags": []
   },
   "source": [
    "## Filter data to get 3 and 8 out"
   ]
  },
  {
   "cell_type": "code",
   "execution_count": 10,
   "id": "776f7fc7",
   "metadata": {
    "execution": {
     "iopub.execute_input": "2022-07-27T00:44:50.339046Z",
     "iopub.status.busy": "2022-07-27T00:44:50.338270Z",
     "iopub.status.idle": "2022-07-27T00:44:50.357615Z",
     "shell.execute_reply": "2022-07-27T00:44:50.357025Z"
    },
    "papermill": {
     "duration": 0.056047,
     "end_time": "2022-07-27T00:44:50.357751",
     "exception": false,
     "start_time": "2022-07-27T00:44:50.301704",
     "status": "completed"
    },
    "tags": []
   },
   "outputs": [],
   "source": [
    "train_filter = np.where((train_labels == 3 ) | (train_labels == 8))\n",
    "test_filter = np.where((test_labels == 3) | (test_labels == 8))\n",
    "X_train, y_train = train_images[train_filter], train_labels[train_filter]\n",
    "X_test, y_test = test_images[test_filter], test_labels[test_filter]"
   ]
  },
  {
   "cell_type": "markdown",
   "id": "948f0b7e",
   "metadata": {
    "papermill": {
     "duration": 0.036017,
     "end_time": "2022-07-27T00:44:50.424324",
     "exception": false,
     "start_time": "2022-07-27T00:44:50.388307",
     "status": "completed"
    },
    "tags": []
   },
   "source": [
    "We normalize the pizel values in the 0 to 1 range"
   ]
  },
  {
   "cell_type": "code",
   "execution_count": 11,
   "id": "ee4c2166",
   "metadata": {
    "execution": {
     "iopub.execute_input": "2022-07-27T00:44:50.494286Z",
     "iopub.status.busy": "2022-07-27T00:44:50.493622Z",
     "iopub.status.idle": "2022-07-27T00:44:50.552460Z",
     "shell.execute_reply": "2022-07-27T00:44:50.551766Z"
    },
    "papermill": {
     "duration": 0.099203,
     "end_time": "2022-07-27T00:44:50.552617",
     "exception": false,
     "start_time": "2022-07-27T00:44:50.453414",
     "status": "completed"
    },
    "tags": []
   },
   "outputs": [],
   "source": [
    "X_train = X_train/255.\n",
    "X_test = X_test/255."
   ]
  },
  {
   "cell_type": "markdown",
   "id": "ddcf4fab",
   "metadata": {
    "papermill": {
     "duration": 0.035753,
     "end_time": "2022-07-27T00:44:50.620870",
     "exception": false,
     "start_time": "2022-07-27T00:44:50.585117",
     "status": "completed"
    },
    "tags": []
   },
   "source": [
    "And setup the labels as 1 (when the digit is 3) and 0 (when the digit is 8)"
   ]
  },
  {
   "cell_type": "code",
   "execution_count": 12,
   "id": "7dc908f2",
   "metadata": {
    "execution": {
     "iopub.execute_input": "2022-07-27T00:44:50.702613Z",
     "iopub.status.busy": "2022-07-27T00:44:50.701830Z",
     "iopub.status.idle": "2022-07-27T00:44:50.705760Z",
     "shell.execute_reply": "2022-07-27T00:44:50.705178Z"
    },
    "papermill": {
     "duration": 0.053025,
     "end_time": "2022-07-27T00:44:50.705889",
     "exception": false,
     "start_time": "2022-07-27T00:44:50.652864",
     "status": "completed"
    },
    "tags": []
   },
   "outputs": [],
   "source": [
    "y_train = 1*(y_train==3)\n",
    "y_test = 1*(y_test==3)"
   ]
  },
  {
   "cell_type": "code",
   "execution_count": 13,
   "id": "01e4e969",
   "metadata": {
    "execution": {
     "iopub.execute_input": "2022-07-27T00:44:50.776954Z",
     "iopub.status.busy": "2022-07-27T00:44:50.776263Z",
     "iopub.status.idle": "2022-07-27T00:44:50.788563Z",
     "shell.execute_reply": "2022-07-27T00:44:50.789253Z"
    },
    "papermill": {
     "duration": 0.051393,
     "end_time": "2022-07-27T00:44:50.789406",
     "exception": false,
     "start_time": "2022-07-27T00:44:50.738013",
     "status": "completed"
    },
    "tags": []
   },
   "outputs": [
    {
     "data": {
      "text/plain": [
       "((11982, 28, 28), (1984, 28, 28))"
      ]
     },
     "execution_count": 13,
     "metadata": {},
     "output_type": "execute_result"
    }
   ],
   "source": [
    "X_train.shape, X_test.shape"
   ]
  },
  {
   "cell_type": "markdown",
   "id": "5ccf3f85",
   "metadata": {
    "papermill": {
     "duration": 0.029204,
     "end_time": "2022-07-27T00:44:50.851275",
     "exception": false,
     "start_time": "2022-07-27T00:44:50.822071",
     "status": "completed"
    },
    "tags": []
   },
   "source": [
    "We reshape the data to flatten the image pixels into a set of features or co-variates:"
   ]
  },
  {
   "cell_type": "code",
   "execution_count": 14,
   "id": "5286a4a3",
   "metadata": {
    "execution": {
     "iopub.execute_input": "2022-07-27T00:44:50.915783Z",
     "iopub.status.busy": "2022-07-27T00:44:50.915112Z",
     "iopub.status.idle": "2022-07-27T00:44:50.929883Z",
     "shell.execute_reply": "2022-07-27T00:44:50.929331Z"
    },
    "papermill": {
     "duration": 0.047996,
     "end_time": "2022-07-27T00:44:50.930002",
     "exception": false,
     "start_time": "2022-07-27T00:44:50.882006",
     "status": "completed"
    },
    "tags": []
   },
   "outputs": [
    {
     "data": {
      "text/plain": [
       "((11982, 784), (1984, 784))"
      ]
     },
     "execution_count": 14,
     "metadata": {},
     "output_type": "execute_result"
    }
   ],
   "source": [
    "X_train = X_train.reshape(X_train.shape[0], -1)\n",
    "X_test = X_test.reshape(X_test.shape[0], -1)\n",
    "X_train.shape, X_test.shape"
   ]
  },
  {
   "cell_type": "code",
   "execution_count": 15,
   "id": "73c5f88a",
   "metadata": {
    "execution": {
     "iopub.execute_input": "2022-07-27T00:44:50.999889Z",
     "iopub.status.busy": "2022-07-27T00:44:50.998980Z",
     "iopub.status.idle": "2022-07-27T00:44:51.016283Z",
     "shell.execute_reply": "2022-07-27T00:44:51.016877Z"
    },
    "papermill": {
     "duration": 0.056332,
     "end_time": "2022-07-27T00:44:51.017014",
     "exception": false,
     "start_time": "2022-07-27T00:44:50.960682",
     "status": "completed"
    },
    "tags": []
   },
   "outputs": [],
   "source": [
    "#Impoting functions from 'Kudzu'\n",
    "from kudzu.model import Model\n",
    "from kudzu.train import Learner\n",
    "from kudzu.optim import GD\n",
    "from kudzu.data import Data, Sampler,Dataloader\n",
    "\n",
    "from kudzu.callbacks import AccCallback\n",
    "from kudzu.callbacks import ClfCallback\n",
    "\n",
    "from kudzu.loss import MSE\n",
    "\n",
    "from kudzu.layer import Sigmoid,Relu\n",
    "from kudzu.layer import Affine"
   ]
  },
  {
   "cell_type": "markdown",
   "id": "bc01172a",
   "metadata": {
    "papermill": {
     "duration": 0.032069,
     "end_time": "2022-07-27T00:44:51.080461",
     "exception": false,
     "start_time": "2022-07-27T00:44:51.048392",
     "status": "completed"
    },
    "tags": []
   },
   "source": [
    "### Let us create a `Config` class, to store important parameters. \n",
    "This class essentially plays the role of a dictionary."
   ]
  },
  {
   "cell_type": "code",
   "execution_count": 16,
   "id": "978281aa",
   "metadata": {
    "execution": {
     "iopub.execute_input": "2022-07-27T00:44:51.150513Z",
     "iopub.status.busy": "2022-07-27T00:44:51.149393Z",
     "iopub.status.idle": "2022-07-27T00:44:51.163790Z",
     "shell.execute_reply": "2022-07-27T00:44:51.164503Z"
    },
    "papermill": {
     "duration": 0.05218,
     "end_time": "2022-07-27T00:44:51.164681",
     "exception": false,
     "start_time": "2022-07-27T00:44:51.112501",
     "status": "completed"
    },
    "tags": []
   },
   "outputs": [],
   "source": [
    "class Config:\n",
    "    pass\n",
    "config = Config()\n",
    "config.lr = 0.001\n",
    "config.num_epochs = 250\n",
    "config.bs = 50"
   ]
  },
  {
   "cell_type": "markdown",
   "id": "1385fa59",
   "metadata": {
    "papermill": {
     "duration": 0.034836,
     "end_time": "2022-07-27T00:44:51.232356",
     "exception": false,
     "start_time": "2022-07-27T00:44:51.197520",
     "status": "completed"
    },
    "tags": []
   },
   "source": [
    "### Running Models with the Training data\n",
    "Details about the network layers:\n",
    "- A first affine layer has 784 inputs and does 100 affine transforms. These are followed by a Relu\n",
    "- A second affine layer has 100 inputs from the 100 activations of the past layer, and does 100 affine transforms. These are followed by a Relu\n",
    "- A third affine layer has 100 activations and does 2 affine transformations to create an embedding for visualization. There is no non-linearity here.\n",
    "- A final \"logistic regression\" which has an affine transform from 2 inputs to 1 output, which is squeezed through a sigmoid.\n"
   ]
  },
  {
   "cell_type": "code",
   "execution_count": 17,
   "id": "2b9c66db",
   "metadata": {
    "execution": {
     "iopub.execute_input": "2022-07-27T00:44:51.304941Z",
     "iopub.status.busy": "2022-07-27T00:44:51.299897Z",
     "iopub.status.idle": "2022-07-27T00:44:51.319533Z",
     "shell.execute_reply": "2022-07-27T00:44:51.318876Z"
    },
    "papermill": {
     "duration": 0.055294,
     "end_time": "2022-07-27T00:44:51.319674",
     "exception": false,
     "start_time": "2022-07-27T00:44:51.264380",
     "status": "completed"
    },
    "tags": []
   },
   "outputs": [],
   "source": [
    "data = Data(X_train, y_train.reshape(-1,1))\n",
    "sampler = Sampler(data, config.bs, shuffle=True)\n",
    "\n",
    "dl = Dataloader(data, sampler)\n",
    "\n",
    "opt = GD(config.lr)\n",
    "loss = MSE()"
   ]
  },
  {
   "cell_type": "code",
   "execution_count": 18,
   "id": "b275e4c2",
   "metadata": {
    "execution": {
     "iopub.execute_input": "2022-07-27T00:44:51.390438Z",
     "iopub.status.busy": "2022-07-27T00:44:51.389646Z",
     "iopub.status.idle": "2022-07-27T00:44:51.401684Z",
     "shell.execute_reply": "2022-07-27T00:44:51.402212Z"
    },
    "papermill": {
     "duration": 0.049669,
     "end_time": "2022-07-27T00:44:51.402347",
     "exception": false,
     "start_time": "2022-07-27T00:44:51.352678",
     "status": "completed"
    },
    "tags": []
   },
   "outputs": [],
   "source": [
    "training_data_x = X_train\n",
    "testing_data_x = X_test\n",
    "training_data_y = y_train.reshape(-1,1)\n",
    "testing_data_y = y_test.reshape(-1,1)"
   ]
  },
  {
   "cell_type": "code",
   "execution_count": 19,
   "id": "76951160",
   "metadata": {
    "execution": {
     "iopub.execute_input": "2022-07-27T00:44:51.470094Z",
     "iopub.status.busy": "2022-07-27T00:44:51.469321Z",
     "iopub.status.idle": "2022-07-27T00:44:51.487656Z",
     "shell.execute_reply": "2022-07-27T00:44:51.488208Z"
    },
    "papermill": {
     "duration": 0.053777,
     "end_time": "2022-07-27T00:44:51.488343",
     "exception": false,
     "start_time": "2022-07-27T00:44:51.434566",
     "status": "completed"
    },
    "tags": []
   },
   "outputs": [
    {
     "name": "stdout",
     "output_type": "stream",
     "text": [
      "xavier\n",
      "xavier\n",
      "xavier\n",
      "xavier\n",
      "xavier\n"
     ]
    }
   ],
   "source": [
    "layers = [Affine(\"first\", 784, 100), Relu(\"first\"), Affine(\"second\", 100, 100), Relu(\"second\"), Affine(\"third\", 100, 2), Affine(\"last\", 2, 1), Sigmoid(\"last\")]\n",
    "model_nn = Model(layers)\n",
    "model_lr = Model([Affine(\"logits\", 784, 1), Sigmoid(\"sigmoid\")])"
   ]
  },
  {
   "cell_type": "code",
   "execution_count": 20,
   "id": "6eede77a",
   "metadata": {
    "execution": {
     "iopub.execute_input": "2022-07-27T00:44:51.562387Z",
     "iopub.status.busy": "2022-07-27T00:44:51.561671Z",
     "iopub.status.idle": "2022-07-27T00:44:51.575294Z",
     "shell.execute_reply": "2022-07-27T00:44:51.574437Z"
    },
    "papermill": {
     "duration": 0.050212,
     "end_time": "2022-07-27T00:44:51.575432",
     "exception": false,
     "start_time": "2022-07-27T00:44:51.525220",
     "status": "completed"
    },
    "tags": []
   },
   "outputs": [],
   "source": [
    "nn_learner = Learner(loss, model_nn, opt, config.num_epochs)\n",
    "acc_nn = ClfCallback(nn_learner, config.bs, training_data_x , testing_data_x, training_data_y, testing_data_y)\n",
    "nn_learner.set_callbacks([acc_nn])"
   ]
  },
  {
   "cell_type": "code",
   "execution_count": 21,
   "id": "877b6cc7",
   "metadata": {
    "execution": {
     "iopub.execute_input": "2022-07-27T00:44:51.644118Z",
     "iopub.status.busy": "2022-07-27T00:44:51.643324Z",
     "iopub.status.idle": "2022-07-27T00:44:51.656297Z",
     "shell.execute_reply": "2022-07-27T00:44:51.656942Z"
    },
    "papermill": {
     "duration": 0.050254,
     "end_time": "2022-07-27T00:44:51.657075",
     "exception": false,
     "start_time": "2022-07-27T00:44:51.606821",
     "status": "completed"
    },
    "tags": []
   },
   "outputs": [],
   "source": [
    "lr_learner = Learner(loss, model_lr, opt, config.num_epochs)\n",
    "acc_lr = ClfCallback(lr_learner, config.bs, training_data_x , testing_data_x, training_data_y, testing_data_y)\n",
    "lr_learner.set_callbacks([acc_lr])"
   ]
  },
  {
   "cell_type": "code",
   "execution_count": 22,
   "id": "d9b133c3",
   "metadata": {
    "execution": {
     "iopub.execute_input": "2022-07-27T00:44:51.728850Z",
     "iopub.status.busy": "2022-07-27T00:44:51.728041Z",
     "iopub.status.idle": "2022-07-27T00:46:53.993568Z",
     "shell.execute_reply": "2022-07-27T00:46:53.994494Z"
    },
    "papermill": {
     "duration": 122.303643,
     "end_time": "2022-07-27T00:46:53.994687",
     "exception": false,
     "start_time": "2022-07-27T00:44:51.691044",
     "status": "completed"
    },
    "tags": []
   },
   "outputs": [
    {
     "name": "stdout",
     "output_type": "stream",
     "text": [
      "Epoch 0, Loss 0.2452\n",
      "Training Accuracy: 0.6596, Testing Accuracy: 0.6719\n",
      "\n"
     ]
    },
    {
     "name": "stdout",
     "output_type": "stream",
     "text": [
      "Epoch 10, Loss 0.082\n",
      "Training Accuracy: 0.9196, Testing Accuracy: 0.9279\n",
      "\n"
     ]
    },
    {
     "name": "stdout",
     "output_type": "stream",
     "text": [
      "Epoch 20, Loss 0.0532\n",
      "Training Accuracy: 0.9427, Testing Accuracy: 0.9511\n",
      "\n"
     ]
    },
    {
     "name": "stdout",
     "output_type": "stream",
     "text": [
      "Epoch 30, Loss 0.0425\n",
      "Training Accuracy: 0.9518, Testing Accuracy: 0.9607\n",
      "\n"
     ]
    },
    {
     "name": "stdout",
     "output_type": "stream",
     "text": [
      "Epoch 40, Loss 0.0368\n",
      "Training Accuracy: 0.9586, Testing Accuracy: 0.9642\n",
      "\n"
     ]
    },
    {
     "name": "stdout",
     "output_type": "stream",
     "text": [
      "Epoch 50, Loss 0.0333\n",
      "Training Accuracy: 0.9624, Testing Accuracy: 0.9677\n",
      "\n"
     ]
    },
    {
     "name": "stdout",
     "output_type": "stream",
     "text": [
      "Epoch 60, Loss 0.0307\n",
      "Training Accuracy: 0.9649, Testing Accuracy: 0.9698\n",
      "\n"
     ]
    },
    {
     "name": "stdout",
     "output_type": "stream",
     "text": [
      "Epoch 70, Loss 0.0288\n",
      "Training Accuracy: 0.9674, Testing Accuracy: 0.9698\n",
      "\n"
     ]
    },
    {
     "name": "stdout",
     "output_type": "stream",
     "text": [
      "Epoch 80, Loss 0.0273\n",
      "Training Accuracy: 0.9690, Testing Accuracy: 0.9713\n",
      "\n"
     ]
    },
    {
     "name": "stdout",
     "output_type": "stream",
     "text": [
      "Epoch 90, Loss 0.026\n",
      "Training Accuracy: 0.9710, Testing Accuracy: 0.9718\n",
      "\n"
     ]
    },
    {
     "name": "stdout",
     "output_type": "stream",
     "text": [
      "Epoch 100, Loss 0.0249\n",
      "Training Accuracy: 0.9720, Testing Accuracy: 0.9733\n",
      "\n"
     ]
    },
    {
     "name": "stdout",
     "output_type": "stream",
     "text": [
      "Epoch 110, Loss 0.0239\n",
      "Training Accuracy: 0.9736, Testing Accuracy: 0.9733\n",
      "\n"
     ]
    },
    {
     "name": "stdout",
     "output_type": "stream",
     "text": [
      "Epoch 120, Loss 0.023\n",
      "Training Accuracy: 0.9746, Testing Accuracy: 0.9738\n",
      "\n"
     ]
    },
    {
     "name": "stdout",
     "output_type": "stream",
     "text": [
      "Epoch 130, Loss 0.0221\n",
      "Training Accuracy: 0.9756, Testing Accuracy: 0.9748\n",
      "\n"
     ]
    },
    {
     "name": "stdout",
     "output_type": "stream",
     "text": [
      "Epoch 140, Loss 0.0214\n",
      "Training Accuracy: 0.9765, Testing Accuracy: 0.9758\n",
      "\n"
     ]
    },
    {
     "name": "stdout",
     "output_type": "stream",
     "text": [
      "Epoch 150, Loss 0.0207\n",
      "Training Accuracy: 0.9775, Testing Accuracy: 0.9758\n",
      "\n"
     ]
    },
    {
     "name": "stdout",
     "output_type": "stream",
     "text": [
      "Epoch 160, Loss 0.02\n",
      "Training Accuracy: 0.9786, Testing Accuracy: 0.9758\n",
      "\n"
     ]
    },
    {
     "name": "stdout",
     "output_type": "stream",
     "text": [
      "Epoch 170, Loss 0.0194\n",
      "Training Accuracy: 0.9791, Testing Accuracy: 0.9758\n",
      "\n"
     ]
    },
    {
     "name": "stdout",
     "output_type": "stream",
     "text": [
      "Epoch 180, Loss 0.0188\n",
      "Training Accuracy: 0.9800, Testing Accuracy: 0.9758\n",
      "\n"
     ]
    },
    {
     "name": "stdout",
     "output_type": "stream",
     "text": [
      "Epoch 190, Loss 0.0183\n",
      "Training Accuracy: 0.9801, Testing Accuracy: 0.9763\n",
      "\n"
     ]
    },
    {
     "name": "stdout",
     "output_type": "stream",
     "text": [
      "Epoch 200, Loss 0.0178\n",
      "Training Accuracy: 0.9805, Testing Accuracy: 0.9778\n",
      "\n"
     ]
    },
    {
     "name": "stdout",
     "output_type": "stream",
     "text": [
      "Epoch 210, Loss 0.0173\n",
      "Training Accuracy: 0.9812, Testing Accuracy: 0.9778\n",
      "\n"
     ]
    },
    {
     "name": "stdout",
     "output_type": "stream",
     "text": [
      "Epoch 220, Loss 0.0168\n",
      "Training Accuracy: 0.9824, Testing Accuracy: 0.9778\n",
      "\n"
     ]
    },
    {
     "name": "stdout",
     "output_type": "stream",
     "text": [
      "Epoch 230, Loss 0.0164\n",
      "Training Accuracy: 0.9828, Testing Accuracy: 0.9778\n",
      "\n"
     ]
    },
    {
     "name": "stdout",
     "output_type": "stream",
     "text": [
      "Epoch 240, Loss 0.016\n",
      "Training Accuracy: 0.9835, Testing Accuracy: 0.9783\n",
      "\n"
     ]
    },
    {
     "data": {
      "text/plain": [
       "0.013658112992511346"
      ]
     },
     "execution_count": 22,
     "metadata": {},
     "output_type": "execute_result"
    }
   ],
   "source": [
    "nn_learner.train_loop(dl)"
   ]
  },
  {
   "cell_type": "code",
   "execution_count": 23,
   "id": "e0163366",
   "metadata": {
    "execution": {
     "iopub.execute_input": "2022-07-27T00:46:54.082659Z",
     "iopub.status.busy": "2022-07-27T00:46:54.082000Z",
     "iopub.status.idle": "2022-07-27T00:47:11.324367Z",
     "shell.execute_reply": "2022-07-27T00:47:11.325269Z"
    },
    "papermill": {
     "duration": 17.290649,
     "end_time": "2022-07-27T00:47:11.325423",
     "exception": false,
     "start_time": "2022-07-27T00:46:54.034774",
     "status": "completed"
    },
    "tags": []
   },
   "outputs": [
    {
     "name": "stdout",
     "output_type": "stream",
     "text": [
      "Epoch 0, Loss 0.1946\n",
      "Training Accuracy: 0.8590, Testing Accuracy: 0.8695\n",
      "\n"
     ]
    },
    {
     "name": "stdout",
     "output_type": "stream",
     "text": [
      "Epoch 10, Loss 0.0954\n",
      "Training Accuracy: 0.9243, Testing Accuracy: 0.9350\n",
      "\n"
     ]
    },
    {
     "name": "stdout",
     "output_type": "stream",
     "text": [
      "Epoch 20, Loss 0.0758\n",
      "Training Accuracy: 0.9328, Testing Accuracy: 0.9441\n",
      "\n"
     ]
    },
    {
     "name": "stdout",
     "output_type": "stream",
     "text": [
      "Epoch 30, Loss 0.0662\n",
      "Training Accuracy: 0.9392, Testing Accuracy: 0.9546\n",
      "\n"
     ]
    },
    {
     "name": "stdout",
     "output_type": "stream",
     "text": [
      "Epoch 40, Loss 0.0603\n",
      "Training Accuracy: 0.9439, Testing Accuracy: 0.9551\n",
      "\n"
     ]
    },
    {
     "name": "stdout",
     "output_type": "stream",
     "text": [
      "Epoch 50, Loss 0.0562\n",
      "Training Accuracy: 0.9464, Testing Accuracy: 0.9572\n",
      "\n"
     ]
    },
    {
     "name": "stdout",
     "output_type": "stream",
     "text": [
      "Epoch 60, Loss 0.0532\n",
      "Training Accuracy: 0.9490, Testing Accuracy: 0.9582\n",
      "\n"
     ]
    },
    {
     "name": "stdout",
     "output_type": "stream",
     "text": [
      "Epoch 70, Loss 0.0508\n",
      "Training Accuracy: 0.9501, Testing Accuracy: 0.9602\n",
      "\n"
     ]
    },
    {
     "name": "stdout",
     "output_type": "stream",
     "text": [
      "Epoch 80, Loss 0.0489\n",
      "Training Accuracy: 0.9516, Testing Accuracy: 0.9612\n",
      "\n"
     ]
    },
    {
     "name": "stdout",
     "output_type": "stream",
     "text": [
      "Epoch 90, Loss 0.0473\n",
      "Training Accuracy: 0.9524, Testing Accuracy: 0.9612\n",
      "\n"
     ]
    },
    {
     "name": "stdout",
     "output_type": "stream",
     "text": [
      "Epoch 100, Loss 0.0459\n",
      "Training Accuracy: 0.9536, Testing Accuracy: 0.9617\n",
      "\n"
     ]
    },
    {
     "name": "stdout",
     "output_type": "stream",
     "text": [
      "Epoch 110, Loss 0.0448\n",
      "Training Accuracy: 0.9544, Testing Accuracy: 0.9617\n",
      "\n"
     ]
    },
    {
     "name": "stdout",
     "output_type": "stream",
     "text": [
      "Epoch 120, Loss 0.0437\n",
      "Training Accuracy: 0.9553, Testing Accuracy: 0.9632\n",
      "\n"
     ]
    },
    {
     "name": "stdout",
     "output_type": "stream",
     "text": [
      "Epoch 130, Loss 0.0428\n",
      "Training Accuracy: 0.9561, Testing Accuracy: 0.9632\n",
      "\n"
     ]
    },
    {
     "name": "stdout",
     "output_type": "stream",
     "text": [
      "Epoch 140, Loss 0.042\n",
      "Training Accuracy: 0.9565, Testing Accuracy: 0.9637\n",
      "\n"
     ]
    },
    {
     "name": "stdout",
     "output_type": "stream",
     "text": [
      "Epoch 150, Loss 0.0413\n",
      "Training Accuracy: 0.9570, Testing Accuracy: 0.9652\n",
      "\n"
     ]
    },
    {
     "name": "stdout",
     "output_type": "stream",
     "text": [
      "Epoch 160, Loss 0.0407\n",
      "Training Accuracy: 0.9576, Testing Accuracy: 0.9652\n",
      "\n"
     ]
    },
    {
     "name": "stdout",
     "output_type": "stream",
     "text": [
      "Epoch 170, Loss 0.0401\n",
      "Training Accuracy: 0.9579, Testing Accuracy: 0.9657\n",
      "\n"
     ]
    },
    {
     "name": "stdout",
     "output_type": "stream",
     "text": [
      "Epoch 180, Loss 0.0395\n",
      "Training Accuracy: 0.9587, Testing Accuracy: 0.9667\n",
      "\n"
     ]
    },
    {
     "name": "stdout",
     "output_type": "stream",
     "text": [
      "Epoch 190, Loss 0.039\n",
      "Training Accuracy: 0.9589, Testing Accuracy: 0.9672\n",
      "\n"
     ]
    },
    {
     "name": "stdout",
     "output_type": "stream",
     "text": [
      "Epoch 200, Loss 0.0385\n",
      "Training Accuracy: 0.9591, Testing Accuracy: 0.9688\n",
      "\n"
     ]
    },
    {
     "name": "stdout",
     "output_type": "stream",
     "text": [
      "Epoch 210, Loss 0.0381\n",
      "Training Accuracy: 0.9597, Testing Accuracy: 0.9682\n",
      "\n"
     ]
    },
    {
     "name": "stdout",
     "output_type": "stream",
     "text": [
      "Epoch 220, Loss 0.0377\n",
      "Training Accuracy: 0.9598, Testing Accuracy: 0.9682\n",
      "\n"
     ]
    },
    {
     "name": "stdout",
     "output_type": "stream",
     "text": [
      "Epoch 230, Loss 0.0373\n",
      "Training Accuracy: 0.9602, Testing Accuracy: 0.9677\n",
      "\n"
     ]
    },
    {
     "name": "stdout",
     "output_type": "stream",
     "text": [
      "Epoch 240, Loss 0.037\n",
      "Training Accuracy: 0.9606, Testing Accuracy: 0.9677\n",
      "\n"
     ]
    },
    {
     "data": {
      "text/plain": [
       "0.023591321745324474"
      ]
     },
     "execution_count": 23,
     "metadata": {},
     "output_type": "execute_result"
    }
   ],
   "source": [
    "lr_learner.train_loop(dl)"
   ]
  },
  {
   "cell_type": "code",
   "execution_count": 24,
   "id": "ca410940",
   "metadata": {
    "execution": {
     "iopub.execute_input": "2022-07-27T00:47:11.441112Z",
     "iopub.status.busy": "2022-07-27T00:47:11.439853Z",
     "iopub.status.idle": "2022-07-27T00:47:11.720548Z",
     "shell.execute_reply": "2022-07-27T00:47:11.719995Z"
    },
    "papermill": {
     "duration": 0.344344,
     "end_time": "2022-07-27T00:47:11.720676",
     "exception": false,
     "start_time": "2022-07-27T00:47:11.376332",
     "status": "completed"
    },
    "tags": []
   },
   "outputs": [
    {
     "data": {
      "text/plain": [
       "<matplotlib.legend.Legend at 0x7f19eabceac8>"
      ]
     },
     "execution_count": 24,
     "metadata": {},
     "output_type": "execute_result"
    },
    {
     "data": {
      "image/png": "[encoded data removed]",
      "text/plain": [
       "<Figure size 1080x720 with 1 Axes>"
      ]
     },
     "metadata": {
      "needs_background": "light"
     },
     "output_type": "display_data"
    }
   ],
   "source": [
    "#comparing the results of NN and LR\n",
    "plt.figure(figsize=(15,10))\n",
    "\n",
    "# Neural Network plots\n",
    "plt.plot(acc_nn.accuracies, 'r-', label = \"Training Accuracies - NN\")\n",
    "plt.plot(acc_nn.test_accuracies, 'g-', label = \"Testing Accuracies - NN\")\n",
    "\n",
    "# Logistic Regression plots\n",
    "plt.plot(acc_lr.accuracies, 'k-', label = \"Training Accuracies - LR\")\n",
    "plt.plot(acc_lr.test_accuracies, 'b-', label = \"Testing Accuracies - LR\")\n",
    "plt.legend()"
   ]
  },
  {
   "cell_type": "markdown",
   "id": "80dfb35c",
   "metadata": {
    "papermill": {
     "duration": 0.04718,
     "end_time": "2022-07-27T00:47:11.816573",
     "exception": false,
     "start_time": "2022-07-27T00:47:11.769393",
     "status": "completed"
    },
    "tags": []
   },
   "source": [
    "#### Plotting the outputs of this layer of the NN.\n"
   ]
  },
  {
   "cell_type": "code",
   "execution_count": 25,
   "id": "45eb2ff5",
   "metadata": {
    "execution": {
     "iopub.execute_input": "2022-07-27T00:47:11.918531Z",
     "iopub.status.busy": "2022-07-27T00:47:11.917841Z",
     "iopub.status.idle": "2022-07-27T00:47:11.941718Z",
     "shell.execute_reply": "2022-07-27T00:47:11.942257Z"
    },
    "papermill": {
     "duration": 0.07813,
     "end_time": "2022-07-27T00:47:11.942416",
     "exception": false,
     "start_time": "2022-07-27T00:47:11.864286",
     "status": "completed"
    },
    "tags": []
   },
   "outputs": [],
   "source": [
    "new_model = Model(layers[:-2])\n",
    "testing_plot = new_model(testing_data_x)"
   ]
  },
  {
   "cell_type": "code",
   "execution_count": 26,
   "id": "4c0a5485",
   "metadata": {
    "execution": {
     "iopub.execute_input": "2022-07-27T00:47:12.047900Z",
     "iopub.status.busy": "2022-07-27T00:47:12.043936Z",
     "iopub.status.idle": "2022-07-27T00:47:12.302018Z",
     "shell.execute_reply": "2022-07-27T00:47:12.302657Z"
    },
    "papermill": {
     "duration": 0.312183,
     "end_time": "2022-07-27T00:47:12.302810",
     "exception": false,
     "start_time": "2022-07-27T00:47:11.990627",
     "status": "completed"
    },
    "tags": []
   },
   "outputs": [
    {
     "data": {
      "text/plain": [
       "Text(0.5, 1.0, 'Outputs')"
      ]
     },
     "execution_count": 26,
     "metadata": {},
     "output_type": "execute_result"
    },
    {
     "data": {
      "image/png": "[encoded data removed]",
      "text/plain": [
       "<Figure size 576x504 with 1 Axes>"
      ]
     },
     "metadata": {
      "needs_background": "light"
     },
     "output_type": "display_data"
    }
   ],
   "source": [
    "# Plotting the scatter plot of points and color coding by class\n",
    "plt.figure(figsize=(8,7))\n",
    "plt.scatter(testing_plot[:,0], testing_plot[:,1], alpha = 0.1, c = y_test.ravel());\n",
    "plt.title('Outputs')"
   ]
  },
  {
   "cell_type": "markdown",
   "id": "a74fcf8f",
   "metadata": {
    "papermill": {
     "duration": 0.047435,
     "end_time": "2022-07-27T00:47:12.400005",
     "exception": false,
     "start_time": "2022-07-27T00:47:12.352570",
     "status": "completed"
    },
    "tags": []
   },
   "source": [
    "Probability contours"
   ]
  },
  {
   "cell_type": "code",
   "execution_count": 27,
   "id": "d0afc8e3",
   "metadata": {
    "execution": {
     "iopub.execute_input": "2022-07-27T00:47:12.507495Z",
     "iopub.status.busy": "2022-07-27T00:47:12.506606Z",
     "iopub.status.idle": "2022-07-27T00:47:12.519567Z",
     "shell.execute_reply": "2022-07-27T00:47:12.518921Z"
    },
    "papermill": {
     "duration": 0.068872,
     "end_time": "2022-07-27T00:47:12.519716",
     "exception": false,
     "start_time": "2022-07-27T00:47:12.450844",
     "status": "completed"
    },
    "tags": []
   },
   "outputs": [],
   "source": [
    "model_prob = Model(layers[-2:]) "
   ]
  },
  {
   "cell_type": "code",
   "execution_count": 28,
   "id": "9b96e238",
   "metadata": {
    "execution": {
     "iopub.execute_input": "2022-07-27T00:47:12.649977Z",
     "iopub.status.busy": "2022-07-27T00:47:12.649096Z",
     "iopub.status.idle": "2022-07-27T00:47:12.661310Z",
     "shell.execute_reply": "2022-07-27T00:47:12.661828Z"
    },
    "papermill": {
     "duration": 0.092494,
     "end_time": "2022-07-27T00:47:12.661977",
     "exception": false,
     "start_time": "2022-07-27T00:47:12.569483",
     "status": "completed"
    },
    "tags": []
   },
   "outputs": [],
   "source": [
    "#creating the x and y ranges according to the above generated plot.\n",
    "x_range = np.linspace(-4, 1, 100) \n",
    "y_range = np.linspace(-6, 6, 100) \n",
    "x_grid, y_grid = np.meshgrid(x_range, y_range) # x_grid and y_grig are of size 100 X 100\n",
    "\n",
    "# converting x_grid and y_grid to continuous arrays\n",
    "x_gridflat = np.ravel(x_grid)\n",
    "y_gridflat = np.ravel(y_grid)\n",
    "\n",
    "# The last layer of the current model takes two columns as input. Hence transpose of np.vstack() is required.\n",
    "X = np.vstack((x_gridflat, y_gridflat)).T\n",
    "\n",
    "prob_contour = model_prob(X).reshape(100,100) "
   ]
  },
  {
   "cell_type": "code",
   "execution_count": 29,
   "id": "da72499a",
   "metadata": {
    "execution": {
     "iopub.execute_input": "2022-07-27T00:47:12.774340Z",
     "iopub.status.busy": "2022-07-27T00:47:12.773680Z",
     "iopub.status.idle": "2022-07-27T00:47:13.083641Z",
     "shell.execute_reply": "2022-07-27T00:47:13.084245Z"
    },
    "papermill": {
     "duration": 0.367561,
     "end_time": "2022-07-27T00:47:13.084411",
     "exception": false,
     "start_time": "2022-07-27T00:47:12.716850",
     "status": "completed"
    },
    "tags": []
   },
   "outputs": [
    {
     "data": {
      "image/png": "[encoded data removed]",
      "text/plain": [
       "<Figure size 720x648 with 1 Axes>"
      ]
     },
     "metadata": {
      "needs_background": "light"
     },
     "output_type": "display_data"
    }
   ],
   "source": [
    "plt.figure(figsize=(10,9))\n",
    "plt.scatter(testing_plot[:,0], testing_plot[:,1], alpha = 0.1, c = y_test.ravel())\n",
    "contours = plt.contour(x_grid,y_grid,prob_contour)\n",
    "plt.title('Probability Contours')\n",
    "plt.clabel(contours, inline = True );"
   ]
  },
  {
   "cell_type": "code",
   "execution_count": null,
   "id": "e81b4ac7",
   "metadata": {
    "papermill": {
     "duration": 0.055348,
     "end_time": "2022-07-27T00:47:13.194094",
     "exception": false,
     "start_time": "2022-07-27T00:47:13.138746",
     "status": "completed"
    },
    "tags": []
   },
   "outputs": [],
   "source": []
  }
 ],
 "metadata": {
  "kernelspec": {
   "display_name": "Python 3",
   "language": "python",
   "name": "python3"
  },
  "language_info": {
   "codemirror_mode": {
    "name": "ipython",
    "version": 3
   },
   "file_extension": ".py",
   "mimetype": "text/x-python",
   "name": "python",
   "nbconvert_exporter": "python",
   "pygments_lexer": "ipython3",
   "version": "3.6.15"
  },
  "papermill": {
   "default_parameters": {},
   "duration": 148.978385,
   "end_time": "2022-07-27T00:47:13.670751",
   "environment_variables": {},
   "exception": null,
   "input_path": "2020-08-11-part2.ipynb",
   "output_path": "2020-08-11-part2.ipynb",
   "parameters": {},
   "start_time": "2022-07-27T00:44:44.692366",
   "version": "2.3.3"
  }
 },
 "nbformat": 4,
 "nbformat_minor": 5
}