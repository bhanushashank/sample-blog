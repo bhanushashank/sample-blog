{
 "cells": [
  {
   "cell_type": "markdown",
   "id": "98380cd3",
   "metadata": {
    "papermill": {
     "duration": 0.028621,
     "end_time": "2022-09-25T20:10:45.110854",
     "exception": false,
     "start_time": "2022-09-25T20:10:45.082233",
     "status": "completed"
    },
    "tags": []
   },
   "source": [
    "# Distinguish Your Own Digits (DYOD)"
   ]
  },
  {
   "cell_type": "markdown",
   "id": "ef31240d",
   "metadata": {
    "papermill": {
     "duration": 0.023778,
     "end_time": "2022-09-25T20:10:45.159230",
     "exception": false,
     "start_time": "2022-09-25T20:10:45.135452",
     "status": "completed"
    },
    "tags": []
   },
   "source": [
    "You are going to write a classifier that distinguishes between the number 3 and number 8."
   ]
  },
  {
   "cell_type": "code",
   "execution_count": 1,
   "id": "b15c8646",
   "metadata": {
    "execution": {
     "iopub.execute_input": "2022-09-25T20:10:45.216334Z",
     "iopub.status.busy": "2022-09-25T20:10:45.215789Z",
     "iopub.status.idle": "2022-09-25T20:10:45.226428Z",
     "shell.execute_reply": "2022-09-25T20:10:45.225980Z"
    },
    "papermill": {
     "duration": 0.043475,
     "end_time": "2022-09-25T20:10:45.226537",
     "exception": false,
     "start_time": "2022-09-25T20:10:45.183062",
     "status": "completed"
    },
    "tags": []
   },
   "outputs": [],
   "source": [
    "%load_ext autoreload\n",
    "%autoreload 2"
   ]
  },
  {
   "cell_type": "code",
   "execution_count": 2,
   "id": "22ef38dc",
   "metadata": {
    "execution": {
     "iopub.execute_input": "2022-09-25T20:10:45.277594Z",
     "iopub.status.busy": "2022-09-25T20:10:45.277051Z",
     "iopub.status.idle": "2022-09-25T20:10:45.776898Z",
     "shell.execute_reply": "2022-09-25T20:10:45.776415Z"
    },
    "papermill": {
     "duration": 0.52655,
     "end_time": "2022-09-25T20:10:45.777011",
     "exception": false,
     "start_time": "2022-09-25T20:10:45.250461",
     "status": "completed"
    },
    "tags": []
   },
   "outputs": [],
   "source": [
    "%matplotlib inline\n",
    "import numpy as np\n",
    "import matplotlib.pyplot as plt\n",
    "import pandas as pd"
   ]
  },
  {
   "cell_type": "markdown",
   "id": "ba036198",
   "metadata": {
    "papermill": {
     "duration": 0.023941,
     "end_time": "2022-09-25T20:10:45.825073",
     "exception": false,
     "start_time": "2022-09-25T20:10:45.801132",
     "status": "completed"
    },
    "tags": []
   },
   "source": [
    "From the command line run `pip install mnist`. This is a library that will help you bring down the mnist dataset. If you run this from a notebook, you need to put  `!pip install mnist` in a cell by itself."
   ]
  },
  {
   "cell_type": "code",
   "execution_count": 3,
   "id": "bb6ad8a1",
   "metadata": {
    "execution": {
     "iopub.execute_input": "2022-09-25T20:10:45.876837Z",
     "iopub.status.busy": "2022-09-25T20:10:45.876289Z",
     "iopub.status.idle": "2022-09-25T20:10:47.419466Z",
     "shell.execute_reply": "2022-09-25T20:10:47.418957Z"
    },
    "papermill": {
     "duration": 1.570587,
     "end_time": "2022-09-25T20:10:47.419577",
     "exception": false,
     "start_time": "2022-09-25T20:10:45.848990",
     "status": "completed"
    },
    "tags": []
   },
   "outputs": [
    {
     "name": "stdout",
     "output_type": "stream",
     "text": [
      "Collecting mnist\r\n"
     ]
    },
    {
     "name": "stdout",
     "output_type": "stream",
     "text": [
      "  Downloading mnist-0.2.2-py2.py3-none-any.whl (3.5 kB)\r\n",
      "Requirement already satisfied: numpy in /opt/hostedtoolcache/Python/3.6.15/x64/lib/python3.6/site-packages (from mnist) (1.19.5)\r\n"
     ]
    },
    {
     "name": "stdout",
     "output_type": "stream",
     "text": [
      "Installing collected packages: mnist\r\n"
     ]
    },
    {
     "name": "stdout",
     "output_type": "stream",
     "text": [
      "Successfully installed mnist-0.2.2\r\n"
     ]
    }
   ],
   "source": [
    "!pip install mnist"
   ]
  },
  {
   "cell_type": "markdown",
   "id": "69df9c9a",
   "metadata": {
    "papermill": {
     "duration": 0.024974,
     "end_time": "2022-09-25T20:10:47.470203",
     "exception": false,
     "start_time": "2022-09-25T20:10:47.445229",
     "status": "completed"
    },
    "tags": []
   },
   "source": [
    "## Preparing the Data"
   ]
  },
  {
   "cell_type": "code",
   "execution_count": 4,
   "id": "7f69d806",
   "metadata": {
    "execution": {
     "iopub.execute_input": "2022-09-25T20:10:47.523430Z",
     "iopub.status.busy": "2022-09-25T20:10:47.522850Z",
     "iopub.status.idle": "2022-09-25T20:10:47.537427Z",
     "shell.execute_reply": "2022-09-25T20:10:47.536989Z"
    },
    "papermill": {
     "duration": 0.042367,
     "end_time": "2022-09-25T20:10:47.537524",
     "exception": false,
     "start_time": "2022-09-25T20:10:47.495157",
     "status": "completed"
    },
    "tags": []
   },
   "outputs": [],
   "source": [
    "import mnist"
   ]
  },
  {
   "cell_type": "code",
   "execution_count": 5,
   "id": "a411e44f",
   "metadata": {
    "execution": {
     "iopub.execute_input": "2022-09-25T20:10:47.590342Z",
     "iopub.status.busy": "2022-09-25T20:10:47.589804Z",
     "iopub.status.idle": "2022-09-25T20:10:48.172981Z",
     "shell.execute_reply": "2022-09-25T20:10:48.171844Z"
    },
    "papermill": {
     "duration": 0.610592,
     "end_time": "2022-09-25T20:10:48.173105",
     "exception": false,
     "start_time": "2022-09-25T20:10:47.562513",
     "status": "completed"
    },
    "tags": []
   },
   "outputs": [],
   "source": [
    "train_images = mnist.train_images()\n",
    "train_labels = mnist.train_labels()"
   ]
  },
  {
   "cell_type": "code",
   "execution_count": 6,
   "id": "dceab3a5",
   "metadata": {
    "execution": {
     "iopub.execute_input": "2022-09-25T20:10:48.232292Z",
     "iopub.status.busy": "2022-09-25T20:10:48.226399Z",
     "iopub.status.idle": "2022-09-25T20:10:48.240264Z",
     "shell.execute_reply": "2022-09-25T20:10:48.239742Z"
    },
    "papermill": {
     "duration": 0.041668,
     "end_time": "2022-09-25T20:10:48.240359",
     "exception": false,
     "start_time": "2022-09-25T20:10:48.198691",
     "status": "completed"
    },
    "tags": []
   },
   "outputs": [
    {
     "data": {
      "text/plain": [
       "((60000, 28, 28), (60000,))"
      ]
     },
     "execution_count": 6,
     "metadata": {},
     "output_type": "execute_result"
    }
   ],
   "source": [
    "train_images.shape, train_labels.shape"
   ]
  },
  {
   "cell_type": "code",
   "execution_count": 7,
   "id": "f50dc2bb",
   "metadata": {
    "execution": {
     "iopub.execute_input": "2022-09-25T20:10:48.293606Z",
     "iopub.status.busy": "2022-09-25T20:10:48.293045Z",
     "iopub.status.idle": "2022-09-25T20:10:48.440752Z",
     "shell.execute_reply": "2022-09-25T20:10:48.440254Z"
    },
    "papermill": {
     "duration": 0.175421,
     "end_time": "2022-09-25T20:10:48.440859",
     "exception": false,
     "start_time": "2022-09-25T20:10:48.265438",
     "status": "completed"
    },
    "tags": []
   },
   "outputs": [],
   "source": [
    "test_images = mnist.test_images()\n",
    "test_labels = mnist.test_labels()"
   ]
  },
  {
   "cell_type": "code",
   "execution_count": 8,
   "id": "fc38cf1b",
   "metadata": {
    "execution": {
     "iopub.execute_input": "2022-09-25T20:10:48.495169Z",
     "iopub.status.busy": "2022-09-25T20:10:48.494619Z",
     "iopub.status.idle": "2022-09-25T20:10:48.506732Z",
     "shell.execute_reply": "2022-09-25T20:10:48.507276Z"
    },
    "papermill": {
     "duration": 0.040697,
     "end_time": "2022-09-25T20:10:48.507387",
     "exception": false,
     "start_time": "2022-09-25T20:10:48.466690",
     "status": "completed"
    },
    "tags": []
   },
   "outputs": [
    {
     "data": {
      "text/plain": [
       "((10000, 28, 28), (10000,))"
      ]
     },
     "execution_count": 8,
     "metadata": {},
     "output_type": "execute_result"
    }
   ],
   "source": [
    "test_images.shape, test_labels.shape"
   ]
  },
  {
   "cell_type": "code",
   "execution_count": 9,
   "id": "f9ed8fe0",
   "metadata": {
    "execution": {
     "iopub.execute_input": "2022-09-25T20:10:48.561773Z",
     "iopub.status.busy": "2022-09-25T20:10:48.561233Z",
     "iopub.status.idle": "2022-09-25T20:10:48.691610Z",
     "shell.execute_reply": "2022-09-25T20:10:48.692047Z"
    },
    "papermill": {
     "duration": 0.159376,
     "end_time": "2022-09-25T20:10:48.692161",
     "exception": false,
     "start_time": "2022-09-25T20:10:48.532785",
     "status": "completed"
    },
    "tags": []
   },
   "outputs": [
    {
     "name": "stdout",
     "output_type": "stream",
     "text": [
      "2\n"
     ]
    },
    {
     "data": {
      "text/plain": [
       "<matplotlib.image.AxesImage at 0x7f4fdb994cf8>"
      ]
     },
     "execution_count": 9,
     "metadata": {},
     "output_type": "execute_result"
    },
    {
     "data": {
      "image/png": "[encoded data removed]",
      "text/plain": [
       "<Figure size 432x288 with 1 Axes>"
      ]
     },
     "metadata": {
      "needs_background": "light"
     },
     "output_type": "display_data"
    }
   ],
   "source": [
    "image_index = 7776 # You may select anything up to 60,000\n",
    "print(train_labels[image_index]) \n",
    "plt.imshow(train_images[image_index], cmap='Greys')"
   ]
  },
  {
   "cell_type": "markdown",
   "id": "a8d2388d",
   "metadata": {
    "papermill": {
     "duration": 0.02671,
     "end_time": "2022-09-25T20:10:48.745807",
     "exception": false,
     "start_time": "2022-09-25T20:10:48.719097",
     "status": "completed"
    },
    "tags": []
   },
   "source": [
    "## Filter data to get 3 and 8 out"
   ]
  },
  {
   "cell_type": "code",
   "execution_count": 10,
   "id": "776f7fc7",
   "metadata": {
    "execution": {
     "iopub.execute_input": "2022-09-25T20:10:48.802450Z",
     "iopub.status.busy": "2022-09-25T20:10:48.801892Z",
     "iopub.status.idle": "2022-09-25T20:10:48.815538Z",
     "shell.execute_reply": "2022-09-25T20:10:48.815996Z"
    },
    "papermill": {
     "duration": 0.043648,
     "end_time": "2022-09-25T20:10:48.816104",
     "exception": false,
     "start_time": "2022-09-25T20:10:48.772456",
     "status": "completed"
    },
    "tags": []
   },
   "outputs": [],
   "source": [
    "train_filter = np.where((train_labels == 3 ) | (train_labels == 8))\n",
    "test_filter = np.where((test_labels == 3) | (test_labels == 8))\n",
    "X_train, y_train = train_images[train_filter], train_labels[train_filter]\n",
    "X_test, y_test = test_images[test_filter], test_labels[test_filter]"
   ]
  },
  {
   "cell_type": "markdown",
   "id": "948f0b7e",
   "metadata": {
    "papermill": {
     "duration": 0.026483,
     "end_time": "2022-09-25T20:10:48.869326",
     "exception": false,
     "start_time": "2022-09-25T20:10:48.842843",
     "status": "completed"
    },
    "tags": []
   },
   "source": [
    "We normalize the pizel values in the 0 to 1 range"
   ]
  },
  {
   "cell_type": "code",
   "execution_count": 11,
   "id": "ee4c2166",
   "metadata": {
    "execution": {
     "iopub.execute_input": "2022-09-25T20:10:48.925249Z",
     "iopub.status.busy": "2022-09-25T20:10:48.924707Z",
     "iopub.status.idle": "2022-09-25T20:10:48.961869Z",
     "shell.execute_reply": "2022-09-25T20:10:48.961403Z"
    },
    "papermill": {
     "duration": 0.066122,
     "end_time": "2022-09-25T20:10:48.961974",
     "exception": false,
     "start_time": "2022-09-25T20:10:48.895852",
     "status": "completed"
    },
    "tags": []
   },
   "outputs": [],
   "source": [
    "X_train = X_train/255.\n",
    "X_test = X_test/255."
   ]
  },
  {
   "cell_type": "markdown",
   "id": "ddcf4fab",
   "metadata": {
    "papermill": {
     "duration": 0.026583,
     "end_time": "2022-09-25T20:10:49.015454",
     "exception": false,
     "start_time": "2022-09-25T20:10:48.988871",
     "status": "completed"
    },
    "tags": []
   },
   "source": [
    "And setup the labels as 1 (when the digit is 3) and 0 (when the digit is 8)"
   ]
  },
  {
   "cell_type": "code",
   "execution_count": 12,
   "id": "7dc908f2",
   "metadata": {
    "execution": {
     "iopub.execute_input": "2022-09-25T20:10:49.072019Z",
     "iopub.status.busy": "2022-09-25T20:10:49.071467Z",
     "iopub.status.idle": "2022-09-25T20:10:49.082763Z",
     "shell.execute_reply": "2022-09-25T20:10:49.083225Z"
    },
    "papermill": {
     "duration": 0.041303,
     "end_time": "2022-09-25T20:10:49.083335",
     "exception": false,
     "start_time": "2022-09-25T20:10:49.042032",
     "status": "completed"
    },
    "tags": []
   },
   "outputs": [],
   "source": [
    "y_train = 1*(y_train==3)\n",
    "y_test = 1*(y_test==3)"
   ]
  },
  {
   "cell_type": "code",
   "execution_count": 13,
   "id": "01e4e969",
   "metadata": {
    "execution": {
     "iopub.execute_input": "2022-09-25T20:10:49.139617Z",
     "iopub.status.busy": "2022-09-25T20:10:49.139040Z",
     "iopub.status.idle": "2022-09-25T20:10:49.151477Z",
     "shell.execute_reply": "2022-09-25T20:10:49.151008Z"
    },
    "papermill": {
     "duration": 0.041563,
     "end_time": "2022-09-25T20:10:49.151572",
     "exception": false,
     "start_time": "2022-09-25T20:10:49.110009",
     "status": "completed"
    },
    "tags": []
   },
   "outputs": [
    {
     "data": {
      "text/plain": [
       "((11982, 28, 28), (1984, 28, 28))"
      ]
     },
     "execution_count": 13,
     "metadata": {},
     "output_type": "execute_result"
    }
   ],
   "source": [
    "X_train.shape, X_test.shape"
   ]
  },
  {
   "cell_type": "markdown",
   "id": "5ccf3f85",
   "metadata": {
    "papermill": {
     "duration": 0.026941,
     "end_time": "2022-09-25T20:10:49.205253",
     "exception": false,
     "start_time": "2022-09-25T20:10:49.178312",
     "status": "completed"
    },
    "tags": []
   },
   "source": [
    "We reshape the data to flatten the image pixels into a set of features or co-variates:"
   ]
  },
  {
   "cell_type": "code",
   "execution_count": 14,
   "id": "5286a4a3",
   "metadata": {
    "execution": {
     "iopub.execute_input": "2022-09-25T20:10:49.262242Z",
     "iopub.status.busy": "2022-09-25T20:10:49.261690Z",
     "iopub.status.idle": "2022-09-25T20:10:49.273552Z",
     "shell.execute_reply": "2022-09-25T20:10:49.273972Z"
    },
    "papermill": {
     "duration": 0.041878,
     "end_time": "2022-09-25T20:10:49.274077",
     "exception": false,
     "start_time": "2022-09-25T20:10:49.232199",
     "status": "completed"
    },
    "tags": []
   },
   "outputs": [
    {
     "data": {
      "text/plain": [
       "((11982, 784), (1984, 784))"
      ]
     },
     "execution_count": 14,
     "metadata": {},
     "output_type": "execute_result"
    }
   ],
   "source": [
    "X_train = X_train.reshape(X_train.shape[0], -1)\n",
    "X_test = X_test.reshape(X_test.shape[0], -1)\n",
    "X_train.shape, X_test.shape"
   ]
  },
  {
   "cell_type": "code",
   "execution_count": 15,
   "id": "73c5f88a",
   "metadata": {
    "execution": {
     "iopub.execute_input": "2022-09-25T20:10:49.332060Z",
     "iopub.status.busy": "2022-09-25T20:10:49.331497Z",
     "iopub.status.idle": "2022-09-25T20:10:49.347742Z",
     "shell.execute_reply": "2022-09-25T20:10:49.348174Z"
    },
    "papermill": {
     "duration": 0.047201,
     "end_time": "2022-09-25T20:10:49.348280",
     "exception": false,
     "start_time": "2022-09-25T20:10:49.301079",
     "status": "completed"
    },
    "tags": []
   },
   "outputs": [],
   "source": [
    "#Impoting functions from 'Kudzu'\n",
    "from kudzu.model import Model\n",
    "from kudzu.train import Learner\n",
    "from kudzu.optim import GD\n",
    "from kudzu.data import Data, Sampler,Dataloader\n",
    "\n",
    "from kudzu.callbacks import AccCallback\n",
    "from kudzu.callbacks import ClfCallback\n",
    "\n",
    "from kudzu.loss import MSE\n",
    "\n",
    "from kudzu.layer import Sigmoid,Relu\n",
    "from kudzu.layer import Affine"
   ]
  },
  {
   "cell_type": "markdown",
   "id": "bc01172a",
   "metadata": {
    "papermill": {
     "duration": 0.026997,
     "end_time": "2022-09-25T20:10:49.402364",
     "exception": false,
     "start_time": "2022-09-25T20:10:49.375367",
     "status": "completed"
    },
    "tags": []
   },
   "source": [
    "### Let us create a `Config` class, to store important parameters. \n",
    "This class essentially plays the role of a dictionary."
   ]
  },
  {
   "cell_type": "code",
   "execution_count": 16,
   "id": "978281aa",
   "metadata": {
    "execution": {
     "iopub.execute_input": "2022-09-25T20:10:49.459674Z",
     "iopub.status.busy": "2022-09-25T20:10:49.459078Z",
     "iopub.status.idle": "2022-09-25T20:10:49.469372Z",
     "shell.execute_reply": "2022-09-25T20:10:49.469816Z"
    },
    "papermill": {
     "duration": 0.04064,
     "end_time": "2022-09-25T20:10:49.469920",
     "exception": false,
     "start_time": "2022-09-25T20:10:49.429280",
     "status": "completed"
    },
    "tags": []
   },
   "outputs": [],
   "source": [
    "class Config:\n",
    "    pass\n",
    "config = Config()\n",
    "config.lr = 0.001\n",
    "config.num_epochs = 250\n",
    "config.bs = 50"
   ]
  },
  {
   "cell_type": "markdown",
   "id": "1385fa59",
   "metadata": {
    "papermill": {
     "duration": 0.026991,
     "end_time": "2022-09-25T20:10:49.523993",
     "exception": false,
     "start_time": "2022-09-25T20:10:49.497002",
     "status": "completed"
    },
    "tags": []
   },
   "source": [
    "### Running Models with the Training data\n",
    "Details about the network layers:\n",
    "- A first affine layer has 784 inputs and does 100 affine transforms. These are followed by a Relu\n",
    "- A second affine layer has 100 inputs from the 100 activations of the past layer, and does 100 affine transforms. These are followed by a Relu\n",
    "- A third affine layer has 100 activations and does 2 affine transformations to create an embedding for visualization. There is no non-linearity here.\n",
    "- A final \"logistic regression\" which has an affine transform from 2 inputs to 1 output, which is squeezed through a sigmoid.\n"
   ]
  },
  {
   "cell_type": "code",
   "execution_count": 17,
   "id": "2b9c66db",
   "metadata": {
    "execution": {
     "iopub.execute_input": "2022-09-25T20:10:49.581301Z",
     "iopub.status.busy": "2022-09-25T20:10:49.580766Z",
     "iopub.status.idle": "2022-09-25T20:10:49.592432Z",
     "shell.execute_reply": "2022-09-25T20:10:49.591971Z"
    },
    "papermill": {
     "duration": 0.041475,
     "end_time": "2022-09-25T20:10:49.592525",
     "exception": false,
     "start_time": "2022-09-25T20:10:49.551050",
     "status": "completed"
    },
    "tags": []
   },
   "outputs": [],
   "source": [
    "data = Data(X_train, y_train.reshape(-1,1))\n",
    "sampler = Sampler(data, config.bs, shuffle=True)\n",
    "\n",
    "dl = Dataloader(data, sampler)\n",
    "\n",
    "opt = GD(config.lr)\n",
    "loss = MSE()"
   ]
  },
  {
   "cell_type": "code",
   "execution_count": 18,
   "id": "b275e4c2",
   "metadata": {
    "execution": {
     "iopub.execute_input": "2022-09-25T20:10:49.649751Z",
     "iopub.status.busy": "2022-09-25T20:10:49.649198Z",
     "iopub.status.idle": "2022-09-25T20:10:49.659819Z",
     "shell.execute_reply": "2022-09-25T20:10:49.659366Z"
    },
    "papermill": {
     "duration": 0.040258,
     "end_time": "2022-09-25T20:10:49.659911",
     "exception": false,
     "start_time": "2022-09-25T20:10:49.619653",
     "status": "completed"
    },
    "tags": []
   },
   "outputs": [],
   "source": [
    "training_data_x = X_train\n",
    "testing_data_x = X_test\n",
    "training_data_y = y_train.reshape(-1,1)\n",
    "testing_data_y = y_test.reshape(-1,1)"
   ]
  },
  {
   "cell_type": "code",
   "execution_count": 19,
   "id": "76951160",
   "metadata": {
    "execution": {
     "iopub.execute_input": "2022-09-25T20:10:49.717633Z",
     "iopub.status.busy": "2022-09-25T20:10:49.717070Z",
     "iopub.status.idle": "2022-09-25T20:10:49.731533Z",
     "shell.execute_reply": "2022-09-25T20:10:49.731979Z"
    },
    "papermill": {
     "duration": 0.045175,
     "end_time": "2022-09-25T20:10:49.732088",
     "exception": false,
     "start_time": "2022-09-25T20:10:49.686913",
     "status": "completed"
    },
    "tags": []
   },
   "outputs": [
    {
     "name": "stdout",
     "output_type": "stream",
     "text": [
      "xavier\n",
      "xavier\n",
      "xavier\n",
      "xavier\n",
      "xavier\n"
     ]
    }
   ],
   "source": [
    "layers = [Affine(\"first\", 784, 100), Relu(\"first\"), Affine(\"second\", 100, 100), Relu(\"second\"), Affine(\"third\", 100, 2), Affine(\"last\", 2, 1), Sigmoid(\"last\")]\n",
    "model_nn = Model(layers)\n",
    "model_lr = Model([Affine(\"logits\", 784, 1), Sigmoid(\"sigmoid\")])"
   ]
  },
  {
   "cell_type": "code",
   "execution_count": 20,
   "id": "6eede77a",
   "metadata": {
    "execution": {
     "iopub.execute_input": "2022-09-25T20:10:49.789908Z",
     "iopub.status.busy": "2022-09-25T20:10:49.789356Z",
     "iopub.status.idle": "2022-09-25T20:10:49.800453Z",
     "shell.execute_reply": "2022-09-25T20:10:49.800013Z"
    },
    "papermill": {
     "duration": 0.041121,
     "end_time": "2022-09-25T20:10:49.800543",
     "exception": false,
     "start_time": "2022-09-25T20:10:49.759422",
     "status": "completed"
    },
    "tags": []
   },
   "outputs": [],
   "source": [
    "nn_learner = Learner(loss, model_nn, opt, config.num_epochs)\n",
    "acc_nn = ClfCallback(nn_learner, config.bs, training_data_x , testing_data_x, training_data_y, testing_data_y)\n",
    "nn_learner.set_callbacks([acc_nn])"
   ]
  },
  {
   "cell_type": "code",
   "execution_count": 21,
   "id": "877b6cc7",
   "metadata": {
    "execution": {
     "iopub.execute_input": "2022-09-25T20:10:49.858283Z",
     "iopub.status.busy": "2022-09-25T20:10:49.857736Z",
     "iopub.status.idle": "2022-09-25T20:10:49.868416Z",
     "shell.execute_reply": "2022-09-25T20:10:49.867972Z"
    },
    "papermill": {
     "duration": 0.040614,
     "end_time": "2022-09-25T20:10:49.868508",
     "exception": false,
     "start_time": "2022-09-25T20:10:49.827894",
     "status": "completed"
    },
    "tags": []
   },
   "outputs": [],
   "source": [
    "lr_learner = Learner(loss, model_lr, opt, config.num_epochs)\n",
    "acc_lr = ClfCallback(lr_learner, config.bs, training_data_x , testing_data_x, training_data_y, testing_data_y)\n",
    "lr_learner.set_callbacks([acc_lr])"
   ]
  },
  {
   "cell_type": "code",
   "execution_count": 22,
   "id": "d9b133c3",
   "metadata": {
    "execution": {
     "iopub.execute_input": "2022-09-25T20:10:49.927190Z",
     "iopub.status.busy": "2022-09-25T20:10:49.926645Z",
     "iopub.status.idle": "2022-09-25T20:13:46.474132Z",
     "shell.execute_reply": "2022-09-25T20:13:46.474586Z"
    },
    "papermill": {
     "duration": 176.57716,
     "end_time": "2022-09-25T20:13:46.474707",
     "exception": false,
     "start_time": "2022-09-25T20:10:49.897547",
     "status": "completed"
    },
    "tags": []
   },
   "outputs": [
    {
     "name": "stdout",
     "output_type": "stream",
     "text": [
      "Epoch 0, Loss 0.2488\n",
      "Training Accuracy: 0.6167, Testing Accuracy: 0.6099\n",
      "\n"
     ]
    },
    {
     "name": "stdout",
     "output_type": "stream",
     "text": [
      "Epoch 10, Loss 0.1441\n",
      "Training Accuracy: 0.9053, Testing Accuracy: 0.9118\n",
      "\n"
     ]
    },
    {
     "name": "stdout",
     "output_type": "stream",
     "text": [
      "Epoch 20, Loss 0.076\n",
      "Training Accuracy: 0.9263, Testing Accuracy: 0.9350\n",
      "\n"
     ]
    },
    {
     "name": "stdout",
     "output_type": "stream",
     "text": [
      "Epoch 30, Loss 0.0546\n",
      "Training Accuracy: 0.9411, Testing Accuracy: 0.9501\n",
      "\n"
     ]
    },
    {
     "name": "stdout",
     "output_type": "stream",
     "text": [
      "Epoch 40, Loss 0.0446\n",
      "Training Accuracy: 0.9486, Testing Accuracy: 0.9592\n",
      "\n"
     ]
    },
    {
     "name": "stdout",
     "output_type": "stream",
     "text": [
      "Epoch 50, Loss 0.039\n",
      "Training Accuracy: 0.9544, Testing Accuracy: 0.9647\n",
      "\n"
     ]
    },
    {
     "name": "stdout",
     "output_type": "stream",
     "text": [
      "Epoch 60, Loss 0.0354\n",
      "Training Accuracy: 0.9589, Testing Accuracy: 0.9657\n",
      "\n"
     ]
    },
    {
     "name": "stdout",
     "output_type": "stream",
     "text": [
      "Epoch 70, Loss 0.0329\n",
      "Training Accuracy: 0.9616, Testing Accuracy: 0.9662\n",
      "\n"
     ]
    },
    {
     "name": "stdout",
     "output_type": "stream",
     "text": [
      "Epoch 80, Loss 0.031\n",
      "Training Accuracy: 0.9632, Testing Accuracy: 0.9662\n",
      "\n"
     ]
    },
    {
     "name": "stdout",
     "output_type": "stream",
     "text": [
      "Epoch 90, Loss 0.0295\n",
      "Training Accuracy: 0.9644, Testing Accuracy: 0.9662\n",
      "\n"
     ]
    },
    {
     "name": "stdout",
     "output_type": "stream",
     "text": [
      "Epoch 100, Loss 0.0283\n",
      "Training Accuracy: 0.9664, Testing Accuracy: 0.9672\n",
      "\n"
     ]
    },
    {
     "name": "stdout",
     "output_type": "stream",
     "text": [
      "Epoch 110, Loss 0.0273\n",
      "Training Accuracy: 0.9683, Testing Accuracy: 0.9677\n",
      "\n"
     ]
    },
    {
     "name": "stdout",
     "output_type": "stream",
     "text": [
      "Epoch 120, Loss 0.0264\n",
      "Training Accuracy: 0.9697, Testing Accuracy: 0.9682\n",
      "\n"
     ]
    },
    {
     "name": "stdout",
     "output_type": "stream",
     "text": [
      "Epoch 130, Loss 0.0256\n",
      "Training Accuracy: 0.9704, Testing Accuracy: 0.9677\n",
      "\n"
     ]
    },
    {
     "name": "stdout",
     "output_type": "stream",
     "text": [
      "Epoch 140, Loss 0.0249\n",
      "Training Accuracy: 0.9715, Testing Accuracy: 0.9688\n",
      "\n"
     ]
    },
    {
     "name": "stdout",
     "output_type": "stream",
     "text": [
      "Epoch 150, Loss 0.0242\n",
      "Training Accuracy: 0.9725, Testing Accuracy: 0.9698\n",
      "\n"
     ]
    },
    {
     "name": "stdout",
     "output_type": "stream",
     "text": [
      "Epoch 160, Loss 0.0236\n",
      "Training Accuracy: 0.9729, Testing Accuracy: 0.9698\n",
      "\n"
     ]
    },
    {
     "name": "stdout",
     "output_type": "stream",
     "text": [
      "Epoch 170, Loss 0.0231\n",
      "Training Accuracy: 0.9735, Testing Accuracy: 0.9708\n",
      "\n"
     ]
    },
    {
     "name": "stdout",
     "output_type": "stream",
     "text": [
      "Epoch 180, Loss 0.0226\n",
      "Training Accuracy: 0.9740, Testing Accuracy: 0.9713\n",
      "\n"
     ]
    },
    {
     "name": "stdout",
     "output_type": "stream",
     "text": [
      "Epoch 190, Loss 0.0221\n",
      "Training Accuracy: 0.9745, Testing Accuracy: 0.9703\n",
      "\n"
     ]
    },
    {
     "name": "stdout",
     "output_type": "stream",
     "text": [
      "Epoch 200, Loss 0.0217\n",
      "Training Accuracy: 0.9753, Testing Accuracy: 0.9713\n",
      "\n"
     ]
    },
    {
     "name": "stdout",
     "output_type": "stream",
     "text": [
      "Epoch 210, Loss 0.0212\n",
      "Training Accuracy: 0.9762, Testing Accuracy: 0.9718\n",
      "\n"
     ]
    },
    {
     "name": "stdout",
     "output_type": "stream",
     "text": [
      "Epoch 220, Loss 0.0208\n",
      "Training Accuracy: 0.9765, Testing Accuracy: 0.9718\n",
      "\n"
     ]
    },
    {
     "name": "stdout",
     "output_type": "stream",
     "text": [
      "Epoch 230, Loss 0.0204\n",
      "Training Accuracy: 0.9775, Testing Accuracy: 0.9718\n",
      "\n"
     ]
    },
    {
     "name": "stdout",
     "output_type": "stream",
     "text": [
      "Epoch 240, Loss 0.0201\n",
      "Training Accuracy: 0.9780, Testing Accuracy: 0.9728\n",
      "\n"
     ]
    },
    {
     "data": {
      "text/plain": [
       "0.00441837441853096"
      ]
     },
     "execution_count": 22,
     "metadata": {},
     "output_type": "execute_result"
    }
   ],
   "source": [
    "nn_learner.train_loop(dl)"
   ]
  },
  {
   "cell_type": "code",
   "execution_count": 23,
   "id": "e0163366",
   "metadata": {
    "execution": {
     "iopub.execute_input": "2022-09-25T20:13:46.549179Z",
     "iopub.status.busy": "2022-09-25T20:13:46.547916Z",
     "iopub.status.idle": "2022-09-25T20:13:58.593439Z",
     "shell.execute_reply": "2022-09-25T20:13:58.594300Z"
    },
    "papermill": {
     "duration": 12.085143,
     "end_time": "2022-09-25T20:13:58.594435",
     "exception": false,
     "start_time": "2022-09-25T20:13:46.509292",
     "status": "completed"
    },
    "tags": []
   },
   "outputs": [
    {
     "name": "stdout",
     "output_type": "stream",
     "text": [
      "Epoch 0, Loss 0.2649\n",
      "Training Accuracy: 0.5778, Testing Accuracy: 0.5897\n",
      "\n"
     ]
    },
    {
     "name": "stdout",
     "output_type": "stream",
     "text": [
      "Epoch 10, Loss 0.1094\n",
      "Training Accuracy: 0.8933, Testing Accuracy: 0.8992\n",
      "\n"
     ]
    },
    {
     "name": "stdout",
     "output_type": "stream",
     "text": [
      "Epoch 20, Loss 0.0819\n",
      "Training Accuracy: 0.9223, Testing Accuracy: 0.9309\n",
      "\n"
     ]
    },
    {
     "name": "stdout",
     "output_type": "stream",
     "text": [
      "Epoch 30, Loss 0.0697\n",
      "Training Accuracy: 0.9334, Testing Accuracy: 0.9400\n",
      "\n"
     ]
    },
    {
     "name": "stdout",
     "output_type": "stream",
     "text": [
      "Epoch 40, Loss 0.0626\n",
      "Training Accuracy: 0.9394, Testing Accuracy: 0.9476\n",
      "\n"
     ]
    },
    {
     "name": "stdout",
     "output_type": "stream",
     "text": [
      "Epoch 50, Loss 0.0579\n",
      "Training Accuracy: 0.9431, Testing Accuracy: 0.9526\n",
      "\n"
     ]
    },
    {
     "name": "stdout",
     "output_type": "stream",
     "text": [
      "Epoch 60, Loss 0.0544\n",
      "Training Accuracy: 0.9456, Testing Accuracy: 0.9556\n",
      "\n"
     ]
    },
    {
     "name": "stdout",
     "output_type": "stream",
     "text": [
      "Epoch 70, Loss 0.0518\n",
      "Training Accuracy: 0.9477, Testing Accuracy: 0.9567\n",
      "\n"
     ]
    },
    {
     "name": "stdout",
     "output_type": "stream",
     "text": [
      "Epoch 80, Loss 0.0497\n",
      "Training Accuracy: 0.9494, Testing Accuracy: 0.9577\n",
      "\n"
     ]
    },
    {
     "name": "stdout",
     "output_type": "stream",
     "text": [
      "Epoch 90, Loss 0.0479\n",
      "Training Accuracy: 0.9511, Testing Accuracy: 0.9582\n",
      "\n"
     ]
    },
    {
     "name": "stdout",
     "output_type": "stream",
     "text": [
      "Epoch 100, Loss 0.0464\n",
      "Training Accuracy: 0.9520, Testing Accuracy: 0.9592\n",
      "\n"
     ]
    },
    {
     "name": "stdout",
     "output_type": "stream",
     "text": [
      "Epoch 110, Loss 0.0452\n",
      "Training Accuracy: 0.9530, Testing Accuracy: 0.9612\n",
      "\n"
     ]
    },
    {
     "name": "stdout",
     "output_type": "stream",
     "text": [
      "Epoch 120, Loss 0.0441\n",
      "Training Accuracy: 0.9542, Testing Accuracy: 0.9622\n",
      "\n"
     ]
    },
    {
     "name": "stdout",
     "output_type": "stream",
     "text": [
      "Epoch 130, Loss 0.0431\n",
      "Training Accuracy: 0.9551, Testing Accuracy: 0.9617\n",
      "\n"
     ]
    },
    {
     "name": "stdout",
     "output_type": "stream",
     "text": [
      "Epoch 140, Loss 0.0423\n",
      "Training Accuracy: 0.9560, Testing Accuracy: 0.9622\n",
      "\n"
     ]
    },
    {
     "name": "stdout",
     "output_type": "stream",
     "text": [
      "Epoch 150, Loss 0.0415\n",
      "Training Accuracy: 0.9564, Testing Accuracy: 0.9627\n",
      "\n"
     ]
    },
    {
     "name": "stdout",
     "output_type": "stream",
     "text": [
      "Epoch 160, Loss 0.0408\n",
      "Training Accuracy: 0.9569, Testing Accuracy: 0.9627\n",
      "\n"
     ]
    },
    {
     "name": "stdout",
     "output_type": "stream",
     "text": [
      "Epoch 170, Loss 0.0402\n",
      "Training Accuracy: 0.9574, Testing Accuracy: 0.9632\n",
      "\n"
     ]
    },
    {
     "name": "stdout",
     "output_type": "stream",
     "text": [
      "Epoch 180, Loss 0.0396\n",
      "Training Accuracy: 0.9579, Testing Accuracy: 0.9642\n",
      "\n"
     ]
    },
    {
     "name": "stdout",
     "output_type": "stream",
     "text": [
      "Epoch 190, Loss 0.0391\n",
      "Training Accuracy: 0.9585, Testing Accuracy: 0.9647\n",
      "\n"
     ]
    },
    {
     "name": "stdout",
     "output_type": "stream",
     "text": [
      "Epoch 200, Loss 0.0386\n",
      "Training Accuracy: 0.9588, Testing Accuracy: 0.9642\n",
      "\n"
     ]
    },
    {
     "name": "stdout",
     "output_type": "stream",
     "text": [
      "Epoch 210, Loss 0.0381\n",
      "Training Accuracy: 0.9588, Testing Accuracy: 0.9647\n",
      "\n"
     ]
    },
    {
     "name": "stdout",
     "output_type": "stream",
     "text": [
      "Epoch 220, Loss 0.0377\n",
      "Training Accuracy: 0.9591, Testing Accuracy: 0.9647\n",
      "\n"
     ]
    },
    {
     "name": "stdout",
     "output_type": "stream",
     "text": [
      "Epoch 230, Loss 0.0373\n",
      "Training Accuracy: 0.9596, Testing Accuracy: 0.9652\n",
      "\n"
     ]
    },
    {
     "name": "stdout",
     "output_type": "stream",
     "text": [
      "Epoch 240, Loss 0.037\n",
      "Training Accuracy: 0.9599, Testing Accuracy: 0.9657\n",
      "\n"
     ]
    },
    {
     "data": {
      "text/plain": [
       "0.026468651667298487"
      ]
     },
     "execution_count": 23,
     "metadata": {},
     "output_type": "execute_result"
    }
   ],
   "source": [
    "lr_learner.train_loop(dl)"
   ]
  },
  {
   "cell_type": "code",
   "execution_count": 24,
   "id": "ca410940",
   "metadata": {
    "execution": {
     "iopub.execute_input": "2022-09-25T20:13:58.687912Z",
     "iopub.status.busy": "2022-09-25T20:13:58.686649Z",
     "iopub.status.idle": "2022-09-25T20:13:58.916187Z",
     "shell.execute_reply": "2022-09-25T20:13:58.916614Z"
    },
    "papermill": {
     "duration": 0.280206,
     "end_time": "2022-09-25T20:13:58.916727",
     "exception": false,
     "start_time": "2022-09-25T20:13:58.636521",
     "status": "completed"
    },
    "tags": []
   },
   "outputs": [
    {
     "data": {
      "text/plain": [
       "<matplotlib.legend.Legend at 0x7f4fced59320>"
      ]
     },
     "execution_count": 24,
     "metadata": {},
     "output_type": "execute_result"
    },
    {
     "data": {
      "image/png": "[encoded data removed]",
      "text/plain": [
       "<Figure size 1080x720 with 1 Axes>"
      ]
     },
     "metadata": {
      "needs_background": "light"
     },
     "output_type": "display_data"
    }
   ],
   "source": [
    "#comparing the results of NN and LR\n",
    "plt.figure(figsize=(15,10))\n",
    "\n",
    "# Neural Network plots\n",
    "plt.plot(acc_nn.accuracies, 'r-', label = \"Training Accuracies - NN\")\n",
    "plt.plot(acc_nn.test_accuracies, 'g-', label = \"Testing Accuracies - NN\")\n",
    "\n",
    "# Logistic Regression plots\n",
    "plt.plot(acc_lr.accuracies, 'k-', label = \"Training Accuracies - LR\")\n",
    "plt.plot(acc_lr.test_accuracies, 'b-', label = \"Testing Accuracies - LR\")\n",
    "plt.legend()"
   ]
  },
  {
   "cell_type": "markdown",
   "id": "80dfb35c",
   "metadata": {
    "papermill": {
     "duration": 0.042183,
     "end_time": "2022-09-25T20:13:59.001254",
     "exception": false,
     "start_time": "2022-09-25T20:13:58.959071",
     "status": "completed"
    },
    "tags": []
   },
   "source": [
    "#### Plotting the outputs of this layer of the NN.\n"
   ]
  },
  {
   "cell_type": "code",
   "execution_count": 25,
   "id": "45eb2ff5",
   "metadata": {
    "execution": {
     "iopub.execute_input": "2022-09-25T20:13:59.091401Z",
     "iopub.status.busy": "2022-09-25T20:13:59.089900Z",
     "iopub.status.idle": "2022-09-25T20:13:59.125175Z",
     "shell.execute_reply": "2022-09-25T20:13:59.124741Z"
    },
    "papermill": {
     "duration": 0.081766,
     "end_time": "2022-09-25T20:13:59.125276",
     "exception": false,
     "start_time": "2022-09-25T20:13:59.043510",
     "status": "completed"
    },
    "tags": []
   },
   "outputs": [],
   "source": [
    "new_model = Model(layers[:-2])\n",
    "testing_plot = new_model(testing_data_x)"
   ]
  },
  {
   "cell_type": "code",
   "execution_count": 26,
   "id": "4c0a5485",
   "metadata": {
    "execution": {
     "iopub.execute_input": "2022-09-25T20:13:59.219472Z",
     "iopub.status.busy": "2022-09-25T20:13:59.218804Z",
     "iopub.status.idle": "2022-09-25T20:13:59.398131Z",
     "shell.execute_reply": "2022-09-25T20:13:59.398814Z"
    },
    "papermill": {
     "duration": 0.230646,
     "end_time": "2022-09-25T20:13:59.398935",
     "exception": false,
     "start_time": "2022-09-25T20:13:59.168289",
     "status": "completed"
    },
    "tags": []
   },
   "outputs": [
    {
     "data": {
      "text/plain": [
       "Text(0.5, 1.0, 'Outputs')"
      ]
     },
     "execution_count": 26,
     "metadata": {},
     "output_type": "execute_result"
    },
    {
     "data": {
      "image/png": "[encoded data removed]",
      "text/plain": [
       "<Figure size 576x504 with 1 Axes>"
      ]
     },
     "metadata": {
      "needs_background": "light"
     },
     "output_type": "display_data"
    }
   ],
   "source": [
    "# Plotting the scatter plot of points and color coding by class\n",
    "plt.figure(figsize=(8,7))\n",
    "plt.scatter(testing_plot[:,0], testing_plot[:,1], alpha = 0.1, c = y_test.ravel());\n",
    "plt.title('Outputs')"
   ]
  },
  {
   "cell_type": "markdown",
   "id": "a74fcf8f",
   "metadata": {
    "papermill": {
     "duration": 0.043999,
     "end_time": "2022-09-25T20:13:59.508715",
     "exception": false,
     "start_time": "2022-09-25T20:13:59.464716",
     "status": "completed"
    },
    "tags": []
   },
   "source": [
    "Probability contours"
   ]
  },
  {
   "cell_type": "code",
   "execution_count": 27,
   "id": "d0afc8e3",
   "metadata": {
    "execution": {
     "iopub.execute_input": "2022-09-25T20:13:59.602493Z",
     "iopub.status.busy": "2022-09-25T20:13:59.601114Z",
     "iopub.status.idle": "2022-09-25T20:13:59.611708Z",
     "shell.execute_reply": "2022-09-25T20:13:59.612170Z"
    },
    "papermill": {
     "duration": 0.059367,
     "end_time": "2022-09-25T20:13:59.612277",
     "exception": false,
     "start_time": "2022-09-25T20:13:59.552910",
     "status": "completed"
    },
    "tags": []
   },
   "outputs": [],
   "source": [
    "model_prob = Model(layers[-2:]) "
   ]
  },
  {
   "cell_type": "code",
   "execution_count": 28,
   "id": "9b96e238",
   "metadata": {
    "execution": {
     "iopub.execute_input": "2022-09-25T20:13:59.704300Z",
     "iopub.status.busy": "2022-09-25T20:13:59.703747Z",
     "iopub.status.idle": "2022-09-25T20:13:59.715921Z",
     "shell.execute_reply": "2022-09-25T20:13:59.716348Z"
    },
    "papermill": {
     "duration": 0.060222,
     "end_time": "2022-09-25T20:13:59.716460",
     "exception": false,
     "start_time": "2022-09-25T20:13:59.656238",
     "status": "completed"
    },
    "tags": []
   },
   "outputs": [],
   "source": [
    "#creating the x and y ranges according to the above generated plot.\n",
    "x_range = np.linspace(-4, 1, 100) \n",
    "y_range = np.linspace(-6, 6, 100) \n",
    "x_grid, y_grid = np.meshgrid(x_range, y_range) # x_grid and y_grig are of size 100 X 100\n",
    "\n",
    "# converting x_grid and y_grid to continuous arrays\n",
    "x_gridflat = np.ravel(x_grid)\n",
    "y_gridflat = np.ravel(y_grid)\n",
    "\n",
    "# The last layer of the current model takes two columns as input. Hence transpose of np.vstack() is required.\n",
    "X = np.vstack((x_gridflat, y_gridflat)).T\n",
    "\n",
    "prob_contour = model_prob(X).reshape(100,100) "
   ]
  },
  {
   "cell_type": "code",
   "execution_count": 29,
   "id": "da72499a",
   "metadata": {
    "execution": {
     "iopub.execute_input": "2022-09-25T20:13:59.813061Z",
     "iopub.status.busy": "2022-09-25T20:13:59.811876Z",
     "iopub.status.idle": "2022-09-25T20:14:00.050710Z",
     "shell.execute_reply": "2022-09-25T20:14:00.051154Z"
    },
    "papermill": {
     "duration": 0.289969,
     "end_time": "2022-09-25T20:14:00.051288",
     "exception": false,
     "start_time": "2022-09-25T20:13:59.761319",
     "status": "completed"
    },
    "tags": []
   },
   "outputs": [
    {
     "data": {
      "image/png": "[encoded data removed]",
      "text/plain": [
       "<Figure size 720x648 with 1 Axes>"
      ]
     },
     "metadata": {
      "needs_background": "light"
     },
     "output_type": "display_data"
    }
   ],
   "source": [
    "plt.figure(figsize=(10,9))\n",
    "plt.scatter(testing_plot[:,0], testing_plot[:,1], alpha = 0.1, c = y_test.ravel())\n",
    "contours = plt.contour(x_grid,y_grid,prob_contour)\n",
    "plt.title('Probability Contours')\n",
    "plt.clabel(contours, inline = True );"
   ]
  },
  {
   "cell_type": "code",
   "execution_count": null,
   "id": "e81b4ac7",
   "metadata": {
    "papermill": {
     "duration": 0.046187,
     "end_time": "2022-09-25T20:14:00.144004",
     "exception": false,
     "start_time": "2022-09-25T20:14:00.097817",
     "status": "completed"
    },
    "tags": []
   },
   "outputs": [],
   "source": []
  }
 ],
 "metadata": {
  "kernelspec": {
   "display_name": "Python 3",
   "language": "python",
   "name": "python3"
  },
  "language_info": {
   "codemirror_mode": {
    "name": "ipython",
    "version": 3
   },
   "file_extension": ".py",
   "mimetype": "text/x-python",
   "name": "python",
   "nbconvert_exporter": "python",
   "pygments_lexer": "ipython3",
   "version": "3.6.15"
  },
  "papermill": {
   "default_parameters": {},
   "duration": 196.3365,
   "end_time": "2022-09-25T20:14:00.506890",
   "environment_variables": {},
   "exception": null,
   "input_path": "2020-08-11-part2.ipynb",
   "output_path": "2020-08-11-part2.ipynb",
   "parameters": {},
   "start_time": "2022-09-25T20:10:44.170390",
   "version": "2.3.3"
  }
 },
 "nbformat": 4,
 "nbformat_minor": 5
}