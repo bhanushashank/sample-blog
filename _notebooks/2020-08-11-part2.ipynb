{
 "cells": [
  {
   "cell_type": "markdown",
   "id": "98380cd3",
   "metadata": {
    "papermill": {
     "duration": 0.048957,
     "end_time": "2022-10-23T20:12:34.091934",
     "exception": false,
     "start_time": "2022-10-23T20:12:34.042977",
     "status": "completed"
    },
    "tags": []
   },
   "source": [
    "# Distinguish Your Own Digits (DYOD)"
   ]
  },
  {
   "cell_type": "markdown",
   "id": "ef31240d",
   "metadata": {
    "papermill": {
     "duration": 0.036512,
     "end_time": "2022-10-23T20:12:34.164238",
     "exception": false,
     "start_time": "2022-10-23T20:12:34.127726",
     "status": "completed"
    },
    "tags": []
   },
   "source": [
    "You are going to write a classifier that distinguishes between the number 3 and number 8."
   ]
  },
  {
   "cell_type": "code",
   "execution_count": 1,
   "id": "b15c8646",
   "metadata": {
    "execution": {
     "iopub.execute_input": "2022-10-23T20:12:34.242475Z",
     "iopub.status.busy": "2022-10-23T20:12:34.239953Z",
     "iopub.status.idle": "2022-10-23T20:12:34.255372Z",
     "shell.execute_reply": "2022-10-23T20:12:34.254699Z"
    },
    "papermill": {
     "duration": 0.059727,
     "end_time": "2022-10-23T20:12:34.255579",
     "exception": false,
     "start_time": "2022-10-23T20:12:34.195852",
     "status": "completed"
    },
    "tags": []
   },
   "outputs": [],
   "source": [
    "%load_ext autoreload\n",
    "%autoreload 2"
   ]
  },
  {
   "cell_type": "code",
   "execution_count": 2,
   "id": "22ef38dc",
   "metadata": {
    "execution": {
     "iopub.execute_input": "2022-10-23T20:12:34.326830Z",
     "iopub.status.busy": "2022-10-23T20:12:34.326061Z",
     "iopub.status.idle": "2022-10-23T20:12:35.013715Z",
     "shell.execute_reply": "2022-10-23T20:12:35.013015Z"
    },
    "papermill": {
     "duration": 0.725931,
     "end_time": "2022-10-23T20:12:35.013883",
     "exception": false,
     "start_time": "2022-10-23T20:12:34.287952",
     "status": "completed"
    },
    "tags": []
   },
   "outputs": [],
   "source": [
    "%matplotlib inline\n",
    "import numpy as np\n",
    "import matplotlib.pyplot as plt\n",
    "import pandas as pd"
   ]
  },
  {
   "cell_type": "markdown",
   "id": "ba036198",
   "metadata": {
    "papermill": {
     "duration": 0.030735,
     "end_time": "2022-10-23T20:12:35.076427",
     "exception": false,
     "start_time": "2022-10-23T20:12:35.045692",
     "status": "completed"
    },
    "tags": []
   },
   "source": [
    "From the command line run `pip install mnist`. This is a library that will help you bring down the mnist dataset. If you run this from a notebook, you need to put  `!pip install mnist` in a cell by itself."
   ]
  },
  {
   "cell_type": "code",
   "execution_count": 3,
   "id": "bb6ad8a1",
   "metadata": {
    "execution": {
     "iopub.execute_input": "2022-10-23T20:12:35.146702Z",
     "iopub.status.busy": "2022-10-23T20:12:35.145828Z",
     "iopub.status.idle": "2022-10-23T20:12:37.151293Z",
     "shell.execute_reply": "2022-10-23T20:12:37.150607Z"
    },
    "papermill": {
     "duration": 2.043708,
     "end_time": "2022-10-23T20:12:37.151446",
     "exception": false,
     "start_time": "2022-10-23T20:12:35.107738",
     "status": "completed"
    },
    "tags": []
   },
   "outputs": [
    {
     "name": "stdout",
     "output_type": "stream",
     "text": [
      "Collecting mnist\r\n"
     ]
    },
    {
     "name": "stdout",
     "output_type": "stream",
     "text": [
      "  Downloading mnist-0.2.2-py2.py3-none-any.whl (3.5 kB)\r\n",
      "Requirement already satisfied: numpy in /opt/hostedtoolcache/Python/3.6.15/x64/lib/python3.6/site-packages (from mnist) (1.19.5)\r\n"
     ]
    },
    {
     "name": "stdout",
     "output_type": "stream",
     "text": [
      "Installing collected packages: mnist\r\n"
     ]
    },
    {
     "name": "stdout",
     "output_type": "stream",
     "text": [
      "Successfully installed mnist-0.2.2\r\n"
     ]
    }
   ],
   "source": [
    "!pip install mnist"
   ]
  },
  {
   "cell_type": "markdown",
   "id": "69df9c9a",
   "metadata": {
    "papermill": {
     "duration": 0.03364,
     "end_time": "2022-10-23T20:12:37.221652",
     "exception": false,
     "start_time": "2022-10-23T20:12:37.188012",
     "status": "completed"
    },
    "tags": []
   },
   "source": [
    "## Preparing the Data"
   ]
  },
  {
   "cell_type": "code",
   "execution_count": 4,
   "id": "7f69d806",
   "metadata": {
    "execution": {
     "iopub.execute_input": "2022-10-23T20:12:37.297680Z",
     "iopub.status.busy": "2022-10-23T20:12:37.291122Z",
     "iopub.status.idle": "2022-10-23T20:12:37.312136Z",
     "shell.execute_reply": "2022-10-23T20:12:37.311452Z"
    },
    "papermill": {
     "duration": 0.058083,
     "end_time": "2022-10-23T20:12:37.312287",
     "exception": false,
     "start_time": "2022-10-23T20:12:37.254204",
     "status": "completed"
    },
    "tags": []
   },
   "outputs": [],
   "source": [
    "import mnist"
   ]
  },
  {
   "cell_type": "code",
   "execution_count": 5,
   "id": "a411e44f",
   "metadata": {
    "execution": {
     "iopub.execute_input": "2022-10-23T20:12:37.389391Z",
     "iopub.status.busy": "2022-10-23T20:12:37.388631Z",
     "iopub.status.idle": "2022-10-23T20:12:38.065163Z",
     "shell.execute_reply": "2022-10-23T20:12:38.064499Z"
    },
    "papermill": {
     "duration": 0.720002,
     "end_time": "2022-10-23T20:12:38.065315",
     "exception": false,
     "start_time": "2022-10-23T20:12:37.345313",
     "status": "completed"
    },
    "tags": []
   },
   "outputs": [],
   "source": [
    "train_images = mnist.train_images()\n",
    "train_labels = mnist.train_labels()"
   ]
  },
  {
   "cell_type": "code",
   "execution_count": 6,
   "id": "dceab3a5",
   "metadata": {
    "execution": {
     "iopub.execute_input": "2022-10-23T20:12:38.137990Z",
     "iopub.status.busy": "2022-10-23T20:12:38.137245Z",
     "iopub.status.idle": "2022-10-23T20:12:38.154844Z",
     "shell.execute_reply": "2022-10-23T20:12:38.155615Z"
    },
    "papermill": {
     "duration": 0.056314,
     "end_time": "2022-10-23T20:12:38.155789",
     "exception": false,
     "start_time": "2022-10-23T20:12:38.099475",
     "status": "completed"
    },
    "tags": []
   },
   "outputs": [
    {
     "data": {
      "text/plain": [
       "((60000, 28, 28), (60000,))"
      ]
     },
     "execution_count": 6,
     "metadata": {},
     "output_type": "execute_result"
    }
   ],
   "source": [
    "train_images.shape, train_labels.shape"
   ]
  },
  {
   "cell_type": "code",
   "execution_count": 7,
   "id": "f50dc2bb",
   "metadata": {
    "execution": {
     "iopub.execute_input": "2022-10-23T20:12:38.228429Z",
     "iopub.status.busy": "2022-10-23T20:12:38.227693Z",
     "iopub.status.idle": "2022-10-23T20:12:38.441572Z",
     "shell.execute_reply": "2022-10-23T20:12:38.442149Z"
    },
    "papermill": {
     "duration": 0.252311,
     "end_time": "2022-10-23T20:12:38.442336",
     "exception": false,
     "start_time": "2022-10-23T20:12:38.190025",
     "status": "completed"
    },
    "tags": []
   },
   "outputs": [],
   "source": [
    "test_images = mnist.test_images()\n",
    "test_labels = mnist.test_labels()"
   ]
  },
  {
   "cell_type": "code",
   "execution_count": 8,
   "id": "fc38cf1b",
   "metadata": {
    "execution": {
     "iopub.execute_input": "2022-10-23T20:12:38.517379Z",
     "iopub.status.busy": "2022-10-23T20:12:38.516618Z",
     "iopub.status.idle": "2022-10-23T20:12:38.531447Z",
     "shell.execute_reply": "2022-10-23T20:12:38.530664Z"
    },
    "papermill": {
     "duration": 0.055102,
     "end_time": "2022-10-23T20:12:38.531617",
     "exception": false,
     "start_time": "2022-10-23T20:12:38.476515",
     "status": "completed"
    },
    "tags": []
   },
   "outputs": [
    {
     "data": {
      "text/plain": [
       "((10000, 28, 28), (10000,))"
      ]
     },
     "execution_count": 8,
     "metadata": {},
     "output_type": "execute_result"
    }
   ],
   "source": [
    "test_images.shape, test_labels.shape"
   ]
  },
  {
   "cell_type": "code",
   "execution_count": 9,
   "id": "f9ed8fe0",
   "metadata": {
    "execution": {
     "iopub.execute_input": "2022-10-23T20:12:38.613392Z",
     "iopub.status.busy": "2022-10-23T20:12:38.607191Z",
     "iopub.status.idle": "2022-10-23T20:12:38.790171Z",
     "shell.execute_reply": "2022-10-23T20:12:38.789473Z"
    },
    "papermill": {
     "duration": 0.225104,
     "end_time": "2022-10-23T20:12:38.790327",
     "exception": false,
     "start_time": "2022-10-23T20:12:38.565223",
     "status": "completed"
    },
    "tags": []
   },
   "outputs": [
    {
     "name": "stdout",
     "output_type": "stream",
     "text": [
      "2\n"
     ]
    },
    {
     "data": {
      "text/plain": [
       "<matplotlib.image.AxesImage at 0x7f639354add8>"
      ]
     },
     "execution_count": 9,
     "metadata": {},
     "output_type": "execute_result"
    },
    {
     "data": {
      "image/png": "[encoded data removed]",
      "text/plain": [
       "<Figure size 432x288 with 1 Axes>"
      ]
     },
     "metadata": {
      "needs_background": "light"
     },
     "output_type": "display_data"
    }
   ],
   "source": [
    "image_index = 7776 # You may select anything up to 60,000\n",
    "print(train_labels[image_index]) \n",
    "plt.imshow(train_images[image_index], cmap='Greys')"
   ]
  },
  {
   "cell_type": "markdown",
   "id": "a8d2388d",
   "metadata": {
    "papermill": {
     "duration": 0.034591,
     "end_time": "2022-10-23T20:12:38.860108",
     "exception": false,
     "start_time": "2022-10-23T20:12:38.825517",
     "status": "completed"
    },
    "tags": []
   },
   "source": [
    "## Filter data to get 3 and 8 out"
   ]
  },
  {
   "cell_type": "code",
   "execution_count": 10,
   "id": "776f7fc7",
   "metadata": {
    "execution": {
     "iopub.execute_input": "2022-10-23T20:12:38.937420Z",
     "iopub.status.busy": "2022-10-23T20:12:38.934833Z",
     "iopub.status.idle": "2022-10-23T20:12:38.960237Z",
     "shell.execute_reply": "2022-10-23T20:12:38.959567Z"
    },
    "papermill": {
     "duration": 0.065827,
     "end_time": "2022-10-23T20:12:38.960392",
     "exception": false,
     "start_time": "2022-10-23T20:12:38.894565",
     "status": "completed"
    },
    "tags": []
   },
   "outputs": [],
   "source": [
    "train_filter = np.where((train_labels == 3 ) | (train_labels == 8))\n",
    "test_filter = np.where((test_labels == 3) | (test_labels == 8))\n",
    "X_train, y_train = train_images[train_filter], train_labels[train_filter]\n",
    "X_test, y_test = test_images[test_filter], test_labels[test_filter]"
   ]
  },
  {
   "cell_type": "markdown",
   "id": "948f0b7e",
   "metadata": {
    "papermill": {
     "duration": 0.034948,
     "end_time": "2022-10-23T20:12:39.030018",
     "exception": false,
     "start_time": "2022-10-23T20:12:38.995070",
     "status": "completed"
    },
    "tags": []
   },
   "source": [
    "We normalize the pizel values in the 0 to 1 range"
   ]
  },
  {
   "cell_type": "code",
   "execution_count": 11,
   "id": "ee4c2166",
   "metadata": {
    "execution": {
     "iopub.execute_input": "2022-10-23T20:12:39.106565Z",
     "iopub.status.busy": "2022-10-23T20:12:39.105818Z",
     "iopub.status.idle": "2022-10-23T20:12:39.169760Z",
     "shell.execute_reply": "2022-10-23T20:12:39.169105Z"
    },
    "papermill": {
     "duration": 0.10304,
     "end_time": "2022-10-23T20:12:39.169913",
     "exception": false,
     "start_time": "2022-10-23T20:12:39.066873",
     "status": "completed"
    },
    "tags": []
   },
   "outputs": [],
   "source": [
    "X_train = X_train/255.\n",
    "X_test = X_test/255."
   ]
  },
  {
   "cell_type": "markdown",
   "id": "ddcf4fab",
   "metadata": {
    "papermill": {
     "duration": 0.035008,
     "end_time": "2022-10-23T20:12:39.239994",
     "exception": false,
     "start_time": "2022-10-23T20:12:39.204986",
     "status": "completed"
    },
    "tags": []
   },
   "source": [
    "And setup the labels as 1 (when the digit is 3) and 0 (when the digit is 8)"
   ]
  },
  {
   "cell_type": "code",
   "execution_count": 12,
   "id": "7dc908f2",
   "metadata": {
    "execution": {
     "iopub.execute_input": "2022-10-23T20:12:39.316299Z",
     "iopub.status.busy": "2022-10-23T20:12:39.315546Z",
     "iopub.status.idle": "2022-10-23T20:12:39.331311Z",
     "shell.execute_reply": "2022-10-23T20:12:39.330659Z"
    },
    "papermill": {
     "duration": 0.055587,
     "end_time": "2022-10-23T20:12:39.331465",
     "exception": false,
     "start_time": "2022-10-23T20:12:39.275878",
     "status": "completed"
    },
    "tags": []
   },
   "outputs": [],
   "source": [
    "y_train = 1*(y_train==3)\n",
    "y_test = 1*(y_test==3)"
   ]
  },
  {
   "cell_type": "code",
   "execution_count": 13,
   "id": "01e4e969",
   "metadata": {
    "execution": {
     "iopub.execute_input": "2022-10-23T20:12:39.406277Z",
     "iopub.status.busy": "2022-10-23T20:12:39.405416Z",
     "iopub.status.idle": "2022-10-23T20:12:39.422871Z",
     "shell.execute_reply": "2022-10-23T20:12:39.422210Z"
    },
    "papermill": {
     "duration": 0.056306,
     "end_time": "2022-10-23T20:12:39.423007",
     "exception": false,
     "start_time": "2022-10-23T20:12:39.366701",
     "status": "completed"
    },
    "tags": []
   },
   "outputs": [
    {
     "data": {
      "text/plain": [
       "((11982, 28, 28), (1984, 28, 28))"
      ]
     },
     "execution_count": 13,
     "metadata": {},
     "output_type": "execute_result"
    }
   ],
   "source": [
    "X_train.shape, X_test.shape"
   ]
  },
  {
   "cell_type": "markdown",
   "id": "5ccf3f85",
   "metadata": {
    "papermill": {
     "duration": 0.035869,
     "end_time": "2022-10-23T20:12:39.494735",
     "exception": false,
     "start_time": "2022-10-23T20:12:39.458866",
     "status": "completed"
    },
    "tags": []
   },
   "source": [
    "We reshape the data to flatten the image pixels into a set of features or co-variates:"
   ]
  },
  {
   "cell_type": "code",
   "execution_count": 14,
   "id": "5286a4a3",
   "metadata": {
    "execution": {
     "iopub.execute_input": "2022-10-23T20:12:39.571820Z",
     "iopub.status.busy": "2022-10-23T20:12:39.571054Z",
     "iopub.status.idle": "2022-10-23T20:12:39.586097Z",
     "shell.execute_reply": "2022-10-23T20:12:39.586810Z"
    },
    "papermill": {
     "duration": 0.056812,
     "end_time": "2022-10-23T20:12:39.586979",
     "exception": false,
     "start_time": "2022-10-23T20:12:39.530167",
     "status": "completed"
    },
    "tags": []
   },
   "outputs": [
    {
     "data": {
      "text/plain": [
       "((11982, 784), (1984, 784))"
      ]
     },
     "execution_count": 14,
     "metadata": {},
     "output_type": "execute_result"
    }
   ],
   "source": [
    "X_train = X_train.reshape(X_train.shape[0], -1)\n",
    "X_test = X_test.reshape(X_test.shape[0], -1)\n",
    "X_train.shape, X_test.shape"
   ]
  },
  {
   "cell_type": "code",
   "execution_count": 15,
   "id": "73c5f88a",
   "metadata": {
    "execution": {
     "iopub.execute_input": "2022-10-23T20:12:39.663354Z",
     "iopub.status.busy": "2022-10-23T20:12:39.662596Z",
     "iopub.status.idle": "2022-10-23T20:12:39.686289Z",
     "shell.execute_reply": "2022-10-23T20:12:39.685668Z"
    },
    "papermill": {
     "duration": 0.064288,
     "end_time": "2022-10-23T20:12:39.686444",
     "exception": false,
     "start_time": "2022-10-23T20:12:39.622156",
     "status": "completed"
    },
    "tags": []
   },
   "outputs": [],
   "source": [
    "#Impoting functions from 'Kudzu'\n",
    "from kudzu.model import Model\n",
    "from kudzu.train import Learner\n",
    "from kudzu.optim import GD\n",
    "from kudzu.data import Data, Sampler,Dataloader\n",
    "\n",
    "from kudzu.callbacks import AccCallback\n",
    "from kudzu.callbacks import ClfCallback\n",
    "\n",
    "from kudzu.loss import MSE\n",
    "\n",
    "from kudzu.layer import Sigmoid,Relu\n",
    "from kudzu.layer import Affine"
   ]
  },
  {
   "cell_type": "markdown",
   "id": "bc01172a",
   "metadata": {
    "papermill": {
     "duration": 0.035529,
     "end_time": "2022-10-23T20:12:39.756942",
     "exception": false,
     "start_time": "2022-10-23T20:12:39.721413",
     "status": "completed"
    },
    "tags": []
   },
   "source": [
    "### Let us create a `Config` class, to store important parameters. \n",
    "This class essentially plays the role of a dictionary."
   ]
  },
  {
   "cell_type": "code",
   "execution_count": 16,
   "id": "978281aa",
   "metadata": {
    "execution": {
     "iopub.execute_input": "2022-10-23T20:12:39.836176Z",
     "iopub.status.busy": "2022-10-23T20:12:39.835396Z",
     "iopub.status.idle": "2022-10-23T20:12:39.851067Z",
     "shell.execute_reply": "2022-10-23T20:12:39.850444Z"
    },
    "papermill": {
     "duration": 0.055553,
     "end_time": "2022-10-23T20:12:39.851224",
     "exception": false,
     "start_time": "2022-10-23T20:12:39.795671",
     "status": "completed"
    },
    "tags": []
   },
   "outputs": [],
   "source": [
    "class Config:\n",
    "    pass\n",
    "config = Config()\n",
    "config.lr = 0.001\n",
    "config.num_epochs = 250\n",
    "config.bs = 50"
   ]
  },
  {
   "cell_type": "markdown",
   "id": "1385fa59",
   "metadata": {
    "papermill": {
     "duration": 0.034809,
     "end_time": "2022-10-23T20:12:39.922010",
     "exception": false,
     "start_time": "2022-10-23T20:12:39.887201",
     "status": "completed"
    },
    "tags": []
   },
   "source": [
    "### Running Models with the Training data\n",
    "Details about the network layers:\n",
    "- A first affine layer has 784 inputs and does 100 affine transforms. These are followed by a Relu\n",
    "- A second affine layer has 100 inputs from the 100 activations of the past layer, and does 100 affine transforms. These are followed by a Relu\n",
    "- A third affine layer has 100 activations and does 2 affine transformations to create an embedding for visualization. There is no non-linearity here.\n",
    "- A final \"logistic regression\" which has an affine transform from 2 inputs to 1 output, which is squeezed through a sigmoid.\n"
   ]
  },
  {
   "cell_type": "code",
   "execution_count": 17,
   "id": "2b9c66db",
   "metadata": {
    "execution": {
     "iopub.execute_input": "2022-10-23T20:12:39.999256Z",
     "iopub.status.busy": "2022-10-23T20:12:39.998508Z",
     "iopub.status.idle": "2022-10-23T20:12:40.014210Z",
     "shell.execute_reply": "2022-10-23T20:12:40.015017Z"
    },
    "papermill": {
     "duration": 0.057341,
     "end_time": "2022-10-23T20:12:40.015193",
     "exception": false,
     "start_time": "2022-10-23T20:12:39.957852",
     "status": "completed"
    },
    "tags": []
   },
   "outputs": [],
   "source": [
    "data = Data(X_train, y_train.reshape(-1,1))\n",
    "sampler = Sampler(data, config.bs, shuffle=True)\n",
    "\n",
    "dl = Dataloader(data, sampler)\n",
    "\n",
    "opt = GD(config.lr)\n",
    "loss = MSE()"
   ]
  },
  {
   "cell_type": "code",
   "execution_count": 18,
   "id": "b275e4c2",
   "metadata": {
    "execution": {
     "iopub.execute_input": "2022-10-23T20:12:40.095835Z",
     "iopub.status.busy": "2022-10-23T20:12:40.094940Z",
     "iopub.status.idle": "2022-10-23T20:12:40.108041Z",
     "shell.execute_reply": "2022-10-23T20:12:40.107360Z"
    },
    "papermill": {
     "duration": 0.05775,
     "end_time": "2022-10-23T20:12:40.108187",
     "exception": false,
     "start_time": "2022-10-23T20:12:40.050437",
     "status": "completed"
    },
    "tags": []
   },
   "outputs": [],
   "source": [
    "training_data_x = X_train\n",
    "testing_data_x = X_test\n",
    "training_data_y = y_train.reshape(-1,1)\n",
    "testing_data_y = y_test.reshape(-1,1)"
   ]
  },
  {
   "cell_type": "code",
   "execution_count": 19,
   "id": "76951160",
   "metadata": {
    "execution": {
     "iopub.execute_input": "2022-10-23T20:12:40.187325Z",
     "iopub.status.busy": "2022-10-23T20:12:40.186587Z",
     "iopub.status.idle": "2022-10-23T20:12:40.205601Z",
     "shell.execute_reply": "2022-10-23T20:12:40.206217Z"
    },
    "papermill": {
     "duration": 0.061988,
     "end_time": "2022-10-23T20:12:40.206381",
     "exception": false,
     "start_time": "2022-10-23T20:12:40.144393",
     "status": "completed"
    },
    "tags": []
   },
   "outputs": [
    {
     "name": "stdout",
     "output_type": "stream",
     "text": [
      "xavier\n",
      "xavier\n",
      "xavier\n",
      "xavier\n",
      "xavier\n"
     ]
    }
   ],
   "source": [
    "layers = [Affine(\"first\", 784, 100), Relu(\"first\"), Affine(\"second\", 100, 100), Relu(\"second\"), Affine(\"third\", 100, 2), Affine(\"last\", 2, 1), Sigmoid(\"last\")]\n",
    "model_nn = Model(layers)\n",
    "model_lr = Model([Affine(\"logits\", 784, 1), Sigmoid(\"sigmoid\")])"
   ]
  },
  {
   "cell_type": "code",
   "execution_count": 20,
   "id": "6eede77a",
   "metadata": {
    "execution": {
     "iopub.execute_input": "2022-10-23T20:12:40.288202Z",
     "iopub.status.busy": "2022-10-23T20:12:40.286383Z",
     "iopub.status.idle": "2022-10-23T20:12:40.304495Z",
     "shell.execute_reply": "2022-10-23T20:12:40.303837Z"
    },
    "papermill": {
     "duration": 0.060991,
     "end_time": "2022-10-23T20:12:40.304704",
     "exception": false,
     "start_time": "2022-10-23T20:12:40.243713",
     "status": "completed"
    },
    "tags": []
   },
   "outputs": [],
   "source": [
    "nn_learner = Learner(loss, model_nn, opt, config.num_epochs)\n",
    "acc_nn = ClfCallback(nn_learner, config.bs, training_data_x , testing_data_x, training_data_y, testing_data_y)\n",
    "nn_learner.set_callbacks([acc_nn])"
   ]
  },
  {
   "cell_type": "code",
   "execution_count": 21,
   "id": "877b6cc7",
   "metadata": {
    "execution": {
     "iopub.execute_input": "2022-10-23T20:12:40.381977Z",
     "iopub.status.busy": "2022-10-23T20:12:40.381123Z",
     "iopub.status.idle": "2022-10-23T20:12:40.398071Z",
     "shell.execute_reply": "2022-10-23T20:12:40.397441Z"
    },
    "papermill": {
     "duration": 0.057696,
     "end_time": "2022-10-23T20:12:40.398235",
     "exception": false,
     "start_time": "2022-10-23T20:12:40.340539",
     "status": "completed"
    },
    "tags": []
   },
   "outputs": [],
   "source": [
    "lr_learner = Learner(loss, model_lr, opt, config.num_epochs)\n",
    "acc_lr = ClfCallback(lr_learner, config.bs, training_data_x , testing_data_x, training_data_y, testing_data_y)\n",
    "lr_learner.set_callbacks([acc_lr])"
   ]
  },
  {
   "cell_type": "code",
   "execution_count": 22,
   "id": "d9b133c3",
   "metadata": {
    "execution": {
     "iopub.execute_input": "2022-10-23T20:12:40.476706Z",
     "iopub.status.busy": "2022-10-23T20:12:40.475413Z",
     "iopub.status.idle": "2022-10-23T20:14:49.654719Z",
     "shell.execute_reply": "2022-10-23T20:14:49.655817Z"
    },
    "papermill": {
     "duration": 129.221726,
     "end_time": "2022-10-23T20:14:49.655990",
     "exception": false,
     "start_time": "2022-10-23T20:12:40.434264",
     "status": "completed"
    },
    "tags": []
   },
   "outputs": [
    {
     "name": "stdout",
     "output_type": "stream",
     "text": [
      "Epoch 0, Loss 0.23\n",
      "Training Accuracy: 0.7399, Testing Accuracy: 0.7268\n",
      "\n"
     ]
    },
    {
     "name": "stdout",
     "output_type": "stream",
     "text": [
      "Epoch 10, Loss 0.0964\n",
      "Training Accuracy: 0.9063, Testing Accuracy: 0.9153\n",
      "\n"
     ]
    },
    {
     "name": "stdout",
     "output_type": "stream",
     "text": [
      "Epoch 20, Loss 0.0605\n",
      "Training Accuracy: 0.9372, Testing Accuracy: 0.9451\n",
      "\n"
     ]
    },
    {
     "name": "stdout",
     "output_type": "stream",
     "text": [
      "Epoch 30, Loss 0.0472\n",
      "Training Accuracy: 0.9492, Testing Accuracy: 0.9536\n",
      "\n"
     ]
    },
    {
     "name": "stdout",
     "output_type": "stream",
     "text": [
      "Epoch 40, Loss 0.0407\n",
      "Training Accuracy: 0.9552, Testing Accuracy: 0.9607\n",
      "\n"
     ]
    },
    {
     "name": "stdout",
     "output_type": "stream",
     "text": [
      "Epoch 50, Loss 0.0367\n",
      "Training Accuracy: 0.9590, Testing Accuracy: 0.9642\n",
      "\n"
     ]
    },
    {
     "name": "stdout",
     "output_type": "stream",
     "text": [
      "Epoch 60, Loss 0.034\n",
      "Training Accuracy: 0.9609, Testing Accuracy: 0.9652\n",
      "\n"
     ]
    },
    {
     "name": "stdout",
     "output_type": "stream",
     "text": [
      "Epoch 70, Loss 0.032\n",
      "Training Accuracy: 0.9638, Testing Accuracy: 0.9667\n",
      "\n"
     ]
    },
    {
     "name": "stdout",
     "output_type": "stream",
     "text": [
      "Epoch 80, Loss 0.0304\n",
      "Training Accuracy: 0.9649, Testing Accuracy: 0.9672\n",
      "\n"
     ]
    },
    {
     "name": "stdout",
     "output_type": "stream",
     "text": [
      "Epoch 90, Loss 0.0291\n",
      "Training Accuracy: 0.9664, Testing Accuracy: 0.9688\n",
      "\n"
     ]
    },
    {
     "name": "stdout",
     "output_type": "stream",
     "text": [
      "Epoch 100, Loss 0.0281\n",
      "Training Accuracy: 0.9678, Testing Accuracy: 0.9682\n",
      "\n"
     ]
    },
    {
     "name": "stdout",
     "output_type": "stream",
     "text": [
      "Epoch 110, Loss 0.0271\n",
      "Training Accuracy: 0.9693, Testing Accuracy: 0.9693\n",
      "\n"
     ]
    },
    {
     "name": "stdout",
     "output_type": "stream",
     "text": [
      "Epoch 120, Loss 0.0263\n",
      "Training Accuracy: 0.9703, Testing Accuracy: 0.9698\n",
      "\n"
     ]
    },
    {
     "name": "stdout",
     "output_type": "stream",
     "text": [
      "Epoch 130, Loss 0.0255\n",
      "Training Accuracy: 0.9711, Testing Accuracy: 0.9698\n",
      "\n"
     ]
    },
    {
     "name": "stdout",
     "output_type": "stream",
     "text": [
      "Epoch 140, Loss 0.0249\n",
      "Training Accuracy: 0.9718, Testing Accuracy: 0.9703\n",
      "\n"
     ]
    },
    {
     "name": "stdout",
     "output_type": "stream",
     "text": [
      "Epoch 150, Loss 0.0242\n",
      "Training Accuracy: 0.9725, Testing Accuracy: 0.9693\n",
      "\n"
     ]
    },
    {
     "name": "stdout",
     "output_type": "stream",
     "text": [
      "Epoch 160, Loss 0.0237\n",
      "Training Accuracy: 0.9730, Testing Accuracy: 0.9708\n",
      "\n"
     ]
    },
    {
     "name": "stdout",
     "output_type": "stream",
     "text": [
      "Epoch 170, Loss 0.0231\n",
      "Training Accuracy: 0.9738, Testing Accuracy: 0.9718\n",
      "\n"
     ]
    },
    {
     "name": "stdout",
     "output_type": "stream",
     "text": [
      "Epoch 180, Loss 0.0226\n",
      "Training Accuracy: 0.9745, Testing Accuracy: 0.9723\n",
      "\n"
     ]
    },
    {
     "name": "stdout",
     "output_type": "stream",
     "text": [
      "Epoch 190, Loss 0.0221\n",
      "Training Accuracy: 0.9751, Testing Accuracy: 0.9718\n",
      "\n"
     ]
    },
    {
     "name": "stdout",
     "output_type": "stream",
     "text": [
      "Epoch 200, Loss 0.0216\n",
      "Training Accuracy: 0.9756, Testing Accuracy: 0.9728\n",
      "\n"
     ]
    },
    {
     "name": "stdout",
     "output_type": "stream",
     "text": [
      "Epoch 210, Loss 0.0212\n",
      "Training Accuracy: 0.9765, Testing Accuracy: 0.9723\n",
      "\n"
     ]
    },
    {
     "name": "stdout",
     "output_type": "stream",
     "text": [
      "Epoch 220, Loss 0.0207\n",
      "Training Accuracy: 0.9773, Testing Accuracy: 0.9723\n",
      "\n"
     ]
    },
    {
     "name": "stdout",
     "output_type": "stream",
     "text": [
      "Epoch 230, Loss 0.0203\n",
      "Training Accuracy: 0.9775, Testing Accuracy: 0.9728\n",
      "\n"
     ]
    },
    {
     "name": "stdout",
     "output_type": "stream",
     "text": [
      "Epoch 240, Loss 0.0199\n",
      "Training Accuracy: 0.9779, Testing Accuracy: 0.9723\n",
      "\n"
     ]
    },
    {
     "data": {
      "text/plain": [
       "0.016341011559108134"
      ]
     },
     "execution_count": 22,
     "metadata": {},
     "output_type": "execute_result"
    }
   ],
   "source": [
    "nn_learner.train_loop(dl)"
   ]
  },
  {
   "cell_type": "code",
   "execution_count": 23,
   "id": "e0163366",
   "metadata": {
    "execution": {
     "iopub.execute_input": "2022-10-23T20:14:49.761534Z",
     "iopub.status.busy": "2022-10-23T20:14:49.760774Z",
     "iopub.status.idle": "2022-10-23T20:15:08.363081Z",
     "shell.execute_reply": "2022-10-23T20:15:08.364113Z"
    },
    "papermill": {
     "duration": 18.662114,
     "end_time": "2022-10-23T20:15:08.364288",
     "exception": false,
     "start_time": "2022-10-23T20:14:49.702174",
     "status": "completed"
    },
    "tags": []
   },
   "outputs": [
    {
     "name": "stdout",
     "output_type": "stream",
     "text": [
      "Epoch 0, Loss 0.2203\n",
      "Training Accuracy: 0.7755, Testing Accuracy: 0.7807\n",
      "\n"
     ]
    },
    {
     "name": "stdout",
     "output_type": "stream",
     "text": [
      "Epoch 10, Loss 0.1011\n",
      "Training Accuracy: 0.9115, Testing Accuracy: 0.9249\n",
      "\n"
     ]
    },
    {
     "name": "stdout",
     "output_type": "stream",
     "text": [
      "Epoch 20, Loss 0.0783\n",
      "Training Accuracy: 0.9301, Testing Accuracy: 0.9435\n",
      "\n"
     ]
    },
    {
     "name": "stdout",
     "output_type": "stream",
     "text": [
      "Epoch 30, Loss 0.0674\n",
      "Training Accuracy: 0.9388, Testing Accuracy: 0.9491\n",
      "\n"
     ]
    },
    {
     "name": "stdout",
     "output_type": "stream",
     "text": [
      "Epoch 40, Loss 0.0608\n",
      "Training Accuracy: 0.9444, Testing Accuracy: 0.9546\n",
      "\n"
     ]
    },
    {
     "name": "stdout",
     "output_type": "stream",
     "text": [
      "Epoch 50, Loss 0.0563\n",
      "Training Accuracy: 0.9473, Testing Accuracy: 0.9561\n",
      "\n"
     ]
    },
    {
     "name": "stdout",
     "output_type": "stream",
     "text": [
      "Epoch 60, Loss 0.053\n",
      "Training Accuracy: 0.9498, Testing Accuracy: 0.9587\n",
      "\n"
     ]
    },
    {
     "name": "stdout",
     "output_type": "stream",
     "text": [
      "Epoch 70, Loss 0.0505\n",
      "Training Accuracy: 0.9511, Testing Accuracy: 0.9607\n",
      "\n"
     ]
    },
    {
     "name": "stdout",
     "output_type": "stream",
     "text": [
      "Epoch 80, Loss 0.0485\n",
      "Training Accuracy: 0.9520, Testing Accuracy: 0.9627\n",
      "\n"
     ]
    },
    {
     "name": "stdout",
     "output_type": "stream",
     "text": [
      "Epoch 90, Loss 0.0468\n",
      "Training Accuracy: 0.9540, Testing Accuracy: 0.9627\n",
      "\n"
     ]
    },
    {
     "name": "stdout",
     "output_type": "stream",
     "text": [
      "Epoch 100, Loss 0.0454\n",
      "Training Accuracy: 0.9549, Testing Accuracy: 0.9632\n",
      "\n"
     ]
    },
    {
     "name": "stdout",
     "output_type": "stream",
     "text": [
      "Epoch 110, Loss 0.0442\n",
      "Training Accuracy: 0.9559, Testing Accuracy: 0.9652\n",
      "\n"
     ]
    },
    {
     "name": "stdout",
     "output_type": "stream",
     "text": [
      "Epoch 120, Loss 0.0432\n",
      "Training Accuracy: 0.9567, Testing Accuracy: 0.9657\n",
      "\n"
     ]
    },
    {
     "name": "stdout",
     "output_type": "stream",
     "text": [
      "Epoch 130, Loss 0.0423\n",
      "Training Accuracy: 0.9568, Testing Accuracy: 0.9657\n",
      "\n"
     ]
    },
    {
     "name": "stdout",
     "output_type": "stream",
     "text": [
      "Epoch 140, Loss 0.0415\n",
      "Training Accuracy: 0.9575, Testing Accuracy: 0.9662\n",
      "\n"
     ]
    },
    {
     "name": "stdout",
     "output_type": "stream",
     "text": [
      "Epoch 150, Loss 0.0408\n",
      "Training Accuracy: 0.9584, Testing Accuracy: 0.9667\n",
      "\n"
     ]
    },
    {
     "name": "stdout",
     "output_type": "stream",
     "text": [
      "Epoch 160, Loss 0.0401\n",
      "Training Accuracy: 0.9586, Testing Accuracy: 0.9672\n",
      "\n"
     ]
    },
    {
     "name": "stdout",
     "output_type": "stream",
     "text": [
      "Epoch 170, Loss 0.0395\n",
      "Training Accuracy: 0.9593, Testing Accuracy: 0.9672\n",
      "\n"
     ]
    },
    {
     "name": "stdout",
     "output_type": "stream",
     "text": [
      "Epoch 180, Loss 0.039\n",
      "Training Accuracy: 0.9601, Testing Accuracy: 0.9677\n",
      "\n"
     ]
    },
    {
     "name": "stdout",
     "output_type": "stream",
     "text": [
      "Epoch 190, Loss 0.0385\n",
      "Training Accuracy: 0.9604, Testing Accuracy: 0.9688\n",
      "\n"
     ]
    },
    {
     "name": "stdout",
     "output_type": "stream",
     "text": [
      "Epoch 200, Loss 0.038\n",
      "Training Accuracy: 0.9607, Testing Accuracy: 0.9688\n",
      "\n"
     ]
    },
    {
     "name": "stdout",
     "output_type": "stream",
     "text": [
      "Epoch 210, Loss 0.0376\n",
      "Training Accuracy: 0.9612, Testing Accuracy: 0.9688\n",
      "\n"
     ]
    },
    {
     "name": "stdout",
     "output_type": "stream",
     "text": [
      "Epoch 220, Loss 0.0372\n",
      "Training Accuracy: 0.9614, Testing Accuracy: 0.9688\n",
      "\n"
     ]
    },
    {
     "name": "stdout",
     "output_type": "stream",
     "text": [
      "Epoch 230, Loss 0.0368\n",
      "Training Accuracy: 0.9614, Testing Accuracy: 0.9688\n",
      "\n"
     ]
    },
    {
     "name": "stdout",
     "output_type": "stream",
     "text": [
      "Epoch 240, Loss 0.0365\n",
      "Training Accuracy: 0.9616, Testing Accuracy: 0.9688\n",
      "\n"
     ]
    },
    {
     "data": {
      "text/plain": [
       "0.051650122029752846"
      ]
     },
     "execution_count": 23,
     "metadata": {},
     "output_type": "execute_result"
    }
   ],
   "source": [
    "lr_learner.train_loop(dl)"
   ]
  },
  {
   "cell_type": "code",
   "execution_count": 24,
   "id": "ca410940",
   "metadata": {
    "execution": {
     "iopub.execute_input": "2022-10-23T20:15:08.482677Z",
     "iopub.status.busy": "2022-10-23T20:15:08.481910Z",
     "iopub.status.idle": "2022-10-23T20:15:08.779367Z",
     "shell.execute_reply": "2022-10-23T20:15:08.780041Z"
    },
    "papermill": {
     "duration": 0.361626,
     "end_time": "2022-10-23T20:15:08.780212",
     "exception": false,
     "start_time": "2022-10-23T20:15:08.418586",
     "status": "completed"
    },
    "tags": []
   },
   "outputs": [
    {
     "data": {
      "text/plain": [
       "<matplotlib.legend.Legend at 0x7f63930b8550>"
      ]
     },
     "execution_count": 24,
     "metadata": {},
     "output_type": "execute_result"
    },
    {
     "data": {
      "image/png": "[encoded data removed]",
      "text/plain": [
       "<Figure size 1080x720 with 1 Axes>"
      ]
     },
     "metadata": {
      "needs_background": "light"
     },
     "output_type": "display_data"
    }
   ],
   "source": [
    "#comparing the results of NN and LR\n",
    "plt.figure(figsize=(15,10))\n",
    "\n",
    "# Neural Network plots\n",
    "plt.plot(acc_nn.accuracies, 'r-', label = \"Training Accuracies - NN\")\n",
    "plt.plot(acc_nn.test_accuracies, 'g-', label = \"Testing Accuracies - NN\")\n",
    "\n",
    "# Logistic Regression plots\n",
    "plt.plot(acc_lr.accuracies, 'k-', label = \"Training Accuracies - LR\")\n",
    "plt.plot(acc_lr.test_accuracies, 'b-', label = \"Testing Accuracies - LR\")\n",
    "plt.legend()"
   ]
  },
  {
   "cell_type": "markdown",
   "id": "80dfb35c",
   "metadata": {
    "papermill": {
     "duration": 0.055239,
     "end_time": "2022-10-23T20:15:08.893310",
     "exception": false,
     "start_time": "2022-10-23T20:15:08.838071",
     "status": "completed"
    },
    "tags": []
   },
   "source": [
    "#### Plotting the outputs of this layer of the NN.\n"
   ]
  },
  {
   "cell_type": "code",
   "execution_count": 25,
   "id": "45eb2ff5",
   "metadata": {
    "execution": {
     "iopub.execute_input": "2022-10-23T20:15:09.018322Z",
     "iopub.status.busy": "2022-10-23T20:15:09.017106Z",
     "iopub.status.idle": "2022-10-23T20:15:09.042120Z",
     "shell.execute_reply": "2022-10-23T20:15:09.043017Z"
    },
    "papermill": {
     "duration": 0.094363,
     "end_time": "2022-10-23T20:15:09.043195",
     "exception": false,
     "start_time": "2022-10-23T20:15:08.948832",
     "status": "completed"
    },
    "tags": []
   },
   "outputs": [],
   "source": [
    "new_model = Model(layers[:-2])\n",
    "testing_plot = new_model(testing_data_x)"
   ]
  },
  {
   "cell_type": "code",
   "execution_count": 26,
   "id": "4c0a5485",
   "metadata": {
    "execution": {
     "iopub.execute_input": "2022-10-23T20:15:09.178974Z",
     "iopub.status.busy": "2022-10-23T20:15:09.178236Z",
     "iopub.status.idle": "2022-10-23T20:15:09.459100Z",
     "shell.execute_reply": "2022-10-23T20:15:09.458373Z"
    },
    "papermill": {
     "duration": 0.357991,
     "end_time": "2022-10-23T20:15:09.459247",
     "exception": false,
     "start_time": "2022-10-23T20:15:09.101256",
     "status": "completed"
    },
    "tags": []
   },
   "outputs": [
    {
     "data": {
      "text/plain": [
       "Text(0.5, 1.0, 'Outputs')"
      ]
     },
     "execution_count": 26,
     "metadata": {},
     "output_type": "execute_result"
    },
    {
     "data": {
      "image/png": "[encoded data removed]",
      "text/plain": [
       "<Figure size 576x504 with 1 Axes>"
      ]
     },
     "metadata": {
      "needs_background": "light"
     },
     "output_type": "display_data"
    }
   ],
   "source": [
    "# Plotting the scatter plot of points and color coding by class\n",
    "plt.figure(figsize=(8,7))\n",
    "plt.scatter(testing_plot[:,0], testing_plot[:,1], alpha = 0.1, c = y_test.ravel());\n",
    "plt.title('Outputs')"
   ]
  },
  {
   "cell_type": "markdown",
   "id": "a74fcf8f",
   "metadata": {
    "papermill": {
     "duration": 0.088316,
     "end_time": "2022-10-23T20:15:09.606431",
     "exception": false,
     "start_time": "2022-10-23T20:15:09.518115",
     "status": "completed"
    },
    "tags": []
   },
   "source": [
    "Probability contours"
   ]
  },
  {
   "cell_type": "code",
   "execution_count": 27,
   "id": "d0afc8e3",
   "metadata": {
    "execution": {
     "iopub.execute_input": "2022-10-23T20:15:09.732862Z",
     "iopub.status.busy": "2022-10-23T20:15:09.732119Z",
     "iopub.status.idle": "2022-10-23T20:15:09.746932Z",
     "shell.execute_reply": "2022-10-23T20:15:09.746286Z"
    },
    "papermill": {
     "duration": 0.079616,
     "end_time": "2022-10-23T20:15:09.747083",
     "exception": false,
     "start_time": "2022-10-23T20:15:09.667467",
     "status": "completed"
    },
    "tags": []
   },
   "outputs": [],
   "source": [
    "model_prob = Model(layers[-2:]) "
   ]
  },
  {
   "cell_type": "code",
   "execution_count": 28,
   "id": "9b96e238",
   "metadata": {
    "execution": {
     "iopub.execute_input": "2022-10-23T20:15:09.871413Z",
     "iopub.status.busy": "2022-10-23T20:15:09.870649Z",
     "iopub.status.idle": "2022-10-23T20:15:09.888243Z",
     "shell.execute_reply": "2022-10-23T20:15:09.888817Z"
    },
    "papermill": {
     "duration": 0.082361,
     "end_time": "2022-10-23T20:15:09.888992",
     "exception": false,
     "start_time": "2022-10-23T20:15:09.806631",
     "status": "completed"
    },
    "tags": []
   },
   "outputs": [],
   "source": [
    "#creating the x and y ranges according to the above generated plot.\n",
    "x_range = np.linspace(-4, 1, 100) \n",
    "y_range = np.linspace(-6, 6, 100) \n",
    "x_grid, y_grid = np.meshgrid(x_range, y_range) # x_grid and y_grig are of size 100 X 100\n",
    "\n",
    "# converting x_grid and y_grid to continuous arrays\n",
    "x_gridflat = np.ravel(x_grid)\n",
    "y_gridflat = np.ravel(y_grid)\n",
    "\n",
    "# The last layer of the current model takes two columns as input. Hence transpose of np.vstack() is required.\n",
    "X = np.vstack((x_gridflat, y_gridflat)).T\n",
    "\n",
    "prob_contour = model_prob(X).reshape(100,100) "
   ]
  },
  {
   "cell_type": "code",
   "execution_count": 29,
   "id": "da72499a",
   "metadata": {
    "execution": {
     "iopub.execute_input": "2022-10-23T20:15:10.013096Z",
     "iopub.status.busy": "2022-10-23T20:15:10.012351Z",
     "iopub.status.idle": "2022-10-23T20:15:10.354562Z",
     "shell.execute_reply": "2022-10-23T20:15:10.353945Z"
    },
    "papermill": {
     "duration": 0.404258,
     "end_time": "2022-10-23T20:15:10.354709",
     "exception": false,
     "start_time": "2022-10-23T20:15:09.950451",
     "status": "completed"
    },
    "tags": []
   },
   "outputs": [
    {
     "data": {
      "image/png": "[encoded data removed]",
      "text/plain": [
       "<Figure size 720x648 with 1 Axes>"
      ]
     },
     "metadata": {
      "needs_background": "light"
     },
     "output_type": "display_data"
    }
   ],
   "source": [
    "plt.figure(figsize=(10,9))\n",
    "plt.scatter(testing_plot[:,0], testing_plot[:,1], alpha = 0.1, c = y_test.ravel())\n",
    "contours = plt.contour(x_grid,y_grid,prob_contour)\n",
    "plt.title('Probability Contours')\n",
    "plt.clabel(contours, inline = True );"
   ]
  },
  {
   "cell_type": "code",
   "execution_count": null,
   "id": "e81b4ac7",
   "metadata": {
    "papermill": {
     "duration": 0.060664,
     "end_time": "2022-10-23T20:15:10.477373",
     "exception": false,
     "start_time": "2022-10-23T20:15:10.416709",
     "status": "completed"
    },
    "tags": []
   },
   "outputs": [],
   "source": []
  }
 ],
 "metadata": {
  "kernelspec": {
   "display_name": "Python 3",
   "language": "python",
   "name": "python3"
  },
  "language_info": {
   "codemirror_mode": {
    "name": "ipython",
    "version": 3
   },
   "file_extension": ".py",
   "mimetype": "text/x-python",
   "name": "python",
   "nbconvert_exporter": "python",
   "pygments_lexer": "ipython3",
   "version": "3.6.15"
  },
  "papermill": {
   "default_parameters": {},
   "duration": 158.282047,
   "end_time": "2022-10-23T20:15:10.959419",
   "environment_variables": {},
   "exception": null,
   "input_path": "2020-08-11-part2.ipynb",
   "output_path": "2020-08-11-part2.ipynb",
   "parameters": {},
   "start_time": "2022-10-23T20:12:32.677372",
   "version": "2.3.3"
  }
 },
 "nbformat": 4,
 "nbformat_minor": 5
}