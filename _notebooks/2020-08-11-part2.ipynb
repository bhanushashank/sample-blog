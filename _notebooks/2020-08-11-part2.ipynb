{
 "cells": [
  {
   "cell_type": "markdown",
   "id": "98380cd3",
   "metadata": {
    "papermill": {
     "duration": 0.027933,
     "end_time": "2022-04-07T20:10:00.428615",
     "exception": false,
     "start_time": "2022-04-07T20:10:00.400682",
     "status": "completed"
    },
    "tags": []
   },
   "source": [
    "# Distinguish Your Own Digits (DYOD)"
   ]
  },
  {
   "cell_type": "markdown",
   "id": "ef31240d",
   "metadata": {
    "papermill": {
     "duration": 0.025359,
     "end_time": "2022-04-07T20:10:00.478415",
     "exception": false,
     "start_time": "2022-04-07T20:10:00.453056",
     "status": "completed"
    },
    "tags": []
   },
   "source": [
    "You are going to write a classifier that distinguishes between the number 3 and number 8."
   ]
  },
  {
   "cell_type": "code",
   "execution_count": 1,
   "id": "b15c8646",
   "metadata": {
    "execution": {
     "iopub.execute_input": "2022-04-07T20:10:00.534067Z",
     "iopub.status.busy": "2022-04-07T20:10:00.533517Z",
     "iopub.status.idle": "2022-04-07T20:10:00.546755Z",
     "shell.execute_reply": "2022-04-07T20:10:00.547150Z"
    },
    "papermill": {
     "duration": 0.045116,
     "end_time": "2022-04-07T20:10:00.547303",
     "exception": false,
     "start_time": "2022-04-07T20:10:00.502187",
     "status": "completed"
    },
    "tags": []
   },
   "outputs": [],
   "source": [
    "%load_ext autoreload\n",
    "%autoreload 2"
   ]
  },
  {
   "cell_type": "code",
   "execution_count": 2,
   "id": "22ef38dc",
   "metadata": {
    "execution": {
     "iopub.execute_input": "2022-04-07T20:10:00.598694Z",
     "iopub.status.busy": "2022-04-07T20:10:00.598174Z",
     "iopub.status.idle": "2022-04-07T20:10:01.181465Z",
     "shell.execute_reply": "2022-04-07T20:10:01.180897Z"
    },
    "papermill": {
     "duration": 0.61058,
     "end_time": "2022-04-07T20:10:01.181615",
     "exception": false,
     "start_time": "2022-04-07T20:10:00.571035",
     "status": "completed"
    },
    "tags": []
   },
   "outputs": [],
   "source": [
    "%matplotlib inline\n",
    "import numpy as np\n",
    "import matplotlib.pyplot as plt\n",
    "import pandas as pd"
   ]
  },
  {
   "cell_type": "markdown",
   "id": "ba036198",
   "metadata": {
    "papermill": {
     "duration": 0.023804,
     "end_time": "2022-04-07T20:10:01.229865",
     "exception": false,
     "start_time": "2022-04-07T20:10:01.206061",
     "status": "completed"
    },
    "tags": []
   },
   "source": [
    "From the command line run `pip install mnist`. This is a library that will help you bring down the mnist dataset. If you run this from a notebook, you need to put  `!pip install mnist` in a cell by itself."
   ]
  },
  {
   "cell_type": "code",
   "execution_count": 3,
   "id": "bb6ad8a1",
   "metadata": {
    "execution": {
     "iopub.execute_input": "2022-04-07T20:10:01.290630Z",
     "iopub.status.busy": "2022-04-07T20:10:01.290082Z",
     "iopub.status.idle": "2022-04-07T20:10:03.170703Z",
     "shell.execute_reply": "2022-04-07T20:10:03.171195Z"
    },
    "papermill": {
     "duration": 1.917775,
     "end_time": "2022-04-07T20:10:03.171365",
     "exception": false,
     "start_time": "2022-04-07T20:10:01.253590",
     "status": "completed"
    },
    "tags": []
   },
   "outputs": [
    {
     "name": "stdout",
     "output_type": "stream",
     "text": [
      "Collecting mnist\r\n",
      "  Downloading mnist-0.2.2-py2.py3-none-any.whl (3.5 kB)\r\n"
     ]
    },
    {
     "name": "stdout",
     "output_type": "stream",
     "text": [
      "Requirement already satisfied: numpy in /opt/hostedtoolcache/Python/3.6.15/x64/lib/python3.6/site-packages (from mnist) (1.19.5)\r\n"
     ]
    },
    {
     "name": "stdout",
     "output_type": "stream",
     "text": [
      "Installing collected packages: mnist\r\n",
      "Successfully installed mnist-0.2.2\r\n"
     ]
    }
   ],
   "source": [
    "!pip install mnist"
   ]
  },
  {
   "cell_type": "markdown",
   "id": "69df9c9a",
   "metadata": {
    "papermill": {
     "duration": 0.024948,
     "end_time": "2022-04-07T20:10:03.222162",
     "exception": false,
     "start_time": "2022-04-07T20:10:03.197214",
     "status": "completed"
    },
    "tags": []
   },
   "source": [
    "## Preparing the Data"
   ]
  },
  {
   "cell_type": "code",
   "execution_count": 4,
   "id": "7f69d806",
   "metadata": {
    "execution": {
     "iopub.execute_input": "2022-04-07T20:10:03.275506Z",
     "iopub.status.busy": "2022-04-07T20:10:03.274991Z",
     "iopub.status.idle": "2022-04-07T20:10:03.291002Z",
     "shell.execute_reply": "2022-04-07T20:10:03.290528Z"
    },
    "papermill": {
     "duration": 0.044308,
     "end_time": "2022-04-07T20:10:03.291131",
     "exception": false,
     "start_time": "2022-04-07T20:10:03.246823",
     "status": "completed"
    },
    "tags": []
   },
   "outputs": [],
   "source": [
    "import mnist"
   ]
  },
  {
   "cell_type": "code",
   "execution_count": 5,
   "id": "a411e44f",
   "metadata": {
    "execution": {
     "iopub.execute_input": "2022-04-07T20:10:03.363611Z",
     "iopub.status.busy": "2022-04-07T20:10:03.363070Z",
     "iopub.status.idle": "2022-04-07T20:10:03.913806Z",
     "shell.execute_reply": "2022-04-07T20:10:03.913229Z"
    },
    "papermill": {
     "duration": 0.596969,
     "end_time": "2022-04-07T20:10:03.913955",
     "exception": false,
     "start_time": "2022-04-07T20:10:03.316986",
     "status": "completed"
    },
    "tags": []
   },
   "outputs": [],
   "source": [
    "train_images = mnist.train_images()\n",
    "train_labels = mnist.train_labels()"
   ]
  },
  {
   "cell_type": "code",
   "execution_count": 6,
   "id": "dceab3a5",
   "metadata": {
    "execution": {
     "iopub.execute_input": "2022-04-07T20:10:03.978679Z",
     "iopub.status.busy": "2022-04-07T20:10:03.978123Z",
     "iopub.status.idle": "2022-04-07T20:10:03.987736Z",
     "shell.execute_reply": "2022-04-07T20:10:03.987087Z"
    },
    "papermill": {
     "duration": 0.048176,
     "end_time": "2022-04-07T20:10:03.987852",
     "exception": false,
     "start_time": "2022-04-07T20:10:03.939676",
     "status": "completed"
    },
    "tags": []
   },
   "outputs": [
    {
     "data": {
      "text/plain": [
       "((60000, 28, 28), (60000,))"
      ]
     },
     "execution_count": 6,
     "metadata": {},
     "output_type": "execute_result"
    }
   ],
   "source": [
    "train_images.shape, train_labels.shape"
   ]
  },
  {
   "cell_type": "code",
   "execution_count": 7,
   "id": "f50dc2bb",
   "metadata": {
    "execution": {
     "iopub.execute_input": "2022-04-07T20:10:04.054643Z",
     "iopub.status.busy": "2022-04-07T20:10:04.054123Z",
     "iopub.status.idle": "2022-04-07T20:10:04.214257Z",
     "shell.execute_reply": "2022-04-07T20:10:04.213041Z"
    },
    "papermill": {
     "duration": 0.201521,
     "end_time": "2022-04-07T20:10:04.214414",
     "exception": false,
     "start_time": "2022-04-07T20:10:04.012893",
     "status": "completed"
    },
    "tags": []
   },
   "outputs": [],
   "source": [
    "test_images = mnist.test_images()\n",
    "test_labels = mnist.test_labels()"
   ]
  },
  {
   "cell_type": "code",
   "execution_count": 8,
   "id": "fc38cf1b",
   "metadata": {
    "execution": {
     "iopub.execute_input": "2022-04-07T20:10:04.282641Z",
     "iopub.status.busy": "2022-04-07T20:10:04.278113Z",
     "iopub.status.idle": "2022-04-07T20:10:04.287490Z",
     "shell.execute_reply": "2022-04-07T20:10:04.287078Z"
    },
    "papermill": {
     "duration": 0.047607,
     "end_time": "2022-04-07T20:10:04.287608",
     "exception": false,
     "start_time": "2022-04-07T20:10:04.240001",
     "status": "completed"
    },
    "tags": []
   },
   "outputs": [
    {
     "data": {
      "text/plain": [
       "((10000, 28, 28), (10000,))"
      ]
     },
     "execution_count": 8,
     "metadata": {},
     "output_type": "execute_result"
    }
   ],
   "source": [
    "test_images.shape, test_labels.shape"
   ]
  },
  {
   "cell_type": "code",
   "execution_count": 9,
   "id": "f9ed8fe0",
   "metadata": {
    "execution": {
     "iopub.execute_input": "2022-04-07T20:10:04.342091Z",
     "iopub.status.busy": "2022-04-07T20:10:04.341576Z",
     "iopub.status.idle": "2022-04-07T20:10:04.479780Z",
     "shell.execute_reply": "2022-04-07T20:10:04.480196Z"
    },
    "papermill": {
     "duration": 0.167437,
     "end_time": "2022-04-07T20:10:04.480339",
     "exception": false,
     "start_time": "2022-04-07T20:10:04.312902",
     "status": "completed"
    },
    "tags": []
   },
   "outputs": [
    {
     "name": "stdout",
     "output_type": "stream",
     "text": [
      "2\n"
     ]
    },
    {
     "data": {
      "text/plain": [
       "<matplotlib.image.AxesImage at 0x7f5bad7e8550>"
      ]
     },
     "execution_count": 9,
     "metadata": {},
     "output_type": "execute_result"
    },
    {
     "data": {
      "image/png": "[encoded data removed]",
      "text/plain": [
       "<Figure size 432x288 with 1 Axes>"
      ]
     },
     "metadata": {
      "needs_background": "light"
     },
     "output_type": "display_data"
    }
   ],
   "source": [
    "image_index = 7776 # You may select anything up to 60,000\n",
    "print(train_labels[image_index]) \n",
    "plt.imshow(train_images[image_index], cmap='Greys')"
   ]
  },
  {
   "cell_type": "markdown",
   "id": "a8d2388d",
   "metadata": {
    "papermill": {
     "duration": 0.026248,
     "end_time": "2022-04-07T20:10:04.533371",
     "exception": false,
     "start_time": "2022-04-07T20:10:04.507123",
     "status": "completed"
    },
    "tags": []
   },
   "source": [
    "## Filter data to get 3 and 8 out"
   ]
  },
  {
   "cell_type": "code",
   "execution_count": 10,
   "id": "776f7fc7",
   "metadata": {
    "execution": {
     "iopub.execute_input": "2022-04-07T20:10:04.602685Z",
     "iopub.status.busy": "2022-04-07T20:10:04.602131Z",
     "iopub.status.idle": "2022-04-07T20:10:04.614476Z",
     "shell.execute_reply": "2022-04-07T20:10:04.614044Z"
    },
    "papermill": {
     "duration": 0.054897,
     "end_time": "2022-04-07T20:10:04.614598",
     "exception": false,
     "start_time": "2022-04-07T20:10:04.559701",
     "status": "completed"
    },
    "tags": []
   },
   "outputs": [],
   "source": [
    "train_filter = np.where((train_labels == 3 ) | (train_labels == 8))\n",
    "test_filter = np.where((test_labels == 3) | (test_labels == 8))\n",
    "X_train, y_train = train_images[train_filter], train_labels[train_filter]\n",
    "X_test, y_test = test_images[test_filter], test_labels[test_filter]"
   ]
  },
  {
   "cell_type": "markdown",
   "id": "948f0b7e",
   "metadata": {
    "papermill": {
     "duration": 0.026272,
     "end_time": "2022-04-07T20:10:04.667435",
     "exception": false,
     "start_time": "2022-04-07T20:10:04.641163",
     "status": "completed"
    },
    "tags": []
   },
   "source": [
    "We normalize the pizel values in the 0 to 1 range"
   ]
  },
  {
   "cell_type": "code",
   "execution_count": 11,
   "id": "ee4c2166",
   "metadata": {
    "execution": {
     "iopub.execute_input": "2022-04-07T20:10:04.733991Z",
     "iopub.status.busy": "2022-04-07T20:10:04.728657Z",
     "iopub.status.idle": "2022-04-07T20:10:04.774488Z",
     "shell.execute_reply": "2022-04-07T20:10:04.773984Z"
    },
    "papermill": {
     "duration": 0.080971,
     "end_time": "2022-04-07T20:10:04.774624",
     "exception": false,
     "start_time": "2022-04-07T20:10:04.693653",
     "status": "completed"
    },
    "tags": []
   },
   "outputs": [],
   "source": [
    "X_train = X_train/255.\n",
    "X_test = X_test/255."
   ]
  },
  {
   "cell_type": "markdown",
   "id": "ddcf4fab",
   "metadata": {
    "papermill": {
     "duration": 0.026206,
     "end_time": "2022-04-07T20:10:04.827428",
     "exception": false,
     "start_time": "2022-04-07T20:10:04.801222",
     "status": "completed"
    },
    "tags": []
   },
   "source": [
    "And setup the labels as 1 (when the digit is 3) and 0 (when the digit is 8)"
   ]
  },
  {
   "cell_type": "code",
   "execution_count": 12,
   "id": "7dc908f2",
   "metadata": {
    "execution": {
     "iopub.execute_input": "2022-04-07T20:10:04.885954Z",
     "iopub.status.busy": "2022-04-07T20:10:04.885401Z",
     "iopub.status.idle": "2022-04-07T20:10:04.895750Z",
     "shell.execute_reply": "2022-04-07T20:10:04.896243Z"
    },
    "papermill": {
     "duration": 0.042884,
     "end_time": "2022-04-07T20:10:04.896379",
     "exception": false,
     "start_time": "2022-04-07T20:10:04.853495",
     "status": "completed"
    },
    "tags": []
   },
   "outputs": [],
   "source": [
    "y_train = 1*(y_train==3)\n",
    "y_test = 1*(y_test==3)"
   ]
  },
  {
   "cell_type": "code",
   "execution_count": 13,
   "id": "01e4e969",
   "metadata": {
    "execution": {
     "iopub.execute_input": "2022-04-07T20:10:04.952242Z",
     "iopub.status.busy": "2022-04-07T20:10:04.951736Z",
     "iopub.status.idle": "2022-04-07T20:10:04.965249Z",
     "shell.execute_reply": "2022-04-07T20:10:04.965703Z"
    },
    "papermill": {
     "duration": 0.043259,
     "end_time": "2022-04-07T20:10:04.965834",
     "exception": false,
     "start_time": "2022-04-07T20:10:04.922575",
     "status": "completed"
    },
    "tags": []
   },
   "outputs": [
    {
     "data": {
      "text/plain": [
       "((11982, 28, 28), (1984, 28, 28))"
      ]
     },
     "execution_count": 13,
     "metadata": {},
     "output_type": "execute_result"
    }
   ],
   "source": [
    "X_train.shape, X_test.shape"
   ]
  },
  {
   "cell_type": "markdown",
   "id": "5ccf3f85",
   "metadata": {
    "papermill": {
     "duration": 0.026438,
     "end_time": "2022-04-07T20:10:05.018605",
     "exception": false,
     "start_time": "2022-04-07T20:10:04.992167",
     "status": "completed"
    },
    "tags": []
   },
   "source": [
    "We reshape the data to flatten the image pixels into a set of features or co-variates:"
   ]
  },
  {
   "cell_type": "code",
   "execution_count": 14,
   "id": "5286a4a3",
   "metadata": {
    "execution": {
     "iopub.execute_input": "2022-04-07T20:10:05.080176Z",
     "iopub.status.busy": "2022-04-07T20:10:05.079638Z",
     "iopub.status.idle": "2022-04-07T20:10:05.092213Z",
     "shell.execute_reply": "2022-04-07T20:10:05.091497Z"
    },
    "papermill": {
     "duration": 0.047264,
     "end_time": "2022-04-07T20:10:05.092331",
     "exception": false,
     "start_time": "2022-04-07T20:10:05.045067",
     "status": "completed"
    },
    "tags": []
   },
   "outputs": [
    {
     "data": {
      "text/plain": [
       "((11982, 784), (1984, 784))"
      ]
     },
     "execution_count": 14,
     "metadata": {},
     "output_type": "execute_result"
    }
   ],
   "source": [
    "X_train = X_train.reshape(X_train.shape[0], -1)\n",
    "X_test = X_test.reshape(X_test.shape[0], -1)\n",
    "X_train.shape, X_test.shape"
   ]
  },
  {
   "cell_type": "code",
   "execution_count": 15,
   "id": "73c5f88a",
   "metadata": {
    "execution": {
     "iopub.execute_input": "2022-04-07T20:10:05.150481Z",
     "iopub.status.busy": "2022-04-07T20:10:05.149965Z",
     "iopub.status.idle": "2022-04-07T20:10:05.168830Z",
     "shell.execute_reply": "2022-04-07T20:10:05.169255Z"
    },
    "papermill": {
     "duration": 0.050325,
     "end_time": "2022-04-07T20:10:05.169407",
     "exception": false,
     "start_time": "2022-04-07T20:10:05.119082",
     "status": "completed"
    },
    "tags": []
   },
   "outputs": [],
   "source": [
    "#Impoting functions from 'Kudzu'\n",
    "from kudzu.model import Model\n",
    "from kudzu.train import Learner\n",
    "from kudzu.optim import GD\n",
    "from kudzu.data import Data, Sampler,Dataloader\n",
    "\n",
    "from kudzu.callbacks import AccCallback\n",
    "from kudzu.callbacks import ClfCallback\n",
    "\n",
    "from kudzu.loss import MSE\n",
    "\n",
    "from kudzu.layer import Sigmoid,Relu\n",
    "from kudzu.layer import Affine"
   ]
  },
  {
   "cell_type": "markdown",
   "id": "bc01172a",
   "metadata": {
    "papermill": {
     "duration": 0.027334,
     "end_time": "2022-04-07T20:10:05.223819",
     "exception": false,
     "start_time": "2022-04-07T20:10:05.196485",
     "status": "completed"
    },
    "tags": []
   },
   "source": [
    "### Let us create a `Config` class, to store important parameters. \n",
    "This class essentially plays the role of a dictionary."
   ]
  },
  {
   "cell_type": "code",
   "execution_count": 16,
   "id": "978281aa",
   "metadata": {
    "execution": {
     "iopub.execute_input": "2022-04-07T20:10:05.281767Z",
     "iopub.status.busy": "2022-04-07T20:10:05.281204Z",
     "iopub.status.idle": "2022-04-07T20:10:05.293351Z",
     "shell.execute_reply": "2022-04-07T20:10:05.293752Z"
    },
    "papermill": {
     "duration": 0.043221,
     "end_time": "2022-04-07T20:10:05.293898",
     "exception": false,
     "start_time": "2022-04-07T20:10:05.250677",
     "status": "completed"
    },
    "tags": []
   },
   "outputs": [],
   "source": [
    "class Config:\n",
    "    pass\n",
    "config = Config()\n",
    "config.lr = 0.001\n",
    "config.num_epochs = 250\n",
    "config.bs = 50"
   ]
  },
  {
   "cell_type": "markdown",
   "id": "1385fa59",
   "metadata": {
    "papermill": {
     "duration": 0.026864,
     "end_time": "2022-04-07T20:10:05.347672",
     "exception": false,
     "start_time": "2022-04-07T20:10:05.320808",
     "status": "completed"
    },
    "tags": []
   },
   "source": [
    "### Running Models with the Training data\n",
    "Details about the network layers:\n",
    "- A first affine layer has 784 inputs and does 100 affine transforms. These are followed by a Relu\n",
    "- A second affine layer has 100 inputs from the 100 activations of the past layer, and does 100 affine transforms. These are followed by a Relu\n",
    "- A third affine layer has 100 activations and does 2 affine transformations to create an embedding for visualization. There is no non-linearity here.\n",
    "- A final \"logistic regression\" which has an affine transform from 2 inputs to 1 output, which is squeezed through a sigmoid.\n"
   ]
  },
  {
   "cell_type": "code",
   "execution_count": 17,
   "id": "2b9c66db",
   "metadata": {
    "execution": {
     "iopub.execute_input": "2022-04-07T20:10:05.405834Z",
     "iopub.status.busy": "2022-04-07T20:10:05.405294Z",
     "iopub.status.idle": "2022-04-07T20:10:05.418450Z",
     "shell.execute_reply": "2022-04-07T20:10:05.418002Z"
    },
    "papermill": {
     "duration": 0.043996,
     "end_time": "2022-04-07T20:10:05.418562",
     "exception": false,
     "start_time": "2022-04-07T20:10:05.374566",
     "status": "completed"
    },
    "tags": []
   },
   "outputs": [],
   "source": [
    "data = Data(X_train, y_train.reshape(-1,1))\n",
    "sampler = Sampler(data, config.bs, shuffle=True)\n",
    "\n",
    "dl = Dataloader(data, sampler)\n",
    "\n",
    "opt = GD(config.lr)\n",
    "loss = MSE()"
   ]
  },
  {
   "cell_type": "code",
   "execution_count": 18,
   "id": "b275e4c2",
   "metadata": {
    "execution": {
     "iopub.execute_input": "2022-04-07T20:10:05.491354Z",
     "iopub.status.busy": "2022-04-07T20:10:05.490803Z",
     "iopub.status.idle": "2022-04-07T20:10:05.493293Z",
     "shell.execute_reply": "2022-04-07T20:10:05.492825Z"
    },
    "papermill": {
     "duration": 0.047998,
     "end_time": "2022-04-07T20:10:05.493418",
     "exception": false,
     "start_time": "2022-04-07T20:10:05.445420",
     "status": "completed"
    },
    "tags": []
   },
   "outputs": [],
   "source": [
    "training_data_x = X_train\n",
    "testing_data_x = X_test\n",
    "training_data_y = y_train.reshape(-1,1)\n",
    "testing_data_y = y_test.reshape(-1,1)"
   ]
  },
  {
   "cell_type": "code",
   "execution_count": 19,
   "id": "76951160",
   "metadata": {
    "execution": {
     "iopub.execute_input": "2022-04-07T20:10:05.562937Z",
     "iopub.status.busy": "2022-04-07T20:10:05.550874Z",
     "iopub.status.idle": "2022-04-07T20:10:05.569643Z",
     "shell.execute_reply": "2022-04-07T20:10:05.570037Z"
    },
    "papermill": {
     "duration": 0.050006,
     "end_time": "2022-04-07T20:10:05.570176",
     "exception": false,
     "start_time": "2022-04-07T20:10:05.520170",
     "status": "completed"
    },
    "tags": []
   },
   "outputs": [
    {
     "name": "stdout",
     "output_type": "stream",
     "text": [
      "xavier\n",
      "xavier\n",
      "xavier\n",
      "xavier\n",
      "xavier\n"
     ]
    }
   ],
   "source": [
    "layers = [Affine(\"first\", 784, 100), Relu(\"first\"), Affine(\"second\", 100, 100), Relu(\"second\"), Affine(\"third\", 100, 2), Affine(\"last\", 2, 1), Sigmoid(\"last\")]\n",
    "model_nn = Model(layers)\n",
    "model_lr = Model([Affine(\"logits\", 784, 1), Sigmoid(\"sigmoid\")])"
   ]
  },
  {
   "cell_type": "code",
   "execution_count": 20,
   "id": "6eede77a",
   "metadata": {
    "execution": {
     "iopub.execute_input": "2022-04-07T20:10:05.629285Z",
     "iopub.status.busy": "2022-04-07T20:10:05.628740Z",
     "iopub.status.idle": "2022-04-07T20:10:05.640451Z",
     "shell.execute_reply": "2022-04-07T20:10:05.640032Z"
    },
    "papermill": {
     "duration": 0.043144,
     "end_time": "2022-04-07T20:10:05.640565",
     "exception": false,
     "start_time": "2022-04-07T20:10:05.597421",
     "status": "completed"
    },
    "tags": []
   },
   "outputs": [],
   "source": [
    "nn_learner = Learner(loss, model_nn, opt, config.num_epochs)\n",
    "acc_nn = ClfCallback(nn_learner, config.bs, training_data_x , testing_data_x, training_data_y, testing_data_y)\n",
    "nn_learner.set_callbacks([acc_nn])"
   ]
  },
  {
   "cell_type": "code",
   "execution_count": 21,
   "id": "877b6cc7",
   "metadata": {
    "execution": {
     "iopub.execute_input": "2022-04-07T20:10:05.710853Z",
     "iopub.status.busy": "2022-04-07T20:10:05.710304Z",
     "iopub.status.idle": "2022-04-07T20:10:05.717258Z",
     "shell.execute_reply": "2022-04-07T20:10:05.716820Z"
    },
    "papermill": {
     "duration": 0.049587,
     "end_time": "2022-04-07T20:10:05.717381",
     "exception": false,
     "start_time": "2022-04-07T20:10:05.667794",
     "status": "completed"
    },
    "tags": []
   },
   "outputs": [],
   "source": [
    "lr_learner = Learner(loss, model_lr, opt, config.num_epochs)\n",
    "acc_lr = ClfCallback(lr_learner, config.bs, training_data_x , testing_data_x, training_data_y, testing_data_y)\n",
    "lr_learner.set_callbacks([acc_lr])"
   ]
  },
  {
   "cell_type": "code",
   "execution_count": 22,
   "id": "d9b133c3",
   "metadata": {
    "execution": {
     "iopub.execute_input": "2022-04-07T20:10:05.786042Z",
     "iopub.status.busy": "2022-04-07T20:10:05.785457Z",
     "iopub.status.idle": "2022-04-07T20:11:24.653296Z",
     "shell.execute_reply": "2022-04-07T20:11:24.654054Z"
    },
    "papermill": {
     "duration": 78.909462,
     "end_time": "2022-04-07T20:11:24.654208",
     "exception": false,
     "start_time": "2022-04-07T20:10:05.744746",
     "status": "completed"
    },
    "tags": []
   },
   "outputs": [
    {
     "name": "stdout",
     "output_type": "stream",
     "text": [
      "Epoch 0, Loss 0.2617\n",
      "Training Accuracy: 0.5346, Testing Accuracy: 0.5358\n",
      "\n"
     ]
    },
    {
     "name": "stdout",
     "output_type": "stream",
     "text": [
      "Epoch 10, Loss 0.0972\n",
      "Training Accuracy: 0.9164, Testing Accuracy: 0.9289\n",
      "\n"
     ]
    },
    {
     "name": "stdout",
     "output_type": "stream",
     "text": [
      "Epoch 20, Loss 0.0576\n",
      "Training Accuracy: 0.9410, Testing Accuracy: 0.9511\n",
      "\n"
     ]
    },
    {
     "name": "stdout",
     "output_type": "stream",
     "text": [
      "Epoch 30, Loss 0.045\n",
      "Training Accuracy: 0.9495, Testing Accuracy: 0.9632\n",
      "\n"
     ]
    },
    {
     "name": "stdout",
     "output_type": "stream",
     "text": [
      "Epoch 40, Loss 0.0389\n",
      "Training Accuracy: 0.9559, Testing Accuracy: 0.9682\n",
      "\n"
     ]
    },
    {
     "name": "stdout",
     "output_type": "stream",
     "text": [
      "Epoch 50, Loss 0.0352\n",
      "Training Accuracy: 0.9596, Testing Accuracy: 0.9708\n",
      "\n"
     ]
    },
    {
     "name": "stdout",
     "output_type": "stream",
     "text": [
      "Epoch 60, Loss 0.0326\n",
      "Training Accuracy: 0.9621, Testing Accuracy: 0.9708\n",
      "\n"
     ]
    },
    {
     "name": "stdout",
     "output_type": "stream",
     "text": [
      "Epoch 70, Loss 0.0306\n",
      "Training Accuracy: 0.9642, Testing Accuracy: 0.9693\n",
      "\n"
     ]
    },
    {
     "name": "stdout",
     "output_type": "stream",
     "text": [
      "Epoch 80, Loss 0.0291\n",
      "Training Accuracy: 0.9656, Testing Accuracy: 0.9703\n",
      "\n"
     ]
    },
    {
     "name": "stdout",
     "output_type": "stream",
     "text": [
      "Epoch 90, Loss 0.0278\n",
      "Training Accuracy: 0.9672, Testing Accuracy: 0.9703\n",
      "\n"
     ]
    },
    {
     "name": "stdout",
     "output_type": "stream",
     "text": [
      "Epoch 100, Loss 0.0267\n",
      "Training Accuracy: 0.9690, Testing Accuracy: 0.9713\n",
      "\n"
     ]
    },
    {
     "name": "stdout",
     "output_type": "stream",
     "text": [
      "Epoch 110, Loss 0.0257\n",
      "Training Accuracy: 0.9701, Testing Accuracy: 0.9708\n",
      "\n"
     ]
    },
    {
     "name": "stdout",
     "output_type": "stream",
     "text": [
      "Epoch 120, Loss 0.0249\n",
      "Training Accuracy: 0.9716, Testing Accuracy: 0.9713\n",
      "\n"
     ]
    },
    {
     "name": "stdout",
     "output_type": "stream",
     "text": [
      "Epoch 130, Loss 0.0241\n",
      "Training Accuracy: 0.9729, Testing Accuracy: 0.9723\n",
      "\n"
     ]
    },
    {
     "name": "stdout",
     "output_type": "stream",
     "text": [
      "Epoch 140, Loss 0.0234\n",
      "Training Accuracy: 0.9736, Testing Accuracy: 0.9728\n",
      "\n"
     ]
    },
    {
     "name": "stdout",
     "output_type": "stream",
     "text": [
      "Epoch 150, Loss 0.0228\n",
      "Training Accuracy: 0.9741, Testing Accuracy: 0.9728\n",
      "\n"
     ]
    },
    {
     "name": "stdout",
     "output_type": "stream",
     "text": [
      "Epoch 160, Loss 0.0222\n",
      "Training Accuracy: 0.9745, Testing Accuracy: 0.9728\n",
      "\n"
     ]
    },
    {
     "name": "stdout",
     "output_type": "stream",
     "text": [
      "Epoch 170, Loss 0.0216\n",
      "Training Accuracy: 0.9753, Testing Accuracy: 0.9728\n",
      "\n"
     ]
    },
    {
     "name": "stdout",
     "output_type": "stream",
     "text": [
      "Epoch 180, Loss 0.0211\n",
      "Training Accuracy: 0.9759, Testing Accuracy: 0.9728\n",
      "\n"
     ]
    },
    {
     "name": "stdout",
     "output_type": "stream",
     "text": [
      "Epoch 190, Loss 0.0206\n",
      "Training Accuracy: 0.9764, Testing Accuracy: 0.9738\n",
      "\n"
     ]
    },
    {
     "name": "stdout",
     "output_type": "stream",
     "text": [
      "Epoch 200, Loss 0.0201\n",
      "Training Accuracy: 0.9773, Testing Accuracy: 0.9733\n",
      "\n"
     ]
    },
    {
     "name": "stdout",
     "output_type": "stream",
     "text": [
      "Epoch 210, Loss 0.0197\n",
      "Training Accuracy: 0.9780, Testing Accuracy: 0.9738\n",
      "\n"
     ]
    },
    {
     "name": "stdout",
     "output_type": "stream",
     "text": [
      "Epoch 220, Loss 0.0192\n",
      "Training Accuracy: 0.9786, Testing Accuracy: 0.9733\n",
      "\n"
     ]
    },
    {
     "name": "stdout",
     "output_type": "stream",
     "text": [
      "Epoch 230, Loss 0.0188\n",
      "Training Accuracy: 0.9787, Testing Accuracy: 0.9728\n",
      "\n"
     ]
    },
    {
     "name": "stdout",
     "output_type": "stream",
     "text": [
      "Epoch 240, Loss 0.0184\n",
      "Training Accuracy: 0.9796, Testing Accuracy: 0.9728\n",
      "\n"
     ]
    },
    {
     "data": {
      "text/plain": [
       "0.00204717461972489"
      ]
     },
     "execution_count": 22,
     "metadata": {},
     "output_type": "execute_result"
    }
   ],
   "source": [
    "nn_learner.train_loop(dl)"
   ]
  },
  {
   "cell_type": "code",
   "execution_count": 23,
   "id": "e0163366",
   "metadata": {
    "execution": {
     "iopub.execute_input": "2022-04-07T20:11:24.734707Z",
     "iopub.status.busy": "2022-04-07T20:11:24.734173Z",
     "iopub.status.idle": "2022-04-07T20:11:38.902417Z",
     "shell.execute_reply": "2022-04-07T20:11:38.903153Z"
    },
    "papermill": {
     "duration": 14.214512,
     "end_time": "2022-04-07T20:11:38.903309",
     "exception": false,
     "start_time": "2022-04-07T20:11:24.688797",
     "status": "completed"
    },
    "tags": []
   },
   "outputs": [
    {
     "name": "stdout",
     "output_type": "stream",
     "text": [
      "Epoch 0, Loss 0.2199\n",
      "Training Accuracy: 0.7850, Testing Accuracy: 0.8080\n",
      "\n"
     ]
    },
    {
     "name": "stdout",
     "output_type": "stream",
     "text": [
      "Epoch 10, Loss 0.0976\n",
      "Training Accuracy: 0.9195, Testing Accuracy: 0.9294\n",
      "\n"
     ]
    },
    {
     "name": "stdout",
     "output_type": "stream",
     "text": [
      "Epoch 20, Loss 0.0766\n",
      "Training Accuracy: 0.9331, Testing Accuracy: 0.9420\n",
      "\n"
     ]
    },
    {
     "name": "stdout",
     "output_type": "stream",
     "text": [
      "Epoch 30, Loss 0.0668\n",
      "Training Accuracy: 0.9404, Testing Accuracy: 0.9476\n",
      "\n"
     ]
    },
    {
     "name": "stdout",
     "output_type": "stream",
     "text": [
      "Epoch 40, Loss 0.0607\n",
      "Training Accuracy: 0.9440, Testing Accuracy: 0.9496\n",
      "\n"
     ]
    },
    {
     "name": "stdout",
     "output_type": "stream",
     "text": [
      "Epoch 50, Loss 0.0566\n",
      "Training Accuracy: 0.9458, Testing Accuracy: 0.9511\n",
      "\n"
     ]
    },
    {
     "name": "stdout",
     "output_type": "stream",
     "text": [
      "Epoch 60, Loss 0.0535\n",
      "Training Accuracy: 0.9477, Testing Accuracy: 0.9531\n",
      "\n"
     ]
    },
    {
     "name": "stdout",
     "output_type": "stream",
     "text": [
      "Epoch 70, Loss 0.051\n",
      "Training Accuracy: 0.9491, Testing Accuracy: 0.9551\n",
      "\n"
     ]
    },
    {
     "name": "stdout",
     "output_type": "stream",
     "text": [
      "Epoch 80, Loss 0.0491\n",
      "Training Accuracy: 0.9514, Testing Accuracy: 0.9556\n",
      "\n"
     ]
    },
    {
     "name": "stdout",
     "output_type": "stream",
     "text": [
      "Epoch 90, Loss 0.0475\n",
      "Training Accuracy: 0.9527, Testing Accuracy: 0.9582\n",
      "\n"
     ]
    },
    {
     "name": "stdout",
     "output_type": "stream",
     "text": [
      "Epoch 100, Loss 0.0461\n",
      "Training Accuracy: 0.9536, Testing Accuracy: 0.9592\n",
      "\n"
     ]
    },
    {
     "name": "stdout",
     "output_type": "stream",
     "text": [
      "Epoch 110, Loss 0.0449\n",
      "Training Accuracy: 0.9543, Testing Accuracy: 0.9602\n",
      "\n"
     ]
    },
    {
     "name": "stdout",
     "output_type": "stream",
     "text": [
      "Epoch 120, Loss 0.0439\n",
      "Training Accuracy: 0.9553, Testing Accuracy: 0.9617\n",
      "\n"
     ]
    },
    {
     "name": "stdout",
     "output_type": "stream",
     "text": [
      "Epoch 130, Loss 0.043\n",
      "Training Accuracy: 0.9559, Testing Accuracy: 0.9627\n",
      "\n"
     ]
    },
    {
     "name": "stdout",
     "output_type": "stream",
     "text": [
      "Epoch 140, Loss 0.0422\n",
      "Training Accuracy: 0.9564, Testing Accuracy: 0.9642\n",
      "\n"
     ]
    },
    {
     "name": "stdout",
     "output_type": "stream",
     "text": [
      "Epoch 150, Loss 0.0414\n",
      "Training Accuracy: 0.9571, Testing Accuracy: 0.9647\n",
      "\n"
     ]
    },
    {
     "name": "stdout",
     "output_type": "stream",
     "text": [
      "Epoch 160, Loss 0.0408\n",
      "Training Accuracy: 0.9576, Testing Accuracy: 0.9647\n",
      "\n"
     ]
    },
    {
     "name": "stdout",
     "output_type": "stream",
     "text": [
      "Epoch 170, Loss 0.0402\n",
      "Training Accuracy: 0.9584, Testing Accuracy: 0.9647\n",
      "\n"
     ]
    },
    {
     "name": "stdout",
     "output_type": "stream",
     "text": [
      "Epoch 180, Loss 0.0396\n",
      "Training Accuracy: 0.9590, Testing Accuracy: 0.9652\n",
      "\n"
     ]
    },
    {
     "name": "stdout",
     "output_type": "stream",
     "text": [
      "Epoch 190, Loss 0.0391\n",
      "Training Accuracy: 0.9594, Testing Accuracy: 0.9657\n",
      "\n"
     ]
    },
    {
     "name": "stdout",
     "output_type": "stream",
     "text": [
      "Epoch 200, Loss 0.0386\n",
      "Training Accuracy: 0.9599, Testing Accuracy: 0.9667\n",
      "\n"
     ]
    },
    {
     "name": "stdout",
     "output_type": "stream",
     "text": [
      "Epoch 210, Loss 0.0382\n",
      "Training Accuracy: 0.9603, Testing Accuracy: 0.9662\n",
      "\n"
     ]
    },
    {
     "name": "stdout",
     "output_type": "stream",
     "text": [
      "Epoch 220, Loss 0.0378\n",
      "Training Accuracy: 0.9604, Testing Accuracy: 0.9662\n",
      "\n"
     ]
    },
    {
     "name": "stdout",
     "output_type": "stream",
     "text": [
      "Epoch 230, Loss 0.0374\n",
      "Training Accuracy: 0.9605, Testing Accuracy: 0.9657\n",
      "\n"
     ]
    },
    {
     "name": "stdout",
     "output_type": "stream",
     "text": [
      "Epoch 240, Loss 0.0371\n",
      "Training Accuracy: 0.9607, Testing Accuracy: 0.9657\n",
      "\n"
     ]
    },
    {
     "data": {
      "text/plain": [
       "0.0415924084163304"
      ]
     },
     "execution_count": 23,
     "metadata": {},
     "output_type": "execute_result"
    }
   ],
   "source": [
    "lr_learner.train_loop(dl)"
   ]
  },
  {
   "cell_type": "code",
   "execution_count": 24,
   "id": "ca410940",
   "metadata": {
    "execution": {
     "iopub.execute_input": "2022-04-07T20:11:38.996129Z",
     "iopub.status.busy": "2022-04-07T20:11:38.995578Z",
     "iopub.status.idle": "2022-04-07T20:11:39.218927Z",
     "shell.execute_reply": "2022-04-07T20:11:39.218477Z"
    },
    "papermill": {
     "duration": 0.273373,
     "end_time": "2022-04-07T20:11:39.219052",
     "exception": false,
     "start_time": "2022-04-07T20:11:38.945679",
     "status": "completed"
    },
    "tags": []
   },
   "outputs": [
    {
     "data": {
      "text/plain": [
       "<matplotlib.legend.Legend at 0x7f5bad3c7c88>"
      ]
     },
     "execution_count": 24,
     "metadata": {},
     "output_type": "execute_result"
    },
    {
     "data": {
      "image/png": "[encoded data removed]",
      "text/plain": [
       "<Figure size 1080x720 with 1 Axes>"
      ]
     },
     "metadata": {
      "needs_background": "light"
     },
     "output_type": "display_data"
    }
   ],
   "source": [
    "#comparing the results of NN and LR\n",
    "plt.figure(figsize=(15,10))\n",
    "\n",
    "# Neural Network plots\n",
    "plt.plot(acc_nn.accuracies, 'r-', label = \"Training Accuracies - NN\")\n",
    "plt.plot(acc_nn.test_accuracies, 'g-', label = \"Testing Accuracies - NN\")\n",
    "\n",
    "# Logistic Regression plots\n",
    "plt.plot(acc_lr.accuracies, 'k-', label = \"Training Accuracies - LR\")\n",
    "plt.plot(acc_lr.test_accuracies, 'b-', label = \"Testing Accuracies - LR\")\n",
    "plt.legend()"
   ]
  },
  {
   "cell_type": "markdown",
   "id": "80dfb35c",
   "metadata": {
    "papermill": {
     "duration": 0.042232,
     "end_time": "2022-04-07T20:11:39.303653",
     "exception": false,
     "start_time": "2022-04-07T20:11:39.261421",
     "status": "completed"
    },
    "tags": []
   },
   "source": [
    "#### Plotting the outputs of this layer of the NN.\n"
   ]
  },
  {
   "cell_type": "code",
   "execution_count": 25,
   "id": "45eb2ff5",
   "metadata": {
    "execution": {
     "iopub.execute_input": "2022-04-07T20:11:39.394765Z",
     "iopub.status.busy": "2022-04-07T20:11:39.394186Z",
     "iopub.status.idle": "2022-04-07T20:11:39.413774Z",
     "shell.execute_reply": "2022-04-07T20:11:39.414214Z"
    },
    "papermill": {
     "duration": 0.068874,
     "end_time": "2022-04-07T20:11:39.414361",
     "exception": false,
     "start_time": "2022-04-07T20:11:39.345487",
     "status": "completed"
    },
    "tags": []
   },
   "outputs": [],
   "source": [
    "new_model = Model(layers[:-2])\n",
    "testing_plot = new_model(testing_data_x)"
   ]
  },
  {
   "cell_type": "code",
   "execution_count": 26,
   "id": "4c0a5485",
   "metadata": {
    "execution": {
     "iopub.execute_input": "2022-04-07T20:11:39.510521Z",
     "iopub.status.busy": "2022-04-07T20:11:39.509986Z",
     "iopub.status.idle": "2022-04-07T20:11:39.712216Z",
     "shell.execute_reply": "2022-04-07T20:11:39.711756Z"
    },
    "papermill": {
     "duration": 0.255261,
     "end_time": "2022-04-07T20:11:39.712338",
     "exception": false,
     "start_time": "2022-04-07T20:11:39.457077",
     "status": "completed"
    },
    "tags": []
   },
   "outputs": [
    {
     "data": {
      "text/plain": [
       "Text(0.5, 1.0, 'Outputs')"
      ]
     },
     "execution_count": 26,
     "metadata": {},
     "output_type": "execute_result"
    },
    {
     "data": {
      "image/png": "[encoded data removed]",
      "text/plain": [
       "<Figure size 576x504 with 1 Axes>"
      ]
     },
     "metadata": {
      "needs_background": "light"
     },
     "output_type": "display_data"
    }
   ],
   "source": [
    "# Plotting the scatter plot of points and color coding by class\n",
    "plt.figure(figsize=(8,7))\n",
    "plt.scatter(testing_plot[:,0], testing_plot[:,1], alpha = 0.1, c = y_test.ravel());\n",
    "plt.title('Outputs')"
   ]
  },
  {
   "cell_type": "markdown",
   "id": "a74fcf8f",
   "metadata": {
    "papermill": {
     "duration": 0.044542,
     "end_time": "2022-04-07T20:11:39.801283",
     "exception": false,
     "start_time": "2022-04-07T20:11:39.756741",
     "status": "completed"
    },
    "tags": []
   },
   "source": [
    "Probability contours"
   ]
  },
  {
   "cell_type": "code",
   "execution_count": 27,
   "id": "d0afc8e3",
   "metadata": {
    "execution": {
     "iopub.execute_input": "2022-04-07T20:11:39.900679Z",
     "iopub.status.busy": "2022-04-07T20:11:39.899380Z",
     "iopub.status.idle": "2022-04-07T20:11:39.908406Z",
     "shell.execute_reply": "2022-04-07T20:11:39.908804Z"
    },
    "papermill": {
     "duration": 0.06337,
     "end_time": "2022-04-07T20:11:39.908950",
     "exception": false,
     "start_time": "2022-04-07T20:11:39.845580",
     "status": "completed"
    },
    "tags": []
   },
   "outputs": [],
   "source": [
    "model_prob = Model(layers[-2:]) "
   ]
  },
  {
   "cell_type": "code",
   "execution_count": 28,
   "id": "9b96e238",
   "metadata": {
    "execution": {
     "iopub.execute_input": "2022-04-07T20:11:40.002607Z",
     "iopub.status.busy": "2022-04-07T20:11:40.001768Z",
     "iopub.status.idle": "2022-04-07T20:11:40.017525Z",
     "shell.execute_reply": "2022-04-07T20:11:40.017924Z"
    },
    "papermill": {
     "duration": 0.06494,
     "end_time": "2022-04-07T20:11:40.018072",
     "exception": false,
     "start_time": "2022-04-07T20:11:39.953132",
     "status": "completed"
    },
    "tags": []
   },
   "outputs": [],
   "source": [
    "#creating the x and y ranges according to the above generated plot.\n",
    "x_range = np.linspace(-4, 1, 100) \n",
    "y_range = np.linspace(-6, 6, 100) \n",
    "x_grid, y_grid = np.meshgrid(x_range, y_range) # x_grid and y_grig are of size 100 X 100\n",
    "\n",
    "# converting x_grid and y_grid to continuous arrays\n",
    "x_gridflat = np.ravel(x_grid)\n",
    "y_gridflat = np.ravel(y_grid)\n",
    "\n",
    "# The last layer of the current model takes two columns as input. Hence transpose of np.vstack() is required.\n",
    "X = np.vstack((x_gridflat, y_gridflat)).T\n",
    "\n",
    "prob_contour = model_prob(X).reshape(100,100) "
   ]
  },
  {
   "cell_type": "code",
   "execution_count": 29,
   "id": "da72499a",
   "metadata": {
    "execution": {
     "iopub.execute_input": "2022-04-07T20:11:40.155929Z",
     "iopub.status.busy": "2022-04-07T20:11:40.155392Z",
     "iopub.status.idle": "2022-04-07T20:11:40.411274Z",
     "shell.execute_reply": "2022-04-07T20:11:40.410268Z"
    },
    "papermill": {
     "duration": 0.336594,
     "end_time": "2022-04-07T20:11:40.411400",
     "exception": false,
     "start_time": "2022-04-07T20:11:40.074806",
     "status": "completed"
    },
    "tags": []
   },
   "outputs": [
    {
     "data": {
      "image/png": "[encoded data removed]",
      "text/plain": [
       "<Figure size 720x648 with 1 Axes>"
      ]
     },
     "metadata": {
      "needs_background": "light"
     },
     "output_type": "display_data"
    }
   ],
   "source": [
    "plt.figure(figsize=(10,9))\n",
    "plt.scatter(testing_plot[:,0], testing_plot[:,1], alpha = 0.1, c = y_test.ravel())\n",
    "contours = plt.contour(x_grid,y_grid,prob_contour)\n",
    "plt.title('Probability Contours')\n",
    "plt.clabel(contours, inline = True );"
   ]
  },
  {
   "cell_type": "code",
   "execution_count": null,
   "id": "e81b4ac7",
   "metadata": {
    "papermill": {
     "duration": 0.046893,
     "end_time": "2022-04-07T20:11:40.505807",
     "exception": false,
     "start_time": "2022-04-07T20:11:40.458914",
     "status": "completed"
    },
    "tags": []
   },
   "outputs": [],
   "source": []
  }
 ],
 "metadata": {
  "kernelspec": {
   "display_name": "Python 3",
   "language": "python",
   "name": "python3"
  },
  "language_info": {
   "codemirror_mode": {
    "name": "ipython",
    "version": 3
   },
   "file_extension": ".py",
   "mimetype": "text/x-python",
   "name": "python",
   "nbconvert_exporter": "python",
   "pygments_lexer": "ipython3",
   "version": "3.6.15"
  },
  "papermill": {
   "default_parameters": {},
   "duration": 101.506734,
   "end_time": "2022-04-07T20:11:40.972401",
   "environment_variables": {},
   "exception": null,
   "input_path": "2020-08-11-part2.ipynb",
   "output_path": "2020-08-11-part2.ipynb",
   "parameters": {},
   "start_time": "2022-04-07T20:09:59.465667",
   "version": "2.3.3"
  }
 },
 "nbformat": 4,
 "nbformat_minor": 5
}