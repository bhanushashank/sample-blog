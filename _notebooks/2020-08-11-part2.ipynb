{
 "cells": [
  {
   "cell_type": "markdown",
   "id": "98380cd3",
   "metadata": {
    "papermill": {
     "duration": 0.036425,
     "end_time": "2022-03-11T20:10:43.256338",
     "exception": false,
     "start_time": "2022-03-11T20:10:43.219913",
     "status": "completed"
    },
    "tags": []
   },
   "source": [
    "# Distinguish Your Own Digits (DYOD)"
   ]
  },
  {
   "cell_type": "markdown",
   "id": "ef31240d",
   "metadata": {
    "papermill": {
     "duration": 0.033333,
     "end_time": "2022-03-11T20:10:43.330917",
     "exception": false,
     "start_time": "2022-03-11T20:10:43.297584",
     "status": "completed"
    },
    "tags": []
   },
   "source": [
    "You are going to write a classifier that distinguishes between the number 3 and number 8."
   ]
  },
  {
   "cell_type": "code",
   "execution_count": 1,
   "id": "b15c8646",
   "metadata": {
    "execution": {
     "iopub.execute_input": "2022-03-11T20:10:43.411106Z",
     "iopub.status.busy": "2022-03-11T20:10:43.410391Z",
     "iopub.status.idle": "2022-03-11T20:10:43.423317Z",
     "shell.execute_reply": "2022-03-11T20:10:43.423889Z"
    },
    "papermill": {
     "duration": 0.060978,
     "end_time": "2022-03-11T20:10:43.424094",
     "exception": false,
     "start_time": "2022-03-11T20:10:43.363116",
     "status": "completed"
    },
    "tags": []
   },
   "outputs": [],
   "source": [
    "%load_ext autoreload\n",
    "%autoreload 2"
   ]
  },
  {
   "cell_type": "code",
   "execution_count": 2,
   "id": "22ef38dc",
   "metadata": {
    "execution": {
     "iopub.execute_input": "2022-03-11T20:10:43.493504Z",
     "iopub.status.busy": "2022-03-11T20:10:43.492802Z",
     "iopub.status.idle": "2022-03-11T20:10:44.252144Z",
     "shell.execute_reply": "2022-03-11T20:10:44.251556Z"
    },
    "papermill": {
     "duration": 0.797666,
     "end_time": "2022-03-11T20:10:44.252294",
     "exception": false,
     "start_time": "2022-03-11T20:10:43.454628",
     "status": "completed"
    },
    "tags": []
   },
   "outputs": [],
   "source": [
    "%matplotlib inline\n",
    "import numpy as np\n",
    "import matplotlib.pyplot as plt\n",
    "import pandas as pd"
   ]
  },
  {
   "cell_type": "markdown",
   "id": "ba036198",
   "metadata": {
    "papermill": {
     "duration": 0.031382,
     "end_time": "2022-03-11T20:10:44.316553",
     "exception": false,
     "start_time": "2022-03-11T20:10:44.285171",
     "status": "completed"
    },
    "tags": []
   },
   "source": [
    "From the command line run `pip install mnist`. This is a library that will help you bring down the mnist dataset. If you run this from a notebook, you need to put  `!pip install mnist` in a cell by itself."
   ]
  },
  {
   "cell_type": "code",
   "execution_count": 3,
   "id": "bb6ad8a1",
   "metadata": {
    "execution": {
     "iopub.execute_input": "2022-03-11T20:10:44.383161Z",
     "iopub.status.busy": "2022-03-11T20:10:44.382511Z",
     "iopub.status.idle": "2022-03-11T20:10:46.617801Z",
     "shell.execute_reply": "2022-03-11T20:10:46.618377Z"
    },
    "papermill": {
     "duration": 2.271648,
     "end_time": "2022-03-11T20:10:46.618559",
     "exception": false,
     "start_time": "2022-03-11T20:10:44.346911",
     "status": "completed"
    },
    "tags": []
   },
   "outputs": [
    {
     "name": "stdout",
     "output_type": "stream",
     "text": [
      "Collecting mnist\r\n",
      "  Downloading mnist-0.2.2-py2.py3-none-any.whl (3.5 kB)\r\n",
      "Requirement already satisfied: numpy in /opt/hostedtoolcache/Python/3.6.15/x64/lib/python3.6/site-packages (from mnist) (1.19.5)\r\n"
     ]
    },
    {
     "name": "stdout",
     "output_type": "stream",
     "text": [
      "Installing collected packages: mnist\r\n"
     ]
    },
    {
     "name": "stdout",
     "output_type": "stream",
     "text": [
      "Successfully installed mnist-0.2.2\r\n"
     ]
    }
   ],
   "source": [
    "!pip install mnist"
   ]
  },
  {
   "cell_type": "markdown",
   "id": "69df9c9a",
   "metadata": {
    "papermill": {
     "duration": 0.031925,
     "end_time": "2022-03-11T20:10:46.682355",
     "exception": false,
     "start_time": "2022-03-11T20:10:46.650430",
     "status": "completed"
    },
    "tags": []
   },
   "source": [
    "## Preparing the Data"
   ]
  },
  {
   "cell_type": "code",
   "execution_count": 4,
   "id": "7f69d806",
   "metadata": {
    "execution": {
     "iopub.execute_input": "2022-03-11T20:10:46.753338Z",
     "iopub.status.busy": "2022-03-11T20:10:46.752631Z",
     "iopub.status.idle": "2022-03-11T20:10:46.776993Z",
     "shell.execute_reply": "2022-03-11T20:10:46.776387Z"
    },
    "papermill": {
     "duration": 0.060389,
     "end_time": "2022-03-11T20:10:46.777144",
     "exception": false,
     "start_time": "2022-03-11T20:10:46.716755",
     "status": "completed"
    },
    "tags": []
   },
   "outputs": [],
   "source": [
    "import mnist"
   ]
  },
  {
   "cell_type": "code",
   "execution_count": 5,
   "id": "a411e44f",
   "metadata": {
    "execution": {
     "iopub.execute_input": "2022-03-11T20:10:46.846040Z",
     "iopub.status.busy": "2022-03-11T20:10:46.845363Z",
     "iopub.status.idle": "2022-03-11T20:10:47.508975Z",
     "shell.execute_reply": "2022-03-11T20:10:47.508315Z"
    },
    "papermill": {
     "duration": 0.700025,
     "end_time": "2022-03-11T20:10:47.509130",
     "exception": false,
     "start_time": "2022-03-11T20:10:46.809105",
     "status": "completed"
    },
    "tags": []
   },
   "outputs": [],
   "source": [
    "train_images = mnist.train_images()\n",
    "train_labels = mnist.train_labels()"
   ]
  },
  {
   "cell_type": "code",
   "execution_count": 6,
   "id": "dceab3a5",
   "metadata": {
    "execution": {
     "iopub.execute_input": "2022-03-11T20:10:47.584458Z",
     "iopub.status.busy": "2022-03-11T20:10:47.583798Z",
     "iopub.status.idle": "2022-03-11T20:10:47.598554Z",
     "shell.execute_reply": "2022-03-11T20:10:47.597996Z"
    },
    "papermill": {
     "duration": 0.054937,
     "end_time": "2022-03-11T20:10:47.598702",
     "exception": false,
     "start_time": "2022-03-11T20:10:47.543765",
     "status": "completed"
    },
    "tags": []
   },
   "outputs": [
    {
     "data": {
      "text/plain": [
       "((60000, 28, 28), (60000,))"
      ]
     },
     "execution_count": 6,
     "metadata": {},
     "output_type": "execute_result"
    }
   ],
   "source": [
    "train_images.shape, train_labels.shape"
   ]
  },
  {
   "cell_type": "code",
   "execution_count": 7,
   "id": "f50dc2bb",
   "metadata": {
    "execution": {
     "iopub.execute_input": "2022-03-11T20:10:47.668919Z",
     "iopub.status.busy": "2022-03-11T20:10:47.668210Z",
     "iopub.status.idle": "2022-03-11T20:10:47.801559Z",
     "shell.execute_reply": "2022-03-11T20:10:47.802128Z"
    },
    "papermill": {
     "duration": 0.170929,
     "end_time": "2022-03-11T20:10:47.802305",
     "exception": false,
     "start_time": "2022-03-11T20:10:47.631376",
     "status": "completed"
    },
    "tags": []
   },
   "outputs": [],
   "source": [
    "test_images = mnist.test_images()\n",
    "test_labels = mnist.test_labels()"
   ]
  },
  {
   "cell_type": "code",
   "execution_count": 8,
   "id": "fc38cf1b",
   "metadata": {
    "execution": {
     "iopub.execute_input": "2022-03-11T20:10:47.875129Z",
     "iopub.status.busy": "2022-03-11T20:10:47.874386Z",
     "iopub.status.idle": "2022-03-11T20:10:47.889706Z",
     "shell.execute_reply": "2022-03-11T20:10:47.890361Z"
    },
    "papermill": {
     "duration": 0.055099,
     "end_time": "2022-03-11T20:10:47.890532",
     "exception": false,
     "start_time": "2022-03-11T20:10:47.835433",
     "status": "completed"
    },
    "tags": []
   },
   "outputs": [
    {
     "data": {
      "text/plain": [
       "((10000, 28, 28), (10000,))"
      ]
     },
     "execution_count": 8,
     "metadata": {},
     "output_type": "execute_result"
    }
   ],
   "source": [
    "test_images.shape, test_labels.shape"
   ]
  },
  {
   "cell_type": "code",
   "execution_count": 9,
   "id": "f9ed8fe0",
   "metadata": {
    "execution": {
     "iopub.execute_input": "2022-03-11T20:10:47.962690Z",
     "iopub.status.busy": "2022-03-11T20:10:47.961947Z",
     "iopub.status.idle": "2022-03-11T20:10:48.151995Z",
     "shell.execute_reply": "2022-03-11T20:10:48.152532Z"
    },
    "papermill": {
     "duration": 0.229966,
     "end_time": "2022-03-11T20:10:48.152762",
     "exception": false,
     "start_time": "2022-03-11T20:10:47.922796",
     "status": "completed"
    },
    "tags": []
   },
   "outputs": [
    {
     "name": "stdout",
     "output_type": "stream",
     "text": [
      "2\n"
     ]
    },
    {
     "data": {
      "text/plain": [
       "<matplotlib.image.AxesImage at 0x7f8c4dc6e5c0>"
      ]
     },
     "execution_count": 9,
     "metadata": {},
     "output_type": "execute_result"
    },
    {
     "data": {
      "image/png": "[encoded data removed]",
      "text/plain": [
       "<Figure size 432x288 with 1 Axes>"
      ]
     },
     "metadata": {
      "needs_background": "light"
     },
     "output_type": "display_data"
    }
   ],
   "source": [
    "image_index = 7776 # You may select anything up to 60,000\n",
    "print(train_labels[image_index]) \n",
    "plt.imshow(train_images[image_index], cmap='Greys')"
   ]
  },
  {
   "cell_type": "markdown",
   "id": "a8d2388d",
   "metadata": {
    "papermill": {
     "duration": 0.035609,
     "end_time": "2022-03-11T20:10:48.222027",
     "exception": false,
     "start_time": "2022-03-11T20:10:48.186418",
     "status": "completed"
    },
    "tags": []
   },
   "source": [
    "## Filter data to get 3 and 8 out"
   ]
  },
  {
   "cell_type": "code",
   "execution_count": 10,
   "id": "776f7fc7",
   "metadata": {
    "execution": {
     "iopub.execute_input": "2022-03-11T20:10:48.297431Z",
     "iopub.status.busy": "2022-03-11T20:10:48.296742Z",
     "iopub.status.idle": "2022-03-11T20:10:48.322915Z",
     "shell.execute_reply": "2022-03-11T20:10:48.321267Z"
    },
    "papermill": {
     "duration": 0.066218,
     "end_time": "2022-03-11T20:10:48.323354",
     "exception": false,
     "start_time": "2022-03-11T20:10:48.257136",
     "status": "completed"
    },
    "tags": []
   },
   "outputs": [],
   "source": [
    "train_filter = np.where((train_labels == 3 ) | (train_labels == 8))\n",
    "test_filter = np.where((test_labels == 3) | (test_labels == 8))\n",
    "X_train, y_train = train_images[train_filter], train_labels[train_filter]\n",
    "X_test, y_test = test_images[test_filter], test_labels[test_filter]"
   ]
  },
  {
   "cell_type": "markdown",
   "id": "948f0b7e",
   "metadata": {
    "papermill": {
     "duration": 0.040304,
     "end_time": "2022-03-11T20:10:48.398894",
     "exception": false,
     "start_time": "2022-03-11T20:10:48.358590",
     "status": "completed"
    },
    "tags": []
   },
   "source": [
    "We normalize the pizel values in the 0 to 1 range"
   ]
  },
  {
   "cell_type": "code",
   "execution_count": 11,
   "id": "ee4c2166",
   "metadata": {
    "execution": {
     "iopub.execute_input": "2022-03-11T20:10:48.471221Z",
     "iopub.status.busy": "2022-03-11T20:10:48.470549Z",
     "iopub.status.idle": "2022-03-11T20:10:48.534581Z",
     "shell.execute_reply": "2022-03-11T20:10:48.533985Z"
    },
    "papermill": {
     "duration": 0.10251,
     "end_time": "2022-03-11T20:10:48.534737",
     "exception": false,
     "start_time": "2022-03-11T20:10:48.432227",
     "status": "completed"
    },
    "tags": []
   },
   "outputs": [],
   "source": [
    "X_train = X_train/255.\n",
    "X_test = X_test/255."
   ]
  },
  {
   "cell_type": "markdown",
   "id": "ddcf4fab",
   "metadata": {
    "papermill": {
     "duration": 0.034576,
     "end_time": "2022-03-11T20:10:48.604467",
     "exception": false,
     "start_time": "2022-03-11T20:10:48.569891",
     "status": "completed"
    },
    "tags": []
   },
   "source": [
    "And setup the labels as 1 (when the digit is 3) and 0 (when the digit is 8)"
   ]
  },
  {
   "cell_type": "code",
   "execution_count": 12,
   "id": "7dc908f2",
   "metadata": {
    "execution": {
     "iopub.execute_input": "2022-03-11T20:10:48.682065Z",
     "iopub.status.busy": "2022-03-11T20:10:48.681373Z",
     "iopub.status.idle": "2022-03-11T20:10:48.692157Z",
     "shell.execute_reply": "2022-03-11T20:10:48.691560Z"
    },
    "papermill": {
     "duration": 0.053144,
     "end_time": "2022-03-11T20:10:48.692305",
     "exception": false,
     "start_time": "2022-03-11T20:10:48.639161",
     "status": "completed"
    },
    "tags": []
   },
   "outputs": [],
   "source": [
    "y_train = 1*(y_train==3)\n",
    "y_test = 1*(y_test==3)"
   ]
  },
  {
   "cell_type": "code",
   "execution_count": 13,
   "id": "01e4e969",
   "metadata": {
    "execution": {
     "iopub.execute_input": "2022-03-11T20:10:48.766132Z",
     "iopub.status.busy": "2022-03-11T20:10:48.765467Z",
     "iopub.status.idle": "2022-03-11T20:10:48.783507Z",
     "shell.execute_reply": "2022-03-11T20:10:48.785096Z"
    },
    "papermill": {
     "duration": 0.059023,
     "end_time": "2022-03-11T20:10:48.785544",
     "exception": false,
     "start_time": "2022-03-11T20:10:48.726521",
     "status": "completed"
    },
    "tags": []
   },
   "outputs": [
    {
     "data": {
      "text/plain": [
       "((11982, 28, 28), (1984, 28, 28))"
      ]
     },
     "execution_count": 13,
     "metadata": {},
     "output_type": "execute_result"
    }
   ],
   "source": [
    "X_train.shape, X_test.shape"
   ]
  },
  {
   "cell_type": "markdown",
   "id": "5ccf3f85",
   "metadata": {
    "papermill": {
     "duration": 0.038506,
     "end_time": "2022-03-11T20:10:48.865821",
     "exception": false,
     "start_time": "2022-03-11T20:10:48.827315",
     "status": "completed"
    },
    "tags": []
   },
   "source": [
    "We reshape the data to flatten the image pixels into a set of features or co-variates:"
   ]
  },
  {
   "cell_type": "code",
   "execution_count": 14,
   "id": "5286a4a3",
   "metadata": {
    "execution": {
     "iopub.execute_input": "2022-03-11T20:10:48.941052Z",
     "iopub.status.busy": "2022-03-11T20:10:48.940346Z",
     "iopub.status.idle": "2022-03-11T20:10:48.957151Z",
     "shell.execute_reply": "2022-03-11T20:10:48.956571Z"
    },
    "papermill": {
     "duration": 0.056884,
     "end_time": "2022-03-11T20:10:48.957306",
     "exception": false,
     "start_time": "2022-03-11T20:10:48.900422",
     "status": "completed"
    },
    "tags": []
   },
   "outputs": [
    {
     "data": {
      "text/plain": [
       "((11982, 784), (1984, 784))"
      ]
     },
     "execution_count": 14,
     "metadata": {},
     "output_type": "execute_result"
    }
   ],
   "source": [
    "X_train = X_train.reshape(X_train.shape[0], -1)\n",
    "X_test = X_test.reshape(X_test.shape[0], -1)\n",
    "X_train.shape, X_test.shape"
   ]
  },
  {
   "cell_type": "code",
   "execution_count": 15,
   "id": "73c5f88a",
   "metadata": {
    "execution": {
     "iopub.execute_input": "2022-03-11T20:10:49.041916Z",
     "iopub.status.busy": "2022-03-11T20:10:49.040058Z",
     "iopub.status.idle": "2022-03-11T20:10:49.057597Z",
     "shell.execute_reply": "2022-03-11T20:10:49.057013Z"
    },
    "papermill": {
     "duration": 0.065933,
     "end_time": "2022-03-11T20:10:49.057749",
     "exception": false,
     "start_time": "2022-03-11T20:10:48.991816",
     "status": "completed"
    },
    "tags": []
   },
   "outputs": [],
   "source": [
    "#Impoting functions from 'Kudzu'\n",
    "from kudzu.model import Model\n",
    "from kudzu.train import Learner\n",
    "from kudzu.optim import GD\n",
    "from kudzu.data import Data, Sampler,Dataloader\n",
    "\n",
    "from kudzu.callbacks import AccCallback\n",
    "from kudzu.callbacks import ClfCallback\n",
    "\n",
    "from kudzu.loss import MSE\n",
    "\n",
    "from kudzu.layer import Sigmoid,Relu\n",
    "from kudzu.layer import Affine"
   ]
  },
  {
   "cell_type": "markdown",
   "id": "bc01172a",
   "metadata": {
    "papermill": {
     "duration": 0.034558,
     "end_time": "2022-03-11T20:10:49.127881",
     "exception": false,
     "start_time": "2022-03-11T20:10:49.093323",
     "status": "completed"
    },
    "tags": []
   },
   "source": [
    "### Let us create a `Config` class, to store important parameters. \n",
    "This class essentially plays the role of a dictionary."
   ]
  },
  {
   "cell_type": "code",
   "execution_count": 16,
   "id": "978281aa",
   "metadata": {
    "execution": {
     "iopub.execute_input": "2022-03-11T20:10:49.203502Z",
     "iopub.status.busy": "2022-03-11T20:10:49.202838Z",
     "iopub.status.idle": "2022-03-11T20:10:49.221812Z",
     "shell.execute_reply": "2022-03-11T20:10:49.221222Z"
    },
    "papermill": {
     "duration": 0.059512,
     "end_time": "2022-03-11T20:10:49.221955",
     "exception": false,
     "start_time": "2022-03-11T20:10:49.162443",
     "status": "completed"
    },
    "tags": []
   },
   "outputs": [],
   "source": [
    "class Config:\n",
    "    pass\n",
    "config = Config()\n",
    "config.lr = 0.001\n",
    "config.num_epochs = 250\n",
    "config.bs = 50"
   ]
  },
  {
   "cell_type": "markdown",
   "id": "1385fa59",
   "metadata": {
    "papermill": {
     "duration": 0.034905,
     "end_time": "2022-03-11T20:10:49.291126",
     "exception": false,
     "start_time": "2022-03-11T20:10:49.256221",
     "status": "completed"
    },
    "tags": []
   },
   "source": [
    "### Running Models with the Training data\n",
    "Details about the network layers:\n",
    "- A first affine layer has 784 inputs and does 100 affine transforms. These are followed by a Relu\n",
    "- A second affine layer has 100 inputs from the 100 activations of the past layer, and does 100 affine transforms. These are followed by a Relu\n",
    "- A third affine layer has 100 activations and does 2 affine transformations to create an embedding for visualization. There is no non-linearity here.\n",
    "- A final \"logistic regression\" which has an affine transform from 2 inputs to 1 output, which is squeezed through a sigmoid.\n"
   ]
  },
  {
   "cell_type": "code",
   "execution_count": 17,
   "id": "2b9c66db",
   "metadata": {
    "execution": {
     "iopub.execute_input": "2022-03-11T20:10:49.368093Z",
     "iopub.status.busy": "2022-03-11T20:10:49.367394Z",
     "iopub.status.idle": "2022-03-11T20:10:49.382397Z",
     "shell.execute_reply": "2022-03-11T20:10:49.381801Z"
    },
    "papermill": {
     "duration": 0.056899,
     "end_time": "2022-03-11T20:10:49.382551",
     "exception": false,
     "start_time": "2022-03-11T20:10:49.325652",
     "status": "completed"
    },
    "tags": []
   },
   "outputs": [],
   "source": [
    "data = Data(X_train, y_train.reshape(-1,1))\n",
    "sampler = Sampler(data, config.bs, shuffle=True)\n",
    "\n",
    "dl = Dataloader(data, sampler)\n",
    "\n",
    "opt = GD(config.lr)\n",
    "loss = MSE()"
   ]
  },
  {
   "cell_type": "code",
   "execution_count": 18,
   "id": "b275e4c2",
   "metadata": {
    "execution": {
     "iopub.execute_input": "2022-03-11T20:10:49.456372Z",
     "iopub.status.busy": "2022-03-11T20:10:49.455707Z",
     "iopub.status.idle": "2022-03-11T20:10:49.470438Z",
     "shell.execute_reply": "2022-03-11T20:10:49.471064Z"
    },
    "papermill": {
     "duration": 0.054494,
     "end_time": "2022-03-11T20:10:49.471235",
     "exception": false,
     "start_time": "2022-03-11T20:10:49.416741",
     "status": "completed"
    },
    "tags": []
   },
   "outputs": [],
   "source": [
    "training_data_x = X_train\n",
    "testing_data_x = X_test\n",
    "training_data_y = y_train.reshape(-1,1)\n",
    "testing_data_y = y_test.reshape(-1,1)"
   ]
  },
  {
   "cell_type": "code",
   "execution_count": 19,
   "id": "76951160",
   "metadata": {
    "execution": {
     "iopub.execute_input": "2022-03-11T20:10:49.552904Z",
     "iopub.status.busy": "2022-03-11T20:10:49.552195Z",
     "iopub.status.idle": "2022-03-11T20:10:49.571204Z",
     "shell.execute_reply": "2022-03-11T20:10:49.570415Z"
    },
    "papermill": {
     "duration": 0.061535,
     "end_time": "2022-03-11T20:10:49.571360",
     "exception": false,
     "start_time": "2022-03-11T20:10:49.509825",
     "status": "completed"
    },
    "tags": []
   },
   "outputs": [
    {
     "name": "stdout",
     "output_type": "stream",
     "text": [
      "xavier\n",
      "xavier\n",
      "xavier\n",
      "xavier\n",
      "xavier\n"
     ]
    }
   ],
   "source": [
    "layers = [Affine(\"first\", 784, 100), Relu(\"first\"), Affine(\"second\", 100, 100), Relu(\"second\"), Affine(\"third\", 100, 2), Affine(\"last\", 2, 1), Sigmoid(\"last\")]\n",
    "model_nn = Model(layers)\n",
    "model_lr = Model([Affine(\"logits\", 784, 1), Sigmoid(\"sigmoid\")])"
   ]
  },
  {
   "cell_type": "code",
   "execution_count": 20,
   "id": "6eede77a",
   "metadata": {
    "execution": {
     "iopub.execute_input": "2022-03-11T20:10:49.645979Z",
     "iopub.status.busy": "2022-03-11T20:10:49.645319Z",
     "iopub.status.idle": "2022-03-11T20:10:49.660082Z",
     "shell.execute_reply": "2022-03-11T20:10:49.660678Z"
    },
    "papermill": {
     "duration": 0.054735,
     "end_time": "2022-03-11T20:10:49.660848",
     "exception": false,
     "start_time": "2022-03-11T20:10:49.606113",
     "status": "completed"
    },
    "tags": []
   },
   "outputs": [],
   "source": [
    "nn_learner = Learner(loss, model_nn, opt, config.num_epochs)\n",
    "acc_nn = ClfCallback(nn_learner, config.bs, training_data_x , testing_data_x, training_data_y, testing_data_y)\n",
    "nn_learner.set_callbacks([acc_nn])"
   ]
  },
  {
   "cell_type": "code",
   "execution_count": 21,
   "id": "877b6cc7",
   "metadata": {
    "execution": {
     "iopub.execute_input": "2022-03-11T20:10:49.738923Z",
     "iopub.status.busy": "2022-03-11T20:10:49.738254Z",
     "iopub.status.idle": "2022-03-11T20:10:49.755108Z",
     "shell.execute_reply": "2022-03-11T20:10:49.754249Z"
    },
    "papermill": {
     "duration": 0.059617,
     "end_time": "2022-03-11T20:10:49.755310",
     "exception": false,
     "start_time": "2022-03-11T20:10:49.695693",
     "status": "completed"
    },
    "tags": []
   },
   "outputs": [],
   "source": [
    "lr_learner = Learner(loss, model_lr, opt, config.num_epochs)\n",
    "acc_lr = ClfCallback(lr_learner, config.bs, training_data_x , testing_data_x, training_data_y, testing_data_y)\n",
    "lr_learner.set_callbacks([acc_lr])"
   ]
  },
  {
   "cell_type": "code",
   "execution_count": 22,
   "id": "d9b133c3",
   "metadata": {
    "execution": {
     "iopub.execute_input": "2022-03-11T20:10:49.835872Z",
     "iopub.status.busy": "2022-03-11T20:10:49.834763Z",
     "iopub.status.idle": "2022-03-11T20:13:03.803389Z",
     "shell.execute_reply": "2022-03-11T20:13:03.804261Z"
    },
    "papermill": {
     "duration": 134.01143,
     "end_time": "2022-03-11T20:13:03.804432",
     "exception": false,
     "start_time": "2022-03-11T20:10:49.793002",
     "status": "completed"
    },
    "tags": []
   },
   "outputs": [
    {
     "name": "stdout",
     "output_type": "stream",
     "text": [
      "Epoch 0, Loss 0.2441\n",
      "Training Accuracy: 0.6617, Testing Accuracy: 0.6608\n",
      "\n"
     ]
    },
    {
     "name": "stdout",
     "output_type": "stream",
     "text": [
      "Epoch 10, Loss 0.0975\n",
      "Training Accuracy: 0.9231, Testing Accuracy: 0.9345\n",
      "\n"
     ]
    },
    {
     "name": "stdout",
     "output_type": "stream",
     "text": [
      "Epoch 20, Loss 0.0583\n",
      "Training Accuracy: 0.9412, Testing Accuracy: 0.9511\n",
      "\n"
     ]
    },
    {
     "name": "stdout",
     "output_type": "stream",
     "text": [
      "Epoch 30, Loss 0.0456\n",
      "Training Accuracy: 0.9513, Testing Accuracy: 0.9582\n",
      "\n"
     ]
    },
    {
     "name": "stdout",
     "output_type": "stream",
     "text": [
      "Epoch 40, Loss 0.0392\n",
      "Training Accuracy: 0.9570, Testing Accuracy: 0.9637\n",
      "\n"
     ]
    },
    {
     "name": "stdout",
     "output_type": "stream",
     "text": [
      "Epoch 50, Loss 0.0354\n",
      "Training Accuracy: 0.9598, Testing Accuracy: 0.9642\n",
      "\n"
     ]
    },
    {
     "name": "stdout",
     "output_type": "stream",
     "text": [
      "Epoch 60, Loss 0.0327\n",
      "Training Accuracy: 0.9625, Testing Accuracy: 0.9672\n",
      "\n"
     ]
    },
    {
     "name": "stdout",
     "output_type": "stream",
     "text": [
      "Epoch 70, Loss 0.0306\n",
      "Training Accuracy: 0.9649, Testing Accuracy: 0.9698\n",
      "\n"
     ]
    },
    {
     "name": "stdout",
     "output_type": "stream",
     "text": [
      "Epoch 80, Loss 0.029\n",
      "Training Accuracy: 0.9664, Testing Accuracy: 0.9708\n",
      "\n"
     ]
    },
    {
     "name": "stdout",
     "output_type": "stream",
     "text": [
      "Epoch 90, Loss 0.0277\n",
      "Training Accuracy: 0.9677, Testing Accuracy: 0.9708\n",
      "\n"
     ]
    },
    {
     "name": "stdout",
     "output_type": "stream",
     "text": [
      "Epoch 100, Loss 0.0266\n",
      "Training Accuracy: 0.9689, Testing Accuracy: 0.9713\n",
      "\n"
     ]
    },
    {
     "name": "stdout",
     "output_type": "stream",
     "text": [
      "Epoch 110, Loss 0.0256\n",
      "Training Accuracy: 0.9699, Testing Accuracy: 0.9698\n",
      "\n"
     ]
    },
    {
     "name": "stdout",
     "output_type": "stream",
     "text": [
      "Epoch 120, Loss 0.0247\n",
      "Training Accuracy: 0.9708, Testing Accuracy: 0.9708\n",
      "\n"
     ]
    },
    {
     "name": "stdout",
     "output_type": "stream",
     "text": [
      "Epoch 130, Loss 0.024\n",
      "Training Accuracy: 0.9715, Testing Accuracy: 0.9713\n",
      "\n"
     ]
    },
    {
     "name": "stdout",
     "output_type": "stream",
     "text": [
      "Epoch 140, Loss 0.0233\n",
      "Training Accuracy: 0.9720, Testing Accuracy: 0.9698\n",
      "\n"
     ]
    },
    {
     "name": "stdout",
     "output_type": "stream",
     "text": [
      "Epoch 150, Loss 0.0226\n",
      "Training Accuracy: 0.9730, Testing Accuracy: 0.9703\n",
      "\n"
     ]
    },
    {
     "name": "stdout",
     "output_type": "stream",
     "text": [
      "Epoch 160, Loss 0.0221\n",
      "Training Accuracy: 0.9736, Testing Accuracy: 0.9708\n",
      "\n"
     ]
    },
    {
     "name": "stdout",
     "output_type": "stream",
     "text": [
      "Epoch 170, Loss 0.0215\n",
      "Training Accuracy: 0.9745, Testing Accuracy: 0.9708\n",
      "\n"
     ]
    },
    {
     "name": "stdout",
     "output_type": "stream",
     "text": [
      "Epoch 180, Loss 0.021\n",
      "Training Accuracy: 0.9749, Testing Accuracy: 0.9708\n",
      "\n"
     ]
    },
    {
     "name": "stdout",
     "output_type": "stream",
     "text": [
      "Epoch 190, Loss 0.0205\n",
      "Training Accuracy: 0.9758, Testing Accuracy: 0.9708\n",
      "\n"
     ]
    },
    {
     "name": "stdout",
     "output_type": "stream",
     "text": [
      "Epoch 200, Loss 0.0201\n",
      "Training Accuracy: 0.9763, Testing Accuracy: 0.9708\n",
      "\n"
     ]
    },
    {
     "name": "stdout",
     "output_type": "stream",
     "text": [
      "Epoch 210, Loss 0.0196\n",
      "Training Accuracy: 0.9775, Testing Accuracy: 0.9708\n",
      "\n"
     ]
    },
    {
     "name": "stdout",
     "output_type": "stream",
     "text": [
      "Epoch 220, Loss 0.0193\n",
      "Training Accuracy: 0.9781, Testing Accuracy: 0.9713\n",
      "\n"
     ]
    },
    {
     "name": "stdout",
     "output_type": "stream",
     "text": [
      "Epoch 230, Loss 0.0189\n",
      "Training Accuracy: 0.9787, Testing Accuracy: 0.9723\n",
      "\n"
     ]
    },
    {
     "name": "stdout",
     "output_type": "stream",
     "text": [
      "Epoch 240, Loss 0.0185\n",
      "Training Accuracy: 0.9796, Testing Accuracy: 0.9733\n",
      "\n"
     ]
    },
    {
     "data": {
      "text/plain": [
       "0.028347759716518414"
      ]
     },
     "execution_count": 22,
     "metadata": {},
     "output_type": "execute_result"
    }
   ],
   "source": [
    "nn_learner.train_loop(dl)"
   ]
  },
  {
   "cell_type": "code",
   "execution_count": 23,
   "id": "e0163366",
   "metadata": {
    "execution": {
     "iopub.execute_input": "2022-03-11T20:13:03.907320Z",
     "iopub.status.busy": "2022-03-11T20:13:03.905679Z",
     "iopub.status.idle": "2022-03-11T20:13:23.572398Z",
     "shell.execute_reply": "2022-03-11T20:13:23.573407Z"
    },
    "papermill": {
     "duration": 19.725108,
     "end_time": "2022-03-11T20:13:23.573594",
     "exception": false,
     "start_time": "2022-03-11T20:13:03.848486",
     "status": "completed"
    },
    "tags": []
   },
   "outputs": [
    {
     "name": "stdout",
     "output_type": "stream",
     "text": [
      "Epoch 0, Loss 0.246\n",
      "Training Accuracy: 0.6646, Testing Accuracy: 0.6794\n",
      "\n"
     ]
    },
    {
     "name": "stdout",
     "output_type": "stream",
     "text": [
      "Epoch 10, Loss 0.1076\n",
      "Training Accuracy: 0.8985, Testing Accuracy: 0.9093\n",
      "\n"
     ]
    },
    {
     "name": "stdout",
     "output_type": "stream",
     "text": [
      "Epoch 20, Loss 0.0817\n",
      "Training Accuracy: 0.9257, Testing Accuracy: 0.9325\n",
      "\n"
     ]
    },
    {
     "name": "stdout",
     "output_type": "stream",
     "text": [
      "Epoch 30, Loss 0.0698\n",
      "Training Accuracy: 0.9347, Testing Accuracy: 0.9415\n",
      "\n"
     ]
    },
    {
     "name": "stdout",
     "output_type": "stream",
     "text": [
      "Epoch 40, Loss 0.0627\n",
      "Training Accuracy: 0.9395, Testing Accuracy: 0.9486\n",
      "\n"
     ]
    },
    {
     "name": "stdout",
     "output_type": "stream",
     "text": [
      "Epoch 50, Loss 0.0579\n",
      "Training Accuracy: 0.9435, Testing Accuracy: 0.9546\n",
      "\n"
     ]
    },
    {
     "name": "stdout",
     "output_type": "stream",
     "text": [
      "Epoch 60, Loss 0.0544\n",
      "Training Accuracy: 0.9458, Testing Accuracy: 0.9561\n",
      "\n"
     ]
    },
    {
     "name": "stdout",
     "output_type": "stream",
     "text": [
      "Epoch 70, Loss 0.0518\n",
      "Training Accuracy: 0.9478, Testing Accuracy: 0.9572\n",
      "\n"
     ]
    },
    {
     "name": "stdout",
     "output_type": "stream",
     "text": [
      "Epoch 80, Loss 0.0496\n",
      "Training Accuracy: 0.9498, Testing Accuracy: 0.9577\n",
      "\n"
     ]
    },
    {
     "name": "stdout",
     "output_type": "stream",
     "text": [
      "Epoch 90, Loss 0.0479\n",
      "Training Accuracy: 0.9512, Testing Accuracy: 0.9587\n",
      "\n"
     ]
    },
    {
     "name": "stdout",
     "output_type": "stream",
     "text": [
      "Epoch 100, Loss 0.0464\n",
      "Training Accuracy: 0.9525, Testing Accuracy: 0.9597\n",
      "\n"
     ]
    },
    {
     "name": "stdout",
     "output_type": "stream",
     "text": [
      "Epoch 110, Loss 0.0451\n",
      "Training Accuracy: 0.9536, Testing Accuracy: 0.9612\n",
      "\n"
     ]
    },
    {
     "name": "stdout",
     "output_type": "stream",
     "text": [
      "Epoch 120, Loss 0.044\n",
      "Training Accuracy: 0.9543, Testing Accuracy: 0.9622\n",
      "\n"
     ]
    },
    {
     "name": "stdout",
     "output_type": "stream",
     "text": [
      "Epoch 130, Loss 0.0431\n",
      "Training Accuracy: 0.9550, Testing Accuracy: 0.9632\n",
      "\n"
     ]
    },
    {
     "name": "stdout",
     "output_type": "stream",
     "text": [
      "Epoch 140, Loss 0.0422\n",
      "Training Accuracy: 0.9555, Testing Accuracy: 0.9637\n",
      "\n"
     ]
    },
    {
     "name": "stdout",
     "output_type": "stream",
     "text": [
      "Epoch 150, Loss 0.0414\n",
      "Training Accuracy: 0.9567, Testing Accuracy: 0.9642\n",
      "\n"
     ]
    },
    {
     "name": "stdout",
     "output_type": "stream",
     "text": [
      "Epoch 160, Loss 0.0408\n",
      "Training Accuracy: 0.9570, Testing Accuracy: 0.9647\n",
      "\n"
     ]
    },
    {
     "name": "stdout",
     "output_type": "stream",
     "text": [
      "Epoch 170, Loss 0.0401\n",
      "Training Accuracy: 0.9579, Testing Accuracy: 0.9647\n",
      "\n"
     ]
    },
    {
     "name": "stdout",
     "output_type": "stream",
     "text": [
      "Epoch 180, Loss 0.0395\n",
      "Training Accuracy: 0.9584, Testing Accuracy: 0.9647\n",
      "\n"
     ]
    },
    {
     "name": "stdout",
     "output_type": "stream",
     "text": [
      "Epoch 190, Loss 0.039\n",
      "Training Accuracy: 0.9586, Testing Accuracy: 0.9652\n",
      "\n"
     ]
    },
    {
     "name": "stdout",
     "output_type": "stream",
     "text": [
      "Epoch 200, Loss 0.0385\n",
      "Training Accuracy: 0.9593, Testing Accuracy: 0.9657\n",
      "\n"
     ]
    },
    {
     "name": "stdout",
     "output_type": "stream",
     "text": [
      "Epoch 210, Loss 0.0381\n",
      "Training Accuracy: 0.9600, Testing Accuracy: 0.9657\n",
      "\n"
     ]
    },
    {
     "name": "stdout",
     "output_type": "stream",
     "text": [
      "Epoch 220, Loss 0.0377\n",
      "Training Accuracy: 0.9603, Testing Accuracy: 0.9657\n",
      "\n"
     ]
    },
    {
     "name": "stdout",
     "output_type": "stream",
     "text": [
      "Epoch 230, Loss 0.0373\n",
      "Training Accuracy: 0.9606, Testing Accuracy: 0.9662\n",
      "\n"
     ]
    },
    {
     "name": "stdout",
     "output_type": "stream",
     "text": [
      "Epoch 240, Loss 0.0369\n",
      "Training Accuracy: 0.9609, Testing Accuracy: 0.9657\n",
      "\n"
     ]
    },
    {
     "data": {
      "text/plain": [
       "0.02994804167471938"
      ]
     },
     "execution_count": 23,
     "metadata": {},
     "output_type": "execute_result"
    }
   ],
   "source": [
    "lr_learner.train_loop(dl)"
   ]
  },
  {
   "cell_type": "code",
   "execution_count": 24,
   "id": "ca410940",
   "metadata": {
    "execution": {
     "iopub.execute_input": "2022-03-11T20:13:23.686987Z",
     "iopub.status.busy": "2022-03-11T20:13:23.686290Z",
     "iopub.status.idle": "2022-03-11T20:13:24.003621Z",
     "shell.execute_reply": "2022-03-11T20:13:24.004136Z"
    },
    "papermill": {
     "duration": 0.377009,
     "end_time": "2022-03-11T20:13:24.004310",
     "exception": false,
     "start_time": "2022-03-11T20:13:23.627301",
     "status": "completed"
    },
    "tags": []
   },
   "outputs": [
    {
     "data": {
      "text/plain": [
       "<matplotlib.legend.Legend at 0x7f8c4d84ad30>"
      ]
     },
     "execution_count": 24,
     "metadata": {},
     "output_type": "execute_result"
    },
    {
     "data": {
      "image/png": "[encoded data removed]",
      "text/plain": [
       "<Figure size 1080x720 with 1 Axes>"
      ]
     },
     "metadata": {
      "needs_background": "light"
     },
     "output_type": "display_data"
    }
   ],
   "source": [
    "#comparing the results of NN and LR\n",
    "plt.figure(figsize=(15,10))\n",
    "\n",
    "# Neural Network plots\n",
    "plt.plot(acc_nn.accuracies, 'r-', label = \"Training Accuracies - NN\")\n",
    "plt.plot(acc_nn.test_accuracies, 'g-', label = \"Testing Accuracies - NN\")\n",
    "\n",
    "# Logistic Regression plots\n",
    "plt.plot(acc_lr.accuracies, 'k-', label = \"Training Accuracies - LR\")\n",
    "plt.plot(acc_lr.test_accuracies, 'b-', label = \"Testing Accuracies - LR\")\n",
    "plt.legend()"
   ]
  },
  {
   "cell_type": "markdown",
   "id": "80dfb35c",
   "metadata": {
    "papermill": {
     "duration": 0.054937,
     "end_time": "2022-03-11T20:13:24.113770",
     "exception": false,
     "start_time": "2022-03-11T20:13:24.058833",
     "status": "completed"
    },
    "tags": []
   },
   "source": [
    "#### Plotting the outputs of this layer of the NN.\n"
   ]
  },
  {
   "cell_type": "code",
   "execution_count": 25,
   "id": "45eb2ff5",
   "metadata": {
    "execution": {
     "iopub.execute_input": "2022-03-11T20:13:24.237077Z",
     "iopub.status.busy": "2022-03-11T20:13:24.236347Z",
     "iopub.status.idle": "2022-03-11T20:13:24.265510Z",
     "shell.execute_reply": "2022-03-11T20:13:24.266298Z"
    },
    "papermill": {
     "duration": 0.094504,
     "end_time": "2022-03-11T20:13:24.266501",
     "exception": false,
     "start_time": "2022-03-11T20:13:24.171997",
     "status": "completed"
    },
    "tags": []
   },
   "outputs": [],
   "source": [
    "new_model = Model(layers[:-2])\n",
    "testing_plot = new_model(testing_data_x)"
   ]
  },
  {
   "cell_type": "code",
   "execution_count": 26,
   "id": "4c0a5485",
   "metadata": {
    "execution": {
     "iopub.execute_input": "2022-03-11T20:13:24.382214Z",
     "iopub.status.busy": "2022-03-11T20:13:24.381521Z",
     "iopub.status.idle": "2022-03-11T20:13:24.647416Z",
     "shell.execute_reply": "2022-03-11T20:13:24.648078Z"
    },
    "papermill": {
     "duration": 0.326853,
     "end_time": "2022-03-11T20:13:24.648260",
     "exception": false,
     "start_time": "2022-03-11T20:13:24.321407",
     "status": "completed"
    },
    "tags": []
   },
   "outputs": [
    {
     "data": {
      "text/plain": [
       "Text(0.5, 1.0, 'Outputs')"
      ]
     },
     "execution_count": 26,
     "metadata": {},
     "output_type": "execute_result"
    },
    {
     "data": {
      "image/png": "[encoded data removed]",
      "text/plain": [
       "<Figure size 576x504 with 1 Axes>"
      ]
     },
     "metadata": {
      "needs_background": "light"
     },
     "output_type": "display_data"
    }
   ],
   "source": [
    "# Plotting the scatter plot of points and color coding by class\n",
    "plt.figure(figsize=(8,7))\n",
    "plt.scatter(testing_plot[:,0], testing_plot[:,1], alpha = 0.1, c = y_test.ravel());\n",
    "plt.title('Outputs')"
   ]
  },
  {
   "cell_type": "markdown",
   "id": "a74fcf8f",
   "metadata": {
    "papermill": {
     "duration": 0.056067,
     "end_time": "2022-03-11T20:13:24.761066",
     "exception": false,
     "start_time": "2022-03-11T20:13:24.704999",
     "status": "completed"
    },
    "tags": []
   },
   "source": [
    "Probability contours"
   ]
  },
  {
   "cell_type": "code",
   "execution_count": 27,
   "id": "d0afc8e3",
   "metadata": {
    "execution": {
     "iopub.execute_input": "2022-03-11T20:13:24.888334Z",
     "iopub.status.busy": "2022-03-11T20:13:24.887662Z",
     "iopub.status.idle": "2022-03-11T20:13:24.901230Z",
     "shell.execute_reply": "2022-03-11T20:13:24.901794Z"
    },
    "papermill": {
     "duration": 0.083491,
     "end_time": "2022-03-11T20:13:24.901959",
     "exception": false,
     "start_time": "2022-03-11T20:13:24.818468",
     "status": "completed"
    },
    "tags": []
   },
   "outputs": [],
   "source": [
    "model_prob = Model(layers[-2:]) "
   ]
  },
  {
   "cell_type": "code",
   "execution_count": 28,
   "id": "9b96e238",
   "metadata": {
    "execution": {
     "iopub.execute_input": "2022-03-11T20:13:25.049661Z",
     "iopub.status.busy": "2022-03-11T20:13:25.048987Z",
     "iopub.status.idle": "2022-03-11T20:13:25.064710Z",
     "shell.execute_reply": "2022-03-11T20:13:25.065258Z"
    },
    "papermill": {
     "duration": 0.079634,
     "end_time": "2022-03-11T20:13:25.065426",
     "exception": false,
     "start_time": "2022-03-11T20:13:24.985792",
     "status": "completed"
    },
    "tags": []
   },
   "outputs": [],
   "source": [
    "#creating the x and y ranges according to the above generated plot.\n",
    "x_range = np.linspace(-4, 1, 100) \n",
    "y_range = np.linspace(-6, 6, 100) \n",
    "x_grid, y_grid = np.meshgrid(x_range, y_range) # x_grid and y_grig are of size 100 X 100\n",
    "\n",
    "# converting x_grid and y_grid to continuous arrays\n",
    "x_gridflat = np.ravel(x_grid)\n",
    "y_gridflat = np.ravel(y_grid)\n",
    "\n",
    "# The last layer of the current model takes two columns as input. Hence transpose of np.vstack() is required.\n",
    "X = np.vstack((x_gridflat, y_gridflat)).T\n",
    "\n",
    "prob_contour = model_prob(X).reshape(100,100) "
   ]
  },
  {
   "cell_type": "code",
   "execution_count": 29,
   "id": "da72499a",
   "metadata": {
    "execution": {
     "iopub.execute_input": "2022-03-11T20:13:25.195218Z",
     "iopub.status.busy": "2022-03-11T20:13:25.194525Z",
     "iopub.status.idle": "2022-03-11T20:13:25.511764Z",
     "shell.execute_reply": "2022-03-11T20:13:25.512311Z"
    },
    "papermill": {
     "duration": 0.391191,
     "end_time": "2022-03-11T20:13:25.512486",
     "exception": false,
     "start_time": "2022-03-11T20:13:25.121295",
     "status": "completed"
    },
    "tags": []
   },
   "outputs": [
    {
     "data": {
      "image/png": "[encoded data removed]",
      "text/plain": [
       "<Figure size 720x648 with 1 Axes>"
      ]
     },
     "metadata": {
      "needs_background": "light"
     },
     "output_type": "display_data"
    }
   ],
   "source": [
    "plt.figure(figsize=(10,9))\n",
    "plt.scatter(testing_plot[:,0], testing_plot[:,1], alpha = 0.1, c = y_test.ravel())\n",
    "contours = plt.contour(x_grid,y_grid,prob_contour)\n",
    "plt.title('Probability Contours')\n",
    "plt.clabel(contours, inline = True );"
   ]
  },
  {
   "cell_type": "code",
   "execution_count": null,
   "id": "e81b4ac7",
   "metadata": {
    "papermill": {
     "duration": 0.063615,
     "end_time": "2022-03-11T20:13:25.635468",
     "exception": false,
     "start_time": "2022-03-11T20:13:25.571853",
     "status": "completed"
    },
    "tags": []
   },
   "outputs": [],
   "source": []
  }
 ],
 "metadata": {
  "kernelspec": {
   "display_name": "Python 3",
   "language": "python",
   "name": "python3"
  },
  "language_info": {
   "codemirror_mode": {
    "name": "ipython",
    "version": 3
   },
   "file_extension": ".py",
   "mimetype": "text/x-python",
   "name": "python",
   "nbconvert_exporter": "python",
   "pygments_lexer": "ipython3",
   "version": "3.6.15"
  },
  "papermill": {
   "default_parameters": {},
   "duration": 164.229872,
   "end_time": "2022-03-11T20:13:26.116800",
   "environment_variables": {},
   "exception": null,
   "input_path": "2020-08-11-part2.ipynb",
   "output_path": "2020-08-11-part2.ipynb",
   "parameters": {},
   "start_time": "2022-03-11T20:10:41.886928",
   "version": "2.3.3"
  }
 },
 "nbformat": 4,
 "nbformat_minor": 5
}