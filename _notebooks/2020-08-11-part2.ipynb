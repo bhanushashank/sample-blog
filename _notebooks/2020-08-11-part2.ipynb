{
 "cells": [
  {
   "cell_type": "markdown",
   "id": "98380cd3",
   "metadata": {
    "papermill": {
     "duration": 0.032795,
     "end_time": "2022-11-16T20:10:27.425570",
     "exception": false,
     "start_time": "2022-11-16T20:10:27.392775",
     "status": "completed"
    },
    "tags": []
   },
   "source": [
    "# Distinguish Your Own Digits (DYOD)"
   ]
  },
  {
   "cell_type": "markdown",
   "id": "ef31240d",
   "metadata": {
    "papermill": {
     "duration": 0.024103,
     "end_time": "2022-11-16T20:10:27.474346",
     "exception": false,
     "start_time": "2022-11-16T20:10:27.450243",
     "status": "completed"
    },
    "tags": []
   },
   "source": [
    "You are going to write a classifier that distinguishes between the number 3 and number 8."
   ]
  },
  {
   "cell_type": "code",
   "execution_count": 1,
   "id": "b15c8646",
   "metadata": {
    "execution": {
     "iopub.execute_input": "2022-11-16T20:10:27.532168Z",
     "iopub.status.busy": "2022-11-16T20:10:27.531605Z",
     "iopub.status.idle": "2022-11-16T20:10:27.542054Z",
     "shell.execute_reply": "2022-11-16T20:10:27.541613Z"
    },
    "papermill": {
     "duration": 0.043963,
     "end_time": "2022-11-16T20:10:27.542170",
     "exception": false,
     "start_time": "2022-11-16T20:10:27.498207",
     "status": "completed"
    },
    "tags": []
   },
   "outputs": [],
   "source": [
    "%load_ext autoreload\n",
    "%autoreload 2"
   ]
  },
  {
   "cell_type": "code",
   "execution_count": 2,
   "id": "22ef38dc",
   "metadata": {
    "execution": {
     "iopub.execute_input": "2022-11-16T20:10:27.593796Z",
     "iopub.status.busy": "2022-11-16T20:10:27.593230Z",
     "iopub.status.idle": "2022-11-16T20:10:28.114024Z",
     "shell.execute_reply": "2022-11-16T20:10:28.113505Z"
    },
    "papermill": {
     "duration": 0.547974,
     "end_time": "2022-11-16T20:10:28.114137",
     "exception": false,
     "start_time": "2022-11-16T20:10:27.566163",
     "status": "completed"
    },
    "tags": []
   },
   "outputs": [],
   "source": [
    "%matplotlib inline\n",
    "import numpy as np\n",
    "import matplotlib.pyplot as plt\n",
    "import pandas as pd"
   ]
  },
  {
   "cell_type": "markdown",
   "id": "ba036198",
   "metadata": {
    "papermill": {
     "duration": 0.024217,
     "end_time": "2022-11-16T20:10:28.162569",
     "exception": false,
     "start_time": "2022-11-16T20:10:28.138352",
     "status": "completed"
    },
    "tags": []
   },
   "source": [
    "From the command line run `pip install mnist`. This is a library that will help you bring down the mnist dataset. If you run this from a notebook, you need to put  `!pip install mnist` in a cell by itself."
   ]
  },
  {
   "cell_type": "code",
   "execution_count": 3,
   "id": "bb6ad8a1",
   "metadata": {
    "execution": {
     "iopub.execute_input": "2022-11-16T20:10:28.214986Z",
     "iopub.status.busy": "2022-11-16T20:10:28.214427Z",
     "iopub.status.idle": "2022-11-16T20:10:29.800416Z",
     "shell.execute_reply": "2022-11-16T20:10:29.799911Z"
    },
    "papermill": {
     "duration": 1.613783,
     "end_time": "2022-11-16T20:10:29.800536",
     "exception": false,
     "start_time": "2022-11-16T20:10:28.186753",
     "status": "completed"
    },
    "tags": []
   },
   "outputs": [
    {
     "name": "stdout",
     "output_type": "stream",
     "text": [
      "Collecting mnist\r\n"
     ]
    },
    {
     "name": "stdout",
     "output_type": "stream",
     "text": [
      "  Downloading mnist-0.2.2-py2.py3-none-any.whl (3.5 kB)\r\n",
      "Requirement already satisfied: numpy in /opt/hostedtoolcache/Python/3.6.15/x64/lib/python3.6/site-packages (from mnist) (1.19.5)\r\n"
     ]
    },
    {
     "name": "stdout",
     "output_type": "stream",
     "text": [
      "Installing collected packages: mnist\r\n",
      "Successfully installed mnist-0.2.2\r\n"
     ]
    }
   ],
   "source": [
    "!pip install mnist"
   ]
  },
  {
   "cell_type": "markdown",
   "id": "69df9c9a",
   "metadata": {
    "papermill": {
     "duration": 0.02532,
     "end_time": "2022-11-16T20:10:29.850950",
     "exception": false,
     "start_time": "2022-11-16T20:10:29.825630",
     "status": "completed"
    },
    "tags": []
   },
   "source": [
    "## Preparing the Data"
   ]
  },
  {
   "cell_type": "code",
   "execution_count": 4,
   "id": "7f69d806",
   "metadata": {
    "execution": {
     "iopub.execute_input": "2022-11-16T20:10:29.904317Z",
     "iopub.status.busy": "2022-11-16T20:10:29.903735Z",
     "iopub.status.idle": "2022-11-16T20:10:29.917990Z",
     "shell.execute_reply": "2022-11-16T20:10:29.917536Z"
    },
    "papermill": {
     "duration": 0.042468,
     "end_time": "2022-11-16T20:10:29.918093",
     "exception": false,
     "start_time": "2022-11-16T20:10:29.875625",
     "status": "completed"
    },
    "tags": []
   },
   "outputs": [],
   "source": [
    "import mnist"
   ]
  },
  {
   "cell_type": "code",
   "execution_count": 5,
   "id": "a411e44f",
   "metadata": {
    "execution": {
     "iopub.execute_input": "2022-11-16T20:10:29.971452Z",
     "iopub.status.busy": "2022-11-16T20:10:29.970915Z",
     "iopub.status.idle": "2022-11-16T20:10:31.060059Z",
     "shell.execute_reply": "2022-11-16T20:10:31.059114Z"
    },
    "papermill": {
     "duration": 1.11674,
     "end_time": "2022-11-16T20:10:31.060185",
     "exception": false,
     "start_time": "2022-11-16T20:10:29.943445",
     "status": "completed"
    },
    "tags": []
   },
   "outputs": [],
   "source": [
    "train_images = mnist.train_images()\n",
    "train_labels = mnist.train_labels()"
   ]
  },
  {
   "cell_type": "code",
   "execution_count": 6,
   "id": "dceab3a5",
   "metadata": {
    "execution": {
     "iopub.execute_input": "2022-11-16T20:10:31.117203Z",
     "iopub.status.busy": "2022-11-16T20:10:31.113572Z",
     "iopub.status.idle": "2022-11-16T20:10:31.127575Z",
     "shell.execute_reply": "2022-11-16T20:10:31.127120Z"
    },
    "papermill": {
     "duration": 0.042289,
     "end_time": "2022-11-16T20:10:31.127676",
     "exception": false,
     "start_time": "2022-11-16T20:10:31.085387",
     "status": "completed"
    },
    "tags": []
   },
   "outputs": [
    {
     "data": {
      "text/plain": [
       "((60000, 28, 28), (60000,))"
      ]
     },
     "execution_count": 6,
     "metadata": {},
     "output_type": "execute_result"
    }
   ],
   "source": [
    "train_images.shape, train_labels.shape"
   ]
  },
  {
   "cell_type": "code",
   "execution_count": 7,
   "id": "f50dc2bb",
   "metadata": {
    "execution": {
     "iopub.execute_input": "2022-11-16T20:10:31.181458Z",
     "iopub.status.busy": "2022-11-16T20:10:31.180911Z",
     "iopub.status.idle": "2022-11-16T20:10:31.508718Z",
     "shell.execute_reply": "2022-11-16T20:10:31.508195Z"
    },
    "papermill": {
     "duration": 0.356067,
     "end_time": "2022-11-16T20:10:31.508828",
     "exception": false,
     "start_time": "2022-11-16T20:10:31.152761",
     "status": "completed"
    },
    "tags": []
   },
   "outputs": [],
   "source": [
    "test_images = mnist.test_images()\n",
    "test_labels = mnist.test_labels()"
   ]
  },
  {
   "cell_type": "code",
   "execution_count": 8,
   "id": "fc38cf1b",
   "metadata": {
    "execution": {
     "iopub.execute_input": "2022-11-16T20:10:31.567010Z",
     "iopub.status.busy": "2022-11-16T20:10:31.566456Z",
     "iopub.status.idle": "2022-11-16T20:10:31.578931Z",
     "shell.execute_reply": "2022-11-16T20:10:31.578394Z"
    },
    "papermill": {
     "duration": 0.040603,
     "end_time": "2022-11-16T20:10:31.579034",
     "exception": false,
     "start_time": "2022-11-16T20:10:31.538431",
     "status": "completed"
    },
    "tags": []
   },
   "outputs": [
    {
     "data": {
      "text/plain": [
       "((10000, 28, 28), (10000,))"
      ]
     },
     "execution_count": 8,
     "metadata": {},
     "output_type": "execute_result"
    }
   ],
   "source": [
    "test_images.shape, test_labels.shape"
   ]
  },
  {
   "cell_type": "code",
   "execution_count": 9,
   "id": "f9ed8fe0",
   "metadata": {
    "execution": {
     "iopub.execute_input": "2022-11-16T20:10:31.637538Z",
     "iopub.status.busy": "2022-11-16T20:10:31.636988Z",
     "iopub.status.idle": "2022-11-16T20:10:31.770437Z",
     "shell.execute_reply": "2022-11-16T20:10:31.769989Z"
    },
    "papermill": {
     "duration": 0.166171,
     "end_time": "2022-11-16T20:10:31.770548",
     "exception": false,
     "start_time": "2022-11-16T20:10:31.604377",
     "status": "completed"
    },
    "tags": []
   },
   "outputs": [
    {
     "name": "stdout",
     "output_type": "stream",
     "text": [
      "2\n"
     ]
    },
    {
     "data": {
      "text/plain": [
       "<matplotlib.image.AxesImage at 0x7ffb3d84cda0>"
      ]
     },
     "execution_count": 9,
     "metadata": {},
     "output_type": "execute_result"
    },
    {
     "data": {
      "image/png": "[encoded data removed]",
      "text/plain": [
       "<Figure size 432x288 with 1 Axes>"
      ]
     },
     "metadata": {
      "needs_background": "light"
     },
     "output_type": "display_data"
    }
   ],
   "source": [
    "image_index = 7776 # You may select anything up to 60,000\n",
    "print(train_labels[image_index]) \n",
    "plt.imshow(train_images[image_index], cmap='Greys')"
   ]
  },
  {
   "cell_type": "markdown",
   "id": "a8d2388d",
   "metadata": {
    "papermill": {
     "duration": 0.026828,
     "end_time": "2022-11-16T20:10:31.824399",
     "exception": false,
     "start_time": "2022-11-16T20:10:31.797571",
     "status": "completed"
    },
    "tags": []
   },
   "source": [
    "## Filter data to get 3 and 8 out"
   ]
  },
  {
   "cell_type": "code",
   "execution_count": 10,
   "id": "776f7fc7",
   "metadata": {
    "execution": {
     "iopub.execute_input": "2022-11-16T20:10:31.881922Z",
     "iopub.status.busy": "2022-11-16T20:10:31.881360Z",
     "iopub.status.idle": "2022-11-16T20:10:31.898796Z",
     "shell.execute_reply": "2022-11-16T20:10:31.898253Z"
    },
    "papermill": {
     "duration": 0.047751,
     "end_time": "2022-11-16T20:10:31.898902",
     "exception": false,
     "start_time": "2022-11-16T20:10:31.851151",
     "status": "completed"
    },
    "tags": []
   },
   "outputs": [],
   "source": [
    "train_filter = np.where((train_labels == 3 ) | (train_labels == 8))\n",
    "test_filter = np.where((test_labels == 3) | (test_labels == 8))\n",
    "X_train, y_train = train_images[train_filter], train_labels[train_filter]\n",
    "X_test, y_test = test_images[test_filter], test_labels[test_filter]"
   ]
  },
  {
   "cell_type": "markdown",
   "id": "948f0b7e",
   "metadata": {
    "papermill": {
     "duration": 0.026372,
     "end_time": "2022-11-16T20:10:31.952009",
     "exception": false,
     "start_time": "2022-11-16T20:10:31.925637",
     "status": "completed"
    },
    "tags": []
   },
   "source": [
    "We normalize the pizel values in the 0 to 1 range"
   ]
  },
  {
   "cell_type": "code",
   "execution_count": 11,
   "id": "ee4c2166",
   "metadata": {
    "execution": {
     "iopub.execute_input": "2022-11-16T20:10:32.008219Z",
     "iopub.status.busy": "2022-11-16T20:10:32.007672Z",
     "iopub.status.idle": "2022-11-16T20:10:32.048365Z",
     "shell.execute_reply": "2022-11-16T20:10:32.047868Z"
    },
    "papermill": {
     "duration": 0.07008,
     "end_time": "2022-11-16T20:10:32.048483",
     "exception": false,
     "start_time": "2022-11-16T20:10:31.978403",
     "status": "completed"
    },
    "tags": []
   },
   "outputs": [],
   "source": [
    "X_train = X_train/255.\n",
    "X_test = X_test/255."
   ]
  },
  {
   "cell_type": "markdown",
   "id": "ddcf4fab",
   "metadata": {
    "papermill": {
     "duration": 0.026543,
     "end_time": "2022-11-16T20:10:32.101854",
     "exception": false,
     "start_time": "2022-11-16T20:10:32.075311",
     "status": "completed"
    },
    "tags": []
   },
   "source": [
    "And setup the labels as 1 (when the digit is 3) and 0 (when the digit is 8)"
   ]
  },
  {
   "cell_type": "code",
   "execution_count": 12,
   "id": "7dc908f2",
   "metadata": {
    "execution": {
     "iopub.execute_input": "2022-11-16T20:10:32.162935Z",
     "iopub.status.busy": "2022-11-16T20:10:32.162385Z",
     "iopub.status.idle": "2022-11-16T20:10:32.173525Z",
     "shell.execute_reply": "2022-11-16T20:10:32.173084Z"
    },
    "papermill": {
     "duration": 0.041057,
     "end_time": "2022-11-16T20:10:32.173626",
     "exception": false,
     "start_time": "2022-11-16T20:10:32.132569",
     "status": "completed"
    },
    "tags": []
   },
   "outputs": [],
   "source": [
    "y_train = 1*(y_train==3)\n",
    "y_test = 1*(y_test==3)"
   ]
  },
  {
   "cell_type": "code",
   "execution_count": 13,
   "id": "01e4e969",
   "metadata": {
    "execution": {
     "iopub.execute_input": "2022-11-16T20:10:32.233897Z",
     "iopub.status.busy": "2022-11-16T20:10:32.233343Z",
     "iopub.status.idle": "2022-11-16T20:10:32.246308Z",
     "shell.execute_reply": "2022-11-16T20:10:32.245777Z"
    },
    "papermill": {
     "duration": 0.046253,
     "end_time": "2022-11-16T20:10:32.246406",
     "exception": false,
     "start_time": "2022-11-16T20:10:32.200153",
     "status": "completed"
    },
    "tags": []
   },
   "outputs": [
    {
     "data": {
      "text/plain": [
       "((11982, 28, 28), (1984, 28, 28))"
      ]
     },
     "execution_count": 13,
     "metadata": {},
     "output_type": "execute_result"
    }
   ],
   "source": [
    "X_train.shape, X_test.shape"
   ]
  },
  {
   "cell_type": "markdown",
   "id": "5ccf3f85",
   "metadata": {
    "papermill": {
     "duration": 0.026618,
     "end_time": "2022-11-16T20:10:32.299589",
     "exception": false,
     "start_time": "2022-11-16T20:10:32.272971",
     "status": "completed"
    },
    "tags": []
   },
   "source": [
    "We reshape the data to flatten the image pixels into a set of features or co-variates:"
   ]
  },
  {
   "cell_type": "code",
   "execution_count": 14,
   "id": "5286a4a3",
   "metadata": {
    "execution": {
     "iopub.execute_input": "2022-11-16T20:10:32.371900Z",
     "iopub.status.busy": "2022-11-16T20:10:32.371326Z",
     "iopub.status.idle": "2022-11-16T20:10:32.376456Z",
     "shell.execute_reply": "2022-11-16T20:10:32.377244Z"
    },
    "papermill": {
     "duration": 0.046466,
     "end_time": "2022-11-16T20:10:32.377369",
     "exception": false,
     "start_time": "2022-11-16T20:10:32.330903",
     "status": "completed"
    },
    "tags": []
   },
   "outputs": [
    {
     "data": {
      "text/plain": [
       "((11982, 784), (1984, 784))"
      ]
     },
     "execution_count": 14,
     "metadata": {},
     "output_type": "execute_result"
    }
   ],
   "source": [
    "X_train = X_train.reshape(X_train.shape[0], -1)\n",
    "X_test = X_test.reshape(X_test.shape[0], -1)\n",
    "X_train.shape, X_test.shape"
   ]
  },
  {
   "cell_type": "code",
   "execution_count": 15,
   "id": "73c5f88a",
   "metadata": {
    "execution": {
     "iopub.execute_input": "2022-11-16T20:10:32.435323Z",
     "iopub.status.busy": "2022-11-16T20:10:32.434752Z",
     "iopub.status.idle": "2022-11-16T20:10:32.452673Z",
     "shell.execute_reply": "2022-11-16T20:10:32.452215Z"
    },
    "papermill": {
     "duration": 0.048388,
     "end_time": "2022-11-16T20:10:32.452772",
     "exception": false,
     "start_time": "2022-11-16T20:10:32.404384",
     "status": "completed"
    },
    "tags": []
   },
   "outputs": [],
   "source": [
    "#Impoting functions from 'Kudzu'\n",
    "from kudzu.model import Model\n",
    "from kudzu.train import Learner\n",
    "from kudzu.optim import GD\n",
    "from kudzu.data import Data, Sampler,Dataloader\n",
    "\n",
    "from kudzu.callbacks import AccCallback\n",
    "from kudzu.callbacks import ClfCallback\n",
    "\n",
    "from kudzu.loss import MSE\n",
    "\n",
    "from kudzu.layer import Sigmoid,Relu\n",
    "from kudzu.layer import Affine"
   ]
  },
  {
   "cell_type": "markdown",
   "id": "bc01172a",
   "metadata": {
    "papermill": {
     "duration": 0.027182,
     "end_time": "2022-11-16T20:10:32.507051",
     "exception": false,
     "start_time": "2022-11-16T20:10:32.479869",
     "status": "completed"
    },
    "tags": []
   },
   "source": [
    "### Let us create a `Config` class, to store important parameters. \n",
    "This class essentially plays the role of a dictionary."
   ]
  },
  {
   "cell_type": "code",
   "execution_count": 16,
   "id": "978281aa",
   "metadata": {
    "execution": {
     "iopub.execute_input": "2022-11-16T20:10:32.564822Z",
     "iopub.status.busy": "2022-11-16T20:10:32.564216Z",
     "iopub.status.idle": "2022-11-16T20:10:32.575459Z",
     "shell.execute_reply": "2022-11-16T20:10:32.575976Z"
    },
    "papermill": {
     "duration": 0.042045,
     "end_time": "2022-11-16T20:10:32.576090",
     "exception": false,
     "start_time": "2022-11-16T20:10:32.534045",
     "status": "completed"
    },
    "tags": []
   },
   "outputs": [],
   "source": [
    "class Config:\n",
    "    pass\n",
    "config = Config()\n",
    "config.lr = 0.001\n",
    "config.num_epochs = 250\n",
    "config.bs = 50"
   ]
  },
  {
   "cell_type": "markdown",
   "id": "1385fa59",
   "metadata": {
    "papermill": {
     "duration": 0.027136,
     "end_time": "2022-11-16T20:10:32.630162",
     "exception": false,
     "start_time": "2022-11-16T20:10:32.603026",
     "status": "completed"
    },
    "tags": []
   },
   "source": [
    "### Running Models with the Training data\n",
    "Details about the network layers:\n",
    "- A first affine layer has 784 inputs and does 100 affine transforms. These are followed by a Relu\n",
    "- A second affine layer has 100 inputs from the 100 activations of the past layer, and does 100 affine transforms. These are followed by a Relu\n",
    "- A third affine layer has 100 activations and does 2 affine transformations to create an embedding for visualization. There is no non-linearity here.\n",
    "- A final \"logistic regression\" which has an affine transform from 2 inputs to 1 output, which is squeezed through a sigmoid.\n"
   ]
  },
  {
   "cell_type": "code",
   "execution_count": 17,
   "id": "2b9c66db",
   "metadata": {
    "execution": {
     "iopub.execute_input": "2022-11-16T20:10:32.688495Z",
     "iopub.status.busy": "2022-11-16T20:10:32.687924Z",
     "iopub.status.idle": "2022-11-16T20:10:32.699522Z",
     "shell.execute_reply": "2022-11-16T20:10:32.698975Z"
    },
    "papermill": {
     "duration": 0.042483,
     "end_time": "2022-11-16T20:10:32.699624",
     "exception": false,
     "start_time": "2022-11-16T20:10:32.657141",
     "status": "completed"
    },
    "tags": []
   },
   "outputs": [],
   "source": [
    "data = Data(X_train, y_train.reshape(-1,1))\n",
    "sampler = Sampler(data, config.bs, shuffle=True)\n",
    "\n",
    "dl = Dataloader(data, sampler)\n",
    "\n",
    "opt = GD(config.lr)\n",
    "loss = MSE()"
   ]
  },
  {
   "cell_type": "code",
   "execution_count": 18,
   "id": "b275e4c2",
   "metadata": {
    "execution": {
     "iopub.execute_input": "2022-11-16T20:10:32.758303Z",
     "iopub.status.busy": "2022-11-16T20:10:32.757743Z",
     "iopub.status.idle": "2022-11-16T20:10:32.769553Z",
     "shell.execute_reply": "2022-11-16T20:10:32.769108Z"
    },
    "papermill": {
     "duration": 0.042743,
     "end_time": "2022-11-16T20:10:32.769652",
     "exception": false,
     "start_time": "2022-11-16T20:10:32.726909",
     "status": "completed"
    },
    "tags": []
   },
   "outputs": [],
   "source": [
    "training_data_x = X_train\n",
    "testing_data_x = X_test\n",
    "training_data_y = y_train.reshape(-1,1)\n",
    "testing_data_y = y_test.reshape(-1,1)"
   ]
  },
  {
   "cell_type": "code",
   "execution_count": 19,
   "id": "76951160",
   "metadata": {
    "execution": {
     "iopub.execute_input": "2022-11-16T20:10:32.828383Z",
     "iopub.status.busy": "2022-11-16T20:10:32.827796Z",
     "iopub.status.idle": "2022-11-16T20:10:32.843896Z",
     "shell.execute_reply": "2022-11-16T20:10:32.844344Z"
    },
    "papermill": {
     "duration": 0.047955,
     "end_time": "2022-11-16T20:10:32.844465",
     "exception": false,
     "start_time": "2022-11-16T20:10:32.796510",
     "status": "completed"
    },
    "tags": []
   },
   "outputs": [
    {
     "name": "stdout",
     "output_type": "stream",
     "text": [
      "xavier\n",
      "xavier\n",
      "xavier\n",
      "xavier\n",
      "xavier\n"
     ]
    }
   ],
   "source": [
    "layers = [Affine(\"first\", 784, 100), Relu(\"first\"), Affine(\"second\", 100, 100), Relu(\"second\"), Affine(\"third\", 100, 2), Affine(\"last\", 2, 1), Sigmoid(\"last\")]\n",
    "model_nn = Model(layers)\n",
    "model_lr = Model([Affine(\"logits\", 784, 1), Sigmoid(\"sigmoid\")])"
   ]
  },
  {
   "cell_type": "code",
   "execution_count": 20,
   "id": "6eede77a",
   "metadata": {
    "execution": {
     "iopub.execute_input": "2022-11-16T20:10:32.902573Z",
     "iopub.status.busy": "2022-11-16T20:10:32.902022Z",
     "iopub.status.idle": "2022-11-16T20:10:32.913843Z",
     "shell.execute_reply": "2022-11-16T20:10:32.913304Z"
    },
    "papermill": {
     "duration": 0.042125,
     "end_time": "2022-11-16T20:10:32.913941",
     "exception": false,
     "start_time": "2022-11-16T20:10:32.871816",
     "status": "completed"
    },
    "tags": []
   },
   "outputs": [],
   "source": [
    "nn_learner = Learner(loss, model_nn, opt, config.num_epochs)\n",
    "acc_nn = ClfCallback(nn_learner, config.bs, training_data_x , testing_data_x, training_data_y, testing_data_y)\n",
    "nn_learner.set_callbacks([acc_nn])"
   ]
  },
  {
   "cell_type": "code",
   "execution_count": 21,
   "id": "877b6cc7",
   "metadata": {
    "execution": {
     "iopub.execute_input": "2022-11-16T20:10:32.971591Z",
     "iopub.status.busy": "2022-11-16T20:10:32.971034Z",
     "iopub.status.idle": "2022-11-16T20:10:32.983223Z",
     "shell.execute_reply": "2022-11-16T20:10:32.982690Z"
    },
    "papermill": {
     "duration": 0.042264,
     "end_time": "2022-11-16T20:10:32.983321",
     "exception": false,
     "start_time": "2022-11-16T20:10:32.941057",
     "status": "completed"
    },
    "tags": []
   },
   "outputs": [],
   "source": [
    "lr_learner = Learner(loss, model_lr, opt, config.num_epochs)\n",
    "acc_lr = ClfCallback(lr_learner, config.bs, training_data_x , testing_data_x, training_data_y, testing_data_y)\n",
    "lr_learner.set_callbacks([acc_lr])"
   ]
  },
  {
   "cell_type": "code",
   "execution_count": 22,
   "id": "d9b133c3",
   "metadata": {
    "execution": {
     "iopub.execute_input": "2022-11-16T20:10:33.040974Z",
     "iopub.status.busy": "2022-11-16T20:10:33.040420Z",
     "iopub.status.idle": "2022-11-16T20:13:27.394132Z",
     "shell.execute_reply": "2022-11-16T20:13:27.394581Z"
    },
    "papermill": {
     "duration": 174.384141,
     "end_time": "2022-11-16T20:13:27.394708",
     "exception": false,
     "start_time": "2022-11-16T20:10:33.010567",
     "status": "completed"
    },
    "tags": []
   },
   "outputs": [
    {
     "name": "stdout",
     "output_type": "stream",
     "text": [
      "Epoch 0, Loss 0.2431\n",
      "Training Accuracy: 0.6950, Testing Accuracy: 0.6779\n",
      "\n"
     ]
    },
    {
     "name": "stdout",
     "output_type": "stream",
     "text": [
      "Epoch 10, Loss 0.1277\n",
      "Training Accuracy: 0.8986, Testing Accuracy: 0.9062\n",
      "\n"
     ]
    },
    {
     "name": "stdout",
     "output_type": "stream",
     "text": [
      "Epoch 20, Loss 0.0685\n",
      "Training Accuracy: 0.9290, Testing Accuracy: 0.9375\n",
      "\n"
     ]
    },
    {
     "name": "stdout",
     "output_type": "stream",
     "text": [
      "Epoch 30, Loss 0.0497\n",
      "Training Accuracy: 0.9457, Testing Accuracy: 0.9521\n",
      "\n"
     ]
    },
    {
     "name": "stdout",
     "output_type": "stream",
     "text": [
      "Epoch 40, Loss 0.0413\n",
      "Training Accuracy: 0.9528, Testing Accuracy: 0.9592\n",
      "\n"
     ]
    },
    {
     "name": "stdout",
     "output_type": "stream",
     "text": [
      "Epoch 50, Loss 0.0366\n",
      "Training Accuracy: 0.9574, Testing Accuracy: 0.9632\n",
      "\n"
     ]
    },
    {
     "name": "stdout",
     "output_type": "stream",
     "text": [
      "Epoch 60, Loss 0.0335\n",
      "Training Accuracy: 0.9609, Testing Accuracy: 0.9642\n",
      "\n"
     ]
    },
    {
     "name": "stdout",
     "output_type": "stream",
     "text": [
      "Epoch 70, Loss 0.0313\n",
      "Training Accuracy: 0.9635, Testing Accuracy: 0.9667\n",
      "\n"
     ]
    },
    {
     "name": "stdout",
     "output_type": "stream",
     "text": [
      "Epoch 80, Loss 0.0296\n",
      "Training Accuracy: 0.9654, Testing Accuracy: 0.9672\n",
      "\n"
     ]
    },
    {
     "name": "stdout",
     "output_type": "stream",
     "text": [
      "Epoch 90, Loss 0.0282\n",
      "Training Accuracy: 0.9675, Testing Accuracy: 0.9677\n",
      "\n"
     ]
    },
    {
     "name": "stdout",
     "output_type": "stream",
     "text": [
      "Epoch 100, Loss 0.0271\n",
      "Training Accuracy: 0.9692, Testing Accuracy: 0.9688\n",
      "\n"
     ]
    },
    {
     "name": "stdout",
     "output_type": "stream",
     "text": [
      "Epoch 110, Loss 0.0261\n",
      "Training Accuracy: 0.9700, Testing Accuracy: 0.9703\n",
      "\n"
     ]
    },
    {
     "name": "stdout",
     "output_type": "stream",
     "text": [
      "Epoch 120, Loss 0.0253\n",
      "Training Accuracy: 0.9706, Testing Accuracy: 0.9713\n",
      "\n"
     ]
    },
    {
     "name": "stdout",
     "output_type": "stream",
     "text": [
      "Epoch 130, Loss 0.0245\n",
      "Training Accuracy: 0.9720, Testing Accuracy: 0.9718\n",
      "\n"
     ]
    },
    {
     "name": "stdout",
     "output_type": "stream",
     "text": [
      "Epoch 140, Loss 0.0238\n",
      "Training Accuracy: 0.9730, Testing Accuracy: 0.9708\n",
      "\n"
     ]
    },
    {
     "name": "stdout",
     "output_type": "stream",
     "text": [
      "Epoch 150, Loss 0.0232\n",
      "Training Accuracy: 0.9737, Testing Accuracy: 0.9723\n",
      "\n"
     ]
    },
    {
     "name": "stdout",
     "output_type": "stream",
     "text": [
      "Epoch 160, Loss 0.0227\n",
      "Training Accuracy: 0.9745, Testing Accuracy: 0.9723\n",
      "\n"
     ]
    },
    {
     "name": "stdout",
     "output_type": "stream",
     "text": [
      "Epoch 170, Loss 0.0222\n",
      "Training Accuracy: 0.9750, Testing Accuracy: 0.9723\n",
      "\n"
     ]
    },
    {
     "name": "stdout",
     "output_type": "stream",
     "text": [
      "Epoch 180, Loss 0.0217\n",
      "Training Accuracy: 0.9753, Testing Accuracy: 0.9713\n",
      "\n"
     ]
    },
    {
     "name": "stdout",
     "output_type": "stream",
     "text": [
      "Epoch 190, Loss 0.0212\n",
      "Training Accuracy: 0.9757, Testing Accuracy: 0.9728\n",
      "\n"
     ]
    },
    {
     "name": "stdout",
     "output_type": "stream",
     "text": [
      "Epoch 200, Loss 0.0208\n",
      "Training Accuracy: 0.9767, Testing Accuracy: 0.9733\n",
      "\n"
     ]
    },
    {
     "name": "stdout",
     "output_type": "stream",
     "text": [
      "Epoch 210, Loss 0.0204\n",
      "Training Accuracy: 0.9770, Testing Accuracy: 0.9733\n",
      "\n"
     ]
    },
    {
     "name": "stdout",
     "output_type": "stream",
     "text": [
      "Epoch 220, Loss 0.02\n",
      "Training Accuracy: 0.9777, Testing Accuracy: 0.9738\n",
      "\n"
     ]
    },
    {
     "name": "stdout",
     "output_type": "stream",
     "text": [
      "Epoch 230, Loss 0.0196\n",
      "Training Accuracy: 0.9782, Testing Accuracy: 0.9748\n",
      "\n"
     ]
    },
    {
     "name": "stdout",
     "output_type": "stream",
     "text": [
      "Epoch 240, Loss 0.0193\n",
      "Training Accuracy: 0.9786, Testing Accuracy: 0.9758\n",
      "\n"
     ]
    },
    {
     "data": {
      "text/plain": [
       "0.011359830284117701"
      ]
     },
     "execution_count": 22,
     "metadata": {},
     "output_type": "execute_result"
    }
   ],
   "source": [
    "nn_learner.train_loop(dl)"
   ]
  },
  {
   "cell_type": "code",
   "execution_count": 23,
   "id": "e0163366",
   "metadata": {
    "execution": {
     "iopub.execute_input": "2022-11-16T20:13:27.469394Z",
     "iopub.status.busy": "2022-11-16T20:13:27.467985Z",
     "iopub.status.idle": "2022-11-16T20:13:39.580027Z",
     "shell.execute_reply": "2022-11-16T20:13:39.580565Z"
    },
    "papermill": {
     "duration": 12.151649,
     "end_time": "2022-11-16T20:13:39.580693",
     "exception": false,
     "start_time": "2022-11-16T20:13:27.429044",
     "status": "completed"
    },
    "tags": []
   },
   "outputs": [
    {
     "name": "stdout",
     "output_type": "stream",
     "text": [
      "Epoch 0, Loss 0.2213\n",
      "Training Accuracy: 0.7748, Testing Accuracy: 0.7671\n",
      "\n"
     ]
    },
    {
     "name": "stdout",
     "output_type": "stream",
     "text": [
      "Epoch 10, Loss 0.0983\n",
      "Training Accuracy: 0.9192, Testing Accuracy: 0.9244\n",
      "\n"
     ]
    },
    {
     "name": "stdout",
     "output_type": "stream",
     "text": [
      "Epoch 20, Loss 0.0771\n",
      "Training Accuracy: 0.9295, Testing Accuracy: 0.9410\n",
      "\n"
     ]
    },
    {
     "name": "stdout",
     "output_type": "stream",
     "text": [
      "Epoch 30, Loss 0.0671\n",
      "Training Accuracy: 0.9367, Testing Accuracy: 0.9486\n",
      "\n"
     ]
    },
    {
     "name": "stdout",
     "output_type": "stream",
     "text": [
      "Epoch 40, Loss 0.061\n",
      "Training Accuracy: 0.9414, Testing Accuracy: 0.9516\n",
      "\n"
     ]
    },
    {
     "name": "stdout",
     "output_type": "stream",
     "text": [
      "Epoch 50, Loss 0.0568\n",
      "Training Accuracy: 0.9436, Testing Accuracy: 0.9556\n",
      "\n"
     ]
    },
    {
     "name": "stdout",
     "output_type": "stream",
     "text": [
      "Epoch 60, Loss 0.0536\n",
      "Training Accuracy: 0.9460, Testing Accuracy: 0.9567\n",
      "\n"
     ]
    },
    {
     "name": "stdout",
     "output_type": "stream",
     "text": [
      "Epoch 70, Loss 0.0512\n",
      "Training Accuracy: 0.9473, Testing Accuracy: 0.9592\n",
      "\n"
     ]
    },
    {
     "name": "stdout",
     "output_type": "stream",
     "text": [
      "Epoch 80, Loss 0.0492\n",
      "Training Accuracy: 0.9485, Testing Accuracy: 0.9602\n",
      "\n"
     ]
    },
    {
     "name": "stdout",
     "output_type": "stream",
     "text": [
      "Epoch 90, Loss 0.0476\n",
      "Training Accuracy: 0.9495, Testing Accuracy: 0.9607\n",
      "\n"
     ]
    },
    {
     "name": "stdout",
     "output_type": "stream",
     "text": [
      "Epoch 100, Loss 0.0462\n",
      "Training Accuracy: 0.9504, Testing Accuracy: 0.9622\n",
      "\n"
     ]
    },
    {
     "name": "stdout",
     "output_type": "stream",
     "text": [
      "Epoch 110, Loss 0.045\n",
      "Training Accuracy: 0.9513, Testing Accuracy: 0.9627\n",
      "\n"
     ]
    },
    {
     "name": "stdout",
     "output_type": "stream",
     "text": [
      "Epoch 120, Loss 0.0439\n",
      "Training Accuracy: 0.9528, Testing Accuracy: 0.9642\n",
      "\n"
     ]
    },
    {
     "name": "stdout",
     "output_type": "stream",
     "text": [
      "Epoch 130, Loss 0.043\n",
      "Training Accuracy: 0.9538, Testing Accuracy: 0.9642\n",
      "\n"
     ]
    },
    {
     "name": "stdout",
     "output_type": "stream",
     "text": [
      "Epoch 140, Loss 0.0422\n",
      "Training Accuracy: 0.9545, Testing Accuracy: 0.9652\n",
      "\n"
     ]
    },
    {
     "name": "stdout",
     "output_type": "stream",
     "text": [
      "Epoch 150, Loss 0.0415\n",
      "Training Accuracy: 0.9553, Testing Accuracy: 0.9662\n",
      "\n"
     ]
    },
    {
     "name": "stdout",
     "output_type": "stream",
     "text": [
      "Epoch 160, Loss 0.0408\n",
      "Training Accuracy: 0.9561, Testing Accuracy: 0.9667\n",
      "\n"
     ]
    },
    {
     "name": "stdout",
     "output_type": "stream",
     "text": [
      "Epoch 170, Loss 0.0402\n",
      "Training Accuracy: 0.9567, Testing Accuracy: 0.9667\n",
      "\n"
     ]
    },
    {
     "name": "stdout",
     "output_type": "stream",
     "text": [
      "Epoch 180, Loss 0.0396\n",
      "Training Accuracy: 0.9571, Testing Accuracy: 0.9667\n",
      "\n"
     ]
    },
    {
     "name": "stdout",
     "output_type": "stream",
     "text": [
      "Epoch 190, Loss 0.0391\n",
      "Training Accuracy: 0.9576, Testing Accuracy: 0.9662\n",
      "\n"
     ]
    },
    {
     "name": "stdout",
     "output_type": "stream",
     "text": [
      "Epoch 200, Loss 0.0386\n",
      "Training Accuracy: 0.9582, Testing Accuracy: 0.9662\n",
      "\n"
     ]
    },
    {
     "name": "stdout",
     "output_type": "stream",
     "text": [
      "Epoch 210, Loss 0.0382\n",
      "Training Accuracy: 0.9584, Testing Accuracy: 0.9662\n",
      "\n"
     ]
    },
    {
     "name": "stdout",
     "output_type": "stream",
     "text": [
      "Epoch 220, Loss 0.0378\n",
      "Training Accuracy: 0.9591, Testing Accuracy: 0.9662\n",
      "\n"
     ]
    },
    {
     "name": "stdout",
     "output_type": "stream",
     "text": [
      "Epoch 230, Loss 0.0374\n",
      "Training Accuracy: 0.9594, Testing Accuracy: 0.9657\n",
      "\n"
     ]
    },
    {
     "name": "stdout",
     "output_type": "stream",
     "text": [
      "Epoch 240, Loss 0.037\n",
      "Training Accuracy: 0.9594, Testing Accuracy: 0.9657\n",
      "\n"
     ]
    },
    {
     "data": {
      "text/plain": [
       "0.03300064821269176"
      ]
     },
     "execution_count": 23,
     "metadata": {},
     "output_type": "execute_result"
    }
   ],
   "source": [
    "lr_learner.train_loop(dl)"
   ]
  },
  {
   "cell_type": "code",
   "execution_count": 24,
   "id": "ca410940",
   "metadata": {
    "execution": {
     "iopub.execute_input": "2022-11-16T20:13:39.667417Z",
     "iopub.status.busy": "2022-11-16T20:13:39.666850Z",
     "iopub.status.idle": "2022-11-16T20:13:39.893791Z",
     "shell.execute_reply": "2022-11-16T20:13:39.893285Z"
    },
    "papermill": {
     "duration": 0.271526,
     "end_time": "2022-11-16T20:13:39.893899",
     "exception": false,
     "start_time": "2022-11-16T20:13:39.622373",
     "status": "completed"
    },
    "tags": []
   },
   "outputs": [
    {
     "data": {
      "text/plain": [
       "<matplotlib.legend.Legend at 0x7ffb3d3ba400>"
      ]
     },
     "execution_count": 24,
     "metadata": {},
     "output_type": "execute_result"
    },
    {
     "data": {
      "image/png": "[encoded data removed]",
      "text/plain": [
       "<Figure size 1080x720 with 1 Axes>"
      ]
     },
     "metadata": {
      "needs_background": "light"
     },
     "output_type": "display_data"
    }
   ],
   "source": [
    "#comparing the results of NN and LR\n",
    "plt.figure(figsize=(15,10))\n",
    "\n",
    "# Neural Network plots\n",
    "plt.plot(acc_nn.accuracies, 'r-', label = \"Training Accuracies - NN\")\n",
    "plt.plot(acc_nn.test_accuracies, 'g-', label = \"Testing Accuracies - NN\")\n",
    "\n",
    "# Logistic Regression plots\n",
    "plt.plot(acc_lr.accuracies, 'k-', label = \"Training Accuracies - LR\")\n",
    "plt.plot(acc_lr.test_accuracies, 'b-', label = \"Testing Accuracies - LR\")\n",
    "plt.legend()"
   ]
  },
  {
   "cell_type": "markdown",
   "id": "80dfb35c",
   "metadata": {
    "papermill": {
     "duration": 0.042025,
     "end_time": "2022-11-16T20:13:39.978382",
     "exception": false,
     "start_time": "2022-11-16T20:13:39.936357",
     "status": "completed"
    },
    "tags": []
   },
   "source": [
    "#### Plotting the outputs of this layer of the NN.\n"
   ]
  },
  {
   "cell_type": "code",
   "execution_count": 25,
   "id": "45eb2ff5",
   "metadata": {
    "execution": {
     "iopub.execute_input": "2022-11-16T20:13:40.066703Z",
     "iopub.status.busy": "2022-11-16T20:13:40.066135Z",
     "iopub.status.idle": "2022-11-16T20:13:40.101347Z",
     "shell.execute_reply": "2022-11-16T20:13:40.102004Z"
    },
    "papermill": {
     "duration": 0.081459,
     "end_time": "2022-11-16T20:13:40.102132",
     "exception": false,
     "start_time": "2022-11-16T20:13:40.020673",
     "status": "completed"
    },
    "tags": []
   },
   "outputs": [],
   "source": [
    "new_model = Model(layers[:-2])\n",
    "testing_plot = new_model(testing_data_x)"
   ]
  },
  {
   "cell_type": "code",
   "execution_count": 26,
   "id": "4c0a5485",
   "metadata": {
    "execution": {
     "iopub.execute_input": "2022-11-16T20:13:40.196068Z",
     "iopub.status.busy": "2022-11-16T20:13:40.195350Z",
     "iopub.status.idle": "2022-11-16T20:13:40.375004Z",
     "shell.execute_reply": "2022-11-16T20:13:40.375445Z"
    },
    "papermill": {
     "duration": 0.230251,
     "end_time": "2022-11-16T20:13:40.375579",
     "exception": false,
     "start_time": "2022-11-16T20:13:40.145328",
     "status": "completed"
    },
    "tags": []
   },
   "outputs": [
    {
     "data": {
      "text/plain": [
       "Text(0.5, 1.0, 'Outputs')"
      ]
     },
     "execution_count": 26,
     "metadata": {},
     "output_type": "execute_result"
    },
    {
     "data": {
      "image/png": "[encoded data removed]",
      "text/plain": [
       "<Figure size 576x504 with 1 Axes>"
      ]
     },
     "metadata": {
      "needs_background": "light"
     },
     "output_type": "display_data"
    }
   ],
   "source": [
    "# Plotting the scatter plot of points and color coding by class\n",
    "plt.figure(figsize=(8,7))\n",
    "plt.scatter(testing_plot[:,0], testing_plot[:,1], alpha = 0.1, c = y_test.ravel());\n",
    "plt.title('Outputs')"
   ]
  },
  {
   "cell_type": "markdown",
   "id": "a74fcf8f",
   "metadata": {
    "papermill": {
     "duration": 0.044077,
     "end_time": "2022-11-16T20:13:40.464067",
     "exception": false,
     "start_time": "2022-11-16T20:13:40.419990",
     "status": "completed"
    },
    "tags": []
   },
   "source": [
    "Probability contours"
   ]
  },
  {
   "cell_type": "code",
   "execution_count": 27,
   "id": "d0afc8e3",
   "metadata": {
    "execution": {
     "iopub.execute_input": "2022-11-16T20:13:40.581009Z",
     "iopub.status.busy": "2022-11-16T20:13:40.580438Z",
     "iopub.status.idle": "2022-11-16T20:13:40.592729Z",
     "shell.execute_reply": "2022-11-16T20:13:40.592244Z"
    },
    "papermill": {
     "duration": 0.084491,
     "end_time": "2022-11-16T20:13:40.592834",
     "exception": false,
     "start_time": "2022-11-16T20:13:40.508343",
     "status": "completed"
    },
    "tags": []
   },
   "outputs": [],
   "source": [
    "model_prob = Model(layers[-2:]) "
   ]
  },
  {
   "cell_type": "code",
   "execution_count": 28,
   "id": "9b96e238",
   "metadata": {
    "execution": {
     "iopub.execute_input": "2022-11-16T20:13:40.686685Z",
     "iopub.status.busy": "2022-11-16T20:13:40.686100Z",
     "iopub.status.idle": "2022-11-16T20:13:40.698781Z",
     "shell.execute_reply": "2022-11-16T20:13:40.699217Z"
    },
    "papermill": {
     "duration": 0.062029,
     "end_time": "2022-11-16T20:13:40.699351",
     "exception": false,
     "start_time": "2022-11-16T20:13:40.637322",
     "status": "completed"
    },
    "tags": []
   },
   "outputs": [],
   "source": [
    "#creating the x and y ranges according to the above generated plot.\n",
    "x_range = np.linspace(-4, 1, 100) \n",
    "y_range = np.linspace(-6, 6, 100) \n",
    "x_grid, y_grid = np.meshgrid(x_range, y_range) # x_grid and y_grig are of size 100 X 100\n",
    "\n",
    "# converting x_grid and y_grid to continuous arrays\n",
    "x_gridflat = np.ravel(x_grid)\n",
    "y_gridflat = np.ravel(y_grid)\n",
    "\n",
    "# The last layer of the current model takes two columns as input. Hence transpose of np.vstack() is required.\n",
    "X = np.vstack((x_gridflat, y_gridflat)).T\n",
    "\n",
    "prob_contour = model_prob(X).reshape(100,100) "
   ]
  },
  {
   "cell_type": "code",
   "execution_count": 29,
   "id": "da72499a",
   "metadata": {
    "execution": {
     "iopub.execute_input": "2022-11-16T20:13:40.793354Z",
     "iopub.status.busy": "2022-11-16T20:13:40.792808Z",
     "iopub.status.idle": "2022-11-16T20:13:41.030879Z",
     "shell.execute_reply": "2022-11-16T20:13:41.031413Z"
    },
    "papermill": {
     "duration": 0.287302,
     "end_time": "2022-11-16T20:13:41.031542",
     "exception": false,
     "start_time": "2022-11-16T20:13:40.744240",
     "status": "completed"
    },
    "tags": []
   },
   "outputs": [
    {
     "data": {
      "image/png": "[encoded data removed]",
      "text/plain": [
       "<Figure size 720x648 with 1 Axes>"
      ]
     },
     "metadata": {
      "needs_background": "light"
     },
     "output_type": "display_data"
    }
   ],
   "source": [
    "plt.figure(figsize=(10,9))\n",
    "plt.scatter(testing_plot[:,0], testing_plot[:,1], alpha = 0.1, c = y_test.ravel())\n",
    "contours = plt.contour(x_grid,y_grid,prob_contour)\n",
    "plt.title('Probability Contours')\n",
    "plt.clabel(contours, inline = True );"
   ]
  },
  {
   "cell_type": "code",
   "execution_count": null,
   "id": "e81b4ac7",
   "metadata": {
    "papermill": {
     "duration": 0.046939,
     "end_time": "2022-11-16T20:13:41.125710",
     "exception": false,
     "start_time": "2022-11-16T20:13:41.078771",
     "status": "completed"
    },
    "tags": []
   },
   "outputs": [],
   "source": []
  }
 ],
 "metadata": {
  "kernelspec": {
   "display_name": "Python 3",
   "language": "python",
   "name": "python3"
  },
  "language_info": {
   "codemirror_mode": {
    "name": "ipython",
    "version": 3
   },
   "file_extension": ".py",
   "mimetype": "text/x-python",
   "name": "python",
   "nbconvert_exporter": "python",
   "pygments_lexer": "ipython3",
   "version": "3.6.15"
  },
  "papermill": {
   "default_parameters": {},
   "duration": 195.031356,
   "end_time": "2022-11-16T20:13:41.490453",
   "environment_variables": {},
   "exception": null,
   "input_path": "2020-08-11-part2.ipynb",
   "output_path": "2020-08-11-part2.ipynb",
   "parameters": {},
   "start_time": "2022-11-16T20:10:26.459097",
   "version": "2.3.3"
  }
 },
 "nbformat": 4,
 "nbformat_minor": 5
}