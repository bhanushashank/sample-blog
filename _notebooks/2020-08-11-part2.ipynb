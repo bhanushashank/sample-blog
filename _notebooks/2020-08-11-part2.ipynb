{
 "cells": [
  {
   "cell_type": "markdown",
   "id": "98380cd3",
   "metadata": {
    "papermill": {
     "duration": 0.034243,
     "end_time": "2022-07-15T10:10:52.877649",
     "exception": false,
     "start_time": "2022-07-15T10:10:52.843406",
     "status": "completed"
    },
    "tags": []
   },
   "source": [
    "# Distinguish Your Own Digits (DYOD)"
   ]
  },
  {
   "cell_type": "markdown",
   "id": "ef31240d",
   "metadata": {
    "papermill": {
     "duration": 0.026371,
     "end_time": "2022-07-15T10:10:52.931625",
     "exception": false,
     "start_time": "2022-07-15T10:10:52.905254",
     "status": "completed"
    },
    "tags": []
   },
   "source": [
    "You are going to write a classifier that distinguishes between the number 3 and number 8."
   ]
  },
  {
   "cell_type": "code",
   "execution_count": 1,
   "id": "b15c8646",
   "metadata": {
    "execution": {
     "iopub.execute_input": "2022-07-15T10:10:52.999651Z",
     "iopub.status.busy": "2022-07-15T10:10:52.998928Z",
     "iopub.status.idle": "2022-07-15T10:10:53.011121Z",
     "shell.execute_reply": "2022-07-15T10:10:53.010556Z"
    },
    "papermill": {
     "duration": 0.053131,
     "end_time": "2022-07-15T10:10:53.011271",
     "exception": false,
     "start_time": "2022-07-15T10:10:52.958140",
     "status": "completed"
    },
    "tags": []
   },
   "outputs": [],
   "source": [
    "%load_ext autoreload\n",
    "%autoreload 2"
   ]
  },
  {
   "cell_type": "code",
   "execution_count": 2,
   "id": "22ef38dc",
   "metadata": {
    "execution": {
     "iopub.execute_input": "2022-07-15T10:10:53.072998Z",
     "iopub.status.busy": "2022-07-15T10:10:53.072295Z",
     "iopub.status.idle": "2022-07-15T10:10:53.699635Z",
     "shell.execute_reply": "2022-07-15T10:10:53.700171Z"
    },
    "papermill": {
     "duration": 0.66268,
     "end_time": "2022-07-15T10:10:53.700340",
     "exception": false,
     "start_time": "2022-07-15T10:10:53.037660",
     "status": "completed"
    },
    "tags": []
   },
   "outputs": [],
   "source": [
    "%matplotlib inline\n",
    "import numpy as np\n",
    "import matplotlib.pyplot as plt\n",
    "import pandas as pd"
   ]
  },
  {
   "cell_type": "markdown",
   "id": "ba036198",
   "metadata": {
    "papermill": {
     "duration": 0.02683,
     "end_time": "2022-07-15T10:10:53.753958",
     "exception": false,
     "start_time": "2022-07-15T10:10:53.727128",
     "status": "completed"
    },
    "tags": []
   },
   "source": [
    "From the command line run `pip install mnist`. This is a library that will help you bring down the mnist dataset. If you run this from a notebook, you need to put  `!pip install mnist` in a cell by itself."
   ]
  },
  {
   "cell_type": "code",
   "execution_count": 3,
   "id": "bb6ad8a1",
   "metadata": {
    "execution": {
     "iopub.execute_input": "2022-07-15T10:10:53.813519Z",
     "iopub.status.busy": "2022-07-15T10:10:53.812831Z",
     "iopub.status.idle": "2022-07-15T10:10:55.801948Z",
     "shell.execute_reply": "2022-07-15T10:10:55.800930Z"
    },
    "papermill": {
     "duration": 2.021889,
     "end_time": "2022-07-15T10:10:55.802094",
     "exception": false,
     "start_time": "2022-07-15T10:10:53.780205",
     "status": "completed"
    },
    "tags": []
   },
   "outputs": [
    {
     "name": "stdout",
     "output_type": "stream",
     "text": [
      "Collecting mnist\r\n"
     ]
    },
    {
     "name": "stdout",
     "output_type": "stream",
     "text": [
      "  Downloading mnist-0.2.2-py2.py3-none-any.whl (3.5 kB)\r\n",
      "Requirement already satisfied: numpy in /opt/hostedtoolcache/Python/3.6.15/x64/lib/python3.6/site-packages (from mnist) (1.19.5)\r\n"
     ]
    },
    {
     "name": "stdout",
     "output_type": "stream",
     "text": [
      "Installing collected packages: mnist\r\n"
     ]
    },
    {
     "name": "stdout",
     "output_type": "stream",
     "text": [
      "Successfully installed mnist-0.2.2\r\n"
     ]
    }
   ],
   "source": [
    "!pip install mnist"
   ]
  },
  {
   "cell_type": "markdown",
   "id": "69df9c9a",
   "metadata": {
    "papermill": {
     "duration": 0.027731,
     "end_time": "2022-07-15T10:10:55.858020",
     "exception": false,
     "start_time": "2022-07-15T10:10:55.830289",
     "status": "completed"
    },
    "tags": []
   },
   "source": [
    "## Preparing the Data"
   ]
  },
  {
   "cell_type": "code",
   "execution_count": 4,
   "id": "7f69d806",
   "metadata": {
    "execution": {
     "iopub.execute_input": "2022-07-15T10:10:55.923516Z",
     "iopub.status.busy": "2022-07-15T10:10:55.919963Z",
     "iopub.status.idle": "2022-07-15T10:10:55.937743Z",
     "shell.execute_reply": "2022-07-15T10:10:55.937030Z"
    },
    "papermill": {
     "duration": 0.051713,
     "end_time": "2022-07-15T10:10:55.937904",
     "exception": false,
     "start_time": "2022-07-15T10:10:55.886191",
     "status": "completed"
    },
    "tags": []
   },
   "outputs": [],
   "source": [
    "import mnist"
   ]
  },
  {
   "cell_type": "code",
   "execution_count": 5,
   "id": "a411e44f",
   "metadata": {
    "execution": {
     "iopub.execute_input": "2022-07-15T10:10:56.000746Z",
     "iopub.status.busy": "2022-07-15T10:10:55.998758Z",
     "iopub.status.idle": "2022-07-15T10:10:56.679805Z",
     "shell.execute_reply": "2022-07-15T10:10:56.679212Z"
    },
    "papermill": {
     "duration": 0.714059,
     "end_time": "2022-07-15T10:10:56.679946",
     "exception": false,
     "start_time": "2022-07-15T10:10:55.965887",
     "status": "completed"
    },
    "tags": []
   },
   "outputs": [],
   "source": [
    "train_images = mnist.train_images()\n",
    "train_labels = mnist.train_labels()"
   ]
  },
  {
   "cell_type": "code",
   "execution_count": 6,
   "id": "dceab3a5",
   "metadata": {
    "execution": {
     "iopub.execute_input": "2022-07-15T10:10:56.741032Z",
     "iopub.status.busy": "2022-07-15T10:10:56.739848Z",
     "iopub.status.idle": "2022-07-15T10:10:56.757547Z",
     "shell.execute_reply": "2022-07-15T10:10:56.756866Z"
    },
    "papermill": {
     "duration": 0.049726,
     "end_time": "2022-07-15T10:10:56.757679",
     "exception": false,
     "start_time": "2022-07-15T10:10:56.707953",
     "status": "completed"
    },
    "tags": []
   },
   "outputs": [
    {
     "data": {
      "text/plain": [
       "((60000, 28, 28), (60000,))"
      ]
     },
     "execution_count": 6,
     "metadata": {},
     "output_type": "execute_result"
    }
   ],
   "source": [
    "train_images.shape, train_labels.shape"
   ]
  },
  {
   "cell_type": "code",
   "execution_count": 7,
   "id": "f50dc2bb",
   "metadata": {
    "execution": {
     "iopub.execute_input": "2022-07-15T10:10:56.820198Z",
     "iopub.status.busy": "2022-07-15T10:10:56.817424Z",
     "iopub.status.idle": "2022-07-15T10:10:57.063191Z",
     "shell.execute_reply": "2022-07-15T10:10:57.062152Z"
    },
    "papermill": {
     "duration": 0.277587,
     "end_time": "2022-07-15T10:10:57.063408",
     "exception": false,
     "start_time": "2022-07-15T10:10:56.785821",
     "status": "completed"
    },
    "tags": []
   },
   "outputs": [],
   "source": [
    "test_images = mnist.test_images()\n",
    "test_labels = mnist.test_labels()"
   ]
  },
  {
   "cell_type": "code",
   "execution_count": 8,
   "id": "fc38cf1b",
   "metadata": {
    "execution": {
     "iopub.execute_input": "2022-07-15T10:10:57.135114Z",
     "iopub.status.busy": "2022-07-15T10:10:57.126165Z",
     "iopub.status.idle": "2022-07-15T10:10:57.141467Z",
     "shell.execute_reply": "2022-07-15T10:10:57.142137Z"
    },
    "papermill": {
     "duration": 0.050566,
     "end_time": "2022-07-15T10:10:57.142298",
     "exception": false,
     "start_time": "2022-07-15T10:10:57.091732",
     "status": "completed"
    },
    "tags": []
   },
   "outputs": [
    {
     "data": {
      "text/plain": [
       "((10000, 28, 28), (10000,))"
      ]
     },
     "execution_count": 8,
     "metadata": {},
     "output_type": "execute_result"
    }
   ],
   "source": [
    "test_images.shape, test_labels.shape"
   ]
  },
  {
   "cell_type": "code",
   "execution_count": 9,
   "id": "f9ed8fe0",
   "metadata": {
    "execution": {
     "iopub.execute_input": "2022-07-15T10:10:57.207159Z",
     "iopub.status.busy": "2022-07-15T10:10:57.206453Z",
     "iopub.status.idle": "2022-07-15T10:10:57.367092Z",
     "shell.execute_reply": "2022-07-15T10:10:57.366514Z"
    },
    "papermill": {
     "duration": 0.195874,
     "end_time": "2022-07-15T10:10:57.367225",
     "exception": false,
     "start_time": "2022-07-15T10:10:57.171351",
     "status": "completed"
    },
    "tags": []
   },
   "outputs": [
    {
     "name": "stdout",
     "output_type": "stream",
     "text": [
      "2\n"
     ]
    },
    {
     "data": {
      "text/plain": [
       "<matplotlib.image.AxesImage at 0x7f34378ca4a8>"
      ]
     },
     "execution_count": 9,
     "metadata": {},
     "output_type": "execute_result"
    },
    {
     "data": {
      "image/png": "[encoded data removed]",
      "text/plain": [
       "<Figure size 432x288 with 1 Axes>"
      ]
     },
     "metadata": {
      "needs_background": "light"
     },
     "output_type": "display_data"
    }
   ],
   "source": [
    "image_index = 7776 # You may select anything up to 60,000\n",
    "print(train_labels[image_index]) \n",
    "plt.imshow(train_images[image_index], cmap='Greys')"
   ]
  },
  {
   "cell_type": "markdown",
   "id": "a8d2388d",
   "metadata": {
    "papermill": {
     "duration": 0.030067,
     "end_time": "2022-07-15T10:10:57.427353",
     "exception": false,
     "start_time": "2022-07-15T10:10:57.397286",
     "status": "completed"
    },
    "tags": []
   },
   "source": [
    "## Filter data to get 3 and 8 out"
   ]
  },
  {
   "cell_type": "code",
   "execution_count": 10,
   "id": "776f7fc7",
   "metadata": {
    "execution": {
     "iopub.execute_input": "2022-07-15T10:10:57.492800Z",
     "iopub.status.busy": "2022-07-15T10:10:57.492081Z",
     "iopub.status.idle": "2022-07-15T10:10:57.511817Z",
     "shell.execute_reply": "2022-07-15T10:10:57.511231Z"
    },
    "papermill": {
     "duration": 0.054724,
     "end_time": "2022-07-15T10:10:57.511952",
     "exception": false,
     "start_time": "2022-07-15T10:10:57.457228",
     "status": "completed"
    },
    "tags": []
   },
   "outputs": [],
   "source": [
    "train_filter = np.where((train_labels == 3 ) | (train_labels == 8))\n",
    "test_filter = np.where((test_labels == 3) | (test_labels == 8))\n",
    "X_train, y_train = train_images[train_filter], train_labels[train_filter]\n",
    "X_test, y_test = test_images[test_filter], test_labels[test_filter]"
   ]
  },
  {
   "cell_type": "markdown",
   "id": "948f0b7e",
   "metadata": {
    "papermill": {
     "duration": 0.029063,
     "end_time": "2022-07-15T10:10:57.571046",
     "exception": false,
     "start_time": "2022-07-15T10:10:57.541983",
     "status": "completed"
    },
    "tags": []
   },
   "source": [
    "We normalize the pizel values in the 0 to 1 range"
   ]
  },
  {
   "cell_type": "code",
   "execution_count": 11,
   "id": "ee4c2166",
   "metadata": {
    "execution": {
     "iopub.execute_input": "2022-07-15T10:10:57.640095Z",
     "iopub.status.busy": "2022-07-15T10:10:57.634653Z",
     "iopub.status.idle": "2022-07-15T10:10:57.691652Z",
     "shell.execute_reply": "2022-07-15T10:10:57.690586Z"
    },
    "papermill": {
     "duration": 0.091455,
     "end_time": "2022-07-15T10:10:57.691786",
     "exception": false,
     "start_time": "2022-07-15T10:10:57.600331",
     "status": "completed"
    },
    "tags": []
   },
   "outputs": [],
   "source": [
    "X_train = X_train/255.\n",
    "X_test = X_test/255."
   ]
  },
  {
   "cell_type": "markdown",
   "id": "ddcf4fab",
   "metadata": {
    "papermill": {
     "duration": 0.029576,
     "end_time": "2022-07-15T10:10:57.750627",
     "exception": false,
     "start_time": "2022-07-15T10:10:57.721051",
     "status": "completed"
    },
    "tags": []
   },
   "source": [
    "And setup the labels as 1 (when the digit is 3) and 0 (when the digit is 8)"
   ]
  },
  {
   "cell_type": "code",
   "execution_count": 12,
   "id": "7dc908f2",
   "metadata": {
    "execution": {
     "iopub.execute_input": "2022-07-15T10:10:57.823207Z",
     "iopub.status.busy": "2022-07-15T10:10:57.814271Z",
     "iopub.status.idle": "2022-07-15T10:10:57.828981Z",
     "shell.execute_reply": "2022-07-15T10:10:57.827654Z"
    },
    "papermill": {
     "duration": 0.049795,
     "end_time": "2022-07-15T10:10:57.829120",
     "exception": false,
     "start_time": "2022-07-15T10:10:57.779325",
     "status": "completed"
    },
    "tags": []
   },
   "outputs": [],
   "source": [
    "y_train = 1*(y_train==3)\n",
    "y_test = 1*(y_test==3)"
   ]
  },
  {
   "cell_type": "code",
   "execution_count": 13,
   "id": "01e4e969",
   "metadata": {
    "execution": {
     "iopub.execute_input": "2022-07-15T10:10:57.894740Z",
     "iopub.status.busy": "2022-07-15T10:10:57.893201Z",
     "iopub.status.idle": "2022-07-15T10:10:57.909174Z",
     "shell.execute_reply": "2022-07-15T10:10:57.908028Z"
    },
    "papermill": {
     "duration": 0.050327,
     "end_time": "2022-07-15T10:10:57.909385",
     "exception": false,
     "start_time": "2022-07-15T10:10:57.859058",
     "status": "completed"
    },
    "tags": []
   },
   "outputs": [
    {
     "data": {
      "text/plain": [
       "((11982, 28, 28), (1984, 28, 28))"
      ]
     },
     "execution_count": 13,
     "metadata": {},
     "output_type": "execute_result"
    }
   ],
   "source": [
    "X_train.shape, X_test.shape"
   ]
  },
  {
   "cell_type": "markdown",
   "id": "5ccf3f85",
   "metadata": {
    "papermill": {
     "duration": 0.029807,
     "end_time": "2022-07-15T10:10:57.973182",
     "exception": false,
     "start_time": "2022-07-15T10:10:57.943375",
     "status": "completed"
    },
    "tags": []
   },
   "source": [
    "We reshape the data to flatten the image pixels into a set of features or co-variates:"
   ]
  },
  {
   "cell_type": "code",
   "execution_count": 14,
   "id": "5286a4a3",
   "metadata": {
    "execution": {
     "iopub.execute_input": "2022-07-15T10:10:58.048102Z",
     "iopub.status.busy": "2022-07-15T10:10:58.047377Z",
     "iopub.status.idle": "2022-07-15T10:10:58.067757Z",
     "shell.execute_reply": "2022-07-15T10:10:58.068455Z"
    },
    "papermill": {
     "duration": 0.062551,
     "end_time": "2022-07-15T10:10:58.068665",
     "exception": false,
     "start_time": "2022-07-15T10:10:58.006114",
     "status": "completed"
    },
    "tags": []
   },
   "outputs": [
    {
     "data": {
      "text/plain": [
       "((11982, 784), (1984, 784))"
      ]
     },
     "execution_count": 14,
     "metadata": {},
     "output_type": "execute_result"
    }
   ],
   "source": [
    "X_train = X_train.reshape(X_train.shape[0], -1)\n",
    "X_test = X_test.reshape(X_test.shape[0], -1)\n",
    "X_train.shape, X_test.shape"
   ]
  },
  {
   "cell_type": "code",
   "execution_count": 15,
   "id": "73c5f88a",
   "metadata": {
    "execution": {
     "iopub.execute_input": "2022-07-15T10:10:58.142959Z",
     "iopub.status.busy": "2022-07-15T10:10:58.139699Z",
     "iopub.status.idle": "2022-07-15T10:10:58.163163Z",
     "shell.execute_reply": "2022-07-15T10:10:58.162344Z"
    },
    "papermill": {
     "duration": 0.059994,
     "end_time": "2022-07-15T10:10:58.163338",
     "exception": false,
     "start_time": "2022-07-15T10:10:58.103344",
     "status": "completed"
    },
    "tags": []
   },
   "outputs": [],
   "source": [
    "#Impoting functions from 'Kudzu'\n",
    "from kudzu.model import Model\n",
    "from kudzu.train import Learner\n",
    "from kudzu.optim import GD\n",
    "from kudzu.data import Data, Sampler,Dataloader\n",
    "\n",
    "from kudzu.callbacks import AccCallback\n",
    "from kudzu.callbacks import ClfCallback\n",
    "\n",
    "from kudzu.loss import MSE\n",
    "\n",
    "from kudzu.layer import Sigmoid,Relu\n",
    "from kudzu.layer import Affine"
   ]
  },
  {
   "cell_type": "markdown",
   "id": "bc01172a",
   "metadata": {
    "papermill": {
     "duration": 0.031096,
     "end_time": "2022-07-15T10:10:58.227030",
     "exception": false,
     "start_time": "2022-07-15T10:10:58.195934",
     "status": "completed"
    },
    "tags": []
   },
   "source": [
    "### Let us create a `Config` class, to store important parameters. \n",
    "This class essentially plays the role of a dictionary."
   ]
  },
  {
   "cell_type": "code",
   "execution_count": 16,
   "id": "978281aa",
   "metadata": {
    "execution": {
     "iopub.execute_input": "2022-07-15T10:10:58.296104Z",
     "iopub.status.busy": "2022-07-15T10:10:58.295275Z",
     "iopub.status.idle": "2022-07-15T10:10:58.310790Z",
     "shell.execute_reply": "2022-07-15T10:10:58.310253Z"
    },
    "papermill": {
     "duration": 0.051479,
     "end_time": "2022-07-15T10:10:58.310910",
     "exception": false,
     "start_time": "2022-07-15T10:10:58.259431",
     "status": "completed"
    },
    "tags": []
   },
   "outputs": [],
   "source": [
    "class Config:\n",
    "    pass\n",
    "config = Config()\n",
    "config.lr = 0.001\n",
    "config.num_epochs = 250\n",
    "config.bs = 50"
   ]
  },
  {
   "cell_type": "markdown",
   "id": "1385fa59",
   "metadata": {
    "papermill": {
     "duration": 0.035984,
     "end_time": "2022-07-15T10:10:58.377021",
     "exception": false,
     "start_time": "2022-07-15T10:10:58.341037",
     "status": "completed"
    },
    "tags": []
   },
   "source": [
    "### Running Models with the Training data\n",
    "Details about the network layers:\n",
    "- A first affine layer has 784 inputs and does 100 affine transforms. These are followed by a Relu\n",
    "- A second affine layer has 100 inputs from the 100 activations of the past layer, and does 100 affine transforms. These are followed by a Relu\n",
    "- A third affine layer has 100 activations and does 2 affine transformations to create an embedding for visualization. There is no non-linearity here.\n",
    "- A final \"logistic regression\" which has an affine transform from 2 inputs to 1 output, which is squeezed through a sigmoid.\n"
   ]
  },
  {
   "cell_type": "code",
   "execution_count": 17,
   "id": "2b9c66db",
   "metadata": {
    "execution": {
     "iopub.execute_input": "2022-07-15T10:10:58.444973Z",
     "iopub.status.busy": "2022-07-15T10:10:58.444284Z",
     "iopub.status.idle": "2022-07-15T10:10:58.458971Z",
     "shell.execute_reply": "2022-07-15T10:10:58.458163Z"
    },
    "papermill": {
     "duration": 0.051719,
     "end_time": "2022-07-15T10:10:58.459120",
     "exception": false,
     "start_time": "2022-07-15T10:10:58.407401",
     "status": "completed"
    },
    "tags": []
   },
   "outputs": [],
   "source": [
    "data = Data(X_train, y_train.reshape(-1,1))\n",
    "sampler = Sampler(data, config.bs, shuffle=True)\n",
    "\n",
    "dl = Dataloader(data, sampler)\n",
    "\n",
    "opt = GD(config.lr)\n",
    "loss = MSE()"
   ]
  },
  {
   "cell_type": "code",
   "execution_count": 18,
   "id": "b275e4c2",
   "metadata": {
    "execution": {
     "iopub.execute_input": "2022-07-15T10:10:58.524824Z",
     "iopub.status.busy": "2022-07-15T10:10:58.524123Z",
     "iopub.status.idle": "2022-07-15T10:10:58.538320Z",
     "shell.execute_reply": "2022-07-15T10:10:58.537608Z"
    },
    "papermill": {
     "duration": 0.048228,
     "end_time": "2022-07-15T10:10:58.538450",
     "exception": false,
     "start_time": "2022-07-15T10:10:58.490222",
     "status": "completed"
    },
    "tags": []
   },
   "outputs": [],
   "source": [
    "training_data_x = X_train\n",
    "testing_data_x = X_test\n",
    "training_data_y = y_train.reshape(-1,1)\n",
    "testing_data_y = y_test.reshape(-1,1)"
   ]
  },
  {
   "cell_type": "code",
   "execution_count": 19,
   "id": "76951160",
   "metadata": {
    "execution": {
     "iopub.execute_input": "2022-07-15T10:10:58.603456Z",
     "iopub.status.busy": "2022-07-15T10:10:58.602759Z",
     "iopub.status.idle": "2022-07-15T10:10:58.621607Z",
     "shell.execute_reply": "2022-07-15T10:10:58.621035Z"
    },
    "papermill": {
     "duration": 0.053129,
     "end_time": "2022-07-15T10:10:58.621746",
     "exception": false,
     "start_time": "2022-07-15T10:10:58.568617",
     "status": "completed"
    },
    "tags": []
   },
   "outputs": [
    {
     "name": "stdout",
     "output_type": "stream",
     "text": [
      "xavier\n",
      "xavier\n",
      "xavier\n",
      "xavier\n",
      "xavier\n"
     ]
    }
   ],
   "source": [
    "layers = [Affine(\"first\", 784, 100), Relu(\"first\"), Affine(\"second\", 100, 100), Relu(\"second\"), Affine(\"third\", 100, 2), Affine(\"last\", 2, 1), Sigmoid(\"last\")]\n",
    "model_nn = Model(layers)\n",
    "model_lr = Model([Affine(\"logits\", 784, 1), Sigmoid(\"sigmoid\")])"
   ]
  },
  {
   "cell_type": "code",
   "execution_count": 20,
   "id": "6eede77a",
   "metadata": {
    "execution": {
     "iopub.execute_input": "2022-07-15T10:10:58.688042Z",
     "iopub.status.busy": "2022-07-15T10:10:58.687367Z",
     "iopub.status.idle": "2022-07-15T10:10:58.701026Z",
     "shell.execute_reply": "2022-07-15T10:10:58.700467Z"
    },
    "papermill": {
     "duration": 0.048912,
     "end_time": "2022-07-15T10:10:58.701177",
     "exception": false,
     "start_time": "2022-07-15T10:10:58.652265",
     "status": "completed"
    },
    "tags": []
   },
   "outputs": [],
   "source": [
    "nn_learner = Learner(loss, model_nn, opt, config.num_epochs)\n",
    "acc_nn = ClfCallback(nn_learner, config.bs, training_data_x , testing_data_x, training_data_y, testing_data_y)\n",
    "nn_learner.set_callbacks([acc_nn])"
   ]
  },
  {
   "cell_type": "code",
   "execution_count": 21,
   "id": "877b6cc7",
   "metadata": {
    "execution": {
     "iopub.execute_input": "2022-07-15T10:10:58.767571Z",
     "iopub.status.busy": "2022-07-15T10:10:58.766880Z",
     "iopub.status.idle": "2022-07-15T10:10:58.782947Z",
     "shell.execute_reply": "2022-07-15T10:10:58.782216Z"
    },
    "papermill": {
     "duration": 0.051857,
     "end_time": "2022-07-15T10:10:58.783146",
     "exception": false,
     "start_time": "2022-07-15T10:10:58.731289",
     "status": "completed"
    },
    "tags": []
   },
   "outputs": [],
   "source": [
    "lr_learner = Learner(loss, model_lr, opt, config.num_epochs)\n",
    "acc_lr = ClfCallback(lr_learner, config.bs, training_data_x , testing_data_x, training_data_y, testing_data_y)\n",
    "lr_learner.set_callbacks([acc_lr])"
   ]
  },
  {
   "cell_type": "code",
   "execution_count": 22,
   "id": "d9b133c3",
   "metadata": {
    "execution": {
     "iopub.execute_input": "2022-07-15T10:10:58.853137Z",
     "iopub.status.busy": "2022-07-15T10:10:58.852448Z",
     "iopub.status.idle": "2022-07-15T10:12:28.110331Z",
     "shell.execute_reply": "2022-07-15T10:12:28.111338Z"
    },
    "papermill": {
     "duration": 89.293463,
     "end_time": "2022-07-15T10:12:28.111509",
     "exception": false,
     "start_time": "2022-07-15T10:10:58.818046",
     "status": "completed"
    },
    "tags": []
   },
   "outputs": [
    {
     "name": "stdout",
     "output_type": "stream",
     "text": [
      "Epoch 0, Loss 0.2433\n",
      "Training Accuracy: 0.6510, Testing Accuracy: 0.6578\n",
      "\n"
     ]
    },
    {
     "name": "stdout",
     "output_type": "stream",
     "text": [
      "Epoch 10, Loss 0.1496\n",
      "Training Accuracy: 0.8919, Testing Accuracy: 0.9052\n",
      "\n"
     ]
    },
    {
     "name": "stdout",
     "output_type": "stream",
     "text": [
      "Epoch 20, Loss 0.0753\n",
      "Training Accuracy: 0.9262, Testing Accuracy: 0.9395\n",
      "\n"
     ]
    },
    {
     "name": "stdout",
     "output_type": "stream",
     "text": [
      "Epoch 30, Loss 0.0532\n",
      "Training Accuracy: 0.9436, Testing Accuracy: 0.9551\n",
      "\n"
     ]
    },
    {
     "name": "stdout",
     "output_type": "stream",
     "text": [
      "Epoch 40, Loss 0.0436\n",
      "Training Accuracy: 0.9523, Testing Accuracy: 0.9652\n",
      "\n"
     ]
    },
    {
     "name": "stdout",
     "output_type": "stream",
     "text": [
      "Epoch 50, Loss 0.0383\n",
      "Training Accuracy: 0.9562, Testing Accuracy: 0.9672\n",
      "\n"
     ]
    },
    {
     "name": "stdout",
     "output_type": "stream",
     "text": [
      "Epoch 60, Loss 0.0349\n",
      "Training Accuracy: 0.9603, Testing Accuracy: 0.9693\n",
      "\n"
     ]
    },
    {
     "name": "stdout",
     "output_type": "stream",
     "text": [
      "Epoch 70, Loss 0.0325\n",
      "Training Accuracy: 0.9628, Testing Accuracy: 0.9703\n",
      "\n"
     ]
    },
    {
     "name": "stdout",
     "output_type": "stream",
     "text": [
      "Epoch 80, Loss 0.0306\n",
      "Training Accuracy: 0.9644, Testing Accuracy: 0.9703\n",
      "\n"
     ]
    },
    {
     "name": "stdout",
     "output_type": "stream",
     "text": [
      "Epoch 90, Loss 0.0292\n",
      "Training Accuracy: 0.9664, Testing Accuracy: 0.9698\n",
      "\n"
     ]
    },
    {
     "name": "stdout",
     "output_type": "stream",
     "text": [
      "Epoch 100, Loss 0.028\n",
      "Training Accuracy: 0.9678, Testing Accuracy: 0.9708\n",
      "\n"
     ]
    },
    {
     "name": "stdout",
     "output_type": "stream",
     "text": [
      "Epoch 110, Loss 0.027\n",
      "Training Accuracy: 0.9689, Testing Accuracy: 0.9708\n",
      "\n"
     ]
    },
    {
     "name": "stdout",
     "output_type": "stream",
     "text": [
      "Epoch 120, Loss 0.026\n",
      "Training Accuracy: 0.9703, Testing Accuracy: 0.9698\n",
      "\n"
     ]
    },
    {
     "name": "stdout",
     "output_type": "stream",
     "text": [
      "Epoch 130, Loss 0.0252\n",
      "Training Accuracy: 0.9706, Testing Accuracy: 0.9708\n",
      "\n"
     ]
    },
    {
     "name": "stdout",
     "output_type": "stream",
     "text": [
      "Epoch 140, Loss 0.0245\n",
      "Training Accuracy: 0.9719, Testing Accuracy: 0.9708\n",
      "\n"
     ]
    },
    {
     "name": "stdout",
     "output_type": "stream",
     "text": [
      "Epoch 150, Loss 0.0239\n",
      "Training Accuracy: 0.9722, Testing Accuracy: 0.9708\n",
      "\n"
     ]
    },
    {
     "name": "stdout",
     "output_type": "stream",
     "text": [
      "Epoch 160, Loss 0.0232\n",
      "Training Accuracy: 0.9726, Testing Accuracy: 0.9713\n",
      "\n"
     ]
    },
    {
     "name": "stdout",
     "output_type": "stream",
     "text": [
      "Epoch 170, Loss 0.0227\n",
      "Training Accuracy: 0.9736, Testing Accuracy: 0.9718\n",
      "\n"
     ]
    },
    {
     "name": "stdout",
     "output_type": "stream",
     "text": [
      "Epoch 180, Loss 0.0221\n",
      "Training Accuracy: 0.9744, Testing Accuracy: 0.9723\n",
      "\n"
     ]
    },
    {
     "name": "stdout",
     "output_type": "stream",
     "text": [
      "Epoch 190, Loss 0.0216\n",
      "Training Accuracy: 0.9747, Testing Accuracy: 0.9733\n",
      "\n"
     ]
    },
    {
     "name": "stdout",
     "output_type": "stream",
     "text": [
      "Epoch 200, Loss 0.0212\n",
      "Training Accuracy: 0.9754, Testing Accuracy: 0.9728\n",
      "\n"
     ]
    },
    {
     "name": "stdout",
     "output_type": "stream",
     "text": [
      "Epoch 210, Loss 0.0207\n",
      "Training Accuracy: 0.9757, Testing Accuracy: 0.9738\n",
      "\n"
     ]
    },
    {
     "name": "stdout",
     "output_type": "stream",
     "text": [
      "Epoch 220, Loss 0.0203\n",
      "Training Accuracy: 0.9765, Testing Accuracy: 0.9738\n",
      "\n"
     ]
    },
    {
     "name": "stdout",
     "output_type": "stream",
     "text": [
      "Epoch 230, Loss 0.0199\n",
      "Training Accuracy: 0.9771, Testing Accuracy: 0.9738\n",
      "\n"
     ]
    },
    {
     "name": "stdout",
     "output_type": "stream",
     "text": [
      "Epoch 240, Loss 0.0195\n",
      "Training Accuracy: 0.9779, Testing Accuracy: 0.9743\n",
      "\n"
     ]
    },
    {
     "data": {
      "text/plain": [
       "0.0010803546294910961"
      ]
     },
     "execution_count": 22,
     "metadata": {},
     "output_type": "execute_result"
    }
   ],
   "source": [
    "nn_learner.train_loop(dl)"
   ]
  },
  {
   "cell_type": "code",
   "execution_count": 23,
   "id": "e0163366",
   "metadata": {
    "execution": {
     "iopub.execute_input": "2022-07-15T10:12:28.199744Z",
     "iopub.status.busy": "2022-07-15T10:12:28.199034Z",
     "iopub.status.idle": "2022-07-15T10:12:43.926164Z",
     "shell.execute_reply": "2022-07-15T10:12:43.927167Z"
    },
    "papermill": {
     "duration": 15.776875,
     "end_time": "2022-07-15T10:12:43.927334",
     "exception": false,
     "start_time": "2022-07-15T10:12:28.150459",
     "status": "completed"
    },
    "tags": []
   },
   "outputs": [
    {
     "name": "stdout",
     "output_type": "stream",
     "text": [
      "Epoch 0, Loss 0.2795\n",
      "Training Accuracy: 0.5282, Testing Accuracy: 0.5620\n",
      "\n"
     ]
    },
    {
     "name": "stdout",
     "output_type": "stream",
     "text": [
      "Epoch 10, Loss 0.1093\n",
      "Training Accuracy: 0.8981, Testing Accuracy: 0.9052\n",
      "\n"
     ]
    },
    {
     "name": "stdout",
     "output_type": "stream",
     "text": [
      "Epoch 20, Loss 0.0826\n",
      "Training Accuracy: 0.9212, Testing Accuracy: 0.9355\n",
      "\n"
     ]
    },
    {
     "name": "stdout",
     "output_type": "stream",
     "text": [
      "Epoch 30, Loss 0.0704\n",
      "Training Accuracy: 0.9336, Testing Accuracy: 0.9471\n",
      "\n"
     ]
    },
    {
     "name": "stdout",
     "output_type": "stream",
     "text": [
      "Epoch 40, Loss 0.0632\n",
      "Training Accuracy: 0.9382, Testing Accuracy: 0.9511\n",
      "\n"
     ]
    },
    {
     "name": "stdout",
     "output_type": "stream",
     "text": [
      "Epoch 50, Loss 0.0583\n",
      "Training Accuracy: 0.9420, Testing Accuracy: 0.9567\n",
      "\n"
     ]
    },
    {
     "name": "stdout",
     "output_type": "stream",
     "text": [
      "Epoch 60, Loss 0.0548\n",
      "Training Accuracy: 0.9461, Testing Accuracy: 0.9597\n",
      "\n"
     ]
    },
    {
     "name": "stdout",
     "output_type": "stream",
     "text": [
      "Epoch 70, Loss 0.0521\n",
      "Training Accuracy: 0.9488, Testing Accuracy: 0.9612\n",
      "\n"
     ]
    },
    {
     "name": "stdout",
     "output_type": "stream",
     "text": [
      "Epoch 80, Loss 0.0499\n",
      "Training Accuracy: 0.9505, Testing Accuracy: 0.9617\n",
      "\n"
     ]
    },
    {
     "name": "stdout",
     "output_type": "stream",
     "text": [
      "Epoch 90, Loss 0.0481\n",
      "Training Accuracy: 0.9518, Testing Accuracy: 0.9627\n",
      "\n"
     ]
    },
    {
     "name": "stdout",
     "output_type": "stream",
     "text": [
      "Epoch 100, Loss 0.0466\n",
      "Training Accuracy: 0.9533, Testing Accuracy: 0.9637\n",
      "\n"
     ]
    },
    {
     "name": "stdout",
     "output_type": "stream",
     "text": [
      "Epoch 110, Loss 0.0453\n",
      "Training Accuracy: 0.9542, Testing Accuracy: 0.9647\n",
      "\n"
     ]
    },
    {
     "name": "stdout",
     "output_type": "stream",
     "text": [
      "Epoch 120, Loss 0.0442\n",
      "Training Accuracy: 0.9552, Testing Accuracy: 0.9647\n",
      "\n"
     ]
    },
    {
     "name": "stdout",
     "output_type": "stream",
     "text": [
      "Epoch 130, Loss 0.0432\n",
      "Training Accuracy: 0.9561, Testing Accuracy: 0.9647\n",
      "\n"
     ]
    },
    {
     "name": "stdout",
     "output_type": "stream",
     "text": [
      "Epoch 140, Loss 0.0424\n",
      "Training Accuracy: 0.9569, Testing Accuracy: 0.9652\n",
      "\n"
     ]
    },
    {
     "name": "stdout",
     "output_type": "stream",
     "text": [
      "Epoch 150, Loss 0.0416\n",
      "Training Accuracy: 0.9576, Testing Accuracy: 0.9657\n",
      "\n"
     ]
    },
    {
     "name": "stdout",
     "output_type": "stream",
     "text": [
      "Epoch 160, Loss 0.0409\n",
      "Training Accuracy: 0.9580, Testing Accuracy: 0.9657\n",
      "\n"
     ]
    },
    {
     "name": "stdout",
     "output_type": "stream",
     "text": [
      "Epoch 170, Loss 0.0403\n",
      "Training Accuracy: 0.9583, Testing Accuracy: 0.9652\n",
      "\n"
     ]
    },
    {
     "name": "stdout",
     "output_type": "stream",
     "text": [
      "Epoch 180, Loss 0.0397\n",
      "Training Accuracy: 0.9585, Testing Accuracy: 0.9652\n",
      "\n"
     ]
    },
    {
     "name": "stdout",
     "output_type": "stream",
     "text": [
      "Epoch 190, Loss 0.0391\n",
      "Training Accuracy: 0.9588, Testing Accuracy: 0.9647\n",
      "\n"
     ]
    },
    {
     "name": "stdout",
     "output_type": "stream",
     "text": [
      "Epoch 200, Loss 0.0387\n",
      "Training Accuracy: 0.9592, Testing Accuracy: 0.9652\n",
      "\n"
     ]
    },
    {
     "name": "stdout",
     "output_type": "stream",
     "text": [
      "Epoch 210, Loss 0.0382\n",
      "Training Accuracy: 0.9595, Testing Accuracy: 0.9662\n",
      "\n"
     ]
    },
    {
     "name": "stdout",
     "output_type": "stream",
     "text": [
      "Epoch 220, Loss 0.0378\n",
      "Training Accuracy: 0.9597, Testing Accuracy: 0.9662\n",
      "\n"
     ]
    },
    {
     "name": "stdout",
     "output_type": "stream",
     "text": [
      "Epoch 230, Loss 0.0374\n",
      "Training Accuracy: 0.9604, Testing Accuracy: 0.9662\n",
      "\n"
     ]
    },
    {
     "name": "stdout",
     "output_type": "stream",
     "text": [
      "Epoch 240, Loss 0.037\n",
      "Training Accuracy: 0.9609, Testing Accuracy: 0.9662\n",
      "\n"
     ]
    },
    {
     "data": {
      "text/plain": [
       "0.024590247454817294"
      ]
     },
     "execution_count": 23,
     "metadata": {},
     "output_type": "execute_result"
    }
   ],
   "source": [
    "lr_learner.train_loop(dl)"
   ]
  },
  {
   "cell_type": "code",
   "execution_count": 24,
   "id": "ca410940",
   "metadata": {
    "execution": {
     "iopub.execute_input": "2022-07-15T10:12:44.031635Z",
     "iopub.status.busy": "2022-07-15T10:12:44.030907Z",
     "iopub.status.idle": "2022-07-15T10:12:44.288555Z",
     "shell.execute_reply": "2022-07-15T10:12:44.287646Z"
    },
    "papermill": {
     "duration": 0.3148,
     "end_time": "2022-07-15T10:12:44.288695",
     "exception": false,
     "start_time": "2022-07-15T10:12:43.973895",
     "status": "completed"
    },
    "tags": []
   },
   "outputs": [
    {
     "data": {
      "text/plain": [
       "<matplotlib.legend.Legend at 0x7f342ac7dac8>"
      ]
     },
     "execution_count": 24,
     "metadata": {},
     "output_type": "execute_result"
    },
    {
     "data": {
      "image/png": "[encoded data removed]",
      "text/plain": [
       "<Figure size 1080x720 with 1 Axes>"
      ]
     },
     "metadata": {
      "needs_background": "light"
     },
     "output_type": "display_data"
    }
   ],
   "source": [
    "#comparing the results of NN and LR\n",
    "plt.figure(figsize=(15,10))\n",
    "\n",
    "# Neural Network plots\n",
    "plt.plot(acc_nn.accuracies, 'r-', label = \"Training Accuracies - NN\")\n",
    "plt.plot(acc_nn.test_accuracies, 'g-', label = \"Testing Accuracies - NN\")\n",
    "\n",
    "# Logistic Regression plots\n",
    "plt.plot(acc_lr.accuracies, 'k-', label = \"Training Accuracies - LR\")\n",
    "plt.plot(acc_lr.test_accuracies, 'b-', label = \"Testing Accuracies - LR\")\n",
    "plt.legend()"
   ]
  },
  {
   "cell_type": "markdown",
   "id": "80dfb35c",
   "metadata": {
    "papermill": {
     "duration": 0.047103,
     "end_time": "2022-07-15T10:12:44.383456",
     "exception": false,
     "start_time": "2022-07-15T10:12:44.336353",
     "status": "completed"
    },
    "tags": []
   },
   "source": [
    "#### Plotting the outputs of this layer of the NN.\n"
   ]
  },
  {
   "cell_type": "code",
   "execution_count": 25,
   "id": "45eb2ff5",
   "metadata": {
    "execution": {
     "iopub.execute_input": "2022-07-15T10:12:44.486634Z",
     "iopub.status.busy": "2022-07-15T10:12:44.483255Z",
     "iopub.status.idle": "2022-07-15T10:12:44.509202Z",
     "shell.execute_reply": "2022-07-15T10:12:44.510112Z"
    },
    "papermill": {
     "duration": 0.079062,
     "end_time": "2022-07-15T10:12:44.510285",
     "exception": false,
     "start_time": "2022-07-15T10:12:44.431223",
     "status": "completed"
    },
    "tags": []
   },
   "outputs": [],
   "source": [
    "new_model = Model(layers[:-2])\n",
    "testing_plot = new_model(testing_data_x)"
   ]
  },
  {
   "cell_type": "code",
   "execution_count": 26,
   "id": "4c0a5485",
   "metadata": {
    "execution": {
     "iopub.execute_input": "2022-07-15T10:12:44.612013Z",
     "iopub.status.busy": "2022-07-15T10:12:44.611365Z",
     "iopub.status.idle": "2022-07-15T10:12:44.842676Z",
     "shell.execute_reply": "2022-07-15T10:12:44.842085Z"
    },
    "papermill": {
     "duration": 0.285215,
     "end_time": "2022-07-15T10:12:44.842808",
     "exception": false,
     "start_time": "2022-07-15T10:12:44.557593",
     "status": "completed"
    },
    "tags": []
   },
   "outputs": [
    {
     "data": {
      "text/plain": [
       "Text(0.5, 1.0, 'Outputs')"
      ]
     },
     "execution_count": 26,
     "metadata": {},
     "output_type": "execute_result"
    },
    {
     "data": {
      "image/png": "[encoded data removed]",
      "text/plain": [
       "<Figure size 576x504 with 1 Axes>"
      ]
     },
     "metadata": {
      "needs_background": "light"
     },
     "output_type": "display_data"
    }
   ],
   "source": [
    "# Plotting the scatter plot of points and color coding by class\n",
    "plt.figure(figsize=(8,7))\n",
    "plt.scatter(testing_plot[:,0], testing_plot[:,1], alpha = 0.1, c = y_test.ravel());\n",
    "plt.title('Outputs')"
   ]
  },
  {
   "cell_type": "markdown",
   "id": "a74fcf8f",
   "metadata": {
    "papermill": {
     "duration": 0.049465,
     "end_time": "2022-07-15T10:12:44.942350",
     "exception": false,
     "start_time": "2022-07-15T10:12:44.892885",
     "status": "completed"
    },
    "tags": []
   },
   "source": [
    "Probability contours"
   ]
  },
  {
   "cell_type": "code",
   "execution_count": 27,
   "id": "d0afc8e3",
   "metadata": {
    "execution": {
     "iopub.execute_input": "2022-07-15T10:12:45.081831Z",
     "iopub.status.busy": "2022-07-15T10:12:45.081122Z",
     "iopub.status.idle": "2022-07-15T10:12:45.107066Z",
     "shell.execute_reply": "2022-07-15T10:12:45.105752Z"
    },
    "papermill": {
     "duration": 0.081154,
     "end_time": "2022-07-15T10:12:45.107213",
     "exception": false,
     "start_time": "2022-07-15T10:12:45.026059",
     "status": "completed"
    },
    "tags": []
   },
   "outputs": [],
   "source": [
    "model_prob = Model(layers[-2:]) "
   ]
  },
  {
   "cell_type": "code",
   "execution_count": 28,
   "id": "9b96e238",
   "metadata": {
    "execution": {
     "iopub.execute_input": "2022-07-15T10:12:45.213626Z",
     "iopub.status.busy": "2022-07-15T10:12:45.212896Z",
     "iopub.status.idle": "2022-07-15T10:12:45.229782Z",
     "shell.execute_reply": "2022-07-15T10:12:45.230340Z"
    },
    "papermill": {
     "duration": 0.073674,
     "end_time": "2022-07-15T10:12:45.230515",
     "exception": false,
     "start_time": "2022-07-15T10:12:45.156841",
     "status": "completed"
    },
    "tags": []
   },
   "outputs": [],
   "source": [
    "#creating the x and y ranges according to the above generated plot.\n",
    "x_range = np.linspace(-4, 1, 100) \n",
    "y_range = np.linspace(-6, 6, 100) \n",
    "x_grid, y_grid = np.meshgrid(x_range, y_range) # x_grid and y_grig are of size 100 X 100\n",
    "\n",
    "# converting x_grid and y_grid to continuous arrays\n",
    "x_gridflat = np.ravel(x_grid)\n",
    "y_gridflat = np.ravel(y_grid)\n",
    "\n",
    "# The last layer of the current model takes two columns as input. Hence transpose of np.vstack() is required.\n",
    "X = np.vstack((x_gridflat, y_gridflat)).T\n",
    "\n",
    "prob_contour = model_prob(X).reshape(100,100) "
   ]
  },
  {
   "cell_type": "code",
   "execution_count": 29,
   "id": "da72499a",
   "metadata": {
    "execution": {
     "iopub.execute_input": "2022-07-15T10:12:45.352369Z",
     "iopub.status.busy": "2022-07-15T10:12:45.351574Z",
     "iopub.status.idle": "2022-07-15T10:12:45.637644Z",
     "shell.execute_reply": "2022-07-15T10:12:45.637052Z"
    },
    "papermill": {
     "duration": 0.357798,
     "end_time": "2022-07-15T10:12:45.637781",
     "exception": false,
     "start_time": "2022-07-15T10:12:45.279983",
     "status": "completed"
    },
    "tags": []
   },
   "outputs": [
    {
     "data": {
      "image/png": "[encoded data removed]",
      "text/plain": [
       "<Figure size 720x648 with 1 Axes>"
      ]
     },
     "metadata": {
      "needs_background": "light"
     },
     "output_type": "display_data"
    }
   ],
   "source": [
    "plt.figure(figsize=(10,9))\n",
    "plt.scatter(testing_plot[:,0], testing_plot[:,1], alpha = 0.1, c = y_test.ravel())\n",
    "contours = plt.contour(x_grid,y_grid,prob_contour)\n",
    "plt.title('Probability Contours')\n",
    "plt.clabel(contours, inline = True );"
   ]
  },
  {
   "cell_type": "code",
   "execution_count": null,
   "id": "e81b4ac7",
   "metadata": {
    "papermill": {
     "duration": 0.051761,
     "end_time": "2022-07-15T10:12:45.742082",
     "exception": false,
     "start_time": "2022-07-15T10:12:45.690321",
     "status": "completed"
    },
    "tags": []
   },
   "outputs": [],
   "source": []
  }
 ],
 "metadata": {
  "kernelspec": {
   "display_name": "Python 3",
   "language": "python",
   "name": "python3"
  },
  "language_info": {
   "codemirror_mode": {
    "name": "ipython",
    "version": 3
   },
   "file_extension": ".py",
   "mimetype": "text/x-python",
   "name": "python",
   "nbconvert_exporter": "python",
   "pygments_lexer": "ipython3",
   "version": "3.6.15"
  },
  "papermill": {
   "default_parameters": {},
   "duration": 114.695154,
   "end_time": "2022-07-15T10:12:46.216387",
   "environment_variables": {},
   "exception": null,
   "input_path": "2020-08-11-part2.ipynb",
   "output_path": "2020-08-11-part2.ipynb",
   "parameters": {},
   "start_time": "2022-07-15T10:10:51.521233",
   "version": "2.3.3"
  }
 },
 "nbformat": 4,
 "nbformat_minor": 5
}