{
 "cells": [
  {
   "cell_type": "markdown",
   "id": "98380cd3",
   "metadata": {
    "papermill": {
     "duration": 0.028644,
     "end_time": "2022-04-06T00:34:21.673618",
     "exception": false,
     "start_time": "2022-04-06T00:34:21.644974",
     "status": "completed"
    },
    "tags": []
   },
   "source": [
    "# Distinguish Your Own Digits (DYOD)"
   ]
  },
  {
   "cell_type": "markdown",
   "id": "ef31240d",
   "metadata": {
    "papermill": {
     "duration": 0.024733,
     "end_time": "2022-04-06T00:34:21.722482",
     "exception": false,
     "start_time": "2022-04-06T00:34:21.697749",
     "status": "completed"
    },
    "tags": []
   },
   "source": [
    "You are going to write a classifier that distinguishes between the number 3 and number 8."
   ]
  },
  {
   "cell_type": "code",
   "execution_count": 1,
   "id": "b15c8646",
   "metadata": {
    "execution": {
     "iopub.execute_input": "2022-04-06T00:34:21.779882Z",
     "iopub.status.busy": "2022-04-06T00:34:21.779359Z",
     "iopub.status.idle": "2022-04-06T00:34:21.789394Z",
     "shell.execute_reply": "2022-04-06T00:34:21.789871Z"
    },
    "papermill": {
     "duration": 0.044139,
     "end_time": "2022-04-06T00:34:21.790013",
     "exception": false,
     "start_time": "2022-04-06T00:34:21.745874",
     "status": "completed"
    },
    "tags": []
   },
   "outputs": [],
   "source": [
    "%load_ext autoreload\n",
    "%autoreload 2"
   ]
  },
  {
   "cell_type": "code",
   "execution_count": 2,
   "id": "22ef38dc",
   "metadata": {
    "execution": {
     "iopub.execute_input": "2022-04-06T00:34:21.850237Z",
     "iopub.status.busy": "2022-04-06T00:34:21.846302Z",
     "iopub.status.idle": "2022-04-06T00:34:22.406768Z",
     "shell.execute_reply": "2022-04-06T00:34:22.407240Z"
    },
    "papermill": {
     "duration": 0.593908,
     "end_time": "2022-04-06T00:34:22.407403",
     "exception": false,
     "start_time": "2022-04-06T00:34:21.813495",
     "status": "completed"
    },
    "tags": []
   },
   "outputs": [],
   "source": [
    "%matplotlib inline\n",
    "import numpy as np\n",
    "import matplotlib.pyplot as plt\n",
    "import pandas as pd"
   ]
  },
  {
   "cell_type": "markdown",
   "id": "ba036198",
   "metadata": {
    "papermill": {
     "duration": 0.023576,
     "end_time": "2022-04-06T00:34:22.455615",
     "exception": false,
     "start_time": "2022-04-06T00:34:22.432039",
     "status": "completed"
    },
    "tags": []
   },
   "source": [
    "From the command line run `pip install mnist`. This is a library that will help you bring down the mnist dataset. If you run this from a notebook, you need to put  `!pip install mnist` in a cell by itself."
   ]
  },
  {
   "cell_type": "code",
   "execution_count": 3,
   "id": "bb6ad8a1",
   "metadata": {
    "execution": {
     "iopub.execute_input": "2022-04-06T00:34:22.514673Z",
     "iopub.status.busy": "2022-04-06T00:34:22.514144Z",
     "iopub.status.idle": "2022-04-06T00:34:25.011131Z",
     "shell.execute_reply": "2022-04-06T00:34:25.010581Z"
    },
    "papermill": {
     "duration": 2.531978,
     "end_time": "2022-04-06T00:34:25.011261",
     "exception": false,
     "start_time": "2022-04-06T00:34:22.479283",
     "status": "completed"
    },
    "tags": []
   },
   "outputs": [
    {
     "name": "stdout",
     "output_type": "stream",
     "text": [
      "Collecting mnist\r\n"
     ]
    },
    {
     "name": "stdout",
     "output_type": "stream",
     "text": [
      "  Downloading mnist-0.2.2-py2.py3-none-any.whl (3.5 kB)\r\n",
      "Requirement already satisfied: numpy in /opt/hostedtoolcache/Python/3.6.15/x64/lib/python3.6/site-packages (from mnist) (1.19.5)\r\n"
     ]
    },
    {
     "name": "stdout",
     "output_type": "stream",
     "text": [
      "Installing collected packages: mnist\r\n",
      "Successfully installed mnist-0.2.2\r\n"
     ]
    }
   ],
   "source": [
    "!pip install mnist"
   ]
  },
  {
   "cell_type": "markdown",
   "id": "69df9c9a",
   "metadata": {
    "papermill": {
     "duration": 0.024579,
     "end_time": "2022-04-06T00:34:25.060604",
     "exception": false,
     "start_time": "2022-04-06T00:34:25.036025",
     "status": "completed"
    },
    "tags": []
   },
   "source": [
    "## Preparing the Data"
   ]
  },
  {
   "cell_type": "code",
   "execution_count": 4,
   "id": "7f69d806",
   "metadata": {
    "execution": {
     "iopub.execute_input": "2022-04-06T00:34:25.113139Z",
     "iopub.status.busy": "2022-04-06T00:34:25.112624Z",
     "iopub.status.idle": "2022-04-06T00:34:25.126248Z",
     "shell.execute_reply": "2022-04-06T00:34:25.126635Z"
    },
    "papermill": {
     "duration": 0.041805,
     "end_time": "2022-04-06T00:34:25.126760",
     "exception": false,
     "start_time": "2022-04-06T00:34:25.084955",
     "status": "completed"
    },
    "tags": []
   },
   "outputs": [],
   "source": [
    "import mnist"
   ]
  },
  {
   "cell_type": "code",
   "execution_count": 5,
   "id": "a411e44f",
   "metadata": {
    "execution": {
     "iopub.execute_input": "2022-04-06T00:34:25.194520Z",
     "iopub.status.busy": "2022-04-06T00:34:25.192145Z",
     "iopub.status.idle": "2022-04-06T00:34:25.701575Z",
     "shell.execute_reply": "2022-04-06T00:34:25.701084Z"
    },
    "papermill": {
     "duration": 0.550272,
     "end_time": "2022-04-06T00:34:25.701709",
     "exception": false,
     "start_time": "2022-04-06T00:34:25.151437",
     "status": "completed"
    },
    "tags": []
   },
   "outputs": [],
   "source": [
    "train_images = mnist.train_images()\n",
    "train_labels = mnist.train_labels()"
   ]
  },
  {
   "cell_type": "code",
   "execution_count": 6,
   "id": "dceab3a5",
   "metadata": {
    "execution": {
     "iopub.execute_input": "2022-04-06T00:34:25.771727Z",
     "iopub.status.busy": "2022-04-06T00:34:25.770941Z",
     "iopub.status.idle": "2022-04-06T00:34:25.776250Z",
     "shell.execute_reply": "2022-04-06T00:34:25.775816Z"
    },
    "papermill": {
     "duration": 0.050037,
     "end_time": "2022-04-06T00:34:25.776356",
     "exception": false,
     "start_time": "2022-04-06T00:34:25.726319",
     "status": "completed"
    },
    "tags": []
   },
   "outputs": [
    {
     "data": {
      "text/plain": [
       "((60000, 28, 28), (60000,))"
      ]
     },
     "execution_count": 6,
     "metadata": {},
     "output_type": "execute_result"
    }
   ],
   "source": [
    "train_images.shape, train_labels.shape"
   ]
  },
  {
   "cell_type": "code",
   "execution_count": 7,
   "id": "f50dc2bb",
   "metadata": {
    "execution": {
     "iopub.execute_input": "2022-04-06T00:34:25.843304Z",
     "iopub.status.busy": "2022-04-06T00:34:25.842800Z",
     "iopub.status.idle": "2022-04-06T00:34:26.004933Z",
     "shell.execute_reply": "2022-04-06T00:34:26.005394Z"
    },
    "papermill": {
     "duration": 0.204595,
     "end_time": "2022-04-06T00:34:26.005562",
     "exception": false,
     "start_time": "2022-04-06T00:34:25.800967",
     "status": "completed"
    },
    "tags": []
   },
   "outputs": [],
   "source": [
    "test_images = mnist.test_images()\n",
    "test_labels = mnist.test_labels()"
   ]
  },
  {
   "cell_type": "code",
   "execution_count": 8,
   "id": "fc38cf1b",
   "metadata": {
    "execution": {
     "iopub.execute_input": "2022-04-06T00:34:26.070209Z",
     "iopub.status.busy": "2022-04-06T00:34:26.058371Z",
     "iopub.status.idle": "2022-04-06T00:34:26.075712Z",
     "shell.execute_reply": "2022-04-06T00:34:26.076422Z"
    },
    "papermill": {
     "duration": 0.046008,
     "end_time": "2022-04-06T00:34:26.076566",
     "exception": false,
     "start_time": "2022-04-06T00:34:26.030558",
     "status": "completed"
    },
    "tags": []
   },
   "outputs": [
    {
     "data": {
      "text/plain": [
       "((10000, 28, 28), (10000,))"
      ]
     },
     "execution_count": 8,
     "metadata": {},
     "output_type": "execute_result"
    }
   ],
   "source": [
    "test_images.shape, test_labels.shape"
   ]
  },
  {
   "cell_type": "code",
   "execution_count": 9,
   "id": "f9ed8fe0",
   "metadata": {
    "execution": {
     "iopub.execute_input": "2022-04-06T00:34:26.130255Z",
     "iopub.status.busy": "2022-04-06T00:34:26.129658Z",
     "iopub.status.idle": "2022-04-06T00:34:26.264633Z",
     "shell.execute_reply": "2022-04-06T00:34:26.265110Z"
    },
    "papermill": {
     "duration": 0.163671,
     "end_time": "2022-04-06T00:34:26.265261",
     "exception": false,
     "start_time": "2022-04-06T00:34:26.101590",
     "status": "completed"
    },
    "tags": []
   },
   "outputs": [
    {
     "name": "stdout",
     "output_type": "stream",
     "text": [
      "2\n"
     ]
    },
    {
     "data": {
      "text/plain": [
       "<matplotlib.image.AxesImage at 0x7f917cbe8c18>"
      ]
     },
     "execution_count": 9,
     "metadata": {},
     "output_type": "execute_result"
    },
    {
     "data": {
      "image/png": "[encoded data removed]",
      "text/plain": [
       "<Figure size 432x288 with 1 Axes>"
      ]
     },
     "metadata": {
      "needs_background": "light"
     },
     "output_type": "display_data"
    }
   ],
   "source": [
    "image_index = 7776 # You may select anything up to 60,000\n",
    "print(train_labels[image_index]) \n",
    "plt.imshow(train_images[image_index], cmap='Greys')"
   ]
  },
  {
   "cell_type": "markdown",
   "id": "a8d2388d",
   "metadata": {
    "papermill": {
     "duration": 0.026574,
     "end_time": "2022-04-06T00:34:26.318490",
     "exception": false,
     "start_time": "2022-04-06T00:34:26.291916",
     "status": "completed"
    },
    "tags": []
   },
   "source": [
    "## Filter data to get 3 and 8 out"
   ]
  },
  {
   "cell_type": "code",
   "execution_count": 10,
   "id": "776f7fc7",
   "metadata": {
    "execution": {
     "iopub.execute_input": "2022-04-06T00:34:26.377381Z",
     "iopub.status.busy": "2022-04-06T00:34:26.376856Z",
     "iopub.status.idle": "2022-04-06T00:34:26.393472Z",
     "shell.execute_reply": "2022-04-06T00:34:26.393985Z"
    },
    "papermill": {
     "duration": 0.049514,
     "end_time": "2022-04-06T00:34:26.394114",
     "exception": false,
     "start_time": "2022-04-06T00:34:26.344600",
     "status": "completed"
    },
    "tags": []
   },
   "outputs": [],
   "source": [
    "train_filter = np.where((train_labels == 3 ) | (train_labels == 8))\n",
    "test_filter = np.where((test_labels == 3) | (test_labels == 8))\n",
    "X_train, y_train = train_images[train_filter], train_labels[train_filter]\n",
    "X_test, y_test = test_images[test_filter], test_labels[test_filter]"
   ]
  },
  {
   "cell_type": "markdown",
   "id": "948f0b7e",
   "metadata": {
    "papermill": {
     "duration": 0.026079,
     "end_time": "2022-04-06T00:34:26.446266",
     "exception": false,
     "start_time": "2022-04-06T00:34:26.420187",
     "status": "completed"
    },
    "tags": []
   },
   "source": [
    "We normalize the pizel values in the 0 to 1 range"
   ]
  },
  {
   "cell_type": "code",
   "execution_count": 11,
   "id": "ee4c2166",
   "metadata": {
    "execution": {
     "iopub.execute_input": "2022-04-06T00:34:26.503013Z",
     "iopub.status.busy": "2022-04-06T00:34:26.502496Z",
     "iopub.status.idle": "2022-04-06T00:34:26.549078Z",
     "shell.execute_reply": "2022-04-06T00:34:26.549592Z"
    },
    "papermill": {
     "duration": 0.077601,
     "end_time": "2022-04-06T00:34:26.549762",
     "exception": false,
     "start_time": "2022-04-06T00:34:26.472161",
     "status": "completed"
    },
    "tags": []
   },
   "outputs": [],
   "source": [
    "X_train = X_train/255.\n",
    "X_test = X_test/255."
   ]
  },
  {
   "cell_type": "markdown",
   "id": "ddcf4fab",
   "metadata": {
    "papermill": {
     "duration": 0.027322,
     "end_time": "2022-04-06T00:34:26.603753",
     "exception": false,
     "start_time": "2022-04-06T00:34:26.576431",
     "status": "completed"
    },
    "tags": []
   },
   "source": [
    "And setup the labels as 1 (when the digit is 3) and 0 (when the digit is 8)"
   ]
  },
  {
   "cell_type": "code",
   "execution_count": 12,
   "id": "7dc908f2",
   "metadata": {
    "execution": {
     "iopub.execute_input": "2022-04-06T00:34:26.665003Z",
     "iopub.status.busy": "2022-04-06T00:34:26.664468Z",
     "iopub.status.idle": "2022-04-06T00:34:26.673255Z",
     "shell.execute_reply": "2022-04-06T00:34:26.672830Z"
    },
    "papermill": {
     "duration": 0.043459,
     "end_time": "2022-04-06T00:34:26.673368",
     "exception": false,
     "start_time": "2022-04-06T00:34:26.629909",
     "status": "completed"
    },
    "tags": []
   },
   "outputs": [],
   "source": [
    "y_train = 1*(y_train==3)\n",
    "y_test = 1*(y_test==3)"
   ]
  },
  {
   "cell_type": "code",
   "execution_count": 13,
   "id": "01e4e969",
   "metadata": {
    "execution": {
     "iopub.execute_input": "2022-04-06T00:34:26.738718Z",
     "iopub.status.busy": "2022-04-06T00:34:26.738193Z",
     "iopub.status.idle": "2022-04-06T00:34:26.746694Z",
     "shell.execute_reply": "2022-04-06T00:34:26.746009Z"
    },
    "papermill": {
     "duration": 0.047324,
     "end_time": "2022-04-06T00:34:26.746802",
     "exception": false,
     "start_time": "2022-04-06T00:34:26.699478",
     "status": "completed"
    },
    "tags": []
   },
   "outputs": [
    {
     "data": {
      "text/plain": [
       "((11982, 28, 28), (1984, 28, 28))"
      ]
     },
     "execution_count": 13,
     "metadata": {},
     "output_type": "execute_result"
    }
   ],
   "source": [
    "X_train.shape, X_test.shape"
   ]
  },
  {
   "cell_type": "markdown",
   "id": "5ccf3f85",
   "metadata": {
    "papermill": {
     "duration": 0.026234,
     "end_time": "2022-04-06T00:34:26.799121",
     "exception": false,
     "start_time": "2022-04-06T00:34:26.772887",
     "status": "completed"
    },
    "tags": []
   },
   "source": [
    "We reshape the data to flatten the image pixels into a set of features or co-variates:"
   ]
  },
  {
   "cell_type": "code",
   "execution_count": 14,
   "id": "5286a4a3",
   "metadata": {
    "execution": {
     "iopub.execute_input": "2022-04-06T00:34:26.866174Z",
     "iopub.status.busy": "2022-04-06T00:34:26.854883Z",
     "iopub.status.idle": "2022-04-06T00:34:26.871315Z",
     "shell.execute_reply": "2022-04-06T00:34:26.870661Z"
    },
    "papermill": {
     "duration": 0.045765,
     "end_time": "2022-04-06T00:34:26.871424",
     "exception": false,
     "start_time": "2022-04-06T00:34:26.825659",
     "status": "completed"
    },
    "tags": []
   },
   "outputs": [
    {
     "data": {
      "text/plain": [
       "((11982, 784), (1984, 784))"
      ]
     },
     "execution_count": 14,
     "metadata": {},
     "output_type": "execute_result"
    }
   ],
   "source": [
    "X_train = X_train.reshape(X_train.shape[0], -1)\n",
    "X_test = X_test.reshape(X_test.shape[0], -1)\n",
    "X_train.shape, X_test.shape"
   ]
  },
  {
   "cell_type": "code",
   "execution_count": 15,
   "id": "73c5f88a",
   "metadata": {
    "execution": {
     "iopub.execute_input": "2022-04-06T00:34:26.937146Z",
     "iopub.status.busy": "2022-04-06T00:34:26.930089Z",
     "iopub.status.idle": "2022-04-06T00:34:26.947689Z",
     "shell.execute_reply": "2022-04-06T00:34:26.948071Z"
    },
    "papermill": {
     "duration": 0.050327,
     "end_time": "2022-04-06T00:34:26.948194",
     "exception": false,
     "start_time": "2022-04-06T00:34:26.897867",
     "status": "completed"
    },
    "tags": []
   },
   "outputs": [],
   "source": [
    "#Impoting functions from 'Kudzu'\n",
    "from kudzu.model import Model\n",
    "from kudzu.train import Learner\n",
    "from kudzu.optim import GD\n",
    "from kudzu.data import Data, Sampler,Dataloader\n",
    "\n",
    "from kudzu.callbacks import AccCallback\n",
    "from kudzu.callbacks import ClfCallback\n",
    "\n",
    "from kudzu.loss import MSE\n",
    "\n",
    "from kudzu.layer import Sigmoid,Relu\n",
    "from kudzu.layer import Affine"
   ]
  },
  {
   "cell_type": "markdown",
   "id": "bc01172a",
   "metadata": {
    "papermill": {
     "duration": 0.026296,
     "end_time": "2022-04-06T00:34:27.000934",
     "exception": false,
     "start_time": "2022-04-06T00:34:26.974638",
     "status": "completed"
    },
    "tags": []
   },
   "source": [
    "### Let us create a `Config` class, to store important parameters. \n",
    "This class essentially plays the role of a dictionary."
   ]
  },
  {
   "cell_type": "code",
   "execution_count": 16,
   "id": "978281aa",
   "metadata": {
    "execution": {
     "iopub.execute_input": "2022-04-06T00:34:27.069378Z",
     "iopub.status.busy": "2022-04-06T00:34:27.062148Z",
     "iopub.status.idle": "2022-04-06T00:34:27.071989Z",
     "shell.execute_reply": "2022-04-06T00:34:27.072399Z"
    },
    "papermill": {
     "duration": 0.044728,
     "end_time": "2022-04-06T00:34:27.072521",
     "exception": false,
     "start_time": "2022-04-06T00:34:27.027793",
     "status": "completed"
    },
    "tags": []
   },
   "outputs": [],
   "source": [
    "class Config:\n",
    "    pass\n",
    "config = Config()\n",
    "config.lr = 0.001\n",
    "config.num_epochs = 250\n",
    "config.bs = 50"
   ]
  },
  {
   "cell_type": "markdown",
   "id": "1385fa59",
   "metadata": {
    "papermill": {
     "duration": 0.026503,
     "end_time": "2022-04-06T00:34:27.125539",
     "exception": false,
     "start_time": "2022-04-06T00:34:27.099036",
     "status": "completed"
    },
    "tags": []
   },
   "source": [
    "### Running Models with the Training data\n",
    "Details about the network layers:\n",
    "- A first affine layer has 784 inputs and does 100 affine transforms. These are followed by a Relu\n",
    "- A second affine layer has 100 inputs from the 100 activations of the past layer, and does 100 affine transforms. These are followed by a Relu\n",
    "- A third affine layer has 100 activations and does 2 affine transformations to create an embedding for visualization. There is no non-linearity here.\n",
    "- A final \"logistic regression\" which has an affine transform from 2 inputs to 1 output, which is squeezed through a sigmoid.\n"
   ]
  },
  {
   "cell_type": "code",
   "execution_count": 17,
   "id": "2b9c66db",
   "metadata": {
    "execution": {
     "iopub.execute_input": "2022-04-06T00:34:27.195204Z",
     "iopub.status.busy": "2022-04-06T00:34:27.194693Z",
     "iopub.status.idle": "2022-04-06T00:34:27.200766Z",
     "shell.execute_reply": "2022-04-06T00:34:27.200359Z"
    },
    "papermill": {
     "duration": 0.048781,
     "end_time": "2022-04-06T00:34:27.200873",
     "exception": false,
     "start_time": "2022-04-06T00:34:27.152092",
     "status": "completed"
    },
    "tags": []
   },
   "outputs": [],
   "source": [
    "data = Data(X_train, y_train.reshape(-1,1))\n",
    "sampler = Sampler(data, config.bs, shuffle=True)\n",
    "\n",
    "dl = Dataloader(data, sampler)\n",
    "\n",
    "opt = GD(config.lr)\n",
    "loss = MSE()"
   ]
  },
  {
   "cell_type": "code",
   "execution_count": 18,
   "id": "b275e4c2",
   "metadata": {
    "execution": {
     "iopub.execute_input": "2022-04-06T00:34:27.270751Z",
     "iopub.status.busy": "2022-04-06T00:34:27.270235Z",
     "iopub.status.idle": "2022-04-06T00:34:27.275291Z",
     "shell.execute_reply": "2022-04-06T00:34:27.275980Z"
    },
    "papermill": {
     "duration": 0.04869,
     "end_time": "2022-04-06T00:34:27.276112",
     "exception": false,
     "start_time": "2022-04-06T00:34:27.227422",
     "status": "completed"
    },
    "tags": []
   },
   "outputs": [],
   "source": [
    "training_data_x = X_train\n",
    "testing_data_x = X_test\n",
    "training_data_y = y_train.reshape(-1,1)\n",
    "testing_data_y = y_test.reshape(-1,1)"
   ]
  },
  {
   "cell_type": "code",
   "execution_count": 19,
   "id": "76951160",
   "metadata": {
    "execution": {
     "iopub.execute_input": "2022-04-06T00:34:27.334568Z",
     "iopub.status.busy": "2022-04-06T00:34:27.332091Z",
     "iopub.status.idle": "2022-04-06T00:34:27.347079Z",
     "shell.execute_reply": "2022-04-06T00:34:27.346648Z"
    },
    "papermill": {
     "duration": 0.044617,
     "end_time": "2022-04-06T00:34:27.347182",
     "exception": false,
     "start_time": "2022-04-06T00:34:27.302565",
     "status": "completed"
    },
    "tags": []
   },
   "outputs": [
    {
     "name": "stdout",
     "output_type": "stream",
     "text": [
      "xavier\n",
      "xavier\n",
      "xavier\n",
      "xavier\n",
      "xavier\n"
     ]
    }
   ],
   "source": [
    "layers = [Affine(\"first\", 784, 100), Relu(\"first\"), Affine(\"second\", 100, 100), Relu(\"second\"), Affine(\"third\", 100, 2), Affine(\"last\", 2, 1), Sigmoid(\"last\")]\n",
    "model_nn = Model(layers)\n",
    "model_lr = Model([Affine(\"logits\", 784, 1), Sigmoid(\"sigmoid\")])"
   ]
  },
  {
   "cell_type": "code",
   "execution_count": 20,
   "id": "6eede77a",
   "metadata": {
    "execution": {
     "iopub.execute_input": "2022-04-06T00:34:27.414779Z",
     "iopub.status.busy": "2022-04-06T00:34:27.414252Z",
     "iopub.status.idle": "2022-04-06T00:34:27.420698Z",
     "shell.execute_reply": "2022-04-06T00:34:27.421081Z"
    },
    "papermill": {
     "duration": 0.047169,
     "end_time": "2022-04-06T00:34:27.421204",
     "exception": false,
     "start_time": "2022-04-06T00:34:27.374035",
     "status": "completed"
    },
    "tags": []
   },
   "outputs": [],
   "source": [
    "nn_learner = Learner(loss, model_nn, opt, config.num_epochs)\n",
    "acc_nn = ClfCallback(nn_learner, config.bs, training_data_x , testing_data_x, training_data_y, testing_data_y)\n",
    "nn_learner.set_callbacks([acc_nn])"
   ]
  },
  {
   "cell_type": "code",
   "execution_count": 21,
   "id": "877b6cc7",
   "metadata": {
    "execution": {
     "iopub.execute_input": "2022-04-06T00:34:27.490780Z",
     "iopub.status.busy": "2022-04-06T00:34:27.490268Z",
     "iopub.status.idle": "2022-04-06T00:34:27.496362Z",
     "shell.execute_reply": "2022-04-06T00:34:27.496770Z"
    },
    "papermill": {
     "duration": 0.048949,
     "end_time": "2022-04-06T00:34:27.496891",
     "exception": false,
     "start_time": "2022-04-06T00:34:27.447942",
     "status": "completed"
    },
    "tags": []
   },
   "outputs": [],
   "source": [
    "lr_learner = Learner(loss, model_lr, opt, config.num_epochs)\n",
    "acc_lr = ClfCallback(lr_learner, config.bs, training_data_x , testing_data_x, training_data_y, testing_data_y)\n",
    "lr_learner.set_callbacks([acc_lr])"
   ]
  },
  {
   "cell_type": "code",
   "execution_count": 22,
   "id": "d9b133c3",
   "metadata": {
    "execution": {
     "iopub.execute_input": "2022-04-06T00:34:27.562154Z",
     "iopub.status.busy": "2022-04-06T00:34:27.558132Z",
     "iopub.status.idle": "2022-04-06T00:35:42.878231Z",
     "shell.execute_reply": "2022-04-06T00:35:42.878721Z"
    },
    "papermill": {
     "duration": 75.355116,
     "end_time": "2022-04-06T00:35:42.878861",
     "exception": false,
     "start_time": "2022-04-06T00:34:27.523745",
     "status": "completed"
    },
    "tags": []
   },
   "outputs": [
    {
     "name": "stdout",
     "output_type": "stream",
     "text": [
      "Epoch 0, Loss 0.2336\n",
      "Training Accuracy: 0.7406, Testing Accuracy: 0.7445\n",
      "\n"
     ]
    },
    {
     "name": "stdout",
     "output_type": "stream",
     "text": [
      "Epoch 10, Loss 0.0695\n",
      "Training Accuracy: 0.9294, Testing Accuracy: 0.9380\n",
      "\n"
     ]
    },
    {
     "name": "stdout",
     "output_type": "stream",
     "text": [
      "Epoch 20, Loss 0.0464\n",
      "Training Accuracy: 0.9490, Testing Accuracy: 0.9607\n",
      "\n"
     ]
    },
    {
     "name": "stdout",
     "output_type": "stream",
     "text": [
      "Epoch 30, Loss 0.0378\n",
      "Training Accuracy: 0.9575, Testing Accuracy: 0.9672\n",
      "\n"
     ]
    },
    {
     "name": "stdout",
     "output_type": "stream",
     "text": [
      "Epoch 40, Loss 0.0333\n",
      "Training Accuracy: 0.9619, Testing Accuracy: 0.9677\n",
      "\n"
     ]
    },
    {
     "name": "stdout",
     "output_type": "stream",
     "text": [
      "Epoch 50, Loss 0.0304\n",
      "Training Accuracy: 0.9652, Testing Accuracy: 0.9688\n",
      "\n"
     ]
    },
    {
     "name": "stdout",
     "output_type": "stream",
     "text": [
      "Epoch 60, Loss 0.0283\n",
      "Training Accuracy: 0.9675, Testing Accuracy: 0.9693\n",
      "\n"
     ]
    },
    {
     "name": "stdout",
     "output_type": "stream",
     "text": [
      "Epoch 70, Loss 0.0267\n",
      "Training Accuracy: 0.9690, Testing Accuracy: 0.9703\n",
      "\n"
     ]
    },
    {
     "name": "stdout",
     "output_type": "stream",
     "text": [
      "Epoch 80, Loss 0.0254\n",
      "Training Accuracy: 0.9703, Testing Accuracy: 0.9728\n",
      "\n"
     ]
    },
    {
     "name": "stdout",
     "output_type": "stream",
     "text": [
      "Epoch 90, Loss 0.0243\n",
      "Training Accuracy: 0.9715, Testing Accuracy: 0.9728\n",
      "\n"
     ]
    },
    {
     "name": "stdout",
     "output_type": "stream",
     "text": [
      "Epoch 100, Loss 0.0234\n",
      "Training Accuracy: 0.9730, Testing Accuracy: 0.9733\n",
      "\n"
     ]
    },
    {
     "name": "stdout",
     "output_type": "stream",
     "text": [
      "Epoch 110, Loss 0.0226\n",
      "Training Accuracy: 0.9743, Testing Accuracy: 0.9743\n",
      "\n"
     ]
    },
    {
     "name": "stdout",
     "output_type": "stream",
     "text": [
      "Epoch 120, Loss 0.0218\n",
      "Training Accuracy: 0.9751, Testing Accuracy: 0.9758\n",
      "\n"
     ]
    },
    {
     "name": "stdout",
     "output_type": "stream",
     "text": [
      "Epoch 130, Loss 0.0212\n",
      "Training Accuracy: 0.9757, Testing Accuracy: 0.9763\n",
      "\n"
     ]
    },
    {
     "name": "stdout",
     "output_type": "stream",
     "text": [
      "Epoch 140, Loss 0.0206\n",
      "Training Accuracy: 0.9765, Testing Accuracy: 0.9768\n",
      "\n"
     ]
    },
    {
     "name": "stdout",
     "output_type": "stream",
     "text": [
      "Epoch 150, Loss 0.02\n",
      "Training Accuracy: 0.9774, Testing Accuracy: 0.9763\n",
      "\n"
     ]
    },
    {
     "name": "stdout",
     "output_type": "stream",
     "text": [
      "Epoch 160, Loss 0.0195\n",
      "Training Accuracy: 0.9781, Testing Accuracy: 0.9773\n",
      "\n"
     ]
    },
    {
     "name": "stdout",
     "output_type": "stream",
     "text": [
      "Epoch 170, Loss 0.019\n",
      "Training Accuracy: 0.9789, Testing Accuracy: 0.9778\n",
      "\n"
     ]
    },
    {
     "name": "stdout",
     "output_type": "stream",
     "text": [
      "Epoch 180, Loss 0.0185\n",
      "Training Accuracy: 0.9796, Testing Accuracy: 0.9778\n",
      "\n"
     ]
    },
    {
     "name": "stdout",
     "output_type": "stream",
     "text": [
      "Epoch 190, Loss 0.0181\n",
      "Training Accuracy: 0.9800, Testing Accuracy: 0.9778\n",
      "\n"
     ]
    },
    {
     "name": "stdout",
     "output_type": "stream",
     "text": [
      "Epoch 200, Loss 0.0177\n",
      "Training Accuracy: 0.9803, Testing Accuracy: 0.9773\n",
      "\n"
     ]
    },
    {
     "name": "stdout",
     "output_type": "stream",
     "text": [
      "Epoch 210, Loss 0.0173\n",
      "Training Accuracy: 0.9807, Testing Accuracy: 0.9778\n",
      "\n"
     ]
    },
    {
     "name": "stdout",
     "output_type": "stream",
     "text": [
      "Epoch 220, Loss 0.0169\n",
      "Training Accuracy: 0.9810, Testing Accuracy: 0.9783\n",
      "\n"
     ]
    },
    {
     "name": "stdout",
     "output_type": "stream",
     "text": [
      "Epoch 230, Loss 0.0165\n",
      "Training Accuracy: 0.9815, Testing Accuracy: 0.9783\n",
      "\n"
     ]
    },
    {
     "name": "stdout",
     "output_type": "stream",
     "text": [
      "Epoch 240, Loss 0.0161\n",
      "Training Accuracy: 0.9822, Testing Accuracy: 0.9783\n",
      "\n"
     ]
    },
    {
     "data": {
      "text/plain": [
       "0.0033357464462369013"
      ]
     },
     "execution_count": 22,
     "metadata": {},
     "output_type": "execute_result"
    }
   ],
   "source": [
    "nn_learner.train_loop(dl)"
   ]
  },
  {
   "cell_type": "code",
   "execution_count": 23,
   "id": "e0163366",
   "metadata": {
    "execution": {
     "iopub.execute_input": "2022-04-06T00:35:42.954970Z",
     "iopub.status.busy": "2022-04-06T00:35:42.954436Z",
     "iopub.status.idle": "2022-04-06T00:35:56.599674Z",
     "shell.execute_reply": "2022-04-06T00:35:56.600417Z"
    },
    "papermill": {
     "duration": 13.687607,
     "end_time": "2022-04-06T00:35:56.600569",
     "exception": false,
     "start_time": "2022-04-06T00:35:42.912962",
     "status": "completed"
    },
    "tags": []
   },
   "outputs": [
    {
     "name": "stdout",
     "output_type": "stream",
     "text": [
      "Epoch 0, Loss 0.2511\n",
      "Training Accuracy: 0.6501, Testing Accuracy: 0.6568\n",
      "\n"
     ]
    },
    {
     "name": "stdout",
     "output_type": "stream",
     "text": [
      "Epoch 10, Loss 0.1048\n",
      "Training Accuracy: 0.9062, Testing Accuracy: 0.9194\n",
      "\n"
     ]
    },
    {
     "name": "stdout",
     "output_type": "stream",
     "text": [
      "Epoch 20, Loss 0.0798\n",
      "Training Accuracy: 0.9267, Testing Accuracy: 0.9425\n",
      "\n"
     ]
    },
    {
     "name": "stdout",
     "output_type": "stream",
     "text": [
      "Epoch 30, Loss 0.0684\n",
      "Training Accuracy: 0.9362, Testing Accuracy: 0.9471\n",
      "\n"
     ]
    },
    {
     "name": "stdout",
     "output_type": "stream",
     "text": [
      "Epoch 40, Loss 0.0617\n",
      "Training Accuracy: 0.9427, Testing Accuracy: 0.9531\n",
      "\n"
     ]
    },
    {
     "name": "stdout",
     "output_type": "stream",
     "text": [
      "Epoch 50, Loss 0.0571\n",
      "Training Accuracy: 0.9469, Testing Accuracy: 0.9561\n",
      "\n"
     ]
    },
    {
     "name": "stdout",
     "output_type": "stream",
     "text": [
      "Epoch 60, Loss 0.0537\n",
      "Training Accuracy: 0.9489, Testing Accuracy: 0.9577\n",
      "\n"
     ]
    },
    {
     "name": "stdout",
     "output_type": "stream",
     "text": [
      "Epoch 70, Loss 0.0511\n",
      "Training Accuracy: 0.9505, Testing Accuracy: 0.9597\n",
      "\n"
     ]
    },
    {
     "name": "stdout",
     "output_type": "stream",
     "text": [
      "Epoch 80, Loss 0.0491\n",
      "Training Accuracy: 0.9523, Testing Accuracy: 0.9602\n",
      "\n"
     ]
    },
    {
     "name": "stdout",
     "output_type": "stream",
     "text": [
      "Epoch 90, Loss 0.0474\n",
      "Training Accuracy: 0.9538, Testing Accuracy: 0.9602\n",
      "\n"
     ]
    },
    {
     "name": "stdout",
     "output_type": "stream",
     "text": [
      "Epoch 100, Loss 0.046\n",
      "Training Accuracy: 0.9547, Testing Accuracy: 0.9612\n",
      "\n"
     ]
    },
    {
     "name": "stdout",
     "output_type": "stream",
     "text": [
      "Epoch 110, Loss 0.0447\n",
      "Training Accuracy: 0.9563, Testing Accuracy: 0.9632\n",
      "\n"
     ]
    },
    {
     "name": "stdout",
     "output_type": "stream",
     "text": [
      "Epoch 120, Loss 0.0437\n",
      "Training Accuracy: 0.9568, Testing Accuracy: 0.9642\n",
      "\n"
     ]
    },
    {
     "name": "stdout",
     "output_type": "stream",
     "text": [
      "Epoch 130, Loss 0.0427\n",
      "Training Accuracy: 0.9572, Testing Accuracy: 0.9647\n",
      "\n"
     ]
    },
    {
     "name": "stdout",
     "output_type": "stream",
     "text": [
      "Epoch 140, Loss 0.0419\n",
      "Training Accuracy: 0.9578, Testing Accuracy: 0.9652\n",
      "\n"
     ]
    },
    {
     "name": "stdout",
     "output_type": "stream",
     "text": [
      "Epoch 150, Loss 0.0412\n",
      "Training Accuracy: 0.9584, Testing Accuracy: 0.9667\n",
      "\n"
     ]
    },
    {
     "name": "stdout",
     "output_type": "stream",
     "text": [
      "Epoch 160, Loss 0.0405\n",
      "Training Accuracy: 0.9593, Testing Accuracy: 0.9667\n",
      "\n"
     ]
    },
    {
     "name": "stdout",
     "output_type": "stream",
     "text": [
      "Epoch 170, Loss 0.0399\n",
      "Training Accuracy: 0.9599, Testing Accuracy: 0.9672\n",
      "\n"
     ]
    },
    {
     "name": "stdout",
     "output_type": "stream",
     "text": [
      "Epoch 180, Loss 0.0393\n",
      "Training Accuracy: 0.9602, Testing Accuracy: 0.9672\n",
      "\n"
     ]
    },
    {
     "name": "stdout",
     "output_type": "stream",
     "text": [
      "Epoch 190, Loss 0.0388\n",
      "Training Accuracy: 0.9606, Testing Accuracy: 0.9672\n",
      "\n"
     ]
    },
    {
     "name": "stdout",
     "output_type": "stream",
     "text": [
      "Epoch 200, Loss 0.0383\n",
      "Training Accuracy: 0.9609, Testing Accuracy: 0.9672\n",
      "\n"
     ]
    },
    {
     "name": "stdout",
     "output_type": "stream",
     "text": [
      "Epoch 210, Loss 0.0379\n",
      "Training Accuracy: 0.9613, Testing Accuracy: 0.9672\n",
      "\n"
     ]
    },
    {
     "name": "stdout",
     "output_type": "stream",
     "text": [
      "Epoch 220, Loss 0.0375\n",
      "Training Accuracy: 0.9617, Testing Accuracy: 0.9682\n",
      "\n"
     ]
    },
    {
     "name": "stdout",
     "output_type": "stream",
     "text": [
      "Epoch 230, Loss 0.0371\n",
      "Training Accuracy: 0.9619, Testing Accuracy: 0.9688\n",
      "\n"
     ]
    },
    {
     "name": "stdout",
     "output_type": "stream",
     "text": [
      "Epoch 240, Loss 0.0367\n",
      "Training Accuracy: 0.9619, Testing Accuracy: 0.9688\n",
      "\n"
     ]
    },
    {
     "data": {
      "text/plain": [
       "0.029904165995652734"
      ]
     },
     "execution_count": 23,
     "metadata": {},
     "output_type": "execute_result"
    }
   ],
   "source": [
    "lr_learner.train_loop(dl)"
   ]
  },
  {
   "cell_type": "code",
   "execution_count": 24,
   "id": "ca410940",
   "metadata": {
    "execution": {
     "iopub.execute_input": "2022-04-06T00:35:56.694939Z",
     "iopub.status.busy": "2022-04-06T00:35:56.694389Z",
     "iopub.status.idle": "2022-04-06T00:35:56.927284Z",
     "shell.execute_reply": "2022-04-06T00:35:56.926815Z"
    },
    "papermill": {
     "duration": 0.285417,
     "end_time": "2022-04-06T00:35:56.927406",
     "exception": false,
     "start_time": "2022-04-06T00:35:56.641989",
     "status": "completed"
    },
    "tags": []
   },
   "outputs": [
    {
     "data": {
      "text/plain": [
       "<matplotlib.legend.Legend at 0x7f914c40cc18>"
      ]
     },
     "execution_count": 24,
     "metadata": {},
     "output_type": "execute_result"
    },
    {
     "data": {
      "image/png": "[encoded data removed]",
      "text/plain": [
       "<Figure size 1080x720 with 1 Axes>"
      ]
     },
     "metadata": {
      "needs_background": "light"
     },
     "output_type": "display_data"
    }
   ],
   "source": [
    "#comparing the results of NN and LR\n",
    "plt.figure(figsize=(15,10))\n",
    "\n",
    "# Neural Network plots\n",
    "plt.plot(acc_nn.accuracies, 'r-', label = \"Training Accuracies - NN\")\n",
    "plt.plot(acc_nn.test_accuracies, 'g-', label = \"Testing Accuracies - NN\")\n",
    "\n",
    "# Logistic Regression plots\n",
    "plt.plot(acc_lr.accuracies, 'k-', label = \"Training Accuracies - LR\")\n",
    "plt.plot(acc_lr.test_accuracies, 'b-', label = \"Testing Accuracies - LR\")\n",
    "plt.legend()"
   ]
  },
  {
   "cell_type": "markdown",
   "id": "80dfb35c",
   "metadata": {
    "papermill": {
     "duration": 0.042018,
     "end_time": "2022-04-06T00:35:57.011880",
     "exception": false,
     "start_time": "2022-04-06T00:35:56.969862",
     "status": "completed"
    },
    "tags": []
   },
   "source": [
    "#### Plotting the outputs of this layer of the NN.\n"
   ]
  },
  {
   "cell_type": "code",
   "execution_count": 25,
   "id": "45eb2ff5",
   "metadata": {
    "execution": {
     "iopub.execute_input": "2022-04-06T00:35:57.111574Z",
     "iopub.status.busy": "2022-04-06T00:35:57.110641Z",
     "iopub.status.idle": "2022-04-06T00:35:57.124211Z",
     "shell.execute_reply": "2022-04-06T00:35:57.124640Z"
    },
    "papermill": {
     "duration": 0.070679,
     "end_time": "2022-04-06T00:35:57.124779",
     "exception": false,
     "start_time": "2022-04-06T00:35:57.054100",
     "status": "completed"
    },
    "tags": []
   },
   "outputs": [],
   "source": [
    "new_model = Model(layers[:-2])\n",
    "testing_plot = new_model(testing_data_x)"
   ]
  },
  {
   "cell_type": "code",
   "execution_count": 26,
   "id": "4c0a5485",
   "metadata": {
    "execution": {
     "iopub.execute_input": "2022-04-06T00:35:57.227951Z",
     "iopub.status.busy": "2022-04-06T00:35:57.214142Z",
     "iopub.status.idle": "2022-04-06T00:35:57.415461Z",
     "shell.execute_reply": "2022-04-06T00:35:57.415923Z"
    },
    "papermill": {
     "duration": 0.248987,
     "end_time": "2022-04-06T00:35:57.416062",
     "exception": false,
     "start_time": "2022-04-06T00:35:57.167075",
     "status": "completed"
    },
    "tags": []
   },
   "outputs": [
    {
     "data": {
      "text/plain": [
       "Text(0.5, 1.0, 'Outputs')"
      ]
     },
     "execution_count": 26,
     "metadata": {},
     "output_type": "execute_result"
    },
    {
     "data": {
      "image/png": "[encoded data removed]",
      "text/plain": [
       "<Figure size 576x504 with 1 Axes>"
      ]
     },
     "metadata": {
      "needs_background": "light"
     },
     "output_type": "display_data"
    }
   ],
   "source": [
    "# Plotting the scatter plot of points and color coding by class\n",
    "plt.figure(figsize=(8,7))\n",
    "plt.scatter(testing_plot[:,0], testing_plot[:,1], alpha = 0.1, c = y_test.ravel());\n",
    "plt.title('Outputs')"
   ]
  },
  {
   "cell_type": "markdown",
   "id": "a74fcf8f",
   "metadata": {
    "papermill": {
     "duration": 0.04442,
     "end_time": "2022-04-06T00:35:57.515350",
     "exception": false,
     "start_time": "2022-04-06T00:35:57.470930",
     "status": "completed"
    },
    "tags": []
   },
   "source": [
    "Probability contours"
   ]
  },
  {
   "cell_type": "code",
   "execution_count": 27,
   "id": "d0afc8e3",
   "metadata": {
    "execution": {
     "iopub.execute_input": "2022-04-06T00:35:57.612567Z",
     "iopub.status.busy": "2022-04-06T00:35:57.612001Z",
     "iopub.status.idle": "2022-04-06T00:35:57.620848Z",
     "shell.execute_reply": "2022-04-06T00:35:57.621240Z"
    },
    "papermill": {
     "duration": 0.061542,
     "end_time": "2022-04-06T00:35:57.621377",
     "exception": false,
     "start_time": "2022-04-06T00:35:57.559835",
     "status": "completed"
    },
    "tags": []
   },
   "outputs": [],
   "source": [
    "model_prob = Model(layers[-2:]) "
   ]
  },
  {
   "cell_type": "code",
   "execution_count": 28,
   "id": "9b96e238",
   "metadata": {
    "execution": {
     "iopub.execute_input": "2022-04-06T00:35:57.714679Z",
     "iopub.status.busy": "2022-04-06T00:35:57.714160Z",
     "iopub.status.idle": "2022-04-06T00:35:57.727585Z",
     "shell.execute_reply": "2022-04-06T00:35:57.727985Z"
    },
    "papermill": {
     "duration": 0.062411,
     "end_time": "2022-04-06T00:35:57.728123",
     "exception": false,
     "start_time": "2022-04-06T00:35:57.665712",
     "status": "completed"
    },
    "tags": []
   },
   "outputs": [],
   "source": [
    "#creating the x and y ranges according to the above generated plot.\n",
    "x_range = np.linspace(-4, 1, 100) \n",
    "y_range = np.linspace(-6, 6, 100) \n",
    "x_grid, y_grid = np.meshgrid(x_range, y_range) # x_grid and y_grig are of size 100 X 100\n",
    "\n",
    "# converting x_grid and y_grid to continuous arrays\n",
    "x_gridflat = np.ravel(x_grid)\n",
    "y_gridflat = np.ravel(y_grid)\n",
    "\n",
    "# The last layer of the current model takes two columns as input. Hence transpose of np.vstack() is required.\n",
    "X = np.vstack((x_gridflat, y_gridflat)).T\n",
    "\n",
    "prob_contour = model_prob(X).reshape(100,100) "
   ]
  },
  {
   "cell_type": "code",
   "execution_count": 29,
   "id": "da72499a",
   "metadata": {
    "execution": {
     "iopub.execute_input": "2022-04-06T00:35:57.850099Z",
     "iopub.status.busy": "2022-04-06T00:35:57.849552Z",
     "iopub.status.idle": "2022-04-06T00:35:58.100043Z",
     "shell.execute_reply": "2022-04-06T00:35:58.099579Z"
    },
    "papermill": {
     "duration": 0.326991,
     "end_time": "2022-04-06T00:35:58.100162",
     "exception": false,
     "start_time": "2022-04-06T00:35:57.773171",
     "status": "completed"
    },
    "tags": []
   },
   "outputs": [
    {
     "data": {
      "image/png": "[encoded data removed]",
      "text/plain": [
       "<Figure size 720x648 with 1 Axes>"
      ]
     },
     "metadata": {
      "needs_background": "light"
     },
     "output_type": "display_data"
    }
   ],
   "source": [
    "plt.figure(figsize=(10,9))\n",
    "plt.scatter(testing_plot[:,0], testing_plot[:,1], alpha = 0.1, c = y_test.ravel())\n",
    "contours = plt.contour(x_grid,y_grid,prob_contour)\n",
    "plt.title('Probability Contours')\n",
    "plt.clabel(contours, inline = True );"
   ]
  },
  {
   "cell_type": "code",
   "execution_count": null,
   "id": "e81b4ac7",
   "metadata": {
    "papermill": {
     "duration": 0.047911,
     "end_time": "2022-04-06T00:35:58.196709",
     "exception": false,
     "start_time": "2022-04-06T00:35:58.148798",
     "status": "completed"
    },
    "tags": []
   },
   "outputs": [],
   "source": []
  }
 ],
 "metadata": {
  "kernelspec": {
   "display_name": "Python 3",
   "language": "python",
   "name": "python3"
  },
  "language_info": {
   "codemirror_mode": {
    "name": "ipython",
    "version": 3
   },
   "file_extension": ".py",
   "mimetype": "text/x-python",
   "name": "python",
   "nbconvert_exporter": "python",
   "pygments_lexer": "ipython3",
   "version": "3.6.15"
  },
  "papermill": {
   "default_parameters": {},
   "duration": 97.938881,
   "end_time": "2022-04-06T00:35:58.663277",
   "environment_variables": {},
   "exception": null,
   "input_path": "2020-08-11-part2.ipynb",
   "output_path": "2020-08-11-part2.ipynb",
   "parameters": {},
   "start_time": "2022-04-06T00:34:20.724396",
   "version": "2.3.3"
  }
 },
 "nbformat": 4,
 "nbformat_minor": 5
}