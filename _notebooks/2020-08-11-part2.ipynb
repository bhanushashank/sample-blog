{
 "cells": [
  {
   "cell_type": "markdown",
   "id": "98380cd3",
   "metadata": {
    "papermill": {
     "duration": 0.028506,
     "end_time": "2022-02-04T10:05:53.921185",
     "exception": false,
     "start_time": "2022-02-04T10:05:53.892679",
     "status": "completed"
    },
    "tags": []
   },
   "source": [
    "# Distinguish Your Own Digits (DYOD)"
   ]
  },
  {
   "cell_type": "markdown",
   "id": "ef31240d",
   "metadata": {
    "papermill": {
     "duration": 0.024559,
     "end_time": "2022-02-04T10:05:53.971062",
     "exception": false,
     "start_time": "2022-02-04T10:05:53.946503",
     "status": "completed"
    },
    "tags": []
   },
   "source": [
    "You are going to write a classifier that distinguishes between the number 3 and number 8."
   ]
  },
  {
   "cell_type": "code",
   "execution_count": 1,
   "id": "b15c8646",
   "metadata": {
    "execution": {
     "iopub.execute_input": "2022-02-04T10:05:54.032829Z",
     "iopub.status.busy": "2022-02-04T10:05:54.032276Z",
     "iopub.status.idle": "2022-02-04T10:05:54.043085Z",
     "shell.execute_reply": "2022-02-04T10:05:54.043529Z"
    },
    "papermill": {
     "duration": 0.048102,
     "end_time": "2022-02-04T10:05:54.043699",
     "exception": false,
     "start_time": "2022-02-04T10:05:53.995597",
     "status": "completed"
    },
    "tags": []
   },
   "outputs": [],
   "source": [
    "%load_ext autoreload\n",
    "%autoreload 2"
   ]
  },
  {
   "cell_type": "code",
   "execution_count": 2,
   "id": "22ef38dc",
   "metadata": {
    "execution": {
     "iopub.execute_input": "2022-02-04T10:05:54.100932Z",
     "iopub.status.busy": "2022-02-04T10:05:54.100398Z",
     "iopub.status.idle": "2022-02-04T10:05:54.704557Z",
     "shell.execute_reply": "2022-02-04T10:05:54.704064Z"
    },
    "papermill": {
     "duration": 0.636202,
     "end_time": "2022-02-04T10:05:54.704684",
     "exception": false,
     "start_time": "2022-02-04T10:05:54.068482",
     "status": "completed"
    },
    "tags": []
   },
   "outputs": [],
   "source": [
    "%matplotlib inline\n",
    "import numpy as np\n",
    "import matplotlib.pyplot as plt\n",
    "import pandas as pd"
   ]
  },
  {
   "cell_type": "markdown",
   "id": "ba036198",
   "metadata": {
    "papermill": {
     "duration": 0.024316,
     "end_time": "2022-02-04T10:05:54.753460",
     "exception": false,
     "start_time": "2022-02-04T10:05:54.729144",
     "status": "completed"
    },
    "tags": []
   },
   "source": [
    "From the command line run `pip install mnist`. This is a library that will help you bring down the mnist dataset. If you run this from a notebook, you need to put  `!pip install mnist` in a cell by itself."
   ]
  },
  {
   "cell_type": "code",
   "execution_count": 3,
   "id": "bb6ad8a1",
   "metadata": {
    "execution": {
     "iopub.execute_input": "2022-02-04T10:05:54.807383Z",
     "iopub.status.busy": "2022-02-04T10:05:54.806865Z",
     "iopub.status.idle": "2022-02-04T10:05:56.586150Z",
     "shell.execute_reply": "2022-02-04T10:05:56.585583Z"
    },
    "papermill": {
     "duration": 1.808493,
     "end_time": "2022-02-04T10:05:56.586290",
     "exception": false,
     "start_time": "2022-02-04T10:05:54.777797",
     "status": "completed"
    },
    "tags": []
   },
   "outputs": [
    {
     "name": "stdout",
     "output_type": "stream",
     "text": [
      "Collecting mnist\r\n"
     ]
    },
    {
     "name": "stdout",
     "output_type": "stream",
     "text": [
      "  Downloading mnist-0.2.2-py2.py3-none-any.whl (3.5 kB)\r\n"
     ]
    },
    {
     "name": "stdout",
     "output_type": "stream",
     "text": [
      "Requirement already satisfied: numpy in /opt/hostedtoolcache/Python/3.6.15/x64/lib/python3.6/site-packages (from mnist) (1.19.5)\r\n"
     ]
    },
    {
     "name": "stdout",
     "output_type": "stream",
     "text": [
      "Installing collected packages: mnist\r\n"
     ]
    },
    {
     "name": "stdout",
     "output_type": "stream",
     "text": [
      "Successfully installed mnist-0.2.2\r\n"
     ]
    }
   ],
   "source": [
    "!pip install mnist"
   ]
  },
  {
   "cell_type": "markdown",
   "id": "69df9c9a",
   "metadata": {
    "papermill": {
     "duration": 0.025859,
     "end_time": "2022-02-04T10:05:56.638510",
     "exception": false,
     "start_time": "2022-02-04T10:05:56.612651",
     "status": "completed"
    },
    "tags": []
   },
   "source": [
    "## Preparing the Data"
   ]
  },
  {
   "cell_type": "code",
   "execution_count": 4,
   "id": "7f69d806",
   "metadata": {
    "execution": {
     "iopub.execute_input": "2022-02-04T10:05:56.701865Z",
     "iopub.status.busy": "2022-02-04T10:05:56.697938Z",
     "iopub.status.idle": "2022-02-04T10:05:56.709585Z",
     "shell.execute_reply": "2022-02-04T10:05:56.709162Z"
    },
    "papermill": {
     "duration": 0.045525,
     "end_time": "2022-02-04T10:05:56.709710",
     "exception": false,
     "start_time": "2022-02-04T10:05:56.664185",
     "status": "completed"
    },
    "tags": []
   },
   "outputs": [],
   "source": [
    "import mnist"
   ]
  },
  {
   "cell_type": "code",
   "execution_count": 5,
   "id": "a411e44f",
   "metadata": {
    "execution": {
     "iopub.execute_input": "2022-02-04T10:05:56.768531Z",
     "iopub.status.busy": "2022-02-04T10:05:56.767997Z",
     "iopub.status.idle": "2022-02-04T10:05:57.370301Z",
     "shell.execute_reply": "2022-02-04T10:05:57.369164Z"
    },
    "papermill": {
     "duration": 0.634584,
     "end_time": "2022-02-04T10:05:57.370433",
     "exception": false,
     "start_time": "2022-02-04T10:05:56.735849",
     "status": "completed"
    },
    "tags": []
   },
   "outputs": [],
   "source": [
    "train_images = mnist.train_images()\n",
    "train_labels = mnist.train_labels()"
   ]
  },
  {
   "cell_type": "code",
   "execution_count": 6,
   "id": "dceab3a5",
   "metadata": {
    "execution": {
     "iopub.execute_input": "2022-02-04T10:05:57.430018Z",
     "iopub.status.busy": "2022-02-04T10:05:57.425560Z",
     "iopub.status.idle": "2022-02-04T10:05:57.439919Z",
     "shell.execute_reply": "2022-02-04T10:05:57.440359Z"
    },
    "papermill": {
     "duration": 0.044102,
     "end_time": "2022-02-04T10:05:57.440503",
     "exception": false,
     "start_time": "2022-02-04T10:05:57.396401",
     "status": "completed"
    },
    "tags": []
   },
   "outputs": [
    {
     "data": {
      "text/plain": [
       "((60000, 28, 28), (60000,))"
      ]
     },
     "execution_count": 6,
     "metadata": {},
     "output_type": "execute_result"
    }
   ],
   "source": [
    "train_images.shape, train_labels.shape"
   ]
  },
  {
   "cell_type": "code",
   "execution_count": 7,
   "id": "f50dc2bb",
   "metadata": {
    "execution": {
     "iopub.execute_input": "2022-02-04T10:05:57.497917Z",
     "iopub.status.busy": "2022-02-04T10:05:57.497391Z",
     "iopub.status.idle": "2022-02-04T10:05:57.723837Z",
     "shell.execute_reply": "2022-02-04T10:05:57.723372Z"
    },
    "papermill": {
     "duration": 0.257355,
     "end_time": "2022-02-04T10:05:57.723970",
     "exception": false,
     "start_time": "2022-02-04T10:05:57.466615",
     "status": "completed"
    },
    "tags": []
   },
   "outputs": [],
   "source": [
    "test_images = mnist.test_images()\n",
    "test_labels = mnist.test_labels()"
   ]
  },
  {
   "cell_type": "code",
   "execution_count": 8,
   "id": "fc38cf1b",
   "metadata": {
    "execution": {
     "iopub.execute_input": "2022-02-04T10:05:57.782477Z",
     "iopub.status.busy": "2022-02-04T10:05:57.781951Z",
     "iopub.status.idle": "2022-02-04T10:05:57.794089Z",
     "shell.execute_reply": "2022-02-04T10:05:57.793645Z"
    },
    "papermill": {
     "duration": 0.044089,
     "end_time": "2022-02-04T10:05:57.794214",
     "exception": false,
     "start_time": "2022-02-04T10:05:57.750125",
     "status": "completed"
    },
    "tags": []
   },
   "outputs": [
    {
     "data": {
      "text/plain": [
       "((10000, 28, 28), (10000,))"
      ]
     },
     "execution_count": 8,
     "metadata": {},
     "output_type": "execute_result"
    }
   ],
   "source": [
    "test_images.shape, test_labels.shape"
   ]
  },
  {
   "cell_type": "code",
   "execution_count": 9,
   "id": "f9ed8fe0",
   "metadata": {
    "execution": {
     "iopub.execute_input": "2022-02-04T10:05:57.850956Z",
     "iopub.status.busy": "2022-02-04T10:05:57.850437Z",
     "iopub.status.idle": "2022-02-04T10:05:57.988060Z",
     "shell.execute_reply": "2022-02-04T10:05:57.988472Z"
    },
    "papermill": {
     "duration": 0.168242,
     "end_time": "2022-02-04T10:05:57.988618",
     "exception": false,
     "start_time": "2022-02-04T10:05:57.820376",
     "status": "completed"
    },
    "tags": []
   },
   "outputs": [
    {
     "name": "stdout",
     "output_type": "stream",
     "text": [
      "2\n"
     ]
    },
    {
     "data": {
      "text/plain": [
       "<matplotlib.image.AxesImage at 0x7f8cdca9b860>"
      ]
     },
     "execution_count": 9,
     "metadata": {},
     "output_type": "execute_result"
    },
    {
     "data": {
      "image/png": "[encoded data removed]",
      "text/plain": [
       "<Figure size 432x288 with 1 Axes>"
      ]
     },
     "metadata": {
      "needs_background": "light"
     },
     "output_type": "display_data"
    }
   ],
   "source": [
    "image_index = 7776 # You may select anything up to 60,000\n",
    "print(train_labels[image_index]) \n",
    "plt.imshow(train_images[image_index], cmap='Greys')"
   ]
  },
  {
   "cell_type": "markdown",
   "id": "a8d2388d",
   "metadata": {
    "papermill": {
     "duration": 0.027345,
     "end_time": "2022-02-04T10:05:58.043576",
     "exception": false,
     "start_time": "2022-02-04T10:05:58.016231",
     "status": "completed"
    },
    "tags": []
   },
   "source": [
    "## Filter data to get 3 and 8 out"
   ]
  },
  {
   "cell_type": "code",
   "execution_count": 10,
   "id": "776f7fc7",
   "metadata": {
    "execution": {
     "iopub.execute_input": "2022-02-04T10:05:58.106732Z",
     "iopub.status.busy": "2022-02-04T10:05:58.106188Z",
     "iopub.status.idle": "2022-02-04T10:05:58.123145Z",
     "shell.execute_reply": "2022-02-04T10:05:58.122700Z"
    },
    "papermill": {
     "duration": 0.052243,
     "end_time": "2022-02-04T10:05:58.123269",
     "exception": false,
     "start_time": "2022-02-04T10:05:58.071026",
     "status": "completed"
    },
    "tags": []
   },
   "outputs": [],
   "source": [
    "train_filter = np.where((train_labels == 3 ) | (train_labels == 8))\n",
    "test_filter = np.where((test_labels == 3) | (test_labels == 8))\n",
    "X_train, y_train = train_images[train_filter], train_labels[train_filter]\n",
    "X_test, y_test = test_images[test_filter], test_labels[test_filter]"
   ]
  },
  {
   "cell_type": "markdown",
   "id": "948f0b7e",
   "metadata": {
    "papermill": {
     "duration": 0.027232,
     "end_time": "2022-02-04T10:05:58.178600",
     "exception": false,
     "start_time": "2022-02-04T10:05:58.151368",
     "status": "completed"
    },
    "tags": []
   },
   "source": [
    "We normalize the pizel values in the 0 to 1 range"
   ]
  },
  {
   "cell_type": "code",
   "execution_count": 11,
   "id": "ee4c2166",
   "metadata": {
    "execution": {
     "iopub.execute_input": "2022-02-04T10:05:58.238735Z",
     "iopub.status.busy": "2022-02-04T10:05:58.238217Z",
     "iopub.status.idle": "2022-02-04T10:05:58.284776Z",
     "shell.execute_reply": "2022-02-04T10:05:58.284264Z"
    },
    "papermill": {
     "duration": 0.079078,
     "end_time": "2022-02-04T10:05:58.284918",
     "exception": false,
     "start_time": "2022-02-04T10:05:58.205840",
     "status": "completed"
    },
    "tags": []
   },
   "outputs": [],
   "source": [
    "X_train = X_train/255.\n",
    "X_test = X_test/255."
   ]
  },
  {
   "cell_type": "markdown",
   "id": "ddcf4fab",
   "metadata": {
    "papermill": {
     "duration": 0.027111,
     "end_time": "2022-02-04T10:05:58.340434",
     "exception": false,
     "start_time": "2022-02-04T10:05:58.313323",
     "status": "completed"
    },
    "tags": []
   },
   "source": [
    "And setup the labels as 1 (when the digit is 3) and 0 (when the digit is 8)"
   ]
  },
  {
   "cell_type": "code",
   "execution_count": 12,
   "id": "7dc908f2",
   "metadata": {
    "execution": {
     "iopub.execute_input": "2022-02-04T10:05:58.410648Z",
     "iopub.status.busy": "2022-02-04T10:05:58.410095Z",
     "iopub.status.idle": "2022-02-04T10:05:58.413358Z",
     "shell.execute_reply": "2022-02-04T10:05:58.413848Z"
    },
    "papermill": {
     "duration": 0.046354,
     "end_time": "2022-02-04T10:05:58.413990",
     "exception": false,
     "start_time": "2022-02-04T10:05:58.367636",
     "status": "completed"
    },
    "tags": []
   },
   "outputs": [],
   "source": [
    "y_train = 1*(y_train==3)\n",
    "y_test = 1*(y_test==3)"
   ]
  },
  {
   "cell_type": "code",
   "execution_count": 13,
   "id": "01e4e969",
   "metadata": {
    "execution": {
     "iopub.execute_input": "2022-02-04T10:05:58.471686Z",
     "iopub.status.busy": "2022-02-04T10:05:58.471178Z",
     "iopub.status.idle": "2022-02-04T10:05:58.485161Z",
     "shell.execute_reply": "2022-02-04T10:05:58.484691Z"
    },
    "papermill": {
     "duration": 0.043915,
     "end_time": "2022-02-04T10:05:58.485281",
     "exception": false,
     "start_time": "2022-02-04T10:05:58.441366",
     "status": "completed"
    },
    "tags": []
   },
   "outputs": [
    {
     "data": {
      "text/plain": [
       "((11982, 28, 28), (1984, 28, 28))"
      ]
     },
     "execution_count": 13,
     "metadata": {},
     "output_type": "execute_result"
    }
   ],
   "source": [
    "X_train.shape, X_test.shape"
   ]
  },
  {
   "cell_type": "markdown",
   "id": "5ccf3f85",
   "metadata": {
    "papermill": {
     "duration": 0.027796,
     "end_time": "2022-02-04T10:05:58.540609",
     "exception": false,
     "start_time": "2022-02-04T10:05:58.512813",
     "status": "completed"
    },
    "tags": []
   },
   "source": [
    "We reshape the data to flatten the image pixels into a set of features or co-variates:"
   ]
  },
  {
   "cell_type": "code",
   "execution_count": 14,
   "id": "5286a4a3",
   "metadata": {
    "execution": {
     "iopub.execute_input": "2022-02-04T10:05:58.600828Z",
     "iopub.status.busy": "2022-02-04T10:05:58.599822Z",
     "iopub.status.idle": "2022-02-04T10:05:58.615549Z",
     "shell.execute_reply": "2022-02-04T10:05:58.615933Z"
    },
    "papermill": {
     "duration": 0.047706,
     "end_time": "2022-02-04T10:05:58.616075",
     "exception": false,
     "start_time": "2022-02-04T10:05:58.568369",
     "status": "completed"
    },
    "tags": []
   },
   "outputs": [
    {
     "data": {
      "text/plain": [
       "((11982, 784), (1984, 784))"
      ]
     },
     "execution_count": 14,
     "metadata": {},
     "output_type": "execute_result"
    }
   ],
   "source": [
    "X_train = X_train.reshape(X_train.shape[0], -1)\n",
    "X_test = X_test.reshape(X_test.shape[0], -1)\n",
    "X_train.shape, X_test.shape"
   ]
  },
  {
   "cell_type": "code",
   "execution_count": 15,
   "id": "73c5f88a",
   "metadata": {
    "execution": {
     "iopub.execute_input": "2022-02-04T10:05:58.690045Z",
     "iopub.status.busy": "2022-02-04T10:05:58.686664Z",
     "iopub.status.idle": "2022-02-04T10:05:58.699038Z",
     "shell.execute_reply": "2022-02-04T10:05:58.698616Z"
    },
    "papermill": {
     "duration": 0.055088,
     "end_time": "2022-02-04T10:05:58.699154",
     "exception": false,
     "start_time": "2022-02-04T10:05:58.644066",
     "status": "completed"
    },
    "tags": []
   },
   "outputs": [],
   "source": [
    "#Impoting functions from 'Kudzu'\n",
    "from kudzu.model import Model\n",
    "from kudzu.train import Learner\n",
    "from kudzu.optim import GD\n",
    "from kudzu.data import Data, Sampler,Dataloader\n",
    "\n",
    "from kudzu.callbacks import AccCallback\n",
    "from kudzu.callbacks import ClfCallback\n",
    "\n",
    "from kudzu.loss import MSE\n",
    "\n",
    "from kudzu.layer import Sigmoid,Relu\n",
    "from kudzu.layer import Affine"
   ]
  },
  {
   "cell_type": "markdown",
   "id": "bc01172a",
   "metadata": {
    "papermill": {
     "duration": 0.027761,
     "end_time": "2022-02-04T10:05:58.754915",
     "exception": false,
     "start_time": "2022-02-04T10:05:58.727154",
     "status": "completed"
    },
    "tags": []
   },
   "source": [
    "### Let us create a `Config` class, to store important parameters. \n",
    "This class essentially plays the role of a dictionary."
   ]
  },
  {
   "cell_type": "code",
   "execution_count": 16,
   "id": "978281aa",
   "metadata": {
    "execution": {
     "iopub.execute_input": "2022-02-04T10:05:58.817746Z",
     "iopub.status.busy": "2022-02-04T10:05:58.817061Z",
     "iopub.status.idle": "2022-02-04T10:05:58.827657Z",
     "shell.execute_reply": "2022-02-04T10:05:58.828055Z"
    },
    "papermill": {
     "duration": 0.045424,
     "end_time": "2022-02-04T10:05:58.828197",
     "exception": false,
     "start_time": "2022-02-04T10:05:58.782773",
     "status": "completed"
    },
    "tags": []
   },
   "outputs": [],
   "source": [
    "class Config:\n",
    "    pass\n",
    "config = Config()\n",
    "config.lr = 0.001\n",
    "config.num_epochs = 250\n",
    "config.bs = 50"
   ]
  },
  {
   "cell_type": "markdown",
   "id": "1385fa59",
   "metadata": {
    "papermill": {
     "duration": 0.027952,
     "end_time": "2022-02-04T10:05:58.884219",
     "exception": false,
     "start_time": "2022-02-04T10:05:58.856267",
     "status": "completed"
    },
    "tags": []
   },
   "source": [
    "### Running Models with the Training data\n",
    "Details about the network layers:\n",
    "- A first affine layer has 784 inputs and does 100 affine transforms. These are followed by a Relu\n",
    "- A second affine layer has 100 inputs from the 100 activations of the past layer, and does 100 affine transforms. These are followed by a Relu\n",
    "- A third affine layer has 100 activations and does 2 affine transformations to create an embedding for visualization. There is no non-linearity here.\n",
    "- A final \"logistic regression\" which has an affine transform from 2 inputs to 1 output, which is squeezed through a sigmoid.\n"
   ]
  },
  {
   "cell_type": "code",
   "execution_count": 17,
   "id": "2b9c66db",
   "metadata": {
    "execution": {
     "iopub.execute_input": "2022-02-04T10:05:58.953971Z",
     "iopub.status.busy": "2022-02-04T10:05:58.951268Z",
     "iopub.status.idle": "2022-02-04T10:05:58.960137Z",
     "shell.execute_reply": "2022-02-04T10:05:58.959654Z"
    },
    "papermill": {
     "duration": 0.04796,
     "end_time": "2022-02-04T10:05:58.960256",
     "exception": false,
     "start_time": "2022-02-04T10:05:58.912296",
     "status": "completed"
    },
    "tags": []
   },
   "outputs": [],
   "source": [
    "data = Data(X_train, y_train.reshape(-1,1))\n",
    "sampler = Sampler(data, config.bs, shuffle=True)\n",
    "\n",
    "dl = Dataloader(data, sampler)\n",
    "\n",
    "opt = GD(config.lr)\n",
    "loss = MSE()"
   ]
  },
  {
   "cell_type": "code",
   "execution_count": 18,
   "id": "b275e4c2",
   "metadata": {
    "execution": {
     "iopub.execute_input": "2022-02-04T10:05:59.030662Z",
     "iopub.status.busy": "2022-02-04T10:05:59.030109Z",
     "iopub.status.idle": "2022-02-04T10:05:59.036519Z",
     "shell.execute_reply": "2022-02-04T10:05:59.036992Z"
    },
    "papermill": {
     "duration": 0.048205,
     "end_time": "2022-02-04T10:05:59.037174",
     "exception": false,
     "start_time": "2022-02-04T10:05:58.988969",
     "status": "completed"
    },
    "tags": []
   },
   "outputs": [],
   "source": [
    "training_data_x = X_train\n",
    "testing_data_x = X_test\n",
    "training_data_y = y_train.reshape(-1,1)\n",
    "testing_data_y = y_test.reshape(-1,1)"
   ]
  },
  {
   "cell_type": "code",
   "execution_count": 19,
   "id": "76951160",
   "metadata": {
    "execution": {
     "iopub.execute_input": "2022-02-04T10:05:59.102629Z",
     "iopub.status.busy": "2022-02-04T10:05:59.097329Z",
     "iopub.status.idle": "2022-02-04T10:05:59.113688Z",
     "shell.execute_reply": "2022-02-04T10:05:59.114072Z"
    },
    "papermill": {
     "duration": 0.048988,
     "end_time": "2022-02-04T10:05:59.114215",
     "exception": false,
     "start_time": "2022-02-04T10:05:59.065227",
     "status": "completed"
    },
    "tags": []
   },
   "outputs": [
    {
     "name": "stdout",
     "output_type": "stream",
     "text": [
      "xavier\n",
      "xavier\n",
      "xavier\n",
      "xavier\n",
      "xavier\n"
     ]
    }
   ],
   "source": [
    "layers = [Affine(\"first\", 784, 100), Relu(\"first\"), Affine(\"second\", 100, 100), Relu(\"second\"), Affine(\"third\", 100, 2), Affine(\"last\", 2, 1), Sigmoid(\"last\")]\n",
    "model_nn = Model(layers)\n",
    "model_lr = Model([Affine(\"logits\", 784, 1), Sigmoid(\"sigmoid\")])"
   ]
  },
  {
   "cell_type": "code",
   "execution_count": 20,
   "id": "6eede77a",
   "metadata": {
    "execution": {
     "iopub.execute_input": "2022-02-04T10:05:59.175963Z",
     "iopub.status.busy": "2022-02-04T10:05:59.175450Z",
     "iopub.status.idle": "2022-02-04T10:05:59.187945Z",
     "shell.execute_reply": "2022-02-04T10:05:59.187504Z"
    },
    "papermill": {
     "duration": 0.0452,
     "end_time": "2022-02-04T10:05:59.188062",
     "exception": false,
     "start_time": "2022-02-04T10:05:59.142862",
     "status": "completed"
    },
    "tags": []
   },
   "outputs": [],
   "source": [
    "nn_learner = Learner(loss, model_nn, opt, config.num_epochs)\n",
    "acc_nn = ClfCallback(nn_learner, config.bs, training_data_x , testing_data_x, training_data_y, testing_data_y)\n",
    "nn_learner.set_callbacks([acc_nn])"
   ]
  },
  {
   "cell_type": "code",
   "execution_count": 21,
   "id": "877b6cc7",
   "metadata": {
    "execution": {
     "iopub.execute_input": "2022-02-04T10:05:59.253320Z",
     "iopub.status.busy": "2022-02-04T10:05:59.252732Z",
     "iopub.status.idle": "2022-02-04T10:05:59.262856Z",
     "shell.execute_reply": "2022-02-04T10:05:59.262366Z"
    },
    "papermill": {
     "duration": 0.046754,
     "end_time": "2022-02-04T10:05:59.262976",
     "exception": false,
     "start_time": "2022-02-04T10:05:59.216222",
     "status": "completed"
    },
    "tags": []
   },
   "outputs": [],
   "source": [
    "lr_learner = Learner(loss, model_lr, opt, config.num_epochs)\n",
    "acc_lr = ClfCallback(lr_learner, config.bs, training_data_x , testing_data_x, training_data_y, testing_data_y)\n",
    "lr_learner.set_callbacks([acc_lr])"
   ]
  },
  {
   "cell_type": "code",
   "execution_count": 22,
   "id": "d9b133c3",
   "metadata": {
    "execution": {
     "iopub.execute_input": "2022-02-04T10:05:59.339845Z",
     "iopub.status.busy": "2022-02-04T10:05:59.339263Z",
     "iopub.status.idle": "2022-02-04T10:07:16.328539Z",
     "shell.execute_reply": "2022-02-04T10:07:16.329302Z"
    },
    "papermill": {
     "duration": 77.037942,
     "end_time": "2022-02-04T10:07:16.329456",
     "exception": false,
     "start_time": "2022-02-04T10:05:59.291514",
     "status": "completed"
    },
    "tags": []
   },
   "outputs": [
    {
     "name": "stdout",
     "output_type": "stream",
     "text": [
      "Epoch 0, Loss 0.2196\n",
      "Training Accuracy: 0.7831, Testing Accuracy: 0.7954\n",
      "\n"
     ]
    },
    {
     "name": "stdout",
     "output_type": "stream",
     "text": [
      "Epoch 10, Loss 0.0547\n",
      "Training Accuracy: 0.9400, Testing Accuracy: 0.9501\n",
      "\n"
     ]
    },
    {
     "name": "stdout",
     "output_type": "stream",
     "text": [
      "Epoch 20, Loss 0.0391\n",
      "Training Accuracy: 0.9565, Testing Accuracy: 0.9597\n",
      "\n"
     ]
    },
    {
     "name": "stdout",
     "output_type": "stream",
     "text": [
      "Epoch 30, Loss 0.033\n",
      "Training Accuracy: 0.9627, Testing Accuracy: 0.9632\n",
      "\n"
     ]
    },
    {
     "name": "stdout",
     "output_type": "stream",
     "text": [
      "Epoch 40, Loss 0.0295\n",
      "Training Accuracy: 0.9666, Testing Accuracy: 0.9667\n",
      "\n"
     ]
    },
    {
     "name": "stdout",
     "output_type": "stream",
     "text": [
      "Epoch 50, Loss 0.0272\n",
      "Training Accuracy: 0.9694, Testing Accuracy: 0.9693\n",
      "\n"
     ]
    },
    {
     "name": "stdout",
     "output_type": "stream",
     "text": [
      "Epoch 60, Loss 0.0255\n",
      "Training Accuracy: 0.9714, Testing Accuracy: 0.9703\n",
      "\n"
     ]
    },
    {
     "name": "stdout",
     "output_type": "stream",
     "text": [
      "Epoch 70, Loss 0.0241\n",
      "Training Accuracy: 0.9730, Testing Accuracy: 0.9708\n",
      "\n"
     ]
    },
    {
     "name": "stdout",
     "output_type": "stream",
     "text": [
      "Epoch 80, Loss 0.023\n",
      "Training Accuracy: 0.9741, Testing Accuracy: 0.9723\n",
      "\n"
     ]
    },
    {
     "name": "stdout",
     "output_type": "stream",
     "text": [
      "Epoch 90, Loss 0.022\n",
      "Training Accuracy: 0.9752, Testing Accuracy: 0.9723\n",
      "\n"
     ]
    },
    {
     "name": "stdout",
     "output_type": "stream",
     "text": [
      "Epoch 100, Loss 0.0212\n",
      "Training Accuracy: 0.9762, Testing Accuracy: 0.9728\n",
      "\n"
     ]
    },
    {
     "name": "stdout",
     "output_type": "stream",
     "text": [
      "Epoch 110, Loss 0.0204\n",
      "Training Accuracy: 0.9775, Testing Accuracy: 0.9728\n",
      "\n"
     ]
    },
    {
     "name": "stdout",
     "output_type": "stream",
     "text": [
      "Epoch 120, Loss 0.0197\n",
      "Training Accuracy: 0.9783, Testing Accuracy: 0.9723\n",
      "\n"
     ]
    },
    {
     "name": "stdout",
     "output_type": "stream",
     "text": [
      "Epoch 130, Loss 0.019\n",
      "Training Accuracy: 0.9790, Testing Accuracy: 0.9733\n",
      "\n"
     ]
    },
    {
     "name": "stdout",
     "output_type": "stream",
     "text": [
      "Epoch 140, Loss 0.0184\n",
      "Training Accuracy: 0.9802, Testing Accuracy: 0.9733\n",
      "\n"
     ]
    },
    {
     "name": "stdout",
     "output_type": "stream",
     "text": [
      "Epoch 150, Loss 0.0178\n",
      "Training Accuracy: 0.9811, Testing Accuracy: 0.9753\n",
      "\n"
     ]
    },
    {
     "name": "stdout",
     "output_type": "stream",
     "text": [
      "Epoch 160, Loss 0.0173\n",
      "Training Accuracy: 0.9821, Testing Accuracy: 0.9753\n",
      "\n"
     ]
    },
    {
     "name": "stdout",
     "output_type": "stream",
     "text": [
      "Epoch 170, Loss 0.0167\n",
      "Training Accuracy: 0.9831, Testing Accuracy: 0.9758\n",
      "\n"
     ]
    },
    {
     "name": "stdout",
     "output_type": "stream",
     "text": [
      "Epoch 180, Loss 0.0162\n",
      "Training Accuracy: 0.9834, Testing Accuracy: 0.9773\n",
      "\n"
     ]
    },
    {
     "name": "stdout",
     "output_type": "stream",
     "text": [
      "Epoch 190, Loss 0.0157\n",
      "Training Accuracy: 0.9836, Testing Accuracy: 0.9778\n",
      "\n"
     ]
    },
    {
     "name": "stdout",
     "output_type": "stream",
     "text": [
      "Epoch 200, Loss 0.0153\n",
      "Training Accuracy: 0.9840, Testing Accuracy: 0.9783\n",
      "\n"
     ]
    },
    {
     "name": "stdout",
     "output_type": "stream",
     "text": [
      "Epoch 210, Loss 0.0148\n",
      "Training Accuracy: 0.9844, Testing Accuracy: 0.9798\n",
      "\n"
     ]
    },
    {
     "name": "stdout",
     "output_type": "stream",
     "text": [
      "Epoch 220, Loss 0.0144\n",
      "Training Accuracy: 0.9854, Testing Accuracy: 0.9803\n",
      "\n"
     ]
    },
    {
     "name": "stdout",
     "output_type": "stream",
     "text": [
      "Epoch 230, Loss 0.0139\n",
      "Training Accuracy: 0.9858, Testing Accuracy: 0.9808\n",
      "\n"
     ]
    },
    {
     "name": "stdout",
     "output_type": "stream",
     "text": [
      "Epoch 240, Loss 0.0135\n",
      "Training Accuracy: 0.9861, Testing Accuracy: 0.9808\n",
      "\n"
     ]
    },
    {
     "data": {
      "text/plain": [
       "0.018586102105896327"
      ]
     },
     "execution_count": 22,
     "metadata": {},
     "output_type": "execute_result"
    }
   ],
   "source": [
    "nn_learner.train_loop(dl)"
   ]
  },
  {
   "cell_type": "code",
   "execution_count": 23,
   "id": "e0163366",
   "metadata": {
    "execution": {
     "iopub.execute_input": "2022-02-04T10:07:16.414584Z",
     "iopub.status.busy": "2022-02-04T10:07:16.414045Z",
     "iopub.status.idle": "2022-02-04T10:07:30.442249Z",
     "shell.execute_reply": "2022-02-04T10:07:30.442985Z"
    },
    "papermill": {
     "duration": 14.077528,
     "end_time": "2022-02-04T10:07:30.443139",
     "exception": false,
     "start_time": "2022-02-04T10:07:16.365611",
     "status": "completed"
    },
    "tags": []
   },
   "outputs": [
    {
     "name": "stdout",
     "output_type": "stream",
     "text": [
      "Epoch 0, Loss 0.2881\n",
      "Training Accuracy: 0.4643, Testing Accuracy: 0.4375\n",
      "\n"
     ]
    },
    {
     "name": "stdout",
     "output_type": "stream",
     "text": [
      "Epoch 10, Loss 0.1039\n",
      "Training Accuracy: 0.9154, Testing Accuracy: 0.9244\n",
      "\n"
     ]
    },
    {
     "name": "stdout",
     "output_type": "stream",
     "text": [
      "Epoch 20, Loss 0.0784\n",
      "Training Accuracy: 0.9299, Testing Accuracy: 0.9410\n",
      "\n"
     ]
    },
    {
     "name": "stdout",
     "output_type": "stream",
     "text": [
      "Epoch 30, Loss 0.0673\n",
      "Training Accuracy: 0.9388, Testing Accuracy: 0.9486\n",
      "\n"
     ]
    },
    {
     "name": "stdout",
     "output_type": "stream",
     "text": [
      "Epoch 40, Loss 0.0608\n",
      "Training Accuracy: 0.9437, Testing Accuracy: 0.9531\n",
      "\n"
     ]
    },
    {
     "name": "stdout",
     "output_type": "stream",
     "text": [
      "Epoch 50, Loss 0.0564\n",
      "Training Accuracy: 0.9468, Testing Accuracy: 0.9546\n",
      "\n"
     ]
    },
    {
     "name": "stdout",
     "output_type": "stream",
     "text": [
      "Epoch 60, Loss 0.0531\n",
      "Training Accuracy: 0.9494, Testing Accuracy: 0.9587\n",
      "\n"
     ]
    },
    {
     "name": "stdout",
     "output_type": "stream",
     "text": [
      "Epoch 70, Loss 0.0506\n",
      "Training Accuracy: 0.9510, Testing Accuracy: 0.9627\n",
      "\n"
     ]
    },
    {
     "name": "stdout",
     "output_type": "stream",
     "text": [
      "Epoch 80, Loss 0.0486\n",
      "Training Accuracy: 0.9525, Testing Accuracy: 0.9637\n",
      "\n"
     ]
    },
    {
     "name": "stdout",
     "output_type": "stream",
     "text": [
      "Epoch 90, Loss 0.047\n",
      "Training Accuracy: 0.9534, Testing Accuracy: 0.9642\n",
      "\n"
     ]
    },
    {
     "name": "stdout",
     "output_type": "stream",
     "text": [
      "Epoch 100, Loss 0.0456\n",
      "Training Accuracy: 0.9543, Testing Accuracy: 0.9637\n",
      "\n"
     ]
    },
    {
     "name": "stdout",
     "output_type": "stream",
     "text": [
      "Epoch 110, Loss 0.0444\n",
      "Training Accuracy: 0.9552, Testing Accuracy: 0.9637\n",
      "\n"
     ]
    },
    {
     "name": "stdout",
     "output_type": "stream",
     "text": [
      "Epoch 120, Loss 0.0434\n",
      "Training Accuracy: 0.9566, Testing Accuracy: 0.9642\n",
      "\n"
     ]
    },
    {
     "name": "stdout",
     "output_type": "stream",
     "text": [
      "Epoch 130, Loss 0.0424\n",
      "Training Accuracy: 0.9571, Testing Accuracy: 0.9642\n",
      "\n"
     ]
    },
    {
     "name": "stdout",
     "output_type": "stream",
     "text": [
      "Epoch 140, Loss 0.0416\n",
      "Training Accuracy: 0.9581, Testing Accuracy: 0.9642\n",
      "\n"
     ]
    },
    {
     "name": "stdout",
     "output_type": "stream",
     "text": [
      "Epoch 150, Loss 0.0409\n",
      "Training Accuracy: 0.9585, Testing Accuracy: 0.9642\n",
      "\n"
     ]
    },
    {
     "name": "stdout",
     "output_type": "stream",
     "text": [
      "Epoch 160, Loss 0.0402\n",
      "Training Accuracy: 0.9591, Testing Accuracy: 0.9647\n",
      "\n"
     ]
    },
    {
     "name": "stdout",
     "output_type": "stream",
     "text": [
      "Epoch 170, Loss 0.0396\n",
      "Training Accuracy: 0.9593, Testing Accuracy: 0.9647\n",
      "\n"
     ]
    },
    {
     "name": "stdout",
     "output_type": "stream",
     "text": [
      "Epoch 180, Loss 0.0391\n",
      "Training Accuracy: 0.9599, Testing Accuracy: 0.9647\n",
      "\n"
     ]
    },
    {
     "name": "stdout",
     "output_type": "stream",
     "text": [
      "Epoch 190, Loss 0.0386\n",
      "Training Accuracy: 0.9602, Testing Accuracy: 0.9647\n",
      "\n"
     ]
    },
    {
     "name": "stdout",
     "output_type": "stream",
     "text": [
      "Epoch 200, Loss 0.0381\n",
      "Training Accuracy: 0.9604, Testing Accuracy: 0.9647\n",
      "\n"
     ]
    },
    {
     "name": "stdout",
     "output_type": "stream",
     "text": [
      "Epoch 210, Loss 0.0377\n",
      "Training Accuracy: 0.9606, Testing Accuracy: 0.9657\n",
      "\n"
     ]
    },
    {
     "name": "stdout",
     "output_type": "stream",
     "text": [
      "Epoch 220, Loss 0.0373\n",
      "Training Accuracy: 0.9608, Testing Accuracy: 0.9657\n",
      "\n"
     ]
    },
    {
     "name": "stdout",
     "output_type": "stream",
     "text": [
      "Epoch 230, Loss 0.0369\n",
      "Training Accuracy: 0.9609, Testing Accuracy: 0.9667\n",
      "\n"
     ]
    },
    {
     "name": "stdout",
     "output_type": "stream",
     "text": [
      "Epoch 240, Loss 0.0365\n",
      "Training Accuracy: 0.9614, Testing Accuracy: 0.9667\n",
      "\n"
     ]
    },
    {
     "data": {
      "text/plain": [
       "0.03197977757275935"
      ]
     },
     "execution_count": 23,
     "metadata": {},
     "output_type": "execute_result"
    }
   ],
   "source": [
    "lr_learner.train_loop(dl)"
   ]
  },
  {
   "cell_type": "code",
   "execution_count": 24,
   "id": "ca410940",
   "metadata": {
    "execution": {
     "iopub.execute_input": "2022-02-04T10:07:30.541393Z",
     "iopub.status.busy": "2022-02-04T10:07:30.540779Z",
     "iopub.status.idle": "2022-02-04T10:07:30.762932Z",
     "shell.execute_reply": "2022-02-04T10:07:30.762476Z"
    },
    "papermill": {
     "duration": 0.276967,
     "end_time": "2022-02-04T10:07:30.763052",
     "exception": false,
     "start_time": "2022-02-04T10:07:30.486085",
     "status": "completed"
    },
    "tags": []
   },
   "outputs": [
    {
     "data": {
      "text/plain": [
       "<matplotlib.legend.Legend at 0x7f8cd96803c8>"
      ]
     },
     "execution_count": 24,
     "metadata": {},
     "output_type": "execute_result"
    },
    {
     "data": {
      "image/png": "[encoded data removed]",
      "text/plain": [
       "<Figure size 1080x720 with 1 Axes>"
      ]
     },
     "metadata": {
      "needs_background": "light"
     },
     "output_type": "display_data"
    }
   ],
   "source": [
    "#comparing the results of NN and LR\n",
    "plt.figure(figsize=(15,10))\n",
    "\n",
    "# Neural Network plots\n",
    "plt.plot(acc_nn.accuracies, 'r-', label = \"Training Accuracies - NN\")\n",
    "plt.plot(acc_nn.test_accuracies, 'g-', label = \"Testing Accuracies - NN\")\n",
    "\n",
    "# Logistic Regression plots\n",
    "plt.plot(acc_lr.accuracies, 'k-', label = \"Training Accuracies - LR\")\n",
    "plt.plot(acc_lr.test_accuracies, 'b-', label = \"Testing Accuracies - LR\")\n",
    "plt.legend()"
   ]
  },
  {
   "cell_type": "markdown",
   "id": "80dfb35c",
   "metadata": {
    "papermill": {
     "duration": 0.043095,
     "end_time": "2022-02-04T10:07:30.849718",
     "exception": false,
     "start_time": "2022-02-04T10:07:30.806623",
     "status": "completed"
    },
    "tags": []
   },
   "source": [
    "#### Plotting the outputs of this layer of the NN.\n"
   ]
  },
  {
   "cell_type": "code",
   "execution_count": 25,
   "id": "45eb2ff5",
   "metadata": {
    "execution": {
     "iopub.execute_input": "2022-02-04T10:07:30.942233Z",
     "iopub.status.busy": "2022-02-04T10:07:30.941671Z",
     "iopub.status.idle": "2022-02-04T10:07:30.962442Z",
     "shell.execute_reply": "2022-02-04T10:07:30.961961Z"
    },
    "papermill": {
     "duration": 0.069853,
     "end_time": "2022-02-04T10:07:30.962572",
     "exception": false,
     "start_time": "2022-02-04T10:07:30.892719",
     "status": "completed"
    },
    "tags": []
   },
   "outputs": [],
   "source": [
    "new_model = Model(layers[:-2])\n",
    "testing_plot = new_model(testing_data_x)"
   ]
  },
  {
   "cell_type": "code",
   "execution_count": 26,
   "id": "4c0a5485",
   "metadata": {
    "execution": {
     "iopub.execute_input": "2022-02-04T10:07:31.055776Z",
     "iopub.status.busy": "2022-02-04T10:07:31.054367Z",
     "iopub.status.idle": "2022-02-04T10:07:31.255844Z",
     "shell.execute_reply": "2022-02-04T10:07:31.255391Z"
    },
    "papermill": {
     "duration": 0.24991,
     "end_time": "2022-02-04T10:07:31.255971",
     "exception": false,
     "start_time": "2022-02-04T10:07:31.006061",
     "status": "completed"
    },
    "tags": []
   },
   "outputs": [
    {
     "data": {
      "text/plain": [
       "Text(0.5, 1.0, 'Outputs')"
      ]
     },
     "execution_count": 26,
     "metadata": {},
     "output_type": "execute_result"
    },
    {
     "data": {
      "image/png": "[encoded data removed]",
      "text/plain": [
       "<Figure size 576x504 with 1 Axes>"
      ]
     },
     "metadata": {
      "needs_background": "light"
     },
     "output_type": "display_data"
    }
   ],
   "source": [
    "# Plotting the scatter plot of points and color coding by class\n",
    "plt.figure(figsize=(8,7))\n",
    "plt.scatter(testing_plot[:,0], testing_plot[:,1], alpha = 0.1, c = y_test.ravel());\n",
    "plt.title('Outputs')"
   ]
  },
  {
   "cell_type": "markdown",
   "id": "a74fcf8f",
   "metadata": {
    "papermill": {
     "duration": 0.04553,
     "end_time": "2022-02-04T10:07:31.347260",
     "exception": false,
     "start_time": "2022-02-04T10:07:31.301730",
     "status": "completed"
    },
    "tags": []
   },
   "source": [
    "Probability contours"
   ]
  },
  {
   "cell_type": "code",
   "execution_count": 27,
   "id": "d0afc8e3",
   "metadata": {
    "execution": {
     "iopub.execute_input": "2022-02-04T10:07:31.446442Z",
     "iopub.status.busy": "2022-02-04T10:07:31.445888Z",
     "iopub.status.idle": "2022-02-04T10:07:31.454401Z",
     "shell.execute_reply": "2022-02-04T10:07:31.453953Z"
    },
    "papermill": {
     "duration": 0.061461,
     "end_time": "2022-02-04T10:07:31.454516",
     "exception": false,
     "start_time": "2022-02-04T10:07:31.393055",
     "status": "completed"
    },
    "tags": []
   },
   "outputs": [],
   "source": [
    "model_prob = Model(layers[-2:]) "
   ]
  },
  {
   "cell_type": "code",
   "execution_count": 28,
   "id": "9b96e238",
   "metadata": {
    "execution": {
     "iopub.execute_input": "2022-02-04T10:07:31.590684Z",
     "iopub.status.busy": "2022-02-04T10:07:31.590149Z",
     "iopub.status.idle": "2022-02-04T10:07:31.600810Z",
     "shell.execute_reply": "2022-02-04T10:07:31.601232Z"
    },
    "papermill": {
     "duration": 0.100805,
     "end_time": "2022-02-04T10:07:31.601377",
     "exception": false,
     "start_time": "2022-02-04T10:07:31.500572",
     "status": "completed"
    },
    "tags": []
   },
   "outputs": [],
   "source": [
    "#creating the x and y ranges according to the above generated plot.\n",
    "x_range = np.linspace(-4, 1, 100) \n",
    "y_range = np.linspace(-6, 6, 100) \n",
    "x_grid, y_grid = np.meshgrid(x_range, y_range) # x_grid and y_grig are of size 100 X 100\n",
    "\n",
    "# converting x_grid and y_grid to continuous arrays\n",
    "x_gridflat = np.ravel(x_grid)\n",
    "y_gridflat = np.ravel(y_grid)\n",
    "\n",
    "# The last layer of the current model takes two columns as input. Hence transpose of np.vstack() is required.\n",
    "X = np.vstack((x_gridflat, y_gridflat)).T\n",
    "\n",
    "prob_contour = model_prob(X).reshape(100,100) "
   ]
  },
  {
   "cell_type": "code",
   "execution_count": 29,
   "id": "da72499a",
   "metadata": {
    "execution": {
     "iopub.execute_input": "2022-02-04T10:07:31.702635Z",
     "iopub.status.busy": "2022-02-04T10:07:31.702079Z",
     "iopub.status.idle": "2022-02-04T10:07:31.932202Z",
     "shell.execute_reply": "2022-02-04T10:07:31.931719Z"
    },
    "papermill": {
     "duration": 0.284803,
     "end_time": "2022-02-04T10:07:31.932333",
     "exception": false,
     "start_time": "2022-02-04T10:07:31.647530",
     "status": "completed"
    },
    "tags": []
   },
   "outputs": [
    {
     "data": {
      "image/png": "[encoded data removed]",
      "text/plain": [
       "<Figure size 720x648 with 1 Axes>"
      ]
     },
     "metadata": {
      "needs_background": "light"
     },
     "output_type": "display_data"
    }
   ],
   "source": [
    "plt.figure(figsize=(10,9))\n",
    "plt.scatter(testing_plot[:,0], testing_plot[:,1], alpha = 0.1, c = y_test.ravel())\n",
    "contours = plt.contour(x_grid,y_grid,prob_contour)\n",
    "plt.title('Probability Contours')\n",
    "plt.clabel(contours, inline = True );"
   ]
  },
  {
   "cell_type": "code",
   "execution_count": null,
   "id": "e81b4ac7",
   "metadata": {
    "papermill": {
     "duration": 0.048354,
     "end_time": "2022-02-04T10:07:32.029558",
     "exception": false,
     "start_time": "2022-02-04T10:07:31.981204",
     "status": "completed"
    },
    "tags": []
   },
   "outputs": [],
   "source": []
  }
 ],
 "metadata": {
  "kernelspec": {
   "display_name": "Python 3",
   "language": "python",
   "name": "python3"
  },
  "language_info": {
   "codemirror_mode": {
    "name": "ipython",
    "version": 3
   },
   "file_extension": ".py",
   "mimetype": "text/x-python",
   "name": "python",
   "nbconvert_exporter": "python",
   "pygments_lexer": "ipython3",
   "version": "3.6.15"
  },
  "papermill": {
   "default_parameters": {},
   "duration": 99.650761,
   "end_time": "2022-02-04T10:07:32.497028",
   "environment_variables": {},
   "exception": null,
   "input_path": "2020-08-11-part2.ipynb",
   "output_path": "2020-08-11-part2.ipynb",
   "parameters": {},
   "start_time": "2022-02-04T10:05:52.846267",
   "version": "2.3.3"
  }
 },
 "nbformat": 4,
 "nbformat_minor": 5
}