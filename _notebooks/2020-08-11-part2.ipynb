{
 "cells": [
  {
   "cell_type": "markdown",
   "id": "98380cd3",
   "metadata": {
    "papermill": {
     "duration": 0.036936,
     "end_time": "2021-10-02T20:07:26.108287",
     "exception": false,
     "start_time": "2021-10-02T20:07:26.071351",
     "status": "completed"
    },
    "tags": []
   },
   "source": [
    "# Distinguish Your Own Digits (DYOD)"
   ]
  },
  {
   "cell_type": "markdown",
   "id": "ef31240d",
   "metadata": {
    "papermill": {
     "duration": 0.028361,
     "end_time": "2021-10-02T20:07:26.165743",
     "exception": false,
     "start_time": "2021-10-02T20:07:26.137382",
     "status": "completed"
    },
    "tags": []
   },
   "source": [
    "You are going to write a classifier that distinguishes between the number 3 and number 8."
   ]
  },
  {
   "cell_type": "code",
   "execution_count": 1,
   "id": "b15c8646",
   "metadata": {
    "execution": {
     "iopub.execute_input": "2021-10-02T20:07:26.235149Z",
     "iopub.status.busy": "2021-10-02T20:07:26.231581Z",
     "iopub.status.idle": "2021-10-02T20:07:26.247382Z",
     "shell.execute_reply": "2021-10-02T20:07:26.246809Z"
    },
    "papermill": {
     "duration": 0.053565,
     "end_time": "2021-10-02T20:07:26.247541",
     "exception": false,
     "start_time": "2021-10-02T20:07:26.193976",
     "status": "completed"
    },
    "tags": []
   },
   "outputs": [],
   "source": [
    "%load_ext autoreload\n",
    "%autoreload 2"
   ]
  },
  {
   "cell_type": "code",
   "execution_count": 2,
   "id": "22ef38dc",
   "metadata": {
    "execution": {
     "iopub.execute_input": "2021-10-02T20:07:26.309586Z",
     "iopub.status.busy": "2021-10-02T20:07:26.308960Z",
     "iopub.status.idle": "2021-10-02T20:07:26.929501Z",
     "shell.execute_reply": "2021-10-02T20:07:26.928682Z"
    },
    "papermill": {
     "duration": 0.653601,
     "end_time": "2021-10-02T20:07:26.929710",
     "exception": false,
     "start_time": "2021-10-02T20:07:26.276109",
     "status": "completed"
    },
    "tags": []
   },
   "outputs": [],
   "source": [
    "%matplotlib inline\n",
    "import numpy as np\n",
    "import matplotlib.pyplot as plt\n",
    "import pandas as pd"
   ]
  },
  {
   "cell_type": "markdown",
   "id": "ba036198",
   "metadata": {
    "papermill": {
     "duration": 0.028629,
     "end_time": "2021-10-02T20:07:26.988468",
     "exception": false,
     "start_time": "2021-10-02T20:07:26.959839",
     "status": "completed"
    },
    "tags": []
   },
   "source": [
    "From the command line run `pip install mnist`. This is a library that will help you bring down the mnist dataset. If you run this from a notebook, you need to put  `!pip install mnist` in a cell by itself."
   ]
  },
  {
   "cell_type": "code",
   "execution_count": 3,
   "id": "bb6ad8a1",
   "metadata": {
    "execution": {
     "iopub.execute_input": "2021-10-02T20:07:27.050224Z",
     "iopub.status.busy": "2021-10-02T20:07:27.049578Z",
     "iopub.status.idle": "2021-10-02T20:07:29.094628Z",
     "shell.execute_reply": "2021-10-02T20:07:29.093562Z"
    },
    "papermill": {
     "duration": 2.07781,
     "end_time": "2021-10-02T20:07:29.094793",
     "exception": false,
     "start_time": "2021-10-02T20:07:27.016983",
     "status": "completed"
    },
    "tags": []
   },
   "outputs": [
    {
     "name": "stdout",
     "output_type": "stream",
     "text": [
      "Collecting mnist\r\n"
     ]
    },
    {
     "name": "stdout",
     "output_type": "stream",
     "text": [
      "  Downloading mnist-0.2.2-py2.py3-none-any.whl (3.5 kB)\r\n",
      "Requirement already satisfied: numpy in /opt/hostedtoolcache/Python/3.6.15/x64/lib/python3.6/site-packages (from mnist) (1.19.5)\r\n"
     ]
    },
    {
     "name": "stdout",
     "output_type": "stream",
     "text": [
      "Installing collected packages: mnist\r\n",
      "Successfully installed mnist-0.2.2\r\n"
     ]
    }
   ],
   "source": [
    "!pip install mnist"
   ]
  },
  {
   "cell_type": "markdown",
   "id": "69df9c9a",
   "metadata": {
    "papermill": {
     "duration": 0.029445,
     "end_time": "2021-10-02T20:07:29.154061",
     "exception": false,
     "start_time": "2021-10-02T20:07:29.124616",
     "status": "completed"
    },
    "tags": []
   },
   "source": [
    "## Preparing the Data"
   ]
  },
  {
   "cell_type": "code",
   "execution_count": 4,
   "id": "7f69d806",
   "metadata": {
    "execution": {
     "iopub.execute_input": "2021-10-02T20:07:29.217591Z",
     "iopub.status.busy": "2021-10-02T20:07:29.216946Z",
     "iopub.status.idle": "2021-10-02T20:07:29.233453Z",
     "shell.execute_reply": "2021-10-02T20:07:29.232916Z"
    },
    "papermill": {
     "duration": 0.050162,
     "end_time": "2021-10-02T20:07:29.233588",
     "exception": false,
     "start_time": "2021-10-02T20:07:29.183426",
     "status": "completed"
    },
    "tags": []
   },
   "outputs": [],
   "source": [
    "import mnist"
   ]
  },
  {
   "cell_type": "code",
   "execution_count": 5,
   "id": "a411e44f",
   "metadata": {
    "execution": {
     "iopub.execute_input": "2021-10-02T20:07:29.297082Z",
     "iopub.status.busy": "2021-10-02T20:07:29.296457Z",
     "iopub.status.idle": "2021-10-02T20:07:29.915498Z",
     "shell.execute_reply": "2021-10-02T20:07:29.914790Z"
    },
    "papermill": {
     "duration": 0.652539,
     "end_time": "2021-10-02T20:07:29.915645",
     "exception": false,
     "start_time": "2021-10-02T20:07:29.263106",
     "status": "completed"
    },
    "tags": []
   },
   "outputs": [],
   "source": [
    "train_images = mnist.train_images()\n",
    "train_labels = mnist.train_labels()"
   ]
  },
  {
   "cell_type": "code",
   "execution_count": 6,
   "id": "dceab3a5",
   "metadata": {
    "execution": {
     "iopub.execute_input": "2021-10-02T20:07:29.978926Z",
     "iopub.status.busy": "2021-10-02T20:07:29.978240Z",
     "iopub.status.idle": "2021-10-02T20:07:29.997727Z",
     "shell.execute_reply": "2021-10-02T20:07:29.998257Z"
    },
    "papermill": {
     "duration": 0.053151,
     "end_time": "2021-10-02T20:07:29.998438",
     "exception": false,
     "start_time": "2021-10-02T20:07:29.945287",
     "status": "completed"
    },
    "tags": []
   },
   "outputs": [
    {
     "data": {
      "text/plain": [
       "((60000, 28, 28), (60000,))"
      ]
     },
     "execution_count": 6,
     "metadata": {},
     "output_type": "execute_result"
    }
   ],
   "source": [
    "train_images.shape, train_labels.shape"
   ]
  },
  {
   "cell_type": "code",
   "execution_count": 7,
   "id": "f50dc2bb",
   "metadata": {
    "execution": {
     "iopub.execute_input": "2021-10-02T20:07:30.062103Z",
     "iopub.status.busy": "2021-10-02T20:07:30.061484Z",
     "iopub.status.idle": "2021-10-02T20:07:30.203783Z",
     "shell.execute_reply": "2021-10-02T20:07:30.203053Z"
    },
    "papermill": {
     "duration": 0.175906,
     "end_time": "2021-10-02T20:07:30.203957",
     "exception": false,
     "start_time": "2021-10-02T20:07:30.028051",
     "status": "completed"
    },
    "tags": []
   },
   "outputs": [],
   "source": [
    "test_images = mnist.test_images()\n",
    "test_labels = mnist.test_labels()"
   ]
  },
  {
   "cell_type": "code",
   "execution_count": 8,
   "id": "fc38cf1b",
   "metadata": {
    "execution": {
     "iopub.execute_input": "2021-10-02T20:07:30.268158Z",
     "iopub.status.busy": "2021-10-02T20:07:30.267527Z",
     "iopub.status.idle": "2021-10-02T20:07:30.283400Z",
     "shell.execute_reply": "2021-10-02T20:07:30.282890Z"
    },
    "papermill": {
     "duration": 0.049478,
     "end_time": "2021-10-02T20:07:30.283540",
     "exception": false,
     "start_time": "2021-10-02T20:07:30.234062",
     "status": "completed"
    },
    "tags": []
   },
   "outputs": [
    {
     "data": {
      "text/plain": [
       "((10000, 28, 28), (10000,))"
      ]
     },
     "execution_count": 8,
     "metadata": {},
     "output_type": "execute_result"
    }
   ],
   "source": [
    "test_images.shape, test_labels.shape"
   ]
  },
  {
   "cell_type": "code",
   "execution_count": 9,
   "id": "f9ed8fe0",
   "metadata": {
    "execution": {
     "iopub.execute_input": "2021-10-02T20:07:30.349344Z",
     "iopub.status.busy": "2021-10-02T20:07:30.348706Z",
     "iopub.status.idle": "2021-10-02T20:07:30.525393Z",
     "shell.execute_reply": "2021-10-02T20:07:30.525879Z"
    },
    "papermill": {
     "duration": 0.211999,
     "end_time": "2021-10-02T20:07:30.526049",
     "exception": false,
     "start_time": "2021-10-02T20:07:30.314050",
     "status": "completed"
    },
    "tags": []
   },
   "outputs": [
    {
     "name": "stdout",
     "output_type": "stream",
     "text": [
      "2\n"
     ]
    },
    {
     "data": {
      "text/plain": [
       "<matplotlib.image.AxesImage at 0x7f6d429ff748>"
      ]
     },
     "execution_count": 9,
     "metadata": {},
     "output_type": "execute_result"
    },
    {
     "data": {
      "image/png": "[encoded data removed]",
      "text/plain": [
       "<Figure size 432x288 with 1 Axes>"
      ]
     },
     "metadata": {
      "needs_background": "light"
     },
     "output_type": "display_data"
    }
   ],
   "source": [
    "image_index = 7776 # You may select anything up to 60,000\n",
    "print(train_labels[image_index]) \n",
    "plt.imshow(train_images[image_index], cmap='Greys')"
   ]
  },
  {
   "cell_type": "markdown",
   "id": "a8d2388d",
   "metadata": {
    "papermill": {
     "duration": 0.032604,
     "end_time": "2021-10-02T20:07:30.592758",
     "exception": false,
     "start_time": "2021-10-02T20:07:30.560154",
     "status": "completed"
    },
    "tags": []
   },
   "source": [
    "## Filter data to get 3 and 8 out"
   ]
  },
  {
   "cell_type": "code",
   "execution_count": 10,
   "id": "776f7fc7",
   "metadata": {
    "execution": {
     "iopub.execute_input": "2021-10-02T20:07:30.668102Z",
     "iopub.status.busy": "2021-10-02T20:07:30.667338Z",
     "iopub.status.idle": "2021-10-02T20:07:30.686710Z",
     "shell.execute_reply": "2021-10-02T20:07:30.687231Z"
    },
    "papermill": {
     "duration": 0.061219,
     "end_time": "2021-10-02T20:07:30.687396",
     "exception": false,
     "start_time": "2021-10-02T20:07:30.626177",
     "status": "completed"
    },
    "tags": []
   },
   "outputs": [],
   "source": [
    "train_filter = np.where((train_labels == 3 ) | (train_labels == 8))\n",
    "test_filter = np.where((test_labels == 3) | (test_labels == 8))\n",
    "X_train, y_train = train_images[train_filter], train_labels[train_filter]\n",
    "X_test, y_test = test_images[test_filter], test_labels[test_filter]"
   ]
  },
  {
   "cell_type": "markdown",
   "id": "948f0b7e",
   "metadata": {
    "papermill": {
     "duration": 0.037309,
     "end_time": "2021-10-02T20:07:30.760854",
     "exception": false,
     "start_time": "2021-10-02T20:07:30.723545",
     "status": "completed"
    },
    "tags": []
   },
   "source": [
    "We normalize the pizel values in the 0 to 1 range"
   ]
  },
  {
   "cell_type": "code",
   "execution_count": 11,
   "id": "ee4c2166",
   "metadata": {
    "execution": {
     "iopub.execute_input": "2021-10-02T20:07:30.834591Z",
     "iopub.status.busy": "2021-10-02T20:07:30.833914Z",
     "iopub.status.idle": "2021-10-02T20:07:30.890821Z",
     "shell.execute_reply": "2021-10-02T20:07:30.890180Z"
    },
    "papermill": {
     "duration": 0.097486,
     "end_time": "2021-10-02T20:07:30.890969",
     "exception": false,
     "start_time": "2021-10-02T20:07:30.793483",
     "status": "completed"
    },
    "tags": []
   },
   "outputs": [],
   "source": [
    "X_train = X_train/255.\n",
    "X_test = X_test/255."
   ]
  },
  {
   "cell_type": "markdown",
   "id": "ddcf4fab",
   "metadata": {
    "papermill": {
     "duration": 0.032035,
     "end_time": "2021-10-02T20:07:30.956084",
     "exception": false,
     "start_time": "2021-10-02T20:07:30.924049",
     "status": "completed"
    },
    "tags": []
   },
   "source": [
    "And setup the labels as 1 (when the digit is 3) and 0 (when the digit is 8)"
   ]
  },
  {
   "cell_type": "code",
   "execution_count": 12,
   "id": "7dc908f2",
   "metadata": {
    "execution": {
     "iopub.execute_input": "2021-10-02T20:07:31.035592Z",
     "iopub.status.busy": "2021-10-02T20:07:31.034958Z",
     "iopub.status.idle": "2021-10-02T20:07:31.050080Z",
     "shell.execute_reply": "2021-10-02T20:07:31.049534Z"
    },
    "papermill": {
     "duration": 0.057786,
     "end_time": "2021-10-02T20:07:31.050212",
     "exception": false,
     "start_time": "2021-10-02T20:07:30.992426",
     "status": "completed"
    },
    "tags": []
   },
   "outputs": [],
   "source": [
    "y_train = 1*(y_train==3)\n",
    "y_test = 1*(y_test==3)"
   ]
  },
  {
   "cell_type": "code",
   "execution_count": 13,
   "id": "01e4e969",
   "metadata": {
    "execution": {
     "iopub.execute_input": "2021-10-02T20:07:31.122394Z",
     "iopub.status.busy": "2021-10-02T20:07:31.121689Z",
     "iopub.status.idle": "2021-10-02T20:07:31.140476Z",
     "shell.execute_reply": "2021-10-02T20:07:31.139964Z"
    },
    "papermill": {
     "duration": 0.058309,
     "end_time": "2021-10-02T20:07:31.140615",
     "exception": false,
     "start_time": "2021-10-02T20:07:31.082306",
     "status": "completed"
    },
    "tags": []
   },
   "outputs": [
    {
     "data": {
      "text/plain": [
       "((11982, 28, 28), (1984, 28, 28))"
      ]
     },
     "execution_count": 13,
     "metadata": {},
     "output_type": "execute_result"
    }
   ],
   "source": [
    "X_train.shape, X_test.shape"
   ]
  },
  {
   "cell_type": "markdown",
   "id": "5ccf3f85",
   "metadata": {
    "papermill": {
     "duration": 0.037689,
     "end_time": "2021-10-02T20:07:31.216342",
     "exception": false,
     "start_time": "2021-10-02T20:07:31.178653",
     "status": "completed"
    },
    "tags": []
   },
   "source": [
    "We reshape the data to flatten the image pixels into a set of features or co-variates:"
   ]
  },
  {
   "cell_type": "code",
   "execution_count": 14,
   "id": "5286a4a3",
   "metadata": {
    "execution": {
     "iopub.execute_input": "2021-10-02T20:07:31.299411Z",
     "iopub.status.busy": "2021-10-02T20:07:31.295322Z",
     "iopub.status.idle": "2021-10-02T20:07:31.308934Z",
     "shell.execute_reply": "2021-10-02T20:07:31.308388Z"
    },
    "papermill": {
     "duration": 0.058341,
     "end_time": "2021-10-02T20:07:31.309073",
     "exception": false,
     "start_time": "2021-10-02T20:07:31.250732",
     "status": "completed"
    },
    "tags": []
   },
   "outputs": [
    {
     "data": {
      "text/plain": [
       "((11982, 784), (1984, 784))"
      ]
     },
     "execution_count": 14,
     "metadata": {},
     "output_type": "execute_result"
    }
   ],
   "source": [
    "X_train = X_train.reshape(X_train.shape[0], -1)\n",
    "X_test = X_test.reshape(X_test.shape[0], -1)\n",
    "X_train.shape, X_test.shape"
   ]
  },
  {
   "cell_type": "code",
   "execution_count": 15,
   "id": "73c5f88a",
   "metadata": {
    "execution": {
     "iopub.execute_input": "2021-10-02T20:07:31.389237Z",
     "iopub.status.busy": "2021-10-02T20:07:31.388556Z",
     "iopub.status.idle": "2021-10-02T20:07:31.411162Z",
     "shell.execute_reply": "2021-10-02T20:07:31.410574Z"
    },
    "papermill": {
     "duration": 0.066748,
     "end_time": "2021-10-02T20:07:31.411303",
     "exception": false,
     "start_time": "2021-10-02T20:07:31.344555",
     "status": "completed"
    },
    "tags": []
   },
   "outputs": [],
   "source": [
    "#Impoting functions from 'Kudzu'\n",
    "from kudzu.model import Model\n",
    "from kudzu.train import Learner\n",
    "from kudzu.optim import GD\n",
    "from kudzu.data import Data, Sampler,Dataloader\n",
    "\n",
    "from kudzu.callbacks import AccCallback\n",
    "from kudzu.callbacks import ClfCallback\n",
    "\n",
    "from kudzu.loss import MSE\n",
    "\n",
    "from kudzu.layer import Sigmoid,Relu\n",
    "from kudzu.layer import Affine"
   ]
  },
  {
   "cell_type": "markdown",
   "id": "bc01172a",
   "metadata": {
    "papermill": {
     "duration": 0.039456,
     "end_time": "2021-10-02T20:07:31.490056",
     "exception": false,
     "start_time": "2021-10-02T20:07:31.450600",
     "status": "completed"
    },
    "tags": []
   },
   "source": [
    "### Let us create a `Config` class, to store important parameters. \n",
    "This class essentially plays the role of a dictionary."
   ]
  },
  {
   "cell_type": "code",
   "execution_count": 16,
   "id": "978281aa",
   "metadata": {
    "execution": {
     "iopub.execute_input": "2021-10-02T20:07:31.561386Z",
     "iopub.status.busy": "2021-10-02T20:07:31.560753Z",
     "iopub.status.idle": "2021-10-02T20:07:31.574957Z",
     "shell.execute_reply": "2021-10-02T20:07:31.574440Z"
    },
    "papermill": {
     "duration": 0.051988,
     "end_time": "2021-10-02T20:07:31.575096",
     "exception": false,
     "start_time": "2021-10-02T20:07:31.523108",
     "status": "completed"
    },
    "tags": []
   },
   "outputs": [],
   "source": [
    "class Config:\n",
    "    pass\n",
    "config = Config()\n",
    "config.lr = 0.001\n",
    "config.num_epochs = 250\n",
    "config.bs = 50"
   ]
  },
  {
   "cell_type": "markdown",
   "id": "1385fa59",
   "metadata": {
    "papermill": {
     "duration": 0.033634,
     "end_time": "2021-10-02T20:07:31.641038",
     "exception": false,
     "start_time": "2021-10-02T20:07:31.607404",
     "status": "completed"
    },
    "tags": []
   },
   "source": [
    "### Running Models with the Training data\n",
    "Details about the network layers:\n",
    "- A first affine layer has 784 inputs and does 100 affine transforms. These are followed by a Relu\n",
    "- A second affine layer has 100 inputs from the 100 activations of the past layer, and does 100 affine transforms. These are followed by a Relu\n",
    "- A third affine layer has 100 activations and does 2 affine transformations to create an embedding for visualization. There is no non-linearity here.\n",
    "- A final \"logistic regression\" which has an affine transform from 2 inputs to 1 output, which is squeezed through a sigmoid.\n"
   ]
  },
  {
   "cell_type": "code",
   "execution_count": 17,
   "id": "2b9c66db",
   "metadata": {
    "execution": {
     "iopub.execute_input": "2021-10-02T20:07:31.712656Z",
     "iopub.status.busy": "2021-10-02T20:07:31.712016Z",
     "iopub.status.idle": "2021-10-02T20:07:31.726101Z",
     "shell.execute_reply": "2021-10-02T20:07:31.726634Z"
    },
    "papermill": {
     "duration": 0.05307,
     "end_time": "2021-10-02T20:07:31.726791",
     "exception": false,
     "start_time": "2021-10-02T20:07:31.673721",
     "status": "completed"
    },
    "tags": []
   },
   "outputs": [],
   "source": [
    "data = Data(X_train, y_train.reshape(-1,1))\n",
    "sampler = Sampler(data, config.bs, shuffle=True)\n",
    "\n",
    "dl = Dataloader(data, sampler)\n",
    "\n",
    "opt = GD(config.lr)\n",
    "loss = MSE()"
   ]
  },
  {
   "cell_type": "code",
   "execution_count": 18,
   "id": "b275e4c2",
   "metadata": {
    "execution": {
     "iopub.execute_input": "2021-10-02T20:07:31.803148Z",
     "iopub.status.busy": "2021-10-02T20:07:31.802484Z",
     "iopub.status.idle": "2021-10-02T20:07:31.815992Z",
     "shell.execute_reply": "2021-10-02T20:07:31.817532Z"
    },
    "papermill": {
     "duration": 0.055679,
     "end_time": "2021-10-02T20:07:31.817774",
     "exception": false,
     "start_time": "2021-10-02T20:07:31.762095",
     "status": "completed"
    },
    "tags": []
   },
   "outputs": [],
   "source": [
    "training_data_x = X_train\n",
    "testing_data_x = X_test\n",
    "training_data_y = y_train.reshape(-1,1)\n",
    "testing_data_y = y_test.reshape(-1,1)"
   ]
  },
  {
   "cell_type": "code",
   "execution_count": 19,
   "id": "76951160",
   "metadata": {
    "execution": {
     "iopub.execute_input": "2021-10-02T20:07:31.891250Z",
     "iopub.status.busy": "2021-10-02T20:07:31.890605Z",
     "iopub.status.idle": "2021-10-02T20:07:31.909507Z",
     "shell.execute_reply": "2021-10-02T20:07:31.910015Z"
    },
    "papermill": {
     "duration": 0.05656,
     "end_time": "2021-10-02T20:07:31.910170",
     "exception": false,
     "start_time": "2021-10-02T20:07:31.853610",
     "status": "completed"
    },
    "tags": []
   },
   "outputs": [
    {
     "name": "stdout",
     "output_type": "stream",
     "text": [
      "xavier\n",
      "xavier\n",
      "xavier\n",
      "xavier\n",
      "xavier\n"
     ]
    }
   ],
   "source": [
    "layers = [Affine(\"first\", 784, 100), Relu(\"first\"), Affine(\"second\", 100, 100), Relu(\"second\"), Affine(\"third\", 100, 2), Affine(\"last\", 2, 1), Sigmoid(\"last\")]\n",
    "model_nn = Model(layers)\n",
    "model_lr = Model([Affine(\"logits\", 784, 1), Sigmoid(\"sigmoid\")])"
   ]
  },
  {
   "cell_type": "code",
   "execution_count": 20,
   "id": "6eede77a",
   "metadata": {
    "execution": {
     "iopub.execute_input": "2021-10-02T20:07:31.984552Z",
     "iopub.status.busy": "2021-10-02T20:07:31.983847Z",
     "iopub.status.idle": "2021-10-02T20:07:31.999264Z",
     "shell.execute_reply": "2021-10-02T20:07:31.998715Z"
    },
    "papermill": {
     "duration": 0.054704,
     "end_time": "2021-10-02T20:07:31.999399",
     "exception": false,
     "start_time": "2021-10-02T20:07:31.944695",
     "status": "completed"
    },
    "tags": []
   },
   "outputs": [],
   "source": [
    "nn_learner = Learner(loss, model_nn, opt, config.num_epochs)\n",
    "acc_nn = ClfCallback(nn_learner, config.bs, training_data_x , testing_data_x, training_data_y, testing_data_y)\n",
    "nn_learner.set_callbacks([acc_nn])"
   ]
  },
  {
   "cell_type": "code",
   "execution_count": 21,
   "id": "877b6cc7",
   "metadata": {
    "execution": {
     "iopub.execute_input": "2021-10-02T20:07:32.075812Z",
     "iopub.status.busy": "2021-10-02T20:07:32.075014Z",
     "iopub.status.idle": "2021-10-02T20:07:32.089727Z",
     "shell.execute_reply": "2021-10-02T20:07:32.089131Z"
    },
    "papermill": {
     "duration": 0.053356,
     "end_time": "2021-10-02T20:07:32.089864",
     "exception": false,
     "start_time": "2021-10-02T20:07:32.036508",
     "status": "completed"
    },
    "tags": []
   },
   "outputs": [],
   "source": [
    "lr_learner = Learner(loss, model_lr, opt, config.num_epochs)\n",
    "acc_lr = ClfCallback(lr_learner, config.bs, training_data_x , testing_data_x, training_data_y, testing_data_y)\n",
    "lr_learner.set_callbacks([acc_lr])"
   ]
  },
  {
   "cell_type": "code",
   "execution_count": 22,
   "id": "d9b133c3",
   "metadata": {
    "execution": {
     "iopub.execute_input": "2021-10-02T20:07:32.168414Z",
     "iopub.status.busy": "2021-10-02T20:07:32.167504Z",
     "iopub.status.idle": "2021-10-02T20:09:06.505463Z",
     "shell.execute_reply": "2021-10-02T20:09:06.505995Z"
    },
    "papermill": {
     "duration": 94.380059,
     "end_time": "2021-10-02T20:09:06.506164",
     "exception": false,
     "start_time": "2021-10-02T20:07:32.126105",
     "status": "completed"
    },
    "tags": []
   },
   "outputs": [
    {
     "name": "stdout",
     "output_type": "stream",
     "text": [
      "Epoch 0, Loss 0.2221\n",
      "Training Accuracy: 0.7989, Testing Accuracy: 0.8347\n",
      "\n"
     ]
    },
    {
     "name": "stdout",
     "output_type": "stream",
     "text": [
      "Epoch 10, Loss 0.0753\n",
      "Training Accuracy: 0.9302, Testing Accuracy: 0.9446\n",
      "\n"
     ]
    },
    {
     "name": "stdout",
     "output_type": "stream",
     "text": [
      "Epoch 20, Loss 0.0503\n",
      "Training Accuracy: 0.9475, Testing Accuracy: 0.9551\n",
      "\n"
     ]
    },
    {
     "name": "stdout",
     "output_type": "stream",
     "text": [
      "Epoch 30, Loss 0.0411\n",
      "Training Accuracy: 0.9545, Testing Accuracy: 0.9597\n",
      "\n"
     ]
    },
    {
     "name": "stdout",
     "output_type": "stream",
     "text": [
      "Epoch 40, Loss 0.0363\n",
      "Training Accuracy: 0.9592, Testing Accuracy: 0.9642\n",
      "\n"
     ]
    },
    {
     "name": "stdout",
     "output_type": "stream",
     "text": [
      "Epoch 50, Loss 0.0332\n",
      "Training Accuracy: 0.9620, Testing Accuracy: 0.9652\n",
      "\n"
     ]
    },
    {
     "name": "stdout",
     "output_type": "stream",
     "text": [
      "Epoch 60, Loss 0.0309\n",
      "Training Accuracy: 0.9650, Testing Accuracy: 0.9677\n",
      "\n"
     ]
    },
    {
     "name": "stdout",
     "output_type": "stream",
     "text": [
      "Epoch 70, Loss 0.0293\n",
      "Training Accuracy: 0.9664, Testing Accuracy: 0.9682\n",
      "\n"
     ]
    },
    {
     "name": "stdout",
     "output_type": "stream",
     "text": [
      "Epoch 80, Loss 0.0279\n",
      "Training Accuracy: 0.9680, Testing Accuracy: 0.9693\n",
      "\n"
     ]
    },
    {
     "name": "stdout",
     "output_type": "stream",
     "text": [
      "Epoch 90, Loss 0.0268\n",
      "Training Accuracy: 0.9690, Testing Accuracy: 0.9698\n",
      "\n"
     ]
    },
    {
     "name": "stdout",
     "output_type": "stream",
     "text": [
      "Epoch 100, Loss 0.0258\n",
      "Training Accuracy: 0.9703, Testing Accuracy: 0.9703\n",
      "\n"
     ]
    },
    {
     "name": "stdout",
     "output_type": "stream",
     "text": [
      "Epoch 110, Loss 0.025\n",
      "Training Accuracy: 0.9713, Testing Accuracy: 0.9708\n",
      "\n"
     ]
    },
    {
     "name": "stdout",
     "output_type": "stream",
     "text": [
      "Epoch 120, Loss 0.0242\n",
      "Training Accuracy: 0.9724, Testing Accuracy: 0.9708\n",
      "\n"
     ]
    },
    {
     "name": "stdout",
     "output_type": "stream",
     "text": [
      "Epoch 130, Loss 0.0236\n",
      "Training Accuracy: 0.9733, Testing Accuracy: 0.9708\n",
      "\n"
     ]
    },
    {
     "name": "stdout",
     "output_type": "stream",
     "text": [
      "Epoch 140, Loss 0.023\n",
      "Training Accuracy: 0.9740, Testing Accuracy: 0.9713\n",
      "\n"
     ]
    },
    {
     "name": "stdout",
     "output_type": "stream",
     "text": [
      "Epoch 150, Loss 0.0224\n",
      "Training Accuracy: 0.9747, Testing Accuracy: 0.9723\n",
      "\n"
     ]
    },
    {
     "name": "stdout",
     "output_type": "stream",
     "text": [
      "Epoch 160, Loss 0.0219\n",
      "Training Accuracy: 0.9754, Testing Accuracy: 0.9728\n",
      "\n"
     ]
    },
    {
     "name": "stdout",
     "output_type": "stream",
     "text": [
      "Epoch 170, Loss 0.0214\n",
      "Training Accuracy: 0.9756, Testing Accuracy: 0.9728\n",
      "\n"
     ]
    },
    {
     "name": "stdout",
     "output_type": "stream",
     "text": [
      "Epoch 180, Loss 0.021\n",
      "Training Accuracy: 0.9760, Testing Accuracy: 0.9728\n",
      "\n"
     ]
    },
    {
     "name": "stdout",
     "output_type": "stream",
     "text": [
      "Epoch 190, Loss 0.0206\n",
      "Training Accuracy: 0.9766, Testing Accuracy: 0.9723\n",
      "\n"
     ]
    },
    {
     "name": "stdout",
     "output_type": "stream",
     "text": [
      "Epoch 200, Loss 0.0202\n",
      "Training Accuracy: 0.9777, Testing Accuracy: 0.9723\n",
      "\n"
     ]
    },
    {
     "name": "stdout",
     "output_type": "stream",
     "text": [
      "Epoch 210, Loss 0.0198\n",
      "Training Accuracy: 0.9784, Testing Accuracy: 0.9723\n",
      "\n"
     ]
    },
    {
     "name": "stdout",
     "output_type": "stream",
     "text": [
      "Epoch 220, Loss 0.0194\n",
      "Training Accuracy: 0.9786, Testing Accuracy: 0.9733\n",
      "\n"
     ]
    },
    {
     "name": "stdout",
     "output_type": "stream",
     "text": [
      "Epoch 230, Loss 0.019\n",
      "Training Accuracy: 0.9793, Testing Accuracy: 0.9738\n",
      "\n"
     ]
    },
    {
     "name": "stdout",
     "output_type": "stream",
     "text": [
      "Epoch 240, Loss 0.0187\n",
      "Training Accuracy: 0.9794, Testing Accuracy: 0.9733\n",
      "\n"
     ]
    },
    {
     "data": {
      "text/plain": [
       "0.001532854653596227"
      ]
     },
     "execution_count": 22,
     "metadata": {},
     "output_type": "execute_result"
    }
   ],
   "source": [
    "nn_learner.train_loop(dl)"
   ]
  },
  {
   "cell_type": "code",
   "execution_count": 23,
   "id": "e0163366",
   "metadata": {
    "execution": {
     "iopub.execute_input": "2021-10-02T20:09:06.591541Z",
     "iopub.status.busy": "2021-10-02T20:09:06.590865Z",
     "iopub.status.idle": "2021-10-02T20:09:24.220041Z",
     "shell.execute_reply": "2021-10-02T20:09:24.220960Z"
    },
    "papermill": {
     "duration": 17.674206,
     "end_time": "2021-10-02T20:09:24.221138",
     "exception": false,
     "start_time": "2021-10-02T20:09:06.546932",
     "status": "completed"
    },
    "tags": []
   },
   "outputs": [
    {
     "name": "stdout",
     "output_type": "stream",
     "text": [
      "Epoch 0, Loss 0.2673\n",
      "Training Accuracy: 0.6124, Testing Accuracy: 0.6235\n",
      "\n"
     ]
    },
    {
     "name": "stdout",
     "output_type": "stream",
     "text": [
      "Epoch 10, Loss 0.109\n",
      "Training Accuracy: 0.8963, Testing Accuracy: 0.9017\n",
      "\n"
     ]
    },
    {
     "name": "stdout",
     "output_type": "stream",
     "text": [
      "Epoch 20, Loss 0.0825\n",
      "Training Accuracy: 0.9219, Testing Accuracy: 0.9289\n",
      "\n"
     ]
    },
    {
     "name": "stdout",
     "output_type": "stream",
     "text": [
      "Epoch 30, Loss 0.0704\n",
      "Training Accuracy: 0.9340, Testing Accuracy: 0.9461\n",
      "\n"
     ]
    },
    {
     "name": "stdout",
     "output_type": "stream",
     "text": [
      "Epoch 40, Loss 0.0631\n",
      "Training Accuracy: 0.9408, Testing Accuracy: 0.9521\n",
      "\n"
     ]
    },
    {
     "name": "stdout",
     "output_type": "stream",
     "text": [
      "Epoch 50, Loss 0.0583\n",
      "Training Accuracy: 0.9453, Testing Accuracy: 0.9546\n",
      "\n"
     ]
    },
    {
     "name": "stdout",
     "output_type": "stream",
     "text": [
      "Epoch 60, Loss 0.0547\n",
      "Training Accuracy: 0.9471, Testing Accuracy: 0.9561\n",
      "\n"
     ]
    },
    {
     "name": "stdout",
     "output_type": "stream",
     "text": [
      "Epoch 70, Loss 0.052\n",
      "Training Accuracy: 0.9488, Testing Accuracy: 0.9577\n",
      "\n"
     ]
    },
    {
     "name": "stdout",
     "output_type": "stream",
     "text": [
      "Epoch 80, Loss 0.0499\n",
      "Training Accuracy: 0.9505, Testing Accuracy: 0.9597\n",
      "\n"
     ]
    },
    {
     "name": "stdout",
     "output_type": "stream",
     "text": [
      "Epoch 90, Loss 0.0481\n",
      "Training Accuracy: 0.9521, Testing Accuracy: 0.9602\n",
      "\n"
     ]
    },
    {
     "name": "stdout",
     "output_type": "stream",
     "text": [
      "Epoch 100, Loss 0.0466\n",
      "Training Accuracy: 0.9526, Testing Accuracy: 0.9607\n",
      "\n"
     ]
    },
    {
     "name": "stdout",
     "output_type": "stream",
     "text": [
      "Epoch 110, Loss 0.0453\n",
      "Training Accuracy: 0.9536, Testing Accuracy: 0.9607\n",
      "\n"
     ]
    },
    {
     "name": "stdout",
     "output_type": "stream",
     "text": [
      "Epoch 120, Loss 0.0442\n",
      "Training Accuracy: 0.9541, Testing Accuracy: 0.9622\n",
      "\n"
     ]
    },
    {
     "name": "stdout",
     "output_type": "stream",
     "text": [
      "Epoch 130, Loss 0.0433\n",
      "Training Accuracy: 0.9546, Testing Accuracy: 0.9627\n",
      "\n"
     ]
    },
    {
     "name": "stdout",
     "output_type": "stream",
     "text": [
      "Epoch 140, Loss 0.0424\n",
      "Training Accuracy: 0.9556, Testing Accuracy: 0.9632\n",
      "\n"
     ]
    },
    {
     "name": "stdout",
     "output_type": "stream",
     "text": [
      "Epoch 150, Loss 0.0417\n",
      "Training Accuracy: 0.9562, Testing Accuracy: 0.9637\n",
      "\n"
     ]
    },
    {
     "name": "stdout",
     "output_type": "stream",
     "text": [
      "Epoch 160, Loss 0.041\n",
      "Training Accuracy: 0.9567, Testing Accuracy: 0.9657\n",
      "\n"
     ]
    },
    {
     "name": "stdout",
     "output_type": "stream",
     "text": [
      "Epoch 170, Loss 0.0403\n",
      "Training Accuracy: 0.9569, Testing Accuracy: 0.9657\n",
      "\n"
     ]
    },
    {
     "name": "stdout",
     "output_type": "stream",
     "text": [
      "Epoch 180, Loss 0.0398\n",
      "Training Accuracy: 0.9574, Testing Accuracy: 0.9657\n",
      "\n"
     ]
    },
    {
     "name": "stdout",
     "output_type": "stream",
     "text": [
      "Epoch 190, Loss 0.0392\n",
      "Training Accuracy: 0.9583, Testing Accuracy: 0.9662\n",
      "\n"
     ]
    },
    {
     "name": "stdout",
     "output_type": "stream",
     "text": [
      "Epoch 200, Loss 0.0388\n",
      "Training Accuracy: 0.9592, Testing Accuracy: 0.9657\n",
      "\n"
     ]
    },
    {
     "name": "stdout",
     "output_type": "stream",
     "text": [
      "Epoch 210, Loss 0.0383\n",
      "Training Accuracy: 0.9597, Testing Accuracy: 0.9667\n",
      "\n"
     ]
    },
    {
     "name": "stdout",
     "output_type": "stream",
     "text": [
      "Epoch 220, Loss 0.0379\n",
      "Training Accuracy: 0.9599, Testing Accuracy: 0.9662\n",
      "\n"
     ]
    },
    {
     "name": "stdout",
     "output_type": "stream",
     "text": [
      "Epoch 230, Loss 0.0375\n",
      "Training Accuracy: 0.9603, Testing Accuracy: 0.9662\n",
      "\n"
     ]
    },
    {
     "name": "stdout",
     "output_type": "stream",
     "text": [
      "Epoch 240, Loss 0.0371\n",
      "Training Accuracy: 0.9602, Testing Accuracy: 0.9662\n",
      "\n"
     ]
    },
    {
     "data": {
      "text/plain": [
       "0.05535340049434284"
      ]
     },
     "execution_count": 23,
     "metadata": {},
     "output_type": "execute_result"
    }
   ],
   "source": [
    "lr_learner.train_loop(dl)"
   ]
  },
  {
   "cell_type": "code",
   "execution_count": 24,
   "id": "ca410940",
   "metadata": {
    "execution": {
     "iopub.execute_input": "2021-10-02T20:09:24.332139Z",
     "iopub.status.busy": "2021-10-02T20:09:24.331478Z",
     "iopub.status.idle": "2021-10-02T20:09:24.621771Z",
     "shell.execute_reply": "2021-10-02T20:09:24.620726Z"
    },
    "papermill": {
     "duration": 0.351201,
     "end_time": "2021-10-02T20:09:24.621930",
     "exception": false,
     "start_time": "2021-10-02T20:09:24.270729",
     "status": "completed"
    },
    "tags": []
   },
   "outputs": [
    {
     "data": {
      "text/plain": [
       "<matplotlib.legend.Legend at 0x7f6d42563828>"
      ]
     },
     "execution_count": 24,
     "metadata": {},
     "output_type": "execute_result"
    },
    {
     "data": {
      "image/png": "[encoded data removed]",
      "text/plain": [
       "<Figure size 1080x720 with 1 Axes>"
      ]
     },
     "metadata": {
      "needs_background": "light"
     },
     "output_type": "display_data"
    }
   ],
   "source": [
    "#comparing the results of NN and LR\n",
    "plt.figure(figsize=(15,10))\n",
    "\n",
    "# Neural Network plots\n",
    "plt.plot(acc_nn.accuracies, 'r-', label = \"Training Accuracies - NN\")\n",
    "plt.plot(acc_nn.test_accuracies, 'g-', label = \"Testing Accuracies - NN\")\n",
    "\n",
    "# Logistic Regression plots\n",
    "plt.plot(acc_lr.accuracies, 'k-', label = \"Training Accuracies - LR\")\n",
    "plt.plot(acc_lr.test_accuracies, 'b-', label = \"Testing Accuracies - LR\")\n",
    "plt.legend()"
   ]
  },
  {
   "cell_type": "markdown",
   "id": "80dfb35c",
   "metadata": {
    "papermill": {
     "duration": 0.050237,
     "end_time": "2021-10-02T20:09:24.722975",
     "exception": false,
     "start_time": "2021-10-02T20:09:24.672738",
     "status": "completed"
    },
    "tags": []
   },
   "source": [
    "#### Plotting the outputs of this layer of the NN.\n"
   ]
  },
  {
   "cell_type": "code",
   "execution_count": 25,
   "id": "45eb2ff5",
   "metadata": {
    "execution": {
     "iopub.execute_input": "2021-10-02T20:09:24.832215Z",
     "iopub.status.busy": "2021-10-02T20:09:24.829283Z",
     "iopub.status.idle": "2021-10-02T20:09:24.854900Z",
     "shell.execute_reply": "2021-10-02T20:09:24.855453Z"
    },
    "papermill": {
     "duration": 0.082123,
     "end_time": "2021-10-02T20:09:24.855627",
     "exception": false,
     "start_time": "2021-10-02T20:09:24.773504",
     "status": "completed"
    },
    "tags": []
   },
   "outputs": [],
   "source": [
    "new_model = Model(layers[:-2])\n",
    "testing_plot = new_model(testing_data_x)"
   ]
  },
  {
   "cell_type": "code",
   "execution_count": 26,
   "id": "4c0a5485",
   "metadata": {
    "execution": {
     "iopub.execute_input": "2021-10-02T20:09:24.978686Z",
     "iopub.status.busy": "2021-10-02T20:09:24.977987Z",
     "iopub.status.idle": "2021-10-02T20:09:25.229324Z",
     "shell.execute_reply": "2021-10-02T20:09:25.228374Z"
    },
    "papermill": {
     "duration": 0.316445,
     "end_time": "2021-10-02T20:09:25.229485",
     "exception": false,
     "start_time": "2021-10-02T20:09:24.913040",
     "status": "completed"
    },
    "tags": []
   },
   "outputs": [
    {
     "data": {
      "text/plain": [
       "Text(0.5, 1.0, 'Outputs')"
      ]
     },
     "execution_count": 26,
     "metadata": {},
     "output_type": "execute_result"
    },
    {
     "data": {
      "image/png": "[encoded data removed]",
      "text/plain": [
       "<Figure size 576x504 with 1 Axes>"
      ]
     },
     "metadata": {
      "needs_background": "light"
     },
     "output_type": "display_data"
    }
   ],
   "source": [
    "# Plotting the scatter plot of points and color coding by class\n",
    "plt.figure(figsize=(8,7))\n",
    "plt.scatter(testing_plot[:,0], testing_plot[:,1], alpha = 0.1, c = y_test.ravel());\n",
    "plt.title('Outputs')"
   ]
  },
  {
   "cell_type": "markdown",
   "id": "a74fcf8f",
   "metadata": {
    "papermill": {
     "duration": 0.05243,
     "end_time": "2021-10-02T20:09:25.335127",
     "exception": false,
     "start_time": "2021-10-02T20:09:25.282697",
     "status": "completed"
    },
    "tags": []
   },
   "source": [
    "Probability contours"
   ]
  },
  {
   "cell_type": "code",
   "execution_count": 27,
   "id": "d0afc8e3",
   "metadata": {
    "execution": {
     "iopub.execute_input": "2021-10-02T20:09:25.447411Z",
     "iopub.status.busy": "2021-10-02T20:09:25.446766Z",
     "iopub.status.idle": "2021-10-02T20:09:25.461462Z",
     "shell.execute_reply": "2021-10-02T20:09:25.460892Z"
    },
    "papermill": {
     "duration": 0.07339,
     "end_time": "2021-10-02T20:09:25.461618",
     "exception": false,
     "start_time": "2021-10-02T20:09:25.388228",
     "status": "completed"
    },
    "tags": []
   },
   "outputs": [],
   "source": [
    "model_prob = Model(layers[-2:]) "
   ]
  },
  {
   "cell_type": "code",
   "execution_count": 28,
   "id": "9b96e238",
   "metadata": {
    "execution": {
     "iopub.execute_input": "2021-10-02T20:09:25.573915Z",
     "iopub.status.busy": "2021-10-02T20:09:25.573270Z",
     "iopub.status.idle": "2021-10-02T20:09:25.591078Z",
     "shell.execute_reply": "2021-10-02T20:09:25.591557Z"
    },
    "papermill": {
     "duration": 0.077068,
     "end_time": "2021-10-02T20:09:25.591724",
     "exception": false,
     "start_time": "2021-10-02T20:09:25.514656",
     "status": "completed"
    },
    "tags": []
   },
   "outputs": [],
   "source": [
    "#creating the x and y ranges according to the above generated plot.\n",
    "x_range = np.linspace(-4, 1, 100) \n",
    "y_range = np.linspace(-6, 6, 100) \n",
    "x_grid, y_grid = np.meshgrid(x_range, y_range) # x_grid and y_grig are of size 100 X 100\n",
    "\n",
    "# converting x_grid and y_grid to continuous arrays\n",
    "x_gridflat = np.ravel(x_grid)\n",
    "y_gridflat = np.ravel(y_grid)\n",
    "\n",
    "# The last layer of the current model takes two columns as input. Hence transpose of np.vstack() is required.\n",
    "X = np.vstack((x_gridflat, y_gridflat)).T\n",
    "\n",
    "prob_contour = model_prob(X).reshape(100,100) "
   ]
  },
  {
   "cell_type": "code",
   "execution_count": 29,
   "id": "da72499a",
   "metadata": {
    "execution": {
     "iopub.execute_input": "2021-10-02T20:09:25.741116Z",
     "iopub.status.busy": "2021-10-02T20:09:25.740455Z",
     "iopub.status.idle": "2021-10-02T20:09:26.038269Z",
     "shell.execute_reply": "2021-10-02T20:09:26.038862Z"
    },
    "papermill": {
     "duration": 0.390526,
     "end_time": "2021-10-02T20:09:26.039274",
     "exception": false,
     "start_time": "2021-10-02T20:09:25.648748",
     "status": "completed"
    },
    "tags": []
   },
   "outputs": [
    {
     "data": {
      "image/png": "[encoded data removed]",
      "text/plain": [
       "<Figure size 720x648 with 1 Axes>"
      ]
     },
     "metadata": {
      "needs_background": "light"
     },
     "output_type": "display_data"
    }
   ],
   "source": [
    "plt.figure(figsize=(10,9))\n",
    "plt.scatter(testing_plot[:,0], testing_plot[:,1], alpha = 0.1, c = y_test.ravel())\n",
    "contours = plt.contour(x_grid,y_grid,prob_contour)\n",
    "plt.title('Probability Contours')\n",
    "plt.clabel(contours, inline = True );"
   ]
  },
  {
   "cell_type": "code",
   "execution_count": null,
   "id": "e81b4ac7",
   "metadata": {
    "papermill": {
     "duration": 0.055796,
     "end_time": "2021-10-02T20:09:26.155775",
     "exception": false,
     "start_time": "2021-10-02T20:09:26.099979",
     "status": "completed"
    },
    "tags": []
   },
   "outputs": [],
   "source": []
  }
 ],
 "metadata": {
  "kernelspec": {
   "display_name": "Python 3",
   "language": "python",
   "name": "python3"
  },
  "language_info": {
   "codemirror_mode": {
    "name": "ipython",
    "version": 3
   },
   "file_extension": ".py",
   "mimetype": "text/x-python",
   "name": "python",
   "nbconvert_exporter": "python",
   "pygments_lexer": "ipython3",
   "version": "3.6.15"
  },
  "papermill": {
   "default_parameters": {},
   "duration": 121.697997,
   "end_time": "2021-10-02T20:09:26.621234",
   "environment_variables": {},
   "exception": null,
   "input_path": "2020-08-11-part2.ipynb",
   "output_path": "2020-08-11-part2.ipynb",
   "parameters": {},
   "start_time": "2021-10-02T20:07:24.923237",
   "version": "2.3.3"
  }
 },
 "nbformat": 4,
 "nbformat_minor": 5
}