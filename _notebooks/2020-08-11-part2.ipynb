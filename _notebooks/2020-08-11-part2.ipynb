{
 "cells": [
  {
   "cell_type": "markdown",
   "id": "98380cd3",
   "metadata": {
    "papermill": {
     "duration": 0.029207,
     "end_time": "2022-10-09T00:47:22.702308",
     "exception": false,
     "start_time": "2022-10-09T00:47:22.673101",
     "status": "completed"
    },
    "tags": []
   },
   "source": [
    "# Distinguish Your Own Digits (DYOD)"
   ]
  },
  {
   "cell_type": "markdown",
   "id": "ef31240d",
   "metadata": {
    "papermill": {
     "duration": 0.026505,
     "end_time": "2022-10-09T00:47:22.753603",
     "exception": false,
     "start_time": "2022-10-09T00:47:22.727098",
     "status": "completed"
    },
    "tags": []
   },
   "source": [
    "You are going to write a classifier that distinguishes between the number 3 and number 8."
   ]
  },
  {
   "cell_type": "code",
   "execution_count": 1,
   "id": "b15c8646",
   "metadata": {
    "execution": {
     "iopub.execute_input": "2022-10-09T00:47:22.811861Z",
     "iopub.status.busy": "2022-10-09T00:47:22.811285Z",
     "iopub.status.idle": "2022-10-09T00:47:22.821277Z",
     "shell.execute_reply": "2022-10-09T00:47:22.821740Z"
    },
    "papermill": {
     "duration": 0.044152,
     "end_time": "2022-10-09T00:47:22.821879",
     "exception": false,
     "start_time": "2022-10-09T00:47:22.777727",
     "status": "completed"
    },
    "tags": []
   },
   "outputs": [],
   "source": [
    "%load_ext autoreload\n",
    "%autoreload 2"
   ]
  },
  {
   "cell_type": "code",
   "execution_count": 2,
   "id": "22ef38dc",
   "metadata": {
    "execution": {
     "iopub.execute_input": "2022-10-09T00:47:22.873917Z",
     "iopub.status.busy": "2022-10-09T00:47:22.873341Z",
     "iopub.status.idle": "2022-10-09T00:47:23.381092Z",
     "shell.execute_reply": "2022-10-09T00:47:23.380610Z"
    },
    "papermill": {
     "duration": 0.535154,
     "end_time": "2022-10-09T00:47:23.381208",
     "exception": false,
     "start_time": "2022-10-09T00:47:22.846054",
     "status": "completed"
    },
    "tags": []
   },
   "outputs": [],
   "source": [
    "%matplotlib inline\n",
    "import numpy as np\n",
    "import matplotlib.pyplot as plt\n",
    "import pandas as pd"
   ]
  },
  {
   "cell_type": "markdown",
   "id": "ba036198",
   "metadata": {
    "papermill": {
     "duration": 0.023988,
     "end_time": "2022-10-09T00:47:23.429428",
     "exception": false,
     "start_time": "2022-10-09T00:47:23.405440",
     "status": "completed"
    },
    "tags": []
   },
   "source": [
    "From the command line run `pip install mnist`. This is a library that will help you bring down the mnist dataset. If you run this from a notebook, you need to put  `!pip install mnist` in a cell by itself."
   ]
  },
  {
   "cell_type": "code",
   "execution_count": 3,
   "id": "bb6ad8a1",
   "metadata": {
    "execution": {
     "iopub.execute_input": "2022-10-09T00:47:23.481634Z",
     "iopub.status.busy": "2022-10-09T00:47:23.481076Z",
     "iopub.status.idle": "2022-10-09T00:47:25.189264Z",
     "shell.execute_reply": "2022-10-09T00:47:25.188747Z"
    },
    "papermill": {
     "duration": 1.735764,
     "end_time": "2022-10-09T00:47:25.189379",
     "exception": false,
     "start_time": "2022-10-09T00:47:23.453615",
     "status": "completed"
    },
    "tags": []
   },
   "outputs": [
    {
     "name": "stdout",
     "output_type": "stream",
     "text": [
      "Collecting mnist\r\n"
     ]
    },
    {
     "name": "stdout",
     "output_type": "stream",
     "text": [
      "  Downloading mnist-0.2.2-py2.py3-none-any.whl (3.5 kB)\r\n",
      "Requirement already satisfied: numpy in /opt/hostedtoolcache/Python/3.6.15/x64/lib/python3.6/site-packages (from mnist) (1.19.5)\r\n"
     ]
    },
    {
     "name": "stdout",
     "output_type": "stream",
     "text": [
      "Installing collected packages: mnist\r\n"
     ]
    },
    {
     "name": "stdout",
     "output_type": "stream",
     "text": [
      "Successfully installed mnist-0.2.2\r\n"
     ]
    }
   ],
   "source": [
    "!pip install mnist"
   ]
  },
  {
   "cell_type": "markdown",
   "id": "69df9c9a",
   "metadata": {
    "papermill": {
     "duration": 0.025346,
     "end_time": "2022-10-09T00:47:25.240206",
     "exception": false,
     "start_time": "2022-10-09T00:47:25.214860",
     "status": "completed"
    },
    "tags": []
   },
   "source": [
    "## Preparing the Data"
   ]
  },
  {
   "cell_type": "code",
   "execution_count": 4,
   "id": "7f69d806",
   "metadata": {
    "execution": {
     "iopub.execute_input": "2022-10-09T00:47:25.294355Z",
     "iopub.status.busy": "2022-10-09T00:47:25.293797Z",
     "iopub.status.idle": "2022-10-09T00:47:25.308103Z",
     "shell.execute_reply": "2022-10-09T00:47:25.307641Z"
    },
    "papermill": {
     "duration": 0.042742,
     "end_time": "2022-10-09T00:47:25.308205",
     "exception": false,
     "start_time": "2022-10-09T00:47:25.265463",
     "status": "completed"
    },
    "tags": []
   },
   "outputs": [],
   "source": [
    "import mnist"
   ]
  },
  {
   "cell_type": "code",
   "execution_count": 5,
   "id": "a411e44f",
   "metadata": {
    "execution": {
     "iopub.execute_input": "2022-10-09T00:47:25.362215Z",
     "iopub.status.busy": "2022-10-09T00:47:25.361653Z",
     "iopub.status.idle": "2022-10-09T00:47:26.010549Z",
     "shell.execute_reply": "2022-10-09T00:47:26.010045Z"
    },
    "papermill": {
     "duration": 0.67719,
     "end_time": "2022-10-09T00:47:26.010659",
     "exception": false,
     "start_time": "2022-10-09T00:47:25.333469",
     "status": "completed"
    },
    "tags": []
   },
   "outputs": [],
   "source": [
    "train_images = mnist.train_images()\n",
    "train_labels = mnist.train_labels()"
   ]
  },
  {
   "cell_type": "code",
   "execution_count": 6,
   "id": "dceab3a5",
   "metadata": {
    "execution": {
     "iopub.execute_input": "2022-10-09T00:47:26.066261Z",
     "iopub.status.busy": "2022-10-09T00:47:26.065698Z",
     "iopub.status.idle": "2022-10-09T00:47:26.079353Z",
     "shell.execute_reply": "2022-10-09T00:47:26.078856Z"
    },
    "papermill": {
     "duration": 0.042859,
     "end_time": "2022-10-09T00:47:26.079457",
     "exception": false,
     "start_time": "2022-10-09T00:47:26.036598",
     "status": "completed"
    },
    "tags": []
   },
   "outputs": [
    {
     "data": {
      "text/plain": [
       "((60000, 28, 28), (60000,))"
      ]
     },
     "execution_count": 6,
     "metadata": {},
     "output_type": "execute_result"
    }
   ],
   "source": [
    "train_images.shape, train_labels.shape"
   ]
  },
  {
   "cell_type": "code",
   "execution_count": 7,
   "id": "f50dc2bb",
   "metadata": {
    "execution": {
     "iopub.execute_input": "2022-10-09T00:47:26.134820Z",
     "iopub.status.busy": "2022-10-09T00:47:26.134259Z",
     "iopub.status.idle": "2022-10-09T00:47:26.365902Z",
     "shell.execute_reply": "2022-10-09T00:47:26.365395Z"
    },
    "papermill": {
     "duration": 0.260742,
     "end_time": "2022-10-09T00:47:26.366012",
     "exception": false,
     "start_time": "2022-10-09T00:47:26.105270",
     "status": "completed"
    },
    "tags": []
   },
   "outputs": [],
   "source": [
    "test_images = mnist.test_images()\n",
    "test_labels = mnist.test_labels()"
   ]
  },
  {
   "cell_type": "code",
   "execution_count": 8,
   "id": "fc38cf1b",
   "metadata": {
    "execution": {
     "iopub.execute_input": "2022-10-09T00:47:26.421321Z",
     "iopub.status.busy": "2022-10-09T00:47:26.420759Z",
     "iopub.status.idle": "2022-10-09T00:47:26.433199Z",
     "shell.execute_reply": "2022-10-09T00:47:26.432665Z"
    },
    "papermill": {
     "duration": 0.041463,
     "end_time": "2022-10-09T00:47:26.433303",
     "exception": false,
     "start_time": "2022-10-09T00:47:26.391840",
     "status": "completed"
    },
    "tags": []
   },
   "outputs": [
    {
     "data": {
      "text/plain": [
       "((10000, 28, 28), (10000,))"
      ]
     },
     "execution_count": 8,
     "metadata": {},
     "output_type": "execute_result"
    }
   ],
   "source": [
    "test_images.shape, test_labels.shape"
   ]
  },
  {
   "cell_type": "code",
   "execution_count": 9,
   "id": "f9ed8fe0",
   "metadata": {
    "execution": {
     "iopub.execute_input": "2022-10-09T00:47:26.491803Z",
     "iopub.status.busy": "2022-10-09T00:47:26.488253Z",
     "iopub.status.idle": "2022-10-09T00:47:26.622029Z",
     "shell.execute_reply": "2022-10-09T00:47:26.622469Z"
    },
    "papermill": {
     "duration": 0.163521,
     "end_time": "2022-10-09T00:47:26.622594",
     "exception": false,
     "start_time": "2022-10-09T00:47:26.459073",
     "status": "completed"
    },
    "tags": []
   },
   "outputs": [
    {
     "name": "stdout",
     "output_type": "stream",
     "text": [
      "2\n"
     ]
    },
    {
     "data": {
      "text/plain": [
       "<matplotlib.image.AxesImage at 0x7f88a1e6dd30>"
      ]
     },
     "execution_count": 9,
     "metadata": {},
     "output_type": "execute_result"
    },
    {
     "data": {
      "image/png": "[encoded data removed]",
      "text/plain": [
       "<Figure size 432x288 with 1 Axes>"
      ]
     },
     "metadata": {
      "needs_background": "light"
     },
     "output_type": "display_data"
    }
   ],
   "source": [
    "image_index = 7776 # You may select anything up to 60,000\n",
    "print(train_labels[image_index]) \n",
    "plt.imshow(train_images[image_index], cmap='Greys')"
   ]
  },
  {
   "cell_type": "markdown",
   "id": "a8d2388d",
   "metadata": {
    "papermill": {
     "duration": 0.02677,
     "end_time": "2022-10-09T00:47:26.676403",
     "exception": false,
     "start_time": "2022-10-09T00:47:26.649633",
     "status": "completed"
    },
    "tags": []
   },
   "source": [
    "## Filter data to get 3 and 8 out"
   ]
  },
  {
   "cell_type": "code",
   "execution_count": 10,
   "id": "776f7fc7",
   "metadata": {
    "execution": {
     "iopub.execute_input": "2022-10-09T00:47:26.734692Z",
     "iopub.status.busy": "2022-10-09T00:47:26.734113Z",
     "iopub.status.idle": "2022-10-09T00:47:26.751499Z",
     "shell.execute_reply": "2022-10-09T00:47:26.751020Z"
    },
    "papermill": {
     "duration": 0.0482,
     "end_time": "2022-10-09T00:47:26.751609",
     "exception": false,
     "start_time": "2022-10-09T00:47:26.703409",
     "status": "completed"
    },
    "tags": []
   },
   "outputs": [],
   "source": [
    "train_filter = np.where((train_labels == 3 ) | (train_labels == 8))\n",
    "test_filter = np.where((test_labels == 3) | (test_labels == 8))\n",
    "X_train, y_train = train_images[train_filter], train_labels[train_filter]\n",
    "X_test, y_test = test_images[test_filter], test_labels[test_filter]"
   ]
  },
  {
   "cell_type": "markdown",
   "id": "948f0b7e",
   "metadata": {
    "papermill": {
     "duration": 0.026939,
     "end_time": "2022-10-09T00:47:26.805661",
     "exception": false,
     "start_time": "2022-10-09T00:47:26.778722",
     "status": "completed"
    },
    "tags": []
   },
   "source": [
    "We normalize the pizel values in the 0 to 1 range"
   ]
  },
  {
   "cell_type": "code",
   "execution_count": 11,
   "id": "ee4c2166",
   "metadata": {
    "execution": {
     "iopub.execute_input": "2022-10-09T00:47:26.862765Z",
     "iopub.status.busy": "2022-10-09T00:47:26.862198Z",
     "iopub.status.idle": "2022-10-09T00:47:26.903263Z",
     "shell.execute_reply": "2022-10-09T00:47:26.902758Z"
    },
    "papermill": {
     "duration": 0.070852,
     "end_time": "2022-10-09T00:47:26.903373",
     "exception": false,
     "start_time": "2022-10-09T00:47:26.832521",
     "status": "completed"
    },
    "tags": []
   },
   "outputs": [],
   "source": [
    "X_train = X_train/255.\n",
    "X_test = X_test/255."
   ]
  },
  {
   "cell_type": "markdown",
   "id": "ddcf4fab",
   "metadata": {
    "papermill": {
     "duration": 0.026923,
     "end_time": "2022-10-09T00:47:26.957392",
     "exception": false,
     "start_time": "2022-10-09T00:47:26.930469",
     "status": "completed"
    },
    "tags": []
   },
   "source": [
    "And setup the labels as 1 (when the digit is 3) and 0 (when the digit is 8)"
   ]
  },
  {
   "cell_type": "code",
   "execution_count": 12,
   "id": "7dc908f2",
   "metadata": {
    "execution": {
     "iopub.execute_input": "2022-10-09T00:47:27.015151Z",
     "iopub.status.busy": "2022-10-09T00:47:27.014559Z",
     "iopub.status.idle": "2022-10-09T00:47:27.025828Z",
     "shell.execute_reply": "2022-10-09T00:47:27.025369Z"
    },
    "papermill": {
     "duration": 0.041645,
     "end_time": "2022-10-09T00:47:27.025929",
     "exception": false,
     "start_time": "2022-10-09T00:47:26.984284",
     "status": "completed"
    },
    "tags": []
   },
   "outputs": [],
   "source": [
    "y_train = 1*(y_train==3)\n",
    "y_test = 1*(y_test==3)"
   ]
  },
  {
   "cell_type": "code",
   "execution_count": 13,
   "id": "01e4e969",
   "metadata": {
    "execution": {
     "iopub.execute_input": "2022-10-09T00:47:27.084030Z",
     "iopub.status.busy": "2022-10-09T00:47:27.083463Z",
     "iopub.status.idle": "2022-10-09T00:47:27.096467Z",
     "shell.execute_reply": "2022-10-09T00:47:27.095918Z"
    },
    "papermill": {
     "duration": 0.043125,
     "end_time": "2022-10-09T00:47:27.096571",
     "exception": false,
     "start_time": "2022-10-09T00:47:27.053446",
     "status": "completed"
    },
    "tags": []
   },
   "outputs": [
    {
     "data": {
      "text/plain": [
       "((11982, 28, 28), (1984, 28, 28))"
      ]
     },
     "execution_count": 13,
     "metadata": {},
     "output_type": "execute_result"
    }
   ],
   "source": [
    "X_train.shape, X_test.shape"
   ]
  },
  {
   "cell_type": "markdown",
   "id": "5ccf3f85",
   "metadata": {
    "papermill": {
     "duration": 0.027104,
     "end_time": "2022-10-09T00:47:27.150764",
     "exception": false,
     "start_time": "2022-10-09T00:47:27.123660",
     "status": "completed"
    },
    "tags": []
   },
   "source": [
    "We reshape the data to flatten the image pixels into a set of features or co-variates:"
   ]
  },
  {
   "cell_type": "code",
   "execution_count": 14,
   "id": "5286a4a3",
   "metadata": {
    "execution": {
     "iopub.execute_input": "2022-10-09T00:47:27.209142Z",
     "iopub.status.busy": "2022-10-09T00:47:27.208584Z",
     "iopub.status.idle": "2022-10-09T00:47:27.221509Z",
     "shell.execute_reply": "2022-10-09T00:47:27.221955Z"
    },
    "papermill": {
     "duration": 0.043875,
     "end_time": "2022-10-09T00:47:27.222076",
     "exception": false,
     "start_time": "2022-10-09T00:47:27.178201",
     "status": "completed"
    },
    "tags": []
   },
   "outputs": [
    {
     "data": {
      "text/plain": [
       "((11982, 784), (1984, 784))"
      ]
     },
     "execution_count": 14,
     "metadata": {},
     "output_type": "execute_result"
    }
   ],
   "source": [
    "X_train = X_train.reshape(X_train.shape[0], -1)\n",
    "X_test = X_test.reshape(X_test.shape[0], -1)\n",
    "X_train.shape, X_test.shape"
   ]
  },
  {
   "cell_type": "code",
   "execution_count": 15,
   "id": "73c5f88a",
   "metadata": {
    "execution": {
     "iopub.execute_input": "2022-10-09T00:47:27.282590Z",
     "iopub.status.busy": "2022-10-09T00:47:27.281984Z",
     "iopub.status.idle": "2022-10-09T00:47:27.298920Z",
     "shell.execute_reply": "2022-10-09T00:47:27.299378Z"
    },
    "papermill": {
     "duration": 0.049919,
     "end_time": "2022-10-09T00:47:27.299508",
     "exception": false,
     "start_time": "2022-10-09T00:47:27.249589",
     "status": "completed"
    },
    "tags": []
   },
   "outputs": [],
   "source": [
    "#Impoting functions from 'Kudzu'\n",
    "from kudzu.model import Model\n",
    "from kudzu.train import Learner\n",
    "from kudzu.optim import GD\n",
    "from kudzu.data import Data, Sampler,Dataloader\n",
    "\n",
    "from kudzu.callbacks import AccCallback\n",
    "from kudzu.callbacks import ClfCallback\n",
    "\n",
    "from kudzu.loss import MSE\n",
    "\n",
    "from kudzu.layer import Sigmoid,Relu\n",
    "from kudzu.layer import Affine"
   ]
  },
  {
   "cell_type": "markdown",
   "id": "bc01172a",
   "metadata": {
    "papermill": {
     "duration": 0.027607,
     "end_time": "2022-10-09T00:47:27.354728",
     "exception": false,
     "start_time": "2022-10-09T00:47:27.327121",
     "status": "completed"
    },
    "tags": []
   },
   "source": [
    "### Let us create a `Config` class, to store important parameters. \n",
    "This class essentially plays the role of a dictionary."
   ]
  },
  {
   "cell_type": "code",
   "execution_count": 16,
   "id": "978281aa",
   "metadata": {
    "execution": {
     "iopub.execute_input": "2022-10-09T00:47:27.413566Z",
     "iopub.status.busy": "2022-10-09T00:47:27.412992Z",
     "iopub.status.idle": "2022-10-09T00:47:27.425245Z",
     "shell.execute_reply": "2022-10-09T00:47:27.424778Z"
    },
    "papermill": {
     "duration": 0.043304,
     "end_time": "2022-10-09T00:47:27.425351",
     "exception": false,
     "start_time": "2022-10-09T00:47:27.382047",
     "status": "completed"
    },
    "tags": []
   },
   "outputs": [],
   "source": [
    "class Config:\n",
    "    pass\n",
    "config = Config()\n",
    "config.lr = 0.001\n",
    "config.num_epochs = 250\n",
    "config.bs = 50"
   ]
  },
  {
   "cell_type": "markdown",
   "id": "1385fa59",
   "metadata": {
    "papermill": {
     "duration": 0.027439,
     "end_time": "2022-10-09T00:47:27.480522",
     "exception": false,
     "start_time": "2022-10-09T00:47:27.453083",
     "status": "completed"
    },
    "tags": []
   },
   "source": [
    "### Running Models with the Training data\n",
    "Details about the network layers:\n",
    "- A first affine layer has 784 inputs and does 100 affine transforms. These are followed by a Relu\n",
    "- A second affine layer has 100 inputs from the 100 activations of the past layer, and does 100 affine transforms. These are followed by a Relu\n",
    "- A third affine layer has 100 activations and does 2 affine transformations to create an embedding for visualization. There is no non-linearity here.\n",
    "- A final \"logistic regression\" which has an affine transform from 2 inputs to 1 output, which is squeezed through a sigmoid.\n"
   ]
  },
  {
   "cell_type": "code",
   "execution_count": 17,
   "id": "2b9c66db",
   "metadata": {
    "execution": {
     "iopub.execute_input": "2022-10-09T00:47:27.539601Z",
     "iopub.status.busy": "2022-10-09T00:47:27.539013Z",
     "iopub.status.idle": "2022-10-09T00:47:27.550942Z",
     "shell.execute_reply": "2022-10-09T00:47:27.551378Z"
    },
    "papermill": {
     "duration": 0.043498,
     "end_time": "2022-10-09T00:47:27.551504",
     "exception": false,
     "start_time": "2022-10-09T00:47:27.508006",
     "status": "completed"
    },
    "tags": []
   },
   "outputs": [],
   "source": [
    "data = Data(X_train, y_train.reshape(-1,1))\n",
    "sampler = Sampler(data, config.bs, shuffle=True)\n",
    "\n",
    "dl = Dataloader(data, sampler)\n",
    "\n",
    "opt = GD(config.lr)\n",
    "loss = MSE()"
   ]
  },
  {
   "cell_type": "code",
   "execution_count": 18,
   "id": "b275e4c2",
   "metadata": {
    "execution": {
     "iopub.execute_input": "2022-10-09T00:47:27.610092Z",
     "iopub.status.busy": "2022-10-09T00:47:27.609521Z",
     "iopub.status.idle": "2022-10-09T00:47:27.621219Z",
     "shell.execute_reply": "2022-10-09T00:47:27.620767Z"
    },
    "papermill": {
     "duration": 0.0423,
     "end_time": "2022-10-09T00:47:27.621318",
     "exception": false,
     "start_time": "2022-10-09T00:47:27.579018",
     "status": "completed"
    },
    "tags": []
   },
   "outputs": [],
   "source": [
    "training_data_x = X_train\n",
    "testing_data_x = X_test\n",
    "training_data_y = y_train.reshape(-1,1)\n",
    "testing_data_y = y_test.reshape(-1,1)"
   ]
  },
  {
   "cell_type": "code",
   "execution_count": 19,
   "id": "76951160",
   "metadata": {
    "execution": {
     "iopub.execute_input": "2022-10-09T00:47:27.680023Z",
     "iopub.status.busy": "2022-10-09T00:47:27.679452Z",
     "iopub.status.idle": "2022-10-09T00:47:27.695746Z",
     "shell.execute_reply": "2022-10-09T00:47:27.695292Z"
    },
    "papermill": {
     "duration": 0.047319,
     "end_time": "2022-10-09T00:47:27.695847",
     "exception": false,
     "start_time": "2022-10-09T00:47:27.648528",
     "status": "completed"
    },
    "tags": []
   },
   "outputs": [
    {
     "name": "stdout",
     "output_type": "stream",
     "text": [
      "xavier\n",
      "xavier\n",
      "xavier\n",
      "xavier\n",
      "xavier\n"
     ]
    }
   ],
   "source": [
    "layers = [Affine(\"first\", 784, 100), Relu(\"first\"), Affine(\"second\", 100, 100), Relu(\"second\"), Affine(\"third\", 100, 2), Affine(\"last\", 2, 1), Sigmoid(\"last\")]\n",
    "model_nn = Model(layers)\n",
    "model_lr = Model([Affine(\"logits\", 784, 1), Sigmoid(\"sigmoid\")])"
   ]
  },
  {
   "cell_type": "code",
   "execution_count": 20,
   "id": "6eede77a",
   "metadata": {
    "execution": {
     "iopub.execute_input": "2022-10-09T00:47:27.754994Z",
     "iopub.status.busy": "2022-10-09T00:47:27.754420Z",
     "iopub.status.idle": "2022-10-09T00:47:27.766446Z",
     "shell.execute_reply": "2022-10-09T00:47:27.765999Z"
    },
    "papermill": {
     "duration": 0.042969,
     "end_time": "2022-10-09T00:47:27.766547",
     "exception": false,
     "start_time": "2022-10-09T00:47:27.723578",
     "status": "completed"
    },
    "tags": []
   },
   "outputs": [],
   "source": [
    "nn_learner = Learner(loss, model_nn, opt, config.num_epochs)\n",
    "acc_nn = ClfCallback(nn_learner, config.bs, training_data_x , testing_data_x, training_data_y, testing_data_y)\n",
    "nn_learner.set_callbacks([acc_nn])"
   ]
  },
  {
   "cell_type": "code",
   "execution_count": 21,
   "id": "877b6cc7",
   "metadata": {
    "execution": {
     "iopub.execute_input": "2022-10-09T00:47:27.825354Z",
     "iopub.status.busy": "2022-10-09T00:47:27.824790Z",
     "iopub.status.idle": "2022-10-09T00:47:27.836620Z",
     "shell.execute_reply": "2022-10-09T00:47:27.836090Z"
    },
    "papermill": {
     "duration": 0.04254,
     "end_time": "2022-10-09T00:47:27.836717",
     "exception": false,
     "start_time": "2022-10-09T00:47:27.794177",
     "status": "completed"
    },
    "tags": []
   },
   "outputs": [],
   "source": [
    "lr_learner = Learner(loss, model_lr, opt, config.num_epochs)\n",
    "acc_lr = ClfCallback(lr_learner, config.bs, training_data_x , testing_data_x, training_data_y, testing_data_y)\n",
    "lr_learner.set_callbacks([acc_lr])"
   ]
  },
  {
   "cell_type": "code",
   "execution_count": 22,
   "id": "d9b133c3",
   "metadata": {
    "execution": {
     "iopub.execute_input": "2022-10-09T00:47:27.895634Z",
     "iopub.status.busy": "2022-10-09T00:47:27.895055Z",
     "iopub.status.idle": "2022-10-09T00:50:23.872922Z",
     "shell.execute_reply": "2022-10-09T00:50:23.873381Z"
    },
    "papermill": {
     "duration": 176.009131,
     "end_time": "2022-10-09T00:50:23.873505",
     "exception": false,
     "start_time": "2022-10-09T00:47:27.864374",
     "status": "completed"
    },
    "tags": []
   },
   "outputs": [
    {
     "name": "stdout",
     "output_type": "stream",
     "text": [
      "Epoch 0, Loss 0.2216\n",
      "Training Accuracy: 0.7866, Testing Accuracy: 0.7908\n",
      "\n"
     ]
    },
    {
     "name": "stdout",
     "output_type": "stream",
     "text": [
      "Epoch 10, Loss 0.0746\n",
      "Training Accuracy: 0.9302, Testing Accuracy: 0.9405\n",
      "\n"
     ]
    },
    {
     "name": "stdout",
     "output_type": "stream",
     "text": [
      "Epoch 20, Loss 0.0513\n",
      "Training Accuracy: 0.9449, Testing Accuracy: 0.9531\n",
      "\n"
     ]
    },
    {
     "name": "stdout",
     "output_type": "stream",
     "text": [
      "Epoch 30, Loss 0.0421\n",
      "Training Accuracy: 0.9533, Testing Accuracy: 0.9622\n",
      "\n"
     ]
    },
    {
     "name": "stdout",
     "output_type": "stream",
     "text": [
      "Epoch 40, Loss 0.037\n",
      "Training Accuracy: 0.9585, Testing Accuracy: 0.9647\n",
      "\n"
     ]
    },
    {
     "name": "stdout",
     "output_type": "stream",
     "text": [
      "Epoch 50, Loss 0.0336\n",
      "Training Accuracy: 0.9628, Testing Accuracy: 0.9657\n",
      "\n"
     ]
    },
    {
     "name": "stdout",
     "output_type": "stream",
     "text": [
      "Epoch 60, Loss 0.0312\n",
      "Training Accuracy: 0.9649, Testing Accuracy: 0.9672\n",
      "\n"
     ]
    },
    {
     "name": "stdout",
     "output_type": "stream",
     "text": [
      "Epoch 70, Loss 0.0294\n",
      "Training Accuracy: 0.9677, Testing Accuracy: 0.9677\n",
      "\n"
     ]
    },
    {
     "name": "stdout",
     "output_type": "stream",
     "text": [
      "Epoch 80, Loss 0.0279\n",
      "Training Accuracy: 0.9689, Testing Accuracy: 0.9688\n",
      "\n"
     ]
    },
    {
     "name": "stdout",
     "output_type": "stream",
     "text": [
      "Epoch 90, Loss 0.0267\n",
      "Training Accuracy: 0.9700, Testing Accuracy: 0.9698\n",
      "\n"
     ]
    },
    {
     "name": "stdout",
     "output_type": "stream",
     "text": [
      "Epoch 100, Loss 0.0256\n",
      "Training Accuracy: 0.9710, Testing Accuracy: 0.9703\n",
      "\n"
     ]
    },
    {
     "name": "stdout",
     "output_type": "stream",
     "text": [
      "Epoch 110, Loss 0.0247\n",
      "Training Accuracy: 0.9716, Testing Accuracy: 0.9723\n",
      "\n"
     ]
    },
    {
     "name": "stdout",
     "output_type": "stream",
     "text": [
      "Epoch 120, Loss 0.0239\n",
      "Training Accuracy: 0.9724, Testing Accuracy: 0.9728\n",
      "\n"
     ]
    },
    {
     "name": "stdout",
     "output_type": "stream",
     "text": [
      "Epoch 130, Loss 0.0232\n",
      "Training Accuracy: 0.9735, Testing Accuracy: 0.9738\n",
      "\n"
     ]
    },
    {
     "name": "stdout",
     "output_type": "stream",
     "text": [
      "Epoch 140, Loss 0.0225\n",
      "Training Accuracy: 0.9745, Testing Accuracy: 0.9743\n",
      "\n"
     ]
    },
    {
     "name": "stdout",
     "output_type": "stream",
     "text": [
      "Epoch 150, Loss 0.0218\n",
      "Training Accuracy: 0.9756, Testing Accuracy: 0.9748\n",
      "\n"
     ]
    },
    {
     "name": "stdout",
     "output_type": "stream",
     "text": [
      "Epoch 160, Loss 0.0212\n",
      "Training Accuracy: 0.9762, Testing Accuracy: 0.9753\n",
      "\n"
     ]
    },
    {
     "name": "stdout",
     "output_type": "stream",
     "text": [
      "Epoch 170, Loss 0.0207\n",
      "Training Accuracy: 0.9767, Testing Accuracy: 0.9753\n",
      "\n"
     ]
    },
    {
     "name": "stdout",
     "output_type": "stream",
     "text": [
      "Epoch 180, Loss 0.0201\n",
      "Training Accuracy: 0.9770, Testing Accuracy: 0.9748\n",
      "\n"
     ]
    },
    {
     "name": "stdout",
     "output_type": "stream",
     "text": [
      "Epoch 190, Loss 0.0196\n",
      "Training Accuracy: 0.9778, Testing Accuracy: 0.9753\n",
      "\n"
     ]
    },
    {
     "name": "stdout",
     "output_type": "stream",
     "text": [
      "Epoch 200, Loss 0.0192\n",
      "Training Accuracy: 0.9786, Testing Accuracy: 0.9758\n",
      "\n"
     ]
    },
    {
     "name": "stdout",
     "output_type": "stream",
     "text": [
      "Epoch 210, Loss 0.0187\n",
      "Training Accuracy: 0.9794, Testing Accuracy: 0.9763\n",
      "\n"
     ]
    },
    {
     "name": "stdout",
     "output_type": "stream",
     "text": [
      "Epoch 220, Loss 0.0183\n",
      "Training Accuracy: 0.9801, Testing Accuracy: 0.9763\n",
      "\n"
     ]
    },
    {
     "name": "stdout",
     "output_type": "stream",
     "text": [
      "Epoch 230, Loss 0.0179\n",
      "Training Accuracy: 0.9811, Testing Accuracy: 0.9763\n",
      "\n"
     ]
    },
    {
     "name": "stdout",
     "output_type": "stream",
     "text": [
      "Epoch 240, Loss 0.0175\n",
      "Training Accuracy: 0.9816, Testing Accuracy: 0.9763\n",
      "\n"
     ]
    },
    {
     "data": {
      "text/plain": [
       "0.020939534180896117"
      ]
     },
     "execution_count": 22,
     "metadata": {},
     "output_type": "execute_result"
    }
   ],
   "source": [
    "nn_learner.train_loop(dl)"
   ]
  },
  {
   "cell_type": "code",
   "execution_count": 23,
   "id": "e0163366",
   "metadata": {
    "execution": {
     "iopub.execute_input": "2022-10-09T00:50:23.948780Z",
     "iopub.status.busy": "2022-10-09T00:50:23.947397Z",
     "iopub.status.idle": "2022-10-09T00:50:36.243928Z",
     "shell.execute_reply": "2022-10-09T00:50:36.244810Z"
    },
    "papermill": {
     "duration": 12.336233,
     "end_time": "2022-10-09T00:50:36.244944",
     "exception": false,
     "start_time": "2022-10-09T00:50:23.908711",
     "status": "completed"
    },
    "tags": []
   },
   "outputs": [
    {
     "name": "stdout",
     "output_type": "stream",
     "text": [
      "Epoch 0, Loss 0.2352\n",
      "Training Accuracy: 0.7031, Testing Accuracy: 0.7087\n",
      "\n"
     ]
    },
    {
     "name": "stdout",
     "output_type": "stream",
     "text": [
      "Epoch 10, Loss 0.1049\n",
      "Training Accuracy: 0.9020, Testing Accuracy: 0.9138\n",
      "\n"
     ]
    },
    {
     "name": "stdout",
     "output_type": "stream",
     "text": [
      "Epoch 20, Loss 0.0806\n",
      "Training Accuracy: 0.9241, Testing Accuracy: 0.9330\n",
      "\n"
     ]
    },
    {
     "name": "stdout",
     "output_type": "stream",
     "text": [
      "Epoch 30, Loss 0.0693\n",
      "Training Accuracy: 0.9336, Testing Accuracy: 0.9435\n",
      "\n"
     ]
    },
    {
     "name": "stdout",
     "output_type": "stream",
     "text": [
      "Epoch 40, Loss 0.0625\n",
      "Training Accuracy: 0.9392, Testing Accuracy: 0.9491\n",
      "\n"
     ]
    },
    {
     "name": "stdout",
     "output_type": "stream",
     "text": [
      "Epoch 50, Loss 0.0578\n",
      "Training Accuracy: 0.9438, Testing Accuracy: 0.9511\n",
      "\n"
     ]
    },
    {
     "name": "stdout",
     "output_type": "stream",
     "text": [
      "Epoch 60, Loss 0.0544\n",
      "Training Accuracy: 0.9460, Testing Accuracy: 0.9541\n",
      "\n"
     ]
    },
    {
     "name": "stdout",
     "output_type": "stream",
     "text": [
      "Epoch 70, Loss 0.0518\n",
      "Training Accuracy: 0.9477, Testing Accuracy: 0.9567\n",
      "\n"
     ]
    },
    {
     "name": "stdout",
     "output_type": "stream",
     "text": [
      "Epoch 80, Loss 0.0497\n",
      "Training Accuracy: 0.9494, Testing Accuracy: 0.9587\n",
      "\n"
     ]
    },
    {
     "name": "stdout",
     "output_type": "stream",
     "text": [
      "Epoch 90, Loss 0.048\n",
      "Training Accuracy: 0.9506, Testing Accuracy: 0.9622\n",
      "\n"
     ]
    },
    {
     "name": "stdout",
     "output_type": "stream",
     "text": [
      "Epoch 100, Loss 0.0466\n",
      "Training Accuracy: 0.9522, Testing Accuracy: 0.9652\n",
      "\n"
     ]
    },
    {
     "name": "stdout",
     "output_type": "stream",
     "text": [
      "Epoch 110, Loss 0.0453\n",
      "Training Accuracy: 0.9533, Testing Accuracy: 0.9652\n",
      "\n"
     ]
    },
    {
     "name": "stdout",
     "output_type": "stream",
     "text": [
      "Epoch 120, Loss 0.0442\n",
      "Training Accuracy: 0.9546, Testing Accuracy: 0.9657\n",
      "\n"
     ]
    },
    {
     "name": "stdout",
     "output_type": "stream",
     "text": [
      "Epoch 130, Loss 0.0433\n",
      "Training Accuracy: 0.9548, Testing Accuracy: 0.9652\n",
      "\n"
     ]
    },
    {
     "name": "stdout",
     "output_type": "stream",
     "text": [
      "Epoch 140, Loss 0.0424\n",
      "Training Accuracy: 0.9553, Testing Accuracy: 0.9657\n",
      "\n"
     ]
    },
    {
     "name": "stdout",
     "output_type": "stream",
     "text": [
      "Epoch 150, Loss 0.0417\n",
      "Training Accuracy: 0.9561, Testing Accuracy: 0.9662\n",
      "\n"
     ]
    },
    {
     "name": "stdout",
     "output_type": "stream",
     "text": [
      "Epoch 160, Loss 0.041\n",
      "Training Accuracy: 0.9566, Testing Accuracy: 0.9662\n",
      "\n"
     ]
    },
    {
     "name": "stdout",
     "output_type": "stream",
     "text": [
      "Epoch 170, Loss 0.0404\n",
      "Training Accuracy: 0.9575, Testing Accuracy: 0.9672\n",
      "\n"
     ]
    },
    {
     "name": "stdout",
     "output_type": "stream",
     "text": [
      "Epoch 180, Loss 0.0398\n",
      "Training Accuracy: 0.9577, Testing Accuracy: 0.9677\n",
      "\n"
     ]
    },
    {
     "name": "stdout",
     "output_type": "stream",
     "text": [
      "Epoch 190, Loss 0.0393\n",
      "Training Accuracy: 0.9584, Testing Accuracy: 0.9677\n",
      "\n"
     ]
    },
    {
     "name": "stdout",
     "output_type": "stream",
     "text": [
      "Epoch 200, Loss 0.0388\n",
      "Training Accuracy: 0.9586, Testing Accuracy: 0.9677\n",
      "\n"
     ]
    },
    {
     "name": "stdout",
     "output_type": "stream",
     "text": [
      "Epoch 210, Loss 0.0384\n",
      "Training Accuracy: 0.9589, Testing Accuracy: 0.9677\n",
      "\n"
     ]
    },
    {
     "name": "stdout",
     "output_type": "stream",
     "text": [
      "Epoch 220, Loss 0.0379\n",
      "Training Accuracy: 0.9595, Testing Accuracy: 0.9677\n",
      "\n"
     ]
    },
    {
     "name": "stdout",
     "output_type": "stream",
     "text": [
      "Epoch 230, Loss 0.0375\n",
      "Training Accuracy: 0.9598, Testing Accuracy: 0.9677\n",
      "\n"
     ]
    },
    {
     "name": "stdout",
     "output_type": "stream",
     "text": [
      "Epoch 240, Loss 0.0372\n",
      "Training Accuracy: 0.9599, Testing Accuracy: 0.9677\n",
      "\n"
     ]
    },
    {
     "data": {
      "text/plain": [
       "0.010222001719369959"
      ]
     },
     "execution_count": 23,
     "metadata": {},
     "output_type": "execute_result"
    }
   ],
   "source": [
    "lr_learner.train_loop(dl)"
   ]
  },
  {
   "cell_type": "code",
   "execution_count": 24,
   "id": "ca410940",
   "metadata": {
    "execution": {
     "iopub.execute_input": "2022-10-09T00:50:36.336396Z",
     "iopub.status.busy": "2022-10-09T00:50:36.335800Z",
     "iopub.status.idle": "2022-10-09T00:50:36.565656Z",
     "shell.execute_reply": "2022-10-09T00:50:36.566086Z"
    },
    "papermill": {
     "duration": 0.279115,
     "end_time": "2022-10-09T00:50:36.566219",
     "exception": false,
     "start_time": "2022-10-09T00:50:36.287104",
     "status": "completed"
    },
    "tags": []
   },
   "outputs": [
    {
     "data": {
      "text/plain": [
       "<matplotlib.legend.Legend at 0x7f88a19dc390>"
      ]
     },
     "execution_count": 24,
     "metadata": {},
     "output_type": "execute_result"
    },
    {
     "data": {
      "image/png": "[encoded data removed]",
      "text/plain": [
       "<Figure size 1080x720 with 1 Axes>"
      ]
     },
     "metadata": {
      "needs_background": "light"
     },
     "output_type": "display_data"
    }
   ],
   "source": [
    "#comparing the results of NN and LR\n",
    "plt.figure(figsize=(15,10))\n",
    "\n",
    "# Neural Network plots\n",
    "plt.plot(acc_nn.accuracies, 'r-', label = \"Training Accuracies - NN\")\n",
    "plt.plot(acc_nn.test_accuracies, 'g-', label = \"Testing Accuracies - NN\")\n",
    "\n",
    "# Logistic Regression plots\n",
    "plt.plot(acc_lr.accuracies, 'k-', label = \"Training Accuracies - LR\")\n",
    "plt.plot(acc_lr.test_accuracies, 'b-', label = \"Testing Accuracies - LR\")\n",
    "plt.legend()"
   ]
  },
  {
   "cell_type": "markdown",
   "id": "80dfb35c",
   "metadata": {
    "papermill": {
     "duration": 0.042655,
     "end_time": "2022-10-09T00:50:36.651782",
     "exception": false,
     "start_time": "2022-10-09T00:50:36.609127",
     "status": "completed"
    },
    "tags": []
   },
   "source": [
    "#### Plotting the outputs of this layer of the NN.\n"
   ]
  },
  {
   "cell_type": "code",
   "execution_count": 25,
   "id": "45eb2ff5",
   "metadata": {
    "execution": {
     "iopub.execute_input": "2022-10-09T00:50:36.740919Z",
     "iopub.status.busy": "2022-10-09T00:50:36.740359Z",
     "iopub.status.idle": "2022-10-09T00:50:36.775589Z",
     "shell.execute_reply": "2022-10-09T00:50:36.776269Z"
    },
    "papermill": {
     "duration": 0.081931,
     "end_time": "2022-10-09T00:50:36.776400",
     "exception": false,
     "start_time": "2022-10-09T00:50:36.694469",
     "status": "completed"
    },
    "tags": []
   },
   "outputs": [],
   "source": [
    "new_model = Model(layers[:-2])\n",
    "testing_plot = new_model(testing_data_x)"
   ]
  },
  {
   "cell_type": "code",
   "execution_count": 26,
   "id": "4c0a5485",
   "metadata": {
    "execution": {
     "iopub.execute_input": "2022-10-09T00:50:36.870979Z",
     "iopub.status.busy": "2022-10-09T00:50:36.869826Z",
     "iopub.status.idle": "2022-10-09T00:50:37.055859Z",
     "shell.execute_reply": "2022-10-09T00:50:37.056283Z"
    },
    "papermill": {
     "duration": 0.23703,
     "end_time": "2022-10-09T00:50:37.056412",
     "exception": false,
     "start_time": "2022-10-09T00:50:36.819382",
     "status": "completed"
    },
    "tags": []
   },
   "outputs": [
    {
     "data": {
      "text/plain": [
       "Text(0.5, 1.0, 'Outputs')"
      ]
     },
     "execution_count": 26,
     "metadata": {},
     "output_type": "execute_result"
    },
    {
     "data": {
      "image/png": "[encoded data removed]",
      "text/plain": [
       "<Figure size 576x504 with 1 Axes>"
      ]
     },
     "metadata": {
      "needs_background": "light"
     },
     "output_type": "display_data"
    }
   ],
   "source": [
    "# Plotting the scatter plot of points and color coding by class\n",
    "plt.figure(figsize=(8,7))\n",
    "plt.scatter(testing_plot[:,0], testing_plot[:,1], alpha = 0.1, c = y_test.ravel());\n",
    "plt.title('Outputs')"
   ]
  },
  {
   "cell_type": "markdown",
   "id": "a74fcf8f",
   "metadata": {
    "papermill": {
     "duration": 0.044521,
     "end_time": "2022-10-09T00:50:37.168446",
     "exception": false,
     "start_time": "2022-10-09T00:50:37.123925",
     "status": "completed"
    },
    "tags": []
   },
   "source": [
    "Probability contours"
   ]
  },
  {
   "cell_type": "code",
   "execution_count": 27,
   "id": "d0afc8e3",
   "metadata": {
    "execution": {
     "iopub.execute_input": "2022-10-09T00:50:37.262391Z",
     "iopub.status.busy": "2022-10-09T00:50:37.261823Z",
     "iopub.status.idle": "2022-10-09T00:50:37.272702Z",
     "shell.execute_reply": "2022-10-09T00:50:37.273118Z"
    },
    "papermill": {
     "duration": 0.060135,
     "end_time": "2022-10-09T00:50:37.273243",
     "exception": false,
     "start_time": "2022-10-09T00:50:37.213108",
     "status": "completed"
    },
    "tags": []
   },
   "outputs": [],
   "source": [
    "model_prob = Model(layers[-2:]) "
   ]
  },
  {
   "cell_type": "code",
   "execution_count": 28,
   "id": "9b96e238",
   "metadata": {
    "execution": {
     "iopub.execute_input": "2022-10-09T00:50:37.366998Z",
     "iopub.status.busy": "2022-10-09T00:50:37.366373Z",
     "iopub.status.idle": "2022-10-09T00:50:37.379709Z",
     "shell.execute_reply": "2022-10-09T00:50:37.380145Z"
    },
    "papermill": {
     "duration": 0.062474,
     "end_time": "2022-10-09T00:50:37.380274",
     "exception": false,
     "start_time": "2022-10-09T00:50:37.317800",
     "status": "completed"
    },
    "tags": []
   },
   "outputs": [],
   "source": [
    "#creating the x and y ranges according to the above generated plot.\n",
    "x_range = np.linspace(-4, 1, 100) \n",
    "y_range = np.linspace(-6, 6, 100) \n",
    "x_grid, y_grid = np.meshgrid(x_range, y_range) # x_grid and y_grig are of size 100 X 100\n",
    "\n",
    "# converting x_grid and y_grid to continuous arrays\n",
    "x_gridflat = np.ravel(x_grid)\n",
    "y_gridflat = np.ravel(y_grid)\n",
    "\n",
    "# The last layer of the current model takes two columns as input. Hence transpose of np.vstack() is required.\n",
    "X = np.vstack((x_gridflat, y_gridflat)).T\n",
    "\n",
    "prob_contour = model_prob(X).reshape(100,100) "
   ]
  },
  {
   "cell_type": "code",
   "execution_count": 29,
   "id": "da72499a",
   "metadata": {
    "execution": {
     "iopub.execute_input": "2022-10-09T00:50:37.475314Z",
     "iopub.status.busy": "2022-10-09T00:50:37.474761Z",
     "iopub.status.idle": "2022-10-09T00:50:37.718293Z",
     "shell.execute_reply": "2022-10-09T00:50:37.717838Z"
    },
    "papermill": {
     "duration": 0.292798,
     "end_time": "2022-10-09T00:50:37.718397",
     "exception": false,
     "start_time": "2022-10-09T00:50:37.425599",
     "status": "completed"
    },
    "tags": []
   },
   "outputs": [
    {
     "data": {
      "image/png": "[encoded data removed]",
      "text/plain": [
       "<Figure size 720x648 with 1 Axes>"
      ]
     },
     "metadata": {
      "needs_background": "light"
     },
     "output_type": "display_data"
    }
   ],
   "source": [
    "plt.figure(figsize=(10,9))\n",
    "plt.scatter(testing_plot[:,0], testing_plot[:,1], alpha = 0.1, c = y_test.ravel())\n",
    "contours = plt.contour(x_grid,y_grid,prob_contour)\n",
    "plt.title('Probability Contours')\n",
    "plt.clabel(contours, inline = True );"
   ]
  },
  {
   "cell_type": "code",
   "execution_count": null,
   "id": "e81b4ac7",
   "metadata": {
    "papermill": {
     "duration": 0.046555,
     "end_time": "2022-10-09T00:50:37.812106",
     "exception": false,
     "start_time": "2022-10-09T00:50:37.765551",
     "status": "completed"
    },
    "tags": []
   },
   "outputs": [],
   "source": []
  }
 ],
 "metadata": {
  "kernelspec": {
   "display_name": "Python 3",
   "language": "python",
   "name": "python3"
  },
  "language_info": {
   "codemirror_mode": {
    "name": "ipython",
    "version": 3
   },
   "file_extension": ".py",
   "mimetype": "text/x-python",
   "name": "python",
   "nbconvert_exporter": "python",
   "pygments_lexer": "ipython3",
   "version": "3.6.15"
  },
  "papermill": {
   "default_parameters": {},
   "duration": 196.429114,
   "end_time": "2022-10-09T00:50:38.176911",
   "environment_variables": {},
   "exception": null,
   "input_path": "2020-08-11-part2.ipynb",
   "output_path": "2020-08-11-part2.ipynb",
   "parameters": {},
   "start_time": "2022-10-09T00:47:21.747797",
   "version": "2.3.3"
  }
 },
 "nbformat": 4,
 "nbformat_minor": 5
}