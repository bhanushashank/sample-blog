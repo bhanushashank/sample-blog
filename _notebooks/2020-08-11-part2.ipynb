{
 "cells": [
  {
   "cell_type": "markdown",
   "id": "98380cd3",
   "metadata": {
    "papermill": {
     "duration": 0.02833,
     "end_time": "2022-03-13T10:09:27.882595",
     "exception": false,
     "start_time": "2022-03-13T10:09:27.854265",
     "status": "completed"
    },
    "tags": []
   },
   "source": [
    "# Distinguish Your Own Digits (DYOD)"
   ]
  },
  {
   "cell_type": "markdown",
   "id": "ef31240d",
   "metadata": {
    "papermill": {
     "duration": 0.024795,
     "end_time": "2022-03-13T10:09:27.931451",
     "exception": false,
     "start_time": "2022-03-13T10:09:27.906656",
     "status": "completed"
    },
    "tags": []
   },
   "source": [
    "You are going to write a classifier that distinguishes between the number 3 and number 8."
   ]
  },
  {
   "cell_type": "code",
   "execution_count": 1,
   "id": "b15c8646",
   "metadata": {
    "execution": {
     "iopub.execute_input": "2022-03-13T10:09:27.988841Z",
     "iopub.status.busy": "2022-03-13T10:09:27.988307Z",
     "iopub.status.idle": "2022-03-13T10:09:27.998376Z",
     "shell.execute_reply": "2022-03-13T10:09:27.999020Z"
    },
    "papermill": {
     "duration": 0.044537,
     "end_time": "2022-03-13T10:09:27.999187",
     "exception": false,
     "start_time": "2022-03-13T10:09:27.954650",
     "status": "completed"
    },
    "tags": []
   },
   "outputs": [],
   "source": [
    "%load_ext autoreload\n",
    "%autoreload 2"
   ]
  },
  {
   "cell_type": "code",
   "execution_count": 2,
   "id": "22ef38dc",
   "metadata": {
    "execution": {
     "iopub.execute_input": "2022-03-13T10:09:28.050155Z",
     "iopub.status.busy": "2022-03-13T10:09:28.049639Z",
     "iopub.status.idle": "2022-03-13T10:09:28.634390Z",
     "shell.execute_reply": "2022-03-13T10:09:28.634822Z"
    },
    "papermill": {
     "duration": 0.612077,
     "end_time": "2022-03-13T10:09:28.634982",
     "exception": false,
     "start_time": "2022-03-13T10:09:28.022905",
     "status": "completed"
    },
    "tags": []
   },
   "outputs": [],
   "source": [
    "%matplotlib inline\n",
    "import numpy as np\n",
    "import matplotlib.pyplot as plt\n",
    "import pandas as pd"
   ]
  },
  {
   "cell_type": "markdown",
   "id": "ba036198",
   "metadata": {
    "papermill": {
     "duration": 0.029737,
     "end_time": "2022-03-13T10:09:28.691822",
     "exception": false,
     "start_time": "2022-03-13T10:09:28.662085",
     "status": "completed"
    },
    "tags": []
   },
   "source": [
    "From the command line run `pip install mnist`. This is a library that will help you bring down the mnist dataset. If you run this from a notebook, you need to put  `!pip install mnist` in a cell by itself."
   ]
  },
  {
   "cell_type": "code",
   "execution_count": 3,
   "id": "bb6ad8a1",
   "metadata": {
    "execution": {
     "iopub.execute_input": "2022-03-13T10:09:28.753553Z",
     "iopub.status.busy": "2022-03-13T10:09:28.752947Z",
     "iopub.status.idle": "2022-03-13T10:09:31.323391Z",
     "shell.execute_reply": "2022-03-13T10:09:31.323918Z"
    },
    "papermill": {
     "duration": 2.604618,
     "end_time": "2022-03-13T10:09:31.324102",
     "exception": false,
     "start_time": "2022-03-13T10:09:28.719484",
     "status": "completed"
    },
    "tags": []
   },
   "outputs": [
    {
     "name": "stdout",
     "output_type": "stream",
     "text": [
      "Collecting mnist\r\n"
     ]
    },
    {
     "name": "stdout",
     "output_type": "stream",
     "text": [
      "  Downloading mnist-0.2.2-py2.py3-none-any.whl (3.5 kB)\r\n",
      "Requirement already satisfied: numpy in /opt/hostedtoolcache/Python/3.6.15/x64/lib/python3.6/site-packages (from mnist) (1.19.5)\r\n"
     ]
    },
    {
     "name": "stdout",
     "output_type": "stream",
     "text": [
      "Installing collected packages: mnist\r\n",
      "Successfully installed mnist-0.2.2\r\n"
     ]
    }
   ],
   "source": [
    "!pip install mnist"
   ]
  },
  {
   "cell_type": "markdown",
   "id": "69df9c9a",
   "metadata": {
    "papermill": {
     "duration": 0.026563,
     "end_time": "2022-03-13T10:09:31.376329",
     "exception": false,
     "start_time": "2022-03-13T10:09:31.349766",
     "status": "completed"
    },
    "tags": []
   },
   "source": [
    "## Preparing the Data"
   ]
  },
  {
   "cell_type": "code",
   "execution_count": 4,
   "id": "7f69d806",
   "metadata": {
    "execution": {
     "iopub.execute_input": "2022-03-13T10:09:31.441963Z",
     "iopub.status.busy": "2022-03-13T10:09:31.441117Z",
     "iopub.status.idle": "2022-03-13T10:09:31.448192Z",
     "shell.execute_reply": "2022-03-13T10:09:31.447777Z"
    },
    "papermill": {
     "duration": 0.047505,
     "end_time": "2022-03-13T10:09:31.448309",
     "exception": false,
     "start_time": "2022-03-13T10:09:31.400804",
     "status": "completed"
    },
    "tags": []
   },
   "outputs": [],
   "source": [
    "import mnist"
   ]
  },
  {
   "cell_type": "code",
   "execution_count": 5,
   "id": "a411e44f",
   "metadata": {
    "execution": {
     "iopub.execute_input": "2022-03-13T10:09:31.500834Z",
     "iopub.status.busy": "2022-03-13T10:09:31.500320Z",
     "iopub.status.idle": "2022-03-13T10:09:32.287640Z",
     "shell.execute_reply": "2022-03-13T10:09:32.287139Z"
    },
    "papermill": {
     "duration": 0.815068,
     "end_time": "2022-03-13T10:09:32.287777",
     "exception": false,
     "start_time": "2022-03-13T10:09:31.472709",
     "status": "completed"
    },
    "tags": []
   },
   "outputs": [],
   "source": [
    "train_images = mnist.train_images()\n",
    "train_labels = mnist.train_labels()"
   ]
  },
  {
   "cell_type": "code",
   "execution_count": 6,
   "id": "dceab3a5",
   "metadata": {
    "execution": {
     "iopub.execute_input": "2022-03-13T10:09:32.340577Z",
     "iopub.status.busy": "2022-03-13T10:09:32.340066Z",
     "iopub.status.idle": "2022-03-13T10:09:32.355372Z",
     "shell.execute_reply": "2022-03-13T10:09:32.354969Z"
    },
    "papermill": {
     "duration": 0.043123,
     "end_time": "2022-03-13T10:09:32.355481",
     "exception": false,
     "start_time": "2022-03-13T10:09:32.312358",
     "status": "completed"
    },
    "tags": []
   },
   "outputs": [
    {
     "data": {
      "text/plain": [
       "((60000, 28, 28), (60000,))"
      ]
     },
     "execution_count": 6,
     "metadata": {},
     "output_type": "execute_result"
    }
   ],
   "source": [
    "train_images.shape, train_labels.shape"
   ]
  },
  {
   "cell_type": "code",
   "execution_count": 7,
   "id": "f50dc2bb",
   "metadata": {
    "execution": {
     "iopub.execute_input": "2022-03-13T10:09:32.421756Z",
     "iopub.status.busy": "2022-03-13T10:09:32.420332Z",
     "iopub.status.idle": "2022-03-13T10:09:32.822071Z",
     "shell.execute_reply": "2022-03-13T10:09:32.821033Z"
    },
    "papermill": {
     "duration": 0.442199,
     "end_time": "2022-03-13T10:09:32.822219",
     "exception": false,
     "start_time": "2022-03-13T10:09:32.380020",
     "status": "completed"
    },
    "tags": []
   },
   "outputs": [],
   "source": [
    "test_images = mnist.test_images()\n",
    "test_labels = mnist.test_labels()"
   ]
  },
  {
   "cell_type": "code",
   "execution_count": 8,
   "id": "fc38cf1b",
   "metadata": {
    "execution": {
     "iopub.execute_input": "2022-03-13T10:09:32.892291Z",
     "iopub.status.busy": "2022-03-13T10:09:32.891154Z",
     "iopub.status.idle": "2022-03-13T10:09:32.900429Z",
     "shell.execute_reply": "2022-03-13T10:09:32.899990Z"
    },
    "papermill": {
     "duration": 0.051124,
     "end_time": "2022-03-13T10:09:32.900542",
     "exception": false,
     "start_time": "2022-03-13T10:09:32.849418",
     "status": "completed"
    },
    "tags": []
   },
   "outputs": [
    {
     "data": {
      "text/plain": [
       "((10000, 28, 28), (10000,))"
      ]
     },
     "execution_count": 8,
     "metadata": {},
     "output_type": "execute_result"
    }
   ],
   "source": [
    "test_images.shape, test_labels.shape"
   ]
  },
  {
   "cell_type": "code",
   "execution_count": 9,
   "id": "f9ed8fe0",
   "metadata": {
    "execution": {
     "iopub.execute_input": "2022-03-13T10:09:32.966998Z",
     "iopub.status.busy": "2022-03-13T10:09:32.966478Z",
     "iopub.status.idle": "2022-03-13T10:09:33.102424Z",
     "shell.execute_reply": "2022-03-13T10:09:33.101962Z"
    },
    "papermill": {
     "duration": 0.177054,
     "end_time": "2022-03-13T10:09:33.102550",
     "exception": false,
     "start_time": "2022-03-13T10:09:32.925496",
     "status": "completed"
    },
    "tags": []
   },
   "outputs": [
    {
     "name": "stdout",
     "output_type": "stream",
     "text": [
      "2\n"
     ]
    },
    {
     "data": {
      "text/plain": [
       "<matplotlib.image.AxesImage at 0x7f53d9189588>"
      ]
     },
     "execution_count": 9,
     "metadata": {},
     "output_type": "execute_result"
    },
    {
     "data": {
      "image/png": "[encoded data removed]",
      "text/plain": [
       "<Figure size 432x288 with 1 Axes>"
      ]
     },
     "metadata": {
      "needs_background": "light"
     },
     "output_type": "display_data"
    }
   ],
   "source": [
    "image_index = 7776 # You may select anything up to 60,000\n",
    "print(train_labels[image_index]) \n",
    "plt.imshow(train_images[image_index], cmap='Greys')"
   ]
  },
  {
   "cell_type": "markdown",
   "id": "a8d2388d",
   "metadata": {
    "papermill": {
     "duration": 0.026653,
     "end_time": "2022-03-13T10:09:33.155221",
     "exception": false,
     "start_time": "2022-03-13T10:09:33.128568",
     "status": "completed"
    },
    "tags": []
   },
   "source": [
    "## Filter data to get 3 and 8 out"
   ]
  },
  {
   "cell_type": "code",
   "execution_count": 10,
   "id": "776f7fc7",
   "metadata": {
    "execution": {
     "iopub.execute_input": "2022-03-13T10:09:33.212261Z",
     "iopub.status.busy": "2022-03-13T10:09:33.211724Z",
     "iopub.status.idle": "2022-03-13T10:09:33.230500Z",
     "shell.execute_reply": "2022-03-13T10:09:33.230002Z"
    },
    "papermill": {
     "duration": 0.049098,
     "end_time": "2022-03-13T10:09:33.230620",
     "exception": false,
     "start_time": "2022-03-13T10:09:33.181522",
     "status": "completed"
    },
    "tags": []
   },
   "outputs": [],
   "source": [
    "train_filter = np.where((train_labels == 3 ) | (train_labels == 8))\n",
    "test_filter = np.where((test_labels == 3) | (test_labels == 8))\n",
    "X_train, y_train = train_images[train_filter], train_labels[train_filter]\n",
    "X_test, y_test = test_images[test_filter], test_labels[test_filter]"
   ]
  },
  {
   "cell_type": "markdown",
   "id": "948f0b7e",
   "metadata": {
    "papermill": {
     "duration": 0.025897,
     "end_time": "2022-03-13T10:09:33.283087",
     "exception": false,
     "start_time": "2022-03-13T10:09:33.257190",
     "status": "completed"
    },
    "tags": []
   },
   "source": [
    "We normalize the pizel values in the 0 to 1 range"
   ]
  },
  {
   "cell_type": "code",
   "execution_count": 11,
   "id": "ee4c2166",
   "metadata": {
    "execution": {
     "iopub.execute_input": "2022-03-13T10:09:33.339010Z",
     "iopub.status.busy": "2022-03-13T10:09:33.338487Z",
     "iopub.status.idle": "2022-03-13T10:09:33.386036Z",
     "shell.execute_reply": "2022-03-13T10:09:33.386502Z"
    },
    "papermill": {
     "duration": 0.077777,
     "end_time": "2022-03-13T10:09:33.386673",
     "exception": false,
     "start_time": "2022-03-13T10:09:33.308896",
     "status": "completed"
    },
    "tags": []
   },
   "outputs": [],
   "source": [
    "X_train = X_train/255.\n",
    "X_test = X_test/255."
   ]
  },
  {
   "cell_type": "markdown",
   "id": "ddcf4fab",
   "metadata": {
    "papermill": {
     "duration": 0.026104,
     "end_time": "2022-03-13T10:09:33.439367",
     "exception": false,
     "start_time": "2022-03-13T10:09:33.413263",
     "status": "completed"
    },
    "tags": []
   },
   "source": [
    "And setup the labels as 1 (when the digit is 3) and 0 (when the digit is 8)"
   ]
  },
  {
   "cell_type": "code",
   "execution_count": 12,
   "id": "7dc908f2",
   "metadata": {
    "execution": {
     "iopub.execute_input": "2022-03-13T10:09:33.494587Z",
     "iopub.status.busy": "2022-03-13T10:09:33.494066Z",
     "iopub.status.idle": "2022-03-13T10:09:33.506787Z",
     "shell.execute_reply": "2022-03-13T10:09:33.506370Z"
    },
    "papermill": {
     "duration": 0.04188,
     "end_time": "2022-03-13T10:09:33.506908",
     "exception": false,
     "start_time": "2022-03-13T10:09:33.465028",
     "status": "completed"
    },
    "tags": []
   },
   "outputs": [],
   "source": [
    "y_train = 1*(y_train==3)\n",
    "y_test = 1*(y_test==3)"
   ]
  },
  {
   "cell_type": "code",
   "execution_count": 13,
   "id": "01e4e969",
   "metadata": {
    "execution": {
     "iopub.execute_input": "2022-03-13T10:09:33.565370Z",
     "iopub.status.busy": "2022-03-13T10:09:33.564861Z",
     "iopub.status.idle": "2022-03-13T10:09:33.575396Z",
     "shell.execute_reply": "2022-03-13T10:09:33.575852Z"
    },
    "papermill": {
     "duration": 0.043143,
     "end_time": "2022-03-13T10:09:33.575974",
     "exception": false,
     "start_time": "2022-03-13T10:09:33.532831",
     "status": "completed"
    },
    "tags": []
   },
   "outputs": [
    {
     "data": {
      "text/plain": [
       "((11982, 28, 28), (1984, 28, 28))"
      ]
     },
     "execution_count": 13,
     "metadata": {},
     "output_type": "execute_result"
    }
   ],
   "source": [
    "X_train.shape, X_test.shape"
   ]
  },
  {
   "cell_type": "markdown",
   "id": "5ccf3f85",
   "metadata": {
    "papermill": {
     "duration": 0.025817,
     "end_time": "2022-03-13T10:09:33.627677",
     "exception": false,
     "start_time": "2022-03-13T10:09:33.601860",
     "status": "completed"
    },
    "tags": []
   },
   "source": [
    "We reshape the data to flatten the image pixels into a set of features or co-variates:"
   ]
  },
  {
   "cell_type": "code",
   "execution_count": 14,
   "id": "5286a4a3",
   "metadata": {
    "execution": {
     "iopub.execute_input": "2022-03-13T10:09:33.683119Z",
     "iopub.status.busy": "2022-03-13T10:09:33.682570Z",
     "iopub.status.idle": "2022-03-13T10:09:33.696892Z",
     "shell.execute_reply": "2022-03-13T10:09:33.696485Z"
    },
    "papermill": {
     "duration": 0.043311,
     "end_time": "2022-03-13T10:09:33.697001",
     "exception": false,
     "start_time": "2022-03-13T10:09:33.653690",
     "status": "completed"
    },
    "tags": []
   },
   "outputs": [
    {
     "data": {
      "text/plain": [
       "((11982, 784), (1984, 784))"
      ]
     },
     "execution_count": 14,
     "metadata": {},
     "output_type": "execute_result"
    }
   ],
   "source": [
    "X_train = X_train.reshape(X_train.shape[0], -1)\n",
    "X_test = X_test.reshape(X_test.shape[0], -1)\n",
    "X_train.shape, X_test.shape"
   ]
  },
  {
   "cell_type": "code",
   "execution_count": 15,
   "id": "73c5f88a",
   "metadata": {
    "execution": {
     "iopub.execute_input": "2022-03-13T10:09:33.755032Z",
     "iopub.status.busy": "2022-03-13T10:09:33.754520Z",
     "iopub.status.idle": "2022-03-13T10:09:33.773736Z",
     "shell.execute_reply": "2022-03-13T10:09:33.773303Z"
    },
    "papermill": {
     "duration": 0.050518,
     "end_time": "2022-03-13T10:09:33.773854",
     "exception": false,
     "start_time": "2022-03-13T10:09:33.723336",
     "status": "completed"
    },
    "tags": []
   },
   "outputs": [],
   "source": [
    "#Impoting functions from 'Kudzu'\n",
    "from kudzu.model import Model\n",
    "from kudzu.train import Learner\n",
    "from kudzu.optim import GD\n",
    "from kudzu.data import Data, Sampler,Dataloader\n",
    "\n",
    "from kudzu.callbacks import AccCallback\n",
    "from kudzu.callbacks import ClfCallback\n",
    "\n",
    "from kudzu.loss import MSE\n",
    "\n",
    "from kudzu.layer import Sigmoid,Relu\n",
    "from kudzu.layer import Affine"
   ]
  },
  {
   "cell_type": "markdown",
   "id": "bc01172a",
   "metadata": {
    "papermill": {
     "duration": 0.0262,
     "end_time": "2022-03-13T10:09:33.826532",
     "exception": false,
     "start_time": "2022-03-13T10:09:33.800332",
     "status": "completed"
    },
    "tags": []
   },
   "source": [
    "### Let us create a `Config` class, to store important parameters. \n",
    "This class essentially plays the role of a dictionary."
   ]
  },
  {
   "cell_type": "code",
   "execution_count": 16,
   "id": "978281aa",
   "metadata": {
    "execution": {
     "iopub.execute_input": "2022-03-13T10:09:33.884734Z",
     "iopub.status.busy": "2022-03-13T10:09:33.884217Z",
     "iopub.status.idle": "2022-03-13T10:09:33.895242Z",
     "shell.execute_reply": "2022-03-13T10:09:33.895696Z"
    },
    "papermill": {
     "duration": 0.043107,
     "end_time": "2022-03-13T10:09:33.895819",
     "exception": false,
     "start_time": "2022-03-13T10:09:33.852712",
     "status": "completed"
    },
    "tags": []
   },
   "outputs": [],
   "source": [
    "class Config:\n",
    "    pass\n",
    "config = Config()\n",
    "config.lr = 0.001\n",
    "config.num_epochs = 250\n",
    "config.bs = 50"
   ]
  },
  {
   "cell_type": "markdown",
   "id": "1385fa59",
   "metadata": {
    "papermill": {
     "duration": 0.026152,
     "end_time": "2022-03-13T10:09:33.948286",
     "exception": false,
     "start_time": "2022-03-13T10:09:33.922134",
     "status": "completed"
    },
    "tags": []
   },
   "source": [
    "### Running Models with the Training data\n",
    "Details about the network layers:\n",
    "- A first affine layer has 784 inputs and does 100 affine transforms. These are followed by a Relu\n",
    "- A second affine layer has 100 inputs from the 100 activations of the past layer, and does 100 affine transforms. These are followed by a Relu\n",
    "- A third affine layer has 100 activations and does 2 affine transformations to create an embedding for visualization. There is no non-linearity here.\n",
    "- A final \"logistic regression\" which has an affine transform from 2 inputs to 1 output, which is squeezed through a sigmoid.\n"
   ]
  },
  {
   "cell_type": "code",
   "execution_count": 17,
   "id": "2b9c66db",
   "metadata": {
    "execution": {
     "iopub.execute_input": "2022-03-13T10:09:34.018872Z",
     "iopub.status.busy": "2022-03-13T10:09:34.016425Z",
     "iopub.status.idle": "2022-03-13T10:09:34.021156Z",
     "shell.execute_reply": "2022-03-13T10:09:34.020748Z"
    },
    "papermill": {
     "duration": 0.046722,
     "end_time": "2022-03-13T10:09:34.021264",
     "exception": false,
     "start_time": "2022-03-13T10:09:33.974542",
     "status": "completed"
    },
    "tags": []
   },
   "outputs": [],
   "source": [
    "data = Data(X_train, y_train.reshape(-1,1))\n",
    "sampler = Sampler(data, config.bs, shuffle=True)\n",
    "\n",
    "dl = Dataloader(data, sampler)\n",
    "\n",
    "opt = GD(config.lr)\n",
    "loss = MSE()"
   ]
  },
  {
   "cell_type": "code",
   "execution_count": 18,
   "id": "b275e4c2",
   "metadata": {
    "execution": {
     "iopub.execute_input": "2022-03-13T10:09:34.078432Z",
     "iopub.status.busy": "2022-03-13T10:09:34.077920Z",
     "iopub.status.idle": "2022-03-13T10:09:34.089022Z",
     "shell.execute_reply": "2022-03-13T10:09:34.089405Z"
    },
    "papermill": {
     "duration": 0.041902,
     "end_time": "2022-03-13T10:09:34.089526",
     "exception": false,
     "start_time": "2022-03-13T10:09:34.047624",
     "status": "completed"
    },
    "tags": []
   },
   "outputs": [],
   "source": [
    "training_data_x = X_train\n",
    "testing_data_x = X_test\n",
    "training_data_y = y_train.reshape(-1,1)\n",
    "testing_data_y = y_test.reshape(-1,1)"
   ]
  },
  {
   "cell_type": "code",
   "execution_count": 19,
   "id": "76951160",
   "metadata": {
    "execution": {
     "iopub.execute_input": "2022-03-13T10:09:34.146544Z",
     "iopub.status.busy": "2022-03-13T10:09:34.146026Z",
     "iopub.status.idle": "2022-03-13T10:09:34.163533Z",
     "shell.execute_reply": "2022-03-13T10:09:34.163082Z"
    },
    "papermill": {
     "duration": 0.048007,
     "end_time": "2022-03-13T10:09:34.163643",
     "exception": false,
     "start_time": "2022-03-13T10:09:34.115636",
     "status": "completed"
    },
    "tags": []
   },
   "outputs": [
    {
     "name": "stdout",
     "output_type": "stream",
     "text": [
      "xavier\n",
      "xavier\n",
      "xavier\n",
      "xavier\n",
      "xavier\n"
     ]
    }
   ],
   "source": [
    "layers = [Affine(\"first\", 784, 100), Relu(\"first\"), Affine(\"second\", 100, 100), Relu(\"second\"), Affine(\"third\", 100, 2), Affine(\"last\", 2, 1), Sigmoid(\"last\")]\n",
    "model_nn = Model(layers)\n",
    "model_lr = Model([Affine(\"logits\", 784, 1), Sigmoid(\"sigmoid\")])"
   ]
  },
  {
   "cell_type": "code",
   "execution_count": 20,
   "id": "6eede77a",
   "metadata": {
    "execution": {
     "iopub.execute_input": "2022-03-13T10:09:34.224470Z",
     "iopub.status.busy": "2022-03-13T10:09:34.223960Z",
     "iopub.status.idle": "2022-03-13T10:09:34.233825Z",
     "shell.execute_reply": "2022-03-13T10:09:34.233386Z"
    },
    "papermill": {
     "duration": 0.043733,
     "end_time": "2022-03-13T10:09:34.233933",
     "exception": false,
     "start_time": "2022-03-13T10:09:34.190200",
     "status": "completed"
    },
    "tags": []
   },
   "outputs": [],
   "source": [
    "nn_learner = Learner(loss, model_nn, opt, config.num_epochs)\n",
    "acc_nn = ClfCallback(nn_learner, config.bs, training_data_x , testing_data_x, training_data_y, testing_data_y)\n",
    "nn_learner.set_callbacks([acc_nn])"
   ]
  },
  {
   "cell_type": "code",
   "execution_count": 21,
   "id": "877b6cc7",
   "metadata": {
    "execution": {
     "iopub.execute_input": "2022-03-13T10:09:34.292359Z",
     "iopub.status.busy": "2022-03-13T10:09:34.290009Z",
     "iopub.status.idle": "2022-03-13T10:09:34.320255Z",
     "shell.execute_reply": "2022-03-13T10:09:34.319773Z"
    },
    "papermill": {
     "duration": 0.059892,
     "end_time": "2022-03-13T10:09:34.320384",
     "exception": false,
     "start_time": "2022-03-13T10:09:34.260492",
     "status": "completed"
    },
    "tags": []
   },
   "outputs": [],
   "source": [
    "lr_learner = Learner(loss, model_lr, opt, config.num_epochs)\n",
    "acc_lr = ClfCallback(lr_learner, config.bs, training_data_x , testing_data_x, training_data_y, testing_data_y)\n",
    "lr_learner.set_callbacks([acc_lr])"
   ]
  },
  {
   "cell_type": "code",
   "execution_count": 22,
   "id": "d9b133c3",
   "metadata": {
    "execution": {
     "iopub.execute_input": "2022-03-13T10:09:34.378510Z",
     "iopub.status.busy": "2022-03-13T10:09:34.378008Z",
     "iopub.status.idle": "2022-03-13T10:10:51.265828Z",
     "shell.execute_reply": "2022-03-13T10:10:51.266494Z"
    },
    "papermill": {
     "duration": 76.918554,
     "end_time": "2022-03-13T10:10:51.266650",
     "exception": false,
     "start_time": "2022-03-13T10:09:34.348096",
     "status": "completed"
    },
    "tags": []
   },
   "outputs": [
    {
     "name": "stdout",
     "output_type": "stream",
     "text": [
      "Epoch 0, Loss 0.2368\n",
      "Training Accuracy: 0.7096, Testing Accuracy: 0.7152\n",
      "\n"
     ]
    },
    {
     "name": "stdout",
     "output_type": "stream",
     "text": [
      "Epoch 10, Loss 0.0935\n",
      "Training Accuracy: 0.9115, Testing Accuracy: 0.9294\n",
      "\n"
     ]
    },
    {
     "name": "stdout",
     "output_type": "stream",
     "text": [
      "Epoch 20, Loss 0.0593\n",
      "Training Accuracy: 0.9396, Testing Accuracy: 0.9536\n",
      "\n"
     ]
    },
    {
     "name": "stdout",
     "output_type": "stream",
     "text": [
      "Epoch 30, Loss 0.0466\n",
      "Training Accuracy: 0.9499, Testing Accuracy: 0.9597\n",
      "\n"
     ]
    },
    {
     "name": "stdout",
     "output_type": "stream",
     "text": [
      "Epoch 40, Loss 0.0401\n",
      "Training Accuracy: 0.9548, Testing Accuracy: 0.9662\n",
      "\n"
     ]
    },
    {
     "name": "stdout",
     "output_type": "stream",
     "text": [
      "Epoch 50, Loss 0.0362\n",
      "Training Accuracy: 0.9584, Testing Accuracy: 0.9703\n",
      "\n"
     ]
    },
    {
     "name": "stdout",
     "output_type": "stream",
     "text": [
      "Epoch 60, Loss 0.0334\n",
      "Training Accuracy: 0.9612, Testing Accuracy: 0.9703\n",
      "\n"
     ]
    },
    {
     "name": "stdout",
     "output_type": "stream",
     "text": [
      "Epoch 70, Loss 0.0314\n",
      "Training Accuracy: 0.9634, Testing Accuracy: 0.9718\n",
      "\n"
     ]
    },
    {
     "name": "stdout",
     "output_type": "stream",
     "text": [
      "Epoch 80, Loss 0.0298\n",
      "Training Accuracy: 0.9651, Testing Accuracy: 0.9723\n",
      "\n"
     ]
    },
    {
     "name": "stdout",
     "output_type": "stream",
     "text": [
      "Epoch 90, Loss 0.0285\n",
      "Training Accuracy: 0.9663, Testing Accuracy: 0.9733\n",
      "\n"
     ]
    },
    {
     "name": "stdout",
     "output_type": "stream",
     "text": [
      "Epoch 100, Loss 0.0274\n",
      "Training Accuracy: 0.9680, Testing Accuracy: 0.9738\n",
      "\n"
     ]
    },
    {
     "name": "stdout",
     "output_type": "stream",
     "text": [
      "Epoch 110, Loss 0.0264\n",
      "Training Accuracy: 0.9695, Testing Accuracy: 0.9738\n",
      "\n"
     ]
    },
    {
     "name": "stdout",
     "output_type": "stream",
     "text": [
      "Epoch 120, Loss 0.0256\n",
      "Training Accuracy: 0.9703, Testing Accuracy: 0.9738\n",
      "\n"
     ]
    },
    {
     "name": "stdout",
     "output_type": "stream",
     "text": [
      "Epoch 130, Loss 0.0248\n",
      "Training Accuracy: 0.9716, Testing Accuracy: 0.9743\n",
      "\n"
     ]
    },
    {
     "name": "stdout",
     "output_type": "stream",
     "text": [
      "Epoch 140, Loss 0.0241\n",
      "Training Accuracy: 0.9724, Testing Accuracy: 0.9753\n",
      "\n"
     ]
    },
    {
     "name": "stdout",
     "output_type": "stream",
     "text": [
      "Epoch 150, Loss 0.0235\n",
      "Training Accuracy: 0.9729, Testing Accuracy: 0.9758\n",
      "\n"
     ]
    },
    {
     "name": "stdout",
     "output_type": "stream",
     "text": [
      "Epoch 160, Loss 0.0229\n",
      "Training Accuracy: 0.9732, Testing Accuracy: 0.9753\n",
      "\n"
     ]
    },
    {
     "name": "stdout",
     "output_type": "stream",
     "text": [
      "Epoch 170, Loss 0.0224\n",
      "Training Accuracy: 0.9743, Testing Accuracy: 0.9758\n",
      "\n"
     ]
    },
    {
     "name": "stdout",
     "output_type": "stream",
     "text": [
      "Epoch 180, Loss 0.0219\n",
      "Training Accuracy: 0.9750, Testing Accuracy: 0.9743\n",
      "\n"
     ]
    },
    {
     "name": "stdout",
     "output_type": "stream",
     "text": [
      "Epoch 190, Loss 0.0214\n",
      "Training Accuracy: 0.9754, Testing Accuracy: 0.9743\n",
      "\n"
     ]
    },
    {
     "name": "stdout",
     "output_type": "stream",
     "text": [
      "Epoch 200, Loss 0.021\n",
      "Training Accuracy: 0.9760, Testing Accuracy: 0.9753\n",
      "\n"
     ]
    },
    {
     "name": "stdout",
     "output_type": "stream",
     "text": [
      "Epoch 210, Loss 0.0205\n",
      "Training Accuracy: 0.9765, Testing Accuracy: 0.9758\n",
      "\n"
     ]
    },
    {
     "name": "stdout",
     "output_type": "stream",
     "text": [
      "Epoch 220, Loss 0.0201\n",
      "Training Accuracy: 0.9769, Testing Accuracy: 0.9758\n",
      "\n"
     ]
    },
    {
     "name": "stdout",
     "output_type": "stream",
     "text": [
      "Epoch 230, Loss 0.0197\n",
      "Training Accuracy: 0.9776, Testing Accuracy: 0.9763\n",
      "\n"
     ]
    },
    {
     "name": "stdout",
     "output_type": "stream",
     "text": [
      "Epoch 240, Loss 0.0193\n",
      "Training Accuracy: 0.9780, Testing Accuracy: 0.9773\n",
      "\n"
     ]
    },
    {
     "data": {
      "text/plain": [
       "0.06520344786879219"
      ]
     },
     "execution_count": 22,
     "metadata": {},
     "output_type": "execute_result"
    }
   ],
   "source": [
    "nn_learner.train_loop(dl)"
   ]
  },
  {
   "cell_type": "code",
   "execution_count": 23,
   "id": "e0163366",
   "metadata": {
    "execution": {
     "iopub.execute_input": "2022-03-13T10:10:51.348123Z",
     "iopub.status.busy": "2022-03-13T10:10:51.347580Z",
     "iopub.status.idle": "2022-03-13T10:11:05.482018Z",
     "shell.execute_reply": "2022-03-13T10:11:05.482702Z"
    },
    "papermill": {
     "duration": 14.181668,
     "end_time": "2022-03-13T10:11:05.482856",
     "exception": false,
     "start_time": "2022-03-13T10:10:51.301188",
     "status": "completed"
    },
    "tags": []
   },
   "outputs": [
    {
     "name": "stdout",
     "output_type": "stream",
     "text": [
      "Epoch 0, Loss 0.2471\n",
      "Training Accuracy: 0.6525, Testing Accuracy: 0.6336\n",
      "\n"
     ]
    },
    {
     "name": "stdout",
     "output_type": "stream",
     "text": [
      "Epoch 10, Loss 0.1025\n",
      "Training Accuracy: 0.9151, Testing Accuracy: 0.9279\n",
      "\n"
     ]
    },
    {
     "name": "stdout",
     "output_type": "stream",
     "text": [
      "Epoch 20, Loss 0.0788\n",
      "Training Accuracy: 0.9307, Testing Accuracy: 0.9425\n",
      "\n"
     ]
    },
    {
     "name": "stdout",
     "output_type": "stream",
     "text": [
      "Epoch 30, Loss 0.0681\n",
      "Training Accuracy: 0.9364, Testing Accuracy: 0.9471\n",
      "\n"
     ]
    },
    {
     "name": "stdout",
     "output_type": "stream",
     "text": [
      "Epoch 40, Loss 0.0616\n",
      "Training Accuracy: 0.9407, Testing Accuracy: 0.9501\n",
      "\n"
     ]
    },
    {
     "name": "stdout",
     "output_type": "stream",
     "text": [
      "Epoch 50, Loss 0.0572\n",
      "Training Accuracy: 0.9444, Testing Accuracy: 0.9526\n",
      "\n"
     ]
    },
    {
     "name": "stdout",
     "output_type": "stream",
     "text": [
      "Epoch 60, Loss 0.054\n",
      "Training Accuracy: 0.9466, Testing Accuracy: 0.9531\n",
      "\n"
     ]
    },
    {
     "name": "stdout",
     "output_type": "stream",
     "text": [
      "Epoch 70, Loss 0.0515\n",
      "Training Accuracy: 0.9481, Testing Accuracy: 0.9567\n",
      "\n"
     ]
    },
    {
     "name": "stdout",
     "output_type": "stream",
     "text": [
      "Epoch 80, Loss 0.0494\n",
      "Training Accuracy: 0.9502, Testing Accuracy: 0.9597\n",
      "\n"
     ]
    },
    {
     "name": "stdout",
     "output_type": "stream",
     "text": [
      "Epoch 90, Loss 0.0477\n",
      "Training Accuracy: 0.9518, Testing Accuracy: 0.9627\n",
      "\n"
     ]
    },
    {
     "name": "stdout",
     "output_type": "stream",
     "text": [
      "Epoch 100, Loss 0.0463\n",
      "Training Accuracy: 0.9523, Testing Accuracy: 0.9627\n",
      "\n"
     ]
    },
    {
     "name": "stdout",
     "output_type": "stream",
     "text": [
      "Epoch 110, Loss 0.0451\n",
      "Training Accuracy: 0.9536, Testing Accuracy: 0.9627\n",
      "\n"
     ]
    },
    {
     "name": "stdout",
     "output_type": "stream",
     "text": [
      "Epoch 120, Loss 0.044\n",
      "Training Accuracy: 0.9543, Testing Accuracy: 0.9652\n",
      "\n"
     ]
    },
    {
     "name": "stdout",
     "output_type": "stream",
     "text": [
      "Epoch 130, Loss 0.0431\n",
      "Training Accuracy: 0.9549, Testing Accuracy: 0.9652\n",
      "\n"
     ]
    },
    {
     "name": "stdout",
     "output_type": "stream",
     "text": [
      "Epoch 140, Loss 0.0422\n",
      "Training Accuracy: 0.9561, Testing Accuracy: 0.9652\n",
      "\n"
     ]
    },
    {
     "name": "stdout",
     "output_type": "stream",
     "text": [
      "Epoch 150, Loss 0.0415\n",
      "Training Accuracy: 0.9565, Testing Accuracy: 0.9657\n",
      "\n"
     ]
    },
    {
     "name": "stdout",
     "output_type": "stream",
     "text": [
      "Epoch 160, Loss 0.0408\n",
      "Training Accuracy: 0.9574, Testing Accuracy: 0.9657\n",
      "\n"
     ]
    },
    {
     "name": "stdout",
     "output_type": "stream",
     "text": [
      "Epoch 170, Loss 0.0402\n",
      "Training Accuracy: 0.9577, Testing Accuracy: 0.9657\n",
      "\n"
     ]
    },
    {
     "name": "stdout",
     "output_type": "stream",
     "text": [
      "Epoch 180, Loss 0.0396\n",
      "Training Accuracy: 0.9579, Testing Accuracy: 0.9662\n",
      "\n"
     ]
    },
    {
     "name": "stdout",
     "output_type": "stream",
     "text": [
      "Epoch 190, Loss 0.0391\n",
      "Training Accuracy: 0.9589, Testing Accuracy: 0.9667\n",
      "\n"
     ]
    },
    {
     "name": "stdout",
     "output_type": "stream",
     "text": [
      "Epoch 200, Loss 0.0386\n",
      "Training Accuracy: 0.9592, Testing Accuracy: 0.9667\n",
      "\n"
     ]
    },
    {
     "name": "stdout",
     "output_type": "stream",
     "text": [
      "Epoch 210, Loss 0.0382\n",
      "Training Accuracy: 0.9594, Testing Accuracy: 0.9672\n",
      "\n"
     ]
    },
    {
     "name": "stdout",
     "output_type": "stream",
     "text": [
      "Epoch 220, Loss 0.0377\n",
      "Training Accuracy: 0.9599, Testing Accuracy: 0.9677\n",
      "\n"
     ]
    },
    {
     "name": "stdout",
     "output_type": "stream",
     "text": [
      "Epoch 230, Loss 0.0374\n",
      "Training Accuracy: 0.9603, Testing Accuracy: 0.9677\n",
      "\n"
     ]
    },
    {
     "name": "stdout",
     "output_type": "stream",
     "text": [
      "Epoch 240, Loss 0.037\n",
      "Training Accuracy: 0.9606, Testing Accuracy: 0.9677\n",
      "\n"
     ]
    },
    {
     "data": {
      "text/plain": [
       "0.0496987261015161"
      ]
     },
     "execution_count": 23,
     "metadata": {},
     "output_type": "execute_result"
    }
   ],
   "source": [
    "lr_learner.train_loop(dl)"
   ]
  },
  {
   "cell_type": "code",
   "execution_count": 24,
   "id": "ca410940",
   "metadata": {
    "execution": {
     "iopub.execute_input": "2022-03-13T10:11:05.575931Z",
     "iopub.status.busy": "2022-03-13T10:11:05.575372Z",
     "iopub.status.idle": "2022-03-13T10:11:05.802390Z",
     "shell.execute_reply": "2022-03-13T10:11:05.801928Z"
    },
    "papermill": {
     "duration": 0.278116,
     "end_time": "2022-03-13T10:11:05.802521",
     "exception": false,
     "start_time": "2022-03-13T10:11:05.524405",
     "status": "completed"
    },
    "tags": []
   },
   "outputs": [
    {
     "data": {
      "text/plain": [
       "<matplotlib.legend.Legend at 0x7f53d8d64d68>"
      ]
     },
     "execution_count": 24,
     "metadata": {},
     "output_type": "execute_result"
    },
    {
     "data": {
      "image/png": "[encoded data removed]",
      "text/plain": [
       "<Figure size 1080x720 with 1 Axes>"
      ]
     },
     "metadata": {
      "needs_background": "light"
     },
     "output_type": "display_data"
    }
   ],
   "source": [
    "#comparing the results of NN and LR\n",
    "plt.figure(figsize=(15,10))\n",
    "\n",
    "# Neural Network plots\n",
    "plt.plot(acc_nn.accuracies, 'r-', label = \"Training Accuracies - NN\")\n",
    "plt.plot(acc_nn.test_accuracies, 'g-', label = \"Testing Accuracies - NN\")\n",
    "\n",
    "# Logistic Regression plots\n",
    "plt.plot(acc_lr.accuracies, 'k-', label = \"Training Accuracies - LR\")\n",
    "plt.plot(acc_lr.test_accuracies, 'b-', label = \"Testing Accuracies - LR\")\n",
    "plt.legend()"
   ]
  },
  {
   "cell_type": "markdown",
   "id": "80dfb35c",
   "metadata": {
    "papermill": {
     "duration": 0.04125,
     "end_time": "2022-03-13T10:11:05.885601",
     "exception": false,
     "start_time": "2022-03-13T10:11:05.844351",
     "status": "completed"
    },
    "tags": []
   },
   "source": [
    "#### Plotting the outputs of this layer of the NN.\n"
   ]
  },
  {
   "cell_type": "code",
   "execution_count": 25,
   "id": "45eb2ff5",
   "metadata": {
    "execution": {
     "iopub.execute_input": "2022-03-13T10:11:05.975677Z",
     "iopub.status.busy": "2022-03-13T10:11:05.975130Z",
     "iopub.status.idle": "2022-03-13T10:11:05.997089Z",
     "shell.execute_reply": "2022-03-13T10:11:05.997515Z"
    },
    "papermill": {
     "duration": 0.070903,
     "end_time": "2022-03-13T10:11:05.997654",
     "exception": false,
     "start_time": "2022-03-13T10:11:05.926751",
     "status": "completed"
    },
    "tags": []
   },
   "outputs": [],
   "source": [
    "new_model = Model(layers[:-2])\n",
    "testing_plot = new_model(testing_data_x)"
   ]
  },
  {
   "cell_type": "code",
   "execution_count": 26,
   "id": "4c0a5485",
   "metadata": {
    "execution": {
     "iopub.execute_input": "2022-03-13T10:11:06.088660Z",
     "iopub.status.busy": "2022-03-13T10:11:06.088111Z",
     "iopub.status.idle": "2022-03-13T10:11:06.275811Z",
     "shell.execute_reply": "2022-03-13T10:11:06.276241Z"
    },
    "papermill": {
     "duration": 0.236138,
     "end_time": "2022-03-13T10:11:06.276384",
     "exception": false,
     "start_time": "2022-03-13T10:11:06.040246",
     "status": "completed"
    },
    "tags": []
   },
   "outputs": [
    {
     "data": {
      "text/plain": [
       "Text(0.5, 1.0, 'Outputs')"
      ]
     },
     "execution_count": 26,
     "metadata": {},
     "output_type": "execute_result"
    },
    {
     "data": {
      "image/png": "[encoded data removed]",
      "text/plain": [
       "<Figure size 576x504 with 1 Axes>"
      ]
     },
     "metadata": {
      "needs_background": "light"
     },
     "output_type": "display_data"
    }
   ],
   "source": [
    "# Plotting the scatter plot of points and color coding by class\n",
    "plt.figure(figsize=(8,7))\n",
    "plt.scatter(testing_plot[:,0], testing_plot[:,1], alpha = 0.1, c = y_test.ravel());\n",
    "plt.title('Outputs')"
   ]
  },
  {
   "cell_type": "markdown",
   "id": "a74fcf8f",
   "metadata": {
    "papermill": {
     "duration": 0.043065,
     "end_time": "2022-03-13T10:11:06.362892",
     "exception": false,
     "start_time": "2022-03-13T10:11:06.319827",
     "status": "completed"
    },
    "tags": []
   },
   "source": [
    "Probability contours"
   ]
  },
  {
   "cell_type": "code",
   "execution_count": 27,
   "id": "d0afc8e3",
   "metadata": {
    "execution": {
     "iopub.execute_input": "2022-03-13T10:11:06.454588Z",
     "iopub.status.busy": "2022-03-13T10:11:06.454045Z",
     "iopub.status.idle": "2022-03-13T10:11:06.465952Z",
     "shell.execute_reply": "2022-03-13T10:11:06.465535Z"
    },
    "papermill": {
     "duration": 0.059422,
     "end_time": "2022-03-13T10:11:06.466069",
     "exception": false,
     "start_time": "2022-03-13T10:11:06.406647",
     "status": "completed"
    },
    "tags": []
   },
   "outputs": [],
   "source": [
    "model_prob = Model(layers[-2:]) "
   ]
  },
  {
   "cell_type": "code",
   "execution_count": 28,
   "id": "9b96e238",
   "metadata": {
    "execution": {
     "iopub.execute_input": "2022-03-13T10:11:06.560685Z",
     "iopub.status.busy": "2022-03-13T10:11:06.560019Z",
     "iopub.status.idle": "2022-03-13T10:11:06.572138Z",
     "shell.execute_reply": "2022-03-13T10:11:06.573451Z"
    },
    "papermill": {
     "duration": 0.063931,
     "end_time": "2022-03-13T10:11:06.573612",
     "exception": false,
     "start_time": "2022-03-13T10:11:06.509681",
     "status": "completed"
    },
    "tags": []
   },
   "outputs": [],
   "source": [
    "#creating the x and y ranges according to the above generated plot.\n",
    "x_range = np.linspace(-4, 1, 100) \n",
    "y_range = np.linspace(-6, 6, 100) \n",
    "x_grid, y_grid = np.meshgrid(x_range, y_range) # x_grid and y_grig are of size 100 X 100\n",
    "\n",
    "# converting x_grid and y_grid to continuous arrays\n",
    "x_gridflat = np.ravel(x_grid)\n",
    "y_gridflat = np.ravel(y_grid)\n",
    "\n",
    "# The last layer of the current model takes two columns as input. Hence transpose of np.vstack() is required.\n",
    "X = np.vstack((x_gridflat, y_gridflat)).T\n",
    "\n",
    "prob_contour = model_prob(X).reshape(100,100) "
   ]
  },
  {
   "cell_type": "code",
   "execution_count": 29,
   "id": "da72499a",
   "metadata": {
    "execution": {
     "iopub.execute_input": "2022-03-13T10:11:06.695301Z",
     "iopub.status.busy": "2022-03-13T10:11:06.694784Z",
     "iopub.status.idle": "2022-03-13T10:11:06.943834Z",
     "shell.execute_reply": "2022-03-13T10:11:06.944258Z"
    },
    "papermill": {
     "duration": 0.325988,
     "end_time": "2022-03-13T10:11:06.944400",
     "exception": false,
     "start_time": "2022-03-13T10:11:06.618412",
     "status": "completed"
    },
    "tags": []
   },
   "outputs": [
    {
     "data": {
      "image/png": "[encoded data removed]",
      "text/plain": [
       "<Figure size 720x648 with 1 Axes>"
      ]
     },
     "metadata": {
      "needs_background": "light"
     },
     "output_type": "display_data"
    }
   ],
   "source": [
    "plt.figure(figsize=(10,9))\n",
    "plt.scatter(testing_plot[:,0], testing_plot[:,1], alpha = 0.1, c = y_test.ravel())\n",
    "contours = plt.contour(x_grid,y_grid,prob_contour)\n",
    "plt.title('Probability Contours')\n",
    "plt.clabel(contours, inline = True );"
   ]
  },
  {
   "cell_type": "code",
   "execution_count": null,
   "id": "e81b4ac7",
   "metadata": {
    "papermill": {
     "duration": 0.045478,
     "end_time": "2022-03-13T10:11:07.036001",
     "exception": false,
     "start_time": "2022-03-13T10:11:06.990523",
     "status": "completed"
    },
    "tags": []
   },
   "outputs": [],
   "source": []
  }
 ],
 "metadata": {
  "kernelspec": {
   "display_name": "Python 3",
   "language": "python",
   "name": "python3"
  },
  "language_info": {
   "codemirror_mode": {
    "name": "ipython",
    "version": 3
   },
   "file_extension": ".py",
   "mimetype": "text/x-python",
   "name": "python",
   "nbconvert_exporter": "python",
   "pygments_lexer": "ipython3",
   "version": "3.6.15"
  },
  "papermill": {
   "default_parameters": {},
   "duration": 100.566123,
   "end_time": "2022-03-13T10:11:07.500016",
   "environment_variables": {},
   "exception": null,
   "input_path": "2020-08-11-part2.ipynb",
   "output_path": "2020-08-11-part2.ipynb",
   "parameters": {},
   "start_time": "2022-03-13T10:09:26.933893",
   "version": "2.3.3"
  }
 },
 "nbformat": 4,
 "nbformat_minor": 5
}