{
 "cells": [
  {
   "cell_type": "markdown",
   "id": "98380cd3",
   "metadata": {
    "papermill": {
     "duration": 0.037284,
     "end_time": "2022-02-04T00:23:57.618427",
     "exception": false,
     "start_time": "2022-02-04T00:23:57.581143",
     "status": "completed"
    },
    "tags": []
   },
   "source": [
    "# Distinguish Your Own Digits (DYOD)"
   ]
  },
  {
   "cell_type": "markdown",
   "id": "ef31240d",
   "metadata": {
    "papermill": {
     "duration": 0.036342,
     "end_time": "2022-02-04T00:23:57.688807",
     "exception": false,
     "start_time": "2022-02-04T00:23:57.652465",
     "status": "completed"
    },
    "tags": []
   },
   "source": [
    "You are going to write a classifier that distinguishes between the number 3 and number 8."
   ]
  },
  {
   "cell_type": "code",
   "execution_count": 1,
   "id": "b15c8646",
   "metadata": {
    "execution": {
     "iopub.execute_input": "2022-02-04T00:23:57.775389Z",
     "iopub.status.busy": "2022-02-04T00:23:57.774714Z",
     "iopub.status.idle": "2022-02-04T00:23:57.786719Z",
     "shell.execute_reply": "2022-02-04T00:23:57.786185Z"
    },
    "papermill": {
     "duration": 0.062079,
     "end_time": "2022-02-04T00:23:57.786876",
     "exception": false,
     "start_time": "2022-02-04T00:23:57.724797",
     "status": "completed"
    },
    "tags": []
   },
   "outputs": [],
   "source": [
    "%load_ext autoreload\n",
    "%autoreload 2"
   ]
  },
  {
   "cell_type": "code",
   "execution_count": 2,
   "id": "22ef38dc",
   "metadata": {
    "execution": {
     "iopub.execute_input": "2022-02-04T00:23:57.849024Z",
     "iopub.status.busy": "2022-02-04T00:23:57.848393Z",
     "iopub.status.idle": "2022-02-04T00:23:58.537705Z",
     "shell.execute_reply": "2022-02-04T00:23:58.537156Z"
    },
    "papermill": {
     "duration": 0.723466,
     "end_time": "2022-02-04T00:23:58.537849",
     "exception": false,
     "start_time": "2022-02-04T00:23:57.814383",
     "status": "completed"
    },
    "tags": []
   },
   "outputs": [],
   "source": [
    "%matplotlib inline\n",
    "import numpy as np\n",
    "import matplotlib.pyplot as plt\n",
    "import pandas as pd"
   ]
  },
  {
   "cell_type": "markdown",
   "id": "ba036198",
   "metadata": {
    "papermill": {
     "duration": 0.027194,
     "end_time": "2022-02-04T00:23:58.592459",
     "exception": false,
     "start_time": "2022-02-04T00:23:58.565265",
     "status": "completed"
    },
    "tags": []
   },
   "source": [
    "From the command line run `pip install mnist`. This is a library that will help you bring down the mnist dataset. If you run this from a notebook, you need to put  `!pip install mnist` in a cell by itself."
   ]
  },
  {
   "cell_type": "code",
   "execution_count": 3,
   "id": "bb6ad8a1",
   "metadata": {
    "execution": {
     "iopub.execute_input": "2022-02-04T00:23:58.653352Z",
     "iopub.status.busy": "2022-02-04T00:23:58.652704Z",
     "iopub.status.idle": "2022-02-04T00:24:01.346169Z",
     "shell.execute_reply": "2022-02-04T00:24:01.345562Z"
    },
    "papermill": {
     "duration": 2.726355,
     "end_time": "2022-02-04T00:24:01.346308",
     "exception": false,
     "start_time": "2022-02-04T00:23:58.619953",
     "status": "completed"
    },
    "tags": []
   },
   "outputs": [
    {
     "name": "stdout",
     "output_type": "stream",
     "text": [
      "Collecting mnist\r\n",
      "  Downloading mnist-0.2.2-py2.py3-none-any.whl (3.5 kB)\r\n",
      "Requirement already satisfied: numpy in /opt/hostedtoolcache/Python/3.6.15/x64/lib/python3.6/site-packages (from mnist) (1.19.5)\r\n"
     ]
    },
    {
     "name": "stdout",
     "output_type": "stream",
     "text": [
      "Installing collected packages: mnist\r\n",
      "Successfully installed mnist-0.2.2\r\n"
     ]
    }
   ],
   "source": [
    "!pip install mnist"
   ]
  },
  {
   "cell_type": "markdown",
   "id": "69df9c9a",
   "metadata": {
    "papermill": {
     "duration": 0.029854,
     "end_time": "2022-02-04T00:24:01.407801",
     "exception": false,
     "start_time": "2022-02-04T00:24:01.377947",
     "status": "completed"
    },
    "tags": []
   },
   "source": [
    "## Preparing the Data"
   ]
  },
  {
   "cell_type": "code",
   "execution_count": 4,
   "id": "7f69d806",
   "metadata": {
    "execution": {
     "iopub.execute_input": "2022-02-04T00:24:01.471914Z",
     "iopub.status.busy": "2022-02-04T00:24:01.471259Z",
     "iopub.status.idle": "2022-02-04T00:24:01.488166Z",
     "shell.execute_reply": "2022-02-04T00:24:01.487411Z"
    },
    "papermill": {
     "duration": 0.051809,
     "end_time": "2022-02-04T00:24:01.488315",
     "exception": false,
     "start_time": "2022-02-04T00:24:01.436506",
     "status": "completed"
    },
    "tags": []
   },
   "outputs": [],
   "source": [
    "import mnist"
   ]
  },
  {
   "cell_type": "code",
   "execution_count": 5,
   "id": "a411e44f",
   "metadata": {
    "execution": {
     "iopub.execute_input": "2022-02-04T00:24:01.553534Z",
     "iopub.status.busy": "2022-02-04T00:24:01.552917Z",
     "iopub.status.idle": "2022-02-04T00:24:02.119617Z",
     "shell.execute_reply": "2022-02-04T00:24:02.118654Z"
    },
    "papermill": {
     "duration": 0.600402,
     "end_time": "2022-02-04T00:24:02.119854",
     "exception": false,
     "start_time": "2022-02-04T00:24:01.519452",
     "status": "completed"
    },
    "tags": []
   },
   "outputs": [],
   "source": [
    "train_images = mnist.train_images()\n",
    "train_labels = mnist.train_labels()"
   ]
  },
  {
   "cell_type": "code",
   "execution_count": 6,
   "id": "dceab3a5",
   "metadata": {
    "execution": {
     "iopub.execute_input": "2022-02-04T00:24:02.180627Z",
     "iopub.status.busy": "2022-02-04T00:24:02.179749Z",
     "iopub.status.idle": "2022-02-04T00:24:02.197952Z",
     "shell.execute_reply": "2022-02-04T00:24:02.197463Z"
    },
    "papermill": {
     "duration": 0.050148,
     "end_time": "2022-02-04T00:24:02.198083",
     "exception": false,
     "start_time": "2022-02-04T00:24:02.147935",
     "status": "completed"
    },
    "tags": []
   },
   "outputs": [
    {
     "data": {
      "text/plain": [
       "((60000, 28, 28), (60000,))"
      ]
     },
     "execution_count": 6,
     "metadata": {},
     "output_type": "execute_result"
    }
   ],
   "source": [
    "train_images.shape, train_labels.shape"
   ]
  },
  {
   "cell_type": "code",
   "execution_count": 7,
   "id": "f50dc2bb",
   "metadata": {
    "execution": {
     "iopub.execute_input": "2022-02-04T00:24:02.258564Z",
     "iopub.status.busy": "2022-02-04T00:24:02.257956Z",
     "iopub.status.idle": "2022-02-04T00:24:02.402218Z",
     "shell.execute_reply": "2022-02-04T00:24:02.402739Z"
    },
    "papermill": {
     "duration": 0.176796,
     "end_time": "2022-02-04T00:24:02.402900",
     "exception": false,
     "start_time": "2022-02-04T00:24:02.226104",
     "status": "completed"
    },
    "tags": []
   },
   "outputs": [],
   "source": [
    "test_images = mnist.test_images()\n",
    "test_labels = mnist.test_labels()"
   ]
  },
  {
   "cell_type": "code",
   "execution_count": 8,
   "id": "fc38cf1b",
   "metadata": {
    "execution": {
     "iopub.execute_input": "2022-02-04T00:24:02.463750Z",
     "iopub.status.busy": "2022-02-04T00:24:02.463085Z",
     "iopub.status.idle": "2022-02-04T00:24:02.479175Z",
     "shell.execute_reply": "2022-02-04T00:24:02.478690Z"
    },
    "papermill": {
     "duration": 0.048238,
     "end_time": "2022-02-04T00:24:02.479310",
     "exception": false,
     "start_time": "2022-02-04T00:24:02.431072",
     "status": "completed"
    },
    "tags": []
   },
   "outputs": [
    {
     "data": {
      "text/plain": [
       "((10000, 28, 28), (10000,))"
      ]
     },
     "execution_count": 8,
     "metadata": {},
     "output_type": "execute_result"
    }
   ],
   "source": [
    "test_images.shape, test_labels.shape"
   ]
  },
  {
   "cell_type": "code",
   "execution_count": 9,
   "id": "f9ed8fe0",
   "metadata": {
    "execution": {
     "iopub.execute_input": "2022-02-04T00:24:02.541296Z",
     "iopub.status.busy": "2022-02-04T00:24:02.540051Z",
     "iopub.status.idle": "2022-02-04T00:24:02.707039Z",
     "shell.execute_reply": "2022-02-04T00:24:02.707545Z"
    },
    "papermill": {
     "duration": 0.200085,
     "end_time": "2022-02-04T00:24:02.707713",
     "exception": false,
     "start_time": "2022-02-04T00:24:02.507628",
     "status": "completed"
    },
    "tags": []
   },
   "outputs": [
    {
     "name": "stdout",
     "output_type": "stream",
     "text": [
      "2\n"
     ]
    },
    {
     "data": {
      "text/plain": [
       "<matplotlib.image.AxesImage at 0x7f67bed86c88>"
      ]
     },
     "execution_count": 9,
     "metadata": {},
     "output_type": "execute_result"
    },
    {
     "data": {
      "image/png": "[encoded data removed]",
      "text/plain": [
       "<Figure size 432x288 with 1 Axes>"
      ]
     },
     "metadata": {
      "needs_background": "light"
     },
     "output_type": "display_data"
    }
   ],
   "source": [
    "image_index = 7776 # You may select anything up to 60,000\n",
    "print(train_labels[image_index]) \n",
    "plt.imshow(train_images[image_index], cmap='Greys')"
   ]
  },
  {
   "cell_type": "markdown",
   "id": "a8d2388d",
   "metadata": {
    "papermill": {
     "duration": 0.029307,
     "end_time": "2022-02-04T00:24:02.766772",
     "exception": false,
     "start_time": "2022-02-04T00:24:02.737465",
     "status": "completed"
    },
    "tags": []
   },
   "source": [
    "## Filter data to get 3 and 8 out"
   ]
  },
  {
   "cell_type": "code",
   "execution_count": 10,
   "id": "776f7fc7",
   "metadata": {
    "execution": {
     "iopub.execute_input": "2022-02-04T00:24:02.831296Z",
     "iopub.status.busy": "2022-02-04T00:24:02.830639Z",
     "iopub.status.idle": "2022-02-04T00:24:02.854613Z",
     "shell.execute_reply": "2022-02-04T00:24:02.853792Z"
    },
    "papermill": {
     "duration": 0.058573,
     "end_time": "2022-02-04T00:24:02.854936",
     "exception": false,
     "start_time": "2022-02-04T00:24:02.796363",
     "status": "completed"
    },
    "tags": []
   },
   "outputs": [],
   "source": [
    "train_filter = np.where((train_labels == 3 ) | (train_labels == 8))\n",
    "test_filter = np.where((test_labels == 3) | (test_labels == 8))\n",
    "X_train, y_train = train_images[train_filter], train_labels[train_filter]\n",
    "X_test, y_test = test_images[test_filter], test_labels[test_filter]"
   ]
  },
  {
   "cell_type": "markdown",
   "id": "948f0b7e",
   "metadata": {
    "papermill": {
     "duration": 0.032917,
     "end_time": "2022-02-04T00:24:02.920079",
     "exception": false,
     "start_time": "2022-02-04T00:24:02.887162",
     "status": "completed"
    },
    "tags": []
   },
   "source": [
    "We normalize the pizel values in the 0 to 1 range"
   ]
  },
  {
   "cell_type": "code",
   "execution_count": 11,
   "id": "ee4c2166",
   "metadata": {
    "execution": {
     "iopub.execute_input": "2022-02-04T00:24:02.988261Z",
     "iopub.status.busy": "2022-02-04T00:24:02.985748Z",
     "iopub.status.idle": "2022-02-04T00:24:03.043599Z",
     "shell.execute_reply": "2022-02-04T00:24:03.042662Z"
    },
    "papermill": {
     "duration": 0.092976,
     "end_time": "2022-02-04T00:24:03.043830",
     "exception": false,
     "start_time": "2022-02-04T00:24:02.950854",
     "status": "completed"
    },
    "tags": []
   },
   "outputs": [],
   "source": [
    "X_train = X_train/255.\n",
    "X_test = X_test/255."
   ]
  },
  {
   "cell_type": "markdown",
   "id": "ddcf4fab",
   "metadata": {
    "papermill": {
     "duration": 0.03393,
     "end_time": "2022-02-04T00:24:03.111560",
     "exception": false,
     "start_time": "2022-02-04T00:24:03.077630",
     "status": "completed"
    },
    "tags": []
   },
   "source": [
    "And setup the labels as 1 (when the digit is 3) and 0 (when the digit is 8)"
   ]
  },
  {
   "cell_type": "code",
   "execution_count": 12,
   "id": "7dc908f2",
   "metadata": {
    "execution": {
     "iopub.execute_input": "2022-02-04T00:24:03.181754Z",
     "iopub.status.busy": "2022-02-04T00:24:03.181112Z",
     "iopub.status.idle": "2022-02-04T00:24:03.195904Z",
     "shell.execute_reply": "2022-02-04T00:24:03.195283Z"
    },
    "papermill": {
     "duration": 0.05321,
     "end_time": "2022-02-04T00:24:03.196041",
     "exception": false,
     "start_time": "2022-02-04T00:24:03.142831",
     "status": "completed"
    },
    "tags": []
   },
   "outputs": [],
   "source": [
    "y_train = 1*(y_train==3)\n",
    "y_test = 1*(y_test==3)"
   ]
  },
  {
   "cell_type": "code",
   "execution_count": 13,
   "id": "01e4e969",
   "metadata": {
    "execution": {
     "iopub.execute_input": "2022-02-04T00:24:03.263027Z",
     "iopub.status.busy": "2022-02-04T00:24:03.262403Z",
     "iopub.status.idle": "2022-02-04T00:24:03.277522Z",
     "shell.execute_reply": "2022-02-04T00:24:03.277001Z"
    },
    "papermill": {
     "duration": 0.04968,
     "end_time": "2022-02-04T00:24:03.277653",
     "exception": false,
     "start_time": "2022-02-04T00:24:03.227973",
     "status": "completed"
    },
    "tags": []
   },
   "outputs": [
    {
     "data": {
      "text/plain": [
       "((11982, 28, 28), (1984, 28, 28))"
      ]
     },
     "execution_count": 13,
     "metadata": {},
     "output_type": "execute_result"
    }
   ],
   "source": [
    "X_train.shape, X_test.shape"
   ]
  },
  {
   "cell_type": "markdown",
   "id": "5ccf3f85",
   "metadata": {
    "papermill": {
     "duration": 0.031345,
     "end_time": "2022-02-04T00:24:03.343395",
     "exception": false,
     "start_time": "2022-02-04T00:24:03.312050",
     "status": "completed"
    },
    "tags": []
   },
   "source": [
    "We reshape the data to flatten the image pixels into a set of features or co-variates:"
   ]
  },
  {
   "cell_type": "code",
   "execution_count": 14,
   "id": "5286a4a3",
   "metadata": {
    "execution": {
     "iopub.execute_input": "2022-02-04T00:24:03.410435Z",
     "iopub.status.busy": "2022-02-04T00:24:03.409777Z",
     "iopub.status.idle": "2022-02-04T00:24:03.425358Z",
     "shell.execute_reply": "2022-02-04T00:24:03.424840Z"
    },
    "papermill": {
     "duration": 0.050849,
     "end_time": "2022-02-04T00:24:03.425487",
     "exception": false,
     "start_time": "2022-02-04T00:24:03.374638",
     "status": "completed"
    },
    "tags": []
   },
   "outputs": [
    {
     "data": {
      "text/plain": [
       "((11982, 784), (1984, 784))"
      ]
     },
     "execution_count": 14,
     "metadata": {},
     "output_type": "execute_result"
    }
   ],
   "source": [
    "X_train = X_train.reshape(X_train.shape[0], -1)\n",
    "X_test = X_test.reshape(X_test.shape[0], -1)\n",
    "X_train.shape, X_test.shape"
   ]
  },
  {
   "cell_type": "code",
   "execution_count": 15,
   "id": "73c5f88a",
   "metadata": {
    "execution": {
     "iopub.execute_input": "2022-02-04T00:24:03.493624Z",
     "iopub.status.busy": "2022-02-04T00:24:03.492974Z",
     "iopub.status.idle": "2022-02-04T00:24:03.513543Z",
     "shell.execute_reply": "2022-02-04T00:24:03.514009Z"
    },
    "papermill": {
     "duration": 0.057245,
     "end_time": "2022-02-04T00:24:03.514168",
     "exception": false,
     "start_time": "2022-02-04T00:24:03.456923",
     "status": "completed"
    },
    "tags": []
   },
   "outputs": [],
   "source": [
    "#Impoting functions from 'Kudzu'\n",
    "from kudzu.model import Model\n",
    "from kudzu.train import Learner\n",
    "from kudzu.optim import GD\n",
    "from kudzu.data import Data, Sampler,Dataloader\n",
    "\n",
    "from kudzu.callbacks import AccCallback\n",
    "from kudzu.callbacks import ClfCallback\n",
    "\n",
    "from kudzu.loss import MSE\n",
    "\n",
    "from kudzu.layer import Sigmoid,Relu\n",
    "from kudzu.layer import Affine"
   ]
  },
  {
   "cell_type": "markdown",
   "id": "bc01172a",
   "metadata": {
    "papermill": {
     "duration": 0.030981,
     "end_time": "2022-02-04T00:24:03.576782",
     "exception": false,
     "start_time": "2022-02-04T00:24:03.545801",
     "status": "completed"
    },
    "tags": []
   },
   "source": [
    "### Let us create a `Config` class, to store important parameters. \n",
    "This class essentially plays the role of a dictionary."
   ]
  },
  {
   "cell_type": "code",
   "execution_count": 16,
   "id": "978281aa",
   "metadata": {
    "execution": {
     "iopub.execute_input": "2022-02-04T00:24:03.647287Z",
     "iopub.status.busy": "2022-02-04T00:24:03.646675Z",
     "iopub.status.idle": "2022-02-04T00:24:03.660684Z",
     "shell.execute_reply": "2022-02-04T00:24:03.660155Z"
    },
    "papermill": {
     "duration": 0.051048,
     "end_time": "2022-02-04T00:24:03.660818",
     "exception": false,
     "start_time": "2022-02-04T00:24:03.609770",
     "status": "completed"
    },
    "tags": []
   },
   "outputs": [],
   "source": [
    "class Config:\n",
    "    pass\n",
    "config = Config()\n",
    "config.lr = 0.001\n",
    "config.num_epochs = 250\n",
    "config.bs = 50"
   ]
  },
  {
   "cell_type": "markdown",
   "id": "1385fa59",
   "metadata": {
    "papermill": {
     "duration": 0.034055,
     "end_time": "2022-02-04T00:24:03.732034",
     "exception": false,
     "start_time": "2022-02-04T00:24:03.697979",
     "status": "completed"
    },
    "tags": []
   },
   "source": [
    "### Running Models with the Training data\n",
    "Details about the network layers:\n",
    "- A first affine layer has 784 inputs and does 100 affine transforms. These are followed by a Relu\n",
    "- A second affine layer has 100 inputs from the 100 activations of the past layer, and does 100 affine transforms. These are followed by a Relu\n",
    "- A third affine layer has 100 activations and does 2 affine transformations to create an embedding for visualization. There is no non-linearity here.\n",
    "- A final \"logistic regression\" which has an affine transform from 2 inputs to 1 output, which is squeezed through a sigmoid.\n"
   ]
  },
  {
   "cell_type": "code",
   "execution_count": 17,
   "id": "2b9c66db",
   "metadata": {
    "execution": {
     "iopub.execute_input": "2022-02-04T00:24:03.801599Z",
     "iopub.status.busy": "2022-02-04T00:24:03.800935Z",
     "iopub.status.idle": "2022-02-04T00:24:03.815209Z",
     "shell.execute_reply": "2022-02-04T00:24:03.814651Z"
    },
    "papermill": {
     "duration": 0.051079,
     "end_time": "2022-02-04T00:24:03.815364",
     "exception": false,
     "start_time": "2022-02-04T00:24:03.764285",
     "status": "completed"
    },
    "tags": []
   },
   "outputs": [],
   "source": [
    "data = Data(X_train, y_train.reshape(-1,1))\n",
    "sampler = Sampler(data, config.bs, shuffle=True)\n",
    "\n",
    "dl = Dataloader(data, sampler)\n",
    "\n",
    "opt = GD(config.lr)\n",
    "loss = MSE()"
   ]
  },
  {
   "cell_type": "code",
   "execution_count": 18,
   "id": "b275e4c2",
   "metadata": {
    "execution": {
     "iopub.execute_input": "2022-02-04T00:24:03.890634Z",
     "iopub.status.busy": "2022-02-04T00:24:03.889985Z",
     "iopub.status.idle": "2022-02-04T00:24:03.904204Z",
     "shell.execute_reply": "2022-02-04T00:24:03.903673Z"
    },
    "papermill": {
     "duration": 0.055017,
     "end_time": "2022-02-04T00:24:03.904343",
     "exception": false,
     "start_time": "2022-02-04T00:24:03.849326",
     "status": "completed"
    },
    "tags": []
   },
   "outputs": [],
   "source": [
    "training_data_x = X_train\n",
    "testing_data_x = X_test\n",
    "training_data_y = y_train.reshape(-1,1)\n",
    "testing_data_y = y_test.reshape(-1,1)"
   ]
  },
  {
   "cell_type": "code",
   "execution_count": 19,
   "id": "76951160",
   "metadata": {
    "execution": {
     "iopub.execute_input": "2022-02-04T00:24:03.972086Z",
     "iopub.status.busy": "2022-02-04T00:24:03.971433Z",
     "iopub.status.idle": "2022-02-04T00:24:03.990594Z",
     "shell.execute_reply": "2022-02-04T00:24:03.990080Z"
    },
    "papermill": {
     "duration": 0.054149,
     "end_time": "2022-02-04T00:24:03.990724",
     "exception": false,
     "start_time": "2022-02-04T00:24:03.936575",
     "status": "completed"
    },
    "tags": []
   },
   "outputs": [
    {
     "name": "stdout",
     "output_type": "stream",
     "text": [
      "xavier\n",
      "xavier\n",
      "xavier\n",
      "xavier\n",
      "xavier\n"
     ]
    }
   ],
   "source": [
    "layers = [Affine(\"first\", 784, 100), Relu(\"first\"), Affine(\"second\", 100, 100), Relu(\"second\"), Affine(\"third\", 100, 2), Affine(\"last\", 2, 1), Sigmoid(\"last\")]\n",
    "model_nn = Model(layers)\n",
    "model_lr = Model([Affine(\"logits\", 784, 1), Sigmoid(\"sigmoid\")])"
   ]
  },
  {
   "cell_type": "code",
   "execution_count": 20,
   "id": "6eede77a",
   "metadata": {
    "execution": {
     "iopub.execute_input": "2022-02-04T00:24:04.057589Z",
     "iopub.status.busy": "2022-02-04T00:24:04.056967Z",
     "iopub.status.idle": "2022-02-04T00:24:04.072445Z",
     "shell.execute_reply": "2022-02-04T00:24:04.071603Z"
    },
    "papermill": {
     "duration": 0.051086,
     "end_time": "2022-02-04T00:24:04.072600",
     "exception": false,
     "start_time": "2022-02-04T00:24:04.021514",
     "status": "completed"
    },
    "tags": []
   },
   "outputs": [],
   "source": [
    "nn_learner = Learner(loss, model_nn, opt, config.num_epochs)\n",
    "acc_nn = ClfCallback(nn_learner, config.bs, training_data_x , testing_data_x, training_data_y, testing_data_y)\n",
    "nn_learner.set_callbacks([acc_nn])"
   ]
  },
  {
   "cell_type": "code",
   "execution_count": 21,
   "id": "877b6cc7",
   "metadata": {
    "execution": {
     "iopub.execute_input": "2022-02-04T00:24:04.146909Z",
     "iopub.status.busy": "2022-02-04T00:24:04.146270Z",
     "iopub.status.idle": "2022-02-04T00:24:04.163252Z",
     "shell.execute_reply": "2022-02-04T00:24:04.162216Z"
    },
    "papermill": {
     "duration": 0.054448,
     "end_time": "2022-02-04T00:24:04.163491",
     "exception": false,
     "start_time": "2022-02-04T00:24:04.109043",
     "status": "completed"
    },
    "tags": []
   },
   "outputs": [],
   "source": [
    "lr_learner = Learner(loss, model_lr, opt, config.num_epochs)\n",
    "acc_lr = ClfCallback(lr_learner, config.bs, training_data_x , testing_data_x, training_data_y, testing_data_y)\n",
    "lr_learner.set_callbacks([acc_lr])"
   ]
  },
  {
   "cell_type": "code",
   "execution_count": 22,
   "id": "d9b133c3",
   "metadata": {
    "execution": {
     "iopub.execute_input": "2022-02-04T00:24:04.238850Z",
     "iopub.status.busy": "2022-02-04T00:24:04.238240Z",
     "iopub.status.idle": "2022-02-04T00:25:38.966892Z",
     "shell.execute_reply": "2022-02-04T00:25:38.967792Z"
    },
    "papermill": {
     "duration": 94.764116,
     "end_time": "2022-02-04T00:25:38.967962",
     "exception": false,
     "start_time": "2022-02-04T00:24:04.203846",
     "status": "completed"
    },
    "tags": []
   },
   "outputs": [
    {
     "name": "stdout",
     "output_type": "stream",
     "text": [
      "Epoch 0, Loss 0.2493\n",
      "Training Accuracy: 0.5363, Testing Accuracy: 0.5620\n",
      "\n"
     ]
    },
    {
     "name": "stdout",
     "output_type": "stream",
     "text": [
      "Epoch 10, Loss 0.2192\n",
      "Training Accuracy: 0.8554, Testing Accuracy: 0.8664\n",
      "\n"
     ]
    },
    {
     "name": "stdout",
     "output_type": "stream",
     "text": [
      "Epoch 20, Loss 0.1223\n",
      "Training Accuracy: 0.9029, Testing Accuracy: 0.9093\n",
      "\n"
     ]
    },
    {
     "name": "stdout",
     "output_type": "stream",
     "text": [
      "Epoch 30, Loss 0.0684\n",
      "Training Accuracy: 0.9323, Testing Accuracy: 0.9380\n",
      "\n"
     ]
    },
    {
     "name": "stdout",
     "output_type": "stream",
     "text": [
      "Epoch 40, Loss 0.0505\n",
      "Training Accuracy: 0.9437, Testing Accuracy: 0.9561\n",
      "\n"
     ]
    },
    {
     "name": "stdout",
     "output_type": "stream",
     "text": [
      "Epoch 50, Loss 0.0423\n",
      "Training Accuracy: 0.9512, Testing Accuracy: 0.9627\n",
      "\n"
     ]
    },
    {
     "name": "stdout",
     "output_type": "stream",
     "text": [
      "Epoch 60, Loss 0.0376\n",
      "Training Accuracy: 0.9561, Testing Accuracy: 0.9657\n",
      "\n"
     ]
    },
    {
     "name": "stdout",
     "output_type": "stream",
     "text": [
      "Epoch 70, Loss 0.0346\n",
      "Training Accuracy: 0.9588, Testing Accuracy: 0.9667\n",
      "\n"
     ]
    },
    {
     "name": "stdout",
     "output_type": "stream",
     "text": [
      "Epoch 80, Loss 0.0324\n",
      "Training Accuracy: 0.9609, Testing Accuracy: 0.9688\n",
      "\n"
     ]
    },
    {
     "name": "stdout",
     "output_type": "stream",
     "text": [
      "Epoch 90, Loss 0.0306\n",
      "Training Accuracy: 0.9630, Testing Accuracy: 0.9677\n",
      "\n"
     ]
    },
    {
     "name": "stdout",
     "output_type": "stream",
     "text": [
      "Epoch 100, Loss 0.0293\n",
      "Training Accuracy: 0.9654, Testing Accuracy: 0.9682\n",
      "\n"
     ]
    },
    {
     "name": "stdout",
     "output_type": "stream",
     "text": [
      "Epoch 110, Loss 0.0281\n",
      "Training Accuracy: 0.9662, Testing Accuracy: 0.9672\n",
      "\n"
     ]
    },
    {
     "name": "stdout",
     "output_type": "stream",
     "text": [
      "Epoch 120, Loss 0.0271\n",
      "Training Accuracy: 0.9674, Testing Accuracy: 0.9677\n",
      "\n"
     ]
    },
    {
     "name": "stdout",
     "output_type": "stream",
     "text": [
      "Epoch 130, Loss 0.0263\n",
      "Training Accuracy: 0.9693, Testing Accuracy: 0.9677\n",
      "\n"
     ]
    },
    {
     "name": "stdout",
     "output_type": "stream",
     "text": [
      "Epoch 140, Loss 0.0255\n",
      "Training Accuracy: 0.9704, Testing Accuracy: 0.9693\n",
      "\n"
     ]
    },
    {
     "name": "stdout",
     "output_type": "stream",
     "text": [
      "Epoch 150, Loss 0.0248\n",
      "Training Accuracy: 0.9718, Testing Accuracy: 0.9708\n",
      "\n"
     ]
    },
    {
     "name": "stdout",
     "output_type": "stream",
     "text": [
      "Epoch 160, Loss 0.0242\n",
      "Training Accuracy: 0.9726, Testing Accuracy: 0.9708\n",
      "\n"
     ]
    },
    {
     "name": "stdout",
     "output_type": "stream",
     "text": [
      "Epoch 170, Loss 0.0236\n",
      "Training Accuracy: 0.9735, Testing Accuracy: 0.9718\n",
      "\n"
     ]
    },
    {
     "name": "stdout",
     "output_type": "stream",
     "text": [
      "Epoch 180, Loss 0.0231\n",
      "Training Accuracy: 0.9740, Testing Accuracy: 0.9718\n",
      "\n"
     ]
    },
    {
     "name": "stdout",
     "output_type": "stream",
     "text": [
      "Epoch 190, Loss 0.0226\n",
      "Training Accuracy: 0.9746, Testing Accuracy: 0.9723\n",
      "\n"
     ]
    },
    {
     "name": "stdout",
     "output_type": "stream",
     "text": [
      "Epoch 200, Loss 0.0221\n",
      "Training Accuracy: 0.9749, Testing Accuracy: 0.9723\n",
      "\n"
     ]
    },
    {
     "name": "stdout",
     "output_type": "stream",
     "text": [
      "Epoch 210, Loss 0.0217\n",
      "Training Accuracy: 0.9755, Testing Accuracy: 0.9723\n",
      "\n"
     ]
    },
    {
     "name": "stdout",
     "output_type": "stream",
     "text": [
      "Epoch 220, Loss 0.0213\n",
      "Training Accuracy: 0.9760, Testing Accuracy: 0.9723\n",
      "\n"
     ]
    },
    {
     "name": "stdout",
     "output_type": "stream",
     "text": [
      "Epoch 230, Loss 0.0209\n",
      "Training Accuracy: 0.9766, Testing Accuracy: 0.9723\n",
      "\n"
     ]
    },
    {
     "name": "stdout",
     "output_type": "stream",
     "text": [
      "Epoch 240, Loss 0.0205\n",
      "Training Accuracy: 0.9770, Testing Accuracy: 0.9728\n",
      "\n"
     ]
    },
    {
     "data": {
      "text/plain": [
       "0.021980967219829294"
      ]
     },
     "execution_count": 22,
     "metadata": {},
     "output_type": "execute_result"
    }
   ],
   "source": [
    "nn_learner.train_loop(dl)"
   ]
  },
  {
   "cell_type": "code",
   "execution_count": 23,
   "id": "e0163366",
   "metadata": {
    "execution": {
     "iopub.execute_input": "2022-02-04T00:25:39.060729Z",
     "iopub.status.busy": "2022-02-04T00:25:39.060108Z",
     "iopub.status.idle": "2022-02-04T00:25:55.931941Z",
     "shell.execute_reply": "2022-02-04T00:25:55.932790Z"
    },
    "papermill": {
     "duration": 16.925214,
     "end_time": "2022-02-04T00:25:55.932952",
     "exception": false,
     "start_time": "2022-02-04T00:25:39.007738",
     "status": "completed"
    },
    "tags": []
   },
   "outputs": [
    {
     "name": "stdout",
     "output_type": "stream",
     "text": [
      "Epoch 0, Loss 0.2695\n",
      "Training Accuracy: 0.5505, Testing Accuracy: 0.5852\n",
      "\n"
     ]
    },
    {
     "name": "stdout",
     "output_type": "stream",
     "text": [
      "Epoch 10, Loss 0.1116\n",
      "Training Accuracy: 0.8893, Testing Accuracy: 0.8997\n",
      "\n"
     ]
    },
    {
     "name": "stdout",
     "output_type": "stream",
     "text": [
      "Epoch 20, Loss 0.0835\n",
      "Training Accuracy: 0.9178, Testing Accuracy: 0.9294\n",
      "\n"
     ]
    },
    {
     "name": "stdout",
     "output_type": "stream",
     "text": [
      "Epoch 30, Loss 0.0708\n",
      "Training Accuracy: 0.9329, Testing Accuracy: 0.9395\n",
      "\n"
     ]
    },
    {
     "name": "stdout",
     "output_type": "stream",
     "text": [
      "Epoch 40, Loss 0.0633\n",
      "Training Accuracy: 0.9394, Testing Accuracy: 0.9461\n",
      "\n"
     ]
    },
    {
     "name": "stdout",
     "output_type": "stream",
     "text": [
      "Epoch 50, Loss 0.0583\n",
      "Training Accuracy: 0.9436, Testing Accuracy: 0.9511\n",
      "\n"
     ]
    },
    {
     "name": "stdout",
     "output_type": "stream",
     "text": [
      "Epoch 60, Loss 0.0547\n",
      "Training Accuracy: 0.9457, Testing Accuracy: 0.9536\n",
      "\n"
     ]
    },
    {
     "name": "stdout",
     "output_type": "stream",
     "text": [
      "Epoch 70, Loss 0.052\n",
      "Training Accuracy: 0.9474, Testing Accuracy: 0.9551\n",
      "\n"
     ]
    },
    {
     "name": "stdout",
     "output_type": "stream",
     "text": [
      "Epoch 80, Loss 0.0498\n",
      "Training Accuracy: 0.9493, Testing Accuracy: 0.9572\n",
      "\n"
     ]
    },
    {
     "name": "stdout",
     "output_type": "stream",
     "text": [
      "Epoch 90, Loss 0.048\n",
      "Training Accuracy: 0.9511, Testing Accuracy: 0.9572\n",
      "\n"
     ]
    },
    {
     "name": "stdout",
     "output_type": "stream",
     "text": [
      "Epoch 100, Loss 0.0465\n",
      "Training Accuracy: 0.9523, Testing Accuracy: 0.9582\n",
      "\n"
     ]
    },
    {
     "name": "stdout",
     "output_type": "stream",
     "text": [
      "Epoch 110, Loss 0.0452\n",
      "Training Accuracy: 0.9532, Testing Accuracy: 0.9597\n",
      "\n"
     ]
    },
    {
     "name": "stdout",
     "output_type": "stream",
     "text": [
      "Epoch 120, Loss 0.0441\n",
      "Training Accuracy: 0.9543, Testing Accuracy: 0.9612\n",
      "\n"
     ]
    },
    {
     "name": "stdout",
     "output_type": "stream",
     "text": [
      "Epoch 130, Loss 0.0431\n",
      "Training Accuracy: 0.9554, Testing Accuracy: 0.9617\n",
      "\n"
     ]
    },
    {
     "name": "stdout",
     "output_type": "stream",
     "text": [
      "Epoch 140, Loss 0.0423\n",
      "Training Accuracy: 0.9560, Testing Accuracy: 0.9622\n",
      "\n"
     ]
    },
    {
     "name": "stdout",
     "output_type": "stream",
     "text": [
      "Epoch 150, Loss 0.0415\n",
      "Training Accuracy: 0.9571, Testing Accuracy: 0.9632\n",
      "\n"
     ]
    },
    {
     "name": "stdout",
     "output_type": "stream",
     "text": [
      "Epoch 160, Loss 0.0408\n",
      "Training Accuracy: 0.9575, Testing Accuracy: 0.9642\n",
      "\n"
     ]
    },
    {
     "name": "stdout",
     "output_type": "stream",
     "text": [
      "Epoch 170, Loss 0.0402\n",
      "Training Accuracy: 0.9579, Testing Accuracy: 0.9637\n",
      "\n"
     ]
    },
    {
     "name": "stdout",
     "output_type": "stream",
     "text": [
      "Epoch 180, Loss 0.0396\n",
      "Training Accuracy: 0.9583, Testing Accuracy: 0.9637\n",
      "\n"
     ]
    },
    {
     "name": "stdout",
     "output_type": "stream",
     "text": [
      "Epoch 190, Loss 0.0391\n",
      "Training Accuracy: 0.9587, Testing Accuracy: 0.9642\n",
      "\n"
     ]
    },
    {
     "name": "stdout",
     "output_type": "stream",
     "text": [
      "Epoch 200, Loss 0.0386\n",
      "Training Accuracy: 0.9593, Testing Accuracy: 0.9647\n",
      "\n"
     ]
    },
    {
     "name": "stdout",
     "output_type": "stream",
     "text": [
      "Epoch 210, Loss 0.0381\n",
      "Training Accuracy: 0.9598, Testing Accuracy: 0.9647\n",
      "\n"
     ]
    },
    {
     "name": "stdout",
     "output_type": "stream",
     "text": [
      "Epoch 220, Loss 0.0377\n",
      "Training Accuracy: 0.9599, Testing Accuracy: 0.9657\n",
      "\n"
     ]
    },
    {
     "name": "stdout",
     "output_type": "stream",
     "text": [
      "Epoch 230, Loss 0.0373\n",
      "Training Accuracy: 0.9603, Testing Accuracy: 0.9657\n",
      "\n"
     ]
    },
    {
     "name": "stdout",
     "output_type": "stream",
     "text": [
      "Epoch 240, Loss 0.0369\n",
      "Training Accuracy: 0.9604, Testing Accuracy: 0.9657\n",
      "\n"
     ]
    },
    {
     "data": {
      "text/plain": [
       "0.026153648431249534"
      ]
     },
     "execution_count": 23,
     "metadata": {},
     "output_type": "execute_result"
    }
   ],
   "source": [
    "lr_learner.train_loop(dl)"
   ]
  },
  {
   "cell_type": "code",
   "execution_count": 24,
   "id": "ca410940",
   "metadata": {
    "execution": {
     "iopub.execute_input": "2022-02-04T00:25:56.041062Z",
     "iopub.status.busy": "2022-02-04T00:25:56.040419Z",
     "iopub.status.idle": "2022-02-04T00:25:56.292982Z",
     "shell.execute_reply": "2022-02-04T00:25:56.292470Z"
    },
    "papermill": {
     "duration": 0.31339,
     "end_time": "2022-02-04T00:25:56.293122",
     "exception": false,
     "start_time": "2022-02-04T00:25:55.979732",
     "status": "completed"
    },
    "tags": []
   },
   "outputs": [
    {
     "data": {
      "text/plain": [
       "<matplotlib.legend.Legend at 0x7f67be8f3438>"
      ]
     },
     "execution_count": 24,
     "metadata": {},
     "output_type": "execute_result"
    },
    {
     "data": {
      "image/png": "[encoded data removed]",
      "text/plain": [
       "<Figure size 1080x720 with 1 Axes>"
      ]
     },
     "metadata": {
      "needs_background": "light"
     },
     "output_type": "display_data"
    }
   ],
   "source": [
    "#comparing the results of NN and LR\n",
    "plt.figure(figsize=(15,10))\n",
    "\n",
    "# Neural Network plots\n",
    "plt.plot(acc_nn.accuracies, 'r-', label = \"Training Accuracies - NN\")\n",
    "plt.plot(acc_nn.test_accuracies, 'g-', label = \"Testing Accuracies - NN\")\n",
    "\n",
    "# Logistic Regression plots\n",
    "plt.plot(acc_lr.accuracies, 'k-', label = \"Training Accuracies - LR\")\n",
    "plt.plot(acc_lr.test_accuracies, 'b-', label = \"Testing Accuracies - LR\")\n",
    "plt.legend()"
   ]
  },
  {
   "cell_type": "markdown",
   "id": "80dfb35c",
   "metadata": {
    "papermill": {
     "duration": 0.047554,
     "end_time": "2022-02-04T00:25:56.388396",
     "exception": false,
     "start_time": "2022-02-04T00:25:56.340842",
     "status": "completed"
    },
    "tags": []
   },
   "source": [
    "#### Plotting the outputs of this layer of the NN.\n"
   ]
  },
  {
   "cell_type": "code",
   "execution_count": 25,
   "id": "45eb2ff5",
   "metadata": {
    "execution": {
     "iopub.execute_input": "2022-02-04T00:25:56.490028Z",
     "iopub.status.busy": "2022-02-04T00:25:56.488213Z",
     "iopub.status.idle": "2022-02-04T00:25:56.511898Z",
     "shell.execute_reply": "2022-02-04T00:25:56.512446Z"
    },
    "papermill": {
     "duration": 0.076964,
     "end_time": "2022-02-04T00:25:56.512615",
     "exception": false,
     "start_time": "2022-02-04T00:25:56.435651",
     "status": "completed"
    },
    "tags": []
   },
   "outputs": [],
   "source": [
    "new_model = Model(layers[:-2])\n",
    "testing_plot = new_model(testing_data_x)"
   ]
  },
  {
   "cell_type": "code",
   "execution_count": 26,
   "id": "4c0a5485",
   "metadata": {
    "execution": {
     "iopub.execute_input": "2022-02-04T00:25:56.620654Z",
     "iopub.status.busy": "2022-02-04T00:25:56.620011Z",
     "iopub.status.idle": "2022-02-04T00:25:56.855284Z",
     "shell.execute_reply": "2022-02-04T00:25:56.854321Z"
    },
    "papermill": {
     "duration": 0.290026,
     "end_time": "2022-02-04T00:25:56.855460",
     "exception": false,
     "start_time": "2022-02-04T00:25:56.565434",
     "status": "completed"
    },
    "tags": []
   },
   "outputs": [
    {
     "data": {
      "text/plain": [
       "Text(0.5, 1.0, 'Outputs')"
      ]
     },
     "execution_count": 26,
     "metadata": {},
     "output_type": "execute_result"
    },
    {
     "data": {
      "image/png": "[encoded data removed]",
      "text/plain": [
       "<Figure size 576x504 with 1 Axes>"
      ]
     },
     "metadata": {
      "needs_background": "light"
     },
     "output_type": "display_data"
    }
   ],
   "source": [
    "# Plotting the scatter plot of points and color coding by class\n",
    "plt.figure(figsize=(8,7))\n",
    "plt.scatter(testing_plot[:,0], testing_plot[:,1], alpha = 0.1, c = y_test.ravel());\n",
    "plt.title('Outputs')"
   ]
  },
  {
   "cell_type": "markdown",
   "id": "a74fcf8f",
   "metadata": {
    "papermill": {
     "duration": 0.052233,
     "end_time": "2022-02-04T00:25:56.961145",
     "exception": false,
     "start_time": "2022-02-04T00:25:56.908912",
     "status": "completed"
    },
    "tags": []
   },
   "source": [
    "Probability contours"
   ]
  },
  {
   "cell_type": "code",
   "execution_count": 27,
   "id": "d0afc8e3",
   "metadata": {
    "execution": {
     "iopub.execute_input": "2022-02-04T00:25:57.079209Z",
     "iopub.status.busy": "2022-02-04T00:25:57.077953Z",
     "iopub.status.idle": "2022-02-04T00:25:57.091436Z",
     "shell.execute_reply": "2022-02-04T00:25:57.090770Z"
    },
    "papermill": {
     "duration": 0.071239,
     "end_time": "2022-02-04T00:25:57.091576",
     "exception": false,
     "start_time": "2022-02-04T00:25:57.020337",
     "status": "completed"
    },
    "tags": []
   },
   "outputs": [],
   "source": [
    "model_prob = Model(layers[-2:]) "
   ]
  },
  {
   "cell_type": "code",
   "execution_count": 28,
   "id": "9b96e238",
   "metadata": {
    "execution": {
     "iopub.execute_input": "2022-02-04T00:25:57.199961Z",
     "iopub.status.busy": "2022-02-04T00:25:57.199288Z",
     "iopub.status.idle": "2022-02-04T00:25:57.216241Z",
     "shell.execute_reply": "2022-02-04T00:25:57.216800Z"
    },
    "papermill": {
     "duration": 0.074424,
     "end_time": "2022-02-04T00:25:57.216978",
     "exception": false,
     "start_time": "2022-02-04T00:25:57.142554",
     "status": "completed"
    },
    "tags": []
   },
   "outputs": [],
   "source": [
    "#creating the x and y ranges according to the above generated plot.\n",
    "x_range = np.linspace(-4, 1, 100) \n",
    "y_range = np.linspace(-6, 6, 100) \n",
    "x_grid, y_grid = np.meshgrid(x_range, y_range) # x_grid and y_grig are of size 100 X 100\n",
    "\n",
    "# converting x_grid and y_grid to continuous arrays\n",
    "x_gridflat = np.ravel(x_grid)\n",
    "y_gridflat = np.ravel(y_grid)\n",
    "\n",
    "# The last layer of the current model takes two columns as input. Hence transpose of np.vstack() is required.\n",
    "X = np.vstack((x_gridflat, y_gridflat)).T\n",
    "\n",
    "prob_contour = model_prob(X).reshape(100,100) "
   ]
  },
  {
   "cell_type": "code",
   "execution_count": 29,
   "id": "da72499a",
   "metadata": {
    "execution": {
     "iopub.execute_input": "2022-02-04T00:25:57.382117Z",
     "iopub.status.busy": "2022-02-04T00:25:57.381476Z",
     "iopub.status.idle": "2022-02-04T00:25:57.694417Z",
     "shell.execute_reply": "2022-02-04T00:25:57.694898Z"
    },
    "papermill": {
     "duration": 0.426312,
     "end_time": "2022-02-04T00:25:57.695049",
     "exception": false,
     "start_time": "2022-02-04T00:25:57.268737",
     "status": "completed"
    },
    "tags": []
   },
   "outputs": [
    {
     "data": {
      "image/png": "[encoded data removed]",
      "text/plain": [
       "<Figure size 720x648 with 1 Axes>"
      ]
     },
     "metadata": {
      "needs_background": "light"
     },
     "output_type": "display_data"
    }
   ],
   "source": [
    "plt.figure(figsize=(10,9))\n",
    "plt.scatter(testing_plot[:,0], testing_plot[:,1], alpha = 0.1, c = y_test.ravel())\n",
    "contours = plt.contour(x_grid,y_grid,prob_contour)\n",
    "plt.title('Probability Contours')\n",
    "plt.clabel(contours, inline = True );"
   ]
  },
  {
   "cell_type": "code",
   "execution_count": null,
   "id": "e81b4ac7",
   "metadata": {
    "papermill": {
     "duration": 0.058477,
     "end_time": "2022-02-04T00:25:57.808765",
     "exception": false,
     "start_time": "2022-02-04T00:25:57.750288",
     "status": "completed"
    },
    "tags": []
   },
   "outputs": [],
   "source": []
  }
 ],
 "metadata": {
  "kernelspec": {
   "display_name": "Python 3",
   "language": "python",
   "name": "python3"
  },
  "language_info": {
   "codemirror_mode": {
    "name": "ipython",
    "version": 3
   },
   "file_extension": ".py",
   "mimetype": "text/x-python",
   "name": "python",
   "nbconvert_exporter": "python",
   "pygments_lexer": "ipython3",
   "version": "3.6.15"
  },
  "papermill": {
   "default_parameters": {},
   "duration": 122.018992,
   "end_time": "2022-02-04T00:25:58.283669",
   "environment_variables": {},
   "exception": null,
   "input_path": "2020-08-11-part2.ipynb",
   "output_path": "2020-08-11-part2.ipynb",
   "parameters": {},
   "start_time": "2022-02-04T00:23:56.264677",
   "version": "2.3.3"
  }
 },
 "nbformat": 4,
 "nbformat_minor": 5
}