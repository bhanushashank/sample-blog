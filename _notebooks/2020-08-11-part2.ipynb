{
 "cells": [
  {
   "cell_type": "markdown",
   "id": "98380cd3",
   "metadata": {
    "papermill": {
     "duration": 0.027473,
     "end_time": "2022-03-27T20:10:20.468116",
     "exception": false,
     "start_time": "2022-03-27T20:10:20.440643",
     "status": "completed"
    },
    "tags": []
   },
   "source": [
    "# Distinguish Your Own Digits (DYOD)"
   ]
  },
  {
   "cell_type": "markdown",
   "id": "ef31240d",
   "metadata": {
    "papermill": {
     "duration": 0.024884,
     "end_time": "2022-03-27T20:10:20.517249",
     "exception": false,
     "start_time": "2022-03-27T20:10:20.492365",
     "status": "completed"
    },
    "tags": []
   },
   "source": [
    "You are going to write a classifier that distinguishes between the number 3 and number 8."
   ]
  },
  {
   "cell_type": "code",
   "execution_count": 1,
   "id": "b15c8646",
   "metadata": {
    "execution": {
     "iopub.execute_input": "2022-03-27T20:10:20.574850Z",
     "iopub.status.busy": "2022-03-27T20:10:20.574323Z",
     "iopub.status.idle": "2022-03-27T20:10:20.585323Z",
     "shell.execute_reply": "2022-03-27T20:10:20.584902Z"
    },
    "papermill": {
     "duration": 0.044834,
     "end_time": "2022-03-27T20:10:20.585444",
     "exception": false,
     "start_time": "2022-03-27T20:10:20.540610",
     "status": "completed"
    },
    "tags": []
   },
   "outputs": [],
   "source": [
    "%load_ext autoreload\n",
    "%autoreload 2"
   ]
  },
  {
   "cell_type": "code",
   "execution_count": 2,
   "id": "22ef38dc",
   "metadata": {
    "execution": {
     "iopub.execute_input": "2022-03-27T20:10:20.638216Z",
     "iopub.status.busy": "2022-03-27T20:10:20.637702Z",
     "iopub.status.idle": "2022-03-27T20:10:21.216356Z",
     "shell.execute_reply": "2022-03-27T20:10:21.215865Z"
    },
    "papermill": {
     "duration": 0.607633,
     "end_time": "2022-03-27T20:10:21.216490",
     "exception": false,
     "start_time": "2022-03-27T20:10:20.608857",
     "status": "completed"
    },
    "tags": []
   },
   "outputs": [],
   "source": [
    "%matplotlib inline\n",
    "import numpy as np\n",
    "import matplotlib.pyplot as plt\n",
    "import pandas as pd"
   ]
  },
  {
   "cell_type": "markdown",
   "id": "ba036198",
   "metadata": {
    "papermill": {
     "duration": 0.023567,
     "end_time": "2022-03-27T20:10:21.263779",
     "exception": false,
     "start_time": "2022-03-27T20:10:21.240212",
     "status": "completed"
    },
    "tags": []
   },
   "source": [
    "From the command line run `pip install mnist`. This is a library that will help you bring down the mnist dataset. If you run this from a notebook, you need to put  `!pip install mnist` in a cell by itself."
   ]
  },
  {
   "cell_type": "code",
   "execution_count": 3,
   "id": "bb6ad8a1",
   "metadata": {
    "execution": {
     "iopub.execute_input": "2022-03-27T20:10:21.332975Z",
     "iopub.status.busy": "2022-03-27T20:10:21.326445Z",
     "iopub.status.idle": "2022-03-27T20:10:23.068666Z",
     "shell.execute_reply": "2022-03-27T20:10:23.068164Z"
    },
    "papermill": {
     "duration": 1.781438,
     "end_time": "2022-03-27T20:10:23.068802",
     "exception": false,
     "start_time": "2022-03-27T20:10:21.287364",
     "status": "completed"
    },
    "tags": []
   },
   "outputs": [
    {
     "name": "stdout",
     "output_type": "stream",
     "text": [
      "Collecting mnist\r\n"
     ]
    },
    {
     "name": "stdout",
     "output_type": "stream",
     "text": [
      "  Downloading mnist-0.2.2-py2.py3-none-any.whl (3.5 kB)\r\n",
      "Requirement already satisfied: numpy in /opt/hostedtoolcache/Python/3.6.15/x64/lib/python3.6/site-packages (from mnist) (1.19.5)\r\n"
     ]
    },
    {
     "name": "stdout",
     "output_type": "stream",
     "text": [
      "Installing collected packages: mnist\r\n"
     ]
    },
    {
     "name": "stdout",
     "output_type": "stream",
     "text": [
      "Successfully installed mnist-0.2.2\r\n"
     ]
    }
   ],
   "source": [
    "!pip install mnist"
   ]
  },
  {
   "cell_type": "markdown",
   "id": "69df9c9a",
   "metadata": {
    "papermill": {
     "duration": 0.024731,
     "end_time": "2022-03-27T20:10:23.118533",
     "exception": false,
     "start_time": "2022-03-27T20:10:23.093802",
     "status": "completed"
    },
    "tags": []
   },
   "source": [
    "## Preparing the Data"
   ]
  },
  {
   "cell_type": "code",
   "execution_count": 4,
   "id": "7f69d806",
   "metadata": {
    "execution": {
     "iopub.execute_input": "2022-03-27T20:10:23.171517Z",
     "iopub.status.busy": "2022-03-27T20:10:23.170988Z",
     "iopub.status.idle": "2022-03-27T20:10:23.185968Z",
     "shell.execute_reply": "2022-03-27T20:10:23.186373Z"
    },
    "papermill": {
     "duration": 0.043441,
     "end_time": "2022-03-27T20:10:23.186501",
     "exception": false,
     "start_time": "2022-03-27T20:10:23.143060",
     "status": "completed"
    },
    "tags": []
   },
   "outputs": [],
   "source": [
    "import mnist"
   ]
  },
  {
   "cell_type": "code",
   "execution_count": 5,
   "id": "a411e44f",
   "metadata": {
    "execution": {
     "iopub.execute_input": "2022-03-27T20:10:23.257287Z",
     "iopub.status.busy": "2022-03-27T20:10:23.250396Z",
     "iopub.status.idle": "2022-03-27T20:10:23.946956Z",
     "shell.execute_reply": "2022-03-27T20:10:23.946386Z"
    },
    "papermill": {
     "duration": 0.735518,
     "end_time": "2022-03-27T20:10:23.947096",
     "exception": false,
     "start_time": "2022-03-27T20:10:23.211578",
     "status": "completed"
    },
    "tags": []
   },
   "outputs": [],
   "source": [
    "train_images = mnist.train_images()\n",
    "train_labels = mnist.train_labels()"
   ]
  },
  {
   "cell_type": "code",
   "execution_count": 6,
   "id": "dceab3a5",
   "metadata": {
    "execution": {
     "iopub.execute_input": "2022-03-27T20:10:24.001502Z",
     "iopub.status.busy": "2022-03-27T20:10:24.000585Z",
     "iopub.status.idle": "2022-03-27T20:10:24.015023Z",
     "shell.execute_reply": "2022-03-27T20:10:24.014617Z"
    },
    "papermill": {
     "duration": 0.042769,
     "end_time": "2022-03-27T20:10:24.015129",
     "exception": false,
     "start_time": "2022-03-27T20:10:23.972360",
     "status": "completed"
    },
    "tags": []
   },
   "outputs": [
    {
     "data": {
      "text/plain": [
       "((60000, 28, 28), (60000,))"
      ]
     },
     "execution_count": 6,
     "metadata": {},
     "output_type": "execute_result"
    }
   ],
   "source": [
    "train_images.shape, train_labels.shape"
   ]
  },
  {
   "cell_type": "code",
   "execution_count": 7,
   "id": "f50dc2bb",
   "metadata": {
    "execution": {
     "iopub.execute_input": "2022-03-27T20:10:24.068594Z",
     "iopub.status.busy": "2022-03-27T20:10:24.068105Z",
     "iopub.status.idle": "2022-03-27T20:10:24.390469Z",
     "shell.execute_reply": "2022-03-27T20:10:24.389880Z"
    },
    "papermill": {
     "duration": 0.350824,
     "end_time": "2022-03-27T20:10:24.390606",
     "exception": false,
     "start_time": "2022-03-27T20:10:24.039782",
     "status": "completed"
    },
    "tags": []
   },
   "outputs": [],
   "source": [
    "test_images = mnist.test_images()\n",
    "test_labels = mnist.test_labels()"
   ]
  },
  {
   "cell_type": "code",
   "execution_count": 8,
   "id": "fc38cf1b",
   "metadata": {
    "execution": {
     "iopub.execute_input": "2022-03-27T20:10:24.452173Z",
     "iopub.status.busy": "2022-03-27T20:10:24.451662Z",
     "iopub.status.idle": "2022-03-27T20:10:24.460211Z",
     "shell.execute_reply": "2022-03-27T20:10:24.459805Z"
    },
    "papermill": {
     "duration": 0.04377,
     "end_time": "2022-03-27T20:10:24.460321",
     "exception": false,
     "start_time": "2022-03-27T20:10:24.416551",
     "status": "completed"
    },
    "tags": []
   },
   "outputs": [
    {
     "data": {
      "text/plain": [
       "((10000, 28, 28), (10000,))"
      ]
     },
     "execution_count": 8,
     "metadata": {},
     "output_type": "execute_result"
    }
   ],
   "source": [
    "test_images.shape, test_labels.shape"
   ]
  },
  {
   "cell_type": "code",
   "execution_count": 9,
   "id": "f9ed8fe0",
   "metadata": {
    "execution": {
     "iopub.execute_input": "2022-03-27T20:10:24.513883Z",
     "iopub.status.busy": "2022-03-27T20:10:24.513352Z",
     "iopub.status.idle": "2022-03-27T20:10:24.648891Z",
     "shell.execute_reply": "2022-03-27T20:10:24.649295Z"
    },
    "papermill": {
     "duration": 0.163955,
     "end_time": "2022-03-27T20:10:24.649429",
     "exception": false,
     "start_time": "2022-03-27T20:10:24.485474",
     "status": "completed"
    },
    "tags": []
   },
   "outputs": [
    {
     "name": "stdout",
     "output_type": "stream",
     "text": [
      "2\n"
     ]
    },
    {
     "data": {
      "text/plain": [
       "<matplotlib.image.AxesImage at 0x7f25b44b15c0>"
      ]
     },
     "execution_count": 9,
     "metadata": {},
     "output_type": "execute_result"
    },
    {
     "data": {
      "image/png": "[encoded data removed]",
      "text/plain": [
       "<Figure size 432x288 with 1 Axes>"
      ]
     },
     "metadata": {
      "needs_background": "light"
     },
     "output_type": "display_data"
    }
   ],
   "source": [
    "image_index = 7776 # You may select anything up to 60,000\n",
    "print(train_labels[image_index]) \n",
    "plt.imshow(train_images[image_index], cmap='Greys')"
   ]
  },
  {
   "cell_type": "markdown",
   "id": "a8d2388d",
   "metadata": {
    "papermill": {
     "duration": 0.026083,
     "end_time": "2022-03-27T20:10:24.701898",
     "exception": false,
     "start_time": "2022-03-27T20:10:24.675815",
     "status": "completed"
    },
    "tags": []
   },
   "source": [
    "## Filter data to get 3 and 8 out"
   ]
  },
  {
   "cell_type": "code",
   "execution_count": 10,
   "id": "776f7fc7",
   "metadata": {
    "execution": {
     "iopub.execute_input": "2022-03-27T20:10:24.762800Z",
     "iopub.status.busy": "2022-03-27T20:10:24.762289Z",
     "iopub.status.idle": "2022-03-27T20:10:24.777497Z",
     "shell.execute_reply": "2022-03-27T20:10:24.777954Z"
    },
    "papermill": {
     "duration": 0.050034,
     "end_time": "2022-03-27T20:10:24.778074",
     "exception": false,
     "start_time": "2022-03-27T20:10:24.728040",
     "status": "completed"
    },
    "tags": []
   },
   "outputs": [],
   "source": [
    "train_filter = np.where((train_labels == 3 ) | (train_labels == 8))\n",
    "test_filter = np.where((test_labels == 3) | (test_labels == 8))\n",
    "X_train, y_train = train_images[train_filter], train_labels[train_filter]\n",
    "X_test, y_test = test_images[test_filter], test_labels[test_filter]"
   ]
  },
  {
   "cell_type": "markdown",
   "id": "948f0b7e",
   "metadata": {
    "papermill": {
     "duration": 0.026048,
     "end_time": "2022-03-27T20:10:24.830613",
     "exception": false,
     "start_time": "2022-03-27T20:10:24.804565",
     "status": "completed"
    },
    "tags": []
   },
   "source": [
    "We normalize the pizel values in the 0 to 1 range"
   ]
  },
  {
   "cell_type": "code",
   "execution_count": 11,
   "id": "ee4c2166",
   "metadata": {
    "execution": {
     "iopub.execute_input": "2022-03-27T20:10:24.886191Z",
     "iopub.status.busy": "2022-03-27T20:10:24.885676Z",
     "iopub.status.idle": "2022-03-27T20:10:24.934381Z",
     "shell.execute_reply": "2022-03-27T20:10:24.933856Z"
    },
    "papermill": {
     "duration": 0.077725,
     "end_time": "2022-03-27T20:10:24.934524",
     "exception": false,
     "start_time": "2022-03-27T20:10:24.856799",
     "status": "completed"
    },
    "tags": []
   },
   "outputs": [],
   "source": [
    "X_train = X_train/255.\n",
    "X_test = X_test/255."
   ]
  },
  {
   "cell_type": "markdown",
   "id": "ddcf4fab",
   "metadata": {
    "papermill": {
     "duration": 0.026124,
     "end_time": "2022-03-27T20:10:24.988240",
     "exception": false,
     "start_time": "2022-03-27T20:10:24.962116",
     "status": "completed"
    },
    "tags": []
   },
   "source": [
    "And setup the labels as 1 (when the digit is 3) and 0 (when the digit is 8)"
   ]
  },
  {
   "cell_type": "code",
   "execution_count": 12,
   "id": "7dc908f2",
   "metadata": {
    "execution": {
     "iopub.execute_input": "2022-03-27T20:10:25.044119Z",
     "iopub.status.busy": "2022-03-27T20:10:25.043605Z",
     "iopub.status.idle": "2022-03-27T20:10:25.056015Z",
     "shell.execute_reply": "2022-03-27T20:10:25.056444Z"
    },
    "papermill": {
     "duration": 0.042342,
     "end_time": "2022-03-27T20:10:25.056565",
     "exception": false,
     "start_time": "2022-03-27T20:10:25.014223",
     "status": "completed"
    },
    "tags": []
   },
   "outputs": [],
   "source": [
    "y_train = 1*(y_train==3)\n",
    "y_test = 1*(y_test==3)"
   ]
  },
  {
   "cell_type": "code",
   "execution_count": 13,
   "id": "01e4e969",
   "metadata": {
    "execution": {
     "iopub.execute_input": "2022-03-27T20:10:25.114752Z",
     "iopub.status.busy": "2022-03-27T20:10:25.114250Z",
     "iopub.status.idle": "2022-03-27T20:10:25.125325Z",
     "shell.execute_reply": "2022-03-27T20:10:25.124922Z"
    },
    "papermill": {
     "duration": 0.042729,
     "end_time": "2022-03-27T20:10:25.125429",
     "exception": false,
     "start_time": "2022-03-27T20:10:25.082700",
     "status": "completed"
    },
    "tags": []
   },
   "outputs": [
    {
     "data": {
      "text/plain": [
       "((11982, 28, 28), (1984, 28, 28))"
      ]
     },
     "execution_count": 13,
     "metadata": {},
     "output_type": "execute_result"
    }
   ],
   "source": [
    "X_train.shape, X_test.shape"
   ]
  },
  {
   "cell_type": "markdown",
   "id": "5ccf3f85",
   "metadata": {
    "papermill": {
     "duration": 0.026224,
     "end_time": "2022-03-27T20:10:25.178039",
     "exception": false,
     "start_time": "2022-03-27T20:10:25.151815",
     "status": "completed"
    },
    "tags": []
   },
   "source": [
    "We reshape the data to flatten the image pixels into a set of features or co-variates:"
   ]
  },
  {
   "cell_type": "code",
   "execution_count": 14,
   "id": "5286a4a3",
   "metadata": {
    "execution": {
     "iopub.execute_input": "2022-03-27T20:10:25.234557Z",
     "iopub.status.busy": "2022-03-27T20:10:25.234041Z",
     "iopub.status.idle": "2022-03-27T20:10:25.248038Z",
     "shell.execute_reply": "2022-03-27T20:10:25.247636Z"
    },
    "papermill": {
     "duration": 0.043746,
     "end_time": "2022-03-27T20:10:25.248141",
     "exception": false,
     "start_time": "2022-03-27T20:10:25.204395",
     "status": "completed"
    },
    "tags": []
   },
   "outputs": [
    {
     "data": {
      "text/plain": [
       "((11982, 784), (1984, 784))"
      ]
     },
     "execution_count": 14,
     "metadata": {},
     "output_type": "execute_result"
    }
   ],
   "source": [
    "X_train = X_train.reshape(X_train.shape[0], -1)\n",
    "X_test = X_test.reshape(X_test.shape[0], -1)\n",
    "X_train.shape, X_test.shape"
   ]
  },
  {
   "cell_type": "code",
   "execution_count": 15,
   "id": "73c5f88a",
   "metadata": {
    "execution": {
     "iopub.execute_input": "2022-03-27T20:10:25.304969Z",
     "iopub.status.busy": "2022-03-27T20:10:25.304461Z",
     "iopub.status.idle": "2022-03-27T20:10:25.323119Z",
     "shell.execute_reply": "2022-03-27T20:10:25.323523Z"
    },
    "papermill": {
     "duration": 0.048791,
     "end_time": "2022-03-27T20:10:25.323631",
     "exception": false,
     "start_time": "2022-03-27T20:10:25.274840",
     "status": "completed"
    },
    "tags": []
   },
   "outputs": [],
   "source": [
    "#Impoting functions from 'Kudzu'\n",
    "from kudzu.model import Model\n",
    "from kudzu.train import Learner\n",
    "from kudzu.optim import GD\n",
    "from kudzu.data import Data, Sampler,Dataloader\n",
    "\n",
    "from kudzu.callbacks import AccCallback\n",
    "from kudzu.callbacks import ClfCallback\n",
    "\n",
    "from kudzu.loss import MSE\n",
    "\n",
    "from kudzu.layer import Sigmoid,Relu\n",
    "from kudzu.layer import Affine"
   ]
  },
  {
   "cell_type": "markdown",
   "id": "bc01172a",
   "metadata": {
    "papermill": {
     "duration": 0.026573,
     "end_time": "2022-03-27T20:10:25.376961",
     "exception": false,
     "start_time": "2022-03-27T20:10:25.350388",
     "status": "completed"
    },
    "tags": []
   },
   "source": [
    "### Let us create a `Config` class, to store important parameters. \n",
    "This class essentially plays the role of a dictionary."
   ]
  },
  {
   "cell_type": "code",
   "execution_count": 16,
   "id": "978281aa",
   "metadata": {
    "execution": {
     "iopub.execute_input": "2022-03-27T20:10:25.433584Z",
     "iopub.status.busy": "2022-03-27T20:10:25.433081Z",
     "iopub.status.idle": "2022-03-27T20:10:25.445118Z",
     "shell.execute_reply": "2022-03-27T20:10:25.445543Z"
    },
    "papermill": {
     "duration": 0.042166,
     "end_time": "2022-03-27T20:10:25.445688",
     "exception": false,
     "start_time": "2022-03-27T20:10:25.403522",
     "status": "completed"
    },
    "tags": []
   },
   "outputs": [],
   "source": [
    "class Config:\n",
    "    pass\n",
    "config = Config()\n",
    "config.lr = 0.001\n",
    "config.num_epochs = 250\n",
    "config.bs = 50"
   ]
  },
  {
   "cell_type": "markdown",
   "id": "1385fa59",
   "metadata": {
    "papermill": {
     "duration": 0.026583,
     "end_time": "2022-03-27T20:10:25.498914",
     "exception": false,
     "start_time": "2022-03-27T20:10:25.472331",
     "status": "completed"
    },
    "tags": []
   },
   "source": [
    "### Running Models with the Training data\n",
    "Details about the network layers:\n",
    "- A first affine layer has 784 inputs and does 100 affine transforms. These are followed by a Relu\n",
    "- A second affine layer has 100 inputs from the 100 activations of the past layer, and does 100 affine transforms. These are followed by a Relu\n",
    "- A third affine layer has 100 activations and does 2 affine transformations to create an embedding for visualization. There is no non-linearity here.\n",
    "- A final \"logistic regression\" which has an affine transform from 2 inputs to 1 output, which is squeezed through a sigmoid.\n"
   ]
  },
  {
   "cell_type": "code",
   "execution_count": 17,
   "id": "2b9c66db",
   "metadata": {
    "execution": {
     "iopub.execute_input": "2022-03-27T20:10:25.559395Z",
     "iopub.status.busy": "2022-03-27T20:10:25.558888Z",
     "iopub.status.idle": "2022-03-27T20:10:25.569649Z",
     "shell.execute_reply": "2022-03-27T20:10:25.569200Z"
    },
    "papermill": {
     "duration": 0.044076,
     "end_time": "2022-03-27T20:10:25.569754",
     "exception": false,
     "start_time": "2022-03-27T20:10:25.525678",
     "status": "completed"
    },
    "tags": []
   },
   "outputs": [],
   "source": [
    "data = Data(X_train, y_train.reshape(-1,1))\n",
    "sampler = Sampler(data, config.bs, shuffle=True)\n",
    "\n",
    "dl = Dataloader(data, sampler)\n",
    "\n",
    "opt = GD(config.lr)\n",
    "loss = MSE()"
   ]
  },
  {
   "cell_type": "code",
   "execution_count": 18,
   "id": "b275e4c2",
   "metadata": {
    "execution": {
     "iopub.execute_input": "2022-03-27T20:10:25.630747Z",
     "iopub.status.busy": "2022-03-27T20:10:25.630237Z",
     "iopub.status.idle": "2022-03-27T20:10:25.639294Z",
     "shell.execute_reply": "2022-03-27T20:10:25.638892Z"
    },
    "papermill": {
     "duration": 0.042999,
     "end_time": "2022-03-27T20:10:25.639395",
     "exception": false,
     "start_time": "2022-03-27T20:10:25.596396",
     "status": "completed"
    },
    "tags": []
   },
   "outputs": [],
   "source": [
    "training_data_x = X_train\n",
    "testing_data_x = X_test\n",
    "training_data_y = y_train.reshape(-1,1)\n",
    "testing_data_y = y_test.reshape(-1,1)"
   ]
  },
  {
   "cell_type": "code",
   "execution_count": 19,
   "id": "76951160",
   "metadata": {
    "execution": {
     "iopub.execute_input": "2022-03-27T20:10:25.698752Z",
     "iopub.status.busy": "2022-03-27T20:10:25.698253Z",
     "iopub.status.idle": "2022-03-27T20:10:25.712267Z",
     "shell.execute_reply": "2022-03-27T20:10:25.711847Z"
    },
    "papermill": {
     "duration": 0.046477,
     "end_time": "2022-03-27T20:10:25.712364",
     "exception": false,
     "start_time": "2022-03-27T20:10:25.665887",
     "status": "completed"
    },
    "tags": []
   },
   "outputs": [
    {
     "name": "stdout",
     "output_type": "stream",
     "text": [
      "xavier\n",
      "xavier\n",
      "xavier\n",
      "xavier\n",
      "xavier\n"
     ]
    }
   ],
   "source": [
    "layers = [Affine(\"first\", 784, 100), Relu(\"first\"), Affine(\"second\", 100, 100), Relu(\"second\"), Affine(\"third\", 100, 2), Affine(\"last\", 2, 1), Sigmoid(\"last\")]\n",
    "model_nn = Model(layers)\n",
    "model_lr = Model([Affine(\"logits\", 784, 1), Sigmoid(\"sigmoid\")])"
   ]
  },
  {
   "cell_type": "code",
   "execution_count": 20,
   "id": "6eede77a",
   "metadata": {
    "execution": {
     "iopub.execute_input": "2022-03-27T20:10:25.769405Z",
     "iopub.status.busy": "2022-03-27T20:10:25.768905Z",
     "iopub.status.idle": "2022-03-27T20:10:25.781017Z",
     "shell.execute_reply": "2022-03-27T20:10:25.780599Z"
    },
    "papermill": {
     "duration": 0.041814,
     "end_time": "2022-03-27T20:10:25.781111",
     "exception": false,
     "start_time": "2022-03-27T20:10:25.739297",
     "status": "completed"
    },
    "tags": []
   },
   "outputs": [],
   "source": [
    "nn_learner = Learner(loss, model_nn, opt, config.num_epochs)\n",
    "acc_nn = ClfCallback(nn_learner, config.bs, training_data_x , testing_data_x, training_data_y, testing_data_y)\n",
    "nn_learner.set_callbacks([acc_nn])"
   ]
  },
  {
   "cell_type": "code",
   "execution_count": 21,
   "id": "877b6cc7",
   "metadata": {
    "execution": {
     "iopub.execute_input": "2022-03-27T20:10:25.838830Z",
     "iopub.status.busy": "2022-03-27T20:10:25.838331Z",
     "iopub.status.idle": "2022-03-27T20:10:25.851357Z",
     "shell.execute_reply": "2022-03-27T20:10:25.850955Z"
    },
    "papermill": {
     "duration": 0.043174,
     "end_time": "2022-03-27T20:10:25.851461",
     "exception": false,
     "start_time": "2022-03-27T20:10:25.808287",
     "status": "completed"
    },
    "tags": []
   },
   "outputs": [],
   "source": [
    "lr_learner = Learner(loss, model_lr, opt, config.num_epochs)\n",
    "acc_lr = ClfCallback(lr_learner, config.bs, training_data_x , testing_data_x, training_data_y, testing_data_y)\n",
    "lr_learner.set_callbacks([acc_lr])"
   ]
  },
  {
   "cell_type": "code",
   "execution_count": 22,
   "id": "d9b133c3",
   "metadata": {
    "execution": {
     "iopub.execute_input": "2022-03-27T20:10:25.909924Z",
     "iopub.status.busy": "2022-03-27T20:10:25.909405Z",
     "iopub.status.idle": "2022-03-27T20:11:43.174184Z",
     "shell.execute_reply": "2022-03-27T20:11:43.174934Z"
    },
    "papermill": {
     "duration": 77.296687,
     "end_time": "2022-03-27T20:11:43.175085",
     "exception": false,
     "start_time": "2022-03-27T20:10:25.878398",
     "status": "completed"
    },
    "tags": []
   },
   "outputs": [
    {
     "name": "stdout",
     "output_type": "stream",
     "text": [
      "Epoch 0, Loss 0.2389\n",
      "Training Accuracy: 0.7098, Testing Accuracy: 0.7041\n",
      "\n"
     ]
    },
    {
     "name": "stdout",
     "output_type": "stream",
     "text": [
      "Epoch 10, Loss 0.1155\n",
      "Training Accuracy: 0.9137, Testing Accuracy: 0.9234\n",
      "\n"
     ]
    },
    {
     "name": "stdout",
     "output_type": "stream",
     "text": [
      "Epoch 20, Loss 0.0647\n",
      "Training Accuracy: 0.9349, Testing Accuracy: 0.9486\n",
      "\n"
     ]
    },
    {
     "name": "stdout",
     "output_type": "stream",
     "text": [
      "Epoch 30, Loss 0.049\n",
      "Training Accuracy: 0.9456, Testing Accuracy: 0.9602\n",
      "\n"
     ]
    },
    {
     "name": "stdout",
     "output_type": "stream",
     "text": [
      "Epoch 40, Loss 0.0416\n",
      "Training Accuracy: 0.9537, Testing Accuracy: 0.9657\n",
      "\n"
     ]
    },
    {
     "name": "stdout",
     "output_type": "stream",
     "text": [
      "Epoch 50, Loss 0.0371\n",
      "Training Accuracy: 0.9574, Testing Accuracy: 0.9662\n",
      "\n"
     ]
    },
    {
     "name": "stdout",
     "output_type": "stream",
     "text": [
      "Epoch 60, Loss 0.0341\n",
      "Training Accuracy: 0.9608, Testing Accuracy: 0.9682\n",
      "\n"
     ]
    },
    {
     "name": "stdout",
     "output_type": "stream",
     "text": [
      "Epoch 70, Loss 0.0318\n",
      "Training Accuracy: 0.9631, Testing Accuracy: 0.9698\n",
      "\n"
     ]
    },
    {
     "name": "stdout",
     "output_type": "stream",
     "text": [
      "Epoch 80, Loss 0.0301\n",
      "Training Accuracy: 0.9649, Testing Accuracy: 0.9693\n",
      "\n"
     ]
    },
    {
     "name": "stdout",
     "output_type": "stream",
     "text": [
      "Epoch 90, Loss 0.0287\n",
      "Training Accuracy: 0.9661, Testing Accuracy: 0.9708\n",
      "\n"
     ]
    },
    {
     "name": "stdout",
     "output_type": "stream",
     "text": [
      "Epoch 100, Loss 0.0275\n",
      "Training Accuracy: 0.9675, Testing Accuracy: 0.9718\n",
      "\n"
     ]
    },
    {
     "name": "stdout",
     "output_type": "stream",
     "text": [
      "Epoch 110, Loss 0.0264\n",
      "Training Accuracy: 0.9689, Testing Accuracy: 0.9728\n",
      "\n"
     ]
    },
    {
     "name": "stdout",
     "output_type": "stream",
     "text": [
      "Epoch 120, Loss 0.0255\n",
      "Training Accuracy: 0.9703, Testing Accuracy: 0.9733\n",
      "\n"
     ]
    },
    {
     "name": "stdout",
     "output_type": "stream",
     "text": [
      "Epoch 130, Loss 0.0247\n",
      "Training Accuracy: 0.9715, Testing Accuracy: 0.9738\n",
      "\n"
     ]
    },
    {
     "name": "stdout",
     "output_type": "stream",
     "text": [
      "Epoch 140, Loss 0.0239\n",
      "Training Accuracy: 0.9725, Testing Accuracy: 0.9738\n",
      "\n"
     ]
    },
    {
     "name": "stdout",
     "output_type": "stream",
     "text": [
      "Epoch 150, Loss 0.0232\n",
      "Training Accuracy: 0.9735, Testing Accuracy: 0.9738\n",
      "\n"
     ]
    },
    {
     "name": "stdout",
     "output_type": "stream",
     "text": [
      "Epoch 160, Loss 0.0226\n",
      "Training Accuracy: 0.9742, Testing Accuracy: 0.9728\n",
      "\n"
     ]
    },
    {
     "name": "stdout",
     "output_type": "stream",
     "text": [
      "Epoch 170, Loss 0.022\n",
      "Training Accuracy: 0.9751, Testing Accuracy: 0.9728\n",
      "\n"
     ]
    },
    {
     "name": "stdout",
     "output_type": "stream",
     "text": [
      "Epoch 180, Loss 0.0214\n",
      "Training Accuracy: 0.9757, Testing Accuracy: 0.9723\n",
      "\n"
     ]
    },
    {
     "name": "stdout",
     "output_type": "stream",
     "text": [
      "Epoch 190, Loss 0.0209\n",
      "Training Accuracy: 0.9762, Testing Accuracy: 0.9723\n",
      "\n"
     ]
    },
    {
     "name": "stdout",
     "output_type": "stream",
     "text": [
      "Epoch 200, Loss 0.0204\n",
      "Training Accuracy: 0.9768, Testing Accuracy: 0.9743\n",
      "\n"
     ]
    },
    {
     "name": "stdout",
     "output_type": "stream",
     "text": [
      "Epoch 210, Loss 0.0199\n",
      "Training Accuracy: 0.9777, Testing Accuracy: 0.9748\n",
      "\n"
     ]
    },
    {
     "name": "stdout",
     "output_type": "stream",
     "text": [
      "Epoch 220, Loss 0.0195\n",
      "Training Accuracy: 0.9781, Testing Accuracy: 0.9753\n",
      "\n"
     ]
    },
    {
     "name": "stdout",
     "output_type": "stream",
     "text": [
      "Epoch 230, Loss 0.019\n",
      "Training Accuracy: 0.9786, Testing Accuracy: 0.9758\n",
      "\n"
     ]
    },
    {
     "name": "stdout",
     "output_type": "stream",
     "text": [
      "Epoch 240, Loss 0.0186\n",
      "Training Accuracy: 0.9788, Testing Accuracy: 0.9763\n",
      "\n"
     ]
    },
    {
     "data": {
      "text/plain": [
       "0.02860382957972351"
      ]
     },
     "execution_count": 22,
     "metadata": {},
     "output_type": "execute_result"
    }
   ],
   "source": [
    "nn_learner.train_loop(dl)"
   ]
  },
  {
   "cell_type": "code",
   "execution_count": 23,
   "id": "e0163366",
   "metadata": {
    "execution": {
     "iopub.execute_input": "2022-03-27T20:11:43.256404Z",
     "iopub.status.busy": "2022-03-27T20:11:43.255864Z",
     "iopub.status.idle": "2022-03-27T20:11:57.099974Z",
     "shell.execute_reply": "2022-03-27T20:11:57.100694Z"
    },
    "papermill": {
     "duration": 13.891492,
     "end_time": "2022-03-27T20:11:57.100846",
     "exception": false,
     "start_time": "2022-03-27T20:11:43.209354",
     "status": "completed"
    },
    "tags": []
   },
   "outputs": [
    {
     "name": "stdout",
     "output_type": "stream",
     "text": [
      "Epoch 0, Loss 0.2343\n",
      "Training Accuracy: 0.6721, Testing Accuracy: 0.6915\n",
      "\n"
     ]
    },
    {
     "name": "stdout",
     "output_type": "stream",
     "text": [
      "Epoch 10, Loss 0.1055\n",
      "Training Accuracy: 0.8992, Testing Accuracy: 0.8987\n",
      "\n"
     ]
    },
    {
     "name": "stdout",
     "output_type": "stream",
     "text": [
      "Epoch 20, Loss 0.0809\n",
      "Training Accuracy: 0.9227, Testing Accuracy: 0.9254\n",
      "\n"
     ]
    },
    {
     "name": "stdout",
     "output_type": "stream",
     "text": [
      "Epoch 30, Loss 0.0693\n",
      "Training Accuracy: 0.9334, Testing Accuracy: 0.9415\n",
      "\n"
     ]
    },
    {
     "name": "stdout",
     "output_type": "stream",
     "text": [
      "Epoch 40, Loss 0.0624\n",
      "Training Accuracy: 0.9392, Testing Accuracy: 0.9491\n",
      "\n"
     ]
    },
    {
     "name": "stdout",
     "output_type": "stream",
     "text": [
      "Epoch 50, Loss 0.0577\n",
      "Training Accuracy: 0.9427, Testing Accuracy: 0.9526\n",
      "\n"
     ]
    },
    {
     "name": "stdout",
     "output_type": "stream",
     "text": [
      "Epoch 60, Loss 0.0542\n",
      "Training Accuracy: 0.9465, Testing Accuracy: 0.9541\n",
      "\n"
     ]
    },
    {
     "name": "stdout",
     "output_type": "stream",
     "text": [
      "Epoch 70, Loss 0.0516\n",
      "Training Accuracy: 0.9486, Testing Accuracy: 0.9551\n",
      "\n"
     ]
    },
    {
     "name": "stdout",
     "output_type": "stream",
     "text": [
      "Epoch 80, Loss 0.0495\n",
      "Training Accuracy: 0.9503, Testing Accuracy: 0.9567\n",
      "\n"
     ]
    },
    {
     "name": "stdout",
     "output_type": "stream",
     "text": [
      "Epoch 90, Loss 0.0477\n",
      "Training Accuracy: 0.9514, Testing Accuracy: 0.9582\n",
      "\n"
     ]
    },
    {
     "name": "stdout",
     "output_type": "stream",
     "text": [
      "Epoch 100, Loss 0.0463\n",
      "Training Accuracy: 0.9523, Testing Accuracy: 0.9602\n",
      "\n"
     ]
    },
    {
     "name": "stdout",
     "output_type": "stream",
     "text": [
      "Epoch 110, Loss 0.045\n",
      "Training Accuracy: 0.9526, Testing Accuracy: 0.9612\n",
      "\n"
     ]
    },
    {
     "name": "stdout",
     "output_type": "stream",
     "text": [
      "Epoch 120, Loss 0.0439\n",
      "Training Accuracy: 0.9539, Testing Accuracy: 0.9622\n",
      "\n"
     ]
    },
    {
     "name": "stdout",
     "output_type": "stream",
     "text": [
      "Epoch 130, Loss 0.043\n",
      "Training Accuracy: 0.9551, Testing Accuracy: 0.9632\n",
      "\n"
     ]
    },
    {
     "name": "stdout",
     "output_type": "stream",
     "text": [
      "Epoch 140, Loss 0.0421\n",
      "Training Accuracy: 0.9563, Testing Accuracy: 0.9652\n",
      "\n"
     ]
    },
    {
     "name": "stdout",
     "output_type": "stream",
     "text": [
      "Epoch 150, Loss 0.0414\n",
      "Training Accuracy: 0.9571, Testing Accuracy: 0.9647\n",
      "\n"
     ]
    },
    {
     "name": "stdout",
     "output_type": "stream",
     "text": [
      "Epoch 160, Loss 0.0407\n",
      "Training Accuracy: 0.9577, Testing Accuracy: 0.9647\n",
      "\n"
     ]
    },
    {
     "name": "stdout",
     "output_type": "stream",
     "text": [
      "Epoch 170, Loss 0.04\n",
      "Training Accuracy: 0.9584, Testing Accuracy: 0.9647\n",
      "\n"
     ]
    },
    {
     "name": "stdout",
     "output_type": "stream",
     "text": [
      "Epoch 180, Loss 0.0395\n",
      "Training Accuracy: 0.9585, Testing Accuracy: 0.9657\n",
      "\n"
     ]
    },
    {
     "name": "stdout",
     "output_type": "stream",
     "text": [
      "Epoch 190, Loss 0.0389\n",
      "Training Accuracy: 0.9592, Testing Accuracy: 0.9672\n",
      "\n"
     ]
    },
    {
     "name": "stdout",
     "output_type": "stream",
     "text": [
      "Epoch 200, Loss 0.0384\n",
      "Training Accuracy: 0.9595, Testing Accuracy: 0.9677\n",
      "\n"
     ]
    },
    {
     "name": "stdout",
     "output_type": "stream",
     "text": [
      "Epoch 210, Loss 0.038\n",
      "Training Accuracy: 0.9595, Testing Accuracy: 0.9677\n",
      "\n"
     ]
    },
    {
     "name": "stdout",
     "output_type": "stream",
     "text": [
      "Epoch 220, Loss 0.0376\n",
      "Training Accuracy: 0.9600, Testing Accuracy: 0.9682\n",
      "\n"
     ]
    },
    {
     "name": "stdout",
     "output_type": "stream",
     "text": [
      "Epoch 230, Loss 0.0372\n",
      "Training Accuracy: 0.9603, Testing Accuracy: 0.9682\n",
      "\n"
     ]
    },
    {
     "name": "stdout",
     "output_type": "stream",
     "text": [
      "Epoch 240, Loss 0.0368\n",
      "Training Accuracy: 0.9607, Testing Accuracy: 0.9682\n",
      "\n"
     ]
    },
    {
     "data": {
      "text/plain": [
       "0.028212892427068155"
      ]
     },
     "execution_count": 23,
     "metadata": {},
     "output_type": "execute_result"
    }
   ],
   "source": [
    "lr_learner.train_loop(dl)"
   ]
  },
  {
   "cell_type": "code",
   "execution_count": 24,
   "id": "ca410940",
   "metadata": {
    "execution": {
     "iopub.execute_input": "2022-03-27T20:11:57.195067Z",
     "iopub.status.busy": "2022-03-27T20:11:57.194526Z",
     "iopub.status.idle": "2022-03-27T20:11:57.416147Z",
     "shell.execute_reply": "2022-03-27T20:11:57.415656Z"
    },
    "papermill": {
     "duration": 0.274467,
     "end_time": "2022-03-27T20:11:57.416288",
     "exception": false,
     "start_time": "2022-03-27T20:11:57.141821",
     "status": "completed"
    },
    "tags": []
   },
   "outputs": [
    {
     "data": {
      "text/plain": [
       "<matplotlib.legend.Legend at 0x7f25b408cd30>"
      ]
     },
     "execution_count": 24,
     "metadata": {},
     "output_type": "execute_result"
    },
    {
     "data": {
      "image/png": "[encoded data removed]",
      "text/plain": [
       "<Figure size 1080x720 with 1 Axes>"
      ]
     },
     "metadata": {
      "needs_background": "light"
     },
     "output_type": "display_data"
    }
   ],
   "source": [
    "#comparing the results of NN and LR\n",
    "plt.figure(figsize=(15,10))\n",
    "\n",
    "# Neural Network plots\n",
    "plt.plot(acc_nn.accuracies, 'r-', label = \"Training Accuracies - NN\")\n",
    "plt.plot(acc_nn.test_accuracies, 'g-', label = \"Testing Accuracies - NN\")\n",
    "\n",
    "# Logistic Regression plots\n",
    "plt.plot(acc_lr.accuracies, 'k-', label = \"Training Accuracies - LR\")\n",
    "plt.plot(acc_lr.test_accuracies, 'b-', label = \"Testing Accuracies - LR\")\n",
    "plt.legend()"
   ]
  },
  {
   "cell_type": "markdown",
   "id": "80dfb35c",
   "metadata": {
    "papermill": {
     "duration": 0.041768,
     "end_time": "2022-03-27T20:11:57.500283",
     "exception": false,
     "start_time": "2022-03-27T20:11:57.458515",
     "status": "completed"
    },
    "tags": []
   },
   "source": [
    "#### Plotting the outputs of this layer of the NN.\n"
   ]
  },
  {
   "cell_type": "code",
   "execution_count": 25,
   "id": "45eb2ff5",
   "metadata": {
    "execution": {
     "iopub.execute_input": "2022-03-27T20:11:57.598303Z",
     "iopub.status.busy": "2022-03-27T20:11:57.593657Z",
     "iopub.status.idle": "2022-03-27T20:11:57.611982Z",
     "shell.execute_reply": "2022-03-27T20:11:57.612629Z"
    },
    "papermill": {
     "duration": 0.070701,
     "end_time": "2022-03-27T20:11:57.612775",
     "exception": false,
     "start_time": "2022-03-27T20:11:57.542074",
     "status": "completed"
    },
    "tags": []
   },
   "outputs": [],
   "source": [
    "new_model = Model(layers[:-2])\n",
    "testing_plot = new_model(testing_data_x)"
   ]
  },
  {
   "cell_type": "code",
   "execution_count": 26,
   "id": "4c0a5485",
   "metadata": {
    "execution": {
     "iopub.execute_input": "2022-03-27T20:11:57.708504Z",
     "iopub.status.busy": "2022-03-27T20:11:57.707979Z",
     "iopub.status.idle": "2022-03-27T20:11:57.918667Z",
     "shell.execute_reply": "2022-03-27T20:11:57.918220Z"
    },
    "papermill": {
     "duration": 0.260131,
     "end_time": "2022-03-27T20:11:57.918783",
     "exception": false,
     "start_time": "2022-03-27T20:11:57.658652",
     "status": "completed"
    },
    "tags": []
   },
   "outputs": [
    {
     "data": {
      "text/plain": [
       "Text(0.5, 1.0, 'Outputs')"
      ]
     },
     "execution_count": 26,
     "metadata": {},
     "output_type": "execute_result"
    },
    {
     "data": {
      "image/png": "[encoded data removed]",
      "text/plain": [
       "<Figure size 576x504 with 1 Axes>"
      ]
     },
     "metadata": {
      "needs_background": "light"
     },
     "output_type": "display_data"
    }
   ],
   "source": [
    "# Plotting the scatter plot of points and color coding by class\n",
    "plt.figure(figsize=(8,7))\n",
    "plt.scatter(testing_plot[:,0], testing_plot[:,1], alpha = 0.1, c = y_test.ravel());\n",
    "plt.title('Outputs')"
   ]
  },
  {
   "cell_type": "markdown",
   "id": "a74fcf8f",
   "metadata": {
    "papermill": {
     "duration": 0.044179,
     "end_time": "2022-03-27T20:11:58.007072",
     "exception": false,
     "start_time": "2022-03-27T20:11:57.962893",
     "status": "completed"
    },
    "tags": []
   },
   "source": [
    "Probability contours"
   ]
  },
  {
   "cell_type": "code",
   "execution_count": 27,
   "id": "d0afc8e3",
   "metadata": {
    "execution": {
     "iopub.execute_input": "2022-03-27T20:11:58.102944Z",
     "iopub.status.busy": "2022-03-27T20:11:58.102406Z",
     "iopub.status.idle": "2022-03-27T20:11:58.110986Z",
     "shell.execute_reply": "2022-03-27T20:11:58.110551Z"
    },
    "papermill": {
     "duration": 0.059793,
     "end_time": "2022-03-27T20:11:58.111106",
     "exception": false,
     "start_time": "2022-03-27T20:11:58.051313",
     "status": "completed"
    },
    "tags": []
   },
   "outputs": [],
   "source": [
    "model_prob = Model(layers[-2:]) "
   ]
  },
  {
   "cell_type": "code",
   "execution_count": 28,
   "id": "9b96e238",
   "metadata": {
    "execution": {
     "iopub.execute_input": "2022-03-27T20:11:58.246640Z",
     "iopub.status.busy": "2022-03-27T20:11:58.245801Z",
     "iopub.status.idle": "2022-03-27T20:11:58.256423Z",
     "shell.execute_reply": "2022-03-27T20:11:58.255935Z"
    },
    "papermill": {
     "duration": 0.068019,
     "end_time": "2022-03-27T20:11:58.256536",
     "exception": false,
     "start_time": "2022-03-27T20:11:58.188517",
     "status": "completed"
    },
    "tags": []
   },
   "outputs": [],
   "source": [
    "#creating the x and y ranges according to the above generated plot.\n",
    "x_range = np.linspace(-4, 1, 100) \n",
    "y_range = np.linspace(-6, 6, 100) \n",
    "x_grid, y_grid = np.meshgrid(x_range, y_range) # x_grid and y_grig are of size 100 X 100\n",
    "\n",
    "# converting x_grid and y_grid to continuous arrays\n",
    "x_gridflat = np.ravel(x_grid)\n",
    "y_gridflat = np.ravel(y_grid)\n",
    "\n",
    "# The last layer of the current model takes two columns as input. Hence transpose of np.vstack() is required.\n",
    "X = np.vstack((x_gridflat, y_gridflat)).T\n",
    "\n",
    "prob_contour = model_prob(X).reshape(100,100) "
   ]
  },
  {
   "cell_type": "code",
   "execution_count": 29,
   "id": "da72499a",
   "metadata": {
    "execution": {
     "iopub.execute_input": "2022-03-27T20:11:58.351342Z",
     "iopub.status.busy": "2022-03-27T20:11:58.350832Z",
     "iopub.status.idle": "2022-03-27T20:11:58.611435Z",
     "shell.execute_reply": "2022-03-27T20:11:58.611003Z"
    },
    "papermill": {
     "duration": 0.310824,
     "end_time": "2022-03-27T20:11:58.611561",
     "exception": false,
     "start_time": "2022-03-27T20:11:58.300737",
     "status": "completed"
    },
    "tags": []
   },
   "outputs": [
    {
     "data": {
      "image/png": "[encoded data removed]",
      "text/plain": [
       "<Figure size 720x648 with 1 Axes>"
      ]
     },
     "metadata": {
      "needs_background": "light"
     },
     "output_type": "display_data"
    }
   ],
   "source": [
    "plt.figure(figsize=(10,9))\n",
    "plt.scatter(testing_plot[:,0], testing_plot[:,1], alpha = 0.1, c = y_test.ravel())\n",
    "contours = plt.contour(x_grid,y_grid,prob_contour)\n",
    "plt.title('Probability Contours')\n",
    "plt.clabel(contours, inline = True );"
   ]
  },
  {
   "cell_type": "code",
   "execution_count": null,
   "id": "e81b4ac7",
   "metadata": {
    "papermill": {
     "duration": 0.048668,
     "end_time": "2022-03-27T20:11:58.708097",
     "exception": false,
     "start_time": "2022-03-27T20:11:58.659429",
     "status": "completed"
    },
    "tags": []
   },
   "outputs": [],
   "source": []
  }
 ],
 "metadata": {
  "kernelspec": {
   "display_name": "Python 3",
   "language": "python",
   "name": "python3"
  },
  "language_info": {
   "codemirror_mode": {
    "name": "ipython",
    "version": 3
   },
   "file_extension": ".py",
   "mimetype": "text/x-python",
   "name": "python",
   "nbconvert_exporter": "python",
   "pygments_lexer": "ipython3",
   "version": "3.6.15"
  },
  "papermill": {
   "default_parameters": {},
   "duration": 99.669245,
   "end_time": "2022-03-27T20:11:59.174756",
   "environment_variables": {},
   "exception": null,
   "input_path": "2020-08-11-part2.ipynb",
   "output_path": "2020-08-11-part2.ipynb",
   "parameters": {},
   "start_time": "2022-03-27T20:10:19.505511",
   "version": "2.3.3"
  }
 },
 "nbformat": 4,
 "nbformat_minor": 5
}