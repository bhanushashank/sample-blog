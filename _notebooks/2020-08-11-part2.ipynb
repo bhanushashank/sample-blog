{
 "cells": [
  {
   "cell_type": "markdown",
   "id": "98380cd3",
   "metadata": {
    "papermill": {
     "duration": 0.037899,
     "end_time": "2022-05-05T10:10:34.746795",
     "exception": false,
     "start_time": "2022-05-05T10:10:34.708896",
     "status": "completed"
    },
    "tags": []
   },
   "source": [
    "# Distinguish Your Own Digits (DYOD)"
   ]
  },
  {
   "cell_type": "markdown",
   "id": "ef31240d",
   "metadata": {
    "papermill": {
     "duration": 0.033547,
     "end_time": "2022-05-05T10:10:34.818030",
     "exception": false,
     "start_time": "2022-05-05T10:10:34.784483",
     "status": "completed"
    },
    "tags": []
   },
   "source": [
    "You are going to write a classifier that distinguishes between the number 3 and number 8."
   ]
  },
  {
   "cell_type": "code",
   "execution_count": 1,
   "id": "b15c8646",
   "metadata": {
    "execution": {
     "iopub.execute_input": "2022-05-05T10:10:34.893803Z",
     "iopub.status.busy": "2022-05-05T10:10:34.893049Z",
     "iopub.status.idle": "2022-05-05T10:10:34.906598Z",
     "shell.execute_reply": "2022-05-05T10:10:34.905985Z"
    },
    "papermill": {
     "duration": 0.058331,
     "end_time": "2022-05-05T10:10:34.906813",
     "exception": false,
     "start_time": "2022-05-05T10:10:34.848482",
     "status": "completed"
    },
    "tags": []
   },
   "outputs": [],
   "source": [
    "%load_ext autoreload\n",
    "%autoreload 2"
   ]
  },
  {
   "cell_type": "code",
   "execution_count": 2,
   "id": "22ef38dc",
   "metadata": {
    "execution": {
     "iopub.execute_input": "2022-05-05T10:10:34.971632Z",
     "iopub.status.busy": "2022-05-05T10:10:34.970991Z",
     "iopub.status.idle": "2022-05-05T10:10:35.625149Z",
     "shell.execute_reply": "2022-05-05T10:10:35.624538Z"
    },
    "papermill": {
     "duration": 0.688319,
     "end_time": "2022-05-05T10:10:35.625291",
     "exception": false,
     "start_time": "2022-05-05T10:10:34.936972",
     "status": "completed"
    },
    "tags": []
   },
   "outputs": [],
   "source": [
    "%matplotlib inline\n",
    "import numpy as np\n",
    "import matplotlib.pyplot as plt\n",
    "import pandas as pd"
   ]
  },
  {
   "cell_type": "markdown",
   "id": "ba036198",
   "metadata": {
    "papermill": {
     "duration": 0.029383,
     "end_time": "2022-05-05T10:10:35.688356",
     "exception": false,
     "start_time": "2022-05-05T10:10:35.658973",
     "status": "completed"
    },
    "tags": []
   },
   "source": [
    "From the command line run `pip install mnist`. This is a library that will help you bring down the mnist dataset. If you run this from a notebook, you need to put  `!pip install mnist` in a cell by itself."
   ]
  },
  {
   "cell_type": "code",
   "execution_count": 3,
   "id": "bb6ad8a1",
   "metadata": {
    "execution": {
     "iopub.execute_input": "2022-05-05T10:10:35.756924Z",
     "iopub.status.busy": "2022-05-05T10:10:35.756290Z",
     "iopub.status.idle": "2022-05-05T10:10:38.578658Z",
     "shell.execute_reply": "2022-05-05T10:10:38.578061Z"
    },
    "papermill": {
     "duration": 2.860924,
     "end_time": "2022-05-05T10:10:38.578814",
     "exception": false,
     "start_time": "2022-05-05T10:10:35.717890",
     "status": "completed"
    },
    "tags": []
   },
   "outputs": [
    {
     "name": "stdout",
     "output_type": "stream",
     "text": [
      "Collecting mnist\r\n"
     ]
    },
    {
     "name": "stdout",
     "output_type": "stream",
     "text": [
      "  Downloading mnist-0.2.2-py2.py3-none-any.whl (3.5 kB)\r\n",
      "Requirement already satisfied: numpy in /opt/hostedtoolcache/Python/3.6.15/x64/lib/python3.6/site-packages (from mnist) (1.19.5)\r\n"
     ]
    },
    {
     "name": "stdout",
     "output_type": "stream",
     "text": [
      "Installing collected packages: mnist\r\n"
     ]
    },
    {
     "name": "stdout",
     "output_type": "stream",
     "text": [
      "Successfully installed mnist-0.2.2\r\n"
     ]
    }
   ],
   "source": [
    "!pip install mnist"
   ]
  },
  {
   "cell_type": "markdown",
   "id": "69df9c9a",
   "metadata": {
    "papermill": {
     "duration": 0.035163,
     "end_time": "2022-05-05T10:10:38.647204",
     "exception": false,
     "start_time": "2022-05-05T10:10:38.612041",
     "status": "completed"
    },
    "tags": []
   },
   "source": [
    "## Preparing the Data"
   ]
  },
  {
   "cell_type": "code",
   "execution_count": 4,
   "id": "7f69d806",
   "metadata": {
    "execution": {
     "iopub.execute_input": "2022-05-05T10:10:38.718503Z",
     "iopub.status.busy": "2022-05-05T10:10:38.717801Z",
     "iopub.status.idle": "2022-05-05T10:10:38.734573Z",
     "shell.execute_reply": "2022-05-05T10:10:38.733975Z"
    },
    "papermill": {
     "duration": 0.055967,
     "end_time": "2022-05-05T10:10:38.734752",
     "exception": false,
     "start_time": "2022-05-05T10:10:38.678785",
     "status": "completed"
    },
    "tags": []
   },
   "outputs": [],
   "source": [
    "import mnist"
   ]
  },
  {
   "cell_type": "code",
   "execution_count": 5,
   "id": "a411e44f",
   "metadata": {
    "execution": {
     "iopub.execute_input": "2022-05-05T10:10:38.807663Z",
     "iopub.status.busy": "2022-05-05T10:10:38.806722Z",
     "iopub.status.idle": "2022-05-05T10:10:39.342017Z",
     "shell.execute_reply": "2022-05-05T10:10:39.341344Z"
    },
    "papermill": {
     "duration": 0.57235,
     "end_time": "2022-05-05T10:10:39.342174",
     "exception": false,
     "start_time": "2022-05-05T10:10:38.769824",
     "status": "completed"
    },
    "tags": []
   },
   "outputs": [],
   "source": [
    "train_images = mnist.train_images()\n",
    "train_labels = mnist.train_labels()"
   ]
  },
  {
   "cell_type": "code",
   "execution_count": 6,
   "id": "dceab3a5",
   "metadata": {
    "execution": {
     "iopub.execute_input": "2022-05-05T10:10:39.408963Z",
     "iopub.status.busy": "2022-05-05T10:10:39.408337Z",
     "iopub.status.idle": "2022-05-05T10:10:39.428069Z",
     "shell.execute_reply": "2022-05-05T10:10:39.427525Z"
    },
    "papermill": {
     "duration": 0.053276,
     "end_time": "2022-05-05T10:10:39.428231",
     "exception": false,
     "start_time": "2022-05-05T10:10:39.374955",
     "status": "completed"
    },
    "tags": []
   },
   "outputs": [
    {
     "data": {
      "text/plain": [
       "((60000, 28, 28), (60000,))"
      ]
     },
     "execution_count": 6,
     "metadata": {},
     "output_type": "execute_result"
    }
   ],
   "source": [
    "train_images.shape, train_labels.shape"
   ]
  },
  {
   "cell_type": "code",
   "execution_count": 7,
   "id": "f50dc2bb",
   "metadata": {
    "execution": {
     "iopub.execute_input": "2022-05-05T10:10:39.495550Z",
     "iopub.status.busy": "2022-05-05T10:10:39.494863Z",
     "iopub.status.idle": "2022-05-05T10:10:39.621354Z",
     "shell.execute_reply": "2022-05-05T10:10:39.621911Z"
    },
    "papermill": {
     "duration": 0.162205,
     "end_time": "2022-05-05T10:10:39.622151",
     "exception": false,
     "start_time": "2022-05-05T10:10:39.459946",
     "status": "completed"
    },
    "tags": []
   },
   "outputs": [],
   "source": [
    "test_images = mnist.test_images()\n",
    "test_labels = mnist.test_labels()"
   ]
  },
  {
   "cell_type": "code",
   "execution_count": 8,
   "id": "fc38cf1b",
   "metadata": {
    "execution": {
     "iopub.execute_input": "2022-05-05T10:10:39.694816Z",
     "iopub.status.busy": "2022-05-05T10:10:39.694165Z",
     "iopub.status.idle": "2022-05-05T10:10:39.708983Z",
     "shell.execute_reply": "2022-05-05T10:10:39.709570Z"
    },
    "papermill": {
     "duration": 0.051054,
     "end_time": "2022-05-05T10:10:39.709751",
     "exception": false,
     "start_time": "2022-05-05T10:10:39.658697",
     "status": "completed"
    },
    "tags": []
   },
   "outputs": [
    {
     "data": {
      "text/plain": [
       "((10000, 28, 28), (10000,))"
      ]
     },
     "execution_count": 8,
     "metadata": {},
     "output_type": "execute_result"
    }
   ],
   "source": [
    "test_images.shape, test_labels.shape"
   ]
  },
  {
   "cell_type": "code",
   "execution_count": 9,
   "id": "f9ed8fe0",
   "metadata": {
    "execution": {
     "iopub.execute_input": "2022-05-05T10:10:39.778785Z",
     "iopub.status.busy": "2022-05-05T10:10:39.777900Z",
     "iopub.status.idle": "2022-05-05T10:10:39.970051Z",
     "shell.execute_reply": "2022-05-05T10:10:39.970581Z"
    },
    "papermill": {
     "duration": 0.229242,
     "end_time": "2022-05-05T10:10:39.970763",
     "exception": false,
     "start_time": "2022-05-05T10:10:39.741521",
     "status": "completed"
    },
    "tags": []
   },
   "outputs": [
    {
     "name": "stdout",
     "output_type": "stream",
     "text": [
      "2\n"
     ]
    },
    {
     "data": {
      "text/plain": [
       "<matplotlib.image.AxesImage at 0x7fea84f13390>"
      ]
     },
     "execution_count": 9,
     "metadata": {},
     "output_type": "execute_result"
    },
    {
     "data": {
      "image/png": "[encoded data removed]",
      "text/plain": [
       "<Figure size 432x288 with 1 Axes>"
      ]
     },
     "metadata": {
      "needs_background": "light"
     },
     "output_type": "display_data"
    }
   ],
   "source": [
    "image_index = 7776 # You may select anything up to 60,000\n",
    "print(train_labels[image_index]) \n",
    "plt.imshow(train_images[image_index], cmap='Greys')"
   ]
  },
  {
   "cell_type": "markdown",
   "id": "a8d2388d",
   "metadata": {
    "papermill": {
     "duration": 0.036061,
     "end_time": "2022-05-05T10:10:40.038646",
     "exception": false,
     "start_time": "2022-05-05T10:10:40.002585",
     "status": "completed"
    },
    "tags": []
   },
   "source": [
    "## Filter data to get 3 and 8 out"
   ]
  },
  {
   "cell_type": "code",
   "execution_count": 10,
   "id": "776f7fc7",
   "metadata": {
    "execution": {
     "iopub.execute_input": "2022-05-05T10:10:40.116033Z",
     "iopub.status.busy": "2022-05-05T10:10:40.115302Z",
     "iopub.status.idle": "2022-05-05T10:10:40.134134Z",
     "shell.execute_reply": "2022-05-05T10:10:40.133537Z"
    },
    "papermill": {
     "duration": 0.05719,
     "end_time": "2022-05-05T10:10:40.134293",
     "exception": false,
     "start_time": "2022-05-05T10:10:40.077103",
     "status": "completed"
    },
    "tags": []
   },
   "outputs": [],
   "source": [
    "train_filter = np.where((train_labels == 3 ) | (train_labels == 8))\n",
    "test_filter = np.where((test_labels == 3) | (test_labels == 8))\n",
    "X_train, y_train = train_images[train_filter], train_labels[train_filter]\n",
    "X_test, y_test = test_images[test_filter], test_labels[test_filter]"
   ]
  },
  {
   "cell_type": "markdown",
   "id": "948f0b7e",
   "metadata": {
    "papermill": {
     "duration": 0.035724,
     "end_time": "2022-05-05T10:10:40.206025",
     "exception": false,
     "start_time": "2022-05-05T10:10:40.170301",
     "status": "completed"
    },
    "tags": []
   },
   "source": [
    "We normalize the pizel values in the 0 to 1 range"
   ]
  },
  {
   "cell_type": "code",
   "execution_count": 11,
   "id": "ee4c2166",
   "metadata": {
    "execution": {
     "iopub.execute_input": "2022-05-05T10:10:40.283549Z",
     "iopub.status.busy": "2022-05-05T10:10:40.279331Z",
     "iopub.status.idle": "2022-05-05T10:10:40.339410Z",
     "shell.execute_reply": "2022-05-05T10:10:40.340305Z"
    },
    "papermill": {
     "duration": 0.100484,
     "end_time": "2022-05-05T10:10:40.340509",
     "exception": false,
     "start_time": "2022-05-05T10:10:40.240025",
     "status": "completed"
    },
    "tags": []
   },
   "outputs": [],
   "source": [
    "X_train = X_train/255.\n",
    "X_test = X_test/255."
   ]
  },
  {
   "cell_type": "markdown",
   "id": "ddcf4fab",
   "metadata": {
    "papermill": {
     "duration": 0.034255,
     "end_time": "2022-05-05T10:10:40.412619",
     "exception": false,
     "start_time": "2022-05-05T10:10:40.378364",
     "status": "completed"
    },
    "tags": []
   },
   "source": [
    "And setup the labels as 1 (when the digit is 3) and 0 (when the digit is 8)"
   ]
  },
  {
   "cell_type": "code",
   "execution_count": 12,
   "id": "7dc908f2",
   "metadata": {
    "execution": {
     "iopub.execute_input": "2022-05-05T10:10:40.488043Z",
     "iopub.status.busy": "2022-05-05T10:10:40.487311Z",
     "iopub.status.idle": "2022-05-05T10:10:40.503237Z",
     "shell.execute_reply": "2022-05-05T10:10:40.502699Z"
    },
    "papermill": {
     "duration": 0.053858,
     "end_time": "2022-05-05T10:10:40.503365",
     "exception": false,
     "start_time": "2022-05-05T10:10:40.449507",
     "status": "completed"
    },
    "tags": []
   },
   "outputs": [],
   "source": [
    "y_train = 1*(y_train==3)\n",
    "y_test = 1*(y_test==3)"
   ]
  },
  {
   "cell_type": "code",
   "execution_count": 13,
   "id": "01e4e969",
   "metadata": {
    "execution": {
     "iopub.execute_input": "2022-05-05T10:10:40.578988Z",
     "iopub.status.busy": "2022-05-05T10:10:40.578272Z",
     "iopub.status.idle": "2022-05-05T10:10:40.592425Z",
     "shell.execute_reply": "2022-05-05T10:10:40.591913Z"
    },
    "papermill": {
     "duration": 0.056796,
     "end_time": "2022-05-05T10:10:40.592551",
     "exception": false,
     "start_time": "2022-05-05T10:10:40.535755",
     "status": "completed"
    },
    "tags": []
   },
   "outputs": [
    {
     "data": {
      "text/plain": [
       "((11982, 28, 28), (1984, 28, 28))"
      ]
     },
     "execution_count": 13,
     "metadata": {},
     "output_type": "execute_result"
    }
   ],
   "source": [
    "X_train.shape, X_test.shape"
   ]
  },
  {
   "cell_type": "markdown",
   "id": "5ccf3f85",
   "metadata": {
    "papermill": {
     "duration": 0.036168,
     "end_time": "2022-05-05T10:10:40.661987",
     "exception": false,
     "start_time": "2022-05-05T10:10:40.625819",
     "status": "completed"
    },
    "tags": []
   },
   "source": [
    "We reshape the data to flatten the image pixels into a set of features or co-variates:"
   ]
  },
  {
   "cell_type": "code",
   "execution_count": 14,
   "id": "5286a4a3",
   "metadata": {
    "execution": {
     "iopub.execute_input": "2022-05-05T10:10:40.734282Z",
     "iopub.status.busy": "2022-05-05T10:10:40.733354Z",
     "iopub.status.idle": "2022-05-05T10:10:40.751339Z",
     "shell.execute_reply": "2022-05-05T10:10:40.751927Z"
    },
    "papermill": {
     "duration": 0.057094,
     "end_time": "2022-05-05T10:10:40.752107",
     "exception": false,
     "start_time": "2022-05-05T10:10:40.695013",
     "status": "completed"
    },
    "tags": []
   },
   "outputs": [
    {
     "data": {
      "text/plain": [
       "((11982, 784), (1984, 784))"
      ]
     },
     "execution_count": 14,
     "metadata": {},
     "output_type": "execute_result"
    }
   ],
   "source": [
    "X_train = X_train.reshape(X_train.shape[0], -1)\n",
    "X_test = X_test.reshape(X_test.shape[0], -1)\n",
    "X_train.shape, X_test.shape"
   ]
  },
  {
   "cell_type": "code",
   "execution_count": 15,
   "id": "73c5f88a",
   "metadata": {
    "execution": {
     "iopub.execute_input": "2022-05-05T10:10:40.831016Z",
     "iopub.status.busy": "2022-05-05T10:10:40.830415Z",
     "iopub.status.idle": "2022-05-05T10:10:40.855699Z",
     "shell.execute_reply": "2022-05-05T10:10:40.856326Z"
    },
    "papermill": {
     "duration": 0.066675,
     "end_time": "2022-05-05T10:10:40.856496",
     "exception": false,
     "start_time": "2022-05-05T10:10:40.789821",
     "status": "completed"
    },
    "tags": []
   },
   "outputs": [],
   "source": [
    "#Impoting functions from 'Kudzu'\n",
    "from kudzu.model import Model\n",
    "from kudzu.train import Learner\n",
    "from kudzu.optim import GD\n",
    "from kudzu.data import Data, Sampler,Dataloader\n",
    "\n",
    "from kudzu.callbacks import AccCallback\n",
    "from kudzu.callbacks import ClfCallback\n",
    "\n",
    "from kudzu.loss import MSE\n",
    "\n",
    "from kudzu.layer import Sigmoid,Relu\n",
    "from kudzu.layer import Affine"
   ]
  },
  {
   "cell_type": "markdown",
   "id": "bc01172a",
   "metadata": {
    "papermill": {
     "duration": 0.03536,
     "end_time": "2022-05-05T10:10:40.929793",
     "exception": false,
     "start_time": "2022-05-05T10:10:40.894433",
     "status": "completed"
    },
    "tags": []
   },
   "source": [
    "### Let us create a `Config` class, to store important parameters. \n",
    "This class essentially plays the role of a dictionary."
   ]
  },
  {
   "cell_type": "code",
   "execution_count": 16,
   "id": "978281aa",
   "metadata": {
    "execution": {
     "iopub.execute_input": "2022-05-05T10:10:41.014264Z",
     "iopub.status.busy": "2022-05-05T10:10:41.010922Z",
     "iopub.status.idle": "2022-05-05T10:10:41.021194Z",
     "shell.execute_reply": "2022-05-05T10:10:41.020585Z"
    },
    "papermill": {
     "duration": 0.055094,
     "end_time": "2022-05-05T10:10:41.021322",
     "exception": false,
     "start_time": "2022-05-05T10:10:40.966228",
     "status": "completed"
    },
    "tags": []
   },
   "outputs": [],
   "source": [
    "class Config:\n",
    "    pass\n",
    "config = Config()\n",
    "config.lr = 0.001\n",
    "config.num_epochs = 250\n",
    "config.bs = 50"
   ]
  },
  {
   "cell_type": "markdown",
   "id": "1385fa59",
   "metadata": {
    "papermill": {
     "duration": 0.031873,
     "end_time": "2022-05-05T10:10:41.093845",
     "exception": false,
     "start_time": "2022-05-05T10:10:41.061972",
     "status": "completed"
    },
    "tags": []
   },
   "source": [
    "### Running Models with the Training data\n",
    "Details about the network layers:\n",
    "- A first affine layer has 784 inputs and does 100 affine transforms. These are followed by a Relu\n",
    "- A second affine layer has 100 inputs from the 100 activations of the past layer, and does 100 affine transforms. These are followed by a Relu\n",
    "- A third affine layer has 100 activations and does 2 affine transformations to create an embedding for visualization. There is no non-linearity here.\n",
    "- A final \"logistic regression\" which has an affine transform from 2 inputs to 1 output, which is squeezed through a sigmoid.\n"
   ]
  },
  {
   "cell_type": "code",
   "execution_count": 17,
   "id": "2b9c66db",
   "metadata": {
    "execution": {
     "iopub.execute_input": "2022-05-05T10:10:41.178659Z",
     "iopub.status.busy": "2022-05-05T10:10:41.169685Z",
     "iopub.status.idle": "2022-05-05T10:10:41.184701Z",
     "shell.execute_reply": "2022-05-05T10:10:41.184177Z"
    },
    "papermill": {
     "duration": 0.057109,
     "end_time": "2022-05-05T10:10:41.184826",
     "exception": false,
     "start_time": "2022-05-05T10:10:41.127717",
     "status": "completed"
    },
    "tags": []
   },
   "outputs": [],
   "source": [
    "data = Data(X_train, y_train.reshape(-1,1))\n",
    "sampler = Sampler(data, config.bs, shuffle=True)\n",
    "\n",
    "dl = Dataloader(data, sampler)\n",
    "\n",
    "opt = GD(config.lr)\n",
    "loss = MSE()"
   ]
  },
  {
   "cell_type": "code",
   "execution_count": 18,
   "id": "b275e4c2",
   "metadata": {
    "execution": {
     "iopub.execute_input": "2022-05-05T10:10:41.262594Z",
     "iopub.status.busy": "2022-05-05T10:10:41.261758Z",
     "iopub.status.idle": "2022-05-05T10:10:41.277467Z",
     "shell.execute_reply": "2022-05-05T10:10:41.277967Z"
    },
    "papermill": {
     "duration": 0.059628,
     "end_time": "2022-05-05T10:10:41.278124",
     "exception": false,
     "start_time": "2022-05-05T10:10:41.218496",
     "status": "completed"
    },
    "tags": []
   },
   "outputs": [],
   "source": [
    "training_data_x = X_train\n",
    "testing_data_x = X_test\n",
    "training_data_y = y_train.reshape(-1,1)\n",
    "testing_data_y = y_test.reshape(-1,1)"
   ]
  },
  {
   "cell_type": "code",
   "execution_count": 19,
   "id": "76951160",
   "metadata": {
    "execution": {
     "iopub.execute_input": "2022-05-05T10:10:41.356672Z",
     "iopub.status.busy": "2022-05-05T10:10:41.354847Z",
     "iopub.status.idle": "2022-05-05T10:10:41.376255Z",
     "shell.execute_reply": "2022-05-05T10:10:41.375660Z"
    },
    "papermill": {
     "duration": 0.061654,
     "end_time": "2022-05-05T10:10:41.376418",
     "exception": false,
     "start_time": "2022-05-05T10:10:41.314764",
     "status": "completed"
    },
    "tags": []
   },
   "outputs": [
    {
     "name": "stdout",
     "output_type": "stream",
     "text": [
      "xavier\n",
      "xavier\n",
      "xavier\n",
      "xavier\n",
      "xavier\n"
     ]
    }
   ],
   "source": [
    "layers = [Affine(\"first\", 784, 100), Relu(\"first\"), Affine(\"second\", 100, 100), Relu(\"second\"), Affine(\"third\", 100, 2), Affine(\"last\", 2, 1), Sigmoid(\"last\")]\n",
    "model_nn = Model(layers)\n",
    "model_lr = Model([Affine(\"logits\", 784, 1), Sigmoid(\"sigmoid\")])"
   ]
  },
  {
   "cell_type": "code",
   "execution_count": 20,
   "id": "6eede77a",
   "metadata": {
    "execution": {
     "iopub.execute_input": "2022-05-05T10:10:41.451576Z",
     "iopub.status.busy": "2022-05-05T10:10:41.450916Z",
     "iopub.status.idle": "2022-05-05T10:10:41.468903Z",
     "shell.execute_reply": "2022-05-05T10:10:41.468307Z"
    },
    "papermill": {
     "duration": 0.05727,
     "end_time": "2022-05-05T10:10:41.469088",
     "exception": false,
     "start_time": "2022-05-05T10:10:41.411818",
     "status": "completed"
    },
    "tags": []
   },
   "outputs": [],
   "source": [
    "nn_learner = Learner(loss, model_nn, opt, config.num_epochs)\n",
    "acc_nn = ClfCallback(nn_learner, config.bs, training_data_x , testing_data_x, training_data_y, testing_data_y)\n",
    "nn_learner.set_callbacks([acc_nn])"
   ]
  },
  {
   "cell_type": "code",
   "execution_count": 21,
   "id": "877b6cc7",
   "metadata": {
    "execution": {
     "iopub.execute_input": "2022-05-05T10:10:41.545649Z",
     "iopub.status.busy": "2022-05-05T10:10:41.544945Z",
     "iopub.status.idle": "2022-05-05T10:10:41.560907Z",
     "shell.execute_reply": "2022-05-05T10:10:41.560311Z"
    },
    "papermill": {
     "duration": 0.054747,
     "end_time": "2022-05-05T10:10:41.561049",
     "exception": false,
     "start_time": "2022-05-05T10:10:41.506302",
     "status": "completed"
    },
    "tags": []
   },
   "outputs": [],
   "source": [
    "lr_learner = Learner(loss, model_lr, opt, config.num_epochs)\n",
    "acc_lr = ClfCallback(lr_learner, config.bs, training_data_x , testing_data_x, training_data_y, testing_data_y)\n",
    "lr_learner.set_callbacks([acc_lr])"
   ]
  },
  {
   "cell_type": "code",
   "execution_count": 22,
   "id": "d9b133c3",
   "metadata": {
    "execution": {
     "iopub.execute_input": "2022-05-05T10:10:41.639496Z",
     "iopub.status.busy": "2022-05-05T10:10:41.638804Z",
     "iopub.status.idle": "2022-05-05T10:13:07.174399Z",
     "shell.execute_reply": "2022-05-05T10:13:07.175268Z"
    },
    "papermill": {
     "duration": 145.578712,
     "end_time": "2022-05-05T10:13:07.175541",
     "exception": false,
     "start_time": "2022-05-05T10:10:41.596829",
     "status": "completed"
    },
    "tags": []
   },
   "outputs": [
    {
     "name": "stdout",
     "output_type": "stream",
     "text": [
      "Epoch 0, Loss 0.2335\n",
      "Training Accuracy: 0.7224, Testing Accuracy: 0.7334\n",
      "\n"
     ]
    },
    {
     "name": "stdout",
     "output_type": "stream",
     "text": [
      "Epoch 10, Loss 0.0785\n",
      "Training Accuracy: 0.9197, Testing Accuracy: 0.9315\n",
      "\n"
     ]
    },
    {
     "name": "stdout",
     "output_type": "stream",
     "text": [
      "Epoch 20, Loss 0.0516\n",
      "Training Accuracy: 0.9415, Testing Accuracy: 0.9536\n",
      "\n"
     ]
    },
    {
     "name": "stdout",
     "output_type": "stream",
     "text": [
      "Epoch 30, Loss 0.0416\n",
      "Training Accuracy: 0.9522, Testing Accuracy: 0.9597\n",
      "\n"
     ]
    },
    {
     "name": "stdout",
     "output_type": "stream",
     "text": [
      "Epoch 40, Loss 0.0363\n",
      "Training Accuracy: 0.9580, Testing Accuracy: 0.9642\n",
      "\n"
     ]
    },
    {
     "name": "stdout",
     "output_type": "stream",
     "text": [
      "Epoch 50, Loss 0.0329\n",
      "Training Accuracy: 0.9621, Testing Accuracy: 0.9652\n",
      "\n"
     ]
    },
    {
     "name": "stdout",
     "output_type": "stream",
     "text": [
      "Epoch 60, Loss 0.0305\n",
      "Training Accuracy: 0.9644, Testing Accuracy: 0.9662\n",
      "\n"
     ]
    },
    {
     "name": "stdout",
     "output_type": "stream",
     "text": [
      "Epoch 70, Loss 0.0287\n",
      "Training Accuracy: 0.9669, Testing Accuracy: 0.9677\n",
      "\n"
     ]
    },
    {
     "name": "stdout",
     "output_type": "stream",
     "text": [
      "Epoch 80, Loss 0.0272\n",
      "Training Accuracy: 0.9687, Testing Accuracy: 0.9708\n",
      "\n"
     ]
    },
    {
     "name": "stdout",
     "output_type": "stream",
     "text": [
      "Epoch 90, Loss 0.026\n",
      "Training Accuracy: 0.9705, Testing Accuracy: 0.9713\n",
      "\n"
     ]
    },
    {
     "name": "stdout",
     "output_type": "stream",
     "text": [
      "Epoch 100, Loss 0.0249\n",
      "Training Accuracy: 0.9720, Testing Accuracy: 0.9703\n",
      "\n"
     ]
    },
    {
     "name": "stdout",
     "output_type": "stream",
     "text": [
      "Epoch 110, Loss 0.024\n",
      "Training Accuracy: 0.9735, Testing Accuracy: 0.9708\n",
      "\n"
     ]
    },
    {
     "name": "stdout",
     "output_type": "stream",
     "text": [
      "Epoch 120, Loss 0.0231\n",
      "Training Accuracy: 0.9741, Testing Accuracy: 0.9728\n",
      "\n"
     ]
    },
    {
     "name": "stdout",
     "output_type": "stream",
     "text": [
      "Epoch 130, Loss 0.0223\n",
      "Training Accuracy: 0.9755, Testing Accuracy: 0.9718\n",
      "\n"
     ]
    },
    {
     "name": "stdout",
     "output_type": "stream",
     "text": [
      "Epoch 140, Loss 0.0216\n",
      "Training Accuracy: 0.9759, Testing Accuracy: 0.9728\n",
      "\n"
     ]
    },
    {
     "name": "stdout",
     "output_type": "stream",
     "text": [
      "Epoch 150, Loss 0.021\n",
      "Training Accuracy: 0.9770, Testing Accuracy: 0.9728\n",
      "\n"
     ]
    },
    {
     "name": "stdout",
     "output_type": "stream",
     "text": [
      "Epoch 160, Loss 0.0204\n",
      "Training Accuracy: 0.9780, Testing Accuracy: 0.9743\n",
      "\n"
     ]
    },
    {
     "name": "stdout",
     "output_type": "stream",
     "text": [
      "Epoch 170, Loss 0.0198\n",
      "Training Accuracy: 0.9788, Testing Accuracy: 0.9748\n",
      "\n"
     ]
    },
    {
     "name": "stdout",
     "output_type": "stream",
     "text": [
      "Epoch 180, Loss 0.0192\n",
      "Training Accuracy: 0.9795, Testing Accuracy: 0.9748\n",
      "\n"
     ]
    },
    {
     "name": "stdout",
     "output_type": "stream",
     "text": [
      "Epoch 190, Loss 0.0187\n",
      "Training Accuracy: 0.9802, Testing Accuracy: 0.9758\n",
      "\n"
     ]
    },
    {
     "name": "stdout",
     "output_type": "stream",
     "text": [
      "Epoch 200, Loss 0.0182\n",
      "Training Accuracy: 0.9808, Testing Accuracy: 0.9763\n",
      "\n"
     ]
    },
    {
     "name": "stdout",
     "output_type": "stream",
     "text": [
      "Epoch 210, Loss 0.0178\n",
      "Training Accuracy: 0.9811, Testing Accuracy: 0.9758\n",
      "\n"
     ]
    },
    {
     "name": "stdout",
     "output_type": "stream",
     "text": [
      "Epoch 220, Loss 0.0173\n",
      "Training Accuracy: 0.9816, Testing Accuracy: 0.9768\n",
      "\n"
     ]
    },
    {
     "name": "stdout",
     "output_type": "stream",
     "text": [
      "Epoch 230, Loss 0.0169\n",
      "Training Accuracy: 0.9820, Testing Accuracy: 0.9773\n",
      "\n"
     ]
    },
    {
     "name": "stdout",
     "output_type": "stream",
     "text": [
      "Epoch 240, Loss 0.0165\n",
      "Training Accuracy: 0.9829, Testing Accuracy: 0.9773\n",
      "\n"
     ]
    },
    {
     "data": {
      "text/plain": [
       "0.013563240278609981"
      ]
     },
     "execution_count": 22,
     "metadata": {},
     "output_type": "execute_result"
    }
   ],
   "source": [
    "nn_learner.train_loop(dl)"
   ]
  },
  {
   "cell_type": "code",
   "execution_count": 23,
   "id": "e0163366",
   "metadata": {
    "execution": {
     "iopub.execute_input": "2022-05-05T10:13:07.283011Z",
     "iopub.status.busy": "2022-05-05T10:13:07.282230Z",
     "iopub.status.idle": "2022-05-05T10:13:27.911638Z",
     "shell.execute_reply": "2022-05-05T10:13:27.912591Z"
    },
    "papermill": {
     "duration": 20.691598,
     "end_time": "2022-05-05T10:13:27.912765",
     "exception": false,
     "start_time": "2022-05-05T10:13:07.221167",
     "status": "completed"
    },
    "tags": []
   },
   "outputs": [
    {
     "name": "stdout",
     "output_type": "stream",
     "text": [
      "Epoch 0, Loss 0.2228\n",
      "Training Accuracy: 0.7316, Testing Accuracy: 0.7167\n",
      "\n"
     ]
    },
    {
     "name": "stdout",
     "output_type": "stream",
     "text": [
      "Epoch 10, Loss 0.1023\n",
      "Training Accuracy: 0.9091, Testing Accuracy: 0.9199\n",
      "\n"
     ]
    },
    {
     "name": "stdout",
     "output_type": "stream",
     "text": [
      "Epoch 20, Loss 0.0789\n",
      "Training Accuracy: 0.9293, Testing Accuracy: 0.9456\n",
      "\n"
     ]
    },
    {
     "name": "stdout",
     "output_type": "stream",
     "text": [
      "Epoch 30, Loss 0.0679\n",
      "Training Accuracy: 0.9378, Testing Accuracy: 0.9521\n",
      "\n"
     ]
    },
    {
     "name": "stdout",
     "output_type": "stream",
     "text": [
      "Epoch 40, Loss 0.0613\n",
      "Training Accuracy: 0.9419, Testing Accuracy: 0.9551\n",
      "\n"
     ]
    },
    {
     "name": "stdout",
     "output_type": "stream",
     "text": [
      "Epoch 50, Loss 0.0569\n",
      "Training Accuracy: 0.9457, Testing Accuracy: 0.9556\n",
      "\n"
     ]
    },
    {
     "name": "stdout",
     "output_type": "stream",
     "text": [
      "Epoch 60, Loss 0.0536\n",
      "Training Accuracy: 0.9478, Testing Accuracy: 0.9592\n",
      "\n"
     ]
    },
    {
     "name": "stdout",
     "output_type": "stream",
     "text": [
      "Epoch 70, Loss 0.051\n",
      "Training Accuracy: 0.9498, Testing Accuracy: 0.9612\n",
      "\n"
     ]
    },
    {
     "name": "stdout",
     "output_type": "stream",
     "text": [
      "Epoch 80, Loss 0.049\n",
      "Training Accuracy: 0.9511, Testing Accuracy: 0.9617\n",
      "\n"
     ]
    },
    {
     "name": "stdout",
     "output_type": "stream",
     "text": [
      "Epoch 90, Loss 0.0473\n",
      "Training Accuracy: 0.9523, Testing Accuracy: 0.9637\n",
      "\n"
     ]
    },
    {
     "name": "stdout",
     "output_type": "stream",
     "text": [
      "Epoch 100, Loss 0.0459\n",
      "Training Accuracy: 0.9538, Testing Accuracy: 0.9637\n",
      "\n"
     ]
    },
    {
     "name": "stdout",
     "output_type": "stream",
     "text": [
      "Epoch 110, Loss 0.0447\n",
      "Training Accuracy: 0.9548, Testing Accuracy: 0.9642\n",
      "\n"
     ]
    },
    {
     "name": "stdout",
     "output_type": "stream",
     "text": [
      "Epoch 120, Loss 0.0437\n",
      "Training Accuracy: 0.9554, Testing Accuracy: 0.9642\n",
      "\n"
     ]
    },
    {
     "name": "stdout",
     "output_type": "stream",
     "text": [
      "Epoch 130, Loss 0.0427\n",
      "Training Accuracy: 0.9564, Testing Accuracy: 0.9652\n",
      "\n"
     ]
    },
    {
     "name": "stdout",
     "output_type": "stream",
     "text": [
      "Epoch 140, Loss 0.0419\n",
      "Training Accuracy: 0.9570, Testing Accuracy: 0.9657\n",
      "\n"
     ]
    },
    {
     "name": "stdout",
     "output_type": "stream",
     "text": [
      "Epoch 150, Loss 0.0412\n",
      "Training Accuracy: 0.9576, Testing Accuracy: 0.9662\n",
      "\n"
     ]
    },
    {
     "name": "stdout",
     "output_type": "stream",
     "text": [
      "Epoch 160, Loss 0.0405\n",
      "Training Accuracy: 0.9580, Testing Accuracy: 0.9667\n",
      "\n"
     ]
    },
    {
     "name": "stdout",
     "output_type": "stream",
     "text": [
      "Epoch 170, Loss 0.0399\n",
      "Training Accuracy: 0.9586, Testing Accuracy: 0.9667\n",
      "\n"
     ]
    },
    {
     "name": "stdout",
     "output_type": "stream",
     "text": [
      "Epoch 180, Loss 0.0394\n",
      "Training Accuracy: 0.9589, Testing Accuracy: 0.9667\n",
      "\n"
     ]
    },
    {
     "name": "stdout",
     "output_type": "stream",
     "text": [
      "Epoch 190, Loss 0.0388\n",
      "Training Accuracy: 0.9589, Testing Accuracy: 0.9677\n",
      "\n"
     ]
    },
    {
     "name": "stdout",
     "output_type": "stream",
     "text": [
      "Epoch 200, Loss 0.0384\n",
      "Training Accuracy: 0.9594, Testing Accuracy: 0.9672\n",
      "\n"
     ]
    },
    {
     "name": "stdout",
     "output_type": "stream",
     "text": [
      "Epoch 210, Loss 0.0379\n",
      "Training Accuracy: 0.9595, Testing Accuracy: 0.9677\n",
      "\n"
     ]
    },
    {
     "name": "stdout",
     "output_type": "stream",
     "text": [
      "Epoch 220, Loss 0.0375\n",
      "Training Accuracy: 0.9596, Testing Accuracy: 0.9677\n",
      "\n"
     ]
    },
    {
     "name": "stdout",
     "output_type": "stream",
     "text": [
      "Epoch 230, Loss 0.0372\n",
      "Training Accuracy: 0.9601, Testing Accuracy: 0.9677\n",
      "\n"
     ]
    },
    {
     "name": "stdout",
     "output_type": "stream",
     "text": [
      "Epoch 240, Loss 0.0368\n",
      "Training Accuracy: 0.9603, Testing Accuracy: 0.9677\n",
      "\n"
     ]
    },
    {
     "data": {
      "text/plain": [
       "0.010250712325455606"
      ]
     },
     "execution_count": 23,
     "metadata": {},
     "output_type": "execute_result"
    }
   ],
   "source": [
    "lr_learner.train_loop(dl)"
   ]
  },
  {
   "cell_type": "code",
   "execution_count": 24,
   "id": "ca410940",
   "metadata": {
    "execution": {
     "iopub.execute_input": "2022-05-05T10:13:28.030065Z",
     "iopub.status.busy": "2022-05-05T10:13:28.029359Z",
     "iopub.status.idle": "2022-05-05T10:13:28.337654Z",
     "shell.execute_reply": "2022-05-05T10:13:28.336526Z"
    },
    "papermill": {
     "duration": 0.371259,
     "end_time": "2022-05-05T10:13:28.337808",
     "exception": false,
     "start_time": "2022-05-05T10:13:27.966549",
     "status": "completed"
    },
    "tags": []
   },
   "outputs": [
    {
     "data": {
      "text/plain": [
       "<matplotlib.legend.Legend at 0x7fea78346b38>"
      ]
     },
     "execution_count": 24,
     "metadata": {},
     "output_type": "execute_result"
    },
    {
     "data": {
      "image/png": "[encoded data removed]",
      "text/plain": [
       "<Figure size 1080x720 with 1 Axes>"
      ]
     },
     "metadata": {
      "needs_background": "light"
     },
     "output_type": "display_data"
    }
   ],
   "source": [
    "#comparing the results of NN and LR\n",
    "plt.figure(figsize=(15,10))\n",
    "\n",
    "# Neural Network plots\n",
    "plt.plot(acc_nn.accuracies, 'r-', label = \"Training Accuracies - NN\")\n",
    "plt.plot(acc_nn.test_accuracies, 'g-', label = \"Testing Accuracies - NN\")\n",
    "\n",
    "# Logistic Regression plots\n",
    "plt.plot(acc_lr.accuracies, 'k-', label = \"Training Accuracies - LR\")\n",
    "plt.plot(acc_lr.test_accuracies, 'b-', label = \"Testing Accuracies - LR\")\n",
    "plt.legend()"
   ]
  },
  {
   "cell_type": "markdown",
   "id": "80dfb35c",
   "metadata": {
    "papermill": {
     "duration": 0.056007,
     "end_time": "2022-05-05T10:13:28.451579",
     "exception": false,
     "start_time": "2022-05-05T10:13:28.395572",
     "status": "completed"
    },
    "tags": []
   },
   "source": [
    "#### Plotting the outputs of this layer of the NN.\n"
   ]
  },
  {
   "cell_type": "code",
   "execution_count": 25,
   "id": "45eb2ff5",
   "metadata": {
    "execution": {
     "iopub.execute_input": "2022-05-05T10:13:28.574307Z",
     "iopub.status.busy": "2022-05-05T10:13:28.572983Z",
     "iopub.status.idle": "2022-05-05T10:13:28.607870Z",
     "shell.execute_reply": "2022-05-05T10:13:28.608478Z"
    },
    "papermill": {
     "duration": 0.097435,
     "end_time": "2022-05-05T10:13:28.608676",
     "exception": false,
     "start_time": "2022-05-05T10:13:28.511241",
     "status": "completed"
    },
    "tags": []
   },
   "outputs": [],
   "source": [
    "new_model = Model(layers[:-2])\n",
    "testing_plot = new_model(testing_data_x)"
   ]
  },
  {
   "cell_type": "code",
   "execution_count": 26,
   "id": "4c0a5485",
   "metadata": {
    "execution": {
     "iopub.execute_input": "2022-05-05T10:13:28.732756Z",
     "iopub.status.busy": "2022-05-05T10:13:28.732028Z",
     "iopub.status.idle": "2022-05-05T10:13:29.008382Z",
     "shell.execute_reply": "2022-05-05T10:13:29.008905Z"
    },
    "papermill": {
     "duration": 0.341962,
     "end_time": "2022-05-05T10:13:29.009094",
     "exception": false,
     "start_time": "2022-05-05T10:13:28.667132",
     "status": "completed"
    },
    "tags": []
   },
   "outputs": [
    {
     "data": {
      "text/plain": [
       "Text(0.5, 1.0, 'Outputs')"
      ]
     },
     "execution_count": 26,
     "metadata": {},
     "output_type": "execute_result"
    },
    {
     "data": {
      "image/png": "[encoded data removed]",
      "text/plain": [
       "<Figure size 576x504 with 1 Axes>"
      ]
     },
     "metadata": {
      "needs_background": "light"
     },
     "output_type": "display_data"
    }
   ],
   "source": [
    "# Plotting the scatter plot of points and color coding by class\n",
    "plt.figure(figsize=(8,7))\n",
    "plt.scatter(testing_plot[:,0], testing_plot[:,1], alpha = 0.1, c = y_test.ravel());\n",
    "plt.title('Outputs')"
   ]
  },
  {
   "cell_type": "markdown",
   "id": "a74fcf8f",
   "metadata": {
    "papermill": {
     "duration": 0.057807,
     "end_time": "2022-05-05T10:13:29.125582",
     "exception": false,
     "start_time": "2022-05-05T10:13:29.067775",
     "status": "completed"
    },
    "tags": []
   },
   "source": [
    "Probability contours"
   ]
  },
  {
   "cell_type": "code",
   "execution_count": 27,
   "id": "d0afc8e3",
   "metadata": {
    "execution": {
     "iopub.execute_input": "2022-05-05T10:13:29.299545Z",
     "iopub.status.busy": "2022-05-05T10:13:29.298935Z",
     "iopub.status.idle": "2022-05-05T10:13:29.315706Z",
     "shell.execute_reply": "2022-05-05T10:13:29.315195Z"
    },
    "papermill": {
     "duration": 0.08689,
     "end_time": "2022-05-05T10:13:29.315866",
     "exception": false,
     "start_time": "2022-05-05T10:13:29.228976",
     "status": "completed"
    },
    "tags": []
   },
   "outputs": [],
   "source": [
    "model_prob = Model(layers[-2:]) "
   ]
  },
  {
   "cell_type": "code",
   "execution_count": 28,
   "id": "9b96e238",
   "metadata": {
    "execution": {
     "iopub.execute_input": "2022-05-05T10:13:29.447311Z",
     "iopub.status.busy": "2022-05-05T10:13:29.446530Z",
     "iopub.status.idle": "2022-05-05T10:13:29.462476Z",
     "shell.execute_reply": "2022-05-05T10:13:29.463083Z"
    },
    "papermill": {
     "duration": 0.086366,
     "end_time": "2022-05-05T10:13:29.463281",
     "exception": false,
     "start_time": "2022-05-05T10:13:29.376915",
     "status": "completed"
    },
    "tags": []
   },
   "outputs": [],
   "source": [
    "#creating the x and y ranges according to the above generated plot.\n",
    "x_range = np.linspace(-4, 1, 100) \n",
    "y_range = np.linspace(-6, 6, 100) \n",
    "x_grid, y_grid = np.meshgrid(x_range, y_range) # x_grid and y_grig are of size 100 X 100\n",
    "\n",
    "# converting x_grid and y_grid to continuous arrays\n",
    "x_gridflat = np.ravel(x_grid)\n",
    "y_gridflat = np.ravel(y_grid)\n",
    "\n",
    "# The last layer of the current model takes two columns as input. Hence transpose of np.vstack() is required.\n",
    "X = np.vstack((x_gridflat, y_gridflat)).T\n",
    "\n",
    "prob_contour = model_prob(X).reshape(100,100) "
   ]
  },
  {
   "cell_type": "code",
   "execution_count": 29,
   "id": "da72499a",
   "metadata": {
    "execution": {
     "iopub.execute_input": "2022-05-05T10:13:29.590235Z",
     "iopub.status.busy": "2022-05-05T10:13:29.589586Z",
     "iopub.status.idle": "2022-05-05T10:13:29.913099Z",
     "shell.execute_reply": "2022-05-05T10:13:29.912509Z"
    },
    "papermill": {
     "duration": 0.393366,
     "end_time": "2022-05-05T10:13:29.913298",
     "exception": false,
     "start_time": "2022-05-05T10:13:29.519932",
     "status": "completed"
    },
    "tags": []
   },
   "outputs": [
    {
     "data": {
      "image/png": "[encoded data removed]",
      "text/plain": [
       "<Figure size 720x648 with 1 Axes>"
      ]
     },
     "metadata": {
      "needs_background": "light"
     },
     "output_type": "display_data"
    }
   ],
   "source": [
    "plt.figure(figsize=(10,9))\n",
    "plt.scatter(testing_plot[:,0], testing_plot[:,1], alpha = 0.1, c = y_test.ravel())\n",
    "contours = plt.contour(x_grid,y_grid,prob_contour)\n",
    "plt.title('Probability Contours')\n",
    "plt.clabel(contours, inline = True );"
   ]
  },
  {
   "cell_type": "code",
   "execution_count": null,
   "id": "e81b4ac7",
   "metadata": {
    "papermill": {
     "duration": 0.056164,
     "end_time": "2022-05-05T10:13:30.029255",
     "exception": false,
     "start_time": "2022-05-05T10:13:29.973091",
     "status": "completed"
    },
    "tags": []
   },
   "outputs": [],
   "source": []
  }
 ],
 "metadata": {
  "kernelspec": {
   "display_name": "Python 3",
   "language": "python",
   "name": "python3"
  },
  "language_info": {
   "codemirror_mode": {
    "name": "ipython",
    "version": 3
   },
   "file_extension": ".py",
   "mimetype": "text/x-python",
   "name": "python",
   "nbconvert_exporter": "python",
   "pygments_lexer": "ipython3",
   "version": "3.6.15"
  },
  "papermill": {
   "default_parameters": {},
   "duration": 177.115628,
   "end_time": "2022-05-05T10:13:30.505851",
   "environment_variables": {},
   "exception": null,
   "input_path": "2020-08-11-part2.ipynb",
   "output_path": "2020-08-11-part2.ipynb",
   "parameters": {},
   "start_time": "2022-05-05T10:10:33.390223",
   "version": "2.3.3"
  }
 },
 "nbformat": 4,
 "nbformat_minor": 5
}