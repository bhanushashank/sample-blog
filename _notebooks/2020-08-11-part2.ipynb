{
 "cells": [
  {
   "cell_type": "markdown",
   "id": "98380cd3",
   "metadata": {
    "papermill": {
     "duration": 0.034316,
     "end_time": "2022-08-13T10:10:26.042509",
     "exception": false,
     "start_time": "2022-08-13T10:10:26.008193",
     "status": "completed"
    },
    "tags": []
   },
   "source": [
    "# Distinguish Your Own Digits (DYOD)"
   ]
  },
  {
   "cell_type": "markdown",
   "id": "ef31240d",
   "metadata": {
    "papermill": {
     "duration": 0.027633,
     "end_time": "2022-08-13T10:10:26.098327",
     "exception": false,
     "start_time": "2022-08-13T10:10:26.070694",
     "status": "completed"
    },
    "tags": []
   },
   "source": [
    "You are going to write a classifier that distinguishes between the number 3 and number 8."
   ]
  },
  {
   "cell_type": "code",
   "execution_count": 1,
   "id": "b15c8646",
   "metadata": {
    "execution": {
     "iopub.execute_input": "2022-08-13T10:10:26.166175Z",
     "iopub.status.busy": "2022-08-13T10:10:26.165449Z",
     "iopub.status.idle": "2022-08-13T10:10:26.178069Z",
     "shell.execute_reply": "2022-08-13T10:10:26.177491Z"
    },
    "papermill": {
     "duration": 0.05295,
     "end_time": "2022-08-13T10:10:26.178210",
     "exception": false,
     "start_time": "2022-08-13T10:10:26.125260",
     "status": "completed"
    },
    "tags": []
   },
   "outputs": [],
   "source": [
    "%load_ext autoreload\n",
    "%autoreload 2"
   ]
  },
  {
   "cell_type": "code",
   "execution_count": 2,
   "id": "22ef38dc",
   "metadata": {
    "execution": {
     "iopub.execute_input": "2022-08-13T10:10:26.239195Z",
     "iopub.status.busy": "2022-08-13T10:10:26.238469Z",
     "iopub.status.idle": "2022-08-13T10:10:26.836316Z",
     "shell.execute_reply": "2022-08-13T10:10:26.835099Z"
    },
    "papermill": {
     "duration": 0.63089,
     "end_time": "2022-08-13T10:10:26.836479",
     "exception": false,
     "start_time": "2022-08-13T10:10:26.205589",
     "status": "completed"
    },
    "tags": []
   },
   "outputs": [],
   "source": [
    "%matplotlib inline\n",
    "import numpy as np\n",
    "import matplotlib.pyplot as plt\n",
    "import pandas as pd"
   ]
  },
  {
   "cell_type": "markdown",
   "id": "ba036198",
   "metadata": {
    "papermill": {
     "duration": 0.027341,
     "end_time": "2022-08-13T10:10:26.891207",
     "exception": false,
     "start_time": "2022-08-13T10:10:26.863866",
     "status": "completed"
    },
    "tags": []
   },
   "source": [
    "From the command line run `pip install mnist`. This is a library that will help you bring down the mnist dataset. If you run this from a notebook, you need to put  `!pip install mnist` in a cell by itself."
   ]
  },
  {
   "cell_type": "code",
   "execution_count": 3,
   "id": "bb6ad8a1",
   "metadata": {
    "execution": {
     "iopub.execute_input": "2022-08-13T10:10:26.951036Z",
     "iopub.status.busy": "2022-08-13T10:10:26.950357Z",
     "iopub.status.idle": "2022-08-13T10:10:28.776180Z",
     "shell.execute_reply": "2022-08-13T10:10:28.775228Z"
    },
    "papermill": {
     "duration": 1.858547,
     "end_time": "2022-08-13T10:10:28.776398",
     "exception": false,
     "start_time": "2022-08-13T10:10:26.917851",
     "status": "completed"
    },
    "tags": []
   },
   "outputs": [
    {
     "name": "stdout",
     "output_type": "stream",
     "text": [
      "Collecting mnist\r\n"
     ]
    },
    {
     "name": "stdout",
     "output_type": "stream",
     "text": [
      "  Downloading mnist-0.2.2-py2.py3-none-any.whl (3.5 kB)\r\n",
      "Requirement already satisfied: numpy in /opt/hostedtoolcache/Python/3.6.15/x64/lib/python3.6/site-packages (from mnist) (1.19.5)\r\n"
     ]
    },
    {
     "name": "stdout",
     "output_type": "stream",
     "text": [
      "Installing collected packages: mnist\r\n"
     ]
    },
    {
     "name": "stdout",
     "output_type": "stream",
     "text": [
      "Successfully installed mnist-0.2.2\r\n"
     ]
    }
   ],
   "source": [
    "!pip install mnist"
   ]
  },
  {
   "cell_type": "markdown",
   "id": "69df9c9a",
   "metadata": {
    "papermill": {
     "duration": 0.027255,
     "end_time": "2022-08-13T10:10:28.832078",
     "exception": false,
     "start_time": "2022-08-13T10:10:28.804823",
     "status": "completed"
    },
    "tags": []
   },
   "source": [
    "## Preparing the Data"
   ]
  },
  {
   "cell_type": "code",
   "execution_count": 4,
   "id": "7f69d806",
   "metadata": {
    "execution": {
     "iopub.execute_input": "2022-08-13T10:10:28.892260Z",
     "iopub.status.busy": "2022-08-13T10:10:28.891593Z",
     "iopub.status.idle": "2022-08-13T10:10:28.908332Z",
     "shell.execute_reply": "2022-08-13T10:10:28.907784Z"
    },
    "papermill": {
     "duration": 0.049206,
     "end_time": "2022-08-13T10:10:28.908458",
     "exception": false,
     "start_time": "2022-08-13T10:10:28.859252",
     "status": "completed"
    },
    "tags": []
   },
   "outputs": [],
   "source": [
    "import mnist"
   ]
  },
  {
   "cell_type": "code",
   "execution_count": 5,
   "id": "a411e44f",
   "metadata": {
    "execution": {
     "iopub.execute_input": "2022-08-13T10:10:28.973782Z",
     "iopub.status.busy": "2022-08-13T10:10:28.973035Z",
     "iopub.status.idle": "2022-08-13T10:10:29.536844Z",
     "shell.execute_reply": "2022-08-13T10:10:29.536132Z"
    },
    "papermill": {
     "duration": 0.600423,
     "end_time": "2022-08-13T10:10:29.536997",
     "exception": false,
     "start_time": "2022-08-13T10:10:28.936574",
     "status": "completed"
    },
    "tags": []
   },
   "outputs": [],
   "source": [
    "train_images = mnist.train_images()\n",
    "train_labels = mnist.train_labels()"
   ]
  },
  {
   "cell_type": "code",
   "execution_count": 6,
   "id": "dceab3a5",
   "metadata": {
    "execution": {
     "iopub.execute_input": "2022-08-13T10:10:29.598092Z",
     "iopub.status.busy": "2022-08-13T10:10:29.597390Z",
     "iopub.status.idle": "2022-08-13T10:10:29.616611Z",
     "shell.execute_reply": "2022-08-13T10:10:29.617126Z"
    },
    "papermill": {
     "duration": 0.052625,
     "end_time": "2022-08-13T10:10:29.617264",
     "exception": false,
     "start_time": "2022-08-13T10:10:29.564639",
     "status": "completed"
    },
    "tags": []
   },
   "outputs": [
    {
     "data": {
      "text/plain": [
       "((60000, 28, 28), (60000,))"
      ]
     },
     "execution_count": 6,
     "metadata": {},
     "output_type": "execute_result"
    }
   ],
   "source": [
    "train_images.shape, train_labels.shape"
   ]
  },
  {
   "cell_type": "code",
   "execution_count": 7,
   "id": "f50dc2bb",
   "metadata": {
    "execution": {
     "iopub.execute_input": "2022-08-13T10:10:29.678353Z",
     "iopub.status.busy": "2022-08-13T10:10:29.676211Z",
     "iopub.status.idle": "2022-08-13T10:10:29.869491Z",
     "shell.execute_reply": "2022-08-13T10:10:29.868831Z"
    },
    "papermill": {
     "duration": 0.225221,
     "end_time": "2022-08-13T10:10:29.869632",
     "exception": false,
     "start_time": "2022-08-13T10:10:29.644411",
     "status": "completed"
    },
    "tags": []
   },
   "outputs": [],
   "source": [
    "test_images = mnist.test_images()\n",
    "test_labels = mnist.test_labels()"
   ]
  },
  {
   "cell_type": "code",
   "execution_count": 8,
   "id": "fc38cf1b",
   "metadata": {
    "execution": {
     "iopub.execute_input": "2022-08-13T10:10:29.932777Z",
     "iopub.status.busy": "2022-08-13T10:10:29.932101Z",
     "iopub.status.idle": "2022-08-13T10:10:29.950092Z",
     "shell.execute_reply": "2022-08-13T10:10:29.950828Z"
    },
    "papermill": {
     "duration": 0.052442,
     "end_time": "2022-08-13T10:10:29.951003",
     "exception": false,
     "start_time": "2022-08-13T10:10:29.898561",
     "status": "completed"
    },
    "tags": []
   },
   "outputs": [
    {
     "data": {
      "text/plain": [
       "((10000, 28, 28), (10000,))"
      ]
     },
     "execution_count": 8,
     "metadata": {},
     "output_type": "execute_result"
    }
   ],
   "source": [
    "test_images.shape, test_labels.shape"
   ]
  },
  {
   "cell_type": "code",
   "execution_count": 9,
   "id": "f9ed8fe0",
   "metadata": {
    "execution": {
     "iopub.execute_input": "2022-08-13T10:10:30.026267Z",
     "iopub.status.busy": "2022-08-13T10:10:30.023378Z",
     "iopub.status.idle": "2022-08-13T10:10:30.195564Z",
     "shell.execute_reply": "2022-08-13T10:10:30.194643Z"
    },
    "papermill": {
     "duration": 0.208182,
     "end_time": "2022-08-13T10:10:30.195707",
     "exception": false,
     "start_time": "2022-08-13T10:10:29.987525",
     "status": "completed"
    },
    "tags": []
   },
   "outputs": [
    {
     "name": "stdout",
     "output_type": "stream",
     "text": [
      "2\n"
     ]
    },
    {
     "data": {
      "text/plain": [
       "<matplotlib.image.AxesImage at 0x7f2e33870550>"
      ]
     },
     "execution_count": 9,
     "metadata": {},
     "output_type": "execute_result"
    },
    {
     "data": {
      "image/png": "[encoded data removed]",
      "text/plain": [
       "<Figure size 432x288 with 1 Axes>"
      ]
     },
     "metadata": {
      "needs_background": "light"
     },
     "output_type": "display_data"
    }
   ],
   "source": [
    "image_index = 7776 # You may select anything up to 60,000\n",
    "print(train_labels[image_index]) \n",
    "plt.imshow(train_images[image_index], cmap='Greys')"
   ]
  },
  {
   "cell_type": "markdown",
   "id": "a8d2388d",
   "metadata": {
    "papermill": {
     "duration": 0.030487,
     "end_time": "2022-08-13T10:10:30.256450",
     "exception": false,
     "start_time": "2022-08-13T10:10:30.225963",
     "status": "completed"
    },
    "tags": []
   },
   "source": [
    "## Filter data to get 3 and 8 out"
   ]
  },
  {
   "cell_type": "code",
   "execution_count": 10,
   "id": "776f7fc7",
   "metadata": {
    "execution": {
     "iopub.execute_input": "2022-08-13T10:10:30.320790Z",
     "iopub.status.busy": "2022-08-13T10:10:30.320117Z",
     "iopub.status.idle": "2022-08-13T10:10:30.339340Z",
     "shell.execute_reply": "2022-08-13T10:10:30.338524Z"
    },
    "papermill": {
     "duration": 0.053372,
     "end_time": "2022-08-13T10:10:30.339490",
     "exception": false,
     "start_time": "2022-08-13T10:10:30.286118",
     "status": "completed"
    },
    "tags": []
   },
   "outputs": [],
   "source": [
    "train_filter = np.where((train_labels == 3 ) | (train_labels == 8))\n",
    "test_filter = np.where((test_labels == 3) | (test_labels == 8))\n",
    "X_train, y_train = train_images[train_filter], train_labels[train_filter]\n",
    "X_test, y_test = test_images[test_filter], test_labels[test_filter]"
   ]
  },
  {
   "cell_type": "markdown",
   "id": "948f0b7e",
   "metadata": {
    "papermill": {
     "duration": 0.029345,
     "end_time": "2022-08-13T10:10:30.399059",
     "exception": false,
     "start_time": "2022-08-13T10:10:30.369714",
     "status": "completed"
    },
    "tags": []
   },
   "source": [
    "We normalize the pizel values in the 0 to 1 range"
   ]
  },
  {
   "cell_type": "code",
   "execution_count": 11,
   "id": "ee4c2166",
   "metadata": {
    "execution": {
     "iopub.execute_input": "2022-08-13T10:10:30.463854Z",
     "iopub.status.busy": "2022-08-13T10:10:30.463164Z",
     "iopub.status.idle": "2022-08-13T10:10:30.515830Z",
     "shell.execute_reply": "2022-08-13T10:10:30.515143Z"
    },
    "papermill": {
     "duration": 0.087489,
     "end_time": "2022-08-13T10:10:30.515983",
     "exception": false,
     "start_time": "2022-08-13T10:10:30.428494",
     "status": "completed"
    },
    "tags": []
   },
   "outputs": [],
   "source": [
    "X_train = X_train/255.\n",
    "X_test = X_test/255."
   ]
  },
  {
   "cell_type": "markdown",
   "id": "ddcf4fab",
   "metadata": {
    "papermill": {
     "duration": 0.029381,
     "end_time": "2022-08-13T10:10:30.575538",
     "exception": false,
     "start_time": "2022-08-13T10:10:30.546157",
     "status": "completed"
    },
    "tags": []
   },
   "source": [
    "And setup the labels as 1 (when the digit is 3) and 0 (when the digit is 8)"
   ]
  },
  {
   "cell_type": "code",
   "execution_count": 12,
   "id": "7dc908f2",
   "metadata": {
    "execution": {
     "iopub.execute_input": "2022-08-13T10:10:30.643194Z",
     "iopub.status.busy": "2022-08-13T10:10:30.642466Z",
     "iopub.status.idle": "2022-08-13T10:10:30.657008Z",
     "shell.execute_reply": "2022-08-13T10:10:30.656442Z"
    },
    "papermill": {
     "duration": 0.052641,
     "end_time": "2022-08-13T10:10:30.657136",
     "exception": false,
     "start_time": "2022-08-13T10:10:30.604495",
     "status": "completed"
    },
    "tags": []
   },
   "outputs": [],
   "source": [
    "y_train = 1*(y_train==3)\n",
    "y_test = 1*(y_test==3)"
   ]
  },
  {
   "cell_type": "code",
   "execution_count": 13,
   "id": "01e4e969",
   "metadata": {
    "execution": {
     "iopub.execute_input": "2022-08-13T10:10:30.721110Z",
     "iopub.status.busy": "2022-08-13T10:10:30.720435Z",
     "iopub.status.idle": "2022-08-13T10:10:30.736534Z",
     "shell.execute_reply": "2022-08-13T10:10:30.737057Z"
    },
    "papermill": {
     "duration": 0.050325,
     "end_time": "2022-08-13T10:10:30.737195",
     "exception": false,
     "start_time": "2022-08-13T10:10:30.686870",
     "status": "completed"
    },
    "tags": []
   },
   "outputs": [
    {
     "data": {
      "text/plain": [
       "((11982, 28, 28), (1984, 28, 28))"
      ]
     },
     "execution_count": 13,
     "metadata": {},
     "output_type": "execute_result"
    }
   ],
   "source": [
    "X_train.shape, X_test.shape"
   ]
  },
  {
   "cell_type": "markdown",
   "id": "5ccf3f85",
   "metadata": {
    "papermill": {
     "duration": 0.029402,
     "end_time": "2022-08-13T10:10:30.796411",
     "exception": false,
     "start_time": "2022-08-13T10:10:30.767009",
     "status": "completed"
    },
    "tags": []
   },
   "source": [
    "We reshape the data to flatten the image pixels into a set of features or co-variates:"
   ]
  },
  {
   "cell_type": "code",
   "execution_count": 14,
   "id": "5286a4a3",
   "metadata": {
    "execution": {
     "iopub.execute_input": "2022-08-13T10:10:30.862640Z",
     "iopub.status.busy": "2022-08-13T10:10:30.861951Z",
     "iopub.status.idle": "2022-08-13T10:10:30.879265Z",
     "shell.execute_reply": "2022-08-13T10:10:30.878727Z"
    },
    "papermill": {
     "duration": 0.052955,
     "end_time": "2022-08-13T10:10:30.879399",
     "exception": false,
     "start_time": "2022-08-13T10:10:30.826444",
     "status": "completed"
    },
    "tags": []
   },
   "outputs": [
    {
     "data": {
      "text/plain": [
       "((11982, 784), (1984, 784))"
      ]
     },
     "execution_count": 14,
     "metadata": {},
     "output_type": "execute_result"
    }
   ],
   "source": [
    "X_train = X_train.reshape(X_train.shape[0], -1)\n",
    "X_test = X_test.reshape(X_test.shape[0], -1)\n",
    "X_train.shape, X_test.shape"
   ]
  },
  {
   "cell_type": "code",
   "execution_count": 15,
   "id": "73c5f88a",
   "metadata": {
    "execution": {
     "iopub.execute_input": "2022-08-13T10:10:30.949709Z",
     "iopub.status.busy": "2022-08-13T10:10:30.948930Z",
     "iopub.status.idle": "2022-08-13T10:10:30.968778Z",
     "shell.execute_reply": "2022-08-13T10:10:30.968236Z"
    },
    "papermill": {
     "duration": 0.059297,
     "end_time": "2022-08-13T10:10:30.968898",
     "exception": false,
     "start_time": "2022-08-13T10:10:30.909601",
     "status": "completed"
    },
    "tags": []
   },
   "outputs": [],
   "source": [
    "#Impoting functions from 'Kudzu'\n",
    "from kudzu.model import Model\n",
    "from kudzu.train import Learner\n",
    "from kudzu.optim import GD\n",
    "from kudzu.data import Data, Sampler,Dataloader\n",
    "\n",
    "from kudzu.callbacks import AccCallback\n",
    "from kudzu.callbacks import ClfCallback\n",
    "\n",
    "from kudzu.loss import MSE\n",
    "\n",
    "from kudzu.layer import Sigmoid,Relu\n",
    "from kudzu.layer import Affine"
   ]
  },
  {
   "cell_type": "markdown",
   "id": "bc01172a",
   "metadata": {
    "papermill": {
     "duration": 0.030134,
     "end_time": "2022-08-13T10:10:31.029418",
     "exception": false,
     "start_time": "2022-08-13T10:10:30.999284",
     "status": "completed"
    },
    "tags": []
   },
   "source": [
    "### Let us create a `Config` class, to store important parameters. \n",
    "This class essentially plays the role of a dictionary."
   ]
  },
  {
   "cell_type": "code",
   "execution_count": 16,
   "id": "978281aa",
   "metadata": {
    "execution": {
     "iopub.execute_input": "2022-08-13T10:10:31.094250Z",
     "iopub.status.busy": "2022-08-13T10:10:31.093545Z",
     "iopub.status.idle": "2022-08-13T10:10:31.108251Z",
     "shell.execute_reply": "2022-08-13T10:10:31.108799Z"
    },
    "papermill": {
     "duration": 0.04939,
     "end_time": "2022-08-13T10:10:31.108940",
     "exception": false,
     "start_time": "2022-08-13T10:10:31.059550",
     "status": "completed"
    },
    "tags": []
   },
   "outputs": [],
   "source": [
    "class Config:\n",
    "    pass\n",
    "config = Config()\n",
    "config.lr = 0.001\n",
    "config.num_epochs = 250\n",
    "config.bs = 50"
   ]
  },
  {
   "cell_type": "markdown",
   "id": "1385fa59",
   "metadata": {
    "papermill": {
     "duration": 0.030441,
     "end_time": "2022-08-13T10:10:31.169544",
     "exception": false,
     "start_time": "2022-08-13T10:10:31.139103",
     "status": "completed"
    },
    "tags": []
   },
   "source": [
    "### Running Models with the Training data\n",
    "Details about the network layers:\n",
    "- A first affine layer has 784 inputs and does 100 affine transforms. These are followed by a Relu\n",
    "- A second affine layer has 100 inputs from the 100 activations of the past layer, and does 100 affine transforms. These are followed by a Relu\n",
    "- A third affine layer has 100 activations and does 2 affine transformations to create an embedding for visualization. There is no non-linearity here.\n",
    "- A final \"logistic regression\" which has an affine transform from 2 inputs to 1 output, which is squeezed through a sigmoid.\n"
   ]
  },
  {
   "cell_type": "code",
   "execution_count": 17,
   "id": "2b9c66db",
   "metadata": {
    "execution": {
     "iopub.execute_input": "2022-08-13T10:10:31.235277Z",
     "iopub.status.busy": "2022-08-13T10:10:31.234605Z",
     "iopub.status.idle": "2022-08-13T10:10:31.249099Z",
     "shell.execute_reply": "2022-08-13T10:10:31.248537Z"
    },
    "papermill": {
     "duration": 0.049194,
     "end_time": "2022-08-13T10:10:31.249224",
     "exception": false,
     "start_time": "2022-08-13T10:10:31.200030",
     "status": "completed"
    },
    "tags": []
   },
   "outputs": [],
   "source": [
    "data = Data(X_train, y_train.reshape(-1,1))\n",
    "sampler = Sampler(data, config.bs, shuffle=True)\n",
    "\n",
    "dl = Dataloader(data, sampler)\n",
    "\n",
    "opt = GD(config.lr)\n",
    "loss = MSE()"
   ]
  },
  {
   "cell_type": "code",
   "execution_count": 18,
   "id": "b275e4c2",
   "metadata": {
    "execution": {
     "iopub.execute_input": "2022-08-13T10:10:31.315876Z",
     "iopub.status.busy": "2022-08-13T10:10:31.315151Z",
     "iopub.status.idle": "2022-08-13T10:10:31.329045Z",
     "shell.execute_reply": "2022-08-13T10:10:31.328517Z"
    },
    "papermill": {
     "duration": 0.049541,
     "end_time": "2022-08-13T10:10:31.329176",
     "exception": false,
     "start_time": "2022-08-13T10:10:31.279635",
     "status": "completed"
    },
    "tags": []
   },
   "outputs": [],
   "source": [
    "training_data_x = X_train\n",
    "testing_data_x = X_test\n",
    "training_data_y = y_train.reshape(-1,1)\n",
    "testing_data_y = y_test.reshape(-1,1)"
   ]
  },
  {
   "cell_type": "code",
   "execution_count": 19,
   "id": "76951160",
   "metadata": {
    "execution": {
     "iopub.execute_input": "2022-08-13T10:10:31.398044Z",
     "iopub.status.busy": "2022-08-13T10:10:31.397309Z",
     "iopub.status.idle": "2022-08-13T10:10:31.414812Z",
     "shell.execute_reply": "2022-08-13T10:10:31.414149Z"
    },
    "papermill": {
     "duration": 0.055648,
     "end_time": "2022-08-13T10:10:31.414938",
     "exception": false,
     "start_time": "2022-08-13T10:10:31.359290",
     "status": "completed"
    },
    "tags": []
   },
   "outputs": [
    {
     "name": "stdout",
     "output_type": "stream",
     "text": [
      "xavier\n",
      "xavier\n",
      "xavier\n",
      "xavier\n",
      "xavier\n"
     ]
    }
   ],
   "source": [
    "layers = [Affine(\"first\", 784, 100), Relu(\"first\"), Affine(\"second\", 100, 100), Relu(\"second\"), Affine(\"third\", 100, 2), Affine(\"last\", 2, 1), Sigmoid(\"last\")]\n",
    "model_nn = Model(layers)\n",
    "model_lr = Model([Affine(\"logits\", 784, 1), Sigmoid(\"sigmoid\")])"
   ]
  },
  {
   "cell_type": "code",
   "execution_count": 20,
   "id": "6eede77a",
   "metadata": {
    "execution": {
     "iopub.execute_input": "2022-08-13T10:10:31.484979Z",
     "iopub.status.busy": "2022-08-13T10:10:31.484303Z",
     "iopub.status.idle": "2022-08-13T10:10:31.497944Z",
     "shell.execute_reply": "2022-08-13T10:10:31.497419Z"
    },
    "papermill": {
     "duration": 0.052202,
     "end_time": "2022-08-13T10:10:31.498057",
     "exception": false,
     "start_time": "2022-08-13T10:10:31.445855",
     "status": "completed"
    },
    "tags": []
   },
   "outputs": [],
   "source": [
    "nn_learner = Learner(loss, model_nn, opt, config.num_epochs)\n",
    "acc_nn = ClfCallback(nn_learner, config.bs, training_data_x , testing_data_x, training_data_y, testing_data_y)\n",
    "nn_learner.set_callbacks([acc_nn])"
   ]
  },
  {
   "cell_type": "code",
   "execution_count": 21,
   "id": "877b6cc7",
   "metadata": {
    "execution": {
     "iopub.execute_input": "2022-08-13T10:10:31.562952Z",
     "iopub.status.busy": "2022-08-13T10:10:31.562284Z",
     "iopub.status.idle": "2022-08-13T10:10:31.578616Z",
     "shell.execute_reply": "2022-08-13T10:10:31.578078Z"
    },
    "papermill": {
     "duration": 0.05088,
     "end_time": "2022-08-13T10:10:31.578739",
     "exception": false,
     "start_time": "2022-08-13T10:10:31.527859",
     "status": "completed"
    },
    "tags": []
   },
   "outputs": [],
   "source": [
    "lr_learner = Learner(loss, model_lr, opt, config.num_epochs)\n",
    "acc_lr = ClfCallback(lr_learner, config.bs, training_data_x , testing_data_x, training_data_y, testing_data_y)\n",
    "lr_learner.set_callbacks([acc_lr])"
   ]
  },
  {
   "cell_type": "code",
   "execution_count": 22,
   "id": "d9b133c3",
   "metadata": {
    "execution": {
     "iopub.execute_input": "2022-08-13T10:10:31.643936Z",
     "iopub.status.busy": "2022-08-13T10:10:31.643384Z",
     "iopub.status.idle": "2022-08-13T10:11:58.273222Z",
     "shell.execute_reply": "2022-08-13T10:11:58.274221Z"
    },
    "papermill": {
     "duration": 86.665673,
     "end_time": "2022-08-13T10:11:58.274388",
     "exception": false,
     "start_time": "2022-08-13T10:10:31.608715",
     "status": "completed"
    },
    "tags": []
   },
   "outputs": [
    {
     "name": "stdout",
     "output_type": "stream",
     "text": [
      "Epoch 0, Loss 0.2412\n",
      "Training Accuracy: 0.6978, Testing Accuracy: 0.7132\n",
      "\n"
     ]
    },
    {
     "name": "stdout",
     "output_type": "stream",
     "text": [
      "Epoch 10, Loss 0.0782\n",
      "Training Accuracy: 0.9218, Testing Accuracy: 0.9360\n",
      "\n"
     ]
    },
    {
     "name": "stdout",
     "output_type": "stream",
     "text": [
      "Epoch 20, Loss 0.0514\n",
      "Training Accuracy: 0.9463, Testing Accuracy: 0.9546\n",
      "\n"
     ]
    },
    {
     "name": "stdout",
     "output_type": "stream",
     "text": [
      "Epoch 30, Loss 0.0418\n",
      "Training Accuracy: 0.9533, Testing Accuracy: 0.9607\n",
      "\n"
     ]
    },
    {
     "name": "stdout",
     "output_type": "stream",
     "text": [
      "Epoch 40, Loss 0.0369\n",
      "Training Accuracy: 0.9576, Testing Accuracy: 0.9627\n",
      "\n"
     ]
    },
    {
     "name": "stdout",
     "output_type": "stream",
     "text": [
      "Epoch 50, Loss 0.0338\n",
      "Training Accuracy: 0.9607, Testing Accuracy: 0.9637\n",
      "\n"
     ]
    },
    {
     "name": "stdout",
     "output_type": "stream",
     "text": [
      "Epoch 60, Loss 0.0316\n",
      "Training Accuracy: 0.9626, Testing Accuracy: 0.9652\n",
      "\n"
     ]
    },
    {
     "name": "stdout",
     "output_type": "stream",
     "text": [
      "Epoch 70, Loss 0.03\n",
      "Training Accuracy: 0.9647, Testing Accuracy: 0.9657\n",
      "\n"
     ]
    },
    {
     "name": "stdout",
     "output_type": "stream",
     "text": [
      "Epoch 80, Loss 0.0286\n",
      "Training Accuracy: 0.9662, Testing Accuracy: 0.9657\n",
      "\n"
     ]
    },
    {
     "name": "stdout",
     "output_type": "stream",
     "text": [
      "Epoch 90, Loss 0.0275\n",
      "Training Accuracy: 0.9683, Testing Accuracy: 0.9667\n",
      "\n"
     ]
    },
    {
     "name": "stdout",
     "output_type": "stream",
     "text": [
      "Epoch 100, Loss 0.0266\n",
      "Training Accuracy: 0.9695, Testing Accuracy: 0.9682\n",
      "\n"
     ]
    },
    {
     "name": "stdout",
     "output_type": "stream",
     "text": [
      "Epoch 110, Loss 0.0257\n",
      "Training Accuracy: 0.9700, Testing Accuracy: 0.9693\n",
      "\n"
     ]
    },
    {
     "name": "stdout",
     "output_type": "stream",
     "text": [
      "Epoch 120, Loss 0.025\n",
      "Training Accuracy: 0.9701, Testing Accuracy: 0.9693\n",
      "\n"
     ]
    },
    {
     "name": "stdout",
     "output_type": "stream",
     "text": [
      "Epoch 130, Loss 0.0243\n",
      "Training Accuracy: 0.9707, Testing Accuracy: 0.9703\n",
      "\n"
     ]
    },
    {
     "name": "stdout",
     "output_type": "stream",
     "text": [
      "Epoch 140, Loss 0.0237\n",
      "Training Accuracy: 0.9715, Testing Accuracy: 0.9708\n",
      "\n"
     ]
    },
    {
     "name": "stdout",
     "output_type": "stream",
     "text": [
      "Epoch 150, Loss 0.0231\n",
      "Training Accuracy: 0.9730, Testing Accuracy: 0.9718\n",
      "\n"
     ]
    },
    {
     "name": "stdout",
     "output_type": "stream",
     "text": [
      "Epoch 160, Loss 0.0226\n",
      "Training Accuracy: 0.9746, Testing Accuracy: 0.9718\n",
      "\n"
     ]
    },
    {
     "name": "stdout",
     "output_type": "stream",
     "text": [
      "Epoch 170, Loss 0.0221\n",
      "Training Accuracy: 0.9749, Testing Accuracy: 0.9723\n",
      "\n"
     ]
    },
    {
     "name": "stdout",
     "output_type": "stream",
     "text": [
      "Epoch 180, Loss 0.0216\n",
      "Training Accuracy: 0.9755, Testing Accuracy: 0.9728\n",
      "\n"
     ]
    },
    {
     "name": "stdout",
     "output_type": "stream",
     "text": [
      "Epoch 190, Loss 0.0212\n",
      "Training Accuracy: 0.9763, Testing Accuracy: 0.9728\n",
      "\n"
     ]
    },
    {
     "name": "stdout",
     "output_type": "stream",
     "text": [
      "Epoch 200, Loss 0.0207\n",
      "Training Accuracy: 0.9769, Testing Accuracy: 0.9728\n",
      "\n"
     ]
    },
    {
     "name": "stdout",
     "output_type": "stream",
     "text": [
      "Epoch 210, Loss 0.0203\n",
      "Training Accuracy: 0.9770, Testing Accuracy: 0.9733\n",
      "\n"
     ]
    },
    {
     "name": "stdout",
     "output_type": "stream",
     "text": [
      "Epoch 220, Loss 0.02\n",
      "Training Accuracy: 0.9774, Testing Accuracy: 0.9738\n",
      "\n"
     ]
    },
    {
     "name": "stdout",
     "output_type": "stream",
     "text": [
      "Epoch 230, Loss 0.0196\n",
      "Training Accuracy: 0.9777, Testing Accuracy: 0.9738\n",
      "\n"
     ]
    },
    {
     "name": "stdout",
     "output_type": "stream",
     "text": [
      "Epoch 240, Loss 0.0192\n",
      "Training Accuracy: 0.9785, Testing Accuracy: 0.9738\n",
      "\n"
     ]
    },
    {
     "data": {
      "text/plain": [
       "0.0151190840002544"
      ]
     },
     "execution_count": 22,
     "metadata": {},
     "output_type": "execute_result"
    }
   ],
   "source": [
    "nn_learner.train_loop(dl)"
   ]
  },
  {
   "cell_type": "code",
   "execution_count": 23,
   "id": "e0163366",
   "metadata": {
    "execution": {
     "iopub.execute_input": "2022-08-13T10:11:58.358978Z",
     "iopub.status.busy": "2022-08-13T10:11:58.358325Z",
     "iopub.status.idle": "2022-08-13T10:12:13.824817Z",
     "shell.execute_reply": "2022-08-13T10:12:13.825743Z"
    },
    "papermill": {
     "duration": 15.514308,
     "end_time": "2022-08-13T10:12:13.825914",
     "exception": false,
     "start_time": "2022-08-13T10:11:58.311606",
     "status": "completed"
    },
    "tags": []
   },
   "outputs": [
    {
     "name": "stdout",
     "output_type": "stream",
     "text": [
      "Epoch 0, Loss 0.2487\n",
      "Training Accuracy: 0.6629, Testing Accuracy: 0.6532\n",
      "\n"
     ]
    },
    {
     "name": "stdout",
     "output_type": "stream",
     "text": [
      "Epoch 10, Loss 0.1021\n",
      "Training Accuracy: 0.9175, Testing Accuracy: 0.9239\n",
      "\n"
     ]
    },
    {
     "name": "stdout",
     "output_type": "stream",
     "text": [
      "Epoch 20, Loss 0.078\n",
      "Training Accuracy: 0.9327, Testing Accuracy: 0.9405\n",
      "\n"
     ]
    },
    {
     "name": "stdout",
     "output_type": "stream",
     "text": [
      "Epoch 30, Loss 0.0671\n",
      "Training Accuracy: 0.9408, Testing Accuracy: 0.9466\n",
      "\n"
     ]
    },
    {
     "name": "stdout",
     "output_type": "stream",
     "text": [
      "Epoch 40, Loss 0.0607\n",
      "Training Accuracy: 0.9444, Testing Accuracy: 0.9511\n",
      "\n"
     ]
    },
    {
     "name": "stdout",
     "output_type": "stream",
     "text": [
      "Epoch 50, Loss 0.0563\n",
      "Training Accuracy: 0.9473, Testing Accuracy: 0.9536\n",
      "\n"
     ]
    },
    {
     "name": "stdout",
     "output_type": "stream",
     "text": [
      "Epoch 60, Loss 0.0531\n",
      "Training Accuracy: 0.9488, Testing Accuracy: 0.9561\n",
      "\n"
     ]
    },
    {
     "name": "stdout",
     "output_type": "stream",
     "text": [
      "Epoch 70, Loss 0.0506\n",
      "Training Accuracy: 0.9507, Testing Accuracy: 0.9597\n",
      "\n"
     ]
    },
    {
     "name": "stdout",
     "output_type": "stream",
     "text": [
      "Epoch 80, Loss 0.0486\n",
      "Training Accuracy: 0.9522, Testing Accuracy: 0.9607\n",
      "\n"
     ]
    },
    {
     "name": "stdout",
     "output_type": "stream",
     "text": [
      "Epoch 90, Loss 0.047\n",
      "Training Accuracy: 0.9533, Testing Accuracy: 0.9612\n",
      "\n"
     ]
    },
    {
     "name": "stdout",
     "output_type": "stream",
     "text": [
      "Epoch 100, Loss 0.0456\n",
      "Training Accuracy: 0.9543, Testing Accuracy: 0.9622\n",
      "\n"
     ]
    },
    {
     "name": "stdout",
     "output_type": "stream",
     "text": [
      "Epoch 110, Loss 0.0444\n",
      "Training Accuracy: 0.9549, Testing Accuracy: 0.9632\n",
      "\n"
     ]
    },
    {
     "name": "stdout",
     "output_type": "stream",
     "text": [
      "Epoch 120, Loss 0.0434\n",
      "Training Accuracy: 0.9551, Testing Accuracy: 0.9642\n",
      "\n"
     ]
    },
    {
     "name": "stdout",
     "output_type": "stream",
     "text": [
      "Epoch 130, Loss 0.0425\n",
      "Training Accuracy: 0.9559, Testing Accuracy: 0.9652\n",
      "\n"
     ]
    },
    {
     "name": "stdout",
     "output_type": "stream",
     "text": [
      "Epoch 140, Loss 0.0417\n",
      "Training Accuracy: 0.9567, Testing Accuracy: 0.9652\n",
      "\n"
     ]
    },
    {
     "name": "stdout",
     "output_type": "stream",
     "text": [
      "Epoch 150, Loss 0.041\n",
      "Training Accuracy: 0.9572, Testing Accuracy: 0.9652\n",
      "\n"
     ]
    },
    {
     "name": "stdout",
     "output_type": "stream",
     "text": [
      "Epoch 160, Loss 0.0403\n",
      "Training Accuracy: 0.9576, Testing Accuracy: 0.9657\n",
      "\n"
     ]
    },
    {
     "name": "stdout",
     "output_type": "stream",
     "text": [
      "Epoch 170, Loss 0.0397\n",
      "Training Accuracy: 0.9582, Testing Accuracy: 0.9657\n",
      "\n"
     ]
    },
    {
     "name": "stdout",
     "output_type": "stream",
     "text": [
      "Epoch 180, Loss 0.0392\n",
      "Training Accuracy: 0.9585, Testing Accuracy: 0.9652\n",
      "\n"
     ]
    },
    {
     "name": "stdout",
     "output_type": "stream",
     "text": [
      "Epoch 190, Loss 0.0387\n",
      "Training Accuracy: 0.9590, Testing Accuracy: 0.9657\n",
      "\n"
     ]
    },
    {
     "name": "stdout",
     "output_type": "stream",
     "text": [
      "Epoch 200, Loss 0.0382\n",
      "Training Accuracy: 0.9598, Testing Accuracy: 0.9657\n",
      "\n"
     ]
    },
    {
     "name": "stdout",
     "output_type": "stream",
     "text": [
      "Epoch 210, Loss 0.0378\n",
      "Training Accuracy: 0.9601, Testing Accuracy: 0.9662\n",
      "\n"
     ]
    },
    {
     "name": "stdout",
     "output_type": "stream",
     "text": [
      "Epoch 220, Loss 0.0374\n",
      "Training Accuracy: 0.9604, Testing Accuracy: 0.9662\n",
      "\n"
     ]
    },
    {
     "name": "stdout",
     "output_type": "stream",
     "text": [
      "Epoch 230, Loss 0.037\n",
      "Training Accuracy: 0.9607, Testing Accuracy: 0.9667\n",
      "\n"
     ]
    },
    {
     "name": "stdout",
     "output_type": "stream",
     "text": [
      "Epoch 240, Loss 0.0366\n",
      "Training Accuracy: 0.9612, Testing Accuracy: 0.9672\n",
      "\n"
     ]
    },
    {
     "data": {
      "text/plain": [
       "0.01503225915850091"
      ]
     },
     "execution_count": 23,
     "metadata": {},
     "output_type": "execute_result"
    }
   ],
   "source": [
    "lr_learner.train_loop(dl)"
   ]
  },
  {
   "cell_type": "code",
   "execution_count": 24,
   "id": "ca410940",
   "metadata": {
    "execution": {
     "iopub.execute_input": "2022-08-13T10:12:13.927079Z",
     "iopub.status.busy": "2022-08-13T10:12:13.926386Z",
     "iopub.status.idle": "2022-08-13T10:12:14.181668Z",
     "shell.execute_reply": "2022-08-13T10:12:14.180682Z"
    },
    "papermill": {
     "duration": 0.310874,
     "end_time": "2022-08-13T10:12:14.181817",
     "exception": false,
     "start_time": "2022-08-13T10:12:13.870943",
     "status": "completed"
    },
    "tags": []
   },
   "outputs": [
    {
     "data": {
      "text/plain": [
       "<matplotlib.legend.Legend at 0x7f2e26c29b38>"
      ]
     },
     "execution_count": 24,
     "metadata": {},
     "output_type": "execute_result"
    },
    {
     "data": {
      "image/png": "[encoded data removed]",
      "text/plain": [
       "<Figure size 1080x720 with 1 Axes>"
      ]
     },
     "metadata": {
      "needs_background": "light"
     },
     "output_type": "display_data"
    }
   ],
   "source": [
    "#comparing the results of NN and LR\n",
    "plt.figure(figsize=(15,10))\n",
    "\n",
    "# Neural Network plots\n",
    "plt.plot(acc_nn.accuracies, 'r-', label = \"Training Accuracies - NN\")\n",
    "plt.plot(acc_nn.test_accuracies, 'g-', label = \"Testing Accuracies - NN\")\n",
    "\n",
    "# Logistic Regression plots\n",
    "plt.plot(acc_lr.accuracies, 'k-', label = \"Training Accuracies - LR\")\n",
    "plt.plot(acc_lr.test_accuracies, 'b-', label = \"Testing Accuracies - LR\")\n",
    "plt.legend()"
   ]
  },
  {
   "cell_type": "markdown",
   "id": "80dfb35c",
   "metadata": {
    "papermill": {
     "duration": 0.046884,
     "end_time": "2022-08-13T10:12:14.275723",
     "exception": false,
     "start_time": "2022-08-13T10:12:14.228839",
     "status": "completed"
    },
    "tags": []
   },
   "source": [
    "#### Plotting the outputs of this layer of the NN.\n"
   ]
  },
  {
   "cell_type": "code",
   "execution_count": 25,
   "id": "45eb2ff5",
   "metadata": {
    "execution": {
     "iopub.execute_input": "2022-08-13T10:12:14.375778Z",
     "iopub.status.busy": "2022-08-13T10:12:14.375051Z",
     "iopub.status.idle": "2022-08-13T10:12:14.396882Z",
     "shell.execute_reply": "2022-08-13T10:12:14.397807Z"
    },
    "papermill": {
     "duration": 0.075812,
     "end_time": "2022-08-13T10:12:14.397972",
     "exception": false,
     "start_time": "2022-08-13T10:12:14.322160",
     "status": "completed"
    },
    "tags": []
   },
   "outputs": [],
   "source": [
    "new_model = Model(layers[:-2])\n",
    "testing_plot = new_model(testing_data_x)"
   ]
  },
  {
   "cell_type": "code",
   "execution_count": 26,
   "id": "4c0a5485",
   "metadata": {
    "execution": {
     "iopub.execute_input": "2022-08-13T10:12:14.506901Z",
     "iopub.status.busy": "2022-08-13T10:12:14.506251Z",
     "iopub.status.idle": "2022-08-13T10:12:14.743807Z",
     "shell.execute_reply": "2022-08-13T10:12:14.744327Z"
    },
    "papermill": {
     "duration": 0.298444,
     "end_time": "2022-08-13T10:12:14.744484",
     "exception": false,
     "start_time": "2022-08-13T10:12:14.446040",
     "status": "completed"
    },
    "tags": []
   },
   "outputs": [
    {
     "data": {
      "text/plain": [
       "Text(0.5, 1.0, 'Outputs')"
      ]
     },
     "execution_count": 26,
     "metadata": {},
     "output_type": "execute_result"
    },
    {
     "data": {
      "image/png": "[encoded data removed]",
      "text/plain": [
       "<Figure size 576x504 with 1 Axes>"
      ]
     },
     "metadata": {
      "needs_background": "light"
     },
     "output_type": "display_data"
    }
   ],
   "source": [
    "# Plotting the scatter plot of points and color coding by class\n",
    "plt.figure(figsize=(8,7))\n",
    "plt.scatter(testing_plot[:,0], testing_plot[:,1], alpha = 0.1, c = y_test.ravel());\n",
    "plt.title('Outputs')"
   ]
  },
  {
   "cell_type": "markdown",
   "id": "a74fcf8f",
   "metadata": {
    "papermill": {
     "duration": 0.048745,
     "end_time": "2022-08-13T10:12:14.843881",
     "exception": false,
     "start_time": "2022-08-13T10:12:14.795136",
     "status": "completed"
    },
    "tags": []
   },
   "source": [
    "Probability contours"
   ]
  },
  {
   "cell_type": "code",
   "execution_count": 27,
   "id": "d0afc8e3",
   "metadata": {
    "execution": {
     "iopub.execute_input": "2022-08-13T10:12:14.978838Z",
     "iopub.status.busy": "2022-08-13T10:12:14.978155Z",
     "iopub.status.idle": "2022-08-13T10:12:14.991879Z",
     "shell.execute_reply": "2022-08-13T10:12:14.991309Z"
    },
    "papermill": {
     "duration": 0.070346,
     "end_time": "2022-08-13T10:12:14.992009",
     "exception": false,
     "start_time": "2022-08-13T10:12:14.921663",
     "status": "completed"
    },
    "tags": []
   },
   "outputs": [],
   "source": [
    "model_prob = Model(layers[-2:]) "
   ]
  },
  {
   "cell_type": "code",
   "execution_count": 28,
   "id": "9b96e238",
   "metadata": {
    "execution": {
     "iopub.execute_input": "2022-08-13T10:12:15.098808Z",
     "iopub.status.busy": "2022-08-13T10:12:15.098171Z",
     "iopub.status.idle": "2022-08-13T10:12:15.113187Z",
     "shell.execute_reply": "2022-08-13T10:12:15.113816Z"
    },
    "papermill": {
     "duration": 0.070971,
     "end_time": "2022-08-13T10:12:15.113976",
     "exception": false,
     "start_time": "2022-08-13T10:12:15.043005",
     "status": "completed"
    },
    "tags": []
   },
   "outputs": [],
   "source": [
    "#creating the x and y ranges according to the above generated plot.\n",
    "x_range = np.linspace(-4, 1, 100) \n",
    "y_range = np.linspace(-6, 6, 100) \n",
    "x_grid, y_grid = np.meshgrid(x_range, y_range) # x_grid and y_grig are of size 100 X 100\n",
    "\n",
    "# converting x_grid and y_grid to continuous arrays\n",
    "x_gridflat = np.ravel(x_grid)\n",
    "y_gridflat = np.ravel(y_grid)\n",
    "\n",
    "# The last layer of the current model takes two columns as input. Hence transpose of np.vstack() is required.\n",
    "X = np.vstack((x_gridflat, y_gridflat)).T\n",
    "\n",
    "prob_contour = model_prob(X).reshape(100,100) "
   ]
  },
  {
   "cell_type": "code",
   "execution_count": 29,
   "id": "da72499a",
   "metadata": {
    "execution": {
     "iopub.execute_input": "2022-08-13T10:12:15.227546Z",
     "iopub.status.busy": "2022-08-13T10:12:15.226851Z",
     "iopub.status.idle": "2022-08-13T10:12:15.516170Z",
     "shell.execute_reply": "2022-08-13T10:12:15.516702Z"
    },
    "papermill": {
     "duration": 0.350249,
     "end_time": "2022-08-13T10:12:15.516856",
     "exception": false,
     "start_time": "2022-08-13T10:12:15.166607",
     "status": "completed"
    },
    "tags": []
   },
   "outputs": [
    {
     "data": {
      "image/png": "[encoded data removed]",
      "text/plain": [
       "<Figure size 720x648 with 1 Axes>"
      ]
     },
     "metadata": {
      "needs_background": "light"
     },
     "output_type": "display_data"
    }
   ],
   "source": [
    "plt.figure(figsize=(10,9))\n",
    "plt.scatter(testing_plot[:,0], testing_plot[:,1], alpha = 0.1, c = y_test.ravel())\n",
    "contours = plt.contour(x_grid,y_grid,prob_contour)\n",
    "plt.title('Probability Contours')\n",
    "plt.clabel(contours, inline = True );"
   ]
  },
  {
   "cell_type": "code",
   "execution_count": null,
   "id": "e81b4ac7",
   "metadata": {
    "papermill": {
     "duration": 0.050746,
     "end_time": "2022-08-13T10:12:15.621577",
     "exception": false,
     "start_time": "2022-08-13T10:12:15.570831",
     "status": "completed"
    },
    "tags": []
   },
   "outputs": [],
   "source": []
  }
 ],
 "metadata": {
  "kernelspec": {
   "display_name": "Python 3",
   "language": "python",
   "name": "python3"
  },
  "language_info": {
   "codemirror_mode": {
    "name": "ipython",
    "version": 3
   },
   "file_extension": ".py",
   "mimetype": "text/x-python",
   "name": "python",
   "nbconvert_exporter": "python",
   "pygments_lexer": "ipython3",
   "version": "3.6.15"
  },
  "papermill": {
   "default_parameters": {},
   "duration": 111.373975,
   "end_time": "2022-08-13T10:12:16.093766",
   "environment_variables": {},
   "exception": null,
   "input_path": "2020-08-11-part2.ipynb",
   "output_path": "2020-08-11-part2.ipynb",
   "parameters": {},
   "start_time": "2022-08-13T10:10:24.719791",
   "version": "2.3.3"
  }
 },
 "nbformat": 4,
 "nbformat_minor": 5
}