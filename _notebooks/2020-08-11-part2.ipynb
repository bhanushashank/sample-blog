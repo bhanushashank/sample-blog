{
 "cells": [
  {
   "cell_type": "markdown",
   "id": "98380cd3",
   "metadata": {
    "papermill": {
     "duration": 0.033553,
     "end_time": "2021-08-21T20:06:33.441622",
     "exception": false,
     "start_time": "2021-08-21T20:06:33.408069",
     "status": "completed"
    },
    "tags": []
   },
   "source": [
    "# Distinguish Your Own Digits (DYOD)"
   ]
  },
  {
   "cell_type": "markdown",
   "id": "ef31240d",
   "metadata": {
    "papermill": {
     "duration": 0.027917,
     "end_time": "2021-08-21T20:06:33.499969",
     "exception": false,
     "start_time": "2021-08-21T20:06:33.472052",
     "status": "completed"
    },
    "tags": []
   },
   "source": [
    "You are going to write a classifier that distinguishes between the number 3 and number 8."
   ]
  },
  {
   "cell_type": "code",
   "execution_count": 1,
   "id": "b15c8646",
   "metadata": {
    "execution": {
     "iopub.execute_input": "2021-08-21T20:06:33.564662Z",
     "iopub.status.busy": "2021-08-21T20:06:33.564084Z",
     "iopub.status.idle": "2021-08-21T20:06:33.575179Z",
     "shell.execute_reply": "2021-08-21T20:06:33.574604Z"
    },
    "papermill": {
     "duration": 0.048276,
     "end_time": "2021-08-21T20:06:33.575306",
     "exception": false,
     "start_time": "2021-08-21T20:06:33.527030",
     "status": "completed"
    },
    "tags": []
   },
   "outputs": [],
   "source": [
    "%load_ext autoreload\n",
    "%autoreload 2"
   ]
  },
  {
   "cell_type": "code",
   "execution_count": 2,
   "id": "22ef38dc",
   "metadata": {
    "execution": {
     "iopub.execute_input": "2021-08-21T20:06:33.632645Z",
     "iopub.status.busy": "2021-08-21T20:06:33.632077Z",
     "iopub.status.idle": "2021-08-21T20:06:34.177170Z",
     "shell.execute_reply": "2021-08-21T20:06:34.176644Z"
    },
    "papermill": {
     "duration": 0.575304,
     "end_time": "2021-08-21T20:06:34.177304",
     "exception": false,
     "start_time": "2021-08-21T20:06:33.602000",
     "status": "completed"
    },
    "tags": []
   },
   "outputs": [],
   "source": [
    "%matplotlib inline\n",
    "import numpy as np\n",
    "import matplotlib.pyplot as plt\n",
    "import pandas as pd"
   ]
  },
  {
   "cell_type": "markdown",
   "id": "ba036198",
   "metadata": {
    "papermill": {
     "duration": 0.027586,
     "end_time": "2021-08-21T20:06:34.233123",
     "exception": false,
     "start_time": "2021-08-21T20:06:34.205537",
     "status": "completed"
    },
    "tags": []
   },
   "source": [
    "From the command line run `pip install mnist`. This is a library that will help you bring down the mnist dataset. If you run this from a notebook, you need to put  `!pip install mnist` in a cell by itself."
   ]
  },
  {
   "cell_type": "code",
   "execution_count": 3,
   "id": "bb6ad8a1",
   "metadata": {
    "execution": {
     "iopub.execute_input": "2021-08-21T20:06:34.304404Z",
     "iopub.status.busy": "2021-08-21T20:06:34.300599Z",
     "iopub.status.idle": "2021-08-21T20:06:36.125848Z",
     "shell.execute_reply": "2021-08-21T20:06:36.124984Z"
    },
    "papermill": {
     "duration": 1.866966,
     "end_time": "2021-08-21T20:06:36.125982",
     "exception": false,
     "start_time": "2021-08-21T20:06:34.259016",
     "status": "completed"
    },
    "tags": []
   },
   "outputs": [
    {
     "name": "stdout",
     "output_type": "stream",
     "text": [
      "Collecting mnist\r\n"
     ]
    },
    {
     "name": "stdout",
     "output_type": "stream",
     "text": [
      "  Downloading mnist-0.2.2-py2.py3-none-any.whl (3.5 kB)\r\n",
      "Requirement already satisfied: numpy in /opt/hostedtoolcache/Python/3.6.14/x64/lib/python3.6/site-packages (from mnist) (1.19.5)\r\n"
     ]
    },
    {
     "name": "stdout",
     "output_type": "stream",
     "text": [
      "Installing collected packages: mnist\r\n",
      "Successfully installed mnist-0.2.2\r\n"
     ]
    }
   ],
   "source": [
    "!pip install mnist"
   ]
  },
  {
   "cell_type": "markdown",
   "id": "69df9c9a",
   "metadata": {
    "papermill": {
     "duration": 0.02714,
     "end_time": "2021-08-21T20:06:36.182431",
     "exception": false,
     "start_time": "2021-08-21T20:06:36.155291",
     "status": "completed"
    },
    "tags": []
   },
   "source": [
    "## Preparing the Data"
   ]
  },
  {
   "cell_type": "code",
   "execution_count": 4,
   "id": "7f69d806",
   "metadata": {
    "execution": {
     "iopub.execute_input": "2021-08-21T20:06:36.252329Z",
     "iopub.status.busy": "2021-08-21T20:06:36.243874Z",
     "iopub.status.idle": "2021-08-21T20:06:36.258588Z",
     "shell.execute_reply": "2021-08-21T20:06:36.258068Z"
    },
    "papermill": {
     "duration": 0.049091,
     "end_time": "2021-08-21T20:06:36.258717",
     "exception": false,
     "start_time": "2021-08-21T20:06:36.209626",
     "status": "completed"
    },
    "tags": []
   },
   "outputs": [],
   "source": [
    "import mnist"
   ]
  },
  {
   "cell_type": "code",
   "execution_count": 5,
   "id": "a411e44f",
   "metadata": {
    "execution": {
     "iopub.execute_input": "2021-08-21T20:06:36.332371Z",
     "iopub.status.busy": "2021-08-21T20:06:36.326601Z",
     "iopub.status.idle": "2021-08-21T20:06:59.283462Z",
     "shell.execute_reply": "2021-08-21T20:06:59.282910Z"
    },
    "papermill": {
     "duration": 22.99605,
     "end_time": "2021-08-21T20:06:59.283604",
     "exception": false,
     "start_time": "2021-08-21T20:06:36.287554",
     "status": "completed"
    },
    "tags": []
   },
   "outputs": [],
   "source": [
    "train_images = mnist.train_images()\n",
    "train_labels = mnist.train_labels()"
   ]
  },
  {
   "cell_type": "code",
   "execution_count": 6,
   "id": "dceab3a5",
   "metadata": {
    "execution": {
     "iopub.execute_input": "2021-08-21T20:06:59.344010Z",
     "iopub.status.busy": "2021-08-21T20:06:59.343364Z",
     "iopub.status.idle": "2021-08-21T20:06:59.358182Z",
     "shell.execute_reply": "2021-08-21T20:06:59.358941Z"
    },
    "papermill": {
     "duration": 0.047041,
     "end_time": "2021-08-21T20:06:59.359069",
     "exception": false,
     "start_time": "2021-08-21T20:06:59.312028",
     "status": "completed"
    },
    "tags": []
   },
   "outputs": [
    {
     "data": {
      "text/plain": [
       "((60000, 28, 28), (60000,))"
      ]
     },
     "execution_count": 6,
     "metadata": {},
     "output_type": "execute_result"
    }
   ],
   "source": [
    "train_images.shape, train_labels.shape"
   ]
  },
  {
   "cell_type": "code",
   "execution_count": 7,
   "id": "f50dc2bb",
   "metadata": {
    "execution": {
     "iopub.execute_input": "2021-08-21T20:06:59.436735Z",
     "iopub.status.busy": "2021-08-21T20:06:59.425901Z",
     "iopub.status.idle": "2021-08-21T20:07:02.993533Z",
     "shell.execute_reply": "2021-08-21T20:07:02.992731Z"
    },
    "papermill": {
     "duration": 3.603776,
     "end_time": "2021-08-21T20:07:02.993720",
     "exception": false,
     "start_time": "2021-08-21T20:06:59.389944",
     "status": "completed"
    },
    "tags": []
   },
   "outputs": [],
   "source": [
    "test_images = mnist.test_images()\n",
    "test_labels = mnist.test_labels()"
   ]
  },
  {
   "cell_type": "code",
   "execution_count": 8,
   "id": "fc38cf1b",
   "metadata": {
    "execution": {
     "iopub.execute_input": "2021-08-21T20:07:03.060834Z",
     "iopub.status.busy": "2021-08-21T20:07:03.060201Z",
     "iopub.status.idle": "2021-08-21T20:07:03.074264Z",
     "shell.execute_reply": "2021-08-21T20:07:03.074867Z"
    },
    "papermill": {
     "duration": 0.048591,
     "end_time": "2021-08-21T20:07:03.075005",
     "exception": false,
     "start_time": "2021-08-21T20:07:03.026414",
     "status": "completed"
    },
    "tags": []
   },
   "outputs": [
    {
     "data": {
      "text/plain": [
       "((10000, 28, 28), (10000,))"
      ]
     },
     "execution_count": 8,
     "metadata": {},
     "output_type": "execute_result"
    }
   ],
   "source": [
    "test_images.shape, test_labels.shape"
   ]
  },
  {
   "cell_type": "code",
   "execution_count": 9,
   "id": "f9ed8fe0",
   "metadata": {
    "execution": {
     "iopub.execute_input": "2021-08-21T20:07:03.140574Z",
     "iopub.status.busy": "2021-08-21T20:07:03.138502Z",
     "iopub.status.idle": "2021-08-21T20:07:03.304087Z",
     "shell.execute_reply": "2021-08-21T20:07:03.304561Z"
    },
    "papermill": {
     "duration": 0.199992,
     "end_time": "2021-08-21T20:07:03.304713",
     "exception": false,
     "start_time": "2021-08-21T20:07:03.104721",
     "status": "completed"
    },
    "tags": []
   },
   "outputs": [
    {
     "name": "stdout",
     "output_type": "stream",
     "text": [
      "2\n"
     ]
    },
    {
     "data": {
      "text/plain": [
       "<matplotlib.image.AxesImage at 0x7f911749b940>"
      ]
     },
     "execution_count": 9,
     "metadata": {},
     "output_type": "execute_result"
    },
    {
     "data": {
      "image/png": "[encoded data removed]",
      "text/plain": [
       "<Figure size 432x288 with 1 Axes>"
      ]
     },
     "metadata": {
      "needs_background": "light"
     },
     "output_type": "display_data"
    }
   ],
   "source": [
    "image_index = 7776 # You may select anything up to 60,000\n",
    "print(train_labels[image_index]) \n",
    "plt.imshow(train_images[image_index], cmap='Greys')"
   ]
  },
  {
   "cell_type": "markdown",
   "id": "a8d2388d",
   "metadata": {
    "papermill": {
     "duration": 0.029158,
     "end_time": "2021-08-21T20:07:03.364560",
     "exception": false,
     "start_time": "2021-08-21T20:07:03.335402",
     "status": "completed"
    },
    "tags": []
   },
   "source": [
    "## Filter data to get 3 and 8 out"
   ]
  },
  {
   "cell_type": "code",
   "execution_count": 10,
   "id": "776f7fc7",
   "metadata": {
    "execution": {
     "iopub.execute_input": "2021-08-21T20:07:03.427830Z",
     "iopub.status.busy": "2021-08-21T20:07:03.427176Z",
     "iopub.status.idle": "2021-08-21T20:07:03.447280Z",
     "shell.execute_reply": "2021-08-21T20:07:03.446781Z"
    },
    "papermill": {
     "duration": 0.052535,
     "end_time": "2021-08-21T20:07:03.447411",
     "exception": false,
     "start_time": "2021-08-21T20:07:03.394876",
     "status": "completed"
    },
    "tags": []
   },
   "outputs": [],
   "source": [
    "train_filter = np.where((train_labels == 3 ) | (train_labels == 8))\n",
    "test_filter = np.where((test_labels == 3) | (test_labels == 8))\n",
    "X_train, y_train = train_images[train_filter], train_labels[train_filter]\n",
    "X_test, y_test = test_images[test_filter], test_labels[test_filter]"
   ]
  },
  {
   "cell_type": "markdown",
   "id": "948f0b7e",
   "metadata": {
    "papermill": {
     "duration": 0.030359,
     "end_time": "2021-08-21T20:07:03.507462",
     "exception": false,
     "start_time": "2021-08-21T20:07:03.477103",
     "status": "completed"
    },
    "tags": []
   },
   "source": [
    "We normalize the pizel values in the 0 to 1 range"
   ]
  },
  {
   "cell_type": "code",
   "execution_count": 11,
   "id": "ee4c2166",
   "metadata": {
    "execution": {
     "iopub.execute_input": "2021-08-21T20:07:03.568958Z",
     "iopub.status.busy": "2021-08-21T20:07:03.568384Z",
     "iopub.status.idle": "2021-08-21T20:07:03.629549Z",
     "shell.execute_reply": "2021-08-21T20:07:03.629034Z"
    },
    "papermill": {
     "duration": 0.092601,
     "end_time": "2021-08-21T20:07:03.629683",
     "exception": false,
     "start_time": "2021-08-21T20:07:03.537082",
     "status": "completed"
    },
    "tags": []
   },
   "outputs": [],
   "source": [
    "X_train = X_train/255.\n",
    "X_test = X_test/255."
   ]
  },
  {
   "cell_type": "markdown",
   "id": "ddcf4fab",
   "metadata": {
    "papermill": {
     "duration": 0.029714,
     "end_time": "2021-08-21T20:07:03.689888",
     "exception": false,
     "start_time": "2021-08-21T20:07:03.660174",
     "status": "completed"
    },
    "tags": []
   },
   "source": [
    "And setup the labels as 1 (when the digit is 3) and 0 (when the digit is 8)"
   ]
  },
  {
   "cell_type": "code",
   "execution_count": 12,
   "id": "7dc908f2",
   "metadata": {
    "execution": {
     "iopub.execute_input": "2021-08-21T20:07:03.771671Z",
     "iopub.status.busy": "2021-08-21T20:07:03.770546Z",
     "iopub.status.idle": "2021-08-21T20:07:03.773933Z",
     "shell.execute_reply": "2021-08-21T20:07:03.773443Z"
    },
    "papermill": {
     "duration": 0.054005,
     "end_time": "2021-08-21T20:07:03.774045",
     "exception": false,
     "start_time": "2021-08-21T20:07:03.720040",
     "status": "completed"
    },
    "tags": []
   },
   "outputs": [],
   "source": [
    "y_train = 1*(y_train==3)\n",
    "y_test = 1*(y_test==3)"
   ]
  },
  {
   "cell_type": "code",
   "execution_count": 13,
   "id": "01e4e969",
   "metadata": {
    "execution": {
     "iopub.execute_input": "2021-08-21T20:07:03.844804Z",
     "iopub.status.busy": "2021-08-21T20:07:03.839687Z",
     "iopub.status.idle": "2021-08-21T20:07:03.855990Z",
     "shell.execute_reply": "2021-08-21T20:07:03.855503Z"
    },
    "papermill": {
     "duration": 0.052344,
     "end_time": "2021-08-21T20:07:03.856104",
     "exception": false,
     "start_time": "2021-08-21T20:07:03.803760",
     "status": "completed"
    },
    "tags": []
   },
   "outputs": [
    {
     "data": {
      "text/plain": [
       "((11982, 28, 28), (1984, 28, 28))"
      ]
     },
     "execution_count": 13,
     "metadata": {},
     "output_type": "execute_result"
    }
   ],
   "source": [
    "X_train.shape, X_test.shape"
   ]
  },
  {
   "cell_type": "markdown",
   "id": "5ccf3f85",
   "metadata": {
    "papermill": {
     "duration": 0.030211,
     "end_time": "2021-08-21T20:07:03.916885",
     "exception": false,
     "start_time": "2021-08-21T20:07:03.886674",
     "status": "completed"
    },
    "tags": []
   },
   "source": [
    "We reshape the data to flatten the image pixels into a set of features or co-variates:"
   ]
  },
  {
   "cell_type": "code",
   "execution_count": 14,
   "id": "5286a4a3",
   "metadata": {
    "execution": {
     "iopub.execute_input": "2021-08-21T20:07:03.995225Z",
     "iopub.status.busy": "2021-08-21T20:07:03.988181Z",
     "iopub.status.idle": "2021-08-21T20:07:03.998553Z",
     "shell.execute_reply": "2021-08-21T20:07:03.997984Z"
    },
    "papermill": {
     "duration": 0.051432,
     "end_time": "2021-08-21T20:07:03.998666",
     "exception": false,
     "start_time": "2021-08-21T20:07:03.947234",
     "status": "completed"
    },
    "tags": []
   },
   "outputs": [
    {
     "data": {
      "text/plain": [
       "((11982, 784), (1984, 784))"
      ]
     },
     "execution_count": 14,
     "metadata": {},
     "output_type": "execute_result"
    }
   ],
   "source": [
    "X_train = X_train.reshape(X_train.shape[0], -1)\n",
    "X_test = X_test.reshape(X_test.shape[0], -1)\n",
    "X_train.shape, X_test.shape"
   ]
  },
  {
   "cell_type": "code",
   "execution_count": 15,
   "id": "73c5f88a",
   "metadata": {
    "execution": {
     "iopub.execute_input": "2021-08-21T20:07:04.077855Z",
     "iopub.status.busy": "2021-08-21T20:07:04.074510Z",
     "iopub.status.idle": "2021-08-21T20:07:04.090231Z",
     "shell.execute_reply": "2021-08-21T20:07:04.090993Z"
    },
    "papermill": {
     "duration": 0.061185,
     "end_time": "2021-08-21T20:07:04.091155",
     "exception": false,
     "start_time": "2021-08-21T20:07:04.029970",
     "status": "completed"
    },
    "tags": []
   },
   "outputs": [],
   "source": [
    "#Impoting functions from 'Kudzu'\n",
    "from kudzu.model import Model\n",
    "from kudzu.train import Learner\n",
    "from kudzu.optim import GD\n",
    "from kudzu.data import Data, Sampler,Dataloader\n",
    "\n",
    "from kudzu.callbacks import AccCallback\n",
    "from kudzu.callbacks import ClfCallback\n",
    "\n",
    "from kudzu.loss import MSE\n",
    "\n",
    "from kudzu.layer import Sigmoid,Relu\n",
    "from kudzu.layer import Affine"
   ]
  },
  {
   "cell_type": "markdown",
   "id": "bc01172a",
   "metadata": {
    "papermill": {
     "duration": 0.030147,
     "end_time": "2021-08-21T20:07:04.153880",
     "exception": false,
     "start_time": "2021-08-21T20:07:04.123733",
     "status": "completed"
    },
    "tags": []
   },
   "source": [
    "### Let us create a `Config` class, to store important parameters. \n",
    "This class essentially plays the role of a dictionary."
   ]
  },
  {
   "cell_type": "code",
   "execution_count": 16,
   "id": "978281aa",
   "metadata": {
    "execution": {
     "iopub.execute_input": "2021-08-21T20:07:04.225234Z",
     "iopub.status.busy": "2021-08-21T20:07:04.224501Z",
     "iopub.status.idle": "2021-08-21T20:07:04.231837Z",
     "shell.execute_reply": "2021-08-21T20:07:04.232338Z"
    },
    "papermill": {
     "duration": 0.047604,
     "end_time": "2021-08-21T20:07:04.232480",
     "exception": false,
     "start_time": "2021-08-21T20:07:04.184876",
     "status": "completed"
    },
    "tags": []
   },
   "outputs": [],
   "source": [
    "class Config:\n",
    "    pass\n",
    "config = Config()\n",
    "config.lr = 0.001\n",
    "config.num_epochs = 250\n",
    "config.bs = 50"
   ]
  },
  {
   "cell_type": "markdown",
   "id": "1385fa59",
   "metadata": {
    "papermill": {
     "duration": 0.032251,
     "end_time": "2021-08-21T20:07:04.298086",
     "exception": false,
     "start_time": "2021-08-21T20:07:04.265835",
     "status": "completed"
    },
    "tags": []
   },
   "source": [
    "### Running Models with the Training data\n",
    "Details about the network layers:\n",
    "- A first affine layer has 784 inputs and does 100 affine transforms. These are followed by a Relu\n",
    "- A second affine layer has 100 inputs from the 100 activations of the past layer, and does 100 affine transforms. These are followed by a Relu\n",
    "- A third affine layer has 100 activations and does 2 affine transformations to create an embedding for visualization. There is no non-linearity here.\n",
    "- A final \"logistic regression\" which has an affine transform from 2 inputs to 1 output, which is squeezed through a sigmoid.\n"
   ]
  },
  {
   "cell_type": "code",
   "execution_count": 17,
   "id": "2b9c66db",
   "metadata": {
    "execution": {
     "iopub.execute_input": "2021-08-21T20:07:04.369743Z",
     "iopub.status.busy": "2021-08-21T20:07:04.368600Z",
     "iopub.status.idle": "2021-08-21T20:07:04.381959Z",
     "shell.execute_reply": "2021-08-21T20:07:04.381413Z"
    },
    "papermill": {
     "duration": 0.053454,
     "end_time": "2021-08-21T20:07:04.382112",
     "exception": false,
     "start_time": "2021-08-21T20:07:04.328658",
     "status": "completed"
    },
    "tags": []
   },
   "outputs": [],
   "source": [
    "data = Data(X_train, y_train.reshape(-1,1))\n",
    "sampler = Sampler(data, config.bs, shuffle=True)\n",
    "\n",
    "dl = Dataloader(data, sampler)\n",
    "\n",
    "opt = GD(config.lr)\n",
    "loss = MSE()"
   ]
  },
  {
   "cell_type": "code",
   "execution_count": 18,
   "id": "b275e4c2",
   "metadata": {
    "execution": {
     "iopub.execute_input": "2021-08-21T20:07:04.467473Z",
     "iopub.status.busy": "2021-08-21T20:07:04.462173Z",
     "iopub.status.idle": "2021-08-21T20:07:04.470186Z",
     "shell.execute_reply": "2021-08-21T20:07:04.469411Z"
    },
    "papermill": {
     "duration": 0.055283,
     "end_time": "2021-08-21T20:07:04.470300",
     "exception": false,
     "start_time": "2021-08-21T20:07:04.415017",
     "status": "completed"
    },
    "tags": []
   },
   "outputs": [],
   "source": [
    "training_data_x = X_train\n",
    "testing_data_x = X_test\n",
    "training_data_y = y_train.reshape(-1,1)\n",
    "testing_data_y = y_test.reshape(-1,1)"
   ]
  },
  {
   "cell_type": "code",
   "execution_count": 19,
   "id": "76951160",
   "metadata": {
    "execution": {
     "iopub.execute_input": "2021-08-21T20:07:04.552584Z",
     "iopub.status.busy": "2021-08-21T20:07:04.551920Z",
     "iopub.status.idle": "2021-08-21T20:07:04.560136Z",
     "shell.execute_reply": "2021-08-21T20:07:04.559650Z"
    },
    "papermill": {
     "duration": 0.057813,
     "end_time": "2021-08-21T20:07:04.560251",
     "exception": false,
     "start_time": "2021-08-21T20:07:04.502438",
     "status": "completed"
    },
    "tags": []
   },
   "outputs": [
    {
     "name": "stdout",
     "output_type": "stream",
     "text": [
      "xavier\n",
      "xavier\n",
      "xavier\n",
      "xavier\n",
      "xavier\n"
     ]
    }
   ],
   "source": [
    "layers = [Affine(\"first\", 784, 100), Relu(\"first\"), Affine(\"second\", 100, 100), Relu(\"second\"), Affine(\"third\", 100, 2), Affine(\"last\", 2, 1), Sigmoid(\"last\")]\n",
    "model_nn = Model(layers)\n",
    "model_lr = Model([Affine(\"logits\", 784, 1), Sigmoid(\"sigmoid\")])"
   ]
  },
  {
   "cell_type": "code",
   "execution_count": 20,
   "id": "6eede77a",
   "metadata": {
    "execution": {
     "iopub.execute_input": "2021-08-21T20:07:04.629877Z",
     "iopub.status.busy": "2021-08-21T20:07:04.629268Z",
     "iopub.status.idle": "2021-08-21T20:07:04.639075Z",
     "shell.execute_reply": "2021-08-21T20:07:04.639695Z"
    },
    "papermill": {
     "duration": 0.049005,
     "end_time": "2021-08-21T20:07:04.639835",
     "exception": false,
     "start_time": "2021-08-21T20:07:04.590830",
     "status": "completed"
    },
    "tags": []
   },
   "outputs": [],
   "source": [
    "nn_learner = Learner(loss, model_nn, opt, config.num_epochs)\n",
    "acc_nn = ClfCallback(nn_learner, config.bs, training_data_x , testing_data_x, training_data_y, testing_data_y)\n",
    "nn_learner.set_callbacks([acc_nn])"
   ]
  },
  {
   "cell_type": "code",
   "execution_count": 21,
   "id": "877b6cc7",
   "metadata": {
    "execution": {
     "iopub.execute_input": "2021-08-21T20:07:04.705277Z",
     "iopub.status.busy": "2021-08-21T20:07:04.704675Z",
     "iopub.status.idle": "2021-08-21T20:07:04.716750Z",
     "shell.execute_reply": "2021-08-21T20:07:04.716265Z"
    },
    "papermill": {
     "duration": 0.047456,
     "end_time": "2021-08-21T20:07:04.716859",
     "exception": false,
     "start_time": "2021-08-21T20:07:04.669403",
     "status": "completed"
    },
    "tags": []
   },
   "outputs": [],
   "source": [
    "lr_learner = Learner(loss, model_lr, opt, config.num_epochs)\n",
    "acc_lr = ClfCallback(lr_learner, config.bs, training_data_x , testing_data_x, training_data_y, testing_data_y)\n",
    "lr_learner.set_callbacks([acc_lr])"
   ]
  },
  {
   "cell_type": "code",
   "execution_count": 22,
   "id": "d9b133c3",
   "metadata": {
    "execution": {
     "iopub.execute_input": "2021-08-21T20:07:04.802430Z",
     "iopub.status.busy": "2021-08-21T20:07:04.800327Z",
     "iopub.status.idle": "2021-08-21T20:09:06.243072Z",
     "shell.execute_reply": "2021-08-21T20:09:06.243860Z"
    },
    "papermill": {
     "duration": 121.495349,
     "end_time": "2021-08-21T20:09:06.244016",
     "exception": false,
     "start_time": "2021-08-21T20:07:04.748667",
     "status": "completed"
    },
    "tags": []
   },
   "outputs": [
    {
     "name": "stdout",
     "output_type": "stream",
     "text": [
      "Epoch 0, Loss 0.2346\n",
      "Training Accuracy: 0.7506, Testing Accuracy: 0.7626\n",
      "\n"
     ]
    },
    {
     "name": "stdout",
     "output_type": "stream",
     "text": [
      "Epoch 10, Loss 0.1292\n",
      "Training Accuracy: 0.8817, Testing Accuracy: 0.8947\n",
      "\n"
     ]
    },
    {
     "name": "stdout",
     "output_type": "stream",
     "text": [
      "Epoch 20, Loss 0.0741\n",
      "Training Accuracy: 0.9219, Testing Accuracy: 0.9304\n",
      "\n"
     ]
    },
    {
     "name": "stdout",
     "output_type": "stream",
     "text": [
      "Epoch 30, Loss 0.0539\n",
      "Training Accuracy: 0.9417, Testing Accuracy: 0.9516\n",
      "\n"
     ]
    },
    {
     "name": "stdout",
     "output_type": "stream",
     "text": [
      "Epoch 40, Loss 0.0443\n",
      "Training Accuracy: 0.9524, Testing Accuracy: 0.9612\n",
      "\n"
     ]
    },
    {
     "name": "stdout",
     "output_type": "stream",
     "text": [
      "Epoch 50, Loss 0.0388\n",
      "Training Accuracy: 0.9578, Testing Accuracy: 0.9622\n",
      "\n"
     ]
    },
    {
     "name": "stdout",
     "output_type": "stream",
     "text": [
      "Epoch 60, Loss 0.0353\n",
      "Training Accuracy: 0.9605, Testing Accuracy: 0.9667\n",
      "\n"
     ]
    },
    {
     "name": "stdout",
     "output_type": "stream",
     "text": [
      "Epoch 70, Loss 0.0328\n",
      "Training Accuracy: 0.9622, Testing Accuracy: 0.9698\n",
      "\n"
     ]
    },
    {
     "name": "stdout",
     "output_type": "stream",
     "text": [
      "Epoch 80, Loss 0.0309\n",
      "Training Accuracy: 0.9639, Testing Accuracy: 0.9713\n",
      "\n"
     ]
    },
    {
     "name": "stdout",
     "output_type": "stream",
     "text": [
      "Epoch 90, Loss 0.0293\n",
      "Training Accuracy: 0.9663, Testing Accuracy: 0.9713\n",
      "\n"
     ]
    },
    {
     "name": "stdout",
     "output_type": "stream",
     "text": [
      "Epoch 100, Loss 0.0281\n",
      "Training Accuracy: 0.9683, Testing Accuracy: 0.9713\n",
      "\n"
     ]
    },
    {
     "name": "stdout",
     "output_type": "stream",
     "text": [
      "Epoch 110, Loss 0.027\n",
      "Training Accuracy: 0.9695, Testing Accuracy: 0.9723\n",
      "\n"
     ]
    },
    {
     "name": "stdout",
     "output_type": "stream",
     "text": [
      "Epoch 120, Loss 0.026\n",
      "Training Accuracy: 0.9701, Testing Accuracy: 0.9723\n",
      "\n"
     ]
    },
    {
     "name": "stdout",
     "output_type": "stream",
     "text": [
      "Epoch 130, Loss 0.0252\n",
      "Training Accuracy: 0.9707, Testing Accuracy: 0.9718\n",
      "\n"
     ]
    },
    {
     "name": "stdout",
     "output_type": "stream",
     "text": [
      "Epoch 140, Loss 0.0244\n",
      "Training Accuracy: 0.9714, Testing Accuracy: 0.9718\n",
      "\n"
     ]
    },
    {
     "name": "stdout",
     "output_type": "stream",
     "text": [
      "Epoch 150, Loss 0.0237\n",
      "Training Accuracy: 0.9727, Testing Accuracy: 0.9723\n",
      "\n"
     ]
    },
    {
     "name": "stdout",
     "output_type": "stream",
     "text": [
      "Epoch 160, Loss 0.0231\n",
      "Training Accuracy: 0.9739, Testing Accuracy: 0.9723\n",
      "\n"
     ]
    },
    {
     "name": "stdout",
     "output_type": "stream",
     "text": [
      "Epoch 170, Loss 0.0225\n",
      "Training Accuracy: 0.9747, Testing Accuracy: 0.9723\n",
      "\n"
     ]
    },
    {
     "name": "stdout",
     "output_type": "stream",
     "text": [
      "Epoch 180, Loss 0.022\n",
      "Training Accuracy: 0.9756, Testing Accuracy: 0.9728\n",
      "\n"
     ]
    },
    {
     "name": "stdout",
     "output_type": "stream",
     "text": [
      "Epoch 190, Loss 0.0215\n",
      "Training Accuracy: 0.9763, Testing Accuracy: 0.9728\n",
      "\n"
     ]
    },
    {
     "name": "stdout",
     "output_type": "stream",
     "text": [
      "Epoch 200, Loss 0.021\n",
      "Training Accuracy: 0.9763, Testing Accuracy: 0.9728\n",
      "\n"
     ]
    },
    {
     "name": "stdout",
     "output_type": "stream",
     "text": [
      "Epoch 210, Loss 0.0205\n",
      "Training Accuracy: 0.9770, Testing Accuracy: 0.9738\n",
      "\n"
     ]
    },
    {
     "name": "stdout",
     "output_type": "stream",
     "text": [
      "Epoch 220, Loss 0.0201\n",
      "Training Accuracy: 0.9773, Testing Accuracy: 0.9738\n",
      "\n"
     ]
    },
    {
     "name": "stdout",
     "output_type": "stream",
     "text": [
      "Epoch 230, Loss 0.0197\n",
      "Training Accuracy: 0.9781, Testing Accuracy: 0.9733\n",
      "\n"
     ]
    },
    {
     "name": "stdout",
     "output_type": "stream",
     "text": [
      "Epoch 240, Loss 0.0193\n",
      "Training Accuracy: 0.9786, Testing Accuracy: 0.9733\n",
      "\n"
     ]
    },
    {
     "data": {
      "text/plain": [
       "0.0031988266660167167"
      ]
     },
     "execution_count": 22,
     "metadata": {},
     "output_type": "execute_result"
    }
   ],
   "source": [
    "nn_learner.train_loop(dl)"
   ]
  },
  {
   "cell_type": "code",
   "execution_count": 23,
   "id": "e0163366",
   "metadata": {
    "execution": {
     "iopub.execute_input": "2021-08-21T20:09:06.335691Z",
     "iopub.status.busy": "2021-08-21T20:09:06.335068Z",
     "iopub.status.idle": "2021-08-21T20:09:24.546220Z",
     "shell.execute_reply": "2021-08-21T20:09:24.547042Z"
    },
    "papermill": {
     "duration": 18.262766,
     "end_time": "2021-08-21T20:09:24.547204",
     "exception": false,
     "start_time": "2021-08-21T20:09:06.284438",
     "status": "completed"
    },
    "tags": []
   },
   "outputs": [
    {
     "name": "stdout",
     "output_type": "stream",
     "text": [
      "Epoch 0, Loss 0.2293\n",
      "Training Accuracy: 0.7270, Testing Accuracy: 0.7218\n",
      "\n"
     ]
    },
    {
     "name": "stdout",
     "output_type": "stream",
     "text": [
      "Epoch 10, Loss 0.1015\n",
      "Training Accuracy: 0.9092, Testing Accuracy: 0.9234\n",
      "\n"
     ]
    },
    {
     "name": "stdout",
     "output_type": "stream",
     "text": [
      "Epoch 20, Loss 0.0783\n",
      "Training Accuracy: 0.9275, Testing Accuracy: 0.9441\n",
      "\n"
     ]
    },
    {
     "name": "stdout",
     "output_type": "stream",
     "text": [
      "Epoch 30, Loss 0.0675\n",
      "Training Accuracy: 0.9363, Testing Accuracy: 0.9501\n",
      "\n"
     ]
    },
    {
     "name": "stdout",
     "output_type": "stream",
     "text": [
      "Epoch 40, Loss 0.061\n",
      "Training Accuracy: 0.9402, Testing Accuracy: 0.9541\n",
      "\n"
     ]
    },
    {
     "name": "stdout",
     "output_type": "stream",
     "text": [
      "Epoch 50, Loss 0.0565\n",
      "Training Accuracy: 0.9449, Testing Accuracy: 0.9592\n",
      "\n"
     ]
    },
    {
     "name": "stdout",
     "output_type": "stream",
     "text": [
      "Epoch 60, Loss 0.0533\n",
      "Training Accuracy: 0.9477, Testing Accuracy: 0.9597\n",
      "\n"
     ]
    },
    {
     "name": "stdout",
     "output_type": "stream",
     "text": [
      "Epoch 70, Loss 0.0508\n",
      "Training Accuracy: 0.9499, Testing Accuracy: 0.9612\n",
      "\n"
     ]
    },
    {
     "name": "stdout",
     "output_type": "stream",
     "text": [
      "Epoch 80, Loss 0.0488\n",
      "Training Accuracy: 0.9516, Testing Accuracy: 0.9632\n",
      "\n"
     ]
    },
    {
     "name": "stdout",
     "output_type": "stream",
     "text": [
      "Epoch 90, Loss 0.0471\n",
      "Training Accuracy: 0.9530, Testing Accuracy: 0.9652\n",
      "\n"
     ]
    },
    {
     "name": "stdout",
     "output_type": "stream",
     "text": [
      "Epoch 100, Loss 0.0457\n",
      "Training Accuracy: 0.9543, Testing Accuracy: 0.9647\n",
      "\n"
     ]
    },
    {
     "name": "stdout",
     "output_type": "stream",
     "text": [
      "Epoch 110, Loss 0.0445\n",
      "Training Accuracy: 0.9547, Testing Accuracy: 0.9642\n",
      "\n"
     ]
    },
    {
     "name": "stdout",
     "output_type": "stream",
     "text": [
      "Epoch 120, Loss 0.0435\n",
      "Training Accuracy: 0.9554, Testing Accuracy: 0.9647\n",
      "\n"
     ]
    },
    {
     "name": "stdout",
     "output_type": "stream",
     "text": [
      "Epoch 130, Loss 0.0426\n",
      "Training Accuracy: 0.9564, Testing Accuracy: 0.9657\n",
      "\n"
     ]
    },
    {
     "name": "stdout",
     "output_type": "stream",
     "text": [
      "Epoch 140, Loss 0.0418\n",
      "Training Accuracy: 0.9576, Testing Accuracy: 0.9657\n",
      "\n"
     ]
    },
    {
     "name": "stdout",
     "output_type": "stream",
     "text": [
      "Epoch 150, Loss 0.041\n",
      "Training Accuracy: 0.9584, Testing Accuracy: 0.9652\n",
      "\n"
     ]
    },
    {
     "name": "stdout",
     "output_type": "stream",
     "text": [
      "Epoch 160, Loss 0.0404\n",
      "Training Accuracy: 0.9588, Testing Accuracy: 0.9652\n",
      "\n"
     ]
    },
    {
     "name": "stdout",
     "output_type": "stream",
     "text": [
      "Epoch 170, Loss 0.0398\n",
      "Training Accuracy: 0.9590, Testing Accuracy: 0.9662\n",
      "\n"
     ]
    },
    {
     "name": "stdout",
     "output_type": "stream",
     "text": [
      "Epoch 180, Loss 0.0392\n",
      "Training Accuracy: 0.9600, Testing Accuracy: 0.9662\n",
      "\n"
     ]
    },
    {
     "name": "stdout",
     "output_type": "stream",
     "text": [
      "Epoch 190, Loss 0.0387\n",
      "Training Accuracy: 0.9599, Testing Accuracy: 0.9662\n",
      "\n"
     ]
    },
    {
     "name": "stdout",
     "output_type": "stream",
     "text": [
      "Epoch 200, Loss 0.0383\n",
      "Training Accuracy: 0.9603, Testing Accuracy: 0.9662\n",
      "\n"
     ]
    },
    {
     "name": "stdout",
     "output_type": "stream",
     "text": [
      "Epoch 210, Loss 0.0378\n",
      "Training Accuracy: 0.9604, Testing Accuracy: 0.9667\n",
      "\n"
     ]
    },
    {
     "name": "stdout",
     "output_type": "stream",
     "text": [
      "Epoch 220, Loss 0.0374\n",
      "Training Accuracy: 0.9604, Testing Accuracy: 0.9667\n",
      "\n"
     ]
    },
    {
     "name": "stdout",
     "output_type": "stream",
     "text": [
      "Epoch 230, Loss 0.0371\n",
      "Training Accuracy: 0.9608, Testing Accuracy: 0.9667\n",
      "\n"
     ]
    },
    {
     "name": "stdout",
     "output_type": "stream",
     "text": [
      "Epoch 240, Loss 0.0367\n",
      "Training Accuracy: 0.9610, Testing Accuracy: 0.9667\n",
      "\n"
     ]
    },
    {
     "data": {
      "text/plain": [
       "0.05572103454482226"
      ]
     },
     "execution_count": 23,
     "metadata": {},
     "output_type": "execute_result"
    }
   ],
   "source": [
    "lr_learner.train_loop(dl)"
   ]
  },
  {
   "cell_type": "code",
   "execution_count": 24,
   "id": "ca410940",
   "metadata": {
    "execution": {
     "iopub.execute_input": "2021-08-21T20:09:24.650086Z",
     "iopub.status.busy": "2021-08-21T20:09:24.649510Z",
     "iopub.status.idle": "2021-08-21T20:09:24.935045Z",
     "shell.execute_reply": "2021-08-21T20:09:24.934166Z"
    },
    "papermill": {
     "duration": 0.336944,
     "end_time": "2021-08-21T20:09:24.935179",
     "exception": false,
     "start_time": "2021-08-21T20:09:24.598235",
     "status": "completed"
    },
    "tags": []
   },
   "outputs": [
    {
     "data": {
      "text/plain": [
       "<matplotlib.legend.Legend at 0x7f9117001a20>"
      ]
     },
     "execution_count": 24,
     "metadata": {},
     "output_type": "execute_result"
    },
    {
     "data": {
      "image/png": "[encoded data removed]",
      "text/plain": [
       "<Figure size 1080x720 with 1 Axes>"
      ]
     },
     "metadata": {
      "needs_background": "light"
     },
     "output_type": "display_data"
    }
   ],
   "source": [
    "#comparing the results of NN and LR\n",
    "plt.figure(figsize=(15,10))\n",
    "\n",
    "# Neural Network plots\n",
    "plt.plot(acc_nn.accuracies, 'r-', label = \"Training Accuracies - NN\")\n",
    "plt.plot(acc_nn.test_accuracies, 'g-', label = \"Testing Accuracies - NN\")\n",
    "\n",
    "# Logistic Regression plots\n",
    "plt.plot(acc_lr.accuracies, 'k-', label = \"Training Accuracies - LR\")\n",
    "plt.plot(acc_lr.test_accuracies, 'b-', label = \"Testing Accuracies - LR\")\n",
    "plt.legend()"
   ]
  },
  {
   "cell_type": "markdown",
   "id": "80dfb35c",
   "metadata": {
    "papermill": {
     "duration": 0.047015,
     "end_time": "2021-08-21T20:09:25.030183",
     "exception": false,
     "start_time": "2021-08-21T20:09:24.983168",
     "status": "completed"
    },
    "tags": []
   },
   "source": [
    "#### Plotting the outputs of this layer of the NN.\n"
   ]
  },
  {
   "cell_type": "code",
   "execution_count": 25,
   "id": "45eb2ff5",
   "metadata": {
    "execution": {
     "iopub.execute_input": "2021-08-21T20:09:25.149761Z",
     "iopub.status.busy": "2021-08-21T20:09:25.136304Z",
     "iopub.status.idle": "2021-08-21T20:09:25.161167Z",
     "shell.execute_reply": "2021-08-21T20:09:25.161660Z"
    },
    "papermill": {
     "duration": 0.081237,
     "end_time": "2021-08-21T20:09:25.161811",
     "exception": false,
     "start_time": "2021-08-21T20:09:25.080574",
     "status": "completed"
    },
    "tags": []
   },
   "outputs": [],
   "source": [
    "new_model = Model(layers[:-2])\n",
    "testing_plot = new_model(testing_data_x)"
   ]
  },
  {
   "cell_type": "code",
   "execution_count": 26,
   "id": "4c0a5485",
   "metadata": {
    "execution": {
     "iopub.execute_input": "2021-08-21T20:09:25.280708Z",
     "iopub.status.busy": "2021-08-21T20:09:25.280131Z",
     "iopub.status.idle": "2021-08-21T20:09:25.506829Z",
     "shell.execute_reply": "2021-08-21T20:09:25.507395Z"
    },
    "papermill": {
     "duration": 0.28842,
     "end_time": "2021-08-21T20:09:25.507573",
     "exception": false,
     "start_time": "2021-08-21T20:09:25.219153",
     "status": "completed"
    },
    "tags": []
   },
   "outputs": [
    {
     "data": {
      "text/plain": [
       "Text(0.5, 1.0, 'Outputs')"
      ]
     },
     "execution_count": 26,
     "metadata": {},
     "output_type": "execute_result"
    },
    {
     "data": {
      "image/png": "[encoded data removed]",
      "text/plain": [
       "<Figure size 576x504 with 1 Axes>"
      ]
     },
     "metadata": {
      "needs_background": "light"
     },
     "output_type": "display_data"
    }
   ],
   "source": [
    "# Plotting the scatter plot of points and color coding by class\n",
    "plt.figure(figsize=(8,7))\n",
    "plt.scatter(testing_plot[:,0], testing_plot[:,1], alpha = 0.1, c = y_test.ravel());\n",
    "plt.title('Outputs')"
   ]
  },
  {
   "cell_type": "markdown",
   "id": "a74fcf8f",
   "metadata": {
    "papermill": {
     "duration": 0.06067,
     "end_time": "2021-08-21T20:09:25.620403",
     "exception": false,
     "start_time": "2021-08-21T20:09:25.559733",
     "status": "completed"
    },
    "tags": []
   },
   "source": [
    "Probability contours"
   ]
  },
  {
   "cell_type": "code",
   "execution_count": 27,
   "id": "d0afc8e3",
   "metadata": {
    "execution": {
     "iopub.execute_input": "2021-08-21T20:09:25.754878Z",
     "iopub.status.busy": "2021-08-21T20:09:25.753985Z",
     "iopub.status.idle": "2021-08-21T20:09:25.760846Z",
     "shell.execute_reply": "2021-08-21T20:09:25.761394Z"
    },
    "papermill": {
     "duration": 0.084983,
     "end_time": "2021-08-21T20:09:25.761549",
     "exception": false,
     "start_time": "2021-08-21T20:09:25.676566",
     "status": "completed"
    },
    "tags": []
   },
   "outputs": [],
   "source": [
    "model_prob = Model(layers[-2:]) "
   ]
  },
  {
   "cell_type": "code",
   "execution_count": 28,
   "id": "9b96e238",
   "metadata": {
    "execution": {
     "iopub.execute_input": "2021-08-21T20:09:25.884243Z",
     "iopub.status.busy": "2021-08-21T20:09:25.880510Z",
     "iopub.status.idle": "2021-08-21T20:09:25.893491Z",
     "shell.execute_reply": "2021-08-21T20:09:25.893987Z"
    },
    "papermill": {
     "duration": 0.077643,
     "end_time": "2021-08-21T20:09:25.894142",
     "exception": false,
     "start_time": "2021-08-21T20:09:25.816499",
     "status": "completed"
    },
    "tags": []
   },
   "outputs": [],
   "source": [
    "#creating the x and y ranges according to the above generated plot.\n",
    "x_range = np.linspace(-4, 1, 100) \n",
    "y_range = np.linspace(-6, 6, 100) \n",
    "x_grid, y_grid = np.meshgrid(x_range, y_range) # x_grid and y_grig are of size 100 X 100\n",
    "\n",
    "# converting x_grid and y_grid to continuous arrays\n",
    "x_gridflat = np.ravel(x_grid)\n",
    "y_gridflat = np.ravel(y_grid)\n",
    "\n",
    "# The last layer of the current model takes two columns as input. Hence transpose of np.vstack() is required.\n",
    "X = np.vstack((x_gridflat, y_gridflat)).T\n",
    "\n",
    "prob_contour = model_prob(X).reshape(100,100) "
   ]
  },
  {
   "cell_type": "code",
   "execution_count": 29,
   "id": "da72499a",
   "metadata": {
    "execution": {
     "iopub.execute_input": "2021-08-21T20:09:26.028081Z",
     "iopub.status.busy": "2021-08-21T20:09:26.026341Z",
     "iopub.status.idle": "2021-08-21T20:09:26.340888Z",
     "shell.execute_reply": "2021-08-21T20:09:26.341426Z"
    },
    "papermill": {
     "duration": 0.386407,
     "end_time": "2021-08-21T20:09:26.341588",
     "exception": false,
     "start_time": "2021-08-21T20:09:25.955181",
     "status": "completed"
    },
    "tags": []
   },
   "outputs": [
    {
     "data": {
      "image/png": "[encoded data removed]",
      "text/plain": [
       "<Figure size 720x648 with 1 Axes>"
      ]
     },
     "metadata": {
      "needs_background": "light"
     },
     "output_type": "display_data"
    }
   ],
   "source": [
    "plt.figure(figsize=(10,9))\n",
    "plt.scatter(testing_plot[:,0], testing_plot[:,1], alpha = 0.1, c = y_test.ravel())\n",
    "contours = plt.contour(x_grid,y_grid,prob_contour)\n",
    "plt.title('Probability Contours')\n",
    "plt.clabel(contours, inline = True );"
   ]
  },
  {
   "cell_type": "code",
   "execution_count": null,
   "id": "e81b4ac7",
   "metadata": {
    "papermill": {
     "duration": 0.072892,
     "end_time": "2021-08-21T20:09:26.471234",
     "exception": false,
     "start_time": "2021-08-21T20:09:26.398342",
     "status": "completed"
    },
    "tags": []
   },
   "outputs": [],
   "source": []
  }
 ],
 "metadata": {
  "kernelspec": {
   "display_name": "Python 3",
   "language": "python",
   "name": "python3"
  },
  "language_info": {
   "codemirror_mode": {
    "name": "ipython",
    "version": 3
   },
   "file_extension": ".py",
   "mimetype": "text/x-python",
   "name": "python",
   "nbconvert_exporter": "python",
   "pygments_lexer": "ipython3",
   "version": "3.6.14"
  },
  "papermill": {
   "default_parameters": {},
   "duration": 174.753224,
   "end_time": "2021-08-21T20:09:26.933050",
   "environment_variables": {},
   "exception": null,
   "input_path": "2020-08-11-part2.ipynb",
   "output_path": "2020-08-11-part2.ipynb",
   "parameters": {},
   "start_time": "2021-08-21T20:06:32.179826",
   "version": "2.3.3"
  }
 },
 "nbformat": 4,
 "nbformat_minor": 5
}