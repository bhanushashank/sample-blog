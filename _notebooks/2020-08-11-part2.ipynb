{
 "cells": [
  {
   "cell_type": "markdown",
   "id": "98380cd3",
   "metadata": {
    "papermill": {
     "duration": 0.040975,
     "end_time": "2022-10-14T20:13:13.895556",
     "exception": false,
     "start_time": "2022-10-14T20:13:13.854581",
     "status": "completed"
    },
    "tags": []
   },
   "source": [
    "# Distinguish Your Own Digits (DYOD)"
   ]
  },
  {
   "cell_type": "markdown",
   "id": "ef31240d",
   "metadata": {
    "papermill": {
     "duration": 0.031715,
     "end_time": "2022-10-14T20:13:13.960475",
     "exception": false,
     "start_time": "2022-10-14T20:13:13.928760",
     "status": "completed"
    },
    "tags": []
   },
   "source": [
    "You are going to write a classifier that distinguishes between the number 3 and number 8."
   ]
  },
  {
   "cell_type": "code",
   "execution_count": 1,
   "id": "b15c8646",
   "metadata": {
    "execution": {
     "iopub.execute_input": "2022-10-14T20:13:14.039753Z",
     "iopub.status.busy": "2022-10-14T20:13:14.038926Z",
     "iopub.status.idle": "2022-10-14T20:13:14.053286Z",
     "shell.execute_reply": "2022-10-14T20:13:14.052590Z"
    },
    "papermill": {
     "duration": 0.058391,
     "end_time": "2022-10-14T20:13:14.053488",
     "exception": false,
     "start_time": "2022-10-14T20:13:13.995097",
     "status": "completed"
    },
    "tags": []
   },
   "outputs": [],
   "source": [
    "%load_ext autoreload\n",
    "%autoreload 2"
   ]
  },
  {
   "cell_type": "code",
   "execution_count": 2,
   "id": "22ef38dc",
   "metadata": {
    "execution": {
     "iopub.execute_input": "2022-10-14T20:13:14.126020Z",
     "iopub.status.busy": "2022-10-14T20:13:14.125215Z",
     "iopub.status.idle": "2022-10-14T20:13:14.847794Z",
     "shell.execute_reply": "2022-10-14T20:13:14.846718Z"
    },
    "papermill": {
     "duration": 0.761588,
     "end_time": "2022-10-14T20:13:14.848052",
     "exception": false,
     "start_time": "2022-10-14T20:13:14.086464",
     "status": "completed"
    },
    "tags": []
   },
   "outputs": [],
   "source": [
    "%matplotlib inline\n",
    "import numpy as np\n",
    "import matplotlib.pyplot as plt\n",
    "import pandas as pd"
   ]
  },
  {
   "cell_type": "markdown",
   "id": "ba036198",
   "metadata": {
    "papermill": {
     "duration": 0.032281,
     "end_time": "2022-10-14T20:13:14.913696",
     "exception": false,
     "start_time": "2022-10-14T20:13:14.881415",
     "status": "completed"
    },
    "tags": []
   },
   "source": [
    "From the command line run `pip install mnist`. This is a library that will help you bring down the mnist dataset. If you run this from a notebook, you need to put  `!pip install mnist` in a cell by itself."
   ]
  },
  {
   "cell_type": "code",
   "execution_count": 3,
   "id": "bb6ad8a1",
   "metadata": {
    "execution": {
     "iopub.execute_input": "2022-10-14T20:13:14.987950Z",
     "iopub.status.busy": "2022-10-14T20:13:14.987174Z",
     "iopub.status.idle": "2022-10-14T20:13:17.097761Z",
     "shell.execute_reply": "2022-10-14T20:13:17.097070Z"
    },
    "papermill": {
     "duration": 2.150557,
     "end_time": "2022-10-14T20:13:17.097924",
     "exception": false,
     "start_time": "2022-10-14T20:13:14.947367",
     "status": "completed"
    },
    "tags": []
   },
   "outputs": [
    {
     "name": "stdout",
     "output_type": "stream",
     "text": [
      "Collecting mnist\r\n"
     ]
    },
    {
     "name": "stdout",
     "output_type": "stream",
     "text": [
      "  Downloading mnist-0.2.2-py2.py3-none-any.whl (3.5 kB)\r\n",
      "Requirement already satisfied: numpy in /opt/hostedtoolcache/Python/3.6.15/x64/lib/python3.6/site-packages (from mnist) (1.19.5)\r\n"
     ]
    },
    {
     "name": "stdout",
     "output_type": "stream",
     "text": [
      "Installing collected packages: mnist\r\n"
     ]
    },
    {
     "name": "stdout",
     "output_type": "stream",
     "text": [
      "Successfully installed mnist-0.2.2\r\n"
     ]
    }
   ],
   "source": [
    "!pip install mnist"
   ]
  },
  {
   "cell_type": "markdown",
   "id": "69df9c9a",
   "metadata": {
    "papermill": {
     "duration": 0.034026,
     "end_time": "2022-10-14T20:13:17.166671",
     "exception": false,
     "start_time": "2022-10-14T20:13:17.132645",
     "status": "completed"
    },
    "tags": []
   },
   "source": [
    "## Preparing the Data"
   ]
  },
  {
   "cell_type": "code",
   "execution_count": 4,
   "id": "7f69d806",
   "metadata": {
    "execution": {
     "iopub.execute_input": "2022-10-14T20:13:17.238121Z",
     "iopub.status.busy": "2022-10-14T20:13:17.237312Z",
     "iopub.status.idle": "2022-10-14T20:13:17.256838Z",
     "shell.execute_reply": "2022-10-14T20:13:17.256133Z"
    },
    "papermill": {
     "duration": 0.059059,
     "end_time": "2022-10-14T20:13:17.257009",
     "exception": false,
     "start_time": "2022-10-14T20:13:17.197950",
     "status": "completed"
    },
    "tags": []
   },
   "outputs": [],
   "source": [
    "import mnist"
   ]
  },
  {
   "cell_type": "code",
   "execution_count": 5,
   "id": "a411e44f",
   "metadata": {
    "execution": {
     "iopub.execute_input": "2022-10-14T20:13:17.332880Z",
     "iopub.status.busy": "2022-10-14T20:13:17.332065Z",
     "iopub.status.idle": "2022-10-14T20:13:17.932143Z",
     "shell.execute_reply": "2022-10-14T20:13:17.932692Z"
    },
    "papermill": {
     "duration": 0.643416,
     "end_time": "2022-10-14T20:13:17.932862",
     "exception": false,
     "start_time": "2022-10-14T20:13:17.289446",
     "status": "completed"
    },
    "tags": []
   },
   "outputs": [],
   "source": [
    "train_images = mnist.train_images()\n",
    "train_labels = mnist.train_labels()"
   ]
  },
  {
   "cell_type": "code",
   "execution_count": 6,
   "id": "dceab3a5",
   "metadata": {
    "execution": {
     "iopub.execute_input": "2022-10-14T20:13:18.018676Z",
     "iopub.status.busy": "2022-10-14T20:13:18.013894Z",
     "iopub.status.idle": "2022-10-14T20:13:18.033501Z",
     "shell.execute_reply": "2022-10-14T20:13:18.034235Z"
    },
    "papermill": {
     "duration": 0.068744,
     "end_time": "2022-10-14T20:13:18.034408",
     "exception": false,
     "start_time": "2022-10-14T20:13:17.965664",
     "status": "completed"
    },
    "tags": []
   },
   "outputs": [
    {
     "data": {
      "text/plain": [
       "((60000, 28, 28), (60000,))"
      ]
     },
     "execution_count": 6,
     "metadata": {},
     "output_type": "execute_result"
    }
   ],
   "source": [
    "train_images.shape, train_labels.shape"
   ]
  },
  {
   "cell_type": "code",
   "execution_count": 7,
   "id": "f50dc2bb",
   "metadata": {
    "execution": {
     "iopub.execute_input": "2022-10-14T20:13:18.123881Z",
     "iopub.status.busy": "2022-10-14T20:13:18.120746Z",
     "iopub.status.idle": "2022-10-14T20:13:18.261836Z",
     "shell.execute_reply": "2022-10-14T20:13:18.261134Z"
    },
    "papermill": {
     "duration": 0.180722,
     "end_time": "2022-10-14T20:13:18.261981",
     "exception": false,
     "start_time": "2022-10-14T20:13:18.081259",
     "status": "completed"
    },
    "tags": []
   },
   "outputs": [],
   "source": [
    "test_images = mnist.test_images()\n",
    "test_labels = mnist.test_labels()"
   ]
  },
  {
   "cell_type": "code",
   "execution_count": 8,
   "id": "fc38cf1b",
   "metadata": {
    "execution": {
     "iopub.execute_input": "2022-10-14T20:13:18.336975Z",
     "iopub.status.busy": "2022-10-14T20:13:18.336193Z",
     "iopub.status.idle": "2022-10-14T20:13:18.353751Z",
     "shell.execute_reply": "2022-10-14T20:13:18.353119Z"
    },
    "papermill": {
     "duration": 0.05633,
     "end_time": "2022-10-14T20:13:18.353896",
     "exception": false,
     "start_time": "2022-10-14T20:13:18.297566",
     "status": "completed"
    },
    "tags": []
   },
   "outputs": [
    {
     "data": {
      "text/plain": [
       "((10000, 28, 28), (10000,))"
      ]
     },
     "execution_count": 8,
     "metadata": {},
     "output_type": "execute_result"
    }
   ],
   "source": [
    "test_images.shape, test_labels.shape"
   ]
  },
  {
   "cell_type": "code",
   "execution_count": 9,
   "id": "f9ed8fe0",
   "metadata": {
    "execution": {
     "iopub.execute_input": "2022-10-14T20:13:18.430583Z",
     "iopub.status.busy": "2022-10-14T20:13:18.429816Z",
     "iopub.status.idle": "2022-10-14T20:13:18.646529Z",
     "shell.execute_reply": "2022-10-14T20:13:18.647203Z"
    },
    "papermill": {
     "duration": 0.259957,
     "end_time": "2022-10-14T20:13:18.647365",
     "exception": false,
     "start_time": "2022-10-14T20:13:18.387408",
     "status": "completed"
    },
    "tags": []
   },
   "outputs": [
    {
     "name": "stdout",
     "output_type": "stream",
     "text": [
      "2\n"
     ]
    },
    {
     "data": {
      "text/plain": [
       "<matplotlib.image.AxesImage at 0x7fdfd846bcc0>"
      ]
     },
     "execution_count": 9,
     "metadata": {},
     "output_type": "execute_result"
    },
    {
     "data": {
      "image/png": "[encoded data removed]",
      "text/plain": [
       "<Figure size 432x288 with 1 Axes>"
      ]
     },
     "metadata": {
      "needs_background": "light"
     },
     "output_type": "display_data"
    }
   ],
   "source": [
    "image_index = 7776 # You may select anything up to 60,000\n",
    "print(train_labels[image_index]) \n",
    "plt.imshow(train_images[image_index], cmap='Greys')"
   ]
  },
  {
   "cell_type": "markdown",
   "id": "a8d2388d",
   "metadata": {
    "papermill": {
     "duration": 0.033532,
     "end_time": "2022-10-14T20:13:18.714576",
     "exception": false,
     "start_time": "2022-10-14T20:13:18.681044",
     "status": "completed"
    },
    "tags": []
   },
   "source": [
    "## Filter data to get 3 and 8 out"
   ]
  },
  {
   "cell_type": "code",
   "execution_count": 10,
   "id": "776f7fc7",
   "metadata": {
    "execution": {
     "iopub.execute_input": "2022-10-14T20:13:18.789544Z",
     "iopub.status.busy": "2022-10-14T20:13:18.788600Z",
     "iopub.status.idle": "2022-10-14T20:13:18.815305Z",
     "shell.execute_reply": "2022-10-14T20:13:18.814550Z"
    },
    "papermill": {
     "duration": 0.065893,
     "end_time": "2022-10-14T20:13:18.815457",
     "exception": false,
     "start_time": "2022-10-14T20:13:18.749564",
     "status": "completed"
    },
    "tags": []
   },
   "outputs": [],
   "source": [
    "train_filter = np.where((train_labels == 3 ) | (train_labels == 8))\n",
    "test_filter = np.where((test_labels == 3) | (test_labels == 8))\n",
    "X_train, y_train = train_images[train_filter], train_labels[train_filter]\n",
    "X_test, y_test = test_images[test_filter], test_labels[test_filter]"
   ]
  },
  {
   "cell_type": "markdown",
   "id": "948f0b7e",
   "metadata": {
    "papermill": {
     "duration": 0.035475,
     "end_time": "2022-10-14T20:13:18.887641",
     "exception": false,
     "start_time": "2022-10-14T20:13:18.852166",
     "status": "completed"
    },
    "tags": []
   },
   "source": [
    "We normalize the pizel values in the 0 to 1 range"
   ]
  },
  {
   "cell_type": "code",
   "execution_count": 11,
   "id": "ee4c2166",
   "metadata": {
    "execution": {
     "iopub.execute_input": "2022-10-14T20:13:18.964056Z",
     "iopub.status.busy": "2022-10-14T20:13:18.963252Z",
     "iopub.status.idle": "2022-10-14T20:13:19.031216Z",
     "shell.execute_reply": "2022-10-14T20:13:19.031911Z"
    },
    "papermill": {
     "duration": 0.10928,
     "end_time": "2022-10-14T20:13:19.032105",
     "exception": false,
     "start_time": "2022-10-14T20:13:18.922825",
     "status": "completed"
    },
    "tags": []
   },
   "outputs": [],
   "source": [
    "X_train = X_train/255.\n",
    "X_test = X_test/255."
   ]
  },
  {
   "cell_type": "markdown",
   "id": "ddcf4fab",
   "metadata": {
    "papermill": {
     "duration": 0.035309,
     "end_time": "2022-10-14T20:13:19.105889",
     "exception": false,
     "start_time": "2022-10-14T20:13:19.070580",
     "status": "completed"
    },
    "tags": []
   },
   "source": [
    "And setup the labels as 1 (when the digit is 3) and 0 (when the digit is 8)"
   ]
  },
  {
   "cell_type": "code",
   "execution_count": 12,
   "id": "7dc908f2",
   "metadata": {
    "execution": {
     "iopub.execute_input": "2022-10-14T20:13:19.181992Z",
     "iopub.status.busy": "2022-10-14T20:13:19.181273Z",
     "iopub.status.idle": "2022-10-14T20:13:19.196114Z",
     "shell.execute_reply": "2022-10-14T20:13:19.196687Z"
    },
    "papermill": {
     "duration": 0.055876,
     "end_time": "2022-10-14T20:13:19.196857",
     "exception": false,
     "start_time": "2022-10-14T20:13:19.140981",
     "status": "completed"
    },
    "tags": []
   },
   "outputs": [],
   "source": [
    "y_train = 1*(y_train==3)\n",
    "y_test = 1*(y_test==3)"
   ]
  },
  {
   "cell_type": "code",
   "execution_count": 13,
   "id": "01e4e969",
   "metadata": {
    "execution": {
     "iopub.execute_input": "2022-10-14T20:13:19.272332Z",
     "iopub.status.busy": "2022-10-14T20:13:19.271357Z",
     "iopub.status.idle": "2022-10-14T20:13:19.288956Z",
     "shell.execute_reply": "2022-10-14T20:13:19.289596Z"
    },
    "papermill": {
     "duration": 0.058208,
     "end_time": "2022-10-14T20:13:19.289742",
     "exception": false,
     "start_time": "2022-10-14T20:13:19.231534",
     "status": "completed"
    },
    "tags": []
   },
   "outputs": [
    {
     "data": {
      "text/plain": [
       "((11982, 28, 28), (1984, 28, 28))"
      ]
     },
     "execution_count": 13,
     "metadata": {},
     "output_type": "execute_result"
    }
   ],
   "source": [
    "X_train.shape, X_test.shape"
   ]
  },
  {
   "cell_type": "markdown",
   "id": "5ccf3f85",
   "metadata": {
    "papermill": {
     "duration": 0.034227,
     "end_time": "2022-10-14T20:13:19.356160",
     "exception": false,
     "start_time": "2022-10-14T20:13:19.321933",
     "status": "completed"
    },
    "tags": []
   },
   "source": [
    "We reshape the data to flatten the image pixels into a set of features or co-variates:"
   ]
  },
  {
   "cell_type": "code",
   "execution_count": 14,
   "id": "5286a4a3",
   "metadata": {
    "execution": {
     "iopub.execute_input": "2022-10-14T20:13:19.435543Z",
     "iopub.status.busy": "2022-10-14T20:13:19.434696Z",
     "iopub.status.idle": "2022-10-14T20:13:19.451144Z",
     "shell.execute_reply": "2022-10-14T20:13:19.451689Z"
    },
    "papermill": {
     "duration": 0.058604,
     "end_time": "2022-10-14T20:13:19.451852",
     "exception": false,
     "start_time": "2022-10-14T20:13:19.393248",
     "status": "completed"
    },
    "tags": []
   },
   "outputs": [
    {
     "data": {
      "text/plain": [
       "((11982, 784), (1984, 784))"
      ]
     },
     "execution_count": 14,
     "metadata": {},
     "output_type": "execute_result"
    }
   ],
   "source": [
    "X_train = X_train.reshape(X_train.shape[0], -1)\n",
    "X_test = X_test.reshape(X_test.shape[0], -1)\n",
    "X_train.shape, X_test.shape"
   ]
  },
  {
   "cell_type": "code",
   "execution_count": 15,
   "id": "73c5f88a",
   "metadata": {
    "execution": {
     "iopub.execute_input": "2022-10-14T20:13:19.528037Z",
     "iopub.status.busy": "2022-10-14T20:13:19.527267Z",
     "iopub.status.idle": "2022-10-14T20:13:19.549843Z",
     "shell.execute_reply": "2022-10-14T20:13:19.550477Z"
    },
    "papermill": {
     "duration": 0.065034,
     "end_time": "2022-10-14T20:13:19.550670",
     "exception": false,
     "start_time": "2022-10-14T20:13:19.485636",
     "status": "completed"
    },
    "tags": []
   },
   "outputs": [],
   "source": [
    "#Impoting functions from 'Kudzu'\n",
    "from kudzu.model import Model\n",
    "from kudzu.train import Learner\n",
    "from kudzu.optim import GD\n",
    "from kudzu.data import Data, Sampler,Dataloader\n",
    "\n",
    "from kudzu.callbacks import AccCallback\n",
    "from kudzu.callbacks import ClfCallback\n",
    "\n",
    "from kudzu.loss import MSE\n",
    "\n",
    "from kudzu.layer import Sigmoid,Relu\n",
    "from kudzu.layer import Affine"
   ]
  },
  {
   "cell_type": "markdown",
   "id": "bc01172a",
   "metadata": {
    "papermill": {
     "duration": 0.037846,
     "end_time": "2022-10-14T20:13:19.623858",
     "exception": false,
     "start_time": "2022-10-14T20:13:19.586012",
     "status": "completed"
    },
    "tags": []
   },
   "source": [
    "### Let us create a `Config` class, to store important parameters. \n",
    "This class essentially plays the role of a dictionary."
   ]
  },
  {
   "cell_type": "code",
   "execution_count": 16,
   "id": "978281aa",
   "metadata": {
    "execution": {
     "iopub.execute_input": "2022-10-14T20:13:19.700265Z",
     "iopub.status.busy": "2022-10-14T20:13:19.699542Z",
     "iopub.status.idle": "2022-10-14T20:13:19.720958Z",
     "shell.execute_reply": "2022-10-14T20:13:19.720230Z"
    },
    "papermill": {
     "duration": 0.062215,
     "end_time": "2022-10-14T20:13:19.721181",
     "exception": false,
     "start_time": "2022-10-14T20:13:19.658966",
     "status": "completed"
    },
    "tags": []
   },
   "outputs": [],
   "source": [
    "class Config:\n",
    "    pass\n",
    "config = Config()\n",
    "config.lr = 0.001\n",
    "config.num_epochs = 250\n",
    "config.bs = 50"
   ]
  },
  {
   "cell_type": "markdown",
   "id": "1385fa59",
   "metadata": {
    "papermill": {
     "duration": 0.035115,
     "end_time": "2022-10-14T20:13:19.793146",
     "exception": false,
     "start_time": "2022-10-14T20:13:19.758031",
     "status": "completed"
    },
    "tags": []
   },
   "source": [
    "### Running Models with the Training data\n",
    "Details about the network layers:\n",
    "- A first affine layer has 784 inputs and does 100 affine transforms. These are followed by a Relu\n",
    "- A second affine layer has 100 inputs from the 100 activations of the past layer, and does 100 affine transforms. These are followed by a Relu\n",
    "- A third affine layer has 100 activations and does 2 affine transformations to create an embedding for visualization. There is no non-linearity here.\n",
    "- A final \"logistic regression\" which has an affine transform from 2 inputs to 1 output, which is squeezed through a sigmoid.\n"
   ]
  },
  {
   "cell_type": "code",
   "execution_count": 17,
   "id": "2b9c66db",
   "metadata": {
    "execution": {
     "iopub.execute_input": "2022-10-14T20:13:19.871637Z",
     "iopub.status.busy": "2022-10-14T20:13:19.870641Z",
     "iopub.status.idle": "2022-10-14T20:13:19.887860Z",
     "shell.execute_reply": "2022-10-14T20:13:19.887032Z"
    },
    "papermill": {
     "duration": 0.057111,
     "end_time": "2022-10-14T20:13:19.888001",
     "exception": false,
     "start_time": "2022-10-14T20:13:19.830890",
     "status": "completed"
    },
    "tags": []
   },
   "outputs": [],
   "source": [
    "data = Data(X_train, y_train.reshape(-1,1))\n",
    "sampler = Sampler(data, config.bs, shuffle=True)\n",
    "\n",
    "dl = Dataloader(data, sampler)\n",
    "\n",
    "opt = GD(config.lr)\n",
    "loss = MSE()"
   ]
  },
  {
   "cell_type": "code",
   "execution_count": 18,
   "id": "b275e4c2",
   "metadata": {
    "execution": {
     "iopub.execute_input": "2022-10-14T20:13:19.968234Z",
     "iopub.status.busy": "2022-10-14T20:13:19.967414Z",
     "iopub.status.idle": "2022-10-14T20:13:19.983110Z",
     "shell.execute_reply": "2022-10-14T20:13:19.983690Z"
    },
    "papermill": {
     "duration": 0.060496,
     "end_time": "2022-10-14T20:13:19.983886",
     "exception": false,
     "start_time": "2022-10-14T20:13:19.923390",
     "status": "completed"
    },
    "tags": []
   },
   "outputs": [],
   "source": [
    "training_data_x = X_train\n",
    "testing_data_x = X_test\n",
    "training_data_y = y_train.reshape(-1,1)\n",
    "testing_data_y = y_test.reshape(-1,1)"
   ]
  },
  {
   "cell_type": "code",
   "execution_count": 19,
   "id": "76951160",
   "metadata": {
    "execution": {
     "iopub.execute_input": "2022-10-14T20:13:20.067644Z",
     "iopub.status.busy": "2022-10-14T20:13:20.066855Z",
     "iopub.status.idle": "2022-10-14T20:13:20.088646Z",
     "shell.execute_reply": "2022-10-14T20:13:20.088037Z"
    },
    "papermill": {
     "duration": 0.067414,
     "end_time": "2022-10-14T20:13:20.088790",
     "exception": false,
     "start_time": "2022-10-14T20:13:20.021376",
     "status": "completed"
    },
    "tags": []
   },
   "outputs": [
    {
     "name": "stdout",
     "output_type": "stream",
     "text": [
      "xavier\n",
      "xavier\n",
      "xavier\n",
      "xavier\n",
      "xavier\n"
     ]
    }
   ],
   "source": [
    "layers = [Affine(\"first\", 784, 100), Relu(\"first\"), Affine(\"second\", 100, 100), Relu(\"second\"), Affine(\"third\", 100, 2), Affine(\"last\", 2, 1), Sigmoid(\"last\")]\n",
    "model_nn = Model(layers)\n",
    "model_lr = Model([Affine(\"logits\", 784, 1), Sigmoid(\"sigmoid\")])"
   ]
  },
  {
   "cell_type": "code",
   "execution_count": 20,
   "id": "6eede77a",
   "metadata": {
    "execution": {
     "iopub.execute_input": "2022-10-14T20:13:20.171465Z",
     "iopub.status.busy": "2022-10-14T20:13:20.170576Z",
     "iopub.status.idle": "2022-10-14T20:13:20.186091Z",
     "shell.execute_reply": "2022-10-14T20:13:20.185470Z"
    },
    "papermill": {
     "duration": 0.061137,
     "end_time": "2022-10-14T20:13:20.186342",
     "exception": false,
     "start_time": "2022-10-14T20:13:20.125205",
     "status": "completed"
    },
    "tags": []
   },
   "outputs": [],
   "source": [
    "nn_learner = Learner(loss, model_nn, opt, config.num_epochs)\n",
    "acc_nn = ClfCallback(nn_learner, config.bs, training_data_x , testing_data_x, training_data_y, testing_data_y)\n",
    "nn_learner.set_callbacks([acc_nn])"
   ]
  },
  {
   "cell_type": "code",
   "execution_count": 21,
   "id": "877b6cc7",
   "metadata": {
    "execution": {
     "iopub.execute_input": "2022-10-14T20:13:20.262012Z",
     "iopub.status.busy": "2022-10-14T20:13:20.261315Z",
     "iopub.status.idle": "2022-10-14T20:13:20.279281Z",
     "shell.execute_reply": "2022-10-14T20:13:20.279889Z"
    },
    "papermill": {
     "duration": 0.058341,
     "end_time": "2022-10-14T20:13:20.280068",
     "exception": false,
     "start_time": "2022-10-14T20:13:20.221727",
     "status": "completed"
    },
    "tags": []
   },
   "outputs": [],
   "source": [
    "lr_learner = Learner(loss, model_lr, opt, config.num_epochs)\n",
    "acc_lr = ClfCallback(lr_learner, config.bs, training_data_x , testing_data_x, training_data_y, testing_data_y)\n",
    "lr_learner.set_callbacks([acc_lr])"
   ]
  },
  {
   "cell_type": "code",
   "execution_count": 22,
   "id": "d9b133c3",
   "metadata": {
    "execution": {
     "iopub.execute_input": "2022-10-14T20:13:20.359411Z",
     "iopub.status.busy": "2022-10-14T20:13:20.358685Z",
     "iopub.status.idle": "2022-10-14T20:15:52.499829Z",
     "shell.execute_reply": "2022-10-14T20:15:52.500917Z"
    },
    "papermill": {
     "duration": 152.183091,
     "end_time": "2022-10-14T20:15:52.501087",
     "exception": false,
     "start_time": "2022-10-14T20:13:20.317996",
     "status": "completed"
    },
    "tags": []
   },
   "outputs": [
    {
     "name": "stdout",
     "output_type": "stream",
     "text": [
      "Epoch 0, Loss 0.2601\n",
      "Training Accuracy: 0.4553, Testing Accuracy: 0.4486\n",
      "\n"
     ]
    },
    {
     "name": "stdout",
     "output_type": "stream",
     "text": [
      "Epoch 10, Loss 0.1826\n",
      "Training Accuracy: 0.8797, Testing Accuracy: 0.8911\n",
      "\n"
     ]
    },
    {
     "name": "stdout",
     "output_type": "stream",
     "text": [
      "Epoch 20, Loss 0.0881\n",
      "Training Accuracy: 0.9157, Testing Accuracy: 0.9315\n",
      "\n"
     ]
    },
    {
     "name": "stdout",
     "output_type": "stream",
     "text": [
      "Epoch 30, Loss 0.0591\n",
      "Training Accuracy: 0.9356, Testing Accuracy: 0.9496\n",
      "\n"
     ]
    },
    {
     "name": "stdout",
     "output_type": "stream",
     "text": [
      "Epoch 40, Loss 0.0471\n",
      "Training Accuracy: 0.9474, Testing Accuracy: 0.9582\n",
      "\n"
     ]
    },
    {
     "name": "stdout",
     "output_type": "stream",
     "text": [
      "Epoch 50, Loss 0.0407\n",
      "Training Accuracy: 0.9538, Testing Accuracy: 0.9647\n",
      "\n"
     ]
    },
    {
     "name": "stdout",
     "output_type": "stream",
     "text": [
      "Epoch 60, Loss 0.0368\n",
      "Training Accuracy: 0.9570, Testing Accuracy: 0.9667\n",
      "\n"
     ]
    },
    {
     "name": "stdout",
     "output_type": "stream",
     "text": [
      "Epoch 70, Loss 0.0341\n",
      "Training Accuracy: 0.9599, Testing Accuracy: 0.9667\n",
      "\n"
     ]
    },
    {
     "name": "stdout",
     "output_type": "stream",
     "text": [
      "Epoch 80, Loss 0.0321\n",
      "Training Accuracy: 0.9615, Testing Accuracy: 0.9688\n",
      "\n"
     ]
    },
    {
     "name": "stdout",
     "output_type": "stream",
     "text": [
      "Epoch 90, Loss 0.0306\n",
      "Training Accuracy: 0.9634, Testing Accuracy: 0.9688\n",
      "\n"
     ]
    },
    {
     "name": "stdout",
     "output_type": "stream",
     "text": [
      "Epoch 100, Loss 0.0293\n",
      "Training Accuracy: 0.9644, Testing Accuracy: 0.9688\n",
      "\n"
     ]
    },
    {
     "name": "stdout",
     "output_type": "stream",
     "text": [
      "Epoch 110, Loss 0.0282\n",
      "Training Accuracy: 0.9665, Testing Accuracy: 0.9682\n",
      "\n"
     ]
    },
    {
     "name": "stdout",
     "output_type": "stream",
     "text": [
      "Epoch 120, Loss 0.0273\n",
      "Training Accuracy: 0.9678, Testing Accuracy: 0.9698\n",
      "\n"
     ]
    },
    {
     "name": "stdout",
     "output_type": "stream",
     "text": [
      "Epoch 130, Loss 0.0265\n",
      "Training Accuracy: 0.9694, Testing Accuracy: 0.9708\n",
      "\n"
     ]
    },
    {
     "name": "stdout",
     "output_type": "stream",
     "text": [
      "Epoch 140, Loss 0.0258\n",
      "Training Accuracy: 0.9696, Testing Accuracy: 0.9708\n",
      "\n"
     ]
    },
    {
     "name": "stdout",
     "output_type": "stream",
     "text": [
      "Epoch 150, Loss 0.0251\n",
      "Training Accuracy: 0.9704, Testing Accuracy: 0.9708\n",
      "\n"
     ]
    },
    {
     "name": "stdout",
     "output_type": "stream",
     "text": [
      "Epoch 160, Loss 0.0245\n",
      "Training Accuracy: 0.9708, Testing Accuracy: 0.9708\n",
      "\n"
     ]
    },
    {
     "name": "stdout",
     "output_type": "stream",
     "text": [
      "Epoch 170, Loss 0.024\n",
      "Training Accuracy: 0.9718, Testing Accuracy: 0.9708\n",
      "\n"
     ]
    },
    {
     "name": "stdout",
     "output_type": "stream",
     "text": [
      "Epoch 180, Loss 0.0234\n",
      "Training Accuracy: 0.9725, Testing Accuracy: 0.9728\n",
      "\n"
     ]
    },
    {
     "name": "stdout",
     "output_type": "stream",
     "text": [
      "Epoch 190, Loss 0.023\n",
      "Training Accuracy: 0.9729, Testing Accuracy: 0.9733\n",
      "\n"
     ]
    },
    {
     "name": "stdout",
     "output_type": "stream",
     "text": [
      "Epoch 200, Loss 0.0225\n",
      "Training Accuracy: 0.9737, Testing Accuracy: 0.9728\n",
      "\n"
     ]
    },
    {
     "name": "stdout",
     "output_type": "stream",
     "text": [
      "Epoch 210, Loss 0.0221\n",
      "Training Accuracy: 0.9744, Testing Accuracy: 0.9728\n",
      "\n"
     ]
    },
    {
     "name": "stdout",
     "output_type": "stream",
     "text": [
      "Epoch 220, Loss 0.0216\n",
      "Training Accuracy: 0.9748, Testing Accuracy: 0.9728\n",
      "\n"
     ]
    },
    {
     "name": "stdout",
     "output_type": "stream",
     "text": [
      "Epoch 230, Loss 0.0212\n",
      "Training Accuracy: 0.9755, Testing Accuracy: 0.9723\n",
      "\n"
     ]
    },
    {
     "name": "stdout",
     "output_type": "stream",
     "text": [
      "Epoch 240, Loss 0.0209\n",
      "Training Accuracy: 0.9758, Testing Accuracy: 0.9723\n",
      "\n"
     ]
    },
    {
     "data": {
      "text/plain": [
       "0.011905167934934928"
      ]
     },
     "execution_count": 22,
     "metadata": {},
     "output_type": "execute_result"
    }
   ],
   "source": [
    "nn_learner.train_loop(dl)"
   ]
  },
  {
   "cell_type": "code",
   "execution_count": 23,
   "id": "e0163366",
   "metadata": {
    "execution": {
     "iopub.execute_input": "2022-10-14T20:15:52.608230Z",
     "iopub.status.busy": "2022-10-14T20:15:52.607442Z",
     "iopub.status.idle": "2022-10-14T20:16:14.731940Z",
     "shell.execute_reply": "2022-10-14T20:16:14.733029Z"
    },
    "papermill": {
     "duration": 22.182411,
     "end_time": "2022-10-14T20:16:14.733215",
     "exception": false,
     "start_time": "2022-10-14T20:15:52.550804",
     "status": "completed"
    },
    "tags": []
   },
   "outputs": [
    {
     "name": "stdout",
     "output_type": "stream",
     "text": [
      "Epoch 0, Loss 0.2704\n",
      "Training Accuracy: 0.5809, Testing Accuracy: 0.5711\n",
      "\n"
     ]
    },
    {
     "name": "stdout",
     "output_type": "stream",
     "text": [
      "Epoch 10, Loss 0.0993\n",
      "Training Accuracy: 0.9275, Testing Accuracy: 0.9345\n",
      "\n"
     ]
    },
    {
     "name": "stdout",
     "output_type": "stream",
     "text": [
      "Epoch 20, Loss 0.0761\n",
      "Training Accuracy: 0.9362, Testing Accuracy: 0.9476\n",
      "\n"
     ]
    },
    {
     "name": "stdout",
     "output_type": "stream",
     "text": [
      "Epoch 30, Loss 0.0659\n",
      "Training Accuracy: 0.9406, Testing Accuracy: 0.9526\n",
      "\n"
     ]
    },
    {
     "name": "stdout",
     "output_type": "stream",
     "text": [
      "Epoch 40, Loss 0.0599\n",
      "Training Accuracy: 0.9437, Testing Accuracy: 0.9561\n",
      "\n"
     ]
    },
    {
     "name": "stdout",
     "output_type": "stream",
     "text": [
      "Epoch 50, Loss 0.0557\n",
      "Training Accuracy: 0.9463, Testing Accuracy: 0.9577\n",
      "\n"
     ]
    },
    {
     "name": "stdout",
     "output_type": "stream",
     "text": [
      "Epoch 60, Loss 0.0527\n",
      "Training Accuracy: 0.9482, Testing Accuracy: 0.9587\n",
      "\n"
     ]
    },
    {
     "name": "stdout",
     "output_type": "stream",
     "text": [
      "Epoch 70, Loss 0.0504\n",
      "Training Accuracy: 0.9494, Testing Accuracy: 0.9607\n",
      "\n"
     ]
    },
    {
     "name": "stdout",
     "output_type": "stream",
     "text": [
      "Epoch 80, Loss 0.0485\n",
      "Training Accuracy: 0.9508, Testing Accuracy: 0.9607\n",
      "\n"
     ]
    },
    {
     "name": "stdout",
     "output_type": "stream",
     "text": [
      "Epoch 90, Loss 0.0469\n",
      "Training Accuracy: 0.9518, Testing Accuracy: 0.9627\n",
      "\n"
     ]
    },
    {
     "name": "stdout",
     "output_type": "stream",
     "text": [
      "Epoch 100, Loss 0.0456\n",
      "Training Accuracy: 0.9523, Testing Accuracy: 0.9637\n",
      "\n"
     ]
    },
    {
     "name": "stdout",
     "output_type": "stream",
     "text": [
      "Epoch 110, Loss 0.0445\n",
      "Training Accuracy: 0.9538, Testing Accuracy: 0.9657\n",
      "\n"
     ]
    },
    {
     "name": "stdout",
     "output_type": "stream",
     "text": [
      "Epoch 120, Loss 0.0435\n",
      "Training Accuracy: 0.9551, Testing Accuracy: 0.9657\n",
      "\n"
     ]
    },
    {
     "name": "stdout",
     "output_type": "stream",
     "text": [
      "Epoch 130, Loss 0.0426\n",
      "Training Accuracy: 0.9560, Testing Accuracy: 0.9647\n",
      "\n"
     ]
    },
    {
     "name": "stdout",
     "output_type": "stream",
     "text": [
      "Epoch 140, Loss 0.0418\n",
      "Training Accuracy: 0.9563, Testing Accuracy: 0.9652\n",
      "\n"
     ]
    },
    {
     "name": "stdout",
     "output_type": "stream",
     "text": [
      "Epoch 150, Loss 0.0411\n",
      "Training Accuracy: 0.9572, Testing Accuracy: 0.9662\n",
      "\n"
     ]
    },
    {
     "name": "stdout",
     "output_type": "stream",
     "text": [
      "Epoch 160, Loss 0.0404\n",
      "Training Accuracy: 0.9575, Testing Accuracy: 0.9672\n",
      "\n"
     ]
    },
    {
     "name": "stdout",
     "output_type": "stream",
     "text": [
      "Epoch 170, Loss 0.0399\n",
      "Training Accuracy: 0.9583, Testing Accuracy: 0.9667\n",
      "\n"
     ]
    },
    {
     "name": "stdout",
     "output_type": "stream",
     "text": [
      "Epoch 180, Loss 0.0393\n",
      "Training Accuracy: 0.9588, Testing Accuracy: 0.9677\n",
      "\n"
     ]
    },
    {
     "name": "stdout",
     "output_type": "stream",
     "text": [
      "Epoch 190, Loss 0.0388\n",
      "Training Accuracy: 0.9590, Testing Accuracy: 0.9677\n",
      "\n"
     ]
    },
    {
     "name": "stdout",
     "output_type": "stream",
     "text": [
      "Epoch 200, Loss 0.0384\n",
      "Training Accuracy: 0.9595, Testing Accuracy: 0.9677\n",
      "\n"
     ]
    },
    {
     "name": "stdout",
     "output_type": "stream",
     "text": [
      "Epoch 210, Loss 0.0379\n",
      "Training Accuracy: 0.9597, Testing Accuracy: 0.9677\n",
      "\n"
     ]
    },
    {
     "name": "stdout",
     "output_type": "stream",
     "text": [
      "Epoch 220, Loss 0.0375\n",
      "Training Accuracy: 0.9601, Testing Accuracy: 0.9672\n",
      "\n"
     ]
    },
    {
     "name": "stdout",
     "output_type": "stream",
     "text": [
      "Epoch 230, Loss 0.0372\n",
      "Training Accuracy: 0.9605, Testing Accuracy: 0.9667\n",
      "\n"
     ]
    },
    {
     "name": "stdout",
     "output_type": "stream",
     "text": [
      "Epoch 240, Loss 0.0368\n",
      "Training Accuracy: 0.9605, Testing Accuracy: 0.9667\n",
      "\n"
     ]
    },
    {
     "data": {
      "text/plain": [
       "0.02597379592083865"
      ]
     },
     "execution_count": 23,
     "metadata": {},
     "output_type": "execute_result"
    }
   ],
   "source": [
    "lr_learner.train_loop(dl)"
   ]
  },
  {
   "cell_type": "code",
   "execution_count": 24,
   "id": "ca410940",
   "metadata": {
    "execution": {
     "iopub.execute_input": "2022-10-14T20:16:14.858873Z",
     "iopub.status.busy": "2022-10-14T20:16:14.856029Z",
     "iopub.status.idle": "2022-10-14T20:16:15.200713Z",
     "shell.execute_reply": "2022-10-14T20:16:15.201333Z"
    },
    "papermill": {
     "duration": 0.413469,
     "end_time": "2022-10-14T20:16:15.201502",
     "exception": false,
     "start_time": "2022-10-14T20:16:14.788033",
     "status": "completed"
    },
    "tags": []
   },
   "outputs": [
    {
     "data": {
      "text/plain": [
       "<matplotlib.legend.Legend at 0x7fdfd7fda358>"
      ]
     },
     "execution_count": 24,
     "metadata": {},
     "output_type": "execute_result"
    },
    {
     "data": {
      "image/png": "[encoded data removed]",
      "text/plain": [
       "<Figure size 1080x720 with 1 Axes>"
      ]
     },
     "metadata": {
      "needs_background": "light"
     },
     "output_type": "display_data"
    }
   ],
   "source": [
    "#comparing the results of NN and LR\n",
    "plt.figure(figsize=(15,10))\n",
    "\n",
    "# Neural Network plots\n",
    "plt.plot(acc_nn.accuracies, 'r-', label = \"Training Accuracies - NN\")\n",
    "plt.plot(acc_nn.test_accuracies, 'g-', label = \"Testing Accuracies - NN\")\n",
    "\n",
    "# Logistic Regression plots\n",
    "plt.plot(acc_lr.accuracies, 'k-', label = \"Training Accuracies - LR\")\n",
    "plt.plot(acc_lr.test_accuracies, 'b-', label = \"Testing Accuracies - LR\")\n",
    "plt.legend()"
   ]
  },
  {
   "cell_type": "markdown",
   "id": "80dfb35c",
   "metadata": {
    "papermill": {
     "duration": 0.053856,
     "end_time": "2022-10-14T20:16:15.324470",
     "exception": false,
     "start_time": "2022-10-14T20:16:15.270614",
     "status": "completed"
    },
    "tags": []
   },
   "source": [
    "#### Plotting the outputs of this layer of the NN.\n"
   ]
  },
  {
   "cell_type": "code",
   "execution_count": 25,
   "id": "45eb2ff5",
   "metadata": {
    "execution": {
     "iopub.execute_input": "2022-10-14T20:16:15.445049Z",
     "iopub.status.busy": "2022-10-14T20:16:15.444101Z",
     "iopub.status.idle": "2022-10-14T20:16:15.476662Z",
     "shell.execute_reply": "2022-10-14T20:16:15.477203Z"
    },
    "papermill": {
     "duration": 0.094648,
     "end_time": "2022-10-14T20:16:15.477396",
     "exception": false,
     "start_time": "2022-10-14T20:16:15.382748",
     "status": "completed"
    },
    "tags": []
   },
   "outputs": [],
   "source": [
    "new_model = Model(layers[:-2])\n",
    "testing_plot = new_model(testing_data_x)"
   ]
  },
  {
   "cell_type": "code",
   "execution_count": 26,
   "id": "4c0a5485",
   "metadata": {
    "execution": {
     "iopub.execute_input": "2022-10-14T20:16:15.599522Z",
     "iopub.status.busy": "2022-10-14T20:16:15.598764Z",
     "iopub.status.idle": "2022-10-14T20:16:15.870048Z",
     "shell.execute_reply": "2022-10-14T20:16:15.869357Z"
    },
    "papermill": {
     "duration": 0.336036,
     "end_time": "2022-10-14T20:16:15.870185",
     "exception": false,
     "start_time": "2022-10-14T20:16:15.534149",
     "status": "completed"
    },
    "tags": []
   },
   "outputs": [
    {
     "data": {
      "text/plain": [
       "Text(0.5, 1.0, 'Outputs')"
      ]
     },
     "execution_count": 26,
     "metadata": {},
     "output_type": "execute_result"
    },
    {
     "data": {
      "image/png": "[encoded data removed]",
      "text/plain": [
       "<Figure size 576x504 with 1 Axes>"
      ]
     },
     "metadata": {
      "needs_background": "light"
     },
     "output_type": "display_data"
    }
   ],
   "source": [
    "# Plotting the scatter plot of points and color coding by class\n",
    "plt.figure(figsize=(8,7))\n",
    "plt.scatter(testing_plot[:,0], testing_plot[:,1], alpha = 0.1, c = y_test.ravel());\n",
    "plt.title('Outputs')"
   ]
  },
  {
   "cell_type": "markdown",
   "id": "a74fcf8f",
   "metadata": {
    "papermill": {
     "duration": 0.060239,
     "end_time": "2022-10-14T20:16:16.023879",
     "exception": false,
     "start_time": "2022-10-14T20:16:15.963640",
     "status": "completed"
    },
    "tags": []
   },
   "source": [
    "Probability contours"
   ]
  },
  {
   "cell_type": "code",
   "execution_count": 27,
   "id": "d0afc8e3",
   "metadata": {
    "execution": {
     "iopub.execute_input": "2022-10-14T20:16:16.153326Z",
     "iopub.status.busy": "2022-10-14T20:16:16.152519Z",
     "iopub.status.idle": "2022-10-14T20:16:16.171801Z",
     "shell.execute_reply": "2022-10-14T20:16:16.171103Z"
    },
    "papermill": {
     "duration": 0.08706,
     "end_time": "2022-10-14T20:16:16.171937",
     "exception": false,
     "start_time": "2022-10-14T20:16:16.084877",
     "status": "completed"
    },
    "tags": []
   },
   "outputs": [],
   "source": [
    "model_prob = Model(layers[-2:]) "
   ]
  },
  {
   "cell_type": "code",
   "execution_count": 28,
   "id": "9b96e238",
   "metadata": {
    "execution": {
     "iopub.execute_input": "2022-10-14T20:16:16.301243Z",
     "iopub.status.busy": "2022-10-14T20:16:16.300297Z",
     "iopub.status.idle": "2022-10-14T20:16:16.320071Z",
     "shell.execute_reply": "2022-10-14T20:16:16.320751Z"
    },
    "papermill": {
     "duration": 0.088823,
     "end_time": "2022-10-14T20:16:16.320959",
     "exception": false,
     "start_time": "2022-10-14T20:16:16.232136",
     "status": "completed"
    },
    "tags": []
   },
   "outputs": [],
   "source": [
    "#creating the x and y ranges according to the above generated plot.\n",
    "x_range = np.linspace(-4, 1, 100) \n",
    "y_range = np.linspace(-6, 6, 100) \n",
    "x_grid, y_grid = np.meshgrid(x_range, y_range) # x_grid and y_grig are of size 100 X 100\n",
    "\n",
    "# converting x_grid and y_grid to continuous arrays\n",
    "x_gridflat = np.ravel(x_grid)\n",
    "y_gridflat = np.ravel(y_grid)\n",
    "\n",
    "# The last layer of the current model takes two columns as input. Hence transpose of np.vstack() is required.\n",
    "X = np.vstack((x_gridflat, y_gridflat)).T\n",
    "\n",
    "prob_contour = model_prob(X).reshape(100,100) "
   ]
  },
  {
   "cell_type": "code",
   "execution_count": 29,
   "id": "da72499a",
   "metadata": {
    "execution": {
     "iopub.execute_input": "2022-10-14T20:16:16.450092Z",
     "iopub.status.busy": "2022-10-14T20:16:16.449272Z",
     "iopub.status.idle": "2022-10-14T20:16:16.807731Z",
     "shell.execute_reply": "2022-10-14T20:16:16.806815Z"
    },
    "papermill": {
     "duration": 0.426021,
     "end_time": "2022-10-14T20:16:16.807891",
     "exception": false,
     "start_time": "2022-10-14T20:16:16.381870",
     "status": "completed"
    },
    "tags": []
   },
   "outputs": [
    {
     "data": {
      "image/png": "[encoded data removed]",
      "text/plain": [
       "<Figure size 720x648 with 1 Axes>"
      ]
     },
     "metadata": {
      "needs_background": "light"
     },
     "output_type": "display_data"
    }
   ],
   "source": [
    "plt.figure(figsize=(10,9))\n",
    "plt.scatter(testing_plot[:,0], testing_plot[:,1], alpha = 0.1, c = y_test.ravel())\n",
    "contours = plt.contour(x_grid,y_grid,prob_contour)\n",
    "plt.title('Probability Contours')\n",
    "plt.clabel(contours, inline = True );"
   ]
  },
  {
   "cell_type": "code",
   "execution_count": null,
   "id": "e81b4ac7",
   "metadata": {
    "papermill": {
     "duration": 0.064052,
     "end_time": "2022-10-14T20:16:16.936479",
     "exception": false,
     "start_time": "2022-10-14T20:16:16.872427",
     "status": "completed"
    },
    "tags": []
   },
   "outputs": [],
   "source": []
  }
 ],
 "metadata": {
  "kernelspec": {
   "display_name": "Python 3",
   "language": "python",
   "name": "python3"
  },
  "language_info": {
   "codemirror_mode": {
    "name": "ipython",
    "version": 3
   },
   "file_extension": ".py",
   "mimetype": "text/x-python",
   "name": "python",
   "nbconvert_exporter": "python",
   "pygments_lexer": "ipython3",
   "version": "3.6.15"
  },
  "papermill": {
   "default_parameters": {},
   "duration": 184.940491,
   "end_time": "2022-10-14T20:16:17.523922",
   "environment_variables": {},
   "exception": null,
   "input_path": "2020-08-11-part2.ipynb",
   "output_path": "2020-08-11-part2.ipynb",
   "parameters": {},
   "start_time": "2022-10-14T20:13:12.583431",
   "version": "2.3.3"
  }
 },
 "nbformat": 4,
 "nbformat_minor": 5
}