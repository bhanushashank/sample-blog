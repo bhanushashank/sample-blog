{
 "cells": [
  {
   "cell_type": "markdown",
   "id": "98380cd3",
   "metadata": {
    "papermill": {
     "duration": 0.036137,
     "end_time": "2022-09-03T10:11:23.595677",
     "exception": false,
     "start_time": "2022-09-03T10:11:23.559540",
     "status": "completed"
    },
    "tags": []
   },
   "source": [
    "# Distinguish Your Own Digits (DYOD)"
   ]
  },
  {
   "cell_type": "markdown",
   "id": "ef31240d",
   "metadata": {
    "papermill": {
     "duration": 0.032406,
     "end_time": "2022-09-03T10:11:23.659650",
     "exception": false,
     "start_time": "2022-09-03T10:11:23.627244",
     "status": "completed"
    },
    "tags": []
   },
   "source": [
    "You are going to write a classifier that distinguishes between the number 3 and number 8."
   ]
  },
  {
   "cell_type": "code",
   "execution_count": 1,
   "id": "b15c8646",
   "metadata": {
    "execution": {
     "iopub.execute_input": "2022-09-03T10:11:23.740394Z",
     "iopub.status.busy": "2022-09-03T10:11:23.736204Z",
     "iopub.status.idle": "2022-09-03T10:11:23.750631Z",
     "shell.execute_reply": "2022-09-03T10:11:23.749725Z"
    },
    "papermill": {
     "duration": 0.059773,
     "end_time": "2022-09-03T10:11:23.750770",
     "exception": false,
     "start_time": "2022-09-03T10:11:23.690997",
     "status": "completed"
    },
    "tags": []
   },
   "outputs": [],
   "source": [
    "%load_ext autoreload\n",
    "%autoreload 2"
   ]
  },
  {
   "cell_type": "code",
   "execution_count": 2,
   "id": "22ef38dc",
   "metadata": {
    "execution": {
     "iopub.execute_input": "2022-09-03T10:11:23.817137Z",
     "iopub.status.busy": "2022-09-03T10:11:23.816444Z",
     "iopub.status.idle": "2022-09-03T10:11:24.495453Z",
     "shell.execute_reply": "2022-09-03T10:11:24.494813Z"
    },
    "papermill": {
     "duration": 0.714401,
     "end_time": "2022-09-03T10:11:24.495589",
     "exception": false,
     "start_time": "2022-09-03T10:11:23.781188",
     "status": "completed"
    },
    "tags": []
   },
   "outputs": [],
   "source": [
    "%matplotlib inline\n",
    "import numpy as np\n",
    "import matplotlib.pyplot as plt\n",
    "import pandas as pd"
   ]
  },
  {
   "cell_type": "markdown",
   "id": "ba036198",
   "metadata": {
    "papermill": {
     "duration": 0.0307,
     "end_time": "2022-09-03T10:11:24.557474",
     "exception": false,
     "start_time": "2022-09-03T10:11:24.526774",
     "status": "completed"
    },
    "tags": []
   },
   "source": [
    "From the command line run `pip install mnist`. This is a library that will help you bring down the mnist dataset. If you run this from a notebook, you need to put  `!pip install mnist` in a cell by itself."
   ]
  },
  {
   "cell_type": "code",
   "execution_count": 3,
   "id": "bb6ad8a1",
   "metadata": {
    "execution": {
     "iopub.execute_input": "2022-09-03T10:11:24.629086Z",
     "iopub.status.busy": "2022-09-03T10:11:24.627392Z",
     "iopub.status.idle": "2022-09-03T10:11:26.711265Z",
     "shell.execute_reply": "2022-09-03T10:11:26.710578Z"
    },
    "papermill": {
     "duration": 2.121749,
     "end_time": "2022-09-03T10:11:26.711422",
     "exception": false,
     "start_time": "2022-09-03T10:11:24.589673",
     "status": "completed"
    },
    "tags": []
   },
   "outputs": [
    {
     "name": "stdout",
     "output_type": "stream",
     "text": [
      "Collecting mnist\r\n"
     ]
    },
    {
     "name": "stdout",
     "output_type": "stream",
     "text": [
      "  Downloading mnist-0.2.2-py2.py3-none-any.whl (3.5 kB)\r\n",
      "Requirement already satisfied: numpy in /opt/hostedtoolcache/Python/3.6.15/x64/lib/python3.6/site-packages (from mnist) (1.19.5)\r\n"
     ]
    },
    {
     "name": "stdout",
     "output_type": "stream",
     "text": [
      "Installing collected packages: mnist\r\n"
     ]
    },
    {
     "name": "stdout",
     "output_type": "stream",
     "text": [
      "Successfully installed mnist-0.2.2\r\n"
     ]
    }
   ],
   "source": [
    "!pip install mnist"
   ]
  },
  {
   "cell_type": "markdown",
   "id": "69df9c9a",
   "metadata": {
    "papermill": {
     "duration": 0.03265,
     "end_time": "2022-09-03T10:11:26.779463",
     "exception": false,
     "start_time": "2022-09-03T10:11:26.746813",
     "status": "completed"
    },
    "tags": []
   },
   "source": [
    "## Preparing the Data"
   ]
  },
  {
   "cell_type": "code",
   "execution_count": 4,
   "id": "7f69d806",
   "metadata": {
    "execution": {
     "iopub.execute_input": "2022-09-03T10:11:26.856811Z",
     "iopub.status.busy": "2022-09-03T10:11:26.856028Z",
     "iopub.status.idle": "2022-09-03T10:11:26.873929Z",
     "shell.execute_reply": "2022-09-03T10:11:26.873251Z"
    },
    "papermill": {
     "duration": 0.055892,
     "end_time": "2022-09-03T10:11:26.874100",
     "exception": false,
     "start_time": "2022-09-03T10:11:26.818208",
     "status": "completed"
    },
    "tags": []
   },
   "outputs": [],
   "source": [
    "import mnist"
   ]
  },
  {
   "cell_type": "code",
   "execution_count": 5,
   "id": "a411e44f",
   "metadata": {
    "execution": {
     "iopub.execute_input": "2022-09-03T10:11:26.952887Z",
     "iopub.status.busy": "2022-09-03T10:11:26.952057Z",
     "iopub.status.idle": "2022-09-03T10:11:27.610465Z",
     "shell.execute_reply": "2022-09-03T10:11:27.609093Z"
    },
    "papermill": {
     "duration": 0.698169,
     "end_time": "2022-09-03T10:11:27.610634",
     "exception": false,
     "start_time": "2022-09-03T10:11:26.912465",
     "status": "completed"
    },
    "tags": []
   },
   "outputs": [],
   "source": [
    "train_images = mnist.train_images()\n",
    "train_labels = mnist.train_labels()"
   ]
  },
  {
   "cell_type": "code",
   "execution_count": 6,
   "id": "dceab3a5",
   "metadata": {
    "execution": {
     "iopub.execute_input": "2022-09-03T10:11:27.676798Z",
     "iopub.status.busy": "2022-09-03T10:11:27.676031Z",
     "iopub.status.idle": "2022-09-03T10:11:27.693829Z",
     "shell.execute_reply": "2022-09-03T10:11:27.693018Z"
    },
    "papermill": {
     "duration": 0.052198,
     "end_time": "2022-09-03T10:11:27.694006",
     "exception": false,
     "start_time": "2022-09-03T10:11:27.641808",
     "status": "completed"
    },
    "tags": []
   },
   "outputs": [
    {
     "data": {
      "text/plain": [
       "((60000, 28, 28), (60000,))"
      ]
     },
     "execution_count": 6,
     "metadata": {},
     "output_type": "execute_result"
    }
   ],
   "source": [
    "train_images.shape, train_labels.shape"
   ]
  },
  {
   "cell_type": "code",
   "execution_count": 7,
   "id": "f50dc2bb",
   "metadata": {
    "execution": {
     "iopub.execute_input": "2022-09-03T10:11:27.768062Z",
     "iopub.status.busy": "2022-09-03T10:11:27.767260Z",
     "iopub.status.idle": "2022-09-03T10:11:27.974523Z",
     "shell.execute_reply": "2022-09-03T10:11:27.973256Z"
    },
    "papermill": {
     "duration": 0.246482,
     "end_time": "2022-09-03T10:11:27.974660",
     "exception": false,
     "start_time": "2022-09-03T10:11:27.728178",
     "status": "completed"
    },
    "tags": []
   },
   "outputs": [],
   "source": [
    "test_images = mnist.test_images()\n",
    "test_labels = mnist.test_labels()"
   ]
  },
  {
   "cell_type": "code",
   "execution_count": 8,
   "id": "fc38cf1b",
   "metadata": {
    "execution": {
     "iopub.execute_input": "2022-09-03T10:11:28.046603Z",
     "iopub.status.busy": "2022-09-03T10:11:28.045339Z",
     "iopub.status.idle": "2022-09-03T10:11:28.060676Z",
     "shell.execute_reply": "2022-09-03T10:11:28.061315Z"
    },
    "papermill": {
     "duration": 0.051721,
     "end_time": "2022-09-03T10:11:28.061455",
     "exception": false,
     "start_time": "2022-09-03T10:11:28.009734",
     "status": "completed"
    },
    "tags": []
   },
   "outputs": [
    {
     "data": {
      "text/plain": [
       "((10000, 28, 28), (10000,))"
      ]
     },
     "execution_count": 8,
     "metadata": {},
     "output_type": "execute_result"
    }
   ],
   "source": [
    "test_images.shape, test_labels.shape"
   ]
  },
  {
   "cell_type": "code",
   "execution_count": 9,
   "id": "f9ed8fe0",
   "metadata": {
    "execution": {
     "iopub.execute_input": "2022-09-03T10:11:28.138495Z",
     "iopub.status.busy": "2022-09-03T10:11:28.137634Z",
     "iopub.status.idle": "2022-09-03T10:11:28.338164Z",
     "shell.execute_reply": "2022-09-03T10:11:28.338832Z"
    },
    "papermill": {
     "duration": 0.239307,
     "end_time": "2022-09-03T10:11:28.338996",
     "exception": false,
     "start_time": "2022-09-03T10:11:28.099689",
     "status": "completed"
    },
    "tags": []
   },
   "outputs": [
    {
     "name": "stdout",
     "output_type": "stream",
     "text": [
      "2\n"
     ]
    },
    {
     "data": {
      "text/plain": [
       "<matplotlib.image.AxesImage at 0x7f2df4337c88>"
      ]
     },
     "execution_count": 9,
     "metadata": {},
     "output_type": "execute_result"
    },
    {
     "data": {
      "image/png": "[encoded data removed]",
      "text/plain": [
       "<Figure size 432x288 with 1 Axes>"
      ]
     },
     "metadata": {
      "needs_background": "light"
     },
     "output_type": "display_data"
    }
   ],
   "source": [
    "image_index = 7776 # You may select anything up to 60,000\n",
    "print(train_labels[image_index]) \n",
    "plt.imshow(train_images[image_index], cmap='Greys')"
   ]
  },
  {
   "cell_type": "markdown",
   "id": "a8d2388d",
   "metadata": {
    "papermill": {
     "duration": 0.040107,
     "end_time": "2022-09-03T10:11:28.417673",
     "exception": false,
     "start_time": "2022-09-03T10:11:28.377566",
     "status": "completed"
    },
    "tags": []
   },
   "source": [
    "## Filter data to get 3 and 8 out"
   ]
  },
  {
   "cell_type": "code",
   "execution_count": 10,
   "id": "776f7fc7",
   "metadata": {
    "execution": {
     "iopub.execute_input": "2022-09-03T10:11:28.496163Z",
     "iopub.status.busy": "2022-09-03T10:11:28.493057Z",
     "iopub.status.idle": "2022-09-03T10:11:28.518220Z",
     "shell.execute_reply": "2022-09-03T10:11:28.518794Z"
    },
    "papermill": {
     "duration": 0.066776,
     "end_time": "2022-09-03T10:11:28.518986",
     "exception": false,
     "start_time": "2022-09-03T10:11:28.452210",
     "status": "completed"
    },
    "tags": []
   },
   "outputs": [],
   "source": [
    "train_filter = np.where((train_labels == 3 ) | (train_labels == 8))\n",
    "test_filter = np.where((test_labels == 3) | (test_labels == 8))\n",
    "X_train, y_train = train_images[train_filter], train_labels[train_filter]\n",
    "X_test, y_test = test_images[test_filter], test_labels[test_filter]"
   ]
  },
  {
   "cell_type": "markdown",
   "id": "948f0b7e",
   "metadata": {
    "papermill": {
     "duration": 0.033365,
     "end_time": "2022-09-03T10:11:28.584645",
     "exception": false,
     "start_time": "2022-09-03T10:11:28.551280",
     "status": "completed"
    },
    "tags": []
   },
   "source": [
    "We normalize the pizel values in the 0 to 1 range"
   ]
  },
  {
   "cell_type": "code",
   "execution_count": 11,
   "id": "ee4c2166",
   "metadata": {
    "execution": {
     "iopub.execute_input": "2022-09-03T10:11:28.661953Z",
     "iopub.status.busy": "2022-09-03T10:11:28.661236Z",
     "iopub.status.idle": "2022-09-03T10:11:28.727592Z",
     "shell.execute_reply": "2022-09-03T10:11:28.726930Z"
    },
    "papermill": {
     "duration": 0.104705,
     "end_time": "2022-09-03T10:11:28.727741",
     "exception": false,
     "start_time": "2022-09-03T10:11:28.623036",
     "status": "completed"
    },
    "tags": []
   },
   "outputs": [],
   "source": [
    "X_train = X_train/255.\n",
    "X_test = X_test/255."
   ]
  },
  {
   "cell_type": "markdown",
   "id": "ddcf4fab",
   "metadata": {
    "papermill": {
     "duration": 0.037814,
     "end_time": "2022-09-03T10:11:28.802366",
     "exception": false,
     "start_time": "2022-09-03T10:11:28.764552",
     "status": "completed"
    },
    "tags": []
   },
   "source": [
    "And setup the labels as 1 (when the digit is 3) and 0 (when the digit is 8)"
   ]
  },
  {
   "cell_type": "code",
   "execution_count": 12,
   "id": "7dc908f2",
   "metadata": {
    "execution": {
     "iopub.execute_input": "2022-09-03T10:11:28.875810Z",
     "iopub.status.busy": "2022-09-03T10:11:28.875016Z",
     "iopub.status.idle": "2022-09-03T10:11:28.890024Z",
     "shell.execute_reply": "2022-09-03T10:11:28.890547Z"
    },
    "papermill": {
     "duration": 0.053508,
     "end_time": "2022-09-03T10:11:28.890704",
     "exception": false,
     "start_time": "2022-09-03T10:11:28.837196",
     "status": "completed"
    },
    "tags": []
   },
   "outputs": [],
   "source": [
    "y_train = 1*(y_train==3)\n",
    "y_test = 1*(y_test==3)"
   ]
  },
  {
   "cell_type": "code",
   "execution_count": 13,
   "id": "01e4e969",
   "metadata": {
    "execution": {
     "iopub.execute_input": "2022-09-03T10:11:28.963885Z",
     "iopub.status.busy": "2022-09-03T10:11:28.963145Z",
     "iopub.status.idle": "2022-09-03T10:11:28.979316Z",
     "shell.execute_reply": "2022-09-03T10:11:28.979911Z"
    },
    "papermill": {
     "duration": 0.054748,
     "end_time": "2022-09-03T10:11:28.980088",
     "exception": false,
     "start_time": "2022-09-03T10:11:28.925340",
     "status": "completed"
    },
    "tags": []
   },
   "outputs": [
    {
     "data": {
      "text/plain": [
       "((11982, 28, 28), (1984, 28, 28))"
      ]
     },
     "execution_count": 13,
     "metadata": {},
     "output_type": "execute_result"
    }
   ],
   "source": [
    "X_train.shape, X_test.shape"
   ]
  },
  {
   "cell_type": "markdown",
   "id": "5ccf3f85",
   "metadata": {
    "papermill": {
     "duration": 0.039638,
     "end_time": "2022-09-03T10:11:29.060302",
     "exception": false,
     "start_time": "2022-09-03T10:11:29.020664",
     "status": "completed"
    },
    "tags": []
   },
   "source": [
    "We reshape the data to flatten the image pixels into a set of features or co-variates:"
   ]
  },
  {
   "cell_type": "code",
   "execution_count": 14,
   "id": "5286a4a3",
   "metadata": {
    "execution": {
     "iopub.execute_input": "2022-09-03T10:11:29.136478Z",
     "iopub.status.busy": "2022-09-03T10:11:29.135753Z",
     "iopub.status.idle": "2022-09-03T10:11:29.152022Z",
     "shell.execute_reply": "2022-09-03T10:11:29.152580Z"
    },
    "papermill": {
     "duration": 0.055828,
     "end_time": "2022-09-03T10:11:29.152757",
     "exception": false,
     "start_time": "2022-09-03T10:11:29.096929",
     "status": "completed"
    },
    "tags": []
   },
   "outputs": [
    {
     "data": {
      "text/plain": [
       "((11982, 784), (1984, 784))"
      ]
     },
     "execution_count": 14,
     "metadata": {},
     "output_type": "execute_result"
    }
   ],
   "source": [
    "X_train = X_train.reshape(X_train.shape[0], -1)\n",
    "X_test = X_test.reshape(X_test.shape[0], -1)\n",
    "X_train.shape, X_test.shape"
   ]
  },
  {
   "cell_type": "code",
   "execution_count": 15,
   "id": "73c5f88a",
   "metadata": {
    "execution": {
     "iopub.execute_input": "2022-09-03T10:11:29.233253Z",
     "iopub.status.busy": "2022-09-03T10:11:29.232512Z",
     "iopub.status.idle": "2022-09-03T10:11:29.252441Z",
     "shell.execute_reply": "2022-09-03T10:11:29.252922Z"
    },
    "papermill": {
     "duration": 0.062973,
     "end_time": "2022-09-03T10:11:29.253066",
     "exception": false,
     "start_time": "2022-09-03T10:11:29.190093",
     "status": "completed"
    },
    "tags": []
   },
   "outputs": [],
   "source": [
    "#Impoting functions from 'Kudzu'\n",
    "from kudzu.model import Model\n",
    "from kudzu.train import Learner\n",
    "from kudzu.optim import GD\n",
    "from kudzu.data import Data, Sampler,Dataloader\n",
    "\n",
    "from kudzu.callbacks import AccCallback\n",
    "from kudzu.callbacks import ClfCallback\n",
    "\n",
    "from kudzu.loss import MSE\n",
    "\n",
    "from kudzu.layer import Sigmoid,Relu\n",
    "from kudzu.layer import Affine"
   ]
  },
  {
   "cell_type": "markdown",
   "id": "bc01172a",
   "metadata": {
    "papermill": {
     "duration": 0.032876,
     "end_time": "2022-09-03T10:11:29.319016",
     "exception": false,
     "start_time": "2022-09-03T10:11:29.286140",
     "status": "completed"
    },
    "tags": []
   },
   "source": [
    "### Let us create a `Config` class, to store important parameters. \n",
    "This class essentially plays the role of a dictionary."
   ]
  },
  {
   "cell_type": "code",
   "execution_count": 16,
   "id": "978281aa",
   "metadata": {
    "execution": {
     "iopub.execute_input": "2022-09-03T10:11:29.395686Z",
     "iopub.status.busy": "2022-09-03T10:11:29.394960Z",
     "iopub.status.idle": "2022-09-03T10:11:29.408127Z",
     "shell.execute_reply": "2022-09-03T10:11:29.407522Z"
    },
    "papermill": {
     "duration": 0.055826,
     "end_time": "2022-09-03T10:11:29.408255",
     "exception": false,
     "start_time": "2022-09-03T10:11:29.352429",
     "status": "completed"
    },
    "tags": []
   },
   "outputs": [],
   "source": [
    "class Config:\n",
    "    pass\n",
    "config = Config()\n",
    "config.lr = 0.001\n",
    "config.num_epochs = 250\n",
    "config.bs = 50"
   ]
  },
  {
   "cell_type": "markdown",
   "id": "1385fa59",
   "metadata": {
    "papermill": {
     "duration": 0.038193,
     "end_time": "2022-09-03T10:11:29.481903",
     "exception": false,
     "start_time": "2022-09-03T10:11:29.443710",
     "status": "completed"
    },
    "tags": []
   },
   "source": [
    "### Running Models with the Training data\n",
    "Details about the network layers:\n",
    "- A first affine layer has 784 inputs and does 100 affine transforms. These are followed by a Relu\n",
    "- A second affine layer has 100 inputs from the 100 activations of the past layer, and does 100 affine transforms. These are followed by a Relu\n",
    "- A third affine layer has 100 activations and does 2 affine transformations to create an embedding for visualization. There is no non-linearity here.\n",
    "- A final \"logistic regression\" which has an affine transform from 2 inputs to 1 output, which is squeezed through a sigmoid.\n"
   ]
  },
  {
   "cell_type": "code",
   "execution_count": 17,
   "id": "2b9c66db",
   "metadata": {
    "execution": {
     "iopub.execute_input": "2022-09-03T10:11:29.559598Z",
     "iopub.status.busy": "2022-09-03T10:11:29.558671Z",
     "iopub.status.idle": "2022-09-03T10:11:29.578616Z",
     "shell.execute_reply": "2022-09-03T10:11:29.577997Z"
    },
    "papermill": {
     "duration": 0.059852,
     "end_time": "2022-09-03T10:11:29.578793",
     "exception": false,
     "start_time": "2022-09-03T10:11:29.518941",
     "status": "completed"
    },
    "tags": []
   },
   "outputs": [],
   "source": [
    "data = Data(X_train, y_train.reshape(-1,1))\n",
    "sampler = Sampler(data, config.bs, shuffle=True)\n",
    "\n",
    "dl = Dataloader(data, sampler)\n",
    "\n",
    "opt = GD(config.lr)\n",
    "loss = MSE()"
   ]
  },
  {
   "cell_type": "code",
   "execution_count": 18,
   "id": "b275e4c2",
   "metadata": {
    "execution": {
     "iopub.execute_input": "2022-09-03T10:11:29.656674Z",
     "iopub.status.busy": "2022-09-03T10:11:29.655996Z",
     "iopub.status.idle": "2022-09-03T10:11:29.670451Z",
     "shell.execute_reply": "2022-09-03T10:11:29.669725Z"
    },
    "papermill": {
     "duration": 0.052354,
     "end_time": "2022-09-03T10:11:29.670644",
     "exception": false,
     "start_time": "2022-09-03T10:11:29.618290",
     "status": "completed"
    },
    "tags": []
   },
   "outputs": [],
   "source": [
    "training_data_x = X_train\n",
    "testing_data_x = X_test\n",
    "training_data_y = y_train.reshape(-1,1)\n",
    "testing_data_y = y_test.reshape(-1,1)"
   ]
  },
  {
   "cell_type": "code",
   "execution_count": 19,
   "id": "76951160",
   "metadata": {
    "execution": {
     "iopub.execute_input": "2022-09-03T10:11:29.742166Z",
     "iopub.status.busy": "2022-09-03T10:11:29.741348Z",
     "iopub.status.idle": "2022-09-03T10:11:29.766137Z",
     "shell.execute_reply": "2022-09-03T10:11:29.765581Z"
    },
    "papermill": {
     "duration": 0.062188,
     "end_time": "2022-09-03T10:11:29.766270",
     "exception": false,
     "start_time": "2022-09-03T10:11:29.704082",
     "status": "completed"
    },
    "tags": []
   },
   "outputs": [
    {
     "name": "stdout",
     "output_type": "stream",
     "text": [
      "xavier\n",
      "xavier\n",
      "xavier\n",
      "xavier\n",
      "xavier\n"
     ]
    }
   ],
   "source": [
    "layers = [Affine(\"first\", 784, 100), Relu(\"first\"), Affine(\"second\", 100, 100), Relu(\"second\"), Affine(\"third\", 100, 2), Affine(\"last\", 2, 1), Sigmoid(\"last\")]\n",
    "model_nn = Model(layers)\n",
    "model_lr = Model([Affine(\"logits\", 784, 1), Sigmoid(\"sigmoid\")])"
   ]
  },
  {
   "cell_type": "code",
   "execution_count": 20,
   "id": "6eede77a",
   "metadata": {
    "execution": {
     "iopub.execute_input": "2022-09-03T10:11:29.846065Z",
     "iopub.status.busy": "2022-09-03T10:11:29.845166Z",
     "iopub.status.idle": "2022-09-03T10:11:29.859509Z",
     "shell.execute_reply": "2022-09-03T10:11:29.858820Z"
    },
    "papermill": {
     "duration": 0.054046,
     "end_time": "2022-09-03T10:11:29.859651",
     "exception": false,
     "start_time": "2022-09-03T10:11:29.805605",
     "status": "completed"
    },
    "tags": []
   },
   "outputs": [],
   "source": [
    "nn_learner = Learner(loss, model_nn, opt, config.num_epochs)\n",
    "acc_nn = ClfCallback(nn_learner, config.bs, training_data_x , testing_data_x, training_data_y, testing_data_y)\n",
    "nn_learner.set_callbacks([acc_nn])"
   ]
  },
  {
   "cell_type": "code",
   "execution_count": 21,
   "id": "877b6cc7",
   "metadata": {
    "execution": {
     "iopub.execute_input": "2022-09-03T10:11:29.948263Z",
     "iopub.status.busy": "2022-09-03T10:11:29.947513Z",
     "iopub.status.idle": "2022-09-03T10:11:29.961763Z",
     "shell.execute_reply": "2022-09-03T10:11:29.961201Z"
    },
    "papermill": {
     "duration": 0.055999,
     "end_time": "2022-09-03T10:11:29.961882",
     "exception": false,
     "start_time": "2022-09-03T10:11:29.905883",
     "status": "completed"
    },
    "tags": []
   },
   "outputs": [],
   "source": [
    "lr_learner = Learner(loss, model_lr, opt, config.num_epochs)\n",
    "acc_lr = ClfCallback(lr_learner, config.bs, training_data_x , testing_data_x, training_data_y, testing_data_y)\n",
    "lr_learner.set_callbacks([acc_lr])"
   ]
  },
  {
   "cell_type": "code",
   "execution_count": 22,
   "id": "d9b133c3",
   "metadata": {
    "execution": {
     "iopub.execute_input": "2022-09-03T10:11:30.041303Z",
     "iopub.status.busy": "2022-09-03T10:11:30.040434Z",
     "iopub.status.idle": "2022-09-03T10:13:54.095137Z",
     "shell.execute_reply": "2022-09-03T10:13:54.096150Z"
    },
    "papermill": {
     "duration": 144.096207,
     "end_time": "2022-09-03T10:13:54.096358",
     "exception": false,
     "start_time": "2022-09-03T10:11:30.000151",
     "status": "completed"
    },
    "tags": []
   },
   "outputs": [
    {
     "name": "stdout",
     "output_type": "stream",
     "text": [
      "Epoch 0, Loss 0.2422\n",
      "Training Accuracy: 0.6535, Testing Accuracy: 0.6351\n",
      "\n"
     ]
    },
    {
     "name": "stdout",
     "output_type": "stream",
     "text": [
      "Epoch 10, Loss 0.1201\n",
      "Training Accuracy: 0.9039, Testing Accuracy: 0.9133\n",
      "\n"
     ]
    },
    {
     "name": "stdout",
     "output_type": "stream",
     "text": [
      "Epoch 20, Loss 0.065\n",
      "Training Accuracy: 0.9328, Testing Accuracy: 0.9486\n",
      "\n"
     ]
    },
    {
     "name": "stdout",
     "output_type": "stream",
     "text": [
      "Epoch 30, Loss 0.0485\n",
      "Training Accuracy: 0.9469, Testing Accuracy: 0.9622\n",
      "\n"
     ]
    },
    {
     "name": "stdout",
     "output_type": "stream",
     "text": [
      "Epoch 40, Loss 0.0407\n",
      "Training Accuracy: 0.9544, Testing Accuracy: 0.9677\n",
      "\n"
     ]
    },
    {
     "name": "stdout",
     "output_type": "stream",
     "text": [
      "Epoch 50, Loss 0.0361\n",
      "Training Accuracy: 0.9589, Testing Accuracy: 0.9682\n",
      "\n"
     ]
    },
    {
     "name": "stdout",
     "output_type": "stream",
     "text": [
      "Epoch 60, Loss 0.033\n",
      "Training Accuracy: 0.9620, Testing Accuracy: 0.9713\n",
      "\n"
     ]
    },
    {
     "name": "stdout",
     "output_type": "stream",
     "text": [
      "Epoch 70, Loss 0.0308\n",
      "Training Accuracy: 0.9642, Testing Accuracy: 0.9753\n",
      "\n"
     ]
    },
    {
     "name": "stdout",
     "output_type": "stream",
     "text": [
      "Epoch 80, Loss 0.0291\n",
      "Training Accuracy: 0.9657, Testing Accuracy: 0.9743\n",
      "\n"
     ]
    },
    {
     "name": "stdout",
     "output_type": "stream",
     "text": [
      "Epoch 90, Loss 0.0276\n",
      "Training Accuracy: 0.9676, Testing Accuracy: 0.9748\n",
      "\n"
     ]
    },
    {
     "name": "stdout",
     "output_type": "stream",
     "text": [
      "Epoch 100, Loss 0.0264\n",
      "Training Accuracy: 0.9695, Testing Accuracy: 0.9743\n",
      "\n"
     ]
    },
    {
     "name": "stdout",
     "output_type": "stream",
     "text": [
      "Epoch 110, Loss 0.0254\n",
      "Training Accuracy: 0.9711, Testing Accuracy: 0.9748\n",
      "\n"
     ]
    },
    {
     "name": "stdout",
     "output_type": "stream",
     "text": [
      "Epoch 120, Loss 0.0244\n",
      "Training Accuracy: 0.9721, Testing Accuracy: 0.9748\n",
      "\n"
     ]
    },
    {
     "name": "stdout",
     "output_type": "stream",
     "text": [
      "Epoch 130, Loss 0.0236\n",
      "Training Accuracy: 0.9731, Testing Accuracy: 0.9743\n",
      "\n"
     ]
    },
    {
     "name": "stdout",
     "output_type": "stream",
     "text": [
      "Epoch 140, Loss 0.0228\n",
      "Training Accuracy: 0.9740, Testing Accuracy: 0.9748\n",
      "\n"
     ]
    },
    {
     "name": "stdout",
     "output_type": "stream",
     "text": [
      "Epoch 150, Loss 0.0221\n",
      "Training Accuracy: 0.9753, Testing Accuracy: 0.9763\n",
      "\n"
     ]
    },
    {
     "name": "stdout",
     "output_type": "stream",
     "text": [
      "Epoch 160, Loss 0.0215\n",
      "Training Accuracy: 0.9760, Testing Accuracy: 0.9768\n",
      "\n"
     ]
    },
    {
     "name": "stdout",
     "output_type": "stream",
     "text": [
      "Epoch 170, Loss 0.0208\n",
      "Training Accuracy: 0.9767, Testing Accuracy: 0.9768\n",
      "\n"
     ]
    },
    {
     "name": "stdout",
     "output_type": "stream",
     "text": [
      "Epoch 180, Loss 0.0203\n",
      "Training Accuracy: 0.9772, Testing Accuracy: 0.9763\n",
      "\n"
     ]
    },
    {
     "name": "stdout",
     "output_type": "stream",
     "text": [
      "Epoch 190, Loss 0.0197\n",
      "Training Accuracy: 0.9779, Testing Accuracy: 0.9763\n",
      "\n"
     ]
    },
    {
     "name": "stdout",
     "output_type": "stream",
     "text": [
      "Epoch 200, Loss 0.0192\n",
      "Training Accuracy: 0.9786, Testing Accuracy: 0.9763\n",
      "\n"
     ]
    },
    {
     "name": "stdout",
     "output_type": "stream",
     "text": [
      "Epoch 210, Loss 0.0187\n",
      "Training Accuracy: 0.9793, Testing Accuracy: 0.9768\n",
      "\n"
     ]
    },
    {
     "name": "stdout",
     "output_type": "stream",
     "text": [
      "Epoch 220, Loss 0.0182\n",
      "Training Accuracy: 0.9801, Testing Accuracy: 0.9778\n",
      "\n"
     ]
    },
    {
     "name": "stdout",
     "output_type": "stream",
     "text": [
      "Epoch 230, Loss 0.0177\n",
      "Training Accuracy: 0.9806, Testing Accuracy: 0.9778\n",
      "\n"
     ]
    },
    {
     "name": "stdout",
     "output_type": "stream",
     "text": [
      "Epoch 240, Loss 0.0172\n",
      "Training Accuracy: 0.9810, Testing Accuracy: 0.9778\n",
      "\n"
     ]
    },
    {
     "data": {
      "text/plain": [
       "0.027511437646541487"
      ]
     },
     "execution_count": 22,
     "metadata": {},
     "output_type": "execute_result"
    }
   ],
   "source": [
    "nn_learner.train_loop(dl)"
   ]
  },
  {
   "cell_type": "code",
   "execution_count": 23,
   "id": "e0163366",
   "metadata": {
    "execution": {
     "iopub.execute_input": "2022-09-03T10:13:54.203565Z",
     "iopub.status.busy": "2022-09-03T10:13:54.202828Z",
     "iopub.status.idle": "2022-09-03T10:14:14.544165Z",
     "shell.execute_reply": "2022-09-03T10:14:14.545343Z"
    },
    "papermill": {
     "duration": 20.402785,
     "end_time": "2022-09-03T10:14:14.545522",
     "exception": false,
     "start_time": "2022-09-03T10:13:54.142737",
     "status": "completed"
    },
    "tags": []
   },
   "outputs": [
    {
     "name": "stdout",
     "output_type": "stream",
     "text": [
      "Epoch 0, Loss 0.2507\n",
      "Training Accuracy: 0.6564, Testing Accuracy: 0.6704\n",
      "\n"
     ]
    },
    {
     "name": "stdout",
     "output_type": "stream",
     "text": [
      "Epoch 10, Loss 0.105\n",
      "Training Accuracy: 0.9062, Testing Accuracy: 0.9168\n",
      "\n"
     ]
    },
    {
     "name": "stdout",
     "output_type": "stream",
     "text": [
      "Epoch 20, Loss 0.0801\n",
      "Training Accuracy: 0.9260, Testing Accuracy: 0.9405\n",
      "\n"
     ]
    },
    {
     "name": "stdout",
     "output_type": "stream",
     "text": [
      "Epoch 30, Loss 0.0687\n",
      "Training Accuracy: 0.9372, Testing Accuracy: 0.9486\n",
      "\n"
     ]
    },
    {
     "name": "stdout",
     "output_type": "stream",
     "text": [
      "Epoch 40, Loss 0.0618\n",
      "Training Accuracy: 0.9430, Testing Accuracy: 0.9511\n",
      "\n"
     ]
    },
    {
     "name": "stdout",
     "output_type": "stream",
     "text": [
      "Epoch 50, Loss 0.0572\n",
      "Training Accuracy: 0.9463, Testing Accuracy: 0.9531\n",
      "\n"
     ]
    },
    {
     "name": "stdout",
     "output_type": "stream",
     "text": [
      "Epoch 60, Loss 0.0538\n",
      "Training Accuracy: 0.9490, Testing Accuracy: 0.9536\n",
      "\n"
     ]
    },
    {
     "name": "stdout",
     "output_type": "stream",
     "text": [
      "Epoch 70, Loss 0.0512\n",
      "Training Accuracy: 0.9503, Testing Accuracy: 0.9567\n",
      "\n"
     ]
    },
    {
     "name": "stdout",
     "output_type": "stream",
     "text": [
      "Epoch 80, Loss 0.0491\n",
      "Training Accuracy: 0.9524, Testing Accuracy: 0.9582\n",
      "\n"
     ]
    },
    {
     "name": "stdout",
     "output_type": "stream",
     "text": [
      "Epoch 90, Loss 0.0474\n",
      "Training Accuracy: 0.9534, Testing Accuracy: 0.9592\n",
      "\n"
     ]
    },
    {
     "name": "stdout",
     "output_type": "stream",
     "text": [
      "Epoch 100, Loss 0.046\n",
      "Training Accuracy: 0.9544, Testing Accuracy: 0.9607\n",
      "\n"
     ]
    },
    {
     "name": "stdout",
     "output_type": "stream",
     "text": [
      "Epoch 110, Loss 0.0447\n",
      "Training Accuracy: 0.9553, Testing Accuracy: 0.9617\n",
      "\n"
     ]
    },
    {
     "name": "stdout",
     "output_type": "stream",
     "text": [
      "Epoch 120, Loss 0.0437\n",
      "Training Accuracy: 0.9567, Testing Accuracy: 0.9622\n",
      "\n"
     ]
    },
    {
     "name": "stdout",
     "output_type": "stream",
     "text": [
      "Epoch 130, Loss 0.0427\n",
      "Training Accuracy: 0.9574, Testing Accuracy: 0.9627\n",
      "\n"
     ]
    },
    {
     "name": "stdout",
     "output_type": "stream",
     "text": [
      "Epoch 140, Loss 0.0419\n",
      "Training Accuracy: 0.9581, Testing Accuracy: 0.9632\n",
      "\n"
     ]
    },
    {
     "name": "stdout",
     "output_type": "stream",
     "text": [
      "Epoch 150, Loss 0.0412\n",
      "Training Accuracy: 0.9584, Testing Accuracy: 0.9642\n",
      "\n"
     ]
    },
    {
     "name": "stdout",
     "output_type": "stream",
     "text": [
      "Epoch 160, Loss 0.0405\n",
      "Training Accuracy: 0.9590, Testing Accuracy: 0.9637\n",
      "\n"
     ]
    },
    {
     "name": "stdout",
     "output_type": "stream",
     "text": [
      "Epoch 170, Loss 0.0399\n",
      "Training Accuracy: 0.9597, Testing Accuracy: 0.9647\n",
      "\n"
     ]
    },
    {
     "name": "stdout",
     "output_type": "stream",
     "text": [
      "Epoch 180, Loss 0.0393\n",
      "Training Accuracy: 0.9600, Testing Accuracy: 0.9652\n",
      "\n"
     ]
    },
    {
     "name": "stdout",
     "output_type": "stream",
     "text": [
      "Epoch 190, Loss 0.0388\n",
      "Training Accuracy: 0.9602, Testing Accuracy: 0.9652\n",
      "\n"
     ]
    },
    {
     "name": "stdout",
     "output_type": "stream",
     "text": [
      "Epoch 200, Loss 0.0383\n",
      "Training Accuracy: 0.9606, Testing Accuracy: 0.9652\n",
      "\n"
     ]
    },
    {
     "name": "stdout",
     "output_type": "stream",
     "text": [
      "Epoch 210, Loss 0.0379\n",
      "Training Accuracy: 0.9607, Testing Accuracy: 0.9652\n",
      "\n"
     ]
    },
    {
     "name": "stdout",
     "output_type": "stream",
     "text": [
      "Epoch 220, Loss 0.0375\n",
      "Training Accuracy: 0.9610, Testing Accuracy: 0.9657\n",
      "\n"
     ]
    },
    {
     "name": "stdout",
     "output_type": "stream",
     "text": [
      "Epoch 230, Loss 0.0371\n",
      "Training Accuracy: 0.9611, Testing Accuracy: 0.9657\n",
      "\n"
     ]
    },
    {
     "name": "stdout",
     "output_type": "stream",
     "text": [
      "Epoch 240, Loss 0.0367\n",
      "Training Accuracy: 0.9613, Testing Accuracy: 0.9662\n",
      "\n"
     ]
    },
    {
     "data": {
      "text/plain": [
       "0.024853310960660784"
      ]
     },
     "execution_count": 23,
     "metadata": {},
     "output_type": "execute_result"
    }
   ],
   "source": [
    "lr_learner.train_loop(dl)"
   ]
  },
  {
   "cell_type": "code",
   "execution_count": 24,
   "id": "ca410940",
   "metadata": {
    "execution": {
     "iopub.execute_input": "2022-09-03T10:14:14.657032Z",
     "iopub.status.busy": "2022-09-03T10:14:14.656345Z",
     "iopub.status.idle": "2022-09-03T10:14:14.972966Z",
     "shell.execute_reply": "2022-09-03T10:14:14.973616Z"
    },
    "papermill": {
     "duration": 0.377612,
     "end_time": "2022-09-03T10:14:14.973787",
     "exception": false,
     "start_time": "2022-09-03T10:14:14.596175",
     "status": "completed"
    },
    "tags": []
   },
   "outputs": [
    {
     "data": {
      "text/plain": [
       "<matplotlib.legend.Legend at 0x7f2df3ea4400>"
      ]
     },
     "execution_count": 24,
     "metadata": {},
     "output_type": "execute_result"
    },
    {
     "data": {
      "image/png": "[encoded data removed]",
      "text/plain": [
       "<Figure size 1080x720 with 1 Axes>"
      ]
     },
     "metadata": {
      "needs_background": "light"
     },
     "output_type": "display_data"
    }
   ],
   "source": [
    "#comparing the results of NN and LR\n",
    "plt.figure(figsize=(15,10))\n",
    "\n",
    "# Neural Network plots\n",
    "plt.plot(acc_nn.accuracies, 'r-', label = \"Training Accuracies - NN\")\n",
    "plt.plot(acc_nn.test_accuracies, 'g-', label = \"Testing Accuracies - NN\")\n",
    "\n",
    "# Logistic Regression plots\n",
    "plt.plot(acc_lr.accuracies, 'k-', label = \"Training Accuracies - LR\")\n",
    "plt.plot(acc_lr.test_accuracies, 'b-', label = \"Testing Accuracies - LR\")\n",
    "plt.legend()"
   ]
  },
  {
   "cell_type": "markdown",
   "id": "80dfb35c",
   "metadata": {
    "papermill": {
     "duration": 0.059518,
     "end_time": "2022-09-03T10:14:15.100683",
     "exception": false,
     "start_time": "2022-09-03T10:14:15.041165",
     "status": "completed"
    },
    "tags": []
   },
   "source": [
    "#### Plotting the outputs of this layer of the NN.\n"
   ]
  },
  {
   "cell_type": "code",
   "execution_count": 25,
   "id": "45eb2ff5",
   "metadata": {
    "execution": {
     "iopub.execute_input": "2022-09-03T10:14:15.229823Z",
     "iopub.status.busy": "2022-09-03T10:14:15.229061Z",
     "iopub.status.idle": "2022-09-03T10:14:15.257819Z",
     "shell.execute_reply": "2022-09-03T10:14:15.257156Z"
    },
    "papermill": {
     "duration": 0.094178,
     "end_time": "2022-09-03T10:14:15.257976",
     "exception": false,
     "start_time": "2022-09-03T10:14:15.163798",
     "status": "completed"
    },
    "tags": []
   },
   "outputs": [],
   "source": [
    "new_model = Model(layers[:-2])\n",
    "testing_plot = new_model(testing_data_x)"
   ]
  },
  {
   "cell_type": "code",
   "execution_count": 26,
   "id": "4c0a5485",
   "metadata": {
    "execution": {
     "iopub.execute_input": "2022-09-03T10:14:15.374780Z",
     "iopub.status.busy": "2022-09-03T10:14:15.373967Z",
     "iopub.status.idle": "2022-09-03T10:14:15.664904Z",
     "shell.execute_reply": "2022-09-03T10:14:15.664088Z"
    },
    "papermill": {
     "duration": 0.352873,
     "end_time": "2022-09-03T10:14:15.665188",
     "exception": false,
     "start_time": "2022-09-03T10:14:15.312315",
     "status": "completed"
    },
    "tags": []
   },
   "outputs": [
    {
     "data": {
      "text/plain": [
       "Text(0.5, 1.0, 'Outputs')"
      ]
     },
     "execution_count": 26,
     "metadata": {},
     "output_type": "execute_result"
    },
    {
     "data": {
      "image/png": "[encoded data removed]",
      "text/plain": [
       "<Figure size 576x504 with 1 Axes>"
      ]
     },
     "metadata": {
      "needs_background": "light"
     },
     "output_type": "display_data"
    }
   ],
   "source": [
    "# Plotting the scatter plot of points and color coding by class\n",
    "plt.figure(figsize=(8,7))\n",
    "plt.scatter(testing_plot[:,0], testing_plot[:,1], alpha = 0.1, c = y_test.ravel());\n",
    "plt.title('Outputs')"
   ]
  },
  {
   "cell_type": "markdown",
   "id": "a74fcf8f",
   "metadata": {
    "papermill": {
     "duration": 0.090575,
     "end_time": "2022-09-03T10:14:15.836636",
     "exception": false,
     "start_time": "2022-09-03T10:14:15.746061",
     "status": "completed"
    },
    "tags": []
   },
   "source": [
    "Probability contours"
   ]
  },
  {
   "cell_type": "code",
   "execution_count": 27,
   "id": "d0afc8e3",
   "metadata": {
    "execution": {
     "iopub.execute_input": "2022-09-03T10:14:15.961293Z",
     "iopub.status.busy": "2022-09-03T10:14:15.960575Z",
     "iopub.status.idle": "2022-09-03T10:14:15.975413Z",
     "shell.execute_reply": "2022-09-03T10:14:15.974683Z"
    },
    "papermill": {
     "duration": 0.078036,
     "end_time": "2022-09-03T10:14:15.975557",
     "exception": false,
     "start_time": "2022-09-03T10:14:15.897521",
     "status": "completed"
    },
    "tags": []
   },
   "outputs": [],
   "source": [
    "model_prob = Model(layers[-2:]) "
   ]
  },
  {
   "cell_type": "code",
   "execution_count": 28,
   "id": "9b96e238",
   "metadata": {
    "execution": {
     "iopub.execute_input": "2022-09-03T10:14:16.097327Z",
     "iopub.status.busy": "2022-09-03T10:14:16.096637Z",
     "iopub.status.idle": "2022-09-03T10:14:16.111713Z",
     "shell.execute_reply": "2022-09-03T10:14:16.112332Z"
    },
    "papermill": {
     "duration": 0.079064,
     "end_time": "2022-09-03T10:14:16.112531",
     "exception": false,
     "start_time": "2022-09-03T10:14:16.033467",
     "status": "completed"
    },
    "tags": []
   },
   "outputs": [],
   "source": [
    "#creating the x and y ranges according to the above generated plot.\n",
    "x_range = np.linspace(-4, 1, 100) \n",
    "y_range = np.linspace(-6, 6, 100) \n",
    "x_grid, y_grid = np.meshgrid(x_range, y_range) # x_grid and y_grig are of size 100 X 100\n",
    "\n",
    "# converting x_grid and y_grid to continuous arrays\n",
    "x_gridflat = np.ravel(x_grid)\n",
    "y_gridflat = np.ravel(y_grid)\n",
    "\n",
    "# The last layer of the current model takes two columns as input. Hence transpose of np.vstack() is required.\n",
    "X = np.vstack((x_gridflat, y_gridflat)).T\n",
    "\n",
    "prob_contour = model_prob(X).reshape(100,100) "
   ]
  },
  {
   "cell_type": "code",
   "execution_count": 29,
   "id": "da72499a",
   "metadata": {
    "execution": {
     "iopub.execute_input": "2022-09-03T10:14:16.243993Z",
     "iopub.status.busy": "2022-09-03T10:14:16.243182Z",
     "iopub.status.idle": "2022-09-03T10:14:16.585278Z",
     "shell.execute_reply": "2022-09-03T10:14:16.585992Z"
    },
    "papermill": {
     "duration": 0.40825,
     "end_time": "2022-09-03T10:14:16.586159",
     "exception": false,
     "start_time": "2022-09-03T10:14:16.177909",
     "status": "completed"
    },
    "tags": []
   },
   "outputs": [
    {
     "data": {
      "image/png": "[encoded data removed]",
      "text/plain": [
       "<Figure size 720x648 with 1 Axes>"
      ]
     },
     "metadata": {
      "needs_background": "light"
     },
     "output_type": "display_data"
    }
   ],
   "source": [
    "plt.figure(figsize=(10,9))\n",
    "plt.scatter(testing_plot[:,0], testing_plot[:,1], alpha = 0.1, c = y_test.ravel())\n",
    "contours = plt.contour(x_grid,y_grid,prob_contour)\n",
    "plt.title('Probability Contours')\n",
    "plt.clabel(contours, inline = True );"
   ]
  },
  {
   "cell_type": "code",
   "execution_count": null,
   "id": "e81b4ac7",
   "metadata": {
    "papermill": {
     "duration": 0.069018,
     "end_time": "2022-09-03T10:14:16.715220",
     "exception": false,
     "start_time": "2022-09-03T10:14:16.646202",
     "status": "completed"
    },
    "tags": []
   },
   "outputs": [],
   "source": []
  }
 ],
 "metadata": {
  "kernelspec": {
   "display_name": "Python 3",
   "language": "python",
   "name": "python3"
  },
  "language_info": {
   "codemirror_mode": {
    "name": "ipython",
    "version": 3
   },
   "file_extension": ".py",
   "mimetype": "text/x-python",
   "name": "python",
   "nbconvert_exporter": "python",
   "pygments_lexer": "ipython3",
   "version": "3.6.15"
  },
  "papermill": {
   "default_parameters": {},
   "duration": 175.032982,
   "end_time": "2022-09-03T10:14:17.220686",
   "environment_variables": {},
   "exception": null,
   "input_path": "2020-08-11-part2.ipynb",
   "output_path": "2020-08-11-part2.ipynb",
   "parameters": {},
   "start_time": "2022-09-03T10:11:22.187704",
   "version": "2.3.3"
  }
 },
 "nbformat": 4,
 "nbformat_minor": 5
}