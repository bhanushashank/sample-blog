{
 "cells": [
  {
   "cell_type": "markdown",
   "id": "98380cd3",
   "metadata": {
    "papermill": {
     "duration": 0.029359,
     "end_time": "2021-09-20T10:06:47.594872",
     "exception": false,
     "start_time": "2021-09-20T10:06:47.565513",
     "status": "completed"
    },
    "tags": []
   },
   "source": [
    "# Distinguish Your Own Digits (DYOD)"
   ]
  },
  {
   "cell_type": "markdown",
   "id": "ef31240d",
   "metadata": {
    "papermill": {
     "duration": 0.026237,
     "end_time": "2021-09-20T10:06:47.647399",
     "exception": false,
     "start_time": "2021-09-20T10:06:47.621162",
     "status": "completed"
    },
    "tags": []
   },
   "source": [
    "You are going to write a classifier that distinguishes between the number 3 and number 8."
   ]
  },
  {
   "cell_type": "code",
   "execution_count": 1,
   "id": "b15c8646",
   "metadata": {
    "execution": {
     "iopub.execute_input": "2021-09-20T10:06:47.710878Z",
     "iopub.status.busy": "2021-09-20T10:06:47.710311Z",
     "iopub.status.idle": "2021-09-20T10:06:47.720646Z",
     "shell.execute_reply": "2021-09-20T10:06:47.720131Z"
    },
    "papermill": {
     "duration": 0.04755,
     "end_time": "2021-09-20T10:06:47.720774",
     "exception": false,
     "start_time": "2021-09-20T10:06:47.673224",
     "status": "completed"
    },
    "tags": []
   },
   "outputs": [],
   "source": [
    "%load_ext autoreload\n",
    "%autoreload 2"
   ]
  },
  {
   "cell_type": "code",
   "execution_count": 2,
   "id": "22ef38dc",
   "metadata": {
    "execution": {
     "iopub.execute_input": "2021-09-20T10:06:47.781864Z",
     "iopub.status.busy": "2021-09-20T10:06:47.781267Z",
     "iopub.status.idle": "2021-09-20T10:06:48.278317Z",
     "shell.execute_reply": "2021-09-20T10:06:48.277534Z"
    },
    "papermill": {
     "duration": 0.53178,
     "end_time": "2021-09-20T10:06:48.278662",
     "exception": false,
     "start_time": "2021-09-20T10:06:47.746882",
     "status": "completed"
    },
    "tags": []
   },
   "outputs": [],
   "source": [
    "%matplotlib inline\n",
    "import numpy as np\n",
    "import matplotlib.pyplot as plt\n",
    "import pandas as pd"
   ]
  },
  {
   "cell_type": "markdown",
   "id": "ba036198",
   "metadata": {
    "papermill": {
     "duration": 0.031253,
     "end_time": "2021-09-20T10:06:48.336653",
     "exception": false,
     "start_time": "2021-09-20T10:06:48.305400",
     "status": "completed"
    },
    "tags": []
   },
   "source": [
    "From the command line run `pip install mnist`. This is a library that will help you bring down the mnist dataset. If you run this from a notebook, you need to put  `!pip install mnist` in a cell by itself."
   ]
  },
  {
   "cell_type": "code",
   "execution_count": 3,
   "id": "bb6ad8a1",
   "metadata": {
    "execution": {
     "iopub.execute_input": "2021-09-20T10:06:48.392265Z",
     "iopub.status.busy": "2021-09-20T10:06:48.391672Z",
     "iopub.status.idle": "2021-09-20T10:06:50.066633Z",
     "shell.execute_reply": "2021-09-20T10:06:50.067257Z"
    },
    "papermill": {
     "duration": 1.703674,
     "end_time": "2021-09-20T10:06:50.067456",
     "exception": false,
     "start_time": "2021-09-20T10:06:48.363782",
     "status": "completed"
    },
    "tags": []
   },
   "outputs": [
    {
     "name": "stdout",
     "output_type": "stream",
     "text": [
      "Collecting mnist\r\n",
      "  Downloading mnist-0.2.2-py2.py3-none-any.whl (3.5 kB)\r\n"
     ]
    },
    {
     "name": "stdout",
     "output_type": "stream",
     "text": [
      "Requirement already satisfied: numpy in /opt/hostedtoolcache/Python/3.6.15/x64/lib/python3.6/site-packages (from mnist) (1.19.5)\r\n"
     ]
    },
    {
     "name": "stdout",
     "output_type": "stream",
     "text": [
      "Installing collected packages: mnist\r\n"
     ]
    },
    {
     "name": "stdout",
     "output_type": "stream",
     "text": [
      "Successfully installed mnist-0.2.2\r\n"
     ]
    }
   ],
   "source": [
    "!pip install mnist"
   ]
  },
  {
   "cell_type": "markdown",
   "id": "69df9c9a",
   "metadata": {
    "papermill": {
     "duration": 0.02726,
     "end_time": "2021-09-20T10:06:50.121521",
     "exception": false,
     "start_time": "2021-09-20T10:06:50.094261",
     "status": "completed"
    },
    "tags": []
   },
   "source": [
    "## Preparing the Data"
   ]
  },
  {
   "cell_type": "code",
   "execution_count": 4,
   "id": "7f69d806",
   "metadata": {
    "execution": {
     "iopub.execute_input": "2021-09-20T10:06:50.188007Z",
     "iopub.status.busy": "2021-09-20T10:06:50.187280Z",
     "iopub.status.idle": "2021-09-20T10:06:50.200362Z",
     "shell.execute_reply": "2021-09-20T10:06:50.200951Z"
    },
    "papermill": {
     "duration": 0.049929,
     "end_time": "2021-09-20T10:06:50.201087",
     "exception": false,
     "start_time": "2021-09-20T10:06:50.151158",
     "status": "completed"
    },
    "tags": []
   },
   "outputs": [],
   "source": [
    "import mnist"
   ]
  },
  {
   "cell_type": "code",
   "execution_count": 5,
   "id": "a411e44f",
   "metadata": {
    "execution": {
     "iopub.execute_input": "2021-09-20T10:06:50.259415Z",
     "iopub.status.busy": "2021-09-20T10:06:50.257864Z",
     "iopub.status.idle": "2021-09-20T10:06:50.748282Z",
     "shell.execute_reply": "2021-09-20T10:06:50.748760Z"
    },
    "papermill": {
     "duration": 0.520851,
     "end_time": "2021-09-20T10:06:50.748908",
     "exception": false,
     "start_time": "2021-09-20T10:06:50.228057",
     "status": "completed"
    },
    "tags": []
   },
   "outputs": [],
   "source": [
    "train_images = mnist.train_images()\n",
    "train_labels = mnist.train_labels()"
   ]
  },
  {
   "cell_type": "code",
   "execution_count": 6,
   "id": "dceab3a5",
   "metadata": {
    "execution": {
     "iopub.execute_input": "2021-09-20T10:06:50.807175Z",
     "iopub.status.busy": "2021-09-20T10:06:50.806654Z",
     "iopub.status.idle": "2021-09-20T10:06:50.819199Z",
     "shell.execute_reply": "2021-09-20T10:06:50.819604Z"
    },
    "papermill": {
     "duration": 0.042638,
     "end_time": "2021-09-20T10:06:50.819725",
     "exception": false,
     "start_time": "2021-09-20T10:06:50.777087",
     "status": "completed"
    },
    "tags": []
   },
   "outputs": [
    {
     "data": {
      "text/plain": [
       "((60000, 28, 28), (60000,))"
      ]
     },
     "execution_count": 6,
     "metadata": {},
     "output_type": "execute_result"
    }
   ],
   "source": [
    "train_images.shape, train_labels.shape"
   ]
  },
  {
   "cell_type": "code",
   "execution_count": 7,
   "id": "f50dc2bb",
   "metadata": {
    "execution": {
     "iopub.execute_input": "2021-09-20T10:06:50.873276Z",
     "iopub.status.busy": "2021-09-20T10:06:50.872751Z",
     "iopub.status.idle": "2021-09-20T10:06:51.022159Z",
     "shell.execute_reply": "2021-09-20T10:06:51.021652Z"
    },
    "papermill": {
     "duration": 0.177199,
     "end_time": "2021-09-20T10:06:51.022281",
     "exception": false,
     "start_time": "2021-09-20T10:06:50.845082",
     "status": "completed"
    },
    "tags": []
   },
   "outputs": [],
   "source": [
    "test_images = mnist.test_images()\n",
    "test_labels = mnist.test_labels()"
   ]
  },
  {
   "cell_type": "code",
   "execution_count": 8,
   "id": "fc38cf1b",
   "metadata": {
    "execution": {
     "iopub.execute_input": "2021-09-20T10:06:51.090473Z",
     "iopub.status.busy": "2021-09-20T10:06:51.089813Z",
     "iopub.status.idle": "2021-09-20T10:06:51.103385Z",
     "shell.execute_reply": "2021-09-20T10:06:51.102846Z"
    },
    "papermill": {
     "duration": 0.053636,
     "end_time": "2021-09-20T10:06:51.103503",
     "exception": false,
     "start_time": "2021-09-20T10:06:51.049867",
     "status": "completed"
    },
    "tags": []
   },
   "outputs": [
    {
     "data": {
      "text/plain": [
       "((10000, 28, 28), (10000,))"
      ]
     },
     "execution_count": 8,
     "metadata": {},
     "output_type": "execute_result"
    }
   ],
   "source": [
    "test_images.shape, test_labels.shape"
   ]
  },
  {
   "cell_type": "code",
   "execution_count": 9,
   "id": "f9ed8fe0",
   "metadata": {
    "execution": {
     "iopub.execute_input": "2021-09-20T10:06:51.165444Z",
     "iopub.status.busy": "2021-09-20T10:06:51.164919Z",
     "iopub.status.idle": "2021-09-20T10:06:51.334371Z",
     "shell.execute_reply": "2021-09-20T10:06:51.333812Z"
    },
    "papermill": {
     "duration": 0.19881,
     "end_time": "2021-09-20T10:06:51.334483",
     "exception": false,
     "start_time": "2021-09-20T10:06:51.135673",
     "status": "completed"
    },
    "tags": []
   },
   "outputs": [
    {
     "name": "stdout",
     "output_type": "stream",
     "text": [
      "2\n"
     ]
    },
    {
     "data": {
      "text/plain": [
       "<matplotlib.image.AxesImage at 0x7fcbe481c898>"
      ]
     },
     "execution_count": 9,
     "metadata": {},
     "output_type": "execute_result"
    },
    {
     "data": {
      "image/png": "[encoded data removed]",
      "text/plain": [
       "<Figure size 432x288 with 1 Axes>"
      ]
     },
     "metadata": {
      "needs_background": "light"
     },
     "output_type": "display_data"
    }
   ],
   "source": [
    "image_index = 7776 # You may select anything up to 60,000\n",
    "print(train_labels[image_index]) \n",
    "plt.imshow(train_images[image_index], cmap='Greys')"
   ]
  },
  {
   "cell_type": "markdown",
   "id": "a8d2388d",
   "metadata": {
    "papermill": {
     "duration": 0.028714,
     "end_time": "2021-09-20T10:06:51.392859",
     "exception": false,
     "start_time": "2021-09-20T10:06:51.364145",
     "status": "completed"
    },
    "tags": []
   },
   "source": [
    "## Filter data to get 3 and 8 out"
   ]
  },
  {
   "cell_type": "code",
   "execution_count": 10,
   "id": "776f7fc7",
   "metadata": {
    "execution": {
     "iopub.execute_input": "2021-09-20T10:06:51.460082Z",
     "iopub.status.busy": "2021-09-20T10:06:51.459379Z",
     "iopub.status.idle": "2021-09-20T10:06:51.485832Z",
     "shell.execute_reply": "2021-09-20T10:06:51.486259Z"
    },
    "papermill": {
     "duration": 0.065659,
     "end_time": "2021-09-20T10:06:51.486397",
     "exception": false,
     "start_time": "2021-09-20T10:06:51.420738",
     "status": "completed"
    },
    "tags": []
   },
   "outputs": [],
   "source": [
    "train_filter = np.where((train_labels == 3 ) | (train_labels == 8))\n",
    "test_filter = np.where((test_labels == 3) | (test_labels == 8))\n",
    "X_train, y_train = train_images[train_filter], train_labels[train_filter]\n",
    "X_test, y_test = test_images[test_filter], test_labels[test_filter]"
   ]
  },
  {
   "cell_type": "markdown",
   "id": "948f0b7e",
   "metadata": {
    "papermill": {
     "duration": 0.029354,
     "end_time": "2021-09-20T10:06:51.546182",
     "exception": false,
     "start_time": "2021-09-20T10:06:51.516828",
     "status": "completed"
    },
    "tags": []
   },
   "source": [
    "We normalize the pizel values in the 0 to 1 range"
   ]
  },
  {
   "cell_type": "code",
   "execution_count": 11,
   "id": "ee4c2166",
   "metadata": {
    "execution": {
     "iopub.execute_input": "2021-09-20T10:06:51.606200Z",
     "iopub.status.busy": "2021-09-20T10:06:51.605628Z",
     "iopub.status.idle": "2021-09-20T10:06:51.661558Z",
     "shell.execute_reply": "2021-09-20T10:06:51.661048Z"
    },
    "papermill": {
     "duration": 0.087439,
     "end_time": "2021-09-20T10:06:51.661689",
     "exception": false,
     "start_time": "2021-09-20T10:06:51.574250",
     "status": "completed"
    },
    "tags": []
   },
   "outputs": [],
   "source": [
    "X_train = X_train/255.\n",
    "X_test = X_test/255."
   ]
  },
  {
   "cell_type": "markdown",
   "id": "ddcf4fab",
   "metadata": {
    "papermill": {
     "duration": 0.028855,
     "end_time": "2021-09-20T10:06:51.720015",
     "exception": false,
     "start_time": "2021-09-20T10:06:51.691160",
     "status": "completed"
    },
    "tags": []
   },
   "source": [
    "And setup the labels as 1 (when the digit is 3) and 0 (when the digit is 8)"
   ]
  },
  {
   "cell_type": "code",
   "execution_count": 12,
   "id": "7dc908f2",
   "metadata": {
    "execution": {
     "iopub.execute_input": "2021-09-20T10:06:51.781862Z",
     "iopub.status.busy": "2021-09-20T10:06:51.781293Z",
     "iopub.status.idle": "2021-09-20T10:06:51.793290Z",
     "shell.execute_reply": "2021-09-20T10:06:51.792804Z"
    },
    "papermill": {
     "duration": 0.044698,
     "end_time": "2021-09-20T10:06:51.793403",
     "exception": false,
     "start_time": "2021-09-20T10:06:51.748705",
     "status": "completed"
    },
    "tags": []
   },
   "outputs": [],
   "source": [
    "y_train = 1*(y_train==3)\n",
    "y_test = 1*(y_test==3)"
   ]
  },
  {
   "cell_type": "code",
   "execution_count": 13,
   "id": "01e4e969",
   "metadata": {
    "execution": {
     "iopub.execute_input": "2021-09-20T10:06:51.858077Z",
     "iopub.status.busy": "2021-09-20T10:06:51.857524Z",
     "iopub.status.idle": "2021-09-20T10:06:51.870947Z",
     "shell.execute_reply": "2021-09-20T10:06:51.871426Z"
    },
    "papermill": {
     "duration": 0.048647,
     "end_time": "2021-09-20T10:06:51.871611",
     "exception": false,
     "start_time": "2021-09-20T10:06:51.822964",
     "status": "completed"
    },
    "tags": []
   },
   "outputs": [
    {
     "data": {
      "text/plain": [
       "((11982, 28, 28), (1984, 28, 28))"
      ]
     },
     "execution_count": 13,
     "metadata": {},
     "output_type": "execute_result"
    }
   ],
   "source": [
    "X_train.shape, X_test.shape"
   ]
  },
  {
   "cell_type": "markdown",
   "id": "5ccf3f85",
   "metadata": {
    "papermill": {
     "duration": 0.029119,
     "end_time": "2021-09-20T10:06:51.933249",
     "exception": false,
     "start_time": "2021-09-20T10:06:51.904130",
     "status": "completed"
    },
    "tags": []
   },
   "source": [
    "We reshape the data to flatten the image pixels into a set of features or co-variates:"
   ]
  },
  {
   "cell_type": "code",
   "execution_count": 14,
   "id": "5286a4a3",
   "metadata": {
    "execution": {
     "iopub.execute_input": "2021-09-20T10:06:51.998014Z",
     "iopub.status.busy": "2021-09-20T10:06:51.997437Z",
     "iopub.status.idle": "2021-09-20T10:06:52.009066Z",
     "shell.execute_reply": "2021-09-20T10:06:52.009556Z"
    },
    "papermill": {
     "duration": 0.046986,
     "end_time": "2021-09-20T10:06:52.009684",
     "exception": false,
     "start_time": "2021-09-20T10:06:51.962698",
     "status": "completed"
    },
    "tags": []
   },
   "outputs": [
    {
     "data": {
      "text/plain": [
       "((11982, 784), (1984, 784))"
      ]
     },
     "execution_count": 14,
     "metadata": {},
     "output_type": "execute_result"
    }
   ],
   "source": [
    "X_train = X_train.reshape(X_train.shape[0], -1)\n",
    "X_test = X_test.reshape(X_test.shape[0], -1)\n",
    "X_train.shape, X_test.shape"
   ]
  },
  {
   "cell_type": "code",
   "execution_count": 15,
   "id": "73c5f88a",
   "metadata": {
    "execution": {
     "iopub.execute_input": "2021-09-20T10:06:52.072856Z",
     "iopub.status.busy": "2021-09-20T10:06:52.072247Z",
     "iopub.status.idle": "2021-09-20T10:06:52.089718Z",
     "shell.execute_reply": "2021-09-20T10:06:52.090176Z"
    },
    "papermill": {
     "duration": 0.051011,
     "end_time": "2021-09-20T10:06:52.090297",
     "exception": false,
     "start_time": "2021-09-20T10:06:52.039286",
     "status": "completed"
    },
    "tags": []
   },
   "outputs": [],
   "source": [
    "#Impoting functions from 'Kudzu'\n",
    "from kudzu.model import Model\n",
    "from kudzu.train import Learner\n",
    "from kudzu.optim import GD\n",
    "from kudzu.data import Data, Sampler,Dataloader\n",
    "\n",
    "from kudzu.callbacks import AccCallback\n",
    "from kudzu.callbacks import ClfCallback\n",
    "\n",
    "from kudzu.loss import MSE\n",
    "\n",
    "from kudzu.layer import Sigmoid,Relu\n",
    "from kudzu.layer import Affine"
   ]
  },
  {
   "cell_type": "markdown",
   "id": "bc01172a",
   "metadata": {
    "papermill": {
     "duration": 0.033008,
     "end_time": "2021-09-20T10:06:52.153523",
     "exception": false,
     "start_time": "2021-09-20T10:06:52.120515",
     "status": "completed"
    },
    "tags": []
   },
   "source": [
    "### Let us create a `Config` class, to store important parameters. \n",
    "This class essentially plays the role of a dictionary."
   ]
  },
  {
   "cell_type": "code",
   "execution_count": 16,
   "id": "978281aa",
   "metadata": {
    "execution": {
     "iopub.execute_input": "2021-09-20T10:06:52.219011Z",
     "iopub.status.busy": "2021-09-20T10:06:52.218166Z",
     "iopub.status.idle": "2021-09-20T10:06:52.229987Z",
     "shell.execute_reply": "2021-09-20T10:06:52.229547Z"
    },
    "papermill": {
     "duration": 0.045437,
     "end_time": "2021-09-20T10:06:52.230136",
     "exception": false,
     "start_time": "2021-09-20T10:06:52.184699",
     "status": "completed"
    },
    "tags": []
   },
   "outputs": [],
   "source": [
    "class Config:\n",
    "    pass\n",
    "config = Config()\n",
    "config.lr = 0.001\n",
    "config.num_epochs = 250\n",
    "config.bs = 50"
   ]
  },
  {
   "cell_type": "markdown",
   "id": "1385fa59",
   "metadata": {
    "papermill": {
     "duration": 0.028806,
     "end_time": "2021-09-20T10:06:52.287838",
     "exception": false,
     "start_time": "2021-09-20T10:06:52.259032",
     "status": "completed"
    },
    "tags": []
   },
   "source": [
    "### Running Models with the Training data\n",
    "Details about the network layers:\n",
    "- A first affine layer has 784 inputs and does 100 affine transforms. These are followed by a Relu\n",
    "- A second affine layer has 100 inputs from the 100 activations of the past layer, and does 100 affine transforms. These are followed by a Relu\n",
    "- A third affine layer has 100 activations and does 2 affine transformations to create an embedding for visualization. There is no non-linearity here.\n",
    "- A final \"logistic regression\" which has an affine transform from 2 inputs to 1 output, which is squeezed through a sigmoid.\n"
   ]
  },
  {
   "cell_type": "code",
   "execution_count": 17,
   "id": "2b9c66db",
   "metadata": {
    "execution": {
     "iopub.execute_input": "2021-09-20T10:06:52.350273Z",
     "iopub.status.busy": "2021-09-20T10:06:52.349484Z",
     "iopub.status.idle": "2021-09-20T10:06:52.361035Z",
     "shell.execute_reply": "2021-09-20T10:06:52.360548Z"
    },
    "papermill": {
     "duration": 0.044094,
     "end_time": "2021-09-20T10:06:52.361137",
     "exception": false,
     "start_time": "2021-09-20T10:06:52.317043",
     "status": "completed"
    },
    "tags": []
   },
   "outputs": [],
   "source": [
    "data = Data(X_train, y_train.reshape(-1,1))\n",
    "sampler = Sampler(data, config.bs, shuffle=True)\n",
    "\n",
    "dl = Dataloader(data, sampler)\n",
    "\n",
    "opt = GD(config.lr)\n",
    "loss = MSE()"
   ]
  },
  {
   "cell_type": "code",
   "execution_count": 18,
   "id": "b275e4c2",
   "metadata": {
    "execution": {
     "iopub.execute_input": "2021-09-20T10:06:52.430413Z",
     "iopub.status.busy": "2021-09-20T10:06:52.429813Z",
     "iopub.status.idle": "2021-09-20T10:06:52.440516Z",
     "shell.execute_reply": "2021-09-20T10:06:52.440018Z"
    },
    "papermill": {
     "duration": 0.045351,
     "end_time": "2021-09-20T10:06:52.440654",
     "exception": false,
     "start_time": "2021-09-20T10:06:52.395303",
     "status": "completed"
    },
    "tags": []
   },
   "outputs": [],
   "source": [
    "training_data_x = X_train\n",
    "testing_data_x = X_test\n",
    "training_data_y = y_train.reshape(-1,1)\n",
    "testing_data_y = y_test.reshape(-1,1)"
   ]
  },
  {
   "cell_type": "code",
   "execution_count": 19,
   "id": "76951160",
   "metadata": {
    "execution": {
     "iopub.execute_input": "2021-09-20T10:06:52.512739Z",
     "iopub.status.busy": "2021-09-20T10:06:52.512109Z",
     "iopub.status.idle": "2021-09-20T10:06:52.527814Z",
     "shell.execute_reply": "2021-09-20T10:06:52.527315Z"
    },
    "papermill": {
     "duration": 0.057668,
     "end_time": "2021-09-20T10:06:52.527917",
     "exception": false,
     "start_time": "2021-09-20T10:06:52.470249",
     "status": "completed"
    },
    "tags": []
   },
   "outputs": [
    {
     "name": "stdout",
     "output_type": "stream",
     "text": [
      "xavier\n",
      "xavier\n",
      "xavier\n",
      "xavier\n",
      "xavier\n"
     ]
    }
   ],
   "source": [
    "layers = [Affine(\"first\", 784, 100), Relu(\"first\"), Affine(\"second\", 100, 100), Relu(\"second\"), Affine(\"third\", 100, 2), Affine(\"last\", 2, 1), Sigmoid(\"last\")]\n",
    "model_nn = Model(layers)\n",
    "model_lr = Model([Affine(\"logits\", 784, 1), Sigmoid(\"sigmoid\")])"
   ]
  },
  {
   "cell_type": "code",
   "execution_count": 20,
   "id": "6eede77a",
   "metadata": {
    "execution": {
     "iopub.execute_input": "2021-09-20T10:06:52.589362Z",
     "iopub.status.busy": "2021-09-20T10:06:52.588807Z",
     "iopub.status.idle": "2021-09-20T10:06:52.599078Z",
     "shell.execute_reply": "2021-09-20T10:06:52.598629Z"
    },
    "papermill": {
     "duration": 0.041642,
     "end_time": "2021-09-20T10:06:52.599177",
     "exception": false,
     "start_time": "2021-09-20T10:06:52.557535",
     "status": "completed"
    },
    "tags": []
   },
   "outputs": [],
   "source": [
    "nn_learner = Learner(loss, model_nn, opt, config.num_epochs)\n",
    "acc_nn = ClfCallback(nn_learner, config.bs, training_data_x , testing_data_x, training_data_y, testing_data_y)\n",
    "nn_learner.set_callbacks([acc_nn])"
   ]
  },
  {
   "cell_type": "code",
   "execution_count": 21,
   "id": "877b6cc7",
   "metadata": {
    "execution": {
     "iopub.execute_input": "2021-09-20T10:06:52.661525Z",
     "iopub.status.busy": "2021-09-20T10:06:52.660990Z",
     "iopub.status.idle": "2021-09-20T10:06:52.672714Z",
     "shell.execute_reply": "2021-09-20T10:06:52.672241Z"
    },
    "papermill": {
     "duration": 0.043609,
     "end_time": "2021-09-20T10:06:52.672815",
     "exception": false,
     "start_time": "2021-09-20T10:06:52.629206",
     "status": "completed"
    },
    "tags": []
   },
   "outputs": [],
   "source": [
    "lr_learner = Learner(loss, model_lr, opt, config.num_epochs)\n",
    "acc_lr = ClfCallback(lr_learner, config.bs, training_data_x , testing_data_x, training_data_y, testing_data_y)\n",
    "lr_learner.set_callbacks([acc_lr])"
   ]
  },
  {
   "cell_type": "code",
   "execution_count": 22,
   "id": "d9b133c3",
   "metadata": {
    "execution": {
     "iopub.execute_input": "2021-09-20T10:06:52.732092Z",
     "iopub.status.busy": "2021-09-20T10:06:52.731552Z",
     "iopub.status.idle": "2021-09-20T10:09:03.776060Z",
     "shell.execute_reply": "2021-09-20T10:09:03.776848Z"
    },
    "papermill": {
     "duration": 131.076076,
     "end_time": "2021-09-20T10:09:03.776994",
     "exception": false,
     "start_time": "2021-09-20T10:06:52.700918",
     "status": "completed"
    },
    "tags": []
   },
   "outputs": [
    {
     "name": "stdout",
     "output_type": "stream",
     "text": [
      "Epoch 0, Loss 0.2394\n",
      "Training Accuracy: 0.6914, Testing Accuracy: 0.6951\n",
      "\n"
     ]
    },
    {
     "name": "stdout",
     "output_type": "stream",
     "text": [
      "Epoch 10, Loss 0.0876\n",
      "Training Accuracy: 0.9170, Testing Accuracy: 0.9294\n",
      "\n"
     ]
    },
    {
     "name": "stdout",
     "output_type": "stream",
     "text": [
      "Epoch 20, Loss 0.0549\n",
      "Training Accuracy: 0.9420, Testing Accuracy: 0.9521\n",
      "\n"
     ]
    },
    {
     "name": "stdout",
     "output_type": "stream",
     "text": [
      "Epoch 30, Loss 0.0431\n",
      "Training Accuracy: 0.9525, Testing Accuracy: 0.9602\n",
      "\n"
     ]
    },
    {
     "name": "stdout",
     "output_type": "stream",
     "text": [
      "Epoch 40, Loss 0.0372\n",
      "Training Accuracy: 0.9589, Testing Accuracy: 0.9642\n",
      "\n"
     ]
    },
    {
     "name": "stdout",
     "output_type": "stream",
     "text": [
      "Epoch 50, Loss 0.0336\n",
      "Training Accuracy: 0.9624, Testing Accuracy: 0.9657\n",
      "\n"
     ]
    },
    {
     "name": "stdout",
     "output_type": "stream",
     "text": [
      "Epoch 60, Loss 0.0311\n",
      "Training Accuracy: 0.9651, Testing Accuracy: 0.9662\n",
      "\n"
     ]
    },
    {
     "name": "stdout",
     "output_type": "stream",
     "text": [
      "Epoch 70, Loss 0.0292\n",
      "Training Accuracy: 0.9667, Testing Accuracy: 0.9677\n",
      "\n"
     ]
    },
    {
     "name": "stdout",
     "output_type": "stream",
     "text": [
      "Epoch 80, Loss 0.0278\n",
      "Training Accuracy: 0.9680, Testing Accuracy: 0.9693\n",
      "\n"
     ]
    },
    {
     "name": "stdout",
     "output_type": "stream",
     "text": [
      "Epoch 90, Loss 0.0266\n",
      "Training Accuracy: 0.9689, Testing Accuracy: 0.9703\n",
      "\n"
     ]
    },
    {
     "name": "stdout",
     "output_type": "stream",
     "text": [
      "Epoch 100, Loss 0.0256\n",
      "Training Accuracy: 0.9700, Testing Accuracy: 0.9713\n",
      "\n"
     ]
    },
    {
     "name": "stdout",
     "output_type": "stream",
     "text": [
      "Epoch 110, Loss 0.0247\n",
      "Training Accuracy: 0.9710, Testing Accuracy: 0.9728\n",
      "\n"
     ]
    },
    {
     "name": "stdout",
     "output_type": "stream",
     "text": [
      "Epoch 120, Loss 0.0239\n",
      "Training Accuracy: 0.9723, Testing Accuracy: 0.9733\n",
      "\n"
     ]
    },
    {
     "name": "stdout",
     "output_type": "stream",
     "text": [
      "Epoch 130, Loss 0.0232\n",
      "Training Accuracy: 0.9731, Testing Accuracy: 0.9733\n",
      "\n"
     ]
    },
    {
     "name": "stdout",
     "output_type": "stream",
     "text": [
      "Epoch 140, Loss 0.0225\n",
      "Training Accuracy: 0.9742, Testing Accuracy: 0.9738\n",
      "\n"
     ]
    },
    {
     "name": "stdout",
     "output_type": "stream",
     "text": [
      "Epoch 150, Loss 0.0219\n",
      "Training Accuracy: 0.9751, Testing Accuracy: 0.9738\n",
      "\n"
     ]
    },
    {
     "name": "stdout",
     "output_type": "stream",
     "text": [
      "Epoch 160, Loss 0.0214\n",
      "Training Accuracy: 0.9754, Testing Accuracy: 0.9743\n",
      "\n"
     ]
    },
    {
     "name": "stdout",
     "output_type": "stream",
     "text": [
      "Epoch 170, Loss 0.0209\n",
      "Training Accuracy: 0.9757, Testing Accuracy: 0.9743\n",
      "\n"
     ]
    },
    {
     "name": "stdout",
     "output_type": "stream",
     "text": [
      "Epoch 180, Loss 0.0204\n",
      "Training Accuracy: 0.9765, Testing Accuracy: 0.9728\n",
      "\n"
     ]
    },
    {
     "name": "stdout",
     "output_type": "stream",
     "text": [
      "Epoch 190, Loss 0.02\n",
      "Training Accuracy: 0.9774, Testing Accuracy: 0.9743\n",
      "\n"
     ]
    },
    {
     "name": "stdout",
     "output_type": "stream",
     "text": [
      "Epoch 200, Loss 0.0195\n",
      "Training Accuracy: 0.9777, Testing Accuracy: 0.9743\n",
      "\n"
     ]
    },
    {
     "name": "stdout",
     "output_type": "stream",
     "text": [
      "Epoch 210, Loss 0.0191\n",
      "Training Accuracy: 0.9783, Testing Accuracy: 0.9748\n",
      "\n"
     ]
    },
    {
     "name": "stdout",
     "output_type": "stream",
     "text": [
      "Epoch 220, Loss 0.0187\n",
      "Training Accuracy: 0.9788, Testing Accuracy: 0.9748\n",
      "\n"
     ]
    },
    {
     "name": "stdout",
     "output_type": "stream",
     "text": [
      "Epoch 230, Loss 0.0184\n",
      "Training Accuracy: 0.9791, Testing Accuracy: 0.9748\n",
      "\n"
     ]
    },
    {
     "name": "stdout",
     "output_type": "stream",
     "text": [
      "Epoch 240, Loss 0.018\n",
      "Training Accuracy: 0.9796, Testing Accuracy: 0.9748\n",
      "\n"
     ]
    },
    {
     "data": {
      "text/plain": [
       "0.02817362449514298"
      ]
     },
     "execution_count": 22,
     "metadata": {},
     "output_type": "execute_result"
    }
   ],
   "source": [
    "nn_learner.train_loop(dl)"
   ]
  },
  {
   "cell_type": "code",
   "execution_count": 23,
   "id": "e0163366",
   "metadata": {
    "execution": {
     "iopub.execute_input": "2021-09-20T10:09:03.868362Z",
     "iopub.status.busy": "2021-09-20T10:09:03.867720Z",
     "iopub.status.idle": "2021-09-20T10:09:22.402748Z",
     "shell.execute_reply": "2021-09-20T10:09:22.403456Z"
    },
    "papermill": {
     "duration": 18.583115,
     "end_time": "2021-09-20T10:09:22.403595",
     "exception": false,
     "start_time": "2021-09-20T10:09:03.820480",
     "status": "completed"
    },
    "tags": []
   },
   "outputs": [
    {
     "name": "stdout",
     "output_type": "stream",
     "text": [
      "Epoch 0, Loss 0.2508\n",
      "Training Accuracy: 0.6280, Testing Accuracy: 0.6159\n",
      "\n"
     ]
    },
    {
     "name": "stdout",
     "output_type": "stream",
     "text": [
      "Epoch 10, Loss 0.1076\n",
      "Training Accuracy: 0.8966, Testing Accuracy: 0.9052\n",
      "\n"
     ]
    },
    {
     "name": "stdout",
     "output_type": "stream",
     "text": [
      "Epoch 20, Loss 0.082\n",
      "Training Accuracy: 0.9207, Testing Accuracy: 0.9320\n",
      "\n"
     ]
    },
    {
     "name": "stdout",
     "output_type": "stream",
     "text": [
      "Epoch 30, Loss 0.0703\n",
      "Training Accuracy: 0.9321, Testing Accuracy: 0.9451\n",
      "\n"
     ]
    },
    {
     "name": "stdout",
     "output_type": "stream",
     "text": [
      "Epoch 40, Loss 0.0633\n",
      "Training Accuracy: 0.9389, Testing Accuracy: 0.9516\n",
      "\n"
     ]
    },
    {
     "name": "stdout",
     "output_type": "stream",
     "text": [
      "Epoch 50, Loss 0.0585\n",
      "Training Accuracy: 0.9422, Testing Accuracy: 0.9551\n",
      "\n"
     ]
    },
    {
     "name": "stdout",
     "output_type": "stream",
     "text": [
      "Epoch 60, Loss 0.055\n",
      "Training Accuracy: 0.9450, Testing Accuracy: 0.9572\n",
      "\n"
     ]
    },
    {
     "name": "stdout",
     "output_type": "stream",
     "text": [
      "Epoch 70, Loss 0.0523\n",
      "Training Accuracy: 0.9479, Testing Accuracy: 0.9577\n",
      "\n"
     ]
    },
    {
     "name": "stdout",
     "output_type": "stream",
     "text": [
      "Epoch 80, Loss 0.0501\n",
      "Training Accuracy: 0.9498, Testing Accuracy: 0.9567\n",
      "\n"
     ]
    },
    {
     "name": "stdout",
     "output_type": "stream",
     "text": [
      "Epoch 90, Loss 0.0484\n",
      "Training Accuracy: 0.9508, Testing Accuracy: 0.9587\n",
      "\n"
     ]
    },
    {
     "name": "stdout",
     "output_type": "stream",
     "text": [
      "Epoch 100, Loss 0.0469\n",
      "Training Accuracy: 0.9516, Testing Accuracy: 0.9592\n",
      "\n"
     ]
    },
    {
     "name": "stdout",
     "output_type": "stream",
     "text": [
      "Epoch 110, Loss 0.0456\n",
      "Training Accuracy: 0.9528, Testing Accuracy: 0.9602\n",
      "\n"
     ]
    },
    {
     "name": "stdout",
     "output_type": "stream",
     "text": [
      "Epoch 120, Loss 0.0445\n",
      "Training Accuracy: 0.9538, Testing Accuracy: 0.9637\n",
      "\n"
     ]
    },
    {
     "name": "stdout",
     "output_type": "stream",
     "text": [
      "Epoch 130, Loss 0.0435\n",
      "Training Accuracy: 0.9547, Testing Accuracy: 0.9642\n",
      "\n"
     ]
    },
    {
     "name": "stdout",
     "output_type": "stream",
     "text": [
      "Epoch 140, Loss 0.0426\n",
      "Training Accuracy: 0.9555, Testing Accuracy: 0.9647\n",
      "\n"
     ]
    },
    {
     "name": "stdout",
     "output_type": "stream",
     "text": [
      "Epoch 150, Loss 0.0419\n",
      "Training Accuracy: 0.9563, Testing Accuracy: 0.9662\n",
      "\n"
     ]
    },
    {
     "name": "stdout",
     "output_type": "stream",
     "text": [
      "Epoch 160, Loss 0.0412\n",
      "Training Accuracy: 0.9569, Testing Accuracy: 0.9672\n",
      "\n"
     ]
    },
    {
     "name": "stdout",
     "output_type": "stream",
     "text": [
      "Epoch 170, Loss 0.0405\n",
      "Training Accuracy: 0.9572, Testing Accuracy: 0.9672\n",
      "\n"
     ]
    },
    {
     "name": "stdout",
     "output_type": "stream",
     "text": [
      "Epoch 180, Loss 0.0399\n",
      "Training Accuracy: 0.9576, Testing Accuracy: 0.9667\n",
      "\n"
     ]
    },
    {
     "name": "stdout",
     "output_type": "stream",
     "text": [
      "Epoch 190, Loss 0.0394\n",
      "Training Accuracy: 0.9584, Testing Accuracy: 0.9672\n",
      "\n"
     ]
    },
    {
     "name": "stdout",
     "output_type": "stream",
     "text": [
      "Epoch 200, Loss 0.0389\n",
      "Training Accuracy: 0.9584, Testing Accuracy: 0.9677\n",
      "\n"
     ]
    },
    {
     "name": "stdout",
     "output_type": "stream",
     "text": [
      "Epoch 210, Loss 0.0384\n",
      "Training Accuracy: 0.9586, Testing Accuracy: 0.9677\n",
      "\n"
     ]
    },
    {
     "name": "stdout",
     "output_type": "stream",
     "text": [
      "Epoch 220, Loss 0.038\n",
      "Training Accuracy: 0.9591, Testing Accuracy: 0.9677\n",
      "\n"
     ]
    },
    {
     "name": "stdout",
     "output_type": "stream",
     "text": [
      "Epoch 230, Loss 0.0376\n",
      "Training Accuracy: 0.9595, Testing Accuracy: 0.9682\n",
      "\n"
     ]
    },
    {
     "name": "stdout",
     "output_type": "stream",
     "text": [
      "Epoch 240, Loss 0.0372\n",
      "Training Accuracy: 0.9602, Testing Accuracy: 0.9682\n",
      "\n"
     ]
    },
    {
     "data": {
      "text/plain": [
       "0.029685309305523135"
      ]
     },
     "execution_count": 23,
     "metadata": {},
     "output_type": "execute_result"
    }
   ],
   "source": [
    "lr_learner.train_loop(dl)"
   ]
  },
  {
   "cell_type": "code",
   "execution_count": 24,
   "id": "ca410940",
   "metadata": {
    "execution": {
     "iopub.execute_input": "2021-09-20T10:09:22.506352Z",
     "iopub.status.busy": "2021-09-20T10:09:22.505804Z",
     "iopub.status.idle": "2021-09-20T10:09:22.769937Z",
     "shell.execute_reply": "2021-09-20T10:09:22.770373Z"
    },
    "papermill": {
     "duration": 0.321945,
     "end_time": "2021-09-20T10:09:22.770508",
     "exception": false,
     "start_time": "2021-09-20T10:09:22.448563",
     "status": "completed"
    },
    "tags": []
   },
   "outputs": [
    {
     "data": {
      "text/plain": [
       "<matplotlib.legend.Legend at 0x7fcbe437f908>"
      ]
     },
     "execution_count": 24,
     "metadata": {},
     "output_type": "execute_result"
    },
    {
     "data": {
      "image/png": "[encoded data removed]",
      "text/plain": [
       "<Figure size 1080x720 with 1 Axes>"
      ]
     },
     "metadata": {
      "needs_background": "light"
     },
     "output_type": "display_data"
    }
   ],
   "source": [
    "#comparing the results of NN and LR\n",
    "plt.figure(figsize=(15,10))\n",
    "\n",
    "# Neural Network plots\n",
    "plt.plot(acc_nn.accuracies, 'r-', label = \"Training Accuracies - NN\")\n",
    "plt.plot(acc_nn.test_accuracies, 'g-', label = \"Testing Accuracies - NN\")\n",
    "\n",
    "# Logistic Regression plots\n",
    "plt.plot(acc_lr.accuracies, 'k-', label = \"Training Accuracies - LR\")\n",
    "plt.plot(acc_lr.test_accuracies, 'b-', label = \"Testing Accuracies - LR\")\n",
    "plt.legend()"
   ]
  },
  {
   "cell_type": "markdown",
   "id": "80dfb35c",
   "metadata": {
    "papermill": {
     "duration": 0.042019,
     "end_time": "2021-09-20T10:09:22.855905",
     "exception": false,
     "start_time": "2021-09-20T10:09:22.813886",
     "status": "completed"
    },
    "tags": []
   },
   "source": [
    "#### Plotting the outputs of this layer of the NN.\n"
   ]
  },
  {
   "cell_type": "code",
   "execution_count": 25,
   "id": "45eb2ff5",
   "metadata": {
    "execution": {
     "iopub.execute_input": "2021-09-20T10:09:22.945059Z",
     "iopub.status.busy": "2021-09-20T10:09:22.944193Z",
     "iopub.status.idle": "2021-09-20T10:09:22.966967Z",
     "shell.execute_reply": "2021-09-20T10:09:22.967414Z"
    },
    "papermill": {
     "duration": 0.0674,
     "end_time": "2021-09-20T10:09:22.967543",
     "exception": false,
     "start_time": "2021-09-20T10:09:22.900143",
     "status": "completed"
    },
    "tags": []
   },
   "outputs": [],
   "source": [
    "new_model = Model(layers[:-2])\n",
    "testing_plot = new_model(testing_data_x)"
   ]
  },
  {
   "cell_type": "code",
   "execution_count": 26,
   "id": "4c0a5485",
   "metadata": {
    "execution": {
     "iopub.execute_input": "2021-09-20T10:09:23.077846Z",
     "iopub.status.busy": "2021-09-20T10:09:23.077314Z",
     "iopub.status.idle": "2021-09-20T10:09:23.268877Z",
     "shell.execute_reply": "2021-09-20T10:09:23.268141Z"
    },
    "papermill": {
     "duration": 0.251918,
     "end_time": "2021-09-20T10:09:23.268989",
     "exception": false,
     "start_time": "2021-09-20T10:09:23.017071",
     "status": "completed"
    },
    "tags": []
   },
   "outputs": [
    {
     "data": {
      "text/plain": [
       "Text(0.5, 1.0, 'Outputs')"
      ]
     },
     "execution_count": 26,
     "metadata": {},
     "output_type": "execute_result"
    },
    {
     "data": {
      "image/png": "[encoded data removed]",
      "text/plain": [
       "<Figure size 576x504 with 1 Axes>"
      ]
     },
     "metadata": {
      "needs_background": "light"
     },
     "output_type": "display_data"
    }
   ],
   "source": [
    "# Plotting the scatter plot of points and color coding by class\n",
    "plt.figure(figsize=(8,7))\n",
    "plt.scatter(testing_plot[:,0], testing_plot[:,1], alpha = 0.1, c = y_test.ravel());\n",
    "plt.title('Outputs')"
   ]
  },
  {
   "cell_type": "markdown",
   "id": "a74fcf8f",
   "metadata": {
    "papermill": {
     "duration": 0.043951,
     "end_time": "2021-09-20T10:09:23.356866",
     "exception": false,
     "start_time": "2021-09-20T10:09:23.312915",
     "status": "completed"
    },
    "tags": []
   },
   "source": [
    "Probability contours"
   ]
  },
  {
   "cell_type": "code",
   "execution_count": 27,
   "id": "d0afc8e3",
   "metadata": {
    "execution": {
     "iopub.execute_input": "2021-09-20T10:09:23.466896Z",
     "iopub.status.busy": "2021-09-20T10:09:23.466215Z",
     "iopub.status.idle": "2021-09-20T10:09:23.475346Z",
     "shell.execute_reply": "2021-09-20T10:09:23.475758Z"
    },
    "papermill": {
     "duration": 0.076664,
     "end_time": "2021-09-20T10:09:23.475869",
     "exception": false,
     "start_time": "2021-09-20T10:09:23.399205",
     "status": "completed"
    },
    "tags": []
   },
   "outputs": [],
   "source": [
    "model_prob = Model(layers[-2:]) "
   ]
  },
  {
   "cell_type": "code",
   "execution_count": 28,
   "id": "9b96e238",
   "metadata": {
    "execution": {
     "iopub.execute_input": "2021-09-20T10:09:23.564239Z",
     "iopub.status.busy": "2021-09-20T10:09:23.563732Z",
     "iopub.status.idle": "2021-09-20T10:09:23.575731Z",
     "shell.execute_reply": "2021-09-20T10:09:23.576123Z"
    },
    "papermill": {
     "duration": 0.058045,
     "end_time": "2021-09-20T10:09:23.576232",
     "exception": false,
     "start_time": "2021-09-20T10:09:23.518187",
     "status": "completed"
    },
    "tags": []
   },
   "outputs": [],
   "source": [
    "#creating the x and y ranges according to the above generated plot.\n",
    "x_range = np.linspace(-4, 1, 100) \n",
    "y_range = np.linspace(-6, 6, 100) \n",
    "x_grid, y_grid = np.meshgrid(x_range, y_range) # x_grid and y_grig are of size 100 X 100\n",
    "\n",
    "# converting x_grid and y_grid to continuous arrays\n",
    "x_gridflat = np.ravel(x_grid)\n",
    "y_gridflat = np.ravel(y_grid)\n",
    "\n",
    "# The last layer of the current model takes two columns as input. Hence transpose of np.vstack() is required.\n",
    "X = np.vstack((x_gridflat, y_gridflat)).T\n",
    "\n",
    "prob_contour = model_prob(X).reshape(100,100) "
   ]
  },
  {
   "cell_type": "code",
   "execution_count": 29,
   "id": "da72499a",
   "metadata": {
    "execution": {
     "iopub.execute_input": "2021-09-20T10:09:23.685748Z",
     "iopub.status.busy": "2021-09-20T10:09:23.685242Z",
     "iopub.status.idle": "2021-09-20T10:09:23.944226Z",
     "shell.execute_reply": "2021-09-20T10:09:23.943628Z"
    },
    "papermill": {
     "duration": 0.316559,
     "end_time": "2021-09-20T10:09:23.944350",
     "exception": false,
     "start_time": "2021-09-20T10:09:23.627791",
     "status": "completed"
    },
    "tags": []
   },
   "outputs": [
    {
     "data": {
      "image/png": "[encoded data removed]",
      "text/plain": [
       "<Figure size 720x648 with 1 Axes>"
      ]
     },
     "metadata": {
      "needs_background": "light"
     },
     "output_type": "display_data"
    }
   ],
   "source": [
    "plt.figure(figsize=(10,9))\n",
    "plt.scatter(testing_plot[:,0], testing_plot[:,1], alpha = 0.1, c = y_test.ravel())\n",
    "contours = plt.contour(x_grid,y_grid,prob_contour)\n",
    "plt.title('Probability Contours')\n",
    "plt.clabel(contours, inline = True );"
   ]
  },
  {
   "cell_type": "code",
   "execution_count": null,
   "id": "e81b4ac7",
   "metadata": {
    "papermill": {
     "duration": 0.045531,
     "end_time": "2021-09-20T10:09:24.038410",
     "exception": false,
     "start_time": "2021-09-20T10:09:23.992879",
     "status": "completed"
    },
    "tags": []
   },
   "outputs": [],
   "source": []
  }
 ],
 "metadata": {
  "kernelspec": {
   "display_name": "Python 3",
   "language": "python",
   "name": "python3"
  },
  "language_info": {
   "codemirror_mode": {
    "name": "ipython",
    "version": 3
   },
   "file_extension": ".py",
   "mimetype": "text/x-python",
   "name": "python",
   "nbconvert_exporter": "python",
   "pygments_lexer": "ipython3",
   "version": "3.6.15"
  },
  "papermill": {
   "default_parameters": {},
   "duration": 157.852078,
   "end_time": "2021-09-20T10:09:24.396374",
   "environment_variables": {},
   "exception": null,
   "input_path": "2020-08-11-part2.ipynb",
   "output_path": "2020-08-11-part2.ipynb",
   "parameters": {},
   "start_time": "2021-09-20T10:06:46.544296",
   "version": "2.3.3"
  }
 },
 "nbformat": 4,
 "nbformat_minor": 5
}