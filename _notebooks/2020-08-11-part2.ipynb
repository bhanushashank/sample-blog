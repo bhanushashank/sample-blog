{
 "cells": [
  {
   "cell_type": "markdown",
   "id": "98380cd3",
   "metadata": {
    "papermill": {
     "duration": 0.040888,
     "end_time": "2022-12-01T20:11:14.346775",
     "exception": false,
     "start_time": "2022-12-01T20:11:14.305887",
     "status": "completed"
    },
    "tags": []
   },
   "source": [
    "# Distinguish Your Own Digits (DYOD)"
   ]
  },
  {
   "cell_type": "markdown",
   "id": "ef31240d",
   "metadata": {
    "papermill": {
     "duration": 0.034518,
     "end_time": "2022-12-01T20:11:14.414617",
     "exception": false,
     "start_time": "2022-12-01T20:11:14.380099",
     "status": "completed"
    },
    "tags": []
   },
   "source": [
    "You are going to write a classifier that distinguishes between the number 3 and number 8."
   ]
  },
  {
   "cell_type": "code",
   "execution_count": 1,
   "id": "b15c8646",
   "metadata": {
    "execution": {
     "iopub.execute_input": "2022-12-01T20:11:14.494926Z",
     "iopub.status.busy": "2022-12-01T20:11:14.494065Z",
     "iopub.status.idle": "2022-12-01T20:11:14.506807Z",
     "shell.execute_reply": "2022-12-01T20:11:14.506116Z"
    },
    "papermill": {
     "duration": 0.060085,
     "end_time": "2022-12-01T20:11:14.506982",
     "exception": false,
     "start_time": "2022-12-01T20:11:14.446897",
     "status": "completed"
    },
    "tags": []
   },
   "outputs": [],
   "source": [
    "%load_ext autoreload\n",
    "%autoreload 2"
   ]
  },
  {
   "cell_type": "code",
   "execution_count": 2,
   "id": "22ef38dc",
   "metadata": {
    "execution": {
     "iopub.execute_input": "2022-12-01T20:11:14.573926Z",
     "iopub.status.busy": "2022-12-01T20:11:14.573168Z",
     "iopub.status.idle": "2022-12-01T20:11:15.292537Z",
     "shell.execute_reply": "2022-12-01T20:11:15.291044Z"
    },
    "papermill": {
     "duration": 0.753343,
     "end_time": "2022-12-01T20:11:15.292706",
     "exception": false,
     "start_time": "2022-12-01T20:11:14.539363",
     "status": "completed"
    },
    "tags": []
   },
   "outputs": [],
   "source": [
    "%matplotlib inline\n",
    "import numpy as np\n",
    "import matplotlib.pyplot as plt\n",
    "import pandas as pd"
   ]
  },
  {
   "cell_type": "markdown",
   "id": "ba036198",
   "metadata": {
    "papermill": {
     "duration": 0.03245,
     "end_time": "2022-12-01T20:11:15.358706",
     "exception": false,
     "start_time": "2022-12-01T20:11:15.326256",
     "status": "completed"
    },
    "tags": []
   },
   "source": [
    "From the command line run `pip install mnist`. This is a library that will help you bring down the mnist dataset. If you run this from a notebook, you need to put  `!pip install mnist` in a cell by itself."
   ]
  },
  {
   "cell_type": "code",
   "execution_count": 3,
   "id": "bb6ad8a1",
   "metadata": {
    "execution": {
     "iopub.execute_input": "2022-12-01T20:11:15.429275Z",
     "iopub.status.busy": "2022-12-01T20:11:15.428518Z",
     "iopub.status.idle": "2022-12-01T20:11:18.426865Z",
     "shell.execute_reply": "2022-12-01T20:11:18.426166Z"
    },
    "papermill": {
     "duration": 3.035277,
     "end_time": "2022-12-01T20:11:18.427055",
     "exception": false,
     "start_time": "2022-12-01T20:11:15.391778",
     "status": "completed"
    },
    "tags": []
   },
   "outputs": [
    {
     "name": "stdout",
     "output_type": "stream",
     "text": [
      "Collecting mnist\r\n"
     ]
    },
    {
     "name": "stdout",
     "output_type": "stream",
     "text": [
      "  Downloading mnist-0.2.2-py2.py3-none-any.whl (3.5 kB)\r\n",
      "Requirement already satisfied: numpy in /opt/hostedtoolcache/Python/3.6.15/x64/lib/python3.6/site-packages (from mnist) (1.19.5)\r\n"
     ]
    },
    {
     "name": "stdout",
     "output_type": "stream",
     "text": [
      "Installing collected packages: mnist\r\n"
     ]
    },
    {
     "name": "stdout",
     "output_type": "stream",
     "text": [
      "Successfully installed mnist-0.2.2\r\n"
     ]
    }
   ],
   "source": [
    "!pip install mnist"
   ]
  },
  {
   "cell_type": "markdown",
   "id": "69df9c9a",
   "metadata": {
    "papermill": {
     "duration": 0.034899,
     "end_time": "2022-12-01T20:11:18.501138",
     "exception": false,
     "start_time": "2022-12-01T20:11:18.466239",
     "status": "completed"
    },
    "tags": []
   },
   "source": [
    "## Preparing the Data"
   ]
  },
  {
   "cell_type": "code",
   "execution_count": 4,
   "id": "7f69d806",
   "metadata": {
    "execution": {
     "iopub.execute_input": "2022-12-01T20:11:18.581590Z",
     "iopub.status.busy": "2022-12-01T20:11:18.580615Z",
     "iopub.status.idle": "2022-12-01T20:11:18.600700Z",
     "shell.execute_reply": "2022-12-01T20:11:18.599921Z"
    },
    "papermill": {
     "duration": 0.064272,
     "end_time": "2022-12-01T20:11:18.600859",
     "exception": false,
     "start_time": "2022-12-01T20:11:18.536587",
     "status": "completed"
    },
    "tags": []
   },
   "outputs": [],
   "source": [
    "import mnist"
   ]
  },
  {
   "cell_type": "code",
   "execution_count": 5,
   "id": "a411e44f",
   "metadata": {
    "execution": {
     "iopub.execute_input": "2022-12-01T20:11:18.685095Z",
     "iopub.status.busy": "2022-12-01T20:11:18.684246Z",
     "iopub.status.idle": "2022-12-01T20:11:19.672808Z",
     "shell.execute_reply": "2022-12-01T20:11:19.672092Z"
    },
    "papermill": {
     "duration": 1.029159,
     "end_time": "2022-12-01T20:11:19.672967",
     "exception": false,
     "start_time": "2022-12-01T20:11:18.643808",
     "status": "completed"
    },
    "tags": []
   },
   "outputs": [],
   "source": [
    "train_images = mnist.train_images()\n",
    "train_labels = mnist.train_labels()"
   ]
  },
  {
   "cell_type": "code",
   "execution_count": 6,
   "id": "dceab3a5",
   "metadata": {
    "execution": {
     "iopub.execute_input": "2022-12-01T20:11:19.749520Z",
     "iopub.status.busy": "2022-12-01T20:11:19.748761Z",
     "iopub.status.idle": "2022-12-01T20:11:19.762623Z",
     "shell.execute_reply": "2022-12-01T20:11:19.763443Z"
    },
    "papermill": {
     "duration": 0.056686,
     "end_time": "2022-12-01T20:11:19.763611",
     "exception": false,
     "start_time": "2022-12-01T20:11:19.706925",
     "status": "completed"
    },
    "tags": []
   },
   "outputs": [
    {
     "data": {
      "text/plain": [
       "((60000, 28, 28), (60000,))"
      ]
     },
     "execution_count": 6,
     "metadata": {},
     "output_type": "execute_result"
    }
   ],
   "source": [
    "train_images.shape, train_labels.shape"
   ]
  },
  {
   "cell_type": "code",
   "execution_count": 7,
   "id": "f50dc2bb",
   "metadata": {
    "execution": {
     "iopub.execute_input": "2022-12-01T20:11:19.837977Z",
     "iopub.status.busy": "2022-12-01T20:11:19.837158Z",
     "iopub.status.idle": "2022-12-01T20:11:20.413140Z",
     "shell.execute_reply": "2022-12-01T20:11:20.412480Z"
    },
    "papermill": {
     "duration": 0.614806,
     "end_time": "2022-12-01T20:11:20.413329",
     "exception": false,
     "start_time": "2022-12-01T20:11:19.798523",
     "status": "completed"
    },
    "tags": []
   },
   "outputs": [],
   "source": [
    "test_images = mnist.test_images()\n",
    "test_labels = mnist.test_labels()"
   ]
  },
  {
   "cell_type": "code",
   "execution_count": 8,
   "id": "fc38cf1b",
   "metadata": {
    "execution": {
     "iopub.execute_input": "2022-12-01T20:11:20.493447Z",
     "iopub.status.busy": "2022-12-01T20:11:20.492642Z",
     "iopub.status.idle": "2022-12-01T20:11:20.508747Z",
     "shell.execute_reply": "2022-12-01T20:11:20.509523Z"
    },
    "papermill": {
     "duration": 0.055348,
     "end_time": "2022-12-01T20:11:20.509689",
     "exception": false,
     "start_time": "2022-12-01T20:11:20.454341",
     "status": "completed"
    },
    "tags": []
   },
   "outputs": [
    {
     "data": {
      "text/plain": [
       "((10000, 28, 28), (10000,))"
      ]
     },
     "execution_count": 8,
     "metadata": {},
     "output_type": "execute_result"
    }
   ],
   "source": [
    "test_images.shape, test_labels.shape"
   ]
  },
  {
   "cell_type": "code",
   "execution_count": 9,
   "id": "f9ed8fe0",
   "metadata": {
    "execution": {
     "iopub.execute_input": "2022-12-01T20:11:20.588284Z",
     "iopub.status.busy": "2022-12-01T20:11:20.587426Z",
     "iopub.status.idle": "2022-12-01T20:11:20.782850Z",
     "shell.execute_reply": "2022-12-01T20:11:20.782197Z"
    },
    "papermill": {
     "duration": 0.234731,
     "end_time": "2022-12-01T20:11:20.783026",
     "exception": false,
     "start_time": "2022-12-01T20:11:20.548295",
     "status": "completed"
    },
    "tags": []
   },
   "outputs": [
    {
     "name": "stdout",
     "output_type": "stream",
     "text": [
      "2\n"
     ]
    },
    {
     "data": {
      "text/plain": [
       "<matplotlib.image.AxesImage at 0x7ffa379d2d30>"
      ]
     },
     "execution_count": 9,
     "metadata": {},
     "output_type": "execute_result"
    },
    {
     "data": {
      "image/png": "[encoded data removed]",
      "text/plain": [
       "<Figure size 432x288 with 1 Axes>"
      ]
     },
     "metadata": {
      "needs_background": "light"
     },
     "output_type": "display_data"
    }
   ],
   "source": [
    "image_index = 7776 # You may select anything up to 60,000\n",
    "print(train_labels[image_index]) \n",
    "plt.imshow(train_images[image_index], cmap='Greys')"
   ]
  },
  {
   "cell_type": "markdown",
   "id": "a8d2388d",
   "metadata": {
    "papermill": {
     "duration": 0.043036,
     "end_time": "2022-12-01T20:11:20.861533",
     "exception": false,
     "start_time": "2022-12-01T20:11:20.818497",
     "status": "completed"
    },
    "tags": []
   },
   "source": [
    "## Filter data to get 3 and 8 out"
   ]
  },
  {
   "cell_type": "code",
   "execution_count": 10,
   "id": "776f7fc7",
   "metadata": {
    "execution": {
     "iopub.execute_input": "2022-12-01T20:11:20.942137Z",
     "iopub.status.busy": "2022-12-01T20:11:20.941266Z",
     "iopub.status.idle": "2022-12-01T20:11:20.970103Z",
     "shell.execute_reply": "2022-12-01T20:11:20.969040Z"
    },
    "papermill": {
     "duration": 0.069502,
     "end_time": "2022-12-01T20:11:20.970253",
     "exception": false,
     "start_time": "2022-12-01T20:11:20.900751",
     "status": "completed"
    },
    "tags": []
   },
   "outputs": [],
   "source": [
    "train_filter = np.where((train_labels == 3 ) | (train_labels == 8))\n",
    "test_filter = np.where((test_labels == 3) | (test_labels == 8))\n",
    "X_train, y_train = train_images[train_filter], train_labels[train_filter]\n",
    "X_test, y_test = test_images[test_filter], test_labels[test_filter]"
   ]
  },
  {
   "cell_type": "markdown",
   "id": "948f0b7e",
   "metadata": {
    "papermill": {
     "duration": 0.036199,
     "end_time": "2022-12-01T20:11:21.043689",
     "exception": false,
     "start_time": "2022-12-01T20:11:21.007490",
     "status": "completed"
    },
    "tags": []
   },
   "source": [
    "We normalize the pizel values in the 0 to 1 range"
   ]
  },
  {
   "cell_type": "code",
   "execution_count": 11,
   "id": "ee4c2166",
   "metadata": {
    "execution": {
     "iopub.execute_input": "2022-12-01T20:11:21.132996Z",
     "iopub.status.busy": "2022-12-01T20:11:21.127194Z",
     "iopub.status.idle": "2022-12-01T20:11:21.198519Z",
     "shell.execute_reply": "2022-12-01T20:11:21.196719Z"
    },
    "papermill": {
     "duration": 0.115027,
     "end_time": "2022-12-01T20:11:21.198674",
     "exception": false,
     "start_time": "2022-12-01T20:11:21.083647",
     "status": "completed"
    },
    "tags": []
   },
   "outputs": [],
   "source": [
    "X_train = X_train/255.\n",
    "X_test = X_test/255."
   ]
  },
  {
   "cell_type": "markdown",
   "id": "ddcf4fab",
   "metadata": {
    "papermill": {
     "duration": 0.038543,
     "end_time": "2022-12-01T20:11:21.276140",
     "exception": false,
     "start_time": "2022-12-01T20:11:21.237597",
     "status": "completed"
    },
    "tags": []
   },
   "source": [
    "And setup the labels as 1 (when the digit is 3) and 0 (when the digit is 8)"
   ]
  },
  {
   "cell_type": "code",
   "execution_count": 12,
   "id": "7dc908f2",
   "metadata": {
    "execution": {
     "iopub.execute_input": "2022-12-01T20:11:21.357754Z",
     "iopub.status.busy": "2022-12-01T20:11:21.356948Z",
     "iopub.status.idle": "2022-12-01T20:11:21.376247Z",
     "shell.execute_reply": "2022-12-01T20:11:21.374128Z"
    },
    "papermill": {
     "duration": 0.063446,
     "end_time": "2022-12-01T20:11:21.376411",
     "exception": false,
     "start_time": "2022-12-01T20:11:21.312965",
     "status": "completed"
    },
    "tags": []
   },
   "outputs": [],
   "source": [
    "y_train = 1*(y_train==3)\n",
    "y_test = 1*(y_test==3)"
   ]
  },
  {
   "cell_type": "code",
   "execution_count": 13,
   "id": "01e4e969",
   "metadata": {
    "execution": {
     "iopub.execute_input": "2022-12-01T20:11:21.462383Z",
     "iopub.status.busy": "2022-12-01T20:11:21.461528Z",
     "iopub.status.idle": "2022-12-01T20:11:21.478964Z",
     "shell.execute_reply": "2022-12-01T20:11:21.479849Z"
    },
    "papermill": {
     "duration": 0.066003,
     "end_time": "2022-12-01T20:11:21.480068",
     "exception": false,
     "start_time": "2022-12-01T20:11:21.414065",
     "status": "completed"
    },
    "tags": []
   },
   "outputs": [
    {
     "data": {
      "text/plain": [
       "((11982, 28, 28), (1984, 28, 28))"
      ]
     },
     "execution_count": 13,
     "metadata": {},
     "output_type": "execute_result"
    }
   ],
   "source": [
    "X_train.shape, X_test.shape"
   ]
  },
  {
   "cell_type": "markdown",
   "id": "5ccf3f85",
   "metadata": {
    "papermill": {
     "duration": 0.039865,
     "end_time": "2022-12-01T20:11:21.557969",
     "exception": false,
     "start_time": "2022-12-01T20:11:21.518104",
     "status": "completed"
    },
    "tags": []
   },
   "source": [
    "We reshape the data to flatten the image pixels into a set of features or co-variates:"
   ]
  },
  {
   "cell_type": "code",
   "execution_count": 14,
   "id": "5286a4a3",
   "metadata": {
    "execution": {
     "iopub.execute_input": "2022-12-01T20:11:21.637039Z",
     "iopub.status.busy": "2022-12-01T20:11:21.636193Z",
     "iopub.status.idle": "2022-12-01T20:11:21.652924Z",
     "shell.execute_reply": "2022-12-01T20:11:21.652216Z"
    },
    "papermill": {
     "duration": 0.059246,
     "end_time": "2022-12-01T20:11:21.653070",
     "exception": false,
     "start_time": "2022-12-01T20:11:21.593824",
     "status": "completed"
    },
    "tags": []
   },
   "outputs": [
    {
     "data": {
      "text/plain": [
       "((11982, 784), (1984, 784))"
      ]
     },
     "execution_count": 14,
     "metadata": {},
     "output_type": "execute_result"
    }
   ],
   "source": [
    "X_train = X_train.reshape(X_train.shape[0], -1)\n",
    "X_test = X_test.reshape(X_test.shape[0], -1)\n",
    "X_train.shape, X_test.shape"
   ]
  },
  {
   "cell_type": "code",
   "execution_count": 15,
   "id": "73c5f88a",
   "metadata": {
    "execution": {
     "iopub.execute_input": "2022-12-01T20:11:21.734932Z",
     "iopub.status.busy": "2022-12-01T20:11:21.734063Z",
     "iopub.status.idle": "2022-12-01T20:11:21.757753Z",
     "shell.execute_reply": "2022-12-01T20:11:21.758582Z"
    },
    "papermill": {
     "duration": 0.067733,
     "end_time": "2022-12-01T20:11:21.758759",
     "exception": false,
     "start_time": "2022-12-01T20:11:21.691026",
     "status": "completed"
    },
    "tags": []
   },
   "outputs": [],
   "source": [
    "#Impoting functions from 'Kudzu'\n",
    "from kudzu.model import Model\n",
    "from kudzu.train import Learner\n",
    "from kudzu.optim import GD\n",
    "from kudzu.data import Data, Sampler,Dataloader\n",
    "\n",
    "from kudzu.callbacks import AccCallback\n",
    "from kudzu.callbacks import ClfCallback\n",
    "\n",
    "from kudzu.loss import MSE\n",
    "\n",
    "from kudzu.layer import Sigmoid,Relu\n",
    "from kudzu.layer import Affine"
   ]
  },
  {
   "cell_type": "markdown",
   "id": "bc01172a",
   "metadata": {
    "papermill": {
     "duration": 0.042029,
     "end_time": "2022-12-01T20:11:21.839617",
     "exception": false,
     "start_time": "2022-12-01T20:11:21.797588",
     "status": "completed"
    },
    "tags": []
   },
   "source": [
    "### Let us create a `Config` class, to store important parameters. \n",
    "This class essentially plays the role of a dictionary."
   ]
  },
  {
   "cell_type": "code",
   "execution_count": 16,
   "id": "978281aa",
   "metadata": {
    "execution": {
     "iopub.execute_input": "2022-12-01T20:11:21.925684Z",
     "iopub.status.busy": "2022-12-01T20:11:21.924891Z",
     "iopub.status.idle": "2022-12-01T20:11:21.940006Z",
     "shell.execute_reply": "2022-12-01T20:11:21.940597Z"
    },
    "papermill": {
     "duration": 0.059524,
     "end_time": "2022-12-01T20:11:21.940764",
     "exception": false,
     "start_time": "2022-12-01T20:11:21.881240",
     "status": "completed"
    },
    "tags": []
   },
   "outputs": [],
   "source": [
    "class Config:\n",
    "    pass\n",
    "config = Config()\n",
    "config.lr = 0.001\n",
    "config.num_epochs = 250\n",
    "config.bs = 50"
   ]
  },
  {
   "cell_type": "markdown",
   "id": "1385fa59",
   "metadata": {
    "papermill": {
     "duration": 0.037272,
     "end_time": "2022-12-01T20:11:22.024406",
     "exception": false,
     "start_time": "2022-12-01T20:11:21.987134",
     "status": "completed"
    },
    "tags": []
   },
   "source": [
    "### Running Models with the Training data\n",
    "Details about the network layers:\n",
    "- A first affine layer has 784 inputs and does 100 affine transforms. These are followed by a Relu\n",
    "- A second affine layer has 100 inputs from the 100 activations of the past layer, and does 100 affine transforms. These are followed by a Relu\n",
    "- A third affine layer has 100 activations and does 2 affine transformations to create an embedding for visualization. There is no non-linearity here.\n",
    "- A final \"logistic regression\" which has an affine transform from 2 inputs to 1 output, which is squeezed through a sigmoid.\n"
   ]
  },
  {
   "cell_type": "code",
   "execution_count": 17,
   "id": "2b9c66db",
   "metadata": {
    "execution": {
     "iopub.execute_input": "2022-12-01T20:11:22.107056Z",
     "iopub.status.busy": "2022-12-01T20:11:22.106174Z",
     "iopub.status.idle": "2022-12-01T20:11:22.123486Z",
     "shell.execute_reply": "2022-12-01T20:11:22.122843Z"
    },
    "papermill": {
     "duration": 0.062692,
     "end_time": "2022-12-01T20:11:22.123656",
     "exception": false,
     "start_time": "2022-12-01T20:11:22.060964",
     "status": "completed"
    },
    "tags": []
   },
   "outputs": [],
   "source": [
    "data = Data(X_train, y_train.reshape(-1,1))\n",
    "sampler = Sampler(data, config.bs, shuffle=True)\n",
    "\n",
    "dl = Dataloader(data, sampler)\n",
    "\n",
    "opt = GD(config.lr)\n",
    "loss = MSE()"
   ]
  },
  {
   "cell_type": "code",
   "execution_count": 18,
   "id": "b275e4c2",
   "metadata": {
    "execution": {
     "iopub.execute_input": "2022-12-01T20:11:22.208413Z",
     "iopub.status.busy": "2022-12-01T20:11:22.207478Z",
     "iopub.status.idle": "2022-12-01T20:11:22.222366Z",
     "shell.execute_reply": "2022-12-01T20:11:22.223016Z"
    },
    "papermill": {
     "duration": 0.057839,
     "end_time": "2022-12-01T20:11:22.223176",
     "exception": false,
     "start_time": "2022-12-01T20:11:22.165337",
     "status": "completed"
    },
    "tags": []
   },
   "outputs": [],
   "source": [
    "training_data_x = X_train\n",
    "testing_data_x = X_test\n",
    "training_data_y = y_train.reshape(-1,1)\n",
    "testing_data_y = y_test.reshape(-1,1)"
   ]
  },
  {
   "cell_type": "code",
   "execution_count": 19,
   "id": "76951160",
   "metadata": {
    "execution": {
     "iopub.execute_input": "2022-12-01T20:11:22.301956Z",
     "iopub.status.busy": "2022-12-01T20:11:22.301172Z",
     "iopub.status.idle": "2022-12-01T20:11:22.325095Z",
     "shell.execute_reply": "2022-12-01T20:11:22.325814Z"
    },
    "papermill": {
     "duration": 0.065687,
     "end_time": "2022-12-01T20:11:22.326031",
     "exception": false,
     "start_time": "2022-12-01T20:11:22.260344",
     "status": "completed"
    },
    "tags": []
   },
   "outputs": [
    {
     "name": "stdout",
     "output_type": "stream",
     "text": [
      "xavier\n",
      "xavier\n",
      "xavier\n",
      "xavier\n",
      "xavier\n"
     ]
    }
   ],
   "source": [
    "layers = [Affine(\"first\", 784, 100), Relu(\"first\"), Affine(\"second\", 100, 100), Relu(\"second\"), Affine(\"third\", 100, 2), Affine(\"last\", 2, 1), Sigmoid(\"last\")]\n",
    "model_nn = Model(layers)\n",
    "model_lr = Model([Affine(\"logits\", 784, 1), Sigmoid(\"sigmoid\")])"
   ]
  },
  {
   "cell_type": "code",
   "execution_count": 20,
   "id": "6eede77a",
   "metadata": {
    "execution": {
     "iopub.execute_input": "2022-12-01T20:11:22.407450Z",
     "iopub.status.busy": "2022-12-01T20:11:22.406591Z",
     "iopub.status.idle": "2022-12-01T20:11:22.422498Z",
     "shell.execute_reply": "2022-12-01T20:11:22.423089Z"
    },
    "papermill": {
     "duration": 0.05893,
     "end_time": "2022-12-01T20:11:22.423250",
     "exception": false,
     "start_time": "2022-12-01T20:11:22.364320",
     "status": "completed"
    },
    "tags": []
   },
   "outputs": [],
   "source": [
    "nn_learner = Learner(loss, model_nn, opt, config.num_epochs)\n",
    "acc_nn = ClfCallback(nn_learner, config.bs, training_data_x , testing_data_x, training_data_y, testing_data_y)\n",
    "nn_learner.set_callbacks([acc_nn])"
   ]
  },
  {
   "cell_type": "code",
   "execution_count": 21,
   "id": "877b6cc7",
   "metadata": {
    "execution": {
     "iopub.execute_input": "2022-12-01T20:11:22.501708Z",
     "iopub.status.busy": "2022-12-01T20:11:22.500891Z",
     "iopub.status.idle": "2022-12-01T20:11:22.518264Z",
     "shell.execute_reply": "2022-12-01T20:11:22.518864Z"
    },
    "papermill": {
     "duration": 0.058789,
     "end_time": "2022-12-01T20:11:22.519054",
     "exception": false,
     "start_time": "2022-12-01T20:11:22.460265",
     "status": "completed"
    },
    "tags": []
   },
   "outputs": [],
   "source": [
    "lr_learner = Learner(loss, model_lr, opt, config.num_epochs)\n",
    "acc_lr = ClfCallback(lr_learner, config.bs, training_data_x , testing_data_x, training_data_y, testing_data_y)\n",
    "lr_learner.set_callbacks([acc_lr])"
   ]
  },
  {
   "cell_type": "code",
   "execution_count": 22,
   "id": "d9b133c3",
   "metadata": {
    "execution": {
     "iopub.execute_input": "2022-12-01T20:11:22.599331Z",
     "iopub.status.busy": "2022-12-01T20:11:22.598523Z",
     "iopub.status.idle": "2022-12-01T20:13:51.335951Z",
     "shell.execute_reply": "2022-12-01T20:13:51.337243Z"
    },
    "papermill": {
     "duration": 148.78102,
     "end_time": "2022-12-01T20:13:51.337425",
     "exception": false,
     "start_time": "2022-12-01T20:11:22.556405",
     "status": "completed"
    },
    "tags": []
   },
   "outputs": [
    {
     "name": "stdout",
     "output_type": "stream",
     "text": [
      "Epoch 0, Loss 0.225\n",
      "Training Accuracy: 0.7825, Testing Accuracy: 0.7933\n",
      "\n"
     ]
    },
    {
     "name": "stdout",
     "output_type": "stream",
     "text": [
      "Epoch 10, Loss 0.0685\n",
      "Training Accuracy: 0.9320, Testing Accuracy: 0.9476\n",
      "\n"
     ]
    },
    {
     "name": "stdout",
     "output_type": "stream",
     "text": [
      "Epoch 20, Loss 0.0473\n",
      "Training Accuracy: 0.9501, Testing Accuracy: 0.9592\n",
      "\n"
     ]
    },
    {
     "name": "stdout",
     "output_type": "stream",
     "text": [
      "Epoch 30, Loss 0.0392\n",
      "Training Accuracy: 0.9580, Testing Accuracy: 0.9652\n",
      "\n"
     ]
    },
    {
     "name": "stdout",
     "output_type": "stream",
     "text": [
      "Epoch 40, Loss 0.0348\n",
      "Training Accuracy: 0.9610, Testing Accuracy: 0.9677\n",
      "\n"
     ]
    },
    {
     "name": "stdout",
     "output_type": "stream",
     "text": [
      "Epoch 50, Loss 0.0318\n",
      "Training Accuracy: 0.9646, Testing Accuracy: 0.9693\n",
      "\n"
     ]
    },
    {
     "name": "stdout",
     "output_type": "stream",
     "text": [
      "Epoch 60, Loss 0.0297\n",
      "Training Accuracy: 0.9673, Testing Accuracy: 0.9693\n",
      "\n"
     ]
    },
    {
     "name": "stdout",
     "output_type": "stream",
     "text": [
      "Epoch 70, Loss 0.0279\n",
      "Training Accuracy: 0.9691, Testing Accuracy: 0.9682\n",
      "\n"
     ]
    },
    {
     "name": "stdout",
     "output_type": "stream",
     "text": [
      "Epoch 80, Loss 0.0265\n",
      "Training Accuracy: 0.9713, Testing Accuracy: 0.9693\n",
      "\n"
     ]
    },
    {
     "name": "stdout",
     "output_type": "stream",
     "text": [
      "Epoch 90, Loss 0.0253\n",
      "Training Accuracy: 0.9726, Testing Accuracy: 0.9718\n",
      "\n"
     ]
    },
    {
     "name": "stdout",
     "output_type": "stream",
     "text": [
      "Epoch 100, Loss 0.0242\n",
      "Training Accuracy: 0.9737, Testing Accuracy: 0.9718\n",
      "\n"
     ]
    },
    {
     "name": "stdout",
     "output_type": "stream",
     "text": [
      "Epoch 110, Loss 0.0233\n",
      "Training Accuracy: 0.9746, Testing Accuracy: 0.9723\n",
      "\n"
     ]
    },
    {
     "name": "stdout",
     "output_type": "stream",
     "text": [
      "Epoch 120, Loss 0.0225\n",
      "Training Accuracy: 0.9755, Testing Accuracy: 0.9723\n",
      "\n"
     ]
    },
    {
     "name": "stdout",
     "output_type": "stream",
     "text": [
      "Epoch 130, Loss 0.0217\n",
      "Training Accuracy: 0.9764, Testing Accuracy: 0.9733\n",
      "\n"
     ]
    },
    {
     "name": "stdout",
     "output_type": "stream",
     "text": [
      "Epoch 140, Loss 0.021\n",
      "Training Accuracy: 0.9770, Testing Accuracy: 0.9733\n",
      "\n"
     ]
    },
    {
     "name": "stdout",
     "output_type": "stream",
     "text": [
      "Epoch 150, Loss 0.0203\n",
      "Training Accuracy: 0.9777, Testing Accuracy: 0.9743\n",
      "\n"
     ]
    },
    {
     "name": "stdout",
     "output_type": "stream",
     "text": [
      "Epoch 160, Loss 0.0197\n",
      "Training Accuracy: 0.9784, Testing Accuracy: 0.9748\n",
      "\n"
     ]
    },
    {
     "name": "stdout",
     "output_type": "stream",
     "text": [
      "Epoch 170, Loss 0.0192\n",
      "Training Accuracy: 0.9793, Testing Accuracy: 0.9743\n",
      "\n"
     ]
    },
    {
     "name": "stdout",
     "output_type": "stream",
     "text": [
      "Epoch 180, Loss 0.0186\n",
      "Training Accuracy: 0.9796, Testing Accuracy: 0.9753\n",
      "\n"
     ]
    },
    {
     "name": "stdout",
     "output_type": "stream",
     "text": [
      "Epoch 190, Loss 0.0181\n",
      "Training Accuracy: 0.9804, Testing Accuracy: 0.9748\n",
      "\n"
     ]
    },
    {
     "name": "stdout",
     "output_type": "stream",
     "text": [
      "Epoch 200, Loss 0.0177\n",
      "Training Accuracy: 0.9814, Testing Accuracy: 0.9748\n",
      "\n"
     ]
    },
    {
     "name": "stdout",
     "output_type": "stream",
     "text": [
      "Epoch 210, Loss 0.0172\n",
      "Training Accuracy: 0.9816, Testing Accuracy: 0.9753\n",
      "\n"
     ]
    },
    {
     "name": "stdout",
     "output_type": "stream",
     "text": [
      "Epoch 220, Loss 0.0168\n",
      "Training Accuracy: 0.9824, Testing Accuracy: 0.9758\n",
      "\n"
     ]
    },
    {
     "name": "stdout",
     "output_type": "stream",
     "text": [
      "Epoch 230, Loss 0.0163\n",
      "Training Accuracy: 0.9829, Testing Accuracy: 0.9758\n",
      "\n"
     ]
    },
    {
     "name": "stdout",
     "output_type": "stream",
     "text": [
      "Epoch 240, Loss 0.0159\n",
      "Training Accuracy: 0.9833, Testing Accuracy: 0.9758\n",
      "\n"
     ]
    },
    {
     "data": {
      "text/plain": [
       "0.009953601959101704"
      ]
     },
     "execution_count": 22,
     "metadata": {},
     "output_type": "execute_result"
    }
   ],
   "source": [
    "nn_learner.train_loop(dl)"
   ]
  },
  {
   "cell_type": "code",
   "execution_count": 23,
   "id": "e0163366",
   "metadata": {
    "execution": {
     "iopub.execute_input": "2022-12-01T20:13:51.438135Z",
     "iopub.status.busy": "2022-12-01T20:13:51.437009Z",
     "iopub.status.idle": "2022-12-01T20:14:12.739891Z",
     "shell.execute_reply": "2022-12-01T20:14:12.740907Z"
    },
    "papermill": {
     "duration": 21.36054,
     "end_time": "2022-12-01T20:14:12.741073",
     "exception": false,
     "start_time": "2022-12-01T20:13:51.380533",
     "status": "completed"
    },
    "tags": []
   },
   "outputs": [
    {
     "name": "stdout",
     "output_type": "stream",
     "text": [
      "Epoch 0, Loss 0.2218\n",
      "Training Accuracy: 0.7802, Testing Accuracy: 0.7702\n",
      "\n"
     ]
    },
    {
     "name": "stdout",
     "output_type": "stream",
     "text": [
      "Epoch 10, Loss 0.1001\n",
      "Training Accuracy: 0.9117, Testing Accuracy: 0.9254\n",
      "\n"
     ]
    },
    {
     "name": "stdout",
     "output_type": "stream",
     "text": [
      "Epoch 20, Loss 0.0782\n",
      "Training Accuracy: 0.9286, Testing Accuracy: 0.9415\n",
      "\n"
     ]
    },
    {
     "name": "stdout",
     "output_type": "stream",
     "text": [
      "Epoch 30, Loss 0.0677\n",
      "Training Accuracy: 0.9378, Testing Accuracy: 0.9466\n",
      "\n"
     ]
    },
    {
     "name": "stdout",
     "output_type": "stream",
     "text": [
      "Epoch 40, Loss 0.0612\n",
      "Training Accuracy: 0.9427, Testing Accuracy: 0.9486\n",
      "\n"
     ]
    },
    {
     "name": "stdout",
     "output_type": "stream",
     "text": [
      "Epoch 50, Loss 0.0568\n",
      "Training Accuracy: 0.9473, Testing Accuracy: 0.9516\n",
      "\n"
     ]
    },
    {
     "name": "stdout",
     "output_type": "stream",
     "text": [
      "Epoch 60, Loss 0.0535\n",
      "Training Accuracy: 0.9496, Testing Accuracy: 0.9572\n",
      "\n"
     ]
    },
    {
     "name": "stdout",
     "output_type": "stream",
     "text": [
      "Epoch 70, Loss 0.051\n",
      "Training Accuracy: 0.9511, Testing Accuracy: 0.9577\n",
      "\n"
     ]
    },
    {
     "name": "stdout",
     "output_type": "stream",
     "text": [
      "Epoch 80, Loss 0.049\n",
      "Training Accuracy: 0.9528, Testing Accuracy: 0.9592\n",
      "\n"
     ]
    },
    {
     "name": "stdout",
     "output_type": "stream",
     "text": [
      "Epoch 90, Loss 0.0473\n",
      "Training Accuracy: 0.9540, Testing Accuracy: 0.9612\n",
      "\n"
     ]
    },
    {
     "name": "stdout",
     "output_type": "stream",
     "text": [
      "Epoch 100, Loss 0.0459\n",
      "Training Accuracy: 0.9547, Testing Accuracy: 0.9622\n",
      "\n"
     ]
    },
    {
     "name": "stdout",
     "output_type": "stream",
     "text": [
      "Epoch 110, Loss 0.0447\n",
      "Training Accuracy: 0.9548, Testing Accuracy: 0.9632\n",
      "\n"
     ]
    },
    {
     "name": "stdout",
     "output_type": "stream",
     "text": [
      "Epoch 120, Loss 0.0437\n",
      "Training Accuracy: 0.9555, Testing Accuracy: 0.9637\n",
      "\n"
     ]
    },
    {
     "name": "stdout",
     "output_type": "stream",
     "text": [
      "Epoch 130, Loss 0.0427\n",
      "Training Accuracy: 0.9558, Testing Accuracy: 0.9637\n",
      "\n"
     ]
    },
    {
     "name": "stdout",
     "output_type": "stream",
     "text": [
      "Epoch 140, Loss 0.0419\n",
      "Training Accuracy: 0.9564, Testing Accuracy: 0.9657\n",
      "\n"
     ]
    },
    {
     "name": "stdout",
     "output_type": "stream",
     "text": [
      "Epoch 150, Loss 0.0412\n",
      "Training Accuracy: 0.9568, Testing Accuracy: 0.9657\n",
      "\n"
     ]
    },
    {
     "name": "stdout",
     "output_type": "stream",
     "text": [
      "Epoch 160, Loss 0.0405\n",
      "Training Accuracy: 0.9574, Testing Accuracy: 0.9662\n",
      "\n"
     ]
    },
    {
     "name": "stdout",
     "output_type": "stream",
     "text": [
      "Epoch 170, Loss 0.0399\n",
      "Training Accuracy: 0.9577, Testing Accuracy: 0.9662\n",
      "\n"
     ]
    },
    {
     "name": "stdout",
     "output_type": "stream",
     "text": [
      "Epoch 180, Loss 0.0394\n",
      "Training Accuracy: 0.9579, Testing Accuracy: 0.9662\n",
      "\n"
     ]
    },
    {
     "name": "stdout",
     "output_type": "stream",
     "text": [
      "Epoch 190, Loss 0.0389\n",
      "Training Accuracy: 0.9580, Testing Accuracy: 0.9662\n",
      "\n"
     ]
    },
    {
     "name": "stdout",
     "output_type": "stream",
     "text": [
      "Epoch 200, Loss 0.0384\n",
      "Training Accuracy: 0.9586, Testing Accuracy: 0.9662\n",
      "\n"
     ]
    },
    {
     "name": "stdout",
     "output_type": "stream",
     "text": [
      "Epoch 210, Loss 0.038\n",
      "Training Accuracy: 0.9590, Testing Accuracy: 0.9662\n",
      "\n"
     ]
    },
    {
     "name": "stdout",
     "output_type": "stream",
     "text": [
      "Epoch 220, Loss 0.0376\n",
      "Training Accuracy: 0.9593, Testing Accuracy: 0.9662\n",
      "\n"
     ]
    },
    {
     "name": "stdout",
     "output_type": "stream",
     "text": [
      "Epoch 230, Loss 0.0372\n",
      "Training Accuracy: 0.9597, Testing Accuracy: 0.9662\n",
      "\n"
     ]
    },
    {
     "name": "stdout",
     "output_type": "stream",
     "text": [
      "Epoch 240, Loss 0.0368\n",
      "Training Accuracy: 0.9601, Testing Accuracy: 0.9662\n",
      "\n"
     ]
    },
    {
     "data": {
      "text/plain": [
       "0.024593106989487898"
      ]
     },
     "execution_count": 23,
     "metadata": {},
     "output_type": "execute_result"
    }
   ],
   "source": [
    "lr_learner.train_loop(dl)"
   ]
  },
  {
   "cell_type": "code",
   "execution_count": 24,
   "id": "ca410940",
   "metadata": {
    "execution": {
     "iopub.execute_input": "2022-12-01T20:14:12.851193Z",
     "iopub.status.busy": "2022-12-01T20:14:12.850432Z",
     "iopub.status.idle": "2022-12-01T20:14:13.153265Z",
     "shell.execute_reply": "2022-12-01T20:14:13.153819Z"
    },
    "papermill": {
     "duration": 0.361851,
     "end_time": "2022-12-01T20:14:13.153986",
     "exception": false,
     "start_time": "2022-12-01T20:14:12.792135",
     "status": "completed"
    },
    "tags": []
   },
   "outputs": [
    {
     "data": {
      "text/plain": [
       "<matplotlib.legend.Legend at 0x7ffa37543358>"
      ]
     },
     "execution_count": 24,
     "metadata": {},
     "output_type": "execute_result"
    },
    {
     "data": {
      "image/png": "[encoded data removed]",
      "text/plain": [
       "<Figure size 1080x720 with 1 Axes>"
      ]
     },
     "metadata": {
      "needs_background": "light"
     },
     "output_type": "display_data"
    }
   ],
   "source": [
    "#comparing the results of NN and LR\n",
    "plt.figure(figsize=(15,10))\n",
    "\n",
    "# Neural Network plots\n",
    "plt.plot(acc_nn.accuracies, 'r-', label = \"Training Accuracies - NN\")\n",
    "plt.plot(acc_nn.test_accuracies, 'g-', label = \"Testing Accuracies - NN\")\n",
    "\n",
    "# Logistic Regression plots\n",
    "plt.plot(acc_lr.accuracies, 'k-', label = \"Training Accuracies - LR\")\n",
    "plt.plot(acc_lr.test_accuracies, 'b-', label = \"Testing Accuracies - LR\")\n",
    "plt.legend()"
   ]
  },
  {
   "cell_type": "markdown",
   "id": "80dfb35c",
   "metadata": {
    "papermill": {
     "duration": 0.049788,
     "end_time": "2022-12-01T20:14:13.264443",
     "exception": false,
     "start_time": "2022-12-01T20:14:13.214655",
     "status": "completed"
    },
    "tags": []
   },
   "source": [
    "#### Plotting the outputs of this layer of the NN.\n"
   ]
  },
  {
   "cell_type": "code",
   "execution_count": 25,
   "id": "45eb2ff5",
   "metadata": {
    "execution": {
     "iopub.execute_input": "2022-12-01T20:14:13.366025Z",
     "iopub.status.busy": "2022-12-01T20:14:13.365319Z",
     "iopub.status.idle": "2022-12-01T20:14:13.390292Z",
     "shell.execute_reply": "2022-12-01T20:14:13.391098Z"
    },
    "papermill": {
     "duration": 0.080366,
     "end_time": "2022-12-01T20:14:13.391262",
     "exception": false,
     "start_time": "2022-12-01T20:14:13.310896",
     "status": "completed"
    },
    "tags": []
   },
   "outputs": [],
   "source": [
    "new_model = Model(layers[:-2])\n",
    "testing_plot = new_model(testing_data_x)"
   ]
  },
  {
   "cell_type": "code",
   "execution_count": 26,
   "id": "4c0a5485",
   "metadata": {
    "execution": {
     "iopub.execute_input": "2022-12-01T20:14:13.505301Z",
     "iopub.status.busy": "2022-12-01T20:14:13.500179Z",
     "iopub.status.idle": "2022-12-01T20:14:13.786652Z",
     "shell.execute_reply": "2022-12-01T20:14:13.785773Z"
    },
    "papermill": {
     "duration": 0.342251,
     "end_time": "2022-12-01T20:14:13.786779",
     "exception": false,
     "start_time": "2022-12-01T20:14:13.444528",
     "status": "completed"
    },
    "tags": []
   },
   "outputs": [
    {
     "data": {
      "text/plain": [
       "Text(0.5, 1.0, 'Outputs')"
      ]
     },
     "execution_count": 26,
     "metadata": {},
     "output_type": "execute_result"
    },
    {
     "data": {
      "image/png": "[encoded data removed]",
      "text/plain": [
       "<Figure size 576x504 with 1 Axes>"
      ]
     },
     "metadata": {
      "needs_background": "light"
     },
     "output_type": "display_data"
    }
   ],
   "source": [
    "# Plotting the scatter plot of points and color coding by class\n",
    "plt.figure(figsize=(8,7))\n",
    "plt.scatter(testing_plot[:,0], testing_plot[:,1], alpha = 0.1, c = y_test.ravel());\n",
    "plt.title('Outputs')"
   ]
  },
  {
   "cell_type": "markdown",
   "id": "a74fcf8f",
   "metadata": {
    "papermill": {
     "duration": 0.073523,
     "end_time": "2022-12-01T20:14:13.914553",
     "exception": false,
     "start_time": "2022-12-01T20:14:13.841030",
     "status": "completed"
    },
    "tags": []
   },
   "source": [
    "Probability contours"
   ]
  },
  {
   "cell_type": "code",
   "execution_count": 27,
   "id": "d0afc8e3",
   "metadata": {
    "execution": {
     "iopub.execute_input": "2022-12-01T20:14:14.026077Z",
     "iopub.status.busy": "2022-12-01T20:14:14.024503Z",
     "iopub.status.idle": "2022-12-01T20:14:14.038987Z",
     "shell.execute_reply": "2022-12-01T20:14:14.038456Z"
    },
    "papermill": {
     "duration": 0.069801,
     "end_time": "2022-12-01T20:14:14.039107",
     "exception": false,
     "start_time": "2022-12-01T20:14:13.969306",
     "status": "completed"
    },
    "tags": []
   },
   "outputs": [],
   "source": [
    "model_prob = Model(layers[-2:]) "
   ]
  },
  {
   "cell_type": "code",
   "execution_count": 28,
   "id": "9b96e238",
   "metadata": {
    "execution": {
     "iopub.execute_input": "2022-12-01T20:14:14.155496Z",
     "iopub.status.busy": "2022-12-01T20:14:14.154780Z",
     "iopub.status.idle": "2022-12-01T20:14:14.171747Z",
     "shell.execute_reply": "2022-12-01T20:14:14.172296Z"
    },
    "papermill": {
     "duration": 0.080796,
     "end_time": "2022-12-01T20:14:14.172464",
     "exception": false,
     "start_time": "2022-12-01T20:14:14.091668",
     "status": "completed"
    },
    "tags": []
   },
   "outputs": [],
   "source": [
    "#creating the x and y ranges according to the above generated plot.\n",
    "x_range = np.linspace(-4, 1, 100) \n",
    "y_range = np.linspace(-6, 6, 100) \n",
    "x_grid, y_grid = np.meshgrid(x_range, y_range) # x_grid and y_grig are of size 100 X 100\n",
    "\n",
    "# converting x_grid and y_grid to continuous arrays\n",
    "x_gridflat = np.ravel(x_grid)\n",
    "y_gridflat = np.ravel(y_grid)\n",
    "\n",
    "# The last layer of the current model takes two columns as input. Hence transpose of np.vstack() is required.\n",
    "X = np.vstack((x_gridflat, y_gridflat)).T\n",
    "\n",
    "prob_contour = model_prob(X).reshape(100,100) "
   ]
  },
  {
   "cell_type": "code",
   "execution_count": 29,
   "id": "da72499a",
   "metadata": {
    "execution": {
     "iopub.execute_input": "2022-12-01T20:14:14.292531Z",
     "iopub.status.busy": "2022-12-01T20:14:14.291842Z",
     "iopub.status.idle": "2022-12-01T20:14:14.612078Z",
     "shell.execute_reply": "2022-12-01T20:14:14.611148Z"
    },
    "papermill": {
     "duration": 0.384074,
     "end_time": "2022-12-01T20:14:14.612231",
     "exception": false,
     "start_time": "2022-12-01T20:14:14.228157",
     "status": "completed"
    },
    "tags": []
   },
   "outputs": [
    {
     "data": {
      "image/png": "[encoded data removed]",
      "text/plain": [
       "<Figure size 720x648 with 1 Axes>"
      ]
     },
     "metadata": {
      "needs_background": "light"
     },
     "output_type": "display_data"
    }
   ],
   "source": [
    "plt.figure(figsize=(10,9))\n",
    "plt.scatter(testing_plot[:,0], testing_plot[:,1], alpha = 0.1, c = y_test.ravel())\n",
    "contours = plt.contour(x_grid,y_grid,prob_contour)\n",
    "plt.title('Probability Contours')\n",
    "plt.clabel(contours, inline = True );"
   ]
  },
  {
   "cell_type": "code",
   "execution_count": null,
   "id": "e81b4ac7",
   "metadata": {
    "papermill": {
     "duration": 0.056394,
     "end_time": "2022-12-01T20:14:14.734206",
     "exception": false,
     "start_time": "2022-12-01T20:14:14.677812",
     "status": "completed"
    },
    "tags": []
   },
   "outputs": [],
   "source": []
  }
 ],
 "metadata": {
  "kernelspec": {
   "display_name": "Python 3",
   "language": "python",
   "name": "python3"
  },
  "language_info": {
   "codemirror_mode": {
    "name": "ipython",
    "version": 3
   },
   "file_extension": ".py",
   "mimetype": "text/x-python",
   "name": "python",
   "nbconvert_exporter": "python",
   "pygments_lexer": "ipython3",
   "version": "3.6.15"
  },
  "papermill": {
   "default_parameters": {},
   "duration": 182.117577,
   "end_time": "2022-12-01T20:14:15.213021",
   "environment_variables": {},
   "exception": null,
   "input_path": "2020-08-11-part2.ipynb",
   "output_path": "2020-08-11-part2.ipynb",
   "parameters": {},
   "start_time": "2022-12-01T20:11:13.095444",
   "version": "2.3.3"
  }
 },
 "nbformat": 4,
 "nbformat_minor": 5
}