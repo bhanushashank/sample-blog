{
 "cells": [
  {
   "cell_type": "markdown",
   "id": "98380cd3",
   "metadata": {
    "papermill": {
     "duration": 0.028717,
     "end_time": "2022-03-14T00:33:44.418065",
     "exception": false,
     "start_time": "2022-03-14T00:33:44.389348",
     "status": "completed"
    },
    "tags": []
   },
   "source": [
    "# Distinguish Your Own Digits (DYOD)"
   ]
  },
  {
   "cell_type": "markdown",
   "id": "ef31240d",
   "metadata": {
    "papermill": {
     "duration": 0.025379,
     "end_time": "2022-03-14T00:33:44.468111",
     "exception": false,
     "start_time": "2022-03-14T00:33:44.442732",
     "status": "completed"
    },
    "tags": []
   },
   "source": [
    "You are going to write a classifier that distinguishes between the number 3 and number 8."
   ]
  },
  {
   "cell_type": "code",
   "execution_count": 1,
   "id": "b15c8646",
   "metadata": {
    "execution": {
     "iopub.execute_input": "2022-03-14T00:33:44.526038Z",
     "iopub.status.busy": "2022-03-14T00:33:44.525503Z",
     "iopub.status.idle": "2022-03-14T00:33:44.534987Z",
     "shell.execute_reply": "2022-03-14T00:33:44.535390Z"
    },
    "papermill": {
     "duration": 0.043608,
     "end_time": "2022-03-14T00:33:44.535555",
     "exception": false,
     "start_time": "2022-03-14T00:33:44.491947",
     "status": "completed"
    },
    "tags": []
   },
   "outputs": [],
   "source": [
    "%load_ext autoreload\n",
    "%autoreload 2"
   ]
  },
  {
   "cell_type": "code",
   "execution_count": 2,
   "id": "22ef38dc",
   "metadata": {
    "execution": {
     "iopub.execute_input": "2022-03-14T00:33:44.588347Z",
     "iopub.status.busy": "2022-03-14T00:33:44.587834Z",
     "iopub.status.idle": "2022-03-14T00:33:45.137430Z",
     "shell.execute_reply": "2022-03-14T00:33:45.136963Z"
    },
    "papermill": {
     "duration": 0.577796,
     "end_time": "2022-03-14T00:33:45.137558",
     "exception": false,
     "start_time": "2022-03-14T00:33:44.559762",
     "status": "completed"
    },
    "tags": []
   },
   "outputs": [],
   "source": [
    "%matplotlib inline\n",
    "import numpy as np\n",
    "import matplotlib.pyplot as plt\n",
    "import pandas as pd"
   ]
  },
  {
   "cell_type": "markdown",
   "id": "ba036198",
   "metadata": {
    "papermill": {
     "duration": 0.024347,
     "end_time": "2022-03-14T00:33:45.187511",
     "exception": false,
     "start_time": "2022-03-14T00:33:45.163164",
     "status": "completed"
    },
    "tags": []
   },
   "source": [
    "From the command line run `pip install mnist`. This is a library that will help you bring down the mnist dataset. If you run this from a notebook, you need to put  `!pip install mnist` in a cell by itself."
   ]
  },
  {
   "cell_type": "code",
   "execution_count": 3,
   "id": "bb6ad8a1",
   "metadata": {
    "execution": {
     "iopub.execute_input": "2022-03-14T00:33:45.243687Z",
     "iopub.status.busy": "2022-03-14T00:33:45.243169Z",
     "iopub.status.idle": "2022-03-14T00:33:46.888435Z",
     "shell.execute_reply": "2022-03-14T00:33:46.887406Z"
    },
    "papermill": {
     "duration": 1.676785,
     "end_time": "2022-03-14T00:33:46.888565",
     "exception": false,
     "start_time": "2022-03-14T00:33:45.211780",
     "status": "completed"
    },
    "tags": []
   },
   "outputs": [
    {
     "name": "stdout",
     "output_type": "stream",
     "text": [
      "Collecting mnist\r\n"
     ]
    },
    {
     "name": "stdout",
     "output_type": "stream",
     "text": [
      "  Downloading mnist-0.2.2-py2.py3-none-any.whl (3.5 kB)\r\n",
      "Requirement already satisfied: numpy in /opt/hostedtoolcache/Python/3.6.15/x64/lib/python3.6/site-packages (from mnist) (1.19.5)\r\n"
     ]
    },
    {
     "name": "stdout",
     "output_type": "stream",
     "text": [
      "Installing collected packages: mnist\r\n",
      "Successfully installed mnist-0.2.2\r\n"
     ]
    }
   ],
   "source": [
    "!pip install mnist"
   ]
  },
  {
   "cell_type": "markdown",
   "id": "69df9c9a",
   "metadata": {
    "papermill": {
     "duration": 0.024761,
     "end_time": "2022-03-14T00:33:46.938448",
     "exception": false,
     "start_time": "2022-03-14T00:33:46.913687",
     "status": "completed"
    },
    "tags": []
   },
   "source": [
    "## Preparing the Data"
   ]
  },
  {
   "cell_type": "code",
   "execution_count": 4,
   "id": "7f69d806",
   "metadata": {
    "execution": {
     "iopub.execute_input": "2022-03-14T00:33:46.995492Z",
     "iopub.status.busy": "2022-03-14T00:33:46.990952Z",
     "iopub.status.idle": "2022-03-14T00:33:47.004429Z",
     "shell.execute_reply": "2022-03-14T00:33:47.004815Z"
    },
    "papermill": {
     "duration": 0.041915,
     "end_time": "2022-03-14T00:33:47.004941",
     "exception": false,
     "start_time": "2022-03-14T00:33:46.963026",
     "status": "completed"
    },
    "tags": []
   },
   "outputs": [],
   "source": [
    "import mnist"
   ]
  },
  {
   "cell_type": "code",
   "execution_count": 5,
   "id": "a411e44f",
   "metadata": {
    "execution": {
     "iopub.execute_input": "2022-03-14T00:33:47.071408Z",
     "iopub.status.busy": "2022-03-14T00:33:47.057451Z",
     "iopub.status.idle": "2022-03-14T00:33:47.559082Z",
     "shell.execute_reply": "2022-03-14T00:33:47.558546Z"
    },
    "papermill": {
     "duration": 0.52945,
     "end_time": "2022-03-14T00:33:47.559205",
     "exception": false,
     "start_time": "2022-03-14T00:33:47.029755",
     "status": "completed"
    },
    "tags": []
   },
   "outputs": [],
   "source": [
    "train_images = mnist.train_images()\n",
    "train_labels = mnist.train_labels()"
   ]
  },
  {
   "cell_type": "code",
   "execution_count": 6,
   "id": "dceab3a5",
   "metadata": {
    "execution": {
     "iopub.execute_input": "2022-03-14T00:33:47.612184Z",
     "iopub.status.busy": "2022-03-14T00:33:47.611691Z",
     "iopub.status.idle": "2022-03-14T00:33:47.626714Z",
     "shell.execute_reply": "2022-03-14T00:33:47.626266Z"
    },
    "papermill": {
     "duration": 0.042593,
     "end_time": "2022-03-14T00:33:47.626816",
     "exception": false,
     "start_time": "2022-03-14T00:33:47.584223",
     "status": "completed"
    },
    "tags": []
   },
   "outputs": [
    {
     "data": {
      "text/plain": [
       "((60000, 28, 28), (60000,))"
      ]
     },
     "execution_count": 6,
     "metadata": {},
     "output_type": "execute_result"
    }
   ],
   "source": [
    "train_images.shape, train_labels.shape"
   ]
  },
  {
   "cell_type": "code",
   "execution_count": 7,
   "id": "f50dc2bb",
   "metadata": {
    "execution": {
     "iopub.execute_input": "2022-03-14T00:33:47.691593Z",
     "iopub.status.busy": "2022-03-14T00:33:47.691095Z",
     "iopub.status.idle": "2022-03-14T00:33:47.832076Z",
     "shell.execute_reply": "2022-03-14T00:33:47.831566Z"
    },
    "papermill": {
     "duration": 0.180504,
     "end_time": "2022-03-14T00:33:47.832217",
     "exception": false,
     "start_time": "2022-03-14T00:33:47.651713",
     "status": "completed"
    },
    "tags": []
   },
   "outputs": [],
   "source": [
    "test_images = mnist.test_images()\n",
    "test_labels = mnist.test_labels()"
   ]
  },
  {
   "cell_type": "code",
   "execution_count": 8,
   "id": "fc38cf1b",
   "metadata": {
    "execution": {
     "iopub.execute_input": "2022-03-14T00:33:47.889747Z",
     "iopub.status.busy": "2022-03-14T00:33:47.889246Z",
     "iopub.status.idle": "2022-03-14T00:33:47.899991Z",
     "shell.execute_reply": "2022-03-14T00:33:47.899582Z"
    },
    "papermill": {
     "duration": 0.042159,
     "end_time": "2022-03-14T00:33:47.900102",
     "exception": false,
     "start_time": "2022-03-14T00:33:47.857943",
     "status": "completed"
    },
    "tags": []
   },
   "outputs": [
    {
     "data": {
      "text/plain": [
       "((10000, 28, 28), (10000,))"
      ]
     },
     "execution_count": 8,
     "metadata": {},
     "output_type": "execute_result"
    }
   ],
   "source": [
    "test_images.shape, test_labels.shape"
   ]
  },
  {
   "cell_type": "code",
   "execution_count": 9,
   "id": "f9ed8fe0",
   "metadata": {
    "execution": {
     "iopub.execute_input": "2022-03-14T00:33:47.954640Z",
     "iopub.status.busy": "2022-03-14T00:33:47.953845Z",
     "iopub.status.idle": "2022-03-14T00:33:48.091547Z",
     "shell.execute_reply": "2022-03-14T00:33:48.091114Z"
    },
    "papermill": {
     "duration": 0.166196,
     "end_time": "2022-03-14T00:33:48.091668",
     "exception": false,
     "start_time": "2022-03-14T00:33:47.925472",
     "status": "completed"
    },
    "tags": []
   },
   "outputs": [
    {
     "name": "stdout",
     "output_type": "stream",
     "text": [
      "2\n"
     ]
    },
    {
     "data": {
      "text/plain": [
       "<matplotlib.image.AxesImage at 0x7fb750c8c5f8>"
      ]
     },
     "execution_count": 9,
     "metadata": {},
     "output_type": "execute_result"
    },
    {
     "data": {
      "image/png": "[encoded data removed]",
      "text/plain": [
       "<Figure size 432x288 with 1 Axes>"
      ]
     },
     "metadata": {
      "needs_background": "light"
     },
     "output_type": "display_data"
    }
   ],
   "source": [
    "image_index = 7776 # You may select anything up to 60,000\n",
    "print(train_labels[image_index]) \n",
    "plt.imshow(train_images[image_index], cmap='Greys')"
   ]
  },
  {
   "cell_type": "markdown",
   "id": "a8d2388d",
   "metadata": {
    "papermill": {
     "duration": 0.0264,
     "end_time": "2022-03-14T00:33:48.144747",
     "exception": false,
     "start_time": "2022-03-14T00:33:48.118347",
     "status": "completed"
    },
    "tags": []
   },
   "source": [
    "## Filter data to get 3 and 8 out"
   ]
  },
  {
   "cell_type": "code",
   "execution_count": 10,
   "id": "776f7fc7",
   "metadata": {
    "execution": {
     "iopub.execute_input": "2022-03-14T00:33:48.202082Z",
     "iopub.status.busy": "2022-03-14T00:33:48.201561Z",
     "iopub.status.idle": "2022-03-14T00:33:48.220604Z",
     "shell.execute_reply": "2022-03-14T00:33:48.220172Z"
    },
    "papermill": {
     "duration": 0.04932,
     "end_time": "2022-03-14T00:33:48.220729",
     "exception": false,
     "start_time": "2022-03-14T00:33:48.171409",
     "status": "completed"
    },
    "tags": []
   },
   "outputs": [],
   "source": [
    "train_filter = np.where((train_labels == 3 ) | (train_labels == 8))\n",
    "test_filter = np.where((test_labels == 3) | (test_labels == 8))\n",
    "X_train, y_train = train_images[train_filter], train_labels[train_filter]\n",
    "X_test, y_test = test_images[test_filter], test_labels[test_filter]"
   ]
  },
  {
   "cell_type": "markdown",
   "id": "948f0b7e",
   "metadata": {
    "papermill": {
     "duration": 0.026211,
     "end_time": "2022-03-14T00:33:48.273632",
     "exception": false,
     "start_time": "2022-03-14T00:33:48.247421",
     "status": "completed"
    },
    "tags": []
   },
   "source": [
    "We normalize the pizel values in the 0 to 1 range"
   ]
  },
  {
   "cell_type": "code",
   "execution_count": 11,
   "id": "ee4c2166",
   "metadata": {
    "execution": {
     "iopub.execute_input": "2022-03-14T00:33:48.332587Z",
     "iopub.status.busy": "2022-03-14T00:33:48.332070Z",
     "iopub.status.idle": "2022-03-14T00:33:48.378853Z",
     "shell.execute_reply": "2022-03-14T00:33:48.378292Z"
    },
    "papermill": {
     "duration": 0.079094,
     "end_time": "2022-03-14T00:33:48.378993",
     "exception": false,
     "start_time": "2022-03-14T00:33:48.299899",
     "status": "completed"
    },
    "tags": []
   },
   "outputs": [],
   "source": [
    "X_train = X_train/255.\n",
    "X_test = X_test/255."
   ]
  },
  {
   "cell_type": "markdown",
   "id": "ddcf4fab",
   "metadata": {
    "papermill": {
     "duration": 0.026445,
     "end_time": "2022-03-14T00:33:48.432904",
     "exception": false,
     "start_time": "2022-03-14T00:33:48.406459",
     "status": "completed"
    },
    "tags": []
   },
   "source": [
    "And setup the labels as 1 (when the digit is 3) and 0 (when the digit is 8)"
   ]
  },
  {
   "cell_type": "code",
   "execution_count": 12,
   "id": "7dc908f2",
   "metadata": {
    "execution": {
     "iopub.execute_input": "2022-03-14T00:33:48.499784Z",
     "iopub.status.busy": "2022-03-14T00:33:48.499263Z",
     "iopub.status.idle": "2022-03-14T00:33:48.505424Z",
     "shell.execute_reply": "2022-03-14T00:33:48.504993Z"
    },
    "papermill": {
     "duration": 0.04596,
     "end_time": "2022-03-14T00:33:48.505537",
     "exception": false,
     "start_time": "2022-03-14T00:33:48.459577",
     "status": "completed"
    },
    "tags": []
   },
   "outputs": [],
   "source": [
    "y_train = 1*(y_train==3)\n",
    "y_test = 1*(y_test==3)"
   ]
  },
  {
   "cell_type": "code",
   "execution_count": 13,
   "id": "01e4e969",
   "metadata": {
    "execution": {
     "iopub.execute_input": "2022-03-14T00:33:48.569603Z",
     "iopub.status.busy": "2022-03-14T00:33:48.569099Z",
     "iopub.status.idle": "2022-03-14T00:33:48.577874Z",
     "shell.execute_reply": "2022-03-14T00:33:48.577442Z"
    },
    "papermill": {
     "duration": 0.045857,
     "end_time": "2022-03-14T00:33:48.577983",
     "exception": false,
     "start_time": "2022-03-14T00:33:48.532126",
     "status": "completed"
    },
    "tags": []
   },
   "outputs": [
    {
     "data": {
      "text/plain": [
       "((11982, 28, 28), (1984, 28, 28))"
      ]
     },
     "execution_count": 13,
     "metadata": {},
     "output_type": "execute_result"
    }
   ],
   "source": [
    "X_train.shape, X_test.shape"
   ]
  },
  {
   "cell_type": "markdown",
   "id": "5ccf3f85",
   "metadata": {
    "papermill": {
     "duration": 0.026422,
     "end_time": "2022-03-14T00:33:48.631104",
     "exception": false,
     "start_time": "2022-03-14T00:33:48.604682",
     "status": "completed"
    },
    "tags": []
   },
   "source": [
    "We reshape the data to flatten the image pixels into a set of features or co-variates:"
   ]
  },
  {
   "cell_type": "code",
   "execution_count": 14,
   "id": "5286a4a3",
   "metadata": {
    "execution": {
     "iopub.execute_input": "2022-03-14T00:33:48.688021Z",
     "iopub.status.busy": "2022-03-14T00:33:48.687522Z",
     "iopub.status.idle": "2022-03-14T00:33:48.700666Z",
     "shell.execute_reply": "2022-03-14T00:33:48.701092Z"
    },
    "papermill": {
     "duration": 0.043593,
     "end_time": "2022-03-14T00:33:48.701219",
     "exception": false,
     "start_time": "2022-03-14T00:33:48.657626",
     "status": "completed"
    },
    "tags": []
   },
   "outputs": [
    {
     "data": {
      "text/plain": [
       "((11982, 784), (1984, 784))"
      ]
     },
     "execution_count": 14,
     "metadata": {},
     "output_type": "execute_result"
    }
   ],
   "source": [
    "X_train = X_train.reshape(X_train.shape[0], -1)\n",
    "X_test = X_test.reshape(X_test.shape[0], -1)\n",
    "X_train.shape, X_test.shape"
   ]
  },
  {
   "cell_type": "code",
   "execution_count": 15,
   "id": "73c5f88a",
   "metadata": {
    "execution": {
     "iopub.execute_input": "2022-03-14T00:33:48.779270Z",
     "iopub.status.busy": "2022-03-14T00:33:48.771289Z",
     "iopub.status.idle": "2022-03-14T00:33:48.782465Z",
     "shell.execute_reply": "2022-03-14T00:33:48.782031Z"
    },
    "papermill": {
     "duration": 0.05414,
     "end_time": "2022-03-14T00:33:48.782578",
     "exception": false,
     "start_time": "2022-03-14T00:33:48.728438",
     "status": "completed"
    },
    "tags": []
   },
   "outputs": [],
   "source": [
    "#Impoting functions from 'Kudzu'\n",
    "from kudzu.model import Model\n",
    "from kudzu.train import Learner\n",
    "from kudzu.optim import GD\n",
    "from kudzu.data import Data, Sampler,Dataloader\n",
    "\n",
    "from kudzu.callbacks import AccCallback\n",
    "from kudzu.callbacks import ClfCallback\n",
    "\n",
    "from kudzu.loss import MSE\n",
    "\n",
    "from kudzu.layer import Sigmoid,Relu\n",
    "from kudzu.layer import Affine"
   ]
  },
  {
   "cell_type": "markdown",
   "id": "bc01172a",
   "metadata": {
    "papermill": {
     "duration": 0.02748,
     "end_time": "2022-03-14T00:33:48.837276",
     "exception": false,
     "start_time": "2022-03-14T00:33:48.809796",
     "status": "completed"
    },
    "tags": []
   },
   "source": [
    "### Let us create a `Config` class, to store important parameters. \n",
    "This class essentially plays the role of a dictionary."
   ]
  },
  {
   "cell_type": "code",
   "execution_count": 16,
   "id": "978281aa",
   "metadata": {
    "execution": {
     "iopub.execute_input": "2022-03-14T00:33:48.895207Z",
     "iopub.status.busy": "2022-03-14T00:33:48.894691Z",
     "iopub.status.idle": "2022-03-14T00:33:48.906554Z",
     "shell.execute_reply": "2022-03-14T00:33:48.906110Z"
    },
    "papermill": {
     "duration": 0.042599,
     "end_time": "2022-03-14T00:33:48.906674",
     "exception": false,
     "start_time": "2022-03-14T00:33:48.864075",
     "status": "completed"
    },
    "tags": []
   },
   "outputs": [],
   "source": [
    "class Config:\n",
    "    pass\n",
    "config = Config()\n",
    "config.lr = 0.001\n",
    "config.num_epochs = 250\n",
    "config.bs = 50"
   ]
  },
  {
   "cell_type": "markdown",
   "id": "1385fa59",
   "metadata": {
    "papermill": {
     "duration": 0.027105,
     "end_time": "2022-03-14T00:33:48.960962",
     "exception": false,
     "start_time": "2022-03-14T00:33:48.933857",
     "status": "completed"
    },
    "tags": []
   },
   "source": [
    "### Running Models with the Training data\n",
    "Details about the network layers:\n",
    "- A first affine layer has 784 inputs and does 100 affine transforms. These are followed by a Relu\n",
    "- A second affine layer has 100 inputs from the 100 activations of the past layer, and does 100 affine transforms. These are followed by a Relu\n",
    "- A third affine layer has 100 activations and does 2 affine transformations to create an embedding for visualization. There is no non-linearity here.\n",
    "- A final \"logistic regression\" which has an affine transform from 2 inputs to 1 output, which is squeezed through a sigmoid.\n"
   ]
  },
  {
   "cell_type": "code",
   "execution_count": 17,
   "id": "2b9c66db",
   "metadata": {
    "execution": {
     "iopub.execute_input": "2022-03-14T00:33:49.031246Z",
     "iopub.status.busy": "2022-03-14T00:33:49.029024Z",
     "iopub.status.idle": "2022-03-14T00:33:49.036483Z",
     "shell.execute_reply": "2022-03-14T00:33:49.036068Z"
    },
    "papermill": {
     "duration": 0.048669,
     "end_time": "2022-03-14T00:33:49.036594",
     "exception": false,
     "start_time": "2022-03-14T00:33:48.987925",
     "status": "completed"
    },
    "tags": []
   },
   "outputs": [],
   "source": [
    "data = Data(X_train, y_train.reshape(-1,1))\n",
    "sampler = Sampler(data, config.bs, shuffle=True)\n",
    "\n",
    "dl = Dataloader(data, sampler)\n",
    "\n",
    "opt = GD(config.lr)\n",
    "loss = MSE()"
   ]
  },
  {
   "cell_type": "code",
   "execution_count": 18,
   "id": "b275e4c2",
   "metadata": {
    "execution": {
     "iopub.execute_input": "2022-03-14T00:33:49.106857Z",
     "iopub.status.busy": "2022-03-14T00:33:49.094712Z",
     "iopub.status.idle": "2022-03-14T00:33:49.108832Z",
     "shell.execute_reply": "2022-03-14T00:33:49.109215Z"
    },
    "papermill": {
     "duration": 0.045648,
     "end_time": "2022-03-14T00:33:49.109347",
     "exception": false,
     "start_time": "2022-03-14T00:33:49.063699",
     "status": "completed"
    },
    "tags": []
   },
   "outputs": [],
   "source": [
    "training_data_x = X_train\n",
    "testing_data_x = X_test\n",
    "training_data_y = y_train.reshape(-1,1)\n",
    "testing_data_y = y_test.reshape(-1,1)"
   ]
  },
  {
   "cell_type": "code",
   "execution_count": 19,
   "id": "76951160",
   "metadata": {
    "execution": {
     "iopub.execute_input": "2022-03-14T00:33:49.170982Z",
     "iopub.status.busy": "2022-03-14T00:33:49.170432Z",
     "iopub.status.idle": "2022-03-14T00:33:49.185378Z",
     "shell.execute_reply": "2022-03-14T00:33:49.184962Z"
    },
    "papermill": {
     "duration": 0.049178,
     "end_time": "2022-03-14T00:33:49.185500",
     "exception": false,
     "start_time": "2022-03-14T00:33:49.136322",
     "status": "completed"
    },
    "tags": []
   },
   "outputs": [
    {
     "name": "stdout",
     "output_type": "stream",
     "text": [
      "xavier\n",
      "xavier\n",
      "xavier\n",
      "xavier\n",
      "xavier\n"
     ]
    }
   ],
   "source": [
    "layers = [Affine(\"first\", 784, 100), Relu(\"first\"), Affine(\"second\", 100, 100), Relu(\"second\"), Affine(\"third\", 100, 2), Affine(\"last\", 2, 1), Sigmoid(\"last\")]\n",
    "model_nn = Model(layers)\n",
    "model_lr = Model([Affine(\"logits\", 784, 1), Sigmoid(\"sigmoid\")])"
   ]
  },
  {
   "cell_type": "code",
   "execution_count": 20,
   "id": "6eede77a",
   "metadata": {
    "execution": {
     "iopub.execute_input": "2022-03-14T00:33:49.245112Z",
     "iopub.status.busy": "2022-03-14T00:33:49.244170Z",
     "iopub.status.idle": "2022-03-14T00:33:49.258045Z",
     "shell.execute_reply": "2022-03-14T00:33:49.257615Z"
    },
    "papermill": {
     "duration": 0.045126,
     "end_time": "2022-03-14T00:33:49.258169",
     "exception": false,
     "start_time": "2022-03-14T00:33:49.213043",
     "status": "completed"
    },
    "tags": []
   },
   "outputs": [],
   "source": [
    "nn_learner = Learner(loss, model_nn, opt, config.num_epochs)\n",
    "acc_nn = ClfCallback(nn_learner, config.bs, training_data_x , testing_data_x, training_data_y, testing_data_y)\n",
    "nn_learner.set_callbacks([acc_nn])"
   ]
  },
  {
   "cell_type": "code",
   "execution_count": 21,
   "id": "877b6cc7",
   "metadata": {
    "execution": {
     "iopub.execute_input": "2022-03-14T00:33:49.319817Z",
     "iopub.status.busy": "2022-03-14T00:33:49.319296Z",
     "iopub.status.idle": "2022-03-14T00:33:49.330491Z",
     "shell.execute_reply": "2022-03-14T00:33:49.330054Z"
    },
    "papermill": {
     "duration": 0.044891,
     "end_time": "2022-03-14T00:33:49.330611",
     "exception": false,
     "start_time": "2022-03-14T00:33:49.285720",
     "status": "completed"
    },
    "tags": []
   },
   "outputs": [],
   "source": [
    "lr_learner = Learner(loss, model_lr, opt, config.num_epochs)\n",
    "acc_lr = ClfCallback(lr_learner, config.bs, training_data_x , testing_data_x, training_data_y, testing_data_y)\n",
    "lr_learner.set_callbacks([acc_lr])"
   ]
  },
  {
   "cell_type": "code",
   "execution_count": 22,
   "id": "d9b133c3",
   "metadata": {
    "execution": {
     "iopub.execute_input": "2022-03-14T00:33:49.392255Z",
     "iopub.status.busy": "2022-03-14T00:33:49.391747Z",
     "iopub.status.idle": "2022-03-14T00:35:12.209428Z",
     "shell.execute_reply": "2022-03-14T00:35:12.210213Z"
    },
    "papermill": {
     "duration": 82.852215,
     "end_time": "2022-03-14T00:35:12.210390",
     "exception": false,
     "start_time": "2022-03-14T00:33:49.358175",
     "status": "completed"
    },
    "tags": []
   },
   "outputs": [
    {
     "name": "stdout",
     "output_type": "stream",
     "text": [
      "Epoch 0, Loss 0.2395\n",
      "Training Accuracy: 0.7208, Testing Accuracy: 0.7177\n",
      "\n"
     ]
    },
    {
     "name": "stdout",
     "output_type": "stream",
     "text": [
      "Epoch 10, Loss 0.0688\n",
      "Training Accuracy: 0.9326, Testing Accuracy: 0.9446\n",
      "\n"
     ]
    },
    {
     "name": "stdout",
     "output_type": "stream",
     "text": [
      "Epoch 20, Loss 0.0468\n",
      "Training Accuracy: 0.9495, Testing Accuracy: 0.9597\n",
      "\n"
     ]
    },
    {
     "name": "stdout",
     "output_type": "stream",
     "text": [
      "Epoch 30, Loss 0.0389\n",
      "Training Accuracy: 0.9569, Testing Accuracy: 0.9652\n",
      "\n"
     ]
    },
    {
     "name": "stdout",
     "output_type": "stream",
     "text": [
      "Epoch 40, Loss 0.0347\n",
      "Training Accuracy: 0.9605, Testing Accuracy: 0.9682\n",
      "\n"
     ]
    },
    {
     "name": "stdout",
     "output_type": "stream",
     "text": [
      "Epoch 50, Loss 0.032\n",
      "Training Accuracy: 0.9639, Testing Accuracy: 0.9698\n",
      "\n"
     ]
    },
    {
     "name": "stdout",
     "output_type": "stream",
     "text": [
      "Epoch 60, Loss 0.03\n",
      "Training Accuracy: 0.9664, Testing Accuracy: 0.9718\n",
      "\n"
     ]
    },
    {
     "name": "stdout",
     "output_type": "stream",
     "text": [
      "Epoch 70, Loss 0.0284\n",
      "Training Accuracy: 0.9674, Testing Accuracy: 0.9728\n",
      "\n"
     ]
    },
    {
     "name": "stdout",
     "output_type": "stream",
     "text": [
      "Epoch 80, Loss 0.0272\n",
      "Training Accuracy: 0.9692, Testing Accuracy: 0.9728\n",
      "\n"
     ]
    },
    {
     "name": "stdout",
     "output_type": "stream",
     "text": [
      "Epoch 90, Loss 0.0261\n",
      "Training Accuracy: 0.9705, Testing Accuracy: 0.9748\n",
      "\n"
     ]
    },
    {
     "name": "stdout",
     "output_type": "stream",
     "text": [
      "Epoch 100, Loss 0.0253\n",
      "Training Accuracy: 0.9705, Testing Accuracy: 0.9768\n",
      "\n"
     ]
    },
    {
     "name": "stdout",
     "output_type": "stream",
     "text": [
      "Epoch 110, Loss 0.0245\n",
      "Training Accuracy: 0.9717, Testing Accuracy: 0.9768\n",
      "\n"
     ]
    },
    {
     "name": "stdout",
     "output_type": "stream",
     "text": [
      "Epoch 120, Loss 0.0238\n",
      "Training Accuracy: 0.9727, Testing Accuracy: 0.9753\n",
      "\n"
     ]
    },
    {
     "name": "stdout",
     "output_type": "stream",
     "text": [
      "Epoch 130, Loss 0.0231\n",
      "Training Accuracy: 0.9733, Testing Accuracy: 0.9753\n",
      "\n"
     ]
    },
    {
     "name": "stdout",
     "output_type": "stream",
     "text": [
      "Epoch 140, Loss 0.0226\n",
      "Training Accuracy: 0.9740, Testing Accuracy: 0.9753\n",
      "\n"
     ]
    },
    {
     "name": "stdout",
     "output_type": "stream",
     "text": [
      "Epoch 150, Loss 0.022\n",
      "Training Accuracy: 0.9750, Testing Accuracy: 0.9753\n",
      "\n"
     ]
    },
    {
     "name": "stdout",
     "output_type": "stream",
     "text": [
      "Epoch 160, Loss 0.0215\n",
      "Training Accuracy: 0.9755, Testing Accuracy: 0.9758\n",
      "\n"
     ]
    },
    {
     "name": "stdout",
     "output_type": "stream",
     "text": [
      "Epoch 170, Loss 0.0211\n",
      "Training Accuracy: 0.9759, Testing Accuracy: 0.9758\n",
      "\n"
     ]
    },
    {
     "name": "stdout",
     "output_type": "stream",
     "text": [
      "Epoch 180, Loss 0.0206\n",
      "Training Accuracy: 0.9762, Testing Accuracy: 0.9763\n",
      "\n"
     ]
    },
    {
     "name": "stdout",
     "output_type": "stream",
     "text": [
      "Epoch 190, Loss 0.0202\n",
      "Training Accuracy: 0.9770, Testing Accuracy: 0.9768\n",
      "\n"
     ]
    },
    {
     "name": "stdout",
     "output_type": "stream",
     "text": [
      "Epoch 200, Loss 0.0198\n",
      "Training Accuracy: 0.9777, Testing Accuracy: 0.9768\n",
      "\n"
     ]
    },
    {
     "name": "stdout",
     "output_type": "stream",
     "text": [
      "Epoch 210, Loss 0.0194\n",
      "Training Accuracy: 0.9783, Testing Accuracy: 0.9758\n",
      "\n"
     ]
    },
    {
     "name": "stdout",
     "output_type": "stream",
     "text": [
      "Epoch 220, Loss 0.019\n",
      "Training Accuracy: 0.9790, Testing Accuracy: 0.9763\n",
      "\n"
     ]
    },
    {
     "name": "stdout",
     "output_type": "stream",
     "text": [
      "Epoch 230, Loss 0.0187\n",
      "Training Accuracy: 0.9791, Testing Accuracy: 0.9768\n",
      "\n"
     ]
    },
    {
     "name": "stdout",
     "output_type": "stream",
     "text": [
      "Epoch 240, Loss 0.0183\n",
      "Training Accuracy: 0.9792, Testing Accuracy: 0.9768\n",
      "\n"
     ]
    },
    {
     "data": {
      "text/plain": [
       "0.016875023835422758"
      ]
     },
     "execution_count": 22,
     "metadata": {},
     "output_type": "execute_result"
    }
   ],
   "source": [
    "nn_learner.train_loop(dl)"
   ]
  },
  {
   "cell_type": "code",
   "execution_count": 23,
   "id": "e0163366",
   "metadata": {
    "execution": {
     "iopub.execute_input": "2022-03-14T00:35:12.291977Z",
     "iopub.status.busy": "2022-03-14T00:35:12.291434Z",
     "iopub.status.idle": "2022-03-14T00:35:26.698177Z",
     "shell.execute_reply": "2022-03-14T00:35:26.698968Z"
    },
    "papermill": {
     "duration": 14.453461,
     "end_time": "2022-03-14T00:35:26.699126",
     "exception": false,
     "start_time": "2022-03-14T00:35:12.245665",
     "status": "completed"
    },
    "tags": []
   },
   "outputs": [
    {
     "name": "stdout",
     "output_type": "stream",
     "text": [
      "Epoch 0, Loss 0.2312\n",
      "Training Accuracy: 0.7266, Testing Accuracy: 0.7576\n",
      "\n"
     ]
    },
    {
     "name": "stdout",
     "output_type": "stream",
     "text": [
      "Epoch 10, Loss 0.1022\n",
      "Training Accuracy: 0.9087, Testing Accuracy: 0.9189\n",
      "\n"
     ]
    },
    {
     "name": "stdout",
     "output_type": "stream",
     "text": [
      "Epoch 20, Loss 0.0792\n",
      "Training Accuracy: 0.9265, Testing Accuracy: 0.9380\n",
      "\n"
     ]
    },
    {
     "name": "stdout",
     "output_type": "stream",
     "text": [
      "Epoch 30, Loss 0.0685\n",
      "Training Accuracy: 0.9341, Testing Accuracy: 0.9456\n",
      "\n"
     ]
    },
    {
     "name": "stdout",
     "output_type": "stream",
     "text": [
      "Epoch 40, Loss 0.062\n",
      "Training Accuracy: 0.9393, Testing Accuracy: 0.9496\n",
      "\n"
     ]
    },
    {
     "name": "stdout",
     "output_type": "stream",
     "text": [
      "Epoch 50, Loss 0.0575\n",
      "Training Accuracy: 0.9433, Testing Accuracy: 0.9526\n",
      "\n"
     ]
    },
    {
     "name": "stdout",
     "output_type": "stream",
     "text": [
      "Epoch 60, Loss 0.0542\n",
      "Training Accuracy: 0.9459, Testing Accuracy: 0.9551\n",
      "\n"
     ]
    },
    {
     "name": "stdout",
     "output_type": "stream",
     "text": [
      "Epoch 70, Loss 0.0517\n",
      "Training Accuracy: 0.9477, Testing Accuracy: 0.9572\n",
      "\n"
     ]
    },
    {
     "name": "stdout",
     "output_type": "stream",
     "text": [
      "Epoch 80, Loss 0.0496\n",
      "Training Accuracy: 0.9492, Testing Accuracy: 0.9597\n",
      "\n"
     ]
    },
    {
     "name": "stdout",
     "output_type": "stream",
     "text": [
      "Epoch 90, Loss 0.0479\n",
      "Training Accuracy: 0.9505, Testing Accuracy: 0.9607\n",
      "\n"
     ]
    },
    {
     "name": "stdout",
     "output_type": "stream",
     "text": [
      "Epoch 100, Loss 0.0465\n",
      "Training Accuracy: 0.9519, Testing Accuracy: 0.9622\n",
      "\n"
     ]
    },
    {
     "name": "stdout",
     "output_type": "stream",
     "text": [
      "Epoch 110, Loss 0.0452\n",
      "Training Accuracy: 0.9533, Testing Accuracy: 0.9632\n",
      "\n"
     ]
    },
    {
     "name": "stdout",
     "output_type": "stream",
     "text": [
      "Epoch 120, Loss 0.0441\n",
      "Training Accuracy: 0.9542, Testing Accuracy: 0.9632\n",
      "\n"
     ]
    },
    {
     "name": "stdout",
     "output_type": "stream",
     "text": [
      "Epoch 130, Loss 0.0432\n",
      "Training Accuracy: 0.9551, Testing Accuracy: 0.9637\n",
      "\n"
     ]
    },
    {
     "name": "stdout",
     "output_type": "stream",
     "text": [
      "Epoch 140, Loss 0.0423\n",
      "Training Accuracy: 0.9556, Testing Accuracy: 0.9647\n",
      "\n"
     ]
    },
    {
     "name": "stdout",
     "output_type": "stream",
     "text": [
      "Epoch 150, Loss 0.0416\n",
      "Training Accuracy: 0.9563, Testing Accuracy: 0.9657\n",
      "\n"
     ]
    },
    {
     "name": "stdout",
     "output_type": "stream",
     "text": [
      "Epoch 160, Loss 0.0409\n",
      "Training Accuracy: 0.9564, Testing Accuracy: 0.9657\n",
      "\n"
     ]
    },
    {
     "name": "stdout",
     "output_type": "stream",
     "text": [
      "Epoch 170, Loss 0.0403\n",
      "Training Accuracy: 0.9571, Testing Accuracy: 0.9657\n",
      "\n"
     ]
    },
    {
     "name": "stdout",
     "output_type": "stream",
     "text": [
      "Epoch 180, Loss 0.0397\n",
      "Training Accuracy: 0.9575, Testing Accuracy: 0.9662\n",
      "\n"
     ]
    },
    {
     "name": "stdout",
     "output_type": "stream",
     "text": [
      "Epoch 190, Loss 0.0392\n",
      "Training Accuracy: 0.9582, Testing Accuracy: 0.9667\n",
      "\n"
     ]
    },
    {
     "name": "stdout",
     "output_type": "stream",
     "text": [
      "Epoch 200, Loss 0.0387\n",
      "Training Accuracy: 0.9584, Testing Accuracy: 0.9667\n",
      "\n"
     ]
    },
    {
     "name": "stdout",
     "output_type": "stream",
     "text": [
      "Epoch 210, Loss 0.0382\n",
      "Training Accuracy: 0.9591, Testing Accuracy: 0.9667\n",
      "\n"
     ]
    },
    {
     "name": "stdout",
     "output_type": "stream",
     "text": [
      "Epoch 220, Loss 0.0378\n",
      "Training Accuracy: 0.9598, Testing Accuracy: 0.9662\n",
      "\n"
     ]
    },
    {
     "name": "stdout",
     "output_type": "stream",
     "text": [
      "Epoch 230, Loss 0.0374\n",
      "Training Accuracy: 0.9600, Testing Accuracy: 0.9662\n",
      "\n"
     ]
    },
    {
     "name": "stdout",
     "output_type": "stream",
     "text": [
      "Epoch 240, Loss 0.037\n",
      "Training Accuracy: 0.9604, Testing Accuracy: 0.9662\n",
      "\n"
     ]
    },
    {
     "data": {
      "text/plain": [
       "0.04163994708763326"
      ]
     },
     "execution_count": 23,
     "metadata": {},
     "output_type": "execute_result"
    }
   ],
   "source": [
    "lr_learner.train_loop(dl)"
   ]
  },
  {
   "cell_type": "code",
   "execution_count": 24,
   "id": "ca410940",
   "metadata": {
    "execution": {
     "iopub.execute_input": "2022-03-14T00:35:26.795890Z",
     "iopub.status.busy": "2022-03-14T00:35:26.795356Z",
     "iopub.status.idle": "2022-03-14T00:35:27.019531Z",
     "shell.execute_reply": "2022-03-14T00:35:27.018978Z"
    },
    "papermill": {
     "duration": 0.279154,
     "end_time": "2022-03-14T00:35:27.019656",
     "exception": false,
     "start_time": "2022-03-14T00:35:26.740502",
     "status": "completed"
    },
    "tags": []
   },
   "outputs": [
    {
     "data": {
      "text/plain": [
       "<matplotlib.legend.Legend at 0x7fb750869da0>"
      ]
     },
     "execution_count": 24,
     "metadata": {},
     "output_type": "execute_result"
    },
    {
     "data": {
      "image/png": "[encoded data removed]",
      "text/plain": [
       "<Figure size 1080x720 with 1 Axes>"
      ]
     },
     "metadata": {
      "needs_background": "light"
     },
     "output_type": "display_data"
    }
   ],
   "source": [
    "#comparing the results of NN and LR\n",
    "plt.figure(figsize=(15,10))\n",
    "\n",
    "# Neural Network plots\n",
    "plt.plot(acc_nn.accuracies, 'r-', label = \"Training Accuracies - NN\")\n",
    "plt.plot(acc_nn.test_accuracies, 'g-', label = \"Testing Accuracies - NN\")\n",
    "\n",
    "# Logistic Regression plots\n",
    "plt.plot(acc_lr.accuracies, 'k-', label = \"Training Accuracies - LR\")\n",
    "plt.plot(acc_lr.test_accuracies, 'b-', label = \"Testing Accuracies - LR\")\n",
    "plt.legend()"
   ]
  },
  {
   "cell_type": "markdown",
   "id": "80dfb35c",
   "metadata": {
    "papermill": {
     "duration": 0.04234,
     "end_time": "2022-03-14T00:35:27.104811",
     "exception": false,
     "start_time": "2022-03-14T00:35:27.062471",
     "status": "completed"
    },
    "tags": []
   },
   "source": [
    "#### Plotting the outputs of this layer of the NN.\n"
   ]
  },
  {
   "cell_type": "code",
   "execution_count": 25,
   "id": "45eb2ff5",
   "metadata": {
    "execution": {
     "iopub.execute_input": "2022-03-14T00:35:27.204252Z",
     "iopub.status.busy": "2022-03-14T00:35:27.200797Z",
     "iopub.status.idle": "2022-03-14T00:35:27.218550Z",
     "shell.execute_reply": "2022-03-14T00:35:27.219010Z"
    },
    "papermill": {
     "duration": 0.072018,
     "end_time": "2022-03-14T00:35:27.219166",
     "exception": false,
     "start_time": "2022-03-14T00:35:27.147148",
     "status": "completed"
    },
    "tags": []
   },
   "outputs": [],
   "source": [
    "new_model = Model(layers[:-2])\n",
    "testing_plot = new_model(testing_data_x)"
   ]
  },
  {
   "cell_type": "code",
   "execution_count": 26,
   "id": "4c0a5485",
   "metadata": {
    "execution": {
     "iopub.execute_input": "2022-03-14T00:35:27.308817Z",
     "iopub.status.busy": "2022-03-14T00:35:27.308273Z",
     "iopub.status.idle": "2022-03-14T00:35:27.517129Z",
     "shell.execute_reply": "2022-03-14T00:35:27.516680Z"
    },
    "papermill": {
     "duration": 0.255064,
     "end_time": "2022-03-14T00:35:27.517251",
     "exception": false,
     "start_time": "2022-03-14T00:35:27.262187",
     "status": "completed"
    },
    "tags": []
   },
   "outputs": [
    {
     "data": {
      "text/plain": [
       "Text(0.5, 1.0, 'Outputs')"
      ]
     },
     "execution_count": 26,
     "metadata": {},
     "output_type": "execute_result"
    },
    {
     "data": {
      "image/png": "[encoded data removed]",
      "text/plain": [
       "<Figure size 576x504 with 1 Axes>"
      ]
     },
     "metadata": {
      "needs_background": "light"
     },
     "output_type": "display_data"
    }
   ],
   "source": [
    "# Plotting the scatter plot of points and color coding by class\n",
    "plt.figure(figsize=(8,7))\n",
    "plt.scatter(testing_plot[:,0], testing_plot[:,1], alpha = 0.1, c = y_test.ravel());\n",
    "plt.title('Outputs')"
   ]
  },
  {
   "cell_type": "markdown",
   "id": "a74fcf8f",
   "metadata": {
    "papermill": {
     "duration": 0.044858,
     "end_time": "2022-03-14T00:35:27.607009",
     "exception": false,
     "start_time": "2022-03-14T00:35:27.562151",
     "status": "completed"
    },
    "tags": []
   },
   "source": [
    "Probability contours"
   ]
  },
  {
   "cell_type": "code",
   "execution_count": 27,
   "id": "d0afc8e3",
   "metadata": {
    "execution": {
     "iopub.execute_input": "2022-03-14T00:35:27.703453Z",
     "iopub.status.busy": "2022-03-14T00:35:27.702417Z",
     "iopub.status.idle": "2022-03-14T00:35:27.713398Z",
     "shell.execute_reply": "2022-03-14T00:35:27.713814Z"
    },
    "papermill": {
     "duration": 0.061963,
     "end_time": "2022-03-14T00:35:27.713965",
     "exception": false,
     "start_time": "2022-03-14T00:35:27.652002",
     "status": "completed"
    },
    "tags": []
   },
   "outputs": [],
   "source": [
    "model_prob = Model(layers[-2:]) "
   ]
  },
  {
   "cell_type": "code",
   "execution_count": 28,
   "id": "9b96e238",
   "metadata": {
    "execution": {
     "iopub.execute_input": "2022-03-14T00:35:27.816206Z",
     "iopub.status.busy": "2022-03-14T00:35:27.815319Z",
     "iopub.status.idle": "2022-03-14T00:35:27.827566Z",
     "shell.execute_reply": "2022-03-14T00:35:27.827114Z"
    },
    "papermill": {
     "duration": 0.068792,
     "end_time": "2022-03-14T00:35:27.827694",
     "exception": false,
     "start_time": "2022-03-14T00:35:27.758902",
     "status": "completed"
    },
    "tags": []
   },
   "outputs": [],
   "source": [
    "#creating the x and y ranges according to the above generated plot.\n",
    "x_range = np.linspace(-4, 1, 100) \n",
    "y_range = np.linspace(-6, 6, 100) \n",
    "x_grid, y_grid = np.meshgrid(x_range, y_range) # x_grid and y_grig are of size 100 X 100\n",
    "\n",
    "# converting x_grid and y_grid to continuous arrays\n",
    "x_gridflat = np.ravel(x_grid)\n",
    "y_gridflat = np.ravel(y_grid)\n",
    "\n",
    "# The last layer of the current model takes two columns as input. Hence transpose of np.vstack() is required.\n",
    "X = np.vstack((x_gridflat, y_gridflat)).T\n",
    "\n",
    "prob_contour = model_prob(X).reshape(100,100) "
   ]
  },
  {
   "cell_type": "code",
   "execution_count": 29,
   "id": "da72499a",
   "metadata": {
    "execution": {
     "iopub.execute_input": "2022-03-14T00:35:27.971071Z",
     "iopub.status.busy": "2022-03-14T00:35:27.970482Z",
     "iopub.status.idle": "2022-03-14T00:35:28.233178Z",
     "shell.execute_reply": "2022-03-14T00:35:28.233582Z"
    },
    "papermill": {
     "duration": 0.318156,
     "end_time": "2022-03-14T00:35:28.233733",
     "exception": false,
     "start_time": "2022-03-14T00:35:27.915577",
     "status": "completed"
    },
    "tags": []
   },
   "outputs": [
    {
     "data": {
      "image/png": "[encoded data removed]",
      "text/plain": [
       "<Figure size 720x648 with 1 Axes>"
      ]
     },
     "metadata": {
      "needs_background": "light"
     },
     "output_type": "display_data"
    }
   ],
   "source": [
    "plt.figure(figsize=(10,9))\n",
    "plt.scatter(testing_plot[:,0], testing_plot[:,1], alpha = 0.1, c = y_test.ravel())\n",
    "contours = plt.contour(x_grid,y_grid,prob_contour)\n",
    "plt.title('Probability Contours')\n",
    "plt.clabel(contours, inline = True );"
   ]
  },
  {
   "cell_type": "code",
   "execution_count": null,
   "id": "e81b4ac7",
   "metadata": {
    "papermill": {
     "duration": 0.048477,
     "end_time": "2022-03-14T00:35:28.330997",
     "exception": false,
     "start_time": "2022-03-14T00:35:28.282520",
     "status": "completed"
    },
    "tags": []
   },
   "outputs": [],
   "source": []
  }
 ],
 "metadata": {
  "kernelspec": {
   "display_name": "Python 3",
   "language": "python",
   "name": "python3"
  },
  "language_info": {
   "codemirror_mode": {
    "name": "ipython",
    "version": 3
   },
   "file_extension": ".py",
   "mimetype": "text/x-python",
   "name": "python",
   "nbconvert_exporter": "python",
   "pygments_lexer": "ipython3",
   "version": "3.6.15"
  },
  "papermill": {
   "default_parameters": {},
   "duration": 105.457794,
   "end_time": "2022-03-14T00:35:28.900134",
   "environment_variables": {},
   "exception": null,
   "input_path": "2020-08-11-part2.ipynb",
   "output_path": "2020-08-11-part2.ipynb",
   "parameters": {},
   "start_time": "2022-03-14T00:33:43.442340",
   "version": "2.3.3"
  }
 },
 "nbformat": 4,
 "nbformat_minor": 5
}