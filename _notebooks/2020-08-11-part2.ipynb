{
 "cells": [
  {
   "cell_type": "markdown",
   "id": "98380cd3",
   "metadata": {
    "papermill": {
     "duration": 0.032387,
     "end_time": "2021-10-01T20:07:22.555268",
     "exception": false,
     "start_time": "2021-10-01T20:07:22.522881",
     "status": "completed"
    },
    "tags": []
   },
   "source": [
    "# Distinguish Your Own Digits (DYOD)"
   ]
  },
  {
   "cell_type": "markdown",
   "id": "ef31240d",
   "metadata": {
    "papermill": {
     "duration": 0.026698,
     "end_time": "2021-10-01T20:07:22.610022",
     "exception": false,
     "start_time": "2021-10-01T20:07:22.583324",
     "status": "completed"
    },
    "tags": []
   },
   "source": [
    "You are going to write a classifier that distinguishes between the number 3 and number 8."
   ]
  },
  {
   "cell_type": "code",
   "execution_count": 1,
   "id": "b15c8646",
   "metadata": {
    "execution": {
     "iopub.execute_input": "2021-10-01T20:07:22.673826Z",
     "iopub.status.busy": "2021-10-01T20:07:22.673204Z",
     "iopub.status.idle": "2021-10-01T20:07:22.693448Z",
     "shell.execute_reply": "2021-10-01T20:07:22.692747Z"
    },
    "papermill": {
     "duration": 0.057015,
     "end_time": "2021-10-01T20:07:22.693653",
     "exception": false,
     "start_time": "2021-10-01T20:07:22.636638",
     "status": "completed"
    },
    "tags": []
   },
   "outputs": [],
   "source": [
    "%load_ext autoreload\n",
    "%autoreload 2"
   ]
  },
  {
   "cell_type": "code",
   "execution_count": 2,
   "id": "22ef38dc",
   "metadata": {
    "execution": {
     "iopub.execute_input": "2021-10-01T20:07:22.756910Z",
     "iopub.status.busy": "2021-10-01T20:07:22.756300Z",
     "iopub.status.idle": "2021-10-01T20:07:23.341468Z",
     "shell.execute_reply": "2021-10-01T20:07:23.340565Z"
    },
    "papermill": {
     "duration": 0.618787,
     "end_time": "2021-10-01T20:07:23.341691",
     "exception": false,
     "start_time": "2021-10-01T20:07:22.722904",
     "status": "completed"
    },
    "tags": []
   },
   "outputs": [],
   "source": [
    "%matplotlib inline\n",
    "import numpy as np\n",
    "import matplotlib.pyplot as plt\n",
    "import pandas as pd"
   ]
  },
  {
   "cell_type": "markdown",
   "id": "ba036198",
   "metadata": {
    "papermill": {
     "duration": 0.026561,
     "end_time": "2021-10-01T20:07:23.396581",
     "exception": false,
     "start_time": "2021-10-01T20:07:23.370020",
     "status": "completed"
    },
    "tags": []
   },
   "source": [
    "From the command line run `pip install mnist`. This is a library that will help you bring down the mnist dataset. If you run this from a notebook, you need to put  `!pip install mnist` in a cell by itself."
   ]
  },
  {
   "cell_type": "code",
   "execution_count": 3,
   "id": "bb6ad8a1",
   "metadata": {
    "execution": {
     "iopub.execute_input": "2021-10-01T20:07:23.457815Z",
     "iopub.status.busy": "2021-10-01T20:07:23.457193Z",
     "iopub.status.idle": "2021-10-01T20:07:25.333528Z",
     "shell.execute_reply": "2021-10-01T20:07:25.332492Z"
    },
    "papermill": {
     "duration": 1.911348,
     "end_time": "2021-10-01T20:07:25.333685",
     "exception": false,
     "start_time": "2021-10-01T20:07:23.422337",
     "status": "completed"
    },
    "tags": []
   },
   "outputs": [
    {
     "name": "stdout",
     "output_type": "stream",
     "text": [
      "Collecting mnist\r\n"
     ]
    },
    {
     "name": "stdout",
     "output_type": "stream",
     "text": [
      "  Downloading mnist-0.2.2-py2.py3-none-any.whl (3.5 kB)\r\n",
      "Requirement already satisfied: numpy in /opt/hostedtoolcache/Python/3.6.15/x64/lib/python3.6/site-packages (from mnist) (1.19.5)\r\n"
     ]
    },
    {
     "name": "stdout",
     "output_type": "stream",
     "text": [
      "Installing collected packages: mnist\r\n"
     ]
    },
    {
     "name": "stdout",
     "output_type": "stream",
     "text": [
      "Successfully installed mnist-0.2.2\r\n"
     ]
    }
   ],
   "source": [
    "!pip install mnist"
   ]
  },
  {
   "cell_type": "markdown",
   "id": "69df9c9a",
   "metadata": {
    "papermill": {
     "duration": 0.026152,
     "end_time": "2021-10-01T20:07:25.387654",
     "exception": false,
     "start_time": "2021-10-01T20:07:25.361502",
     "status": "completed"
    },
    "tags": []
   },
   "source": [
    "## Preparing the Data"
   ]
  },
  {
   "cell_type": "code",
   "execution_count": 4,
   "id": "7f69d806",
   "metadata": {
    "execution": {
     "iopub.execute_input": "2021-10-01T20:07:25.451364Z",
     "iopub.status.busy": "2021-10-01T20:07:25.445880Z",
     "iopub.status.idle": "2021-10-01T20:07:25.465529Z",
     "shell.execute_reply": "2021-10-01T20:07:25.465039Z"
    },
    "papermill": {
     "duration": 0.051639,
     "end_time": "2021-10-01T20:07:25.465660",
     "exception": false,
     "start_time": "2021-10-01T20:07:25.414021",
     "status": "completed"
    },
    "tags": []
   },
   "outputs": [],
   "source": [
    "import mnist"
   ]
  },
  {
   "cell_type": "code",
   "execution_count": 5,
   "id": "a411e44f",
   "metadata": {
    "execution": {
     "iopub.execute_input": "2021-10-01T20:07:25.524843Z",
     "iopub.status.busy": "2021-10-01T20:07:25.524235Z",
     "iopub.status.idle": "2021-10-01T20:07:26.205037Z",
     "shell.execute_reply": "2021-10-01T20:07:26.203823Z"
    },
    "papermill": {
     "duration": 0.711786,
     "end_time": "2021-10-01T20:07:26.205182",
     "exception": false,
     "start_time": "2021-10-01T20:07:25.493396",
     "status": "completed"
    },
    "tags": []
   },
   "outputs": [],
   "source": [
    "train_images = mnist.train_images()\n",
    "train_labels = mnist.train_labels()"
   ]
  },
  {
   "cell_type": "code",
   "execution_count": 6,
   "id": "dceab3a5",
   "metadata": {
    "execution": {
     "iopub.execute_input": "2021-10-01T20:07:26.266133Z",
     "iopub.status.busy": "2021-10-01T20:07:26.265515Z",
     "iopub.status.idle": "2021-10-01T20:07:26.285221Z",
     "shell.execute_reply": "2021-10-01T20:07:26.285727Z"
    },
    "papermill": {
     "duration": 0.052517,
     "end_time": "2021-10-01T20:07:26.285878",
     "exception": false,
     "start_time": "2021-10-01T20:07:26.233361",
     "status": "completed"
    },
    "tags": []
   },
   "outputs": [
    {
     "data": {
      "text/plain": [
       "((60000, 28, 28), (60000,))"
      ]
     },
     "execution_count": 6,
     "metadata": {},
     "output_type": "execute_result"
    }
   ],
   "source": [
    "train_images.shape, train_labels.shape"
   ]
  },
  {
   "cell_type": "code",
   "execution_count": 7,
   "id": "f50dc2bb",
   "metadata": {
    "execution": {
     "iopub.execute_input": "2021-10-01T20:07:26.345559Z",
     "iopub.status.busy": "2021-10-01T20:07:26.344970Z",
     "iopub.status.idle": "2021-10-01T20:07:26.570080Z",
     "shell.execute_reply": "2021-10-01T20:07:26.568630Z"
    },
    "papermill": {
     "duration": 0.25637,
     "end_time": "2021-10-01T20:07:26.570254",
     "exception": false,
     "start_time": "2021-10-01T20:07:26.313884",
     "status": "completed"
    },
    "tags": []
   },
   "outputs": [],
   "source": [
    "test_images = mnist.test_images()\n",
    "test_labels = mnist.test_labels()"
   ]
  },
  {
   "cell_type": "code",
   "execution_count": 8,
   "id": "fc38cf1b",
   "metadata": {
    "execution": {
     "iopub.execute_input": "2021-10-01T20:07:26.633660Z",
     "iopub.status.busy": "2021-10-01T20:07:26.631312Z",
     "iopub.status.idle": "2021-10-01T20:07:26.644991Z",
     "shell.execute_reply": "2021-10-01T20:07:26.644508Z"
    },
    "papermill": {
     "duration": 0.046647,
     "end_time": "2021-10-01T20:07:26.645132",
     "exception": false,
     "start_time": "2021-10-01T20:07:26.598485",
     "status": "completed"
    },
    "tags": []
   },
   "outputs": [
    {
     "data": {
      "text/plain": [
       "((10000, 28, 28), (10000,))"
      ]
     },
     "execution_count": 8,
     "metadata": {},
     "output_type": "execute_result"
    }
   ],
   "source": [
    "test_images.shape, test_labels.shape"
   ]
  },
  {
   "cell_type": "code",
   "execution_count": 9,
   "id": "f9ed8fe0",
   "metadata": {
    "execution": {
     "iopub.execute_input": "2021-10-01T20:07:26.713346Z",
     "iopub.status.busy": "2021-10-01T20:07:26.712738Z",
     "iopub.status.idle": "2021-10-01T20:07:26.867708Z",
     "shell.execute_reply": "2021-10-01T20:07:26.867206Z"
    },
    "papermill": {
     "duration": 0.19324,
     "end_time": "2021-10-01T20:07:26.867847",
     "exception": false,
     "start_time": "2021-10-01T20:07:26.674607",
     "status": "completed"
    },
    "tags": []
   },
   "outputs": [
    {
     "name": "stdout",
     "output_type": "stream",
     "text": [
      "2\n"
     ]
    },
    {
     "data": {
      "text/plain": [
       "<matplotlib.image.AxesImage at 0x7f30e37737b8>"
      ]
     },
     "execution_count": 9,
     "metadata": {},
     "output_type": "execute_result"
    },
    {
     "data": {
      "image/png": "[encoded data removed]",
      "text/plain": [
       "<Figure size 432x288 with 1 Axes>"
      ]
     },
     "metadata": {
      "needs_background": "light"
     },
     "output_type": "display_data"
    }
   ],
   "source": [
    "image_index = 7776 # You may select anything up to 60,000\n",
    "print(train_labels[image_index]) \n",
    "plt.imshow(train_images[image_index], cmap='Greys')"
   ]
  },
  {
   "cell_type": "markdown",
   "id": "a8d2388d",
   "metadata": {
    "papermill": {
     "duration": 0.027739,
     "end_time": "2021-10-01T20:07:26.924492",
     "exception": false,
     "start_time": "2021-10-01T20:07:26.896753",
     "status": "completed"
    },
    "tags": []
   },
   "source": [
    "## Filter data to get 3 and 8 out"
   ]
  },
  {
   "cell_type": "code",
   "execution_count": 10,
   "id": "776f7fc7",
   "metadata": {
    "execution": {
     "iopub.execute_input": "2021-10-01T20:07:26.984655Z",
     "iopub.status.busy": "2021-10-01T20:07:26.984033Z",
     "iopub.status.idle": "2021-10-01T20:07:27.003563Z",
     "shell.execute_reply": "2021-10-01T20:07:27.003080Z"
    },
    "papermill": {
     "duration": 0.051289,
     "end_time": "2021-10-01T20:07:27.003690",
     "exception": false,
     "start_time": "2021-10-01T20:07:26.952401",
     "status": "completed"
    },
    "tags": []
   },
   "outputs": [],
   "source": [
    "train_filter = np.where((train_labels == 3 ) | (train_labels == 8))\n",
    "test_filter = np.where((test_labels == 3) | (test_labels == 8))\n",
    "X_train, y_train = train_images[train_filter], train_labels[train_filter]\n",
    "X_test, y_test = test_images[test_filter], test_labels[test_filter]"
   ]
  },
  {
   "cell_type": "markdown",
   "id": "948f0b7e",
   "metadata": {
    "papermill": {
     "duration": 0.028417,
     "end_time": "2021-10-01T20:07:27.061673",
     "exception": false,
     "start_time": "2021-10-01T20:07:27.033256",
     "status": "completed"
    },
    "tags": []
   },
   "source": [
    "We normalize the pizel values in the 0 to 1 range"
   ]
  },
  {
   "cell_type": "code",
   "execution_count": 11,
   "id": "ee4c2166",
   "metadata": {
    "execution": {
     "iopub.execute_input": "2021-10-01T20:07:27.128073Z",
     "iopub.status.busy": "2021-10-01T20:07:27.127458Z",
     "iopub.status.idle": "2021-10-01T20:07:27.179855Z",
     "shell.execute_reply": "2021-10-01T20:07:27.179301Z"
    },
    "papermill": {
     "duration": 0.089145,
     "end_time": "2021-10-01T20:07:27.180002",
     "exception": false,
     "start_time": "2021-10-01T20:07:27.090857",
     "status": "completed"
    },
    "tags": []
   },
   "outputs": [],
   "source": [
    "X_train = X_train/255.\n",
    "X_test = X_test/255."
   ]
  },
  {
   "cell_type": "markdown",
   "id": "ddcf4fab",
   "metadata": {
    "papermill": {
     "duration": 0.029604,
     "end_time": "2021-10-01T20:07:27.239882",
     "exception": false,
     "start_time": "2021-10-01T20:07:27.210278",
     "status": "completed"
    },
    "tags": []
   },
   "source": [
    "And setup the labels as 1 (when the digit is 3) and 0 (when the digit is 8)"
   ]
  },
  {
   "cell_type": "code",
   "execution_count": 12,
   "id": "7dc908f2",
   "metadata": {
    "execution": {
     "iopub.execute_input": "2021-10-01T20:07:27.302129Z",
     "iopub.status.busy": "2021-10-01T20:07:27.301515Z",
     "iopub.status.idle": "2021-10-01T20:07:27.315566Z",
     "shell.execute_reply": "2021-10-01T20:07:27.315112Z"
    },
    "papermill": {
     "duration": 0.046495,
     "end_time": "2021-10-01T20:07:27.315688",
     "exception": false,
     "start_time": "2021-10-01T20:07:27.269193",
     "status": "completed"
    },
    "tags": []
   },
   "outputs": [],
   "source": [
    "y_train = 1*(y_train==3)\n",
    "y_test = 1*(y_test==3)"
   ]
  },
  {
   "cell_type": "code",
   "execution_count": 13,
   "id": "01e4e969",
   "metadata": {
    "execution": {
     "iopub.execute_input": "2021-10-01T20:07:27.379468Z",
     "iopub.status.busy": "2021-10-01T20:07:27.378861Z",
     "iopub.status.idle": "2021-10-01T20:07:27.394351Z",
     "shell.execute_reply": "2021-10-01T20:07:27.393806Z"
    },
    "papermill": {
     "duration": 0.049468,
     "end_time": "2021-10-01T20:07:27.394486",
     "exception": false,
     "start_time": "2021-10-01T20:07:27.345018",
     "status": "completed"
    },
    "tags": []
   },
   "outputs": [
    {
     "data": {
      "text/plain": [
       "((11982, 28, 28), (1984, 28, 28))"
      ]
     },
     "execution_count": 13,
     "metadata": {},
     "output_type": "execute_result"
    }
   ],
   "source": [
    "X_train.shape, X_test.shape"
   ]
  },
  {
   "cell_type": "markdown",
   "id": "5ccf3f85",
   "metadata": {
    "papermill": {
     "duration": 0.029892,
     "end_time": "2021-10-01T20:07:27.453206",
     "exception": false,
     "start_time": "2021-10-01T20:07:27.423314",
     "status": "completed"
    },
    "tags": []
   },
   "source": [
    "We reshape the data to flatten the image pixels into a set of features or co-variates:"
   ]
  },
  {
   "cell_type": "code",
   "execution_count": 14,
   "id": "5286a4a3",
   "metadata": {
    "execution": {
     "iopub.execute_input": "2021-10-01T20:07:27.522678Z",
     "iopub.status.busy": "2021-10-01T20:07:27.522017Z",
     "iopub.status.idle": "2021-10-01T20:07:27.536541Z",
     "shell.execute_reply": "2021-10-01T20:07:27.536056Z"
    },
    "papermill": {
     "duration": 0.052914,
     "end_time": "2021-10-01T20:07:27.536683",
     "exception": false,
     "start_time": "2021-10-01T20:07:27.483769",
     "status": "completed"
    },
    "tags": []
   },
   "outputs": [
    {
     "data": {
      "text/plain": [
       "((11982, 784), (1984, 784))"
      ]
     },
     "execution_count": 14,
     "metadata": {},
     "output_type": "execute_result"
    }
   ],
   "source": [
    "X_train = X_train.reshape(X_train.shape[0], -1)\n",
    "X_test = X_test.reshape(X_test.shape[0], -1)\n",
    "X_train.shape, X_test.shape"
   ]
  },
  {
   "cell_type": "code",
   "execution_count": 15,
   "id": "73c5f88a",
   "metadata": {
    "execution": {
     "iopub.execute_input": "2021-10-01T20:07:27.603816Z",
     "iopub.status.busy": "2021-10-01T20:07:27.603202Z",
     "iopub.status.idle": "2021-10-01T20:07:27.624184Z",
     "shell.execute_reply": "2021-10-01T20:07:27.624639Z"
    },
    "papermill": {
     "duration": 0.058745,
     "end_time": "2021-10-01T20:07:27.624796",
     "exception": false,
     "start_time": "2021-10-01T20:07:27.566051",
     "status": "completed"
    },
    "tags": []
   },
   "outputs": [],
   "source": [
    "#Impoting functions from 'Kudzu'\n",
    "from kudzu.model import Model\n",
    "from kudzu.train import Learner\n",
    "from kudzu.optim import GD\n",
    "from kudzu.data import Data, Sampler,Dataloader\n",
    "\n",
    "from kudzu.callbacks import AccCallback\n",
    "from kudzu.callbacks import ClfCallback\n",
    "\n",
    "from kudzu.loss import MSE\n",
    "\n",
    "from kudzu.layer import Sigmoid,Relu\n",
    "from kudzu.layer import Affine"
   ]
  },
  {
   "cell_type": "markdown",
   "id": "bc01172a",
   "metadata": {
    "papermill": {
     "duration": 0.0296,
     "end_time": "2021-10-01T20:07:27.684787",
     "exception": false,
     "start_time": "2021-10-01T20:07:27.655187",
     "status": "completed"
    },
    "tags": []
   },
   "source": [
    "### Let us create a `Config` class, to store important parameters. \n",
    "This class essentially plays the role of a dictionary."
   ]
  },
  {
   "cell_type": "code",
   "execution_count": 16,
   "id": "978281aa",
   "metadata": {
    "execution": {
     "iopub.execute_input": "2021-10-01T20:07:27.750970Z",
     "iopub.status.busy": "2021-10-01T20:07:27.750352Z",
     "iopub.status.idle": "2021-10-01T20:07:27.763231Z",
     "shell.execute_reply": "2021-10-01T20:07:27.763712Z"
    },
    "papermill": {
     "duration": 0.048441,
     "end_time": "2021-10-01T20:07:27.763860",
     "exception": false,
     "start_time": "2021-10-01T20:07:27.715419",
     "status": "completed"
    },
    "tags": []
   },
   "outputs": [],
   "source": [
    "class Config:\n",
    "    pass\n",
    "config = Config()\n",
    "config.lr = 0.001\n",
    "config.num_epochs = 250\n",
    "config.bs = 50"
   ]
  },
  {
   "cell_type": "markdown",
   "id": "1385fa59",
   "metadata": {
    "papermill": {
     "duration": 0.029879,
     "end_time": "2021-10-01T20:07:27.823713",
     "exception": false,
     "start_time": "2021-10-01T20:07:27.793834",
     "status": "completed"
    },
    "tags": []
   },
   "source": [
    "### Running Models with the Training data\n",
    "Details about the network layers:\n",
    "- A first affine layer has 784 inputs and does 100 affine transforms. These are followed by a Relu\n",
    "- A second affine layer has 100 inputs from the 100 activations of the past layer, and does 100 affine transforms. These are followed by a Relu\n",
    "- A third affine layer has 100 activations and does 2 affine transformations to create an embedding for visualization. There is no non-linearity here.\n",
    "- A final \"logistic regression\" which has an affine transform from 2 inputs to 1 output, which is squeezed through a sigmoid.\n"
   ]
  },
  {
   "cell_type": "code",
   "execution_count": 17,
   "id": "2b9c66db",
   "metadata": {
    "execution": {
     "iopub.execute_input": "2021-10-01T20:07:27.890607Z",
     "iopub.status.busy": "2021-10-01T20:07:27.889966Z",
     "iopub.status.idle": "2021-10-01T20:07:27.903451Z",
     "shell.execute_reply": "2021-10-01T20:07:27.902955Z"
    },
    "papermill": {
     "duration": 0.050444,
     "end_time": "2021-10-01T20:07:27.903579",
     "exception": false,
     "start_time": "2021-10-01T20:07:27.853135",
     "status": "completed"
    },
    "tags": []
   },
   "outputs": [],
   "source": [
    "data = Data(X_train, y_train.reshape(-1,1))\n",
    "sampler = Sampler(data, config.bs, shuffle=True)\n",
    "\n",
    "dl = Dataloader(data, sampler)\n",
    "\n",
    "opt = GD(config.lr)\n",
    "loss = MSE()"
   ]
  },
  {
   "cell_type": "code",
   "execution_count": 18,
   "id": "b275e4c2",
   "metadata": {
    "execution": {
     "iopub.execute_input": "2021-10-01T20:07:27.968326Z",
     "iopub.status.busy": "2021-10-01T20:07:27.967726Z",
     "iopub.status.idle": "2021-10-01T20:07:27.981719Z",
     "shell.execute_reply": "2021-10-01T20:07:27.982197Z"
    },
    "papermill": {
     "duration": 0.048507,
     "end_time": "2021-10-01T20:07:27.982347",
     "exception": false,
     "start_time": "2021-10-01T20:07:27.933840",
     "status": "completed"
    },
    "tags": []
   },
   "outputs": [],
   "source": [
    "training_data_x = X_train\n",
    "testing_data_x = X_test\n",
    "training_data_y = y_train.reshape(-1,1)\n",
    "testing_data_y = y_test.reshape(-1,1)"
   ]
  },
  {
   "cell_type": "code",
   "execution_count": 19,
   "id": "76951160",
   "metadata": {
    "execution": {
     "iopub.execute_input": "2021-10-01T20:07:28.046289Z",
     "iopub.status.busy": "2021-10-01T20:07:28.045664Z",
     "iopub.status.idle": "2021-10-01T20:07:28.063575Z",
     "shell.execute_reply": "2021-10-01T20:07:28.064025Z"
    },
    "papermill": {
     "duration": 0.052682,
     "end_time": "2021-10-01T20:07:28.064176",
     "exception": false,
     "start_time": "2021-10-01T20:07:28.011494",
     "status": "completed"
    },
    "tags": []
   },
   "outputs": [
    {
     "name": "stdout",
     "output_type": "stream",
     "text": [
      "xavier\n",
      "xavier\n",
      "xavier\n",
      "xavier\n",
      "xavier\n"
     ]
    }
   ],
   "source": [
    "layers = [Affine(\"first\", 784, 100), Relu(\"first\"), Affine(\"second\", 100, 100), Relu(\"second\"), Affine(\"third\", 100, 2), Affine(\"last\", 2, 1), Sigmoid(\"last\")]\n",
    "model_nn = Model(layers)\n",
    "model_lr = Model([Affine(\"logits\", 784, 1), Sigmoid(\"sigmoid\")])"
   ]
  },
  {
   "cell_type": "code",
   "execution_count": 20,
   "id": "6eede77a",
   "metadata": {
    "execution": {
     "iopub.execute_input": "2021-10-01T20:07:28.134654Z",
     "iopub.status.busy": "2021-10-01T20:07:28.134012Z",
     "iopub.status.idle": "2021-10-01T20:07:28.146001Z",
     "shell.execute_reply": "2021-10-01T20:07:28.146530Z"
    },
    "papermill": {
     "duration": 0.052145,
     "end_time": "2021-10-01T20:07:28.146679",
     "exception": false,
     "start_time": "2021-10-01T20:07:28.094534",
     "status": "completed"
    },
    "tags": []
   },
   "outputs": [],
   "source": [
    "nn_learner = Learner(loss, model_nn, opt, config.num_epochs)\n",
    "acc_nn = ClfCallback(nn_learner, config.bs, training_data_x , testing_data_x, training_data_y, testing_data_y)\n",
    "nn_learner.set_callbacks([acc_nn])"
   ]
  },
  {
   "cell_type": "code",
   "execution_count": 21,
   "id": "877b6cc7",
   "metadata": {
    "execution": {
     "iopub.execute_input": "2021-10-01T20:07:28.215681Z",
     "iopub.status.busy": "2021-10-01T20:07:28.215127Z",
     "iopub.status.idle": "2021-10-01T20:07:28.226463Z",
     "shell.execute_reply": "2021-10-01T20:07:28.226943Z"
    },
    "papermill": {
     "duration": 0.050165,
     "end_time": "2021-10-01T20:07:28.227078",
     "exception": false,
     "start_time": "2021-10-01T20:07:28.176913",
     "status": "completed"
    },
    "tags": []
   },
   "outputs": [],
   "source": [
    "lr_learner = Learner(loss, model_lr, opt, config.num_epochs)\n",
    "acc_lr = ClfCallback(lr_learner, config.bs, training_data_x , testing_data_x, training_data_y, testing_data_y)\n",
    "lr_learner.set_callbacks([acc_lr])"
   ]
  },
  {
   "cell_type": "code",
   "execution_count": 22,
   "id": "d9b133c3",
   "metadata": {
    "execution": {
     "iopub.execute_input": "2021-10-01T20:07:28.303103Z",
     "iopub.status.busy": "2021-10-01T20:07:28.296322Z",
     "iopub.status.idle": "2021-10-01T20:08:53.298709Z",
     "shell.execute_reply": "2021-10-01T20:08:53.299269Z"
    },
    "papermill": {
     "duration": 85.042715,
     "end_time": "2021-10-01T20:08:53.299429",
     "exception": false,
     "start_time": "2021-10-01T20:07:28.256714",
     "status": "completed"
    },
    "tags": []
   },
   "outputs": [
    {
     "name": "stdout",
     "output_type": "stream",
     "text": [
      "Epoch 0, Loss 0.2397\n",
      "Training Accuracy: 0.7266, Testing Accuracy: 0.7681\n",
      "\n"
     ]
    },
    {
     "name": "stdout",
     "output_type": "stream",
     "text": [
      "Epoch 10, Loss 0.0657\n",
      "Training Accuracy: 0.9326, Testing Accuracy: 0.9496\n",
      "\n"
     ]
    },
    {
     "name": "stdout",
     "output_type": "stream",
     "text": [
      "Epoch 20, Loss 0.0461\n",
      "Training Accuracy: 0.9495, Testing Accuracy: 0.9612\n",
      "\n"
     ]
    },
    {
     "name": "stdout",
     "output_type": "stream",
     "text": [
      "Epoch 30, Loss 0.0384\n",
      "Training Accuracy: 0.9567, Testing Accuracy: 0.9657\n",
      "\n"
     ]
    },
    {
     "name": "stdout",
     "output_type": "stream",
     "text": [
      "Epoch 40, Loss 0.0342\n",
      "Training Accuracy: 0.9598, Testing Accuracy: 0.9662\n",
      "\n"
     ]
    },
    {
     "name": "stdout",
     "output_type": "stream",
     "text": [
      "Epoch 50, Loss 0.0314\n",
      "Training Accuracy: 0.9619, Testing Accuracy: 0.9672\n",
      "\n"
     ]
    },
    {
     "name": "stdout",
     "output_type": "stream",
     "text": [
      "Epoch 60, Loss 0.0293\n",
      "Training Accuracy: 0.9652, Testing Accuracy: 0.9667\n",
      "\n"
     ]
    },
    {
     "name": "stdout",
     "output_type": "stream",
     "text": [
      "Epoch 70, Loss 0.0277\n",
      "Training Accuracy: 0.9674, Testing Accuracy: 0.9672\n",
      "\n"
     ]
    },
    {
     "name": "stdout",
     "output_type": "stream",
     "text": [
      "Epoch 80, Loss 0.0264\n",
      "Training Accuracy: 0.9690, Testing Accuracy: 0.9688\n",
      "\n"
     ]
    },
    {
     "name": "stdout",
     "output_type": "stream",
     "text": [
      "Epoch 90, Loss 0.0253\n",
      "Training Accuracy: 0.9706, Testing Accuracy: 0.9688\n",
      "\n"
     ]
    },
    {
     "name": "stdout",
     "output_type": "stream",
     "text": [
      "Epoch 100, Loss 0.0244\n",
      "Training Accuracy: 0.9716, Testing Accuracy: 0.9698\n",
      "\n"
     ]
    },
    {
     "name": "stdout",
     "output_type": "stream",
     "text": [
      "Epoch 110, Loss 0.0236\n",
      "Training Accuracy: 0.9725, Testing Accuracy: 0.9718\n",
      "\n"
     ]
    },
    {
     "name": "stdout",
     "output_type": "stream",
     "text": [
      "Epoch 120, Loss 0.0228\n",
      "Training Accuracy: 0.9734, Testing Accuracy: 0.9733\n",
      "\n"
     ]
    },
    {
     "name": "stdout",
     "output_type": "stream",
     "text": [
      "Epoch 130, Loss 0.0221\n",
      "Training Accuracy: 0.9745, Testing Accuracy: 0.9738\n",
      "\n"
     ]
    },
    {
     "name": "stdout",
     "output_type": "stream",
     "text": [
      "Epoch 140, Loss 0.0215\n",
      "Training Accuracy: 0.9753, Testing Accuracy: 0.9743\n",
      "\n"
     ]
    },
    {
     "name": "stdout",
     "output_type": "stream",
     "text": [
      "Epoch 150, Loss 0.0209\n",
      "Training Accuracy: 0.9760, Testing Accuracy: 0.9743\n",
      "\n"
     ]
    },
    {
     "name": "stdout",
     "output_type": "stream",
     "text": [
      "Epoch 160, Loss 0.0204\n",
      "Training Accuracy: 0.9768, Testing Accuracy: 0.9738\n",
      "\n"
     ]
    },
    {
     "name": "stdout",
     "output_type": "stream",
     "text": [
      "Epoch 170, Loss 0.0199\n",
      "Training Accuracy: 0.9770, Testing Accuracy: 0.9748\n",
      "\n"
     ]
    },
    {
     "name": "stdout",
     "output_type": "stream",
     "text": [
      "Epoch 180, Loss 0.0194\n",
      "Training Accuracy: 0.9781, Testing Accuracy: 0.9753\n",
      "\n"
     ]
    },
    {
     "name": "stdout",
     "output_type": "stream",
     "text": [
      "Epoch 190, Loss 0.0189\n",
      "Training Accuracy: 0.9789, Testing Accuracy: 0.9753\n",
      "\n"
     ]
    },
    {
     "name": "stdout",
     "output_type": "stream",
     "text": [
      "Epoch 200, Loss 0.0185\n",
      "Training Accuracy: 0.9796, Testing Accuracy: 0.9758\n",
      "\n"
     ]
    },
    {
     "name": "stdout",
     "output_type": "stream",
     "text": [
      "Epoch 210, Loss 0.0181\n",
      "Training Accuracy: 0.9804, Testing Accuracy: 0.9763\n",
      "\n"
     ]
    },
    {
     "name": "stdout",
     "output_type": "stream",
     "text": [
      "Epoch 220, Loss 0.0177\n",
      "Training Accuracy: 0.9811, Testing Accuracy: 0.9773\n",
      "\n"
     ]
    },
    {
     "name": "stdout",
     "output_type": "stream",
     "text": [
      "Epoch 230, Loss 0.0173\n",
      "Training Accuracy: 0.9816, Testing Accuracy: 0.9773\n",
      "\n"
     ]
    },
    {
     "name": "stdout",
     "output_type": "stream",
     "text": [
      "Epoch 240, Loss 0.0169\n",
      "Training Accuracy: 0.9820, Testing Accuracy: 0.9768\n",
      "\n"
     ]
    },
    {
     "data": {
      "text/plain": [
       "0.0029023313708772622"
      ]
     },
     "execution_count": 22,
     "metadata": {},
     "output_type": "execute_result"
    }
   ],
   "source": [
    "nn_learner.train_loop(dl)"
   ]
  },
  {
   "cell_type": "code",
   "execution_count": 23,
   "id": "e0163366",
   "metadata": {
    "execution": {
     "iopub.execute_input": "2021-10-01T20:08:53.390095Z",
     "iopub.status.busy": "2021-10-01T20:08:53.389453Z",
     "iopub.status.idle": "2021-10-01T20:09:08.221767Z",
     "shell.execute_reply": "2021-10-01T20:09:08.222585Z"
    },
    "papermill": {
     "duration": 14.883554,
     "end_time": "2021-10-01T20:09:08.222743",
     "exception": false,
     "start_time": "2021-10-01T20:08:53.339189",
     "status": "completed"
    },
    "tags": []
   },
   "outputs": [
    {
     "name": "stdout",
     "output_type": "stream",
     "text": [
      "Epoch 0, Loss 0.2273\n",
      "Training Accuracy: 0.7436, Testing Accuracy: 0.7510\n",
      "\n"
     ]
    },
    {
     "name": "stdout",
     "output_type": "stream",
     "text": [
      "Epoch 10, Loss 0.1006\n",
      "Training Accuracy: 0.9126, Testing Accuracy: 0.9224\n",
      "\n"
     ]
    },
    {
     "name": "stdout",
     "output_type": "stream",
     "text": [
      "Epoch 20, Loss 0.0779\n",
      "Training Accuracy: 0.9286, Testing Accuracy: 0.9400\n",
      "\n"
     ]
    },
    {
     "name": "stdout",
     "output_type": "stream",
     "text": [
      "Epoch 30, Loss 0.0674\n",
      "Training Accuracy: 0.9363, Testing Accuracy: 0.9476\n",
      "\n"
     ]
    },
    {
     "name": "stdout",
     "output_type": "stream",
     "text": [
      "Epoch 40, Loss 0.061\n",
      "Training Accuracy: 0.9408, Testing Accuracy: 0.9516\n",
      "\n"
     ]
    },
    {
     "name": "stdout",
     "output_type": "stream",
     "text": [
      "Epoch 50, Loss 0.0567\n",
      "Training Accuracy: 0.9448, Testing Accuracy: 0.9551\n",
      "\n"
     ]
    },
    {
     "name": "stdout",
     "output_type": "stream",
     "text": [
      "Epoch 60, Loss 0.0535\n",
      "Training Accuracy: 0.9464, Testing Accuracy: 0.9577\n",
      "\n"
     ]
    },
    {
     "name": "stdout",
     "output_type": "stream",
     "text": [
      "Epoch 70, Loss 0.051\n",
      "Training Accuracy: 0.9485, Testing Accuracy: 0.9582\n",
      "\n"
     ]
    },
    {
     "name": "stdout",
     "output_type": "stream",
     "text": [
      "Epoch 80, Loss 0.0491\n",
      "Training Accuracy: 0.9503, Testing Accuracy: 0.9597\n",
      "\n"
     ]
    },
    {
     "name": "stdout",
     "output_type": "stream",
     "text": [
      "Epoch 90, Loss 0.0474\n",
      "Training Accuracy: 0.9512, Testing Accuracy: 0.9597\n",
      "\n"
     ]
    },
    {
     "name": "stdout",
     "output_type": "stream",
     "text": [
      "Epoch 100, Loss 0.046\n",
      "Training Accuracy: 0.9529, Testing Accuracy: 0.9602\n",
      "\n"
     ]
    },
    {
     "name": "stdout",
     "output_type": "stream",
     "text": [
      "Epoch 110, Loss 0.0448\n",
      "Training Accuracy: 0.9538, Testing Accuracy: 0.9607\n",
      "\n"
     ]
    },
    {
     "name": "stdout",
     "output_type": "stream",
     "text": [
      "Epoch 120, Loss 0.0438\n",
      "Training Accuracy: 0.9546, Testing Accuracy: 0.9622\n",
      "\n"
     ]
    },
    {
     "name": "stdout",
     "output_type": "stream",
     "text": [
      "Epoch 130, Loss 0.0429\n",
      "Training Accuracy: 0.9553, Testing Accuracy: 0.9632\n",
      "\n"
     ]
    },
    {
     "name": "stdout",
     "output_type": "stream",
     "text": [
      "Epoch 140, Loss 0.042\n",
      "Training Accuracy: 0.9555, Testing Accuracy: 0.9632\n",
      "\n"
     ]
    },
    {
     "name": "stdout",
     "output_type": "stream",
     "text": [
      "Epoch 150, Loss 0.0413\n",
      "Training Accuracy: 0.9564, Testing Accuracy: 0.9632\n",
      "\n"
     ]
    },
    {
     "name": "stdout",
     "output_type": "stream",
     "text": [
      "Epoch 160, Loss 0.0406\n",
      "Training Accuracy: 0.9573, Testing Accuracy: 0.9632\n",
      "\n"
     ]
    },
    {
     "name": "stdout",
     "output_type": "stream",
     "text": [
      "Epoch 170, Loss 0.04\n",
      "Training Accuracy: 0.9579, Testing Accuracy: 0.9632\n",
      "\n"
     ]
    },
    {
     "name": "stdout",
     "output_type": "stream",
     "text": [
      "Epoch 180, Loss 0.0395\n",
      "Training Accuracy: 0.9587, Testing Accuracy: 0.9632\n",
      "\n"
     ]
    },
    {
     "name": "stdout",
     "output_type": "stream",
     "text": [
      "Epoch 190, Loss 0.039\n",
      "Training Accuracy: 0.9592, Testing Accuracy: 0.9632\n",
      "\n"
     ]
    },
    {
     "name": "stdout",
     "output_type": "stream",
     "text": [
      "Epoch 200, Loss 0.0385\n",
      "Training Accuracy: 0.9599, Testing Accuracy: 0.9632\n",
      "\n"
     ]
    },
    {
     "name": "stdout",
     "output_type": "stream",
     "text": [
      "Epoch 210, Loss 0.038\n",
      "Training Accuracy: 0.9602, Testing Accuracy: 0.9627\n",
      "\n"
     ]
    },
    {
     "name": "stdout",
     "output_type": "stream",
     "text": [
      "Epoch 220, Loss 0.0376\n",
      "Training Accuracy: 0.9605, Testing Accuracy: 0.9637\n",
      "\n"
     ]
    },
    {
     "name": "stdout",
     "output_type": "stream",
     "text": [
      "Epoch 230, Loss 0.0372\n",
      "Training Accuracy: 0.9609, Testing Accuracy: 0.9637\n",
      "\n"
     ]
    },
    {
     "name": "stdout",
     "output_type": "stream",
     "text": [
      "Epoch 240, Loss 0.0369\n",
      "Training Accuracy: 0.9612, Testing Accuracy: 0.9642\n",
      "\n"
     ]
    },
    {
     "data": {
      "text/plain": [
       "0.023801291864711395"
      ]
     },
     "execution_count": 23,
     "metadata": {},
     "output_type": "execute_result"
    }
   ],
   "source": [
    "lr_learner.train_loop(dl)"
   ]
  },
  {
   "cell_type": "code",
   "execution_count": 24,
   "id": "ca410940",
   "metadata": {
    "execution": {
     "iopub.execute_input": "2021-10-01T20:09:08.323536Z",
     "iopub.status.busy": "2021-10-01T20:09:08.322985Z",
     "iopub.status.idle": "2021-10-01T20:09:08.548716Z",
     "shell.execute_reply": "2021-10-01T20:09:08.548301Z"
    },
    "papermill": {
     "duration": 0.281937,
     "end_time": "2021-10-01T20:09:08.548833",
     "exception": false,
     "start_time": "2021-10-01T20:09:08.266896",
     "status": "completed"
    },
    "tags": []
   },
   "outputs": [
    {
     "data": {
      "text/plain": [
       "<matplotlib.legend.Legend at 0x7f30e32d58d0>"
      ]
     },
     "execution_count": 24,
     "metadata": {},
     "output_type": "execute_result"
    },
    {
     "data": {
      "image/png": "[encoded data removed]",
      "text/plain": [
       "<Figure size 1080x720 with 1 Axes>"
      ]
     },
     "metadata": {
      "needs_background": "light"
     },
     "output_type": "display_data"
    }
   ],
   "source": [
    "#comparing the results of NN and LR\n",
    "plt.figure(figsize=(15,10))\n",
    "\n",
    "# Neural Network plots\n",
    "plt.plot(acc_nn.accuracies, 'r-', label = \"Training Accuracies - NN\")\n",
    "plt.plot(acc_nn.test_accuracies, 'g-', label = \"Testing Accuracies - NN\")\n",
    "\n",
    "# Logistic Regression plots\n",
    "plt.plot(acc_lr.accuracies, 'k-', label = \"Training Accuracies - LR\")\n",
    "plt.plot(acc_lr.test_accuracies, 'b-', label = \"Testing Accuracies - LR\")\n",
    "plt.legend()"
   ]
  },
  {
   "cell_type": "markdown",
   "id": "80dfb35c",
   "metadata": {
    "papermill": {
     "duration": 0.040787,
     "end_time": "2021-10-01T20:09:08.633736",
     "exception": false,
     "start_time": "2021-10-01T20:09:08.592949",
     "status": "completed"
    },
    "tags": []
   },
   "source": [
    "#### Plotting the outputs of this layer of the NN.\n"
   ]
  },
  {
   "cell_type": "code",
   "execution_count": 25,
   "id": "45eb2ff5",
   "metadata": {
    "execution": {
     "iopub.execute_input": "2021-10-01T20:09:08.724399Z",
     "iopub.status.busy": "2021-10-01T20:09:08.723807Z",
     "iopub.status.idle": "2021-10-01T20:09:08.743179Z",
     "shell.execute_reply": "2021-10-01T20:09:08.743627Z"
    },
    "papermill": {
     "duration": 0.068991,
     "end_time": "2021-10-01T20:09:08.743767",
     "exception": false,
     "start_time": "2021-10-01T20:09:08.674776",
     "status": "completed"
    },
    "tags": []
   },
   "outputs": [],
   "source": [
    "new_model = Model(layers[:-2])\n",
    "testing_plot = new_model(testing_data_x)"
   ]
  },
  {
   "cell_type": "code",
   "execution_count": 26,
   "id": "4c0a5485",
   "metadata": {
    "execution": {
     "iopub.execute_input": "2021-10-01T20:09:08.847755Z",
     "iopub.status.busy": "2021-10-01T20:09:08.847154Z",
     "iopub.status.idle": "2021-10-01T20:09:09.052875Z",
     "shell.execute_reply": "2021-10-01T20:09:09.053354Z"
    },
    "papermill": {
     "duration": 0.256034,
     "end_time": "2021-10-01T20:09:09.053503",
     "exception": false,
     "start_time": "2021-10-01T20:09:08.797469",
     "status": "completed"
    },
    "tags": []
   },
   "outputs": [
    {
     "data": {
      "text/plain": [
       "Text(0.5, 1.0, 'Outputs')"
      ]
     },
     "execution_count": 26,
     "metadata": {},
     "output_type": "execute_result"
    },
    {
     "data": {
      "image/png": "[encoded data removed]",
      "text/plain": [
       "<Figure size 576x504 with 1 Axes>"
      ]
     },
     "metadata": {
      "needs_background": "light"
     },
     "output_type": "display_data"
    }
   ],
   "source": [
    "# Plotting the scatter plot of points and color coding by class\n",
    "plt.figure(figsize=(8,7))\n",
    "plt.scatter(testing_plot[:,0], testing_plot[:,1], alpha = 0.1, c = y_test.ravel());\n",
    "plt.title('Outputs')"
   ]
  },
  {
   "cell_type": "markdown",
   "id": "a74fcf8f",
   "metadata": {
    "papermill": {
     "duration": 0.045098,
     "end_time": "2021-10-01T20:09:09.142317",
     "exception": false,
     "start_time": "2021-10-01T20:09:09.097219",
     "status": "completed"
    },
    "tags": []
   },
   "source": [
    "Probability contours"
   ]
  },
  {
   "cell_type": "code",
   "execution_count": 27,
   "id": "d0afc8e3",
   "metadata": {
    "execution": {
     "iopub.execute_input": "2021-10-01T20:09:09.243473Z",
     "iopub.status.busy": "2021-10-01T20:09:09.242882Z",
     "iopub.status.idle": "2021-10-01T20:09:09.250306Z",
     "shell.execute_reply": "2021-10-01T20:09:09.249762Z"
    },
    "papermill": {
     "duration": 0.064554,
     "end_time": "2021-10-01T20:09:09.250438",
     "exception": false,
     "start_time": "2021-10-01T20:09:09.185884",
     "status": "completed"
    },
    "tags": []
   },
   "outputs": [],
   "source": [
    "model_prob = Model(layers[-2:]) "
   ]
  },
  {
   "cell_type": "code",
   "execution_count": 28,
   "id": "9b96e238",
   "metadata": {
    "execution": {
     "iopub.execute_input": "2021-10-01T20:09:09.377432Z",
     "iopub.status.busy": "2021-10-01T20:09:09.375695Z",
     "iopub.status.idle": "2021-10-01T20:09:09.391727Z",
     "shell.execute_reply": "2021-10-01T20:09:09.392150Z"
    },
    "papermill": {
     "duration": 0.070231,
     "end_time": "2021-10-01T20:09:09.392291",
     "exception": false,
     "start_time": "2021-10-01T20:09:09.322060",
     "status": "completed"
    },
    "tags": []
   },
   "outputs": [],
   "source": [
    "#creating the x and y ranges according to the above generated plot.\n",
    "x_range = np.linspace(-4, 1, 100) \n",
    "y_range = np.linspace(-6, 6, 100) \n",
    "x_grid, y_grid = np.meshgrid(x_range, y_range) # x_grid and y_grig are of size 100 X 100\n",
    "\n",
    "# converting x_grid and y_grid to continuous arrays\n",
    "x_gridflat = np.ravel(x_grid)\n",
    "y_gridflat = np.ravel(y_grid)\n",
    "\n",
    "# The last layer of the current model takes two columns as input. Hence transpose of np.vstack() is required.\n",
    "X = np.vstack((x_gridflat, y_gridflat)).T\n",
    "\n",
    "prob_contour = model_prob(X).reshape(100,100) "
   ]
  },
  {
   "cell_type": "code",
   "execution_count": 29,
   "id": "da72499a",
   "metadata": {
    "execution": {
     "iopub.execute_input": "2021-10-01T20:09:09.500470Z",
     "iopub.status.busy": "2021-10-01T20:09:09.499888Z",
     "iopub.status.idle": "2021-10-01T20:09:09.758850Z",
     "shell.execute_reply": "2021-10-01T20:09:09.758372Z"
    },
    "papermill": {
     "duration": 0.311214,
     "end_time": "2021-10-01T20:09:09.758975",
     "exception": false,
     "start_time": "2021-10-01T20:09:09.447761",
     "status": "completed"
    },
    "tags": []
   },
   "outputs": [
    {
     "data": {
      "image/png": "[encoded data removed]",
      "text/plain": [
       "<Figure size 720x648 with 1 Axes>"
      ]
     },
     "metadata": {
      "needs_background": "light"
     },
     "output_type": "display_data"
    }
   ],
   "source": [
    "plt.figure(figsize=(10,9))\n",
    "plt.scatter(testing_plot[:,0], testing_plot[:,1], alpha = 0.1, c = y_test.ravel())\n",
    "contours = plt.contour(x_grid,y_grid,prob_contour)\n",
    "plt.title('Probability Contours')\n",
    "plt.clabel(contours, inline = True );"
   ]
  },
  {
   "cell_type": "code",
   "execution_count": null,
   "id": "e81b4ac7",
   "metadata": {
    "papermill": {
     "duration": 0.046368,
     "end_time": "2021-10-01T20:09:09.855223",
     "exception": false,
     "start_time": "2021-10-01T20:09:09.808855",
     "status": "completed"
    },
    "tags": []
   },
   "outputs": [],
   "source": []
  }
 ],
 "metadata": {
  "kernelspec": {
   "display_name": "Python 3",
   "language": "python",
   "name": "python3"
  },
  "language_info": {
   "codemirror_mode": {
    "name": "ipython",
    "version": 3
   },
   "file_extension": ".py",
   "mimetype": "text/x-python",
   "name": "python",
   "nbconvert_exporter": "python",
   "pygments_lexer": "ipython3",
   "version": "3.6.15"
  },
  "papermill": {
   "default_parameters": {},
   "duration": 108.878532,
   "end_time": "2021-10-01T20:09:10.315155",
   "environment_variables": {},
   "exception": null,
   "input_path": "2020-08-11-part2.ipynb",
   "output_path": "2020-08-11-part2.ipynb",
   "parameters": {},
   "start_time": "2021-10-01T20:07:21.436623",
   "version": "2.3.3"
  }
 },
 "nbformat": 4,
 "nbformat_minor": 5
}