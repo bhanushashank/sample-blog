{
 "cells": [
  {
   "cell_type": "markdown",
   "id": "98380cd3",
   "metadata": {
    "papermill": {
     "duration": 0.029232,
     "end_time": "2022-08-11T10:10:26.107859",
     "exception": false,
     "start_time": "2022-08-11T10:10:26.078627",
     "status": "completed"
    },
    "tags": []
   },
   "source": [
    "# Distinguish Your Own Digits (DYOD)"
   ]
  },
  {
   "cell_type": "markdown",
   "id": "ef31240d",
   "metadata": {
    "papermill": {
     "duration": 0.024201,
     "end_time": "2022-08-11T10:10:26.156698",
     "exception": false,
     "start_time": "2022-08-11T10:10:26.132497",
     "status": "completed"
    },
    "tags": []
   },
   "source": [
    "You are going to write a classifier that distinguishes between the number 3 and number 8."
   ]
  },
  {
   "cell_type": "code",
   "execution_count": 1,
   "id": "b15c8646",
   "metadata": {
    "execution": {
     "iopub.execute_input": "2022-08-11T10:10:26.214616Z",
     "iopub.status.busy": "2022-08-11T10:10:26.214026Z",
     "iopub.status.idle": "2022-08-11T10:10:26.224593Z",
     "shell.execute_reply": "2022-08-11T10:10:26.224023Z"
    },
    "papermill": {
     "duration": 0.044156,
     "end_time": "2022-08-11T10:10:26.224711",
     "exception": false,
     "start_time": "2022-08-11T10:10:26.180555",
     "status": "completed"
    },
    "tags": []
   },
   "outputs": [],
   "source": [
    "%load_ext autoreload\n",
    "%autoreload 2"
   ]
  },
  {
   "cell_type": "code",
   "execution_count": 2,
   "id": "22ef38dc",
   "metadata": {
    "execution": {
     "iopub.execute_input": "2022-08-11T10:10:26.277038Z",
     "iopub.status.busy": "2022-08-11T10:10:26.276490Z",
     "iopub.status.idle": "2022-08-11T10:10:26.786866Z",
     "shell.execute_reply": "2022-08-11T10:10:26.786366Z"
    },
    "papermill": {
     "duration": 0.538173,
     "end_time": "2022-08-11T10:10:26.786981",
     "exception": false,
     "start_time": "2022-08-11T10:10:26.248808",
     "status": "completed"
    },
    "tags": []
   },
   "outputs": [],
   "source": [
    "%matplotlib inline\n",
    "import numpy as np\n",
    "import matplotlib.pyplot as plt\n",
    "import pandas as pd"
   ]
  },
  {
   "cell_type": "markdown",
   "id": "ba036198",
   "metadata": {
    "papermill": {
     "duration": 0.023903,
     "end_time": "2022-08-11T10:10:26.834830",
     "exception": false,
     "start_time": "2022-08-11T10:10:26.810927",
     "status": "completed"
    },
    "tags": []
   },
   "source": [
    "From the command line run `pip install mnist`. This is a library that will help you bring down the mnist dataset. If you run this from a notebook, you need to put  `!pip install mnist` in a cell by itself."
   ]
  },
  {
   "cell_type": "code",
   "execution_count": 3,
   "id": "bb6ad8a1",
   "metadata": {
    "execution": {
     "iopub.execute_input": "2022-08-11T10:10:26.886847Z",
     "iopub.status.busy": "2022-08-11T10:10:26.886256Z",
     "iopub.status.idle": "2022-08-11T10:10:28.562845Z",
     "shell.execute_reply": "2022-08-11T10:10:28.562066Z"
    },
    "papermill": {
     "duration": 1.703974,
     "end_time": "2022-08-11T10:10:28.562963",
     "exception": false,
     "start_time": "2022-08-11T10:10:26.858989",
     "status": "completed"
    },
    "tags": []
   },
   "outputs": [
    {
     "name": "stdout",
     "output_type": "stream",
     "text": [
      "Collecting mnist\r\n"
     ]
    },
    {
     "name": "stdout",
     "output_type": "stream",
     "text": [
      "  Downloading mnist-0.2.2-py2.py3-none-any.whl (3.5 kB)\r\n",
      "Requirement already satisfied: numpy in /opt/hostedtoolcache/Python/3.6.15/x64/lib/python3.6/site-packages (from mnist) (1.19.5)\r\n"
     ]
    },
    {
     "name": "stdout",
     "output_type": "stream",
     "text": [
      "Installing collected packages: mnist\r\n"
     ]
    },
    {
     "name": "stdout",
     "output_type": "stream",
     "text": [
      "Successfully installed mnist-0.2.2\r\n"
     ]
    }
   ],
   "source": [
    "!pip install mnist"
   ]
  },
  {
   "cell_type": "markdown",
   "id": "69df9c9a",
   "metadata": {
    "papermill": {
     "duration": 0.025089,
     "end_time": "2022-08-11T10:10:28.613515",
     "exception": false,
     "start_time": "2022-08-11T10:10:28.588426",
     "status": "completed"
    },
    "tags": []
   },
   "source": [
    "## Preparing the Data"
   ]
  },
  {
   "cell_type": "code",
   "execution_count": 4,
   "id": "7f69d806",
   "metadata": {
    "execution": {
     "iopub.execute_input": "2022-08-11T10:10:28.668033Z",
     "iopub.status.busy": "2022-08-11T10:10:28.667470Z",
     "iopub.status.idle": "2022-08-11T10:10:28.681785Z",
     "shell.execute_reply": "2022-08-11T10:10:28.681202Z"
    },
    "papermill": {
     "duration": 0.043296,
     "end_time": "2022-08-11T10:10:28.681894",
     "exception": false,
     "start_time": "2022-08-11T10:10:28.638598",
     "status": "completed"
    },
    "tags": []
   },
   "outputs": [],
   "source": [
    "import mnist"
   ]
  },
  {
   "cell_type": "code",
   "execution_count": 5,
   "id": "a411e44f",
   "metadata": {
    "execution": {
     "iopub.execute_input": "2022-08-11T10:10:28.736177Z",
     "iopub.status.busy": "2022-08-11T10:10:28.735611Z",
     "iopub.status.idle": "2022-08-11T10:10:29.361487Z",
     "shell.execute_reply": "2022-08-11T10:10:29.360973Z"
    },
    "papermill": {
     "duration": 0.654339,
     "end_time": "2022-08-11T10:10:29.361597",
     "exception": false,
     "start_time": "2022-08-11T10:10:28.707258",
     "status": "completed"
    },
    "tags": []
   },
   "outputs": [],
   "source": [
    "train_images = mnist.train_images()\n",
    "train_labels = mnist.train_labels()"
   ]
  },
  {
   "cell_type": "code",
   "execution_count": 6,
   "id": "dceab3a5",
   "metadata": {
    "execution": {
     "iopub.execute_input": "2022-08-11T10:10:29.418662Z",
     "iopub.status.busy": "2022-08-11T10:10:29.417465Z",
     "iopub.status.idle": "2022-08-11T10:10:29.431259Z",
     "shell.execute_reply": "2022-08-11T10:10:29.430794Z"
    },
    "papermill": {
     "duration": 0.044412,
     "end_time": "2022-08-11T10:10:29.431366",
     "exception": false,
     "start_time": "2022-08-11T10:10:29.386954",
     "status": "completed"
    },
    "tags": []
   },
   "outputs": [
    {
     "data": {
      "text/plain": [
       "((60000, 28, 28), (60000,))"
      ]
     },
     "execution_count": 6,
     "metadata": {},
     "output_type": "execute_result"
    }
   ],
   "source": [
    "train_images.shape, train_labels.shape"
   ]
  },
  {
   "cell_type": "code",
   "execution_count": 7,
   "id": "f50dc2bb",
   "metadata": {
    "execution": {
     "iopub.execute_input": "2022-08-11T10:10:29.485412Z",
     "iopub.status.busy": "2022-08-11T10:10:29.484857Z",
     "iopub.status.idle": "2022-08-11T10:10:29.720276Z",
     "shell.execute_reply": "2022-08-11T10:10:29.719773Z"
    },
    "papermill": {
     "duration": 0.263755,
     "end_time": "2022-08-11T10:10:29.720390",
     "exception": false,
     "start_time": "2022-08-11T10:10:29.456635",
     "status": "completed"
    },
    "tags": []
   },
   "outputs": [],
   "source": [
    "test_images = mnist.test_images()\n",
    "test_labels = mnist.test_labels()"
   ]
  },
  {
   "cell_type": "code",
   "execution_count": 8,
   "id": "fc38cf1b",
   "metadata": {
    "execution": {
     "iopub.execute_input": "2022-08-11T10:10:29.774421Z",
     "iopub.status.busy": "2022-08-11T10:10:29.773853Z",
     "iopub.status.idle": "2022-08-11T10:10:29.786778Z",
     "shell.execute_reply": "2022-08-11T10:10:29.786220Z"
    },
    "papermill": {
     "duration": 0.041024,
     "end_time": "2022-08-11T10:10:29.786881",
     "exception": false,
     "start_time": "2022-08-11T10:10:29.745857",
     "status": "completed"
    },
    "tags": []
   },
   "outputs": [
    {
     "data": {
      "text/plain": [
       "((10000, 28, 28), (10000,))"
      ]
     },
     "execution_count": 8,
     "metadata": {},
     "output_type": "execute_result"
    }
   ],
   "source": [
    "test_images.shape, test_labels.shape"
   ]
  },
  {
   "cell_type": "code",
   "execution_count": 9,
   "id": "f9ed8fe0",
   "metadata": {
    "execution": {
     "iopub.execute_input": "2022-08-11T10:10:29.841160Z",
     "iopub.status.busy": "2022-08-11T10:10:29.840607Z",
     "iopub.status.idle": "2022-08-11T10:10:29.973019Z",
     "shell.execute_reply": "2022-08-11T10:10:29.973453Z"
    },
    "papermill": {
     "duration": 0.161371,
     "end_time": "2022-08-11T10:10:29.973580",
     "exception": false,
     "start_time": "2022-08-11T10:10:29.812209",
     "status": "completed"
    },
    "tags": []
   },
   "outputs": [
    {
     "name": "stdout",
     "output_type": "stream",
     "text": [
      "2\n"
     ]
    },
    {
     "data": {
      "text/plain": [
       "<matplotlib.image.AxesImage at 0x7f826d579518>"
      ]
     },
     "execution_count": 9,
     "metadata": {},
     "output_type": "execute_result"
    },
    {
     "data": {
      "image/png": "[encoded data removed]",
      "text/plain": [
       "<Figure size 432x288 with 1 Axes>"
      ]
     },
     "metadata": {
      "needs_background": "light"
     },
     "output_type": "display_data"
    }
   ],
   "source": [
    "image_index = 7776 # You may select anything up to 60,000\n",
    "print(train_labels[image_index]) \n",
    "plt.imshow(train_images[image_index], cmap='Greys')"
   ]
  },
  {
   "cell_type": "markdown",
   "id": "a8d2388d",
   "metadata": {
    "papermill": {
     "duration": 0.026911,
     "end_time": "2022-08-11T10:10:30.027165",
     "exception": false,
     "start_time": "2022-08-11T10:10:30.000254",
     "status": "completed"
    },
    "tags": []
   },
   "source": [
    "## Filter data to get 3 and 8 out"
   ]
  },
  {
   "cell_type": "code",
   "execution_count": 10,
   "id": "776f7fc7",
   "metadata": {
    "execution": {
     "iopub.execute_input": "2022-08-11T10:10:30.084877Z",
     "iopub.status.busy": "2022-08-11T10:10:30.084303Z",
     "iopub.status.idle": "2022-08-11T10:10:30.099025Z",
     "shell.execute_reply": "2022-08-11T10:10:30.098528Z"
    },
    "papermill": {
     "duration": 0.045345,
     "end_time": "2022-08-11T10:10:30.099131",
     "exception": false,
     "start_time": "2022-08-11T10:10:30.053786",
     "status": "completed"
    },
    "tags": []
   },
   "outputs": [],
   "source": [
    "train_filter = np.where((train_labels == 3 ) | (train_labels == 8))\n",
    "test_filter = np.where((test_labels == 3) | (test_labels == 8))\n",
    "X_train, y_train = train_images[train_filter], train_labels[train_filter]\n",
    "X_test, y_test = test_images[test_filter], test_labels[test_filter]"
   ]
  },
  {
   "cell_type": "markdown",
   "id": "948f0b7e",
   "metadata": {
    "papermill": {
     "duration": 0.026581,
     "end_time": "2022-08-11T10:10:30.152930",
     "exception": false,
     "start_time": "2022-08-11T10:10:30.126349",
     "status": "completed"
    },
    "tags": []
   },
   "source": [
    "We normalize the pizel values in the 0 to 1 range"
   ]
  },
  {
   "cell_type": "code",
   "execution_count": 11,
   "id": "ee4c2166",
   "metadata": {
    "execution": {
     "iopub.execute_input": "2022-08-11T10:10:30.209630Z",
     "iopub.status.busy": "2022-08-11T10:10:30.209080Z",
     "iopub.status.idle": "2022-08-11T10:10:30.247664Z",
     "shell.execute_reply": "2022-08-11T10:10:30.247187Z"
    },
    "papermill": {
     "duration": 0.068175,
     "end_time": "2022-08-11T10:10:30.247775",
     "exception": false,
     "start_time": "2022-08-11T10:10:30.179600",
     "status": "completed"
    },
    "tags": []
   },
   "outputs": [],
   "source": [
    "X_train = X_train/255.\n",
    "X_test = X_test/255."
   ]
  },
  {
   "cell_type": "markdown",
   "id": "ddcf4fab",
   "metadata": {
    "papermill": {
     "duration": 0.026617,
     "end_time": "2022-08-11T10:10:30.301209",
     "exception": false,
     "start_time": "2022-08-11T10:10:30.274592",
     "status": "completed"
    },
    "tags": []
   },
   "source": [
    "And setup the labels as 1 (when the digit is 3) and 0 (when the digit is 8)"
   ]
  },
  {
   "cell_type": "code",
   "execution_count": 12,
   "id": "7dc908f2",
   "metadata": {
    "execution": {
     "iopub.execute_input": "2022-08-11T10:10:30.358673Z",
     "iopub.status.busy": "2022-08-11T10:10:30.358112Z",
     "iopub.status.idle": "2022-08-11T10:10:30.369584Z",
     "shell.execute_reply": "2022-08-11T10:10:30.369143Z"
    },
    "papermill": {
     "duration": 0.04178,
     "end_time": "2022-08-11T10:10:30.369684",
     "exception": false,
     "start_time": "2022-08-11T10:10:30.327904",
     "status": "completed"
    },
    "tags": []
   },
   "outputs": [],
   "source": [
    "y_train = 1*(y_train==3)\n",
    "y_test = 1*(y_test==3)"
   ]
  },
  {
   "cell_type": "code",
   "execution_count": 13,
   "id": "01e4e969",
   "metadata": {
    "execution": {
     "iopub.execute_input": "2022-08-11T10:10:30.426748Z",
     "iopub.status.busy": "2022-08-11T10:10:30.426139Z",
     "iopub.status.idle": "2022-08-11T10:10:30.439786Z",
     "shell.execute_reply": "2022-08-11T10:10:30.440192Z"
    },
    "papermill": {
     "duration": 0.043938,
     "end_time": "2022-08-11T10:10:30.440312",
     "exception": false,
     "start_time": "2022-08-11T10:10:30.396374",
     "status": "completed"
    },
    "tags": []
   },
   "outputs": [
    {
     "data": {
      "text/plain": [
       "((11982, 28, 28), (1984, 28, 28))"
      ]
     },
     "execution_count": 13,
     "metadata": {},
     "output_type": "execute_result"
    }
   ],
   "source": [
    "X_train.shape, X_test.shape"
   ]
  },
  {
   "cell_type": "markdown",
   "id": "5ccf3f85",
   "metadata": {
    "papermill": {
     "duration": 0.026723,
     "end_time": "2022-08-11T10:10:30.493831",
     "exception": false,
     "start_time": "2022-08-11T10:10:30.467108",
     "status": "completed"
    },
    "tags": []
   },
   "source": [
    "We reshape the data to flatten the image pixels into a set of features or co-variates:"
   ]
  },
  {
   "cell_type": "code",
   "execution_count": 14,
   "id": "5286a4a3",
   "metadata": {
    "execution": {
     "iopub.execute_input": "2022-08-11T10:10:30.554889Z",
     "iopub.status.busy": "2022-08-11T10:10:30.552476Z",
     "iopub.status.idle": "2022-08-11T10:10:30.565772Z",
     "shell.execute_reply": "2022-08-11T10:10:30.566184Z"
    },
    "papermill": {
     "duration": 0.045521,
     "end_time": "2022-08-11T10:10:30.566306",
     "exception": false,
     "start_time": "2022-08-11T10:10:30.520785",
     "status": "completed"
    },
    "tags": []
   },
   "outputs": [
    {
     "data": {
      "text/plain": [
       "((11982, 784), (1984, 784))"
      ]
     },
     "execution_count": 14,
     "metadata": {},
     "output_type": "execute_result"
    }
   ],
   "source": [
    "X_train = X_train.reshape(X_train.shape[0], -1)\n",
    "X_test = X_test.reshape(X_test.shape[0], -1)\n",
    "X_train.shape, X_test.shape"
   ]
  },
  {
   "cell_type": "code",
   "execution_count": 15,
   "id": "73c5f88a",
   "metadata": {
    "execution": {
     "iopub.execute_input": "2022-08-11T10:10:30.624357Z",
     "iopub.status.busy": "2022-08-11T10:10:30.623789Z",
     "iopub.status.idle": "2022-08-11T10:10:30.643141Z",
     "shell.execute_reply": "2022-08-11T10:10:30.642638Z"
    },
    "papermill": {
     "duration": 0.049799,
     "end_time": "2022-08-11T10:10:30.643243",
     "exception": false,
     "start_time": "2022-08-11T10:10:30.593444",
     "status": "completed"
    },
    "tags": []
   },
   "outputs": [],
   "source": [
    "#Impoting functions from 'Kudzu'\n",
    "from kudzu.model import Model\n",
    "from kudzu.train import Learner\n",
    "from kudzu.optim import GD\n",
    "from kudzu.data import Data, Sampler,Dataloader\n",
    "\n",
    "from kudzu.callbacks import AccCallback\n",
    "from kudzu.callbacks import ClfCallback\n",
    "\n",
    "from kudzu.loss import MSE\n",
    "\n",
    "from kudzu.layer import Sigmoid,Relu\n",
    "from kudzu.layer import Affine"
   ]
  },
  {
   "cell_type": "markdown",
   "id": "bc01172a",
   "metadata": {
    "papermill": {
     "duration": 0.027349,
     "end_time": "2022-08-11T10:10:30.697797",
     "exception": false,
     "start_time": "2022-08-11T10:10:30.670448",
     "status": "completed"
    },
    "tags": []
   },
   "source": [
    "### Let us create a `Config` class, to store important parameters. \n",
    "This class essentially plays the role of a dictionary."
   ]
  },
  {
   "cell_type": "code",
   "execution_count": 16,
   "id": "978281aa",
   "metadata": {
    "execution": {
     "iopub.execute_input": "2022-08-11T10:10:30.756118Z",
     "iopub.status.busy": "2022-08-11T10:10:30.755559Z",
     "iopub.status.idle": "2022-08-11T10:10:30.767334Z",
     "shell.execute_reply": "2022-08-11T10:10:30.766887Z"
    },
    "papermill": {
     "duration": 0.042492,
     "end_time": "2022-08-11T10:10:30.767436",
     "exception": false,
     "start_time": "2022-08-11T10:10:30.724944",
     "status": "completed"
    },
    "tags": []
   },
   "outputs": [],
   "source": [
    "class Config:\n",
    "    pass\n",
    "config = Config()\n",
    "config.lr = 0.001\n",
    "config.num_epochs = 250\n",
    "config.bs = 50"
   ]
  },
  {
   "cell_type": "markdown",
   "id": "1385fa59",
   "metadata": {
    "papermill": {
     "duration": 0.02703,
     "end_time": "2022-08-11T10:10:30.821604",
     "exception": false,
     "start_time": "2022-08-11T10:10:30.794574",
     "status": "completed"
    },
    "tags": []
   },
   "source": [
    "### Running Models with the Training data\n",
    "Details about the network layers:\n",
    "- A first affine layer has 784 inputs and does 100 affine transforms. These are followed by a Relu\n",
    "- A second affine layer has 100 inputs from the 100 activations of the past layer, and does 100 affine transforms. These are followed by a Relu\n",
    "- A third affine layer has 100 activations and does 2 affine transformations to create an embedding for visualization. There is no non-linearity here.\n",
    "- A final \"logistic regression\" which has an affine transform from 2 inputs to 1 output, which is squeezed through a sigmoid.\n"
   ]
  },
  {
   "cell_type": "code",
   "execution_count": 17,
   "id": "2b9c66db",
   "metadata": {
    "execution": {
     "iopub.execute_input": "2022-08-11T10:10:30.883324Z",
     "iopub.status.busy": "2022-08-11T10:10:30.880868Z",
     "iopub.status.idle": "2022-08-11T10:10:30.892993Z",
     "shell.execute_reply": "2022-08-11T10:10:30.892546Z"
    },
    "papermill": {
     "duration": 0.044368,
     "end_time": "2022-08-11T10:10:30.893090",
     "exception": false,
     "start_time": "2022-08-11T10:10:30.848722",
     "status": "completed"
    },
    "tags": []
   },
   "outputs": [],
   "source": [
    "data = Data(X_train, y_train.reshape(-1,1))\n",
    "sampler = Sampler(data, config.bs, shuffle=True)\n",
    "\n",
    "dl = Dataloader(data, sampler)\n",
    "\n",
    "opt = GD(config.lr)\n",
    "loss = MSE()"
   ]
  },
  {
   "cell_type": "code",
   "execution_count": 18,
   "id": "b275e4c2",
   "metadata": {
    "execution": {
     "iopub.execute_input": "2022-08-11T10:10:30.950642Z",
     "iopub.status.busy": "2022-08-11T10:10:30.950072Z",
     "iopub.status.idle": "2022-08-11T10:10:30.962353Z",
     "shell.execute_reply": "2022-08-11T10:10:30.961907Z"
    },
    "papermill": {
     "duration": 0.042386,
     "end_time": "2022-08-11T10:10:30.962457",
     "exception": false,
     "start_time": "2022-08-11T10:10:30.920071",
     "status": "completed"
    },
    "tags": []
   },
   "outputs": [],
   "source": [
    "training_data_x = X_train\n",
    "testing_data_x = X_test\n",
    "training_data_y = y_train.reshape(-1,1)\n",
    "testing_data_y = y_test.reshape(-1,1)"
   ]
  },
  {
   "cell_type": "code",
   "execution_count": 19,
   "id": "76951160",
   "metadata": {
    "execution": {
     "iopub.execute_input": "2022-08-11T10:10:31.020720Z",
     "iopub.status.busy": "2022-08-11T10:10:31.020156Z",
     "iopub.status.idle": "2022-08-11T10:10:31.036173Z",
     "shell.execute_reply": "2022-08-11T10:10:31.036630Z"
    },
    "papermill": {
     "duration": 0.047254,
     "end_time": "2022-08-11T10:10:31.036750",
     "exception": false,
     "start_time": "2022-08-11T10:10:30.989496",
     "status": "completed"
    },
    "tags": []
   },
   "outputs": [
    {
     "name": "stdout",
     "output_type": "stream",
     "text": [
      "xavier\n",
      "xavier\n",
      "xavier\n",
      "xavier\n",
      "xavier\n"
     ]
    }
   ],
   "source": [
    "layers = [Affine(\"first\", 784, 100), Relu(\"first\"), Affine(\"second\", 100, 100), Relu(\"second\"), Affine(\"third\", 100, 2), Affine(\"last\", 2, 1), Sigmoid(\"last\")]\n",
    "model_nn = Model(layers)\n",
    "model_lr = Model([Affine(\"logits\", 784, 1), Sigmoid(\"sigmoid\")])"
   ]
  },
  {
   "cell_type": "code",
   "execution_count": 20,
   "id": "6eede77a",
   "metadata": {
    "execution": {
     "iopub.execute_input": "2022-08-11T10:10:31.094679Z",
     "iopub.status.busy": "2022-08-11T10:10:31.094124Z",
     "iopub.status.idle": "2022-08-11T10:10:31.106194Z",
     "shell.execute_reply": "2022-08-11T10:10:31.105749Z"
    },
    "papermill": {
     "duration": 0.042158,
     "end_time": "2022-08-11T10:10:31.106293",
     "exception": false,
     "start_time": "2022-08-11T10:10:31.064135",
     "status": "completed"
    },
    "tags": []
   },
   "outputs": [],
   "source": [
    "nn_learner = Learner(loss, model_nn, opt, config.num_epochs)\n",
    "acc_nn = ClfCallback(nn_learner, config.bs, training_data_x , testing_data_x, training_data_y, testing_data_y)\n",
    "nn_learner.set_callbacks([acc_nn])"
   ]
  },
  {
   "cell_type": "code",
   "execution_count": 21,
   "id": "877b6cc7",
   "metadata": {
    "execution": {
     "iopub.execute_input": "2022-08-11T10:10:31.164385Z",
     "iopub.status.busy": "2022-08-11T10:10:31.163838Z",
     "iopub.status.idle": "2022-08-11T10:10:31.175921Z",
     "shell.execute_reply": "2022-08-11T10:10:31.175474Z"
    },
    "papermill": {
     "duration": 0.042345,
     "end_time": "2022-08-11T10:10:31.176021",
     "exception": false,
     "start_time": "2022-08-11T10:10:31.133676",
     "status": "completed"
    },
    "tags": []
   },
   "outputs": [],
   "source": [
    "lr_learner = Learner(loss, model_lr, opt, config.num_epochs)\n",
    "acc_lr = ClfCallback(lr_learner, config.bs, training_data_x , testing_data_x, training_data_y, testing_data_y)\n",
    "lr_learner.set_callbacks([acc_lr])"
   ]
  },
  {
   "cell_type": "code",
   "execution_count": 22,
   "id": "d9b133c3",
   "metadata": {
    "execution": {
     "iopub.execute_input": "2022-08-11T10:10:31.234556Z",
     "iopub.status.busy": "2022-08-11T10:10:31.234000Z",
     "iopub.status.idle": "2022-08-11T10:13:27.527731Z",
     "shell.execute_reply": "2022-08-11T10:13:27.528186Z"
    },
    "papermill": {
     "duration": 176.324839,
     "end_time": "2022-08-11T10:13:27.528317",
     "exception": false,
     "start_time": "2022-08-11T10:10:31.203478",
     "status": "completed"
    },
    "tags": []
   },
   "outputs": [
    {
     "name": "stdout",
     "output_type": "stream",
     "text": [
      "Epoch 0, Loss 0.2415\n",
      "Training Accuracy: 0.5921, Testing Accuracy: 0.6074\n",
      "\n"
     ]
    },
    {
     "name": "stdout",
     "output_type": "stream",
     "text": [
      "Epoch 10, Loss 0.1319\n",
      "Training Accuracy: 0.9107, Testing Accuracy: 0.9249\n",
      "\n"
     ]
    },
    {
     "name": "stdout",
     "output_type": "stream",
     "text": [
      "Epoch 20, Loss 0.0701\n",
      "Training Accuracy: 0.9321, Testing Accuracy: 0.9446\n",
      "\n"
     ]
    },
    {
     "name": "stdout",
     "output_type": "stream",
     "text": [
      "Epoch 30, Loss 0.0516\n",
      "Training Accuracy: 0.9442, Testing Accuracy: 0.9536\n",
      "\n"
     ]
    },
    {
     "name": "stdout",
     "output_type": "stream",
     "text": [
      "Epoch 40, Loss 0.043\n",
      "Training Accuracy: 0.9519, Testing Accuracy: 0.9582\n",
      "\n"
     ]
    },
    {
     "name": "stdout",
     "output_type": "stream",
     "text": [
      "Epoch 50, Loss 0.0379\n",
      "Training Accuracy: 0.9573, Testing Accuracy: 0.9642\n",
      "\n"
     ]
    },
    {
     "name": "stdout",
     "output_type": "stream",
     "text": [
      "Epoch 60, Loss 0.0345\n",
      "Training Accuracy: 0.9616, Testing Accuracy: 0.9662\n",
      "\n"
     ]
    },
    {
     "name": "stdout",
     "output_type": "stream",
     "text": [
      "Epoch 70, Loss 0.0321\n",
      "Training Accuracy: 0.9639, Testing Accuracy: 0.9682\n",
      "\n"
     ]
    },
    {
     "name": "stdout",
     "output_type": "stream",
     "text": [
      "Epoch 80, Loss 0.0302\n",
      "Training Accuracy: 0.9656, Testing Accuracy: 0.9698\n",
      "\n"
     ]
    },
    {
     "name": "stdout",
     "output_type": "stream",
     "text": [
      "Epoch 90, Loss 0.0287\n",
      "Training Accuracy: 0.9674, Testing Accuracy: 0.9688\n",
      "\n"
     ]
    },
    {
     "name": "stdout",
     "output_type": "stream",
     "text": [
      "Epoch 100, Loss 0.0274\n",
      "Training Accuracy: 0.9690, Testing Accuracy: 0.9688\n",
      "\n"
     ]
    },
    {
     "name": "stdout",
     "output_type": "stream",
     "text": [
      "Epoch 110, Loss 0.0264\n",
      "Training Accuracy: 0.9705, Testing Accuracy: 0.9698\n",
      "\n"
     ]
    },
    {
     "name": "stdout",
     "output_type": "stream",
     "text": [
      "Epoch 120, Loss 0.0254\n",
      "Training Accuracy: 0.9716, Testing Accuracy: 0.9708\n",
      "\n"
     ]
    },
    {
     "name": "stdout",
     "output_type": "stream",
     "text": [
      "Epoch 130, Loss 0.0246\n",
      "Training Accuracy: 0.9725, Testing Accuracy: 0.9713\n",
      "\n"
     ]
    },
    {
     "name": "stdout",
     "output_type": "stream",
     "text": [
      "Epoch 140, Loss 0.0239\n",
      "Training Accuracy: 0.9731, Testing Accuracy: 0.9723\n",
      "\n"
     ]
    },
    {
     "name": "stdout",
     "output_type": "stream",
     "text": [
      "Epoch 150, Loss 0.0232\n",
      "Training Accuracy: 0.9735, Testing Accuracy: 0.9728\n",
      "\n"
     ]
    },
    {
     "name": "stdout",
     "output_type": "stream",
     "text": [
      "Epoch 160, Loss 0.0226\n",
      "Training Accuracy: 0.9743, Testing Accuracy: 0.9733\n",
      "\n"
     ]
    },
    {
     "name": "stdout",
     "output_type": "stream",
     "text": [
      "Epoch 170, Loss 0.022\n",
      "Training Accuracy: 0.9750, Testing Accuracy: 0.9733\n",
      "\n"
     ]
    },
    {
     "name": "stdout",
     "output_type": "stream",
     "text": [
      "Epoch 180, Loss 0.0215\n",
      "Training Accuracy: 0.9755, Testing Accuracy: 0.9748\n",
      "\n"
     ]
    },
    {
     "name": "stdout",
     "output_type": "stream",
     "text": [
      "Epoch 190, Loss 0.021\n",
      "Training Accuracy: 0.9764, Testing Accuracy: 0.9743\n",
      "\n"
     ]
    },
    {
     "name": "stdout",
     "output_type": "stream",
     "text": [
      "Epoch 200, Loss 0.0205\n",
      "Training Accuracy: 0.9770, Testing Accuracy: 0.9738\n",
      "\n"
     ]
    },
    {
     "name": "stdout",
     "output_type": "stream",
     "text": [
      "Epoch 210, Loss 0.02\n",
      "Training Accuracy: 0.9776, Testing Accuracy: 0.9743\n",
      "\n"
     ]
    },
    {
     "name": "stdout",
     "output_type": "stream",
     "text": [
      "Epoch 220, Loss 0.0196\n",
      "Training Accuracy: 0.9781, Testing Accuracy: 0.9748\n",
      "\n"
     ]
    },
    {
     "name": "stdout",
     "output_type": "stream",
     "text": [
      "Epoch 230, Loss 0.0192\n",
      "Training Accuracy: 0.9786, Testing Accuracy: 0.9758\n",
      "\n"
     ]
    },
    {
     "name": "stdout",
     "output_type": "stream",
     "text": [
      "Epoch 240, Loss 0.0188\n",
      "Training Accuracy: 0.9791, Testing Accuracy: 0.9763\n",
      "\n"
     ]
    },
    {
     "data": {
      "text/plain": [
       "0.006177743654911699"
      ]
     },
     "execution_count": 22,
     "metadata": {},
     "output_type": "execute_result"
    }
   ],
   "source": [
    "nn_learner.train_loop(dl)"
   ]
  },
  {
   "cell_type": "code",
   "execution_count": 23,
   "id": "e0163366",
   "metadata": {
    "execution": {
     "iopub.execute_input": "2022-08-11T10:13:27.604437Z",
     "iopub.status.busy": "2022-08-11T10:13:27.602927Z",
     "iopub.status.idle": "2022-08-11T10:13:39.676466Z",
     "shell.execute_reply": "2022-08-11T10:13:39.677274Z"
    },
    "papermill": {
     "duration": 12.11347,
     "end_time": "2022-08-11T10:13:39.677411",
     "exception": false,
     "start_time": "2022-08-11T10:13:27.563941",
     "status": "completed"
    },
    "tags": []
   },
   "outputs": [
    {
     "name": "stdout",
     "output_type": "stream",
     "text": [
      "Epoch 0, Loss 0.2515\n",
      "Training Accuracy: 0.6546, Testing Accuracy: 0.6557\n",
      "\n"
     ]
    },
    {
     "name": "stdout",
     "output_type": "stream",
     "text": [
      "Epoch 10, Loss 0.1031\n",
      "Training Accuracy: 0.9099, Testing Accuracy: 0.9224\n",
      "\n"
     ]
    },
    {
     "name": "stdout",
     "output_type": "stream",
     "text": [
      "Epoch 20, Loss 0.0791\n",
      "Training Accuracy: 0.9286, Testing Accuracy: 0.9420\n",
      "\n"
     ]
    },
    {
     "name": "stdout",
     "output_type": "stream",
     "text": [
      "Epoch 30, Loss 0.0682\n",
      "Training Accuracy: 0.9371, Testing Accuracy: 0.9496\n",
      "\n"
     ]
    },
    {
     "name": "stdout",
     "output_type": "stream",
     "text": [
      "Epoch 40, Loss 0.0616\n",
      "Training Accuracy: 0.9413, Testing Accuracy: 0.9531\n",
      "\n"
     ]
    },
    {
     "name": "stdout",
     "output_type": "stream",
     "text": [
      "Epoch 50, Loss 0.0571\n",
      "Training Accuracy: 0.9441, Testing Accuracy: 0.9556\n",
      "\n"
     ]
    },
    {
     "name": "stdout",
     "output_type": "stream",
     "text": [
      "Epoch 60, Loss 0.0538\n",
      "Training Accuracy: 0.9468, Testing Accuracy: 0.9587\n",
      "\n"
     ]
    },
    {
     "name": "stdout",
     "output_type": "stream",
     "text": [
      "Epoch 70, Loss 0.0513\n",
      "Training Accuracy: 0.9488, Testing Accuracy: 0.9597\n",
      "\n"
     ]
    },
    {
     "name": "stdout",
     "output_type": "stream",
     "text": [
      "Epoch 80, Loss 0.0493\n",
      "Training Accuracy: 0.9499, Testing Accuracy: 0.9612\n",
      "\n"
     ]
    },
    {
     "name": "stdout",
     "output_type": "stream",
     "text": [
      "Epoch 90, Loss 0.0476\n",
      "Training Accuracy: 0.9510, Testing Accuracy: 0.9612\n",
      "\n"
     ]
    },
    {
     "name": "stdout",
     "output_type": "stream",
     "text": [
      "Epoch 100, Loss 0.0461\n",
      "Training Accuracy: 0.9523, Testing Accuracy: 0.9627\n",
      "\n"
     ]
    },
    {
     "name": "stdout",
     "output_type": "stream",
     "text": [
      "Epoch 110, Loss 0.0449\n",
      "Training Accuracy: 0.9528, Testing Accuracy: 0.9632\n",
      "\n"
     ]
    },
    {
     "name": "stdout",
     "output_type": "stream",
     "text": [
      "Epoch 120, Loss 0.0438\n",
      "Training Accuracy: 0.9537, Testing Accuracy: 0.9632\n",
      "\n"
     ]
    },
    {
     "name": "stdout",
     "output_type": "stream",
     "text": [
      "Epoch 130, Loss 0.0429\n",
      "Training Accuracy: 0.9546, Testing Accuracy: 0.9647\n",
      "\n"
     ]
    },
    {
     "name": "stdout",
     "output_type": "stream",
     "text": [
      "Epoch 140, Loss 0.0421\n",
      "Training Accuracy: 0.9555, Testing Accuracy: 0.9652\n",
      "\n"
     ]
    },
    {
     "name": "stdout",
     "output_type": "stream",
     "text": [
      "Epoch 150, Loss 0.0413\n",
      "Training Accuracy: 0.9559, Testing Accuracy: 0.9647\n",
      "\n"
     ]
    },
    {
     "name": "stdout",
     "output_type": "stream",
     "text": [
      "Epoch 160, Loss 0.0406\n",
      "Training Accuracy: 0.9565, Testing Accuracy: 0.9657\n",
      "\n"
     ]
    },
    {
     "name": "stdout",
     "output_type": "stream",
     "text": [
      "Epoch 170, Loss 0.04\n",
      "Training Accuracy: 0.9571, Testing Accuracy: 0.9657\n",
      "\n"
     ]
    },
    {
     "name": "stdout",
     "output_type": "stream",
     "text": [
      "Epoch 180, Loss 0.0395\n",
      "Training Accuracy: 0.9579, Testing Accuracy: 0.9667\n",
      "\n"
     ]
    },
    {
     "name": "stdout",
     "output_type": "stream",
     "text": [
      "Epoch 190, Loss 0.0389\n",
      "Training Accuracy: 0.9581, Testing Accuracy: 0.9677\n",
      "\n"
     ]
    },
    {
     "name": "stdout",
     "output_type": "stream",
     "text": [
      "Epoch 200, Loss 0.0385\n",
      "Training Accuracy: 0.9590, Testing Accuracy: 0.9677\n",
      "\n"
     ]
    },
    {
     "name": "stdout",
     "output_type": "stream",
     "text": [
      "Epoch 210, Loss 0.038\n",
      "Training Accuracy: 0.9594, Testing Accuracy: 0.9677\n",
      "\n"
     ]
    },
    {
     "name": "stdout",
     "output_type": "stream",
     "text": [
      "Epoch 220, Loss 0.0376\n",
      "Training Accuracy: 0.9596, Testing Accuracy: 0.9677\n",
      "\n"
     ]
    },
    {
     "name": "stdout",
     "output_type": "stream",
     "text": [
      "Epoch 230, Loss 0.0372\n",
      "Training Accuracy: 0.9599, Testing Accuracy: 0.9677\n",
      "\n"
     ]
    },
    {
     "name": "stdout",
     "output_type": "stream",
     "text": [
      "Epoch 240, Loss 0.0368\n",
      "Training Accuracy: 0.9604, Testing Accuracy: 0.9677\n",
      "\n"
     ]
    },
    {
     "data": {
      "text/plain": [
       "0.07916067881537804"
      ]
     },
     "execution_count": 23,
     "metadata": {},
     "output_type": "execute_result"
    }
   ],
   "source": [
    "lr_learner.train_loop(dl)"
   ]
  },
  {
   "cell_type": "code",
   "execution_count": 24,
   "id": "ca410940",
   "metadata": {
    "execution": {
     "iopub.execute_input": "2022-08-11T10:13:39.769260Z",
     "iopub.status.busy": "2022-08-11T10:13:39.768690Z",
     "iopub.status.idle": "2022-08-11T10:13:39.997788Z",
     "shell.execute_reply": "2022-08-11T10:13:39.997231Z"
    },
    "papermill": {
     "duration": 0.278967,
     "end_time": "2022-08-11T10:13:39.997897",
     "exception": false,
     "start_time": "2022-08-11T10:13:39.718930",
     "status": "completed"
    },
    "tags": []
   },
   "outputs": [
    {
     "data": {
      "text/plain": [
       "<matplotlib.legend.Legend at 0x7f826092bcc0>"
      ]
     },
     "execution_count": 24,
     "metadata": {},
     "output_type": "execute_result"
    },
    {
     "data": {
      "image/png": "[encoded data removed]",
      "text/plain": [
       "<Figure size 1080x720 with 1 Axes>"
      ]
     },
     "metadata": {
      "needs_background": "light"
     },
     "output_type": "display_data"
    }
   ],
   "source": [
    "#comparing the results of NN and LR\n",
    "plt.figure(figsize=(15,10))\n",
    "\n",
    "# Neural Network plots\n",
    "plt.plot(acc_nn.accuracies, 'r-', label = \"Training Accuracies - NN\")\n",
    "plt.plot(acc_nn.test_accuracies, 'g-', label = \"Testing Accuracies - NN\")\n",
    "\n",
    "# Logistic Regression plots\n",
    "plt.plot(acc_lr.accuracies, 'k-', label = \"Training Accuracies - LR\")\n",
    "plt.plot(acc_lr.test_accuracies, 'b-', label = \"Testing Accuracies - LR\")\n",
    "plt.legend()"
   ]
  },
  {
   "cell_type": "markdown",
   "id": "80dfb35c",
   "metadata": {
    "papermill": {
     "duration": 0.042064,
     "end_time": "2022-08-11T10:13:40.082413",
     "exception": false,
     "start_time": "2022-08-11T10:13:40.040349",
     "status": "completed"
    },
    "tags": []
   },
   "source": [
    "#### Plotting the outputs of this layer of the NN.\n"
   ]
  },
  {
   "cell_type": "code",
   "execution_count": 25,
   "id": "45eb2ff5",
   "metadata": {
    "execution": {
     "iopub.execute_input": "2022-08-11T10:13:40.172342Z",
     "iopub.status.busy": "2022-08-11T10:13:40.170823Z",
     "iopub.status.idle": "2022-08-11T10:13:40.206930Z",
     "shell.execute_reply": "2022-08-11T10:13:40.206015Z"
    },
    "papermill": {
     "duration": 0.082613,
     "end_time": "2022-08-11T10:13:40.207052",
     "exception": false,
     "start_time": "2022-08-11T10:13:40.124439",
     "status": "completed"
    },
    "tags": []
   },
   "outputs": [],
   "source": [
    "new_model = Model(layers[:-2])\n",
    "testing_plot = new_model(testing_data_x)"
   ]
  },
  {
   "cell_type": "code",
   "execution_count": 26,
   "id": "4c0a5485",
   "metadata": {
    "execution": {
     "iopub.execute_input": "2022-08-11T10:13:40.300139Z",
     "iopub.status.busy": "2022-08-11T10:13:40.299588Z",
     "iopub.status.idle": "2022-08-11T10:13:40.489362Z",
     "shell.execute_reply": "2022-08-11T10:13:40.489782Z"
    },
    "papermill": {
     "duration": 0.239492,
     "end_time": "2022-08-11T10:13:40.489914",
     "exception": false,
     "start_time": "2022-08-11T10:13:40.250422",
     "status": "completed"
    },
    "tags": []
   },
   "outputs": [
    {
     "data": {
      "text/plain": [
       "Text(0.5, 1.0, 'Outputs')"
      ]
     },
     "execution_count": 26,
     "metadata": {},
     "output_type": "execute_result"
    },
    {
     "data": {
      "image/png": "[encoded data removed]",
      "text/plain": [
       "<Figure size 576x504 with 1 Axes>"
      ]
     },
     "metadata": {
      "needs_background": "light"
     },
     "output_type": "display_data"
    }
   ],
   "source": [
    "# Plotting the scatter plot of points and color coding by class\n",
    "plt.figure(figsize=(8,7))\n",
    "plt.scatter(testing_plot[:,0], testing_plot[:,1], alpha = 0.1, c = y_test.ravel());\n",
    "plt.title('Outputs')"
   ]
  },
  {
   "cell_type": "markdown",
   "id": "a74fcf8f",
   "metadata": {
    "papermill": {
     "duration": 0.044052,
     "end_time": "2022-08-11T10:13:40.599457",
     "exception": false,
     "start_time": "2022-08-11T10:13:40.555405",
     "status": "completed"
    },
    "tags": []
   },
   "source": [
    "Probability contours"
   ]
  },
  {
   "cell_type": "code",
   "execution_count": 27,
   "id": "d0afc8e3",
   "metadata": {
    "execution": {
     "iopub.execute_input": "2022-08-11T10:13:40.690936Z",
     "iopub.status.busy": "2022-08-11T10:13:40.690357Z",
     "iopub.status.idle": "2022-08-11T10:13:40.701873Z",
     "shell.execute_reply": "2022-08-11T10:13:40.702284Z"
    },
    "papermill": {
     "duration": 0.05896,
     "end_time": "2022-08-11T10:13:40.702403",
     "exception": false,
     "start_time": "2022-08-11T10:13:40.643443",
     "status": "completed"
    },
    "tags": []
   },
   "outputs": [],
   "source": [
    "model_prob = Model(layers[-2:]) "
   ]
  },
  {
   "cell_type": "code",
   "execution_count": 28,
   "id": "9b96e238",
   "metadata": {
    "execution": {
     "iopub.execute_input": "2022-08-11T10:13:40.794958Z",
     "iopub.status.busy": "2022-08-11T10:13:40.794382Z",
     "iopub.status.idle": "2022-08-11T10:13:40.808165Z",
     "shell.execute_reply": "2022-08-11T10:13:40.808556Z"
    },
    "papermill": {
     "duration": 0.062069,
     "end_time": "2022-08-11T10:13:40.808673",
     "exception": false,
     "start_time": "2022-08-11T10:13:40.746604",
     "status": "completed"
    },
    "tags": []
   },
   "outputs": [],
   "source": [
    "#creating the x and y ranges according to the above generated plot.\n",
    "x_range = np.linspace(-4, 1, 100) \n",
    "y_range = np.linspace(-6, 6, 100) \n",
    "x_grid, y_grid = np.meshgrid(x_range, y_range) # x_grid and y_grig are of size 100 X 100\n",
    "\n",
    "# converting x_grid and y_grid to continuous arrays\n",
    "x_gridflat = np.ravel(x_grid)\n",
    "y_gridflat = np.ravel(y_grid)\n",
    "\n",
    "# The last layer of the current model takes two columns as input. Hence transpose of np.vstack() is required.\n",
    "X = np.vstack((x_gridflat, y_gridflat)).T\n",
    "\n",
    "prob_contour = model_prob(X).reshape(100,100) "
   ]
  },
  {
   "cell_type": "code",
   "execution_count": 29,
   "id": "da72499a",
   "metadata": {
    "execution": {
     "iopub.execute_input": "2022-08-11T10:13:40.901073Z",
     "iopub.status.busy": "2022-08-11T10:13:40.900529Z",
     "iopub.status.idle": "2022-08-11T10:13:41.146358Z",
     "shell.execute_reply": "2022-08-11T10:13:41.145630Z"
    },
    "papermill": {
     "duration": 0.293715,
     "end_time": "2022-08-11T10:13:41.146469",
     "exception": false,
     "start_time": "2022-08-11T10:13:40.852754",
     "status": "completed"
    },
    "tags": []
   },
   "outputs": [
    {
     "data": {
      "image/png": "[encoded data removed]",
      "text/plain": [
       "<Figure size 720x648 with 1 Axes>"
      ]
     },
     "metadata": {
      "needs_background": "light"
     },
     "output_type": "display_data"
    }
   ],
   "source": [
    "plt.figure(figsize=(10,9))\n",
    "plt.scatter(testing_plot[:,0], testing_plot[:,1], alpha = 0.1, c = y_test.ravel())\n",
    "contours = plt.contour(x_grid,y_grid,prob_contour)\n",
    "plt.title('Probability Contours')\n",
    "plt.clabel(contours, inline = True );"
   ]
  },
  {
   "cell_type": "code",
   "execution_count": null,
   "id": "e81b4ac7",
   "metadata": {
    "papermill": {
     "duration": 0.047024,
     "end_time": "2022-08-11T10:13:41.240893",
     "exception": false,
     "start_time": "2022-08-11T10:13:41.193869",
     "status": "completed"
    },
    "tags": []
   },
   "outputs": [],
   "source": []
  }
 ],
 "metadata": {
  "kernelspec": {
   "display_name": "Python 3",
   "language": "python",
   "name": "python3"
  },
  "language_info": {
   "codemirror_mode": {
    "name": "ipython",
    "version": 3
   },
   "file_extension": ".py",
   "mimetype": "text/x-python",
   "name": "python",
   "nbconvert_exporter": "python",
   "pygments_lexer": "ipython3",
   "version": "3.6.15"
  },
  "papermill": {
   "default_parameters": {},
   "duration": 196.449661,
   "end_time": "2022-08-11T10:13:41.604839",
   "environment_variables": {},
   "exception": null,
   "input_path": "2020-08-11-part2.ipynb",
   "output_path": "2020-08-11-part2.ipynb",
   "parameters": {},
   "start_time": "2022-08-11T10:10:25.155178",
   "version": "2.3.3"
  }
 },
 "nbformat": 4,
 "nbformat_minor": 5
}