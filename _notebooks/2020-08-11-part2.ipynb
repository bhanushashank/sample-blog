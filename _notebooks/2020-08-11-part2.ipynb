{
 "cells": [
  {
   "cell_type": "markdown",
   "id": "98380cd3",
   "metadata": {
    "papermill": {
     "duration": 0.028529,
     "end_time": "2022-02-16T20:07:47.871407",
     "exception": false,
     "start_time": "2022-02-16T20:07:47.842878",
     "status": "completed"
    },
    "tags": []
   },
   "source": [
    "# Distinguish Your Own Digits (DYOD)"
   ]
  },
  {
   "cell_type": "markdown",
   "id": "ef31240d",
   "metadata": {
    "papermill": {
     "duration": 0.02559,
     "end_time": "2022-02-16T20:07:47.921680",
     "exception": false,
     "start_time": "2022-02-16T20:07:47.896090",
     "status": "completed"
    },
    "tags": []
   },
   "source": [
    "You are going to write a classifier that distinguishes between the number 3 and number 8."
   ]
  },
  {
   "cell_type": "code",
   "execution_count": 1,
   "id": "b15c8646",
   "metadata": {
    "execution": {
     "iopub.execute_input": "2022-02-16T20:07:47.980774Z",
     "iopub.status.busy": "2022-02-16T20:07:47.980230Z",
     "iopub.status.idle": "2022-02-16T20:07:47.990418Z",
     "shell.execute_reply": "2022-02-16T20:07:47.990813Z"
    },
    "papermill": {
     "duration": 0.045393,
     "end_time": "2022-02-16T20:07:47.990980",
     "exception": false,
     "start_time": "2022-02-16T20:07:47.945587",
     "status": "completed"
    },
    "tags": []
   },
   "outputs": [],
   "source": [
    "%load_ext autoreload\n",
    "%autoreload 2"
   ]
  },
  {
   "cell_type": "code",
   "execution_count": 2,
   "id": "22ef38dc",
   "metadata": {
    "execution": {
     "iopub.execute_input": "2022-02-16T20:07:48.043399Z",
     "iopub.status.busy": "2022-02-16T20:07:48.042868Z",
     "iopub.status.idle": "2022-02-16T20:07:48.636148Z",
     "shell.execute_reply": "2022-02-16T20:07:48.635599Z"
    },
    "papermill": {
     "duration": 0.621202,
     "end_time": "2022-02-16T20:07:48.636322",
     "exception": false,
     "start_time": "2022-02-16T20:07:48.015120",
     "status": "completed"
    },
    "tags": []
   },
   "outputs": [],
   "source": [
    "%matplotlib inline\n",
    "import numpy as np\n",
    "import matplotlib.pyplot as plt\n",
    "import pandas as pd"
   ]
  },
  {
   "cell_type": "markdown",
   "id": "ba036198",
   "metadata": {
    "papermill": {
     "duration": 0.024209,
     "end_time": "2022-02-16T20:07:48.685049",
     "exception": false,
     "start_time": "2022-02-16T20:07:48.660840",
     "status": "completed"
    },
    "tags": []
   },
   "source": [
    "From the command line run `pip install mnist`. This is a library that will help you bring down the mnist dataset. If you run this from a notebook, you need to put  `!pip install mnist` in a cell by itself."
   ]
  },
  {
   "cell_type": "code",
   "execution_count": 3,
   "id": "bb6ad8a1",
   "metadata": {
    "execution": {
     "iopub.execute_input": "2022-02-16T20:07:48.738184Z",
     "iopub.status.busy": "2022-02-16T20:07:48.737634Z",
     "iopub.status.idle": "2022-02-16T20:07:50.408656Z",
     "shell.execute_reply": "2022-02-16T20:07:50.407660Z"
    },
    "papermill": {
     "duration": 1.699591,
     "end_time": "2022-02-16T20:07:50.408808",
     "exception": false,
     "start_time": "2022-02-16T20:07:48.709217",
     "status": "completed"
    },
    "tags": []
   },
   "outputs": [
    {
     "name": "stdout",
     "output_type": "stream",
     "text": [
      "Collecting mnist\r\n"
     ]
    },
    {
     "name": "stdout",
     "output_type": "stream",
     "text": [
      "  Downloading mnist-0.2.2-py2.py3-none-any.whl (3.5 kB)\r\n",
      "Requirement already satisfied: numpy in /opt/hostedtoolcache/Python/3.6.15/x64/lib/python3.6/site-packages (from mnist) (1.19.5)\r\n"
     ]
    },
    {
     "name": "stdout",
     "output_type": "stream",
     "text": [
      "Installing collected packages: mnist\r\n"
     ]
    },
    {
     "name": "stdout",
     "output_type": "stream",
     "text": [
      "Successfully installed mnist-0.2.2\r\n"
     ]
    }
   ],
   "source": [
    "!pip install mnist"
   ]
  },
  {
   "cell_type": "markdown",
   "id": "69df9c9a",
   "metadata": {
    "papermill": {
     "duration": 0.025312,
     "end_time": "2022-02-16T20:07:50.459503",
     "exception": false,
     "start_time": "2022-02-16T20:07:50.434191",
     "status": "completed"
    },
    "tags": []
   },
   "source": [
    "## Preparing the Data"
   ]
  },
  {
   "cell_type": "code",
   "execution_count": 4,
   "id": "7f69d806",
   "metadata": {
    "execution": {
     "iopub.execute_input": "2022-02-16T20:07:50.514363Z",
     "iopub.status.busy": "2022-02-16T20:07:50.513833Z",
     "iopub.status.idle": "2022-02-16T20:07:50.528693Z",
     "shell.execute_reply": "2022-02-16T20:07:50.528276Z"
    },
    "papermill": {
     "duration": 0.044233,
     "end_time": "2022-02-16T20:07:50.528810",
     "exception": false,
     "start_time": "2022-02-16T20:07:50.484577",
     "status": "completed"
    },
    "tags": []
   },
   "outputs": [],
   "source": [
    "import mnist"
   ]
  },
  {
   "cell_type": "code",
   "execution_count": 5,
   "id": "a411e44f",
   "metadata": {
    "execution": {
     "iopub.execute_input": "2022-02-16T20:07:50.583559Z",
     "iopub.status.busy": "2022-02-16T20:07:50.583046Z",
     "iopub.status.idle": "2022-02-16T20:07:51.101875Z",
     "shell.execute_reply": "2022-02-16T20:07:51.101299Z"
    },
    "papermill": {
     "duration": 0.548058,
     "end_time": "2022-02-16T20:07:51.102028",
     "exception": false,
     "start_time": "2022-02-16T20:07:50.553970",
     "status": "completed"
    },
    "tags": []
   },
   "outputs": [],
   "source": [
    "train_images = mnist.train_images()\n",
    "train_labels = mnist.train_labels()"
   ]
  },
  {
   "cell_type": "code",
   "execution_count": 6,
   "id": "dceab3a5",
   "metadata": {
    "execution": {
     "iopub.execute_input": "2022-02-16T20:07:51.163908Z",
     "iopub.status.busy": "2022-02-16T20:07:51.163049Z",
     "iopub.status.idle": "2022-02-16T20:07:51.174577Z",
     "shell.execute_reply": "2022-02-16T20:07:51.174106Z"
    },
    "papermill": {
     "duration": 0.04636,
     "end_time": "2022-02-16T20:07:51.174692",
     "exception": false,
     "start_time": "2022-02-16T20:07:51.128332",
     "status": "completed"
    },
    "tags": []
   },
   "outputs": [
    {
     "data": {
      "text/plain": [
       "((60000, 28, 28), (60000,))"
      ]
     },
     "execution_count": 6,
     "metadata": {},
     "output_type": "execute_result"
    }
   ],
   "source": [
    "train_images.shape, train_labels.shape"
   ]
  },
  {
   "cell_type": "code",
   "execution_count": 7,
   "id": "f50dc2bb",
   "metadata": {
    "execution": {
     "iopub.execute_input": "2022-02-16T20:07:51.229801Z",
     "iopub.status.busy": "2022-02-16T20:07:51.229252Z",
     "iopub.status.idle": "2022-02-16T20:07:51.403537Z",
     "shell.execute_reply": "2022-02-16T20:07:51.403035Z"
    },
    "papermill": {
     "duration": 0.203021,
     "end_time": "2022-02-16T20:07:51.403674",
     "exception": false,
     "start_time": "2022-02-16T20:07:51.200653",
     "status": "completed"
    },
    "tags": []
   },
   "outputs": [],
   "source": [
    "test_images = mnist.test_images()\n",
    "test_labels = mnist.test_labels()"
   ]
  },
  {
   "cell_type": "code",
   "execution_count": 8,
   "id": "fc38cf1b",
   "metadata": {
    "execution": {
     "iopub.execute_input": "2022-02-16T20:07:51.466565Z",
     "iopub.status.busy": "2022-02-16T20:07:51.466019Z",
     "iopub.status.idle": "2022-02-16T20:07:51.475649Z",
     "shell.execute_reply": "2022-02-16T20:07:51.476090Z"
    },
    "papermill": {
     "duration": 0.046802,
     "end_time": "2022-02-16T20:07:51.476234",
     "exception": false,
     "start_time": "2022-02-16T20:07:51.429432",
     "status": "completed"
    },
    "tags": []
   },
   "outputs": [
    {
     "data": {
      "text/plain": [
       "((10000, 28, 28), (10000,))"
      ]
     },
     "execution_count": 8,
     "metadata": {},
     "output_type": "execute_result"
    }
   ],
   "source": [
    "test_images.shape, test_labels.shape"
   ]
  },
  {
   "cell_type": "code",
   "execution_count": 9,
   "id": "f9ed8fe0",
   "metadata": {
    "execution": {
     "iopub.execute_input": "2022-02-16T20:07:51.542361Z",
     "iopub.status.busy": "2022-02-16T20:07:51.540027Z",
     "iopub.status.idle": "2022-02-16T20:07:51.673169Z",
     "shell.execute_reply": "2022-02-16T20:07:51.673687Z"
    },
    "papermill": {
     "duration": 0.171913,
     "end_time": "2022-02-16T20:07:51.673853",
     "exception": false,
     "start_time": "2022-02-16T20:07:51.501940",
     "status": "completed"
    },
    "tags": []
   },
   "outputs": [
    {
     "name": "stdout",
     "output_type": "stream",
     "text": [
      "2\n"
     ]
    },
    {
     "data": {
      "text/plain": [
       "<matplotlib.image.AxesImage at 0x7f8f0d9b66a0>"
      ]
     },
     "execution_count": 9,
     "metadata": {},
     "output_type": "execute_result"
    },
    {
     "data": {
      "image/png": "[encoded data removed]",
      "text/plain": [
       "<Figure size 432x288 with 1 Axes>"
      ]
     },
     "metadata": {
      "needs_background": "light"
     },
     "output_type": "display_data"
    }
   ],
   "source": [
    "image_index = 7776 # You may select anything up to 60,000\n",
    "print(train_labels[image_index]) \n",
    "plt.imshow(train_images[image_index], cmap='Greys')"
   ]
  },
  {
   "cell_type": "markdown",
   "id": "a8d2388d",
   "metadata": {
    "papermill": {
     "duration": 0.026738,
     "end_time": "2022-02-16T20:07:51.728001",
     "exception": false,
     "start_time": "2022-02-16T20:07:51.701263",
     "status": "completed"
    },
    "tags": []
   },
   "source": [
    "## Filter data to get 3 and 8 out"
   ]
  },
  {
   "cell_type": "code",
   "execution_count": 10,
   "id": "776f7fc7",
   "metadata": {
    "execution": {
     "iopub.execute_input": "2022-02-16T20:07:51.799336Z",
     "iopub.status.busy": "2022-02-16T20:07:51.794598Z",
     "iopub.status.idle": "2022-02-16T20:07:51.805681Z",
     "shell.execute_reply": "2022-02-16T20:07:51.806079Z"
    },
    "papermill": {
     "duration": 0.051533,
     "end_time": "2022-02-16T20:07:51.806228",
     "exception": false,
     "start_time": "2022-02-16T20:07:51.754695",
     "status": "completed"
    },
    "tags": []
   },
   "outputs": [],
   "source": [
    "train_filter = np.where((train_labels == 3 ) | (train_labels == 8))\n",
    "test_filter = np.where((test_labels == 3) | (test_labels == 8))\n",
    "X_train, y_train = train_images[train_filter], train_labels[train_filter]\n",
    "X_test, y_test = test_images[test_filter], test_labels[test_filter]"
   ]
  },
  {
   "cell_type": "markdown",
   "id": "948f0b7e",
   "metadata": {
    "papermill": {
     "duration": 0.026702,
     "end_time": "2022-02-16T20:07:51.859827",
     "exception": false,
     "start_time": "2022-02-16T20:07:51.833125",
     "status": "completed"
    },
    "tags": []
   },
   "source": [
    "We normalize the pizel values in the 0 to 1 range"
   ]
  },
  {
   "cell_type": "code",
   "execution_count": 11,
   "id": "ee4c2166",
   "metadata": {
    "execution": {
     "iopub.execute_input": "2022-02-16T20:07:51.927686Z",
     "iopub.status.busy": "2022-02-16T20:07:51.918422Z",
     "iopub.status.idle": "2022-02-16T20:07:51.968283Z",
     "shell.execute_reply": "2022-02-16T20:07:51.968746Z"
    },
    "papermill": {
     "duration": 0.082241,
     "end_time": "2022-02-16T20:07:51.968920",
     "exception": false,
     "start_time": "2022-02-16T20:07:51.886679",
     "status": "completed"
    },
    "tags": []
   },
   "outputs": [],
   "source": [
    "X_train = X_train/255.\n",
    "X_test = X_test/255."
   ]
  },
  {
   "cell_type": "markdown",
   "id": "ddcf4fab",
   "metadata": {
    "papermill": {
     "duration": 0.026696,
     "end_time": "2022-02-16T20:07:52.023073",
     "exception": false,
     "start_time": "2022-02-16T20:07:51.996377",
     "status": "completed"
    },
    "tags": []
   },
   "source": [
    "And setup the labels as 1 (when the digit is 3) and 0 (when the digit is 8)"
   ]
  },
  {
   "cell_type": "code",
   "execution_count": 12,
   "id": "7dc908f2",
   "metadata": {
    "execution": {
     "iopub.execute_input": "2022-02-16T20:07:52.090922Z",
     "iopub.status.busy": "2022-02-16T20:07:52.083538Z",
     "iopub.status.idle": "2022-02-16T20:07:52.093672Z",
     "shell.execute_reply": "2022-02-16T20:07:52.093221Z"
    },
    "papermill": {
     "duration": 0.044117,
     "end_time": "2022-02-16T20:07:52.093796",
     "exception": false,
     "start_time": "2022-02-16T20:07:52.049679",
     "status": "completed"
    },
    "tags": []
   },
   "outputs": [],
   "source": [
    "y_train = 1*(y_train==3)\n",
    "y_test = 1*(y_test==3)"
   ]
  },
  {
   "cell_type": "code",
   "execution_count": 13,
   "id": "01e4e969",
   "metadata": {
    "execution": {
     "iopub.execute_input": "2022-02-16T20:07:52.150795Z",
     "iopub.status.busy": "2022-02-16T20:07:52.150275Z",
     "iopub.status.idle": "2022-02-16T20:07:52.163833Z",
     "shell.execute_reply": "2022-02-16T20:07:52.163395Z"
    },
    "papermill": {
     "duration": 0.043391,
     "end_time": "2022-02-16T20:07:52.163950",
     "exception": false,
     "start_time": "2022-02-16T20:07:52.120559",
     "status": "completed"
    },
    "tags": []
   },
   "outputs": [
    {
     "data": {
      "text/plain": [
       "((11982, 28, 28), (1984, 28, 28))"
      ]
     },
     "execution_count": 13,
     "metadata": {},
     "output_type": "execute_result"
    }
   ],
   "source": [
    "X_train.shape, X_test.shape"
   ]
  },
  {
   "cell_type": "markdown",
   "id": "5ccf3f85",
   "metadata": {
    "papermill": {
     "duration": 0.027354,
     "end_time": "2022-02-16T20:07:52.218222",
     "exception": false,
     "start_time": "2022-02-16T20:07:52.190868",
     "status": "completed"
    },
    "tags": []
   },
   "source": [
    "We reshape the data to flatten the image pixels into a set of features or co-variates:"
   ]
  },
  {
   "cell_type": "code",
   "execution_count": 14,
   "id": "5286a4a3",
   "metadata": {
    "execution": {
     "iopub.execute_input": "2022-02-16T20:07:52.277048Z",
     "iopub.status.busy": "2022-02-16T20:07:52.276512Z",
     "iopub.status.idle": "2022-02-16T20:07:52.289353Z",
     "shell.execute_reply": "2022-02-16T20:07:52.289759Z"
    },
    "papermill": {
     "duration": 0.044497,
     "end_time": "2022-02-16T20:07:52.289901",
     "exception": false,
     "start_time": "2022-02-16T20:07:52.245404",
     "status": "completed"
    },
    "tags": []
   },
   "outputs": [
    {
     "data": {
      "text/plain": [
       "((11982, 784), (1984, 784))"
      ]
     },
     "execution_count": 14,
     "metadata": {},
     "output_type": "execute_result"
    }
   ],
   "source": [
    "X_train = X_train.reshape(X_train.shape[0], -1)\n",
    "X_test = X_test.reshape(X_test.shape[0], -1)\n",
    "X_train.shape, X_test.shape"
   ]
  },
  {
   "cell_type": "code",
   "execution_count": 15,
   "id": "73c5f88a",
   "metadata": {
    "execution": {
     "iopub.execute_input": "2022-02-16T20:07:52.359046Z",
     "iopub.status.busy": "2022-02-16T20:07:52.358487Z",
     "iopub.status.idle": "2022-02-16T20:07:52.369065Z",
     "shell.execute_reply": "2022-02-16T20:07:52.369453Z"
    },
    "papermill": {
     "duration": 0.052502,
     "end_time": "2022-02-16T20:07:52.369595",
     "exception": false,
     "start_time": "2022-02-16T20:07:52.317093",
     "status": "completed"
    },
    "tags": []
   },
   "outputs": [],
   "source": [
    "#Impoting functions from 'Kudzu'\n",
    "from kudzu.model import Model\n",
    "from kudzu.train import Learner\n",
    "from kudzu.optim import GD\n",
    "from kudzu.data import Data, Sampler,Dataloader\n",
    "\n",
    "from kudzu.callbacks import AccCallback\n",
    "from kudzu.callbacks import ClfCallback\n",
    "\n",
    "from kudzu.loss import MSE\n",
    "\n",
    "from kudzu.layer import Sigmoid,Relu\n",
    "from kudzu.layer import Affine"
   ]
  },
  {
   "cell_type": "markdown",
   "id": "bc01172a",
   "metadata": {
    "papermill": {
     "duration": 0.027128,
     "end_time": "2022-02-16T20:07:52.424227",
     "exception": false,
     "start_time": "2022-02-16T20:07:52.397099",
     "status": "completed"
    },
    "tags": []
   },
   "source": [
    "### Let us create a `Config` class, to store important parameters. \n",
    "This class essentially plays the role of a dictionary."
   ]
  },
  {
   "cell_type": "code",
   "execution_count": 16,
   "id": "978281aa",
   "metadata": {
    "execution": {
     "iopub.execute_input": "2022-02-16T20:07:52.486768Z",
     "iopub.status.busy": "2022-02-16T20:07:52.486208Z",
     "iopub.status.idle": "2022-02-16T20:07:52.495589Z",
     "shell.execute_reply": "2022-02-16T20:07:52.495982Z"
    },
    "papermill": {
     "duration": 0.044759,
     "end_time": "2022-02-16T20:07:52.496119",
     "exception": false,
     "start_time": "2022-02-16T20:07:52.451360",
     "status": "completed"
    },
    "tags": []
   },
   "outputs": [],
   "source": [
    "class Config:\n",
    "    pass\n",
    "config = Config()\n",
    "config.lr = 0.001\n",
    "config.num_epochs = 250\n",
    "config.bs = 50"
   ]
  },
  {
   "cell_type": "markdown",
   "id": "1385fa59",
   "metadata": {
    "papermill": {
     "duration": 0.027179,
     "end_time": "2022-02-16T20:07:52.550802",
     "exception": false,
     "start_time": "2022-02-16T20:07:52.523623",
     "status": "completed"
    },
    "tags": []
   },
   "source": [
    "### Running Models with the Training data\n",
    "Details about the network layers:\n",
    "- A first affine layer has 784 inputs and does 100 affine transforms. These are followed by a Relu\n",
    "- A second affine layer has 100 inputs from the 100 activations of the past layer, and does 100 affine transforms. These are followed by a Relu\n",
    "- A third affine layer has 100 activations and does 2 affine transformations to create an embedding for visualization. There is no non-linearity here.\n",
    "- A final \"logistic regression\" which has an affine transform from 2 inputs to 1 output, which is squeezed through a sigmoid.\n"
   ]
  },
  {
   "cell_type": "code",
   "execution_count": 17,
   "id": "2b9c66db",
   "metadata": {
    "execution": {
     "iopub.execute_input": "2022-02-16T20:07:52.612870Z",
     "iopub.status.busy": "2022-02-16T20:07:52.612353Z",
     "iopub.status.idle": "2022-02-16T20:07:52.623182Z",
     "shell.execute_reply": "2022-02-16T20:07:52.622762Z"
    },
    "papermill": {
     "duration": 0.045147,
     "end_time": "2022-02-16T20:07:52.623300",
     "exception": false,
     "start_time": "2022-02-16T20:07:52.578153",
     "status": "completed"
    },
    "tags": []
   },
   "outputs": [],
   "source": [
    "data = Data(X_train, y_train.reshape(-1,1))\n",
    "sampler = Sampler(data, config.bs, shuffle=True)\n",
    "\n",
    "dl = Dataloader(data, sampler)\n",
    "\n",
    "opt = GD(config.lr)\n",
    "loss = MSE()"
   ]
  },
  {
   "cell_type": "code",
   "execution_count": 18,
   "id": "b275e4c2",
   "metadata": {
    "execution": {
     "iopub.execute_input": "2022-02-16T20:07:52.686902Z",
     "iopub.status.busy": "2022-02-16T20:07:52.686360Z",
     "iopub.status.idle": "2022-02-16T20:07:52.695095Z",
     "shell.execute_reply": "2022-02-16T20:07:52.695508Z"
    },
    "papermill": {
     "duration": 0.044884,
     "end_time": "2022-02-16T20:07:52.695651",
     "exception": false,
     "start_time": "2022-02-16T20:07:52.650767",
     "status": "completed"
    },
    "tags": []
   },
   "outputs": [],
   "source": [
    "training_data_x = X_train\n",
    "testing_data_x = X_test\n",
    "training_data_y = y_train.reshape(-1,1)\n",
    "testing_data_y = y_test.reshape(-1,1)"
   ]
  },
  {
   "cell_type": "code",
   "execution_count": 19,
   "id": "76951160",
   "metadata": {
    "execution": {
     "iopub.execute_input": "2022-02-16T20:07:52.755297Z",
     "iopub.status.busy": "2022-02-16T20:07:52.754746Z",
     "iopub.status.idle": "2022-02-16T20:07:52.770446Z",
     "shell.execute_reply": "2022-02-16T20:07:52.769996Z"
    },
    "papermill": {
     "duration": 0.047598,
     "end_time": "2022-02-16T20:07:52.770566",
     "exception": false,
     "start_time": "2022-02-16T20:07:52.722968",
     "status": "completed"
    },
    "tags": []
   },
   "outputs": [
    {
     "name": "stdout",
     "output_type": "stream",
     "text": [
      "xavier\n",
      "xavier\n",
      "xavier\n",
      "xavier\n",
      "xavier\n"
     ]
    }
   ],
   "source": [
    "layers = [Affine(\"first\", 784, 100), Relu(\"first\"), Affine(\"second\", 100, 100), Relu(\"second\"), Affine(\"third\", 100, 2), Affine(\"last\", 2, 1), Sigmoid(\"last\")]\n",
    "model_nn = Model(layers)\n",
    "model_lr = Model([Affine(\"logits\", 784, 1), Sigmoid(\"sigmoid\")])"
   ]
  },
  {
   "cell_type": "code",
   "execution_count": 20,
   "id": "6eede77a",
   "metadata": {
    "execution": {
     "iopub.execute_input": "2022-02-16T20:07:52.829776Z",
     "iopub.status.busy": "2022-02-16T20:07:52.829224Z",
     "iopub.status.idle": "2022-02-16T20:07:52.842100Z",
     "shell.execute_reply": "2022-02-16T20:07:52.841647Z"
    },
    "papermill": {
     "duration": 0.044153,
     "end_time": "2022-02-16T20:07:52.842219",
     "exception": false,
     "start_time": "2022-02-16T20:07:52.798066",
     "status": "completed"
    },
    "tags": []
   },
   "outputs": [],
   "source": [
    "nn_learner = Learner(loss, model_nn, opt, config.num_epochs)\n",
    "acc_nn = ClfCallback(nn_learner, config.bs, training_data_x , testing_data_x, training_data_y, testing_data_y)\n",
    "nn_learner.set_callbacks([acc_nn])"
   ]
  },
  {
   "cell_type": "code",
   "execution_count": 21,
   "id": "877b6cc7",
   "metadata": {
    "execution": {
     "iopub.execute_input": "2022-02-16T20:07:52.906546Z",
     "iopub.status.busy": "2022-02-16T20:07:52.906004Z",
     "iopub.status.idle": "2022-02-16T20:07:52.915161Z",
     "shell.execute_reply": "2022-02-16T20:07:52.915632Z"
    },
    "papermill": {
     "duration": 0.046066,
     "end_time": "2022-02-16T20:07:52.915767",
     "exception": false,
     "start_time": "2022-02-16T20:07:52.869701",
     "status": "completed"
    },
    "tags": []
   },
   "outputs": [],
   "source": [
    "lr_learner = Learner(loss, model_lr, opt, config.num_epochs)\n",
    "acc_lr = ClfCallback(lr_learner, config.bs, training_data_x , testing_data_x, training_data_y, testing_data_y)\n",
    "lr_learner.set_callbacks([acc_lr])"
   ]
  },
  {
   "cell_type": "code",
   "execution_count": 22,
   "id": "d9b133c3",
   "metadata": {
    "execution": {
     "iopub.execute_input": "2022-02-16T20:07:52.978969Z",
     "iopub.status.busy": "2022-02-16T20:07:52.978446Z",
     "iopub.status.idle": "2022-02-16T20:09:12.501903Z",
     "shell.execute_reply": "2022-02-16T20:09:12.502694Z"
    },
    "papermill": {
     "duration": 79.559089,
     "end_time": "2022-02-16T20:09:12.502858",
     "exception": false,
     "start_time": "2022-02-16T20:07:52.943769",
     "status": "completed"
    },
    "tags": []
   },
   "outputs": [
    {
     "name": "stdout",
     "output_type": "stream",
     "text": [
      "Epoch 0, Loss 0.2287\n",
      "Training Accuracy: 0.7163, Testing Accuracy: 0.7087\n",
      "\n"
     ]
    },
    {
     "name": "stdout",
     "output_type": "stream",
     "text": [
      "Epoch 10, Loss 0.0844\n",
      "Training Accuracy: 0.9215, Testing Accuracy: 0.9320\n",
      "\n"
     ]
    },
    {
     "name": "stdout",
     "output_type": "stream",
     "text": [
      "Epoch 20, Loss 0.0524\n",
      "Training Accuracy: 0.9460, Testing Accuracy: 0.9556\n",
      "\n"
     ]
    },
    {
     "name": "stdout",
     "output_type": "stream",
     "text": [
      "Epoch 30, Loss 0.0414\n",
      "Training Accuracy: 0.9556, Testing Accuracy: 0.9622\n",
      "\n"
     ]
    },
    {
     "name": "stdout",
     "output_type": "stream",
     "text": [
      "Epoch 40, Loss 0.036\n",
      "Training Accuracy: 0.9601, Testing Accuracy: 0.9667\n",
      "\n"
     ]
    },
    {
     "name": "stdout",
     "output_type": "stream",
     "text": [
      "Epoch 50, Loss 0.0327\n",
      "Training Accuracy: 0.9630, Testing Accuracy: 0.9682\n",
      "\n"
     ]
    },
    {
     "name": "stdout",
     "output_type": "stream",
     "text": [
      "Epoch 60, Loss 0.0304\n",
      "Training Accuracy: 0.9658, Testing Accuracy: 0.9672\n",
      "\n"
     ]
    },
    {
     "name": "stdout",
     "output_type": "stream",
     "text": [
      "Epoch 70, Loss 0.0287\n",
      "Training Accuracy: 0.9680, Testing Accuracy: 0.9677\n",
      "\n"
     ]
    },
    {
     "name": "stdout",
     "output_type": "stream",
     "text": [
      "Epoch 80, Loss 0.0274\n",
      "Training Accuracy: 0.9692, Testing Accuracy: 0.9677\n",
      "\n"
     ]
    },
    {
     "name": "stdout",
     "output_type": "stream",
     "text": [
      "Epoch 90, Loss 0.0263\n",
      "Training Accuracy: 0.9705, Testing Accuracy: 0.9688\n",
      "\n"
     ]
    },
    {
     "name": "stdout",
     "output_type": "stream",
     "text": [
      "Epoch 100, Loss 0.0253\n",
      "Training Accuracy: 0.9718, Testing Accuracy: 0.9703\n",
      "\n"
     ]
    },
    {
     "name": "stdout",
     "output_type": "stream",
     "text": [
      "Epoch 110, Loss 0.0245\n",
      "Training Accuracy: 0.9726, Testing Accuracy: 0.9718\n",
      "\n"
     ]
    },
    {
     "name": "stdout",
     "output_type": "stream",
     "text": [
      "Epoch 120, Loss 0.0237\n",
      "Training Accuracy: 0.9735, Testing Accuracy: 0.9728\n",
      "\n"
     ]
    },
    {
     "name": "stdout",
     "output_type": "stream",
     "text": [
      "Epoch 130, Loss 0.0231\n",
      "Training Accuracy: 0.9743, Testing Accuracy: 0.9733\n",
      "\n"
     ]
    },
    {
     "name": "stdout",
     "output_type": "stream",
     "text": [
      "Epoch 140, Loss 0.0225\n",
      "Training Accuracy: 0.9747, Testing Accuracy: 0.9733\n",
      "\n"
     ]
    },
    {
     "name": "stdout",
     "output_type": "stream",
     "text": [
      "Epoch 150, Loss 0.0219\n",
      "Training Accuracy: 0.9752, Testing Accuracy: 0.9743\n",
      "\n"
     ]
    },
    {
     "name": "stdout",
     "output_type": "stream",
     "text": [
      "Epoch 160, Loss 0.0214\n",
      "Training Accuracy: 0.9755, Testing Accuracy: 0.9743\n",
      "\n"
     ]
    },
    {
     "name": "stdout",
     "output_type": "stream",
     "text": [
      "Epoch 170, Loss 0.0209\n",
      "Training Accuracy: 0.9760, Testing Accuracy: 0.9748\n",
      "\n"
     ]
    },
    {
     "name": "stdout",
     "output_type": "stream",
     "text": [
      "Epoch 180, Loss 0.0205\n",
      "Training Accuracy: 0.9766, Testing Accuracy: 0.9753\n",
      "\n"
     ]
    },
    {
     "name": "stdout",
     "output_type": "stream",
     "text": [
      "Epoch 190, Loss 0.0201\n",
      "Training Accuracy: 0.9774, Testing Accuracy: 0.9753\n",
      "\n"
     ]
    },
    {
     "name": "stdout",
     "output_type": "stream",
     "text": [
      "Epoch 200, Loss 0.0196\n",
      "Training Accuracy: 0.9782, Testing Accuracy: 0.9753\n",
      "\n"
     ]
    },
    {
     "name": "stdout",
     "output_type": "stream",
     "text": [
      "Epoch 210, Loss 0.0193\n",
      "Training Accuracy: 0.9786, Testing Accuracy: 0.9753\n",
      "\n"
     ]
    },
    {
     "name": "stdout",
     "output_type": "stream",
     "text": [
      "Epoch 220, Loss 0.0189\n",
      "Training Accuracy: 0.9791, Testing Accuracy: 0.9763\n",
      "\n"
     ]
    },
    {
     "name": "stdout",
     "output_type": "stream",
     "text": [
      "Epoch 230, Loss 0.0185\n",
      "Training Accuracy: 0.9793, Testing Accuracy: 0.9763\n",
      "\n"
     ]
    },
    {
     "name": "stdout",
     "output_type": "stream",
     "text": [
      "Epoch 240, Loss 0.0182\n",
      "Training Accuracy: 0.9800, Testing Accuracy: 0.9758\n",
      "\n"
     ]
    },
    {
     "data": {
      "text/plain": [
       "0.027606025756668196"
      ]
     },
     "execution_count": 22,
     "metadata": {},
     "output_type": "execute_result"
    }
   ],
   "source": [
    "nn_learner.train_loop(dl)"
   ]
  },
  {
   "cell_type": "code",
   "execution_count": 23,
   "id": "e0163366",
   "metadata": {
    "execution": {
     "iopub.execute_input": "2022-02-16T20:09:12.586039Z",
     "iopub.status.busy": "2022-02-16T20:09:12.585446Z",
     "iopub.status.idle": "2022-02-16T20:09:26.785756Z",
     "shell.execute_reply": "2022-02-16T20:09:26.786512Z"
    },
    "papermill": {
     "duration": 14.248428,
     "end_time": "2022-02-16T20:09:26.786676",
     "exception": false,
     "start_time": "2022-02-16T20:09:12.538248",
     "status": "completed"
    },
    "tags": []
   },
   "outputs": [
    {
     "name": "stdout",
     "output_type": "stream",
     "text": [
      "Epoch 0, Loss 0.2578\n",
      "Training Accuracy: 0.6342, Testing Accuracy: 0.6089\n",
      "\n"
     ]
    },
    {
     "name": "stdout",
     "output_type": "stream",
     "text": [
      "Epoch 10, Loss 0.1052\n",
      "Training Accuracy: 0.9008, Testing Accuracy: 0.9103\n",
      "\n"
     ]
    },
    {
     "name": "stdout",
     "output_type": "stream",
     "text": [
      "Epoch 20, Loss 0.0811\n",
      "Training Accuracy: 0.9213, Testing Accuracy: 0.9350\n",
      "\n"
     ]
    },
    {
     "name": "stdout",
     "output_type": "stream",
     "text": [
      "Epoch 30, Loss 0.07\n",
      "Training Accuracy: 0.9323, Testing Accuracy: 0.9435\n",
      "\n"
     ]
    },
    {
     "name": "stdout",
     "output_type": "stream",
     "text": [
      "Epoch 40, Loss 0.0632\n",
      "Training Accuracy: 0.9382, Testing Accuracy: 0.9496\n",
      "\n"
     ]
    },
    {
     "name": "stdout",
     "output_type": "stream",
     "text": [
      "Epoch 50, Loss 0.0586\n",
      "Training Accuracy: 0.9421, Testing Accuracy: 0.9531\n",
      "\n"
     ]
    },
    {
     "name": "stdout",
     "output_type": "stream",
     "text": [
      "Epoch 60, Loss 0.0552\n",
      "Training Accuracy: 0.9448, Testing Accuracy: 0.9546\n",
      "\n"
     ]
    },
    {
     "name": "stdout",
     "output_type": "stream",
     "text": [
      "Epoch 70, Loss 0.0525\n",
      "Training Accuracy: 0.9473, Testing Accuracy: 0.9572\n",
      "\n"
     ]
    },
    {
     "name": "stdout",
     "output_type": "stream",
     "text": [
      "Epoch 80, Loss 0.0504\n",
      "Training Accuracy: 0.9489, Testing Accuracy: 0.9587\n",
      "\n"
     ]
    },
    {
     "name": "stdout",
     "output_type": "stream",
     "text": [
      "Epoch 90, Loss 0.0486\n",
      "Training Accuracy: 0.9506, Testing Accuracy: 0.9612\n",
      "\n"
     ]
    },
    {
     "name": "stdout",
     "output_type": "stream",
     "text": [
      "Epoch 100, Loss 0.0472\n",
      "Training Accuracy: 0.9523, Testing Accuracy: 0.9632\n",
      "\n"
     ]
    },
    {
     "name": "stdout",
     "output_type": "stream",
     "text": [
      "Epoch 110, Loss 0.0459\n",
      "Training Accuracy: 0.9534, Testing Accuracy: 0.9632\n",
      "\n"
     ]
    },
    {
     "name": "stdout",
     "output_type": "stream",
     "text": [
      "Epoch 120, Loss 0.0448\n",
      "Training Accuracy: 0.9542, Testing Accuracy: 0.9637\n",
      "\n"
     ]
    },
    {
     "name": "stdout",
     "output_type": "stream",
     "text": [
      "Epoch 130, Loss 0.0438\n",
      "Training Accuracy: 0.9552, Testing Accuracy: 0.9627\n",
      "\n"
     ]
    },
    {
     "name": "stdout",
     "output_type": "stream",
     "text": [
      "Epoch 140, Loss 0.0429\n",
      "Training Accuracy: 0.9558, Testing Accuracy: 0.9642\n",
      "\n"
     ]
    },
    {
     "name": "stdout",
     "output_type": "stream",
     "text": [
      "Epoch 150, Loss 0.0421\n",
      "Training Accuracy: 0.9564, Testing Accuracy: 0.9652\n",
      "\n"
     ]
    },
    {
     "name": "stdout",
     "output_type": "stream",
     "text": [
      "Epoch 160, Loss 0.0414\n",
      "Training Accuracy: 0.9570, Testing Accuracy: 0.9652\n",
      "\n"
     ]
    },
    {
     "name": "stdout",
     "output_type": "stream",
     "text": [
      "Epoch 170, Loss 0.0408\n",
      "Training Accuracy: 0.9574, Testing Accuracy: 0.9652\n",
      "\n"
     ]
    },
    {
     "name": "stdout",
     "output_type": "stream",
     "text": [
      "Epoch 180, Loss 0.0402\n",
      "Training Accuracy: 0.9579, Testing Accuracy: 0.9657\n",
      "\n"
     ]
    },
    {
     "name": "stdout",
     "output_type": "stream",
     "text": [
      "Epoch 190, Loss 0.0397\n",
      "Training Accuracy: 0.9584, Testing Accuracy: 0.9667\n",
      "\n"
     ]
    },
    {
     "name": "stdout",
     "output_type": "stream",
     "text": [
      "Epoch 200, Loss 0.0391\n",
      "Training Accuracy: 0.9587, Testing Accuracy: 0.9667\n",
      "\n"
     ]
    },
    {
     "name": "stdout",
     "output_type": "stream",
     "text": [
      "Epoch 210, Loss 0.0387\n",
      "Training Accuracy: 0.9590, Testing Accuracy: 0.9662\n",
      "\n"
     ]
    },
    {
     "name": "stdout",
     "output_type": "stream",
     "text": [
      "Epoch 220, Loss 0.0382\n",
      "Training Accuracy: 0.9591, Testing Accuracy: 0.9667\n",
      "\n"
     ]
    },
    {
     "name": "stdout",
     "output_type": "stream",
     "text": [
      "Epoch 230, Loss 0.0378\n",
      "Training Accuracy: 0.9592, Testing Accuracy: 0.9672\n",
      "\n"
     ]
    },
    {
     "name": "stdout",
     "output_type": "stream",
     "text": [
      "Epoch 240, Loss 0.0375\n",
      "Training Accuracy: 0.9598, Testing Accuracy: 0.9677\n",
      "\n"
     ]
    },
    {
     "data": {
      "text/plain": [
       "0.04534708665086859"
      ]
     },
     "execution_count": 23,
     "metadata": {},
     "output_type": "execute_result"
    }
   ],
   "source": [
    "lr_learner.train_loop(dl)"
   ]
  },
  {
   "cell_type": "code",
   "execution_count": 24,
   "id": "ca410940",
   "metadata": {
    "execution": {
     "iopub.execute_input": "2022-02-16T20:09:26.883015Z",
     "iopub.status.busy": "2022-02-16T20:09:26.882481Z",
     "iopub.status.idle": "2022-02-16T20:09:27.115492Z",
     "shell.execute_reply": "2022-02-16T20:09:27.115029Z"
    },
    "papermill": {
     "duration": 0.287404,
     "end_time": "2022-02-16T20:09:27.115616",
     "exception": false,
     "start_time": "2022-02-16T20:09:26.828212",
     "status": "completed"
    },
    "tags": []
   },
   "outputs": [
    {
     "data": {
      "text/plain": [
       "<matplotlib.legend.Legend at 0x7f8f00208cf8>"
      ]
     },
     "execution_count": 24,
     "metadata": {},
     "output_type": "execute_result"
    },
    {
     "data": {
      "image/png": "[encoded data removed]",
      "text/plain": [
       "<Figure size 1080x720 with 1 Axes>"
      ]
     },
     "metadata": {
      "needs_background": "light"
     },
     "output_type": "display_data"
    }
   ],
   "source": [
    "#comparing the results of NN and LR\n",
    "plt.figure(figsize=(15,10))\n",
    "\n",
    "# Neural Network plots\n",
    "plt.plot(acc_nn.accuracies, 'r-', label = \"Training Accuracies - NN\")\n",
    "plt.plot(acc_nn.test_accuracies, 'g-', label = \"Testing Accuracies - NN\")\n",
    "\n",
    "# Logistic Regression plots\n",
    "plt.plot(acc_lr.accuracies, 'k-', label = \"Training Accuracies - LR\")\n",
    "plt.plot(acc_lr.test_accuracies, 'b-', label = \"Testing Accuracies - LR\")\n",
    "plt.legend()"
   ]
  },
  {
   "cell_type": "markdown",
   "id": "80dfb35c",
   "metadata": {
    "papermill": {
     "duration": 0.042385,
     "end_time": "2022-02-16T20:09:27.200862",
     "exception": false,
     "start_time": "2022-02-16T20:09:27.158477",
     "status": "completed"
    },
    "tags": []
   },
   "source": [
    "#### Plotting the outputs of this layer of the NN.\n"
   ]
  },
  {
   "cell_type": "code",
   "execution_count": 25,
   "id": "45eb2ff5",
   "metadata": {
    "execution": {
     "iopub.execute_input": "2022-02-16T20:09:27.302403Z",
     "iopub.status.busy": "2022-02-16T20:09:27.298407Z",
     "iopub.status.idle": "2022-02-16T20:09:27.314748Z",
     "shell.execute_reply": "2022-02-16T20:09:27.315455Z"
    },
    "papermill": {
     "duration": 0.072346,
     "end_time": "2022-02-16T20:09:27.315616",
     "exception": false,
     "start_time": "2022-02-16T20:09:27.243270",
     "status": "completed"
    },
    "tags": []
   },
   "outputs": [],
   "source": [
    "new_model = Model(layers[:-2])\n",
    "testing_plot = new_model(testing_data_x)"
   ]
  },
  {
   "cell_type": "code",
   "execution_count": 26,
   "id": "4c0a5485",
   "metadata": {
    "execution": {
     "iopub.execute_input": "2022-02-16T20:09:27.414880Z",
     "iopub.status.busy": "2022-02-16T20:09:27.414352Z",
     "iopub.status.idle": "2022-02-16T20:09:27.608540Z",
     "shell.execute_reply": "2022-02-16T20:09:27.608999Z"
    },
    "papermill": {
     "duration": 0.250234,
     "end_time": "2022-02-16T20:09:27.609157",
     "exception": false,
     "start_time": "2022-02-16T20:09:27.358923",
     "status": "completed"
    },
    "tags": []
   },
   "outputs": [
    {
     "data": {
      "text/plain": [
       "Text(0.5, 1.0, 'Outputs')"
      ]
     },
     "execution_count": 26,
     "metadata": {},
     "output_type": "execute_result"
    },
    {
     "data": {
      "image/png": "[encoded data removed]",
      "text/plain": [
       "<Figure size 576x504 with 1 Axes>"
      ]
     },
     "metadata": {
      "needs_background": "light"
     },
     "output_type": "display_data"
    }
   ],
   "source": [
    "# Plotting the scatter plot of points and color coding by class\n",
    "plt.figure(figsize=(8,7))\n",
    "plt.scatter(testing_plot[:,0], testing_plot[:,1], alpha = 0.1, c = y_test.ravel());\n",
    "plt.title('Outputs')"
   ]
  },
  {
   "cell_type": "markdown",
   "id": "a74fcf8f",
   "metadata": {
    "papermill": {
     "duration": 0.044293,
     "end_time": "2022-02-16T20:09:27.698264",
     "exception": false,
     "start_time": "2022-02-16T20:09:27.653971",
     "status": "completed"
    },
    "tags": []
   },
   "source": [
    "Probability contours"
   ]
  },
  {
   "cell_type": "code",
   "execution_count": 27,
   "id": "d0afc8e3",
   "metadata": {
    "execution": {
     "iopub.execute_input": "2022-02-16T20:09:27.795513Z",
     "iopub.status.busy": "2022-02-16T20:09:27.793599Z",
     "iopub.status.idle": "2022-02-16T20:09:27.804471Z",
     "shell.execute_reply": "2022-02-16T20:09:27.804006Z"
    },
    "papermill": {
     "duration": 0.061893,
     "end_time": "2022-02-16T20:09:27.804591",
     "exception": false,
     "start_time": "2022-02-16T20:09:27.742698",
     "status": "completed"
    },
    "tags": []
   },
   "outputs": [],
   "source": [
    "model_prob = Model(layers[-2:]) "
   ]
  },
  {
   "cell_type": "code",
   "execution_count": 28,
   "id": "9b96e238",
   "metadata": {
    "execution": {
     "iopub.execute_input": "2022-02-16T20:09:27.932720Z",
     "iopub.status.busy": "2022-02-16T20:09:27.932150Z",
     "iopub.status.idle": "2022-02-16T20:09:27.945694Z",
     "shell.execute_reply": "2022-02-16T20:09:27.946094Z"
    },
    "papermill": {
     "duration": 0.066968,
     "end_time": "2022-02-16T20:09:27.946244",
     "exception": false,
     "start_time": "2022-02-16T20:09:27.879276",
     "status": "completed"
    },
    "tags": []
   },
   "outputs": [],
   "source": [
    "#creating the x and y ranges according to the above generated plot.\n",
    "x_range = np.linspace(-4, 1, 100) \n",
    "y_range = np.linspace(-6, 6, 100) \n",
    "x_grid, y_grid = np.meshgrid(x_range, y_range) # x_grid and y_grig are of size 100 X 100\n",
    "\n",
    "# converting x_grid and y_grid to continuous arrays\n",
    "x_gridflat = np.ravel(x_grid)\n",
    "y_gridflat = np.ravel(y_grid)\n",
    "\n",
    "# The last layer of the current model takes two columns as input. Hence transpose of np.vstack() is required.\n",
    "X = np.vstack((x_gridflat, y_gridflat)).T\n",
    "\n",
    "prob_contour = model_prob(X).reshape(100,100) "
   ]
  },
  {
   "cell_type": "code",
   "execution_count": 29,
   "id": "da72499a",
   "metadata": {
    "execution": {
     "iopub.execute_input": "2022-02-16T20:09:28.040204Z",
     "iopub.status.busy": "2022-02-16T20:09:28.039656Z",
     "iopub.status.idle": "2022-02-16T20:09:28.291056Z",
     "shell.execute_reply": "2022-02-16T20:09:28.290591Z"
    },
    "papermill": {
     "duration": 0.300322,
     "end_time": "2022-02-16T20:09:28.291182",
     "exception": false,
     "start_time": "2022-02-16T20:09:27.990860",
     "status": "completed"
    },
    "tags": []
   },
   "outputs": [
    {
     "data": {
      "image/png": "[encoded data removed]",
      "text/plain": [
       "<Figure size 720x648 with 1 Axes>"
      ]
     },
     "metadata": {
      "needs_background": "light"
     },
     "output_type": "display_data"
    }
   ],
   "source": [
    "plt.figure(figsize=(10,9))\n",
    "plt.scatter(testing_plot[:,0], testing_plot[:,1], alpha = 0.1, c = y_test.ravel())\n",
    "contours = plt.contour(x_grid,y_grid,prob_contour)\n",
    "plt.title('Probability Contours')\n",
    "plt.clabel(contours, inline = True );"
   ]
  },
  {
   "cell_type": "code",
   "execution_count": null,
   "id": "e81b4ac7",
   "metadata": {
    "papermill": {
     "duration": 0.047139,
     "end_time": "2022-02-16T20:09:28.385953",
     "exception": false,
     "start_time": "2022-02-16T20:09:28.338814",
     "status": "completed"
    },
    "tags": []
   },
   "outputs": [],
   "source": []
  }
 ],
 "metadata": {
  "kernelspec": {
   "display_name": "Python 3",
   "language": "python",
   "name": "python3"
  },
  "language_info": {
   "codemirror_mode": {
    "name": "ipython",
    "version": 3
   },
   "file_extension": ".py",
   "mimetype": "text/x-python",
   "name": "python",
   "nbconvert_exporter": "python",
   "pygments_lexer": "ipython3",
   "version": "3.6.15"
  },
  "papermill": {
   "default_parameters": {},
   "duration": 101.955811,
   "end_time": "2022-02-16T20:09:28.852583",
   "environment_variables": {},
   "exception": null,
   "input_path": "2020-08-11-part2.ipynb",
   "output_path": "2020-08-11-part2.ipynb",
   "parameters": {},
   "start_time": "2022-02-16T20:07:46.896772",
   "version": "2.3.3"
  }
 },
 "nbformat": 4,
 "nbformat_minor": 5
}