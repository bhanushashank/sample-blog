{
 "cells": [
  {
   "cell_type": "markdown",
   "id": "98380cd3",
   "metadata": {
    "papermill": {
     "duration": 0.028501,
     "end_time": "2021-11-04T20:07:24.549352",
     "exception": false,
     "start_time": "2021-11-04T20:07:24.520851",
     "status": "completed"
    },
    "tags": []
   },
   "source": [
    "# Distinguish Your Own Digits (DYOD)"
   ]
  },
  {
   "cell_type": "markdown",
   "id": "ef31240d",
   "metadata": {
    "papermill": {
     "duration": 0.024149,
     "end_time": "2021-11-04T20:07:24.598441",
     "exception": false,
     "start_time": "2021-11-04T20:07:24.574292",
     "status": "completed"
    },
    "tags": []
   },
   "source": [
    "You are going to write a classifier that distinguishes between the number 3 and number 8."
   ]
  },
  {
   "cell_type": "code",
   "execution_count": 1,
   "id": "b15c8646",
   "metadata": {
    "execution": {
     "iopub.execute_input": "2021-11-04T20:07:24.659417Z",
     "iopub.status.busy": "2021-11-04T20:07:24.658726Z",
     "iopub.status.idle": "2021-11-04T20:07:24.669260Z",
     "shell.execute_reply": "2021-11-04T20:07:24.669692Z"
    },
    "papermill": {
     "duration": 0.04593,
     "end_time": "2021-11-04T20:07:24.669870",
     "exception": false,
     "start_time": "2021-11-04T20:07:24.623940",
     "status": "completed"
    },
    "tags": []
   },
   "outputs": [],
   "source": [
    "%load_ext autoreload\n",
    "%autoreload 2"
   ]
  },
  {
   "cell_type": "code",
   "execution_count": 2,
   "id": "22ef38dc",
   "metadata": {
    "execution": {
     "iopub.execute_input": "2021-11-04T20:07:24.731826Z",
     "iopub.status.busy": "2021-11-04T20:07:24.728530Z",
     "iopub.status.idle": "2021-11-04T20:07:25.310418Z",
     "shell.execute_reply": "2021-11-04T20:07:25.309833Z"
    },
    "papermill": {
     "duration": 0.616276,
     "end_time": "2021-11-04T20:07:25.310571",
     "exception": false,
     "start_time": "2021-11-04T20:07:24.694295",
     "status": "completed"
    },
    "tags": []
   },
   "outputs": [],
   "source": [
    "%matplotlib inline\n",
    "import numpy as np\n",
    "import matplotlib.pyplot as plt\n",
    "import pandas as pd"
   ]
  },
  {
   "cell_type": "markdown",
   "id": "ba036198",
   "metadata": {
    "papermill": {
     "duration": 0.024205,
     "end_time": "2021-11-04T20:07:25.360052",
     "exception": false,
     "start_time": "2021-11-04T20:07:25.335847",
     "status": "completed"
    },
    "tags": []
   },
   "source": [
    "From the command line run `pip install mnist`. This is a library that will help you bring down the mnist dataset. If you run this from a notebook, you need to put  `!pip install mnist` in a cell by itself."
   ]
  },
  {
   "cell_type": "code",
   "execution_count": 3,
   "id": "bb6ad8a1",
   "metadata": {
    "execution": {
     "iopub.execute_input": "2021-11-04T20:07:25.415082Z",
     "iopub.status.busy": "2021-11-04T20:07:25.414530Z",
     "iopub.status.idle": "2021-11-04T20:07:27.240280Z",
     "shell.execute_reply": "2021-11-04T20:07:27.239732Z"
    },
    "papermill": {
     "duration": 1.856012,
     "end_time": "2021-11-04T20:07:27.240424",
     "exception": false,
     "start_time": "2021-11-04T20:07:25.384412",
     "status": "completed"
    },
    "tags": []
   },
   "outputs": [
    {
     "name": "stdout",
     "output_type": "stream",
     "text": [
      "Collecting mnist\r\n"
     ]
    },
    {
     "name": "stdout",
     "output_type": "stream",
     "text": [
      "  Downloading mnist-0.2.2-py2.py3-none-any.whl (3.5 kB)\r\n",
      "Requirement already satisfied: numpy in /opt/hostedtoolcache/Python/3.6.15/x64/lib/python3.6/site-packages (from mnist) (1.19.5)\r\n"
     ]
    },
    {
     "name": "stdout",
     "output_type": "stream",
     "text": [
      "Installing collected packages: mnist\r\n"
     ]
    },
    {
     "name": "stdout",
     "output_type": "stream",
     "text": [
      "Successfully installed mnist-0.2.2\r\n"
     ]
    }
   ],
   "source": [
    "!pip install mnist"
   ]
  },
  {
   "cell_type": "markdown",
   "id": "69df9c9a",
   "metadata": {
    "papermill": {
     "duration": 0.025204,
     "end_time": "2021-11-04T20:07:27.291678",
     "exception": false,
     "start_time": "2021-11-04T20:07:27.266474",
     "status": "completed"
    },
    "tags": []
   },
   "source": [
    "## Preparing the Data"
   ]
  },
  {
   "cell_type": "code",
   "execution_count": 4,
   "id": "7f69d806",
   "metadata": {
    "execution": {
     "iopub.execute_input": "2021-11-04T20:07:27.347067Z",
     "iopub.status.busy": "2021-11-04T20:07:27.346529Z",
     "iopub.status.idle": "2021-11-04T20:07:27.362976Z",
     "shell.execute_reply": "2021-11-04T20:07:27.362463Z"
    },
    "papermill": {
     "duration": 0.045865,
     "end_time": "2021-11-04T20:07:27.363103",
     "exception": false,
     "start_time": "2021-11-04T20:07:27.317238",
     "status": "completed"
    },
    "tags": []
   },
   "outputs": [],
   "source": [
    "import mnist"
   ]
  },
  {
   "cell_type": "code",
   "execution_count": 5,
   "id": "a411e44f",
   "metadata": {
    "execution": {
     "iopub.execute_input": "2021-11-04T20:07:27.423861Z",
     "iopub.status.busy": "2021-11-04T20:07:27.423277Z",
     "iopub.status.idle": "2021-11-04T20:07:28.067029Z",
     "shell.execute_reply": "2021-11-04T20:07:28.066543Z"
    },
    "papermill": {
     "duration": 0.678426,
     "end_time": "2021-11-04T20:07:28.067163",
     "exception": false,
     "start_time": "2021-11-04T20:07:27.388737",
     "status": "completed"
    },
    "tags": []
   },
   "outputs": [],
   "source": [
    "train_images = mnist.train_images()\n",
    "train_labels = mnist.train_labels()"
   ]
  },
  {
   "cell_type": "code",
   "execution_count": 6,
   "id": "dceab3a5",
   "metadata": {
    "execution": {
     "iopub.execute_input": "2021-11-04T20:07:28.124707Z",
     "iopub.status.busy": "2021-11-04T20:07:28.124137Z",
     "iopub.status.idle": "2021-11-04T20:07:28.138264Z",
     "shell.execute_reply": "2021-11-04T20:07:28.137751Z"
    },
    "papermill": {
     "duration": 0.045825,
     "end_time": "2021-11-04T20:07:28.138385",
     "exception": false,
     "start_time": "2021-11-04T20:07:28.092560",
     "status": "completed"
    },
    "tags": []
   },
   "outputs": [
    {
     "data": {
      "text/plain": [
       "((60000, 28, 28), (60000,))"
      ]
     },
     "execution_count": 6,
     "metadata": {},
     "output_type": "execute_result"
    }
   ],
   "source": [
    "train_images.shape, train_labels.shape"
   ]
  },
  {
   "cell_type": "code",
   "execution_count": 7,
   "id": "f50dc2bb",
   "metadata": {
    "execution": {
     "iopub.execute_input": "2021-11-04T20:07:28.194086Z",
     "iopub.status.busy": "2021-11-04T20:07:28.193500Z",
     "iopub.status.idle": "2021-11-04T20:07:28.373883Z",
     "shell.execute_reply": "2021-11-04T20:07:28.374377Z"
    },
    "papermill": {
     "duration": 0.209929,
     "end_time": "2021-11-04T20:07:28.374552",
     "exception": false,
     "start_time": "2021-11-04T20:07:28.164623",
     "status": "completed"
    },
    "tags": []
   },
   "outputs": [],
   "source": [
    "test_images = mnist.test_images()\n",
    "test_labels = mnist.test_labels()"
   ]
  },
  {
   "cell_type": "code",
   "execution_count": 8,
   "id": "fc38cf1b",
   "metadata": {
    "execution": {
     "iopub.execute_input": "2021-11-04T20:07:28.431062Z",
     "iopub.status.busy": "2021-11-04T20:07:28.430512Z",
     "iopub.status.idle": "2021-11-04T20:07:28.443867Z",
     "shell.execute_reply": "2021-11-04T20:07:28.444378Z"
    },
    "papermill": {
     "duration": 0.043214,
     "end_time": "2021-11-04T20:07:28.444526",
     "exception": false,
     "start_time": "2021-11-04T20:07:28.401312",
     "status": "completed"
    },
    "tags": []
   },
   "outputs": [
    {
     "data": {
      "text/plain": [
       "((10000, 28, 28), (10000,))"
      ]
     },
     "execution_count": 8,
     "metadata": {},
     "output_type": "execute_result"
    }
   ],
   "source": [
    "test_images.shape, test_labels.shape"
   ]
  },
  {
   "cell_type": "code",
   "execution_count": 9,
   "id": "f9ed8fe0",
   "metadata": {
    "execution": {
     "iopub.execute_input": "2021-11-04T20:07:28.505063Z",
     "iopub.status.busy": "2021-11-04T20:07:28.504499Z",
     "iopub.status.idle": "2021-11-04T20:07:28.644446Z",
     "shell.execute_reply": "2021-11-04T20:07:28.644859Z"
    },
    "papermill": {
     "duration": 0.174826,
     "end_time": "2021-11-04T20:07:28.645017",
     "exception": false,
     "start_time": "2021-11-04T20:07:28.470191",
     "status": "completed"
    },
    "tags": []
   },
   "outputs": [
    {
     "name": "stdout",
     "output_type": "stream",
     "text": [
      "2\n"
     ]
    },
    {
     "data": {
      "text/plain": [
       "<matplotlib.image.AxesImage at 0x7fcddf42f630>"
      ]
     },
     "execution_count": 9,
     "metadata": {},
     "output_type": "execute_result"
    },
    {
     "data": {
      "image/png": "[encoded data removed]",
      "text/plain": [
       "<Figure size 432x288 with 1 Axes>"
      ]
     },
     "metadata": {
      "needs_background": "light"
     },
     "output_type": "display_data"
    }
   ],
   "source": [
    "image_index = 7776 # You may select anything up to 60,000\n",
    "print(train_labels[image_index]) \n",
    "plt.imshow(train_images[image_index], cmap='Greys')"
   ]
  },
  {
   "cell_type": "markdown",
   "id": "a8d2388d",
   "metadata": {
    "papermill": {
     "duration": 0.029166,
     "end_time": "2021-11-04T20:07:28.701158",
     "exception": false,
     "start_time": "2021-11-04T20:07:28.671992",
     "status": "completed"
    },
    "tags": []
   },
   "source": [
    "## Filter data to get 3 and 8 out"
   ]
  },
  {
   "cell_type": "code",
   "execution_count": 10,
   "id": "776f7fc7",
   "metadata": {
    "execution": {
     "iopub.execute_input": "2021-11-04T20:07:28.759432Z",
     "iopub.status.busy": "2021-11-04T20:07:28.758864Z",
     "iopub.status.idle": "2021-11-04T20:07:28.779253Z",
     "shell.execute_reply": "2021-11-04T20:07:28.778800Z"
    },
    "papermill": {
     "duration": 0.051462,
     "end_time": "2021-11-04T20:07:28.779383",
     "exception": false,
     "start_time": "2021-11-04T20:07:28.727921",
     "status": "completed"
    },
    "tags": []
   },
   "outputs": [],
   "source": [
    "train_filter = np.where((train_labels == 3 ) | (train_labels == 8))\n",
    "test_filter = np.where((test_labels == 3) | (test_labels == 8))\n",
    "X_train, y_train = train_images[train_filter], train_labels[train_filter]\n",
    "X_test, y_test = test_images[test_filter], test_labels[test_filter]"
   ]
  },
  {
   "cell_type": "markdown",
   "id": "948f0b7e",
   "metadata": {
    "papermill": {
     "duration": 0.02664,
     "end_time": "2021-11-04T20:07:28.832926",
     "exception": false,
     "start_time": "2021-11-04T20:07:28.806286",
     "status": "completed"
    },
    "tags": []
   },
   "source": [
    "We normalize the pizel values in the 0 to 1 range"
   ]
  },
  {
   "cell_type": "code",
   "execution_count": 11,
   "id": "ee4c2166",
   "metadata": {
    "execution": {
     "iopub.execute_input": "2021-11-04T20:07:28.893296Z",
     "iopub.status.busy": "2021-11-04T20:07:28.892748Z",
     "iopub.status.idle": "2021-11-04T20:07:28.940968Z",
     "shell.execute_reply": "2021-11-04T20:07:28.940440Z"
    },
    "papermill": {
     "duration": 0.081555,
     "end_time": "2021-11-04T20:07:28.941118",
     "exception": false,
     "start_time": "2021-11-04T20:07:28.859563",
     "status": "completed"
    },
    "tags": []
   },
   "outputs": [],
   "source": [
    "X_train = X_train/255.\n",
    "X_test = X_test/255."
   ]
  },
  {
   "cell_type": "markdown",
   "id": "ddcf4fab",
   "metadata": {
    "papermill": {
     "duration": 0.027012,
     "end_time": "2021-11-04T20:07:28.995001",
     "exception": false,
     "start_time": "2021-11-04T20:07:28.967989",
     "status": "completed"
    },
    "tags": []
   },
   "source": [
    "And setup the labels as 1 (when the digit is 3) and 0 (when the digit is 8)"
   ]
  },
  {
   "cell_type": "code",
   "execution_count": 12,
   "id": "7dc908f2",
   "metadata": {
    "execution": {
     "iopub.execute_input": "2021-11-04T20:07:29.067152Z",
     "iopub.status.busy": "2021-11-04T20:07:29.066547Z",
     "iopub.status.idle": "2021-11-04T20:07:29.073403Z",
     "shell.execute_reply": "2021-11-04T20:07:29.072946Z"
    },
    "papermill": {
     "duration": 0.051727,
     "end_time": "2021-11-04T20:07:29.073534",
     "exception": false,
     "start_time": "2021-11-04T20:07:29.021807",
     "status": "completed"
    },
    "tags": []
   },
   "outputs": [],
   "source": [
    "y_train = 1*(y_train==3)\n",
    "y_test = 1*(y_test==3)"
   ]
  },
  {
   "cell_type": "code",
   "execution_count": 13,
   "id": "01e4e969",
   "metadata": {
    "execution": {
     "iopub.execute_input": "2021-11-04T20:07:29.133634Z",
     "iopub.status.busy": "2021-11-04T20:07:29.133048Z",
     "iopub.status.idle": "2021-11-04T20:07:29.146288Z",
     "shell.execute_reply": "2021-11-04T20:07:29.145842Z"
    },
    "papermill": {
     "duration": 0.046004,
     "end_time": "2021-11-04T20:07:29.146418",
     "exception": false,
     "start_time": "2021-11-04T20:07:29.100414",
     "status": "completed"
    },
    "tags": []
   },
   "outputs": [
    {
     "data": {
      "text/plain": [
       "((11982, 28, 28), (1984, 28, 28))"
      ]
     },
     "execution_count": 13,
     "metadata": {},
     "output_type": "execute_result"
    }
   ],
   "source": [
    "X_train.shape, X_test.shape"
   ]
  },
  {
   "cell_type": "markdown",
   "id": "5ccf3f85",
   "metadata": {
    "papermill": {
     "duration": 0.027034,
     "end_time": "2021-11-04T20:07:29.200273",
     "exception": false,
     "start_time": "2021-11-04T20:07:29.173239",
     "status": "completed"
    },
    "tags": []
   },
   "source": [
    "We reshape the data to flatten the image pixels into a set of features or co-variates:"
   ]
  },
  {
   "cell_type": "code",
   "execution_count": 14,
   "id": "5286a4a3",
   "metadata": {
    "execution": {
     "iopub.execute_input": "2021-11-04T20:07:29.270449Z",
     "iopub.status.busy": "2021-11-04T20:07:29.268250Z",
     "iopub.status.idle": "2021-11-04T20:07:29.278236Z",
     "shell.execute_reply": "2021-11-04T20:07:29.277493Z"
    },
    "papermill": {
     "duration": 0.051027,
     "end_time": "2021-11-04T20:07:29.278366",
     "exception": false,
     "start_time": "2021-11-04T20:07:29.227339",
     "status": "completed"
    },
    "tags": []
   },
   "outputs": [
    {
     "data": {
      "text/plain": [
       "((11982, 784), (1984, 784))"
      ]
     },
     "execution_count": 14,
     "metadata": {},
     "output_type": "execute_result"
    }
   ],
   "source": [
    "X_train = X_train.reshape(X_train.shape[0], -1)\n",
    "X_test = X_test.reshape(X_test.shape[0], -1)\n",
    "X_train.shape, X_test.shape"
   ]
  },
  {
   "cell_type": "code",
   "execution_count": 15,
   "id": "73c5f88a",
   "metadata": {
    "execution": {
     "iopub.execute_input": "2021-11-04T20:07:29.346239Z",
     "iopub.status.busy": "2021-11-04T20:07:29.344561Z",
     "iopub.status.idle": "2021-11-04T20:07:29.361302Z",
     "shell.execute_reply": "2021-11-04T20:07:29.361746Z"
    },
    "papermill": {
     "duration": 0.056396,
     "end_time": "2021-11-04T20:07:29.361907",
     "exception": false,
     "start_time": "2021-11-04T20:07:29.305511",
     "status": "completed"
    },
    "tags": []
   },
   "outputs": [],
   "source": [
    "#Impoting functions from 'Kudzu'\n",
    "from kudzu.model import Model\n",
    "from kudzu.train import Learner\n",
    "from kudzu.optim import GD\n",
    "from kudzu.data import Data, Sampler,Dataloader\n",
    "\n",
    "from kudzu.callbacks import AccCallback\n",
    "from kudzu.callbacks import ClfCallback\n",
    "\n",
    "from kudzu.loss import MSE\n",
    "\n",
    "from kudzu.layer import Sigmoid,Relu\n",
    "from kudzu.layer import Affine"
   ]
  },
  {
   "cell_type": "markdown",
   "id": "bc01172a",
   "metadata": {
    "papermill": {
     "duration": 0.027226,
     "end_time": "2021-11-04T20:07:29.416515",
     "exception": false,
     "start_time": "2021-11-04T20:07:29.389289",
     "status": "completed"
    },
    "tags": []
   },
   "source": [
    "### Let us create a `Config` class, to store important parameters. \n",
    "This class essentially plays the role of a dictionary."
   ]
  },
  {
   "cell_type": "code",
   "execution_count": 16,
   "id": "978281aa",
   "metadata": {
    "execution": {
     "iopub.execute_input": "2021-11-04T20:07:29.476449Z",
     "iopub.status.busy": "2021-11-04T20:07:29.475866Z",
     "iopub.status.idle": "2021-11-04T20:07:29.487911Z",
     "shell.execute_reply": "2021-11-04T20:07:29.487446Z"
    },
    "papermill": {
     "duration": 0.04431,
     "end_time": "2021-11-04T20:07:29.488046",
     "exception": false,
     "start_time": "2021-11-04T20:07:29.443736",
     "status": "completed"
    },
    "tags": []
   },
   "outputs": [],
   "source": [
    "class Config:\n",
    "    pass\n",
    "config = Config()\n",
    "config.lr = 0.001\n",
    "config.num_epochs = 250\n",
    "config.bs = 50"
   ]
  },
  {
   "cell_type": "markdown",
   "id": "1385fa59",
   "metadata": {
    "papermill": {
     "duration": 0.027197,
     "end_time": "2021-11-04T20:07:29.542585",
     "exception": false,
     "start_time": "2021-11-04T20:07:29.515388",
     "status": "completed"
    },
    "tags": []
   },
   "source": [
    "### Running Models with the Training data\n",
    "Details about the network layers:\n",
    "- A first affine layer has 784 inputs and does 100 affine transforms. These are followed by a Relu\n",
    "- A second affine layer has 100 inputs from the 100 activations of the past layer, and does 100 affine transforms. These are followed by a Relu\n",
    "- A third affine layer has 100 activations and does 2 affine transformations to create an embedding for visualization. There is no non-linearity here.\n",
    "- A final \"logistic regression\" which has an affine transform from 2 inputs to 1 output, which is squeezed through a sigmoid.\n"
   ]
  },
  {
   "cell_type": "code",
   "execution_count": 17,
   "id": "2b9c66db",
   "metadata": {
    "execution": {
     "iopub.execute_input": "2021-11-04T20:07:29.608803Z",
     "iopub.status.busy": "2021-11-04T20:07:29.606655Z",
     "iopub.status.idle": "2021-11-04T20:07:29.616801Z",
     "shell.execute_reply": "2021-11-04T20:07:29.617223Z"
    },
    "papermill": {
     "duration": 0.04765,
     "end_time": "2021-11-04T20:07:29.617376",
     "exception": false,
     "start_time": "2021-11-04T20:07:29.569726",
     "status": "completed"
    },
    "tags": []
   },
   "outputs": [],
   "source": [
    "data = Data(X_train, y_train.reshape(-1,1))\n",
    "sampler = Sampler(data, config.bs, shuffle=True)\n",
    "\n",
    "dl = Dataloader(data, sampler)\n",
    "\n",
    "opt = GD(config.lr)\n",
    "loss = MSE()"
   ]
  },
  {
   "cell_type": "code",
   "execution_count": 18,
   "id": "b275e4c2",
   "metadata": {
    "execution": {
     "iopub.execute_input": "2021-11-04T20:07:29.686559Z",
     "iopub.status.busy": "2021-11-04T20:07:29.682859Z",
     "iopub.status.idle": "2021-11-04T20:07:29.693027Z",
     "shell.execute_reply": "2021-11-04T20:07:29.693443Z"
    },
    "papermill": {
     "duration": 0.048694,
     "end_time": "2021-11-04T20:07:29.693598",
     "exception": false,
     "start_time": "2021-11-04T20:07:29.644904",
     "status": "completed"
    },
    "tags": []
   },
   "outputs": [],
   "source": [
    "training_data_x = X_train\n",
    "testing_data_x = X_test\n",
    "training_data_y = y_train.reshape(-1,1)\n",
    "testing_data_y = y_test.reshape(-1,1)"
   ]
  },
  {
   "cell_type": "code",
   "execution_count": 19,
   "id": "76951160",
   "metadata": {
    "execution": {
     "iopub.execute_input": "2021-11-04T20:07:29.757827Z",
     "iopub.status.busy": "2021-11-04T20:07:29.756276Z",
     "iopub.status.idle": "2021-11-04T20:07:29.772621Z",
     "shell.execute_reply": "2021-11-04T20:07:29.772169Z"
    },
    "papermill": {
     "duration": 0.051898,
     "end_time": "2021-11-04T20:07:29.772752",
     "exception": false,
     "start_time": "2021-11-04T20:07:29.720854",
     "status": "completed"
    },
    "tags": []
   },
   "outputs": [
    {
     "name": "stdout",
     "output_type": "stream",
     "text": [
      "xavier\n",
      "xavier\n",
      "xavier\n",
      "xavier\n",
      "xavier\n"
     ]
    }
   ],
   "source": [
    "layers = [Affine(\"first\", 784, 100), Relu(\"first\"), Affine(\"second\", 100, 100), Relu(\"second\"), Affine(\"third\", 100, 2), Affine(\"last\", 2, 1), Sigmoid(\"last\")]\n",
    "model_nn = Model(layers)\n",
    "model_lr = Model([Affine(\"logits\", 784, 1), Sigmoid(\"sigmoid\")])"
   ]
  },
  {
   "cell_type": "code",
   "execution_count": 20,
   "id": "6eede77a",
   "metadata": {
    "execution": {
     "iopub.execute_input": "2021-11-04T20:07:29.835461Z",
     "iopub.status.busy": "2021-11-04T20:07:29.834773Z",
     "iopub.status.idle": "2021-11-04T20:07:29.848239Z",
     "shell.execute_reply": "2021-11-04T20:07:29.847715Z"
    },
    "papermill": {
     "duration": 0.047849,
     "end_time": "2021-11-04T20:07:29.848371",
     "exception": false,
     "start_time": "2021-11-04T20:07:29.800522",
     "status": "completed"
    },
    "tags": []
   },
   "outputs": [],
   "source": [
    "nn_learner = Learner(loss, model_nn, opt, config.num_epochs)\n",
    "acc_nn = ClfCallback(nn_learner, config.bs, training_data_x , testing_data_x, training_data_y, testing_data_y)\n",
    "nn_learner.set_callbacks([acc_nn])"
   ]
  },
  {
   "cell_type": "code",
   "execution_count": 21,
   "id": "877b6cc7",
   "metadata": {
    "execution": {
     "iopub.execute_input": "2021-11-04T20:07:29.912704Z",
     "iopub.status.busy": "2021-11-04T20:07:29.912056Z",
     "iopub.status.idle": "2021-11-04T20:07:29.922454Z",
     "shell.execute_reply": "2021-11-04T20:07:29.921938Z"
    },
    "papermill": {
     "duration": 0.046255,
     "end_time": "2021-11-04T20:07:29.922576",
     "exception": false,
     "start_time": "2021-11-04T20:07:29.876321",
     "status": "completed"
    },
    "tags": []
   },
   "outputs": [],
   "source": [
    "lr_learner = Learner(loss, model_lr, opt, config.num_epochs)\n",
    "acc_lr = ClfCallback(lr_learner, config.bs, training_data_x , testing_data_x, training_data_y, testing_data_y)\n",
    "lr_learner.set_callbacks([acc_lr])"
   ]
  },
  {
   "cell_type": "code",
   "execution_count": 22,
   "id": "d9b133c3",
   "metadata": {
    "execution": {
     "iopub.execute_input": "2021-11-04T20:07:29.989526Z",
     "iopub.status.busy": "2021-11-04T20:07:29.988426Z",
     "iopub.status.idle": "2021-11-04T20:08:54.768951Z",
     "shell.execute_reply": "2021-11-04T20:08:54.769696Z"
    },
    "papermill": {
     "duration": 84.81898,
     "end_time": "2021-11-04T20:08:54.769861",
     "exception": false,
     "start_time": "2021-11-04T20:07:29.950881",
     "status": "completed"
    },
    "tags": []
   },
   "outputs": [
    {
     "name": "stdout",
     "output_type": "stream",
     "text": [
      "Epoch 0, Loss 0.2479\n",
      "Training Accuracy: 0.5842, Testing Accuracy: 0.6099\n",
      "\n"
     ]
    },
    {
     "name": "stdout",
     "output_type": "stream",
     "text": [
      "Epoch 10, Loss 0.1813\n",
      "Training Accuracy: 0.8918, Testing Accuracy: 0.9108\n",
      "\n"
     ]
    },
    {
     "name": "stdout",
     "output_type": "stream",
     "text": [
      "Epoch 20, Loss 0.0857\n",
      "Training Accuracy: 0.9249, Testing Accuracy: 0.9365\n",
      "\n"
     ]
    },
    {
     "name": "stdout",
     "output_type": "stream",
     "text": [
      "Epoch 30, Loss 0.0563\n",
      "Training Accuracy: 0.9411, Testing Accuracy: 0.9546\n",
      "\n"
     ]
    },
    {
     "name": "stdout",
     "output_type": "stream",
     "text": [
      "Epoch 40, Loss 0.0447\n",
      "Training Accuracy: 0.9498, Testing Accuracy: 0.9602\n",
      "\n"
     ]
    },
    {
     "name": "stdout",
     "output_type": "stream",
     "text": [
      "Epoch 50, Loss 0.0387\n",
      "Training Accuracy: 0.9553, Testing Accuracy: 0.9652\n",
      "\n"
     ]
    },
    {
     "name": "stdout",
     "output_type": "stream",
     "text": [
      "Epoch 60, Loss 0.035\n",
      "Training Accuracy: 0.9584, Testing Accuracy: 0.9672\n",
      "\n"
     ]
    },
    {
     "name": "stdout",
     "output_type": "stream",
     "text": [
      "Epoch 70, Loss 0.0324\n",
      "Training Accuracy: 0.9617, Testing Accuracy: 0.9698\n",
      "\n"
     ]
    },
    {
     "name": "stdout",
     "output_type": "stream",
     "text": [
      "Epoch 80, Loss 0.0305\n",
      "Training Accuracy: 0.9642, Testing Accuracy: 0.9713\n",
      "\n"
     ]
    },
    {
     "name": "stdout",
     "output_type": "stream",
     "text": [
      "Epoch 90, Loss 0.029\n",
      "Training Accuracy: 0.9658, Testing Accuracy: 0.9728\n",
      "\n"
     ]
    },
    {
     "name": "stdout",
     "output_type": "stream",
     "text": [
      "Epoch 100, Loss 0.0278\n",
      "Training Accuracy: 0.9675, Testing Accuracy: 0.9733\n",
      "\n"
     ]
    },
    {
     "name": "stdout",
     "output_type": "stream",
     "text": [
      "Epoch 110, Loss 0.0267\n",
      "Training Accuracy: 0.9685, Testing Accuracy: 0.9723\n",
      "\n"
     ]
    },
    {
     "name": "stdout",
     "output_type": "stream",
     "text": [
      "Epoch 120, Loss 0.0258\n",
      "Training Accuracy: 0.9695, Testing Accuracy: 0.9728\n",
      "\n"
     ]
    },
    {
     "name": "stdout",
     "output_type": "stream",
     "text": [
      "Epoch 130, Loss 0.025\n",
      "Training Accuracy: 0.9702, Testing Accuracy: 0.9728\n",
      "\n"
     ]
    },
    {
     "name": "stdout",
     "output_type": "stream",
     "text": [
      "Epoch 140, Loss 0.0243\n",
      "Training Accuracy: 0.9711, Testing Accuracy: 0.9723\n",
      "\n"
     ]
    },
    {
     "name": "stdout",
     "output_type": "stream",
     "text": [
      "Epoch 150, Loss 0.0236\n",
      "Training Accuracy: 0.9725, Testing Accuracy: 0.9718\n",
      "\n"
     ]
    },
    {
     "name": "stdout",
     "output_type": "stream",
     "text": [
      "Epoch 160, Loss 0.023\n",
      "Training Accuracy: 0.9733, Testing Accuracy: 0.9723\n",
      "\n"
     ]
    },
    {
     "name": "stdout",
     "output_type": "stream",
     "text": [
      "Epoch 170, Loss 0.0224\n",
      "Training Accuracy: 0.9739, Testing Accuracy: 0.9733\n",
      "\n"
     ]
    },
    {
     "name": "stdout",
     "output_type": "stream",
     "text": [
      "Epoch 180, Loss 0.0219\n",
      "Training Accuracy: 0.9747, Testing Accuracy: 0.9733\n",
      "\n"
     ]
    },
    {
     "name": "stdout",
     "output_type": "stream",
     "text": [
      "Epoch 190, Loss 0.0214\n",
      "Training Accuracy: 0.9749, Testing Accuracy: 0.9738\n",
      "\n"
     ]
    },
    {
     "name": "stdout",
     "output_type": "stream",
     "text": [
      "Epoch 200, Loss 0.021\n",
      "Training Accuracy: 0.9756, Testing Accuracy: 0.9738\n",
      "\n"
     ]
    },
    {
     "name": "stdout",
     "output_type": "stream",
     "text": [
      "Epoch 210, Loss 0.0205\n",
      "Training Accuracy: 0.9761, Testing Accuracy: 0.9738\n",
      "\n"
     ]
    },
    {
     "name": "stdout",
     "output_type": "stream",
     "text": [
      "Epoch 220, Loss 0.0201\n",
      "Training Accuracy: 0.9765, Testing Accuracy: 0.9738\n",
      "\n"
     ]
    },
    {
     "name": "stdout",
     "output_type": "stream",
     "text": [
      "Epoch 230, Loss 0.0197\n",
      "Training Accuracy: 0.9772, Testing Accuracy: 0.9743\n",
      "\n"
     ]
    },
    {
     "name": "stdout",
     "output_type": "stream",
     "text": [
      "Epoch 240, Loss 0.0193\n",
      "Training Accuracy: 0.9775, Testing Accuracy: 0.9748\n",
      "\n"
     ]
    },
    {
     "data": {
      "text/plain": [
       "0.0065616389804487784"
      ]
     },
     "execution_count": 22,
     "metadata": {},
     "output_type": "execute_result"
    }
   ],
   "source": [
    "nn_learner.train_loop(dl)"
   ]
  },
  {
   "cell_type": "code",
   "execution_count": 23,
   "id": "e0163366",
   "metadata": {
    "execution": {
     "iopub.execute_input": "2021-11-04T20:08:54.860705Z",
     "iopub.status.busy": "2021-11-04T20:08:54.860115Z",
     "iopub.status.idle": "2021-11-04T20:09:10.160762Z",
     "shell.execute_reply": "2021-11-04T20:09:10.161550Z"
    },
    "papermill": {
     "duration": 15.356164,
     "end_time": "2021-11-04T20:09:10.161728",
     "exception": false,
     "start_time": "2021-11-04T20:08:54.805564",
     "status": "completed"
    },
    "tags": []
   },
   "outputs": [
    {
     "name": "stdout",
     "output_type": "stream",
     "text": [
      "Epoch 0, Loss 0.217\n",
      "Training Accuracy: 0.7858, Testing Accuracy: 0.7893\n",
      "\n"
     ]
    },
    {
     "name": "stdout",
     "output_type": "stream",
     "text": [
      "Epoch 10, Loss 0.1015\n",
      "Training Accuracy: 0.9125, Testing Accuracy: 0.9183\n",
      "\n"
     ]
    },
    {
     "name": "stdout",
     "output_type": "stream",
     "text": [
      "Epoch 20, Loss 0.0786\n",
      "Training Accuracy: 0.9283, Testing Accuracy: 0.9400\n",
      "\n"
     ]
    },
    {
     "name": "stdout",
     "output_type": "stream",
     "text": [
      "Epoch 30, Loss 0.0679\n",
      "Training Accuracy: 0.9357, Testing Accuracy: 0.9496\n",
      "\n"
     ]
    },
    {
     "name": "stdout",
     "output_type": "stream",
     "text": [
      "Epoch 40, Loss 0.0613\n",
      "Training Accuracy: 0.9404, Testing Accuracy: 0.9541\n",
      "\n"
     ]
    },
    {
     "name": "stdout",
     "output_type": "stream",
     "text": [
      "Epoch 50, Loss 0.0569\n",
      "Training Accuracy: 0.9451, Testing Accuracy: 0.9582\n",
      "\n"
     ]
    },
    {
     "name": "stdout",
     "output_type": "stream",
     "text": [
      "Epoch 60, Loss 0.0536\n",
      "Training Accuracy: 0.9473, Testing Accuracy: 0.9587\n",
      "\n"
     ]
    },
    {
     "name": "stdout",
     "output_type": "stream",
     "text": [
      "Epoch 70, Loss 0.0511\n",
      "Training Accuracy: 0.9492, Testing Accuracy: 0.9592\n",
      "\n"
     ]
    },
    {
     "name": "stdout",
     "output_type": "stream",
     "text": [
      "Epoch 80, Loss 0.0491\n",
      "Training Accuracy: 0.9507, Testing Accuracy: 0.9602\n",
      "\n"
     ]
    },
    {
     "name": "stdout",
     "output_type": "stream",
     "text": [
      "Epoch 90, Loss 0.0474\n",
      "Training Accuracy: 0.9523, Testing Accuracy: 0.9607\n",
      "\n"
     ]
    },
    {
     "name": "stdout",
     "output_type": "stream",
     "text": [
      "Epoch 100, Loss 0.046\n",
      "Training Accuracy: 0.9526, Testing Accuracy: 0.9627\n",
      "\n"
     ]
    },
    {
     "name": "stdout",
     "output_type": "stream",
     "text": [
      "Epoch 110, Loss 0.0448\n",
      "Training Accuracy: 0.9543, Testing Accuracy: 0.9642\n",
      "\n"
     ]
    },
    {
     "name": "stdout",
     "output_type": "stream",
     "text": [
      "Epoch 120, Loss 0.0438\n",
      "Training Accuracy: 0.9551, Testing Accuracy: 0.9647\n",
      "\n"
     ]
    },
    {
     "name": "stdout",
     "output_type": "stream",
     "text": [
      "Epoch 130, Loss 0.0429\n",
      "Training Accuracy: 0.9554, Testing Accuracy: 0.9652\n",
      "\n"
     ]
    },
    {
     "name": "stdout",
     "output_type": "stream",
     "text": [
      "Epoch 140, Loss 0.0421\n",
      "Training Accuracy: 0.9564, Testing Accuracy: 0.9652\n",
      "\n"
     ]
    },
    {
     "name": "stdout",
     "output_type": "stream",
     "text": [
      "Epoch 150, Loss 0.0413\n",
      "Training Accuracy: 0.9574, Testing Accuracy: 0.9657\n",
      "\n"
     ]
    },
    {
     "name": "stdout",
     "output_type": "stream",
     "text": [
      "Epoch 160, Loss 0.0407\n",
      "Training Accuracy: 0.9580, Testing Accuracy: 0.9657\n",
      "\n"
     ]
    },
    {
     "name": "stdout",
     "output_type": "stream",
     "text": [
      "Epoch 170, Loss 0.0401\n",
      "Training Accuracy: 0.9580, Testing Accuracy: 0.9657\n",
      "\n"
     ]
    },
    {
     "name": "stdout",
     "output_type": "stream",
     "text": [
      "Epoch 180, Loss 0.0395\n",
      "Training Accuracy: 0.9584, Testing Accuracy: 0.9657\n",
      "\n"
     ]
    },
    {
     "name": "stdout",
     "output_type": "stream",
     "text": [
      "Epoch 190, Loss 0.039\n",
      "Training Accuracy: 0.9590, Testing Accuracy: 0.9662\n",
      "\n"
     ]
    },
    {
     "name": "stdout",
     "output_type": "stream",
     "text": [
      "Epoch 200, Loss 0.0385\n",
      "Training Accuracy: 0.9592, Testing Accuracy: 0.9662\n",
      "\n"
     ]
    },
    {
     "name": "stdout",
     "output_type": "stream",
     "text": [
      "Epoch 210, Loss 0.0381\n",
      "Training Accuracy: 0.9595, Testing Accuracy: 0.9662\n",
      "\n"
     ]
    },
    {
     "name": "stdout",
     "output_type": "stream",
     "text": [
      "Epoch 220, Loss 0.0377\n",
      "Training Accuracy: 0.9597, Testing Accuracy: 0.9657\n",
      "\n"
     ]
    },
    {
     "name": "stdout",
     "output_type": "stream",
     "text": [
      "Epoch 230, Loss 0.0373\n",
      "Training Accuracy: 0.9598, Testing Accuracy: 0.9652\n",
      "\n"
     ]
    },
    {
     "name": "stdout",
     "output_type": "stream",
     "text": [
      "Epoch 240, Loss 0.0369\n",
      "Training Accuracy: 0.9604, Testing Accuracy: 0.9652\n",
      "\n"
     ]
    },
    {
     "data": {
      "text/plain": [
       "0.04400361064919799"
      ]
     },
     "execution_count": 23,
     "metadata": {},
     "output_type": "execute_result"
    }
   ],
   "source": [
    "lr_learner.train_loop(dl)"
   ]
  },
  {
   "cell_type": "code",
   "execution_count": 24,
   "id": "ca410940",
   "metadata": {
    "execution": {
     "iopub.execute_input": "2021-11-04T20:09:10.258208Z",
     "iopub.status.busy": "2021-11-04T20:09:10.253097Z",
     "iopub.status.idle": "2021-11-04T20:09:10.496815Z",
     "shell.execute_reply": "2021-11-04T20:09:10.496323Z"
    },
    "papermill": {
     "duration": 0.293662,
     "end_time": "2021-11-04T20:09:10.496942",
     "exception": false,
     "start_time": "2021-11-04T20:09:10.203280",
     "status": "completed"
    },
    "tags": []
   },
   "outputs": [
    {
     "data": {
      "text/plain": [
       "<matplotlib.legend.Legend at 0x7fcddefa0588>"
      ]
     },
     "execution_count": 24,
     "metadata": {},
     "output_type": "execute_result"
    },
    {
     "data": {
      "image/png": "[encoded data removed]",
      "text/plain": [
       "<Figure size 1080x720 with 1 Axes>"
      ]
     },
     "metadata": {
      "needs_background": "light"
     },
     "output_type": "display_data"
    }
   ],
   "source": [
    "#comparing the results of NN and LR\n",
    "plt.figure(figsize=(15,10))\n",
    "\n",
    "# Neural Network plots\n",
    "plt.plot(acc_nn.accuracies, 'r-', label = \"Training Accuracies - NN\")\n",
    "plt.plot(acc_nn.test_accuracies, 'g-', label = \"Testing Accuracies - NN\")\n",
    "\n",
    "# Logistic Regression plots\n",
    "plt.plot(acc_lr.accuracies, 'k-', label = \"Training Accuracies - LR\")\n",
    "plt.plot(acc_lr.test_accuracies, 'b-', label = \"Testing Accuracies - LR\")\n",
    "plt.legend()"
   ]
  },
  {
   "cell_type": "markdown",
   "id": "80dfb35c",
   "metadata": {
    "papermill": {
     "duration": 0.042375,
     "end_time": "2021-11-04T20:09:10.582446",
     "exception": false,
     "start_time": "2021-11-04T20:09:10.540071",
     "status": "completed"
    },
    "tags": []
   },
   "source": [
    "#### Plotting the outputs of this layer of the NN.\n"
   ]
  },
  {
   "cell_type": "code",
   "execution_count": 25,
   "id": "45eb2ff5",
   "metadata": {
    "execution": {
     "iopub.execute_input": "2021-11-04T20:09:10.676810Z",
     "iopub.status.busy": "2021-11-04T20:09:10.676206Z",
     "iopub.status.idle": "2021-11-04T20:09:10.695144Z",
     "shell.execute_reply": "2021-11-04T20:09:10.695637Z"
    },
    "papermill": {
     "duration": 0.070917,
     "end_time": "2021-11-04T20:09:10.695798",
     "exception": false,
     "start_time": "2021-11-04T20:09:10.624881",
     "status": "completed"
    },
    "tags": []
   },
   "outputs": [],
   "source": [
    "new_model = Model(layers[:-2])\n",
    "testing_plot = new_model(testing_data_x)"
   ]
  },
  {
   "cell_type": "code",
   "execution_count": 26,
   "id": "4c0a5485",
   "metadata": {
    "execution": {
     "iopub.execute_input": "2021-11-04T20:09:10.787349Z",
     "iopub.status.busy": "2021-11-04T20:09:10.786763Z",
     "iopub.status.idle": "2021-11-04T20:09:10.988380Z",
     "shell.execute_reply": "2021-11-04T20:09:10.988779Z"
    },
    "papermill": {
     "duration": 0.249144,
     "end_time": "2021-11-04T20:09:10.988931",
     "exception": false,
     "start_time": "2021-11-04T20:09:10.739787",
     "status": "completed"
    },
    "tags": []
   },
   "outputs": [
    {
     "data": {
      "text/plain": [
       "Text(0.5, 1.0, 'Outputs')"
      ]
     },
     "execution_count": 26,
     "metadata": {},
     "output_type": "execute_result"
    },
    {
     "data": {
      "image/png": "[encoded data removed]",
      "text/plain": [
       "<Figure size 576x504 with 1 Axes>"
      ]
     },
     "metadata": {
      "needs_background": "light"
     },
     "output_type": "display_data"
    }
   ],
   "source": [
    "# Plotting the scatter plot of points and color coding by class\n",
    "plt.figure(figsize=(8,7))\n",
    "plt.scatter(testing_plot[:,0], testing_plot[:,1], alpha = 0.1, c = y_test.ravel());\n",
    "plt.title('Outputs')"
   ]
  },
  {
   "cell_type": "markdown",
   "id": "a74fcf8f",
   "metadata": {
    "papermill": {
     "duration": 0.044593,
     "end_time": "2021-11-04T20:09:11.078114",
     "exception": false,
     "start_time": "2021-11-04T20:09:11.033521",
     "status": "completed"
    },
    "tags": []
   },
   "source": [
    "Probability contours"
   ]
  },
  {
   "cell_type": "code",
   "execution_count": 27,
   "id": "d0afc8e3",
   "metadata": {
    "execution": {
     "iopub.execute_input": "2021-11-04T20:09:11.173804Z",
     "iopub.status.busy": "2021-11-04T20:09:11.173208Z",
     "iopub.status.idle": "2021-11-04T20:09:11.185715Z",
     "shell.execute_reply": "2021-11-04T20:09:11.185222Z"
    },
    "papermill": {
     "duration": 0.062106,
     "end_time": "2021-11-04T20:09:11.185846",
     "exception": false,
     "start_time": "2021-11-04T20:09:11.123740",
     "status": "completed"
    },
    "tags": []
   },
   "outputs": [],
   "source": [
    "model_prob = Model(layers[-2:]) "
   ]
  },
  {
   "cell_type": "code",
   "execution_count": 28,
   "id": "9b96e238",
   "metadata": {
    "execution": {
     "iopub.execute_input": "2021-11-04T20:09:11.320816Z",
     "iopub.status.busy": "2021-11-04T20:09:11.320246Z",
     "iopub.status.idle": "2021-11-04T20:09:11.333059Z",
     "shell.execute_reply": "2021-11-04T20:09:11.333487Z"
    },
    "papermill": {
     "duration": 0.065566,
     "end_time": "2021-11-04T20:09:11.333675",
     "exception": false,
     "start_time": "2021-11-04T20:09:11.268109",
     "status": "completed"
    },
    "tags": []
   },
   "outputs": [],
   "source": [
    "#creating the x and y ranges according to the above generated plot.\n",
    "x_range = np.linspace(-4, 1, 100) \n",
    "y_range = np.linspace(-6, 6, 100) \n",
    "x_grid, y_grid = np.meshgrid(x_range, y_range) # x_grid and y_grig are of size 100 X 100\n",
    "\n",
    "# converting x_grid and y_grid to continuous arrays\n",
    "x_gridflat = np.ravel(x_grid)\n",
    "y_gridflat = np.ravel(y_grid)\n",
    "\n",
    "# The last layer of the current model takes two columns as input. Hence transpose of np.vstack() is required.\n",
    "X = np.vstack((x_gridflat, y_gridflat)).T\n",
    "\n",
    "prob_contour = model_prob(X).reshape(100,100) "
   ]
  },
  {
   "cell_type": "code",
   "execution_count": 29,
   "id": "da72499a",
   "metadata": {
    "execution": {
     "iopub.execute_input": "2021-11-04T20:09:11.435375Z",
     "iopub.status.busy": "2021-11-04T20:09:11.434823Z",
     "iopub.status.idle": "2021-11-04T20:09:11.685244Z",
     "shell.execute_reply": "2021-11-04T20:09:11.684336Z"
    },
    "papermill": {
     "duration": 0.304076,
     "end_time": "2021-11-04T20:09:11.685390",
     "exception": false,
     "start_time": "2021-11-04T20:09:11.381314",
     "status": "completed"
    },
    "tags": []
   },
   "outputs": [
    {
     "data": {
      "image/png": "[encoded data removed]",
      "text/plain": [
       "<Figure size 720x648 with 1 Axes>"
      ]
     },
     "metadata": {
      "needs_background": "light"
     },
     "output_type": "display_data"
    }
   ],
   "source": [
    "plt.figure(figsize=(10,9))\n",
    "plt.scatter(testing_plot[:,0], testing_plot[:,1], alpha = 0.1, c = y_test.ravel())\n",
    "contours = plt.contour(x_grid,y_grid,prob_contour)\n",
    "plt.title('Probability Contours')\n",
    "plt.clabel(contours, inline = True );"
   ]
  },
  {
   "cell_type": "code",
   "execution_count": null,
   "id": "e81b4ac7",
   "metadata": {
    "papermill": {
     "duration": 0.048148,
     "end_time": "2021-11-04T20:09:11.781372",
     "exception": false,
     "start_time": "2021-11-04T20:09:11.733224",
     "status": "completed"
    },
    "tags": []
   },
   "outputs": [],
   "source": []
  }
 ],
 "metadata": {
  "kernelspec": {
   "display_name": "Python 3",
   "language": "python",
   "name": "python3"
  },
  "language_info": {
   "codemirror_mode": {
    "name": "ipython",
    "version": 3
   },
   "file_extension": ".py",
   "mimetype": "text/x-python",
   "name": "python",
   "nbconvert_exporter": "python",
   "pygments_lexer": "ipython3",
   "version": "3.6.15"
  },
  "papermill": {
   "default_parameters": {},
   "duration": 108.870062,
   "end_time": "2021-11-04T20:09:12.339752",
   "environment_variables": {},
   "exception": null,
   "input_path": "2020-08-11-part2.ipynb",
   "output_path": "2020-08-11-part2.ipynb",
   "parameters": {},
   "start_time": "2021-11-04T20:07:23.469690",
   "version": "2.3.3"
  }
 },
 "nbformat": 4,
 "nbformat_minor": 5
}