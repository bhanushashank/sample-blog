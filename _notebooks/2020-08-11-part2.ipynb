{
 "cells": [
  {
   "cell_type": "markdown",
   "id": "98380cd3",
   "metadata": {
    "papermill": {
     "duration": 0.033289,
     "end_time": "2021-11-17T20:09:28.847353",
     "exception": false,
     "start_time": "2021-11-17T20:09:28.814064",
     "status": "completed"
    },
    "tags": []
   },
   "source": [
    "# Distinguish Your Own Digits (DYOD)"
   ]
  },
  {
   "cell_type": "markdown",
   "id": "ef31240d",
   "metadata": {
    "papermill": {
     "duration": 0.02988,
     "end_time": "2021-11-17T20:09:28.908492",
     "exception": false,
     "start_time": "2021-11-17T20:09:28.878612",
     "status": "completed"
    },
    "tags": []
   },
   "source": [
    "You are going to write a classifier that distinguishes between the number 3 and number 8."
   ]
  },
  {
   "cell_type": "code",
   "execution_count": 1,
   "id": "b15c8646",
   "metadata": {
    "execution": {
     "iopub.execute_input": "2021-11-17T20:09:28.975764Z",
     "iopub.status.busy": "2021-11-17T20:09:28.975111Z",
     "iopub.status.idle": "2021-11-17T20:09:28.985354Z",
     "shell.execute_reply": "2021-11-17T20:09:28.985959Z"
    },
    "papermill": {
     "duration": 0.048735,
     "end_time": "2021-11-17T20:09:28.986112",
     "exception": false,
     "start_time": "2021-11-17T20:09:28.937377",
     "status": "completed"
    },
    "tags": []
   },
   "outputs": [],
   "source": [
    "%load_ext autoreload\n",
    "%autoreload 2"
   ]
  },
  {
   "cell_type": "code",
   "execution_count": 2,
   "id": "22ef38dc",
   "metadata": {
    "execution": {
     "iopub.execute_input": "2021-11-17T20:09:29.053904Z",
     "iopub.status.busy": "2021-11-17T20:09:29.053177Z",
     "iopub.status.idle": "2021-11-17T20:09:29.642075Z",
     "shell.execute_reply": "2021-11-17T20:09:29.641438Z"
    },
    "papermill": {
     "duration": 0.627509,
     "end_time": "2021-11-17T20:09:29.642232",
     "exception": false,
     "start_time": "2021-11-17T20:09:29.014723",
     "status": "completed"
    },
    "tags": []
   },
   "outputs": [],
   "source": [
    "%matplotlib inline\n",
    "import numpy as np\n",
    "import matplotlib.pyplot as plt\n",
    "import pandas as pd"
   ]
  },
  {
   "cell_type": "markdown",
   "id": "ba036198",
   "metadata": {
    "papermill": {
     "duration": 0.030334,
     "end_time": "2021-11-17T20:09:29.702664",
     "exception": false,
     "start_time": "2021-11-17T20:09:29.672330",
     "status": "completed"
    },
    "tags": []
   },
   "source": [
    "From the command line run `pip install mnist`. This is a library that will help you bring down the mnist dataset. If you run this from a notebook, you need to put  `!pip install mnist` in a cell by itself."
   ]
  },
  {
   "cell_type": "code",
   "execution_count": 3,
   "id": "bb6ad8a1",
   "metadata": {
    "execution": {
     "iopub.execute_input": "2021-11-17T20:09:29.770992Z",
     "iopub.status.busy": "2021-11-17T20:09:29.765182Z",
     "iopub.status.idle": "2021-11-17T20:09:31.810973Z",
     "shell.execute_reply": "2021-11-17T20:09:31.811497Z"
    },
    "papermill": {
     "duration": 2.081045,
     "end_time": "2021-11-17T20:09:31.811696",
     "exception": false,
     "start_time": "2021-11-17T20:09:29.730651",
     "status": "completed"
    },
    "tags": []
   },
   "outputs": [
    {
     "name": "stdout",
     "output_type": "stream",
     "text": [
      "Collecting mnist\r\n"
     ]
    },
    {
     "name": "stdout",
     "output_type": "stream",
     "text": [
      "  Downloading mnist-0.2.2-py2.py3-none-any.whl (3.5 kB)\r\n",
      "Requirement already satisfied: numpy in /opt/hostedtoolcache/Python/3.6.15/x64/lib/python3.6/site-packages (from mnist) (1.19.5)\r\n"
     ]
    },
    {
     "name": "stdout",
     "output_type": "stream",
     "text": [
      "Installing collected packages: mnist\r\n"
     ]
    },
    {
     "name": "stdout",
     "output_type": "stream",
     "text": [
      "Successfully installed mnist-0.2.2\r\n"
     ]
    }
   ],
   "source": [
    "!pip install mnist"
   ]
  },
  {
   "cell_type": "markdown",
   "id": "69df9c9a",
   "metadata": {
    "papermill": {
     "duration": 0.033666,
     "end_time": "2021-11-17T20:09:31.875341",
     "exception": false,
     "start_time": "2021-11-17T20:09:31.841675",
     "status": "completed"
    },
    "tags": []
   },
   "source": [
    "## Preparing the Data"
   ]
  },
  {
   "cell_type": "code",
   "execution_count": 4,
   "id": "7f69d806",
   "metadata": {
    "execution": {
     "iopub.execute_input": "2021-11-17T20:09:31.941003Z",
     "iopub.status.busy": "2021-11-17T20:09:31.940345Z",
     "iopub.status.idle": "2021-11-17T20:09:31.955570Z",
     "shell.execute_reply": "2021-11-17T20:09:31.955072Z"
    },
    "papermill": {
     "duration": 0.05015,
     "end_time": "2021-11-17T20:09:31.955691",
     "exception": false,
     "start_time": "2021-11-17T20:09:31.905541",
     "status": "completed"
    },
    "tags": []
   },
   "outputs": [],
   "source": [
    "import mnist"
   ]
  },
  {
   "cell_type": "code",
   "execution_count": 5,
   "id": "a411e44f",
   "metadata": {
    "execution": {
     "iopub.execute_input": "2021-11-17T20:09:32.021965Z",
     "iopub.status.busy": "2021-11-17T20:09:32.021381Z",
     "iopub.status.idle": "2021-11-17T20:09:32.735717Z",
     "shell.execute_reply": "2021-11-17T20:09:32.736231Z"
    },
    "papermill": {
     "duration": 0.750566,
     "end_time": "2021-11-17T20:09:32.736406",
     "exception": false,
     "start_time": "2021-11-17T20:09:31.985840",
     "status": "completed"
    },
    "tags": []
   },
   "outputs": [],
   "source": [
    "train_images = mnist.train_images()\n",
    "train_labels = mnist.train_labels()"
   ]
  },
  {
   "cell_type": "code",
   "execution_count": 6,
   "id": "dceab3a5",
   "metadata": {
    "execution": {
     "iopub.execute_input": "2021-11-17T20:09:32.809797Z",
     "iopub.status.busy": "2021-11-17T20:09:32.809099Z",
     "iopub.status.idle": "2021-11-17T20:09:32.824342Z",
     "shell.execute_reply": "2021-11-17T20:09:32.824913Z"
    },
    "papermill": {
     "duration": 0.05506,
     "end_time": "2021-11-17T20:09:32.825075",
     "exception": false,
     "start_time": "2021-11-17T20:09:32.770015",
     "status": "completed"
    },
    "tags": []
   },
   "outputs": [
    {
     "data": {
      "text/plain": [
       "((60000, 28, 28), (60000,))"
      ]
     },
     "execution_count": 6,
     "metadata": {},
     "output_type": "execute_result"
    }
   ],
   "source": [
    "train_images.shape, train_labels.shape"
   ]
  },
  {
   "cell_type": "code",
   "execution_count": 7,
   "id": "f50dc2bb",
   "metadata": {
    "execution": {
     "iopub.execute_input": "2021-11-17T20:09:32.893934Z",
     "iopub.status.busy": "2021-11-17T20:09:32.893264Z",
     "iopub.status.idle": "2021-11-17T20:09:33.097725Z",
     "shell.execute_reply": "2021-11-17T20:09:33.097182Z"
    },
    "papermill": {
     "duration": 0.239971,
     "end_time": "2021-11-17T20:09:33.097863",
     "exception": false,
     "start_time": "2021-11-17T20:09:32.857892",
     "status": "completed"
    },
    "tags": []
   },
   "outputs": [],
   "source": [
    "test_images = mnist.test_images()\n",
    "test_labels = mnist.test_labels()"
   ]
  },
  {
   "cell_type": "code",
   "execution_count": 8,
   "id": "fc38cf1b",
   "metadata": {
    "execution": {
     "iopub.execute_input": "2021-11-17T20:09:33.168472Z",
     "iopub.status.busy": "2021-11-17T20:09:33.167864Z",
     "iopub.status.idle": "2021-11-17T20:09:33.184299Z",
     "shell.execute_reply": "2021-11-17T20:09:33.183823Z"
    },
    "papermill": {
     "duration": 0.056964,
     "end_time": "2021-11-17T20:09:33.184426",
     "exception": false,
     "start_time": "2021-11-17T20:09:33.127462",
     "status": "completed"
    },
    "tags": []
   },
   "outputs": [
    {
     "data": {
      "text/plain": [
       "((10000, 28, 28), (10000,))"
      ]
     },
     "execution_count": 8,
     "metadata": {},
     "output_type": "execute_result"
    }
   ],
   "source": [
    "test_images.shape, test_labels.shape"
   ]
  },
  {
   "cell_type": "code",
   "execution_count": 9,
   "id": "f9ed8fe0",
   "metadata": {
    "execution": {
     "iopub.execute_input": "2021-11-17T20:09:33.282045Z",
     "iopub.status.busy": "2021-11-17T20:09:33.258614Z",
     "iopub.status.idle": "2021-11-17T20:09:33.434865Z",
     "shell.execute_reply": "2021-11-17T20:09:33.434298Z"
    },
    "papermill": {
     "duration": 0.217606,
     "end_time": "2021-11-17T20:09:33.435004",
     "exception": false,
     "start_time": "2021-11-17T20:09:33.217398",
     "status": "completed"
    },
    "tags": []
   },
   "outputs": [
    {
     "name": "stdout",
     "output_type": "stream",
     "text": [
      "2\n"
     ]
    },
    {
     "data": {
      "text/plain": [
       "<matplotlib.image.AxesImage at 0x7fb08bf32b70>"
      ]
     },
     "execution_count": 9,
     "metadata": {},
     "output_type": "execute_result"
    },
    {
     "data": {
      "image/png": "[encoded data removed]",
      "text/plain": [
       "<Figure size 432x288 with 1 Axes>"
      ]
     },
     "metadata": {
      "needs_background": "light"
     },
     "output_type": "display_data"
    }
   ],
   "source": [
    "image_index = 7776 # You may select anything up to 60,000\n",
    "print(train_labels[image_index]) \n",
    "plt.imshow(train_images[image_index], cmap='Greys')"
   ]
  },
  {
   "cell_type": "markdown",
   "id": "a8d2388d",
   "metadata": {
    "papermill": {
     "duration": 0.032365,
     "end_time": "2021-11-17T20:09:33.502135",
     "exception": false,
     "start_time": "2021-11-17T20:09:33.469770",
     "status": "completed"
    },
    "tags": []
   },
   "source": [
    "## Filter data to get 3 and 8 out"
   ]
  },
  {
   "cell_type": "code",
   "execution_count": 10,
   "id": "776f7fc7",
   "metadata": {
    "execution": {
     "iopub.execute_input": "2021-11-17T20:09:33.578810Z",
     "iopub.status.busy": "2021-11-17T20:09:33.572819Z",
     "iopub.status.idle": "2021-11-17T20:09:33.592889Z",
     "shell.execute_reply": "2021-11-17T20:09:33.592247Z"
    },
    "papermill": {
     "duration": 0.058233,
     "end_time": "2021-11-17T20:09:33.593063",
     "exception": false,
     "start_time": "2021-11-17T20:09:33.534830",
     "status": "completed"
    },
    "tags": []
   },
   "outputs": [],
   "source": [
    "train_filter = np.where((train_labels == 3 ) | (train_labels == 8))\n",
    "test_filter = np.where((test_labels == 3) | (test_labels == 8))\n",
    "X_train, y_train = train_images[train_filter], train_labels[train_filter]\n",
    "X_test, y_test = test_images[test_filter], test_labels[test_filter]"
   ]
  },
  {
   "cell_type": "markdown",
   "id": "948f0b7e",
   "metadata": {
    "papermill": {
     "duration": 0.032274,
     "end_time": "2021-11-17T20:09:33.657071",
     "exception": false,
     "start_time": "2021-11-17T20:09:33.624797",
     "status": "completed"
    },
    "tags": []
   },
   "source": [
    "We normalize the pizel values in the 0 to 1 range"
   ]
  },
  {
   "cell_type": "code",
   "execution_count": 11,
   "id": "ee4c2166",
   "metadata": {
    "execution": {
     "iopub.execute_input": "2021-11-17T20:09:33.730152Z",
     "iopub.status.busy": "2021-11-17T20:09:33.729429Z",
     "iopub.status.idle": "2021-11-17T20:09:33.792765Z",
     "shell.execute_reply": "2021-11-17T20:09:33.792125Z"
    },
    "papermill": {
     "duration": 0.102229,
     "end_time": "2021-11-17T20:09:33.793045",
     "exception": false,
     "start_time": "2021-11-17T20:09:33.690816",
     "status": "completed"
    },
    "tags": []
   },
   "outputs": [],
   "source": [
    "X_train = X_train/255.\n",
    "X_test = X_test/255."
   ]
  },
  {
   "cell_type": "markdown",
   "id": "ddcf4fab",
   "metadata": {
    "papermill": {
     "duration": 0.03532,
     "end_time": "2021-11-17T20:09:33.862724",
     "exception": false,
     "start_time": "2021-11-17T20:09:33.827404",
     "status": "completed"
    },
    "tags": []
   },
   "source": [
    "And setup the labels as 1 (when the digit is 3) and 0 (when the digit is 8)"
   ]
  },
  {
   "cell_type": "code",
   "execution_count": 12,
   "id": "7dc908f2",
   "metadata": {
    "execution": {
     "iopub.execute_input": "2021-11-17T20:09:33.938286Z",
     "iopub.status.busy": "2021-11-17T20:09:33.937619Z",
     "iopub.status.idle": "2021-11-17T20:09:33.949668Z",
     "shell.execute_reply": "2021-11-17T20:09:33.950279Z"
    },
    "papermill": {
     "duration": 0.053197,
     "end_time": "2021-11-17T20:09:33.950448",
     "exception": false,
     "start_time": "2021-11-17T20:09:33.897251",
     "status": "completed"
    },
    "tags": []
   },
   "outputs": [],
   "source": [
    "y_train = 1*(y_train==3)\n",
    "y_test = 1*(y_test==3)"
   ]
  },
  {
   "cell_type": "code",
   "execution_count": 13,
   "id": "01e4e969",
   "metadata": {
    "execution": {
     "iopub.execute_input": "2021-11-17T20:09:34.028321Z",
     "iopub.status.busy": "2021-11-17T20:09:34.027566Z",
     "iopub.status.idle": "2021-11-17T20:09:34.040159Z",
     "shell.execute_reply": "2021-11-17T20:09:34.039603Z"
    },
    "papermill": {
     "duration": 0.054912,
     "end_time": "2021-11-17T20:09:34.040294",
     "exception": false,
     "start_time": "2021-11-17T20:09:33.985382",
     "status": "completed"
    },
    "tags": []
   },
   "outputs": [
    {
     "data": {
      "text/plain": [
       "((11982, 28, 28), (1984, 28, 28))"
      ]
     },
     "execution_count": 13,
     "metadata": {},
     "output_type": "execute_result"
    }
   ],
   "source": [
    "X_train.shape, X_test.shape"
   ]
  },
  {
   "cell_type": "markdown",
   "id": "5ccf3f85",
   "metadata": {
    "papermill": {
     "duration": 0.035253,
     "end_time": "2021-11-17T20:09:34.119640",
     "exception": false,
     "start_time": "2021-11-17T20:09:34.084387",
     "status": "completed"
    },
    "tags": []
   },
   "source": [
    "We reshape the data to flatten the image pixels into a set of features or co-variates:"
   ]
  },
  {
   "cell_type": "code",
   "execution_count": 14,
   "id": "5286a4a3",
   "metadata": {
    "execution": {
     "iopub.execute_input": "2021-11-17T20:09:34.209725Z",
     "iopub.status.busy": "2021-11-17T20:09:34.204885Z",
     "iopub.status.idle": "2021-11-17T20:09:34.216020Z",
     "shell.execute_reply": "2021-11-17T20:09:34.215294Z"
    },
    "papermill": {
     "duration": 0.056044,
     "end_time": "2021-11-17T20:09:34.216163",
     "exception": false,
     "start_time": "2021-11-17T20:09:34.160119",
     "status": "completed"
    },
    "tags": []
   },
   "outputs": [
    {
     "data": {
      "text/plain": [
       "((11982, 784), (1984, 784))"
      ]
     },
     "execution_count": 14,
     "metadata": {},
     "output_type": "execute_result"
    }
   ],
   "source": [
    "X_train = X_train.reshape(X_train.shape[0], -1)\n",
    "X_test = X_test.reshape(X_test.shape[0], -1)\n",
    "X_train.shape, X_test.shape"
   ]
  },
  {
   "cell_type": "code",
   "execution_count": 15,
   "id": "73c5f88a",
   "metadata": {
    "execution": {
     "iopub.execute_input": "2021-11-17T20:09:34.297081Z",
     "iopub.status.busy": "2021-11-17T20:09:34.296355Z",
     "iopub.status.idle": "2021-11-17T20:09:34.314791Z",
     "shell.execute_reply": "2021-11-17T20:09:34.314205Z"
    },
    "papermill": {
     "duration": 0.063373,
     "end_time": "2021-11-17T20:09:34.314928",
     "exception": false,
     "start_time": "2021-11-17T20:09:34.251555",
     "status": "completed"
    },
    "tags": []
   },
   "outputs": [],
   "source": [
    "#Impoting functions from 'Kudzu'\n",
    "from kudzu.model import Model\n",
    "from kudzu.train import Learner\n",
    "from kudzu.optim import GD\n",
    "from kudzu.data import Data, Sampler,Dataloader\n",
    "\n",
    "from kudzu.callbacks import AccCallback\n",
    "from kudzu.callbacks import ClfCallback\n",
    "\n",
    "from kudzu.loss import MSE\n",
    "\n",
    "from kudzu.layer import Sigmoid,Relu\n",
    "from kudzu.layer import Affine"
   ]
  },
  {
   "cell_type": "markdown",
   "id": "bc01172a",
   "metadata": {
    "papermill": {
     "duration": 0.033951,
     "end_time": "2021-11-17T20:09:34.383382",
     "exception": false,
     "start_time": "2021-11-17T20:09:34.349431",
     "status": "completed"
    },
    "tags": []
   },
   "source": [
    "### Let us create a `Config` class, to store important parameters. \n",
    "This class essentially plays the role of a dictionary."
   ]
  },
  {
   "cell_type": "code",
   "execution_count": 16,
   "id": "978281aa",
   "metadata": {
    "execution": {
     "iopub.execute_input": "2021-11-17T20:09:34.452946Z",
     "iopub.status.busy": "2021-11-17T20:09:34.452299Z",
     "iopub.status.idle": "2021-11-17T20:09:34.464142Z",
     "shell.execute_reply": "2021-11-17T20:09:34.464622Z"
    },
    "papermill": {
     "duration": 0.049849,
     "end_time": "2021-11-17T20:09:34.464769",
     "exception": false,
     "start_time": "2021-11-17T20:09:34.414920",
     "status": "completed"
    },
    "tags": []
   },
   "outputs": [],
   "source": [
    "class Config:\n",
    "    pass\n",
    "config = Config()\n",
    "config.lr = 0.001\n",
    "config.num_epochs = 250\n",
    "config.bs = 50"
   ]
  },
  {
   "cell_type": "markdown",
   "id": "1385fa59",
   "metadata": {
    "papermill": {
     "duration": 0.030432,
     "end_time": "2021-11-17T20:09:34.530990",
     "exception": false,
     "start_time": "2021-11-17T20:09:34.500558",
     "status": "completed"
    },
    "tags": []
   },
   "source": [
    "### Running Models with the Training data\n",
    "Details about the network layers:\n",
    "- A first affine layer has 784 inputs and does 100 affine transforms. These are followed by a Relu\n",
    "- A second affine layer has 100 inputs from the 100 activations of the past layer, and does 100 affine transforms. These are followed by a Relu\n",
    "- A third affine layer has 100 activations and does 2 affine transformations to create an embedding for visualization. There is no non-linearity here.\n",
    "- A final \"logistic regression\" which has an affine transform from 2 inputs to 1 output, which is squeezed through a sigmoid.\n"
   ]
  },
  {
   "cell_type": "code",
   "execution_count": 17,
   "id": "2b9c66db",
   "metadata": {
    "execution": {
     "iopub.execute_input": "2021-11-17T20:09:34.597143Z",
     "iopub.status.busy": "2021-11-17T20:09:34.596516Z",
     "iopub.status.idle": "2021-11-17T20:09:34.609471Z",
     "shell.execute_reply": "2021-11-17T20:09:34.608933Z"
    },
    "papermill": {
     "duration": 0.047448,
     "end_time": "2021-11-17T20:09:34.609590",
     "exception": false,
     "start_time": "2021-11-17T20:09:34.562142",
     "status": "completed"
    },
    "tags": []
   },
   "outputs": [],
   "source": [
    "data = Data(X_train, y_train.reshape(-1,1))\n",
    "sampler = Sampler(data, config.bs, shuffle=True)\n",
    "\n",
    "dl = Dataloader(data, sampler)\n",
    "\n",
    "opt = GD(config.lr)\n",
    "loss = MSE()"
   ]
  },
  {
   "cell_type": "code",
   "execution_count": 18,
   "id": "b275e4c2",
   "metadata": {
    "execution": {
     "iopub.execute_input": "2021-11-17T20:09:34.676389Z",
     "iopub.status.busy": "2021-11-17T20:09:34.675734Z",
     "iopub.status.idle": "2021-11-17T20:09:34.690155Z",
     "shell.execute_reply": "2021-11-17T20:09:34.690909Z"
    },
    "papermill": {
     "duration": 0.049462,
     "end_time": "2021-11-17T20:09:34.691063",
     "exception": false,
     "start_time": "2021-11-17T20:09:34.641601",
     "status": "completed"
    },
    "tags": []
   },
   "outputs": [],
   "source": [
    "training_data_x = X_train\n",
    "testing_data_x = X_test\n",
    "training_data_y = y_train.reshape(-1,1)\n",
    "testing_data_y = y_test.reshape(-1,1)"
   ]
  },
  {
   "cell_type": "code",
   "execution_count": 19,
   "id": "76951160",
   "metadata": {
    "execution": {
     "iopub.execute_input": "2021-11-17T20:09:34.763022Z",
     "iopub.status.busy": "2021-11-17T20:09:34.762396Z",
     "iopub.status.idle": "2021-11-17T20:09:34.783039Z",
     "shell.execute_reply": "2021-11-17T20:09:34.783625Z"
    },
    "papermill": {
     "duration": 0.059565,
     "end_time": "2021-11-17T20:09:34.783777",
     "exception": false,
     "start_time": "2021-11-17T20:09:34.724212",
     "status": "completed"
    },
    "tags": []
   },
   "outputs": [
    {
     "name": "stdout",
     "output_type": "stream",
     "text": [
      "xavier\n",
      "xavier\n",
      "xavier\n",
      "xavier\n",
      "xavier\n"
     ]
    }
   ],
   "source": [
    "layers = [Affine(\"first\", 784, 100), Relu(\"first\"), Affine(\"second\", 100, 100), Relu(\"second\"), Affine(\"third\", 100, 2), Affine(\"last\", 2, 1), Sigmoid(\"last\")]\n",
    "model_nn = Model(layers)\n",
    "model_lr = Model([Affine(\"logits\", 784, 1), Sigmoid(\"sigmoid\")])"
   ]
  },
  {
   "cell_type": "code",
   "execution_count": 20,
   "id": "6eede77a",
   "metadata": {
    "execution": {
     "iopub.execute_input": "2021-11-17T20:09:34.858178Z",
     "iopub.status.busy": "2021-11-17T20:09:34.857499Z",
     "iopub.status.idle": "2021-11-17T20:09:34.870215Z",
     "shell.execute_reply": "2021-11-17T20:09:34.870767Z"
    },
    "papermill": {
     "duration": 0.053531,
     "end_time": "2021-11-17T20:09:34.870934",
     "exception": false,
     "start_time": "2021-11-17T20:09:34.817403",
     "status": "completed"
    },
    "tags": []
   },
   "outputs": [],
   "source": [
    "nn_learner = Learner(loss, model_nn, opt, config.num_epochs)\n",
    "acc_nn = ClfCallback(nn_learner, config.bs, training_data_x , testing_data_x, training_data_y, testing_data_y)\n",
    "nn_learner.set_callbacks([acc_nn])"
   ]
  },
  {
   "cell_type": "code",
   "execution_count": 21,
   "id": "877b6cc7",
   "metadata": {
    "execution": {
     "iopub.execute_input": "2021-11-17T20:09:34.946409Z",
     "iopub.status.busy": "2021-11-17T20:09:34.945715Z",
     "iopub.status.idle": "2021-11-17T20:09:34.959913Z",
     "shell.execute_reply": "2021-11-17T20:09:34.959317Z"
    },
    "papermill": {
     "duration": 0.054028,
     "end_time": "2021-11-17T20:09:34.960053",
     "exception": false,
     "start_time": "2021-11-17T20:09:34.906025",
     "status": "completed"
    },
    "tags": []
   },
   "outputs": [],
   "source": [
    "lr_learner = Learner(loss, model_lr, opt, config.num_epochs)\n",
    "acc_lr = ClfCallback(lr_learner, config.bs, training_data_x , testing_data_x, training_data_y, testing_data_y)\n",
    "lr_learner.set_callbacks([acc_lr])"
   ]
  },
  {
   "cell_type": "code",
   "execution_count": 22,
   "id": "d9b133c3",
   "metadata": {
    "execution": {
     "iopub.execute_input": "2021-11-17T20:09:35.033752Z",
     "iopub.status.busy": "2021-11-17T20:09:35.033047Z",
     "iopub.status.idle": "2021-11-17T20:11:43.646148Z",
     "shell.execute_reply": "2021-11-17T20:11:43.647001Z"
    },
    "papermill": {
     "duration": 128.651199,
     "end_time": "2021-11-17T20:11:43.647224",
     "exception": false,
     "start_time": "2021-11-17T20:09:34.996025",
     "status": "completed"
    },
    "tags": []
   },
   "outputs": [
    {
     "name": "stdout",
     "output_type": "stream",
     "text": [
      "Epoch 0, Loss 0.2474\n",
      "Training Accuracy: 0.5915, Testing Accuracy: 0.5791\n",
      "\n"
     ]
    },
    {
     "name": "stdout",
     "output_type": "stream",
     "text": [
      "Epoch 10, Loss 0.1312\n",
      "Training Accuracy: 0.8897, Testing Accuracy: 0.8997\n",
      "\n"
     ]
    },
    {
     "name": "stdout",
     "output_type": "stream",
     "text": [
      "Epoch 20, Loss 0.0702\n",
      "Training Accuracy: 0.9287, Testing Accuracy: 0.9380\n",
      "\n"
     ]
    },
    {
     "name": "stdout",
     "output_type": "stream",
     "text": [
      "Epoch 30, Loss 0.0509\n",
      "Training Accuracy: 0.9453, Testing Accuracy: 0.9551\n",
      "\n"
     ]
    },
    {
     "name": "stdout",
     "output_type": "stream",
     "text": [
      "Epoch 40, Loss 0.0424\n",
      "Training Accuracy: 0.9521, Testing Accuracy: 0.9622\n",
      "\n"
     ]
    },
    {
     "name": "stdout",
     "output_type": "stream",
     "text": [
      "Epoch 50, Loss 0.0377\n",
      "Training Accuracy: 0.9566, Testing Accuracy: 0.9627\n",
      "\n"
     ]
    },
    {
     "name": "stdout",
     "output_type": "stream",
     "text": [
      "Epoch 60, Loss 0.0346\n",
      "Training Accuracy: 0.9601, Testing Accuracy: 0.9652\n",
      "\n"
     ]
    },
    {
     "name": "stdout",
     "output_type": "stream",
     "text": [
      "Epoch 70, Loss 0.0324\n",
      "Training Accuracy: 0.9620, Testing Accuracy: 0.9662\n",
      "\n"
     ]
    },
    {
     "name": "stdout",
     "output_type": "stream",
     "text": [
      "Epoch 80, Loss 0.0307\n",
      "Training Accuracy: 0.9637, Testing Accuracy: 0.9657\n",
      "\n"
     ]
    },
    {
     "name": "stdout",
     "output_type": "stream",
     "text": [
      "Epoch 90, Loss 0.0294\n",
      "Training Accuracy: 0.9646, Testing Accuracy: 0.9662\n",
      "\n"
     ]
    },
    {
     "name": "stdout",
     "output_type": "stream",
     "text": [
      "Epoch 100, Loss 0.0283\n",
      "Training Accuracy: 0.9657, Testing Accuracy: 0.9677\n",
      "\n"
     ]
    },
    {
     "name": "stdout",
     "output_type": "stream",
     "text": [
      "Epoch 110, Loss 0.0273\n",
      "Training Accuracy: 0.9671, Testing Accuracy: 0.9672\n",
      "\n"
     ]
    },
    {
     "name": "stdout",
     "output_type": "stream",
     "text": [
      "Epoch 120, Loss 0.0265\n",
      "Training Accuracy: 0.9689, Testing Accuracy: 0.9682\n",
      "\n"
     ]
    },
    {
     "name": "stdout",
     "output_type": "stream",
     "text": [
      "Epoch 130, Loss 0.0257\n",
      "Training Accuracy: 0.9696, Testing Accuracy: 0.9698\n",
      "\n"
     ]
    },
    {
     "name": "stdout",
     "output_type": "stream",
     "text": [
      "Epoch 140, Loss 0.0251\n",
      "Training Accuracy: 0.9704, Testing Accuracy: 0.9708\n",
      "\n"
     ]
    },
    {
     "name": "stdout",
     "output_type": "stream",
     "text": [
      "Epoch 150, Loss 0.0245\n",
      "Training Accuracy: 0.9717, Testing Accuracy: 0.9698\n",
      "\n"
     ]
    },
    {
     "name": "stdout",
     "output_type": "stream",
     "text": [
      "Epoch 160, Loss 0.0239\n",
      "Training Accuracy: 0.9718, Testing Accuracy: 0.9708\n",
      "\n"
     ]
    },
    {
     "name": "stdout",
     "output_type": "stream",
     "text": [
      "Epoch 170, Loss 0.0234\n",
      "Training Accuracy: 0.9726, Testing Accuracy: 0.9713\n",
      "\n"
     ]
    },
    {
     "name": "stdout",
     "output_type": "stream",
     "text": [
      "Epoch 180, Loss 0.023\n",
      "Training Accuracy: 0.9728, Testing Accuracy: 0.9718\n",
      "\n"
     ]
    },
    {
     "name": "stdout",
     "output_type": "stream",
     "text": [
      "Epoch 190, Loss 0.0225\n",
      "Training Accuracy: 0.9735, Testing Accuracy: 0.9713\n",
      "\n"
     ]
    },
    {
     "name": "stdout",
     "output_type": "stream",
     "text": [
      "Epoch 200, Loss 0.0221\n",
      "Training Accuracy: 0.9743, Testing Accuracy: 0.9713\n",
      "\n"
     ]
    },
    {
     "name": "stdout",
     "output_type": "stream",
     "text": [
      "Epoch 210, Loss 0.0217\n",
      "Training Accuracy: 0.9745, Testing Accuracy: 0.9713\n",
      "\n"
     ]
    },
    {
     "name": "stdout",
     "output_type": "stream",
     "text": [
      "Epoch 220, Loss 0.0214\n",
      "Training Accuracy: 0.9752, Testing Accuracy: 0.9713\n",
      "\n"
     ]
    },
    {
     "name": "stdout",
     "output_type": "stream",
     "text": [
      "Epoch 230, Loss 0.021\n",
      "Training Accuracy: 0.9756, Testing Accuracy: 0.9713\n",
      "\n"
     ]
    },
    {
     "name": "stdout",
     "output_type": "stream",
     "text": [
      "Epoch 240, Loss 0.0206\n",
      "Training Accuracy: 0.9761, Testing Accuracy: 0.9713\n",
      "\n"
     ]
    },
    {
     "data": {
      "text/plain": [
       "0.002777639963746811"
      ]
     },
     "execution_count": 22,
     "metadata": {},
     "output_type": "execute_result"
    }
   ],
   "source": [
    "nn_learner.train_loop(dl)"
   ]
  },
  {
   "cell_type": "code",
   "execution_count": 23,
   "id": "e0163366",
   "metadata": {
    "execution": {
     "iopub.execute_input": "2021-11-17T20:11:43.746345Z",
     "iopub.status.busy": "2021-11-17T20:11:43.745626Z",
     "iopub.status.idle": "2021-11-17T20:12:02.467799Z",
     "shell.execute_reply": "2021-11-17T20:12:02.469115Z"
    },
    "papermill": {
     "duration": 18.776959,
     "end_time": "2021-11-17T20:12:02.469295",
     "exception": false,
     "start_time": "2021-11-17T20:11:43.692336",
     "status": "completed"
    },
    "tags": []
   },
   "outputs": [
    {
     "name": "stdout",
     "output_type": "stream",
     "text": [
      "Epoch 0, Loss 0.2165\n",
      "Training Accuracy: 0.7715, Testing Accuracy: 0.7933\n",
      "\n"
     ]
    },
    {
     "name": "stdout",
     "output_type": "stream",
     "text": [
      "Epoch 10, Loss 0.099\n",
      "Training Accuracy: 0.9109, Testing Accuracy: 0.9173\n",
      "\n"
     ]
    },
    {
     "name": "stdout",
     "output_type": "stream",
     "text": [
      "Epoch 20, Loss 0.0773\n",
      "Training Accuracy: 0.9272, Testing Accuracy: 0.9355\n",
      "\n"
     ]
    },
    {
     "name": "stdout",
     "output_type": "stream",
     "text": [
      "Epoch 30, Loss 0.067\n",
      "Training Accuracy: 0.9355, Testing Accuracy: 0.9446\n",
      "\n"
     ]
    },
    {
     "name": "stdout",
     "output_type": "stream",
     "text": [
      "Epoch 40, Loss 0.0607\n",
      "Training Accuracy: 0.9418, Testing Accuracy: 0.9481\n",
      "\n"
     ]
    },
    {
     "name": "stdout",
     "output_type": "stream",
     "text": [
      "Epoch 50, Loss 0.0564\n",
      "Training Accuracy: 0.9458, Testing Accuracy: 0.9516\n",
      "\n"
     ]
    },
    {
     "name": "stdout",
     "output_type": "stream",
     "text": [
      "Epoch 60, Loss 0.0532\n",
      "Training Accuracy: 0.9482, Testing Accuracy: 0.9516\n",
      "\n"
     ]
    },
    {
     "name": "stdout",
     "output_type": "stream",
     "text": [
      "Epoch 70, Loss 0.0507\n",
      "Training Accuracy: 0.9501, Testing Accuracy: 0.9551\n",
      "\n"
     ]
    },
    {
     "name": "stdout",
     "output_type": "stream",
     "text": [
      "Epoch 80, Loss 0.0487\n",
      "Training Accuracy: 0.9516, Testing Accuracy: 0.9587\n",
      "\n"
     ]
    },
    {
     "name": "stdout",
     "output_type": "stream",
     "text": [
      "Epoch 90, Loss 0.0471\n",
      "Training Accuracy: 0.9521, Testing Accuracy: 0.9597\n",
      "\n"
     ]
    },
    {
     "name": "stdout",
     "output_type": "stream",
     "text": [
      "Epoch 100, Loss 0.0457\n",
      "Training Accuracy: 0.9529, Testing Accuracy: 0.9612\n",
      "\n"
     ]
    },
    {
     "name": "stdout",
     "output_type": "stream",
     "text": [
      "Epoch 110, Loss 0.0445\n",
      "Training Accuracy: 0.9539, Testing Accuracy: 0.9617\n",
      "\n"
     ]
    },
    {
     "name": "stdout",
     "output_type": "stream",
     "text": [
      "Epoch 120, Loss 0.0435\n",
      "Training Accuracy: 0.9546, Testing Accuracy: 0.9622\n",
      "\n"
     ]
    },
    {
     "name": "stdout",
     "output_type": "stream",
     "text": [
      "Epoch 130, Loss 0.0426\n",
      "Training Accuracy: 0.9558, Testing Accuracy: 0.9617\n",
      "\n"
     ]
    },
    {
     "name": "stdout",
     "output_type": "stream",
     "text": [
      "Epoch 140, Loss 0.0418\n",
      "Training Accuracy: 0.9568, Testing Accuracy: 0.9627\n",
      "\n"
     ]
    },
    {
     "name": "stdout",
     "output_type": "stream",
     "text": [
      "Epoch 150, Loss 0.0411\n",
      "Training Accuracy: 0.9573, Testing Accuracy: 0.9642\n",
      "\n"
     ]
    },
    {
     "name": "stdout",
     "output_type": "stream",
     "text": [
      "Epoch 160, Loss 0.0404\n",
      "Training Accuracy: 0.9573, Testing Accuracy: 0.9642\n",
      "\n"
     ]
    },
    {
     "name": "stdout",
     "output_type": "stream",
     "text": [
      "Epoch 170, Loss 0.0398\n",
      "Training Accuracy: 0.9577, Testing Accuracy: 0.9642\n",
      "\n"
     ]
    },
    {
     "name": "stdout",
     "output_type": "stream",
     "text": [
      "Epoch 180, Loss 0.0393\n",
      "Training Accuracy: 0.9584, Testing Accuracy: 0.9642\n",
      "\n"
     ]
    },
    {
     "name": "stdout",
     "output_type": "stream",
     "text": [
      "Epoch 190, Loss 0.0388\n",
      "Training Accuracy: 0.9589, Testing Accuracy: 0.9642\n",
      "\n"
     ]
    },
    {
     "name": "stdout",
     "output_type": "stream",
     "text": [
      "Epoch 200, Loss 0.0383\n",
      "Training Accuracy: 0.9594, Testing Accuracy: 0.9657\n",
      "\n"
     ]
    },
    {
     "name": "stdout",
     "output_type": "stream",
     "text": [
      "Epoch 210, Loss 0.0379\n",
      "Training Accuracy: 0.9598, Testing Accuracy: 0.9657\n",
      "\n"
     ]
    },
    {
     "name": "stdout",
     "output_type": "stream",
     "text": [
      "Epoch 220, Loss 0.0375\n",
      "Training Accuracy: 0.9604, Testing Accuracy: 0.9657\n",
      "\n"
     ]
    },
    {
     "name": "stdout",
     "output_type": "stream",
     "text": [
      "Epoch 230, Loss 0.0371\n",
      "Training Accuracy: 0.9604, Testing Accuracy: 0.9662\n",
      "\n"
     ]
    },
    {
     "name": "stdout",
     "output_type": "stream",
     "text": [
      "Epoch 240, Loss 0.0367\n",
      "Training Accuracy: 0.9605, Testing Accuracy: 0.9662\n",
      "\n"
     ]
    },
    {
     "data": {
      "text/plain": [
       "0.06821203599856945"
      ]
     },
     "execution_count": 23,
     "metadata": {},
     "output_type": "execute_result"
    }
   ],
   "source": [
    "lr_learner.train_loop(dl)"
   ]
  },
  {
   "cell_type": "code",
   "execution_count": 24,
   "id": "ca410940",
   "metadata": {
    "execution": {
     "iopub.execute_input": "2021-11-17T20:12:02.587008Z",
     "iopub.status.busy": "2021-11-17T20:12:02.582698Z",
     "iopub.status.idle": "2021-11-17T20:12:02.895012Z",
     "shell.execute_reply": "2021-11-17T20:12:02.895533Z"
    },
    "papermill": {
     "duration": 0.371829,
     "end_time": "2021-11-17T20:12:02.895697",
     "exception": false,
     "start_time": "2021-11-17T20:12:02.523868",
     "status": "completed"
    },
    "tags": []
   },
   "outputs": [
    {
     "data": {
      "text/plain": [
       "<matplotlib.legend.Legend at 0x7fb08ba94f28>"
      ]
     },
     "execution_count": 24,
     "metadata": {},
     "output_type": "execute_result"
    },
    {
     "data": {
      "image/png": "[encoded data removed]",
      "text/plain": [
       "<Figure size 1080x720 with 1 Axes>"
      ]
     },
     "metadata": {
      "needs_background": "light"
     },
     "output_type": "display_data"
    }
   ],
   "source": [
    "#comparing the results of NN and LR\n",
    "plt.figure(figsize=(15,10))\n",
    "\n",
    "# Neural Network plots\n",
    "plt.plot(acc_nn.accuracies, 'r-', label = \"Training Accuracies - NN\")\n",
    "plt.plot(acc_nn.test_accuracies, 'g-', label = \"Testing Accuracies - NN\")\n",
    "\n",
    "# Logistic Regression plots\n",
    "plt.plot(acc_lr.accuracies, 'k-', label = \"Training Accuracies - LR\")\n",
    "plt.plot(acc_lr.test_accuracies, 'b-', label = \"Testing Accuracies - LR\")\n",
    "plt.legend()"
   ]
  },
  {
   "cell_type": "markdown",
   "id": "80dfb35c",
   "metadata": {
    "papermill": {
     "duration": 0.052787,
     "end_time": "2021-11-17T20:12:03.001001",
     "exception": false,
     "start_time": "2021-11-17T20:12:02.948214",
     "status": "completed"
    },
    "tags": []
   },
   "source": [
    "#### Plotting the outputs of this layer of the NN.\n"
   ]
  },
  {
   "cell_type": "code",
   "execution_count": 25,
   "id": "45eb2ff5",
   "metadata": {
    "execution": {
     "iopub.execute_input": "2021-11-17T20:12:03.118179Z",
     "iopub.status.busy": "2021-11-17T20:12:03.117513Z",
     "iopub.status.idle": "2021-11-17T20:12:03.144154Z",
     "shell.execute_reply": "2021-11-17T20:12:03.145612Z"
    },
    "papermill": {
     "duration": 0.088415,
     "end_time": "2021-11-17T20:12:03.145795",
     "exception": false,
     "start_time": "2021-11-17T20:12:03.057380",
     "status": "completed"
    },
    "tags": []
   },
   "outputs": [],
   "source": [
    "new_model = Model(layers[:-2])\n",
    "testing_plot = new_model(testing_data_x)"
   ]
  },
  {
   "cell_type": "code",
   "execution_count": 26,
   "id": "4c0a5485",
   "metadata": {
    "execution": {
     "iopub.execute_input": "2021-11-17T20:12:03.260635Z",
     "iopub.status.busy": "2021-11-17T20:12:03.259956Z",
     "iopub.status.idle": "2021-11-17T20:12:03.563817Z",
     "shell.execute_reply": "2021-11-17T20:12:03.563201Z"
    },
    "papermill": {
     "duration": 0.365032,
     "end_time": "2021-11-17T20:12:03.563958",
     "exception": false,
     "start_time": "2021-11-17T20:12:03.198926",
     "status": "completed"
    },
    "tags": []
   },
   "outputs": [
    {
     "data": {
      "text/plain": [
       "Text(0.5, 1.0, 'Outputs')"
      ]
     },
     "execution_count": 26,
     "metadata": {},
     "output_type": "execute_result"
    },
    {
     "data": {
      "image/png": "[encoded data removed]",
      "text/plain": [
       "<Figure size 576x504 with 1 Axes>"
      ]
     },
     "metadata": {
      "needs_background": "light"
     },
     "output_type": "display_data"
    }
   ],
   "source": [
    "# Plotting the scatter plot of points and color coding by class\n",
    "plt.figure(figsize=(8,7))\n",
    "plt.scatter(testing_plot[:,0], testing_plot[:,1], alpha = 0.1, c = y_test.ravel());\n",
    "plt.title('Outputs')"
   ]
  },
  {
   "cell_type": "markdown",
   "id": "a74fcf8f",
   "metadata": {
    "papermill": {
     "duration": 0.059419,
     "end_time": "2021-11-17T20:12:03.683973",
     "exception": false,
     "start_time": "2021-11-17T20:12:03.624554",
     "status": "completed"
    },
    "tags": []
   },
   "source": [
    "Probability contours"
   ]
  },
  {
   "cell_type": "code",
   "execution_count": 27,
   "id": "d0afc8e3",
   "metadata": {
    "execution": {
     "iopub.execute_input": "2021-11-17T20:12:03.836001Z",
     "iopub.status.busy": "2021-11-17T20:12:03.835326Z",
     "iopub.status.idle": "2021-11-17T20:12:03.847267Z",
     "shell.execute_reply": "2021-11-17T20:12:03.846700Z"
    },
    "papermill": {
     "duration": 0.07576,
     "end_time": "2021-11-17T20:12:03.847407",
     "exception": false,
     "start_time": "2021-11-17T20:12:03.771647",
     "status": "completed"
    },
    "tags": []
   },
   "outputs": [],
   "source": [
    "model_prob = Model(layers[-2:]) "
   ]
  },
  {
   "cell_type": "code",
   "execution_count": 28,
   "id": "9b96e238",
   "metadata": {
    "execution": {
     "iopub.execute_input": "2021-11-17T20:12:03.970830Z",
     "iopub.status.busy": "2021-11-17T20:12:03.970156Z",
     "iopub.status.idle": "2021-11-17T20:12:03.984072Z",
     "shell.execute_reply": "2021-11-17T20:12:03.984639Z"
    },
    "papermill": {
     "duration": 0.079395,
     "end_time": "2021-11-17T20:12:03.984827",
     "exception": false,
     "start_time": "2021-11-17T20:12:03.905432",
     "status": "completed"
    },
    "tags": []
   },
   "outputs": [],
   "source": [
    "#creating the x and y ranges according to the above generated plot.\n",
    "x_range = np.linspace(-4, 1, 100) \n",
    "y_range = np.linspace(-6, 6, 100) \n",
    "x_grid, y_grid = np.meshgrid(x_range, y_range) # x_grid and y_grig are of size 100 X 100\n",
    "\n",
    "# converting x_grid and y_grid to continuous arrays\n",
    "x_gridflat = np.ravel(x_grid)\n",
    "y_gridflat = np.ravel(y_grid)\n",
    "\n",
    "# The last layer of the current model takes two columns as input. Hence transpose of np.vstack() is required.\n",
    "X = np.vstack((x_gridflat, y_gridflat)).T\n",
    "\n",
    "prob_contour = model_prob(X).reshape(100,100) "
   ]
  },
  {
   "cell_type": "code",
   "execution_count": 29,
   "id": "da72499a",
   "metadata": {
    "execution": {
     "iopub.execute_input": "2021-11-17T20:12:04.108790Z",
     "iopub.status.busy": "2021-11-17T20:12:04.107966Z",
     "iopub.status.idle": "2021-11-17T20:12:04.431087Z",
     "shell.execute_reply": "2021-11-17T20:12:04.431579Z"
    },
    "papermill": {
     "duration": 0.386459,
     "end_time": "2021-11-17T20:12:04.431750",
     "exception": false,
     "start_time": "2021-11-17T20:12:04.045291",
     "status": "completed"
    },
    "tags": []
   },
   "outputs": [
    {
     "data": {
      "image/png": "[encoded data removed]",
      "text/plain": [
       "<Figure size 720x648 with 1 Axes>"
      ]
     },
     "metadata": {
      "needs_background": "light"
     },
     "output_type": "display_data"
    }
   ],
   "source": [
    "plt.figure(figsize=(10,9))\n",
    "plt.scatter(testing_plot[:,0], testing_plot[:,1], alpha = 0.1, c = y_test.ravel())\n",
    "contours = plt.contour(x_grid,y_grid,prob_contour)\n",
    "plt.title('Probability Contours')\n",
    "plt.clabel(contours, inline = True );"
   ]
  },
  {
   "cell_type": "code",
   "execution_count": null,
   "id": "e81b4ac7",
   "metadata": {
    "papermill": {
     "duration": 0.054989,
     "end_time": "2021-11-17T20:12:04.545549",
     "exception": false,
     "start_time": "2021-11-17T20:12:04.490560",
     "status": "completed"
    },
    "tags": []
   },
   "outputs": [],
   "source": []
  }
 ],
 "metadata": {
  "kernelspec": {
   "display_name": "Python 3",
   "language": "python",
   "name": "python3"
  },
  "language_info": {
   "codemirror_mode": {
    "name": "ipython",
    "version": 3
   },
   "file_extension": ".py",
   "mimetype": "text/x-python",
   "name": "python",
   "nbconvert_exporter": "python",
   "pygments_lexer": "ipython3",
   "version": "3.6.15"
  },
  "papermill": {
   "default_parameters": {},
   "duration": 157.287282,
   "end_time": "2021-11-17T20:12:05.010068",
   "environment_variables": {},
   "exception": null,
   "input_path": "2020-08-11-part2.ipynb",
   "output_path": "2020-08-11-part2.ipynb",
   "parameters": {},
   "start_time": "2021-11-17T20:09:27.722786",
   "version": "2.3.3"
  }
 },
 "nbformat": 4,
 "nbformat_minor": 5
}