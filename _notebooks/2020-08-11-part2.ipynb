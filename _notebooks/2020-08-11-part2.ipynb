{
 "cells": [
  {
   "cell_type": "markdown",
   "id": "98380cd3",
   "metadata": {
    "papermill": {
     "duration": 0.028781,
     "end_time": "2022-01-12T00:25:45.283866",
     "exception": false,
     "start_time": "2022-01-12T00:25:45.255085",
     "status": "completed"
    },
    "tags": []
   },
   "source": [
    "# Distinguish Your Own Digits (DYOD)"
   ]
  },
  {
   "cell_type": "markdown",
   "id": "ef31240d",
   "metadata": {
    "papermill": {
     "duration": 0.024043,
     "end_time": "2022-01-12T00:25:45.332622",
     "exception": false,
     "start_time": "2022-01-12T00:25:45.308579",
     "status": "completed"
    },
    "tags": []
   },
   "source": [
    "You are going to write a classifier that distinguishes between the number 3 and number 8."
   ]
  },
  {
   "cell_type": "code",
   "execution_count": 1,
   "id": "b15c8646",
   "metadata": {
    "execution": {
     "iopub.execute_input": "2022-01-12T00:25:45.392603Z",
     "iopub.status.busy": "2022-01-12T00:25:45.392071Z",
     "iopub.status.idle": "2022-01-12T00:25:45.402184Z",
     "shell.execute_reply": "2022-01-12T00:25:45.402590Z"
    },
    "papermill": {
     "duration": 0.046103,
     "end_time": "2022-01-12T00:25:45.402746",
     "exception": false,
     "start_time": "2022-01-12T00:25:45.356643",
     "status": "completed"
    },
    "tags": []
   },
   "outputs": [],
   "source": [
    "%load_ext autoreload\n",
    "%autoreload 2"
   ]
  },
  {
   "cell_type": "code",
   "execution_count": 2,
   "id": "22ef38dc",
   "metadata": {
    "execution": {
     "iopub.execute_input": "2022-01-12T00:25:45.464112Z",
     "iopub.status.busy": "2022-01-12T00:25:45.461273Z",
     "iopub.status.idle": "2022-01-12T00:25:46.042878Z",
     "shell.execute_reply": "2022-01-12T00:25:46.042381Z"
    },
    "papermill": {
     "duration": 0.615867,
     "end_time": "2022-01-12T00:25:46.043006",
     "exception": false,
     "start_time": "2022-01-12T00:25:45.427139",
     "status": "completed"
    },
    "tags": []
   },
   "outputs": [],
   "source": [
    "%matplotlib inline\n",
    "import numpy as np\n",
    "import matplotlib.pyplot as plt\n",
    "import pandas as pd"
   ]
  },
  {
   "cell_type": "markdown",
   "id": "ba036198",
   "metadata": {
    "papermill": {
     "duration": 0.02423,
     "end_time": "2022-01-12T00:25:46.091751",
     "exception": false,
     "start_time": "2022-01-12T00:25:46.067521",
     "status": "completed"
    },
    "tags": []
   },
   "source": [
    "From the command line run `pip install mnist`. This is a library that will help you bring down the mnist dataset. If you run this from a notebook, you need to put  `!pip install mnist` in a cell by itself."
   ]
  },
  {
   "cell_type": "code",
   "execution_count": 3,
   "id": "bb6ad8a1",
   "metadata": {
    "execution": {
     "iopub.execute_input": "2022-01-12T00:25:46.144108Z",
     "iopub.status.busy": "2022-01-12T00:25:46.143571Z",
     "iopub.status.idle": "2022-01-12T00:25:48.086893Z",
     "shell.execute_reply": "2022-01-12T00:25:48.086326Z"
    },
    "papermill": {
     "duration": 1.971184,
     "end_time": "2022-01-12T00:25:48.087021",
     "exception": false,
     "start_time": "2022-01-12T00:25:46.115837",
     "status": "completed"
    },
    "tags": []
   },
   "outputs": [
    {
     "name": "stdout",
     "output_type": "stream",
     "text": [
      "Collecting mnist\r\n"
     ]
    },
    {
     "name": "stdout",
     "output_type": "stream",
     "text": [
      "  Downloading mnist-0.2.2-py2.py3-none-any.whl (3.5 kB)\r\n"
     ]
    },
    {
     "name": "stdout",
     "output_type": "stream",
     "text": [
      "Requirement already satisfied: numpy in /opt/hostedtoolcache/Python/3.6.15/x64/lib/python3.6/site-packages (from mnist) (1.19.5)\r\n"
     ]
    },
    {
     "name": "stdout",
     "output_type": "stream",
     "text": [
      "Installing collected packages: mnist\r\n",
      "Successfully installed mnist-0.2.2\r\n"
     ]
    }
   ],
   "source": [
    "!pip install mnist"
   ]
  },
  {
   "cell_type": "markdown",
   "id": "69df9c9a",
   "metadata": {
    "papermill": {
     "duration": 0.025162,
     "end_time": "2022-01-12T00:25:48.137822",
     "exception": false,
     "start_time": "2022-01-12T00:25:48.112660",
     "status": "completed"
    },
    "tags": []
   },
   "source": [
    "## Preparing the Data"
   ]
  },
  {
   "cell_type": "code",
   "execution_count": 4,
   "id": "7f69d806",
   "metadata": {
    "execution": {
     "iopub.execute_input": "2022-01-12T00:25:48.203350Z",
     "iopub.status.busy": "2022-01-12T00:25:48.200642Z",
     "iopub.status.idle": "2022-01-12T00:25:48.209032Z",
     "shell.execute_reply": "2022-01-12T00:25:48.208596Z"
    },
    "papermill": {
     "duration": 0.046213,
     "end_time": "2022-01-12T00:25:48.209146",
     "exception": false,
     "start_time": "2022-01-12T00:25:48.162933",
     "status": "completed"
    },
    "tags": []
   },
   "outputs": [],
   "source": [
    "import mnist"
   ]
  },
  {
   "cell_type": "code",
   "execution_count": 5,
   "id": "a411e44f",
   "metadata": {
    "execution": {
     "iopub.execute_input": "2022-01-12T00:25:48.263465Z",
     "iopub.status.busy": "2022-01-12T00:25:48.262954Z",
     "iopub.status.idle": "2022-01-12T00:25:48.834570Z",
     "shell.execute_reply": "2022-01-12T00:25:48.833955Z"
    },
    "papermill": {
     "duration": 0.600327,
     "end_time": "2022-01-12T00:25:48.834696",
     "exception": false,
     "start_time": "2022-01-12T00:25:48.234369",
     "status": "completed"
    },
    "tags": []
   },
   "outputs": [],
   "source": [
    "train_images = mnist.train_images()\n",
    "train_labels = mnist.train_labels()"
   ]
  },
  {
   "cell_type": "code",
   "execution_count": 6,
   "id": "dceab3a5",
   "metadata": {
    "execution": {
     "iopub.execute_input": "2022-01-12T00:25:48.891537Z",
     "iopub.status.busy": "2022-01-12T00:25:48.891022Z",
     "iopub.status.idle": "2022-01-12T00:25:48.904625Z",
     "shell.execute_reply": "2022-01-12T00:25:48.904183Z"
    },
    "papermill": {
     "duration": 0.04473,
     "end_time": "2022-01-12T00:25:48.904736",
     "exception": false,
     "start_time": "2022-01-12T00:25:48.860006",
     "status": "completed"
    },
    "tags": []
   },
   "outputs": [
    {
     "data": {
      "text/plain": [
       "((60000, 28, 28), (60000,))"
      ]
     },
     "execution_count": 6,
     "metadata": {},
     "output_type": "execute_result"
    }
   ],
   "source": [
    "train_images.shape, train_labels.shape"
   ]
  },
  {
   "cell_type": "code",
   "execution_count": 7,
   "id": "f50dc2bb",
   "metadata": {
    "execution": {
     "iopub.execute_input": "2022-01-12T00:25:48.959484Z",
     "iopub.status.busy": "2022-01-12T00:25:48.958965Z",
     "iopub.status.idle": "2022-01-12T00:25:49.152581Z",
     "shell.execute_reply": "2022-01-12T00:25:49.152057Z"
    },
    "papermill": {
     "duration": 0.222651,
     "end_time": "2022-01-12T00:25:49.152715",
     "exception": false,
     "start_time": "2022-01-12T00:25:48.930064",
     "status": "completed"
    },
    "tags": []
   },
   "outputs": [],
   "source": [
    "test_images = mnist.test_images()\n",
    "test_labels = mnist.test_labels()"
   ]
  },
  {
   "cell_type": "code",
   "execution_count": 8,
   "id": "fc38cf1b",
   "metadata": {
    "execution": {
     "iopub.execute_input": "2022-01-12T00:25:49.212831Z",
     "iopub.status.busy": "2022-01-12T00:25:49.212297Z",
     "iopub.status.idle": "2022-01-12T00:25:49.222513Z",
     "shell.execute_reply": "2022-01-12T00:25:49.222043Z"
    },
    "papermill": {
     "duration": 0.043385,
     "end_time": "2022-01-12T00:25:49.222630",
     "exception": false,
     "start_time": "2022-01-12T00:25:49.179245",
     "status": "completed"
    },
    "tags": []
   },
   "outputs": [
    {
     "data": {
      "text/plain": [
       "((10000, 28, 28), (10000,))"
      ]
     },
     "execution_count": 8,
     "metadata": {},
     "output_type": "execute_result"
    }
   ],
   "source": [
    "test_images.shape, test_labels.shape"
   ]
  },
  {
   "cell_type": "code",
   "execution_count": 9,
   "id": "f9ed8fe0",
   "metadata": {
    "execution": {
     "iopub.execute_input": "2022-01-12T00:25:49.284182Z",
     "iopub.status.busy": "2022-01-12T00:25:49.283656Z",
     "iopub.status.idle": "2022-01-12T00:25:49.418600Z",
     "shell.execute_reply": "2022-01-12T00:25:49.418113Z"
    },
    "papermill": {
     "duration": 0.170667,
     "end_time": "2022-01-12T00:25:49.418722",
     "exception": false,
     "start_time": "2022-01-12T00:25:49.248055",
     "status": "completed"
    },
    "tags": []
   },
   "outputs": [
    {
     "name": "stdout",
     "output_type": "stream",
     "text": [
      "2\n"
     ]
    },
    {
     "data": {
      "text/plain": [
       "<matplotlib.image.AxesImage at 0x7eff34847390>"
      ]
     },
     "execution_count": 9,
     "metadata": {},
     "output_type": "execute_result"
    },
    {
     "data": {
      "image/png": "[encoded data removed]",
      "text/plain": [
       "<Figure size 432x288 with 1 Axes>"
      ]
     },
     "metadata": {
      "needs_background": "light"
     },
     "output_type": "display_data"
    }
   ],
   "source": [
    "image_index = 7776 # You may select anything up to 60,000\n",
    "print(train_labels[image_index]) \n",
    "plt.imshow(train_images[image_index], cmap='Greys')"
   ]
  },
  {
   "cell_type": "markdown",
   "id": "a8d2388d",
   "metadata": {
    "papermill": {
     "duration": 0.026625,
     "end_time": "2022-01-12T00:25:49.472136",
     "exception": false,
     "start_time": "2022-01-12T00:25:49.445511",
     "status": "completed"
    },
    "tags": []
   },
   "source": [
    "## Filter data to get 3 and 8 out"
   ]
  },
  {
   "cell_type": "code",
   "execution_count": 10,
   "id": "776f7fc7",
   "metadata": {
    "execution": {
     "iopub.execute_input": "2022-01-12T00:25:49.529725Z",
     "iopub.status.busy": "2022-01-12T00:25:49.529191Z",
     "iopub.status.idle": "2022-01-12T00:25:49.547624Z",
     "shell.execute_reply": "2022-01-12T00:25:49.547191Z"
    },
    "papermill": {
     "duration": 0.049037,
     "end_time": "2022-01-12T00:25:49.547743",
     "exception": false,
     "start_time": "2022-01-12T00:25:49.498706",
     "status": "completed"
    },
    "tags": []
   },
   "outputs": [],
   "source": [
    "train_filter = np.where((train_labels == 3 ) | (train_labels == 8))\n",
    "test_filter = np.where((test_labels == 3) | (test_labels == 8))\n",
    "X_train, y_train = train_images[train_filter], train_labels[train_filter]\n",
    "X_test, y_test = test_images[test_filter], test_labels[test_filter]"
   ]
  },
  {
   "cell_type": "markdown",
   "id": "948f0b7e",
   "metadata": {
    "papermill": {
     "duration": 0.026365,
     "end_time": "2022-01-12T00:25:49.600774",
     "exception": false,
     "start_time": "2022-01-12T00:25:49.574409",
     "status": "completed"
    },
    "tags": []
   },
   "source": [
    "We normalize the pizel values in the 0 to 1 range"
   ]
  },
  {
   "cell_type": "code",
   "execution_count": 11,
   "id": "ee4c2166",
   "metadata": {
    "execution": {
     "iopub.execute_input": "2022-01-12T00:25:49.665243Z",
     "iopub.status.busy": "2022-01-12T00:25:49.664697Z",
     "iopub.status.idle": "2022-01-12T00:25:49.709273Z",
     "shell.execute_reply": "2022-01-12T00:25:49.708787Z"
    },
    "papermill": {
     "duration": 0.081529,
     "end_time": "2022-01-12T00:25:49.709393",
     "exception": false,
     "start_time": "2022-01-12T00:25:49.627864",
     "status": "completed"
    },
    "tags": []
   },
   "outputs": [],
   "source": [
    "X_train = X_train/255.\n",
    "X_test = X_test/255."
   ]
  },
  {
   "cell_type": "markdown",
   "id": "ddcf4fab",
   "metadata": {
    "papermill": {
     "duration": 0.026611,
     "end_time": "2022-01-12T00:25:49.762732",
     "exception": false,
     "start_time": "2022-01-12T00:25:49.736121",
     "status": "completed"
    },
    "tags": []
   },
   "source": [
    "And setup the labels as 1 (when the digit is 3) and 0 (when the digit is 8)"
   ]
  },
  {
   "cell_type": "code",
   "execution_count": 12,
   "id": "7dc908f2",
   "metadata": {
    "execution": {
     "iopub.execute_input": "2022-01-12T00:25:49.833410Z",
     "iopub.status.busy": "2022-01-12T00:25:49.831080Z",
     "iopub.status.idle": "2022-01-12T00:25:49.835335Z",
     "shell.execute_reply": "2022-01-12T00:25:49.835730Z"
    },
    "papermill": {
     "duration": 0.046637,
     "end_time": "2022-01-12T00:25:49.835869",
     "exception": false,
     "start_time": "2022-01-12T00:25:49.789232",
     "status": "completed"
    },
    "tags": []
   },
   "outputs": [],
   "source": [
    "y_train = 1*(y_train==3)\n",
    "y_test = 1*(y_test==3)"
   ]
  },
  {
   "cell_type": "code",
   "execution_count": 13,
   "id": "01e4e969",
   "metadata": {
    "execution": {
     "iopub.execute_input": "2022-01-12T00:25:49.899482Z",
     "iopub.status.busy": "2022-01-12T00:25:49.898967Z",
     "iopub.status.idle": "2022-01-12T00:25:49.908642Z",
     "shell.execute_reply": "2022-01-12T00:25:49.908226Z"
    },
    "papermill": {
     "duration": 0.046247,
     "end_time": "2022-01-12T00:25:49.908756",
     "exception": false,
     "start_time": "2022-01-12T00:25:49.862509",
     "status": "completed"
    },
    "tags": []
   },
   "outputs": [
    {
     "data": {
      "text/plain": [
       "((11982, 28, 28), (1984, 28, 28))"
      ]
     },
     "execution_count": 13,
     "metadata": {},
     "output_type": "execute_result"
    }
   ],
   "source": [
    "X_train.shape, X_test.shape"
   ]
  },
  {
   "cell_type": "markdown",
   "id": "5ccf3f85",
   "metadata": {
    "papermill": {
     "duration": 0.026696,
     "end_time": "2022-01-12T00:25:49.962242",
     "exception": false,
     "start_time": "2022-01-12T00:25:49.935546",
     "status": "completed"
    },
    "tags": []
   },
   "source": [
    "We reshape the data to flatten the image pixels into a set of features or co-variates:"
   ]
  },
  {
   "cell_type": "code",
   "execution_count": 14,
   "id": "5286a4a3",
   "metadata": {
    "execution": {
     "iopub.execute_input": "2022-01-12T00:25:50.020039Z",
     "iopub.status.busy": "2022-01-12T00:25:50.019522Z",
     "iopub.status.idle": "2022-01-12T00:25:50.033418Z",
     "shell.execute_reply": "2022-01-12T00:25:50.032978Z"
    },
    "papermill": {
     "duration": 0.044417,
     "end_time": "2022-01-12T00:25:50.033532",
     "exception": false,
     "start_time": "2022-01-12T00:25:49.989115",
     "status": "completed"
    },
    "tags": []
   },
   "outputs": [
    {
     "data": {
      "text/plain": [
       "((11982, 784), (1984, 784))"
      ]
     },
     "execution_count": 14,
     "metadata": {},
     "output_type": "execute_result"
    }
   ],
   "source": [
    "X_train = X_train.reshape(X_train.shape[0], -1)\n",
    "X_test = X_test.reshape(X_test.shape[0], -1)\n",
    "X_train.shape, X_test.shape"
   ]
  },
  {
   "cell_type": "code",
   "execution_count": 15,
   "id": "73c5f88a",
   "metadata": {
    "execution": {
     "iopub.execute_input": "2022-01-12T00:25:50.096433Z",
     "iopub.status.busy": "2022-01-12T00:25:50.095905Z",
     "iopub.status.idle": "2022-01-12T00:25:50.112003Z",
     "shell.execute_reply": "2022-01-12T00:25:50.111579Z"
    },
    "papermill": {
     "duration": 0.05158,
     "end_time": "2022-01-12T00:25:50.112118",
     "exception": false,
     "start_time": "2022-01-12T00:25:50.060538",
     "status": "completed"
    },
    "tags": []
   },
   "outputs": [],
   "source": [
    "#Impoting functions from 'Kudzu'\n",
    "from kudzu.model import Model\n",
    "from kudzu.train import Learner\n",
    "from kudzu.optim import GD\n",
    "from kudzu.data import Data, Sampler,Dataloader\n",
    "\n",
    "from kudzu.callbacks import AccCallback\n",
    "from kudzu.callbacks import ClfCallback\n",
    "\n",
    "from kudzu.loss import MSE\n",
    "\n",
    "from kudzu.layer import Sigmoid,Relu\n",
    "from kudzu.layer import Affine"
   ]
  },
  {
   "cell_type": "markdown",
   "id": "bc01172a",
   "metadata": {
    "papermill": {
     "duration": 0.026991,
     "end_time": "2022-01-12T00:25:50.166220",
     "exception": false,
     "start_time": "2022-01-12T00:25:50.139229",
     "status": "completed"
    },
    "tags": []
   },
   "source": [
    "### Let us create a `Config` class, to store important parameters. \n",
    "This class essentially plays the role of a dictionary."
   ]
  },
  {
   "cell_type": "code",
   "execution_count": 16,
   "id": "978281aa",
   "metadata": {
    "execution": {
     "iopub.execute_input": "2022-01-12T00:25:50.234026Z",
     "iopub.status.busy": "2022-01-12T00:25:50.233472Z",
     "iopub.status.idle": "2022-01-12T00:25:50.240894Z",
     "shell.execute_reply": "2022-01-12T00:25:50.240471Z"
    },
    "papermill": {
     "duration": 0.047849,
     "end_time": "2022-01-12T00:25:50.241010",
     "exception": false,
     "start_time": "2022-01-12T00:25:50.193161",
     "status": "completed"
    },
    "tags": []
   },
   "outputs": [],
   "source": [
    "class Config:\n",
    "    pass\n",
    "config = Config()\n",
    "config.lr = 0.001\n",
    "config.num_epochs = 250\n",
    "config.bs = 50"
   ]
  },
  {
   "cell_type": "markdown",
   "id": "1385fa59",
   "metadata": {
    "papermill": {
     "duration": 0.027105,
     "end_time": "2022-01-12T00:25:50.295387",
     "exception": false,
     "start_time": "2022-01-12T00:25:50.268282",
     "status": "completed"
    },
    "tags": []
   },
   "source": [
    "### Running Models with the Training data\n",
    "Details about the network layers:\n",
    "- A first affine layer has 784 inputs and does 100 affine transforms. These are followed by a Relu\n",
    "- A second affine layer has 100 inputs from the 100 activations of the past layer, and does 100 affine transforms. These are followed by a Relu\n",
    "- A third affine layer has 100 activations and does 2 affine transformations to create an embedding for visualization. There is no non-linearity here.\n",
    "- A final \"logistic regression\" which has an affine transform from 2 inputs to 1 output, which is squeezed through a sigmoid.\n"
   ]
  },
  {
   "cell_type": "code",
   "execution_count": 17,
   "id": "2b9c66db",
   "metadata": {
    "execution": {
     "iopub.execute_input": "2022-01-12T00:25:50.353620Z",
     "iopub.status.busy": "2022-01-12T00:25:50.353100Z",
     "iopub.status.idle": "2022-01-12T00:25:50.366134Z",
     "shell.execute_reply": "2022-01-12T00:25:50.365716Z"
    },
    "papermill": {
     "duration": 0.043834,
     "end_time": "2022-01-12T00:25:50.366271",
     "exception": false,
     "start_time": "2022-01-12T00:25:50.322437",
     "status": "completed"
    },
    "tags": []
   },
   "outputs": [],
   "source": [
    "data = Data(X_train, y_train.reshape(-1,1))\n",
    "sampler = Sampler(data, config.bs, shuffle=True)\n",
    "\n",
    "dl = Dataloader(data, sampler)\n",
    "\n",
    "opt = GD(config.lr)\n",
    "loss = MSE()"
   ]
  },
  {
   "cell_type": "code",
   "execution_count": 18,
   "id": "b275e4c2",
   "metadata": {
    "execution": {
     "iopub.execute_input": "2022-01-12T00:25:50.438614Z",
     "iopub.status.busy": "2022-01-12T00:25:50.438024Z",
     "iopub.status.idle": "2022-01-12T00:25:50.440207Z",
     "shell.execute_reply": "2022-01-12T00:25:50.439689Z"
    },
    "papermill": {
     "duration": 0.046849,
     "end_time": "2022-01-12T00:25:50.440320",
     "exception": false,
     "start_time": "2022-01-12T00:25:50.393471",
     "status": "completed"
    },
    "tags": []
   },
   "outputs": [],
   "source": [
    "training_data_x = X_train\n",
    "testing_data_x = X_test\n",
    "training_data_y = y_train.reshape(-1,1)\n",
    "testing_data_y = y_test.reshape(-1,1)"
   ]
  },
  {
   "cell_type": "code",
   "execution_count": 19,
   "id": "76951160",
   "metadata": {
    "execution": {
     "iopub.execute_input": "2022-01-12T00:25:50.506901Z",
     "iopub.status.busy": "2022-01-12T00:25:50.505629Z",
     "iopub.status.idle": "2022-01-12T00:25:50.517906Z",
     "shell.execute_reply": "2022-01-12T00:25:50.518323Z"
    },
    "papermill": {
     "duration": 0.051214,
     "end_time": "2022-01-12T00:25:50.518467",
     "exception": false,
     "start_time": "2022-01-12T00:25:50.467253",
     "status": "completed"
    },
    "tags": []
   },
   "outputs": [
    {
     "name": "stdout",
     "output_type": "stream",
     "text": [
      "xavier\n",
      "xavier\n",
      "xavier\n",
      "xavier\n",
      "xavier\n"
     ]
    }
   ],
   "source": [
    "layers = [Affine(\"first\", 784, 100), Relu(\"first\"), Affine(\"second\", 100, 100), Relu(\"second\"), Affine(\"third\", 100, 2), Affine(\"last\", 2, 1), Sigmoid(\"last\")]\n",
    "model_nn = Model(layers)\n",
    "model_lr = Model([Affine(\"logits\", 784, 1), Sigmoid(\"sigmoid\")])"
   ]
  },
  {
   "cell_type": "code",
   "execution_count": 20,
   "id": "6eede77a",
   "metadata": {
    "execution": {
     "iopub.execute_input": "2022-01-12T00:25:50.585905Z",
     "iopub.status.busy": "2022-01-12T00:25:50.585365Z",
     "iopub.status.idle": "2022-01-12T00:25:50.593529Z",
     "shell.execute_reply": "2022-01-12T00:25:50.593107Z"
    },
    "papermill": {
     "duration": 0.047597,
     "end_time": "2022-01-12T00:25:50.593644",
     "exception": false,
     "start_time": "2022-01-12T00:25:50.546047",
     "status": "completed"
    },
    "tags": []
   },
   "outputs": [],
   "source": [
    "nn_learner = Learner(loss, model_nn, opt, config.num_epochs)\n",
    "acc_nn = ClfCallback(nn_learner, config.bs, training_data_x , testing_data_x, training_data_y, testing_data_y)\n",
    "nn_learner.set_callbacks([acc_nn])"
   ]
  },
  {
   "cell_type": "code",
   "execution_count": 21,
   "id": "877b6cc7",
   "metadata": {
    "execution": {
     "iopub.execute_input": "2022-01-12T00:25:50.652277Z",
     "iopub.status.busy": "2022-01-12T00:25:50.651767Z",
     "iopub.status.idle": "2022-01-12T00:25:50.664082Z",
     "shell.execute_reply": "2022-01-12T00:25:50.663668Z"
    },
    "papermill": {
     "duration": 0.043287,
     "end_time": "2022-01-12T00:25:50.664194",
     "exception": false,
     "start_time": "2022-01-12T00:25:50.620907",
     "status": "completed"
    },
    "tags": []
   },
   "outputs": [],
   "source": [
    "lr_learner = Learner(loss, model_lr, opt, config.num_epochs)\n",
    "acc_lr = ClfCallback(lr_learner, config.bs, training_data_x , testing_data_x, training_data_y, testing_data_y)\n",
    "lr_learner.set_callbacks([acc_lr])"
   ]
  },
  {
   "cell_type": "code",
   "execution_count": 22,
   "id": "d9b133c3",
   "metadata": {
    "execution": {
     "iopub.execute_input": "2022-01-12T00:25:50.722809Z",
     "iopub.status.busy": "2022-01-12T00:25:50.722283Z",
     "iopub.status.idle": "2022-01-12T00:27:08.766773Z",
     "shell.execute_reply": "2022-01-12T00:27:08.767542Z"
    },
    "papermill": {
     "duration": 78.076158,
     "end_time": "2022-01-12T00:27:08.767690",
     "exception": false,
     "start_time": "2022-01-12T00:25:50.691532",
     "status": "completed"
    },
    "tags": []
   },
   "outputs": [
    {
     "name": "stdout",
     "output_type": "stream",
     "text": [
      "Epoch 0, Loss 0.195\n",
      "Training Accuracy: 0.8320, Testing Accuracy: 0.8327\n",
      "\n"
     ]
    },
    {
     "name": "stdout",
     "output_type": "stream",
     "text": [
      "Epoch 10, Loss 0.0505\n",
      "Training Accuracy: 0.9437, Testing Accuracy: 0.9486\n",
      "\n"
     ]
    },
    {
     "name": "stdout",
     "output_type": "stream",
     "text": [
      "Epoch 20, Loss 0.0381\n",
      "Training Accuracy: 0.9560, Testing Accuracy: 0.9647\n",
      "\n"
     ]
    },
    {
     "name": "stdout",
     "output_type": "stream",
     "text": [
      "Epoch 30, Loss 0.0327\n",
      "Training Accuracy: 0.9619, Testing Accuracy: 0.9667\n",
      "\n"
     ]
    },
    {
     "name": "stdout",
     "output_type": "stream",
     "text": [
      "Epoch 40, Loss 0.0295\n",
      "Training Accuracy: 0.9666, Testing Accuracy: 0.9703\n",
      "\n"
     ]
    },
    {
     "name": "stdout",
     "output_type": "stream",
     "text": [
      "Epoch 50, Loss 0.0272\n",
      "Training Accuracy: 0.9688, Testing Accuracy: 0.9733\n",
      "\n"
     ]
    },
    {
     "name": "stdout",
     "output_type": "stream",
     "text": [
      "Epoch 60, Loss 0.0254\n",
      "Training Accuracy: 0.9709, Testing Accuracy: 0.9738\n",
      "\n"
     ]
    },
    {
     "name": "stdout",
     "output_type": "stream",
     "text": [
      "Epoch 70, Loss 0.0239\n",
      "Training Accuracy: 0.9732, Testing Accuracy: 0.9753\n",
      "\n"
     ]
    },
    {
     "name": "stdout",
     "output_type": "stream",
     "text": [
      "Epoch 80, Loss 0.0227\n",
      "Training Accuracy: 0.9746, Testing Accuracy: 0.9768\n",
      "\n"
     ]
    },
    {
     "name": "stdout",
     "output_type": "stream",
     "text": [
      "Epoch 90, Loss 0.0216\n",
      "Training Accuracy: 0.9758, Testing Accuracy: 0.9768\n",
      "\n"
     ]
    },
    {
     "name": "stdout",
     "output_type": "stream",
     "text": [
      "Epoch 100, Loss 0.0207\n",
      "Training Accuracy: 0.9768, Testing Accuracy: 0.9768\n",
      "\n"
     ]
    },
    {
     "name": "stdout",
     "output_type": "stream",
     "text": [
      "Epoch 110, Loss 0.0198\n",
      "Training Accuracy: 0.9782, Testing Accuracy: 0.9768\n",
      "\n"
     ]
    },
    {
     "name": "stdout",
     "output_type": "stream",
     "text": [
      "Epoch 120, Loss 0.0191\n",
      "Training Accuracy: 0.9789, Testing Accuracy: 0.9763\n",
      "\n"
     ]
    },
    {
     "name": "stdout",
     "output_type": "stream",
     "text": [
      "Epoch 130, Loss 0.0184\n",
      "Training Accuracy: 0.9798, Testing Accuracy: 0.9768\n",
      "\n"
     ]
    },
    {
     "name": "stdout",
     "output_type": "stream",
     "text": [
      "Epoch 140, Loss 0.0177\n",
      "Training Accuracy: 0.9804, Testing Accuracy: 0.9778\n",
      "\n"
     ]
    },
    {
     "name": "stdout",
     "output_type": "stream",
     "text": [
      "Epoch 150, Loss 0.0171\n",
      "Training Accuracy: 0.9816, Testing Accuracy: 0.9778\n",
      "\n"
     ]
    },
    {
     "name": "stdout",
     "output_type": "stream",
     "text": [
      "Epoch 160, Loss 0.0165\n",
      "Training Accuracy: 0.9821, Testing Accuracy: 0.9788\n",
      "\n"
     ]
    },
    {
     "name": "stdout",
     "output_type": "stream",
     "text": [
      "Epoch 170, Loss 0.016\n",
      "Training Accuracy: 0.9826, Testing Accuracy: 0.9803\n",
      "\n"
     ]
    },
    {
     "name": "stdout",
     "output_type": "stream",
     "text": [
      "Epoch 180, Loss 0.0155\n",
      "Training Accuracy: 0.9832, Testing Accuracy: 0.9798\n",
      "\n"
     ]
    },
    {
     "name": "stdout",
     "output_type": "stream",
     "text": [
      "Epoch 190, Loss 0.015\n",
      "Training Accuracy: 0.9841, Testing Accuracy: 0.9803\n",
      "\n"
     ]
    },
    {
     "name": "stdout",
     "output_type": "stream",
     "text": [
      "Epoch 200, Loss 0.0145\n",
      "Training Accuracy: 0.9851, Testing Accuracy: 0.9808\n",
      "\n"
     ]
    },
    {
     "name": "stdout",
     "output_type": "stream",
     "text": [
      "Epoch 210, Loss 0.0141\n",
      "Training Accuracy: 0.9856, Testing Accuracy: 0.9814\n",
      "\n"
     ]
    },
    {
     "name": "stdout",
     "output_type": "stream",
     "text": [
      "Epoch 220, Loss 0.0137\n",
      "Training Accuracy: 0.9861, Testing Accuracy: 0.9814\n",
      "\n"
     ]
    },
    {
     "name": "stdout",
     "output_type": "stream",
     "text": [
      "Epoch 230, Loss 0.0133\n",
      "Training Accuracy: 0.9867, Testing Accuracy: 0.9814\n",
      "\n"
     ]
    },
    {
     "name": "stdout",
     "output_type": "stream",
     "text": [
      "Epoch 240, Loss 0.0129\n",
      "Training Accuracy: 0.9873, Testing Accuracy: 0.9819\n",
      "\n"
     ]
    },
    {
     "data": {
      "text/plain": [
       "0.006822969663019555"
      ]
     },
     "execution_count": 22,
     "metadata": {},
     "output_type": "execute_result"
    }
   ],
   "source": [
    "nn_learner.train_loop(dl)"
   ]
  },
  {
   "cell_type": "code",
   "execution_count": 23,
   "id": "e0163366",
   "metadata": {
    "execution": {
     "iopub.execute_input": "2022-01-12T00:27:08.849073Z",
     "iopub.status.busy": "2022-01-12T00:27:08.848553Z",
     "iopub.status.idle": "2022-01-12T00:27:22.697805Z",
     "shell.execute_reply": "2022-01-12T00:27:22.698544Z"
    },
    "papermill": {
     "duration": 13.896283,
     "end_time": "2022-01-12T00:27:22.698688",
     "exception": false,
     "start_time": "2022-01-12T00:27:08.802405",
     "status": "completed"
    },
    "tags": []
   },
   "outputs": [
    {
     "name": "stdout",
     "output_type": "stream",
     "text": [
      "Epoch 0, Loss 0.2707\n",
      "Training Accuracy: 0.5566, Testing Accuracy: 0.5595\n",
      "\n"
     ]
    },
    {
     "name": "stdout",
     "output_type": "stream",
     "text": [
      "Epoch 10, Loss 0.1071\n",
      "Training Accuracy: 0.9047, Testing Accuracy: 0.9148\n",
      "\n"
     ]
    },
    {
     "name": "stdout",
     "output_type": "stream",
     "text": [
      "Epoch 20, Loss 0.0809\n",
      "Training Accuracy: 0.9258, Testing Accuracy: 0.9375\n",
      "\n"
     ]
    },
    {
     "name": "stdout",
     "output_type": "stream",
     "text": [
      "Epoch 30, Loss 0.0691\n",
      "Training Accuracy: 0.9347, Testing Accuracy: 0.9476\n",
      "\n"
     ]
    },
    {
     "name": "stdout",
     "output_type": "stream",
     "text": [
      "Epoch 40, Loss 0.0621\n",
      "Training Accuracy: 0.9414, Testing Accuracy: 0.9536\n",
      "\n"
     ]
    },
    {
     "name": "stdout",
     "output_type": "stream",
     "text": [
      "Epoch 50, Loss 0.0574\n",
      "Training Accuracy: 0.9451, Testing Accuracy: 0.9567\n",
      "\n"
     ]
    },
    {
     "name": "stdout",
     "output_type": "stream",
     "text": [
      "Epoch 60, Loss 0.054\n",
      "Training Accuracy: 0.9473, Testing Accuracy: 0.9582\n",
      "\n"
     ]
    },
    {
     "name": "stdout",
     "output_type": "stream",
     "text": [
      "Epoch 70, Loss 0.0514\n",
      "Training Accuracy: 0.9493, Testing Accuracy: 0.9607\n",
      "\n"
     ]
    },
    {
     "name": "stdout",
     "output_type": "stream",
     "text": [
      "Epoch 80, Loss 0.0493\n",
      "Training Accuracy: 0.9507, Testing Accuracy: 0.9607\n",
      "\n"
     ]
    },
    {
     "name": "stdout",
     "output_type": "stream",
     "text": [
      "Epoch 90, Loss 0.0476\n",
      "Training Accuracy: 0.9520, Testing Accuracy: 0.9622\n",
      "\n"
     ]
    },
    {
     "name": "stdout",
     "output_type": "stream",
     "text": [
      "Epoch 100, Loss 0.0462\n",
      "Training Accuracy: 0.9530, Testing Accuracy: 0.9622\n",
      "\n"
     ]
    },
    {
     "name": "stdout",
     "output_type": "stream",
     "text": [
      "Epoch 110, Loss 0.045\n",
      "Training Accuracy: 0.9538, Testing Accuracy: 0.9617\n",
      "\n"
     ]
    },
    {
     "name": "stdout",
     "output_type": "stream",
     "text": [
      "Epoch 120, Loss 0.0439\n",
      "Training Accuracy: 0.9549, Testing Accuracy: 0.9622\n",
      "\n"
     ]
    },
    {
     "name": "stdout",
     "output_type": "stream",
     "text": [
      "Epoch 130, Loss 0.043\n",
      "Training Accuracy: 0.9553, Testing Accuracy: 0.9627\n",
      "\n"
     ]
    },
    {
     "name": "stdout",
     "output_type": "stream",
     "text": [
      "Epoch 140, Loss 0.0421\n",
      "Training Accuracy: 0.9562, Testing Accuracy: 0.9642\n",
      "\n"
     ]
    },
    {
     "name": "stdout",
     "output_type": "stream",
     "text": [
      "Epoch 150, Loss 0.0414\n",
      "Training Accuracy: 0.9564, Testing Accuracy: 0.9652\n",
      "\n"
     ]
    },
    {
     "name": "stdout",
     "output_type": "stream",
     "text": [
      "Epoch 160, Loss 0.0407\n",
      "Training Accuracy: 0.9570, Testing Accuracy: 0.9667\n",
      "\n"
     ]
    },
    {
     "name": "stdout",
     "output_type": "stream",
     "text": [
      "Epoch 170, Loss 0.0401\n",
      "Training Accuracy: 0.9574, Testing Accuracy: 0.9667\n",
      "\n"
     ]
    },
    {
     "name": "stdout",
     "output_type": "stream",
     "text": [
      "Epoch 180, Loss 0.0395\n",
      "Training Accuracy: 0.9577, Testing Accuracy: 0.9662\n",
      "\n"
     ]
    },
    {
     "name": "stdout",
     "output_type": "stream",
     "text": [
      "Epoch 190, Loss 0.039\n",
      "Training Accuracy: 0.9582, Testing Accuracy: 0.9667\n",
      "\n"
     ]
    },
    {
     "name": "stdout",
     "output_type": "stream",
     "text": [
      "Epoch 200, Loss 0.0385\n",
      "Training Accuracy: 0.9584, Testing Accuracy: 0.9672\n",
      "\n"
     ]
    },
    {
     "name": "stdout",
     "output_type": "stream",
     "text": [
      "Epoch 210, Loss 0.0381\n",
      "Training Accuracy: 0.9587, Testing Accuracy: 0.9682\n",
      "\n"
     ]
    },
    {
     "name": "stdout",
     "output_type": "stream",
     "text": [
      "Epoch 220, Loss 0.0377\n",
      "Training Accuracy: 0.9594, Testing Accuracy: 0.9677\n",
      "\n"
     ]
    },
    {
     "name": "stdout",
     "output_type": "stream",
     "text": [
      "Epoch 230, Loss 0.0373\n",
      "Training Accuracy: 0.9596, Testing Accuracy: 0.9677\n",
      "\n"
     ]
    },
    {
     "name": "stdout",
     "output_type": "stream",
     "text": [
      "Epoch 240, Loss 0.0369\n",
      "Training Accuracy: 0.9599, Testing Accuracy: 0.9682\n",
      "\n"
     ]
    },
    {
     "data": {
      "text/plain": [
       "0.020204092015481546"
      ]
     },
     "execution_count": 23,
     "metadata": {},
     "output_type": "execute_result"
    }
   ],
   "source": [
    "lr_learner.train_loop(dl)"
   ]
  },
  {
   "cell_type": "code",
   "execution_count": 24,
   "id": "ca410940",
   "metadata": {
    "execution": {
     "iopub.execute_input": "2022-01-12T00:27:22.795579Z",
     "iopub.status.busy": "2022-01-12T00:27:22.795044Z",
     "iopub.status.idle": "2022-01-12T00:27:23.008832Z",
     "shell.execute_reply": "2022-01-12T00:27:23.008376Z"
    },
    "papermill": {
     "duration": 0.268283,
     "end_time": "2022-01-12T00:27:23.008950",
     "exception": false,
     "start_time": "2022-01-12T00:27:22.740667",
     "status": "completed"
    },
    "tags": []
   },
   "outputs": [
    {
     "data": {
      "text/plain": [
       "<matplotlib.legend.Legend at 0x7eff343a7ac8>"
      ]
     },
     "execution_count": 24,
     "metadata": {},
     "output_type": "execute_result"
    },
    {
     "data": {
      "image/png": "[encoded data removed]",
      "text/plain": [
       "<Figure size 1080x720 with 1 Axes>"
      ]
     },
     "metadata": {
      "needs_background": "light"
     },
     "output_type": "display_data"
    }
   ],
   "source": [
    "#comparing the results of NN and LR\n",
    "plt.figure(figsize=(15,10))\n",
    "\n",
    "# Neural Network plots\n",
    "plt.plot(acc_nn.accuracies, 'r-', label = \"Training Accuracies - NN\")\n",
    "plt.plot(acc_nn.test_accuracies, 'g-', label = \"Testing Accuracies - NN\")\n",
    "\n",
    "# Logistic Regression plots\n",
    "plt.plot(acc_lr.accuracies, 'k-', label = \"Training Accuracies - LR\")\n",
    "plt.plot(acc_lr.test_accuracies, 'b-', label = \"Testing Accuracies - LR\")\n",
    "plt.legend()"
   ]
  },
  {
   "cell_type": "markdown",
   "id": "80dfb35c",
   "metadata": {
    "papermill": {
     "duration": 0.042617,
     "end_time": "2022-01-12T00:27:23.094757",
     "exception": false,
     "start_time": "2022-01-12T00:27:23.052140",
     "status": "completed"
    },
    "tags": []
   },
   "source": [
    "#### Plotting the outputs of this layer of the NN.\n"
   ]
  },
  {
   "cell_type": "code",
   "execution_count": 25,
   "id": "45eb2ff5",
   "metadata": {
    "execution": {
     "iopub.execute_input": "2022-01-12T00:27:23.183459Z",
     "iopub.status.busy": "2022-01-12T00:27:23.182932Z",
     "iopub.status.idle": "2022-01-12T00:27:23.203643Z",
     "shell.execute_reply": "2022-01-12T00:27:23.204079Z"
    },
    "papermill": {
     "duration": 0.06709,
     "end_time": "2022-01-12T00:27:23.204220",
     "exception": false,
     "start_time": "2022-01-12T00:27:23.137130",
     "status": "completed"
    },
    "tags": []
   },
   "outputs": [],
   "source": [
    "new_model = Model(layers[:-2])\n",
    "testing_plot = new_model(testing_data_x)"
   ]
  },
  {
   "cell_type": "code",
   "execution_count": 26,
   "id": "4c0a5485",
   "metadata": {
    "execution": {
     "iopub.execute_input": "2022-01-12T00:27:23.299472Z",
     "iopub.status.busy": "2022-01-12T00:27:23.298937Z",
     "iopub.status.idle": "2022-01-12T00:27:23.485092Z",
     "shell.execute_reply": "2022-01-12T00:27:23.484620Z"
    },
    "papermill": {
     "duration": 0.237792,
     "end_time": "2022-01-12T00:27:23.485212",
     "exception": false,
     "start_time": "2022-01-12T00:27:23.247420",
     "status": "completed"
    },
    "tags": []
   },
   "outputs": [
    {
     "data": {
      "text/plain": [
       "Text(0.5, 1.0, 'Outputs')"
      ]
     },
     "execution_count": 26,
     "metadata": {},
     "output_type": "execute_result"
    },
    {
     "data": {
      "image/png": "[encoded data removed]",
      "text/plain": [
       "<Figure size 576x504 with 1 Axes>"
      ]
     },
     "metadata": {
      "needs_background": "light"
     },
     "output_type": "display_data"
    }
   ],
   "source": [
    "# Plotting the scatter plot of points and color coding by class\n",
    "plt.figure(figsize=(8,7))\n",
    "plt.scatter(testing_plot[:,0], testing_plot[:,1], alpha = 0.1, c = y_test.ravel());\n",
    "plt.title('Outputs')"
   ]
  },
  {
   "cell_type": "markdown",
   "id": "a74fcf8f",
   "metadata": {
    "papermill": {
     "duration": 0.044686,
     "end_time": "2022-01-12T00:27:23.575237",
     "exception": false,
     "start_time": "2022-01-12T00:27:23.530551",
     "status": "completed"
    },
    "tags": []
   },
   "source": [
    "Probability contours"
   ]
  },
  {
   "cell_type": "code",
   "execution_count": 27,
   "id": "d0afc8e3",
   "metadata": {
    "execution": {
     "iopub.execute_input": "2022-01-12T00:27:23.668641Z",
     "iopub.status.busy": "2022-01-12T00:27:23.668085Z",
     "iopub.status.idle": "2022-01-12T00:27:23.681107Z",
     "shell.execute_reply": "2022-01-12T00:27:23.680683Z"
    },
    "papermill": {
     "duration": 0.061176,
     "end_time": "2022-01-12T00:27:23.681223",
     "exception": false,
     "start_time": "2022-01-12T00:27:23.620047",
     "status": "completed"
    },
    "tags": []
   },
   "outputs": [],
   "source": [
    "model_prob = Model(layers[-2:]) "
   ]
  },
  {
   "cell_type": "code",
   "execution_count": 28,
   "id": "9b96e238",
   "metadata": {
    "execution": {
     "iopub.execute_input": "2022-01-12T00:27:23.804299Z",
     "iopub.status.busy": "2022-01-12T00:27:23.803329Z",
     "iopub.status.idle": "2022-01-12T00:27:23.817299Z",
     "shell.execute_reply": "2022-01-12T00:27:23.817724Z"
    },
    "papermill": {
     "duration": 0.091569,
     "end_time": "2022-01-12T00:27:23.817858",
     "exception": false,
     "start_time": "2022-01-12T00:27:23.726289",
     "status": "completed"
    },
    "tags": []
   },
   "outputs": [],
   "source": [
    "#creating the x and y ranges according to the above generated plot.\n",
    "x_range = np.linspace(-4, 1, 100) \n",
    "y_range = np.linspace(-6, 6, 100) \n",
    "x_grid, y_grid = np.meshgrid(x_range, y_range) # x_grid and y_grig are of size 100 X 100\n",
    "\n",
    "# converting x_grid and y_grid to continuous arrays\n",
    "x_gridflat = np.ravel(x_grid)\n",
    "y_gridflat = np.ravel(y_grid)\n",
    "\n",
    "# The last layer of the current model takes two columns as input. Hence transpose of np.vstack() is required.\n",
    "X = np.vstack((x_gridflat, y_gridflat)).T\n",
    "\n",
    "prob_contour = model_prob(X).reshape(100,100) "
   ]
  },
  {
   "cell_type": "code",
   "execution_count": 29,
   "id": "da72499a",
   "metadata": {
    "execution": {
     "iopub.execute_input": "2022-01-12T00:27:23.911814Z",
     "iopub.status.busy": "2022-01-12T00:27:23.911297Z",
     "iopub.status.idle": "2022-01-12T00:27:24.156796Z",
     "shell.execute_reply": "2022-01-12T00:27:24.156296Z"
    },
    "papermill": {
     "duration": 0.293871,
     "end_time": "2022-01-12T00:27:24.156933",
     "exception": false,
     "start_time": "2022-01-12T00:27:23.863062",
     "status": "completed"
    },
    "tags": []
   },
   "outputs": [
    {
     "data": {
      "image/png": "[encoded data removed]",
      "text/plain": [
       "<Figure size 720x648 with 1 Axes>"
      ]
     },
     "metadata": {
      "needs_background": "light"
     },
     "output_type": "display_data"
    }
   ],
   "source": [
    "plt.figure(figsize=(10,9))\n",
    "plt.scatter(testing_plot[:,0], testing_plot[:,1], alpha = 0.1, c = y_test.ravel())\n",
    "contours = plt.contour(x_grid,y_grid,prob_contour)\n",
    "plt.title('Probability Contours')\n",
    "plt.clabel(contours, inline = True );"
   ]
  },
  {
   "cell_type": "code",
   "execution_count": null,
   "id": "e81b4ac7",
   "metadata": {
    "papermill": {
     "duration": 0.047592,
     "end_time": "2022-01-12T00:27:24.253327",
     "exception": false,
     "start_time": "2022-01-12T00:27:24.205735",
     "status": "completed"
    },
    "tags": []
   },
   "outputs": [],
   "source": []
  }
 ],
 "metadata": {
  "kernelspec": {
   "display_name": "Python 3",
   "language": "python",
   "name": "python3"
  },
  "language_info": {
   "codemirror_mode": {
    "name": "ipython",
    "version": 3
   },
   "file_extension": ".py",
   "mimetype": "text/x-python",
   "name": "python",
   "nbconvert_exporter": "python",
   "pygments_lexer": "ipython3",
   "version": "3.6.15"
  },
  "papermill": {
   "default_parameters": {},
   "duration": 100.383839,
   "end_time": "2022-01-12T00:27:24.709437",
   "environment_variables": {},
   "exception": null,
   "input_path": "2020-08-11-part2.ipynb",
   "output_path": "2020-08-11-part2.ipynb",
   "parameters": {},
   "start_time": "2022-01-12T00:25:44.325598",
   "version": "2.3.3"
  }
 },
 "nbformat": 4,
 "nbformat_minor": 5
}