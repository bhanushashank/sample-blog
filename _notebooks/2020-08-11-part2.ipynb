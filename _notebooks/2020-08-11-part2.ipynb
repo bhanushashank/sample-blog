{
 "cells": [
  {
   "cell_type": "markdown",
   "id": "98380cd3",
   "metadata": {
    "papermill": {
     "duration": 0.038738,
     "end_time": "2021-09-26T00:23:04.680358",
     "exception": false,
     "start_time": "2021-09-26T00:23:04.641620",
     "status": "completed"
    },
    "tags": []
   },
   "source": [
    "# Distinguish Your Own Digits (DYOD)"
   ]
  },
  {
   "cell_type": "markdown",
   "id": "ef31240d",
   "metadata": {
    "papermill": {
     "duration": 0.033488,
     "end_time": "2021-09-26T00:23:04.755276",
     "exception": false,
     "start_time": "2021-09-26T00:23:04.721788",
     "status": "completed"
    },
    "tags": []
   },
   "source": [
    "You are going to write a classifier that distinguishes between the number 3 and number 8."
   ]
  },
  {
   "cell_type": "code",
   "execution_count": 1,
   "id": "b15c8646",
   "metadata": {
    "execution": {
     "iopub.execute_input": "2021-09-26T00:23:04.831724Z",
     "iopub.status.busy": "2021-09-26T00:23:04.830968Z",
     "iopub.status.idle": "2021-09-26T00:23:04.848632Z",
     "shell.execute_reply": "2021-09-26T00:23:04.847964Z"
    },
    "papermill": {
     "duration": 0.061161,
     "end_time": "2021-09-26T00:23:04.848818",
     "exception": false,
     "start_time": "2021-09-26T00:23:04.787657",
     "status": "completed"
    },
    "tags": []
   },
   "outputs": [],
   "source": [
    "%load_ext autoreload\n",
    "%autoreload 2"
   ]
  },
  {
   "cell_type": "code",
   "execution_count": 2,
   "id": "22ef38dc",
   "metadata": {
    "execution": {
     "iopub.execute_input": "2021-09-26T00:23:04.921613Z",
     "iopub.status.busy": "2021-09-26T00:23:04.920908Z",
     "iopub.status.idle": "2021-09-26T00:23:05.641975Z",
     "shell.execute_reply": "2021-09-26T00:23:05.641373Z"
    },
    "papermill": {
     "duration": 0.760302,
     "end_time": "2021-09-26T00:23:05.642131",
     "exception": false,
     "start_time": "2021-09-26T00:23:04.881829",
     "status": "completed"
    },
    "tags": []
   },
   "outputs": [],
   "source": [
    "%matplotlib inline\n",
    "import numpy as np\n",
    "import matplotlib.pyplot as plt\n",
    "import pandas as pd"
   ]
  },
  {
   "cell_type": "markdown",
   "id": "ba036198",
   "metadata": {
    "papermill": {
     "duration": 0.049846,
     "end_time": "2021-09-26T00:23:05.764398",
     "exception": false,
     "start_time": "2021-09-26T00:23:05.714552",
     "status": "completed"
    },
    "tags": []
   },
   "source": [
    "From the command line run `pip install mnist`. This is a library that will help you bring down the mnist dataset. If you run this from a notebook, you need to put  `!pip install mnist` in a cell by itself."
   ]
  },
  {
   "cell_type": "code",
   "execution_count": 3,
   "id": "bb6ad8a1",
   "metadata": {
    "execution": {
     "iopub.execute_input": "2021-09-26T00:23:05.833347Z",
     "iopub.status.busy": "2021-09-26T00:23:05.832641Z",
     "iopub.status.idle": "2021-09-26T00:23:08.909094Z",
     "shell.execute_reply": "2021-09-26T00:23:08.909617Z"
    },
    "papermill": {
     "duration": 3.113593,
     "end_time": "2021-09-26T00:23:08.909794",
     "exception": false,
     "start_time": "2021-09-26T00:23:05.796201",
     "status": "completed"
    },
    "tags": []
   },
   "outputs": [
    {
     "name": "stdout",
     "output_type": "stream",
     "text": [
      "Collecting mnist\r\n"
     ]
    },
    {
     "name": "stdout",
     "output_type": "stream",
     "text": [
      "  Downloading mnist-0.2.2-py2.py3-none-any.whl (3.5 kB)\r\n",
      "Requirement already satisfied: numpy in /opt/hostedtoolcache/Python/3.6.15/x64/lib/python3.6/site-packages (from mnist) (1.19.5)\r\n"
     ]
    },
    {
     "name": "stdout",
     "output_type": "stream",
     "text": [
      "Installing collected packages: mnist\r\n"
     ]
    },
    {
     "name": "stdout",
     "output_type": "stream",
     "text": [
      "Successfully installed mnist-0.2.2\r\n"
     ]
    }
   ],
   "source": [
    "!pip install mnist"
   ]
  },
  {
   "cell_type": "markdown",
   "id": "69df9c9a",
   "metadata": {
    "papermill": {
     "duration": 0.033476,
     "end_time": "2021-09-26T00:23:08.978907",
     "exception": false,
     "start_time": "2021-09-26T00:23:08.945431",
     "status": "completed"
    },
    "tags": []
   },
   "source": [
    "## Preparing the Data"
   ]
  },
  {
   "cell_type": "code",
   "execution_count": 4,
   "id": "7f69d806",
   "metadata": {
    "execution": {
     "iopub.execute_input": "2021-09-26T00:23:09.059724Z",
     "iopub.status.busy": "2021-09-26T00:23:09.059049Z",
     "iopub.status.idle": "2021-09-26T00:23:09.078186Z",
     "shell.execute_reply": "2021-09-26T00:23:09.077586Z"
    },
    "papermill": {
     "duration": 0.06542,
     "end_time": "2021-09-26T00:23:09.078348",
     "exception": false,
     "start_time": "2021-09-26T00:23:09.012928",
     "status": "completed"
    },
    "tags": []
   },
   "outputs": [],
   "source": [
    "import mnist"
   ]
  },
  {
   "cell_type": "code",
   "execution_count": 5,
   "id": "a411e44f",
   "metadata": {
    "execution": {
     "iopub.execute_input": "2021-09-26T00:23:09.160572Z",
     "iopub.status.busy": "2021-09-26T00:23:09.159876Z",
     "iopub.status.idle": "2021-09-26T00:23:09.742041Z",
     "shell.execute_reply": "2021-09-26T00:23:09.741270Z"
    },
    "papermill": {
     "duration": 0.630359,
     "end_time": "2021-09-26T00:23:09.742196",
     "exception": false,
     "start_time": "2021-09-26T00:23:09.111837",
     "status": "completed"
    },
    "tags": []
   },
   "outputs": [],
   "source": [
    "train_images = mnist.train_images()\n",
    "train_labels = mnist.train_labels()"
   ]
  },
  {
   "cell_type": "code",
   "execution_count": 6,
   "id": "dceab3a5",
   "metadata": {
    "execution": {
     "iopub.execute_input": "2021-09-26T00:23:09.816557Z",
     "iopub.status.busy": "2021-09-26T00:23:09.815719Z",
     "iopub.status.idle": "2021-09-26T00:23:09.832956Z",
     "shell.execute_reply": "2021-09-26T00:23:09.833548Z"
    },
    "papermill": {
     "duration": 0.057661,
     "end_time": "2021-09-26T00:23:09.833722",
     "exception": false,
     "start_time": "2021-09-26T00:23:09.776061",
     "status": "completed"
    },
    "tags": []
   },
   "outputs": [
    {
     "data": {
      "text/plain": [
       "((60000, 28, 28), (60000,))"
      ]
     },
     "execution_count": 6,
     "metadata": {},
     "output_type": "execute_result"
    }
   ],
   "source": [
    "train_images.shape, train_labels.shape"
   ]
  },
  {
   "cell_type": "code",
   "execution_count": 7,
   "id": "f50dc2bb",
   "metadata": {
    "execution": {
     "iopub.execute_input": "2021-09-26T00:23:09.918587Z",
     "iopub.status.busy": "2021-09-26T00:23:09.917859Z",
     "iopub.status.idle": "2021-09-26T00:23:10.154133Z",
     "shell.execute_reply": "2021-09-26T00:23:10.154768Z"
    },
    "papermill": {
     "duration": 0.285951,
     "end_time": "2021-09-26T00:23:10.154950",
     "exception": false,
     "start_time": "2021-09-26T00:23:09.868999",
     "status": "completed"
    },
    "tags": []
   },
   "outputs": [],
   "source": [
    "test_images = mnist.test_images()\n",
    "test_labels = mnist.test_labels()"
   ]
  },
  {
   "cell_type": "code",
   "execution_count": 8,
   "id": "fc38cf1b",
   "metadata": {
    "execution": {
     "iopub.execute_input": "2021-09-26T00:23:10.230199Z",
     "iopub.status.busy": "2021-09-26T00:23:10.229516Z",
     "iopub.status.idle": "2021-09-26T00:23:10.244650Z",
     "shell.execute_reply": "2021-09-26T00:23:10.244049Z"
    },
    "papermill": {
     "duration": 0.053698,
     "end_time": "2021-09-26T00:23:10.244798",
     "exception": false,
     "start_time": "2021-09-26T00:23:10.191100",
     "status": "completed"
    },
    "tags": []
   },
   "outputs": [
    {
     "data": {
      "text/plain": [
       "((10000, 28, 28), (10000,))"
      ]
     },
     "execution_count": 8,
     "metadata": {},
     "output_type": "execute_result"
    }
   ],
   "source": [
    "test_images.shape, test_labels.shape"
   ]
  },
  {
   "cell_type": "code",
   "execution_count": 9,
   "id": "f9ed8fe0",
   "metadata": {
    "execution": {
     "iopub.execute_input": "2021-09-26T00:23:10.320052Z",
     "iopub.status.busy": "2021-09-26T00:23:10.319109Z",
     "iopub.status.idle": "2021-09-26T00:23:10.523752Z",
     "shell.execute_reply": "2021-09-26T00:23:10.523137Z"
    },
    "papermill": {
     "duration": 0.244589,
     "end_time": "2021-09-26T00:23:10.523926",
     "exception": false,
     "start_time": "2021-09-26T00:23:10.279337",
     "status": "completed"
    },
    "tags": []
   },
   "outputs": [
    {
     "name": "stdout",
     "output_type": "stream",
     "text": [
      "2\n"
     ]
    },
    {
     "data": {
      "text/plain": [
       "<matplotlib.image.AxesImage at 0x7f423a419438>"
      ]
     },
     "execution_count": 9,
     "metadata": {},
     "output_type": "execute_result"
    },
    {
     "data": {
      "image/png": "[encoded data removed]",
      "text/plain": [
       "<Figure size 432x288 with 1 Axes>"
      ]
     },
     "metadata": {
      "needs_background": "light"
     },
     "output_type": "display_data"
    }
   ],
   "source": [
    "image_index = 7776 # You may select anything up to 60,000\n",
    "print(train_labels[image_index]) \n",
    "plt.imshow(train_images[image_index], cmap='Greys')"
   ]
  },
  {
   "cell_type": "markdown",
   "id": "a8d2388d",
   "metadata": {
    "papermill": {
     "duration": 0.037809,
     "end_time": "2021-09-26T00:23:10.597266",
     "exception": false,
     "start_time": "2021-09-26T00:23:10.559457",
     "status": "completed"
    },
    "tags": []
   },
   "source": [
    "## Filter data to get 3 and 8 out"
   ]
  },
  {
   "cell_type": "code",
   "execution_count": 10,
   "id": "776f7fc7",
   "metadata": {
    "execution": {
     "iopub.execute_input": "2021-09-26T00:23:10.675459Z",
     "iopub.status.busy": "2021-09-26T00:23:10.674562Z",
     "iopub.status.idle": "2021-09-26T00:23:10.696517Z",
     "shell.execute_reply": "2021-09-26T00:23:10.695790Z"
    },
    "papermill": {
     "duration": 0.064022,
     "end_time": "2021-09-26T00:23:10.696686",
     "exception": false,
     "start_time": "2021-09-26T00:23:10.632664",
     "status": "completed"
    },
    "tags": []
   },
   "outputs": [],
   "source": [
    "train_filter = np.where((train_labels == 3 ) | (train_labels == 8))\n",
    "test_filter = np.where((test_labels == 3) | (test_labels == 8))\n",
    "X_train, y_train = train_images[train_filter], train_labels[train_filter]\n",
    "X_test, y_test = test_images[test_filter], test_labels[test_filter]"
   ]
  },
  {
   "cell_type": "markdown",
   "id": "948f0b7e",
   "metadata": {
    "papermill": {
     "duration": 0.036569,
     "end_time": "2021-09-26T00:23:10.769340",
     "exception": false,
     "start_time": "2021-09-26T00:23:10.732771",
     "status": "completed"
    },
    "tags": []
   },
   "source": [
    "We normalize the pizel values in the 0 to 1 range"
   ]
  },
  {
   "cell_type": "code",
   "execution_count": 11,
   "id": "ee4c2166",
   "metadata": {
    "execution": {
     "iopub.execute_input": "2021-09-26T00:23:10.847650Z",
     "iopub.status.busy": "2021-09-26T00:23:10.846912Z",
     "iopub.status.idle": "2021-09-26T00:23:10.911648Z",
     "shell.execute_reply": "2021-09-26T00:23:10.910981Z"
    },
    "papermill": {
     "duration": 0.106013,
     "end_time": "2021-09-26T00:23:10.911802",
     "exception": false,
     "start_time": "2021-09-26T00:23:10.805789",
     "status": "completed"
    },
    "tags": []
   },
   "outputs": [],
   "source": [
    "X_train = X_train/255.\n",
    "X_test = X_test/255."
   ]
  },
  {
   "cell_type": "markdown",
   "id": "ddcf4fab",
   "metadata": {
    "papermill": {
     "duration": 0.052699,
     "end_time": "2021-09-26T00:23:11.001223",
     "exception": false,
     "start_time": "2021-09-26T00:23:10.948524",
     "status": "completed"
    },
    "tags": []
   },
   "source": [
    "And setup the labels as 1 (when the digit is 3) and 0 (when the digit is 8)"
   ]
  },
  {
   "cell_type": "code",
   "execution_count": 12,
   "id": "7dc908f2",
   "metadata": {
    "execution": {
     "iopub.execute_input": "2021-09-26T00:23:11.082098Z",
     "iopub.status.busy": "2021-09-26T00:23:11.081384Z",
     "iopub.status.idle": "2021-09-26T00:23:11.094837Z",
     "shell.execute_reply": "2021-09-26T00:23:11.094170Z"
    },
    "papermill": {
     "duration": 0.05545,
     "end_time": "2021-09-26T00:23:11.094988",
     "exception": false,
     "start_time": "2021-09-26T00:23:11.039538",
     "status": "completed"
    },
    "tags": []
   },
   "outputs": [],
   "source": [
    "y_train = 1*(y_train==3)\n",
    "y_test = 1*(y_test==3)"
   ]
  },
  {
   "cell_type": "code",
   "execution_count": 13,
   "id": "01e4e969",
   "metadata": {
    "execution": {
     "iopub.execute_input": "2021-09-26T00:23:11.171628Z",
     "iopub.status.busy": "2021-09-26T00:23:11.170933Z",
     "iopub.status.idle": "2021-09-26T00:23:11.186513Z",
     "shell.execute_reply": "2021-09-26T00:23:11.185902Z"
    },
    "papermill": {
     "duration": 0.05537,
     "end_time": "2021-09-26T00:23:11.186683",
     "exception": false,
     "start_time": "2021-09-26T00:23:11.131313",
     "status": "completed"
    },
    "tags": []
   },
   "outputs": [
    {
     "data": {
      "text/plain": [
       "((11982, 28, 28), (1984, 28, 28))"
      ]
     },
     "execution_count": 13,
     "metadata": {},
     "output_type": "execute_result"
    }
   ],
   "source": [
    "X_train.shape, X_test.shape"
   ]
  },
  {
   "cell_type": "markdown",
   "id": "5ccf3f85",
   "metadata": {
    "papermill": {
     "duration": 0.037673,
     "end_time": "2021-09-26T00:23:11.262153",
     "exception": false,
     "start_time": "2021-09-26T00:23:11.224480",
     "status": "completed"
    },
    "tags": []
   },
   "source": [
    "We reshape the data to flatten the image pixels into a set of features or co-variates:"
   ]
  },
  {
   "cell_type": "code",
   "execution_count": 14,
   "id": "5286a4a3",
   "metadata": {
    "execution": {
     "iopub.execute_input": "2021-09-26T00:23:11.342282Z",
     "iopub.status.busy": "2021-09-26T00:23:11.341549Z",
     "iopub.status.idle": "2021-09-26T00:23:11.358499Z",
     "shell.execute_reply": "2021-09-26T00:23:11.357876Z"
    },
    "papermill": {
     "duration": 0.059377,
     "end_time": "2021-09-26T00:23:11.358670",
     "exception": false,
     "start_time": "2021-09-26T00:23:11.299293",
     "status": "completed"
    },
    "tags": []
   },
   "outputs": [
    {
     "data": {
      "text/plain": [
       "((11982, 784), (1984, 784))"
      ]
     },
     "execution_count": 14,
     "metadata": {},
     "output_type": "execute_result"
    }
   ],
   "source": [
    "X_train = X_train.reshape(X_train.shape[0], -1)\n",
    "X_test = X_test.reshape(X_test.shape[0], -1)\n",
    "X_train.shape, X_test.shape"
   ]
  },
  {
   "cell_type": "code",
   "execution_count": 15,
   "id": "73c5f88a",
   "metadata": {
    "execution": {
     "iopub.execute_input": "2021-09-26T00:23:11.446733Z",
     "iopub.status.busy": "2021-09-26T00:23:11.445854Z",
     "iopub.status.idle": "2021-09-26T00:23:11.470474Z",
     "shell.execute_reply": "2021-09-26T00:23:11.469812Z"
    },
    "papermill": {
     "duration": 0.07452,
     "end_time": "2021-09-26T00:23:11.470627",
     "exception": false,
     "start_time": "2021-09-26T00:23:11.396107",
     "status": "completed"
    },
    "tags": []
   },
   "outputs": [],
   "source": [
    "#Impoting functions from 'Kudzu'\n",
    "from kudzu.model import Model\n",
    "from kudzu.train import Learner\n",
    "from kudzu.optim import GD\n",
    "from kudzu.data import Data, Sampler,Dataloader\n",
    "\n",
    "from kudzu.callbacks import AccCallback\n",
    "from kudzu.callbacks import ClfCallback\n",
    "\n",
    "from kudzu.loss import MSE\n",
    "\n",
    "from kudzu.layer import Sigmoid,Relu\n",
    "from kudzu.layer import Affine"
   ]
  },
  {
   "cell_type": "markdown",
   "id": "bc01172a",
   "metadata": {
    "papermill": {
     "duration": 0.036042,
     "end_time": "2021-09-26T00:23:11.543240",
     "exception": false,
     "start_time": "2021-09-26T00:23:11.507198",
     "status": "completed"
    },
    "tags": []
   },
   "source": [
    "### Let us create a `Config` class, to store important parameters. \n",
    "This class essentially plays the role of a dictionary."
   ]
  },
  {
   "cell_type": "code",
   "execution_count": 16,
   "id": "978281aa",
   "metadata": {
    "execution": {
     "iopub.execute_input": "2021-09-26T00:23:11.624674Z",
     "iopub.status.busy": "2021-09-26T00:23:11.623965Z",
     "iopub.status.idle": "2021-09-26T00:23:11.638680Z",
     "shell.execute_reply": "2021-09-26T00:23:11.638089Z"
    },
    "papermill": {
     "duration": 0.059077,
     "end_time": "2021-09-26T00:23:11.638835",
     "exception": false,
     "start_time": "2021-09-26T00:23:11.579758",
     "status": "completed"
    },
    "tags": []
   },
   "outputs": [],
   "source": [
    "class Config:\n",
    "    pass\n",
    "config = Config()\n",
    "config.lr = 0.001\n",
    "config.num_epochs = 250\n",
    "config.bs = 50"
   ]
  },
  {
   "cell_type": "markdown",
   "id": "1385fa59",
   "metadata": {
    "papermill": {
     "duration": 0.035826,
     "end_time": "2021-09-26T00:23:11.710427",
     "exception": false,
     "start_time": "2021-09-26T00:23:11.674601",
     "status": "completed"
    },
    "tags": []
   },
   "source": [
    "### Running Models with the Training data\n",
    "Details about the network layers:\n",
    "- A first affine layer has 784 inputs and does 100 affine transforms. These are followed by a Relu\n",
    "- A second affine layer has 100 inputs from the 100 activations of the past layer, and does 100 affine transforms. These are followed by a Relu\n",
    "- A third affine layer has 100 activations and does 2 affine transformations to create an embedding for visualization. There is no non-linearity here.\n",
    "- A final \"logistic regression\" which has an affine transform from 2 inputs to 1 output, which is squeezed through a sigmoid.\n"
   ]
  },
  {
   "cell_type": "code",
   "execution_count": 17,
   "id": "2b9c66db",
   "metadata": {
    "execution": {
     "iopub.execute_input": "2021-09-26T00:23:11.789755Z",
     "iopub.status.busy": "2021-09-26T00:23:11.789051Z",
     "iopub.status.idle": "2021-09-26T00:23:11.803676Z",
     "shell.execute_reply": "2021-09-26T00:23:11.804292Z"
    },
    "papermill": {
     "duration": 0.05759,
     "end_time": "2021-09-26T00:23:11.804467",
     "exception": false,
     "start_time": "2021-09-26T00:23:11.746877",
     "status": "completed"
    },
    "tags": []
   },
   "outputs": [],
   "source": [
    "data = Data(X_train, y_train.reshape(-1,1))\n",
    "sampler = Sampler(data, config.bs, shuffle=True)\n",
    "\n",
    "dl = Dataloader(data, sampler)\n",
    "\n",
    "opt = GD(config.lr)\n",
    "loss = MSE()"
   ]
  },
  {
   "cell_type": "code",
   "execution_count": 18,
   "id": "b275e4c2",
   "metadata": {
    "execution": {
     "iopub.execute_input": "2021-09-26T00:23:11.882877Z",
     "iopub.status.busy": "2021-09-26T00:23:11.882173Z",
     "iopub.status.idle": "2021-09-26T00:23:11.895811Z",
     "shell.execute_reply": "2021-09-26T00:23:11.896444Z"
    },
    "papermill": {
     "duration": 0.056231,
     "end_time": "2021-09-26T00:23:11.896641",
     "exception": false,
     "start_time": "2021-09-26T00:23:11.840410",
     "status": "completed"
    },
    "tags": []
   },
   "outputs": [],
   "source": [
    "training_data_x = X_train\n",
    "testing_data_x = X_test\n",
    "training_data_y = y_train.reshape(-1,1)\n",
    "testing_data_y = y_test.reshape(-1,1)"
   ]
  },
  {
   "cell_type": "code",
   "execution_count": 19,
   "id": "76951160",
   "metadata": {
    "execution": {
     "iopub.execute_input": "2021-09-26T00:23:11.976185Z",
     "iopub.status.busy": "2021-09-26T00:23:11.975446Z",
     "iopub.status.idle": "2021-09-26T00:23:11.994307Z",
     "shell.execute_reply": "2021-09-26T00:23:11.993612Z"
    },
    "papermill": {
     "duration": 0.061242,
     "end_time": "2021-09-26T00:23:11.994461",
     "exception": false,
     "start_time": "2021-09-26T00:23:11.933219",
     "status": "completed"
    },
    "tags": []
   },
   "outputs": [
    {
     "name": "stdout",
     "output_type": "stream",
     "text": [
      "xavier\n",
      "xavier\n",
      "xavier\n",
      "xavier\n",
      "xavier\n"
     ]
    }
   ],
   "source": [
    "layers = [Affine(\"first\", 784, 100), Relu(\"first\"), Affine(\"second\", 100, 100), Relu(\"second\"), Affine(\"third\", 100, 2), Affine(\"last\", 2, 1), Sigmoid(\"last\")]\n",
    "model_nn = Model(layers)\n",
    "model_lr = Model([Affine(\"logits\", 784, 1), Sigmoid(\"sigmoid\")])"
   ]
  },
  {
   "cell_type": "code",
   "execution_count": 20,
   "id": "6eede77a",
   "metadata": {
    "execution": {
     "iopub.execute_input": "2021-09-26T00:23:12.078053Z",
     "iopub.status.busy": "2021-09-26T00:23:12.077369Z",
     "iopub.status.idle": "2021-09-26T00:23:12.093579Z",
     "shell.execute_reply": "2021-09-26T00:23:12.092910Z"
    },
    "papermill": {
     "duration": 0.062061,
     "end_time": "2021-09-26T00:23:12.093732",
     "exception": false,
     "start_time": "2021-09-26T00:23:12.031671",
     "status": "completed"
    },
    "tags": []
   },
   "outputs": [],
   "source": [
    "nn_learner = Learner(loss, model_nn, opt, config.num_epochs)\n",
    "acc_nn = ClfCallback(nn_learner, config.bs, training_data_x , testing_data_x, training_data_y, testing_data_y)\n",
    "nn_learner.set_callbacks([acc_nn])"
   ]
  },
  {
   "cell_type": "code",
   "execution_count": 21,
   "id": "877b6cc7",
   "metadata": {
    "execution": {
     "iopub.execute_input": "2021-09-26T00:23:12.260768Z",
     "iopub.status.busy": "2021-09-26T00:23:12.260062Z",
     "iopub.status.idle": "2021-09-26T00:23:12.274965Z",
     "shell.execute_reply": "2021-09-26T00:23:12.274317Z"
    },
    "papermill": {
     "duration": 0.073394,
     "end_time": "2021-09-26T00:23:12.275122",
     "exception": false,
     "start_time": "2021-09-26T00:23:12.201728",
     "status": "completed"
    },
    "tags": []
   },
   "outputs": [],
   "source": [
    "lr_learner = Learner(loss, model_lr, opt, config.num_epochs)\n",
    "acc_lr = ClfCallback(lr_learner, config.bs, training_data_x , testing_data_x, training_data_y, testing_data_y)\n",
    "lr_learner.set_callbacks([acc_lr])"
   ]
  },
  {
   "cell_type": "code",
   "execution_count": 22,
   "id": "d9b133c3",
   "metadata": {
    "execution": {
     "iopub.execute_input": "2021-09-26T00:23:12.355107Z",
     "iopub.status.busy": "2021-09-26T00:23:12.354377Z",
     "iopub.status.idle": "2021-09-26T00:25:47.604743Z",
     "shell.execute_reply": "2021-09-26T00:25:47.605687Z"
    },
    "papermill": {
     "duration": 155.293189,
     "end_time": "2021-09-26T00:25:47.605869",
     "exception": false,
     "start_time": "2021-09-26T00:23:12.312680",
     "status": "completed"
    },
    "tags": []
   },
   "outputs": [
    {
     "name": "stdout",
     "output_type": "stream",
     "text": [
      "Epoch 0, Loss 0.2453\n",
      "Training Accuracy: 0.6562, Testing Accuracy: 0.6764\n",
      "\n"
     ]
    },
    {
     "name": "stdout",
     "output_type": "stream",
     "text": [
      "Epoch 10, Loss 0.0966\n",
      "Training Accuracy: 0.9151, Testing Accuracy: 0.9264\n",
      "\n"
     ]
    },
    {
     "name": "stdout",
     "output_type": "stream",
     "text": [
      "Epoch 20, Loss 0.0552\n",
      "Training Accuracy: 0.9456, Testing Accuracy: 0.9511\n",
      "\n"
     ]
    },
    {
     "name": "stdout",
     "output_type": "stream",
     "text": [
      "Epoch 30, Loss 0.0423\n",
      "Training Accuracy: 0.9548, Testing Accuracy: 0.9622\n",
      "\n"
     ]
    },
    {
     "name": "stdout",
     "output_type": "stream",
     "text": [
      "Epoch 40, Loss 0.0364\n",
      "Training Accuracy: 0.9600, Testing Accuracy: 0.9672\n",
      "\n"
     ]
    },
    {
     "name": "stdout",
     "output_type": "stream",
     "text": [
      "Epoch 50, Loss 0.033\n",
      "Training Accuracy: 0.9638, Testing Accuracy: 0.9672\n",
      "\n"
     ]
    },
    {
     "name": "stdout",
     "output_type": "stream",
     "text": [
      "Epoch 60, Loss 0.0307\n",
      "Training Accuracy: 0.9659, Testing Accuracy: 0.9677\n",
      "\n"
     ]
    },
    {
     "name": "stdout",
     "output_type": "stream",
     "text": [
      "Epoch 70, Loss 0.029\n",
      "Training Accuracy: 0.9671, Testing Accuracy: 0.9693\n",
      "\n"
     ]
    },
    {
     "name": "stdout",
     "output_type": "stream",
     "text": [
      "Epoch 80, Loss 0.0277\n",
      "Training Accuracy: 0.9685, Testing Accuracy: 0.9703\n",
      "\n"
     ]
    },
    {
     "name": "stdout",
     "output_type": "stream",
     "text": [
      "Epoch 90, Loss 0.0266\n",
      "Training Accuracy: 0.9698, Testing Accuracy: 0.9703\n",
      "\n"
     ]
    },
    {
     "name": "stdout",
     "output_type": "stream",
     "text": [
      "Epoch 100, Loss 0.0257\n",
      "Training Accuracy: 0.9703, Testing Accuracy: 0.9723\n",
      "\n"
     ]
    },
    {
     "name": "stdout",
     "output_type": "stream",
     "text": [
      "Epoch 110, Loss 0.0249\n",
      "Training Accuracy: 0.9715, Testing Accuracy: 0.9713\n",
      "\n"
     ]
    },
    {
     "name": "stdout",
     "output_type": "stream",
     "text": [
      "Epoch 120, Loss 0.0242\n",
      "Training Accuracy: 0.9724, Testing Accuracy: 0.9708\n",
      "\n"
     ]
    },
    {
     "name": "stdout",
     "output_type": "stream",
     "text": [
      "Epoch 130, Loss 0.0235\n",
      "Training Accuracy: 0.9735, Testing Accuracy: 0.9708\n",
      "\n"
     ]
    },
    {
     "name": "stdout",
     "output_type": "stream",
     "text": [
      "Epoch 140, Loss 0.0229\n",
      "Training Accuracy: 0.9745, Testing Accuracy: 0.9713\n",
      "\n"
     ]
    },
    {
     "name": "stdout",
     "output_type": "stream",
     "text": [
      "Epoch 150, Loss 0.0223\n",
      "Training Accuracy: 0.9755, Testing Accuracy: 0.9718\n",
      "\n"
     ]
    },
    {
     "name": "stdout",
     "output_type": "stream",
     "text": [
      "Epoch 160, Loss 0.0218\n",
      "Training Accuracy: 0.9756, Testing Accuracy: 0.9723\n",
      "\n"
     ]
    },
    {
     "name": "stdout",
     "output_type": "stream",
     "text": [
      "Epoch 170, Loss 0.0214\n",
      "Training Accuracy: 0.9764, Testing Accuracy: 0.9723\n",
      "\n"
     ]
    },
    {
     "name": "stdout",
     "output_type": "stream",
     "text": [
      "Epoch 180, Loss 0.0209\n",
      "Training Accuracy: 0.9769, Testing Accuracy: 0.9733\n",
      "\n"
     ]
    },
    {
     "name": "stdout",
     "output_type": "stream",
     "text": [
      "Epoch 190, Loss 0.0205\n",
      "Training Accuracy: 0.9771, Testing Accuracy: 0.9743\n",
      "\n"
     ]
    },
    {
     "name": "stdout",
     "output_type": "stream",
     "text": [
      "Epoch 200, Loss 0.0201\n",
      "Training Accuracy: 0.9776, Testing Accuracy: 0.9743\n",
      "\n"
     ]
    },
    {
     "name": "stdout",
     "output_type": "stream",
     "text": [
      "Epoch 210, Loss 0.0197\n",
      "Training Accuracy: 0.9779, Testing Accuracy: 0.9743\n",
      "\n"
     ]
    },
    {
     "name": "stdout",
     "output_type": "stream",
     "text": [
      "Epoch 220, Loss 0.0193\n",
      "Training Accuracy: 0.9783, Testing Accuracy: 0.9733\n",
      "\n"
     ]
    },
    {
     "name": "stdout",
     "output_type": "stream",
     "text": [
      "Epoch 230, Loss 0.0189\n",
      "Training Accuracy: 0.9791, Testing Accuracy: 0.9743\n",
      "\n"
     ]
    },
    {
     "name": "stdout",
     "output_type": "stream",
     "text": [
      "Epoch 240, Loss 0.0185\n",
      "Training Accuracy: 0.9791, Testing Accuracy: 0.9743\n",
      "\n"
     ]
    },
    {
     "data": {
      "text/plain": [
       "0.011699080348407769"
      ]
     },
     "execution_count": 22,
     "metadata": {},
     "output_type": "execute_result"
    }
   ],
   "source": [
    "nn_learner.train_loop(dl)"
   ]
  },
  {
   "cell_type": "code",
   "execution_count": 23,
   "id": "e0163366",
   "metadata": {
    "execution": {
     "iopub.execute_input": "2021-09-26T00:25:47.721935Z",
     "iopub.status.busy": "2021-09-26T00:25:47.721125Z",
     "iopub.status.idle": "2021-09-26T00:26:09.281865Z",
     "shell.execute_reply": "2021-09-26T00:26:09.282790Z"
    },
    "papermill": {
     "duration": 21.622106,
     "end_time": "2021-09-26T00:26:09.282968",
     "exception": false,
     "start_time": "2021-09-26T00:25:47.660862",
     "status": "completed"
    },
    "tags": []
   },
   "outputs": [
    {
     "name": "stdout",
     "output_type": "stream",
     "text": [
      "Epoch 0, Loss 0.2565\n",
      "Training Accuracy: 0.6265, Testing Accuracy: 0.5953\n",
      "\n"
     ]
    },
    {
     "name": "stdout",
     "output_type": "stream",
     "text": [
      "Epoch 10, Loss 0.1037\n",
      "Training Accuracy: 0.9075, Testing Accuracy: 0.9153\n",
      "\n"
     ]
    },
    {
     "name": "stdout",
     "output_type": "stream",
     "text": [
      "Epoch 20, Loss 0.0792\n",
      "Training Accuracy: 0.9271, Testing Accuracy: 0.9335\n",
      "\n"
     ]
    },
    {
     "name": "stdout",
     "output_type": "stream",
     "text": [
      "Epoch 30, Loss 0.0681\n",
      "Training Accuracy: 0.9365, Testing Accuracy: 0.9456\n",
      "\n"
     ]
    },
    {
     "name": "stdout",
     "output_type": "stream",
     "text": [
      "Epoch 40, Loss 0.0614\n",
      "Training Accuracy: 0.9427, Testing Accuracy: 0.9546\n",
      "\n"
     ]
    },
    {
     "name": "stdout",
     "output_type": "stream",
     "text": [
      "Epoch 50, Loss 0.0569\n",
      "Training Accuracy: 0.9458, Testing Accuracy: 0.9567\n",
      "\n"
     ]
    },
    {
     "name": "stdout",
     "output_type": "stream",
     "text": [
      "Epoch 60, Loss 0.0535\n",
      "Training Accuracy: 0.9479, Testing Accuracy: 0.9597\n",
      "\n"
     ]
    },
    {
     "name": "stdout",
     "output_type": "stream",
     "text": [
      "Epoch 70, Loss 0.051\n",
      "Training Accuracy: 0.9493, Testing Accuracy: 0.9607\n",
      "\n"
     ]
    },
    {
     "name": "stdout",
     "output_type": "stream",
     "text": [
      "Epoch 80, Loss 0.0489\n",
      "Training Accuracy: 0.9510, Testing Accuracy: 0.9617\n",
      "\n"
     ]
    },
    {
     "name": "stdout",
     "output_type": "stream",
     "text": [
      "Epoch 90, Loss 0.0472\n",
      "Training Accuracy: 0.9528, Testing Accuracy: 0.9632\n",
      "\n"
     ]
    },
    {
     "name": "stdout",
     "output_type": "stream",
     "text": [
      "Epoch 100, Loss 0.0458\n",
      "Training Accuracy: 0.9538, Testing Accuracy: 0.9637\n",
      "\n"
     ]
    },
    {
     "name": "stdout",
     "output_type": "stream",
     "text": [
      "Epoch 110, Loss 0.0446\n",
      "Training Accuracy: 0.9546, Testing Accuracy: 0.9647\n",
      "\n"
     ]
    },
    {
     "name": "stdout",
     "output_type": "stream",
     "text": [
      "Epoch 120, Loss 0.0435\n",
      "Training Accuracy: 0.9554, Testing Accuracy: 0.9642\n",
      "\n"
     ]
    },
    {
     "name": "stdout",
     "output_type": "stream",
     "text": [
      "Epoch 130, Loss 0.0426\n",
      "Training Accuracy: 0.9560, Testing Accuracy: 0.9642\n",
      "\n"
     ]
    },
    {
     "name": "stdout",
     "output_type": "stream",
     "text": [
      "Epoch 140, Loss 0.0418\n",
      "Training Accuracy: 0.9564, Testing Accuracy: 0.9652\n",
      "\n"
     ]
    },
    {
     "name": "stdout",
     "output_type": "stream",
     "text": [
      "Epoch 150, Loss 0.041\n",
      "Training Accuracy: 0.9569, Testing Accuracy: 0.9647\n",
      "\n"
     ]
    },
    {
     "name": "stdout",
     "output_type": "stream",
     "text": [
      "Epoch 160, Loss 0.0403\n",
      "Training Accuracy: 0.9574, Testing Accuracy: 0.9652\n",
      "\n"
     ]
    },
    {
     "name": "stdout",
     "output_type": "stream",
     "text": [
      "Epoch 170, Loss 0.0397\n",
      "Training Accuracy: 0.9578, Testing Accuracy: 0.9652\n",
      "\n"
     ]
    },
    {
     "name": "stdout",
     "output_type": "stream",
     "text": [
      "Epoch 180, Loss 0.0392\n",
      "Training Accuracy: 0.9583, Testing Accuracy: 0.9657\n",
      "\n"
     ]
    },
    {
     "name": "stdout",
     "output_type": "stream",
     "text": [
      "Epoch 190, Loss 0.0387\n",
      "Training Accuracy: 0.9584, Testing Accuracy: 0.9657\n",
      "\n"
     ]
    },
    {
     "name": "stdout",
     "output_type": "stream",
     "text": [
      "Epoch 200, Loss 0.0382\n",
      "Training Accuracy: 0.9588, Testing Accuracy: 0.9662\n",
      "\n"
     ]
    },
    {
     "name": "stdout",
     "output_type": "stream",
     "text": [
      "Epoch 210, Loss 0.0378\n",
      "Training Accuracy: 0.9590, Testing Accuracy: 0.9667\n",
      "\n"
     ]
    },
    {
     "name": "stdout",
     "output_type": "stream",
     "text": [
      "Epoch 220, Loss 0.0374\n",
      "Training Accuracy: 0.9590, Testing Accuracy: 0.9667\n",
      "\n"
     ]
    },
    {
     "name": "stdout",
     "output_type": "stream",
     "text": [
      "Epoch 230, Loss 0.037\n",
      "Training Accuracy: 0.9594, Testing Accuracy: 0.9667\n",
      "\n"
     ]
    },
    {
     "name": "stdout",
     "output_type": "stream",
     "text": [
      "Epoch 240, Loss 0.0366\n",
      "Training Accuracy: 0.9597, Testing Accuracy: 0.9662\n",
      "\n"
     ]
    },
    {
     "data": {
      "text/plain": [
       "0.02880217751210752"
      ]
     },
     "execution_count": 23,
     "metadata": {},
     "output_type": "execute_result"
    }
   ],
   "source": [
    "lr_learner.train_loop(dl)"
   ]
  },
  {
   "cell_type": "code",
   "execution_count": 24,
   "id": "ca410940",
   "metadata": {
    "execution": {
     "iopub.execute_input": "2021-09-26T00:26:09.397966Z",
     "iopub.status.busy": "2021-09-26T00:26:09.397254Z",
     "iopub.status.idle": "2021-09-26T00:26:09.726365Z",
     "shell.execute_reply": "2021-09-26T00:26:09.725791Z"
    },
    "papermill": {
     "duration": 0.388674,
     "end_time": "2021-09-26T00:26:09.726518",
     "exception": false,
     "start_time": "2021-09-26T00:26:09.337844",
     "status": "completed"
    },
    "tags": []
   },
   "outputs": [
    {
     "data": {
      "text/plain": [
       "<matplotlib.legend.Legend at 0x7f4236fd9978>"
      ]
     },
     "execution_count": 24,
     "metadata": {},
     "output_type": "execute_result"
    },
    {
     "data": {
      "image/png": "[encoded data removed]",
      "text/plain": [
       "<Figure size 1080x720 with 1 Axes>"
      ]
     },
     "metadata": {
      "needs_background": "light"
     },
     "output_type": "display_data"
    }
   ],
   "source": [
    "#comparing the results of NN and LR\n",
    "plt.figure(figsize=(15,10))\n",
    "\n",
    "# Neural Network plots\n",
    "plt.plot(acc_nn.accuracies, 'r-', label = \"Training Accuracies - NN\")\n",
    "plt.plot(acc_nn.test_accuracies, 'g-', label = \"Testing Accuracies - NN\")\n",
    "\n",
    "# Logistic Regression plots\n",
    "plt.plot(acc_lr.accuracies, 'k-', label = \"Training Accuracies - LR\")\n",
    "plt.plot(acc_lr.test_accuracies, 'b-', label = \"Testing Accuracies - LR\")\n",
    "plt.legend()"
   ]
  },
  {
   "cell_type": "markdown",
   "id": "80dfb35c",
   "metadata": {
    "papermill": {
     "duration": 0.056467,
     "end_time": "2021-09-26T00:26:09.841051",
     "exception": false,
     "start_time": "2021-09-26T00:26:09.784584",
     "status": "completed"
    },
    "tags": []
   },
   "source": [
    "#### Plotting the outputs of this layer of the NN.\n"
   ]
  },
  {
   "cell_type": "code",
   "execution_count": 25,
   "id": "45eb2ff5",
   "metadata": {
    "execution": {
     "iopub.execute_input": "2021-09-26T00:26:09.959788Z",
     "iopub.status.busy": "2021-09-26T00:26:09.959076Z",
     "iopub.status.idle": "2021-09-26T00:26:09.987841Z",
     "shell.execute_reply": "2021-09-26T00:26:09.987231Z"
    },
    "papermill": {
     "duration": 0.089921,
     "end_time": "2021-09-26T00:26:09.988058",
     "exception": false,
     "start_time": "2021-09-26T00:26:09.898137",
     "status": "completed"
    },
    "tags": []
   },
   "outputs": [],
   "source": [
    "new_model = Model(layers[:-2])\n",
    "testing_plot = new_model(testing_data_x)"
   ]
  },
  {
   "cell_type": "code",
   "execution_count": 26,
   "id": "4c0a5485",
   "metadata": {
    "execution": {
     "iopub.execute_input": "2021-09-26T00:26:10.119769Z",
     "iopub.status.busy": "2021-09-26T00:26:10.117254Z",
     "iopub.status.idle": "2021-09-26T00:26:10.431424Z",
     "shell.execute_reply": "2021-09-26T00:26:10.430856Z"
    },
    "papermill": {
     "duration": 0.38029,
     "end_time": "2021-09-26T00:26:10.431593",
     "exception": false,
     "start_time": "2021-09-26T00:26:10.051303",
     "status": "completed"
    },
    "tags": []
   },
   "outputs": [
    {
     "data": {
      "text/plain": [
       "Text(0.5, 1.0, 'Outputs')"
      ]
     },
     "execution_count": 26,
     "metadata": {},
     "output_type": "execute_result"
    },
    {
     "data": {
      "image/png": "[encoded data removed]",
      "text/plain": [
       "<Figure size 576x504 with 1 Axes>"
      ]
     },
     "metadata": {
      "needs_background": "light"
     },
     "output_type": "display_data"
    }
   ],
   "source": [
    "# Plotting the scatter plot of points and color coding by class\n",
    "plt.figure(figsize=(8,7))\n",
    "plt.scatter(testing_plot[:,0], testing_plot[:,1], alpha = 0.1, c = y_test.ravel());\n",
    "plt.title('Outputs')"
   ]
  },
  {
   "cell_type": "markdown",
   "id": "a74fcf8f",
   "metadata": {
    "papermill": {
     "duration": 0.05872,
     "end_time": "2021-09-26T00:26:10.550179",
     "exception": false,
     "start_time": "2021-09-26T00:26:10.491459",
     "status": "completed"
    },
    "tags": []
   },
   "source": [
    "Probability contours"
   ]
  },
  {
   "cell_type": "code",
   "execution_count": 27,
   "id": "d0afc8e3",
   "metadata": {
    "execution": {
     "iopub.execute_input": "2021-09-26T00:26:10.712408Z",
     "iopub.status.busy": "2021-09-26T00:26:10.711406Z",
     "iopub.status.idle": "2021-09-26T00:26:10.725308Z",
     "shell.execute_reply": "2021-09-26T00:26:10.725894Z"
    },
    "papermill": {
     "duration": 0.079706,
     "end_time": "2021-09-26T00:26:10.726091",
     "exception": false,
     "start_time": "2021-09-26T00:26:10.646385",
     "status": "completed"
    },
    "tags": []
   },
   "outputs": [],
   "source": [
    "model_prob = Model(layers[-2:]) "
   ]
  },
  {
   "cell_type": "code",
   "execution_count": 28,
   "id": "9b96e238",
   "metadata": {
    "execution": {
     "iopub.execute_input": "2021-09-26T00:26:10.856281Z",
     "iopub.status.busy": "2021-09-26T00:26:10.854399Z",
     "iopub.status.idle": "2021-09-26T00:26:10.872323Z",
     "shell.execute_reply": "2021-09-26T00:26:10.871637Z"
    },
    "papermill": {
     "duration": 0.085423,
     "end_time": "2021-09-26T00:26:10.872494",
     "exception": false,
     "start_time": "2021-09-26T00:26:10.787071",
     "status": "completed"
    },
    "tags": []
   },
   "outputs": [],
   "source": [
    "#creating the x and y ranges according to the above generated plot.\n",
    "x_range = np.linspace(-4, 1, 100) \n",
    "y_range = np.linspace(-6, 6, 100) \n",
    "x_grid, y_grid = np.meshgrid(x_range, y_range) # x_grid and y_grig are of size 100 X 100\n",
    "\n",
    "# converting x_grid and y_grid to continuous arrays\n",
    "x_gridflat = np.ravel(x_grid)\n",
    "y_gridflat = np.ravel(y_grid)\n",
    "\n",
    "# The last layer of the current model takes two columns as input. Hence transpose of np.vstack() is required.\n",
    "X = np.vstack((x_gridflat, y_gridflat)).T\n",
    "\n",
    "prob_contour = model_prob(X).reshape(100,100) "
   ]
  },
  {
   "cell_type": "code",
   "execution_count": 29,
   "id": "da72499a",
   "metadata": {
    "execution": {
     "iopub.execute_input": "2021-09-26T00:26:11.088269Z",
     "iopub.status.busy": "2021-09-26T00:26:11.087505Z",
     "iopub.status.idle": "2021-09-26T00:26:11.432657Z",
     "shell.execute_reply": "2021-09-26T00:26:11.431150Z"
    },
    "papermill": {
     "duration": 0.427031,
     "end_time": "2021-09-26T00:26:11.432820",
     "exception": false,
     "start_time": "2021-09-26T00:26:11.005789",
     "status": "completed"
    },
    "tags": []
   },
   "outputs": [
    {
     "data": {
      "image/png": "[encoded data removed]",
      "text/plain": [
       "<Figure size 720x648 with 1 Axes>"
      ]
     },
     "metadata": {
      "needs_background": "light"
     },
     "output_type": "display_data"
    }
   ],
   "source": [
    "plt.figure(figsize=(10,9))\n",
    "plt.scatter(testing_plot[:,0], testing_plot[:,1], alpha = 0.1, c = y_test.ravel())\n",
    "contours = plt.contour(x_grid,y_grid,prob_contour)\n",
    "plt.title('Probability Contours')\n",
    "plt.clabel(contours, inline = True );"
   ]
  },
  {
   "cell_type": "code",
   "execution_count": null,
   "id": "e81b4ac7",
   "metadata": {
    "papermill": {
     "duration": 0.062976,
     "end_time": "2021-09-26T00:26:11.558255",
     "exception": false,
     "start_time": "2021-09-26T00:26:11.495279",
     "status": "completed"
    },
    "tags": []
   },
   "outputs": [],
   "source": []
  }
 ],
 "metadata": {
  "kernelspec": {
   "display_name": "Python 3",
   "language": "python",
   "name": "python3"
  },
  "language_info": {
   "codemirror_mode": {
    "name": "ipython",
    "version": 3
   },
   "file_extension": ".py",
   "mimetype": "text/x-python",
   "name": "python",
   "nbconvert_exporter": "python",
   "pygments_lexer": "ipython3",
   "version": "3.6.15"
  },
  "papermill": {
   "default_parameters": {},
   "duration": 189.036922,
   "end_time": "2021-09-26T00:26:12.130554",
   "environment_variables": {},
   "exception": null,
   "input_path": "2020-08-11-part2.ipynb",
   "output_path": "2020-08-11-part2.ipynb",
   "parameters": {},
   "start_time": "2021-09-26T00:23:03.093632",
   "version": "2.3.3"
  }
 },
 "nbformat": 4,
 "nbformat_minor": 5
}