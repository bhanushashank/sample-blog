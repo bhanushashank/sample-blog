{
 "cells": [
  {
   "cell_type": "markdown",
   "id": "98380cd3",
   "metadata": {
    "papermill": {
     "duration": 0.034296,
     "end_time": "2022-07-24T10:09:30.531083",
     "exception": false,
     "start_time": "2022-07-24T10:09:30.496787",
     "status": "completed"
    },
    "tags": []
   },
   "source": [
    "# Distinguish Your Own Digits (DYOD)"
   ]
  },
  {
   "cell_type": "markdown",
   "id": "ef31240d",
   "metadata": {
    "papermill": {
     "duration": 0.023928,
     "end_time": "2022-07-24T10:09:30.579802",
     "exception": false,
     "start_time": "2022-07-24T10:09:30.555874",
     "status": "completed"
    },
    "tags": []
   },
   "source": [
    "You are going to write a classifier that distinguishes between the number 3 and number 8."
   ]
  },
  {
   "cell_type": "code",
   "execution_count": 1,
   "id": "b15c8646",
   "metadata": {
    "execution": {
     "iopub.execute_input": "2022-07-24T10:09:30.631096Z",
     "iopub.status.busy": "2022-07-24T10:09:30.630462Z",
     "iopub.status.idle": "2022-07-24T10:09:30.649637Z",
     "shell.execute_reply": "2022-07-24T10:09:30.649116Z"
    },
    "papermill": {
     "duration": 0.04614,
     "end_time": "2022-07-24T10:09:30.649780",
     "exception": false,
     "start_time": "2022-07-24T10:09:30.603640",
     "status": "completed"
    },
    "tags": []
   },
   "outputs": [],
   "source": [
    "%load_ext autoreload\n",
    "%autoreload 2"
   ]
  },
  {
   "cell_type": "code",
   "execution_count": 2,
   "id": "22ef38dc",
   "metadata": {
    "execution": {
     "iopub.execute_input": "2022-07-24T10:09:30.703766Z",
     "iopub.status.busy": "2022-07-24T10:09:30.703127Z",
     "iopub.status.idle": "2022-07-24T10:09:31.263938Z",
     "shell.execute_reply": "2022-07-24T10:09:31.263370Z"
    },
    "papermill": {
     "duration": 0.589803,
     "end_time": "2022-07-24T10:09:31.264073",
     "exception": false,
     "start_time": "2022-07-24T10:09:30.674270",
     "status": "completed"
    },
    "tags": []
   },
   "outputs": [],
   "source": [
    "%matplotlib inline\n",
    "import numpy as np\n",
    "import matplotlib.pyplot as plt\n",
    "import pandas as pd"
   ]
  },
  {
   "cell_type": "markdown",
   "id": "ba036198",
   "metadata": {
    "papermill": {
     "duration": 0.024008,
     "end_time": "2022-07-24T10:09:31.312016",
     "exception": false,
     "start_time": "2022-07-24T10:09:31.288008",
     "status": "completed"
    },
    "tags": []
   },
   "source": [
    "From the command line run `pip install mnist`. This is a library that will help you bring down the mnist dataset. If you run this from a notebook, you need to put  `!pip install mnist` in a cell by itself."
   ]
  },
  {
   "cell_type": "code",
   "execution_count": 3,
   "id": "bb6ad8a1",
   "metadata": {
    "execution": {
     "iopub.execute_input": "2022-07-24T10:09:31.365670Z",
     "iopub.status.busy": "2022-07-24T10:09:31.365050Z",
     "iopub.status.idle": "2022-07-24T10:09:33.002894Z",
     "shell.execute_reply": "2022-07-24T10:09:33.002194Z"
    },
    "papermill": {
     "duration": 1.666562,
     "end_time": "2022-07-24T10:09:33.003047",
     "exception": false,
     "start_time": "2022-07-24T10:09:31.336485",
     "status": "completed"
    },
    "tags": []
   },
   "outputs": [
    {
     "name": "stdout",
     "output_type": "stream",
     "text": [
      "Collecting mnist\r\n"
     ]
    },
    {
     "name": "stdout",
     "output_type": "stream",
     "text": [
      "  Downloading mnist-0.2.2-py2.py3-none-any.whl (3.5 kB)\r\n",
      "Requirement already satisfied: numpy in /opt/hostedtoolcache/Python/3.6.15/x64/lib/python3.6/site-packages (from mnist) (1.19.5)\r\n"
     ]
    },
    {
     "name": "stdout",
     "output_type": "stream",
     "text": [
      "Installing collected packages: mnist\r\n",
      "Successfully installed mnist-0.2.2\r\n"
     ]
    }
   ],
   "source": [
    "!pip install mnist"
   ]
  },
  {
   "cell_type": "markdown",
   "id": "69df9c9a",
   "metadata": {
    "papermill": {
     "duration": 0.025053,
     "end_time": "2022-07-24T10:09:33.053854",
     "exception": false,
     "start_time": "2022-07-24T10:09:33.028801",
     "status": "completed"
    },
    "tags": []
   },
   "source": [
    "## Preparing the Data"
   ]
  },
  {
   "cell_type": "code",
   "execution_count": 4,
   "id": "7f69d806",
   "metadata": {
    "execution": {
     "iopub.execute_input": "2022-07-24T10:09:33.115341Z",
     "iopub.status.busy": "2022-07-24T10:09:33.108831Z",
     "iopub.status.idle": "2022-07-24T10:09:33.125100Z",
     "shell.execute_reply": "2022-07-24T10:09:33.125692Z"
    },
    "papermill": {
     "duration": 0.046985,
     "end_time": "2022-07-24T10:09:33.125850",
     "exception": false,
     "start_time": "2022-07-24T10:09:33.078865",
     "status": "completed"
    },
    "tags": []
   },
   "outputs": [],
   "source": [
    "import mnist"
   ]
  },
  {
   "cell_type": "code",
   "execution_count": 5,
   "id": "a411e44f",
   "metadata": {
    "execution": {
     "iopub.execute_input": "2022-07-24T10:09:33.182021Z",
     "iopub.status.busy": "2022-07-24T10:09:33.181335Z",
     "iopub.status.idle": "2022-07-24T10:09:33.698561Z",
     "shell.execute_reply": "2022-07-24T10:09:33.699140Z"
    },
    "papermill": {
     "duration": 0.548071,
     "end_time": "2022-07-24T10:09:33.699345",
     "exception": false,
     "start_time": "2022-07-24T10:09:33.151274",
     "status": "completed"
    },
    "tags": []
   },
   "outputs": [],
   "source": [
    "train_images = mnist.train_images()\n",
    "train_labels = mnist.train_labels()"
   ]
  },
  {
   "cell_type": "code",
   "execution_count": 6,
   "id": "dceab3a5",
   "metadata": {
    "execution": {
     "iopub.execute_input": "2022-07-24T10:09:33.759619Z",
     "iopub.status.busy": "2022-07-24T10:09:33.758910Z",
     "iopub.status.idle": "2022-07-24T10:09:33.776536Z",
     "shell.execute_reply": "2022-07-24T10:09:33.776968Z"
    },
    "papermill": {
     "duration": 0.047898,
     "end_time": "2022-07-24T10:09:33.777125",
     "exception": false,
     "start_time": "2022-07-24T10:09:33.729227",
     "status": "completed"
    },
    "tags": []
   },
   "outputs": [
    {
     "data": {
      "text/plain": [
       "((60000, 28, 28), (60000,))"
      ]
     },
     "execution_count": 6,
     "metadata": {},
     "output_type": "execute_result"
    }
   ],
   "source": [
    "train_images.shape, train_labels.shape"
   ]
  },
  {
   "cell_type": "code",
   "execution_count": 7,
   "id": "f50dc2bb",
   "metadata": {
    "execution": {
     "iopub.execute_input": "2022-07-24T10:09:33.833362Z",
     "iopub.status.busy": "2022-07-24T10:09:33.832736Z",
     "iopub.status.idle": "2022-07-24T10:09:33.939484Z",
     "shell.execute_reply": "2022-07-24T10:09:33.939977Z"
    },
    "papermill": {
     "duration": 0.137704,
     "end_time": "2022-07-24T10:09:33.940145",
     "exception": false,
     "start_time": "2022-07-24T10:09:33.802441",
     "status": "completed"
    },
    "tags": []
   },
   "outputs": [],
   "source": [
    "test_images = mnist.test_images()\n",
    "test_labels = mnist.test_labels()"
   ]
  },
  {
   "cell_type": "code",
   "execution_count": 8,
   "id": "fc38cf1b",
   "metadata": {
    "execution": {
     "iopub.execute_input": "2022-07-24T10:09:33.996233Z",
     "iopub.status.busy": "2022-07-24T10:09:33.995505Z",
     "iopub.status.idle": "2022-07-24T10:09:34.010179Z",
     "shell.execute_reply": "2022-07-24T10:09:34.010795Z"
    },
    "papermill": {
     "duration": 0.04527,
     "end_time": "2022-07-24T10:09:34.010943",
     "exception": false,
     "start_time": "2022-07-24T10:09:33.965673",
     "status": "completed"
    },
    "tags": []
   },
   "outputs": [
    {
     "data": {
      "text/plain": [
       "((10000, 28, 28), (10000,))"
      ]
     },
     "execution_count": 8,
     "metadata": {},
     "output_type": "execute_result"
    }
   ],
   "source": [
    "test_images.shape, test_labels.shape"
   ]
  },
  {
   "cell_type": "code",
   "execution_count": 9,
   "id": "f9ed8fe0",
   "metadata": {
    "execution": {
     "iopub.execute_input": "2022-07-24T10:09:34.067488Z",
     "iopub.status.busy": "2022-07-24T10:09:34.066796Z",
     "iopub.status.idle": "2022-07-24T10:09:34.210536Z",
     "shell.execute_reply": "2022-07-24T10:09:34.211012Z"
    },
    "papermill": {
     "duration": 0.174842,
     "end_time": "2022-07-24T10:09:34.211164",
     "exception": false,
     "start_time": "2022-07-24T10:09:34.036322",
     "status": "completed"
    },
    "tags": []
   },
   "outputs": [
    {
     "name": "stdout",
     "output_type": "stream",
     "text": [
      "2\n"
     ]
    },
    {
     "data": {
      "text/plain": [
       "<matplotlib.image.AxesImage at 0x7f29c8020550>"
      ]
     },
     "execution_count": 9,
     "metadata": {},
     "output_type": "execute_result"
    },
    {
     "data": {
      "image/png": "[encoded data removed]",
      "text/plain": [
       "<Figure size 432x288 with 1 Axes>"
      ]
     },
     "metadata": {
      "needs_background": "light"
     },
     "output_type": "display_data"
    }
   ],
   "source": [
    "image_index = 7776 # You may select anything up to 60,000\n",
    "print(train_labels[image_index]) \n",
    "plt.imshow(train_images[image_index], cmap='Greys')"
   ]
  },
  {
   "cell_type": "markdown",
   "id": "a8d2388d",
   "metadata": {
    "papermill": {
     "duration": 0.026427,
     "end_time": "2022-07-24T10:09:34.264161",
     "exception": false,
     "start_time": "2022-07-24T10:09:34.237734",
     "status": "completed"
    },
    "tags": []
   },
   "source": [
    "## Filter data to get 3 and 8 out"
   ]
  },
  {
   "cell_type": "code",
   "execution_count": 10,
   "id": "776f7fc7",
   "metadata": {
    "execution": {
     "iopub.execute_input": "2022-07-24T10:09:34.320452Z",
     "iopub.status.busy": "2022-07-24T10:09:34.319807Z",
     "iopub.status.idle": "2022-07-24T10:09:34.342998Z",
     "shell.execute_reply": "2022-07-24T10:09:34.343508Z"
    },
    "papermill": {
     "duration": 0.053032,
     "end_time": "2022-07-24T10:09:34.343666",
     "exception": false,
     "start_time": "2022-07-24T10:09:34.290634",
     "status": "completed"
    },
    "tags": []
   },
   "outputs": [],
   "source": [
    "train_filter = np.where((train_labels == 3 ) | (train_labels == 8))\n",
    "test_filter = np.where((test_labels == 3) | (test_labels == 8))\n",
    "X_train, y_train = train_images[train_filter], train_labels[train_filter]\n",
    "X_test, y_test = test_images[test_filter], test_labels[test_filter]"
   ]
  },
  {
   "cell_type": "markdown",
   "id": "948f0b7e",
   "metadata": {
    "papermill": {
     "duration": 0.026301,
     "end_time": "2022-07-24T10:09:34.396899",
     "exception": false,
     "start_time": "2022-07-24T10:09:34.370598",
     "status": "completed"
    },
    "tags": []
   },
   "source": [
    "We normalize the pizel values in the 0 to 1 range"
   ]
  },
  {
   "cell_type": "code",
   "execution_count": 11,
   "id": "ee4c2166",
   "metadata": {
    "execution": {
     "iopub.execute_input": "2022-07-24T10:09:34.458665Z",
     "iopub.status.busy": "2022-07-24T10:09:34.458009Z",
     "iopub.status.idle": "2022-07-24T10:09:34.517896Z",
     "shell.execute_reply": "2022-07-24T10:09:34.518424Z"
    },
    "papermill": {
     "duration": 0.091212,
     "end_time": "2022-07-24T10:09:34.518595",
     "exception": false,
     "start_time": "2022-07-24T10:09:34.427383",
     "status": "completed"
    },
    "tags": []
   },
   "outputs": [],
   "source": [
    "X_train = X_train/255.\n",
    "X_test = X_test/255."
   ]
  },
  {
   "cell_type": "markdown",
   "id": "ddcf4fab",
   "metadata": {
    "papermill": {
     "duration": 0.026597,
     "end_time": "2022-07-24T10:09:34.576273",
     "exception": false,
     "start_time": "2022-07-24T10:09:34.549676",
     "status": "completed"
    },
    "tags": []
   },
   "source": [
    "And setup the labels as 1 (when the digit is 3) and 0 (when the digit is 8)"
   ]
  },
  {
   "cell_type": "code",
   "execution_count": 12,
   "id": "7dc908f2",
   "metadata": {
    "execution": {
     "iopub.execute_input": "2022-07-24T10:09:34.632659Z",
     "iopub.status.busy": "2022-07-24T10:09:34.632024Z",
     "iopub.status.idle": "2022-07-24T10:09:34.647439Z",
     "shell.execute_reply": "2022-07-24T10:09:34.646930Z"
    },
    "papermill": {
     "duration": 0.044742,
     "end_time": "2022-07-24T10:09:34.647568",
     "exception": false,
     "start_time": "2022-07-24T10:09:34.602826",
     "status": "completed"
    },
    "tags": []
   },
   "outputs": [],
   "source": [
    "y_train = 1*(y_train==3)\n",
    "y_test = 1*(y_test==3)"
   ]
  },
  {
   "cell_type": "code",
   "execution_count": 13,
   "id": "01e4e969",
   "metadata": {
    "execution": {
     "iopub.execute_input": "2022-07-24T10:09:34.706477Z",
     "iopub.status.busy": "2022-07-24T10:09:34.705798Z",
     "iopub.status.idle": "2022-07-24T10:09:34.720589Z",
     "shell.execute_reply": "2022-07-24T10:09:34.721160Z"
    },
    "papermill": {
     "duration": 0.047226,
     "end_time": "2022-07-24T10:09:34.721307",
     "exception": false,
     "start_time": "2022-07-24T10:09:34.674081",
     "status": "completed"
    },
    "tags": []
   },
   "outputs": [
    {
     "data": {
      "text/plain": [
       "((11982, 28, 28), (1984, 28, 28))"
      ]
     },
     "execution_count": 13,
     "metadata": {},
     "output_type": "execute_result"
    }
   ],
   "source": [
    "X_train.shape, X_test.shape"
   ]
  },
  {
   "cell_type": "markdown",
   "id": "5ccf3f85",
   "metadata": {
    "papermill": {
     "duration": 0.026839,
     "end_time": "2022-07-24T10:09:34.775089",
     "exception": false,
     "start_time": "2022-07-24T10:09:34.748250",
     "status": "completed"
    },
    "tags": []
   },
   "source": [
    "We reshape the data to flatten the image pixels into a set of features or co-variates:"
   ]
  },
  {
   "cell_type": "code",
   "execution_count": 14,
   "id": "5286a4a3",
   "metadata": {
    "execution": {
     "iopub.execute_input": "2022-07-24T10:09:34.832087Z",
     "iopub.status.busy": "2022-07-24T10:09:34.831462Z",
     "iopub.status.idle": "2022-07-24T10:09:34.849092Z",
     "shell.execute_reply": "2022-07-24T10:09:34.848598Z"
    },
    "papermill": {
     "duration": 0.047102,
     "end_time": "2022-07-24T10:09:34.849219",
     "exception": false,
     "start_time": "2022-07-24T10:09:34.802117",
     "status": "completed"
    },
    "tags": []
   },
   "outputs": [
    {
     "data": {
      "text/plain": [
       "((11982, 784), (1984, 784))"
      ]
     },
     "execution_count": 14,
     "metadata": {},
     "output_type": "execute_result"
    }
   ],
   "source": [
    "X_train = X_train.reshape(X_train.shape[0], -1)\n",
    "X_test = X_test.reshape(X_test.shape[0], -1)\n",
    "X_train.shape, X_test.shape"
   ]
  },
  {
   "cell_type": "code",
   "execution_count": 15,
   "id": "73c5f88a",
   "metadata": {
    "execution": {
     "iopub.execute_input": "2022-07-24T10:09:34.909649Z",
     "iopub.status.busy": "2022-07-24T10:09:34.909012Z",
     "iopub.status.idle": "2022-07-24T10:09:34.932710Z",
     "shell.execute_reply": "2022-07-24T10:09:34.933233Z"
    },
    "papermill": {
     "duration": 0.056804,
     "end_time": "2022-07-24T10:09:34.933391",
     "exception": false,
     "start_time": "2022-07-24T10:09:34.876587",
     "status": "completed"
    },
    "tags": []
   },
   "outputs": [],
   "source": [
    "#Impoting functions from 'Kudzu'\n",
    "from kudzu.model import Model\n",
    "from kudzu.train import Learner\n",
    "from kudzu.optim import GD\n",
    "from kudzu.data import Data, Sampler,Dataloader\n",
    "\n",
    "from kudzu.callbacks import AccCallback\n",
    "from kudzu.callbacks import ClfCallback\n",
    "\n",
    "from kudzu.loss import MSE\n",
    "\n",
    "from kudzu.layer import Sigmoid,Relu\n",
    "from kudzu.layer import Affine"
   ]
  },
  {
   "cell_type": "markdown",
   "id": "bc01172a",
   "metadata": {
    "papermill": {
     "duration": 0.02707,
     "end_time": "2022-07-24T10:09:34.987911",
     "exception": false,
     "start_time": "2022-07-24T10:09:34.960841",
     "status": "completed"
    },
    "tags": []
   },
   "source": [
    "### Let us create a `Config` class, to store important parameters. \n",
    "This class essentially plays the role of a dictionary."
   ]
  },
  {
   "cell_type": "code",
   "execution_count": 16,
   "id": "978281aa",
   "metadata": {
    "execution": {
     "iopub.execute_input": "2022-07-24T10:09:35.047702Z",
     "iopub.status.busy": "2022-07-24T10:09:35.047039Z",
     "iopub.status.idle": "2022-07-24T10:09:35.061005Z",
     "shell.execute_reply": "2022-07-24T10:09:35.061520Z"
    },
    "papermill": {
     "duration": 0.046553,
     "end_time": "2022-07-24T10:09:35.061678",
     "exception": false,
     "start_time": "2022-07-24T10:09:35.015125",
     "status": "completed"
    },
    "tags": []
   },
   "outputs": [],
   "source": [
    "class Config:\n",
    "    pass\n",
    "config = Config()\n",
    "config.lr = 0.001\n",
    "config.num_epochs = 250\n",
    "config.bs = 50"
   ]
  },
  {
   "cell_type": "markdown",
   "id": "1385fa59",
   "metadata": {
    "papermill": {
     "duration": 0.031597,
     "end_time": "2022-07-24T10:09:35.120891",
     "exception": false,
     "start_time": "2022-07-24T10:09:35.089294",
     "status": "completed"
    },
    "tags": []
   },
   "source": [
    "### Running Models with the Training data\n",
    "Details about the network layers:\n",
    "- A first affine layer has 784 inputs and does 100 affine transforms. These are followed by a Relu\n",
    "- A second affine layer has 100 inputs from the 100 activations of the past layer, and does 100 affine transforms. These are followed by a Relu\n",
    "- A third affine layer has 100 activations and does 2 affine transformations to create an embedding for visualization. There is no non-linearity here.\n",
    "- A final \"logistic regression\" which has an affine transform from 2 inputs to 1 output, which is squeezed through a sigmoid.\n"
   ]
  },
  {
   "cell_type": "code",
   "execution_count": 17,
   "id": "2b9c66db",
   "metadata": {
    "execution": {
     "iopub.execute_input": "2022-07-24T10:09:35.181188Z",
     "iopub.status.busy": "2022-07-24T10:09:35.180497Z",
     "iopub.status.idle": "2022-07-24T10:09:35.195464Z",
     "shell.execute_reply": "2022-07-24T10:09:35.194941Z"
    },
    "papermill": {
     "duration": 0.047209,
     "end_time": "2022-07-24T10:09:35.195599",
     "exception": false,
     "start_time": "2022-07-24T10:09:35.148390",
     "status": "completed"
    },
    "tags": []
   },
   "outputs": [],
   "source": [
    "data = Data(X_train, y_train.reshape(-1,1))\n",
    "sampler = Sampler(data, config.bs, shuffle=True)\n",
    "\n",
    "dl = Dataloader(data, sampler)\n",
    "\n",
    "opt = GD(config.lr)\n",
    "loss = MSE()"
   ]
  },
  {
   "cell_type": "code",
   "execution_count": 18,
   "id": "b275e4c2",
   "metadata": {
    "execution": {
     "iopub.execute_input": "2022-07-24T10:09:35.261882Z",
     "iopub.status.busy": "2022-07-24T10:09:35.261232Z",
     "iopub.status.idle": "2022-07-24T10:09:35.275101Z",
     "shell.execute_reply": "2022-07-24T10:09:35.275584Z"
    },
    "papermill": {
     "duration": 0.04691,
     "end_time": "2022-07-24T10:09:35.275741",
     "exception": false,
     "start_time": "2022-07-24T10:09:35.228831",
     "status": "completed"
    },
    "tags": []
   },
   "outputs": [],
   "source": [
    "training_data_x = X_train\n",
    "testing_data_x = X_test\n",
    "training_data_y = y_train.reshape(-1,1)\n",
    "testing_data_y = y_test.reshape(-1,1)"
   ]
  },
  {
   "cell_type": "code",
   "execution_count": 19,
   "id": "76951160",
   "metadata": {
    "execution": {
     "iopub.execute_input": "2022-07-24T10:09:35.336532Z",
     "iopub.status.busy": "2022-07-24T10:09:35.335907Z",
     "iopub.status.idle": "2022-07-24T10:09:35.353508Z",
     "shell.execute_reply": "2022-07-24T10:09:35.354085Z"
    },
    "papermill": {
     "duration": 0.051243,
     "end_time": "2022-07-24T10:09:35.354257",
     "exception": false,
     "start_time": "2022-07-24T10:09:35.303014",
     "status": "completed"
    },
    "tags": []
   },
   "outputs": [
    {
     "name": "stdout",
     "output_type": "stream",
     "text": [
      "xavier\n",
      "xavier\n",
      "xavier\n",
      "xavier\n",
      "xavier\n"
     ]
    }
   ],
   "source": [
    "layers = [Affine(\"first\", 784, 100), Relu(\"first\"), Affine(\"second\", 100, 100), Relu(\"second\"), Affine(\"third\", 100, 2), Affine(\"last\", 2, 1), Sigmoid(\"last\")]\n",
    "model_nn = Model(layers)\n",
    "model_lr = Model([Affine(\"logits\", 784, 1), Sigmoid(\"sigmoid\")])"
   ]
  },
  {
   "cell_type": "code",
   "execution_count": 20,
   "id": "6eede77a",
   "metadata": {
    "execution": {
     "iopub.execute_input": "2022-07-24T10:09:35.419789Z",
     "iopub.status.busy": "2022-07-24T10:09:35.419160Z",
     "iopub.status.idle": "2022-07-24T10:09:35.427833Z",
     "shell.execute_reply": "2022-07-24T10:09:35.428397Z"
    },
    "papermill": {
     "duration": 0.046088,
     "end_time": "2022-07-24T10:09:35.428539",
     "exception": false,
     "start_time": "2022-07-24T10:09:35.382451",
     "status": "completed"
    },
    "tags": []
   },
   "outputs": [],
   "source": [
    "nn_learner = Learner(loss, model_nn, opt, config.num_epochs)\n",
    "acc_nn = ClfCallback(nn_learner, config.bs, training_data_x , testing_data_x, training_data_y, testing_data_y)\n",
    "nn_learner.set_callbacks([acc_nn])"
   ]
  },
  {
   "cell_type": "code",
   "execution_count": 21,
   "id": "877b6cc7",
   "metadata": {
    "execution": {
     "iopub.execute_input": "2022-07-24T10:09:35.487051Z",
     "iopub.status.busy": "2022-07-24T10:09:35.486433Z",
     "iopub.status.idle": "2022-07-24T10:09:35.500265Z",
     "shell.execute_reply": "2022-07-24T10:09:35.500841Z"
    },
    "papermill": {
     "duration": 0.045135,
     "end_time": "2022-07-24T10:09:35.500978",
     "exception": false,
     "start_time": "2022-07-24T10:09:35.455843",
     "status": "completed"
    },
    "tags": []
   },
   "outputs": [],
   "source": [
    "lr_learner = Learner(loss, model_lr, opt, config.num_epochs)\n",
    "acc_lr = ClfCallback(lr_learner, config.bs, training_data_x , testing_data_x, training_data_y, testing_data_y)\n",
    "lr_learner.set_callbacks([acc_lr])"
   ]
  },
  {
   "cell_type": "code",
   "execution_count": 22,
   "id": "d9b133c3",
   "metadata": {
    "execution": {
     "iopub.execute_input": "2022-07-24T10:09:35.559551Z",
     "iopub.status.busy": "2022-07-24T10:09:35.558950Z",
     "iopub.status.idle": "2022-07-24T10:10:56.488544Z",
     "shell.execute_reply": "2022-07-24T10:10:56.489341Z"
    },
    "papermill": {
     "duration": 80.961168,
     "end_time": "2022-07-24T10:10:56.489511",
     "exception": false,
     "start_time": "2022-07-24T10:09:35.528343",
     "status": "completed"
    },
    "tags": []
   },
   "outputs": [
    {
     "name": "stdout",
     "output_type": "stream",
     "text": [
      "Epoch 0, Loss 0.2553\n",
      "Training Accuracy: 0.5626, Testing Accuracy: 0.5862\n",
      "\n"
     ]
    },
    {
     "name": "stdout",
     "output_type": "stream",
     "text": [
      "Epoch 10, Loss 0.1206\n",
      "Training Accuracy: 0.9062, Testing Accuracy: 0.9163\n",
      "\n"
     ]
    },
    {
     "name": "stdout",
     "output_type": "stream",
     "text": [
      "Epoch 20, Loss 0.0637\n",
      "Training Accuracy: 0.9368, Testing Accuracy: 0.9476\n",
      "\n"
     ]
    },
    {
     "name": "stdout",
     "output_type": "stream",
     "text": [
      "Epoch 30, Loss 0.0475\n",
      "Training Accuracy: 0.9484, Testing Accuracy: 0.9551\n",
      "\n"
     ]
    },
    {
     "name": "stdout",
     "output_type": "stream",
     "text": [
      "Epoch 40, Loss 0.0402\n",
      "Training Accuracy: 0.9548, Testing Accuracy: 0.9632\n",
      "\n"
     ]
    },
    {
     "name": "stdout",
     "output_type": "stream",
     "text": [
      "Epoch 50, Loss 0.0359\n",
      "Training Accuracy: 0.9587, Testing Accuracy: 0.9667\n",
      "\n"
     ]
    },
    {
     "name": "stdout",
     "output_type": "stream",
     "text": [
      "Epoch 60, Loss 0.0331\n",
      "Training Accuracy: 0.9615, Testing Accuracy: 0.9688\n",
      "\n"
     ]
    },
    {
     "name": "stdout",
     "output_type": "stream",
     "text": [
      "Epoch 70, Loss 0.0311\n",
      "Training Accuracy: 0.9629, Testing Accuracy: 0.9688\n",
      "\n"
     ]
    },
    {
     "name": "stdout",
     "output_type": "stream",
     "text": [
      "Epoch 80, Loss 0.0296\n",
      "Training Accuracy: 0.9654, Testing Accuracy: 0.9682\n",
      "\n"
     ]
    },
    {
     "name": "stdout",
     "output_type": "stream",
     "text": [
      "Epoch 90, Loss 0.0283\n",
      "Training Accuracy: 0.9676, Testing Accuracy: 0.9698\n",
      "\n"
     ]
    },
    {
     "name": "stdout",
     "output_type": "stream",
     "text": [
      "Epoch 100, Loss 0.0273\n",
      "Training Accuracy: 0.9685, Testing Accuracy: 0.9708\n",
      "\n"
     ]
    },
    {
     "name": "stdout",
     "output_type": "stream",
     "text": [
      "Epoch 110, Loss 0.0263\n",
      "Training Accuracy: 0.9698, Testing Accuracy: 0.9723\n",
      "\n"
     ]
    },
    {
     "name": "stdout",
     "output_type": "stream",
     "text": [
      "Epoch 120, Loss 0.0256\n",
      "Training Accuracy: 0.9705, Testing Accuracy: 0.9723\n",
      "\n"
     ]
    },
    {
     "name": "stdout",
     "output_type": "stream",
     "text": [
      "Epoch 130, Loss 0.0249\n",
      "Training Accuracy: 0.9720, Testing Accuracy: 0.9723\n",
      "\n"
     ]
    },
    {
     "name": "stdout",
     "output_type": "stream",
     "text": [
      "Epoch 140, Loss 0.0242\n",
      "Training Accuracy: 0.9724, Testing Accuracy: 0.9713\n",
      "\n"
     ]
    },
    {
     "name": "stdout",
     "output_type": "stream",
     "text": [
      "Epoch 150, Loss 0.0237\n",
      "Training Accuracy: 0.9726, Testing Accuracy: 0.9723\n",
      "\n"
     ]
    },
    {
     "name": "stdout",
     "output_type": "stream",
     "text": [
      "Epoch 160, Loss 0.0231\n",
      "Training Accuracy: 0.9733, Testing Accuracy: 0.9718\n",
      "\n"
     ]
    },
    {
     "name": "stdout",
     "output_type": "stream",
     "text": [
      "Epoch 170, Loss 0.0226\n",
      "Training Accuracy: 0.9735, Testing Accuracy: 0.9723\n",
      "\n"
     ]
    },
    {
     "name": "stdout",
     "output_type": "stream",
     "text": [
      "Epoch 180, Loss 0.0222\n",
      "Training Accuracy: 0.9737, Testing Accuracy: 0.9718\n",
      "\n"
     ]
    },
    {
     "name": "stdout",
     "output_type": "stream",
     "text": [
      "Epoch 190, Loss 0.0218\n",
      "Training Accuracy: 0.9741, Testing Accuracy: 0.9723\n",
      "\n"
     ]
    },
    {
     "name": "stdout",
     "output_type": "stream",
     "text": [
      "Epoch 200, Loss 0.0213\n",
      "Training Accuracy: 0.9747, Testing Accuracy: 0.9728\n",
      "\n"
     ]
    },
    {
     "name": "stdout",
     "output_type": "stream",
     "text": [
      "Epoch 210, Loss 0.0209\n",
      "Training Accuracy: 0.9758, Testing Accuracy: 0.9728\n",
      "\n"
     ]
    },
    {
     "name": "stdout",
     "output_type": "stream",
     "text": [
      "Epoch 220, Loss 0.0206\n",
      "Training Accuracy: 0.9762, Testing Accuracy: 0.9738\n",
      "\n"
     ]
    },
    {
     "name": "stdout",
     "output_type": "stream",
     "text": [
      "Epoch 230, Loss 0.0202\n",
      "Training Accuracy: 0.9767, Testing Accuracy: 0.9738\n",
      "\n"
     ]
    },
    {
     "name": "stdout",
     "output_type": "stream",
     "text": [
      "Epoch 240, Loss 0.0199\n",
      "Training Accuracy: 0.9770, Testing Accuracy: 0.9738\n",
      "\n"
     ]
    },
    {
     "data": {
      "text/plain": [
       "0.007103492546266939"
      ]
     },
     "execution_count": 22,
     "metadata": {},
     "output_type": "execute_result"
    }
   ],
   "source": [
    "nn_learner.train_loop(dl)"
   ]
  },
  {
   "cell_type": "code",
   "execution_count": 23,
   "id": "e0163366",
   "metadata": {
    "execution": {
     "iopub.execute_input": "2022-07-24T10:10:56.568289Z",
     "iopub.status.busy": "2022-07-24T10:10:56.567670Z",
     "iopub.status.idle": "2022-07-24T10:11:11.085204Z",
     "shell.execute_reply": "2022-07-24T10:11:11.086096Z"
    },
    "papermill": {
     "duration": 14.562266,
     "end_time": "2022-07-24T10:11:11.086289",
     "exception": false,
     "start_time": "2022-07-24T10:10:56.524023",
     "status": "completed"
    },
    "tags": []
   },
   "outputs": [
    {
     "name": "stdout",
     "output_type": "stream",
     "text": [
      "Epoch 0, Loss 0.2306\n",
      "Training Accuracy: 0.7314, Testing Accuracy: 0.7394\n",
      "\n"
     ]
    },
    {
     "name": "stdout",
     "output_type": "stream",
     "text": [
      "Epoch 10, Loss 0.098\n",
      "Training Accuracy: 0.9242, Testing Accuracy: 0.9325\n",
      "\n"
     ]
    },
    {
     "name": "stdout",
     "output_type": "stream",
     "text": [
      "Epoch 20, Loss 0.0758\n",
      "Training Accuracy: 0.9364, Testing Accuracy: 0.9441\n",
      "\n"
     ]
    },
    {
     "name": "stdout",
     "output_type": "stream",
     "text": [
      "Epoch 30, Loss 0.0657\n",
      "Training Accuracy: 0.9413, Testing Accuracy: 0.9491\n",
      "\n"
     ]
    },
    {
     "name": "stdout",
     "output_type": "stream",
     "text": [
      "Epoch 40, Loss 0.0597\n",
      "Training Accuracy: 0.9447, Testing Accuracy: 0.9526\n",
      "\n"
     ]
    },
    {
     "name": "stdout",
     "output_type": "stream",
     "text": [
      "Epoch 50, Loss 0.0555\n",
      "Training Accuracy: 0.9469, Testing Accuracy: 0.9556\n",
      "\n"
     ]
    },
    {
     "name": "stdout",
     "output_type": "stream",
     "text": [
      "Epoch 60, Loss 0.0525\n",
      "Training Accuracy: 0.9488, Testing Accuracy: 0.9577\n",
      "\n"
     ]
    },
    {
     "name": "stdout",
     "output_type": "stream",
     "text": [
      "Epoch 70, Loss 0.0501\n",
      "Training Accuracy: 0.9502, Testing Accuracy: 0.9602\n",
      "\n"
     ]
    },
    {
     "name": "stdout",
     "output_type": "stream",
     "text": [
      "Epoch 80, Loss 0.0483\n",
      "Training Accuracy: 0.9511, Testing Accuracy: 0.9622\n",
      "\n"
     ]
    },
    {
     "name": "stdout",
     "output_type": "stream",
     "text": [
      "Epoch 90, Loss 0.0467\n",
      "Training Accuracy: 0.9521, Testing Accuracy: 0.9632\n",
      "\n"
     ]
    },
    {
     "name": "stdout",
     "output_type": "stream",
     "text": [
      "Epoch 100, Loss 0.0454\n",
      "Training Accuracy: 0.9536, Testing Accuracy: 0.9627\n",
      "\n"
     ]
    },
    {
     "name": "stdout",
     "output_type": "stream",
     "text": [
      "Epoch 110, Loss 0.0442\n",
      "Training Accuracy: 0.9538, Testing Accuracy: 0.9632\n",
      "\n"
     ]
    },
    {
     "name": "stdout",
     "output_type": "stream",
     "text": [
      "Epoch 120, Loss 0.0432\n",
      "Training Accuracy: 0.9548, Testing Accuracy: 0.9642\n",
      "\n"
     ]
    },
    {
     "name": "stdout",
     "output_type": "stream",
     "text": [
      "Epoch 130, Loss 0.0424\n",
      "Training Accuracy: 0.9554, Testing Accuracy: 0.9642\n",
      "\n"
     ]
    },
    {
     "name": "stdout",
     "output_type": "stream",
     "text": [
      "Epoch 140, Loss 0.0416\n",
      "Training Accuracy: 0.9559, Testing Accuracy: 0.9642\n",
      "\n"
     ]
    },
    {
     "name": "stdout",
     "output_type": "stream",
     "text": [
      "Epoch 150, Loss 0.0409\n",
      "Training Accuracy: 0.9566, Testing Accuracy: 0.9642\n",
      "\n"
     ]
    },
    {
     "name": "stdout",
     "output_type": "stream",
     "text": [
      "Epoch 160, Loss 0.0402\n",
      "Training Accuracy: 0.9569, Testing Accuracy: 0.9642\n",
      "\n"
     ]
    },
    {
     "name": "stdout",
     "output_type": "stream",
     "text": [
      "Epoch 170, Loss 0.0397\n",
      "Training Accuracy: 0.9575, Testing Accuracy: 0.9642\n",
      "\n"
     ]
    },
    {
     "name": "stdout",
     "output_type": "stream",
     "text": [
      "Epoch 180, Loss 0.0391\n",
      "Training Accuracy: 0.9584, Testing Accuracy: 0.9647\n",
      "\n"
     ]
    },
    {
     "name": "stdout",
     "output_type": "stream",
     "text": [
      "Epoch 190, Loss 0.0386\n",
      "Training Accuracy: 0.9592, Testing Accuracy: 0.9647\n",
      "\n"
     ]
    },
    {
     "name": "stdout",
     "output_type": "stream",
     "text": [
      "Epoch 200, Loss 0.0382\n",
      "Training Accuracy: 0.9595, Testing Accuracy: 0.9647\n",
      "\n"
     ]
    },
    {
     "name": "stdout",
     "output_type": "stream",
     "text": [
      "Epoch 210, Loss 0.0378\n",
      "Training Accuracy: 0.9599, Testing Accuracy: 0.9642\n",
      "\n"
     ]
    },
    {
     "name": "stdout",
     "output_type": "stream",
     "text": [
      "Epoch 220, Loss 0.0374\n",
      "Training Accuracy: 0.9603, Testing Accuracy: 0.9647\n",
      "\n"
     ]
    },
    {
     "name": "stdout",
     "output_type": "stream",
     "text": [
      "Epoch 230, Loss 0.037\n",
      "Training Accuracy: 0.9605, Testing Accuracy: 0.9647\n",
      "\n"
     ]
    },
    {
     "name": "stdout",
     "output_type": "stream",
     "text": [
      "Epoch 240, Loss 0.0366\n",
      "Training Accuracy: 0.9609, Testing Accuracy: 0.9647\n",
      "\n"
     ]
    },
    {
     "data": {
      "text/plain": [
       "0.01885395880371559"
      ]
     },
     "execution_count": 23,
     "metadata": {},
     "output_type": "execute_result"
    }
   ],
   "source": [
    "lr_learner.train_loop(dl)"
   ]
  },
  {
   "cell_type": "code",
   "execution_count": 24,
   "id": "ca410940",
   "metadata": {
    "execution": {
     "iopub.execute_input": "2022-07-24T10:11:11.191879Z",
     "iopub.status.busy": "2022-07-24T10:11:11.191228Z",
     "iopub.status.idle": "2022-07-24T10:11:11.427360Z",
     "shell.execute_reply": "2022-07-24T10:11:11.426851Z"
    },
    "papermill": {
     "duration": 0.290757,
     "end_time": "2022-07-24T10:11:11.427489",
     "exception": false,
     "start_time": "2022-07-24T10:11:11.136732",
     "status": "completed"
    },
    "tags": []
   },
   "outputs": [
    {
     "data": {
      "text/plain": [
       "<matplotlib.legend.Legend at 0x7f29c7b81ba8>"
      ]
     },
     "execution_count": 24,
     "metadata": {},
     "output_type": "execute_result"
    },
    {
     "data": {
      "image/png": "[encoded data removed]",
      "text/plain": [
       "<Figure size 1080x720 with 1 Axes>"
      ]
     },
     "metadata": {
      "needs_background": "light"
     },
     "output_type": "display_data"
    }
   ],
   "source": [
    "#comparing the results of NN and LR\n",
    "plt.figure(figsize=(15,10))\n",
    "\n",
    "# Neural Network plots\n",
    "plt.plot(acc_nn.accuracies, 'r-', label = \"Training Accuracies - NN\")\n",
    "plt.plot(acc_nn.test_accuracies, 'g-', label = \"Testing Accuracies - NN\")\n",
    "\n",
    "# Logistic Regression plots\n",
    "plt.plot(acc_lr.accuracies, 'k-', label = \"Training Accuracies - LR\")\n",
    "plt.plot(acc_lr.test_accuracies, 'b-', label = \"Testing Accuracies - LR\")\n",
    "plt.legend()"
   ]
  },
  {
   "cell_type": "markdown",
   "id": "80dfb35c",
   "metadata": {
    "papermill": {
     "duration": 0.041741,
     "end_time": "2022-07-24T10:11:11.511721",
     "exception": false,
     "start_time": "2022-07-24T10:11:11.469980",
     "status": "completed"
    },
    "tags": []
   },
   "source": [
    "#### Plotting the outputs of this layer of the NN.\n"
   ]
  },
  {
   "cell_type": "code",
   "execution_count": 25,
   "id": "45eb2ff5",
   "metadata": {
    "execution": {
     "iopub.execute_input": "2022-07-24T10:11:11.606010Z",
     "iopub.status.busy": "2022-07-24T10:11:11.605283Z",
     "iopub.status.idle": "2022-07-24T10:11:11.636738Z",
     "shell.execute_reply": "2022-07-24T10:11:11.636212Z"
    },
    "papermill": {
     "duration": 0.077767,
     "end_time": "2022-07-24T10:11:11.636873",
     "exception": false,
     "start_time": "2022-07-24T10:11:11.559106",
     "status": "completed"
    },
    "tags": []
   },
   "outputs": [],
   "source": [
    "new_model = Model(layers[:-2])\n",
    "testing_plot = new_model(testing_data_x)"
   ]
  },
  {
   "cell_type": "code",
   "execution_count": 26,
   "id": "4c0a5485",
   "metadata": {
    "execution": {
     "iopub.execute_input": "2022-07-24T10:11:11.729223Z",
     "iopub.status.busy": "2022-07-24T10:11:11.728612Z",
     "iopub.status.idle": "2022-07-24T10:11:11.953506Z",
     "shell.execute_reply": "2022-07-24T10:11:11.953004Z"
    },
    "papermill": {
     "duration": 0.271616,
     "end_time": "2022-07-24T10:11:11.953635",
     "exception": false,
     "start_time": "2022-07-24T10:11:11.682019",
     "status": "completed"
    },
    "tags": []
   },
   "outputs": [
    {
     "data": {
      "text/plain": [
       "Text(0.5, 1.0, 'Outputs')"
      ]
     },
     "execution_count": 26,
     "metadata": {},
     "output_type": "execute_result"
    },
    {
     "data": {
      "image/png": "[encoded data removed]",
      "text/plain": [
       "<Figure size 576x504 with 1 Axes>"
      ]
     },
     "metadata": {
      "needs_background": "light"
     },
     "output_type": "display_data"
    }
   ],
   "source": [
    "# Plotting the scatter plot of points and color coding by class\n",
    "plt.figure(figsize=(8,7))\n",
    "plt.scatter(testing_plot[:,0], testing_plot[:,1], alpha = 0.1, c = y_test.ravel());\n",
    "plt.title('Outputs')"
   ]
  },
  {
   "cell_type": "markdown",
   "id": "a74fcf8f",
   "metadata": {
    "papermill": {
     "duration": 0.050327,
     "end_time": "2022-07-24T10:11:12.049057",
     "exception": false,
     "start_time": "2022-07-24T10:11:11.998730",
     "status": "completed"
    },
    "tags": []
   },
   "source": [
    "Probability contours"
   ]
  },
  {
   "cell_type": "code",
   "execution_count": 27,
   "id": "d0afc8e3",
   "metadata": {
    "execution": {
     "iopub.execute_input": "2022-07-24T10:11:12.150579Z",
     "iopub.status.busy": "2022-07-24T10:11:12.149868Z",
     "iopub.status.idle": "2022-07-24T10:11:12.163712Z",
     "shell.execute_reply": "2022-07-24T10:11:12.163214Z"
    },
    "papermill": {
     "duration": 0.069093,
     "end_time": "2022-07-24T10:11:12.163834",
     "exception": false,
     "start_time": "2022-07-24T10:11:12.094741",
     "status": "completed"
    },
    "tags": []
   },
   "outputs": [],
   "source": [
    "model_prob = Model(layers[-2:]) "
   ]
  },
  {
   "cell_type": "code",
   "execution_count": 28,
   "id": "9b96e238",
   "metadata": {
    "execution": {
     "iopub.execute_input": "2022-07-24T10:11:12.295885Z",
     "iopub.status.busy": "2022-07-24T10:11:12.295179Z",
     "iopub.status.idle": "2022-07-24T10:11:12.311468Z",
     "shell.execute_reply": "2022-07-24T10:11:12.312349Z"
    },
    "papermill": {
     "duration": 0.103458,
     "end_time": "2022-07-24T10:11:12.312501",
     "exception": false,
     "start_time": "2022-07-24T10:11:12.209043",
     "status": "completed"
    },
    "tags": []
   },
   "outputs": [],
   "source": [
    "#creating the x and y ranges according to the above generated plot.\n",
    "x_range = np.linspace(-4, 1, 100) \n",
    "y_range = np.linspace(-6, 6, 100) \n",
    "x_grid, y_grid = np.meshgrid(x_range, y_range) # x_grid and y_grig are of size 100 X 100\n",
    "\n",
    "# converting x_grid and y_grid to continuous arrays\n",
    "x_gridflat = np.ravel(x_grid)\n",
    "y_gridflat = np.ravel(y_grid)\n",
    "\n",
    "# The last layer of the current model takes two columns as input. Hence transpose of np.vstack() is required.\n",
    "X = np.vstack((x_gridflat, y_gridflat)).T\n",
    "\n",
    "prob_contour = model_prob(X).reshape(100,100) "
   ]
  },
  {
   "cell_type": "code",
   "execution_count": 29,
   "id": "da72499a",
   "metadata": {
    "execution": {
     "iopub.execute_input": "2022-07-24T10:11:12.431760Z",
     "iopub.status.busy": "2022-07-24T10:11:12.431120Z",
     "iopub.status.idle": "2022-07-24T10:11:12.696108Z",
     "shell.execute_reply": "2022-07-24T10:11:12.696754Z"
    },
    "papermill": {
     "duration": 0.326153,
     "end_time": "2022-07-24T10:11:12.696926",
     "exception": false,
     "start_time": "2022-07-24T10:11:12.370773",
     "status": "completed"
    },
    "tags": []
   },
   "outputs": [
    {
     "data": {
      "image/png": "[encoded data removed]",
      "text/plain": [
       "<Figure size 720x648 with 1 Axes>"
      ]
     },
     "metadata": {
      "needs_background": "light"
     },
     "output_type": "display_data"
    }
   ],
   "source": [
    "plt.figure(figsize=(10,9))\n",
    "plt.scatter(testing_plot[:,0], testing_plot[:,1], alpha = 0.1, c = y_test.ravel())\n",
    "contours = plt.contour(x_grid,y_grid,prob_contour)\n",
    "plt.title('Probability Contours')\n",
    "plt.clabel(contours, inline = True );"
   ]
  },
  {
   "cell_type": "code",
   "execution_count": null,
   "id": "e81b4ac7",
   "metadata": {
    "papermill": {
     "duration": 0.048021,
     "end_time": "2022-07-24T10:11:12.794559",
     "exception": false,
     "start_time": "2022-07-24T10:11:12.746538",
     "status": "completed"
    },
    "tags": []
   },
   "outputs": [],
   "source": []
  }
 ],
 "metadata": {
  "kernelspec": {
   "display_name": "Python 3",
   "language": "python",
   "name": "python3"
  },
  "language_info": {
   "codemirror_mode": {
    "name": "ipython",
    "version": 3
   },
   "file_extension": ".py",
   "mimetype": "text/x-python",
   "name": "python",
   "nbconvert_exporter": "python",
   "pygments_lexer": "ipython3",
   "version": "3.6.15"
  },
  "papermill": {
   "default_parameters": {},
   "duration": 103.897796,
   "end_time": "2022-07-24T10:11:13.262546",
   "environment_variables": {},
   "exception": null,
   "input_path": "2020-08-11-part2.ipynb",
   "output_path": "2020-08-11-part2.ipynb",
   "parameters": {},
   "start_time": "2022-07-24T10:09:29.364750",
   "version": "2.3.3"
  }
 },
 "nbformat": 4,
 "nbformat_minor": 5
}