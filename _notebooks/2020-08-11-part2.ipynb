{
 "cells": [
  {
   "cell_type": "markdown",
   "id": "98380cd3",
   "metadata": {
    "papermill": {
     "duration": 0.028102,
     "end_time": "2022-03-13T20:08:47.224432",
     "exception": false,
     "start_time": "2022-03-13T20:08:47.196330",
     "status": "completed"
    },
    "tags": []
   },
   "source": [
    "# Distinguish Your Own Digits (DYOD)"
   ]
  },
  {
   "cell_type": "markdown",
   "id": "ef31240d",
   "metadata": {
    "papermill": {
     "duration": 0.024931,
     "end_time": "2022-03-13T20:08:47.273585",
     "exception": false,
     "start_time": "2022-03-13T20:08:47.248654",
     "status": "completed"
    },
    "tags": []
   },
   "source": [
    "You are going to write a classifier that distinguishes between the number 3 and number 8."
   ]
  },
  {
   "cell_type": "code",
   "execution_count": 1,
   "id": "b15c8646",
   "metadata": {
    "execution": {
     "iopub.execute_input": "2022-03-13T20:08:47.330791Z",
     "iopub.status.busy": "2022-03-13T20:08:47.330258Z",
     "iopub.status.idle": "2022-03-13T20:08:47.340842Z",
     "shell.execute_reply": "2022-03-13T20:08:47.340408Z"
    },
    "papermill": {
     "duration": 0.044013,
     "end_time": "2022-03-13T20:08:47.340990",
     "exception": false,
     "start_time": "2022-03-13T20:08:47.296977",
     "status": "completed"
    },
    "tags": []
   },
   "outputs": [],
   "source": [
    "%load_ext autoreload\n",
    "%autoreload 2"
   ]
  },
  {
   "cell_type": "code",
   "execution_count": 2,
   "id": "22ef38dc",
   "metadata": {
    "execution": {
     "iopub.execute_input": "2022-03-13T20:08:47.402552Z",
     "iopub.status.busy": "2022-03-13T20:08:47.397705Z",
     "iopub.status.idle": "2022-03-13T20:08:47.981059Z",
     "shell.execute_reply": "2022-03-13T20:08:47.980472Z"
    },
    "papermill": {
     "duration": 0.616422,
     "end_time": "2022-03-13T20:08:47.981218",
     "exception": false,
     "start_time": "2022-03-13T20:08:47.364796",
     "status": "completed"
    },
    "tags": []
   },
   "outputs": [],
   "source": [
    "%matplotlib inline\n",
    "import numpy as np\n",
    "import matplotlib.pyplot as plt\n",
    "import pandas as pd"
   ]
  },
  {
   "cell_type": "markdown",
   "id": "ba036198",
   "metadata": {
    "papermill": {
     "duration": 0.023471,
     "end_time": "2022-03-13T20:08:48.028666",
     "exception": false,
     "start_time": "2022-03-13T20:08:48.005195",
     "status": "completed"
    },
    "tags": []
   },
   "source": [
    "From the command line run `pip install mnist`. This is a library that will help you bring down the mnist dataset. If you run this from a notebook, you need to put  `!pip install mnist` in a cell by itself."
   ]
  },
  {
   "cell_type": "code",
   "execution_count": 3,
   "id": "bb6ad8a1",
   "metadata": {
    "execution": {
     "iopub.execute_input": "2022-03-13T20:08:48.080403Z",
     "iopub.status.busy": "2022-03-13T20:08:48.079885Z",
     "iopub.status.idle": "2022-03-13T20:08:49.851462Z",
     "shell.execute_reply": "2022-03-13T20:08:49.850120Z"
    },
    "papermill": {
     "duration": 1.799465,
     "end_time": "2022-03-13T20:08:49.851621",
     "exception": false,
     "start_time": "2022-03-13T20:08:48.052156",
     "status": "completed"
    },
    "tags": []
   },
   "outputs": [
    {
     "name": "stdout",
     "output_type": "stream",
     "text": [
      "Collecting mnist\r\n"
     ]
    },
    {
     "name": "stdout",
     "output_type": "stream",
     "text": [
      "  Downloading mnist-0.2.2-py2.py3-none-any.whl (3.5 kB)\r\n",
      "Requirement already satisfied: numpy in /opt/hostedtoolcache/Python/3.6.15/x64/lib/python3.6/site-packages (from mnist) (1.19.5)\r\n"
     ]
    },
    {
     "name": "stdout",
     "output_type": "stream",
     "text": [
      "Installing collected packages: mnist\r\n"
     ]
    },
    {
     "name": "stdout",
     "output_type": "stream",
     "text": [
      "Successfully installed mnist-0.2.2\r\n"
     ]
    }
   ],
   "source": [
    "!pip install mnist"
   ]
  },
  {
   "cell_type": "markdown",
   "id": "69df9c9a",
   "metadata": {
    "papermill": {
     "duration": 0.024927,
     "end_time": "2022-03-13T20:08:49.901844",
     "exception": false,
     "start_time": "2022-03-13T20:08:49.876917",
     "status": "completed"
    },
    "tags": []
   },
   "source": [
    "## Preparing the Data"
   ]
  },
  {
   "cell_type": "code",
   "execution_count": 4,
   "id": "7f69d806",
   "metadata": {
    "execution": {
     "iopub.execute_input": "2022-03-13T20:08:49.957777Z",
     "iopub.status.busy": "2022-03-13T20:08:49.957255Z",
     "iopub.status.idle": "2022-03-13T20:08:49.969899Z",
     "shell.execute_reply": "2022-03-13T20:08:49.969481Z"
    },
    "papermill": {
     "duration": 0.043554,
     "end_time": "2022-03-13T20:08:49.970012",
     "exception": false,
     "start_time": "2022-03-13T20:08:49.926458",
     "status": "completed"
    },
    "tags": []
   },
   "outputs": [],
   "source": [
    "import mnist"
   ]
  },
  {
   "cell_type": "code",
   "execution_count": 5,
   "id": "a411e44f",
   "metadata": {
    "execution": {
     "iopub.execute_input": "2022-03-13T20:08:50.026121Z",
     "iopub.status.busy": "2022-03-13T20:08:50.025619Z",
     "iopub.status.idle": "2022-03-13T20:08:50.662535Z",
     "shell.execute_reply": "2022-03-13T20:08:50.661998Z"
    },
    "papermill": {
     "duration": 0.667991,
     "end_time": "2022-03-13T20:08:50.662680",
     "exception": false,
     "start_time": "2022-03-13T20:08:49.994689",
     "status": "completed"
    },
    "tags": []
   },
   "outputs": [],
   "source": [
    "train_images = mnist.train_images()\n",
    "train_labels = mnist.train_labels()"
   ]
  },
  {
   "cell_type": "code",
   "execution_count": 6,
   "id": "dceab3a5",
   "metadata": {
    "execution": {
     "iopub.execute_input": "2022-03-13T20:08:50.726565Z",
     "iopub.status.busy": "2022-03-13T20:08:50.725720Z",
     "iopub.status.idle": "2022-03-13T20:08:50.734782Z",
     "shell.execute_reply": "2022-03-13T20:08:50.734346Z"
    },
    "papermill": {
     "duration": 0.046566,
     "end_time": "2022-03-13T20:08:50.734895",
     "exception": false,
     "start_time": "2022-03-13T20:08:50.688329",
     "status": "completed"
    },
    "tags": []
   },
   "outputs": [
    {
     "data": {
      "text/plain": [
       "((60000, 28, 28), (60000,))"
      ]
     },
     "execution_count": 6,
     "metadata": {},
     "output_type": "execute_result"
    }
   ],
   "source": [
    "train_images.shape, train_labels.shape"
   ]
  },
  {
   "cell_type": "code",
   "execution_count": 7,
   "id": "f50dc2bb",
   "metadata": {
    "execution": {
     "iopub.execute_input": "2022-03-13T20:08:50.788062Z",
     "iopub.status.busy": "2022-03-13T20:08:50.787564Z",
     "iopub.status.idle": "2022-03-13T20:08:51.073323Z",
     "shell.execute_reply": "2022-03-13T20:08:51.072739Z"
    },
    "papermill": {
     "duration": 0.313738,
     "end_time": "2022-03-13T20:08:51.073470",
     "exception": false,
     "start_time": "2022-03-13T20:08:50.759732",
     "status": "completed"
    },
    "tags": []
   },
   "outputs": [],
   "source": [
    "test_images = mnist.test_images()\n",
    "test_labels = mnist.test_labels()"
   ]
  },
  {
   "cell_type": "code",
   "execution_count": 8,
   "id": "fc38cf1b",
   "metadata": {
    "execution": {
     "iopub.execute_input": "2022-03-13T20:08:51.127895Z",
     "iopub.status.busy": "2022-03-13T20:08:51.127391Z",
     "iopub.status.idle": "2022-03-13T20:08:51.141469Z",
     "shell.execute_reply": "2022-03-13T20:08:51.141041Z"
    },
    "papermill": {
     "duration": 0.042621,
     "end_time": "2022-03-13T20:08:51.141582",
     "exception": false,
     "start_time": "2022-03-13T20:08:51.098961",
     "status": "completed"
    },
    "tags": []
   },
   "outputs": [
    {
     "data": {
      "text/plain": [
       "((10000, 28, 28), (10000,))"
      ]
     },
     "execution_count": 8,
     "metadata": {},
     "output_type": "execute_result"
    }
   ],
   "source": [
    "test_images.shape, test_labels.shape"
   ]
  },
  {
   "cell_type": "code",
   "execution_count": 9,
   "id": "f9ed8fe0",
   "metadata": {
    "execution": {
     "iopub.execute_input": "2022-03-13T20:08:51.196169Z",
     "iopub.status.busy": "2022-03-13T20:08:51.195475Z",
     "iopub.status.idle": "2022-03-13T20:08:51.335787Z",
     "shell.execute_reply": "2022-03-13T20:08:51.335329Z"
    },
    "papermill": {
     "duration": 0.169055,
     "end_time": "2022-03-13T20:08:51.335911",
     "exception": false,
     "start_time": "2022-03-13T20:08:51.166856",
     "status": "completed"
    },
    "tags": []
   },
   "outputs": [
    {
     "name": "stdout",
     "output_type": "stream",
     "text": [
      "2\n"
     ]
    },
    {
     "data": {
      "text/plain": [
       "<matplotlib.image.AxesImage at 0x7fbdca1c6550>"
      ]
     },
     "execution_count": 9,
     "metadata": {},
     "output_type": "execute_result"
    },
    {
     "data": {
      "image/png": "[encoded data removed]",
      "text/plain": [
       "<Figure size 432x288 with 1 Axes>"
      ]
     },
     "metadata": {
      "needs_background": "light"
     },
     "output_type": "display_data"
    }
   ],
   "source": [
    "image_index = 7776 # You may select anything up to 60,000\n",
    "print(train_labels[image_index]) \n",
    "plt.imshow(train_images[image_index], cmap='Greys')"
   ]
  },
  {
   "cell_type": "markdown",
   "id": "a8d2388d",
   "metadata": {
    "papermill": {
     "duration": 0.026283,
     "end_time": "2022-03-13T20:08:51.389018",
     "exception": false,
     "start_time": "2022-03-13T20:08:51.362735",
     "status": "completed"
    },
    "tags": []
   },
   "source": [
    "## Filter data to get 3 and 8 out"
   ]
  },
  {
   "cell_type": "code",
   "execution_count": 10,
   "id": "776f7fc7",
   "metadata": {
    "execution": {
     "iopub.execute_input": "2022-03-13T20:08:51.449800Z",
     "iopub.status.busy": "2022-03-13T20:08:51.444888Z",
     "iopub.status.idle": "2022-03-13T20:08:51.463427Z",
     "shell.execute_reply": "2022-03-13T20:08:51.463820Z"
    },
    "papermill": {
     "duration": 0.048838,
     "end_time": "2022-03-13T20:08:51.463958",
     "exception": false,
     "start_time": "2022-03-13T20:08:51.415120",
     "status": "completed"
    },
    "tags": []
   },
   "outputs": [],
   "source": [
    "train_filter = np.where((train_labels == 3 ) | (train_labels == 8))\n",
    "test_filter = np.where((test_labels == 3) | (test_labels == 8))\n",
    "X_train, y_train = train_images[train_filter], train_labels[train_filter]\n",
    "X_test, y_test = test_images[test_filter], test_labels[test_filter]"
   ]
  },
  {
   "cell_type": "markdown",
   "id": "948f0b7e",
   "metadata": {
    "papermill": {
     "duration": 0.026237,
     "end_time": "2022-03-13T20:08:51.516644",
     "exception": false,
     "start_time": "2022-03-13T20:08:51.490407",
     "status": "completed"
    },
    "tags": []
   },
   "source": [
    "We normalize the pizel values in the 0 to 1 range"
   ]
  },
  {
   "cell_type": "code",
   "execution_count": 11,
   "id": "ee4c2166",
   "metadata": {
    "execution": {
     "iopub.execute_input": "2022-03-13T20:08:51.586031Z",
     "iopub.status.busy": "2022-03-13T20:08:51.579986Z",
     "iopub.status.idle": "2022-03-13T20:08:51.622000Z",
     "shell.execute_reply": "2022-03-13T20:08:51.622466Z"
    },
    "papermill": {
     "duration": 0.079787,
     "end_time": "2022-03-13T20:08:51.622636",
     "exception": false,
     "start_time": "2022-03-13T20:08:51.542849",
     "status": "completed"
    },
    "tags": []
   },
   "outputs": [],
   "source": [
    "X_train = X_train/255.\n",
    "X_test = X_test/255."
   ]
  },
  {
   "cell_type": "markdown",
   "id": "ddcf4fab",
   "metadata": {
    "papermill": {
     "duration": 0.026216,
     "end_time": "2022-03-13T20:08:51.676746",
     "exception": false,
     "start_time": "2022-03-13T20:08:51.650530",
     "status": "completed"
    },
    "tags": []
   },
   "source": [
    "And setup the labels as 1 (when the digit is 3) and 0 (when the digit is 8)"
   ]
  },
  {
   "cell_type": "code",
   "execution_count": 12,
   "id": "7dc908f2",
   "metadata": {
    "execution": {
     "iopub.execute_input": "2022-03-13T20:08:51.746533Z",
     "iopub.status.busy": "2022-03-13T20:08:51.732341Z",
     "iopub.status.idle": "2022-03-13T20:08:51.750102Z",
     "shell.execute_reply": "2022-03-13T20:08:51.749686Z"
    },
    "papermill": {
     "duration": 0.04731,
     "end_time": "2022-03-13T20:08:51.750218",
     "exception": false,
     "start_time": "2022-03-13T20:08:51.702908",
     "status": "completed"
    },
    "tags": []
   },
   "outputs": [],
   "source": [
    "y_train = 1*(y_train==3)\n",
    "y_test = 1*(y_test==3)"
   ]
  },
  {
   "cell_type": "code",
   "execution_count": 13,
   "id": "01e4e969",
   "metadata": {
    "execution": {
     "iopub.execute_input": "2022-03-13T20:08:51.805757Z",
     "iopub.status.busy": "2022-03-13T20:08:51.805242Z",
     "iopub.status.idle": "2022-03-13T20:08:51.819252Z",
     "shell.execute_reply": "2022-03-13T20:08:51.818842Z"
    },
    "papermill": {
     "duration": 0.042973,
     "end_time": "2022-03-13T20:08:51.819362",
     "exception": false,
     "start_time": "2022-03-13T20:08:51.776389",
     "status": "completed"
    },
    "tags": []
   },
   "outputs": [
    {
     "data": {
      "text/plain": [
       "((11982, 28, 28), (1984, 28, 28))"
      ]
     },
     "execution_count": 13,
     "metadata": {},
     "output_type": "execute_result"
    }
   ],
   "source": [
    "X_train.shape, X_test.shape"
   ]
  },
  {
   "cell_type": "markdown",
   "id": "5ccf3f85",
   "metadata": {
    "papermill": {
     "duration": 0.026464,
     "end_time": "2022-03-13T20:08:51.872091",
     "exception": false,
     "start_time": "2022-03-13T20:08:51.845627",
     "status": "completed"
    },
    "tags": []
   },
   "source": [
    "We reshape the data to flatten the image pixels into a set of features or co-variates:"
   ]
  },
  {
   "cell_type": "code",
   "execution_count": 14,
   "id": "5286a4a3",
   "metadata": {
    "execution": {
     "iopub.execute_input": "2022-03-13T20:08:51.943075Z",
     "iopub.status.busy": "2022-03-13T20:08:51.937841Z",
     "iopub.status.idle": "2022-03-13T20:08:51.947180Z",
     "shell.execute_reply": "2022-03-13T20:08:51.946574Z"
    },
    "papermill": {
     "duration": 0.04867,
     "end_time": "2022-03-13T20:08:51.947298",
     "exception": false,
     "start_time": "2022-03-13T20:08:51.898628",
     "status": "completed"
    },
    "tags": []
   },
   "outputs": [
    {
     "data": {
      "text/plain": [
       "((11982, 784), (1984, 784))"
      ]
     },
     "execution_count": 14,
     "metadata": {},
     "output_type": "execute_result"
    }
   ],
   "source": [
    "X_train = X_train.reshape(X_train.shape[0], -1)\n",
    "X_test = X_test.reshape(X_test.shape[0], -1)\n",
    "X_train.shape, X_test.shape"
   ]
  },
  {
   "cell_type": "code",
   "execution_count": 15,
   "id": "73c5f88a",
   "metadata": {
    "execution": {
     "iopub.execute_input": "2022-03-13T20:08:52.018244Z",
     "iopub.status.busy": "2022-03-13T20:08:52.013898Z",
     "iopub.status.idle": "2022-03-13T20:08:52.027214Z",
     "shell.execute_reply": "2022-03-13T20:08:52.027624Z"
    },
    "papermill": {
     "duration": 0.053044,
     "end_time": "2022-03-13T20:08:52.027754",
     "exception": false,
     "start_time": "2022-03-13T20:08:51.974710",
     "status": "completed"
    },
    "tags": []
   },
   "outputs": [],
   "source": [
    "#Impoting functions from 'Kudzu'\n",
    "from kudzu.model import Model\n",
    "from kudzu.train import Learner\n",
    "from kudzu.optim import GD\n",
    "from kudzu.data import Data, Sampler,Dataloader\n",
    "\n",
    "from kudzu.callbacks import AccCallback\n",
    "from kudzu.callbacks import ClfCallback\n",
    "\n",
    "from kudzu.loss import MSE\n",
    "\n",
    "from kudzu.layer import Sigmoid,Relu\n",
    "from kudzu.layer import Affine"
   ]
  },
  {
   "cell_type": "markdown",
   "id": "bc01172a",
   "metadata": {
    "papermill": {
     "duration": 0.026736,
     "end_time": "2022-03-13T20:08:52.081320",
     "exception": false,
     "start_time": "2022-03-13T20:08:52.054584",
     "status": "completed"
    },
    "tags": []
   },
   "source": [
    "### Let us create a `Config` class, to store important parameters. \n",
    "This class essentially plays the role of a dictionary."
   ]
  },
  {
   "cell_type": "code",
   "execution_count": 16,
   "id": "978281aa",
   "metadata": {
    "execution": {
     "iopub.execute_input": "2022-03-13T20:08:52.140596Z",
     "iopub.status.busy": "2022-03-13T20:08:52.140056Z",
     "iopub.status.idle": "2022-03-13T20:08:52.152681Z",
     "shell.execute_reply": "2022-03-13T20:08:52.152242Z"
    },
    "papermill": {
     "duration": 0.044752,
     "end_time": "2022-03-13T20:08:52.152791",
     "exception": false,
     "start_time": "2022-03-13T20:08:52.108039",
     "status": "completed"
    },
    "tags": []
   },
   "outputs": [],
   "source": [
    "class Config:\n",
    "    pass\n",
    "config = Config()\n",
    "config.lr = 0.001\n",
    "config.num_epochs = 250\n",
    "config.bs = 50"
   ]
  },
  {
   "cell_type": "markdown",
   "id": "1385fa59",
   "metadata": {
    "papermill": {
     "duration": 0.026694,
     "end_time": "2022-03-13T20:08:52.206313",
     "exception": false,
     "start_time": "2022-03-13T20:08:52.179619",
     "status": "completed"
    },
    "tags": []
   },
   "source": [
    "### Running Models with the Training data\n",
    "Details about the network layers:\n",
    "- A first affine layer has 784 inputs and does 100 affine transforms. These are followed by a Relu\n",
    "- A second affine layer has 100 inputs from the 100 activations of the past layer, and does 100 affine transforms. These are followed by a Relu\n",
    "- A third affine layer has 100 activations and does 2 affine transformations to create an embedding for visualization. There is no non-linearity here.\n",
    "- A final \"logistic regression\" which has an affine transform from 2 inputs to 1 output, which is squeezed through a sigmoid.\n"
   ]
  },
  {
   "cell_type": "code",
   "execution_count": 17,
   "id": "2b9c66db",
   "metadata": {
    "execution": {
     "iopub.execute_input": "2022-03-13T20:08:52.265955Z",
     "iopub.status.busy": "2022-03-13T20:08:52.265441Z",
     "iopub.status.idle": "2022-03-13T20:08:52.276273Z",
     "shell.execute_reply": "2022-03-13T20:08:52.275837Z"
    },
    "papermill": {
     "duration": 0.043386,
     "end_time": "2022-03-13T20:08:52.276402",
     "exception": false,
     "start_time": "2022-03-13T20:08:52.233016",
     "status": "completed"
    },
    "tags": []
   },
   "outputs": [],
   "source": [
    "data = Data(X_train, y_train.reshape(-1,1))\n",
    "sampler = Sampler(data, config.bs, shuffle=True)\n",
    "\n",
    "dl = Dataloader(data, sampler)\n",
    "\n",
    "opt = GD(config.lr)\n",
    "loss = MSE()"
   ]
  },
  {
   "cell_type": "code",
   "execution_count": 18,
   "id": "b275e4c2",
   "metadata": {
    "execution": {
     "iopub.execute_input": "2022-03-13T20:08:52.333432Z",
     "iopub.status.busy": "2022-03-13T20:08:52.332880Z",
     "iopub.status.idle": "2022-03-13T20:08:52.343767Z",
     "shell.execute_reply": "2022-03-13T20:08:52.344156Z"
    },
    "papermill": {
     "duration": 0.041142,
     "end_time": "2022-03-13T20:08:52.344274",
     "exception": false,
     "start_time": "2022-03-13T20:08:52.303132",
     "status": "completed"
    },
    "tags": []
   },
   "outputs": [],
   "source": [
    "training_data_x = X_train\n",
    "testing_data_x = X_test\n",
    "training_data_y = y_train.reshape(-1,1)\n",
    "testing_data_y = y_test.reshape(-1,1)"
   ]
  },
  {
   "cell_type": "code",
   "execution_count": 19,
   "id": "76951160",
   "metadata": {
    "execution": {
     "iopub.execute_input": "2022-03-13T20:08:52.404668Z",
     "iopub.status.busy": "2022-03-13T20:08:52.404163Z",
     "iopub.status.idle": "2022-03-13T20:08:52.417525Z",
     "shell.execute_reply": "2022-03-13T20:08:52.417113Z"
    },
    "papermill": {
     "duration": 0.046755,
     "end_time": "2022-03-13T20:08:52.417630",
     "exception": false,
     "start_time": "2022-03-13T20:08:52.370875",
     "status": "completed"
    },
    "tags": []
   },
   "outputs": [
    {
     "name": "stdout",
     "output_type": "stream",
     "text": [
      "xavier\n",
      "xavier\n",
      "xavier\n",
      "xavier\n",
      "xavier\n"
     ]
    }
   ],
   "source": [
    "layers = [Affine(\"first\", 784, 100), Relu(\"first\"), Affine(\"second\", 100, 100), Relu(\"second\"), Affine(\"third\", 100, 2), Affine(\"last\", 2, 1), Sigmoid(\"last\")]\n",
    "model_nn = Model(layers)\n",
    "model_lr = Model([Affine(\"logits\", 784, 1), Sigmoid(\"sigmoid\")])"
   ]
  },
  {
   "cell_type": "code",
   "execution_count": 20,
   "id": "6eede77a",
   "metadata": {
    "execution": {
     "iopub.execute_input": "2022-03-13T20:08:52.474724Z",
     "iopub.status.busy": "2022-03-13T20:08:52.474224Z",
     "iopub.status.idle": "2022-03-13T20:08:52.485658Z",
     "shell.execute_reply": "2022-03-13T20:08:52.485228Z"
    },
    "papermill": {
     "duration": 0.041255,
     "end_time": "2022-03-13T20:08:52.485761",
     "exception": false,
     "start_time": "2022-03-13T20:08:52.444506",
     "status": "completed"
    },
    "tags": []
   },
   "outputs": [],
   "source": [
    "nn_learner = Learner(loss, model_nn, opt, config.num_epochs)\n",
    "acc_nn = ClfCallback(nn_learner, config.bs, training_data_x , testing_data_x, training_data_y, testing_data_y)\n",
    "nn_learner.set_callbacks([acc_nn])"
   ]
  },
  {
   "cell_type": "code",
   "execution_count": 21,
   "id": "877b6cc7",
   "metadata": {
    "execution": {
     "iopub.execute_input": "2022-03-13T20:08:52.547661Z",
     "iopub.status.busy": "2022-03-13T20:08:52.547160Z",
     "iopub.status.idle": "2022-03-13T20:08:52.556628Z",
     "shell.execute_reply": "2022-03-13T20:08:52.556224Z"
    },
    "papermill": {
     "duration": 0.04393,
     "end_time": "2022-03-13T20:08:52.556733",
     "exception": false,
     "start_time": "2022-03-13T20:08:52.512803",
     "status": "completed"
    },
    "tags": []
   },
   "outputs": [],
   "source": [
    "lr_learner = Learner(loss, model_lr, opt, config.num_epochs)\n",
    "acc_lr = ClfCallback(lr_learner, config.bs, training_data_x , testing_data_x, training_data_y, testing_data_y)\n",
    "lr_learner.set_callbacks([acc_lr])"
   ]
  },
  {
   "cell_type": "code",
   "execution_count": 22,
   "id": "d9b133c3",
   "metadata": {
    "execution": {
     "iopub.execute_input": "2022-03-13T20:08:52.616918Z",
     "iopub.status.busy": "2022-03-13T20:08:52.616424Z",
     "iopub.status.idle": "2022-03-13T20:10:08.637436Z",
     "shell.execute_reply": "2022-03-13T20:10:08.638186Z"
    },
    "papermill": {
     "duration": 76.054232,
     "end_time": "2022-03-13T20:10:08.638345",
     "exception": false,
     "start_time": "2022-03-13T20:08:52.584113",
     "status": "completed"
    },
    "tags": []
   },
   "outputs": [
    {
     "name": "stdout",
     "output_type": "stream",
     "text": [
      "Epoch 0, Loss 0.2508\n",
      "Training Accuracy: 0.5149, Testing Accuracy: 0.5000\n",
      "\n"
     ]
    },
    {
     "name": "stdout",
     "output_type": "stream",
     "text": [
      "Epoch 10, Loss 0.2165\n",
      "Training Accuracy: 0.8624, Testing Accuracy: 0.8770\n",
      "\n"
     ]
    },
    {
     "name": "stdout",
     "output_type": "stream",
     "text": [
      "Epoch 20, Loss 0.117\n",
      "Training Accuracy: 0.9017, Testing Accuracy: 0.9103\n",
      "\n"
     ]
    },
    {
     "name": "stdout",
     "output_type": "stream",
     "text": [
      "Epoch 30, Loss 0.0678\n",
      "Training Accuracy: 0.9281, Testing Accuracy: 0.9400\n",
      "\n"
     ]
    },
    {
     "name": "stdout",
     "output_type": "stream",
     "text": [
      "Epoch 40, Loss 0.0506\n",
      "Training Accuracy: 0.9448, Testing Accuracy: 0.9561\n",
      "\n"
     ]
    },
    {
     "name": "stdout",
     "output_type": "stream",
     "text": [
      "Epoch 50, Loss 0.0422\n",
      "Training Accuracy: 0.9532, Testing Accuracy: 0.9617\n",
      "\n"
     ]
    },
    {
     "name": "stdout",
     "output_type": "stream",
     "text": [
      "Epoch 60, Loss 0.0374\n",
      "Training Accuracy: 0.9569, Testing Accuracy: 0.9652\n",
      "\n"
     ]
    },
    {
     "name": "stdout",
     "output_type": "stream",
     "text": [
      "Epoch 70, Loss 0.0343\n",
      "Training Accuracy: 0.9604, Testing Accuracy: 0.9662\n",
      "\n"
     ]
    },
    {
     "name": "stdout",
     "output_type": "stream",
     "text": [
      "Epoch 80, Loss 0.032\n",
      "Training Accuracy: 0.9620, Testing Accuracy: 0.9672\n",
      "\n"
     ]
    },
    {
     "name": "stdout",
     "output_type": "stream",
     "text": [
      "Epoch 90, Loss 0.0303\n",
      "Training Accuracy: 0.9646, Testing Accuracy: 0.9682\n",
      "\n"
     ]
    },
    {
     "name": "stdout",
     "output_type": "stream",
     "text": [
      "Epoch 100, Loss 0.0289\n",
      "Training Accuracy: 0.9659, Testing Accuracy: 0.9682\n",
      "\n"
     ]
    },
    {
     "name": "stdout",
     "output_type": "stream",
     "text": [
      "Epoch 110, Loss 0.0277\n",
      "Training Accuracy: 0.9680, Testing Accuracy: 0.9677\n",
      "\n"
     ]
    },
    {
     "name": "stdout",
     "output_type": "stream",
     "text": [
      "Epoch 120, Loss 0.0267\n",
      "Training Accuracy: 0.9686, Testing Accuracy: 0.9667\n",
      "\n"
     ]
    },
    {
     "name": "stdout",
     "output_type": "stream",
     "text": [
      "Epoch 130, Loss 0.0259\n",
      "Training Accuracy: 0.9698, Testing Accuracy: 0.9667\n",
      "\n"
     ]
    },
    {
     "name": "stdout",
     "output_type": "stream",
     "text": [
      "Epoch 140, Loss 0.0251\n",
      "Training Accuracy: 0.9708, Testing Accuracy: 0.9672\n",
      "\n"
     ]
    },
    {
     "name": "stdout",
     "output_type": "stream",
     "text": [
      "Epoch 150, Loss 0.0244\n",
      "Training Accuracy: 0.9714, Testing Accuracy: 0.9677\n",
      "\n"
     ]
    },
    {
     "name": "stdout",
     "output_type": "stream",
     "text": [
      "Epoch 160, Loss 0.0237\n",
      "Training Accuracy: 0.9717, Testing Accuracy: 0.9677\n",
      "\n"
     ]
    },
    {
     "name": "stdout",
     "output_type": "stream",
     "text": [
      "Epoch 170, Loss 0.0232\n",
      "Training Accuracy: 0.9724, Testing Accuracy: 0.9688\n",
      "\n"
     ]
    },
    {
     "name": "stdout",
     "output_type": "stream",
     "text": [
      "Epoch 180, Loss 0.0226\n",
      "Training Accuracy: 0.9734, Testing Accuracy: 0.9698\n",
      "\n"
     ]
    },
    {
     "name": "stdout",
     "output_type": "stream",
     "text": [
      "Epoch 190, Loss 0.0221\n",
      "Training Accuracy: 0.9740, Testing Accuracy: 0.9703\n",
      "\n"
     ]
    },
    {
     "name": "stdout",
     "output_type": "stream",
     "text": [
      "Epoch 200, Loss 0.0216\n",
      "Training Accuracy: 0.9750, Testing Accuracy: 0.9713\n",
      "\n"
     ]
    },
    {
     "name": "stdout",
     "output_type": "stream",
     "text": [
      "Epoch 210, Loss 0.0211\n",
      "Training Accuracy: 0.9757, Testing Accuracy: 0.9723\n",
      "\n"
     ]
    },
    {
     "name": "stdout",
     "output_type": "stream",
     "text": [
      "Epoch 220, Loss 0.0207\n",
      "Training Accuracy: 0.9762, Testing Accuracy: 0.9728\n",
      "\n"
     ]
    },
    {
     "name": "stdout",
     "output_type": "stream",
     "text": [
      "Epoch 230, Loss 0.0203\n",
      "Training Accuracy: 0.9770, Testing Accuracy: 0.9723\n",
      "\n"
     ]
    },
    {
     "name": "stdout",
     "output_type": "stream",
     "text": [
      "Epoch 240, Loss 0.0199\n",
      "Training Accuracy: 0.9773, Testing Accuracy: 0.9728\n",
      "\n"
     ]
    },
    {
     "data": {
      "text/plain": [
       "0.03815398541189104"
      ]
     },
     "execution_count": 22,
     "metadata": {},
     "output_type": "execute_result"
    }
   ],
   "source": [
    "nn_learner.train_loop(dl)"
   ]
  },
  {
   "cell_type": "code",
   "execution_count": 23,
   "id": "e0163366",
   "metadata": {
    "execution": {
     "iopub.execute_input": "2022-03-13T20:10:08.715295Z",
     "iopub.status.busy": "2022-03-13T20:10:08.714772Z",
     "iopub.status.idle": "2022-03-13T20:10:22.924971Z",
     "shell.execute_reply": "2022-03-13T20:10:22.925709Z"
    },
    "papermill": {
     "duration": 14.25272,
     "end_time": "2022-03-13T20:10:22.925873",
     "exception": false,
     "start_time": "2022-03-13T20:10:08.673153",
     "status": "completed"
    },
    "tags": []
   },
   "outputs": [
    {
     "name": "stdout",
     "output_type": "stream",
     "text": [
      "Epoch 0, Loss 0.2284\n",
      "Training Accuracy: 0.7118, Testing Accuracy: 0.7172\n",
      "\n"
     ]
    },
    {
     "name": "stdout",
     "output_type": "stream",
     "text": [
      "Epoch 10, Loss 0.103\n",
      "Training Accuracy: 0.9071, Testing Accuracy: 0.9274\n",
      "\n"
     ]
    },
    {
     "name": "stdout",
     "output_type": "stream",
     "text": [
      "Epoch 20, Loss 0.0796\n",
      "Training Accuracy: 0.9243, Testing Accuracy: 0.9410\n",
      "\n"
     ]
    },
    {
     "name": "stdout",
     "output_type": "stream",
     "text": [
      "Epoch 30, Loss 0.0686\n",
      "Training Accuracy: 0.9333, Testing Accuracy: 0.9476\n",
      "\n"
     ]
    },
    {
     "name": "stdout",
     "output_type": "stream",
     "text": [
      "Epoch 40, Loss 0.062\n",
      "Training Accuracy: 0.9393, Testing Accuracy: 0.9536\n",
      "\n"
     ]
    },
    {
     "name": "stdout",
     "output_type": "stream",
     "text": [
      "Epoch 50, Loss 0.0575\n",
      "Training Accuracy: 0.9428, Testing Accuracy: 0.9556\n",
      "\n"
     ]
    },
    {
     "name": "stdout",
     "output_type": "stream",
     "text": [
      "Epoch 60, Loss 0.0541\n",
      "Training Accuracy: 0.9459, Testing Accuracy: 0.9556\n",
      "\n"
     ]
    },
    {
     "name": "stdout",
     "output_type": "stream",
     "text": [
      "Epoch 70, Loss 0.0515\n",
      "Training Accuracy: 0.9481, Testing Accuracy: 0.9572\n",
      "\n"
     ]
    },
    {
     "name": "stdout",
     "output_type": "stream",
     "text": [
      "Epoch 80, Loss 0.0494\n",
      "Training Accuracy: 0.9497, Testing Accuracy: 0.9607\n",
      "\n"
     ]
    },
    {
     "name": "stdout",
     "output_type": "stream",
     "text": [
      "Epoch 90, Loss 0.0477\n",
      "Training Accuracy: 0.9508, Testing Accuracy: 0.9627\n",
      "\n"
     ]
    },
    {
     "name": "stdout",
     "output_type": "stream",
     "text": [
      "Epoch 100, Loss 0.0463\n",
      "Training Accuracy: 0.9520, Testing Accuracy: 0.9622\n",
      "\n"
     ]
    },
    {
     "name": "stdout",
     "output_type": "stream",
     "text": [
      "Epoch 110, Loss 0.045\n",
      "Training Accuracy: 0.9536, Testing Accuracy: 0.9632\n",
      "\n"
     ]
    },
    {
     "name": "stdout",
     "output_type": "stream",
     "text": [
      "Epoch 120, Loss 0.044\n",
      "Training Accuracy: 0.9548, Testing Accuracy: 0.9637\n",
      "\n"
     ]
    },
    {
     "name": "stdout",
     "output_type": "stream",
     "text": [
      "Epoch 130, Loss 0.043\n",
      "Training Accuracy: 0.9556, Testing Accuracy: 0.9642\n",
      "\n"
     ]
    },
    {
     "name": "stdout",
     "output_type": "stream",
     "text": [
      "Epoch 140, Loss 0.0422\n",
      "Training Accuracy: 0.9564, Testing Accuracy: 0.9642\n",
      "\n"
     ]
    },
    {
     "name": "stdout",
     "output_type": "stream",
     "text": [
      "Epoch 150, Loss 0.0414\n",
      "Training Accuracy: 0.9575, Testing Accuracy: 0.9642\n",
      "\n"
     ]
    },
    {
     "name": "stdout",
     "output_type": "stream",
     "text": [
      "Epoch 160, Loss 0.0407\n",
      "Training Accuracy: 0.9581, Testing Accuracy: 0.9642\n",
      "\n"
     ]
    },
    {
     "name": "stdout",
     "output_type": "stream",
     "text": [
      "Epoch 170, Loss 0.0401\n",
      "Training Accuracy: 0.9581, Testing Accuracy: 0.9642\n",
      "\n"
     ]
    },
    {
     "name": "stdout",
     "output_type": "stream",
     "text": [
      "Epoch 180, Loss 0.0395\n",
      "Training Accuracy: 0.9586, Testing Accuracy: 0.9642\n",
      "\n"
     ]
    },
    {
     "name": "stdout",
     "output_type": "stream",
     "text": [
      "Epoch 190, Loss 0.039\n",
      "Training Accuracy: 0.9588, Testing Accuracy: 0.9652\n",
      "\n"
     ]
    },
    {
     "name": "stdout",
     "output_type": "stream",
     "text": [
      "Epoch 200, Loss 0.0385\n",
      "Training Accuracy: 0.9590, Testing Accuracy: 0.9652\n",
      "\n"
     ]
    },
    {
     "name": "stdout",
     "output_type": "stream",
     "text": [
      "Epoch 210, Loss 0.038\n",
      "Training Accuracy: 0.9595, Testing Accuracy: 0.9652\n",
      "\n"
     ]
    },
    {
     "name": "stdout",
     "output_type": "stream",
     "text": [
      "Epoch 220, Loss 0.0376\n",
      "Training Accuracy: 0.9599, Testing Accuracy: 0.9652\n",
      "\n"
     ]
    },
    {
     "name": "stdout",
     "output_type": "stream",
     "text": [
      "Epoch 230, Loss 0.0372\n",
      "Training Accuracy: 0.9604, Testing Accuracy: 0.9652\n",
      "\n"
     ]
    },
    {
     "name": "stdout",
     "output_type": "stream",
     "text": [
      "Epoch 240, Loss 0.0369\n",
      "Training Accuracy: 0.9607, Testing Accuracy: 0.9652\n",
      "\n"
     ]
    },
    {
     "data": {
      "text/plain": [
       "0.04045323544039757"
      ]
     },
     "execution_count": 23,
     "metadata": {},
     "output_type": "execute_result"
    }
   ],
   "source": [
    "lr_learner.train_loop(dl)"
   ]
  },
  {
   "cell_type": "code",
   "execution_count": 24,
   "id": "ca410940",
   "metadata": {
    "execution": {
     "iopub.execute_input": "2022-03-13T20:10:23.019162Z",
     "iopub.status.busy": "2022-03-13T20:10:23.018494Z",
     "iopub.status.idle": "2022-03-13T20:10:23.243174Z",
     "shell.execute_reply": "2022-03-13T20:10:23.242733Z"
    },
    "papermill": {
     "duration": 0.275907,
     "end_time": "2022-03-13T20:10:23.243302",
     "exception": false,
     "start_time": "2022-03-13T20:10:22.967395",
     "status": "completed"
    },
    "tags": []
   },
   "outputs": [
    {
     "data": {
      "text/plain": [
       "<matplotlib.legend.Legend at 0x7fbdc9da1cf8>"
      ]
     },
     "execution_count": 24,
     "metadata": {},
     "output_type": "execute_result"
    },
    {
     "data": {
      "image/png": "[encoded data removed]",
      "text/plain": [
       "<Figure size 1080x720 with 1 Axes>"
      ]
     },
     "metadata": {
      "needs_background": "light"
     },
     "output_type": "display_data"
    }
   ],
   "source": [
    "#comparing the results of NN and LR\n",
    "plt.figure(figsize=(15,10))\n",
    "\n",
    "# Neural Network plots\n",
    "plt.plot(acc_nn.accuracies, 'r-', label = \"Training Accuracies - NN\")\n",
    "plt.plot(acc_nn.test_accuracies, 'g-', label = \"Testing Accuracies - NN\")\n",
    "\n",
    "# Logistic Regression plots\n",
    "plt.plot(acc_lr.accuracies, 'k-', label = \"Training Accuracies - LR\")\n",
    "plt.plot(acc_lr.test_accuracies, 'b-', label = \"Testing Accuracies - LR\")\n",
    "plt.legend()"
   ]
  },
  {
   "cell_type": "markdown",
   "id": "80dfb35c",
   "metadata": {
    "papermill": {
     "duration": 0.041703,
     "end_time": "2022-03-13T20:10:23.327064",
     "exception": false,
     "start_time": "2022-03-13T20:10:23.285361",
     "status": "completed"
    },
    "tags": []
   },
   "source": [
    "#### Plotting the outputs of this layer of the NN.\n"
   ]
  },
  {
   "cell_type": "code",
   "execution_count": 25,
   "id": "45eb2ff5",
   "metadata": {
    "execution": {
     "iopub.execute_input": "2022-03-13T20:10:23.413882Z",
     "iopub.status.busy": "2022-03-13T20:10:23.413336Z",
     "iopub.status.idle": "2022-03-13T20:10:23.433825Z",
     "shell.execute_reply": "2022-03-13T20:10:23.434545Z"
    },
    "papermill": {
     "duration": 0.066244,
     "end_time": "2022-03-13T20:10:23.434695",
     "exception": false,
     "start_time": "2022-03-13T20:10:23.368451",
     "status": "completed"
    },
    "tags": []
   },
   "outputs": [],
   "source": [
    "new_model = Model(layers[:-2])\n",
    "testing_plot = new_model(testing_data_x)"
   ]
  },
  {
   "cell_type": "code",
   "execution_count": 26,
   "id": "4c0a5485",
   "metadata": {
    "execution": {
     "iopub.execute_input": "2022-03-13T20:10:23.534118Z",
     "iopub.status.busy": "2022-03-13T20:10:23.533605Z",
     "iopub.status.idle": "2022-03-13T20:10:23.713579Z",
     "shell.execute_reply": "2022-03-13T20:10:23.713115Z"
    },
    "papermill": {
     "duration": 0.23711,
     "end_time": "2022-03-13T20:10:23.713705",
     "exception": false,
     "start_time": "2022-03-13T20:10:23.476595",
     "status": "completed"
    },
    "tags": []
   },
   "outputs": [
    {
     "data": {
      "text/plain": [
       "Text(0.5, 1.0, 'Outputs')"
      ]
     },
     "execution_count": 26,
     "metadata": {},
     "output_type": "execute_result"
    },
    {
     "data": {
      "image/png": "[encoded data removed]",
      "text/plain": [
       "<Figure size 576x504 with 1 Axes>"
      ]
     },
     "metadata": {
      "needs_background": "light"
     },
     "output_type": "display_data"
    }
   ],
   "source": [
    "# Plotting the scatter plot of points and color coding by class\n",
    "plt.figure(figsize=(8,7))\n",
    "plt.scatter(testing_plot[:,0], testing_plot[:,1], alpha = 0.1, c = y_test.ravel());\n",
    "plt.title('Outputs')"
   ]
  },
  {
   "cell_type": "markdown",
   "id": "a74fcf8f",
   "metadata": {
    "papermill": {
     "duration": 0.043663,
     "end_time": "2022-03-13T20:10:23.801041",
     "exception": false,
     "start_time": "2022-03-13T20:10:23.757378",
     "status": "completed"
    },
    "tags": []
   },
   "source": [
    "Probability contours"
   ]
  },
  {
   "cell_type": "code",
   "execution_count": 27,
   "id": "d0afc8e3",
   "metadata": {
    "execution": {
     "iopub.execute_input": "2022-03-13T20:10:23.900713Z",
     "iopub.status.busy": "2022-03-13T20:10:23.899899Z",
     "iopub.status.idle": "2022-03-13T20:10:23.906961Z",
     "shell.execute_reply": "2022-03-13T20:10:23.907366Z"
    },
    "papermill": {
     "duration": 0.062899,
     "end_time": "2022-03-13T20:10:23.907500",
     "exception": false,
     "start_time": "2022-03-13T20:10:23.844601",
     "status": "completed"
    },
    "tags": []
   },
   "outputs": [],
   "source": [
    "model_prob = Model(layers[-2:]) "
   ]
  },
  {
   "cell_type": "code",
   "execution_count": 28,
   "id": "9b96e238",
   "metadata": {
    "execution": {
     "iopub.execute_input": "2022-03-13T20:10:24.037975Z",
     "iopub.status.busy": "2022-03-13T20:10:24.034996Z",
     "iopub.status.idle": "2022-03-13T20:10:24.044645Z",
     "shell.execute_reply": "2022-03-13T20:10:24.044141Z"
    },
    "papermill": {
     "duration": 0.065047,
     "end_time": "2022-03-13T20:10:24.044758",
     "exception": false,
     "start_time": "2022-03-13T20:10:23.979711",
     "status": "completed"
    },
    "tags": []
   },
   "outputs": [],
   "source": [
    "#creating the x and y ranges according to the above generated plot.\n",
    "x_range = np.linspace(-4, 1, 100) \n",
    "y_range = np.linspace(-6, 6, 100) \n",
    "x_grid, y_grid = np.meshgrid(x_range, y_range) # x_grid and y_grig are of size 100 X 100\n",
    "\n",
    "# converting x_grid and y_grid to continuous arrays\n",
    "x_gridflat = np.ravel(x_grid)\n",
    "y_gridflat = np.ravel(y_grid)\n",
    "\n",
    "# The last layer of the current model takes two columns as input. Hence transpose of np.vstack() is required.\n",
    "X = np.vstack((x_gridflat, y_gridflat)).T\n",
    "\n",
    "prob_contour = model_prob(X).reshape(100,100) "
   ]
  },
  {
   "cell_type": "code",
   "execution_count": 29,
   "id": "da72499a",
   "metadata": {
    "execution": {
     "iopub.execute_input": "2022-03-13T20:10:24.138509Z",
     "iopub.status.busy": "2022-03-13T20:10:24.137980Z",
     "iopub.status.idle": "2022-03-13T20:10:24.375072Z",
     "shell.execute_reply": "2022-03-13T20:10:24.375489Z"
    },
    "papermill": {
     "duration": 0.287317,
     "end_time": "2022-03-13T20:10:24.375636",
     "exception": false,
     "start_time": "2022-03-13T20:10:24.088319",
     "status": "completed"
    },
    "tags": []
   },
   "outputs": [
    {
     "data": {
      "image/png": "[encoded data removed]",
      "text/plain": [
       "<Figure size 720x648 with 1 Axes>"
      ]
     },
     "metadata": {
      "needs_background": "light"
     },
     "output_type": "display_data"
    }
   ],
   "source": [
    "plt.figure(figsize=(10,9))\n",
    "plt.scatter(testing_plot[:,0], testing_plot[:,1], alpha = 0.1, c = y_test.ravel())\n",
    "contours = plt.contour(x_grid,y_grid,prob_contour)\n",
    "plt.title('Probability Contours')\n",
    "plt.clabel(contours, inline = True );"
   ]
  },
  {
   "cell_type": "code",
   "execution_count": null,
   "id": "e81b4ac7",
   "metadata": {
    "papermill": {
     "duration": 0.045705,
     "end_time": "2022-03-13T20:10:24.467702",
     "exception": false,
     "start_time": "2022-03-13T20:10:24.421997",
     "status": "completed"
    },
    "tags": []
   },
   "outputs": [],
   "source": []
  }
 ],
 "metadata": {
  "kernelspec": {
   "display_name": "Python 3",
   "language": "python",
   "name": "python3"
  },
  "language_info": {
   "codemirror_mode": {
    "name": "ipython",
    "version": 3
   },
   "file_extension": ".py",
   "mimetype": "text/x-python",
   "name": "python",
   "nbconvert_exporter": "python",
   "pygments_lexer": "ipython3",
   "version": "3.6.15"
  },
  "papermill": {
   "default_parameters": {},
   "duration": 98.658334,
   "end_time": "2022-03-13T20:10:24.932710",
   "environment_variables": {},
   "exception": null,
   "input_path": "2020-08-11-part2.ipynb",
   "output_path": "2020-08-11-part2.ipynb",
   "parameters": {},
   "start_time": "2022-03-13T20:08:46.274376",
   "version": "2.3.3"
  }
 },
 "nbformat": 4,
 "nbformat_minor": 5
}