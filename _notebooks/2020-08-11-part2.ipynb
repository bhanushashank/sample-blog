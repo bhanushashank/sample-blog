{
 "cells": [
  {
   "cell_type": "markdown",
   "id": "98380cd3",
   "metadata": {
    "papermill": {
     "duration": 0.025532,
     "end_time": "2022-05-04T10:09:56.776850",
     "exception": false,
     "start_time": "2022-05-04T10:09:56.751318",
     "status": "completed"
    },
    "tags": []
   },
   "source": [
    "# Distinguish Your Own Digits (DYOD)"
   ]
  },
  {
   "cell_type": "markdown",
   "id": "ef31240d",
   "metadata": {
    "papermill": {
     "duration": 0.022436,
     "end_time": "2022-05-04T10:09:56.821086",
     "exception": false,
     "start_time": "2022-05-04T10:09:56.798650",
     "status": "completed"
    },
    "tags": []
   },
   "source": [
    "You are going to write a classifier that distinguishes between the number 3 and number 8."
   ]
  },
  {
   "cell_type": "code",
   "execution_count": 1,
   "id": "b15c8646",
   "metadata": {
    "execution": {
     "iopub.execute_input": "2022-05-04T10:09:56.873368Z",
     "iopub.status.busy": "2022-05-04T10:09:56.872895Z",
     "iopub.status.idle": "2022-05-04T10:09:56.883323Z",
     "shell.execute_reply": "2022-05-04T10:09:56.882902Z"
    },
    "papermill": {
     "duration": 0.041295,
     "end_time": "2022-05-04T10:09:56.883442",
     "exception": false,
     "start_time": "2022-05-04T10:09:56.842147",
     "status": "completed"
    },
    "tags": []
   },
   "outputs": [],
   "source": [
    "%load_ext autoreload\n",
    "%autoreload 2"
   ]
  },
  {
   "cell_type": "code",
   "execution_count": 2,
   "id": "22ef38dc",
   "metadata": {
    "execution": {
     "iopub.execute_input": "2022-05-04T10:09:56.932324Z",
     "iopub.status.busy": "2022-05-04T10:09:56.931858Z",
     "iopub.status.idle": "2022-05-04T10:09:57.472287Z",
     "shell.execute_reply": "2022-05-04T10:09:57.471755Z"
    },
    "papermill": {
     "duration": 0.567656,
     "end_time": "2022-05-04T10:09:57.472422",
     "exception": false,
     "start_time": "2022-05-04T10:09:56.904766",
     "status": "completed"
    },
    "tags": []
   },
   "outputs": [],
   "source": [
    "%matplotlib inline\n",
    "import numpy as np\n",
    "import matplotlib.pyplot as plt\n",
    "import pandas as pd"
   ]
  },
  {
   "cell_type": "markdown",
   "id": "ba036198",
   "metadata": {
    "papermill": {
     "duration": 0.021291,
     "end_time": "2022-05-04T10:09:57.516623",
     "exception": false,
     "start_time": "2022-05-04T10:09:57.495332",
     "status": "completed"
    },
    "tags": []
   },
   "source": [
    "From the command line run `pip install mnist`. This is a library that will help you bring down the mnist dataset. If you run this from a notebook, you need to put  `!pip install mnist` in a cell by itself."
   ]
  },
  {
   "cell_type": "code",
   "execution_count": 3,
   "id": "bb6ad8a1",
   "metadata": {
    "execution": {
     "iopub.execute_input": "2022-05-04T10:09:57.564245Z",
     "iopub.status.busy": "2022-05-04T10:09:57.563775Z",
     "iopub.status.idle": "2022-05-04T10:10:00.045331Z",
     "shell.execute_reply": "2022-05-04T10:10:00.044838Z"
    },
    "papermill": {
     "duration": 2.507475,
     "end_time": "2022-05-04T10:10:00.045446",
     "exception": false,
     "start_time": "2022-05-04T10:09:57.537971",
     "status": "completed"
    },
    "tags": []
   },
   "outputs": [
    {
     "name": "stdout",
     "output_type": "stream",
     "text": [
      "Collecting mnist\r\n"
     ]
    },
    {
     "name": "stdout",
     "output_type": "stream",
     "text": [
      "  Downloading mnist-0.2.2-py2.py3-none-any.whl (3.5 kB)\r\n",
      "Requirement already satisfied: numpy in /opt/hostedtoolcache/Python/3.6.15/x64/lib/python3.6/site-packages (from mnist) (1.19.5)\r\n"
     ]
    },
    {
     "name": "stdout",
     "output_type": "stream",
     "text": [
      "Installing collected packages: mnist\r\n"
     ]
    },
    {
     "name": "stdout",
     "output_type": "stream",
     "text": [
      "Successfully installed mnist-0.2.2\r\n"
     ]
    }
   ],
   "source": [
    "!pip install mnist"
   ]
  },
  {
   "cell_type": "markdown",
   "id": "69df9c9a",
   "metadata": {
    "papermill": {
     "duration": 0.025161,
     "end_time": "2022-05-04T10:10:00.095819",
     "exception": false,
     "start_time": "2022-05-04T10:10:00.070658",
     "status": "completed"
    },
    "tags": []
   },
   "source": [
    "## Preparing the Data"
   ]
  },
  {
   "cell_type": "code",
   "execution_count": 4,
   "id": "7f69d806",
   "metadata": {
    "execution": {
     "iopub.execute_input": "2022-05-04T10:10:00.164204Z",
     "iopub.status.busy": "2022-05-04T10:10:00.150588Z",
     "iopub.status.idle": "2022-05-04T10:10:00.169181Z",
     "shell.execute_reply": "2022-05-04T10:10:00.168757Z"
    },
    "papermill": {
     "duration": 0.048017,
     "end_time": "2022-05-04T10:10:00.169296",
     "exception": false,
     "start_time": "2022-05-04T10:10:00.121279",
     "status": "completed"
    },
    "tags": []
   },
   "outputs": [],
   "source": [
    "import mnist"
   ]
  },
  {
   "cell_type": "code",
   "execution_count": 5,
   "id": "a411e44f",
   "metadata": {
    "execution": {
     "iopub.execute_input": "2022-05-04T10:10:00.226760Z",
     "iopub.status.busy": "2022-05-04T10:10:00.226254Z",
     "iopub.status.idle": "2022-05-04T10:10:00.859221Z",
     "shell.execute_reply": "2022-05-04T10:10:00.858618Z"
    },
    "papermill": {
     "duration": 0.664719,
     "end_time": "2022-05-04T10:10:00.859358",
     "exception": false,
     "start_time": "2022-05-04T10:10:00.194639",
     "status": "completed"
    },
    "tags": []
   },
   "outputs": [],
   "source": [
    "train_images = mnist.train_images()\n",
    "train_labels = mnist.train_labels()"
   ]
  },
  {
   "cell_type": "code",
   "execution_count": 6,
   "id": "dceab3a5",
   "metadata": {
    "execution": {
     "iopub.execute_input": "2022-05-04T10:10:00.915052Z",
     "iopub.status.busy": "2022-05-04T10:10:00.914508Z",
     "iopub.status.idle": "2022-05-04T10:10:00.924934Z",
     "shell.execute_reply": "2022-05-04T10:10:00.924538Z"
    },
    "papermill": {
     "duration": 0.043175,
     "end_time": "2022-05-04T10:10:00.925036",
     "exception": false,
     "start_time": "2022-05-04T10:10:00.881861",
     "status": "completed"
    },
    "tags": []
   },
   "outputs": [
    {
     "data": {
      "text/plain": [
       "((60000, 28, 28), (60000,))"
      ]
     },
     "execution_count": 6,
     "metadata": {},
     "output_type": "execute_result"
    }
   ],
   "source": [
    "train_images.shape, train_labels.shape"
   ]
  },
  {
   "cell_type": "code",
   "execution_count": 7,
   "id": "f50dc2bb",
   "metadata": {
    "execution": {
     "iopub.execute_input": "2022-05-04T10:10:00.976201Z",
     "iopub.status.busy": "2022-05-04T10:10:00.975738Z",
     "iopub.status.idle": "2022-05-04T10:10:01.225419Z",
     "shell.execute_reply": "2022-05-04T10:10:01.224882Z"
    },
    "papermill": {
     "duration": 0.277947,
     "end_time": "2022-05-04T10:10:01.225555",
     "exception": false,
     "start_time": "2022-05-04T10:10:00.947608",
     "status": "completed"
    },
    "tags": []
   },
   "outputs": [],
   "source": [
    "test_images = mnist.test_images()\n",
    "test_labels = mnist.test_labels()"
   ]
  },
  {
   "cell_type": "code",
   "execution_count": 8,
   "id": "fc38cf1b",
   "metadata": {
    "execution": {
     "iopub.execute_input": "2022-05-04T10:10:01.274638Z",
     "iopub.status.busy": "2022-05-04T10:10:01.274178Z",
     "iopub.status.idle": "2022-05-04T10:10:01.287603Z",
     "shell.execute_reply": "2022-05-04T10:10:01.287201Z"
    },
    "papermill": {
     "duration": 0.039105,
     "end_time": "2022-05-04T10:10:01.287707",
     "exception": false,
     "start_time": "2022-05-04T10:10:01.248602",
     "status": "completed"
    },
    "tags": []
   },
   "outputs": [
    {
     "data": {
      "text/plain": [
       "((10000, 28, 28), (10000,))"
      ]
     },
     "execution_count": 8,
     "metadata": {},
     "output_type": "execute_result"
    }
   ],
   "source": [
    "test_images.shape, test_labels.shape"
   ]
  },
  {
   "cell_type": "code",
   "execution_count": 9,
   "id": "f9ed8fe0",
   "metadata": {
    "execution": {
     "iopub.execute_input": "2022-05-04T10:10:01.340221Z",
     "iopub.status.busy": "2022-05-04T10:10:01.339745Z",
     "iopub.status.idle": "2022-05-04T10:10:01.474515Z",
     "shell.execute_reply": "2022-05-04T10:10:01.475025Z"
    },
    "papermill": {
     "duration": 0.164792,
     "end_time": "2022-05-04T10:10:01.475181",
     "exception": false,
     "start_time": "2022-05-04T10:10:01.310389",
     "status": "completed"
    },
    "tags": []
   },
   "outputs": [
    {
     "name": "stdout",
     "output_type": "stream",
     "text": [
      "2\n"
     ]
    },
    {
     "data": {
      "text/plain": [
       "<matplotlib.image.AxesImage at 0x7f6c229bb390>"
      ]
     },
     "execution_count": 9,
     "metadata": {},
     "output_type": "execute_result"
    },
    {
     "data": {
      "image/png": "[encoded data removed]",
      "text/plain": [
       "<Figure size 432x288 with 1 Axes>"
      ]
     },
     "metadata": {
      "needs_background": "light"
     },
     "output_type": "display_data"
    }
   ],
   "source": [
    "image_index = 7776 # You may select anything up to 60,000\n",
    "print(train_labels[image_index]) \n",
    "plt.imshow(train_images[image_index], cmap='Greys')"
   ]
  },
  {
   "cell_type": "markdown",
   "id": "a8d2388d",
   "metadata": {
    "papermill": {
     "duration": 0.02385,
     "end_time": "2022-05-04T10:10:01.524203",
     "exception": false,
     "start_time": "2022-05-04T10:10:01.500353",
     "status": "completed"
    },
    "tags": []
   },
   "source": [
    "## Filter data to get 3 and 8 out"
   ]
  },
  {
   "cell_type": "code",
   "execution_count": 10,
   "id": "776f7fc7",
   "metadata": {
    "execution": {
     "iopub.execute_input": "2022-05-04T10:10:01.575735Z",
     "iopub.status.busy": "2022-05-04T10:10:01.575232Z",
     "iopub.status.idle": "2022-05-04T10:10:01.593351Z",
     "shell.execute_reply": "2022-05-04T10:10:01.592908Z"
    },
    "papermill": {
     "duration": 0.045496,
     "end_time": "2022-05-04T10:10:01.593464",
     "exception": false,
     "start_time": "2022-05-04T10:10:01.547968",
     "status": "completed"
    },
    "tags": []
   },
   "outputs": [],
   "source": [
    "train_filter = np.where((train_labels == 3 ) | (train_labels == 8))\n",
    "test_filter = np.where((test_labels == 3) | (test_labels == 8))\n",
    "X_train, y_train = train_images[train_filter], train_labels[train_filter]\n",
    "X_test, y_test = test_images[test_filter], test_labels[test_filter]"
   ]
  },
  {
   "cell_type": "markdown",
   "id": "948f0b7e",
   "metadata": {
    "papermill": {
     "duration": 0.024031,
     "end_time": "2022-05-04T10:10:01.641322",
     "exception": false,
     "start_time": "2022-05-04T10:10:01.617291",
     "status": "completed"
    },
    "tags": []
   },
   "source": [
    "We normalize the pizel values in the 0 to 1 range"
   ]
  },
  {
   "cell_type": "code",
   "execution_count": 11,
   "id": "ee4c2166",
   "metadata": {
    "execution": {
     "iopub.execute_input": "2022-05-04T10:10:01.696249Z",
     "iopub.status.busy": "2022-05-04T10:10:01.695783Z",
     "iopub.status.idle": "2022-05-04T10:10:01.741155Z",
     "shell.execute_reply": "2022-05-04T10:10:01.740641Z"
    },
    "papermill": {
     "duration": 0.076327,
     "end_time": "2022-05-04T10:10:01.741290",
     "exception": false,
     "start_time": "2022-05-04T10:10:01.664963",
     "status": "completed"
    },
    "tags": []
   },
   "outputs": [],
   "source": [
    "X_train = X_train/255.\n",
    "X_test = X_test/255."
   ]
  },
  {
   "cell_type": "markdown",
   "id": "ddcf4fab",
   "metadata": {
    "papermill": {
     "duration": 0.023984,
     "end_time": "2022-05-04T10:10:01.790553",
     "exception": false,
     "start_time": "2022-05-04T10:10:01.766569",
     "status": "completed"
    },
    "tags": []
   },
   "source": [
    "And setup the labels as 1 (when the digit is 3) and 0 (when the digit is 8)"
   ]
  },
  {
   "cell_type": "code",
   "execution_count": 12,
   "id": "7dc908f2",
   "metadata": {
    "execution": {
     "iopub.execute_input": "2022-05-04T10:10:01.844277Z",
     "iopub.status.busy": "2022-05-04T10:10:01.843780Z",
     "iopub.status.idle": "2022-05-04T10:10:01.854984Z",
     "shell.execute_reply": "2022-05-04T10:10:01.854568Z"
    },
    "papermill": {
     "duration": 0.040899,
     "end_time": "2022-05-04T10:10:01.855108",
     "exception": false,
     "start_time": "2022-05-04T10:10:01.814209",
     "status": "completed"
    },
    "tags": []
   },
   "outputs": [],
   "source": [
    "y_train = 1*(y_train==3)\n",
    "y_test = 1*(y_test==3)"
   ]
  },
  {
   "cell_type": "code",
   "execution_count": 13,
   "id": "01e4e969",
   "metadata": {
    "execution": {
     "iopub.execute_input": "2022-05-04T10:10:01.906546Z",
     "iopub.status.busy": "2022-05-04T10:10:01.906083Z",
     "iopub.status.idle": "2022-05-04T10:10:01.919545Z",
     "shell.execute_reply": "2022-05-04T10:10:01.919163Z"
    },
    "papermill": {
     "duration": 0.040797,
     "end_time": "2022-05-04T10:10:01.919650",
     "exception": false,
     "start_time": "2022-05-04T10:10:01.878853",
     "status": "completed"
    },
    "tags": []
   },
   "outputs": [
    {
     "data": {
      "text/plain": [
       "((11982, 28, 28), (1984, 28, 28))"
      ]
     },
     "execution_count": 13,
     "metadata": {},
     "output_type": "execute_result"
    }
   ],
   "source": [
    "X_train.shape, X_test.shape"
   ]
  },
  {
   "cell_type": "markdown",
   "id": "5ccf3f85",
   "metadata": {
    "papermill": {
     "duration": 0.024303,
     "end_time": "2022-05-04T10:10:01.967803",
     "exception": false,
     "start_time": "2022-05-04T10:10:01.943500",
     "status": "completed"
    },
    "tags": []
   },
   "source": [
    "We reshape the data to flatten the image pixels into a set of features or co-variates:"
   ]
  },
  {
   "cell_type": "code",
   "execution_count": 14,
   "id": "5286a4a3",
   "metadata": {
    "execution": {
     "iopub.execute_input": "2022-05-04T10:10:02.019837Z",
     "iopub.status.busy": "2022-05-04T10:10:02.019365Z",
     "iopub.status.idle": "2022-05-04T10:10:02.033432Z",
     "shell.execute_reply": "2022-05-04T10:10:02.033033Z"
    },
    "papermill": {
     "duration": 0.041836,
     "end_time": "2022-05-04T10:10:02.033532",
     "exception": false,
     "start_time": "2022-05-04T10:10:01.991696",
     "status": "completed"
    },
    "tags": []
   },
   "outputs": [
    {
     "data": {
      "text/plain": [
       "((11982, 784), (1984, 784))"
      ]
     },
     "execution_count": 14,
     "metadata": {},
     "output_type": "execute_result"
    }
   ],
   "source": [
    "X_train = X_train.reshape(X_train.shape[0], -1)\n",
    "X_test = X_test.reshape(X_test.shape[0], -1)\n",
    "X_train.shape, X_test.shape"
   ]
  },
  {
   "cell_type": "code",
   "execution_count": 15,
   "id": "73c5f88a",
   "metadata": {
    "execution": {
     "iopub.execute_input": "2022-05-04T10:10:02.085909Z",
     "iopub.status.busy": "2022-05-04T10:10:02.085435Z",
     "iopub.status.idle": "2022-05-04T10:10:02.103347Z",
     "shell.execute_reply": "2022-05-04T10:10:02.103735Z"
    },
    "papermill": {
     "duration": 0.046081,
     "end_time": "2022-05-04T10:10:02.103860",
     "exception": false,
     "start_time": "2022-05-04T10:10:02.057779",
     "status": "completed"
    },
    "tags": []
   },
   "outputs": [],
   "source": [
    "#Impoting functions from 'Kudzu'\n",
    "from kudzu.model import Model\n",
    "from kudzu.train import Learner\n",
    "from kudzu.optim import GD\n",
    "from kudzu.data import Data, Sampler,Dataloader\n",
    "\n",
    "from kudzu.callbacks import AccCallback\n",
    "from kudzu.callbacks import ClfCallback\n",
    "\n",
    "from kudzu.loss import MSE\n",
    "\n",
    "from kudzu.layer import Sigmoid,Relu\n",
    "from kudzu.layer import Affine"
   ]
  },
  {
   "cell_type": "markdown",
   "id": "bc01172a",
   "metadata": {
    "papermill": {
     "duration": 0.024424,
     "end_time": "2022-05-04T10:10:02.152892",
     "exception": false,
     "start_time": "2022-05-04T10:10:02.128468",
     "status": "completed"
    },
    "tags": []
   },
   "source": [
    "### Let us create a `Config` class, to store important parameters. \n",
    "This class essentially plays the role of a dictionary."
   ]
  },
  {
   "cell_type": "code",
   "execution_count": 16,
   "id": "978281aa",
   "metadata": {
    "execution": {
     "iopub.execute_input": "2022-05-04T10:10:02.205097Z",
     "iopub.status.busy": "2022-05-04T10:10:02.204200Z",
     "iopub.status.idle": "2022-05-04T10:10:02.217176Z",
     "shell.execute_reply": "2022-05-04T10:10:02.216803Z"
    },
    "papermill": {
     "duration": 0.040403,
     "end_time": "2022-05-04T10:10:02.217279",
     "exception": false,
     "start_time": "2022-05-04T10:10:02.176876",
     "status": "completed"
    },
    "tags": []
   },
   "outputs": [],
   "source": [
    "class Config:\n",
    "    pass\n",
    "config = Config()\n",
    "config.lr = 0.001\n",
    "config.num_epochs = 250\n",
    "config.bs = 50"
   ]
  },
  {
   "cell_type": "markdown",
   "id": "1385fa59",
   "metadata": {
    "papermill": {
     "duration": 0.024473,
     "end_time": "2022-05-04T10:10:02.266052",
     "exception": false,
     "start_time": "2022-05-04T10:10:02.241579",
     "status": "completed"
    },
    "tags": []
   },
   "source": [
    "### Running Models with the Training data\n",
    "Details about the network layers:\n",
    "- A first affine layer has 784 inputs and does 100 affine transforms. These are followed by a Relu\n",
    "- A second affine layer has 100 inputs from the 100 activations of the past layer, and does 100 affine transforms. These are followed by a Relu\n",
    "- A third affine layer has 100 activations and does 2 affine transformations to create an embedding for visualization. There is no non-linearity here.\n",
    "- A final \"logistic regression\" which has an affine transform from 2 inputs to 1 output, which is squeezed through a sigmoid.\n"
   ]
  },
  {
   "cell_type": "code",
   "execution_count": 17,
   "id": "2b9c66db",
   "metadata": {
    "execution": {
     "iopub.execute_input": "2022-05-04T10:10:02.318201Z",
     "iopub.status.busy": "2022-05-04T10:10:02.317736Z",
     "iopub.status.idle": "2022-05-04T10:10:02.330474Z",
     "shell.execute_reply": "2022-05-04T10:10:02.330087Z"
    },
    "papermill": {
     "duration": 0.040467,
     "end_time": "2022-05-04T10:10:02.330583",
     "exception": false,
     "start_time": "2022-05-04T10:10:02.290116",
     "status": "completed"
    },
    "tags": []
   },
   "outputs": [],
   "source": [
    "data = Data(X_train, y_train.reshape(-1,1))\n",
    "sampler = Sampler(data, config.bs, shuffle=True)\n",
    "\n",
    "dl = Dataloader(data, sampler)\n",
    "\n",
    "opt = GD(config.lr)\n",
    "loss = MSE()"
   ]
  },
  {
   "cell_type": "code",
   "execution_count": 18,
   "id": "b275e4c2",
   "metadata": {
    "execution": {
     "iopub.execute_input": "2022-05-04T10:10:02.396413Z",
     "iopub.status.busy": "2022-05-04T10:10:02.395907Z",
     "iopub.status.idle": "2022-05-04T10:10:02.402145Z",
     "shell.execute_reply": "2022-05-04T10:10:02.402502Z"
    },
    "papermill": {
     "duration": 0.047683,
     "end_time": "2022-05-04T10:10:02.402631",
     "exception": false,
     "start_time": "2022-05-04T10:10:02.354948",
     "status": "completed"
    },
    "tags": []
   },
   "outputs": [],
   "source": [
    "training_data_x = X_train\n",
    "testing_data_x = X_test\n",
    "training_data_y = y_train.reshape(-1,1)\n",
    "testing_data_y = y_test.reshape(-1,1)"
   ]
  },
  {
   "cell_type": "code",
   "execution_count": 19,
   "id": "76951160",
   "metadata": {
    "execution": {
     "iopub.execute_input": "2022-05-04T10:10:02.468989Z",
     "iopub.status.busy": "2022-05-04T10:10:02.466482Z",
     "iopub.status.idle": "2022-05-04T10:10:02.476682Z",
     "shell.execute_reply": "2022-05-04T10:10:02.475739Z"
    },
    "papermill": {
     "duration": 0.04998,
     "end_time": "2022-05-04T10:10:02.476791",
     "exception": false,
     "start_time": "2022-05-04T10:10:02.426811",
     "status": "completed"
    },
    "tags": []
   },
   "outputs": [
    {
     "name": "stdout",
     "output_type": "stream",
     "text": [
      "xavier\n",
      "xavier\n",
      "xavier\n",
      "xavier\n",
      "xavier\n"
     ]
    }
   ],
   "source": [
    "layers = [Affine(\"first\", 784, 100), Relu(\"first\"), Affine(\"second\", 100, 100), Relu(\"second\"), Affine(\"third\", 100, 2), Affine(\"last\", 2, 1), Sigmoid(\"last\")]\n",
    "model_nn = Model(layers)\n",
    "model_lr = Model([Affine(\"logits\", 784, 1), Sigmoid(\"sigmoid\")])"
   ]
  },
  {
   "cell_type": "code",
   "execution_count": 20,
   "id": "6eede77a",
   "metadata": {
    "execution": {
     "iopub.execute_input": "2022-05-04T10:10:02.542708Z",
     "iopub.status.busy": "2022-05-04T10:10:02.536790Z",
     "iopub.status.idle": "2022-05-04T10:10:02.544991Z",
     "shell.execute_reply": "2022-05-04T10:10:02.544607Z"
    },
    "papermill": {
     "duration": 0.043795,
     "end_time": "2022-05-04T10:10:02.545095",
     "exception": false,
     "start_time": "2022-05-04T10:10:02.501300",
     "status": "completed"
    },
    "tags": []
   },
   "outputs": [],
   "source": [
    "nn_learner = Learner(loss, model_nn, opt, config.num_epochs)\n",
    "acc_nn = ClfCallback(nn_learner, config.bs, training_data_x , testing_data_x, training_data_y, testing_data_y)\n",
    "nn_learner.set_callbacks([acc_nn])"
   ]
  },
  {
   "cell_type": "code",
   "execution_count": 21,
   "id": "877b6cc7",
   "metadata": {
    "execution": {
     "iopub.execute_input": "2022-05-04T10:10:02.597999Z",
     "iopub.status.busy": "2022-05-04T10:10:02.597533Z",
     "iopub.status.idle": "2022-05-04T10:10:02.610037Z",
     "shell.execute_reply": "2022-05-04T10:10:02.609644Z"
    },
    "papermill": {
     "duration": 0.040507,
     "end_time": "2022-05-04T10:10:02.610136",
     "exception": false,
     "start_time": "2022-05-04T10:10:02.569629",
     "status": "completed"
    },
    "tags": []
   },
   "outputs": [],
   "source": [
    "lr_learner = Learner(loss, model_lr, opt, config.num_epochs)\n",
    "acc_lr = ClfCallback(lr_learner, config.bs, training_data_x , testing_data_x, training_data_y, testing_data_y)\n",
    "lr_learner.set_callbacks([acc_lr])"
   ]
  },
  {
   "cell_type": "code",
   "execution_count": 22,
   "id": "d9b133c3",
   "metadata": {
    "execution": {
     "iopub.execute_input": "2022-05-04T10:10:02.671691Z",
     "iopub.status.busy": "2022-05-04T10:10:02.670583Z",
     "iopub.status.idle": "2022-05-04T10:11:20.789094Z",
     "shell.execute_reply": "2022-05-04T10:11:20.789768Z"
    },
    "papermill": {
     "duration": 78.155219,
     "end_time": "2022-05-04T10:11:20.789902",
     "exception": false,
     "start_time": "2022-05-04T10:10:02.634683",
     "status": "completed"
    },
    "tags": []
   },
   "outputs": [
    {
     "name": "stdout",
     "output_type": "stream",
     "text": [
      "Epoch 0, Loss 0.2505\n",
      "Training Accuracy: 0.5910, Testing Accuracy: 0.5680\n",
      "\n"
     ]
    },
    {
     "name": "stdout",
     "output_type": "stream",
     "text": [
      "Epoch 10, Loss 0.1274\n",
      "Training Accuracy: 0.8969, Testing Accuracy: 0.9068\n",
      "\n"
     ]
    },
    {
     "name": "stdout",
     "output_type": "stream",
     "text": [
      "Epoch 20, Loss 0.0686\n",
      "Training Accuracy: 0.9303, Testing Accuracy: 0.9451\n",
      "\n"
     ]
    },
    {
     "name": "stdout",
     "output_type": "stream",
     "text": [
      "Epoch 30, Loss 0.0495\n",
      "Training Accuracy: 0.9471, Testing Accuracy: 0.9572\n",
      "\n"
     ]
    },
    {
     "name": "stdout",
     "output_type": "stream",
     "text": [
      "Epoch 40, Loss 0.0409\n",
      "Training Accuracy: 0.9554, Testing Accuracy: 0.9632\n",
      "\n"
     ]
    },
    {
     "name": "stdout",
     "output_type": "stream",
     "text": [
      "Epoch 50, Loss 0.0363\n",
      "Training Accuracy: 0.9586, Testing Accuracy: 0.9682\n",
      "\n"
     ]
    },
    {
     "name": "stdout",
     "output_type": "stream",
     "text": [
      "Epoch 60, Loss 0.0333\n",
      "Training Accuracy: 0.9607, Testing Accuracy: 0.9703\n",
      "\n"
     ]
    },
    {
     "name": "stdout",
     "output_type": "stream",
     "text": [
      "Epoch 70, Loss 0.0311\n",
      "Training Accuracy: 0.9634, Testing Accuracy: 0.9713\n",
      "\n"
     ]
    },
    {
     "name": "stdout",
     "output_type": "stream",
     "text": [
      "Epoch 80, Loss 0.0294\n",
      "Training Accuracy: 0.9658, Testing Accuracy: 0.9713\n",
      "\n"
     ]
    },
    {
     "name": "stdout",
     "output_type": "stream",
     "text": [
      "Epoch 90, Loss 0.028\n",
      "Training Accuracy: 0.9670, Testing Accuracy: 0.9713\n",
      "\n"
     ]
    },
    {
     "name": "stdout",
     "output_type": "stream",
     "text": [
      "Epoch 100, Loss 0.0269\n",
      "Training Accuracy: 0.9680, Testing Accuracy: 0.9698\n",
      "\n"
     ]
    },
    {
     "name": "stdout",
     "output_type": "stream",
     "text": [
      "Epoch 110, Loss 0.0259\n",
      "Training Accuracy: 0.9695, Testing Accuracy: 0.9703\n",
      "\n"
     ]
    },
    {
     "name": "stdout",
     "output_type": "stream",
     "text": [
      "Epoch 120, Loss 0.025\n",
      "Training Accuracy: 0.9708, Testing Accuracy: 0.9718\n",
      "\n"
     ]
    },
    {
     "name": "stdout",
     "output_type": "stream",
     "text": [
      "Epoch 130, Loss 0.0242\n",
      "Training Accuracy: 0.9723, Testing Accuracy: 0.9713\n",
      "\n"
     ]
    },
    {
     "name": "stdout",
     "output_type": "stream",
     "text": [
      "Epoch 140, Loss 0.0235\n",
      "Training Accuracy: 0.9728, Testing Accuracy: 0.9708\n",
      "\n"
     ]
    },
    {
     "name": "stdout",
     "output_type": "stream",
     "text": [
      "Epoch 150, Loss 0.0229\n",
      "Training Accuracy: 0.9733, Testing Accuracy: 0.9713\n",
      "\n"
     ]
    },
    {
     "name": "stdout",
     "output_type": "stream",
     "text": [
      "Epoch 160, Loss 0.0223\n",
      "Training Accuracy: 0.9741, Testing Accuracy: 0.9713\n",
      "\n"
     ]
    },
    {
     "name": "stdout",
     "output_type": "stream",
     "text": [
      "Epoch 170, Loss 0.0217\n",
      "Training Accuracy: 0.9748, Testing Accuracy: 0.9713\n",
      "\n"
     ]
    },
    {
     "name": "stdout",
     "output_type": "stream",
     "text": [
      "Epoch 180, Loss 0.0212\n",
      "Training Accuracy: 0.9752, Testing Accuracy: 0.9708\n",
      "\n"
     ]
    },
    {
     "name": "stdout",
     "output_type": "stream",
     "text": [
      "Epoch 190, Loss 0.0207\n",
      "Training Accuracy: 0.9757, Testing Accuracy: 0.9713\n",
      "\n"
     ]
    },
    {
     "name": "stdout",
     "output_type": "stream",
     "text": [
      "Epoch 200, Loss 0.0202\n",
      "Training Accuracy: 0.9764, Testing Accuracy: 0.9733\n",
      "\n"
     ]
    },
    {
     "name": "stdout",
     "output_type": "stream",
     "text": [
      "Epoch 210, Loss 0.0197\n",
      "Training Accuracy: 0.9768, Testing Accuracy: 0.9733\n",
      "\n"
     ]
    },
    {
     "name": "stdout",
     "output_type": "stream",
     "text": [
      "Epoch 220, Loss 0.0193\n",
      "Training Accuracy: 0.9774, Testing Accuracy: 0.9733\n",
      "\n"
     ]
    },
    {
     "name": "stdout",
     "output_type": "stream",
     "text": [
      "Epoch 230, Loss 0.0189\n",
      "Training Accuracy: 0.9779, Testing Accuracy: 0.9738\n",
      "\n"
     ]
    },
    {
     "name": "stdout",
     "output_type": "stream",
     "text": [
      "Epoch 240, Loss 0.0185\n",
      "Training Accuracy: 0.9788, Testing Accuracy: 0.9733\n",
      "\n"
     ]
    },
    {
     "data": {
      "text/plain": [
       "0.004150744901372045"
      ]
     },
     "execution_count": 22,
     "metadata": {},
     "output_type": "execute_result"
    }
   ],
   "source": [
    "nn_learner.train_loop(dl)"
   ]
  },
  {
   "cell_type": "code",
   "execution_count": 23,
   "id": "e0163366",
   "metadata": {
    "execution": {
     "iopub.execute_input": "2022-05-04T10:11:20.860909Z",
     "iopub.status.busy": "2022-05-04T10:11:20.860423Z",
     "iopub.status.idle": "2022-05-04T10:11:34.729133Z",
     "shell.execute_reply": "2022-05-04T10:11:34.729823Z"
    },
    "papermill": {
     "duration": 13.909271,
     "end_time": "2022-05-04T10:11:34.729959",
     "exception": false,
     "start_time": "2022-05-04T10:11:20.820688",
     "status": "completed"
    },
    "tags": []
   },
   "outputs": [
    {
     "name": "stdout",
     "output_type": "stream",
     "text": [
      "Epoch 0, Loss 0.2453\n",
      "Training Accuracy: 0.6892, Testing Accuracy: 0.6820\n",
      "\n"
     ]
    },
    {
     "name": "stdout",
     "output_type": "stream",
     "text": [
      "Epoch 10, Loss 0.0984\n",
      "Training Accuracy: 0.9227, Testing Accuracy: 0.9355\n",
      "\n"
     ]
    },
    {
     "name": "stdout",
     "output_type": "stream",
     "text": [
      "Epoch 20, Loss 0.076\n",
      "Training Accuracy: 0.9359, Testing Accuracy: 0.9451\n",
      "\n"
     ]
    },
    {
     "name": "stdout",
     "output_type": "stream",
     "text": [
      "Epoch 30, Loss 0.0659\n",
      "Training Accuracy: 0.9407, Testing Accuracy: 0.9471\n",
      "\n"
     ]
    },
    {
     "name": "stdout",
     "output_type": "stream",
     "text": [
      "Epoch 40, Loss 0.0599\n",
      "Training Accuracy: 0.9440, Testing Accuracy: 0.9506\n",
      "\n"
     ]
    },
    {
     "name": "stdout",
     "output_type": "stream",
     "text": [
      "Epoch 50, Loss 0.0558\n",
      "Training Accuracy: 0.9463, Testing Accuracy: 0.9531\n",
      "\n"
     ]
    },
    {
     "name": "stdout",
     "output_type": "stream",
     "text": [
      "Epoch 60, Loss 0.0527\n",
      "Training Accuracy: 0.9479, Testing Accuracy: 0.9556\n",
      "\n"
     ]
    },
    {
     "name": "stdout",
     "output_type": "stream",
     "text": [
      "Epoch 70, Loss 0.0503\n",
      "Training Accuracy: 0.9496, Testing Accuracy: 0.9577\n",
      "\n"
     ]
    },
    {
     "name": "stdout",
     "output_type": "stream",
     "text": [
      "Epoch 80, Loss 0.0484\n",
      "Training Accuracy: 0.9507, Testing Accuracy: 0.9592\n",
      "\n"
     ]
    },
    {
     "name": "stdout",
     "output_type": "stream",
     "text": [
      "Epoch 90, Loss 0.0468\n",
      "Training Accuracy: 0.9523, Testing Accuracy: 0.9607\n",
      "\n"
     ]
    },
    {
     "name": "stdout",
     "output_type": "stream",
     "text": [
      "Epoch 100, Loss 0.0455\n",
      "Training Accuracy: 0.9535, Testing Accuracy: 0.9617\n",
      "\n"
     ]
    },
    {
     "name": "stdout",
     "output_type": "stream",
     "text": [
      "Epoch 110, Loss 0.0443\n",
      "Training Accuracy: 0.9544, Testing Accuracy: 0.9642\n",
      "\n"
     ]
    },
    {
     "name": "stdout",
     "output_type": "stream",
     "text": [
      "Epoch 120, Loss 0.0433\n",
      "Training Accuracy: 0.9553, Testing Accuracy: 0.9652\n",
      "\n"
     ]
    },
    {
     "name": "stdout",
     "output_type": "stream",
     "text": [
      "Epoch 130, Loss 0.0424\n",
      "Training Accuracy: 0.9553, Testing Accuracy: 0.9652\n",
      "\n"
     ]
    },
    {
     "name": "stdout",
     "output_type": "stream",
     "text": [
      "Epoch 140, Loss 0.0416\n",
      "Training Accuracy: 0.9561, Testing Accuracy: 0.9652\n",
      "\n"
     ]
    },
    {
     "name": "stdout",
     "output_type": "stream",
     "text": [
      "Epoch 150, Loss 0.0409\n",
      "Training Accuracy: 0.9571, Testing Accuracy: 0.9647\n",
      "\n"
     ]
    },
    {
     "name": "stdout",
     "output_type": "stream",
     "text": [
      "Epoch 160, Loss 0.0402\n",
      "Training Accuracy: 0.9574, Testing Accuracy: 0.9652\n",
      "\n"
     ]
    },
    {
     "name": "stdout",
     "output_type": "stream",
     "text": [
      "Epoch 170, Loss 0.0396\n",
      "Training Accuracy: 0.9576, Testing Accuracy: 0.9652\n",
      "\n"
     ]
    },
    {
     "name": "stdout",
     "output_type": "stream",
     "text": [
      "Epoch 180, Loss 0.0391\n",
      "Training Accuracy: 0.9580, Testing Accuracy: 0.9652\n",
      "\n"
     ]
    },
    {
     "name": "stdout",
     "output_type": "stream",
     "text": [
      "Epoch 190, Loss 0.0386\n",
      "Training Accuracy: 0.9585, Testing Accuracy: 0.9652\n",
      "\n"
     ]
    },
    {
     "name": "stdout",
     "output_type": "stream",
     "text": [
      "Epoch 200, Loss 0.0381\n",
      "Training Accuracy: 0.9587, Testing Accuracy: 0.9652\n",
      "\n"
     ]
    },
    {
     "name": "stdout",
     "output_type": "stream",
     "text": [
      "Epoch 210, Loss 0.0377\n",
      "Training Accuracy: 0.9594, Testing Accuracy: 0.9662\n",
      "\n"
     ]
    },
    {
     "name": "stdout",
     "output_type": "stream",
     "text": [
      "Epoch 220, Loss 0.0373\n",
      "Training Accuracy: 0.9599, Testing Accuracy: 0.9667\n",
      "\n"
     ]
    },
    {
     "name": "stdout",
     "output_type": "stream",
     "text": [
      "Epoch 230, Loss 0.0369\n",
      "Training Accuracy: 0.9603, Testing Accuracy: 0.9667\n",
      "\n"
     ]
    },
    {
     "name": "stdout",
     "output_type": "stream",
     "text": [
      "Epoch 240, Loss 0.0366\n",
      "Training Accuracy: 0.9606, Testing Accuracy: 0.9667\n",
      "\n"
     ]
    },
    {
     "data": {
      "text/plain": [
       "0.05049697125702727"
      ]
     },
     "execution_count": 23,
     "metadata": {},
     "output_type": "execute_result"
    }
   ],
   "source": [
    "lr_learner.train_loop(dl)"
   ]
  },
  {
   "cell_type": "code",
   "execution_count": 24,
   "id": "ca410940",
   "metadata": {
    "execution": {
     "iopub.execute_input": "2022-05-04T10:11:34.812732Z",
     "iopub.status.busy": "2022-05-04T10:11:34.812249Z",
     "iopub.status.idle": "2022-05-04T10:11:35.007946Z",
     "shell.execute_reply": "2022-05-04T10:11:35.007511Z"
    },
    "papermill": {
     "duration": 0.240805,
     "end_time": "2022-05-04T10:11:35.008062",
     "exception": false,
     "start_time": "2022-05-04T10:11:34.767257",
     "status": "completed"
    },
    "tags": []
   },
   "outputs": [
    {
     "data": {
      "text/plain": [
       "<matplotlib.legend.Legend at 0x7f6c22597b70>"
      ]
     },
     "execution_count": 24,
     "metadata": {},
     "output_type": "execute_result"
    },
    {
     "data": {
      "image/png": "[encoded data removed]",
      "text/plain": [
       "<Figure size 1080x720 with 1 Axes>"
      ]
     },
     "metadata": {
      "needs_background": "light"
     },
     "output_type": "display_data"
    }
   ],
   "source": [
    "#comparing the results of NN and LR\n",
    "plt.figure(figsize=(15,10))\n",
    "\n",
    "# Neural Network plots\n",
    "plt.plot(acc_nn.accuracies, 'r-', label = \"Training Accuracies - NN\")\n",
    "plt.plot(acc_nn.test_accuracies, 'g-', label = \"Testing Accuracies - NN\")\n",
    "\n",
    "# Logistic Regression plots\n",
    "plt.plot(acc_lr.accuracies, 'k-', label = \"Training Accuracies - LR\")\n",
    "plt.plot(acc_lr.test_accuracies, 'b-', label = \"Testing Accuracies - LR\")\n",
    "plt.legend()"
   ]
  },
  {
   "cell_type": "markdown",
   "id": "80dfb35c",
   "metadata": {
    "papermill": {
     "duration": 0.043717,
     "end_time": "2022-05-04T10:11:35.095041",
     "exception": false,
     "start_time": "2022-05-04T10:11:35.051324",
     "status": "completed"
    },
    "tags": []
   },
   "source": [
    "#### Plotting the outputs of this layer of the NN.\n"
   ]
  },
  {
   "cell_type": "code",
   "execution_count": 25,
   "id": "45eb2ff5",
   "metadata": {
    "execution": {
     "iopub.execute_input": "2022-05-04T10:11:35.187704Z",
     "iopub.status.busy": "2022-05-04T10:11:35.185098Z",
     "iopub.status.idle": "2022-05-04T10:11:35.203755Z",
     "shell.execute_reply": "2022-05-04T10:11:35.204179Z"
    },
    "papermill": {
     "duration": 0.066989,
     "end_time": "2022-05-04T10:11:35.204315",
     "exception": false,
     "start_time": "2022-05-04T10:11:35.137326",
     "status": "completed"
    },
    "tags": []
   },
   "outputs": [],
   "source": [
    "new_model = Model(layers[:-2])\n",
    "testing_plot = new_model(testing_data_x)"
   ]
  },
  {
   "cell_type": "code",
   "execution_count": 26,
   "id": "4c0a5485",
   "metadata": {
    "execution": {
     "iopub.execute_input": "2022-05-04T10:11:35.296933Z",
     "iopub.status.busy": "2022-05-04T10:11:35.294721Z",
     "iopub.status.idle": "2022-05-04T10:11:35.461666Z",
     "shell.execute_reply": "2022-05-04T10:11:35.462044Z"
    },
    "papermill": {
     "duration": 0.21517,
     "end_time": "2022-05-04T10:11:35.462175",
     "exception": false,
     "start_time": "2022-05-04T10:11:35.247005",
     "status": "completed"
    },
    "tags": []
   },
   "outputs": [
    {
     "data": {
      "text/plain": [
       "Text(0.5, 1.0, 'Outputs')"
      ]
     },
     "execution_count": 26,
     "metadata": {},
     "output_type": "execute_result"
    },
    {
     "data": {
      "image/png": "[encoded data removed]",
      "text/plain": [
       "<Figure size 576x504 with 1 Axes>"
      ]
     },
     "metadata": {
      "needs_background": "light"
     },
     "output_type": "display_data"
    }
   ],
   "source": [
    "# Plotting the scatter plot of points and color coding by class\n",
    "plt.figure(figsize=(8,7))\n",
    "plt.scatter(testing_plot[:,0], testing_plot[:,1], alpha = 0.1, c = y_test.ravel());\n",
    "plt.title('Outputs')"
   ]
  },
  {
   "cell_type": "markdown",
   "id": "a74fcf8f",
   "metadata": {
    "papermill": {
     "duration": 0.039381,
     "end_time": "2022-05-04T10:11:35.540922",
     "exception": false,
     "start_time": "2022-05-04T10:11:35.501541",
     "status": "completed"
    },
    "tags": []
   },
   "source": [
    "Probability contours"
   ]
  },
  {
   "cell_type": "code",
   "execution_count": 27,
   "id": "d0afc8e3",
   "metadata": {
    "execution": {
     "iopub.execute_input": "2022-05-04T10:11:35.631607Z",
     "iopub.status.busy": "2022-05-04T10:11:35.626734Z",
     "iopub.status.idle": "2022-05-04T10:11:35.638204Z",
     "shell.execute_reply": "2022-05-04T10:11:35.637794Z"
    },
    "papermill": {
     "duration": 0.058169,
     "end_time": "2022-05-04T10:11:35.638309",
     "exception": false,
     "start_time": "2022-05-04T10:11:35.580140",
     "status": "completed"
    },
    "tags": []
   },
   "outputs": [],
   "source": [
    "model_prob = Model(layers[-2:]) "
   ]
  },
  {
   "cell_type": "code",
   "execution_count": 28,
   "id": "9b96e238",
   "metadata": {
    "execution": {
     "iopub.execute_input": "2022-05-04T10:11:35.752641Z",
     "iopub.status.busy": "2022-05-04T10:11:35.752141Z",
     "iopub.status.idle": "2022-05-04T10:11:35.765924Z",
     "shell.execute_reply": "2022-05-04T10:11:35.766291Z"
    },
    "papermill": {
     "duration": 0.060198,
     "end_time": "2022-05-04T10:11:35.766424",
     "exception": false,
     "start_time": "2022-05-04T10:11:35.706226",
     "status": "completed"
    },
    "tags": []
   },
   "outputs": [],
   "source": [
    "#creating the x and y ranges according to the above generated plot.\n",
    "x_range = np.linspace(-4, 1, 100) \n",
    "y_range = np.linspace(-6, 6, 100) \n",
    "x_grid, y_grid = np.meshgrid(x_range, y_range) # x_grid and y_grig are of size 100 X 100\n",
    "\n",
    "# converting x_grid and y_grid to continuous arrays\n",
    "x_gridflat = np.ravel(x_grid)\n",
    "y_gridflat = np.ravel(y_grid)\n",
    "\n",
    "# The last layer of the current model takes two columns as input. Hence transpose of np.vstack() is required.\n",
    "X = np.vstack((x_gridflat, y_gridflat)).T\n",
    "\n",
    "prob_contour = model_prob(X).reshape(100,100) "
   ]
  },
  {
   "cell_type": "code",
   "execution_count": 29,
   "id": "da72499a",
   "metadata": {
    "execution": {
     "iopub.execute_input": "2022-05-04T10:11:35.849916Z",
     "iopub.status.busy": "2022-05-04T10:11:35.849412Z",
     "iopub.status.idle": "2022-05-04T10:11:36.085653Z",
     "shell.execute_reply": "2022-05-04T10:11:36.085152Z"
    },
    "papermill": {
     "duration": 0.280192,
     "end_time": "2022-05-04T10:11:36.085762",
     "exception": false,
     "start_time": "2022-05-04T10:11:35.805570",
     "status": "completed"
    },
    "tags": []
   },
   "outputs": [
    {
     "data": {
      "image/png": "[encoded data removed]",
      "text/plain": [
       "<Figure size 720x648 with 1 Axes>"
      ]
     },
     "metadata": {
      "needs_background": "light"
     },
     "output_type": "display_data"
    }
   ],
   "source": [
    "plt.figure(figsize=(10,9))\n",
    "plt.scatter(testing_plot[:,0], testing_plot[:,1], alpha = 0.1, c = y_test.ravel())\n",
    "contours = plt.contour(x_grid,y_grid,prob_contour)\n",
    "plt.title('Probability Contours')\n",
    "plt.clabel(contours, inline = True );"
   ]
  },
  {
   "cell_type": "code",
   "execution_count": null,
   "id": "e81b4ac7",
   "metadata": {
    "papermill": {
     "duration": 0.041302,
     "end_time": "2022-05-04T10:11:36.168786",
     "exception": false,
     "start_time": "2022-05-04T10:11:36.127484",
     "status": "completed"
    },
    "tags": []
   },
   "outputs": [],
   "source": []
  }
 ],
 "metadata": {
  "kernelspec": {
   "display_name": "Python 3",
   "language": "python",
   "name": "python3"
  },
  "language_info": {
   "codemirror_mode": {
    "name": "ipython",
    "version": 3
   },
   "file_extension": ".py",
   "mimetype": "text/x-python",
   "name": "python",
   "nbconvert_exporter": "python",
   "pygments_lexer": "ipython3",
   "version": "3.6.15"
  },
  "papermill": {
   "default_parameters": {},
   "duration": 100.78774,
   "end_time": "2022-05-04T10:11:36.629641",
   "environment_variables": {},
   "exception": null,
   "input_path": "2020-08-11-part2.ipynb",
   "output_path": "2020-08-11-part2.ipynb",
   "parameters": {},
   "start_time": "2022-05-04T10:09:55.841901",
   "version": "2.3.3"
  }
 },
 "nbformat": 4,
 "nbformat_minor": 5
}