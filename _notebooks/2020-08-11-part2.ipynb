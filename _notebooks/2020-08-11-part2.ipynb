{
 "cells": [
  {
   "cell_type": "markdown",
   "id": "98380cd3",
   "metadata": {
    "papermill": {
     "duration": 0.028389,
     "end_time": "2022-05-05T20:09:41.476842",
     "exception": false,
     "start_time": "2022-05-05T20:09:41.448453",
     "status": "completed"
    },
    "tags": []
   },
   "source": [
    "# Distinguish Your Own Digits (DYOD)"
   ]
  },
  {
   "cell_type": "markdown",
   "id": "ef31240d",
   "metadata": {
    "papermill": {
     "duration": 0.02586,
     "end_time": "2022-05-05T20:09:41.527092",
     "exception": false,
     "start_time": "2022-05-05T20:09:41.501232",
     "status": "completed"
    },
    "tags": []
   },
   "source": [
    "You are going to write a classifier that distinguishes between the number 3 and number 8."
   ]
  },
  {
   "cell_type": "code",
   "execution_count": 1,
   "id": "b15c8646",
   "metadata": {
    "execution": {
     "iopub.execute_input": "2022-05-05T20:09:41.584271Z",
     "iopub.status.busy": "2022-05-05T20:09:41.583706Z",
     "iopub.status.idle": "2022-05-05T20:09:41.593938Z",
     "shell.execute_reply": "2022-05-05T20:09:41.593507Z"
    },
    "papermill": {
     "duration": 0.043442,
     "end_time": "2022-05-05T20:09:41.594063",
     "exception": false,
     "start_time": "2022-05-05T20:09:41.550621",
     "status": "completed"
    },
    "tags": []
   },
   "outputs": [],
   "source": [
    "%load_ext autoreload\n",
    "%autoreload 2"
   ]
  },
  {
   "cell_type": "code",
   "execution_count": 2,
   "id": "22ef38dc",
   "metadata": {
    "execution": {
     "iopub.execute_input": "2022-05-05T20:09:41.656858Z",
     "iopub.status.busy": "2022-05-05T20:09:41.652591Z",
     "iopub.status.idle": "2022-05-05T20:09:42.161126Z",
     "shell.execute_reply": "2022-05-05T20:09:42.160600Z"
    },
    "papermill": {
     "duration": 0.543535,
     "end_time": "2022-05-05T20:09:42.161264",
     "exception": false,
     "start_time": "2022-05-05T20:09:41.617729",
     "status": "completed"
    },
    "tags": []
   },
   "outputs": [],
   "source": [
    "%matplotlib inline\n",
    "import numpy as np\n",
    "import matplotlib.pyplot as plt\n",
    "import pandas as pd"
   ]
  },
  {
   "cell_type": "markdown",
   "id": "ba036198",
   "metadata": {
    "papermill": {
     "duration": 0.023676,
     "end_time": "2022-05-05T20:09:42.209121",
     "exception": false,
     "start_time": "2022-05-05T20:09:42.185445",
     "status": "completed"
    },
    "tags": []
   },
   "source": [
    "From the command line run `pip install mnist`. This is a library that will help you bring down the mnist dataset. If you run this from a notebook, you need to put  `!pip install mnist` in a cell by itself."
   ]
  },
  {
   "cell_type": "code",
   "execution_count": 3,
   "id": "bb6ad8a1",
   "metadata": {
    "execution": {
     "iopub.execute_input": "2022-05-05T20:09:42.269162Z",
     "iopub.status.busy": "2022-05-05T20:09:42.268653Z",
     "iopub.status.idle": "2022-05-05T20:09:43.974828Z",
     "shell.execute_reply": "2022-05-05T20:09:43.975326Z"
    },
    "papermill": {
     "duration": 1.742719,
     "end_time": "2022-05-05T20:09:43.975488",
     "exception": false,
     "start_time": "2022-05-05T20:09:42.232769",
     "status": "completed"
    },
    "tags": []
   },
   "outputs": [
    {
     "name": "stdout",
     "output_type": "stream",
     "text": [
      "Collecting mnist\r\n"
     ]
    },
    {
     "name": "stdout",
     "output_type": "stream",
     "text": [
      "  Downloading mnist-0.2.2-py2.py3-none-any.whl (3.5 kB)\r\n",
      "Requirement already satisfied: numpy in /opt/hostedtoolcache/Python/3.6.15/x64/lib/python3.6/site-packages (from mnist) (1.19.5)\r\n"
     ]
    },
    {
     "name": "stdout",
     "output_type": "stream",
     "text": [
      "Installing collected packages: mnist\r\n"
     ]
    },
    {
     "name": "stdout",
     "output_type": "stream",
     "text": [
      "Successfully installed mnist-0.2.2\r\n"
     ]
    }
   ],
   "source": [
    "!pip install mnist"
   ]
  },
  {
   "cell_type": "markdown",
   "id": "69df9c9a",
   "metadata": {
    "papermill": {
     "duration": 0.024674,
     "end_time": "2022-05-05T20:09:44.025556",
     "exception": false,
     "start_time": "2022-05-05T20:09:44.000882",
     "status": "completed"
    },
    "tags": []
   },
   "source": [
    "## Preparing the Data"
   ]
  },
  {
   "cell_type": "code",
   "execution_count": 4,
   "id": "7f69d806",
   "metadata": {
    "execution": {
     "iopub.execute_input": "2022-05-05T20:09:44.080116Z",
     "iopub.status.busy": "2022-05-05T20:09:44.079555Z",
     "iopub.status.idle": "2022-05-05T20:09:44.092831Z",
     "shell.execute_reply": "2022-05-05T20:09:44.092399Z"
    },
    "papermill": {
     "duration": 0.042832,
     "end_time": "2022-05-05T20:09:44.092944",
     "exception": false,
     "start_time": "2022-05-05T20:09:44.050112",
     "status": "completed"
    },
    "tags": []
   },
   "outputs": [],
   "source": [
    "import mnist"
   ]
  },
  {
   "cell_type": "code",
   "execution_count": 5,
   "id": "a411e44f",
   "metadata": {
    "execution": {
     "iopub.execute_input": "2022-05-05T20:09:44.145500Z",
     "iopub.status.busy": "2022-05-05T20:09:44.144996Z",
     "iopub.status.idle": "2022-05-05T20:09:44.693689Z",
     "shell.execute_reply": "2022-05-05T20:09:44.692631Z"
    },
    "papermill": {
     "duration": 0.576166,
     "end_time": "2022-05-05T20:09:44.693820",
     "exception": false,
     "start_time": "2022-05-05T20:09:44.117654",
     "status": "completed"
    },
    "tags": []
   },
   "outputs": [],
   "source": [
    "train_images = mnist.train_images()\n",
    "train_labels = mnist.train_labels()"
   ]
  },
  {
   "cell_type": "code",
   "execution_count": 6,
   "id": "dceab3a5",
   "metadata": {
    "execution": {
     "iopub.execute_input": "2022-05-05T20:09:44.749685Z",
     "iopub.status.busy": "2022-05-05T20:09:44.748099Z",
     "iopub.status.idle": "2022-05-05T20:09:44.761550Z",
     "shell.execute_reply": "2022-05-05T20:09:44.761144Z"
    },
    "papermill": {
     "duration": 0.042949,
     "end_time": "2022-05-05T20:09:44.761662",
     "exception": false,
     "start_time": "2022-05-05T20:09:44.718713",
     "status": "completed"
    },
    "tags": []
   },
   "outputs": [
    {
     "data": {
      "text/plain": [
       "((60000, 28, 28), (60000,))"
      ]
     },
     "execution_count": 6,
     "metadata": {},
     "output_type": "execute_result"
    }
   ],
   "source": [
    "train_images.shape, train_labels.shape"
   ]
  },
  {
   "cell_type": "code",
   "execution_count": 7,
   "id": "f50dc2bb",
   "metadata": {
    "execution": {
     "iopub.execute_input": "2022-05-05T20:09:44.825694Z",
     "iopub.status.busy": "2022-05-05T20:09:44.824848Z",
     "iopub.status.idle": "2022-05-05T20:09:44.974354Z",
     "shell.execute_reply": "2022-05-05T20:09:44.974837Z"
    },
    "papermill": {
     "duration": 0.188371,
     "end_time": "2022-05-05T20:09:44.974998",
     "exception": false,
     "start_time": "2022-05-05T20:09:44.786627",
     "status": "completed"
    },
    "tags": []
   },
   "outputs": [],
   "source": [
    "test_images = mnist.test_images()\n",
    "test_labels = mnist.test_labels()"
   ]
  },
  {
   "cell_type": "code",
   "execution_count": 8,
   "id": "fc38cf1b",
   "metadata": {
    "execution": {
     "iopub.execute_input": "2022-05-05T20:09:45.043113Z",
     "iopub.status.busy": "2022-05-05T20:09:45.038305Z",
     "iopub.status.idle": "2022-05-05T20:09:45.045995Z",
     "shell.execute_reply": "2022-05-05T20:09:45.045584Z"
    },
    "papermill": {
     "duration": 0.044433,
     "end_time": "2022-05-05T20:09:45.046106",
     "exception": false,
     "start_time": "2022-05-05T20:09:45.001673",
     "status": "completed"
    },
    "tags": []
   },
   "outputs": [
    {
     "data": {
      "text/plain": [
       "((10000, 28, 28), (10000,))"
      ]
     },
     "execution_count": 8,
     "metadata": {},
     "output_type": "execute_result"
    }
   ],
   "source": [
    "test_images.shape, test_labels.shape"
   ]
  },
  {
   "cell_type": "code",
   "execution_count": 9,
   "id": "f9ed8fe0",
   "metadata": {
    "execution": {
     "iopub.execute_input": "2022-05-05T20:09:45.099560Z",
     "iopub.status.busy": "2022-05-05T20:09:45.099063Z",
     "iopub.status.idle": "2022-05-05T20:09:45.234471Z",
     "shell.execute_reply": "2022-05-05T20:09:45.234943Z"
    },
    "papermill": {
     "duration": 0.163852,
     "end_time": "2022-05-05T20:09:45.235087",
     "exception": false,
     "start_time": "2022-05-05T20:09:45.071235",
     "status": "completed"
    },
    "tags": []
   },
   "outputs": [
    {
     "name": "stdout",
     "output_type": "stream",
     "text": [
      "2\n"
     ]
    },
    {
     "data": {
      "text/plain": [
       "<matplotlib.image.AxesImage at 0x7f83c7cd5390>"
      ]
     },
     "execution_count": 9,
     "metadata": {},
     "output_type": "execute_result"
    },
    {
     "data": {
      "image/png": "[encoded data removed]",
      "text/plain": [
       "<Figure size 432x288 with 1 Axes>"
      ]
     },
     "metadata": {
      "needs_background": "light"
     },
     "output_type": "display_data"
    }
   ],
   "source": [
    "image_index = 7776 # You may select anything up to 60,000\n",
    "print(train_labels[image_index]) \n",
    "plt.imshow(train_images[image_index], cmap='Greys')"
   ]
  },
  {
   "cell_type": "markdown",
   "id": "a8d2388d",
   "metadata": {
    "papermill": {
     "duration": 0.026517,
     "end_time": "2022-05-05T20:09:45.288259",
     "exception": false,
     "start_time": "2022-05-05T20:09:45.261742",
     "status": "completed"
    },
    "tags": []
   },
   "source": [
    "## Filter data to get 3 and 8 out"
   ]
  },
  {
   "cell_type": "code",
   "execution_count": 10,
   "id": "776f7fc7",
   "metadata": {
    "execution": {
     "iopub.execute_input": "2022-05-05T20:09:45.357189Z",
     "iopub.status.busy": "2022-05-05T20:09:45.356659Z",
     "iopub.status.idle": "2022-05-05T20:09:45.364144Z",
     "shell.execute_reply": "2022-05-05T20:09:45.364533Z"
    },
    "papermill": {
     "duration": 0.049977,
     "end_time": "2022-05-05T20:09:45.364664",
     "exception": false,
     "start_time": "2022-05-05T20:09:45.314687",
     "status": "completed"
    },
    "tags": []
   },
   "outputs": [],
   "source": [
    "train_filter = np.where((train_labels == 3 ) | (train_labels == 8))\n",
    "test_filter = np.where((test_labels == 3) | (test_labels == 8))\n",
    "X_train, y_train = train_images[train_filter], train_labels[train_filter]\n",
    "X_test, y_test = test_images[test_filter], test_labels[test_filter]"
   ]
  },
  {
   "cell_type": "markdown",
   "id": "948f0b7e",
   "metadata": {
    "papermill": {
     "duration": 0.026086,
     "end_time": "2022-05-05T20:09:45.416967",
     "exception": false,
     "start_time": "2022-05-05T20:09:45.390881",
     "status": "completed"
    },
    "tags": []
   },
   "source": [
    "We normalize the pizel values in the 0 to 1 range"
   ]
  },
  {
   "cell_type": "code",
   "execution_count": 11,
   "id": "ee4c2166",
   "metadata": {
    "execution": {
     "iopub.execute_input": "2022-05-05T20:09:45.481195Z",
     "iopub.status.busy": "2022-05-05T20:09:45.480680Z",
     "iopub.status.idle": "2022-05-05T20:09:45.524202Z",
     "shell.execute_reply": "2022-05-05T20:09:45.523609Z"
    },
    "papermill": {
     "duration": 0.081275,
     "end_time": "2022-05-05T20:09:45.524358",
     "exception": false,
     "start_time": "2022-05-05T20:09:45.443083",
     "status": "completed"
    },
    "tags": []
   },
   "outputs": [],
   "source": [
    "X_train = X_train/255.\n",
    "X_test = X_test/255."
   ]
  },
  {
   "cell_type": "markdown",
   "id": "ddcf4fab",
   "metadata": {
    "papermill": {
     "duration": 0.02686,
     "end_time": "2022-05-05T20:09:45.578668",
     "exception": false,
     "start_time": "2022-05-05T20:09:45.551808",
     "status": "completed"
    },
    "tags": []
   },
   "source": [
    "And setup the labels as 1 (when the digit is 3) and 0 (when the digit is 8)"
   ]
  },
  {
   "cell_type": "code",
   "execution_count": 12,
   "id": "7dc908f2",
   "metadata": {
    "execution": {
     "iopub.execute_input": "2022-05-05T20:09:45.635719Z",
     "iopub.status.busy": "2022-05-05T20:09:45.634700Z",
     "iopub.status.idle": "2022-05-05T20:09:45.647964Z",
     "shell.execute_reply": "2022-05-05T20:09:45.647534Z"
    },
    "papermill": {
     "duration": 0.042922,
     "end_time": "2022-05-05T20:09:45.648075",
     "exception": false,
     "start_time": "2022-05-05T20:09:45.605153",
     "status": "completed"
    },
    "tags": []
   },
   "outputs": [],
   "source": [
    "y_train = 1*(y_train==3)\n",
    "y_test = 1*(y_test==3)"
   ]
  },
  {
   "cell_type": "code",
   "execution_count": 13,
   "id": "01e4e969",
   "metadata": {
    "execution": {
     "iopub.execute_input": "2022-05-05T20:09:45.703474Z",
     "iopub.status.busy": "2022-05-05T20:09:45.702948Z",
     "iopub.status.idle": "2022-05-05T20:09:45.715849Z",
     "shell.execute_reply": "2022-05-05T20:09:45.716315Z"
    },
    "papermill": {
     "duration": 0.042172,
     "end_time": "2022-05-05T20:09:45.716440",
     "exception": false,
     "start_time": "2022-05-05T20:09:45.674268",
     "status": "completed"
    },
    "tags": []
   },
   "outputs": [
    {
     "data": {
      "text/plain": [
       "((11982, 28, 28), (1984, 28, 28))"
      ]
     },
     "execution_count": 13,
     "metadata": {},
     "output_type": "execute_result"
    }
   ],
   "source": [
    "X_train.shape, X_test.shape"
   ]
  },
  {
   "cell_type": "markdown",
   "id": "5ccf3f85",
   "metadata": {
    "papermill": {
     "duration": 0.026422,
     "end_time": "2022-05-05T20:09:45.769436",
     "exception": false,
     "start_time": "2022-05-05T20:09:45.743014",
     "status": "completed"
    },
    "tags": []
   },
   "source": [
    "We reshape the data to flatten the image pixels into a set of features or co-variates:"
   ]
  },
  {
   "cell_type": "code",
   "execution_count": 14,
   "id": "5286a4a3",
   "metadata": {
    "execution": {
     "iopub.execute_input": "2022-05-05T20:09:45.827073Z",
     "iopub.status.busy": "2022-05-05T20:09:45.826559Z",
     "iopub.status.idle": "2022-05-05T20:09:45.839441Z",
     "shell.execute_reply": "2022-05-05T20:09:45.839032Z"
    },
    "papermill": {
     "duration": 0.043458,
     "end_time": "2022-05-05T20:09:45.839555",
     "exception": false,
     "start_time": "2022-05-05T20:09:45.796097",
     "status": "completed"
    },
    "tags": []
   },
   "outputs": [
    {
     "data": {
      "text/plain": [
       "((11982, 784), (1984, 784))"
      ]
     },
     "execution_count": 14,
     "metadata": {},
     "output_type": "execute_result"
    }
   ],
   "source": [
    "X_train = X_train.reshape(X_train.shape[0], -1)\n",
    "X_test = X_test.reshape(X_test.shape[0], -1)\n",
    "X_train.shape, X_test.shape"
   ]
  },
  {
   "cell_type": "code",
   "execution_count": 15,
   "id": "73c5f88a",
   "metadata": {
    "execution": {
     "iopub.execute_input": "2022-05-05T20:09:45.897097Z",
     "iopub.status.busy": "2022-05-05T20:09:45.896586Z",
     "iopub.status.idle": "2022-05-05T20:09:45.914262Z",
     "shell.execute_reply": "2022-05-05T20:09:45.913849Z"
    },
    "papermill": {
     "duration": 0.0481,
     "end_time": "2022-05-05T20:09:45.914368",
     "exception": false,
     "start_time": "2022-05-05T20:09:45.866268",
     "status": "completed"
    },
    "tags": []
   },
   "outputs": [],
   "source": [
    "#Impoting functions from 'Kudzu'\n",
    "from kudzu.model import Model\n",
    "from kudzu.train import Learner\n",
    "from kudzu.optim import GD\n",
    "from kudzu.data import Data, Sampler,Dataloader\n",
    "\n",
    "from kudzu.callbacks import AccCallback\n",
    "from kudzu.callbacks import ClfCallback\n",
    "\n",
    "from kudzu.loss import MSE\n",
    "\n",
    "from kudzu.layer import Sigmoid,Relu\n",
    "from kudzu.layer import Affine"
   ]
  },
  {
   "cell_type": "markdown",
   "id": "bc01172a",
   "metadata": {
    "papermill": {
     "duration": 0.02655,
     "end_time": "2022-05-05T20:09:45.967844",
     "exception": false,
     "start_time": "2022-05-05T20:09:45.941294",
     "status": "completed"
    },
    "tags": []
   },
   "source": [
    "### Let us create a `Config` class, to store important parameters. \n",
    "This class essentially plays the role of a dictionary."
   ]
  },
  {
   "cell_type": "code",
   "execution_count": 16,
   "id": "978281aa",
   "metadata": {
    "execution": {
     "iopub.execute_input": "2022-05-05T20:09:46.037966Z",
     "iopub.status.busy": "2022-05-05T20:09:46.037435Z",
     "iopub.status.idle": "2022-05-05T20:09:46.042838Z",
     "shell.execute_reply": "2022-05-05T20:09:46.042429Z"
    },
    "papermill": {
     "duration": 0.0484,
     "end_time": "2022-05-05T20:09:46.042947",
     "exception": false,
     "start_time": "2022-05-05T20:09:45.994547",
     "status": "completed"
    },
    "tags": []
   },
   "outputs": [],
   "source": [
    "class Config:\n",
    "    pass\n",
    "config = Config()\n",
    "config.lr = 0.001\n",
    "config.num_epochs = 250\n",
    "config.bs = 50"
   ]
  },
  {
   "cell_type": "markdown",
   "id": "1385fa59",
   "metadata": {
    "papermill": {
     "duration": 0.026754,
     "end_time": "2022-05-05T20:09:46.096541",
     "exception": false,
     "start_time": "2022-05-05T20:09:46.069787",
     "status": "completed"
    },
    "tags": []
   },
   "source": [
    "### Running Models with the Training data\n",
    "Details about the network layers:\n",
    "- A first affine layer has 784 inputs and does 100 affine transforms. These are followed by a Relu\n",
    "- A second affine layer has 100 inputs from the 100 activations of the past layer, and does 100 affine transforms. These are followed by a Relu\n",
    "- A third affine layer has 100 activations and does 2 affine transformations to create an embedding for visualization. There is no non-linearity here.\n",
    "- A final \"logistic regression\" which has an affine transform from 2 inputs to 1 output, which is squeezed through a sigmoid.\n"
   ]
  },
  {
   "cell_type": "code",
   "execution_count": 17,
   "id": "2b9c66db",
   "metadata": {
    "execution": {
     "iopub.execute_input": "2022-05-05T20:09:46.154333Z",
     "iopub.status.busy": "2022-05-05T20:09:46.153803Z",
     "iopub.status.idle": "2022-05-05T20:09:46.166511Z",
     "shell.execute_reply": "2022-05-05T20:09:46.166063Z"
    },
    "papermill": {
     "duration": 0.043224,
     "end_time": "2022-05-05T20:09:46.166622",
     "exception": false,
     "start_time": "2022-05-05T20:09:46.123398",
     "status": "completed"
    },
    "tags": []
   },
   "outputs": [],
   "source": [
    "data = Data(X_train, y_train.reshape(-1,1))\n",
    "sampler = Sampler(data, config.bs, shuffle=True)\n",
    "\n",
    "dl = Dataloader(data, sampler)\n",
    "\n",
    "opt = GD(config.lr)\n",
    "loss = MSE()"
   ]
  },
  {
   "cell_type": "code",
   "execution_count": 18,
   "id": "b275e4c2",
   "metadata": {
    "execution": {
     "iopub.execute_input": "2022-05-05T20:09:46.223484Z",
     "iopub.status.busy": "2022-05-05T20:09:46.222974Z",
     "iopub.status.idle": "2022-05-05T20:09:46.235693Z",
     "shell.execute_reply": "2022-05-05T20:09:46.235282Z"
    },
    "papermill": {
     "duration": 0.042291,
     "end_time": "2022-05-05T20:09:46.235802",
     "exception": false,
     "start_time": "2022-05-05T20:09:46.193511",
     "status": "completed"
    },
    "tags": []
   },
   "outputs": [],
   "source": [
    "training_data_x = X_train\n",
    "testing_data_x = X_test\n",
    "training_data_y = y_train.reshape(-1,1)\n",
    "testing_data_y = y_test.reshape(-1,1)"
   ]
  },
  {
   "cell_type": "code",
   "execution_count": 19,
   "id": "76951160",
   "metadata": {
    "execution": {
     "iopub.execute_input": "2022-05-05T20:09:46.309491Z",
     "iopub.status.busy": "2022-05-05T20:09:46.302361Z",
     "iopub.status.idle": "2022-05-05T20:09:46.312115Z",
     "shell.execute_reply": "2022-05-05T20:09:46.311650Z"
    },
    "papermill": {
     "duration": 0.049722,
     "end_time": "2022-05-05T20:09:46.312223",
     "exception": false,
     "start_time": "2022-05-05T20:09:46.262501",
     "status": "completed"
    },
    "tags": []
   },
   "outputs": [
    {
     "name": "stdout",
     "output_type": "stream",
     "text": [
      "xavier\n",
      "xavier\n",
      "xavier\n",
      "xavier\n",
      "xavier\n"
     ]
    }
   ],
   "source": [
    "layers = [Affine(\"first\", 784, 100), Relu(\"first\"), Affine(\"second\", 100, 100), Relu(\"second\"), Affine(\"third\", 100, 2), Affine(\"last\", 2, 1), Sigmoid(\"last\")]\n",
    "model_nn = Model(layers)\n",
    "model_lr = Model([Affine(\"logits\", 784, 1), Sigmoid(\"sigmoid\")])"
   ]
  },
  {
   "cell_type": "code",
   "execution_count": 20,
   "id": "6eede77a",
   "metadata": {
    "execution": {
     "iopub.execute_input": "2022-05-05T20:09:46.374063Z",
     "iopub.status.busy": "2022-05-05T20:09:46.373559Z",
     "iopub.status.idle": "2022-05-05T20:09:46.382451Z",
     "shell.execute_reply": "2022-05-05T20:09:46.382832Z"
    },
    "papermill": {
     "duration": 0.04371,
     "end_time": "2022-05-05T20:09:46.382950",
     "exception": false,
     "start_time": "2022-05-05T20:09:46.339240",
     "status": "completed"
    },
    "tags": []
   },
   "outputs": [],
   "source": [
    "nn_learner = Learner(loss, model_nn, opt, config.num_epochs)\n",
    "acc_nn = ClfCallback(nn_learner, config.bs, training_data_x , testing_data_x, training_data_y, testing_data_y)\n",
    "nn_learner.set_callbacks([acc_nn])"
   ]
  },
  {
   "cell_type": "code",
   "execution_count": 21,
   "id": "877b6cc7",
   "metadata": {
    "execution": {
     "iopub.execute_input": "2022-05-05T20:09:46.453703Z",
     "iopub.status.busy": "2022-05-05T20:09:46.453199Z",
     "iopub.status.idle": "2022-05-05T20:09:46.457658Z",
     "shell.execute_reply": "2022-05-05T20:09:46.458063Z"
    },
    "papermill": {
     "duration": 0.048241,
     "end_time": "2022-05-05T20:09:46.458178",
     "exception": false,
     "start_time": "2022-05-05T20:09:46.409937",
     "status": "completed"
    },
    "tags": []
   },
   "outputs": [],
   "source": [
    "lr_learner = Learner(loss, model_lr, opt, config.num_epochs)\n",
    "acc_lr = ClfCallback(lr_learner, config.bs, training_data_x , testing_data_x, training_data_y, testing_data_y)\n",
    "lr_learner.set_callbacks([acc_lr])"
   ]
  },
  {
   "cell_type": "code",
   "execution_count": 22,
   "id": "d9b133c3",
   "metadata": {
    "execution": {
     "iopub.execute_input": "2022-05-05T20:09:46.522965Z",
     "iopub.status.busy": "2022-05-05T20:09:46.515041Z",
     "iopub.status.idle": "2022-05-05T20:10:59.808461Z",
     "shell.execute_reply": "2022-05-05T20:10:59.809189Z"
    },
    "papermill": {
     "duration": 73.324154,
     "end_time": "2022-05-05T20:10:59.809333",
     "exception": false,
     "start_time": "2022-05-05T20:09:46.485179",
     "status": "completed"
    },
    "tags": []
   },
   "outputs": [
    {
     "name": "stdout",
     "output_type": "stream",
     "text": [
      "Epoch 0, Loss 0.2459\n",
      "Training Accuracy: 0.5979, Testing Accuracy: 0.6129\n",
      "\n"
     ]
    },
    {
     "name": "stdout",
     "output_type": "stream",
     "text": [
      "Epoch 10, Loss 0.0817\n",
      "Training Accuracy: 0.9256, Testing Accuracy: 0.9446\n",
      "\n"
     ]
    },
    {
     "name": "stdout",
     "output_type": "stream",
     "text": [
      "Epoch 20, Loss 0.0513\n",
      "Training Accuracy: 0.9463, Testing Accuracy: 0.9622\n",
      "\n"
     ]
    },
    {
     "name": "stdout",
     "output_type": "stream",
     "text": [
      "Epoch 30, Loss 0.0409\n",
      "Training Accuracy: 0.9548, Testing Accuracy: 0.9662\n",
      "\n"
     ]
    },
    {
     "name": "stdout",
     "output_type": "stream",
     "text": [
      "Epoch 40, Loss 0.0356\n",
      "Training Accuracy: 0.9601, Testing Accuracy: 0.9688\n",
      "\n"
     ]
    },
    {
     "name": "stdout",
     "output_type": "stream",
     "text": [
      "Epoch 50, Loss 0.0323\n",
      "Training Accuracy: 0.9638, Testing Accuracy: 0.9703\n",
      "\n"
     ]
    },
    {
     "name": "stdout",
     "output_type": "stream",
     "text": [
      "Epoch 60, Loss 0.03\n",
      "Training Accuracy: 0.9663, Testing Accuracy: 0.9713\n",
      "\n"
     ]
    },
    {
     "name": "stdout",
     "output_type": "stream",
     "text": [
      "Epoch 70, Loss 0.0282\n",
      "Training Accuracy: 0.9679, Testing Accuracy: 0.9713\n",
      "\n"
     ]
    },
    {
     "name": "stdout",
     "output_type": "stream",
     "text": [
      "Epoch 80, Loss 0.0268\n",
      "Training Accuracy: 0.9698, Testing Accuracy: 0.9718\n",
      "\n"
     ]
    },
    {
     "name": "stdout",
     "output_type": "stream",
     "text": [
      "Epoch 90, Loss 0.0256\n",
      "Training Accuracy: 0.9710, Testing Accuracy: 0.9728\n",
      "\n"
     ]
    },
    {
     "name": "stdout",
     "output_type": "stream",
     "text": [
      "Epoch 100, Loss 0.0246\n",
      "Training Accuracy: 0.9719, Testing Accuracy: 0.9723\n",
      "\n"
     ]
    },
    {
     "name": "stdout",
     "output_type": "stream",
     "text": [
      "Epoch 110, Loss 0.0237\n",
      "Training Accuracy: 0.9730, Testing Accuracy: 0.9728\n",
      "\n"
     ]
    },
    {
     "name": "stdout",
     "output_type": "stream",
     "text": [
      "Epoch 120, Loss 0.0229\n",
      "Training Accuracy: 0.9745, Testing Accuracy: 0.9738\n",
      "\n"
     ]
    },
    {
     "name": "stdout",
     "output_type": "stream",
     "text": [
      "Epoch 130, Loss 0.0222\n",
      "Training Accuracy: 0.9751, Testing Accuracy: 0.9738\n",
      "\n"
     ]
    },
    {
     "name": "stdout",
     "output_type": "stream",
     "text": [
      "Epoch 140, Loss 0.0215\n",
      "Training Accuracy: 0.9757, Testing Accuracy: 0.9738\n",
      "\n"
     ]
    },
    {
     "name": "stdout",
     "output_type": "stream",
     "text": [
      "Epoch 150, Loss 0.0209\n",
      "Training Accuracy: 0.9762, Testing Accuracy: 0.9733\n",
      "\n"
     ]
    },
    {
     "name": "stdout",
     "output_type": "stream",
     "text": [
      "Epoch 160, Loss 0.0203\n",
      "Training Accuracy: 0.9775, Testing Accuracy: 0.9738\n",
      "\n"
     ]
    },
    {
     "name": "stdout",
     "output_type": "stream",
     "text": [
      "Epoch 170, Loss 0.0198\n",
      "Training Accuracy: 0.9778, Testing Accuracy: 0.9733\n",
      "\n"
     ]
    },
    {
     "name": "stdout",
     "output_type": "stream",
     "text": [
      "Epoch 180, Loss 0.0193\n",
      "Training Accuracy: 0.9785, Testing Accuracy: 0.9738\n",
      "\n"
     ]
    },
    {
     "name": "stdout",
     "output_type": "stream",
     "text": [
      "Epoch 190, Loss 0.0189\n",
      "Training Accuracy: 0.9791, Testing Accuracy: 0.9743\n",
      "\n"
     ]
    },
    {
     "name": "stdout",
     "output_type": "stream",
     "text": [
      "Epoch 200, Loss 0.0184\n",
      "Training Accuracy: 0.9797, Testing Accuracy: 0.9748\n",
      "\n"
     ]
    },
    {
     "name": "stdout",
     "output_type": "stream",
     "text": [
      "Epoch 210, Loss 0.018\n",
      "Training Accuracy: 0.9801, Testing Accuracy: 0.9753\n",
      "\n"
     ]
    },
    {
     "name": "stdout",
     "output_type": "stream",
     "text": [
      "Epoch 220, Loss 0.0176\n",
      "Training Accuracy: 0.9808, Testing Accuracy: 0.9753\n",
      "\n"
     ]
    },
    {
     "name": "stdout",
     "output_type": "stream",
     "text": [
      "Epoch 230, Loss 0.0172\n",
      "Training Accuracy: 0.9813, Testing Accuracy: 0.9758\n",
      "\n"
     ]
    },
    {
     "name": "stdout",
     "output_type": "stream",
     "text": [
      "Epoch 240, Loss 0.0169\n",
      "Training Accuracy: 0.9818, Testing Accuracy: 0.9758\n",
      "\n"
     ]
    },
    {
     "data": {
      "text/plain": [
       "0.02225355964332703"
      ]
     },
     "execution_count": 22,
     "metadata": {},
     "output_type": "execute_result"
    }
   ],
   "source": [
    "nn_learner.train_loop(dl)"
   ]
  },
  {
   "cell_type": "code",
   "execution_count": 23,
   "id": "e0163366",
   "metadata": {
    "execution": {
     "iopub.execute_input": "2022-05-05T20:10:59.891066Z",
     "iopub.status.busy": "2022-05-05T20:10:59.890550Z",
     "iopub.status.idle": "2022-05-05T20:11:13.011560Z",
     "shell.execute_reply": "2022-05-05T20:11:13.012316Z"
    },
    "papermill": {
     "duration": 13.168976,
     "end_time": "2022-05-05T20:11:13.012460",
     "exception": false,
     "start_time": "2022-05-05T20:10:59.843484",
     "status": "completed"
    },
    "tags": []
   },
   "outputs": [
    {
     "name": "stdout",
     "output_type": "stream",
     "text": [
      "Epoch 0, Loss 0.2143\n",
      "Training Accuracy: 0.7672, Testing Accuracy: 0.7828\n",
      "\n"
     ]
    },
    {
     "name": "stdout",
     "output_type": "stream",
     "text": [
      "Epoch 10, Loss 0.1024\n",
      "Training Accuracy: 0.9059, Testing Accuracy: 0.9133\n",
      "\n"
     ]
    },
    {
     "name": "stdout",
     "output_type": "stream",
     "text": [
      "Epoch 20, Loss 0.0794\n",
      "Training Accuracy: 0.9271, Testing Accuracy: 0.9375\n",
      "\n"
     ]
    },
    {
     "name": "stdout",
     "output_type": "stream",
     "text": [
      "Epoch 30, Loss 0.0684\n",
      "Training Accuracy: 0.9367, Testing Accuracy: 0.9461\n",
      "\n"
     ]
    },
    {
     "name": "stdout",
     "output_type": "stream",
     "text": [
      "Epoch 40, Loss 0.0617\n",
      "Training Accuracy: 0.9416, Testing Accuracy: 0.9521\n",
      "\n"
     ]
    },
    {
     "name": "stdout",
     "output_type": "stream",
     "text": [
      "Epoch 50, Loss 0.0572\n",
      "Training Accuracy: 0.9458, Testing Accuracy: 0.9551\n",
      "\n"
     ]
    },
    {
     "name": "stdout",
     "output_type": "stream",
     "text": [
      "Epoch 60, Loss 0.0539\n",
      "Training Accuracy: 0.9482, Testing Accuracy: 0.9572\n",
      "\n"
     ]
    },
    {
     "name": "stdout",
     "output_type": "stream",
     "text": [
      "Epoch 70, Loss 0.0513\n",
      "Training Accuracy: 0.9503, Testing Accuracy: 0.9602\n",
      "\n"
     ]
    },
    {
     "name": "stdout",
     "output_type": "stream",
     "text": [
      "Epoch 80, Loss 0.0493\n",
      "Training Accuracy: 0.9520, Testing Accuracy: 0.9612\n",
      "\n"
     ]
    },
    {
     "name": "stdout",
     "output_type": "stream",
     "text": [
      "Epoch 90, Loss 0.0476\n",
      "Training Accuracy: 0.9533, Testing Accuracy: 0.9622\n",
      "\n"
     ]
    },
    {
     "name": "stdout",
     "output_type": "stream",
     "text": [
      "Epoch 100, Loss 0.0462\n",
      "Training Accuracy: 0.9541, Testing Accuracy: 0.9637\n",
      "\n"
     ]
    },
    {
     "name": "stdout",
     "output_type": "stream",
     "text": [
      "Epoch 110, Loss 0.045\n",
      "Training Accuracy: 0.9544, Testing Accuracy: 0.9642\n",
      "\n"
     ]
    },
    {
     "name": "stdout",
     "output_type": "stream",
     "text": [
      "Epoch 120, Loss 0.0439\n",
      "Training Accuracy: 0.9547, Testing Accuracy: 0.9647\n",
      "\n"
     ]
    },
    {
     "name": "stdout",
     "output_type": "stream",
     "text": [
      "Epoch 130, Loss 0.043\n",
      "Training Accuracy: 0.9552, Testing Accuracy: 0.9652\n",
      "\n"
     ]
    },
    {
     "name": "stdout",
     "output_type": "stream",
     "text": [
      "Epoch 140, Loss 0.0422\n",
      "Training Accuracy: 0.9562, Testing Accuracy: 0.9667\n",
      "\n"
     ]
    },
    {
     "name": "stdout",
     "output_type": "stream",
     "text": [
      "Epoch 150, Loss 0.0414\n",
      "Training Accuracy: 0.9566, Testing Accuracy: 0.9672\n",
      "\n"
     ]
    },
    {
     "name": "stdout",
     "output_type": "stream",
     "text": [
      "Epoch 160, Loss 0.0408\n",
      "Training Accuracy: 0.9575, Testing Accuracy: 0.9682\n",
      "\n"
     ]
    },
    {
     "name": "stdout",
     "output_type": "stream",
     "text": [
      "Epoch 170, Loss 0.0402\n",
      "Training Accuracy: 0.9582, Testing Accuracy: 0.9688\n",
      "\n"
     ]
    },
    {
     "name": "stdout",
     "output_type": "stream",
     "text": [
      "Epoch 180, Loss 0.0396\n",
      "Training Accuracy: 0.9589, Testing Accuracy: 0.9688\n",
      "\n"
     ]
    },
    {
     "name": "stdout",
     "output_type": "stream",
     "text": [
      "Epoch 190, Loss 0.0391\n",
      "Training Accuracy: 0.9589, Testing Accuracy: 0.9693\n",
      "\n"
     ]
    },
    {
     "name": "stdout",
     "output_type": "stream",
     "text": [
      "Epoch 200, Loss 0.0386\n",
      "Training Accuracy: 0.9594, Testing Accuracy: 0.9688\n",
      "\n"
     ]
    },
    {
     "name": "stdout",
     "output_type": "stream",
     "text": [
      "Epoch 210, Loss 0.0382\n",
      "Training Accuracy: 0.9595, Testing Accuracy: 0.9693\n",
      "\n"
     ]
    },
    {
     "name": "stdout",
     "output_type": "stream",
     "text": [
      "Epoch 220, Loss 0.0378\n",
      "Training Accuracy: 0.9601, Testing Accuracy: 0.9688\n",
      "\n"
     ]
    },
    {
     "name": "stdout",
     "output_type": "stream",
     "text": [
      "Epoch 230, Loss 0.0374\n",
      "Training Accuracy: 0.9601, Testing Accuracy: 0.9682\n",
      "\n"
     ]
    },
    {
     "name": "stdout",
     "output_type": "stream",
     "text": [
      "Epoch 240, Loss 0.037\n",
      "Training Accuracy: 0.9606, Testing Accuracy: 0.9688\n",
      "\n"
     ]
    },
    {
     "data": {
      "text/plain": [
       "0.028107206314991508"
      ]
     },
     "execution_count": 23,
     "metadata": {},
     "output_type": "execute_result"
    }
   ],
   "source": [
    "lr_learner.train_loop(dl)"
   ]
  },
  {
   "cell_type": "code",
   "execution_count": 24,
   "id": "ca410940",
   "metadata": {
    "execution": {
     "iopub.execute_input": "2022-05-05T20:11:13.109326Z",
     "iopub.status.busy": "2022-05-05T20:11:13.108772Z",
     "iopub.status.idle": "2022-05-05T20:11:13.339653Z",
     "shell.execute_reply": "2022-05-05T20:11:13.340100Z"
    },
    "papermill": {
     "duration": 0.286707,
     "end_time": "2022-05-05T20:11:13.340243",
     "exception": false,
     "start_time": "2022-05-05T20:11:13.053536",
     "status": "completed"
    },
    "tags": []
   },
   "outputs": [
    {
     "data": {
      "text/plain": [
       "<matplotlib.legend.Legend at 0x7f83ba52aa90>"
      ]
     },
     "execution_count": 24,
     "metadata": {},
     "output_type": "execute_result"
    },
    {
     "data": {
      "image/png": "[encoded data removed]",
      "text/plain": [
       "<Figure size 1080x720 with 1 Axes>"
      ]
     },
     "metadata": {
      "needs_background": "light"
     },
     "output_type": "display_data"
    }
   ],
   "source": [
    "#comparing the results of NN and LR\n",
    "plt.figure(figsize=(15,10))\n",
    "\n",
    "# Neural Network plots\n",
    "plt.plot(acc_nn.accuracies, 'r-', label = \"Training Accuracies - NN\")\n",
    "plt.plot(acc_nn.test_accuracies, 'g-', label = \"Testing Accuracies - NN\")\n",
    "\n",
    "# Logistic Regression plots\n",
    "plt.plot(acc_lr.accuracies, 'k-', label = \"Training Accuracies - LR\")\n",
    "plt.plot(acc_lr.test_accuracies, 'b-', label = \"Testing Accuracies - LR\")\n",
    "plt.legend()"
   ]
  },
  {
   "cell_type": "markdown",
   "id": "80dfb35c",
   "metadata": {
    "papermill": {
     "duration": 0.041812,
     "end_time": "2022-05-05T20:11:13.424657",
     "exception": false,
     "start_time": "2022-05-05T20:11:13.382845",
     "status": "completed"
    },
    "tags": []
   },
   "source": [
    "#### Plotting the outputs of this layer of the NN.\n"
   ]
  },
  {
   "cell_type": "code",
   "execution_count": 25,
   "id": "45eb2ff5",
   "metadata": {
    "execution": {
     "iopub.execute_input": "2022-05-05T20:11:13.517634Z",
     "iopub.status.busy": "2022-05-05T20:11:13.514450Z",
     "iopub.status.idle": "2022-05-05T20:11:13.533178Z",
     "shell.execute_reply": "2022-05-05T20:11:13.533574Z"
    },
    "papermill": {
     "duration": 0.067451,
     "end_time": "2022-05-05T20:11:13.533716",
     "exception": false,
     "start_time": "2022-05-05T20:11:13.466265",
     "status": "completed"
    },
    "tags": []
   },
   "outputs": [],
   "source": [
    "new_model = Model(layers[:-2])\n",
    "testing_plot = new_model(testing_data_x)"
   ]
  },
  {
   "cell_type": "code",
   "execution_count": 26,
   "id": "4c0a5485",
   "metadata": {
    "execution": {
     "iopub.execute_input": "2022-05-05T20:11:13.626641Z",
     "iopub.status.busy": "2022-05-05T20:11:13.623743Z",
     "iopub.status.idle": "2022-05-05T20:11:13.818420Z",
     "shell.execute_reply": "2022-05-05T20:11:13.818817Z"
    },
    "papermill": {
     "duration": 0.242775,
     "end_time": "2022-05-05T20:11:13.818958",
     "exception": false,
     "start_time": "2022-05-05T20:11:13.576183",
     "status": "completed"
    },
    "tags": []
   },
   "outputs": [
    {
     "data": {
      "text/plain": [
       "Text(0.5, 1.0, 'Outputs')"
      ]
     },
     "execution_count": 26,
     "metadata": {},
     "output_type": "execute_result"
    },
    {
     "data": {
      "image/png": "[encoded data removed]",
      "text/plain": [
       "<Figure size 576x504 with 1 Axes>"
      ]
     },
     "metadata": {
      "needs_background": "light"
     },
     "output_type": "display_data"
    }
   ],
   "source": [
    "# Plotting the scatter plot of points and color coding by class\n",
    "plt.figure(figsize=(8,7))\n",
    "plt.scatter(testing_plot[:,0], testing_plot[:,1], alpha = 0.1, c = y_test.ravel());\n",
    "plt.title('Outputs')"
   ]
  },
  {
   "cell_type": "markdown",
   "id": "a74fcf8f",
   "metadata": {
    "papermill": {
     "duration": 0.044281,
     "end_time": "2022-05-05T20:11:13.907286",
     "exception": false,
     "start_time": "2022-05-05T20:11:13.863005",
     "status": "completed"
    },
    "tags": []
   },
   "source": [
    "Probability contours"
   ]
  },
  {
   "cell_type": "code",
   "execution_count": 27,
   "id": "d0afc8e3",
   "metadata": {
    "execution": {
     "iopub.execute_input": "2022-05-05T20:11:14.002089Z",
     "iopub.status.busy": "2022-05-05T20:11:13.998671Z",
     "iopub.status.idle": "2022-05-05T20:11:14.010275Z",
     "shell.execute_reply": "2022-05-05T20:11:14.010662Z"
    },
    "papermill": {
     "duration": 0.059528,
     "end_time": "2022-05-05T20:11:14.010791",
     "exception": false,
     "start_time": "2022-05-05T20:11:13.951263",
     "status": "completed"
    },
    "tags": []
   },
   "outputs": [],
   "source": [
    "model_prob = Model(layers[-2:]) "
   ]
  },
  {
   "cell_type": "code",
   "execution_count": 28,
   "id": "9b96e238",
   "metadata": {
    "execution": {
     "iopub.execute_input": "2022-05-05T20:11:14.144146Z",
     "iopub.status.busy": "2022-05-05T20:11:14.143587Z",
     "iopub.status.idle": "2022-05-05T20:11:14.147321Z",
     "shell.execute_reply": "2022-05-05T20:11:14.146826Z"
    },
    "papermill": {
     "duration": 0.067488,
     "end_time": "2022-05-05T20:11:14.147426",
     "exception": false,
     "start_time": "2022-05-05T20:11:14.079938",
     "status": "completed"
    },
    "tags": []
   },
   "outputs": [],
   "source": [
    "#creating the x and y ranges according to the above generated plot.\n",
    "x_range = np.linspace(-4, 1, 100) \n",
    "y_range = np.linspace(-6, 6, 100) \n",
    "x_grid, y_grid = np.meshgrid(x_range, y_range) # x_grid and y_grig are of size 100 X 100\n",
    "\n",
    "# converting x_grid and y_grid to continuous arrays\n",
    "x_gridflat = np.ravel(x_grid)\n",
    "y_gridflat = np.ravel(y_grid)\n",
    "\n",
    "# The last layer of the current model takes two columns as input. Hence transpose of np.vstack() is required.\n",
    "X = np.vstack((x_gridflat, y_gridflat)).T\n",
    "\n",
    "prob_contour = model_prob(X).reshape(100,100) "
   ]
  },
  {
   "cell_type": "code",
   "execution_count": 29,
   "id": "da72499a",
   "metadata": {
    "execution": {
     "iopub.execute_input": "2022-05-05T20:11:14.241370Z",
     "iopub.status.busy": "2022-05-05T20:11:14.240851Z",
     "iopub.status.idle": "2022-05-05T20:11:14.483234Z",
     "shell.execute_reply": "2022-05-05T20:11:14.482350Z"
    },
    "papermill": {
     "duration": 0.291727,
     "end_time": "2022-05-05T20:11:14.483375",
     "exception": false,
     "start_time": "2022-05-05T20:11:14.191648",
     "status": "completed"
    },
    "tags": []
   },
   "outputs": [
    {
     "data": {
      "image/png": "[encoded data removed]",
      "text/plain": [
       "<Figure size 720x648 with 1 Axes>"
      ]
     },
     "metadata": {
      "needs_background": "light"
     },
     "output_type": "display_data"
    }
   ],
   "source": [
    "plt.figure(figsize=(10,9))\n",
    "plt.scatter(testing_plot[:,0], testing_plot[:,1], alpha = 0.1, c = y_test.ravel())\n",
    "contours = plt.contour(x_grid,y_grid,prob_contour)\n",
    "plt.title('Probability Contours')\n",
    "plt.clabel(contours, inline = True );"
   ]
  },
  {
   "cell_type": "code",
   "execution_count": null,
   "id": "e81b4ac7",
   "metadata": {
    "papermill": {
     "duration": 0.046655,
     "end_time": "2022-05-05T20:11:14.577322",
     "exception": false,
     "start_time": "2022-05-05T20:11:14.530667",
     "status": "completed"
    },
    "tags": []
   },
   "outputs": [],
   "source": []
  }
 ],
 "metadata": {
  "kernelspec": {
   "display_name": "Python 3",
   "language": "python",
   "name": "python3"
  },
  "language_info": {
   "codemirror_mode": {
    "name": "ipython",
    "version": 3
   },
   "file_extension": ".py",
   "mimetype": "text/x-python",
   "name": "python",
   "nbconvert_exporter": "python",
   "pygments_lexer": "ipython3",
   "version": "3.6.15"
  },
  "papermill": {
   "default_parameters": {},
   "duration": 94.507488,
   "end_time": "2022-05-05T20:11:15.042089",
   "environment_variables": {},
   "exception": null,
   "input_path": "2020-08-11-part2.ipynb",
   "output_path": "2020-08-11-part2.ipynb",
   "parameters": {},
   "start_time": "2022-05-05T20:09:40.534601",
   "version": "2.3.3"
  }
 },
 "nbformat": 4,
 "nbformat_minor": 5
}