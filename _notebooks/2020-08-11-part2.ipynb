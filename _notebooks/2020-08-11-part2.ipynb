{
 "cells": [
  {
   "cell_type": "markdown",
   "id": "98380cd3",
   "metadata": {
    "papermill": {
     "duration": 0.02984,
     "end_time": "2022-10-09T20:11:06.320104",
     "exception": false,
     "start_time": "2022-10-09T20:11:06.290264",
     "status": "completed"
    },
    "tags": []
   },
   "source": [
    "# Distinguish Your Own Digits (DYOD)"
   ]
  },
  {
   "cell_type": "markdown",
   "id": "ef31240d",
   "metadata": {
    "papermill": {
     "duration": 0.023751,
     "end_time": "2022-10-09T20:11:06.368293",
     "exception": false,
     "start_time": "2022-10-09T20:11:06.344542",
     "status": "completed"
    },
    "tags": []
   },
   "source": [
    "You are going to write a classifier that distinguishes between the number 3 and number 8."
   ]
  },
  {
   "cell_type": "code",
   "execution_count": 1,
   "id": "b15c8646",
   "metadata": {
    "execution": {
     "iopub.execute_input": "2022-10-09T20:11:06.427553Z",
     "iopub.status.busy": "2022-10-09T20:11:06.424144Z",
     "iopub.status.idle": "2022-10-09T20:11:06.438400Z",
     "shell.execute_reply": "2022-10-09T20:11:06.437902Z"
    },
    "papermill": {
     "duration": 0.046516,
     "end_time": "2022-10-09T20:11:06.438536",
     "exception": false,
     "start_time": "2022-10-09T20:11:06.392020",
     "status": "completed"
    },
    "tags": []
   },
   "outputs": [],
   "source": [
    "%load_ext autoreload\n",
    "%autoreload 2"
   ]
  },
  {
   "cell_type": "code",
   "execution_count": 2,
   "id": "22ef38dc",
   "metadata": {
    "execution": {
     "iopub.execute_input": "2022-10-09T20:11:06.490751Z",
     "iopub.status.busy": "2022-10-09T20:11:06.490146Z",
     "iopub.status.idle": "2022-10-09T20:11:07.036933Z",
     "shell.execute_reply": "2022-10-09T20:11:07.036336Z"
    },
    "papermill": {
     "duration": 0.574628,
     "end_time": "2022-10-09T20:11:07.037070",
     "exception": false,
     "start_time": "2022-10-09T20:11:06.462442",
     "status": "completed"
    },
    "tags": []
   },
   "outputs": [],
   "source": [
    "%matplotlib inline\n",
    "import numpy as np\n",
    "import matplotlib.pyplot as plt\n",
    "import pandas as pd"
   ]
  },
  {
   "cell_type": "markdown",
   "id": "ba036198",
   "metadata": {
    "papermill": {
     "duration": 0.023772,
     "end_time": "2022-10-09T20:11:07.084616",
     "exception": false,
     "start_time": "2022-10-09T20:11:07.060844",
     "status": "completed"
    },
    "tags": []
   },
   "source": [
    "From the command line run `pip install mnist`. This is a library that will help you bring down the mnist dataset. If you run this from a notebook, you need to put  `!pip install mnist` in a cell by itself."
   ]
  },
  {
   "cell_type": "code",
   "execution_count": 3,
   "id": "bb6ad8a1",
   "metadata": {
    "execution": {
     "iopub.execute_input": "2022-10-09T20:11:07.136795Z",
     "iopub.status.busy": "2022-10-09T20:11:07.136197Z",
     "iopub.status.idle": "2022-10-09T20:11:08.725783Z",
     "shell.execute_reply": "2022-10-09T20:11:08.725225Z"
    },
    "papermill": {
     "duration": 1.617459,
     "end_time": "2022-10-09T20:11:08.725911",
     "exception": false,
     "start_time": "2022-10-09T20:11:07.108452",
     "status": "completed"
    },
    "tags": []
   },
   "outputs": [
    {
     "name": "stdout",
     "output_type": "stream",
     "text": [
      "Collecting mnist\r\n"
     ]
    },
    {
     "name": "stdout",
     "output_type": "stream",
     "text": [
      "  Downloading mnist-0.2.2-py2.py3-none-any.whl (3.5 kB)\r\n",
      "Requirement already satisfied: numpy in /opt/hostedtoolcache/Python/3.6.15/x64/lib/python3.6/site-packages (from mnist) (1.19.5)\r\n"
     ]
    },
    {
     "name": "stdout",
     "output_type": "stream",
     "text": [
      "Installing collected packages: mnist\r\n"
     ]
    },
    {
     "name": "stdout",
     "output_type": "stream",
     "text": [
      "Successfully installed mnist-0.2.2\r\n"
     ]
    }
   ],
   "source": [
    "!pip install mnist"
   ]
  },
  {
   "cell_type": "markdown",
   "id": "69df9c9a",
   "metadata": {
    "papermill": {
     "duration": 0.024891,
     "end_time": "2022-10-09T20:11:08.776007",
     "exception": false,
     "start_time": "2022-10-09T20:11:08.751116",
     "status": "completed"
    },
    "tags": []
   },
   "source": [
    "## Preparing the Data"
   ]
  },
  {
   "cell_type": "code",
   "execution_count": 4,
   "id": "7f69d806",
   "metadata": {
    "execution": {
     "iopub.execute_input": "2022-10-09T20:11:08.829819Z",
     "iopub.status.busy": "2022-10-09T20:11:08.829211Z",
     "iopub.status.idle": "2022-10-09T20:11:08.845343Z",
     "shell.execute_reply": "2022-10-09T20:11:08.844866Z"
    },
    "papermill": {
     "duration": 0.044745,
     "end_time": "2022-10-09T20:11:08.845460",
     "exception": false,
     "start_time": "2022-10-09T20:11:08.800715",
     "status": "completed"
    },
    "tags": []
   },
   "outputs": [],
   "source": [
    "import mnist"
   ]
  },
  {
   "cell_type": "code",
   "execution_count": 5,
   "id": "a411e44f",
   "metadata": {
    "execution": {
     "iopub.execute_input": "2022-10-09T20:11:08.898601Z",
     "iopub.status.busy": "2022-10-09T20:11:08.898025Z",
     "iopub.status.idle": "2022-10-09T20:11:09.570478Z",
     "shell.execute_reply": "2022-10-09T20:11:09.571058Z"
    },
    "papermill": {
     "duration": 0.700955,
     "end_time": "2022-10-09T20:11:09.571223",
     "exception": false,
     "start_time": "2022-10-09T20:11:08.870268",
     "status": "completed"
    },
    "tags": []
   },
   "outputs": [],
   "source": [
    "train_images = mnist.train_images()\n",
    "train_labels = mnist.train_labels()"
   ]
  },
  {
   "cell_type": "code",
   "execution_count": 6,
   "id": "dceab3a5",
   "metadata": {
    "execution": {
     "iopub.execute_input": "2022-10-09T20:11:09.630970Z",
     "iopub.status.busy": "2022-10-09T20:11:09.629744Z",
     "iopub.status.idle": "2022-10-09T20:11:09.642110Z",
     "shell.execute_reply": "2022-10-09T20:11:09.642658Z"
    },
    "papermill": {
     "duration": 0.045903,
     "end_time": "2022-10-09T20:11:09.642793",
     "exception": false,
     "start_time": "2022-10-09T20:11:09.596890",
     "status": "completed"
    },
    "tags": []
   },
   "outputs": [
    {
     "data": {
      "text/plain": [
       "((60000, 28, 28), (60000,))"
      ]
     },
     "execution_count": 6,
     "metadata": {},
     "output_type": "execute_result"
    }
   ],
   "source": [
    "train_images.shape, train_labels.shape"
   ]
  },
  {
   "cell_type": "code",
   "execution_count": 7,
   "id": "f50dc2bb",
   "metadata": {
    "execution": {
     "iopub.execute_input": "2022-10-09T20:11:09.698301Z",
     "iopub.status.busy": "2022-10-09T20:11:09.697701Z",
     "iopub.status.idle": "2022-10-09T20:11:09.970911Z",
     "shell.execute_reply": "2022-10-09T20:11:09.970363Z"
    },
    "papermill": {
     "duration": 0.303149,
     "end_time": "2022-10-09T20:11:09.971036",
     "exception": false,
     "start_time": "2022-10-09T20:11:09.667887",
     "status": "completed"
    },
    "tags": []
   },
   "outputs": [],
   "source": [
    "test_images = mnist.test_images()\n",
    "test_labels = mnist.test_labels()"
   ]
  },
  {
   "cell_type": "code",
   "execution_count": 8,
   "id": "fc38cf1b",
   "metadata": {
    "execution": {
     "iopub.execute_input": "2022-10-09T20:11:10.035165Z",
     "iopub.status.busy": "2022-10-09T20:11:10.034481Z",
     "iopub.status.idle": "2022-10-09T20:11:10.043278Z",
     "shell.execute_reply": "2022-10-09T20:11:10.043741Z"
    },
    "papermill": {
     "duration": 0.047203,
     "end_time": "2022-10-09T20:11:10.043889",
     "exception": false,
     "start_time": "2022-10-09T20:11:09.996686",
     "status": "completed"
    },
    "tags": []
   },
   "outputs": [
    {
     "data": {
      "text/plain": [
       "((10000, 28, 28), (10000,))"
      ]
     },
     "execution_count": 8,
     "metadata": {},
     "output_type": "execute_result"
    }
   ],
   "source": [
    "test_images.shape, test_labels.shape"
   ]
  },
  {
   "cell_type": "code",
   "execution_count": 9,
   "id": "f9ed8fe0",
   "metadata": {
    "execution": {
     "iopub.execute_input": "2022-10-09T20:11:10.104363Z",
     "iopub.status.busy": "2022-10-09T20:11:10.103755Z",
     "iopub.status.idle": "2022-10-09T20:11:10.241891Z",
     "shell.execute_reply": "2022-10-09T20:11:10.241336Z"
    },
    "papermill": {
     "duration": 0.172391,
     "end_time": "2022-10-09T20:11:10.242032",
     "exception": false,
     "start_time": "2022-10-09T20:11:10.069641",
     "status": "completed"
    },
    "tags": []
   },
   "outputs": [
    {
     "name": "stdout",
     "output_type": "stream",
     "text": [
      "2\n"
     ]
    },
    {
     "data": {
      "text/plain": [
       "<matplotlib.image.AxesImage at 0x7efc40b8fcc0>"
      ]
     },
     "execution_count": 9,
     "metadata": {},
     "output_type": "execute_result"
    },
    {
     "data": {
      "image/png": "[encoded data removed]",
      "text/plain": [
       "<Figure size 432x288 with 1 Axes>"
      ]
     },
     "metadata": {
      "needs_background": "light"
     },
     "output_type": "display_data"
    }
   ],
   "source": [
    "image_index = 7776 # You may select anything up to 60,000\n",
    "print(train_labels[image_index]) \n",
    "plt.imshow(train_images[image_index], cmap='Greys')"
   ]
  },
  {
   "cell_type": "markdown",
   "id": "a8d2388d",
   "metadata": {
    "papermill": {
     "duration": 0.027496,
     "end_time": "2022-10-09T20:11:10.296828",
     "exception": false,
     "start_time": "2022-10-09T20:11:10.269332",
     "status": "completed"
    },
    "tags": []
   },
   "source": [
    "## Filter data to get 3 and 8 out"
   ]
  },
  {
   "cell_type": "code",
   "execution_count": 10,
   "id": "776f7fc7",
   "metadata": {
    "execution": {
     "iopub.execute_input": "2022-10-09T20:11:10.367885Z",
     "iopub.status.busy": "2022-10-09T20:11:10.367245Z",
     "iopub.status.idle": "2022-10-09T20:11:10.378578Z",
     "shell.execute_reply": "2022-10-09T20:11:10.378080Z"
    },
    "papermill": {
     "duration": 0.055482,
     "end_time": "2022-10-09T20:11:10.378695",
     "exception": false,
     "start_time": "2022-10-09T20:11:10.323213",
     "status": "completed"
    },
    "tags": []
   },
   "outputs": [],
   "source": [
    "train_filter = np.where((train_labels == 3 ) | (train_labels == 8))\n",
    "test_filter = np.where((test_labels == 3) | (test_labels == 8))\n",
    "X_train, y_train = train_images[train_filter], train_labels[train_filter]\n",
    "X_test, y_test = test_images[test_filter], test_labels[test_filter]"
   ]
  },
  {
   "cell_type": "markdown",
   "id": "948f0b7e",
   "metadata": {
    "papermill": {
     "duration": 0.026755,
     "end_time": "2022-10-09T20:11:10.432463",
     "exception": false,
     "start_time": "2022-10-09T20:11:10.405708",
     "status": "completed"
    },
    "tags": []
   },
   "source": [
    "We normalize the pizel values in the 0 to 1 range"
   ]
  },
  {
   "cell_type": "code",
   "execution_count": 11,
   "id": "ee4c2166",
   "metadata": {
    "execution": {
     "iopub.execute_input": "2022-10-09T20:11:10.495245Z",
     "iopub.status.busy": "2022-10-09T20:11:10.489955Z",
     "iopub.status.idle": "2022-10-09T20:11:10.538920Z",
     "shell.execute_reply": "2022-10-09T20:11:10.538393Z"
    },
    "papermill": {
     "duration": 0.079952,
     "end_time": "2022-10-09T20:11:10.539048",
     "exception": false,
     "start_time": "2022-10-09T20:11:10.459096",
     "status": "completed"
    },
    "tags": []
   },
   "outputs": [],
   "source": [
    "X_train = X_train/255.\n",
    "X_test = X_test/255."
   ]
  },
  {
   "cell_type": "markdown",
   "id": "ddcf4fab",
   "metadata": {
    "papermill": {
     "duration": 0.02695,
     "end_time": "2022-10-09T20:11:10.592947",
     "exception": false,
     "start_time": "2022-10-09T20:11:10.565997",
     "status": "completed"
    },
    "tags": []
   },
   "source": [
    "And setup the labels as 1 (when the digit is 3) and 0 (when the digit is 8)"
   ]
  },
  {
   "cell_type": "code",
   "execution_count": 12,
   "id": "7dc908f2",
   "metadata": {
    "execution": {
     "iopub.execute_input": "2022-10-09T20:11:10.652546Z",
     "iopub.status.busy": "2022-10-09T20:11:10.651955Z",
     "iopub.status.idle": "2022-10-09T20:11:10.665441Z",
     "shell.execute_reply": "2022-10-09T20:11:10.664951Z"
    },
    "papermill": {
     "duration": 0.044215,
     "end_time": "2022-10-09T20:11:10.665555",
     "exception": false,
     "start_time": "2022-10-09T20:11:10.621340",
     "status": "completed"
    },
    "tags": []
   },
   "outputs": [],
   "source": [
    "y_train = 1*(y_train==3)\n",
    "y_test = 1*(y_test==3)"
   ]
  },
  {
   "cell_type": "code",
   "execution_count": 13,
   "id": "01e4e969",
   "metadata": {
    "execution": {
     "iopub.execute_input": "2022-10-09T20:11:10.723551Z",
     "iopub.status.busy": "2022-10-09T20:11:10.722977Z",
     "iopub.status.idle": "2022-10-09T20:11:10.736961Z",
     "shell.execute_reply": "2022-10-09T20:11:10.736465Z"
    },
    "papermill": {
     "duration": 0.043836,
     "end_time": "2022-10-09T20:11:10.737075",
     "exception": false,
     "start_time": "2022-10-09T20:11:10.693239",
     "status": "completed"
    },
    "tags": []
   },
   "outputs": [
    {
     "data": {
      "text/plain": [
       "((11982, 28, 28), (1984, 28, 28))"
      ]
     },
     "execution_count": 13,
     "metadata": {},
     "output_type": "execute_result"
    }
   ],
   "source": [
    "X_train.shape, X_test.shape"
   ]
  },
  {
   "cell_type": "markdown",
   "id": "5ccf3f85",
   "metadata": {
    "papermill": {
     "duration": 0.026693,
     "end_time": "2022-10-09T20:11:10.790294",
     "exception": false,
     "start_time": "2022-10-09T20:11:10.763601",
     "status": "completed"
    },
    "tags": []
   },
   "source": [
    "We reshape the data to flatten the image pixels into a set of features or co-variates:"
   ]
  },
  {
   "cell_type": "code",
   "execution_count": 14,
   "id": "5286a4a3",
   "metadata": {
    "execution": {
     "iopub.execute_input": "2022-10-09T20:11:10.858119Z",
     "iopub.status.busy": "2022-10-09T20:11:10.854635Z",
     "iopub.status.idle": "2022-10-09T20:11:10.866480Z",
     "shell.execute_reply": "2022-10-09T20:11:10.865575Z"
    },
    "papermill": {
     "duration": 0.049424,
     "end_time": "2022-10-09T20:11:10.866603",
     "exception": false,
     "start_time": "2022-10-09T20:11:10.817179",
     "status": "completed"
    },
    "tags": []
   },
   "outputs": [
    {
     "data": {
      "text/plain": [
       "((11982, 784), (1984, 784))"
      ]
     },
     "execution_count": 14,
     "metadata": {},
     "output_type": "execute_result"
    }
   ],
   "source": [
    "X_train = X_train.reshape(X_train.shape[0], -1)\n",
    "X_test = X_test.reshape(X_test.shape[0], -1)\n",
    "X_train.shape, X_test.shape"
   ]
  },
  {
   "cell_type": "code",
   "execution_count": 15,
   "id": "73c5f88a",
   "metadata": {
    "execution": {
     "iopub.execute_input": "2022-10-09T20:11:10.929660Z",
     "iopub.status.busy": "2022-10-09T20:11:10.926603Z",
     "iopub.status.idle": "2022-10-09T20:11:10.944897Z",
     "shell.execute_reply": "2022-10-09T20:11:10.945363Z"
    },
    "papermill": {
     "duration": 0.051716,
     "end_time": "2022-10-09T20:11:10.945497",
     "exception": false,
     "start_time": "2022-10-09T20:11:10.893781",
     "status": "completed"
    },
    "tags": []
   },
   "outputs": [],
   "source": [
    "#Impoting functions from 'Kudzu'\n",
    "from kudzu.model import Model\n",
    "from kudzu.train import Learner\n",
    "from kudzu.optim import GD\n",
    "from kudzu.data import Data, Sampler,Dataloader\n",
    "\n",
    "from kudzu.callbacks import AccCallback\n",
    "from kudzu.callbacks import ClfCallback\n",
    "\n",
    "from kudzu.loss import MSE\n",
    "\n",
    "from kudzu.layer import Sigmoid,Relu\n",
    "from kudzu.layer import Affine"
   ]
  },
  {
   "cell_type": "markdown",
   "id": "bc01172a",
   "metadata": {
    "papermill": {
     "duration": 0.026994,
     "end_time": "2022-10-09T20:11:10.999634",
     "exception": false,
     "start_time": "2022-10-09T20:11:10.972640",
     "status": "completed"
    },
    "tags": []
   },
   "source": [
    "### Let us create a `Config` class, to store important parameters. \n",
    "This class essentially plays the role of a dictionary."
   ]
  },
  {
   "cell_type": "code",
   "execution_count": 16,
   "id": "978281aa",
   "metadata": {
    "execution": {
     "iopub.execute_input": "2022-10-09T20:11:11.072745Z",
     "iopub.status.busy": "2022-10-09T20:11:11.060382Z",
     "iopub.status.idle": "2022-10-09T20:11:11.075023Z",
     "shell.execute_reply": "2022-10-09T20:11:11.075473Z"
    },
    "papermill": {
     "duration": 0.048295,
     "end_time": "2022-10-09T20:11:11.075603",
     "exception": false,
     "start_time": "2022-10-09T20:11:11.027308",
     "status": "completed"
    },
    "tags": []
   },
   "outputs": [],
   "source": [
    "class Config:\n",
    "    pass\n",
    "config = Config()\n",
    "config.lr = 0.001\n",
    "config.num_epochs = 250\n",
    "config.bs = 50"
   ]
  },
  {
   "cell_type": "markdown",
   "id": "1385fa59",
   "metadata": {
    "papermill": {
     "duration": 0.027247,
     "end_time": "2022-10-09T20:11:11.129902",
     "exception": false,
     "start_time": "2022-10-09T20:11:11.102655",
     "status": "completed"
    },
    "tags": []
   },
   "source": [
    "### Running Models with the Training data\n",
    "Details about the network layers:\n",
    "- A first affine layer has 784 inputs and does 100 affine transforms. These are followed by a Relu\n",
    "- A second affine layer has 100 inputs from the 100 activations of the past layer, and does 100 affine transforms. These are followed by a Relu\n",
    "- A third affine layer has 100 activations and does 2 affine transformations to create an embedding for visualization. There is no non-linearity here.\n",
    "- A final \"logistic regression\" which has an affine transform from 2 inputs to 1 output, which is squeezed through a sigmoid.\n"
   ]
  },
  {
   "cell_type": "code",
   "execution_count": 17,
   "id": "2b9c66db",
   "metadata": {
    "execution": {
     "iopub.execute_input": "2022-10-09T20:11:11.192026Z",
     "iopub.status.busy": "2022-10-09T20:11:11.191407Z",
     "iopub.status.idle": "2022-10-09T20:11:11.202718Z",
     "shell.execute_reply": "2022-10-09T20:11:11.203179Z"
    },
    "papermill": {
     "duration": 0.04638,
     "end_time": "2022-10-09T20:11:11.203319",
     "exception": false,
     "start_time": "2022-10-09T20:11:11.156939",
     "status": "completed"
    },
    "tags": []
   },
   "outputs": [],
   "source": [
    "data = Data(X_train, y_train.reshape(-1,1))\n",
    "sampler = Sampler(data, config.bs, shuffle=True)\n",
    "\n",
    "dl = Dataloader(data, sampler)\n",
    "\n",
    "opt = GD(config.lr)\n",
    "loss = MSE()"
   ]
  },
  {
   "cell_type": "code",
   "execution_count": 18,
   "id": "b275e4c2",
   "metadata": {
    "execution": {
     "iopub.execute_input": "2022-10-09T20:11:11.274693Z",
     "iopub.status.busy": "2022-10-09T20:11:11.269872Z",
     "iopub.status.idle": "2022-10-09T20:11:11.276789Z",
     "shell.execute_reply": "2022-10-09T20:11:11.277276Z"
    },
    "papermill": {
     "duration": 0.046433,
     "end_time": "2022-10-09T20:11:11.277408",
     "exception": false,
     "start_time": "2022-10-09T20:11:11.230975",
     "status": "completed"
    },
    "tags": []
   },
   "outputs": [],
   "source": [
    "training_data_x = X_train\n",
    "testing_data_x = X_test\n",
    "training_data_y = y_train.reshape(-1,1)\n",
    "testing_data_y = y_test.reshape(-1,1)"
   ]
  },
  {
   "cell_type": "code",
   "execution_count": 19,
   "id": "76951160",
   "metadata": {
    "execution": {
     "iopub.execute_input": "2022-10-09T20:11:11.346490Z",
     "iopub.status.busy": "2022-10-09T20:11:11.337550Z",
     "iopub.status.idle": "2022-10-09T20:11:11.352506Z",
     "shell.execute_reply": "2022-10-09T20:11:11.352976Z"
    },
    "papermill": {
     "duration": 0.048914,
     "end_time": "2022-10-09T20:11:11.353107",
     "exception": false,
     "start_time": "2022-10-09T20:11:11.304193",
     "status": "completed"
    },
    "tags": []
   },
   "outputs": [
    {
     "name": "stdout",
     "output_type": "stream",
     "text": [
      "xavier\n",
      "xavier\n",
      "xavier\n",
      "xavier\n",
      "xavier\n"
     ]
    }
   ],
   "source": [
    "layers = [Affine(\"first\", 784, 100), Relu(\"first\"), Affine(\"second\", 100, 100), Relu(\"second\"), Affine(\"third\", 100, 2), Affine(\"last\", 2, 1), Sigmoid(\"last\")]\n",
    "model_nn = Model(layers)\n",
    "model_lr = Model([Affine(\"logits\", 784, 1), Sigmoid(\"sigmoid\")])"
   ]
  },
  {
   "cell_type": "code",
   "execution_count": 20,
   "id": "6eede77a",
   "metadata": {
    "execution": {
     "iopub.execute_input": "2022-10-09T20:11:11.413463Z",
     "iopub.status.busy": "2022-10-09T20:11:11.412855Z",
     "iopub.status.idle": "2022-10-09T20:11:11.424670Z",
     "shell.execute_reply": "2022-10-09T20:11:11.424197Z"
    },
    "papermill": {
     "duration": 0.04436,
     "end_time": "2022-10-09T20:11:11.424780",
     "exception": false,
     "start_time": "2022-10-09T20:11:11.380420",
     "status": "completed"
    },
    "tags": []
   },
   "outputs": [],
   "source": [
    "nn_learner = Learner(loss, model_nn, opt, config.num_epochs)\n",
    "acc_nn = ClfCallback(nn_learner, config.bs, training_data_x , testing_data_x, training_data_y, testing_data_y)\n",
    "nn_learner.set_callbacks([acc_nn])"
   ]
  },
  {
   "cell_type": "code",
   "execution_count": 21,
   "id": "877b6cc7",
   "metadata": {
    "execution": {
     "iopub.execute_input": "2022-10-09T20:11:11.484881Z",
     "iopub.status.busy": "2022-10-09T20:11:11.484270Z",
     "iopub.status.idle": "2022-10-09T20:11:11.497537Z",
     "shell.execute_reply": "2022-10-09T20:11:11.497054Z"
    },
    "papermill": {
     "duration": 0.044504,
     "end_time": "2022-10-09T20:11:11.497646",
     "exception": false,
     "start_time": "2022-10-09T20:11:11.453142",
     "status": "completed"
    },
    "tags": []
   },
   "outputs": [],
   "source": [
    "lr_learner = Learner(loss, model_lr, opt, config.num_epochs)\n",
    "acc_lr = ClfCallback(lr_learner, config.bs, training_data_x , testing_data_x, training_data_y, testing_data_y)\n",
    "lr_learner.set_callbacks([acc_lr])"
   ]
  },
  {
   "cell_type": "code",
   "execution_count": 22,
   "id": "d9b133c3",
   "metadata": {
    "execution": {
     "iopub.execute_input": "2022-10-09T20:11:11.555674Z",
     "iopub.status.busy": "2022-10-09T20:11:11.555101Z",
     "iopub.status.idle": "2022-10-09T20:12:28.863946Z",
     "shell.execute_reply": "2022-10-09T20:12:28.864867Z"
    },
    "papermill": {
     "duration": 77.340042,
     "end_time": "2022-10-09T20:12:28.865026",
     "exception": false,
     "start_time": "2022-10-09T20:11:11.524984",
     "status": "completed"
    },
    "tags": []
   },
   "outputs": [
    {
     "name": "stdout",
     "output_type": "stream",
     "text": [
      "Epoch 0, Loss 0.2415\n",
      "Training Accuracy: 0.7162, Testing Accuracy: 0.7495\n",
      "\n"
     ]
    },
    {
     "name": "stdout",
     "output_type": "stream",
     "text": [
      "Epoch 10, Loss 0.0781\n",
      "Training Accuracy: 0.9216, Testing Accuracy: 0.9345\n",
      "\n"
     ]
    },
    {
     "name": "stdout",
     "output_type": "stream",
     "text": [
      "Epoch 20, Loss 0.0517\n",
      "Training Accuracy: 0.9462, Testing Accuracy: 0.9551\n",
      "\n"
     ]
    },
    {
     "name": "stdout",
     "output_type": "stream",
     "text": [
      "Epoch 30, Loss 0.042\n",
      "Training Accuracy: 0.9538, Testing Accuracy: 0.9627\n",
      "\n"
     ]
    },
    {
     "name": "stdout",
     "output_type": "stream",
     "text": [
      "Epoch 40, Loss 0.037\n",
      "Training Accuracy: 0.9572, Testing Accuracy: 0.9647\n",
      "\n"
     ]
    },
    {
     "name": "stdout",
     "output_type": "stream",
     "text": [
      "Epoch 50, Loss 0.0337\n",
      "Training Accuracy: 0.9606, Testing Accuracy: 0.9677\n",
      "\n"
     ]
    },
    {
     "name": "stdout",
     "output_type": "stream",
     "text": [
      "Epoch 60, Loss 0.0315\n",
      "Training Accuracy: 0.9632, Testing Accuracy: 0.9677\n",
      "\n"
     ]
    },
    {
     "name": "stdout",
     "output_type": "stream",
     "text": [
      "Epoch 70, Loss 0.0297\n",
      "Training Accuracy: 0.9649, Testing Accuracy: 0.9677\n",
      "\n"
     ]
    },
    {
     "name": "stdout",
     "output_type": "stream",
     "text": [
      "Epoch 80, Loss 0.0283\n",
      "Training Accuracy: 0.9667, Testing Accuracy: 0.9682\n",
      "\n"
     ]
    },
    {
     "name": "stdout",
     "output_type": "stream",
     "text": [
      "Epoch 90, Loss 0.0271\n",
      "Training Accuracy: 0.9682, Testing Accuracy: 0.9688\n",
      "\n"
     ]
    },
    {
     "name": "stdout",
     "output_type": "stream",
     "text": [
      "Epoch 100, Loss 0.0261\n",
      "Training Accuracy: 0.9695, Testing Accuracy: 0.9693\n",
      "\n"
     ]
    },
    {
     "name": "stdout",
     "output_type": "stream",
     "text": [
      "Epoch 110, Loss 0.0252\n",
      "Training Accuracy: 0.9708, Testing Accuracy: 0.9693\n",
      "\n"
     ]
    },
    {
     "name": "stdout",
     "output_type": "stream",
     "text": [
      "Epoch 120, Loss 0.0244\n",
      "Training Accuracy: 0.9716, Testing Accuracy: 0.9693\n",
      "\n"
     ]
    },
    {
     "name": "stdout",
     "output_type": "stream",
     "text": [
      "Epoch 130, Loss 0.0236\n",
      "Training Accuracy: 0.9722, Testing Accuracy: 0.9693\n",
      "\n"
     ]
    },
    {
     "name": "stdout",
     "output_type": "stream",
     "text": [
      "Epoch 140, Loss 0.0229\n",
      "Training Accuracy: 0.9732, Testing Accuracy: 0.9703\n",
      "\n"
     ]
    },
    {
     "name": "stdout",
     "output_type": "stream",
     "text": [
      "Epoch 150, Loss 0.0223\n",
      "Training Accuracy: 0.9741, Testing Accuracy: 0.9703\n",
      "\n"
     ]
    },
    {
     "name": "stdout",
     "output_type": "stream",
     "text": [
      "Epoch 160, Loss 0.0217\n",
      "Training Accuracy: 0.9750, Testing Accuracy: 0.9703\n",
      "\n"
     ]
    },
    {
     "name": "stdout",
     "output_type": "stream",
     "text": [
      "Epoch 170, Loss 0.0212\n",
      "Training Accuracy: 0.9755, Testing Accuracy: 0.9723\n",
      "\n"
     ]
    },
    {
     "name": "stdout",
     "output_type": "stream",
     "text": [
      "Epoch 180, Loss 0.0207\n",
      "Training Accuracy: 0.9759, Testing Accuracy: 0.9728\n",
      "\n"
     ]
    },
    {
     "name": "stdout",
     "output_type": "stream",
     "text": [
      "Epoch 190, Loss 0.0202\n",
      "Training Accuracy: 0.9769, Testing Accuracy: 0.9728\n",
      "\n"
     ]
    },
    {
     "name": "stdout",
     "output_type": "stream",
     "text": [
      "Epoch 200, Loss 0.0197\n",
      "Training Accuracy: 0.9772, Testing Accuracy: 0.9738\n",
      "\n"
     ]
    },
    {
     "name": "stdout",
     "output_type": "stream",
     "text": [
      "Epoch 210, Loss 0.0193\n",
      "Training Accuracy: 0.9778, Testing Accuracy: 0.9743\n",
      "\n"
     ]
    },
    {
     "name": "stdout",
     "output_type": "stream",
     "text": [
      "Epoch 220, Loss 0.0188\n",
      "Training Accuracy: 0.9785, Testing Accuracy: 0.9748\n",
      "\n"
     ]
    },
    {
     "name": "stdout",
     "output_type": "stream",
     "text": [
      "Epoch 230, Loss 0.0184\n",
      "Training Accuracy: 0.9790, Testing Accuracy: 0.9753\n",
      "\n"
     ]
    },
    {
     "name": "stdout",
     "output_type": "stream",
     "text": [
      "Epoch 240, Loss 0.018\n",
      "Training Accuracy: 0.9794, Testing Accuracy: 0.9768\n",
      "\n"
     ]
    },
    {
     "data": {
      "text/plain": [
       "0.007445754037637904"
      ]
     },
     "execution_count": 22,
     "metadata": {},
     "output_type": "execute_result"
    }
   ],
   "source": [
    "nn_learner.train_loop(dl)"
   ]
  },
  {
   "cell_type": "code",
   "execution_count": 23,
   "id": "e0163366",
   "metadata": {
    "execution": {
     "iopub.execute_input": "2022-10-09T20:12:28.948878Z",
     "iopub.status.busy": "2022-10-09T20:12:28.948207Z",
     "iopub.status.idle": "2022-10-09T20:12:42.863059Z",
     "shell.execute_reply": "2022-10-09T20:12:42.863910Z"
    },
    "papermill": {
     "duration": 13.963906,
     "end_time": "2022-10-09T20:12:42.864065",
     "exception": false,
     "start_time": "2022-10-09T20:12:28.900159",
     "status": "completed"
    },
    "tags": []
   },
   "outputs": [
    {
     "name": "stdout",
     "output_type": "stream",
     "text": [
      "Epoch 0, Loss 0.2284\n",
      "Training Accuracy: 0.7359, Testing Accuracy: 0.7253\n",
      "\n"
     ]
    },
    {
     "name": "stdout",
     "output_type": "stream",
     "text": [
      "Epoch 10, Loss 0.0983\n",
      "Training Accuracy: 0.9191, Testing Accuracy: 0.9299\n",
      "\n"
     ]
    },
    {
     "name": "stdout",
     "output_type": "stream",
     "text": [
      "Epoch 20, Loss 0.0762\n",
      "Training Accuracy: 0.9350, Testing Accuracy: 0.9441\n",
      "\n"
     ]
    },
    {
     "name": "stdout",
     "output_type": "stream",
     "text": [
      "Epoch 30, Loss 0.066\n",
      "Training Accuracy: 0.9418, Testing Accuracy: 0.9481\n",
      "\n"
     ]
    },
    {
     "name": "stdout",
     "output_type": "stream",
     "text": [
      "Epoch 40, Loss 0.0599\n",
      "Training Accuracy: 0.9460, Testing Accuracy: 0.9521\n",
      "\n"
     ]
    },
    {
     "name": "stdout",
     "output_type": "stream",
     "text": [
      "Epoch 50, Loss 0.0558\n",
      "Training Accuracy: 0.9482, Testing Accuracy: 0.9546\n",
      "\n"
     ]
    },
    {
     "name": "stdout",
     "output_type": "stream",
     "text": [
      "Epoch 60, Loss 0.0527\n",
      "Training Accuracy: 0.9498, Testing Accuracy: 0.9561\n",
      "\n"
     ]
    },
    {
     "name": "stdout",
     "output_type": "stream",
     "text": [
      "Epoch 70, Loss 0.0503\n",
      "Training Accuracy: 0.9515, Testing Accuracy: 0.9602\n",
      "\n"
     ]
    },
    {
     "name": "stdout",
     "output_type": "stream",
     "text": [
      "Epoch 80, Loss 0.0484\n",
      "Training Accuracy: 0.9529, Testing Accuracy: 0.9612\n",
      "\n"
     ]
    },
    {
     "name": "stdout",
     "output_type": "stream",
     "text": [
      "Epoch 90, Loss 0.0468\n",
      "Training Accuracy: 0.9536, Testing Accuracy: 0.9632\n",
      "\n"
     ]
    },
    {
     "name": "stdout",
     "output_type": "stream",
     "text": [
      "Epoch 100, Loss 0.0455\n",
      "Training Accuracy: 0.9543, Testing Accuracy: 0.9637\n",
      "\n"
     ]
    },
    {
     "name": "stdout",
     "output_type": "stream",
     "text": [
      "Epoch 110, Loss 0.0443\n",
      "Training Accuracy: 0.9550, Testing Accuracy: 0.9652\n",
      "\n"
     ]
    },
    {
     "name": "stdout",
     "output_type": "stream",
     "text": [
      "Epoch 120, Loss 0.0433\n",
      "Training Accuracy: 0.9556, Testing Accuracy: 0.9657\n",
      "\n"
     ]
    },
    {
     "name": "stdout",
     "output_type": "stream",
     "text": [
      "Epoch 130, Loss 0.0424\n",
      "Training Accuracy: 0.9563, Testing Accuracy: 0.9657\n",
      "\n"
     ]
    },
    {
     "name": "stdout",
     "output_type": "stream",
     "text": [
      "Epoch 140, Loss 0.0416\n",
      "Training Accuracy: 0.9569, Testing Accuracy: 0.9657\n",
      "\n"
     ]
    },
    {
     "name": "stdout",
     "output_type": "stream",
     "text": [
      "Epoch 150, Loss 0.0409\n",
      "Training Accuracy: 0.9574, Testing Accuracy: 0.9652\n",
      "\n"
     ]
    },
    {
     "name": "stdout",
     "output_type": "stream",
     "text": [
      "Epoch 160, Loss 0.0403\n",
      "Training Accuracy: 0.9576, Testing Accuracy: 0.9652\n",
      "\n"
     ]
    },
    {
     "name": "stdout",
     "output_type": "stream",
     "text": [
      "Epoch 170, Loss 0.0397\n",
      "Training Accuracy: 0.9584, Testing Accuracy: 0.9647\n",
      "\n"
     ]
    },
    {
     "name": "stdout",
     "output_type": "stream",
     "text": [
      "Epoch 180, Loss 0.0392\n",
      "Training Accuracy: 0.9586, Testing Accuracy: 0.9652\n",
      "\n"
     ]
    },
    {
     "name": "stdout",
     "output_type": "stream",
     "text": [
      "Epoch 190, Loss 0.0387\n",
      "Training Accuracy: 0.9594, Testing Accuracy: 0.9657\n",
      "\n"
     ]
    },
    {
     "name": "stdout",
     "output_type": "stream",
     "text": [
      "Epoch 200, Loss 0.0382\n",
      "Training Accuracy: 0.9596, Testing Accuracy: 0.9657\n",
      "\n"
     ]
    },
    {
     "name": "stdout",
     "output_type": "stream",
     "text": [
      "Epoch 210, Loss 0.0378\n",
      "Training Accuracy: 0.9598, Testing Accuracy: 0.9657\n",
      "\n"
     ]
    },
    {
     "name": "stdout",
     "output_type": "stream",
     "text": [
      "Epoch 220, Loss 0.0374\n",
      "Training Accuracy: 0.9601, Testing Accuracy: 0.9657\n",
      "\n"
     ]
    },
    {
     "name": "stdout",
     "output_type": "stream",
     "text": [
      "Epoch 230, Loss 0.037\n",
      "Training Accuracy: 0.9602, Testing Accuracy: 0.9662\n",
      "\n"
     ]
    },
    {
     "name": "stdout",
     "output_type": "stream",
     "text": [
      "Epoch 240, Loss 0.0367\n",
      "Training Accuracy: 0.9605, Testing Accuracy: 0.9662\n",
      "\n"
     ]
    },
    {
     "data": {
      "text/plain": [
       "0.04144449323286723"
      ]
     },
     "execution_count": 23,
     "metadata": {},
     "output_type": "execute_result"
    }
   ],
   "source": [
    "lr_learner.train_loop(dl)"
   ]
  },
  {
   "cell_type": "code",
   "execution_count": 24,
   "id": "ca410940",
   "metadata": {
    "execution": {
     "iopub.execute_input": "2022-10-09T20:12:42.961585Z",
     "iopub.status.busy": "2022-10-09T20:12:42.960929Z",
     "iopub.status.idle": "2022-10-09T20:12:43.179021Z",
     "shell.execute_reply": "2022-10-09T20:12:43.178518Z"
    },
    "papermill": {
     "duration": 0.272914,
     "end_time": "2022-10-09T20:12:43.179149",
     "exception": false,
     "start_time": "2022-10-09T20:12:42.906235",
     "status": "completed"
    },
    "tags": []
   },
   "outputs": [
    {
     "data": {
      "text/plain": [
       "<matplotlib.legend.Legend at 0x7efc406fd390>"
      ]
     },
     "execution_count": 24,
     "metadata": {},
     "output_type": "execute_result"
    },
    {
     "data": {
      "image/png": "[encoded data removed]",
      "text/plain": [
       "<Figure size 1080x720 with 1 Axes>"
      ]
     },
     "metadata": {
      "needs_background": "light"
     },
     "output_type": "display_data"
    }
   ],
   "source": [
    "#comparing the results of NN and LR\n",
    "plt.figure(figsize=(15,10))\n",
    "\n",
    "# Neural Network plots\n",
    "plt.plot(acc_nn.accuracies, 'r-', label = \"Training Accuracies - NN\")\n",
    "plt.plot(acc_nn.test_accuracies, 'g-', label = \"Testing Accuracies - NN\")\n",
    "\n",
    "# Logistic Regression plots\n",
    "plt.plot(acc_lr.accuracies, 'k-', label = \"Training Accuracies - LR\")\n",
    "plt.plot(acc_lr.test_accuracies, 'b-', label = \"Testing Accuracies - LR\")\n",
    "plt.legend()"
   ]
  },
  {
   "cell_type": "markdown",
   "id": "80dfb35c",
   "metadata": {
    "papermill": {
     "duration": 0.042174,
     "end_time": "2022-10-09T20:12:43.263973",
     "exception": false,
     "start_time": "2022-10-09T20:12:43.221799",
     "status": "completed"
    },
    "tags": []
   },
   "source": [
    "#### Plotting the outputs of this layer of the NN.\n"
   ]
  },
  {
   "cell_type": "code",
   "execution_count": 25,
   "id": "45eb2ff5",
   "metadata": {
    "execution": {
     "iopub.execute_input": "2022-10-09T20:12:43.355165Z",
     "iopub.status.busy": "2022-10-09T20:12:43.354056Z",
     "iopub.status.idle": "2022-10-09T20:12:43.374096Z",
     "shell.execute_reply": "2022-10-09T20:12:43.373269Z"
    },
    "papermill": {
     "duration": 0.068081,
     "end_time": "2022-10-09T20:12:43.374223",
     "exception": false,
     "start_time": "2022-10-09T20:12:43.306142",
     "status": "completed"
    },
    "tags": []
   },
   "outputs": [],
   "source": [
    "new_model = Model(layers[:-2])\n",
    "testing_plot = new_model(testing_data_x)"
   ]
  },
  {
   "cell_type": "code",
   "execution_count": 26,
   "id": "4c0a5485",
   "metadata": {
    "execution": {
     "iopub.execute_input": "2022-10-09T20:12:43.464632Z",
     "iopub.status.busy": "2022-10-09T20:12:43.464031Z",
     "iopub.status.idle": "2022-10-09T20:12:43.643902Z",
     "shell.execute_reply": "2022-10-09T20:12:43.643300Z"
    },
    "papermill": {
     "duration": 0.227313,
     "end_time": "2022-10-09T20:12:43.644027",
     "exception": false,
     "start_time": "2022-10-09T20:12:43.416714",
     "status": "completed"
    },
    "tags": []
   },
   "outputs": [
    {
     "data": {
      "text/plain": [
       "Text(0.5, 1.0, 'Outputs')"
      ]
     },
     "execution_count": 26,
     "metadata": {},
     "output_type": "execute_result"
    },
    {
     "data": {
      "image/png": "[encoded data removed]",
      "text/plain": [
       "<Figure size 576x504 with 1 Axes>"
      ]
     },
     "metadata": {
      "needs_background": "light"
     },
     "output_type": "display_data"
    }
   ],
   "source": [
    "# Plotting the scatter plot of points and color coding by class\n",
    "plt.figure(figsize=(8,7))\n",
    "plt.scatter(testing_plot[:,0], testing_plot[:,1], alpha = 0.1, c = y_test.ravel());\n",
    "plt.title('Outputs')"
   ]
  },
  {
   "cell_type": "markdown",
   "id": "a74fcf8f",
   "metadata": {
    "papermill": {
     "duration": 0.044138,
     "end_time": "2022-10-09T20:12:43.733143",
     "exception": false,
     "start_time": "2022-10-09T20:12:43.689005",
     "status": "completed"
    },
    "tags": []
   },
   "source": [
    "Probability contours"
   ]
  },
  {
   "cell_type": "code",
   "execution_count": 27,
   "id": "d0afc8e3",
   "metadata": {
    "execution": {
     "iopub.execute_input": "2022-10-09T20:12:43.856017Z",
     "iopub.status.busy": "2022-10-09T20:12:43.855416Z",
     "iopub.status.idle": "2022-10-09T20:12:43.868166Z",
     "shell.execute_reply": "2022-10-09T20:12:43.868590Z"
    },
    "papermill": {
     "duration": 0.090962,
     "end_time": "2022-10-09T20:12:43.868728",
     "exception": false,
     "start_time": "2022-10-09T20:12:43.777766",
     "status": "completed"
    },
    "tags": []
   },
   "outputs": [],
   "source": [
    "model_prob = Model(layers[-2:]) "
   ]
  },
  {
   "cell_type": "code",
   "execution_count": 28,
   "id": "9b96e238",
   "metadata": {
    "execution": {
     "iopub.execute_input": "2022-10-09T20:12:43.966752Z",
     "iopub.status.busy": "2022-10-09T20:12:43.966124Z",
     "iopub.status.idle": "2022-10-09T20:12:43.977592Z",
     "shell.execute_reply": "2022-10-09T20:12:43.978026Z"
    },
    "papermill": {
     "duration": 0.064939,
     "end_time": "2022-10-09T20:12:43.978167",
     "exception": false,
     "start_time": "2022-10-09T20:12:43.913228",
     "status": "completed"
    },
    "tags": []
   },
   "outputs": [],
   "source": [
    "#creating the x and y ranges according to the above generated plot.\n",
    "x_range = np.linspace(-4, 1, 100) \n",
    "y_range = np.linspace(-6, 6, 100) \n",
    "x_grid, y_grid = np.meshgrid(x_range, y_range) # x_grid and y_grig are of size 100 X 100\n",
    "\n",
    "# converting x_grid and y_grid to continuous arrays\n",
    "x_gridflat = np.ravel(x_grid)\n",
    "y_gridflat = np.ravel(y_grid)\n",
    "\n",
    "# The last layer of the current model takes two columns as input. Hence transpose of np.vstack() is required.\n",
    "X = np.vstack((x_gridflat, y_gridflat)).T\n",
    "\n",
    "prob_contour = model_prob(X).reshape(100,100) "
   ]
  },
  {
   "cell_type": "code",
   "execution_count": 29,
   "id": "da72499a",
   "metadata": {
    "execution": {
     "iopub.execute_input": "2022-10-09T20:12:44.078828Z",
     "iopub.status.busy": "2022-10-09T20:12:44.078227Z",
     "iopub.status.idle": "2022-10-09T20:12:44.312153Z",
     "shell.execute_reply": "2022-10-09T20:12:44.311380Z"
    },
    "papermill": {
     "duration": 0.288514,
     "end_time": "2022-10-09T20:12:44.312279",
     "exception": false,
     "start_time": "2022-10-09T20:12:44.023765",
     "status": "completed"
    },
    "tags": []
   },
   "outputs": [
    {
     "data": {
      "image/png": "[encoded data removed]",
      "text/plain": [
       "<Figure size 720x648 with 1 Axes>"
      ]
     },
     "metadata": {
      "needs_background": "light"
     },
     "output_type": "display_data"
    }
   ],
   "source": [
    "plt.figure(figsize=(10,9))\n",
    "plt.scatter(testing_plot[:,0], testing_plot[:,1], alpha = 0.1, c = y_test.ravel())\n",
    "contours = plt.contour(x_grid,y_grid,prob_contour)\n",
    "plt.title('Probability Contours')\n",
    "plt.clabel(contours, inline = True );"
   ]
  },
  {
   "cell_type": "code",
   "execution_count": null,
   "id": "e81b4ac7",
   "metadata": {
    "papermill": {
     "duration": 0.04742,
     "end_time": "2022-10-09T20:12:44.407587",
     "exception": false,
     "start_time": "2022-10-09T20:12:44.360167",
     "status": "completed"
    },
    "tags": []
   },
   "outputs": [],
   "source": []
  }
 ],
 "metadata": {
  "kernelspec": {
   "display_name": "Python 3",
   "language": "python",
   "name": "python3"
  },
  "language_info": {
   "codemirror_mode": {
    "name": "ipython",
    "version": 3
   },
   "file_extension": ".py",
   "mimetype": "text/x-python",
   "name": "python",
   "nbconvert_exporter": "python",
   "pygments_lexer": "ipython3",
   "version": "3.6.15"
  },
  "papermill": {
   "default_parameters": {},
   "duration": 99.525267,
   "end_time": "2022-10-09T20:12:44.873786",
   "environment_variables": {},
   "exception": null,
   "input_path": "2020-08-11-part2.ipynb",
   "output_path": "2020-08-11-part2.ipynb",
   "parameters": {},
   "start_time": "2022-10-09T20:11:05.348519",
   "version": "2.3.3"
  }
 },
 "nbformat": 4,
 "nbformat_minor": 5
}