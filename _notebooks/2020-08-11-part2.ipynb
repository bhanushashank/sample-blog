{
 "cells": [
  {
   "cell_type": "markdown",
   "id": "98380cd3",
   "metadata": {
    "papermill": {
     "duration": 0.03969,
     "end_time": "2021-11-05T10:07:57.435827",
     "exception": false,
     "start_time": "2021-11-05T10:07:57.396137",
     "status": "completed"
    },
    "tags": []
   },
   "source": [
    "# Distinguish Your Own Digits (DYOD)"
   ]
  },
  {
   "cell_type": "markdown",
   "id": "ef31240d",
   "metadata": {
    "papermill": {
     "duration": 0.034402,
     "end_time": "2021-11-05T10:07:57.509828",
     "exception": false,
     "start_time": "2021-11-05T10:07:57.475426",
     "status": "completed"
    },
    "tags": []
   },
   "source": [
    "You are going to write a classifier that distinguishes between the number 3 and number 8."
   ]
  },
  {
   "cell_type": "code",
   "execution_count": 1,
   "id": "b15c8646",
   "metadata": {
    "execution": {
     "iopub.execute_input": "2021-11-05T10:07:57.591499Z",
     "iopub.status.busy": "2021-11-05T10:07:57.590538Z",
     "iopub.status.idle": "2021-11-05T10:07:57.620483Z",
     "shell.execute_reply": "2021-11-05T10:07:57.619913Z"
    },
    "papermill": {
     "duration": 0.07908,
     "end_time": "2021-11-05T10:07:57.620649",
     "exception": false,
     "start_time": "2021-11-05T10:07:57.541569",
     "status": "completed"
    },
    "tags": []
   },
   "outputs": [],
   "source": [
    "%load_ext autoreload\n",
    "%autoreload 2"
   ]
  },
  {
   "cell_type": "code",
   "execution_count": 2,
   "id": "22ef38dc",
   "metadata": {
    "execution": {
     "iopub.execute_input": "2021-11-05T10:07:57.691853Z",
     "iopub.status.busy": "2021-11-05T10:07:57.691168Z",
     "iopub.status.idle": "2021-11-05T10:07:58.364579Z",
     "shell.execute_reply": "2021-11-05T10:07:58.367722Z"
    },
    "papermill": {
     "duration": 0.715352,
     "end_time": "2021-11-05T10:07:58.367926",
     "exception": false,
     "start_time": "2021-11-05T10:07:57.652574",
     "status": "completed"
    },
    "tags": []
   },
   "outputs": [],
   "source": [
    "%matplotlib inline\n",
    "import numpy as np\n",
    "import matplotlib.pyplot as plt\n",
    "import pandas as pd"
   ]
  },
  {
   "cell_type": "markdown",
   "id": "ba036198",
   "metadata": {
    "papermill": {
     "duration": 0.031415,
     "end_time": "2021-11-05T10:07:58.431380",
     "exception": false,
     "start_time": "2021-11-05T10:07:58.399965",
     "status": "completed"
    },
    "tags": []
   },
   "source": [
    "From the command line run `pip install mnist`. This is a library that will help you bring down the mnist dataset. If you run this from a notebook, you need to put  `!pip install mnist` in a cell by itself."
   ]
  },
  {
   "cell_type": "code",
   "execution_count": 3,
   "id": "bb6ad8a1",
   "metadata": {
    "execution": {
     "iopub.execute_input": "2021-11-05T10:07:58.505821Z",
     "iopub.status.busy": "2021-11-05T10:07:58.505160Z",
     "iopub.status.idle": "2021-11-05T10:08:01.382025Z",
     "shell.execute_reply": "2021-11-05T10:08:01.381348Z"
    },
    "papermill": {
     "duration": 2.919708,
     "end_time": "2021-11-05T10:08:01.382175",
     "exception": false,
     "start_time": "2021-11-05T10:07:58.462467",
     "status": "completed"
    },
    "tags": []
   },
   "outputs": [
    {
     "name": "stdout",
     "output_type": "stream",
     "text": [
      "Collecting mnist\r\n",
      "  Downloading mnist-0.2.2-py2.py3-none-any.whl (3.5 kB)\r\n",
      "Requirement already satisfied: numpy in /opt/hostedtoolcache/Python/3.6.15/x64/lib/python3.6/site-packages (from mnist) (1.19.5)\r\n"
     ]
    },
    {
     "name": "stdout",
     "output_type": "stream",
     "text": [
      "Installing collected packages: mnist\r\n"
     ]
    },
    {
     "name": "stdout",
     "output_type": "stream",
     "text": [
      "Successfully installed mnist-0.2.2\r\n"
     ]
    }
   ],
   "source": [
    "!pip install mnist"
   ]
  },
  {
   "cell_type": "markdown",
   "id": "69df9c9a",
   "metadata": {
    "papermill": {
     "duration": 0.033555,
     "end_time": "2021-11-05T10:08:01.453731",
     "exception": false,
     "start_time": "2021-11-05T10:08:01.420176",
     "status": "completed"
    },
    "tags": []
   },
   "source": [
    "## Preparing the Data"
   ]
  },
  {
   "cell_type": "code",
   "execution_count": 4,
   "id": "7f69d806",
   "metadata": {
    "execution": {
     "iopub.execute_input": "2021-11-05T10:08:01.524822Z",
     "iopub.status.busy": "2021-11-05T10:08:01.524128Z",
     "iopub.status.idle": "2021-11-05T10:08:01.542678Z",
     "shell.execute_reply": "2021-11-05T10:08:01.542120Z"
    },
    "papermill": {
     "duration": 0.056776,
     "end_time": "2021-11-05T10:08:01.542926",
     "exception": false,
     "start_time": "2021-11-05T10:08:01.486150",
     "status": "completed"
    },
    "tags": []
   },
   "outputs": [],
   "source": [
    "import mnist"
   ]
  },
  {
   "cell_type": "code",
   "execution_count": 5,
   "id": "a411e44f",
   "metadata": {
    "execution": {
     "iopub.execute_input": "2021-11-05T10:08:01.618276Z",
     "iopub.status.busy": "2021-11-05T10:08:01.617590Z",
     "iopub.status.idle": "2021-11-05T10:08:02.201411Z",
     "shell.execute_reply": "2021-11-05T10:08:02.200804Z"
    },
    "papermill": {
     "duration": 0.625485,
     "end_time": "2021-11-05T10:08:02.201582",
     "exception": false,
     "start_time": "2021-11-05T10:08:01.576097",
     "status": "completed"
    },
    "tags": []
   },
   "outputs": [],
   "source": [
    "train_images = mnist.train_images()\n",
    "train_labels = mnist.train_labels()"
   ]
  },
  {
   "cell_type": "code",
   "execution_count": 6,
   "id": "dceab3a5",
   "metadata": {
    "execution": {
     "iopub.execute_input": "2021-11-05T10:08:02.282954Z",
     "iopub.status.busy": "2021-11-05T10:08:02.281641Z",
     "iopub.status.idle": "2021-11-05T10:08:02.299602Z",
     "shell.execute_reply": "2021-11-05T10:08:02.298976Z"
    },
    "papermill": {
     "duration": 0.059942,
     "end_time": "2021-11-05T10:08:02.299738",
     "exception": false,
     "start_time": "2021-11-05T10:08:02.239796",
     "status": "completed"
    },
    "tags": []
   },
   "outputs": [
    {
     "data": {
      "text/plain": [
       "((60000, 28, 28), (60000,))"
      ]
     },
     "execution_count": 6,
     "metadata": {},
     "output_type": "execute_result"
    }
   ],
   "source": [
    "train_images.shape, train_labels.shape"
   ]
  },
  {
   "cell_type": "code",
   "execution_count": 7,
   "id": "f50dc2bb",
   "metadata": {
    "execution": {
     "iopub.execute_input": "2021-11-05T10:08:02.382003Z",
     "iopub.status.busy": "2021-11-05T10:08:02.381295Z",
     "iopub.status.idle": "2021-11-05T10:08:02.505932Z",
     "shell.execute_reply": "2021-11-05T10:08:02.504933Z"
    },
    "papermill": {
     "duration": 0.162991,
     "end_time": "2021-11-05T10:08:02.506092",
     "exception": false,
     "start_time": "2021-11-05T10:08:02.343101",
     "status": "completed"
    },
    "tags": []
   },
   "outputs": [],
   "source": [
    "test_images = mnist.test_images()\n",
    "test_labels = mnist.test_labels()"
   ]
  },
  {
   "cell_type": "code",
   "execution_count": 8,
   "id": "fc38cf1b",
   "metadata": {
    "execution": {
     "iopub.execute_input": "2021-11-05T10:08:02.577848Z",
     "iopub.status.busy": "2021-11-05T10:08:02.577166Z",
     "iopub.status.idle": "2021-11-05T10:08:02.592856Z",
     "shell.execute_reply": "2021-11-05T10:08:02.592255Z"
    },
    "papermill": {
     "duration": 0.053175,
     "end_time": "2021-11-05T10:08:02.593037",
     "exception": false,
     "start_time": "2021-11-05T10:08:02.539862",
     "status": "completed"
    },
    "tags": []
   },
   "outputs": [
    {
     "data": {
      "text/plain": [
       "((10000, 28, 28), (10000,))"
      ]
     },
     "execution_count": 8,
     "metadata": {},
     "output_type": "execute_result"
    }
   ],
   "source": [
    "test_images.shape, test_labels.shape"
   ]
  },
  {
   "cell_type": "code",
   "execution_count": 9,
   "id": "f9ed8fe0",
   "metadata": {
    "execution": {
     "iopub.execute_input": "2021-11-05T10:08:02.675769Z",
     "iopub.status.busy": "2021-11-05T10:08:02.674991Z",
     "iopub.status.idle": "2021-11-05T10:08:02.877578Z",
     "shell.execute_reply": "2021-11-05T10:08:02.876867Z"
    },
    "papermill": {
     "duration": 0.246395,
     "end_time": "2021-11-05T10:08:02.877744",
     "exception": false,
     "start_time": "2021-11-05T10:08:02.631349",
     "status": "completed"
    },
    "tags": []
   },
   "outputs": [
    {
     "name": "stdout",
     "output_type": "stream",
     "text": [
      "2\n"
     ]
    },
    {
     "data": {
      "text/plain": [
       "<matplotlib.image.AxesImage at 0x7f63b72fa0b8>"
      ]
     },
     "execution_count": 9,
     "metadata": {},
     "output_type": "execute_result"
    },
    {
     "data": {
      "image/png": "[encoded data removed]",
      "text/plain": [
       "<Figure size 432x288 with 1 Axes>"
      ]
     },
     "metadata": {
      "needs_background": "light"
     },
     "output_type": "display_data"
    }
   ],
   "source": [
    "image_index = 7776 # You may select anything up to 60,000\n",
    "print(train_labels[image_index]) \n",
    "plt.imshow(train_images[image_index], cmap='Greys')"
   ]
  },
  {
   "cell_type": "markdown",
   "id": "a8d2388d",
   "metadata": {
    "papermill": {
     "duration": 0.037347,
     "end_time": "2021-11-05T10:08:02.950994",
     "exception": false,
     "start_time": "2021-11-05T10:08:02.913647",
     "status": "completed"
    },
    "tags": []
   },
   "source": [
    "## Filter data to get 3 and 8 out"
   ]
  },
  {
   "cell_type": "code",
   "execution_count": 10,
   "id": "776f7fc7",
   "metadata": {
    "execution": {
     "iopub.execute_input": "2021-11-05T10:08:03.033805Z",
     "iopub.status.busy": "2021-11-05T10:08:03.033047Z",
     "iopub.status.idle": "2021-11-05T10:08:03.052858Z",
     "shell.execute_reply": "2021-11-05T10:08:03.052258Z"
    },
    "papermill": {
     "duration": 0.060395,
     "end_time": "2021-11-05T10:08:03.053008",
     "exception": false,
     "start_time": "2021-11-05T10:08:02.992613",
     "status": "completed"
    },
    "tags": []
   },
   "outputs": [],
   "source": [
    "train_filter = np.where((train_labels == 3 ) | (train_labels == 8))\n",
    "test_filter = np.where((test_labels == 3) | (test_labels == 8))\n",
    "X_train, y_train = train_images[train_filter], train_labels[train_filter]\n",
    "X_test, y_test = test_images[test_filter], test_labels[test_filter]"
   ]
  },
  {
   "cell_type": "markdown",
   "id": "948f0b7e",
   "metadata": {
    "papermill": {
     "duration": 0.037828,
     "end_time": "2021-11-05T10:08:03.126647",
     "exception": false,
     "start_time": "2021-11-05T10:08:03.088819",
     "status": "completed"
    },
    "tags": []
   },
   "source": [
    "We normalize the pizel values in the 0 to 1 range"
   ]
  },
  {
   "cell_type": "code",
   "execution_count": 11,
   "id": "ee4c2166",
   "metadata": {
    "execution": {
     "iopub.execute_input": "2021-11-05T10:08:03.202815Z",
     "iopub.status.busy": "2021-11-05T10:08:03.202042Z",
     "iopub.status.idle": "2021-11-05T10:08:03.270787Z",
     "shell.execute_reply": "2021-11-05T10:08:03.270146Z"
    },
    "papermill": {
     "duration": 0.107869,
     "end_time": "2021-11-05T10:08:03.270973",
     "exception": false,
     "start_time": "2021-11-05T10:08:03.163104",
     "status": "completed"
    },
    "tags": []
   },
   "outputs": [],
   "source": [
    "X_train = X_train/255.\n",
    "X_test = X_test/255."
   ]
  },
  {
   "cell_type": "markdown",
   "id": "ddcf4fab",
   "metadata": {
    "papermill": {
     "duration": 0.035516,
     "end_time": "2021-11-05T10:08:03.341777",
     "exception": false,
     "start_time": "2021-11-05T10:08:03.306261",
     "status": "completed"
    },
    "tags": []
   },
   "source": [
    "And setup the labels as 1 (when the digit is 3) and 0 (when the digit is 8)"
   ]
  },
  {
   "cell_type": "code",
   "execution_count": 12,
   "id": "7dc908f2",
   "metadata": {
    "execution": {
     "iopub.execute_input": "2021-11-05T10:08:03.415947Z",
     "iopub.status.busy": "2021-11-05T10:08:03.415225Z",
     "iopub.status.idle": "2021-11-05T10:08:03.430244Z",
     "shell.execute_reply": "2021-11-05T10:08:03.429639Z"
    },
    "papermill": {
     "duration": 0.054073,
     "end_time": "2021-11-05T10:08:03.430386",
     "exception": false,
     "start_time": "2021-11-05T10:08:03.376313",
     "status": "completed"
    },
    "tags": []
   },
   "outputs": [],
   "source": [
    "y_train = 1*(y_train==3)\n",
    "y_test = 1*(y_test==3)"
   ]
  },
  {
   "cell_type": "code",
   "execution_count": 13,
   "id": "01e4e969",
   "metadata": {
    "execution": {
     "iopub.execute_input": "2021-11-05T10:08:03.504147Z",
     "iopub.status.busy": "2021-11-05T10:08:03.503485Z",
     "iopub.status.idle": "2021-11-05T10:08:03.518176Z",
     "shell.execute_reply": "2021-11-05T10:08:03.518825Z"
    },
    "papermill": {
     "duration": 0.053956,
     "end_time": "2021-11-05T10:08:03.518979",
     "exception": false,
     "start_time": "2021-11-05T10:08:03.465023",
     "status": "completed"
    },
    "tags": []
   },
   "outputs": [
    {
     "data": {
      "text/plain": [
       "((11982, 28, 28), (1984, 28, 28))"
      ]
     },
     "execution_count": 13,
     "metadata": {},
     "output_type": "execute_result"
    }
   ],
   "source": [
    "X_train.shape, X_test.shape"
   ]
  },
  {
   "cell_type": "markdown",
   "id": "5ccf3f85",
   "metadata": {
    "papermill": {
     "duration": 0.034262,
     "end_time": "2021-11-05T10:08:03.588999",
     "exception": false,
     "start_time": "2021-11-05T10:08:03.554737",
     "status": "completed"
    },
    "tags": []
   },
   "source": [
    "We reshape the data to flatten the image pixels into a set of features or co-variates:"
   ]
  },
  {
   "cell_type": "code",
   "execution_count": 14,
   "id": "5286a4a3",
   "metadata": {
    "execution": {
     "iopub.execute_input": "2021-11-05T10:08:03.670926Z",
     "iopub.status.busy": "2021-11-05T10:08:03.670237Z",
     "iopub.status.idle": "2021-11-05T10:08:03.689760Z",
     "shell.execute_reply": "2021-11-05T10:08:03.689186Z"
    },
    "papermill": {
     "duration": 0.066296,
     "end_time": "2021-11-05T10:08:03.689894",
     "exception": false,
     "start_time": "2021-11-05T10:08:03.623598",
     "status": "completed"
    },
    "tags": []
   },
   "outputs": [
    {
     "data": {
      "text/plain": [
       "((11982, 784), (1984, 784))"
      ]
     },
     "execution_count": 14,
     "metadata": {},
     "output_type": "execute_result"
    }
   ],
   "source": [
    "X_train = X_train.reshape(X_train.shape[0], -1)\n",
    "X_test = X_test.reshape(X_test.shape[0], -1)\n",
    "X_train.shape, X_test.shape"
   ]
  },
  {
   "cell_type": "code",
   "execution_count": 15,
   "id": "73c5f88a",
   "metadata": {
    "execution": {
     "iopub.execute_input": "2021-11-05T10:08:03.767546Z",
     "iopub.status.busy": "2021-11-05T10:08:03.766704Z",
     "iopub.status.idle": "2021-11-05T10:08:03.789799Z",
     "shell.execute_reply": "2021-11-05T10:08:03.789195Z"
    },
    "papermill": {
     "duration": 0.064797,
     "end_time": "2021-11-05T10:08:03.789953",
     "exception": false,
     "start_time": "2021-11-05T10:08:03.725156",
     "status": "completed"
    },
    "tags": []
   },
   "outputs": [],
   "source": [
    "#Impoting functions from 'Kudzu'\n",
    "from kudzu.model import Model\n",
    "from kudzu.train import Learner\n",
    "from kudzu.optim import GD\n",
    "from kudzu.data import Data, Sampler,Dataloader\n",
    "\n",
    "from kudzu.callbacks import AccCallback\n",
    "from kudzu.callbacks import ClfCallback\n",
    "\n",
    "from kudzu.loss import MSE\n",
    "\n",
    "from kudzu.layer import Sigmoid,Relu\n",
    "from kudzu.layer import Affine"
   ]
  },
  {
   "cell_type": "markdown",
   "id": "bc01172a",
   "metadata": {
    "papermill": {
     "duration": 0.035566,
     "end_time": "2021-11-05T10:08:03.861228",
     "exception": false,
     "start_time": "2021-11-05T10:08:03.825662",
     "status": "completed"
    },
    "tags": []
   },
   "source": [
    "### Let us create a `Config` class, to store important parameters. \n",
    "This class essentially plays the role of a dictionary."
   ]
  },
  {
   "cell_type": "code",
   "execution_count": 16,
   "id": "978281aa",
   "metadata": {
    "execution": {
     "iopub.execute_input": "2021-11-05T10:08:03.939804Z",
     "iopub.status.busy": "2021-11-05T10:08:03.938958Z",
     "iopub.status.idle": "2021-11-05T10:08:03.955670Z",
     "shell.execute_reply": "2021-11-05T10:08:03.956354Z"
    },
    "papermill": {
     "duration": 0.057956,
     "end_time": "2021-11-05T10:08:03.956544",
     "exception": false,
     "start_time": "2021-11-05T10:08:03.898588",
     "status": "completed"
    },
    "tags": []
   },
   "outputs": [],
   "source": [
    "class Config:\n",
    "    pass\n",
    "config = Config()\n",
    "config.lr = 0.001\n",
    "config.num_epochs = 250\n",
    "config.bs = 50"
   ]
  },
  {
   "cell_type": "markdown",
   "id": "1385fa59",
   "metadata": {
    "papermill": {
     "duration": 0.038957,
     "end_time": "2021-11-05T10:08:04.038839",
     "exception": false,
     "start_time": "2021-11-05T10:08:03.999882",
     "status": "completed"
    },
    "tags": []
   },
   "source": [
    "### Running Models with the Training data\n",
    "Details about the network layers:\n",
    "- A first affine layer has 784 inputs and does 100 affine transforms. These are followed by a Relu\n",
    "- A second affine layer has 100 inputs from the 100 activations of the past layer, and does 100 affine transforms. These are followed by a Relu\n",
    "- A third affine layer has 100 activations and does 2 affine transformations to create an embedding for visualization. There is no non-linearity here.\n",
    "- A final \"logistic regression\" which has an affine transform from 2 inputs to 1 output, which is squeezed through a sigmoid.\n"
   ]
  },
  {
   "cell_type": "code",
   "execution_count": 17,
   "id": "2b9c66db",
   "metadata": {
    "execution": {
     "iopub.execute_input": "2021-11-05T10:08:04.124862Z",
     "iopub.status.busy": "2021-11-05T10:08:04.124056Z",
     "iopub.status.idle": "2021-11-05T10:08:04.142076Z",
     "shell.execute_reply": "2021-11-05T10:08:04.141454Z"
    },
    "papermill": {
     "duration": 0.063384,
     "end_time": "2021-11-05T10:08:04.142217",
     "exception": false,
     "start_time": "2021-11-05T10:08:04.078833",
     "status": "completed"
    },
    "tags": []
   },
   "outputs": [],
   "source": [
    "data = Data(X_train, y_train.reshape(-1,1))\n",
    "sampler = Sampler(data, config.bs, shuffle=True)\n",
    "\n",
    "dl = Dataloader(data, sampler)\n",
    "\n",
    "opt = GD(config.lr)\n",
    "loss = MSE()"
   ]
  },
  {
   "cell_type": "code",
   "execution_count": 18,
   "id": "b275e4c2",
   "metadata": {
    "execution": {
     "iopub.execute_input": "2021-11-05T10:08:04.234997Z",
     "iopub.status.busy": "2021-11-05T10:08:04.234118Z",
     "iopub.status.idle": "2021-11-05T10:08:04.249006Z",
     "shell.execute_reply": "2021-11-05T10:08:04.249676Z"
    },
    "papermill": {
     "duration": 0.062069,
     "end_time": "2021-11-05T10:08:04.249850",
     "exception": false,
     "start_time": "2021-11-05T10:08:04.187781",
     "status": "completed"
    },
    "tags": []
   },
   "outputs": [],
   "source": [
    "training_data_x = X_train\n",
    "testing_data_x = X_test\n",
    "training_data_y = y_train.reshape(-1,1)\n",
    "testing_data_y = y_test.reshape(-1,1)"
   ]
  },
  {
   "cell_type": "code",
   "execution_count": 19,
   "id": "76951160",
   "metadata": {
    "execution": {
     "iopub.execute_input": "2021-11-05T10:08:04.334988Z",
     "iopub.status.busy": "2021-11-05T10:08:04.334277Z",
     "iopub.status.idle": "2021-11-05T10:08:04.353429Z",
     "shell.execute_reply": "2021-11-05T10:08:04.353960Z"
    },
    "papermill": {
     "duration": 0.065807,
     "end_time": "2021-11-05T10:08:04.354174",
     "exception": false,
     "start_time": "2021-11-05T10:08:04.288367",
     "status": "completed"
    },
    "tags": []
   },
   "outputs": [
    {
     "name": "stdout",
     "output_type": "stream",
     "text": [
      "xavier\n",
      "xavier\n",
      "xavier\n",
      "xavier\n",
      "xavier\n"
     ]
    }
   ],
   "source": [
    "layers = [Affine(\"first\", 784, 100), Relu(\"first\"), Affine(\"second\", 100, 100), Relu(\"second\"), Affine(\"third\", 100, 2), Affine(\"last\", 2, 1), Sigmoid(\"last\")]\n",
    "model_nn = Model(layers)\n",
    "model_lr = Model([Affine(\"logits\", 784, 1), Sigmoid(\"sigmoid\")])"
   ]
  },
  {
   "cell_type": "code",
   "execution_count": 20,
   "id": "6eede77a",
   "metadata": {
    "execution": {
     "iopub.execute_input": "2021-11-05T10:08:04.432684Z",
     "iopub.status.busy": "2021-11-05T10:08:04.432007Z",
     "iopub.status.idle": "2021-11-05T10:08:04.445792Z",
     "shell.execute_reply": "2021-11-05T10:08:04.445222Z"
    },
    "papermill": {
     "duration": 0.056091,
     "end_time": "2021-11-05T10:08:04.445932",
     "exception": false,
     "start_time": "2021-11-05T10:08:04.389841",
     "status": "completed"
    },
    "tags": []
   },
   "outputs": [],
   "source": [
    "nn_learner = Learner(loss, model_nn, opt, config.num_epochs)\n",
    "acc_nn = ClfCallback(nn_learner, config.bs, training_data_x , testing_data_x, training_data_y, testing_data_y)\n",
    "nn_learner.set_callbacks([acc_nn])"
   ]
  },
  {
   "cell_type": "code",
   "execution_count": 21,
   "id": "877b6cc7",
   "metadata": {
    "execution": {
     "iopub.execute_input": "2021-11-05T10:08:04.532347Z",
     "iopub.status.busy": "2021-11-05T10:08:04.531657Z",
     "iopub.status.idle": "2021-11-05T10:08:04.544073Z",
     "shell.execute_reply": "2021-11-05T10:08:04.544804Z"
    },
    "papermill": {
     "duration": 0.061596,
     "end_time": "2021-11-05T10:08:04.545040",
     "exception": false,
     "start_time": "2021-11-05T10:08:04.483444",
     "status": "completed"
    },
    "tags": []
   },
   "outputs": [],
   "source": [
    "lr_learner = Learner(loss, model_lr, opt, config.num_epochs)\n",
    "acc_lr = ClfCallback(lr_learner, config.bs, training_data_x , testing_data_x, training_data_y, testing_data_y)\n",
    "lr_learner.set_callbacks([acc_lr])"
   ]
  },
  {
   "cell_type": "code",
   "execution_count": 22,
   "id": "d9b133c3",
   "metadata": {
    "execution": {
     "iopub.execute_input": "2021-11-05T10:08:04.625280Z",
     "iopub.status.busy": "2021-11-05T10:08:04.624552Z",
     "iopub.status.idle": "2021-11-05T10:10:29.949037Z",
     "shell.execute_reply": "2021-11-05T10:10:29.949975Z"
    },
    "papermill": {
     "duration": 145.366698,
     "end_time": "2021-11-05T10:10:29.950171",
     "exception": false,
     "start_time": "2021-11-05T10:08:04.583473",
     "status": "completed"
    },
    "tags": []
   },
   "outputs": [
    {
     "name": "stdout",
     "output_type": "stream",
     "text": [
      "Epoch 0, Loss 0.2406\n",
      "Training Accuracy: 0.7792, Testing Accuracy: 0.8145\n",
      "\n"
     ]
    },
    {
     "name": "stdout",
     "output_type": "stream",
     "text": [
      "Epoch 10, Loss 0.0579\n",
      "Training Accuracy: 0.9388, Testing Accuracy: 0.9491\n",
      "\n"
     ]
    },
    {
     "name": "stdout",
     "output_type": "stream",
     "text": [
      "Epoch 20, Loss 0.0411\n",
      "Training Accuracy: 0.9547, Testing Accuracy: 0.9607\n",
      "\n"
     ]
    },
    {
     "name": "stdout",
     "output_type": "stream",
     "text": [
      "Epoch 30, Loss 0.0343\n",
      "Training Accuracy: 0.9619, Testing Accuracy: 0.9698\n",
      "\n"
     ]
    },
    {
     "name": "stdout",
     "output_type": "stream",
     "text": [
      "Epoch 40, Loss 0.0304\n",
      "Training Accuracy: 0.9659, Testing Accuracy: 0.9733\n",
      "\n"
     ]
    },
    {
     "name": "stdout",
     "output_type": "stream",
     "text": [
      "Epoch 50, Loss 0.0278\n",
      "Training Accuracy: 0.9695, Testing Accuracy: 0.9728\n",
      "\n"
     ]
    },
    {
     "name": "stdout",
     "output_type": "stream",
     "text": [
      "Epoch 60, Loss 0.0258\n",
      "Training Accuracy: 0.9715, Testing Accuracy: 0.9738\n",
      "\n"
     ]
    },
    {
     "name": "stdout",
     "output_type": "stream",
     "text": [
      "Epoch 70, Loss 0.0244\n",
      "Training Accuracy: 0.9728, Testing Accuracy: 0.9738\n",
      "\n"
     ]
    },
    {
     "name": "stdout",
     "output_type": "stream",
     "text": [
      "Epoch 80, Loss 0.0232\n",
      "Training Accuracy: 0.9740, Testing Accuracy: 0.9748\n",
      "\n"
     ]
    },
    {
     "name": "stdout",
     "output_type": "stream",
     "text": [
      "Epoch 90, Loss 0.0221\n",
      "Training Accuracy: 0.9755, Testing Accuracy: 0.9738\n",
      "\n"
     ]
    },
    {
     "name": "stdout",
     "output_type": "stream",
     "text": [
      "Epoch 100, Loss 0.0213\n",
      "Training Accuracy: 0.9766, Testing Accuracy: 0.9738\n",
      "\n"
     ]
    },
    {
     "name": "stdout",
     "output_type": "stream",
     "text": [
      "Epoch 110, Loss 0.0205\n",
      "Training Accuracy: 0.9770, Testing Accuracy: 0.9733\n",
      "\n"
     ]
    },
    {
     "name": "stdout",
     "output_type": "stream",
     "text": [
      "Epoch 120, Loss 0.0198\n",
      "Training Accuracy: 0.9777, Testing Accuracy: 0.9733\n",
      "\n"
     ]
    },
    {
     "name": "stdout",
     "output_type": "stream",
     "text": [
      "Epoch 130, Loss 0.0191\n",
      "Training Accuracy: 0.9786, Testing Accuracy: 0.9743\n",
      "\n"
     ]
    },
    {
     "name": "stdout",
     "output_type": "stream",
     "text": [
      "Epoch 140, Loss 0.0185\n",
      "Training Accuracy: 0.9797, Testing Accuracy: 0.9753\n",
      "\n"
     ]
    },
    {
     "name": "stdout",
     "output_type": "stream",
     "text": [
      "Epoch 150, Loss 0.018\n",
      "Training Accuracy: 0.9800, Testing Accuracy: 0.9753\n",
      "\n"
     ]
    },
    {
     "name": "stdout",
     "output_type": "stream",
     "text": [
      "Epoch 160, Loss 0.0175\n",
      "Training Accuracy: 0.9802, Testing Accuracy: 0.9753\n",
      "\n"
     ]
    },
    {
     "name": "stdout",
     "output_type": "stream",
     "text": [
      "Epoch 170, Loss 0.017\n",
      "Training Accuracy: 0.9811, Testing Accuracy: 0.9753\n",
      "\n"
     ]
    },
    {
     "name": "stdout",
     "output_type": "stream",
     "text": [
      "Epoch 180, Loss 0.0165\n",
      "Training Accuracy: 0.9817, Testing Accuracy: 0.9753\n",
      "\n"
     ]
    },
    {
     "name": "stdout",
     "output_type": "stream",
     "text": [
      "Epoch 190, Loss 0.0161\n",
      "Training Accuracy: 0.9824, Testing Accuracy: 0.9753\n",
      "\n"
     ]
    },
    {
     "name": "stdout",
     "output_type": "stream",
     "text": [
      "Epoch 200, Loss 0.0157\n",
      "Training Accuracy: 0.9828, Testing Accuracy: 0.9758\n",
      "\n"
     ]
    },
    {
     "name": "stdout",
     "output_type": "stream",
     "text": [
      "Epoch 210, Loss 0.0153\n",
      "Training Accuracy: 0.9835, Testing Accuracy: 0.9763\n",
      "\n"
     ]
    },
    {
     "name": "stdout",
     "output_type": "stream",
     "text": [
      "Epoch 220, Loss 0.0149\n",
      "Training Accuracy: 0.9840, Testing Accuracy: 0.9763\n",
      "\n"
     ]
    },
    {
     "name": "stdout",
     "output_type": "stream",
     "text": [
      "Epoch 230, Loss 0.0145\n",
      "Training Accuracy: 0.9844, Testing Accuracy: 0.9768\n",
      "\n"
     ]
    },
    {
     "name": "stdout",
     "output_type": "stream",
     "text": [
      "Epoch 240, Loss 0.0142\n",
      "Training Accuracy: 0.9847, Testing Accuracy: 0.9773\n",
      "\n"
     ]
    },
    {
     "data": {
      "text/plain": [
       "0.0010787089777536231"
      ]
     },
     "execution_count": 22,
     "metadata": {},
     "output_type": "execute_result"
    }
   ],
   "source": [
    "nn_learner.train_loop(dl)"
   ]
  },
  {
   "cell_type": "code",
   "execution_count": 23,
   "id": "e0163366",
   "metadata": {
    "execution": {
     "iopub.execute_input": "2021-11-05T10:10:30.051738Z",
     "iopub.status.busy": "2021-11-05T10:10:30.051020Z",
     "iopub.status.idle": "2021-11-05T10:10:50.625293Z",
     "shell.execute_reply": "2021-11-05T10:10:50.626147Z"
    },
    "papermill": {
     "duration": 20.629991,
     "end_time": "2021-11-05T10:10:50.626392",
     "exception": false,
     "start_time": "2021-11-05T10:10:29.996401",
     "status": "completed"
    },
    "tags": []
   },
   "outputs": [
    {
     "name": "stdout",
     "output_type": "stream",
     "text": [
      "Epoch 0, Loss 0.2634\n",
      "Training Accuracy: 0.5822, Testing Accuracy: 0.5973\n",
      "\n"
     ]
    },
    {
     "name": "stdout",
     "output_type": "stream",
     "text": [
      "Epoch 10, Loss 0.1044\n",
      "Training Accuracy: 0.9065, Testing Accuracy: 0.9168\n",
      "\n"
     ]
    },
    {
     "name": "stdout",
     "output_type": "stream",
     "text": [
      "Epoch 20, Loss 0.0799\n",
      "Training Accuracy: 0.9241, Testing Accuracy: 0.9370\n",
      "\n"
     ]
    },
    {
     "name": "stdout",
     "output_type": "stream",
     "text": [
      "Epoch 30, Loss 0.0688\n",
      "Training Accuracy: 0.9357, Testing Accuracy: 0.9441\n",
      "\n"
     ]
    },
    {
     "name": "stdout",
     "output_type": "stream",
     "text": [
      "Epoch 40, Loss 0.0622\n",
      "Training Accuracy: 0.9409, Testing Accuracy: 0.9496\n",
      "\n"
     ]
    },
    {
     "name": "stdout",
     "output_type": "stream",
     "text": [
      "Epoch 50, Loss 0.0576\n",
      "Training Accuracy: 0.9439, Testing Accuracy: 0.9526\n",
      "\n"
     ]
    },
    {
     "name": "stdout",
     "output_type": "stream",
     "text": [
      "Epoch 60, Loss 0.0543\n",
      "Training Accuracy: 0.9473, Testing Accuracy: 0.9556\n",
      "\n"
     ]
    },
    {
     "name": "stdout",
     "output_type": "stream",
     "text": [
      "Epoch 70, Loss 0.0517\n",
      "Training Accuracy: 0.9491, Testing Accuracy: 0.9561\n",
      "\n"
     ]
    },
    {
     "name": "stdout",
     "output_type": "stream",
     "text": [
      "Epoch 80, Loss 0.0496\n",
      "Training Accuracy: 0.9504, Testing Accuracy: 0.9572\n",
      "\n"
     ]
    },
    {
     "name": "stdout",
     "output_type": "stream",
     "text": [
      "Epoch 90, Loss 0.0479\n",
      "Training Accuracy: 0.9510, Testing Accuracy: 0.9597\n",
      "\n"
     ]
    },
    {
     "name": "stdout",
     "output_type": "stream",
     "text": [
      "Epoch 100, Loss 0.0464\n",
      "Training Accuracy: 0.9522, Testing Accuracy: 0.9607\n",
      "\n"
     ]
    },
    {
     "name": "stdout",
     "output_type": "stream",
     "text": [
      "Epoch 110, Loss 0.0452\n",
      "Training Accuracy: 0.9530, Testing Accuracy: 0.9607\n",
      "\n"
     ]
    },
    {
     "name": "stdout",
     "output_type": "stream",
     "text": [
      "Epoch 120, Loss 0.0441\n",
      "Training Accuracy: 0.9538, Testing Accuracy: 0.9602\n",
      "\n"
     ]
    },
    {
     "name": "stdout",
     "output_type": "stream",
     "text": [
      "Epoch 130, Loss 0.0432\n",
      "Training Accuracy: 0.9545, Testing Accuracy: 0.9607\n",
      "\n"
     ]
    },
    {
     "name": "stdout",
     "output_type": "stream",
     "text": [
      "Epoch 140, Loss 0.0423\n",
      "Training Accuracy: 0.9556, Testing Accuracy: 0.9617\n",
      "\n"
     ]
    },
    {
     "name": "stdout",
     "output_type": "stream",
     "text": [
      "Epoch 150, Loss 0.0415\n",
      "Training Accuracy: 0.9562, Testing Accuracy: 0.9617\n",
      "\n"
     ]
    },
    {
     "name": "stdout",
     "output_type": "stream",
     "text": [
      "Epoch 160, Loss 0.0409\n",
      "Training Accuracy: 0.9565, Testing Accuracy: 0.9627\n",
      "\n"
     ]
    },
    {
     "name": "stdout",
     "output_type": "stream",
     "text": [
      "Epoch 170, Loss 0.0402\n",
      "Training Accuracy: 0.9574, Testing Accuracy: 0.9637\n",
      "\n"
     ]
    },
    {
     "name": "stdout",
     "output_type": "stream",
     "text": [
      "Epoch 180, Loss 0.0396\n",
      "Training Accuracy: 0.9581, Testing Accuracy: 0.9637\n",
      "\n"
     ]
    },
    {
     "name": "stdout",
     "output_type": "stream",
     "text": [
      "Epoch 190, Loss 0.0391\n",
      "Training Accuracy: 0.9584, Testing Accuracy: 0.9642\n",
      "\n"
     ]
    },
    {
     "name": "stdout",
     "output_type": "stream",
     "text": [
      "Epoch 200, Loss 0.0386\n",
      "Training Accuracy: 0.9589, Testing Accuracy: 0.9652\n",
      "\n"
     ]
    },
    {
     "name": "stdout",
     "output_type": "stream",
     "text": [
      "Epoch 210, Loss 0.0382\n",
      "Training Accuracy: 0.9594, Testing Accuracy: 0.9662\n",
      "\n"
     ]
    },
    {
     "name": "stdout",
     "output_type": "stream",
     "text": [
      "Epoch 220, Loss 0.0378\n",
      "Training Accuracy: 0.9599, Testing Accuracy: 0.9662\n",
      "\n"
     ]
    },
    {
     "name": "stdout",
     "output_type": "stream",
     "text": [
      "Epoch 230, Loss 0.0374\n",
      "Training Accuracy: 0.9599, Testing Accuracy: 0.9662\n",
      "\n"
     ]
    },
    {
     "name": "stdout",
     "output_type": "stream",
     "text": [
      "Epoch 240, Loss 0.037\n",
      "Training Accuracy: 0.9599, Testing Accuracy: 0.9677\n",
      "\n"
     ]
    },
    {
     "data": {
      "text/plain": [
       "0.03577040344263298"
      ]
     },
     "execution_count": 23,
     "metadata": {},
     "output_type": "execute_result"
    }
   ],
   "source": [
    "lr_learner.train_loop(dl)"
   ]
  },
  {
   "cell_type": "code",
   "execution_count": 24,
   "id": "ca410940",
   "metadata": {
    "execution": {
     "iopub.execute_input": "2021-11-05T10:10:50.741853Z",
     "iopub.status.busy": "2021-11-05T10:10:50.741149Z",
     "iopub.status.idle": "2021-11-05T10:10:51.091316Z",
     "shell.execute_reply": "2021-11-05T10:10:51.090656Z"
    },
    "papermill": {
     "duration": 0.410028,
     "end_time": "2021-11-05T10:10:51.091464",
     "exception": false,
     "start_time": "2021-11-05T10:10:50.681436",
     "status": "completed"
    },
    "tags": []
   },
   "outputs": [
    {
     "data": {
      "text/plain": [
       "<matplotlib.legend.Legend at 0x7f63a9ad27f0>"
      ]
     },
     "execution_count": 24,
     "metadata": {},
     "output_type": "execute_result"
    },
    {
     "data": {
      "image/png": "[encoded data removed]",
      "text/plain": [
       "<Figure size 1080x720 with 1 Axes>"
      ]
     },
     "metadata": {
      "needs_background": "light"
     },
     "output_type": "display_data"
    }
   ],
   "source": [
    "#comparing the results of NN and LR\n",
    "plt.figure(figsize=(15,10))\n",
    "\n",
    "# Neural Network plots\n",
    "plt.plot(acc_nn.accuracies, 'r-', label = \"Training Accuracies - NN\")\n",
    "plt.plot(acc_nn.test_accuracies, 'g-', label = \"Testing Accuracies - NN\")\n",
    "\n",
    "# Logistic Regression plots\n",
    "plt.plot(acc_lr.accuracies, 'k-', label = \"Training Accuracies - LR\")\n",
    "plt.plot(acc_lr.test_accuracies, 'b-', label = \"Testing Accuracies - LR\")\n",
    "plt.legend()"
   ]
  },
  {
   "cell_type": "markdown",
   "id": "80dfb35c",
   "metadata": {
    "papermill": {
     "duration": 0.058369,
     "end_time": "2021-11-05T10:10:51.209305",
     "exception": false,
     "start_time": "2021-11-05T10:10:51.150936",
     "status": "completed"
    },
    "tags": []
   },
   "source": [
    "#### Plotting the outputs of this layer of the NN.\n"
   ]
  },
  {
   "cell_type": "code",
   "execution_count": 25,
   "id": "45eb2ff5",
   "metadata": {
    "execution": {
     "iopub.execute_input": "2021-11-05T10:10:51.341055Z",
     "iopub.status.busy": "2021-11-05T10:10:51.334420Z",
     "iopub.status.idle": "2021-11-05T10:10:51.363514Z",
     "shell.execute_reply": "2021-11-05T10:10:51.364076Z"
    },
    "papermill": {
     "duration": 0.095742,
     "end_time": "2021-11-05T10:10:51.364247",
     "exception": false,
     "start_time": "2021-11-05T10:10:51.268505",
     "status": "completed"
    },
    "tags": []
   },
   "outputs": [],
   "source": [
    "new_model = Model(layers[:-2])\n",
    "testing_plot = new_model(testing_data_x)"
   ]
  },
  {
   "cell_type": "code",
   "execution_count": 26,
   "id": "4c0a5485",
   "metadata": {
    "execution": {
     "iopub.execute_input": "2021-11-05T10:10:51.486776Z",
     "iopub.status.busy": "2021-11-05T10:10:51.486070Z",
     "iopub.status.idle": "2021-11-05T10:10:51.754438Z",
     "shell.execute_reply": "2021-11-05T10:10:51.753833Z"
    },
    "papermill": {
     "duration": 0.32996,
     "end_time": "2021-11-05T10:10:51.754634",
     "exception": false,
     "start_time": "2021-11-05T10:10:51.424674",
     "status": "completed"
    },
    "tags": []
   },
   "outputs": [
    {
     "data": {
      "text/plain": [
       "Text(0.5, 1.0, 'Outputs')"
      ]
     },
     "execution_count": 26,
     "metadata": {},
     "output_type": "execute_result"
    },
    {
     "data": {
      "image/png": "[encoded data removed]",
      "text/plain": [
       "<Figure size 576x504 with 1 Axes>"
      ]
     },
     "metadata": {
      "needs_background": "light"
     },
     "output_type": "display_data"
    }
   ],
   "source": [
    "# Plotting the scatter plot of points and color coding by class\n",
    "plt.figure(figsize=(8,7))\n",
    "plt.scatter(testing_plot[:,0], testing_plot[:,1], alpha = 0.1, c = y_test.ravel());\n",
    "plt.title('Outputs')"
   ]
  },
  {
   "cell_type": "markdown",
   "id": "a74fcf8f",
   "metadata": {
    "papermill": {
     "duration": 0.060061,
     "end_time": "2021-11-05T10:10:51.875273",
     "exception": false,
     "start_time": "2021-11-05T10:10:51.815212",
     "status": "completed"
    },
    "tags": []
   },
   "source": [
    "Probability contours"
   ]
  },
  {
   "cell_type": "code",
   "execution_count": 27,
   "id": "d0afc8e3",
   "metadata": {
    "execution": {
     "iopub.execute_input": "2021-11-05T10:10:52.000019Z",
     "iopub.status.busy": "2021-11-05T10:10:51.999216Z",
     "iopub.status.idle": "2021-11-05T10:10:52.014677Z",
     "shell.execute_reply": "2021-11-05T10:10:52.014030Z"
    },
    "papermill": {
     "duration": 0.079263,
     "end_time": "2021-11-05T10:10:52.014867",
     "exception": false,
     "start_time": "2021-11-05T10:10:51.935604",
     "status": "completed"
    },
    "tags": []
   },
   "outputs": [],
   "source": [
    "model_prob = Model(layers[-2:]) "
   ]
  },
  {
   "cell_type": "code",
   "execution_count": 28,
   "id": "9b96e238",
   "metadata": {
    "execution": {
     "iopub.execute_input": "2021-11-05T10:10:52.139736Z",
     "iopub.status.busy": "2021-11-05T10:10:52.138960Z",
     "iopub.status.idle": "2021-11-05T10:10:52.154174Z",
     "shell.execute_reply": "2021-11-05T10:10:52.154687Z"
    },
    "papermill": {
     "duration": 0.081975,
     "end_time": "2021-11-05T10:10:52.154847",
     "exception": false,
     "start_time": "2021-11-05T10:10:52.072872",
     "status": "completed"
    },
    "tags": []
   },
   "outputs": [],
   "source": [
    "#creating the x and y ranges according to the above generated plot.\n",
    "x_range = np.linspace(-4, 1, 100) \n",
    "y_range = np.linspace(-6, 6, 100) \n",
    "x_grid, y_grid = np.meshgrid(x_range, y_range) # x_grid and y_grig are of size 100 X 100\n",
    "\n",
    "# converting x_grid and y_grid to continuous arrays\n",
    "x_gridflat = np.ravel(x_grid)\n",
    "y_gridflat = np.ravel(y_grid)\n",
    "\n",
    "# The last layer of the current model takes two columns as input. Hence transpose of np.vstack() is required.\n",
    "X = np.vstack((x_gridflat, y_gridflat)).T\n",
    "\n",
    "prob_contour = model_prob(X).reshape(100,100) "
   ]
  },
  {
   "cell_type": "code",
   "execution_count": 29,
   "id": "da72499a",
   "metadata": {
    "execution": {
     "iopub.execute_input": "2021-11-05T10:10:52.305004Z",
     "iopub.status.busy": "2021-11-05T10:10:52.304331Z",
     "iopub.status.idle": "2021-11-05T10:10:52.647184Z",
     "shell.execute_reply": "2021-11-05T10:10:52.646053Z"
    },
    "papermill": {
     "duration": 0.434055,
     "end_time": "2021-11-05T10:10:52.647345",
     "exception": false,
     "start_time": "2021-11-05T10:10:52.213290",
     "status": "completed"
    },
    "tags": []
   },
   "outputs": [
    {
     "data": {
      "image/png": "[encoded data removed]",
      "text/plain": [
       "<Figure size 720x648 with 1 Axes>"
      ]
     },
     "metadata": {
      "needs_background": "light"
     },
     "output_type": "display_data"
    }
   ],
   "source": [
    "plt.figure(figsize=(10,9))\n",
    "plt.scatter(testing_plot[:,0], testing_plot[:,1], alpha = 0.1, c = y_test.ravel())\n",
    "contours = plt.contour(x_grid,y_grid,prob_contour)\n",
    "plt.title('Probability Contours')\n",
    "plt.clabel(contours, inline = True );"
   ]
  },
  {
   "cell_type": "code",
   "execution_count": null,
   "id": "e81b4ac7",
   "metadata": {
    "papermill": {
     "duration": 0.060839,
     "end_time": "2021-11-05T10:10:52.773735",
     "exception": false,
     "start_time": "2021-11-05T10:10:52.712896",
     "status": "completed"
    },
    "tags": []
   },
   "outputs": [],
   "source": []
  }
 ],
 "metadata": {
  "kernelspec": {
   "display_name": "Python 3",
   "language": "python",
   "name": "python3"
  },
  "language_info": {
   "codemirror_mode": {
    "name": "ipython",
    "version": 3
   },
   "file_extension": ".py",
   "mimetype": "text/x-python",
   "name": "python",
   "nbconvert_exporter": "python",
   "pygments_lexer": "ipython3",
   "version": "3.6.15"
  },
  "papermill": {
   "default_parameters": {},
   "duration": 177.285275,
   "end_time": "2021-11-05T10:10:53.245372",
   "environment_variables": {},
   "exception": null,
   "input_path": "2020-08-11-part2.ipynb",
   "output_path": "2020-08-11-part2.ipynb",
   "parameters": {},
   "start_time": "2021-11-05T10:07:55.960097",
   "version": "2.3.3"
  }
 },
 "nbformat": 4,
 "nbformat_minor": 5
}