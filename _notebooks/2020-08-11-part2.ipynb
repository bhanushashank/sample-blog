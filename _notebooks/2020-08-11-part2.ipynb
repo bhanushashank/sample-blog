{
 "cells": [
  {
   "cell_type": "markdown",
   "id": "98380cd3",
   "metadata": {
    "papermill": {
     "duration": 0.032782,
     "end_time": "2022-06-29T20:11:19.894773",
     "exception": false,
     "start_time": "2022-06-29T20:11:19.861991",
     "status": "completed"
    },
    "tags": []
   },
   "source": [
    "# Distinguish Your Own Digits (DYOD)"
   ]
  },
  {
   "cell_type": "markdown",
   "id": "ef31240d",
   "metadata": {
    "papermill": {
     "duration": 0.028492,
     "end_time": "2022-06-29T20:11:19.957699",
     "exception": false,
     "start_time": "2022-06-29T20:11:19.929207",
     "status": "completed"
    },
    "tags": []
   },
   "source": [
    "You are going to write a classifier that distinguishes between the number 3 and number 8."
   ]
  },
  {
   "cell_type": "code",
   "execution_count": 1,
   "id": "b15c8646",
   "metadata": {
    "execution": {
     "iopub.execute_input": "2022-06-29T20:11:20.032638Z",
     "iopub.status.busy": "2022-06-29T20:11:20.031834Z",
     "iopub.status.idle": "2022-06-29T20:11:20.044331Z",
     "shell.execute_reply": "2022-06-29T20:11:20.043663Z"
    },
    "papermill": {
     "duration": 0.057693,
     "end_time": "2022-06-29T20:11:20.044685",
     "exception": false,
     "start_time": "2022-06-29T20:11:19.986992",
     "status": "completed"
    },
    "tags": []
   },
   "outputs": [],
   "source": [
    "%load_ext autoreload\n",
    "%autoreload 2"
   ]
  },
  {
   "cell_type": "code",
   "execution_count": 2,
   "id": "22ef38dc",
   "metadata": {
    "execution": {
     "iopub.execute_input": "2022-06-29T20:11:20.110431Z",
     "iopub.status.busy": "2022-06-29T20:11:20.109683Z",
     "iopub.status.idle": "2022-06-29T20:11:20.743257Z",
     "shell.execute_reply": "2022-06-29T20:11:20.742619Z"
    },
    "papermill": {
     "duration": 0.66789,
     "end_time": "2022-06-29T20:11:20.743400",
     "exception": false,
     "start_time": "2022-06-29T20:11:20.075510",
     "status": "completed"
    },
    "tags": []
   },
   "outputs": [],
   "source": [
    "%matplotlib inline\n",
    "import numpy as np\n",
    "import matplotlib.pyplot as plt\n",
    "import pandas as pd"
   ]
  },
  {
   "cell_type": "markdown",
   "id": "ba036198",
   "metadata": {
    "papermill": {
     "duration": 0.030834,
     "end_time": "2022-06-29T20:11:20.804286",
     "exception": false,
     "start_time": "2022-06-29T20:11:20.773452",
     "status": "completed"
    },
    "tags": []
   },
   "source": [
    "From the command line run `pip install mnist`. This is a library that will help you bring down the mnist dataset. If you run this from a notebook, you need to put  `!pip install mnist` in a cell by itself."
   ]
  },
  {
   "cell_type": "code",
   "execution_count": 3,
   "id": "bb6ad8a1",
   "metadata": {
    "execution": {
     "iopub.execute_input": "2022-06-29T20:11:20.870081Z",
     "iopub.status.busy": "2022-06-29T20:11:20.869348Z",
     "iopub.status.idle": "2022-06-29T20:11:23.776893Z",
     "shell.execute_reply": "2022-06-29T20:11:23.776274Z"
    },
    "papermill": {
     "duration": 2.941158,
     "end_time": "2022-06-29T20:11:23.777049",
     "exception": false,
     "start_time": "2022-06-29T20:11:20.835891",
     "status": "completed"
    },
    "tags": []
   },
   "outputs": [
    {
     "name": "stdout",
     "output_type": "stream",
     "text": [
      "Collecting mnist\r\n"
     ]
    },
    {
     "name": "stdout",
     "output_type": "stream",
     "text": [
      "  Downloading mnist-0.2.2-py2.py3-none-any.whl (3.5 kB)\r\n",
      "Requirement already satisfied: numpy in /opt/hostedtoolcache/Python/3.6.15/x64/lib/python3.6/site-packages (from mnist) (1.19.5)\r\n"
     ]
    },
    {
     "name": "stdout",
     "output_type": "stream",
     "text": [
      "Installing collected packages: mnist\r\n"
     ]
    },
    {
     "name": "stdout",
     "output_type": "stream",
     "text": [
      "Successfully installed mnist-0.2.2\r\n"
     ]
    }
   ],
   "source": [
    "!pip install mnist"
   ]
  },
  {
   "cell_type": "markdown",
   "id": "69df9c9a",
   "metadata": {
    "papermill": {
     "duration": 0.031924,
     "end_time": "2022-06-29T20:11:23.841474",
     "exception": false,
     "start_time": "2022-06-29T20:11:23.809550",
     "status": "completed"
    },
    "tags": []
   },
   "source": [
    "## Preparing the Data"
   ]
  },
  {
   "cell_type": "code",
   "execution_count": 4,
   "id": "7f69d806",
   "metadata": {
    "execution": {
     "iopub.execute_input": "2022-06-29T20:11:23.926010Z",
     "iopub.status.busy": "2022-06-29T20:11:23.917284Z",
     "iopub.status.idle": "2022-06-29T20:11:23.929757Z",
     "shell.execute_reply": "2022-06-29T20:11:23.930462Z"
    },
    "papermill": {
     "duration": 0.05541,
     "end_time": "2022-06-29T20:11:23.930615",
     "exception": false,
     "start_time": "2022-06-29T20:11:23.875205",
     "status": "completed"
    },
    "tags": []
   },
   "outputs": [],
   "source": [
    "import mnist"
   ]
  },
  {
   "cell_type": "code",
   "execution_count": 5,
   "id": "a411e44f",
   "metadata": {
    "execution": {
     "iopub.execute_input": "2022-06-29T20:11:23.999242Z",
     "iopub.status.busy": "2022-06-29T20:11:23.998482Z",
     "iopub.status.idle": "2022-06-29T20:11:24.627098Z",
     "shell.execute_reply": "2022-06-29T20:11:24.627635Z"
    },
    "papermill": {
     "duration": 0.665626,
     "end_time": "2022-06-29T20:11:24.627792",
     "exception": false,
     "start_time": "2022-06-29T20:11:23.962166",
     "status": "completed"
    },
    "tags": []
   },
   "outputs": [],
   "source": [
    "train_images = mnist.train_images()\n",
    "train_labels = mnist.train_labels()"
   ]
  },
  {
   "cell_type": "code",
   "execution_count": 6,
   "id": "dceab3a5",
   "metadata": {
    "execution": {
     "iopub.execute_input": "2022-06-29T20:11:24.693239Z",
     "iopub.status.busy": "2022-06-29T20:11:24.692523Z",
     "iopub.status.idle": "2022-06-29T20:11:24.708819Z",
     "shell.execute_reply": "2022-06-29T20:11:24.709502Z"
    },
    "papermill": {
     "duration": 0.052067,
     "end_time": "2022-06-29T20:11:24.709641",
     "exception": false,
     "start_time": "2022-06-29T20:11:24.657574",
     "status": "completed"
    },
    "tags": []
   },
   "outputs": [
    {
     "data": {
      "text/plain": [
       "((60000, 28, 28), (60000,))"
      ]
     },
     "execution_count": 6,
     "metadata": {},
     "output_type": "execute_result"
    }
   ],
   "source": [
    "train_images.shape, train_labels.shape"
   ]
  },
  {
   "cell_type": "code",
   "execution_count": 7,
   "id": "f50dc2bb",
   "metadata": {
    "execution": {
     "iopub.execute_input": "2022-06-29T20:11:24.769361Z",
     "iopub.status.busy": "2022-06-29T20:11:24.768630Z",
     "iopub.status.idle": "2022-06-29T20:11:24.955637Z",
     "shell.execute_reply": "2022-06-29T20:11:24.955071Z"
    },
    "papermill": {
     "duration": 0.218637,
     "end_time": "2022-06-29T20:11:24.955815",
     "exception": false,
     "start_time": "2022-06-29T20:11:24.737178",
     "status": "completed"
    },
    "tags": []
   },
   "outputs": [],
   "source": [
    "test_images = mnist.test_images()\n",
    "test_labels = mnist.test_labels()"
   ]
  },
  {
   "cell_type": "code",
   "execution_count": 8,
   "id": "fc38cf1b",
   "metadata": {
    "execution": {
     "iopub.execute_input": "2022-06-29T20:11:25.032040Z",
     "iopub.status.busy": "2022-06-29T20:11:25.022590Z",
     "iopub.status.idle": "2022-06-29T20:11:25.035459Z",
     "shell.execute_reply": "2022-06-29T20:11:25.036187Z"
    },
    "papermill": {
     "duration": 0.051098,
     "end_time": "2022-06-29T20:11:25.036337",
     "exception": false,
     "start_time": "2022-06-29T20:11:24.985239",
     "status": "completed"
    },
    "tags": []
   },
   "outputs": [
    {
     "data": {
      "text/plain": [
       "((10000, 28, 28), (10000,))"
      ]
     },
     "execution_count": 8,
     "metadata": {},
     "output_type": "execute_result"
    }
   ],
   "source": [
    "test_images.shape, test_labels.shape"
   ]
  },
  {
   "cell_type": "code",
   "execution_count": 9,
   "id": "f9ed8fe0",
   "metadata": {
    "execution": {
     "iopub.execute_input": "2022-06-29T20:11:25.101255Z",
     "iopub.status.busy": "2022-06-29T20:11:25.100305Z",
     "iopub.status.idle": "2022-06-29T20:11:25.280446Z",
     "shell.execute_reply": "2022-06-29T20:11:25.281031Z"
    },
    "papermill": {
     "duration": 0.216307,
     "end_time": "2022-06-29T20:11:25.281196",
     "exception": false,
     "start_time": "2022-06-29T20:11:25.064889",
     "status": "completed"
    },
    "tags": []
   },
   "outputs": [
    {
     "name": "stdout",
     "output_type": "stream",
     "text": [
      "2\n"
     ]
    },
    {
     "data": {
      "text/plain": [
       "<matplotlib.image.AxesImage at 0x7f2b3c4f7438>"
      ]
     },
     "execution_count": 9,
     "metadata": {},
     "output_type": "execute_result"
    },
    {
     "data": {
      "image/png": "[encoded data removed]",
      "text/plain": [
       "<Figure size 432x288 with 1 Axes>"
      ]
     },
     "metadata": {
      "needs_background": "light"
     },
     "output_type": "display_data"
    }
   ],
   "source": [
    "image_index = 7776 # You may select anything up to 60,000\n",
    "print(train_labels[image_index]) \n",
    "plt.imshow(train_images[image_index], cmap='Greys')"
   ]
  },
  {
   "cell_type": "markdown",
   "id": "a8d2388d",
   "metadata": {
    "papermill": {
     "duration": 0.034169,
     "end_time": "2022-06-29T20:11:25.348939",
     "exception": false,
     "start_time": "2022-06-29T20:11:25.314770",
     "status": "completed"
    },
    "tags": []
   },
   "source": [
    "## Filter data to get 3 and 8 out"
   ]
  },
  {
   "cell_type": "code",
   "execution_count": 10,
   "id": "776f7fc7",
   "metadata": {
    "execution": {
     "iopub.execute_input": "2022-06-29T20:11:25.426585Z",
     "iopub.status.busy": "2022-06-29T20:11:25.425842Z",
     "iopub.status.idle": "2022-06-29T20:11:25.442055Z",
     "shell.execute_reply": "2022-06-29T20:11:25.441389Z"
    },
    "papermill": {
     "duration": 0.05805,
     "end_time": "2022-06-29T20:11:25.442199",
     "exception": false,
     "start_time": "2022-06-29T20:11:25.384149",
     "status": "completed"
    },
    "tags": []
   },
   "outputs": [],
   "source": [
    "train_filter = np.where((train_labels == 3 ) | (train_labels == 8))\n",
    "test_filter = np.where((test_labels == 3) | (test_labels == 8))\n",
    "X_train, y_train = train_images[train_filter], train_labels[train_filter]\n",
    "X_test, y_test = test_images[test_filter], test_labels[test_filter]"
   ]
  },
  {
   "cell_type": "markdown",
   "id": "948f0b7e",
   "metadata": {
    "papermill": {
     "duration": 0.033473,
     "end_time": "2022-06-29T20:11:25.510162",
     "exception": false,
     "start_time": "2022-06-29T20:11:25.476689",
     "status": "completed"
    },
    "tags": []
   },
   "source": [
    "We normalize the pizel values in the 0 to 1 range"
   ]
  },
  {
   "cell_type": "code",
   "execution_count": 11,
   "id": "ee4c2166",
   "metadata": {
    "execution": {
     "iopub.execute_input": "2022-06-29T20:11:25.594712Z",
     "iopub.status.busy": "2022-06-29T20:11:25.591317Z",
     "iopub.status.idle": "2022-06-29T20:11:25.644644Z",
     "shell.execute_reply": "2022-06-29T20:11:25.644006Z"
    },
    "papermill": {
     "duration": 0.100377,
     "end_time": "2022-06-29T20:11:25.644787",
     "exception": false,
     "start_time": "2022-06-29T20:11:25.544410",
     "status": "completed"
    },
    "tags": []
   },
   "outputs": [],
   "source": [
    "X_train = X_train/255.\n",
    "X_test = X_test/255."
   ]
  },
  {
   "cell_type": "markdown",
   "id": "ddcf4fab",
   "metadata": {
    "papermill": {
     "duration": 0.032414,
     "end_time": "2022-06-29T20:11:25.710426",
     "exception": false,
     "start_time": "2022-06-29T20:11:25.678012",
     "status": "completed"
    },
    "tags": []
   },
   "source": [
    "And setup the labels as 1 (when the digit is 3) and 0 (when the digit is 8)"
   ]
  },
  {
   "cell_type": "code",
   "execution_count": 12,
   "id": "7dc908f2",
   "metadata": {
    "execution": {
     "iopub.execute_input": "2022-06-29T20:11:25.780559Z",
     "iopub.status.busy": "2022-06-29T20:11:25.779789Z",
     "iopub.status.idle": "2022-06-29T20:11:25.793440Z",
     "shell.execute_reply": "2022-06-29T20:11:25.792779Z"
    },
    "papermill": {
     "duration": 0.050277,
     "end_time": "2022-06-29T20:11:25.793587",
     "exception": false,
     "start_time": "2022-06-29T20:11:25.743310",
     "status": "completed"
    },
    "tags": []
   },
   "outputs": [],
   "source": [
    "y_train = 1*(y_train==3)\n",
    "y_test = 1*(y_test==3)"
   ]
  },
  {
   "cell_type": "code",
   "execution_count": 13,
   "id": "01e4e969",
   "metadata": {
    "execution": {
     "iopub.execute_input": "2022-06-29T20:11:25.869342Z",
     "iopub.status.busy": "2022-06-29T20:11:25.868583Z",
     "iopub.status.idle": "2022-06-29T20:11:25.884576Z",
     "shell.execute_reply": "2022-06-29T20:11:25.885242Z"
    },
    "papermill": {
     "duration": 0.053213,
     "end_time": "2022-06-29T20:11:25.885392",
     "exception": false,
     "start_time": "2022-06-29T20:11:25.832179",
     "status": "completed"
    },
    "tags": []
   },
   "outputs": [
    {
     "data": {
      "text/plain": [
       "((11982, 28, 28), (1984, 28, 28))"
      ]
     },
     "execution_count": 13,
     "metadata": {},
     "output_type": "execute_result"
    }
   ],
   "source": [
    "X_train.shape, X_test.shape"
   ]
  },
  {
   "cell_type": "markdown",
   "id": "5ccf3f85",
   "metadata": {
    "papermill": {
     "duration": 0.034129,
     "end_time": "2022-06-29T20:11:25.951953",
     "exception": false,
     "start_time": "2022-06-29T20:11:25.917824",
     "status": "completed"
    },
    "tags": []
   },
   "source": [
    "We reshape the data to flatten the image pixels into a set of features or co-variates:"
   ]
  },
  {
   "cell_type": "code",
   "execution_count": 14,
   "id": "5286a4a3",
   "metadata": {
    "execution": {
     "iopub.execute_input": "2022-06-29T20:11:26.021286Z",
     "iopub.status.busy": "2022-06-29T20:11:26.020560Z",
     "iopub.status.idle": "2022-06-29T20:11:26.035419Z",
     "shell.execute_reply": "2022-06-29T20:11:26.034835Z"
    },
    "papermill": {
     "duration": 0.051888,
     "end_time": "2022-06-29T20:11:26.035546",
     "exception": false,
     "start_time": "2022-06-29T20:11:25.983658",
     "status": "completed"
    },
    "tags": []
   },
   "outputs": [
    {
     "data": {
      "text/plain": [
       "((11982, 784), (1984, 784))"
      ]
     },
     "execution_count": 14,
     "metadata": {},
     "output_type": "execute_result"
    }
   ],
   "source": [
    "X_train = X_train.reshape(X_train.shape[0], -1)\n",
    "X_test = X_test.reshape(X_test.shape[0], -1)\n",
    "X_train.shape, X_test.shape"
   ]
  },
  {
   "cell_type": "code",
   "execution_count": 15,
   "id": "73c5f88a",
   "metadata": {
    "execution": {
     "iopub.execute_input": "2022-06-29T20:11:26.124929Z",
     "iopub.status.busy": "2022-06-29T20:11:26.124161Z",
     "iopub.status.idle": "2022-06-29T20:11:26.146796Z",
     "shell.execute_reply": "2022-06-29T20:11:26.146144Z"
    },
    "papermill": {
     "duration": 0.07125,
     "end_time": "2022-06-29T20:11:26.146966",
     "exception": false,
     "start_time": "2022-06-29T20:11:26.075716",
     "status": "completed"
    },
    "tags": []
   },
   "outputs": [],
   "source": [
    "#Impoting functions from 'Kudzu'\n",
    "from kudzu.model import Model\n",
    "from kudzu.train import Learner\n",
    "from kudzu.optim import GD\n",
    "from kudzu.data import Data, Sampler,Dataloader\n",
    "\n",
    "from kudzu.callbacks import AccCallback\n",
    "from kudzu.callbacks import ClfCallback\n",
    "\n",
    "from kudzu.loss import MSE\n",
    "\n",
    "from kudzu.layer import Sigmoid,Relu\n",
    "from kudzu.layer import Affine"
   ]
  },
  {
   "cell_type": "markdown",
   "id": "bc01172a",
   "metadata": {
    "papermill": {
     "duration": 0.032847,
     "end_time": "2022-06-29T20:11:26.215223",
     "exception": false,
     "start_time": "2022-06-29T20:11:26.182376",
     "status": "completed"
    },
    "tags": []
   },
   "source": [
    "### Let us create a `Config` class, to store important parameters. \n",
    "This class essentially plays the role of a dictionary."
   ]
  },
  {
   "cell_type": "code",
   "execution_count": 16,
   "id": "978281aa",
   "metadata": {
    "execution": {
     "iopub.execute_input": "2022-06-29T20:11:26.285397Z",
     "iopub.status.busy": "2022-06-29T20:11:26.284665Z",
     "iopub.status.idle": "2022-06-29T20:11:26.296356Z",
     "shell.execute_reply": "2022-06-29T20:11:26.295820Z"
    },
    "papermill": {
     "duration": 0.050822,
     "end_time": "2022-06-29T20:11:26.296474",
     "exception": false,
     "start_time": "2022-06-29T20:11:26.245652",
     "status": "completed"
    },
    "tags": []
   },
   "outputs": [],
   "source": [
    "class Config:\n",
    "    pass\n",
    "config = Config()\n",
    "config.lr = 0.001\n",
    "config.num_epochs = 250\n",
    "config.bs = 50"
   ]
  },
  {
   "cell_type": "markdown",
   "id": "1385fa59",
   "metadata": {
    "papermill": {
     "duration": 0.032292,
     "end_time": "2022-06-29T20:11:26.362155",
     "exception": false,
     "start_time": "2022-06-29T20:11:26.329863",
     "status": "completed"
    },
    "tags": []
   },
   "source": [
    "### Running Models with the Training data\n",
    "Details about the network layers:\n",
    "- A first affine layer has 784 inputs and does 100 affine transforms. These are followed by a Relu\n",
    "- A second affine layer has 100 inputs from the 100 activations of the past layer, and does 100 affine transforms. These are followed by a Relu\n",
    "- A third affine layer has 100 activations and does 2 affine transformations to create an embedding for visualization. There is no non-linearity here.\n",
    "- A final \"logistic regression\" which has an affine transform from 2 inputs to 1 output, which is squeezed through a sigmoid.\n"
   ]
  },
  {
   "cell_type": "code",
   "execution_count": 17,
   "id": "2b9c66db",
   "metadata": {
    "execution": {
     "iopub.execute_input": "2022-06-29T20:11:26.433542Z",
     "iopub.status.busy": "2022-06-29T20:11:26.432849Z",
     "iopub.status.idle": "2022-06-29T20:11:26.446737Z",
     "shell.execute_reply": "2022-06-29T20:11:26.446181Z"
    },
    "papermill": {
     "duration": 0.050567,
     "end_time": "2022-06-29T20:11:26.446857",
     "exception": false,
     "start_time": "2022-06-29T20:11:26.396290",
     "status": "completed"
    },
    "tags": []
   },
   "outputs": [],
   "source": [
    "data = Data(X_train, y_train.reshape(-1,1))\n",
    "sampler = Sampler(data, config.bs, shuffle=True)\n",
    "\n",
    "dl = Dataloader(data, sampler)\n",
    "\n",
    "opt = GD(config.lr)\n",
    "loss = MSE()"
   ]
  },
  {
   "cell_type": "code",
   "execution_count": 18,
   "id": "b275e4c2",
   "metadata": {
    "execution": {
     "iopub.execute_input": "2022-06-29T20:11:26.530813Z",
     "iopub.status.busy": "2022-06-29T20:11:26.529974Z",
     "iopub.status.idle": "2022-06-29T20:11:26.542768Z",
     "shell.execute_reply": "2022-06-29T20:11:26.542077Z"
    },
    "papermill": {
     "duration": 0.065019,
     "end_time": "2022-06-29T20:11:26.542910",
     "exception": false,
     "start_time": "2022-06-29T20:11:26.477891",
     "status": "completed"
    },
    "tags": []
   },
   "outputs": [],
   "source": [
    "training_data_x = X_train\n",
    "testing_data_x = X_test\n",
    "training_data_y = y_train.reshape(-1,1)\n",
    "testing_data_y = y_test.reshape(-1,1)"
   ]
  },
  {
   "cell_type": "code",
   "execution_count": 19,
   "id": "76951160",
   "metadata": {
    "execution": {
     "iopub.execute_input": "2022-06-29T20:11:26.614525Z",
     "iopub.status.busy": "2022-06-29T20:11:26.613862Z",
     "iopub.status.idle": "2022-06-29T20:11:26.633159Z",
     "shell.execute_reply": "2022-06-29T20:11:26.633950Z"
    },
    "papermill": {
     "duration": 0.056971,
     "end_time": "2022-06-29T20:11:26.634129",
     "exception": false,
     "start_time": "2022-06-29T20:11:26.577158",
     "status": "completed"
    },
    "tags": []
   },
   "outputs": [
    {
     "name": "stdout",
     "output_type": "stream",
     "text": [
      "xavier\n",
      "xavier\n",
      "xavier\n",
      "xavier\n",
      "xavier\n"
     ]
    }
   ],
   "source": [
    "layers = [Affine(\"first\", 784, 100), Relu(\"first\"), Affine(\"second\", 100, 100), Relu(\"second\"), Affine(\"third\", 100, 2), Affine(\"last\", 2, 1), Sigmoid(\"last\")]\n",
    "model_nn = Model(layers)\n",
    "model_lr = Model([Affine(\"logits\", 784, 1), Sigmoid(\"sigmoid\")])"
   ]
  },
  {
   "cell_type": "code",
   "execution_count": 20,
   "id": "6eede77a",
   "metadata": {
    "execution": {
     "iopub.execute_input": "2022-06-29T20:11:26.703427Z",
     "iopub.status.busy": "2022-06-29T20:11:26.702691Z",
     "iopub.status.idle": "2022-06-29T20:11:26.715866Z",
     "shell.execute_reply": "2022-06-29T20:11:26.716493Z"
    },
    "papermill": {
     "duration": 0.049274,
     "end_time": "2022-06-29T20:11:26.716625",
     "exception": false,
     "start_time": "2022-06-29T20:11:26.667351",
     "status": "completed"
    },
    "tags": []
   },
   "outputs": [],
   "source": [
    "nn_learner = Learner(loss, model_nn, opt, config.num_epochs)\n",
    "acc_nn = ClfCallback(nn_learner, config.bs, training_data_x , testing_data_x, training_data_y, testing_data_y)\n",
    "nn_learner.set_callbacks([acc_nn])"
   ]
  },
  {
   "cell_type": "code",
   "execution_count": 21,
   "id": "877b6cc7",
   "metadata": {
    "execution": {
     "iopub.execute_input": "2022-06-29T20:11:26.786644Z",
     "iopub.status.busy": "2022-06-29T20:11:26.785950Z",
     "iopub.status.idle": "2022-06-29T20:11:26.796701Z",
     "shell.execute_reply": "2022-06-29T20:11:26.797392Z"
    },
    "papermill": {
     "duration": 0.049792,
     "end_time": "2022-06-29T20:11:26.797548",
     "exception": false,
     "start_time": "2022-06-29T20:11:26.747756",
     "status": "completed"
    },
    "tags": []
   },
   "outputs": [],
   "source": [
    "lr_learner = Learner(loss, model_lr, opt, config.num_epochs)\n",
    "acc_lr = ClfCallback(lr_learner, config.bs, training_data_x , testing_data_x, training_data_y, testing_data_y)\n",
    "lr_learner.set_callbacks([acc_lr])"
   ]
  },
  {
   "cell_type": "code",
   "execution_count": 22,
   "id": "d9b133c3",
   "metadata": {
    "execution": {
     "iopub.execute_input": "2022-06-29T20:11:26.865041Z",
     "iopub.status.busy": "2022-06-29T20:11:26.862685Z",
     "iopub.status.idle": "2022-06-29T20:13:34.102022Z",
     "shell.execute_reply": "2022-06-29T20:13:34.103039Z"
    },
    "papermill": {
     "duration": 127.274614,
     "end_time": "2022-06-29T20:13:34.103207",
     "exception": false,
     "start_time": "2022-06-29T20:11:26.828593",
     "status": "completed"
    },
    "tags": []
   },
   "outputs": [
    {
     "name": "stdout",
     "output_type": "stream",
     "text": [
      "Epoch 0, Loss 0.2503\n",
      "Training Accuracy: 0.5820, Testing Accuracy: 0.5842\n",
      "\n"
     ]
    },
    {
     "name": "stdout",
     "output_type": "stream",
     "text": [
      "Epoch 10, Loss 0.1441\n",
      "Training Accuracy: 0.9000, Testing Accuracy: 0.9088\n",
      "\n"
     ]
    },
    {
     "name": "stdout",
     "output_type": "stream",
     "text": [
      "Epoch 20, Loss 0.073\n",
      "Training Accuracy: 0.9294, Testing Accuracy: 0.9425\n",
      "\n"
     ]
    },
    {
     "name": "stdout",
     "output_type": "stream",
     "text": [
      "Epoch 30, Loss 0.052\n",
      "Training Accuracy: 0.9457, Testing Accuracy: 0.9536\n",
      "\n"
     ]
    },
    {
     "name": "stdout",
     "output_type": "stream",
     "text": [
      "Epoch 40, Loss 0.0431\n",
      "Training Accuracy: 0.9528, Testing Accuracy: 0.9582\n",
      "\n"
     ]
    },
    {
     "name": "stdout",
     "output_type": "stream",
     "text": [
      "Epoch 50, Loss 0.0382\n",
      "Training Accuracy: 0.9563, Testing Accuracy: 0.9637\n",
      "\n"
     ]
    },
    {
     "name": "stdout",
     "output_type": "stream",
     "text": [
      "Epoch 60, Loss 0.035\n",
      "Training Accuracy: 0.9594, Testing Accuracy: 0.9642\n",
      "\n"
     ]
    },
    {
     "name": "stdout",
     "output_type": "stream",
     "text": [
      "Epoch 70, Loss 0.0328\n",
      "Training Accuracy: 0.9616, Testing Accuracy: 0.9667\n",
      "\n"
     ]
    },
    {
     "name": "stdout",
     "output_type": "stream",
     "text": [
      "Epoch 80, Loss 0.031\n",
      "Training Accuracy: 0.9634, Testing Accuracy: 0.9682\n",
      "\n"
     ]
    },
    {
     "name": "stdout",
     "output_type": "stream",
     "text": [
      "Epoch 90, Loss 0.0295\n",
      "Training Accuracy: 0.9654, Testing Accuracy: 0.9677\n",
      "\n"
     ]
    },
    {
     "name": "stdout",
     "output_type": "stream",
     "text": [
      "Epoch 100, Loss 0.0283\n",
      "Training Accuracy: 0.9676, Testing Accuracy: 0.9693\n",
      "\n"
     ]
    },
    {
     "name": "stdout",
     "output_type": "stream",
     "text": [
      "Epoch 110, Loss 0.0272\n",
      "Training Accuracy: 0.9685, Testing Accuracy: 0.9703\n",
      "\n"
     ]
    },
    {
     "name": "stdout",
     "output_type": "stream",
     "text": [
      "Epoch 120, Loss 0.0262\n",
      "Training Accuracy: 0.9696, Testing Accuracy: 0.9703\n",
      "\n"
     ]
    },
    {
     "name": "stdout",
     "output_type": "stream",
     "text": [
      "Epoch 130, Loss 0.0254\n",
      "Training Accuracy: 0.9704, Testing Accuracy: 0.9708\n",
      "\n"
     ]
    },
    {
     "name": "stdout",
     "output_type": "stream",
     "text": [
      "Epoch 140, Loss 0.0246\n",
      "Training Accuracy: 0.9712, Testing Accuracy: 0.9713\n",
      "\n"
     ]
    },
    {
     "name": "stdout",
     "output_type": "stream",
     "text": [
      "Epoch 150, Loss 0.0239\n",
      "Training Accuracy: 0.9727, Testing Accuracy: 0.9718\n",
      "\n"
     ]
    },
    {
     "name": "stdout",
     "output_type": "stream",
     "text": [
      "Epoch 160, Loss 0.0233\n",
      "Training Accuracy: 0.9734, Testing Accuracy: 0.9718\n",
      "\n"
     ]
    },
    {
     "name": "stdout",
     "output_type": "stream",
     "text": [
      "Epoch 170, Loss 0.0227\n",
      "Training Accuracy: 0.9738, Testing Accuracy: 0.9728\n",
      "\n"
     ]
    },
    {
     "name": "stdout",
     "output_type": "stream",
     "text": [
      "Epoch 180, Loss 0.0221\n",
      "Training Accuracy: 0.9746, Testing Accuracy: 0.9733\n",
      "\n"
     ]
    },
    {
     "name": "stdout",
     "output_type": "stream",
     "text": [
      "Epoch 190, Loss 0.0215\n",
      "Training Accuracy: 0.9749, Testing Accuracy: 0.9738\n",
      "\n"
     ]
    },
    {
     "name": "stdout",
     "output_type": "stream",
     "text": [
      "Epoch 200, Loss 0.021\n",
      "Training Accuracy: 0.9758, Testing Accuracy: 0.9738\n",
      "\n"
     ]
    },
    {
     "name": "stdout",
     "output_type": "stream",
     "text": [
      "Epoch 210, Loss 0.0205\n",
      "Training Accuracy: 0.9768, Testing Accuracy: 0.9738\n",
      "\n"
     ]
    },
    {
     "name": "stdout",
     "output_type": "stream",
     "text": [
      "Epoch 220, Loss 0.0201\n",
      "Training Accuracy: 0.9769, Testing Accuracy: 0.9738\n",
      "\n"
     ]
    },
    {
     "name": "stdout",
     "output_type": "stream",
     "text": [
      "Epoch 230, Loss 0.0196\n",
      "Training Accuracy: 0.9775, Testing Accuracy: 0.9733\n",
      "\n"
     ]
    },
    {
     "name": "stdout",
     "output_type": "stream",
     "text": [
      "Epoch 240, Loss 0.0192\n",
      "Training Accuracy: 0.9780, Testing Accuracy: 0.9733\n",
      "\n"
     ]
    },
    {
     "data": {
      "text/plain": [
       "0.0038294347315284026"
      ]
     },
     "execution_count": 22,
     "metadata": {},
     "output_type": "execute_result"
    }
   ],
   "source": [
    "nn_learner.train_loop(dl)"
   ]
  },
  {
   "cell_type": "code",
   "execution_count": 23,
   "id": "e0163366",
   "metadata": {
    "execution": {
     "iopub.execute_input": "2022-06-29T20:13:34.203178Z",
     "iopub.status.busy": "2022-06-29T20:13:34.202476Z",
     "iopub.status.idle": "2022-06-29T20:13:52.676357Z",
     "shell.execute_reply": "2022-06-29T20:13:52.677247Z"
    },
    "papermill": {
     "duration": 18.531167,
     "end_time": "2022-06-29T20:13:52.677398",
     "exception": false,
     "start_time": "2022-06-29T20:13:34.146231",
     "status": "completed"
    },
    "tags": []
   },
   "outputs": [
    {
     "name": "stdout",
     "output_type": "stream",
     "text": [
      "Epoch 0, Loss 0.2379\n",
      "Training Accuracy: 0.7193, Testing Accuracy: 0.7127\n",
      "\n"
     ]
    },
    {
     "name": "stdout",
     "output_type": "stream",
     "text": [
      "Epoch 10, Loss 0.1044\n",
      "Training Accuracy: 0.9047, Testing Accuracy: 0.9138\n",
      "\n"
     ]
    },
    {
     "name": "stdout",
     "output_type": "stream",
     "text": [
      "Epoch 20, Loss 0.0803\n",
      "Training Accuracy: 0.9239, Testing Accuracy: 0.9365\n",
      "\n"
     ]
    },
    {
     "name": "stdout",
     "output_type": "stream",
     "text": [
      "Epoch 30, Loss 0.069\n",
      "Training Accuracy: 0.9342, Testing Accuracy: 0.9466\n",
      "\n"
     ]
    },
    {
     "name": "stdout",
     "output_type": "stream",
     "text": [
      "Epoch 40, Loss 0.0622\n",
      "Training Accuracy: 0.9412, Testing Accuracy: 0.9531\n",
      "\n"
     ]
    },
    {
     "name": "stdout",
     "output_type": "stream",
     "text": [
      "Epoch 50, Loss 0.0576\n",
      "Training Accuracy: 0.9457, Testing Accuracy: 0.9572\n",
      "\n"
     ]
    },
    {
     "name": "stdout",
     "output_type": "stream",
     "text": [
      "Epoch 60, Loss 0.0542\n",
      "Training Accuracy: 0.9478, Testing Accuracy: 0.9592\n",
      "\n"
     ]
    },
    {
     "name": "stdout",
     "output_type": "stream",
     "text": [
      "Epoch 70, Loss 0.0515\n",
      "Training Accuracy: 0.9488, Testing Accuracy: 0.9592\n",
      "\n"
     ]
    },
    {
     "name": "stdout",
     "output_type": "stream",
     "text": [
      "Epoch 80, Loss 0.0494\n",
      "Training Accuracy: 0.9503, Testing Accuracy: 0.9607\n",
      "\n"
     ]
    },
    {
     "name": "stdout",
     "output_type": "stream",
     "text": [
      "Epoch 90, Loss 0.0477\n",
      "Training Accuracy: 0.9516, Testing Accuracy: 0.9632\n",
      "\n"
     ]
    },
    {
     "name": "stdout",
     "output_type": "stream",
     "text": [
      "Epoch 100, Loss 0.0463\n",
      "Training Accuracy: 0.9530, Testing Accuracy: 0.9627\n",
      "\n"
     ]
    },
    {
     "name": "stdout",
     "output_type": "stream",
     "text": [
      "Epoch 110, Loss 0.045\n",
      "Training Accuracy: 0.9533, Testing Accuracy: 0.9627\n",
      "\n"
     ]
    },
    {
     "name": "stdout",
     "output_type": "stream",
     "text": [
      "Epoch 120, Loss 0.044\n",
      "Training Accuracy: 0.9539, Testing Accuracy: 0.9637\n",
      "\n"
     ]
    },
    {
     "name": "stdout",
     "output_type": "stream",
     "text": [
      "Epoch 130, Loss 0.043\n",
      "Training Accuracy: 0.9548, Testing Accuracy: 0.9657\n",
      "\n"
     ]
    },
    {
     "name": "stdout",
     "output_type": "stream",
     "text": [
      "Epoch 140, Loss 0.0422\n",
      "Training Accuracy: 0.9553, Testing Accuracy: 0.9672\n",
      "\n"
     ]
    },
    {
     "name": "stdout",
     "output_type": "stream",
     "text": [
      "Epoch 150, Loss 0.0414\n",
      "Training Accuracy: 0.9561, Testing Accuracy: 0.9672\n",
      "\n"
     ]
    },
    {
     "name": "stdout",
     "output_type": "stream",
     "text": [
      "Epoch 160, Loss 0.0407\n",
      "Training Accuracy: 0.9567, Testing Accuracy: 0.9672\n",
      "\n"
     ]
    },
    {
     "name": "stdout",
     "output_type": "stream",
     "text": [
      "Epoch 170, Loss 0.0401\n",
      "Training Accuracy: 0.9570, Testing Accuracy: 0.9667\n",
      "\n"
     ]
    },
    {
     "name": "stdout",
     "output_type": "stream",
     "text": [
      "Epoch 180, Loss 0.0396\n",
      "Training Accuracy: 0.9578, Testing Accuracy: 0.9672\n",
      "\n"
     ]
    },
    {
     "name": "stdout",
     "output_type": "stream",
     "text": [
      "Epoch 190, Loss 0.039\n",
      "Training Accuracy: 0.9579, Testing Accuracy: 0.9667\n",
      "\n"
     ]
    },
    {
     "name": "stdout",
     "output_type": "stream",
     "text": [
      "Epoch 200, Loss 0.0386\n",
      "Training Accuracy: 0.9583, Testing Accuracy: 0.9672\n",
      "\n"
     ]
    },
    {
     "name": "stdout",
     "output_type": "stream",
     "text": [
      "Epoch 210, Loss 0.0381\n",
      "Training Accuracy: 0.9590, Testing Accuracy: 0.9672\n",
      "\n"
     ]
    },
    {
     "name": "stdout",
     "output_type": "stream",
     "text": [
      "Epoch 220, Loss 0.0377\n",
      "Training Accuracy: 0.9594, Testing Accuracy: 0.9682\n",
      "\n"
     ]
    },
    {
     "name": "stdout",
     "output_type": "stream",
     "text": [
      "Epoch 230, Loss 0.0373\n",
      "Training Accuracy: 0.9598, Testing Accuracy: 0.9682\n",
      "\n"
     ]
    },
    {
     "name": "stdout",
     "output_type": "stream",
     "text": [
      "Epoch 240, Loss 0.0369\n",
      "Training Accuracy: 0.9601, Testing Accuracy: 0.9677\n",
      "\n"
     ]
    },
    {
     "data": {
      "text/plain": [
       "0.03527754713807617"
      ]
     },
     "execution_count": 23,
     "metadata": {},
     "output_type": "execute_result"
    }
   ],
   "source": [
    "lr_learner.train_loop(dl)"
   ]
  },
  {
   "cell_type": "code",
   "execution_count": 24,
   "id": "ca410940",
   "metadata": {
    "execution": {
     "iopub.execute_input": "2022-06-29T20:13:52.783206Z",
     "iopub.status.busy": "2022-06-29T20:13:52.782542Z",
     "iopub.status.idle": "2022-06-29T20:13:53.067227Z",
     "shell.execute_reply": "2022-06-29T20:13:53.066642Z"
    },
    "papermill": {
     "duration": 0.340784,
     "end_time": "2022-06-29T20:13:53.067356",
     "exception": false,
     "start_time": "2022-06-29T20:13:52.726572",
     "status": "completed"
    },
    "tags": []
   },
   "outputs": [
    {
     "data": {
      "text/plain": [
       "<matplotlib.legend.Legend at 0x7f2b2f8adb38>"
      ]
     },
     "execution_count": 24,
     "metadata": {},
     "output_type": "execute_result"
    },
    {
     "data": {
      "image/png": "[encoded data removed]",
      "text/plain": [
       "<Figure size 1080x720 with 1 Axes>"
      ]
     },
     "metadata": {
      "needs_background": "light"
     },
     "output_type": "display_data"
    }
   ],
   "source": [
    "#comparing the results of NN and LR\n",
    "plt.figure(figsize=(15,10))\n",
    "\n",
    "# Neural Network plots\n",
    "plt.plot(acc_nn.accuracies, 'r-', label = \"Training Accuracies - NN\")\n",
    "plt.plot(acc_nn.test_accuracies, 'g-', label = \"Testing Accuracies - NN\")\n",
    "\n",
    "# Logistic Regression plots\n",
    "plt.plot(acc_lr.accuracies, 'k-', label = \"Training Accuracies - LR\")\n",
    "plt.plot(acc_lr.test_accuracies, 'b-', label = \"Testing Accuracies - LR\")\n",
    "plt.legend()"
   ]
  },
  {
   "cell_type": "markdown",
   "id": "80dfb35c",
   "metadata": {
    "papermill": {
     "duration": 0.052014,
     "end_time": "2022-06-29T20:13:53.171853",
     "exception": false,
     "start_time": "2022-06-29T20:13:53.119839",
     "status": "completed"
    },
    "tags": []
   },
   "source": [
    "#### Plotting the outputs of this layer of the NN.\n"
   ]
  },
  {
   "cell_type": "code",
   "execution_count": 25,
   "id": "45eb2ff5",
   "metadata": {
    "execution": {
     "iopub.execute_input": "2022-06-29T20:13:53.294577Z",
     "iopub.status.busy": "2022-06-29T20:13:53.293812Z",
     "iopub.status.idle": "2022-06-29T20:13:53.319335Z",
     "shell.execute_reply": "2022-06-29T20:13:53.320174Z"
    },
    "papermill": {
     "duration": 0.084746,
     "end_time": "2022-06-29T20:13:53.320345",
     "exception": false,
     "start_time": "2022-06-29T20:13:53.235599",
     "status": "completed"
    },
    "tags": []
   },
   "outputs": [],
   "source": [
    "new_model = Model(layers[:-2])\n",
    "testing_plot = new_model(testing_data_x)"
   ]
  },
  {
   "cell_type": "code",
   "execution_count": 26,
   "id": "4c0a5485",
   "metadata": {
    "execution": {
     "iopub.execute_input": "2022-06-29T20:13:53.426395Z",
     "iopub.status.busy": "2022-06-29T20:13:53.425635Z",
     "iopub.status.idle": "2022-06-29T20:13:53.704930Z",
     "shell.execute_reply": "2022-06-29T20:13:53.704122Z"
    },
    "papermill": {
     "duration": 0.334062,
     "end_time": "2022-06-29T20:13:53.705069",
     "exception": false,
     "start_time": "2022-06-29T20:13:53.371007",
     "status": "completed"
    },
    "tags": []
   },
   "outputs": [
    {
     "data": {
      "text/plain": [
       "Text(0.5, 1.0, 'Outputs')"
      ]
     },
     "execution_count": 26,
     "metadata": {},
     "output_type": "execute_result"
    },
    {
     "data": {
      "image/png": "[encoded data removed]",
      "text/plain": [
       "<Figure size 576x504 with 1 Axes>"
      ]
     },
     "metadata": {
      "needs_background": "light"
     },
     "output_type": "display_data"
    }
   ],
   "source": [
    "# Plotting the scatter plot of points and color coding by class\n",
    "plt.figure(figsize=(8,7))\n",
    "plt.scatter(testing_plot[:,0], testing_plot[:,1], alpha = 0.1, c = y_test.ravel());\n",
    "plt.title('Outputs')"
   ]
  },
  {
   "cell_type": "markdown",
   "id": "a74fcf8f",
   "metadata": {
    "papermill": {
     "duration": 0.076248,
     "end_time": "2022-06-29T20:13:53.834492",
     "exception": false,
     "start_time": "2022-06-29T20:13:53.758244",
     "status": "completed"
    },
    "tags": []
   },
   "source": [
    "Probability contours"
   ]
  },
  {
   "cell_type": "code",
   "execution_count": 27,
   "id": "d0afc8e3",
   "metadata": {
    "execution": {
     "iopub.execute_input": "2022-06-29T20:13:53.946944Z",
     "iopub.status.busy": "2022-06-29T20:13:53.946152Z",
     "iopub.status.idle": "2022-06-29T20:13:53.956071Z",
     "shell.execute_reply": "2022-06-29T20:13:53.956793Z"
    },
    "papermill": {
     "duration": 0.070777,
     "end_time": "2022-06-29T20:13:53.956954",
     "exception": false,
     "start_time": "2022-06-29T20:13:53.886177",
     "status": "completed"
    },
    "tags": []
   },
   "outputs": [],
   "source": [
    "model_prob = Model(layers[-2:]) "
   ]
  },
  {
   "cell_type": "code",
   "execution_count": 28,
   "id": "9b96e238",
   "metadata": {
    "execution": {
     "iopub.execute_input": "2022-06-29T20:13:54.071144Z",
     "iopub.status.busy": "2022-06-29T20:13:54.069941Z",
     "iopub.status.idle": "2022-06-29T20:13:54.086168Z",
     "shell.execute_reply": "2022-06-29T20:13:54.086654Z"
    },
    "papermill": {
     "duration": 0.076413,
     "end_time": "2022-06-29T20:13:54.086790",
     "exception": false,
     "start_time": "2022-06-29T20:13:54.010377",
     "status": "completed"
    },
    "tags": []
   },
   "outputs": [],
   "source": [
    "#creating the x and y ranges according to the above generated plot.\n",
    "x_range = np.linspace(-4, 1, 100) \n",
    "y_range = np.linspace(-6, 6, 100) \n",
    "x_grid, y_grid = np.meshgrid(x_range, y_range) # x_grid and y_grig are of size 100 X 100\n",
    "\n",
    "# converting x_grid and y_grid to continuous arrays\n",
    "x_gridflat = np.ravel(x_grid)\n",
    "y_gridflat = np.ravel(y_grid)\n",
    "\n",
    "# The last layer of the current model takes two columns as input. Hence transpose of np.vstack() is required.\n",
    "X = np.vstack((x_gridflat, y_gridflat)).T\n",
    "\n",
    "prob_contour = model_prob(X).reshape(100,100) "
   ]
  },
  {
   "cell_type": "code",
   "execution_count": 29,
   "id": "da72499a",
   "metadata": {
    "execution": {
     "iopub.execute_input": "2022-06-29T20:13:54.204772Z",
     "iopub.status.busy": "2022-06-29T20:13:54.204022Z",
     "iopub.status.idle": "2022-06-29T20:13:54.513175Z",
     "shell.execute_reply": "2022-06-29T20:13:54.512466Z"
    },
    "papermill": {
     "duration": 0.372606,
     "end_time": "2022-06-29T20:13:54.513309",
     "exception": false,
     "start_time": "2022-06-29T20:13:54.140703",
     "status": "completed"
    },
    "tags": []
   },
   "outputs": [
    {
     "data": {
      "image/png": "[encoded data removed]",
      "text/plain": [
       "<Figure size 720x648 with 1 Axes>"
      ]
     },
     "metadata": {
      "needs_background": "light"
     },
     "output_type": "display_data"
    }
   ],
   "source": [
    "plt.figure(figsize=(10,9))\n",
    "plt.scatter(testing_plot[:,0], testing_plot[:,1], alpha = 0.1, c = y_test.ravel())\n",
    "contours = plt.contour(x_grid,y_grid,prob_contour)\n",
    "plt.title('Probability Contours')\n",
    "plt.clabel(contours, inline = True );"
   ]
  },
  {
   "cell_type": "code",
   "execution_count": null,
   "id": "e81b4ac7",
   "metadata": {
    "papermill": {
     "duration": 0.059751,
     "end_time": "2022-06-29T20:13:54.626936",
     "exception": false,
     "start_time": "2022-06-29T20:13:54.567185",
     "status": "completed"
    },
    "tags": []
   },
   "outputs": [],
   "source": []
  }
 ],
 "metadata": {
  "kernelspec": {
   "display_name": "Python 3",
   "language": "python",
   "name": "python3"
  },
  "language_info": {
   "codemirror_mode": {
    "name": "ipython",
    "version": 3
   },
   "file_extension": ".py",
   "mimetype": "text/x-python",
   "name": "python",
   "nbconvert_exporter": "python",
   "pygments_lexer": "ipython3",
   "version": "3.6.15"
  },
  "papermill": {
   "default_parameters": {},
   "duration": 156.563962,
   "end_time": "2022-06-29T20:13:55.101906",
   "environment_variables": {},
   "exception": null,
   "input_path": "2020-08-11-part2.ipynb",
   "output_path": "2020-08-11-part2.ipynb",
   "parameters": {},
   "start_time": "2022-06-29T20:11:18.537944",
   "version": "2.3.3"
  }
 },
 "nbformat": 4,
 "nbformat_minor": 5
}