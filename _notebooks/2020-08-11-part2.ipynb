{
 "cells": [
  {
   "cell_type": "markdown",
   "id": "98380cd3",
   "metadata": {
    "papermill": {
     "duration": 0.031898,
     "end_time": "2021-10-01T00:22:11.653547",
     "exception": false,
     "start_time": "2021-10-01T00:22:11.621649",
     "status": "completed"
    },
    "tags": []
   },
   "source": [
    "# Distinguish Your Own Digits (DYOD)"
   ]
  },
  {
   "cell_type": "markdown",
   "id": "ef31240d",
   "metadata": {
    "papermill": {
     "duration": 0.024838,
     "end_time": "2021-10-01T00:22:11.703711",
     "exception": false,
     "start_time": "2021-10-01T00:22:11.678873",
     "status": "completed"
    },
    "tags": []
   },
   "source": [
    "You are going to write a classifier that distinguishes between the number 3 and number 8."
   ]
  },
  {
   "cell_type": "code",
   "execution_count": 1,
   "id": "b15c8646",
   "metadata": {
    "execution": {
     "iopub.execute_input": "2021-10-01T00:22:11.768749Z",
     "iopub.status.busy": "2021-10-01T00:22:11.767836Z",
     "iopub.status.idle": "2021-10-01T00:22:11.778653Z",
     "shell.execute_reply": "2021-10-01T00:22:11.778229Z"
    },
    "papermill": {
     "duration": 0.050068,
     "end_time": "2021-10-01T00:22:11.778770",
     "exception": false,
     "start_time": "2021-10-01T00:22:11.728702",
     "status": "completed"
    },
    "tags": []
   },
   "outputs": [],
   "source": [
    "%load_ext autoreload\n",
    "%autoreload 2"
   ]
  },
  {
   "cell_type": "code",
   "execution_count": 2,
   "id": "22ef38dc",
   "metadata": {
    "execution": {
     "iopub.execute_input": "2021-10-01T00:22:11.831178Z",
     "iopub.status.busy": "2021-10-01T00:22:11.830624Z",
     "iopub.status.idle": "2021-10-01T00:22:12.375611Z",
     "shell.execute_reply": "2021-10-01T00:22:12.374125Z"
    },
    "papermill": {
     "duration": 0.572975,
     "end_time": "2021-10-01T00:22:12.375837",
     "exception": false,
     "start_time": "2021-10-01T00:22:11.802862",
     "status": "completed"
    },
    "tags": []
   },
   "outputs": [],
   "source": [
    "%matplotlib inline\n",
    "import numpy as np\n",
    "import matplotlib.pyplot as plt\n",
    "import pandas as pd"
   ]
  },
  {
   "cell_type": "markdown",
   "id": "ba036198",
   "metadata": {
    "papermill": {
     "duration": 0.023542,
     "end_time": "2021-10-01T00:22:12.424820",
     "exception": false,
     "start_time": "2021-10-01T00:22:12.401278",
     "status": "completed"
    },
    "tags": []
   },
   "source": [
    "From the command line run `pip install mnist`. This is a library that will help you bring down the mnist dataset. If you run this from a notebook, you need to put  `!pip install mnist` in a cell by itself."
   ]
  },
  {
   "cell_type": "code",
   "execution_count": 3,
   "id": "bb6ad8a1",
   "metadata": {
    "execution": {
     "iopub.execute_input": "2021-10-01T00:22:12.476477Z",
     "iopub.status.busy": "2021-10-01T00:22:12.475822Z",
     "iopub.status.idle": "2021-10-01T00:22:15.034404Z",
     "shell.execute_reply": "2021-10-01T00:22:15.033881Z"
    },
    "papermill": {
     "duration": 2.586885,
     "end_time": "2021-10-01T00:22:15.034545",
     "exception": false,
     "start_time": "2021-10-01T00:22:12.447660",
     "status": "completed"
    },
    "tags": []
   },
   "outputs": [
    {
     "name": "stdout",
     "output_type": "stream",
     "text": [
      "Collecting mnist\r\n"
     ]
    },
    {
     "name": "stdout",
     "output_type": "stream",
     "text": [
      "  Downloading mnist-0.2.2-py2.py3-none-any.whl (3.5 kB)\r\n"
     ]
    },
    {
     "name": "stdout",
     "output_type": "stream",
     "text": [
      "Requirement already satisfied: numpy in /opt/hostedtoolcache/Python/3.6.15/x64/lib/python3.6/site-packages (from mnist) (1.19.5)\r\n"
     ]
    },
    {
     "name": "stdout",
     "output_type": "stream",
     "text": [
      "Installing collected packages: mnist\r\n"
     ]
    },
    {
     "name": "stdout",
     "output_type": "stream",
     "text": [
      "Successfully installed mnist-0.2.2\r\n"
     ]
    }
   ],
   "source": [
    "!pip install mnist"
   ]
  },
  {
   "cell_type": "markdown",
   "id": "69df9c9a",
   "metadata": {
    "papermill": {
     "duration": 0.024715,
     "end_time": "2021-10-01T00:22:15.086566",
     "exception": false,
     "start_time": "2021-10-01T00:22:15.061851",
     "status": "completed"
    },
    "tags": []
   },
   "source": [
    "## Preparing the Data"
   ]
  },
  {
   "cell_type": "code",
   "execution_count": 4,
   "id": "7f69d806",
   "metadata": {
    "execution": {
     "iopub.execute_input": "2021-10-01T00:22:15.144933Z",
     "iopub.status.busy": "2021-10-01T00:22:15.140904Z",
     "iopub.status.idle": "2021-10-01T00:22:15.157614Z",
     "shell.execute_reply": "2021-10-01T00:22:15.156779Z"
    },
    "papermill": {
     "duration": 0.046418,
     "end_time": "2021-10-01T00:22:15.157820",
     "exception": false,
     "start_time": "2021-10-01T00:22:15.111402",
     "status": "completed"
    },
    "tags": []
   },
   "outputs": [],
   "source": [
    "import mnist"
   ]
  },
  {
   "cell_type": "code",
   "execution_count": 5,
   "id": "a411e44f",
   "metadata": {
    "execution": {
     "iopub.execute_input": "2021-10-01T00:22:15.216479Z",
     "iopub.status.busy": "2021-10-01T00:22:15.215898Z",
     "iopub.status.idle": "2021-10-01T00:22:15.813048Z",
     "shell.execute_reply": "2021-10-01T00:22:15.813494Z"
    },
    "papermill": {
     "duration": 0.626738,
     "end_time": "2021-10-01T00:22:15.813638",
     "exception": false,
     "start_time": "2021-10-01T00:22:15.186900",
     "status": "completed"
    },
    "tags": []
   },
   "outputs": [],
   "source": [
    "train_images = mnist.train_images()\n",
    "train_labels = mnist.train_labels()"
   ]
  },
  {
   "cell_type": "code",
   "execution_count": 6,
   "id": "dceab3a5",
   "metadata": {
    "execution": {
     "iopub.execute_input": "2021-10-01T00:22:15.872683Z",
     "iopub.status.busy": "2021-10-01T00:22:15.872117Z",
     "iopub.status.idle": "2021-10-01T00:22:15.886606Z",
     "shell.execute_reply": "2021-10-01T00:22:15.887059Z"
    },
    "papermill": {
     "duration": 0.045787,
     "end_time": "2021-10-01T00:22:15.887199",
     "exception": false,
     "start_time": "2021-10-01T00:22:15.841412",
     "status": "completed"
    },
    "tags": []
   },
   "outputs": [
    {
     "data": {
      "text/plain": [
       "((60000, 28, 28), (60000,))"
      ]
     },
     "execution_count": 6,
     "metadata": {},
     "output_type": "execute_result"
    }
   ],
   "source": [
    "train_images.shape, train_labels.shape"
   ]
  },
  {
   "cell_type": "code",
   "execution_count": 7,
   "id": "f50dc2bb",
   "metadata": {
    "execution": {
     "iopub.execute_input": "2021-10-01T00:22:15.948586Z",
     "iopub.status.busy": "2021-10-01T00:22:15.947910Z",
     "iopub.status.idle": "2021-10-01T00:22:16.196089Z",
     "shell.execute_reply": "2021-10-01T00:22:16.195200Z"
    },
    "papermill": {
     "duration": 0.281148,
     "end_time": "2021-10-01T00:22:16.196350",
     "exception": false,
     "start_time": "2021-10-01T00:22:15.915202",
     "status": "completed"
    },
    "tags": []
   },
   "outputs": [],
   "source": [
    "test_images = mnist.test_images()\n",
    "test_labels = mnist.test_labels()"
   ]
  },
  {
   "cell_type": "code",
   "execution_count": 8,
   "id": "fc38cf1b",
   "metadata": {
    "execution": {
     "iopub.execute_input": "2021-10-01T00:22:16.253408Z",
     "iopub.status.busy": "2021-10-01T00:22:16.252967Z",
     "iopub.status.idle": "2021-10-01T00:22:16.268027Z",
     "shell.execute_reply": "2021-10-01T00:22:16.267613Z"
    },
    "papermill": {
     "duration": 0.045077,
     "end_time": "2021-10-01T00:22:16.268128",
     "exception": false,
     "start_time": "2021-10-01T00:22:16.223051",
     "status": "completed"
    },
    "tags": []
   },
   "outputs": [
    {
     "data": {
      "text/plain": [
       "((10000, 28, 28), (10000,))"
      ]
     },
     "execution_count": 8,
     "metadata": {},
     "output_type": "execute_result"
    }
   ],
   "source": [
    "test_images.shape, test_labels.shape"
   ]
  },
  {
   "cell_type": "code",
   "execution_count": 9,
   "id": "f9ed8fe0",
   "metadata": {
    "execution": {
     "iopub.execute_input": "2021-10-01T00:22:16.326372Z",
     "iopub.status.busy": "2021-10-01T00:22:16.325783Z",
     "iopub.status.idle": "2021-10-01T00:22:16.468792Z",
     "shell.execute_reply": "2021-10-01T00:22:16.468321Z"
    },
    "papermill": {
     "duration": 0.174742,
     "end_time": "2021-10-01T00:22:16.468900",
     "exception": false,
     "start_time": "2021-10-01T00:22:16.294158",
     "status": "completed"
    },
    "tags": []
   },
   "outputs": [
    {
     "name": "stdout",
     "output_type": "stream",
     "text": [
      "2\n"
     ]
    },
    {
     "data": {
      "text/plain": [
       "<matplotlib.image.AxesImage at 0x7fd566d30748>"
      ]
     },
     "execution_count": 9,
     "metadata": {},
     "output_type": "execute_result"
    },
    {
     "data": {
      "image/png": "[encoded data removed]",
      "text/plain": [
       "<Figure size 432x288 with 1 Axes>"
      ]
     },
     "metadata": {
      "needs_background": "light"
     },
     "output_type": "display_data"
    }
   ],
   "source": [
    "image_index = 7776 # You may select anything up to 60,000\n",
    "print(train_labels[image_index]) \n",
    "plt.imshow(train_images[image_index], cmap='Greys')"
   ]
  },
  {
   "cell_type": "markdown",
   "id": "a8d2388d",
   "metadata": {
    "papermill": {
     "duration": 0.024819,
     "end_time": "2021-10-01T00:22:16.521355",
     "exception": false,
     "start_time": "2021-10-01T00:22:16.496536",
     "status": "completed"
    },
    "tags": []
   },
   "source": [
    "## Filter data to get 3 and 8 out"
   ]
  },
  {
   "cell_type": "code",
   "execution_count": 10,
   "id": "776f7fc7",
   "metadata": {
    "execution": {
     "iopub.execute_input": "2021-10-01T00:22:16.578739Z",
     "iopub.status.busy": "2021-10-01T00:22:16.577926Z",
     "iopub.status.idle": "2021-10-01T00:22:16.595000Z",
     "shell.execute_reply": "2021-10-01T00:22:16.594532Z"
    },
    "papermill": {
     "duration": 0.047589,
     "end_time": "2021-10-01T00:22:16.595115",
     "exception": false,
     "start_time": "2021-10-01T00:22:16.547526",
     "status": "completed"
    },
    "tags": []
   },
   "outputs": [],
   "source": [
    "train_filter = np.where((train_labels == 3 ) | (train_labels == 8))\n",
    "test_filter = np.where((test_labels == 3) | (test_labels == 8))\n",
    "X_train, y_train = train_images[train_filter], train_labels[train_filter]\n",
    "X_test, y_test = test_images[test_filter], test_labels[test_filter]"
   ]
  },
  {
   "cell_type": "markdown",
   "id": "948f0b7e",
   "metadata": {
    "papermill": {
     "duration": 0.027256,
     "end_time": "2021-10-01T00:22:16.649446",
     "exception": false,
     "start_time": "2021-10-01T00:22:16.622190",
     "status": "completed"
    },
    "tags": []
   },
   "source": [
    "We normalize the pizel values in the 0 to 1 range"
   ]
  },
  {
   "cell_type": "code",
   "execution_count": 11,
   "id": "ee4c2166",
   "metadata": {
    "execution": {
     "iopub.execute_input": "2021-10-01T00:22:16.706617Z",
     "iopub.status.busy": "2021-10-01T00:22:16.706095Z",
     "iopub.status.idle": "2021-10-01T00:22:16.758341Z",
     "shell.execute_reply": "2021-10-01T00:22:16.757659Z"
    },
    "papermill": {
     "duration": 0.083157,
     "end_time": "2021-10-01T00:22:16.758621",
     "exception": false,
     "start_time": "2021-10-01T00:22:16.675464",
     "status": "completed"
    },
    "tags": []
   },
   "outputs": [],
   "source": [
    "X_train = X_train/255.\n",
    "X_test = X_test/255."
   ]
  },
  {
   "cell_type": "markdown",
   "id": "ddcf4fab",
   "metadata": {
    "papermill": {
     "duration": 0.027705,
     "end_time": "2021-10-01T00:22:16.815713",
     "exception": false,
     "start_time": "2021-10-01T00:22:16.788008",
     "status": "completed"
    },
    "tags": []
   },
   "source": [
    "And setup the labels as 1 (when the digit is 3) and 0 (when the digit is 8)"
   ]
  },
  {
   "cell_type": "code",
   "execution_count": 12,
   "id": "7dc908f2",
   "metadata": {
    "execution": {
     "iopub.execute_input": "2021-10-01T00:22:16.875884Z",
     "iopub.status.busy": "2021-10-01T00:22:16.875300Z",
     "iopub.status.idle": "2021-10-01T00:22:16.886481Z",
     "shell.execute_reply": "2021-10-01T00:22:16.886921Z"
    },
    "papermill": {
     "duration": 0.044104,
     "end_time": "2021-10-01T00:22:16.887051",
     "exception": false,
     "start_time": "2021-10-01T00:22:16.842947",
     "status": "completed"
    },
    "tags": []
   },
   "outputs": [],
   "source": [
    "y_train = 1*(y_train==3)\n",
    "y_test = 1*(y_test==3)"
   ]
  },
  {
   "cell_type": "code",
   "execution_count": 13,
   "id": "01e4e969",
   "metadata": {
    "execution": {
     "iopub.execute_input": "2021-10-01T00:22:16.942087Z",
     "iopub.status.busy": "2021-10-01T00:22:16.941495Z",
     "iopub.status.idle": "2021-10-01T00:22:16.956101Z",
     "shell.execute_reply": "2021-10-01T00:22:16.956587Z"
    },
    "papermill": {
     "duration": 0.044713,
     "end_time": "2021-10-01T00:22:16.956719",
     "exception": false,
     "start_time": "2021-10-01T00:22:16.912006",
     "status": "completed"
    },
    "tags": []
   },
   "outputs": [
    {
     "data": {
      "text/plain": [
       "((11982, 28, 28), (1984, 28, 28))"
      ]
     },
     "execution_count": 13,
     "metadata": {},
     "output_type": "execute_result"
    }
   ],
   "source": [
    "X_train.shape, X_test.shape"
   ]
  },
  {
   "cell_type": "markdown",
   "id": "5ccf3f85",
   "metadata": {
    "papermill": {
     "duration": 0.025889,
     "end_time": "2021-10-01T00:22:17.008405",
     "exception": false,
     "start_time": "2021-10-01T00:22:16.982516",
     "status": "completed"
    },
    "tags": []
   },
   "source": [
    "We reshape the data to flatten the image pixels into a set of features or co-variates:"
   ]
  },
  {
   "cell_type": "code",
   "execution_count": 14,
   "id": "5286a4a3",
   "metadata": {
    "execution": {
     "iopub.execute_input": "2021-10-01T00:22:17.067232Z",
     "iopub.status.busy": "2021-10-01T00:22:17.066810Z",
     "iopub.status.idle": "2021-10-01T00:22:17.080841Z",
     "shell.execute_reply": "2021-10-01T00:22:17.080363Z"
    },
    "papermill": {
     "duration": 0.045564,
     "end_time": "2021-10-01T00:22:17.080958",
     "exception": false,
     "start_time": "2021-10-01T00:22:17.035394",
     "status": "completed"
    },
    "tags": []
   },
   "outputs": [
    {
     "data": {
      "text/plain": [
       "((11982, 784), (1984, 784))"
      ]
     },
     "execution_count": 14,
     "metadata": {},
     "output_type": "execute_result"
    }
   ],
   "source": [
    "X_train = X_train.reshape(X_train.shape[0], -1)\n",
    "X_test = X_test.reshape(X_test.shape[0], -1)\n",
    "X_train.shape, X_test.shape"
   ]
  },
  {
   "cell_type": "code",
   "execution_count": 15,
   "id": "73c5f88a",
   "metadata": {
    "execution": {
     "iopub.execute_input": "2021-10-01T00:22:17.140463Z",
     "iopub.status.busy": "2021-10-01T00:22:17.139862Z",
     "iopub.status.idle": "2021-10-01T00:22:17.158071Z",
     "shell.execute_reply": "2021-10-01T00:22:17.157644Z"
    },
    "papermill": {
     "duration": 0.051039,
     "end_time": "2021-10-01T00:22:17.158167",
     "exception": false,
     "start_time": "2021-10-01T00:22:17.107128",
     "status": "completed"
    },
    "tags": []
   },
   "outputs": [],
   "source": [
    "#Impoting functions from 'Kudzu'\n",
    "from kudzu.model import Model\n",
    "from kudzu.train import Learner\n",
    "from kudzu.optim import GD\n",
    "from kudzu.data import Data, Sampler,Dataloader\n",
    "\n",
    "from kudzu.callbacks import AccCallback\n",
    "from kudzu.callbacks import ClfCallback\n",
    "\n",
    "from kudzu.loss import MSE\n",
    "\n",
    "from kudzu.layer import Sigmoid,Relu\n",
    "from kudzu.layer import Affine"
   ]
  },
  {
   "cell_type": "markdown",
   "id": "bc01172a",
   "metadata": {
    "papermill": {
     "duration": 0.025871,
     "end_time": "2021-10-01T00:22:17.209473",
     "exception": false,
     "start_time": "2021-10-01T00:22:17.183602",
     "status": "completed"
    },
    "tags": []
   },
   "source": [
    "### Let us create a `Config` class, to store important parameters. \n",
    "This class essentially plays the role of a dictionary."
   ]
  },
  {
   "cell_type": "code",
   "execution_count": 16,
   "id": "978281aa",
   "metadata": {
    "execution": {
     "iopub.execute_input": "2021-10-01T00:22:17.269370Z",
     "iopub.status.busy": "2021-10-01T00:22:17.268822Z",
     "iopub.status.idle": "2021-10-01T00:22:17.282095Z",
     "shell.execute_reply": "2021-10-01T00:22:17.281684Z"
    },
    "papermill": {
     "duration": 0.04608,
     "end_time": "2021-10-01T00:22:17.282199",
     "exception": false,
     "start_time": "2021-10-01T00:22:17.236119",
     "status": "completed"
    },
    "tags": []
   },
   "outputs": [],
   "source": [
    "class Config:\n",
    "    pass\n",
    "config = Config()\n",
    "config.lr = 0.001\n",
    "config.num_epochs = 250\n",
    "config.bs = 50"
   ]
  },
  {
   "cell_type": "markdown",
   "id": "1385fa59",
   "metadata": {
    "papermill": {
     "duration": 0.028891,
     "end_time": "2021-10-01T00:22:17.339507",
     "exception": false,
     "start_time": "2021-10-01T00:22:17.310616",
     "status": "completed"
    },
    "tags": []
   },
   "source": [
    "### Running Models with the Training data\n",
    "Details about the network layers:\n",
    "- A first affine layer has 784 inputs and does 100 affine transforms. These are followed by a Relu\n",
    "- A second affine layer has 100 inputs from the 100 activations of the past layer, and does 100 affine transforms. These are followed by a Relu\n",
    "- A third affine layer has 100 activations and does 2 affine transformations to create an embedding for visualization. There is no non-linearity here.\n",
    "- A final \"logistic regression\" which has an affine transform from 2 inputs to 1 output, which is squeezed through a sigmoid.\n"
   ]
  },
  {
   "cell_type": "code",
   "execution_count": 17,
   "id": "2b9c66db",
   "metadata": {
    "execution": {
     "iopub.execute_input": "2021-10-01T00:22:17.404067Z",
     "iopub.status.busy": "2021-10-01T00:22:17.403486Z",
     "iopub.status.idle": "2021-10-01T00:22:17.416104Z",
     "shell.execute_reply": "2021-10-01T00:22:17.415630Z"
    },
    "papermill": {
     "duration": 0.049346,
     "end_time": "2021-10-01T00:22:17.416255",
     "exception": false,
     "start_time": "2021-10-01T00:22:17.366909",
     "status": "completed"
    },
    "tags": []
   },
   "outputs": [],
   "source": [
    "data = Data(X_train, y_train.reshape(-1,1))\n",
    "sampler = Sampler(data, config.bs, shuffle=True)\n",
    "\n",
    "dl = Dataloader(data, sampler)\n",
    "\n",
    "opt = GD(config.lr)\n",
    "loss = MSE()"
   ]
  },
  {
   "cell_type": "code",
   "execution_count": 18,
   "id": "b275e4c2",
   "metadata": {
    "execution": {
     "iopub.execute_input": "2021-10-01T00:22:17.479910Z",
     "iopub.status.busy": "2021-10-01T00:22:17.479380Z",
     "iopub.status.idle": "2021-10-01T00:22:17.493366Z",
     "shell.execute_reply": "2021-10-01T00:22:17.492932Z"
    },
    "papermill": {
     "duration": 0.049227,
     "end_time": "2021-10-01T00:22:17.493465",
     "exception": false,
     "start_time": "2021-10-01T00:22:17.444238",
     "status": "completed"
    },
    "tags": []
   },
   "outputs": [],
   "source": [
    "training_data_x = X_train\n",
    "testing_data_x = X_test\n",
    "training_data_y = y_train.reshape(-1,1)\n",
    "testing_data_y = y_test.reshape(-1,1)"
   ]
  },
  {
   "cell_type": "code",
   "execution_count": 19,
   "id": "76951160",
   "metadata": {
    "execution": {
     "iopub.execute_input": "2021-10-01T00:22:17.556591Z",
     "iopub.status.busy": "2021-10-01T00:22:17.555963Z",
     "iopub.status.idle": "2021-10-01T00:22:17.572768Z",
     "shell.execute_reply": "2021-10-01T00:22:17.572310Z"
    },
    "papermill": {
     "duration": 0.050709,
     "end_time": "2021-10-01T00:22:17.572868",
     "exception": false,
     "start_time": "2021-10-01T00:22:17.522159",
     "status": "completed"
    },
    "tags": []
   },
   "outputs": [
    {
     "name": "stdout",
     "output_type": "stream",
     "text": [
      "xavier\n",
      "xavier\n",
      "xavier\n",
      "xavier\n",
      "xavier\n"
     ]
    }
   ],
   "source": [
    "layers = [Affine(\"first\", 784, 100), Relu(\"first\"), Affine(\"second\", 100, 100), Relu(\"second\"), Affine(\"third\", 100, 2), Affine(\"last\", 2, 1), Sigmoid(\"last\")]\n",
    "model_nn = Model(layers)\n",
    "model_lr = Model([Affine(\"logits\", 784, 1), Sigmoid(\"sigmoid\")])"
   ]
  },
  {
   "cell_type": "code",
   "execution_count": 20,
   "id": "6eede77a",
   "metadata": {
    "execution": {
     "iopub.execute_input": "2021-10-01T00:22:17.637426Z",
     "iopub.status.busy": "2021-10-01T00:22:17.636828Z",
     "iopub.status.idle": "2021-10-01T00:22:17.649569Z",
     "shell.execute_reply": "2021-10-01T00:22:17.649149Z"
    },
    "papermill": {
     "duration": 0.047415,
     "end_time": "2021-10-01T00:22:17.649673",
     "exception": false,
     "start_time": "2021-10-01T00:22:17.602258",
     "status": "completed"
    },
    "tags": []
   },
   "outputs": [],
   "source": [
    "nn_learner = Learner(loss, model_nn, opt, config.num_epochs)\n",
    "acc_nn = ClfCallback(nn_learner, config.bs, training_data_x , testing_data_x, training_data_y, testing_data_y)\n",
    "nn_learner.set_callbacks([acc_nn])"
   ]
  },
  {
   "cell_type": "code",
   "execution_count": 21,
   "id": "877b6cc7",
   "metadata": {
    "execution": {
     "iopub.execute_input": "2021-10-01T00:22:17.715172Z",
     "iopub.status.busy": "2021-10-01T00:22:17.714608Z",
     "iopub.status.idle": "2021-10-01T00:22:17.728997Z",
     "shell.execute_reply": "2021-10-01T00:22:17.728546Z"
    },
    "papermill": {
     "duration": 0.050681,
     "end_time": "2021-10-01T00:22:17.729102",
     "exception": false,
     "start_time": "2021-10-01T00:22:17.678421",
     "status": "completed"
    },
    "tags": []
   },
   "outputs": [],
   "source": [
    "lr_learner = Learner(loss, model_lr, opt, config.num_epochs)\n",
    "acc_lr = ClfCallback(lr_learner, config.bs, training_data_x , testing_data_x, training_data_y, testing_data_y)\n",
    "lr_learner.set_callbacks([acc_lr])"
   ]
  },
  {
   "cell_type": "code",
   "execution_count": 22,
   "id": "d9b133c3",
   "metadata": {
    "execution": {
     "iopub.execute_input": "2021-10-01T00:22:17.788219Z",
     "iopub.status.busy": "2021-10-01T00:22:17.787649Z",
     "iopub.status.idle": "2021-10-01T00:23:41.561113Z",
     "shell.execute_reply": "2021-10-01T00:23:41.561940Z"
    },
    "papermill": {
     "duration": 83.805052,
     "end_time": "2021-10-01T00:23:41.562106",
     "exception": false,
     "start_time": "2021-10-01T00:22:17.757054",
     "status": "completed"
    },
    "tags": []
   },
   "outputs": [
    {
     "name": "stdout",
     "output_type": "stream",
     "text": [
      "Epoch 0, Loss 0.2247\n",
      "Training Accuracy: 0.8005, Testing Accuracy: 0.8175\n",
      "\n"
     ]
    },
    {
     "name": "stdout",
     "output_type": "stream",
     "text": [
      "Epoch 10, Loss 0.0571\n",
      "Training Accuracy: 0.9402, Testing Accuracy: 0.9456\n",
      "\n"
     ]
    },
    {
     "name": "stdout",
     "output_type": "stream",
     "text": [
      "Epoch 20, Loss 0.0411\n",
      "Training Accuracy: 0.9546, Testing Accuracy: 0.9622\n",
      "\n"
     ]
    },
    {
     "name": "stdout",
     "output_type": "stream",
     "text": [
      "Epoch 30, Loss 0.035\n",
      "Training Accuracy: 0.9609, Testing Accuracy: 0.9682\n",
      "\n"
     ]
    },
    {
     "name": "stdout",
     "output_type": "stream",
     "text": [
      "Epoch 40, Loss 0.0316\n",
      "Training Accuracy: 0.9645, Testing Accuracy: 0.9688\n",
      "\n"
     ]
    },
    {
     "name": "stdout",
     "output_type": "stream",
     "text": [
      "Epoch 50, Loss 0.0292\n",
      "Training Accuracy: 0.9672, Testing Accuracy: 0.9698\n",
      "\n"
     ]
    },
    {
     "name": "stdout",
     "output_type": "stream",
     "text": [
      "Epoch 60, Loss 0.0275\n",
      "Training Accuracy: 0.9695, Testing Accuracy: 0.9713\n",
      "\n"
     ]
    },
    {
     "name": "stdout",
     "output_type": "stream",
     "text": [
      "Epoch 70, Loss 0.026\n",
      "Training Accuracy: 0.9705, Testing Accuracy: 0.9718\n",
      "\n"
     ]
    },
    {
     "name": "stdout",
     "output_type": "stream",
     "text": [
      "Epoch 80, Loss 0.0248\n",
      "Training Accuracy: 0.9720, Testing Accuracy: 0.9723\n",
      "\n"
     ]
    },
    {
     "name": "stdout",
     "output_type": "stream",
     "text": [
      "Epoch 90, Loss 0.0238\n",
      "Training Accuracy: 0.9731, Testing Accuracy: 0.9723\n",
      "\n"
     ]
    },
    {
     "name": "stdout",
     "output_type": "stream",
     "text": [
      "Epoch 100, Loss 0.0228\n",
      "Training Accuracy: 0.9743, Testing Accuracy: 0.9733\n",
      "\n"
     ]
    },
    {
     "name": "stdout",
     "output_type": "stream",
     "text": [
      "Epoch 110, Loss 0.022\n",
      "Training Accuracy: 0.9748, Testing Accuracy: 0.9743\n",
      "\n"
     ]
    },
    {
     "name": "stdout",
     "output_type": "stream",
     "text": [
      "Epoch 120, Loss 0.0212\n",
      "Training Accuracy: 0.9759, Testing Accuracy: 0.9743\n",
      "\n"
     ]
    },
    {
     "name": "stdout",
     "output_type": "stream",
     "text": [
      "Epoch 130, Loss 0.0205\n",
      "Training Accuracy: 0.9769, Testing Accuracy: 0.9753\n",
      "\n"
     ]
    },
    {
     "name": "stdout",
     "output_type": "stream",
     "text": [
      "Epoch 140, Loss 0.0198\n",
      "Training Accuracy: 0.9780, Testing Accuracy: 0.9758\n",
      "\n"
     ]
    },
    {
     "name": "stdout",
     "output_type": "stream",
     "text": [
      "Epoch 150, Loss 0.0192\n",
      "Training Accuracy: 0.9785, Testing Accuracy: 0.9758\n",
      "\n"
     ]
    },
    {
     "name": "stdout",
     "output_type": "stream",
     "text": [
      "Epoch 160, Loss 0.0186\n",
      "Training Accuracy: 0.9796, Testing Accuracy: 0.9768\n",
      "\n"
     ]
    },
    {
     "name": "stdout",
     "output_type": "stream",
     "text": [
      "Epoch 170, Loss 0.018\n",
      "Training Accuracy: 0.9807, Testing Accuracy: 0.9768\n",
      "\n"
     ]
    },
    {
     "name": "stdout",
     "output_type": "stream",
     "text": [
      "Epoch 180, Loss 0.0175\n",
      "Training Accuracy: 0.9812, Testing Accuracy: 0.9768\n",
      "\n"
     ]
    },
    {
     "name": "stdout",
     "output_type": "stream",
     "text": [
      "Epoch 190, Loss 0.017\n",
      "Training Accuracy: 0.9822, Testing Accuracy: 0.9768\n",
      "\n"
     ]
    },
    {
     "name": "stdout",
     "output_type": "stream",
     "text": [
      "Epoch 200, Loss 0.0165\n",
      "Training Accuracy: 0.9829, Testing Accuracy: 0.9768\n",
      "\n"
     ]
    },
    {
     "name": "stdout",
     "output_type": "stream",
     "text": [
      "Epoch 210, Loss 0.016\n",
      "Training Accuracy: 0.9834, Testing Accuracy: 0.9783\n",
      "\n"
     ]
    },
    {
     "name": "stdout",
     "output_type": "stream",
     "text": [
      "Epoch 220, Loss 0.0156\n",
      "Training Accuracy: 0.9841, Testing Accuracy: 0.9783\n",
      "\n"
     ]
    },
    {
     "name": "stdout",
     "output_type": "stream",
     "text": [
      "Epoch 230, Loss 0.0151\n",
      "Training Accuracy: 0.9847, Testing Accuracy: 0.9798\n",
      "\n"
     ]
    },
    {
     "name": "stdout",
     "output_type": "stream",
     "text": [
      "Epoch 240, Loss 0.0147\n",
      "Training Accuracy: 0.9851, Testing Accuracy: 0.9798\n",
      "\n"
     ]
    },
    {
     "data": {
      "text/plain": [
       "0.010615536836416958"
      ]
     },
     "execution_count": 22,
     "metadata": {},
     "output_type": "execute_result"
    }
   ],
   "source": [
    "nn_learner.train_loop(dl)"
   ]
  },
  {
   "cell_type": "code",
   "execution_count": 23,
   "id": "e0163366",
   "metadata": {
    "execution": {
     "iopub.execute_input": "2021-10-01T00:23:41.651725Z",
     "iopub.status.busy": "2021-10-01T00:23:41.651171Z",
     "iopub.status.idle": "2021-10-01T00:23:56.286707Z",
     "shell.execute_reply": "2021-10-01T00:23:56.287505Z"
    },
    "papermill": {
     "duration": 14.685805,
     "end_time": "2021-10-01T00:23:56.287664",
     "exception": false,
     "start_time": "2021-10-01T00:23:41.601859",
     "status": "completed"
    },
    "tags": []
   },
   "outputs": [
    {
     "name": "stdout",
     "output_type": "stream",
     "text": [
      "Epoch 0, Loss 0.25\n",
      "Training Accuracy: 0.6417, Testing Accuracy: 0.6517\n",
      "\n"
     ]
    },
    {
     "name": "stdout",
     "output_type": "stream",
     "text": [
      "Epoch 10, Loss 0.1055\n",
      "Training Accuracy: 0.8998, Testing Accuracy: 0.9073\n",
      "\n"
     ]
    },
    {
     "name": "stdout",
     "output_type": "stream",
     "text": [
      "Epoch 20, Loss 0.0811\n",
      "Training Accuracy: 0.9218, Testing Accuracy: 0.9304\n",
      "\n"
     ]
    },
    {
     "name": "stdout",
     "output_type": "stream",
     "text": [
      "Epoch 30, Loss 0.0698\n",
      "Training Accuracy: 0.9316, Testing Accuracy: 0.9430\n",
      "\n"
     ]
    },
    {
     "name": "stdout",
     "output_type": "stream",
     "text": [
      "Epoch 40, Loss 0.0629\n",
      "Training Accuracy: 0.9383, Testing Accuracy: 0.9486\n",
      "\n"
     ]
    },
    {
     "name": "stdout",
     "output_type": "stream",
     "text": [
      "Epoch 50, Loss 0.0582\n",
      "Training Accuracy: 0.9429, Testing Accuracy: 0.9516\n",
      "\n"
     ]
    },
    {
     "name": "stdout",
     "output_type": "stream",
     "text": [
      "Epoch 60, Loss 0.0547\n",
      "Training Accuracy: 0.9454, Testing Accuracy: 0.9546\n",
      "\n"
     ]
    },
    {
     "name": "stdout",
     "output_type": "stream",
     "text": [
      "Epoch 70, Loss 0.052\n",
      "Training Accuracy: 0.9478, Testing Accuracy: 0.9551\n",
      "\n"
     ]
    },
    {
     "name": "stdout",
     "output_type": "stream",
     "text": [
      "Epoch 80, Loss 0.0499\n",
      "Training Accuracy: 0.9492, Testing Accuracy: 0.9577\n",
      "\n"
     ]
    },
    {
     "name": "stdout",
     "output_type": "stream",
     "text": [
      "Epoch 90, Loss 0.0481\n",
      "Training Accuracy: 0.9505, Testing Accuracy: 0.9582\n",
      "\n"
     ]
    },
    {
     "name": "stdout",
     "output_type": "stream",
     "text": [
      "Epoch 100, Loss 0.0467\n",
      "Training Accuracy: 0.9522, Testing Accuracy: 0.9587\n",
      "\n"
     ]
    },
    {
     "name": "stdout",
     "output_type": "stream",
     "text": [
      "Epoch 110, Loss 0.0454\n",
      "Training Accuracy: 0.9530, Testing Accuracy: 0.9602\n",
      "\n"
     ]
    },
    {
     "name": "stdout",
     "output_type": "stream",
     "text": [
      "Epoch 120, Loss 0.0443\n",
      "Training Accuracy: 0.9541, Testing Accuracy: 0.9607\n",
      "\n"
     ]
    },
    {
     "name": "stdout",
     "output_type": "stream",
     "text": [
      "Epoch 130, Loss 0.0433\n",
      "Training Accuracy: 0.9547, Testing Accuracy: 0.9617\n",
      "\n"
     ]
    },
    {
     "name": "stdout",
     "output_type": "stream",
     "text": [
      "Epoch 140, Loss 0.0425\n",
      "Training Accuracy: 0.9555, Testing Accuracy: 0.9622\n",
      "\n"
     ]
    },
    {
     "name": "stdout",
     "output_type": "stream",
     "text": [
      "Epoch 150, Loss 0.0417\n",
      "Training Accuracy: 0.9563, Testing Accuracy: 0.9627\n",
      "\n"
     ]
    },
    {
     "name": "stdout",
     "output_type": "stream",
     "text": [
      "Epoch 160, Loss 0.041\n",
      "Training Accuracy: 0.9568, Testing Accuracy: 0.9627\n",
      "\n"
     ]
    },
    {
     "name": "stdout",
     "output_type": "stream",
     "text": [
      "Epoch 170, Loss 0.0404\n",
      "Training Accuracy: 0.9572, Testing Accuracy: 0.9637\n",
      "\n"
     ]
    },
    {
     "name": "stdout",
     "output_type": "stream",
     "text": [
      "Epoch 180, Loss 0.0398\n",
      "Training Accuracy: 0.9579, Testing Accuracy: 0.9642\n",
      "\n"
     ]
    },
    {
     "name": "stdout",
     "output_type": "stream",
     "text": [
      "Epoch 190, Loss 0.0393\n",
      "Training Accuracy: 0.9582, Testing Accuracy: 0.9642\n",
      "\n"
     ]
    },
    {
     "name": "stdout",
     "output_type": "stream",
     "text": [
      "Epoch 200, Loss 0.0388\n",
      "Training Accuracy: 0.9586, Testing Accuracy: 0.9652\n",
      "\n"
     ]
    },
    {
     "name": "stdout",
     "output_type": "stream",
     "text": [
      "Epoch 210, Loss 0.0383\n",
      "Training Accuracy: 0.9589, Testing Accuracy: 0.9652\n",
      "\n"
     ]
    },
    {
     "name": "stdout",
     "output_type": "stream",
     "text": [
      "Epoch 220, Loss 0.0379\n",
      "Training Accuracy: 0.9594, Testing Accuracy: 0.9667\n",
      "\n"
     ]
    },
    {
     "name": "stdout",
     "output_type": "stream",
     "text": [
      "Epoch 230, Loss 0.0375\n",
      "Training Accuracy: 0.9602, Testing Accuracy: 0.9667\n",
      "\n"
     ]
    },
    {
     "name": "stdout",
     "output_type": "stream",
     "text": [
      "Epoch 240, Loss 0.0372\n",
      "Training Accuracy: 0.9604, Testing Accuracy: 0.9662\n",
      "\n"
     ]
    },
    {
     "data": {
      "text/plain": [
       "0.037982016262611024"
      ]
     },
     "execution_count": 23,
     "metadata": {},
     "output_type": "execute_result"
    }
   ],
   "source": [
    "lr_learner.train_loop(dl)"
   ]
  },
  {
   "cell_type": "code",
   "execution_count": 24,
   "id": "ca410940",
   "metadata": {
    "execution": {
     "iopub.execute_input": "2021-10-01T00:23:56.385977Z",
     "iopub.status.busy": "2021-10-01T00:23:56.385473Z",
     "iopub.status.idle": "2021-10-01T00:23:56.637688Z",
     "shell.execute_reply": "2021-10-01T00:23:56.636996Z"
    },
    "papermill": {
     "duration": 0.305244,
     "end_time": "2021-10-01T00:23:56.637811",
     "exception": false,
     "start_time": "2021-10-01T00:23:56.332567",
     "status": "completed"
    },
    "tags": []
   },
   "outputs": [
    {
     "data": {
      "text/plain": [
       "<matplotlib.legend.Legend at 0x7fd5595097f0>"
      ]
     },
     "execution_count": 24,
     "metadata": {},
     "output_type": "execute_result"
    },
    {
     "data": {
      "image/png": "[encoded data removed]",
      "text/plain": [
       "<Figure size 1080x720 with 1 Axes>"
      ]
     },
     "metadata": {
      "needs_background": "light"
     },
     "output_type": "display_data"
    }
   ],
   "source": [
    "#comparing the results of NN and LR\n",
    "plt.figure(figsize=(15,10))\n",
    "\n",
    "# Neural Network plots\n",
    "plt.plot(acc_nn.accuracies, 'r-', label = \"Training Accuracies - NN\")\n",
    "plt.plot(acc_nn.test_accuracies, 'g-', label = \"Testing Accuracies - NN\")\n",
    "\n",
    "# Logistic Regression plots\n",
    "plt.plot(acc_lr.accuracies, 'k-', label = \"Training Accuracies - LR\")\n",
    "plt.plot(acc_lr.test_accuracies, 'b-', label = \"Testing Accuracies - LR\")\n",
    "plt.legend()"
   ]
  },
  {
   "cell_type": "markdown",
   "id": "80dfb35c",
   "metadata": {
    "papermill": {
     "duration": 0.043923,
     "end_time": "2021-10-01T00:23:56.723608",
     "exception": false,
     "start_time": "2021-10-01T00:23:56.679685",
     "status": "completed"
    },
    "tags": []
   },
   "source": [
    "#### Plotting the outputs of this layer of the NN.\n"
   ]
  },
  {
   "cell_type": "code",
   "execution_count": 25,
   "id": "45eb2ff5",
   "metadata": {
    "execution": {
     "iopub.execute_input": "2021-10-01T00:23:56.813580Z",
     "iopub.status.busy": "2021-10-01T00:23:56.812527Z",
     "iopub.status.idle": "2021-10-01T00:23:56.832016Z",
     "shell.execute_reply": "2021-10-01T00:23:56.832473Z"
    },
    "papermill": {
     "duration": 0.065874,
     "end_time": "2021-10-01T00:23:56.832618",
     "exception": false,
     "start_time": "2021-10-01T00:23:56.766744",
     "status": "completed"
    },
    "tags": []
   },
   "outputs": [],
   "source": [
    "new_model = Model(layers[:-2])\n",
    "testing_plot = new_model(testing_data_x)"
   ]
  },
  {
   "cell_type": "code",
   "execution_count": 26,
   "id": "4c0a5485",
   "metadata": {
    "execution": {
     "iopub.execute_input": "2021-10-01T00:23:56.931534Z",
     "iopub.status.busy": "2021-10-01T00:23:56.930140Z",
     "iopub.status.idle": "2021-10-01T00:23:57.144287Z",
     "shell.execute_reply": "2021-10-01T00:23:57.144773Z"
    },
    "papermill": {
     "duration": 0.264098,
     "end_time": "2021-10-01T00:23:57.144910",
     "exception": false,
     "start_time": "2021-10-01T00:23:56.880812",
     "status": "completed"
    },
    "tags": []
   },
   "outputs": [
    {
     "data": {
      "text/plain": [
       "Text(0.5, 1.0, 'Outputs')"
      ]
     },
     "execution_count": 26,
     "metadata": {},
     "output_type": "execute_result"
    },
    {
     "data": {
      "image/png": "[encoded data removed]",
      "text/plain": [
       "<Figure size 576x504 with 1 Axes>"
      ]
     },
     "metadata": {
      "needs_background": "light"
     },
     "output_type": "display_data"
    }
   ],
   "source": [
    "# Plotting the scatter plot of points and color coding by class\n",
    "plt.figure(figsize=(8,7))\n",
    "plt.scatter(testing_plot[:,0], testing_plot[:,1], alpha = 0.1, c = y_test.ravel());\n",
    "plt.title('Outputs')"
   ]
  },
  {
   "cell_type": "markdown",
   "id": "a74fcf8f",
   "metadata": {
    "papermill": {
     "duration": 0.044905,
     "end_time": "2021-10-01T00:23:57.234243",
     "exception": false,
     "start_time": "2021-10-01T00:23:57.189338",
     "status": "completed"
    },
    "tags": []
   },
   "source": [
    "Probability contours"
   ]
  },
  {
   "cell_type": "code",
   "execution_count": 27,
   "id": "d0afc8e3",
   "metadata": {
    "execution": {
     "iopub.execute_input": "2021-10-01T00:23:57.332349Z",
     "iopub.status.busy": "2021-10-01T00:23:57.331752Z",
     "iopub.status.idle": "2021-10-01T00:23:57.347100Z",
     "shell.execute_reply": "2021-10-01T00:23:57.347500Z"
    },
    "papermill": {
     "duration": 0.068783,
     "end_time": "2021-10-01T00:23:57.347637",
     "exception": false,
     "start_time": "2021-10-01T00:23:57.278854",
     "status": "completed"
    },
    "tags": []
   },
   "outputs": [],
   "source": [
    "model_prob = Model(layers[-2:]) "
   ]
  },
  {
   "cell_type": "code",
   "execution_count": 28,
   "id": "9b96e238",
   "metadata": {
    "execution": {
     "iopub.execute_input": "2021-10-01T00:23:57.473609Z",
     "iopub.status.busy": "2021-10-01T00:23:57.473002Z",
     "iopub.status.idle": "2021-10-01T00:23:57.486147Z",
     "shell.execute_reply": "2021-10-01T00:23:57.486718Z"
    },
    "papermill": {
     "duration": 0.065826,
     "end_time": "2021-10-01T00:23:57.486865",
     "exception": false,
     "start_time": "2021-10-01T00:23:57.421039",
     "status": "completed"
    },
    "tags": []
   },
   "outputs": [],
   "source": [
    "#creating the x and y ranges according to the above generated plot.\n",
    "x_range = np.linspace(-4, 1, 100) \n",
    "y_range = np.linspace(-6, 6, 100) \n",
    "x_grid, y_grid = np.meshgrid(x_range, y_range) # x_grid and y_grig are of size 100 X 100\n",
    "\n",
    "# converting x_grid and y_grid to continuous arrays\n",
    "x_gridflat = np.ravel(x_grid)\n",
    "y_gridflat = np.ravel(y_grid)\n",
    "\n",
    "# The last layer of the current model takes two columns as input. Hence transpose of np.vstack() is required.\n",
    "X = np.vstack((x_gridflat, y_gridflat)).T\n",
    "\n",
    "prob_contour = model_prob(X).reshape(100,100) "
   ]
  },
  {
   "cell_type": "code",
   "execution_count": 29,
   "id": "da72499a",
   "metadata": {
    "execution": {
     "iopub.execute_input": "2021-10-01T00:23:57.593407Z",
     "iopub.status.busy": "2021-10-01T00:23:57.592817Z",
     "iopub.status.idle": "2021-10-01T00:23:57.835657Z",
     "shell.execute_reply": "2021-10-01T00:23:57.835171Z"
    },
    "papermill": {
     "duration": 0.302294,
     "end_time": "2021-10-01T00:23:57.835769",
     "exception": false,
     "start_time": "2021-10-01T00:23:57.533475",
     "status": "completed"
    },
    "tags": []
   },
   "outputs": [
    {
     "data": {
      "image/png": "[encoded data removed]",
      "text/plain": [
       "<Figure size 720x648 with 1 Axes>"
      ]
     },
     "metadata": {
      "needs_background": "light"
     },
     "output_type": "display_data"
    }
   ],
   "source": [
    "plt.figure(figsize=(10,9))\n",
    "plt.scatter(testing_plot[:,0], testing_plot[:,1], alpha = 0.1, c = y_test.ravel())\n",
    "contours = plt.contour(x_grid,y_grid,prob_contour)\n",
    "plt.title('Probability Contours')\n",
    "plt.clabel(contours, inline = True );"
   ]
  },
  {
   "cell_type": "code",
   "execution_count": null,
   "id": "e81b4ac7",
   "metadata": {
    "papermill": {
     "duration": 0.051328,
     "end_time": "2021-10-01T00:23:57.936347",
     "exception": false,
     "start_time": "2021-10-01T00:23:57.885019",
     "status": "completed"
    },
    "tags": []
   },
   "outputs": [],
   "source": []
  }
 ],
 "metadata": {
  "kernelspec": {
   "display_name": "Python 3",
   "language": "python",
   "name": "python3"
  },
  "language_info": {
   "codemirror_mode": {
    "name": "ipython",
    "version": 3
   },
   "file_extension": ".py",
   "mimetype": "text/x-python",
   "name": "python",
   "nbconvert_exporter": "python",
   "pygments_lexer": "ipython3",
   "version": "3.6.15"
  },
  "papermill": {
   "default_parameters": {},
   "duration": 107.823731,
   "end_time": "2021-10-01T00:23:58.392482",
   "environment_variables": {},
   "exception": null,
   "input_path": "2020-08-11-part2.ipynb",
   "output_path": "2020-08-11-part2.ipynb",
   "parameters": {},
   "start_time": "2021-10-01T00:22:10.568751",
   "version": "2.3.3"
  }
 },
 "nbformat": 4,
 "nbformat_minor": 5
}