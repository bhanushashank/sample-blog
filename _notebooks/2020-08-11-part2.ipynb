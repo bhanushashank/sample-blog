{
 "cells": [
  {
   "cell_type": "markdown",
   "id": "98380cd3",
   "metadata": {
    "papermill": {
     "duration": 0.032618,
     "end_time": "2022-06-25T20:10:27.700901",
     "exception": false,
     "start_time": "2022-06-25T20:10:27.668283",
     "status": "completed"
    },
    "tags": []
   },
   "source": [
    "# Distinguish Your Own Digits (DYOD)"
   ]
  },
  {
   "cell_type": "markdown",
   "id": "ef31240d",
   "metadata": {
    "papermill": {
     "duration": 0.024111,
     "end_time": "2022-06-25T20:10:27.750077",
     "exception": false,
     "start_time": "2022-06-25T20:10:27.725966",
     "status": "completed"
    },
    "tags": []
   },
   "source": [
    "You are going to write a classifier that distinguishes between the number 3 and number 8."
   ]
  },
  {
   "cell_type": "code",
   "execution_count": 1,
   "id": "b15c8646",
   "metadata": {
    "execution": {
     "iopub.execute_input": "2022-06-25T20:10:27.811775Z",
     "iopub.status.busy": "2022-06-25T20:10:27.811175Z",
     "iopub.status.idle": "2022-06-25T20:10:27.822465Z",
     "shell.execute_reply": "2022-06-25T20:10:27.821975Z"
    },
    "papermill": {
     "duration": 0.047892,
     "end_time": "2022-06-25T20:10:27.822581",
     "exception": false,
     "start_time": "2022-06-25T20:10:27.774689",
     "status": "completed"
    },
    "tags": []
   },
   "outputs": [],
   "source": [
    "%load_ext autoreload\n",
    "%autoreload 2"
   ]
  },
  {
   "cell_type": "code",
   "execution_count": 2,
   "id": "22ef38dc",
   "metadata": {
    "execution": {
     "iopub.execute_input": "2022-06-25T20:10:27.873735Z",
     "iopub.status.busy": "2022-06-25T20:10:27.873152Z",
     "iopub.status.idle": "2022-06-25T20:10:28.407780Z",
     "shell.execute_reply": "2022-06-25T20:10:28.406714Z"
    },
    "papermill": {
     "duration": 0.561605,
     "end_time": "2022-06-25T20:10:28.407931",
     "exception": false,
     "start_time": "2022-06-25T20:10:27.846326",
     "status": "completed"
    },
    "tags": []
   },
   "outputs": [],
   "source": [
    "%matplotlib inline\n",
    "import numpy as np\n",
    "import matplotlib.pyplot as plt\n",
    "import pandas as pd"
   ]
  },
  {
   "cell_type": "markdown",
   "id": "ba036198",
   "metadata": {
    "papermill": {
     "duration": 0.02396,
     "end_time": "2022-06-25T20:10:28.455796",
     "exception": false,
     "start_time": "2022-06-25T20:10:28.431836",
     "status": "completed"
    },
    "tags": []
   },
   "source": [
    "From the command line run `pip install mnist`. This is a library that will help you bring down the mnist dataset. If you run this from a notebook, you need to put  `!pip install mnist` in a cell by itself."
   ]
  },
  {
   "cell_type": "code",
   "execution_count": 3,
   "id": "bb6ad8a1",
   "metadata": {
    "execution": {
     "iopub.execute_input": "2022-06-25T20:10:28.509544Z",
     "iopub.status.busy": "2022-06-25T20:10:28.506714Z",
     "iopub.status.idle": "2022-06-25T20:10:30.957910Z",
     "shell.execute_reply": "2022-06-25T20:10:30.957306Z"
    },
    "papermill": {
     "duration": 2.478472,
     "end_time": "2022-06-25T20:10:30.958045",
     "exception": false,
     "start_time": "2022-06-25T20:10:28.479573",
     "status": "completed"
    },
    "tags": []
   },
   "outputs": [
    {
     "name": "stdout",
     "output_type": "stream",
     "text": [
      "Collecting mnist\r\n"
     ]
    },
    {
     "name": "stdout",
     "output_type": "stream",
     "text": [
      "  Downloading mnist-0.2.2-py2.py3-none-any.whl (3.5 kB)\r\n",
      "Requirement already satisfied: numpy in /opt/hostedtoolcache/Python/3.6.15/x64/lib/python3.6/site-packages (from mnist) (1.19.5)\r\n"
     ]
    },
    {
     "name": "stdout",
     "output_type": "stream",
     "text": [
      "Installing collected packages: mnist\r\n",
      "Successfully installed mnist-0.2.2\r\n"
     ]
    }
   ],
   "source": [
    "!pip install mnist"
   ]
  },
  {
   "cell_type": "markdown",
   "id": "69df9c9a",
   "metadata": {
    "papermill": {
     "duration": 0.024624,
     "end_time": "2022-06-25T20:10:31.008324",
     "exception": false,
     "start_time": "2022-06-25T20:10:30.983700",
     "status": "completed"
    },
    "tags": []
   },
   "source": [
    "## Preparing the Data"
   ]
  },
  {
   "cell_type": "code",
   "execution_count": 4,
   "id": "7f69d806",
   "metadata": {
    "execution": {
     "iopub.execute_input": "2022-06-25T20:10:31.077710Z",
     "iopub.status.busy": "2022-06-25T20:10:31.067930Z",
     "iopub.status.idle": "2022-06-25T20:10:31.081634Z",
     "shell.execute_reply": "2022-06-25T20:10:31.081153Z"
    },
    "papermill": {
     "duration": 0.048545,
     "end_time": "2022-06-25T20:10:31.081748",
     "exception": false,
     "start_time": "2022-06-25T20:10:31.033203",
     "status": "completed"
    },
    "tags": []
   },
   "outputs": [],
   "source": [
    "import mnist"
   ]
  },
  {
   "cell_type": "code",
   "execution_count": 5,
   "id": "a411e44f",
   "metadata": {
    "execution": {
     "iopub.execute_input": "2022-06-25T20:10:31.146091Z",
     "iopub.status.busy": "2022-06-25T20:10:31.133932Z",
     "iopub.status.idle": "2022-06-25T20:10:31.703607Z",
     "shell.execute_reply": "2022-06-25T20:10:31.702975Z"
    },
    "papermill": {
     "duration": 0.597425,
     "end_time": "2022-06-25T20:10:31.703746",
     "exception": false,
     "start_time": "2022-06-25T20:10:31.106321",
     "status": "completed"
    },
    "tags": []
   },
   "outputs": [],
   "source": [
    "train_images = mnist.train_images()\n",
    "train_labels = mnist.train_labels()"
   ]
  },
  {
   "cell_type": "code",
   "execution_count": 6,
   "id": "dceab3a5",
   "metadata": {
    "execution": {
     "iopub.execute_input": "2022-06-25T20:10:31.770098Z",
     "iopub.status.busy": "2022-06-25T20:10:31.769503Z",
     "iopub.status.idle": "2022-06-25T20:10:31.779650Z",
     "shell.execute_reply": "2022-06-25T20:10:31.779168Z"
    },
    "papermill": {
     "duration": 0.050698,
     "end_time": "2022-06-25T20:10:31.779759",
     "exception": false,
     "start_time": "2022-06-25T20:10:31.729061",
     "status": "completed"
    },
    "tags": []
   },
   "outputs": [
    {
     "data": {
      "text/plain": [
       "((60000, 28, 28), (60000,))"
      ]
     },
     "execution_count": 6,
     "metadata": {},
     "output_type": "execute_result"
    }
   ],
   "source": [
    "train_images.shape, train_labels.shape"
   ]
  },
  {
   "cell_type": "code",
   "execution_count": 7,
   "id": "f50dc2bb",
   "metadata": {
    "execution": {
     "iopub.execute_input": "2022-06-25T20:10:31.841223Z",
     "iopub.status.busy": "2022-06-25T20:10:31.838542Z",
     "iopub.status.idle": "2022-06-25T20:10:31.955388Z",
     "shell.execute_reply": "2022-06-25T20:10:31.954848Z"
    },
    "papermill": {
     "duration": 0.150985,
     "end_time": "2022-06-25T20:10:31.955525",
     "exception": false,
     "start_time": "2022-06-25T20:10:31.804540",
     "status": "completed"
    },
    "tags": []
   },
   "outputs": [],
   "source": [
    "test_images = mnist.test_images()\n",
    "test_labels = mnist.test_labels()"
   ]
  },
  {
   "cell_type": "code",
   "execution_count": 8,
   "id": "fc38cf1b",
   "metadata": {
    "execution": {
     "iopub.execute_input": "2022-06-25T20:10:32.010029Z",
     "iopub.status.busy": "2022-06-25T20:10:32.009441Z",
     "iopub.status.idle": "2022-06-25T20:10:32.023399Z",
     "shell.execute_reply": "2022-06-25T20:10:32.023825Z"
    },
    "papermill": {
     "duration": 0.043123,
     "end_time": "2022-06-25T20:10:32.023959",
     "exception": false,
     "start_time": "2022-06-25T20:10:31.980836",
     "status": "completed"
    },
    "tags": []
   },
   "outputs": [
    {
     "data": {
      "text/plain": [
       "((10000, 28, 28), (10000,))"
      ]
     },
     "execution_count": 8,
     "metadata": {},
     "output_type": "execute_result"
    }
   ],
   "source": [
    "test_images.shape, test_labels.shape"
   ]
  },
  {
   "cell_type": "code",
   "execution_count": 9,
   "id": "f9ed8fe0",
   "metadata": {
    "execution": {
     "iopub.execute_input": "2022-06-25T20:10:32.079710Z",
     "iopub.status.busy": "2022-06-25T20:10:32.079114Z",
     "iopub.status.idle": "2022-06-25T20:10:32.221953Z",
     "shell.execute_reply": "2022-06-25T20:10:32.221439Z"
    },
    "papermill": {
     "duration": 0.172565,
     "end_time": "2022-06-25T20:10:32.222071",
     "exception": false,
     "start_time": "2022-06-25T20:10:32.049506",
     "status": "completed"
    },
    "tags": []
   },
   "outputs": [
    {
     "name": "stdout",
     "output_type": "stream",
     "text": [
      "2\n"
     ]
    },
    {
     "data": {
      "text/plain": [
       "<matplotlib.image.AxesImage at 0x7fb3248ed320>"
      ]
     },
     "execution_count": 9,
     "metadata": {},
     "output_type": "execute_result"
    },
    {
     "data": {
      "image/png": "[encoded data removed]",
      "text/plain": [
       "<Figure size 432x288 with 1 Axes>"
      ]
     },
     "metadata": {
      "needs_background": "light"
     },
     "output_type": "display_data"
    }
   ],
   "source": [
    "image_index = 7776 # You may select anything up to 60,000\n",
    "print(train_labels[image_index]) \n",
    "plt.imshow(train_images[image_index], cmap='Greys')"
   ]
  },
  {
   "cell_type": "markdown",
   "id": "a8d2388d",
   "metadata": {
    "papermill": {
     "duration": 0.026759,
     "end_time": "2022-06-25T20:10:32.275307",
     "exception": false,
     "start_time": "2022-06-25T20:10:32.248548",
     "status": "completed"
    },
    "tags": []
   },
   "source": [
    "## Filter data to get 3 and 8 out"
   ]
  },
  {
   "cell_type": "code",
   "execution_count": 10,
   "id": "776f7fc7",
   "metadata": {
    "execution": {
     "iopub.execute_input": "2022-06-25T20:10:32.332773Z",
     "iopub.status.busy": "2022-06-25T20:10:32.332138Z",
     "iopub.status.idle": "2022-06-25T20:10:32.349978Z",
     "shell.execute_reply": "2022-06-25T20:10:32.349491Z"
    },
    "papermill": {
     "duration": 0.048367,
     "end_time": "2022-06-25T20:10:32.350090",
     "exception": false,
     "start_time": "2022-06-25T20:10:32.301723",
     "status": "completed"
    },
    "tags": []
   },
   "outputs": [],
   "source": [
    "train_filter = np.where((train_labels == 3 ) | (train_labels == 8))\n",
    "test_filter = np.where((test_labels == 3) | (test_labels == 8))\n",
    "X_train, y_train = train_images[train_filter], train_labels[train_filter]\n",
    "X_test, y_test = test_images[test_filter], test_labels[test_filter]"
   ]
  },
  {
   "cell_type": "markdown",
   "id": "948f0b7e",
   "metadata": {
    "papermill": {
     "duration": 0.026648,
     "end_time": "2022-06-25T20:10:32.403117",
     "exception": false,
     "start_time": "2022-06-25T20:10:32.376469",
     "status": "completed"
    },
    "tags": []
   },
   "source": [
    "We normalize the pizel values in the 0 to 1 range"
   ]
  },
  {
   "cell_type": "code",
   "execution_count": 11,
   "id": "ee4c2166",
   "metadata": {
    "execution": {
     "iopub.execute_input": "2022-06-25T20:10:32.461431Z",
     "iopub.status.busy": "2022-06-25T20:10:32.460818Z",
     "iopub.status.idle": "2022-06-25T20:10:32.511414Z",
     "shell.execute_reply": "2022-06-25T20:10:32.510814Z"
    },
    "papermill": {
     "duration": 0.081447,
     "end_time": "2022-06-25T20:10:32.511551",
     "exception": false,
     "start_time": "2022-06-25T20:10:32.430104",
     "status": "completed"
    },
    "tags": []
   },
   "outputs": [],
   "source": [
    "X_train = X_train/255.\n",
    "X_test = X_test/255."
   ]
  },
  {
   "cell_type": "markdown",
   "id": "ddcf4fab",
   "metadata": {
    "papermill": {
     "duration": 0.026644,
     "end_time": "2022-06-25T20:10:32.565396",
     "exception": false,
     "start_time": "2022-06-25T20:10:32.538752",
     "status": "completed"
    },
    "tags": []
   },
   "source": [
    "And setup the labels as 1 (when the digit is 3) and 0 (when the digit is 8)"
   ]
  },
  {
   "cell_type": "code",
   "execution_count": 12,
   "id": "7dc908f2",
   "metadata": {
    "execution": {
     "iopub.execute_input": "2022-06-25T20:10:32.623750Z",
     "iopub.status.busy": "2022-06-25T20:10:32.623153Z",
     "iopub.status.idle": "2022-06-25T20:10:32.635162Z",
     "shell.execute_reply": "2022-06-25T20:10:32.634677Z"
    },
    "papermill": {
     "duration": 0.043461,
     "end_time": "2022-06-25T20:10:32.635277",
     "exception": false,
     "start_time": "2022-06-25T20:10:32.591816",
     "status": "completed"
    },
    "tags": []
   },
   "outputs": [],
   "source": [
    "y_train = 1*(y_train==3)\n",
    "y_test = 1*(y_test==3)"
   ]
  },
  {
   "cell_type": "code",
   "execution_count": 13,
   "id": "01e4e969",
   "metadata": {
    "execution": {
     "iopub.execute_input": "2022-06-25T20:10:32.692378Z",
     "iopub.status.busy": "2022-06-25T20:10:32.691782Z",
     "iopub.status.idle": "2022-06-25T20:10:32.706553Z",
     "shell.execute_reply": "2022-06-25T20:10:32.706071Z"
    },
    "papermill": {
     "duration": 0.044812,
     "end_time": "2022-06-25T20:10:32.706664",
     "exception": false,
     "start_time": "2022-06-25T20:10:32.661852",
     "status": "completed"
    },
    "tags": []
   },
   "outputs": [
    {
     "data": {
      "text/plain": [
       "((11982, 28, 28), (1984, 28, 28))"
      ]
     },
     "execution_count": 13,
     "metadata": {},
     "output_type": "execute_result"
    }
   ],
   "source": [
    "X_train.shape, X_test.shape"
   ]
  },
  {
   "cell_type": "markdown",
   "id": "5ccf3f85",
   "metadata": {
    "papermill": {
     "duration": 0.026528,
     "end_time": "2022-06-25T20:10:32.759669",
     "exception": false,
     "start_time": "2022-06-25T20:10:32.733141",
     "status": "completed"
    },
    "tags": []
   },
   "source": [
    "We reshape the data to flatten the image pixels into a set of features or co-variates:"
   ]
  },
  {
   "cell_type": "code",
   "execution_count": 14,
   "id": "5286a4a3",
   "metadata": {
    "execution": {
     "iopub.execute_input": "2022-06-25T20:10:32.825304Z",
     "iopub.status.busy": "2022-06-25T20:10:32.823004Z",
     "iopub.status.idle": "2022-06-25T20:10:32.834339Z",
     "shell.execute_reply": "2022-06-25T20:10:32.833856Z"
    },
    "papermill": {
     "duration": 0.048031,
     "end_time": "2022-06-25T20:10:32.834457",
     "exception": false,
     "start_time": "2022-06-25T20:10:32.786426",
     "status": "completed"
    },
    "tags": []
   },
   "outputs": [
    {
     "data": {
      "text/plain": [
       "((11982, 784), (1984, 784))"
      ]
     },
     "execution_count": 14,
     "metadata": {},
     "output_type": "execute_result"
    }
   ],
   "source": [
    "X_train = X_train.reshape(X_train.shape[0], -1)\n",
    "X_test = X_test.reshape(X_test.shape[0], -1)\n",
    "X_train.shape, X_test.shape"
   ]
  },
  {
   "cell_type": "code",
   "execution_count": 15,
   "id": "73c5f88a",
   "metadata": {
    "execution": {
     "iopub.execute_input": "2022-06-25T20:10:32.892825Z",
     "iopub.status.busy": "2022-06-25T20:10:32.892190Z",
     "iopub.status.idle": "2022-06-25T20:10:32.912557Z",
     "shell.execute_reply": "2022-06-25T20:10:32.913004Z"
    },
    "papermill": {
     "duration": 0.05178,
     "end_time": "2022-06-25T20:10:32.913143",
     "exception": false,
     "start_time": "2022-06-25T20:10:32.861363",
     "status": "completed"
    },
    "tags": []
   },
   "outputs": [],
   "source": [
    "#Impoting functions from 'Kudzu'\n",
    "from kudzu.model import Model\n",
    "from kudzu.train import Learner\n",
    "from kudzu.optim import GD\n",
    "from kudzu.data import Data, Sampler,Dataloader\n",
    "\n",
    "from kudzu.callbacks import AccCallback\n",
    "from kudzu.callbacks import ClfCallback\n",
    "\n",
    "from kudzu.loss import MSE\n",
    "\n",
    "from kudzu.layer import Sigmoid,Relu\n",
    "from kudzu.layer import Affine"
   ]
  },
  {
   "cell_type": "markdown",
   "id": "bc01172a",
   "metadata": {
    "papermill": {
     "duration": 0.026825,
     "end_time": "2022-06-25T20:10:32.967184",
     "exception": false,
     "start_time": "2022-06-25T20:10:32.940359",
     "status": "completed"
    },
    "tags": []
   },
   "source": [
    "### Let us create a `Config` class, to store important parameters. \n",
    "This class essentially plays the role of a dictionary."
   ]
  },
  {
   "cell_type": "code",
   "execution_count": 16,
   "id": "978281aa",
   "metadata": {
    "execution": {
     "iopub.execute_input": "2022-06-25T20:10:33.025094Z",
     "iopub.status.busy": "2022-06-25T20:10:33.024478Z",
     "iopub.status.idle": "2022-06-25T20:10:33.036746Z",
     "shell.execute_reply": "2022-06-25T20:10:33.037237Z"
    },
    "papermill": {
     "duration": 0.043401,
     "end_time": "2022-06-25T20:10:33.037377",
     "exception": false,
     "start_time": "2022-06-25T20:10:32.993976",
     "status": "completed"
    },
    "tags": []
   },
   "outputs": [],
   "source": [
    "class Config:\n",
    "    pass\n",
    "config = Config()\n",
    "config.lr = 0.001\n",
    "config.num_epochs = 250\n",
    "config.bs = 50"
   ]
  },
  {
   "cell_type": "markdown",
   "id": "1385fa59",
   "metadata": {
    "papermill": {
     "duration": 0.026899,
     "end_time": "2022-06-25T20:10:33.091715",
     "exception": false,
     "start_time": "2022-06-25T20:10:33.064816",
     "status": "completed"
    },
    "tags": []
   },
   "source": [
    "### Running Models with the Training data\n",
    "Details about the network layers:\n",
    "- A first affine layer has 784 inputs and does 100 affine transforms. These are followed by a Relu\n",
    "- A second affine layer has 100 inputs from the 100 activations of the past layer, and does 100 affine transforms. These are followed by a Relu\n",
    "- A third affine layer has 100 activations and does 2 affine transformations to create an embedding for visualization. There is no non-linearity here.\n",
    "- A final \"logistic regression\" which has an affine transform from 2 inputs to 1 output, which is squeezed through a sigmoid.\n"
   ]
  },
  {
   "cell_type": "code",
   "execution_count": 17,
   "id": "2b9c66db",
   "metadata": {
    "execution": {
     "iopub.execute_input": "2022-06-25T20:10:33.150282Z",
     "iopub.status.busy": "2022-06-25T20:10:33.149666Z",
     "iopub.status.idle": "2022-06-25T20:10:33.164079Z",
     "shell.execute_reply": "2022-06-25T20:10:33.163588Z"
    },
    "papermill": {
     "duration": 0.045555,
     "end_time": "2022-06-25T20:10:33.164192",
     "exception": false,
     "start_time": "2022-06-25T20:10:33.118637",
     "status": "completed"
    },
    "tags": []
   },
   "outputs": [],
   "source": [
    "data = Data(X_train, y_train.reshape(-1,1))\n",
    "sampler = Sampler(data, config.bs, shuffle=True)\n",
    "\n",
    "dl = Dataloader(data, sampler)\n",
    "\n",
    "opt = GD(config.lr)\n",
    "loss = MSE()"
   ]
  },
  {
   "cell_type": "code",
   "execution_count": 18,
   "id": "b275e4c2",
   "metadata": {
    "execution": {
     "iopub.execute_input": "2022-06-25T20:10:33.223431Z",
     "iopub.status.busy": "2022-06-25T20:10:33.222831Z",
     "iopub.status.idle": "2022-06-25T20:10:33.236175Z",
     "shell.execute_reply": "2022-06-25T20:10:33.235674Z"
    },
    "papermill": {
     "duration": 0.045183,
     "end_time": "2022-06-25T20:10:33.236297",
     "exception": false,
     "start_time": "2022-06-25T20:10:33.191114",
     "status": "completed"
    },
    "tags": []
   },
   "outputs": [],
   "source": [
    "training_data_x = X_train\n",
    "testing_data_x = X_test\n",
    "training_data_y = y_train.reshape(-1,1)\n",
    "testing_data_y = y_test.reshape(-1,1)"
   ]
  },
  {
   "cell_type": "code",
   "execution_count": 19,
   "id": "76951160",
   "metadata": {
    "execution": {
     "iopub.execute_input": "2022-06-25T20:10:33.299475Z",
     "iopub.status.busy": "2022-06-25T20:10:33.298822Z",
     "iopub.status.idle": "2022-06-25T20:10:33.315530Z",
     "shell.execute_reply": "2022-06-25T20:10:33.316211Z"
    },
    "papermill": {
     "duration": 0.053151,
     "end_time": "2022-06-25T20:10:33.316499",
     "exception": false,
     "start_time": "2022-06-25T20:10:33.263348",
     "status": "completed"
    },
    "tags": []
   },
   "outputs": [
    {
     "name": "stdout",
     "output_type": "stream",
     "text": [
      "xavier\n",
      "xavier\n",
      "xavier\n",
      "xavier\n",
      "xavier\n"
     ]
    }
   ],
   "source": [
    "layers = [Affine(\"first\", 784, 100), Relu(\"first\"), Affine(\"second\", 100, 100), Relu(\"second\"), Affine(\"third\", 100, 2), Affine(\"last\", 2, 1), Sigmoid(\"last\")]\n",
    "model_nn = Model(layers)\n",
    "model_lr = Model([Affine(\"logits\", 784, 1), Sigmoid(\"sigmoid\")])"
   ]
  },
  {
   "cell_type": "code",
   "execution_count": 20,
   "id": "6eede77a",
   "metadata": {
    "execution": {
     "iopub.execute_input": "2022-06-25T20:10:33.381681Z",
     "iopub.status.busy": "2022-06-25T20:10:33.379671Z",
     "iopub.status.idle": "2022-06-25T20:10:33.391879Z",
     "shell.execute_reply": "2022-06-25T20:10:33.392306Z"
    },
    "papermill": {
     "duration": 0.04777,
     "end_time": "2022-06-25T20:10:33.392460",
     "exception": false,
     "start_time": "2022-06-25T20:10:33.344690",
     "status": "completed"
    },
    "tags": []
   },
   "outputs": [],
   "source": [
    "nn_learner = Learner(loss, model_nn, opt, config.num_epochs)\n",
    "acc_nn = ClfCallback(nn_learner, config.bs, training_data_x , testing_data_x, training_data_y, testing_data_y)\n",
    "nn_learner.set_callbacks([acc_nn])"
   ]
  },
  {
   "cell_type": "code",
   "execution_count": 21,
   "id": "877b6cc7",
   "metadata": {
    "execution": {
     "iopub.execute_input": "2022-06-25T20:10:33.451093Z",
     "iopub.status.busy": "2022-06-25T20:10:33.450508Z",
     "iopub.status.idle": "2022-06-25T20:10:33.463547Z",
     "shell.execute_reply": "2022-06-25T20:10:33.463976Z"
    },
    "papermill": {
     "duration": 0.044593,
     "end_time": "2022-06-25T20:10:33.464112",
     "exception": false,
     "start_time": "2022-06-25T20:10:33.419519",
     "status": "completed"
    },
    "tags": []
   },
   "outputs": [],
   "source": [
    "lr_learner = Learner(loss, model_lr, opt, config.num_epochs)\n",
    "acc_lr = ClfCallback(lr_learner, config.bs, training_data_x , testing_data_x, training_data_y, testing_data_y)\n",
    "lr_learner.set_callbacks([acc_lr])"
   ]
  },
  {
   "cell_type": "code",
   "execution_count": 22,
   "id": "d9b133c3",
   "metadata": {
    "execution": {
     "iopub.execute_input": "2022-06-25T20:10:33.523460Z",
     "iopub.status.busy": "2022-06-25T20:10:33.522834Z",
     "iopub.status.idle": "2022-06-25T20:11:50.367290Z",
     "shell.execute_reply": "2022-06-25T20:11:50.368161Z"
    },
    "papermill": {
     "duration": 76.876918,
     "end_time": "2022-06-25T20:11:50.368318",
     "exception": false,
     "start_time": "2022-06-25T20:10:33.491400",
     "status": "completed"
    },
    "tags": []
   },
   "outputs": [
    {
     "name": "stdout",
     "output_type": "stream",
     "text": [
      "Epoch 0, Loss 0.2306\n",
      "Training Accuracy: 0.7464, Testing Accuracy: 0.7460\n",
      "\n"
     ]
    },
    {
     "name": "stdout",
     "output_type": "stream",
     "text": [
      "Epoch 10, Loss 0.0884\n",
      "Training Accuracy: 0.9178, Testing Accuracy: 0.9254\n",
      "\n"
     ]
    },
    {
     "name": "stdout",
     "output_type": "stream",
     "text": [
      "Epoch 20, Loss 0.0552\n",
      "Training Accuracy: 0.9421, Testing Accuracy: 0.9526\n",
      "\n"
     ]
    },
    {
     "name": "stdout",
     "output_type": "stream",
     "text": [
      "Epoch 30, Loss 0.0432\n",
      "Training Accuracy: 0.9546, Testing Accuracy: 0.9592\n",
      "\n"
     ]
    },
    {
     "name": "stdout",
     "output_type": "stream",
     "text": [
      "Epoch 40, Loss 0.0374\n",
      "Training Accuracy: 0.9599, Testing Accuracy: 0.9617\n",
      "\n"
     ]
    },
    {
     "name": "stdout",
     "output_type": "stream",
     "text": [
      "Epoch 50, Loss 0.034\n",
      "Training Accuracy: 0.9634, Testing Accuracy: 0.9637\n",
      "\n"
     ]
    },
    {
     "name": "stdout",
     "output_type": "stream",
     "text": [
      "Epoch 60, Loss 0.0316\n",
      "Training Accuracy: 0.9649, Testing Accuracy: 0.9667\n",
      "\n"
     ]
    },
    {
     "name": "stdout",
     "output_type": "stream",
     "text": [
      "Epoch 70, Loss 0.0299\n",
      "Training Accuracy: 0.9658, Testing Accuracy: 0.9677\n",
      "\n"
     ]
    },
    {
     "name": "stdout",
     "output_type": "stream",
     "text": [
      "Epoch 80, Loss 0.0285\n",
      "Training Accuracy: 0.9665, Testing Accuracy: 0.9682\n",
      "\n"
     ]
    },
    {
     "name": "stdout",
     "output_type": "stream",
     "text": [
      "Epoch 90, Loss 0.0274\n",
      "Training Accuracy: 0.9674, Testing Accuracy: 0.9693\n",
      "\n"
     ]
    },
    {
     "name": "stdout",
     "output_type": "stream",
     "text": [
      "Epoch 100, Loss 0.0265\n",
      "Training Accuracy: 0.9692, Testing Accuracy: 0.9703\n",
      "\n"
     ]
    },
    {
     "name": "stdout",
     "output_type": "stream",
     "text": [
      "Epoch 110, Loss 0.0257\n",
      "Training Accuracy: 0.9704, Testing Accuracy: 0.9693\n",
      "\n"
     ]
    },
    {
     "name": "stdout",
     "output_type": "stream",
     "text": [
      "Epoch 120, Loss 0.025\n",
      "Training Accuracy: 0.9710, Testing Accuracy: 0.9698\n",
      "\n"
     ]
    },
    {
     "name": "stdout",
     "output_type": "stream",
     "text": [
      "Epoch 130, Loss 0.0244\n",
      "Training Accuracy: 0.9715, Testing Accuracy: 0.9703\n",
      "\n"
     ]
    },
    {
     "name": "stdout",
     "output_type": "stream",
     "text": [
      "Epoch 140, Loss 0.0238\n",
      "Training Accuracy: 0.9726, Testing Accuracy: 0.9708\n",
      "\n"
     ]
    },
    {
     "name": "stdout",
     "output_type": "stream",
     "text": [
      "Epoch 150, Loss 0.0232\n",
      "Training Accuracy: 0.9733, Testing Accuracy: 0.9708\n",
      "\n"
     ]
    },
    {
     "name": "stdout",
     "output_type": "stream",
     "text": [
      "Epoch 160, Loss 0.0228\n",
      "Training Accuracy: 0.9740, Testing Accuracy: 0.9713\n",
      "\n"
     ]
    },
    {
     "name": "stdout",
     "output_type": "stream",
     "text": [
      "Epoch 170, Loss 0.0223\n",
      "Training Accuracy: 0.9747, Testing Accuracy: 0.9723\n",
      "\n"
     ]
    },
    {
     "name": "stdout",
     "output_type": "stream",
     "text": [
      "Epoch 180, Loss 0.0219\n",
      "Training Accuracy: 0.9760, Testing Accuracy: 0.9728\n",
      "\n"
     ]
    },
    {
     "name": "stdout",
     "output_type": "stream",
     "text": [
      "Epoch 190, Loss 0.0214\n",
      "Training Accuracy: 0.9766, Testing Accuracy: 0.9728\n",
      "\n"
     ]
    },
    {
     "name": "stdout",
     "output_type": "stream",
     "text": [
      "Epoch 200, Loss 0.0211\n",
      "Training Accuracy: 0.9771, Testing Accuracy: 0.9733\n",
      "\n"
     ]
    },
    {
     "name": "stdout",
     "output_type": "stream",
     "text": [
      "Epoch 210, Loss 0.0207\n",
      "Training Accuracy: 0.9774, Testing Accuracy: 0.9728\n",
      "\n"
     ]
    },
    {
     "name": "stdout",
     "output_type": "stream",
     "text": [
      "Epoch 220, Loss 0.0203\n",
      "Training Accuracy: 0.9777, Testing Accuracy: 0.9733\n",
      "\n"
     ]
    },
    {
     "name": "stdout",
     "output_type": "stream",
     "text": [
      "Epoch 230, Loss 0.02\n",
      "Training Accuracy: 0.9782, Testing Accuracy: 0.9733\n",
      "\n"
     ]
    },
    {
     "name": "stdout",
     "output_type": "stream",
     "text": [
      "Epoch 240, Loss 0.0197\n",
      "Training Accuracy: 0.9783, Testing Accuracy: 0.9738\n",
      "\n"
     ]
    },
    {
     "data": {
      "text/plain": [
       "0.0073366596261319975"
      ]
     },
     "execution_count": 22,
     "metadata": {},
     "output_type": "execute_result"
    }
   ],
   "source": [
    "nn_learner.train_loop(dl)"
   ]
  },
  {
   "cell_type": "code",
   "execution_count": 23,
   "id": "e0163366",
   "metadata": {
    "execution": {
     "iopub.execute_input": "2022-06-25T20:11:50.460755Z",
     "iopub.status.busy": "2022-06-25T20:11:50.454137Z",
     "iopub.status.idle": "2022-06-25T20:12:05.179426Z",
     "shell.execute_reply": "2022-06-25T20:12:05.180295Z"
    },
    "papermill": {
     "duration": 14.77727,
     "end_time": "2022-06-25T20:12:05.180470",
     "exception": false,
     "start_time": "2022-06-25T20:11:50.403200",
     "status": "completed"
    },
    "tags": []
   },
   "outputs": [
    {
     "name": "stdout",
     "output_type": "stream",
     "text": [
      "Epoch 0, Loss 0.2225\n",
      "Training Accuracy: 0.7438, Testing Accuracy: 0.7737\n",
      "\n"
     ]
    },
    {
     "name": "stdout",
     "output_type": "stream",
     "text": [
      "Epoch 10, Loss 0.1031\n",
      "Training Accuracy: 0.9109, Testing Accuracy: 0.9209\n",
      "\n"
     ]
    },
    {
     "name": "stdout",
     "output_type": "stream",
     "text": [
      "Epoch 20, Loss 0.0793\n",
      "Training Accuracy: 0.9286, Testing Accuracy: 0.9410\n",
      "\n"
     ]
    },
    {
     "name": "stdout",
     "output_type": "stream",
     "text": [
      "Epoch 30, Loss 0.0683\n",
      "Training Accuracy: 0.9355, Testing Accuracy: 0.9511\n",
      "\n"
     ]
    },
    {
     "name": "stdout",
     "output_type": "stream",
     "text": [
      "Epoch 40, Loss 0.0616\n",
      "Training Accuracy: 0.9412, Testing Accuracy: 0.9536\n",
      "\n"
     ]
    },
    {
     "name": "stdout",
     "output_type": "stream",
     "text": [
      "Epoch 50, Loss 0.0571\n",
      "Training Accuracy: 0.9451, Testing Accuracy: 0.9551\n",
      "\n"
     ]
    },
    {
     "name": "stdout",
     "output_type": "stream",
     "text": [
      "Epoch 60, Loss 0.0538\n",
      "Training Accuracy: 0.9478, Testing Accuracy: 0.9567\n",
      "\n"
     ]
    },
    {
     "name": "stdout",
     "output_type": "stream",
     "text": [
      "Epoch 70, Loss 0.0513\n",
      "Training Accuracy: 0.9497, Testing Accuracy: 0.9602\n",
      "\n"
     ]
    },
    {
     "name": "stdout",
     "output_type": "stream",
     "text": [
      "Epoch 80, Loss 0.0492\n",
      "Training Accuracy: 0.9517, Testing Accuracy: 0.9622\n",
      "\n"
     ]
    },
    {
     "name": "stdout",
     "output_type": "stream",
     "text": [
      "Epoch 90, Loss 0.0475\n",
      "Training Accuracy: 0.9525, Testing Accuracy: 0.9632\n",
      "\n"
     ]
    },
    {
     "name": "stdout",
     "output_type": "stream",
     "text": [
      "Epoch 100, Loss 0.0461\n",
      "Training Accuracy: 0.9537, Testing Accuracy: 0.9642\n",
      "\n"
     ]
    },
    {
     "name": "stdout",
     "output_type": "stream",
     "text": [
      "Epoch 110, Loss 0.0449\n",
      "Training Accuracy: 0.9542, Testing Accuracy: 0.9647\n",
      "\n"
     ]
    },
    {
     "name": "stdout",
     "output_type": "stream",
     "text": [
      "Epoch 120, Loss 0.0438\n",
      "Training Accuracy: 0.9549, Testing Accuracy: 0.9652\n",
      "\n"
     ]
    },
    {
     "name": "stdout",
     "output_type": "stream",
     "text": [
      "Epoch 130, Loss 0.0429\n",
      "Training Accuracy: 0.9559, Testing Accuracy: 0.9652\n",
      "\n"
     ]
    },
    {
     "name": "stdout",
     "output_type": "stream",
     "text": [
      "Epoch 140, Loss 0.0421\n",
      "Training Accuracy: 0.9564, Testing Accuracy: 0.9652\n",
      "\n"
     ]
    },
    {
     "name": "stdout",
     "output_type": "stream",
     "text": [
      "Epoch 150, Loss 0.0413\n",
      "Training Accuracy: 0.9569, Testing Accuracy: 0.9652\n",
      "\n"
     ]
    },
    {
     "name": "stdout",
     "output_type": "stream",
     "text": [
      "Epoch 160, Loss 0.0407\n",
      "Training Accuracy: 0.9574, Testing Accuracy: 0.9652\n",
      "\n"
     ]
    },
    {
     "name": "stdout",
     "output_type": "stream",
     "text": [
      "Epoch 170, Loss 0.0401\n",
      "Training Accuracy: 0.9575, Testing Accuracy: 0.9657\n",
      "\n"
     ]
    },
    {
     "name": "stdout",
     "output_type": "stream",
     "text": [
      "Epoch 180, Loss 0.0395\n",
      "Training Accuracy: 0.9589, Testing Accuracy: 0.9662\n",
      "\n"
     ]
    },
    {
     "name": "stdout",
     "output_type": "stream",
     "text": [
      "Epoch 190, Loss 0.039\n",
      "Training Accuracy: 0.9588, Testing Accuracy: 0.9662\n",
      "\n"
     ]
    },
    {
     "name": "stdout",
     "output_type": "stream",
     "text": [
      "Epoch 200, Loss 0.0385\n",
      "Training Accuracy: 0.9590, Testing Accuracy: 0.9672\n",
      "\n"
     ]
    },
    {
     "name": "stdout",
     "output_type": "stream",
     "text": [
      "Epoch 210, Loss 0.0381\n",
      "Training Accuracy: 0.9593, Testing Accuracy: 0.9667\n",
      "\n"
     ]
    },
    {
     "name": "stdout",
     "output_type": "stream",
     "text": [
      "Epoch 220, Loss 0.0377\n",
      "Training Accuracy: 0.9594, Testing Accuracy: 0.9667\n",
      "\n"
     ]
    },
    {
     "name": "stdout",
     "output_type": "stream",
     "text": [
      "Epoch 230, Loss 0.0373\n",
      "Training Accuracy: 0.9598, Testing Accuracy: 0.9667\n",
      "\n"
     ]
    },
    {
     "name": "stdout",
     "output_type": "stream",
     "text": [
      "Epoch 240, Loss 0.0369\n",
      "Training Accuracy: 0.9602, Testing Accuracy: 0.9667\n",
      "\n"
     ]
    },
    {
     "data": {
      "text/plain": [
       "0.02630385220520669"
      ]
     },
     "execution_count": 23,
     "metadata": {},
     "output_type": "execute_result"
    }
   ],
   "source": [
    "lr_learner.train_loop(dl)"
   ]
  },
  {
   "cell_type": "code",
   "execution_count": 24,
   "id": "ca410940",
   "metadata": {
    "execution": {
     "iopub.execute_input": "2022-06-25T20:12:05.277676Z",
     "iopub.status.busy": "2022-06-25T20:12:05.276980Z",
     "iopub.status.idle": "2022-06-25T20:12:05.496022Z",
     "shell.execute_reply": "2022-06-25T20:12:05.496569Z"
    },
    "papermill": {
     "duration": 0.27446,
     "end_time": "2022-06-25T20:12:05.496729",
     "exception": false,
     "start_time": "2022-06-25T20:12:05.222269",
     "status": "completed"
    },
    "tags": []
   },
   "outputs": [
    {
     "data": {
      "text/plain": [
       "<matplotlib.legend.Legend at 0x7fb3170c1978>"
      ]
     },
     "execution_count": 24,
     "metadata": {},
     "output_type": "execute_result"
    },
    {
     "data": {
      "image/png": "[encoded data removed]",
      "text/plain": [
       "<Figure size 1080x720 with 1 Axes>"
      ]
     },
     "metadata": {
      "needs_background": "light"
     },
     "output_type": "display_data"
    }
   ],
   "source": [
    "#comparing the results of NN and LR\n",
    "plt.figure(figsize=(15,10))\n",
    "\n",
    "# Neural Network plots\n",
    "plt.plot(acc_nn.accuracies, 'r-', label = \"Training Accuracies - NN\")\n",
    "plt.plot(acc_nn.test_accuracies, 'g-', label = \"Testing Accuracies - NN\")\n",
    "\n",
    "# Logistic Regression plots\n",
    "plt.plot(acc_lr.accuracies, 'k-', label = \"Training Accuracies - LR\")\n",
    "plt.plot(acc_lr.test_accuracies, 'b-', label = \"Testing Accuracies - LR\")\n",
    "plt.legend()"
   ]
  },
  {
   "cell_type": "markdown",
   "id": "80dfb35c",
   "metadata": {
    "papermill": {
     "duration": 0.042337,
     "end_time": "2022-06-25T20:12:05.582185",
     "exception": false,
     "start_time": "2022-06-25T20:12:05.539848",
     "status": "completed"
    },
    "tags": []
   },
   "source": [
    "#### Plotting the outputs of this layer of the NN.\n"
   ]
  },
  {
   "cell_type": "code",
   "execution_count": 25,
   "id": "45eb2ff5",
   "metadata": {
    "execution": {
     "iopub.execute_input": "2022-06-25T20:12:05.672038Z",
     "iopub.status.busy": "2022-06-25T20:12:05.671409Z",
     "iopub.status.idle": "2022-06-25T20:12:05.693185Z",
     "shell.execute_reply": "2022-06-25T20:12:05.692633Z"
    },
    "papermill": {
     "duration": 0.068558,
     "end_time": "2022-06-25T20:12:05.693310",
     "exception": false,
     "start_time": "2022-06-25T20:12:05.624752",
     "status": "completed"
    },
    "tags": []
   },
   "outputs": [],
   "source": [
    "new_model = Model(layers[:-2])\n",
    "testing_plot = new_model(testing_data_x)"
   ]
  },
  {
   "cell_type": "code",
   "execution_count": 26,
   "id": "4c0a5485",
   "metadata": {
    "execution": {
     "iopub.execute_input": "2022-06-25T20:12:05.783131Z",
     "iopub.status.busy": "2022-06-25T20:12:05.782504Z",
     "iopub.status.idle": "2022-06-25T20:12:05.977872Z",
     "shell.execute_reply": "2022-06-25T20:12:05.978317Z"
    },
    "papermill": {
     "duration": 0.24276,
     "end_time": "2022-06-25T20:12:05.978469",
     "exception": false,
     "start_time": "2022-06-25T20:12:05.735709",
     "status": "completed"
    },
    "tags": []
   },
   "outputs": [
    {
     "data": {
      "text/plain": [
       "Text(0.5, 1.0, 'Outputs')"
      ]
     },
     "execution_count": 26,
     "metadata": {},
     "output_type": "execute_result"
    },
    {
     "data": {
      "image/png": "[encoded data removed]",
      "text/plain": [
       "<Figure size 576x504 with 1 Axes>"
      ]
     },
     "metadata": {
      "needs_background": "light"
     },
     "output_type": "display_data"
    }
   ],
   "source": [
    "# Plotting the scatter plot of points and color coding by class\n",
    "plt.figure(figsize=(8,7))\n",
    "plt.scatter(testing_plot[:,0], testing_plot[:,1], alpha = 0.1, c = y_test.ravel());\n",
    "plt.title('Outputs')"
   ]
  },
  {
   "cell_type": "markdown",
   "id": "a74fcf8f",
   "metadata": {
    "papermill": {
     "duration": 0.044007,
     "end_time": "2022-06-25T20:12:06.066905",
     "exception": false,
     "start_time": "2022-06-25T20:12:06.022898",
     "status": "completed"
    },
    "tags": []
   },
   "source": [
    "Probability contours"
   ]
  },
  {
   "cell_type": "code",
   "execution_count": 27,
   "id": "d0afc8e3",
   "metadata": {
    "execution": {
     "iopub.execute_input": "2022-06-25T20:12:06.163971Z",
     "iopub.status.busy": "2022-06-25T20:12:06.163143Z",
     "iopub.status.idle": "2022-06-25T20:12:06.174581Z",
     "shell.execute_reply": "2022-06-25T20:12:06.173973Z"
    },
    "papermill": {
     "duration": 0.062944,
     "end_time": "2022-06-25T20:12:06.174700",
     "exception": false,
     "start_time": "2022-06-25T20:12:06.111756",
     "status": "completed"
    },
    "tags": []
   },
   "outputs": [],
   "source": [
    "model_prob = Model(layers[-2:]) "
   ]
  },
  {
   "cell_type": "code",
   "execution_count": 28,
   "id": "9b96e238",
   "metadata": {
    "execution": {
     "iopub.execute_input": "2022-06-25T20:12:06.283024Z",
     "iopub.status.busy": "2022-06-25T20:12:06.282385Z",
     "iopub.status.idle": "2022-06-25T20:12:06.293264Z",
     "shell.execute_reply": "2022-06-25T20:12:06.292369Z"
    },
    "papermill": {
     "duration": 0.072231,
     "end_time": "2022-06-25T20:12:06.293389",
     "exception": false,
     "start_time": "2022-06-25T20:12:06.221158",
     "status": "completed"
    },
    "tags": []
   },
   "outputs": [],
   "source": [
    "#creating the x and y ranges according to the above generated plot.\n",
    "x_range = np.linspace(-4, 1, 100) \n",
    "y_range = np.linspace(-6, 6, 100) \n",
    "x_grid, y_grid = np.meshgrid(x_range, y_range) # x_grid and y_grig are of size 100 X 100\n",
    "\n",
    "# converting x_grid and y_grid to continuous arrays\n",
    "x_gridflat = np.ravel(x_grid)\n",
    "y_gridflat = np.ravel(y_grid)\n",
    "\n",
    "# The last layer of the current model takes two columns as input. Hence transpose of np.vstack() is required.\n",
    "X = np.vstack((x_gridflat, y_gridflat)).T\n",
    "\n",
    "prob_contour = model_prob(X).reshape(100,100) "
   ]
  },
  {
   "cell_type": "code",
   "execution_count": 29,
   "id": "da72499a",
   "metadata": {
    "execution": {
     "iopub.execute_input": "2022-06-25T20:12:06.423339Z",
     "iopub.status.busy": "2022-06-25T20:12:06.422625Z",
     "iopub.status.idle": "2022-06-25T20:12:06.663800Z",
     "shell.execute_reply": "2022-06-25T20:12:06.663301Z"
    },
    "papermill": {
     "duration": 0.290519,
     "end_time": "2022-06-25T20:12:06.663926",
     "exception": false,
     "start_time": "2022-06-25T20:12:06.373407",
     "status": "completed"
    },
    "tags": []
   },
   "outputs": [
    {
     "data": {
      "image/png": "[encoded data removed]",
      "text/plain": [
       "<Figure size 720x648 with 1 Axes>"
      ]
     },
     "metadata": {
      "needs_background": "light"
     },
     "output_type": "display_data"
    }
   ],
   "source": [
    "plt.figure(figsize=(10,9))\n",
    "plt.scatter(testing_plot[:,0], testing_plot[:,1], alpha = 0.1, c = y_test.ravel())\n",
    "contours = plt.contour(x_grid,y_grid,prob_contour)\n",
    "plt.title('Probability Contours')\n",
    "plt.clabel(contours, inline = True );"
   ]
  },
  {
   "cell_type": "code",
   "execution_count": null,
   "id": "e81b4ac7",
   "metadata": {
    "papermill": {
     "duration": 0.046433,
     "end_time": "2022-06-25T20:12:06.757253",
     "exception": false,
     "start_time": "2022-06-25T20:12:06.710820",
     "status": "completed"
    },
    "tags": []
   },
   "outputs": [],
   "source": []
  }
 ],
 "metadata": {
  "kernelspec": {
   "display_name": "Python 3",
   "language": "python",
   "name": "python3"
  },
  "language_info": {
   "codemirror_mode": {
    "name": "ipython",
    "version": 3
   },
   "file_extension": ".py",
   "mimetype": "text/x-python",
   "name": "python",
   "nbconvert_exporter": "python",
   "pygments_lexer": "ipython3",
   "version": "3.6.15"
  },
  "papermill": {
   "default_parameters": {},
   "duration": 100.495216,
   "end_time": "2022-06-25T20:12:07.223629",
   "environment_variables": {},
   "exception": null,
   "input_path": "2020-08-11-part2.ipynb",
   "output_path": "2020-08-11-part2.ipynb",
   "parameters": {},
   "start_time": "2022-06-25T20:10:26.728413",
   "version": "2.3.3"
  }
 },
 "nbformat": 4,
 "nbformat_minor": 5
}