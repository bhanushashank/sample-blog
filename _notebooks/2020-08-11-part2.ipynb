{
 "cells": [
  {
   "cell_type": "markdown",
   "id": "98380cd3",
   "metadata": {
    "papermill": {
     "duration": 0.0293,
     "end_time": "2022-06-15T00:40:23.604191",
     "exception": false,
     "start_time": "2022-06-15T00:40:23.574891",
     "status": "completed"
    },
    "tags": []
   },
   "source": [
    "# Distinguish Your Own Digits (DYOD)"
   ]
  },
  {
   "cell_type": "markdown",
   "id": "ef31240d",
   "metadata": {
    "papermill": {
     "duration": 0.024148,
     "end_time": "2022-06-15T00:40:23.653075",
     "exception": false,
     "start_time": "2022-06-15T00:40:23.628927",
     "status": "completed"
    },
    "tags": []
   },
   "source": [
    "You are going to write a classifier that distinguishes between the number 3 and number 8."
   ]
  },
  {
   "cell_type": "code",
   "execution_count": 1,
   "id": "b15c8646",
   "metadata": {
    "execution": {
     "iopub.execute_input": "2022-06-15T00:40:23.710974Z",
     "iopub.status.busy": "2022-06-15T00:40:23.708669Z",
     "iopub.status.idle": "2022-06-15T00:40:23.720764Z",
     "shell.execute_reply": "2022-06-15T00:40:23.721170Z"
    },
    "papermill": {
     "duration": 0.044211,
     "end_time": "2022-06-15T00:40:23.721302",
     "exception": false,
     "start_time": "2022-06-15T00:40:23.677091",
     "status": "completed"
    },
    "tags": []
   },
   "outputs": [],
   "source": [
    "%load_ext autoreload\n",
    "%autoreload 2"
   ]
  },
  {
   "cell_type": "code",
   "execution_count": 2,
   "id": "22ef38dc",
   "metadata": {
    "execution": {
     "iopub.execute_input": "2022-06-15T00:40:23.773407Z",
     "iopub.status.busy": "2022-06-15T00:40:23.772864Z",
     "iopub.status.idle": "2022-06-15T00:40:24.275437Z",
     "shell.execute_reply": "2022-06-15T00:40:24.274531Z"
    },
    "papermill": {
     "duration": 0.530108,
     "end_time": "2022-06-15T00:40:24.275561",
     "exception": false,
     "start_time": "2022-06-15T00:40:23.745453",
     "status": "completed"
    },
    "tags": []
   },
   "outputs": [],
   "source": [
    "%matplotlib inline\n",
    "import numpy as np\n",
    "import matplotlib.pyplot as plt\n",
    "import pandas as pd"
   ]
  },
  {
   "cell_type": "markdown",
   "id": "ba036198",
   "metadata": {
    "papermill": {
     "duration": 0.024235,
     "end_time": "2022-06-15T00:40:24.324101",
     "exception": false,
     "start_time": "2022-06-15T00:40:24.299866",
     "status": "completed"
    },
    "tags": []
   },
   "source": [
    "From the command line run `pip install mnist`. This is a library that will help you bring down the mnist dataset. If you run this from a notebook, you need to put  `!pip install mnist` in a cell by itself."
   ]
  },
  {
   "cell_type": "code",
   "execution_count": 3,
   "id": "bb6ad8a1",
   "metadata": {
    "execution": {
     "iopub.execute_input": "2022-06-15T00:40:24.380927Z",
     "iopub.status.busy": "2022-06-15T00:40:24.375853Z",
     "iopub.status.idle": "2022-06-15T00:40:26.014947Z",
     "shell.execute_reply": "2022-06-15T00:40:26.014151Z"
    },
    "papermill": {
     "duration": 1.666698,
     "end_time": "2022-06-15T00:40:26.015063",
     "exception": false,
     "start_time": "2022-06-15T00:40:24.348365",
     "status": "completed"
    },
    "tags": []
   },
   "outputs": [
    {
     "name": "stdout",
     "output_type": "stream",
     "text": [
      "Collecting mnist\r\n"
     ]
    },
    {
     "name": "stdout",
     "output_type": "stream",
     "text": [
      "  Downloading mnist-0.2.2-py2.py3-none-any.whl (3.5 kB)\r\n",
      "Requirement already satisfied: numpy in /opt/hostedtoolcache/Python/3.6.15/x64/lib/python3.6/site-packages (from mnist) (1.19.5)\r\n"
     ]
    },
    {
     "name": "stdout",
     "output_type": "stream",
     "text": [
      "Installing collected packages: mnist\r\n"
     ]
    },
    {
     "name": "stdout",
     "output_type": "stream",
     "text": [
      "Successfully installed mnist-0.2.2\r\n"
     ]
    }
   ],
   "source": [
    "!pip install mnist"
   ]
  },
  {
   "cell_type": "markdown",
   "id": "69df9c9a",
   "metadata": {
    "papermill": {
     "duration": 0.025483,
     "end_time": "2022-06-15T00:40:26.066032",
     "exception": false,
     "start_time": "2022-06-15T00:40:26.040549",
     "status": "completed"
    },
    "tags": []
   },
   "source": [
    "## Preparing the Data"
   ]
  },
  {
   "cell_type": "code",
   "execution_count": 4,
   "id": "7f69d806",
   "metadata": {
    "execution": {
     "iopub.execute_input": "2022-06-15T00:40:26.120656Z",
     "iopub.status.busy": "2022-06-15T00:40:26.120087Z",
     "iopub.status.idle": "2022-06-15T00:40:26.133661Z",
     "shell.execute_reply": "2022-06-15T00:40:26.133214Z"
    },
    "papermill": {
     "duration": 0.042621,
     "end_time": "2022-06-15T00:40:26.133759",
     "exception": false,
     "start_time": "2022-06-15T00:40:26.091138",
     "status": "completed"
    },
    "tags": []
   },
   "outputs": [],
   "source": [
    "import mnist"
   ]
  },
  {
   "cell_type": "code",
   "execution_count": 5,
   "id": "a411e44f",
   "metadata": {
    "execution": {
     "iopub.execute_input": "2022-06-15T00:40:26.187286Z",
     "iopub.status.busy": "2022-06-15T00:40:26.186741Z",
     "iopub.status.idle": "2022-06-15T00:40:26.793233Z",
     "shell.execute_reply": "2022-06-15T00:40:26.792730Z"
    },
    "papermill": {
     "duration": 0.634377,
     "end_time": "2022-06-15T00:40:26.793344",
     "exception": false,
     "start_time": "2022-06-15T00:40:26.158967",
     "status": "completed"
    },
    "tags": []
   },
   "outputs": [],
   "source": [
    "train_images = mnist.train_images()\n",
    "train_labels = mnist.train_labels()"
   ]
  },
  {
   "cell_type": "code",
   "execution_count": 6,
   "id": "dceab3a5",
   "metadata": {
    "execution": {
     "iopub.execute_input": "2022-06-15T00:40:26.850107Z",
     "iopub.status.busy": "2022-06-15T00:40:26.848660Z",
     "iopub.status.idle": "2022-06-15T00:40:26.862343Z",
     "shell.execute_reply": "2022-06-15T00:40:26.861801Z"
    },
    "papermill": {
     "duration": 0.043712,
     "end_time": "2022-06-15T00:40:26.862444",
     "exception": false,
     "start_time": "2022-06-15T00:40:26.818732",
     "status": "completed"
    },
    "tags": []
   },
   "outputs": [
    {
     "data": {
      "text/plain": [
       "((60000, 28, 28), (60000,))"
      ]
     },
     "execution_count": 6,
     "metadata": {},
     "output_type": "execute_result"
    }
   ],
   "source": [
    "train_images.shape, train_labels.shape"
   ]
  },
  {
   "cell_type": "code",
   "execution_count": 7,
   "id": "f50dc2bb",
   "metadata": {
    "execution": {
     "iopub.execute_input": "2022-06-15T00:40:26.916809Z",
     "iopub.status.busy": "2022-06-15T00:40:26.916242Z",
     "iopub.status.idle": "2022-06-15T00:40:27.064612Z",
     "shell.execute_reply": "2022-06-15T00:40:27.064081Z"
    },
    "papermill": {
     "duration": 0.176882,
     "end_time": "2022-06-15T00:40:27.064726",
     "exception": false,
     "start_time": "2022-06-15T00:40:26.887844",
     "status": "completed"
    },
    "tags": []
   },
   "outputs": [],
   "source": [
    "test_images = mnist.test_images()\n",
    "test_labels = mnist.test_labels()"
   ]
  },
  {
   "cell_type": "code",
   "execution_count": 8,
   "id": "fc38cf1b",
   "metadata": {
    "execution": {
     "iopub.execute_input": "2022-06-15T00:40:27.119918Z",
     "iopub.status.busy": "2022-06-15T00:40:27.119363Z",
     "iopub.status.idle": "2022-06-15T00:40:27.131896Z",
     "shell.execute_reply": "2022-06-15T00:40:27.132345Z"
    },
    "papermill": {
     "duration": 0.04186,
     "end_time": "2022-06-15T00:40:27.132465",
     "exception": false,
     "start_time": "2022-06-15T00:40:27.090605",
     "status": "completed"
    },
    "tags": []
   },
   "outputs": [
    {
     "data": {
      "text/plain": [
       "((10000, 28, 28), (10000,))"
      ]
     },
     "execution_count": 8,
     "metadata": {},
     "output_type": "execute_result"
    }
   ],
   "source": [
    "test_images.shape, test_labels.shape"
   ]
  },
  {
   "cell_type": "code",
   "execution_count": 9,
   "id": "f9ed8fe0",
   "metadata": {
    "execution": {
     "iopub.execute_input": "2022-06-15T00:40:27.187456Z",
     "iopub.status.busy": "2022-06-15T00:40:27.186906Z",
     "iopub.status.idle": "2022-06-15T00:40:27.316926Z",
     "shell.execute_reply": "2022-06-15T00:40:27.317367Z"
    },
    "papermill": {
     "duration": 0.159214,
     "end_time": "2022-06-15T00:40:27.317492",
     "exception": false,
     "start_time": "2022-06-15T00:40:27.158278",
     "status": "completed"
    },
    "tags": []
   },
   "outputs": [
    {
     "name": "stdout",
     "output_type": "stream",
     "text": [
      "2\n"
     ]
    },
    {
     "data": {
      "text/plain": [
       "<matplotlib.image.AxesImage at 0x7f67df9c4438>"
      ]
     },
     "execution_count": 9,
     "metadata": {},
     "output_type": "execute_result"
    },
    {
     "data": {
      "image/png": "[encoded data removed]",
      "text/plain": [
       "<Figure size 432x288 with 1 Axes>"
      ]
     },
     "metadata": {
      "needs_background": "light"
     },
     "output_type": "display_data"
    }
   ],
   "source": [
    "image_index = 7776 # You may select anything up to 60,000\n",
    "print(train_labels[image_index]) \n",
    "plt.imshow(train_images[image_index], cmap='Greys')"
   ]
  },
  {
   "cell_type": "markdown",
   "id": "a8d2388d",
   "metadata": {
    "papermill": {
     "duration": 0.026808,
     "end_time": "2022-06-15T00:40:27.371450",
     "exception": false,
     "start_time": "2022-06-15T00:40:27.344642",
     "status": "completed"
    },
    "tags": []
   },
   "source": [
    "## Filter data to get 3 and 8 out"
   ]
  },
  {
   "cell_type": "code",
   "execution_count": 10,
   "id": "776f7fc7",
   "metadata": {
    "execution": {
     "iopub.execute_input": "2022-06-15T00:40:27.429267Z",
     "iopub.status.busy": "2022-06-15T00:40:27.428696Z",
     "iopub.status.idle": "2022-06-15T00:40:27.445649Z",
     "shell.execute_reply": "2022-06-15T00:40:27.445203Z"
    },
    "papermill": {
     "duration": 0.047339,
     "end_time": "2022-06-15T00:40:27.445755",
     "exception": false,
     "start_time": "2022-06-15T00:40:27.398416",
     "status": "completed"
    },
    "tags": []
   },
   "outputs": [],
   "source": [
    "train_filter = np.where((train_labels == 3 ) | (train_labels == 8))\n",
    "test_filter = np.where((test_labels == 3) | (test_labels == 8))\n",
    "X_train, y_train = train_images[train_filter], train_labels[train_filter]\n",
    "X_test, y_test = test_images[test_filter], test_labels[test_filter]"
   ]
  },
  {
   "cell_type": "markdown",
   "id": "948f0b7e",
   "metadata": {
    "papermill": {
     "duration": 0.02681,
     "end_time": "2022-06-15T00:40:27.499542",
     "exception": false,
     "start_time": "2022-06-15T00:40:27.472732",
     "status": "completed"
    },
    "tags": []
   },
   "source": [
    "We normalize the pizel values in the 0 to 1 range"
   ]
  },
  {
   "cell_type": "code",
   "execution_count": 11,
   "id": "ee4c2166",
   "metadata": {
    "execution": {
     "iopub.execute_input": "2022-06-15T00:40:27.556651Z",
     "iopub.status.busy": "2022-06-15T00:40:27.556071Z",
     "iopub.status.idle": "2022-06-15T00:40:27.597011Z",
     "shell.execute_reply": "2022-06-15T00:40:27.596555Z"
    },
    "papermill": {
     "duration": 0.070872,
     "end_time": "2022-06-15T00:40:27.597119",
     "exception": false,
     "start_time": "2022-06-15T00:40:27.526247",
     "status": "completed"
    },
    "tags": []
   },
   "outputs": [],
   "source": [
    "X_train = X_train/255.\n",
    "X_test = X_test/255."
   ]
  },
  {
   "cell_type": "markdown",
   "id": "ddcf4fab",
   "metadata": {
    "papermill": {
     "duration": 0.026706,
     "end_time": "2022-06-15T00:40:27.650845",
     "exception": false,
     "start_time": "2022-06-15T00:40:27.624139",
     "status": "completed"
    },
    "tags": []
   },
   "source": [
    "And setup the labels as 1 (when the digit is 3) and 0 (when the digit is 8)"
   ]
  },
  {
   "cell_type": "code",
   "execution_count": 12,
   "id": "7dc908f2",
   "metadata": {
    "execution": {
     "iopub.execute_input": "2022-06-15T00:40:27.707619Z",
     "iopub.status.busy": "2022-06-15T00:40:27.707074Z",
     "iopub.status.idle": "2022-06-15T00:40:27.718951Z",
     "shell.execute_reply": "2022-06-15T00:40:27.718506Z"
    },
    "papermill": {
     "duration": 0.041448,
     "end_time": "2022-06-15T00:40:27.719051",
     "exception": false,
     "start_time": "2022-06-15T00:40:27.677603",
     "status": "completed"
    },
    "tags": []
   },
   "outputs": [],
   "source": [
    "y_train = 1*(y_train==3)\n",
    "y_test = 1*(y_test==3)"
   ]
  },
  {
   "cell_type": "code",
   "execution_count": 13,
   "id": "01e4e969",
   "metadata": {
    "execution": {
     "iopub.execute_input": "2022-06-15T00:40:27.775873Z",
     "iopub.status.busy": "2022-06-15T00:40:27.775323Z",
     "iopub.status.idle": "2022-06-15T00:40:27.787928Z",
     "shell.execute_reply": "2022-06-15T00:40:27.787484Z"
    },
    "papermill": {
     "duration": 0.042195,
     "end_time": "2022-06-15T00:40:27.788023",
     "exception": false,
     "start_time": "2022-06-15T00:40:27.745828",
     "status": "completed"
    },
    "tags": []
   },
   "outputs": [
    {
     "data": {
      "text/plain": [
       "((11982, 28, 28), (1984, 28, 28))"
      ]
     },
     "execution_count": 13,
     "metadata": {},
     "output_type": "execute_result"
    }
   ],
   "source": [
    "X_train.shape, X_test.shape"
   ]
  },
  {
   "cell_type": "markdown",
   "id": "5ccf3f85",
   "metadata": {
    "papermill": {
     "duration": 0.026809,
     "end_time": "2022-06-15T00:40:27.841681",
     "exception": false,
     "start_time": "2022-06-15T00:40:27.814872",
     "status": "completed"
    },
    "tags": []
   },
   "source": [
    "We reshape the data to flatten the image pixels into a set of features or co-variates:"
   ]
  },
  {
   "cell_type": "code",
   "execution_count": 14,
   "id": "5286a4a3",
   "metadata": {
    "execution": {
     "iopub.execute_input": "2022-06-15T00:40:27.899504Z",
     "iopub.status.busy": "2022-06-15T00:40:27.898943Z",
     "iopub.status.idle": "2022-06-15T00:40:27.912408Z",
     "shell.execute_reply": "2022-06-15T00:40:27.911858Z"
    },
    "papermill": {
     "duration": 0.043701,
     "end_time": "2022-06-15T00:40:27.912508",
     "exception": false,
     "start_time": "2022-06-15T00:40:27.868807",
     "status": "completed"
    },
    "tags": []
   },
   "outputs": [
    {
     "data": {
      "text/plain": [
       "((11982, 784), (1984, 784))"
      ]
     },
     "execution_count": 14,
     "metadata": {},
     "output_type": "execute_result"
    }
   ],
   "source": [
    "X_train = X_train.reshape(X_train.shape[0], -1)\n",
    "X_test = X_test.reshape(X_test.shape[0], -1)\n",
    "X_train.shape, X_test.shape"
   ]
  },
  {
   "cell_type": "code",
   "execution_count": 15,
   "id": "73c5f88a",
   "metadata": {
    "execution": {
     "iopub.execute_input": "2022-06-15T00:40:27.971372Z",
     "iopub.status.busy": "2022-06-15T00:40:27.970819Z",
     "iopub.status.idle": "2022-06-15T00:40:27.988982Z",
     "shell.execute_reply": "2022-06-15T00:40:27.988540Z"
    },
    "papermill": {
     "duration": 0.048918,
     "end_time": "2022-06-15T00:40:27.989082",
     "exception": false,
     "start_time": "2022-06-15T00:40:27.940164",
     "status": "completed"
    },
    "tags": []
   },
   "outputs": [],
   "source": [
    "#Impoting functions from 'Kudzu'\n",
    "from kudzu.model import Model\n",
    "from kudzu.train import Learner\n",
    "from kudzu.optim import GD\n",
    "from kudzu.data import Data, Sampler,Dataloader\n",
    "\n",
    "from kudzu.callbacks import AccCallback\n",
    "from kudzu.callbacks import ClfCallback\n",
    "\n",
    "from kudzu.loss import MSE\n",
    "\n",
    "from kudzu.layer import Sigmoid,Relu\n",
    "from kudzu.layer import Affine"
   ]
  },
  {
   "cell_type": "markdown",
   "id": "bc01172a",
   "metadata": {
    "papermill": {
     "duration": 0.027463,
     "end_time": "2022-06-15T00:40:28.043997",
     "exception": false,
     "start_time": "2022-06-15T00:40:28.016534",
     "status": "completed"
    },
    "tags": []
   },
   "source": [
    "### Let us create a `Config` class, to store important parameters. \n",
    "This class essentially plays the role of a dictionary."
   ]
  },
  {
   "cell_type": "code",
   "execution_count": 16,
   "id": "978281aa",
   "metadata": {
    "execution": {
     "iopub.execute_input": "2022-06-15T00:40:28.102951Z",
     "iopub.status.busy": "2022-06-15T00:40:28.102399Z",
     "iopub.status.idle": "2022-06-15T00:40:28.113879Z",
     "shell.execute_reply": "2022-06-15T00:40:28.114304Z"
    },
    "papermill": {
     "duration": 0.042624,
     "end_time": "2022-06-15T00:40:28.114420",
     "exception": false,
     "start_time": "2022-06-15T00:40:28.071796",
     "status": "completed"
    },
    "tags": []
   },
   "outputs": [],
   "source": [
    "class Config:\n",
    "    pass\n",
    "config = Config()\n",
    "config.lr = 0.001\n",
    "config.num_epochs = 250\n",
    "config.bs = 50"
   ]
  },
  {
   "cell_type": "markdown",
   "id": "1385fa59",
   "metadata": {
    "papermill": {
     "duration": 0.027157,
     "end_time": "2022-06-15T00:40:28.168944",
     "exception": false,
     "start_time": "2022-06-15T00:40:28.141787",
     "status": "completed"
    },
    "tags": []
   },
   "source": [
    "### Running Models with the Training data\n",
    "Details about the network layers:\n",
    "- A first affine layer has 784 inputs and does 100 affine transforms. These are followed by a Relu\n",
    "- A second affine layer has 100 inputs from the 100 activations of the past layer, and does 100 affine transforms. These are followed by a Relu\n",
    "- A third affine layer has 100 activations and does 2 affine transformations to create an embedding for visualization. There is no non-linearity here.\n",
    "- A final \"logistic regression\" which has an affine transform from 2 inputs to 1 output, which is squeezed through a sigmoid.\n"
   ]
  },
  {
   "cell_type": "code",
   "execution_count": 17,
   "id": "2b9c66db",
   "metadata": {
    "execution": {
     "iopub.execute_input": "2022-06-15T00:40:28.227381Z",
     "iopub.status.busy": "2022-06-15T00:40:28.226835Z",
     "iopub.status.idle": "2022-06-15T00:40:28.238650Z",
     "shell.execute_reply": "2022-06-15T00:40:28.239094Z"
    },
    "papermill": {
     "duration": 0.043076,
     "end_time": "2022-06-15T00:40:28.239209",
     "exception": false,
     "start_time": "2022-06-15T00:40:28.196133",
     "status": "completed"
    },
    "tags": []
   },
   "outputs": [],
   "source": [
    "data = Data(X_train, y_train.reshape(-1,1))\n",
    "sampler = Sampler(data, config.bs, shuffle=True)\n",
    "\n",
    "dl = Dataloader(data, sampler)\n",
    "\n",
    "opt = GD(config.lr)\n",
    "loss = MSE()"
   ]
  },
  {
   "cell_type": "code",
   "execution_count": 18,
   "id": "b275e4c2",
   "metadata": {
    "execution": {
     "iopub.execute_input": "2022-06-15T00:40:28.297344Z",
     "iopub.status.busy": "2022-06-15T00:40:28.296791Z",
     "iopub.status.idle": "2022-06-15T00:40:28.308337Z",
     "shell.execute_reply": "2022-06-15T00:40:28.307875Z"
    },
    "papermill": {
     "duration": 0.041925,
     "end_time": "2022-06-15T00:40:28.308440",
     "exception": false,
     "start_time": "2022-06-15T00:40:28.266515",
     "status": "completed"
    },
    "tags": []
   },
   "outputs": [],
   "source": [
    "training_data_x = X_train\n",
    "testing_data_x = X_test\n",
    "training_data_y = y_train.reshape(-1,1)\n",
    "testing_data_y = y_test.reshape(-1,1)"
   ]
  },
  {
   "cell_type": "code",
   "execution_count": 19,
   "id": "76951160",
   "metadata": {
    "execution": {
     "iopub.execute_input": "2022-06-15T00:40:28.367764Z",
     "iopub.status.busy": "2022-06-15T00:40:28.367195Z",
     "iopub.status.idle": "2022-06-15T00:40:28.382995Z",
     "shell.execute_reply": "2022-06-15T00:40:28.383445Z"
    },
    "papermill": {
     "duration": 0.047851,
     "end_time": "2022-06-15T00:40:28.383564",
     "exception": false,
     "start_time": "2022-06-15T00:40:28.335713",
     "status": "completed"
    },
    "tags": []
   },
   "outputs": [
    {
     "name": "stdout",
     "output_type": "stream",
     "text": [
      "xavier\n",
      "xavier\n",
      "xavier\n",
      "xavier\n",
      "xavier\n"
     ]
    }
   ],
   "source": [
    "layers = [Affine(\"first\", 784, 100), Relu(\"first\"), Affine(\"second\", 100, 100), Relu(\"second\"), Affine(\"third\", 100, 2), Affine(\"last\", 2, 1), Sigmoid(\"last\")]\n",
    "model_nn = Model(layers)\n",
    "model_lr = Model([Affine(\"logits\", 784, 1), Sigmoid(\"sigmoid\")])"
   ]
  },
  {
   "cell_type": "code",
   "execution_count": 20,
   "id": "6eede77a",
   "metadata": {
    "execution": {
     "iopub.execute_input": "2022-06-15T00:40:28.442807Z",
     "iopub.status.busy": "2022-06-15T00:40:28.442240Z",
     "iopub.status.idle": "2022-06-15T00:40:28.454307Z",
     "shell.execute_reply": "2022-06-15T00:40:28.453775Z"
    },
    "papermill": {
     "duration": 0.043207,
     "end_time": "2022-06-15T00:40:28.454413",
     "exception": false,
     "start_time": "2022-06-15T00:40:28.411206",
     "status": "completed"
    },
    "tags": []
   },
   "outputs": [],
   "source": [
    "nn_learner = Learner(loss, model_nn, opt, config.num_epochs)\n",
    "acc_nn = ClfCallback(nn_learner, config.bs, training_data_x , testing_data_x, training_data_y, testing_data_y)\n",
    "nn_learner.set_callbacks([acc_nn])"
   ]
  },
  {
   "cell_type": "code",
   "execution_count": 21,
   "id": "877b6cc7",
   "metadata": {
    "execution": {
     "iopub.execute_input": "2022-06-15T00:40:28.513392Z",
     "iopub.status.busy": "2022-06-15T00:40:28.512825Z",
     "iopub.status.idle": "2022-06-15T00:40:28.524436Z",
     "shell.execute_reply": "2022-06-15T00:40:28.524878Z"
    },
    "papermill": {
     "duration": 0.042912,
     "end_time": "2022-06-15T00:40:28.524995",
     "exception": false,
     "start_time": "2022-06-15T00:40:28.482083",
     "status": "completed"
    },
    "tags": []
   },
   "outputs": [],
   "source": [
    "lr_learner = Learner(loss, model_lr, opt, config.num_epochs)\n",
    "acc_lr = ClfCallback(lr_learner, config.bs, training_data_x , testing_data_x, training_data_y, testing_data_y)\n",
    "lr_learner.set_callbacks([acc_lr])"
   ]
  },
  {
   "cell_type": "code",
   "execution_count": 22,
   "id": "d9b133c3",
   "metadata": {
    "execution": {
     "iopub.execute_input": "2022-06-15T00:40:28.584395Z",
     "iopub.status.busy": "2022-06-15T00:40:28.583816Z",
     "iopub.status.idle": "2022-06-15T00:43:24.471397Z",
     "shell.execute_reply": "2022-06-15T00:43:24.471859Z"
    },
    "papermill": {
     "duration": 175.918831,
     "end_time": "2022-06-15T00:43:24.471985",
     "exception": false,
     "start_time": "2022-06-15T00:40:28.553154",
     "status": "completed"
    },
    "tags": []
   },
   "outputs": [
    {
     "name": "stdout",
     "output_type": "stream",
     "text": [
      "Epoch 0, Loss 0.2479\n",
      "Training Accuracy: 0.5865, Testing Accuracy: 0.6013\n",
      "\n"
     ]
    },
    {
     "name": "stdout",
     "output_type": "stream",
     "text": [
      "Epoch 10, Loss 0.2152\n",
      "Training Accuracy: 0.8587, Testing Accuracy: 0.8644\n",
      "\n"
     ]
    },
    {
     "name": "stdout",
     "output_type": "stream",
     "text": [
      "Epoch 20, Loss 0.1227\n",
      "Training Accuracy: 0.9014, Testing Accuracy: 0.9073\n",
      "\n"
     ]
    },
    {
     "name": "stdout",
     "output_type": "stream",
     "text": [
      "Epoch 30, Loss 0.0711\n",
      "Training Accuracy: 0.9256, Testing Accuracy: 0.9350\n",
      "\n"
     ]
    },
    {
     "name": "stdout",
     "output_type": "stream",
     "text": [
      "Epoch 40, Loss 0.0525\n",
      "Training Accuracy: 0.9419, Testing Accuracy: 0.9551\n",
      "\n"
     ]
    },
    {
     "name": "stdout",
     "output_type": "stream",
     "text": [
      "Epoch 50, Loss 0.0434\n",
      "Training Accuracy: 0.9496, Testing Accuracy: 0.9627\n",
      "\n"
     ]
    },
    {
     "name": "stdout",
     "output_type": "stream",
     "text": [
      "Epoch 60, Loss 0.0382\n",
      "Training Accuracy: 0.9569, Testing Accuracy: 0.9677\n",
      "\n"
     ]
    },
    {
     "name": "stdout",
     "output_type": "stream",
     "text": [
      "Epoch 70, Loss 0.0349\n",
      "Training Accuracy: 0.9599, Testing Accuracy: 0.9672\n",
      "\n"
     ]
    },
    {
     "name": "stdout",
     "output_type": "stream",
     "text": [
      "Epoch 80, Loss 0.0326\n",
      "Training Accuracy: 0.9621, Testing Accuracy: 0.9693\n",
      "\n"
     ]
    },
    {
     "name": "stdout",
     "output_type": "stream",
     "text": [
      "Epoch 90, Loss 0.0309\n",
      "Training Accuracy: 0.9638, Testing Accuracy: 0.9703\n",
      "\n"
     ]
    },
    {
     "name": "stdout",
     "output_type": "stream",
     "text": [
      "Epoch 100, Loss 0.0294\n",
      "Training Accuracy: 0.9651, Testing Accuracy: 0.9708\n",
      "\n"
     ]
    },
    {
     "name": "stdout",
     "output_type": "stream",
     "text": [
      "Epoch 110, Loss 0.0283\n",
      "Training Accuracy: 0.9665, Testing Accuracy: 0.9698\n",
      "\n"
     ]
    },
    {
     "name": "stdout",
     "output_type": "stream",
     "text": [
      "Epoch 120, Loss 0.0273\n",
      "Training Accuracy: 0.9683, Testing Accuracy: 0.9703\n",
      "\n"
     ]
    },
    {
     "name": "stdout",
     "output_type": "stream",
     "text": [
      "Epoch 130, Loss 0.0264\n",
      "Training Accuracy: 0.9696, Testing Accuracy: 0.9708\n",
      "\n"
     ]
    },
    {
     "name": "stdout",
     "output_type": "stream",
     "text": [
      "Epoch 140, Loss 0.0256\n",
      "Training Accuracy: 0.9703, Testing Accuracy: 0.9708\n",
      "\n"
     ]
    },
    {
     "name": "stdout",
     "output_type": "stream",
     "text": [
      "Epoch 150, Loss 0.0249\n",
      "Training Accuracy: 0.9714, Testing Accuracy: 0.9708\n",
      "\n"
     ]
    },
    {
     "name": "stdout",
     "output_type": "stream",
     "text": [
      "Epoch 160, Loss 0.0242\n",
      "Training Accuracy: 0.9719, Testing Accuracy: 0.9718\n",
      "\n"
     ]
    },
    {
     "name": "stdout",
     "output_type": "stream",
     "text": [
      "Epoch 170, Loss 0.0236\n",
      "Training Accuracy: 0.9730, Testing Accuracy: 0.9723\n",
      "\n"
     ]
    },
    {
     "name": "stdout",
     "output_type": "stream",
     "text": [
      "Epoch 180, Loss 0.0231\n",
      "Training Accuracy: 0.9738, Testing Accuracy: 0.9723\n",
      "\n"
     ]
    },
    {
     "name": "stdout",
     "output_type": "stream",
     "text": [
      "Epoch 190, Loss 0.0225\n",
      "Training Accuracy: 0.9745, Testing Accuracy: 0.9738\n",
      "\n"
     ]
    },
    {
     "name": "stdout",
     "output_type": "stream",
     "text": [
      "Epoch 200, Loss 0.022\n",
      "Training Accuracy: 0.9754, Testing Accuracy: 0.9743\n",
      "\n"
     ]
    },
    {
     "name": "stdout",
     "output_type": "stream",
     "text": [
      "Epoch 210, Loss 0.0216\n",
      "Training Accuracy: 0.9757, Testing Accuracy: 0.9743\n",
      "\n"
     ]
    },
    {
     "name": "stdout",
     "output_type": "stream",
     "text": [
      "Epoch 220, Loss 0.0211\n",
      "Training Accuracy: 0.9763, Testing Accuracy: 0.9743\n",
      "\n"
     ]
    },
    {
     "name": "stdout",
     "output_type": "stream",
     "text": [
      "Epoch 230, Loss 0.0207\n",
      "Training Accuracy: 0.9769, Testing Accuracy: 0.9743\n",
      "\n"
     ]
    },
    {
     "name": "stdout",
     "output_type": "stream",
     "text": [
      "Epoch 240, Loss 0.0203\n",
      "Training Accuracy: 0.9773, Testing Accuracy: 0.9743\n",
      "\n"
     ]
    },
    {
     "data": {
      "text/plain": [
       "0.015305632336175384"
      ]
     },
     "execution_count": 22,
     "metadata": {},
     "output_type": "execute_result"
    }
   ],
   "source": [
    "nn_learner.train_loop(dl)"
   ]
  },
  {
   "cell_type": "code",
   "execution_count": 23,
   "id": "e0163366",
   "metadata": {
    "execution": {
     "iopub.execute_input": "2022-06-15T00:43:24.548630Z",
     "iopub.status.busy": "2022-06-15T00:43:24.545979Z",
     "iopub.status.idle": "2022-06-15T00:43:36.656281Z",
     "shell.execute_reply": "2022-06-15T00:43:36.657096Z"
    },
    "papermill": {
     "duration": 12.150745,
     "end_time": "2022-06-15T00:43:36.657230",
     "exception": false,
     "start_time": "2022-06-15T00:43:24.506485",
     "status": "completed"
    },
    "tags": []
   },
   "outputs": [
    {
     "name": "stdout",
     "output_type": "stream",
     "text": [
      "Epoch 0, Loss 0.2429\n",
      "Training Accuracy: 0.6590, Testing Accuracy: 0.6502\n",
      "\n"
     ]
    },
    {
     "name": "stdout",
     "output_type": "stream",
     "text": [
      "Epoch 10, Loss 0.1036\n",
      "Training Accuracy: 0.9067, Testing Accuracy: 0.9143\n",
      "\n"
     ]
    },
    {
     "name": "stdout",
     "output_type": "stream",
     "text": [
      "Epoch 20, Loss 0.0793\n",
      "Training Accuracy: 0.9259, Testing Accuracy: 0.9355\n",
      "\n"
     ]
    },
    {
     "name": "stdout",
     "output_type": "stream",
     "text": [
      "Epoch 30, Loss 0.0683\n",
      "Training Accuracy: 0.9362, Testing Accuracy: 0.9456\n",
      "\n"
     ]
    },
    {
     "name": "stdout",
     "output_type": "stream",
     "text": [
      "Epoch 40, Loss 0.0616\n",
      "Training Accuracy: 0.9410, Testing Accuracy: 0.9501\n",
      "\n"
     ]
    },
    {
     "name": "stdout",
     "output_type": "stream",
     "text": [
      "Epoch 50, Loss 0.0571\n",
      "Training Accuracy: 0.9449, Testing Accuracy: 0.9546\n",
      "\n"
     ]
    },
    {
     "name": "stdout",
     "output_type": "stream",
     "text": [
      "Epoch 60, Loss 0.0538\n",
      "Training Accuracy: 0.9485, Testing Accuracy: 0.9602\n",
      "\n"
     ]
    },
    {
     "name": "stdout",
     "output_type": "stream",
     "text": [
      "Epoch 70, Loss 0.0513\n",
      "Training Accuracy: 0.9498, Testing Accuracy: 0.9622\n",
      "\n"
     ]
    },
    {
     "name": "stdout",
     "output_type": "stream",
     "text": [
      "Epoch 80, Loss 0.0492\n",
      "Training Accuracy: 0.9515, Testing Accuracy: 0.9632\n",
      "\n"
     ]
    },
    {
     "name": "stdout",
     "output_type": "stream",
     "text": [
      "Epoch 90, Loss 0.0476\n",
      "Training Accuracy: 0.9523, Testing Accuracy: 0.9622\n",
      "\n"
     ]
    },
    {
     "name": "stdout",
     "output_type": "stream",
     "text": [
      "Epoch 100, Loss 0.0461\n",
      "Training Accuracy: 0.9534, Testing Accuracy: 0.9622\n",
      "\n"
     ]
    },
    {
     "name": "stdout",
     "output_type": "stream",
     "text": [
      "Epoch 110, Loss 0.0449\n",
      "Training Accuracy: 0.9542, Testing Accuracy: 0.9637\n",
      "\n"
     ]
    },
    {
     "name": "stdout",
     "output_type": "stream",
     "text": [
      "Epoch 120, Loss 0.0439\n",
      "Training Accuracy: 0.9550, Testing Accuracy: 0.9632\n",
      "\n"
     ]
    },
    {
     "name": "stdout",
     "output_type": "stream",
     "text": [
      "Epoch 130, Loss 0.0429\n",
      "Training Accuracy: 0.9563, Testing Accuracy: 0.9632\n",
      "\n"
     ]
    },
    {
     "name": "stdout",
     "output_type": "stream",
     "text": [
      "Epoch 140, Loss 0.0421\n",
      "Training Accuracy: 0.9569, Testing Accuracy: 0.9647\n",
      "\n"
     ]
    },
    {
     "name": "stdout",
     "output_type": "stream",
     "text": [
      "Epoch 150, Loss 0.0413\n",
      "Training Accuracy: 0.9576, Testing Accuracy: 0.9637\n",
      "\n"
     ]
    },
    {
     "name": "stdout",
     "output_type": "stream",
     "text": [
      "Epoch 160, Loss 0.0407\n",
      "Training Accuracy: 0.9581, Testing Accuracy: 0.9637\n",
      "\n"
     ]
    },
    {
     "name": "stdout",
     "output_type": "stream",
     "text": [
      "Epoch 170, Loss 0.0401\n",
      "Training Accuracy: 0.9584, Testing Accuracy: 0.9637\n",
      "\n"
     ]
    },
    {
     "name": "stdout",
     "output_type": "stream",
     "text": [
      "Epoch 180, Loss 0.0395\n",
      "Training Accuracy: 0.9587, Testing Accuracy: 0.9647\n",
      "\n"
     ]
    },
    {
     "name": "stdout",
     "output_type": "stream",
     "text": [
      "Epoch 190, Loss 0.039\n",
      "Training Accuracy: 0.9594, Testing Accuracy: 0.9647\n",
      "\n"
     ]
    },
    {
     "name": "stdout",
     "output_type": "stream",
     "text": [
      "Epoch 200, Loss 0.0385\n",
      "Training Accuracy: 0.9596, Testing Accuracy: 0.9647\n",
      "\n"
     ]
    },
    {
     "name": "stdout",
     "output_type": "stream",
     "text": [
      "Epoch 210, Loss 0.0381\n",
      "Training Accuracy: 0.9602, Testing Accuracy: 0.9652\n",
      "\n"
     ]
    },
    {
     "name": "stdout",
     "output_type": "stream",
     "text": [
      "Epoch 220, Loss 0.0376\n",
      "Training Accuracy: 0.9605, Testing Accuracy: 0.9662\n",
      "\n"
     ]
    },
    {
     "name": "stdout",
     "output_type": "stream",
     "text": [
      "Epoch 230, Loss 0.0373\n",
      "Training Accuracy: 0.9607, Testing Accuracy: 0.9667\n",
      "\n"
     ]
    },
    {
     "name": "stdout",
     "output_type": "stream",
     "text": [
      "Epoch 240, Loss 0.0369\n",
      "Training Accuracy: 0.9610, Testing Accuracy: 0.9667\n",
      "\n"
     ]
    },
    {
     "data": {
      "text/plain": [
       "0.022478662671189215"
      ]
     },
     "execution_count": 23,
     "metadata": {},
     "output_type": "execute_result"
    }
   ],
   "source": [
    "lr_learner.train_loop(dl)"
   ]
  },
  {
   "cell_type": "code",
   "execution_count": 24,
   "id": "ca410940",
   "metadata": {
    "execution": {
     "iopub.execute_input": "2022-06-15T00:43:36.751515Z",
     "iopub.status.busy": "2022-06-15T00:43:36.750025Z",
     "iopub.status.idle": "2022-06-15T00:43:36.983917Z",
     "shell.execute_reply": "2022-06-15T00:43:36.984374Z"
    },
    "papermill": {
     "duration": 0.285119,
     "end_time": "2022-06-15T00:43:36.984503",
     "exception": false,
     "start_time": "2022-06-15T00:43:36.699384",
     "status": "completed"
    },
    "tags": []
   },
   "outputs": [
    {
     "data": {
      "text/plain": [
       "<matplotlib.legend.Legend at 0x7f67df524a90>"
      ]
     },
     "execution_count": 24,
     "metadata": {},
     "output_type": "execute_result"
    },
    {
     "data": {
      "image/png": "[encoded data removed]",
      "text/plain": [
       "<Figure size 1080x720 with 1 Axes>"
      ]
     },
     "metadata": {
      "needs_background": "light"
     },
     "output_type": "display_data"
    }
   ],
   "source": [
    "#comparing the results of NN and LR\n",
    "plt.figure(figsize=(15,10))\n",
    "\n",
    "# Neural Network plots\n",
    "plt.plot(acc_nn.accuracies, 'r-', label = \"Training Accuracies - NN\")\n",
    "plt.plot(acc_nn.test_accuracies, 'g-', label = \"Testing Accuracies - NN\")\n",
    "\n",
    "# Logistic Regression plots\n",
    "plt.plot(acc_lr.accuracies, 'k-', label = \"Training Accuracies - LR\")\n",
    "plt.plot(acc_lr.test_accuracies, 'b-', label = \"Testing Accuracies - LR\")\n",
    "plt.legend()"
   ]
  },
  {
   "cell_type": "markdown",
   "id": "80dfb35c",
   "metadata": {
    "papermill": {
     "duration": 0.042683,
     "end_time": "2022-06-15T00:43:37.071680",
     "exception": false,
     "start_time": "2022-06-15T00:43:37.028997",
     "status": "completed"
    },
    "tags": []
   },
   "source": [
    "#### Plotting the outputs of this layer of the NN.\n"
   ]
  },
  {
   "cell_type": "code",
   "execution_count": 25,
   "id": "45eb2ff5",
   "metadata": {
    "execution": {
     "iopub.execute_input": "2022-06-15T00:43:37.162940Z",
     "iopub.status.busy": "2022-06-15T00:43:37.162149Z",
     "iopub.status.idle": "2022-06-15T00:43:37.202764Z",
     "shell.execute_reply": "2022-06-15T00:43:37.202290Z"
    },
    "papermill": {
     "duration": 0.088519,
     "end_time": "2022-06-15T00:43:37.202879",
     "exception": false,
     "start_time": "2022-06-15T00:43:37.114360",
     "status": "completed"
    },
    "tags": []
   },
   "outputs": [],
   "source": [
    "new_model = Model(layers[:-2])\n",
    "testing_plot = new_model(testing_data_x)"
   ]
  },
  {
   "cell_type": "code",
   "execution_count": 26,
   "id": "4c0a5485",
   "metadata": {
    "execution": {
     "iopub.execute_input": "2022-06-15T00:43:37.298385Z",
     "iopub.status.busy": "2022-06-15T00:43:37.295423Z",
     "iopub.status.idle": "2022-06-15T00:43:37.511148Z",
     "shell.execute_reply": "2022-06-15T00:43:37.510673Z"
    },
    "papermill": {
     "duration": 0.264526,
     "end_time": "2022-06-15T00:43:37.511257",
     "exception": false,
     "start_time": "2022-06-15T00:43:37.246731",
     "status": "completed"
    },
    "tags": []
   },
   "outputs": [
    {
     "data": {
      "text/plain": [
       "Text(0.5, 1.0, 'Outputs')"
      ]
     },
     "execution_count": 26,
     "metadata": {},
     "output_type": "execute_result"
    },
    {
     "data": {
      "image/png": "[encoded data removed]",
      "text/plain": [
       "<Figure size 576x504 with 1 Axes>"
      ]
     },
     "metadata": {
      "needs_background": "light"
     },
     "output_type": "display_data"
    }
   ],
   "source": [
    "# Plotting the scatter plot of points and color coding by class\n",
    "plt.figure(figsize=(8,7))\n",
    "plt.scatter(testing_plot[:,0], testing_plot[:,1], alpha = 0.1, c = y_test.ravel());\n",
    "plt.title('Outputs')"
   ]
  },
  {
   "cell_type": "markdown",
   "id": "a74fcf8f",
   "metadata": {
    "papermill": {
     "duration": 0.045241,
     "end_time": "2022-06-15T00:43:37.624869",
     "exception": false,
     "start_time": "2022-06-15T00:43:37.579628",
     "status": "completed"
    },
    "tags": []
   },
   "source": [
    "Probability contours"
   ]
  },
  {
   "cell_type": "code",
   "execution_count": 27,
   "id": "d0afc8e3",
   "metadata": {
    "execution": {
     "iopub.execute_input": "2022-06-15T00:43:37.720915Z",
     "iopub.status.busy": "2022-06-15T00:43:37.718577Z",
     "iopub.status.idle": "2022-06-15T00:43:37.729823Z",
     "shell.execute_reply": "2022-06-15T00:43:37.730244Z"
    },
    "papermill": {
     "duration": 0.060133,
     "end_time": "2022-06-15T00:43:37.730363",
     "exception": false,
     "start_time": "2022-06-15T00:43:37.670230",
     "status": "completed"
    },
    "tags": []
   },
   "outputs": [],
   "source": [
    "model_prob = Model(layers[-2:]) "
   ]
  },
  {
   "cell_type": "code",
   "execution_count": 28,
   "id": "9b96e238",
   "metadata": {
    "execution": {
     "iopub.execute_input": "2022-06-15T00:43:37.825209Z",
     "iopub.status.busy": "2022-06-15T00:43:37.824660Z",
     "iopub.status.idle": "2022-06-15T00:43:37.837527Z",
     "shell.execute_reply": "2022-06-15T00:43:37.837946Z"
    },
    "papermill": {
     "duration": 0.062453,
     "end_time": "2022-06-15T00:43:37.838071",
     "exception": false,
     "start_time": "2022-06-15T00:43:37.775618",
     "status": "completed"
    },
    "tags": []
   },
   "outputs": [],
   "source": [
    "#creating the x and y ranges according to the above generated plot.\n",
    "x_range = np.linspace(-4, 1, 100) \n",
    "y_range = np.linspace(-6, 6, 100) \n",
    "x_grid, y_grid = np.meshgrid(x_range, y_range) # x_grid and y_grig are of size 100 X 100\n",
    "\n",
    "# converting x_grid and y_grid to continuous arrays\n",
    "x_gridflat = np.ravel(x_grid)\n",
    "y_gridflat = np.ravel(y_grid)\n",
    "\n",
    "# The last layer of the current model takes two columns as input. Hence transpose of np.vstack() is required.\n",
    "X = np.vstack((x_gridflat, y_gridflat)).T\n",
    "\n",
    "prob_contour = model_prob(X).reshape(100,100) "
   ]
  },
  {
   "cell_type": "code",
   "execution_count": 29,
   "id": "da72499a",
   "metadata": {
    "execution": {
     "iopub.execute_input": "2022-06-15T00:43:37.934404Z",
     "iopub.status.busy": "2022-06-15T00:43:37.933852Z",
     "iopub.status.idle": "2022-06-15T00:43:38.187020Z",
     "shell.execute_reply": "2022-06-15T00:43:38.185954Z"
    },
    "papermill": {
     "duration": 0.302615,
     "end_time": "2022-06-15T00:43:38.187136",
     "exception": false,
     "start_time": "2022-06-15T00:43:37.884521",
     "status": "completed"
    },
    "tags": []
   },
   "outputs": [
    {
     "data": {
      "image/png": "[encoded data removed]",
      "text/plain": [
       "<Figure size 720x648 with 1 Axes>"
      ]
     },
     "metadata": {
      "needs_background": "light"
     },
     "output_type": "display_data"
    }
   ],
   "source": [
    "plt.figure(figsize=(10,9))\n",
    "plt.scatter(testing_plot[:,0], testing_plot[:,1], alpha = 0.1, c = y_test.ravel())\n",
    "contours = plt.contour(x_grid,y_grid,prob_contour)\n",
    "plt.title('Probability Contours')\n",
    "plt.clabel(contours, inline = True );"
   ]
  },
  {
   "cell_type": "code",
   "execution_count": null,
   "id": "e81b4ac7",
   "metadata": {
    "papermill": {
     "duration": 0.047799,
     "end_time": "2022-06-15T00:43:38.283436",
     "exception": false,
     "start_time": "2022-06-15T00:43:38.235637",
     "status": "completed"
    },
    "tags": []
   },
   "outputs": [],
   "source": []
  }
 ],
 "metadata": {
  "kernelspec": {
   "display_name": "Python 3",
   "language": "python",
   "name": "python3"
  },
  "language_info": {
   "codemirror_mode": {
    "name": "ipython",
    "version": 3
   },
   "file_extension": ".py",
   "mimetype": "text/x-python",
   "name": "python",
   "nbconvert_exporter": "python",
   "pygments_lexer": "ipython3",
   "version": "3.6.15"
  },
  "papermill": {
   "default_parameters": {},
   "duration": 196.004091,
   "end_time": "2022-06-15T00:43:38.651138",
   "environment_variables": {},
   "exception": null,
   "input_path": "2020-08-11-part2.ipynb",
   "output_path": "2020-08-11-part2.ipynb",
   "parameters": {},
   "start_time": "2022-06-15T00:40:22.647047",
   "version": "2.3.3"
  }
 },
 "nbformat": 4,
 "nbformat_minor": 5
}