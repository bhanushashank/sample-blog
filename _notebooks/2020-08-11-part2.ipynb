{
 "cells": [
  {
   "cell_type": "markdown",
   "id": "98380cd3",
   "metadata": {
    "papermill": {
     "duration": 0.030648,
     "end_time": "2022-09-17T20:10:35.571660",
     "exception": false,
     "start_time": "2022-09-17T20:10:35.541012",
     "status": "completed"
    },
    "tags": []
   },
   "source": [
    "# Distinguish Your Own Digits (DYOD)"
   ]
  },
  {
   "cell_type": "markdown",
   "id": "ef31240d",
   "metadata": {
    "papermill": {
     "duration": 0.024241,
     "end_time": "2022-09-17T20:10:35.621764",
     "exception": false,
     "start_time": "2022-09-17T20:10:35.597523",
     "status": "completed"
    },
    "tags": []
   },
   "source": [
    "You are going to write a classifier that distinguishes between the number 3 and number 8."
   ]
  },
  {
   "cell_type": "code",
   "execution_count": 1,
   "id": "b15c8646",
   "metadata": {
    "execution": {
     "iopub.execute_input": "2022-09-17T20:10:35.681602Z",
     "iopub.status.busy": "2022-09-17T20:10:35.680963Z",
     "iopub.status.idle": "2022-09-17T20:10:35.692021Z",
     "shell.execute_reply": "2022-09-17T20:10:35.692558Z"
    },
    "papermill": {
     "duration": 0.046837,
     "end_time": "2022-09-17T20:10:35.692720",
     "exception": false,
     "start_time": "2022-09-17T20:10:35.645883",
     "status": "completed"
    },
    "tags": []
   },
   "outputs": [],
   "source": [
    "%load_ext autoreload\n",
    "%autoreload 2"
   ]
  },
  {
   "cell_type": "code",
   "execution_count": 2,
   "id": "22ef38dc",
   "metadata": {
    "execution": {
     "iopub.execute_input": "2022-09-17T20:10:35.746686Z",
     "iopub.status.busy": "2022-09-17T20:10:35.746092Z",
     "iopub.status.idle": "2022-09-17T20:10:36.307878Z",
     "shell.execute_reply": "2022-09-17T20:10:36.306865Z"
    },
    "papermill": {
     "duration": 0.590786,
     "end_time": "2022-09-17T20:10:36.308021",
     "exception": false,
     "start_time": "2022-09-17T20:10:35.717235",
     "status": "completed"
    },
    "tags": []
   },
   "outputs": [],
   "source": [
    "%matplotlib inline\n",
    "import numpy as np\n",
    "import matplotlib.pyplot as plt\n",
    "import pandas as pd"
   ]
  },
  {
   "cell_type": "markdown",
   "id": "ba036198",
   "metadata": {
    "papermill": {
     "duration": 0.024125,
     "end_time": "2022-09-17T20:10:36.356555",
     "exception": false,
     "start_time": "2022-09-17T20:10:36.332430",
     "status": "completed"
    },
    "tags": []
   },
   "source": [
    "From the command line run `pip install mnist`. This is a library that will help you bring down the mnist dataset. If you run this from a notebook, you need to put  `!pip install mnist` in a cell by itself."
   ]
  },
  {
   "cell_type": "code",
   "execution_count": 3,
   "id": "bb6ad8a1",
   "metadata": {
    "execution": {
     "iopub.execute_input": "2022-09-17T20:10:36.409662Z",
     "iopub.status.busy": "2022-09-17T20:10:36.409067Z",
     "iopub.status.idle": "2022-09-17T20:10:38.031987Z",
     "shell.execute_reply": "2022-09-17T20:10:38.031407Z"
    },
    "papermill": {
     "duration": 1.651402,
     "end_time": "2022-09-17T20:10:38.032143",
     "exception": false,
     "start_time": "2022-09-17T20:10:36.380741",
     "status": "completed"
    },
    "tags": []
   },
   "outputs": [
    {
     "name": "stdout",
     "output_type": "stream",
     "text": [
      "Collecting mnist\r\n",
      "  Downloading mnist-0.2.2-py2.py3-none-any.whl (3.5 kB)\r\n"
     ]
    },
    {
     "name": "stdout",
     "output_type": "stream",
     "text": [
      "Requirement already satisfied: numpy in /opt/hostedtoolcache/Python/3.6.15/x64/lib/python3.6/site-packages (from mnist) (1.19.5)\r\n"
     ]
    },
    {
     "name": "stdout",
     "output_type": "stream",
     "text": [
      "Installing collected packages: mnist\r\n",
      "Successfully installed mnist-0.2.2\r\n"
     ]
    }
   ],
   "source": [
    "!pip install mnist"
   ]
  },
  {
   "cell_type": "markdown",
   "id": "69df9c9a",
   "metadata": {
    "papermill": {
     "duration": 0.025026,
     "end_time": "2022-09-17T20:10:38.083017",
     "exception": false,
     "start_time": "2022-09-17T20:10:38.057991",
     "status": "completed"
    },
    "tags": []
   },
   "source": [
    "## Preparing the Data"
   ]
  },
  {
   "cell_type": "code",
   "execution_count": 4,
   "id": "7f69d806",
   "metadata": {
    "execution": {
     "iopub.execute_input": "2022-09-17T20:10:38.150332Z",
     "iopub.status.busy": "2022-09-17T20:10:38.136860Z",
     "iopub.status.idle": "2022-09-17T20:10:38.154443Z",
     "shell.execute_reply": "2022-09-17T20:10:38.153921Z"
    },
    "papermill": {
     "duration": 0.046545,
     "end_time": "2022-09-17T20:10:38.154558",
     "exception": false,
     "start_time": "2022-09-17T20:10:38.108013",
     "status": "completed"
    },
    "tags": []
   },
   "outputs": [],
   "source": [
    "import mnist"
   ]
  },
  {
   "cell_type": "code",
   "execution_count": 5,
   "id": "a411e44f",
   "metadata": {
    "execution": {
     "iopub.execute_input": "2022-09-17T20:10:38.214134Z",
     "iopub.status.busy": "2022-09-17T20:10:38.210897Z",
     "iopub.status.idle": "2022-09-17T20:10:38.817856Z",
     "shell.execute_reply": "2022-09-17T20:10:38.816664Z"
    },
    "papermill": {
     "duration": 0.638168,
     "end_time": "2022-09-17T20:10:38.817983",
     "exception": false,
     "start_time": "2022-09-17T20:10:38.179815",
     "status": "completed"
    },
    "tags": []
   },
   "outputs": [],
   "source": [
    "train_images = mnist.train_images()\n",
    "train_labels = mnist.train_labels()"
   ]
  },
  {
   "cell_type": "code",
   "execution_count": 6,
   "id": "dceab3a5",
   "metadata": {
    "execution": {
     "iopub.execute_input": "2022-09-17T20:10:38.877133Z",
     "iopub.status.busy": "2022-09-17T20:10:38.871603Z",
     "iopub.status.idle": "2022-09-17T20:10:38.886844Z",
     "shell.execute_reply": "2022-09-17T20:10:38.886355Z"
    },
    "papermill": {
     "duration": 0.043838,
     "end_time": "2022-09-17T20:10:38.886961",
     "exception": false,
     "start_time": "2022-09-17T20:10:38.843123",
     "status": "completed"
    },
    "tags": []
   },
   "outputs": [
    {
     "data": {
      "text/plain": [
       "((60000, 28, 28), (60000,))"
      ]
     },
     "execution_count": 6,
     "metadata": {},
     "output_type": "execute_result"
    }
   ],
   "source": [
    "train_images.shape, train_labels.shape"
   ]
  },
  {
   "cell_type": "code",
   "execution_count": 7,
   "id": "f50dc2bb",
   "metadata": {
    "execution": {
     "iopub.execute_input": "2022-09-17T20:10:38.945113Z",
     "iopub.status.busy": "2022-09-17T20:10:38.944498Z",
     "iopub.status.idle": "2022-09-17T20:10:39.083213Z",
     "shell.execute_reply": "2022-09-17T20:10:39.082659Z"
    },
    "papermill": {
     "duration": 0.171018,
     "end_time": "2022-09-17T20:10:39.083329",
     "exception": false,
     "start_time": "2022-09-17T20:10:38.912311",
     "status": "completed"
    },
    "tags": []
   },
   "outputs": [],
   "source": [
    "test_images = mnist.test_images()\n",
    "test_labels = mnist.test_labels()"
   ]
  },
  {
   "cell_type": "code",
   "execution_count": 8,
   "id": "fc38cf1b",
   "metadata": {
    "execution": {
     "iopub.execute_input": "2022-09-17T20:10:39.138547Z",
     "iopub.status.busy": "2022-09-17T20:10:39.137923Z",
     "iopub.status.idle": "2022-09-17T20:10:39.152674Z",
     "shell.execute_reply": "2022-09-17T20:10:39.152166Z"
    },
    "papermill": {
     "duration": 0.043967,
     "end_time": "2022-09-17T20:10:39.152794",
     "exception": false,
     "start_time": "2022-09-17T20:10:39.108827",
     "status": "completed"
    },
    "tags": []
   },
   "outputs": [
    {
     "data": {
      "text/plain": [
       "((10000, 28, 28), (10000,))"
      ]
     },
     "execution_count": 8,
     "metadata": {},
     "output_type": "execute_result"
    }
   ],
   "source": [
    "test_images.shape, test_labels.shape"
   ]
  },
  {
   "cell_type": "code",
   "execution_count": 9,
   "id": "f9ed8fe0",
   "metadata": {
    "execution": {
     "iopub.execute_input": "2022-09-17T20:10:39.208062Z",
     "iopub.status.busy": "2022-09-17T20:10:39.207480Z",
     "iopub.status.idle": "2022-09-17T20:10:39.348070Z",
     "shell.execute_reply": "2022-09-17T20:10:39.348572Z"
    },
    "papermill": {
     "duration": 0.170375,
     "end_time": "2022-09-17T20:10:39.348716",
     "exception": false,
     "start_time": "2022-09-17T20:10:39.178341",
     "status": "completed"
    },
    "tags": []
   },
   "outputs": [
    {
     "name": "stdout",
     "output_type": "stream",
     "text": [
      "2\n"
     ]
    },
    {
     "data": {
      "text/plain": [
       "<matplotlib.image.AxesImage at 0x7fb8a354dba8>"
      ]
     },
     "execution_count": 9,
     "metadata": {},
     "output_type": "execute_result"
    },
    {
     "data": {
      "image/png": "[encoded data removed]",
      "text/plain": [
       "<Figure size 432x288 with 1 Axes>"
      ]
     },
     "metadata": {
      "needs_background": "light"
     },
     "output_type": "display_data"
    }
   ],
   "source": [
    "image_index = 7776 # You may select anything up to 60,000\n",
    "print(train_labels[image_index]) \n",
    "plt.imshow(train_images[image_index], cmap='Greys')"
   ]
  },
  {
   "cell_type": "markdown",
   "id": "a8d2388d",
   "metadata": {
    "papermill": {
     "duration": 0.026737,
     "end_time": "2022-09-17T20:10:39.402275",
     "exception": false,
     "start_time": "2022-09-17T20:10:39.375538",
     "status": "completed"
    },
    "tags": []
   },
   "source": [
    "## Filter data to get 3 and 8 out"
   ]
  },
  {
   "cell_type": "code",
   "execution_count": 10,
   "id": "776f7fc7",
   "metadata": {
    "execution": {
     "iopub.execute_input": "2022-09-17T20:10:39.460372Z",
     "iopub.status.busy": "2022-09-17T20:10:39.459731Z",
     "iopub.status.idle": "2022-09-17T20:10:39.478508Z",
     "shell.execute_reply": "2022-09-17T20:10:39.477996Z"
    },
    "papermill": {
     "duration": 0.049722,
     "end_time": "2022-09-17T20:10:39.478627",
     "exception": false,
     "start_time": "2022-09-17T20:10:39.428905",
     "status": "completed"
    },
    "tags": []
   },
   "outputs": [],
   "source": [
    "train_filter = np.where((train_labels == 3 ) | (train_labels == 8))\n",
    "test_filter = np.where((test_labels == 3) | (test_labels == 8))\n",
    "X_train, y_train = train_images[train_filter], train_labels[train_filter]\n",
    "X_test, y_test = test_images[test_filter], test_labels[test_filter]"
   ]
  },
  {
   "cell_type": "markdown",
   "id": "948f0b7e",
   "metadata": {
    "papermill": {
     "duration": 0.027065,
     "end_time": "2022-09-17T20:10:39.532618",
     "exception": false,
     "start_time": "2022-09-17T20:10:39.505553",
     "status": "completed"
    },
    "tags": []
   },
   "source": [
    "We normalize the pizel values in the 0 to 1 range"
   ]
  },
  {
   "cell_type": "code",
   "execution_count": 11,
   "id": "ee4c2166",
   "metadata": {
    "execution": {
     "iopub.execute_input": "2022-09-17T20:10:39.589995Z",
     "iopub.status.busy": "2022-09-17T20:10:39.589395Z",
     "iopub.status.idle": "2022-09-17T20:10:39.638224Z",
     "shell.execute_reply": "2022-09-17T20:10:39.637627Z"
    },
    "papermill": {
     "duration": 0.079165,
     "end_time": "2022-09-17T20:10:39.638357",
     "exception": false,
     "start_time": "2022-09-17T20:10:39.559192",
     "status": "completed"
    },
    "tags": []
   },
   "outputs": [],
   "source": [
    "X_train = X_train/255.\n",
    "X_test = X_test/255."
   ]
  },
  {
   "cell_type": "markdown",
   "id": "ddcf4fab",
   "metadata": {
    "papermill": {
     "duration": 0.026769,
     "end_time": "2022-09-17T20:10:39.692462",
     "exception": false,
     "start_time": "2022-09-17T20:10:39.665693",
     "status": "completed"
    },
    "tags": []
   },
   "source": [
    "And setup the labels as 1 (when the digit is 3) and 0 (when the digit is 8)"
   ]
  },
  {
   "cell_type": "code",
   "execution_count": 12,
   "id": "7dc908f2",
   "metadata": {
    "execution": {
     "iopub.execute_input": "2022-09-17T20:10:39.749853Z",
     "iopub.status.busy": "2022-09-17T20:10:39.749271Z",
     "iopub.status.idle": "2022-09-17T20:10:39.762717Z",
     "shell.execute_reply": "2022-09-17T20:10:39.762219Z"
    },
    "papermill": {
     "duration": 0.043781,
     "end_time": "2022-09-17T20:10:39.762830",
     "exception": false,
     "start_time": "2022-09-17T20:10:39.719049",
     "status": "completed"
    },
    "tags": []
   },
   "outputs": [],
   "source": [
    "y_train = 1*(y_train==3)\n",
    "y_test = 1*(y_test==3)"
   ]
  },
  {
   "cell_type": "code",
   "execution_count": 13,
   "id": "01e4e969",
   "metadata": {
    "execution": {
     "iopub.execute_input": "2022-09-17T20:10:39.820505Z",
     "iopub.status.busy": "2022-09-17T20:10:39.819867Z",
     "iopub.status.idle": "2022-09-17T20:10:39.834214Z",
     "shell.execute_reply": "2022-09-17T20:10:39.834783Z"
    },
    "papermill": {
     "duration": 0.045212,
     "end_time": "2022-09-17T20:10:39.834920",
     "exception": false,
     "start_time": "2022-09-17T20:10:39.789708",
     "status": "completed"
    },
    "tags": []
   },
   "outputs": [
    {
     "data": {
      "text/plain": [
       "((11982, 28, 28), (1984, 28, 28))"
      ]
     },
     "execution_count": 13,
     "metadata": {},
     "output_type": "execute_result"
    }
   ],
   "source": [
    "X_train.shape, X_test.shape"
   ]
  },
  {
   "cell_type": "markdown",
   "id": "5ccf3f85",
   "metadata": {
    "papermill": {
     "duration": 0.026771,
     "end_time": "2022-09-17T20:10:39.888498",
     "exception": false,
     "start_time": "2022-09-17T20:10:39.861727",
     "status": "completed"
    },
    "tags": []
   },
   "source": [
    "We reshape the data to flatten the image pixels into a set of features or co-variates:"
   ]
  },
  {
   "cell_type": "code",
   "execution_count": 14,
   "id": "5286a4a3",
   "metadata": {
    "execution": {
     "iopub.execute_input": "2022-09-17T20:10:39.945787Z",
     "iopub.status.busy": "2022-09-17T20:10:39.945163Z",
     "iopub.status.idle": "2022-09-17T20:10:39.960238Z",
     "shell.execute_reply": "2022-09-17T20:10:39.960725Z"
    },
    "papermill": {
     "duration": 0.045267,
     "end_time": "2022-09-17T20:10:39.960859",
     "exception": false,
     "start_time": "2022-09-17T20:10:39.915592",
     "status": "completed"
    },
    "tags": []
   },
   "outputs": [
    {
     "data": {
      "text/plain": [
       "((11982, 784), (1984, 784))"
      ]
     },
     "execution_count": 14,
     "metadata": {},
     "output_type": "execute_result"
    }
   ],
   "source": [
    "X_train = X_train.reshape(X_train.shape[0], -1)\n",
    "X_test = X_test.reshape(X_test.shape[0], -1)\n",
    "X_train.shape, X_test.shape"
   ]
  },
  {
   "cell_type": "code",
   "execution_count": 15,
   "id": "73c5f88a",
   "metadata": {
    "execution": {
     "iopub.execute_input": "2022-09-17T20:10:40.023404Z",
     "iopub.status.busy": "2022-09-17T20:10:40.022750Z",
     "iopub.status.idle": "2022-09-17T20:10:40.040710Z",
     "shell.execute_reply": "2022-09-17T20:10:40.040219Z"
    },
    "papermill": {
     "duration": 0.052571,
     "end_time": "2022-09-17T20:10:40.040828",
     "exception": false,
     "start_time": "2022-09-17T20:10:39.988257",
     "status": "completed"
    },
    "tags": []
   },
   "outputs": [],
   "source": [
    "#Impoting functions from 'Kudzu'\n",
    "from kudzu.model import Model\n",
    "from kudzu.train import Learner\n",
    "from kudzu.optim import GD\n",
    "from kudzu.data import Data, Sampler,Dataloader\n",
    "\n",
    "from kudzu.callbacks import AccCallback\n",
    "from kudzu.callbacks import ClfCallback\n",
    "\n",
    "from kudzu.loss import MSE\n",
    "\n",
    "from kudzu.layer import Sigmoid,Relu\n",
    "from kudzu.layer import Affine"
   ]
  },
  {
   "cell_type": "markdown",
   "id": "bc01172a",
   "metadata": {
    "papermill": {
     "duration": 0.027042,
     "end_time": "2022-09-17T20:10:40.095339",
     "exception": false,
     "start_time": "2022-09-17T20:10:40.068297",
     "status": "completed"
    },
    "tags": []
   },
   "source": [
    "### Let us create a `Config` class, to store important parameters. \n",
    "This class essentially plays the role of a dictionary."
   ]
  },
  {
   "cell_type": "code",
   "execution_count": 16,
   "id": "978281aa",
   "metadata": {
    "execution": {
     "iopub.execute_input": "2022-09-17T20:10:40.154545Z",
     "iopub.status.busy": "2022-09-17T20:10:40.153917Z",
     "iopub.status.idle": "2022-09-17T20:10:40.166278Z",
     "shell.execute_reply": "2022-09-17T20:10:40.165697Z"
    },
    "papermill": {
     "duration": 0.043831,
     "end_time": "2022-09-17T20:10:40.166393",
     "exception": false,
     "start_time": "2022-09-17T20:10:40.122562",
     "status": "completed"
    },
    "tags": []
   },
   "outputs": [],
   "source": [
    "class Config:\n",
    "    pass\n",
    "config = Config()\n",
    "config.lr = 0.001\n",
    "config.num_epochs = 250\n",
    "config.bs = 50"
   ]
  },
  {
   "cell_type": "markdown",
   "id": "1385fa59",
   "metadata": {
    "papermill": {
     "duration": 0.027268,
     "end_time": "2022-09-17T20:10:40.221036",
     "exception": false,
     "start_time": "2022-09-17T20:10:40.193768",
     "status": "completed"
    },
    "tags": []
   },
   "source": [
    "### Running Models with the Training data\n",
    "Details about the network layers:\n",
    "- A first affine layer has 784 inputs and does 100 affine transforms. These are followed by a Relu\n",
    "- A second affine layer has 100 inputs from the 100 activations of the past layer, and does 100 affine transforms. These are followed by a Relu\n",
    "- A third affine layer has 100 activations and does 2 affine transformations to create an embedding for visualization. There is no non-linearity here.\n",
    "- A final \"logistic regression\" which has an affine transform from 2 inputs to 1 output, which is squeezed through a sigmoid.\n"
   ]
  },
  {
   "cell_type": "code",
   "execution_count": 17,
   "id": "2b9c66db",
   "metadata": {
    "execution": {
     "iopub.execute_input": "2022-09-17T20:10:40.280002Z",
     "iopub.status.busy": "2022-09-17T20:10:40.279398Z",
     "iopub.status.idle": "2022-09-17T20:10:40.293261Z",
     "shell.execute_reply": "2022-09-17T20:10:40.292745Z"
    },
    "papermill": {
     "duration": 0.045151,
     "end_time": "2022-09-17T20:10:40.293376",
     "exception": false,
     "start_time": "2022-09-17T20:10:40.248225",
     "status": "completed"
    },
    "tags": []
   },
   "outputs": [],
   "source": [
    "data = Data(X_train, y_train.reshape(-1,1))\n",
    "sampler = Sampler(data, config.bs, shuffle=True)\n",
    "\n",
    "dl = Dataloader(data, sampler)\n",
    "\n",
    "opt = GD(config.lr)\n",
    "loss = MSE()"
   ]
  },
  {
   "cell_type": "code",
   "execution_count": 18,
   "id": "b275e4c2",
   "metadata": {
    "execution": {
     "iopub.execute_input": "2022-09-17T20:10:40.352390Z",
     "iopub.status.busy": "2022-09-17T20:10:40.351770Z",
     "iopub.status.idle": "2022-09-17T20:10:40.364910Z",
     "shell.execute_reply": "2022-09-17T20:10:40.364322Z"
    },
    "papermill": {
     "duration": 0.044167,
     "end_time": "2022-09-17T20:10:40.365021",
     "exception": false,
     "start_time": "2022-09-17T20:10:40.320854",
     "status": "completed"
    },
    "tags": []
   },
   "outputs": [],
   "source": [
    "training_data_x = X_train\n",
    "testing_data_x = X_test\n",
    "training_data_y = y_train.reshape(-1,1)\n",
    "testing_data_y = y_test.reshape(-1,1)"
   ]
  },
  {
   "cell_type": "code",
   "execution_count": 19,
   "id": "76951160",
   "metadata": {
    "execution": {
     "iopub.execute_input": "2022-09-17T20:10:40.424388Z",
     "iopub.status.busy": "2022-09-17T20:10:40.423753Z",
     "iopub.status.idle": "2022-09-17T20:10:40.440782Z",
     "shell.execute_reply": "2022-09-17T20:10:40.441259Z"
    },
    "papermill": {
     "duration": 0.049074,
     "end_time": "2022-09-17T20:10:40.441393",
     "exception": false,
     "start_time": "2022-09-17T20:10:40.392319",
     "status": "completed"
    },
    "tags": []
   },
   "outputs": [
    {
     "name": "stdout",
     "output_type": "stream",
     "text": [
      "xavier\n",
      "xavier\n",
      "xavier\n",
      "xavier\n",
      "xavier\n"
     ]
    }
   ],
   "source": [
    "layers = [Affine(\"first\", 784, 100), Relu(\"first\"), Affine(\"second\", 100, 100), Relu(\"second\"), Affine(\"third\", 100, 2), Affine(\"last\", 2, 1), Sigmoid(\"last\")]\n",
    "model_nn = Model(layers)\n",
    "model_lr = Model([Affine(\"logits\", 784, 1), Sigmoid(\"sigmoid\")])"
   ]
  },
  {
   "cell_type": "code",
   "execution_count": 20,
   "id": "6eede77a",
   "metadata": {
    "execution": {
     "iopub.execute_input": "2022-09-17T20:10:40.500883Z",
     "iopub.status.busy": "2022-09-17T20:10:40.500261Z",
     "iopub.status.idle": "2022-09-17T20:10:40.513661Z",
     "shell.execute_reply": "2022-09-17T20:10:40.512849Z"
    },
    "papermill": {
     "duration": 0.044786,
     "end_time": "2022-09-17T20:10:40.513787",
     "exception": false,
     "start_time": "2022-09-17T20:10:40.469001",
     "status": "completed"
    },
    "tags": []
   },
   "outputs": [],
   "source": [
    "nn_learner = Learner(loss, model_nn, opt, config.num_epochs)\n",
    "acc_nn = ClfCallback(nn_learner, config.bs, training_data_x , testing_data_x, training_data_y, testing_data_y)\n",
    "nn_learner.set_callbacks([acc_nn])"
   ]
  },
  {
   "cell_type": "code",
   "execution_count": 21,
   "id": "877b6cc7",
   "metadata": {
    "execution": {
     "iopub.execute_input": "2022-09-17T20:10:40.573326Z",
     "iopub.status.busy": "2022-09-17T20:10:40.572731Z",
     "iopub.status.idle": "2022-09-17T20:10:40.585627Z",
     "shell.execute_reply": "2022-09-17T20:10:40.585132Z"
    },
    "papermill": {
     "duration": 0.044186,
     "end_time": "2022-09-17T20:10:40.585743",
     "exception": false,
     "start_time": "2022-09-17T20:10:40.541557",
     "status": "completed"
    },
    "tags": []
   },
   "outputs": [],
   "source": [
    "lr_learner = Learner(loss, model_lr, opt, config.num_epochs)\n",
    "acc_lr = ClfCallback(lr_learner, config.bs, training_data_x , testing_data_x, training_data_y, testing_data_y)\n",
    "lr_learner.set_callbacks([acc_lr])"
   ]
  },
  {
   "cell_type": "code",
   "execution_count": 22,
   "id": "d9b133c3",
   "metadata": {
    "execution": {
     "iopub.execute_input": "2022-09-17T20:10:40.649150Z",
     "iopub.status.busy": "2022-09-17T20:10:40.648543Z",
     "iopub.status.idle": "2022-09-17T20:11:56.355940Z",
     "shell.execute_reply": "2022-09-17T20:11:56.356878Z"
    },
    "papermill": {
     "duration": 75.742929,
     "end_time": "2022-09-17T20:11:56.357022",
     "exception": false,
     "start_time": "2022-09-17T20:10:40.614093",
     "status": "completed"
    },
    "tags": []
   },
   "outputs": [
    {
     "name": "stdout",
     "output_type": "stream",
     "text": [
      "Epoch 0, Loss 0.2431\n",
      "Training Accuracy: 0.6686, Testing Accuracy: 0.6809\n",
      "\n"
     ]
    },
    {
     "name": "stdout",
     "output_type": "stream",
     "text": [
      "Epoch 10, Loss 0.0749\n",
      "Training Accuracy: 0.9293, Testing Accuracy: 0.9330\n",
      "\n"
     ]
    },
    {
     "name": "stdout",
     "output_type": "stream",
     "text": [
      "Epoch 20, Loss 0.0486\n",
      "Training Accuracy: 0.9485, Testing Accuracy: 0.9526\n",
      "\n"
     ]
    },
    {
     "name": "stdout",
     "output_type": "stream",
     "text": [
      "Epoch 30, Loss 0.0394\n",
      "Training Accuracy: 0.9569, Testing Accuracy: 0.9587\n",
      "\n"
     ]
    },
    {
     "name": "stdout",
     "output_type": "stream",
     "text": [
      "Epoch 40, Loss 0.0346\n",
      "Training Accuracy: 0.9612, Testing Accuracy: 0.9647\n",
      "\n"
     ]
    },
    {
     "name": "stdout",
     "output_type": "stream",
     "text": [
      "Epoch 50, Loss 0.0317\n",
      "Training Accuracy: 0.9645, Testing Accuracy: 0.9672\n",
      "\n"
     ]
    },
    {
     "name": "stdout",
     "output_type": "stream",
     "text": [
      "Epoch 60, Loss 0.0296\n",
      "Training Accuracy: 0.9667, Testing Accuracy: 0.9698\n",
      "\n"
     ]
    },
    {
     "name": "stdout",
     "output_type": "stream",
     "text": [
      "Epoch 70, Loss 0.0279\n",
      "Training Accuracy: 0.9688, Testing Accuracy: 0.9703\n",
      "\n"
     ]
    },
    {
     "name": "stdout",
     "output_type": "stream",
     "text": [
      "Epoch 80, Loss 0.0266\n",
      "Training Accuracy: 0.9700, Testing Accuracy: 0.9698\n",
      "\n"
     ]
    },
    {
     "name": "stdout",
     "output_type": "stream",
     "text": [
      "Epoch 90, Loss 0.0256\n",
      "Training Accuracy: 0.9714, Testing Accuracy: 0.9708\n",
      "\n"
     ]
    },
    {
     "name": "stdout",
     "output_type": "stream",
     "text": [
      "Epoch 100, Loss 0.0246\n",
      "Training Accuracy: 0.9721, Testing Accuracy: 0.9718\n",
      "\n"
     ]
    },
    {
     "name": "stdout",
     "output_type": "stream",
     "text": [
      "Epoch 110, Loss 0.0238\n",
      "Training Accuracy: 0.9727, Testing Accuracy: 0.9718\n",
      "\n"
     ]
    },
    {
     "name": "stdout",
     "output_type": "stream",
     "text": [
      "Epoch 120, Loss 0.0231\n",
      "Training Accuracy: 0.9743, Testing Accuracy: 0.9733\n",
      "\n"
     ]
    },
    {
     "name": "stdout",
     "output_type": "stream",
     "text": [
      "Epoch 130, Loss 0.0225\n",
      "Training Accuracy: 0.9748, Testing Accuracy: 0.9733\n",
      "\n"
     ]
    },
    {
     "name": "stdout",
     "output_type": "stream",
     "text": [
      "Epoch 140, Loss 0.0219\n",
      "Training Accuracy: 0.9757, Testing Accuracy: 0.9733\n",
      "\n"
     ]
    },
    {
     "name": "stdout",
     "output_type": "stream",
     "text": [
      "Epoch 150, Loss 0.0214\n",
      "Training Accuracy: 0.9758, Testing Accuracy: 0.9733\n",
      "\n"
     ]
    },
    {
     "name": "stdout",
     "output_type": "stream",
     "text": [
      "Epoch 160, Loss 0.0209\n",
      "Training Accuracy: 0.9762, Testing Accuracy: 0.9733\n",
      "\n"
     ]
    },
    {
     "name": "stdout",
     "output_type": "stream",
     "text": [
      "Epoch 170, Loss 0.0205\n",
      "Training Accuracy: 0.9769, Testing Accuracy: 0.9728\n",
      "\n"
     ]
    },
    {
     "name": "stdout",
     "output_type": "stream",
     "text": [
      "Epoch 180, Loss 0.02\n",
      "Training Accuracy: 0.9778, Testing Accuracy: 0.9738\n",
      "\n"
     ]
    },
    {
     "name": "stdout",
     "output_type": "stream",
     "text": [
      "Epoch 190, Loss 0.0196\n",
      "Training Accuracy: 0.9786, Testing Accuracy: 0.9743\n",
      "\n"
     ]
    },
    {
     "name": "stdout",
     "output_type": "stream",
     "text": [
      "Epoch 200, Loss 0.0192\n",
      "Training Accuracy: 0.9791, Testing Accuracy: 0.9743\n",
      "\n"
     ]
    },
    {
     "name": "stdout",
     "output_type": "stream",
     "text": [
      "Epoch 210, Loss 0.0189\n",
      "Training Accuracy: 0.9796, Testing Accuracy: 0.9743\n",
      "\n"
     ]
    },
    {
     "name": "stdout",
     "output_type": "stream",
     "text": [
      "Epoch 220, Loss 0.0185\n",
      "Training Accuracy: 0.9801, Testing Accuracy: 0.9743\n",
      "\n"
     ]
    },
    {
     "name": "stdout",
     "output_type": "stream",
     "text": [
      "Epoch 230, Loss 0.0181\n",
      "Training Accuracy: 0.9806, Testing Accuracy: 0.9743\n",
      "\n"
     ]
    },
    {
     "name": "stdout",
     "output_type": "stream",
     "text": [
      "Epoch 240, Loss 0.0178\n",
      "Training Accuracy: 0.9811, Testing Accuracy: 0.9743\n",
      "\n"
     ]
    },
    {
     "data": {
      "text/plain": [
       "0.005435057945805298"
      ]
     },
     "execution_count": 22,
     "metadata": {},
     "output_type": "execute_result"
    }
   ],
   "source": [
    "nn_learner.train_loop(dl)"
   ]
  },
  {
   "cell_type": "code",
   "execution_count": 23,
   "id": "e0163366",
   "metadata": {
    "execution": {
     "iopub.execute_input": "2022-09-17T20:11:56.437731Z",
     "iopub.status.busy": "2022-09-17T20:11:56.437111Z",
     "iopub.status.idle": "2022-09-17T20:12:09.884274Z",
     "shell.execute_reply": "2022-09-17T20:12:09.885152Z"
    },
    "papermill": {
     "duration": 13.492861,
     "end_time": "2022-09-17T20:12:09.885296",
     "exception": false,
     "start_time": "2022-09-17T20:11:56.392435",
     "status": "completed"
    },
    "tags": []
   },
   "outputs": [
    {
     "name": "stdout",
     "output_type": "stream",
     "text": [
      "Epoch 0, Loss 0.2108\n",
      "Training Accuracy: 0.7576, Testing Accuracy: 0.7787\n",
      "\n"
     ]
    },
    {
     "name": "stdout",
     "output_type": "stream",
     "text": [
      "Epoch 10, Loss 0.1047\n",
      "Training Accuracy: 0.9000, Testing Accuracy: 0.9138\n",
      "\n"
     ]
    },
    {
     "name": "stdout",
     "output_type": "stream",
     "text": [
      "Epoch 20, Loss 0.0811\n",
      "Training Accuracy: 0.9239, Testing Accuracy: 0.9340\n",
      "\n"
     ]
    },
    {
     "name": "stdout",
     "output_type": "stream",
     "text": [
      "Epoch 30, Loss 0.0698\n",
      "Training Accuracy: 0.9331, Testing Accuracy: 0.9405\n",
      "\n"
     ]
    },
    {
     "name": "stdout",
     "output_type": "stream",
     "text": [
      "Epoch 40, Loss 0.063\n",
      "Training Accuracy: 0.9386, Testing Accuracy: 0.9471\n",
      "\n"
     ]
    },
    {
     "name": "stdout",
     "output_type": "stream",
     "text": [
      "Epoch 50, Loss 0.0583\n",
      "Training Accuracy: 0.9422, Testing Accuracy: 0.9506\n",
      "\n"
     ]
    },
    {
     "name": "stdout",
     "output_type": "stream",
     "text": [
      "Epoch 60, Loss 0.0549\n",
      "Training Accuracy: 0.9451, Testing Accuracy: 0.9536\n",
      "\n"
     ]
    },
    {
     "name": "stdout",
     "output_type": "stream",
     "text": [
      "Epoch 70, Loss 0.0523\n",
      "Training Accuracy: 0.9469, Testing Accuracy: 0.9567\n",
      "\n"
     ]
    },
    {
     "name": "stdout",
     "output_type": "stream",
     "text": [
      "Epoch 80, Loss 0.0501\n",
      "Training Accuracy: 0.9487, Testing Accuracy: 0.9582\n",
      "\n"
     ]
    },
    {
     "name": "stdout",
     "output_type": "stream",
     "text": [
      "Epoch 90, Loss 0.0484\n",
      "Training Accuracy: 0.9499, Testing Accuracy: 0.9577\n",
      "\n"
     ]
    },
    {
     "name": "stdout",
     "output_type": "stream",
     "text": [
      "Epoch 100, Loss 0.0469\n",
      "Training Accuracy: 0.9503, Testing Accuracy: 0.9602\n",
      "\n"
     ]
    },
    {
     "name": "stdout",
     "output_type": "stream",
     "text": [
      "Epoch 110, Loss 0.0456\n",
      "Training Accuracy: 0.9518, Testing Accuracy: 0.9607\n",
      "\n"
     ]
    },
    {
     "name": "stdout",
     "output_type": "stream",
     "text": [
      "Epoch 120, Loss 0.0445\n",
      "Training Accuracy: 0.9530, Testing Accuracy: 0.9622\n",
      "\n"
     ]
    },
    {
     "name": "stdout",
     "output_type": "stream",
     "text": [
      "Epoch 130, Loss 0.0436\n",
      "Training Accuracy: 0.9541, Testing Accuracy: 0.9617\n",
      "\n"
     ]
    },
    {
     "name": "stdout",
     "output_type": "stream",
     "text": [
      "Epoch 140, Loss 0.0427\n",
      "Training Accuracy: 0.9550, Testing Accuracy: 0.9622\n",
      "\n"
     ]
    },
    {
     "name": "stdout",
     "output_type": "stream",
     "text": [
      "Epoch 150, Loss 0.0419\n",
      "Training Accuracy: 0.9555, Testing Accuracy: 0.9622\n",
      "\n"
     ]
    },
    {
     "name": "stdout",
     "output_type": "stream",
     "text": [
      "Epoch 160, Loss 0.0412\n",
      "Training Accuracy: 0.9563, Testing Accuracy: 0.9622\n",
      "\n"
     ]
    },
    {
     "name": "stdout",
     "output_type": "stream",
     "text": [
      "Epoch 170, Loss 0.0406\n",
      "Training Accuracy: 0.9568, Testing Accuracy: 0.9632\n",
      "\n"
     ]
    },
    {
     "name": "stdout",
     "output_type": "stream",
     "text": [
      "Epoch 180, Loss 0.04\n",
      "Training Accuracy: 0.9573, Testing Accuracy: 0.9632\n",
      "\n"
     ]
    },
    {
     "name": "stdout",
     "output_type": "stream",
     "text": [
      "Epoch 190, Loss 0.0395\n",
      "Training Accuracy: 0.9577, Testing Accuracy: 0.9632\n",
      "\n"
     ]
    },
    {
     "name": "stdout",
     "output_type": "stream",
     "text": [
      "Epoch 200, Loss 0.039\n",
      "Training Accuracy: 0.9582, Testing Accuracy: 0.9627\n",
      "\n"
     ]
    },
    {
     "name": "stdout",
     "output_type": "stream",
     "text": [
      "Epoch 210, Loss 0.0385\n",
      "Training Accuracy: 0.9584, Testing Accuracy: 0.9627\n",
      "\n"
     ]
    },
    {
     "name": "stdout",
     "output_type": "stream",
     "text": [
      "Epoch 220, Loss 0.0381\n",
      "Training Accuracy: 0.9589, Testing Accuracy: 0.9622\n",
      "\n"
     ]
    },
    {
     "name": "stdout",
     "output_type": "stream",
     "text": [
      "Epoch 230, Loss 0.0377\n",
      "Training Accuracy: 0.9594, Testing Accuracy: 0.9622\n",
      "\n"
     ]
    },
    {
     "name": "stdout",
     "output_type": "stream",
     "text": [
      "Epoch 240, Loss 0.0373\n",
      "Training Accuracy: 0.9598, Testing Accuracy: 0.9627\n",
      "\n"
     ]
    },
    {
     "data": {
      "text/plain": [
       "0.025952489351655447"
      ]
     },
     "execution_count": 23,
     "metadata": {},
     "output_type": "execute_result"
    }
   ],
   "source": [
    "lr_learner.train_loop(dl)"
   ]
  },
  {
   "cell_type": "code",
   "execution_count": 24,
   "id": "ca410940",
   "metadata": {
    "execution": {
     "iopub.execute_input": "2022-09-17T20:12:09.982223Z",
     "iopub.status.busy": "2022-09-17T20:12:09.981587Z",
     "iopub.status.idle": "2022-09-17T20:12:10.213621Z",
     "shell.execute_reply": "2022-09-17T20:12:10.213077Z"
    },
    "papermill": {
     "duration": 0.282323,
     "end_time": "2022-09-17T20:12:10.213740",
     "exception": false,
     "start_time": "2022-09-17T20:12:09.931417",
     "status": "completed"
    },
    "tags": []
   },
   "outputs": [
    {
     "data": {
      "text/plain": [
       "<matplotlib.legend.Legend at 0x7fb8a30a9f98>"
      ]
     },
     "execution_count": 24,
     "metadata": {},
     "output_type": "execute_result"
    },
    {
     "data": {
      "image/png": "[encoded data removed]",
      "text/plain": [
       "<Figure size 1080x720 with 1 Axes>"
      ]
     },
     "metadata": {
      "needs_background": "light"
     },
     "output_type": "display_data"
    }
   ],
   "source": [
    "#comparing the results of NN and LR\n",
    "plt.figure(figsize=(15,10))\n",
    "\n",
    "# Neural Network plots\n",
    "plt.plot(acc_nn.accuracies, 'r-', label = \"Training Accuracies - NN\")\n",
    "plt.plot(acc_nn.test_accuracies, 'g-', label = \"Testing Accuracies - NN\")\n",
    "\n",
    "# Logistic Regression plots\n",
    "plt.plot(acc_lr.accuracies, 'k-', label = \"Training Accuracies - LR\")\n",
    "plt.plot(acc_lr.test_accuracies, 'b-', label = \"Testing Accuracies - LR\")\n",
    "plt.legend()"
   ]
  },
  {
   "cell_type": "markdown",
   "id": "80dfb35c",
   "metadata": {
    "papermill": {
     "duration": 0.042277,
     "end_time": "2022-09-17T20:12:10.298894",
     "exception": false,
     "start_time": "2022-09-17T20:12:10.256617",
     "status": "completed"
    },
    "tags": []
   },
   "source": [
    "#### Plotting the outputs of this layer of the NN.\n"
   ]
  },
  {
   "cell_type": "code",
   "execution_count": 25,
   "id": "45eb2ff5",
   "metadata": {
    "execution": {
     "iopub.execute_input": "2022-09-17T20:12:10.388593Z",
     "iopub.status.busy": "2022-09-17T20:12:10.387920Z",
     "iopub.status.idle": "2022-09-17T20:12:10.408446Z",
     "shell.execute_reply": "2022-09-17T20:12:10.408967Z"
    },
    "papermill": {
     "duration": 0.067816,
     "end_time": "2022-09-17T20:12:10.409109",
     "exception": false,
     "start_time": "2022-09-17T20:12:10.341293",
     "status": "completed"
    },
    "tags": []
   },
   "outputs": [],
   "source": [
    "new_model = Model(layers[:-2])\n",
    "testing_plot = new_model(testing_data_x)"
   ]
  },
  {
   "cell_type": "code",
   "execution_count": 26,
   "id": "4c0a5485",
   "metadata": {
    "execution": {
     "iopub.execute_input": "2022-09-17T20:12:10.504441Z",
     "iopub.status.busy": "2022-09-17T20:12:10.499635Z",
     "iopub.status.idle": "2022-09-17T20:12:10.687146Z",
     "shell.execute_reply": "2022-09-17T20:12:10.687607Z"
    },
    "papermill": {
     "duration": 0.236088,
     "end_time": "2022-09-17T20:12:10.687749",
     "exception": false,
     "start_time": "2022-09-17T20:12:10.451661",
     "status": "completed"
    },
    "tags": []
   },
   "outputs": [
    {
     "data": {
      "text/plain": [
       "Text(0.5, 1.0, 'Outputs')"
      ]
     },
     "execution_count": 26,
     "metadata": {},
     "output_type": "execute_result"
    },
    {
     "data": {
      "image/png": "[encoded data removed]",
      "text/plain": [
       "<Figure size 576x504 with 1 Axes>"
      ]
     },
     "metadata": {
      "needs_background": "light"
     },
     "output_type": "display_data"
    }
   ],
   "source": [
    "# Plotting the scatter plot of points and color coding by class\n",
    "plt.figure(figsize=(8,7))\n",
    "plt.scatter(testing_plot[:,0], testing_plot[:,1], alpha = 0.1, c = y_test.ravel());\n",
    "plt.title('Outputs')"
   ]
  },
  {
   "cell_type": "markdown",
   "id": "a74fcf8f",
   "metadata": {
    "papermill": {
     "duration": 0.044125,
     "end_time": "2022-09-17T20:12:10.781769",
     "exception": false,
     "start_time": "2022-09-17T20:12:10.737644",
     "status": "completed"
    },
    "tags": []
   },
   "source": [
    "Probability contours"
   ]
  },
  {
   "cell_type": "code",
   "execution_count": 27,
   "id": "d0afc8e3",
   "metadata": {
    "execution": {
     "iopub.execute_input": "2022-09-17T20:12:10.879769Z",
     "iopub.status.busy": "2022-09-17T20:12:10.878109Z",
     "iopub.status.idle": "2022-09-17T20:12:10.890655Z",
     "shell.execute_reply": "2022-09-17T20:12:10.890137Z"
    },
    "papermill": {
     "duration": 0.062491,
     "end_time": "2022-09-17T20:12:10.890768",
     "exception": false,
     "start_time": "2022-09-17T20:12:10.828277",
     "status": "completed"
    },
    "tags": []
   },
   "outputs": [],
   "source": [
    "model_prob = Model(layers[-2:]) "
   ]
  },
  {
   "cell_type": "code",
   "execution_count": 28,
   "id": "9b96e238",
   "metadata": {
    "execution": {
     "iopub.execute_input": "2022-09-17T20:12:10.995513Z",
     "iopub.status.busy": "2022-09-17T20:12:10.991825Z",
     "iopub.status.idle": "2022-09-17T20:12:11.008337Z",
     "shell.execute_reply": "2022-09-17T20:12:11.007798Z"
    },
    "papermill": {
     "duration": 0.067509,
     "end_time": "2022-09-17T20:12:11.008468",
     "exception": false,
     "start_time": "2022-09-17T20:12:10.940959",
     "status": "completed"
    },
    "tags": []
   },
   "outputs": [],
   "source": [
    "#creating the x and y ranges according to the above generated plot.\n",
    "x_range = np.linspace(-4, 1, 100) \n",
    "y_range = np.linspace(-6, 6, 100) \n",
    "x_grid, y_grid = np.meshgrid(x_range, y_range) # x_grid and y_grig are of size 100 X 100\n",
    "\n",
    "# converting x_grid and y_grid to continuous arrays\n",
    "x_gridflat = np.ravel(x_grid)\n",
    "y_gridflat = np.ravel(y_grid)\n",
    "\n",
    "# The last layer of the current model takes two columns as input. Hence transpose of np.vstack() is required.\n",
    "X = np.vstack((x_gridflat, y_gridflat)).T\n",
    "\n",
    "prob_contour = model_prob(X).reshape(100,100) "
   ]
  },
  {
   "cell_type": "code",
   "execution_count": 29,
   "id": "da72499a",
   "metadata": {
    "execution": {
     "iopub.execute_input": "2022-09-17T20:12:11.147323Z",
     "iopub.status.busy": "2022-09-17T20:12:11.146724Z",
     "iopub.status.idle": "2022-09-17T20:12:11.386879Z",
     "shell.execute_reply": "2022-09-17T20:12:11.386356Z"
    },
    "papermill": {
     "duration": 0.293246,
     "end_time": "2022-09-17T20:12:11.386999",
     "exception": false,
     "start_time": "2022-09-17T20:12:11.093753",
     "status": "completed"
    },
    "tags": []
   },
   "outputs": [
    {
     "data": {
      "image/png": "[encoded data removed]",
      "text/plain": [
       "<Figure size 720x648 with 1 Axes>"
      ]
     },
     "metadata": {
      "needs_background": "light"
     },
     "output_type": "display_data"
    }
   ],
   "source": [
    "plt.figure(figsize=(10,9))\n",
    "plt.scatter(testing_plot[:,0], testing_plot[:,1], alpha = 0.1, c = y_test.ravel())\n",
    "contours = plt.contour(x_grid,y_grid,prob_contour)\n",
    "plt.title('Probability Contours')\n",
    "plt.clabel(contours, inline = True );"
   ]
  },
  {
   "cell_type": "code",
   "execution_count": null,
   "id": "e81b4ac7",
   "metadata": {
    "papermill": {
     "duration": 0.046786,
     "end_time": "2022-09-17T20:12:11.486918",
     "exception": false,
     "start_time": "2022-09-17T20:12:11.440132",
     "status": "completed"
    },
    "tags": []
   },
   "outputs": [],
   "source": []
  }
 ],
 "metadata": {
  "kernelspec": {
   "display_name": "Python 3",
   "language": "python",
   "name": "python3"
  },
  "language_info": {
   "codemirror_mode": {
    "name": "ipython",
    "version": 3
   },
   "file_extension": ".py",
   "mimetype": "text/x-python",
   "name": "python",
   "nbconvert_exporter": "python",
   "pygments_lexer": "ipython3",
   "version": "3.6.15"
  },
  "papermill": {
   "default_parameters": {},
   "duration": 97.665565,
   "end_time": "2022-09-17T20:12:11.953037",
   "environment_variables": {},
   "exception": null,
   "input_path": "2020-08-11-part2.ipynb",
   "output_path": "2020-08-11-part2.ipynb",
   "parameters": {},
   "start_time": "2022-09-17T20:10:34.287472",
   "version": "2.3.3"
  }
 },
 "nbformat": 4,
 "nbformat_minor": 5
}