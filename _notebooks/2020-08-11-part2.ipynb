{
 "cells": [
  {
   "cell_type": "markdown",
   "id": "98380cd3",
   "metadata": {
    "papermill": {
     "duration": 0.028773,
     "end_time": "2021-08-27T10:07:03.402478",
     "exception": false,
     "start_time": "2021-08-27T10:07:03.373705",
     "status": "completed"
    },
    "tags": []
   },
   "source": [
    "# Distinguish Your Own Digits (DYOD)"
   ]
  },
  {
   "cell_type": "markdown",
   "id": "ef31240d",
   "metadata": {
    "papermill": {
     "duration": 0.023811,
     "end_time": "2021-08-27T10:07:03.450807",
     "exception": false,
     "start_time": "2021-08-27T10:07:03.426996",
     "status": "completed"
    },
    "tags": []
   },
   "source": [
    "You are going to write a classifier that distinguishes between the number 3 and number 8."
   ]
  },
  {
   "cell_type": "code",
   "execution_count": 1,
   "id": "b15c8646",
   "metadata": {
    "execution": {
     "iopub.execute_input": "2021-08-27T10:07:03.509473Z",
     "iopub.status.busy": "2021-08-27T10:07:03.508917Z",
     "iopub.status.idle": "2021-08-27T10:07:03.518864Z",
     "shell.execute_reply": "2021-08-27T10:07:03.518437Z"
    },
    "papermill": {
     "duration": 0.044426,
     "end_time": "2021-08-27T10:07:03.518998",
     "exception": false,
     "start_time": "2021-08-27T10:07:03.474572",
     "status": "completed"
    },
    "tags": []
   },
   "outputs": [],
   "source": [
    "%load_ext autoreload\n",
    "%autoreload 2"
   ]
  },
  {
   "cell_type": "code",
   "execution_count": 2,
   "id": "22ef38dc",
   "metadata": {
    "execution": {
     "iopub.execute_input": "2021-08-27T10:07:03.578690Z",
     "iopub.status.busy": "2021-08-27T10:07:03.578145Z",
     "iopub.status.idle": "2021-08-27T10:07:04.105203Z",
     "shell.execute_reply": "2021-08-27T10:07:04.104727Z"
    },
    "papermill": {
     "duration": 0.56232,
     "end_time": "2021-08-27T10:07:04.105333",
     "exception": false,
     "start_time": "2021-08-27T10:07:03.543013",
     "status": "completed"
    },
    "tags": []
   },
   "outputs": [],
   "source": [
    "%matplotlib inline\n",
    "import numpy as np\n",
    "import matplotlib.pyplot as plt\n",
    "import pandas as pd"
   ]
  },
  {
   "cell_type": "markdown",
   "id": "ba036198",
   "metadata": {
    "papermill": {
     "duration": 0.02484,
     "end_time": "2021-08-27T10:07:04.154261",
     "exception": false,
     "start_time": "2021-08-27T10:07:04.129421",
     "status": "completed"
    },
    "tags": []
   },
   "source": [
    "From the command line run `pip install mnist`. This is a library that will help you bring down the mnist dataset. If you run this from a notebook, you need to put  `!pip install mnist` in a cell by itself."
   ]
  },
  {
   "cell_type": "code",
   "execution_count": 3,
   "id": "bb6ad8a1",
   "metadata": {
    "execution": {
     "iopub.execute_input": "2021-08-27T10:07:04.206322Z",
     "iopub.status.busy": "2021-08-27T10:07:04.205797Z",
     "iopub.status.idle": "2021-08-27T10:07:06.575191Z",
     "shell.execute_reply": "2021-08-27T10:07:06.574630Z"
    },
    "papermill": {
     "duration": 2.397174,
     "end_time": "2021-08-27T10:07:06.575352",
     "exception": false,
     "start_time": "2021-08-27T10:07:04.178178",
     "status": "completed"
    },
    "tags": []
   },
   "outputs": [
    {
     "name": "stdout",
     "output_type": "stream",
     "text": [
      "Collecting mnist\r\n"
     ]
    },
    {
     "name": "stdout",
     "output_type": "stream",
     "text": [
      "  Downloading mnist-0.2.2-py2.py3-none-any.whl (3.5 kB)\r\n",
      "Requirement already satisfied: numpy in /opt/hostedtoolcache/Python/3.6.14/x64/lib/python3.6/site-packages (from mnist) (1.19.5)\r\n"
     ]
    },
    {
     "name": "stdout",
     "output_type": "stream",
     "text": [
      "Installing collected packages: mnist\r\n"
     ]
    },
    {
     "name": "stdout",
     "output_type": "stream",
     "text": [
      "Successfully installed mnist-0.2.2\r\n"
     ]
    }
   ],
   "source": [
    "!pip install mnist"
   ]
  },
  {
   "cell_type": "markdown",
   "id": "69df9c9a",
   "metadata": {
    "papermill": {
     "duration": 0.025621,
     "end_time": "2021-08-27T10:07:06.626745",
     "exception": false,
     "start_time": "2021-08-27T10:07:06.601124",
     "status": "completed"
    },
    "tags": []
   },
   "source": [
    "## Preparing the Data"
   ]
  },
  {
   "cell_type": "code",
   "execution_count": 4,
   "id": "7f69d806",
   "metadata": {
    "execution": {
     "iopub.execute_input": "2021-08-27T10:07:06.681133Z",
     "iopub.status.busy": "2021-08-27T10:07:06.680613Z",
     "iopub.status.idle": "2021-08-27T10:07:06.694063Z",
     "shell.execute_reply": "2021-08-27T10:07:06.694501Z"
    },
    "papermill": {
     "duration": 0.04275,
     "end_time": "2021-08-27T10:07:06.694634",
     "exception": false,
     "start_time": "2021-08-27T10:07:06.651884",
     "status": "completed"
    },
    "tags": []
   },
   "outputs": [],
   "source": [
    "import mnist"
   ]
  },
  {
   "cell_type": "code",
   "execution_count": 5,
   "id": "a411e44f",
   "metadata": {
    "execution": {
     "iopub.execute_input": "2021-08-27T10:07:06.755328Z",
     "iopub.status.busy": "2021-08-27T10:07:06.754743Z",
     "iopub.status.idle": "2021-08-27T10:07:26.958143Z",
     "shell.execute_reply": "2021-08-27T10:07:26.958959Z"
    },
    "papermill": {
     "duration": 20.239298,
     "end_time": "2021-08-27T10:07:26.959133",
     "exception": false,
     "start_time": "2021-08-27T10:07:06.719835",
     "status": "completed"
    },
    "tags": []
   },
   "outputs": [],
   "source": [
    "train_images = mnist.train_images()\n",
    "train_labels = mnist.train_labels()"
   ]
  },
  {
   "cell_type": "code",
   "execution_count": 6,
   "id": "dceab3a5",
   "metadata": {
    "execution": {
     "iopub.execute_input": "2021-08-27T10:07:27.018117Z",
     "iopub.status.busy": "2021-08-27T10:07:27.017597Z",
     "iopub.status.idle": "2021-08-27T10:07:27.029274Z",
     "shell.execute_reply": "2021-08-27T10:07:27.029666Z"
    },
    "papermill": {
     "duration": 0.044359,
     "end_time": "2021-08-27T10:07:27.029808",
     "exception": false,
     "start_time": "2021-08-27T10:07:26.985449",
     "status": "completed"
    },
    "tags": []
   },
   "outputs": [
    {
     "data": {
      "text/plain": [
       "((60000, 28, 28), (60000,))"
      ]
     },
     "execution_count": 6,
     "metadata": {},
     "output_type": "execute_result"
    }
   ],
   "source": [
    "train_images.shape, train_labels.shape"
   ]
  },
  {
   "cell_type": "code",
   "execution_count": 7,
   "id": "f50dc2bb",
   "metadata": {
    "execution": {
     "iopub.execute_input": "2021-08-27T10:07:27.084584Z",
     "iopub.status.busy": "2021-08-27T10:07:27.084066Z",
     "iopub.status.idle": "2021-08-27T10:07:30.511247Z",
     "shell.execute_reply": "2021-08-27T10:07:30.510758Z"
    },
    "papermill": {
     "duration": 3.456106,
     "end_time": "2021-08-27T10:07:30.511381",
     "exception": false,
     "start_time": "2021-08-27T10:07:27.055275",
     "status": "completed"
    },
    "tags": []
   },
   "outputs": [],
   "source": [
    "test_images = mnist.test_images()\n",
    "test_labels = mnist.test_labels()"
   ]
  },
  {
   "cell_type": "code",
   "execution_count": 8,
   "id": "fc38cf1b",
   "metadata": {
    "execution": {
     "iopub.execute_input": "2021-08-27T10:07:30.566199Z",
     "iopub.status.busy": "2021-08-27T10:07:30.565682Z",
     "iopub.status.idle": "2021-08-27T10:07:30.579052Z",
     "shell.execute_reply": "2021-08-27T10:07:30.578612Z"
    },
    "papermill": {
     "duration": 0.042061,
     "end_time": "2021-08-27T10:07:30.579167",
     "exception": false,
     "start_time": "2021-08-27T10:07:30.537106",
     "status": "completed"
    },
    "tags": []
   },
   "outputs": [
    {
     "data": {
      "text/plain": [
       "((10000, 28, 28), (10000,))"
      ]
     },
     "execution_count": 8,
     "metadata": {},
     "output_type": "execute_result"
    }
   ],
   "source": [
    "test_images.shape, test_labels.shape"
   ]
  },
  {
   "cell_type": "code",
   "execution_count": 9,
   "id": "f9ed8fe0",
   "metadata": {
    "execution": {
     "iopub.execute_input": "2021-08-27T10:07:30.636100Z",
     "iopub.status.busy": "2021-08-27T10:07:30.635575Z",
     "iopub.status.idle": "2021-08-27T10:07:30.771478Z",
     "shell.execute_reply": "2021-08-27T10:07:30.771962Z"
    },
    "papermill": {
     "duration": 0.167206,
     "end_time": "2021-08-27T10:07:30.772120",
     "exception": false,
     "start_time": "2021-08-27T10:07:30.604914",
     "status": "completed"
    },
    "tags": []
   },
   "outputs": [
    {
     "name": "stdout",
     "output_type": "stream",
     "text": [
      "2\n"
     ]
    },
    {
     "data": {
      "text/plain": [
       "<matplotlib.image.AxesImage at 0x7f2a450128d0>"
      ]
     },
     "execution_count": 9,
     "metadata": {},
     "output_type": "execute_result"
    },
    {
     "data": {
      "image/png": "[encoded data removed]",
      "text/plain": [
       "<Figure size 432x288 with 1 Axes>"
      ]
     },
     "metadata": {
      "needs_background": "light"
     },
     "output_type": "display_data"
    }
   ],
   "source": [
    "image_index = 7776 # You may select anything up to 60,000\n",
    "print(train_labels[image_index]) \n",
    "plt.imshow(train_images[image_index], cmap='Greys')"
   ]
  },
  {
   "cell_type": "markdown",
   "id": "a8d2388d",
   "metadata": {
    "papermill": {
     "duration": 0.026938,
     "end_time": "2021-08-27T10:07:30.826456",
     "exception": false,
     "start_time": "2021-08-27T10:07:30.799518",
     "status": "completed"
    },
    "tags": []
   },
   "source": [
    "## Filter data to get 3 and 8 out"
   ]
  },
  {
   "cell_type": "code",
   "execution_count": 10,
   "id": "776f7fc7",
   "metadata": {
    "execution": {
     "iopub.execute_input": "2021-08-27T10:07:30.889209Z",
     "iopub.status.busy": "2021-08-27T10:07:30.888671Z",
     "iopub.status.idle": "2021-08-27T10:07:30.901274Z",
     "shell.execute_reply": "2021-08-27T10:07:30.901777Z"
    },
    "papermill": {
     "duration": 0.048811,
     "end_time": "2021-08-27T10:07:30.901914",
     "exception": false,
     "start_time": "2021-08-27T10:07:30.853103",
     "status": "completed"
    },
    "tags": []
   },
   "outputs": [],
   "source": [
    "train_filter = np.where((train_labels == 3 ) | (train_labels == 8))\n",
    "test_filter = np.where((test_labels == 3) | (test_labels == 8))\n",
    "X_train, y_train = train_images[train_filter], train_labels[train_filter]\n",
    "X_test, y_test = test_images[test_filter], test_labels[test_filter]"
   ]
  },
  {
   "cell_type": "markdown",
   "id": "948f0b7e",
   "metadata": {
    "papermill": {
     "duration": 0.026721,
     "end_time": "2021-08-27T10:07:30.955631",
     "exception": false,
     "start_time": "2021-08-27T10:07:30.928910",
     "status": "completed"
    },
    "tags": []
   },
   "source": [
    "We normalize the pizel values in the 0 to 1 range"
   ]
  },
  {
   "cell_type": "code",
   "execution_count": 11,
   "id": "ee4c2166",
   "metadata": {
    "execution": {
     "iopub.execute_input": "2021-08-27T10:07:31.025326Z",
     "iopub.status.busy": "2021-08-27T10:07:31.024755Z",
     "iopub.status.idle": "2021-08-27T10:07:31.063750Z",
     "shell.execute_reply": "2021-08-27T10:07:31.063224Z"
    },
    "papermill": {
     "duration": 0.081469,
     "end_time": "2021-08-27T10:07:31.063887",
     "exception": false,
     "start_time": "2021-08-27T10:07:30.982418",
     "status": "completed"
    },
    "tags": []
   },
   "outputs": [],
   "source": [
    "X_train = X_train/255.\n",
    "X_test = X_test/255."
   ]
  },
  {
   "cell_type": "markdown",
   "id": "ddcf4fab",
   "metadata": {
    "papermill": {
     "duration": 0.026618,
     "end_time": "2021-08-27T10:07:31.118443",
     "exception": false,
     "start_time": "2021-08-27T10:07:31.091825",
     "status": "completed"
    },
    "tags": []
   },
   "source": [
    "And setup the labels as 1 (when the digit is 3) and 0 (when the digit is 8)"
   ]
  },
  {
   "cell_type": "code",
   "execution_count": 12,
   "id": "7dc908f2",
   "metadata": {
    "execution": {
     "iopub.execute_input": "2021-08-27T10:07:31.184210Z",
     "iopub.status.busy": "2021-08-27T10:07:31.183647Z",
     "iopub.status.idle": "2021-08-27T10:07:31.190324Z",
     "shell.execute_reply": "2021-08-27T10:07:31.189908Z"
    },
    "papermill": {
     "duration": 0.04539,
     "end_time": "2021-08-27T10:07:31.190438",
     "exception": false,
     "start_time": "2021-08-27T10:07:31.145048",
     "status": "completed"
    },
    "tags": []
   },
   "outputs": [],
   "source": [
    "y_train = 1*(y_train==3)\n",
    "y_test = 1*(y_test==3)"
   ]
  },
  {
   "cell_type": "code",
   "execution_count": 13,
   "id": "01e4e969",
   "metadata": {
    "execution": {
     "iopub.execute_input": "2021-08-27T10:07:31.259278Z",
     "iopub.status.busy": "2021-08-27T10:07:31.258720Z",
     "iopub.status.idle": "2021-08-27T10:07:31.264997Z",
     "shell.execute_reply": "2021-08-27T10:07:31.265381Z"
    },
    "papermill": {
     "duration": 0.048394,
     "end_time": "2021-08-27T10:07:31.265516",
     "exception": false,
     "start_time": "2021-08-27T10:07:31.217122",
     "status": "completed"
    },
    "tags": []
   },
   "outputs": [
    {
     "data": {
      "text/plain": [
       "((11982, 28, 28), (1984, 28, 28))"
      ]
     },
     "execution_count": 13,
     "metadata": {},
     "output_type": "execute_result"
    }
   ],
   "source": [
    "X_train.shape, X_test.shape"
   ]
  },
  {
   "cell_type": "markdown",
   "id": "5ccf3f85",
   "metadata": {
    "papermill": {
     "duration": 0.02664,
     "end_time": "2021-08-27T10:07:31.318897",
     "exception": false,
     "start_time": "2021-08-27T10:07:31.292257",
     "status": "completed"
    },
    "tags": []
   },
   "source": [
    "We reshape the data to flatten the image pixels into a set of features or co-variates:"
   ]
  },
  {
   "cell_type": "code",
   "execution_count": 14,
   "id": "5286a4a3",
   "metadata": {
    "execution": {
     "iopub.execute_input": "2021-08-27T10:07:31.378460Z",
     "iopub.status.busy": "2021-08-27T10:07:31.377939Z",
     "iopub.status.idle": "2021-08-27T10:07:31.389527Z",
     "shell.execute_reply": "2021-08-27T10:07:31.389914Z"
    },
    "papermill": {
     "duration": 0.044251,
     "end_time": "2021-08-27T10:07:31.390055",
     "exception": false,
     "start_time": "2021-08-27T10:07:31.345804",
     "status": "completed"
    },
    "tags": []
   },
   "outputs": [
    {
     "data": {
      "text/plain": [
       "((11982, 784), (1984, 784))"
      ]
     },
     "execution_count": 14,
     "metadata": {},
     "output_type": "execute_result"
    }
   ],
   "source": [
    "X_train = X_train.reshape(X_train.shape[0], -1)\n",
    "X_test = X_test.reshape(X_test.shape[0], -1)\n",
    "X_train.shape, X_test.shape"
   ]
  },
  {
   "cell_type": "code",
   "execution_count": 15,
   "id": "73c5f88a",
   "metadata": {
    "execution": {
     "iopub.execute_input": "2021-08-27T10:07:31.454239Z",
     "iopub.status.busy": "2021-08-27T10:07:31.450220Z",
     "iopub.status.idle": "2021-08-27T10:07:31.468197Z",
     "shell.execute_reply": "2021-08-27T10:07:31.468589Z"
    },
    "papermill": {
     "duration": 0.051711,
     "end_time": "2021-08-27T10:07:31.468732",
     "exception": false,
     "start_time": "2021-08-27T10:07:31.417021",
     "status": "completed"
    },
    "tags": []
   },
   "outputs": [],
   "source": [
    "#Impoting functions from 'Kudzu'\n",
    "from kudzu.model import Model\n",
    "from kudzu.train import Learner\n",
    "from kudzu.optim import GD\n",
    "from kudzu.data import Data, Sampler,Dataloader\n",
    "\n",
    "from kudzu.callbacks import AccCallback\n",
    "from kudzu.callbacks import ClfCallback\n",
    "\n",
    "from kudzu.loss import MSE\n",
    "\n",
    "from kudzu.layer import Sigmoid,Relu\n",
    "from kudzu.layer import Affine"
   ]
  },
  {
   "cell_type": "markdown",
   "id": "bc01172a",
   "metadata": {
    "papermill": {
     "duration": 0.026954,
     "end_time": "2021-08-27T10:07:31.522888",
     "exception": false,
     "start_time": "2021-08-27T10:07:31.495934",
     "status": "completed"
    },
    "tags": []
   },
   "source": [
    "### Let us create a `Config` class, to store important parameters. \n",
    "This class essentially plays the role of a dictionary."
   ]
  },
  {
   "cell_type": "code",
   "execution_count": 16,
   "id": "978281aa",
   "metadata": {
    "execution": {
     "iopub.execute_input": "2021-08-27T10:07:31.581083Z",
     "iopub.status.busy": "2021-08-27T10:07:31.580563Z",
     "iopub.status.idle": "2021-08-27T10:07:31.592478Z",
     "shell.execute_reply": "2021-08-27T10:07:31.592061Z"
    },
    "papermill": {
     "duration": 0.042667,
     "end_time": "2021-08-27T10:07:31.592595",
     "exception": false,
     "start_time": "2021-08-27T10:07:31.549928",
     "status": "completed"
    },
    "tags": []
   },
   "outputs": [],
   "source": [
    "class Config:\n",
    "    pass\n",
    "config = Config()\n",
    "config.lr = 0.001\n",
    "config.num_epochs = 250\n",
    "config.bs = 50"
   ]
  },
  {
   "cell_type": "markdown",
   "id": "1385fa59",
   "metadata": {
    "papermill": {
     "duration": 0.027508,
     "end_time": "2021-08-27T10:07:31.647370",
     "exception": false,
     "start_time": "2021-08-27T10:07:31.619862",
     "status": "completed"
    },
    "tags": []
   },
   "source": [
    "### Running Models with the Training data\n",
    "Details about the network layers:\n",
    "- A first affine layer has 784 inputs and does 100 affine transforms. These are followed by a Relu\n",
    "- A second affine layer has 100 inputs from the 100 activations of the past layer, and does 100 affine transforms. These are followed by a Relu\n",
    "- A third affine layer has 100 activations and does 2 affine transformations to create an embedding for visualization. There is no non-linearity here.\n",
    "- A final \"logistic regression\" which has an affine transform from 2 inputs to 1 output, which is squeezed through a sigmoid.\n"
   ]
  },
  {
   "cell_type": "code",
   "execution_count": 17,
   "id": "2b9c66db",
   "metadata": {
    "execution": {
     "iopub.execute_input": "2021-08-27T10:07:31.705905Z",
     "iopub.status.busy": "2021-08-27T10:07:31.705380Z",
     "iopub.status.idle": "2021-08-27T10:07:31.718297Z",
     "shell.execute_reply": "2021-08-27T10:07:31.717870Z"
    },
    "papermill": {
     "duration": 0.043979,
     "end_time": "2021-08-27T10:07:31.718416",
     "exception": false,
     "start_time": "2021-08-27T10:07:31.674437",
     "status": "completed"
    },
    "tags": []
   },
   "outputs": [],
   "source": [
    "data = Data(X_train, y_train.reshape(-1,1))\n",
    "sampler = Sampler(data, config.bs, shuffle=True)\n",
    "\n",
    "dl = Dataloader(data, sampler)\n",
    "\n",
    "opt = GD(config.lr)\n",
    "loss = MSE()"
   ]
  },
  {
   "cell_type": "code",
   "execution_count": 18,
   "id": "b275e4c2",
   "metadata": {
    "execution": {
     "iopub.execute_input": "2021-08-27T10:07:31.789655Z",
     "iopub.status.busy": "2021-08-27T10:07:31.789111Z",
     "iopub.status.idle": "2021-08-27T10:07:31.791112Z",
     "shell.execute_reply": "2021-08-27T10:07:31.791538Z"
    },
    "papermill": {
     "duration": 0.046002,
     "end_time": "2021-08-27T10:07:31.791683",
     "exception": false,
     "start_time": "2021-08-27T10:07:31.745681",
     "status": "completed"
    },
    "tags": []
   },
   "outputs": [],
   "source": [
    "training_data_x = X_train\n",
    "testing_data_x = X_test\n",
    "training_data_y = y_train.reshape(-1,1)\n",
    "testing_data_y = y_test.reshape(-1,1)"
   ]
  },
  {
   "cell_type": "code",
   "execution_count": 19,
   "id": "76951160",
   "metadata": {
    "execution": {
     "iopub.execute_input": "2021-08-27T10:07:31.863804Z",
     "iopub.status.busy": "2021-08-27T10:07:31.857978Z",
     "iopub.status.idle": "2021-08-27T10:07:31.869597Z",
     "shell.execute_reply": "2021-08-27T10:07:31.869981Z"
    },
    "papermill": {
     "duration": 0.051318,
     "end_time": "2021-08-27T10:07:31.870118",
     "exception": false,
     "start_time": "2021-08-27T10:07:31.818800",
     "status": "completed"
    },
    "tags": []
   },
   "outputs": [
    {
     "name": "stdout",
     "output_type": "stream",
     "text": [
      "xavier\n",
      "xavier\n",
      "xavier\n",
      "xavier\n",
      "xavier\n"
     ]
    }
   ],
   "source": [
    "layers = [Affine(\"first\", 784, 100), Relu(\"first\"), Affine(\"second\", 100, 100), Relu(\"second\"), Affine(\"third\", 100, 2), Affine(\"last\", 2, 1), Sigmoid(\"last\")]\n",
    "model_nn = Model(layers)\n",
    "model_lr = Model([Affine(\"logits\", 784, 1), Sigmoid(\"sigmoid\")])"
   ]
  },
  {
   "cell_type": "code",
   "execution_count": 20,
   "id": "6eede77a",
   "metadata": {
    "execution": {
     "iopub.execute_input": "2021-08-27T10:07:31.932508Z",
     "iopub.status.busy": "2021-08-27T10:07:31.928946Z",
     "iopub.status.idle": "2021-08-27T10:07:31.940672Z",
     "shell.execute_reply": "2021-08-27T10:07:31.940255Z"
    },
    "papermill": {
     "duration": 0.043087,
     "end_time": "2021-08-27T10:07:31.940790",
     "exception": false,
     "start_time": "2021-08-27T10:07:31.897703",
     "status": "completed"
    },
    "tags": []
   },
   "outputs": [],
   "source": [
    "nn_learner = Learner(loss, model_nn, opt, config.num_epochs)\n",
    "acc_nn = ClfCallback(nn_learner, config.bs, training_data_x , testing_data_x, training_data_y, testing_data_y)\n",
    "nn_learner.set_callbacks([acc_nn])"
   ]
  },
  {
   "cell_type": "code",
   "execution_count": 21,
   "id": "877b6cc7",
   "metadata": {
    "execution": {
     "iopub.execute_input": "2021-08-27T10:07:32.003969Z",
     "iopub.status.busy": "2021-08-27T10:07:32.000892Z",
     "iopub.status.idle": "2021-08-27T10:07:32.011088Z",
     "shell.execute_reply": "2021-08-27T10:07:32.011534Z"
    },
    "papermill": {
     "duration": 0.04348,
     "end_time": "2021-08-27T10:07:32.011672",
     "exception": false,
     "start_time": "2021-08-27T10:07:31.968192",
     "status": "completed"
    },
    "tags": []
   },
   "outputs": [],
   "source": [
    "lr_learner = Learner(loss, model_lr, opt, config.num_epochs)\n",
    "acc_lr = ClfCallback(lr_learner, config.bs, training_data_x , testing_data_x, training_data_y, testing_data_y)\n",
    "lr_learner.set_callbacks([acc_lr])"
   ]
  },
  {
   "cell_type": "code",
   "execution_count": 22,
   "id": "d9b133c3",
   "metadata": {
    "execution": {
     "iopub.execute_input": "2021-08-27T10:07:32.070986Z",
     "iopub.status.busy": "2021-08-27T10:07:32.070455Z",
     "iopub.status.idle": "2021-08-27T10:08:49.855768Z",
     "shell.execute_reply": "2021-08-27T10:08:49.856508Z"
    },
    "papermill": {
     "duration": 77.817324,
     "end_time": "2021-08-27T10:08:49.856658",
     "exception": false,
     "start_time": "2021-08-27T10:07:32.039334",
     "status": "completed"
    },
    "tags": []
   },
   "outputs": [
    {
     "name": "stdout",
     "output_type": "stream",
     "text": [
      "Epoch 0, Loss 0.2553\n",
      "Training Accuracy: 0.5379, Testing Accuracy: 0.5373\n",
      "\n"
     ]
    },
    {
     "name": "stdout",
     "output_type": "stream",
     "text": [
      "Epoch 10, Loss 0.0887\n",
      "Training Accuracy: 0.9216, Testing Accuracy: 0.9279\n",
      "\n"
     ]
    },
    {
     "name": "stdout",
     "output_type": "stream",
     "text": [
      "Epoch 20, Loss 0.0551\n",
      "Training Accuracy: 0.9410, Testing Accuracy: 0.9516\n",
      "\n"
     ]
    },
    {
     "name": "stdout",
     "output_type": "stream",
     "text": [
      "Epoch 30, Loss 0.0438\n",
      "Training Accuracy: 0.9504, Testing Accuracy: 0.9592\n",
      "\n"
     ]
    },
    {
     "name": "stdout",
     "output_type": "stream",
     "text": [
      "Epoch 40, Loss 0.0382\n",
      "Training Accuracy: 0.9564, Testing Accuracy: 0.9632\n",
      "\n"
     ]
    },
    {
     "name": "stdout",
     "output_type": "stream",
     "text": [
      "Epoch 50, Loss 0.0347\n",
      "Training Accuracy: 0.9603, Testing Accuracy: 0.9642\n",
      "\n"
     ]
    },
    {
     "name": "stdout",
     "output_type": "stream",
     "text": [
      "Epoch 60, Loss 0.0323\n",
      "Training Accuracy: 0.9624, Testing Accuracy: 0.9652\n",
      "\n"
     ]
    },
    {
     "name": "stdout",
     "output_type": "stream",
     "text": [
      "Epoch 70, Loss 0.0305\n",
      "Training Accuracy: 0.9649, Testing Accuracy: 0.9662\n",
      "\n"
     ]
    },
    {
     "name": "stdout",
     "output_type": "stream",
     "text": [
      "Epoch 80, Loss 0.029\n",
      "Training Accuracy: 0.9662, Testing Accuracy: 0.9667\n",
      "\n"
     ]
    },
    {
     "name": "stdout",
     "output_type": "stream",
     "text": [
      "Epoch 90, Loss 0.0278\n",
      "Training Accuracy: 0.9674, Testing Accuracy: 0.9662\n",
      "\n"
     ]
    },
    {
     "name": "stdout",
     "output_type": "stream",
     "text": [
      "Epoch 100, Loss 0.0268\n",
      "Training Accuracy: 0.9687, Testing Accuracy: 0.9693\n",
      "\n"
     ]
    },
    {
     "name": "stdout",
     "output_type": "stream",
     "text": [
      "Epoch 110, Loss 0.0259\n",
      "Training Accuracy: 0.9695, Testing Accuracy: 0.9698\n",
      "\n"
     ]
    },
    {
     "name": "stdout",
     "output_type": "stream",
     "text": [
      "Epoch 120, Loss 0.0251\n",
      "Training Accuracy: 0.9700, Testing Accuracy: 0.9698\n",
      "\n"
     ]
    },
    {
     "name": "stdout",
     "output_type": "stream",
     "text": [
      "Epoch 130, Loss 0.0244\n",
      "Training Accuracy: 0.9712, Testing Accuracy: 0.9708\n",
      "\n"
     ]
    },
    {
     "name": "stdout",
     "output_type": "stream",
     "text": [
      "Epoch 140, Loss 0.0238\n",
      "Training Accuracy: 0.9720, Testing Accuracy: 0.9713\n",
      "\n"
     ]
    },
    {
     "name": "stdout",
     "output_type": "stream",
     "text": [
      "Epoch 150, Loss 0.0232\n",
      "Training Accuracy: 0.9735, Testing Accuracy: 0.9718\n",
      "\n"
     ]
    },
    {
     "name": "stdout",
     "output_type": "stream",
     "text": [
      "Epoch 160, Loss 0.0226\n",
      "Training Accuracy: 0.9745, Testing Accuracy: 0.9723\n",
      "\n"
     ]
    },
    {
     "name": "stdout",
     "output_type": "stream",
     "text": [
      "Epoch 170, Loss 0.0221\n",
      "Training Accuracy: 0.9753, Testing Accuracy: 0.9733\n",
      "\n"
     ]
    },
    {
     "name": "stdout",
     "output_type": "stream",
     "text": [
      "Epoch 180, Loss 0.0216\n",
      "Training Accuracy: 0.9759, Testing Accuracy: 0.9738\n",
      "\n"
     ]
    },
    {
     "name": "stdout",
     "output_type": "stream",
     "text": [
      "Epoch 190, Loss 0.0212\n",
      "Training Accuracy: 0.9764, Testing Accuracy: 0.9733\n",
      "\n"
     ]
    },
    {
     "name": "stdout",
     "output_type": "stream",
     "text": [
      "Epoch 200, Loss 0.0208\n",
      "Training Accuracy: 0.9769, Testing Accuracy: 0.9738\n",
      "\n"
     ]
    },
    {
     "name": "stdout",
     "output_type": "stream",
     "text": [
      "Epoch 210, Loss 0.0203\n",
      "Training Accuracy: 0.9773, Testing Accuracy: 0.9733\n",
      "\n"
     ]
    },
    {
     "name": "stdout",
     "output_type": "stream",
     "text": [
      "Epoch 220, Loss 0.0199\n",
      "Training Accuracy: 0.9778, Testing Accuracy: 0.9738\n",
      "\n"
     ]
    },
    {
     "name": "stdout",
     "output_type": "stream",
     "text": [
      "Epoch 230, Loss 0.0196\n",
      "Training Accuracy: 0.9784, Testing Accuracy: 0.9738\n",
      "\n"
     ]
    },
    {
     "name": "stdout",
     "output_type": "stream",
     "text": [
      "Epoch 240, Loss 0.0192\n",
      "Training Accuracy: 0.9789, Testing Accuracy: 0.9733\n",
      "\n"
     ]
    },
    {
     "data": {
      "text/plain": [
       "0.003656128285702095"
      ]
     },
     "execution_count": 22,
     "metadata": {},
     "output_type": "execute_result"
    }
   ],
   "source": [
    "nn_learner.train_loop(dl)"
   ]
  },
  {
   "cell_type": "code",
   "execution_count": 23,
   "id": "e0163366",
   "metadata": {
    "execution": {
     "iopub.execute_input": "2021-08-27T10:08:49.944684Z",
     "iopub.status.busy": "2021-08-27T10:08:49.944147Z",
     "iopub.status.idle": "2021-08-27T10:09:04.260143Z",
     "shell.execute_reply": "2021-08-27T10:09:04.260862Z"
    },
    "papermill": {
     "duration": 14.369269,
     "end_time": "2021-08-27T10:09:04.261013",
     "exception": false,
     "start_time": "2021-08-27T10:08:49.891744",
     "status": "completed"
    },
    "tags": []
   },
   "outputs": [
    {
     "name": "stdout",
     "output_type": "stream",
     "text": [
      "Epoch 0, Loss 0.2505\n",
      "Training Accuracy: 0.6664, Testing Accuracy: 0.6689\n",
      "\n"
     ]
    },
    {
     "name": "stdout",
     "output_type": "stream",
     "text": [
      "Epoch 10, Loss 0.1021\n",
      "Training Accuracy: 0.9125, Testing Accuracy: 0.9173\n",
      "\n"
     ]
    },
    {
     "name": "stdout",
     "output_type": "stream",
     "text": [
      "Epoch 20, Loss 0.0786\n",
      "Training Accuracy: 0.9272, Testing Accuracy: 0.9325\n",
      "\n"
     ]
    },
    {
     "name": "stdout",
     "output_type": "stream",
     "text": [
      "Epoch 30, Loss 0.0679\n",
      "Training Accuracy: 0.9341, Testing Accuracy: 0.9415\n",
      "\n"
     ]
    },
    {
     "name": "stdout",
     "output_type": "stream",
     "text": [
      "Epoch 40, Loss 0.0615\n",
      "Training Accuracy: 0.9387, Testing Accuracy: 0.9481\n",
      "\n"
     ]
    },
    {
     "name": "stdout",
     "output_type": "stream",
     "text": [
      "Epoch 50, Loss 0.0571\n",
      "Training Accuracy: 0.9422, Testing Accuracy: 0.9521\n",
      "\n"
     ]
    },
    {
     "name": "stdout",
     "output_type": "stream",
     "text": [
      "Epoch 60, Loss 0.0538\n",
      "Training Accuracy: 0.9448, Testing Accuracy: 0.9536\n",
      "\n"
     ]
    },
    {
     "name": "stdout",
     "output_type": "stream",
     "text": [
      "Epoch 70, Loss 0.0513\n",
      "Training Accuracy: 0.9468, Testing Accuracy: 0.9561\n",
      "\n"
     ]
    },
    {
     "name": "stdout",
     "output_type": "stream",
     "text": [
      "Epoch 80, Loss 0.0492\n",
      "Training Accuracy: 0.9485, Testing Accuracy: 0.9572\n",
      "\n"
     ]
    },
    {
     "name": "stdout",
     "output_type": "stream",
     "text": [
      "Epoch 90, Loss 0.0476\n",
      "Training Accuracy: 0.9495, Testing Accuracy: 0.9577\n",
      "\n"
     ]
    },
    {
     "name": "stdout",
     "output_type": "stream",
     "text": [
      "Epoch 100, Loss 0.0461\n",
      "Training Accuracy: 0.9514, Testing Accuracy: 0.9597\n",
      "\n"
     ]
    },
    {
     "name": "stdout",
     "output_type": "stream",
     "text": [
      "Epoch 110, Loss 0.0449\n",
      "Training Accuracy: 0.9528, Testing Accuracy: 0.9612\n",
      "\n"
     ]
    },
    {
     "name": "stdout",
     "output_type": "stream",
     "text": [
      "Epoch 120, Loss 0.0439\n",
      "Training Accuracy: 0.9536, Testing Accuracy: 0.9612\n",
      "\n"
     ]
    },
    {
     "name": "stdout",
     "output_type": "stream",
     "text": [
      "Epoch 130, Loss 0.0429\n",
      "Training Accuracy: 0.9546, Testing Accuracy: 0.9622\n",
      "\n"
     ]
    },
    {
     "name": "stdout",
     "output_type": "stream",
     "text": [
      "Epoch 140, Loss 0.0421\n",
      "Training Accuracy: 0.9555, Testing Accuracy: 0.9632\n",
      "\n"
     ]
    },
    {
     "name": "stdout",
     "output_type": "stream",
     "text": [
      "Epoch 150, Loss 0.0413\n",
      "Training Accuracy: 0.9563, Testing Accuracy: 0.9657\n",
      "\n"
     ]
    },
    {
     "name": "stdout",
     "output_type": "stream",
     "text": [
      "Epoch 160, Loss 0.0407\n",
      "Training Accuracy: 0.9568, Testing Accuracy: 0.9657\n",
      "\n"
     ]
    },
    {
     "name": "stdout",
     "output_type": "stream",
     "text": [
      "Epoch 170, Loss 0.0401\n",
      "Training Accuracy: 0.9574, Testing Accuracy: 0.9662\n",
      "\n"
     ]
    },
    {
     "name": "stdout",
     "output_type": "stream",
     "text": [
      "Epoch 180, Loss 0.0395\n",
      "Training Accuracy: 0.9576, Testing Accuracy: 0.9672\n",
      "\n"
     ]
    },
    {
     "name": "stdout",
     "output_type": "stream",
     "text": [
      "Epoch 190, Loss 0.039\n",
      "Training Accuracy: 0.9580, Testing Accuracy: 0.9677\n",
      "\n"
     ]
    },
    {
     "name": "stdout",
     "output_type": "stream",
     "text": [
      "Epoch 200, Loss 0.0385\n",
      "Training Accuracy: 0.9587, Testing Accuracy: 0.9677\n",
      "\n"
     ]
    },
    {
     "name": "stdout",
     "output_type": "stream",
     "text": [
      "Epoch 210, Loss 0.038\n",
      "Training Accuracy: 0.9591, Testing Accuracy: 0.9682\n",
      "\n"
     ]
    },
    {
     "name": "stdout",
     "output_type": "stream",
     "text": [
      "Epoch 220, Loss 0.0376\n",
      "Training Accuracy: 0.9594, Testing Accuracy: 0.9688\n",
      "\n"
     ]
    },
    {
     "name": "stdout",
     "output_type": "stream",
     "text": [
      "Epoch 230, Loss 0.0372\n",
      "Training Accuracy: 0.9599, Testing Accuracy: 0.9682\n",
      "\n"
     ]
    },
    {
     "name": "stdout",
     "output_type": "stream",
     "text": [
      "Epoch 240, Loss 0.0369\n",
      "Training Accuracy: 0.9603, Testing Accuracy: 0.9682\n",
      "\n"
     ]
    },
    {
     "data": {
      "text/plain": [
       "0.08327834351898743"
      ]
     },
     "execution_count": 23,
     "metadata": {},
     "output_type": "execute_result"
    }
   ],
   "source": [
    "lr_learner.train_loop(dl)"
   ]
  },
  {
   "cell_type": "code",
   "execution_count": 24,
   "id": "ca410940",
   "metadata": {
    "execution": {
     "iopub.execute_input": "2021-08-27T10:09:04.353202Z",
     "iopub.status.busy": "2021-08-27T10:09:04.352655Z",
     "iopub.status.idle": "2021-08-27T10:09:04.578453Z",
     "shell.execute_reply": "2021-08-27T10:09:04.577930Z"
    },
    "papermill": {
     "duration": 0.275961,
     "end_time": "2021-08-27T10:09:04.578586",
     "exception": false,
     "start_time": "2021-08-27T10:09:04.302625",
     "status": "completed"
    },
    "tags": []
   },
   "outputs": [
    {
     "data": {
      "text/plain": [
       "<matplotlib.legend.Legend at 0x7f2a377ea9b0>"
      ]
     },
     "execution_count": 24,
     "metadata": {},
     "output_type": "execute_result"
    },
    {
     "data": {
      "image/png": "[encoded data removed]",
      "text/plain": [
       "<Figure size 1080x720 with 1 Axes>"
      ]
     },
     "metadata": {
      "needs_background": "light"
     },
     "output_type": "display_data"
    }
   ],
   "source": [
    "#comparing the results of NN and LR\n",
    "plt.figure(figsize=(15,10))\n",
    "\n",
    "# Neural Network plots\n",
    "plt.plot(acc_nn.accuracies, 'r-', label = \"Training Accuracies - NN\")\n",
    "plt.plot(acc_nn.test_accuracies, 'g-', label = \"Testing Accuracies - NN\")\n",
    "\n",
    "# Logistic Regression plots\n",
    "plt.plot(acc_lr.accuracies, 'k-', label = \"Training Accuracies - LR\")\n",
    "plt.plot(acc_lr.test_accuracies, 'b-', label = \"Testing Accuracies - LR\")\n",
    "plt.legend()"
   ]
  },
  {
   "cell_type": "markdown",
   "id": "80dfb35c",
   "metadata": {
    "papermill": {
     "duration": 0.042444,
     "end_time": "2021-08-27T10:09:04.663982",
     "exception": false,
     "start_time": "2021-08-27T10:09:04.621538",
     "status": "completed"
    },
    "tags": []
   },
   "source": [
    "#### Plotting the outputs of this layer of the NN.\n"
   ]
  },
  {
   "cell_type": "code",
   "execution_count": 25,
   "id": "45eb2ff5",
   "metadata": {
    "execution": {
     "iopub.execute_input": "2021-08-27T10:09:04.753599Z",
     "iopub.status.busy": "2021-08-27T10:09:04.753041Z",
     "iopub.status.idle": "2021-08-27T10:09:04.772454Z",
     "shell.execute_reply": "2021-08-27T10:09:04.772895Z"
    },
    "papermill": {
     "duration": 0.066286,
     "end_time": "2021-08-27T10:09:04.773040",
     "exception": false,
     "start_time": "2021-08-27T10:09:04.706754",
     "status": "completed"
    },
    "tags": []
   },
   "outputs": [],
   "source": [
    "new_model = Model(layers[:-2])\n",
    "testing_plot = new_model(testing_data_x)"
   ]
  },
  {
   "cell_type": "code",
   "execution_count": 26,
   "id": "4c0a5485",
   "metadata": {
    "execution": {
     "iopub.execute_input": "2021-08-27T10:09:04.870379Z",
     "iopub.status.busy": "2021-08-27T10:09:04.869862Z",
     "iopub.status.idle": "2021-08-27T10:09:05.058797Z",
     "shell.execute_reply": "2021-08-27T10:09:05.058330Z"
    },
    "papermill": {
     "duration": 0.236716,
     "end_time": "2021-08-27T10:09:05.058924",
     "exception": false,
     "start_time": "2021-08-27T10:09:04.822208",
     "status": "completed"
    },
    "tags": []
   },
   "outputs": [
    {
     "data": {
      "text/plain": [
       "Text(0.5, 1.0, 'Outputs')"
      ]
     },
     "execution_count": 26,
     "metadata": {},
     "output_type": "execute_result"
    },
    {
     "data": {
      "image/png": "[encoded data removed]",
      "text/plain": [
       "<Figure size 576x504 with 1 Axes>"
      ]
     },
     "metadata": {
      "needs_background": "light"
     },
     "output_type": "display_data"
    }
   ],
   "source": [
    "# Plotting the scatter plot of points and color coding by class\n",
    "plt.figure(figsize=(8,7))\n",
    "plt.scatter(testing_plot[:,0], testing_plot[:,1], alpha = 0.1, c = y_test.ravel());\n",
    "plt.title('Outputs')"
   ]
  },
  {
   "cell_type": "markdown",
   "id": "a74fcf8f",
   "metadata": {
    "papermill": {
     "duration": 0.044194,
     "end_time": "2021-08-27T10:09:05.148187",
     "exception": false,
     "start_time": "2021-08-27T10:09:05.103993",
     "status": "completed"
    },
    "tags": []
   },
   "source": [
    "Probability contours"
   ]
  },
  {
   "cell_type": "code",
   "execution_count": 27,
   "id": "d0afc8e3",
   "metadata": {
    "execution": {
     "iopub.execute_input": "2021-08-27T10:09:05.244142Z",
     "iopub.status.busy": "2021-08-27T10:09:05.243579Z",
     "iopub.status.idle": "2021-08-27T10:09:05.253447Z",
     "shell.execute_reply": "2021-08-27T10:09:05.253026Z"
    },
    "papermill": {
     "duration": 0.061019,
     "end_time": "2021-08-27T10:09:05.253565",
     "exception": false,
     "start_time": "2021-08-27T10:09:05.192546",
     "status": "completed"
    },
    "tags": []
   },
   "outputs": [],
   "source": [
    "model_prob = Model(layers[-2:]) "
   ]
  },
  {
   "cell_type": "code",
   "execution_count": 28,
   "id": "9b96e238",
   "metadata": {
    "execution": {
     "iopub.execute_input": "2021-08-27T10:09:05.348382Z",
     "iopub.status.busy": "2021-08-27T10:09:05.347388Z",
     "iopub.status.idle": "2021-08-27T10:09:05.362426Z",
     "shell.execute_reply": "2021-08-27T10:09:05.362822Z"
    },
    "papermill": {
     "duration": 0.065041,
     "end_time": "2021-08-27T10:09:05.362963",
     "exception": false,
     "start_time": "2021-08-27T10:09:05.297922",
     "status": "completed"
    },
    "tags": []
   },
   "outputs": [],
   "source": [
    "#creating the x and y ranges according to the above generated plot.\n",
    "x_range = np.linspace(-4, 1, 100) \n",
    "y_range = np.linspace(-6, 6, 100) \n",
    "x_grid, y_grid = np.meshgrid(x_range, y_range) # x_grid and y_grig are of size 100 X 100\n",
    "\n",
    "# converting x_grid and y_grid to continuous arrays\n",
    "x_gridflat = np.ravel(x_grid)\n",
    "y_gridflat = np.ravel(y_grid)\n",
    "\n",
    "# The last layer of the current model takes two columns as input. Hence transpose of np.vstack() is required.\n",
    "X = np.vstack((x_gridflat, y_gridflat)).T\n",
    "\n",
    "prob_contour = model_prob(X).reshape(100,100) "
   ]
  },
  {
   "cell_type": "code",
   "execution_count": 29,
   "id": "da72499a",
   "metadata": {
    "execution": {
     "iopub.execute_input": "2021-08-27T10:09:05.500460Z",
     "iopub.status.busy": "2021-08-27T10:09:05.499909Z",
     "iopub.status.idle": "2021-08-27T10:09:05.740341Z",
     "shell.execute_reply": "2021-08-27T10:09:05.739912Z"
    },
    "papermill": {
     "duration": 0.326645,
     "end_time": "2021-08-27T10:09:05.740462",
     "exception": false,
     "start_time": "2021-08-27T10:09:05.413817",
     "status": "completed"
    },
    "tags": []
   },
   "outputs": [
    {
     "data": {
      "image/png": "[encoded data removed]",
      "text/plain": [
       "<Figure size 720x648 with 1 Axes>"
      ]
     },
     "metadata": {
      "needs_background": "light"
     },
     "output_type": "display_data"
    }
   ],
   "source": [
    "plt.figure(figsize=(10,9))\n",
    "plt.scatter(testing_plot[:,0], testing_plot[:,1], alpha = 0.1, c = y_test.ravel())\n",
    "contours = plt.contour(x_grid,y_grid,prob_contour)\n",
    "plt.title('Probability Contours')\n",
    "plt.clabel(contours, inline = True );"
   ]
  },
  {
   "cell_type": "code",
   "execution_count": null,
   "id": "e81b4ac7",
   "metadata": {
    "papermill": {
     "duration": 0.04684,
     "end_time": "2021-08-27T10:09:05.834909",
     "exception": false,
     "start_time": "2021-08-27T10:09:05.788069",
     "status": "completed"
    },
    "tags": []
   },
   "outputs": [],
   "source": []
  }
 ],
 "metadata": {
  "kernelspec": {
   "display_name": "Python 3",
   "language": "python",
   "name": "python3"
  },
  "language_info": {
   "codemirror_mode": {
    "name": "ipython",
    "version": 3
   },
   "file_extension": ".py",
   "mimetype": "text/x-python",
   "name": "python",
   "nbconvert_exporter": "python",
   "pygments_lexer": "ipython3",
   "version": "3.6.14"
  },
  "papermill": {
   "default_parameters": {},
   "duration": 123.950946,
   "end_time": "2021-08-27T10:09:06.289842",
   "environment_variables": {},
   "exception": null,
   "input_path": "2020-08-11-part2.ipynb",
   "output_path": "2020-08-11-part2.ipynb",
   "parameters": {},
   "start_time": "2021-08-27T10:07:02.338896",
   "version": "2.3.3"
  }
 },
 "nbformat": 4,
 "nbformat_minor": 5
}