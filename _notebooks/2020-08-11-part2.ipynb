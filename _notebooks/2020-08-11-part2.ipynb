{
 "cells": [
  {
   "cell_type": "markdown",
   "id": "98380cd3",
   "metadata": {
    "papermill": {
     "duration": 0.037073,
     "end_time": "2022-01-17T00:25:58.337134",
     "exception": false,
     "start_time": "2022-01-17T00:25:58.300061",
     "status": "completed"
    },
    "tags": []
   },
   "source": [
    "# Distinguish Your Own Digits (DYOD)"
   ]
  },
  {
   "cell_type": "markdown",
   "id": "ef31240d",
   "metadata": {
    "papermill": {
     "duration": 0.031881,
     "end_time": "2022-01-17T00:25:58.401298",
     "exception": false,
     "start_time": "2022-01-17T00:25:58.369417",
     "status": "completed"
    },
    "tags": []
   },
   "source": [
    "You are going to write a classifier that distinguishes between the number 3 and number 8."
   ]
  },
  {
   "cell_type": "code",
   "execution_count": 1,
   "id": "b15c8646",
   "metadata": {
    "execution": {
     "iopub.execute_input": "2022-01-17T00:25:58.481828Z",
     "iopub.status.busy": "2022-01-17T00:25:58.481048Z",
     "iopub.status.idle": "2022-01-17T00:25:58.494080Z",
     "shell.execute_reply": "2022-01-17T00:25:58.493393Z"
    },
    "papermill": {
     "duration": 0.059084,
     "end_time": "2022-01-17T00:25:58.494250",
     "exception": false,
     "start_time": "2022-01-17T00:25:58.435166",
     "status": "completed"
    },
    "tags": []
   },
   "outputs": [],
   "source": [
    "%load_ext autoreload\n",
    "%autoreload 2"
   ]
  },
  {
   "cell_type": "code",
   "execution_count": 2,
   "id": "22ef38dc",
   "metadata": {
    "execution": {
     "iopub.execute_input": "2022-01-17T00:25:58.567957Z",
     "iopub.status.busy": "2022-01-17T00:25:58.567233Z",
     "iopub.status.idle": "2022-01-17T00:25:59.306075Z",
     "shell.execute_reply": "2022-01-17T00:25:59.305446Z"
    },
    "papermill": {
     "duration": 0.777918,
     "end_time": "2022-01-17T00:25:59.306224",
     "exception": false,
     "start_time": "2022-01-17T00:25:58.528306",
     "status": "completed"
    },
    "tags": []
   },
   "outputs": [],
   "source": [
    "%matplotlib inline\n",
    "import numpy as np\n",
    "import matplotlib.pyplot as plt\n",
    "import pandas as pd"
   ]
  },
  {
   "cell_type": "markdown",
   "id": "ba036198",
   "metadata": {
    "papermill": {
     "duration": 0.02997,
     "end_time": "2022-01-17T00:25:59.367576",
     "exception": false,
     "start_time": "2022-01-17T00:25:59.337606",
     "status": "completed"
    },
    "tags": []
   },
   "source": [
    "From the command line run `pip install mnist`. This is a library that will help you bring down the mnist dataset. If you run this from a notebook, you need to put  `!pip install mnist` in a cell by itself."
   ]
  },
  {
   "cell_type": "code",
   "execution_count": 3,
   "id": "bb6ad8a1",
   "metadata": {
    "execution": {
     "iopub.execute_input": "2022-01-17T00:25:59.436451Z",
     "iopub.status.busy": "2022-01-17T00:25:59.435592Z",
     "iopub.status.idle": "2022-01-17T00:26:02.277485Z",
     "shell.execute_reply": "2022-01-17T00:26:02.277998Z"
    },
    "papermill": {
     "duration": 2.878235,
     "end_time": "2022-01-17T00:26:02.278175",
     "exception": false,
     "start_time": "2022-01-17T00:25:59.399940",
     "status": "completed"
    },
    "tags": []
   },
   "outputs": [
    {
     "name": "stdout",
     "output_type": "stream",
     "text": [
      "Collecting mnist\r\n"
     ]
    },
    {
     "name": "stdout",
     "output_type": "stream",
     "text": [
      "  Downloading mnist-0.2.2-py2.py3-none-any.whl (3.5 kB)\r\n",
      "Requirement already satisfied: numpy in /opt/hostedtoolcache/Python/3.6.15/x64/lib/python3.6/site-packages (from mnist) (1.19.5)\r\n"
     ]
    },
    {
     "name": "stdout",
     "output_type": "stream",
     "text": [
      "Installing collected packages: mnist\r\n"
     ]
    },
    {
     "name": "stdout",
     "output_type": "stream",
     "text": [
      "Successfully installed mnist-0.2.2\r\n"
     ]
    }
   ],
   "source": [
    "!pip install mnist"
   ]
  },
  {
   "cell_type": "markdown",
   "id": "69df9c9a",
   "metadata": {
    "papermill": {
     "duration": 0.033675,
     "end_time": "2022-01-17T00:26:02.345522",
     "exception": false,
     "start_time": "2022-01-17T00:26:02.311847",
     "status": "completed"
    },
    "tags": []
   },
   "source": [
    "## Preparing the Data"
   ]
  },
  {
   "cell_type": "code",
   "execution_count": 4,
   "id": "7f69d806",
   "metadata": {
    "execution": {
     "iopub.execute_input": "2022-01-17T00:26:02.418296Z",
     "iopub.status.busy": "2022-01-17T00:26:02.417596Z",
     "iopub.status.idle": "2022-01-17T00:26:02.434919Z",
     "shell.execute_reply": "2022-01-17T00:26:02.434262Z"
    },
    "papermill": {
     "duration": 0.055991,
     "end_time": "2022-01-17T00:26:02.435066",
     "exception": false,
     "start_time": "2022-01-17T00:26:02.379075",
     "status": "completed"
    },
    "tags": []
   },
   "outputs": [],
   "source": [
    "import mnist"
   ]
  },
  {
   "cell_type": "code",
   "execution_count": 5,
   "id": "a411e44f",
   "metadata": {
    "execution": {
     "iopub.execute_input": "2022-01-17T00:26:02.508147Z",
     "iopub.status.busy": "2022-01-17T00:26:02.507453Z",
     "iopub.status.idle": "2022-01-17T00:26:03.146764Z",
     "shell.execute_reply": "2022-01-17T00:26:03.147252Z"
    },
    "papermill": {
     "duration": 0.678254,
     "end_time": "2022-01-17T00:26:03.147448",
     "exception": false,
     "start_time": "2022-01-17T00:26:02.469194",
     "status": "completed"
    },
    "tags": []
   },
   "outputs": [],
   "source": [
    "train_images = mnist.train_images()\n",
    "train_labels = mnist.train_labels()"
   ]
  },
  {
   "cell_type": "code",
   "execution_count": 6,
   "id": "dceab3a5",
   "metadata": {
    "execution": {
     "iopub.execute_input": "2022-01-17T00:26:03.224063Z",
     "iopub.status.busy": "2022-01-17T00:26:03.223427Z",
     "iopub.status.idle": "2022-01-17T00:26:03.240609Z",
     "shell.execute_reply": "2022-01-17T00:26:03.240064Z"
    },
    "papermill": {
     "duration": 0.056269,
     "end_time": "2022-01-17T00:26:03.240738",
     "exception": false,
     "start_time": "2022-01-17T00:26:03.184469",
     "status": "completed"
    },
    "tags": []
   },
   "outputs": [
    {
     "data": {
      "text/plain": [
       "((60000, 28, 28), (60000,))"
      ]
     },
     "execution_count": 6,
     "metadata": {},
     "output_type": "execute_result"
    }
   ],
   "source": [
    "train_images.shape, train_labels.shape"
   ]
  },
  {
   "cell_type": "code",
   "execution_count": 7,
   "id": "f50dc2bb",
   "metadata": {
    "execution": {
     "iopub.execute_input": "2022-01-17T00:26:03.312801Z",
     "iopub.status.busy": "2022-01-17T00:26:03.312177Z",
     "iopub.status.idle": "2022-01-17T00:26:03.491158Z",
     "shell.execute_reply": "2022-01-17T00:26:03.491892Z"
    },
    "papermill": {
     "duration": 0.217768,
     "end_time": "2022-01-17T00:26:03.492095",
     "exception": false,
     "start_time": "2022-01-17T00:26:03.274327",
     "status": "completed"
    },
    "tags": []
   },
   "outputs": [],
   "source": [
    "test_images = mnist.test_images()\n",
    "test_labels = mnist.test_labels()"
   ]
  },
  {
   "cell_type": "code",
   "execution_count": 8,
   "id": "fc38cf1b",
   "metadata": {
    "execution": {
     "iopub.execute_input": "2022-01-17T00:26:03.563025Z",
     "iopub.status.busy": "2022-01-17T00:26:03.562206Z",
     "iopub.status.idle": "2022-01-17T00:26:03.577749Z",
     "shell.execute_reply": "2022-01-17T00:26:03.577116Z"
    },
    "papermill": {
     "duration": 0.052024,
     "end_time": "2022-01-17T00:26:03.577929",
     "exception": false,
     "start_time": "2022-01-17T00:26:03.525905",
     "status": "completed"
    },
    "tags": []
   },
   "outputs": [
    {
     "data": {
      "text/plain": [
       "((10000, 28, 28), (10000,))"
      ]
     },
     "execution_count": 8,
     "metadata": {},
     "output_type": "execute_result"
    }
   ],
   "source": [
    "test_images.shape, test_labels.shape"
   ]
  },
  {
   "cell_type": "code",
   "execution_count": 9,
   "id": "f9ed8fe0",
   "metadata": {
    "execution": {
     "iopub.execute_input": "2022-01-17T00:26:03.679222Z",
     "iopub.status.busy": "2022-01-17T00:26:03.652262Z",
     "iopub.status.idle": "2022-01-17T00:26:03.841797Z",
     "shell.execute_reply": "2022-01-17T00:26:03.841146Z"
    },
    "papermill": {
     "duration": 0.230384,
     "end_time": "2022-01-17T00:26:03.842125",
     "exception": false,
     "start_time": "2022-01-17T00:26:03.611741",
     "status": "completed"
    },
    "tags": []
   },
   "outputs": [
    {
     "name": "stdout",
     "output_type": "stream",
     "text": [
      "2\n"
     ]
    },
    {
     "data": {
      "text/plain": [
       "<matplotlib.image.AxesImage at 0x7f5084acd630>"
      ]
     },
     "execution_count": 9,
     "metadata": {},
     "output_type": "execute_result"
    },
    {
     "data": {
      "image/png": "[encoded data removed]",
      "text/plain": [
       "<Figure size 432x288 with 1 Axes>"
      ]
     },
     "metadata": {
      "needs_background": "light"
     },
     "output_type": "display_data"
    }
   ],
   "source": [
    "image_index = 7776 # You may select anything up to 60,000\n",
    "print(train_labels[image_index]) \n",
    "plt.imshow(train_images[image_index], cmap='Greys')"
   ]
  },
  {
   "cell_type": "markdown",
   "id": "a8d2388d",
   "metadata": {
    "papermill": {
     "duration": 0.036428,
     "end_time": "2022-01-17T00:26:03.913783",
     "exception": false,
     "start_time": "2022-01-17T00:26:03.877355",
     "status": "completed"
    },
    "tags": []
   },
   "source": [
    "## Filter data to get 3 and 8 out"
   ]
  },
  {
   "cell_type": "code",
   "execution_count": 10,
   "id": "776f7fc7",
   "metadata": {
    "execution": {
     "iopub.execute_input": "2022-01-17T00:26:03.989831Z",
     "iopub.status.busy": "2022-01-17T00:26:03.989201Z",
     "iopub.status.idle": "2022-01-17T00:26:04.012948Z",
     "shell.execute_reply": "2022-01-17T00:26:04.013434Z"
    },
    "papermill": {
     "duration": 0.065186,
     "end_time": "2022-01-17T00:26:04.013600",
     "exception": false,
     "start_time": "2022-01-17T00:26:03.948414",
     "status": "completed"
    },
    "tags": []
   },
   "outputs": [],
   "source": [
    "train_filter = np.where((train_labels == 3 ) | (train_labels == 8))\n",
    "test_filter = np.where((test_labels == 3) | (test_labels == 8))\n",
    "X_train, y_train = train_images[train_filter], train_labels[train_filter]\n",
    "X_test, y_test = test_images[test_filter], test_labels[test_filter]"
   ]
  },
  {
   "cell_type": "markdown",
   "id": "948f0b7e",
   "metadata": {
    "papermill": {
     "duration": 0.035345,
     "end_time": "2022-01-17T00:26:04.085150",
     "exception": false,
     "start_time": "2022-01-17T00:26:04.049805",
     "status": "completed"
    },
    "tags": []
   },
   "source": [
    "We normalize the pizel values in the 0 to 1 range"
   ]
  },
  {
   "cell_type": "code",
   "execution_count": 11,
   "id": "ee4c2166",
   "metadata": {
    "execution": {
     "iopub.execute_input": "2022-01-17T00:26:04.161365Z",
     "iopub.status.busy": "2022-01-17T00:26:04.160621Z",
     "iopub.status.idle": "2022-01-17T00:26:04.230282Z",
     "shell.execute_reply": "2022-01-17T00:26:04.229648Z"
    },
    "papermill": {
     "duration": 0.109853,
     "end_time": "2022-01-17T00:26:04.230424",
     "exception": false,
     "start_time": "2022-01-17T00:26:04.120571",
     "status": "completed"
    },
    "tags": []
   },
   "outputs": [],
   "source": [
    "X_train = X_train/255.\n",
    "X_test = X_test/255."
   ]
  },
  {
   "cell_type": "markdown",
   "id": "ddcf4fab",
   "metadata": {
    "papermill": {
     "duration": 0.036161,
     "end_time": "2022-01-17T00:26:04.301063",
     "exception": false,
     "start_time": "2022-01-17T00:26:04.264902",
     "status": "completed"
    },
    "tags": []
   },
   "source": [
    "And setup the labels as 1 (when the digit is 3) and 0 (when the digit is 8)"
   ]
  },
  {
   "cell_type": "code",
   "execution_count": 12,
   "id": "7dc908f2",
   "metadata": {
    "execution": {
     "iopub.execute_input": "2022-01-17T00:26:04.378251Z",
     "iopub.status.busy": "2022-01-17T00:26:04.377585Z",
     "iopub.status.idle": "2022-01-17T00:26:04.393652Z",
     "shell.execute_reply": "2022-01-17T00:26:04.393102Z"
    },
    "papermill": {
     "duration": 0.058167,
     "end_time": "2022-01-17T00:26:04.393793",
     "exception": false,
     "start_time": "2022-01-17T00:26:04.335626",
     "status": "completed"
    },
    "tags": []
   },
   "outputs": [],
   "source": [
    "y_train = 1*(y_train==3)\n",
    "y_test = 1*(y_test==3)"
   ]
  },
  {
   "cell_type": "code",
   "execution_count": 13,
   "id": "01e4e969",
   "metadata": {
    "execution": {
     "iopub.execute_input": "2022-01-17T00:26:04.468590Z",
     "iopub.status.busy": "2022-01-17T00:26:04.467913Z",
     "iopub.status.idle": "2022-01-17T00:26:04.481713Z",
     "shell.execute_reply": "2022-01-17T00:26:04.482286Z"
    },
    "papermill": {
     "duration": 0.053417,
     "end_time": "2022-01-17T00:26:04.482422",
     "exception": false,
     "start_time": "2022-01-17T00:26:04.429005",
     "status": "completed"
    },
    "tags": []
   },
   "outputs": [
    {
     "data": {
      "text/plain": [
       "((11982, 28, 28), (1984, 28, 28))"
      ]
     },
     "execution_count": 13,
     "metadata": {},
     "output_type": "execute_result"
    }
   ],
   "source": [
    "X_train.shape, X_test.shape"
   ]
  },
  {
   "cell_type": "markdown",
   "id": "5ccf3f85",
   "metadata": {
    "papermill": {
     "duration": 0.034906,
     "end_time": "2022-01-17T00:26:04.553049",
     "exception": false,
     "start_time": "2022-01-17T00:26:04.518143",
     "status": "completed"
    },
    "tags": []
   },
   "source": [
    "We reshape the data to flatten the image pixels into a set of features or co-variates:"
   ]
  },
  {
   "cell_type": "code",
   "execution_count": 14,
   "id": "5286a4a3",
   "metadata": {
    "execution": {
     "iopub.execute_input": "2022-01-17T00:26:04.630648Z",
     "iopub.status.busy": "2022-01-17T00:26:04.629965Z",
     "iopub.status.idle": "2022-01-17T00:26:04.646123Z",
     "shell.execute_reply": "2022-01-17T00:26:04.645635Z"
    },
    "papermill": {
     "duration": 0.057615,
     "end_time": "2022-01-17T00:26:04.646250",
     "exception": false,
     "start_time": "2022-01-17T00:26:04.588635",
     "status": "completed"
    },
    "tags": []
   },
   "outputs": [
    {
     "data": {
      "text/plain": [
       "((11982, 784), (1984, 784))"
      ]
     },
     "execution_count": 14,
     "metadata": {},
     "output_type": "execute_result"
    }
   ],
   "source": [
    "X_train = X_train.reshape(X_train.shape[0], -1)\n",
    "X_test = X_test.reshape(X_test.shape[0], -1)\n",
    "X_train.shape, X_test.shape"
   ]
  },
  {
   "cell_type": "code",
   "execution_count": 15,
   "id": "73c5f88a",
   "metadata": {
    "execution": {
     "iopub.execute_input": "2022-01-17T00:26:04.722727Z",
     "iopub.status.busy": "2022-01-17T00:26:04.722075Z",
     "iopub.status.idle": "2022-01-17T00:26:04.745108Z",
     "shell.execute_reply": "2022-01-17T00:26:04.744551Z"
    },
    "papermill": {
     "duration": 0.063561,
     "end_time": "2022-01-17T00:26:04.745238",
     "exception": false,
     "start_time": "2022-01-17T00:26:04.681677",
     "status": "completed"
    },
    "tags": []
   },
   "outputs": [],
   "source": [
    "#Impoting functions from 'Kudzu'\n",
    "from kudzu.model import Model\n",
    "from kudzu.train import Learner\n",
    "from kudzu.optim import GD\n",
    "from kudzu.data import Data, Sampler,Dataloader\n",
    "\n",
    "from kudzu.callbacks import AccCallback\n",
    "from kudzu.callbacks import ClfCallback\n",
    "\n",
    "from kudzu.loss import MSE\n",
    "\n",
    "from kudzu.layer import Sigmoid,Relu\n",
    "from kudzu.layer import Affine"
   ]
  },
  {
   "cell_type": "markdown",
   "id": "bc01172a",
   "metadata": {
    "papermill": {
     "duration": 0.037173,
     "end_time": "2022-01-17T00:26:04.818203",
     "exception": false,
     "start_time": "2022-01-17T00:26:04.781030",
     "status": "completed"
    },
    "tags": []
   },
   "source": [
    "### Let us create a `Config` class, to store important parameters. \n",
    "This class essentially plays the role of a dictionary."
   ]
  },
  {
   "cell_type": "code",
   "execution_count": 16,
   "id": "978281aa",
   "metadata": {
    "execution": {
     "iopub.execute_input": "2022-01-17T00:26:04.892337Z",
     "iopub.status.busy": "2022-01-17T00:26:04.891695Z",
     "iopub.status.idle": "2022-01-17T00:26:04.907701Z",
     "shell.execute_reply": "2022-01-17T00:26:04.907199Z"
    },
    "papermill": {
     "duration": 0.054839,
     "end_time": "2022-01-17T00:26:04.907839",
     "exception": false,
     "start_time": "2022-01-17T00:26:04.853000",
     "status": "completed"
    },
    "tags": []
   },
   "outputs": [],
   "source": [
    "class Config:\n",
    "    pass\n",
    "config = Config()\n",
    "config.lr = 0.001\n",
    "config.num_epochs = 250\n",
    "config.bs = 50"
   ]
  },
  {
   "cell_type": "markdown",
   "id": "1385fa59",
   "metadata": {
    "papermill": {
     "duration": 0.034458,
     "end_time": "2022-01-17T00:26:04.978339",
     "exception": false,
     "start_time": "2022-01-17T00:26:04.943881",
     "status": "completed"
    },
    "tags": []
   },
   "source": [
    "### Running Models with the Training data\n",
    "Details about the network layers:\n",
    "- A first affine layer has 784 inputs and does 100 affine transforms. These are followed by a Relu\n",
    "- A second affine layer has 100 inputs from the 100 activations of the past layer, and does 100 affine transforms. These are followed by a Relu\n",
    "- A third affine layer has 100 activations and does 2 affine transformations to create an embedding for visualization. There is no non-linearity here.\n",
    "- A final \"logistic regression\" which has an affine transform from 2 inputs to 1 output, which is squeezed through a sigmoid.\n"
   ]
  },
  {
   "cell_type": "code",
   "execution_count": 17,
   "id": "2b9c66db",
   "metadata": {
    "execution": {
     "iopub.execute_input": "2022-01-17T00:26:05.060718Z",
     "iopub.status.busy": "2022-01-17T00:26:05.060091Z",
     "iopub.status.idle": "2022-01-17T00:26:05.075154Z",
     "shell.execute_reply": "2022-01-17T00:26:05.074573Z"
    },
    "papermill": {
     "duration": 0.054889,
     "end_time": "2022-01-17T00:26:05.075286",
     "exception": false,
     "start_time": "2022-01-17T00:26:05.020397",
     "status": "completed"
    },
    "tags": []
   },
   "outputs": [],
   "source": [
    "data = Data(X_train, y_train.reshape(-1,1))\n",
    "sampler = Sampler(data, config.bs, shuffle=True)\n",
    "\n",
    "dl = Dataloader(data, sampler)\n",
    "\n",
    "opt = GD(config.lr)\n",
    "loss = MSE()"
   ]
  },
  {
   "cell_type": "code",
   "execution_count": 18,
   "id": "b275e4c2",
   "metadata": {
    "execution": {
     "iopub.execute_input": "2022-01-17T00:26:05.156361Z",
     "iopub.status.busy": "2022-01-17T00:26:05.155623Z",
     "iopub.status.idle": "2022-01-17T00:26:05.169058Z",
     "shell.execute_reply": "2022-01-17T00:26:05.168453Z"
    },
    "papermill": {
     "duration": 0.059656,
     "end_time": "2022-01-17T00:26:05.169184",
     "exception": false,
     "start_time": "2022-01-17T00:26:05.109528",
     "status": "completed"
    },
    "tags": []
   },
   "outputs": [],
   "source": [
    "training_data_x = X_train\n",
    "testing_data_x = X_test\n",
    "training_data_y = y_train.reshape(-1,1)\n",
    "testing_data_y = y_test.reshape(-1,1)"
   ]
  },
  {
   "cell_type": "code",
   "execution_count": 19,
   "id": "76951160",
   "metadata": {
    "execution": {
     "iopub.execute_input": "2022-01-17T00:26:05.255858Z",
     "iopub.status.busy": "2022-01-17T00:26:05.255087Z",
     "iopub.status.idle": "2022-01-17T00:26:05.273166Z",
     "shell.execute_reply": "2022-01-17T00:26:05.272630Z"
    },
    "papermill": {
     "duration": 0.058883,
     "end_time": "2022-01-17T00:26:05.273484",
     "exception": false,
     "start_time": "2022-01-17T00:26:05.214601",
     "status": "completed"
    },
    "tags": []
   },
   "outputs": [
    {
     "name": "stdout",
     "output_type": "stream",
     "text": [
      "xavier\n",
      "xavier\n",
      "xavier\n",
      "xavier\n",
      "xavier\n"
     ]
    }
   ],
   "source": [
    "layers = [Affine(\"first\", 784, 100), Relu(\"first\"), Affine(\"second\", 100, 100), Relu(\"second\"), Affine(\"third\", 100, 2), Affine(\"last\", 2, 1), Sigmoid(\"last\")]\n",
    "model_nn = Model(layers)\n",
    "model_lr = Model([Affine(\"logits\", 784, 1), Sigmoid(\"sigmoid\")])"
   ]
  },
  {
   "cell_type": "code",
   "execution_count": 20,
   "id": "6eede77a",
   "metadata": {
    "execution": {
     "iopub.execute_input": "2022-01-17T00:26:05.350473Z",
     "iopub.status.busy": "2022-01-17T00:26:05.349872Z",
     "iopub.status.idle": "2022-01-17T00:26:05.365290Z",
     "shell.execute_reply": "2022-01-17T00:26:05.364323Z"
    },
    "papermill": {
     "duration": 0.056561,
     "end_time": "2022-01-17T00:26:05.365501",
     "exception": false,
     "start_time": "2022-01-17T00:26:05.308940",
     "status": "completed"
    },
    "tags": []
   },
   "outputs": [],
   "source": [
    "nn_learner = Learner(loss, model_nn, opt, config.num_epochs)\n",
    "acc_nn = ClfCallback(nn_learner, config.bs, training_data_x , testing_data_x, training_data_y, testing_data_y)\n",
    "nn_learner.set_callbacks([acc_nn])"
   ]
  },
  {
   "cell_type": "code",
   "execution_count": 21,
   "id": "877b6cc7",
   "metadata": {
    "execution": {
     "iopub.execute_input": "2022-01-17T00:26:05.446806Z",
     "iopub.status.busy": "2022-01-17T00:26:05.446110Z",
     "iopub.status.idle": "2022-01-17T00:26:05.461477Z",
     "shell.execute_reply": "2022-01-17T00:26:05.460902Z"
    },
    "papermill": {
     "duration": 0.057914,
     "end_time": "2022-01-17T00:26:05.461613",
     "exception": false,
     "start_time": "2022-01-17T00:26:05.403699",
     "status": "completed"
    },
    "tags": []
   },
   "outputs": [],
   "source": [
    "lr_learner = Learner(loss, model_lr, opt, config.num_epochs)\n",
    "acc_lr = ClfCallback(lr_learner, config.bs, training_data_x , testing_data_x, training_data_y, testing_data_y)\n",
    "lr_learner.set_callbacks([acc_lr])"
   ]
  },
  {
   "cell_type": "code",
   "execution_count": 22,
   "id": "d9b133c3",
   "metadata": {
    "execution": {
     "iopub.execute_input": "2022-01-17T00:26:05.541484Z",
     "iopub.status.busy": "2022-01-17T00:26:05.540549Z",
     "iopub.status.idle": "2022-01-17T00:28:30.083368Z",
     "shell.execute_reply": "2022-01-17T00:28:30.083922Z"
    },
    "papermill": {
     "duration": 144.584645,
     "end_time": "2022-01-17T00:28:30.084097",
     "exception": false,
     "start_time": "2022-01-17T00:26:05.499452",
     "status": "completed"
    },
    "tags": []
   },
   "outputs": [
    {
     "name": "stdout",
     "output_type": "stream",
     "text": [
      "Epoch 0, Loss 0.232\n",
      "Training Accuracy: 0.7993, Testing Accuracy: 0.8070\n",
      "\n"
     ]
    },
    {
     "name": "stdout",
     "output_type": "stream",
     "text": [
      "Epoch 10, Loss 0.0803\n",
      "Training Accuracy: 0.9362, Testing Accuracy: 0.9451\n",
      "\n"
     ]
    },
    {
     "name": "stdout",
     "output_type": "stream",
     "text": [
      "Epoch 20, Loss 0.0508\n",
      "Training Accuracy: 0.9486, Testing Accuracy: 0.9551\n",
      "\n"
     ]
    },
    {
     "name": "stdout",
     "output_type": "stream",
     "text": [
      "Epoch 30, Loss 0.0413\n",
      "Training Accuracy: 0.9563, Testing Accuracy: 0.9632\n",
      "\n"
     ]
    },
    {
     "name": "stdout",
     "output_type": "stream",
     "text": [
      "Epoch 40, Loss 0.0365\n",
      "Training Accuracy: 0.9606, Testing Accuracy: 0.9657\n",
      "\n"
     ]
    },
    {
     "name": "stdout",
     "output_type": "stream",
     "text": [
      "Epoch 50, Loss 0.0335\n",
      "Training Accuracy: 0.9628, Testing Accuracy: 0.9667\n",
      "\n"
     ]
    },
    {
     "name": "stdout",
     "output_type": "stream",
     "text": [
      "Epoch 60, Loss 0.0314\n",
      "Training Accuracy: 0.9646, Testing Accuracy: 0.9677\n",
      "\n"
     ]
    },
    {
     "name": "stdout",
     "output_type": "stream",
     "text": [
      "Epoch 70, Loss 0.0298\n",
      "Training Accuracy: 0.9656, Testing Accuracy: 0.9698\n",
      "\n"
     ]
    },
    {
     "name": "stdout",
     "output_type": "stream",
     "text": [
      "Epoch 80, Loss 0.0285\n",
      "Training Accuracy: 0.9672, Testing Accuracy: 0.9693\n",
      "\n"
     ]
    },
    {
     "name": "stdout",
     "output_type": "stream",
     "text": [
      "Epoch 90, Loss 0.0274\n",
      "Training Accuracy: 0.9681, Testing Accuracy: 0.9688\n",
      "\n"
     ]
    },
    {
     "name": "stdout",
     "output_type": "stream",
     "text": [
      "Epoch 100, Loss 0.0264\n",
      "Training Accuracy: 0.9692, Testing Accuracy: 0.9708\n",
      "\n"
     ]
    },
    {
     "name": "stdout",
     "output_type": "stream",
     "text": [
      "Epoch 110, Loss 0.0256\n",
      "Training Accuracy: 0.9701, Testing Accuracy: 0.9708\n",
      "\n"
     ]
    },
    {
     "name": "stdout",
     "output_type": "stream",
     "text": [
      "Epoch 120, Loss 0.0248\n",
      "Training Accuracy: 0.9710, Testing Accuracy: 0.9698\n",
      "\n"
     ]
    },
    {
     "name": "stdout",
     "output_type": "stream",
     "text": [
      "Epoch 130, Loss 0.0241\n",
      "Training Accuracy: 0.9715, Testing Accuracy: 0.9703\n",
      "\n"
     ]
    },
    {
     "name": "stdout",
     "output_type": "stream",
     "text": [
      "Epoch 140, Loss 0.0235\n",
      "Training Accuracy: 0.9724, Testing Accuracy: 0.9708\n",
      "\n"
     ]
    },
    {
     "name": "stdout",
     "output_type": "stream",
     "text": [
      "Epoch 150, Loss 0.023\n",
      "Training Accuracy: 0.9735, Testing Accuracy: 0.9713\n",
      "\n"
     ]
    },
    {
     "name": "stdout",
     "output_type": "stream",
     "text": [
      "Epoch 160, Loss 0.0224\n",
      "Training Accuracy: 0.9743, Testing Accuracy: 0.9723\n",
      "\n"
     ]
    },
    {
     "name": "stdout",
     "output_type": "stream",
     "text": [
      "Epoch 170, Loss 0.0219\n",
      "Training Accuracy: 0.9748, Testing Accuracy: 0.9723\n",
      "\n"
     ]
    },
    {
     "name": "stdout",
     "output_type": "stream",
     "text": [
      "Epoch 180, Loss 0.0215\n",
      "Training Accuracy: 0.9757, Testing Accuracy: 0.9723\n",
      "\n"
     ]
    },
    {
     "name": "stdout",
     "output_type": "stream",
     "text": [
      "Epoch 190, Loss 0.021\n",
      "Training Accuracy: 0.9760, Testing Accuracy: 0.9733\n",
      "\n"
     ]
    },
    {
     "name": "stdout",
     "output_type": "stream",
     "text": [
      "Epoch 200, Loss 0.0206\n",
      "Training Accuracy: 0.9766, Testing Accuracy: 0.9738\n",
      "\n"
     ]
    },
    {
     "name": "stdout",
     "output_type": "stream",
     "text": [
      "Epoch 210, Loss 0.0202\n",
      "Training Accuracy: 0.9773, Testing Accuracy: 0.9743\n",
      "\n"
     ]
    },
    {
     "name": "stdout",
     "output_type": "stream",
     "text": [
      "Epoch 220, Loss 0.0198\n",
      "Training Accuracy: 0.9780, Testing Accuracy: 0.9743\n",
      "\n"
     ]
    },
    {
     "name": "stdout",
     "output_type": "stream",
     "text": [
      "Epoch 230, Loss 0.0195\n",
      "Training Accuracy: 0.9783, Testing Accuracy: 0.9748\n",
      "\n"
     ]
    },
    {
     "name": "stdout",
     "output_type": "stream",
     "text": [
      "Epoch 240, Loss 0.0191\n",
      "Training Accuracy: 0.9788, Testing Accuracy: 0.9748\n",
      "\n"
     ]
    },
    {
     "data": {
      "text/plain": [
       "0.0206044405977365"
      ]
     },
     "execution_count": 22,
     "metadata": {},
     "output_type": "execute_result"
    }
   ],
   "source": [
    "nn_learner.train_loop(dl)"
   ]
  },
  {
   "cell_type": "code",
   "execution_count": 23,
   "id": "e0163366",
   "metadata": {
    "execution": {
     "iopub.execute_input": "2022-01-17T00:28:30.185530Z",
     "iopub.status.busy": "2022-01-17T00:28:30.184905Z",
     "iopub.status.idle": "2022-01-17T00:28:51.143558Z",
     "shell.execute_reply": "2022-01-17T00:28:51.144411Z"
    },
    "papermill": {
     "duration": 21.014297,
     "end_time": "2022-01-17T00:28:51.144594",
     "exception": false,
     "start_time": "2022-01-17T00:28:30.130297",
     "status": "completed"
    },
    "tags": []
   },
   "outputs": [
    {
     "name": "stdout",
     "output_type": "stream",
     "text": [
      "Epoch 0, Loss 0.2436\n",
      "Training Accuracy: 0.7047, Testing Accuracy: 0.7132\n",
      "\n"
     ]
    },
    {
     "name": "stdout",
     "output_type": "stream",
     "text": [
      "Epoch 10, Loss 0.1011\n",
      "Training Accuracy: 0.9115, Testing Accuracy: 0.9148\n",
      "\n"
     ]
    },
    {
     "name": "stdout",
     "output_type": "stream",
     "text": [
      "Epoch 20, Loss 0.0782\n",
      "Training Accuracy: 0.9269, Testing Accuracy: 0.9385\n",
      "\n"
     ]
    },
    {
     "name": "stdout",
     "output_type": "stream",
     "text": [
      "Epoch 30, Loss 0.0675\n",
      "Training Accuracy: 0.9363, Testing Accuracy: 0.9461\n",
      "\n"
     ]
    },
    {
     "name": "stdout",
     "output_type": "stream",
     "text": [
      "Epoch 40, Loss 0.0611\n",
      "Training Accuracy: 0.9417, Testing Accuracy: 0.9511\n",
      "\n"
     ]
    },
    {
     "name": "stdout",
     "output_type": "stream",
     "text": [
      "Epoch 50, Loss 0.0567\n",
      "Training Accuracy: 0.9458, Testing Accuracy: 0.9536\n",
      "\n"
     ]
    },
    {
     "name": "stdout",
     "output_type": "stream",
     "text": [
      "Epoch 60, Loss 0.0534\n",
      "Training Accuracy: 0.9477, Testing Accuracy: 0.9577\n",
      "\n"
     ]
    },
    {
     "name": "stdout",
     "output_type": "stream",
     "text": [
      "Epoch 70, Loss 0.0509\n",
      "Training Accuracy: 0.9498, Testing Accuracy: 0.9597\n",
      "\n"
     ]
    },
    {
     "name": "stdout",
     "output_type": "stream",
     "text": [
      "Epoch 80, Loss 0.0489\n",
      "Training Accuracy: 0.9510, Testing Accuracy: 0.9607\n",
      "\n"
     ]
    },
    {
     "name": "stdout",
     "output_type": "stream",
     "text": [
      "Epoch 90, Loss 0.0472\n",
      "Training Accuracy: 0.9528, Testing Accuracy: 0.9612\n",
      "\n"
     ]
    },
    {
     "name": "stdout",
     "output_type": "stream",
     "text": [
      "Epoch 100, Loss 0.0458\n",
      "Training Accuracy: 0.9536, Testing Accuracy: 0.9622\n",
      "\n"
     ]
    },
    {
     "name": "stdout",
     "output_type": "stream",
     "text": [
      "Epoch 110, Loss 0.0446\n",
      "Training Accuracy: 0.9546, Testing Accuracy: 0.9627\n",
      "\n"
     ]
    },
    {
     "name": "stdout",
     "output_type": "stream",
     "text": [
      "Epoch 120, Loss 0.0436\n",
      "Training Accuracy: 0.9552, Testing Accuracy: 0.9632\n",
      "\n"
     ]
    },
    {
     "name": "stdout",
     "output_type": "stream",
     "text": [
      "Epoch 130, Loss 0.0427\n",
      "Training Accuracy: 0.9561, Testing Accuracy: 0.9637\n",
      "\n"
     ]
    },
    {
     "name": "stdout",
     "output_type": "stream",
     "text": [
      "Epoch 140, Loss 0.0419\n",
      "Training Accuracy: 0.9568, Testing Accuracy: 0.9647\n",
      "\n"
     ]
    },
    {
     "name": "stdout",
     "output_type": "stream",
     "text": [
      "Epoch 150, Loss 0.0411\n",
      "Training Accuracy: 0.9571, Testing Accuracy: 0.9647\n",
      "\n"
     ]
    },
    {
     "name": "stdout",
     "output_type": "stream",
     "text": [
      "Epoch 160, Loss 0.0405\n",
      "Training Accuracy: 0.9574, Testing Accuracy: 0.9652\n",
      "\n"
     ]
    },
    {
     "name": "stdout",
     "output_type": "stream",
     "text": [
      "Epoch 170, Loss 0.0399\n",
      "Training Accuracy: 0.9579, Testing Accuracy: 0.9657\n",
      "\n"
     ]
    },
    {
     "name": "stdout",
     "output_type": "stream",
     "text": [
      "Epoch 180, Loss 0.0393\n",
      "Training Accuracy: 0.9578, Testing Accuracy: 0.9657\n",
      "\n"
     ]
    },
    {
     "name": "stdout",
     "output_type": "stream",
     "text": [
      "Epoch 190, Loss 0.0388\n",
      "Training Accuracy: 0.9587, Testing Accuracy: 0.9657\n",
      "\n"
     ]
    },
    {
     "name": "stdout",
     "output_type": "stream",
     "text": [
      "Epoch 200, Loss 0.0383\n",
      "Training Accuracy: 0.9591, Testing Accuracy: 0.9662\n",
      "\n"
     ]
    },
    {
     "name": "stdout",
     "output_type": "stream",
     "text": [
      "Epoch 210, Loss 0.0379\n",
      "Training Accuracy: 0.9598, Testing Accuracy: 0.9662\n",
      "\n"
     ]
    },
    {
     "name": "stdout",
     "output_type": "stream",
     "text": [
      "Epoch 220, Loss 0.0375\n",
      "Training Accuracy: 0.9601, Testing Accuracy: 0.9667\n",
      "\n"
     ]
    },
    {
     "name": "stdout",
     "output_type": "stream",
     "text": [
      "Epoch 230, Loss 0.0371\n",
      "Training Accuracy: 0.9608, Testing Accuracy: 0.9667\n",
      "\n"
     ]
    },
    {
     "name": "stdout",
     "output_type": "stream",
     "text": [
      "Epoch 240, Loss 0.0368\n",
      "Training Accuracy: 0.9610, Testing Accuracy: 0.9672\n",
      "\n"
     ]
    },
    {
     "data": {
      "text/plain": [
       "0.014632697514944674"
      ]
     },
     "execution_count": 23,
     "metadata": {},
     "output_type": "execute_result"
    }
   ],
   "source": [
    "lr_learner.train_loop(dl)"
   ]
  },
  {
   "cell_type": "code",
   "execution_count": 24,
   "id": "ca410940",
   "metadata": {
    "execution": {
     "iopub.execute_input": "2022-01-17T00:28:51.260469Z",
     "iopub.status.busy": "2022-01-17T00:28:51.259697Z",
     "iopub.status.idle": "2022-01-17T00:28:51.570554Z",
     "shell.execute_reply": "2022-01-17T00:28:51.571100Z"
    },
    "papermill": {
     "duration": 0.372734,
     "end_time": "2022-01-17T00:28:51.571298",
     "exception": false,
     "start_time": "2022-01-17T00:28:51.198564",
     "status": "completed"
    },
    "tags": []
   },
   "outputs": [
    {
     "data": {
      "text/plain": [
       "<matplotlib.legend.Legend at 0x7f5084629c50>"
      ]
     },
     "execution_count": 24,
     "metadata": {},
     "output_type": "execute_result"
    },
    {
     "data": {
      "image/png": "[encoded data removed]",
      "text/plain": [
       "<Figure size 1080x720 with 1 Axes>"
      ]
     },
     "metadata": {
      "needs_background": "light"
     },
     "output_type": "display_data"
    }
   ],
   "source": [
    "#comparing the results of NN and LR\n",
    "plt.figure(figsize=(15,10))\n",
    "\n",
    "# Neural Network plots\n",
    "plt.plot(acc_nn.accuracies, 'r-', label = \"Training Accuracies - NN\")\n",
    "plt.plot(acc_nn.test_accuracies, 'g-', label = \"Testing Accuracies - NN\")\n",
    "\n",
    "# Logistic Regression plots\n",
    "plt.plot(acc_lr.accuracies, 'k-', label = \"Training Accuracies - LR\")\n",
    "plt.plot(acc_lr.test_accuracies, 'b-', label = \"Testing Accuracies - LR\")\n",
    "plt.legend()"
   ]
  },
  {
   "cell_type": "markdown",
   "id": "80dfb35c",
   "metadata": {
    "papermill": {
     "duration": 0.055522,
     "end_time": "2022-01-17T00:28:51.689566",
     "exception": false,
     "start_time": "2022-01-17T00:28:51.634044",
     "status": "completed"
    },
    "tags": []
   },
   "source": [
    "#### Plotting the outputs of this layer of the NN.\n"
   ]
  },
  {
   "cell_type": "code",
   "execution_count": 25,
   "id": "45eb2ff5",
   "metadata": {
    "execution": {
     "iopub.execute_input": "2022-01-17T00:28:51.805765Z",
     "iopub.status.busy": "2022-01-17T00:28:51.804950Z",
     "iopub.status.idle": "2022-01-17T00:28:51.834396Z",
     "shell.execute_reply": "2022-01-17T00:28:51.834949Z"
    },
    "papermill": {
     "duration": 0.090911,
     "end_time": "2022-01-17T00:28:51.835129",
     "exception": false,
     "start_time": "2022-01-17T00:28:51.744218",
     "status": "completed"
    },
    "tags": []
   },
   "outputs": [],
   "source": [
    "new_model = Model(layers[:-2])\n",
    "testing_plot = new_model(testing_data_x)"
   ]
  },
  {
   "cell_type": "code",
   "execution_count": 26,
   "id": "4c0a5485",
   "metadata": {
    "execution": {
     "iopub.execute_input": "2022-01-17T00:28:51.960858Z",
     "iopub.status.busy": "2022-01-17T00:28:51.960241Z",
     "iopub.status.idle": "2022-01-17T00:28:52.239751Z",
     "shell.execute_reply": "2022-01-17T00:28:52.240234Z"
    },
    "papermill": {
     "duration": 0.345963,
     "end_time": "2022-01-17T00:28:52.240398",
     "exception": false,
     "start_time": "2022-01-17T00:28:51.894435",
     "status": "completed"
    },
    "tags": []
   },
   "outputs": [
    {
     "data": {
      "text/plain": [
       "Text(0.5, 1.0, 'Outputs')"
      ]
     },
     "execution_count": 26,
     "metadata": {},
     "output_type": "execute_result"
    },
    {
     "data": {
      "image/png": "[encoded data removed]",
      "text/plain": [
       "<Figure size 576x504 with 1 Axes>"
      ]
     },
     "metadata": {
      "needs_background": "light"
     },
     "output_type": "display_data"
    }
   ],
   "source": [
    "# Plotting the scatter plot of points and color coding by class\n",
    "plt.figure(figsize=(8,7))\n",
    "plt.scatter(testing_plot[:,0], testing_plot[:,1], alpha = 0.1, c = y_test.ravel());\n",
    "plt.title('Outputs')"
   ]
  },
  {
   "cell_type": "markdown",
   "id": "a74fcf8f",
   "metadata": {
    "papermill": {
     "duration": 0.059575,
     "end_time": "2022-01-17T00:28:52.357311",
     "exception": false,
     "start_time": "2022-01-17T00:28:52.297736",
     "status": "completed"
    },
    "tags": []
   },
   "source": [
    "Probability contours"
   ]
  },
  {
   "cell_type": "code",
   "execution_count": 27,
   "id": "d0afc8e3",
   "metadata": {
    "execution": {
     "iopub.execute_input": "2022-01-17T00:28:52.503996Z",
     "iopub.status.busy": "2022-01-17T00:28:52.503373Z",
     "iopub.status.idle": "2022-01-17T00:28:52.517132Z",
     "shell.execute_reply": "2022-01-17T00:28:52.516573Z"
    },
    "papermill": {
     "duration": 0.102811,
     "end_time": "2022-01-17T00:28:52.517277",
     "exception": false,
     "start_time": "2022-01-17T00:28:52.414466",
     "status": "completed"
    },
    "tags": []
   },
   "outputs": [],
   "source": [
    "model_prob = Model(layers[-2:]) "
   ]
  },
  {
   "cell_type": "code",
   "execution_count": 28,
   "id": "9b96e238",
   "metadata": {
    "execution": {
     "iopub.execute_input": "2022-01-17T00:28:52.649396Z",
     "iopub.status.busy": "2022-01-17T00:28:52.648680Z",
     "iopub.status.idle": "2022-01-17T00:28:52.663989Z",
     "shell.execute_reply": "2022-01-17T00:28:52.664897Z"
    },
    "papermill": {
     "duration": 0.085821,
     "end_time": "2022-01-17T00:28:52.665051",
     "exception": false,
     "start_time": "2022-01-17T00:28:52.579230",
     "status": "completed"
    },
    "tags": []
   },
   "outputs": [],
   "source": [
    "#creating the x and y ranges according to the above generated plot.\n",
    "x_range = np.linspace(-4, 1, 100) \n",
    "y_range = np.linspace(-6, 6, 100) \n",
    "x_grid, y_grid = np.meshgrid(x_range, y_range) # x_grid and y_grig are of size 100 X 100\n",
    "\n",
    "# converting x_grid and y_grid to continuous arrays\n",
    "x_gridflat = np.ravel(x_grid)\n",
    "y_gridflat = np.ravel(y_grid)\n",
    "\n",
    "# The last layer of the current model takes two columns as input. Hence transpose of np.vstack() is required.\n",
    "X = np.vstack((x_gridflat, y_gridflat)).T\n",
    "\n",
    "prob_contour = model_prob(X).reshape(100,100) "
   ]
  },
  {
   "cell_type": "code",
   "execution_count": 29,
   "id": "da72499a",
   "metadata": {
    "execution": {
     "iopub.execute_input": "2022-01-17T00:28:52.792101Z",
     "iopub.status.busy": "2022-01-17T00:28:52.791352Z",
     "iopub.status.idle": "2022-01-17T00:28:53.125989Z",
     "shell.execute_reply": "2022-01-17T00:28:53.126549Z"
    },
    "papermill": {
     "duration": 0.400367,
     "end_time": "2022-01-17T00:28:53.126736",
     "exception": false,
     "start_time": "2022-01-17T00:28:52.726369",
     "status": "completed"
    },
    "tags": []
   },
   "outputs": [
    {
     "data": {
      "image/png": "[encoded data removed]",
      "text/plain": [
       "<Figure size 720x648 with 1 Axes>"
      ]
     },
     "metadata": {
      "needs_background": "light"
     },
     "output_type": "display_data"
    }
   ],
   "source": [
    "plt.figure(figsize=(10,9))\n",
    "plt.scatter(testing_plot[:,0], testing_plot[:,1], alpha = 0.1, c = y_test.ravel())\n",
    "contours = plt.contour(x_grid,y_grid,prob_contour)\n",
    "plt.title('Probability Contours')\n",
    "plt.clabel(contours, inline = True );"
   ]
  },
  {
   "cell_type": "code",
   "execution_count": null,
   "id": "e81b4ac7",
   "metadata": {
    "papermill": {
     "duration": 0.061374,
     "end_time": "2022-01-17T00:28:53.251424",
     "exception": false,
     "start_time": "2022-01-17T00:28:53.190050",
     "status": "completed"
    },
    "tags": []
   },
   "outputs": [],
   "source": []
  }
 ],
 "metadata": {
  "kernelspec": {
   "display_name": "Python 3",
   "language": "python",
   "name": "python3"
  },
  "language_info": {
   "codemirror_mode": {
    "name": "ipython",
    "version": 3
   },
   "file_extension": ".py",
   "mimetype": "text/x-python",
   "name": "python",
   "nbconvert_exporter": "python",
   "pygments_lexer": "ipython3",
   "version": "3.6.15"
  },
  "papermill": {
   "default_parameters": {},
   "duration": 176.791817,
   "end_time": "2022-01-17T00:28:53.731836",
   "environment_variables": {},
   "exception": null,
   "input_path": "2020-08-11-part2.ipynb",
   "output_path": "2020-08-11-part2.ipynb",
   "parameters": {},
   "start_time": "2022-01-17T00:25:56.940019",
   "version": "2.3.3"
  }
 },
 "nbformat": 4,
 "nbformat_minor": 5
}