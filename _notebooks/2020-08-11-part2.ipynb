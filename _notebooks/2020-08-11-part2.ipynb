{
 "cells": [
  {
   "cell_type": "markdown",
   "id": "98380cd3",
   "metadata": {
    "papermill": {
     "duration": 0.028303,
     "end_time": "2022-02-17T20:07:11.000506",
     "exception": false,
     "start_time": "2022-02-17T20:07:10.972203",
     "status": "completed"
    },
    "tags": []
   },
   "source": [
    "# Distinguish Your Own Digits (DYOD)"
   ]
  },
  {
   "cell_type": "markdown",
   "id": "ef31240d",
   "metadata": {
    "papermill": {
     "duration": 0.025442,
     "end_time": "2022-02-17T20:07:11.050571",
     "exception": false,
     "start_time": "2022-02-17T20:07:11.025129",
     "status": "completed"
    },
    "tags": []
   },
   "source": [
    "You are going to write a classifier that distinguishes between the number 3 and number 8."
   ]
  },
  {
   "cell_type": "code",
   "execution_count": 1,
   "id": "b15c8646",
   "metadata": {
    "execution": {
     "iopub.execute_input": "2022-02-17T20:07:11.109923Z",
     "iopub.status.busy": "2022-02-17T20:07:11.109377Z",
     "iopub.status.idle": "2022-02-17T20:07:11.119833Z",
     "shell.execute_reply": "2022-02-17T20:07:11.120220Z"
    },
    "papermill": {
     "duration": 0.045791,
     "end_time": "2022-02-17T20:07:11.120384",
     "exception": false,
     "start_time": "2022-02-17T20:07:11.074593",
     "status": "completed"
    },
    "tags": []
   },
   "outputs": [],
   "source": [
    "%load_ext autoreload\n",
    "%autoreload 2"
   ]
  },
  {
   "cell_type": "code",
   "execution_count": 2,
   "id": "22ef38dc",
   "metadata": {
    "execution": {
     "iopub.execute_input": "2022-02-17T20:07:11.178338Z",
     "iopub.status.busy": "2022-02-17T20:07:11.177806Z",
     "iopub.status.idle": "2022-02-17T20:07:11.763266Z",
     "shell.execute_reply": "2022-02-17T20:07:11.762723Z"
    },
    "papermill": {
     "duration": 0.618768,
     "end_time": "2022-02-17T20:07:11.763405",
     "exception": false,
     "start_time": "2022-02-17T20:07:11.144637",
     "status": "completed"
    },
    "tags": []
   },
   "outputs": [],
   "source": [
    "%matplotlib inline\n",
    "import numpy as np\n",
    "import matplotlib.pyplot as plt\n",
    "import pandas as pd"
   ]
  },
  {
   "cell_type": "markdown",
   "id": "ba036198",
   "metadata": {
    "papermill": {
     "duration": 0.024467,
     "end_time": "2022-02-17T20:07:11.812860",
     "exception": false,
     "start_time": "2022-02-17T20:07:11.788393",
     "status": "completed"
    },
    "tags": []
   },
   "source": [
    "From the command line run `pip install mnist`. This is a library that will help you bring down the mnist dataset. If you run this from a notebook, you need to put  `!pip install mnist` in a cell by itself."
   ]
  },
  {
   "cell_type": "code",
   "execution_count": 3,
   "id": "bb6ad8a1",
   "metadata": {
    "execution": {
     "iopub.execute_input": "2022-02-17T20:07:11.871729Z",
     "iopub.status.busy": "2022-02-17T20:07:11.871208Z",
     "iopub.status.idle": "2022-02-17T20:07:13.591112Z",
     "shell.execute_reply": "2022-02-17T20:07:13.590560Z"
    },
    "papermill": {
     "duration": 1.754259,
     "end_time": "2022-02-17T20:07:13.591256",
     "exception": false,
     "start_time": "2022-02-17T20:07:11.836997",
     "status": "completed"
    },
    "tags": []
   },
   "outputs": [
    {
     "name": "stdout",
     "output_type": "stream",
     "text": [
      "Collecting mnist\r\n"
     ]
    },
    {
     "name": "stdout",
     "output_type": "stream",
     "text": [
      "  Downloading mnist-0.2.2-py2.py3-none-any.whl (3.5 kB)\r\n",
      "Requirement already satisfied: numpy in /opt/hostedtoolcache/Python/3.6.15/x64/lib/python3.6/site-packages (from mnist) (1.19.5)\r\n"
     ]
    },
    {
     "name": "stdout",
     "output_type": "stream",
     "text": [
      "Installing collected packages: mnist\r\n"
     ]
    },
    {
     "name": "stdout",
     "output_type": "stream",
     "text": [
      "Successfully installed mnist-0.2.2\r\n"
     ]
    }
   ],
   "source": [
    "!pip install mnist"
   ]
  },
  {
   "cell_type": "markdown",
   "id": "69df9c9a",
   "metadata": {
    "papermill": {
     "duration": 0.025651,
     "end_time": "2022-02-17T20:07:13.643556",
     "exception": false,
     "start_time": "2022-02-17T20:07:13.617905",
     "status": "completed"
    },
    "tags": []
   },
   "source": [
    "## Preparing the Data"
   ]
  },
  {
   "cell_type": "code",
   "execution_count": 4,
   "id": "7f69d806",
   "metadata": {
    "execution": {
     "iopub.execute_input": "2022-02-17T20:07:13.708217Z",
     "iopub.status.busy": "2022-02-17T20:07:13.707257Z",
     "iopub.status.idle": "2022-02-17T20:07:13.715938Z",
     "shell.execute_reply": "2022-02-17T20:07:13.715498Z"
    },
    "papermill": {
     "duration": 0.047194,
     "end_time": "2022-02-17T20:07:13.716054",
     "exception": false,
     "start_time": "2022-02-17T20:07:13.668860",
     "status": "completed"
    },
    "tags": []
   },
   "outputs": [],
   "source": [
    "import mnist"
   ]
  },
  {
   "cell_type": "code",
   "execution_count": 5,
   "id": "a411e44f",
   "metadata": {
    "execution": {
     "iopub.execute_input": "2022-02-17T20:07:13.771067Z",
     "iopub.status.busy": "2022-02-17T20:07:13.770251Z",
     "iopub.status.idle": "2022-02-17T20:07:14.416199Z",
     "shell.execute_reply": "2022-02-17T20:07:14.415671Z"
    },
    "papermill": {
     "duration": 0.674957,
     "end_time": "2022-02-17T20:07:14.416342",
     "exception": false,
     "start_time": "2022-02-17T20:07:13.741385",
     "status": "completed"
    },
    "tags": []
   },
   "outputs": [],
   "source": [
    "train_images = mnist.train_images()\n",
    "train_labels = mnist.train_labels()"
   ]
  },
  {
   "cell_type": "code",
   "execution_count": 6,
   "id": "dceab3a5",
   "metadata": {
    "execution": {
     "iopub.execute_input": "2022-02-17T20:07:14.472746Z",
     "iopub.status.busy": "2022-02-17T20:07:14.472236Z",
     "iopub.status.idle": "2022-02-17T20:07:14.486531Z",
     "shell.execute_reply": "2022-02-17T20:07:14.486088Z"
    },
    "papermill": {
     "duration": 0.043746,
     "end_time": "2022-02-17T20:07:14.486653",
     "exception": false,
     "start_time": "2022-02-17T20:07:14.442907",
     "status": "completed"
    },
    "tags": []
   },
   "outputs": [
    {
     "data": {
      "text/plain": [
       "((60000, 28, 28), (60000,))"
      ]
     },
     "execution_count": 6,
     "metadata": {},
     "output_type": "execute_result"
    }
   ],
   "source": [
    "train_images.shape, train_labels.shape"
   ]
  },
  {
   "cell_type": "code",
   "execution_count": 7,
   "id": "f50dc2bb",
   "metadata": {
    "execution": {
     "iopub.execute_input": "2022-02-17T20:07:14.545478Z",
     "iopub.status.busy": "2022-02-17T20:07:14.544966Z",
     "iopub.status.idle": "2022-02-17T20:07:14.716284Z",
     "shell.execute_reply": "2022-02-17T20:07:14.715746Z"
    },
    "papermill": {
     "duration": 0.2035,
     "end_time": "2022-02-17T20:07:14.716431",
     "exception": false,
     "start_time": "2022-02-17T20:07:14.512931",
     "status": "completed"
    },
    "tags": []
   },
   "outputs": [],
   "source": [
    "test_images = mnist.test_images()\n",
    "test_labels = mnist.test_labels()"
   ]
  },
  {
   "cell_type": "code",
   "execution_count": 8,
   "id": "fc38cf1b",
   "metadata": {
    "execution": {
     "iopub.execute_input": "2022-02-17T20:07:14.783187Z",
     "iopub.status.busy": "2022-02-17T20:07:14.781074Z",
     "iopub.status.idle": "2022-02-17T20:07:14.788624Z",
     "shell.execute_reply": "2022-02-17T20:07:14.788208Z"
    },
    "papermill": {
     "duration": 0.045954,
     "end_time": "2022-02-17T20:07:14.788746",
     "exception": false,
     "start_time": "2022-02-17T20:07:14.742792",
     "status": "completed"
    },
    "tags": []
   },
   "outputs": [
    {
     "data": {
      "text/plain": [
       "((10000, 28, 28), (10000,))"
      ]
     },
     "execution_count": 8,
     "metadata": {},
     "output_type": "execute_result"
    }
   ],
   "source": [
    "test_images.shape, test_labels.shape"
   ]
  },
  {
   "cell_type": "code",
   "execution_count": 9,
   "id": "f9ed8fe0",
   "metadata": {
    "execution": {
     "iopub.execute_input": "2022-02-17T20:07:14.844250Z",
     "iopub.status.busy": "2022-02-17T20:07:14.843750Z",
     "iopub.status.idle": "2022-02-17T20:07:14.980374Z",
     "shell.execute_reply": "2022-02-17T20:07:14.980845Z"
    },
    "papermill": {
     "duration": 0.166324,
     "end_time": "2022-02-17T20:07:14.981001",
     "exception": false,
     "start_time": "2022-02-17T20:07:14.814677",
     "status": "completed"
    },
    "tags": []
   },
   "outputs": [
    {
     "name": "stdout",
     "output_type": "stream",
     "text": [
      "2\n"
     ]
    },
    {
     "data": {
      "text/plain": [
       "<matplotlib.image.AxesImage at 0x7f1b91057588>"
      ]
     },
     "execution_count": 9,
     "metadata": {},
     "output_type": "execute_result"
    },
    {
     "data": {
      "image/png": "[encoded data removed]",
      "text/plain": [
       "<Figure size 432x288 with 1 Axes>"
      ]
     },
     "metadata": {
      "needs_background": "light"
     },
     "output_type": "display_data"
    }
   ],
   "source": [
    "image_index = 7776 # You may select anything up to 60,000\n",
    "print(train_labels[image_index]) \n",
    "plt.imshow(train_images[image_index], cmap='Greys')"
   ]
  },
  {
   "cell_type": "markdown",
   "id": "a8d2388d",
   "metadata": {
    "papermill": {
     "duration": 0.026781,
     "end_time": "2022-02-17T20:07:15.037612",
     "exception": false,
     "start_time": "2022-02-17T20:07:15.010831",
     "status": "completed"
    },
    "tags": []
   },
   "source": [
    "## Filter data to get 3 and 8 out"
   ]
  },
  {
   "cell_type": "code",
   "execution_count": 10,
   "id": "776f7fc7",
   "metadata": {
    "execution": {
     "iopub.execute_input": "2022-02-17T20:07:15.095865Z",
     "iopub.status.busy": "2022-02-17T20:07:15.095329Z",
     "iopub.status.idle": "2022-02-17T20:07:15.114845Z",
     "shell.execute_reply": "2022-02-17T20:07:15.114385Z"
    },
    "papermill": {
     "duration": 0.050575,
     "end_time": "2022-02-17T20:07:15.114964",
     "exception": false,
     "start_time": "2022-02-17T20:07:15.064389",
     "status": "completed"
    },
    "tags": []
   },
   "outputs": [],
   "source": [
    "train_filter = np.where((train_labels == 3 ) | (train_labels == 8))\n",
    "test_filter = np.where((test_labels == 3) | (test_labels == 8))\n",
    "X_train, y_train = train_images[train_filter], train_labels[train_filter]\n",
    "X_test, y_test = test_images[test_filter], test_labels[test_filter]"
   ]
  },
  {
   "cell_type": "markdown",
   "id": "948f0b7e",
   "metadata": {
    "papermill": {
     "duration": 0.026626,
     "end_time": "2022-02-17T20:07:15.168523",
     "exception": false,
     "start_time": "2022-02-17T20:07:15.141897",
     "status": "completed"
    },
    "tags": []
   },
   "source": [
    "We normalize the pizel values in the 0 to 1 range"
   ]
  },
  {
   "cell_type": "code",
   "execution_count": 11,
   "id": "ee4c2166",
   "metadata": {
    "execution": {
     "iopub.execute_input": "2022-02-17T20:07:15.229445Z",
     "iopub.status.busy": "2022-02-17T20:07:15.228933Z",
     "iopub.status.idle": "2022-02-17T20:07:15.274619Z",
     "shell.execute_reply": "2022-02-17T20:07:15.274077Z"
    },
    "papermill": {
     "duration": 0.079625,
     "end_time": "2022-02-17T20:07:15.274763",
     "exception": false,
     "start_time": "2022-02-17T20:07:15.195138",
     "status": "completed"
    },
    "tags": []
   },
   "outputs": [],
   "source": [
    "X_train = X_train/255.\n",
    "X_test = X_test/255."
   ]
  },
  {
   "cell_type": "markdown",
   "id": "ddcf4fab",
   "metadata": {
    "papermill": {
     "duration": 0.027137,
     "end_time": "2022-02-17T20:07:15.329668",
     "exception": false,
     "start_time": "2022-02-17T20:07:15.302531",
     "status": "completed"
    },
    "tags": []
   },
   "source": [
    "And setup the labels as 1 (when the digit is 3) and 0 (when the digit is 8)"
   ]
  },
  {
   "cell_type": "code",
   "execution_count": 12,
   "id": "7dc908f2",
   "metadata": {
    "execution": {
     "iopub.execute_input": "2022-02-17T20:07:15.392270Z",
     "iopub.status.busy": "2022-02-17T20:07:15.391741Z",
     "iopub.status.idle": "2022-02-17T20:07:15.400835Z",
     "shell.execute_reply": "2022-02-17T20:07:15.400391Z"
    },
    "papermill": {
     "duration": 0.044695,
     "end_time": "2022-02-17T20:07:15.400942",
     "exception": false,
     "start_time": "2022-02-17T20:07:15.356247",
     "status": "completed"
    },
    "tags": []
   },
   "outputs": [],
   "source": [
    "y_train = 1*(y_train==3)\n",
    "y_test = 1*(y_test==3)"
   ]
  },
  {
   "cell_type": "code",
   "execution_count": 13,
   "id": "01e4e969",
   "metadata": {
    "execution": {
     "iopub.execute_input": "2022-02-17T20:07:15.461109Z",
     "iopub.status.busy": "2022-02-17T20:07:15.460601Z",
     "iopub.status.idle": "2022-02-17T20:07:15.471856Z",
     "shell.execute_reply": "2022-02-17T20:07:15.471444Z"
    },
    "papermill": {
     "duration": 0.044194,
     "end_time": "2022-02-17T20:07:15.471968",
     "exception": false,
     "start_time": "2022-02-17T20:07:15.427774",
     "status": "completed"
    },
    "tags": []
   },
   "outputs": [
    {
     "data": {
      "text/plain": [
       "((11982, 28, 28), (1984, 28, 28))"
      ]
     },
     "execution_count": 13,
     "metadata": {},
     "output_type": "execute_result"
    }
   ],
   "source": [
    "X_train.shape, X_test.shape"
   ]
  },
  {
   "cell_type": "markdown",
   "id": "5ccf3f85",
   "metadata": {
    "papermill": {
     "duration": 0.027077,
     "end_time": "2022-02-17T20:07:15.525861",
     "exception": false,
     "start_time": "2022-02-17T20:07:15.498784",
     "status": "completed"
    },
    "tags": []
   },
   "source": [
    "We reshape the data to flatten the image pixels into a set of features or co-variates:"
   ]
  },
  {
   "cell_type": "code",
   "execution_count": 14,
   "id": "5286a4a3",
   "metadata": {
    "execution": {
     "iopub.execute_input": "2022-02-17T20:07:15.584751Z",
     "iopub.status.busy": "2022-02-17T20:07:15.584232Z",
     "iopub.status.idle": "2022-02-17T20:07:15.596692Z",
     "shell.execute_reply": "2022-02-17T20:07:15.597121Z"
    },
    "papermill": {
     "duration": 0.044381,
     "end_time": "2022-02-17T20:07:15.597248",
     "exception": false,
     "start_time": "2022-02-17T20:07:15.552867",
     "status": "completed"
    },
    "tags": []
   },
   "outputs": [
    {
     "data": {
      "text/plain": [
       "((11982, 784), (1984, 784))"
      ]
     },
     "execution_count": 14,
     "metadata": {},
     "output_type": "execute_result"
    }
   ],
   "source": [
    "X_train = X_train.reshape(X_train.shape[0], -1)\n",
    "X_test = X_test.reshape(X_test.shape[0], -1)\n",
    "X_train.shape, X_test.shape"
   ]
  },
  {
   "cell_type": "code",
   "execution_count": 15,
   "id": "73c5f88a",
   "metadata": {
    "execution": {
     "iopub.execute_input": "2022-02-17T20:07:15.660946Z",
     "iopub.status.busy": "2022-02-17T20:07:15.660399Z",
     "iopub.status.idle": "2022-02-17T20:07:15.675856Z",
     "shell.execute_reply": "2022-02-17T20:07:15.675435Z"
    },
    "papermill": {
     "duration": 0.051629,
     "end_time": "2022-02-17T20:07:15.675971",
     "exception": false,
     "start_time": "2022-02-17T20:07:15.624342",
     "status": "completed"
    },
    "tags": []
   },
   "outputs": [],
   "source": [
    "#Impoting functions from 'Kudzu'\n",
    "from kudzu.model import Model\n",
    "from kudzu.train import Learner\n",
    "from kudzu.optim import GD\n",
    "from kudzu.data import Data, Sampler,Dataloader\n",
    "\n",
    "from kudzu.callbacks import AccCallback\n",
    "from kudzu.callbacks import ClfCallback\n",
    "\n",
    "from kudzu.loss import MSE\n",
    "\n",
    "from kudzu.layer import Sigmoid,Relu\n",
    "from kudzu.layer import Affine"
   ]
  },
  {
   "cell_type": "markdown",
   "id": "bc01172a",
   "metadata": {
    "papermill": {
     "duration": 0.027058,
     "end_time": "2022-02-17T20:07:15.730354",
     "exception": false,
     "start_time": "2022-02-17T20:07:15.703296",
     "status": "completed"
    },
    "tags": []
   },
   "source": [
    "### Let us create a `Config` class, to store important parameters. \n",
    "This class essentially plays the role of a dictionary."
   ]
  },
  {
   "cell_type": "code",
   "execution_count": 16,
   "id": "978281aa",
   "metadata": {
    "execution": {
     "iopub.execute_input": "2022-02-17T20:07:15.788701Z",
     "iopub.status.busy": "2022-02-17T20:07:15.788186Z",
     "iopub.status.idle": "2022-02-17T20:07:15.800048Z",
     "shell.execute_reply": "2022-02-17T20:07:15.799614Z"
    },
    "papermill": {
     "duration": 0.04272,
     "end_time": "2022-02-17T20:07:15.800159",
     "exception": false,
     "start_time": "2022-02-17T20:07:15.757439",
     "status": "completed"
    },
    "tags": []
   },
   "outputs": [],
   "source": [
    "class Config:\n",
    "    pass\n",
    "config = Config()\n",
    "config.lr = 0.001\n",
    "config.num_epochs = 250\n",
    "config.bs = 50"
   ]
  },
  {
   "cell_type": "markdown",
   "id": "1385fa59",
   "metadata": {
    "papermill": {
     "duration": 0.026987,
     "end_time": "2022-02-17T20:07:15.854290",
     "exception": false,
     "start_time": "2022-02-17T20:07:15.827303",
     "status": "completed"
    },
    "tags": []
   },
   "source": [
    "### Running Models with the Training data\n",
    "Details about the network layers:\n",
    "- A first affine layer has 784 inputs and does 100 affine transforms. These are followed by a Relu\n",
    "- A second affine layer has 100 inputs from the 100 activations of the past layer, and does 100 affine transforms. These are followed by a Relu\n",
    "- A third affine layer has 100 activations and does 2 affine transformations to create an embedding for visualization. There is no non-linearity here.\n",
    "- A final \"logistic regression\" which has an affine transform from 2 inputs to 1 output, which is squeezed through a sigmoid.\n"
   ]
  },
  {
   "cell_type": "code",
   "execution_count": 17,
   "id": "2b9c66db",
   "metadata": {
    "execution": {
     "iopub.execute_input": "2022-02-17T20:07:15.912652Z",
     "iopub.status.busy": "2022-02-17T20:07:15.912143Z",
     "iopub.status.idle": "2022-02-17T20:07:15.925370Z",
     "shell.execute_reply": "2022-02-17T20:07:15.924956Z"
    },
    "papermill": {
     "duration": 0.044063,
     "end_time": "2022-02-17T20:07:15.925484",
     "exception": false,
     "start_time": "2022-02-17T20:07:15.881421",
     "status": "completed"
    },
    "tags": []
   },
   "outputs": [],
   "source": [
    "data = Data(X_train, y_train.reshape(-1,1))\n",
    "sampler = Sampler(data, config.bs, shuffle=True)\n",
    "\n",
    "dl = Dataloader(data, sampler)\n",
    "\n",
    "opt = GD(config.lr)\n",
    "loss = MSE()"
   ]
  },
  {
   "cell_type": "code",
   "execution_count": 18,
   "id": "b275e4c2",
   "metadata": {
    "execution": {
     "iopub.execute_input": "2022-02-17T20:07:15.995153Z",
     "iopub.status.busy": "2022-02-17T20:07:15.991894Z",
     "iopub.status.idle": "2022-02-17T20:07:15.999540Z",
     "shell.execute_reply": "2022-02-17T20:07:15.998819Z"
    },
    "papermill": {
     "duration": 0.046889,
     "end_time": "2022-02-17T20:07:15.999656",
     "exception": false,
     "start_time": "2022-02-17T20:07:15.952767",
     "status": "completed"
    },
    "tags": []
   },
   "outputs": [],
   "source": [
    "training_data_x = X_train\n",
    "testing_data_x = X_test\n",
    "training_data_y = y_train.reshape(-1,1)\n",
    "testing_data_y = y_test.reshape(-1,1)"
   ]
  },
  {
   "cell_type": "code",
   "execution_count": 19,
   "id": "76951160",
   "metadata": {
    "execution": {
     "iopub.execute_input": "2022-02-17T20:07:16.058520Z",
     "iopub.status.busy": "2022-02-17T20:07:16.057985Z",
     "iopub.status.idle": "2022-02-17T20:07:16.074475Z",
     "shell.execute_reply": "2022-02-17T20:07:16.074018Z"
    },
    "papermill": {
     "duration": 0.047406,
     "end_time": "2022-02-17T20:07:16.074587",
     "exception": false,
     "start_time": "2022-02-17T20:07:16.027181",
     "status": "completed"
    },
    "tags": []
   },
   "outputs": [
    {
     "name": "stdout",
     "output_type": "stream",
     "text": [
      "xavier\n",
      "xavier\n",
      "xavier\n",
      "xavier\n",
      "xavier\n"
     ]
    }
   ],
   "source": [
    "layers = [Affine(\"first\", 784, 100), Relu(\"first\"), Affine(\"second\", 100, 100), Relu(\"second\"), Affine(\"third\", 100, 2), Affine(\"last\", 2, 1), Sigmoid(\"last\")]\n",
    "model_nn = Model(layers)\n",
    "model_lr = Model([Affine(\"logits\", 784, 1), Sigmoid(\"sigmoid\")])"
   ]
  },
  {
   "cell_type": "code",
   "execution_count": 20,
   "id": "6eede77a",
   "metadata": {
    "execution": {
     "iopub.execute_input": "2022-02-17T20:07:16.136573Z",
     "iopub.status.busy": "2022-02-17T20:07:16.135975Z",
     "iopub.status.idle": "2022-02-17T20:07:16.146128Z",
     "shell.execute_reply": "2022-02-17T20:07:16.145727Z"
    },
    "papermill": {
     "duration": 0.044138,
     "end_time": "2022-02-17T20:07:16.146239",
     "exception": false,
     "start_time": "2022-02-17T20:07:16.102101",
     "status": "completed"
    },
    "tags": []
   },
   "outputs": [],
   "source": [
    "nn_learner = Learner(loss, model_nn, opt, config.num_epochs)\n",
    "acc_nn = ClfCallback(nn_learner, config.bs, training_data_x , testing_data_x, training_data_y, testing_data_y)\n",
    "nn_learner.set_callbacks([acc_nn])"
   ]
  },
  {
   "cell_type": "code",
   "execution_count": 21,
   "id": "877b6cc7",
   "metadata": {
    "execution": {
     "iopub.execute_input": "2022-02-17T20:07:16.213205Z",
     "iopub.status.busy": "2022-02-17T20:07:16.212694Z",
     "iopub.status.idle": "2022-02-17T20:07:16.219744Z",
     "shell.execute_reply": "2022-02-17T20:07:16.219326Z"
    },
    "papermill": {
     "duration": 0.046146,
     "end_time": "2022-02-17T20:07:16.219855",
     "exception": false,
     "start_time": "2022-02-17T20:07:16.173709",
     "status": "completed"
    },
    "tags": []
   },
   "outputs": [],
   "source": [
    "lr_learner = Learner(loss, model_lr, opt, config.num_epochs)\n",
    "acc_lr = ClfCallback(lr_learner, config.bs, training_data_x , testing_data_x, training_data_y, testing_data_y)\n",
    "lr_learner.set_callbacks([acc_lr])"
   ]
  },
  {
   "cell_type": "code",
   "execution_count": 22,
   "id": "d9b133c3",
   "metadata": {
    "execution": {
     "iopub.execute_input": "2022-02-17T20:07:16.291355Z",
     "iopub.status.busy": "2022-02-17T20:07:16.283356Z",
     "iopub.status.idle": "2022-02-17T20:08:31.874062Z",
     "shell.execute_reply": "2022-02-17T20:08:31.874874Z"
    },
    "papermill": {
     "duration": 75.627701,
     "end_time": "2022-02-17T20:08:31.875032",
     "exception": false,
     "start_time": "2022-02-17T20:07:16.247331",
     "status": "completed"
    },
    "tags": []
   },
   "outputs": [
    {
     "name": "stdout",
     "output_type": "stream",
     "text": [
      "Epoch 0, Loss 0.2545\n",
      "Training Accuracy: 0.5286, Testing Accuracy: 0.5227\n",
      "\n"
     ]
    },
    {
     "name": "stdout",
     "output_type": "stream",
     "text": [
      "Epoch 10, Loss 0.1223\n",
      "Training Accuracy: 0.9078, Testing Accuracy: 0.9158\n",
      "\n"
     ]
    },
    {
     "name": "stdout",
     "output_type": "stream",
     "text": [
      "Epoch 20, Loss 0.0662\n",
      "Training Accuracy: 0.9334, Testing Accuracy: 0.9461\n",
      "\n"
     ]
    },
    {
     "name": "stdout",
     "output_type": "stream",
     "text": [
      "Epoch 30, Loss 0.0488\n",
      "Training Accuracy: 0.9477, Testing Accuracy: 0.9561\n",
      "\n"
     ]
    },
    {
     "name": "stdout",
     "output_type": "stream",
     "text": [
      "Epoch 40, Loss 0.0409\n",
      "Training Accuracy: 0.9552, Testing Accuracy: 0.9617\n",
      "\n"
     ]
    },
    {
     "name": "stdout",
     "output_type": "stream",
     "text": [
      "Epoch 50, Loss 0.0364\n",
      "Training Accuracy: 0.9590, Testing Accuracy: 0.9657\n",
      "\n"
     ]
    },
    {
     "name": "stdout",
     "output_type": "stream",
     "text": [
      "Epoch 60, Loss 0.0334\n",
      "Training Accuracy: 0.9624, Testing Accuracy: 0.9677\n",
      "\n"
     ]
    },
    {
     "name": "stdout",
     "output_type": "stream",
     "text": [
      "Epoch 70, Loss 0.0313\n",
      "Training Accuracy: 0.9648, Testing Accuracy: 0.9698\n",
      "\n"
     ]
    },
    {
     "name": "stdout",
     "output_type": "stream",
     "text": [
      "Epoch 80, Loss 0.0297\n",
      "Training Accuracy: 0.9669, Testing Accuracy: 0.9703\n",
      "\n"
     ]
    },
    {
     "name": "stdout",
     "output_type": "stream",
     "text": [
      "Epoch 90, Loss 0.0285\n",
      "Training Accuracy: 0.9679, Testing Accuracy: 0.9698\n",
      "\n"
     ]
    },
    {
     "name": "stdout",
     "output_type": "stream",
     "text": [
      "Epoch 100, Loss 0.0274\n",
      "Training Accuracy: 0.9689, Testing Accuracy: 0.9698\n",
      "\n"
     ]
    },
    {
     "name": "stdout",
     "output_type": "stream",
     "text": [
      "Epoch 110, Loss 0.0265\n",
      "Training Accuracy: 0.9701, Testing Accuracy: 0.9703\n",
      "\n"
     ]
    },
    {
     "name": "stdout",
     "output_type": "stream",
     "text": [
      "Epoch 120, Loss 0.0258\n",
      "Training Accuracy: 0.9712, Testing Accuracy: 0.9698\n",
      "\n"
     ]
    },
    {
     "name": "stdout",
     "output_type": "stream",
     "text": [
      "Epoch 130, Loss 0.0251\n",
      "Training Accuracy: 0.9716, Testing Accuracy: 0.9713\n",
      "\n"
     ]
    },
    {
     "name": "stdout",
     "output_type": "stream",
     "text": [
      "Epoch 140, Loss 0.0245\n",
      "Training Accuracy: 0.9725, Testing Accuracy: 0.9708\n",
      "\n"
     ]
    },
    {
     "name": "stdout",
     "output_type": "stream",
     "text": [
      "Epoch 150, Loss 0.0239\n",
      "Training Accuracy: 0.9730, Testing Accuracy: 0.9698\n",
      "\n"
     ]
    },
    {
     "name": "stdout",
     "output_type": "stream",
     "text": [
      "Epoch 160, Loss 0.0234\n",
      "Training Accuracy: 0.9737, Testing Accuracy: 0.9698\n",
      "\n"
     ]
    },
    {
     "name": "stdout",
     "output_type": "stream",
     "text": [
      "Epoch 170, Loss 0.023\n",
      "Training Accuracy: 0.9743, Testing Accuracy: 0.9698\n",
      "\n"
     ]
    },
    {
     "name": "stdout",
     "output_type": "stream",
     "text": [
      "Epoch 180, Loss 0.0225\n",
      "Training Accuracy: 0.9749, Testing Accuracy: 0.9698\n",
      "\n"
     ]
    },
    {
     "name": "stdout",
     "output_type": "stream",
     "text": [
      "Epoch 190, Loss 0.0221\n",
      "Training Accuracy: 0.9754, Testing Accuracy: 0.9713\n",
      "\n"
     ]
    },
    {
     "name": "stdout",
     "output_type": "stream",
     "text": [
      "Epoch 200, Loss 0.0217\n",
      "Training Accuracy: 0.9756, Testing Accuracy: 0.9718\n",
      "\n"
     ]
    },
    {
     "name": "stdout",
     "output_type": "stream",
     "text": [
      "Epoch 210, Loss 0.0214\n",
      "Training Accuracy: 0.9760, Testing Accuracy: 0.9718\n",
      "\n"
     ]
    },
    {
     "name": "stdout",
     "output_type": "stream",
     "text": [
      "Epoch 220, Loss 0.021\n",
      "Training Accuracy: 0.9764, Testing Accuracy: 0.9718\n",
      "\n"
     ]
    },
    {
     "name": "stdout",
     "output_type": "stream",
     "text": [
      "Epoch 230, Loss 0.0207\n",
      "Training Accuracy: 0.9765, Testing Accuracy: 0.9718\n",
      "\n"
     ]
    },
    {
     "name": "stdout",
     "output_type": "stream",
     "text": [
      "Epoch 240, Loss 0.0204\n",
      "Training Accuracy: 0.9770, Testing Accuracy: 0.9718\n",
      "\n"
     ]
    },
    {
     "data": {
      "text/plain": [
       "0.024056346966277745"
      ]
     },
     "execution_count": 22,
     "metadata": {},
     "output_type": "execute_result"
    }
   ],
   "source": [
    "nn_learner.train_loop(dl)"
   ]
  },
  {
   "cell_type": "code",
   "execution_count": 23,
   "id": "e0163366",
   "metadata": {
    "execution": {
     "iopub.execute_input": "2022-02-17T20:08:31.955696Z",
     "iopub.status.busy": "2022-02-17T20:08:31.955180Z",
     "iopub.status.idle": "2022-02-17T20:08:45.608613Z",
     "shell.execute_reply": "2022-02-17T20:08:45.609354Z"
    },
    "papermill": {
     "duration": 13.69878,
     "end_time": "2022-02-17T20:08:45.609511",
     "exception": false,
     "start_time": "2022-02-17T20:08:31.910731",
     "status": "completed"
    },
    "tags": []
   },
   "outputs": [
    {
     "name": "stdout",
     "output_type": "stream",
     "text": [
      "Epoch 0, Loss 0.2287\n",
      "Training Accuracy: 0.7465, Testing Accuracy: 0.7717\n",
      "\n"
     ]
    },
    {
     "name": "stdout",
     "output_type": "stream",
     "text": [
      "Epoch 10, Loss 0.1008\n",
      "Training Accuracy: 0.9153, Testing Accuracy: 0.9259\n",
      "\n"
     ]
    },
    {
     "name": "stdout",
     "output_type": "stream",
     "text": [
      "Epoch 20, Loss 0.0783\n",
      "Training Accuracy: 0.9307, Testing Accuracy: 0.9415\n",
      "\n"
     ]
    },
    {
     "name": "stdout",
     "output_type": "stream",
     "text": [
      "Epoch 30, Loss 0.0678\n",
      "Training Accuracy: 0.9369, Testing Accuracy: 0.9506\n",
      "\n"
     ]
    },
    {
     "name": "stdout",
     "output_type": "stream",
     "text": [
      "Epoch 40, Loss 0.0614\n",
      "Training Accuracy: 0.9425, Testing Accuracy: 0.9556\n",
      "\n"
     ]
    },
    {
     "name": "stdout",
     "output_type": "stream",
     "text": [
      "Epoch 50, Loss 0.0571\n",
      "Training Accuracy: 0.9456, Testing Accuracy: 0.9572\n",
      "\n"
     ]
    },
    {
     "name": "stdout",
     "output_type": "stream",
     "text": [
      "Epoch 60, Loss 0.0538\n",
      "Training Accuracy: 0.9478, Testing Accuracy: 0.9587\n",
      "\n"
     ]
    },
    {
     "name": "stdout",
     "output_type": "stream",
     "text": [
      "Epoch 70, Loss 0.0513\n",
      "Training Accuracy: 0.9492, Testing Accuracy: 0.9597\n",
      "\n"
     ]
    },
    {
     "name": "stdout",
     "output_type": "stream",
     "text": [
      "Epoch 80, Loss 0.0493\n",
      "Training Accuracy: 0.9509, Testing Accuracy: 0.9607\n",
      "\n"
     ]
    },
    {
     "name": "stdout",
     "output_type": "stream",
     "text": [
      "Epoch 90, Loss 0.0477\n",
      "Training Accuracy: 0.9520, Testing Accuracy: 0.9607\n",
      "\n"
     ]
    },
    {
     "name": "stdout",
     "output_type": "stream",
     "text": [
      "Epoch 100, Loss 0.0462\n",
      "Training Accuracy: 0.9526, Testing Accuracy: 0.9617\n",
      "\n"
     ]
    },
    {
     "name": "stdout",
     "output_type": "stream",
     "text": [
      "Epoch 110, Loss 0.045\n",
      "Training Accuracy: 0.9538, Testing Accuracy: 0.9617\n",
      "\n"
     ]
    },
    {
     "name": "stdout",
     "output_type": "stream",
     "text": [
      "Epoch 120, Loss 0.044\n",
      "Training Accuracy: 0.9541, Testing Accuracy: 0.9622\n",
      "\n"
     ]
    },
    {
     "name": "stdout",
     "output_type": "stream",
     "text": [
      "Epoch 130, Loss 0.0431\n",
      "Training Accuracy: 0.9549, Testing Accuracy: 0.9637\n",
      "\n"
     ]
    },
    {
     "name": "stdout",
     "output_type": "stream",
     "text": [
      "Epoch 140, Loss 0.0422\n",
      "Training Accuracy: 0.9556, Testing Accuracy: 0.9637\n",
      "\n"
     ]
    },
    {
     "name": "stdout",
     "output_type": "stream",
     "text": [
      "Epoch 150, Loss 0.0415\n",
      "Training Accuracy: 0.9564, Testing Accuracy: 0.9642\n",
      "\n"
     ]
    },
    {
     "name": "stdout",
     "output_type": "stream",
     "text": [
      "Epoch 160, Loss 0.0408\n",
      "Training Accuracy: 0.9571, Testing Accuracy: 0.9652\n",
      "\n"
     ]
    },
    {
     "name": "stdout",
     "output_type": "stream",
     "text": [
      "Epoch 170, Loss 0.0402\n",
      "Training Accuracy: 0.9574, Testing Accuracy: 0.9647\n",
      "\n"
     ]
    },
    {
     "name": "stdout",
     "output_type": "stream",
     "text": [
      "Epoch 180, Loss 0.0396\n",
      "Training Accuracy: 0.9579, Testing Accuracy: 0.9652\n",
      "\n"
     ]
    },
    {
     "name": "stdout",
     "output_type": "stream",
     "text": [
      "Epoch 190, Loss 0.0391\n",
      "Training Accuracy: 0.9588, Testing Accuracy: 0.9652\n",
      "\n"
     ]
    },
    {
     "name": "stdout",
     "output_type": "stream",
     "text": [
      "Epoch 200, Loss 0.0386\n",
      "Training Accuracy: 0.9589, Testing Accuracy: 0.9662\n",
      "\n"
     ]
    },
    {
     "name": "stdout",
     "output_type": "stream",
     "text": [
      "Epoch 210, Loss 0.0382\n",
      "Training Accuracy: 0.9595, Testing Accuracy: 0.9667\n",
      "\n"
     ]
    },
    {
     "name": "stdout",
     "output_type": "stream",
     "text": [
      "Epoch 220, Loss 0.0378\n",
      "Training Accuracy: 0.9601, Testing Accuracy: 0.9677\n",
      "\n"
     ]
    },
    {
     "name": "stdout",
     "output_type": "stream",
     "text": [
      "Epoch 230, Loss 0.0374\n",
      "Training Accuracy: 0.9604, Testing Accuracy: 0.9688\n",
      "\n"
     ]
    },
    {
     "name": "stdout",
     "output_type": "stream",
     "text": [
      "Epoch 240, Loss 0.037\n",
      "Training Accuracy: 0.9605, Testing Accuracy: 0.9677\n",
      "\n"
     ]
    },
    {
     "data": {
      "text/plain": [
       "0.04585999185658082"
      ]
     },
     "execution_count": 23,
     "metadata": {},
     "output_type": "execute_result"
    }
   ],
   "source": [
    "lr_learner.train_loop(dl)"
   ]
  },
  {
   "cell_type": "code",
   "execution_count": 24,
   "id": "ca410940",
   "metadata": {
    "execution": {
     "iopub.execute_input": "2022-02-17T20:08:45.707443Z",
     "iopub.status.busy": "2022-02-17T20:08:45.706888Z",
     "iopub.status.idle": "2022-02-17T20:08:45.921815Z",
     "shell.execute_reply": "2022-02-17T20:08:45.922282Z"
    },
    "papermill": {
     "duration": 0.270892,
     "end_time": "2022-02-17T20:08:45.922461",
     "exception": false,
     "start_time": "2022-02-17T20:08:45.651569",
     "status": "completed"
    },
    "tags": []
   },
   "outputs": [
    {
     "data": {
      "text/plain": [
       "<matplotlib.legend.Legend at 0x7f1b90c35d30>"
      ]
     },
     "execution_count": 24,
     "metadata": {},
     "output_type": "execute_result"
    },
    {
     "data": {
      "image/png": "[encoded data removed]",
      "text/plain": [
       "<Figure size 1080x720 with 1 Axes>"
      ]
     },
     "metadata": {
      "needs_background": "light"
     },
     "output_type": "display_data"
    }
   ],
   "source": [
    "#comparing the results of NN and LR\n",
    "plt.figure(figsize=(15,10))\n",
    "\n",
    "# Neural Network plots\n",
    "plt.plot(acc_nn.accuracies, 'r-', label = \"Training Accuracies - NN\")\n",
    "plt.plot(acc_nn.test_accuracies, 'g-', label = \"Testing Accuracies - NN\")\n",
    "\n",
    "# Logistic Regression plots\n",
    "plt.plot(acc_lr.accuracies, 'k-', label = \"Training Accuracies - LR\")\n",
    "plt.plot(acc_lr.test_accuracies, 'b-', label = \"Testing Accuracies - LR\")\n",
    "plt.legend()"
   ]
  },
  {
   "cell_type": "markdown",
   "id": "80dfb35c",
   "metadata": {
    "papermill": {
     "duration": 0.042352,
     "end_time": "2022-02-17T20:08:46.007875",
     "exception": false,
     "start_time": "2022-02-17T20:08:45.965523",
     "status": "completed"
    },
    "tags": []
   },
   "source": [
    "#### Plotting the outputs of this layer of the NN.\n"
   ]
  },
  {
   "cell_type": "code",
   "execution_count": 25,
   "id": "45eb2ff5",
   "metadata": {
    "execution": {
     "iopub.execute_input": "2022-02-17T20:08:46.107276Z",
     "iopub.status.busy": "2022-02-17T20:08:46.097279Z",
     "iopub.status.idle": "2022-02-17T20:08:46.119979Z",
     "shell.execute_reply": "2022-02-17T20:08:46.120682Z"
    },
    "papermill": {
     "duration": 0.070732,
     "end_time": "2022-02-17T20:08:46.120833",
     "exception": false,
     "start_time": "2022-02-17T20:08:46.050101",
     "status": "completed"
    },
    "tags": []
   },
   "outputs": [],
   "source": [
    "new_model = Model(layers[:-2])\n",
    "testing_plot = new_model(testing_data_x)"
   ]
  },
  {
   "cell_type": "code",
   "execution_count": 26,
   "id": "4c0a5485",
   "metadata": {
    "execution": {
     "iopub.execute_input": "2022-02-17T20:08:46.215576Z",
     "iopub.status.busy": "2022-02-17T20:08:46.215061Z",
     "iopub.status.idle": "2022-02-17T20:08:46.421108Z",
     "shell.execute_reply": "2022-02-17T20:08:46.420655Z"
    },
    "papermill": {
     "duration": 0.256876,
     "end_time": "2022-02-17T20:08:46.421227",
     "exception": false,
     "start_time": "2022-02-17T20:08:46.164351",
     "status": "completed"
    },
    "tags": []
   },
   "outputs": [
    {
     "data": {
      "text/plain": [
       "Text(0.5, 1.0, 'Outputs')"
      ]
     },
     "execution_count": 26,
     "metadata": {},
     "output_type": "execute_result"
    },
    {
     "data": {
      "image/png": "[encoded data removed]",
      "text/plain": [
       "<Figure size 576x504 with 1 Axes>"
      ]
     },
     "metadata": {
      "needs_background": "light"
     },
     "output_type": "display_data"
    }
   ],
   "source": [
    "# Plotting the scatter plot of points and color coding by class\n",
    "plt.figure(figsize=(8,7))\n",
    "plt.scatter(testing_plot[:,0], testing_plot[:,1], alpha = 0.1, c = y_test.ravel());\n",
    "plt.title('Outputs')"
   ]
  },
  {
   "cell_type": "markdown",
   "id": "a74fcf8f",
   "metadata": {
    "papermill": {
     "duration": 0.045287,
     "end_time": "2022-02-17T20:08:46.512079",
     "exception": false,
     "start_time": "2022-02-17T20:08:46.466792",
     "status": "completed"
    },
    "tags": []
   },
   "source": [
    "Probability contours"
   ]
  },
  {
   "cell_type": "code",
   "execution_count": 27,
   "id": "d0afc8e3",
   "metadata": {
    "execution": {
     "iopub.execute_input": "2022-02-17T20:08:46.612116Z",
     "iopub.status.busy": "2022-02-17T20:08:46.608159Z",
     "iopub.status.idle": "2022-02-17T20:08:46.620019Z",
     "shell.execute_reply": "2022-02-17T20:08:46.619570Z"
    },
    "papermill": {
     "duration": 0.062796,
     "end_time": "2022-02-17T20:08:46.620130",
     "exception": false,
     "start_time": "2022-02-17T20:08:46.557334",
     "status": "completed"
    },
    "tags": []
   },
   "outputs": [],
   "source": [
    "model_prob = Model(layers[-2:]) "
   ]
  },
  {
   "cell_type": "code",
   "execution_count": 28,
   "id": "9b96e238",
   "metadata": {
    "execution": {
     "iopub.execute_input": "2022-02-17T20:08:46.755131Z",
     "iopub.status.busy": "2022-02-17T20:08:46.750757Z",
     "iopub.status.idle": "2022-02-17T20:08:46.764349Z",
     "shell.execute_reply": "2022-02-17T20:08:46.764817Z"
    },
    "papermill": {
     "duration": 0.070273,
     "end_time": "2022-02-17T20:08:46.764947",
     "exception": false,
     "start_time": "2022-02-17T20:08:46.694674",
     "status": "completed"
    },
    "tags": []
   },
   "outputs": [],
   "source": [
    "#creating the x and y ranges according to the above generated plot.\n",
    "x_range = np.linspace(-4, 1, 100) \n",
    "y_range = np.linspace(-6, 6, 100) \n",
    "x_grid, y_grid = np.meshgrid(x_range, y_range) # x_grid and y_grig are of size 100 X 100\n",
    "\n",
    "# converting x_grid and y_grid to continuous arrays\n",
    "x_gridflat = np.ravel(x_grid)\n",
    "y_gridflat = np.ravel(y_grid)\n",
    "\n",
    "# The last layer of the current model takes two columns as input. Hence transpose of np.vstack() is required.\n",
    "X = np.vstack((x_gridflat, y_gridflat)).T\n",
    "\n",
    "prob_contour = model_prob(X).reshape(100,100) "
   ]
  },
  {
   "cell_type": "code",
   "execution_count": 29,
   "id": "da72499a",
   "metadata": {
    "execution": {
     "iopub.execute_input": "2022-02-17T20:08:46.860756Z",
     "iopub.status.busy": "2022-02-17T20:08:46.860241Z",
     "iopub.status.idle": "2022-02-17T20:08:47.116733Z",
     "shell.execute_reply": "2022-02-17T20:08:47.117209Z"
    },
    "papermill": {
     "duration": 0.306784,
     "end_time": "2022-02-17T20:08:47.117362",
     "exception": false,
     "start_time": "2022-02-17T20:08:46.810578",
     "status": "completed"
    },
    "tags": []
   },
   "outputs": [
    {
     "data": {
      "image/png": "[encoded data removed]",
      "text/plain": [
       "<Figure size 720x648 with 1 Axes>"
      ]
     },
     "metadata": {
      "needs_background": "light"
     },
     "output_type": "display_data"
    }
   ],
   "source": [
    "plt.figure(figsize=(10,9))\n",
    "plt.scatter(testing_plot[:,0], testing_plot[:,1], alpha = 0.1, c = y_test.ravel())\n",
    "contours = plt.contour(x_grid,y_grid,prob_contour)\n",
    "plt.title('Probability Contours')\n",
    "plt.clabel(contours, inline = True );"
   ]
  },
  {
   "cell_type": "code",
   "execution_count": null,
   "id": "e81b4ac7",
   "metadata": {
    "papermill": {
     "duration": 0.047808,
     "end_time": "2022-02-17T20:08:47.214622",
     "exception": false,
     "start_time": "2022-02-17T20:08:47.166814",
     "status": "completed"
    },
    "tags": []
   },
   "outputs": [],
   "source": []
  }
 ],
 "metadata": {
  "kernelspec": {
   "display_name": "Python 3",
   "language": "python",
   "name": "python3"
  },
  "language_info": {
   "codemirror_mode": {
    "name": "ipython",
    "version": 3
   },
   "file_extension": ".py",
   "mimetype": "text/x-python",
   "name": "python",
   "nbconvert_exporter": "python",
   "pygments_lexer": "ipython3",
   "version": "3.6.15"
  },
  "papermill": {
   "default_parameters": {},
   "duration": 97.644706,
   "end_time": "2022-02-17T20:08:47.681940",
   "environment_variables": {},
   "exception": null,
   "input_path": "2020-08-11-part2.ipynb",
   "output_path": "2020-08-11-part2.ipynb",
   "parameters": {},
   "start_time": "2022-02-17T20:07:10.037234",
   "version": "2.3.3"
  }
 },
 "nbformat": 4,
 "nbformat_minor": 5
}