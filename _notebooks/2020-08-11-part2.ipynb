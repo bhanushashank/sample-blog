{
 "cells": [
  {
   "cell_type": "markdown",
   "id": "98380cd3",
   "metadata": {
    "papermill": {
     "duration": 0.035704,
     "end_time": "2021-11-23T10:08:18.524852",
     "exception": false,
     "start_time": "2021-11-23T10:08:18.489148",
     "status": "completed"
    },
    "tags": []
   },
   "source": [
    "# Distinguish Your Own Digits (DYOD)"
   ]
  },
  {
   "cell_type": "markdown",
   "id": "ef31240d",
   "metadata": {
    "papermill": {
     "duration": 0.031378,
     "end_time": "2021-11-23T10:08:18.587893",
     "exception": false,
     "start_time": "2021-11-23T10:08:18.556515",
     "status": "completed"
    },
    "tags": []
   },
   "source": [
    "You are going to write a classifier that distinguishes between the number 3 and number 8."
   ]
  },
  {
   "cell_type": "code",
   "execution_count": 1,
   "id": "b15c8646",
   "metadata": {
    "execution": {
     "iopub.execute_input": "2021-11-23T10:08:18.659854Z",
     "iopub.status.busy": "2021-11-23T10:08:18.659178Z",
     "iopub.status.idle": "2021-11-23T10:08:18.671026Z",
     "shell.execute_reply": "2021-11-23T10:08:18.671605Z"
    },
    "papermill": {
     "duration": 0.053096,
     "end_time": "2021-11-23T10:08:18.671788",
     "exception": false,
     "start_time": "2021-11-23T10:08:18.618692",
     "status": "completed"
    },
    "tags": []
   },
   "outputs": [],
   "source": [
    "%load_ext autoreload\n",
    "%autoreload 2"
   ]
  },
  {
   "cell_type": "code",
   "execution_count": 2,
   "id": "22ef38dc",
   "metadata": {
    "execution": {
     "iopub.execute_input": "2021-11-23T10:08:18.734411Z",
     "iopub.status.busy": "2021-11-23T10:08:18.733696Z",
     "iopub.status.idle": "2021-11-23T10:08:19.459373Z",
     "shell.execute_reply": "2021-11-23T10:08:19.459931Z"
    },
    "papermill": {
     "duration": 0.75846,
     "end_time": "2021-11-23T10:08:19.460114",
     "exception": false,
     "start_time": "2021-11-23T10:08:18.701654",
     "status": "completed"
    },
    "tags": []
   },
   "outputs": [],
   "source": [
    "%matplotlib inline\n",
    "import numpy as np\n",
    "import matplotlib.pyplot as plt\n",
    "import pandas as pd"
   ]
  },
  {
   "cell_type": "markdown",
   "id": "ba036198",
   "metadata": {
    "papermill": {
     "duration": 0.030707,
     "end_time": "2021-11-23T10:08:19.522911",
     "exception": false,
     "start_time": "2021-11-23T10:08:19.492204",
     "status": "completed"
    },
    "tags": []
   },
   "source": [
    "From the command line run `pip install mnist`. This is a library that will help you bring down the mnist dataset. If you run this from a notebook, you need to put  `!pip install mnist` in a cell by itself."
   ]
  },
  {
   "cell_type": "code",
   "execution_count": 3,
   "id": "bb6ad8a1",
   "metadata": {
    "execution": {
     "iopub.execute_input": "2021-11-23T10:08:19.603854Z",
     "iopub.status.busy": "2021-11-23T10:08:19.599946Z",
     "iopub.status.idle": "2021-11-23T10:08:22.420669Z",
     "shell.execute_reply": "2021-11-23T10:08:22.419812Z"
    },
    "papermill": {
     "duration": 2.866529,
     "end_time": "2021-11-23T10:08:22.420832",
     "exception": false,
     "start_time": "2021-11-23T10:08:19.554303",
     "status": "completed"
    },
    "tags": []
   },
   "outputs": [
    {
     "name": "stdout",
     "output_type": "stream",
     "text": [
      "Collecting mnist\r\n"
     ]
    },
    {
     "name": "stdout",
     "output_type": "stream",
     "text": [
      "  Downloading mnist-0.2.2-py2.py3-none-any.whl (3.5 kB)\r\n",
      "Requirement already satisfied: numpy in /opt/hostedtoolcache/Python/3.6.15/x64/lib/python3.6/site-packages (from mnist) (1.19.5)\r\n"
     ]
    },
    {
     "name": "stdout",
     "output_type": "stream",
     "text": [
      "Installing collected packages: mnist\r\n"
     ]
    },
    {
     "name": "stdout",
     "output_type": "stream",
     "text": [
      "Successfully installed mnist-0.2.2\r\n"
     ]
    }
   ],
   "source": [
    "!pip install mnist"
   ]
  },
  {
   "cell_type": "markdown",
   "id": "69df9c9a",
   "metadata": {
    "papermill": {
     "duration": 0.03141,
     "end_time": "2021-11-23T10:08:22.484726",
     "exception": false,
     "start_time": "2021-11-23T10:08:22.453316",
     "status": "completed"
    },
    "tags": []
   },
   "source": [
    "## Preparing the Data"
   ]
  },
  {
   "cell_type": "code",
   "execution_count": 4,
   "id": "7f69d806",
   "metadata": {
    "execution": {
     "iopub.execute_input": "2021-11-23T10:08:22.553578Z",
     "iopub.status.busy": "2021-11-23T10:08:22.552734Z",
     "iopub.status.idle": "2021-11-23T10:08:22.570758Z",
     "shell.execute_reply": "2021-11-23T10:08:22.570113Z"
    },
    "papermill": {
     "duration": 0.055509,
     "end_time": "2021-11-23T10:08:22.570882",
     "exception": false,
     "start_time": "2021-11-23T10:08:22.515373",
     "status": "completed"
    },
    "tags": []
   },
   "outputs": [],
   "source": [
    "import mnist"
   ]
  },
  {
   "cell_type": "code",
   "execution_count": 5,
   "id": "a411e44f",
   "metadata": {
    "execution": {
     "iopub.execute_input": "2021-11-23T10:08:22.638241Z",
     "iopub.status.busy": "2021-11-23T10:08:22.637602Z",
     "iopub.status.idle": "2021-11-23T10:08:23.293630Z",
     "shell.execute_reply": "2021-11-23T10:08:23.292753Z"
    },
    "papermill": {
     "duration": 0.691603,
     "end_time": "2021-11-23T10:08:23.293789",
     "exception": false,
     "start_time": "2021-11-23T10:08:22.602186",
     "status": "completed"
    },
    "tags": []
   },
   "outputs": [],
   "source": [
    "train_images = mnist.train_images()\n",
    "train_labels = mnist.train_labels()"
   ]
  },
  {
   "cell_type": "code",
   "execution_count": 6,
   "id": "dceab3a5",
   "metadata": {
    "execution": {
     "iopub.execute_input": "2021-11-23T10:08:23.376974Z",
     "iopub.status.busy": "2021-11-23T10:08:23.367622Z",
     "iopub.status.idle": "2021-11-23T10:08:23.382372Z",
     "shell.execute_reply": "2021-11-23T10:08:23.382943Z"
    },
    "papermill": {
     "duration": 0.05775,
     "end_time": "2021-11-23T10:08:23.383114",
     "exception": false,
     "start_time": "2021-11-23T10:08:23.325364",
     "status": "completed"
    },
    "tags": []
   },
   "outputs": [
    {
     "data": {
      "text/plain": [
       "((60000, 28, 28), (60000,))"
      ]
     },
     "execution_count": 6,
     "metadata": {},
     "output_type": "execute_result"
    }
   ],
   "source": [
    "train_images.shape, train_labels.shape"
   ]
  },
  {
   "cell_type": "code",
   "execution_count": 7,
   "id": "f50dc2bb",
   "metadata": {
    "execution": {
     "iopub.execute_input": "2021-11-23T10:08:23.452302Z",
     "iopub.status.busy": "2021-11-23T10:08:23.451575Z",
     "iopub.status.idle": "2021-11-23T10:08:23.684768Z",
     "shell.execute_reply": "2021-11-23T10:08:23.684183Z"
    },
    "papermill": {
     "duration": 0.270831,
     "end_time": "2021-11-23T10:08:23.684943",
     "exception": false,
     "start_time": "2021-11-23T10:08:23.414112",
     "status": "completed"
    },
    "tags": []
   },
   "outputs": [],
   "source": [
    "test_images = mnist.test_images()\n",
    "test_labels = mnist.test_labels()"
   ]
  },
  {
   "cell_type": "code",
   "execution_count": 8,
   "id": "fc38cf1b",
   "metadata": {
    "execution": {
     "iopub.execute_input": "2021-11-23T10:08:23.768330Z",
     "iopub.status.busy": "2021-11-23T10:08:23.767641Z",
     "iopub.status.idle": "2021-11-23T10:08:23.775228Z",
     "shell.execute_reply": "2021-11-23T10:08:23.774678Z"
    },
    "papermill": {
     "duration": 0.057686,
     "end_time": "2021-11-23T10:08:23.775373",
     "exception": false,
     "start_time": "2021-11-23T10:08:23.717687",
     "status": "completed"
    },
    "tags": []
   },
   "outputs": [
    {
     "data": {
      "text/plain": [
       "((10000, 28, 28), (10000,))"
      ]
     },
     "execution_count": 8,
     "metadata": {},
     "output_type": "execute_result"
    }
   ],
   "source": [
    "test_images.shape, test_labels.shape"
   ]
  },
  {
   "cell_type": "code",
   "execution_count": 9,
   "id": "f9ed8fe0",
   "metadata": {
    "execution": {
     "iopub.execute_input": "2021-11-23T10:08:23.841335Z",
     "iopub.status.busy": "2021-11-23T10:08:23.840588Z",
     "iopub.status.idle": "2021-11-23T10:08:24.019571Z",
     "shell.execute_reply": "2021-11-23T10:08:24.020068Z"
    },
    "papermill": {
     "duration": 0.213614,
     "end_time": "2021-11-23T10:08:24.020271",
     "exception": false,
     "start_time": "2021-11-23T10:08:23.806657",
     "status": "completed"
    },
    "tags": []
   },
   "outputs": [
    {
     "name": "stdout",
     "output_type": "stream",
     "text": [
      "2\n"
     ]
    },
    {
     "data": {
      "text/plain": [
       "<matplotlib.image.AxesImage at 0x7fdf0f922198>"
      ]
     },
     "execution_count": 9,
     "metadata": {},
     "output_type": "execute_result"
    },
    {
     "data": {
      "image/png": "[encoded data removed]",
      "text/plain": [
       "<Figure size 432x288 with 1 Axes>"
      ]
     },
     "metadata": {
      "needs_background": "light"
     },
     "output_type": "display_data"
    }
   ],
   "source": [
    "image_index = 7776 # You may select anything up to 60,000\n",
    "print(train_labels[image_index]) \n",
    "plt.imshow(train_images[image_index], cmap='Greys')"
   ]
  },
  {
   "cell_type": "markdown",
   "id": "a8d2388d",
   "metadata": {
    "papermill": {
     "duration": 0.034846,
     "end_time": "2021-11-23T10:08:24.089119",
     "exception": false,
     "start_time": "2021-11-23T10:08:24.054273",
     "status": "completed"
    },
    "tags": []
   },
   "source": [
    "## Filter data to get 3 and 8 out"
   ]
  },
  {
   "cell_type": "code",
   "execution_count": 10,
   "id": "776f7fc7",
   "metadata": {
    "execution": {
     "iopub.execute_input": "2021-11-23T10:08:24.164999Z",
     "iopub.status.busy": "2021-11-23T10:08:24.164325Z",
     "iopub.status.idle": "2021-11-23T10:08:24.184402Z",
     "shell.execute_reply": "2021-11-23T10:08:24.184918Z"
    },
    "papermill": {
     "duration": 0.060466,
     "end_time": "2021-11-23T10:08:24.185112",
     "exception": false,
     "start_time": "2021-11-23T10:08:24.124646",
     "status": "completed"
    },
    "tags": []
   },
   "outputs": [],
   "source": [
    "train_filter = np.where((train_labels == 3 ) | (train_labels == 8))\n",
    "test_filter = np.where((test_labels == 3) | (test_labels == 8))\n",
    "X_train, y_train = train_images[train_filter], train_labels[train_filter]\n",
    "X_test, y_test = test_images[test_filter], test_labels[test_filter]"
   ]
  },
  {
   "cell_type": "markdown",
   "id": "948f0b7e",
   "metadata": {
    "papermill": {
     "duration": 0.031634,
     "end_time": "2021-11-23T10:08:24.251302",
     "exception": false,
     "start_time": "2021-11-23T10:08:24.219668",
     "status": "completed"
    },
    "tags": []
   },
   "source": [
    "We normalize the pizel values in the 0 to 1 range"
   ]
  },
  {
   "cell_type": "code",
   "execution_count": 11,
   "id": "ee4c2166",
   "metadata": {
    "execution": {
     "iopub.execute_input": "2021-11-23T10:08:24.332461Z",
     "iopub.status.busy": "2021-11-23T10:08:24.325327Z",
     "iopub.status.idle": "2021-11-23T10:08:24.389219Z",
     "shell.execute_reply": "2021-11-23T10:08:24.389731Z"
    },
    "papermill": {
     "duration": 0.10625,
     "end_time": "2021-11-23T10:08:24.389939",
     "exception": false,
     "start_time": "2021-11-23T10:08:24.283689",
     "status": "completed"
    },
    "tags": []
   },
   "outputs": [],
   "source": [
    "X_train = X_train/255.\n",
    "X_test = X_test/255."
   ]
  },
  {
   "cell_type": "markdown",
   "id": "ddcf4fab",
   "metadata": {
    "papermill": {
     "duration": 0.033809,
     "end_time": "2021-11-23T10:08:24.458551",
     "exception": false,
     "start_time": "2021-11-23T10:08:24.424742",
     "status": "completed"
    },
    "tags": []
   },
   "source": [
    "And setup the labels as 1 (when the digit is 3) and 0 (when the digit is 8)"
   ]
  },
  {
   "cell_type": "code",
   "execution_count": 12,
   "id": "7dc908f2",
   "metadata": {
    "execution": {
     "iopub.execute_input": "2021-11-23T10:08:24.545196Z",
     "iopub.status.busy": "2021-11-23T10:08:24.537034Z",
     "iopub.status.idle": "2021-11-23T10:08:24.547951Z",
     "shell.execute_reply": "2021-11-23T10:08:24.548635Z"
    },
    "papermill": {
     "duration": 0.057165,
     "end_time": "2021-11-23T10:08:24.548814",
     "exception": false,
     "start_time": "2021-11-23T10:08:24.491649",
     "status": "completed"
    },
    "tags": []
   },
   "outputs": [],
   "source": [
    "y_train = 1*(y_train==3)\n",
    "y_test = 1*(y_test==3)"
   ]
  },
  {
   "cell_type": "code",
   "execution_count": 13,
   "id": "01e4e969",
   "metadata": {
    "execution": {
     "iopub.execute_input": "2021-11-23T10:08:24.638199Z",
     "iopub.status.busy": "2021-11-23T10:08:24.629402Z",
     "iopub.status.idle": "2021-11-23T10:08:24.644001Z",
     "shell.execute_reply": "2021-11-23T10:08:24.643442Z"
    },
    "papermill": {
     "duration": 0.060202,
     "end_time": "2021-11-23T10:08:24.644138",
     "exception": false,
     "start_time": "2021-11-23T10:08:24.583936",
     "status": "completed"
    },
    "tags": []
   },
   "outputs": [
    {
     "data": {
      "text/plain": [
       "((11982, 28, 28), (1984, 28, 28))"
      ]
     },
     "execution_count": 13,
     "metadata": {},
     "output_type": "execute_result"
    }
   ],
   "source": [
    "X_train.shape, X_test.shape"
   ]
  },
  {
   "cell_type": "markdown",
   "id": "5ccf3f85",
   "metadata": {
    "papermill": {
     "duration": 0.033419,
     "end_time": "2021-11-23T10:08:24.711229",
     "exception": false,
     "start_time": "2021-11-23T10:08:24.677810",
     "status": "completed"
    },
    "tags": []
   },
   "source": [
    "We reshape the data to flatten the image pixels into a set of features or co-variates:"
   ]
  },
  {
   "cell_type": "code",
   "execution_count": 14,
   "id": "5286a4a3",
   "metadata": {
    "execution": {
     "iopub.execute_input": "2021-11-23T10:08:24.781471Z",
     "iopub.status.busy": "2021-11-23T10:08:24.780815Z",
     "iopub.status.idle": "2021-11-23T10:08:24.796353Z",
     "shell.execute_reply": "2021-11-23T10:08:24.795742Z"
    },
    "papermill": {
     "duration": 0.051729,
     "end_time": "2021-11-23T10:08:24.796472",
     "exception": false,
     "start_time": "2021-11-23T10:08:24.744743",
     "status": "completed"
    },
    "tags": []
   },
   "outputs": [
    {
     "data": {
      "text/plain": [
       "((11982, 784), (1984, 784))"
      ]
     },
     "execution_count": 14,
     "metadata": {},
     "output_type": "execute_result"
    }
   ],
   "source": [
    "X_train = X_train.reshape(X_train.shape[0], -1)\n",
    "X_test = X_test.reshape(X_test.shape[0], -1)\n",
    "X_train.shape, X_test.shape"
   ]
  },
  {
   "cell_type": "code",
   "execution_count": 15,
   "id": "73c5f88a",
   "metadata": {
    "execution": {
     "iopub.execute_input": "2021-11-23T10:08:24.865075Z",
     "iopub.status.busy": "2021-11-23T10:08:24.864405Z",
     "iopub.status.idle": "2021-11-23T10:08:24.885031Z",
     "shell.execute_reply": "2021-11-23T10:08:24.885508Z"
    },
    "papermill": {
     "duration": 0.056707,
     "end_time": "2021-11-23T10:08:24.885674",
     "exception": false,
     "start_time": "2021-11-23T10:08:24.828967",
     "status": "completed"
    },
    "tags": []
   },
   "outputs": [],
   "source": [
    "#Impoting functions from 'Kudzu'\n",
    "from kudzu.model import Model\n",
    "from kudzu.train import Learner\n",
    "from kudzu.optim import GD\n",
    "from kudzu.data import Data, Sampler,Dataloader\n",
    "\n",
    "from kudzu.callbacks import AccCallback\n",
    "from kudzu.callbacks import ClfCallback\n",
    "\n",
    "from kudzu.loss import MSE\n",
    "\n",
    "from kudzu.layer import Sigmoid,Relu\n",
    "from kudzu.layer import Affine"
   ]
  },
  {
   "cell_type": "markdown",
   "id": "bc01172a",
   "metadata": {
    "papermill": {
     "duration": 0.033762,
     "end_time": "2021-11-23T10:08:24.954526",
     "exception": false,
     "start_time": "2021-11-23T10:08:24.920764",
     "status": "completed"
    },
    "tags": []
   },
   "source": [
    "### Let us create a `Config` class, to store important parameters. \n",
    "This class essentially plays the role of a dictionary."
   ]
  },
  {
   "cell_type": "code",
   "execution_count": 16,
   "id": "978281aa",
   "metadata": {
    "execution": {
     "iopub.execute_input": "2021-11-23T10:08:25.031968Z",
     "iopub.status.busy": "2021-11-23T10:08:25.031276Z",
     "iopub.status.idle": "2021-11-23T10:08:25.044215Z",
     "shell.execute_reply": "2021-11-23T10:08:25.044723Z"
    },
    "papermill": {
     "duration": 0.054076,
     "end_time": "2021-11-23T10:08:25.044876",
     "exception": false,
     "start_time": "2021-11-23T10:08:24.990800",
     "status": "completed"
    },
    "tags": []
   },
   "outputs": [],
   "source": [
    "class Config:\n",
    "    pass\n",
    "config = Config()\n",
    "config.lr = 0.001\n",
    "config.num_epochs = 250\n",
    "config.bs = 50"
   ]
  },
  {
   "cell_type": "markdown",
   "id": "1385fa59",
   "metadata": {
    "papermill": {
     "duration": 0.033727,
     "end_time": "2021-11-23T10:08:25.114697",
     "exception": false,
     "start_time": "2021-11-23T10:08:25.080970",
     "status": "completed"
    },
    "tags": []
   },
   "source": [
    "### Running Models with the Training data\n",
    "Details about the network layers:\n",
    "- A first affine layer has 784 inputs and does 100 affine transforms. These are followed by a Relu\n",
    "- A second affine layer has 100 inputs from the 100 activations of the past layer, and does 100 affine transforms. These are followed by a Relu\n",
    "- A third affine layer has 100 activations and does 2 affine transformations to create an embedding for visualization. There is no non-linearity here.\n",
    "- A final \"logistic regression\" which has an affine transform from 2 inputs to 1 output, which is squeezed through a sigmoid.\n"
   ]
  },
  {
   "cell_type": "code",
   "execution_count": 17,
   "id": "2b9c66db",
   "metadata": {
    "execution": {
     "iopub.execute_input": "2021-11-23T10:08:25.192438Z",
     "iopub.status.busy": "2021-11-23T10:08:25.191777Z",
     "iopub.status.idle": "2021-11-23T10:08:25.204421Z",
     "shell.execute_reply": "2021-11-23T10:08:25.203927Z"
    },
    "papermill": {
     "duration": 0.054594,
     "end_time": "2021-11-23T10:08:25.204554",
     "exception": false,
     "start_time": "2021-11-23T10:08:25.149960",
     "status": "completed"
    },
    "tags": []
   },
   "outputs": [],
   "source": [
    "data = Data(X_train, y_train.reshape(-1,1))\n",
    "sampler = Sampler(data, config.bs, shuffle=True)\n",
    "\n",
    "dl = Dataloader(data, sampler)\n",
    "\n",
    "opt = GD(config.lr)\n",
    "loss = MSE()"
   ]
  },
  {
   "cell_type": "code",
   "execution_count": 18,
   "id": "b275e4c2",
   "metadata": {
    "execution": {
     "iopub.execute_input": "2021-11-23T10:08:25.293913Z",
     "iopub.status.busy": "2021-11-23T10:08:25.293329Z",
     "iopub.status.idle": "2021-11-23T10:08:25.297099Z",
     "shell.execute_reply": "2021-11-23T10:08:25.297619Z"
    },
    "papermill": {
     "duration": 0.059856,
     "end_time": "2021-11-23T10:08:25.297790",
     "exception": false,
     "start_time": "2021-11-23T10:08:25.237934",
     "status": "completed"
    },
    "tags": []
   },
   "outputs": [],
   "source": [
    "training_data_x = X_train\n",
    "testing_data_x = X_test\n",
    "training_data_y = y_train.reshape(-1,1)\n",
    "testing_data_y = y_test.reshape(-1,1)"
   ]
  },
  {
   "cell_type": "code",
   "execution_count": 19,
   "id": "76951160",
   "metadata": {
    "execution": {
     "iopub.execute_input": "2021-11-23T10:08:25.368520Z",
     "iopub.status.busy": "2021-11-23T10:08:25.367828Z",
     "iopub.status.idle": "2021-11-23T10:08:25.386744Z",
     "shell.execute_reply": "2021-11-23T10:08:25.387392Z"
    },
    "papermill": {
     "duration": 0.057127,
     "end_time": "2021-11-23T10:08:25.387522",
     "exception": false,
     "start_time": "2021-11-23T10:08:25.330395",
     "status": "completed"
    },
    "tags": []
   },
   "outputs": [
    {
     "name": "stdout",
     "output_type": "stream",
     "text": [
      "xavier\n",
      "xavier\n",
      "xavier\n",
      "xavier\n",
      "xavier\n"
     ]
    }
   ],
   "source": [
    "layers = [Affine(\"first\", 784, 100), Relu(\"first\"), Affine(\"second\", 100, 100), Relu(\"second\"), Affine(\"third\", 100, 2), Affine(\"last\", 2, 1), Sigmoid(\"last\")]\n",
    "model_nn = Model(layers)\n",
    "model_lr = Model([Affine(\"logits\", 784, 1), Sigmoid(\"sigmoid\")])"
   ]
  },
  {
   "cell_type": "code",
   "execution_count": 20,
   "id": "6eede77a",
   "metadata": {
    "execution": {
     "iopub.execute_input": "2021-11-23T10:08:25.457899Z",
     "iopub.status.busy": "2021-11-23T10:08:25.457219Z",
     "iopub.status.idle": "2021-11-23T10:08:25.470253Z",
     "shell.execute_reply": "2021-11-23T10:08:25.469680Z"
    },
    "papermill": {
     "duration": 0.049714,
     "end_time": "2021-11-23T10:08:25.470389",
     "exception": false,
     "start_time": "2021-11-23T10:08:25.420675",
     "status": "completed"
    },
    "tags": []
   },
   "outputs": [],
   "source": [
    "nn_learner = Learner(loss, model_nn, opt, config.num_epochs)\n",
    "acc_nn = ClfCallback(nn_learner, config.bs, training_data_x , testing_data_x, training_data_y, testing_data_y)\n",
    "nn_learner.set_callbacks([acc_nn])"
   ]
  },
  {
   "cell_type": "code",
   "execution_count": 21,
   "id": "877b6cc7",
   "metadata": {
    "execution": {
     "iopub.execute_input": "2021-11-23T10:08:25.546684Z",
     "iopub.status.busy": "2021-11-23T10:08:25.546003Z",
     "iopub.status.idle": "2021-11-23T10:08:25.559355Z",
     "shell.execute_reply": "2021-11-23T10:08:25.559913Z"
    },
    "papermill": {
     "duration": 0.054648,
     "end_time": "2021-11-23T10:08:25.560061",
     "exception": false,
     "start_time": "2021-11-23T10:08:25.505413",
     "status": "completed"
    },
    "tags": []
   },
   "outputs": [],
   "source": [
    "lr_learner = Learner(loss, model_lr, opt, config.num_epochs)\n",
    "acc_lr = ClfCallback(lr_learner, config.bs, training_data_x , testing_data_x, training_data_y, testing_data_y)\n",
    "lr_learner.set_callbacks([acc_lr])"
   ]
  },
  {
   "cell_type": "code",
   "execution_count": 22,
   "id": "d9b133c3",
   "metadata": {
    "execution": {
     "iopub.execute_input": "2021-11-23T10:08:25.650784Z",
     "iopub.status.busy": "2021-11-23T10:08:25.642124Z",
     "iopub.status.idle": "2021-11-23T10:10:30.906722Z",
     "shell.execute_reply": "2021-11-23T10:10:30.907602Z"
    },
    "papermill": {
     "duration": 125.312426,
     "end_time": "2021-11-23T10:10:30.907779",
     "exception": false,
     "start_time": "2021-11-23T10:08:25.595353",
     "status": "completed"
    },
    "tags": []
   },
   "outputs": [
    {
     "name": "stdout",
     "output_type": "stream",
     "text": [
      "Epoch 0, Loss 0.2452\n",
      "Training Accuracy: 0.6458, Testing Accuracy: 0.6729\n",
      "\n"
     ]
    },
    {
     "name": "stdout",
     "output_type": "stream",
     "text": [
      "Epoch 10, Loss 0.2074\n",
      "Training Accuracy: 0.8781, Testing Accuracy: 0.8881\n",
      "\n"
     ]
    },
    {
     "name": "stdout",
     "output_type": "stream",
     "text": [
      "Epoch 20, Loss 0.1058\n",
      "Training Accuracy: 0.9163, Testing Accuracy: 0.9178\n",
      "\n"
     ]
    },
    {
     "name": "stdout",
     "output_type": "stream",
     "text": [
      "Epoch 30, Loss 0.063\n",
      "Training Accuracy: 0.9362, Testing Accuracy: 0.9446\n",
      "\n"
     ]
    },
    {
     "name": "stdout",
     "output_type": "stream",
     "text": [
      "Epoch 40, Loss 0.0486\n",
      "Training Accuracy: 0.9468, Testing Accuracy: 0.9551\n",
      "\n"
     ]
    },
    {
     "name": "stdout",
     "output_type": "stream",
     "text": [
      "Epoch 50, Loss 0.0416\n",
      "Training Accuracy: 0.9526, Testing Accuracy: 0.9652\n",
      "\n"
     ]
    },
    {
     "name": "stdout",
     "output_type": "stream",
     "text": [
      "Epoch 60, Loss 0.0375\n",
      "Training Accuracy: 0.9564, Testing Accuracy: 0.9667\n",
      "\n"
     ]
    },
    {
     "name": "stdout",
     "output_type": "stream",
     "text": [
      "Epoch 70, Loss 0.0347\n",
      "Training Accuracy: 0.9603, Testing Accuracy: 0.9677\n",
      "\n"
     ]
    },
    {
     "name": "stdout",
     "output_type": "stream",
     "text": [
      "Epoch 80, Loss 0.0327\n",
      "Training Accuracy: 0.9620, Testing Accuracy: 0.9672\n",
      "\n"
     ]
    },
    {
     "name": "stdout",
     "output_type": "stream",
     "text": [
      "Epoch 90, Loss 0.0311\n",
      "Training Accuracy: 0.9640, Testing Accuracy: 0.9688\n",
      "\n"
     ]
    },
    {
     "name": "stdout",
     "output_type": "stream",
     "text": [
      "Epoch 100, Loss 0.0298\n",
      "Training Accuracy: 0.9659, Testing Accuracy: 0.9693\n",
      "\n"
     ]
    },
    {
     "name": "stdout",
     "output_type": "stream",
     "text": [
      "Epoch 110, Loss 0.0287\n",
      "Training Accuracy: 0.9666, Testing Accuracy: 0.9693\n",
      "\n"
     ]
    },
    {
     "name": "stdout",
     "output_type": "stream",
     "text": [
      "Epoch 120, Loss 0.0278\n",
      "Training Accuracy: 0.9675, Testing Accuracy: 0.9688\n",
      "\n"
     ]
    },
    {
     "name": "stdout",
     "output_type": "stream",
     "text": [
      "Epoch 130, Loss 0.0269\n",
      "Training Accuracy: 0.9683, Testing Accuracy: 0.9703\n",
      "\n"
     ]
    },
    {
     "name": "stdout",
     "output_type": "stream",
     "text": [
      "Epoch 140, Loss 0.0262\n",
      "Training Accuracy: 0.9691, Testing Accuracy: 0.9698\n",
      "\n"
     ]
    },
    {
     "name": "stdout",
     "output_type": "stream",
     "text": [
      "Epoch 150, Loss 0.0255\n",
      "Training Accuracy: 0.9701, Testing Accuracy: 0.9698\n",
      "\n"
     ]
    },
    {
     "name": "stdout",
     "output_type": "stream",
     "text": [
      "Epoch 160, Loss 0.0249\n",
      "Training Accuracy: 0.9706, Testing Accuracy: 0.9703\n",
      "\n"
     ]
    },
    {
     "name": "stdout",
     "output_type": "stream",
     "text": [
      "Epoch 170, Loss 0.0244\n",
      "Training Accuracy: 0.9710, Testing Accuracy: 0.9698\n",
      "\n"
     ]
    },
    {
     "name": "stdout",
     "output_type": "stream",
     "text": [
      "Epoch 180, Loss 0.0238\n",
      "Training Accuracy: 0.9718, Testing Accuracy: 0.9703\n",
      "\n"
     ]
    },
    {
     "name": "stdout",
     "output_type": "stream",
     "text": [
      "Epoch 190, Loss 0.0233\n",
      "Training Accuracy: 0.9728, Testing Accuracy: 0.9703\n",
      "\n"
     ]
    },
    {
     "name": "stdout",
     "output_type": "stream",
     "text": [
      "Epoch 200, Loss 0.0229\n",
      "Training Accuracy: 0.9734, Testing Accuracy: 0.9698\n",
      "\n"
     ]
    },
    {
     "name": "stdout",
     "output_type": "stream",
     "text": [
      "Epoch 210, Loss 0.0224\n",
      "Training Accuracy: 0.9742, Testing Accuracy: 0.9693\n",
      "\n"
     ]
    },
    {
     "name": "stdout",
     "output_type": "stream",
     "text": [
      "Epoch 220, Loss 0.022\n",
      "Training Accuracy: 0.9751, Testing Accuracy: 0.9693\n",
      "\n"
     ]
    },
    {
     "name": "stdout",
     "output_type": "stream",
     "text": [
      "Epoch 230, Loss 0.0216\n",
      "Training Accuracy: 0.9755, Testing Accuracy: 0.9698\n",
      "\n"
     ]
    },
    {
     "name": "stdout",
     "output_type": "stream",
     "text": [
      "Epoch 240, Loss 0.0212\n",
      "Training Accuracy: 0.9762, Testing Accuracy: 0.9693\n",
      "\n"
     ]
    },
    {
     "data": {
      "text/plain": [
       "0.025050845783215876"
      ]
     },
     "execution_count": 22,
     "metadata": {},
     "output_type": "execute_result"
    }
   ],
   "source": [
    "nn_learner.train_loop(dl)"
   ]
  },
  {
   "cell_type": "code",
   "execution_count": 23,
   "id": "e0163366",
   "metadata": {
    "execution": {
     "iopub.execute_input": "2021-11-23T10:10:31.004119Z",
     "iopub.status.busy": "2021-11-23T10:10:31.003359Z",
     "iopub.status.idle": "2021-11-23T10:10:49.293252Z",
     "shell.execute_reply": "2021-11-23T10:10:49.294141Z"
    },
    "papermill": {
     "duration": 18.344346,
     "end_time": "2021-11-23T10:10:49.294320",
     "exception": false,
     "start_time": "2021-11-23T10:10:30.949974",
     "status": "completed"
    },
    "tags": []
   },
   "outputs": [
    {
     "name": "stdout",
     "output_type": "stream",
     "text": [
      "Epoch 0, Loss 0.2331\n",
      "Training Accuracy: 0.7350, Testing Accuracy: 0.7591\n",
      "\n"
     ]
    },
    {
     "name": "stdout",
     "output_type": "stream",
     "text": [
      "Epoch 10, Loss 0.1012\n",
      "Training Accuracy: 0.9142, Testing Accuracy: 0.9189\n",
      "\n"
     ]
    },
    {
     "name": "stdout",
     "output_type": "stream",
     "text": [
      "Epoch 20, Loss 0.0784\n",
      "Training Accuracy: 0.9308, Testing Accuracy: 0.9355\n",
      "\n"
     ]
    },
    {
     "name": "stdout",
     "output_type": "stream",
     "text": [
      "Epoch 30, Loss 0.0677\n",
      "Training Accuracy: 0.9386, Testing Accuracy: 0.9466\n",
      "\n"
     ]
    },
    {
     "name": "stdout",
     "output_type": "stream",
     "text": [
      "Epoch 40, Loss 0.0613\n",
      "Training Accuracy: 0.9444, Testing Accuracy: 0.9496\n",
      "\n"
     ]
    },
    {
     "name": "stdout",
     "output_type": "stream",
     "text": [
      "Epoch 50, Loss 0.0568\n",
      "Training Accuracy: 0.9468, Testing Accuracy: 0.9531\n",
      "\n"
     ]
    },
    {
     "name": "stdout",
     "output_type": "stream",
     "text": [
      "Epoch 60, Loss 0.0536\n",
      "Training Accuracy: 0.9491, Testing Accuracy: 0.9551\n",
      "\n"
     ]
    },
    {
     "name": "stdout",
     "output_type": "stream",
     "text": [
      "Epoch 70, Loss 0.051\n",
      "Training Accuracy: 0.9510, Testing Accuracy: 0.9582\n",
      "\n"
     ]
    },
    {
     "name": "stdout",
     "output_type": "stream",
     "text": [
      "Epoch 80, Loss 0.049\n",
      "Training Accuracy: 0.9523, Testing Accuracy: 0.9592\n",
      "\n"
     ]
    },
    {
     "name": "stdout",
     "output_type": "stream",
     "text": [
      "Epoch 90, Loss 0.0473\n",
      "Training Accuracy: 0.9532, Testing Accuracy: 0.9607\n",
      "\n"
     ]
    },
    {
     "name": "stdout",
     "output_type": "stream",
     "text": [
      "Epoch 100, Loss 0.0459\n",
      "Training Accuracy: 0.9543, Testing Accuracy: 0.9617\n",
      "\n"
     ]
    },
    {
     "name": "stdout",
     "output_type": "stream",
     "text": [
      "Epoch 110, Loss 0.0447\n",
      "Training Accuracy: 0.9548, Testing Accuracy: 0.9627\n",
      "\n"
     ]
    },
    {
     "name": "stdout",
     "output_type": "stream",
     "text": [
      "Epoch 120, Loss 0.0437\n",
      "Training Accuracy: 0.9555, Testing Accuracy: 0.9632\n",
      "\n"
     ]
    },
    {
     "name": "stdout",
     "output_type": "stream",
     "text": [
      "Epoch 130, Loss 0.0427\n",
      "Training Accuracy: 0.9563, Testing Accuracy: 0.9637\n",
      "\n"
     ]
    },
    {
     "name": "stdout",
     "output_type": "stream",
     "text": [
      "Epoch 140, Loss 0.0419\n",
      "Training Accuracy: 0.9571, Testing Accuracy: 0.9642\n",
      "\n"
     ]
    },
    {
     "name": "stdout",
     "output_type": "stream",
     "text": [
      "Epoch 150, Loss 0.0412\n",
      "Training Accuracy: 0.9584, Testing Accuracy: 0.9642\n",
      "\n"
     ]
    },
    {
     "name": "stdout",
     "output_type": "stream",
     "text": [
      "Epoch 160, Loss 0.0405\n",
      "Training Accuracy: 0.9588, Testing Accuracy: 0.9642\n",
      "\n"
     ]
    },
    {
     "name": "stdout",
     "output_type": "stream",
     "text": [
      "Epoch 170, Loss 0.0399\n",
      "Training Accuracy: 0.9593, Testing Accuracy: 0.9652\n",
      "\n"
     ]
    },
    {
     "name": "stdout",
     "output_type": "stream",
     "text": [
      "Epoch 180, Loss 0.0393\n",
      "Training Accuracy: 0.9599, Testing Accuracy: 0.9647\n",
      "\n"
     ]
    },
    {
     "name": "stdout",
     "output_type": "stream",
     "text": [
      "Epoch 190, Loss 0.0388\n",
      "Training Accuracy: 0.9602, Testing Accuracy: 0.9647\n",
      "\n"
     ]
    },
    {
     "name": "stdout",
     "output_type": "stream",
     "text": [
      "Epoch 200, Loss 0.0384\n",
      "Training Accuracy: 0.9606, Testing Accuracy: 0.9647\n",
      "\n"
     ]
    },
    {
     "name": "stdout",
     "output_type": "stream",
     "text": [
      "Epoch 210, Loss 0.0379\n",
      "Training Accuracy: 0.9609, Testing Accuracy: 0.9647\n",
      "\n"
     ]
    },
    {
     "name": "stdout",
     "output_type": "stream",
     "text": [
      "Epoch 220, Loss 0.0375\n",
      "Training Accuracy: 0.9610, Testing Accuracy: 0.9647\n",
      "\n"
     ]
    },
    {
     "name": "stdout",
     "output_type": "stream",
     "text": [
      "Epoch 230, Loss 0.0371\n",
      "Training Accuracy: 0.9613, Testing Accuracy: 0.9647\n",
      "\n"
     ]
    },
    {
     "name": "stdout",
     "output_type": "stream",
     "text": [
      "Epoch 240, Loss 0.0368\n",
      "Training Accuracy: 0.9614, Testing Accuracy: 0.9652\n",
      "\n"
     ]
    },
    {
     "data": {
      "text/plain": [
       "0.032703320395900015"
      ]
     },
     "execution_count": 23,
     "metadata": {},
     "output_type": "execute_result"
    }
   ],
   "source": [
    "lr_learner.train_loop(dl)"
   ]
  },
  {
   "cell_type": "code",
   "execution_count": 24,
   "id": "ca410940",
   "metadata": {
    "execution": {
     "iopub.execute_input": "2021-11-23T10:10:49.407232Z",
     "iopub.status.busy": "2021-11-23T10:10:49.406515Z",
     "iopub.status.idle": "2021-11-23T10:10:49.699837Z",
     "shell.execute_reply": "2021-11-23T10:10:49.700301Z"
    },
    "papermill": {
     "duration": 0.353318,
     "end_time": "2021-11-23T10:10:49.700498",
     "exception": false,
     "start_time": "2021-11-23T10:10:49.347180",
     "status": "completed"
    },
    "tags": []
   },
   "outputs": [
    {
     "data": {
      "text/plain": [
       "<matplotlib.legend.Legend at 0x7fdf020f6908>"
      ]
     },
     "execution_count": 24,
     "metadata": {},
     "output_type": "execute_result"
    },
    {
     "data": {
      "image/png": "[encoded data removed]",
      "text/plain": [
       "<Figure size 1080x720 with 1 Axes>"
      ]
     },
     "metadata": {
      "needs_background": "light"
     },
     "output_type": "display_data"
    }
   ],
   "source": [
    "#comparing the results of NN and LR\n",
    "plt.figure(figsize=(15,10))\n",
    "\n",
    "# Neural Network plots\n",
    "plt.plot(acc_nn.accuracies, 'r-', label = \"Training Accuracies - NN\")\n",
    "plt.plot(acc_nn.test_accuracies, 'g-', label = \"Testing Accuracies - NN\")\n",
    "\n",
    "# Logistic Regression plots\n",
    "plt.plot(acc_lr.accuracies, 'k-', label = \"Training Accuracies - LR\")\n",
    "plt.plot(acc_lr.test_accuracies, 'b-', label = \"Testing Accuracies - LR\")\n",
    "plt.legend()"
   ]
  },
  {
   "cell_type": "markdown",
   "id": "80dfb35c",
   "metadata": {
    "papermill": {
     "duration": 0.050197,
     "end_time": "2021-11-23T10:10:49.802754",
     "exception": false,
     "start_time": "2021-11-23T10:10:49.752557",
     "status": "completed"
    },
    "tags": []
   },
   "source": [
    "#### Plotting the outputs of this layer of the NN.\n"
   ]
  },
  {
   "cell_type": "code",
   "execution_count": 25,
   "id": "45eb2ff5",
   "metadata": {
    "execution": {
     "iopub.execute_input": "2021-11-23T10:10:49.915646Z",
     "iopub.status.busy": "2021-11-23T10:10:49.910494Z",
     "iopub.status.idle": "2021-11-23T10:10:49.938708Z",
     "shell.execute_reply": "2021-11-23T10:10:49.939255Z"
    },
    "papermill": {
     "duration": 0.085748,
     "end_time": "2021-11-23T10:10:49.939422",
     "exception": false,
     "start_time": "2021-11-23T10:10:49.853674",
     "status": "completed"
    },
    "tags": []
   },
   "outputs": [],
   "source": [
    "new_model = Model(layers[:-2])\n",
    "testing_plot = new_model(testing_data_x)"
   ]
  },
  {
   "cell_type": "code",
   "execution_count": 26,
   "id": "4c0a5485",
   "metadata": {
    "execution": {
     "iopub.execute_input": "2021-11-23T10:10:50.055999Z",
     "iopub.status.busy": "2021-11-23T10:10:50.055289Z",
     "iopub.status.idle": "2021-11-23T10:10:50.296000Z",
     "shell.execute_reply": "2021-11-23T10:10:50.296880Z"
    },
    "papermill": {
     "duration": 0.304049,
     "end_time": "2021-11-23T10:10:50.297372",
     "exception": false,
     "start_time": "2021-11-23T10:10:49.993323",
     "status": "completed"
    },
    "tags": []
   },
   "outputs": [
    {
     "data": {
      "text/plain": [
       "Text(0.5, 1.0, 'Outputs')"
      ]
     },
     "execution_count": 26,
     "metadata": {},
     "output_type": "execute_result"
    },
    {
     "data": {
      "image/png": "[encoded data removed]",
      "text/plain": [
       "<Figure size 576x504 with 1 Axes>"
      ]
     },
     "metadata": {
      "needs_background": "light"
     },
     "output_type": "display_data"
    }
   ],
   "source": [
    "# Plotting the scatter plot of points and color coding by class\n",
    "plt.figure(figsize=(8,7))\n",
    "plt.scatter(testing_plot[:,0], testing_plot[:,1], alpha = 0.1, c = y_test.ravel());\n",
    "plt.title('Outputs')"
   ]
  },
  {
   "cell_type": "markdown",
   "id": "a74fcf8f",
   "metadata": {
    "papermill": {
     "duration": 0.052865,
     "end_time": "2021-11-23T10:10:50.402818",
     "exception": false,
     "start_time": "2021-11-23T10:10:50.349953",
     "status": "completed"
    },
    "tags": []
   },
   "source": [
    "Probability contours"
   ]
  },
  {
   "cell_type": "code",
   "execution_count": 27,
   "id": "d0afc8e3",
   "metadata": {
    "execution": {
     "iopub.execute_input": "2021-11-23T10:10:50.555385Z",
     "iopub.status.busy": "2021-11-23T10:10:50.554520Z",
     "iopub.status.idle": "2021-11-23T10:10:50.558181Z",
     "shell.execute_reply": "2021-11-23T10:10:50.557359Z"
    },
    "papermill": {
     "duration": 0.07776,
     "end_time": "2021-11-23T10:10:50.558309",
     "exception": false,
     "start_time": "2021-11-23T10:10:50.480549",
     "status": "completed"
    },
    "tags": []
   },
   "outputs": [],
   "source": [
    "model_prob = Model(layers[-2:]) "
   ]
  },
  {
   "cell_type": "code",
   "execution_count": 28,
   "id": "9b96e238",
   "metadata": {
    "execution": {
     "iopub.execute_input": "2021-11-23T10:10:50.677494Z",
     "iopub.status.busy": "2021-11-23T10:10:50.666910Z",
     "iopub.status.idle": "2021-11-23T10:10:50.684379Z",
     "shell.execute_reply": "2021-11-23T10:10:50.683706Z"
    },
    "papermill": {
     "duration": 0.07417,
     "end_time": "2021-11-23T10:10:50.684497",
     "exception": false,
     "start_time": "2021-11-23T10:10:50.610327",
     "status": "completed"
    },
    "tags": []
   },
   "outputs": [],
   "source": [
    "#creating the x and y ranges according to the above generated plot.\n",
    "x_range = np.linspace(-4, 1, 100) \n",
    "y_range = np.linspace(-6, 6, 100) \n",
    "x_grid, y_grid = np.meshgrid(x_range, y_range) # x_grid and y_grig are of size 100 X 100\n",
    "\n",
    "# converting x_grid and y_grid to continuous arrays\n",
    "x_gridflat = np.ravel(x_grid)\n",
    "y_gridflat = np.ravel(y_grid)\n",
    "\n",
    "# The last layer of the current model takes two columns as input. Hence transpose of np.vstack() is required.\n",
    "X = np.vstack((x_gridflat, y_gridflat)).T\n",
    "\n",
    "prob_contour = model_prob(X).reshape(100,100) "
   ]
  },
  {
   "cell_type": "code",
   "execution_count": 29,
   "id": "da72499a",
   "metadata": {
    "execution": {
     "iopub.execute_input": "2021-11-23T10:10:50.802939Z",
     "iopub.status.busy": "2021-11-23T10:10:50.802277Z",
     "iopub.status.idle": "2021-11-23T10:10:51.113421Z",
     "shell.execute_reply": "2021-11-23T10:10:51.113978Z"
    },
    "papermill": {
     "duration": 0.372982,
     "end_time": "2021-11-23T10:10:51.114146",
     "exception": false,
     "start_time": "2021-11-23T10:10:50.741164",
     "status": "completed"
    },
    "tags": []
   },
   "outputs": [
    {
     "data": {
      "image/png": "[encoded data removed]",
      "text/plain": [
       "<Figure size 720x648 with 1 Axes>"
      ]
     },
     "metadata": {
      "needs_background": "light"
     },
     "output_type": "display_data"
    }
   ],
   "source": [
    "plt.figure(figsize=(10,9))\n",
    "plt.scatter(testing_plot[:,0], testing_plot[:,1], alpha = 0.1, c = y_test.ravel())\n",
    "contours = plt.contour(x_grid,y_grid,prob_contour)\n",
    "plt.title('Probability Contours')\n",
    "plt.clabel(contours, inline = True );"
   ]
  },
  {
   "cell_type": "code",
   "execution_count": null,
   "id": "e81b4ac7",
   "metadata": {
    "papermill": {
     "duration": 0.05417,
     "end_time": "2021-11-23T10:10:51.226486",
     "exception": false,
     "start_time": "2021-11-23T10:10:51.172316",
     "status": "completed"
    },
    "tags": []
   },
   "outputs": [],
   "source": []
  }
 ],
 "metadata": {
  "kernelspec": {
   "display_name": "Python 3",
   "language": "python",
   "name": "python3"
  },
  "language_info": {
   "codemirror_mode": {
    "name": "ipython",
    "version": 3
   },
   "file_extension": ".py",
   "mimetype": "text/x-python",
   "name": "python",
   "nbconvert_exporter": "python",
   "pygments_lexer": "ipython3",
   "version": "3.6.15"
  },
  "papermill": {
   "default_parameters": {},
   "duration": 154.524839,
   "end_time": "2021-11-23T10:10:51.691462",
   "environment_variables": {},
   "exception": null,
   "input_path": "2020-08-11-part2.ipynb",
   "output_path": "2020-08-11-part2.ipynb",
   "parameters": {},
   "start_time": "2021-11-23T10:08:17.166623",
   "version": "2.3.3"
  }
 },
 "nbformat": 4,
 "nbformat_minor": 5
}