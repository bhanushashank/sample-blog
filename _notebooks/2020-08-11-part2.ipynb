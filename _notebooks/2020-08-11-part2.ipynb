{
 "cells": [
  {
   "cell_type": "markdown",
   "id": "98380cd3",
   "metadata": {
    "papermill": {
     "duration": 0.036518,
     "end_time": "2021-10-16T20:08:16.926510",
     "exception": false,
     "start_time": "2021-10-16T20:08:16.889992",
     "status": "completed"
    },
    "tags": []
   },
   "source": [
    "# Distinguish Your Own Digits (DYOD)"
   ]
  },
  {
   "cell_type": "markdown",
   "id": "ef31240d",
   "metadata": {
    "papermill": {
     "duration": 0.029522,
     "end_time": "2021-10-16T20:08:16.987285",
     "exception": false,
     "start_time": "2021-10-16T20:08:16.957763",
     "status": "completed"
    },
    "tags": []
   },
   "source": [
    "You are going to write a classifier that distinguishes between the number 3 and number 8."
   ]
  },
  {
   "cell_type": "code",
   "execution_count": 1,
   "id": "b15c8646",
   "metadata": {
    "execution": {
     "iopub.execute_input": "2021-10-16T20:08:17.062784Z",
     "iopub.status.busy": "2021-10-16T20:08:17.062095Z",
     "iopub.status.idle": "2021-10-16T20:08:17.073358Z",
     "shell.execute_reply": "2021-10-16T20:08:17.074031Z"
    },
    "papermill": {
     "duration": 0.054989,
     "end_time": "2021-10-16T20:08:17.074211",
     "exception": false,
     "start_time": "2021-10-16T20:08:17.019222",
     "status": "completed"
    },
    "tags": []
   },
   "outputs": [],
   "source": [
    "%load_ext autoreload\n",
    "%autoreload 2"
   ]
  },
  {
   "cell_type": "code",
   "execution_count": 2,
   "id": "22ef38dc",
   "metadata": {
    "execution": {
     "iopub.execute_input": "2021-10-16T20:08:17.145100Z",
     "iopub.status.busy": "2021-10-16T20:08:17.144413Z",
     "iopub.status.idle": "2021-10-16T20:08:17.748062Z",
     "shell.execute_reply": "2021-10-16T20:08:17.747425Z"
    },
    "papermill": {
     "duration": 0.642776,
     "end_time": "2021-10-16T20:08:17.748226",
     "exception": false,
     "start_time": "2021-10-16T20:08:17.105450",
     "status": "completed"
    },
    "tags": []
   },
   "outputs": [],
   "source": [
    "%matplotlib inline\n",
    "import numpy as np\n",
    "import matplotlib.pyplot as plt\n",
    "import pandas as pd"
   ]
  },
  {
   "cell_type": "markdown",
   "id": "ba036198",
   "metadata": {
    "papermill": {
     "duration": 0.029893,
     "end_time": "2021-10-16T20:08:17.808513",
     "exception": false,
     "start_time": "2021-10-16T20:08:17.778620",
     "status": "completed"
    },
    "tags": []
   },
   "source": [
    "From the command line run `pip install mnist`. This is a library that will help you bring down the mnist dataset. If you run this from a notebook, you need to put  `!pip install mnist` in a cell by itself."
   ]
  },
  {
   "cell_type": "code",
   "execution_count": 3,
   "id": "bb6ad8a1",
   "metadata": {
    "execution": {
     "iopub.execute_input": "2021-10-16T20:08:17.897681Z",
     "iopub.status.busy": "2021-10-16T20:08:17.886872Z",
     "iopub.status.idle": "2021-10-16T20:08:20.620483Z",
     "shell.execute_reply": "2021-10-16T20:08:20.621018Z"
    },
    "papermill": {
     "duration": 2.781533,
     "end_time": "2021-10-16T20:08:20.621181",
     "exception": false,
     "start_time": "2021-10-16T20:08:17.839648",
     "status": "completed"
    },
    "tags": []
   },
   "outputs": [
    {
     "name": "stdout",
     "output_type": "stream",
     "text": [
      "Collecting mnist\r\n"
     ]
    },
    {
     "name": "stdout",
     "output_type": "stream",
     "text": [
      "  Downloading mnist-0.2.2-py2.py3-none-any.whl (3.5 kB)\r\n",
      "Requirement already satisfied: numpy in /opt/hostedtoolcache/Python/3.6.15/x64/lib/python3.6/site-packages (from mnist) (1.19.5)\r\n"
     ]
    },
    {
     "name": "stdout",
     "output_type": "stream",
     "text": [
      "Installing collected packages: mnist\r\n"
     ]
    },
    {
     "name": "stdout",
     "output_type": "stream",
     "text": [
      "Successfully installed mnist-0.2.2\r\n"
     ]
    },
    {
     "name": "stdout",
     "output_type": "stream",
     "text": [
      "\u001b[33mWARNING: You are using pip version 21.2.4; however, version 21.3 is available.\r\n",
      "You should consider upgrading via the '/opt/hostedtoolcache/Python/3.6.15/x64/bin/python -m pip install --upgrade pip' command.\u001b[0m\r\n"
     ]
    }
   ],
   "source": [
    "!pip install mnist"
   ]
  },
  {
   "cell_type": "markdown",
   "id": "69df9c9a",
   "metadata": {
    "papermill": {
     "duration": 0.030036,
     "end_time": "2021-10-16T20:08:20.684804",
     "exception": false,
     "start_time": "2021-10-16T20:08:20.654768",
     "status": "completed"
    },
    "tags": []
   },
   "source": [
    "## Preparing the Data"
   ]
  },
  {
   "cell_type": "code",
   "execution_count": 4,
   "id": "7f69d806",
   "metadata": {
    "execution": {
     "iopub.execute_input": "2021-10-16T20:08:20.757054Z",
     "iopub.status.busy": "2021-10-16T20:08:20.756080Z",
     "iopub.status.idle": "2021-10-16T20:08:20.771956Z",
     "shell.execute_reply": "2021-10-16T20:08:20.771412Z"
    },
    "papermill": {
     "duration": 0.055835,
     "end_time": "2021-10-16T20:08:20.772080",
     "exception": false,
     "start_time": "2021-10-16T20:08:20.716245",
     "status": "completed"
    },
    "tags": []
   },
   "outputs": [],
   "source": [
    "import mnist"
   ]
  },
  {
   "cell_type": "code",
   "execution_count": 5,
   "id": "a411e44f",
   "metadata": {
    "execution": {
     "iopub.execute_input": "2021-10-16T20:08:20.837221Z",
     "iopub.status.busy": "2021-10-16T20:08:20.836468Z",
     "iopub.status.idle": "2021-10-16T20:08:21.447768Z",
     "shell.execute_reply": "2021-10-16T20:08:21.447192Z"
    },
    "papermill": {
     "duration": 0.645789,
     "end_time": "2021-10-16T20:08:21.447922",
     "exception": false,
     "start_time": "2021-10-16T20:08:20.802133",
     "status": "completed"
    },
    "tags": []
   },
   "outputs": [],
   "source": [
    "train_images = mnist.train_images()\n",
    "train_labels = mnist.train_labels()"
   ]
  },
  {
   "cell_type": "code",
   "execution_count": 6,
   "id": "dceab3a5",
   "metadata": {
    "execution": {
     "iopub.execute_input": "2021-10-16T20:08:21.519112Z",
     "iopub.status.busy": "2021-10-16T20:08:21.518420Z",
     "iopub.status.idle": "2021-10-16T20:08:21.534551Z",
     "shell.execute_reply": "2021-10-16T20:08:21.533983Z"
    },
    "papermill": {
     "duration": 0.053275,
     "end_time": "2021-10-16T20:08:21.534694",
     "exception": false,
     "start_time": "2021-10-16T20:08:21.481419",
     "status": "completed"
    },
    "tags": []
   },
   "outputs": [
    {
     "data": {
      "text/plain": [
       "((60000, 28, 28), (60000,))"
      ]
     },
     "execution_count": 6,
     "metadata": {},
     "output_type": "execute_result"
    }
   ],
   "source": [
    "train_images.shape, train_labels.shape"
   ]
  },
  {
   "cell_type": "code",
   "execution_count": 7,
   "id": "f50dc2bb",
   "metadata": {
    "execution": {
     "iopub.execute_input": "2021-10-16T20:08:21.607099Z",
     "iopub.status.busy": "2021-10-16T20:08:21.606403Z",
     "iopub.status.idle": "2021-10-16T20:08:21.768404Z",
     "shell.execute_reply": "2021-10-16T20:08:21.767834Z"
    },
    "papermill": {
     "duration": 0.199678,
     "end_time": "2021-10-16T20:08:21.768556",
     "exception": false,
     "start_time": "2021-10-16T20:08:21.568878",
     "status": "completed"
    },
    "tags": []
   },
   "outputs": [],
   "source": [
    "test_images = mnist.test_images()\n",
    "test_labels = mnist.test_labels()"
   ]
  },
  {
   "cell_type": "code",
   "execution_count": 8,
   "id": "fc38cf1b",
   "metadata": {
    "execution": {
     "iopub.execute_input": "2021-10-16T20:08:21.838801Z",
     "iopub.status.busy": "2021-10-16T20:08:21.838001Z",
     "iopub.status.idle": "2021-10-16T20:08:21.853382Z",
     "shell.execute_reply": "2021-10-16T20:08:21.852843Z"
    },
    "papermill": {
     "duration": 0.052191,
     "end_time": "2021-10-16T20:08:21.853536",
     "exception": false,
     "start_time": "2021-10-16T20:08:21.801345",
     "status": "completed"
    },
    "tags": []
   },
   "outputs": [
    {
     "data": {
      "text/plain": [
       "((10000, 28, 28), (10000,))"
      ]
     },
     "execution_count": 8,
     "metadata": {},
     "output_type": "execute_result"
    }
   ],
   "source": [
    "test_images.shape, test_labels.shape"
   ]
  },
  {
   "cell_type": "code",
   "execution_count": 9,
   "id": "f9ed8fe0",
   "metadata": {
    "execution": {
     "iopub.execute_input": "2021-10-16T20:08:21.925238Z",
     "iopub.status.busy": "2021-10-16T20:08:21.924570Z",
     "iopub.status.idle": "2021-10-16T20:08:22.105180Z",
     "shell.execute_reply": "2021-10-16T20:08:22.105720Z"
    },
    "papermill": {
     "duration": 0.21952,
     "end_time": "2021-10-16T20:08:22.105886",
     "exception": false,
     "start_time": "2021-10-16T20:08:21.886366",
     "status": "completed"
    },
    "tags": []
   },
   "outputs": [
    {
     "name": "stdout",
     "output_type": "stream",
     "text": [
      "2\n"
     ]
    },
    {
     "data": {
      "text/plain": [
       "<matplotlib.image.AxesImage at 0x7f25de78f908>"
      ]
     },
     "execution_count": 9,
     "metadata": {},
     "output_type": "execute_result"
    },
    {
     "data": {
      "image/png": "[encoded data removed]",
      "text/plain": [
       "<Figure size 432x288 with 1 Axes>"
      ]
     },
     "metadata": {
      "needs_background": "light"
     },
     "output_type": "display_data"
    }
   ],
   "source": [
    "image_index = 7776 # You may select anything up to 60,000\n",
    "print(train_labels[image_index]) \n",
    "plt.imshow(train_images[image_index], cmap='Greys')"
   ]
  },
  {
   "cell_type": "markdown",
   "id": "a8d2388d",
   "metadata": {
    "papermill": {
     "duration": 0.03516,
     "end_time": "2021-10-16T20:08:22.176032",
     "exception": false,
     "start_time": "2021-10-16T20:08:22.140872",
     "status": "completed"
    },
    "tags": []
   },
   "source": [
    "## Filter data to get 3 and 8 out"
   ]
  },
  {
   "cell_type": "code",
   "execution_count": 10,
   "id": "776f7fc7",
   "metadata": {
    "execution": {
     "iopub.execute_input": "2021-10-16T20:08:22.250664Z",
     "iopub.status.busy": "2021-10-16T20:08:22.250008Z",
     "iopub.status.idle": "2021-10-16T20:08:22.272401Z",
     "shell.execute_reply": "2021-10-16T20:08:22.271788Z"
    },
    "papermill": {
     "duration": 0.060935,
     "end_time": "2021-10-16T20:08:22.272553",
     "exception": false,
     "start_time": "2021-10-16T20:08:22.211618",
     "status": "completed"
    },
    "tags": []
   },
   "outputs": [],
   "source": [
    "train_filter = np.where((train_labels == 3 ) | (train_labels == 8))\n",
    "test_filter = np.where((test_labels == 3) | (test_labels == 8))\n",
    "X_train, y_train = train_images[train_filter], train_labels[train_filter]\n",
    "X_test, y_test = test_images[test_filter], test_labels[test_filter]"
   ]
  },
  {
   "cell_type": "markdown",
   "id": "948f0b7e",
   "metadata": {
    "papermill": {
     "duration": 0.035561,
     "end_time": "2021-10-16T20:08:22.343580",
     "exception": false,
     "start_time": "2021-10-16T20:08:22.308019",
     "status": "completed"
    },
    "tags": []
   },
   "source": [
    "We normalize the pizel values in the 0 to 1 range"
   ]
  },
  {
   "cell_type": "code",
   "execution_count": 11,
   "id": "ee4c2166",
   "metadata": {
    "execution": {
     "iopub.execute_input": "2021-10-16T20:08:22.420655Z",
     "iopub.status.busy": "2021-10-16T20:08:22.419997Z",
     "iopub.status.idle": "2021-10-16T20:08:22.483594Z",
     "shell.execute_reply": "2021-10-16T20:08:22.483016Z"
    },
    "papermill": {
     "duration": 0.103796,
     "end_time": "2021-10-16T20:08:22.483743",
     "exception": false,
     "start_time": "2021-10-16T20:08:22.379947",
     "status": "completed"
    },
    "tags": []
   },
   "outputs": [],
   "source": [
    "X_train = X_train/255.\n",
    "X_test = X_test/255."
   ]
  },
  {
   "cell_type": "markdown",
   "id": "ddcf4fab",
   "metadata": {
    "papermill": {
     "duration": 0.032982,
     "end_time": "2021-10-16T20:08:22.551837",
     "exception": false,
     "start_time": "2021-10-16T20:08:22.518855",
     "status": "completed"
    },
    "tags": []
   },
   "source": [
    "And setup the labels as 1 (when the digit is 3) and 0 (when the digit is 8)"
   ]
  },
  {
   "cell_type": "code",
   "execution_count": 12,
   "id": "7dc908f2",
   "metadata": {
    "execution": {
     "iopub.execute_input": "2021-10-16T20:08:22.636981Z",
     "iopub.status.busy": "2021-10-16T20:08:22.628367Z",
     "iopub.status.idle": "2021-10-16T20:08:22.639241Z",
     "shell.execute_reply": "2021-10-16T20:08:22.639722Z"
    },
    "papermill": {
     "duration": 0.0539,
     "end_time": "2021-10-16T20:08:22.639863",
     "exception": false,
     "start_time": "2021-10-16T20:08:22.585963",
     "status": "completed"
    },
    "tags": []
   },
   "outputs": [],
   "source": [
    "y_train = 1*(y_train==3)\n",
    "y_test = 1*(y_test==3)"
   ]
  },
  {
   "cell_type": "code",
   "execution_count": 13,
   "id": "01e4e969",
   "metadata": {
    "execution": {
     "iopub.execute_input": "2021-10-16T20:08:22.724311Z",
     "iopub.status.busy": "2021-10-16T20:08:22.716952Z",
     "iopub.status.idle": "2021-10-16T20:08:22.730846Z",
     "shell.execute_reply": "2021-10-16T20:08:22.730260Z"
    },
    "papermill": {
     "duration": 0.057596,
     "end_time": "2021-10-16T20:08:22.730986",
     "exception": false,
     "start_time": "2021-10-16T20:08:22.673390",
     "status": "completed"
    },
    "tags": []
   },
   "outputs": [
    {
     "data": {
      "text/plain": [
       "((11982, 28, 28), (1984, 28, 28))"
      ]
     },
     "execution_count": 13,
     "metadata": {},
     "output_type": "execute_result"
    }
   ],
   "source": [
    "X_train.shape, X_test.shape"
   ]
  },
  {
   "cell_type": "markdown",
   "id": "5ccf3f85",
   "metadata": {
    "papermill": {
     "duration": 0.036392,
     "end_time": "2021-10-16T20:08:22.803389",
     "exception": false,
     "start_time": "2021-10-16T20:08:22.766997",
     "status": "completed"
    },
    "tags": []
   },
   "source": [
    "We reshape the data to flatten the image pixels into a set of features or co-variates:"
   ]
  },
  {
   "cell_type": "code",
   "execution_count": 14,
   "id": "5286a4a3",
   "metadata": {
    "execution": {
     "iopub.execute_input": "2021-10-16T20:08:22.880232Z",
     "iopub.status.busy": "2021-10-16T20:08:22.879552Z",
     "iopub.status.idle": "2021-10-16T20:08:22.893147Z",
     "shell.execute_reply": "2021-10-16T20:08:22.893675Z"
    },
    "papermill": {
     "duration": 0.054779,
     "end_time": "2021-10-16T20:08:22.893856",
     "exception": false,
     "start_time": "2021-10-16T20:08:22.839077",
     "status": "completed"
    },
    "tags": []
   },
   "outputs": [
    {
     "data": {
      "text/plain": [
       "((11982, 784), (1984, 784))"
      ]
     },
     "execution_count": 14,
     "metadata": {},
     "output_type": "execute_result"
    }
   ],
   "source": [
    "X_train = X_train.reshape(X_train.shape[0], -1)\n",
    "X_test = X_test.reshape(X_test.shape[0], -1)\n",
    "X_train.shape, X_test.shape"
   ]
  },
  {
   "cell_type": "code",
   "execution_count": 15,
   "id": "73c5f88a",
   "metadata": {
    "execution": {
     "iopub.execute_input": "2021-10-16T20:08:22.972451Z",
     "iopub.status.busy": "2021-10-16T20:08:22.971767Z",
     "iopub.status.idle": "2021-10-16T20:08:22.991999Z",
     "shell.execute_reply": "2021-10-16T20:08:22.991402Z"
    },
    "papermill": {
     "duration": 0.063667,
     "end_time": "2021-10-16T20:08:22.992153",
     "exception": false,
     "start_time": "2021-10-16T20:08:22.928486",
     "status": "completed"
    },
    "tags": []
   },
   "outputs": [],
   "source": [
    "#Impoting functions from 'Kudzu'\n",
    "from kudzu.model import Model\n",
    "from kudzu.train import Learner\n",
    "from kudzu.optim import GD\n",
    "from kudzu.data import Data, Sampler,Dataloader\n",
    "\n",
    "from kudzu.callbacks import AccCallback\n",
    "from kudzu.callbacks import ClfCallback\n",
    "\n",
    "from kudzu.loss import MSE\n",
    "\n",
    "from kudzu.layer import Sigmoid,Relu\n",
    "from kudzu.layer import Affine"
   ]
  },
  {
   "cell_type": "markdown",
   "id": "bc01172a",
   "metadata": {
    "papermill": {
     "duration": 0.034415,
     "end_time": "2021-10-16T20:08:23.062888",
     "exception": false,
     "start_time": "2021-10-16T20:08:23.028473",
     "status": "completed"
    },
    "tags": []
   },
   "source": [
    "### Let us create a `Config` class, to store important parameters. \n",
    "This class essentially plays the role of a dictionary."
   ]
  },
  {
   "cell_type": "code",
   "execution_count": 16,
   "id": "978281aa",
   "metadata": {
    "execution": {
     "iopub.execute_input": "2021-10-16T20:08:23.152531Z",
     "iopub.status.busy": "2021-10-16T20:08:23.151857Z",
     "iopub.status.idle": "2021-10-16T20:08:23.158308Z",
     "shell.execute_reply": "2021-10-16T20:08:23.157352Z"
    },
    "papermill": {
     "duration": 0.060316,
     "end_time": "2021-10-16T20:08:23.158455",
     "exception": false,
     "start_time": "2021-10-16T20:08:23.098139",
     "status": "completed"
    },
    "tags": []
   },
   "outputs": [],
   "source": [
    "class Config:\n",
    "    pass\n",
    "config = Config()\n",
    "config.lr = 0.001\n",
    "config.num_epochs = 250\n",
    "config.bs = 50"
   ]
  },
  {
   "cell_type": "markdown",
   "id": "1385fa59",
   "metadata": {
    "papermill": {
     "duration": 0.035613,
     "end_time": "2021-10-16T20:08:23.229807",
     "exception": false,
     "start_time": "2021-10-16T20:08:23.194194",
     "status": "completed"
    },
    "tags": []
   },
   "source": [
    "### Running Models with the Training data\n",
    "Details about the network layers:\n",
    "- A first affine layer has 784 inputs and does 100 affine transforms. These are followed by a Relu\n",
    "- A second affine layer has 100 inputs from the 100 activations of the past layer, and does 100 affine transforms. These are followed by a Relu\n",
    "- A third affine layer has 100 activations and does 2 affine transformations to create an embedding for visualization. There is no non-linearity here.\n",
    "- A final \"logistic regression\" which has an affine transform from 2 inputs to 1 output, which is squeezed through a sigmoid.\n"
   ]
  },
  {
   "cell_type": "code",
   "execution_count": 17,
   "id": "2b9c66db",
   "metadata": {
    "execution": {
     "iopub.execute_input": "2021-10-16T20:08:23.309488Z",
     "iopub.status.busy": "2021-10-16T20:08:23.308808Z",
     "iopub.status.idle": "2021-10-16T20:08:23.319753Z",
     "shell.execute_reply": "2021-10-16T20:08:23.319219Z"
    },
    "papermill": {
     "duration": 0.055633,
     "end_time": "2021-10-16T20:08:23.319898",
     "exception": false,
     "start_time": "2021-10-16T20:08:23.264265",
     "status": "completed"
    },
    "tags": []
   },
   "outputs": [],
   "source": [
    "data = Data(X_train, y_train.reshape(-1,1))\n",
    "sampler = Sampler(data, config.bs, shuffle=True)\n",
    "\n",
    "dl = Dataloader(data, sampler)\n",
    "\n",
    "opt = GD(config.lr)\n",
    "loss = MSE()"
   ]
  },
  {
   "cell_type": "code",
   "execution_count": 18,
   "id": "b275e4c2",
   "metadata": {
    "execution": {
     "iopub.execute_input": "2021-10-16T20:08:23.408349Z",
     "iopub.status.busy": "2021-10-16T20:08:23.400893Z",
     "iopub.status.idle": "2021-10-16T20:08:23.410553Z",
     "shell.execute_reply": "2021-10-16T20:08:23.411238Z"
    },
    "papermill": {
     "duration": 0.05614,
     "end_time": "2021-10-16T20:08:23.411384",
     "exception": false,
     "start_time": "2021-10-16T20:08:23.355244",
     "status": "completed"
    },
    "tags": []
   },
   "outputs": [],
   "source": [
    "training_data_x = X_train\n",
    "testing_data_x = X_test\n",
    "training_data_y = y_train.reshape(-1,1)\n",
    "testing_data_y = y_test.reshape(-1,1)"
   ]
  },
  {
   "cell_type": "code",
   "execution_count": 19,
   "id": "76951160",
   "metadata": {
    "execution": {
     "iopub.execute_input": "2021-10-16T20:08:23.492718Z",
     "iopub.status.busy": "2021-10-16T20:08:23.492049Z",
     "iopub.status.idle": "2021-10-16T20:08:23.508718Z",
     "shell.execute_reply": "2021-10-16T20:08:23.509251Z"
    },
    "papermill": {
     "duration": 0.062354,
     "end_time": "2021-10-16T20:08:23.509439",
     "exception": false,
     "start_time": "2021-10-16T20:08:23.447085",
     "status": "completed"
    },
    "tags": []
   },
   "outputs": [
    {
     "name": "stdout",
     "output_type": "stream",
     "text": [
      "xavier\n",
      "xavier\n",
      "xavier\n",
      "xavier\n",
      "xavier\n"
     ]
    }
   ],
   "source": [
    "layers = [Affine(\"first\", 784, 100), Relu(\"first\"), Affine(\"second\", 100, 100), Relu(\"second\"), Affine(\"third\", 100, 2), Affine(\"last\", 2, 1), Sigmoid(\"last\")]\n",
    "model_nn = Model(layers)\n",
    "model_lr = Model([Affine(\"logits\", 784, 1), Sigmoid(\"sigmoid\")])"
   ]
  },
  {
   "cell_type": "code",
   "execution_count": 20,
   "id": "6eede77a",
   "metadata": {
    "execution": {
     "iopub.execute_input": "2021-10-16T20:08:23.593058Z",
     "iopub.status.busy": "2021-10-16T20:08:23.582847Z",
     "iopub.status.idle": "2021-10-16T20:08:23.599853Z",
     "shell.execute_reply": "2021-10-16T20:08:23.599302Z"
    },
    "papermill": {
     "duration": 0.055424,
     "end_time": "2021-10-16T20:08:23.600002",
     "exception": false,
     "start_time": "2021-10-16T20:08:23.544578",
     "status": "completed"
    },
    "tags": []
   },
   "outputs": [],
   "source": [
    "nn_learner = Learner(loss, model_nn, opt, config.num_epochs)\n",
    "acc_nn = ClfCallback(nn_learner, config.bs, training_data_x , testing_data_x, training_data_y, testing_data_y)\n",
    "nn_learner.set_callbacks([acc_nn])"
   ]
  },
  {
   "cell_type": "code",
   "execution_count": 21,
   "id": "877b6cc7",
   "metadata": {
    "execution": {
     "iopub.execute_input": "2021-10-16T20:08:23.688341Z",
     "iopub.status.busy": "2021-10-16T20:08:23.679574Z",
     "iopub.status.idle": "2021-10-16T20:08:23.691480Z",
     "shell.execute_reply": "2021-10-16T20:08:23.690945Z"
    },
    "papermill": {
     "duration": 0.057527,
     "end_time": "2021-10-16T20:08:23.693300",
     "exception": false,
     "start_time": "2021-10-16T20:08:23.635773",
     "status": "completed"
    },
    "tags": []
   },
   "outputs": [],
   "source": [
    "lr_learner = Learner(loss, model_lr, opt, config.num_epochs)\n",
    "acc_lr = ClfCallback(lr_learner, config.bs, training_data_x , testing_data_x, training_data_y, testing_data_y)\n",
    "lr_learner.set_callbacks([acc_lr])"
   ]
  },
  {
   "cell_type": "code",
   "execution_count": 22,
   "id": "d9b133c3",
   "metadata": {
    "execution": {
     "iopub.execute_input": "2021-10-16T20:08:23.773342Z",
     "iopub.status.busy": "2021-10-16T20:08:23.768873Z",
     "iopub.status.idle": "2021-10-16T20:10:32.339456Z",
     "shell.execute_reply": "2021-10-16T20:10:32.341971Z"
    },
    "papermill": {
     "duration": 128.613779,
     "end_time": "2021-10-16T20:10:32.342384",
     "exception": false,
     "start_time": "2021-10-16T20:08:23.728605",
     "status": "completed"
    },
    "tags": []
   },
   "outputs": [
    {
     "name": "stdout",
     "output_type": "stream",
     "text": [
      "Epoch 0, Loss 0.2419\n",
      "Training Accuracy: 0.6947, Testing Accuracy: 0.7288\n",
      "\n"
     ]
    },
    {
     "name": "stdout",
     "output_type": "stream",
     "text": [
      "Epoch 10, Loss 0.0972\n",
      "Training Accuracy: 0.9175, Testing Accuracy: 0.9304\n",
      "\n"
     ]
    },
    {
     "name": "stdout",
     "output_type": "stream",
     "text": [
      "Epoch 20, Loss 0.0587\n",
      "Training Accuracy: 0.9398, Testing Accuracy: 0.9501\n",
      "\n"
     ]
    },
    {
     "name": "stdout",
     "output_type": "stream",
     "text": [
      "Epoch 30, Loss 0.0456\n",
      "Training Accuracy: 0.9509, Testing Accuracy: 0.9587\n",
      "\n"
     ]
    },
    {
     "name": "stdout",
     "output_type": "stream",
     "text": [
      "Epoch 40, Loss 0.0391\n",
      "Training Accuracy: 0.9567, Testing Accuracy: 0.9637\n",
      "\n"
     ]
    },
    {
     "name": "stdout",
     "output_type": "stream",
     "text": [
      "Epoch 50, Loss 0.0351\n",
      "Training Accuracy: 0.9606, Testing Accuracy: 0.9667\n",
      "\n"
     ]
    },
    {
     "name": "stdout",
     "output_type": "stream",
     "text": [
      "Epoch 60, Loss 0.0324\n",
      "Training Accuracy: 0.9631, Testing Accuracy: 0.9677\n",
      "\n"
     ]
    },
    {
     "name": "stdout",
     "output_type": "stream",
     "text": [
      "Epoch 70, Loss 0.0303\n",
      "Training Accuracy: 0.9659, Testing Accuracy: 0.9698\n",
      "\n"
     ]
    },
    {
     "name": "stdout",
     "output_type": "stream",
     "text": [
      "Epoch 80, Loss 0.0287\n",
      "Training Accuracy: 0.9676, Testing Accuracy: 0.9708\n",
      "\n"
     ]
    },
    {
     "name": "stdout",
     "output_type": "stream",
     "text": [
      "Epoch 90, Loss 0.0273\n",
      "Training Accuracy: 0.9690, Testing Accuracy: 0.9728\n",
      "\n"
     ]
    },
    {
     "name": "stdout",
     "output_type": "stream",
     "text": [
      "Epoch 100, Loss 0.0261\n",
      "Training Accuracy: 0.9704, Testing Accuracy: 0.9723\n",
      "\n"
     ]
    },
    {
     "name": "stdout",
     "output_type": "stream",
     "text": [
      "Epoch 110, Loss 0.0251\n",
      "Training Accuracy: 0.9710, Testing Accuracy: 0.9733\n",
      "\n"
     ]
    },
    {
     "name": "stdout",
     "output_type": "stream",
     "text": [
      "Epoch 120, Loss 0.0242\n",
      "Training Accuracy: 0.9718, Testing Accuracy: 0.9738\n",
      "\n"
     ]
    },
    {
     "name": "stdout",
     "output_type": "stream",
     "text": [
      "Epoch 130, Loss 0.0234\n",
      "Training Accuracy: 0.9732, Testing Accuracy: 0.9743\n",
      "\n"
     ]
    },
    {
     "name": "stdout",
     "output_type": "stream",
     "text": [
      "Epoch 140, Loss 0.0227\n",
      "Training Accuracy: 0.9744, Testing Accuracy: 0.9748\n",
      "\n"
     ]
    },
    {
     "name": "stdout",
     "output_type": "stream",
     "text": [
      "Epoch 150, Loss 0.022\n",
      "Training Accuracy: 0.9753, Testing Accuracy: 0.9743\n",
      "\n"
     ]
    },
    {
     "name": "stdout",
     "output_type": "stream",
     "text": [
      "Epoch 160, Loss 0.0213\n",
      "Training Accuracy: 0.9759, Testing Accuracy: 0.9748\n",
      "\n"
     ]
    },
    {
     "name": "stdout",
     "output_type": "stream",
     "text": [
      "Epoch 170, Loss 0.0207\n",
      "Training Accuracy: 0.9765, Testing Accuracy: 0.9753\n",
      "\n"
     ]
    },
    {
     "name": "stdout",
     "output_type": "stream",
     "text": [
      "Epoch 180, Loss 0.0202\n",
      "Training Accuracy: 0.9770, Testing Accuracy: 0.9758\n",
      "\n"
     ]
    },
    {
     "name": "stdout",
     "output_type": "stream",
     "text": [
      "Epoch 190, Loss 0.0197\n",
      "Training Accuracy: 0.9776, Testing Accuracy: 0.9753\n",
      "\n"
     ]
    },
    {
     "name": "stdout",
     "output_type": "stream",
     "text": [
      "Epoch 200, Loss 0.0192\n",
      "Training Accuracy: 0.9786, Testing Accuracy: 0.9753\n",
      "\n"
     ]
    },
    {
     "name": "stdout",
     "output_type": "stream",
     "text": [
      "Epoch 210, Loss 0.0187\n",
      "Training Accuracy: 0.9791, Testing Accuracy: 0.9763\n",
      "\n"
     ]
    },
    {
     "name": "stdout",
     "output_type": "stream",
     "text": [
      "Epoch 220, Loss 0.0183\n",
      "Training Accuracy: 0.9796, Testing Accuracy: 0.9763\n",
      "\n"
     ]
    },
    {
     "name": "stdout",
     "output_type": "stream",
     "text": [
      "Epoch 230, Loss 0.0179\n",
      "Training Accuracy: 0.9801, Testing Accuracy: 0.9768\n",
      "\n"
     ]
    },
    {
     "name": "stdout",
     "output_type": "stream",
     "text": [
      "Epoch 240, Loss 0.0175\n",
      "Training Accuracy: 0.9810, Testing Accuracy: 0.9768\n",
      "\n"
     ]
    },
    {
     "data": {
      "text/plain": [
       "0.059844528397865825"
      ]
     },
     "execution_count": 22,
     "metadata": {},
     "output_type": "execute_result"
    }
   ],
   "source": [
    "nn_learner.train_loop(dl)"
   ]
  },
  {
   "cell_type": "code",
   "execution_count": 23,
   "id": "e0163366",
   "metadata": {
    "execution": {
     "iopub.execute_input": "2021-10-16T20:10:32.465348Z",
     "iopub.status.busy": "2021-10-16T20:10:32.464692Z",
     "iopub.status.idle": "2021-10-16T20:10:51.058487Z",
     "shell.execute_reply": "2021-10-16T20:10:51.059404Z"
    },
    "papermill": {
     "duration": 18.648287,
     "end_time": "2021-10-16T20:10:51.059571",
     "exception": false,
     "start_time": "2021-10-16T20:10:32.411284",
     "status": "completed"
    },
    "tags": []
   },
   "outputs": [
    {
     "name": "stdout",
     "output_type": "stream",
     "text": [
      "Epoch 0, Loss 0.2191\n",
      "Training Accuracy: 0.7844, Testing Accuracy: 0.8044\n",
      "\n"
     ]
    },
    {
     "name": "stdout",
     "output_type": "stream",
     "text": [
      "Epoch 10, Loss 0.0988\n",
      "Training Accuracy: 0.9186, Testing Accuracy: 0.9315\n",
      "\n"
     ]
    },
    {
     "name": "stdout",
     "output_type": "stream",
     "text": [
      "Epoch 20, Loss 0.077\n",
      "Training Accuracy: 0.9328, Testing Accuracy: 0.9415\n",
      "\n"
     ]
    },
    {
     "name": "stdout",
     "output_type": "stream",
     "text": [
      "Epoch 30, Loss 0.0668\n",
      "Training Accuracy: 0.9388, Testing Accuracy: 0.9491\n",
      "\n"
     ]
    },
    {
     "name": "stdout",
     "output_type": "stream",
     "text": [
      "Epoch 40, Loss 0.0606\n",
      "Training Accuracy: 0.9427, Testing Accuracy: 0.9526\n",
      "\n"
     ]
    },
    {
     "name": "stdout",
     "output_type": "stream",
     "text": [
      "Epoch 50, Loss 0.0563\n",
      "Training Accuracy: 0.9452, Testing Accuracy: 0.9556\n",
      "\n"
     ]
    },
    {
     "name": "stdout",
     "output_type": "stream",
     "text": [
      "Epoch 60, Loss 0.0532\n",
      "Training Accuracy: 0.9477, Testing Accuracy: 0.9577\n",
      "\n"
     ]
    },
    {
     "name": "stdout",
     "output_type": "stream",
     "text": [
      "Epoch 70, Loss 0.0507\n",
      "Training Accuracy: 0.9492, Testing Accuracy: 0.9607\n",
      "\n"
     ]
    },
    {
     "name": "stdout",
     "output_type": "stream",
     "text": [
      "Epoch 80, Loss 0.0488\n",
      "Training Accuracy: 0.9506, Testing Accuracy: 0.9617\n",
      "\n"
     ]
    },
    {
     "name": "stdout",
     "output_type": "stream",
     "text": [
      "Epoch 90, Loss 0.0472\n",
      "Training Accuracy: 0.9517, Testing Accuracy: 0.9627\n",
      "\n"
     ]
    },
    {
     "name": "stdout",
     "output_type": "stream",
     "text": [
      "Epoch 100, Loss 0.0458\n",
      "Training Accuracy: 0.9527, Testing Accuracy: 0.9637\n",
      "\n"
     ]
    },
    {
     "name": "stdout",
     "output_type": "stream",
     "text": [
      "Epoch 110, Loss 0.0446\n",
      "Training Accuracy: 0.9542, Testing Accuracy: 0.9647\n",
      "\n"
     ]
    },
    {
     "name": "stdout",
     "output_type": "stream",
     "text": [
      "Epoch 120, Loss 0.0436\n",
      "Training Accuracy: 0.9549, Testing Accuracy: 0.9657\n",
      "\n"
     ]
    },
    {
     "name": "stdout",
     "output_type": "stream",
     "text": [
      "Epoch 130, Loss 0.0427\n",
      "Training Accuracy: 0.9554, Testing Accuracy: 0.9662\n",
      "\n"
     ]
    },
    {
     "name": "stdout",
     "output_type": "stream",
     "text": [
      "Epoch 140, Loss 0.0419\n",
      "Training Accuracy: 0.9559, Testing Accuracy: 0.9662\n",
      "\n"
     ]
    },
    {
     "name": "stdout",
     "output_type": "stream",
     "text": [
      "Epoch 150, Loss 0.0412\n",
      "Training Accuracy: 0.9565, Testing Accuracy: 0.9667\n",
      "\n"
     ]
    },
    {
     "name": "stdout",
     "output_type": "stream",
     "text": [
      "Epoch 160, Loss 0.0405\n",
      "Training Accuracy: 0.9569, Testing Accuracy: 0.9667\n",
      "\n"
     ]
    },
    {
     "name": "stdout",
     "output_type": "stream",
     "text": [
      "Epoch 170, Loss 0.0399\n",
      "Training Accuracy: 0.9572, Testing Accuracy: 0.9662\n",
      "\n"
     ]
    },
    {
     "name": "stdout",
     "output_type": "stream",
     "text": [
      "Epoch 180, Loss 0.0394\n",
      "Training Accuracy: 0.9574, Testing Accuracy: 0.9662\n",
      "\n"
     ]
    },
    {
     "name": "stdout",
     "output_type": "stream",
     "text": [
      "Epoch 190, Loss 0.0389\n",
      "Training Accuracy: 0.9579, Testing Accuracy: 0.9667\n",
      "\n"
     ]
    },
    {
     "name": "stdout",
     "output_type": "stream",
     "text": [
      "Epoch 200, Loss 0.0384\n",
      "Training Accuracy: 0.9580, Testing Accuracy: 0.9672\n",
      "\n"
     ]
    },
    {
     "name": "stdout",
     "output_type": "stream",
     "text": [
      "Epoch 210, Loss 0.038\n",
      "Training Accuracy: 0.9583, Testing Accuracy: 0.9677\n",
      "\n"
     ]
    },
    {
     "name": "stdout",
     "output_type": "stream",
     "text": [
      "Epoch 220, Loss 0.0376\n",
      "Training Accuracy: 0.9586, Testing Accuracy: 0.9672\n",
      "\n"
     ]
    },
    {
     "name": "stdout",
     "output_type": "stream",
     "text": [
      "Epoch 230, Loss 0.0372\n",
      "Training Accuracy: 0.9591, Testing Accuracy: 0.9672\n",
      "\n"
     ]
    },
    {
     "name": "stdout",
     "output_type": "stream",
     "text": [
      "Epoch 240, Loss 0.0368\n",
      "Training Accuracy: 0.9594, Testing Accuracy: 0.9672\n",
      "\n"
     ]
    },
    {
     "data": {
      "text/plain": [
       "0.028174830585703123"
      ]
     },
     "execution_count": 23,
     "metadata": {},
     "output_type": "execute_result"
    }
   ],
   "source": [
    "lr_learner.train_loop(dl)"
   ]
  },
  {
   "cell_type": "code",
   "execution_count": 24,
   "id": "ca410940",
   "metadata": {
    "execution": {
     "iopub.execute_input": "2021-10-16T20:10:51.176225Z",
     "iopub.status.busy": "2021-10-16T20:10:51.175599Z",
     "iopub.status.idle": "2021-10-16T20:10:51.458837Z",
     "shell.execute_reply": "2021-10-16T20:10:51.458009Z"
    },
    "papermill": {
     "duration": 0.345529,
     "end_time": "2021-10-16T20:10:51.458976",
     "exception": false,
     "start_time": "2021-10-16T20:10:51.113447",
     "status": "completed"
    },
    "tags": []
   },
   "outputs": [
    {
     "data": {
      "text/plain": [
       "<matplotlib.legend.Legend at 0x7f25de2f2dd8>"
      ]
     },
     "execution_count": 24,
     "metadata": {},
     "output_type": "execute_result"
    },
    {
     "data": {
      "image/png": "[encoded data removed]",
      "text/plain": [
       "<Figure size 1080x720 with 1 Axes>"
      ]
     },
     "metadata": {
      "needs_background": "light"
     },
     "output_type": "display_data"
    }
   ],
   "source": [
    "#comparing the results of NN and LR\n",
    "plt.figure(figsize=(15,10))\n",
    "\n",
    "# Neural Network plots\n",
    "plt.plot(acc_nn.accuracies, 'r-', label = \"Training Accuracies - NN\")\n",
    "plt.plot(acc_nn.test_accuracies, 'g-', label = \"Testing Accuracies - NN\")\n",
    "\n",
    "# Logistic Regression plots\n",
    "plt.plot(acc_lr.accuracies, 'k-', label = \"Training Accuracies - LR\")\n",
    "plt.plot(acc_lr.test_accuracies, 'b-', label = \"Testing Accuracies - LR\")\n",
    "plt.legend()"
   ]
  },
  {
   "cell_type": "markdown",
   "id": "80dfb35c",
   "metadata": {
    "papermill": {
     "duration": 0.053781,
     "end_time": "2021-10-16T20:10:51.565637",
     "exception": false,
     "start_time": "2021-10-16T20:10:51.511856",
     "status": "completed"
    },
    "tags": []
   },
   "source": [
    "#### Plotting the outputs of this layer of the NN.\n"
   ]
  },
  {
   "cell_type": "code",
   "execution_count": 25,
   "id": "45eb2ff5",
   "metadata": {
    "execution": {
     "iopub.execute_input": "2021-10-16T20:10:51.683353Z",
     "iopub.status.busy": "2021-10-16T20:10:51.680026Z",
     "iopub.status.idle": "2021-10-16T20:10:51.702475Z",
     "shell.execute_reply": "2021-10-16T20:10:51.703052Z"
    },
    "papermill": {
     "duration": 0.085696,
     "end_time": "2021-10-16T20:10:51.703226",
     "exception": false,
     "start_time": "2021-10-16T20:10:51.617530",
     "status": "completed"
    },
    "tags": []
   },
   "outputs": [],
   "source": [
    "new_model = Model(layers[:-2])\n",
    "testing_plot = new_model(testing_data_x)"
   ]
  },
  {
   "cell_type": "code",
   "execution_count": 26,
   "id": "4c0a5485",
   "metadata": {
    "execution": {
     "iopub.execute_input": "2021-10-16T20:10:51.823710Z",
     "iopub.status.busy": "2021-10-16T20:10:51.823098Z",
     "iopub.status.idle": "2021-10-16T20:10:52.056192Z",
     "shell.execute_reply": "2021-10-16T20:10:52.056730Z"
    },
    "papermill": {
     "duration": 0.295123,
     "end_time": "2021-10-16T20:10:52.056896",
     "exception": false,
     "start_time": "2021-10-16T20:10:51.761773",
     "status": "completed"
    },
    "tags": []
   },
   "outputs": [
    {
     "data": {
      "text/plain": [
       "Text(0.5, 1.0, 'Outputs')"
      ]
     },
     "execution_count": 26,
     "metadata": {},
     "output_type": "execute_result"
    },
    {
     "data": {
      "image/png": "[encoded data removed]",
      "text/plain": [
       "<Figure size 576x504 with 1 Axes>"
      ]
     },
     "metadata": {
      "needs_background": "light"
     },
     "output_type": "display_data"
    }
   ],
   "source": [
    "# Plotting the scatter plot of points and color coding by class\n",
    "plt.figure(figsize=(8,7))\n",
    "plt.scatter(testing_plot[:,0], testing_plot[:,1], alpha = 0.1, c = y_test.ravel());\n",
    "plt.title('Outputs')"
   ]
  },
  {
   "cell_type": "markdown",
   "id": "a74fcf8f",
   "metadata": {
    "papermill": {
     "duration": 0.05622,
     "end_time": "2021-10-16T20:10:52.170720",
     "exception": false,
     "start_time": "2021-10-16T20:10:52.114500",
     "status": "completed"
    },
    "tags": []
   },
   "source": [
    "Probability contours"
   ]
  },
  {
   "cell_type": "code",
   "execution_count": 27,
   "id": "d0afc8e3",
   "metadata": {
    "execution": {
     "iopub.execute_input": "2021-10-16T20:10:52.315331Z",
     "iopub.status.busy": "2021-10-16T20:10:52.314638Z",
     "iopub.status.idle": "2021-10-16T20:10:52.327192Z",
     "shell.execute_reply": "2021-10-16T20:10:52.327874Z"
    },
    "papermill": {
     "duration": 0.100506,
     "end_time": "2021-10-16T20:10:52.328020",
     "exception": false,
     "start_time": "2021-10-16T20:10:52.227514",
     "status": "completed"
    },
    "tags": []
   },
   "outputs": [],
   "source": [
    "model_prob = Model(layers[-2:]) "
   ]
  },
  {
   "cell_type": "code",
   "execution_count": 28,
   "id": "9b96e238",
   "metadata": {
    "execution": {
     "iopub.execute_input": "2021-10-16T20:10:52.447910Z",
     "iopub.status.busy": "2021-10-16T20:10:52.447245Z",
     "iopub.status.idle": "2021-10-16T20:10:52.463865Z",
     "shell.execute_reply": "2021-10-16T20:10:52.464374Z"
    },
    "papermill": {
     "duration": 0.077515,
     "end_time": "2021-10-16T20:10:52.464651",
     "exception": false,
     "start_time": "2021-10-16T20:10:52.387136",
     "status": "completed"
    },
    "tags": []
   },
   "outputs": [],
   "source": [
    "#creating the x and y ranges according to the above generated plot.\n",
    "x_range = np.linspace(-4, 1, 100) \n",
    "y_range = np.linspace(-6, 6, 100) \n",
    "x_grid, y_grid = np.meshgrid(x_range, y_range) # x_grid and y_grig are of size 100 X 100\n",
    "\n",
    "# converting x_grid and y_grid to continuous arrays\n",
    "x_gridflat = np.ravel(x_grid)\n",
    "y_gridflat = np.ravel(y_grid)\n",
    "\n",
    "# The last layer of the current model takes two columns as input. Hence transpose of np.vstack() is required.\n",
    "X = np.vstack((x_gridflat, y_gridflat)).T\n",
    "\n",
    "prob_contour = model_prob(X).reshape(100,100) "
   ]
  },
  {
   "cell_type": "code",
   "execution_count": 29,
   "id": "da72499a",
   "metadata": {
    "execution": {
     "iopub.execute_input": "2021-10-16T20:10:52.592210Z",
     "iopub.status.busy": "2021-10-16T20:10:52.591554Z",
     "iopub.status.idle": "2021-10-16T20:10:52.892285Z",
     "shell.execute_reply": "2021-10-16T20:10:52.892768Z"
    },
    "papermill": {
     "duration": 0.36578,
     "end_time": "2021-10-16T20:10:52.892919",
     "exception": false,
     "start_time": "2021-10-16T20:10:52.527139",
     "status": "completed"
    },
    "tags": []
   },
   "outputs": [
    {
     "data": {
      "image/png": "[encoded data removed]",
      "text/plain": [
       "<Figure size 720x648 with 1 Axes>"
      ]
     },
     "metadata": {
      "needs_background": "light"
     },
     "output_type": "display_data"
    }
   ],
   "source": [
    "plt.figure(figsize=(10,9))\n",
    "plt.scatter(testing_plot[:,0], testing_plot[:,1], alpha = 0.1, c = y_test.ravel())\n",
    "contours = plt.contour(x_grid,y_grid,prob_contour)\n",
    "plt.title('Probability Contours')\n",
    "plt.clabel(contours, inline = True );"
   ]
  },
  {
   "cell_type": "code",
   "execution_count": null,
   "id": "e81b4ac7",
   "metadata": {
    "papermill": {
     "duration": 0.055052,
     "end_time": "2021-10-16T20:10:53.012172",
     "exception": false,
     "start_time": "2021-10-16T20:10:52.957120",
     "status": "completed"
    },
    "tags": []
   },
   "outputs": [],
   "source": []
  }
 ],
 "metadata": {
  "kernelspec": {
   "display_name": "Python 3",
   "language": "python",
   "name": "python3"
  },
  "language_info": {
   "codemirror_mode": {
    "name": "ipython",
    "version": 3
   },
   "file_extension": ".py",
   "mimetype": "text/x-python",
   "name": "python",
   "nbconvert_exporter": "python",
   "pygments_lexer": "ipython3",
   "version": "3.6.15"
  },
  "papermill": {
   "default_parameters": {},
   "duration": 157.726941,
   "end_time": "2021-10-16T20:10:53.477044",
   "environment_variables": {},
   "exception": null,
   "input_path": "2020-08-11-part2.ipynb",
   "output_path": "2020-08-11-part2.ipynb",
   "parameters": {},
   "start_time": "2021-10-16T20:08:15.750103",
   "version": "2.3.3"
  }
 },
 "nbformat": 4,
 "nbformat_minor": 5
}