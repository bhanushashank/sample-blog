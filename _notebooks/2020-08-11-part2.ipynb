{
 "cells": [
  {
   "cell_type": "markdown",
   "id": "98380cd3",
   "metadata": {
    "papermill": {
     "duration": 0.03418,
     "end_time": "2021-12-20T20:09:13.672844",
     "exception": false,
     "start_time": "2021-12-20T20:09:13.638664",
     "status": "completed"
    },
    "tags": []
   },
   "source": [
    "# Distinguish Your Own Digits (DYOD)"
   ]
  },
  {
   "cell_type": "markdown",
   "id": "ef31240d",
   "metadata": {
    "papermill": {
     "duration": 0.027963,
     "end_time": "2021-12-20T20:09:13.729507",
     "exception": false,
     "start_time": "2021-12-20T20:09:13.701544",
     "status": "completed"
    },
    "tags": []
   },
   "source": [
    "You are going to write a classifier that distinguishes between the number 3 and number 8."
   ]
  },
  {
   "cell_type": "code",
   "execution_count": 1,
   "id": "b15c8646",
   "metadata": {
    "execution": {
     "iopub.execute_input": "2021-12-20T20:09:13.799520Z",
     "iopub.status.busy": "2021-12-20T20:09:13.798867Z",
     "iopub.status.idle": "2021-12-20T20:09:13.811150Z",
     "shell.execute_reply": "2021-12-20T20:09:13.810548Z"
    },
    "papermill": {
     "duration": 0.05428,
     "end_time": "2021-12-20T20:09:13.811310",
     "exception": false,
     "start_time": "2021-12-20T20:09:13.757030",
     "status": "completed"
    },
    "tags": []
   },
   "outputs": [],
   "source": [
    "%load_ext autoreload\n",
    "%autoreload 2"
   ]
  },
  {
   "cell_type": "code",
   "execution_count": 2,
   "id": "22ef38dc",
   "metadata": {
    "execution": {
     "iopub.execute_input": "2021-12-20T20:09:13.871492Z",
     "iopub.status.busy": "2021-12-20T20:09:13.870837Z",
     "iopub.status.idle": "2021-12-20T20:09:14.589693Z",
     "shell.execute_reply": "2021-12-20T20:09:14.589146Z"
    },
    "papermill": {
     "duration": 0.750959,
     "end_time": "2021-12-20T20:09:14.589838",
     "exception": false,
     "start_time": "2021-12-20T20:09:13.838879",
     "status": "completed"
    },
    "tags": []
   },
   "outputs": [],
   "source": [
    "%matplotlib inline\n",
    "import numpy as np\n",
    "import matplotlib.pyplot as plt\n",
    "import pandas as pd"
   ]
  },
  {
   "cell_type": "markdown",
   "id": "ba036198",
   "metadata": {
    "papermill": {
     "duration": 0.027551,
     "end_time": "2021-12-20T20:09:14.644983",
     "exception": false,
     "start_time": "2021-12-20T20:09:14.617432",
     "status": "completed"
    },
    "tags": []
   },
   "source": [
    "From the command line run `pip install mnist`. This is a library that will help you bring down the mnist dataset. If you run this from a notebook, you need to put  `!pip install mnist` in a cell by itself."
   ]
  },
  {
   "cell_type": "code",
   "execution_count": 3,
   "id": "bb6ad8a1",
   "metadata": {
    "execution": {
     "iopub.execute_input": "2021-12-20T20:09:14.704934Z",
     "iopub.status.busy": "2021-12-20T20:09:14.704330Z",
     "iopub.status.idle": "2021-12-20T20:09:16.682055Z",
     "shell.execute_reply": "2021-12-20T20:09:16.681459Z"
    },
    "papermill": {
     "duration": 2.01024,
     "end_time": "2021-12-20T20:09:16.682194",
     "exception": false,
     "start_time": "2021-12-20T20:09:14.671954",
     "status": "completed"
    },
    "tags": []
   },
   "outputs": [
    {
     "name": "stdout",
     "output_type": "stream",
     "text": [
      "Collecting mnist\r\n"
     ]
    },
    {
     "name": "stdout",
     "output_type": "stream",
     "text": [
      "  Downloading mnist-0.2.2-py2.py3-none-any.whl (3.5 kB)\r\n",
      "Requirement already satisfied: numpy in /opt/hostedtoolcache/Python/3.6.15/x64/lib/python3.6/site-packages (from mnist) (1.19.5)\r\n"
     ]
    },
    {
     "name": "stdout",
     "output_type": "stream",
     "text": [
      "Installing collected packages: mnist\r\n"
     ]
    },
    {
     "name": "stdout",
     "output_type": "stream",
     "text": [
      "Successfully installed mnist-0.2.2\r\n"
     ]
    }
   ],
   "source": [
    "!pip install mnist"
   ]
  },
  {
   "cell_type": "markdown",
   "id": "69df9c9a",
   "metadata": {
    "papermill": {
     "duration": 0.029311,
     "end_time": "2021-12-20T20:09:16.740514",
     "exception": false,
     "start_time": "2021-12-20T20:09:16.711203",
     "status": "completed"
    },
    "tags": []
   },
   "source": [
    "## Preparing the Data"
   ]
  },
  {
   "cell_type": "code",
   "execution_count": 4,
   "id": "7f69d806",
   "metadata": {
    "execution": {
     "iopub.execute_input": "2021-12-20T20:09:16.803133Z",
     "iopub.status.busy": "2021-12-20T20:09:16.802482Z",
     "iopub.status.idle": "2021-12-20T20:09:16.819171Z",
     "shell.execute_reply": "2021-12-20T20:09:16.818616Z"
    },
    "papermill": {
     "duration": 0.050327,
     "end_time": "2021-12-20T20:09:16.819317",
     "exception": false,
     "start_time": "2021-12-20T20:09:16.768990",
     "status": "completed"
    },
    "tags": []
   },
   "outputs": [],
   "source": [
    "import mnist"
   ]
  },
  {
   "cell_type": "code",
   "execution_count": 5,
   "id": "a411e44f",
   "metadata": {
    "execution": {
     "iopub.execute_input": "2021-12-20T20:09:16.884292Z",
     "iopub.status.busy": "2021-12-20T20:09:16.883562Z",
     "iopub.status.idle": "2021-12-20T20:09:17.514415Z",
     "shell.execute_reply": "2021-12-20T20:09:17.513862Z"
    },
    "papermill": {
     "duration": 0.666717,
     "end_time": "2021-12-20T20:09:17.514567",
     "exception": false,
     "start_time": "2021-12-20T20:09:16.847850",
     "status": "completed"
    },
    "tags": []
   },
   "outputs": [],
   "source": [
    "train_images = mnist.train_images()\n",
    "train_labels = mnist.train_labels()"
   ]
  },
  {
   "cell_type": "code",
   "execution_count": 6,
   "id": "dceab3a5",
   "metadata": {
    "execution": {
     "iopub.execute_input": "2021-12-20T20:09:17.583002Z",
     "iopub.status.busy": "2021-12-20T20:09:17.581897Z",
     "iopub.status.idle": "2021-12-20T20:09:17.599031Z",
     "shell.execute_reply": "2021-12-20T20:09:17.599556Z"
    },
    "papermill": {
     "duration": 0.051314,
     "end_time": "2021-12-20T20:09:17.599713",
     "exception": false,
     "start_time": "2021-12-20T20:09:17.548399",
     "status": "completed"
    },
    "tags": []
   },
   "outputs": [
    {
     "data": {
      "text/plain": [
       "((60000, 28, 28), (60000,))"
      ]
     },
     "execution_count": 6,
     "metadata": {},
     "output_type": "execute_result"
    }
   ],
   "source": [
    "train_images.shape, train_labels.shape"
   ]
  },
  {
   "cell_type": "code",
   "execution_count": 7,
   "id": "f50dc2bb",
   "metadata": {
    "execution": {
     "iopub.execute_input": "2021-12-20T20:09:17.662247Z",
     "iopub.status.busy": "2021-12-20T20:09:17.661651Z",
     "iopub.status.idle": "2021-12-20T20:09:17.827035Z",
     "shell.execute_reply": "2021-12-20T20:09:17.826265Z"
    },
    "papermill": {
     "duration": 0.198627,
     "end_time": "2021-12-20T20:09:17.827229",
     "exception": false,
     "start_time": "2021-12-20T20:09:17.628602",
     "status": "completed"
    },
    "tags": []
   },
   "outputs": [],
   "source": [
    "test_images = mnist.test_images()\n",
    "test_labels = mnist.test_labels()"
   ]
  },
  {
   "cell_type": "code",
   "execution_count": 8,
   "id": "fc38cf1b",
   "metadata": {
    "execution": {
     "iopub.execute_input": "2021-12-20T20:09:17.899717Z",
     "iopub.status.busy": "2021-12-20T20:09:17.899071Z",
     "iopub.status.idle": "2021-12-20T20:09:17.915423Z",
     "shell.execute_reply": "2021-12-20T20:09:17.914919Z"
    },
    "papermill": {
     "duration": 0.05725,
     "end_time": "2021-12-20T20:09:17.915560",
     "exception": false,
     "start_time": "2021-12-20T20:09:17.858310",
     "status": "completed"
    },
    "tags": []
   },
   "outputs": [
    {
     "data": {
      "text/plain": [
       "((10000, 28, 28), (10000,))"
      ]
     },
     "execution_count": 8,
     "metadata": {},
     "output_type": "execute_result"
    }
   ],
   "source": [
    "test_images.shape, test_labels.shape"
   ]
  },
  {
   "cell_type": "code",
   "execution_count": 9,
   "id": "f9ed8fe0",
   "metadata": {
    "execution": {
     "iopub.execute_input": "2021-12-20T20:09:17.981831Z",
     "iopub.status.busy": "2021-12-20T20:09:17.981211Z",
     "iopub.status.idle": "2021-12-20T20:09:18.146186Z",
     "shell.execute_reply": "2021-12-20T20:09:18.145681Z"
    },
    "papermill": {
     "duration": 0.201001,
     "end_time": "2021-12-20T20:09:18.146325",
     "exception": false,
     "start_time": "2021-12-20T20:09:17.945324",
     "status": "completed"
    },
    "tags": []
   },
   "outputs": [
    {
     "name": "stdout",
     "output_type": "stream",
     "text": [
      "2\n"
     ]
    },
    {
     "data": {
      "text/plain": [
       "<matplotlib.image.AxesImage at 0x7fde3f66d518>"
      ]
     },
     "execution_count": 9,
     "metadata": {},
     "output_type": "execute_result"
    },
    {
     "data": {
      "image/png": "[encoded data removed]",
      "text/plain": [
       "<Figure size 432x288 with 1 Axes>"
      ]
     },
     "metadata": {
      "needs_background": "light"
     },
     "output_type": "display_data"
    }
   ],
   "source": [
    "image_index = 7776 # You may select anything up to 60,000\n",
    "print(train_labels[image_index]) \n",
    "plt.imshow(train_images[image_index], cmap='Greys')"
   ]
  },
  {
   "cell_type": "markdown",
   "id": "a8d2388d",
   "metadata": {
    "papermill": {
     "duration": 0.031674,
     "end_time": "2021-12-20T20:09:18.209196",
     "exception": false,
     "start_time": "2021-12-20T20:09:18.177522",
     "status": "completed"
    },
    "tags": []
   },
   "source": [
    "## Filter data to get 3 and 8 out"
   ]
  },
  {
   "cell_type": "code",
   "execution_count": 10,
   "id": "776f7fc7",
   "metadata": {
    "execution": {
     "iopub.execute_input": "2021-12-20T20:09:18.280839Z",
     "iopub.status.busy": "2021-12-20T20:09:18.280220Z",
     "iopub.status.idle": "2021-12-20T20:09:18.302841Z",
     "shell.execute_reply": "2021-12-20T20:09:18.301869Z"
    },
    "papermill": {
     "duration": 0.062379,
     "end_time": "2021-12-20T20:09:18.303004",
     "exception": false,
     "start_time": "2021-12-20T20:09:18.240625",
     "status": "completed"
    },
    "tags": []
   },
   "outputs": [],
   "source": [
    "train_filter = np.where((train_labels == 3 ) | (train_labels == 8))\n",
    "test_filter = np.where((test_labels == 3) | (test_labels == 8))\n",
    "X_train, y_train = train_images[train_filter], train_labels[train_filter]\n",
    "X_test, y_test = test_images[test_filter], test_labels[test_filter]"
   ]
  },
  {
   "cell_type": "markdown",
   "id": "948f0b7e",
   "metadata": {
    "papermill": {
     "duration": 0.03081,
     "end_time": "2021-12-20T20:09:18.365749",
     "exception": false,
     "start_time": "2021-12-20T20:09:18.334939",
     "status": "completed"
    },
    "tags": []
   },
   "source": [
    "We normalize the pizel values in the 0 to 1 range"
   ]
  },
  {
   "cell_type": "code",
   "execution_count": 11,
   "id": "ee4c2166",
   "metadata": {
    "execution": {
     "iopub.execute_input": "2021-12-20T20:09:18.435326Z",
     "iopub.status.busy": "2021-12-20T20:09:18.434670Z",
     "iopub.status.idle": "2021-12-20T20:09:18.491606Z",
     "shell.execute_reply": "2021-12-20T20:09:18.491045Z"
    },
    "papermill": {
     "duration": 0.092943,
     "end_time": "2021-12-20T20:09:18.491755",
     "exception": false,
     "start_time": "2021-12-20T20:09:18.398812",
     "status": "completed"
    },
    "tags": []
   },
   "outputs": [],
   "source": [
    "X_train = X_train/255.\n",
    "X_test = X_test/255."
   ]
  },
  {
   "cell_type": "markdown",
   "id": "ddcf4fab",
   "metadata": {
    "papermill": {
     "duration": 0.037807,
     "end_time": "2021-12-20T20:09:18.560999",
     "exception": false,
     "start_time": "2021-12-20T20:09:18.523192",
     "status": "completed"
    },
    "tags": []
   },
   "source": [
    "And setup the labels as 1 (when the digit is 3) and 0 (when the digit is 8)"
   ]
  },
  {
   "cell_type": "code",
   "execution_count": 12,
   "id": "7dc908f2",
   "metadata": {
    "execution": {
     "iopub.execute_input": "2021-12-20T20:09:18.629595Z",
     "iopub.status.busy": "2021-12-20T20:09:18.628971Z",
     "iopub.status.idle": "2021-12-20T20:09:18.643502Z",
     "shell.execute_reply": "2021-12-20T20:09:18.642984Z"
    },
    "papermill": {
     "duration": 0.049843,
     "end_time": "2021-12-20T20:09:18.643641",
     "exception": false,
     "start_time": "2021-12-20T20:09:18.593798",
     "status": "completed"
    },
    "tags": []
   },
   "outputs": [],
   "source": [
    "y_train = 1*(y_train==3)\n",
    "y_test = 1*(y_test==3)"
   ]
  },
  {
   "cell_type": "code",
   "execution_count": 13,
   "id": "01e4e969",
   "metadata": {
    "execution": {
     "iopub.execute_input": "2021-12-20T20:09:18.712616Z",
     "iopub.status.busy": "2021-12-20T20:09:18.712020Z",
     "iopub.status.idle": "2021-12-20T20:09:18.726936Z",
     "shell.execute_reply": "2021-12-20T20:09:18.726388Z"
    },
    "papermill": {
     "duration": 0.052132,
     "end_time": "2021-12-20T20:09:18.727069",
     "exception": false,
     "start_time": "2021-12-20T20:09:18.674937",
     "status": "completed"
    },
    "tags": []
   },
   "outputs": [
    {
     "data": {
      "text/plain": [
       "((11982, 28, 28), (1984, 28, 28))"
      ]
     },
     "execution_count": 13,
     "metadata": {},
     "output_type": "execute_result"
    }
   ],
   "source": [
    "X_train.shape, X_test.shape"
   ]
  },
  {
   "cell_type": "markdown",
   "id": "5ccf3f85",
   "metadata": {
    "papermill": {
     "duration": 0.031319,
     "end_time": "2021-12-20T20:09:18.789468",
     "exception": false,
     "start_time": "2021-12-20T20:09:18.758149",
     "status": "completed"
    },
    "tags": []
   },
   "source": [
    "We reshape the data to flatten the image pixels into a set of features or co-variates:"
   ]
  },
  {
   "cell_type": "code",
   "execution_count": 14,
   "id": "5286a4a3",
   "metadata": {
    "execution": {
     "iopub.execute_input": "2021-12-20T20:09:18.860999Z",
     "iopub.status.busy": "2021-12-20T20:09:18.860388Z",
     "iopub.status.idle": "2021-12-20T20:09:18.877851Z",
     "shell.execute_reply": "2021-12-20T20:09:18.877234Z"
    },
    "papermill": {
     "duration": 0.056668,
     "end_time": "2021-12-20T20:09:18.877993",
     "exception": false,
     "start_time": "2021-12-20T20:09:18.821325",
     "status": "completed"
    },
    "tags": []
   },
   "outputs": [
    {
     "data": {
      "text/plain": [
       "((11982, 784), (1984, 784))"
      ]
     },
     "execution_count": 14,
     "metadata": {},
     "output_type": "execute_result"
    }
   ],
   "source": [
    "X_train = X_train.reshape(X_train.shape[0], -1)\n",
    "X_test = X_test.reshape(X_test.shape[0], -1)\n",
    "X_train.shape, X_test.shape"
   ]
  },
  {
   "cell_type": "code",
   "execution_count": 15,
   "id": "73c5f88a",
   "metadata": {
    "execution": {
     "iopub.execute_input": "2021-12-20T20:09:18.952863Z",
     "iopub.status.busy": "2021-12-20T20:09:18.952215Z",
     "iopub.status.idle": "2021-12-20T20:09:18.973205Z",
     "shell.execute_reply": "2021-12-20T20:09:18.972691Z"
    },
    "papermill": {
     "duration": 0.061312,
     "end_time": "2021-12-20T20:09:18.973343",
     "exception": false,
     "start_time": "2021-12-20T20:09:18.912031",
     "status": "completed"
    },
    "tags": []
   },
   "outputs": [],
   "source": [
    "#Impoting functions from 'Kudzu'\n",
    "from kudzu.model import Model\n",
    "from kudzu.train import Learner\n",
    "from kudzu.optim import GD\n",
    "from kudzu.data import Data, Sampler,Dataloader\n",
    "\n",
    "from kudzu.callbacks import AccCallback\n",
    "from kudzu.callbacks import ClfCallback\n",
    "\n",
    "from kudzu.loss import MSE\n",
    "\n",
    "from kudzu.layer import Sigmoid,Relu\n",
    "from kudzu.layer import Affine"
   ]
  },
  {
   "cell_type": "markdown",
   "id": "bc01172a",
   "metadata": {
    "papermill": {
     "duration": 0.03509,
     "end_time": "2021-12-20T20:09:19.040428",
     "exception": false,
     "start_time": "2021-12-20T20:09:19.005338",
     "status": "completed"
    },
    "tags": []
   },
   "source": [
    "### Let us create a `Config` class, to store important parameters. \n",
    "This class essentially plays the role of a dictionary."
   ]
  },
  {
   "cell_type": "code",
   "execution_count": 16,
   "id": "978281aa",
   "metadata": {
    "execution": {
     "iopub.execute_input": "2021-12-20T20:09:19.109007Z",
     "iopub.status.busy": "2021-12-20T20:09:19.108434Z",
     "iopub.status.idle": "2021-12-20T20:09:19.121634Z",
     "shell.execute_reply": "2021-12-20T20:09:19.121114Z"
    },
    "papermill": {
     "duration": 0.050206,
     "end_time": "2021-12-20T20:09:19.121763",
     "exception": false,
     "start_time": "2021-12-20T20:09:19.071557",
     "status": "completed"
    },
    "tags": []
   },
   "outputs": [],
   "source": [
    "class Config:\n",
    "    pass\n",
    "config = Config()\n",
    "config.lr = 0.001\n",
    "config.num_epochs = 250\n",
    "config.bs = 50"
   ]
  },
  {
   "cell_type": "markdown",
   "id": "1385fa59",
   "metadata": {
    "papermill": {
     "duration": 0.031995,
     "end_time": "2021-12-20T20:09:19.193932",
     "exception": false,
     "start_time": "2021-12-20T20:09:19.161937",
     "status": "completed"
    },
    "tags": []
   },
   "source": [
    "### Running Models with the Training data\n",
    "Details about the network layers:\n",
    "- A first affine layer has 784 inputs and does 100 affine transforms. These are followed by a Relu\n",
    "- A second affine layer has 100 inputs from the 100 activations of the past layer, and does 100 affine transforms. These are followed by a Relu\n",
    "- A third affine layer has 100 activations and does 2 affine transformations to create an embedding for visualization. There is no non-linearity here.\n",
    "- A final \"logistic regression\" which has an affine transform from 2 inputs to 1 output, which is squeezed through a sigmoid.\n"
   ]
  },
  {
   "cell_type": "code",
   "execution_count": 17,
   "id": "2b9c66db",
   "metadata": {
    "execution": {
     "iopub.execute_input": "2021-12-20T20:09:19.264064Z",
     "iopub.status.busy": "2021-12-20T20:09:19.263422Z",
     "iopub.status.idle": "2021-12-20T20:09:19.279636Z",
     "shell.execute_reply": "2021-12-20T20:09:19.279081Z"
    },
    "papermill": {
     "duration": 0.054741,
     "end_time": "2021-12-20T20:09:19.279782",
     "exception": false,
     "start_time": "2021-12-20T20:09:19.225041",
     "status": "completed"
    },
    "tags": []
   },
   "outputs": [],
   "source": [
    "data = Data(X_train, y_train.reshape(-1,1))\n",
    "sampler = Sampler(data, config.bs, shuffle=True)\n",
    "\n",
    "dl = Dataloader(data, sampler)\n",
    "\n",
    "opt = GD(config.lr)\n",
    "loss = MSE()"
   ]
  },
  {
   "cell_type": "code",
   "execution_count": 18,
   "id": "b275e4c2",
   "metadata": {
    "execution": {
     "iopub.execute_input": "2021-12-20T20:09:19.349865Z",
     "iopub.status.busy": "2021-12-20T20:09:19.349245Z",
     "iopub.status.idle": "2021-12-20T20:09:19.362265Z",
     "shell.execute_reply": "2021-12-20T20:09:19.361771Z"
    },
    "papermill": {
     "duration": 0.051003,
     "end_time": "2021-12-20T20:09:19.362403",
     "exception": false,
     "start_time": "2021-12-20T20:09:19.311400",
     "status": "completed"
    },
    "tags": []
   },
   "outputs": [],
   "source": [
    "training_data_x = X_train\n",
    "testing_data_x = X_test\n",
    "training_data_y = y_train.reshape(-1,1)\n",
    "testing_data_y = y_test.reshape(-1,1)"
   ]
  },
  {
   "cell_type": "code",
   "execution_count": 19,
   "id": "76951160",
   "metadata": {
    "execution": {
     "iopub.execute_input": "2021-12-20T20:09:19.428981Z",
     "iopub.status.busy": "2021-12-20T20:09:19.428365Z",
     "iopub.status.idle": "2021-12-20T20:09:19.451086Z",
     "shell.execute_reply": "2021-12-20T20:09:19.450510Z"
    },
    "papermill": {
     "duration": 0.058075,
     "end_time": "2021-12-20T20:09:19.451238",
     "exception": false,
     "start_time": "2021-12-20T20:09:19.393163",
     "status": "completed"
    },
    "tags": []
   },
   "outputs": [
    {
     "name": "stdout",
     "output_type": "stream",
     "text": [
      "xavier\n",
      "xavier\n",
      "xavier\n",
      "xavier\n",
      "xavier\n"
     ]
    }
   ],
   "source": [
    "layers = [Affine(\"first\", 784, 100), Relu(\"first\"), Affine(\"second\", 100, 100), Relu(\"second\"), Affine(\"third\", 100, 2), Affine(\"last\", 2, 1), Sigmoid(\"last\")]\n",
    "model_nn = Model(layers)\n",
    "model_lr = Model([Affine(\"logits\", 784, 1), Sigmoid(\"sigmoid\")])"
   ]
  },
  {
   "cell_type": "code",
   "execution_count": 20,
   "id": "6eede77a",
   "metadata": {
    "execution": {
     "iopub.execute_input": "2021-12-20T20:09:19.518691Z",
     "iopub.status.busy": "2021-12-20T20:09:19.518089Z",
     "iopub.status.idle": "2021-12-20T20:09:19.532009Z",
     "shell.execute_reply": "2021-12-20T20:09:19.531511Z"
    },
    "papermill": {
     "duration": 0.049788,
     "end_time": "2021-12-20T20:09:19.532143",
     "exception": false,
     "start_time": "2021-12-20T20:09:19.482355",
     "status": "completed"
    },
    "tags": []
   },
   "outputs": [],
   "source": [
    "nn_learner = Learner(loss, model_nn, opt, config.num_epochs)\n",
    "acc_nn = ClfCallback(nn_learner, config.bs, training_data_x , testing_data_x, training_data_y, testing_data_y)\n",
    "nn_learner.set_callbacks([acc_nn])"
   ]
  },
  {
   "cell_type": "code",
   "execution_count": 21,
   "id": "877b6cc7",
   "metadata": {
    "execution": {
     "iopub.execute_input": "2021-12-20T20:09:19.600980Z",
     "iopub.status.busy": "2021-12-20T20:09:19.599711Z",
     "iopub.status.idle": "2021-12-20T20:09:19.615567Z",
     "shell.execute_reply": "2021-12-20T20:09:19.613774Z"
    },
    "papermill": {
     "duration": 0.052685,
     "end_time": "2021-12-20T20:09:19.615747",
     "exception": false,
     "start_time": "2021-12-20T20:09:19.563062",
     "status": "completed"
    },
    "tags": []
   },
   "outputs": [],
   "source": [
    "lr_learner = Learner(loss, model_lr, opt, config.num_epochs)\n",
    "acc_lr = ClfCallback(lr_learner, config.bs, training_data_x , testing_data_x, training_data_y, testing_data_y)\n",
    "lr_learner.set_callbacks([acc_lr])"
   ]
  },
  {
   "cell_type": "code",
   "execution_count": 22,
   "id": "d9b133c3",
   "metadata": {
    "execution": {
     "iopub.execute_input": "2021-12-20T20:09:19.686313Z",
     "iopub.status.busy": "2021-12-20T20:09:19.685698Z",
     "iopub.status.idle": "2021-12-20T20:10:49.807635Z",
     "shell.execute_reply": "2021-12-20T20:10:49.808503Z"
    },
    "papermill": {
     "duration": 90.16099,
     "end_time": "2021-12-20T20:10:49.808672",
     "exception": false,
     "start_time": "2021-12-20T20:09:19.647682",
     "status": "completed"
    },
    "tags": []
   },
   "outputs": [
    {
     "name": "stdout",
     "output_type": "stream",
     "text": [
      "Epoch 0, Loss 0.244\n",
      "Training Accuracy: 0.6890, Testing Accuracy: 0.7082\n",
      "\n"
     ]
    },
    {
     "name": "stdout",
     "output_type": "stream",
     "text": [
      "Epoch 10, Loss 0.1999\n",
      "Training Accuracy: 0.8696, Testing Accuracy: 0.8785\n",
      "\n"
     ]
    },
    {
     "name": "stdout",
     "output_type": "stream",
     "text": [
      "Epoch 20, Loss 0.1028\n",
      "Training Accuracy: 0.9065, Testing Accuracy: 0.9138\n",
      "\n"
     ]
    },
    {
     "name": "stdout",
     "output_type": "stream",
     "text": [
      "Epoch 30, Loss 0.0645\n",
      "Training Accuracy: 0.9312, Testing Accuracy: 0.9425\n",
      "\n"
     ]
    },
    {
     "name": "stdout",
     "output_type": "stream",
     "text": [
      "Epoch 40, Loss 0.0496\n",
      "Training Accuracy: 0.9435, Testing Accuracy: 0.9592\n",
      "\n"
     ]
    },
    {
     "name": "stdout",
     "output_type": "stream",
     "text": [
      "Epoch 50, Loss 0.042\n",
      "Training Accuracy: 0.9518, Testing Accuracy: 0.9637\n",
      "\n"
     ]
    },
    {
     "name": "stdout",
     "output_type": "stream",
     "text": [
      "Epoch 60, Loss 0.0376\n",
      "Training Accuracy: 0.9559, Testing Accuracy: 0.9657\n",
      "\n"
     ]
    },
    {
     "name": "stdout",
     "output_type": "stream",
     "text": [
      "Epoch 70, Loss 0.0347\n",
      "Training Accuracy: 0.9589, Testing Accuracy: 0.9677\n",
      "\n"
     ]
    },
    {
     "name": "stdout",
     "output_type": "stream",
     "text": [
      "Epoch 80, Loss 0.0326\n",
      "Training Accuracy: 0.9614, Testing Accuracy: 0.9688\n",
      "\n"
     ]
    },
    {
     "name": "stdout",
     "output_type": "stream",
     "text": [
      "Epoch 90, Loss 0.031\n",
      "Training Accuracy: 0.9634, Testing Accuracy: 0.9672\n",
      "\n"
     ]
    },
    {
     "name": "stdout",
     "output_type": "stream",
     "text": [
      "Epoch 100, Loss 0.0297\n",
      "Training Accuracy: 0.9649, Testing Accuracy: 0.9667\n",
      "\n"
     ]
    },
    {
     "name": "stdout",
     "output_type": "stream",
     "text": [
      "Epoch 110, Loss 0.0287\n",
      "Training Accuracy: 0.9657, Testing Accuracy: 0.9682\n",
      "\n"
     ]
    },
    {
     "name": "stdout",
     "output_type": "stream",
     "text": [
      "Epoch 120, Loss 0.0277\n",
      "Training Accuracy: 0.9671, Testing Accuracy: 0.9672\n",
      "\n"
     ]
    },
    {
     "name": "stdout",
     "output_type": "stream",
     "text": [
      "Epoch 130, Loss 0.0269\n",
      "Training Accuracy: 0.9680, Testing Accuracy: 0.9672\n",
      "\n"
     ]
    },
    {
     "name": "stdout",
     "output_type": "stream",
     "text": [
      "Epoch 140, Loss 0.0261\n",
      "Training Accuracy: 0.9690, Testing Accuracy: 0.9677\n",
      "\n"
     ]
    },
    {
     "name": "stdout",
     "output_type": "stream",
     "text": [
      "Epoch 150, Loss 0.0255\n",
      "Training Accuracy: 0.9700, Testing Accuracy: 0.9682\n",
      "\n"
     ]
    },
    {
     "name": "stdout",
     "output_type": "stream",
     "text": [
      "Epoch 160, Loss 0.0249\n",
      "Training Accuracy: 0.9707, Testing Accuracy: 0.9682\n",
      "\n"
     ]
    },
    {
     "name": "stdout",
     "output_type": "stream",
     "text": [
      "Epoch 170, Loss 0.0243\n",
      "Training Accuracy: 0.9715, Testing Accuracy: 0.9682\n",
      "\n"
     ]
    },
    {
     "name": "stdout",
     "output_type": "stream",
     "text": [
      "Epoch 180, Loss 0.0238\n",
      "Training Accuracy: 0.9721, Testing Accuracy: 0.9693\n",
      "\n"
     ]
    },
    {
     "name": "stdout",
     "output_type": "stream",
     "text": [
      "Epoch 190, Loss 0.0233\n",
      "Training Accuracy: 0.9730, Testing Accuracy: 0.9688\n",
      "\n"
     ]
    },
    {
     "name": "stdout",
     "output_type": "stream",
     "text": [
      "Epoch 200, Loss 0.0229\n",
      "Training Accuracy: 0.9737, Testing Accuracy: 0.9698\n",
      "\n"
     ]
    },
    {
     "name": "stdout",
     "output_type": "stream",
     "text": [
      "Epoch 210, Loss 0.0225\n",
      "Training Accuracy: 0.9740, Testing Accuracy: 0.9703\n",
      "\n"
     ]
    },
    {
     "name": "stdout",
     "output_type": "stream",
     "text": [
      "Epoch 220, Loss 0.0221\n",
      "Training Accuracy: 0.9744, Testing Accuracy: 0.9713\n",
      "\n"
     ]
    },
    {
     "name": "stdout",
     "output_type": "stream",
     "text": [
      "Epoch 230, Loss 0.0218\n",
      "Training Accuracy: 0.9752, Testing Accuracy: 0.9713\n",
      "\n"
     ]
    },
    {
     "name": "stdout",
     "output_type": "stream",
     "text": [
      "Epoch 240, Loss 0.0214\n",
      "Training Accuracy: 0.9759, Testing Accuracy: 0.9713\n",
      "\n"
     ]
    },
    {
     "data": {
      "text/plain": [
       "0.004913193740740051"
      ]
     },
     "execution_count": 22,
     "metadata": {},
     "output_type": "execute_result"
    }
   ],
   "source": [
    "nn_learner.train_loop(dl)"
   ]
  },
  {
   "cell_type": "code",
   "execution_count": 23,
   "id": "e0163366",
   "metadata": {
    "execution": {
     "iopub.execute_input": "2021-12-20T20:10:49.900369Z",
     "iopub.status.busy": "2021-12-20T20:10:49.899754Z",
     "iopub.status.idle": "2021-12-20T20:11:05.531692Z",
     "shell.execute_reply": "2021-12-20T20:11:05.532546Z"
    },
    "papermill": {
     "duration": 15.684611,
     "end_time": "2021-12-20T20:11:05.532716",
     "exception": false,
     "start_time": "2021-12-20T20:10:49.848105",
     "status": "completed"
    },
    "tags": []
   },
   "outputs": [
    {
     "name": "stdout",
     "output_type": "stream",
     "text": [
      "Epoch 0, Loss 0.2166\n",
      "Training Accuracy: 0.7737, Testing Accuracy: 0.7742\n",
      "\n"
     ]
    },
    {
     "name": "stdout",
     "output_type": "stream",
     "text": [
      "Epoch 10, Loss 0.1021\n",
      "Training Accuracy: 0.9076, Testing Accuracy: 0.9158\n",
      "\n"
     ]
    },
    {
     "name": "stdout",
     "output_type": "stream",
     "text": [
      "Epoch 20, Loss 0.0798\n",
      "Training Accuracy: 0.9240, Testing Accuracy: 0.9335\n",
      "\n"
     ]
    },
    {
     "name": "stdout",
     "output_type": "stream",
     "text": [
      "Epoch 30, Loss 0.0692\n",
      "Training Accuracy: 0.9330, Testing Accuracy: 0.9430\n",
      "\n"
     ]
    },
    {
     "name": "stdout",
     "output_type": "stream",
     "text": [
      "Epoch 40, Loss 0.0627\n",
      "Training Accuracy: 0.9373, Testing Accuracy: 0.9476\n",
      "\n"
     ]
    },
    {
     "name": "stdout",
     "output_type": "stream",
     "text": [
      "Epoch 50, Loss 0.0582\n",
      "Training Accuracy: 0.9414, Testing Accuracy: 0.9521\n",
      "\n"
     ]
    },
    {
     "name": "stdout",
     "output_type": "stream",
     "text": [
      "Epoch 60, Loss 0.0548\n",
      "Training Accuracy: 0.9440, Testing Accuracy: 0.9531\n",
      "\n"
     ]
    },
    {
     "name": "stdout",
     "output_type": "stream",
     "text": [
      "Epoch 70, Loss 0.0522\n",
      "Training Accuracy: 0.9468, Testing Accuracy: 0.9556\n",
      "\n"
     ]
    },
    {
     "name": "stdout",
     "output_type": "stream",
     "text": [
      "Epoch 80, Loss 0.0501\n",
      "Training Accuracy: 0.9488, Testing Accuracy: 0.9556\n",
      "\n"
     ]
    },
    {
     "name": "stdout",
     "output_type": "stream",
     "text": [
      "Epoch 90, Loss 0.0483\n",
      "Training Accuracy: 0.9505, Testing Accuracy: 0.9567\n",
      "\n"
     ]
    },
    {
     "name": "stdout",
     "output_type": "stream",
     "text": [
      "Epoch 100, Loss 0.0469\n",
      "Training Accuracy: 0.9515, Testing Accuracy: 0.9577\n",
      "\n"
     ]
    },
    {
     "name": "stdout",
     "output_type": "stream",
     "text": [
      "Epoch 110, Loss 0.0456\n",
      "Training Accuracy: 0.9524, Testing Accuracy: 0.9577\n",
      "\n"
     ]
    },
    {
     "name": "stdout",
     "output_type": "stream",
     "text": [
      "Epoch 120, Loss 0.0445\n",
      "Training Accuracy: 0.9528, Testing Accuracy: 0.9602\n",
      "\n"
     ]
    },
    {
     "name": "stdout",
     "output_type": "stream",
     "text": [
      "Epoch 130, Loss 0.0435\n",
      "Training Accuracy: 0.9538, Testing Accuracy: 0.9622\n",
      "\n"
     ]
    },
    {
     "name": "stdout",
     "output_type": "stream",
     "text": [
      "Epoch 140, Loss 0.0427\n",
      "Training Accuracy: 0.9545, Testing Accuracy: 0.9632\n",
      "\n"
     ]
    },
    {
     "name": "stdout",
     "output_type": "stream",
     "text": [
      "Epoch 150, Loss 0.0419\n",
      "Training Accuracy: 0.9553, Testing Accuracy: 0.9642\n",
      "\n"
     ]
    },
    {
     "name": "stdout",
     "output_type": "stream",
     "text": [
      "Epoch 160, Loss 0.0412\n",
      "Training Accuracy: 0.9556, Testing Accuracy: 0.9642\n",
      "\n"
     ]
    },
    {
     "name": "stdout",
     "output_type": "stream",
     "text": [
      "Epoch 170, Loss 0.0406\n",
      "Training Accuracy: 0.9566, Testing Accuracy: 0.9652\n",
      "\n"
     ]
    },
    {
     "name": "stdout",
     "output_type": "stream",
     "text": [
      "Epoch 180, Loss 0.04\n",
      "Training Accuracy: 0.9572, Testing Accuracy: 0.9652\n",
      "\n"
     ]
    },
    {
     "name": "stdout",
     "output_type": "stream",
     "text": [
      "Epoch 190, Loss 0.0394\n",
      "Training Accuracy: 0.9579, Testing Accuracy: 0.9652\n",
      "\n"
     ]
    },
    {
     "name": "stdout",
     "output_type": "stream",
     "text": [
      "Epoch 200, Loss 0.0389\n",
      "Training Accuracy: 0.9583, Testing Accuracy: 0.9647\n",
      "\n"
     ]
    },
    {
     "name": "stdout",
     "output_type": "stream",
     "text": [
      "Epoch 210, Loss 0.0385\n",
      "Training Accuracy: 0.9589, Testing Accuracy: 0.9652\n",
      "\n"
     ]
    },
    {
     "name": "stdout",
     "output_type": "stream",
     "text": [
      "Epoch 220, Loss 0.038\n",
      "Training Accuracy: 0.9595, Testing Accuracy: 0.9657\n",
      "\n"
     ]
    },
    {
     "name": "stdout",
     "output_type": "stream",
     "text": [
      "Epoch 230, Loss 0.0376\n",
      "Training Accuracy: 0.9599, Testing Accuracy: 0.9657\n",
      "\n"
     ]
    },
    {
     "name": "stdout",
     "output_type": "stream",
     "text": [
      "Epoch 240, Loss 0.0373\n",
      "Training Accuracy: 0.9600, Testing Accuracy: 0.9657\n",
      "\n"
     ]
    },
    {
     "data": {
      "text/plain": [
       "0.014813377080188499"
      ]
     },
     "execution_count": 23,
     "metadata": {},
     "output_type": "execute_result"
    }
   ],
   "source": [
    "lr_learner.train_loop(dl)"
   ]
  },
  {
   "cell_type": "code",
   "execution_count": 24,
   "id": "ca410940",
   "metadata": {
    "execution": {
     "iopub.execute_input": "2021-12-20T20:11:05.640237Z",
     "iopub.status.busy": "2021-12-20T20:11:05.639578Z",
     "iopub.status.idle": "2021-12-20T20:11:05.897280Z",
     "shell.execute_reply": "2021-12-20T20:11:05.896737Z"
    },
    "papermill": {
     "duration": 0.318234,
     "end_time": "2021-12-20T20:11:05.897418",
     "exception": false,
     "start_time": "2021-12-20T20:11:05.579184",
     "status": "completed"
    },
    "tags": []
   },
   "outputs": [
    {
     "data": {
      "text/plain": [
       "<matplotlib.legend.Legend at 0x7fde3f247c18>"
      ]
     },
     "execution_count": 24,
     "metadata": {},
     "output_type": "execute_result"
    },
    {
     "data": {
      "image/png": "[encoded data removed]",
      "text/plain": [
       "<Figure size 1080x720 with 1 Axes>"
      ]
     },
     "metadata": {
      "needs_background": "light"
     },
     "output_type": "display_data"
    }
   ],
   "source": [
    "#comparing the results of NN and LR\n",
    "plt.figure(figsize=(15,10))\n",
    "\n",
    "# Neural Network plots\n",
    "plt.plot(acc_nn.accuracies, 'r-', label = \"Training Accuracies - NN\")\n",
    "plt.plot(acc_nn.test_accuracies, 'g-', label = \"Testing Accuracies - NN\")\n",
    "\n",
    "# Logistic Regression plots\n",
    "plt.plot(acc_lr.accuracies, 'k-', label = \"Training Accuracies - LR\")\n",
    "plt.plot(acc_lr.test_accuracies, 'b-', label = \"Testing Accuracies - LR\")\n",
    "plt.legend()"
   ]
  },
  {
   "cell_type": "markdown",
   "id": "80dfb35c",
   "metadata": {
    "papermill": {
     "duration": 0.047759,
     "end_time": "2021-12-20T20:11:05.993218",
     "exception": false,
     "start_time": "2021-12-20T20:11:05.945459",
     "status": "completed"
    },
    "tags": []
   },
   "source": [
    "#### Plotting the outputs of this layer of the NN.\n"
   ]
  },
  {
   "cell_type": "code",
   "execution_count": 25,
   "id": "45eb2ff5",
   "metadata": {
    "execution": {
     "iopub.execute_input": "2021-12-20T20:11:06.095930Z",
     "iopub.status.busy": "2021-12-20T20:11:06.094352Z",
     "iopub.status.idle": "2021-12-20T20:11:06.115932Z",
     "shell.execute_reply": "2021-12-20T20:11:06.116430Z"
    },
    "papermill": {
     "duration": 0.075571,
     "end_time": "2021-12-20T20:11:06.116589",
     "exception": false,
     "start_time": "2021-12-20T20:11:06.041018",
     "status": "completed"
    },
    "tags": []
   },
   "outputs": [],
   "source": [
    "new_model = Model(layers[:-2])\n",
    "testing_plot = new_model(testing_data_x)"
   ]
  },
  {
   "cell_type": "code",
   "execution_count": 26,
   "id": "4c0a5485",
   "metadata": {
    "execution": {
     "iopub.execute_input": "2021-12-20T20:11:06.222934Z",
     "iopub.status.busy": "2021-12-20T20:11:06.221998Z",
     "iopub.status.idle": "2021-12-20T20:11:06.447291Z",
     "shell.execute_reply": "2021-12-20T20:11:06.447758Z"
    },
    "papermill": {
     "duration": 0.282919,
     "end_time": "2021-12-20T20:11:06.447921",
     "exception": false,
     "start_time": "2021-12-20T20:11:06.165002",
     "status": "completed"
    },
    "tags": []
   },
   "outputs": [
    {
     "data": {
      "text/plain": [
       "Text(0.5, 1.0, 'Outputs')"
      ]
     },
     "execution_count": 26,
     "metadata": {},
     "output_type": "execute_result"
    },
    {
     "data": {
      "image/png": "[encoded data removed]",
      "text/plain": [
       "<Figure size 576x504 with 1 Axes>"
      ]
     },
     "metadata": {
      "needs_background": "light"
     },
     "output_type": "display_data"
    }
   ],
   "source": [
    "# Plotting the scatter plot of points and color coding by class\n",
    "plt.figure(figsize=(8,7))\n",
    "plt.scatter(testing_plot[:,0], testing_plot[:,1], alpha = 0.1, c = y_test.ravel());\n",
    "plt.title('Outputs')"
   ]
  },
  {
   "cell_type": "markdown",
   "id": "a74fcf8f",
   "metadata": {
    "papermill": {
     "duration": 0.049663,
     "end_time": "2021-12-20T20:11:06.547858",
     "exception": false,
     "start_time": "2021-12-20T20:11:06.498195",
     "status": "completed"
    },
    "tags": []
   },
   "source": [
    "Probability contours"
   ]
  },
  {
   "cell_type": "code",
   "execution_count": 27,
   "id": "d0afc8e3",
   "metadata": {
    "execution": {
     "iopub.execute_input": "2021-12-20T20:11:06.652625Z",
     "iopub.status.busy": "2021-12-20T20:11:06.650934Z",
     "iopub.status.idle": "2021-12-20T20:11:06.667595Z",
     "shell.execute_reply": "2021-12-20T20:11:06.667060Z"
    },
    "papermill": {
     "duration": 0.07009,
     "end_time": "2021-12-20T20:11:06.667740",
     "exception": false,
     "start_time": "2021-12-20T20:11:06.597650",
     "status": "completed"
    },
    "tags": []
   },
   "outputs": [],
   "source": [
    "model_prob = Model(layers[-2:]) "
   ]
  },
  {
   "cell_type": "code",
   "execution_count": 28,
   "id": "9b96e238",
   "metadata": {
    "execution": {
     "iopub.execute_input": "2021-12-20T20:11:06.806224Z",
     "iopub.status.busy": "2021-12-20T20:11:06.805615Z",
     "iopub.status.idle": "2021-12-20T20:11:06.820295Z",
     "shell.execute_reply": "2021-12-20T20:11:06.820770Z"
    },
    "papermill": {
     "duration": 0.070124,
     "end_time": "2021-12-20T20:11:06.820932",
     "exception": false,
     "start_time": "2021-12-20T20:11:06.750808",
     "status": "completed"
    },
    "tags": []
   },
   "outputs": [],
   "source": [
    "#creating the x and y ranges according to the above generated plot.\n",
    "x_range = np.linspace(-4, 1, 100) \n",
    "y_range = np.linspace(-6, 6, 100) \n",
    "x_grid, y_grid = np.meshgrid(x_range, y_range) # x_grid and y_grig are of size 100 X 100\n",
    "\n",
    "# converting x_grid and y_grid to continuous arrays\n",
    "x_gridflat = np.ravel(x_grid)\n",
    "y_gridflat = np.ravel(y_grid)\n",
    "\n",
    "# The last layer of the current model takes two columns as input. Hence transpose of np.vstack() is required.\n",
    "X = np.vstack((x_gridflat, y_gridflat)).T\n",
    "\n",
    "prob_contour = model_prob(X).reshape(100,100) "
   ]
  },
  {
   "cell_type": "code",
   "execution_count": 29,
   "id": "da72499a",
   "metadata": {
    "execution": {
     "iopub.execute_input": "2021-12-20T20:11:06.948963Z",
     "iopub.status.busy": "2021-12-20T20:11:06.948330Z",
     "iopub.status.idle": "2021-12-20T20:11:07.246464Z",
     "shell.execute_reply": "2021-12-20T20:11:07.245751Z"
    },
    "papermill": {
     "duration": 0.367087,
     "end_time": "2021-12-20T20:11:07.246617",
     "exception": false,
     "start_time": "2021-12-20T20:11:06.879530",
     "status": "completed"
    },
    "tags": []
   },
   "outputs": [
    {
     "data": {
      "image/png": "[encoded data removed]",
      "text/plain": [
       "<Figure size 720x648 with 1 Axes>"
      ]
     },
     "metadata": {
      "needs_background": "light"
     },
     "output_type": "display_data"
    }
   ],
   "source": [
    "plt.figure(figsize=(10,9))\n",
    "plt.scatter(testing_plot[:,0], testing_plot[:,1], alpha = 0.1, c = y_test.ravel())\n",
    "contours = plt.contour(x_grid,y_grid,prob_contour)\n",
    "plt.title('Probability Contours')\n",
    "plt.clabel(contours, inline = True );"
   ]
  },
  {
   "cell_type": "code",
   "execution_count": null,
   "id": "e81b4ac7",
   "metadata": {
    "papermill": {
     "duration": 0.056005,
     "end_time": "2021-12-20T20:11:07.362477",
     "exception": false,
     "start_time": "2021-12-20T20:11:07.306472",
     "status": "completed"
    },
    "tags": []
   },
   "outputs": [],
   "source": []
  }
 ],
 "metadata": {
  "kernelspec": {
   "display_name": "Python 3",
   "language": "python",
   "name": "python3"
  },
  "language_info": {
   "codemirror_mode": {
    "name": "ipython",
    "version": 3
   },
   "file_extension": ".py",
   "mimetype": "text/x-python",
   "name": "python",
   "nbconvert_exporter": "python",
   "pygments_lexer": "ipython3",
   "version": "3.6.15"
  },
  "papermill": {
   "default_parameters": {},
   "duration": 115.497685,
   "end_time": "2021-12-20T20:11:07.825988",
   "environment_variables": {},
   "exception": null,
   "input_path": "2020-08-11-part2.ipynb",
   "output_path": "2020-08-11-part2.ipynb",
   "parameters": {},
   "start_time": "2021-12-20T20:09:12.328303",
   "version": "2.3.3"
  }
 },
 "nbformat": 4,
 "nbformat_minor": 5
}