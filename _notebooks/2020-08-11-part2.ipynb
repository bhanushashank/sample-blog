{
 "cells": [
  {
   "cell_type": "markdown",
   "id": "98380cd3",
   "metadata": {
    "papermill": {
     "duration": 0.033552,
     "end_time": "2022-11-29T00:39:50.500379",
     "exception": false,
     "start_time": "2022-11-29T00:39:50.466827",
     "status": "completed"
    },
    "tags": []
   },
   "source": [
    "# Distinguish Your Own Digits (DYOD)"
   ]
  },
  {
   "cell_type": "markdown",
   "id": "ef31240d",
   "metadata": {
    "papermill": {
     "duration": 0.02668,
     "end_time": "2022-11-29T00:39:50.554149",
     "exception": false,
     "start_time": "2022-11-29T00:39:50.527469",
     "status": "completed"
    },
    "tags": []
   },
   "source": [
    "You are going to write a classifier that distinguishes between the number 3 and number 8."
   ]
  },
  {
   "cell_type": "code",
   "execution_count": 1,
   "id": "b15c8646",
   "metadata": {
    "execution": {
     "iopub.execute_input": "2022-11-29T00:39:50.620613Z",
     "iopub.status.busy": "2022-11-29T00:39:50.619772Z",
     "iopub.status.idle": "2022-11-29T00:39:50.631629Z",
     "shell.execute_reply": "2022-11-29T00:39:50.630956Z"
    },
    "papermill": {
     "duration": 0.050988,
     "end_time": "2022-11-29T00:39:50.631783",
     "exception": false,
     "start_time": "2022-11-29T00:39:50.580795",
     "status": "completed"
    },
    "tags": []
   },
   "outputs": [],
   "source": [
    "%load_ext autoreload\n",
    "%autoreload 2"
   ]
  },
  {
   "cell_type": "code",
   "execution_count": 2,
   "id": "22ef38dc",
   "metadata": {
    "execution": {
     "iopub.execute_input": "2022-11-29T00:39:50.695668Z",
     "iopub.status.busy": "2022-11-29T00:39:50.694953Z",
     "iopub.status.idle": "2022-11-29T00:39:51.327169Z",
     "shell.execute_reply": "2022-11-29T00:39:51.326390Z"
    },
    "papermill": {
     "duration": 0.666056,
     "end_time": "2022-11-29T00:39:51.327309",
     "exception": false,
     "start_time": "2022-11-29T00:39:50.661253",
     "status": "completed"
    },
    "tags": []
   },
   "outputs": [],
   "source": [
    "%matplotlib inline\n",
    "import numpy as np\n",
    "import matplotlib.pyplot as plt\n",
    "import pandas as pd"
   ]
  },
  {
   "cell_type": "markdown",
   "id": "ba036198",
   "metadata": {
    "papermill": {
     "duration": 0.02805,
     "end_time": "2022-11-29T00:39:51.383159",
     "exception": false,
     "start_time": "2022-11-29T00:39:51.355109",
     "status": "completed"
    },
    "tags": []
   },
   "source": [
    "From the command line run `pip install mnist`. This is a library that will help you bring down the mnist dataset. If you run this from a notebook, you need to put  `!pip install mnist` in a cell by itself."
   ]
  },
  {
   "cell_type": "code",
   "execution_count": 3,
   "id": "bb6ad8a1",
   "metadata": {
    "execution": {
     "iopub.execute_input": "2022-11-29T00:39:51.443916Z",
     "iopub.status.busy": "2022-11-29T00:39:51.443191Z",
     "iopub.status.idle": "2022-11-29T00:39:53.386808Z",
     "shell.execute_reply": "2022-11-29T00:39:53.385704Z"
    },
    "papermill": {
     "duration": 1.976654,
     "end_time": "2022-11-29T00:39:53.386955",
     "exception": false,
     "start_time": "2022-11-29T00:39:51.410301",
     "status": "completed"
    },
    "tags": []
   },
   "outputs": [
    {
     "name": "stdout",
     "output_type": "stream",
     "text": [
      "Collecting mnist\r\n"
     ]
    },
    {
     "name": "stdout",
     "output_type": "stream",
     "text": [
      "  Downloading mnist-0.2.2-py2.py3-none-any.whl (3.5 kB)\r\n",
      "Requirement already satisfied: numpy in /opt/hostedtoolcache/Python/3.6.15/x64/lib/python3.6/site-packages (from mnist) (1.19.5)\r\n"
     ]
    },
    {
     "name": "stdout",
     "output_type": "stream",
     "text": [
      "Installing collected packages: mnist\r\n",
      "Successfully installed mnist-0.2.2\r\n"
     ]
    }
   ],
   "source": [
    "!pip install mnist"
   ]
  },
  {
   "cell_type": "markdown",
   "id": "69df9c9a",
   "metadata": {
    "papermill": {
     "duration": 0.030632,
     "end_time": "2022-11-29T00:39:53.445860",
     "exception": false,
     "start_time": "2022-11-29T00:39:53.415228",
     "status": "completed"
    },
    "tags": []
   },
   "source": [
    "## Preparing the Data"
   ]
  },
  {
   "cell_type": "code",
   "execution_count": 4,
   "id": "7f69d806",
   "metadata": {
    "execution": {
     "iopub.execute_input": "2022-11-29T00:39:53.506606Z",
     "iopub.status.busy": "2022-11-29T00:39:53.505904Z",
     "iopub.status.idle": "2022-11-29T00:39:53.524035Z",
     "shell.execute_reply": "2022-11-29T00:39:53.523464Z"
    },
    "papermill": {
     "duration": 0.050503,
     "end_time": "2022-11-29T00:39:53.524165",
     "exception": false,
     "start_time": "2022-11-29T00:39:53.473662",
     "status": "completed"
    },
    "tags": []
   },
   "outputs": [],
   "source": [
    "import mnist"
   ]
  },
  {
   "cell_type": "code",
   "execution_count": 5,
   "id": "a411e44f",
   "metadata": {
    "execution": {
     "iopub.execute_input": "2022-11-29T00:39:53.584570Z",
     "iopub.status.busy": "2022-11-29T00:39:53.583887Z",
     "iopub.status.idle": "2022-11-29T00:39:55.826436Z",
     "shell.execute_reply": "2022-11-29T00:39:55.825845Z"
    },
    "papermill": {
     "duration": 2.274653,
     "end_time": "2022-11-29T00:39:55.826581",
     "exception": false,
     "start_time": "2022-11-29T00:39:53.551928",
     "status": "completed"
    },
    "tags": []
   },
   "outputs": [],
   "source": [
    "train_images = mnist.train_images()\n",
    "train_labels = mnist.train_labels()"
   ]
  },
  {
   "cell_type": "code",
   "execution_count": 6,
   "id": "dceab3a5",
   "metadata": {
    "execution": {
     "iopub.execute_input": "2022-11-29T00:39:55.886258Z",
     "iopub.status.busy": "2022-11-29T00:39:55.885567Z",
     "iopub.status.idle": "2022-11-29T00:39:55.901387Z",
     "shell.execute_reply": "2022-11-29T00:39:55.900716Z"
    },
    "papermill": {
     "duration": 0.047797,
     "end_time": "2022-11-29T00:39:55.901528",
     "exception": false,
     "start_time": "2022-11-29T00:39:55.853731",
     "status": "completed"
    },
    "tags": []
   },
   "outputs": [
    {
     "data": {
      "text/plain": [
       "((60000, 28, 28), (60000,))"
      ]
     },
     "execution_count": 6,
     "metadata": {},
     "output_type": "execute_result"
    }
   ],
   "source": [
    "train_images.shape, train_labels.shape"
   ]
  },
  {
   "cell_type": "code",
   "execution_count": 7,
   "id": "f50dc2bb",
   "metadata": {
    "execution": {
     "iopub.execute_input": "2022-11-29T00:39:55.961203Z",
     "iopub.status.busy": "2022-11-29T00:39:55.960510Z",
     "iopub.status.idle": "2022-11-29T00:39:56.480469Z",
     "shell.execute_reply": "2022-11-29T00:39:56.479814Z"
    },
    "papermill": {
     "duration": 0.551801,
     "end_time": "2022-11-29T00:39:56.480605",
     "exception": false,
     "start_time": "2022-11-29T00:39:55.928804",
     "status": "completed"
    },
    "tags": []
   },
   "outputs": [],
   "source": [
    "test_images = mnist.test_images()\n",
    "test_labels = mnist.test_labels()"
   ]
  },
  {
   "cell_type": "code",
   "execution_count": 8,
   "id": "fc38cf1b",
   "metadata": {
    "execution": {
     "iopub.execute_input": "2022-11-29T00:39:56.540272Z",
     "iopub.status.busy": "2022-11-29T00:39:56.539570Z",
     "iopub.status.idle": "2022-11-29T00:39:56.555132Z",
     "shell.execute_reply": "2022-11-29T00:39:56.555629Z"
    },
    "papermill": {
     "duration": 0.047521,
     "end_time": "2022-11-29T00:39:56.555781",
     "exception": false,
     "start_time": "2022-11-29T00:39:56.508260",
     "status": "completed"
    },
    "tags": []
   },
   "outputs": [
    {
     "data": {
      "text/plain": [
       "((10000, 28, 28), (10000,))"
      ]
     },
     "execution_count": 8,
     "metadata": {},
     "output_type": "execute_result"
    }
   ],
   "source": [
    "test_images.shape, test_labels.shape"
   ]
  },
  {
   "cell_type": "code",
   "execution_count": 9,
   "id": "f9ed8fe0",
   "metadata": {
    "execution": {
     "iopub.execute_input": "2022-11-29T00:39:56.616093Z",
     "iopub.status.busy": "2022-11-29T00:39:56.615406Z",
     "iopub.status.idle": "2022-11-29T00:39:56.772068Z",
     "shell.execute_reply": "2022-11-29T00:39:56.772600Z"
    },
    "papermill": {
     "duration": 0.189158,
     "end_time": "2022-11-29T00:39:56.772766",
     "exception": false,
     "start_time": "2022-11-29T00:39:56.583608",
     "status": "completed"
    },
    "tags": []
   },
   "outputs": [
    {
     "name": "stdout",
     "output_type": "stream",
     "text": [
      "2\n"
     ]
    },
    {
     "data": {
      "text/plain": [
       "<matplotlib.image.AxesImage at 0x7fd85ac3bcf8>"
      ]
     },
     "execution_count": 9,
     "metadata": {},
     "output_type": "execute_result"
    },
    {
     "data": {
      "image/png": "[encoded data removed]",
      "text/plain": [
       "<Figure size 432x288 with 1 Axes>"
      ]
     },
     "metadata": {
      "needs_background": "light"
     },
     "output_type": "display_data"
    }
   ],
   "source": [
    "image_index = 7776 # You may select anything up to 60,000\n",
    "print(train_labels[image_index]) \n",
    "plt.imshow(train_images[image_index], cmap='Greys')"
   ]
  },
  {
   "cell_type": "markdown",
   "id": "a8d2388d",
   "metadata": {
    "papermill": {
     "duration": 0.029159,
     "end_time": "2022-11-29T00:39:56.831810",
     "exception": false,
     "start_time": "2022-11-29T00:39:56.802651",
     "status": "completed"
    },
    "tags": []
   },
   "source": [
    "## Filter data to get 3 and 8 out"
   ]
  },
  {
   "cell_type": "code",
   "execution_count": 10,
   "id": "776f7fc7",
   "metadata": {
    "execution": {
     "iopub.execute_input": "2022-11-29T00:39:56.894312Z",
     "iopub.status.busy": "2022-11-29T00:39:56.893617Z",
     "iopub.status.idle": "2022-11-29T00:39:56.910667Z",
     "shell.execute_reply": "2022-11-29T00:39:56.911321Z"
    },
    "papermill": {
     "duration": 0.051024,
     "end_time": "2022-11-29T00:39:56.911465",
     "exception": false,
     "start_time": "2022-11-29T00:39:56.860441",
     "status": "completed"
    },
    "tags": []
   },
   "outputs": [],
   "source": [
    "train_filter = np.where((train_labels == 3 ) | (train_labels == 8))\n",
    "test_filter = np.where((test_labels == 3) | (test_labels == 8))\n",
    "X_train, y_train = train_images[train_filter], train_labels[train_filter]\n",
    "X_test, y_test = test_images[test_filter], test_labels[test_filter]"
   ]
  },
  {
   "cell_type": "markdown",
   "id": "948f0b7e",
   "metadata": {
    "papermill": {
     "duration": 0.029258,
     "end_time": "2022-11-29T00:39:56.970049",
     "exception": false,
     "start_time": "2022-11-29T00:39:56.940791",
     "status": "completed"
    },
    "tags": []
   },
   "source": [
    "We normalize the pizel values in the 0 to 1 range"
   ]
  },
  {
   "cell_type": "code",
   "execution_count": 11,
   "id": "ee4c2166",
   "metadata": {
    "execution": {
     "iopub.execute_input": "2022-11-29T00:39:57.032717Z",
     "iopub.status.busy": "2022-11-29T00:39:57.032041Z",
     "iopub.status.idle": "2022-11-29T00:39:57.081527Z",
     "shell.execute_reply": "2022-11-29T00:39:57.080903Z"
    },
    "papermill": {
     "duration": 0.082357,
     "end_time": "2022-11-29T00:39:57.081666",
     "exception": false,
     "start_time": "2022-11-29T00:39:56.999309",
     "status": "completed"
    },
    "tags": []
   },
   "outputs": [],
   "source": [
    "X_train = X_train/255.\n",
    "X_test = X_test/255."
   ]
  },
  {
   "cell_type": "markdown",
   "id": "ddcf4fab",
   "metadata": {
    "papermill": {
     "duration": 0.029393,
     "end_time": "2022-11-29T00:39:57.140478",
     "exception": false,
     "start_time": "2022-11-29T00:39:57.111085",
     "status": "completed"
    },
    "tags": []
   },
   "source": [
    "And setup the labels as 1 (when the digit is 3) and 0 (when the digit is 8)"
   ]
  },
  {
   "cell_type": "code",
   "execution_count": 12,
   "id": "7dc908f2",
   "metadata": {
    "execution": {
     "iopub.execute_input": "2022-11-29T00:39:57.203971Z",
     "iopub.status.busy": "2022-11-29T00:39:57.203294Z",
     "iopub.status.idle": "2022-11-29T00:39:57.218260Z",
     "shell.execute_reply": "2022-11-29T00:39:57.217691Z"
    },
    "papermill": {
     "duration": 0.048363,
     "end_time": "2022-11-29T00:39:57.218414",
     "exception": false,
     "start_time": "2022-11-29T00:39:57.170051",
     "status": "completed"
    },
    "tags": []
   },
   "outputs": [],
   "source": [
    "y_train = 1*(y_train==3)\n",
    "y_test = 1*(y_test==3)"
   ]
  },
  {
   "cell_type": "code",
   "execution_count": 13,
   "id": "01e4e969",
   "metadata": {
    "execution": {
     "iopub.execute_input": "2022-11-29T00:39:57.280592Z",
     "iopub.status.busy": "2022-11-29T00:39:57.279546Z",
     "iopub.status.idle": "2022-11-29T00:39:57.296380Z",
     "shell.execute_reply": "2022-11-29T00:39:57.295784Z"
    },
    "papermill": {
     "duration": 0.049492,
     "end_time": "2022-11-29T00:39:57.296509",
     "exception": false,
     "start_time": "2022-11-29T00:39:57.247017",
     "status": "completed"
    },
    "tags": []
   },
   "outputs": [
    {
     "data": {
      "text/plain": [
       "((11982, 28, 28), (1984, 28, 28))"
      ]
     },
     "execution_count": 13,
     "metadata": {},
     "output_type": "execute_result"
    }
   ],
   "source": [
    "X_train.shape, X_test.shape"
   ]
  },
  {
   "cell_type": "markdown",
   "id": "5ccf3f85",
   "metadata": {
    "papermill": {
     "duration": 0.029659,
     "end_time": "2022-11-29T00:39:57.355886",
     "exception": false,
     "start_time": "2022-11-29T00:39:57.326227",
     "status": "completed"
    },
    "tags": []
   },
   "source": [
    "We reshape the data to flatten the image pixels into a set of features or co-variates:"
   ]
  },
  {
   "cell_type": "code",
   "execution_count": 14,
   "id": "5286a4a3",
   "metadata": {
    "execution": {
     "iopub.execute_input": "2022-11-29T00:39:57.424558Z",
     "iopub.status.busy": "2022-11-29T00:39:57.423854Z",
     "iopub.status.idle": "2022-11-29T00:39:57.437689Z",
     "shell.execute_reply": "2022-11-29T00:39:57.437133Z"
    },
    "papermill": {
     "duration": 0.052463,
     "end_time": "2022-11-29T00:39:57.437829",
     "exception": false,
     "start_time": "2022-11-29T00:39:57.385366",
     "status": "completed"
    },
    "tags": []
   },
   "outputs": [
    {
     "data": {
      "text/plain": [
       "((11982, 784), (1984, 784))"
      ]
     },
     "execution_count": 14,
     "metadata": {},
     "output_type": "execute_result"
    }
   ],
   "source": [
    "X_train = X_train.reshape(X_train.shape[0], -1)\n",
    "X_test = X_test.reshape(X_test.shape[0], -1)\n",
    "X_train.shape, X_test.shape"
   ]
  },
  {
   "cell_type": "code",
   "execution_count": 15,
   "id": "73c5f88a",
   "metadata": {
    "execution": {
     "iopub.execute_input": "2022-11-29T00:39:57.503330Z",
     "iopub.status.busy": "2022-11-29T00:39:57.502616Z",
     "iopub.status.idle": "2022-11-29T00:39:57.522885Z",
     "shell.execute_reply": "2022-11-29T00:39:57.523397Z"
    },
    "papermill": {
     "duration": 0.056876,
     "end_time": "2022-11-29T00:39:57.523559",
     "exception": false,
     "start_time": "2022-11-29T00:39:57.466683",
     "status": "completed"
    },
    "tags": []
   },
   "outputs": [],
   "source": [
    "#Impoting functions from 'Kudzu'\n",
    "from kudzu.model import Model\n",
    "from kudzu.train import Learner\n",
    "from kudzu.optim import GD\n",
    "from kudzu.data import Data, Sampler,Dataloader\n",
    "\n",
    "from kudzu.callbacks import AccCallback\n",
    "from kudzu.callbacks import ClfCallback\n",
    "\n",
    "from kudzu.loss import MSE\n",
    "\n",
    "from kudzu.layer import Sigmoid,Relu\n",
    "from kudzu.layer import Affine"
   ]
  },
  {
   "cell_type": "markdown",
   "id": "bc01172a",
   "metadata": {
    "papermill": {
     "duration": 0.030265,
     "end_time": "2022-11-29T00:39:57.583743",
     "exception": false,
     "start_time": "2022-11-29T00:39:57.553478",
     "status": "completed"
    },
    "tags": []
   },
   "source": [
    "### Let us create a `Config` class, to store important parameters. \n",
    "This class essentially plays the role of a dictionary."
   ]
  },
  {
   "cell_type": "code",
   "execution_count": 16,
   "id": "978281aa",
   "metadata": {
    "execution": {
     "iopub.execute_input": "2022-11-29T00:39:57.650321Z",
     "iopub.status.busy": "2022-11-29T00:39:57.649627Z",
     "iopub.status.idle": "2022-11-29T00:39:57.663721Z",
     "shell.execute_reply": "2022-11-29T00:39:57.663160Z"
    },
    "papermill": {
     "duration": 0.050154,
     "end_time": "2022-11-29T00:39:57.663850",
     "exception": false,
     "start_time": "2022-11-29T00:39:57.613696",
     "status": "completed"
    },
    "tags": []
   },
   "outputs": [],
   "source": [
    "class Config:\n",
    "    pass\n",
    "config = Config()\n",
    "config.lr = 0.001\n",
    "config.num_epochs = 250\n",
    "config.bs = 50"
   ]
  },
  {
   "cell_type": "markdown",
   "id": "1385fa59",
   "metadata": {
    "papermill": {
     "duration": 0.029315,
     "end_time": "2022-11-29T00:39:57.722679",
     "exception": false,
     "start_time": "2022-11-29T00:39:57.693364",
     "status": "completed"
    },
    "tags": []
   },
   "source": [
    "### Running Models with the Training data\n",
    "Details about the network layers:\n",
    "- A first affine layer has 784 inputs and does 100 affine transforms. These are followed by a Relu\n",
    "- A second affine layer has 100 inputs from the 100 activations of the past layer, and does 100 affine transforms. These are followed by a Relu\n",
    "- A third affine layer has 100 activations and does 2 affine transformations to create an embedding for visualization. There is no non-linearity here.\n",
    "- A final \"logistic regression\" which has an affine transform from 2 inputs to 1 output, which is squeezed through a sigmoid.\n"
   ]
  },
  {
   "cell_type": "code",
   "execution_count": 17,
   "id": "2b9c66db",
   "metadata": {
    "execution": {
     "iopub.execute_input": "2022-11-29T00:39:57.787374Z",
     "iopub.status.busy": "2022-11-29T00:39:57.786529Z",
     "iopub.status.idle": "2022-11-29T00:39:57.800838Z",
     "shell.execute_reply": "2022-11-29T00:39:57.800180Z"
    },
    "papermill": {
     "duration": 0.048865,
     "end_time": "2022-11-29T00:39:57.800963",
     "exception": false,
     "start_time": "2022-11-29T00:39:57.752098",
     "status": "completed"
    },
    "tags": []
   },
   "outputs": [],
   "source": [
    "data = Data(X_train, y_train.reshape(-1,1))\n",
    "sampler = Sampler(data, config.bs, shuffle=True)\n",
    "\n",
    "dl = Dataloader(data, sampler)\n",
    "\n",
    "opt = GD(config.lr)\n",
    "loss = MSE()"
   ]
  },
  {
   "cell_type": "code",
   "execution_count": 18,
   "id": "b275e4c2",
   "metadata": {
    "execution": {
     "iopub.execute_input": "2022-11-29T00:39:57.865265Z",
     "iopub.status.busy": "2022-11-29T00:39:57.864554Z",
     "iopub.status.idle": "2022-11-29T00:39:57.879030Z",
     "shell.execute_reply": "2022-11-29T00:39:57.878481Z"
    },
    "papermill": {
     "duration": 0.048458,
     "end_time": "2022-11-29T00:39:57.879150",
     "exception": false,
     "start_time": "2022-11-29T00:39:57.830692",
     "status": "completed"
    },
    "tags": []
   },
   "outputs": [],
   "source": [
    "training_data_x = X_train\n",
    "testing_data_x = X_test\n",
    "training_data_y = y_train.reshape(-1,1)\n",
    "testing_data_y = y_test.reshape(-1,1)"
   ]
  },
  {
   "cell_type": "code",
   "execution_count": 19,
   "id": "76951160",
   "metadata": {
    "execution": {
     "iopub.execute_input": "2022-11-29T00:39:57.940911Z",
     "iopub.status.busy": "2022-11-29T00:39:57.940270Z",
     "iopub.status.idle": "2022-11-29T00:39:57.960285Z",
     "shell.execute_reply": "2022-11-29T00:39:57.959731Z"
    },
    "papermill": {
     "duration": 0.051738,
     "end_time": "2022-11-29T00:39:57.960405",
     "exception": false,
     "start_time": "2022-11-29T00:39:57.908667",
     "status": "completed"
    },
    "tags": []
   },
   "outputs": [
    {
     "name": "stdout",
     "output_type": "stream",
     "text": [
      "xavier\n",
      "xavier\n",
      "xavier\n",
      "xavier\n",
      "xavier\n"
     ]
    }
   ],
   "source": [
    "layers = [Affine(\"first\", 784, 100), Relu(\"first\"), Affine(\"second\", 100, 100), Relu(\"second\"), Affine(\"third\", 100, 2), Affine(\"last\", 2, 1), Sigmoid(\"last\")]\n",
    "model_nn = Model(layers)\n",
    "model_lr = Model([Affine(\"logits\", 784, 1), Sigmoid(\"sigmoid\")])"
   ]
  },
  {
   "cell_type": "code",
   "execution_count": 20,
   "id": "6eede77a",
   "metadata": {
    "execution": {
     "iopub.execute_input": "2022-11-29T00:39:58.029467Z",
     "iopub.status.busy": "2022-11-29T00:39:58.028748Z",
     "iopub.status.idle": "2022-11-29T00:39:58.041076Z",
     "shell.execute_reply": "2022-11-29T00:39:58.040507Z"
    },
    "papermill": {
     "duration": 0.050456,
     "end_time": "2022-11-29T00:39:58.041197",
     "exception": false,
     "start_time": "2022-11-29T00:39:57.990741",
     "status": "completed"
    },
    "tags": []
   },
   "outputs": [],
   "source": [
    "nn_learner = Learner(loss, model_nn, opt, config.num_epochs)\n",
    "acc_nn = ClfCallback(nn_learner, config.bs, training_data_x , testing_data_x, training_data_y, testing_data_y)\n",
    "nn_learner.set_callbacks([acc_nn])"
   ]
  },
  {
   "cell_type": "code",
   "execution_count": 21,
   "id": "877b6cc7",
   "metadata": {
    "execution": {
     "iopub.execute_input": "2022-11-29T00:39:58.107046Z",
     "iopub.status.busy": "2022-11-29T00:39:58.106394Z",
     "iopub.status.idle": "2022-11-29T00:39:58.121567Z",
     "shell.execute_reply": "2022-11-29T00:39:58.120998Z"
    },
    "papermill": {
     "duration": 0.050647,
     "end_time": "2022-11-29T00:39:58.121693",
     "exception": false,
     "start_time": "2022-11-29T00:39:58.071046",
     "status": "completed"
    },
    "tags": []
   },
   "outputs": [],
   "source": [
    "lr_learner = Learner(loss, model_lr, opt, config.num_epochs)\n",
    "acc_lr = ClfCallback(lr_learner, config.bs, training_data_x , testing_data_x, training_data_y, testing_data_y)\n",
    "lr_learner.set_callbacks([acc_lr])"
   ]
  },
  {
   "cell_type": "code",
   "execution_count": 22,
   "id": "d9b133c3",
   "metadata": {
    "execution": {
     "iopub.execute_input": "2022-11-29T00:39:58.184515Z",
     "iopub.status.busy": "2022-11-29T00:39:58.183850Z",
     "iopub.status.idle": "2022-11-29T00:41:26.147465Z",
     "shell.execute_reply": "2022-11-29T00:41:26.148125Z"
    },
    "papermill": {
     "duration": 87.996671,
     "end_time": "2022-11-29T00:41:26.148284",
     "exception": false,
     "start_time": "2022-11-29T00:39:58.151613",
     "status": "completed"
    },
    "tags": []
   },
   "outputs": [
    {
     "name": "stdout",
     "output_type": "stream",
     "text": [
      "Epoch 0, Loss 0.2311\n",
      "Training Accuracy: 0.7328, Testing Accuracy: 0.7198\n",
      "\n"
     ]
    },
    {
     "name": "stdout",
     "output_type": "stream",
     "text": [
      "Epoch 10, Loss 0.1135\n",
      "Training Accuracy: 0.8990, Testing Accuracy: 0.9078\n",
      "\n"
     ]
    },
    {
     "name": "stdout",
     "output_type": "stream",
     "text": [
      "Epoch 20, Loss 0.0651\n",
      "Training Accuracy: 0.9363, Testing Accuracy: 0.9441\n",
      "\n"
     ]
    },
    {
     "name": "stdout",
     "output_type": "stream",
     "text": [
      "Epoch 30, Loss 0.0478\n",
      "Training Accuracy: 0.9512, Testing Accuracy: 0.9597\n",
      "\n"
     ]
    },
    {
     "name": "stdout",
     "output_type": "stream",
     "text": [
      "Epoch 40, Loss 0.0401\n",
      "Training Accuracy: 0.9569, Testing Accuracy: 0.9647\n",
      "\n"
     ]
    },
    {
     "name": "stdout",
     "output_type": "stream",
     "text": [
      "Epoch 50, Loss 0.0358\n",
      "Training Accuracy: 0.9603, Testing Accuracy: 0.9662\n",
      "\n"
     ]
    },
    {
     "name": "stdout",
     "output_type": "stream",
     "text": [
      "Epoch 60, Loss 0.0331\n",
      "Training Accuracy: 0.9628, Testing Accuracy: 0.9662\n",
      "\n"
     ]
    },
    {
     "name": "stdout",
     "output_type": "stream",
     "text": [
      "Epoch 70, Loss 0.0312\n",
      "Training Accuracy: 0.9647, Testing Accuracy: 0.9652\n",
      "\n"
     ]
    },
    {
     "name": "stdout",
     "output_type": "stream",
     "text": [
      "Epoch 80, Loss 0.0297\n",
      "Training Accuracy: 0.9664, Testing Accuracy: 0.9657\n",
      "\n"
     ]
    },
    {
     "name": "stdout",
     "output_type": "stream",
     "text": [
      "Epoch 90, Loss 0.0284\n",
      "Training Accuracy: 0.9681, Testing Accuracy: 0.9667\n",
      "\n"
     ]
    },
    {
     "name": "stdout",
     "output_type": "stream",
     "text": [
      "Epoch 100, Loss 0.0274\n",
      "Training Accuracy: 0.9685, Testing Accuracy: 0.9677\n",
      "\n"
     ]
    },
    {
     "name": "stdout",
     "output_type": "stream",
     "text": [
      "Epoch 110, Loss 0.0266\n",
      "Training Accuracy: 0.9690, Testing Accuracy: 0.9677\n",
      "\n"
     ]
    },
    {
     "name": "stdout",
     "output_type": "stream",
     "text": [
      "Epoch 120, Loss 0.0258\n",
      "Training Accuracy: 0.9699, Testing Accuracy: 0.9677\n",
      "\n"
     ]
    },
    {
     "name": "stdout",
     "output_type": "stream",
     "text": [
      "Epoch 130, Loss 0.0251\n",
      "Training Accuracy: 0.9710, Testing Accuracy: 0.9682\n",
      "\n"
     ]
    },
    {
     "name": "stdout",
     "output_type": "stream",
     "text": [
      "Epoch 140, Loss 0.0245\n",
      "Training Accuracy: 0.9718, Testing Accuracy: 0.9693\n",
      "\n"
     ]
    },
    {
     "name": "stdout",
     "output_type": "stream",
     "text": [
      "Epoch 150, Loss 0.0239\n",
      "Training Accuracy: 0.9722, Testing Accuracy: 0.9703\n",
      "\n"
     ]
    },
    {
     "name": "stdout",
     "output_type": "stream",
     "text": [
      "Epoch 160, Loss 0.0234\n",
      "Training Accuracy: 0.9728, Testing Accuracy: 0.9703\n",
      "\n"
     ]
    },
    {
     "name": "stdout",
     "output_type": "stream",
     "text": [
      "Epoch 170, Loss 0.0229\n",
      "Training Accuracy: 0.9735, Testing Accuracy: 0.9708\n",
      "\n"
     ]
    },
    {
     "name": "stdout",
     "output_type": "stream",
     "text": [
      "Epoch 180, Loss 0.0224\n",
      "Training Accuracy: 0.9737, Testing Accuracy: 0.9708\n",
      "\n"
     ]
    },
    {
     "name": "stdout",
     "output_type": "stream",
     "text": [
      "Epoch 190, Loss 0.022\n",
      "Training Accuracy: 0.9745, Testing Accuracy: 0.9708\n",
      "\n"
     ]
    },
    {
     "name": "stdout",
     "output_type": "stream",
     "text": [
      "Epoch 200, Loss 0.0216\n",
      "Training Accuracy: 0.9750, Testing Accuracy: 0.9713\n",
      "\n"
     ]
    },
    {
     "name": "stdout",
     "output_type": "stream",
     "text": [
      "Epoch 210, Loss 0.0212\n",
      "Training Accuracy: 0.9754, Testing Accuracy: 0.9718\n",
      "\n"
     ]
    },
    {
     "name": "stdout",
     "output_type": "stream",
     "text": [
      "Epoch 220, Loss 0.0208\n",
      "Training Accuracy: 0.9758, Testing Accuracy: 0.9728\n",
      "\n"
     ]
    },
    {
     "name": "stdout",
     "output_type": "stream",
     "text": [
      "Epoch 230, Loss 0.0204\n",
      "Training Accuracy: 0.9766, Testing Accuracy: 0.9728\n",
      "\n"
     ]
    },
    {
     "name": "stdout",
     "output_type": "stream",
     "text": [
      "Epoch 240, Loss 0.0201\n",
      "Training Accuracy: 0.9770, Testing Accuracy: 0.9733\n",
      "\n"
     ]
    },
    {
     "data": {
      "text/plain": [
       "0.0051658466015045024"
      ]
     },
     "execution_count": 22,
     "metadata": {},
     "output_type": "execute_result"
    }
   ],
   "source": [
    "nn_learner.train_loop(dl)"
   ]
  },
  {
   "cell_type": "code",
   "execution_count": 23,
   "id": "e0163366",
   "metadata": {
    "execution": {
     "iopub.execute_input": "2022-11-29T00:41:26.236420Z",
     "iopub.status.busy": "2022-11-29T00:41:26.235699Z",
     "iopub.status.idle": "2022-11-29T00:41:42.223638Z",
     "shell.execute_reply": "2022-11-29T00:41:42.224592Z"
    },
    "papermill": {
     "duration": 16.037168,
     "end_time": "2022-11-29T00:41:42.224757",
     "exception": false,
     "start_time": "2022-11-29T00:41:26.187589",
     "status": "completed"
    },
    "tags": []
   },
   "outputs": [
    {
     "name": "stdout",
     "output_type": "stream",
     "text": [
      "Epoch 0, Loss 0.2251\n",
      "Training Accuracy: 0.7162, Testing Accuracy: 0.7152\n",
      "\n"
     ]
    },
    {
     "name": "stdout",
     "output_type": "stream",
     "text": [
      "Epoch 10, Loss 0.1032\n",
      "Training Accuracy: 0.9058, Testing Accuracy: 0.9128\n",
      "\n"
     ]
    },
    {
     "name": "stdout",
     "output_type": "stream",
     "text": [
      "Epoch 20, Loss 0.0793\n",
      "Training Accuracy: 0.9252, Testing Accuracy: 0.9350\n",
      "\n"
     ]
    },
    {
     "name": "stdout",
     "output_type": "stream",
     "text": [
      "Epoch 30, Loss 0.0684\n",
      "Training Accuracy: 0.9341, Testing Accuracy: 0.9471\n",
      "\n"
     ]
    },
    {
     "name": "stdout",
     "output_type": "stream",
     "text": [
      "Epoch 40, Loss 0.0618\n",
      "Training Accuracy: 0.9395, Testing Accuracy: 0.9511\n",
      "\n"
     ]
    },
    {
     "name": "stdout",
     "output_type": "stream",
     "text": [
      "Epoch 50, Loss 0.0573\n",
      "Training Accuracy: 0.9439, Testing Accuracy: 0.9531\n",
      "\n"
     ]
    },
    {
     "name": "stdout",
     "output_type": "stream",
     "text": [
      "Epoch 60, Loss 0.054\n",
      "Training Accuracy: 0.9467, Testing Accuracy: 0.9546\n",
      "\n"
     ]
    },
    {
     "name": "stdout",
     "output_type": "stream",
     "text": [
      "Epoch 70, Loss 0.0515\n",
      "Training Accuracy: 0.9487, Testing Accuracy: 0.9561\n",
      "\n"
     ]
    },
    {
     "name": "stdout",
     "output_type": "stream",
     "text": [
      "Epoch 80, Loss 0.0495\n",
      "Training Accuracy: 0.9508, Testing Accuracy: 0.9587\n",
      "\n"
     ]
    },
    {
     "name": "stdout",
     "output_type": "stream",
     "text": [
      "Epoch 90, Loss 0.0478\n",
      "Training Accuracy: 0.9521, Testing Accuracy: 0.9602\n",
      "\n"
     ]
    },
    {
     "name": "stdout",
     "output_type": "stream",
     "text": [
      "Epoch 100, Loss 0.0464\n",
      "Training Accuracy: 0.9530, Testing Accuracy: 0.9612\n",
      "\n"
     ]
    },
    {
     "name": "stdout",
     "output_type": "stream",
     "text": [
      "Epoch 110, Loss 0.0452\n",
      "Training Accuracy: 0.9543, Testing Accuracy: 0.9622\n",
      "\n"
     ]
    },
    {
     "name": "stdout",
     "output_type": "stream",
     "text": [
      "Epoch 120, Loss 0.0441\n",
      "Training Accuracy: 0.9548, Testing Accuracy: 0.9632\n",
      "\n"
     ]
    },
    {
     "name": "stdout",
     "output_type": "stream",
     "text": [
      "Epoch 130, Loss 0.0432\n",
      "Training Accuracy: 0.9557, Testing Accuracy: 0.9632\n",
      "\n"
     ]
    },
    {
     "name": "stdout",
     "output_type": "stream",
     "text": [
      "Epoch 140, Loss 0.0423\n",
      "Training Accuracy: 0.9565, Testing Accuracy: 0.9642\n",
      "\n"
     ]
    },
    {
     "name": "stdout",
     "output_type": "stream",
     "text": [
      "Epoch 150, Loss 0.0416\n",
      "Training Accuracy: 0.9567, Testing Accuracy: 0.9637\n",
      "\n"
     ]
    },
    {
     "name": "stdout",
     "output_type": "stream",
     "text": [
      "Epoch 160, Loss 0.0409\n",
      "Training Accuracy: 0.9576, Testing Accuracy: 0.9647\n",
      "\n"
     ]
    },
    {
     "name": "stdout",
     "output_type": "stream",
     "text": [
      "Epoch 170, Loss 0.0403\n",
      "Training Accuracy: 0.9581, Testing Accuracy: 0.9647\n",
      "\n"
     ]
    },
    {
     "name": "stdout",
     "output_type": "stream",
     "text": [
      "Epoch 180, Loss 0.0397\n",
      "Training Accuracy: 0.9582, Testing Accuracy: 0.9647\n",
      "\n"
     ]
    },
    {
     "name": "stdout",
     "output_type": "stream",
     "text": [
      "Epoch 190, Loss 0.0392\n",
      "Training Accuracy: 0.9584, Testing Accuracy: 0.9642\n",
      "\n"
     ]
    },
    {
     "name": "stdout",
     "output_type": "stream",
     "text": [
      "Epoch 200, Loss 0.0387\n",
      "Training Accuracy: 0.9588, Testing Accuracy: 0.9647\n",
      "\n"
     ]
    },
    {
     "name": "stdout",
     "output_type": "stream",
     "text": [
      "Epoch 210, Loss 0.0383\n",
      "Training Accuracy: 0.9589, Testing Accuracy: 0.9657\n",
      "\n"
     ]
    },
    {
     "name": "stdout",
     "output_type": "stream",
     "text": [
      "Epoch 220, Loss 0.0379\n",
      "Training Accuracy: 0.9595, Testing Accuracy: 0.9662\n",
      "\n"
     ]
    },
    {
     "name": "stdout",
     "output_type": "stream",
     "text": [
      "Epoch 230, Loss 0.0375\n",
      "Training Accuracy: 0.9596, Testing Accuracy: 0.9662\n",
      "\n"
     ]
    },
    {
     "name": "stdout",
     "output_type": "stream",
     "text": [
      "Epoch 240, Loss 0.0371\n",
      "Training Accuracy: 0.9599, Testing Accuracy: 0.9657\n",
      "\n"
     ]
    },
    {
     "data": {
      "text/plain": [
       "0.04755281227034032"
      ]
     },
     "execution_count": 23,
     "metadata": {},
     "output_type": "execute_result"
    }
   ],
   "source": [
    "lr_learner.train_loop(dl)"
   ]
  },
  {
   "cell_type": "code",
   "execution_count": 24,
   "id": "ca410940",
   "metadata": {
    "execution": {
     "iopub.execute_input": "2022-11-29T00:41:42.332200Z",
     "iopub.status.busy": "2022-11-29T00:41:42.331494Z",
     "iopub.status.idle": "2022-11-29T00:41:42.585853Z",
     "shell.execute_reply": "2022-11-29T00:41:42.585243Z"
    },
    "papermill": {
     "duration": 0.314708,
     "end_time": "2022-11-29T00:41:42.585992",
     "exception": false,
     "start_time": "2022-11-29T00:41:42.271284",
     "status": "completed"
    },
    "tags": []
   },
   "outputs": [
    {
     "data": {
      "text/plain": [
       "<matplotlib.legend.Legend at 0x7fd84e01a3c8>"
      ]
     },
     "execution_count": 24,
     "metadata": {},
     "output_type": "execute_result"
    },
    {
     "data": {
      "image/png": "[encoded data removed]",
      "text/plain": [
       "<Figure size 1080x720 with 1 Axes>"
      ]
     },
     "metadata": {
      "needs_background": "light"
     },
     "output_type": "display_data"
    }
   ],
   "source": [
    "#comparing the results of NN and LR\n",
    "plt.figure(figsize=(15,10))\n",
    "\n",
    "# Neural Network plots\n",
    "plt.plot(acc_nn.accuracies, 'r-', label = \"Training Accuracies - NN\")\n",
    "plt.plot(acc_nn.test_accuracies, 'g-', label = \"Testing Accuracies - NN\")\n",
    "\n",
    "# Logistic Regression plots\n",
    "plt.plot(acc_lr.accuracies, 'k-', label = \"Training Accuracies - LR\")\n",
    "plt.plot(acc_lr.test_accuracies, 'b-', label = \"Testing Accuracies - LR\")\n",
    "plt.legend()"
   ]
  },
  {
   "cell_type": "markdown",
   "id": "80dfb35c",
   "metadata": {
    "papermill": {
     "duration": 0.048897,
     "end_time": "2022-11-29T00:41:42.685317",
     "exception": false,
     "start_time": "2022-11-29T00:41:42.636420",
     "status": "completed"
    },
    "tags": []
   },
   "source": [
    "#### Plotting the outputs of this layer of the NN.\n"
   ]
  },
  {
   "cell_type": "code",
   "execution_count": 25,
   "id": "45eb2ff5",
   "metadata": {
    "execution": {
     "iopub.execute_input": "2022-11-29T00:41:42.787190Z",
     "iopub.status.busy": "2022-11-29T00:41:42.786469Z",
     "iopub.status.idle": "2022-11-29T00:41:42.810741Z",
     "shell.execute_reply": "2022-11-29T00:41:42.810028Z"
    },
    "papermill": {
     "duration": 0.076585,
     "end_time": "2022-11-29T00:41:42.810894",
     "exception": false,
     "start_time": "2022-11-29T00:41:42.734309",
     "status": "completed"
    },
    "tags": []
   },
   "outputs": [],
   "source": [
    "new_model = Model(layers[:-2])\n",
    "testing_plot = new_model(testing_data_x)"
   ]
  },
  {
   "cell_type": "code",
   "execution_count": 26,
   "id": "4c0a5485",
   "metadata": {
    "execution": {
     "iopub.execute_input": "2022-11-29T00:41:42.911522Z",
     "iopub.status.busy": "2022-11-29T00:41:42.910805Z",
     "iopub.status.idle": "2022-11-29T00:41:43.165527Z",
     "shell.execute_reply": "2022-11-29T00:41:43.166035Z"
    },
    "papermill": {
     "duration": 0.307762,
     "end_time": "2022-11-29T00:41:43.166198",
     "exception": false,
     "start_time": "2022-11-29T00:41:42.858436",
     "status": "completed"
    },
    "tags": []
   },
   "outputs": [
    {
     "data": {
      "text/plain": [
       "Text(0.5, 1.0, 'Outputs')"
      ]
     },
     "execution_count": 26,
     "metadata": {},
     "output_type": "execute_result"
    },
    {
     "data": {
      "image/png": "[encoded data removed]",
      "text/plain": [
       "<Figure size 576x504 with 1 Axes>"
      ]
     },
     "metadata": {
      "needs_background": "light"
     },
     "output_type": "display_data"
    }
   ],
   "source": [
    "# Plotting the scatter plot of points and color coding by class\n",
    "plt.figure(figsize=(8,7))\n",
    "plt.scatter(testing_plot[:,0], testing_plot[:,1], alpha = 0.1, c = y_test.ravel());\n",
    "plt.title('Outputs')"
   ]
  },
  {
   "cell_type": "markdown",
   "id": "a74fcf8f",
   "metadata": {
    "papermill": {
     "duration": 0.049616,
     "end_time": "2022-11-29T00:41:43.265899",
     "exception": false,
     "start_time": "2022-11-29T00:41:43.216283",
     "status": "completed"
    },
    "tags": []
   },
   "source": [
    "Probability contours"
   ]
  },
  {
   "cell_type": "code",
   "execution_count": 27,
   "id": "d0afc8e3",
   "metadata": {
    "execution": {
     "iopub.execute_input": "2022-11-29T00:41:43.375340Z",
     "iopub.status.busy": "2022-11-29T00:41:43.373311Z",
     "iopub.status.idle": "2022-11-29T00:41:43.385765Z",
     "shell.execute_reply": "2022-11-29T00:41:43.385217Z"
    },
    "papermill": {
     "duration": 0.069997,
     "end_time": "2022-11-29T00:41:43.385902",
     "exception": false,
     "start_time": "2022-11-29T00:41:43.315905",
     "status": "completed"
    },
    "tags": []
   },
   "outputs": [],
   "source": [
    "model_prob = Model(layers[-2:]) "
   ]
  },
  {
   "cell_type": "code",
   "execution_count": 28,
   "id": "9b96e238",
   "metadata": {
    "execution": {
     "iopub.execute_input": "2022-11-29T00:41:43.530311Z",
     "iopub.status.busy": "2022-11-29T00:41:43.529601Z",
     "iopub.status.idle": "2022-11-29T00:41:43.544676Z",
     "shell.execute_reply": "2022-11-29T00:41:43.545209Z"
    },
    "papermill": {
     "duration": 0.10951,
     "end_time": "2022-11-29T00:41:43.545368",
     "exception": false,
     "start_time": "2022-11-29T00:41:43.435858",
     "status": "completed"
    },
    "tags": []
   },
   "outputs": [],
   "source": [
    "#creating the x and y ranges according to the above generated plot.\n",
    "x_range = np.linspace(-4, 1, 100) \n",
    "y_range = np.linspace(-6, 6, 100) \n",
    "x_grid, y_grid = np.meshgrid(x_range, y_range) # x_grid and y_grig are of size 100 X 100\n",
    "\n",
    "# converting x_grid and y_grid to continuous arrays\n",
    "x_gridflat = np.ravel(x_grid)\n",
    "y_gridflat = np.ravel(y_grid)\n",
    "\n",
    "# The last layer of the current model takes two columns as input. Hence transpose of np.vstack() is required.\n",
    "X = np.vstack((x_gridflat, y_gridflat)).T\n",
    "\n",
    "prob_contour = model_prob(X).reshape(100,100) "
   ]
  },
  {
   "cell_type": "code",
   "execution_count": 29,
   "id": "da72499a",
   "metadata": {
    "execution": {
     "iopub.execute_input": "2022-11-29T00:41:43.660538Z",
     "iopub.status.busy": "2022-11-29T00:41:43.659841Z",
     "iopub.status.idle": "2022-11-29T00:41:43.943550Z",
     "shell.execute_reply": "2022-11-29T00:41:43.944225Z"
    },
    "papermill": {
     "duration": 0.347771,
     "end_time": "2022-11-29T00:41:43.944385",
     "exception": false,
     "start_time": "2022-11-29T00:41:43.596614",
     "status": "completed"
    },
    "tags": []
   },
   "outputs": [
    {
     "data": {
      "image/png": "[encoded data removed]",
      "text/plain": [
       "<Figure size 720x648 with 1 Axes>"
      ]
     },
     "metadata": {
      "needs_background": "light"
     },
     "output_type": "display_data"
    }
   ],
   "source": [
    "plt.figure(figsize=(10,9))\n",
    "plt.scatter(testing_plot[:,0], testing_plot[:,1], alpha = 0.1, c = y_test.ravel())\n",
    "contours = plt.contour(x_grid,y_grid,prob_contour)\n",
    "plt.title('Probability Contours')\n",
    "plt.clabel(contours, inline = True );"
   ]
  },
  {
   "cell_type": "code",
   "execution_count": null,
   "id": "e81b4ac7",
   "metadata": {
    "papermill": {
     "duration": 0.053023,
     "end_time": "2022-11-29T00:41:44.051144",
     "exception": false,
     "start_time": "2022-11-29T00:41:43.998121",
     "status": "completed"
    },
    "tags": []
   },
   "outputs": [],
   "source": []
  }
 ],
 "metadata": {
  "kernelspec": {
   "display_name": "Python 3",
   "language": "python",
   "name": "python3"
  },
  "language_info": {
   "codemirror_mode": {
    "name": "ipython",
    "version": 3
   },
   "file_extension": ".py",
   "mimetype": "text/x-python",
   "name": "python",
   "nbconvert_exporter": "python",
   "pygments_lexer": "ipython3",
   "version": "3.6.15"
  },
  "papermill": {
   "default_parameters": {},
   "duration": 115.352275,
   "end_time": "2022-11-29T00:41:44.523925",
   "environment_variables": {},
   "exception": null,
   "input_path": "2020-08-11-part2.ipynb",
   "output_path": "2020-08-11-part2.ipynb",
   "parameters": {},
   "start_time": "2022-11-29T00:39:49.171650",
   "version": "2.3.3"
  }
 },
 "nbformat": 4,
 "nbformat_minor": 5
}