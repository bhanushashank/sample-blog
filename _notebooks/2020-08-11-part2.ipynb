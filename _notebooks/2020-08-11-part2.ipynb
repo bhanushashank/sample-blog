{
 "cells": [
  {
   "cell_type": "markdown",
   "id": "98380cd3",
   "metadata": {
    "papermill": {
     "duration": 0.0289,
     "end_time": "2022-09-22T00:45:16.746952",
     "exception": false,
     "start_time": "2022-09-22T00:45:16.718052",
     "status": "completed"
    },
    "tags": []
   },
   "source": [
    "# Distinguish Your Own Digits (DYOD)"
   ]
  },
  {
   "cell_type": "markdown",
   "id": "ef31240d",
   "metadata": {
    "papermill": {
     "duration": 0.023853,
     "end_time": "2022-09-22T00:45:16.795372",
     "exception": false,
     "start_time": "2022-09-22T00:45:16.771519",
     "status": "completed"
    },
    "tags": []
   },
   "source": [
    "You are going to write a classifier that distinguishes between the number 3 and number 8."
   ]
  },
  {
   "cell_type": "code",
   "execution_count": 1,
   "id": "b15c8646",
   "metadata": {
    "execution": {
     "iopub.execute_input": "2022-09-22T00:45:16.853022Z",
     "iopub.status.busy": "2022-09-22T00:45:16.852449Z",
     "iopub.status.idle": "2022-09-22T00:45:16.863151Z",
     "shell.execute_reply": "2022-09-22T00:45:16.862673Z"
    },
    "papermill": {
     "duration": 0.044108,
     "end_time": "2022-09-22T00:45:16.863263",
     "exception": false,
     "start_time": "2022-09-22T00:45:16.819155",
     "status": "completed"
    },
    "tags": []
   },
   "outputs": [],
   "source": [
    "%load_ext autoreload\n",
    "%autoreload 2"
   ]
  },
  {
   "cell_type": "code",
   "execution_count": 2,
   "id": "22ef38dc",
   "metadata": {
    "execution": {
     "iopub.execute_input": "2022-09-22T00:45:16.915039Z",
     "iopub.status.busy": "2022-09-22T00:45:16.914458Z",
     "iopub.status.idle": "2022-09-22T00:45:17.414799Z",
     "shell.execute_reply": "2022-09-22T00:45:17.415259Z"
    },
    "papermill": {
     "duration": 0.528288,
     "end_time": "2022-09-22T00:45:17.415399",
     "exception": false,
     "start_time": "2022-09-22T00:45:16.887111",
     "status": "completed"
    },
    "tags": []
   },
   "outputs": [],
   "source": [
    "%matplotlib inline\n",
    "import numpy as np\n",
    "import matplotlib.pyplot as plt\n",
    "import pandas as pd"
   ]
  },
  {
   "cell_type": "markdown",
   "id": "ba036198",
   "metadata": {
    "papermill": {
     "duration": 0.023915,
     "end_time": "2022-09-22T00:45:17.463240",
     "exception": false,
     "start_time": "2022-09-22T00:45:17.439325",
     "status": "completed"
    },
    "tags": []
   },
   "source": [
    "From the command line run `pip install mnist`. This is a library that will help you bring down the mnist dataset. If you run this from a notebook, you need to put  `!pip install mnist` in a cell by itself."
   ]
  },
  {
   "cell_type": "code",
   "execution_count": 3,
   "id": "bb6ad8a1",
   "metadata": {
    "execution": {
     "iopub.execute_input": "2022-09-22T00:45:17.513679Z",
     "iopub.status.busy": "2022-09-22T00:45:17.513136Z",
     "iopub.status.idle": "2022-09-22T00:45:19.165467Z",
     "shell.execute_reply": "2022-09-22T00:45:19.164988Z"
    },
    "papermill": {
     "duration": 1.678318,
     "end_time": "2022-09-22T00:45:19.165585",
     "exception": false,
     "start_time": "2022-09-22T00:45:17.487267",
     "status": "completed"
    },
    "tags": []
   },
   "outputs": [
    {
     "name": "stdout",
     "output_type": "stream",
     "text": [
      "Collecting mnist\r\n"
     ]
    },
    {
     "name": "stdout",
     "output_type": "stream",
     "text": [
      "  Downloading mnist-0.2.2-py2.py3-none-any.whl (3.5 kB)\r\n",
      "Requirement already satisfied: numpy in /opt/hostedtoolcache/Python/3.6.15/x64/lib/python3.6/site-packages (from mnist) (1.19.5)\r\n"
     ]
    },
    {
     "name": "stdout",
     "output_type": "stream",
     "text": [
      "Installing collected packages: mnist\r\n"
     ]
    },
    {
     "name": "stdout",
     "output_type": "stream",
     "text": [
      "Successfully installed mnist-0.2.2\r\n"
     ]
    }
   ],
   "source": [
    "!pip install mnist"
   ]
  },
  {
   "cell_type": "markdown",
   "id": "69df9c9a",
   "metadata": {
    "papermill": {
     "duration": 0.025282,
     "end_time": "2022-09-22T00:45:19.216235",
     "exception": false,
     "start_time": "2022-09-22T00:45:19.190953",
     "status": "completed"
    },
    "tags": []
   },
   "source": [
    "## Preparing the Data"
   ]
  },
  {
   "cell_type": "code",
   "execution_count": 4,
   "id": "7f69d806",
   "metadata": {
    "execution": {
     "iopub.execute_input": "2022-09-22T00:45:19.270776Z",
     "iopub.status.busy": "2022-09-22T00:45:19.270206Z",
     "iopub.status.idle": "2022-09-22T00:45:19.283023Z",
     "shell.execute_reply": "2022-09-22T00:45:19.283475Z"
    },
    "papermill": {
     "duration": 0.042443,
     "end_time": "2022-09-22T00:45:19.283590",
     "exception": false,
     "start_time": "2022-09-22T00:45:19.241147",
     "status": "completed"
    },
    "tags": []
   },
   "outputs": [],
   "source": [
    "import mnist"
   ]
  },
  {
   "cell_type": "code",
   "execution_count": 5,
   "id": "a411e44f",
   "metadata": {
    "execution": {
     "iopub.execute_input": "2022-09-22T00:45:19.336829Z",
     "iopub.status.busy": "2022-09-22T00:45:19.336286Z",
     "iopub.status.idle": "2022-09-22T00:45:20.121026Z",
     "shell.execute_reply": "2022-09-22T00:45:20.120522Z"
    },
    "papermill": {
     "duration": 0.812508,
     "end_time": "2022-09-22T00:45:20.121138",
     "exception": false,
     "start_time": "2022-09-22T00:45:19.308630",
     "status": "completed"
    },
    "tags": []
   },
   "outputs": [],
   "source": [
    "train_images = mnist.train_images()\n",
    "train_labels = mnist.train_labels()"
   ]
  },
  {
   "cell_type": "code",
   "execution_count": 6,
   "id": "dceab3a5",
   "metadata": {
    "execution": {
     "iopub.execute_input": "2022-09-22T00:45:20.175994Z",
     "iopub.status.busy": "2022-09-22T00:45:20.175432Z",
     "iopub.status.idle": "2022-09-22T00:45:20.189548Z",
     "shell.execute_reply": "2022-09-22T00:45:20.189098Z"
    },
    "papermill": {
     "duration": 0.043209,
     "end_time": "2022-09-22T00:45:20.189648",
     "exception": false,
     "start_time": "2022-09-22T00:45:20.146439",
     "status": "completed"
    },
    "tags": []
   },
   "outputs": [
    {
     "data": {
      "text/plain": [
       "((60000, 28, 28), (60000,))"
      ]
     },
     "execution_count": 6,
     "metadata": {},
     "output_type": "execute_result"
    }
   ],
   "source": [
    "train_images.shape, train_labels.shape"
   ]
  },
  {
   "cell_type": "code",
   "execution_count": 7,
   "id": "f50dc2bb",
   "metadata": {
    "execution": {
     "iopub.execute_input": "2022-09-22T00:45:20.243273Z",
     "iopub.status.busy": "2022-09-22T00:45:20.242713Z",
     "iopub.status.idle": "2022-09-22T00:45:20.651389Z",
     "shell.execute_reply": "2022-09-22T00:45:20.650873Z"
    },
    "papermill": {
     "duration": 0.436545,
     "end_time": "2022-09-22T00:45:20.651502",
     "exception": false,
     "start_time": "2022-09-22T00:45:20.214957",
     "status": "completed"
    },
    "tags": []
   },
   "outputs": [],
   "source": [
    "test_images = mnist.test_images()\n",
    "test_labels = mnist.test_labels()"
   ]
  },
  {
   "cell_type": "code",
   "execution_count": 8,
   "id": "fc38cf1b",
   "metadata": {
    "execution": {
     "iopub.execute_input": "2022-09-22T00:45:20.706455Z",
     "iopub.status.busy": "2022-09-22T00:45:20.705895Z",
     "iopub.status.idle": "2022-09-22T00:45:20.718980Z",
     "shell.execute_reply": "2022-09-22T00:45:20.718508Z"
    },
    "papermill": {
     "duration": 0.041585,
     "end_time": "2022-09-22T00:45:20.719084",
     "exception": false,
     "start_time": "2022-09-22T00:45:20.677499",
     "status": "completed"
    },
    "tags": []
   },
   "outputs": [
    {
     "data": {
      "text/plain": [
       "((10000, 28, 28), (10000,))"
      ]
     },
     "execution_count": 8,
     "metadata": {},
     "output_type": "execute_result"
    }
   ],
   "source": [
    "test_images.shape, test_labels.shape"
   ]
  },
  {
   "cell_type": "code",
   "execution_count": 9,
   "id": "f9ed8fe0",
   "metadata": {
    "execution": {
     "iopub.execute_input": "2022-09-22T00:45:20.773356Z",
     "iopub.status.busy": "2022-09-22T00:45:20.772817Z",
     "iopub.status.idle": "2022-09-22T00:45:20.903186Z",
     "shell.execute_reply": "2022-09-22T00:45:20.903633Z"
    },
    "papermill": {
     "duration": 0.159163,
     "end_time": "2022-09-22T00:45:20.903770",
     "exception": false,
     "start_time": "2022-09-22T00:45:20.744607",
     "status": "completed"
    },
    "tags": []
   },
   "outputs": [
    {
     "name": "stdout",
     "output_type": "stream",
     "text": [
      "2\n"
     ]
    },
    {
     "data": {
      "text/plain": [
       "<matplotlib.image.AxesImage at 0x7f18ceed9d30>"
      ]
     },
     "execution_count": 9,
     "metadata": {},
     "output_type": "execute_result"
    },
    {
     "data": {
      "image/png": "[encoded data removed]",
      "text/plain": [
       "<Figure size 432x288 with 1 Axes>"
      ]
     },
     "metadata": {
      "needs_background": "light"
     },
     "output_type": "display_data"
    }
   ],
   "source": [
    "image_index = 7776 # You may select anything up to 60,000\n",
    "print(train_labels[image_index]) \n",
    "plt.imshow(train_images[image_index], cmap='Greys')"
   ]
  },
  {
   "cell_type": "markdown",
   "id": "a8d2388d",
   "metadata": {
    "papermill": {
     "duration": 0.026967,
     "end_time": "2022-09-22T00:45:20.957559",
     "exception": false,
     "start_time": "2022-09-22T00:45:20.930592",
     "status": "completed"
    },
    "tags": []
   },
   "source": [
    "## Filter data to get 3 and 8 out"
   ]
  },
  {
   "cell_type": "code",
   "execution_count": 10,
   "id": "776f7fc7",
   "metadata": {
    "execution": {
     "iopub.execute_input": "2022-09-22T00:45:21.014788Z",
     "iopub.status.busy": "2022-09-22T00:45:21.014212Z",
     "iopub.status.idle": "2022-09-22T00:45:21.030702Z",
     "shell.execute_reply": "2022-09-22T00:45:21.030238Z"
    },
    "papermill": {
     "duration": 0.046717,
     "end_time": "2022-09-22T00:45:21.030806",
     "exception": false,
     "start_time": "2022-09-22T00:45:20.984089",
     "status": "completed"
    },
    "tags": []
   },
   "outputs": [],
   "source": [
    "train_filter = np.where((train_labels == 3 ) | (train_labels == 8))\n",
    "test_filter = np.where((test_labels == 3) | (test_labels == 8))\n",
    "X_train, y_train = train_images[train_filter], train_labels[train_filter]\n",
    "X_test, y_test = test_images[test_filter], test_labels[test_filter]"
   ]
  },
  {
   "cell_type": "markdown",
   "id": "948f0b7e",
   "metadata": {
    "papermill": {
     "duration": 0.027127,
     "end_time": "2022-09-22T00:45:21.084671",
     "exception": false,
     "start_time": "2022-09-22T00:45:21.057544",
     "status": "completed"
    },
    "tags": []
   },
   "source": [
    "We normalize the pizel values in the 0 to 1 range"
   ]
  },
  {
   "cell_type": "code",
   "execution_count": 11,
   "id": "ee4c2166",
   "metadata": {
    "execution": {
     "iopub.execute_input": "2022-09-22T00:45:21.141132Z",
     "iopub.status.busy": "2022-09-22T00:45:21.140590Z",
     "iopub.status.idle": "2022-09-22T00:45:21.181013Z",
     "shell.execute_reply": "2022-09-22T00:45:21.180541Z"
    },
    "papermill": {
     "duration": 0.069918,
     "end_time": "2022-09-22T00:45:21.181124",
     "exception": false,
     "start_time": "2022-09-22T00:45:21.111206",
     "status": "completed"
    },
    "tags": []
   },
   "outputs": [],
   "source": [
    "X_train = X_train/255.\n",
    "X_test = X_test/255."
   ]
  },
  {
   "cell_type": "markdown",
   "id": "ddcf4fab",
   "metadata": {
    "papermill": {
     "duration": 0.026761,
     "end_time": "2022-09-22T00:45:21.234975",
     "exception": false,
     "start_time": "2022-09-22T00:45:21.208214",
     "status": "completed"
    },
    "tags": []
   },
   "source": [
    "And setup the labels as 1 (when the digit is 3) and 0 (when the digit is 8)"
   ]
  },
  {
   "cell_type": "code",
   "execution_count": 12,
   "id": "7dc908f2",
   "metadata": {
    "execution": {
     "iopub.execute_input": "2022-09-22T00:45:21.291690Z",
     "iopub.status.busy": "2022-09-22T00:45:21.291146Z",
     "iopub.status.idle": "2022-09-22T00:45:21.302750Z",
     "shell.execute_reply": "2022-09-22T00:45:21.303205Z"
    },
    "papermill": {
     "duration": 0.041747,
     "end_time": "2022-09-22T00:45:21.303322",
     "exception": false,
     "start_time": "2022-09-22T00:45:21.261575",
     "status": "completed"
    },
    "tags": []
   },
   "outputs": [],
   "source": [
    "y_train = 1*(y_train==3)\n",
    "y_test = 1*(y_test==3)"
   ]
  },
  {
   "cell_type": "code",
   "execution_count": 13,
   "id": "01e4e969",
   "metadata": {
    "execution": {
     "iopub.execute_input": "2022-09-22T00:45:21.359818Z",
     "iopub.status.busy": "2022-09-22T00:45:21.359265Z",
     "iopub.status.idle": "2022-09-22T00:45:21.373243Z",
     "shell.execute_reply": "2022-09-22T00:45:21.372791Z"
    },
    "papermill": {
     "duration": 0.043331,
     "end_time": "2022-09-22T00:45:21.373341",
     "exception": false,
     "start_time": "2022-09-22T00:45:21.330010",
     "status": "completed"
    },
    "tags": []
   },
   "outputs": [
    {
     "data": {
      "text/plain": [
       "((11982, 28, 28), (1984, 28, 28))"
      ]
     },
     "execution_count": 13,
     "metadata": {},
     "output_type": "execute_result"
    }
   ],
   "source": [
    "X_train.shape, X_test.shape"
   ]
  },
  {
   "cell_type": "markdown",
   "id": "5ccf3f85",
   "metadata": {
    "papermill": {
     "duration": 0.026869,
     "end_time": "2022-09-22T00:45:21.427003",
     "exception": false,
     "start_time": "2022-09-22T00:45:21.400134",
     "status": "completed"
    },
    "tags": []
   },
   "source": [
    "We reshape the data to flatten the image pixels into a set of features or co-variates:"
   ]
  },
  {
   "cell_type": "code",
   "execution_count": 14,
   "id": "5286a4a3",
   "metadata": {
    "execution": {
     "iopub.execute_input": "2022-09-22T00:45:21.484570Z",
     "iopub.status.busy": "2022-09-22T00:45:21.484023Z",
     "iopub.status.idle": "2022-09-22T00:45:21.496875Z",
     "shell.execute_reply": "2022-09-22T00:45:21.497295Z"
    },
    "papermill": {
     "duration": 0.043317,
     "end_time": "2022-09-22T00:45:21.497408",
     "exception": false,
     "start_time": "2022-09-22T00:45:21.454091",
     "status": "completed"
    },
    "tags": []
   },
   "outputs": [
    {
     "data": {
      "text/plain": [
       "((11982, 784), (1984, 784))"
      ]
     },
     "execution_count": 14,
     "metadata": {},
     "output_type": "execute_result"
    }
   ],
   "source": [
    "X_train = X_train.reshape(X_train.shape[0], -1)\n",
    "X_test = X_test.reshape(X_test.shape[0], -1)\n",
    "X_train.shape, X_test.shape"
   ]
  },
  {
   "cell_type": "code",
   "execution_count": 15,
   "id": "73c5f88a",
   "metadata": {
    "execution": {
     "iopub.execute_input": "2022-09-22T00:45:21.555646Z",
     "iopub.status.busy": "2022-09-22T00:45:21.555034Z",
     "iopub.status.idle": "2022-09-22T00:45:21.572173Z",
     "shell.execute_reply": "2022-09-22T00:45:21.572583Z"
    },
    "papermill": {
     "duration": 0.048174,
     "end_time": "2022-09-22T00:45:21.572700",
     "exception": false,
     "start_time": "2022-09-22T00:45:21.524526",
     "status": "completed"
    },
    "tags": []
   },
   "outputs": [],
   "source": [
    "#Impoting functions from 'Kudzu'\n",
    "from kudzu.model import Model\n",
    "from kudzu.train import Learner\n",
    "from kudzu.optim import GD\n",
    "from kudzu.data import Data, Sampler,Dataloader\n",
    "\n",
    "from kudzu.callbacks import AccCallback\n",
    "from kudzu.callbacks import ClfCallback\n",
    "\n",
    "from kudzu.loss import MSE\n",
    "\n",
    "from kudzu.layer import Sigmoid,Relu\n",
    "from kudzu.layer import Affine"
   ]
  },
  {
   "cell_type": "markdown",
   "id": "bc01172a",
   "metadata": {
    "papermill": {
     "duration": 0.027356,
     "end_time": "2022-09-22T00:45:21.627152",
     "exception": false,
     "start_time": "2022-09-22T00:45:21.599796",
     "status": "completed"
    },
    "tags": []
   },
   "source": [
    "### Let us create a `Config` class, to store important parameters. \n",
    "This class essentially plays the role of a dictionary."
   ]
  },
  {
   "cell_type": "code",
   "execution_count": 16,
   "id": "978281aa",
   "metadata": {
    "execution": {
     "iopub.execute_input": "2022-09-22T00:45:21.685446Z",
     "iopub.status.busy": "2022-09-22T00:45:21.684898Z",
     "iopub.status.idle": "2022-09-22T00:45:21.696401Z",
     "shell.execute_reply": "2022-09-22T00:45:21.696813Z"
    },
    "papermill": {
     "duration": 0.042641,
     "end_time": "2022-09-22T00:45:21.696933",
     "exception": false,
     "start_time": "2022-09-22T00:45:21.654292",
     "status": "completed"
    },
    "tags": []
   },
   "outputs": [],
   "source": [
    "class Config:\n",
    "    pass\n",
    "config = Config()\n",
    "config.lr = 0.001\n",
    "config.num_epochs = 250\n",
    "config.bs = 50"
   ]
  },
  {
   "cell_type": "markdown",
   "id": "1385fa59",
   "metadata": {
    "papermill": {
     "duration": 0.026966,
     "end_time": "2022-09-22T00:45:21.751121",
     "exception": false,
     "start_time": "2022-09-22T00:45:21.724155",
     "status": "completed"
    },
    "tags": []
   },
   "source": [
    "### Running Models with the Training data\n",
    "Details about the network layers:\n",
    "- A first affine layer has 784 inputs and does 100 affine transforms. These are followed by a Relu\n",
    "- A second affine layer has 100 inputs from the 100 activations of the past layer, and does 100 affine transforms. These are followed by a Relu\n",
    "- A third affine layer has 100 activations and does 2 affine transformations to create an embedding for visualization. There is no non-linearity here.\n",
    "- A final \"logistic regression\" which has an affine transform from 2 inputs to 1 output, which is squeezed through a sigmoid.\n"
   ]
  },
  {
   "cell_type": "code",
   "execution_count": 17,
   "id": "2b9c66db",
   "metadata": {
    "execution": {
     "iopub.execute_input": "2022-09-22T00:45:21.808998Z",
     "iopub.status.busy": "2022-09-22T00:45:21.808439Z",
     "iopub.status.idle": "2022-09-22T00:45:21.821155Z",
     "shell.execute_reply": "2022-09-22T00:45:21.820712Z"
    },
    "papermill": {
     "duration": 0.043049,
     "end_time": "2022-09-22T00:45:21.821255",
     "exception": false,
     "start_time": "2022-09-22T00:45:21.778206",
     "status": "completed"
    },
    "tags": []
   },
   "outputs": [],
   "source": [
    "data = Data(X_train, y_train.reshape(-1,1))\n",
    "sampler = Sampler(data, config.bs, shuffle=True)\n",
    "\n",
    "dl = Dataloader(data, sampler)\n",
    "\n",
    "opt = GD(config.lr)\n",
    "loss = MSE()"
   ]
  },
  {
   "cell_type": "code",
   "execution_count": 18,
   "id": "b275e4c2",
   "metadata": {
    "execution": {
     "iopub.execute_input": "2022-09-22T00:45:21.878867Z",
     "iopub.status.busy": "2022-09-22T00:45:21.878286Z",
     "iopub.status.idle": "2022-09-22T00:45:21.890177Z",
     "shell.execute_reply": "2022-09-22T00:45:21.890618Z"
    },
    "papermill": {
     "duration": 0.042299,
     "end_time": "2022-09-22T00:45:21.890749",
     "exception": false,
     "start_time": "2022-09-22T00:45:21.848450",
     "status": "completed"
    },
    "tags": []
   },
   "outputs": [],
   "source": [
    "training_data_x = X_train\n",
    "testing_data_x = X_test\n",
    "training_data_y = y_train.reshape(-1,1)\n",
    "testing_data_y = y_test.reshape(-1,1)"
   ]
  },
  {
   "cell_type": "code",
   "execution_count": 19,
   "id": "76951160",
   "metadata": {
    "execution": {
     "iopub.execute_input": "2022-09-22T00:45:21.948663Z",
     "iopub.status.busy": "2022-09-22T00:45:21.948104Z",
     "iopub.status.idle": "2022-09-22T00:45:21.963938Z",
     "shell.execute_reply": "2022-09-22T00:45:21.963462Z"
    },
    "papermill": {
     "duration": 0.046261,
     "end_time": "2022-09-22T00:45:21.964035",
     "exception": false,
     "start_time": "2022-09-22T00:45:21.917774",
     "status": "completed"
    },
    "tags": []
   },
   "outputs": [
    {
     "name": "stdout",
     "output_type": "stream",
     "text": [
      "xavier\n",
      "xavier\n",
      "xavier\n",
      "xavier\n",
      "xavier\n"
     ]
    }
   ],
   "source": [
    "layers = [Affine(\"first\", 784, 100), Relu(\"first\"), Affine(\"second\", 100, 100), Relu(\"second\"), Affine(\"third\", 100, 2), Affine(\"last\", 2, 1), Sigmoid(\"last\")]\n",
    "model_nn = Model(layers)\n",
    "model_lr = Model([Affine(\"logits\", 784, 1), Sigmoid(\"sigmoid\")])"
   ]
  },
  {
   "cell_type": "code",
   "execution_count": 20,
   "id": "6eede77a",
   "metadata": {
    "execution": {
     "iopub.execute_input": "2022-09-22T00:45:22.023934Z",
     "iopub.status.busy": "2022-09-22T00:45:22.023376Z",
     "iopub.status.idle": "2022-09-22T00:45:22.032644Z",
     "shell.execute_reply": "2022-09-22T00:45:22.033070Z"
    },
    "papermill": {
     "duration": 0.04166,
     "end_time": "2022-09-22T00:45:22.033180",
     "exception": false,
     "start_time": "2022-09-22T00:45:21.991520",
     "status": "completed"
    },
    "tags": []
   },
   "outputs": [],
   "source": [
    "nn_learner = Learner(loss, model_nn, opt, config.num_epochs)\n",
    "acc_nn = ClfCallback(nn_learner, config.bs, training_data_x , testing_data_x, training_data_y, testing_data_y)\n",
    "nn_learner.set_callbacks([acc_nn])"
   ]
  },
  {
   "cell_type": "code",
   "execution_count": 21,
   "id": "877b6cc7",
   "metadata": {
    "execution": {
     "iopub.execute_input": "2022-09-22T00:45:22.091878Z",
     "iopub.status.busy": "2022-09-22T00:45:22.091332Z",
     "iopub.status.idle": "2022-09-22T00:45:22.102325Z",
     "shell.execute_reply": "2022-09-22T00:45:22.102798Z"
    },
    "papermill": {
     "duration": 0.042318,
     "end_time": "2022-09-22T00:45:22.102913",
     "exception": false,
     "start_time": "2022-09-22T00:45:22.060595",
     "status": "completed"
    },
    "tags": []
   },
   "outputs": [],
   "source": [
    "lr_learner = Learner(loss, model_lr, opt, config.num_epochs)\n",
    "acc_lr = ClfCallback(lr_learner, config.bs, training_data_x , testing_data_x, training_data_y, testing_data_y)\n",
    "lr_learner.set_callbacks([acc_lr])"
   ]
  },
  {
   "cell_type": "code",
   "execution_count": 22,
   "id": "d9b133c3",
   "metadata": {
    "execution": {
     "iopub.execute_input": "2022-09-22T00:45:22.161087Z",
     "iopub.status.busy": "2022-09-22T00:45:22.160544Z",
     "iopub.status.idle": "2022-09-22T00:48:17.888385Z",
     "shell.execute_reply": "2022-09-22T00:48:17.888832Z"
    },
    "papermill": {
     "duration": 175.758608,
     "end_time": "2022-09-22T00:48:17.888962",
     "exception": false,
     "start_time": "2022-09-22T00:45:22.130354",
     "status": "completed"
    },
    "tags": []
   },
   "outputs": [
    {
     "name": "stdout",
     "output_type": "stream",
     "text": [
      "Epoch 0, Loss 0.2411\n",
      "Training Accuracy: 0.7248, Testing Accuracy: 0.7142\n",
      "\n"
     ]
    },
    {
     "name": "stdout",
     "output_type": "stream",
     "text": [
      "Epoch 10, Loss 0.1518\n",
      "Training Accuracy: 0.8869, Testing Accuracy: 0.8962\n",
      "\n"
     ]
    },
    {
     "name": "stdout",
     "output_type": "stream",
     "text": [
      "Epoch 20, Loss 0.0781\n",
      "Training Accuracy: 0.9219, Testing Accuracy: 0.9304\n",
      "\n"
     ]
    },
    {
     "name": "stdout",
     "output_type": "stream",
     "text": [
      "Epoch 30, Loss 0.0542\n",
      "Training Accuracy: 0.9437, Testing Accuracy: 0.9536\n",
      "\n"
     ]
    },
    {
     "name": "stdout",
     "output_type": "stream",
     "text": [
      "Epoch 40, Loss 0.0439\n",
      "Training Accuracy: 0.9513, Testing Accuracy: 0.9587\n",
      "\n"
     ]
    },
    {
     "name": "stdout",
     "output_type": "stream",
     "text": [
      "Epoch 50, Loss 0.0383\n",
      "Training Accuracy: 0.9569, Testing Accuracy: 0.9652\n",
      "\n"
     ]
    },
    {
     "name": "stdout",
     "output_type": "stream",
     "text": [
      "Epoch 60, Loss 0.0349\n",
      "Training Accuracy: 0.9608, Testing Accuracy: 0.9677\n",
      "\n"
     ]
    },
    {
     "name": "stdout",
     "output_type": "stream",
     "text": [
      "Epoch 70, Loss 0.0325\n",
      "Training Accuracy: 0.9627, Testing Accuracy: 0.9698\n",
      "\n"
     ]
    },
    {
     "name": "stdout",
     "output_type": "stream",
     "text": [
      "Epoch 80, Loss 0.0307\n",
      "Training Accuracy: 0.9645, Testing Accuracy: 0.9698\n",
      "\n"
     ]
    },
    {
     "name": "stdout",
     "output_type": "stream",
     "text": [
      "Epoch 90, Loss 0.0293\n",
      "Training Accuracy: 0.9659, Testing Accuracy: 0.9703\n",
      "\n"
     ]
    },
    {
     "name": "stdout",
     "output_type": "stream",
     "text": [
      "Epoch 100, Loss 0.0281\n",
      "Training Accuracy: 0.9676, Testing Accuracy: 0.9708\n",
      "\n"
     ]
    },
    {
     "name": "stdout",
     "output_type": "stream",
     "text": [
      "Epoch 110, Loss 0.0271\n",
      "Training Accuracy: 0.9691, Testing Accuracy: 0.9693\n",
      "\n"
     ]
    },
    {
     "name": "stdout",
     "output_type": "stream",
     "text": [
      "Epoch 120, Loss 0.0262\n",
      "Training Accuracy: 0.9699, Testing Accuracy: 0.9698\n",
      "\n"
     ]
    },
    {
     "name": "stdout",
     "output_type": "stream",
     "text": [
      "Epoch 130, Loss 0.0254\n",
      "Training Accuracy: 0.9706, Testing Accuracy: 0.9718\n",
      "\n"
     ]
    },
    {
     "name": "stdout",
     "output_type": "stream",
     "text": [
      "Epoch 140, Loss 0.0247\n",
      "Training Accuracy: 0.9709, Testing Accuracy: 0.9723\n",
      "\n"
     ]
    },
    {
     "name": "stdout",
     "output_type": "stream",
     "text": [
      "Epoch 150, Loss 0.024\n",
      "Training Accuracy: 0.9714, Testing Accuracy: 0.9728\n",
      "\n"
     ]
    },
    {
     "name": "stdout",
     "output_type": "stream",
     "text": [
      "Epoch 160, Loss 0.0234\n",
      "Training Accuracy: 0.9721, Testing Accuracy: 0.9728\n",
      "\n"
     ]
    },
    {
     "name": "stdout",
     "output_type": "stream",
     "text": [
      "Epoch 170, Loss 0.0228\n",
      "Training Accuracy: 0.9729, Testing Accuracy: 0.9728\n",
      "\n"
     ]
    },
    {
     "name": "stdout",
     "output_type": "stream",
     "text": [
      "Epoch 180, Loss 0.0222\n",
      "Training Accuracy: 0.9740, Testing Accuracy: 0.9738\n",
      "\n"
     ]
    },
    {
     "name": "stdout",
     "output_type": "stream",
     "text": [
      "Epoch 190, Loss 0.0217\n",
      "Training Accuracy: 0.9748, Testing Accuracy: 0.9743\n",
      "\n"
     ]
    },
    {
     "name": "stdout",
     "output_type": "stream",
     "text": [
      "Epoch 200, Loss 0.0212\n",
      "Training Accuracy: 0.9752, Testing Accuracy: 0.9748\n",
      "\n"
     ]
    },
    {
     "name": "stdout",
     "output_type": "stream",
     "text": [
      "Epoch 210, Loss 0.0208\n",
      "Training Accuracy: 0.9756, Testing Accuracy: 0.9758\n",
      "\n"
     ]
    },
    {
     "name": "stdout",
     "output_type": "stream",
     "text": [
      "Epoch 220, Loss 0.0204\n",
      "Training Accuracy: 0.9765, Testing Accuracy: 0.9753\n",
      "\n"
     ]
    },
    {
     "name": "stdout",
     "output_type": "stream",
     "text": [
      "Epoch 230, Loss 0.02\n",
      "Training Accuracy: 0.9768, Testing Accuracy: 0.9753\n",
      "\n"
     ]
    },
    {
     "name": "stdout",
     "output_type": "stream",
     "text": [
      "Epoch 240, Loss 0.0196\n",
      "Training Accuracy: 0.9775, Testing Accuracy: 0.9758\n",
      "\n"
     ]
    },
    {
     "data": {
      "text/plain": [
       "0.00714029623605798"
      ]
     },
     "execution_count": 22,
     "metadata": {},
     "output_type": "execute_result"
    }
   ],
   "source": [
    "nn_learner.train_loop(dl)"
   ]
  },
  {
   "cell_type": "code",
   "execution_count": 23,
   "id": "e0163366",
   "metadata": {
    "execution": {
     "iopub.execute_input": "2022-09-22T00:48:17.962962Z",
     "iopub.status.busy": "2022-09-22T00:48:17.962349Z",
     "iopub.status.idle": "2022-09-22T00:48:29.940472Z",
     "shell.execute_reply": "2022-09-22T00:48:29.941312Z"
    },
    "papermill": {
     "duration": 12.017696,
     "end_time": "2022-09-22T00:48:29.941456",
     "exception": false,
     "start_time": "2022-09-22T00:48:17.923760",
     "status": "completed"
    },
    "tags": []
   },
   "outputs": [
    {
     "name": "stdout",
     "output_type": "stream",
     "text": [
      "Epoch 0, Loss 0.2308\n",
      "Training Accuracy: 0.7131, Testing Accuracy: 0.7445\n",
      "\n"
     ]
    },
    {
     "name": "stdout",
     "output_type": "stream",
     "text": [
      "Epoch 10, Loss 0.1036\n",
      "Training Accuracy: 0.9069, Testing Accuracy: 0.9173\n",
      "\n"
     ]
    },
    {
     "name": "stdout",
     "output_type": "stream",
     "text": [
      "Epoch 20, Loss 0.0796\n",
      "Training Accuracy: 0.9276, Testing Accuracy: 0.9365\n",
      "\n"
     ]
    },
    {
     "name": "stdout",
     "output_type": "stream",
     "text": [
      "Epoch 30, Loss 0.0685\n",
      "Training Accuracy: 0.9372, Testing Accuracy: 0.9446\n",
      "\n"
     ]
    },
    {
     "name": "stdout",
     "output_type": "stream",
     "text": [
      "Epoch 40, Loss 0.0618\n",
      "Training Accuracy: 0.9415, Testing Accuracy: 0.9496\n",
      "\n"
     ]
    },
    {
     "name": "stdout",
     "output_type": "stream",
     "text": [
      "Epoch 50, Loss 0.0573\n",
      "Training Accuracy: 0.9453, Testing Accuracy: 0.9541\n",
      "\n"
     ]
    },
    {
     "name": "stdout",
     "output_type": "stream",
     "text": [
      "Epoch 60, Loss 0.054\n",
      "Training Accuracy: 0.9470, Testing Accuracy: 0.9561\n",
      "\n"
     ]
    },
    {
     "name": "stdout",
     "output_type": "stream",
     "text": [
      "Epoch 70, Loss 0.0514\n",
      "Training Accuracy: 0.9493, Testing Accuracy: 0.9582\n",
      "\n"
     ]
    },
    {
     "name": "stdout",
     "output_type": "stream",
     "text": [
      "Epoch 80, Loss 0.0494\n",
      "Training Accuracy: 0.9508, Testing Accuracy: 0.9602\n",
      "\n"
     ]
    },
    {
     "name": "stdout",
     "output_type": "stream",
     "text": [
      "Epoch 90, Loss 0.0477\n",
      "Training Accuracy: 0.9521, Testing Accuracy: 0.9612\n",
      "\n"
     ]
    },
    {
     "name": "stdout",
     "output_type": "stream",
     "text": [
      "Epoch 100, Loss 0.0463\n",
      "Training Accuracy: 0.9531, Testing Accuracy: 0.9637\n",
      "\n"
     ]
    },
    {
     "name": "stdout",
     "output_type": "stream",
     "text": [
      "Epoch 110, Loss 0.045\n",
      "Training Accuracy: 0.9540, Testing Accuracy: 0.9642\n",
      "\n"
     ]
    },
    {
     "name": "stdout",
     "output_type": "stream",
     "text": [
      "Epoch 120, Loss 0.044\n",
      "Training Accuracy: 0.9551, Testing Accuracy: 0.9647\n",
      "\n"
     ]
    },
    {
     "name": "stdout",
     "output_type": "stream",
     "text": [
      "Epoch 130, Loss 0.043\n",
      "Training Accuracy: 0.9557, Testing Accuracy: 0.9652\n",
      "\n"
     ]
    },
    {
     "name": "stdout",
     "output_type": "stream",
     "text": [
      "Epoch 140, Loss 0.0422\n",
      "Training Accuracy: 0.9565, Testing Accuracy: 0.9657\n",
      "\n"
     ]
    },
    {
     "name": "stdout",
     "output_type": "stream",
     "text": [
      "Epoch 150, Loss 0.0415\n",
      "Training Accuracy: 0.9570, Testing Accuracy: 0.9657\n",
      "\n"
     ]
    },
    {
     "name": "stdout",
     "output_type": "stream",
     "text": [
      "Epoch 160, Loss 0.0408\n",
      "Training Accuracy: 0.9579, Testing Accuracy: 0.9662\n",
      "\n"
     ]
    },
    {
     "name": "stdout",
     "output_type": "stream",
     "text": [
      "Epoch 170, Loss 0.0402\n",
      "Training Accuracy: 0.9579, Testing Accuracy: 0.9667\n",
      "\n"
     ]
    },
    {
     "name": "stdout",
     "output_type": "stream",
     "text": [
      "Epoch 180, Loss 0.0396\n",
      "Training Accuracy: 0.9587, Testing Accuracy: 0.9672\n",
      "\n"
     ]
    },
    {
     "name": "stdout",
     "output_type": "stream",
     "text": [
      "Epoch 190, Loss 0.0391\n",
      "Training Accuracy: 0.9590, Testing Accuracy: 0.9677\n",
      "\n"
     ]
    },
    {
     "name": "stdout",
     "output_type": "stream",
     "text": [
      "Epoch 200, Loss 0.0386\n",
      "Training Accuracy: 0.9595, Testing Accuracy: 0.9677\n",
      "\n"
     ]
    },
    {
     "name": "stdout",
     "output_type": "stream",
     "text": [
      "Epoch 210, Loss 0.0382\n",
      "Training Accuracy: 0.9597, Testing Accuracy: 0.9677\n",
      "\n"
     ]
    },
    {
     "name": "stdout",
     "output_type": "stream",
     "text": [
      "Epoch 220, Loss 0.0378\n",
      "Training Accuracy: 0.9598, Testing Accuracy: 0.9688\n",
      "\n"
     ]
    },
    {
     "name": "stdout",
     "output_type": "stream",
     "text": [
      "Epoch 230, Loss 0.0374\n",
      "Training Accuracy: 0.9601, Testing Accuracy: 0.9693\n",
      "\n"
     ]
    },
    {
     "name": "stdout",
     "output_type": "stream",
     "text": [
      "Epoch 240, Loss 0.037\n",
      "Training Accuracy: 0.9605, Testing Accuracy: 0.9688\n",
      "\n"
     ]
    },
    {
     "data": {
      "text/plain": [
       "0.042004009331097956"
      ]
     },
     "execution_count": 23,
     "metadata": {},
     "output_type": "execute_result"
    }
   ],
   "source": [
    "lr_learner.train_loop(dl)"
   ]
  },
  {
   "cell_type": "code",
   "execution_count": 24,
   "id": "ca410940",
   "metadata": {
    "execution": {
     "iopub.execute_input": "2022-09-22T00:48:30.031836Z",
     "iopub.status.busy": "2022-09-22T00:48:30.031275Z",
     "iopub.status.idle": "2022-09-22T00:48:30.260459Z",
     "shell.execute_reply": "2022-09-22T00:48:30.259636Z"
    },
    "papermill": {
     "duration": 0.277559,
     "end_time": "2022-09-22T00:48:30.260575",
     "exception": false,
     "start_time": "2022-09-22T00:48:29.983016",
     "status": "completed"
    },
    "tags": []
   },
   "outputs": [
    {
     "data": {
      "text/plain": [
       "<matplotlib.legend.Legend at 0x7f18cea34fd0>"
      ]
     },
     "execution_count": 24,
     "metadata": {},
     "output_type": "execute_result"
    },
    {
     "data": {
      "image/png": "[encoded data removed]",
      "text/plain": [
       "<Figure size 1080x720 with 1 Axes>"
      ]
     },
     "metadata": {
      "needs_background": "light"
     },
     "output_type": "display_data"
    }
   ],
   "source": [
    "#comparing the results of NN and LR\n",
    "plt.figure(figsize=(15,10))\n",
    "\n",
    "# Neural Network plots\n",
    "plt.plot(acc_nn.accuracies, 'r-', label = \"Training Accuracies - NN\")\n",
    "plt.plot(acc_nn.test_accuracies, 'g-', label = \"Testing Accuracies - NN\")\n",
    "\n",
    "# Logistic Regression plots\n",
    "plt.plot(acc_lr.accuracies, 'k-', label = \"Training Accuracies - LR\")\n",
    "plt.plot(acc_lr.test_accuracies, 'b-', label = \"Testing Accuracies - LR\")\n",
    "plt.legend()"
   ]
  },
  {
   "cell_type": "markdown",
   "id": "80dfb35c",
   "metadata": {
    "papermill": {
     "duration": 0.042483,
     "end_time": "2022-09-22T00:48:30.345864",
     "exception": false,
     "start_time": "2022-09-22T00:48:30.303381",
     "status": "completed"
    },
    "tags": []
   },
   "source": [
    "#### Plotting the outputs of this layer of the NN.\n"
   ]
  },
  {
   "cell_type": "code",
   "execution_count": 25,
   "id": "45eb2ff5",
   "metadata": {
    "execution": {
     "iopub.execute_input": "2022-09-22T00:48:30.434788Z",
     "iopub.status.busy": "2022-09-22T00:48:30.433636Z",
     "iopub.status.idle": "2022-09-22T00:48:30.469621Z",
     "shell.execute_reply": "2022-09-22T00:48:30.470267Z"
    },
    "papermill": {
     "duration": 0.082044,
     "end_time": "2022-09-22T00:48:30.470391",
     "exception": false,
     "start_time": "2022-09-22T00:48:30.388347",
     "status": "completed"
    },
    "tags": []
   },
   "outputs": [],
   "source": [
    "new_model = Model(layers[:-2])\n",
    "testing_plot = new_model(testing_data_x)"
   ]
  },
  {
   "cell_type": "code",
   "execution_count": 26,
   "id": "4c0a5485",
   "metadata": {
    "execution": {
     "iopub.execute_input": "2022-09-22T00:48:30.560132Z",
     "iopub.status.busy": "2022-09-22T00:48:30.559586Z",
     "iopub.status.idle": "2022-09-22T00:48:30.742594Z",
     "shell.execute_reply": "2022-09-22T00:48:30.743054Z"
    },
    "papermill": {
     "duration": 0.229954,
     "end_time": "2022-09-22T00:48:30.743183",
     "exception": false,
     "start_time": "2022-09-22T00:48:30.513229",
     "status": "completed"
    },
    "tags": []
   },
   "outputs": [
    {
     "data": {
      "text/plain": [
       "Text(0.5, 1.0, 'Outputs')"
      ]
     },
     "execution_count": 26,
     "metadata": {},
     "output_type": "execute_result"
    },
    {
     "data": {
      "image/png": "[encoded data removed]",
      "text/plain": [
       "<Figure size 576x504 with 1 Axes>"
      ]
     },
     "metadata": {
      "needs_background": "light"
     },
     "output_type": "display_data"
    }
   ],
   "source": [
    "# Plotting the scatter plot of points and color coding by class\n",
    "plt.figure(figsize=(8,7))\n",
    "plt.scatter(testing_plot[:,0], testing_plot[:,1], alpha = 0.1, c = y_test.ravel());\n",
    "plt.title('Outputs')"
   ]
  },
  {
   "cell_type": "markdown",
   "id": "a74fcf8f",
   "metadata": {
    "papermill": {
     "duration": 0.044269,
     "end_time": "2022-09-22T00:48:30.853210",
     "exception": false,
     "start_time": "2022-09-22T00:48:30.808941",
     "status": "completed"
    },
    "tags": []
   },
   "source": [
    "Probability contours"
   ]
  },
  {
   "cell_type": "code",
   "execution_count": 27,
   "id": "d0afc8e3",
   "metadata": {
    "execution": {
     "iopub.execute_input": "2022-09-22T00:48:30.945266Z",
     "iopub.status.busy": "2022-09-22T00:48:30.944698Z",
     "iopub.status.idle": "2022-09-22T00:48:30.957079Z",
     "shell.execute_reply": "2022-09-22T00:48:30.957524Z"
    },
    "papermill": {
     "duration": 0.060347,
     "end_time": "2022-09-22T00:48:30.957642",
     "exception": false,
     "start_time": "2022-09-22T00:48:30.897295",
     "status": "completed"
    },
    "tags": []
   },
   "outputs": [],
   "source": [
    "model_prob = Model(layers[-2:]) "
   ]
  },
  {
   "cell_type": "code",
   "execution_count": 28,
   "id": "9b96e238",
   "metadata": {
    "execution": {
     "iopub.execute_input": "2022-09-22T00:48:31.050453Z",
     "iopub.status.busy": "2022-09-22T00:48:31.049876Z",
     "iopub.status.idle": "2022-09-22T00:48:31.063242Z",
     "shell.execute_reply": "2022-09-22T00:48:31.064011Z"
    },
    "papermill": {
     "duration": 0.062208,
     "end_time": "2022-09-22T00:48:31.064134",
     "exception": false,
     "start_time": "2022-09-22T00:48:31.001926",
     "status": "completed"
    },
    "tags": []
   },
   "outputs": [],
   "source": [
    "#creating the x and y ranges according to the above generated plot.\n",
    "x_range = np.linspace(-4, 1, 100) \n",
    "y_range = np.linspace(-6, 6, 100) \n",
    "x_grid, y_grid = np.meshgrid(x_range, y_range) # x_grid and y_grig are of size 100 X 100\n",
    "\n",
    "# converting x_grid and y_grid to continuous arrays\n",
    "x_gridflat = np.ravel(x_grid)\n",
    "y_gridflat = np.ravel(y_grid)\n",
    "\n",
    "# The last layer of the current model takes two columns as input. Hence transpose of np.vstack() is required.\n",
    "X = np.vstack((x_gridflat, y_gridflat)).T\n",
    "\n",
    "prob_contour = model_prob(X).reshape(100,100) "
   ]
  },
  {
   "cell_type": "code",
   "execution_count": 29,
   "id": "da72499a",
   "metadata": {
    "execution": {
     "iopub.execute_input": "2022-09-22T00:48:31.161886Z",
     "iopub.status.busy": "2022-09-22T00:48:31.160447Z",
     "iopub.status.idle": "2022-09-22T00:48:31.397578Z",
     "shell.execute_reply": "2022-09-22T00:48:31.397110Z"
    },
    "papermill": {
     "duration": 0.286507,
     "end_time": "2022-09-22T00:48:31.397686",
     "exception": false,
     "start_time": "2022-09-22T00:48:31.111179",
     "status": "completed"
    },
    "tags": []
   },
   "outputs": [
    {
     "data": {
      "image/png": "[encoded data removed]",
      "text/plain": [
       "<Figure size 720x648 with 1 Axes>"
      ]
     },
     "metadata": {
      "needs_background": "light"
     },
     "output_type": "display_data"
    }
   ],
   "source": [
    "plt.figure(figsize=(10,9))\n",
    "plt.scatter(testing_plot[:,0], testing_plot[:,1], alpha = 0.1, c = y_test.ravel())\n",
    "contours = plt.contour(x_grid,y_grid,prob_contour)\n",
    "plt.title('Probability Contours')\n",
    "plt.clabel(contours, inline = True );"
   ]
  },
  {
   "cell_type": "code",
   "execution_count": null,
   "id": "e81b4ac7",
   "metadata": {
    "papermill": {
     "duration": 0.046823,
     "end_time": "2022-09-22T00:48:31.491515",
     "exception": false,
     "start_time": "2022-09-22T00:48:31.444692",
     "status": "completed"
    },
    "tags": []
   },
   "outputs": [],
   "source": []
  }
 ],
 "metadata": {
  "kernelspec": {
   "display_name": "Python 3",
   "language": "python",
   "name": "python3"
  },
  "language_info": {
   "codemirror_mode": {
    "name": "ipython",
    "version": 3
   },
   "file_extension": ".py",
   "mimetype": "text/x-python",
   "name": "python",
   "nbconvert_exporter": "python",
   "pygments_lexer": "ipython3",
   "version": "3.6.15"
  },
  "papermill": {
   "default_parameters": {},
   "duration": 196.057863,
   "end_time": "2022-09-22T00:48:31.856127",
   "environment_variables": {},
   "exception": null,
   "input_path": "2020-08-11-part2.ipynb",
   "output_path": "2020-08-11-part2.ipynb",
   "parameters": {},
   "start_time": "2022-09-22T00:45:15.798264",
   "version": "2.3.3"
  }
 },
 "nbformat": 4,
 "nbformat_minor": 5
}