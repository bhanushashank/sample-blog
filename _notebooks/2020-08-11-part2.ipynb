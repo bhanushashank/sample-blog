{
 "cells": [
  {
   "cell_type": "markdown",
   "id": "98380cd3",
   "metadata": {
    "papermill": {
     "duration": 0.038166,
     "end_time": "2022-11-13T20:11:09.909393",
     "exception": false,
     "start_time": "2022-11-13T20:11:09.871227",
     "status": "completed"
    },
    "tags": []
   },
   "source": [
    "# Distinguish Your Own Digits (DYOD)"
   ]
  },
  {
   "cell_type": "markdown",
   "id": "ef31240d",
   "metadata": {
    "papermill": {
     "duration": 0.03071,
     "end_time": "2022-11-13T20:11:09.971700",
     "exception": false,
     "start_time": "2022-11-13T20:11:09.940990",
     "status": "completed"
    },
    "tags": []
   },
   "source": [
    "You are going to write a classifier that distinguishes between the number 3 and number 8."
   ]
  },
  {
   "cell_type": "code",
   "execution_count": 1,
   "id": "b15c8646",
   "metadata": {
    "execution": {
     "iopub.execute_input": "2022-11-13T20:11:10.048986Z",
     "iopub.status.busy": "2022-11-13T20:11:10.048125Z",
     "iopub.status.idle": "2022-11-13T20:11:10.061600Z",
     "shell.execute_reply": "2022-11-13T20:11:10.060765Z"
    },
    "papermill": {
     "duration": 0.057853,
     "end_time": "2022-11-13T20:11:10.061780",
     "exception": false,
     "start_time": "2022-11-13T20:11:10.003927",
     "status": "completed"
    },
    "tags": []
   },
   "outputs": [],
   "source": [
    "%load_ext autoreload\n",
    "%autoreload 2"
   ]
  },
  {
   "cell_type": "code",
   "execution_count": 2,
   "id": "22ef38dc",
   "metadata": {
    "execution": {
     "iopub.execute_input": "2022-11-13T20:11:10.134560Z",
     "iopub.status.busy": "2022-11-13T20:11:10.133812Z",
     "iopub.status.idle": "2022-11-13T20:11:10.811436Z",
     "shell.execute_reply": "2022-11-13T20:11:10.810475Z"
    },
    "papermill": {
     "duration": 0.716948,
     "end_time": "2022-11-13T20:11:10.811610",
     "exception": false,
     "start_time": "2022-11-13T20:11:10.094662",
     "status": "completed"
    },
    "tags": []
   },
   "outputs": [],
   "source": [
    "%matplotlib inline\n",
    "import numpy as np\n",
    "import matplotlib.pyplot as plt\n",
    "import pandas as pd"
   ]
  },
  {
   "cell_type": "markdown",
   "id": "ba036198",
   "metadata": {
    "papermill": {
     "duration": 0.033472,
     "end_time": "2022-11-13T20:11:10.877620",
     "exception": false,
     "start_time": "2022-11-13T20:11:10.844148",
     "status": "completed"
    },
    "tags": []
   },
   "source": [
    "From the command line run `pip install mnist`. This is a library that will help you bring down the mnist dataset. If you run this from a notebook, you need to put  `!pip install mnist` in a cell by itself."
   ]
  },
  {
   "cell_type": "code",
   "execution_count": 3,
   "id": "bb6ad8a1",
   "metadata": {
    "execution": {
     "iopub.execute_input": "2022-11-13T20:11:10.946752Z",
     "iopub.status.busy": "2022-11-13T20:11:10.945857Z",
     "iopub.status.idle": "2022-11-13T20:11:12.913711Z",
     "shell.execute_reply": "2022-11-13T20:11:12.912974Z"
    },
    "papermill": {
     "duration": 2.003791,
     "end_time": "2022-11-13T20:11:12.913884",
     "exception": false,
     "start_time": "2022-11-13T20:11:10.910093",
     "status": "completed"
    },
    "tags": []
   },
   "outputs": [
    {
     "name": "stdout",
     "output_type": "stream",
     "text": [
      "Collecting mnist\r\n"
     ]
    },
    {
     "name": "stdout",
     "output_type": "stream",
     "text": [
      "  Downloading mnist-0.2.2-py2.py3-none-any.whl (3.5 kB)\r\n",
      "Requirement already satisfied: numpy in /opt/hostedtoolcache/Python/3.6.15/x64/lib/python3.6/site-packages (from mnist) (1.19.5)\r\n"
     ]
    },
    {
     "name": "stdout",
     "output_type": "stream",
     "text": [
      "Installing collected packages: mnist\r\n"
     ]
    },
    {
     "name": "stdout",
     "output_type": "stream",
     "text": [
      "Successfully installed mnist-0.2.2\r\n"
     ]
    }
   ],
   "source": [
    "!pip install mnist"
   ]
  },
  {
   "cell_type": "markdown",
   "id": "69df9c9a",
   "metadata": {
    "papermill": {
     "duration": 0.035196,
     "end_time": "2022-11-13T20:11:12.984377",
     "exception": false,
     "start_time": "2022-11-13T20:11:12.949181",
     "status": "completed"
    },
    "tags": []
   },
   "source": [
    "## Preparing the Data"
   ]
  },
  {
   "cell_type": "code",
   "execution_count": 4,
   "id": "7f69d806",
   "metadata": {
    "execution": {
     "iopub.execute_input": "2022-11-13T20:11:13.058589Z",
     "iopub.status.busy": "2022-11-13T20:11:13.057729Z",
     "iopub.status.idle": "2022-11-13T20:11:13.076809Z",
     "shell.execute_reply": "2022-11-13T20:11:13.077624Z"
    },
    "papermill": {
     "duration": 0.060201,
     "end_time": "2022-11-13T20:11:13.077819",
     "exception": false,
     "start_time": "2022-11-13T20:11:13.017618",
     "status": "completed"
    },
    "tags": []
   },
   "outputs": [],
   "source": [
    "import mnist"
   ]
  },
  {
   "cell_type": "code",
   "execution_count": 5,
   "id": "a411e44f",
   "metadata": {
    "execution": {
     "iopub.execute_input": "2022-11-13T20:11:13.147420Z",
     "iopub.status.busy": "2022-11-13T20:11:13.146426Z",
     "iopub.status.idle": "2022-11-13T20:11:13.759397Z",
     "shell.execute_reply": "2022-11-13T20:11:13.758796Z"
    },
    "papermill": {
     "duration": 0.650885,
     "end_time": "2022-11-13T20:11:13.759541",
     "exception": false,
     "start_time": "2022-11-13T20:11:13.108656",
     "status": "completed"
    },
    "tags": []
   },
   "outputs": [],
   "source": [
    "train_images = mnist.train_images()\n",
    "train_labels = mnist.train_labels()"
   ]
  },
  {
   "cell_type": "code",
   "execution_count": 6,
   "id": "dceab3a5",
   "metadata": {
    "execution": {
     "iopub.execute_input": "2022-11-13T20:11:13.831367Z",
     "iopub.status.busy": "2022-11-13T20:11:13.830586Z",
     "iopub.status.idle": "2022-11-13T20:11:13.849787Z",
     "shell.execute_reply": "2022-11-13T20:11:13.849095Z"
    },
    "papermill": {
     "duration": 0.055416,
     "end_time": "2022-11-13T20:11:13.849911",
     "exception": false,
     "start_time": "2022-11-13T20:11:13.794495",
     "status": "completed"
    },
    "tags": []
   },
   "outputs": [
    {
     "data": {
      "text/plain": [
       "((60000, 28, 28), (60000,))"
      ]
     },
     "execution_count": 6,
     "metadata": {},
     "output_type": "execute_result"
    }
   ],
   "source": [
    "train_images.shape, train_labels.shape"
   ]
  },
  {
   "cell_type": "code",
   "execution_count": 7,
   "id": "f50dc2bb",
   "metadata": {
    "execution": {
     "iopub.execute_input": "2022-11-13T20:11:13.919396Z",
     "iopub.status.busy": "2022-11-13T20:11:13.918634Z",
     "iopub.status.idle": "2022-11-13T20:11:14.070650Z",
     "shell.execute_reply": "2022-11-13T20:11:14.071246Z"
    },
    "papermill": {
     "duration": 0.190837,
     "end_time": "2022-11-13T20:11:14.071418",
     "exception": false,
     "start_time": "2022-11-13T20:11:13.880581",
     "status": "completed"
    },
    "tags": []
   },
   "outputs": [],
   "source": [
    "test_images = mnist.test_images()\n",
    "test_labels = mnist.test_labels()"
   ]
  },
  {
   "cell_type": "code",
   "execution_count": 8,
   "id": "fc38cf1b",
   "metadata": {
    "execution": {
     "iopub.execute_input": "2022-11-13T20:11:14.140386Z",
     "iopub.status.busy": "2022-11-13T20:11:14.139690Z",
     "iopub.status.idle": "2022-11-13T20:11:14.155382Z",
     "shell.execute_reply": "2022-11-13T20:11:14.156229Z"
    },
    "papermill": {
     "duration": 0.053369,
     "end_time": "2022-11-13T20:11:14.156557",
     "exception": false,
     "start_time": "2022-11-13T20:11:14.103188",
     "status": "completed"
    },
    "tags": []
   },
   "outputs": [
    {
     "data": {
      "text/plain": [
       "((10000, 28, 28), (10000,))"
      ]
     },
     "execution_count": 8,
     "metadata": {},
     "output_type": "execute_result"
    }
   ],
   "source": [
    "test_images.shape, test_labels.shape"
   ]
  },
  {
   "cell_type": "code",
   "execution_count": 9,
   "id": "f9ed8fe0",
   "metadata": {
    "execution": {
     "iopub.execute_input": "2022-11-13T20:11:14.228616Z",
     "iopub.status.busy": "2022-11-13T20:11:14.227794Z",
     "iopub.status.idle": "2022-11-13T20:11:14.423918Z",
     "shell.execute_reply": "2022-11-13T20:11:14.424564Z"
    },
    "papermill": {
     "duration": 0.236334,
     "end_time": "2022-11-13T20:11:14.424794",
     "exception": false,
     "start_time": "2022-11-13T20:11:14.188460",
     "status": "completed"
    },
    "tags": []
   },
   "outputs": [
    {
     "name": "stdout",
     "output_type": "stream",
     "text": [
      "2\n"
     ]
    },
    {
     "data": {
      "text/plain": [
       "<matplotlib.image.AxesImage at 0x7fbf30e97da0>"
      ]
     },
     "execution_count": 9,
     "metadata": {},
     "output_type": "execute_result"
    },
    {
     "data": {
      "image/png": "[encoded data removed]",
      "text/plain": [
       "<Figure size 432x288 with 1 Axes>"
      ]
     },
     "metadata": {
      "needs_background": "light"
     },
     "output_type": "display_data"
    }
   ],
   "source": [
    "image_index = 7776 # You may select anything up to 60,000\n",
    "print(train_labels[image_index]) \n",
    "plt.imshow(train_images[image_index], cmap='Greys')"
   ]
  },
  {
   "cell_type": "markdown",
   "id": "a8d2388d",
   "metadata": {
    "papermill": {
     "duration": 0.035725,
     "end_time": "2022-11-13T20:11:14.496331",
     "exception": false,
     "start_time": "2022-11-13T20:11:14.460606",
     "status": "completed"
    },
    "tags": []
   },
   "source": [
    "## Filter data to get 3 and 8 out"
   ]
  },
  {
   "cell_type": "code",
   "execution_count": 10,
   "id": "776f7fc7",
   "metadata": {
    "execution": {
     "iopub.execute_input": "2022-11-13T20:11:14.581481Z",
     "iopub.status.busy": "2022-11-13T20:11:14.572704Z",
     "iopub.status.idle": "2022-11-13T20:11:14.594901Z",
     "shell.execute_reply": "2022-11-13T20:11:14.595392Z"
    },
    "papermill": {
     "duration": 0.063844,
     "end_time": "2022-11-13T20:11:14.595546",
     "exception": false,
     "start_time": "2022-11-13T20:11:14.531702",
     "status": "completed"
    },
    "tags": []
   },
   "outputs": [],
   "source": [
    "train_filter = np.where((train_labels == 3 ) | (train_labels == 8))\n",
    "test_filter = np.where((test_labels == 3) | (test_labels == 8))\n",
    "X_train, y_train = train_images[train_filter], train_labels[train_filter]\n",
    "X_test, y_test = test_images[test_filter], test_labels[test_filter]"
   ]
  },
  {
   "cell_type": "markdown",
   "id": "948f0b7e",
   "metadata": {
    "papermill": {
     "duration": 0.034223,
     "end_time": "2022-11-13T20:11:14.662930",
     "exception": false,
     "start_time": "2022-11-13T20:11:14.628707",
     "status": "completed"
    },
    "tags": []
   },
   "source": [
    "We normalize the pizel values in the 0 to 1 range"
   ]
  },
  {
   "cell_type": "code",
   "execution_count": 11,
   "id": "ee4c2166",
   "metadata": {
    "execution": {
     "iopub.execute_input": "2022-11-13T20:11:14.734359Z",
     "iopub.status.busy": "2022-11-13T20:11:14.733692Z",
     "iopub.status.idle": "2022-11-13T20:11:14.799448Z",
     "shell.execute_reply": "2022-11-13T20:11:14.798879Z"
    },
    "papermill": {
     "duration": 0.102878,
     "end_time": "2022-11-13T20:11:14.799586",
     "exception": false,
     "start_time": "2022-11-13T20:11:14.696708",
     "status": "completed"
    },
    "tags": []
   },
   "outputs": [],
   "source": [
    "X_train = X_train/255.\n",
    "X_test = X_test/255."
   ]
  },
  {
   "cell_type": "markdown",
   "id": "ddcf4fab",
   "metadata": {
    "papermill": {
     "duration": 0.032274,
     "end_time": "2022-11-13T20:11:14.866652",
     "exception": false,
     "start_time": "2022-11-13T20:11:14.834378",
     "status": "completed"
    },
    "tags": []
   },
   "source": [
    "And setup the labels as 1 (when the digit is 3) and 0 (when the digit is 8)"
   ]
  },
  {
   "cell_type": "code",
   "execution_count": 12,
   "id": "7dc908f2",
   "metadata": {
    "execution": {
     "iopub.execute_input": "2022-11-13T20:11:14.942170Z",
     "iopub.status.busy": "2022-11-13T20:11:14.941515Z",
     "iopub.status.idle": "2022-11-13T20:11:14.955132Z",
     "shell.execute_reply": "2022-11-13T20:11:14.954600Z"
    },
    "papermill": {
     "duration": 0.053793,
     "end_time": "2022-11-13T20:11:14.955248",
     "exception": false,
     "start_time": "2022-11-13T20:11:14.901455",
     "status": "completed"
    },
    "tags": []
   },
   "outputs": [],
   "source": [
    "y_train = 1*(y_train==3)\n",
    "y_test = 1*(y_test==3)"
   ]
  },
  {
   "cell_type": "code",
   "execution_count": 13,
   "id": "01e4e969",
   "metadata": {
    "execution": {
     "iopub.execute_input": "2022-11-13T20:11:15.028693Z",
     "iopub.status.busy": "2022-11-13T20:11:15.027885Z",
     "iopub.status.idle": "2022-11-13T20:11:15.044815Z",
     "shell.execute_reply": "2022-11-13T20:11:15.044203Z"
    },
    "papermill": {
     "duration": 0.055172,
     "end_time": "2022-11-13T20:11:15.044951",
     "exception": false,
     "start_time": "2022-11-13T20:11:14.989779",
     "status": "completed"
    },
    "tags": []
   },
   "outputs": [
    {
     "data": {
      "text/plain": [
       "((11982, 28, 28), (1984, 28, 28))"
      ]
     },
     "execution_count": 13,
     "metadata": {},
     "output_type": "execute_result"
    }
   ],
   "source": [
    "X_train.shape, X_test.shape"
   ]
  },
  {
   "cell_type": "markdown",
   "id": "5ccf3f85",
   "metadata": {
    "papermill": {
     "duration": 0.032981,
     "end_time": "2022-11-13T20:11:15.113918",
     "exception": false,
     "start_time": "2022-11-13T20:11:15.080937",
     "status": "completed"
    },
    "tags": []
   },
   "source": [
    "We reshape the data to flatten the image pixels into a set of features or co-variates:"
   ]
  },
  {
   "cell_type": "code",
   "execution_count": 14,
   "id": "5286a4a3",
   "metadata": {
    "execution": {
     "iopub.execute_input": "2022-11-13T20:11:15.185099Z",
     "iopub.status.busy": "2022-11-13T20:11:15.184397Z",
     "iopub.status.idle": "2022-11-13T20:11:15.200503Z",
     "shell.execute_reply": "2022-11-13T20:11:15.201204Z"
    },
    "papermill": {
     "duration": 0.052579,
     "end_time": "2022-11-13T20:11:15.201347",
     "exception": false,
     "start_time": "2022-11-13T20:11:15.148768",
     "status": "completed"
    },
    "tags": []
   },
   "outputs": [
    {
     "data": {
      "text/plain": [
       "((11982, 784), (1984, 784))"
      ]
     },
     "execution_count": 14,
     "metadata": {},
     "output_type": "execute_result"
    }
   ],
   "source": [
    "X_train = X_train.reshape(X_train.shape[0], -1)\n",
    "X_test = X_test.reshape(X_test.shape[0], -1)\n",
    "X_train.shape, X_test.shape"
   ]
  },
  {
   "cell_type": "code",
   "execution_count": 15,
   "id": "73c5f88a",
   "metadata": {
    "execution": {
     "iopub.execute_input": "2022-11-13T20:11:15.274061Z",
     "iopub.status.busy": "2022-11-13T20:11:15.273292Z",
     "iopub.status.idle": "2022-11-13T20:11:15.296966Z",
     "shell.execute_reply": "2022-11-13T20:11:15.297548Z"
    },
    "papermill": {
     "duration": 0.063608,
     "end_time": "2022-11-13T20:11:15.297742",
     "exception": false,
     "start_time": "2022-11-13T20:11:15.234134",
     "status": "completed"
    },
    "tags": []
   },
   "outputs": [],
   "source": [
    "#Impoting functions from 'Kudzu'\n",
    "from kudzu.model import Model\n",
    "from kudzu.train import Learner\n",
    "from kudzu.optim import GD\n",
    "from kudzu.data import Data, Sampler,Dataloader\n",
    "\n",
    "from kudzu.callbacks import AccCallback\n",
    "from kudzu.callbacks import ClfCallback\n",
    "\n",
    "from kudzu.loss import MSE\n",
    "\n",
    "from kudzu.layer import Sigmoid,Relu\n",
    "from kudzu.layer import Affine"
   ]
  },
  {
   "cell_type": "markdown",
   "id": "bc01172a",
   "metadata": {
    "papermill": {
     "duration": 0.034368,
     "end_time": "2022-11-13T20:11:15.369067",
     "exception": false,
     "start_time": "2022-11-13T20:11:15.334699",
     "status": "completed"
    },
    "tags": []
   },
   "source": [
    "### Let us create a `Config` class, to store important parameters. \n",
    "This class essentially plays the role of a dictionary."
   ]
  },
  {
   "cell_type": "code",
   "execution_count": 16,
   "id": "978281aa",
   "metadata": {
    "execution": {
     "iopub.execute_input": "2022-11-13T20:11:15.447062Z",
     "iopub.status.busy": "2022-11-13T20:11:15.446275Z",
     "iopub.status.idle": "2022-11-13T20:11:15.460767Z",
     "shell.execute_reply": "2022-11-13T20:11:15.461524Z"
    },
    "papermill": {
     "duration": 0.056046,
     "end_time": "2022-11-13T20:11:15.461725",
     "exception": false,
     "start_time": "2022-11-13T20:11:15.405679",
     "status": "completed"
    },
    "tags": []
   },
   "outputs": [],
   "source": [
    "class Config:\n",
    "    pass\n",
    "config = Config()\n",
    "config.lr = 0.001\n",
    "config.num_epochs = 250\n",
    "config.bs = 50"
   ]
  },
  {
   "cell_type": "markdown",
   "id": "1385fa59",
   "metadata": {
    "papermill": {
     "duration": 0.034378,
     "end_time": "2022-11-13T20:11:15.529571",
     "exception": false,
     "start_time": "2022-11-13T20:11:15.495193",
     "status": "completed"
    },
    "tags": []
   },
   "source": [
    "### Running Models with the Training data\n",
    "Details about the network layers:\n",
    "- A first affine layer has 784 inputs and does 100 affine transforms. These are followed by a Relu\n",
    "- A second affine layer has 100 inputs from the 100 activations of the past layer, and does 100 affine transforms. These are followed by a Relu\n",
    "- A third affine layer has 100 activations and does 2 affine transformations to create an embedding for visualization. There is no non-linearity here.\n",
    "- A final \"logistic regression\" which has an affine transform from 2 inputs to 1 output, which is squeezed through a sigmoid.\n"
   ]
  },
  {
   "cell_type": "code",
   "execution_count": 17,
   "id": "2b9c66db",
   "metadata": {
    "execution": {
     "iopub.execute_input": "2022-11-13T20:11:15.604698Z",
     "iopub.status.busy": "2022-11-13T20:11:15.603918Z",
     "iopub.status.idle": "2022-11-13T20:11:15.619304Z",
     "shell.execute_reply": "2022-11-13T20:11:15.618754Z"
    },
    "papermill": {
     "duration": 0.055552,
     "end_time": "2022-11-13T20:11:15.619427",
     "exception": false,
     "start_time": "2022-11-13T20:11:15.563875",
     "status": "completed"
    },
    "tags": []
   },
   "outputs": [],
   "source": [
    "data = Data(X_train, y_train.reshape(-1,1))\n",
    "sampler = Sampler(data, config.bs, shuffle=True)\n",
    "\n",
    "dl = Dataloader(data, sampler)\n",
    "\n",
    "opt = GD(config.lr)\n",
    "loss = MSE()"
   ]
  },
  {
   "cell_type": "code",
   "execution_count": 18,
   "id": "b275e4c2",
   "metadata": {
    "execution": {
     "iopub.execute_input": "2022-11-13T20:11:15.689934Z",
     "iopub.status.busy": "2022-11-13T20:11:15.689133Z",
     "iopub.status.idle": "2022-11-13T20:11:15.704824Z",
     "shell.execute_reply": "2022-11-13T20:11:15.705383Z"
    },
    "papermill": {
     "duration": 0.052666,
     "end_time": "2022-11-13T20:11:15.705520",
     "exception": false,
     "start_time": "2022-11-13T20:11:15.652854",
     "status": "completed"
    },
    "tags": []
   },
   "outputs": [],
   "source": [
    "training_data_x = X_train\n",
    "testing_data_x = X_test\n",
    "training_data_y = y_train.reshape(-1,1)\n",
    "testing_data_y = y_test.reshape(-1,1)"
   ]
  },
  {
   "cell_type": "code",
   "execution_count": 19,
   "id": "76951160",
   "metadata": {
    "execution": {
     "iopub.execute_input": "2022-11-13T20:11:15.778483Z",
     "iopub.status.busy": "2022-11-13T20:11:15.777492Z",
     "iopub.status.idle": "2022-11-13T20:11:15.798480Z",
     "shell.execute_reply": "2022-11-13T20:11:15.799142Z"
    },
    "papermill": {
     "duration": 0.061078,
     "end_time": "2022-11-13T20:11:15.799298",
     "exception": false,
     "start_time": "2022-11-13T20:11:15.738220",
     "status": "completed"
    },
    "tags": []
   },
   "outputs": [
    {
     "name": "stdout",
     "output_type": "stream",
     "text": [
      "xavier\n",
      "xavier\n",
      "xavier\n",
      "xavier\n",
      "xavier\n"
     ]
    }
   ],
   "source": [
    "layers = [Affine(\"first\", 784, 100), Relu(\"first\"), Affine(\"second\", 100, 100), Relu(\"second\"), Affine(\"third\", 100, 2), Affine(\"last\", 2, 1), Sigmoid(\"last\")]\n",
    "model_nn = Model(layers)\n",
    "model_lr = Model([Affine(\"logits\", 784, 1), Sigmoid(\"sigmoid\")])"
   ]
  },
  {
   "cell_type": "code",
   "execution_count": 20,
   "id": "6eede77a",
   "metadata": {
    "execution": {
     "iopub.execute_input": "2022-11-13T20:11:15.872644Z",
     "iopub.status.busy": "2022-11-13T20:11:15.871782Z",
     "iopub.status.idle": "2022-11-13T20:11:15.887793Z",
     "shell.execute_reply": "2022-11-13T20:11:15.887107Z"
    },
    "papermill": {
     "duration": 0.055034,
     "end_time": "2022-11-13T20:11:15.887922",
     "exception": false,
     "start_time": "2022-11-13T20:11:15.832888",
     "status": "completed"
    },
    "tags": []
   },
   "outputs": [],
   "source": [
    "nn_learner = Learner(loss, model_nn, opt, config.num_epochs)\n",
    "acc_nn = ClfCallback(nn_learner, config.bs, training_data_x , testing_data_x, training_data_y, testing_data_y)\n",
    "nn_learner.set_callbacks([acc_nn])"
   ]
  },
  {
   "cell_type": "code",
   "execution_count": 21,
   "id": "877b6cc7",
   "metadata": {
    "execution": {
     "iopub.execute_input": "2022-11-13T20:11:15.968074Z",
     "iopub.status.busy": "2022-11-13T20:11:15.967267Z",
     "iopub.status.idle": "2022-11-13T20:11:15.982843Z",
     "shell.execute_reply": "2022-11-13T20:11:15.982081Z"
    },
    "papermill": {
     "duration": 0.055393,
     "end_time": "2022-11-13T20:11:15.983320",
     "exception": false,
     "start_time": "2022-11-13T20:11:15.927927",
     "status": "completed"
    },
    "tags": []
   },
   "outputs": [],
   "source": [
    "lr_learner = Learner(loss, model_lr, opt, config.num_epochs)\n",
    "acc_lr = ClfCallback(lr_learner, config.bs, training_data_x , testing_data_x, training_data_y, testing_data_y)\n",
    "lr_learner.set_callbacks([acc_lr])"
   ]
  },
  {
   "cell_type": "code",
   "execution_count": 22,
   "id": "d9b133c3",
   "metadata": {
    "execution": {
     "iopub.execute_input": "2022-11-13T20:11:16.097705Z",
     "iopub.status.busy": "2022-11-13T20:11:16.096918Z",
     "iopub.status.idle": "2022-11-13T20:13:43.146867Z",
     "shell.execute_reply": "2022-11-13T20:13:43.148019Z"
    },
    "papermill": {
     "duration": 147.096916,
     "end_time": "2022-11-13T20:13:43.148178",
     "exception": false,
     "start_time": "2022-11-13T20:11:16.051262",
     "status": "completed"
    },
    "tags": []
   },
   "outputs": [
    {
     "name": "stdout",
     "output_type": "stream",
     "text": [
      "Epoch 0, Loss 0.2391\n",
      "Training Accuracy: 0.6764, Testing Accuracy: 0.6583\n",
      "\n"
     ]
    },
    {
     "name": "stdout",
     "output_type": "stream",
     "text": [
      "Epoch 10, Loss 0.0929\n",
      "Training Accuracy: 0.9105, Testing Accuracy: 0.9249\n",
      "\n"
     ]
    },
    {
     "name": "stdout",
     "output_type": "stream",
     "text": [
      "Epoch 20, Loss 0.0566\n",
      "Training Accuracy: 0.9417, Testing Accuracy: 0.9536\n",
      "\n"
     ]
    },
    {
     "name": "stdout",
     "output_type": "stream",
     "text": [
      "Epoch 30, Loss 0.0437\n",
      "Training Accuracy: 0.9533, Testing Accuracy: 0.9632\n",
      "\n"
     ]
    },
    {
     "name": "stdout",
     "output_type": "stream",
     "text": [
      "Epoch 40, Loss 0.0374\n",
      "Training Accuracy: 0.9584, Testing Accuracy: 0.9677\n",
      "\n"
     ]
    },
    {
     "name": "stdout",
     "output_type": "stream",
     "text": [
      "Epoch 50, Loss 0.0337\n",
      "Training Accuracy: 0.9623, Testing Accuracy: 0.9713\n",
      "\n"
     ]
    },
    {
     "name": "stdout",
     "output_type": "stream",
     "text": [
      "Epoch 60, Loss 0.0312\n",
      "Training Accuracy: 0.9649, Testing Accuracy: 0.9718\n",
      "\n"
     ]
    },
    {
     "name": "stdout",
     "output_type": "stream",
     "text": [
      "Epoch 70, Loss 0.0293\n",
      "Training Accuracy: 0.9665, Testing Accuracy: 0.9743\n",
      "\n"
     ]
    },
    {
     "name": "stdout",
     "output_type": "stream",
     "text": [
      "Epoch 80, Loss 0.0279\n",
      "Training Accuracy: 0.9683, Testing Accuracy: 0.9748\n",
      "\n"
     ]
    },
    {
     "name": "stdout",
     "output_type": "stream",
     "text": [
      "Epoch 90, Loss 0.0267\n",
      "Training Accuracy: 0.9690, Testing Accuracy: 0.9748\n",
      "\n"
     ]
    },
    {
     "name": "stdout",
     "output_type": "stream",
     "text": [
      "Epoch 100, Loss 0.0257\n",
      "Training Accuracy: 0.9701, Testing Accuracy: 0.9753\n",
      "\n"
     ]
    },
    {
     "name": "stdout",
     "output_type": "stream",
     "text": [
      "Epoch 110, Loss 0.0248\n",
      "Training Accuracy: 0.9710, Testing Accuracy: 0.9748\n",
      "\n"
     ]
    },
    {
     "name": "stdout",
     "output_type": "stream",
     "text": [
      "Epoch 120, Loss 0.0241\n",
      "Training Accuracy: 0.9717, Testing Accuracy: 0.9753\n",
      "\n"
     ]
    },
    {
     "name": "stdout",
     "output_type": "stream",
     "text": [
      "Epoch 130, Loss 0.0234\n",
      "Training Accuracy: 0.9724, Testing Accuracy: 0.9753\n",
      "\n"
     ]
    },
    {
     "name": "stdout",
     "output_type": "stream",
     "text": [
      "Epoch 140, Loss 0.0228\n",
      "Training Accuracy: 0.9730, Testing Accuracy: 0.9748\n",
      "\n"
     ]
    },
    {
     "name": "stdout",
     "output_type": "stream",
     "text": [
      "Epoch 150, Loss 0.0222\n",
      "Training Accuracy: 0.9737, Testing Accuracy: 0.9753\n",
      "\n"
     ]
    },
    {
     "name": "stdout",
     "output_type": "stream",
     "text": [
      "Epoch 160, Loss 0.0217\n",
      "Training Accuracy: 0.9744, Testing Accuracy: 0.9753\n",
      "\n"
     ]
    },
    {
     "name": "stdout",
     "output_type": "stream",
     "text": [
      "Epoch 170, Loss 0.0212\n",
      "Training Accuracy: 0.9755, Testing Accuracy: 0.9748\n",
      "\n"
     ]
    },
    {
     "name": "stdout",
     "output_type": "stream",
     "text": [
      "Epoch 180, Loss 0.0207\n",
      "Training Accuracy: 0.9760, Testing Accuracy: 0.9748\n",
      "\n"
     ]
    },
    {
     "name": "stdout",
     "output_type": "stream",
     "text": [
      "Epoch 190, Loss 0.0203\n",
      "Training Accuracy: 0.9768, Testing Accuracy: 0.9748\n",
      "\n"
     ]
    },
    {
     "name": "stdout",
     "output_type": "stream",
     "text": [
      "Epoch 200, Loss 0.0199\n",
      "Training Accuracy: 0.9770, Testing Accuracy: 0.9753\n",
      "\n"
     ]
    },
    {
     "name": "stdout",
     "output_type": "stream",
     "text": [
      "Epoch 210, Loss 0.0195\n",
      "Training Accuracy: 0.9777, Testing Accuracy: 0.9753\n",
      "\n"
     ]
    },
    {
     "name": "stdout",
     "output_type": "stream",
     "text": [
      "Epoch 220, Loss 0.0191\n",
      "Training Accuracy: 0.9781, Testing Accuracy: 0.9753\n",
      "\n"
     ]
    },
    {
     "name": "stdout",
     "output_type": "stream",
     "text": [
      "Epoch 230, Loss 0.0187\n",
      "Training Accuracy: 0.9786, Testing Accuracy: 0.9748\n",
      "\n"
     ]
    },
    {
     "name": "stdout",
     "output_type": "stream",
     "text": [
      "Epoch 240, Loss 0.0184\n",
      "Training Accuracy: 0.9794, Testing Accuracy: 0.9758\n",
      "\n"
     ]
    },
    {
     "data": {
      "text/plain": [
       "0.005444367973009522"
      ]
     },
     "execution_count": 22,
     "metadata": {},
     "output_type": "execute_result"
    }
   ],
   "source": [
    "nn_learner.train_loop(dl)"
   ]
  },
  {
   "cell_type": "code",
   "execution_count": 23,
   "id": "e0163366",
   "metadata": {
    "execution": {
     "iopub.execute_input": "2022-11-13T20:13:43.250139Z",
     "iopub.status.busy": "2022-11-13T20:13:43.249353Z",
     "iopub.status.idle": "2022-11-13T20:14:04.153641Z",
     "shell.execute_reply": "2022-11-13T20:14:04.154839Z"
    },
    "papermill": {
     "duration": 20.962672,
     "end_time": "2022-11-13T20:14:04.155004",
     "exception": false,
     "start_time": "2022-11-13T20:13:43.192332",
     "status": "completed"
    },
    "tags": []
   },
   "outputs": [
    {
     "name": "stdout",
     "output_type": "stream",
     "text": [
      "Epoch 0, Loss 0.2639\n",
      "Training Accuracy: 0.5748, Testing Accuracy: 0.6134\n",
      "\n"
     ]
    },
    {
     "name": "stdout",
     "output_type": "stream",
     "text": [
      "Epoch 10, Loss 0.1061\n",
      "Training Accuracy: 0.9034, Testing Accuracy: 0.9143\n",
      "\n"
     ]
    },
    {
     "name": "stdout",
     "output_type": "stream",
     "text": [
      "Epoch 20, Loss 0.0805\n",
      "Training Accuracy: 0.9276, Testing Accuracy: 0.9345\n",
      "\n"
     ]
    },
    {
     "name": "stdout",
     "output_type": "stream",
     "text": [
      "Epoch 30, Loss 0.0689\n",
      "Training Accuracy: 0.9363, Testing Accuracy: 0.9471\n",
      "\n"
     ]
    },
    {
     "name": "stdout",
     "output_type": "stream",
     "text": [
      "Epoch 40, Loss 0.062\n",
      "Training Accuracy: 0.9420, Testing Accuracy: 0.9506\n",
      "\n"
     ]
    },
    {
     "name": "stdout",
     "output_type": "stream",
     "text": [
      "Epoch 50, Loss 0.0574\n",
      "Training Accuracy: 0.9462, Testing Accuracy: 0.9531\n",
      "\n"
     ]
    },
    {
     "name": "stdout",
     "output_type": "stream",
     "text": [
      "Epoch 60, Loss 0.054\n",
      "Training Accuracy: 0.9473, Testing Accuracy: 0.9546\n",
      "\n"
     ]
    },
    {
     "name": "stdout",
     "output_type": "stream",
     "text": [
      "Epoch 70, Loss 0.0514\n",
      "Training Accuracy: 0.9491, Testing Accuracy: 0.9567\n",
      "\n"
     ]
    },
    {
     "name": "stdout",
     "output_type": "stream",
     "text": [
      "Epoch 80, Loss 0.0493\n",
      "Training Accuracy: 0.9508, Testing Accuracy: 0.9577\n",
      "\n"
     ]
    },
    {
     "name": "stdout",
     "output_type": "stream",
     "text": [
      "Epoch 90, Loss 0.0476\n",
      "Training Accuracy: 0.9518, Testing Accuracy: 0.9612\n",
      "\n"
     ]
    },
    {
     "name": "stdout",
     "output_type": "stream",
     "text": [
      "Epoch 100, Loss 0.0462\n",
      "Training Accuracy: 0.9525, Testing Accuracy: 0.9627\n",
      "\n"
     ]
    },
    {
     "name": "stdout",
     "output_type": "stream",
     "text": [
      "Epoch 110, Loss 0.045\n",
      "Training Accuracy: 0.9539, Testing Accuracy: 0.9652\n",
      "\n"
     ]
    },
    {
     "name": "stdout",
     "output_type": "stream",
     "text": [
      "Epoch 120, Loss 0.0439\n",
      "Training Accuracy: 0.9548, Testing Accuracy: 0.9657\n",
      "\n"
     ]
    },
    {
     "name": "stdout",
     "output_type": "stream",
     "text": [
      "Epoch 130, Loss 0.043\n",
      "Training Accuracy: 0.9554, Testing Accuracy: 0.9657\n",
      "\n"
     ]
    },
    {
     "name": "stdout",
     "output_type": "stream",
     "text": [
      "Epoch 140, Loss 0.0422\n",
      "Training Accuracy: 0.9561, Testing Accuracy: 0.9652\n",
      "\n"
     ]
    },
    {
     "name": "stdout",
     "output_type": "stream",
     "text": [
      "Epoch 150, Loss 0.0414\n",
      "Training Accuracy: 0.9563, Testing Accuracy: 0.9657\n",
      "\n"
     ]
    },
    {
     "name": "stdout",
     "output_type": "stream",
     "text": [
      "Epoch 160, Loss 0.0408\n",
      "Training Accuracy: 0.9565, Testing Accuracy: 0.9662\n",
      "\n"
     ]
    },
    {
     "name": "stdout",
     "output_type": "stream",
     "text": [
      "Epoch 170, Loss 0.0401\n",
      "Training Accuracy: 0.9574, Testing Accuracy: 0.9662\n",
      "\n"
     ]
    },
    {
     "name": "stdout",
     "output_type": "stream",
     "text": [
      "Epoch 180, Loss 0.0396\n",
      "Training Accuracy: 0.9577, Testing Accuracy: 0.9657\n",
      "\n"
     ]
    },
    {
     "name": "stdout",
     "output_type": "stream",
     "text": [
      "Epoch 190, Loss 0.0391\n",
      "Training Accuracy: 0.9584, Testing Accuracy: 0.9652\n",
      "\n"
     ]
    },
    {
     "name": "stdout",
     "output_type": "stream",
     "text": [
      "Epoch 200, Loss 0.0386\n",
      "Training Accuracy: 0.9589, Testing Accuracy: 0.9657\n",
      "\n"
     ]
    },
    {
     "name": "stdout",
     "output_type": "stream",
     "text": [
      "Epoch 210, Loss 0.0382\n",
      "Training Accuracy: 0.9593, Testing Accuracy: 0.9657\n",
      "\n"
     ]
    },
    {
     "name": "stdout",
     "output_type": "stream",
     "text": [
      "Epoch 220, Loss 0.0377\n",
      "Training Accuracy: 0.9594, Testing Accuracy: 0.9657\n",
      "\n"
     ]
    },
    {
     "name": "stdout",
     "output_type": "stream",
     "text": [
      "Epoch 230, Loss 0.0374\n",
      "Training Accuracy: 0.9598, Testing Accuracy: 0.9667\n",
      "\n"
     ]
    },
    {
     "name": "stdout",
     "output_type": "stream",
     "text": [
      "Epoch 240, Loss 0.037\n",
      "Training Accuracy: 0.9601, Testing Accuracy: 0.9667\n",
      "\n"
     ]
    },
    {
     "data": {
      "text/plain": [
       "0.021684817893565994"
      ]
     },
     "execution_count": 23,
     "metadata": {},
     "output_type": "execute_result"
    }
   ],
   "source": [
    "lr_learner.train_loop(dl)"
   ]
  },
  {
   "cell_type": "code",
   "execution_count": 24,
   "id": "ca410940",
   "metadata": {
    "execution": {
     "iopub.execute_input": "2022-11-13T20:14:04.266117Z",
     "iopub.status.busy": "2022-11-13T20:14:04.265269Z",
     "iopub.status.idle": "2022-11-13T20:14:04.598654Z",
     "shell.execute_reply": "2022-11-13T20:14:04.599158Z"
    },
    "papermill": {
     "duration": 0.392601,
     "end_time": "2022-11-13T20:14:04.599313",
     "exception": false,
     "start_time": "2022-11-13T20:14:04.206712",
     "status": "completed"
    },
    "tags": []
   },
   "outputs": [
    {
     "data": {
      "text/plain": [
       "<matplotlib.legend.Legend at 0x7fbf30a03518>"
      ]
     },
     "execution_count": 24,
     "metadata": {},
     "output_type": "execute_result"
    },
    {
     "data": {
      "image/png": "[encoded data removed]",
      "text/plain": [
       "<Figure size 1080x720 with 1 Axes>"
      ]
     },
     "metadata": {
      "needs_background": "light"
     },
     "output_type": "display_data"
    }
   ],
   "source": [
    "#comparing the results of NN and LR\n",
    "plt.figure(figsize=(15,10))\n",
    "\n",
    "# Neural Network plots\n",
    "plt.plot(acc_nn.accuracies, 'r-', label = \"Training Accuracies - NN\")\n",
    "plt.plot(acc_nn.test_accuracies, 'g-', label = \"Testing Accuracies - NN\")\n",
    "\n",
    "# Logistic Regression plots\n",
    "plt.plot(acc_lr.accuracies, 'k-', label = \"Training Accuracies - LR\")\n",
    "plt.plot(acc_lr.test_accuracies, 'b-', label = \"Testing Accuracies - LR\")\n",
    "plt.legend()"
   ]
  },
  {
   "cell_type": "markdown",
   "id": "80dfb35c",
   "metadata": {
    "papermill": {
     "duration": 0.053051,
     "end_time": "2022-11-13T20:14:04.703868",
     "exception": false,
     "start_time": "2022-11-13T20:14:04.650817",
     "status": "completed"
    },
    "tags": []
   },
   "source": [
    "#### Plotting the outputs of this layer of the NN.\n"
   ]
  },
  {
   "cell_type": "code",
   "execution_count": 25,
   "id": "45eb2ff5",
   "metadata": {
    "execution": {
     "iopub.execute_input": "2022-11-13T20:14:04.824304Z",
     "iopub.status.busy": "2022-11-13T20:14:04.823504Z",
     "iopub.status.idle": "2022-11-13T20:14:04.855859Z",
     "shell.execute_reply": "2022-11-13T20:14:04.856861Z"
    },
    "papermill": {
     "duration": 0.09956,
     "end_time": "2022-11-13T20:14:04.857052",
     "exception": false,
     "start_time": "2022-11-13T20:14:04.757492",
     "status": "completed"
    },
    "tags": []
   },
   "outputs": [],
   "source": [
    "new_model = Model(layers[:-2])\n",
    "testing_plot = new_model(testing_data_x)"
   ]
  },
  {
   "cell_type": "code",
   "execution_count": 26,
   "id": "4c0a5485",
   "metadata": {
    "execution": {
     "iopub.execute_input": "2022-11-13T20:14:04.993761Z",
     "iopub.status.busy": "2022-11-13T20:14:04.992933Z",
     "iopub.status.idle": "2022-11-13T20:14:05.278435Z",
     "shell.execute_reply": "2022-11-13T20:14:05.278940Z"
    },
    "papermill": {
     "duration": 0.356864,
     "end_time": "2022-11-13T20:14:05.279095",
     "exception": false,
     "start_time": "2022-11-13T20:14:04.922231",
     "status": "completed"
    },
    "tags": []
   },
   "outputs": [
    {
     "data": {
      "text/plain": [
       "Text(0.5, 1.0, 'Outputs')"
      ]
     },
     "execution_count": 26,
     "metadata": {},
     "output_type": "execute_result"
    },
    {
     "data": {
      "image/png": "[encoded data removed]",
      "text/plain": [
       "<Figure size 576x504 with 1 Axes>"
      ]
     },
     "metadata": {
      "needs_background": "light"
     },
     "output_type": "display_data"
    }
   ],
   "source": [
    "# Plotting the scatter plot of points and color coding by class\n",
    "plt.figure(figsize=(8,7))\n",
    "plt.scatter(testing_plot[:,0], testing_plot[:,1], alpha = 0.1, c = y_test.ravel());\n",
    "plt.title('Outputs')"
   ]
  },
  {
   "cell_type": "markdown",
   "id": "a74fcf8f",
   "metadata": {
    "papermill": {
     "duration": 0.084222,
     "end_time": "2022-11-13T20:14:05.423317",
     "exception": false,
     "start_time": "2022-11-13T20:14:05.339095",
     "status": "completed"
    },
    "tags": []
   },
   "source": [
    "Probability contours"
   ]
  },
  {
   "cell_type": "code",
   "execution_count": 27,
   "id": "d0afc8e3",
   "metadata": {
    "execution": {
     "iopub.execute_input": "2022-11-13T20:14:05.540148Z",
     "iopub.status.busy": "2022-11-13T20:14:05.539299Z",
     "iopub.status.idle": "2022-11-13T20:14:05.554666Z",
     "shell.execute_reply": "2022-11-13T20:14:05.553966Z"
    },
    "papermill": {
     "duration": 0.076416,
     "end_time": "2022-11-13T20:14:05.554798",
     "exception": false,
     "start_time": "2022-11-13T20:14:05.478382",
     "status": "completed"
    },
    "tags": []
   },
   "outputs": [],
   "source": [
    "model_prob = Model(layers[-2:]) "
   ]
  },
  {
   "cell_type": "code",
   "execution_count": 28,
   "id": "9b96e238",
   "metadata": {
    "execution": {
     "iopub.execute_input": "2022-11-13T20:14:05.674662Z",
     "iopub.status.busy": "2022-11-13T20:14:05.673949Z",
     "iopub.status.idle": "2022-11-13T20:14:05.690182Z",
     "shell.execute_reply": "2022-11-13T20:14:05.690754Z"
    },
    "papermill": {
     "duration": 0.077024,
     "end_time": "2022-11-13T20:14:05.690917",
     "exception": false,
     "start_time": "2022-11-13T20:14:05.613893",
     "status": "completed"
    },
    "tags": []
   },
   "outputs": [],
   "source": [
    "#creating the x and y ranges according to the above generated plot.\n",
    "x_range = np.linspace(-4, 1, 100) \n",
    "y_range = np.linspace(-6, 6, 100) \n",
    "x_grid, y_grid = np.meshgrid(x_range, y_range) # x_grid and y_grig are of size 100 X 100\n",
    "\n",
    "# converting x_grid and y_grid to continuous arrays\n",
    "x_gridflat = np.ravel(x_grid)\n",
    "y_gridflat = np.ravel(y_grid)\n",
    "\n",
    "# The last layer of the current model takes two columns as input. Hence transpose of np.vstack() is required.\n",
    "X = np.vstack((x_gridflat, y_gridflat)).T\n",
    "\n",
    "prob_contour = model_prob(X).reshape(100,100) "
   ]
  },
  {
   "cell_type": "code",
   "execution_count": 29,
   "id": "da72499a",
   "metadata": {
    "execution": {
     "iopub.execute_input": "2022-11-13T20:14:05.815814Z",
     "iopub.status.busy": "2022-11-13T20:14:05.813616Z",
     "iopub.status.idle": "2022-11-13T20:14:06.151349Z",
     "shell.execute_reply": "2022-11-13T20:14:06.151936Z"
    },
    "papermill": {
     "duration": 0.402704,
     "end_time": "2022-11-13T20:14:06.152139",
     "exception": false,
     "start_time": "2022-11-13T20:14:05.749435",
     "status": "completed"
    },
    "tags": []
   },
   "outputs": [
    {
     "data": {
      "image/png": "[encoded data removed]",
      "text/plain": [
       "<Figure size 720x648 with 1 Axes>"
      ]
     },
     "metadata": {
      "needs_background": "light"
     },
     "output_type": "display_data"
    }
   ],
   "source": [
    "plt.figure(figsize=(10,9))\n",
    "plt.scatter(testing_plot[:,0], testing_plot[:,1], alpha = 0.1, c = y_test.ravel())\n",
    "contours = plt.contour(x_grid,y_grid,prob_contour)\n",
    "plt.title('Probability Contours')\n",
    "plt.clabel(contours, inline = True );"
   ]
  },
  {
   "cell_type": "code",
   "execution_count": null,
   "id": "e81b4ac7",
   "metadata": {
    "papermill": {
     "duration": 0.059978,
     "end_time": "2022-11-13T20:14:06.270632",
     "exception": false,
     "start_time": "2022-11-13T20:14:06.210654",
     "status": "completed"
    },
    "tags": []
   },
   "outputs": [],
   "source": []
  }
 ],
 "metadata": {
  "kernelspec": {
   "display_name": "Python 3",
   "language": "python",
   "name": "python3"
  },
  "language_info": {
   "codemirror_mode": {
    "name": "ipython",
    "version": 3
   },
   "file_extension": ".py",
   "mimetype": "text/x-python",
   "name": "python",
   "nbconvert_exporter": "python",
   "pygments_lexer": "ipython3",
   "version": "3.6.15"
  },
  "papermill": {
   "default_parameters": {},
   "duration": 178.24382,
   "end_time": "2022-11-13T20:14:06.752163",
   "environment_variables": {},
   "exception": null,
   "input_path": "2020-08-11-part2.ipynb",
   "output_path": "2020-08-11-part2.ipynb",
   "parameters": {},
   "start_time": "2022-11-13T20:11:08.508343",
   "version": "2.3.3"
  }
 },
 "nbformat": 4,
 "nbformat_minor": 5
}