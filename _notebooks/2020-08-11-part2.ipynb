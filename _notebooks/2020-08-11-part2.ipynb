{
 "cells": [
  {
   "cell_type": "markdown",
   "id": "98380cd3",
   "metadata": {
    "papermill": {
     "duration": 0.031602,
     "end_time": "2022-04-24T20:10:26.215799",
     "exception": false,
     "start_time": "2022-04-24T20:10:26.184197",
     "status": "completed"
    },
    "tags": []
   },
   "source": [
    "# Distinguish Your Own Digits (DYOD)"
   ]
  },
  {
   "cell_type": "markdown",
   "id": "ef31240d",
   "metadata": {
    "papermill": {
     "duration": 0.026368,
     "end_time": "2022-04-24T20:10:26.267614",
     "exception": false,
     "start_time": "2022-04-24T20:10:26.241246",
     "status": "completed"
    },
    "tags": []
   },
   "source": [
    "You are going to write a classifier that distinguishes between the number 3 and number 8."
   ]
  },
  {
   "cell_type": "code",
   "execution_count": 1,
   "id": "b15c8646",
   "metadata": {
    "execution": {
     "iopub.execute_input": "2022-04-24T20:10:26.328421Z",
     "iopub.status.busy": "2022-04-24T20:10:26.327875Z",
     "iopub.status.idle": "2022-04-24T20:10:26.338305Z",
     "shell.execute_reply": "2022-04-24T20:10:26.337746Z"
    },
    "papermill": {
     "duration": 0.044068,
     "end_time": "2022-04-24T20:10:26.338460",
     "exception": false,
     "start_time": "2022-04-24T20:10:26.294392",
     "status": "completed"
    },
    "tags": []
   },
   "outputs": [],
   "source": [
    "%load_ext autoreload\n",
    "%autoreload 2"
   ]
  },
  {
   "cell_type": "code",
   "execution_count": 2,
   "id": "22ef38dc",
   "metadata": {
    "execution": {
     "iopub.execute_input": "2022-04-24T20:10:26.393054Z",
     "iopub.status.busy": "2022-04-24T20:10:26.392494Z",
     "iopub.status.idle": "2022-04-24T20:10:26.973099Z",
     "shell.execute_reply": "2022-04-24T20:10:26.971153Z"
    },
    "papermill": {
     "duration": 0.610139,
     "end_time": "2022-04-24T20:10:26.973244",
     "exception": false,
     "start_time": "2022-04-24T20:10:26.363105",
     "status": "completed"
    },
    "tags": []
   },
   "outputs": [],
   "source": [
    "%matplotlib inline\n",
    "import numpy as np\n",
    "import matplotlib.pyplot as plt\n",
    "import pandas as pd"
   ]
  },
  {
   "cell_type": "markdown",
   "id": "ba036198",
   "metadata": {
    "papermill": {
     "duration": 0.024213,
     "end_time": "2022-04-24T20:10:27.021973",
     "exception": false,
     "start_time": "2022-04-24T20:10:26.997760",
     "status": "completed"
    },
    "tags": []
   },
   "source": [
    "From the command line run `pip install mnist`. This is a library that will help you bring down the mnist dataset. If you run this from a notebook, you need to put  `!pip install mnist` in a cell by itself."
   ]
  },
  {
   "cell_type": "code",
   "execution_count": 3,
   "id": "bb6ad8a1",
   "metadata": {
    "execution": {
     "iopub.execute_input": "2022-04-24T20:10:27.075320Z",
     "iopub.status.busy": "2022-04-24T20:10:27.074780Z",
     "iopub.status.idle": "2022-04-24T20:10:29.015192Z",
     "shell.execute_reply": "2022-04-24T20:10:29.015657Z"
    },
    "papermill": {
     "duration": 1.969497,
     "end_time": "2022-04-24T20:10:29.015803",
     "exception": false,
     "start_time": "2022-04-24T20:10:27.046306",
     "status": "completed"
    },
    "tags": []
   },
   "outputs": [
    {
     "name": "stdout",
     "output_type": "stream",
     "text": [
      "Collecting mnist\r\n"
     ]
    },
    {
     "name": "stdout",
     "output_type": "stream",
     "text": [
      "  Downloading mnist-0.2.2-py2.py3-none-any.whl (3.5 kB)\r\n"
     ]
    },
    {
     "name": "stdout",
     "output_type": "stream",
     "text": [
      "Requirement already satisfied: numpy in /opt/hostedtoolcache/Python/3.6.15/x64/lib/python3.6/site-packages (from mnist) (1.19.5)\r\n"
     ]
    },
    {
     "name": "stdout",
     "output_type": "stream",
     "text": [
      "Installing collected packages: mnist\r\n",
      "Successfully installed mnist-0.2.2\r\n"
     ]
    }
   ],
   "source": [
    "!pip install mnist"
   ]
  },
  {
   "cell_type": "markdown",
   "id": "69df9c9a",
   "metadata": {
    "papermill": {
     "duration": 0.025889,
     "end_time": "2022-04-24T20:10:29.072896",
     "exception": false,
     "start_time": "2022-04-24T20:10:29.047007",
     "status": "completed"
    },
    "tags": []
   },
   "source": [
    "## Preparing the Data"
   ]
  },
  {
   "cell_type": "code",
   "execution_count": 4,
   "id": "7f69d806",
   "metadata": {
    "execution": {
     "iopub.execute_input": "2022-04-24T20:10:29.134867Z",
     "iopub.status.busy": "2022-04-24T20:10:29.134179Z",
     "iopub.status.idle": "2022-04-24T20:10:29.147022Z",
     "shell.execute_reply": "2022-04-24T20:10:29.146553Z"
    },
    "papermill": {
     "duration": 0.04897,
     "end_time": "2022-04-24T20:10:29.147151",
     "exception": false,
     "start_time": "2022-04-24T20:10:29.098181",
     "status": "completed"
    },
    "tags": []
   },
   "outputs": [],
   "source": [
    "import mnist"
   ]
  },
  {
   "cell_type": "code",
   "execution_count": 5,
   "id": "a411e44f",
   "metadata": {
    "execution": {
     "iopub.execute_input": "2022-04-24T20:10:29.202627Z",
     "iopub.status.busy": "2022-04-24T20:10:29.202008Z",
     "iopub.status.idle": "2022-04-24T20:10:29.845510Z",
     "shell.execute_reply": "2022-04-24T20:10:29.846066Z"
    },
    "papermill": {
     "duration": 0.67344,
     "end_time": "2022-04-24T20:10:29.846261",
     "exception": false,
     "start_time": "2022-04-24T20:10:29.172821",
     "status": "completed"
    },
    "tags": []
   },
   "outputs": [],
   "source": [
    "train_images = mnist.train_images()\n",
    "train_labels = mnist.train_labels()"
   ]
  },
  {
   "cell_type": "code",
   "execution_count": 6,
   "id": "dceab3a5",
   "metadata": {
    "execution": {
     "iopub.execute_input": "2022-04-24T20:10:29.901499Z",
     "iopub.status.busy": "2022-04-24T20:10:29.900961Z",
     "iopub.status.idle": "2022-04-24T20:10:29.919110Z",
     "shell.execute_reply": "2022-04-24T20:10:29.917973Z"
    },
    "papermill": {
     "duration": 0.047435,
     "end_time": "2022-04-24T20:10:29.919298",
     "exception": false,
     "start_time": "2022-04-24T20:10:29.871863",
     "status": "completed"
    },
    "tags": []
   },
   "outputs": [
    {
     "data": {
      "text/plain": [
       "((60000, 28, 28), (60000,))"
      ]
     },
     "execution_count": 6,
     "metadata": {},
     "output_type": "execute_result"
    }
   ],
   "source": [
    "train_images.shape, train_labels.shape"
   ]
  },
  {
   "cell_type": "code",
   "execution_count": 7,
   "id": "f50dc2bb",
   "metadata": {
    "execution": {
     "iopub.execute_input": "2022-04-24T20:10:29.979812Z",
     "iopub.status.busy": "2022-04-24T20:10:29.979269Z",
     "iopub.status.idle": "2022-04-24T20:10:30.217310Z",
     "shell.execute_reply": "2022-04-24T20:10:30.217769Z"
    },
    "papermill": {
     "duration": 0.267911,
     "end_time": "2022-04-24T20:10:30.217914",
     "exception": false,
     "start_time": "2022-04-24T20:10:29.950003",
     "status": "completed"
    },
    "tags": []
   },
   "outputs": [],
   "source": [
    "test_images = mnist.test_images()\n",
    "test_labels = mnist.test_labels()"
   ]
  },
  {
   "cell_type": "code",
   "execution_count": 8,
   "id": "fc38cf1b",
   "metadata": {
    "execution": {
     "iopub.execute_input": "2022-04-24T20:10:30.284157Z",
     "iopub.status.busy": "2022-04-24T20:10:30.279018Z",
     "iopub.status.idle": "2022-04-24T20:10:30.291020Z",
     "shell.execute_reply": "2022-04-24T20:10:30.290550Z"
    },
    "papermill": {
     "duration": 0.047274,
     "end_time": "2022-04-24T20:10:30.291141",
     "exception": false,
     "start_time": "2022-04-24T20:10:30.243867",
     "status": "completed"
    },
    "tags": []
   },
   "outputs": [
    {
     "data": {
      "text/plain": [
       "((10000, 28, 28), (10000,))"
      ]
     },
     "execution_count": 8,
     "metadata": {},
     "output_type": "execute_result"
    }
   ],
   "source": [
    "test_images.shape, test_labels.shape"
   ]
  },
  {
   "cell_type": "code",
   "execution_count": 9,
   "id": "f9ed8fe0",
   "metadata": {
    "execution": {
     "iopub.execute_input": "2022-04-24T20:10:30.347442Z",
     "iopub.status.busy": "2022-04-24T20:10:30.346908Z",
     "iopub.status.idle": "2022-04-24T20:10:30.490689Z",
     "shell.execute_reply": "2022-04-24T20:10:30.491181Z"
    },
    "papermill": {
     "duration": 0.174301,
     "end_time": "2022-04-24T20:10:30.491332",
     "exception": false,
     "start_time": "2022-04-24T20:10:30.317031",
     "status": "completed"
    },
    "tags": []
   },
   "outputs": [
    {
     "name": "stdout",
     "output_type": "stream",
     "text": [
      "2\n"
     ]
    },
    {
     "data": {
      "text/plain": [
       "<matplotlib.image.AxesImage at 0x7fd9a35b1390>"
      ]
     },
     "execution_count": 9,
     "metadata": {},
     "output_type": "execute_result"
    },
    {
     "data": {
      "image/png": "[encoded data removed]",
      "text/plain": [
       "<Figure size 432x288 with 1 Axes>"
      ]
     },
     "metadata": {
      "needs_background": "light"
     },
     "output_type": "display_data"
    }
   ],
   "source": [
    "image_index = 7776 # You may select anything up to 60,000\n",
    "print(train_labels[image_index]) \n",
    "plt.imshow(train_images[image_index], cmap='Greys')"
   ]
  },
  {
   "cell_type": "markdown",
   "id": "a8d2388d",
   "metadata": {
    "papermill": {
     "duration": 0.027192,
     "end_time": "2022-04-24T20:10:30.548125",
     "exception": false,
     "start_time": "2022-04-24T20:10:30.520933",
     "status": "completed"
    },
    "tags": []
   },
   "source": [
    "## Filter data to get 3 and 8 out"
   ]
  },
  {
   "cell_type": "code",
   "execution_count": 10,
   "id": "776f7fc7",
   "metadata": {
    "execution": {
     "iopub.execute_input": "2022-04-24T20:10:30.607270Z",
     "iopub.status.busy": "2022-04-24T20:10:30.606600Z",
     "iopub.status.idle": "2022-04-24T20:10:30.623274Z",
     "shell.execute_reply": "2022-04-24T20:10:30.622778Z"
    },
    "papermill": {
     "duration": 0.047959,
     "end_time": "2022-04-24T20:10:30.623409",
     "exception": false,
     "start_time": "2022-04-24T20:10:30.575450",
     "status": "completed"
    },
    "tags": []
   },
   "outputs": [],
   "source": [
    "train_filter = np.where((train_labels == 3 ) | (train_labels == 8))\n",
    "test_filter = np.where((test_labels == 3) | (test_labels == 8))\n",
    "X_train, y_train = train_images[train_filter], train_labels[train_filter]\n",
    "X_test, y_test = test_images[test_filter], test_labels[test_filter]"
   ]
  },
  {
   "cell_type": "markdown",
   "id": "948f0b7e",
   "metadata": {
    "papermill": {
     "duration": 0.027021,
     "end_time": "2022-04-24T20:10:30.678004",
     "exception": false,
     "start_time": "2022-04-24T20:10:30.650983",
     "status": "completed"
    },
    "tags": []
   },
   "source": [
    "We normalize the pizel values in the 0 to 1 range"
   ]
  },
  {
   "cell_type": "code",
   "execution_count": 11,
   "id": "ee4c2166",
   "metadata": {
    "execution": {
     "iopub.execute_input": "2022-04-24T20:10:30.735853Z",
     "iopub.status.busy": "2022-04-24T20:10:30.735300Z",
     "iopub.status.idle": "2022-04-24T20:10:30.784275Z",
     "shell.execute_reply": "2022-04-24T20:10:30.783685Z"
    },
    "papermill": {
     "duration": 0.079305,
     "end_time": "2022-04-24T20:10:30.784398",
     "exception": false,
     "start_time": "2022-04-24T20:10:30.705093",
     "status": "completed"
    },
    "tags": []
   },
   "outputs": [],
   "source": [
    "X_train = X_train/255.\n",
    "X_test = X_test/255."
   ]
  },
  {
   "cell_type": "markdown",
   "id": "ddcf4fab",
   "metadata": {
    "papermill": {
     "duration": 0.026942,
     "end_time": "2022-04-24T20:10:30.840519",
     "exception": false,
     "start_time": "2022-04-24T20:10:30.813577",
     "status": "completed"
    },
    "tags": []
   },
   "source": [
    "And setup the labels as 1 (when the digit is 3) and 0 (when the digit is 8)"
   ]
  },
  {
   "cell_type": "code",
   "execution_count": 12,
   "id": "7dc908f2",
   "metadata": {
    "execution": {
     "iopub.execute_input": "2022-04-24T20:10:30.898651Z",
     "iopub.status.busy": "2022-04-24T20:10:30.898037Z",
     "iopub.status.idle": "2022-04-24T20:10:30.911425Z",
     "shell.execute_reply": "2022-04-24T20:10:30.910961Z"
    },
    "papermill": {
     "duration": 0.043908,
     "end_time": "2022-04-24T20:10:30.911551",
     "exception": false,
     "start_time": "2022-04-24T20:10:30.867643",
     "status": "completed"
    },
    "tags": []
   },
   "outputs": [],
   "source": [
    "y_train = 1*(y_train==3)\n",
    "y_test = 1*(y_test==3)"
   ]
  },
  {
   "cell_type": "code",
   "execution_count": 13,
   "id": "01e4e969",
   "metadata": {
    "execution": {
     "iopub.execute_input": "2022-04-24T20:10:30.983652Z",
     "iopub.status.busy": "2022-04-24T20:10:30.979059Z",
     "iopub.status.idle": "2022-04-24T20:10:30.988213Z",
     "shell.execute_reply": "2022-04-24T20:10:30.988645Z"
    },
    "papermill": {
     "duration": 0.049958,
     "end_time": "2022-04-24T20:10:30.988799",
     "exception": false,
     "start_time": "2022-04-24T20:10:30.938841",
     "status": "completed"
    },
    "tags": []
   },
   "outputs": [
    {
     "data": {
      "text/plain": [
       "((11982, 28, 28), (1984, 28, 28))"
      ]
     },
     "execution_count": 13,
     "metadata": {},
     "output_type": "execute_result"
    }
   ],
   "source": [
    "X_train.shape, X_test.shape"
   ]
  },
  {
   "cell_type": "markdown",
   "id": "5ccf3f85",
   "metadata": {
    "papermill": {
     "duration": 0.027116,
     "end_time": "2022-04-24T20:10:31.043167",
     "exception": false,
     "start_time": "2022-04-24T20:10:31.016051",
     "status": "completed"
    },
    "tags": []
   },
   "source": [
    "We reshape the data to flatten the image pixels into a set of features or co-variates:"
   ]
  },
  {
   "cell_type": "code",
   "execution_count": 14,
   "id": "5286a4a3",
   "metadata": {
    "execution": {
     "iopub.execute_input": "2022-04-24T20:10:31.110042Z",
     "iopub.status.busy": "2022-04-24T20:10:31.109451Z",
     "iopub.status.idle": "2022-04-24T20:10:31.119037Z",
     "shell.execute_reply": "2022-04-24T20:10:31.118589Z"
    },
    "papermill": {
     "duration": 0.048674,
     "end_time": "2022-04-24T20:10:31.119167",
     "exception": false,
     "start_time": "2022-04-24T20:10:31.070493",
     "status": "completed"
    },
    "tags": []
   },
   "outputs": [
    {
     "data": {
      "text/plain": [
       "((11982, 784), (1984, 784))"
      ]
     },
     "execution_count": 14,
     "metadata": {},
     "output_type": "execute_result"
    }
   ],
   "source": [
    "X_train = X_train.reshape(X_train.shape[0], -1)\n",
    "X_test = X_test.reshape(X_test.shape[0], -1)\n",
    "X_train.shape, X_test.shape"
   ]
  },
  {
   "cell_type": "code",
   "execution_count": 15,
   "id": "73c5f88a",
   "metadata": {
    "execution": {
     "iopub.execute_input": "2022-04-24T20:10:31.186741Z",
     "iopub.status.busy": "2022-04-24T20:10:31.186143Z",
     "iopub.status.idle": "2022-04-24T20:10:31.203051Z",
     "shell.execute_reply": "2022-04-24T20:10:31.202575Z"
    },
    "papermill": {
     "duration": 0.056215,
     "end_time": "2022-04-24T20:10:31.203182",
     "exception": false,
     "start_time": "2022-04-24T20:10:31.146967",
     "status": "completed"
    },
    "tags": []
   },
   "outputs": [],
   "source": [
    "#Impoting functions from 'Kudzu'\n",
    "from kudzu.model import Model\n",
    "from kudzu.train import Learner\n",
    "from kudzu.optim import GD\n",
    "from kudzu.data import Data, Sampler,Dataloader\n",
    "\n",
    "from kudzu.callbacks import AccCallback\n",
    "from kudzu.callbacks import ClfCallback\n",
    "\n",
    "from kudzu.loss import MSE\n",
    "\n",
    "from kudzu.layer import Sigmoid,Relu\n",
    "from kudzu.layer import Affine"
   ]
  },
  {
   "cell_type": "markdown",
   "id": "bc01172a",
   "metadata": {
    "papermill": {
     "duration": 0.027758,
     "end_time": "2022-04-24T20:10:31.258779",
     "exception": false,
     "start_time": "2022-04-24T20:10:31.231021",
     "status": "completed"
    },
    "tags": []
   },
   "source": [
    "### Let us create a `Config` class, to store important parameters. \n",
    "This class essentially plays the role of a dictionary."
   ]
  },
  {
   "cell_type": "code",
   "execution_count": 16,
   "id": "978281aa",
   "metadata": {
    "execution": {
     "iopub.execute_input": "2022-04-24T20:10:31.317998Z",
     "iopub.status.busy": "2022-04-24T20:10:31.317430Z",
     "iopub.status.idle": "2022-04-24T20:10:31.331324Z",
     "shell.execute_reply": "2022-04-24T20:10:31.330862Z"
    },
    "papermill": {
     "duration": 0.044999,
     "end_time": "2022-04-24T20:10:31.331452",
     "exception": false,
     "start_time": "2022-04-24T20:10:31.286453",
     "status": "completed"
    },
    "tags": []
   },
   "outputs": [],
   "source": [
    "class Config:\n",
    "    pass\n",
    "config = Config()\n",
    "config.lr = 0.001\n",
    "config.num_epochs = 250\n",
    "config.bs = 50"
   ]
  },
  {
   "cell_type": "markdown",
   "id": "1385fa59",
   "metadata": {
    "papermill": {
     "duration": 0.027577,
     "end_time": "2022-04-24T20:10:31.386800",
     "exception": false,
     "start_time": "2022-04-24T20:10:31.359223",
     "status": "completed"
    },
    "tags": []
   },
   "source": [
    "### Running Models with the Training data\n",
    "Details about the network layers:\n",
    "- A first affine layer has 784 inputs and does 100 affine transforms. These are followed by a Relu\n",
    "- A second affine layer has 100 inputs from the 100 activations of the past layer, and does 100 affine transforms. These are followed by a Relu\n",
    "- A third affine layer has 100 activations and does 2 affine transformations to create an embedding for visualization. There is no non-linearity here.\n",
    "- A final \"logistic regression\" which has an affine transform from 2 inputs to 1 output, which is squeezed through a sigmoid.\n"
   ]
  },
  {
   "cell_type": "code",
   "execution_count": 17,
   "id": "2b9c66db",
   "metadata": {
    "execution": {
     "iopub.execute_input": "2022-04-24T20:10:31.460011Z",
     "iopub.status.busy": "2022-04-24T20:10:31.454815Z",
     "iopub.status.idle": "2022-04-24T20:10:31.463199Z",
     "shell.execute_reply": "2022-04-24T20:10:31.462737Z"
    },
    "papermill": {
     "duration": 0.048817,
     "end_time": "2022-04-24T20:10:31.463327",
     "exception": false,
     "start_time": "2022-04-24T20:10:31.414510",
     "status": "completed"
    },
    "tags": []
   },
   "outputs": [],
   "source": [
    "data = Data(X_train, y_train.reshape(-1,1))\n",
    "sampler = Sampler(data, config.bs, shuffle=True)\n",
    "\n",
    "dl = Dataloader(data, sampler)\n",
    "\n",
    "opt = GD(config.lr)\n",
    "loss = MSE()"
   ]
  },
  {
   "cell_type": "code",
   "execution_count": 18,
   "id": "b275e4c2",
   "metadata": {
    "execution": {
     "iopub.execute_input": "2022-04-24T20:10:31.523532Z",
     "iopub.status.busy": "2022-04-24T20:10:31.522969Z",
     "iopub.status.idle": "2022-04-24T20:10:31.535355Z",
     "shell.execute_reply": "2022-04-24T20:10:31.534896Z"
    },
    "papermill": {
     "duration": 0.044486,
     "end_time": "2022-04-24T20:10:31.535480",
     "exception": false,
     "start_time": "2022-04-24T20:10:31.490994",
     "status": "completed"
    },
    "tags": []
   },
   "outputs": [],
   "source": [
    "training_data_x = X_train\n",
    "testing_data_x = X_test\n",
    "training_data_y = y_train.reshape(-1,1)\n",
    "testing_data_y = y_test.reshape(-1,1)"
   ]
  },
  {
   "cell_type": "code",
   "execution_count": 19,
   "id": "76951160",
   "metadata": {
    "execution": {
     "iopub.execute_input": "2022-04-24T20:10:31.595255Z",
     "iopub.status.busy": "2022-04-24T20:10:31.594692Z",
     "iopub.status.idle": "2022-04-24T20:10:31.611645Z",
     "shell.execute_reply": "2022-04-24T20:10:31.611204Z"
    },
    "papermill": {
     "duration": 0.048764,
     "end_time": "2022-04-24T20:10:31.611769",
     "exception": false,
     "start_time": "2022-04-24T20:10:31.563005",
     "status": "completed"
    },
    "tags": []
   },
   "outputs": [
    {
     "name": "stdout",
     "output_type": "stream",
     "text": [
      "xavier\n",
      "xavier\n",
      "xavier\n",
      "xavier\n",
      "xavier\n"
     ]
    }
   ],
   "source": [
    "layers = [Affine(\"first\", 784, 100), Relu(\"first\"), Affine(\"second\", 100, 100), Relu(\"second\"), Affine(\"third\", 100, 2), Affine(\"last\", 2, 1), Sigmoid(\"last\")]\n",
    "model_nn = Model(layers)\n",
    "model_lr = Model([Affine(\"logits\", 784, 1), Sigmoid(\"sigmoid\")])"
   ]
  },
  {
   "cell_type": "code",
   "execution_count": 20,
   "id": "6eede77a",
   "metadata": {
    "execution": {
     "iopub.execute_input": "2022-04-24T20:10:31.673257Z",
     "iopub.status.busy": "2022-04-24T20:10:31.672697Z",
     "iopub.status.idle": "2022-04-24T20:10:31.684851Z",
     "shell.execute_reply": "2022-04-24T20:10:31.684390Z"
    },
    "papermill": {
     "duration": 0.045274,
     "end_time": "2022-04-24T20:10:31.684980",
     "exception": false,
     "start_time": "2022-04-24T20:10:31.639706",
     "status": "completed"
    },
    "tags": []
   },
   "outputs": [],
   "source": [
    "nn_learner = Learner(loss, model_nn, opt, config.num_epochs)\n",
    "acc_nn = ClfCallback(nn_learner, config.bs, training_data_x , testing_data_x, training_data_y, testing_data_y)\n",
    "nn_learner.set_callbacks([acc_nn])"
   ]
  },
  {
   "cell_type": "code",
   "execution_count": 21,
   "id": "877b6cc7",
   "metadata": {
    "execution": {
     "iopub.execute_input": "2022-04-24T20:10:31.746010Z",
     "iopub.status.busy": "2022-04-24T20:10:31.745444Z",
     "iopub.status.idle": "2022-04-24T20:10:31.757406Z",
     "shell.execute_reply": "2022-04-24T20:10:31.756951Z"
    },
    "papermill": {
     "duration": 0.044954,
     "end_time": "2022-04-24T20:10:31.757533",
     "exception": false,
     "start_time": "2022-04-24T20:10:31.712579",
     "status": "completed"
    },
    "tags": []
   },
   "outputs": [],
   "source": [
    "lr_learner = Learner(loss, model_lr, opt, config.num_epochs)\n",
    "acc_lr = ClfCallback(lr_learner, config.bs, training_data_x , testing_data_x, training_data_y, testing_data_y)\n",
    "lr_learner.set_callbacks([acc_lr])"
   ]
  },
  {
   "cell_type": "code",
   "execution_count": 22,
   "id": "d9b133c3",
   "metadata": {
    "execution": {
     "iopub.execute_input": "2022-04-24T20:10:31.819580Z",
     "iopub.status.busy": "2022-04-24T20:10:31.819020Z",
     "iopub.status.idle": "2022-04-24T20:11:53.493583Z",
     "shell.execute_reply": "2022-04-24T20:11:53.494397Z"
    },
    "papermill": {
     "duration": 81.709157,
     "end_time": "2022-04-24T20:11:53.494555",
     "exception": false,
     "start_time": "2022-04-24T20:10:31.785398",
     "status": "completed"
    },
    "tags": []
   },
   "outputs": [
    {
     "name": "stdout",
     "output_type": "stream",
     "text": [
      "Epoch 0, Loss 0.2254\n",
      "Training Accuracy: 0.7494, Testing Accuracy: 0.7414\n",
      "\n"
     ]
    },
    {
     "name": "stdout",
     "output_type": "stream",
     "text": [
      "Epoch 10, Loss 0.0626\n",
      "Training Accuracy: 0.9364, Testing Accuracy: 0.9425\n",
      "\n"
     ]
    },
    {
     "name": "stdout",
     "output_type": "stream",
     "text": [
      "Epoch 20, Loss 0.0432\n",
      "Training Accuracy: 0.9513, Testing Accuracy: 0.9597\n",
      "\n"
     ]
    },
    {
     "name": "stdout",
     "output_type": "stream",
     "text": [
      "Epoch 30, Loss 0.0361\n",
      "Training Accuracy: 0.9587, Testing Accuracy: 0.9647\n",
      "\n"
     ]
    },
    {
     "name": "stdout",
     "output_type": "stream",
     "text": [
      "Epoch 40, Loss 0.0322\n",
      "Training Accuracy: 0.9629, Testing Accuracy: 0.9657\n",
      "\n"
     ]
    },
    {
     "name": "stdout",
     "output_type": "stream",
     "text": [
      "Epoch 50, Loss 0.0296\n",
      "Training Accuracy: 0.9644, Testing Accuracy: 0.9682\n",
      "\n"
     ]
    },
    {
     "name": "stdout",
     "output_type": "stream",
     "text": [
      "Epoch 60, Loss 0.0278\n",
      "Training Accuracy: 0.9670, Testing Accuracy: 0.9693\n",
      "\n"
     ]
    },
    {
     "name": "stdout",
     "output_type": "stream",
     "text": [
      "Epoch 70, Loss 0.0264\n",
      "Training Accuracy: 0.9689, Testing Accuracy: 0.9698\n",
      "\n"
     ]
    },
    {
     "name": "stdout",
     "output_type": "stream",
     "text": [
      "Epoch 80, Loss 0.0252\n",
      "Training Accuracy: 0.9708, Testing Accuracy: 0.9708\n",
      "\n"
     ]
    },
    {
     "name": "stdout",
     "output_type": "stream",
     "text": [
      "Epoch 90, Loss 0.0242\n",
      "Training Accuracy: 0.9718, Testing Accuracy: 0.9718\n",
      "\n"
     ]
    },
    {
     "name": "stdout",
     "output_type": "stream",
     "text": [
      "Epoch 100, Loss 0.0233\n",
      "Training Accuracy: 0.9738, Testing Accuracy: 0.9718\n",
      "\n"
     ]
    },
    {
     "name": "stdout",
     "output_type": "stream",
     "text": [
      "Epoch 110, Loss 0.0226\n",
      "Training Accuracy: 0.9741, Testing Accuracy: 0.9713\n",
      "\n"
     ]
    },
    {
     "name": "stdout",
     "output_type": "stream",
     "text": [
      "Epoch 120, Loss 0.0219\n",
      "Training Accuracy: 0.9748, Testing Accuracy: 0.9718\n",
      "\n"
     ]
    },
    {
     "name": "stdout",
     "output_type": "stream",
     "text": [
      "Epoch 130, Loss 0.0213\n",
      "Training Accuracy: 0.9763, Testing Accuracy: 0.9723\n",
      "\n"
     ]
    },
    {
     "name": "stdout",
     "output_type": "stream",
     "text": [
      "Epoch 140, Loss 0.0207\n",
      "Training Accuracy: 0.9772, Testing Accuracy: 0.9723\n",
      "\n"
     ]
    },
    {
     "name": "stdout",
     "output_type": "stream",
     "text": [
      "Epoch 150, Loss 0.0201\n",
      "Training Accuracy: 0.9776, Testing Accuracy: 0.9723\n",
      "\n"
     ]
    },
    {
     "name": "stdout",
     "output_type": "stream",
     "text": [
      "Epoch 160, Loss 0.0196\n",
      "Training Accuracy: 0.9788, Testing Accuracy: 0.9723\n",
      "\n"
     ]
    },
    {
     "name": "stdout",
     "output_type": "stream",
     "text": [
      "Epoch 170, Loss 0.0192\n",
      "Training Accuracy: 0.9794, Testing Accuracy: 0.9718\n",
      "\n"
     ]
    },
    {
     "name": "stdout",
     "output_type": "stream",
     "text": [
      "Epoch 180, Loss 0.0187\n",
      "Training Accuracy: 0.9800, Testing Accuracy: 0.9708\n",
      "\n"
     ]
    },
    {
     "name": "stdout",
     "output_type": "stream",
     "text": [
      "Epoch 190, Loss 0.0183\n",
      "Training Accuracy: 0.9801, Testing Accuracy: 0.9713\n",
      "\n"
     ]
    },
    {
     "name": "stdout",
     "output_type": "stream",
     "text": [
      "Epoch 200, Loss 0.0178\n",
      "Training Accuracy: 0.9806, Testing Accuracy: 0.9713\n",
      "\n"
     ]
    },
    {
     "name": "stdout",
     "output_type": "stream",
     "text": [
      "Epoch 210, Loss 0.0174\n",
      "Training Accuracy: 0.9808, Testing Accuracy: 0.9718\n",
      "\n"
     ]
    },
    {
     "name": "stdout",
     "output_type": "stream",
     "text": [
      "Epoch 220, Loss 0.017\n",
      "Training Accuracy: 0.9811, Testing Accuracy: 0.9718\n",
      "\n"
     ]
    },
    {
     "name": "stdout",
     "output_type": "stream",
     "text": [
      "Epoch 230, Loss 0.0167\n",
      "Training Accuracy: 0.9816, Testing Accuracy: 0.9723\n",
      "\n"
     ]
    },
    {
     "name": "stdout",
     "output_type": "stream",
     "text": [
      "Epoch 240, Loss 0.0163\n",
      "Training Accuracy: 0.9820, Testing Accuracy: 0.9733\n",
      "\n"
     ]
    },
    {
     "data": {
      "text/plain": [
       "0.011912215146028516"
      ]
     },
     "execution_count": 22,
     "metadata": {},
     "output_type": "execute_result"
    }
   ],
   "source": [
    "nn_learner.train_loop(dl)"
   ]
  },
  {
   "cell_type": "code",
   "execution_count": 23,
   "id": "e0163366",
   "metadata": {
    "execution": {
     "iopub.execute_input": "2022-04-24T20:11:53.577224Z",
     "iopub.status.busy": "2022-04-24T20:11:53.576679Z",
     "iopub.status.idle": "2022-04-24T20:12:08.388468Z",
     "shell.execute_reply": "2022-04-24T20:12:08.389209Z"
    },
    "papermill": {
     "duration": 14.85961,
     "end_time": "2022-04-24T20:12:08.389359",
     "exception": false,
     "start_time": "2022-04-24T20:11:53.529749",
     "status": "completed"
    },
    "tags": []
   },
   "outputs": [
    {
     "name": "stdout",
     "output_type": "stream",
     "text": [
      "Epoch 0, Loss 0.2429\n",
      "Training Accuracy: 0.6782, Testing Accuracy: 0.6815\n",
      "\n"
     ]
    },
    {
     "name": "stdout",
     "output_type": "stream",
     "text": [
      "Epoch 10, Loss 0.1035\n",
      "Training Accuracy: 0.9110, Testing Accuracy: 0.9189\n",
      "\n"
     ]
    },
    {
     "name": "stdout",
     "output_type": "stream",
     "text": [
      "Epoch 20, Loss 0.0789\n",
      "Training Accuracy: 0.9303, Testing Accuracy: 0.9410\n",
      "\n"
     ]
    },
    {
     "name": "stdout",
     "output_type": "stream",
     "text": [
      "Epoch 30, Loss 0.0677\n",
      "Training Accuracy: 0.9387, Testing Accuracy: 0.9481\n",
      "\n"
     ]
    },
    {
     "name": "stdout",
     "output_type": "stream",
     "text": [
      "Epoch 40, Loss 0.0611\n",
      "Training Accuracy: 0.9427, Testing Accuracy: 0.9521\n",
      "\n"
     ]
    },
    {
     "name": "stdout",
     "output_type": "stream",
     "text": [
      "Epoch 50, Loss 0.0566\n",
      "Training Accuracy: 0.9454, Testing Accuracy: 0.9556\n",
      "\n"
     ]
    },
    {
     "name": "stdout",
     "output_type": "stream",
     "text": [
      "Epoch 60, Loss 0.0533\n",
      "Training Accuracy: 0.9480, Testing Accuracy: 0.9582\n",
      "\n"
     ]
    },
    {
     "name": "stdout",
     "output_type": "stream",
     "text": [
      "Epoch 70, Loss 0.0508\n",
      "Training Accuracy: 0.9506, Testing Accuracy: 0.9592\n",
      "\n"
     ]
    },
    {
     "name": "stdout",
     "output_type": "stream",
     "text": [
      "Epoch 80, Loss 0.0488\n",
      "Training Accuracy: 0.9526, Testing Accuracy: 0.9617\n",
      "\n"
     ]
    },
    {
     "name": "stdout",
     "output_type": "stream",
     "text": [
      "Epoch 90, Loss 0.0471\n",
      "Training Accuracy: 0.9538, Testing Accuracy: 0.9642\n",
      "\n"
     ]
    },
    {
     "name": "stdout",
     "output_type": "stream",
     "text": [
      "Epoch 100, Loss 0.0457\n",
      "Training Accuracy: 0.9548, Testing Accuracy: 0.9642\n",
      "\n"
     ]
    },
    {
     "name": "stdout",
     "output_type": "stream",
     "text": [
      "Epoch 110, Loss 0.0446\n",
      "Training Accuracy: 0.9556, Testing Accuracy: 0.9657\n",
      "\n"
     ]
    },
    {
     "name": "stdout",
     "output_type": "stream",
     "text": [
      "Epoch 120, Loss 0.0435\n",
      "Training Accuracy: 0.9568, Testing Accuracy: 0.9662\n",
      "\n"
     ]
    },
    {
     "name": "stdout",
     "output_type": "stream",
     "text": [
      "Epoch 130, Loss 0.0426\n",
      "Training Accuracy: 0.9572, Testing Accuracy: 0.9662\n",
      "\n"
     ]
    },
    {
     "name": "stdout",
     "output_type": "stream",
     "text": [
      "Epoch 140, Loss 0.0418\n",
      "Training Accuracy: 0.9581, Testing Accuracy: 0.9667\n",
      "\n"
     ]
    },
    {
     "name": "stdout",
     "output_type": "stream",
     "text": [
      "Epoch 150, Loss 0.0411\n",
      "Training Accuracy: 0.9590, Testing Accuracy: 0.9667\n",
      "\n"
     ]
    },
    {
     "name": "stdout",
     "output_type": "stream",
     "text": [
      "Epoch 160, Loss 0.0404\n",
      "Training Accuracy: 0.9595, Testing Accuracy: 0.9672\n",
      "\n"
     ]
    },
    {
     "name": "stdout",
     "output_type": "stream",
     "text": [
      "Epoch 170, Loss 0.0398\n",
      "Training Accuracy: 0.9599, Testing Accuracy: 0.9682\n",
      "\n"
     ]
    },
    {
     "name": "stdout",
     "output_type": "stream",
     "text": [
      "Epoch 180, Loss 0.0393\n",
      "Training Accuracy: 0.9605, Testing Accuracy: 0.9688\n",
      "\n"
     ]
    },
    {
     "name": "stdout",
     "output_type": "stream",
     "text": [
      "Epoch 190, Loss 0.0388\n",
      "Training Accuracy: 0.9609, Testing Accuracy: 0.9688\n",
      "\n"
     ]
    },
    {
     "name": "stdout",
     "output_type": "stream",
     "text": [
      "Epoch 200, Loss 0.0383\n",
      "Training Accuracy: 0.9610, Testing Accuracy: 0.9682\n",
      "\n"
     ]
    },
    {
     "name": "stdout",
     "output_type": "stream",
     "text": [
      "Epoch 210, Loss 0.0379\n",
      "Training Accuracy: 0.9611, Testing Accuracy: 0.9688\n",
      "\n"
     ]
    },
    {
     "name": "stdout",
     "output_type": "stream",
     "text": [
      "Epoch 220, Loss 0.0375\n",
      "Training Accuracy: 0.9615, Testing Accuracy: 0.9682\n",
      "\n"
     ]
    },
    {
     "name": "stdout",
     "output_type": "stream",
     "text": [
      "Epoch 230, Loss 0.0371\n",
      "Training Accuracy: 0.9618, Testing Accuracy: 0.9682\n",
      "\n"
     ]
    },
    {
     "name": "stdout",
     "output_type": "stream",
     "text": [
      "Epoch 240, Loss 0.0367\n",
      "Training Accuracy: 0.9618, Testing Accuracy: 0.9682\n",
      "\n"
     ]
    },
    {
     "data": {
      "text/plain": [
       "0.024660831671393116"
      ]
     },
     "execution_count": 23,
     "metadata": {},
     "output_type": "execute_result"
    }
   ],
   "source": [
    "lr_learner.train_loop(dl)"
   ]
  },
  {
   "cell_type": "code",
   "execution_count": 24,
   "id": "ca410940",
   "metadata": {
    "execution": {
     "iopub.execute_input": "2022-04-24T20:12:08.483568Z",
     "iopub.status.busy": "2022-04-24T20:12:08.483019Z",
     "iopub.status.idle": "2022-04-24T20:12:08.715213Z",
     "shell.execute_reply": "2022-04-24T20:12:08.715625Z"
    },
    "papermill": {
     "duration": 0.284408,
     "end_time": "2022-04-24T20:12:08.715771",
     "exception": false,
     "start_time": "2022-04-24T20:12:08.431363",
     "status": "completed"
    },
    "tags": []
   },
   "outputs": [
    {
     "data": {
      "text/plain": [
       "<matplotlib.legend.Legend at 0x7fd995e06b00>"
      ]
     },
     "execution_count": 24,
     "metadata": {},
     "output_type": "execute_result"
    },
    {
     "data": {
      "image/png": "[encoded data removed]",
      "text/plain": [
       "<Figure size 1080x720 with 1 Axes>"
      ]
     },
     "metadata": {
      "needs_background": "light"
     },
     "output_type": "display_data"
    }
   ],
   "source": [
    "#comparing the results of NN and LR\n",
    "plt.figure(figsize=(15,10))\n",
    "\n",
    "# Neural Network plots\n",
    "plt.plot(acc_nn.accuracies, 'r-', label = \"Training Accuracies - NN\")\n",
    "plt.plot(acc_nn.test_accuracies, 'g-', label = \"Testing Accuracies - NN\")\n",
    "\n",
    "# Logistic Regression plots\n",
    "plt.plot(acc_lr.accuracies, 'k-', label = \"Training Accuracies - LR\")\n",
    "plt.plot(acc_lr.test_accuracies, 'b-', label = \"Testing Accuracies - LR\")\n",
    "plt.legend()"
   ]
  },
  {
   "cell_type": "markdown",
   "id": "80dfb35c",
   "metadata": {
    "papermill": {
     "duration": 0.042984,
     "end_time": "2022-04-24T20:12:08.802769",
     "exception": false,
     "start_time": "2022-04-24T20:12:08.759785",
     "status": "completed"
    },
    "tags": []
   },
   "source": [
    "#### Plotting the outputs of this layer of the NN.\n"
   ]
  },
  {
   "cell_type": "code",
   "execution_count": 25,
   "id": "45eb2ff5",
   "metadata": {
    "execution": {
     "iopub.execute_input": "2022-04-24T20:12:08.898894Z",
     "iopub.status.busy": "2022-04-24T20:12:08.898319Z",
     "iopub.status.idle": "2022-04-24T20:12:08.914668Z",
     "shell.execute_reply": "2022-04-24T20:12:08.915145Z"
    },
    "papermill": {
     "duration": 0.069862,
     "end_time": "2022-04-24T20:12:08.915295",
     "exception": false,
     "start_time": "2022-04-24T20:12:08.845433",
     "status": "completed"
    },
    "tags": []
   },
   "outputs": [],
   "source": [
    "new_model = Model(layers[:-2])\n",
    "testing_plot = new_model(testing_data_x)"
   ]
  },
  {
   "cell_type": "code",
   "execution_count": 26,
   "id": "4c0a5485",
   "metadata": {
    "execution": {
     "iopub.execute_input": "2022-04-24T20:12:09.009921Z",
     "iopub.status.busy": "2022-04-24T20:12:09.007897Z",
     "iopub.status.idle": "2022-04-24T20:12:09.213281Z",
     "shell.execute_reply": "2022-04-24T20:12:09.212828Z"
    },
    "papermill": {
     "duration": 0.254987,
     "end_time": "2022-04-24T20:12:09.213409",
     "exception": false,
     "start_time": "2022-04-24T20:12:08.958422",
     "status": "completed"
    },
    "tags": []
   },
   "outputs": [
    {
     "data": {
      "text/plain": [
       "Text(0.5, 1.0, 'Outputs')"
      ]
     },
     "execution_count": 26,
     "metadata": {},
     "output_type": "execute_result"
    },
    {
     "data": {
      "image/png": "[encoded data removed]",
      "text/plain": [
       "<Figure size 576x504 with 1 Axes>"
      ]
     },
     "metadata": {
      "needs_background": "light"
     },
     "output_type": "display_data"
    }
   ],
   "source": [
    "# Plotting the scatter plot of points and color coding by class\n",
    "plt.figure(figsize=(8,7))\n",
    "plt.scatter(testing_plot[:,0], testing_plot[:,1], alpha = 0.1, c = y_test.ravel());\n",
    "plt.title('Outputs')"
   ]
  },
  {
   "cell_type": "markdown",
   "id": "a74fcf8f",
   "metadata": {
    "papermill": {
     "duration": 0.045011,
     "end_time": "2022-04-24T20:12:09.303711",
     "exception": false,
     "start_time": "2022-04-24T20:12:09.258700",
     "status": "completed"
    },
    "tags": []
   },
   "source": [
    "Probability contours"
   ]
  },
  {
   "cell_type": "code",
   "execution_count": 27,
   "id": "d0afc8e3",
   "metadata": {
    "execution": {
     "iopub.execute_input": "2022-04-24T20:12:09.401794Z",
     "iopub.status.busy": "2022-04-24T20:12:09.401151Z",
     "iopub.status.idle": "2022-04-24T20:12:09.413473Z",
     "shell.execute_reply": "2022-04-24T20:12:09.413006Z"
    },
    "papermill": {
     "duration": 0.061189,
     "end_time": "2022-04-24T20:12:09.413601",
     "exception": false,
     "start_time": "2022-04-24T20:12:09.352412",
     "status": "completed"
    },
    "tags": []
   },
   "outputs": [],
   "source": [
    "model_prob = Model(layers[-2:]) "
   ]
  },
  {
   "cell_type": "code",
   "execution_count": 28,
   "id": "9b96e238",
   "metadata": {
    "execution": {
     "iopub.execute_input": "2022-04-24T20:12:09.546301Z",
     "iopub.status.busy": "2022-04-24T20:12:09.545706Z",
     "iopub.status.idle": "2022-04-24T20:12:09.558932Z",
     "shell.execute_reply": "2022-04-24T20:12:09.559326Z"
    },
    "papermill": {
     "duration": 0.067285,
     "end_time": "2022-04-24T20:12:09.559469",
     "exception": false,
     "start_time": "2022-04-24T20:12:09.492184",
     "status": "completed"
    },
    "tags": []
   },
   "outputs": [],
   "source": [
    "#creating the x and y ranges according to the above generated plot.\n",
    "x_range = np.linspace(-4, 1, 100) \n",
    "y_range = np.linspace(-6, 6, 100) \n",
    "x_grid, y_grid = np.meshgrid(x_range, y_range) # x_grid and y_grig are of size 100 X 100\n",
    "\n",
    "# converting x_grid and y_grid to continuous arrays\n",
    "x_gridflat = np.ravel(x_grid)\n",
    "y_gridflat = np.ravel(y_grid)\n",
    "\n",
    "# The last layer of the current model takes two columns as input. Hence transpose of np.vstack() is required.\n",
    "X = np.vstack((x_gridflat, y_gridflat)).T\n",
    "\n",
    "prob_contour = model_prob(X).reshape(100,100) "
   ]
  },
  {
   "cell_type": "code",
   "execution_count": 29,
   "id": "da72499a",
   "metadata": {
    "execution": {
     "iopub.execute_input": "2022-04-24T20:12:09.658778Z",
     "iopub.status.busy": "2022-04-24T20:12:09.658214Z",
     "iopub.status.idle": "2022-04-24T20:12:09.895719Z",
     "shell.execute_reply": "2022-04-24T20:12:09.895249Z"
    },
    "papermill": {
     "duration": 0.290895,
     "end_time": "2022-04-24T20:12:09.895840",
     "exception": false,
     "start_time": "2022-04-24T20:12:09.604945",
     "status": "completed"
    },
    "tags": []
   },
   "outputs": [
    {
     "data": {
      "image/png": "[encoded data removed]",
      "text/plain": [
       "<Figure size 720x648 with 1 Axes>"
      ]
     },
     "metadata": {
      "needs_background": "light"
     },
     "output_type": "display_data"
    }
   ],
   "source": [
    "plt.figure(figsize=(10,9))\n",
    "plt.scatter(testing_plot[:,0], testing_plot[:,1], alpha = 0.1, c = y_test.ravel())\n",
    "contours = plt.contour(x_grid,y_grid,prob_contour)\n",
    "plt.title('Probability Contours')\n",
    "plt.clabel(contours, inline = True );"
   ]
  },
  {
   "cell_type": "code",
   "execution_count": null,
   "id": "e81b4ac7",
   "metadata": {
    "papermill": {
     "duration": 0.048561,
     "end_time": "2022-04-24T20:12:09.993219",
     "exception": false,
     "start_time": "2022-04-24T20:12:09.944658",
     "status": "completed"
    },
    "tags": []
   },
   "outputs": [],
   "source": []
  }
 ],
 "metadata": {
  "kernelspec": {
   "display_name": "Python 3",
   "language": "python",
   "name": "python3"
  },
  "language_info": {
   "codemirror_mode": {
    "name": "ipython",
    "version": 3
   },
   "file_extension": ".py",
   "mimetype": "text/x-python",
   "name": "python",
   "nbconvert_exporter": "python",
   "pygments_lexer": "ipython3",
   "version": "3.6.15"
  },
  "papermill": {
   "default_parameters": {},
   "duration": 105.331578,
   "end_time": "2022-04-24T20:12:10.460403",
   "environment_variables": {},
   "exception": null,
   "input_path": "2020-08-11-part2.ipynb",
   "output_path": "2020-08-11-part2.ipynb",
   "parameters": {},
   "start_time": "2022-04-24T20:10:25.128825",
   "version": "2.3.3"
  }
 },
 "nbformat": 4,
 "nbformat_minor": 5
}