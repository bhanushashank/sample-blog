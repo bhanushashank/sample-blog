{
 "cells": [
  {
   "cell_type": "markdown",
   "id": "98380cd3",
   "metadata": {
    "papermill": {
     "duration": 0.033419,
     "end_time": "2022-10-27T20:11:43.025897",
     "exception": false,
     "start_time": "2022-10-27T20:11:42.992478",
     "status": "completed"
    },
    "tags": []
   },
   "source": [
    "# Distinguish Your Own Digits (DYOD)"
   ]
  },
  {
   "cell_type": "markdown",
   "id": "ef31240d",
   "metadata": {
    "papermill": {
     "duration": 0.02687,
     "end_time": "2022-10-27T20:11:43.080173",
     "exception": false,
     "start_time": "2022-10-27T20:11:43.053303",
     "status": "completed"
    },
    "tags": []
   },
   "source": [
    "You are going to write a classifier that distinguishes between the number 3 and number 8."
   ]
  },
  {
   "cell_type": "code",
   "execution_count": 1,
   "id": "b15c8646",
   "metadata": {
    "execution": {
     "iopub.execute_input": "2022-10-27T20:11:43.146481Z",
     "iopub.status.busy": "2022-10-27T20:11:43.145777Z",
     "iopub.status.idle": "2022-10-27T20:11:43.157625Z",
     "shell.execute_reply": "2022-10-27T20:11:43.158210Z"
    },
    "papermill": {
     "duration": 0.051757,
     "end_time": "2022-10-27T20:11:43.158377",
     "exception": false,
     "start_time": "2022-10-27T20:11:43.106620",
     "status": "completed"
    },
    "tags": []
   },
   "outputs": [],
   "source": [
    "%load_ext autoreload\n",
    "%autoreload 2"
   ]
  },
  {
   "cell_type": "code",
   "execution_count": 2,
   "id": "22ef38dc",
   "metadata": {
    "execution": {
     "iopub.execute_input": "2022-10-27T20:11:43.219070Z",
     "iopub.status.busy": "2022-10-27T20:11:43.218373Z",
     "iopub.status.idle": "2022-10-27T20:11:43.831100Z",
     "shell.execute_reply": "2022-10-27T20:11:43.830106Z"
    },
    "papermill": {
     "duration": 0.645826,
     "end_time": "2022-10-27T20:11:43.831235",
     "exception": false,
     "start_time": "2022-10-27T20:11:43.185409",
     "status": "completed"
    },
    "tags": []
   },
   "outputs": [],
   "source": [
    "%matplotlib inline\n",
    "import numpy as np\n",
    "import matplotlib.pyplot as plt\n",
    "import pandas as pd"
   ]
  },
  {
   "cell_type": "markdown",
   "id": "ba036198",
   "metadata": {
    "papermill": {
     "duration": 0.026531,
     "end_time": "2022-10-27T20:11:43.884150",
     "exception": false,
     "start_time": "2022-10-27T20:11:43.857619",
     "status": "completed"
    },
    "tags": []
   },
   "source": [
    "From the command line run `pip install mnist`. This is a library that will help you bring down the mnist dataset. If you run this from a notebook, you need to put  `!pip install mnist` in a cell by itself."
   ]
  },
  {
   "cell_type": "code",
   "execution_count": 3,
   "id": "bb6ad8a1",
   "metadata": {
    "execution": {
     "iopub.execute_input": "2022-10-27T20:11:43.938722Z",
     "iopub.status.busy": "2022-10-27T20:11:43.938042Z",
     "iopub.status.idle": "2022-10-27T20:11:45.826599Z",
     "shell.execute_reply": "2022-10-27T20:11:45.828079Z"
    },
    "papermill": {
     "duration": 1.920168,
     "end_time": "2022-10-27T20:11:45.828337",
     "exception": false,
     "start_time": "2022-10-27T20:11:43.908169",
     "status": "completed"
    },
    "tags": []
   },
   "outputs": [
    {
     "name": "stdout",
     "output_type": "stream",
     "text": [
      "Collecting mnist\r\n"
     ]
    },
    {
     "name": "stdout",
     "output_type": "stream",
     "text": [
      "  Downloading mnist-0.2.2-py2.py3-none-any.whl (3.5 kB)\r\n",
      "Requirement already satisfied: numpy in /opt/hostedtoolcache/Python/3.6.15/x64/lib/python3.6/site-packages (from mnist) (1.19.5)\r\n"
     ]
    },
    {
     "name": "stdout",
     "output_type": "stream",
     "text": [
      "Installing collected packages: mnist\r\n",
      "Successfully installed mnist-0.2.2\r\n"
     ]
    }
   ],
   "source": [
    "!pip install mnist"
   ]
  },
  {
   "cell_type": "markdown",
   "id": "69df9c9a",
   "metadata": {
    "papermill": {
     "duration": 0.027739,
     "end_time": "2022-10-27T20:11:45.884297",
     "exception": false,
     "start_time": "2022-10-27T20:11:45.856558",
     "status": "completed"
    },
    "tags": []
   },
   "source": [
    "## Preparing the Data"
   ]
  },
  {
   "cell_type": "code",
   "execution_count": 4,
   "id": "7f69d806",
   "metadata": {
    "execution": {
     "iopub.execute_input": "2022-10-27T20:11:45.952364Z",
     "iopub.status.busy": "2022-10-27T20:11:45.946583Z",
     "iopub.status.idle": "2022-10-27T20:11:45.964293Z",
     "shell.execute_reply": "2022-10-27T20:11:45.964897Z"
    },
    "papermill": {
     "duration": 0.053316,
     "end_time": "2022-10-27T20:11:45.965040",
     "exception": false,
     "start_time": "2022-10-27T20:11:45.911724",
     "status": "completed"
    },
    "tags": []
   },
   "outputs": [],
   "source": [
    "import mnist"
   ]
  },
  {
   "cell_type": "code",
   "execution_count": 5,
   "id": "a411e44f",
   "metadata": {
    "execution": {
     "iopub.execute_input": "2022-10-27T20:11:46.024589Z",
     "iopub.status.busy": "2022-10-27T20:11:46.023914Z",
     "iopub.status.idle": "2022-10-27T20:11:46.723631Z",
     "shell.execute_reply": "2022-10-27T20:11:46.723002Z"
    },
    "papermill": {
     "duration": 0.73183,
     "end_time": "2022-10-27T20:11:46.723774",
     "exception": false,
     "start_time": "2022-10-27T20:11:45.991944",
     "status": "completed"
    },
    "tags": []
   },
   "outputs": [],
   "source": [
    "train_images = mnist.train_images()\n",
    "train_labels = mnist.train_labels()"
   ]
  },
  {
   "cell_type": "code",
   "execution_count": 6,
   "id": "dceab3a5",
   "metadata": {
    "execution": {
     "iopub.execute_input": "2022-10-27T20:11:46.791910Z",
     "iopub.status.busy": "2022-10-27T20:11:46.791208Z",
     "iopub.status.idle": "2022-10-27T20:11:46.807129Z",
     "shell.execute_reply": "2022-10-27T20:11:46.806463Z"
    },
    "papermill": {
     "duration": 0.053114,
     "end_time": "2022-10-27T20:11:46.807250",
     "exception": false,
     "start_time": "2022-10-27T20:11:46.754136",
     "status": "completed"
    },
    "tags": []
   },
   "outputs": [
    {
     "data": {
      "text/plain": [
       "((60000, 28, 28), (60000,))"
      ]
     },
     "execution_count": 6,
     "metadata": {},
     "output_type": "execute_result"
    }
   ],
   "source": [
    "train_images.shape, train_labels.shape"
   ]
  },
  {
   "cell_type": "code",
   "execution_count": 7,
   "id": "f50dc2bb",
   "metadata": {
    "execution": {
     "iopub.execute_input": "2022-10-27T20:11:46.869207Z",
     "iopub.status.busy": "2022-10-27T20:11:46.868526Z",
     "iopub.status.idle": "2022-10-27T20:11:47.070300Z",
     "shell.execute_reply": "2022-10-27T20:11:47.069646Z"
    },
    "papermill": {
     "duration": 0.23555,
     "end_time": "2022-10-27T20:11:47.070436",
     "exception": false,
     "start_time": "2022-10-27T20:11:46.834886",
     "status": "completed"
    },
    "tags": []
   },
   "outputs": [],
   "source": [
    "test_images = mnist.test_images()\n",
    "test_labels = mnist.test_labels()"
   ]
  },
  {
   "cell_type": "code",
   "execution_count": 8,
   "id": "fc38cf1b",
   "metadata": {
    "execution": {
     "iopub.execute_input": "2022-10-27T20:11:47.135216Z",
     "iopub.status.busy": "2022-10-27T20:11:47.133957Z",
     "iopub.status.idle": "2022-10-27T20:11:47.148485Z",
     "shell.execute_reply": "2022-10-27T20:11:47.148992Z"
    },
    "papermill": {
     "duration": 0.049856,
     "end_time": "2022-10-27T20:11:47.149152",
     "exception": false,
     "start_time": "2022-10-27T20:11:47.099296",
     "status": "completed"
    },
    "tags": []
   },
   "outputs": [
    {
     "data": {
      "text/plain": [
       "((10000, 28, 28), (10000,))"
      ]
     },
     "execution_count": 8,
     "metadata": {},
     "output_type": "execute_result"
    }
   ],
   "source": [
    "test_images.shape, test_labels.shape"
   ]
  },
  {
   "cell_type": "code",
   "execution_count": 9,
   "id": "f9ed8fe0",
   "metadata": {
    "execution": {
     "iopub.execute_input": "2022-10-27T20:11:47.223066Z",
     "iopub.status.busy": "2022-10-27T20:11:47.220842Z",
     "iopub.status.idle": "2022-10-27T20:11:47.379234Z",
     "shell.execute_reply": "2022-10-27T20:11:47.378603Z"
    },
    "papermill": {
     "duration": 0.200755,
     "end_time": "2022-10-27T20:11:47.379359",
     "exception": false,
     "start_time": "2022-10-27T20:11:47.178604",
     "status": "completed"
    },
    "tags": []
   },
   "outputs": [
    {
     "name": "stdout",
     "output_type": "stream",
     "text": [
      "2\n"
     ]
    },
    {
     "data": {
      "text/plain": [
       "<matplotlib.image.AxesImage at 0x7efd2063bcc0>"
      ]
     },
     "execution_count": 9,
     "metadata": {},
     "output_type": "execute_result"
    },
    {
     "data": {
      "image/png": "[encoded data removed]",
      "text/plain": [
       "<Figure size 432x288 with 1 Axes>"
      ]
     },
     "metadata": {
      "needs_background": "light"
     },
     "output_type": "display_data"
    }
   ],
   "source": [
    "image_index = 7776 # You may select anything up to 60,000\n",
    "print(train_labels[image_index]) \n",
    "plt.imshow(train_images[image_index], cmap='Greys')"
   ]
  },
  {
   "cell_type": "markdown",
   "id": "a8d2388d",
   "metadata": {
    "papermill": {
     "duration": 0.029171,
     "end_time": "2022-10-27T20:11:47.437502",
     "exception": false,
     "start_time": "2022-10-27T20:11:47.408331",
     "status": "completed"
    },
    "tags": []
   },
   "source": [
    "## Filter data to get 3 and 8 out"
   ]
  },
  {
   "cell_type": "code",
   "execution_count": 10,
   "id": "776f7fc7",
   "metadata": {
    "execution": {
     "iopub.execute_input": "2022-10-27T20:11:47.502529Z",
     "iopub.status.busy": "2022-10-27T20:11:47.501815Z",
     "iopub.status.idle": "2022-10-27T20:11:47.524247Z",
     "shell.execute_reply": "2022-10-27T20:11:47.523679Z"
    },
    "papermill": {
     "duration": 0.056935,
     "end_time": "2022-10-27T20:11:47.524372",
     "exception": false,
     "start_time": "2022-10-27T20:11:47.467437",
     "status": "completed"
    },
    "tags": []
   },
   "outputs": [],
   "source": [
    "train_filter = np.where((train_labels == 3 ) | (train_labels == 8))\n",
    "test_filter = np.where((test_labels == 3) | (test_labels == 8))\n",
    "X_train, y_train = train_images[train_filter], train_labels[train_filter]\n",
    "X_test, y_test = test_images[test_filter], test_labels[test_filter]"
   ]
  },
  {
   "cell_type": "markdown",
   "id": "948f0b7e",
   "metadata": {
    "papermill": {
     "duration": 0.02912,
     "end_time": "2022-10-27T20:11:47.583385",
     "exception": false,
     "start_time": "2022-10-27T20:11:47.554265",
     "status": "completed"
    },
    "tags": []
   },
   "source": [
    "We normalize the pizel values in the 0 to 1 range"
   ]
  },
  {
   "cell_type": "code",
   "execution_count": 11,
   "id": "ee4c2166",
   "metadata": {
    "execution": {
     "iopub.execute_input": "2022-10-27T20:11:47.647942Z",
     "iopub.status.busy": "2022-10-27T20:11:47.647248Z",
     "iopub.status.idle": "2022-10-27T20:11:47.701245Z",
     "shell.execute_reply": "2022-10-27T20:11:47.702192Z"
    },
    "papermill": {
     "duration": 0.090105,
     "end_time": "2022-10-27T20:11:47.702450",
     "exception": false,
     "start_time": "2022-10-27T20:11:47.612345",
     "status": "completed"
    },
    "tags": []
   },
   "outputs": [],
   "source": [
    "X_train = X_train/255.\n",
    "X_test = X_test/255."
   ]
  },
  {
   "cell_type": "markdown",
   "id": "ddcf4fab",
   "metadata": {
    "papermill": {
     "duration": 0.029435,
     "end_time": "2022-10-27T20:11:47.763398",
     "exception": false,
     "start_time": "2022-10-27T20:11:47.733963",
     "status": "completed"
    },
    "tags": []
   },
   "source": [
    "And setup the labels as 1 (when the digit is 3) and 0 (when the digit is 8)"
   ]
  },
  {
   "cell_type": "code",
   "execution_count": 12,
   "id": "7dc908f2",
   "metadata": {
    "execution": {
     "iopub.execute_input": "2022-10-27T20:11:47.829046Z",
     "iopub.status.busy": "2022-10-27T20:11:47.828394Z",
     "iopub.status.idle": "2022-10-27T20:11:47.842177Z",
     "shell.execute_reply": "2022-10-27T20:11:47.841607Z"
    },
    "papermill": {
     "duration": 0.049219,
     "end_time": "2022-10-27T20:11:47.842303",
     "exception": false,
     "start_time": "2022-10-27T20:11:47.793084",
     "status": "completed"
    },
    "tags": []
   },
   "outputs": [],
   "source": [
    "y_train = 1*(y_train==3)\n",
    "y_test = 1*(y_test==3)"
   ]
  },
  {
   "cell_type": "code",
   "execution_count": 13,
   "id": "01e4e969",
   "metadata": {
    "execution": {
     "iopub.execute_input": "2022-10-27T20:11:47.911312Z",
     "iopub.status.busy": "2022-10-27T20:11:47.910647Z",
     "iopub.status.idle": "2022-10-27T20:11:47.923777Z",
     "shell.execute_reply": "2022-10-27T20:11:47.923257Z"
    },
    "papermill": {
     "duration": 0.05252,
     "end_time": "2022-10-27T20:11:47.923897",
     "exception": false,
     "start_time": "2022-10-27T20:11:47.871377",
     "status": "completed"
    },
    "tags": []
   },
   "outputs": [
    {
     "data": {
      "text/plain": [
       "((11982, 28, 28), (1984, 28, 28))"
      ]
     },
     "execution_count": 13,
     "metadata": {},
     "output_type": "execute_result"
    }
   ],
   "source": [
    "X_train.shape, X_test.shape"
   ]
  },
  {
   "cell_type": "markdown",
   "id": "5ccf3f85",
   "metadata": {
    "papermill": {
     "duration": 0.029243,
     "end_time": "2022-10-27T20:11:47.982150",
     "exception": false,
     "start_time": "2022-10-27T20:11:47.952907",
     "status": "completed"
    },
    "tags": []
   },
   "source": [
    "We reshape the data to flatten the image pixels into a set of features or co-variates:"
   ]
  },
  {
   "cell_type": "code",
   "execution_count": 14,
   "id": "5286a4a3",
   "metadata": {
    "execution": {
     "iopub.execute_input": "2022-10-27T20:11:48.048392Z",
     "iopub.status.busy": "2022-10-27T20:11:48.047703Z",
     "iopub.status.idle": "2022-10-27T20:11:48.064877Z",
     "shell.execute_reply": "2022-10-27T20:11:48.065426Z"
    },
    "papermill": {
     "duration": 0.053072,
     "end_time": "2022-10-27T20:11:48.065588",
     "exception": false,
     "start_time": "2022-10-27T20:11:48.012516",
     "status": "completed"
    },
    "tags": []
   },
   "outputs": [
    {
     "data": {
      "text/plain": [
       "((11982, 784), (1984, 784))"
      ]
     },
     "execution_count": 14,
     "metadata": {},
     "output_type": "execute_result"
    }
   ],
   "source": [
    "X_train = X_train.reshape(X_train.shape[0], -1)\n",
    "X_test = X_test.reshape(X_test.shape[0], -1)\n",
    "X_train.shape, X_test.shape"
   ]
  },
  {
   "cell_type": "code",
   "execution_count": 15,
   "id": "73c5f88a",
   "metadata": {
    "execution": {
     "iopub.execute_input": "2022-10-27T20:11:48.134782Z",
     "iopub.status.busy": "2022-10-27T20:11:48.134077Z",
     "iopub.status.idle": "2022-10-27T20:11:48.154111Z",
     "shell.execute_reply": "2022-10-27T20:11:48.153498Z"
    },
    "papermill": {
     "duration": 0.059059,
     "end_time": "2022-10-27T20:11:48.154240",
     "exception": false,
     "start_time": "2022-10-27T20:11:48.095181",
     "status": "completed"
    },
    "tags": []
   },
   "outputs": [],
   "source": [
    "#Impoting functions from 'Kudzu'\n",
    "from kudzu.model import Model\n",
    "from kudzu.train import Learner\n",
    "from kudzu.optim import GD\n",
    "from kudzu.data import Data, Sampler,Dataloader\n",
    "\n",
    "from kudzu.callbacks import AccCallback\n",
    "from kudzu.callbacks import ClfCallback\n",
    "\n",
    "from kudzu.loss import MSE\n",
    "\n",
    "from kudzu.layer import Sigmoid,Relu\n",
    "from kudzu.layer import Affine"
   ]
  },
  {
   "cell_type": "markdown",
   "id": "bc01172a",
   "metadata": {
    "papermill": {
     "duration": 0.03005,
     "end_time": "2022-10-27T20:11:48.214069",
     "exception": false,
     "start_time": "2022-10-27T20:11:48.184019",
     "status": "completed"
    },
    "tags": []
   },
   "source": [
    "### Let us create a `Config` class, to store important parameters. \n",
    "This class essentially plays the role of a dictionary."
   ]
  },
  {
   "cell_type": "code",
   "execution_count": 16,
   "id": "978281aa",
   "metadata": {
    "execution": {
     "iopub.execute_input": "2022-10-27T20:11:48.281044Z",
     "iopub.status.busy": "2022-10-27T20:11:48.280340Z",
     "iopub.status.idle": "2022-10-27T20:11:48.296067Z",
     "shell.execute_reply": "2022-10-27T20:11:48.295386Z"
    },
    "papermill": {
     "duration": 0.052085,
     "end_time": "2022-10-27T20:11:48.296198",
     "exception": false,
     "start_time": "2022-10-27T20:11:48.244113",
     "status": "completed"
    },
    "tags": []
   },
   "outputs": [],
   "source": [
    "class Config:\n",
    "    pass\n",
    "config = Config()\n",
    "config.lr = 0.001\n",
    "config.num_epochs = 250\n",
    "config.bs = 50"
   ]
  },
  {
   "cell_type": "markdown",
   "id": "1385fa59",
   "metadata": {
    "papermill": {
     "duration": 0.030644,
     "end_time": "2022-10-27T20:11:48.357554",
     "exception": false,
     "start_time": "2022-10-27T20:11:48.326910",
     "status": "completed"
    },
    "tags": []
   },
   "source": [
    "### Running Models with the Training data\n",
    "Details about the network layers:\n",
    "- A first affine layer has 784 inputs and does 100 affine transforms. These are followed by a Relu\n",
    "- A second affine layer has 100 inputs from the 100 activations of the past layer, and does 100 affine transforms. These are followed by a Relu\n",
    "- A third affine layer has 100 activations and does 2 affine transformations to create an embedding for visualization. There is no non-linearity here.\n",
    "- A final \"logistic regression\" which has an affine transform from 2 inputs to 1 output, which is squeezed through a sigmoid.\n"
   ]
  },
  {
   "cell_type": "code",
   "execution_count": 17,
   "id": "2b9c66db",
   "metadata": {
    "execution": {
     "iopub.execute_input": "2022-10-27T20:11:48.425449Z",
     "iopub.status.busy": "2022-10-27T20:11:48.424739Z",
     "iopub.status.idle": "2022-10-27T20:11:48.439009Z",
     "shell.execute_reply": "2022-10-27T20:11:48.439566Z"
    },
    "papermill": {
     "duration": 0.051905,
     "end_time": "2022-10-27T20:11:48.439725",
     "exception": false,
     "start_time": "2022-10-27T20:11:48.387820",
     "status": "completed"
    },
    "tags": []
   },
   "outputs": [],
   "source": [
    "data = Data(X_train, y_train.reshape(-1,1))\n",
    "sampler = Sampler(data, config.bs, shuffle=True)\n",
    "\n",
    "dl = Dataloader(data, sampler)\n",
    "\n",
    "opt = GD(config.lr)\n",
    "loss = MSE()"
   ]
  },
  {
   "cell_type": "code",
   "execution_count": 18,
   "id": "b275e4c2",
   "metadata": {
    "execution": {
     "iopub.execute_input": "2022-10-27T20:11:48.506853Z",
     "iopub.status.busy": "2022-10-27T20:11:48.506212Z",
     "iopub.status.idle": "2022-10-27T20:11:48.520192Z",
     "shell.execute_reply": "2022-10-27T20:11:48.519637Z"
    },
    "papermill": {
     "duration": 0.049921,
     "end_time": "2022-10-27T20:11:48.520325",
     "exception": false,
     "start_time": "2022-10-27T20:11:48.470404",
     "status": "completed"
    },
    "tags": []
   },
   "outputs": [],
   "source": [
    "training_data_x = X_train\n",
    "testing_data_x = X_test\n",
    "training_data_y = y_train.reshape(-1,1)\n",
    "testing_data_y = y_test.reshape(-1,1)"
   ]
  },
  {
   "cell_type": "code",
   "execution_count": 19,
   "id": "76951160",
   "metadata": {
    "execution": {
     "iopub.execute_input": "2022-10-27T20:11:48.585646Z",
     "iopub.status.busy": "2022-10-27T20:11:48.584938Z",
     "iopub.status.idle": "2022-10-27T20:11:48.605645Z",
     "shell.execute_reply": "2022-10-27T20:11:48.605098Z"
    },
    "papermill": {
     "duration": 0.056497,
     "end_time": "2022-10-27T20:11:48.605767",
     "exception": false,
     "start_time": "2022-10-27T20:11:48.549270",
     "status": "completed"
    },
    "tags": []
   },
   "outputs": [
    {
     "name": "stdout",
     "output_type": "stream",
     "text": [
      "xavier\n",
      "xavier\n",
      "xavier\n",
      "xavier\n",
      "xavier\n"
     ]
    }
   ],
   "source": [
    "layers = [Affine(\"first\", 784, 100), Relu(\"first\"), Affine(\"second\", 100, 100), Relu(\"second\"), Affine(\"third\", 100, 2), Affine(\"last\", 2, 1), Sigmoid(\"last\")]\n",
    "model_nn = Model(layers)\n",
    "model_lr = Model([Affine(\"logits\", 784, 1), Sigmoid(\"sigmoid\")])"
   ]
  },
  {
   "cell_type": "code",
   "execution_count": 20,
   "id": "6eede77a",
   "metadata": {
    "execution": {
     "iopub.execute_input": "2022-10-27T20:11:48.670729Z",
     "iopub.status.busy": "2022-10-27T20:11:48.670169Z",
     "iopub.status.idle": "2022-10-27T20:11:48.684342Z",
     "shell.execute_reply": "2022-10-27T20:11:48.683720Z"
    },
    "papermill": {
     "duration": 0.050015,
     "end_time": "2022-10-27T20:11:48.684480",
     "exception": false,
     "start_time": "2022-10-27T20:11:48.634465",
     "status": "completed"
    },
    "tags": []
   },
   "outputs": [],
   "source": [
    "nn_learner = Learner(loss, model_nn, opt, config.num_epochs)\n",
    "acc_nn = ClfCallback(nn_learner, config.bs, training_data_x , testing_data_x, training_data_y, testing_data_y)\n",
    "nn_learner.set_callbacks([acc_nn])"
   ]
  },
  {
   "cell_type": "code",
   "execution_count": 21,
   "id": "877b6cc7",
   "metadata": {
    "execution": {
     "iopub.execute_input": "2022-10-27T20:11:48.750350Z",
     "iopub.status.busy": "2022-10-27T20:11:48.749648Z",
     "iopub.status.idle": "2022-10-27T20:11:48.764113Z",
     "shell.execute_reply": "2022-10-27T20:11:48.764634Z"
    },
    "papermill": {
     "duration": 0.050763,
     "end_time": "2022-10-27T20:11:48.764795",
     "exception": false,
     "start_time": "2022-10-27T20:11:48.714032",
     "status": "completed"
    },
    "tags": []
   },
   "outputs": [],
   "source": [
    "lr_learner = Learner(loss, model_lr, opt, config.num_epochs)\n",
    "acc_lr = ClfCallback(lr_learner, config.bs, training_data_x , testing_data_x, training_data_y, testing_data_y)\n",
    "lr_learner.set_callbacks([acc_lr])"
   ]
  },
  {
   "cell_type": "code",
   "execution_count": 22,
   "id": "d9b133c3",
   "metadata": {
    "execution": {
     "iopub.execute_input": "2022-10-27T20:11:48.830124Z",
     "iopub.status.busy": "2022-10-27T20:11:48.829421Z",
     "iopub.status.idle": "2022-10-27T20:13:13.079914Z",
     "shell.execute_reply": "2022-10-27T20:13:13.080865Z"
    },
    "papermill": {
     "duration": 84.286463,
     "end_time": "2022-10-27T20:13:13.081030",
     "exception": false,
     "start_time": "2022-10-27T20:11:48.794567",
     "status": "completed"
    },
    "tags": []
   },
   "outputs": [
    {
     "name": "stdout",
     "output_type": "stream",
     "text": [
      "Epoch 0, Loss 0.2427\n",
      "Training Accuracy: 0.5608, Testing Accuracy: 0.5570\n",
      "\n"
     ]
    },
    {
     "name": "stdout",
     "output_type": "stream",
     "text": [
      "Epoch 10, Loss 0.1321\n",
      "Training Accuracy: 0.8963, Testing Accuracy: 0.9108\n",
      "\n"
     ]
    },
    {
     "name": "stdout",
     "output_type": "stream",
     "text": [
      "Epoch 20, Loss 0.0713\n",
      "Training Accuracy: 0.9296, Testing Accuracy: 0.9385\n",
      "\n"
     ]
    },
    {
     "name": "stdout",
     "output_type": "stream",
     "text": [
      "Epoch 30, Loss 0.0523\n",
      "Training Accuracy: 0.9447, Testing Accuracy: 0.9526\n",
      "\n"
     ]
    },
    {
     "name": "stdout",
     "output_type": "stream",
     "text": [
      "Epoch 40, Loss 0.0437\n",
      "Training Accuracy: 0.9508, Testing Accuracy: 0.9597\n",
      "\n"
     ]
    },
    {
     "name": "stdout",
     "output_type": "stream",
     "text": [
      "Epoch 50, Loss 0.0388\n",
      "Training Accuracy: 0.9564, Testing Accuracy: 0.9652\n",
      "\n"
     ]
    },
    {
     "name": "stdout",
     "output_type": "stream",
     "text": [
      "Epoch 60, Loss 0.0356\n",
      "Training Accuracy: 0.9593, Testing Accuracy: 0.9677\n",
      "\n"
     ]
    },
    {
     "name": "stdout",
     "output_type": "stream",
     "text": [
      "Epoch 70, Loss 0.0332\n",
      "Training Accuracy: 0.9616, Testing Accuracy: 0.9682\n",
      "\n"
     ]
    },
    {
     "name": "stdout",
     "output_type": "stream",
     "text": [
      "Epoch 80, Loss 0.0314\n",
      "Training Accuracy: 0.9634, Testing Accuracy: 0.9693\n",
      "\n"
     ]
    },
    {
     "name": "stdout",
     "output_type": "stream",
     "text": [
      "Epoch 90, Loss 0.03\n",
      "Training Accuracy: 0.9651, Testing Accuracy: 0.9708\n",
      "\n"
     ]
    },
    {
     "name": "stdout",
     "output_type": "stream",
     "text": [
      "Epoch 100, Loss 0.0288\n",
      "Training Accuracy: 0.9658, Testing Accuracy: 0.9703\n",
      "\n"
     ]
    },
    {
     "name": "stdout",
     "output_type": "stream",
     "text": [
      "Epoch 110, Loss 0.0278\n",
      "Training Accuracy: 0.9670, Testing Accuracy: 0.9698\n",
      "\n"
     ]
    },
    {
     "name": "stdout",
     "output_type": "stream",
     "text": [
      "Epoch 120, Loss 0.027\n",
      "Training Accuracy: 0.9686, Testing Accuracy: 0.9698\n",
      "\n"
     ]
    },
    {
     "name": "stdout",
     "output_type": "stream",
     "text": [
      "Epoch 130, Loss 0.0262\n",
      "Training Accuracy: 0.9691, Testing Accuracy: 0.9718\n",
      "\n"
     ]
    },
    {
     "name": "stdout",
     "output_type": "stream",
     "text": [
      "Epoch 140, Loss 0.0255\n",
      "Training Accuracy: 0.9698, Testing Accuracy: 0.9713\n",
      "\n"
     ]
    },
    {
     "name": "stdout",
     "output_type": "stream",
     "text": [
      "Epoch 150, Loss 0.0249\n",
      "Training Accuracy: 0.9706, Testing Accuracy: 0.9718\n",
      "\n"
     ]
    },
    {
     "name": "stdout",
     "output_type": "stream",
     "text": [
      "Epoch 160, Loss 0.0243\n",
      "Training Accuracy: 0.9712, Testing Accuracy: 0.9718\n",
      "\n"
     ]
    },
    {
     "name": "stdout",
     "output_type": "stream",
     "text": [
      "Epoch 170, Loss 0.0238\n",
      "Training Accuracy: 0.9721, Testing Accuracy: 0.9723\n",
      "\n"
     ]
    },
    {
     "name": "stdout",
     "output_type": "stream",
     "text": [
      "Epoch 180, Loss 0.0233\n",
      "Training Accuracy: 0.9727, Testing Accuracy: 0.9718\n",
      "\n"
     ]
    },
    {
     "name": "stdout",
     "output_type": "stream",
     "text": [
      "Epoch 190, Loss 0.0228\n",
      "Training Accuracy: 0.9733, Testing Accuracy: 0.9723\n",
      "\n"
     ]
    },
    {
     "name": "stdout",
     "output_type": "stream",
     "text": [
      "Epoch 200, Loss 0.0224\n",
      "Training Accuracy: 0.9737, Testing Accuracy: 0.9728\n",
      "\n"
     ]
    },
    {
     "name": "stdout",
     "output_type": "stream",
     "text": [
      "Epoch 210, Loss 0.022\n",
      "Training Accuracy: 0.9744, Testing Accuracy: 0.9733\n",
      "\n"
     ]
    },
    {
     "name": "stdout",
     "output_type": "stream",
     "text": [
      "Epoch 220, Loss 0.0216\n",
      "Training Accuracy: 0.9750, Testing Accuracy: 0.9733\n",
      "\n"
     ]
    },
    {
     "name": "stdout",
     "output_type": "stream",
     "text": [
      "Epoch 230, Loss 0.0212\n",
      "Training Accuracy: 0.9760, Testing Accuracy: 0.9733\n",
      "\n"
     ]
    },
    {
     "name": "stdout",
     "output_type": "stream",
     "text": [
      "Epoch 240, Loss 0.0209\n",
      "Training Accuracy: 0.9761, Testing Accuracy: 0.9738\n",
      "\n"
     ]
    },
    {
     "data": {
      "text/plain": [
       "0.06723304435928035"
      ]
     },
     "execution_count": 22,
     "metadata": {},
     "output_type": "execute_result"
    }
   ],
   "source": [
    "nn_learner.train_loop(dl)"
   ]
  },
  {
   "cell_type": "code",
   "execution_count": 23,
   "id": "e0163366",
   "metadata": {
    "execution": {
     "iopub.execute_input": "2022-10-27T20:13:13.166836Z",
     "iopub.status.busy": "2022-10-27T20:13:13.166148Z",
     "iopub.status.idle": "2022-10-27T20:13:27.939142Z",
     "shell.execute_reply": "2022-10-27T20:13:27.940123Z"
    },
    "papermill": {
     "duration": 14.82213,
     "end_time": "2022-10-27T20:13:27.940290",
     "exception": false,
     "start_time": "2022-10-27T20:13:13.118160",
     "status": "completed"
    },
    "tags": []
   },
   "outputs": [
    {
     "name": "stdout",
     "output_type": "stream",
     "text": [
      "Epoch 0, Loss 0.2395\n",
      "Training Accuracy: 0.6930, Testing Accuracy: 0.6885\n",
      "\n"
     ]
    },
    {
     "name": "stdout",
     "output_type": "stream",
     "text": [
      "Epoch 10, Loss 0.1035\n",
      "Training Accuracy: 0.9064, Testing Accuracy: 0.9214\n",
      "\n"
     ]
    },
    {
     "name": "stdout",
     "output_type": "stream",
     "text": [
      "Epoch 20, Loss 0.0794\n",
      "Training Accuracy: 0.9251, Testing Accuracy: 0.9405\n",
      "\n"
     ]
    },
    {
     "name": "stdout",
     "output_type": "stream",
     "text": [
      "Epoch 30, Loss 0.0684\n",
      "Training Accuracy: 0.9347, Testing Accuracy: 0.9461\n",
      "\n"
     ]
    },
    {
     "name": "stdout",
     "output_type": "stream",
     "text": [
      "Epoch 40, Loss 0.0617\n",
      "Training Accuracy: 0.9404, Testing Accuracy: 0.9521\n",
      "\n"
     ]
    },
    {
     "name": "stdout",
     "output_type": "stream",
     "text": [
      "Epoch 50, Loss 0.0572\n",
      "Training Accuracy: 0.9440, Testing Accuracy: 0.9556\n",
      "\n"
     ]
    },
    {
     "name": "stdout",
     "output_type": "stream",
     "text": [
      "Epoch 60, Loss 0.0539\n",
      "Training Accuracy: 0.9469, Testing Accuracy: 0.9587\n",
      "\n"
     ]
    },
    {
     "name": "stdout",
     "output_type": "stream",
     "text": [
      "Epoch 70, Loss 0.0513\n",
      "Training Accuracy: 0.9493, Testing Accuracy: 0.9592\n",
      "\n"
     ]
    },
    {
     "name": "stdout",
     "output_type": "stream",
     "text": [
      "Epoch 80, Loss 0.0493\n",
      "Training Accuracy: 0.9505, Testing Accuracy: 0.9607\n",
      "\n"
     ]
    },
    {
     "name": "stdout",
     "output_type": "stream",
     "text": [
      "Epoch 90, Loss 0.0476\n",
      "Training Accuracy: 0.9518, Testing Accuracy: 0.9637\n",
      "\n"
     ]
    },
    {
     "name": "stdout",
     "output_type": "stream",
     "text": [
      "Epoch 100, Loss 0.0461\n",
      "Training Accuracy: 0.9525, Testing Accuracy: 0.9627\n",
      "\n"
     ]
    },
    {
     "name": "stdout",
     "output_type": "stream",
     "text": [
      "Epoch 110, Loss 0.0449\n",
      "Training Accuracy: 0.9543, Testing Accuracy: 0.9627\n",
      "\n"
     ]
    },
    {
     "name": "stdout",
     "output_type": "stream",
     "text": [
      "Epoch 120, Loss 0.0438\n",
      "Training Accuracy: 0.9557, Testing Accuracy: 0.9637\n",
      "\n"
     ]
    },
    {
     "name": "stdout",
     "output_type": "stream",
     "text": [
      "Epoch 130, Loss 0.0429\n",
      "Training Accuracy: 0.9570, Testing Accuracy: 0.9637\n",
      "\n"
     ]
    },
    {
     "name": "stdout",
     "output_type": "stream",
     "text": [
      "Epoch 140, Loss 0.0421\n",
      "Training Accuracy: 0.9576, Testing Accuracy: 0.9647\n",
      "\n"
     ]
    },
    {
     "name": "stdout",
     "output_type": "stream",
     "text": [
      "Epoch 150, Loss 0.0413\n",
      "Training Accuracy: 0.9579, Testing Accuracy: 0.9652\n",
      "\n"
     ]
    },
    {
     "name": "stdout",
     "output_type": "stream",
     "text": [
      "Epoch 160, Loss 0.0406\n",
      "Training Accuracy: 0.9583, Testing Accuracy: 0.9657\n",
      "\n"
     ]
    },
    {
     "name": "stdout",
     "output_type": "stream",
     "text": [
      "Epoch 170, Loss 0.04\n",
      "Training Accuracy: 0.9589, Testing Accuracy: 0.9657\n",
      "\n"
     ]
    },
    {
     "name": "stdout",
     "output_type": "stream",
     "text": [
      "Epoch 180, Loss 0.0395\n",
      "Training Accuracy: 0.9593, Testing Accuracy: 0.9662\n",
      "\n"
     ]
    },
    {
     "name": "stdout",
     "output_type": "stream",
     "text": [
      "Epoch 190, Loss 0.0389\n",
      "Training Accuracy: 0.9594, Testing Accuracy: 0.9662\n",
      "\n"
     ]
    },
    {
     "name": "stdout",
     "output_type": "stream",
     "text": [
      "Epoch 200, Loss 0.0385\n",
      "Training Accuracy: 0.9594, Testing Accuracy: 0.9662\n",
      "\n"
     ]
    },
    {
     "name": "stdout",
     "output_type": "stream",
     "text": [
      "Epoch 210, Loss 0.038\n",
      "Training Accuracy: 0.9597, Testing Accuracy: 0.9672\n",
      "\n"
     ]
    },
    {
     "name": "stdout",
     "output_type": "stream",
     "text": [
      "Epoch 220, Loss 0.0376\n",
      "Training Accuracy: 0.9602, Testing Accuracy: 0.9672\n",
      "\n"
     ]
    },
    {
     "name": "stdout",
     "output_type": "stream",
     "text": [
      "Epoch 230, Loss 0.0372\n",
      "Training Accuracy: 0.9605, Testing Accuracy: 0.9667\n",
      "\n"
     ]
    },
    {
     "name": "stdout",
     "output_type": "stream",
     "text": [
      "Epoch 240, Loss 0.0369\n",
      "Training Accuracy: 0.9609, Testing Accuracy: 0.9672\n",
      "\n"
     ]
    },
    {
     "data": {
      "text/plain": [
       "0.013120864372926993"
      ]
     },
     "execution_count": 23,
     "metadata": {},
     "output_type": "execute_result"
    }
   ],
   "source": [
    "lr_learner.train_loop(dl)"
   ]
  },
  {
   "cell_type": "code",
   "execution_count": 24,
   "id": "ca410940",
   "metadata": {
    "execution": {
     "iopub.execute_input": "2022-10-27T20:13:28.046888Z",
     "iopub.status.busy": "2022-10-27T20:13:28.046179Z",
     "iopub.status.idle": "2022-10-27T20:13:28.280306Z",
     "shell.execute_reply": "2022-10-27T20:13:28.281109Z"
    },
    "papermill": {
     "duration": 0.295118,
     "end_time": "2022-10-27T20:13:28.281269",
     "exception": false,
     "start_time": "2022-10-27T20:13:27.986151",
     "status": "completed"
    },
    "tags": []
   },
   "outputs": [
    {
     "data": {
      "text/plain": [
       "<matplotlib.legend.Legend at 0x7efd201ab320>"
      ]
     },
     "execution_count": 24,
     "metadata": {},
     "output_type": "execute_result"
    },
    {
     "data": {
      "image/png": "[encoded data removed]",
      "text/plain": [
       "<Figure size 1080x720 with 1 Axes>"
      ]
     },
     "metadata": {
      "needs_background": "light"
     },
     "output_type": "display_data"
    }
   ],
   "source": [
    "#comparing the results of NN and LR\n",
    "plt.figure(figsize=(15,10))\n",
    "\n",
    "# Neural Network plots\n",
    "plt.plot(acc_nn.accuracies, 'r-', label = \"Training Accuracies - NN\")\n",
    "plt.plot(acc_nn.test_accuracies, 'g-', label = \"Testing Accuracies - NN\")\n",
    "\n",
    "# Logistic Regression plots\n",
    "plt.plot(acc_lr.accuracies, 'k-', label = \"Training Accuracies - LR\")\n",
    "plt.plot(acc_lr.test_accuracies, 'b-', label = \"Testing Accuracies - LR\")\n",
    "plt.legend()"
   ]
  },
  {
   "cell_type": "markdown",
   "id": "80dfb35c",
   "metadata": {
    "papermill": {
     "duration": 0.044243,
     "end_time": "2022-10-27T20:13:28.368763",
     "exception": false,
     "start_time": "2022-10-27T20:13:28.324520",
     "status": "completed"
    },
    "tags": []
   },
   "source": [
    "#### Plotting the outputs of this layer of the NN.\n"
   ]
  },
  {
   "cell_type": "code",
   "execution_count": 25,
   "id": "45eb2ff5",
   "metadata": {
    "execution": {
     "iopub.execute_input": "2022-10-27T20:13:28.472271Z",
     "iopub.status.busy": "2022-10-27T20:13:28.470290Z",
     "iopub.status.idle": "2022-10-27T20:13:28.491270Z",
     "shell.execute_reply": "2022-10-27T20:13:28.491777Z"
    },
    "papermill": {
     "duration": 0.078172,
     "end_time": "2022-10-27T20:13:28.491923",
     "exception": false,
     "start_time": "2022-10-27T20:13:28.413751",
     "status": "completed"
    },
    "tags": []
   },
   "outputs": [],
   "source": [
    "new_model = Model(layers[:-2])\n",
    "testing_plot = new_model(testing_data_x)"
   ]
  },
  {
   "cell_type": "code",
   "execution_count": 26,
   "id": "4c0a5485",
   "metadata": {
    "execution": {
     "iopub.execute_input": "2022-10-27T20:13:28.597086Z",
     "iopub.status.busy": "2022-10-27T20:13:28.590873Z",
     "iopub.status.idle": "2022-10-27T20:13:28.837393Z",
     "shell.execute_reply": "2022-10-27T20:13:28.837954Z"
    },
    "papermill": {
     "duration": 0.299558,
     "end_time": "2022-10-27T20:13:28.838103",
     "exception": false,
     "start_time": "2022-10-27T20:13:28.538545",
     "status": "completed"
    },
    "tags": []
   },
   "outputs": [
    {
     "data": {
      "text/plain": [
       "Text(0.5, 1.0, 'Outputs')"
      ]
     },
     "execution_count": 26,
     "metadata": {},
     "output_type": "execute_result"
    },
    {
     "data": {
      "image/png": "[encoded data removed]",
      "text/plain": [
       "<Figure size 576x504 with 1 Axes>"
      ]
     },
     "metadata": {
      "needs_background": "light"
     },
     "output_type": "display_data"
    }
   ],
   "source": [
    "# Plotting the scatter plot of points and color coding by class\n",
    "plt.figure(figsize=(8,7))\n",
    "plt.scatter(testing_plot[:,0], testing_plot[:,1], alpha = 0.1, c = y_test.ravel());\n",
    "plt.title('Outputs')"
   ]
  },
  {
   "cell_type": "markdown",
   "id": "a74fcf8f",
   "metadata": {
    "papermill": {
     "duration": 0.047989,
     "end_time": "2022-10-27T20:13:28.933581",
     "exception": false,
     "start_time": "2022-10-27T20:13:28.885592",
     "status": "completed"
    },
    "tags": []
   },
   "source": [
    "Probability contours"
   ]
  },
  {
   "cell_type": "code",
   "execution_count": 27,
   "id": "d0afc8e3",
   "metadata": {
    "execution": {
     "iopub.execute_input": "2022-10-27T20:13:29.035299Z",
     "iopub.status.busy": "2022-10-27T20:13:29.034613Z",
     "iopub.status.idle": "2022-10-27T20:13:29.048763Z",
     "shell.execute_reply": "2022-10-27T20:13:29.049225Z"
    },
    "papermill": {
     "duration": 0.068729,
     "end_time": "2022-10-27T20:13:29.049417",
     "exception": false,
     "start_time": "2022-10-27T20:13:28.980688",
     "status": "completed"
    },
    "tags": []
   },
   "outputs": [],
   "source": [
    "model_prob = Model(layers[-2:]) "
   ]
  },
  {
   "cell_type": "code",
   "execution_count": 28,
   "id": "9b96e238",
   "metadata": {
    "execution": {
     "iopub.execute_input": "2022-10-27T20:13:29.183247Z",
     "iopub.status.busy": "2022-10-27T20:13:29.182568Z",
     "iopub.status.idle": "2022-10-27T20:13:29.197012Z",
     "shell.execute_reply": "2022-10-27T20:13:29.197547Z"
    },
    "papermill": {
     "duration": 0.097805,
     "end_time": "2022-10-27T20:13:29.197699",
     "exception": false,
     "start_time": "2022-10-27T20:13:29.099894",
     "status": "completed"
    },
    "tags": []
   },
   "outputs": [],
   "source": [
    "#creating the x and y ranges according to the above generated plot.\n",
    "x_range = np.linspace(-4, 1, 100) \n",
    "y_range = np.linspace(-6, 6, 100) \n",
    "x_grid, y_grid = np.meshgrid(x_range, y_range) # x_grid and y_grig are of size 100 X 100\n",
    "\n",
    "# converting x_grid and y_grid to continuous arrays\n",
    "x_gridflat = np.ravel(x_grid)\n",
    "y_gridflat = np.ravel(y_grid)\n",
    "\n",
    "# The last layer of the current model takes two columns as input. Hence transpose of np.vstack() is required.\n",
    "X = np.vstack((x_gridflat, y_gridflat)).T\n",
    "\n",
    "prob_contour = model_prob(X).reshape(100,100) "
   ]
  },
  {
   "cell_type": "code",
   "execution_count": 29,
   "id": "da72499a",
   "metadata": {
    "execution": {
     "iopub.execute_input": "2022-10-27T20:13:29.311060Z",
     "iopub.status.busy": "2022-10-27T20:13:29.310407Z",
     "iopub.status.idle": "2022-10-27T20:13:29.594193Z",
     "shell.execute_reply": "2022-10-27T20:13:29.593667Z"
    },
    "papermill": {
     "duration": 0.34807,
     "end_time": "2022-10-27T20:13:29.594331",
     "exception": false,
     "start_time": "2022-10-27T20:13:29.246261",
     "status": "completed"
    },
    "tags": []
   },
   "outputs": [
    {
     "data": {
      "image/png": "[encoded data removed]",
      "text/plain": [
       "<Figure size 720x648 with 1 Axes>"
      ]
     },
     "metadata": {
      "needs_background": "light"
     },
     "output_type": "display_data"
    }
   ],
   "source": [
    "plt.figure(figsize=(10,9))\n",
    "plt.scatter(testing_plot[:,0], testing_plot[:,1], alpha = 0.1, c = y_test.ravel())\n",
    "contours = plt.contour(x_grid,y_grid,prob_contour)\n",
    "plt.title('Probability Contours')\n",
    "plt.clabel(contours, inline = True );"
   ]
  },
  {
   "cell_type": "code",
   "execution_count": null,
   "id": "e81b4ac7",
   "metadata": {
    "papermill": {
     "duration": 0.050797,
     "end_time": "2022-10-27T20:13:29.695450",
     "exception": false,
     "start_time": "2022-10-27T20:13:29.644653",
     "status": "completed"
    },
    "tags": []
   },
   "outputs": [],
   "source": []
  }
 ],
 "metadata": {
  "kernelspec": {
   "display_name": "Python 3",
   "language": "python",
   "name": "python3"
  },
  "language_info": {
   "codemirror_mode": {
    "name": "ipython",
    "version": 3
   },
   "file_extension": ".py",
   "mimetype": "text/x-python",
   "name": "python",
   "nbconvert_exporter": "python",
   "pygments_lexer": "ipython3",
   "version": "3.6.15"
  },
  "papermill": {
   "default_parameters": {},
   "duration": 108.452711,
   "end_time": "2022-10-27T20:13:30.166639",
   "environment_variables": {},
   "exception": null,
   "input_path": "2020-08-11-part2.ipynb",
   "output_path": "2020-08-11-part2.ipynb",
   "parameters": {},
   "start_time": "2022-10-27T20:11:41.713928",
   "version": "2.3.3"
  }
 },
 "nbformat": 4,
 "nbformat_minor": 5
}