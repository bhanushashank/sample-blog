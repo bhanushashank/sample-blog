{
 "cells": [
  {
   "cell_type": "markdown",
   "id": "98380cd3",
   "metadata": {
    "papermill": {
     "duration": 0.027961,
     "end_time": "2022-02-10T10:09:33.229964",
     "exception": false,
     "start_time": "2022-02-10T10:09:33.202003",
     "status": "completed"
    },
    "tags": []
   },
   "source": [
    "# Distinguish Your Own Digits (DYOD)"
   ]
  },
  {
   "cell_type": "markdown",
   "id": "ef31240d",
   "metadata": {
    "papermill": {
     "duration": 0.025547,
     "end_time": "2022-02-10T10:09:33.280354",
     "exception": false,
     "start_time": "2022-02-10T10:09:33.254807",
     "status": "completed"
    },
    "tags": []
   },
   "source": [
    "You are going to write a classifier that distinguishes between the number 3 and number 8."
   ]
  },
  {
   "cell_type": "code",
   "execution_count": 1,
   "id": "b15c8646",
   "metadata": {
    "execution": {
     "iopub.execute_input": "2022-02-10T10:09:33.339074Z",
     "iopub.status.busy": "2022-02-10T10:09:33.336212Z",
     "iopub.status.idle": "2022-02-10T10:09:33.349325Z",
     "shell.execute_reply": "2022-02-10T10:09:33.348889Z"
    },
    "papermill": {
     "duration": 0.045049,
     "end_time": "2022-02-10T10:09:33.349457",
     "exception": false,
     "start_time": "2022-02-10T10:09:33.304408",
     "status": "completed"
    },
    "tags": []
   },
   "outputs": [],
   "source": [
    "%load_ext autoreload\n",
    "%autoreload 2"
   ]
  },
  {
   "cell_type": "code",
   "execution_count": 2,
   "id": "22ef38dc",
   "metadata": {
    "execution": {
     "iopub.execute_input": "2022-02-10T10:09:33.402187Z",
     "iopub.status.busy": "2022-02-10T10:09:33.401661Z",
     "iopub.status.idle": "2022-02-10T10:09:33.985444Z",
     "shell.execute_reply": "2022-02-10T10:09:33.984920Z"
    },
    "papermill": {
     "duration": 0.611675,
     "end_time": "2022-02-10T10:09:33.985585",
     "exception": false,
     "start_time": "2022-02-10T10:09:33.373910",
     "status": "completed"
    },
    "tags": []
   },
   "outputs": [],
   "source": [
    "%matplotlib inline\n",
    "import numpy as np\n",
    "import matplotlib.pyplot as plt\n",
    "import pandas as pd"
   ]
  },
  {
   "cell_type": "markdown",
   "id": "ba036198",
   "metadata": {
    "papermill": {
     "duration": 0.024073,
     "end_time": "2022-02-10T10:09:34.034324",
     "exception": false,
     "start_time": "2022-02-10T10:09:34.010251",
     "status": "completed"
    },
    "tags": []
   },
   "source": [
    "From the command line run `pip install mnist`. This is a library that will help you bring down the mnist dataset. If you run this from a notebook, you need to put  `!pip install mnist` in a cell by itself."
   ]
  },
  {
   "cell_type": "code",
   "execution_count": 3,
   "id": "bb6ad8a1",
   "metadata": {
    "execution": {
     "iopub.execute_input": "2022-02-10T10:09:34.099617Z",
     "iopub.status.busy": "2022-02-10T10:09:34.099077Z",
     "iopub.status.idle": "2022-02-10T10:09:35.764766Z",
     "shell.execute_reply": "2022-02-10T10:09:35.763959Z"
    },
    "papermill": {
     "duration": 1.706276,
     "end_time": "2022-02-10T10:09:35.764902",
     "exception": false,
     "start_time": "2022-02-10T10:09:34.058626",
     "status": "completed"
    },
    "tags": []
   },
   "outputs": [
    {
     "name": "stdout",
     "output_type": "stream",
     "text": [
      "Collecting mnist\r\n"
     ]
    },
    {
     "name": "stdout",
     "output_type": "stream",
     "text": [
      "  Downloading mnist-0.2.2-py2.py3-none-any.whl (3.5 kB)\r\n",
      "Requirement already satisfied: numpy in /opt/hostedtoolcache/Python/3.6.15/x64/lib/python3.6/site-packages (from mnist) (1.19.5)\r\n"
     ]
    },
    {
     "name": "stdout",
     "output_type": "stream",
     "text": [
      "Installing collected packages: mnist\r\n"
     ]
    },
    {
     "name": "stdout",
     "output_type": "stream",
     "text": [
      "Successfully installed mnist-0.2.2\r\n"
     ]
    }
   ],
   "source": [
    "!pip install mnist"
   ]
  },
  {
   "cell_type": "markdown",
   "id": "69df9c9a",
   "metadata": {
    "papermill": {
     "duration": 0.025628,
     "end_time": "2022-02-10T10:09:35.816101",
     "exception": false,
     "start_time": "2022-02-10T10:09:35.790473",
     "status": "completed"
    },
    "tags": []
   },
   "source": [
    "## Preparing the Data"
   ]
  },
  {
   "cell_type": "code",
   "execution_count": 4,
   "id": "7f69d806",
   "metadata": {
    "execution": {
     "iopub.execute_input": "2022-02-10T10:09:35.870593Z",
     "iopub.status.busy": "2022-02-10T10:09:35.870040Z",
     "iopub.status.idle": "2022-02-10T10:09:35.885105Z",
     "shell.execute_reply": "2022-02-10T10:09:35.884683Z"
    },
    "papermill": {
     "duration": 0.04374,
     "end_time": "2022-02-10T10:09:35.885222",
     "exception": false,
     "start_time": "2022-02-10T10:09:35.841482",
     "status": "completed"
    },
    "tags": []
   },
   "outputs": [],
   "source": [
    "import mnist"
   ]
  },
  {
   "cell_type": "code",
   "execution_count": 5,
   "id": "a411e44f",
   "metadata": {
    "execution": {
     "iopub.execute_input": "2022-02-10T10:09:35.946886Z",
     "iopub.status.busy": "2022-02-10T10:09:35.946350Z",
     "iopub.status.idle": "2022-02-10T10:09:36.423071Z",
     "shell.execute_reply": "2022-02-10T10:09:36.422490Z"
    },
    "papermill": {
     "duration": 0.512528,
     "end_time": "2022-02-10T10:09:36.423194",
     "exception": false,
     "start_time": "2022-02-10T10:09:35.910666",
     "status": "completed"
    },
    "tags": []
   },
   "outputs": [],
   "source": [
    "train_images = mnist.train_images()\n",
    "train_labels = mnist.train_labels()"
   ]
  },
  {
   "cell_type": "code",
   "execution_count": 6,
   "id": "dceab3a5",
   "metadata": {
    "execution": {
     "iopub.execute_input": "2022-02-10T10:09:36.480941Z",
     "iopub.status.busy": "2022-02-10T10:09:36.480417Z",
     "iopub.status.idle": "2022-02-10T10:09:36.492884Z",
     "shell.execute_reply": "2022-02-10T10:09:36.493291Z"
    },
    "papermill": {
     "duration": 0.044569,
     "end_time": "2022-02-10T10:09:36.493426",
     "exception": false,
     "start_time": "2022-02-10T10:09:36.448857",
     "status": "completed"
    },
    "tags": []
   },
   "outputs": [
    {
     "data": {
      "text/plain": [
       "((60000, 28, 28), (60000,))"
      ]
     },
     "execution_count": 6,
     "metadata": {},
     "output_type": "execute_result"
    }
   ],
   "source": [
    "train_images.shape, train_labels.shape"
   ]
  },
  {
   "cell_type": "code",
   "execution_count": 7,
   "id": "f50dc2bb",
   "metadata": {
    "execution": {
     "iopub.execute_input": "2022-02-10T10:09:36.560392Z",
     "iopub.status.busy": "2022-02-10T10:09:36.559152Z",
     "iopub.status.idle": "2022-02-10T10:09:36.695308Z",
     "shell.execute_reply": "2022-02-10T10:09:36.695781Z"
    },
    "papermill": {
     "duration": 0.176769,
     "end_time": "2022-02-10T10:09:36.695944",
     "exception": false,
     "start_time": "2022-02-10T10:09:36.519175",
     "status": "completed"
    },
    "tags": []
   },
   "outputs": [],
   "source": [
    "test_images = mnist.test_images()\n",
    "test_labels = mnist.test_labels()"
   ]
  },
  {
   "cell_type": "code",
   "execution_count": 8,
   "id": "fc38cf1b",
   "metadata": {
    "execution": {
     "iopub.execute_input": "2022-02-10T10:09:36.760379Z",
     "iopub.status.busy": "2022-02-10T10:09:36.759851Z",
     "iopub.status.idle": "2022-02-10T10:09:36.767810Z",
     "shell.execute_reply": "2022-02-10T10:09:36.767375Z"
    },
    "papermill": {
     "duration": 0.045243,
     "end_time": "2022-02-10T10:09:36.767923",
     "exception": false,
     "start_time": "2022-02-10T10:09:36.722680",
     "status": "completed"
    },
    "tags": []
   },
   "outputs": [
    {
     "data": {
      "text/plain": [
       "((10000, 28, 28), (10000,))"
      ]
     },
     "execution_count": 8,
     "metadata": {},
     "output_type": "execute_result"
    }
   ],
   "source": [
    "test_images.shape, test_labels.shape"
   ]
  },
  {
   "cell_type": "code",
   "execution_count": 9,
   "id": "f9ed8fe0",
   "metadata": {
    "execution": {
     "iopub.execute_input": "2022-02-10T10:09:36.823200Z",
     "iopub.status.busy": "2022-02-10T10:09:36.822681Z",
     "iopub.status.idle": "2022-02-10T10:09:36.960348Z",
     "shell.execute_reply": "2022-02-10T10:09:36.960765Z"
    },
    "papermill": {
     "duration": 0.167233,
     "end_time": "2022-02-10T10:09:36.960902",
     "exception": false,
     "start_time": "2022-02-10T10:09:36.793669",
     "status": "completed"
    },
    "tags": []
   },
   "outputs": [
    {
     "name": "stdout",
     "output_type": "stream",
     "text": [
      "2\n"
     ]
    },
    {
     "data": {
      "text/plain": [
       "<matplotlib.image.AxesImage at 0x7f99e87e4e80>"
      ]
     },
     "execution_count": 9,
     "metadata": {},
     "output_type": "execute_result"
    },
    {
     "data": {
      "image/png": "[encoded data removed]",
      "text/plain": [
       "<Figure size 432x288 with 1 Axes>"
      ]
     },
     "metadata": {
      "needs_background": "light"
     },
     "output_type": "display_data"
    }
   ],
   "source": [
    "image_index = 7776 # You may select anything up to 60,000\n",
    "print(train_labels[image_index]) \n",
    "plt.imshow(train_images[image_index], cmap='Greys')"
   ]
  },
  {
   "cell_type": "markdown",
   "id": "a8d2388d",
   "metadata": {
    "papermill": {
     "duration": 0.027127,
     "end_time": "2022-02-10T10:09:37.014900",
     "exception": false,
     "start_time": "2022-02-10T10:09:36.987773",
     "status": "completed"
    },
    "tags": []
   },
   "source": [
    "## Filter data to get 3 and 8 out"
   ]
  },
  {
   "cell_type": "code",
   "execution_count": 10,
   "id": "776f7fc7",
   "metadata": {
    "execution": {
     "iopub.execute_input": "2022-02-10T10:09:37.083038Z",
     "iopub.status.busy": "2022-02-10T10:09:37.079625Z",
     "iopub.status.idle": "2022-02-10T10:09:37.092808Z",
     "shell.execute_reply": "2022-02-10T10:09:37.093197Z"
    },
    "papermill": {
     "duration": 0.051679,
     "end_time": "2022-02-10T10:09:37.093335",
     "exception": false,
     "start_time": "2022-02-10T10:09:37.041656",
     "status": "completed"
    },
    "tags": []
   },
   "outputs": [],
   "source": [
    "train_filter = np.where((train_labels == 3 ) | (train_labels == 8))\n",
    "test_filter = np.where((test_labels == 3) | (test_labels == 8))\n",
    "X_train, y_train = train_images[train_filter], train_labels[train_filter]\n",
    "X_test, y_test = test_images[test_filter], test_labels[test_filter]"
   ]
  },
  {
   "cell_type": "markdown",
   "id": "948f0b7e",
   "metadata": {
    "papermill": {
     "duration": 0.026544,
     "end_time": "2022-02-10T10:09:37.146718",
     "exception": false,
     "start_time": "2022-02-10T10:09:37.120174",
     "status": "completed"
    },
    "tags": []
   },
   "source": [
    "We normalize the pizel values in the 0 to 1 range"
   ]
  },
  {
   "cell_type": "code",
   "execution_count": 11,
   "id": "ee4c2166",
   "metadata": {
    "execution": {
     "iopub.execute_input": "2022-02-10T10:09:37.208435Z",
     "iopub.status.busy": "2022-02-10T10:09:37.205991Z",
     "iopub.status.idle": "2022-02-10T10:09:37.252226Z",
     "shell.execute_reply": "2022-02-10T10:09:37.251730Z"
    },
    "papermill": {
     "duration": 0.078887,
     "end_time": "2022-02-10T10:09:37.252362",
     "exception": false,
     "start_time": "2022-02-10T10:09:37.173475",
     "status": "completed"
    },
    "tags": []
   },
   "outputs": [],
   "source": [
    "X_train = X_train/255.\n",
    "X_test = X_test/255."
   ]
  },
  {
   "cell_type": "markdown",
   "id": "ddcf4fab",
   "metadata": {
    "papermill": {
     "duration": 0.026718,
     "end_time": "2022-02-10T10:09:37.306490",
     "exception": false,
     "start_time": "2022-02-10T10:09:37.279772",
     "status": "completed"
    },
    "tags": []
   },
   "source": [
    "And setup the labels as 1 (when the digit is 3) and 0 (when the digit is 8)"
   ]
  },
  {
   "cell_type": "code",
   "execution_count": 12,
   "id": "7dc908f2",
   "metadata": {
    "execution": {
     "iopub.execute_input": "2022-02-10T10:09:37.363416Z",
     "iopub.status.busy": "2022-02-10T10:09:37.362906Z",
     "iopub.status.idle": "2022-02-10T10:09:37.375537Z",
     "shell.execute_reply": "2022-02-10T10:09:37.375115Z"
    },
    "papermill": {
     "duration": 0.042419,
     "end_time": "2022-02-10T10:09:37.375653",
     "exception": false,
     "start_time": "2022-02-10T10:09:37.333234",
     "status": "completed"
    },
    "tags": []
   },
   "outputs": [],
   "source": [
    "y_train = 1*(y_train==3)\n",
    "y_test = 1*(y_test==3)"
   ]
  },
  {
   "cell_type": "code",
   "execution_count": 13,
   "id": "01e4e969",
   "metadata": {
    "execution": {
     "iopub.execute_input": "2022-02-10T10:09:37.432584Z",
     "iopub.status.busy": "2022-02-10T10:09:37.432069Z",
     "iopub.status.idle": "2022-02-10T10:09:37.446202Z",
     "shell.execute_reply": "2022-02-10T10:09:37.445691Z"
    },
    "papermill": {
     "duration": 0.043858,
     "end_time": "2022-02-10T10:09:37.446336",
     "exception": false,
     "start_time": "2022-02-10T10:09:37.402478",
     "status": "completed"
    },
    "tags": []
   },
   "outputs": [
    {
     "data": {
      "text/plain": [
       "((11982, 28, 28), (1984, 28, 28))"
      ]
     },
     "execution_count": 13,
     "metadata": {},
     "output_type": "execute_result"
    }
   ],
   "source": [
    "X_train.shape, X_test.shape"
   ]
  },
  {
   "cell_type": "markdown",
   "id": "5ccf3f85",
   "metadata": {
    "papermill": {
     "duration": 0.027047,
     "end_time": "2022-02-10T10:09:37.500289",
     "exception": false,
     "start_time": "2022-02-10T10:09:37.473242",
     "status": "completed"
    },
    "tags": []
   },
   "source": [
    "We reshape the data to flatten the image pixels into a set of features or co-variates:"
   ]
  },
  {
   "cell_type": "code",
   "execution_count": 14,
   "id": "5286a4a3",
   "metadata": {
    "execution": {
     "iopub.execute_input": "2022-02-10T10:09:37.562146Z",
     "iopub.status.busy": "2022-02-10T10:09:37.561625Z",
     "iopub.status.idle": "2022-02-10T10:09:37.572666Z",
     "shell.execute_reply": "2022-02-10T10:09:37.573103Z"
    },
    "papermill": {
     "duration": 0.045704,
     "end_time": "2022-02-10T10:09:37.573233",
     "exception": false,
     "start_time": "2022-02-10T10:09:37.527529",
     "status": "completed"
    },
    "tags": []
   },
   "outputs": [
    {
     "data": {
      "text/plain": [
       "((11982, 784), (1984, 784))"
      ]
     },
     "execution_count": 14,
     "metadata": {},
     "output_type": "execute_result"
    }
   ],
   "source": [
    "X_train = X_train.reshape(X_train.shape[0], -1)\n",
    "X_test = X_test.reshape(X_test.shape[0], -1)\n",
    "X_train.shape, X_test.shape"
   ]
  },
  {
   "cell_type": "code",
   "execution_count": 15,
   "id": "73c5f88a",
   "metadata": {
    "execution": {
     "iopub.execute_input": "2022-02-10T10:09:37.636028Z",
     "iopub.status.busy": "2022-02-10T10:09:37.635472Z",
     "iopub.status.idle": "2022-02-10T10:09:37.652398Z",
     "shell.execute_reply": "2022-02-10T10:09:37.652826Z"
    },
    "papermill": {
     "duration": 0.052385,
     "end_time": "2022-02-10T10:09:37.652967",
     "exception": false,
     "start_time": "2022-02-10T10:09:37.600582",
     "status": "completed"
    },
    "tags": []
   },
   "outputs": [],
   "source": [
    "#Impoting functions from 'Kudzu'\n",
    "from kudzu.model import Model\n",
    "from kudzu.train import Learner\n",
    "from kudzu.optim import GD\n",
    "from kudzu.data import Data, Sampler,Dataloader\n",
    "\n",
    "from kudzu.callbacks import AccCallback\n",
    "from kudzu.callbacks import ClfCallback\n",
    "\n",
    "from kudzu.loss import MSE\n",
    "\n",
    "from kudzu.layer import Sigmoid,Relu\n",
    "from kudzu.layer import Affine"
   ]
  },
  {
   "cell_type": "markdown",
   "id": "bc01172a",
   "metadata": {
    "papermill": {
     "duration": 0.027809,
     "end_time": "2022-02-10T10:09:37.708434",
     "exception": false,
     "start_time": "2022-02-10T10:09:37.680625",
     "status": "completed"
    },
    "tags": []
   },
   "source": [
    "### Let us create a `Config` class, to store important parameters. \n",
    "This class essentially plays the role of a dictionary."
   ]
  },
  {
   "cell_type": "code",
   "execution_count": 16,
   "id": "978281aa",
   "metadata": {
    "execution": {
     "iopub.execute_input": "2022-02-10T10:09:37.775581Z",
     "iopub.status.busy": "2022-02-10T10:09:37.775028Z",
     "iopub.status.idle": "2022-02-10T10:09:37.779045Z",
     "shell.execute_reply": "2022-02-10T10:09:37.779790Z"
    },
    "papermill": {
     "duration": 0.04421,
     "end_time": "2022-02-10T10:09:37.779932",
     "exception": false,
     "start_time": "2022-02-10T10:09:37.735722",
     "status": "completed"
    },
    "tags": []
   },
   "outputs": [],
   "source": [
    "class Config:\n",
    "    pass\n",
    "config = Config()\n",
    "config.lr = 0.001\n",
    "config.num_epochs = 250\n",
    "config.bs = 50"
   ]
  },
  {
   "cell_type": "markdown",
   "id": "1385fa59",
   "metadata": {
    "papermill": {
     "duration": 0.027789,
     "end_time": "2022-02-10T10:09:37.835662",
     "exception": false,
     "start_time": "2022-02-10T10:09:37.807873",
     "status": "completed"
    },
    "tags": []
   },
   "source": [
    "### Running Models with the Training data\n",
    "Details about the network layers:\n",
    "- A first affine layer has 784 inputs and does 100 affine transforms. These are followed by a Relu\n",
    "- A second affine layer has 100 inputs from the 100 activations of the past layer, and does 100 affine transforms. These are followed by a Relu\n",
    "- A third affine layer has 100 activations and does 2 affine transformations to create an embedding for visualization. There is no non-linearity here.\n",
    "- A final \"logistic regression\" which has an affine transform from 2 inputs to 1 output, which is squeezed through a sigmoid.\n"
   ]
  },
  {
   "cell_type": "code",
   "execution_count": 17,
   "id": "2b9c66db",
   "metadata": {
    "execution": {
     "iopub.execute_input": "2022-02-10T10:09:37.902229Z",
     "iopub.status.busy": "2022-02-10T10:09:37.901690Z",
     "iopub.status.idle": "2022-02-10T10:09:37.908920Z",
     "shell.execute_reply": "2022-02-10T10:09:37.909339Z"
    },
    "papermill": {
     "duration": 0.046385,
     "end_time": "2022-02-10T10:09:37.909475",
     "exception": false,
     "start_time": "2022-02-10T10:09:37.863090",
     "status": "completed"
    },
    "tags": []
   },
   "outputs": [],
   "source": [
    "data = Data(X_train, y_train.reshape(-1,1))\n",
    "sampler = Sampler(data, config.bs, shuffle=True)\n",
    "\n",
    "dl = Dataloader(data, sampler)\n",
    "\n",
    "opt = GD(config.lr)\n",
    "loss = MSE()"
   ]
  },
  {
   "cell_type": "code",
   "execution_count": 18,
   "id": "b275e4c2",
   "metadata": {
    "execution": {
     "iopub.execute_input": "2022-02-10T10:09:37.972624Z",
     "iopub.status.busy": "2022-02-10T10:09:37.972094Z",
     "iopub.status.idle": "2022-02-10T10:09:37.982931Z",
     "shell.execute_reply": "2022-02-10T10:09:37.982503Z"
    },
    "papermill": {
     "duration": 0.046113,
     "end_time": "2022-02-10T10:09:37.983049",
     "exception": false,
     "start_time": "2022-02-10T10:09:37.936936",
     "status": "completed"
    },
    "tags": []
   },
   "outputs": [],
   "source": [
    "training_data_x = X_train\n",
    "testing_data_x = X_test\n",
    "training_data_y = y_train.reshape(-1,1)\n",
    "testing_data_y = y_test.reshape(-1,1)"
   ]
  },
  {
   "cell_type": "code",
   "execution_count": 19,
   "id": "76951160",
   "metadata": {
    "execution": {
     "iopub.execute_input": "2022-02-10T10:09:38.045039Z",
     "iopub.status.busy": "2022-02-10T10:09:38.044500Z",
     "iopub.status.idle": "2022-02-10T10:09:38.059822Z",
     "shell.execute_reply": "2022-02-10T10:09:38.059372Z"
    },
    "papermill": {
     "duration": 0.049533,
     "end_time": "2022-02-10T10:09:38.059937",
     "exception": false,
     "start_time": "2022-02-10T10:09:38.010404",
     "status": "completed"
    },
    "tags": []
   },
   "outputs": [
    {
     "name": "stdout",
     "output_type": "stream",
     "text": [
      "xavier\n",
      "xavier\n",
      "xavier\n",
      "xavier\n",
      "xavier\n"
     ]
    }
   ],
   "source": [
    "layers = [Affine(\"first\", 784, 100), Relu(\"first\"), Affine(\"second\", 100, 100), Relu(\"second\"), Affine(\"third\", 100, 2), Affine(\"last\", 2, 1), Sigmoid(\"last\")]\n",
    "model_nn = Model(layers)\n",
    "model_lr = Model([Affine(\"logits\", 784, 1), Sigmoid(\"sigmoid\")])"
   ]
  },
  {
   "cell_type": "code",
   "execution_count": 20,
   "id": "6eede77a",
   "metadata": {
    "execution": {
     "iopub.execute_input": "2022-02-10T10:09:38.119952Z",
     "iopub.status.busy": "2022-02-10T10:09:38.119429Z",
     "iopub.status.idle": "2022-02-10T10:09:38.132084Z",
     "shell.execute_reply": "2022-02-10T10:09:38.131634Z"
    },
    "papermill": {
     "duration": 0.044329,
     "end_time": "2022-02-10T10:09:38.132199",
     "exception": false,
     "start_time": "2022-02-10T10:09:38.087870",
     "status": "completed"
    },
    "tags": []
   },
   "outputs": [],
   "source": [
    "nn_learner = Learner(loss, model_nn, opt, config.num_epochs)\n",
    "acc_nn = ClfCallback(nn_learner, config.bs, training_data_x , testing_data_x, training_data_y, testing_data_y)\n",
    "nn_learner.set_callbacks([acc_nn])"
   ]
  },
  {
   "cell_type": "code",
   "execution_count": 21,
   "id": "877b6cc7",
   "metadata": {
    "execution": {
     "iopub.execute_input": "2022-02-10T10:09:38.199291Z",
     "iopub.status.busy": "2022-02-10T10:09:38.197017Z",
     "iopub.status.idle": "2022-02-10T10:09:38.205448Z",
     "shell.execute_reply": "2022-02-10T10:09:38.205834Z"
    },
    "papermill": {
     "duration": 0.046084,
     "end_time": "2022-02-10T10:09:38.205970",
     "exception": false,
     "start_time": "2022-02-10T10:09:38.159886",
     "status": "completed"
    },
    "tags": []
   },
   "outputs": [],
   "source": [
    "lr_learner = Learner(loss, model_lr, opt, config.num_epochs)\n",
    "acc_lr = ClfCallback(lr_learner, config.bs, training_data_x , testing_data_x, training_data_y, testing_data_y)\n",
    "lr_learner.set_callbacks([acc_lr])"
   ]
  },
  {
   "cell_type": "code",
   "execution_count": 22,
   "id": "d9b133c3",
   "metadata": {
    "execution": {
     "iopub.execute_input": "2022-02-10T10:09:38.275735Z",
     "iopub.status.busy": "2022-02-10T10:09:38.264715Z",
     "iopub.status.idle": "2022-02-10T10:10:55.021297Z",
     "shell.execute_reply": "2022-02-10T10:10:55.022076Z"
    },
    "papermill": {
     "duration": 76.788597,
     "end_time": "2022-02-10T10:10:55.022230",
     "exception": false,
     "start_time": "2022-02-10T10:09:38.233633",
     "status": "completed"
    },
    "tags": []
   },
   "outputs": [
    {
     "name": "stdout",
     "output_type": "stream",
     "text": [
      "Epoch 0, Loss 0.2503\n",
      "Training Accuracy: 0.4891, Testing Accuracy: 0.4929\n",
      "\n"
     ]
    },
    {
     "name": "stdout",
     "output_type": "stream",
     "text": [
      "Epoch 10, Loss 0.2342\n",
      "Training Accuracy: 0.7644, Testing Accuracy: 0.7782\n",
      "\n"
     ]
    },
    {
     "name": "stdout",
     "output_type": "stream",
     "text": [
      "Epoch 20, Loss 0.1704\n",
      "Training Accuracy: 0.8814, Testing Accuracy: 0.8962\n",
      "\n"
     ]
    },
    {
     "name": "stdout",
     "output_type": "stream",
     "text": [
      "Epoch 30, Loss 0.0862\n",
      "Training Accuracy: 0.9140, Testing Accuracy: 0.9264\n",
      "\n"
     ]
    },
    {
     "name": "stdout",
     "output_type": "stream",
     "text": [
      "Epoch 40, Loss 0.0585\n",
      "Training Accuracy: 0.9364, Testing Accuracy: 0.9506\n",
      "\n"
     ]
    },
    {
     "name": "stdout",
     "output_type": "stream",
     "text": [
      "Epoch 50, Loss 0.047\n",
      "Training Accuracy: 0.9467, Testing Accuracy: 0.9607\n",
      "\n"
     ]
    },
    {
     "name": "stdout",
     "output_type": "stream",
     "text": [
      "Epoch 60, Loss 0.0408\n",
      "Training Accuracy: 0.9522, Testing Accuracy: 0.9657\n",
      "\n"
     ]
    },
    {
     "name": "stdout",
     "output_type": "stream",
     "text": [
      "Epoch 70, Loss 0.037\n",
      "Training Accuracy: 0.9561, Testing Accuracy: 0.9677\n",
      "\n"
     ]
    },
    {
     "name": "stdout",
     "output_type": "stream",
     "text": [
      "Epoch 80, Loss 0.0343\n",
      "Training Accuracy: 0.9584, Testing Accuracy: 0.9682\n",
      "\n"
     ]
    },
    {
     "name": "stdout",
     "output_type": "stream",
     "text": [
      "Epoch 90, Loss 0.0323\n",
      "Training Accuracy: 0.9611, Testing Accuracy: 0.9693\n",
      "\n"
     ]
    },
    {
     "name": "stdout",
     "output_type": "stream",
     "text": [
      "Epoch 100, Loss 0.0307\n",
      "Training Accuracy: 0.9630, Testing Accuracy: 0.9693\n",
      "\n"
     ]
    },
    {
     "name": "stdout",
     "output_type": "stream",
     "text": [
      "Epoch 110, Loss 0.0295\n",
      "Training Accuracy: 0.9648, Testing Accuracy: 0.9688\n",
      "\n"
     ]
    },
    {
     "name": "stdout",
     "output_type": "stream",
     "text": [
      "Epoch 120, Loss 0.0284\n",
      "Training Accuracy: 0.9662, Testing Accuracy: 0.9693\n",
      "\n"
     ]
    },
    {
     "name": "stdout",
     "output_type": "stream",
     "text": [
      "Epoch 130, Loss 0.0275\n",
      "Training Accuracy: 0.9670, Testing Accuracy: 0.9703\n",
      "\n"
     ]
    },
    {
     "name": "stdout",
     "output_type": "stream",
     "text": [
      "Epoch 140, Loss 0.0266\n",
      "Training Accuracy: 0.9681, Testing Accuracy: 0.9708\n",
      "\n"
     ]
    },
    {
     "name": "stdout",
     "output_type": "stream",
     "text": [
      "Epoch 150, Loss 0.0259\n",
      "Training Accuracy: 0.9693, Testing Accuracy: 0.9708\n",
      "\n"
     ]
    },
    {
     "name": "stdout",
     "output_type": "stream",
     "text": [
      "Epoch 160, Loss 0.0253\n",
      "Training Accuracy: 0.9702, Testing Accuracy: 0.9713\n",
      "\n"
     ]
    },
    {
     "name": "stdout",
     "output_type": "stream",
     "text": [
      "Epoch 170, Loss 0.0247\n",
      "Training Accuracy: 0.9709, Testing Accuracy: 0.9713\n",
      "\n"
     ]
    },
    {
     "name": "stdout",
     "output_type": "stream",
     "text": [
      "Epoch 180, Loss 0.0241\n",
      "Training Accuracy: 0.9714, Testing Accuracy: 0.9718\n",
      "\n"
     ]
    },
    {
     "name": "stdout",
     "output_type": "stream",
     "text": [
      "Epoch 190, Loss 0.0236\n",
      "Training Accuracy: 0.9721, Testing Accuracy: 0.9733\n",
      "\n"
     ]
    },
    {
     "name": "stdout",
     "output_type": "stream",
     "text": [
      "Epoch 200, Loss 0.0232\n",
      "Training Accuracy: 0.9724, Testing Accuracy: 0.9728\n",
      "\n"
     ]
    },
    {
     "name": "stdout",
     "output_type": "stream",
     "text": [
      "Epoch 210, Loss 0.0227\n",
      "Training Accuracy: 0.9732, Testing Accuracy: 0.9728\n",
      "\n"
     ]
    },
    {
     "name": "stdout",
     "output_type": "stream",
     "text": [
      "Epoch 220, Loss 0.0223\n",
      "Training Accuracy: 0.9737, Testing Accuracy: 0.9728\n",
      "\n"
     ]
    },
    {
     "name": "stdout",
     "output_type": "stream",
     "text": [
      "Epoch 230, Loss 0.0219\n",
      "Training Accuracy: 0.9740, Testing Accuracy: 0.9728\n",
      "\n"
     ]
    },
    {
     "name": "stdout",
     "output_type": "stream",
     "text": [
      "Epoch 240, Loss 0.0215\n",
      "Training Accuracy: 0.9745, Testing Accuracy: 0.9723\n",
      "\n"
     ]
    },
    {
     "data": {
      "text/plain": [
       "0.036830860906766474"
      ]
     },
     "execution_count": 22,
     "metadata": {},
     "output_type": "execute_result"
    }
   ],
   "source": [
    "nn_learner.train_loop(dl)"
   ]
  },
  {
   "cell_type": "code",
   "execution_count": 23,
   "id": "e0163366",
   "metadata": {
    "execution": {
     "iopub.execute_input": "2022-02-10T10:10:55.103938Z",
     "iopub.status.busy": "2022-02-10T10:10:55.103224Z",
     "iopub.status.idle": "2022-02-10T10:11:09.222954Z",
     "shell.execute_reply": "2022-02-10T10:11:09.223725Z"
    },
    "papermill": {
     "duration": 14.166576,
     "end_time": "2022-02-10T10:11:09.223874",
     "exception": false,
     "start_time": "2022-02-10T10:10:55.057298",
     "status": "completed"
    },
    "tags": []
   },
   "outputs": [
    {
     "name": "stdout",
     "output_type": "stream",
     "text": [
      "Epoch 0, Loss 0.2514\n",
      "Training Accuracy: 0.6501, Testing Accuracy: 0.6512\n",
      "\n"
     ]
    },
    {
     "name": "stdout",
     "output_type": "stream",
     "text": [
      "Epoch 10, Loss 0.1043\n",
      "Training Accuracy: 0.9099, Testing Accuracy: 0.9224\n",
      "\n"
     ]
    },
    {
     "name": "stdout",
     "output_type": "stream",
     "text": [
      "Epoch 20, Loss 0.0803\n",
      "Training Accuracy: 0.9269, Testing Accuracy: 0.9425\n",
      "\n"
     ]
    },
    {
     "name": "stdout",
     "output_type": "stream",
     "text": [
      "Epoch 30, Loss 0.0692\n",
      "Training Accuracy: 0.9342, Testing Accuracy: 0.9466\n",
      "\n"
     ]
    },
    {
     "name": "stdout",
     "output_type": "stream",
     "text": [
      "Epoch 40, Loss 0.0625\n",
      "Training Accuracy: 0.9398, Testing Accuracy: 0.9516\n",
      "\n"
     ]
    },
    {
     "name": "stdout",
     "output_type": "stream",
     "text": [
      "Epoch 50, Loss 0.0579\n",
      "Training Accuracy: 0.9430, Testing Accuracy: 0.9556\n",
      "\n"
     ]
    },
    {
     "name": "stdout",
     "output_type": "stream",
     "text": [
      "Epoch 60, Loss 0.0545\n",
      "Training Accuracy: 0.9468, Testing Accuracy: 0.9582\n",
      "\n"
     ]
    },
    {
     "name": "stdout",
     "output_type": "stream",
     "text": [
      "Epoch 70, Loss 0.0519\n",
      "Training Accuracy: 0.9487, Testing Accuracy: 0.9607\n",
      "\n"
     ]
    },
    {
     "name": "stdout",
     "output_type": "stream",
     "text": [
      "Epoch 80, Loss 0.0497\n",
      "Training Accuracy: 0.9500, Testing Accuracy: 0.9622\n",
      "\n"
     ]
    },
    {
     "name": "stdout",
     "output_type": "stream",
     "text": [
      "Epoch 90, Loss 0.048\n",
      "Training Accuracy: 0.9505, Testing Accuracy: 0.9627\n",
      "\n"
     ]
    },
    {
     "name": "stdout",
     "output_type": "stream",
     "text": [
      "Epoch 100, Loss 0.0465\n",
      "Training Accuracy: 0.9514, Testing Accuracy: 0.9632\n",
      "\n"
     ]
    },
    {
     "name": "stdout",
     "output_type": "stream",
     "text": [
      "Epoch 110, Loss 0.0453\n",
      "Training Accuracy: 0.9524, Testing Accuracy: 0.9657\n",
      "\n"
     ]
    },
    {
     "name": "stdout",
     "output_type": "stream",
     "text": [
      "Epoch 120, Loss 0.0442\n",
      "Training Accuracy: 0.9532, Testing Accuracy: 0.9652\n",
      "\n"
     ]
    },
    {
     "name": "stdout",
     "output_type": "stream",
     "text": [
      "Epoch 130, Loss 0.0432\n",
      "Training Accuracy: 0.9541, Testing Accuracy: 0.9652\n",
      "\n"
     ]
    },
    {
     "name": "stdout",
     "output_type": "stream",
     "text": [
      "Epoch 140, Loss 0.0424\n",
      "Training Accuracy: 0.9543, Testing Accuracy: 0.9652\n",
      "\n"
     ]
    },
    {
     "name": "stdout",
     "output_type": "stream",
     "text": [
      "Epoch 150, Loss 0.0416\n",
      "Training Accuracy: 0.9548, Testing Accuracy: 0.9657\n",
      "\n"
     ]
    },
    {
     "name": "stdout",
     "output_type": "stream",
     "text": [
      "Epoch 160, Loss 0.0409\n",
      "Training Accuracy: 0.9558, Testing Accuracy: 0.9662\n",
      "\n"
     ]
    },
    {
     "name": "stdout",
     "output_type": "stream",
     "text": [
      "Epoch 170, Loss 0.0403\n",
      "Training Accuracy: 0.9562, Testing Accuracy: 0.9657\n",
      "\n"
     ]
    },
    {
     "name": "stdout",
     "output_type": "stream",
     "text": [
      "Epoch 180, Loss 0.0397\n",
      "Training Accuracy: 0.9569, Testing Accuracy: 0.9657\n",
      "\n"
     ]
    },
    {
     "name": "stdout",
     "output_type": "stream",
     "text": [
      "Epoch 190, Loss 0.0392\n",
      "Training Accuracy: 0.9572, Testing Accuracy: 0.9672\n",
      "\n"
     ]
    },
    {
     "name": "stdout",
     "output_type": "stream",
     "text": [
      "Epoch 200, Loss 0.0387\n",
      "Training Accuracy: 0.9574, Testing Accuracy: 0.9677\n",
      "\n"
     ]
    },
    {
     "name": "stdout",
     "output_type": "stream",
     "text": [
      "Epoch 210, Loss 0.0382\n",
      "Training Accuracy: 0.9582, Testing Accuracy: 0.9677\n",
      "\n"
     ]
    },
    {
     "name": "stdout",
     "output_type": "stream",
     "text": [
      "Epoch 220, Loss 0.0378\n",
      "Training Accuracy: 0.9589, Testing Accuracy: 0.9682\n",
      "\n"
     ]
    },
    {
     "name": "stdout",
     "output_type": "stream",
     "text": [
      "Epoch 230, Loss 0.0374\n",
      "Training Accuracy: 0.9591, Testing Accuracy: 0.9682\n",
      "\n"
     ]
    },
    {
     "name": "stdout",
     "output_type": "stream",
     "text": [
      "Epoch 240, Loss 0.0371\n",
      "Training Accuracy: 0.9594, Testing Accuracy: 0.9688\n",
      "\n"
     ]
    },
    {
     "data": {
      "text/plain": [
       "0.027546771880214243"
      ]
     },
     "execution_count": 23,
     "metadata": {},
     "output_type": "execute_result"
    }
   ],
   "source": [
    "lr_learner.train_loop(dl)"
   ]
  },
  {
   "cell_type": "code",
   "execution_count": 24,
   "id": "ca410940",
   "metadata": {
    "execution": {
     "iopub.execute_input": "2022-02-10T10:11:09.316246Z",
     "iopub.status.busy": "2022-02-10T10:11:09.315693Z",
     "iopub.status.idle": "2022-02-10T10:11:09.540071Z",
     "shell.execute_reply": "2022-02-10T10:11:09.540481Z"
    },
    "papermill": {
     "duration": 0.27419,
     "end_time": "2022-02-10T10:11:09.540625",
     "exception": false,
     "start_time": "2022-02-10T10:11:09.266435",
     "status": "completed"
    },
    "tags": []
   },
   "outputs": [
    {
     "data": {
      "text/plain": [
       "<matplotlib.legend.Legend at 0x7f99e83d1630>"
      ]
     },
     "execution_count": 24,
     "metadata": {},
     "output_type": "execute_result"
    },
    {
     "data": {
      "image/png": "[encoded data removed]",
      "text/plain": [
       "<Figure size 1080x720 with 1 Axes>"
      ]
     },
     "metadata": {
      "needs_background": "light"
     },
     "output_type": "display_data"
    }
   ],
   "source": [
    "#comparing the results of NN and LR\n",
    "plt.figure(figsize=(15,10))\n",
    "\n",
    "# Neural Network plots\n",
    "plt.plot(acc_nn.accuracies, 'r-', label = \"Training Accuracies - NN\")\n",
    "plt.plot(acc_nn.test_accuracies, 'g-', label = \"Testing Accuracies - NN\")\n",
    "\n",
    "# Logistic Regression plots\n",
    "plt.plot(acc_lr.accuracies, 'k-', label = \"Training Accuracies - LR\")\n",
    "plt.plot(acc_lr.test_accuracies, 'b-', label = \"Testing Accuracies - LR\")\n",
    "plt.legend()"
   ]
  },
  {
   "cell_type": "markdown",
   "id": "80dfb35c",
   "metadata": {
    "papermill": {
     "duration": 0.043651,
     "end_time": "2022-02-10T10:11:09.627426",
     "exception": false,
     "start_time": "2022-02-10T10:11:09.583775",
     "status": "completed"
    },
    "tags": []
   },
   "source": [
    "#### Plotting the outputs of this layer of the NN.\n"
   ]
  },
  {
   "cell_type": "code",
   "execution_count": 25,
   "id": "45eb2ff5",
   "metadata": {
    "execution": {
     "iopub.execute_input": "2022-02-10T10:11:09.717923Z",
     "iopub.status.busy": "2022-02-10T10:11:09.717114Z",
     "iopub.status.idle": "2022-02-10T10:11:09.736721Z",
     "shell.execute_reply": "2022-02-10T10:11:09.737125Z"
    },
    "papermill": {
     "duration": 0.067258,
     "end_time": "2022-02-10T10:11:09.737270",
     "exception": false,
     "start_time": "2022-02-10T10:11:09.670012",
     "status": "completed"
    },
    "tags": []
   },
   "outputs": [],
   "source": [
    "new_model = Model(layers[:-2])\n",
    "testing_plot = new_model(testing_data_x)"
   ]
  },
  {
   "cell_type": "code",
   "execution_count": 26,
   "id": "4c0a5485",
   "metadata": {
    "execution": {
     "iopub.execute_input": "2022-02-10T10:11:09.831186Z",
     "iopub.status.busy": "2022-02-10T10:11:09.830648Z",
     "iopub.status.idle": "2022-02-10T10:11:10.064962Z",
     "shell.execute_reply": "2022-02-10T10:11:10.065383Z"
    },
    "papermill": {
     "duration": 0.284144,
     "end_time": "2022-02-10T10:11:10.065524",
     "exception": false,
     "start_time": "2022-02-10T10:11:09.781380",
     "status": "completed"
    },
    "tags": []
   },
   "outputs": [
    {
     "data": {
      "text/plain": [
       "Text(0.5, 1.0, 'Outputs')"
      ]
     },
     "execution_count": 26,
     "metadata": {},
     "output_type": "execute_result"
    },
    {
     "data": {
      "image/png": "[encoded data removed]",
      "text/plain": [
       "<Figure size 576x504 with 1 Axes>"
      ]
     },
     "metadata": {
      "needs_background": "light"
     },
     "output_type": "display_data"
    }
   ],
   "source": [
    "# Plotting the scatter plot of points and color coding by class\n",
    "plt.figure(figsize=(8,7))\n",
    "plt.scatter(testing_plot[:,0], testing_plot[:,1], alpha = 0.1, c = y_test.ravel());\n",
    "plt.title('Outputs')"
   ]
  },
  {
   "cell_type": "markdown",
   "id": "a74fcf8f",
   "metadata": {
    "papermill": {
     "duration": 0.046181,
     "end_time": "2022-02-10T10:11:10.158069",
     "exception": false,
     "start_time": "2022-02-10T10:11:10.111888",
     "status": "completed"
    },
    "tags": []
   },
   "source": [
    "Probability contours"
   ]
  },
  {
   "cell_type": "code",
   "execution_count": 27,
   "id": "d0afc8e3",
   "metadata": {
    "execution": {
     "iopub.execute_input": "2022-02-10T10:11:10.261726Z",
     "iopub.status.busy": "2022-02-10T10:11:10.257969Z",
     "iopub.status.idle": "2022-02-10T10:11:10.269454Z",
     "shell.execute_reply": "2022-02-10T10:11:10.269025Z"
    },
    "papermill": {
     "duration": 0.065114,
     "end_time": "2022-02-10T10:11:10.269574",
     "exception": false,
     "start_time": "2022-02-10T10:11:10.204460",
     "status": "completed"
    },
    "tags": []
   },
   "outputs": [],
   "source": [
    "model_prob = Model(layers[-2:]) "
   ]
  },
  {
   "cell_type": "code",
   "execution_count": 28,
   "id": "9b96e238",
   "metadata": {
    "execution": {
     "iopub.execute_input": "2022-02-10T10:11:10.397368Z",
     "iopub.status.busy": "2022-02-10T10:11:10.396838Z",
     "iopub.status.idle": "2022-02-10T10:11:10.410942Z",
     "shell.execute_reply": "2022-02-10T10:11:10.411333Z"
    },
    "papermill": {
     "duration": 0.065484,
     "end_time": "2022-02-10T10:11:10.411476",
     "exception": false,
     "start_time": "2022-02-10T10:11:10.345992",
     "status": "completed"
    },
    "tags": []
   },
   "outputs": [],
   "source": [
    "#creating the x and y ranges according to the above generated plot.\n",
    "x_range = np.linspace(-4, 1, 100) \n",
    "y_range = np.linspace(-6, 6, 100) \n",
    "x_grid, y_grid = np.meshgrid(x_range, y_range) # x_grid and y_grig are of size 100 X 100\n",
    "\n",
    "# converting x_grid and y_grid to continuous arrays\n",
    "x_gridflat = np.ravel(x_grid)\n",
    "y_gridflat = np.ravel(y_grid)\n",
    "\n",
    "# The last layer of the current model takes two columns as input. Hence transpose of np.vstack() is required.\n",
    "X = np.vstack((x_gridflat, y_gridflat)).T\n",
    "\n",
    "prob_contour = model_prob(X).reshape(100,100) "
   ]
  },
  {
   "cell_type": "code",
   "execution_count": 29,
   "id": "da72499a",
   "metadata": {
    "execution": {
     "iopub.execute_input": "2022-02-10T10:11:10.515295Z",
     "iopub.status.busy": "2022-02-10T10:11:10.514768Z",
     "iopub.status.idle": "2022-02-10T10:11:10.760521Z",
     "shell.execute_reply": "2022-02-10T10:11:10.760914Z"
    },
    "papermill": {
     "duration": 0.302754,
     "end_time": "2022-02-10T10:11:10.761059",
     "exception": false,
     "start_time": "2022-02-10T10:11:10.458305",
     "status": "completed"
    },
    "tags": []
   },
   "outputs": [
    {
     "data": {
      "image/png": "[encoded data removed]",
      "text/plain": [
       "<Figure size 720x648 with 1 Axes>"
      ]
     },
     "metadata": {
      "needs_background": "light"
     },
     "output_type": "display_data"
    }
   ],
   "source": [
    "plt.figure(figsize=(10,9))\n",
    "plt.scatter(testing_plot[:,0], testing_plot[:,1], alpha = 0.1, c = y_test.ravel())\n",
    "contours = plt.contour(x_grid,y_grid,prob_contour)\n",
    "plt.title('Probability Contours')\n",
    "plt.clabel(contours, inline = True );"
   ]
  },
  {
   "cell_type": "code",
   "execution_count": null,
   "id": "e81b4ac7",
   "metadata": {
    "papermill": {
     "duration": 0.049252,
     "end_time": "2022-02-10T10:11:10.859291",
     "exception": false,
     "start_time": "2022-02-10T10:11:10.810039",
     "status": "completed"
    },
    "tags": []
   },
   "outputs": [],
   "source": []
  }
 ],
 "metadata": {
  "kernelspec": {
   "display_name": "Python 3",
   "language": "python",
   "name": "python3"
  },
  "language_info": {
   "codemirror_mode": {
    "name": "ipython",
    "version": 3
   },
   "file_extension": ".py",
   "mimetype": "text/x-python",
   "name": "python",
   "nbconvert_exporter": "python",
   "pygments_lexer": "ipython3",
   "version": "3.6.15"
  },
  "papermill": {
   "default_parameters": {},
   "duration": 99.064179,
   "end_time": "2022-02-10T10:11:11.326987",
   "environment_variables": {},
   "exception": null,
   "input_path": "2020-08-11-part2.ipynb",
   "output_path": "2020-08-11-part2.ipynb",
   "parameters": {},
   "start_time": "2022-02-10T10:09:32.262808",
   "version": "2.3.3"
  }
 },
 "nbformat": 4,
 "nbformat_minor": 5
}