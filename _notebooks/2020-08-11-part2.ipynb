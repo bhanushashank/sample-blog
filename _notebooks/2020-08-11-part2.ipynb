{
 "cells": [
  {
   "cell_type": "markdown",
   "id": "98380cd3",
   "metadata": {
    "papermill": {
     "duration": 0.029042,
     "end_time": "2022-04-13T20:10:09.292644",
     "exception": false,
     "start_time": "2022-04-13T20:10:09.263602",
     "status": "completed"
    },
    "tags": []
   },
   "source": [
    "# Distinguish Your Own Digits (DYOD)"
   ]
  },
  {
   "cell_type": "markdown",
   "id": "ef31240d",
   "metadata": {
    "papermill": {
     "duration": 0.026267,
     "end_time": "2022-04-13T20:10:09.344416",
     "exception": false,
     "start_time": "2022-04-13T20:10:09.318149",
     "status": "completed"
    },
    "tags": []
   },
   "source": [
    "You are going to write a classifier that distinguishes between the number 3 and number 8."
   ]
  },
  {
   "cell_type": "code",
   "execution_count": 1,
   "id": "b15c8646",
   "metadata": {
    "execution": {
     "iopub.execute_input": "2022-04-13T20:10:09.404239Z",
     "iopub.status.busy": "2022-04-13T20:10:09.403696Z",
     "iopub.status.idle": "2022-04-13T20:10:09.413701Z",
     "shell.execute_reply": "2022-04-13T20:10:09.414115Z"
    },
    "papermill": {
     "duration": 0.044985,
     "end_time": "2022-04-13T20:10:09.414253",
     "exception": false,
     "start_time": "2022-04-13T20:10:09.369268",
     "status": "completed"
    },
    "tags": []
   },
   "outputs": [],
   "source": [
    "%load_ext autoreload\n",
    "%autoreload 2"
   ]
  },
  {
   "cell_type": "code",
   "execution_count": 2,
   "id": "22ef38dc",
   "metadata": {
    "execution": {
     "iopub.execute_input": "2022-04-13T20:10:09.468040Z",
     "iopub.status.busy": "2022-04-13T20:10:09.467546Z",
     "iopub.status.idle": "2022-04-13T20:10:09.977899Z",
     "shell.execute_reply": "2022-04-13T20:10:09.978315Z"
    },
    "papermill": {
     "duration": 0.539238,
     "end_time": "2022-04-13T20:10:09.978455",
     "exception": false,
     "start_time": "2022-04-13T20:10:09.439217",
     "status": "completed"
    },
    "tags": []
   },
   "outputs": [],
   "source": [
    "%matplotlib inline\n",
    "import numpy as np\n",
    "import matplotlib.pyplot as plt\n",
    "import pandas as pd"
   ]
  },
  {
   "cell_type": "markdown",
   "id": "ba036198",
   "metadata": {
    "papermill": {
     "duration": 0.024905,
     "end_time": "2022-04-13T20:10:10.028343",
     "exception": false,
     "start_time": "2022-04-13T20:10:10.003438",
     "status": "completed"
    },
    "tags": []
   },
   "source": [
    "From the command line run `pip install mnist`. This is a library that will help you bring down the mnist dataset. If you run this from a notebook, you need to put  `!pip install mnist` in a cell by itself."
   ]
  },
  {
   "cell_type": "code",
   "execution_count": 3,
   "id": "bb6ad8a1",
   "metadata": {
    "execution": {
     "iopub.execute_input": "2022-04-13T20:10:10.082510Z",
     "iopub.status.busy": "2022-04-13T20:10:10.082016Z",
     "iopub.status.idle": "2022-04-13T20:10:11.715785Z",
     "shell.execute_reply": "2022-04-13T20:10:11.716238Z"
    },
    "papermill": {
     "duration": 1.663108,
     "end_time": "2022-04-13T20:10:11.716372",
     "exception": false,
     "start_time": "2022-04-13T20:10:10.053264",
     "status": "completed"
    },
    "tags": []
   },
   "outputs": [
    {
     "name": "stdout",
     "output_type": "stream",
     "text": [
      "Collecting mnist\r\n"
     ]
    },
    {
     "name": "stdout",
     "output_type": "stream",
     "text": [
      "  Downloading mnist-0.2.2-py2.py3-none-any.whl (3.5 kB)\r\n",
      "Requirement already satisfied: numpy in /opt/hostedtoolcache/Python/3.6.15/x64/lib/python3.6/site-packages (from mnist) (1.19.5)\r\n"
     ]
    },
    {
     "name": "stdout",
     "output_type": "stream",
     "text": [
      "Installing collected packages: mnist\r\n"
     ]
    },
    {
     "name": "stdout",
     "output_type": "stream",
     "text": [
      "Successfully installed mnist-0.2.2\r\n"
     ]
    }
   ],
   "source": [
    "!pip install mnist"
   ]
  },
  {
   "cell_type": "markdown",
   "id": "69df9c9a",
   "metadata": {
    "papermill": {
     "duration": 0.026377,
     "end_time": "2022-04-13T20:10:11.768957",
     "exception": false,
     "start_time": "2022-04-13T20:10:11.742580",
     "status": "completed"
    },
    "tags": []
   },
   "source": [
    "## Preparing the Data"
   ]
  },
  {
   "cell_type": "code",
   "execution_count": 4,
   "id": "7f69d806",
   "metadata": {
    "execution": {
     "iopub.execute_input": "2022-04-13T20:10:11.858360Z",
     "iopub.status.busy": "2022-04-13T20:10:11.857832Z",
     "iopub.status.idle": "2022-04-13T20:10:11.861820Z",
     "shell.execute_reply": "2022-04-13T20:10:11.862206Z"
    },
    "papermill": {
     "duration": 0.063119,
     "end_time": "2022-04-13T20:10:11.862329",
     "exception": false,
     "start_time": "2022-04-13T20:10:11.799210",
     "status": "completed"
    },
    "tags": []
   },
   "outputs": [],
   "source": [
    "import mnist"
   ]
  },
  {
   "cell_type": "code",
   "execution_count": 5,
   "id": "a411e44f",
   "metadata": {
    "execution": {
     "iopub.execute_input": "2022-04-13T20:10:11.918205Z",
     "iopub.status.busy": "2022-04-13T20:10:11.917687Z",
     "iopub.status.idle": "2022-04-13T20:10:12.387056Z",
     "shell.execute_reply": "2022-04-13T20:10:12.386092Z"
    },
    "papermill": {
     "duration": 0.498647,
     "end_time": "2022-04-13T20:10:12.387179",
     "exception": false,
     "start_time": "2022-04-13T20:10:11.888532",
     "status": "completed"
    },
    "tags": []
   },
   "outputs": [],
   "source": [
    "train_images = mnist.train_images()\n",
    "train_labels = mnist.train_labels()"
   ]
  },
  {
   "cell_type": "code",
   "execution_count": 6,
   "id": "dceab3a5",
   "metadata": {
    "execution": {
     "iopub.execute_input": "2022-04-13T20:10:12.442611Z",
     "iopub.status.busy": "2022-04-13T20:10:12.442093Z",
     "iopub.status.idle": "2022-04-13T20:10:12.455614Z",
     "shell.execute_reply": "2022-04-13T20:10:12.455196Z"
    },
    "papermill": {
     "duration": 0.04231,
     "end_time": "2022-04-13T20:10:12.455714",
     "exception": false,
     "start_time": "2022-04-13T20:10:12.413404",
     "status": "completed"
    },
    "tags": []
   },
   "outputs": [
    {
     "data": {
      "text/plain": [
       "((60000, 28, 28), (60000,))"
      ]
     },
     "execution_count": 6,
     "metadata": {},
     "output_type": "execute_result"
    }
   ],
   "source": [
    "train_images.shape, train_labels.shape"
   ]
  },
  {
   "cell_type": "code",
   "execution_count": 7,
   "id": "f50dc2bb",
   "metadata": {
    "execution": {
     "iopub.execute_input": "2022-04-13T20:10:12.515370Z",
     "iopub.status.busy": "2022-04-13T20:10:12.514877Z",
     "iopub.status.idle": "2022-04-13T20:10:12.642434Z",
     "shell.execute_reply": "2022-04-13T20:10:12.641971Z"
    },
    "papermill": {
     "duration": 0.160647,
     "end_time": "2022-04-13T20:10:12.642548",
     "exception": false,
     "start_time": "2022-04-13T20:10:12.481901",
     "status": "completed"
    },
    "tags": []
   },
   "outputs": [],
   "source": [
    "test_images = mnist.test_images()\n",
    "test_labels = mnist.test_labels()"
   ]
  },
  {
   "cell_type": "code",
   "execution_count": 8,
   "id": "fc38cf1b",
   "metadata": {
    "execution": {
     "iopub.execute_input": "2022-04-13T20:10:12.699194Z",
     "iopub.status.busy": "2022-04-13T20:10:12.698672Z",
     "iopub.status.idle": "2022-04-13T20:10:12.710362Z",
     "shell.execute_reply": "2022-04-13T20:10:12.710829Z"
    },
    "papermill": {
     "duration": 0.041755,
     "end_time": "2022-04-13T20:10:12.710946",
     "exception": false,
     "start_time": "2022-04-13T20:10:12.669191",
     "status": "completed"
    },
    "tags": []
   },
   "outputs": [
    {
     "data": {
      "text/plain": [
       "((10000, 28, 28), (10000,))"
      ]
     },
     "execution_count": 8,
     "metadata": {},
     "output_type": "execute_result"
    }
   ],
   "source": [
    "test_images.shape, test_labels.shape"
   ]
  },
  {
   "cell_type": "code",
   "execution_count": 9,
   "id": "f9ed8fe0",
   "metadata": {
    "execution": {
     "iopub.execute_input": "2022-04-13T20:10:12.767227Z",
     "iopub.status.busy": "2022-04-13T20:10:12.766724Z",
     "iopub.status.idle": "2022-04-13T20:10:12.897214Z",
     "shell.execute_reply": "2022-04-13T20:10:12.897624Z"
    },
    "papermill": {
     "duration": 0.160213,
     "end_time": "2022-04-13T20:10:12.897751",
     "exception": false,
     "start_time": "2022-04-13T20:10:12.737538",
     "status": "completed"
    },
    "tags": []
   },
   "outputs": [
    {
     "name": "stdout",
     "output_type": "stream",
     "text": [
      "2\n"
     ]
    },
    {
     "data": {
      "text/plain": [
       "<matplotlib.image.AxesImage at 0x7f3b8c279390>"
      ]
     },
     "execution_count": 9,
     "metadata": {},
     "output_type": "execute_result"
    },
    {
     "data": {
      "image/png": "[encoded data removed]",
      "text/plain": [
       "<Figure size 432x288 with 1 Axes>"
      ]
     },
     "metadata": {
      "needs_background": "light"
     },
     "output_type": "display_data"
    }
   ],
   "source": [
    "image_index = 7776 # You may select anything up to 60,000\n",
    "print(train_labels[image_index]) \n",
    "plt.imshow(train_images[image_index], cmap='Greys')"
   ]
  },
  {
   "cell_type": "markdown",
   "id": "a8d2388d",
   "metadata": {
    "papermill": {
     "duration": 0.027651,
     "end_time": "2022-04-13T20:10:12.953129",
     "exception": false,
     "start_time": "2022-04-13T20:10:12.925478",
     "status": "completed"
    },
    "tags": []
   },
   "source": [
    "## Filter data to get 3 and 8 out"
   ]
  },
  {
   "cell_type": "code",
   "execution_count": 10,
   "id": "776f7fc7",
   "metadata": {
    "execution": {
     "iopub.execute_input": "2022-04-13T20:10:13.016392Z",
     "iopub.status.busy": "2022-04-13T20:10:13.015867Z",
     "iopub.status.idle": "2022-04-13T20:10:13.033521Z",
     "shell.execute_reply": "2022-04-13T20:10:13.033903Z"
    },
    "papermill": {
     "duration": 0.053176,
     "end_time": "2022-04-13T20:10:13.034034",
     "exception": false,
     "start_time": "2022-04-13T20:10:12.980858",
     "status": "completed"
    },
    "tags": []
   },
   "outputs": [],
   "source": [
    "train_filter = np.where((train_labels == 3 ) | (train_labels == 8))\n",
    "test_filter = np.where((test_labels == 3) | (test_labels == 8))\n",
    "X_train, y_train = train_images[train_filter], train_labels[train_filter]\n",
    "X_test, y_test = test_images[test_filter], test_labels[test_filter]"
   ]
  },
  {
   "cell_type": "markdown",
   "id": "948f0b7e",
   "metadata": {
    "papermill": {
     "duration": 0.031962,
     "end_time": "2022-04-13T20:10:13.093869",
     "exception": false,
     "start_time": "2022-04-13T20:10:13.061907",
     "status": "completed"
    },
    "tags": []
   },
   "source": [
    "We normalize the pizel values in the 0 to 1 range"
   ]
  },
  {
   "cell_type": "code",
   "execution_count": 11,
   "id": "ee4c2166",
   "metadata": {
    "execution": {
     "iopub.execute_input": "2022-04-13T20:10:13.157309Z",
     "iopub.status.busy": "2022-04-13T20:10:13.156804Z",
     "iopub.status.idle": "2022-04-13T20:10:13.197759Z",
     "shell.execute_reply": "2022-04-13T20:10:13.198187Z"
    },
    "papermill": {
     "duration": 0.076264,
     "end_time": "2022-04-13T20:10:13.198320",
     "exception": false,
     "start_time": "2022-04-13T20:10:13.122056",
     "status": "completed"
    },
    "tags": []
   },
   "outputs": [],
   "source": [
    "X_train = X_train/255.\n",
    "X_test = X_test/255."
   ]
  },
  {
   "cell_type": "markdown",
   "id": "ddcf4fab",
   "metadata": {
    "papermill": {
     "duration": 0.027942,
     "end_time": "2022-04-13T20:10:13.254192",
     "exception": false,
     "start_time": "2022-04-13T20:10:13.226250",
     "status": "completed"
    },
    "tags": []
   },
   "source": [
    "And setup the labels as 1 (when the digit is 3) and 0 (when the digit is 8)"
   ]
  },
  {
   "cell_type": "code",
   "execution_count": 12,
   "id": "7dc908f2",
   "metadata": {
    "execution": {
     "iopub.execute_input": "2022-04-13T20:10:13.313095Z",
     "iopub.status.busy": "2022-04-13T20:10:13.312567Z",
     "iopub.status.idle": "2022-04-13T20:10:13.323707Z",
     "shell.execute_reply": "2022-04-13T20:10:13.323271Z"
    },
    "papermill": {
     "duration": 0.041895,
     "end_time": "2022-04-13T20:10:13.323813",
     "exception": false,
     "start_time": "2022-04-13T20:10:13.281918",
     "status": "completed"
    },
    "tags": []
   },
   "outputs": [],
   "source": [
    "y_train = 1*(y_train==3)\n",
    "y_test = 1*(y_test==3)"
   ]
  },
  {
   "cell_type": "code",
   "execution_count": 13,
   "id": "01e4e969",
   "metadata": {
    "execution": {
     "iopub.execute_input": "2022-04-13T20:10:13.382591Z",
     "iopub.status.busy": "2022-04-13T20:10:13.382087Z",
     "iopub.status.idle": "2022-04-13T20:10:13.394508Z",
     "shell.execute_reply": "2022-04-13T20:10:13.394883Z"
    },
    "papermill": {
     "duration": 0.043316,
     "end_time": "2022-04-13T20:10:13.395005",
     "exception": false,
     "start_time": "2022-04-13T20:10:13.351689",
     "status": "completed"
    },
    "tags": []
   },
   "outputs": [
    {
     "data": {
      "text/plain": [
       "((11982, 28, 28), (1984, 28, 28))"
      ]
     },
     "execution_count": 13,
     "metadata": {},
     "output_type": "execute_result"
    }
   ],
   "source": [
    "X_train.shape, X_test.shape"
   ]
  },
  {
   "cell_type": "markdown",
   "id": "5ccf3f85",
   "metadata": {
    "papermill": {
     "duration": 0.027886,
     "end_time": "2022-04-13T20:10:13.450720",
     "exception": false,
     "start_time": "2022-04-13T20:10:13.422834",
     "status": "completed"
    },
    "tags": []
   },
   "source": [
    "We reshape the data to flatten the image pixels into a set of features or co-variates:"
   ]
  },
  {
   "cell_type": "code",
   "execution_count": 14,
   "id": "5286a4a3",
   "metadata": {
    "execution": {
     "iopub.execute_input": "2022-04-13T20:10:13.513125Z",
     "iopub.status.busy": "2022-04-13T20:10:13.512607Z",
     "iopub.status.idle": "2022-04-13T20:10:13.525134Z",
     "shell.execute_reply": "2022-04-13T20:10:13.524711Z"
    },
    "papermill": {
     "duration": 0.046127,
     "end_time": "2022-04-13T20:10:13.525237",
     "exception": false,
     "start_time": "2022-04-13T20:10:13.479110",
     "status": "completed"
    },
    "tags": []
   },
   "outputs": [
    {
     "data": {
      "text/plain": [
       "((11982, 784), (1984, 784))"
      ]
     },
     "execution_count": 14,
     "metadata": {},
     "output_type": "execute_result"
    }
   ],
   "source": [
    "X_train = X_train.reshape(X_train.shape[0], -1)\n",
    "X_test = X_test.reshape(X_test.shape[0], -1)\n",
    "X_train.shape, X_test.shape"
   ]
  },
  {
   "cell_type": "code",
   "execution_count": 15,
   "id": "73c5f88a",
   "metadata": {
    "execution": {
     "iopub.execute_input": "2022-04-13T20:10:13.586222Z",
     "iopub.status.busy": "2022-04-13T20:10:13.585714Z",
     "iopub.status.idle": "2022-04-13T20:10:13.604471Z",
     "shell.execute_reply": "2022-04-13T20:10:13.603997Z"
    },
    "papermill": {
     "duration": 0.051064,
     "end_time": "2022-04-13T20:10:13.604579",
     "exception": false,
     "start_time": "2022-04-13T20:10:13.553515",
     "status": "completed"
    },
    "tags": []
   },
   "outputs": [],
   "source": [
    "#Impoting functions from 'Kudzu'\n",
    "from kudzu.model import Model\n",
    "from kudzu.train import Learner\n",
    "from kudzu.optim import GD\n",
    "from kudzu.data import Data, Sampler,Dataloader\n",
    "\n",
    "from kudzu.callbacks import AccCallback\n",
    "from kudzu.callbacks import ClfCallback\n",
    "\n",
    "from kudzu.loss import MSE\n",
    "\n",
    "from kudzu.layer import Sigmoid,Relu\n",
    "from kudzu.layer import Affine"
   ]
  },
  {
   "cell_type": "markdown",
   "id": "bc01172a",
   "metadata": {
    "papermill": {
     "duration": 0.028158,
     "end_time": "2022-04-13T20:10:13.661482",
     "exception": false,
     "start_time": "2022-04-13T20:10:13.633324",
     "status": "completed"
    },
    "tags": []
   },
   "source": [
    "### Let us create a `Config` class, to store important parameters. \n",
    "This class essentially plays the role of a dictionary."
   ]
  },
  {
   "cell_type": "code",
   "execution_count": 16,
   "id": "978281aa",
   "metadata": {
    "execution": {
     "iopub.execute_input": "2022-04-13T20:10:13.722193Z",
     "iopub.status.busy": "2022-04-13T20:10:13.721693Z",
     "iopub.status.idle": "2022-04-13T20:10:13.733264Z",
     "shell.execute_reply": "2022-04-13T20:10:13.732862Z"
    },
    "papermill": {
     "duration": 0.042856,
     "end_time": "2022-04-13T20:10:13.733367",
     "exception": false,
     "start_time": "2022-04-13T20:10:13.690511",
     "status": "completed"
    },
    "tags": []
   },
   "outputs": [],
   "source": [
    "class Config:\n",
    "    pass\n",
    "config = Config()\n",
    "config.lr = 0.001\n",
    "config.num_epochs = 250\n",
    "config.bs = 50"
   ]
  },
  {
   "cell_type": "markdown",
   "id": "1385fa59",
   "metadata": {
    "papermill": {
     "duration": 0.028094,
     "end_time": "2022-04-13T20:10:13.789608",
     "exception": false,
     "start_time": "2022-04-13T20:10:13.761514",
     "status": "completed"
    },
    "tags": []
   },
   "source": [
    "### Running Models with the Training data\n",
    "Details about the network layers:\n",
    "- A first affine layer has 784 inputs and does 100 affine transforms. These are followed by a Relu\n",
    "- A second affine layer has 100 inputs from the 100 activations of the past layer, and does 100 affine transforms. These are followed by a Relu\n",
    "- A third affine layer has 100 activations and does 2 affine transformations to create an embedding for visualization. There is no non-linearity here.\n",
    "- A final \"logistic regression\" which has an affine transform from 2 inputs to 1 output, which is squeezed through a sigmoid.\n"
   ]
  },
  {
   "cell_type": "code",
   "execution_count": 17,
   "id": "2b9c66db",
   "metadata": {
    "execution": {
     "iopub.execute_input": "2022-04-13T20:10:13.849685Z",
     "iopub.status.busy": "2022-04-13T20:10:13.849174Z",
     "iopub.status.idle": "2022-04-13T20:10:13.861033Z",
     "shell.execute_reply": "2022-04-13T20:10:13.860643Z"
    },
    "papermill": {
     "duration": 0.043325,
     "end_time": "2022-04-13T20:10:13.861138",
     "exception": false,
     "start_time": "2022-04-13T20:10:13.817813",
     "status": "completed"
    },
    "tags": []
   },
   "outputs": [],
   "source": [
    "data = Data(X_train, y_train.reshape(-1,1))\n",
    "sampler = Sampler(data, config.bs, shuffle=True)\n",
    "\n",
    "dl = Dataloader(data, sampler)\n",
    "\n",
    "opt = GD(config.lr)\n",
    "loss = MSE()"
   ]
  },
  {
   "cell_type": "code",
   "execution_count": 18,
   "id": "b275e4c2",
   "metadata": {
    "execution": {
     "iopub.execute_input": "2022-04-13T20:10:13.921186Z",
     "iopub.status.busy": "2022-04-13T20:10:13.920664Z",
     "iopub.status.idle": "2022-04-13T20:10:13.931966Z",
     "shell.execute_reply": "2022-04-13T20:10:13.931542Z"
    },
    "papermill": {
     "duration": 0.042639,
     "end_time": "2022-04-13T20:10:13.932065",
     "exception": false,
     "start_time": "2022-04-13T20:10:13.889426",
     "status": "completed"
    },
    "tags": []
   },
   "outputs": [],
   "source": [
    "training_data_x = X_train\n",
    "testing_data_x = X_test\n",
    "training_data_y = y_train.reshape(-1,1)\n",
    "testing_data_y = y_test.reshape(-1,1)"
   ]
  },
  {
   "cell_type": "code",
   "execution_count": 19,
   "id": "76951160",
   "metadata": {
    "execution": {
     "iopub.execute_input": "2022-04-13T20:10:13.994726Z",
     "iopub.status.busy": "2022-04-13T20:10:13.994224Z",
     "iopub.status.idle": "2022-04-13T20:10:14.010524Z",
     "shell.execute_reply": "2022-04-13T20:10:14.010905Z"
    },
    "papermill": {
     "duration": 0.050898,
     "end_time": "2022-04-13T20:10:14.011024",
     "exception": false,
     "start_time": "2022-04-13T20:10:13.960126",
     "status": "completed"
    },
    "tags": []
   },
   "outputs": [
    {
     "name": "stdout",
     "output_type": "stream",
     "text": [
      "xavier\n",
      "xavier\n",
      "xavier\n",
      "xavier\n",
      "xavier\n"
     ]
    }
   ],
   "source": [
    "layers = [Affine(\"first\", 784, 100), Relu(\"first\"), Affine(\"second\", 100, 100), Relu(\"second\"), Affine(\"third\", 100, 2), Affine(\"last\", 2, 1), Sigmoid(\"last\")]\n",
    "model_nn = Model(layers)\n",
    "model_lr = Model([Affine(\"logits\", 784, 1), Sigmoid(\"sigmoid\")])"
   ]
  },
  {
   "cell_type": "code",
   "execution_count": 20,
   "id": "6eede77a",
   "metadata": {
    "execution": {
     "iopub.execute_input": "2022-04-13T20:10:14.071227Z",
     "iopub.status.busy": "2022-04-13T20:10:14.070738Z",
     "iopub.status.idle": "2022-04-13T20:10:14.082301Z",
     "shell.execute_reply": "2022-04-13T20:10:14.081902Z"
    },
    "papermill": {
     "duration": 0.043109,
     "end_time": "2022-04-13T20:10:14.082401",
     "exception": false,
     "start_time": "2022-04-13T20:10:14.039292",
     "status": "completed"
    },
    "tags": []
   },
   "outputs": [],
   "source": [
    "nn_learner = Learner(loss, model_nn, opt, config.num_epochs)\n",
    "acc_nn = ClfCallback(nn_learner, config.bs, training_data_x , testing_data_x, training_data_y, testing_data_y)\n",
    "nn_learner.set_callbacks([acc_nn])"
   ]
  },
  {
   "cell_type": "code",
   "execution_count": 21,
   "id": "877b6cc7",
   "metadata": {
    "execution": {
     "iopub.execute_input": "2022-04-13T20:10:14.147223Z",
     "iopub.status.busy": "2022-04-13T20:10:14.146679Z",
     "iopub.status.idle": "2022-04-13T20:10:14.157911Z",
     "shell.execute_reply": "2022-04-13T20:10:14.157516Z"
    },
    "papermill": {
     "duration": 0.042963,
     "end_time": "2022-04-13T20:10:14.158013",
     "exception": false,
     "start_time": "2022-04-13T20:10:14.115050",
     "status": "completed"
    },
    "tags": []
   },
   "outputs": [],
   "source": [
    "lr_learner = Learner(loss, model_lr, opt, config.num_epochs)\n",
    "acc_lr = ClfCallback(lr_learner, config.bs, training_data_x , testing_data_x, training_data_y, testing_data_y)\n",
    "lr_learner.set_callbacks([acc_lr])"
   ]
  },
  {
   "cell_type": "code",
   "execution_count": 22,
   "id": "d9b133c3",
   "metadata": {
    "execution": {
     "iopub.execute_input": "2022-04-13T20:10:14.225252Z",
     "iopub.status.busy": "2022-04-13T20:10:14.224760Z",
     "iopub.status.idle": "2022-04-13T20:13:11.158172Z",
     "shell.execute_reply": "2022-04-13T20:13:11.158595Z"
    },
    "papermill": {
     "duration": 176.968055,
     "end_time": "2022-04-13T20:13:11.158721",
     "exception": false,
     "start_time": "2022-04-13T20:10:14.190666",
     "status": "completed"
    },
    "tags": []
   },
   "outputs": [
    {
     "name": "stdout",
     "output_type": "stream",
     "text": [
      "Epoch 0, Loss 0.2509\n",
      "Training Accuracy: 0.6967, Testing Accuracy: 0.7278\n",
      "\n"
     ]
    },
    {
     "name": "stdout",
     "output_type": "stream",
     "text": [
      "Epoch 10, Loss 0.0661\n",
      "Training Accuracy: 0.9357, Testing Accuracy: 0.9496\n",
      "\n"
     ]
    },
    {
     "name": "stdout",
     "output_type": "stream",
     "text": [
      "Epoch 20, Loss 0.0456\n",
      "Training Accuracy: 0.9509, Testing Accuracy: 0.9617\n",
      "\n"
     ]
    },
    {
     "name": "stdout",
     "output_type": "stream",
     "text": [
      "Epoch 30, Loss 0.038\n",
      "Training Accuracy: 0.9581, Testing Accuracy: 0.9672\n",
      "\n"
     ]
    },
    {
     "name": "stdout",
     "output_type": "stream",
     "text": [
      "Epoch 40, Loss 0.0338\n",
      "Training Accuracy: 0.9619, Testing Accuracy: 0.9688\n",
      "\n"
     ]
    },
    {
     "name": "stdout",
     "output_type": "stream",
     "text": [
      "Epoch 50, Loss 0.0311\n",
      "Training Accuracy: 0.9644, Testing Accuracy: 0.9693\n",
      "\n"
     ]
    },
    {
     "name": "stdout",
     "output_type": "stream",
     "text": [
      "Epoch 60, Loss 0.0291\n",
      "Training Accuracy: 0.9661, Testing Accuracy: 0.9703\n",
      "\n"
     ]
    },
    {
     "name": "stdout",
     "output_type": "stream",
     "text": [
      "Epoch 70, Loss 0.0276\n",
      "Training Accuracy: 0.9676, Testing Accuracy: 0.9713\n",
      "\n"
     ]
    },
    {
     "name": "stdout",
     "output_type": "stream",
     "text": [
      "Epoch 80, Loss 0.0264\n",
      "Training Accuracy: 0.9691, Testing Accuracy: 0.9723\n",
      "\n"
     ]
    },
    {
     "name": "stdout",
     "output_type": "stream",
     "text": [
      "Epoch 90, Loss 0.0254\n",
      "Training Accuracy: 0.9709, Testing Accuracy: 0.9723\n",
      "\n"
     ]
    },
    {
     "name": "stdout",
     "output_type": "stream",
     "text": [
      "Epoch 100, Loss 0.0245\n",
      "Training Accuracy: 0.9719, Testing Accuracy: 0.9723\n",
      "\n"
     ]
    },
    {
     "name": "stdout",
     "output_type": "stream",
     "text": [
      "Epoch 110, Loss 0.0237\n",
      "Training Accuracy: 0.9729, Testing Accuracy: 0.9718\n",
      "\n"
     ]
    },
    {
     "name": "stdout",
     "output_type": "stream",
     "text": [
      "Epoch 120, Loss 0.023\n",
      "Training Accuracy: 0.9735, Testing Accuracy: 0.9713\n",
      "\n"
     ]
    },
    {
     "name": "stdout",
     "output_type": "stream",
     "text": [
      "Epoch 130, Loss 0.0224\n",
      "Training Accuracy: 0.9741, Testing Accuracy: 0.9718\n",
      "\n"
     ]
    },
    {
     "name": "stdout",
     "output_type": "stream",
     "text": [
      "Epoch 140, Loss 0.0218\n",
      "Training Accuracy: 0.9750, Testing Accuracy: 0.9708\n",
      "\n"
     ]
    },
    {
     "name": "stdout",
     "output_type": "stream",
     "text": [
      "Epoch 150, Loss 0.0213\n",
      "Training Accuracy: 0.9755, Testing Accuracy: 0.9713\n",
      "\n"
     ]
    },
    {
     "name": "stdout",
     "output_type": "stream",
     "text": [
      "Epoch 160, Loss 0.0208\n",
      "Training Accuracy: 0.9762, Testing Accuracy: 0.9718\n",
      "\n"
     ]
    },
    {
     "name": "stdout",
     "output_type": "stream",
     "text": [
      "Epoch 170, Loss 0.0204\n",
      "Training Accuracy: 0.9769, Testing Accuracy: 0.9723\n",
      "\n"
     ]
    },
    {
     "name": "stdout",
     "output_type": "stream",
     "text": [
      "Epoch 180, Loss 0.02\n",
      "Training Accuracy: 0.9772, Testing Accuracy: 0.9728\n",
      "\n"
     ]
    },
    {
     "name": "stdout",
     "output_type": "stream",
     "text": [
      "Epoch 190, Loss 0.0196\n",
      "Training Accuracy: 0.9778, Testing Accuracy: 0.9728\n",
      "\n"
     ]
    },
    {
     "name": "stdout",
     "output_type": "stream",
     "text": [
      "Epoch 200, Loss 0.0192\n",
      "Training Accuracy: 0.9786, Testing Accuracy: 0.9728\n",
      "\n"
     ]
    },
    {
     "name": "stdout",
     "output_type": "stream",
     "text": [
      "Epoch 210, Loss 0.0188\n",
      "Training Accuracy: 0.9794, Testing Accuracy: 0.9738\n",
      "\n"
     ]
    },
    {
     "name": "stdout",
     "output_type": "stream",
     "text": [
      "Epoch 220, Loss 0.0185\n",
      "Training Accuracy: 0.9797, Testing Accuracy: 0.9738\n",
      "\n"
     ]
    },
    {
     "name": "stdout",
     "output_type": "stream",
     "text": [
      "Epoch 230, Loss 0.0181\n",
      "Training Accuracy: 0.9802, Testing Accuracy: 0.9738\n",
      "\n"
     ]
    },
    {
     "name": "stdout",
     "output_type": "stream",
     "text": [
      "Epoch 240, Loss 0.0178\n",
      "Training Accuracy: 0.9805, Testing Accuracy: 0.9743\n",
      "\n"
     ]
    },
    {
     "data": {
      "text/plain": [
       "0.01068166336925413"
      ]
     },
     "execution_count": 22,
     "metadata": {},
     "output_type": "execute_result"
    }
   ],
   "source": [
    "nn_learner.train_loop(dl)"
   ]
  },
  {
   "cell_type": "code",
   "execution_count": 23,
   "id": "e0163366",
   "metadata": {
    "execution": {
     "iopub.execute_input": "2022-04-13T20:13:11.237305Z",
     "iopub.status.busy": "2022-04-13T20:13:11.236800Z",
     "iopub.status.idle": "2022-04-13T20:13:23.606182Z",
     "shell.execute_reply": "2022-04-13T20:13:23.606652Z"
    },
    "papermill": {
     "duration": 12.4123,
     "end_time": "2022-04-13T20:13:23.606781",
     "exception": false,
     "start_time": "2022-04-13T20:13:11.194481",
     "status": "completed"
    },
    "tags": []
   },
   "outputs": [
    {
     "name": "stdout",
     "output_type": "stream",
     "text": [
      "Epoch 0, Loss 0.229\n",
      "Training Accuracy: 0.7463, Testing Accuracy: 0.7409\n",
      "\n"
     ]
    },
    {
     "name": "stdout",
     "output_type": "stream",
     "text": [
      "Epoch 10, Loss 0.0991\n",
      "Training Accuracy: 0.9180, Testing Accuracy: 0.9279\n",
      "\n"
     ]
    },
    {
     "name": "stdout",
     "output_type": "stream",
     "text": [
      "Epoch 20, Loss 0.0771\n",
      "Training Accuracy: 0.9309, Testing Accuracy: 0.9415\n",
      "\n"
     ]
    },
    {
     "name": "stdout",
     "output_type": "stream",
     "text": [
      "Epoch 30, Loss 0.0669\n",
      "Training Accuracy: 0.9376, Testing Accuracy: 0.9471\n",
      "\n"
     ]
    },
    {
     "name": "stdout",
     "output_type": "stream",
     "text": [
      "Epoch 40, Loss 0.0608\n",
      "Training Accuracy: 0.9421, Testing Accuracy: 0.9521\n",
      "\n"
     ]
    },
    {
     "name": "stdout",
     "output_type": "stream",
     "text": [
      "Epoch 50, Loss 0.0565\n",
      "Training Accuracy: 0.9458, Testing Accuracy: 0.9531\n",
      "\n"
     ]
    },
    {
     "name": "stdout",
     "output_type": "stream",
     "text": [
      "Epoch 60, Loss 0.0533\n",
      "Training Accuracy: 0.9481, Testing Accuracy: 0.9567\n",
      "\n"
     ]
    },
    {
     "name": "stdout",
     "output_type": "stream",
     "text": [
      "Epoch 70, Loss 0.0509\n",
      "Training Accuracy: 0.9496, Testing Accuracy: 0.9592\n",
      "\n"
     ]
    },
    {
     "name": "stdout",
     "output_type": "stream",
     "text": [
      "Epoch 80, Loss 0.0489\n",
      "Training Accuracy: 0.9513, Testing Accuracy: 0.9587\n",
      "\n"
     ]
    },
    {
     "name": "stdout",
     "output_type": "stream",
     "text": [
      "Epoch 90, Loss 0.0473\n",
      "Training Accuracy: 0.9520, Testing Accuracy: 0.9602\n",
      "\n"
     ]
    },
    {
     "name": "stdout",
     "output_type": "stream",
     "text": [
      "Epoch 100, Loss 0.0459\n",
      "Training Accuracy: 0.9535, Testing Accuracy: 0.9612\n",
      "\n"
     ]
    },
    {
     "name": "stdout",
     "output_type": "stream",
     "text": [
      "Epoch 110, Loss 0.0447\n",
      "Training Accuracy: 0.9549, Testing Accuracy: 0.9622\n",
      "\n"
     ]
    },
    {
     "name": "stdout",
     "output_type": "stream",
     "text": [
      "Epoch 120, Loss 0.0436\n",
      "Training Accuracy: 0.9558, Testing Accuracy: 0.9637\n",
      "\n"
     ]
    },
    {
     "name": "stdout",
     "output_type": "stream",
     "text": [
      "Epoch 130, Loss 0.0427\n",
      "Training Accuracy: 0.9565, Testing Accuracy: 0.9642\n",
      "\n"
     ]
    },
    {
     "name": "stdout",
     "output_type": "stream",
     "text": [
      "Epoch 140, Loss 0.0419\n",
      "Training Accuracy: 0.9570, Testing Accuracy: 0.9642\n",
      "\n"
     ]
    },
    {
     "name": "stdout",
     "output_type": "stream",
     "text": [
      "Epoch 150, Loss 0.0412\n",
      "Training Accuracy: 0.9581, Testing Accuracy: 0.9652\n",
      "\n"
     ]
    },
    {
     "name": "stdout",
     "output_type": "stream",
     "text": [
      "Epoch 160, Loss 0.0405\n",
      "Training Accuracy: 0.9584, Testing Accuracy: 0.9657\n",
      "\n"
     ]
    },
    {
     "name": "stdout",
     "output_type": "stream",
     "text": [
      "Epoch 170, Loss 0.0399\n",
      "Training Accuracy: 0.9587, Testing Accuracy: 0.9662\n",
      "\n"
     ]
    },
    {
     "name": "stdout",
     "output_type": "stream",
     "text": [
      "Epoch 180, Loss 0.0393\n",
      "Training Accuracy: 0.9589, Testing Accuracy: 0.9667\n",
      "\n"
     ]
    },
    {
     "name": "stdout",
     "output_type": "stream",
     "text": [
      "Epoch 190, Loss 0.0388\n",
      "Training Accuracy: 0.9594, Testing Accuracy: 0.9667\n",
      "\n"
     ]
    },
    {
     "name": "stdout",
     "output_type": "stream",
     "text": [
      "Epoch 200, Loss 0.0383\n",
      "Training Accuracy: 0.9602, Testing Accuracy: 0.9662\n",
      "\n"
     ]
    },
    {
     "name": "stdout",
     "output_type": "stream",
     "text": [
      "Epoch 210, Loss 0.0379\n",
      "Training Accuracy: 0.9605, Testing Accuracy: 0.9657\n",
      "\n"
     ]
    },
    {
     "name": "stdout",
     "output_type": "stream",
     "text": [
      "Epoch 220, Loss 0.0375\n",
      "Training Accuracy: 0.9605, Testing Accuracy: 0.9652\n",
      "\n"
     ]
    },
    {
     "name": "stdout",
     "output_type": "stream",
     "text": [
      "Epoch 230, Loss 0.0371\n",
      "Training Accuracy: 0.9609, Testing Accuracy: 0.9652\n",
      "\n"
     ]
    },
    {
     "name": "stdout",
     "output_type": "stream",
     "text": [
      "Epoch 240, Loss 0.0367\n",
      "Training Accuracy: 0.9614, Testing Accuracy: 0.9652\n",
      "\n"
     ]
    },
    {
     "data": {
      "text/plain": [
       "0.03417358835596506"
      ]
     },
     "execution_count": 23,
     "metadata": {},
     "output_type": "execute_result"
    }
   ],
   "source": [
    "lr_learner.train_loop(dl)"
   ]
  },
  {
   "cell_type": "code",
   "execution_count": 24,
   "id": "ca410940",
   "metadata": {
    "execution": {
     "iopub.execute_input": "2022-04-13T20:13:23.697117Z",
     "iopub.status.busy": "2022-04-13T20:13:23.696606Z",
     "iopub.status.idle": "2022-04-13T20:13:23.924492Z",
     "shell.execute_reply": "2022-04-13T20:13:23.924892Z"
    },
    "papermill": {
     "duration": 0.274828,
     "end_time": "2022-04-13T20:13:23.925018",
     "exception": false,
     "start_time": "2022-04-13T20:13:23.650190",
     "status": "completed"
    },
    "tags": []
   },
   "outputs": [
    {
     "data": {
      "text/plain": [
       "<matplotlib.legend.Legend at 0x7f3b8be59ac8>"
      ]
     },
     "execution_count": 24,
     "metadata": {},
     "output_type": "execute_result"
    },
    {
     "data": {
      "image/png": "[encoded data removed]",
      "text/plain": [
       "<Figure size 1080x720 with 1 Axes>"
      ]
     },
     "metadata": {
      "needs_background": "light"
     },
     "output_type": "display_data"
    }
   ],
   "source": [
    "#comparing the results of NN and LR\n",
    "plt.figure(figsize=(15,10))\n",
    "\n",
    "# Neural Network plots\n",
    "plt.plot(acc_nn.accuracies, 'r-', label = \"Training Accuracies - NN\")\n",
    "plt.plot(acc_nn.test_accuracies, 'g-', label = \"Testing Accuracies - NN\")\n",
    "\n",
    "# Logistic Regression plots\n",
    "plt.plot(acc_lr.accuracies, 'k-', label = \"Training Accuracies - LR\")\n",
    "plt.plot(acc_lr.test_accuracies, 'b-', label = \"Testing Accuracies - LR\")\n",
    "plt.legend()"
   ]
  },
  {
   "cell_type": "markdown",
   "id": "80dfb35c",
   "metadata": {
    "papermill": {
     "duration": 0.044434,
     "end_time": "2022-04-13T20:13:24.013644",
     "exception": false,
     "start_time": "2022-04-13T20:13:23.969210",
     "status": "completed"
    },
    "tags": []
   },
   "source": [
    "#### Plotting the outputs of this layer of the NN.\n"
   ]
  },
  {
   "cell_type": "code",
   "execution_count": 25,
   "id": "45eb2ff5",
   "metadata": {
    "execution": {
     "iopub.execute_input": "2022-04-13T20:13:24.105053Z",
     "iopub.status.busy": "2022-04-13T20:13:24.104526Z",
     "iopub.status.idle": "2022-04-13T20:13:24.141153Z",
     "shell.execute_reply": "2022-04-13T20:13:24.141818Z"
    },
    "papermill": {
     "duration": 0.084466,
     "end_time": "2022-04-13T20:13:24.141953",
     "exception": false,
     "start_time": "2022-04-13T20:13:24.057487",
     "status": "completed"
    },
    "tags": []
   },
   "outputs": [],
   "source": [
    "new_model = Model(layers[:-2])\n",
    "testing_plot = new_model(testing_data_x)"
   ]
  },
  {
   "cell_type": "code",
   "execution_count": 26,
   "id": "4c0a5485",
   "metadata": {
    "execution": {
     "iopub.execute_input": "2022-04-13T20:13:24.235429Z",
     "iopub.status.busy": "2022-04-13T20:13:24.234929Z",
     "iopub.status.idle": "2022-04-13T20:13:24.410972Z",
     "shell.execute_reply": "2022-04-13T20:13:24.410528Z"
    },
    "papermill": {
     "duration": 0.224191,
     "end_time": "2022-04-13T20:13:24.411081",
     "exception": false,
     "start_time": "2022-04-13T20:13:24.186890",
     "status": "completed"
    },
    "tags": []
   },
   "outputs": [
    {
     "data": {
      "text/plain": [
       "Text(0.5, 1.0, 'Outputs')"
      ]
     },
     "execution_count": 26,
     "metadata": {},
     "output_type": "execute_result"
    },
    {
     "data": {
      "image/png": "[encoded data removed]",
      "text/plain": [
       "<Figure size 576x504 with 1 Axes>"
      ]
     },
     "metadata": {
      "needs_background": "light"
     },
     "output_type": "display_data"
    }
   ],
   "source": [
    "# Plotting the scatter plot of points and color coding by class\n",
    "plt.figure(figsize=(8,7))\n",
    "plt.scatter(testing_plot[:,0], testing_plot[:,1], alpha = 0.1, c = y_test.ravel());\n",
    "plt.title('Outputs')"
   ]
  },
  {
   "cell_type": "markdown",
   "id": "a74fcf8f",
   "metadata": {
    "papermill": {
     "duration": 0.066067,
     "end_time": "2022-04-13T20:13:24.523287",
     "exception": false,
     "start_time": "2022-04-13T20:13:24.457220",
     "status": "completed"
    },
    "tags": []
   },
   "source": [
    "Probability contours"
   ]
  },
  {
   "cell_type": "code",
   "execution_count": 27,
   "id": "d0afc8e3",
   "metadata": {
    "execution": {
     "iopub.execute_input": "2022-04-13T20:13:24.619402Z",
     "iopub.status.busy": "2022-04-13T20:13:24.618888Z",
     "iopub.status.idle": "2022-04-13T20:13:24.629982Z",
     "shell.execute_reply": "2022-04-13T20:13:24.629563Z"
    },
    "papermill": {
     "duration": 0.060816,
     "end_time": "2022-04-13T20:13:24.630083",
     "exception": false,
     "start_time": "2022-04-13T20:13:24.569267",
     "status": "completed"
    },
    "tags": []
   },
   "outputs": [],
   "source": [
    "model_prob = Model(layers[-2:]) "
   ]
  },
  {
   "cell_type": "code",
   "execution_count": 28,
   "id": "9b96e238",
   "metadata": {
    "execution": {
     "iopub.execute_input": "2022-04-13T20:13:24.728409Z",
     "iopub.status.busy": "2022-04-13T20:13:24.727298Z",
     "iopub.status.idle": "2022-04-13T20:13:24.740838Z",
     "shell.execute_reply": "2022-04-13T20:13:24.741240Z"
    },
    "papermill": {
     "duration": 0.065319,
     "end_time": "2022-04-13T20:13:24.741363",
     "exception": false,
     "start_time": "2022-04-13T20:13:24.676044",
     "status": "completed"
    },
    "tags": []
   },
   "outputs": [],
   "source": [
    "#creating the x and y ranges according to the above generated plot.\n",
    "x_range = np.linspace(-4, 1, 100) \n",
    "y_range = np.linspace(-6, 6, 100) \n",
    "x_grid, y_grid = np.meshgrid(x_range, y_range) # x_grid and y_grig are of size 100 X 100\n",
    "\n",
    "# converting x_grid and y_grid to continuous arrays\n",
    "x_gridflat = np.ravel(x_grid)\n",
    "y_gridflat = np.ravel(y_grid)\n",
    "\n",
    "# The last layer of the current model takes two columns as input. Hence transpose of np.vstack() is required.\n",
    "X = np.vstack((x_gridflat, y_gridflat)).T\n",
    "\n",
    "prob_contour = model_prob(X).reshape(100,100) "
   ]
  },
  {
   "cell_type": "code",
   "execution_count": 29,
   "id": "da72499a",
   "metadata": {
    "execution": {
     "iopub.execute_input": "2022-04-13T20:13:24.841290Z",
     "iopub.status.busy": "2022-04-13T20:13:24.840785Z",
     "iopub.status.idle": "2022-04-13T20:13:25.074336Z",
     "shell.execute_reply": "2022-04-13T20:13:25.073920Z"
    },
    "papermill": {
     "duration": 0.286509,
     "end_time": "2022-04-13T20:13:25.074449",
     "exception": false,
     "start_time": "2022-04-13T20:13:24.787940",
     "status": "completed"
    },
    "tags": []
   },
   "outputs": [
    {
     "data": {
      "image/png": "[encoded data removed]",
      "text/plain": [
       "<Figure size 720x648 with 1 Axes>"
      ]
     },
     "metadata": {
      "needs_background": "light"
     },
     "output_type": "display_data"
    }
   ],
   "source": [
    "plt.figure(figsize=(10,9))\n",
    "plt.scatter(testing_plot[:,0], testing_plot[:,1], alpha = 0.1, c = y_test.ravel())\n",
    "contours = plt.contour(x_grid,y_grid,prob_contour)\n",
    "plt.title('Probability Contours')\n",
    "plt.clabel(contours, inline = True );"
   ]
  },
  {
   "cell_type": "code",
   "execution_count": null,
   "id": "e81b4ac7",
   "metadata": {
    "papermill": {
     "duration": 0.049027,
     "end_time": "2022-04-13T20:13:25.172146",
     "exception": false,
     "start_time": "2022-04-13T20:13:25.123119",
     "status": "completed"
    },
    "tags": []
   },
   "outputs": [],
   "source": []
  }
 ],
 "metadata": {
  "kernelspec": {
   "display_name": "Python 3",
   "language": "python",
   "name": "python3"
  },
  "language_info": {
   "codemirror_mode": {
    "name": "ipython",
    "version": 3
   },
   "file_extension": ".py",
   "mimetype": "text/x-python",
   "name": "python",
   "nbconvert_exporter": "python",
   "pygments_lexer": "ipython3",
   "version": "3.6.15"
  },
  "papermill": {
   "default_parameters": {},
   "duration": 197.186125,
   "end_time": "2022-04-13T20:13:25.538502",
   "environment_variables": {},
   "exception": null,
   "input_path": "2020-08-11-part2.ipynb",
   "output_path": "2020-08-11-part2.ipynb",
   "parameters": {},
   "start_time": "2022-04-13T20:10:08.352377",
   "version": "2.3.3"
  }
 },
 "nbformat": 4,
 "nbformat_minor": 5
}