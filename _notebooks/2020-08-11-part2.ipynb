{
 "cells": [
  {
   "cell_type": "markdown",
   "id": "98380cd3",
   "metadata": {
    "papermill": {
     "duration": 0.027002,
     "end_time": "2022-07-12T20:09:55.579930",
     "exception": false,
     "start_time": "2022-07-12T20:09:55.552928",
     "status": "completed"
    },
    "tags": []
   },
   "source": [
    "# Distinguish Your Own Digits (DYOD)"
   ]
  },
  {
   "cell_type": "markdown",
   "id": "ef31240d",
   "metadata": {
    "papermill": {
     "duration": 0.021142,
     "end_time": "2022-07-12T20:09:55.623095",
     "exception": false,
     "start_time": "2022-07-12T20:09:55.601953",
     "status": "completed"
    },
    "tags": []
   },
   "source": [
    "You are going to write a classifier that distinguishes between the number 3 and number 8."
   ]
  },
  {
   "cell_type": "code",
   "execution_count": 1,
   "id": "b15c8646",
   "metadata": {
    "execution": {
     "iopub.execute_input": "2022-07-12T20:09:55.675952Z",
     "iopub.status.busy": "2022-07-12T20:09:55.675373Z",
     "iopub.status.idle": "2022-07-12T20:09:55.686570Z",
     "shell.execute_reply": "2022-07-12T20:09:55.686118Z"
    },
    "papermill": {
     "duration": 0.042502,
     "end_time": "2022-07-12T20:09:55.686701",
     "exception": false,
     "start_time": "2022-07-12T20:09:55.644199",
     "status": "completed"
    },
    "tags": []
   },
   "outputs": [],
   "source": [
    "%load_ext autoreload\n",
    "%autoreload 2"
   ]
  },
  {
   "cell_type": "code",
   "execution_count": 2,
   "id": "22ef38dc",
   "metadata": {
    "execution": {
     "iopub.execute_input": "2022-07-12T20:09:55.744608Z",
     "iopub.status.busy": "2022-07-12T20:09:55.744039Z",
     "iopub.status.idle": "2022-07-12T20:09:56.280133Z",
     "shell.execute_reply": "2022-07-12T20:09:56.278893Z"
    },
    "papermill": {
     "duration": 0.572071,
     "end_time": "2022-07-12T20:09:56.280286",
     "exception": false,
     "start_time": "2022-07-12T20:09:55.708215",
     "status": "completed"
    },
    "tags": []
   },
   "outputs": [],
   "source": [
    "%matplotlib inline\n",
    "import numpy as np\n",
    "import matplotlib.pyplot as plt\n",
    "import pandas as pd"
   ]
  },
  {
   "cell_type": "markdown",
   "id": "ba036198",
   "metadata": {
    "papermill": {
     "duration": 0.024048,
     "end_time": "2022-07-12T20:09:56.328530",
     "exception": false,
     "start_time": "2022-07-12T20:09:56.304482",
     "status": "completed"
    },
    "tags": []
   },
   "source": [
    "From the command line run `pip install mnist`. This is a library that will help you bring down the mnist dataset. If you run this from a notebook, you need to put  `!pip install mnist` in a cell by itself."
   ]
  },
  {
   "cell_type": "code",
   "execution_count": 3,
   "id": "bb6ad8a1",
   "metadata": {
    "execution": {
     "iopub.execute_input": "2022-07-12T20:09:56.394564Z",
     "iopub.status.busy": "2022-07-12T20:09:56.381937Z",
     "iopub.status.idle": "2022-07-12T20:09:58.031582Z",
     "shell.execute_reply": "2022-07-12T20:09:58.032149Z"
    },
    "papermill": {
     "duration": 1.679818,
     "end_time": "2022-07-12T20:09:58.032308",
     "exception": false,
     "start_time": "2022-07-12T20:09:56.352490",
     "status": "completed"
    },
    "tags": []
   },
   "outputs": [
    {
     "name": "stdout",
     "output_type": "stream",
     "text": [
      "Collecting mnist\r\n"
     ]
    },
    {
     "name": "stdout",
     "output_type": "stream",
     "text": [
      "  Downloading mnist-0.2.2-py2.py3-none-any.whl (3.5 kB)\r\n",
      "Requirement already satisfied: numpy in /opt/hostedtoolcache/Python/3.6.15/x64/lib/python3.6/site-packages (from mnist) (1.19.5)\r\n"
     ]
    },
    {
     "name": "stdout",
     "output_type": "stream",
     "text": [
      "Installing collected packages: mnist\r\n"
     ]
    },
    {
     "name": "stdout",
     "output_type": "stream",
     "text": [
      "Successfully installed mnist-0.2.2\r\n"
     ]
    }
   ],
   "source": [
    "!pip install mnist"
   ]
  },
  {
   "cell_type": "markdown",
   "id": "69df9c9a",
   "metadata": {
    "papermill": {
     "duration": 0.025025,
     "end_time": "2022-07-12T20:09:58.082577",
     "exception": false,
     "start_time": "2022-07-12T20:09:58.057552",
     "status": "completed"
    },
    "tags": []
   },
   "source": [
    "## Preparing the Data"
   ]
  },
  {
   "cell_type": "code",
   "execution_count": 4,
   "id": "7f69d806",
   "metadata": {
    "execution": {
     "iopub.execute_input": "2022-07-12T20:09:58.139762Z",
     "iopub.status.busy": "2022-07-12T20:09:58.135872Z",
     "iopub.status.idle": "2022-07-12T20:09:58.150161Z",
     "shell.execute_reply": "2022-07-12T20:09:58.150621Z"
    },
    "papermill": {
     "duration": 0.043207,
     "end_time": "2022-07-12T20:09:58.150755",
     "exception": false,
     "start_time": "2022-07-12T20:09:58.107548",
     "status": "completed"
    },
    "tags": []
   },
   "outputs": [],
   "source": [
    "import mnist"
   ]
  },
  {
   "cell_type": "code",
   "execution_count": 5,
   "id": "a411e44f",
   "metadata": {
    "execution": {
     "iopub.execute_input": "2022-07-12T20:09:58.206446Z",
     "iopub.status.busy": "2022-07-12T20:09:58.204100Z",
     "iopub.status.idle": "2022-07-12T20:09:58.783981Z",
     "shell.execute_reply": "2022-07-12T20:09:58.783455Z"
    },
    "papermill": {
     "duration": 0.608313,
     "end_time": "2022-07-12T20:09:58.784107",
     "exception": false,
     "start_time": "2022-07-12T20:09:58.175794",
     "status": "completed"
    },
    "tags": []
   },
   "outputs": [],
   "source": [
    "train_images = mnist.train_images()\n",
    "train_labels = mnist.train_labels()"
   ]
  },
  {
   "cell_type": "code",
   "execution_count": 6,
   "id": "dceab3a5",
   "metadata": {
    "execution": {
     "iopub.execute_input": "2022-07-12T20:09:58.851357Z",
     "iopub.status.busy": "2022-07-12T20:09:58.850716Z",
     "iopub.status.idle": "2022-07-12T20:09:58.858752Z",
     "shell.execute_reply": "2022-07-12T20:09:58.859206Z"
    },
    "papermill": {
     "duration": 0.050029,
     "end_time": "2022-07-12T20:09:58.859344",
     "exception": false,
     "start_time": "2022-07-12T20:09:58.809315",
     "status": "completed"
    },
    "tags": []
   },
   "outputs": [
    {
     "data": {
      "text/plain": [
       "((60000, 28, 28), (60000,))"
      ]
     },
     "execution_count": 6,
     "metadata": {},
     "output_type": "execute_result"
    }
   ],
   "source": [
    "train_images.shape, train_labels.shape"
   ]
  },
  {
   "cell_type": "code",
   "execution_count": 7,
   "id": "f50dc2bb",
   "metadata": {
    "execution": {
     "iopub.execute_input": "2022-07-12T20:09:58.916095Z",
     "iopub.status.busy": "2022-07-12T20:09:58.915499Z",
     "iopub.status.idle": "2022-07-12T20:09:59.075323Z",
     "shell.execute_reply": "2022-07-12T20:09:59.075885Z"
    },
    "papermill": {
     "duration": 0.191445,
     "end_time": "2022-07-12T20:09:59.076043",
     "exception": false,
     "start_time": "2022-07-12T20:09:58.884598",
     "status": "completed"
    },
    "tags": []
   },
   "outputs": [],
   "source": [
    "test_images = mnist.test_images()\n",
    "test_labels = mnist.test_labels()"
   ]
  },
  {
   "cell_type": "code",
   "execution_count": 8,
   "id": "fc38cf1b",
   "metadata": {
    "execution": {
     "iopub.execute_input": "2022-07-12T20:09:59.132513Z",
     "iopub.status.busy": "2022-07-12T20:09:59.131913Z",
     "iopub.status.idle": "2022-07-12T20:09:59.143398Z",
     "shell.execute_reply": "2022-07-12T20:09:59.142913Z"
    },
    "papermill": {
     "duration": 0.041959,
     "end_time": "2022-07-12T20:09:59.143510",
     "exception": false,
     "start_time": "2022-07-12T20:09:59.101551",
     "status": "completed"
    },
    "tags": []
   },
   "outputs": [
    {
     "data": {
      "text/plain": [
       "((10000, 28, 28), (10000,))"
      ]
     },
     "execution_count": 8,
     "metadata": {},
     "output_type": "execute_result"
    }
   ],
   "source": [
    "test_images.shape, test_labels.shape"
   ]
  },
  {
   "cell_type": "code",
   "execution_count": 9,
   "id": "f9ed8fe0",
   "metadata": {
    "execution": {
     "iopub.execute_input": "2022-07-12T20:09:59.199789Z",
     "iopub.status.busy": "2022-07-12T20:09:59.199200Z",
     "iopub.status.idle": "2022-07-12T20:09:59.325451Z",
     "shell.execute_reply": "2022-07-12T20:09:59.325942Z"
    },
    "papermill": {
     "duration": 0.157158,
     "end_time": "2022-07-12T20:09:59.326089",
     "exception": false,
     "start_time": "2022-07-12T20:09:59.168931",
     "status": "completed"
    },
    "tags": []
   },
   "outputs": [
    {
     "name": "stdout",
     "output_type": "stream",
     "text": [
      "2\n"
     ]
    },
    {
     "data": {
      "text/plain": [
       "<matplotlib.image.AxesImage at 0x7f6e313ae518>"
      ]
     },
     "execution_count": 9,
     "metadata": {},
     "output_type": "execute_result"
    },
    {
     "data": {
      "image/png": "[encoded data removed]",
      "text/plain": [
       "<Figure size 432x288 with 1 Axes>"
      ]
     },
     "metadata": {
      "needs_background": "light"
     },
     "output_type": "display_data"
    }
   ],
   "source": [
    "image_index = 7776 # You may select anything up to 60,000\n",
    "print(train_labels[image_index]) \n",
    "plt.imshow(train_images[image_index], cmap='Greys')"
   ]
  },
  {
   "cell_type": "markdown",
   "id": "a8d2388d",
   "metadata": {
    "papermill": {
     "duration": 0.026984,
     "end_time": "2022-07-12T20:09:59.379849",
     "exception": false,
     "start_time": "2022-07-12T20:09:59.352865",
     "status": "completed"
    },
    "tags": []
   },
   "source": [
    "## Filter data to get 3 and 8 out"
   ]
  },
  {
   "cell_type": "code",
   "execution_count": 10,
   "id": "776f7fc7",
   "metadata": {
    "execution": {
     "iopub.execute_input": "2022-07-12T20:09:59.438294Z",
     "iopub.status.busy": "2022-07-12T20:09:59.437704Z",
     "iopub.status.idle": "2022-07-12T20:09:59.453123Z",
     "shell.execute_reply": "2022-07-12T20:09:59.452674Z"
    },
    "papermill": {
     "duration": 0.046803,
     "end_time": "2022-07-12T20:09:59.453236",
     "exception": false,
     "start_time": "2022-07-12T20:09:59.406433",
     "status": "completed"
    },
    "tags": []
   },
   "outputs": [],
   "source": [
    "train_filter = np.where((train_labels == 3 ) | (train_labels == 8))\n",
    "test_filter = np.where((test_labels == 3) | (test_labels == 8))\n",
    "X_train, y_train = train_images[train_filter], train_labels[train_filter]\n",
    "X_test, y_test = test_images[test_filter], test_labels[test_filter]"
   ]
  },
  {
   "cell_type": "markdown",
   "id": "948f0b7e",
   "metadata": {
    "papermill": {
     "duration": 0.023651,
     "end_time": "2022-07-12T20:09:59.500819",
     "exception": false,
     "start_time": "2022-07-12T20:09:59.477168",
     "status": "completed"
    },
    "tags": []
   },
   "source": [
    "We normalize the pizel values in the 0 to 1 range"
   ]
  },
  {
   "cell_type": "code",
   "execution_count": 11,
   "id": "ee4c2166",
   "metadata": {
    "execution": {
     "iopub.execute_input": "2022-07-12T20:09:59.570613Z",
     "iopub.status.busy": "2022-07-12T20:09:59.565658Z",
     "iopub.status.idle": "2022-07-12T20:09:59.602117Z",
     "shell.execute_reply": "2022-07-12T20:09:59.601111Z"
    },
    "papermill": {
     "duration": 0.078053,
     "end_time": "2022-07-12T20:09:59.602244",
     "exception": false,
     "start_time": "2022-07-12T20:09:59.524191",
     "status": "completed"
    },
    "tags": []
   },
   "outputs": [],
   "source": [
    "X_train = X_train/255.\n",
    "X_test = X_test/255."
   ]
  },
  {
   "cell_type": "markdown",
   "id": "ddcf4fab",
   "metadata": {
    "papermill": {
     "duration": 0.023651,
     "end_time": "2022-07-12T20:09:59.649793",
     "exception": false,
     "start_time": "2022-07-12T20:09:59.626142",
     "status": "completed"
    },
    "tags": []
   },
   "source": [
    "And setup the labels as 1 (when the digit is 3) and 0 (when the digit is 8)"
   ]
  },
  {
   "cell_type": "code",
   "execution_count": 12,
   "id": "7dc908f2",
   "metadata": {
    "execution": {
     "iopub.execute_input": "2022-07-12T20:09:59.702395Z",
     "iopub.status.busy": "2022-07-12T20:09:59.700865Z",
     "iopub.status.idle": "2022-07-12T20:09:59.712915Z",
     "shell.execute_reply": "2022-07-12T20:09:59.712467Z"
    },
    "papermill": {
     "duration": 0.039587,
     "end_time": "2022-07-12T20:09:59.713020",
     "exception": false,
     "start_time": "2022-07-12T20:09:59.673433",
     "status": "completed"
    },
    "tags": []
   },
   "outputs": [],
   "source": [
    "y_train = 1*(y_train==3)\n",
    "y_test = 1*(y_test==3)"
   ]
  },
  {
   "cell_type": "code",
   "execution_count": 13,
   "id": "01e4e969",
   "metadata": {
    "execution": {
     "iopub.execute_input": "2022-07-12T20:09:59.778695Z",
     "iopub.status.busy": "2022-07-12T20:09:59.772258Z",
     "iopub.status.idle": "2022-07-12T20:09:59.783151Z",
     "shell.execute_reply": "2022-07-12T20:09:59.782049Z"
    },
    "papermill": {
     "duration": 0.046363,
     "end_time": "2022-07-12T20:09:59.783260",
     "exception": false,
     "start_time": "2022-07-12T20:09:59.736897",
     "status": "completed"
    },
    "tags": []
   },
   "outputs": [
    {
     "data": {
      "text/plain": [
       "((11982, 28, 28), (1984, 28, 28))"
      ]
     },
     "execution_count": 13,
     "metadata": {},
     "output_type": "execute_result"
    }
   ],
   "source": [
    "X_train.shape, X_test.shape"
   ]
  },
  {
   "cell_type": "markdown",
   "id": "5ccf3f85",
   "metadata": {
    "papermill": {
     "duration": 0.023654,
     "end_time": "2022-07-12T20:09:59.830568",
     "exception": false,
     "start_time": "2022-07-12T20:09:59.806914",
     "status": "completed"
    },
    "tags": []
   },
   "source": [
    "We reshape the data to flatten the image pixels into a set of features or co-variates:"
   ]
  },
  {
   "cell_type": "code",
   "execution_count": 14,
   "id": "5286a4a3",
   "metadata": {
    "execution": {
     "iopub.execute_input": "2022-07-12T20:09:59.882329Z",
     "iopub.status.busy": "2022-07-12T20:09:59.881797Z",
     "iopub.status.idle": "2022-07-12T20:09:59.895309Z",
     "shell.execute_reply": "2022-07-12T20:09:59.895739Z"
    },
    "papermill": {
     "duration": 0.041417,
     "end_time": "2022-07-12T20:09:59.895861",
     "exception": false,
     "start_time": "2022-07-12T20:09:59.854444",
     "status": "completed"
    },
    "tags": []
   },
   "outputs": [
    {
     "data": {
      "text/plain": [
       "((11982, 784), (1984, 784))"
      ]
     },
     "execution_count": 14,
     "metadata": {},
     "output_type": "execute_result"
    }
   ],
   "source": [
    "X_train = X_train.reshape(X_train.shape[0], -1)\n",
    "X_test = X_test.reshape(X_test.shape[0], -1)\n",
    "X_train.shape, X_test.shape"
   ]
  },
  {
   "cell_type": "code",
   "execution_count": 15,
   "id": "73c5f88a",
   "metadata": {
    "execution": {
     "iopub.execute_input": "2022-07-12T20:09:59.951020Z",
     "iopub.status.busy": "2022-07-12T20:09:59.950488Z",
     "iopub.status.idle": "2022-07-12T20:09:59.968242Z",
     "shell.execute_reply": "2022-07-12T20:09:59.967776Z"
    },
    "papermill": {
     "duration": 0.048517,
     "end_time": "2022-07-12T20:09:59.968349",
     "exception": false,
     "start_time": "2022-07-12T20:09:59.919832",
     "status": "completed"
    },
    "tags": []
   },
   "outputs": [],
   "source": [
    "#Impoting functions from 'Kudzu'\n",
    "from kudzu.model import Model\n",
    "from kudzu.train import Learner\n",
    "from kudzu.optim import GD\n",
    "from kudzu.data import Data, Sampler,Dataloader\n",
    "\n",
    "from kudzu.callbacks import AccCallback\n",
    "from kudzu.callbacks import ClfCallback\n",
    "\n",
    "from kudzu.loss import MSE\n",
    "\n",
    "from kudzu.layer import Sigmoid,Relu\n",
    "from kudzu.layer import Affine"
   ]
  },
  {
   "cell_type": "markdown",
   "id": "bc01172a",
   "metadata": {
    "papermill": {
     "duration": 0.023927,
     "end_time": "2022-07-12T20:10:00.016620",
     "exception": false,
     "start_time": "2022-07-12T20:09:59.992693",
     "status": "completed"
    },
    "tags": []
   },
   "source": [
    "### Let us create a `Config` class, to store important parameters. \n",
    "This class essentially plays the role of a dictionary."
   ]
  },
  {
   "cell_type": "code",
   "execution_count": 16,
   "id": "978281aa",
   "metadata": {
    "execution": {
     "iopub.execute_input": "2022-07-12T20:10:00.082137Z",
     "iopub.status.busy": "2022-07-12T20:10:00.081516Z",
     "iopub.status.idle": "2022-07-12T20:10:00.084429Z",
     "shell.execute_reply": "2022-07-12T20:10:00.084808Z"
    },
    "papermill": {
     "duration": 0.044556,
     "end_time": "2022-07-12T20:10:00.084936",
     "exception": false,
     "start_time": "2022-07-12T20:10:00.040380",
     "status": "completed"
    },
    "tags": []
   },
   "outputs": [],
   "source": [
    "class Config:\n",
    "    pass\n",
    "config = Config()\n",
    "config.lr = 0.001\n",
    "config.num_epochs = 250\n",
    "config.bs = 50"
   ]
  },
  {
   "cell_type": "markdown",
   "id": "1385fa59",
   "metadata": {
    "papermill": {
     "duration": 0.023939,
     "end_time": "2022-07-12T20:10:00.133051",
     "exception": false,
     "start_time": "2022-07-12T20:10:00.109112",
     "status": "completed"
    },
    "tags": []
   },
   "source": [
    "### Running Models with the Training data\n",
    "Details about the network layers:\n",
    "- A first affine layer has 784 inputs and does 100 affine transforms. These are followed by a Relu\n",
    "- A second affine layer has 100 inputs from the 100 activations of the past layer, and does 100 affine transforms. These are followed by a Relu\n",
    "- A third affine layer has 100 activations and does 2 affine transformations to create an embedding for visualization. There is no non-linearity here.\n",
    "- A final \"logistic regression\" which has an affine transform from 2 inputs to 1 output, which is squeezed through a sigmoid.\n"
   ]
  },
  {
   "cell_type": "code",
   "execution_count": 17,
   "id": "2b9c66db",
   "metadata": {
    "execution": {
     "iopub.execute_input": "2022-07-12T20:10:00.185598Z",
     "iopub.status.busy": "2022-07-12T20:10:00.185063Z",
     "iopub.status.idle": "2022-07-12T20:10:00.198053Z",
     "shell.execute_reply": "2022-07-12T20:10:00.197594Z"
    },
    "papermill": {
     "duration": 0.041055,
     "end_time": "2022-07-12T20:10:00.198155",
     "exception": false,
     "start_time": "2022-07-12T20:10:00.157100",
     "status": "completed"
    },
    "tags": []
   },
   "outputs": [],
   "source": [
    "data = Data(X_train, y_train.reshape(-1,1))\n",
    "sampler = Sampler(data, config.bs, shuffle=True)\n",
    "\n",
    "dl = Dataloader(data, sampler)\n",
    "\n",
    "opt = GD(config.lr)\n",
    "loss = MSE()"
   ]
  },
  {
   "cell_type": "code",
   "execution_count": 18,
   "id": "b275e4c2",
   "metadata": {
    "execution": {
     "iopub.execute_input": "2022-07-12T20:10:00.250179Z",
     "iopub.status.busy": "2022-07-12T20:10:00.249606Z",
     "iopub.status.idle": "2022-07-12T20:10:00.261735Z",
     "shell.execute_reply": "2022-07-12T20:10:00.262173Z"
    },
    "papermill": {
     "duration": 0.040093,
     "end_time": "2022-07-12T20:10:00.262295",
     "exception": false,
     "start_time": "2022-07-12T20:10:00.222202",
     "status": "completed"
    },
    "tags": []
   },
   "outputs": [],
   "source": [
    "training_data_x = X_train\n",
    "testing_data_x = X_test\n",
    "training_data_y = y_train.reshape(-1,1)\n",
    "testing_data_y = y_test.reshape(-1,1)"
   ]
  },
  {
   "cell_type": "code",
   "execution_count": 19,
   "id": "76951160",
   "metadata": {
    "execution": {
     "iopub.execute_input": "2022-07-12T20:10:00.323286Z",
     "iopub.status.busy": "2022-07-12T20:10:00.322643Z",
     "iopub.status.idle": "2022-07-12T20:10:00.332592Z",
     "shell.execute_reply": "2022-07-12T20:10:00.333041Z"
    },
    "papermill": {
     "duration": 0.047007,
     "end_time": "2022-07-12T20:10:00.333173",
     "exception": false,
     "start_time": "2022-07-12T20:10:00.286166",
     "status": "completed"
    },
    "tags": []
   },
   "outputs": [
    {
     "name": "stdout",
     "output_type": "stream",
     "text": [
      "xavier\n",
      "xavier\n",
      "xavier\n",
      "xavier\n",
      "xavier\n"
     ]
    }
   ],
   "source": [
    "layers = [Affine(\"first\", 784, 100), Relu(\"first\"), Affine(\"second\", 100, 100), Relu(\"second\"), Affine(\"third\", 100, 2), Affine(\"last\", 2, 1), Sigmoid(\"last\")]\n",
    "model_nn = Model(layers)\n",
    "model_lr = Model([Affine(\"logits\", 784, 1), Sigmoid(\"sigmoid\")])"
   ]
  },
  {
   "cell_type": "code",
   "execution_count": 20,
   "id": "6eede77a",
   "metadata": {
    "execution": {
     "iopub.execute_input": "2022-07-12T20:10:00.393143Z",
     "iopub.status.busy": "2022-07-12T20:10:00.392536Z",
     "iopub.status.idle": "2022-07-12T20:10:00.403549Z",
     "shell.execute_reply": "2022-07-12T20:10:00.402973Z"
    },
    "papermill": {
     "duration": 0.042926,
     "end_time": "2022-07-12T20:10:00.403664",
     "exception": false,
     "start_time": "2022-07-12T20:10:00.360738",
     "status": "completed"
    },
    "tags": []
   },
   "outputs": [],
   "source": [
    "nn_learner = Learner(loss, model_nn, opt, config.num_epochs)\n",
    "acc_nn = ClfCallback(nn_learner, config.bs, training_data_x , testing_data_x, training_data_y, testing_data_y)\n",
    "nn_learner.set_callbacks([acc_nn])"
   ]
  },
  {
   "cell_type": "code",
   "execution_count": 21,
   "id": "877b6cc7",
   "metadata": {
    "execution": {
     "iopub.execute_input": "2022-07-12T20:10:00.466560Z",
     "iopub.status.busy": "2022-07-12T20:10:00.462585Z",
     "iopub.status.idle": "2022-07-12T20:10:00.474556Z",
     "shell.execute_reply": "2022-07-12T20:10:00.475034Z"
    },
    "papermill": {
     "duration": 0.044018,
     "end_time": "2022-07-12T20:10:00.475174",
     "exception": false,
     "start_time": "2022-07-12T20:10:00.431156",
     "status": "completed"
    },
    "tags": []
   },
   "outputs": [],
   "source": [
    "lr_learner = Learner(loss, model_lr, opt, config.num_epochs)\n",
    "acc_lr = ClfCallback(lr_learner, config.bs, training_data_x , testing_data_x, training_data_y, testing_data_y)\n",
    "lr_learner.set_callbacks([acc_lr])"
   ]
  },
  {
   "cell_type": "code",
   "execution_count": 22,
   "id": "d9b133c3",
   "metadata": {
    "execution": {
     "iopub.execute_input": "2022-07-12T20:10:00.534385Z",
     "iopub.status.busy": "2022-07-12T20:10:00.533582Z",
     "iopub.status.idle": "2022-07-12T20:11:15.390460Z",
     "shell.execute_reply": "2022-07-12T20:11:15.391236Z"
    },
    "papermill": {
     "duration": 74.888722,
     "end_time": "2022-07-12T20:11:15.391374",
     "exception": false,
     "start_time": "2022-07-12T20:10:00.502652",
     "status": "completed"
    },
    "tags": []
   },
   "outputs": [
    {
     "name": "stdout",
     "output_type": "stream",
     "text": [
      "Epoch 0, Loss 0.2536\n",
      "Training Accuracy: 0.6178, Testing Accuracy: 0.6013\n",
      "\n"
     ]
    },
    {
     "name": "stdout",
     "output_type": "stream",
     "text": [
      "Epoch 10, Loss 0.0933\n",
      "Training Accuracy: 0.9136, Testing Accuracy: 0.9209\n",
      "\n"
     ]
    },
    {
     "name": "stdout",
     "output_type": "stream",
     "text": [
      "Epoch 20, Loss 0.0576\n",
      "Training Accuracy: 0.9390, Testing Accuracy: 0.9501\n",
      "\n"
     ]
    },
    {
     "name": "stdout",
     "output_type": "stream",
     "text": [
      "Epoch 30, Loss 0.0449\n",
      "Training Accuracy: 0.9521, Testing Accuracy: 0.9587\n",
      "\n"
     ]
    },
    {
     "name": "stdout",
     "output_type": "stream",
     "text": [
      "Epoch 40, Loss 0.0386\n",
      "Training Accuracy: 0.9576, Testing Accuracy: 0.9617\n",
      "\n"
     ]
    },
    {
     "name": "stdout",
     "output_type": "stream",
     "text": [
      "Epoch 50, Loss 0.0347\n",
      "Training Accuracy: 0.9609, Testing Accuracy: 0.9677\n",
      "\n"
     ]
    },
    {
     "name": "stdout",
     "output_type": "stream",
     "text": [
      "Epoch 60, Loss 0.0321\n",
      "Training Accuracy: 0.9634, Testing Accuracy: 0.9682\n",
      "\n"
     ]
    },
    {
     "name": "stdout",
     "output_type": "stream",
     "text": [
      "Epoch 70, Loss 0.0302\n",
      "Training Accuracy: 0.9654, Testing Accuracy: 0.9693\n",
      "\n"
     ]
    },
    {
     "name": "stdout",
     "output_type": "stream",
     "text": [
      "Epoch 80, Loss 0.0287\n",
      "Training Accuracy: 0.9664, Testing Accuracy: 0.9693\n",
      "\n"
     ]
    },
    {
     "name": "stdout",
     "output_type": "stream",
     "text": [
      "Epoch 90, Loss 0.0275\n",
      "Training Accuracy: 0.9679, Testing Accuracy: 0.9703\n",
      "\n"
     ]
    },
    {
     "name": "stdout",
     "output_type": "stream",
     "text": [
      "Epoch 100, Loss 0.0264\n",
      "Training Accuracy: 0.9690, Testing Accuracy: 0.9708\n",
      "\n"
     ]
    },
    {
     "name": "stdout",
     "output_type": "stream",
     "text": [
      "Epoch 110, Loss 0.0255\n",
      "Training Accuracy: 0.9700, Testing Accuracy: 0.9703\n",
      "\n"
     ]
    },
    {
     "name": "stdout",
     "output_type": "stream",
     "text": [
      "Epoch 120, Loss 0.0247\n",
      "Training Accuracy: 0.9708, Testing Accuracy: 0.9703\n",
      "\n"
     ]
    },
    {
     "name": "stdout",
     "output_type": "stream",
     "text": [
      "Epoch 130, Loss 0.0239\n",
      "Training Accuracy: 0.9717, Testing Accuracy: 0.9708\n",
      "\n"
     ]
    },
    {
     "name": "stdout",
     "output_type": "stream",
     "text": [
      "Epoch 140, Loss 0.0233\n",
      "Training Accuracy: 0.9725, Testing Accuracy: 0.9713\n",
      "\n"
     ]
    },
    {
     "name": "stdout",
     "output_type": "stream",
     "text": [
      "Epoch 150, Loss 0.0227\n",
      "Training Accuracy: 0.9731, Testing Accuracy: 0.9713\n",
      "\n"
     ]
    },
    {
     "name": "stdout",
     "output_type": "stream",
     "text": [
      "Epoch 160, Loss 0.0221\n",
      "Training Accuracy: 0.9736, Testing Accuracy: 0.9723\n",
      "\n"
     ]
    },
    {
     "name": "stdout",
     "output_type": "stream",
     "text": [
      "Epoch 170, Loss 0.0215\n",
      "Training Accuracy: 0.9745, Testing Accuracy: 0.9723\n",
      "\n"
     ]
    },
    {
     "name": "stdout",
     "output_type": "stream",
     "text": [
      "Epoch 180, Loss 0.021\n",
      "Training Accuracy: 0.9750, Testing Accuracy: 0.9733\n",
      "\n"
     ]
    },
    {
     "name": "stdout",
     "output_type": "stream",
     "text": [
      "Epoch 190, Loss 0.0205\n",
      "Training Accuracy: 0.9754, Testing Accuracy: 0.9738\n",
      "\n"
     ]
    },
    {
     "name": "stdout",
     "output_type": "stream",
     "text": [
      "Epoch 200, Loss 0.0201\n",
      "Training Accuracy: 0.9760, Testing Accuracy: 0.9743\n",
      "\n"
     ]
    },
    {
     "name": "stdout",
     "output_type": "stream",
     "text": [
      "Epoch 210, Loss 0.0196\n",
      "Training Accuracy: 0.9770, Testing Accuracy: 0.9743\n",
      "\n"
     ]
    },
    {
     "name": "stdout",
     "output_type": "stream",
     "text": [
      "Epoch 220, Loss 0.0192\n",
      "Training Accuracy: 0.9776, Testing Accuracy: 0.9743\n",
      "\n"
     ]
    },
    {
     "name": "stdout",
     "output_type": "stream",
     "text": [
      "Epoch 230, Loss 0.0188\n",
      "Training Accuracy: 0.9788, Testing Accuracy: 0.9743\n",
      "\n"
     ]
    },
    {
     "name": "stdout",
     "output_type": "stream",
     "text": [
      "Epoch 240, Loss 0.0184\n",
      "Training Accuracy: 0.9790, Testing Accuracy: 0.9738\n",
      "\n"
     ]
    },
    {
     "data": {
      "text/plain": [
       "0.0681130464947504"
      ]
     },
     "execution_count": 22,
     "metadata": {},
     "output_type": "execute_result"
    }
   ],
   "source": [
    "nn_learner.train_loop(dl)"
   ]
  },
  {
   "cell_type": "code",
   "execution_count": 23,
   "id": "e0163366",
   "metadata": {
    "execution": {
     "iopub.execute_input": "2022-07-12T20:11:15.463172Z",
     "iopub.status.busy": "2022-07-12T20:11:15.462629Z",
     "iopub.status.idle": "2022-07-12T20:11:29.125144Z",
     "shell.execute_reply": "2022-07-12T20:11:29.125957Z"
    },
    "papermill": {
     "duration": 13.704003,
     "end_time": "2022-07-12T20:11:29.126095",
     "exception": false,
     "start_time": "2022-07-12T20:11:15.422092",
     "status": "completed"
    },
    "tags": []
   },
   "outputs": [
    {
     "name": "stdout",
     "output_type": "stream",
     "text": [
      "Epoch 0, Loss 0.2586\n",
      "Training Accuracy: 0.6234, Testing Accuracy: 0.6295\n",
      "\n"
     ]
    },
    {
     "name": "stdout",
     "output_type": "stream",
     "text": [
      "Epoch 10, Loss 0.1036\n",
      "Training Accuracy: 0.9135, Testing Accuracy: 0.9239\n",
      "\n"
     ]
    },
    {
     "name": "stdout",
     "output_type": "stream",
     "text": [
      "Epoch 20, Loss 0.0789\n",
      "Training Accuracy: 0.9319, Testing Accuracy: 0.9395\n",
      "\n"
     ]
    },
    {
     "name": "stdout",
     "output_type": "stream",
     "text": [
      "Epoch 30, Loss 0.0678\n",
      "Training Accuracy: 0.9401, Testing Accuracy: 0.9461\n",
      "\n"
     ]
    },
    {
     "name": "stdout",
     "output_type": "stream",
     "text": [
      "Epoch 40, Loss 0.0612\n",
      "Training Accuracy: 0.9436, Testing Accuracy: 0.9506\n",
      "\n"
     ]
    },
    {
     "name": "stdout",
     "output_type": "stream",
     "text": [
      "Epoch 50, Loss 0.0567\n",
      "Training Accuracy: 0.9459, Testing Accuracy: 0.9531\n",
      "\n"
     ]
    },
    {
     "name": "stdout",
     "output_type": "stream",
     "text": [
      "Epoch 60, Loss 0.0535\n",
      "Training Accuracy: 0.9486, Testing Accuracy: 0.9556\n",
      "\n"
     ]
    },
    {
     "name": "stdout",
     "output_type": "stream",
     "text": [
      "Epoch 70, Loss 0.051\n",
      "Training Accuracy: 0.9503, Testing Accuracy: 0.9582\n",
      "\n"
     ]
    },
    {
     "name": "stdout",
     "output_type": "stream",
     "text": [
      "Epoch 80, Loss 0.049\n",
      "Training Accuracy: 0.9516, Testing Accuracy: 0.9597\n",
      "\n"
     ]
    },
    {
     "name": "stdout",
     "output_type": "stream",
     "text": [
      "Epoch 90, Loss 0.0473\n",
      "Training Accuracy: 0.9524, Testing Accuracy: 0.9602\n",
      "\n"
     ]
    },
    {
     "name": "stdout",
     "output_type": "stream",
     "text": [
      "Epoch 100, Loss 0.0459\n",
      "Training Accuracy: 0.9526, Testing Accuracy: 0.9617\n",
      "\n"
     ]
    },
    {
     "name": "stdout",
     "output_type": "stream",
     "text": [
      "Epoch 110, Loss 0.0447\n",
      "Training Accuracy: 0.9538, Testing Accuracy: 0.9627\n",
      "\n"
     ]
    },
    {
     "name": "stdout",
     "output_type": "stream",
     "text": [
      "Epoch 120, Loss 0.0437\n",
      "Training Accuracy: 0.9547, Testing Accuracy: 0.9637\n",
      "\n"
     ]
    },
    {
     "name": "stdout",
     "output_type": "stream",
     "text": [
      "Epoch 130, Loss 0.0428\n",
      "Training Accuracy: 0.9550, Testing Accuracy: 0.9642\n",
      "\n"
     ]
    },
    {
     "name": "stdout",
     "output_type": "stream",
     "text": [
      "Epoch 140, Loss 0.042\n",
      "Training Accuracy: 0.9559, Testing Accuracy: 0.9642\n",
      "\n"
     ]
    },
    {
     "name": "stdout",
     "output_type": "stream",
     "text": [
      "Epoch 150, Loss 0.0412\n",
      "Training Accuracy: 0.9570, Testing Accuracy: 0.9652\n",
      "\n"
     ]
    },
    {
     "name": "stdout",
     "output_type": "stream",
     "text": [
      "Epoch 160, Loss 0.0406\n",
      "Training Accuracy: 0.9578, Testing Accuracy: 0.9652\n",
      "\n"
     ]
    },
    {
     "name": "stdout",
     "output_type": "stream",
     "text": [
      "Epoch 170, Loss 0.04\n",
      "Training Accuracy: 0.9582, Testing Accuracy: 0.9657\n",
      "\n"
     ]
    },
    {
     "name": "stdout",
     "output_type": "stream",
     "text": [
      "Epoch 180, Loss 0.0394\n",
      "Training Accuracy: 0.9585, Testing Accuracy: 0.9657\n",
      "\n"
     ]
    },
    {
     "name": "stdout",
     "output_type": "stream",
     "text": [
      "Epoch 190, Loss 0.0389\n",
      "Training Accuracy: 0.9588, Testing Accuracy: 0.9657\n",
      "\n"
     ]
    },
    {
     "name": "stdout",
     "output_type": "stream",
     "text": [
      "Epoch 200, Loss 0.0384\n",
      "Training Accuracy: 0.9593, Testing Accuracy: 0.9662\n",
      "\n"
     ]
    },
    {
     "name": "stdout",
     "output_type": "stream",
     "text": [
      "Epoch 210, Loss 0.038\n",
      "Training Accuracy: 0.9598, Testing Accuracy: 0.9662\n",
      "\n"
     ]
    },
    {
     "name": "stdout",
     "output_type": "stream",
     "text": [
      "Epoch 220, Loss 0.0376\n",
      "Training Accuracy: 0.9599, Testing Accuracy: 0.9672\n",
      "\n"
     ]
    },
    {
     "name": "stdout",
     "output_type": "stream",
     "text": [
      "Epoch 230, Loss 0.0372\n",
      "Training Accuracy: 0.9601, Testing Accuracy: 0.9672\n",
      "\n"
     ]
    },
    {
     "name": "stdout",
     "output_type": "stream",
     "text": [
      "Epoch 240, Loss 0.0369\n",
      "Training Accuracy: 0.9604, Testing Accuracy: 0.9677\n",
      "\n"
     ]
    },
    {
     "data": {
      "text/plain": [
       "0.0553321568353214"
      ]
     },
     "execution_count": 23,
     "metadata": {},
     "output_type": "execute_result"
    }
   ],
   "source": [
    "lr_learner.train_loop(dl)"
   ]
  },
  {
   "cell_type": "code",
   "execution_count": 24,
   "id": "ca410940",
   "metadata": {
    "execution": {
     "iopub.execute_input": "2022-07-12T20:11:29.207437Z",
     "iopub.status.busy": "2022-07-12T20:11:29.206898Z",
     "iopub.status.idle": "2022-07-12T20:11:29.418906Z",
     "shell.execute_reply": "2022-07-12T20:11:29.418411Z"
    },
    "papermill": {
     "duration": 0.256415,
     "end_time": "2022-07-12T20:11:29.419024",
     "exception": false,
     "start_time": "2022-07-12T20:11:29.162609",
     "status": "completed"
    },
    "tags": []
   },
   "outputs": [
    {
     "data": {
      "text/plain": [
       "<matplotlib.legend.Legend at 0x7f6e2475ec50>"
      ]
     },
     "execution_count": 24,
     "metadata": {},
     "output_type": "execute_result"
    },
    {
     "data": {
      "image/png": "[encoded data removed]",
      "text/plain": [
       "<Figure size 1080x720 with 1 Axes>"
      ]
     },
     "metadata": {
      "needs_background": "light"
     },
     "output_type": "display_data"
    }
   ],
   "source": [
    "#comparing the results of NN and LR\n",
    "plt.figure(figsize=(15,10))\n",
    "\n",
    "# Neural Network plots\n",
    "plt.plot(acc_nn.accuracies, 'r-', label = \"Training Accuracies - NN\")\n",
    "plt.plot(acc_nn.test_accuracies, 'g-', label = \"Testing Accuracies - NN\")\n",
    "\n",
    "# Logistic Regression plots\n",
    "plt.plot(acc_lr.accuracies, 'k-', label = \"Training Accuracies - LR\")\n",
    "plt.plot(acc_lr.test_accuracies, 'b-', label = \"Testing Accuracies - LR\")\n",
    "plt.legend()"
   ]
  },
  {
   "cell_type": "markdown",
   "id": "80dfb35c",
   "metadata": {
    "papermill": {
     "duration": 0.042197,
     "end_time": "2022-07-12T20:11:29.503645",
     "exception": false,
     "start_time": "2022-07-12T20:11:29.461448",
     "status": "completed"
    },
    "tags": []
   },
   "source": [
    "#### Plotting the outputs of this layer of the NN.\n"
   ]
  },
  {
   "cell_type": "code",
   "execution_count": 25,
   "id": "45eb2ff5",
   "metadata": {
    "execution": {
     "iopub.execute_input": "2022-07-12T20:11:29.611041Z",
     "iopub.status.busy": "2022-07-12T20:11:29.609758Z",
     "iopub.status.idle": "2022-07-12T20:11:29.618625Z",
     "shell.execute_reply": "2022-07-12T20:11:29.618123Z"
    },
    "papermill": {
     "duration": 0.07298,
     "end_time": "2022-07-12T20:11:29.618738",
     "exception": false,
     "start_time": "2022-07-12T20:11:29.545758",
     "status": "completed"
    },
    "tags": []
   },
   "outputs": [],
   "source": [
    "new_model = Model(layers[:-2])\n",
    "testing_plot = new_model(testing_data_x)"
   ]
  },
  {
   "cell_type": "code",
   "execution_count": 26,
   "id": "4c0a5485",
   "metadata": {
    "execution": {
     "iopub.execute_input": "2022-07-12T20:11:29.708753Z",
     "iopub.status.busy": "2022-07-12T20:11:29.708151Z",
     "iopub.status.idle": "2022-07-12T20:11:29.876683Z",
     "shell.execute_reply": "2022-07-12T20:11:29.876221Z"
    },
    "papermill": {
     "duration": 0.215586,
     "end_time": "2022-07-12T20:11:29.876793",
     "exception": false,
     "start_time": "2022-07-12T20:11:29.661207",
     "status": "completed"
    },
    "tags": []
   },
   "outputs": [
    {
     "data": {
      "text/plain": [
       "Text(0.5, 1.0, 'Outputs')"
      ]
     },
     "execution_count": 26,
     "metadata": {},
     "output_type": "execute_result"
    },
    {
     "data": {
      "image/png": "[encoded data removed]",
      "text/plain": [
       "<Figure size 576x504 with 1 Axes>"
      ]
     },
     "metadata": {
      "needs_background": "light"
     },
     "output_type": "display_data"
    }
   ],
   "source": [
    "# Plotting the scatter plot of points and color coding by class\n",
    "plt.figure(figsize=(8,7))\n",
    "plt.scatter(testing_plot[:,0], testing_plot[:,1], alpha = 0.1, c = y_test.ravel());\n",
    "plt.title('Outputs')"
   ]
  },
  {
   "cell_type": "markdown",
   "id": "a74fcf8f",
   "metadata": {
    "papermill": {
     "duration": 0.038918,
     "end_time": "2022-07-12T20:11:29.954680",
     "exception": false,
     "start_time": "2022-07-12T20:11:29.915762",
     "status": "completed"
    },
    "tags": []
   },
   "source": [
    "Probability contours"
   ]
  },
  {
   "cell_type": "code",
   "execution_count": 27,
   "id": "d0afc8e3",
   "metadata": {
    "execution": {
     "iopub.execute_input": "2022-07-12T20:11:30.079402Z",
     "iopub.status.busy": "2022-07-12T20:11:30.078532Z",
     "iopub.status.idle": "2022-07-12T20:11:30.082811Z",
     "shell.execute_reply": "2022-07-12T20:11:30.082405Z"
    },
    "papermill": {
     "duration": 0.089363,
     "end_time": "2022-07-12T20:11:30.082917",
     "exception": false,
     "start_time": "2022-07-12T20:11:29.993554",
     "status": "completed"
    },
    "tags": []
   },
   "outputs": [],
   "source": [
    "model_prob = Model(layers[-2:]) "
   ]
  },
  {
   "cell_type": "code",
   "execution_count": 28,
   "id": "9b96e238",
   "metadata": {
    "execution": {
     "iopub.execute_input": "2022-07-12T20:11:30.169509Z",
     "iopub.status.busy": "2022-07-12T20:11:30.168867Z",
     "iopub.status.idle": "2022-07-12T20:11:30.181867Z",
     "shell.execute_reply": "2022-07-12T20:11:30.181342Z"
    },
    "papermill": {
     "duration": 0.059824,
     "end_time": "2022-07-12T20:11:30.181986",
     "exception": false,
     "start_time": "2022-07-12T20:11:30.122162",
     "status": "completed"
    },
    "tags": []
   },
   "outputs": [],
   "source": [
    "#creating the x and y ranges according to the above generated plot.\n",
    "x_range = np.linspace(-4, 1, 100) \n",
    "y_range = np.linspace(-6, 6, 100) \n",
    "x_grid, y_grid = np.meshgrid(x_range, y_range) # x_grid and y_grig are of size 100 X 100\n",
    "\n",
    "# converting x_grid and y_grid to continuous arrays\n",
    "x_gridflat = np.ravel(x_grid)\n",
    "y_gridflat = np.ravel(y_grid)\n",
    "\n",
    "# The last layer of the current model takes two columns as input. Hence transpose of np.vstack() is required.\n",
    "X = np.vstack((x_gridflat, y_gridflat)).T\n",
    "\n",
    "prob_contour = model_prob(X).reshape(100,100) "
   ]
  },
  {
   "cell_type": "code",
   "execution_count": 29,
   "id": "da72499a",
   "metadata": {
    "execution": {
     "iopub.execute_input": "2022-07-12T20:11:30.276858Z",
     "iopub.status.busy": "2022-07-12T20:11:30.276267Z",
     "iopub.status.idle": "2022-07-12T20:11:30.497012Z",
     "shell.execute_reply": "2022-07-12T20:11:30.497465Z"
    },
    "papermill": {
     "duration": 0.270228,
     "end_time": "2022-07-12T20:11:30.497605",
     "exception": false,
     "start_time": "2022-07-12T20:11:30.227377",
     "status": "completed"
    },
    "tags": []
   },
   "outputs": [
    {
     "data": {
      "image/png": "[encoded data removed]",
      "text/plain": [
       "<Figure size 720x648 with 1 Axes>"
      ]
     },
     "metadata": {
      "needs_background": "light"
     },
     "output_type": "display_data"
    }
   ],
   "source": [
    "plt.figure(figsize=(10,9))\n",
    "plt.scatter(testing_plot[:,0], testing_plot[:,1], alpha = 0.1, c = y_test.ravel())\n",
    "contours = plt.contour(x_grid,y_grid,prob_contour)\n",
    "plt.title('Probability Contours')\n",
    "plt.clabel(contours, inline = True );"
   ]
  },
  {
   "cell_type": "code",
   "execution_count": null,
   "id": "e81b4ac7",
   "metadata": {
    "papermill": {
     "duration": 0.047975,
     "end_time": "2022-07-12T20:11:30.592470",
     "exception": false,
     "start_time": "2022-07-12T20:11:30.544495",
     "status": "completed"
    },
    "tags": []
   },
   "outputs": [],
   "source": []
  }
 ],
 "metadata": {
  "kernelspec": {
   "display_name": "Python 3",
   "language": "python",
   "name": "python3"
  },
  "language_info": {
   "codemirror_mode": {
    "name": "ipython",
    "version": 3
   },
   "file_extension": ".py",
   "mimetype": "text/x-python",
   "name": "python",
   "nbconvert_exporter": "python",
   "pygments_lexer": "ipython3",
   "version": "3.6.15"
  },
  "papermill": {
   "default_parameters": {},
   "duration": 96.597257,
   "end_time": "2022-07-12T20:11:31.061762",
   "environment_variables": {},
   "exception": null,
   "input_path": "2020-08-11-part2.ipynb",
   "output_path": "2020-08-11-part2.ipynb",
   "parameters": {},
   "start_time": "2022-07-12T20:09:54.464505",
   "version": "2.3.3"
  }
 },
 "nbformat": 4,
 "nbformat_minor": 5
}