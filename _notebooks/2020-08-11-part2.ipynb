{
 "cells": [
  {
   "cell_type": "markdown",
   "id": "98380cd3",
   "metadata": {
    "papermill": {
     "duration": 0.02935,
     "end_time": "2022-11-27T20:09:37.452023",
     "exception": false,
     "start_time": "2022-11-27T20:09:37.422673",
     "status": "completed"
    },
    "tags": []
   },
   "source": [
    "# Distinguish Your Own Digits (DYOD)"
   ]
  },
  {
   "cell_type": "markdown",
   "id": "ef31240d",
   "metadata": {
    "papermill": {
     "duration": 0.023862,
     "end_time": "2022-11-27T20:09:37.500468",
     "exception": false,
     "start_time": "2022-11-27T20:09:37.476606",
     "status": "completed"
    },
    "tags": []
   },
   "source": [
    "You are going to write a classifier that distinguishes between the number 3 and number 8."
   ]
  },
  {
   "cell_type": "code",
   "execution_count": 1,
   "id": "b15c8646",
   "metadata": {
    "execution": {
     "iopub.execute_input": "2022-11-27T20:09:37.559304Z",
     "iopub.status.busy": "2022-11-27T20:09:37.558694Z",
     "iopub.status.idle": "2022-11-27T20:09:37.570006Z",
     "shell.execute_reply": "2022-11-27T20:09:37.569497Z"
    },
    "papermill": {
     "duration": 0.045953,
     "end_time": "2022-11-27T20:09:37.570138",
     "exception": false,
     "start_time": "2022-11-27T20:09:37.524185",
     "status": "completed"
    },
    "tags": []
   },
   "outputs": [],
   "source": [
    "%load_ext autoreload\n",
    "%autoreload 2"
   ]
  },
  {
   "cell_type": "code",
   "execution_count": 2,
   "id": "22ef38dc",
   "metadata": {
    "execution": {
     "iopub.execute_input": "2022-11-27T20:09:37.624110Z",
     "iopub.status.busy": "2022-11-27T20:09:37.623507Z",
     "iopub.status.idle": "2022-11-27T20:09:38.203932Z",
     "shell.execute_reply": "2022-11-27T20:09:38.203385Z"
    },
    "papermill": {
     "duration": 0.609582,
     "end_time": "2022-11-27T20:09:38.204067",
     "exception": false,
     "start_time": "2022-11-27T20:09:37.594485",
     "status": "completed"
    },
    "tags": []
   },
   "outputs": [],
   "source": [
    "%matplotlib inline\n",
    "import numpy as np\n",
    "import matplotlib.pyplot as plt\n",
    "import pandas as pd"
   ]
  },
  {
   "cell_type": "markdown",
   "id": "ba036198",
   "metadata": {
    "papermill": {
     "duration": 0.032981,
     "end_time": "2022-11-27T20:09:38.262102",
     "exception": false,
     "start_time": "2022-11-27T20:09:38.229121",
     "status": "completed"
    },
    "tags": []
   },
   "source": [
    "From the command line run `pip install mnist`. This is a library that will help you bring down the mnist dataset. If you run this from a notebook, you need to put  `!pip install mnist` in a cell by itself."
   ]
  },
  {
   "cell_type": "code",
   "execution_count": 3,
   "id": "bb6ad8a1",
   "metadata": {
    "execution": {
     "iopub.execute_input": "2022-11-27T20:09:38.322341Z",
     "iopub.status.busy": "2022-11-27T20:09:38.321726Z",
     "iopub.status.idle": "2022-11-27T20:09:40.492673Z",
     "shell.execute_reply": "2022-11-27T20:09:40.492001Z"
    },
    "papermill": {
     "duration": 2.204331,
     "end_time": "2022-11-27T20:09:40.492821",
     "exception": false,
     "start_time": "2022-11-27T20:09:38.288490",
     "status": "completed"
    },
    "tags": []
   },
   "outputs": [
    {
     "name": "stdout",
     "output_type": "stream",
     "text": [
      "Collecting mnist\r\n"
     ]
    },
    {
     "name": "stdout",
     "output_type": "stream",
     "text": [
      "  Downloading mnist-0.2.2-py2.py3-none-any.whl (3.5 kB)\r\n",
      "Requirement already satisfied: numpy in /opt/hostedtoolcache/Python/3.6.15/x64/lib/python3.6/site-packages (from mnist) (1.19.5)\r\n"
     ]
    },
    {
     "name": "stdout",
     "output_type": "stream",
     "text": [
      "Installing collected packages: mnist\r\n"
     ]
    },
    {
     "name": "stdout",
     "output_type": "stream",
     "text": [
      "Successfully installed mnist-0.2.2\r\n"
     ]
    }
   ],
   "source": [
    "!pip install mnist"
   ]
  },
  {
   "cell_type": "markdown",
   "id": "69df9c9a",
   "metadata": {
    "papermill": {
     "duration": 0.0254,
     "end_time": "2022-11-27T20:09:40.543931",
     "exception": false,
     "start_time": "2022-11-27T20:09:40.518531",
     "status": "completed"
    },
    "tags": []
   },
   "source": [
    "## Preparing the Data"
   ]
  },
  {
   "cell_type": "code",
   "execution_count": 4,
   "id": "7f69d806",
   "metadata": {
    "execution": {
     "iopub.execute_input": "2022-11-27T20:09:40.598668Z",
     "iopub.status.busy": "2022-11-27T20:09:40.598069Z",
     "iopub.status.idle": "2022-11-27T20:09:40.614256Z",
     "shell.execute_reply": "2022-11-27T20:09:40.613756Z"
    },
    "papermill": {
     "duration": 0.045375,
     "end_time": "2022-11-27T20:09:40.614372",
     "exception": false,
     "start_time": "2022-11-27T20:09:40.568997",
     "status": "completed"
    },
    "tags": []
   },
   "outputs": [],
   "source": [
    "import mnist"
   ]
  },
  {
   "cell_type": "code",
   "execution_count": 5,
   "id": "a411e44f",
   "metadata": {
    "execution": {
     "iopub.execute_input": "2022-11-27T20:09:40.669990Z",
     "iopub.status.busy": "2022-11-27T20:09:40.669392Z",
     "iopub.status.idle": "2022-11-27T20:09:41.500403Z",
     "shell.execute_reply": "2022-11-27T20:09:41.498952Z"
    },
    "papermill": {
     "duration": 0.860909,
     "end_time": "2022-11-27T20:09:41.500551",
     "exception": false,
     "start_time": "2022-11-27T20:09:40.639642",
     "status": "completed"
    },
    "tags": []
   },
   "outputs": [],
   "source": [
    "train_images = mnist.train_images()\n",
    "train_labels = mnist.train_labels()"
   ]
  },
  {
   "cell_type": "code",
   "execution_count": 6,
   "id": "dceab3a5",
   "metadata": {
    "execution": {
     "iopub.execute_input": "2022-11-27T20:09:41.559458Z",
     "iopub.status.busy": "2022-11-27T20:09:41.558852Z",
     "iopub.status.idle": "2022-11-27T20:09:41.571432Z",
     "shell.execute_reply": "2022-11-27T20:09:41.570860Z"
    },
    "papermill": {
     "duration": 0.045581,
     "end_time": "2022-11-27T20:09:41.571543",
     "exception": false,
     "start_time": "2022-11-27T20:09:41.525962",
     "status": "completed"
    },
    "tags": []
   },
   "outputs": [
    {
     "data": {
      "text/plain": [
       "((60000, 28, 28), (60000,))"
      ]
     },
     "execution_count": 6,
     "metadata": {},
     "output_type": "execute_result"
    }
   ],
   "source": [
    "train_images.shape, train_labels.shape"
   ]
  },
  {
   "cell_type": "code",
   "execution_count": 7,
   "id": "f50dc2bb",
   "metadata": {
    "execution": {
     "iopub.execute_input": "2022-11-27T20:09:41.633339Z",
     "iopub.status.busy": "2022-11-27T20:09:41.632714Z",
     "iopub.status.idle": "2022-11-27T20:09:42.263110Z",
     "shell.execute_reply": "2022-11-27T20:09:42.261723Z"
    },
    "papermill": {
     "duration": 0.666526,
     "end_time": "2022-11-27T20:09:42.263262",
     "exception": false,
     "start_time": "2022-11-27T20:09:41.596736",
     "status": "completed"
    },
    "tags": []
   },
   "outputs": [],
   "source": [
    "test_images = mnist.test_images()\n",
    "test_labels = mnist.test_labels()"
   ]
  },
  {
   "cell_type": "code",
   "execution_count": 8,
   "id": "fc38cf1b",
   "metadata": {
    "execution": {
     "iopub.execute_input": "2022-11-27T20:09:42.323069Z",
     "iopub.status.busy": "2022-11-27T20:09:42.319120Z",
     "iopub.status.idle": "2022-11-27T20:09:42.333863Z",
     "shell.execute_reply": "2022-11-27T20:09:42.333386Z"
    },
    "papermill": {
     "duration": 0.044635,
     "end_time": "2022-11-27T20:09:42.333975",
     "exception": false,
     "start_time": "2022-11-27T20:09:42.289340",
     "status": "completed"
    },
    "tags": []
   },
   "outputs": [
    {
     "data": {
      "text/plain": [
       "((10000, 28, 28), (10000,))"
      ]
     },
     "execution_count": 8,
     "metadata": {},
     "output_type": "execute_result"
    }
   ],
   "source": [
    "test_images.shape, test_labels.shape"
   ]
  },
  {
   "cell_type": "code",
   "execution_count": 9,
   "id": "f9ed8fe0",
   "metadata": {
    "execution": {
     "iopub.execute_input": "2022-11-27T20:09:42.389530Z",
     "iopub.status.busy": "2022-11-27T20:09:42.388951Z",
     "iopub.status.idle": "2022-11-27T20:09:42.530089Z",
     "shell.execute_reply": "2022-11-27T20:09:42.529587Z"
    },
    "papermill": {
     "duration": 0.170971,
     "end_time": "2022-11-27T20:09:42.530217",
     "exception": false,
     "start_time": "2022-11-27T20:09:42.359246",
     "status": "completed"
    },
    "tags": []
   },
   "outputs": [
    {
     "name": "stdout",
     "output_type": "stream",
     "text": [
      "2\n"
     ]
    },
    {
     "data": {
      "text/plain": [
       "<matplotlib.image.AxesImage at 0x7f6468997da0>"
      ]
     },
     "execution_count": 9,
     "metadata": {},
     "output_type": "execute_result"
    },
    {
     "data": {
      "image/png": "[encoded data removed]",
      "text/plain": [
       "<Figure size 432x288 with 1 Axes>"
      ]
     },
     "metadata": {
      "needs_background": "light"
     },
     "output_type": "display_data"
    }
   ],
   "source": [
    "image_index = 7776 # You may select anything up to 60,000\n",
    "print(train_labels[image_index]) \n",
    "plt.imshow(train_images[image_index], cmap='Greys')"
   ]
  },
  {
   "cell_type": "markdown",
   "id": "a8d2388d",
   "metadata": {
    "papermill": {
     "duration": 0.027368,
     "end_time": "2022-11-27T20:09:42.585903",
     "exception": false,
     "start_time": "2022-11-27T20:09:42.558535",
     "status": "completed"
    },
    "tags": []
   },
   "source": [
    "## Filter data to get 3 and 8 out"
   ]
  },
  {
   "cell_type": "code",
   "execution_count": 10,
   "id": "776f7fc7",
   "metadata": {
    "execution": {
     "iopub.execute_input": "2022-11-27T20:09:42.647580Z",
     "iopub.status.busy": "2022-11-27T20:09:42.646963Z",
     "iopub.status.idle": "2022-11-27T20:09:42.664121Z",
     "shell.execute_reply": "2022-11-27T20:09:42.663620Z"
    },
    "papermill": {
     "duration": 0.051249,
     "end_time": "2022-11-27T20:09:42.664264",
     "exception": false,
     "start_time": "2022-11-27T20:09:42.613015",
     "status": "completed"
    },
    "tags": []
   },
   "outputs": [],
   "source": [
    "train_filter = np.where((train_labels == 3 ) | (train_labels == 8))\n",
    "test_filter = np.where((test_labels == 3) | (test_labels == 8))\n",
    "X_train, y_train = train_images[train_filter], train_labels[train_filter]\n",
    "X_test, y_test = test_images[test_filter], test_labels[test_filter]"
   ]
  },
  {
   "cell_type": "markdown",
   "id": "948f0b7e",
   "metadata": {
    "papermill": {
     "duration": 0.026395,
     "end_time": "2022-11-27T20:09:42.718101",
     "exception": false,
     "start_time": "2022-11-27T20:09:42.691706",
     "status": "completed"
    },
    "tags": []
   },
   "source": [
    "We normalize the pizel values in the 0 to 1 range"
   ]
  },
  {
   "cell_type": "code",
   "execution_count": 11,
   "id": "ee4c2166",
   "metadata": {
    "execution": {
     "iopub.execute_input": "2022-11-27T20:09:42.774359Z",
     "iopub.status.busy": "2022-11-27T20:09:42.773779Z",
     "iopub.status.idle": "2022-11-27T20:09:42.826009Z",
     "shell.execute_reply": "2022-11-27T20:09:42.825367Z"
    },
    "papermill": {
     "duration": 0.081771,
     "end_time": "2022-11-27T20:09:42.826159",
     "exception": false,
     "start_time": "2022-11-27T20:09:42.744388",
     "status": "completed"
    },
    "tags": []
   },
   "outputs": [],
   "source": [
    "X_train = X_train/255.\n",
    "X_test = X_test/255."
   ]
  },
  {
   "cell_type": "markdown",
   "id": "ddcf4fab",
   "metadata": {
    "papermill": {
     "duration": 0.026824,
     "end_time": "2022-11-27T20:09:42.880156",
     "exception": false,
     "start_time": "2022-11-27T20:09:42.853332",
     "status": "completed"
    },
    "tags": []
   },
   "source": [
    "And setup the labels as 1 (when the digit is 3) and 0 (when the digit is 8)"
   ]
  },
  {
   "cell_type": "code",
   "execution_count": 12,
   "id": "7dc908f2",
   "metadata": {
    "execution": {
     "iopub.execute_input": "2022-11-27T20:09:42.937939Z",
     "iopub.status.busy": "2022-11-27T20:09:42.937239Z",
     "iopub.status.idle": "2022-11-27T20:09:42.949953Z",
     "shell.execute_reply": "2022-11-27T20:09:42.950404Z"
    },
    "papermill": {
     "duration": 0.043703,
     "end_time": "2022-11-27T20:09:42.950539",
     "exception": false,
     "start_time": "2022-11-27T20:09:42.906836",
     "status": "completed"
    },
    "tags": []
   },
   "outputs": [],
   "source": [
    "y_train = 1*(y_train==3)\n",
    "y_test = 1*(y_test==3)"
   ]
  },
  {
   "cell_type": "code",
   "execution_count": 13,
   "id": "01e4e969",
   "metadata": {
    "execution": {
     "iopub.execute_input": "2022-11-27T20:09:43.012520Z",
     "iopub.status.busy": "2022-11-27T20:09:43.011860Z",
     "iopub.status.idle": "2022-11-27T20:09:43.022232Z",
     "shell.execute_reply": "2022-11-27T20:09:43.022714Z"
    },
    "papermill": {
     "duration": 0.045849,
     "end_time": "2022-11-27T20:09:43.022847",
     "exception": false,
     "start_time": "2022-11-27T20:09:42.976998",
     "status": "completed"
    },
    "tags": []
   },
   "outputs": [
    {
     "data": {
      "text/plain": [
       "((11982, 28, 28), (1984, 28, 28))"
      ]
     },
     "execution_count": 13,
     "metadata": {},
     "output_type": "execute_result"
    }
   ],
   "source": [
    "X_train.shape, X_test.shape"
   ]
  },
  {
   "cell_type": "markdown",
   "id": "5ccf3f85",
   "metadata": {
    "papermill": {
     "duration": 0.026837,
     "end_time": "2022-11-27T20:09:43.076376",
     "exception": false,
     "start_time": "2022-11-27T20:09:43.049539",
     "status": "completed"
    },
    "tags": []
   },
   "source": [
    "We reshape the data to flatten the image pixels into a set of features or co-variates:"
   ]
  },
  {
   "cell_type": "code",
   "execution_count": 14,
   "id": "5286a4a3",
   "metadata": {
    "execution": {
     "iopub.execute_input": "2022-11-27T20:09:43.136098Z",
     "iopub.status.busy": "2022-11-27T20:09:43.135451Z",
     "iopub.status.idle": "2022-11-27T20:09:43.148619Z",
     "shell.execute_reply": "2022-11-27T20:09:43.148104Z"
    },
    "papermill": {
     "duration": 0.045515,
     "end_time": "2022-11-27T20:09:43.148738",
     "exception": false,
     "start_time": "2022-11-27T20:09:43.103223",
     "status": "completed"
    },
    "tags": []
   },
   "outputs": [
    {
     "data": {
      "text/plain": [
       "((11982, 784), (1984, 784))"
      ]
     },
     "execution_count": 14,
     "metadata": {},
     "output_type": "execute_result"
    }
   ],
   "source": [
    "X_train = X_train.reshape(X_train.shape[0], -1)\n",
    "X_test = X_test.reshape(X_test.shape[0], -1)\n",
    "X_train.shape, X_test.shape"
   ]
  },
  {
   "cell_type": "code",
   "execution_count": 15,
   "id": "73c5f88a",
   "metadata": {
    "execution": {
     "iopub.execute_input": "2022-11-27T20:09:43.207701Z",
     "iopub.status.busy": "2022-11-27T20:09:43.207112Z",
     "iopub.status.idle": "2022-11-27T20:09:43.226324Z",
     "shell.execute_reply": "2022-11-27T20:09:43.225858Z"
    },
    "papermill": {
     "duration": 0.050531,
     "end_time": "2022-11-27T20:09:43.226446",
     "exception": false,
     "start_time": "2022-11-27T20:09:43.175915",
     "status": "completed"
    },
    "tags": []
   },
   "outputs": [],
   "source": [
    "#Impoting functions from 'Kudzu'\n",
    "from kudzu.model import Model\n",
    "from kudzu.train import Learner\n",
    "from kudzu.optim import GD\n",
    "from kudzu.data import Data, Sampler,Dataloader\n",
    "\n",
    "from kudzu.callbacks import AccCallback\n",
    "from kudzu.callbacks import ClfCallback\n",
    "\n",
    "from kudzu.loss import MSE\n",
    "\n",
    "from kudzu.layer import Sigmoid,Relu\n",
    "from kudzu.layer import Affine"
   ]
  },
  {
   "cell_type": "markdown",
   "id": "bc01172a",
   "metadata": {
    "papermill": {
     "duration": 0.027045,
     "end_time": "2022-11-27T20:09:43.281122",
     "exception": false,
     "start_time": "2022-11-27T20:09:43.254077",
     "status": "completed"
    },
    "tags": []
   },
   "source": [
    "### Let us create a `Config` class, to store important parameters. \n",
    "This class essentially plays the role of a dictionary."
   ]
  },
  {
   "cell_type": "code",
   "execution_count": 16,
   "id": "978281aa",
   "metadata": {
    "execution": {
     "iopub.execute_input": "2022-11-27T20:09:43.339817Z",
     "iopub.status.busy": "2022-11-27T20:09:43.339185Z",
     "iopub.status.idle": "2022-11-27T20:09:43.351791Z",
     "shell.execute_reply": "2022-11-27T20:09:43.351304Z"
    },
    "papermill": {
     "duration": 0.043748,
     "end_time": "2022-11-27T20:09:43.351907",
     "exception": false,
     "start_time": "2022-11-27T20:09:43.308159",
     "status": "completed"
    },
    "tags": []
   },
   "outputs": [],
   "source": [
    "class Config:\n",
    "    pass\n",
    "config = Config()\n",
    "config.lr = 0.001\n",
    "config.num_epochs = 250\n",
    "config.bs = 50"
   ]
  },
  {
   "cell_type": "markdown",
   "id": "1385fa59",
   "metadata": {
    "papermill": {
     "duration": 0.027666,
     "end_time": "2022-11-27T20:09:43.406838",
     "exception": false,
     "start_time": "2022-11-27T20:09:43.379172",
     "status": "completed"
    },
    "tags": []
   },
   "source": [
    "### Running Models with the Training data\n",
    "Details about the network layers:\n",
    "- A first affine layer has 784 inputs and does 100 affine transforms. These are followed by a Relu\n",
    "- A second affine layer has 100 inputs from the 100 activations of the past layer, and does 100 affine transforms. These are followed by a Relu\n",
    "- A third affine layer has 100 activations and does 2 affine transformations to create an embedding for visualization. There is no non-linearity here.\n",
    "- A final \"logistic regression\" which has an affine transform from 2 inputs to 1 output, which is squeezed through a sigmoid.\n"
   ]
  },
  {
   "cell_type": "code",
   "execution_count": 17,
   "id": "2b9c66db",
   "metadata": {
    "execution": {
     "iopub.execute_input": "2022-11-27T20:09:43.468081Z",
     "iopub.status.busy": "2022-11-27T20:09:43.467487Z",
     "iopub.status.idle": "2022-11-27T20:09:43.479729Z",
     "shell.execute_reply": "2022-11-27T20:09:43.479150Z"
    },
    "papermill": {
     "duration": 0.045381,
     "end_time": "2022-11-27T20:09:43.479849",
     "exception": false,
     "start_time": "2022-11-27T20:09:43.434468",
     "status": "completed"
    },
    "tags": []
   },
   "outputs": [],
   "source": [
    "data = Data(X_train, y_train.reshape(-1,1))\n",
    "sampler = Sampler(data, config.bs, shuffle=True)\n",
    "\n",
    "dl = Dataloader(data, sampler)\n",
    "\n",
    "opt = GD(config.lr)\n",
    "loss = MSE()"
   ]
  },
  {
   "cell_type": "code",
   "execution_count": 18,
   "id": "b275e4c2",
   "metadata": {
    "execution": {
     "iopub.execute_input": "2022-11-27T20:09:43.537976Z",
     "iopub.status.busy": "2022-11-27T20:09:43.537386Z",
     "iopub.status.idle": "2022-11-27T20:09:43.550752Z",
     "shell.execute_reply": "2022-11-27T20:09:43.550172Z"
    },
    "papermill": {
     "duration": 0.043809,
     "end_time": "2022-11-27T20:09:43.550861",
     "exception": false,
     "start_time": "2022-11-27T20:09:43.507052",
     "status": "completed"
    },
    "tags": []
   },
   "outputs": [],
   "source": [
    "training_data_x = X_train\n",
    "testing_data_x = X_test\n",
    "training_data_y = y_train.reshape(-1,1)\n",
    "testing_data_y = y_test.reshape(-1,1)"
   ]
  },
  {
   "cell_type": "code",
   "execution_count": 19,
   "id": "76951160",
   "metadata": {
    "execution": {
     "iopub.execute_input": "2022-11-27T20:09:43.609954Z",
     "iopub.status.busy": "2022-11-27T20:09:43.609374Z",
     "iopub.status.idle": "2022-11-27T20:09:43.626451Z",
     "shell.execute_reply": "2022-11-27T20:09:43.625875Z"
    },
    "papermill": {
     "duration": 0.048771,
     "end_time": "2022-11-27T20:09:43.626565",
     "exception": false,
     "start_time": "2022-11-27T20:09:43.577794",
     "status": "completed"
    },
    "tags": []
   },
   "outputs": [
    {
     "name": "stdout",
     "output_type": "stream",
     "text": [
      "xavier\n",
      "xavier\n",
      "xavier\n",
      "xavier\n",
      "xavier\n"
     ]
    }
   ],
   "source": [
    "layers = [Affine(\"first\", 784, 100), Relu(\"first\"), Affine(\"second\", 100, 100), Relu(\"second\"), Affine(\"third\", 100, 2), Affine(\"last\", 2, 1), Sigmoid(\"last\")]\n",
    "model_nn = Model(layers)\n",
    "model_lr = Model([Affine(\"logits\", 784, 1), Sigmoid(\"sigmoid\")])"
   ]
  },
  {
   "cell_type": "code",
   "execution_count": 20,
   "id": "6eede77a",
   "metadata": {
    "execution": {
     "iopub.execute_input": "2022-11-27T20:09:43.687046Z",
     "iopub.status.busy": "2022-11-27T20:09:43.686452Z",
     "iopub.status.idle": "2022-11-27T20:09:43.698167Z",
     "shell.execute_reply": "2022-11-27T20:09:43.697683Z"
    },
    "papermill": {
     "duration": 0.04416,
     "end_time": "2022-11-27T20:09:43.698278",
     "exception": false,
     "start_time": "2022-11-27T20:09:43.654118",
     "status": "completed"
    },
    "tags": []
   },
   "outputs": [],
   "source": [
    "nn_learner = Learner(loss, model_nn, opt, config.num_epochs)\n",
    "acc_nn = ClfCallback(nn_learner, config.bs, training_data_x , testing_data_x, training_data_y, testing_data_y)\n",
    "nn_learner.set_callbacks([acc_nn])"
   ]
  },
  {
   "cell_type": "code",
   "execution_count": 21,
   "id": "877b6cc7",
   "metadata": {
    "execution": {
     "iopub.execute_input": "2022-11-27T20:09:43.757962Z",
     "iopub.status.busy": "2022-11-27T20:09:43.757363Z",
     "iopub.status.idle": "2022-11-27T20:09:43.770562Z",
     "shell.execute_reply": "2022-11-27T20:09:43.771041Z"
    },
    "papermill": {
     "duration": 0.045247,
     "end_time": "2022-11-27T20:09:43.771174",
     "exception": false,
     "start_time": "2022-11-27T20:09:43.725927",
     "status": "completed"
    },
    "tags": []
   },
   "outputs": [],
   "source": [
    "lr_learner = Learner(loss, model_lr, opt, config.num_epochs)\n",
    "acc_lr = ClfCallback(lr_learner, config.bs, training_data_x , testing_data_x, training_data_y, testing_data_y)\n",
    "lr_learner.set_callbacks([acc_lr])"
   ]
  },
  {
   "cell_type": "code",
   "execution_count": 22,
   "id": "d9b133c3",
   "metadata": {
    "execution": {
     "iopub.execute_input": "2022-11-27T20:09:43.829539Z",
     "iopub.status.busy": "2022-11-27T20:09:43.828965Z",
     "iopub.status.idle": "2022-11-27T20:11:01.771782Z",
     "shell.execute_reply": "2022-11-27T20:11:01.772442Z"
    },
    "papermill": {
     "duration": 77.974097,
     "end_time": "2022-11-27T20:11:01.772601",
     "exception": false,
     "start_time": "2022-11-27T20:09:43.798504",
     "status": "completed"
    },
    "tags": []
   },
   "outputs": [
    {
     "name": "stdout",
     "output_type": "stream",
     "text": [
      "Epoch 0, Loss 0.2122\n",
      "Training Accuracy: 0.7709, Testing Accuracy: 0.7777\n",
      "\n"
     ]
    },
    {
     "name": "stdout",
     "output_type": "stream",
     "text": [
      "Epoch 10, Loss 0.064\n",
      "Training Accuracy: 0.9315, Testing Accuracy: 0.9405\n",
      "\n"
     ]
    },
    {
     "name": "stdout",
     "output_type": "stream",
     "text": [
      "Epoch 20, Loss 0.0451\n",
      "Training Accuracy: 0.9497, Testing Accuracy: 0.9567\n",
      "\n"
     ]
    },
    {
     "name": "stdout",
     "output_type": "stream",
     "text": [
      "Epoch 30, Loss 0.0377\n",
      "Training Accuracy: 0.9572, Testing Accuracy: 0.9647\n",
      "\n"
     ]
    },
    {
     "name": "stdout",
     "output_type": "stream",
     "text": [
      "Epoch 40, Loss 0.0335\n",
      "Training Accuracy: 0.9627, Testing Accuracy: 0.9677\n",
      "\n"
     ]
    },
    {
     "name": "stdout",
     "output_type": "stream",
     "text": [
      "Epoch 50, Loss 0.0308\n",
      "Training Accuracy: 0.9659, Testing Accuracy: 0.9672\n",
      "\n"
     ]
    },
    {
     "name": "stdout",
     "output_type": "stream",
     "text": [
      "Epoch 60, Loss 0.0288\n",
      "Training Accuracy: 0.9671, Testing Accuracy: 0.9682\n",
      "\n"
     ]
    },
    {
     "name": "stdout",
     "output_type": "stream",
     "text": [
      "Epoch 70, Loss 0.0272\n",
      "Training Accuracy: 0.9690, Testing Accuracy: 0.9682\n",
      "\n"
     ]
    },
    {
     "name": "stdout",
     "output_type": "stream",
     "text": [
      "Epoch 80, Loss 0.0259\n",
      "Training Accuracy: 0.9706, Testing Accuracy: 0.9672\n",
      "\n"
     ]
    },
    {
     "name": "stdout",
     "output_type": "stream",
     "text": [
      "Epoch 90, Loss 0.0248\n",
      "Training Accuracy: 0.9718, Testing Accuracy: 0.9677\n",
      "\n"
     ]
    },
    {
     "name": "stdout",
     "output_type": "stream",
     "text": [
      "Epoch 100, Loss 0.0238\n",
      "Training Accuracy: 0.9730, Testing Accuracy: 0.9698\n",
      "\n"
     ]
    },
    {
     "name": "stdout",
     "output_type": "stream",
     "text": [
      "Epoch 110, Loss 0.023\n",
      "Training Accuracy: 0.9738, Testing Accuracy: 0.9698\n",
      "\n"
     ]
    },
    {
     "name": "stdout",
     "output_type": "stream",
     "text": [
      "Epoch 120, Loss 0.0222\n",
      "Training Accuracy: 0.9748, Testing Accuracy: 0.9713\n",
      "\n"
     ]
    },
    {
     "name": "stdout",
     "output_type": "stream",
     "text": [
      "Epoch 130, Loss 0.0216\n",
      "Training Accuracy: 0.9758, Testing Accuracy: 0.9698\n",
      "\n"
     ]
    },
    {
     "name": "stdout",
     "output_type": "stream",
     "text": [
      "Epoch 140, Loss 0.021\n",
      "Training Accuracy: 0.9762, Testing Accuracy: 0.9703\n",
      "\n"
     ]
    },
    {
     "name": "stdout",
     "output_type": "stream",
     "text": [
      "Epoch 150, Loss 0.0204\n",
      "Training Accuracy: 0.9768, Testing Accuracy: 0.9713\n",
      "\n"
     ]
    },
    {
     "name": "stdout",
     "output_type": "stream",
     "text": [
      "Epoch 160, Loss 0.0199\n",
      "Training Accuracy: 0.9777, Testing Accuracy: 0.9718\n",
      "\n"
     ]
    },
    {
     "name": "stdout",
     "output_type": "stream",
     "text": [
      "Epoch 170, Loss 0.0194\n",
      "Training Accuracy: 0.9786, Testing Accuracy: 0.9723\n",
      "\n"
     ]
    },
    {
     "name": "stdout",
     "output_type": "stream",
     "text": [
      "Epoch 180, Loss 0.0189\n",
      "Training Accuracy: 0.9789, Testing Accuracy: 0.9723\n",
      "\n"
     ]
    },
    {
     "name": "stdout",
     "output_type": "stream",
     "text": [
      "Epoch 190, Loss 0.0184\n",
      "Training Accuracy: 0.9800, Testing Accuracy: 0.9733\n",
      "\n"
     ]
    },
    {
     "name": "stdout",
     "output_type": "stream",
     "text": [
      "Epoch 200, Loss 0.018\n",
      "Training Accuracy: 0.9805, Testing Accuracy: 0.9733\n",
      "\n"
     ]
    },
    {
     "name": "stdout",
     "output_type": "stream",
     "text": [
      "Epoch 210, Loss 0.0176\n",
      "Training Accuracy: 0.9812, Testing Accuracy: 0.9738\n",
      "\n"
     ]
    },
    {
     "name": "stdout",
     "output_type": "stream",
     "text": [
      "Epoch 220, Loss 0.0172\n",
      "Training Accuracy: 0.9816, Testing Accuracy: 0.9738\n",
      "\n"
     ]
    },
    {
     "name": "stdout",
     "output_type": "stream",
     "text": [
      "Epoch 230, Loss 0.0168\n",
      "Training Accuracy: 0.9820, Testing Accuracy: 0.9738\n",
      "\n"
     ]
    },
    {
     "name": "stdout",
     "output_type": "stream",
     "text": [
      "Epoch 240, Loss 0.0165\n",
      "Training Accuracy: 0.9822, Testing Accuracy: 0.9743\n",
      "\n"
     ]
    },
    {
     "data": {
      "text/plain": [
       "0.02073044532624001"
      ]
     },
     "execution_count": 22,
     "metadata": {},
     "output_type": "execute_result"
    }
   ],
   "source": [
    "nn_learner.train_loop(dl)"
   ]
  },
  {
   "cell_type": "code",
   "execution_count": 23,
   "id": "e0163366",
   "metadata": {
    "execution": {
     "iopub.execute_input": "2022-11-27T20:11:01.845798Z",
     "iopub.status.busy": "2022-11-27T20:11:01.845217Z",
     "iopub.status.idle": "2022-11-27T20:11:15.912963Z",
     "shell.execute_reply": "2022-11-27T20:11:15.913832Z"
    },
    "papermill": {
     "duration": 14.106113,
     "end_time": "2022-11-27T20:11:15.913992",
     "exception": false,
     "start_time": "2022-11-27T20:11:01.807879",
     "status": "completed"
    },
    "tags": []
   },
   "outputs": [
    {
     "name": "stdout",
     "output_type": "stream",
     "text": [
      "Epoch 0, Loss 0.1882\n",
      "Training Accuracy: 0.8188, Testing Accuracy: 0.8246\n",
      "\n"
     ]
    },
    {
     "name": "stdout",
     "output_type": "stream",
     "text": [
      "Epoch 10, Loss 0.0991\n",
      "Training Accuracy: 0.9044, Testing Accuracy: 0.9123\n",
      "\n"
     ]
    },
    {
     "name": "stdout",
     "output_type": "stream",
     "text": [
      "Epoch 20, Loss 0.0784\n",
      "Training Accuracy: 0.9242, Testing Accuracy: 0.9360\n",
      "\n"
     ]
    },
    {
     "name": "stdout",
     "output_type": "stream",
     "text": [
      "Epoch 30, Loss 0.0681\n",
      "Training Accuracy: 0.9347, Testing Accuracy: 0.9441\n",
      "\n"
     ]
    },
    {
     "name": "stdout",
     "output_type": "stream",
     "text": [
      "Epoch 40, Loss 0.0617\n",
      "Training Accuracy: 0.9395, Testing Accuracy: 0.9496\n",
      "\n"
     ]
    },
    {
     "name": "stdout",
     "output_type": "stream",
     "text": [
      "Epoch 50, Loss 0.0573\n",
      "Training Accuracy: 0.9423, Testing Accuracy: 0.9536\n",
      "\n"
     ]
    },
    {
     "name": "stdout",
     "output_type": "stream",
     "text": [
      "Epoch 60, Loss 0.054\n",
      "Training Accuracy: 0.9458, Testing Accuracy: 0.9561\n",
      "\n"
     ]
    },
    {
     "name": "stdout",
     "output_type": "stream",
     "text": [
      "Epoch 70, Loss 0.0515\n",
      "Training Accuracy: 0.9477, Testing Accuracy: 0.9597\n",
      "\n"
     ]
    },
    {
     "name": "stdout",
     "output_type": "stream",
     "text": [
      "Epoch 80, Loss 0.0494\n",
      "Training Accuracy: 0.9495, Testing Accuracy: 0.9597\n",
      "\n"
     ]
    },
    {
     "name": "stdout",
     "output_type": "stream",
     "text": [
      "Epoch 90, Loss 0.0477\n",
      "Training Accuracy: 0.9502, Testing Accuracy: 0.9612\n",
      "\n"
     ]
    },
    {
     "name": "stdout",
     "output_type": "stream",
     "text": [
      "Epoch 100, Loss 0.0463\n",
      "Training Accuracy: 0.9511, Testing Accuracy: 0.9617\n",
      "\n"
     ]
    },
    {
     "name": "stdout",
     "output_type": "stream",
     "text": [
      "Epoch 110, Loss 0.0451\n",
      "Training Accuracy: 0.9525, Testing Accuracy: 0.9627\n",
      "\n"
     ]
    },
    {
     "name": "stdout",
     "output_type": "stream",
     "text": [
      "Epoch 120, Loss 0.044\n",
      "Training Accuracy: 0.9535, Testing Accuracy: 0.9622\n",
      "\n"
     ]
    },
    {
     "name": "stdout",
     "output_type": "stream",
     "text": [
      "Epoch 130, Loss 0.0431\n",
      "Training Accuracy: 0.9543, Testing Accuracy: 0.9642\n",
      "\n"
     ]
    },
    {
     "name": "stdout",
     "output_type": "stream",
     "text": [
      "Epoch 140, Loss 0.0422\n",
      "Training Accuracy: 0.9548, Testing Accuracy: 0.9652\n",
      "\n"
     ]
    },
    {
     "name": "stdout",
     "output_type": "stream",
     "text": [
      "Epoch 150, Loss 0.0415\n",
      "Training Accuracy: 0.9552, Testing Accuracy: 0.9657\n",
      "\n"
     ]
    },
    {
     "name": "stdout",
     "output_type": "stream",
     "text": [
      "Epoch 160, Loss 0.0408\n",
      "Training Accuracy: 0.9562, Testing Accuracy: 0.9652\n",
      "\n"
     ]
    },
    {
     "name": "stdout",
     "output_type": "stream",
     "text": [
      "Epoch 170, Loss 0.0402\n",
      "Training Accuracy: 0.9569, Testing Accuracy: 0.9657\n",
      "\n"
     ]
    },
    {
     "name": "stdout",
     "output_type": "stream",
     "text": [
      "Epoch 180, Loss 0.0396\n",
      "Training Accuracy: 0.9576, Testing Accuracy: 0.9662\n",
      "\n"
     ]
    },
    {
     "name": "stdout",
     "output_type": "stream",
     "text": [
      "Epoch 190, Loss 0.0391\n",
      "Training Accuracy: 0.9580, Testing Accuracy: 0.9657\n",
      "\n"
     ]
    },
    {
     "name": "stdout",
     "output_type": "stream",
     "text": [
      "Epoch 200, Loss 0.0386\n",
      "Training Accuracy: 0.9584, Testing Accuracy: 0.9657\n",
      "\n"
     ]
    },
    {
     "name": "stdout",
     "output_type": "stream",
     "text": [
      "Epoch 210, Loss 0.0382\n",
      "Training Accuracy: 0.9589, Testing Accuracy: 0.9657\n",
      "\n"
     ]
    },
    {
     "name": "stdout",
     "output_type": "stream",
     "text": [
      "Epoch 220, Loss 0.0378\n",
      "Training Accuracy: 0.9593, Testing Accuracy: 0.9652\n",
      "\n"
     ]
    },
    {
     "name": "stdout",
     "output_type": "stream",
     "text": [
      "Epoch 230, Loss 0.0374\n",
      "Training Accuracy: 0.9599, Testing Accuracy: 0.9652\n",
      "\n"
     ]
    },
    {
     "name": "stdout",
     "output_type": "stream",
     "text": [
      "Epoch 240, Loss 0.037\n",
      "Training Accuracy: 0.9603, Testing Accuracy: 0.9657\n",
      "\n"
     ]
    },
    {
     "data": {
      "text/plain": [
       "0.059653815416154464"
      ]
     },
     "execution_count": 23,
     "metadata": {},
     "output_type": "execute_result"
    }
   ],
   "source": [
    "lr_learner.train_loop(dl)"
   ]
  },
  {
   "cell_type": "code",
   "execution_count": 24,
   "id": "ca410940",
   "metadata": {
    "execution": {
     "iopub.execute_input": "2022-11-27T20:11:16.006454Z",
     "iopub.status.busy": "2022-11-27T20:11:16.005838Z",
     "iopub.status.idle": "2022-11-27T20:11:16.227749Z",
     "shell.execute_reply": "2022-11-27T20:11:16.228193Z"
    },
    "papermill": {
     "duration": 0.271777,
     "end_time": "2022-11-27T20:11:16.228365",
     "exception": false,
     "start_time": "2022-11-27T20:11:15.956588",
     "status": "completed"
    },
    "tags": []
   },
   "outputs": [
    {
     "data": {
      "text/plain": [
       "<matplotlib.legend.Legend at 0x7f6468508390>"
      ]
     },
     "execution_count": 24,
     "metadata": {},
     "output_type": "execute_result"
    },
    {
     "data": {
      "image/png": "[encoded data removed]",
      "text/plain": [
       "<Figure size 1080x720 with 1 Axes>"
      ]
     },
     "metadata": {
      "needs_background": "light"
     },
     "output_type": "display_data"
    }
   ],
   "source": [
    "#comparing the results of NN and LR\n",
    "plt.figure(figsize=(15,10))\n",
    "\n",
    "# Neural Network plots\n",
    "plt.plot(acc_nn.accuracies, 'r-', label = \"Training Accuracies - NN\")\n",
    "plt.plot(acc_nn.test_accuracies, 'g-', label = \"Testing Accuracies - NN\")\n",
    "\n",
    "# Logistic Regression plots\n",
    "plt.plot(acc_lr.accuracies, 'k-', label = \"Training Accuracies - LR\")\n",
    "plt.plot(acc_lr.test_accuracies, 'b-', label = \"Testing Accuracies - LR\")\n",
    "plt.legend()"
   ]
  },
  {
   "cell_type": "markdown",
   "id": "80dfb35c",
   "metadata": {
    "papermill": {
     "duration": 0.042561,
     "end_time": "2022-11-27T20:11:16.313781",
     "exception": false,
     "start_time": "2022-11-27T20:11:16.271220",
     "status": "completed"
    },
    "tags": []
   },
   "source": [
    "#### Plotting the outputs of this layer of the NN.\n"
   ]
  },
  {
   "cell_type": "code",
   "execution_count": 25,
   "id": "45eb2ff5",
   "metadata": {
    "execution": {
     "iopub.execute_input": "2022-11-27T20:11:16.403179Z",
     "iopub.status.busy": "2022-11-27T20:11:16.402577Z",
     "iopub.status.idle": "2022-11-27T20:11:16.436562Z",
     "shell.execute_reply": "2022-11-27T20:11:16.435997Z"
    },
    "papermill": {
     "duration": 0.08026,
     "end_time": "2022-11-27T20:11:16.436688",
     "exception": false,
     "start_time": "2022-11-27T20:11:16.356428",
     "status": "completed"
    },
    "tags": []
   },
   "outputs": [],
   "source": [
    "new_model = Model(layers[:-2])\n",
    "testing_plot = new_model(testing_data_x)"
   ]
  },
  {
   "cell_type": "code",
   "execution_count": 26,
   "id": "4c0a5485",
   "metadata": {
    "execution": {
     "iopub.execute_input": "2022-11-27T20:11:16.529042Z",
     "iopub.status.busy": "2022-11-27T20:11:16.528428Z",
     "iopub.status.idle": "2022-11-27T20:11:16.702793Z",
     "shell.execute_reply": "2022-11-27T20:11:16.703438Z"
    },
    "papermill": {
     "duration": 0.223275,
     "end_time": "2022-11-27T20:11:16.703598",
     "exception": false,
     "start_time": "2022-11-27T20:11:16.480323",
     "status": "completed"
    },
    "tags": []
   },
   "outputs": [
    {
     "data": {
      "text/plain": [
       "Text(0.5, 1.0, 'Outputs')"
      ]
     },
     "execution_count": 26,
     "metadata": {},
     "output_type": "execute_result"
    },
    {
     "data": {
      "image/png": "[encoded data removed]",
      "text/plain": [
       "<Figure size 576x504 with 1 Axes>"
      ]
     },
     "metadata": {
      "needs_background": "light"
     },
     "output_type": "display_data"
    }
   ],
   "source": [
    "# Plotting the scatter plot of points and color coding by class\n",
    "plt.figure(figsize=(8,7))\n",
    "plt.scatter(testing_plot[:,0], testing_plot[:,1], alpha = 0.1, c = y_test.ravel());\n",
    "plt.title('Outputs')"
   ]
  },
  {
   "cell_type": "markdown",
   "id": "a74fcf8f",
   "metadata": {
    "papermill": {
     "duration": 0.044229,
     "end_time": "2022-11-27T20:11:16.793413",
     "exception": false,
     "start_time": "2022-11-27T20:11:16.749184",
     "status": "completed"
    },
    "tags": []
   },
   "source": [
    "Probability contours"
   ]
  },
  {
   "cell_type": "code",
   "execution_count": 27,
   "id": "d0afc8e3",
   "metadata": {
    "execution": {
     "iopub.execute_input": "2022-11-27T20:11:16.923072Z",
     "iopub.status.busy": "2022-11-27T20:11:16.921737Z",
     "iopub.status.idle": "2022-11-27T20:11:16.934169Z",
     "shell.execute_reply": "2022-11-27T20:11:16.934932Z"
    },
    "papermill": {
     "duration": 0.09654,
     "end_time": "2022-11-27T20:11:16.935078",
     "exception": false,
     "start_time": "2022-11-27T20:11:16.838538",
     "status": "completed"
    },
    "tags": []
   },
   "outputs": [],
   "source": [
    "model_prob = Model(layers[-2:]) "
   ]
  },
  {
   "cell_type": "code",
   "execution_count": 28,
   "id": "9b96e238",
   "metadata": {
    "execution": {
     "iopub.execute_input": "2022-11-27T20:11:17.035635Z",
     "iopub.status.busy": "2022-11-27T20:11:17.034961Z",
     "iopub.status.idle": "2022-11-27T20:11:17.051253Z",
     "shell.execute_reply": "2022-11-27T20:11:17.051718Z"
    },
    "papermill": {
     "duration": 0.067968,
     "end_time": "2022-11-27T20:11:17.051876",
     "exception": false,
     "start_time": "2022-11-27T20:11:16.983908",
     "status": "completed"
    },
    "tags": []
   },
   "outputs": [],
   "source": [
    "#creating the x and y ranges according to the above generated plot.\n",
    "x_range = np.linspace(-4, 1, 100) \n",
    "y_range = np.linspace(-6, 6, 100) \n",
    "x_grid, y_grid = np.meshgrid(x_range, y_range) # x_grid and y_grig are of size 100 X 100\n",
    "\n",
    "# converting x_grid and y_grid to continuous arrays\n",
    "x_gridflat = np.ravel(x_grid)\n",
    "y_gridflat = np.ravel(y_grid)\n",
    "\n",
    "# The last layer of the current model takes two columns as input. Hence transpose of np.vstack() is required.\n",
    "X = np.vstack((x_gridflat, y_gridflat)).T\n",
    "\n",
    "prob_contour = model_prob(X).reshape(100,100) "
   ]
  },
  {
   "cell_type": "code",
   "execution_count": 29,
   "id": "da72499a",
   "metadata": {
    "execution": {
     "iopub.execute_input": "2022-11-27T20:11:17.151485Z",
     "iopub.status.busy": "2022-11-27T20:11:17.149637Z",
     "iopub.status.idle": "2022-11-27T20:11:17.383094Z",
     "shell.execute_reply": "2022-11-27T20:11:17.383541Z"
    },
    "papermill": {
     "duration": 0.286501,
     "end_time": "2022-11-27T20:11:17.383694",
     "exception": false,
     "start_time": "2022-11-27T20:11:17.097193",
     "status": "completed"
    },
    "tags": []
   },
   "outputs": [
    {
     "data": {
      "image/png": "[encoded data removed]",
      "text/plain": [
       "<Figure size 720x648 with 1 Axes>"
      ]
     },
     "metadata": {
      "needs_background": "light"
     },
     "output_type": "display_data"
    }
   ],
   "source": [
    "plt.figure(figsize=(10,9))\n",
    "plt.scatter(testing_plot[:,0], testing_plot[:,1], alpha = 0.1, c = y_test.ravel())\n",
    "contours = plt.contour(x_grid,y_grid,prob_contour)\n",
    "plt.title('Probability Contours')\n",
    "plt.clabel(contours, inline = True );"
   ]
  },
  {
   "cell_type": "code",
   "execution_count": null,
   "id": "e81b4ac7",
   "metadata": {
    "papermill": {
     "duration": 0.047411,
     "end_time": "2022-11-27T20:11:17.478931",
     "exception": false,
     "start_time": "2022-11-27T20:11:17.431520",
     "status": "completed"
    },
    "tags": []
   },
   "outputs": [],
   "source": []
  }
 ],
 "metadata": {
  "kernelspec": {
   "display_name": "Python 3",
   "language": "python",
   "name": "python3"
  },
  "language_info": {
   "codemirror_mode": {
    "name": "ipython",
    "version": 3
   },
   "file_extension": ".py",
   "mimetype": "text/x-python",
   "name": "python",
   "nbconvert_exporter": "python",
   "pygments_lexer": "ipython3",
   "version": "3.6.15"
  },
  "papermill": {
   "default_parameters": {},
   "duration": 101.502456,
   "end_time": "2022-11-27T20:11:17.945841",
   "environment_variables": {},
   "exception": null,
   "input_path": "2020-08-11-part2.ipynb",
   "output_path": "2020-08-11-part2.ipynb",
   "parameters": {},
   "start_time": "2022-11-27T20:09:36.443385",
   "version": "2.3.3"
  }
 },
 "nbformat": 4,
 "nbformat_minor": 5
}