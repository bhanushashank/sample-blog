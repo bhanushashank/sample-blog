{
 "cells": [
  {
   "cell_type": "markdown",
   "id": "98380cd3",
   "metadata": {
    "papermill": {
     "duration": 0.029754,
     "end_time": "2021-09-06T00:22:57.834347",
     "exception": false,
     "start_time": "2021-09-06T00:22:57.804593",
     "status": "completed"
    },
    "tags": []
   },
   "source": [
    "# Distinguish Your Own Digits (DYOD)"
   ]
  },
  {
   "cell_type": "markdown",
   "id": "ef31240d",
   "metadata": {
    "papermill": {
     "duration": 0.022533,
     "end_time": "2021-09-06T00:22:57.881188",
     "exception": false,
     "start_time": "2021-09-06T00:22:57.858655",
     "status": "completed"
    },
    "tags": []
   },
   "source": [
    "You are going to write a classifier that distinguishes between the number 3 and number 8."
   ]
  },
  {
   "cell_type": "code",
   "execution_count": 1,
   "id": "b15c8646",
   "metadata": {
    "execution": {
     "iopub.execute_input": "2021-09-06T00:22:57.941089Z",
     "iopub.status.busy": "2021-09-06T00:22:57.940506Z",
     "iopub.status.idle": "2021-09-06T00:22:57.951428Z",
     "shell.execute_reply": "2021-09-06T00:22:57.951925Z"
    },
    "papermill": {
     "duration": 0.048677,
     "end_time": "2021-09-06T00:22:57.952089",
     "exception": false,
     "start_time": "2021-09-06T00:22:57.903412",
     "status": "completed"
    },
    "tags": []
   },
   "outputs": [],
   "source": [
    "%load_ext autoreload\n",
    "%autoreload 2"
   ]
  },
  {
   "cell_type": "code",
   "execution_count": 2,
   "id": "22ef38dc",
   "metadata": {
    "execution": {
     "iopub.execute_input": "2021-09-06T00:22:58.008711Z",
     "iopub.status.busy": "2021-09-06T00:22:58.008123Z",
     "iopub.status.idle": "2021-09-06T00:22:58.590714Z",
     "shell.execute_reply": "2021-09-06T00:22:58.590103Z"
    },
    "papermill": {
     "duration": 0.612682,
     "end_time": "2021-09-06T00:22:58.590869",
     "exception": false,
     "start_time": "2021-09-06T00:22:57.978187",
     "status": "completed"
    },
    "tags": []
   },
   "outputs": [],
   "source": [
    "%matplotlib inline\n",
    "import numpy as np\n",
    "import matplotlib.pyplot as plt\n",
    "import pandas as pd"
   ]
  },
  {
   "cell_type": "markdown",
   "id": "ba036198",
   "metadata": {
    "papermill": {
     "duration": 0.027562,
     "end_time": "2021-09-06T00:22:58.644225",
     "exception": false,
     "start_time": "2021-09-06T00:22:58.616663",
     "status": "completed"
    },
    "tags": []
   },
   "source": [
    "From the command line run `pip install mnist`. This is a library that will help you bring down the mnist dataset. If you run this from a notebook, you need to put  `!pip install mnist` in a cell by itself."
   ]
  },
  {
   "cell_type": "code",
   "execution_count": 3,
   "id": "bb6ad8a1",
   "metadata": {
    "execution": {
     "iopub.execute_input": "2021-09-06T00:22:58.701930Z",
     "iopub.status.busy": "2021-09-06T00:22:58.701351Z",
     "iopub.status.idle": "2021-09-06T00:23:01.270524Z",
     "shell.execute_reply": "2021-09-06T00:23:01.269916Z"
    },
    "papermill": {
     "duration": 2.599838,
     "end_time": "2021-09-06T00:23:01.270679",
     "exception": false,
     "start_time": "2021-09-06T00:22:58.670841",
     "status": "completed"
    },
    "tags": []
   },
   "outputs": [
    {
     "name": "stdout",
     "output_type": "stream",
     "text": [
      "Collecting mnist\r\n",
      "  Downloading mnist-0.2.2-py2.py3-none-any.whl (3.5 kB)\r\n",
      "Requirement already satisfied: numpy in /opt/hostedtoolcache/Python/3.6.14/x64/lib/python3.6/site-packages (from mnist) (1.19.5)\r\n"
     ]
    },
    {
     "name": "stdout",
     "output_type": "stream",
     "text": [
      "Installing collected packages: mnist\r\n",
      "Successfully installed mnist-0.2.2\r\n"
     ]
    }
   ],
   "source": [
    "!pip install mnist"
   ]
  },
  {
   "cell_type": "markdown",
   "id": "69df9c9a",
   "metadata": {
    "papermill": {
     "duration": 0.023607,
     "end_time": "2021-09-06T00:23:01.320544",
     "exception": false,
     "start_time": "2021-09-06T00:23:01.296937",
     "status": "completed"
    },
    "tags": []
   },
   "source": [
    "## Preparing the Data"
   ]
  },
  {
   "cell_type": "code",
   "execution_count": 4,
   "id": "7f69d806",
   "metadata": {
    "execution": {
     "iopub.execute_input": "2021-09-06T00:23:01.373791Z",
     "iopub.status.busy": "2021-09-06T00:23:01.373182Z",
     "iopub.status.idle": "2021-09-06T00:23:01.387946Z",
     "shell.execute_reply": "2021-09-06T00:23:01.387389Z"
    },
    "papermill": {
     "duration": 0.043449,
     "end_time": "2021-09-06T00:23:01.388066",
     "exception": false,
     "start_time": "2021-09-06T00:23:01.344617",
     "status": "completed"
    },
    "tags": []
   },
   "outputs": [],
   "source": [
    "import mnist"
   ]
  },
  {
   "cell_type": "code",
   "execution_count": 5,
   "id": "a411e44f",
   "metadata": {
    "execution": {
     "iopub.execute_input": "2021-09-06T00:23:01.451177Z",
     "iopub.status.busy": "2021-09-06T00:23:01.446907Z",
     "iopub.status.idle": "2021-09-06T00:23:02.000002Z",
     "shell.execute_reply": "2021-09-06T00:23:01.999009Z"
    },
    "papermill": {
     "duration": 0.584443,
     "end_time": "2021-09-06T00:23:02.000122",
     "exception": false,
     "start_time": "2021-09-06T00:23:01.415679",
     "status": "completed"
    },
    "tags": []
   },
   "outputs": [],
   "source": [
    "train_images = mnist.train_images()\n",
    "train_labels = mnist.train_labels()"
   ]
  },
  {
   "cell_type": "code",
   "execution_count": 6,
   "id": "dceab3a5",
   "metadata": {
    "execution": {
     "iopub.execute_input": "2021-09-06T00:23:02.052668Z",
     "iopub.status.busy": "2021-09-06T00:23:02.051386Z",
     "iopub.status.idle": "2021-09-06T00:23:02.066667Z",
     "shell.execute_reply": "2021-09-06T00:23:02.066167Z"
    },
    "papermill": {
     "duration": 0.042307,
     "end_time": "2021-09-06T00:23:02.066788",
     "exception": false,
     "start_time": "2021-09-06T00:23:02.024481",
     "status": "completed"
    },
    "tags": []
   },
   "outputs": [
    {
     "data": {
      "text/plain": [
       "((60000, 28, 28), (60000,))"
      ]
     },
     "execution_count": 6,
     "metadata": {},
     "output_type": "execute_result"
    }
   ],
   "source": [
    "train_images.shape, train_labels.shape"
   ]
  },
  {
   "cell_type": "code",
   "execution_count": 7,
   "id": "f50dc2bb",
   "metadata": {
    "execution": {
     "iopub.execute_input": "2021-09-06T00:23:02.121122Z",
     "iopub.status.busy": "2021-09-06T00:23:02.120594Z",
     "iopub.status.idle": "2021-09-06T00:23:02.260334Z",
     "shell.execute_reply": "2021-09-06T00:23:02.259709Z"
    },
    "papermill": {
     "duration": 0.169335,
     "end_time": "2021-09-06T00:23:02.260488",
     "exception": false,
     "start_time": "2021-09-06T00:23:02.091153",
     "status": "completed"
    },
    "tags": []
   },
   "outputs": [],
   "source": [
    "test_images = mnist.test_images()\n",
    "test_labels = mnist.test_labels()"
   ]
  },
  {
   "cell_type": "code",
   "execution_count": 8,
   "id": "fc38cf1b",
   "metadata": {
    "execution": {
     "iopub.execute_input": "2021-09-06T00:23:02.320932Z",
     "iopub.status.busy": "2021-09-06T00:23:02.320338Z",
     "iopub.status.idle": "2021-09-06T00:23:02.333628Z",
     "shell.execute_reply": "2021-09-06T00:23:02.334200Z"
    },
    "papermill": {
     "duration": 0.045885,
     "end_time": "2021-09-06T00:23:02.334333",
     "exception": false,
     "start_time": "2021-09-06T00:23:02.288448",
     "status": "completed"
    },
    "tags": []
   },
   "outputs": [
    {
     "data": {
      "text/plain": [
       "((10000, 28, 28), (10000,))"
      ]
     },
     "execution_count": 8,
     "metadata": {},
     "output_type": "execute_result"
    }
   ],
   "source": [
    "test_images.shape, test_labels.shape"
   ]
  },
  {
   "cell_type": "code",
   "execution_count": 9,
   "id": "f9ed8fe0",
   "metadata": {
    "execution": {
     "iopub.execute_input": "2021-09-06T00:23:02.393775Z",
     "iopub.status.busy": "2021-09-06T00:23:02.393150Z",
     "iopub.status.idle": "2021-09-06T00:23:02.548106Z",
     "shell.execute_reply": "2021-09-06T00:23:02.548580Z"
    },
    "papermill": {
     "duration": 0.186859,
     "end_time": "2021-09-06T00:23:02.548729",
     "exception": false,
     "start_time": "2021-09-06T00:23:02.361870",
     "status": "completed"
    },
    "tags": []
   },
   "outputs": [
    {
     "name": "stdout",
     "output_type": "stream",
     "text": [
      "2\n"
     ]
    },
    {
     "data": {
      "text/plain": [
       "<matplotlib.image.AxesImage at 0x7fcbce154e10>"
      ]
     },
     "execution_count": 9,
     "metadata": {},
     "output_type": "execute_result"
    },
    {
     "data": {
      "image/png": "[encoded data removed]",
      "text/plain": [
       "<Figure size 432x288 with 1 Axes>"
      ]
     },
     "metadata": {
      "needs_background": "light"
     },
     "output_type": "display_data"
    }
   ],
   "source": [
    "image_index = 7776 # You may select anything up to 60,000\n",
    "print(train_labels[image_index]) \n",
    "plt.imshow(train_images[image_index], cmap='Greys')"
   ]
  },
  {
   "cell_type": "markdown",
   "id": "a8d2388d",
   "metadata": {
    "papermill": {
     "duration": 0.028127,
     "end_time": "2021-09-06T00:23:02.604932",
     "exception": false,
     "start_time": "2021-09-06T00:23:02.576805",
     "status": "completed"
    },
    "tags": []
   },
   "source": [
    "## Filter data to get 3 and 8 out"
   ]
  },
  {
   "cell_type": "code",
   "execution_count": 10,
   "id": "776f7fc7",
   "metadata": {
    "execution": {
     "iopub.execute_input": "2021-09-06T00:23:02.666044Z",
     "iopub.status.busy": "2021-09-06T00:23:02.665429Z",
     "iopub.status.idle": "2021-09-06T00:23:02.684589Z",
     "shell.execute_reply": "2021-09-06T00:23:02.684020Z"
    },
    "papermill": {
     "duration": 0.05296,
     "end_time": "2021-09-06T00:23:02.684736",
     "exception": false,
     "start_time": "2021-09-06T00:23:02.631776",
     "status": "completed"
    },
    "tags": []
   },
   "outputs": [],
   "source": [
    "train_filter = np.where((train_labels == 3 ) | (train_labels == 8))\n",
    "test_filter = np.where((test_labels == 3) | (test_labels == 8))\n",
    "X_train, y_train = train_images[train_filter], train_labels[train_filter]\n",
    "X_test, y_test = test_images[test_filter], test_labels[test_filter]"
   ]
  },
  {
   "cell_type": "markdown",
   "id": "948f0b7e",
   "metadata": {
    "papermill": {
     "duration": 0.027742,
     "end_time": "2021-09-06T00:23:02.740698",
     "exception": false,
     "start_time": "2021-09-06T00:23:02.712956",
     "status": "completed"
    },
    "tags": []
   },
   "source": [
    "We normalize the pizel values in the 0 to 1 range"
   ]
  },
  {
   "cell_type": "code",
   "execution_count": 11,
   "id": "ee4c2166",
   "metadata": {
    "execution": {
     "iopub.execute_input": "2021-09-06T00:23:02.801351Z",
     "iopub.status.busy": "2021-09-06T00:23:02.800762Z",
     "iopub.status.idle": "2021-09-06T00:23:02.856503Z",
     "shell.execute_reply": "2021-09-06T00:23:02.856995Z"
    },
    "papermill": {
     "duration": 0.088655,
     "end_time": "2021-09-06T00:23:02.857151",
     "exception": false,
     "start_time": "2021-09-06T00:23:02.768496",
     "status": "completed"
    },
    "tags": []
   },
   "outputs": [],
   "source": [
    "X_train = X_train/255.\n",
    "X_test = X_test/255."
   ]
  },
  {
   "cell_type": "markdown",
   "id": "ddcf4fab",
   "metadata": {
    "papermill": {
     "duration": 0.028625,
     "end_time": "2021-09-06T00:23:02.916017",
     "exception": false,
     "start_time": "2021-09-06T00:23:02.887392",
     "status": "completed"
    },
    "tags": []
   },
   "source": [
    "And setup the labels as 1 (when the digit is 3) and 0 (when the digit is 8)"
   ]
  },
  {
   "cell_type": "code",
   "execution_count": 12,
   "id": "7dc908f2",
   "metadata": {
    "execution": {
     "iopub.execute_input": "2021-09-06T00:23:02.978259Z",
     "iopub.status.busy": "2021-09-06T00:23:02.977675Z",
     "iopub.status.idle": "2021-09-06T00:23:02.990486Z",
     "shell.execute_reply": "2021-09-06T00:23:02.990100Z"
    },
    "papermill": {
     "duration": 0.045737,
     "end_time": "2021-09-06T00:23:02.990592",
     "exception": false,
     "start_time": "2021-09-06T00:23:02.944855",
     "status": "completed"
    },
    "tags": []
   },
   "outputs": [],
   "source": [
    "y_train = 1*(y_train==3)\n",
    "y_test = 1*(y_test==3)"
   ]
  },
  {
   "cell_type": "code",
   "execution_count": 13,
   "id": "01e4e969",
   "metadata": {
    "execution": {
     "iopub.execute_input": "2021-09-06T00:23:03.050509Z",
     "iopub.status.busy": "2021-09-06T00:23:03.049929Z",
     "iopub.status.idle": "2021-09-06T00:23:03.064973Z",
     "shell.execute_reply": "2021-09-06T00:23:03.065467Z"
    },
    "papermill": {
     "duration": 0.047146,
     "end_time": "2021-09-06T00:23:03.065607",
     "exception": false,
     "start_time": "2021-09-06T00:23:03.018461",
     "status": "completed"
    },
    "tags": []
   },
   "outputs": [
    {
     "data": {
      "text/plain": [
       "((11982, 28, 28), (1984, 28, 28))"
      ]
     },
     "execution_count": 13,
     "metadata": {},
     "output_type": "execute_result"
    }
   ],
   "source": [
    "X_train.shape, X_test.shape"
   ]
  },
  {
   "cell_type": "markdown",
   "id": "5ccf3f85",
   "metadata": {
    "papermill": {
     "duration": 0.029357,
     "end_time": "2021-09-06T00:23:03.123524",
     "exception": false,
     "start_time": "2021-09-06T00:23:03.094167",
     "status": "completed"
    },
    "tags": []
   },
   "source": [
    "We reshape the data to flatten the image pixels into a set of features or co-variates:"
   ]
  },
  {
   "cell_type": "code",
   "execution_count": 14,
   "id": "5286a4a3",
   "metadata": {
    "execution": {
     "iopub.execute_input": "2021-09-06T00:23:03.185052Z",
     "iopub.status.busy": "2021-09-06T00:23:03.184471Z",
     "iopub.status.idle": "2021-09-06T00:23:03.199243Z",
     "shell.execute_reply": "2021-09-06T00:23:03.198771Z"
    },
    "papermill": {
     "duration": 0.047131,
     "end_time": "2021-09-06T00:23:03.199368",
     "exception": false,
     "start_time": "2021-09-06T00:23:03.152237",
     "status": "completed"
    },
    "tags": []
   },
   "outputs": [
    {
     "data": {
      "text/plain": [
       "((11982, 784), (1984, 784))"
      ]
     },
     "execution_count": 14,
     "metadata": {},
     "output_type": "execute_result"
    }
   ],
   "source": [
    "X_train = X_train.reshape(X_train.shape[0], -1)\n",
    "X_test = X_test.reshape(X_test.shape[0], -1)\n",
    "X_train.shape, X_test.shape"
   ]
  },
  {
   "cell_type": "code",
   "execution_count": 15,
   "id": "73c5f88a",
   "metadata": {
    "execution": {
     "iopub.execute_input": "2021-09-06T00:23:03.262430Z",
     "iopub.status.busy": "2021-09-06T00:23:03.261869Z",
     "iopub.status.idle": "2021-09-06T00:23:03.283986Z",
     "shell.execute_reply": "2021-09-06T00:23:03.283385Z"
    },
    "papermill": {
     "duration": 0.055969,
     "end_time": "2021-09-06T00:23:03.284133",
     "exception": false,
     "start_time": "2021-09-06T00:23:03.228164",
     "status": "completed"
    },
    "tags": []
   },
   "outputs": [],
   "source": [
    "#Impoting functions from 'Kudzu'\n",
    "from kudzu.model import Model\n",
    "from kudzu.train import Learner\n",
    "from kudzu.optim import GD\n",
    "from kudzu.data import Data, Sampler,Dataloader\n",
    "\n",
    "from kudzu.callbacks import AccCallback\n",
    "from kudzu.callbacks import ClfCallback\n",
    "\n",
    "from kudzu.loss import MSE\n",
    "\n",
    "from kudzu.layer import Sigmoid,Relu\n",
    "from kudzu.layer import Affine"
   ]
  },
  {
   "cell_type": "markdown",
   "id": "bc01172a",
   "metadata": {
    "papermill": {
     "duration": 0.028605,
     "end_time": "2021-09-06T00:23:03.342990",
     "exception": false,
     "start_time": "2021-09-06T00:23:03.314385",
     "status": "completed"
    },
    "tags": []
   },
   "source": [
    "### Let us create a `Config` class, to store important parameters. \n",
    "This class essentially plays the role of a dictionary."
   ]
  },
  {
   "cell_type": "code",
   "execution_count": 16,
   "id": "978281aa",
   "metadata": {
    "execution": {
     "iopub.execute_input": "2021-09-06T00:23:03.408339Z",
     "iopub.status.busy": "2021-09-06T00:23:03.407744Z",
     "iopub.status.idle": "2021-09-06T00:23:03.418622Z",
     "shell.execute_reply": "2021-09-06T00:23:03.418157Z"
    },
    "papermill": {
     "duration": 0.047963,
     "end_time": "2021-09-06T00:23:03.418737",
     "exception": false,
     "start_time": "2021-09-06T00:23:03.370774",
     "status": "completed"
    },
    "tags": []
   },
   "outputs": [],
   "source": [
    "class Config:\n",
    "    pass\n",
    "config = Config()\n",
    "config.lr = 0.001\n",
    "config.num_epochs = 250\n",
    "config.bs = 50"
   ]
  },
  {
   "cell_type": "markdown",
   "id": "1385fa59",
   "metadata": {
    "papermill": {
     "duration": 0.029254,
     "end_time": "2021-09-06T00:23:03.476981",
     "exception": false,
     "start_time": "2021-09-06T00:23:03.447727",
     "status": "completed"
    },
    "tags": []
   },
   "source": [
    "### Running Models with the Training data\n",
    "Details about the network layers:\n",
    "- A first affine layer has 784 inputs and does 100 affine transforms. These are followed by a Relu\n",
    "- A second affine layer has 100 inputs from the 100 activations of the past layer, and does 100 affine transforms. These are followed by a Relu\n",
    "- A third affine layer has 100 activations and does 2 affine transformations to create an embedding for visualization. There is no non-linearity here.\n",
    "- A final \"logistic regression\" which has an affine transform from 2 inputs to 1 output, which is squeezed through a sigmoid.\n"
   ]
  },
  {
   "cell_type": "code",
   "execution_count": 17,
   "id": "2b9c66db",
   "metadata": {
    "execution": {
     "iopub.execute_input": "2021-09-06T00:23:03.540987Z",
     "iopub.status.busy": "2021-09-06T00:23:03.540378Z",
     "iopub.status.idle": "2021-09-06T00:23:03.553317Z",
     "shell.execute_reply": "2021-09-06T00:23:03.552853Z"
    },
    "papermill": {
     "duration": 0.047203,
     "end_time": "2021-09-06T00:23:03.553431",
     "exception": false,
     "start_time": "2021-09-06T00:23:03.506228",
     "status": "completed"
    },
    "tags": []
   },
   "outputs": [],
   "source": [
    "data = Data(X_train, y_train.reshape(-1,1))\n",
    "sampler = Sampler(data, config.bs, shuffle=True)\n",
    "\n",
    "dl = Dataloader(data, sampler)\n",
    "\n",
    "opt = GD(config.lr)\n",
    "loss = MSE()"
   ]
  },
  {
   "cell_type": "code",
   "execution_count": 18,
   "id": "b275e4c2",
   "metadata": {
    "execution": {
     "iopub.execute_input": "2021-09-06T00:23:03.614343Z",
     "iopub.status.busy": "2021-09-06T00:23:03.613756Z",
     "iopub.status.idle": "2021-09-06T00:23:03.625993Z",
     "shell.execute_reply": "2021-09-06T00:23:03.625498Z"
    },
    "papermill": {
     "duration": 0.043952,
     "end_time": "2021-09-06T00:23:03.626113",
     "exception": false,
     "start_time": "2021-09-06T00:23:03.582161",
     "status": "completed"
    },
    "tags": []
   },
   "outputs": [],
   "source": [
    "training_data_x = X_train\n",
    "testing_data_x = X_test\n",
    "training_data_y = y_train.reshape(-1,1)\n",
    "testing_data_y = y_test.reshape(-1,1)"
   ]
  },
  {
   "cell_type": "code",
   "execution_count": 19,
   "id": "76951160",
   "metadata": {
    "execution": {
     "iopub.execute_input": "2021-09-06T00:23:03.686762Z",
     "iopub.status.busy": "2021-09-06T00:23:03.686180Z",
     "iopub.status.idle": "2021-09-06T00:23:03.703320Z",
     "shell.execute_reply": "2021-09-06T00:23:03.703805Z"
    },
    "papermill": {
     "duration": 0.050389,
     "end_time": "2021-09-06T00:23:03.703942",
     "exception": false,
     "start_time": "2021-09-06T00:23:03.653553",
     "status": "completed"
    },
    "tags": []
   },
   "outputs": [
    {
     "name": "stdout",
     "output_type": "stream",
     "text": [
      "xavier\n",
      "xavier\n",
      "xavier\n",
      "xavier\n",
      "xavier\n"
     ]
    }
   ],
   "source": [
    "layers = [Affine(\"first\", 784, 100), Relu(\"first\"), Affine(\"second\", 100, 100), Relu(\"second\"), Affine(\"third\", 100, 2), Affine(\"last\", 2, 1), Sigmoid(\"last\")]\n",
    "model_nn = Model(layers)\n",
    "model_lr = Model([Affine(\"logits\", 784, 1), Sigmoid(\"sigmoid\")])"
   ]
  },
  {
   "cell_type": "code",
   "execution_count": 20,
   "id": "6eede77a",
   "metadata": {
    "execution": {
     "iopub.execute_input": "2021-09-06T00:23:03.760186Z",
     "iopub.status.busy": "2021-09-06T00:23:03.759738Z",
     "iopub.status.idle": "2021-09-06T00:23:03.773234Z",
     "shell.execute_reply": "2021-09-06T00:23:03.772718Z"
    },
    "papermill": {
     "duration": 0.04251,
     "end_time": "2021-09-06T00:23:03.773351",
     "exception": false,
     "start_time": "2021-09-06T00:23:03.730841",
     "status": "completed"
    },
    "tags": []
   },
   "outputs": [],
   "source": [
    "nn_learner = Learner(loss, model_nn, opt, config.num_epochs)\n",
    "acc_nn = ClfCallback(nn_learner, config.bs, training_data_x , testing_data_x, training_data_y, testing_data_y)\n",
    "nn_learner.set_callbacks([acc_nn])"
   ]
  },
  {
   "cell_type": "code",
   "execution_count": 21,
   "id": "877b6cc7",
   "metadata": {
    "execution": {
     "iopub.execute_input": "2021-09-06T00:23:03.837179Z",
     "iopub.status.busy": "2021-09-06T00:23:03.836610Z",
     "iopub.status.idle": "2021-09-06T00:23:03.848910Z",
     "shell.execute_reply": "2021-09-06T00:23:03.848411Z"
    },
    "papermill": {
     "duration": 0.045724,
     "end_time": "2021-09-06T00:23:03.849038",
     "exception": false,
     "start_time": "2021-09-06T00:23:03.803314",
     "status": "completed"
    },
    "tags": []
   },
   "outputs": [],
   "source": [
    "lr_learner = Learner(loss, model_lr, opt, config.num_epochs)\n",
    "acc_lr = ClfCallback(lr_learner, config.bs, training_data_x , testing_data_x, training_data_y, testing_data_y)\n",
    "lr_learner.set_callbacks([acc_lr])"
   ]
  },
  {
   "cell_type": "code",
   "execution_count": 22,
   "id": "d9b133c3",
   "metadata": {
    "execution": {
     "iopub.execute_input": "2021-09-06T00:23:03.913267Z",
     "iopub.status.busy": "2021-09-06T00:23:03.912664Z",
     "iopub.status.idle": "2021-09-06T00:24:28.652255Z",
     "shell.execute_reply": "2021-09-06T00:24:28.653075Z"
    },
    "papermill": {
     "duration": 84.775234,
     "end_time": "2021-09-06T00:24:28.653224",
     "exception": false,
     "start_time": "2021-09-06T00:23:03.877990",
     "status": "completed"
    },
    "tags": []
   },
   "outputs": [
    {
     "name": "stdout",
     "output_type": "stream",
     "text": [
      "Epoch 0, Loss 0.2535\n",
      "Training Accuracy: 0.5033, Testing Accuracy: 0.4995\n",
      "\n"
     ]
    },
    {
     "name": "stdout",
     "output_type": "stream",
     "text": [
      "Epoch 10, Loss 0.1456\n",
      "Training Accuracy: 0.8935, Testing Accuracy: 0.9057\n",
      "\n"
     ]
    },
    {
     "name": "stdout",
     "output_type": "stream",
     "text": [
      "Epoch 20, Loss 0.0734\n",
      "Training Accuracy: 0.9289, Testing Accuracy: 0.9400\n",
      "\n"
     ]
    },
    {
     "name": "stdout",
     "output_type": "stream",
     "text": [
      "Epoch 30, Loss 0.0529\n",
      "Training Accuracy: 0.9412, Testing Accuracy: 0.9531\n",
      "\n"
     ]
    },
    {
     "name": "stdout",
     "output_type": "stream",
     "text": [
      "Epoch 40, Loss 0.0441\n",
      "Training Accuracy: 0.9503, Testing Accuracy: 0.9602\n",
      "\n"
     ]
    },
    {
     "name": "stdout",
     "output_type": "stream",
     "text": [
      "Epoch 50, Loss 0.0391\n",
      "Training Accuracy: 0.9549, Testing Accuracy: 0.9652\n",
      "\n"
     ]
    },
    {
     "name": "stdout",
     "output_type": "stream",
     "text": [
      "Epoch 60, Loss 0.0358\n",
      "Training Accuracy: 0.9581, Testing Accuracy: 0.9672\n",
      "\n"
     ]
    },
    {
     "name": "stdout",
     "output_type": "stream",
     "text": [
      "Epoch 70, Loss 0.0334\n",
      "Training Accuracy: 0.9615, Testing Accuracy: 0.9677\n",
      "\n"
     ]
    },
    {
     "name": "stdout",
     "output_type": "stream",
     "text": [
      "Epoch 80, Loss 0.0316\n",
      "Training Accuracy: 0.9632, Testing Accuracy: 0.9688\n",
      "\n"
     ]
    },
    {
     "name": "stdout",
     "output_type": "stream",
     "text": [
      "Epoch 90, Loss 0.0302\n",
      "Training Accuracy: 0.9643, Testing Accuracy: 0.9677\n",
      "\n"
     ]
    },
    {
     "name": "stdout",
     "output_type": "stream",
     "text": [
      "Epoch 100, Loss 0.029\n",
      "Training Accuracy: 0.9654, Testing Accuracy: 0.9682\n",
      "\n"
     ]
    },
    {
     "name": "stdout",
     "output_type": "stream",
     "text": [
      "Epoch 110, Loss 0.028\n",
      "Training Accuracy: 0.9660, Testing Accuracy: 0.9688\n",
      "\n"
     ]
    },
    {
     "name": "stdout",
     "output_type": "stream",
     "text": [
      "Epoch 120, Loss 0.0271\n",
      "Training Accuracy: 0.9667, Testing Accuracy: 0.9713\n",
      "\n"
     ]
    },
    {
     "name": "stdout",
     "output_type": "stream",
     "text": [
      "Epoch 130, Loss 0.0264\n",
      "Training Accuracy: 0.9676, Testing Accuracy: 0.9718\n",
      "\n"
     ]
    },
    {
     "name": "stdout",
     "output_type": "stream",
     "text": [
      "Epoch 140, Loss 0.0257\n",
      "Training Accuracy: 0.9688, Testing Accuracy: 0.9718\n",
      "\n"
     ]
    },
    {
     "name": "stdout",
     "output_type": "stream",
     "text": [
      "Epoch 150, Loss 0.0251\n",
      "Training Accuracy: 0.9701, Testing Accuracy: 0.9728\n",
      "\n"
     ]
    },
    {
     "name": "stdout",
     "output_type": "stream",
     "text": [
      "Epoch 160, Loss 0.0245\n",
      "Training Accuracy: 0.9706, Testing Accuracy: 0.9723\n",
      "\n"
     ]
    },
    {
     "name": "stdout",
     "output_type": "stream",
     "text": [
      "Epoch 170, Loss 0.024\n",
      "Training Accuracy: 0.9713, Testing Accuracy: 0.9733\n",
      "\n"
     ]
    },
    {
     "name": "stdout",
     "output_type": "stream",
     "text": [
      "Epoch 180, Loss 0.0235\n",
      "Training Accuracy: 0.9722, Testing Accuracy: 0.9738\n",
      "\n"
     ]
    },
    {
     "name": "stdout",
     "output_type": "stream",
     "text": [
      "Epoch 190, Loss 0.023\n",
      "Training Accuracy: 0.9727, Testing Accuracy: 0.9743\n",
      "\n"
     ]
    },
    {
     "name": "stdout",
     "output_type": "stream",
     "text": [
      "Epoch 200, Loss 0.0226\n",
      "Training Accuracy: 0.9733, Testing Accuracy: 0.9738\n",
      "\n"
     ]
    },
    {
     "name": "stdout",
     "output_type": "stream",
     "text": [
      "Epoch 210, Loss 0.0222\n",
      "Training Accuracy: 0.9740, Testing Accuracy: 0.9748\n",
      "\n"
     ]
    },
    {
     "name": "stdout",
     "output_type": "stream",
     "text": [
      "Epoch 220, Loss 0.0218\n",
      "Training Accuracy: 0.9742, Testing Accuracy: 0.9743\n",
      "\n"
     ]
    },
    {
     "name": "stdout",
     "output_type": "stream",
     "text": [
      "Epoch 230, Loss 0.0214\n",
      "Training Accuracy: 0.9746, Testing Accuracy: 0.9738\n",
      "\n"
     ]
    },
    {
     "name": "stdout",
     "output_type": "stream",
     "text": [
      "Epoch 240, Loss 0.0211\n",
      "Training Accuracy: 0.9750, Testing Accuracy: 0.9743\n",
      "\n"
     ]
    },
    {
     "data": {
      "text/plain": [
       "0.01978322543759012"
      ]
     },
     "execution_count": 22,
     "metadata": {},
     "output_type": "execute_result"
    }
   ],
   "source": [
    "nn_learner.train_loop(dl)"
   ]
  },
  {
   "cell_type": "code",
   "execution_count": 23,
   "id": "e0163366",
   "metadata": {
    "execution": {
     "iopub.execute_input": "2021-09-06T00:24:28.740814Z",
     "iopub.status.busy": "2021-09-06T00:24:28.740214Z",
     "iopub.status.idle": "2021-09-06T00:24:44.280505Z",
     "shell.execute_reply": "2021-09-06T00:24:44.281265Z"
    },
    "papermill": {
     "duration": 15.590347,
     "end_time": "2021-09-06T00:24:44.281414",
     "exception": false,
     "start_time": "2021-09-06T00:24:28.691067",
     "status": "completed"
    },
    "tags": []
   },
   "outputs": [
    {
     "name": "stdout",
     "output_type": "stream",
     "text": [
      "Epoch 0, Loss 0.2206\n",
      "Training Accuracy: 0.7386, Testing Accuracy: 0.7560\n",
      "\n"
     ]
    },
    {
     "name": "stdout",
     "output_type": "stream",
     "text": [
      "Epoch 10, Loss 0.1028\n",
      "Training Accuracy: 0.9065, Testing Accuracy: 0.9244\n",
      "\n"
     ]
    },
    {
     "name": "stdout",
     "output_type": "stream",
     "text": [
      "Epoch 20, Loss 0.079\n",
      "Training Accuracy: 0.9273, Testing Accuracy: 0.9380\n",
      "\n"
     ]
    },
    {
     "name": "stdout",
     "output_type": "stream",
     "text": [
      "Epoch 30, Loss 0.0681\n",
      "Training Accuracy: 0.9371, Testing Accuracy: 0.9430\n",
      "\n"
     ]
    },
    {
     "name": "stdout",
     "output_type": "stream",
     "text": [
      "Epoch 40, Loss 0.0615\n",
      "Training Accuracy: 0.9418, Testing Accuracy: 0.9496\n",
      "\n"
     ]
    },
    {
     "name": "stdout",
     "output_type": "stream",
     "text": [
      "Epoch 50, Loss 0.0571\n",
      "Training Accuracy: 0.9442, Testing Accuracy: 0.9521\n",
      "\n"
     ]
    },
    {
     "name": "stdout",
     "output_type": "stream",
     "text": [
      "Epoch 60, Loss 0.0538\n",
      "Training Accuracy: 0.9463, Testing Accuracy: 0.9556\n",
      "\n"
     ]
    },
    {
     "name": "stdout",
     "output_type": "stream",
     "text": [
      "Epoch 70, Loss 0.0512\n",
      "Training Accuracy: 0.9482, Testing Accuracy: 0.9582\n",
      "\n"
     ]
    },
    {
     "name": "stdout",
     "output_type": "stream",
     "text": [
      "Epoch 80, Loss 0.0492\n",
      "Training Accuracy: 0.9498, Testing Accuracy: 0.9602\n",
      "\n"
     ]
    },
    {
     "name": "stdout",
     "output_type": "stream",
     "text": [
      "Epoch 90, Loss 0.0475\n",
      "Training Accuracy: 0.9514, Testing Accuracy: 0.9597\n",
      "\n"
     ]
    },
    {
     "name": "stdout",
     "output_type": "stream",
     "text": [
      "Epoch 100, Loss 0.0461\n",
      "Training Accuracy: 0.9533, Testing Accuracy: 0.9597\n",
      "\n"
     ]
    },
    {
     "name": "stdout",
     "output_type": "stream",
     "text": [
      "Epoch 110, Loss 0.0449\n",
      "Training Accuracy: 0.9540, Testing Accuracy: 0.9602\n",
      "\n"
     ]
    },
    {
     "name": "stdout",
     "output_type": "stream",
     "text": [
      "Epoch 120, Loss 0.0439\n",
      "Training Accuracy: 0.9546, Testing Accuracy: 0.9607\n",
      "\n"
     ]
    },
    {
     "name": "stdout",
     "output_type": "stream",
     "text": [
      "Epoch 130, Loss 0.0429\n",
      "Training Accuracy: 0.9557, Testing Accuracy: 0.9622\n",
      "\n"
     ]
    },
    {
     "name": "stdout",
     "output_type": "stream",
     "text": [
      "Epoch 140, Loss 0.0421\n",
      "Training Accuracy: 0.9569, Testing Accuracy: 0.9632\n",
      "\n"
     ]
    },
    {
     "name": "stdout",
     "output_type": "stream",
     "text": [
      "Epoch 150, Loss 0.0414\n",
      "Training Accuracy: 0.9577, Testing Accuracy: 0.9637\n",
      "\n"
     ]
    },
    {
     "name": "stdout",
     "output_type": "stream",
     "text": [
      "Epoch 160, Loss 0.0407\n",
      "Training Accuracy: 0.9579, Testing Accuracy: 0.9637\n",
      "\n"
     ]
    },
    {
     "name": "stdout",
     "output_type": "stream",
     "text": [
      "Epoch 170, Loss 0.0401\n",
      "Training Accuracy: 0.9584, Testing Accuracy: 0.9637\n",
      "\n"
     ]
    },
    {
     "name": "stdout",
     "output_type": "stream",
     "text": [
      "Epoch 180, Loss 0.0395\n",
      "Training Accuracy: 0.9589, Testing Accuracy: 0.9637\n",
      "\n"
     ]
    },
    {
     "name": "stdout",
     "output_type": "stream",
     "text": [
      "Epoch 190, Loss 0.039\n",
      "Training Accuracy: 0.9589, Testing Accuracy: 0.9632\n",
      "\n"
     ]
    },
    {
     "name": "stdout",
     "output_type": "stream",
     "text": [
      "Epoch 200, Loss 0.0385\n",
      "Training Accuracy: 0.9594, Testing Accuracy: 0.9637\n",
      "\n"
     ]
    },
    {
     "name": "stdout",
     "output_type": "stream",
     "text": [
      "Epoch 210, Loss 0.0381\n",
      "Training Accuracy: 0.9598, Testing Accuracy: 0.9637\n",
      "\n"
     ]
    },
    {
     "name": "stdout",
     "output_type": "stream",
     "text": [
      "Epoch 220, Loss 0.0377\n",
      "Training Accuracy: 0.9599, Testing Accuracy: 0.9637\n",
      "\n"
     ]
    },
    {
     "name": "stdout",
     "output_type": "stream",
     "text": [
      "Epoch 230, Loss 0.0373\n",
      "Training Accuracy: 0.9604, Testing Accuracy: 0.9642\n",
      "\n"
     ]
    },
    {
     "name": "stdout",
     "output_type": "stream",
     "text": [
      "Epoch 240, Loss 0.0369\n",
      "Training Accuracy: 0.9607, Testing Accuracy: 0.9647\n",
      "\n"
     ]
    },
    {
     "data": {
      "text/plain": [
       "0.015154416011364058"
      ]
     },
     "execution_count": 23,
     "metadata": {},
     "output_type": "execute_result"
    }
   ],
   "source": [
    "lr_learner.train_loop(dl)"
   ]
  },
  {
   "cell_type": "code",
   "execution_count": 24,
   "id": "ca410940",
   "metadata": {
    "execution": {
     "iopub.execute_input": "2021-09-06T00:24:44.377420Z",
     "iopub.status.busy": "2021-09-06T00:24:44.376811Z",
     "iopub.status.idle": "2021-09-06T00:24:44.610104Z",
     "shell.execute_reply": "2021-09-06T00:24:44.609623Z"
    },
    "papermill": {
     "duration": 0.284774,
     "end_time": "2021-09-06T00:24:44.610237",
     "exception": false,
     "start_time": "2021-09-06T00:24:44.325463",
     "status": "completed"
    },
    "tags": []
   },
   "outputs": [
    {
     "data": {
      "text/plain": [
       "<matplotlib.legend.Legend at 0x7fcbcdd34dd8>"
      ]
     },
     "execution_count": 24,
     "metadata": {},
     "output_type": "execute_result"
    },
    {
     "data": {
      "image/png": "[encoded data removed]",
      "text/plain": [
       "<Figure size 1080x720 with 1 Axes>"
      ]
     },
     "metadata": {
      "needs_background": "light"
     },
     "output_type": "display_data"
    }
   ],
   "source": [
    "#comparing the results of NN and LR\n",
    "plt.figure(figsize=(15,10))\n",
    "\n",
    "# Neural Network plots\n",
    "plt.plot(acc_nn.accuracies, 'r-', label = \"Training Accuracies - NN\")\n",
    "plt.plot(acc_nn.test_accuracies, 'g-', label = \"Testing Accuracies - NN\")\n",
    "\n",
    "# Logistic Regression plots\n",
    "plt.plot(acc_lr.accuracies, 'k-', label = \"Training Accuracies - LR\")\n",
    "plt.plot(acc_lr.test_accuracies, 'b-', label = \"Testing Accuracies - LR\")\n",
    "plt.legend()"
   ]
  },
  {
   "cell_type": "markdown",
   "id": "80dfb35c",
   "metadata": {
    "papermill": {
     "duration": 0.046269,
     "end_time": "2021-09-06T00:24:44.702444",
     "exception": false,
     "start_time": "2021-09-06T00:24:44.656175",
     "status": "completed"
    },
    "tags": []
   },
   "source": [
    "#### Plotting the outputs of this layer of the NN.\n"
   ]
  },
  {
   "cell_type": "code",
   "execution_count": 25,
   "id": "45eb2ff5",
   "metadata": {
    "execution": {
     "iopub.execute_input": "2021-09-06T00:24:44.802424Z",
     "iopub.status.busy": "2021-09-06T00:24:44.796374Z",
     "iopub.status.idle": "2021-09-06T00:24:44.818617Z",
     "shell.execute_reply": "2021-09-06T00:24:44.819071Z"
    },
    "papermill": {
     "duration": 0.07373,
     "end_time": "2021-09-06T00:24:44.819210",
     "exception": false,
     "start_time": "2021-09-06T00:24:44.745480",
     "status": "completed"
    },
    "tags": []
   },
   "outputs": [],
   "source": [
    "new_model = Model(layers[:-2])\n",
    "testing_plot = new_model(testing_data_x)"
   ]
  },
  {
   "cell_type": "code",
   "execution_count": 26,
   "id": "4c0a5485",
   "metadata": {
    "execution": {
     "iopub.execute_input": "2021-09-06T00:24:44.921924Z",
     "iopub.status.busy": "2021-09-06T00:24:44.921254Z",
     "iopub.status.idle": "2021-09-06T00:24:45.149373Z",
     "shell.execute_reply": "2021-09-06T00:24:45.148857Z"
    },
    "papermill": {
     "duration": 0.276449,
     "end_time": "2021-09-06T00:24:45.149503",
     "exception": false,
     "start_time": "2021-09-06T00:24:44.873054",
     "status": "completed"
    },
    "tags": []
   },
   "outputs": [
    {
     "data": {
      "text/plain": [
       "Text(0.5, 1.0, 'Outputs')"
      ]
     },
     "execution_count": 26,
     "metadata": {},
     "output_type": "execute_result"
    },
    {
     "data": {
      "image/png": "[encoded data removed]",
      "text/plain": [
       "<Figure size 576x504 with 1 Axes>"
      ]
     },
     "metadata": {
      "needs_background": "light"
     },
     "output_type": "display_data"
    }
   ],
   "source": [
    "# Plotting the scatter plot of points and color coding by class\n",
    "plt.figure(figsize=(8,7))\n",
    "plt.scatter(testing_plot[:,0], testing_plot[:,1], alpha = 0.1, c = y_test.ravel());\n",
    "plt.title('Outputs')"
   ]
  },
  {
   "cell_type": "markdown",
   "id": "a74fcf8f",
   "metadata": {
    "papermill": {
     "duration": 0.048308,
     "end_time": "2021-09-06T00:24:45.247219",
     "exception": false,
     "start_time": "2021-09-06T00:24:45.198911",
     "status": "completed"
    },
    "tags": []
   },
   "source": [
    "Probability contours"
   ]
  },
  {
   "cell_type": "code",
   "execution_count": 27,
   "id": "d0afc8e3",
   "metadata": {
    "execution": {
     "iopub.execute_input": "2021-09-06T00:24:45.349599Z",
     "iopub.status.busy": "2021-09-06T00:24:45.348588Z",
     "iopub.status.idle": "2021-09-06T00:24:45.360854Z",
     "shell.execute_reply": "2021-09-06T00:24:45.361326Z"
    },
    "papermill": {
     "duration": 0.06513,
     "end_time": "2021-09-06T00:24:45.361470",
     "exception": false,
     "start_time": "2021-09-06T00:24:45.296340",
     "status": "completed"
    },
    "tags": []
   },
   "outputs": [],
   "source": [
    "model_prob = Model(layers[-2:]) "
   ]
  },
  {
   "cell_type": "code",
   "execution_count": 28,
   "id": "9b96e238",
   "metadata": {
    "execution": {
     "iopub.execute_input": "2021-09-06T00:24:45.464157Z",
     "iopub.status.busy": "2021-09-06T00:24:45.463522Z",
     "iopub.status.idle": "2021-09-06T00:24:45.481392Z",
     "shell.execute_reply": "2021-09-06T00:24:45.481840Z"
    },
    "papermill": {
     "duration": 0.072164,
     "end_time": "2021-09-06T00:24:45.481992",
     "exception": false,
     "start_time": "2021-09-06T00:24:45.409828",
     "status": "completed"
    },
    "tags": []
   },
   "outputs": [],
   "source": [
    "#creating the x and y ranges according to the above generated plot.\n",
    "x_range = np.linspace(-4, 1, 100) \n",
    "y_range = np.linspace(-6, 6, 100) \n",
    "x_grid, y_grid = np.meshgrid(x_range, y_range) # x_grid and y_grig are of size 100 X 100\n",
    "\n",
    "# converting x_grid and y_grid to continuous arrays\n",
    "x_gridflat = np.ravel(x_grid)\n",
    "y_gridflat = np.ravel(y_grid)\n",
    "\n",
    "# The last layer of the current model takes two columns as input. Hence transpose of np.vstack() is required.\n",
    "X = np.vstack((x_gridflat, y_gridflat)).T\n",
    "\n",
    "prob_contour = model_prob(X).reshape(100,100) "
   ]
  },
  {
   "cell_type": "code",
   "execution_count": 29,
   "id": "da72499a",
   "metadata": {
    "execution": {
     "iopub.execute_input": "2021-09-06T00:24:45.596914Z",
     "iopub.status.busy": "2021-09-06T00:24:45.596316Z",
     "iopub.status.idle": "2021-09-06T00:24:45.871736Z",
     "shell.execute_reply": "2021-09-06T00:24:45.871179Z"
    },
    "papermill": {
     "duration": 0.333659,
     "end_time": "2021-09-06T00:24:45.871874",
     "exception": false,
     "start_time": "2021-09-06T00:24:45.538215",
     "status": "completed"
    },
    "tags": []
   },
   "outputs": [
    {
     "data": {
      "image/png": "[encoded data removed]",
      "text/plain": [
       "<Figure size 720x648 with 1 Axes>"
      ]
     },
     "metadata": {
      "needs_background": "light"
     },
     "output_type": "display_data"
    }
   ],
   "source": [
    "plt.figure(figsize=(10,9))\n",
    "plt.scatter(testing_plot[:,0], testing_plot[:,1], alpha = 0.1, c = y_test.ravel())\n",
    "contours = plt.contour(x_grid,y_grid,prob_contour)\n",
    "plt.title('Probability Contours')\n",
    "plt.clabel(contours, inline = True );"
   ]
  },
  {
   "cell_type": "code",
   "execution_count": null,
   "id": "e81b4ac7",
   "metadata": {
    "papermill": {
     "duration": 0.080502,
     "end_time": "2021-09-06T00:24:46.005457",
     "exception": false,
     "start_time": "2021-09-06T00:24:45.924955",
     "status": "completed"
    },
    "tags": []
   },
   "outputs": [],
   "source": []
  }
 ],
 "metadata": {
  "kernelspec": {
   "display_name": "Python 3",
   "language": "python",
   "name": "python3"
  },
  "language_info": {
   "codemirror_mode": {
    "name": "ipython",
    "version": 3
   },
   "file_extension": ".py",
   "mimetype": "text/x-python",
   "name": "python",
   "nbconvert_exporter": "python",
   "pygments_lexer": "ipython3",
   "version": "3.6.14"
  },
  "papermill": {
   "default_parameters": {},
   "duration": 109.723393,
   "end_time": "2021-09-06T00:24:46.465640",
   "environment_variables": {},
   "exception": null,
   "input_path": "2020-08-11-part2.ipynb",
   "output_path": "2020-08-11-part2.ipynb",
   "parameters": {},
   "start_time": "2021-09-06T00:22:56.742247",
   "version": "2.3.3"
  }
 },
 "nbformat": 4,
 "nbformat_minor": 5
}