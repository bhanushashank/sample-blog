{
 "cells": [
  {
   "cell_type": "markdown",
   "id": "98380cd3",
   "metadata": {
    "papermill": {
     "duration": 0.034908,
     "end_time": "2021-10-08T20:07:59.535735",
     "exception": false,
     "start_time": "2021-10-08T20:07:59.500827",
     "status": "completed"
    },
    "tags": []
   },
   "source": [
    "# Distinguish Your Own Digits (DYOD)"
   ]
  },
  {
   "cell_type": "markdown",
   "id": "ef31240d",
   "metadata": {
    "papermill": {
     "duration": 0.03116,
     "end_time": "2021-10-08T20:07:59.599304",
     "exception": false,
     "start_time": "2021-10-08T20:07:59.568144",
     "status": "completed"
    },
    "tags": []
   },
   "source": [
    "You are going to write a classifier that distinguishes between the number 3 and number 8."
   ]
  },
  {
   "cell_type": "code",
   "execution_count": 1,
   "id": "b15c8646",
   "metadata": {
    "execution": {
     "iopub.execute_input": "2021-10-08T20:07:59.676379Z",
     "iopub.status.busy": "2021-10-08T20:07:59.675690Z",
     "iopub.status.idle": "2021-10-08T20:07:59.687456Z",
     "shell.execute_reply": "2021-10-08T20:07:59.688024Z"
    },
    "papermill": {
     "duration": 0.057623,
     "end_time": "2021-10-08T20:07:59.688251",
     "exception": false,
     "start_time": "2021-10-08T20:07:59.630628",
     "status": "completed"
    },
    "tags": []
   },
   "outputs": [],
   "source": [
    "%load_ext autoreload\n",
    "%autoreload 2"
   ]
  },
  {
   "cell_type": "code",
   "execution_count": 2,
   "id": "22ef38dc",
   "metadata": {
    "execution": {
     "iopub.execute_input": "2021-10-08T20:07:59.754856Z",
     "iopub.status.busy": "2021-10-08T20:07:59.753899Z",
     "iopub.status.idle": "2021-10-08T20:08:00.419865Z",
     "shell.execute_reply": "2021-10-08T20:08:00.420390Z"
    },
    "papermill": {
     "duration": 0.702154,
     "end_time": "2021-10-08T20:08:00.420574",
     "exception": false,
     "start_time": "2021-10-08T20:07:59.718420",
     "status": "completed"
    },
    "tags": []
   },
   "outputs": [],
   "source": [
    "%matplotlib inline\n",
    "import numpy as np\n",
    "import matplotlib.pyplot as plt\n",
    "import pandas as pd"
   ]
  },
  {
   "cell_type": "markdown",
   "id": "ba036198",
   "metadata": {
    "papermill": {
     "duration": 0.033073,
     "end_time": "2021-10-08T20:08:00.487361",
     "exception": false,
     "start_time": "2021-10-08T20:08:00.454288",
     "status": "completed"
    },
    "tags": []
   },
   "source": [
    "From the command line run `pip install mnist`. This is a library that will help you bring down the mnist dataset. If you run this from a notebook, you need to put  `!pip install mnist` in a cell by itself."
   ]
  },
  {
   "cell_type": "code",
   "execution_count": 3,
   "id": "bb6ad8a1",
   "metadata": {
    "execution": {
     "iopub.execute_input": "2021-10-08T20:08:00.555291Z",
     "iopub.status.busy": "2021-10-08T20:08:00.554539Z",
     "iopub.status.idle": "2021-10-08T20:08:02.667118Z",
     "shell.execute_reply": "2021-10-08T20:08:02.667604Z"
    },
    "papermill": {
     "duration": 2.149276,
     "end_time": "2021-10-08T20:08:02.667773",
     "exception": false,
     "start_time": "2021-10-08T20:08:00.518497",
     "status": "completed"
    },
    "tags": []
   },
   "outputs": [
    {
     "name": "stdout",
     "output_type": "stream",
     "text": [
      "Collecting mnist\r\n"
     ]
    },
    {
     "name": "stdout",
     "output_type": "stream",
     "text": [
      "  Downloading mnist-0.2.2-py2.py3-none-any.whl (3.5 kB)\r\n",
      "Requirement already satisfied: numpy in /opt/hostedtoolcache/Python/3.6.15/x64/lib/python3.6/site-packages (from mnist) (1.19.5)\r\n"
     ]
    },
    {
     "name": "stdout",
     "output_type": "stream",
     "text": [
      "Installing collected packages: mnist\r\n"
     ]
    },
    {
     "name": "stdout",
     "output_type": "stream",
     "text": [
      "Successfully installed mnist-0.2.2\r\n"
     ]
    }
   ],
   "source": [
    "!pip install mnist"
   ]
  },
  {
   "cell_type": "markdown",
   "id": "69df9c9a",
   "metadata": {
    "papermill": {
     "duration": 0.033784,
     "end_time": "2021-10-08T20:08:02.738048",
     "exception": false,
     "start_time": "2021-10-08T20:08:02.704264",
     "status": "completed"
    },
    "tags": []
   },
   "source": [
    "## Preparing the Data"
   ]
  },
  {
   "cell_type": "code",
   "execution_count": 4,
   "id": "7f69d806",
   "metadata": {
    "execution": {
     "iopub.execute_input": "2021-10-08T20:08:02.809773Z",
     "iopub.status.busy": "2021-10-08T20:08:02.807514Z",
     "iopub.status.idle": "2021-10-08T20:08:02.826031Z",
     "shell.execute_reply": "2021-10-08T20:08:02.825478Z"
    },
    "papermill": {
     "duration": 0.055058,
     "end_time": "2021-10-08T20:08:02.826172",
     "exception": false,
     "start_time": "2021-10-08T20:08:02.771114",
     "status": "completed"
    },
    "tags": []
   },
   "outputs": [],
   "source": [
    "import mnist"
   ]
  },
  {
   "cell_type": "code",
   "execution_count": 5,
   "id": "a411e44f",
   "metadata": {
    "execution": {
     "iopub.execute_input": "2021-10-08T20:08:02.897950Z",
     "iopub.status.busy": "2021-10-08T20:08:02.897258Z",
     "iopub.status.idle": "2021-10-08T20:08:03.585125Z",
     "shell.execute_reply": "2021-10-08T20:08:03.584453Z"
    },
    "papermill": {
     "duration": 0.724369,
     "end_time": "2021-10-08T20:08:03.585302",
     "exception": false,
     "start_time": "2021-10-08T20:08:02.860933",
     "status": "completed"
    },
    "tags": []
   },
   "outputs": [],
   "source": [
    "train_images = mnist.train_images()\n",
    "train_labels = mnist.train_labels()"
   ]
  },
  {
   "cell_type": "code",
   "execution_count": 6,
   "id": "dceab3a5",
   "metadata": {
    "execution": {
     "iopub.execute_input": "2021-10-08T20:08:03.660345Z",
     "iopub.status.busy": "2021-10-08T20:08:03.659648Z",
     "iopub.status.idle": "2021-10-08T20:08:03.677920Z",
     "shell.execute_reply": "2021-10-08T20:08:03.677221Z"
    },
    "papermill": {
     "duration": 0.057928,
     "end_time": "2021-10-08T20:08:03.678232",
     "exception": false,
     "start_time": "2021-10-08T20:08:03.620304",
     "status": "completed"
    },
    "tags": []
   },
   "outputs": [
    {
     "data": {
      "text/plain": [
       "((60000, 28, 28), (60000,))"
      ]
     },
     "execution_count": 6,
     "metadata": {},
     "output_type": "execute_result"
    }
   ],
   "source": [
    "train_images.shape, train_labels.shape"
   ]
  },
  {
   "cell_type": "code",
   "execution_count": 7,
   "id": "f50dc2bb",
   "metadata": {
    "execution": {
     "iopub.execute_input": "2021-10-08T20:08:03.751948Z",
     "iopub.status.busy": "2021-10-08T20:08:03.751241Z",
     "iopub.status.idle": "2021-10-08T20:08:04.030998Z",
     "shell.execute_reply": "2021-10-08T20:08:04.030417Z"
    },
    "papermill": {
     "duration": 0.319349,
     "end_time": "2021-10-08T20:08:04.031168",
     "exception": false,
     "start_time": "2021-10-08T20:08:03.711819",
     "status": "completed"
    },
    "tags": []
   },
   "outputs": [],
   "source": [
    "test_images = mnist.test_images()\n",
    "test_labels = mnist.test_labels()"
   ]
  },
  {
   "cell_type": "code",
   "execution_count": 8,
   "id": "fc38cf1b",
   "metadata": {
    "execution": {
     "iopub.execute_input": "2021-10-08T20:08:04.106379Z",
     "iopub.status.busy": "2021-10-08T20:08:04.105750Z",
     "iopub.status.idle": "2021-10-08T20:08:04.122752Z",
     "shell.execute_reply": "2021-10-08T20:08:04.122085Z"
    },
    "papermill": {
     "duration": 0.05286,
     "end_time": "2021-10-08T20:08:04.123017",
     "exception": false,
     "start_time": "2021-10-08T20:08:04.070157",
     "status": "completed"
    },
    "tags": []
   },
   "outputs": [
    {
     "data": {
      "text/plain": [
       "((10000, 28, 28), (10000,))"
      ]
     },
     "execution_count": 8,
     "metadata": {},
     "output_type": "execute_result"
    }
   ],
   "source": [
    "test_images.shape, test_labels.shape"
   ]
  },
  {
   "cell_type": "code",
   "execution_count": 9,
   "id": "f9ed8fe0",
   "metadata": {
    "execution": {
     "iopub.execute_input": "2021-10-08T20:08:04.193712Z",
     "iopub.status.busy": "2021-10-08T20:08:04.192905Z",
     "iopub.status.idle": "2021-10-08T20:08:04.391356Z",
     "shell.execute_reply": "2021-10-08T20:08:04.391869Z"
    },
    "papermill": {
     "duration": 0.235686,
     "end_time": "2021-10-08T20:08:04.392032",
     "exception": false,
     "start_time": "2021-10-08T20:08:04.156346",
     "status": "completed"
    },
    "tags": []
   },
   "outputs": [
    {
     "name": "stdout",
     "output_type": "stream",
     "text": [
      "2\n"
     ]
    },
    {
     "data": {
      "text/plain": [
       "<matplotlib.image.AxesImage at 0x7f58753e8828>"
      ]
     },
     "execution_count": 9,
     "metadata": {},
     "output_type": "execute_result"
    },
    {
     "data": {
      "image/png": "[encoded data removed]",
      "text/plain": [
       "<Figure size 432x288 with 1 Axes>"
      ]
     },
     "metadata": {
      "needs_background": "light"
     },
     "output_type": "display_data"
    }
   ],
   "source": [
    "image_index = 7776 # You may select anything up to 60,000\n",
    "print(train_labels[image_index]) \n",
    "plt.imshow(train_images[image_index], cmap='Greys')"
   ]
  },
  {
   "cell_type": "markdown",
   "id": "a8d2388d",
   "metadata": {
    "papermill": {
     "duration": 0.038844,
     "end_time": "2021-10-08T20:08:04.467734",
     "exception": false,
     "start_time": "2021-10-08T20:08:04.428890",
     "status": "completed"
    },
    "tags": []
   },
   "source": [
    "## Filter data to get 3 and 8 out"
   ]
  },
  {
   "cell_type": "code",
   "execution_count": 10,
   "id": "776f7fc7",
   "metadata": {
    "execution": {
     "iopub.execute_input": "2021-10-08T20:08:04.543425Z",
     "iopub.status.busy": "2021-10-08T20:08:04.542708Z",
     "iopub.status.idle": "2021-10-08T20:08:04.565180Z",
     "shell.execute_reply": "2021-10-08T20:08:04.564320Z"
    },
    "papermill": {
     "duration": 0.062076,
     "end_time": "2021-10-08T20:08:04.565327",
     "exception": false,
     "start_time": "2021-10-08T20:08:04.503251",
     "status": "completed"
    },
    "tags": []
   },
   "outputs": [],
   "source": [
    "train_filter = np.where((train_labels == 3 ) | (train_labels == 8))\n",
    "test_filter = np.where((test_labels == 3) | (test_labels == 8))\n",
    "X_train, y_train = train_images[train_filter], train_labels[train_filter]\n",
    "X_test, y_test = test_images[test_filter], test_labels[test_filter]"
   ]
  },
  {
   "cell_type": "markdown",
   "id": "948f0b7e",
   "metadata": {
    "papermill": {
     "duration": 0.033604,
     "end_time": "2021-10-08T20:08:04.635040",
     "exception": false,
     "start_time": "2021-10-08T20:08:04.601436",
     "status": "completed"
    },
    "tags": []
   },
   "source": [
    "We normalize the pizel values in the 0 to 1 range"
   ]
  },
  {
   "cell_type": "code",
   "execution_count": 11,
   "id": "ee4c2166",
   "metadata": {
    "execution": {
     "iopub.execute_input": "2021-10-08T20:08:04.711352Z",
     "iopub.status.busy": "2021-10-08T20:08:04.710710Z",
     "iopub.status.idle": "2021-10-08T20:08:04.775961Z",
     "shell.execute_reply": "2021-10-08T20:08:04.775396Z"
    },
    "papermill": {
     "duration": 0.103833,
     "end_time": "2021-10-08T20:08:04.776114",
     "exception": false,
     "start_time": "2021-10-08T20:08:04.672281",
     "status": "completed"
    },
    "tags": []
   },
   "outputs": [],
   "source": [
    "X_train = X_train/255.\n",
    "X_test = X_test/255."
   ]
  },
  {
   "cell_type": "markdown",
   "id": "ddcf4fab",
   "metadata": {
    "papermill": {
     "duration": 0.03583,
     "end_time": "2021-10-08T20:08:04.848075",
     "exception": false,
     "start_time": "2021-10-08T20:08:04.812245",
     "status": "completed"
    },
    "tags": []
   },
   "source": [
    "And setup the labels as 1 (when the digit is 3) and 0 (when the digit is 8)"
   ]
  },
  {
   "cell_type": "code",
   "execution_count": 12,
   "id": "7dc908f2",
   "metadata": {
    "execution": {
     "iopub.execute_input": "2021-10-08T20:08:04.931605Z",
     "iopub.status.busy": "2021-10-08T20:08:04.930914Z",
     "iopub.status.idle": "2021-10-08T20:08:04.945781Z",
     "shell.execute_reply": "2021-10-08T20:08:04.945176Z"
    },
    "papermill": {
     "duration": 0.054986,
     "end_time": "2021-10-08T20:08:04.945931",
     "exception": false,
     "start_time": "2021-10-08T20:08:04.890945",
     "status": "completed"
    },
    "tags": []
   },
   "outputs": [],
   "source": [
    "y_train = 1*(y_train==3)\n",
    "y_test = 1*(y_test==3)"
   ]
  },
  {
   "cell_type": "code",
   "execution_count": 13,
   "id": "01e4e969",
   "metadata": {
    "execution": {
     "iopub.execute_input": "2021-10-08T20:08:05.021598Z",
     "iopub.status.busy": "2021-10-08T20:08:05.020915Z",
     "iopub.status.idle": "2021-10-08T20:08:05.036711Z",
     "shell.execute_reply": "2021-10-08T20:08:05.037322Z"
    },
    "papermill": {
     "duration": 0.055494,
     "end_time": "2021-10-08T20:08:05.037482",
     "exception": false,
     "start_time": "2021-10-08T20:08:04.981988",
     "status": "completed"
    },
    "tags": []
   },
   "outputs": [
    {
     "data": {
      "text/plain": [
       "((11982, 28, 28), (1984, 28, 28))"
      ]
     },
     "execution_count": 13,
     "metadata": {},
     "output_type": "execute_result"
    }
   ],
   "source": [
    "X_train.shape, X_test.shape"
   ]
  },
  {
   "cell_type": "markdown",
   "id": "5ccf3f85",
   "metadata": {
    "papermill": {
     "duration": 0.03564,
     "end_time": "2021-10-08T20:08:05.110741",
     "exception": false,
     "start_time": "2021-10-08T20:08:05.075101",
     "status": "completed"
    },
    "tags": []
   },
   "source": [
    "We reshape the data to flatten the image pixels into a set of features or co-variates:"
   ]
  },
  {
   "cell_type": "code",
   "execution_count": 14,
   "id": "5286a4a3",
   "metadata": {
    "execution": {
     "iopub.execute_input": "2021-10-08T20:08:05.187402Z",
     "iopub.status.busy": "2021-10-08T20:08:05.186722Z",
     "iopub.status.idle": "2021-10-08T20:08:05.202986Z",
     "shell.execute_reply": "2021-10-08T20:08:05.202413Z"
    },
    "papermill": {
     "duration": 0.057295,
     "end_time": "2021-10-08T20:08:05.203141",
     "exception": false,
     "start_time": "2021-10-08T20:08:05.145846",
     "status": "completed"
    },
    "tags": []
   },
   "outputs": [
    {
     "data": {
      "text/plain": [
       "((11982, 784), (1984, 784))"
      ]
     },
     "execution_count": 14,
     "metadata": {},
     "output_type": "execute_result"
    }
   ],
   "source": [
    "X_train = X_train.reshape(X_train.shape[0], -1)\n",
    "X_test = X_test.reshape(X_test.shape[0], -1)\n",
    "X_train.shape, X_test.shape"
   ]
  },
  {
   "cell_type": "code",
   "execution_count": 15,
   "id": "73c5f88a",
   "metadata": {
    "execution": {
     "iopub.execute_input": "2021-10-08T20:08:05.281782Z",
     "iopub.status.busy": "2021-10-08T20:08:05.281102Z",
     "iopub.status.idle": "2021-10-08T20:08:05.304399Z",
     "shell.execute_reply": "2021-10-08T20:08:05.303761Z"
    },
    "papermill": {
     "duration": 0.064858,
     "end_time": "2021-10-08T20:08:05.304627",
     "exception": false,
     "start_time": "2021-10-08T20:08:05.239769",
     "status": "completed"
    },
    "tags": []
   },
   "outputs": [],
   "source": [
    "#Impoting functions from 'Kudzu'\n",
    "from kudzu.model import Model\n",
    "from kudzu.train import Learner\n",
    "from kudzu.optim import GD\n",
    "from kudzu.data import Data, Sampler,Dataloader\n",
    "\n",
    "from kudzu.callbacks import AccCallback\n",
    "from kudzu.callbacks import ClfCallback\n",
    "\n",
    "from kudzu.loss import MSE\n",
    "\n",
    "from kudzu.layer import Sigmoid,Relu\n",
    "from kudzu.layer import Affine"
   ]
  },
  {
   "cell_type": "markdown",
   "id": "bc01172a",
   "metadata": {
    "papermill": {
     "duration": 0.035361,
     "end_time": "2021-10-08T20:08:05.375666",
     "exception": false,
     "start_time": "2021-10-08T20:08:05.340305",
     "status": "completed"
    },
    "tags": []
   },
   "source": [
    "### Let us create a `Config` class, to store important parameters. \n",
    "This class essentially plays the role of a dictionary."
   ]
  },
  {
   "cell_type": "code",
   "execution_count": 16,
   "id": "978281aa",
   "metadata": {
    "execution": {
     "iopub.execute_input": "2021-10-08T20:08:05.454810Z",
     "iopub.status.busy": "2021-10-08T20:08:05.454057Z",
     "iopub.status.idle": "2021-10-08T20:08:05.468360Z",
     "shell.execute_reply": "2021-10-08T20:08:05.469000Z"
    },
    "papermill": {
     "duration": 0.055945,
     "end_time": "2021-10-08T20:08:05.469187",
     "exception": false,
     "start_time": "2021-10-08T20:08:05.413242",
     "status": "completed"
    },
    "tags": []
   },
   "outputs": [],
   "source": [
    "class Config:\n",
    "    pass\n",
    "config = Config()\n",
    "config.lr = 0.001\n",
    "config.num_epochs = 250\n",
    "config.bs = 50"
   ]
  },
  {
   "cell_type": "markdown",
   "id": "1385fa59",
   "metadata": {
    "papermill": {
     "duration": 0.033819,
     "end_time": "2021-10-08T20:08:05.540431",
     "exception": false,
     "start_time": "2021-10-08T20:08:05.506612",
     "status": "completed"
    },
    "tags": []
   },
   "source": [
    "### Running Models with the Training data\n",
    "Details about the network layers:\n",
    "- A first affine layer has 784 inputs and does 100 affine transforms. These are followed by a Relu\n",
    "- A second affine layer has 100 inputs from the 100 activations of the past layer, and does 100 affine transforms. These are followed by a Relu\n",
    "- A third affine layer has 100 activations and does 2 affine transformations to create an embedding for visualization. There is no non-linearity here.\n",
    "- A final \"logistic regression\" which has an affine transform from 2 inputs to 1 output, which is squeezed through a sigmoid.\n"
   ]
  },
  {
   "cell_type": "code",
   "execution_count": 17,
   "id": "2b9c66db",
   "metadata": {
    "execution": {
     "iopub.execute_input": "2021-10-08T20:08:05.616972Z",
     "iopub.status.busy": "2021-10-08T20:08:05.616269Z",
     "iopub.status.idle": "2021-10-08T20:08:05.630900Z",
     "shell.execute_reply": "2021-10-08T20:08:05.630270Z"
    },
    "papermill": {
     "duration": 0.056312,
     "end_time": "2021-10-08T20:08:05.631038",
     "exception": false,
     "start_time": "2021-10-08T20:08:05.574726",
     "status": "completed"
    },
    "tags": []
   },
   "outputs": [],
   "source": [
    "data = Data(X_train, y_train.reshape(-1,1))\n",
    "sampler = Sampler(data, config.bs, shuffle=True)\n",
    "\n",
    "dl = Dataloader(data, sampler)\n",
    "\n",
    "opt = GD(config.lr)\n",
    "loss = MSE()"
   ]
  },
  {
   "cell_type": "code",
   "execution_count": 18,
   "id": "b275e4c2",
   "metadata": {
    "execution": {
     "iopub.execute_input": "2021-10-08T20:08:05.706641Z",
     "iopub.status.busy": "2021-10-08T20:08:05.705941Z",
     "iopub.status.idle": "2021-10-08T20:08:05.723089Z",
     "shell.execute_reply": "2021-10-08T20:08:05.722515Z"
    },
    "papermill": {
     "duration": 0.058084,
     "end_time": "2021-10-08T20:08:05.723255",
     "exception": false,
     "start_time": "2021-10-08T20:08:05.665171",
     "status": "completed"
    },
    "tags": []
   },
   "outputs": [],
   "source": [
    "training_data_x = X_train\n",
    "testing_data_x = X_test\n",
    "training_data_y = y_train.reshape(-1,1)\n",
    "testing_data_y = y_test.reshape(-1,1)"
   ]
  },
  {
   "cell_type": "code",
   "execution_count": 19,
   "id": "76951160",
   "metadata": {
    "execution": {
     "iopub.execute_input": "2021-10-08T20:08:05.800582Z",
     "iopub.status.busy": "2021-10-08T20:08:05.799548Z",
     "iopub.status.idle": "2021-10-08T20:08:05.831301Z",
     "shell.execute_reply": "2021-10-08T20:08:05.830598Z"
    },
    "papermill": {
     "duration": 0.074713,
     "end_time": "2021-10-08T20:08:05.831449",
     "exception": false,
     "start_time": "2021-10-08T20:08:05.756736",
     "status": "completed"
    },
    "tags": []
   },
   "outputs": [
    {
     "name": "stdout",
     "output_type": "stream",
     "text": [
      "xavier\n",
      "xavier\n",
      "xavier\n",
      "xavier\n",
      "xavier\n"
     ]
    }
   ],
   "source": [
    "layers = [Affine(\"first\", 784, 100), Relu(\"first\"), Affine(\"second\", 100, 100), Relu(\"second\"), Affine(\"third\", 100, 2), Affine(\"last\", 2, 1), Sigmoid(\"last\")]\n",
    "model_nn = Model(layers)\n",
    "model_lr = Model([Affine(\"logits\", 784, 1), Sigmoid(\"sigmoid\")])"
   ]
  },
  {
   "cell_type": "code",
   "execution_count": 20,
   "id": "6eede77a",
   "metadata": {
    "execution": {
     "iopub.execute_input": "2021-10-08T20:08:05.911043Z",
     "iopub.status.busy": "2021-10-08T20:08:05.910340Z",
     "iopub.status.idle": "2021-10-08T20:08:05.927242Z",
     "shell.execute_reply": "2021-10-08T20:08:05.926611Z"
    },
    "papermill": {
     "duration": 0.058566,
     "end_time": "2021-10-08T20:08:05.927434",
     "exception": false,
     "start_time": "2021-10-08T20:08:05.868868",
     "status": "completed"
    },
    "tags": []
   },
   "outputs": [],
   "source": [
    "nn_learner = Learner(loss, model_nn, opt, config.num_epochs)\n",
    "acc_nn = ClfCallback(nn_learner, config.bs, training_data_x , testing_data_x, training_data_y, testing_data_y)\n",
    "nn_learner.set_callbacks([acc_nn])"
   ]
  },
  {
   "cell_type": "code",
   "execution_count": 21,
   "id": "877b6cc7",
   "metadata": {
    "execution": {
     "iopub.execute_input": "2021-10-08T20:08:06.007592Z",
     "iopub.status.busy": "2021-10-08T20:08:06.006851Z",
     "iopub.status.idle": "2021-10-08T20:08:06.021293Z",
     "shell.execute_reply": "2021-10-08T20:08:06.021850Z"
    },
    "papermill": {
     "duration": 0.055613,
     "end_time": "2021-10-08T20:08:06.022017",
     "exception": false,
     "start_time": "2021-10-08T20:08:05.966404",
     "status": "completed"
    },
    "tags": []
   },
   "outputs": [],
   "source": [
    "lr_learner = Learner(loss, model_lr, opt, config.num_epochs)\n",
    "acc_lr = ClfCallback(lr_learner, config.bs, training_data_x , testing_data_x, training_data_y, testing_data_y)\n",
    "lr_learner.set_callbacks([acc_lr])"
   ]
  },
  {
   "cell_type": "code",
   "execution_count": 22,
   "id": "d9b133c3",
   "metadata": {
    "execution": {
     "iopub.execute_input": "2021-10-08T20:08:06.097968Z",
     "iopub.status.busy": "2021-10-08T20:08:06.097233Z",
     "iopub.status.idle": "2021-10-08T20:10:33.569496Z",
     "shell.execute_reply": "2021-10-08T20:10:33.570472Z"
    },
    "papermill": {
     "duration": 147.51192,
     "end_time": "2021-10-08T20:10:33.570667",
     "exception": false,
     "start_time": "2021-10-08T20:08:06.058747",
     "status": "completed"
    },
    "tags": []
   },
   "outputs": [
    {
     "name": "stdout",
     "output_type": "stream",
     "text": [
      "Epoch 0, Loss 0.2125\n",
      "Training Accuracy: 0.8298, Testing Accuracy: 0.8569\n",
      "\n"
     ]
    },
    {
     "name": "stdout",
     "output_type": "stream",
     "text": [
      "Epoch 10, Loss 0.0622\n",
      "Training Accuracy: 0.9362, Testing Accuracy: 0.9501\n",
      "\n"
     ]
    },
    {
     "name": "stdout",
     "output_type": "stream",
     "text": [
      "Epoch 20, Loss 0.0447\n",
      "Training Accuracy: 0.9510, Testing Accuracy: 0.9597\n",
      "\n"
     ]
    },
    {
     "name": "stdout",
     "output_type": "stream",
     "text": [
      "Epoch 30, Loss 0.0375\n",
      "Training Accuracy: 0.9579, Testing Accuracy: 0.9667\n",
      "\n"
     ]
    },
    {
     "name": "stdout",
     "output_type": "stream",
     "text": [
      "Epoch 40, Loss 0.0334\n",
      "Training Accuracy: 0.9617, Testing Accuracy: 0.9677\n",
      "\n"
     ]
    },
    {
     "name": "stdout",
     "output_type": "stream",
     "text": [
      "Epoch 50, Loss 0.0306\n",
      "Training Accuracy: 0.9651, Testing Accuracy: 0.9688\n",
      "\n"
     ]
    },
    {
     "name": "stdout",
     "output_type": "stream",
     "text": [
      "Epoch 60, Loss 0.0285\n",
      "Training Accuracy: 0.9672, Testing Accuracy: 0.9708\n",
      "\n"
     ]
    },
    {
     "name": "stdout",
     "output_type": "stream",
     "text": [
      "Epoch 70, Loss 0.0269\n",
      "Training Accuracy: 0.9702, Testing Accuracy: 0.9713\n",
      "\n"
     ]
    },
    {
     "name": "stdout",
     "output_type": "stream",
     "text": [
      "Epoch 80, Loss 0.0256\n",
      "Training Accuracy: 0.9710, Testing Accuracy: 0.9718\n",
      "\n"
     ]
    },
    {
     "name": "stdout",
     "output_type": "stream",
     "text": [
      "Epoch 90, Loss 0.0245\n",
      "Training Accuracy: 0.9723, Testing Accuracy: 0.9718\n",
      "\n"
     ]
    },
    {
     "name": "stdout",
     "output_type": "stream",
     "text": [
      "Epoch 100, Loss 0.0235\n",
      "Training Accuracy: 0.9738, Testing Accuracy: 0.9718\n",
      "\n"
     ]
    },
    {
     "name": "stdout",
     "output_type": "stream",
     "text": [
      "Epoch 110, Loss 0.0226\n",
      "Training Accuracy: 0.9750, Testing Accuracy: 0.9723\n",
      "\n"
     ]
    },
    {
     "name": "stdout",
     "output_type": "stream",
     "text": [
      "Epoch 120, Loss 0.0218\n",
      "Training Accuracy: 0.9760, Testing Accuracy: 0.9738\n",
      "\n"
     ]
    },
    {
     "name": "stdout",
     "output_type": "stream",
     "text": [
      "Epoch 130, Loss 0.0211\n",
      "Training Accuracy: 0.9769, Testing Accuracy: 0.9748\n",
      "\n"
     ]
    },
    {
     "name": "stdout",
     "output_type": "stream",
     "text": [
      "Epoch 140, Loss 0.0205\n",
      "Training Accuracy: 0.9777, Testing Accuracy: 0.9748\n",
      "\n"
     ]
    },
    {
     "name": "stdout",
     "output_type": "stream",
     "text": [
      "Epoch 150, Loss 0.0198\n",
      "Training Accuracy: 0.9781, Testing Accuracy: 0.9768\n",
      "\n"
     ]
    },
    {
     "name": "stdout",
     "output_type": "stream",
     "text": [
      "Epoch 160, Loss 0.0193\n",
      "Training Accuracy: 0.9790, Testing Accuracy: 0.9763\n",
      "\n"
     ]
    },
    {
     "name": "stdout",
     "output_type": "stream",
     "text": [
      "Epoch 170, Loss 0.0187\n",
      "Training Accuracy: 0.9801, Testing Accuracy: 0.9763\n",
      "\n"
     ]
    },
    {
     "name": "stdout",
     "output_type": "stream",
     "text": [
      "Epoch 180, Loss 0.0182\n",
      "Training Accuracy: 0.9806, Testing Accuracy: 0.9763\n",
      "\n"
     ]
    },
    {
     "name": "stdout",
     "output_type": "stream",
     "text": [
      "Epoch 190, Loss 0.0177\n",
      "Training Accuracy: 0.9812, Testing Accuracy: 0.9753\n",
      "\n"
     ]
    },
    {
     "name": "stdout",
     "output_type": "stream",
     "text": [
      "Epoch 200, Loss 0.0172\n",
      "Training Accuracy: 0.9817, Testing Accuracy: 0.9753\n",
      "\n"
     ]
    },
    {
     "name": "stdout",
     "output_type": "stream",
     "text": [
      "Epoch 210, Loss 0.0168\n",
      "Training Accuracy: 0.9821, Testing Accuracy: 0.9758\n",
      "\n"
     ]
    },
    {
     "name": "stdout",
     "output_type": "stream",
     "text": [
      "Epoch 220, Loss 0.0163\n",
      "Training Accuracy: 0.9825, Testing Accuracy: 0.9763\n",
      "\n"
     ]
    },
    {
     "name": "stdout",
     "output_type": "stream",
     "text": [
      "Epoch 230, Loss 0.0159\n",
      "Training Accuracy: 0.9831, Testing Accuracy: 0.9768\n",
      "\n"
     ]
    },
    {
     "name": "stdout",
     "output_type": "stream",
     "text": [
      "Epoch 240, Loss 0.0155\n",
      "Training Accuracy: 0.9836, Testing Accuracy: 0.9773\n",
      "\n"
     ]
    },
    {
     "data": {
      "text/plain": [
       "0.02850567779675314"
      ]
     },
     "execution_count": 22,
     "metadata": {},
     "output_type": "execute_result"
    }
   ],
   "source": [
    "nn_learner.train_loop(dl)"
   ]
  },
  {
   "cell_type": "code",
   "execution_count": 23,
   "id": "e0163366",
   "metadata": {
    "execution": {
     "iopub.execute_input": "2021-10-08T20:10:33.671025Z",
     "iopub.status.busy": "2021-10-08T20:10:33.670289Z",
     "iopub.status.idle": "2021-10-08T20:10:54.468371Z",
     "shell.execute_reply": "2021-10-08T20:10:54.469283Z"
    },
    "papermill": {
     "duration": 20.853035,
     "end_time": "2021-10-08T20:10:54.469449",
     "exception": false,
     "start_time": "2021-10-08T20:10:33.616414",
     "status": "completed"
    },
    "tags": []
   },
   "outputs": [
    {
     "name": "stdout",
     "output_type": "stream",
     "text": [
      "Epoch 0, Loss 0.2334\n",
      "Training Accuracy: 0.7128, Testing Accuracy: 0.7334\n",
      "\n"
     ]
    },
    {
     "name": "stdout",
     "output_type": "stream",
     "text": [
      "Epoch 10, Loss 0.105\n",
      "Training Accuracy: 0.9020, Testing Accuracy: 0.9123\n",
      "\n"
     ]
    },
    {
     "name": "stdout",
     "output_type": "stream",
     "text": [
      "Epoch 20, Loss 0.0811\n",
      "Training Accuracy: 0.9221, Testing Accuracy: 0.9320\n",
      "\n"
     ]
    },
    {
     "name": "stdout",
     "output_type": "stream",
     "text": [
      "Epoch 30, Loss 0.0699\n",
      "Training Accuracy: 0.9319, Testing Accuracy: 0.9405\n",
      "\n"
     ]
    },
    {
     "name": "stdout",
     "output_type": "stream",
     "text": [
      "Epoch 40, Loss 0.063\n",
      "Training Accuracy: 0.9388, Testing Accuracy: 0.9481\n",
      "\n"
     ]
    },
    {
     "name": "stdout",
     "output_type": "stream",
     "text": [
      "Epoch 50, Loss 0.0583\n",
      "Training Accuracy: 0.9424, Testing Accuracy: 0.9526\n",
      "\n"
     ]
    },
    {
     "name": "stdout",
     "output_type": "stream",
     "text": [
      "Epoch 60, Loss 0.0549\n",
      "Training Accuracy: 0.9451, Testing Accuracy: 0.9546\n",
      "\n"
     ]
    },
    {
     "name": "stdout",
     "output_type": "stream",
     "text": [
      "Epoch 70, Loss 0.0522\n",
      "Training Accuracy: 0.9476, Testing Accuracy: 0.9567\n",
      "\n"
     ]
    },
    {
     "name": "stdout",
     "output_type": "stream",
     "text": [
      "Epoch 80, Loss 0.0501\n",
      "Training Accuracy: 0.9495, Testing Accuracy: 0.9577\n",
      "\n"
     ]
    },
    {
     "name": "stdout",
     "output_type": "stream",
     "text": [
      "Epoch 90, Loss 0.0484\n",
      "Training Accuracy: 0.9507, Testing Accuracy: 0.9597\n",
      "\n"
     ]
    },
    {
     "name": "stdout",
     "output_type": "stream",
     "text": [
      "Epoch 100, Loss 0.0469\n",
      "Training Accuracy: 0.9518, Testing Accuracy: 0.9607\n",
      "\n"
     ]
    },
    {
     "name": "stdout",
     "output_type": "stream",
     "text": [
      "Epoch 110, Loss 0.0456\n",
      "Training Accuracy: 0.9528, Testing Accuracy: 0.9617\n",
      "\n"
     ]
    },
    {
     "name": "stdout",
     "output_type": "stream",
     "text": [
      "Epoch 120, Loss 0.0445\n",
      "Training Accuracy: 0.9534, Testing Accuracy: 0.9627\n",
      "\n"
     ]
    },
    {
     "name": "stdout",
     "output_type": "stream",
     "text": [
      "Epoch 130, Loss 0.0436\n",
      "Training Accuracy: 0.9542, Testing Accuracy: 0.9637\n",
      "\n"
     ]
    },
    {
     "name": "stdout",
     "output_type": "stream",
     "text": [
      "Epoch 140, Loss 0.0427\n",
      "Training Accuracy: 0.9553, Testing Accuracy: 0.9632\n",
      "\n"
     ]
    },
    {
     "name": "stdout",
     "output_type": "stream",
     "text": [
      "Epoch 150, Loss 0.0419\n",
      "Training Accuracy: 0.9560, Testing Accuracy: 0.9637\n",
      "\n"
     ]
    },
    {
     "name": "stdout",
     "output_type": "stream",
     "text": [
      "Epoch 160, Loss 0.0412\n",
      "Training Accuracy: 0.9570, Testing Accuracy: 0.9652\n",
      "\n"
     ]
    },
    {
     "name": "stdout",
     "output_type": "stream",
     "text": [
      "Epoch 170, Loss 0.0406\n",
      "Training Accuracy: 0.9575, Testing Accuracy: 0.9667\n",
      "\n"
     ]
    },
    {
     "name": "stdout",
     "output_type": "stream",
     "text": [
      "Epoch 180, Loss 0.04\n",
      "Training Accuracy: 0.9582, Testing Accuracy: 0.9672\n",
      "\n"
     ]
    },
    {
     "name": "stdout",
     "output_type": "stream",
     "text": [
      "Epoch 190, Loss 0.0395\n",
      "Training Accuracy: 0.9589, Testing Accuracy: 0.9672\n",
      "\n"
     ]
    },
    {
     "name": "stdout",
     "output_type": "stream",
     "text": [
      "Epoch 200, Loss 0.039\n",
      "Training Accuracy: 0.9589, Testing Accuracy: 0.9677\n",
      "\n"
     ]
    },
    {
     "name": "stdout",
     "output_type": "stream",
     "text": [
      "Epoch 210, Loss 0.0385\n",
      "Training Accuracy: 0.9594, Testing Accuracy: 0.9677\n",
      "\n"
     ]
    },
    {
     "name": "stdout",
     "output_type": "stream",
     "text": [
      "Epoch 220, Loss 0.0381\n",
      "Training Accuracy: 0.9597, Testing Accuracy: 0.9677\n",
      "\n"
     ]
    },
    {
     "name": "stdout",
     "output_type": "stream",
     "text": [
      "Epoch 230, Loss 0.0377\n",
      "Training Accuracy: 0.9599, Testing Accuracy: 0.9672\n",
      "\n"
     ]
    },
    {
     "name": "stdout",
     "output_type": "stream",
     "text": [
      "Epoch 240, Loss 0.0373\n",
      "Training Accuracy: 0.9599, Testing Accuracy: 0.9672\n",
      "\n"
     ]
    },
    {
     "data": {
      "text/plain": [
       "0.019541270740400962"
      ]
     },
     "execution_count": 23,
     "metadata": {},
     "output_type": "execute_result"
    }
   ],
   "source": [
    "lr_learner.train_loop(dl)"
   ]
  },
  {
   "cell_type": "code",
   "execution_count": 24,
   "id": "ca410940",
   "metadata": {
    "execution": {
     "iopub.execute_input": "2021-10-08T20:10:54.585582Z",
     "iopub.status.busy": "2021-10-08T20:10:54.584909Z",
     "iopub.status.idle": "2021-10-08T20:10:54.904429Z",
     "shell.execute_reply": "2021-10-08T20:10:54.903871Z"
    },
    "papermill": {
     "duration": 0.378255,
     "end_time": "2021-10-08T20:10:54.904581",
     "exception": false,
     "start_time": "2021-10-08T20:10:54.526326",
     "status": "completed"
    },
    "tags": []
   },
   "outputs": [
    {
     "data": {
      "text/plain": [
       "<matplotlib.legend.Legend at 0x7f5874f4a940>"
      ]
     },
     "execution_count": 24,
     "metadata": {},
     "output_type": "execute_result"
    },
    {
     "data": {
      "image/png": "[encoded data removed]",
      "text/plain": [
       "<Figure size 1080x720 with 1 Axes>"
      ]
     },
     "metadata": {
      "needs_background": "light"
     },
     "output_type": "display_data"
    }
   ],
   "source": [
    "#comparing the results of NN and LR\n",
    "plt.figure(figsize=(15,10))\n",
    "\n",
    "# Neural Network plots\n",
    "plt.plot(acc_nn.accuracies, 'r-', label = \"Training Accuracies - NN\")\n",
    "plt.plot(acc_nn.test_accuracies, 'g-', label = \"Testing Accuracies - NN\")\n",
    "\n",
    "# Logistic Regression plots\n",
    "plt.plot(acc_lr.accuracies, 'k-', label = \"Training Accuracies - LR\")\n",
    "plt.plot(acc_lr.test_accuracies, 'b-', label = \"Testing Accuracies - LR\")\n",
    "plt.legend()"
   ]
  },
  {
   "cell_type": "markdown",
   "id": "80dfb35c",
   "metadata": {
    "papermill": {
     "duration": 0.055336,
     "end_time": "2021-10-08T20:10:55.016944",
     "exception": false,
     "start_time": "2021-10-08T20:10:54.961608",
     "status": "completed"
    },
    "tags": []
   },
   "source": [
    "#### Plotting the outputs of this layer of the NN.\n"
   ]
  },
  {
   "cell_type": "code",
   "execution_count": 25,
   "id": "45eb2ff5",
   "metadata": {
    "execution": {
     "iopub.execute_input": "2021-10-08T20:10:55.136714Z",
     "iopub.status.busy": "2021-10-08T20:10:55.136087Z",
     "iopub.status.idle": "2021-10-08T20:10:55.162999Z",
     "shell.execute_reply": "2021-10-08T20:10:55.163611Z"
    },
    "papermill": {
     "duration": 0.089123,
     "end_time": "2021-10-08T20:10:55.163838",
     "exception": false,
     "start_time": "2021-10-08T20:10:55.074715",
     "status": "completed"
    },
    "tags": []
   },
   "outputs": [],
   "source": [
    "new_model = Model(layers[:-2])\n",
    "testing_plot = new_model(testing_data_x)"
   ]
  },
  {
   "cell_type": "code",
   "execution_count": 26,
   "id": "4c0a5485",
   "metadata": {
    "execution": {
     "iopub.execute_input": "2021-10-08T20:10:55.297487Z",
     "iopub.status.busy": "2021-10-08T20:10:55.296279Z",
     "iopub.status.idle": "2021-10-08T20:10:55.571727Z",
     "shell.execute_reply": "2021-10-08T20:10:55.571151Z"
    },
    "papermill": {
     "duration": 0.344787,
     "end_time": "2021-10-08T20:10:55.571872",
     "exception": false,
     "start_time": "2021-10-08T20:10:55.227085",
     "status": "completed"
    },
    "tags": []
   },
   "outputs": [
    {
     "data": {
      "text/plain": [
       "Text(0.5, 1.0, 'Outputs')"
      ]
     },
     "execution_count": 26,
     "metadata": {},
     "output_type": "execute_result"
    },
    {
     "data": {
      "image/png": "[encoded data removed]",
      "text/plain": [
       "<Figure size 576x504 with 1 Axes>"
      ]
     },
     "metadata": {
      "needs_background": "light"
     },
     "output_type": "display_data"
    }
   ],
   "source": [
    "# Plotting the scatter plot of points and color coding by class\n",
    "plt.figure(figsize=(8,7))\n",
    "plt.scatter(testing_plot[:,0], testing_plot[:,1], alpha = 0.1, c = y_test.ravel());\n",
    "plt.title('Outputs')"
   ]
  },
  {
   "cell_type": "markdown",
   "id": "a74fcf8f",
   "metadata": {
    "papermill": {
     "duration": 0.055857,
     "end_time": "2021-10-08T20:10:55.686746",
     "exception": false,
     "start_time": "2021-10-08T20:10:55.630889",
     "status": "completed"
    },
    "tags": []
   },
   "source": [
    "Probability contours"
   ]
  },
  {
   "cell_type": "code",
   "execution_count": 27,
   "id": "d0afc8e3",
   "metadata": {
    "execution": {
     "iopub.execute_input": "2021-10-08T20:10:55.814466Z",
     "iopub.status.busy": "2021-10-08T20:10:55.813631Z",
     "iopub.status.idle": "2021-10-08T20:10:55.822138Z",
     "shell.execute_reply": "2021-10-08T20:10:55.821554Z"
    },
    "papermill": {
     "duration": 0.076417,
     "end_time": "2021-10-08T20:10:55.822296",
     "exception": false,
     "start_time": "2021-10-08T20:10:55.745879",
     "status": "completed"
    },
    "tags": []
   },
   "outputs": [],
   "source": [
    "model_prob = Model(layers[-2:]) "
   ]
  },
  {
   "cell_type": "code",
   "execution_count": 28,
   "id": "9b96e238",
   "metadata": {
    "execution": {
     "iopub.execute_input": "2021-10-08T20:10:55.981874Z",
     "iopub.status.busy": "2021-10-08T20:10:55.981174Z",
     "iopub.status.idle": "2021-10-08T20:10:55.996264Z",
     "shell.execute_reply": "2021-10-08T20:10:55.996798Z"
    },
    "papermill": {
     "duration": 0.109274,
     "end_time": "2021-10-08T20:10:55.996971",
     "exception": false,
     "start_time": "2021-10-08T20:10:55.887697",
     "status": "completed"
    },
    "tags": []
   },
   "outputs": [],
   "source": [
    "#creating the x and y ranges according to the above generated plot.\n",
    "x_range = np.linspace(-4, 1, 100) \n",
    "y_range = np.linspace(-6, 6, 100) \n",
    "x_grid, y_grid = np.meshgrid(x_range, y_range) # x_grid and y_grig are of size 100 X 100\n",
    "\n",
    "# converting x_grid and y_grid to continuous arrays\n",
    "x_gridflat = np.ravel(x_grid)\n",
    "y_gridflat = np.ravel(y_grid)\n",
    "\n",
    "# The last layer of the current model takes two columns as input. Hence transpose of np.vstack() is required.\n",
    "X = np.vstack((x_gridflat, y_gridflat)).T\n",
    "\n",
    "prob_contour = model_prob(X).reshape(100,100) "
   ]
  },
  {
   "cell_type": "code",
   "execution_count": 29,
   "id": "da72499a",
   "metadata": {
    "execution": {
     "iopub.execute_input": "2021-10-08T20:10:56.126159Z",
     "iopub.status.busy": "2021-10-08T20:10:56.125448Z",
     "iopub.status.idle": "2021-10-08T20:10:56.463653Z",
     "shell.execute_reply": "2021-10-08T20:10:56.463101Z"
    },
    "papermill": {
     "duration": 0.402461,
     "end_time": "2021-10-08T20:10:56.463794",
     "exception": false,
     "start_time": "2021-10-08T20:10:56.061333",
     "status": "completed"
    },
    "tags": []
   },
   "outputs": [
    {
     "data": {
      "image/png": "[encoded data removed]",
      "text/plain": [
       "<Figure size 720x648 with 1 Axes>"
      ]
     },
     "metadata": {
      "needs_background": "light"
     },
     "output_type": "display_data"
    }
   ],
   "source": [
    "plt.figure(figsize=(10,9))\n",
    "plt.scatter(testing_plot[:,0], testing_plot[:,1], alpha = 0.1, c = y_test.ravel())\n",
    "contours = plt.contour(x_grid,y_grid,prob_contour)\n",
    "plt.title('Probability Contours')\n",
    "plt.clabel(contours, inline = True );"
   ]
  },
  {
   "cell_type": "code",
   "execution_count": null,
   "id": "e81b4ac7",
   "metadata": {
    "papermill": {
     "duration": 0.060337,
     "end_time": "2021-10-08T20:10:56.584728",
     "exception": false,
     "start_time": "2021-10-08T20:10:56.524391",
     "status": "completed"
    },
    "tags": []
   },
   "outputs": [],
   "source": []
  }
 ],
 "metadata": {
  "kernelspec": {
   "display_name": "Python 3",
   "language": "python",
   "name": "python3"
  },
  "language_info": {
   "codemirror_mode": {
    "name": "ipython",
    "version": 3
   },
   "file_extension": ".py",
   "mimetype": "text/x-python",
   "name": "python",
   "nbconvert_exporter": "python",
   "pygments_lexer": "ipython3",
   "version": "3.6.15"
  },
  "papermill": {
   "default_parameters": {},
   "duration": 179.001535,
   "end_time": "2021-10-08T20:10:57.062498",
   "environment_variables": {},
   "exception": null,
   "input_path": "2020-08-11-part2.ipynb",
   "output_path": "2020-08-11-part2.ipynb",
   "parameters": {},
   "start_time": "2021-10-08T20:07:58.060963",
   "version": "2.3.3"
  }
 },
 "nbformat": 4,
 "nbformat_minor": 5
}