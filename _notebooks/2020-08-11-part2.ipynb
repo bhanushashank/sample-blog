{
 "cells": [
  {
   "cell_type": "markdown",
   "id": "98380cd3",
   "metadata": {
    "papermill": {
     "duration": 0.03505,
     "end_time": "2022-10-25T00:59:48.506266",
     "exception": false,
     "start_time": "2022-10-25T00:59:48.471216",
     "status": "completed"
    },
    "tags": []
   },
   "source": [
    "# Distinguish Your Own Digits (DYOD)"
   ]
  },
  {
   "cell_type": "markdown",
   "id": "ef31240d",
   "metadata": {
    "papermill": {
     "duration": 0.027915,
     "end_time": "2022-10-25T00:59:48.565167",
     "exception": false,
     "start_time": "2022-10-25T00:59:48.537252",
     "status": "completed"
    },
    "tags": []
   },
   "source": [
    "You are going to write a classifier that distinguishes between the number 3 and number 8."
   ]
  },
  {
   "cell_type": "code",
   "execution_count": 1,
   "id": "b15c8646",
   "metadata": {
    "execution": {
     "iopub.execute_input": "2022-10-25T00:59:48.637521Z",
     "iopub.status.busy": "2022-10-25T00:59:48.636674Z",
     "iopub.status.idle": "2022-10-25T00:59:48.649099Z",
     "shell.execute_reply": "2022-10-25T00:59:48.648552Z"
    },
    "papermill": {
     "duration": 0.055267,
     "end_time": "2022-10-25T00:59:48.649230",
     "exception": false,
     "start_time": "2022-10-25T00:59:48.593963",
     "status": "completed"
    },
    "tags": []
   },
   "outputs": [],
   "source": [
    "%load_ext autoreload\n",
    "%autoreload 2"
   ]
  },
  {
   "cell_type": "code",
   "execution_count": 2,
   "id": "22ef38dc",
   "metadata": {
    "execution": {
     "iopub.execute_input": "2022-10-25T00:59:48.710856Z",
     "iopub.status.busy": "2022-10-25T00:59:48.709961Z",
     "iopub.status.idle": "2022-10-25T00:59:49.352535Z",
     "shell.execute_reply": "2022-10-25T00:59:49.351464Z"
    },
    "papermill": {
     "duration": 0.676273,
     "end_time": "2022-10-25T00:59:49.352685",
     "exception": false,
     "start_time": "2022-10-25T00:59:48.676412",
     "status": "completed"
    },
    "tags": []
   },
   "outputs": [],
   "source": [
    "%matplotlib inline\n",
    "import numpy as np\n",
    "import matplotlib.pyplot as plt\n",
    "import pandas as pd"
   ]
  },
  {
   "cell_type": "markdown",
   "id": "ba036198",
   "metadata": {
    "papermill": {
     "duration": 0.03297,
     "end_time": "2022-10-25T00:59:49.418261",
     "exception": false,
     "start_time": "2022-10-25T00:59:49.385291",
     "status": "completed"
    },
    "tags": []
   },
   "source": [
    "From the command line run `pip install mnist`. This is a library that will help you bring down the mnist dataset. If you run this from a notebook, you need to put  `!pip install mnist` in a cell by itself."
   ]
  },
  {
   "cell_type": "code",
   "execution_count": 3,
   "id": "bb6ad8a1",
   "metadata": {
    "execution": {
     "iopub.execute_input": "2022-10-25T00:59:49.490105Z",
     "iopub.status.busy": "2022-10-25T00:59:49.488632Z",
     "iopub.status.idle": "2022-10-25T00:59:52.297559Z",
     "shell.execute_reply": "2022-10-25T00:59:52.296320Z"
    },
    "papermill": {
     "duration": 2.847164,
     "end_time": "2022-10-25T00:59:52.297706",
     "exception": false,
     "start_time": "2022-10-25T00:59:49.450542",
     "status": "completed"
    },
    "tags": []
   },
   "outputs": [
    {
     "name": "stdout",
     "output_type": "stream",
     "text": [
      "Collecting mnist\r\n"
     ]
    },
    {
     "name": "stdout",
     "output_type": "stream",
     "text": [
      "  Downloading mnist-0.2.2-py2.py3-none-any.whl (3.5 kB)\r\n",
      "Requirement already satisfied: numpy in /opt/hostedtoolcache/Python/3.6.15/x64/lib/python3.6/site-packages (from mnist) (1.19.5)\r\n"
     ]
    },
    {
     "name": "stdout",
     "output_type": "stream",
     "text": [
      "Installing collected packages: mnist\r\n"
     ]
    },
    {
     "name": "stdout",
     "output_type": "stream",
     "text": [
      "Successfully installed mnist-0.2.2\r\n"
     ]
    }
   ],
   "source": [
    "!pip install mnist"
   ]
  },
  {
   "cell_type": "markdown",
   "id": "69df9c9a",
   "metadata": {
    "papermill": {
     "duration": 0.031975,
     "end_time": "2022-10-25T00:59:52.371973",
     "exception": false,
     "start_time": "2022-10-25T00:59:52.339998",
     "status": "completed"
    },
    "tags": []
   },
   "source": [
    "## Preparing the Data"
   ]
  },
  {
   "cell_type": "code",
   "execution_count": 4,
   "id": "7f69d806",
   "metadata": {
    "execution": {
     "iopub.execute_input": "2022-10-25T00:59:52.446622Z",
     "iopub.status.busy": "2022-10-25T00:59:52.443819Z",
     "iopub.status.idle": "2022-10-25T00:59:52.462058Z",
     "shell.execute_reply": "2022-10-25T00:59:52.461378Z"
    },
    "papermill": {
     "duration": 0.055759,
     "end_time": "2022-10-25T00:59:52.462176",
     "exception": false,
     "start_time": "2022-10-25T00:59:52.406417",
     "status": "completed"
    },
    "tags": []
   },
   "outputs": [],
   "source": [
    "import mnist"
   ]
  },
  {
   "cell_type": "code",
   "execution_count": 5,
   "id": "a411e44f",
   "metadata": {
    "execution": {
     "iopub.execute_input": "2022-10-25T00:59:52.532085Z",
     "iopub.status.busy": "2022-10-25T00:59:52.526794Z",
     "iopub.status.idle": "2022-10-25T00:59:53.856280Z",
     "shell.execute_reply": "2022-10-25T00:59:53.856925Z"
    },
    "papermill": {
     "duration": 1.363602,
     "end_time": "2022-10-25T00:59:53.857097",
     "exception": false,
     "start_time": "2022-10-25T00:59:52.493495",
     "status": "completed"
    },
    "tags": []
   },
   "outputs": [],
   "source": [
    "train_images = mnist.train_images()\n",
    "train_labels = mnist.train_labels()"
   ]
  },
  {
   "cell_type": "code",
   "execution_count": 6,
   "id": "dceab3a5",
   "metadata": {
    "execution": {
     "iopub.execute_input": "2022-10-25T00:59:53.934434Z",
     "iopub.status.busy": "2022-10-25T00:59:53.929699Z",
     "iopub.status.idle": "2022-10-25T00:59:53.946142Z",
     "shell.execute_reply": "2022-10-25T00:59:53.945567Z"
    },
    "papermill": {
     "duration": 0.053784,
     "end_time": "2022-10-25T00:59:53.946257",
     "exception": false,
     "start_time": "2022-10-25T00:59:53.892473",
     "status": "completed"
    },
    "tags": []
   },
   "outputs": [
    {
     "data": {
      "text/plain": [
       "((60000, 28, 28), (60000,))"
      ]
     },
     "execution_count": 6,
     "metadata": {},
     "output_type": "execute_result"
    }
   ],
   "source": [
    "train_images.shape, train_labels.shape"
   ]
  },
  {
   "cell_type": "code",
   "execution_count": 7,
   "id": "f50dc2bb",
   "metadata": {
    "execution": {
     "iopub.execute_input": "2022-10-25T00:59:54.011862Z",
     "iopub.status.busy": "2022-10-25T00:59:54.011040Z",
     "iopub.status.idle": "2022-10-25T00:59:54.170842Z",
     "shell.execute_reply": "2022-10-25T00:59:54.170199Z"
    },
    "papermill": {
     "duration": 0.193505,
     "end_time": "2022-10-25T00:59:54.170977",
     "exception": false,
     "start_time": "2022-10-25T00:59:53.977472",
     "status": "completed"
    },
    "tags": []
   },
   "outputs": [],
   "source": [
    "test_images = mnist.test_images()\n",
    "test_labels = mnist.test_labels()"
   ]
  },
  {
   "cell_type": "code",
   "execution_count": 8,
   "id": "fc38cf1b",
   "metadata": {
    "execution": {
     "iopub.execute_input": "2022-10-25T00:59:54.237588Z",
     "iopub.status.busy": "2022-10-25T00:59:54.236808Z",
     "iopub.status.idle": "2022-10-25T00:59:54.256540Z",
     "shell.execute_reply": "2022-10-25T00:59:54.257089Z"
    },
    "papermill": {
     "duration": 0.055406,
     "end_time": "2022-10-25T00:59:54.257227",
     "exception": false,
     "start_time": "2022-10-25T00:59:54.201821",
     "status": "completed"
    },
    "tags": []
   },
   "outputs": [
    {
     "data": {
      "text/plain": [
       "((10000, 28, 28), (10000,))"
      ]
     },
     "execution_count": 8,
     "metadata": {},
     "output_type": "execute_result"
    }
   ],
   "source": [
    "test_images.shape, test_labels.shape"
   ]
  },
  {
   "cell_type": "code",
   "execution_count": 9,
   "id": "f9ed8fe0",
   "metadata": {
    "execution": {
     "iopub.execute_input": "2022-10-25T00:59:54.337115Z",
     "iopub.status.busy": "2022-10-25T00:59:54.336390Z",
     "iopub.status.idle": "2022-10-25T00:59:54.532145Z",
     "shell.execute_reply": "2022-10-25T00:59:54.531525Z"
    },
    "papermill": {
     "duration": 0.23239,
     "end_time": "2022-10-25T00:59:54.532303",
     "exception": false,
     "start_time": "2022-10-25T00:59:54.299913",
     "status": "completed"
    },
    "tags": []
   },
   "outputs": [
    {
     "name": "stdout",
     "output_type": "stream",
     "text": [
      "2\n"
     ]
    },
    {
     "data": {
      "text/plain": [
       "<matplotlib.image.AxesImage at 0x7fdad45abcc0>"
      ]
     },
     "execution_count": 9,
     "metadata": {},
     "output_type": "execute_result"
    },
    {
     "data": {
      "image/png": "[encoded data removed]",
      "text/plain": [
       "<Figure size 432x288 with 1 Axes>"
      ]
     },
     "metadata": {
      "needs_background": "light"
     },
     "output_type": "display_data"
    }
   ],
   "source": [
    "image_index = 7776 # You may select anything up to 60,000\n",
    "print(train_labels[image_index]) \n",
    "plt.imshow(train_images[image_index], cmap='Greys')"
   ]
  },
  {
   "cell_type": "markdown",
   "id": "a8d2388d",
   "metadata": {
    "papermill": {
     "duration": 0.03092,
     "end_time": "2022-10-25T00:59:54.595085",
     "exception": false,
     "start_time": "2022-10-25T00:59:54.564165",
     "status": "completed"
    },
    "tags": []
   },
   "source": [
    "## Filter data to get 3 and 8 out"
   ]
  },
  {
   "cell_type": "code",
   "execution_count": 10,
   "id": "776f7fc7",
   "metadata": {
    "execution": {
     "iopub.execute_input": "2022-10-25T00:59:54.665080Z",
     "iopub.status.busy": "2022-10-25T00:59:54.664406Z",
     "iopub.status.idle": "2022-10-25T00:59:54.682202Z",
     "shell.execute_reply": "2022-10-25T00:59:54.681458Z"
    },
    "papermill": {
     "duration": 0.056849,
     "end_time": "2022-10-25T00:59:54.682329",
     "exception": false,
     "start_time": "2022-10-25T00:59:54.625480",
     "status": "completed"
    },
    "tags": []
   },
   "outputs": [],
   "source": [
    "train_filter = np.where((train_labels == 3 ) | (train_labels == 8))\n",
    "test_filter = np.where((test_labels == 3) | (test_labels == 8))\n",
    "X_train, y_train = train_images[train_filter], train_labels[train_filter]\n",
    "X_test, y_test = test_images[test_filter], test_labels[test_filter]"
   ]
  },
  {
   "cell_type": "markdown",
   "id": "948f0b7e",
   "metadata": {
    "papermill": {
     "duration": 0.032005,
     "end_time": "2022-10-25T00:59:54.748333",
     "exception": false,
     "start_time": "2022-10-25T00:59:54.716328",
     "status": "completed"
    },
    "tags": []
   },
   "source": [
    "We normalize the pizel values in the 0 to 1 range"
   ]
  },
  {
   "cell_type": "code",
   "execution_count": 11,
   "id": "ee4c2166",
   "metadata": {
    "execution": {
     "iopub.execute_input": "2022-10-25T00:59:54.819800Z",
     "iopub.status.busy": "2022-10-25T00:59:54.819152Z",
     "iopub.status.idle": "2022-10-25T00:59:54.882465Z",
     "shell.execute_reply": "2022-10-25T00:59:54.883098Z"
    },
    "papermill": {
     "duration": 0.103003,
     "end_time": "2022-10-25T00:59:54.883269",
     "exception": false,
     "start_time": "2022-10-25T00:59:54.780266",
     "status": "completed"
    },
    "tags": []
   },
   "outputs": [],
   "source": [
    "X_train = X_train/255.\n",
    "X_test = X_test/255."
   ]
  },
  {
   "cell_type": "markdown",
   "id": "ddcf4fab",
   "metadata": {
    "papermill": {
     "duration": 0.0316,
     "end_time": "2022-10-25T00:59:54.948469",
     "exception": false,
     "start_time": "2022-10-25T00:59:54.916869",
     "status": "completed"
    },
    "tags": []
   },
   "source": [
    "And setup the labels as 1 (when the digit is 3) and 0 (when the digit is 8)"
   ]
  },
  {
   "cell_type": "code",
   "execution_count": 12,
   "id": "7dc908f2",
   "metadata": {
    "execution": {
     "iopub.execute_input": "2022-10-25T00:59:55.018590Z",
     "iopub.status.busy": "2022-10-25T00:59:55.017909Z",
     "iopub.status.idle": "2022-10-25T00:59:55.033279Z",
     "shell.execute_reply": "2022-10-25T00:59:55.032727Z"
    },
    "papermill": {
     "duration": 0.053482,
     "end_time": "2022-10-25T00:59:55.033432",
     "exception": false,
     "start_time": "2022-10-25T00:59:54.979950",
     "status": "completed"
    },
    "tags": []
   },
   "outputs": [],
   "source": [
    "y_train = 1*(y_train==3)\n",
    "y_test = 1*(y_test==3)"
   ]
  },
  {
   "cell_type": "code",
   "execution_count": 13,
   "id": "01e4e969",
   "metadata": {
    "execution": {
     "iopub.execute_input": "2022-10-25T00:59:55.103969Z",
     "iopub.status.busy": "2022-10-25T00:59:55.103232Z",
     "iopub.status.idle": "2022-10-25T00:59:55.118642Z",
     "shell.execute_reply": "2022-10-25T00:59:55.119295Z"
    },
    "papermill": {
     "duration": 0.052871,
     "end_time": "2022-10-25T00:59:55.119434",
     "exception": false,
     "start_time": "2022-10-25T00:59:55.066563",
     "status": "completed"
    },
    "tags": []
   },
   "outputs": [
    {
     "data": {
      "text/plain": [
       "((11982, 28, 28), (1984, 28, 28))"
      ]
     },
     "execution_count": 13,
     "metadata": {},
     "output_type": "execute_result"
    }
   ],
   "source": [
    "X_train.shape, X_test.shape"
   ]
  },
  {
   "cell_type": "markdown",
   "id": "5ccf3f85",
   "metadata": {
    "papermill": {
     "duration": 0.032182,
     "end_time": "2022-10-25T00:59:55.186304",
     "exception": false,
     "start_time": "2022-10-25T00:59:55.154122",
     "status": "completed"
    },
    "tags": []
   },
   "source": [
    "We reshape the data to flatten the image pixels into a set of features or co-variates:"
   ]
  },
  {
   "cell_type": "code",
   "execution_count": 14,
   "id": "5286a4a3",
   "metadata": {
    "execution": {
     "iopub.execute_input": "2022-10-25T00:59:55.262152Z",
     "iopub.status.busy": "2022-10-25T00:59:55.261285Z",
     "iopub.status.idle": "2022-10-25T00:59:55.278621Z",
     "shell.execute_reply": "2022-10-25T00:59:55.278059Z"
    },
    "papermill": {
     "duration": 0.055527,
     "end_time": "2022-10-25T00:59:55.278744",
     "exception": false,
     "start_time": "2022-10-25T00:59:55.223217",
     "status": "completed"
    },
    "tags": []
   },
   "outputs": [
    {
     "data": {
      "text/plain": [
       "((11982, 784), (1984, 784))"
      ]
     },
     "execution_count": 14,
     "metadata": {},
     "output_type": "execute_result"
    }
   ],
   "source": [
    "X_train = X_train.reshape(X_train.shape[0], -1)\n",
    "X_test = X_test.reshape(X_test.shape[0], -1)\n",
    "X_train.shape, X_test.shape"
   ]
  },
  {
   "cell_type": "code",
   "execution_count": 15,
   "id": "73c5f88a",
   "metadata": {
    "execution": {
     "iopub.execute_input": "2022-10-25T00:59:55.349750Z",
     "iopub.status.busy": "2022-10-25T00:59:55.349059Z",
     "iopub.status.idle": "2022-10-25T00:59:55.371156Z",
     "shell.execute_reply": "2022-10-25T00:59:55.371736Z"
    },
    "papermill": {
     "duration": 0.059724,
     "end_time": "2022-10-25T00:59:55.371869",
     "exception": false,
     "start_time": "2022-10-25T00:59:55.312145",
     "status": "completed"
    },
    "tags": []
   },
   "outputs": [],
   "source": [
    "#Impoting functions from 'Kudzu'\n",
    "from kudzu.model import Model\n",
    "from kudzu.train import Learner\n",
    "from kudzu.optim import GD\n",
    "from kudzu.data import Data, Sampler,Dataloader\n",
    "\n",
    "from kudzu.callbacks import AccCallback\n",
    "from kudzu.callbacks import ClfCallback\n",
    "\n",
    "from kudzu.loss import MSE\n",
    "\n",
    "from kudzu.layer import Sigmoid,Relu\n",
    "from kudzu.layer import Affine"
   ]
  },
  {
   "cell_type": "markdown",
   "id": "bc01172a",
   "metadata": {
    "papermill": {
     "duration": 0.032848,
     "end_time": "2022-10-25T00:59:55.437870",
     "exception": false,
     "start_time": "2022-10-25T00:59:55.405022",
     "status": "completed"
    },
    "tags": []
   },
   "source": [
    "### Let us create a `Config` class, to store important parameters. \n",
    "This class essentially plays the role of a dictionary."
   ]
  },
  {
   "cell_type": "code",
   "execution_count": 16,
   "id": "978281aa",
   "metadata": {
    "execution": {
     "iopub.execute_input": "2022-10-25T00:59:55.514710Z",
     "iopub.status.busy": "2022-10-25T00:59:55.513984Z",
     "iopub.status.idle": "2022-10-25T00:59:55.527653Z",
     "shell.execute_reply": "2022-10-25T00:59:55.526910Z"
    },
    "papermill": {
     "duration": 0.053028,
     "end_time": "2022-10-25T00:59:55.527770",
     "exception": false,
     "start_time": "2022-10-25T00:59:55.474742",
     "status": "completed"
    },
    "tags": []
   },
   "outputs": [],
   "source": [
    "class Config:\n",
    "    pass\n",
    "config = Config()\n",
    "config.lr = 0.001\n",
    "config.num_epochs = 250\n",
    "config.bs = 50"
   ]
  },
  {
   "cell_type": "markdown",
   "id": "1385fa59",
   "metadata": {
    "papermill": {
     "duration": 0.034111,
     "end_time": "2022-10-25T00:59:55.593919",
     "exception": false,
     "start_time": "2022-10-25T00:59:55.559808",
     "status": "completed"
    },
    "tags": []
   },
   "source": [
    "### Running Models with the Training data\n",
    "Details about the network layers:\n",
    "- A first affine layer has 784 inputs and does 100 affine transforms. These are followed by a Relu\n",
    "- A second affine layer has 100 inputs from the 100 activations of the past layer, and does 100 affine transforms. These are followed by a Relu\n",
    "- A third affine layer has 100 activations and does 2 affine transformations to create an embedding for visualization. There is no non-linearity here.\n",
    "- A final \"logistic regression\" which has an affine transform from 2 inputs to 1 output, which is squeezed through a sigmoid.\n"
   ]
  },
  {
   "cell_type": "code",
   "execution_count": 17,
   "id": "2b9c66db",
   "metadata": {
    "execution": {
     "iopub.execute_input": "2022-10-25T00:59:55.665198Z",
     "iopub.status.busy": "2022-10-25T00:59:55.664393Z",
     "iopub.status.idle": "2022-10-25T00:59:55.677459Z",
     "shell.execute_reply": "2022-10-25T00:59:55.676888Z"
    },
    "papermill": {
     "duration": 0.051464,
     "end_time": "2022-10-25T00:59:55.677561",
     "exception": false,
     "start_time": "2022-10-25T00:59:55.626097",
     "status": "completed"
    },
    "tags": []
   },
   "outputs": [],
   "source": [
    "data = Data(X_train, y_train.reshape(-1,1))\n",
    "sampler = Sampler(data, config.bs, shuffle=True)\n",
    "\n",
    "dl = Dataloader(data, sampler)\n",
    "\n",
    "opt = GD(config.lr)\n",
    "loss = MSE()"
   ]
  },
  {
   "cell_type": "code",
   "execution_count": 18,
   "id": "b275e4c2",
   "metadata": {
    "execution": {
     "iopub.execute_input": "2022-10-25T00:59:55.745253Z",
     "iopub.status.busy": "2022-10-25T00:59:55.744453Z",
     "iopub.status.idle": "2022-10-25T00:59:55.756850Z",
     "shell.execute_reply": "2022-10-25T00:59:55.756229Z"
    },
    "papermill": {
     "duration": 0.048281,
     "end_time": "2022-10-25T00:59:55.756959",
     "exception": false,
     "start_time": "2022-10-25T00:59:55.708678",
     "status": "completed"
    },
    "tags": []
   },
   "outputs": [],
   "source": [
    "training_data_x = X_train\n",
    "testing_data_x = X_test\n",
    "training_data_y = y_train.reshape(-1,1)\n",
    "testing_data_y = y_test.reshape(-1,1)"
   ]
  },
  {
   "cell_type": "code",
   "execution_count": 19,
   "id": "76951160",
   "metadata": {
    "execution": {
     "iopub.execute_input": "2022-10-25T00:59:55.828905Z",
     "iopub.status.busy": "2022-10-25T00:59:55.828112Z",
     "iopub.status.idle": "2022-10-25T00:59:55.844135Z",
     "shell.execute_reply": "2022-10-25T00:59:55.843561Z"
    },
    "papermill": {
     "duration": 0.05657,
     "end_time": "2022-10-25T00:59:55.844260",
     "exception": false,
     "start_time": "2022-10-25T00:59:55.787690",
     "status": "completed"
    },
    "tags": []
   },
   "outputs": [
    {
     "name": "stdout",
     "output_type": "stream",
     "text": [
      "xavier\n",
      "xavier\n",
      "xavier\n",
      "xavier\n",
      "xavier\n"
     ]
    }
   ],
   "source": [
    "layers = [Affine(\"first\", 784, 100), Relu(\"first\"), Affine(\"second\", 100, 100), Relu(\"second\"), Affine(\"third\", 100, 2), Affine(\"last\", 2, 1), Sigmoid(\"last\")]\n",
    "model_nn = Model(layers)\n",
    "model_lr = Model([Affine(\"logits\", 784, 1), Sigmoid(\"sigmoid\")])"
   ]
  },
  {
   "cell_type": "code",
   "execution_count": 20,
   "id": "6eede77a",
   "metadata": {
    "execution": {
     "iopub.execute_input": "2022-10-25T00:59:55.916913Z",
     "iopub.status.busy": "2022-10-25T00:59:55.916160Z",
     "iopub.status.idle": "2022-10-25T00:59:55.930340Z",
     "shell.execute_reply": "2022-10-25T00:59:55.929787Z"
    },
    "papermill": {
     "duration": 0.053154,
     "end_time": "2022-10-25T00:59:55.930462",
     "exception": false,
     "start_time": "2022-10-25T00:59:55.877308",
     "status": "completed"
    },
    "tags": []
   },
   "outputs": [],
   "source": [
    "nn_learner = Learner(loss, model_nn, opt, config.num_epochs)\n",
    "acc_nn = ClfCallback(nn_learner, config.bs, training_data_x , testing_data_x, training_data_y, testing_data_y)\n",
    "nn_learner.set_callbacks([acc_nn])"
   ]
  },
  {
   "cell_type": "code",
   "execution_count": 21,
   "id": "877b6cc7",
   "metadata": {
    "execution": {
     "iopub.execute_input": "2022-10-25T00:59:56.009860Z",
     "iopub.status.busy": "2022-10-25T00:59:56.009093Z",
     "iopub.status.idle": "2022-10-25T00:59:56.023022Z",
     "shell.execute_reply": "2022-10-25T00:59:56.022450Z"
    },
    "papermill": {
     "duration": 0.054352,
     "end_time": "2022-10-25T00:59:56.023145",
     "exception": false,
     "start_time": "2022-10-25T00:59:55.968793",
     "status": "completed"
    },
    "tags": []
   },
   "outputs": [],
   "source": [
    "lr_learner = Learner(loss, model_lr, opt, config.num_epochs)\n",
    "acc_lr = ClfCallback(lr_learner, config.bs, training_data_x , testing_data_x, training_data_y, testing_data_y)\n",
    "lr_learner.set_callbacks([acc_lr])"
   ]
  },
  {
   "cell_type": "code",
   "execution_count": 22,
   "id": "d9b133c3",
   "metadata": {
    "execution": {
     "iopub.execute_input": "2022-10-25T00:59:56.094383Z",
     "iopub.status.busy": "2022-10-25T00:59:56.092784Z",
     "iopub.status.idle": "2022-10-25T01:02:23.823740Z",
     "shell.execute_reply": "2022-10-25T01:02:23.824739Z"
    },
    "papermill": {
     "duration": 147.769162,
     "end_time": "2022-10-25T01:02:23.824898",
     "exception": false,
     "start_time": "2022-10-25T00:59:56.055736",
     "status": "completed"
    },
    "tags": []
   },
   "outputs": [
    {
     "name": "stdout",
     "output_type": "stream",
     "text": [
      "Epoch 0, Loss 0.2356\n",
      "Training Accuracy: 0.7473, Testing Accuracy: 0.7530\n",
      "\n"
     ]
    },
    {
     "name": "stdout",
     "output_type": "stream",
     "text": [
      "Epoch 10, Loss 0.0686\n",
      "Training Accuracy: 0.9376, Testing Accuracy: 0.9486\n",
      "\n"
     ]
    },
    {
     "name": "stdout",
     "output_type": "stream",
     "text": [
      "Epoch 20, Loss 0.0462\n",
      "Training Accuracy: 0.9500, Testing Accuracy: 0.9642\n",
      "\n"
     ]
    },
    {
     "name": "stdout",
     "output_type": "stream",
     "text": [
      "Epoch 30, Loss 0.0383\n",
      "Training Accuracy: 0.9569, Testing Accuracy: 0.9688\n",
      "\n"
     ]
    },
    {
     "name": "stdout",
     "output_type": "stream",
     "text": [
      "Epoch 40, Loss 0.034\n",
      "Training Accuracy: 0.9618, Testing Accuracy: 0.9708\n",
      "\n"
     ]
    },
    {
     "name": "stdout",
     "output_type": "stream",
     "text": [
      "Epoch 50, Loss 0.0312\n",
      "Training Accuracy: 0.9645, Testing Accuracy: 0.9708\n",
      "\n"
     ]
    },
    {
     "name": "stdout",
     "output_type": "stream",
     "text": [
      "Epoch 60, Loss 0.0291\n",
      "Training Accuracy: 0.9658, Testing Accuracy: 0.9713\n",
      "\n"
     ]
    },
    {
     "name": "stdout",
     "output_type": "stream",
     "text": [
      "Epoch 70, Loss 0.0275\n",
      "Training Accuracy: 0.9675, Testing Accuracy: 0.9713\n",
      "\n"
     ]
    },
    {
     "name": "stdout",
     "output_type": "stream",
     "text": [
      "Epoch 80, Loss 0.0262\n",
      "Training Accuracy: 0.9688, Testing Accuracy: 0.9713\n",
      "\n"
     ]
    },
    {
     "name": "stdout",
     "output_type": "stream",
     "text": [
      "Epoch 90, Loss 0.0251\n",
      "Training Accuracy: 0.9704, Testing Accuracy: 0.9723\n",
      "\n"
     ]
    },
    {
     "name": "stdout",
     "output_type": "stream",
     "text": [
      "Epoch 100, Loss 0.0242\n",
      "Training Accuracy: 0.9715, Testing Accuracy: 0.9728\n",
      "\n"
     ]
    },
    {
     "name": "stdout",
     "output_type": "stream",
     "text": [
      "Epoch 110, Loss 0.0234\n",
      "Training Accuracy: 0.9721, Testing Accuracy: 0.9743\n",
      "\n"
     ]
    },
    {
     "name": "stdout",
     "output_type": "stream",
     "text": [
      "Epoch 120, Loss 0.0226\n",
      "Training Accuracy: 0.9732, Testing Accuracy: 0.9738\n",
      "\n"
     ]
    },
    {
     "name": "stdout",
     "output_type": "stream",
     "text": [
      "Epoch 130, Loss 0.0219\n",
      "Training Accuracy: 0.9745, Testing Accuracy: 0.9733\n",
      "\n"
     ]
    },
    {
     "name": "stdout",
     "output_type": "stream",
     "text": [
      "Epoch 140, Loss 0.0213\n",
      "Training Accuracy: 0.9753, Testing Accuracy: 0.9728\n",
      "\n"
     ]
    },
    {
     "name": "stdout",
     "output_type": "stream",
     "text": [
      "Epoch 150, Loss 0.0207\n",
      "Training Accuracy: 0.9760, Testing Accuracy: 0.9733\n",
      "\n"
     ]
    },
    {
     "name": "stdout",
     "output_type": "stream",
     "text": [
      "Epoch 160, Loss 0.0202\n",
      "Training Accuracy: 0.9769, Testing Accuracy: 0.9738\n",
      "\n"
     ]
    },
    {
     "name": "stdout",
     "output_type": "stream",
     "text": [
      "Epoch 170, Loss 0.0197\n",
      "Training Accuracy: 0.9774, Testing Accuracy: 0.9733\n",
      "\n"
     ]
    },
    {
     "name": "stdout",
     "output_type": "stream",
     "text": [
      "Epoch 180, Loss 0.0192\n",
      "Training Accuracy: 0.9779, Testing Accuracy: 0.9738\n",
      "\n"
     ]
    },
    {
     "name": "stdout",
     "output_type": "stream",
     "text": [
      "Epoch 190, Loss 0.0187\n",
      "Training Accuracy: 0.9786, Testing Accuracy: 0.9738\n",
      "\n"
     ]
    },
    {
     "name": "stdout",
     "output_type": "stream",
     "text": [
      "Epoch 200, Loss 0.0183\n",
      "Training Accuracy: 0.9791, Testing Accuracy: 0.9738\n",
      "\n"
     ]
    },
    {
     "name": "stdout",
     "output_type": "stream",
     "text": [
      "Epoch 210, Loss 0.0179\n",
      "Training Accuracy: 0.9800, Testing Accuracy: 0.9748\n",
      "\n"
     ]
    },
    {
     "name": "stdout",
     "output_type": "stream",
     "text": [
      "Epoch 220, Loss 0.0175\n",
      "Training Accuracy: 0.9804, Testing Accuracy: 0.9748\n",
      "\n"
     ]
    },
    {
     "name": "stdout",
     "output_type": "stream",
     "text": [
      "Epoch 230, Loss 0.0171\n",
      "Training Accuracy: 0.9810, Testing Accuracy: 0.9758\n",
      "\n"
     ]
    },
    {
     "name": "stdout",
     "output_type": "stream",
     "text": [
      "Epoch 240, Loss 0.0168\n",
      "Training Accuracy: 0.9811, Testing Accuracy: 0.9758\n",
      "\n"
     ]
    },
    {
     "data": {
      "text/plain": [
       "0.005109159096988631"
      ]
     },
     "execution_count": 22,
     "metadata": {},
     "output_type": "execute_result"
    }
   ],
   "source": [
    "nn_learner.train_loop(dl)"
   ]
  },
  {
   "cell_type": "code",
   "execution_count": 23,
   "id": "e0163366",
   "metadata": {
    "execution": {
     "iopub.execute_input": "2022-10-25T01:02:23.927109Z",
     "iopub.status.busy": "2022-10-25T01:02:23.926399Z",
     "iopub.status.idle": "2022-10-25T01:02:45.409494Z",
     "shell.execute_reply": "2022-10-25T01:02:45.410528Z"
    },
    "papermill": {
     "duration": 21.538928,
     "end_time": "2022-10-25T01:02:45.410699",
     "exception": false,
     "start_time": "2022-10-25T01:02:23.871771",
     "status": "completed"
    },
    "tags": []
   },
   "outputs": [
    {
     "name": "stdout",
     "output_type": "stream",
     "text": [
      "Epoch 0, Loss 0.2564\n",
      "Training Accuracy: 0.6678, Testing Accuracy: 0.6608\n",
      "\n"
     ]
    },
    {
     "name": "stdout",
     "output_type": "stream",
     "text": [
      "Epoch 10, Loss 0.1036\n",
      "Training Accuracy: 0.9108, Testing Accuracy: 0.9214\n",
      "\n"
     ]
    },
    {
     "name": "stdout",
     "output_type": "stream",
     "text": [
      "Epoch 20, Loss 0.0795\n",
      "Training Accuracy: 0.9283, Testing Accuracy: 0.9395\n",
      "\n"
     ]
    },
    {
     "name": "stdout",
     "output_type": "stream",
     "text": [
      "Epoch 30, Loss 0.0686\n",
      "Training Accuracy: 0.9355, Testing Accuracy: 0.9466\n",
      "\n"
     ]
    },
    {
     "name": "stdout",
     "output_type": "stream",
     "text": [
      "Epoch 40, Loss 0.062\n",
      "Training Accuracy: 0.9408, Testing Accuracy: 0.9506\n",
      "\n"
     ]
    },
    {
     "name": "stdout",
     "output_type": "stream",
     "text": [
      "Epoch 50, Loss 0.0575\n",
      "Training Accuracy: 0.9444, Testing Accuracy: 0.9551\n",
      "\n"
     ]
    },
    {
     "name": "stdout",
     "output_type": "stream",
     "text": [
      "Epoch 60, Loss 0.0542\n",
      "Training Accuracy: 0.9470, Testing Accuracy: 0.9592\n",
      "\n"
     ]
    },
    {
     "name": "stdout",
     "output_type": "stream",
     "text": [
      "Epoch 70, Loss 0.0516\n",
      "Training Accuracy: 0.9485, Testing Accuracy: 0.9602\n",
      "\n"
     ]
    },
    {
     "name": "stdout",
     "output_type": "stream",
     "text": [
      "Epoch 80, Loss 0.0496\n",
      "Training Accuracy: 0.9508, Testing Accuracy: 0.9612\n",
      "\n"
     ]
    },
    {
     "name": "stdout",
     "output_type": "stream",
     "text": [
      "Epoch 90, Loss 0.0479\n",
      "Training Accuracy: 0.9528, Testing Accuracy: 0.9617\n",
      "\n"
     ]
    },
    {
     "name": "stdout",
     "output_type": "stream",
     "text": [
      "Epoch 100, Loss 0.0464\n",
      "Training Accuracy: 0.9538, Testing Accuracy: 0.9622\n",
      "\n"
     ]
    },
    {
     "name": "stdout",
     "output_type": "stream",
     "text": [
      "Epoch 110, Loss 0.0452\n",
      "Training Accuracy: 0.9546, Testing Accuracy: 0.9622\n",
      "\n"
     ]
    },
    {
     "name": "stdout",
     "output_type": "stream",
     "text": [
      "Epoch 120, Loss 0.0441\n",
      "Training Accuracy: 0.9554, Testing Accuracy: 0.9622\n",
      "\n"
     ]
    },
    {
     "name": "stdout",
     "output_type": "stream",
     "text": [
      "Epoch 130, Loss 0.0432\n",
      "Training Accuracy: 0.9563, Testing Accuracy: 0.9627\n",
      "\n"
     ]
    },
    {
     "name": "stdout",
     "output_type": "stream",
     "text": [
      "Epoch 140, Loss 0.0423\n",
      "Training Accuracy: 0.9569, Testing Accuracy: 0.9627\n",
      "\n"
     ]
    },
    {
     "name": "stdout",
     "output_type": "stream",
     "text": [
      "Epoch 150, Loss 0.0415\n",
      "Training Accuracy: 0.9575, Testing Accuracy: 0.9632\n",
      "\n"
     ]
    },
    {
     "name": "stdout",
     "output_type": "stream",
     "text": [
      "Epoch 160, Loss 0.0409\n",
      "Training Accuracy: 0.9578, Testing Accuracy: 0.9652\n",
      "\n"
     ]
    },
    {
     "name": "stdout",
     "output_type": "stream",
     "text": [
      "Epoch 170, Loss 0.0402\n",
      "Training Accuracy: 0.9584, Testing Accuracy: 0.9652\n",
      "\n"
     ]
    },
    {
     "name": "stdout",
     "output_type": "stream",
     "text": [
      "Epoch 180, Loss 0.0397\n",
      "Training Accuracy: 0.9592, Testing Accuracy: 0.9662\n",
      "\n"
     ]
    },
    {
     "name": "stdout",
     "output_type": "stream",
     "text": [
      "Epoch 190, Loss 0.0391\n",
      "Training Accuracy: 0.9595, Testing Accuracy: 0.9677\n",
      "\n"
     ]
    },
    {
     "name": "stdout",
     "output_type": "stream",
     "text": [
      "Epoch 200, Loss 0.0386\n",
      "Training Accuracy: 0.9599, Testing Accuracy: 0.9677\n",
      "\n"
     ]
    },
    {
     "name": "stdout",
     "output_type": "stream",
     "text": [
      "Epoch 210, Loss 0.0382\n",
      "Training Accuracy: 0.9604, Testing Accuracy: 0.9677\n",
      "\n"
     ]
    },
    {
     "name": "stdout",
     "output_type": "stream",
     "text": [
      "Epoch 220, Loss 0.0378\n",
      "Training Accuracy: 0.9608, Testing Accuracy: 0.9677\n",
      "\n"
     ]
    },
    {
     "name": "stdout",
     "output_type": "stream",
     "text": [
      "Epoch 230, Loss 0.0374\n",
      "Training Accuracy: 0.9612, Testing Accuracy: 0.9677\n",
      "\n"
     ]
    },
    {
     "name": "stdout",
     "output_type": "stream",
     "text": [
      "Epoch 240, Loss 0.037\n",
      "Training Accuracy: 0.9617, Testing Accuracy: 0.9672\n",
      "\n"
     ]
    },
    {
     "data": {
      "text/plain": [
       "0.011411221214105698"
      ]
     },
     "execution_count": 23,
     "metadata": {},
     "output_type": "execute_result"
    }
   ],
   "source": [
    "lr_learner.train_loop(dl)"
   ]
  },
  {
   "cell_type": "code",
   "execution_count": 24,
   "id": "ca410940",
   "metadata": {
    "execution": {
     "iopub.execute_input": "2022-10-25T01:02:45.525254Z",
     "iopub.status.busy": "2022-10-25T01:02:45.524483Z",
     "iopub.status.idle": "2022-10-25T01:02:45.845888Z",
     "shell.execute_reply": "2022-10-25T01:02:45.844601Z"
    },
    "papermill": {
     "duration": 0.380048,
     "end_time": "2022-10-25T01:02:45.846070",
     "exception": false,
     "start_time": "2022-10-25T01:02:45.466022",
     "status": "completed"
    },
    "tags": []
   },
   "outputs": [
    {
     "data": {
      "text/plain": [
       "<matplotlib.legend.Legend at 0x7fdac6d8e358>"
      ]
     },
     "execution_count": 24,
     "metadata": {},
     "output_type": "execute_result"
    },
    {
     "data": {
      "image/png": "[encoded data removed]",
      "text/plain": [
       "<Figure size 1080x720 with 1 Axes>"
      ]
     },
     "metadata": {
      "needs_background": "light"
     },
     "output_type": "display_data"
    }
   ],
   "source": [
    "#comparing the results of NN and LR\n",
    "plt.figure(figsize=(15,10))\n",
    "\n",
    "# Neural Network plots\n",
    "plt.plot(acc_nn.accuracies, 'r-', label = \"Training Accuracies - NN\")\n",
    "plt.plot(acc_nn.test_accuracies, 'g-', label = \"Testing Accuracies - NN\")\n",
    "\n",
    "# Logistic Regression plots\n",
    "plt.plot(acc_lr.accuracies, 'k-', label = \"Training Accuracies - LR\")\n",
    "plt.plot(acc_lr.test_accuracies, 'b-', label = \"Testing Accuracies - LR\")\n",
    "plt.legend()"
   ]
  },
  {
   "cell_type": "markdown",
   "id": "80dfb35c",
   "metadata": {
    "papermill": {
     "duration": 0.062561,
     "end_time": "2022-10-25T01:02:45.963381",
     "exception": false,
     "start_time": "2022-10-25T01:02:45.900820",
     "status": "completed"
    },
    "tags": []
   },
   "source": [
    "#### Plotting the outputs of this layer of the NN.\n"
   ]
  },
  {
   "cell_type": "code",
   "execution_count": 25,
   "id": "45eb2ff5",
   "metadata": {
    "execution": {
     "iopub.execute_input": "2022-10-25T01:02:46.078697Z",
     "iopub.status.busy": "2022-10-25T01:02:46.077823Z",
     "iopub.status.idle": "2022-10-25T01:02:46.107594Z",
     "shell.execute_reply": "2022-10-25T01:02:46.106986Z"
    },
    "papermill": {
     "duration": 0.089077,
     "end_time": "2022-10-25T01:02:46.107727",
     "exception": false,
     "start_time": "2022-10-25T01:02:46.018650",
     "status": "completed"
    },
    "tags": []
   },
   "outputs": [],
   "source": [
    "new_model = Model(layers[:-2])\n",
    "testing_plot = new_model(testing_data_x)"
   ]
  },
  {
   "cell_type": "code",
   "execution_count": 26,
   "id": "4c0a5485",
   "metadata": {
    "execution": {
     "iopub.execute_input": "2022-10-25T01:02:46.225203Z",
     "iopub.status.busy": "2022-10-25T01:02:46.224412Z",
     "iopub.status.idle": "2022-10-25T01:02:46.525404Z",
     "shell.execute_reply": "2022-10-25T01:02:46.526082Z"
    },
    "papermill": {
     "duration": 0.362555,
     "end_time": "2022-10-25T01:02:46.526268",
     "exception": false,
     "start_time": "2022-10-25T01:02:46.163713",
     "status": "completed"
    },
    "tags": []
   },
   "outputs": [
    {
     "data": {
      "text/plain": [
       "Text(0.5, 1.0, 'Outputs')"
      ]
     },
     "execution_count": 26,
     "metadata": {},
     "output_type": "execute_result"
    },
    {
     "data": {
      "image/png": "[encoded data removed]",
      "text/plain": [
       "<Figure size 576x504 with 1 Axes>"
      ]
     },
     "metadata": {
      "needs_background": "light"
     },
     "output_type": "display_data"
    }
   ],
   "source": [
    "# Plotting the scatter plot of points and color coding by class\n",
    "plt.figure(figsize=(8,7))\n",
    "plt.scatter(testing_plot[:,0], testing_plot[:,1], alpha = 0.1, c = y_test.ravel());\n",
    "plt.title('Outputs')"
   ]
  },
  {
   "cell_type": "markdown",
   "id": "a74fcf8f",
   "metadata": {
    "papermill": {
     "duration": 0.080586,
     "end_time": "2022-10-25T01:02:46.662979",
     "exception": false,
     "start_time": "2022-10-25T01:02:46.582393",
     "status": "completed"
    },
    "tags": []
   },
   "source": [
    "Probability contours"
   ]
  },
  {
   "cell_type": "code",
   "execution_count": 27,
   "id": "d0afc8e3",
   "metadata": {
    "execution": {
     "iopub.execute_input": "2022-10-25T01:02:46.780371Z",
     "iopub.status.busy": "2022-10-25T01:02:46.779717Z",
     "iopub.status.idle": "2022-10-25T01:02:46.795425Z",
     "shell.execute_reply": "2022-10-25T01:02:46.794844Z"
    },
    "papermill": {
     "duration": 0.0755,
     "end_time": "2022-10-25T01:02:46.795560",
     "exception": false,
     "start_time": "2022-10-25T01:02:46.720060",
     "status": "completed"
    },
    "tags": []
   },
   "outputs": [],
   "source": [
    "model_prob = Model(layers[-2:]) "
   ]
  },
  {
   "cell_type": "code",
   "execution_count": 28,
   "id": "9b96e238",
   "metadata": {
    "execution": {
     "iopub.execute_input": "2022-10-25T01:02:46.926325Z",
     "iopub.status.busy": "2022-10-25T01:02:46.925474Z",
     "iopub.status.idle": "2022-10-25T01:02:46.942403Z",
     "shell.execute_reply": "2022-10-25T01:02:46.942959Z"
    },
    "papermill": {
     "duration": 0.088906,
     "end_time": "2022-10-25T01:02:46.943120",
     "exception": false,
     "start_time": "2022-10-25T01:02:46.854214",
     "status": "completed"
    },
    "tags": []
   },
   "outputs": [],
   "source": [
    "#creating the x and y ranges according to the above generated plot.\n",
    "x_range = np.linspace(-4, 1, 100) \n",
    "y_range = np.linspace(-6, 6, 100) \n",
    "x_grid, y_grid = np.meshgrid(x_range, y_range) # x_grid and y_grig are of size 100 X 100\n",
    "\n",
    "# converting x_grid and y_grid to continuous arrays\n",
    "x_gridflat = np.ravel(x_grid)\n",
    "y_gridflat = np.ravel(y_grid)\n",
    "\n",
    "# The last layer of the current model takes two columns as input. Hence transpose of np.vstack() is required.\n",
    "X = np.vstack((x_gridflat, y_gridflat)).T\n",
    "\n",
    "prob_contour = model_prob(X).reshape(100,100) "
   ]
  },
  {
   "cell_type": "code",
   "execution_count": 29,
   "id": "da72499a",
   "metadata": {
    "execution": {
     "iopub.execute_input": "2022-10-25T01:02:47.074768Z",
     "iopub.status.busy": "2022-10-25T01:02:47.073984Z",
     "iopub.status.idle": "2022-10-25T01:02:47.417788Z",
     "shell.execute_reply": "2022-10-25T01:02:47.418325Z"
    },
    "papermill": {
     "duration": 0.414303,
     "end_time": "2022-10-25T01:02:47.418481",
     "exception": false,
     "start_time": "2022-10-25T01:02:47.004178",
     "status": "completed"
    },
    "tags": []
   },
   "outputs": [
    {
     "data": {
      "image/png": "[encoded data removed]",
      "text/plain": [
       "<Figure size 720x648 with 1 Axes>"
      ]
     },
     "metadata": {
      "needs_background": "light"
     },
     "output_type": "display_data"
    }
   ],
   "source": [
    "plt.figure(figsize=(10,9))\n",
    "plt.scatter(testing_plot[:,0], testing_plot[:,1], alpha = 0.1, c = y_test.ravel())\n",
    "contours = plt.contour(x_grid,y_grid,prob_contour)\n",
    "plt.title('Probability Contours')\n",
    "plt.clabel(contours, inline = True );"
   ]
  },
  {
   "cell_type": "code",
   "execution_count": null,
   "id": "e81b4ac7",
   "metadata": {
    "papermill": {
     "duration": 0.060167,
     "end_time": "2022-10-25T01:02:47.542389",
     "exception": false,
     "start_time": "2022-10-25T01:02:47.482222",
     "status": "completed"
    },
    "tags": []
   },
   "outputs": [],
   "source": []
  }
 ],
 "metadata": {
  "kernelspec": {
   "display_name": "Python 3",
   "language": "python",
   "name": "python3"
  },
  "language_info": {
   "codemirror_mode": {
    "name": "ipython",
    "version": 3
   },
   "file_extension": ".py",
   "mimetype": "text/x-python",
   "name": "python",
   "nbconvert_exporter": "python",
   "pygments_lexer": "ipython3",
   "version": "3.6.15"
  },
  "papermill": {
   "default_parameters": {},
   "duration": 180.884398,
   "end_time": "2022-10-25T01:02:48.027058",
   "environment_variables": {},
   "exception": null,
   "input_path": "2020-08-11-part2.ipynb",
   "output_path": "2020-08-11-part2.ipynb",
   "parameters": {},
   "start_time": "2022-10-25T00:59:47.142660",
   "version": "2.3.3"
  }
 },
 "nbformat": 4,
 "nbformat_minor": 5
}