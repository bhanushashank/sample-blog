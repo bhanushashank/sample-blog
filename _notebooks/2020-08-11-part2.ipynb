{
 "cells": [
  {
   "cell_type": "markdown",
   "id": "98380cd3",
   "metadata": {
    "papermill": {
     "duration": 0.029886,
     "end_time": "2021-11-24T20:07:36.744807",
     "exception": false,
     "start_time": "2021-11-24T20:07:36.714921",
     "status": "completed"
    },
    "tags": []
   },
   "source": [
    "# Distinguish Your Own Digits (DYOD)"
   ]
  },
  {
   "cell_type": "markdown",
   "id": "ef31240d",
   "metadata": {
    "papermill": {
     "duration": 0.023494,
     "end_time": "2021-11-24T20:07:36.791304",
     "exception": false,
     "start_time": "2021-11-24T20:07:36.767810",
     "status": "completed"
    },
    "tags": []
   },
   "source": [
    "You are going to write a classifier that distinguishes between the number 3 and number 8."
   ]
  },
  {
   "cell_type": "code",
   "execution_count": 1,
   "id": "b15c8646",
   "metadata": {
    "execution": {
     "iopub.execute_input": "2021-11-24T20:07:36.851464Z",
     "iopub.status.busy": "2021-11-24T20:07:36.850941Z",
     "iopub.status.idle": "2021-11-24T20:07:36.861887Z",
     "shell.execute_reply": "2021-11-24T20:07:36.862316Z"
    },
    "papermill": {
     "duration": 0.048071,
     "end_time": "2021-11-24T20:07:36.862463",
     "exception": false,
     "start_time": "2021-11-24T20:07:36.814392",
     "status": "completed"
    },
    "tags": []
   },
   "outputs": [],
   "source": [
    "%load_ext autoreload\n",
    "%autoreload 2"
   ]
  },
  {
   "cell_type": "code",
   "execution_count": 2,
   "id": "22ef38dc",
   "metadata": {
    "execution": {
     "iopub.execute_input": "2021-11-24T20:07:36.914959Z",
     "iopub.status.busy": "2021-11-24T20:07:36.914462Z",
     "iopub.status.idle": "2021-11-24T20:07:37.500040Z",
     "shell.execute_reply": "2021-11-24T20:07:37.498518Z"
    },
    "papermill": {
     "duration": 0.613733,
     "end_time": "2021-11-24T20:07:37.500270",
     "exception": false,
     "start_time": "2021-11-24T20:07:36.886537",
     "status": "completed"
    },
    "tags": []
   },
   "outputs": [],
   "source": [
    "%matplotlib inline\n",
    "import numpy as np\n",
    "import matplotlib.pyplot as plt\n",
    "import pandas as pd"
   ]
  },
  {
   "cell_type": "markdown",
   "id": "ba036198",
   "metadata": {
    "papermill": {
     "duration": 0.023371,
     "end_time": "2021-11-24T20:07:37.549708",
     "exception": false,
     "start_time": "2021-11-24T20:07:37.526337",
     "status": "completed"
    },
    "tags": []
   },
   "source": [
    "From the command line run `pip install mnist`. This is a library that will help you bring down the mnist dataset. If you run this from a notebook, you need to put  `!pip install mnist` in a cell by itself."
   ]
  },
  {
   "cell_type": "code",
   "execution_count": 3,
   "id": "bb6ad8a1",
   "metadata": {
    "execution": {
     "iopub.execute_input": "2021-11-24T20:07:37.604322Z",
     "iopub.status.busy": "2021-11-24T20:07:37.603756Z",
     "iopub.status.idle": "2021-11-24T20:07:39.316416Z",
     "shell.execute_reply": "2021-11-24T20:07:39.315892Z"
    },
    "papermill": {
     "duration": 1.741131,
     "end_time": "2021-11-24T20:07:39.316536",
     "exception": false,
     "start_time": "2021-11-24T20:07:37.575405",
     "status": "completed"
    },
    "tags": []
   },
   "outputs": [
    {
     "name": "stdout",
     "output_type": "stream",
     "text": [
      "Collecting mnist\r\n"
     ]
    },
    {
     "name": "stdout",
     "output_type": "stream",
     "text": [
      "  Downloading mnist-0.2.2-py2.py3-none-any.whl (3.5 kB)\r\n",
      "Requirement already satisfied: numpy in /opt/hostedtoolcache/Python/3.6.15/x64/lib/python3.6/site-packages (from mnist) (1.19.5)\r\n"
     ]
    },
    {
     "name": "stdout",
     "output_type": "stream",
     "text": [
      "Installing collected packages: mnist\r\n"
     ]
    },
    {
     "name": "stdout",
     "output_type": "stream",
     "text": [
      "Successfully installed mnist-0.2.2\r\n"
     ]
    }
   ],
   "source": [
    "!pip install mnist"
   ]
  },
  {
   "cell_type": "markdown",
   "id": "69df9c9a",
   "metadata": {
    "papermill": {
     "duration": 0.024372,
     "end_time": "2021-11-24T20:07:39.364652",
     "exception": false,
     "start_time": "2021-11-24T20:07:39.340280",
     "status": "completed"
    },
    "tags": []
   },
   "source": [
    "## Preparing the Data"
   ]
  },
  {
   "cell_type": "code",
   "execution_count": 4,
   "id": "7f69d806",
   "metadata": {
    "execution": {
     "iopub.execute_input": "2021-11-24T20:07:39.415924Z",
     "iopub.status.busy": "2021-11-24T20:07:39.415368Z",
     "iopub.status.idle": "2021-11-24T20:07:39.431362Z",
     "shell.execute_reply": "2021-11-24T20:07:39.431846Z"
    },
    "papermill": {
     "duration": 0.042827,
     "end_time": "2021-11-24T20:07:39.431985",
     "exception": false,
     "start_time": "2021-11-24T20:07:39.389158",
     "status": "completed"
    },
    "tags": []
   },
   "outputs": [],
   "source": [
    "import mnist"
   ]
  },
  {
   "cell_type": "code",
   "execution_count": 5,
   "id": "a411e44f",
   "metadata": {
    "execution": {
     "iopub.execute_input": "2021-11-24T20:07:39.485516Z",
     "iopub.status.busy": "2021-11-24T20:07:39.482241Z",
     "iopub.status.idle": "2021-11-24T20:07:40.349217Z",
     "shell.execute_reply": "2021-11-24T20:07:40.348624Z"
    },
    "papermill": {
     "duration": 0.893509,
     "end_time": "2021-11-24T20:07:40.349343",
     "exception": false,
     "start_time": "2021-11-24T20:07:39.455834",
     "status": "completed"
    },
    "tags": []
   },
   "outputs": [],
   "source": [
    "train_images = mnist.train_images()\n",
    "train_labels = mnist.train_labels()"
   ]
  },
  {
   "cell_type": "code",
   "execution_count": 6,
   "id": "dceab3a5",
   "metadata": {
    "execution": {
     "iopub.execute_input": "2021-11-24T20:07:40.402098Z",
     "iopub.status.busy": "2021-11-24T20:07:40.401567Z",
     "iopub.status.idle": "2021-11-24T20:07:40.418904Z",
     "shell.execute_reply": "2021-11-24T20:07:40.419248Z"
    },
    "papermill": {
     "duration": 0.04553,
     "end_time": "2021-11-24T20:07:40.419350",
     "exception": false,
     "start_time": "2021-11-24T20:07:40.373820",
     "status": "completed"
    },
    "tags": []
   },
   "outputs": [
    {
     "data": {
      "text/plain": [
       "((60000, 28, 28), (60000,))"
      ]
     },
     "execution_count": 6,
     "metadata": {},
     "output_type": "execute_result"
    }
   ],
   "source": [
    "train_images.shape, train_labels.shape"
   ]
  },
  {
   "cell_type": "code",
   "execution_count": 7,
   "id": "f50dc2bb",
   "metadata": {
    "execution": {
     "iopub.execute_input": "2021-11-24T20:07:40.472318Z",
     "iopub.status.busy": "2021-11-24T20:07:40.471755Z",
     "iopub.status.idle": "2021-11-24T20:07:40.621440Z",
     "shell.execute_reply": "2021-11-24T20:07:40.620974Z"
    },
    "papermill": {
     "duration": 0.178282,
     "end_time": "2021-11-24T20:07:40.621563",
     "exception": false,
     "start_time": "2021-11-24T20:07:40.443281",
     "status": "completed"
    },
    "tags": []
   },
   "outputs": [],
   "source": [
    "test_images = mnist.test_images()\n",
    "test_labels = mnist.test_labels()"
   ]
  },
  {
   "cell_type": "code",
   "execution_count": 8,
   "id": "fc38cf1b",
   "metadata": {
    "execution": {
     "iopub.execute_input": "2021-11-24T20:07:40.678014Z",
     "iopub.status.busy": "2021-11-24T20:07:40.677423Z",
     "iopub.status.idle": "2021-11-24T20:07:40.691994Z",
     "shell.execute_reply": "2021-11-24T20:07:40.692462Z"
    },
    "papermill": {
     "duration": 0.045685,
     "end_time": "2021-11-24T20:07:40.692582",
     "exception": false,
     "start_time": "2021-11-24T20:07:40.646897",
     "status": "completed"
    },
    "tags": []
   },
   "outputs": [
    {
     "data": {
      "text/plain": [
       "((10000, 28, 28), (10000,))"
      ]
     },
     "execution_count": 8,
     "metadata": {},
     "output_type": "execute_result"
    }
   ],
   "source": [
    "test_images.shape, test_labels.shape"
   ]
  },
  {
   "cell_type": "code",
   "execution_count": 9,
   "id": "f9ed8fe0",
   "metadata": {
    "execution": {
     "iopub.execute_input": "2021-11-24T20:07:40.750082Z",
     "iopub.status.busy": "2021-11-24T20:07:40.745695Z",
     "iopub.status.idle": "2021-11-24T20:07:40.895778Z",
     "shell.execute_reply": "2021-11-24T20:07:40.894825Z"
    },
    "papermill": {
     "duration": 0.177694,
     "end_time": "2021-11-24T20:07:40.895923",
     "exception": false,
     "start_time": "2021-11-24T20:07:40.718229",
     "status": "completed"
    },
    "tags": []
   },
   "outputs": [
    {
     "name": "stdout",
     "output_type": "stream",
     "text": [
      "2\n"
     ]
    },
    {
     "data": {
      "text/plain": [
       "<matplotlib.image.AxesImage at 0x7fce007fe0f0>"
      ]
     },
     "execution_count": 9,
     "metadata": {},
     "output_type": "execute_result"
    },
    {
     "data": {
      "image/png": "[encoded data removed]",
      "text/plain": [
       "<Figure size 432x288 with 1 Axes>"
      ]
     },
     "metadata": {
      "needs_background": "light"
     },
     "output_type": "display_data"
    }
   ],
   "source": [
    "image_index = 7776 # You may select anything up to 60,000\n",
    "print(train_labels[image_index]) \n",
    "plt.imshow(train_images[image_index], cmap='Greys')"
   ]
  },
  {
   "cell_type": "markdown",
   "id": "a8d2388d",
   "metadata": {
    "papermill": {
     "duration": 0.028158,
     "end_time": "2021-11-24T20:07:40.951479",
     "exception": false,
     "start_time": "2021-11-24T20:07:40.923321",
     "status": "completed"
    },
    "tags": []
   },
   "source": [
    "## Filter data to get 3 and 8 out"
   ]
  },
  {
   "cell_type": "code",
   "execution_count": 10,
   "id": "776f7fc7",
   "metadata": {
    "execution": {
     "iopub.execute_input": "2021-11-24T20:07:41.012178Z",
     "iopub.status.busy": "2021-11-24T20:07:41.010540Z",
     "iopub.status.idle": "2021-11-24T20:07:41.024101Z",
     "shell.execute_reply": "2021-11-24T20:07:41.023623Z"
    },
    "papermill": {
     "duration": 0.045746,
     "end_time": "2021-11-24T20:07:41.024217",
     "exception": false,
     "start_time": "2021-11-24T20:07:40.978471",
     "status": "completed"
    },
    "tags": []
   },
   "outputs": [],
   "source": [
    "train_filter = np.where((train_labels == 3 ) | (train_labels == 8))\n",
    "test_filter = np.where((test_labels == 3) | (test_labels == 8))\n",
    "X_train, y_train = train_images[train_filter], train_labels[train_filter]\n",
    "X_test, y_test = test_images[test_filter], test_labels[test_filter]"
   ]
  },
  {
   "cell_type": "markdown",
   "id": "948f0b7e",
   "metadata": {
    "papermill": {
     "duration": 0.027238,
     "end_time": "2021-11-24T20:07:41.078415",
     "exception": false,
     "start_time": "2021-11-24T20:07:41.051177",
     "status": "completed"
    },
    "tags": []
   },
   "source": [
    "We normalize the pizel values in the 0 to 1 range"
   ]
  },
  {
   "cell_type": "code",
   "execution_count": 11,
   "id": "ee4c2166",
   "metadata": {
    "execution": {
     "iopub.execute_input": "2021-11-24T20:07:41.138217Z",
     "iopub.status.busy": "2021-11-24T20:07:41.137655Z",
     "iopub.status.idle": "2021-11-24T20:07:41.189443Z",
     "shell.execute_reply": "2021-11-24T20:07:41.188911Z"
    },
    "papermill": {
     "duration": 0.08339,
     "end_time": "2021-11-24T20:07:41.189577",
     "exception": false,
     "start_time": "2021-11-24T20:07:41.106187",
     "status": "completed"
    },
    "tags": []
   },
   "outputs": [],
   "source": [
    "X_train = X_train/255.\n",
    "X_test = X_test/255."
   ]
  },
  {
   "cell_type": "markdown",
   "id": "ddcf4fab",
   "metadata": {
    "papermill": {
     "duration": 0.027783,
     "end_time": "2021-11-24T20:07:41.246069",
     "exception": false,
     "start_time": "2021-11-24T20:07:41.218286",
     "status": "completed"
    },
    "tags": []
   },
   "source": [
    "And setup the labels as 1 (when the digit is 3) and 0 (when the digit is 8)"
   ]
  },
  {
   "cell_type": "code",
   "execution_count": 12,
   "id": "7dc908f2",
   "metadata": {
    "execution": {
     "iopub.execute_input": "2021-11-24T20:07:41.305364Z",
     "iopub.status.busy": "2021-11-24T20:07:41.304707Z",
     "iopub.status.idle": "2021-11-24T20:07:41.317343Z",
     "shell.execute_reply": "2021-11-24T20:07:41.317753Z"
    },
    "papermill": {
     "duration": 0.044489,
     "end_time": "2021-11-24T20:07:41.317864",
     "exception": false,
     "start_time": "2021-11-24T20:07:41.273375",
     "status": "completed"
    },
    "tags": []
   },
   "outputs": [],
   "source": [
    "y_train = 1*(y_train==3)\n",
    "y_test = 1*(y_test==3)"
   ]
  },
  {
   "cell_type": "code",
   "execution_count": 13,
   "id": "01e4e969",
   "metadata": {
    "execution": {
     "iopub.execute_input": "2021-11-24T20:07:41.378100Z",
     "iopub.status.busy": "2021-11-24T20:07:41.377503Z",
     "iopub.status.idle": "2021-11-24T20:07:41.388703Z",
     "shell.execute_reply": "2021-11-24T20:07:41.388322Z"
    },
    "papermill": {
     "duration": 0.045088,
     "end_time": "2021-11-24T20:07:41.388796",
     "exception": false,
     "start_time": "2021-11-24T20:07:41.343708",
     "status": "completed"
    },
    "tags": []
   },
   "outputs": [
    {
     "data": {
      "text/plain": [
       "((11982, 28, 28), (1984, 28, 28))"
      ]
     },
     "execution_count": 13,
     "metadata": {},
     "output_type": "execute_result"
    }
   ],
   "source": [
    "X_train.shape, X_test.shape"
   ]
  },
  {
   "cell_type": "markdown",
   "id": "5ccf3f85",
   "metadata": {
    "papermill": {
     "duration": 0.026327,
     "end_time": "2021-11-24T20:07:41.442050",
     "exception": false,
     "start_time": "2021-11-24T20:07:41.415723",
     "status": "completed"
    },
    "tags": []
   },
   "source": [
    "We reshape the data to flatten the image pixels into a set of features or co-variates:"
   ]
  },
  {
   "cell_type": "code",
   "execution_count": 14,
   "id": "5286a4a3",
   "metadata": {
    "execution": {
     "iopub.execute_input": "2021-11-24T20:07:41.500455Z",
     "iopub.status.busy": "2021-11-24T20:07:41.499965Z",
     "iopub.status.idle": "2021-11-24T20:07:41.515067Z",
     "shell.execute_reply": "2021-11-24T20:07:41.514595Z"
    },
    "papermill": {
     "duration": 0.047334,
     "end_time": "2021-11-24T20:07:41.515189",
     "exception": false,
     "start_time": "2021-11-24T20:07:41.467855",
     "status": "completed"
    },
    "tags": []
   },
   "outputs": [
    {
     "data": {
      "text/plain": [
       "((11982, 784), (1984, 784))"
      ]
     },
     "execution_count": 14,
     "metadata": {},
     "output_type": "execute_result"
    }
   ],
   "source": [
    "X_train = X_train.reshape(X_train.shape[0], -1)\n",
    "X_test = X_test.reshape(X_test.shape[0], -1)\n",
    "X_train.shape, X_test.shape"
   ]
  },
  {
   "cell_type": "code",
   "execution_count": 15,
   "id": "73c5f88a",
   "metadata": {
    "execution": {
     "iopub.execute_input": "2021-11-24T20:07:41.574992Z",
     "iopub.status.busy": "2021-11-24T20:07:41.574437Z",
     "iopub.status.idle": "2021-11-24T20:07:41.595716Z",
     "shell.execute_reply": "2021-11-24T20:07:41.595209Z"
    },
    "papermill": {
     "duration": 0.053333,
     "end_time": "2021-11-24T20:07:41.595836",
     "exception": false,
     "start_time": "2021-11-24T20:07:41.542503",
     "status": "completed"
    },
    "tags": []
   },
   "outputs": [],
   "source": [
    "#Impoting functions from 'Kudzu'\n",
    "from kudzu.model import Model\n",
    "from kudzu.train import Learner\n",
    "from kudzu.optim import GD\n",
    "from kudzu.data import Data, Sampler,Dataloader\n",
    "\n",
    "from kudzu.callbacks import AccCallback\n",
    "from kudzu.callbacks import ClfCallback\n",
    "\n",
    "from kudzu.loss import MSE\n",
    "\n",
    "from kudzu.layer import Sigmoid,Relu\n",
    "from kudzu.layer import Affine"
   ]
  },
  {
   "cell_type": "markdown",
   "id": "bc01172a",
   "metadata": {
    "papermill": {
     "duration": 0.028925,
     "end_time": "2021-11-24T20:07:41.653219",
     "exception": false,
     "start_time": "2021-11-24T20:07:41.624294",
     "status": "completed"
    },
    "tags": []
   },
   "source": [
    "### Let us create a `Config` class, to store important parameters. \n",
    "This class essentially plays the role of a dictionary."
   ]
  },
  {
   "cell_type": "code",
   "execution_count": 16,
   "id": "978281aa",
   "metadata": {
    "execution": {
     "iopub.execute_input": "2021-11-24T20:07:41.716963Z",
     "iopub.status.busy": "2021-11-24T20:07:41.716339Z",
     "iopub.status.idle": "2021-11-24T20:07:41.728937Z",
     "shell.execute_reply": "2021-11-24T20:07:41.728422Z"
    },
    "papermill": {
     "duration": 0.047546,
     "end_time": "2021-11-24T20:07:41.729065",
     "exception": false,
     "start_time": "2021-11-24T20:07:41.681519",
     "status": "completed"
    },
    "tags": []
   },
   "outputs": [],
   "source": [
    "class Config:\n",
    "    pass\n",
    "config = Config()\n",
    "config.lr = 0.001\n",
    "config.num_epochs = 250\n",
    "config.bs = 50"
   ]
  },
  {
   "cell_type": "markdown",
   "id": "1385fa59",
   "metadata": {
    "papermill": {
     "duration": 0.026419,
     "end_time": "2021-11-24T20:07:41.784513",
     "exception": false,
     "start_time": "2021-11-24T20:07:41.758094",
     "status": "completed"
    },
    "tags": []
   },
   "source": [
    "### Running Models with the Training data\n",
    "Details about the network layers:\n",
    "- A first affine layer has 784 inputs and does 100 affine transforms. These are followed by a Relu\n",
    "- A second affine layer has 100 inputs from the 100 activations of the past layer, and does 100 affine transforms. These are followed by a Relu\n",
    "- A third affine layer has 100 activations and does 2 affine transformations to create an embedding for visualization. There is no non-linearity here.\n",
    "- A final \"logistic regression\" which has an affine transform from 2 inputs to 1 output, which is squeezed through a sigmoid.\n"
   ]
  },
  {
   "cell_type": "code",
   "execution_count": 17,
   "id": "2b9c66db",
   "metadata": {
    "execution": {
     "iopub.execute_input": "2021-11-24T20:07:41.845210Z",
     "iopub.status.busy": "2021-11-24T20:07:41.844566Z",
     "iopub.status.idle": "2021-11-24T20:07:41.858162Z",
     "shell.execute_reply": "2021-11-24T20:07:41.857722Z"
    },
    "papermill": {
     "duration": 0.048005,
     "end_time": "2021-11-24T20:07:41.858263",
     "exception": false,
     "start_time": "2021-11-24T20:07:41.810258",
     "status": "completed"
    },
    "tags": []
   },
   "outputs": [],
   "source": [
    "data = Data(X_train, y_train.reshape(-1,1))\n",
    "sampler = Sampler(data, config.bs, shuffle=True)\n",
    "\n",
    "dl = Dataloader(data, sampler)\n",
    "\n",
    "opt = GD(config.lr)\n",
    "loss = MSE()"
   ]
  },
  {
   "cell_type": "code",
   "execution_count": 18,
   "id": "b275e4c2",
   "metadata": {
    "execution": {
     "iopub.execute_input": "2021-11-24T20:07:41.917518Z",
     "iopub.status.busy": "2021-11-24T20:07:41.917017Z",
     "iopub.status.idle": "2021-11-24T20:07:41.930359Z",
     "shell.execute_reply": "2021-11-24T20:07:41.929888Z"
    },
    "papermill": {
     "duration": 0.043646,
     "end_time": "2021-11-24T20:07:41.930471",
     "exception": false,
     "start_time": "2021-11-24T20:07:41.886825",
     "status": "completed"
    },
    "tags": []
   },
   "outputs": [],
   "source": [
    "training_data_x = X_train\n",
    "testing_data_x = X_test\n",
    "training_data_y = y_train.reshape(-1,1)\n",
    "testing_data_y = y_test.reshape(-1,1)"
   ]
  },
  {
   "cell_type": "code",
   "execution_count": 19,
   "id": "76951160",
   "metadata": {
    "execution": {
     "iopub.execute_input": "2021-11-24T20:07:41.987138Z",
     "iopub.status.busy": "2021-11-24T20:07:41.986582Z",
     "iopub.status.idle": "2021-11-24T20:07:42.004141Z",
     "shell.execute_reply": "2021-11-24T20:07:42.003647Z"
    },
    "papermill": {
     "duration": 0.048907,
     "end_time": "2021-11-24T20:07:42.004264",
     "exception": false,
     "start_time": "2021-11-24T20:07:41.955357",
     "status": "completed"
    },
    "tags": []
   },
   "outputs": [
    {
     "name": "stdout",
     "output_type": "stream",
     "text": [
      "xavier\n",
      "xavier\n",
      "xavier\n",
      "xavier\n",
      "xavier\n"
     ]
    }
   ],
   "source": [
    "layers = [Affine(\"first\", 784, 100), Relu(\"first\"), Affine(\"second\", 100, 100), Relu(\"second\"), Affine(\"third\", 100, 2), Affine(\"last\", 2, 1), Sigmoid(\"last\")]\n",
    "model_nn = Model(layers)\n",
    "model_lr = Model([Affine(\"logits\", 784, 1), Sigmoid(\"sigmoid\")])"
   ]
  },
  {
   "cell_type": "code",
   "execution_count": 20,
   "id": "6eede77a",
   "metadata": {
    "execution": {
     "iopub.execute_input": "2021-11-24T20:07:42.062999Z",
     "iopub.status.busy": "2021-11-24T20:07:42.062390Z",
     "iopub.status.idle": "2021-11-24T20:07:42.074229Z",
     "shell.execute_reply": "2021-11-24T20:07:42.074625Z"
    },
    "papermill": {
     "duration": 0.0436,
     "end_time": "2021-11-24T20:07:42.074785",
     "exception": false,
     "start_time": "2021-11-24T20:07:42.031185",
     "status": "completed"
    },
    "tags": []
   },
   "outputs": [],
   "source": [
    "nn_learner = Learner(loss, model_nn, opt, config.num_epochs)\n",
    "acc_nn = ClfCallback(nn_learner, config.bs, training_data_x , testing_data_x, training_data_y, testing_data_y)\n",
    "nn_learner.set_callbacks([acc_nn])"
   ]
  },
  {
   "cell_type": "code",
   "execution_count": 21,
   "id": "877b6cc7",
   "metadata": {
    "execution": {
     "iopub.execute_input": "2021-11-24T20:07:42.133196Z",
     "iopub.status.busy": "2021-11-24T20:07:42.132661Z",
     "iopub.status.idle": "2021-11-24T20:07:42.149277Z",
     "shell.execute_reply": "2021-11-24T20:07:42.149739Z"
    },
    "papermill": {
     "duration": 0.048087,
     "end_time": "2021-11-24T20:07:42.149866",
     "exception": false,
     "start_time": "2021-11-24T20:07:42.101779",
     "status": "completed"
    },
    "tags": []
   },
   "outputs": [],
   "source": [
    "lr_learner = Learner(loss, model_lr, opt, config.num_epochs)\n",
    "acc_lr = ClfCallback(lr_learner, config.bs, training_data_x , testing_data_x, training_data_y, testing_data_y)\n",
    "lr_learner.set_callbacks([acc_lr])"
   ]
  },
  {
   "cell_type": "code",
   "execution_count": 22,
   "id": "d9b133c3",
   "metadata": {
    "execution": {
     "iopub.execute_input": "2021-11-24T20:07:42.209669Z",
     "iopub.status.busy": "2021-11-24T20:07:42.209090Z",
     "iopub.status.idle": "2021-11-24T20:09:04.132793Z",
     "shell.execute_reply": "2021-11-24T20:09:04.133585Z"
    },
    "papermill": {
     "duration": 81.956271,
     "end_time": "2021-11-24T20:09:04.133745",
     "exception": false,
     "start_time": "2021-11-24T20:07:42.177474",
     "status": "completed"
    },
    "tags": []
   },
   "outputs": [
    {
     "name": "stdout",
     "output_type": "stream",
     "text": [
      "Epoch 0, Loss 0.2527\n",
      "Training Accuracy: 0.4963, Testing Accuracy: 0.5035\n",
      "\n"
     ]
    },
    {
     "name": "stdout",
     "output_type": "stream",
     "text": [
      "Epoch 10, Loss 0.1862\n",
      "Training Accuracy: 0.8792, Testing Accuracy: 0.8962\n",
      "\n"
     ]
    },
    {
     "name": "stdout",
     "output_type": "stream",
     "text": [
      "Epoch 20, Loss 0.0929\n",
      "Training Accuracy: 0.9183, Testing Accuracy: 0.9350\n",
      "\n"
     ]
    },
    {
     "name": "stdout",
     "output_type": "stream",
     "text": [
      "Epoch 30, Loss 0.0599\n",
      "Training Accuracy: 0.9379, Testing Accuracy: 0.9521\n",
      "\n"
     ]
    },
    {
     "name": "stdout",
     "output_type": "stream",
     "text": [
      "Epoch 40, Loss 0.0476\n",
      "Training Accuracy: 0.9475, Testing Accuracy: 0.9602\n",
      "\n"
     ]
    },
    {
     "name": "stdout",
     "output_type": "stream",
     "text": [
      "Epoch 50, Loss 0.0413\n",
      "Training Accuracy: 0.9517, Testing Accuracy: 0.9642\n",
      "\n"
     ]
    },
    {
     "name": "stdout",
     "output_type": "stream",
     "text": [
      "Epoch 60, Loss 0.0374\n",
      "Training Accuracy: 0.9565, Testing Accuracy: 0.9652\n",
      "\n"
     ]
    },
    {
     "name": "stdout",
     "output_type": "stream",
     "text": [
      "Epoch 70, Loss 0.0347\n",
      "Training Accuracy: 0.9599, Testing Accuracy: 0.9667\n",
      "\n"
     ]
    },
    {
     "name": "stdout",
     "output_type": "stream",
     "text": [
      "Epoch 80, Loss 0.0327\n",
      "Training Accuracy: 0.9620, Testing Accuracy: 0.9667\n",
      "\n"
     ]
    },
    {
     "name": "stdout",
     "output_type": "stream",
     "text": [
      "Epoch 90, Loss 0.031\n",
      "Training Accuracy: 0.9637, Testing Accuracy: 0.9677\n",
      "\n"
     ]
    },
    {
     "name": "stdout",
     "output_type": "stream",
     "text": [
      "Epoch 100, Loss 0.0297\n",
      "Training Accuracy: 0.9646, Testing Accuracy: 0.9677\n",
      "\n"
     ]
    },
    {
     "name": "stdout",
     "output_type": "stream",
     "text": [
      "Epoch 110, Loss 0.0286\n",
      "Training Accuracy: 0.9658, Testing Accuracy: 0.9682\n",
      "\n"
     ]
    },
    {
     "name": "stdout",
     "output_type": "stream",
     "text": [
      "Epoch 120, Loss 0.0276\n",
      "Training Accuracy: 0.9670, Testing Accuracy: 0.9688\n",
      "\n"
     ]
    },
    {
     "name": "stdout",
     "output_type": "stream",
     "text": [
      "Epoch 130, Loss 0.0267\n",
      "Training Accuracy: 0.9683, Testing Accuracy: 0.9698\n",
      "\n"
     ]
    },
    {
     "name": "stdout",
     "output_type": "stream",
     "text": [
      "Epoch 140, Loss 0.0259\n",
      "Training Accuracy: 0.9691, Testing Accuracy: 0.9698\n",
      "\n"
     ]
    },
    {
     "name": "stdout",
     "output_type": "stream",
     "text": [
      "Epoch 150, Loss 0.0252\n",
      "Training Accuracy: 0.9697, Testing Accuracy: 0.9703\n",
      "\n"
     ]
    },
    {
     "name": "stdout",
     "output_type": "stream",
     "text": [
      "Epoch 160, Loss 0.0246\n",
      "Training Accuracy: 0.9704, Testing Accuracy: 0.9703\n",
      "\n"
     ]
    },
    {
     "name": "stdout",
     "output_type": "stream",
     "text": [
      "Epoch 170, Loss 0.0239\n",
      "Training Accuracy: 0.9715, Testing Accuracy: 0.9713\n",
      "\n"
     ]
    },
    {
     "name": "stdout",
     "output_type": "stream",
     "text": [
      "Epoch 180, Loss 0.0234\n",
      "Training Accuracy: 0.9719, Testing Accuracy: 0.9713\n",
      "\n"
     ]
    },
    {
     "name": "stdout",
     "output_type": "stream",
     "text": [
      "Epoch 190, Loss 0.0228\n",
      "Training Accuracy: 0.9727, Testing Accuracy: 0.9713\n",
      "\n"
     ]
    },
    {
     "name": "stdout",
     "output_type": "stream",
     "text": [
      "Epoch 200, Loss 0.0223\n",
      "Training Accuracy: 0.9735, Testing Accuracy: 0.9713\n",
      "\n"
     ]
    },
    {
     "name": "stdout",
     "output_type": "stream",
     "text": [
      "Epoch 210, Loss 0.0218\n",
      "Training Accuracy: 0.9739, Testing Accuracy: 0.9713\n",
      "\n"
     ]
    },
    {
     "name": "stdout",
     "output_type": "stream",
     "text": [
      "Epoch 220, Loss 0.0214\n",
      "Training Accuracy: 0.9745, Testing Accuracy: 0.9713\n",
      "\n"
     ]
    },
    {
     "name": "stdout",
     "output_type": "stream",
     "text": [
      "Epoch 230, Loss 0.0209\n",
      "Training Accuracy: 0.9754, Testing Accuracy: 0.9723\n",
      "\n"
     ]
    },
    {
     "name": "stdout",
     "output_type": "stream",
     "text": [
      "Epoch 240, Loss 0.0204\n",
      "Training Accuracy: 0.9760, Testing Accuracy: 0.9728\n",
      "\n"
     ]
    },
    {
     "data": {
      "text/plain": [
       "0.03660673447019043"
      ]
     },
     "execution_count": 22,
     "metadata": {},
     "output_type": "execute_result"
    }
   ],
   "source": [
    "nn_learner.train_loop(dl)"
   ]
  },
  {
   "cell_type": "code",
   "execution_count": 23,
   "id": "e0163366",
   "metadata": {
    "execution": {
     "iopub.execute_input": "2021-11-24T20:09:04.214413Z",
     "iopub.status.busy": "2021-11-24T20:09:04.213865Z",
     "iopub.status.idle": "2021-11-24T20:09:18.693795Z",
     "shell.execute_reply": "2021-11-24T20:09:18.694664Z"
    },
    "papermill": {
     "duration": 14.524853,
     "end_time": "2021-11-24T20:09:18.694842",
     "exception": false,
     "start_time": "2021-11-24T20:09:04.169989",
     "status": "completed"
    },
    "tags": []
   },
   "outputs": [
    {
     "name": "stdout",
     "output_type": "stream",
     "text": [
      "Epoch 0, Loss 0.227\n",
      "Training Accuracy: 0.7453, Testing Accuracy: 0.7626\n",
      "\n"
     ]
    },
    {
     "name": "stdout",
     "output_type": "stream",
     "text": [
      "Epoch 10, Loss 0.1026\n",
      "Training Accuracy: 0.9079, Testing Accuracy: 0.9229\n",
      "\n"
     ]
    },
    {
     "name": "stdout",
     "output_type": "stream",
     "text": [
      "Epoch 20, Loss 0.0795\n",
      "Training Accuracy: 0.9260, Testing Accuracy: 0.9405\n",
      "\n"
     ]
    },
    {
     "name": "stdout",
     "output_type": "stream",
     "text": [
      "Epoch 30, Loss 0.0686\n",
      "Training Accuracy: 0.9341, Testing Accuracy: 0.9491\n",
      "\n"
     ]
    },
    {
     "name": "stdout",
     "output_type": "stream",
     "text": [
      "Epoch 40, Loss 0.062\n",
      "Training Accuracy: 0.9395, Testing Accuracy: 0.9546\n",
      "\n"
     ]
    },
    {
     "name": "stdout",
     "output_type": "stream",
     "text": [
      "Epoch 50, Loss 0.0574\n",
      "Training Accuracy: 0.9442, Testing Accuracy: 0.9561\n",
      "\n"
     ]
    },
    {
     "name": "stdout",
     "output_type": "stream",
     "text": [
      "Epoch 60, Loss 0.0541\n",
      "Training Accuracy: 0.9468, Testing Accuracy: 0.9567\n",
      "\n"
     ]
    },
    {
     "name": "stdout",
     "output_type": "stream",
     "text": [
      "Epoch 70, Loss 0.0515\n",
      "Training Accuracy: 0.9489, Testing Accuracy: 0.9572\n",
      "\n"
     ]
    },
    {
     "name": "stdout",
     "output_type": "stream",
     "text": [
      "Epoch 80, Loss 0.0495\n",
      "Training Accuracy: 0.9507, Testing Accuracy: 0.9577\n",
      "\n"
     ]
    },
    {
     "name": "stdout",
     "output_type": "stream",
     "text": [
      "Epoch 90, Loss 0.0478\n",
      "Training Accuracy: 0.9520, Testing Accuracy: 0.9597\n",
      "\n"
     ]
    },
    {
     "name": "stdout",
     "output_type": "stream",
     "text": [
      "Epoch 100, Loss 0.0463\n",
      "Training Accuracy: 0.9533, Testing Accuracy: 0.9617\n",
      "\n"
     ]
    },
    {
     "name": "stdout",
     "output_type": "stream",
     "text": [
      "Epoch 110, Loss 0.0451\n",
      "Training Accuracy: 0.9543, Testing Accuracy: 0.9617\n",
      "\n"
     ]
    },
    {
     "name": "stdout",
     "output_type": "stream",
     "text": [
      "Epoch 120, Loss 0.044\n",
      "Training Accuracy: 0.9550, Testing Accuracy: 0.9632\n",
      "\n"
     ]
    },
    {
     "name": "stdout",
     "output_type": "stream",
     "text": [
      "Epoch 130, Loss 0.0431\n",
      "Training Accuracy: 0.9555, Testing Accuracy: 0.9637\n",
      "\n"
     ]
    },
    {
     "name": "stdout",
     "output_type": "stream",
     "text": [
      "Epoch 140, Loss 0.0422\n",
      "Training Accuracy: 0.9559, Testing Accuracy: 0.9642\n",
      "\n"
     ]
    },
    {
     "name": "stdout",
     "output_type": "stream",
     "text": [
      "Epoch 150, Loss 0.0415\n",
      "Training Accuracy: 0.9569, Testing Accuracy: 0.9642\n",
      "\n"
     ]
    },
    {
     "name": "stdout",
     "output_type": "stream",
     "text": [
      "Epoch 160, Loss 0.0408\n",
      "Training Accuracy: 0.9577, Testing Accuracy: 0.9657\n",
      "\n"
     ]
    },
    {
     "name": "stdout",
     "output_type": "stream",
     "text": [
      "Epoch 170, Loss 0.0402\n",
      "Training Accuracy: 0.9581, Testing Accuracy: 0.9657\n",
      "\n"
     ]
    },
    {
     "name": "stdout",
     "output_type": "stream",
     "text": [
      "Epoch 180, Loss 0.0396\n",
      "Training Accuracy: 0.9583, Testing Accuracy: 0.9662\n",
      "\n"
     ]
    },
    {
     "name": "stdout",
     "output_type": "stream",
     "text": [
      "Epoch 190, Loss 0.0391\n",
      "Training Accuracy: 0.9588, Testing Accuracy: 0.9662\n",
      "\n"
     ]
    },
    {
     "name": "stdout",
     "output_type": "stream",
     "text": [
      "Epoch 200, Loss 0.0386\n",
      "Training Accuracy: 0.9593, Testing Accuracy: 0.9662\n",
      "\n"
     ]
    },
    {
     "name": "stdout",
     "output_type": "stream",
     "text": [
      "Epoch 210, Loss 0.0381\n",
      "Training Accuracy: 0.9598, Testing Accuracy: 0.9667\n",
      "\n"
     ]
    },
    {
     "name": "stdout",
     "output_type": "stream",
     "text": [
      "Epoch 220, Loss 0.0377\n",
      "Training Accuracy: 0.9599, Testing Accuracy: 0.9672\n",
      "\n"
     ]
    },
    {
     "name": "stdout",
     "output_type": "stream",
     "text": [
      "Epoch 230, Loss 0.0373\n",
      "Training Accuracy: 0.9602, Testing Accuracy: 0.9672\n",
      "\n"
     ]
    },
    {
     "name": "stdout",
     "output_type": "stream",
     "text": [
      "Epoch 240, Loss 0.037\n",
      "Training Accuracy: 0.9607, Testing Accuracy: 0.9672\n",
      "\n"
     ]
    },
    {
     "data": {
      "text/plain": [
       "0.030001717479407122"
      ]
     },
     "execution_count": 23,
     "metadata": {},
     "output_type": "execute_result"
    }
   ],
   "source": [
    "lr_learner.train_loop(dl)"
   ]
  },
  {
   "cell_type": "code",
   "execution_count": 24,
   "id": "ca410940",
   "metadata": {
    "execution": {
     "iopub.execute_input": "2021-11-24T20:09:18.790419Z",
     "iopub.status.busy": "2021-11-24T20:09:18.789794Z",
     "iopub.status.idle": "2021-11-24T20:09:19.021018Z",
     "shell.execute_reply": "2021-11-24T20:09:19.021464Z"
    },
    "papermill": {
     "duration": 0.283657,
     "end_time": "2021-11-24T20:09:19.021621",
     "exception": false,
     "start_time": "2021-11-24T20:09:18.737964",
     "status": "completed"
    },
    "tags": []
   },
   "outputs": [
    {
     "data": {
      "text/plain": [
       "<matplotlib.legend.Legend at 0x7fcdf2fd5860>"
      ]
     },
     "execution_count": 24,
     "metadata": {},
     "output_type": "execute_result"
    },
    {
     "data": {
      "image/png": "[encoded data removed]",
      "text/plain": [
       "<Figure size 1080x720 with 1 Axes>"
      ]
     },
     "metadata": {
      "needs_background": "light"
     },
     "output_type": "display_data"
    }
   ],
   "source": [
    "#comparing the results of NN and LR\n",
    "plt.figure(figsize=(15,10))\n",
    "\n",
    "# Neural Network plots\n",
    "plt.plot(acc_nn.accuracies, 'r-', label = \"Training Accuracies - NN\")\n",
    "plt.plot(acc_nn.test_accuracies, 'g-', label = \"Testing Accuracies - NN\")\n",
    "\n",
    "# Logistic Regression plots\n",
    "plt.plot(acc_lr.accuracies, 'k-', label = \"Training Accuracies - LR\")\n",
    "plt.plot(acc_lr.test_accuracies, 'b-', label = \"Testing Accuracies - LR\")\n",
    "plt.legend()"
   ]
  },
  {
   "cell_type": "markdown",
   "id": "80dfb35c",
   "metadata": {
    "papermill": {
     "duration": 0.039648,
     "end_time": "2021-11-24T20:09:19.102315",
     "exception": false,
     "start_time": "2021-11-24T20:09:19.062667",
     "status": "completed"
    },
    "tags": []
   },
   "source": [
    "#### Plotting the outputs of this layer of the NN.\n"
   ]
  },
  {
   "cell_type": "code",
   "execution_count": 25,
   "id": "45eb2ff5",
   "metadata": {
    "execution": {
     "iopub.execute_input": "2021-11-24T20:09:19.185832Z",
     "iopub.status.busy": "2021-11-24T20:09:19.185238Z",
     "iopub.status.idle": "2021-11-24T20:09:19.207751Z",
     "shell.execute_reply": "2021-11-24T20:09:19.208447Z"
    },
    "papermill": {
     "duration": 0.067625,
     "end_time": "2021-11-24T20:09:19.208584",
     "exception": false,
     "start_time": "2021-11-24T20:09:19.140959",
     "status": "completed"
    },
    "tags": []
   },
   "outputs": [],
   "source": [
    "new_model = Model(layers[:-2])\n",
    "testing_plot = new_model(testing_data_x)"
   ]
  },
  {
   "cell_type": "code",
   "execution_count": 26,
   "id": "4c0a5485",
   "metadata": {
    "execution": {
     "iopub.execute_input": "2021-11-24T20:09:19.306317Z",
     "iopub.status.busy": "2021-11-24T20:09:19.305720Z",
     "iopub.status.idle": "2021-11-24T20:09:19.499709Z",
     "shell.execute_reply": "2021-11-24T20:09:19.500170Z"
    },
    "papermill": {
     "duration": 0.249864,
     "end_time": "2021-11-24T20:09:19.500332",
     "exception": false,
     "start_time": "2021-11-24T20:09:19.250468",
     "status": "completed"
    },
    "tags": []
   },
   "outputs": [
    {
     "data": {
      "text/plain": [
       "Text(0.5, 1.0, 'Outputs')"
      ]
     },
     "execution_count": 26,
     "metadata": {},
     "output_type": "execute_result"
    },
    {
     "data": {
      "image/png": "[encoded data removed]",
      "text/plain": [
       "<Figure size 576x504 with 1 Axes>"
      ]
     },
     "metadata": {
      "needs_background": "light"
     },
     "output_type": "display_data"
    }
   ],
   "source": [
    "# Plotting the scatter plot of points and color coding by class\n",
    "plt.figure(figsize=(8,7))\n",
    "plt.scatter(testing_plot[:,0], testing_plot[:,1], alpha = 0.1, c = y_test.ravel());\n",
    "plt.title('Outputs')"
   ]
  },
  {
   "cell_type": "markdown",
   "id": "a74fcf8f",
   "metadata": {
    "papermill": {
     "duration": 0.045602,
     "end_time": "2021-11-24T20:09:19.593222",
     "exception": false,
     "start_time": "2021-11-24T20:09:19.547620",
     "status": "completed"
    },
    "tags": []
   },
   "source": [
    "Probability contours"
   ]
  },
  {
   "cell_type": "code",
   "execution_count": 27,
   "id": "d0afc8e3",
   "metadata": {
    "execution": {
     "iopub.execute_input": "2021-11-24T20:09:19.685171Z",
     "iopub.status.busy": "2021-11-24T20:09:19.684629Z",
     "iopub.status.idle": "2021-11-24T20:09:19.702317Z",
     "shell.execute_reply": "2021-11-24T20:09:19.703049Z"
    },
    "papermill": {
     "duration": 0.065726,
     "end_time": "2021-11-24T20:09:19.703274",
     "exception": false,
     "start_time": "2021-11-24T20:09:19.637548",
     "status": "completed"
    },
    "tags": []
   },
   "outputs": [],
   "source": [
    "model_prob = Model(layers[-2:]) "
   ]
  },
  {
   "cell_type": "code",
   "execution_count": 28,
   "id": "9b96e238",
   "metadata": {
    "execution": {
     "iopub.execute_input": "2021-11-24T20:09:19.825269Z",
     "iopub.status.busy": "2021-11-24T20:09:19.824665Z",
     "iopub.status.idle": "2021-11-24T20:09:19.845049Z",
     "shell.execute_reply": "2021-11-24T20:09:19.845568Z"
    },
    "papermill": {
     "duration": 0.067515,
     "end_time": "2021-11-24T20:09:19.845720",
     "exception": false,
     "start_time": "2021-11-24T20:09:19.778205",
     "status": "completed"
    },
    "tags": []
   },
   "outputs": [],
   "source": [
    "#creating the x and y ranges according to the above generated plot.\n",
    "x_range = np.linspace(-4, 1, 100) \n",
    "y_range = np.linspace(-6, 6, 100) \n",
    "x_grid, y_grid = np.meshgrid(x_range, y_range) # x_grid and y_grig are of size 100 X 100\n",
    "\n",
    "# converting x_grid and y_grid to continuous arrays\n",
    "x_gridflat = np.ravel(x_grid)\n",
    "y_gridflat = np.ravel(y_grid)\n",
    "\n",
    "# The last layer of the current model takes two columns as input. Hence transpose of np.vstack() is required.\n",
    "X = np.vstack((x_gridflat, y_gridflat)).T\n",
    "\n",
    "prob_contour = model_prob(X).reshape(100,100) "
   ]
  },
  {
   "cell_type": "code",
   "execution_count": 29,
   "id": "da72499a",
   "metadata": {
    "execution": {
     "iopub.execute_input": "2021-11-24T20:09:19.941933Z",
     "iopub.status.busy": "2021-11-24T20:09:19.941439Z",
     "iopub.status.idle": "2021-11-24T20:09:20.198523Z",
     "shell.execute_reply": "2021-11-24T20:09:20.198975Z"
    },
    "papermill": {
     "duration": 0.308378,
     "end_time": "2021-11-24T20:09:20.199127",
     "exception": false,
     "start_time": "2021-11-24T20:09:19.890749",
     "status": "completed"
    },
    "tags": []
   },
   "outputs": [
    {
     "data": {
      "image/png": "[encoded data removed]",
      "text/plain": [
       "<Figure size 720x648 with 1 Axes>"
      ]
     },
     "metadata": {
      "needs_background": "light"
     },
     "output_type": "display_data"
    }
   ],
   "source": [
    "plt.figure(figsize=(10,9))\n",
    "plt.scatter(testing_plot[:,0], testing_plot[:,1], alpha = 0.1, c = y_test.ravel())\n",
    "contours = plt.contour(x_grid,y_grid,prob_contour)\n",
    "plt.title('Probability Contours')\n",
    "plt.clabel(contours, inline = True );"
   ]
  },
  {
   "cell_type": "code",
   "execution_count": null,
   "id": "e81b4ac7",
   "metadata": {
    "papermill": {
     "duration": 0.049045,
     "end_time": "2021-11-24T20:09:20.299490",
     "exception": false,
     "start_time": "2021-11-24T20:09:20.250445",
     "status": "completed"
    },
    "tags": []
   },
   "outputs": [],
   "source": []
  }
 ],
 "metadata": {
  "kernelspec": {
   "display_name": "Python 3",
   "language": "python",
   "name": "python3"
  },
  "language_info": {
   "codemirror_mode": {
    "name": "ipython",
    "version": 3
   },
   "file_extension": ".py",
   "mimetype": "text/x-python",
   "name": "python",
   "nbconvert_exporter": "python",
   "pygments_lexer": "ipython3",
   "version": "3.6.15"
  },
  "papermill": {
   "default_parameters": {},
   "duration": 105.008787,
   "end_time": "2021-11-24T20:09:20.754376",
   "environment_variables": {},
   "exception": null,
   "input_path": "2020-08-11-part2.ipynb",
   "output_path": "2020-08-11-part2.ipynb",
   "parameters": {},
   "start_time": "2021-11-24T20:07:35.745589",
   "version": "2.3.3"
  }
 },
 "nbformat": 4,
 "nbformat_minor": 5
}