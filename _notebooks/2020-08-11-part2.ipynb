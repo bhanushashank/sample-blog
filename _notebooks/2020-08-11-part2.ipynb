{
 "cells": [
  {
   "cell_type": "markdown",
   "id": "98380cd3",
   "metadata": {
    "papermill": {
     "duration": 0.031132,
     "end_time": "2022-01-18T10:09:32.570996",
     "exception": false,
     "start_time": "2022-01-18T10:09:32.539864",
     "status": "completed"
    },
    "tags": []
   },
   "source": [
    "# Distinguish Your Own Digits (DYOD)"
   ]
  },
  {
   "cell_type": "markdown",
   "id": "ef31240d",
   "metadata": {
    "papermill": {
     "duration": 0.025266,
     "end_time": "2022-01-18T10:09:32.622392",
     "exception": false,
     "start_time": "2022-01-18T10:09:32.597126",
     "status": "completed"
    },
    "tags": []
   },
   "source": [
    "You are going to write a classifier that distinguishes between the number 3 and number 8."
   ]
  },
  {
   "cell_type": "code",
   "execution_count": 1,
   "id": "b15c8646",
   "metadata": {
    "execution": {
     "iopub.execute_input": "2022-01-18T10:09:32.683231Z",
     "iopub.status.busy": "2022-01-18T10:09:32.682702Z",
     "iopub.status.idle": "2022-01-18T10:09:32.692186Z",
     "shell.execute_reply": "2022-01-18T10:09:32.692681Z"
    },
    "papermill": {
     "duration": 0.045494,
     "end_time": "2022-01-18T10:09:32.693138",
     "exception": false,
     "start_time": "2022-01-18T10:09:32.647644",
     "status": "completed"
    },
    "tags": []
   },
   "outputs": [],
   "source": [
    "%load_ext autoreload\n",
    "%autoreload 2"
   ]
  },
  {
   "cell_type": "code",
   "execution_count": 2,
   "id": "22ef38dc",
   "metadata": {
    "execution": {
     "iopub.execute_input": "2022-01-18T10:09:32.754128Z",
     "iopub.status.busy": "2022-01-18T10:09:32.752838Z",
     "iopub.status.idle": "2022-01-18T10:09:33.321006Z",
     "shell.execute_reply": "2022-01-18T10:09:33.320507Z"
    },
    "papermill": {
     "duration": 0.603717,
     "end_time": "2022-01-18T10:09:33.321138",
     "exception": false,
     "start_time": "2022-01-18T10:09:32.717421",
     "status": "completed"
    },
    "tags": []
   },
   "outputs": [],
   "source": [
    "%matplotlib inline\n",
    "import numpy as np\n",
    "import matplotlib.pyplot as plt\n",
    "import pandas as pd"
   ]
  },
  {
   "cell_type": "markdown",
   "id": "ba036198",
   "metadata": {
    "papermill": {
     "duration": 0.024386,
     "end_time": "2022-01-18T10:09:33.369752",
     "exception": false,
     "start_time": "2022-01-18T10:09:33.345366",
     "status": "completed"
    },
    "tags": []
   },
   "source": [
    "From the command line run `pip install mnist`. This is a library that will help you bring down the mnist dataset. If you run this from a notebook, you need to put  `!pip install mnist` in a cell by itself."
   ]
  },
  {
   "cell_type": "code",
   "execution_count": 3,
   "id": "bb6ad8a1",
   "metadata": {
    "execution": {
     "iopub.execute_input": "2022-01-18T10:09:33.426252Z",
     "iopub.status.busy": "2022-01-18T10:09:33.425738Z",
     "iopub.status.idle": "2022-01-18T10:09:35.965441Z",
     "shell.execute_reply": "2022-01-18T10:09:35.964513Z"
    },
    "papermill": {
     "duration": 2.57147,
     "end_time": "2022-01-18T10:09:35.965584",
     "exception": false,
     "start_time": "2022-01-18T10:09:33.394114",
     "status": "completed"
    },
    "tags": []
   },
   "outputs": [
    {
     "name": "stdout",
     "output_type": "stream",
     "text": [
      "Collecting mnist\r\n"
     ]
    },
    {
     "name": "stdout",
     "output_type": "stream",
     "text": [
      "  Downloading mnist-0.2.2-py2.py3-none-any.whl (3.5 kB)\r\n",
      "Requirement already satisfied: numpy in /opt/hostedtoolcache/Python/3.6.15/x64/lib/python3.6/site-packages (from mnist) (1.19.5)\r\n"
     ]
    },
    {
     "name": "stdout",
     "output_type": "stream",
     "text": [
      "Installing collected packages: mnist\r\n",
      "Successfully installed mnist-0.2.2\r\n"
     ]
    }
   ],
   "source": [
    "!pip install mnist"
   ]
  },
  {
   "cell_type": "markdown",
   "id": "69df9c9a",
   "metadata": {
    "papermill": {
     "duration": 0.025257,
     "end_time": "2022-01-18T10:09:36.016117",
     "exception": false,
     "start_time": "2022-01-18T10:09:35.990860",
     "status": "completed"
    },
    "tags": []
   },
   "source": [
    "## Preparing the Data"
   ]
  },
  {
   "cell_type": "code",
   "execution_count": 4,
   "id": "7f69d806",
   "metadata": {
    "execution": {
     "iopub.execute_input": "2022-01-18T10:09:36.073651Z",
     "iopub.status.busy": "2022-01-18T10:09:36.069634Z",
     "iopub.status.idle": "2022-01-18T10:09:36.083700Z",
     "shell.execute_reply": "2022-01-18T10:09:36.084197Z"
    },
    "papermill": {
     "duration": 0.043401,
     "end_time": "2022-01-18T10:09:36.084328",
     "exception": false,
     "start_time": "2022-01-18T10:09:36.040927",
     "status": "completed"
    },
    "tags": []
   },
   "outputs": [],
   "source": [
    "import mnist"
   ]
  },
  {
   "cell_type": "code",
   "execution_count": 5,
   "id": "a411e44f",
   "metadata": {
    "execution": {
     "iopub.execute_input": "2022-01-18T10:09:36.145638Z",
     "iopub.status.busy": "2022-01-18T10:09:36.144687Z",
     "iopub.status.idle": "2022-01-18T10:09:36.779168Z",
     "shell.execute_reply": "2022-01-18T10:09:36.779642Z"
    },
    "papermill": {
     "duration": 0.670572,
     "end_time": "2022-01-18T10:09:36.779805",
     "exception": false,
     "start_time": "2022-01-18T10:09:36.109233",
     "status": "completed"
    },
    "tags": []
   },
   "outputs": [],
   "source": [
    "train_images = mnist.train_images()\n",
    "train_labels = mnist.train_labels()"
   ]
  },
  {
   "cell_type": "code",
   "execution_count": 6,
   "id": "dceab3a5",
   "metadata": {
    "execution": {
     "iopub.execute_input": "2022-01-18T10:09:36.834884Z",
     "iopub.status.busy": "2022-01-18T10:09:36.834375Z",
     "iopub.status.idle": "2022-01-18T10:09:36.848144Z",
     "shell.execute_reply": "2022-01-18T10:09:36.848619Z"
    },
    "papermill": {
     "duration": 0.042669,
     "end_time": "2022-01-18T10:09:36.848745",
     "exception": false,
     "start_time": "2022-01-18T10:09:36.806076",
     "status": "completed"
    },
    "tags": []
   },
   "outputs": [
    {
     "data": {
      "text/plain": [
       "((60000, 28, 28), (60000,))"
      ]
     },
     "execution_count": 6,
     "metadata": {},
     "output_type": "execute_result"
    }
   ],
   "source": [
    "train_images.shape, train_labels.shape"
   ]
  },
  {
   "cell_type": "code",
   "execution_count": 7,
   "id": "f50dc2bb",
   "metadata": {
    "execution": {
     "iopub.execute_input": "2022-01-18T10:09:36.902506Z",
     "iopub.status.busy": "2022-01-18T10:09:36.901998Z",
     "iopub.status.idle": "2022-01-18T10:09:37.222043Z",
     "shell.execute_reply": "2022-01-18T10:09:37.222553Z"
    },
    "papermill": {
     "duration": 0.348937,
     "end_time": "2022-01-18T10:09:37.222708",
     "exception": false,
     "start_time": "2022-01-18T10:09:36.873771",
     "status": "completed"
    },
    "tags": []
   },
   "outputs": [],
   "source": [
    "test_images = mnist.test_images()\n",
    "test_labels = mnist.test_labels()"
   ]
  },
  {
   "cell_type": "code",
   "execution_count": 8,
   "id": "fc38cf1b",
   "metadata": {
    "execution": {
     "iopub.execute_input": "2022-01-18T10:09:37.278812Z",
     "iopub.status.busy": "2022-01-18T10:09:37.278282Z",
     "iopub.status.idle": "2022-01-18T10:09:37.292442Z",
     "shell.execute_reply": "2022-01-18T10:09:37.292031Z"
    },
    "papermill": {
     "duration": 0.044282,
     "end_time": "2022-01-18T10:09:37.292555",
     "exception": false,
     "start_time": "2022-01-18T10:09:37.248273",
     "status": "completed"
    },
    "tags": []
   },
   "outputs": [
    {
     "data": {
      "text/plain": [
       "((10000, 28, 28), (10000,))"
      ]
     },
     "execution_count": 8,
     "metadata": {},
     "output_type": "execute_result"
    }
   ],
   "source": [
    "test_images.shape, test_labels.shape"
   ]
  },
  {
   "cell_type": "code",
   "execution_count": 9,
   "id": "f9ed8fe0",
   "metadata": {
    "execution": {
     "iopub.execute_input": "2022-01-18T10:09:37.348514Z",
     "iopub.status.busy": "2022-01-18T10:09:37.348006Z",
     "iopub.status.idle": "2022-01-18T10:09:37.496001Z",
     "shell.execute_reply": "2022-01-18T10:09:37.495528Z"
    },
    "papermill": {
     "duration": 0.178143,
     "end_time": "2022-01-18T10:09:37.496118",
     "exception": false,
     "start_time": "2022-01-18T10:09:37.317975",
     "status": "completed"
    },
    "tags": []
   },
   "outputs": [
    {
     "name": "stdout",
     "output_type": "stream",
     "text": [
      "2\n"
     ]
    },
    {
     "data": {
      "text/plain": [
       "<matplotlib.image.AxesImage at 0x7f4c880294e0>"
      ]
     },
     "execution_count": 9,
     "metadata": {},
     "output_type": "execute_result"
    },
    {
     "data": {
      "image/png": "[encoded data removed]",
      "text/plain": [
       "<Figure size 432x288 with 1 Axes>"
      ]
     },
     "metadata": {
      "needs_background": "light"
     },
     "output_type": "display_data"
    }
   ],
   "source": [
    "image_index = 7776 # You may select anything up to 60,000\n",
    "print(train_labels[image_index]) \n",
    "plt.imshow(train_images[image_index], cmap='Greys')"
   ]
  },
  {
   "cell_type": "markdown",
   "id": "a8d2388d",
   "metadata": {
    "papermill": {
     "duration": 0.026709,
     "end_time": "2022-01-18T10:09:37.560806",
     "exception": false,
     "start_time": "2022-01-18T10:09:37.534097",
     "status": "completed"
    },
    "tags": []
   },
   "source": [
    "## Filter data to get 3 and 8 out"
   ]
  },
  {
   "cell_type": "code",
   "execution_count": 10,
   "id": "776f7fc7",
   "metadata": {
    "execution": {
     "iopub.execute_input": "2022-01-18T10:09:37.620745Z",
     "iopub.status.busy": "2022-01-18T10:09:37.620206Z",
     "iopub.status.idle": "2022-01-18T10:09:37.636614Z",
     "shell.execute_reply": "2022-01-18T10:09:37.636182Z"
    },
    "papermill": {
     "duration": 0.049307,
     "end_time": "2022-01-18T10:09:37.636733",
     "exception": false,
     "start_time": "2022-01-18T10:09:37.587426",
     "status": "completed"
    },
    "tags": []
   },
   "outputs": [],
   "source": [
    "train_filter = np.where((train_labels == 3 ) | (train_labels == 8))\n",
    "test_filter = np.where((test_labels == 3) | (test_labels == 8))\n",
    "X_train, y_train = train_images[train_filter], train_labels[train_filter]\n",
    "X_test, y_test = test_images[test_filter], test_labels[test_filter]"
   ]
  },
  {
   "cell_type": "markdown",
   "id": "948f0b7e",
   "metadata": {
    "papermill": {
     "duration": 0.026502,
     "end_time": "2022-01-18T10:09:37.689905",
     "exception": false,
     "start_time": "2022-01-18T10:09:37.663403",
     "status": "completed"
    },
    "tags": []
   },
   "source": [
    "We normalize the pizel values in the 0 to 1 range"
   ]
  },
  {
   "cell_type": "code",
   "execution_count": 11,
   "id": "ee4c2166",
   "metadata": {
    "execution": {
     "iopub.execute_input": "2022-01-18T10:09:37.746334Z",
     "iopub.status.busy": "2022-01-18T10:09:37.745811Z",
     "iopub.status.idle": "2022-01-18T10:09:37.793083Z",
     "shell.execute_reply": "2022-01-18T10:09:37.792549Z"
    },
    "papermill": {
     "duration": 0.076822,
     "end_time": "2022-01-18T10:09:37.793227",
     "exception": false,
     "start_time": "2022-01-18T10:09:37.716405",
     "status": "completed"
    },
    "tags": []
   },
   "outputs": [],
   "source": [
    "X_train = X_train/255.\n",
    "X_test = X_test/255."
   ]
  },
  {
   "cell_type": "markdown",
   "id": "ddcf4fab",
   "metadata": {
    "papermill": {
     "duration": 0.026568,
     "end_time": "2022-01-18T10:09:37.847660",
     "exception": false,
     "start_time": "2022-01-18T10:09:37.821092",
     "status": "completed"
    },
    "tags": []
   },
   "source": [
    "And setup the labels as 1 (when the digit is 3) and 0 (when the digit is 8)"
   ]
  },
  {
   "cell_type": "code",
   "execution_count": 12,
   "id": "7dc908f2",
   "metadata": {
    "execution": {
     "iopub.execute_input": "2022-01-18T10:09:37.906147Z",
     "iopub.status.busy": "2022-01-18T10:09:37.905629Z",
     "iopub.status.idle": "2022-01-18T10:09:37.915867Z",
     "shell.execute_reply": "2022-01-18T10:09:37.915428Z"
    },
    "papermill": {
     "duration": 0.041894,
     "end_time": "2022-01-18T10:09:37.915974",
     "exception": false,
     "start_time": "2022-01-18T10:09:37.874080",
     "status": "completed"
    },
    "tags": []
   },
   "outputs": [],
   "source": [
    "y_train = 1*(y_train==3)\n",
    "y_test = 1*(y_test==3)"
   ]
  },
  {
   "cell_type": "code",
   "execution_count": 13,
   "id": "01e4e969",
   "metadata": {
    "execution": {
     "iopub.execute_input": "2022-01-18T10:09:37.985194Z",
     "iopub.status.busy": "2022-01-18T10:09:37.981666Z",
     "iopub.status.idle": "2022-01-18T10:09:37.988219Z",
     "shell.execute_reply": "2022-01-18T10:09:37.987781Z"
    },
    "papermill": {
     "duration": 0.045901,
     "end_time": "2022-01-18T10:09:37.988326",
     "exception": false,
     "start_time": "2022-01-18T10:09:37.942425",
     "status": "completed"
    },
    "tags": []
   },
   "outputs": [
    {
     "data": {
      "text/plain": [
       "((11982, 28, 28), (1984, 28, 28))"
      ]
     },
     "execution_count": 13,
     "metadata": {},
     "output_type": "execute_result"
    }
   ],
   "source": [
    "X_train.shape, X_test.shape"
   ]
  },
  {
   "cell_type": "markdown",
   "id": "5ccf3f85",
   "metadata": {
    "papermill": {
     "duration": 0.026488,
     "end_time": "2022-01-18T10:09:38.041374",
     "exception": false,
     "start_time": "2022-01-18T10:09:38.014886",
     "status": "completed"
    },
    "tags": []
   },
   "source": [
    "We reshape the data to flatten the image pixels into a set of features or co-variates:"
   ]
  },
  {
   "cell_type": "code",
   "execution_count": 14,
   "id": "5286a4a3",
   "metadata": {
    "execution": {
     "iopub.execute_input": "2022-01-18T10:09:38.099231Z",
     "iopub.status.busy": "2022-01-18T10:09:38.098707Z",
     "iopub.status.idle": "2022-01-18T10:09:38.111696Z",
     "shell.execute_reply": "2022-01-18T10:09:38.111150Z"
    },
    "papermill": {
     "duration": 0.043807,
     "end_time": "2022-01-18T10:09:38.111818",
     "exception": false,
     "start_time": "2022-01-18T10:09:38.068011",
     "status": "completed"
    },
    "tags": []
   },
   "outputs": [
    {
     "data": {
      "text/plain": [
       "((11982, 784), (1984, 784))"
      ]
     },
     "execution_count": 14,
     "metadata": {},
     "output_type": "execute_result"
    }
   ],
   "source": [
    "X_train = X_train.reshape(X_train.shape[0], -1)\n",
    "X_test = X_test.reshape(X_test.shape[0], -1)\n",
    "X_train.shape, X_test.shape"
   ]
  },
  {
   "cell_type": "code",
   "execution_count": 15,
   "id": "73c5f88a",
   "metadata": {
    "execution": {
     "iopub.execute_input": "2022-01-18T10:09:38.175090Z",
     "iopub.status.busy": "2022-01-18T10:09:38.174428Z",
     "iopub.status.idle": "2022-01-18T10:09:38.192009Z",
     "shell.execute_reply": "2022-01-18T10:09:38.191574Z"
    },
    "papermill": {
     "duration": 0.050833,
     "end_time": "2022-01-18T10:09:38.192125",
     "exception": false,
     "start_time": "2022-01-18T10:09:38.141292",
     "status": "completed"
    },
    "tags": []
   },
   "outputs": [],
   "source": [
    "#Impoting functions from 'Kudzu'\n",
    "from kudzu.model import Model\n",
    "from kudzu.train import Learner\n",
    "from kudzu.optim import GD\n",
    "from kudzu.data import Data, Sampler,Dataloader\n",
    "\n",
    "from kudzu.callbacks import AccCallback\n",
    "from kudzu.callbacks import ClfCallback\n",
    "\n",
    "from kudzu.loss import MSE\n",
    "\n",
    "from kudzu.layer import Sigmoid,Relu\n",
    "from kudzu.layer import Affine"
   ]
  },
  {
   "cell_type": "markdown",
   "id": "bc01172a",
   "metadata": {
    "papermill": {
     "duration": 0.028157,
     "end_time": "2022-01-18T10:09:38.249227",
     "exception": false,
     "start_time": "2022-01-18T10:09:38.221070",
     "status": "completed"
    },
    "tags": []
   },
   "source": [
    "### Let us create a `Config` class, to store important parameters. \n",
    "This class essentially plays the role of a dictionary."
   ]
  },
  {
   "cell_type": "code",
   "execution_count": 16,
   "id": "978281aa",
   "metadata": {
    "execution": {
     "iopub.execute_input": "2022-01-18T10:09:38.309560Z",
     "iopub.status.busy": "2022-01-18T10:09:38.308973Z",
     "iopub.status.idle": "2022-01-18T10:09:38.320242Z",
     "shell.execute_reply": "2022-01-18T10:09:38.319801Z"
    },
    "papermill": {
     "duration": 0.043465,
     "end_time": "2022-01-18T10:09:38.320351",
     "exception": false,
     "start_time": "2022-01-18T10:09:38.276886",
     "status": "completed"
    },
    "tags": []
   },
   "outputs": [],
   "source": [
    "class Config:\n",
    "    pass\n",
    "config = Config()\n",
    "config.lr = 0.001\n",
    "config.num_epochs = 250\n",
    "config.bs = 50"
   ]
  },
  {
   "cell_type": "markdown",
   "id": "1385fa59",
   "metadata": {
    "papermill": {
     "duration": 0.029313,
     "end_time": "2022-01-18T10:09:38.379348",
     "exception": false,
     "start_time": "2022-01-18T10:09:38.350035",
     "status": "completed"
    },
    "tags": []
   },
   "source": [
    "### Running Models with the Training data\n",
    "Details about the network layers:\n",
    "- A first affine layer has 784 inputs and does 100 affine transforms. These are followed by a Relu\n",
    "- A second affine layer has 100 inputs from the 100 activations of the past layer, and does 100 affine transforms. These are followed by a Relu\n",
    "- A third affine layer has 100 activations and does 2 affine transformations to create an embedding for visualization. There is no non-linearity here.\n",
    "- A final \"logistic regression\" which has an affine transform from 2 inputs to 1 output, which is squeezed through a sigmoid.\n"
   ]
  },
  {
   "cell_type": "code",
   "execution_count": 17,
   "id": "2b9c66db",
   "metadata": {
    "execution": {
     "iopub.execute_input": "2022-01-18T10:09:38.442219Z",
     "iopub.status.busy": "2022-01-18T10:09:38.441703Z",
     "iopub.status.idle": "2022-01-18T10:09:38.452393Z",
     "shell.execute_reply": "2022-01-18T10:09:38.451976Z"
    },
    "papermill": {
     "duration": 0.045548,
     "end_time": "2022-01-18T10:09:38.452507",
     "exception": false,
     "start_time": "2022-01-18T10:09:38.406959",
     "status": "completed"
    },
    "tags": []
   },
   "outputs": [],
   "source": [
    "data = Data(X_train, y_train.reshape(-1,1))\n",
    "sampler = Sampler(data, config.bs, shuffle=True)\n",
    "\n",
    "dl = Dataloader(data, sampler)\n",
    "\n",
    "opt = GD(config.lr)\n",
    "loss = MSE()"
   ]
  },
  {
   "cell_type": "code",
   "execution_count": 18,
   "id": "b275e4c2",
   "metadata": {
    "execution": {
     "iopub.execute_input": "2022-01-18T10:09:38.517437Z",
     "iopub.status.busy": "2022-01-18T10:09:38.516869Z",
     "iopub.status.idle": "2022-01-18T10:09:38.522885Z",
     "shell.execute_reply": "2022-01-18T10:09:38.523295Z"
    },
    "papermill": {
     "duration": 0.043252,
     "end_time": "2022-01-18T10:09:38.523424",
     "exception": false,
     "start_time": "2022-01-18T10:09:38.480172",
     "status": "completed"
    },
    "tags": []
   },
   "outputs": [],
   "source": [
    "training_data_x = X_train\n",
    "testing_data_x = X_test\n",
    "training_data_y = y_train.reshape(-1,1)\n",
    "testing_data_y = y_test.reshape(-1,1)"
   ]
  },
  {
   "cell_type": "code",
   "execution_count": 19,
   "id": "76951160",
   "metadata": {
    "execution": {
     "iopub.execute_input": "2022-01-18T10:09:38.587880Z",
     "iopub.status.busy": "2022-01-18T10:09:38.587307Z",
     "iopub.status.idle": "2022-01-18T10:09:38.602028Z",
     "shell.execute_reply": "2022-01-18T10:09:38.602418Z"
    },
    "papermill": {
     "duration": 0.04772,
     "end_time": "2022-01-18T10:09:38.602547",
     "exception": false,
     "start_time": "2022-01-18T10:09:38.554827",
     "status": "completed"
    },
    "tags": []
   },
   "outputs": [
    {
     "name": "stdout",
     "output_type": "stream",
     "text": [
      "xavier\n",
      "xavier\n",
      "xavier\n",
      "xavier\n",
      "xavier\n"
     ]
    }
   ],
   "source": [
    "layers = [Affine(\"first\", 784, 100), Relu(\"first\"), Affine(\"second\", 100, 100), Relu(\"second\"), Affine(\"third\", 100, 2), Affine(\"last\", 2, 1), Sigmoid(\"last\")]\n",
    "model_nn = Model(layers)\n",
    "model_lr = Model([Affine(\"logits\", 784, 1), Sigmoid(\"sigmoid\")])"
   ]
  },
  {
   "cell_type": "code",
   "execution_count": 20,
   "id": "6eede77a",
   "metadata": {
    "execution": {
     "iopub.execute_input": "2022-01-18T10:09:38.674439Z",
     "iopub.status.busy": "2022-01-18T10:09:38.669740Z",
     "iopub.status.idle": "2022-01-18T10:09:38.678853Z",
     "shell.execute_reply": "2022-01-18T10:09:38.678420Z"
    },
    "papermill": {
     "duration": 0.046075,
     "end_time": "2022-01-18T10:09:38.678960",
     "exception": false,
     "start_time": "2022-01-18T10:09:38.632885",
     "status": "completed"
    },
    "tags": []
   },
   "outputs": [],
   "source": [
    "nn_learner = Learner(loss, model_nn, opt, config.num_epochs)\n",
    "acc_nn = ClfCallback(nn_learner, config.bs, training_data_x , testing_data_x, training_data_y, testing_data_y)\n",
    "nn_learner.set_callbacks([acc_nn])"
   ]
  },
  {
   "cell_type": "code",
   "execution_count": 21,
   "id": "877b6cc7",
   "metadata": {
    "execution": {
     "iopub.execute_input": "2022-01-18T10:09:38.744550Z",
     "iopub.status.busy": "2022-01-18T10:09:38.743957Z",
     "iopub.status.idle": "2022-01-18T10:09:38.755418Z",
     "shell.execute_reply": "2022-01-18T10:09:38.755804Z"
    },
    "papermill": {
     "duration": 0.047818,
     "end_time": "2022-01-18T10:09:38.755932",
     "exception": false,
     "start_time": "2022-01-18T10:09:38.708114",
     "status": "completed"
    },
    "tags": []
   },
   "outputs": [],
   "source": [
    "lr_learner = Learner(loss, model_lr, opt, config.num_epochs)\n",
    "acc_lr = ClfCallback(lr_learner, config.bs, training_data_x , testing_data_x, training_data_y, testing_data_y)\n",
    "lr_learner.set_callbacks([acc_lr])"
   ]
  },
  {
   "cell_type": "code",
   "execution_count": 22,
   "id": "d9b133c3",
   "metadata": {
    "execution": {
     "iopub.execute_input": "2022-01-18T10:09:38.816096Z",
     "iopub.status.busy": "2022-01-18T10:09:38.815587Z",
     "iopub.status.idle": "2022-01-18T10:10:55.172165Z",
     "shell.execute_reply": "2022-01-18T10:10:55.172653Z"
    },
    "papermill": {
     "duration": 76.389669,
     "end_time": "2022-01-18T10:10:55.172793",
     "exception": false,
     "start_time": "2022-01-18T10:09:38.783124",
     "status": "completed"
    },
    "tags": []
   },
   "outputs": [
    {
     "name": "stdout",
     "output_type": "stream",
     "text": [
      "Epoch 0, Loss 0.2297\n",
      "Training Accuracy: 0.8060, Testing Accuracy: 0.8125\n",
      "\n"
     ]
    },
    {
     "name": "stdout",
     "output_type": "stream",
     "text": [
      "Epoch 10, Loss 0.058\n",
      "Training Accuracy: 0.9407, Testing Accuracy: 0.9506\n",
      "\n"
     ]
    },
    {
     "name": "stdout",
     "output_type": "stream",
     "text": [
      "Epoch 20, Loss 0.041\n",
      "Training Accuracy: 0.9543, Testing Accuracy: 0.9607\n",
      "\n"
     ]
    },
    {
     "name": "stdout",
     "output_type": "stream",
     "text": [
      "Epoch 30, Loss 0.0344\n",
      "Training Accuracy: 0.9614, Testing Accuracy: 0.9662\n",
      "\n"
     ]
    },
    {
     "name": "stdout",
     "output_type": "stream",
     "text": [
      "Epoch 40, Loss 0.0305\n",
      "Training Accuracy: 0.9659, Testing Accuracy: 0.9708\n",
      "\n"
     ]
    },
    {
     "name": "stdout",
     "output_type": "stream",
     "text": [
      "Epoch 50, Loss 0.0279\n",
      "Training Accuracy: 0.9681, Testing Accuracy: 0.9708\n",
      "\n"
     ]
    },
    {
     "name": "stdout",
     "output_type": "stream",
     "text": [
      "Epoch 60, Loss 0.026\n",
      "Training Accuracy: 0.9697, Testing Accuracy: 0.9723\n",
      "\n"
     ]
    },
    {
     "name": "stdout",
     "output_type": "stream",
     "text": [
      "Epoch 70, Loss 0.0244\n",
      "Training Accuracy: 0.9724, Testing Accuracy: 0.9728\n",
      "\n"
     ]
    },
    {
     "name": "stdout",
     "output_type": "stream",
     "text": [
      "Epoch 80, Loss 0.0232\n",
      "Training Accuracy: 0.9740, Testing Accuracy: 0.9743\n",
      "\n"
     ]
    },
    {
     "name": "stdout",
     "output_type": "stream",
     "text": [
      "Epoch 90, Loss 0.0221\n",
      "Training Accuracy: 0.9756, Testing Accuracy: 0.9748\n",
      "\n"
     ]
    },
    {
     "name": "stdout",
     "output_type": "stream",
     "text": [
      "Epoch 100, Loss 0.0212\n",
      "Training Accuracy: 0.9764, Testing Accuracy: 0.9783\n",
      "\n"
     ]
    },
    {
     "name": "stdout",
     "output_type": "stream",
     "text": [
      "Epoch 110, Loss 0.0204\n",
      "Training Accuracy: 0.9772, Testing Accuracy: 0.9783\n",
      "\n"
     ]
    },
    {
     "name": "stdout",
     "output_type": "stream",
     "text": [
      "Epoch 120, Loss 0.0197\n",
      "Training Accuracy: 0.9782, Testing Accuracy: 0.9783\n",
      "\n"
     ]
    },
    {
     "name": "stdout",
     "output_type": "stream",
     "text": [
      "Epoch 130, Loss 0.0191\n",
      "Training Accuracy: 0.9794, Testing Accuracy: 0.9783\n",
      "\n"
     ]
    },
    {
     "name": "stdout",
     "output_type": "stream",
     "text": [
      "Epoch 140, Loss 0.0185\n",
      "Training Accuracy: 0.9798, Testing Accuracy: 0.9788\n",
      "\n"
     ]
    },
    {
     "name": "stdout",
     "output_type": "stream",
     "text": [
      "Epoch 150, Loss 0.0179\n",
      "Training Accuracy: 0.9801, Testing Accuracy: 0.9783\n",
      "\n"
     ]
    },
    {
     "name": "stdout",
     "output_type": "stream",
     "text": [
      "Epoch 160, Loss 0.0174\n",
      "Training Accuracy: 0.9809, Testing Accuracy: 0.9783\n",
      "\n"
     ]
    },
    {
     "name": "stdout",
     "output_type": "stream",
     "text": [
      "Epoch 170, Loss 0.0169\n",
      "Training Accuracy: 0.9813, Testing Accuracy: 0.9783\n",
      "\n"
     ]
    },
    {
     "name": "stdout",
     "output_type": "stream",
     "text": [
      "Epoch 180, Loss 0.0164\n",
      "Training Accuracy: 0.9816, Testing Accuracy: 0.9783\n",
      "\n"
     ]
    },
    {
     "name": "stdout",
     "output_type": "stream",
     "text": [
      "Epoch 190, Loss 0.016\n",
      "Training Accuracy: 0.9821, Testing Accuracy: 0.9783\n",
      "\n"
     ]
    },
    {
     "name": "stdout",
     "output_type": "stream",
     "text": [
      "Epoch 200, Loss 0.0155\n",
      "Training Accuracy: 0.9825, Testing Accuracy: 0.9783\n",
      "\n"
     ]
    },
    {
     "name": "stdout",
     "output_type": "stream",
     "text": [
      "Epoch 210, Loss 0.0151\n",
      "Training Accuracy: 0.9832, Testing Accuracy: 0.9783\n",
      "\n"
     ]
    },
    {
     "name": "stdout",
     "output_type": "stream",
     "text": [
      "Epoch 220, Loss 0.0147\n",
      "Training Accuracy: 0.9836, Testing Accuracy: 0.9788\n",
      "\n"
     ]
    },
    {
     "name": "stdout",
     "output_type": "stream",
     "text": [
      "Epoch 230, Loss 0.0143\n",
      "Training Accuracy: 0.9841, Testing Accuracy: 0.9798\n",
      "\n"
     ]
    },
    {
     "name": "stdout",
     "output_type": "stream",
     "text": [
      "Epoch 240, Loss 0.014\n",
      "Training Accuracy: 0.9847, Testing Accuracy: 0.9808\n",
      "\n"
     ]
    },
    {
     "data": {
      "text/plain": [
       "0.007111633428296361"
      ]
     },
     "execution_count": 22,
     "metadata": {},
     "output_type": "execute_result"
    }
   ],
   "source": [
    "nn_learner.train_loop(dl)"
   ]
  },
  {
   "cell_type": "code",
   "execution_count": 23,
   "id": "e0163366",
   "metadata": {
    "execution": {
     "iopub.execute_input": "2022-01-18T10:10:55.246347Z",
     "iopub.status.busy": "2022-01-18T10:10:55.245834Z",
     "iopub.status.idle": "2022-01-18T10:11:08.920193Z",
     "shell.execute_reply": "2022-01-18T10:11:08.920924Z"
    },
    "papermill": {
     "duration": 13.71352,
     "end_time": "2022-01-18T10:11:08.921094",
     "exception": false,
     "start_time": "2022-01-18T10:10:55.207574",
     "status": "completed"
    },
    "tags": []
   },
   "outputs": [
    {
     "name": "stdout",
     "output_type": "stream",
     "text": [
      "Epoch 0, Loss 0.2498\n",
      "Training Accuracy: 0.6403, Testing Accuracy: 0.6673\n",
      "\n"
     ]
    },
    {
     "name": "stdout",
     "output_type": "stream",
     "text": [
      "Epoch 10, Loss 0.1054\n",
      "Training Accuracy: 0.9059, Testing Accuracy: 0.9163\n",
      "\n"
     ]
    },
    {
     "name": "stdout",
     "output_type": "stream",
     "text": [
      "Epoch 20, Loss 0.0802\n",
      "Training Accuracy: 0.9267, Testing Accuracy: 0.9380\n",
      "\n"
     ]
    },
    {
     "name": "stdout",
     "output_type": "stream",
     "text": [
      "Epoch 30, Loss 0.0686\n",
      "Training Accuracy: 0.9365, Testing Accuracy: 0.9471\n",
      "\n"
     ]
    },
    {
     "name": "stdout",
     "output_type": "stream",
     "text": [
      "Epoch 40, Loss 0.0618\n",
      "Training Accuracy: 0.9422, Testing Accuracy: 0.9511\n",
      "\n"
     ]
    },
    {
     "name": "stdout",
     "output_type": "stream",
     "text": [
      "Epoch 50, Loss 0.0571\n",
      "Training Accuracy: 0.9458, Testing Accuracy: 0.9536\n",
      "\n"
     ]
    },
    {
     "name": "stdout",
     "output_type": "stream",
     "text": [
      "Epoch 60, Loss 0.0537\n",
      "Training Accuracy: 0.9478, Testing Accuracy: 0.9551\n",
      "\n"
     ]
    },
    {
     "name": "stdout",
     "output_type": "stream",
     "text": [
      "Epoch 70, Loss 0.0511\n",
      "Training Accuracy: 0.9497, Testing Accuracy: 0.9582\n",
      "\n"
     ]
    },
    {
     "name": "stdout",
     "output_type": "stream",
     "text": [
      "Epoch 80, Loss 0.049\n",
      "Training Accuracy: 0.9512, Testing Accuracy: 0.9602\n",
      "\n"
     ]
    },
    {
     "name": "stdout",
     "output_type": "stream",
     "text": [
      "Epoch 90, Loss 0.0473\n",
      "Training Accuracy: 0.9528, Testing Accuracy: 0.9622\n",
      "\n"
     ]
    },
    {
     "name": "stdout",
     "output_type": "stream",
     "text": [
      "Epoch 100, Loss 0.0459\n",
      "Training Accuracy: 0.9536, Testing Accuracy: 0.9637\n",
      "\n"
     ]
    },
    {
     "name": "stdout",
     "output_type": "stream",
     "text": [
      "Epoch 110, Loss 0.0447\n",
      "Training Accuracy: 0.9548, Testing Accuracy: 0.9642\n",
      "\n"
     ]
    },
    {
     "name": "stdout",
     "output_type": "stream",
     "text": [
      "Epoch 120, Loss 0.0436\n",
      "Training Accuracy: 0.9557, Testing Accuracy: 0.9647\n",
      "\n"
     ]
    },
    {
     "name": "stdout",
     "output_type": "stream",
     "text": [
      "Epoch 130, Loss 0.0427\n",
      "Training Accuracy: 0.9559, Testing Accuracy: 0.9657\n",
      "\n"
     ]
    },
    {
     "name": "stdout",
     "output_type": "stream",
     "text": [
      "Epoch 140, Loss 0.0418\n",
      "Training Accuracy: 0.9569, Testing Accuracy: 0.9662\n",
      "\n"
     ]
    },
    {
     "name": "stdout",
     "output_type": "stream",
     "text": [
      "Epoch 150, Loss 0.0411\n",
      "Training Accuracy: 0.9580, Testing Accuracy: 0.9657\n",
      "\n"
     ]
    },
    {
     "name": "stdout",
     "output_type": "stream",
     "text": [
      "Epoch 160, Loss 0.0404\n",
      "Training Accuracy: 0.9585, Testing Accuracy: 0.9667\n",
      "\n"
     ]
    },
    {
     "name": "stdout",
     "output_type": "stream",
     "text": [
      "Epoch 170, Loss 0.0398\n",
      "Training Accuracy: 0.9589, Testing Accuracy: 0.9667\n",
      "\n"
     ]
    },
    {
     "name": "stdout",
     "output_type": "stream",
     "text": [
      "Epoch 180, Loss 0.0393\n",
      "Training Accuracy: 0.9596, Testing Accuracy: 0.9677\n",
      "\n"
     ]
    },
    {
     "name": "stdout",
     "output_type": "stream",
     "text": [
      "Epoch 190, Loss 0.0388\n",
      "Training Accuracy: 0.9599, Testing Accuracy: 0.9677\n",
      "\n"
     ]
    },
    {
     "name": "stdout",
     "output_type": "stream",
     "text": [
      "Epoch 200, Loss 0.0383\n",
      "Training Accuracy: 0.9599, Testing Accuracy: 0.9677\n",
      "\n"
     ]
    },
    {
     "name": "stdout",
     "output_type": "stream",
     "text": [
      "Epoch 210, Loss 0.0378\n",
      "Training Accuracy: 0.9601, Testing Accuracy: 0.9682\n",
      "\n"
     ]
    },
    {
     "name": "stdout",
     "output_type": "stream",
     "text": [
      "Epoch 220, Loss 0.0374\n",
      "Training Accuracy: 0.9607, Testing Accuracy: 0.9682\n",
      "\n"
     ]
    },
    {
     "name": "stdout",
     "output_type": "stream",
     "text": [
      "Epoch 230, Loss 0.037\n",
      "Training Accuracy: 0.9609, Testing Accuracy: 0.9688\n",
      "\n"
     ]
    },
    {
     "name": "stdout",
     "output_type": "stream",
     "text": [
      "Epoch 240, Loss 0.0367\n",
      "Training Accuracy: 0.9609, Testing Accuracy: 0.9688\n",
      "\n"
     ]
    },
    {
     "data": {
      "text/plain": [
       "0.05144212001816851"
      ]
     },
     "execution_count": 23,
     "metadata": {},
     "output_type": "execute_result"
    }
   ],
   "source": [
    "lr_learner.train_loop(dl)"
   ]
  },
  {
   "cell_type": "code",
   "execution_count": 24,
   "id": "ca410940",
   "metadata": {
    "execution": {
     "iopub.execute_input": "2022-01-18T10:11:09.020379Z",
     "iopub.status.busy": "2022-01-18T10:11:09.019817Z",
     "iopub.status.idle": "2022-01-18T10:11:09.245535Z",
     "shell.execute_reply": "2022-01-18T10:11:09.245097Z"
    },
    "papermill": {
     "duration": 0.282585,
     "end_time": "2022-01-18T10:11:09.245659",
     "exception": false,
     "start_time": "2022-01-18T10:11:08.963074",
     "status": "completed"
    },
    "tags": []
   },
   "outputs": [
    {
     "data": {
      "text/plain": [
       "<matplotlib.legend.Legend at 0x7f4c87c03c18>"
      ]
     },
     "execution_count": 24,
     "metadata": {},
     "output_type": "execute_result"
    },
    {
     "data": {
      "image/png": "[encoded data removed]",
      "text/plain": [
       "<Figure size 1080x720 with 1 Axes>"
      ]
     },
     "metadata": {
      "needs_background": "light"
     },
     "output_type": "display_data"
    }
   ],
   "source": [
    "#comparing the results of NN and LR\n",
    "plt.figure(figsize=(15,10))\n",
    "\n",
    "# Neural Network plots\n",
    "plt.plot(acc_nn.accuracies, 'r-', label = \"Training Accuracies - NN\")\n",
    "plt.plot(acc_nn.test_accuracies, 'g-', label = \"Testing Accuracies - NN\")\n",
    "\n",
    "# Logistic Regression plots\n",
    "plt.plot(acc_lr.accuracies, 'k-', label = \"Training Accuracies - LR\")\n",
    "plt.plot(acc_lr.test_accuracies, 'b-', label = \"Testing Accuracies - LR\")\n",
    "plt.legend()"
   ]
  },
  {
   "cell_type": "markdown",
   "id": "80dfb35c",
   "metadata": {
    "papermill": {
     "duration": 0.042521,
     "end_time": "2022-01-18T10:11:09.330998",
     "exception": false,
     "start_time": "2022-01-18T10:11:09.288477",
     "status": "completed"
    },
    "tags": []
   },
   "source": [
    "#### Plotting the outputs of this layer of the NN.\n"
   ]
  },
  {
   "cell_type": "code",
   "execution_count": 25,
   "id": "45eb2ff5",
   "metadata": {
    "execution": {
     "iopub.execute_input": "2022-01-18T10:11:09.423310Z",
     "iopub.status.busy": "2022-01-18T10:11:09.421671Z",
     "iopub.status.idle": "2022-01-18T10:11:09.443225Z",
     "shell.execute_reply": "2022-01-18T10:11:09.443952Z"
    },
    "papermill": {
     "duration": 0.070583,
     "end_time": "2022-01-18T10:11:09.444093",
     "exception": false,
     "start_time": "2022-01-18T10:11:09.373510",
     "status": "completed"
    },
    "tags": []
   },
   "outputs": [],
   "source": [
    "new_model = Model(layers[:-2])\n",
    "testing_plot = new_model(testing_data_x)"
   ]
  },
  {
   "cell_type": "code",
   "execution_count": 26,
   "id": "4c0a5485",
   "metadata": {
    "execution": {
     "iopub.execute_input": "2022-01-18T10:11:09.543936Z",
     "iopub.status.busy": "2022-01-18T10:11:09.540244Z",
     "iopub.status.idle": "2022-01-18T10:11:09.723974Z",
     "shell.execute_reply": "2022-01-18T10:11:09.723539Z"
    },
    "papermill": {
     "duration": 0.236842,
     "end_time": "2022-01-18T10:11:09.724097",
     "exception": false,
     "start_time": "2022-01-18T10:11:09.487255",
     "status": "completed"
    },
    "tags": []
   },
   "outputs": [
    {
     "data": {
      "text/plain": [
       "Text(0.5, 1.0, 'Outputs')"
      ]
     },
     "execution_count": 26,
     "metadata": {},
     "output_type": "execute_result"
    },
    {
     "data": {
      "image/png": "[encoded data removed]",
      "text/plain": [
       "<Figure size 576x504 with 1 Axes>"
      ]
     },
     "metadata": {
      "needs_background": "light"
     },
     "output_type": "display_data"
    }
   ],
   "source": [
    "# Plotting the scatter plot of points and color coding by class\n",
    "plt.figure(figsize=(8,7))\n",
    "plt.scatter(testing_plot[:,0], testing_plot[:,1], alpha = 0.1, c = y_test.ravel());\n",
    "plt.title('Outputs')"
   ]
  },
  {
   "cell_type": "markdown",
   "id": "a74fcf8f",
   "metadata": {
    "papermill": {
     "duration": 0.044301,
     "end_time": "2022-01-18T10:11:09.813422",
     "exception": false,
     "start_time": "2022-01-18T10:11:09.769121",
     "status": "completed"
    },
    "tags": []
   },
   "source": [
    "Probability contours"
   ]
  },
  {
   "cell_type": "code",
   "execution_count": 27,
   "id": "d0afc8e3",
   "metadata": {
    "execution": {
     "iopub.execute_input": "2022-01-18T10:11:09.909499Z",
     "iopub.status.busy": "2022-01-18T10:11:09.908058Z",
     "iopub.status.idle": "2022-01-18T10:11:09.918880Z",
     "shell.execute_reply": "2022-01-18T10:11:09.918455Z"
    },
    "papermill": {
     "duration": 0.06106,
     "end_time": "2022-01-18T10:11:09.918999",
     "exception": false,
     "start_time": "2022-01-18T10:11:09.857939",
     "status": "completed"
    },
    "tags": []
   },
   "outputs": [],
   "source": [
    "model_prob = Model(layers[-2:]) "
   ]
  },
  {
   "cell_type": "code",
   "execution_count": 28,
   "id": "9b96e238",
   "metadata": {
    "execution": {
     "iopub.execute_input": "2022-01-18T10:11:10.027429Z",
     "iopub.status.busy": "2022-01-18T10:11:10.026882Z",
     "iopub.status.idle": "2022-01-18T10:11:10.037842Z",
     "shell.execute_reply": "2022-01-18T10:11:10.037105Z"
    },
    "papermill": {
     "duration": 0.065458,
     "end_time": "2022-01-18T10:11:10.037959",
     "exception": false,
     "start_time": "2022-01-18T10:11:09.972501",
     "status": "completed"
    },
    "tags": []
   },
   "outputs": [],
   "source": [
    "#creating the x and y ranges according to the above generated plot.\n",
    "x_range = np.linspace(-4, 1, 100) \n",
    "y_range = np.linspace(-6, 6, 100) \n",
    "x_grid, y_grid = np.meshgrid(x_range, y_range) # x_grid and y_grig are of size 100 X 100\n",
    "\n",
    "# converting x_grid and y_grid to continuous arrays\n",
    "x_gridflat = np.ravel(x_grid)\n",
    "y_gridflat = np.ravel(y_grid)\n",
    "\n",
    "# The last layer of the current model takes two columns as input. Hence transpose of np.vstack() is required.\n",
    "X = np.vstack((x_gridflat, y_gridflat)).T\n",
    "\n",
    "prob_contour = model_prob(X).reshape(100,100) "
   ]
  },
  {
   "cell_type": "code",
   "execution_count": 29,
   "id": "da72499a",
   "metadata": {
    "execution": {
     "iopub.execute_input": "2022-01-18T10:11:10.139225Z",
     "iopub.status.busy": "2022-01-18T10:11:10.138690Z",
     "iopub.status.idle": "2022-01-18T10:11:10.363037Z",
     "shell.execute_reply": "2022-01-18T10:11:10.362601Z"
    },
    "papermill": {
     "duration": 0.279599,
     "end_time": "2022-01-18T10:11:10.363158",
     "exception": false,
     "start_time": "2022-01-18T10:11:10.083559",
     "status": "completed"
    },
    "tags": []
   },
   "outputs": [
    {
     "data": {
      "image/png": "[encoded data removed]",
      "text/plain": [
       "<Figure size 720x648 with 1 Axes>"
      ]
     },
     "metadata": {
      "needs_background": "light"
     },
     "output_type": "display_data"
    }
   ],
   "source": [
    "plt.figure(figsize=(10,9))\n",
    "plt.scatter(testing_plot[:,0], testing_plot[:,1], alpha = 0.1, c = y_test.ravel())\n",
    "contours = plt.contour(x_grid,y_grid,prob_contour)\n",
    "plt.title('Probability Contours')\n",
    "plt.clabel(contours, inline = True );"
   ]
  },
  {
   "cell_type": "code",
   "execution_count": null,
   "id": "e81b4ac7",
   "metadata": {
    "papermill": {
     "duration": 0.06167,
     "end_time": "2022-01-18T10:11:10.519396",
     "exception": false,
     "start_time": "2022-01-18T10:11:10.457726",
     "status": "completed"
    },
    "tags": []
   },
   "outputs": [],
   "source": []
  }
 ],
 "metadata": {
  "kernelspec": {
   "display_name": "Python 3",
   "language": "python",
   "name": "python3"
  },
  "language_info": {
   "codemirror_mode": {
    "name": "ipython",
    "version": 3
   },
   "file_extension": ".py",
   "mimetype": "text/x-python",
   "name": "python",
   "nbconvert_exporter": "python",
   "pygments_lexer": "ipython3",
   "version": "3.6.15"
  },
  "papermill": {
   "default_parameters": {},
   "duration": 99.379327,
   "end_time": "2022-01-18T10:11:10.999634",
   "environment_variables": {},
   "exception": null,
   "input_path": "2020-08-11-part2.ipynb",
   "output_path": "2020-08-11-part2.ipynb",
   "parameters": {},
   "start_time": "2022-01-18T10:09:31.620307",
   "version": "2.3.3"
  }
 },
 "nbformat": 4,
 "nbformat_minor": 5
}