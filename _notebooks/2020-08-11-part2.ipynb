{
 "cells": [
  {
   "cell_type": "markdown",
   "id": "98380cd3",
   "metadata": {
    "papermill": {
     "duration": 0.039706,
     "end_time": "2021-12-12T10:07:32.371642",
     "exception": false,
     "start_time": "2021-12-12T10:07:32.331936",
     "status": "completed"
    },
    "tags": []
   },
   "source": [
    "# Distinguish Your Own Digits (DYOD)"
   ]
  },
  {
   "cell_type": "markdown",
   "id": "ef31240d",
   "metadata": {
    "papermill": {
     "duration": 0.025831,
     "end_time": "2021-12-12T10:07:32.424806",
     "exception": false,
     "start_time": "2021-12-12T10:07:32.398975",
     "status": "completed"
    },
    "tags": []
   },
   "source": [
    "You are going to write a classifier that distinguishes between the number 3 and number 8."
   ]
  },
  {
   "cell_type": "code",
   "execution_count": 1,
   "id": "b15c8646",
   "metadata": {
    "execution": {
     "iopub.execute_input": "2021-12-12T10:07:32.491220Z",
     "iopub.status.busy": "2021-12-12T10:07:32.490369Z",
     "iopub.status.idle": "2021-12-12T10:07:32.501731Z",
     "shell.execute_reply": "2021-12-12T10:07:32.502217Z"
    },
    "papermill": {
     "duration": 0.051125,
     "end_time": "2021-12-12T10:07:32.502365",
     "exception": false,
     "start_time": "2021-12-12T10:07:32.451240",
     "status": "completed"
    },
    "tags": []
   },
   "outputs": [],
   "source": [
    "%load_ext autoreload\n",
    "%autoreload 2"
   ]
  },
  {
   "cell_type": "code",
   "execution_count": 2,
   "id": "22ef38dc",
   "metadata": {
    "execution": {
     "iopub.execute_input": "2021-12-12T10:07:32.568739Z",
     "iopub.status.busy": "2021-12-12T10:07:32.567917Z",
     "iopub.status.idle": "2021-12-12T10:07:33.247090Z",
     "shell.execute_reply": "2021-12-12T10:07:33.246537Z"
    },
    "papermill": {
     "duration": 0.717371,
     "end_time": "2021-12-12T10:07:33.247247",
     "exception": false,
     "start_time": "2021-12-12T10:07:32.529876",
     "status": "completed"
    },
    "tags": []
   },
   "outputs": [],
   "source": [
    "%matplotlib inline\n",
    "import numpy as np\n",
    "import matplotlib.pyplot as plt\n",
    "import pandas as pd"
   ]
  },
  {
   "cell_type": "markdown",
   "id": "ba036198",
   "metadata": {
    "papermill": {
     "duration": 0.026061,
     "end_time": "2021-12-12T10:07:33.299556",
     "exception": false,
     "start_time": "2021-12-12T10:07:33.273495",
     "status": "completed"
    },
    "tags": []
   },
   "source": [
    "From the command line run `pip install mnist`. This is a library that will help you bring down the mnist dataset. If you run this from a notebook, you need to put  `!pip install mnist` in a cell by itself."
   ]
  },
  {
   "cell_type": "code",
   "execution_count": 3,
   "id": "bb6ad8a1",
   "metadata": {
    "execution": {
     "iopub.execute_input": "2021-12-12T10:07:33.351507Z",
     "iopub.status.busy": "2021-12-12T10:07:33.350957Z",
     "iopub.status.idle": "2021-12-12T10:07:35.074747Z",
     "shell.execute_reply": "2021-12-12T10:07:35.075205Z"
    },
    "papermill": {
     "duration": 1.752045,
     "end_time": "2021-12-12T10:07:35.075394",
     "exception": false,
     "start_time": "2021-12-12T10:07:33.323349",
     "status": "completed"
    },
    "tags": []
   },
   "outputs": [
    {
     "name": "stdout",
     "output_type": "stream",
     "text": [
      "Collecting mnist\r\n"
     ]
    },
    {
     "name": "stdout",
     "output_type": "stream",
     "text": [
      "  Downloading mnist-0.2.2-py2.py3-none-any.whl (3.5 kB)\r\n",
      "Requirement already satisfied: numpy in /opt/hostedtoolcache/Python/3.6.15/x64/lib/python3.6/site-packages (from mnist) (1.19.5)\r\n"
     ]
    },
    {
     "name": "stdout",
     "output_type": "stream",
     "text": [
      "Installing collected packages: mnist\r\n",
      "Successfully installed mnist-0.2.2\r\n"
     ]
    }
   ],
   "source": [
    "!pip install mnist"
   ]
  },
  {
   "cell_type": "markdown",
   "id": "69df9c9a",
   "metadata": {
    "papermill": {
     "duration": 0.025545,
     "end_time": "2021-12-12T10:07:35.126853",
     "exception": false,
     "start_time": "2021-12-12T10:07:35.101308",
     "status": "completed"
    },
    "tags": []
   },
   "source": [
    "## Preparing the Data"
   ]
  },
  {
   "cell_type": "code",
   "execution_count": 4,
   "id": "7f69d806",
   "metadata": {
    "execution": {
     "iopub.execute_input": "2021-12-12T10:07:35.182229Z",
     "iopub.status.busy": "2021-12-12T10:07:35.181684Z",
     "iopub.status.idle": "2021-12-12T10:07:35.194540Z",
     "shell.execute_reply": "2021-12-12T10:07:35.195056Z"
    },
    "papermill": {
     "duration": 0.043618,
     "end_time": "2021-12-12T10:07:35.195172",
     "exception": false,
     "start_time": "2021-12-12T10:07:35.151554",
     "status": "completed"
    },
    "tags": []
   },
   "outputs": [],
   "source": [
    "import mnist"
   ]
  },
  {
   "cell_type": "code",
   "execution_count": 5,
   "id": "a411e44f",
   "metadata": {
    "execution": {
     "iopub.execute_input": "2021-12-12T10:07:35.249165Z",
     "iopub.status.busy": "2021-12-12T10:07:35.248622Z",
     "iopub.status.idle": "2021-12-12T10:07:35.823735Z",
     "shell.execute_reply": "2021-12-12T10:07:35.824268Z"
    },
    "papermill": {
     "duration": 0.603836,
     "end_time": "2021-12-12T10:07:35.824766",
     "exception": false,
     "start_time": "2021-12-12T10:07:35.220930",
     "status": "completed"
    },
    "tags": []
   },
   "outputs": [],
   "source": [
    "train_images = mnist.train_images()\n",
    "train_labels = mnist.train_labels()"
   ]
  },
  {
   "cell_type": "code",
   "execution_count": 6,
   "id": "dceab3a5",
   "metadata": {
    "execution": {
     "iopub.execute_input": "2021-12-12T10:07:35.888589Z",
     "iopub.status.busy": "2021-12-12T10:07:35.887959Z",
     "iopub.status.idle": "2021-12-12T10:07:35.907293Z",
     "shell.execute_reply": "2021-12-12T10:07:35.907996Z"
    },
    "papermill": {
     "duration": 0.052189,
     "end_time": "2021-12-12T10:07:35.908137",
     "exception": false,
     "start_time": "2021-12-12T10:07:35.855948",
     "status": "completed"
    },
    "tags": []
   },
   "outputs": [
    {
     "data": {
      "text/plain": [
       "((60000, 28, 28), (60000,))"
      ]
     },
     "execution_count": 6,
     "metadata": {},
     "output_type": "execute_result"
    }
   ],
   "source": [
    "train_images.shape, train_labels.shape"
   ]
  },
  {
   "cell_type": "code",
   "execution_count": 7,
   "id": "f50dc2bb",
   "metadata": {
    "execution": {
     "iopub.execute_input": "2021-12-12T10:07:35.971124Z",
     "iopub.status.busy": "2021-12-12T10:07:35.970504Z",
     "iopub.status.idle": "2021-12-12T10:07:36.086018Z",
     "shell.execute_reply": "2021-12-12T10:07:36.085495Z"
    },
    "papermill": {
     "duration": 0.149254,
     "end_time": "2021-12-12T10:07:36.086170",
     "exception": false,
     "start_time": "2021-12-12T10:07:35.936916",
     "status": "completed"
    },
    "tags": []
   },
   "outputs": [],
   "source": [
    "test_images = mnist.test_images()\n",
    "test_labels = mnist.test_labels()"
   ]
  },
  {
   "cell_type": "code",
   "execution_count": 8,
   "id": "fc38cf1b",
   "metadata": {
    "execution": {
     "iopub.execute_input": "2021-12-12T10:07:36.151053Z",
     "iopub.status.busy": "2021-12-12T10:07:36.150466Z",
     "iopub.status.idle": "2021-12-12T10:07:36.162812Z",
     "shell.execute_reply": "2021-12-12T10:07:36.163384Z"
    },
    "papermill": {
     "duration": 0.048226,
     "end_time": "2021-12-12T10:07:36.163513",
     "exception": false,
     "start_time": "2021-12-12T10:07:36.115287",
     "status": "completed"
    },
    "tags": []
   },
   "outputs": [
    {
     "data": {
      "text/plain": [
       "((10000, 28, 28), (10000,))"
      ]
     },
     "execution_count": 8,
     "metadata": {},
     "output_type": "execute_result"
    }
   ],
   "source": [
    "test_images.shape, test_labels.shape"
   ]
  },
  {
   "cell_type": "code",
   "execution_count": 9,
   "id": "f9ed8fe0",
   "metadata": {
    "execution": {
     "iopub.execute_input": "2021-12-12T10:07:36.221925Z",
     "iopub.status.busy": "2021-12-12T10:07:36.221259Z",
     "iopub.status.idle": "2021-12-12T10:07:36.403401Z",
     "shell.execute_reply": "2021-12-12T10:07:36.403869Z"
    },
    "papermill": {
     "duration": 0.212961,
     "end_time": "2021-12-12T10:07:36.404168",
     "exception": false,
     "start_time": "2021-12-12T10:07:36.191207",
     "status": "completed"
    },
    "tags": []
   },
   "outputs": [
    {
     "name": "stdout",
     "output_type": "stream",
     "text": [
      "2\n"
     ]
    },
    {
     "data": {
      "text/plain": [
       "<matplotlib.image.AxesImage at 0x7f173f0934a8>"
      ]
     },
     "execution_count": 9,
     "metadata": {},
     "output_type": "execute_result"
    },
    {
     "data": {
      "image/png": "[encoded data removed]",
      "text/plain": [
       "<Figure size 432x288 with 1 Axes>"
      ]
     },
     "metadata": {
      "needs_background": "light"
     },
     "output_type": "display_data"
    }
   ],
   "source": [
    "image_index = 7776 # You may select anything up to 60,000\n",
    "print(train_labels[image_index]) \n",
    "plt.imshow(train_images[image_index], cmap='Greys')"
   ]
  },
  {
   "cell_type": "markdown",
   "id": "a8d2388d",
   "metadata": {
    "papermill": {
     "duration": 0.029239,
     "end_time": "2021-12-12T10:07:36.463368",
     "exception": false,
     "start_time": "2021-12-12T10:07:36.434129",
     "status": "completed"
    },
    "tags": []
   },
   "source": [
    "## Filter data to get 3 and 8 out"
   ]
  },
  {
   "cell_type": "code",
   "execution_count": 10,
   "id": "776f7fc7",
   "metadata": {
    "execution": {
     "iopub.execute_input": "2021-12-12T10:07:36.527033Z",
     "iopub.status.busy": "2021-12-12T10:07:36.526458Z",
     "iopub.status.idle": "2021-12-12T10:07:36.544080Z",
     "shell.execute_reply": "2021-12-12T10:07:36.543619Z"
    },
    "papermill": {
     "duration": 0.05232,
     "end_time": "2021-12-12T10:07:36.544204",
     "exception": false,
     "start_time": "2021-12-12T10:07:36.491884",
     "status": "completed"
    },
    "tags": []
   },
   "outputs": [],
   "source": [
    "train_filter = np.where((train_labels == 3 ) | (train_labels == 8))\n",
    "test_filter = np.where((test_labels == 3) | (test_labels == 8))\n",
    "X_train, y_train = train_images[train_filter], train_labels[train_filter]\n",
    "X_test, y_test = test_images[test_filter], test_labels[test_filter]"
   ]
  },
  {
   "cell_type": "markdown",
   "id": "948f0b7e",
   "metadata": {
    "papermill": {
     "duration": 0.030055,
     "end_time": "2021-12-12T10:07:36.603385",
     "exception": false,
     "start_time": "2021-12-12T10:07:36.573330",
     "status": "completed"
    },
    "tags": []
   },
   "source": [
    "We normalize the pizel values in the 0 to 1 range"
   ]
  },
  {
   "cell_type": "code",
   "execution_count": 11,
   "id": "ee4c2166",
   "metadata": {
    "execution": {
     "iopub.execute_input": "2021-12-12T10:07:36.666543Z",
     "iopub.status.busy": "2021-12-12T10:07:36.665975Z",
     "iopub.status.idle": "2021-12-12T10:07:36.726427Z",
     "shell.execute_reply": "2021-12-12T10:07:36.726882Z"
    },
    "papermill": {
     "duration": 0.094921,
     "end_time": "2021-12-12T10:07:36.727071",
     "exception": false,
     "start_time": "2021-12-12T10:07:36.632150",
     "status": "completed"
    },
    "tags": []
   },
   "outputs": [],
   "source": [
    "X_train = X_train/255.\n",
    "X_test = X_test/255."
   ]
  },
  {
   "cell_type": "markdown",
   "id": "ddcf4fab",
   "metadata": {
    "papermill": {
     "duration": 0.030381,
     "end_time": "2021-12-12T10:07:36.787788",
     "exception": false,
     "start_time": "2021-12-12T10:07:36.757407",
     "status": "completed"
    },
    "tags": []
   },
   "source": [
    "And setup the labels as 1 (when the digit is 3) and 0 (when the digit is 8)"
   ]
  },
  {
   "cell_type": "code",
   "execution_count": 12,
   "id": "7dc908f2",
   "metadata": {
    "execution": {
     "iopub.execute_input": "2021-12-12T10:07:36.847478Z",
     "iopub.status.busy": "2021-12-12T10:07:36.846910Z",
     "iopub.status.idle": "2021-12-12T10:07:36.859264Z",
     "shell.execute_reply": "2021-12-12T10:07:36.859784Z"
    },
    "papermill": {
     "duration": 0.044376,
     "end_time": "2021-12-12T10:07:36.859909",
     "exception": false,
     "start_time": "2021-12-12T10:07:36.815533",
     "status": "completed"
    },
    "tags": []
   },
   "outputs": [],
   "source": [
    "y_train = 1*(y_train==3)\n",
    "y_test = 1*(y_test==3)"
   ]
  },
  {
   "cell_type": "code",
   "execution_count": 13,
   "id": "01e4e969",
   "metadata": {
    "execution": {
     "iopub.execute_input": "2021-12-12T10:07:36.918264Z",
     "iopub.status.busy": "2021-12-12T10:07:36.917734Z",
     "iopub.status.idle": "2021-12-12T10:07:36.930613Z",
     "shell.execute_reply": "2021-12-12T10:07:36.930155Z"
    },
    "papermill": {
     "duration": 0.043235,
     "end_time": "2021-12-12T10:07:36.930723",
     "exception": false,
     "start_time": "2021-12-12T10:07:36.887488",
     "status": "completed"
    },
    "tags": []
   },
   "outputs": [
    {
     "data": {
      "text/plain": [
       "((11982, 28, 28), (1984, 28, 28))"
      ]
     },
     "execution_count": 13,
     "metadata": {},
     "output_type": "execute_result"
    }
   ],
   "source": [
    "X_train.shape, X_test.shape"
   ]
  },
  {
   "cell_type": "markdown",
   "id": "5ccf3f85",
   "metadata": {
    "papermill": {
     "duration": 0.030192,
     "end_time": "2021-12-12T10:07:36.988674",
     "exception": false,
     "start_time": "2021-12-12T10:07:36.958482",
     "status": "completed"
    },
    "tags": []
   },
   "source": [
    "We reshape the data to flatten the image pixels into a set of features or co-variates:"
   ]
  },
  {
   "cell_type": "code",
   "execution_count": 14,
   "id": "5286a4a3",
   "metadata": {
    "execution": {
     "iopub.execute_input": "2021-12-12T10:07:37.053286Z",
     "iopub.status.busy": "2021-12-12T10:07:37.052608Z",
     "iopub.status.idle": "2021-12-12T10:07:37.070722Z",
     "shell.execute_reply": "2021-12-12T10:07:37.070169Z"
    },
    "papermill": {
     "duration": 0.051989,
     "end_time": "2021-12-12T10:07:37.070904",
     "exception": false,
     "start_time": "2021-12-12T10:07:37.018915",
     "status": "completed"
    },
    "tags": []
   },
   "outputs": [
    {
     "data": {
      "text/plain": [
       "((11982, 784), (1984, 784))"
      ]
     },
     "execution_count": 14,
     "metadata": {},
     "output_type": "execute_result"
    }
   ],
   "source": [
    "X_train = X_train.reshape(X_train.shape[0], -1)\n",
    "X_test = X_test.reshape(X_test.shape[0], -1)\n",
    "X_train.shape, X_test.shape"
   ]
  },
  {
   "cell_type": "code",
   "execution_count": 15,
   "id": "73c5f88a",
   "metadata": {
    "execution": {
     "iopub.execute_input": "2021-12-12T10:07:37.135323Z",
     "iopub.status.busy": "2021-12-12T10:07:37.134571Z",
     "iopub.status.idle": "2021-12-12T10:07:37.152792Z",
     "shell.execute_reply": "2021-12-12T10:07:37.153314Z"
    },
    "papermill": {
     "duration": 0.05211,
     "end_time": "2021-12-12T10:07:37.153428",
     "exception": false,
     "start_time": "2021-12-12T10:07:37.101318",
     "status": "completed"
    },
    "tags": []
   },
   "outputs": [],
   "source": [
    "#Impoting functions from 'Kudzu'\n",
    "from kudzu.model import Model\n",
    "from kudzu.train import Learner\n",
    "from kudzu.optim import GD\n",
    "from kudzu.data import Data, Sampler,Dataloader\n",
    "\n",
    "from kudzu.callbacks import AccCallback\n",
    "from kudzu.callbacks import ClfCallback\n",
    "\n",
    "from kudzu.loss import MSE\n",
    "\n",
    "from kudzu.layer import Sigmoid,Relu\n",
    "from kudzu.layer import Affine"
   ]
  },
  {
   "cell_type": "markdown",
   "id": "bc01172a",
   "metadata": {
    "papermill": {
     "duration": 0.028415,
     "end_time": "2021-12-12T10:07:37.212997",
     "exception": false,
     "start_time": "2021-12-12T10:07:37.184582",
     "status": "completed"
    },
    "tags": []
   },
   "source": [
    "### Let us create a `Config` class, to store important parameters. \n",
    "This class essentially plays the role of a dictionary."
   ]
  },
  {
   "cell_type": "code",
   "execution_count": 16,
   "id": "978281aa",
   "metadata": {
    "execution": {
     "iopub.execute_input": "2021-12-12T10:07:37.274382Z",
     "iopub.status.busy": "2021-12-12T10:07:37.273793Z",
     "iopub.status.idle": "2021-12-12T10:07:37.288748Z",
     "shell.execute_reply": "2021-12-12T10:07:37.288277Z"
    },
    "papermill": {
     "duration": 0.047275,
     "end_time": "2021-12-12T10:07:37.288859",
     "exception": false,
     "start_time": "2021-12-12T10:07:37.241584",
     "status": "completed"
    },
    "tags": []
   },
   "outputs": [],
   "source": [
    "class Config:\n",
    "    pass\n",
    "config = Config()\n",
    "config.lr = 0.001\n",
    "config.num_epochs = 250\n",
    "config.bs = 50"
   ]
  },
  {
   "cell_type": "markdown",
   "id": "1385fa59",
   "metadata": {
    "papermill": {
     "duration": 0.028073,
     "end_time": "2021-12-12T10:07:37.346665",
     "exception": false,
     "start_time": "2021-12-12T10:07:37.318592",
     "status": "completed"
    },
    "tags": []
   },
   "source": [
    "### Running Models with the Training data\n",
    "Details about the network layers:\n",
    "- A first affine layer has 784 inputs and does 100 affine transforms. These are followed by a Relu\n",
    "- A second affine layer has 100 inputs from the 100 activations of the past layer, and does 100 affine transforms. These are followed by a Relu\n",
    "- A third affine layer has 100 activations and does 2 affine transformations to create an embedding for visualization. There is no non-linearity here.\n",
    "- A final \"logistic regression\" which has an affine transform from 2 inputs to 1 output, which is squeezed through a sigmoid.\n"
   ]
  },
  {
   "cell_type": "code",
   "execution_count": 17,
   "id": "2b9c66db",
   "metadata": {
    "execution": {
     "iopub.execute_input": "2021-12-12T10:07:37.409020Z",
     "iopub.status.busy": "2021-12-12T10:07:37.408474Z",
     "iopub.status.idle": "2021-12-12T10:07:37.419817Z",
     "shell.execute_reply": "2021-12-12T10:07:37.419376Z"
    },
    "papermill": {
     "duration": 0.043431,
     "end_time": "2021-12-12T10:07:37.419925",
     "exception": false,
     "start_time": "2021-12-12T10:07:37.376494",
     "status": "completed"
    },
    "tags": []
   },
   "outputs": [],
   "source": [
    "data = Data(X_train, y_train.reshape(-1,1))\n",
    "sampler = Sampler(data, config.bs, shuffle=True)\n",
    "\n",
    "dl = Dataloader(data, sampler)\n",
    "\n",
    "opt = GD(config.lr)\n",
    "loss = MSE()"
   ]
  },
  {
   "cell_type": "code",
   "execution_count": 18,
   "id": "b275e4c2",
   "metadata": {
    "execution": {
     "iopub.execute_input": "2021-12-12T10:07:37.492300Z",
     "iopub.status.busy": "2021-12-12T10:07:37.491674Z",
     "iopub.status.idle": "2021-12-12T10:07:37.502304Z",
     "shell.execute_reply": "2021-12-12T10:07:37.502768Z"
    },
    "papermill": {
     "duration": 0.045332,
     "end_time": "2021-12-12T10:07:37.502891",
     "exception": false,
     "start_time": "2021-12-12T10:07:37.457559",
     "status": "completed"
    },
    "tags": []
   },
   "outputs": [],
   "source": [
    "training_data_x = X_train\n",
    "testing_data_x = X_test\n",
    "training_data_y = y_train.reshape(-1,1)\n",
    "testing_data_y = y_test.reshape(-1,1)"
   ]
  },
  {
   "cell_type": "code",
   "execution_count": 19,
   "id": "76951160",
   "metadata": {
    "execution": {
     "iopub.execute_input": "2021-12-12T10:07:37.563785Z",
     "iopub.status.busy": "2021-12-12T10:07:37.563115Z",
     "iopub.status.idle": "2021-12-12T10:07:37.577788Z",
     "shell.execute_reply": "2021-12-12T10:07:37.578307Z"
    },
    "papermill": {
     "duration": 0.047395,
     "end_time": "2021-12-12T10:07:37.578423",
     "exception": false,
     "start_time": "2021-12-12T10:07:37.531028",
     "status": "completed"
    },
    "tags": []
   },
   "outputs": [
    {
     "name": "stdout",
     "output_type": "stream",
     "text": [
      "xavier\n",
      "xavier\n",
      "xavier\n",
      "xavier\n",
      "xavier\n"
     ]
    }
   ],
   "source": [
    "layers = [Affine(\"first\", 784, 100), Relu(\"first\"), Affine(\"second\", 100, 100), Relu(\"second\"), Affine(\"third\", 100, 2), Affine(\"last\", 2, 1), Sigmoid(\"last\")]\n",
    "model_nn = Model(layers)\n",
    "model_lr = Model([Affine(\"logits\", 784, 1), Sigmoid(\"sigmoid\")])"
   ]
  },
  {
   "cell_type": "code",
   "execution_count": 20,
   "id": "6eede77a",
   "metadata": {
    "execution": {
     "iopub.execute_input": "2021-12-12T10:07:37.639340Z",
     "iopub.status.busy": "2021-12-12T10:07:37.638669Z",
     "iopub.status.idle": "2021-12-12T10:07:37.650208Z",
     "shell.execute_reply": "2021-12-12T10:07:37.650759Z"
    },
    "papermill": {
     "duration": 0.04369,
     "end_time": "2021-12-12T10:07:37.650877",
     "exception": false,
     "start_time": "2021-12-12T10:07:37.607187",
     "status": "completed"
    },
    "tags": []
   },
   "outputs": [],
   "source": [
    "nn_learner = Learner(loss, model_nn, opt, config.num_epochs)\n",
    "acc_nn = ClfCallback(nn_learner, config.bs, training_data_x , testing_data_x, training_data_y, testing_data_y)\n",
    "nn_learner.set_callbacks([acc_nn])"
   ]
  },
  {
   "cell_type": "code",
   "execution_count": 21,
   "id": "877b6cc7",
   "metadata": {
    "execution": {
     "iopub.execute_input": "2021-12-12T10:07:37.712484Z",
     "iopub.status.busy": "2021-12-12T10:07:37.711835Z",
     "iopub.status.idle": "2021-12-12T10:07:37.722440Z",
     "shell.execute_reply": "2021-12-12T10:07:37.723007Z"
    },
    "papermill": {
     "duration": 0.044019,
     "end_time": "2021-12-12T10:07:37.723123",
     "exception": false,
     "start_time": "2021-12-12T10:07:37.679104",
     "status": "completed"
    },
    "tags": []
   },
   "outputs": [],
   "source": [
    "lr_learner = Learner(loss, model_lr, opt, config.num_epochs)\n",
    "acc_lr = ClfCallback(lr_learner, config.bs, training_data_x , testing_data_x, training_data_y, testing_data_y)\n",
    "lr_learner.set_callbacks([acc_lr])"
   ]
  },
  {
   "cell_type": "code",
   "execution_count": 22,
   "id": "d9b133c3",
   "metadata": {
    "execution": {
     "iopub.execute_input": "2021-12-12T10:07:37.795271Z",
     "iopub.status.busy": "2021-12-12T10:07:37.794671Z",
     "iopub.status.idle": "2021-12-12T10:09:51.455653Z",
     "shell.execute_reply": "2021-12-12T10:09:51.456829Z"
    },
    "papermill": {
     "duration": 133.704182,
     "end_time": "2021-12-12T10:09:51.457006",
     "exception": false,
     "start_time": "2021-12-12T10:07:37.752824",
     "status": "completed"
    },
    "tags": []
   },
   "outputs": [
    {
     "name": "stdout",
     "output_type": "stream",
     "text": [
      "Epoch 0, Loss 0.2523\n",
      "Training Accuracy: 0.4888, Testing Accuracy: 0.4894\n",
      "\n"
     ]
    },
    {
     "name": "stdout",
     "output_type": "stream",
     "text": [
      "Epoch 10, Loss 0.2051\n",
      "Training Accuracy: 0.8582, Testing Accuracy: 0.8795\n",
      "\n"
     ]
    },
    {
     "name": "stdout",
     "output_type": "stream",
     "text": [
      "Epoch 20, Loss 0.1072\n",
      "Training Accuracy: 0.9049, Testing Accuracy: 0.9178\n",
      "\n"
     ]
    },
    {
     "name": "stdout",
     "output_type": "stream",
     "text": [
      "Epoch 30, Loss 0.0656\n",
      "Training Accuracy: 0.9327, Testing Accuracy: 0.9430\n",
      "\n"
     ]
    },
    {
     "name": "stdout",
     "output_type": "stream",
     "text": [
      "Epoch 40, Loss 0.0504\n",
      "Training Accuracy: 0.9458, Testing Accuracy: 0.9546\n",
      "\n"
     ]
    },
    {
     "name": "stdout",
     "output_type": "stream",
     "text": [
      "Epoch 50, Loss 0.0428\n",
      "Training Accuracy: 0.9520, Testing Accuracy: 0.9587\n",
      "\n"
     ]
    },
    {
     "name": "stdout",
     "output_type": "stream",
     "text": [
      "Epoch 60, Loss 0.0383\n",
      "Training Accuracy: 0.9573, Testing Accuracy: 0.9622\n",
      "\n"
     ]
    },
    {
     "name": "stdout",
     "output_type": "stream",
     "text": [
      "Epoch 70, Loss 0.0352\n",
      "Training Accuracy: 0.9606, Testing Accuracy: 0.9637\n",
      "\n"
     ]
    },
    {
     "name": "stdout",
     "output_type": "stream",
     "text": [
      "Epoch 80, Loss 0.033\n",
      "Training Accuracy: 0.9619, Testing Accuracy: 0.9657\n",
      "\n"
     ]
    },
    {
     "name": "stdout",
     "output_type": "stream",
     "text": [
      "Epoch 90, Loss 0.0312\n",
      "Training Accuracy: 0.9635, Testing Accuracy: 0.9662\n",
      "\n"
     ]
    },
    {
     "name": "stdout",
     "output_type": "stream",
     "text": [
      "Epoch 100, Loss 0.0298\n",
      "Training Accuracy: 0.9649, Testing Accuracy: 0.9662\n",
      "\n"
     ]
    },
    {
     "name": "stdout",
     "output_type": "stream",
     "text": [
      "Epoch 110, Loss 0.0286\n",
      "Training Accuracy: 0.9666, Testing Accuracy: 0.9667\n",
      "\n"
     ]
    },
    {
     "name": "stdout",
     "output_type": "stream",
     "text": [
      "Epoch 120, Loss 0.0276\n",
      "Training Accuracy: 0.9676, Testing Accuracy: 0.9672\n",
      "\n"
     ]
    },
    {
     "name": "stdout",
     "output_type": "stream",
     "text": [
      "Epoch 130, Loss 0.0266\n",
      "Training Accuracy: 0.9682, Testing Accuracy: 0.9677\n",
      "\n"
     ]
    },
    {
     "name": "stdout",
     "output_type": "stream",
     "text": [
      "Epoch 140, Loss 0.0258\n",
      "Training Accuracy: 0.9694, Testing Accuracy: 0.9688\n",
      "\n"
     ]
    },
    {
     "name": "stdout",
     "output_type": "stream",
     "text": [
      "Epoch 150, Loss 0.0251\n",
      "Training Accuracy: 0.9700, Testing Accuracy: 0.9698\n",
      "\n"
     ]
    },
    {
     "name": "stdout",
     "output_type": "stream",
     "text": [
      "Epoch 160, Loss 0.0244\n",
      "Training Accuracy: 0.9710, Testing Accuracy: 0.9708\n",
      "\n"
     ]
    },
    {
     "name": "stdout",
     "output_type": "stream",
     "text": [
      "Epoch 170, Loss 0.0238\n",
      "Training Accuracy: 0.9720, Testing Accuracy: 0.9718\n",
      "\n"
     ]
    },
    {
     "name": "stdout",
     "output_type": "stream",
     "text": [
      "Epoch 180, Loss 0.0232\n",
      "Training Accuracy: 0.9727, Testing Accuracy: 0.9713\n",
      "\n"
     ]
    },
    {
     "name": "stdout",
     "output_type": "stream",
     "text": [
      "Epoch 190, Loss 0.0226\n",
      "Training Accuracy: 0.9734, Testing Accuracy: 0.9723\n",
      "\n"
     ]
    },
    {
     "name": "stdout",
     "output_type": "stream",
     "text": [
      "Epoch 200, Loss 0.0221\n",
      "Training Accuracy: 0.9745, Testing Accuracy: 0.9723\n",
      "\n"
     ]
    },
    {
     "name": "stdout",
     "output_type": "stream",
     "text": [
      "Epoch 210, Loss 0.0216\n",
      "Training Accuracy: 0.9754, Testing Accuracy: 0.9733\n",
      "\n"
     ]
    },
    {
     "name": "stdout",
     "output_type": "stream",
     "text": [
      "Epoch 220, Loss 0.0212\n",
      "Training Accuracy: 0.9760, Testing Accuracy: 0.9728\n",
      "\n"
     ]
    },
    {
     "name": "stdout",
     "output_type": "stream",
     "text": [
      "Epoch 230, Loss 0.0207\n",
      "Training Accuracy: 0.9765, Testing Accuracy: 0.9728\n",
      "\n"
     ]
    },
    {
     "name": "stdout",
     "output_type": "stream",
     "text": [
      "Epoch 240, Loss 0.0203\n",
      "Training Accuracy: 0.9771, Testing Accuracy: 0.9733\n",
      "\n"
     ]
    },
    {
     "data": {
      "text/plain": [
       "0.03309733821176547"
      ]
     },
     "execution_count": 22,
     "metadata": {},
     "output_type": "execute_result"
    }
   ],
   "source": [
    "nn_learner.train_loop(dl)"
   ]
  },
  {
   "cell_type": "code",
   "execution_count": 23,
   "id": "e0163366",
   "metadata": {
    "execution": {
     "iopub.execute_input": "2021-12-12T10:09:51.543061Z",
     "iopub.status.busy": "2021-12-12T10:09:51.541914Z",
     "iopub.status.idle": "2021-12-12T10:10:11.815155Z",
     "shell.execute_reply": "2021-12-12T10:10:11.815962Z"
    },
    "papermill": {
     "duration": 20.320027,
     "end_time": "2021-12-12T10:10:11.816140",
     "exception": false,
     "start_time": "2021-12-12T10:09:51.496113",
     "status": "completed"
    },
    "tags": []
   },
   "outputs": [
    {
     "name": "stdout",
     "output_type": "stream",
     "text": [
      "Epoch 0, Loss 0.2265\n",
      "Training Accuracy: 0.7463, Testing Accuracy: 0.7611\n",
      "\n"
     ]
    },
    {
     "name": "stdout",
     "output_type": "stream",
     "text": [
      "Epoch 10, Loss 0.0994\n",
      "Training Accuracy: 0.9173, Testing Accuracy: 0.9274\n",
      "\n"
     ]
    },
    {
     "name": "stdout",
     "output_type": "stream",
     "text": [
      "Epoch 20, Loss 0.0772\n",
      "Training Accuracy: 0.9306, Testing Accuracy: 0.9410\n",
      "\n"
     ]
    },
    {
     "name": "stdout",
     "output_type": "stream",
     "text": [
      "Epoch 30, Loss 0.067\n",
      "Training Accuracy: 0.9379, Testing Accuracy: 0.9471\n",
      "\n"
     ]
    },
    {
     "name": "stdout",
     "output_type": "stream",
     "text": [
      "Epoch 40, Loss 0.0607\n",
      "Training Accuracy: 0.9425, Testing Accuracy: 0.9511\n",
      "\n"
     ]
    },
    {
     "name": "stdout",
     "output_type": "stream",
     "text": [
      "Epoch 50, Loss 0.0565\n",
      "Training Accuracy: 0.9456, Testing Accuracy: 0.9541\n",
      "\n"
     ]
    },
    {
     "name": "stdout",
     "output_type": "stream",
     "text": [
      "Epoch 60, Loss 0.0534\n",
      "Training Accuracy: 0.9483, Testing Accuracy: 0.9546\n",
      "\n"
     ]
    },
    {
     "name": "stdout",
     "output_type": "stream",
     "text": [
      "Epoch 70, Loss 0.0509\n",
      "Training Accuracy: 0.9497, Testing Accuracy: 0.9577\n",
      "\n"
     ]
    },
    {
     "name": "stdout",
     "output_type": "stream",
     "text": [
      "Epoch 80, Loss 0.0489\n",
      "Training Accuracy: 0.9513, Testing Accuracy: 0.9602\n",
      "\n"
     ]
    },
    {
     "name": "stdout",
     "output_type": "stream",
     "text": [
      "Epoch 90, Loss 0.0473\n",
      "Training Accuracy: 0.9523, Testing Accuracy: 0.9602\n",
      "\n"
     ]
    },
    {
     "name": "stdout",
     "output_type": "stream",
     "text": [
      "Epoch 100, Loss 0.0459\n",
      "Training Accuracy: 0.9542, Testing Accuracy: 0.9602\n",
      "\n"
     ]
    },
    {
     "name": "stdout",
     "output_type": "stream",
     "text": [
      "Epoch 110, Loss 0.0448\n",
      "Training Accuracy: 0.9549, Testing Accuracy: 0.9607\n",
      "\n"
     ]
    },
    {
     "name": "stdout",
     "output_type": "stream",
     "text": [
      "Epoch 120, Loss 0.0437\n",
      "Training Accuracy: 0.9555, Testing Accuracy: 0.9617\n",
      "\n"
     ]
    },
    {
     "name": "stdout",
     "output_type": "stream",
     "text": [
      "Epoch 130, Loss 0.0428\n",
      "Training Accuracy: 0.9564, Testing Accuracy: 0.9627\n",
      "\n"
     ]
    },
    {
     "name": "stdout",
     "output_type": "stream",
     "text": [
      "Epoch 140, Loss 0.042\n",
      "Training Accuracy: 0.9569, Testing Accuracy: 0.9637\n",
      "\n"
     ]
    },
    {
     "name": "stdout",
     "output_type": "stream",
     "text": [
      "Epoch 150, Loss 0.0413\n",
      "Training Accuracy: 0.9574, Testing Accuracy: 0.9637\n",
      "\n"
     ]
    },
    {
     "name": "stdout",
     "output_type": "stream",
     "text": [
      "Epoch 160, Loss 0.0406\n",
      "Training Accuracy: 0.9579, Testing Accuracy: 0.9637\n",
      "\n"
     ]
    },
    {
     "name": "stdout",
     "output_type": "stream",
     "text": [
      "Epoch 170, Loss 0.04\n",
      "Training Accuracy: 0.9583, Testing Accuracy: 0.9637\n",
      "\n"
     ]
    },
    {
     "name": "stdout",
     "output_type": "stream",
     "text": [
      "Epoch 180, Loss 0.0395\n",
      "Training Accuracy: 0.9586, Testing Accuracy: 0.9637\n",
      "\n"
     ]
    },
    {
     "name": "stdout",
     "output_type": "stream",
     "text": [
      "Epoch 190, Loss 0.039\n",
      "Training Accuracy: 0.9589, Testing Accuracy: 0.9637\n",
      "\n"
     ]
    },
    {
     "name": "stdout",
     "output_type": "stream",
     "text": [
      "Epoch 200, Loss 0.0385\n",
      "Training Accuracy: 0.9594, Testing Accuracy: 0.9647\n",
      "\n"
     ]
    },
    {
     "name": "stdout",
     "output_type": "stream",
     "text": [
      "Epoch 210, Loss 0.0381\n",
      "Training Accuracy: 0.9598, Testing Accuracy: 0.9647\n",
      "\n"
     ]
    },
    {
     "name": "stdout",
     "output_type": "stream",
     "text": [
      "Epoch 220, Loss 0.0376\n",
      "Training Accuracy: 0.9601, Testing Accuracy: 0.9647\n",
      "\n"
     ]
    },
    {
     "name": "stdout",
     "output_type": "stream",
     "text": [
      "Epoch 230, Loss 0.0373\n",
      "Training Accuracy: 0.9605, Testing Accuracy: 0.9652\n",
      "\n"
     ]
    },
    {
     "name": "stdout",
     "output_type": "stream",
     "text": [
      "Epoch 240, Loss 0.0369\n",
      "Training Accuracy: 0.9608, Testing Accuracy: 0.9657\n",
      "\n"
     ]
    },
    {
     "data": {
      "text/plain": [
       "0.014214726811700303"
      ]
     },
     "execution_count": 23,
     "metadata": {},
     "output_type": "execute_result"
    }
   ],
   "source": [
    "lr_learner.train_loop(dl)"
   ]
  },
  {
   "cell_type": "code",
   "execution_count": 24,
   "id": "ca410940",
   "metadata": {
    "execution": {
     "iopub.execute_input": "2021-12-12T10:10:11.917377Z",
     "iopub.status.busy": "2021-12-12T10:10:11.916849Z",
     "iopub.status.idle": "2021-12-12T10:10:12.177692Z",
     "shell.execute_reply": "2021-12-12T10:10:12.178617Z"
    },
    "papermill": {
     "duration": 0.318044,
     "end_time": "2021-12-12T10:10:12.178811",
     "exception": false,
     "start_time": "2021-12-12T10:10:11.860767",
     "status": "completed"
    },
    "tags": []
   },
   "outputs": [
    {
     "data": {
      "text/plain": [
       "<matplotlib.legend.Legend at 0x7f17324c1c18>"
      ]
     },
     "execution_count": 24,
     "metadata": {},
     "output_type": "execute_result"
    },
    {
     "data": {
      "image/png": "[encoded data removed]",
      "text/plain": [
       "<Figure size 1080x720 with 1 Axes>"
      ]
     },
     "metadata": {
      "needs_background": "light"
     },
     "output_type": "display_data"
    }
   ],
   "source": [
    "#comparing the results of NN and LR\n",
    "plt.figure(figsize=(15,10))\n",
    "\n",
    "# Neural Network plots\n",
    "plt.plot(acc_nn.accuracies, 'r-', label = \"Training Accuracies - NN\")\n",
    "plt.plot(acc_nn.test_accuracies, 'g-', label = \"Testing Accuracies - NN\")\n",
    "\n",
    "# Logistic Regression plots\n",
    "plt.plot(acc_lr.accuracies, 'k-', label = \"Training Accuracies - LR\")\n",
    "plt.plot(acc_lr.test_accuracies, 'b-', label = \"Testing Accuracies - LR\")\n",
    "plt.legend()"
   ]
  },
  {
   "cell_type": "markdown",
   "id": "80dfb35c",
   "metadata": {
    "papermill": {
     "duration": 0.043173,
     "end_time": "2021-12-12T10:10:12.265405",
     "exception": false,
     "start_time": "2021-12-12T10:10:12.222232",
     "status": "completed"
    },
    "tags": []
   },
   "source": [
    "#### Plotting the outputs of this layer of the NN.\n"
   ]
  },
  {
   "cell_type": "code",
   "execution_count": 25,
   "id": "45eb2ff5",
   "metadata": {
    "execution": {
     "iopub.execute_input": "2021-12-12T10:10:12.362624Z",
     "iopub.status.busy": "2021-12-12T10:10:12.361241Z",
     "iopub.status.idle": "2021-12-12T10:10:12.385475Z",
     "shell.execute_reply": "2021-12-12T10:10:12.386143Z"
    },
    "papermill": {
     "duration": 0.073264,
     "end_time": "2021-12-12T10:10:12.386282",
     "exception": false,
     "start_time": "2021-12-12T10:10:12.313018",
     "status": "completed"
    },
    "tags": []
   },
   "outputs": [],
   "source": [
    "new_model = Model(layers[:-2])\n",
    "testing_plot = new_model(testing_data_x)"
   ]
  },
  {
   "cell_type": "code",
   "execution_count": 26,
   "id": "4c0a5485",
   "metadata": {
    "execution": {
     "iopub.execute_input": "2021-12-12T10:10:12.490984Z",
     "iopub.status.busy": "2021-12-12T10:10:12.490239Z",
     "iopub.status.idle": "2021-12-12T10:10:12.714086Z",
     "shell.execute_reply": "2021-12-12T10:10:12.713297Z"
    },
    "papermill": {
     "duration": 0.278154,
     "end_time": "2021-12-12T10:10:12.714238",
     "exception": false,
     "start_time": "2021-12-12T10:10:12.436084",
     "status": "completed"
    },
    "tags": []
   },
   "outputs": [
    {
     "data": {
      "text/plain": [
       "Text(0.5, 1.0, 'Outputs')"
      ]
     },
     "execution_count": 26,
     "metadata": {},
     "output_type": "execute_result"
    },
    {
     "data": {
      "image/png": "[encoded data removed]",
      "text/plain": [
       "<Figure size 576x504 with 1 Axes>"
      ]
     },
     "metadata": {
      "needs_background": "light"
     },
     "output_type": "display_data"
    }
   ],
   "source": [
    "# Plotting the scatter plot of points and color coding by class\n",
    "plt.figure(figsize=(8,7))\n",
    "plt.scatter(testing_plot[:,0], testing_plot[:,1], alpha = 0.1, c = y_test.ravel());\n",
    "plt.title('Outputs')"
   ]
  },
  {
   "cell_type": "markdown",
   "id": "a74fcf8f",
   "metadata": {
    "papermill": {
     "duration": 0.043096,
     "end_time": "2021-12-12T10:10:12.801851",
     "exception": false,
     "start_time": "2021-12-12T10:10:12.758755",
     "status": "completed"
    },
    "tags": []
   },
   "source": [
    "Probability contours"
   ]
  },
  {
   "cell_type": "code",
   "execution_count": 27,
   "id": "d0afc8e3",
   "metadata": {
    "execution": {
     "iopub.execute_input": "2021-12-12T10:10:12.893216Z",
     "iopub.status.busy": "2021-12-12T10:10:12.892112Z",
     "iopub.status.idle": "2021-12-12T10:10:12.903540Z",
     "shell.execute_reply": "2021-12-12T10:10:12.903993Z"
    },
    "papermill": {
     "duration": 0.058949,
     "end_time": "2021-12-12T10:10:12.904109",
     "exception": false,
     "start_time": "2021-12-12T10:10:12.845160",
     "status": "completed"
    },
    "tags": []
   },
   "outputs": [],
   "source": [
    "model_prob = Model(layers[-2:]) "
   ]
  },
  {
   "cell_type": "code",
   "execution_count": 28,
   "id": "9b96e238",
   "metadata": {
    "execution": {
     "iopub.execute_input": "2021-12-12T10:10:13.025840Z",
     "iopub.status.busy": "2021-12-12T10:10:13.025296Z",
     "iopub.status.idle": "2021-12-12T10:10:13.034780Z",
     "shell.execute_reply": "2021-12-12T10:10:13.035427Z"
    },
    "papermill": {
     "duration": 0.088478,
     "end_time": "2021-12-12T10:10:13.035550",
     "exception": false,
     "start_time": "2021-12-12T10:10:12.947072",
     "status": "completed"
    },
    "tags": []
   },
   "outputs": [],
   "source": [
    "#creating the x and y ranges according to the above generated plot.\n",
    "x_range = np.linspace(-4, 1, 100) \n",
    "y_range = np.linspace(-6, 6, 100) \n",
    "x_grid, y_grid = np.meshgrid(x_range, y_range) # x_grid and y_grig are of size 100 X 100\n",
    "\n",
    "# converting x_grid and y_grid to continuous arrays\n",
    "x_gridflat = np.ravel(x_grid)\n",
    "y_gridflat = np.ravel(y_grid)\n",
    "\n",
    "# The last layer of the current model takes two columns as input. Hence transpose of np.vstack() is required.\n",
    "X = np.vstack((x_gridflat, y_gridflat)).T\n",
    "\n",
    "prob_contour = model_prob(X).reshape(100,100) "
   ]
  },
  {
   "cell_type": "code",
   "execution_count": 29,
   "id": "da72499a",
   "metadata": {
    "execution": {
     "iopub.execute_input": "2021-12-12T10:10:13.135057Z",
     "iopub.status.busy": "2021-12-12T10:10:13.133013Z",
     "iopub.status.idle": "2021-12-12T10:10:13.421261Z",
     "shell.execute_reply": "2021-12-12T10:10:13.421778Z"
    },
    "papermill": {
     "duration": 0.340081,
     "end_time": "2021-12-12T10:10:13.421957",
     "exception": false,
     "start_time": "2021-12-12T10:10:13.081876",
     "status": "completed"
    },
    "tags": []
   },
   "outputs": [
    {
     "data": {
      "image/png": "[encoded data removed]",
      "text/plain": [
       "<Figure size 720x648 with 1 Axes>"
      ]
     },
     "metadata": {
      "needs_background": "light"
     },
     "output_type": "display_data"
    }
   ],
   "source": [
    "plt.figure(figsize=(10,9))\n",
    "plt.scatter(testing_plot[:,0], testing_plot[:,1], alpha = 0.1, c = y_test.ravel())\n",
    "contours = plt.contour(x_grid,y_grid,prob_contour)\n",
    "plt.title('Probability Contours')\n",
    "plt.clabel(contours, inline = True );"
   ]
  },
  {
   "cell_type": "code",
   "execution_count": null,
   "id": "e81b4ac7",
   "metadata": {
    "papermill": {
     "duration": 0.049513,
     "end_time": "2021-12-12T10:10:13.530060",
     "exception": false,
     "start_time": "2021-12-12T10:10:13.480547",
     "status": "completed"
    },
    "tags": []
   },
   "outputs": [],
   "source": []
  }
 ],
 "metadata": {
  "kernelspec": {
   "display_name": "Python 3",
   "language": "python",
   "name": "python3"
  },
  "language_info": {
   "codemirror_mode": {
    "name": "ipython",
    "version": 3
   },
   "file_extension": ".py",
   "mimetype": "text/x-python",
   "name": "python",
   "nbconvert_exporter": "python",
   "pygments_lexer": "ipython3",
   "version": "3.6.15"
  },
  "papermill": {
   "default_parameters": {},
   "duration": 162.99286,
   "end_time": "2021-12-12T10:10:14.014091",
   "environment_variables": {},
   "exception": null,
   "input_path": "2020-08-11-part2.ipynb",
   "output_path": "2020-08-11-part2.ipynb",
   "parameters": {},
   "start_time": "2021-12-12T10:07:31.021231",
   "version": "2.3.3"
  }
 },
 "nbformat": 4,
 "nbformat_minor": 5
}