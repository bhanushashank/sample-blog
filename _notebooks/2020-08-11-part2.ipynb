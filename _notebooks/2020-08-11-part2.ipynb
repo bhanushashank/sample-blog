{
 "cells": [
  {
   "cell_type": "markdown",
   "id": "98380cd3",
   "metadata": {
    "papermill": {
     "duration": 0.025458,
     "end_time": "2022-02-18T10:08:57.775797",
     "exception": false,
     "start_time": "2022-02-18T10:08:57.750339",
     "status": "completed"
    },
    "tags": []
   },
   "source": [
    "# Distinguish Your Own Digits (DYOD)"
   ]
  },
  {
   "cell_type": "markdown",
   "id": "ef31240d",
   "metadata": {
    "papermill": {
     "duration": 0.022104,
     "end_time": "2022-02-18T10:08:57.819746",
     "exception": false,
     "start_time": "2022-02-18T10:08:57.797642",
     "status": "completed"
    },
    "tags": []
   },
   "source": [
    "You are going to write a classifier that distinguishes between the number 3 and number 8."
   ]
  },
  {
   "cell_type": "code",
   "execution_count": 1,
   "id": "b15c8646",
   "metadata": {
    "execution": {
     "iopub.execute_input": "2022-02-18T10:08:57.872150Z",
     "iopub.status.busy": "2022-02-18T10:08:57.871676Z",
     "iopub.status.idle": "2022-02-18T10:08:57.881177Z",
     "shell.execute_reply": "2022-02-18T10:08:57.881559Z"
    },
    "papermill": {
     "duration": 0.041085,
     "end_time": "2022-02-18T10:08:57.881694",
     "exception": false,
     "start_time": "2022-02-18T10:08:57.840609",
     "status": "completed"
    },
    "tags": []
   },
   "outputs": [],
   "source": [
    "%load_ext autoreload\n",
    "%autoreload 2"
   ]
  },
  {
   "cell_type": "code",
   "execution_count": 2,
   "id": "22ef38dc",
   "metadata": {
    "execution": {
     "iopub.execute_input": "2022-02-18T10:08:57.927746Z",
     "iopub.status.busy": "2022-02-18T10:08:57.927286Z",
     "iopub.status.idle": "2022-02-18T10:08:58.503811Z",
     "shell.execute_reply": "2022-02-18T10:08:58.503290Z"
    },
    "papermill": {
     "duration": 0.601013,
     "end_time": "2022-02-18T10:08:58.503950",
     "exception": false,
     "start_time": "2022-02-18T10:08:57.902937",
     "status": "completed"
    },
    "tags": []
   },
   "outputs": [],
   "source": [
    "%matplotlib inline\n",
    "import numpy as np\n",
    "import matplotlib.pyplot as plt\n",
    "import pandas as pd"
   ]
  },
  {
   "cell_type": "markdown",
   "id": "ba036198",
   "metadata": {
    "papermill": {
     "duration": 0.020996,
     "end_time": "2022-02-18T10:08:58.547266",
     "exception": false,
     "start_time": "2022-02-18T10:08:58.526270",
     "status": "completed"
    },
    "tags": []
   },
   "source": [
    "From the command line run `pip install mnist`. This is a library that will help you bring down the mnist dataset. If you run this from a notebook, you need to put  `!pip install mnist` in a cell by itself."
   ]
  },
  {
   "cell_type": "code",
   "execution_count": 3,
   "id": "bb6ad8a1",
   "metadata": {
    "execution": {
     "iopub.execute_input": "2022-02-18T10:08:58.612243Z",
     "iopub.status.busy": "2022-02-18T10:08:58.607799Z",
     "iopub.status.idle": "2022-02-18T10:09:00.209008Z",
     "shell.execute_reply": "2022-02-18T10:09:00.208482Z"
    },
    "papermill": {
     "duration": 1.640863,
     "end_time": "2022-02-18T10:09:00.209172",
     "exception": false,
     "start_time": "2022-02-18T10:08:58.568309",
     "status": "completed"
    },
    "tags": []
   },
   "outputs": [
    {
     "name": "stdout",
     "output_type": "stream",
     "text": [
      "Collecting mnist\r\n"
     ]
    },
    {
     "name": "stdout",
     "output_type": "stream",
     "text": [
      "  Downloading mnist-0.2.2-py2.py3-none-any.whl (3.5 kB)\r\n",
      "Requirement already satisfied: numpy in /opt/hostedtoolcache/Python/3.6.15/x64/lib/python3.6/site-packages (from mnist) (1.19.5)\r\n"
     ]
    },
    {
     "name": "stdout",
     "output_type": "stream",
     "text": [
      "Installing collected packages: mnist\r\n"
     ]
    },
    {
     "name": "stdout",
     "output_type": "stream",
     "text": [
      "Successfully installed mnist-0.2.2\r\n"
     ]
    }
   ],
   "source": [
    "!pip install mnist"
   ]
  },
  {
   "cell_type": "markdown",
   "id": "69df9c9a",
   "metadata": {
    "papermill": {
     "duration": 0.022157,
     "end_time": "2022-02-18T10:09:00.253948",
     "exception": false,
     "start_time": "2022-02-18T10:09:00.231791",
     "status": "completed"
    },
    "tags": []
   },
   "source": [
    "## Preparing the Data"
   ]
  },
  {
   "cell_type": "code",
   "execution_count": 4,
   "id": "7f69d806",
   "metadata": {
    "execution": {
     "iopub.execute_input": "2022-02-18T10:09:00.301487Z",
     "iopub.status.busy": "2022-02-18T10:09:00.300982Z",
     "iopub.status.idle": "2022-02-18T10:09:00.314930Z",
     "shell.execute_reply": "2022-02-18T10:09:00.314543Z"
    },
    "papermill": {
     "duration": 0.039158,
     "end_time": "2022-02-18T10:09:00.315028",
     "exception": false,
     "start_time": "2022-02-18T10:09:00.275870",
     "status": "completed"
    },
    "tags": []
   },
   "outputs": [],
   "source": [
    "import mnist"
   ]
  },
  {
   "cell_type": "code",
   "execution_count": 5,
   "id": "a411e44f",
   "metadata": {
    "execution": {
     "iopub.execute_input": "2022-02-18T10:09:00.362276Z",
     "iopub.status.busy": "2022-02-18T10:09:00.361826Z",
     "iopub.status.idle": "2022-02-18T10:09:00.823277Z",
     "shell.execute_reply": "2022-02-18T10:09:00.822760Z"
    },
    "papermill": {
     "duration": 0.48625,
     "end_time": "2022-02-18T10:09:00.823416",
     "exception": false,
     "start_time": "2022-02-18T10:09:00.337166",
     "status": "completed"
    },
    "tags": []
   },
   "outputs": [],
   "source": [
    "train_images = mnist.train_images()\n",
    "train_labels = mnist.train_labels()"
   ]
  },
  {
   "cell_type": "code",
   "execution_count": 6,
   "id": "dceab3a5",
   "metadata": {
    "execution": {
     "iopub.execute_input": "2022-02-18T10:09:00.876995Z",
     "iopub.status.busy": "2022-02-18T10:09:00.876513Z",
     "iopub.status.idle": "2022-02-18T10:09:00.891263Z",
     "shell.execute_reply": "2022-02-18T10:09:00.891605Z"
    },
    "papermill": {
     "duration": 0.043938,
     "end_time": "2022-02-18T10:09:00.891723",
     "exception": false,
     "start_time": "2022-02-18T10:09:00.847785",
     "status": "completed"
    },
    "tags": []
   },
   "outputs": [
    {
     "data": {
      "text/plain": [
       "((60000, 28, 28), (60000,))"
      ]
     },
     "execution_count": 6,
     "metadata": {},
     "output_type": "execute_result"
    }
   ],
   "source": [
    "train_images.shape, train_labels.shape"
   ]
  },
  {
   "cell_type": "code",
   "execution_count": 7,
   "id": "f50dc2bb",
   "metadata": {
    "execution": {
     "iopub.execute_input": "2022-02-18T10:09:00.954251Z",
     "iopub.status.busy": "2022-02-18T10:09:00.953770Z",
     "iopub.status.idle": "2022-02-18T10:09:01.057681Z",
     "shell.execute_reply": "2022-02-18T10:09:01.058165Z"
    },
    "papermill": {
     "duration": 0.144348,
     "end_time": "2022-02-18T10:09:01.058333",
     "exception": false,
     "start_time": "2022-02-18T10:09:00.913985",
     "status": "completed"
    },
    "tags": []
   },
   "outputs": [],
   "source": [
    "test_images = mnist.test_images()\n",
    "test_labels = mnist.test_labels()"
   ]
  },
  {
   "cell_type": "code",
   "execution_count": 8,
   "id": "fc38cf1b",
   "metadata": {
    "execution": {
     "iopub.execute_input": "2022-02-18T10:09:01.120953Z",
     "iopub.status.busy": "2022-02-18T10:09:01.120500Z",
     "iopub.status.idle": "2022-02-18T10:09:01.123576Z",
     "shell.execute_reply": "2022-02-18T10:09:01.123212Z"
    },
    "papermill": {
     "duration": 0.040912,
     "end_time": "2022-02-18T10:09:01.123676",
     "exception": false,
     "start_time": "2022-02-18T10:09:01.082764",
     "status": "completed"
    },
    "tags": []
   },
   "outputs": [
    {
     "data": {
      "text/plain": [
       "((10000, 28, 28), (10000,))"
      ]
     },
     "execution_count": 8,
     "metadata": {},
     "output_type": "execute_result"
    }
   ],
   "source": [
    "test_images.shape, test_labels.shape"
   ]
  },
  {
   "cell_type": "code",
   "execution_count": 9,
   "id": "f9ed8fe0",
   "metadata": {
    "execution": {
     "iopub.execute_input": "2022-02-18T10:09:01.172872Z",
     "iopub.status.busy": "2022-02-18T10:09:01.172086Z",
     "iopub.status.idle": "2022-02-18T10:09:01.307152Z",
     "shell.execute_reply": "2022-02-18T10:09:01.307623Z"
    },
    "papermill": {
     "duration": 0.161536,
     "end_time": "2022-02-18T10:09:01.307771",
     "exception": false,
     "start_time": "2022-02-18T10:09:01.146235",
     "status": "completed"
    },
    "tags": []
   },
   "outputs": [
    {
     "name": "stdout",
     "output_type": "stream",
     "text": [
      "2\n"
     ]
    },
    {
     "data": {
      "text/plain": [
       "<matplotlib.image.AxesImage at 0x7f24c95d75f8>"
      ]
     },
     "execution_count": 9,
     "metadata": {},
     "output_type": "execute_result"
    },
    {
     "data": {
      "image/png": "[encoded data removed]",
      "text/plain": [
       "<Figure size 432x288 with 1 Axes>"
      ]
     },
     "metadata": {
      "needs_background": "light"
     },
     "output_type": "display_data"
    }
   ],
   "source": [
    "image_index = 7776 # You may select anything up to 60,000\n",
    "print(train_labels[image_index]) \n",
    "plt.imshow(train_images[image_index], cmap='Greys')"
   ]
  },
  {
   "cell_type": "markdown",
   "id": "a8d2388d",
   "metadata": {
    "papermill": {
     "duration": 0.023517,
     "end_time": "2022-02-18T10:09:01.355781",
     "exception": false,
     "start_time": "2022-02-18T10:09:01.332264",
     "status": "completed"
    },
    "tags": []
   },
   "source": [
    "## Filter data to get 3 and 8 out"
   ]
  },
  {
   "cell_type": "code",
   "execution_count": 10,
   "id": "776f7fc7",
   "metadata": {
    "execution": {
     "iopub.execute_input": "2022-02-18T10:09:01.419760Z",
     "iopub.status.busy": "2022-02-18T10:09:01.419271Z",
     "iopub.status.idle": "2022-02-18T10:09:01.427522Z",
     "shell.execute_reply": "2022-02-18T10:09:01.427869Z"
    },
    "papermill": {
     "duration": 0.048629,
     "end_time": "2022-02-18T10:09:01.427997",
     "exception": false,
     "start_time": "2022-02-18T10:09:01.379368",
     "status": "completed"
    },
    "tags": []
   },
   "outputs": [],
   "source": [
    "train_filter = np.where((train_labels == 3 ) | (train_labels == 8))\n",
    "test_filter = np.where((test_labels == 3) | (test_labels == 8))\n",
    "X_train, y_train = train_images[train_filter], train_labels[train_filter]\n",
    "X_test, y_test = test_images[test_filter], test_labels[test_filter]"
   ]
  },
  {
   "cell_type": "markdown",
   "id": "948f0b7e",
   "metadata": {
    "papermill": {
     "duration": 0.023541,
     "end_time": "2022-02-18T10:09:01.475410",
     "exception": false,
     "start_time": "2022-02-18T10:09:01.451869",
     "status": "completed"
    },
    "tags": []
   },
   "source": [
    "We normalize the pizel values in the 0 to 1 range"
   ]
  },
  {
   "cell_type": "code",
   "execution_count": 11,
   "id": "ee4c2166",
   "metadata": {
    "execution": {
     "iopub.execute_input": "2022-02-18T10:09:01.526641Z",
     "iopub.status.busy": "2022-02-18T10:09:01.525502Z",
     "iopub.status.idle": "2022-02-18T10:09:01.573563Z",
     "shell.execute_reply": "2022-02-18T10:09:01.573050Z"
    },
    "papermill": {
     "duration": 0.074824,
     "end_time": "2022-02-18T10:09:01.573688",
     "exception": false,
     "start_time": "2022-02-18T10:09:01.498864",
     "status": "completed"
    },
    "tags": []
   },
   "outputs": [],
   "source": [
    "X_train = X_train/255.\n",
    "X_test = X_test/255."
   ]
  },
  {
   "cell_type": "markdown",
   "id": "ddcf4fab",
   "metadata": {
    "papermill": {
     "duration": 0.023645,
     "end_time": "2022-02-18T10:09:01.621548",
     "exception": false,
     "start_time": "2022-02-18T10:09:01.597903",
     "status": "completed"
    },
    "tags": []
   },
   "source": [
    "And setup the labels as 1 (when the digit is 3) and 0 (when the digit is 8)"
   ]
  },
  {
   "cell_type": "code",
   "execution_count": 12,
   "id": "7dc908f2",
   "metadata": {
    "execution": {
     "iopub.execute_input": "2022-02-18T10:09:01.673197Z",
     "iopub.status.busy": "2022-02-18T10:09:01.672723Z",
     "iopub.status.idle": "2022-02-18T10:09:01.684902Z",
     "shell.execute_reply": "2022-02-18T10:09:01.685311Z"
    },
    "papermill": {
     "duration": 0.040179,
     "end_time": "2022-02-18T10:09:01.685431",
     "exception": false,
     "start_time": "2022-02-18T10:09:01.645252",
     "status": "completed"
    },
    "tags": []
   },
   "outputs": [],
   "source": [
    "y_train = 1*(y_train==3)\n",
    "y_test = 1*(y_test==3)"
   ]
  },
  {
   "cell_type": "code",
   "execution_count": 13,
   "id": "01e4e969",
   "metadata": {
    "execution": {
     "iopub.execute_input": "2022-02-18T10:09:01.742423Z",
     "iopub.status.busy": "2022-02-18T10:09:01.741936Z",
     "iopub.status.idle": "2022-02-18T10:09:01.754972Z",
     "shell.execute_reply": "2022-02-18T10:09:01.754580Z"
    },
    "papermill": {
     "duration": 0.045442,
     "end_time": "2022-02-18T10:09:01.755074",
     "exception": false,
     "start_time": "2022-02-18T10:09:01.709632",
     "status": "completed"
    },
    "tags": []
   },
   "outputs": [
    {
     "data": {
      "text/plain": [
       "((11982, 28, 28), (1984, 28, 28))"
      ]
     },
     "execution_count": 13,
     "metadata": {},
     "output_type": "execute_result"
    }
   ],
   "source": [
    "X_train.shape, X_test.shape"
   ]
  },
  {
   "cell_type": "markdown",
   "id": "5ccf3f85",
   "metadata": {
    "papermill": {
     "duration": 0.023723,
     "end_time": "2022-02-18T10:09:01.815411",
     "exception": false,
     "start_time": "2022-02-18T10:09:01.791688",
     "status": "completed"
    },
    "tags": []
   },
   "source": [
    "We reshape the data to flatten the image pixels into a set of features or co-variates:"
   ]
  },
  {
   "cell_type": "code",
   "execution_count": 14,
   "id": "5286a4a3",
   "metadata": {
    "execution": {
     "iopub.execute_input": "2022-02-18T10:09:01.876365Z",
     "iopub.status.busy": "2022-02-18T10:09:01.875883Z",
     "iopub.status.idle": "2022-02-18T10:09:01.880180Z",
     "shell.execute_reply": "2022-02-18T10:09:01.880812Z"
    },
    "papermill": {
     "duration": 0.040973,
     "end_time": "2022-02-18T10:09:01.880936",
     "exception": false,
     "start_time": "2022-02-18T10:09:01.839963",
     "status": "completed"
    },
    "tags": []
   },
   "outputs": [
    {
     "data": {
      "text/plain": [
       "((11982, 784), (1984, 784))"
      ]
     },
     "execution_count": 14,
     "metadata": {},
     "output_type": "execute_result"
    }
   ],
   "source": [
    "X_train = X_train.reshape(X_train.shape[0], -1)\n",
    "X_test = X_test.reshape(X_test.shape[0], -1)\n",
    "X_train.shape, X_test.shape"
   ]
  },
  {
   "cell_type": "code",
   "execution_count": 15,
   "id": "73c5f88a",
   "metadata": {
    "execution": {
     "iopub.execute_input": "2022-02-18T10:09:01.938408Z",
     "iopub.status.busy": "2022-02-18T10:09:01.937938Z",
     "iopub.status.idle": "2022-02-18T10:09:01.949729Z",
     "shell.execute_reply": "2022-02-18T10:09:01.950395Z"
    },
    "papermill": {
     "duration": 0.045237,
     "end_time": "2022-02-18T10:09:01.950521",
     "exception": false,
     "start_time": "2022-02-18T10:09:01.905284",
     "status": "completed"
    },
    "tags": []
   },
   "outputs": [],
   "source": [
    "#Impoting functions from 'Kudzu'\n",
    "from kudzu.model import Model\n",
    "from kudzu.train import Learner\n",
    "from kudzu.optim import GD\n",
    "from kudzu.data import Data, Sampler,Dataloader\n",
    "\n",
    "from kudzu.callbacks import AccCallback\n",
    "from kudzu.callbacks import ClfCallback\n",
    "\n",
    "from kudzu.loss import MSE\n",
    "\n",
    "from kudzu.layer import Sigmoid,Relu\n",
    "from kudzu.layer import Affine"
   ]
  },
  {
   "cell_type": "markdown",
   "id": "bc01172a",
   "metadata": {
    "papermill": {
     "duration": 0.023981,
     "end_time": "2022-02-18T10:09:01.999367",
     "exception": false,
     "start_time": "2022-02-18T10:09:01.975386",
     "status": "completed"
    },
    "tags": []
   },
   "source": [
    "### Let us create a `Config` class, to store important parameters. \n",
    "This class essentially plays the role of a dictionary."
   ]
  },
  {
   "cell_type": "code",
   "execution_count": 16,
   "id": "978281aa",
   "metadata": {
    "execution": {
     "iopub.execute_input": "2022-02-18T10:09:02.062364Z",
     "iopub.status.busy": "2022-02-18T10:09:02.061788Z",
     "iopub.status.idle": "2022-02-18T10:09:02.064813Z",
     "shell.execute_reply": "2022-02-18T10:09:02.065247Z"
    },
    "papermill": {
     "duration": 0.041259,
     "end_time": "2022-02-18T10:09:02.065386",
     "exception": false,
     "start_time": "2022-02-18T10:09:02.024127",
     "status": "completed"
    },
    "tags": []
   },
   "outputs": [],
   "source": [
    "class Config:\n",
    "    pass\n",
    "config = Config()\n",
    "config.lr = 0.001\n",
    "config.num_epochs = 250\n",
    "config.bs = 50"
   ]
  },
  {
   "cell_type": "markdown",
   "id": "1385fa59",
   "metadata": {
    "papermill": {
     "duration": 0.027476,
     "end_time": "2022-02-18T10:09:02.121056",
     "exception": false,
     "start_time": "2022-02-18T10:09:02.093580",
     "status": "completed"
    },
    "tags": []
   },
   "source": [
    "### Running Models with the Training data\n",
    "Details about the network layers:\n",
    "- A first affine layer has 784 inputs and does 100 affine transforms. These are followed by a Relu\n",
    "- A second affine layer has 100 inputs from the 100 activations of the past layer, and does 100 affine transforms. These are followed by a Relu\n",
    "- A third affine layer has 100 activations and does 2 affine transformations to create an embedding for visualization. There is no non-linearity here.\n",
    "- A final \"logistic regression\" which has an affine transform from 2 inputs to 1 output, which is squeezed through a sigmoid.\n"
   ]
  },
  {
   "cell_type": "code",
   "execution_count": 17,
   "id": "2b9c66db",
   "metadata": {
    "execution": {
     "iopub.execute_input": "2022-02-18T10:09:02.183393Z",
     "iopub.status.busy": "2022-02-18T10:09:02.182916Z",
     "iopub.status.idle": "2022-02-18T10:09:02.192218Z",
     "shell.execute_reply": "2022-02-18T10:09:02.192605Z"
    },
    "papermill": {
     "duration": 0.043483,
     "end_time": "2022-02-18T10:09:02.192724",
     "exception": false,
     "start_time": "2022-02-18T10:09:02.149241",
     "status": "completed"
    },
    "tags": []
   },
   "outputs": [],
   "source": [
    "data = Data(X_train, y_train.reshape(-1,1))\n",
    "sampler = Sampler(data, config.bs, shuffle=True)\n",
    "\n",
    "dl = Dataloader(data, sampler)\n",
    "\n",
    "opt = GD(config.lr)\n",
    "loss = MSE()"
   ]
  },
  {
   "cell_type": "code",
   "execution_count": 18,
   "id": "b275e4c2",
   "metadata": {
    "execution": {
     "iopub.execute_input": "2022-02-18T10:09:02.256056Z",
     "iopub.status.busy": "2022-02-18T10:09:02.255574Z",
     "iopub.status.idle": "2022-02-18T10:09:02.261832Z",
     "shell.execute_reply": "2022-02-18T10:09:02.262174Z"
    },
    "papermill": {
     "duration": 0.045065,
     "end_time": "2022-02-18T10:09:02.262296",
     "exception": false,
     "start_time": "2022-02-18T10:09:02.217231",
     "status": "completed"
    },
    "tags": []
   },
   "outputs": [],
   "source": [
    "training_data_x = X_train\n",
    "testing_data_x = X_test\n",
    "training_data_y = y_train.reshape(-1,1)\n",
    "testing_data_y = y_test.reshape(-1,1)"
   ]
  },
  {
   "cell_type": "code",
   "execution_count": 19,
   "id": "76951160",
   "metadata": {
    "execution": {
     "iopub.execute_input": "2022-02-18T10:09:02.316850Z",
     "iopub.status.busy": "2022-02-18T10:09:02.316383Z",
     "iopub.status.idle": "2022-02-18T10:09:02.331241Z",
     "shell.execute_reply": "2022-02-18T10:09:02.330874Z"
    },
    "papermill": {
     "duration": 0.044952,
     "end_time": "2022-02-18T10:09:02.331342",
     "exception": false,
     "start_time": "2022-02-18T10:09:02.286390",
     "status": "completed"
    },
    "tags": []
   },
   "outputs": [
    {
     "name": "stdout",
     "output_type": "stream",
     "text": [
      "xavier\n",
      "xavier\n",
      "xavier\n",
      "xavier\n",
      "xavier\n"
     ]
    }
   ],
   "source": [
    "layers = [Affine(\"first\", 784, 100), Relu(\"first\"), Affine(\"second\", 100, 100), Relu(\"second\"), Affine(\"third\", 100, 2), Affine(\"last\", 2, 1), Sigmoid(\"last\")]\n",
    "model_nn = Model(layers)\n",
    "model_lr = Model([Affine(\"logits\", 784, 1), Sigmoid(\"sigmoid\")])"
   ]
  },
  {
   "cell_type": "code",
   "execution_count": 20,
   "id": "6eede77a",
   "metadata": {
    "execution": {
     "iopub.execute_input": "2022-02-18T10:09:02.383527Z",
     "iopub.status.busy": "2022-02-18T10:09:02.383069Z",
     "iopub.status.idle": "2022-02-18T10:09:02.395667Z",
     "shell.execute_reply": "2022-02-18T10:09:02.396012Z"
    },
    "papermill": {
     "duration": 0.040559,
     "end_time": "2022-02-18T10:09:02.396126",
     "exception": false,
     "start_time": "2022-02-18T10:09:02.355567",
     "status": "completed"
    },
    "tags": []
   },
   "outputs": [],
   "source": [
    "nn_learner = Learner(loss, model_nn, opt, config.num_epochs)\n",
    "acc_nn = ClfCallback(nn_learner, config.bs, training_data_x , testing_data_x, training_data_y, testing_data_y)\n",
    "nn_learner.set_callbacks([acc_nn])"
   ]
  },
  {
   "cell_type": "code",
   "execution_count": 21,
   "id": "877b6cc7",
   "metadata": {
    "execution": {
     "iopub.execute_input": "2022-02-18T10:09:02.448367Z",
     "iopub.status.busy": "2022-02-18T10:09:02.447913Z",
     "iopub.status.idle": "2022-02-18T10:09:02.459951Z",
     "shell.execute_reply": "2022-02-18T10:09:02.460344Z"
    },
    "papermill": {
     "duration": 0.040015,
     "end_time": "2022-02-18T10:09:02.460462",
     "exception": false,
     "start_time": "2022-02-18T10:09:02.420447",
     "status": "completed"
    },
    "tags": []
   },
   "outputs": [],
   "source": [
    "lr_learner = Learner(loss, model_lr, opt, config.num_epochs)\n",
    "acc_lr = ClfCallback(lr_learner, config.bs, training_data_x , testing_data_x, training_data_y, testing_data_y)\n",
    "lr_learner.set_callbacks([acc_lr])"
   ]
  },
  {
   "cell_type": "code",
   "execution_count": 22,
   "id": "d9b133c3",
   "metadata": {
    "execution": {
     "iopub.execute_input": "2022-02-18T10:09:02.525862Z",
     "iopub.status.busy": "2022-02-18T10:09:02.525384Z",
     "iopub.status.idle": "2022-02-18T10:10:20.290487Z",
     "shell.execute_reply": "2022-02-18T10:10:20.291245Z"
    },
    "papermill": {
     "duration": 77.806578,
     "end_time": "2022-02-18T10:10:20.291399",
     "exception": false,
     "start_time": "2022-02-18T10:09:02.484821",
     "status": "completed"
    },
    "tags": []
   },
   "outputs": [
    {
     "name": "stdout",
     "output_type": "stream",
     "text": [
      "Epoch 0, Loss 0.2588\n",
      "Training Accuracy: 0.5166, Testing Accuracy: 0.5020\n",
      "\n"
     ]
    },
    {
     "name": "stdout",
     "output_type": "stream",
     "text": [
      "Epoch 10, Loss 0.0998\n",
      "Training Accuracy: 0.9068, Testing Accuracy: 0.9209\n",
      "\n"
     ]
    },
    {
     "name": "stdout",
     "output_type": "stream",
     "text": [
      "Epoch 20, Loss 0.0593\n",
      "Training Accuracy: 0.9360, Testing Accuracy: 0.9461\n",
      "\n"
     ]
    },
    {
     "name": "stdout",
     "output_type": "stream",
     "text": [
      "Epoch 30, Loss 0.0461\n",
      "Training Accuracy: 0.9484, Testing Accuracy: 0.9546\n",
      "\n"
     ]
    },
    {
     "name": "stdout",
     "output_type": "stream",
     "text": [
      "Epoch 40, Loss 0.0394\n",
      "Training Accuracy: 0.9548, Testing Accuracy: 0.9617\n",
      "\n"
     ]
    },
    {
     "name": "stdout",
     "output_type": "stream",
     "text": [
      "Epoch 50, Loss 0.0354\n",
      "Training Accuracy: 0.9587, Testing Accuracy: 0.9657\n",
      "\n"
     ]
    },
    {
     "name": "stdout",
     "output_type": "stream",
     "text": [
      "Epoch 60, Loss 0.0327\n",
      "Training Accuracy: 0.9621, Testing Accuracy: 0.9672\n",
      "\n"
     ]
    },
    {
     "name": "stdout",
     "output_type": "stream",
     "text": [
      "Epoch 70, Loss 0.0306\n",
      "Training Accuracy: 0.9646, Testing Accuracy: 0.9677\n",
      "\n"
     ]
    },
    {
     "name": "stdout",
     "output_type": "stream",
     "text": [
      "Epoch 80, Loss 0.029\n",
      "Training Accuracy: 0.9661, Testing Accuracy: 0.9693\n",
      "\n"
     ]
    },
    {
     "name": "stdout",
     "output_type": "stream",
     "text": [
      "Epoch 90, Loss 0.0277\n",
      "Training Accuracy: 0.9679, Testing Accuracy: 0.9693\n",
      "\n"
     ]
    },
    {
     "name": "stdout",
     "output_type": "stream",
     "text": [
      "Epoch 100, Loss 0.0267\n",
      "Training Accuracy: 0.9685, Testing Accuracy: 0.9693\n",
      "\n"
     ]
    },
    {
     "name": "stdout",
     "output_type": "stream",
     "text": [
      "Epoch 110, Loss 0.0257\n",
      "Training Accuracy: 0.9700, Testing Accuracy: 0.9708\n",
      "\n"
     ]
    },
    {
     "name": "stdout",
     "output_type": "stream",
     "text": [
      "Epoch 120, Loss 0.0249\n",
      "Training Accuracy: 0.9709, Testing Accuracy: 0.9708\n",
      "\n"
     ]
    },
    {
     "name": "stdout",
     "output_type": "stream",
     "text": [
      "Epoch 130, Loss 0.0242\n",
      "Training Accuracy: 0.9715, Testing Accuracy: 0.9713\n",
      "\n"
     ]
    },
    {
     "name": "stdout",
     "output_type": "stream",
     "text": [
      "Epoch 140, Loss 0.0235\n",
      "Training Accuracy: 0.9725, Testing Accuracy: 0.9718\n",
      "\n"
     ]
    },
    {
     "name": "stdout",
     "output_type": "stream",
     "text": [
      "Epoch 150, Loss 0.0229\n",
      "Training Accuracy: 0.9735, Testing Accuracy: 0.9723\n",
      "\n"
     ]
    },
    {
     "name": "stdout",
     "output_type": "stream",
     "text": [
      "Epoch 160, Loss 0.0224\n",
      "Training Accuracy: 0.9743, Testing Accuracy: 0.9728\n",
      "\n"
     ]
    },
    {
     "name": "stdout",
     "output_type": "stream",
     "text": [
      "Epoch 170, Loss 0.0219\n",
      "Training Accuracy: 0.9754, Testing Accuracy: 0.9733\n",
      "\n"
     ]
    },
    {
     "name": "stdout",
     "output_type": "stream",
     "text": [
      "Epoch 180, Loss 0.0214\n",
      "Training Accuracy: 0.9756, Testing Accuracy: 0.9723\n",
      "\n"
     ]
    },
    {
     "name": "stdout",
     "output_type": "stream",
     "text": [
      "Epoch 190, Loss 0.0209\n",
      "Training Accuracy: 0.9763, Testing Accuracy: 0.9738\n",
      "\n"
     ]
    },
    {
     "name": "stdout",
     "output_type": "stream",
     "text": [
      "Epoch 200, Loss 0.0205\n",
      "Training Accuracy: 0.9768, Testing Accuracy: 0.9753\n",
      "\n"
     ]
    },
    {
     "name": "stdout",
     "output_type": "stream",
     "text": [
      "Epoch 210, Loss 0.0201\n",
      "Training Accuracy: 0.9771, Testing Accuracy: 0.9758\n",
      "\n"
     ]
    },
    {
     "name": "stdout",
     "output_type": "stream",
     "text": [
      "Epoch 220, Loss 0.0197\n",
      "Training Accuracy: 0.9780, Testing Accuracy: 0.9758\n",
      "\n"
     ]
    },
    {
     "name": "stdout",
     "output_type": "stream",
     "text": [
      "Epoch 230, Loss 0.0193\n",
      "Training Accuracy: 0.9780, Testing Accuracy: 0.9748\n",
      "\n"
     ]
    },
    {
     "name": "stdout",
     "output_type": "stream",
     "text": [
      "Epoch 240, Loss 0.019\n",
      "Training Accuracy: 0.9786, Testing Accuracy: 0.9758\n",
      "\n"
     ]
    },
    {
     "data": {
      "text/plain": [
       "0.0006316104651358867"
      ]
     },
     "execution_count": 22,
     "metadata": {},
     "output_type": "execute_result"
    }
   ],
   "source": [
    "nn_learner.train_loop(dl)"
   ]
  },
  {
   "cell_type": "code",
   "execution_count": 23,
   "id": "e0163366",
   "metadata": {
    "execution": {
     "iopub.execute_input": "2022-02-18T10:10:20.373123Z",
     "iopub.status.busy": "2022-02-18T10:10:20.372595Z",
     "iopub.status.idle": "2022-02-18T10:10:34.230860Z",
     "shell.execute_reply": "2022-02-18T10:10:34.231592Z"
    },
    "papermill": {
     "duration": 13.90546,
     "end_time": "2022-02-18T10:10:34.231737",
     "exception": false,
     "start_time": "2022-02-18T10:10:20.326277",
     "status": "completed"
    },
    "tags": []
   },
   "outputs": [
    {
     "name": "stdout",
     "output_type": "stream",
     "text": [
      "Epoch 0, Loss 0.2374\n",
      "Training Accuracy: 0.6879, Testing Accuracy: 0.6976\n",
      "\n"
     ]
    },
    {
     "name": "stdout",
     "output_type": "stream",
     "text": [
      "Epoch 10, Loss 0.107\n",
      "Training Accuracy: 0.8954, Testing Accuracy: 0.9118\n",
      "\n"
     ]
    },
    {
     "name": "stdout",
     "output_type": "stream",
     "text": [
      "Epoch 20, Loss 0.0817\n",
      "Training Accuracy: 0.9219, Testing Accuracy: 0.9360\n",
      "\n"
     ]
    },
    {
     "name": "stdout",
     "output_type": "stream",
     "text": [
      "Epoch 30, Loss 0.0699\n",
      "Training Accuracy: 0.9333, Testing Accuracy: 0.9466\n",
      "\n"
     ]
    },
    {
     "name": "stdout",
     "output_type": "stream",
     "text": [
      "Epoch 40, Loss 0.0629\n",
      "Training Accuracy: 0.9397, Testing Accuracy: 0.9506\n",
      "\n"
     ]
    },
    {
     "name": "stdout",
     "output_type": "stream",
     "text": [
      "Epoch 50, Loss 0.0581\n",
      "Training Accuracy: 0.9425, Testing Accuracy: 0.9546\n",
      "\n"
     ]
    },
    {
     "name": "stdout",
     "output_type": "stream",
     "text": [
      "Epoch 60, Loss 0.0547\n",
      "Training Accuracy: 0.9453, Testing Accuracy: 0.9556\n",
      "\n"
     ]
    },
    {
     "name": "stdout",
     "output_type": "stream",
     "text": [
      "Epoch 70, Loss 0.052\n",
      "Training Accuracy: 0.9473, Testing Accuracy: 0.9577\n",
      "\n"
     ]
    },
    {
     "name": "stdout",
     "output_type": "stream",
     "text": [
      "Epoch 80, Loss 0.0499\n",
      "Training Accuracy: 0.9490, Testing Accuracy: 0.9582\n",
      "\n"
     ]
    },
    {
     "name": "stdout",
     "output_type": "stream",
     "text": [
      "Epoch 90, Loss 0.0481\n",
      "Training Accuracy: 0.9507, Testing Accuracy: 0.9587\n",
      "\n"
     ]
    },
    {
     "name": "stdout",
     "output_type": "stream",
     "text": [
      "Epoch 100, Loss 0.0467\n",
      "Training Accuracy: 0.9516, Testing Accuracy: 0.9597\n",
      "\n"
     ]
    },
    {
     "name": "stdout",
     "output_type": "stream",
     "text": [
      "Epoch 110, Loss 0.0454\n",
      "Training Accuracy: 0.9531, Testing Accuracy: 0.9607\n",
      "\n"
     ]
    },
    {
     "name": "stdout",
     "output_type": "stream",
     "text": [
      "Epoch 120, Loss 0.0443\n",
      "Training Accuracy: 0.9543, Testing Accuracy: 0.9627\n",
      "\n"
     ]
    },
    {
     "name": "stdout",
     "output_type": "stream",
     "text": [
      "Epoch 130, Loss 0.0434\n",
      "Training Accuracy: 0.9554, Testing Accuracy: 0.9632\n",
      "\n"
     ]
    },
    {
     "name": "stdout",
     "output_type": "stream",
     "text": [
      "Epoch 140, Loss 0.0425\n",
      "Training Accuracy: 0.9566, Testing Accuracy: 0.9647\n",
      "\n"
     ]
    },
    {
     "name": "stdout",
     "output_type": "stream",
     "text": [
      "Epoch 150, Loss 0.0417\n",
      "Training Accuracy: 0.9572, Testing Accuracy: 0.9642\n",
      "\n"
     ]
    },
    {
     "name": "stdout",
     "output_type": "stream",
     "text": [
      "Epoch 160, Loss 0.0411\n",
      "Training Accuracy: 0.9575, Testing Accuracy: 0.9647\n",
      "\n"
     ]
    },
    {
     "name": "stdout",
     "output_type": "stream",
     "text": [
      "Epoch 170, Loss 0.0404\n",
      "Training Accuracy: 0.9579, Testing Accuracy: 0.9647\n",
      "\n"
     ]
    },
    {
     "name": "stdout",
     "output_type": "stream",
     "text": [
      "Epoch 180, Loss 0.0398\n",
      "Training Accuracy: 0.9583, Testing Accuracy: 0.9652\n",
      "\n"
     ]
    },
    {
     "name": "stdout",
     "output_type": "stream",
     "text": [
      "Epoch 190, Loss 0.0393\n",
      "Training Accuracy: 0.9586, Testing Accuracy: 0.9647\n",
      "\n"
     ]
    },
    {
     "name": "stdout",
     "output_type": "stream",
     "text": [
      "Epoch 200, Loss 0.0388\n",
      "Training Accuracy: 0.9590, Testing Accuracy: 0.9647\n",
      "\n"
     ]
    },
    {
     "name": "stdout",
     "output_type": "stream",
     "text": [
      "Epoch 210, Loss 0.0384\n",
      "Training Accuracy: 0.9597, Testing Accuracy: 0.9647\n",
      "\n"
     ]
    },
    {
     "name": "stdout",
     "output_type": "stream",
     "text": [
      "Epoch 220, Loss 0.0379\n",
      "Training Accuracy: 0.9599, Testing Accuracy: 0.9647\n",
      "\n"
     ]
    },
    {
     "name": "stdout",
     "output_type": "stream",
     "text": [
      "Epoch 230, Loss 0.0375\n",
      "Training Accuracy: 0.9600, Testing Accuracy: 0.9657\n",
      "\n"
     ]
    },
    {
     "name": "stdout",
     "output_type": "stream",
     "text": [
      "Epoch 240, Loss 0.0372\n",
      "Training Accuracy: 0.9605, Testing Accuracy: 0.9662\n",
      "\n"
     ]
    },
    {
     "data": {
      "text/plain": [
       "0.04614333635233624"
      ]
     },
     "execution_count": 23,
     "metadata": {},
     "output_type": "execute_result"
    }
   ],
   "source": [
    "lr_learner.train_loop(dl)"
   ]
  },
  {
   "cell_type": "code",
   "execution_count": 24,
   "id": "ca410940",
   "metadata": {
    "execution": {
     "iopub.execute_input": "2022-02-18T10:10:34.323926Z",
     "iopub.status.busy": "2022-02-18T10:10:34.323055Z",
     "iopub.status.idle": "2022-02-18T10:10:34.547389Z",
     "shell.execute_reply": "2022-02-18T10:10:34.546572Z"
    },
    "papermill": {
     "duration": 0.274122,
     "end_time": "2022-02-18T10:10:34.547521",
     "exception": false,
     "start_time": "2022-02-18T10:10:34.273399",
     "status": "completed"
    },
    "tags": []
   },
   "outputs": [
    {
     "data": {
      "text/plain": [
       "<matplotlib.legend.Legend at 0x7f24c91b2d30>"
      ]
     },
     "execution_count": 24,
     "metadata": {},
     "output_type": "execute_result"
    },
    {
     "data": {
      "image/png": "[encoded data removed]",
      "text/plain": [
       "<Figure size 1080x720 with 1 Axes>"
      ]
     },
     "metadata": {
      "needs_background": "light"
     },
     "output_type": "display_data"
    }
   ],
   "source": [
    "#comparing the results of NN and LR\n",
    "plt.figure(figsize=(15,10))\n",
    "\n",
    "# Neural Network plots\n",
    "plt.plot(acc_nn.accuracies, 'r-', label = \"Training Accuracies - NN\")\n",
    "plt.plot(acc_nn.test_accuracies, 'g-', label = \"Testing Accuracies - NN\")\n",
    "\n",
    "# Logistic Regression plots\n",
    "plt.plot(acc_lr.accuracies, 'k-', label = \"Training Accuracies - LR\")\n",
    "plt.plot(acc_lr.test_accuracies, 'b-', label = \"Testing Accuracies - LR\")\n",
    "plt.legend()"
   ]
  },
  {
   "cell_type": "markdown",
   "id": "80dfb35c",
   "metadata": {
    "papermill": {
     "duration": 0.042272,
     "end_time": "2022-02-18T10:10:34.632428",
     "exception": false,
     "start_time": "2022-02-18T10:10:34.590156",
     "status": "completed"
    },
    "tags": []
   },
   "source": [
    "#### Plotting the outputs of this layer of the NN.\n"
   ]
  },
  {
   "cell_type": "code",
   "execution_count": 25,
   "id": "45eb2ff5",
   "metadata": {
    "execution": {
     "iopub.execute_input": "2022-02-18T10:10:34.730545Z",
     "iopub.status.busy": "2022-02-18T10:10:34.729665Z",
     "iopub.status.idle": "2022-02-18T10:10:34.743233Z",
     "shell.execute_reply": "2022-02-18T10:10:34.742544Z"
    },
    "papermill": {
     "duration": 0.068582,
     "end_time": "2022-02-18T10:10:34.743357",
     "exception": false,
     "start_time": "2022-02-18T10:10:34.674775",
     "status": "completed"
    },
    "tags": []
   },
   "outputs": [],
   "source": [
    "new_model = Model(layers[:-2])\n",
    "testing_plot = new_model(testing_data_x)"
   ]
  },
  {
   "cell_type": "code",
   "execution_count": 26,
   "id": "4c0a5485",
   "metadata": {
    "execution": {
     "iopub.execute_input": "2022-02-18T10:10:34.837304Z",
     "iopub.status.busy": "2022-02-18T10:10:34.836689Z",
     "iopub.status.idle": "2022-02-18T10:10:35.004974Z",
     "shell.execute_reply": "2022-02-18T10:10:35.005378Z"
    },
    "papermill": {
     "duration": 0.219491,
     "end_time": "2022-02-18T10:10:35.005509",
     "exception": false,
     "start_time": "2022-02-18T10:10:34.786018",
     "status": "completed"
    },
    "tags": []
   },
   "outputs": [
    {
     "data": {
      "text/plain": [
       "Text(0.5, 1.0, 'Outputs')"
      ]
     },
     "execution_count": 26,
     "metadata": {},
     "output_type": "execute_result"
    },
    {
     "data": {
      "image/png": "[encoded data removed]",
      "text/plain": [
       "<Figure size 576x504 with 1 Axes>"
      ]
     },
     "metadata": {
      "needs_background": "light"
     },
     "output_type": "display_data"
    }
   ],
   "source": [
    "# Plotting the scatter plot of points and color coding by class\n",
    "plt.figure(figsize=(8,7))\n",
    "plt.scatter(testing_plot[:,0], testing_plot[:,1], alpha = 0.1, c = y_test.ravel());\n",
    "plt.title('Outputs')"
   ]
  },
  {
   "cell_type": "markdown",
   "id": "a74fcf8f",
   "metadata": {
    "papermill": {
     "duration": 0.038985,
     "end_time": "2022-02-18T10:10:35.083913",
     "exception": false,
     "start_time": "2022-02-18T10:10:35.044928",
     "status": "completed"
    },
    "tags": []
   },
   "source": [
    "Probability contours"
   ]
  },
  {
   "cell_type": "code",
   "execution_count": 27,
   "id": "d0afc8e3",
   "metadata": {
    "execution": {
     "iopub.execute_input": "2022-02-18T10:10:35.170663Z",
     "iopub.status.busy": "2022-02-18T10:10:35.169867Z",
     "iopub.status.idle": "2022-02-18T10:10:35.178762Z",
     "shell.execute_reply": "2022-02-18T10:10:35.178128Z"
    },
    "papermill": {
     "duration": 0.055878,
     "end_time": "2022-02-18T10:10:35.178863",
     "exception": false,
     "start_time": "2022-02-18T10:10:35.122985",
     "status": "completed"
    },
    "tags": []
   },
   "outputs": [],
   "source": [
    "model_prob = Model(layers[-2:]) "
   ]
  },
  {
   "cell_type": "code",
   "execution_count": 28,
   "id": "9b96e238",
   "metadata": {
    "execution": {
     "iopub.execute_input": "2022-02-18T10:10:35.293832Z",
     "iopub.status.busy": "2022-02-18T10:10:35.291964Z",
     "iopub.status.idle": "2022-02-18T10:10:35.302207Z",
     "shell.execute_reply": "2022-02-18T10:10:35.301786Z"
    },
    "papermill": {
     "duration": 0.059809,
     "end_time": "2022-02-18T10:10:35.302319",
     "exception": false,
     "start_time": "2022-02-18T10:10:35.242510",
     "status": "completed"
    },
    "tags": []
   },
   "outputs": [],
   "source": [
    "#creating the x and y ranges according to the above generated plot.\n",
    "x_range = np.linspace(-4, 1, 100) \n",
    "y_range = np.linspace(-6, 6, 100) \n",
    "x_grid, y_grid = np.meshgrid(x_range, y_range) # x_grid and y_grig are of size 100 X 100\n",
    "\n",
    "# converting x_grid and y_grid to continuous arrays\n",
    "x_gridflat = np.ravel(x_grid)\n",
    "y_gridflat = np.ravel(y_grid)\n",
    "\n",
    "# The last layer of the current model takes two columns as input. Hence transpose of np.vstack() is required.\n",
    "X = np.vstack((x_gridflat, y_gridflat)).T\n",
    "\n",
    "prob_contour = model_prob(X).reshape(100,100) "
   ]
  },
  {
   "cell_type": "code",
   "execution_count": 29,
   "id": "da72499a",
   "metadata": {
    "execution": {
     "iopub.execute_input": "2022-02-18T10:10:35.406433Z",
     "iopub.status.busy": "2022-02-18T10:10:35.405971Z",
     "iopub.status.idle": "2022-02-18T10:10:35.636183Z",
     "shell.execute_reply": "2022-02-18T10:10:35.635427Z"
    },
    "papermill": {
     "duration": 0.289381,
     "end_time": "2022-02-18T10:10:35.636303",
     "exception": false,
     "start_time": "2022-02-18T10:10:35.346922",
     "status": "completed"
    },
    "tags": []
   },
   "outputs": [
    {
     "data": {
      "image/png": "[encoded data removed]",
      "text/plain": [
       "<Figure size 720x648 with 1 Axes>"
      ]
     },
     "metadata": {
      "needs_background": "light"
     },
     "output_type": "display_data"
    }
   ],
   "source": [
    "plt.figure(figsize=(10,9))\n",
    "plt.scatter(testing_plot[:,0], testing_plot[:,1], alpha = 0.1, c = y_test.ravel())\n",
    "contours = plt.contour(x_grid,y_grid,prob_contour)\n",
    "plt.title('Probability Contours')\n",
    "plt.clabel(contours, inline = True );"
   ]
  },
  {
   "cell_type": "code",
   "execution_count": null,
   "id": "e81b4ac7",
   "metadata": {
    "papermill": {
     "duration": 0.040972,
     "end_time": "2022-02-18T10:10:35.718670",
     "exception": false,
     "start_time": "2022-02-18T10:10:35.677698",
     "status": "completed"
    },
    "tags": []
   },
   "outputs": [],
   "source": []
  }
 ],
 "metadata": {
  "kernelspec": {
   "display_name": "Python 3",
   "language": "python",
   "name": "python3"
  },
  "language_info": {
   "codemirror_mode": {
    "name": "ipython",
    "version": 3
   },
   "file_extension": ".py",
   "mimetype": "text/x-python",
   "name": "python",
   "nbconvert_exporter": "python",
   "pygments_lexer": "ipython3",
   "version": "3.6.15"
  },
  "papermill": {
   "default_parameters": {},
   "duration": 99.538684,
   "end_time": "2022-02-18T10:10:36.177970",
   "environment_variables": {},
   "exception": null,
   "input_path": "2020-08-11-part2.ipynb",
   "output_path": "2020-08-11-part2.ipynb",
   "parameters": {},
   "start_time": "2022-02-18T10:08:56.639286",
   "version": "2.3.3"
  }
 },
 "nbformat": 4,
 "nbformat_minor": 5
}