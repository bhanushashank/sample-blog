{
 "cells": [
  {
   "cell_type": "markdown",
   "id": "98380cd3",
   "metadata": {
    "papermill": {
     "duration": 0.028342,
     "end_time": "2022-02-26T00:27:37.511429",
     "exception": false,
     "start_time": "2022-02-26T00:27:37.483087",
     "status": "completed"
    },
    "tags": []
   },
   "source": [
    "# Distinguish Your Own Digits (DYOD)"
   ]
  },
  {
   "cell_type": "markdown",
   "id": "ef31240d",
   "metadata": {
    "papermill": {
     "duration": 0.025591,
     "end_time": "2022-02-26T00:27:37.561713",
     "exception": false,
     "start_time": "2022-02-26T00:27:37.536122",
     "status": "completed"
    },
    "tags": []
   },
   "source": [
    "You are going to write a classifier that distinguishes between the number 3 and number 8."
   ]
  },
  {
   "cell_type": "code",
   "execution_count": 1,
   "id": "b15c8646",
   "metadata": {
    "execution": {
     "iopub.execute_input": "2022-02-26T00:27:37.619554Z",
     "iopub.status.busy": "2022-02-26T00:27:37.619006Z",
     "iopub.status.idle": "2022-02-26T00:27:37.629223Z",
     "shell.execute_reply": "2022-02-26T00:27:37.629682Z"
    },
    "papermill": {
     "duration": 0.044173,
     "end_time": "2022-02-26T00:27:37.629834",
     "exception": false,
     "start_time": "2022-02-26T00:27:37.585661",
     "status": "completed"
    },
    "tags": []
   },
   "outputs": [],
   "source": [
    "%load_ext autoreload\n",
    "%autoreload 2"
   ]
  },
  {
   "cell_type": "code",
   "execution_count": 2,
   "id": "22ef38dc",
   "metadata": {
    "execution": {
     "iopub.execute_input": "2022-02-26T00:27:37.687835Z",
     "iopub.status.busy": "2022-02-26T00:27:37.679984Z",
     "iopub.status.idle": "2022-02-26T00:27:38.263344Z",
     "shell.execute_reply": "2022-02-26T00:27:38.262787Z"
    },
    "papermill": {
     "duration": 0.609498,
     "end_time": "2022-02-26T00:27:38.263488",
     "exception": false,
     "start_time": "2022-02-26T00:27:37.653990",
     "status": "completed"
    },
    "tags": []
   },
   "outputs": [],
   "source": [
    "%matplotlib inline\n",
    "import numpy as np\n",
    "import matplotlib.pyplot as plt\n",
    "import pandas as pd"
   ]
  },
  {
   "cell_type": "markdown",
   "id": "ba036198",
   "metadata": {
    "papermill": {
     "duration": 0.023949,
     "end_time": "2022-02-26T00:27:38.312519",
     "exception": false,
     "start_time": "2022-02-26T00:27:38.288570",
     "status": "completed"
    },
    "tags": []
   },
   "source": [
    "From the command line run `pip install mnist`. This is a library that will help you bring down the mnist dataset. If you run this from a notebook, you need to put  `!pip install mnist` in a cell by itself."
   ]
  },
  {
   "cell_type": "code",
   "execution_count": 3,
   "id": "bb6ad8a1",
   "metadata": {
    "execution": {
     "iopub.execute_input": "2022-02-26T00:27:38.365960Z",
     "iopub.status.busy": "2022-02-26T00:27:38.365439Z",
     "iopub.status.idle": "2022-02-26T00:27:40.055693Z",
     "shell.execute_reply": "2022-02-26T00:27:40.055124Z"
    },
    "papermill": {
     "duration": 1.719022,
     "end_time": "2022-02-26T00:27:40.055836",
     "exception": false,
     "start_time": "2022-02-26T00:27:38.336814",
     "status": "completed"
    },
    "tags": []
   },
   "outputs": [
    {
     "name": "stdout",
     "output_type": "stream",
     "text": [
      "Collecting mnist\r\n"
     ]
    },
    {
     "name": "stdout",
     "output_type": "stream",
     "text": [
      "  Downloading mnist-0.2.2-py2.py3-none-any.whl (3.5 kB)\r\n",
      "Requirement already satisfied: numpy in /opt/hostedtoolcache/Python/3.6.15/x64/lib/python3.6/site-packages (from mnist) (1.19.5)\r\n"
     ]
    },
    {
     "name": "stdout",
     "output_type": "stream",
     "text": [
      "Installing collected packages: mnist\r\n",
      "Successfully installed mnist-0.2.2\r\n"
     ]
    }
   ],
   "source": [
    "!pip install mnist"
   ]
  },
  {
   "cell_type": "markdown",
   "id": "69df9c9a",
   "metadata": {
    "papermill": {
     "duration": 0.024846,
     "end_time": "2022-02-26T00:27:40.106423",
     "exception": false,
     "start_time": "2022-02-26T00:27:40.081577",
     "status": "completed"
    },
    "tags": []
   },
   "source": [
    "## Preparing the Data"
   ]
  },
  {
   "cell_type": "code",
   "execution_count": 4,
   "id": "7f69d806",
   "metadata": {
    "execution": {
     "iopub.execute_input": "2022-02-26T00:27:40.177245Z",
     "iopub.status.busy": "2022-02-26T00:27:40.176120Z",
     "iopub.status.idle": "2022-02-26T00:27:40.179125Z",
     "shell.execute_reply": "2022-02-26T00:27:40.179513Z"
    },
    "papermill": {
     "duration": 0.048503,
     "end_time": "2022-02-26T00:27:40.179651",
     "exception": false,
     "start_time": "2022-02-26T00:27:40.131148",
     "status": "completed"
    },
    "tags": []
   },
   "outputs": [],
   "source": [
    "import mnist"
   ]
  },
  {
   "cell_type": "code",
   "execution_count": 5,
   "id": "a411e44f",
   "metadata": {
    "execution": {
     "iopub.execute_input": "2022-02-26T00:27:40.237972Z",
     "iopub.status.busy": "2022-02-26T00:27:40.237455Z",
     "iopub.status.idle": "2022-02-26T00:27:40.922795Z",
     "shell.execute_reply": "2022-02-26T00:27:40.922219Z"
    },
    "papermill": {
     "duration": 0.718312,
     "end_time": "2022-02-26T00:27:40.922934",
     "exception": false,
     "start_time": "2022-02-26T00:27:40.204622",
     "status": "completed"
    },
    "tags": []
   },
   "outputs": [],
   "source": [
    "train_images = mnist.train_images()\n",
    "train_labels = mnist.train_labels()"
   ]
  },
  {
   "cell_type": "code",
   "execution_count": 6,
   "id": "dceab3a5",
   "metadata": {
    "execution": {
     "iopub.execute_input": "2022-02-26T00:27:40.977440Z",
     "iopub.status.busy": "2022-02-26T00:27:40.976877Z",
     "iopub.status.idle": "2022-02-26T00:27:40.990518Z",
     "shell.execute_reply": "2022-02-26T00:27:40.990996Z"
    },
    "papermill": {
     "duration": 0.042908,
     "end_time": "2022-02-26T00:27:40.991125",
     "exception": false,
     "start_time": "2022-02-26T00:27:40.948217",
     "status": "completed"
    },
    "tags": []
   },
   "outputs": [
    {
     "data": {
      "text/plain": [
       "((60000, 28, 28), (60000,))"
      ]
     },
     "execution_count": 6,
     "metadata": {},
     "output_type": "execute_result"
    }
   ],
   "source": [
    "train_images.shape, train_labels.shape"
   ]
  },
  {
   "cell_type": "code",
   "execution_count": 7,
   "id": "f50dc2bb",
   "metadata": {
    "execution": {
     "iopub.execute_input": "2022-02-26T00:27:41.057567Z",
     "iopub.status.busy": "2022-02-26T00:27:41.049439Z",
     "iopub.status.idle": "2022-02-26T00:27:41.282300Z",
     "shell.execute_reply": "2022-02-26T00:27:41.281818Z"
    },
    "papermill": {
     "duration": 0.2664,
     "end_time": "2022-02-26T00:27:41.282436",
     "exception": false,
     "start_time": "2022-02-26T00:27:41.016036",
     "status": "completed"
    },
    "tags": []
   },
   "outputs": [],
   "source": [
    "test_images = mnist.test_images()\n",
    "test_labels = mnist.test_labels()"
   ]
  },
  {
   "cell_type": "code",
   "execution_count": 8,
   "id": "fc38cf1b",
   "metadata": {
    "execution": {
     "iopub.execute_input": "2022-02-26T00:27:41.339220Z",
     "iopub.status.busy": "2022-02-26T00:27:41.338679Z",
     "iopub.status.idle": "2022-02-26T00:27:41.352059Z",
     "shell.execute_reply": "2022-02-26T00:27:41.351621Z"
    },
    "papermill": {
     "duration": 0.042986,
     "end_time": "2022-02-26T00:27:41.352181",
     "exception": false,
     "start_time": "2022-02-26T00:27:41.309195",
     "status": "completed"
    },
    "tags": []
   },
   "outputs": [
    {
     "data": {
      "text/plain": [
       "((10000, 28, 28), (10000,))"
      ]
     },
     "execution_count": 8,
     "metadata": {},
     "output_type": "execute_result"
    }
   ],
   "source": [
    "test_images.shape, test_labels.shape"
   ]
  },
  {
   "cell_type": "code",
   "execution_count": 9,
   "id": "f9ed8fe0",
   "metadata": {
    "execution": {
     "iopub.execute_input": "2022-02-26T00:27:41.409791Z",
     "iopub.status.busy": "2022-02-26T00:27:41.407559Z",
     "iopub.status.idle": "2022-02-26T00:27:41.549255Z",
     "shell.execute_reply": "2022-02-26T00:27:41.549685Z"
    },
    "papermill": {
     "duration": 0.171849,
     "end_time": "2022-02-26T00:27:41.549841",
     "exception": false,
     "start_time": "2022-02-26T00:27:41.377992",
     "status": "completed"
    },
    "tags": []
   },
   "outputs": [
    {
     "name": "stdout",
     "output_type": "stream",
     "text": [
      "2\n"
     ]
    },
    {
     "data": {
      "text/plain": [
       "<matplotlib.image.AxesImage at 0x7f690c6ae5c0>"
      ]
     },
     "execution_count": 9,
     "metadata": {},
     "output_type": "execute_result"
    },
    {
     "data": {
      "image/png": "[encoded data removed]",
      "text/plain": [
       "<Figure size 432x288 with 1 Axes>"
      ]
     },
     "metadata": {
      "needs_background": "light"
     },
     "output_type": "display_data"
    }
   ],
   "source": [
    "image_index = 7776 # You may select anything up to 60,000\n",
    "print(train_labels[image_index]) \n",
    "plt.imshow(train_images[image_index], cmap='Greys')"
   ]
  },
  {
   "cell_type": "markdown",
   "id": "a8d2388d",
   "metadata": {
    "papermill": {
     "duration": 0.027154,
     "end_time": "2022-02-26T00:27:41.604133",
     "exception": false,
     "start_time": "2022-02-26T00:27:41.576979",
     "status": "completed"
    },
    "tags": []
   },
   "source": [
    "## Filter data to get 3 and 8 out"
   ]
  },
  {
   "cell_type": "code",
   "execution_count": 10,
   "id": "776f7fc7",
   "metadata": {
    "execution": {
     "iopub.execute_input": "2022-02-26T00:27:41.673213Z",
     "iopub.status.busy": "2022-02-26T00:27:41.672599Z",
     "iopub.status.idle": "2022-02-26T00:27:41.686866Z",
     "shell.execute_reply": "2022-02-26T00:27:41.686417Z"
    },
    "papermill": {
     "duration": 0.056127,
     "end_time": "2022-02-26T00:27:41.686991",
     "exception": false,
     "start_time": "2022-02-26T00:27:41.630864",
     "status": "completed"
    },
    "tags": []
   },
   "outputs": [],
   "source": [
    "train_filter = np.where((train_labels == 3 ) | (train_labels == 8))\n",
    "test_filter = np.where((test_labels == 3) | (test_labels == 8))\n",
    "X_train, y_train = train_images[train_filter], train_labels[train_filter]\n",
    "X_test, y_test = test_images[test_filter], test_labels[test_filter]"
   ]
  },
  {
   "cell_type": "markdown",
   "id": "948f0b7e",
   "metadata": {
    "papermill": {
     "duration": 0.026776,
     "end_time": "2022-02-26T00:27:41.740750",
     "exception": false,
     "start_time": "2022-02-26T00:27:41.713974",
     "status": "completed"
    },
    "tags": []
   },
   "source": [
    "We normalize the pizel values in the 0 to 1 range"
   ]
  },
  {
   "cell_type": "code",
   "execution_count": 11,
   "id": "ee4c2166",
   "metadata": {
    "execution": {
     "iopub.execute_input": "2022-02-26T00:27:41.801105Z",
     "iopub.status.busy": "2022-02-26T00:27:41.800534Z",
     "iopub.status.idle": "2022-02-26T00:27:41.849406Z",
     "shell.execute_reply": "2022-02-26T00:27:41.848813Z"
    },
    "papermill": {
     "duration": 0.082023,
     "end_time": "2022-02-26T00:27:41.849560",
     "exception": false,
     "start_time": "2022-02-26T00:27:41.767537",
     "status": "completed"
    },
    "tags": []
   },
   "outputs": [],
   "source": [
    "X_train = X_train/255.\n",
    "X_test = X_test/255."
   ]
  },
  {
   "cell_type": "markdown",
   "id": "ddcf4fab",
   "metadata": {
    "papermill": {
     "duration": 0.026846,
     "end_time": "2022-02-26T00:27:41.903889",
     "exception": false,
     "start_time": "2022-02-26T00:27:41.877043",
     "status": "completed"
    },
    "tags": []
   },
   "source": [
    "And setup the labels as 1 (when the digit is 3) and 0 (when the digit is 8)"
   ]
  },
  {
   "cell_type": "code",
   "execution_count": 12,
   "id": "7dc908f2",
   "metadata": {
    "execution": {
     "iopub.execute_input": "2022-02-26T00:27:41.966522Z",
     "iopub.status.busy": "2022-02-26T00:27:41.965928Z",
     "iopub.status.idle": "2022-02-26T00:27:41.976283Z",
     "shell.execute_reply": "2022-02-26T00:27:41.975807Z"
    },
    "papermill": {
     "duration": 0.045789,
     "end_time": "2022-02-26T00:27:41.976418",
     "exception": false,
     "start_time": "2022-02-26T00:27:41.930629",
     "status": "completed"
    },
    "tags": []
   },
   "outputs": [],
   "source": [
    "y_train = 1*(y_train==3)\n",
    "y_test = 1*(y_test==3)"
   ]
  },
  {
   "cell_type": "code",
   "execution_count": 13,
   "id": "01e4e969",
   "metadata": {
    "execution": {
     "iopub.execute_input": "2022-02-26T00:27:42.034340Z",
     "iopub.status.busy": "2022-02-26T00:27:42.033811Z",
     "iopub.status.idle": "2022-02-26T00:27:42.047720Z",
     "shell.execute_reply": "2022-02-26T00:27:42.047260Z"
    },
    "papermill": {
     "duration": 0.044249,
     "end_time": "2022-02-26T00:27:42.047841",
     "exception": false,
     "start_time": "2022-02-26T00:27:42.003592",
     "status": "completed"
    },
    "tags": []
   },
   "outputs": [
    {
     "data": {
      "text/plain": [
       "((11982, 28, 28), (1984, 28, 28))"
      ]
     },
     "execution_count": 13,
     "metadata": {},
     "output_type": "execute_result"
    }
   ],
   "source": [
    "X_train.shape, X_test.shape"
   ]
  },
  {
   "cell_type": "markdown",
   "id": "5ccf3f85",
   "metadata": {
    "papermill": {
     "duration": 0.027225,
     "end_time": "2022-02-26T00:27:42.102162",
     "exception": false,
     "start_time": "2022-02-26T00:27:42.074937",
     "status": "completed"
    },
    "tags": []
   },
   "source": [
    "We reshape the data to flatten the image pixels into a set of features or co-variates:"
   ]
  },
  {
   "cell_type": "code",
   "execution_count": 14,
   "id": "5286a4a3",
   "metadata": {
    "execution": {
     "iopub.execute_input": "2022-02-26T00:27:42.163188Z",
     "iopub.status.busy": "2022-02-26T00:27:42.162635Z",
     "iopub.status.idle": "2022-02-26T00:27:42.175777Z",
     "shell.execute_reply": "2022-02-26T00:27:42.176232Z"
    },
    "papermill": {
     "duration": 0.046937,
     "end_time": "2022-02-26T00:27:42.176380",
     "exception": false,
     "start_time": "2022-02-26T00:27:42.129443",
     "status": "completed"
    },
    "tags": []
   },
   "outputs": [
    {
     "data": {
      "text/plain": [
       "((11982, 784), (1984, 784))"
      ]
     },
     "execution_count": 14,
     "metadata": {},
     "output_type": "execute_result"
    }
   ],
   "source": [
    "X_train = X_train.reshape(X_train.shape[0], -1)\n",
    "X_test = X_test.reshape(X_test.shape[0], -1)\n",
    "X_train.shape, X_test.shape"
   ]
  },
  {
   "cell_type": "code",
   "execution_count": 15,
   "id": "73c5f88a",
   "metadata": {
    "execution": {
     "iopub.execute_input": "2022-02-26T00:27:42.246260Z",
     "iopub.status.busy": "2022-02-26T00:27:42.240822Z",
     "iopub.status.idle": "2022-02-26T00:27:42.256941Z",
     "shell.execute_reply": "2022-02-26T00:27:42.257404Z"
    },
    "papermill": {
     "duration": 0.053752,
     "end_time": "2022-02-26T00:27:42.257560",
     "exception": false,
     "start_time": "2022-02-26T00:27:42.203808",
     "status": "completed"
    },
    "tags": []
   },
   "outputs": [],
   "source": [
    "#Impoting functions from 'Kudzu'\n",
    "from kudzu.model import Model\n",
    "from kudzu.train import Learner\n",
    "from kudzu.optim import GD\n",
    "from kudzu.data import Data, Sampler,Dataloader\n",
    "\n",
    "from kudzu.callbacks import AccCallback\n",
    "from kudzu.callbacks import ClfCallback\n",
    "\n",
    "from kudzu.loss import MSE\n",
    "\n",
    "from kudzu.layer import Sigmoid,Relu\n",
    "from kudzu.layer import Affine"
   ]
  },
  {
   "cell_type": "markdown",
   "id": "bc01172a",
   "metadata": {
    "papermill": {
     "duration": 0.027461,
     "end_time": "2022-02-26T00:27:42.313245",
     "exception": false,
     "start_time": "2022-02-26T00:27:42.285784",
     "status": "completed"
    },
    "tags": []
   },
   "source": [
    "### Let us create a `Config` class, to store important parameters. \n",
    "This class essentially plays the role of a dictionary."
   ]
  },
  {
   "cell_type": "code",
   "execution_count": 16,
   "id": "978281aa",
   "metadata": {
    "execution": {
     "iopub.execute_input": "2022-02-26T00:27:42.375705Z",
     "iopub.status.busy": "2022-02-26T00:27:42.375140Z",
     "iopub.status.idle": "2022-02-26T00:27:42.385840Z",
     "shell.execute_reply": "2022-02-26T00:27:42.385399Z"
    },
    "papermill": {
     "duration": 0.045415,
     "end_time": "2022-02-26T00:27:42.385961",
     "exception": false,
     "start_time": "2022-02-26T00:27:42.340546",
     "status": "completed"
    },
    "tags": []
   },
   "outputs": [],
   "source": [
    "class Config:\n",
    "    pass\n",
    "config = Config()\n",
    "config.lr = 0.001\n",
    "config.num_epochs = 250\n",
    "config.bs = 50"
   ]
  },
  {
   "cell_type": "markdown",
   "id": "1385fa59",
   "metadata": {
    "papermill": {
     "duration": 0.027454,
     "end_time": "2022-02-26T00:27:42.441307",
     "exception": false,
     "start_time": "2022-02-26T00:27:42.413853",
     "status": "completed"
    },
    "tags": []
   },
   "source": [
    "### Running Models with the Training data\n",
    "Details about the network layers:\n",
    "- A first affine layer has 784 inputs and does 100 affine transforms. These are followed by a Relu\n",
    "- A second affine layer has 100 inputs from the 100 activations of the past layer, and does 100 affine transforms. These are followed by a Relu\n",
    "- A third affine layer has 100 activations and does 2 affine transformations to create an embedding for visualization. There is no non-linearity here.\n",
    "- A final \"logistic regression\" which has an affine transform from 2 inputs to 1 output, which is squeezed through a sigmoid.\n"
   ]
  },
  {
   "cell_type": "code",
   "execution_count": 17,
   "id": "2b9c66db",
   "metadata": {
    "execution": {
     "iopub.execute_input": "2022-02-26T00:27:42.501382Z",
     "iopub.status.busy": "2022-02-26T00:27:42.500791Z",
     "iopub.status.idle": "2022-02-26T00:27:42.513679Z",
     "shell.execute_reply": "2022-02-26T00:27:42.513220Z"
    },
    "papermill": {
     "duration": 0.045088,
     "end_time": "2022-02-26T00:27:42.513803",
     "exception": false,
     "start_time": "2022-02-26T00:27:42.468715",
     "status": "completed"
    },
    "tags": []
   },
   "outputs": [],
   "source": [
    "data = Data(X_train, y_train.reshape(-1,1))\n",
    "sampler = Sampler(data, config.bs, shuffle=True)\n",
    "\n",
    "dl = Dataloader(data, sampler)\n",
    "\n",
    "opt = GD(config.lr)\n",
    "loss = MSE()"
   ]
  },
  {
   "cell_type": "code",
   "execution_count": 18,
   "id": "b275e4c2",
   "metadata": {
    "execution": {
     "iopub.execute_input": "2022-02-26T00:27:42.578321Z",
     "iopub.status.busy": "2022-02-26T00:27:42.577756Z",
     "iopub.status.idle": "2022-02-26T00:27:42.587687Z",
     "shell.execute_reply": "2022-02-26T00:27:42.587225Z"
    },
    "papermill": {
     "duration": 0.046411,
     "end_time": "2022-02-26T00:27:42.587809",
     "exception": false,
     "start_time": "2022-02-26T00:27:42.541398",
     "status": "completed"
    },
    "tags": []
   },
   "outputs": [],
   "source": [
    "training_data_x = X_train\n",
    "testing_data_x = X_test\n",
    "training_data_y = y_train.reshape(-1,1)\n",
    "testing_data_y = y_test.reshape(-1,1)"
   ]
  },
  {
   "cell_type": "code",
   "execution_count": 19,
   "id": "76951160",
   "metadata": {
    "execution": {
     "iopub.execute_input": "2022-02-26T00:27:42.647017Z",
     "iopub.status.busy": "2022-02-26T00:27:42.646463Z",
     "iopub.status.idle": "2022-02-26T00:27:42.663223Z",
     "shell.execute_reply": "2022-02-26T00:27:42.662786Z"
    },
    "papermill": {
     "duration": 0.048192,
     "end_time": "2022-02-26T00:27:42.663349",
     "exception": false,
     "start_time": "2022-02-26T00:27:42.615157",
     "status": "completed"
    },
    "tags": []
   },
   "outputs": [
    {
     "name": "stdout",
     "output_type": "stream",
     "text": [
      "xavier\n",
      "xavier\n",
      "xavier\n",
      "xavier\n",
      "xavier\n"
     ]
    }
   ],
   "source": [
    "layers = [Affine(\"first\", 784, 100), Relu(\"first\"), Affine(\"second\", 100, 100), Relu(\"second\"), Affine(\"third\", 100, 2), Affine(\"last\", 2, 1), Sigmoid(\"last\")]\n",
    "model_nn = Model(layers)\n",
    "model_lr = Model([Affine(\"logits\", 784, 1), Sigmoid(\"sigmoid\")])"
   ]
  },
  {
   "cell_type": "code",
   "execution_count": 20,
   "id": "6eede77a",
   "metadata": {
    "execution": {
     "iopub.execute_input": "2022-02-26T00:27:42.732066Z",
     "iopub.status.busy": "2022-02-26T00:27:42.731496Z",
     "iopub.status.idle": "2022-02-26T00:27:42.739067Z",
     "shell.execute_reply": "2022-02-26T00:27:42.738530Z"
    },
    "papermill": {
     "duration": 0.048147,
     "end_time": "2022-02-26T00:27:42.739184",
     "exception": false,
     "start_time": "2022-02-26T00:27:42.691037",
     "status": "completed"
    },
    "tags": []
   },
   "outputs": [],
   "source": [
    "nn_learner = Learner(loss, model_nn, opt, config.num_epochs)\n",
    "acc_nn = ClfCallback(nn_learner, config.bs, training_data_x , testing_data_x, training_data_y, testing_data_y)\n",
    "nn_learner.set_callbacks([acc_nn])"
   ]
  },
  {
   "cell_type": "code",
   "execution_count": 21,
   "id": "877b6cc7",
   "metadata": {
    "execution": {
     "iopub.execute_input": "2022-02-26T00:27:42.807919Z",
     "iopub.status.busy": "2022-02-26T00:27:42.807408Z",
     "iopub.status.idle": "2022-02-26T00:27:42.814984Z",
     "shell.execute_reply": "2022-02-26T00:27:42.814572Z"
    },
    "papermill": {
     "duration": 0.048362,
     "end_time": "2022-02-26T00:27:42.815095",
     "exception": false,
     "start_time": "2022-02-26T00:27:42.766733",
     "status": "completed"
    },
    "tags": []
   },
   "outputs": [],
   "source": [
    "lr_learner = Learner(loss, model_lr, opt, config.num_epochs)\n",
    "acc_lr = ClfCallback(lr_learner, config.bs, training_data_x , testing_data_x, training_data_y, testing_data_y)\n",
    "lr_learner.set_callbacks([acc_lr])"
   ]
  },
  {
   "cell_type": "code",
   "execution_count": 22,
   "id": "d9b133c3",
   "metadata": {
    "execution": {
     "iopub.execute_input": "2022-02-26T00:27:42.882428Z",
     "iopub.status.busy": "2022-02-26T00:27:42.881833Z",
     "iopub.status.idle": "2022-02-26T00:28:59.530304Z",
     "shell.execute_reply": "2022-02-26T00:28:59.530750Z"
    },
    "papermill": {
     "duration": 76.687599,
     "end_time": "2022-02-26T00:28:59.530897",
     "exception": false,
     "start_time": "2022-02-26T00:27:42.843298",
     "status": "completed"
    },
    "tags": []
   },
   "outputs": [
    {
     "name": "stdout",
     "output_type": "stream",
     "text": [
      "Epoch 0, Loss 0.2424\n",
      "Training Accuracy: 0.6884, Testing Accuracy: 0.6915\n",
      "\n"
     ]
    },
    {
     "name": "stdout",
     "output_type": "stream",
     "text": [
      "Epoch 10, Loss 0.1061\n",
      "Training Accuracy: 0.9145, Testing Accuracy: 0.9234\n",
      "\n"
     ]
    },
    {
     "name": "stdout",
     "output_type": "stream",
     "text": [
      "Epoch 20, Loss 0.0607\n",
      "Training Accuracy: 0.9382, Testing Accuracy: 0.9481\n",
      "\n"
     ]
    },
    {
     "name": "stdout",
     "output_type": "stream",
     "text": [
      "Epoch 30, Loss 0.0467\n",
      "Training Accuracy: 0.9502, Testing Accuracy: 0.9572\n",
      "\n"
     ]
    },
    {
     "name": "stdout",
     "output_type": "stream",
     "text": [
      "Epoch 40, Loss 0.0398\n",
      "Training Accuracy: 0.9556, Testing Accuracy: 0.9627\n",
      "\n"
     ]
    },
    {
     "name": "stdout",
     "output_type": "stream",
     "text": [
      "Epoch 50, Loss 0.0357\n",
      "Training Accuracy: 0.9599, Testing Accuracy: 0.9667\n",
      "\n"
     ]
    },
    {
     "name": "stdout",
     "output_type": "stream",
     "text": [
      "Epoch 60, Loss 0.0329\n",
      "Training Accuracy: 0.9623, Testing Accuracy: 0.9693\n",
      "\n"
     ]
    },
    {
     "name": "stdout",
     "output_type": "stream",
     "text": [
      "Epoch 70, Loss 0.0308\n",
      "Training Accuracy: 0.9642, Testing Accuracy: 0.9718\n",
      "\n"
     ]
    },
    {
     "name": "stdout",
     "output_type": "stream",
     "text": [
      "Epoch 80, Loss 0.0291\n",
      "Training Accuracy: 0.9660, Testing Accuracy: 0.9718\n",
      "\n"
     ]
    },
    {
     "name": "stdout",
     "output_type": "stream",
     "text": [
      "Epoch 90, Loss 0.0278\n",
      "Training Accuracy: 0.9674, Testing Accuracy: 0.9733\n",
      "\n"
     ]
    },
    {
     "name": "stdout",
     "output_type": "stream",
     "text": [
      "Epoch 100, Loss 0.0266\n",
      "Training Accuracy: 0.9680, Testing Accuracy: 0.9738\n",
      "\n"
     ]
    },
    {
     "name": "stdout",
     "output_type": "stream",
     "text": [
      "Epoch 110, Loss 0.0256\n",
      "Training Accuracy: 0.9695, Testing Accuracy: 0.9738\n",
      "\n"
     ]
    },
    {
     "name": "stdout",
     "output_type": "stream",
     "text": [
      "Epoch 120, Loss 0.0247\n",
      "Training Accuracy: 0.9704, Testing Accuracy: 0.9723\n",
      "\n"
     ]
    },
    {
     "name": "stdout",
     "output_type": "stream",
     "text": [
      "Epoch 130, Loss 0.0239\n",
      "Training Accuracy: 0.9719, Testing Accuracy: 0.9718\n",
      "\n"
     ]
    },
    {
     "name": "stdout",
     "output_type": "stream",
     "text": [
      "Epoch 140, Loss 0.0232\n",
      "Training Accuracy: 0.9727, Testing Accuracy: 0.9718\n",
      "\n"
     ]
    },
    {
     "name": "stdout",
     "output_type": "stream",
     "text": [
      "Epoch 150, Loss 0.0225\n",
      "Training Accuracy: 0.9735, Testing Accuracy: 0.9723\n",
      "\n"
     ]
    },
    {
     "name": "stdout",
     "output_type": "stream",
     "text": [
      "Epoch 160, Loss 0.0219\n",
      "Training Accuracy: 0.9743, Testing Accuracy: 0.9723\n",
      "\n"
     ]
    },
    {
     "name": "stdout",
     "output_type": "stream",
     "text": [
      "Epoch 170, Loss 0.0213\n",
      "Training Accuracy: 0.9750, Testing Accuracy: 0.9723\n",
      "\n"
     ]
    },
    {
     "name": "stdout",
     "output_type": "stream",
     "text": [
      "Epoch 180, Loss 0.0208\n",
      "Training Accuracy: 0.9758, Testing Accuracy: 0.9723\n",
      "\n"
     ]
    },
    {
     "name": "stdout",
     "output_type": "stream",
     "text": [
      "Epoch 190, Loss 0.0203\n",
      "Training Accuracy: 0.9766, Testing Accuracy: 0.9733\n",
      "\n"
     ]
    },
    {
     "name": "stdout",
     "output_type": "stream",
     "text": [
      "Epoch 200, Loss 0.0198\n",
      "Training Accuracy: 0.9776, Testing Accuracy: 0.9733\n",
      "\n"
     ]
    },
    {
     "name": "stdout",
     "output_type": "stream",
     "text": [
      "Epoch 210, Loss 0.0193\n",
      "Training Accuracy: 0.9784, Testing Accuracy: 0.9738\n",
      "\n"
     ]
    },
    {
     "name": "stdout",
     "output_type": "stream",
     "text": [
      "Epoch 220, Loss 0.0189\n",
      "Training Accuracy: 0.9792, Testing Accuracy: 0.9753\n",
      "\n"
     ]
    },
    {
     "name": "stdout",
     "output_type": "stream",
     "text": [
      "Epoch 230, Loss 0.0185\n",
      "Training Accuracy: 0.9800, Testing Accuracy: 0.9753\n",
      "\n"
     ]
    },
    {
     "name": "stdout",
     "output_type": "stream",
     "text": [
      "Epoch 240, Loss 0.0181\n",
      "Training Accuracy: 0.9806, Testing Accuracy: 0.9758\n",
      "\n"
     ]
    },
    {
     "data": {
      "text/plain": [
       "0.001236815427867342"
      ]
     },
     "execution_count": 22,
     "metadata": {},
     "output_type": "execute_result"
    }
   ],
   "source": [
    "nn_learner.train_loop(dl)"
   ]
  },
  {
   "cell_type": "code",
   "execution_count": 23,
   "id": "e0163366",
   "metadata": {
    "execution": {
     "iopub.execute_input": "2022-02-26T00:28:59.610508Z",
     "iopub.status.busy": "2022-02-26T00:28:59.609973Z",
     "iopub.status.idle": "2022-02-26T00:29:13.279368Z",
     "shell.execute_reply": "2022-02-26T00:29:13.280177Z"
    },
    "papermill": {
     "duration": 13.714602,
     "end_time": "2022-02-26T00:29:13.280339",
     "exception": false,
     "start_time": "2022-02-26T00:28:59.565737",
     "status": "completed"
    },
    "tags": []
   },
   "outputs": [
    {
     "name": "stdout",
     "output_type": "stream",
     "text": [
      "Epoch 0, Loss 0.2347\n",
      "Training Accuracy: 0.6710, Testing Accuracy: 0.6583\n",
      "\n"
     ]
    },
    {
     "name": "stdout",
     "output_type": "stream",
     "text": [
      "Epoch 10, Loss 0.1071\n",
      "Training Accuracy: 0.8948, Testing Accuracy: 0.9007\n",
      "\n"
     ]
    },
    {
     "name": "stdout",
     "output_type": "stream",
     "text": [
      "Epoch 20, Loss 0.0811\n",
      "Training Accuracy: 0.9225, Testing Accuracy: 0.9294\n",
      "\n"
     ]
    },
    {
     "name": "stdout",
     "output_type": "stream",
     "text": [
      "Epoch 30, Loss 0.0692\n",
      "Training Accuracy: 0.9334, Testing Accuracy: 0.9430\n",
      "\n"
     ]
    },
    {
     "name": "stdout",
     "output_type": "stream",
     "text": [
      "Epoch 40, Loss 0.0621\n",
      "Training Accuracy: 0.9417, Testing Accuracy: 0.9486\n",
      "\n"
     ]
    },
    {
     "name": "stdout",
     "output_type": "stream",
     "text": [
      "Epoch 50, Loss 0.0574\n",
      "Training Accuracy: 0.9465, Testing Accuracy: 0.9526\n",
      "\n"
     ]
    },
    {
     "name": "stdout",
     "output_type": "stream",
     "text": [
      "Epoch 60, Loss 0.054\n",
      "Training Accuracy: 0.9489, Testing Accuracy: 0.9546\n",
      "\n"
     ]
    },
    {
     "name": "stdout",
     "output_type": "stream",
     "text": [
      "Epoch 70, Loss 0.0514\n",
      "Training Accuracy: 0.9509, Testing Accuracy: 0.9541\n",
      "\n"
     ]
    },
    {
     "name": "stdout",
     "output_type": "stream",
     "text": [
      "Epoch 80, Loss 0.0493\n",
      "Training Accuracy: 0.9527, Testing Accuracy: 0.9556\n",
      "\n"
     ]
    },
    {
     "name": "stdout",
     "output_type": "stream",
     "text": [
      "Epoch 90, Loss 0.0476\n",
      "Training Accuracy: 0.9538, Testing Accuracy: 0.9572\n",
      "\n"
     ]
    },
    {
     "name": "stdout",
     "output_type": "stream",
     "text": [
      "Epoch 100, Loss 0.0461\n",
      "Training Accuracy: 0.9543, Testing Accuracy: 0.9602\n",
      "\n"
     ]
    },
    {
     "name": "stdout",
     "output_type": "stream",
     "text": [
      "Epoch 110, Loss 0.0449\n",
      "Training Accuracy: 0.9554, Testing Accuracy: 0.9602\n",
      "\n"
     ]
    },
    {
     "name": "stdout",
     "output_type": "stream",
     "text": [
      "Epoch 120, Loss 0.0438\n",
      "Training Accuracy: 0.9558, Testing Accuracy: 0.9607\n",
      "\n"
     ]
    },
    {
     "name": "stdout",
     "output_type": "stream",
     "text": [
      "Epoch 130, Loss 0.0429\n",
      "Training Accuracy: 0.9564, Testing Accuracy: 0.9617\n",
      "\n"
     ]
    },
    {
     "name": "stdout",
     "output_type": "stream",
     "text": [
      "Epoch 140, Loss 0.042\n",
      "Training Accuracy: 0.9570, Testing Accuracy: 0.9612\n",
      "\n"
     ]
    },
    {
     "name": "stdout",
     "output_type": "stream",
     "text": [
      "Epoch 150, Loss 0.0413\n",
      "Training Accuracy: 0.9575, Testing Accuracy: 0.9617\n",
      "\n"
     ]
    },
    {
     "name": "stdout",
     "output_type": "stream",
     "text": [
      "Epoch 160, Loss 0.0406\n",
      "Training Accuracy: 0.9579, Testing Accuracy: 0.9627\n",
      "\n"
     ]
    },
    {
     "name": "stdout",
     "output_type": "stream",
     "text": [
      "Epoch 170, Loss 0.04\n",
      "Training Accuracy: 0.9587, Testing Accuracy: 0.9637\n",
      "\n"
     ]
    },
    {
     "name": "stdout",
     "output_type": "stream",
     "text": [
      "Epoch 180, Loss 0.0395\n",
      "Training Accuracy: 0.9590, Testing Accuracy: 0.9642\n",
      "\n"
     ]
    },
    {
     "name": "stdout",
     "output_type": "stream",
     "text": [
      "Epoch 190, Loss 0.0389\n",
      "Training Accuracy: 0.9596, Testing Accuracy: 0.9647\n",
      "\n"
     ]
    },
    {
     "name": "stdout",
     "output_type": "stream",
     "text": [
      "Epoch 200, Loss 0.0385\n",
      "Training Accuracy: 0.9599, Testing Accuracy: 0.9652\n",
      "\n"
     ]
    },
    {
     "name": "stdout",
     "output_type": "stream",
     "text": [
      "Epoch 210, Loss 0.038\n",
      "Training Accuracy: 0.9599, Testing Accuracy: 0.9657\n",
      "\n"
     ]
    },
    {
     "name": "stdout",
     "output_type": "stream",
     "text": [
      "Epoch 220, Loss 0.0376\n",
      "Training Accuracy: 0.9602, Testing Accuracy: 0.9662\n",
      "\n"
     ]
    },
    {
     "name": "stdout",
     "output_type": "stream",
     "text": [
      "Epoch 230, Loss 0.0372\n",
      "Training Accuracy: 0.9603, Testing Accuracy: 0.9662\n",
      "\n"
     ]
    },
    {
     "name": "stdout",
     "output_type": "stream",
     "text": [
      "Epoch 240, Loss 0.0369\n",
      "Training Accuracy: 0.9604, Testing Accuracy: 0.9662\n",
      "\n"
     ]
    },
    {
     "data": {
      "text/plain": [
       "0.031054049497989324"
      ]
     },
     "execution_count": 23,
     "metadata": {},
     "output_type": "execute_result"
    }
   ],
   "source": [
    "lr_learner.train_loop(dl)"
   ]
  },
  {
   "cell_type": "code",
   "execution_count": 24,
   "id": "ca410940",
   "metadata": {
    "execution": {
     "iopub.execute_input": "2022-02-26T00:29:13.377037Z",
     "iopub.status.busy": "2022-02-26T00:29:13.375300Z",
     "iopub.status.idle": "2022-02-26T00:29:13.606814Z",
     "shell.execute_reply": "2022-02-26T00:29:13.606366Z"
    },
    "papermill": {
     "duration": 0.282576,
     "end_time": "2022-02-26T00:29:13.606944",
     "exception": false,
     "start_time": "2022-02-26T00:29:13.324368",
     "status": "completed"
    },
    "tags": []
   },
   "outputs": [
    {
     "data": {
      "text/plain": [
       "<matplotlib.legend.Legend at 0x7f690c28bcc0>"
      ]
     },
     "execution_count": 24,
     "metadata": {},
     "output_type": "execute_result"
    },
    {
     "data": {
      "image/png": "[encoded data removed]",
      "text/plain": [
       "<Figure size 1080x720 with 1 Axes>"
      ]
     },
     "metadata": {
      "needs_background": "light"
     },
     "output_type": "display_data"
    }
   ],
   "source": [
    "#comparing the results of NN and LR\n",
    "plt.figure(figsize=(15,10))\n",
    "\n",
    "# Neural Network plots\n",
    "plt.plot(acc_nn.accuracies, 'r-', label = \"Training Accuracies - NN\")\n",
    "plt.plot(acc_nn.test_accuracies, 'g-', label = \"Testing Accuracies - NN\")\n",
    "\n",
    "# Logistic Regression plots\n",
    "plt.plot(acc_lr.accuracies, 'k-', label = \"Training Accuracies - LR\")\n",
    "plt.plot(acc_lr.test_accuracies, 'b-', label = \"Testing Accuracies - LR\")\n",
    "plt.legend()"
   ]
  },
  {
   "cell_type": "markdown",
   "id": "80dfb35c",
   "metadata": {
    "papermill": {
     "duration": 0.042133,
     "end_time": "2022-02-26T00:29:13.691998",
     "exception": false,
     "start_time": "2022-02-26T00:29:13.649865",
     "status": "completed"
    },
    "tags": []
   },
   "source": [
    "#### Plotting the outputs of this layer of the NN.\n"
   ]
  },
  {
   "cell_type": "code",
   "execution_count": 25,
   "id": "45eb2ff5",
   "metadata": {
    "execution": {
     "iopub.execute_input": "2022-02-26T00:29:13.780753Z",
     "iopub.status.busy": "2022-02-26T00:29:13.779832Z",
     "iopub.status.idle": "2022-02-26T00:29:13.801162Z",
     "shell.execute_reply": "2022-02-26T00:29:13.801591Z"
    },
    "papermill": {
     "duration": 0.067486,
     "end_time": "2022-02-26T00:29:13.801728",
     "exception": false,
     "start_time": "2022-02-26T00:29:13.734242",
     "status": "completed"
    },
    "tags": []
   },
   "outputs": [],
   "source": [
    "new_model = Model(layers[:-2])\n",
    "testing_plot = new_model(testing_data_x)"
   ]
  },
  {
   "cell_type": "code",
   "execution_count": 26,
   "id": "4c0a5485",
   "metadata": {
    "execution": {
     "iopub.execute_input": "2022-02-26T00:29:13.898218Z",
     "iopub.status.busy": "2022-02-26T00:29:13.897691Z",
     "iopub.status.idle": "2022-02-26T00:29:14.098284Z",
     "shell.execute_reply": "2022-02-26T00:29:14.097781Z"
    },
    "papermill": {
     "duration": 0.253825,
     "end_time": "2022-02-26T00:29:14.098425",
     "exception": false,
     "start_time": "2022-02-26T00:29:13.844600",
     "status": "completed"
    },
    "tags": []
   },
   "outputs": [
    {
     "data": {
      "text/plain": [
       "Text(0.5, 1.0, 'Outputs')"
      ]
     },
     "execution_count": 26,
     "metadata": {},
     "output_type": "execute_result"
    },
    {
     "data": {
      "image/png": "[encoded data removed]",
      "text/plain": [
       "<Figure size 576x504 with 1 Axes>"
      ]
     },
     "metadata": {
      "needs_background": "light"
     },
     "output_type": "display_data"
    }
   ],
   "source": [
    "# Plotting the scatter plot of points and color coding by class\n",
    "plt.figure(figsize=(8,7))\n",
    "plt.scatter(testing_plot[:,0], testing_plot[:,1], alpha = 0.1, c = y_test.ravel());\n",
    "plt.title('Outputs')"
   ]
  },
  {
   "cell_type": "markdown",
   "id": "a74fcf8f",
   "metadata": {
    "papermill": {
     "duration": 0.04428,
     "end_time": "2022-02-26T00:29:14.187686",
     "exception": false,
     "start_time": "2022-02-26T00:29:14.143406",
     "status": "completed"
    },
    "tags": []
   },
   "source": [
    "Probability contours"
   ]
  },
  {
   "cell_type": "code",
   "execution_count": 27,
   "id": "d0afc8e3",
   "metadata": {
    "execution": {
     "iopub.execute_input": "2022-02-26T00:29:14.286342Z",
     "iopub.status.busy": "2022-02-26T00:29:14.285810Z",
     "iopub.status.idle": "2022-02-26T00:29:14.294533Z",
     "shell.execute_reply": "2022-02-26T00:29:14.294920Z"
    },
    "papermill": {
     "duration": 0.062845,
     "end_time": "2022-02-26T00:29:14.295053",
     "exception": false,
     "start_time": "2022-02-26T00:29:14.232208",
     "status": "completed"
    },
    "tags": []
   },
   "outputs": [],
   "source": [
    "model_prob = Model(layers[-2:]) "
   ]
  },
  {
   "cell_type": "code",
   "execution_count": 28,
   "id": "9b96e238",
   "metadata": {
    "execution": {
     "iopub.execute_input": "2022-02-26T00:29:14.392947Z",
     "iopub.status.busy": "2022-02-26T00:29:14.392333Z",
     "iopub.status.idle": "2022-02-26T00:29:14.404108Z",
     "shell.execute_reply": "2022-02-26T00:29:14.404499Z"
    },
    "papermill": {
     "duration": 0.065203,
     "end_time": "2022-02-26T00:29:14.404633",
     "exception": false,
     "start_time": "2022-02-26T00:29:14.339430",
     "status": "completed"
    },
    "tags": []
   },
   "outputs": [],
   "source": [
    "#creating the x and y ranges according to the above generated plot.\n",
    "x_range = np.linspace(-4, 1, 100) \n",
    "y_range = np.linspace(-6, 6, 100) \n",
    "x_grid, y_grid = np.meshgrid(x_range, y_range) # x_grid and y_grig are of size 100 X 100\n",
    "\n",
    "# converting x_grid and y_grid to continuous arrays\n",
    "x_gridflat = np.ravel(x_grid)\n",
    "y_gridflat = np.ravel(y_grid)\n",
    "\n",
    "# The last layer of the current model takes two columns as input. Hence transpose of np.vstack() is required.\n",
    "X = np.vstack((x_gridflat, y_gridflat)).T\n",
    "\n",
    "prob_contour = model_prob(X).reshape(100,100) "
   ]
  },
  {
   "cell_type": "code",
   "execution_count": 29,
   "id": "da72499a",
   "metadata": {
    "execution": {
     "iopub.execute_input": "2022-02-26T00:29:14.552827Z",
     "iopub.status.busy": "2022-02-26T00:29:14.552295Z",
     "iopub.status.idle": "2022-02-26T00:29:14.787554Z",
     "shell.execute_reply": "2022-02-26T00:29:14.787949Z"
    },
    "papermill": {
     "duration": 0.310289,
     "end_time": "2022-02-26T00:29:14.788099",
     "exception": false,
     "start_time": "2022-02-26T00:29:14.477810",
     "status": "completed"
    },
    "tags": []
   },
   "outputs": [
    {
     "data": {
      "image/png": "[encoded data removed]",
      "text/plain": [
       "<Figure size 720x648 with 1 Axes>"
      ]
     },
     "metadata": {
      "needs_background": "light"
     },
     "output_type": "display_data"
    }
   ],
   "source": [
    "plt.figure(figsize=(10,9))\n",
    "plt.scatter(testing_plot[:,0], testing_plot[:,1], alpha = 0.1, c = y_test.ravel())\n",
    "contours = plt.contour(x_grid,y_grid,prob_contour)\n",
    "plt.title('Probability Contours')\n",
    "plt.clabel(contours, inline = True );"
   ]
  },
  {
   "cell_type": "code",
   "execution_count": null,
   "id": "e81b4ac7",
   "metadata": {
    "papermill": {
     "duration": 0.047344,
     "end_time": "2022-02-26T00:29:14.883085",
     "exception": false,
     "start_time": "2022-02-26T00:29:14.835741",
     "status": "completed"
    },
    "tags": []
   },
   "outputs": [],
   "source": []
  }
 ],
 "metadata": {
  "kernelspec": {
   "display_name": "Python 3",
   "language": "python",
   "name": "python3"
  },
  "language_info": {
   "codemirror_mode": {
    "name": "ipython",
    "version": 3
   },
   "file_extension": ".py",
   "mimetype": "text/x-python",
   "name": "python",
   "nbconvert_exporter": "python",
   "pygments_lexer": "ipython3",
   "version": "3.6.15"
  },
  "papermill": {
   "default_parameters": {},
   "duration": 98.796209,
   "end_time": "2022-02-26T00:29:15.348939",
   "environment_variables": {},
   "exception": null,
   "input_path": "2020-08-11-part2.ipynb",
   "output_path": "2020-08-11-part2.ipynb",
   "parameters": {},
   "start_time": "2022-02-26T00:27:36.552730",
   "version": "2.3.3"
  }
 },
 "nbformat": 4,
 "nbformat_minor": 5
}