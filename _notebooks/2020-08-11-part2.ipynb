{
 "cells": [
  {
   "cell_type": "markdown",
   "id": "98380cd3",
   "metadata": {
    "papermill": {
     "duration": 0.03958,
     "end_time": "2022-09-10T20:10:57.302717",
     "exception": false,
     "start_time": "2022-09-10T20:10:57.263137",
     "status": "completed"
    },
    "tags": []
   },
   "source": [
    "# Distinguish Your Own Digits (DYOD)"
   ]
  },
  {
   "cell_type": "markdown",
   "id": "ef31240d",
   "metadata": {
    "papermill": {
     "duration": 0.028476,
     "end_time": "2022-09-10T20:10:57.363270",
     "exception": false,
     "start_time": "2022-09-10T20:10:57.334794",
     "status": "completed"
    },
    "tags": []
   },
   "source": [
    "You are going to write a classifier that distinguishes between the number 3 and number 8."
   ]
  },
  {
   "cell_type": "code",
   "execution_count": 1,
   "id": "b15c8646",
   "metadata": {
    "execution": {
     "iopub.execute_input": "2022-09-10T20:10:57.430259Z",
     "iopub.status.busy": "2022-09-10T20:10:57.429532Z",
     "iopub.status.idle": "2022-09-10T20:10:57.441006Z",
     "shell.execute_reply": "2022-09-10T20:10:57.440455Z"
    },
    "papermill": {
     "duration": 0.050004,
     "end_time": "2022-09-10T20:10:57.441145",
     "exception": false,
     "start_time": "2022-09-10T20:10:57.391141",
     "status": "completed"
    },
    "tags": []
   },
   "outputs": [],
   "source": [
    "%load_ext autoreload\n",
    "%autoreload 2"
   ]
  },
  {
   "cell_type": "code",
   "execution_count": 2,
   "id": "22ef38dc",
   "metadata": {
    "execution": {
     "iopub.execute_input": "2022-09-10T20:10:57.500461Z",
     "iopub.status.busy": "2022-09-10T20:10:57.499798Z",
     "iopub.status.idle": "2022-09-10T20:10:58.067526Z",
     "shell.execute_reply": "2022-09-10T20:10:58.066923Z"
    },
    "papermill": {
     "duration": 0.599978,
     "end_time": "2022-09-10T20:10:58.067667",
     "exception": false,
     "start_time": "2022-09-10T20:10:57.467689",
     "status": "completed"
    },
    "tags": []
   },
   "outputs": [],
   "source": [
    "%matplotlib inline\n",
    "import numpy as np\n",
    "import matplotlib.pyplot as plt\n",
    "import pandas as pd"
   ]
  },
  {
   "cell_type": "markdown",
   "id": "ba036198",
   "metadata": {
    "papermill": {
     "duration": 0.027847,
     "end_time": "2022-09-10T20:10:58.123210",
     "exception": false,
     "start_time": "2022-09-10T20:10:58.095363",
     "status": "completed"
    },
    "tags": []
   },
   "source": [
    "From the command line run `pip install mnist`. This is a library that will help you bring down the mnist dataset. If you run this from a notebook, you need to put  `!pip install mnist` in a cell by itself."
   ]
  },
  {
   "cell_type": "code",
   "execution_count": 3,
   "id": "bb6ad8a1",
   "metadata": {
    "execution": {
     "iopub.execute_input": "2022-09-10T20:10:58.186631Z",
     "iopub.status.busy": "2022-09-10T20:10:58.185983Z",
     "iopub.status.idle": "2022-09-10T20:11:00.015437Z",
     "shell.execute_reply": "2022-09-10T20:11:00.014778Z"
    },
    "papermill": {
     "duration": 1.864982,
     "end_time": "2022-09-10T20:11:00.015581",
     "exception": false,
     "start_time": "2022-09-10T20:10:58.150599",
     "status": "completed"
    },
    "tags": []
   },
   "outputs": [
    {
     "name": "stdout",
     "output_type": "stream",
     "text": [
      "Collecting mnist\r\n"
     ]
    },
    {
     "name": "stdout",
     "output_type": "stream",
     "text": [
      "  Downloading mnist-0.2.2-py2.py3-none-any.whl (3.5 kB)\r\n",
      "Requirement already satisfied: numpy in /opt/hostedtoolcache/Python/3.6.15/x64/lib/python3.6/site-packages (from mnist) (1.19.5)\r\n"
     ]
    },
    {
     "name": "stdout",
     "output_type": "stream",
     "text": [
      "Installing collected packages: mnist\r\n"
     ]
    },
    {
     "name": "stdout",
     "output_type": "stream",
     "text": [
      "Successfully installed mnist-0.2.2\r\n"
     ]
    }
   ],
   "source": [
    "!pip install mnist"
   ]
  },
  {
   "cell_type": "markdown",
   "id": "69df9c9a",
   "metadata": {
    "papermill": {
     "duration": 0.028693,
     "end_time": "2022-09-10T20:11:00.073051",
     "exception": false,
     "start_time": "2022-09-10T20:11:00.044358",
     "status": "completed"
    },
    "tags": []
   },
   "source": [
    "## Preparing the Data"
   ]
  },
  {
   "cell_type": "code",
   "execution_count": 4,
   "id": "7f69d806",
   "metadata": {
    "execution": {
     "iopub.execute_input": "2022-09-10T20:11:00.153071Z",
     "iopub.status.busy": "2022-09-10T20:11:00.144584Z",
     "iopub.status.idle": "2022-09-10T20:11:00.157448Z",
     "shell.execute_reply": "2022-09-10T20:11:00.156578Z"
    },
    "papermill": {
     "duration": 0.051891,
     "end_time": "2022-09-10T20:11:00.157567",
     "exception": false,
     "start_time": "2022-09-10T20:11:00.105676",
     "status": "completed"
    },
    "tags": []
   },
   "outputs": [],
   "source": [
    "import mnist"
   ]
  },
  {
   "cell_type": "code",
   "execution_count": 5,
   "id": "a411e44f",
   "metadata": {
    "execution": {
     "iopub.execute_input": "2022-09-10T20:11:00.232616Z",
     "iopub.status.busy": "2022-09-10T20:11:00.223945Z",
     "iopub.status.idle": "2022-09-10T20:11:00.753041Z",
     "shell.execute_reply": "2022-09-10T20:11:00.752040Z"
    },
    "papermill": {
     "duration": 0.567803,
     "end_time": "2022-09-10T20:11:00.753180",
     "exception": false,
     "start_time": "2022-09-10T20:11:00.185377",
     "status": "completed"
    },
    "tags": []
   },
   "outputs": [],
   "source": [
    "train_images = mnist.train_images()\n",
    "train_labels = mnist.train_labels()"
   ]
  },
  {
   "cell_type": "code",
   "execution_count": 6,
   "id": "dceab3a5",
   "metadata": {
    "execution": {
     "iopub.execute_input": "2022-09-10T20:11:00.821972Z",
     "iopub.status.busy": "2022-09-10T20:11:00.820999Z",
     "iopub.status.idle": "2022-09-10T20:11:00.832350Z",
     "shell.execute_reply": "2022-09-10T20:11:00.831502Z"
    },
    "papermill": {
     "duration": 0.051377,
     "end_time": "2022-09-10T20:11:00.832465",
     "exception": false,
     "start_time": "2022-09-10T20:11:00.781088",
     "status": "completed"
    },
    "tags": []
   },
   "outputs": [
    {
     "data": {
      "text/plain": [
       "((60000, 28, 28), (60000,))"
      ]
     },
     "execution_count": 6,
     "metadata": {},
     "output_type": "execute_result"
    }
   ],
   "source": [
    "train_images.shape, train_labels.shape"
   ]
  },
  {
   "cell_type": "code",
   "execution_count": 7,
   "id": "f50dc2bb",
   "metadata": {
    "execution": {
     "iopub.execute_input": "2022-09-10T20:11:00.902068Z",
     "iopub.status.busy": "2022-09-10T20:11:00.900412Z",
     "iopub.status.idle": "2022-09-10T20:11:01.070253Z",
     "shell.execute_reply": "2022-09-10T20:11:01.069558Z"
    },
    "papermill": {
     "duration": 0.208613,
     "end_time": "2022-09-10T20:11:01.070411",
     "exception": false,
     "start_time": "2022-09-10T20:11:00.861798",
     "status": "completed"
    },
    "tags": []
   },
   "outputs": [],
   "source": [
    "test_images = mnist.test_images()\n",
    "test_labels = mnist.test_labels()"
   ]
  },
  {
   "cell_type": "code",
   "execution_count": 8,
   "id": "fc38cf1b",
   "metadata": {
    "execution": {
     "iopub.execute_input": "2022-09-10T20:11:01.146208Z",
     "iopub.status.busy": "2022-09-10T20:11:01.145446Z",
     "iopub.status.idle": "2022-09-10T20:11:01.158249Z",
     "shell.execute_reply": "2022-09-10T20:11:01.157694Z"
    },
    "papermill": {
     "duration": 0.053381,
     "end_time": "2022-09-10T20:11:01.158376",
     "exception": false,
     "start_time": "2022-09-10T20:11:01.104995",
     "status": "completed"
    },
    "tags": []
   },
   "outputs": [
    {
     "data": {
      "text/plain": [
       "((10000, 28, 28), (10000,))"
      ]
     },
     "execution_count": 8,
     "metadata": {},
     "output_type": "execute_result"
    }
   ],
   "source": [
    "test_images.shape, test_labels.shape"
   ]
  },
  {
   "cell_type": "code",
   "execution_count": 9,
   "id": "f9ed8fe0",
   "metadata": {
    "execution": {
     "iopub.execute_input": "2022-09-10T20:11:01.226801Z",
     "iopub.status.busy": "2022-09-10T20:11:01.226137Z",
     "iopub.status.idle": "2022-09-10T20:11:01.391446Z",
     "shell.execute_reply": "2022-09-10T20:11:01.390452Z"
    },
    "papermill": {
     "duration": 0.20426,
     "end_time": "2022-09-10T20:11:01.391585",
     "exception": false,
     "start_time": "2022-09-10T20:11:01.187325",
     "status": "completed"
    },
    "tags": []
   },
   "outputs": [
    {
     "name": "stdout",
     "output_type": "stream",
     "text": [
      "2\n"
     ]
    },
    {
     "data": {
      "text/plain": [
       "<matplotlib.image.AxesImage at 0x7f3b62400cc0>"
      ]
     },
     "execution_count": 9,
     "metadata": {},
     "output_type": "execute_result"
    },
    {
     "data": {
      "image/png": "[encoded data removed]",
      "text/plain": [
       "<Figure size 432x288 with 1 Axes>"
      ]
     },
     "metadata": {
      "needs_background": "light"
     },
     "output_type": "display_data"
    }
   ],
   "source": [
    "image_index = 7776 # You may select anything up to 60,000\n",
    "print(train_labels[image_index]) \n",
    "plt.imshow(train_images[image_index], cmap='Greys')"
   ]
  },
  {
   "cell_type": "markdown",
   "id": "a8d2388d",
   "metadata": {
    "papermill": {
     "duration": 0.033265,
     "end_time": "2022-09-10T20:11:01.458794",
     "exception": false,
     "start_time": "2022-09-10T20:11:01.425529",
     "status": "completed"
    },
    "tags": []
   },
   "source": [
    "## Filter data to get 3 and 8 out"
   ]
  },
  {
   "cell_type": "code",
   "execution_count": 10,
   "id": "776f7fc7",
   "metadata": {
    "execution": {
     "iopub.execute_input": "2022-09-10T20:11:01.537306Z",
     "iopub.status.busy": "2022-09-10T20:11:01.534272Z",
     "iopub.status.idle": "2022-09-10T20:11:01.553899Z",
     "shell.execute_reply": "2022-09-10T20:11:01.554485Z"
    },
    "papermill": {
     "duration": 0.063962,
     "end_time": "2022-09-10T20:11:01.554656",
     "exception": false,
     "start_time": "2022-09-10T20:11:01.490694",
     "status": "completed"
    },
    "tags": []
   },
   "outputs": [],
   "source": [
    "train_filter = np.where((train_labels == 3 ) | (train_labels == 8))\n",
    "test_filter = np.where((test_labels == 3) | (test_labels == 8))\n",
    "X_train, y_train = train_images[train_filter], train_labels[train_filter]\n",
    "X_test, y_test = test_images[test_filter], test_labels[test_filter]"
   ]
  },
  {
   "cell_type": "markdown",
   "id": "948f0b7e",
   "metadata": {
    "papermill": {
     "duration": 0.03026,
     "end_time": "2022-09-10T20:11:01.619400",
     "exception": false,
     "start_time": "2022-09-10T20:11:01.589140",
     "status": "completed"
    },
    "tags": []
   },
   "source": [
    "We normalize the pizel values in the 0 to 1 range"
   ]
  },
  {
   "cell_type": "code",
   "execution_count": 11,
   "id": "ee4c2166",
   "metadata": {
    "execution": {
     "iopub.execute_input": "2022-09-10T20:11:01.701065Z",
     "iopub.status.busy": "2022-09-10T20:11:01.700003Z",
     "iopub.status.idle": "2022-09-10T20:11:01.753898Z",
     "shell.execute_reply": "2022-09-10T20:11:01.753323Z"
    },
    "papermill": {
     "duration": 0.104025,
     "end_time": "2022-09-10T20:11:01.754037",
     "exception": false,
     "start_time": "2022-09-10T20:11:01.650012",
     "status": "completed"
    },
    "tags": []
   },
   "outputs": [],
   "source": [
    "X_train = X_train/255.\n",
    "X_test = X_test/255."
   ]
  },
  {
   "cell_type": "markdown",
   "id": "ddcf4fab",
   "metadata": {
    "papermill": {
     "duration": 0.031082,
     "end_time": "2022-09-10T20:11:01.815897",
     "exception": false,
     "start_time": "2022-09-10T20:11:01.784815",
     "status": "completed"
    },
    "tags": []
   },
   "source": [
    "And setup the labels as 1 (when the digit is 3) and 0 (when the digit is 8)"
   ]
  },
  {
   "cell_type": "code",
   "execution_count": 12,
   "id": "7dc908f2",
   "metadata": {
    "execution": {
     "iopub.execute_input": "2022-09-10T20:11:01.887086Z",
     "iopub.status.busy": "2022-09-10T20:11:01.883938Z",
     "iopub.status.idle": "2022-09-10T20:11:01.900099Z",
     "shell.execute_reply": "2022-09-10T20:11:01.900645Z"
    },
    "papermill": {
     "duration": 0.0549,
     "end_time": "2022-09-10T20:11:01.900776",
     "exception": false,
     "start_time": "2022-09-10T20:11:01.845876",
     "status": "completed"
    },
    "tags": []
   },
   "outputs": [],
   "source": [
    "y_train = 1*(y_train==3)\n",
    "y_test = 1*(y_test==3)"
   ]
  },
  {
   "cell_type": "code",
   "execution_count": 13,
   "id": "01e4e969",
   "metadata": {
    "execution": {
     "iopub.execute_input": "2022-09-10T20:11:01.966484Z",
     "iopub.status.busy": "2022-09-10T20:11:01.964889Z",
     "iopub.status.idle": "2022-09-10T20:11:01.978973Z",
     "shell.execute_reply": "2022-09-10T20:11:01.978423Z"
    },
    "papermill": {
     "duration": 0.048908,
     "end_time": "2022-09-10T20:11:01.979092",
     "exception": false,
     "start_time": "2022-09-10T20:11:01.930184",
     "status": "completed"
    },
    "tags": []
   },
   "outputs": [
    {
     "data": {
      "text/plain": [
       "((11982, 28, 28), (1984, 28, 28))"
      ]
     },
     "execution_count": 13,
     "metadata": {},
     "output_type": "execute_result"
    }
   ],
   "source": [
    "X_train.shape, X_test.shape"
   ]
  },
  {
   "cell_type": "markdown",
   "id": "5ccf3f85",
   "metadata": {
    "papermill": {
     "duration": 0.030209,
     "end_time": "2022-09-10T20:11:02.043439",
     "exception": false,
     "start_time": "2022-09-10T20:11:02.013230",
     "status": "completed"
    },
    "tags": []
   },
   "source": [
    "We reshape the data to flatten the image pixels into a set of features or co-variates:"
   ]
  },
  {
   "cell_type": "code",
   "execution_count": 14,
   "id": "5286a4a3",
   "metadata": {
    "execution": {
     "iopub.execute_input": "2022-09-10T20:11:02.119892Z",
     "iopub.status.busy": "2022-09-10T20:11:02.112171Z",
     "iopub.status.idle": "2022-09-10T20:11:02.128384Z",
     "shell.execute_reply": "2022-09-10T20:11:02.127833Z"
    },
    "papermill": {
     "duration": 0.054016,
     "end_time": "2022-09-10T20:11:02.128501",
     "exception": false,
     "start_time": "2022-09-10T20:11:02.074485",
     "status": "completed"
    },
    "tags": []
   },
   "outputs": [
    {
     "data": {
      "text/plain": [
       "((11982, 784), (1984, 784))"
      ]
     },
     "execution_count": 14,
     "metadata": {},
     "output_type": "execute_result"
    }
   ],
   "source": [
    "X_train = X_train.reshape(X_train.shape[0], -1)\n",
    "X_test = X_test.reshape(X_test.shape[0], -1)\n",
    "X_train.shape, X_test.shape"
   ]
  },
  {
   "cell_type": "code",
   "execution_count": 15,
   "id": "73c5f88a",
   "metadata": {
    "execution": {
     "iopub.execute_input": "2022-09-10T20:11:02.200783Z",
     "iopub.status.busy": "2022-09-10T20:11:02.200118Z",
     "iopub.status.idle": "2022-09-10T20:11:02.214599Z",
     "shell.execute_reply": "2022-09-10T20:11:02.214046Z"
    },
    "papermill": {
     "duration": 0.054389,
     "end_time": "2022-09-10T20:11:02.214714",
     "exception": false,
     "start_time": "2022-09-10T20:11:02.160325",
     "status": "completed"
    },
    "tags": []
   },
   "outputs": [],
   "source": [
    "#Impoting functions from 'Kudzu'\n",
    "from kudzu.model import Model\n",
    "from kudzu.train import Learner\n",
    "from kudzu.optim import GD\n",
    "from kudzu.data import Data, Sampler,Dataloader\n",
    "\n",
    "from kudzu.callbacks import AccCallback\n",
    "from kudzu.callbacks import ClfCallback\n",
    "\n",
    "from kudzu.loss import MSE\n",
    "\n",
    "from kudzu.layer import Sigmoid,Relu\n",
    "from kudzu.layer import Affine"
   ]
  },
  {
   "cell_type": "markdown",
   "id": "bc01172a",
   "metadata": {
    "papermill": {
     "duration": 0.031595,
     "end_time": "2022-09-10T20:11:02.277267",
     "exception": false,
     "start_time": "2022-09-10T20:11:02.245672",
     "status": "completed"
    },
    "tags": []
   },
   "source": [
    "### Let us create a `Config` class, to store important parameters. \n",
    "This class essentially plays the role of a dictionary."
   ]
  },
  {
   "cell_type": "code",
   "execution_count": 16,
   "id": "978281aa",
   "metadata": {
    "execution": {
     "iopub.execute_input": "2022-09-10T20:11:02.347879Z",
     "iopub.status.busy": "2022-09-10T20:11:02.347204Z",
     "iopub.status.idle": "2022-09-10T20:11:02.361016Z",
     "shell.execute_reply": "2022-09-10T20:11:02.360350Z"
    },
    "papermill": {
     "duration": 0.047945,
     "end_time": "2022-09-10T20:11:02.361138",
     "exception": false,
     "start_time": "2022-09-10T20:11:02.313193",
     "status": "completed"
    },
    "tags": []
   },
   "outputs": [],
   "source": [
    "class Config:\n",
    "    pass\n",
    "config = Config()\n",
    "config.lr = 0.001\n",
    "config.num_epochs = 250\n",
    "config.bs = 50"
   ]
  },
  {
   "cell_type": "markdown",
   "id": "1385fa59",
   "metadata": {
    "papermill": {
     "duration": 0.033436,
     "end_time": "2022-09-10T20:11:02.425873",
     "exception": false,
     "start_time": "2022-09-10T20:11:02.392437",
     "status": "completed"
    },
    "tags": []
   },
   "source": [
    "### Running Models with the Training data\n",
    "Details about the network layers:\n",
    "- A first affine layer has 784 inputs and does 100 affine transforms. These are followed by a Relu\n",
    "- A second affine layer has 100 inputs from the 100 activations of the past layer, and does 100 affine transforms. These are followed by a Relu\n",
    "- A third affine layer has 100 activations and does 2 affine transformations to create an embedding for visualization. There is no non-linearity here.\n",
    "- A final \"logistic regression\" which has an affine transform from 2 inputs to 1 output, which is squeezed through a sigmoid.\n"
   ]
  },
  {
   "cell_type": "code",
   "execution_count": 17,
   "id": "2b9c66db",
   "metadata": {
    "execution": {
     "iopub.execute_input": "2022-09-10T20:11:02.503728Z",
     "iopub.status.busy": "2022-09-10T20:11:02.502010Z",
     "iopub.status.idle": "2022-09-10T20:11:02.509803Z",
     "shell.execute_reply": "2022-09-10T20:11:02.509234Z"
    },
    "papermill": {
     "duration": 0.050963,
     "end_time": "2022-09-10T20:11:02.509925",
     "exception": false,
     "start_time": "2022-09-10T20:11:02.458962",
     "status": "completed"
    },
    "tags": []
   },
   "outputs": [],
   "source": [
    "data = Data(X_train, y_train.reshape(-1,1))\n",
    "sampler = Sampler(data, config.bs, shuffle=True)\n",
    "\n",
    "dl = Dataloader(data, sampler)\n",
    "\n",
    "opt = GD(config.lr)\n",
    "loss = MSE()"
   ]
  },
  {
   "cell_type": "code",
   "execution_count": 18,
   "id": "b275e4c2",
   "metadata": {
    "execution": {
     "iopub.execute_input": "2022-09-10T20:11:02.585842Z",
     "iopub.status.busy": "2022-09-10T20:11:02.584495Z",
     "iopub.status.idle": "2022-09-10T20:11:02.595587Z",
     "shell.execute_reply": "2022-09-10T20:11:02.594772Z"
    },
    "papermill": {
     "duration": 0.054641,
     "end_time": "2022-09-10T20:11:02.595717",
     "exception": false,
     "start_time": "2022-09-10T20:11:02.541076",
     "status": "completed"
    },
    "tags": []
   },
   "outputs": [],
   "source": [
    "training_data_x = X_train\n",
    "testing_data_x = X_test\n",
    "training_data_y = y_train.reshape(-1,1)\n",
    "testing_data_y = y_test.reshape(-1,1)"
   ]
  },
  {
   "cell_type": "code",
   "execution_count": 19,
   "id": "76951160",
   "metadata": {
    "execution": {
     "iopub.execute_input": "2022-09-10T20:11:02.684019Z",
     "iopub.status.busy": "2022-09-10T20:11:02.673929Z",
     "iopub.status.idle": "2022-09-10T20:11:02.693380Z",
     "shell.execute_reply": "2022-09-10T20:11:02.693914Z"
    },
    "papermill": {
     "duration": 0.062888,
     "end_time": "2022-09-10T20:11:02.694067",
     "exception": false,
     "start_time": "2022-09-10T20:11:02.631179",
     "status": "completed"
    },
    "tags": []
   },
   "outputs": [
    {
     "name": "stdout",
     "output_type": "stream",
     "text": [
      "xavier\n",
      "xavier\n",
      "xavier\n",
      "xavier\n",
      "xavier\n"
     ]
    }
   ],
   "source": [
    "layers = [Affine(\"first\", 784, 100), Relu(\"first\"), Affine(\"second\", 100, 100), Relu(\"second\"), Affine(\"third\", 100, 2), Affine(\"last\", 2, 1), Sigmoid(\"last\")]\n",
    "model_nn = Model(layers)\n",
    "model_lr = Model([Affine(\"logits\", 784, 1), Sigmoid(\"sigmoid\")])"
   ]
  },
  {
   "cell_type": "code",
   "execution_count": 20,
   "id": "6eede77a",
   "metadata": {
    "execution": {
     "iopub.execute_input": "2022-09-10T20:11:02.786473Z",
     "iopub.status.busy": "2022-09-10T20:11:02.785439Z",
     "iopub.status.idle": "2022-09-10T20:11:02.791274Z",
     "shell.execute_reply": "2022-09-10T20:11:02.790229Z"
    },
    "papermill": {
     "duration": 0.060414,
     "end_time": "2022-09-10T20:11:02.791405",
     "exception": false,
     "start_time": "2022-09-10T20:11:02.730991",
     "status": "completed"
    },
    "tags": []
   },
   "outputs": [],
   "source": [
    "nn_learner = Learner(loss, model_nn, opt, config.num_epochs)\n",
    "acc_nn = ClfCallback(nn_learner, config.bs, training_data_x , testing_data_x, training_data_y, testing_data_y)\n",
    "nn_learner.set_callbacks([acc_nn])"
   ]
  },
  {
   "cell_type": "code",
   "execution_count": 21,
   "id": "877b6cc7",
   "metadata": {
    "execution": {
     "iopub.execute_input": "2022-09-10T20:11:02.860461Z",
     "iopub.status.busy": "2022-09-10T20:11:02.859351Z",
     "iopub.status.idle": "2022-09-10T20:11:02.872086Z",
     "shell.execute_reply": "2022-09-10T20:11:02.871485Z"
    },
    "papermill": {
     "duration": 0.048209,
     "end_time": "2022-09-10T20:11:02.872227",
     "exception": false,
     "start_time": "2022-09-10T20:11:02.824018",
     "status": "completed"
    },
    "tags": []
   },
   "outputs": [],
   "source": [
    "lr_learner = Learner(loss, model_lr, opt, config.num_epochs)\n",
    "acc_lr = ClfCallback(lr_learner, config.bs, training_data_x , testing_data_x, training_data_y, testing_data_y)\n",
    "lr_learner.set_callbacks([acc_lr])"
   ]
  },
  {
   "cell_type": "code",
   "execution_count": 22,
   "id": "d9b133c3",
   "metadata": {
    "execution": {
     "iopub.execute_input": "2022-09-10T20:11:02.945947Z",
     "iopub.status.busy": "2022-09-10T20:11:02.942276Z",
     "iopub.status.idle": "2022-09-10T20:13:02.844970Z",
     "shell.execute_reply": "2022-09-10T20:13:02.845935Z"
    },
    "papermill": {
     "duration": 119.938059,
     "end_time": "2022-09-10T20:13:02.846095",
     "exception": false,
     "start_time": "2022-09-10T20:11:02.908036",
     "status": "completed"
    },
    "tags": []
   },
   "outputs": [
    {
     "name": "stdout",
     "output_type": "stream",
     "text": [
      "Epoch 0, Loss 0.2483\n",
      "Training Accuracy: 0.5209, Testing Accuracy: 0.5131\n",
      "\n"
     ]
    },
    {
     "name": "stdout",
     "output_type": "stream",
     "text": [
      "Epoch 10, Loss 0.234\n",
      "Training Accuracy: 0.7188, Testing Accuracy: 0.7051\n",
      "\n"
     ]
    },
    {
     "name": "stdout",
     "output_type": "stream",
     "text": [
      "Epoch 20, Loss 0.1666\n",
      "Training Accuracy: 0.8855, Testing Accuracy: 0.8921\n",
      "\n"
     ]
    },
    {
     "name": "stdout",
     "output_type": "stream",
     "text": [
      "Epoch 30, Loss 0.0818\n",
      "Training Accuracy: 0.9194, Testing Accuracy: 0.9345\n",
      "\n"
     ]
    },
    {
     "name": "stdout",
     "output_type": "stream",
     "text": [
      "Epoch 40, Loss 0.0556\n",
      "Training Accuracy: 0.9397, Testing Accuracy: 0.9531\n",
      "\n"
     ]
    },
    {
     "name": "stdout",
     "output_type": "stream",
     "text": [
      "Epoch 50, Loss 0.0446\n",
      "Training Accuracy: 0.9494, Testing Accuracy: 0.9622\n",
      "\n"
     ]
    },
    {
     "name": "stdout",
     "output_type": "stream",
     "text": [
      "Epoch 60, Loss 0.0388\n",
      "Training Accuracy: 0.9558, Testing Accuracy: 0.9672\n",
      "\n"
     ]
    },
    {
     "name": "stdout",
     "output_type": "stream",
     "text": [
      "Epoch 70, Loss 0.0352\n",
      "Training Accuracy: 0.9596, Testing Accuracy: 0.9688\n",
      "\n"
     ]
    },
    {
     "name": "stdout",
     "output_type": "stream",
     "text": [
      "Epoch 80, Loss 0.0326\n",
      "Training Accuracy: 0.9622, Testing Accuracy: 0.9708\n",
      "\n"
     ]
    },
    {
     "name": "stdout",
     "output_type": "stream",
     "text": [
      "Epoch 90, Loss 0.0307\n",
      "Training Accuracy: 0.9641, Testing Accuracy: 0.9718\n",
      "\n"
     ]
    },
    {
     "name": "stdout",
     "output_type": "stream",
     "text": [
      "Epoch 100, Loss 0.0292\n",
      "Training Accuracy: 0.9658, Testing Accuracy: 0.9718\n",
      "\n"
     ]
    },
    {
     "name": "stdout",
     "output_type": "stream",
     "text": [
      "Epoch 110, Loss 0.028\n",
      "Training Accuracy: 0.9675, Testing Accuracy: 0.9718\n",
      "\n"
     ]
    },
    {
     "name": "stdout",
     "output_type": "stream",
     "text": [
      "Epoch 120, Loss 0.027\n",
      "Training Accuracy: 0.9685, Testing Accuracy: 0.9738\n",
      "\n"
     ]
    },
    {
     "name": "stdout",
     "output_type": "stream",
     "text": [
      "Epoch 130, Loss 0.0261\n",
      "Training Accuracy: 0.9694, Testing Accuracy: 0.9743\n",
      "\n"
     ]
    },
    {
     "name": "stdout",
     "output_type": "stream",
     "text": [
      "Epoch 140, Loss 0.0253\n",
      "Training Accuracy: 0.9700, Testing Accuracy: 0.9743\n",
      "\n"
     ]
    },
    {
     "name": "stdout",
     "output_type": "stream",
     "text": [
      "Epoch 150, Loss 0.0246\n",
      "Training Accuracy: 0.9710, Testing Accuracy: 0.9748\n",
      "\n"
     ]
    },
    {
     "name": "stdout",
     "output_type": "stream",
     "text": [
      "Epoch 160, Loss 0.024\n",
      "Training Accuracy: 0.9718, Testing Accuracy: 0.9748\n",
      "\n"
     ]
    },
    {
     "name": "stdout",
     "output_type": "stream",
     "text": [
      "Epoch 170, Loss 0.0234\n",
      "Training Accuracy: 0.9725, Testing Accuracy: 0.9748\n",
      "\n"
     ]
    },
    {
     "name": "stdout",
     "output_type": "stream",
     "text": [
      "Epoch 180, Loss 0.0229\n",
      "Training Accuracy: 0.9736, Testing Accuracy: 0.9743\n",
      "\n"
     ]
    },
    {
     "name": "stdout",
     "output_type": "stream",
     "text": [
      "Epoch 190, Loss 0.0224\n",
      "Training Accuracy: 0.9740, Testing Accuracy: 0.9738\n",
      "\n"
     ]
    },
    {
     "name": "stdout",
     "output_type": "stream",
     "text": [
      "Epoch 200, Loss 0.022\n",
      "Training Accuracy: 0.9745, Testing Accuracy: 0.9743\n",
      "\n"
     ]
    },
    {
     "name": "stdout",
     "output_type": "stream",
     "text": [
      "Epoch 210, Loss 0.0215\n",
      "Training Accuracy: 0.9752, Testing Accuracy: 0.9748\n",
      "\n"
     ]
    },
    {
     "name": "stdout",
     "output_type": "stream",
     "text": [
      "Epoch 220, Loss 0.0211\n",
      "Training Accuracy: 0.9759, Testing Accuracy: 0.9758\n",
      "\n"
     ]
    },
    {
     "name": "stdout",
     "output_type": "stream",
     "text": [
      "Epoch 230, Loss 0.0207\n",
      "Training Accuracy: 0.9766, Testing Accuracy: 0.9758\n",
      "\n"
     ]
    },
    {
     "name": "stdout",
     "output_type": "stream",
     "text": [
      "Epoch 240, Loss 0.0204\n",
      "Training Accuracy: 0.9772, Testing Accuracy: 0.9753\n",
      "\n"
     ]
    },
    {
     "data": {
      "text/plain": [
       "0.02662571120292799"
      ]
     },
     "execution_count": 22,
     "metadata": {},
     "output_type": "execute_result"
    }
   ],
   "source": [
    "nn_learner.train_loop(dl)"
   ]
  },
  {
   "cell_type": "code",
   "execution_count": 23,
   "id": "e0163366",
   "metadata": {
    "execution": {
     "iopub.execute_input": "2022-09-10T20:13:02.933053Z",
     "iopub.status.busy": "2022-09-10T20:13:02.932348Z",
     "iopub.status.idle": "2022-09-10T20:13:20.429930Z",
     "shell.execute_reply": "2022-09-10T20:13:20.430972Z"
    },
    "papermill": {
     "duration": 17.545907,
     "end_time": "2022-09-10T20:13:20.431166",
     "exception": false,
     "start_time": "2022-09-10T20:13:02.885259",
     "status": "completed"
    },
    "tags": []
   },
   "outputs": [
    {
     "name": "stdout",
     "output_type": "stream",
     "text": [
      "Epoch 0, Loss 0.2495\n",
      "Training Accuracy: 0.6565, Testing Accuracy: 0.6457\n",
      "\n"
     ]
    },
    {
     "name": "stdout",
     "output_type": "stream",
     "text": [
      "Epoch 10, Loss 0.1058\n",
      "Training Accuracy: 0.9018, Testing Accuracy: 0.9062\n",
      "\n"
     ]
    },
    {
     "name": "stdout",
     "output_type": "stream",
     "text": [
      "Epoch 20, Loss 0.0807\n",
      "Training Accuracy: 0.9245, Testing Accuracy: 0.9340\n",
      "\n"
     ]
    },
    {
     "name": "stdout",
     "output_type": "stream",
     "text": [
      "Epoch 30, Loss 0.0692\n",
      "Training Accuracy: 0.9344, Testing Accuracy: 0.9410\n",
      "\n"
     ]
    },
    {
     "name": "stdout",
     "output_type": "stream",
     "text": [
      "Epoch 40, Loss 0.0622\n",
      "Training Accuracy: 0.9400, Testing Accuracy: 0.9501\n",
      "\n"
     ]
    },
    {
     "name": "stdout",
     "output_type": "stream",
     "text": [
      "Epoch 50, Loss 0.0576\n",
      "Training Accuracy: 0.9449, Testing Accuracy: 0.9556\n",
      "\n"
     ]
    },
    {
     "name": "stdout",
     "output_type": "stream",
     "text": [
      "Epoch 60, Loss 0.0541\n",
      "Training Accuracy: 0.9470, Testing Accuracy: 0.9556\n",
      "\n"
     ]
    },
    {
     "name": "stdout",
     "output_type": "stream",
     "text": [
      "Epoch 70, Loss 0.0515\n",
      "Training Accuracy: 0.9485, Testing Accuracy: 0.9572\n",
      "\n"
     ]
    },
    {
     "name": "stdout",
     "output_type": "stream",
     "text": [
      "Epoch 80, Loss 0.0494\n",
      "Training Accuracy: 0.9508, Testing Accuracy: 0.9582\n",
      "\n"
     ]
    },
    {
     "name": "stdout",
     "output_type": "stream",
     "text": [
      "Epoch 90, Loss 0.0476\n",
      "Training Accuracy: 0.9524, Testing Accuracy: 0.9612\n",
      "\n"
     ]
    },
    {
     "name": "stdout",
     "output_type": "stream",
     "text": [
      "Epoch 100, Loss 0.0462\n",
      "Training Accuracy: 0.9537, Testing Accuracy: 0.9617\n",
      "\n"
     ]
    },
    {
     "name": "stdout",
     "output_type": "stream",
     "text": [
      "Epoch 110, Loss 0.0449\n",
      "Training Accuracy: 0.9548, Testing Accuracy: 0.9612\n",
      "\n"
     ]
    },
    {
     "name": "stdout",
     "output_type": "stream",
     "text": [
      "Epoch 120, Loss 0.0438\n",
      "Training Accuracy: 0.9555, Testing Accuracy: 0.9622\n",
      "\n"
     ]
    },
    {
     "name": "stdout",
     "output_type": "stream",
     "text": [
      "Epoch 130, Loss 0.0429\n",
      "Training Accuracy: 0.9566, Testing Accuracy: 0.9632\n",
      "\n"
     ]
    },
    {
     "name": "stdout",
     "output_type": "stream",
     "text": [
      "Epoch 140, Loss 0.042\n",
      "Training Accuracy: 0.9574, Testing Accuracy: 0.9632\n",
      "\n"
     ]
    },
    {
     "name": "stdout",
     "output_type": "stream",
     "text": [
      "Epoch 150, Loss 0.0413\n",
      "Training Accuracy: 0.9580, Testing Accuracy: 0.9637\n",
      "\n"
     ]
    },
    {
     "name": "stdout",
     "output_type": "stream",
     "text": [
      "Epoch 160, Loss 0.0406\n",
      "Training Accuracy: 0.9582, Testing Accuracy: 0.9647\n",
      "\n"
     ]
    },
    {
     "name": "stdout",
     "output_type": "stream",
     "text": [
      "Epoch 170, Loss 0.04\n",
      "Training Accuracy: 0.9590, Testing Accuracy: 0.9652\n",
      "\n"
     ]
    },
    {
     "name": "stdout",
     "output_type": "stream",
     "text": [
      "Epoch 180, Loss 0.0394\n",
      "Training Accuracy: 0.9594, Testing Accuracy: 0.9657\n",
      "\n"
     ]
    },
    {
     "name": "stdout",
     "output_type": "stream",
     "text": [
      "Epoch 190, Loss 0.0389\n",
      "Training Accuracy: 0.9599, Testing Accuracy: 0.9657\n",
      "\n"
     ]
    },
    {
     "name": "stdout",
     "output_type": "stream",
     "text": [
      "Epoch 200, Loss 0.0384\n",
      "Training Accuracy: 0.9601, Testing Accuracy: 0.9657\n",
      "\n"
     ]
    },
    {
     "name": "stdout",
     "output_type": "stream",
     "text": [
      "Epoch 210, Loss 0.0379\n",
      "Training Accuracy: 0.9608, Testing Accuracy: 0.9667\n",
      "\n"
     ]
    },
    {
     "name": "stdout",
     "output_type": "stream",
     "text": [
      "Epoch 220, Loss 0.0375\n",
      "Training Accuracy: 0.9609, Testing Accuracy: 0.9672\n",
      "\n"
     ]
    },
    {
     "name": "stdout",
     "output_type": "stream",
     "text": [
      "Epoch 230, Loss 0.0371\n",
      "Training Accuracy: 0.9611, Testing Accuracy: 0.9677\n",
      "\n"
     ]
    },
    {
     "name": "stdout",
     "output_type": "stream",
     "text": [
      "Epoch 240, Loss 0.0367\n",
      "Training Accuracy: 0.9612, Testing Accuracy: 0.9677\n",
      "\n"
     ]
    },
    {
     "data": {
      "text/plain": [
       "0.011888424268064685"
      ]
     },
     "execution_count": 23,
     "metadata": {},
     "output_type": "execute_result"
    }
   ],
   "source": [
    "lr_learner.train_loop(dl)"
   ]
  },
  {
   "cell_type": "code",
   "execution_count": 24,
   "id": "ca410940",
   "metadata": {
    "execution": {
     "iopub.execute_input": "2022-09-10T20:13:20.540826Z",
     "iopub.status.busy": "2022-09-10T20:13:20.540151Z",
     "iopub.status.idle": "2022-09-10T20:13:20.824664Z",
     "shell.execute_reply": "2022-09-10T20:13:20.824105Z"
    },
    "papermill": {
     "duration": 0.341029,
     "end_time": "2022-09-10T20:13:20.824794",
     "exception": false,
     "start_time": "2022-09-10T20:13:20.483765",
     "status": "completed"
    },
    "tags": []
   },
   "outputs": [
    {
     "data": {
      "text/plain": [
       "<matplotlib.legend.Legend at 0x7f3b61f702b0>"
      ]
     },
     "execution_count": 24,
     "metadata": {},
     "output_type": "execute_result"
    },
    {
     "data": {
      "image/png": "[encoded data removed]",
      "text/plain": [
       "<Figure size 1080x720 with 1 Axes>"
      ]
     },
     "metadata": {
      "needs_background": "light"
     },
     "output_type": "display_data"
    }
   ],
   "source": [
    "#comparing the results of NN and LR\n",
    "plt.figure(figsize=(15,10))\n",
    "\n",
    "# Neural Network plots\n",
    "plt.plot(acc_nn.accuracies, 'r-', label = \"Training Accuracies - NN\")\n",
    "plt.plot(acc_nn.test_accuracies, 'g-', label = \"Testing Accuracies - NN\")\n",
    "\n",
    "# Logistic Regression plots\n",
    "plt.plot(acc_lr.accuracies, 'k-', label = \"Training Accuracies - LR\")\n",
    "plt.plot(acc_lr.test_accuracies, 'b-', label = \"Testing Accuracies - LR\")\n",
    "plt.legend()"
   ]
  },
  {
   "cell_type": "markdown",
   "id": "80dfb35c",
   "metadata": {
    "papermill": {
     "duration": 0.048291,
     "end_time": "2022-09-10T20:13:20.921933",
     "exception": false,
     "start_time": "2022-09-10T20:13:20.873642",
     "status": "completed"
    },
    "tags": []
   },
   "source": [
    "#### Plotting the outputs of this layer of the NN.\n"
   ]
  },
  {
   "cell_type": "code",
   "execution_count": 25,
   "id": "45eb2ff5",
   "metadata": {
    "execution": {
     "iopub.execute_input": "2022-09-10T20:13:21.033038Z",
     "iopub.status.busy": "2022-09-10T20:13:21.032047Z",
     "iopub.status.idle": "2022-09-10T20:13:21.064490Z",
     "shell.execute_reply": "2022-09-10T20:13:21.065435Z"
    },
    "papermill": {
     "duration": 0.095267,
     "end_time": "2022-09-10T20:13:21.065639",
     "exception": false,
     "start_time": "2022-09-10T20:13:20.970372",
     "status": "completed"
    },
    "tags": []
   },
   "outputs": [],
   "source": [
    "new_model = Model(layers[:-2])\n",
    "testing_plot = new_model(testing_data_x)"
   ]
  },
  {
   "cell_type": "code",
   "execution_count": 26,
   "id": "4c0a5485",
   "metadata": {
    "execution": {
     "iopub.execute_input": "2022-09-10T20:13:21.185019Z",
     "iopub.status.busy": "2022-09-10T20:13:21.184295Z",
     "iopub.status.idle": "2022-09-10T20:13:21.434080Z",
     "shell.execute_reply": "2022-09-10T20:13:21.433535Z"
    },
    "papermill": {
     "duration": 0.307804,
     "end_time": "2022-09-10T20:13:21.434215",
     "exception": false,
     "start_time": "2022-09-10T20:13:21.126411",
     "status": "completed"
    },
    "tags": []
   },
   "outputs": [
    {
     "data": {
      "text/plain": [
       "Text(0.5, 1.0, 'Outputs')"
      ]
     },
     "execution_count": 26,
     "metadata": {},
     "output_type": "execute_result"
    },
    {
     "data": {
      "image/png": "[encoded data removed]",
      "text/plain": [
       "<Figure size 576x504 with 1 Axes>"
      ]
     },
     "metadata": {
      "needs_background": "light"
     },
     "output_type": "display_data"
    }
   ],
   "source": [
    "# Plotting the scatter plot of points and color coding by class\n",
    "plt.figure(figsize=(8,7))\n",
    "plt.scatter(testing_plot[:,0], testing_plot[:,1], alpha = 0.1, c = y_test.ravel());\n",
    "plt.title('Outputs')"
   ]
  },
  {
   "cell_type": "markdown",
   "id": "a74fcf8f",
   "metadata": {
    "papermill": {
     "duration": 0.07367,
     "end_time": "2022-09-10T20:13:21.559295",
     "exception": false,
     "start_time": "2022-09-10T20:13:21.485625",
     "status": "completed"
    },
    "tags": []
   },
   "source": [
    "Probability contours"
   ]
  },
  {
   "cell_type": "code",
   "execution_count": 27,
   "id": "d0afc8e3",
   "metadata": {
    "execution": {
     "iopub.execute_input": "2022-09-10T20:13:21.664007Z",
     "iopub.status.busy": "2022-09-10T20:13:21.663340Z",
     "iopub.status.idle": "2022-09-10T20:13:21.676269Z",
     "shell.execute_reply": "2022-09-10T20:13:21.675718Z"
    },
    "papermill": {
     "duration": 0.066808,
     "end_time": "2022-09-10T20:13:21.676390",
     "exception": false,
     "start_time": "2022-09-10T20:13:21.609582",
     "status": "completed"
    },
    "tags": []
   },
   "outputs": [],
   "source": [
    "model_prob = Model(layers[-2:]) "
   ]
  },
  {
   "cell_type": "code",
   "execution_count": 28,
   "id": "9b96e238",
   "metadata": {
    "execution": {
     "iopub.execute_input": "2022-09-10T20:13:21.798265Z",
     "iopub.status.busy": "2022-09-10T20:13:21.796400Z",
     "iopub.status.idle": "2022-09-10T20:13:21.801713Z",
     "shell.execute_reply": "2022-09-10T20:13:21.801063Z"
    },
    "papermill": {
     "duration": 0.074808,
     "end_time": "2022-09-10T20:13:21.801829",
     "exception": false,
     "start_time": "2022-09-10T20:13:21.727021",
     "status": "completed"
    },
    "tags": []
   },
   "outputs": [],
   "source": [
    "#creating the x and y ranges according to the above generated plot.\n",
    "x_range = np.linspace(-4, 1, 100) \n",
    "y_range = np.linspace(-6, 6, 100) \n",
    "x_grid, y_grid = np.meshgrid(x_range, y_range) # x_grid and y_grig are of size 100 X 100\n",
    "\n",
    "# converting x_grid and y_grid to continuous arrays\n",
    "x_gridflat = np.ravel(x_grid)\n",
    "y_gridflat = np.ravel(y_grid)\n",
    "\n",
    "# The last layer of the current model takes two columns as input. Hence transpose of np.vstack() is required.\n",
    "X = np.vstack((x_gridflat, y_gridflat)).T\n",
    "\n",
    "prob_contour = model_prob(X).reshape(100,100) "
   ]
  },
  {
   "cell_type": "code",
   "execution_count": 29,
   "id": "da72499a",
   "metadata": {
    "execution": {
     "iopub.execute_input": "2022-09-10T20:13:21.906417Z",
     "iopub.status.busy": "2022-09-10T20:13:21.905378Z",
     "iopub.status.idle": "2022-09-10T20:13:22.210864Z",
     "shell.execute_reply": "2022-09-10T20:13:22.210297Z"
    },
    "papermill": {
     "duration": 0.36033,
     "end_time": "2022-09-10T20:13:22.210995",
     "exception": false,
     "start_time": "2022-09-10T20:13:21.850665",
     "status": "completed"
    },
    "tags": []
   },
   "outputs": [
    {
     "data": {
      "image/png": "[encoded data removed]",
      "text/plain": [
       "<Figure size 720x648 with 1 Axes>"
      ]
     },
     "metadata": {
      "needs_background": "light"
     },
     "output_type": "display_data"
    }
   ],
   "source": [
    "plt.figure(figsize=(10,9))\n",
    "plt.scatter(testing_plot[:,0], testing_plot[:,1], alpha = 0.1, c = y_test.ravel())\n",
    "contours = plt.contour(x_grid,y_grid,prob_contour)\n",
    "plt.title('Probability Contours')\n",
    "plt.clabel(contours, inline = True );"
   ]
  },
  {
   "cell_type": "code",
   "execution_count": null,
   "id": "e81b4ac7",
   "metadata": {
    "papermill": {
     "duration": 0.052052,
     "end_time": "2022-09-10T20:13:22.318259",
     "exception": false,
     "start_time": "2022-09-10T20:13:22.266207",
     "status": "completed"
    },
    "tags": []
   },
   "outputs": [],
   "source": []
  }
 ],
 "metadata": {
  "kernelspec": {
   "display_name": "Python 3",
   "language": "python",
   "name": "python3"
  },
  "language_info": {
   "codemirror_mode": {
    "name": "ipython",
    "version": 3
   },
   "file_extension": ".py",
   "mimetype": "text/x-python",
   "name": "python",
   "nbconvert_exporter": "python",
   "pygments_lexer": "ipython3",
   "version": "3.6.15"
  },
  "papermill": {
   "default_parameters": {},
   "duration": 146.803249,
   "end_time": "2022-09-10T20:13:22.790402",
   "environment_variables": {},
   "exception": null,
   "input_path": "2020-08-11-part2.ipynb",
   "output_path": "2020-08-11-part2.ipynb",
   "parameters": {},
   "start_time": "2022-09-10T20:10:55.987153",
   "version": "2.3.3"
  }
 },
 "nbformat": 4,
 "nbformat_minor": 5
}