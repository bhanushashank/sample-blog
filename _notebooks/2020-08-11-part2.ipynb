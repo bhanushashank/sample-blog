{
 "cells": [
  {
   "cell_type": "markdown",
   "id": "98380cd3",
   "metadata": {
    "papermill": {
     "duration": 0.029965,
     "end_time": "2022-06-16T00:37:41.943577",
     "exception": false,
     "start_time": "2022-06-16T00:37:41.913612",
     "status": "completed"
    },
    "tags": []
   },
   "source": [
    "# Distinguish Your Own Digits (DYOD)"
   ]
  },
  {
   "cell_type": "markdown",
   "id": "ef31240d",
   "metadata": {
    "papermill": {
     "duration": 0.023605,
     "end_time": "2022-06-16T00:37:41.991455",
     "exception": false,
     "start_time": "2022-06-16T00:37:41.967850",
     "status": "completed"
    },
    "tags": []
   },
   "source": [
    "You are going to write a classifier that distinguishes between the number 3 and number 8."
   ]
  },
  {
   "cell_type": "code",
   "execution_count": 1,
   "id": "b15c8646",
   "metadata": {
    "execution": {
     "iopub.execute_input": "2022-06-16T00:37:42.049894Z",
     "iopub.status.busy": "2022-06-16T00:37:42.049292Z",
     "iopub.status.idle": "2022-06-16T00:37:42.059771Z",
     "shell.execute_reply": "2022-06-16T00:37:42.060372Z"
    },
    "papermill": {
     "duration": 0.045629,
     "end_time": "2022-06-16T00:37:42.060529",
     "exception": false,
     "start_time": "2022-06-16T00:37:42.014900",
     "status": "completed"
    },
    "tags": []
   },
   "outputs": [],
   "source": [
    "%load_ext autoreload\n",
    "%autoreload 2"
   ]
  },
  {
   "cell_type": "code",
   "execution_count": 2,
   "id": "22ef38dc",
   "metadata": {
    "execution": {
     "iopub.execute_input": "2022-06-16T00:37:42.111434Z",
     "iopub.status.busy": "2022-06-16T00:37:42.110851Z",
     "iopub.status.idle": "2022-06-16T00:37:42.644792Z",
     "shell.execute_reply": "2022-06-16T00:37:42.644102Z"
    },
    "papermill": {
     "duration": 0.560789,
     "end_time": "2022-06-16T00:37:42.644946",
     "exception": false,
     "start_time": "2022-06-16T00:37:42.084157",
     "status": "completed"
    },
    "tags": []
   },
   "outputs": [],
   "source": [
    "%matplotlib inline\n",
    "import numpy as np\n",
    "import matplotlib.pyplot as plt\n",
    "import pandas as pd"
   ]
  },
  {
   "cell_type": "markdown",
   "id": "ba036198",
   "metadata": {
    "papermill": {
     "duration": 0.023739,
     "end_time": "2022-06-16T00:37:42.692898",
     "exception": false,
     "start_time": "2022-06-16T00:37:42.669159",
     "status": "completed"
    },
    "tags": []
   },
   "source": [
    "From the command line run `pip install mnist`. This is a library that will help you bring down the mnist dataset. If you run this from a notebook, you need to put  `!pip install mnist` in a cell by itself."
   ]
  },
  {
   "cell_type": "code",
   "execution_count": 3,
   "id": "bb6ad8a1",
   "metadata": {
    "execution": {
     "iopub.execute_input": "2022-06-16T00:37:42.743919Z",
     "iopub.status.busy": "2022-06-16T00:37:42.743336Z",
     "iopub.status.idle": "2022-06-16T00:37:44.359311Z",
     "shell.execute_reply": "2022-06-16T00:37:44.358700Z"
    },
    "papermill": {
     "duration": 1.642923,
     "end_time": "2022-06-16T00:37:44.359447",
     "exception": false,
     "start_time": "2022-06-16T00:37:42.716524",
     "status": "completed"
    },
    "tags": []
   },
   "outputs": [
    {
     "name": "stdout",
     "output_type": "stream",
     "text": [
      "Collecting mnist\r\n",
      "  Downloading mnist-0.2.2-py2.py3-none-any.whl (3.5 kB)\r\n",
      "Requirement already satisfied: numpy in /opt/hostedtoolcache/Python/3.6.15/x64/lib/python3.6/site-packages (from mnist) (1.19.5)\r\n"
     ]
    },
    {
     "name": "stdout",
     "output_type": "stream",
     "text": [
      "Installing collected packages: mnist\r\n"
     ]
    },
    {
     "name": "stdout",
     "output_type": "stream",
     "text": [
      "Successfully installed mnist-0.2.2\r\n"
     ]
    }
   ],
   "source": [
    "!pip install mnist"
   ]
  },
  {
   "cell_type": "markdown",
   "id": "69df9c9a",
   "metadata": {
    "papermill": {
     "duration": 0.02445,
     "end_time": "2022-06-16T00:37:44.409578",
     "exception": false,
     "start_time": "2022-06-16T00:37:44.385128",
     "status": "completed"
    },
    "tags": []
   },
   "source": [
    "## Preparing the Data"
   ]
  },
  {
   "cell_type": "code",
   "execution_count": 4,
   "id": "7f69d806",
   "metadata": {
    "execution": {
     "iopub.execute_input": "2022-06-16T00:37:44.462049Z",
     "iopub.status.busy": "2022-06-16T00:37:44.461467Z",
     "iopub.status.idle": "2022-06-16T00:37:44.476910Z",
     "shell.execute_reply": "2022-06-16T00:37:44.476430Z"
    },
    "papermill": {
     "duration": 0.043208,
     "end_time": "2022-06-16T00:37:44.477016",
     "exception": false,
     "start_time": "2022-06-16T00:37:44.433808",
     "status": "completed"
    },
    "tags": []
   },
   "outputs": [],
   "source": [
    "import mnist"
   ]
  },
  {
   "cell_type": "code",
   "execution_count": 5,
   "id": "a411e44f",
   "metadata": {
    "execution": {
     "iopub.execute_input": "2022-06-16T00:37:44.528764Z",
     "iopub.status.busy": "2022-06-16T00:37:44.528172Z",
     "iopub.status.idle": "2022-06-16T00:37:45.127882Z",
     "shell.execute_reply": "2022-06-16T00:37:45.127242Z"
    },
    "papermill": {
     "duration": 0.62677,
     "end_time": "2022-06-16T00:37:45.128019",
     "exception": false,
     "start_time": "2022-06-16T00:37:44.501249",
     "status": "completed"
    },
    "tags": []
   },
   "outputs": [],
   "source": [
    "train_images = mnist.train_images()\n",
    "train_labels = mnist.train_labels()"
   ]
  },
  {
   "cell_type": "code",
   "execution_count": 6,
   "id": "dceab3a5",
   "metadata": {
    "execution": {
     "iopub.execute_input": "2022-06-16T00:37:45.181436Z",
     "iopub.status.busy": "2022-06-16T00:37:45.180836Z",
     "iopub.status.idle": "2022-06-16T00:37:45.196048Z",
     "shell.execute_reply": "2022-06-16T00:37:45.196556Z"
    },
    "papermill": {
     "duration": 0.043703,
     "end_time": "2022-06-16T00:37:45.196683",
     "exception": false,
     "start_time": "2022-06-16T00:37:45.152980",
     "status": "completed"
    },
    "tags": []
   },
   "outputs": [
    {
     "data": {
      "text/plain": [
       "((60000, 28, 28), (60000,))"
      ]
     },
     "execution_count": 6,
     "metadata": {},
     "output_type": "execute_result"
    }
   ],
   "source": [
    "train_images.shape, train_labels.shape"
   ]
  },
  {
   "cell_type": "code",
   "execution_count": 7,
   "id": "f50dc2bb",
   "metadata": {
    "execution": {
     "iopub.execute_input": "2022-06-16T00:37:45.249084Z",
     "iopub.status.busy": "2022-06-16T00:37:45.248501Z",
     "iopub.status.idle": "2022-06-16T00:37:45.422438Z",
     "shell.execute_reply": "2022-06-16T00:37:45.422920Z"
    },
    "papermill": {
     "duration": 0.201916,
     "end_time": "2022-06-16T00:37:45.423079",
     "exception": false,
     "start_time": "2022-06-16T00:37:45.221163",
     "status": "completed"
    },
    "tags": []
   },
   "outputs": [],
   "source": [
    "test_images = mnist.test_images()\n",
    "test_labels = mnist.test_labels()"
   ]
  },
  {
   "cell_type": "code",
   "execution_count": 8,
   "id": "fc38cf1b",
   "metadata": {
    "execution": {
     "iopub.execute_input": "2022-06-16T00:37:45.478098Z",
     "iopub.status.busy": "2022-06-16T00:37:45.477507Z",
     "iopub.status.idle": "2022-06-16T00:37:45.490938Z",
     "shell.execute_reply": "2022-06-16T00:37:45.490370Z"
    },
    "papermill": {
     "duration": 0.042687,
     "end_time": "2022-06-16T00:37:45.491052",
     "exception": false,
     "start_time": "2022-06-16T00:37:45.448365",
     "status": "completed"
    },
    "tags": []
   },
   "outputs": [
    {
     "data": {
      "text/plain": [
       "((10000, 28, 28), (10000,))"
      ]
     },
     "execution_count": 8,
     "metadata": {},
     "output_type": "execute_result"
    }
   ],
   "source": [
    "test_images.shape, test_labels.shape"
   ]
  },
  {
   "cell_type": "code",
   "execution_count": 9,
   "id": "f9ed8fe0",
   "metadata": {
    "execution": {
     "iopub.execute_input": "2022-06-16T00:37:45.544413Z",
     "iopub.status.busy": "2022-06-16T00:37:45.543802Z",
     "iopub.status.idle": "2022-06-16T00:37:45.682379Z",
     "shell.execute_reply": "2022-06-16T00:37:45.681899Z"
    },
    "papermill": {
     "duration": 0.166548,
     "end_time": "2022-06-16T00:37:45.682491",
     "exception": false,
     "start_time": "2022-06-16T00:37:45.515943",
     "status": "completed"
    },
    "tags": []
   },
   "outputs": [
    {
     "name": "stdout",
     "output_type": "stream",
     "text": [
      "2\n"
     ]
    },
    {
     "data": {
      "text/plain": [
       "<matplotlib.image.AxesImage at 0x7fa237e4f390>"
      ]
     },
     "execution_count": 9,
     "metadata": {},
     "output_type": "execute_result"
    },
    {
     "data": {
      "image/png": "[encoded data removed]",
      "text/plain": [
       "<Figure size 432x288 with 1 Axes>"
      ]
     },
     "metadata": {
      "needs_background": "light"
     },
     "output_type": "display_data"
    }
   ],
   "source": [
    "image_index = 7776 # You may select anything up to 60,000\n",
    "print(train_labels[image_index]) \n",
    "plt.imshow(train_images[image_index], cmap='Greys')"
   ]
  },
  {
   "cell_type": "markdown",
   "id": "a8d2388d",
   "metadata": {
    "papermill": {
     "duration": 0.026138,
     "end_time": "2022-06-16T00:37:45.734639",
     "exception": false,
     "start_time": "2022-06-16T00:37:45.708501",
     "status": "completed"
    },
    "tags": []
   },
   "source": [
    "## Filter data to get 3 and 8 out"
   ]
  },
  {
   "cell_type": "code",
   "execution_count": 10,
   "id": "776f7fc7",
   "metadata": {
    "execution": {
     "iopub.execute_input": "2022-06-16T00:37:45.790630Z",
     "iopub.status.busy": "2022-06-16T00:37:45.790030Z",
     "iopub.status.idle": "2022-06-16T00:37:45.808969Z",
     "shell.execute_reply": "2022-06-16T00:37:45.809469Z"
    },
    "papermill": {
     "duration": 0.049186,
     "end_time": "2022-06-16T00:37:45.809611",
     "exception": false,
     "start_time": "2022-06-16T00:37:45.760425",
     "status": "completed"
    },
    "tags": []
   },
   "outputs": [],
   "source": [
    "train_filter = np.where((train_labels == 3 ) | (train_labels == 8))\n",
    "test_filter = np.where((test_labels == 3) | (test_labels == 8))\n",
    "X_train, y_train = train_images[train_filter], train_labels[train_filter]\n",
    "X_test, y_test = test_images[test_filter], test_labels[test_filter]"
   ]
  },
  {
   "cell_type": "markdown",
   "id": "948f0b7e",
   "metadata": {
    "papermill": {
     "duration": 0.025911,
     "end_time": "2022-06-16T00:37:45.861825",
     "exception": false,
     "start_time": "2022-06-16T00:37:45.835914",
     "status": "completed"
    },
    "tags": []
   },
   "source": [
    "We normalize the pizel values in the 0 to 1 range"
   ]
  },
  {
   "cell_type": "code",
   "execution_count": 11,
   "id": "ee4c2166",
   "metadata": {
    "execution": {
     "iopub.execute_input": "2022-06-16T00:37:45.917088Z",
     "iopub.status.busy": "2022-06-16T00:37:45.916495Z",
     "iopub.status.idle": "2022-06-16T00:37:45.966311Z",
     "shell.execute_reply": "2022-06-16T00:37:45.965791Z"
    },
    "papermill": {
     "duration": 0.078886,
     "end_time": "2022-06-16T00:37:45.966443",
     "exception": false,
     "start_time": "2022-06-16T00:37:45.887557",
     "status": "completed"
    },
    "tags": []
   },
   "outputs": [],
   "source": [
    "X_train = X_train/255.\n",
    "X_test = X_test/255."
   ]
  },
  {
   "cell_type": "markdown",
   "id": "ddcf4fab",
   "metadata": {
    "papermill": {
     "duration": 0.025831,
     "end_time": "2022-06-16T00:37:46.018592",
     "exception": false,
     "start_time": "2022-06-16T00:37:45.992761",
     "status": "completed"
    },
    "tags": []
   },
   "source": [
    "And setup the labels as 1 (when the digit is 3) and 0 (when the digit is 8)"
   ]
  },
  {
   "cell_type": "code",
   "execution_count": 12,
   "id": "7dc908f2",
   "metadata": {
    "execution": {
     "iopub.execute_input": "2022-06-16T00:37:46.074079Z",
     "iopub.status.busy": "2022-06-16T00:37:46.073495Z",
     "iopub.status.idle": "2022-06-16T00:37:46.086332Z",
     "shell.execute_reply": "2022-06-16T00:37:46.085853Z"
    },
    "papermill": {
     "duration": 0.042037,
     "end_time": "2022-06-16T00:37:46.086441",
     "exception": false,
     "start_time": "2022-06-16T00:37:46.044404",
     "status": "completed"
    },
    "tags": []
   },
   "outputs": [],
   "source": [
    "y_train = 1*(y_train==3)\n",
    "y_test = 1*(y_test==3)"
   ]
  },
  {
   "cell_type": "code",
   "execution_count": 13,
   "id": "01e4e969",
   "metadata": {
    "execution": {
     "iopub.execute_input": "2022-06-16T00:37:46.141387Z",
     "iopub.status.busy": "2022-06-16T00:37:46.140812Z",
     "iopub.status.idle": "2022-06-16T00:37:46.154373Z",
     "shell.execute_reply": "2022-06-16T00:37:46.154822Z"
    },
    "papermill": {
     "duration": 0.042702,
     "end_time": "2022-06-16T00:37:46.154946",
     "exception": false,
     "start_time": "2022-06-16T00:37:46.112244",
     "status": "completed"
    },
    "tags": []
   },
   "outputs": [
    {
     "data": {
      "text/plain": [
       "((11982, 28, 28), (1984, 28, 28))"
      ]
     },
     "execution_count": 13,
     "metadata": {},
     "output_type": "execute_result"
    }
   ],
   "source": [
    "X_train.shape, X_test.shape"
   ]
  },
  {
   "cell_type": "markdown",
   "id": "5ccf3f85",
   "metadata": {
    "papermill": {
     "duration": 0.025823,
     "end_time": "2022-06-16T00:37:46.206713",
     "exception": false,
     "start_time": "2022-06-16T00:37:46.180890",
     "status": "completed"
    },
    "tags": []
   },
   "source": [
    "We reshape the data to flatten the image pixels into a set of features or co-variates:"
   ]
  },
  {
   "cell_type": "code",
   "execution_count": 14,
   "id": "5286a4a3",
   "metadata": {
    "execution": {
     "iopub.execute_input": "2022-06-16T00:37:46.262744Z",
     "iopub.status.busy": "2022-06-16T00:37:46.262155Z",
     "iopub.status.idle": "2022-06-16T00:37:46.276209Z",
     "shell.execute_reply": "2022-06-16T00:37:46.276694Z"
    },
    "papermill": {
     "duration": 0.043998,
     "end_time": "2022-06-16T00:37:46.276817",
     "exception": false,
     "start_time": "2022-06-16T00:37:46.232819",
     "status": "completed"
    },
    "tags": []
   },
   "outputs": [
    {
     "data": {
      "text/plain": [
       "((11982, 784), (1984, 784))"
      ]
     },
     "execution_count": 14,
     "metadata": {},
     "output_type": "execute_result"
    }
   ],
   "source": [
    "X_train = X_train.reshape(X_train.shape[0], -1)\n",
    "X_test = X_test.reshape(X_test.shape[0], -1)\n",
    "X_train.shape, X_test.shape"
   ]
  },
  {
   "cell_type": "code",
   "execution_count": 15,
   "id": "73c5f88a",
   "metadata": {
    "execution": {
     "iopub.execute_input": "2022-06-16T00:37:46.333410Z",
     "iopub.status.busy": "2022-06-16T00:37:46.332830Z",
     "iopub.status.idle": "2022-06-16T00:37:46.352034Z",
     "shell.execute_reply": "2022-06-16T00:37:46.351558Z"
    },
    "papermill": {
     "duration": 0.049028,
     "end_time": "2022-06-16T00:37:46.352159",
     "exception": false,
     "start_time": "2022-06-16T00:37:46.303131",
     "status": "completed"
    },
    "tags": []
   },
   "outputs": [],
   "source": [
    "#Impoting functions from 'Kudzu'\n",
    "from kudzu.model import Model\n",
    "from kudzu.train import Learner\n",
    "from kudzu.optim import GD\n",
    "from kudzu.data import Data, Sampler,Dataloader\n",
    "\n",
    "from kudzu.callbacks import AccCallback\n",
    "from kudzu.callbacks import ClfCallback\n",
    "\n",
    "from kudzu.loss import MSE\n",
    "\n",
    "from kudzu.layer import Sigmoid,Relu\n",
    "from kudzu.layer import Affine"
   ]
  },
  {
   "cell_type": "markdown",
   "id": "bc01172a",
   "metadata": {
    "papermill": {
     "duration": 0.02624,
     "end_time": "2022-06-16T00:37:46.404705",
     "exception": false,
     "start_time": "2022-06-16T00:37:46.378465",
     "status": "completed"
    },
    "tags": []
   },
   "source": [
    "### Let us create a `Config` class, to store important parameters. \n",
    "This class essentially plays the role of a dictionary."
   ]
  },
  {
   "cell_type": "code",
   "execution_count": 16,
   "id": "978281aa",
   "metadata": {
    "execution": {
     "iopub.execute_input": "2022-06-16T00:37:46.460931Z",
     "iopub.status.busy": "2022-06-16T00:37:46.460338Z",
     "iopub.status.idle": "2022-06-16T00:37:46.472558Z",
     "shell.execute_reply": "2022-06-16T00:37:46.473041Z"
    },
    "papermill": {
     "duration": 0.042237,
     "end_time": "2022-06-16T00:37:46.473165",
     "exception": false,
     "start_time": "2022-06-16T00:37:46.430928",
     "status": "completed"
    },
    "tags": []
   },
   "outputs": [],
   "source": [
    "class Config:\n",
    "    pass\n",
    "config = Config()\n",
    "config.lr = 0.001\n",
    "config.num_epochs = 250\n",
    "config.bs = 50"
   ]
  },
  {
   "cell_type": "markdown",
   "id": "1385fa59",
   "metadata": {
    "papermill": {
     "duration": 0.026126,
     "end_time": "2022-06-16T00:37:46.525654",
     "exception": false,
     "start_time": "2022-06-16T00:37:46.499528",
     "status": "completed"
    },
    "tags": []
   },
   "source": [
    "### Running Models with the Training data\n",
    "Details about the network layers:\n",
    "- A first affine layer has 784 inputs and does 100 affine transforms. These are followed by a Relu\n",
    "- A second affine layer has 100 inputs from the 100 activations of the past layer, and does 100 affine transforms. These are followed by a Relu\n",
    "- A third affine layer has 100 activations and does 2 affine transformations to create an embedding for visualization. There is no non-linearity here.\n",
    "- A final \"logistic regression\" which has an affine transform from 2 inputs to 1 output, which is squeezed through a sigmoid.\n"
   ]
  },
  {
   "cell_type": "code",
   "execution_count": 17,
   "id": "2b9c66db",
   "metadata": {
    "execution": {
     "iopub.execute_input": "2022-06-16T00:37:46.595941Z",
     "iopub.status.busy": "2022-06-16T00:37:46.592916Z",
     "iopub.status.idle": "2022-06-16T00:37:46.598643Z",
     "shell.execute_reply": "2022-06-16T00:37:46.598167Z"
    },
    "papermill": {
     "duration": 0.046861,
     "end_time": "2022-06-16T00:37:46.598747",
     "exception": false,
     "start_time": "2022-06-16T00:37:46.551886",
     "status": "completed"
    },
    "tags": []
   },
   "outputs": [],
   "source": [
    "data = Data(X_train, y_train.reshape(-1,1))\n",
    "sampler = Sampler(data, config.bs, shuffle=True)\n",
    "\n",
    "dl = Dataloader(data, sampler)\n",
    "\n",
    "opt = GD(config.lr)\n",
    "loss = MSE()"
   ]
  },
  {
   "cell_type": "code",
   "execution_count": 18,
   "id": "b275e4c2",
   "metadata": {
    "execution": {
     "iopub.execute_input": "2022-06-16T00:37:46.655699Z",
     "iopub.status.busy": "2022-06-16T00:37:46.655048Z",
     "iopub.status.idle": "2022-06-16T00:37:46.666561Z",
     "shell.execute_reply": "2022-06-16T00:37:46.666983Z"
    },
    "papermill": {
     "duration": 0.041991,
     "end_time": "2022-06-16T00:37:46.667103",
     "exception": false,
     "start_time": "2022-06-16T00:37:46.625112",
     "status": "completed"
    },
    "tags": []
   },
   "outputs": [],
   "source": [
    "training_data_x = X_train\n",
    "testing_data_x = X_test\n",
    "training_data_y = y_train.reshape(-1,1)\n",
    "testing_data_y = y_test.reshape(-1,1)"
   ]
  },
  {
   "cell_type": "code",
   "execution_count": 19,
   "id": "76951160",
   "metadata": {
    "execution": {
     "iopub.execute_input": "2022-06-16T00:37:46.723652Z",
     "iopub.status.busy": "2022-06-16T00:37:46.723052Z",
     "iopub.status.idle": "2022-06-16T00:37:46.739007Z",
     "shell.execute_reply": "2022-06-16T00:37:46.739453Z"
    },
    "papermill": {
     "duration": 0.046274,
     "end_time": "2022-06-16T00:37:46.739579",
     "exception": false,
     "start_time": "2022-06-16T00:37:46.693305",
     "status": "completed"
    },
    "tags": []
   },
   "outputs": [
    {
     "name": "stdout",
     "output_type": "stream",
     "text": [
      "xavier\n",
      "xavier\n",
      "xavier\n",
      "xavier\n",
      "xavier\n"
     ]
    }
   ],
   "source": [
    "layers = [Affine(\"first\", 784, 100), Relu(\"first\"), Affine(\"second\", 100, 100), Relu(\"second\"), Affine(\"third\", 100, 2), Affine(\"last\", 2, 1), Sigmoid(\"last\")]\n",
    "model_nn = Model(layers)\n",
    "model_lr = Model([Affine(\"logits\", 784, 1), Sigmoid(\"sigmoid\")])"
   ]
  },
  {
   "cell_type": "code",
   "execution_count": 20,
   "id": "6eede77a",
   "metadata": {
    "execution": {
     "iopub.execute_input": "2022-06-16T00:37:46.796389Z",
     "iopub.status.busy": "2022-06-16T00:37:46.795775Z",
     "iopub.status.idle": "2022-06-16T00:37:46.808824Z",
     "shell.execute_reply": "2022-06-16T00:37:46.808321Z"
    },
    "papermill": {
     "duration": 0.042653,
     "end_time": "2022-06-16T00:37:46.808931",
     "exception": false,
     "start_time": "2022-06-16T00:37:46.766278",
     "status": "completed"
    },
    "tags": []
   },
   "outputs": [],
   "source": [
    "nn_learner = Learner(loss, model_nn, opt, config.num_epochs)\n",
    "acc_nn = ClfCallback(nn_learner, config.bs, training_data_x , testing_data_x, training_data_y, testing_data_y)\n",
    "nn_learner.set_callbacks([acc_nn])"
   ]
  },
  {
   "cell_type": "code",
   "execution_count": 21,
   "id": "877b6cc7",
   "metadata": {
    "execution": {
     "iopub.execute_input": "2022-06-16T00:37:46.869322Z",
     "iopub.status.busy": "2022-06-16T00:37:46.868741Z",
     "iopub.status.idle": "2022-06-16T00:37:46.878345Z",
     "shell.execute_reply": "2022-06-16T00:37:46.878819Z"
    },
    "papermill": {
     "duration": 0.043452,
     "end_time": "2022-06-16T00:37:46.878941",
     "exception": false,
     "start_time": "2022-06-16T00:37:46.835489",
     "status": "completed"
    },
    "tags": []
   },
   "outputs": [],
   "source": [
    "lr_learner = Learner(loss, model_lr, opt, config.num_epochs)\n",
    "acc_lr = ClfCallback(lr_learner, config.bs, training_data_x , testing_data_x, training_data_y, testing_data_y)\n",
    "lr_learner.set_callbacks([acc_lr])"
   ]
  },
  {
   "cell_type": "code",
   "execution_count": 22,
   "id": "d9b133c3",
   "metadata": {
    "execution": {
     "iopub.execute_input": "2022-06-16T00:37:46.936186Z",
     "iopub.status.busy": "2022-06-16T00:37:46.935578Z",
     "iopub.status.idle": "2022-06-16T00:39:02.673121Z",
     "shell.execute_reply": "2022-06-16T00:39:02.673982Z"
    },
    "papermill": {
     "duration": 75.768072,
     "end_time": "2022-06-16T00:39:02.674143",
     "exception": false,
     "start_time": "2022-06-16T00:37:46.906071",
     "status": "completed"
    },
    "tags": []
   },
   "outputs": [
    {
     "name": "stdout",
     "output_type": "stream",
     "text": [
      "Epoch 0, Loss 0.2555\n",
      "Training Accuracy: 0.4549, Testing Accuracy: 0.4763\n",
      "\n"
     ]
    },
    {
     "name": "stdout",
     "output_type": "stream",
     "text": [
      "Epoch 10, Loss 0.1894\n",
      "Training Accuracy: 0.8863, Testing Accuracy: 0.9042\n",
      "\n"
     ]
    },
    {
     "name": "stdout",
     "output_type": "stream",
     "text": [
      "Epoch 20, Loss 0.09\n",
      "Training Accuracy: 0.9190, Testing Accuracy: 0.9330\n",
      "\n"
     ]
    },
    {
     "name": "stdout",
     "output_type": "stream",
     "text": [
      "Epoch 30, Loss 0.0579\n",
      "Training Accuracy: 0.9384, Testing Accuracy: 0.9496\n",
      "\n"
     ]
    },
    {
     "name": "stdout",
     "output_type": "stream",
     "text": [
      "Epoch 40, Loss 0.0459\n",
      "Training Accuracy: 0.9493, Testing Accuracy: 0.9577\n",
      "\n"
     ]
    },
    {
     "name": "stdout",
     "output_type": "stream",
     "text": [
      "Epoch 50, Loss 0.0398\n",
      "Training Accuracy: 0.9558, Testing Accuracy: 0.9602\n",
      "\n"
     ]
    },
    {
     "name": "stdout",
     "output_type": "stream",
     "text": [
      "Epoch 60, Loss 0.036\n",
      "Training Accuracy: 0.9597, Testing Accuracy: 0.9642\n",
      "\n"
     ]
    },
    {
     "name": "stdout",
     "output_type": "stream",
     "text": [
      "Epoch 70, Loss 0.0334\n",
      "Training Accuracy: 0.9621, Testing Accuracy: 0.9652\n",
      "\n"
     ]
    },
    {
     "name": "stdout",
     "output_type": "stream",
     "text": [
      "Epoch 80, Loss 0.0315\n",
      "Training Accuracy: 0.9637, Testing Accuracy: 0.9667\n",
      "\n"
     ]
    },
    {
     "name": "stdout",
     "output_type": "stream",
     "text": [
      "Epoch 90, Loss 0.0299\n",
      "Training Accuracy: 0.9657, Testing Accuracy: 0.9682\n",
      "\n"
     ]
    },
    {
     "name": "stdout",
     "output_type": "stream",
     "text": [
      "Epoch 100, Loss 0.0286\n",
      "Training Accuracy: 0.9670, Testing Accuracy: 0.9693\n",
      "\n"
     ]
    },
    {
     "name": "stdout",
     "output_type": "stream",
     "text": [
      "Epoch 110, Loss 0.0276\n",
      "Training Accuracy: 0.9684, Testing Accuracy: 0.9703\n",
      "\n"
     ]
    },
    {
     "name": "stdout",
     "output_type": "stream",
     "text": [
      "Epoch 120, Loss 0.0267\n",
      "Training Accuracy: 0.9692, Testing Accuracy: 0.9703\n",
      "\n"
     ]
    },
    {
     "name": "stdout",
     "output_type": "stream",
     "text": [
      "Epoch 130, Loss 0.0258\n",
      "Training Accuracy: 0.9700, Testing Accuracy: 0.9698\n",
      "\n"
     ]
    },
    {
     "name": "stdout",
     "output_type": "stream",
     "text": [
      "Epoch 140, Loss 0.0251\n",
      "Training Accuracy: 0.9713, Testing Accuracy: 0.9682\n",
      "\n"
     ]
    },
    {
     "name": "stdout",
     "output_type": "stream",
     "text": [
      "Epoch 150, Loss 0.0245\n",
      "Training Accuracy: 0.9720, Testing Accuracy: 0.9677\n",
      "\n"
     ]
    },
    {
     "name": "stdout",
     "output_type": "stream",
     "text": [
      "Epoch 160, Loss 0.0239\n",
      "Training Accuracy: 0.9732, Testing Accuracy: 0.9693\n",
      "\n"
     ]
    },
    {
     "name": "stdout",
     "output_type": "stream",
     "text": [
      "Epoch 170, Loss 0.0233\n",
      "Training Accuracy: 0.9737, Testing Accuracy: 0.9703\n",
      "\n"
     ]
    },
    {
     "name": "stdout",
     "output_type": "stream",
     "text": [
      "Epoch 180, Loss 0.0228\n",
      "Training Accuracy: 0.9739, Testing Accuracy: 0.9703\n",
      "\n"
     ]
    },
    {
     "name": "stdout",
     "output_type": "stream",
     "text": [
      "Epoch 190, Loss 0.0224\n",
      "Training Accuracy: 0.9745, Testing Accuracy: 0.9713\n",
      "\n"
     ]
    },
    {
     "name": "stdout",
     "output_type": "stream",
     "text": [
      "Epoch 200, Loss 0.0219\n",
      "Training Accuracy: 0.9748, Testing Accuracy: 0.9708\n",
      "\n"
     ]
    },
    {
     "name": "stdout",
     "output_type": "stream",
     "text": [
      "Epoch 210, Loss 0.0215\n",
      "Training Accuracy: 0.9755, Testing Accuracy: 0.9708\n",
      "\n"
     ]
    },
    {
     "name": "stdout",
     "output_type": "stream",
     "text": [
      "Epoch 220, Loss 0.0211\n",
      "Training Accuracy: 0.9760, Testing Accuracy: 0.9718\n",
      "\n"
     ]
    },
    {
     "name": "stdout",
     "output_type": "stream",
     "text": [
      "Epoch 230, Loss 0.0207\n",
      "Training Accuracy: 0.9765, Testing Accuracy: 0.9723\n",
      "\n"
     ]
    },
    {
     "name": "stdout",
     "output_type": "stream",
     "text": [
      "Epoch 240, Loss 0.0204\n",
      "Training Accuracy: 0.9770, Testing Accuracy: 0.9728\n",
      "\n"
     ]
    },
    {
     "data": {
      "text/plain": [
       "0.014598127442609703"
      ]
     },
     "execution_count": 22,
     "metadata": {},
     "output_type": "execute_result"
    }
   ],
   "source": [
    "nn_learner.train_loop(dl)"
   ]
  },
  {
   "cell_type": "code",
   "execution_count": 23,
   "id": "e0163366",
   "metadata": {
    "execution": {
     "iopub.execute_input": "2022-06-16T00:39:02.755073Z",
     "iopub.status.busy": "2022-06-16T00:39:02.754484Z",
     "iopub.status.idle": "2022-06-16T00:39:16.193535Z",
     "shell.execute_reply": "2022-06-16T00:39:16.194384Z"
    },
    "papermill": {
     "duration": 13.486002,
     "end_time": "2022-06-16T00:39:16.194540",
     "exception": false,
     "start_time": "2022-06-16T00:39:02.708538",
     "status": "completed"
    },
    "tags": []
   },
   "outputs": [
    {
     "name": "stdout",
     "output_type": "stream",
     "text": [
      "Epoch 0, Loss 0.2746\n",
      "Training Accuracy: 0.5560, Testing Accuracy: 0.5504\n",
      "\n"
     ]
    },
    {
     "name": "stdout",
     "output_type": "stream",
     "text": [
      "Epoch 10, Loss 0.1036\n",
      "Training Accuracy: 0.9165, Testing Accuracy: 0.9209\n",
      "\n"
     ]
    },
    {
     "name": "stdout",
     "output_type": "stream",
     "text": [
      "Epoch 20, Loss 0.0785\n",
      "Training Accuracy: 0.9312, Testing Accuracy: 0.9400\n",
      "\n"
     ]
    },
    {
     "name": "stdout",
     "output_type": "stream",
     "text": [
      "Epoch 30, Loss 0.0674\n",
      "Training Accuracy: 0.9379, Testing Accuracy: 0.9486\n",
      "\n"
     ]
    },
    {
     "name": "stdout",
     "output_type": "stream",
     "text": [
      "Epoch 40, Loss 0.0608\n",
      "Training Accuracy: 0.9424, Testing Accuracy: 0.9531\n",
      "\n"
     ]
    },
    {
     "name": "stdout",
     "output_type": "stream",
     "text": [
      "Epoch 50, Loss 0.0564\n",
      "Training Accuracy: 0.9462, Testing Accuracy: 0.9556\n",
      "\n"
     ]
    },
    {
     "name": "stdout",
     "output_type": "stream",
     "text": [
      "Epoch 60, Loss 0.0531\n",
      "Training Accuracy: 0.9485, Testing Accuracy: 0.9561\n",
      "\n"
     ]
    },
    {
     "name": "stdout",
     "output_type": "stream",
     "text": [
      "Epoch 70, Loss 0.0506\n",
      "Training Accuracy: 0.9503, Testing Accuracy: 0.9572\n",
      "\n"
     ]
    },
    {
     "name": "stdout",
     "output_type": "stream",
     "text": [
      "Epoch 80, Loss 0.0486\n",
      "Training Accuracy: 0.9513, Testing Accuracy: 0.9587\n",
      "\n"
     ]
    },
    {
     "name": "stdout",
     "output_type": "stream",
     "text": [
      "Epoch 90, Loss 0.047\n",
      "Training Accuracy: 0.9530, Testing Accuracy: 0.9602\n",
      "\n"
     ]
    },
    {
     "name": "stdout",
     "output_type": "stream",
     "text": [
      "Epoch 100, Loss 0.0456\n",
      "Training Accuracy: 0.9542, Testing Accuracy: 0.9622\n",
      "\n"
     ]
    },
    {
     "name": "stdout",
     "output_type": "stream",
     "text": [
      "Epoch 110, Loss 0.0444\n",
      "Training Accuracy: 0.9551, Testing Accuracy: 0.9622\n",
      "\n"
     ]
    },
    {
     "name": "stdout",
     "output_type": "stream",
     "text": [
      "Epoch 120, Loss 0.0433\n",
      "Training Accuracy: 0.9557, Testing Accuracy: 0.9632\n",
      "\n"
     ]
    },
    {
     "name": "stdout",
     "output_type": "stream",
     "text": [
      "Epoch 130, Loss 0.0424\n",
      "Training Accuracy: 0.9557, Testing Accuracy: 0.9647\n",
      "\n"
     ]
    },
    {
     "name": "stdout",
     "output_type": "stream",
     "text": [
      "Epoch 140, Loss 0.0416\n",
      "Training Accuracy: 0.9567, Testing Accuracy: 0.9652\n",
      "\n"
     ]
    },
    {
     "name": "stdout",
     "output_type": "stream",
     "text": [
      "Epoch 150, Loss 0.0409\n",
      "Training Accuracy: 0.9575, Testing Accuracy: 0.9657\n",
      "\n"
     ]
    },
    {
     "name": "stdout",
     "output_type": "stream",
     "text": [
      "Epoch 160, Loss 0.0402\n",
      "Training Accuracy: 0.9582, Testing Accuracy: 0.9657\n",
      "\n"
     ]
    },
    {
     "name": "stdout",
     "output_type": "stream",
     "text": [
      "Epoch 170, Loss 0.0396\n",
      "Training Accuracy: 0.9589, Testing Accuracy: 0.9657\n",
      "\n"
     ]
    },
    {
     "name": "stdout",
     "output_type": "stream",
     "text": [
      "Epoch 180, Loss 0.0391\n",
      "Training Accuracy: 0.9593, Testing Accuracy: 0.9672\n",
      "\n"
     ]
    },
    {
     "name": "stdout",
     "output_type": "stream",
     "text": [
      "Epoch 190, Loss 0.0386\n",
      "Training Accuracy: 0.9596, Testing Accuracy: 0.9677\n",
      "\n"
     ]
    },
    {
     "name": "stdout",
     "output_type": "stream",
     "text": [
      "Epoch 200, Loss 0.0381\n",
      "Training Accuracy: 0.9598, Testing Accuracy: 0.9672\n",
      "\n"
     ]
    },
    {
     "name": "stdout",
     "output_type": "stream",
     "text": [
      "Epoch 210, Loss 0.0377\n",
      "Training Accuracy: 0.9599, Testing Accuracy: 0.9677\n",
      "\n"
     ]
    },
    {
     "name": "stdout",
     "output_type": "stream",
     "text": [
      "Epoch 220, Loss 0.0373\n",
      "Training Accuracy: 0.9599, Testing Accuracy: 0.9682\n",
      "\n"
     ]
    },
    {
     "name": "stdout",
     "output_type": "stream",
     "text": [
      "Epoch 230, Loss 0.0369\n",
      "Training Accuracy: 0.9602, Testing Accuracy: 0.9677\n",
      "\n"
     ]
    },
    {
     "name": "stdout",
     "output_type": "stream",
     "text": [
      "Epoch 240, Loss 0.0366\n",
      "Training Accuracy: 0.9604, Testing Accuracy: 0.9677\n",
      "\n"
     ]
    },
    {
     "data": {
      "text/plain": [
       "0.03767326041823722"
      ]
     },
     "execution_count": 23,
     "metadata": {},
     "output_type": "execute_result"
    }
   ],
   "source": [
    "lr_learner.train_loop(dl)"
   ]
  },
  {
   "cell_type": "code",
   "execution_count": 24,
   "id": "ca410940",
   "metadata": {
    "execution": {
     "iopub.execute_input": "2022-06-16T00:39:16.289593Z",
     "iopub.status.busy": "2022-06-16T00:39:16.289000Z",
     "iopub.status.idle": "2022-06-16T00:39:16.510965Z",
     "shell.execute_reply": "2022-06-16T00:39:16.510037Z"
    },
    "papermill": {
     "duration": 0.275843,
     "end_time": "2022-06-16T00:39:16.511109",
     "exception": false,
     "start_time": "2022-06-16T00:39:16.235266",
     "status": "completed"
    },
    "tags": []
   },
   "outputs": [
    {
     "data": {
      "text/plain": [
       "<matplotlib.legend.Legend at 0x7fa2379ae978>"
      ]
     },
     "execution_count": 24,
     "metadata": {},
     "output_type": "execute_result"
    },
    {
     "data": {
      "image/png": "[encoded data removed]",
      "text/plain": [
       "<Figure size 1080x720 with 1 Axes>"
      ]
     },
     "metadata": {
      "needs_background": "light"
     },
     "output_type": "display_data"
    }
   ],
   "source": [
    "#comparing the results of NN and LR\n",
    "plt.figure(figsize=(15,10))\n",
    "\n",
    "# Neural Network plots\n",
    "plt.plot(acc_nn.accuracies, 'r-', label = \"Training Accuracies - NN\")\n",
    "plt.plot(acc_nn.test_accuracies, 'g-', label = \"Testing Accuracies - NN\")\n",
    "\n",
    "# Logistic Regression plots\n",
    "plt.plot(acc_lr.accuracies, 'k-', label = \"Training Accuracies - LR\")\n",
    "plt.plot(acc_lr.test_accuracies, 'b-', label = \"Testing Accuracies - LR\")\n",
    "plt.legend()"
   ]
  },
  {
   "cell_type": "markdown",
   "id": "80dfb35c",
   "metadata": {
    "papermill": {
     "duration": 0.04105,
     "end_time": "2022-06-16T00:39:16.593942",
     "exception": false,
     "start_time": "2022-06-16T00:39:16.552892",
     "status": "completed"
    },
    "tags": []
   },
   "source": [
    "#### Plotting the outputs of this layer of the NN.\n"
   ]
  },
  {
   "cell_type": "code",
   "execution_count": 25,
   "id": "45eb2ff5",
   "metadata": {
    "execution": {
     "iopub.execute_input": "2022-06-16T00:39:16.680019Z",
     "iopub.status.busy": "2022-06-16T00:39:16.679414Z",
     "iopub.status.idle": "2022-06-16T00:39:16.699795Z",
     "shell.execute_reply": "2022-06-16T00:39:16.700275Z"
    },
    "papermill": {
     "duration": 0.06552,
     "end_time": "2022-06-16T00:39:16.700412",
     "exception": false,
     "start_time": "2022-06-16T00:39:16.634892",
     "status": "completed"
    },
    "tags": []
   },
   "outputs": [],
   "source": [
    "new_model = Model(layers[:-2])\n",
    "testing_plot = new_model(testing_data_x)"
   ]
  },
  {
   "cell_type": "code",
   "execution_count": 26,
   "id": "4c0a5485",
   "metadata": {
    "execution": {
     "iopub.execute_input": "2022-06-16T00:39:16.787600Z",
     "iopub.status.busy": "2022-06-16T00:39:16.787002Z",
     "iopub.status.idle": "2022-06-16T00:39:16.981363Z",
     "shell.execute_reply": "2022-06-16T00:39:16.981815Z"
    },
    "papermill": {
     "duration": 0.240242,
     "end_time": "2022-06-16T00:39:16.981949",
     "exception": false,
     "start_time": "2022-06-16T00:39:16.741707",
     "status": "completed"
    },
    "tags": []
   },
   "outputs": [
    {
     "data": {
      "text/plain": [
       "Text(0.5, 1.0, 'Outputs')"
      ]
     },
     "execution_count": 26,
     "metadata": {},
     "output_type": "execute_result"
    },
    {
     "data": {
      "image/png": "[encoded data removed]",
      "text/plain": [
       "<Figure size 576x504 with 1 Axes>"
      ]
     },
     "metadata": {
      "needs_background": "light"
     },
     "output_type": "display_data"
    }
   ],
   "source": [
    "# Plotting the scatter plot of points and color coding by class\n",
    "plt.figure(figsize=(8,7))\n",
    "plt.scatter(testing_plot[:,0], testing_plot[:,1], alpha = 0.1, c = y_test.ravel());\n",
    "plt.title('Outputs')"
   ]
  },
  {
   "cell_type": "markdown",
   "id": "a74fcf8f",
   "metadata": {
    "papermill": {
     "duration": 0.042853,
     "end_time": "2022-06-16T00:39:17.068328",
     "exception": false,
     "start_time": "2022-06-16T00:39:17.025475",
     "status": "completed"
    },
    "tags": []
   },
   "source": [
    "Probability contours"
   ]
  },
  {
   "cell_type": "code",
   "execution_count": 27,
   "id": "d0afc8e3",
   "metadata": {
    "execution": {
     "iopub.execute_input": "2022-06-16T00:39:17.158938Z",
     "iopub.status.busy": "2022-06-16T00:39:17.158338Z",
     "iopub.status.idle": "2022-06-16T00:39:17.170861Z",
     "shell.execute_reply": "2022-06-16T00:39:17.170406Z"
    },
    "papermill": {
     "duration": 0.059615,
     "end_time": "2022-06-16T00:39:17.170978",
     "exception": false,
     "start_time": "2022-06-16T00:39:17.111363",
     "status": "completed"
    },
    "tags": []
   },
   "outputs": [],
   "source": [
    "model_prob = Model(layers[-2:]) "
   ]
  },
  {
   "cell_type": "code",
   "execution_count": 28,
   "id": "9b96e238",
   "metadata": {
    "execution": {
     "iopub.execute_input": "2022-06-16T00:39:17.262494Z",
     "iopub.status.busy": "2022-06-16T00:39:17.261906Z",
     "iopub.status.idle": "2022-06-16T00:39:17.276298Z",
     "shell.execute_reply": "2022-06-16T00:39:17.276731Z"
    },
    "papermill": {
     "duration": 0.062582,
     "end_time": "2022-06-16T00:39:17.276863",
     "exception": false,
     "start_time": "2022-06-16T00:39:17.214281",
     "status": "completed"
    },
    "tags": []
   },
   "outputs": [],
   "source": [
    "#creating the x and y ranges according to the above generated plot.\n",
    "x_range = np.linspace(-4, 1, 100) \n",
    "y_range = np.linspace(-6, 6, 100) \n",
    "x_grid, y_grid = np.meshgrid(x_range, y_range) # x_grid and y_grig are of size 100 X 100\n",
    "\n",
    "# converting x_grid and y_grid to continuous arrays\n",
    "x_gridflat = np.ravel(x_grid)\n",
    "y_gridflat = np.ravel(y_grid)\n",
    "\n",
    "# The last layer of the current model takes two columns as input. Hence transpose of np.vstack() is required.\n",
    "X = np.vstack((x_gridflat, y_gridflat)).T\n",
    "\n",
    "prob_contour = model_prob(X).reshape(100,100) "
   ]
  },
  {
   "cell_type": "code",
   "execution_count": 29,
   "id": "da72499a",
   "metadata": {
    "execution": {
     "iopub.execute_input": "2022-06-16T00:39:17.405105Z",
     "iopub.status.busy": "2022-06-16T00:39:17.402255Z",
     "iopub.status.idle": "2022-06-16T00:39:17.643232Z",
     "shell.execute_reply": "2022-06-16T00:39:17.642637Z"
    },
    "papermill": {
     "duration": 0.294781,
     "end_time": "2022-06-16T00:39:17.643352",
     "exception": false,
     "start_time": "2022-06-16T00:39:17.348571",
     "status": "completed"
    },
    "tags": []
   },
   "outputs": [
    {
     "data": {
      "image/png": "[encoded data removed]",
      "text/plain": [
       "<Figure size 720x648 with 1 Axes>"
      ]
     },
     "metadata": {
      "needs_background": "light"
     },
     "output_type": "display_data"
    }
   ],
   "source": [
    "plt.figure(figsize=(10,9))\n",
    "plt.scatter(testing_plot[:,0], testing_plot[:,1], alpha = 0.1, c = y_test.ravel())\n",
    "contours = plt.contour(x_grid,y_grid,prob_contour)\n",
    "plt.title('Probability Contours')\n",
    "plt.clabel(contours, inline = True );"
   ]
  },
  {
   "cell_type": "code",
   "execution_count": null,
   "id": "e81b4ac7",
   "metadata": {
    "papermill": {
     "duration": 0.045541,
     "end_time": "2022-06-16T00:39:17.735103",
     "exception": false,
     "start_time": "2022-06-16T00:39:17.689562",
     "status": "completed"
    },
    "tags": []
   },
   "outputs": [],
   "source": []
  }
 ],
 "metadata": {
  "kernelspec": {
   "display_name": "Python 3",
   "language": "python",
   "name": "python3"
  },
  "language_info": {
   "codemirror_mode": {
    "name": "ipython",
    "version": 3
   },
   "file_extension": ".py",
   "mimetype": "text/x-python",
   "name": "python",
   "nbconvert_exporter": "python",
   "pygments_lexer": "ipython3",
   "version": "3.6.15"
  },
  "papermill": {
   "default_parameters": {},
   "duration": 97.218672,
   "end_time": "2022-06-16T00:39:18.200315",
   "environment_variables": {},
   "exception": null,
   "input_path": "2020-08-11-part2.ipynb",
   "output_path": "2020-08-11-part2.ipynb",
   "parameters": {},
   "start_time": "2022-06-16T00:37:40.981643",
   "version": "2.3.3"
  }
 },
 "nbformat": 4,
 "nbformat_minor": 5
}