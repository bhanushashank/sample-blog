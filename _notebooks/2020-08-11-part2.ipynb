{
 "cells": [
  {
   "cell_type": "markdown",
   "id": "98380cd3",
   "metadata": {
    "papermill": {
     "duration": 0.033322,
     "end_time": "2021-08-30T20:07:59.026829",
     "exception": false,
     "start_time": "2021-08-30T20:07:58.993507",
     "status": "completed"
    },
    "tags": []
   },
   "source": [
    "# Distinguish Your Own Digits (DYOD)"
   ]
  },
  {
   "cell_type": "markdown",
   "id": "ef31240d",
   "metadata": {
    "papermill": {
     "duration": 0.029036,
     "end_time": "2021-08-30T20:07:59.084749",
     "exception": false,
     "start_time": "2021-08-30T20:07:59.055713",
     "status": "completed"
    },
    "tags": []
   },
   "source": [
    "You are going to write a classifier that distinguishes between the number 3 and number 8."
   ]
  },
  {
   "cell_type": "code",
   "execution_count": 1,
   "id": "b15c8646",
   "metadata": {
    "execution": {
     "iopub.execute_input": "2021-08-30T20:07:59.152078Z",
     "iopub.status.busy": "2021-08-30T20:07:59.151463Z",
     "iopub.status.idle": "2021-08-30T20:07:59.161736Z",
     "shell.execute_reply": "2021-08-30T20:07:59.162298Z"
    },
    "papermill": {
     "duration": 0.050782,
     "end_time": "2021-08-30T20:07:59.162476",
     "exception": false,
     "start_time": "2021-08-30T20:07:59.111694",
     "status": "completed"
    },
    "tags": []
   },
   "outputs": [],
   "source": [
    "%load_ext autoreload\n",
    "%autoreload 2"
   ]
  },
  {
   "cell_type": "code",
   "execution_count": 2,
   "id": "22ef38dc",
   "metadata": {
    "execution": {
     "iopub.execute_input": "2021-08-30T20:07:59.224133Z",
     "iopub.status.busy": "2021-08-30T20:07:59.223521Z",
     "iopub.status.idle": "2021-08-30T20:07:59.816110Z",
     "shell.execute_reply": "2021-08-30T20:07:59.815538Z"
    },
    "papermill": {
     "duration": 0.626048,
     "end_time": "2021-08-30T20:07:59.816258",
     "exception": false,
     "start_time": "2021-08-30T20:07:59.190210",
     "status": "completed"
    },
    "tags": []
   },
   "outputs": [],
   "source": [
    "%matplotlib inline\n",
    "import numpy as np\n",
    "import matplotlib.pyplot as plt\n",
    "import pandas as pd"
   ]
  },
  {
   "cell_type": "markdown",
   "id": "ba036198",
   "metadata": {
    "papermill": {
     "duration": 0.039243,
     "end_time": "2021-08-30T20:07:59.885688",
     "exception": false,
     "start_time": "2021-08-30T20:07:59.846445",
     "status": "completed"
    },
    "tags": []
   },
   "source": [
    "From the command line run `pip install mnist`. This is a library that will help you bring down the mnist dataset. If you run this from a notebook, you need to put  `!pip install mnist` in a cell by itself."
   ]
  },
  {
   "cell_type": "code",
   "execution_count": 3,
   "id": "bb6ad8a1",
   "metadata": {
    "execution": {
     "iopub.execute_input": "2021-08-30T20:07:59.948774Z",
     "iopub.status.busy": "2021-08-30T20:07:59.948145Z",
     "iopub.status.idle": "2021-08-30T20:08:02.770008Z",
     "shell.execute_reply": "2021-08-30T20:08:02.769056Z"
    },
    "papermill": {
     "duration": 2.854988,
     "end_time": "2021-08-30T20:08:02.770139",
     "exception": false,
     "start_time": "2021-08-30T20:07:59.915151",
     "status": "completed"
    },
    "tags": []
   },
   "outputs": [
    {
     "name": "stdout",
     "output_type": "stream",
     "text": [
      "Collecting mnist\r\n"
     ]
    },
    {
     "name": "stdout",
     "output_type": "stream",
     "text": [
      "  Downloading mnist-0.2.2-py2.py3-none-any.whl (3.5 kB)\r\n",
      "Requirement already satisfied: numpy in /opt/hostedtoolcache/Python/3.6.14/x64/lib/python3.6/site-packages (from mnist) (1.19.5)\r\n"
     ]
    },
    {
     "name": "stdout",
     "output_type": "stream",
     "text": [
      "Installing collected packages: mnist\r\n"
     ]
    },
    {
     "name": "stdout",
     "output_type": "stream",
     "text": [
      "Successfully installed mnist-0.2.2\r\n"
     ]
    }
   ],
   "source": [
    "!pip install mnist"
   ]
  },
  {
   "cell_type": "markdown",
   "id": "69df9c9a",
   "metadata": {
    "papermill": {
     "duration": 0.02991,
     "end_time": "2021-08-30T20:08:02.828751",
     "exception": false,
     "start_time": "2021-08-30T20:08:02.798841",
     "status": "completed"
    },
    "tags": []
   },
   "source": [
    "## Preparing the Data"
   ]
  },
  {
   "cell_type": "code",
   "execution_count": 4,
   "id": "7f69d806",
   "metadata": {
    "execution": {
     "iopub.execute_input": "2021-08-30T20:08:02.891337Z",
     "iopub.status.busy": "2021-08-30T20:08:02.890731Z",
     "iopub.status.idle": "2021-08-30T20:08:02.905451Z",
     "shell.execute_reply": "2021-08-30T20:08:02.904860Z"
    },
    "papermill": {
     "duration": 0.047588,
     "end_time": "2021-08-30T20:08:02.905572",
     "exception": false,
     "start_time": "2021-08-30T20:08:02.857984",
     "status": "completed"
    },
    "tags": []
   },
   "outputs": [],
   "source": [
    "import mnist"
   ]
  },
  {
   "cell_type": "code",
   "execution_count": 5,
   "id": "a411e44f",
   "metadata": {
    "execution": {
     "iopub.execute_input": "2021-08-30T20:08:02.972652Z",
     "iopub.status.busy": "2021-08-30T20:08:02.972002Z",
     "iopub.status.idle": "2021-08-30T20:08:03.730298Z",
     "shell.execute_reply": "2021-08-30T20:08:03.730819Z"
    },
    "papermill": {
     "duration": 0.796294,
     "end_time": "2021-08-30T20:08:03.730992",
     "exception": false,
     "start_time": "2021-08-30T20:08:02.934698",
     "status": "completed"
    },
    "tags": []
   },
   "outputs": [],
   "source": [
    "train_images = mnist.train_images()\n",
    "train_labels = mnist.train_labels()"
   ]
  },
  {
   "cell_type": "code",
   "execution_count": 6,
   "id": "dceab3a5",
   "metadata": {
    "execution": {
     "iopub.execute_input": "2021-08-30T20:08:03.797951Z",
     "iopub.status.busy": "2021-08-30T20:08:03.797301Z",
     "iopub.status.idle": "2021-08-30T20:08:03.812059Z",
     "shell.execute_reply": "2021-08-30T20:08:03.812669Z"
    },
    "papermill": {
     "duration": 0.050007,
     "end_time": "2021-08-30T20:08:03.812831",
     "exception": false,
     "start_time": "2021-08-30T20:08:03.762824",
     "status": "completed"
    },
    "tags": []
   },
   "outputs": [
    {
     "data": {
      "text/plain": [
       "((60000, 28, 28), (60000,))"
      ]
     },
     "execution_count": 6,
     "metadata": {},
     "output_type": "execute_result"
    }
   ],
   "source": [
    "train_images.shape, train_labels.shape"
   ]
  },
  {
   "cell_type": "code",
   "execution_count": 7,
   "id": "f50dc2bb",
   "metadata": {
    "execution": {
     "iopub.execute_input": "2021-08-30T20:08:03.880995Z",
     "iopub.status.busy": "2021-08-30T20:08:03.880344Z",
     "iopub.status.idle": "2021-08-30T20:08:04.249308Z",
     "shell.execute_reply": "2021-08-30T20:08:04.248604Z"
    },
    "papermill": {
     "duration": 0.40402,
     "end_time": "2021-08-30T20:08:04.249465",
     "exception": false,
     "start_time": "2021-08-30T20:08:03.845445",
     "status": "completed"
    },
    "tags": []
   },
   "outputs": [],
   "source": [
    "test_images = mnist.test_images()\n",
    "test_labels = mnist.test_labels()"
   ]
  },
  {
   "cell_type": "code",
   "execution_count": 8,
   "id": "fc38cf1b",
   "metadata": {
    "execution": {
     "iopub.execute_input": "2021-08-30T20:08:04.313792Z",
     "iopub.status.busy": "2021-08-30T20:08:04.313152Z",
     "iopub.status.idle": "2021-08-30T20:08:04.328021Z",
     "shell.execute_reply": "2021-08-30T20:08:04.327467Z"
    },
    "papermill": {
     "duration": 0.046845,
     "end_time": "2021-08-30T20:08:04.328144",
     "exception": false,
     "start_time": "2021-08-30T20:08:04.281299",
     "status": "completed"
    },
    "tags": []
   },
   "outputs": [
    {
     "data": {
      "text/plain": [
       "((10000, 28, 28), (10000,))"
      ]
     },
     "execution_count": 8,
     "metadata": {},
     "output_type": "execute_result"
    }
   ],
   "source": [
    "test_images.shape, test_labels.shape"
   ]
  },
  {
   "cell_type": "code",
   "execution_count": 9,
   "id": "f9ed8fe0",
   "metadata": {
    "execution": {
     "iopub.execute_input": "2021-08-30T20:08:04.393289Z",
     "iopub.status.busy": "2021-08-30T20:08:04.392619Z",
     "iopub.status.idle": "2021-08-30T20:08:04.568229Z",
     "shell.execute_reply": "2021-08-30T20:08:04.568763Z"
    },
    "papermill": {
     "duration": 0.211077,
     "end_time": "2021-08-30T20:08:04.568927",
     "exception": false,
     "start_time": "2021-08-30T20:08:04.357850",
     "status": "completed"
    },
    "tags": []
   },
   "outputs": [
    {
     "name": "stdout",
     "output_type": "stream",
     "text": [
      "2\n"
     ]
    },
    {
     "data": {
      "text/plain": [
       "<matplotlib.image.AxesImage at 0x7f2591a3da58>"
      ]
     },
     "execution_count": 9,
     "metadata": {},
     "output_type": "execute_result"
    },
    {
     "data": {
      "image/png": "[encoded data removed]",
      "text/plain": [
       "<Figure size 432x288 with 1 Axes>"
      ]
     },
     "metadata": {
      "needs_background": "light"
     },
     "output_type": "display_data"
    }
   ],
   "source": [
    "image_index = 7776 # You may select anything up to 60,000\n",
    "print(train_labels[image_index]) \n",
    "plt.imshow(train_images[image_index], cmap='Greys')"
   ]
  },
  {
   "cell_type": "markdown",
   "id": "a8d2388d",
   "metadata": {
    "papermill": {
     "duration": 0.03327,
     "end_time": "2021-08-30T20:08:04.635765",
     "exception": false,
     "start_time": "2021-08-30T20:08:04.602495",
     "status": "completed"
    },
    "tags": []
   },
   "source": [
    "## Filter data to get 3 and 8 out"
   ]
  },
  {
   "cell_type": "code",
   "execution_count": 10,
   "id": "776f7fc7",
   "metadata": {
    "execution": {
     "iopub.execute_input": "2021-08-30T20:08:04.708801Z",
     "iopub.status.busy": "2021-08-30T20:08:04.708151Z",
     "iopub.status.idle": "2021-08-30T20:08:04.726999Z",
     "shell.execute_reply": "2021-08-30T20:08:04.727543Z"
    },
    "papermill": {
     "duration": 0.057294,
     "end_time": "2021-08-30T20:08:04.727699",
     "exception": false,
     "start_time": "2021-08-30T20:08:04.670405",
     "status": "completed"
    },
    "tags": []
   },
   "outputs": [],
   "source": [
    "train_filter = np.where((train_labels == 3 ) | (train_labels == 8))\n",
    "test_filter = np.where((test_labels == 3) | (test_labels == 8))\n",
    "X_train, y_train = train_images[train_filter], train_labels[train_filter]\n",
    "X_test, y_test = test_images[test_filter], test_labels[test_filter]"
   ]
  },
  {
   "cell_type": "markdown",
   "id": "948f0b7e",
   "metadata": {
    "papermill": {
     "duration": 0.032949,
     "end_time": "2021-08-30T20:08:04.792823",
     "exception": false,
     "start_time": "2021-08-30T20:08:04.759874",
     "status": "completed"
    },
    "tags": []
   },
   "source": [
    "We normalize the pizel values in the 0 to 1 range"
   ]
  },
  {
   "cell_type": "code",
   "execution_count": 11,
   "id": "ee4c2166",
   "metadata": {
    "execution": {
     "iopub.execute_input": "2021-08-30T20:08:04.859712Z",
     "iopub.status.busy": "2021-08-30T20:08:04.859081Z",
     "iopub.status.idle": "2021-08-30T20:08:04.919734Z",
     "shell.execute_reply": "2021-08-30T20:08:04.919203Z"
    },
    "papermill": {
     "duration": 0.096006,
     "end_time": "2021-08-30T20:08:04.919872",
     "exception": false,
     "start_time": "2021-08-30T20:08:04.823866",
     "status": "completed"
    },
    "tags": []
   },
   "outputs": [],
   "source": [
    "X_train = X_train/255.\n",
    "X_test = X_test/255."
   ]
  },
  {
   "cell_type": "markdown",
   "id": "ddcf4fab",
   "metadata": {
    "papermill": {
     "duration": 0.032707,
     "end_time": "2021-08-30T20:08:04.985126",
     "exception": false,
     "start_time": "2021-08-30T20:08:04.952419",
     "status": "completed"
    },
    "tags": []
   },
   "source": [
    "And setup the labels as 1 (when the digit is 3) and 0 (when the digit is 8)"
   ]
  },
  {
   "cell_type": "code",
   "execution_count": 12,
   "id": "7dc908f2",
   "metadata": {
    "execution": {
     "iopub.execute_input": "2021-08-30T20:08:05.052064Z",
     "iopub.status.busy": "2021-08-30T20:08:05.051424Z",
     "iopub.status.idle": "2021-08-30T20:08:05.064033Z",
     "shell.execute_reply": "2021-08-30T20:08:05.063519Z"
    },
    "papermill": {
     "duration": 0.047133,
     "end_time": "2021-08-30T20:08:05.064163",
     "exception": false,
     "start_time": "2021-08-30T20:08:05.017030",
     "status": "completed"
    },
    "tags": []
   },
   "outputs": [],
   "source": [
    "y_train = 1*(y_train==3)\n",
    "y_test = 1*(y_test==3)"
   ]
  },
  {
   "cell_type": "code",
   "execution_count": 13,
   "id": "01e4e969",
   "metadata": {
    "execution": {
     "iopub.execute_input": "2021-08-30T20:08:05.133974Z",
     "iopub.status.busy": "2021-08-30T20:08:05.133337Z",
     "iopub.status.idle": "2021-08-30T20:08:05.146056Z",
     "shell.execute_reply": "2021-08-30T20:08:05.145532Z"
    },
    "papermill": {
     "duration": 0.050361,
     "end_time": "2021-08-30T20:08:05.146186",
     "exception": false,
     "start_time": "2021-08-30T20:08:05.095825",
     "status": "completed"
    },
    "tags": []
   },
   "outputs": [
    {
     "data": {
      "text/plain": [
       "((11982, 28, 28), (1984, 28, 28))"
      ]
     },
     "execution_count": 13,
     "metadata": {},
     "output_type": "execute_result"
    }
   ],
   "source": [
    "X_train.shape, X_test.shape"
   ]
  },
  {
   "cell_type": "markdown",
   "id": "5ccf3f85",
   "metadata": {
    "papermill": {
     "duration": 0.033281,
     "end_time": "2021-08-30T20:08:05.212406",
     "exception": false,
     "start_time": "2021-08-30T20:08:05.179125",
     "status": "completed"
    },
    "tags": []
   },
   "source": [
    "We reshape the data to flatten the image pixels into a set of features or co-variates:"
   ]
  },
  {
   "cell_type": "code",
   "execution_count": 14,
   "id": "5286a4a3",
   "metadata": {
    "execution": {
     "iopub.execute_input": "2021-08-30T20:08:05.283028Z",
     "iopub.status.busy": "2021-08-30T20:08:05.282369Z",
     "iopub.status.idle": "2021-08-30T20:08:05.295171Z",
     "shell.execute_reply": "2021-08-30T20:08:05.294679Z"
    },
    "papermill": {
     "duration": 0.050398,
     "end_time": "2021-08-30T20:08:05.295289",
     "exception": false,
     "start_time": "2021-08-30T20:08:05.244891",
     "status": "completed"
    },
    "tags": []
   },
   "outputs": [
    {
     "data": {
      "text/plain": [
       "((11982, 784), (1984, 784))"
      ]
     },
     "execution_count": 14,
     "metadata": {},
     "output_type": "execute_result"
    }
   ],
   "source": [
    "X_train = X_train.reshape(X_train.shape[0], -1)\n",
    "X_test = X_test.reshape(X_test.shape[0], -1)\n",
    "X_train.shape, X_test.shape"
   ]
  },
  {
   "cell_type": "code",
   "execution_count": 15,
   "id": "73c5f88a",
   "metadata": {
    "execution": {
     "iopub.execute_input": "2021-08-30T20:08:05.364084Z",
     "iopub.status.busy": "2021-08-30T20:08:05.363412Z",
     "iopub.status.idle": "2021-08-30T20:08:05.383311Z",
     "shell.execute_reply": "2021-08-30T20:08:05.383842Z"
    },
    "papermill": {
     "duration": 0.058195,
     "end_time": "2021-08-30T20:08:05.383989",
     "exception": false,
     "start_time": "2021-08-30T20:08:05.325794",
     "status": "completed"
    },
    "tags": []
   },
   "outputs": [],
   "source": [
    "#Impoting functions from 'Kudzu'\n",
    "from kudzu.model import Model\n",
    "from kudzu.train import Learner\n",
    "from kudzu.optim import GD\n",
    "from kudzu.data import Data, Sampler,Dataloader\n",
    "\n",
    "from kudzu.callbacks import AccCallback\n",
    "from kudzu.callbacks import ClfCallback\n",
    "\n",
    "from kudzu.loss import MSE\n",
    "\n",
    "from kudzu.layer import Sigmoid,Relu\n",
    "from kudzu.layer import Affine"
   ]
  },
  {
   "cell_type": "markdown",
   "id": "bc01172a",
   "metadata": {
    "papermill": {
     "duration": 0.034858,
     "end_time": "2021-08-30T20:08:05.453234",
     "exception": false,
     "start_time": "2021-08-30T20:08:05.418376",
     "status": "completed"
    },
    "tags": []
   },
   "source": [
    "### Let us create a `Config` class, to store important parameters. \n",
    "This class essentially plays the role of a dictionary."
   ]
  },
  {
   "cell_type": "code",
   "execution_count": 16,
   "id": "978281aa",
   "metadata": {
    "execution": {
     "iopub.execute_input": "2021-08-30T20:08:05.526419Z",
     "iopub.status.busy": "2021-08-30T20:08:05.525763Z",
     "iopub.status.idle": "2021-08-30T20:08:05.540396Z",
     "shell.execute_reply": "2021-08-30T20:08:05.539841Z"
    },
    "papermill": {
     "duration": 0.052603,
     "end_time": "2021-08-30T20:08:05.540542",
     "exception": false,
     "start_time": "2021-08-30T20:08:05.487939",
     "status": "completed"
    },
    "tags": []
   },
   "outputs": [],
   "source": [
    "class Config:\n",
    "    pass\n",
    "config = Config()\n",
    "config.lr = 0.001\n",
    "config.num_epochs = 250\n",
    "config.bs = 50"
   ]
  },
  {
   "cell_type": "markdown",
   "id": "1385fa59",
   "metadata": {
    "papermill": {
     "duration": 0.046876,
     "end_time": "2021-08-30T20:08:05.625568",
     "exception": false,
     "start_time": "2021-08-30T20:08:05.578692",
     "status": "completed"
    },
    "tags": []
   },
   "source": [
    "### Running Models with the Training data\n",
    "Details about the network layers:\n",
    "- A first affine layer has 784 inputs and does 100 affine transforms. These are followed by a Relu\n",
    "- A second affine layer has 100 inputs from the 100 activations of the past layer, and does 100 affine transforms. These are followed by a Relu\n",
    "- A third affine layer has 100 activations and does 2 affine transformations to create an embedding for visualization. There is no non-linearity here.\n",
    "- A final \"logistic regression\" which has an affine transform from 2 inputs to 1 output, which is squeezed through a sigmoid.\n"
   ]
  },
  {
   "cell_type": "code",
   "execution_count": 17,
   "id": "2b9c66db",
   "metadata": {
    "execution": {
     "iopub.execute_input": "2021-08-30T20:08:05.700931Z",
     "iopub.status.busy": "2021-08-30T20:08:05.700284Z",
     "iopub.status.idle": "2021-08-30T20:08:05.711954Z",
     "shell.execute_reply": "2021-08-30T20:08:05.712484Z"
    },
    "papermill": {
     "duration": 0.05231,
     "end_time": "2021-08-30T20:08:05.712635",
     "exception": false,
     "start_time": "2021-08-30T20:08:05.660325",
     "status": "completed"
    },
    "tags": []
   },
   "outputs": [],
   "source": [
    "data = Data(X_train, y_train.reshape(-1,1))\n",
    "sampler = Sampler(data, config.bs, shuffle=True)\n",
    "\n",
    "dl = Dataloader(data, sampler)\n",
    "\n",
    "opt = GD(config.lr)\n",
    "loss = MSE()"
   ]
  },
  {
   "cell_type": "code",
   "execution_count": 18,
   "id": "b275e4c2",
   "metadata": {
    "execution": {
     "iopub.execute_input": "2021-08-30T20:08:05.787213Z",
     "iopub.status.busy": "2021-08-30T20:08:05.786536Z",
     "iopub.status.idle": "2021-08-30T20:08:05.797812Z",
     "shell.execute_reply": "2021-08-30T20:08:05.798350Z"
    },
    "papermill": {
     "duration": 0.052461,
     "end_time": "2021-08-30T20:08:05.798534",
     "exception": false,
     "start_time": "2021-08-30T20:08:05.746073",
     "status": "completed"
    },
    "tags": []
   },
   "outputs": [],
   "source": [
    "training_data_x = X_train\n",
    "testing_data_x = X_test\n",
    "training_data_y = y_train.reshape(-1,1)\n",
    "testing_data_y = y_test.reshape(-1,1)"
   ]
  },
  {
   "cell_type": "code",
   "execution_count": 19,
   "id": "76951160",
   "metadata": {
    "execution": {
     "iopub.execute_input": "2021-08-30T20:08:05.871147Z",
     "iopub.status.busy": "2021-08-30T20:08:05.870488Z",
     "iopub.status.idle": "2021-08-30T20:08:05.888772Z",
     "shell.execute_reply": "2021-08-30T20:08:05.888211Z"
    },
    "papermill": {
     "duration": 0.057241,
     "end_time": "2021-08-30T20:08:05.888911",
     "exception": false,
     "start_time": "2021-08-30T20:08:05.831670",
     "status": "completed"
    },
    "tags": []
   },
   "outputs": [
    {
     "name": "stdout",
     "output_type": "stream",
     "text": [
      "xavier\n",
      "xavier\n",
      "xavier\n",
      "xavier\n",
      "xavier\n"
     ]
    }
   ],
   "source": [
    "layers = [Affine(\"first\", 784, 100), Relu(\"first\"), Affine(\"second\", 100, 100), Relu(\"second\"), Affine(\"third\", 100, 2), Affine(\"last\", 2, 1), Sigmoid(\"last\")]\n",
    "model_nn = Model(layers)\n",
    "model_lr = Model([Affine(\"logits\", 784, 1), Sigmoid(\"sigmoid\")])"
   ]
  },
  {
   "cell_type": "code",
   "execution_count": 20,
   "id": "6eede77a",
   "metadata": {
    "execution": {
     "iopub.execute_input": "2021-08-30T20:08:05.962506Z",
     "iopub.status.busy": "2021-08-30T20:08:05.961860Z",
     "iopub.status.idle": "2021-08-30T20:08:05.973659Z",
     "shell.execute_reply": "2021-08-30T20:08:05.974299Z"
    },
    "papermill": {
     "duration": 0.050621,
     "end_time": "2021-08-30T20:08:05.974456",
     "exception": false,
     "start_time": "2021-08-30T20:08:05.923835",
     "status": "completed"
    },
    "tags": []
   },
   "outputs": [],
   "source": [
    "nn_learner = Learner(loss, model_nn, opt, config.num_epochs)\n",
    "acc_nn = ClfCallback(nn_learner, config.bs, training_data_x , testing_data_x, training_data_y, testing_data_y)\n",
    "nn_learner.set_callbacks([acc_nn])"
   ]
  },
  {
   "cell_type": "code",
   "execution_count": 21,
   "id": "877b6cc7",
   "metadata": {
    "execution": {
     "iopub.execute_input": "2021-08-30T20:08:06.048513Z",
     "iopub.status.busy": "2021-08-30T20:08:06.047868Z",
     "iopub.status.idle": "2021-08-30T20:08:06.060737Z",
     "shell.execute_reply": "2021-08-30T20:08:06.061348Z"
    },
    "papermill": {
     "duration": 0.053732,
     "end_time": "2021-08-30T20:08:06.061510",
     "exception": false,
     "start_time": "2021-08-30T20:08:06.007778",
     "status": "completed"
    },
    "tags": []
   },
   "outputs": [],
   "source": [
    "lr_learner = Learner(loss, model_lr, opt, config.num_epochs)\n",
    "acc_lr = ClfCallback(lr_learner, config.bs, training_data_x , testing_data_x, training_data_y, testing_data_y)\n",
    "lr_learner.set_callbacks([acc_lr])"
   ]
  },
  {
   "cell_type": "code",
   "execution_count": 22,
   "id": "d9b133c3",
   "metadata": {
    "execution": {
     "iopub.execute_input": "2021-08-30T20:08:06.134149Z",
     "iopub.status.busy": "2021-08-30T20:08:06.133503Z",
     "iopub.status.idle": "2021-08-30T20:10:12.575996Z",
     "shell.execute_reply": "2021-08-30T20:10:12.576810Z"
    },
    "papermill": {
     "duration": 126.48133,
     "end_time": "2021-08-30T20:10:12.576975",
     "exception": false,
     "start_time": "2021-08-30T20:08:06.095645",
     "status": "completed"
    },
    "tags": []
   },
   "outputs": [
    {
     "name": "stdout",
     "output_type": "stream",
     "text": [
      "Epoch 0, Loss 0.2497\n",
      "Training Accuracy: 0.5414, Testing Accuracy: 0.5368\n",
      "\n"
     ]
    },
    {
     "name": "stdout",
     "output_type": "stream",
     "text": [
      "Epoch 10, Loss 0.151\n",
      "Training Accuracy: 0.8958, Testing Accuracy: 0.8987\n",
      "\n"
     ]
    },
    {
     "name": "stdout",
     "output_type": "stream",
     "text": [
      "Epoch 20, Loss 0.0762\n",
      "Training Accuracy: 0.9256, Testing Accuracy: 0.9350\n",
      "\n"
     ]
    },
    {
     "name": "stdout",
     "output_type": "stream",
     "text": [
      "Epoch 30, Loss 0.0535\n",
      "Training Accuracy: 0.9437, Testing Accuracy: 0.9556\n",
      "\n"
     ]
    },
    {
     "name": "stdout",
     "output_type": "stream",
     "text": [
      "Epoch 40, Loss 0.0436\n",
      "Training Accuracy: 0.9518, Testing Accuracy: 0.9602\n",
      "\n"
     ]
    },
    {
     "name": "stdout",
     "output_type": "stream",
     "text": [
      "Epoch 50, Loss 0.0383\n",
      "Training Accuracy: 0.9561, Testing Accuracy: 0.9647\n",
      "\n"
     ]
    },
    {
     "name": "stdout",
     "output_type": "stream",
     "text": [
      "Epoch 60, Loss 0.0349\n",
      "Training Accuracy: 0.9597, Testing Accuracy: 0.9657\n",
      "\n"
     ]
    },
    {
     "name": "stdout",
     "output_type": "stream",
     "text": [
      "Epoch 70, Loss 0.0324\n",
      "Training Accuracy: 0.9616, Testing Accuracy: 0.9662\n",
      "\n"
     ]
    },
    {
     "name": "stdout",
     "output_type": "stream",
     "text": [
      "Epoch 80, Loss 0.0306\n",
      "Training Accuracy: 0.9633, Testing Accuracy: 0.9672\n",
      "\n"
     ]
    },
    {
     "name": "stdout",
     "output_type": "stream",
     "text": [
      "Epoch 90, Loss 0.0292\n",
      "Training Accuracy: 0.9654, Testing Accuracy: 0.9693\n",
      "\n"
     ]
    },
    {
     "name": "stdout",
     "output_type": "stream",
     "text": [
      "Epoch 100, Loss 0.028\n",
      "Training Accuracy: 0.9675, Testing Accuracy: 0.9698\n",
      "\n"
     ]
    },
    {
     "name": "stdout",
     "output_type": "stream",
     "text": [
      "Epoch 110, Loss 0.027\n",
      "Training Accuracy: 0.9683, Testing Accuracy: 0.9698\n",
      "\n"
     ]
    },
    {
     "name": "stdout",
     "output_type": "stream",
     "text": [
      "Epoch 120, Loss 0.0261\n",
      "Training Accuracy: 0.9692, Testing Accuracy: 0.9698\n",
      "\n"
     ]
    },
    {
     "name": "stdout",
     "output_type": "stream",
     "text": [
      "Epoch 130, Loss 0.0254\n",
      "Training Accuracy: 0.9703, Testing Accuracy: 0.9708\n",
      "\n"
     ]
    },
    {
     "name": "stdout",
     "output_type": "stream",
     "text": [
      "Epoch 140, Loss 0.0247\n",
      "Training Accuracy: 0.9713, Testing Accuracy: 0.9718\n",
      "\n"
     ]
    },
    {
     "name": "stdout",
     "output_type": "stream",
     "text": [
      "Epoch 150, Loss 0.0241\n",
      "Training Accuracy: 0.9721, Testing Accuracy: 0.9723\n",
      "\n"
     ]
    },
    {
     "name": "stdout",
     "output_type": "stream",
     "text": [
      "Epoch 160, Loss 0.0235\n",
      "Training Accuracy: 0.9729, Testing Accuracy: 0.9723\n",
      "\n"
     ]
    },
    {
     "name": "stdout",
     "output_type": "stream",
     "text": [
      "Epoch 170, Loss 0.023\n",
      "Training Accuracy: 0.9732, Testing Accuracy: 0.9718\n",
      "\n"
     ]
    },
    {
     "name": "stdout",
     "output_type": "stream",
     "text": [
      "Epoch 180, Loss 0.0225\n",
      "Training Accuracy: 0.9740, Testing Accuracy: 0.9723\n",
      "\n"
     ]
    },
    {
     "name": "stdout",
     "output_type": "stream",
     "text": [
      "Epoch 190, Loss 0.022\n",
      "Training Accuracy: 0.9745, Testing Accuracy: 0.9728\n",
      "\n"
     ]
    },
    {
     "name": "stdout",
     "output_type": "stream",
     "text": [
      "Epoch 200, Loss 0.0216\n",
      "Training Accuracy: 0.9752, Testing Accuracy: 0.9733\n",
      "\n"
     ]
    },
    {
     "name": "stdout",
     "output_type": "stream",
     "text": [
      "Epoch 210, Loss 0.0212\n",
      "Training Accuracy: 0.9756, Testing Accuracy: 0.9738\n",
      "\n"
     ]
    },
    {
     "name": "stdout",
     "output_type": "stream",
     "text": [
      "Epoch 220, Loss 0.0208\n",
      "Training Accuracy: 0.9764, Testing Accuracy: 0.9738\n",
      "\n"
     ]
    },
    {
     "name": "stdout",
     "output_type": "stream",
     "text": [
      "Epoch 230, Loss 0.0205\n",
      "Training Accuracy: 0.9765, Testing Accuracy: 0.9733\n",
      "\n"
     ]
    },
    {
     "name": "stdout",
     "output_type": "stream",
     "text": [
      "Epoch 240, Loss 0.0201\n",
      "Training Accuracy: 0.9769, Testing Accuracy: 0.9733\n",
      "\n"
     ]
    },
    {
     "data": {
      "text/plain": [
       "0.006798968807921269"
      ]
     },
     "execution_count": 22,
     "metadata": {},
     "output_type": "execute_result"
    }
   ],
   "source": [
    "nn_learner.train_loop(dl)"
   ]
  },
  {
   "cell_type": "code",
   "execution_count": 23,
   "id": "e0163366",
   "metadata": {
    "execution": {
     "iopub.execute_input": "2021-08-30T20:10:12.673912Z",
     "iopub.status.busy": "2021-08-30T20:10:12.673265Z",
     "iopub.status.idle": "2021-08-30T20:10:30.224933Z",
     "shell.execute_reply": "2021-08-30T20:10:30.225796Z"
    },
    "papermill": {
     "duration": 17.60641,
     "end_time": "2021-08-30T20:10:30.225950",
     "exception": false,
     "start_time": "2021-08-30T20:10:12.619540",
     "status": "completed"
    },
    "tags": []
   },
   "outputs": [
    {
     "name": "stdout",
     "output_type": "stream",
     "text": [
      "Epoch 0, Loss 0.2189\n",
      "Training Accuracy: 0.7170, Testing Accuracy: 0.7016\n",
      "\n"
     ]
    },
    {
     "name": "stdout",
     "output_type": "stream",
     "text": [
      "Epoch 10, Loss 0.108\n",
      "Training Accuracy: 0.8854, Testing Accuracy: 0.9002\n",
      "\n"
     ]
    },
    {
     "name": "stdout",
     "output_type": "stream",
     "text": [
      "Epoch 20, Loss 0.0827\n",
      "Training Accuracy: 0.9171, Testing Accuracy: 0.9279\n",
      "\n"
     ]
    },
    {
     "name": "stdout",
     "output_type": "stream",
     "text": [
      "Epoch 30, Loss 0.0707\n",
      "Training Accuracy: 0.9308, Testing Accuracy: 0.9395\n",
      "\n"
     ]
    },
    {
     "name": "stdout",
     "output_type": "stream",
     "text": [
      "Epoch 40, Loss 0.0635\n",
      "Training Accuracy: 0.9377, Testing Accuracy: 0.9471\n",
      "\n"
     ]
    },
    {
     "name": "stdout",
     "output_type": "stream",
     "text": [
      "Epoch 50, Loss 0.0586\n",
      "Training Accuracy: 0.9416, Testing Accuracy: 0.9511\n",
      "\n"
     ]
    },
    {
     "name": "stdout",
     "output_type": "stream",
     "text": [
      "Epoch 60, Loss 0.055\n",
      "Training Accuracy: 0.9446, Testing Accuracy: 0.9536\n",
      "\n"
     ]
    },
    {
     "name": "stdout",
     "output_type": "stream",
     "text": [
      "Epoch 70, Loss 0.0523\n",
      "Training Accuracy: 0.9468, Testing Accuracy: 0.9582\n",
      "\n"
     ]
    },
    {
     "name": "stdout",
     "output_type": "stream",
     "text": [
      "Epoch 80, Loss 0.0501\n",
      "Training Accuracy: 0.9487, Testing Accuracy: 0.9577\n",
      "\n"
     ]
    },
    {
     "name": "stdout",
     "output_type": "stream",
     "text": [
      "Epoch 90, Loss 0.0483\n",
      "Training Accuracy: 0.9502, Testing Accuracy: 0.9602\n",
      "\n"
     ]
    },
    {
     "name": "stdout",
     "output_type": "stream",
     "text": [
      "Epoch 100, Loss 0.0468\n",
      "Training Accuracy: 0.9513, Testing Accuracy: 0.9602\n",
      "\n"
     ]
    },
    {
     "name": "stdout",
     "output_type": "stream",
     "text": [
      "Epoch 110, Loss 0.0455\n",
      "Training Accuracy: 0.9523, Testing Accuracy: 0.9617\n",
      "\n"
     ]
    },
    {
     "name": "stdout",
     "output_type": "stream",
     "text": [
      "Epoch 120, Loss 0.0444\n",
      "Training Accuracy: 0.9531, Testing Accuracy: 0.9617\n",
      "\n"
     ]
    },
    {
     "name": "stdout",
     "output_type": "stream",
     "text": [
      "Epoch 130, Loss 0.0434\n",
      "Training Accuracy: 0.9543, Testing Accuracy: 0.9627\n",
      "\n"
     ]
    },
    {
     "name": "stdout",
     "output_type": "stream",
     "text": [
      "Epoch 140, Loss 0.0425\n",
      "Training Accuracy: 0.9553, Testing Accuracy: 0.9637\n",
      "\n"
     ]
    },
    {
     "name": "stdout",
     "output_type": "stream",
     "text": [
      "Epoch 150, Loss 0.0418\n",
      "Training Accuracy: 0.9557, Testing Accuracy: 0.9642\n",
      "\n"
     ]
    },
    {
     "name": "stdout",
     "output_type": "stream",
     "text": [
      "Epoch 160, Loss 0.0411\n",
      "Training Accuracy: 0.9563, Testing Accuracy: 0.9647\n",
      "\n"
     ]
    },
    {
     "name": "stdout",
     "output_type": "stream",
     "text": [
      "Epoch 170, Loss 0.0404\n",
      "Training Accuracy: 0.9571, Testing Accuracy: 0.9652\n",
      "\n"
     ]
    },
    {
     "name": "stdout",
     "output_type": "stream",
     "text": [
      "Epoch 180, Loss 0.0398\n",
      "Training Accuracy: 0.9577, Testing Accuracy: 0.9652\n",
      "\n"
     ]
    },
    {
     "name": "stdout",
     "output_type": "stream",
     "text": [
      "Epoch 190, Loss 0.0393\n",
      "Training Accuracy: 0.9582, Testing Accuracy: 0.9652\n",
      "\n"
     ]
    },
    {
     "name": "stdout",
     "output_type": "stream",
     "text": [
      "Epoch 200, Loss 0.0388\n",
      "Training Accuracy: 0.9591, Testing Accuracy: 0.9657\n",
      "\n"
     ]
    },
    {
     "name": "stdout",
     "output_type": "stream",
     "text": [
      "Epoch 210, Loss 0.0383\n",
      "Training Accuracy: 0.9597, Testing Accuracy: 0.9662\n",
      "\n"
     ]
    },
    {
     "name": "stdout",
     "output_type": "stream",
     "text": [
      "Epoch 220, Loss 0.0379\n",
      "Training Accuracy: 0.9598, Testing Accuracy: 0.9657\n",
      "\n"
     ]
    },
    {
     "name": "stdout",
     "output_type": "stream",
     "text": [
      "Epoch 230, Loss 0.0375\n",
      "Training Accuracy: 0.9599, Testing Accuracy: 0.9662\n",
      "\n"
     ]
    },
    {
     "name": "stdout",
     "output_type": "stream",
     "text": [
      "Epoch 240, Loss 0.0371\n",
      "Training Accuracy: 0.9604, Testing Accuracy: 0.9662\n",
      "\n"
     ]
    },
    {
     "data": {
      "text/plain": [
       "0.06396809068699838"
      ]
     },
     "execution_count": 23,
     "metadata": {},
     "output_type": "execute_result"
    }
   ],
   "source": [
    "lr_learner.train_loop(dl)"
   ]
  },
  {
   "cell_type": "code",
   "execution_count": 24,
   "id": "ca410940",
   "metadata": {
    "execution": {
     "iopub.execute_input": "2021-08-30T20:10:30.338472Z",
     "iopub.status.busy": "2021-08-30T20:10:30.337858Z",
     "iopub.status.idle": "2021-08-30T20:10:30.619641Z",
     "shell.execute_reply": "2021-08-30T20:10:30.620158Z"
    },
    "papermill": {
     "duration": 0.342739,
     "end_time": "2021-08-30T20:10:30.620312",
     "exception": false,
     "start_time": "2021-08-30T20:10:30.277573",
     "status": "completed"
    },
    "tags": []
   },
   "outputs": [
    {
     "data": {
      "text/plain": [
       "<matplotlib.legend.Legend at 0x7f2591621b70>"
      ]
     },
     "execution_count": 24,
     "metadata": {},
     "output_type": "execute_result"
    },
    {
     "data": {
      "image/png": "[encoded data removed]",
      "text/plain": [
       "<Figure size 1080x720 with 1 Axes>"
      ]
     },
     "metadata": {
      "needs_background": "light"
     },
     "output_type": "display_data"
    }
   ],
   "source": [
    "#comparing the results of NN and LR\n",
    "plt.figure(figsize=(15,10))\n",
    "\n",
    "# Neural Network plots\n",
    "plt.plot(acc_nn.accuracies, 'r-', label = \"Training Accuracies - NN\")\n",
    "plt.plot(acc_nn.test_accuracies, 'g-', label = \"Testing Accuracies - NN\")\n",
    "\n",
    "# Logistic Regression plots\n",
    "plt.plot(acc_lr.accuracies, 'k-', label = \"Training Accuracies - LR\")\n",
    "plt.plot(acc_lr.test_accuracies, 'b-', label = \"Testing Accuracies - LR\")\n",
    "plt.legend()"
   ]
  },
  {
   "cell_type": "markdown",
   "id": "80dfb35c",
   "metadata": {
    "papermill": {
     "duration": 0.052835,
     "end_time": "2021-08-30T20:10:30.726668",
     "exception": false,
     "start_time": "2021-08-30T20:10:30.673833",
     "status": "completed"
    },
    "tags": []
   },
   "source": [
    "#### Plotting the outputs of this layer of the NN.\n"
   ]
  },
  {
   "cell_type": "code",
   "execution_count": 25,
   "id": "45eb2ff5",
   "metadata": {
    "execution": {
     "iopub.execute_input": "2021-08-30T20:10:30.835622Z",
     "iopub.status.busy": "2021-08-30T20:10:30.834944Z",
     "iopub.status.idle": "2021-08-30T20:10:30.859618Z",
     "shell.execute_reply": "2021-08-30T20:10:30.860104Z"
    },
    "papermill": {
     "duration": 0.081459,
     "end_time": "2021-08-30T20:10:30.860255",
     "exception": false,
     "start_time": "2021-08-30T20:10:30.778796",
     "status": "completed"
    },
    "tags": []
   },
   "outputs": [],
   "source": [
    "new_model = Model(layers[:-2])\n",
    "testing_plot = new_model(testing_data_x)"
   ]
  },
  {
   "cell_type": "code",
   "execution_count": 26,
   "id": "4c0a5485",
   "metadata": {
    "execution": {
     "iopub.execute_input": "2021-08-30T20:10:30.980141Z",
     "iopub.status.busy": "2021-08-30T20:10:30.979532Z",
     "iopub.status.idle": "2021-08-30T20:10:31.220042Z",
     "shell.execute_reply": "2021-08-30T20:10:31.219409Z"
    },
    "papermill": {
     "duration": 0.297927,
     "end_time": "2021-08-30T20:10:31.220180",
     "exception": false,
     "start_time": "2021-08-30T20:10:30.922253",
     "status": "completed"
    },
    "tags": []
   },
   "outputs": [
    {
     "data": {
      "text/plain": [
       "Text(0.5, 1.0, 'Outputs')"
      ]
     },
     "execution_count": 26,
     "metadata": {},
     "output_type": "execute_result"
    },
    {
     "data": {
      "image/png": "[encoded data removed]",
      "text/plain": [
       "<Figure size 576x504 with 1 Axes>"
      ]
     },
     "metadata": {
      "needs_background": "light"
     },
     "output_type": "display_data"
    }
   ],
   "source": [
    "# Plotting the scatter plot of points and color coding by class\n",
    "plt.figure(figsize=(8,7))\n",
    "plt.scatter(testing_plot[:,0], testing_plot[:,1], alpha = 0.1, c = y_test.ravel());\n",
    "plt.title('Outputs')"
   ]
  },
  {
   "cell_type": "markdown",
   "id": "a74fcf8f",
   "metadata": {
    "papermill": {
     "duration": 0.053271,
     "end_time": "2021-08-30T20:10:31.330925",
     "exception": false,
     "start_time": "2021-08-30T20:10:31.277654",
     "status": "completed"
    },
    "tags": []
   },
   "source": [
    "Probability contours"
   ]
  },
  {
   "cell_type": "code",
   "execution_count": 27,
   "id": "d0afc8e3",
   "metadata": {
    "execution": {
     "iopub.execute_input": "2021-08-30T20:10:31.437083Z",
     "iopub.status.busy": "2021-08-30T20:10:31.436446Z",
     "iopub.status.idle": "2021-08-30T20:10:31.448095Z",
     "shell.execute_reply": "2021-08-30T20:10:31.448569Z"
    },
    "papermill": {
     "duration": 0.066774,
     "end_time": "2021-08-30T20:10:31.448700",
     "exception": false,
     "start_time": "2021-08-30T20:10:31.381926",
     "status": "completed"
    },
    "tags": []
   },
   "outputs": [],
   "source": [
    "model_prob = Model(layers[-2:]) "
   ]
  },
  {
   "cell_type": "code",
   "execution_count": 28,
   "id": "9b96e238",
   "metadata": {
    "execution": {
     "iopub.execute_input": "2021-08-30T20:10:31.573409Z",
     "iopub.status.busy": "2021-08-30T20:10:31.572741Z",
     "iopub.status.idle": "2021-08-30T20:10:31.586602Z",
     "shell.execute_reply": "2021-08-30T20:10:31.587049Z"
    },
    "papermill": {
     "duration": 0.08931,
     "end_time": "2021-08-30T20:10:31.587181",
     "exception": false,
     "start_time": "2021-08-30T20:10:31.497871",
     "status": "completed"
    },
    "tags": []
   },
   "outputs": [],
   "source": [
    "#creating the x and y ranges according to the above generated plot.\n",
    "x_range = np.linspace(-4, 1, 100) \n",
    "y_range = np.linspace(-6, 6, 100) \n",
    "x_grid, y_grid = np.meshgrid(x_range, y_range) # x_grid and y_grig are of size 100 X 100\n",
    "\n",
    "# converting x_grid and y_grid to continuous arrays\n",
    "x_gridflat = np.ravel(x_grid)\n",
    "y_gridflat = np.ravel(y_grid)\n",
    "\n",
    "# The last layer of the current model takes two columns as input. Hence transpose of np.vstack() is required.\n",
    "X = np.vstack((x_gridflat, y_gridflat)).T\n",
    "\n",
    "prob_contour = model_prob(X).reshape(100,100) "
   ]
  },
  {
   "cell_type": "code",
   "execution_count": 29,
   "id": "da72499a",
   "metadata": {
    "execution": {
     "iopub.execute_input": "2021-08-30T20:10:31.702484Z",
     "iopub.status.busy": "2021-08-30T20:10:31.701823Z",
     "iopub.status.idle": "2021-08-30T20:10:32.003900Z",
     "shell.execute_reply": "2021-08-30T20:10:32.004709Z"
    },
    "papermill": {
     "duration": 0.360241,
     "end_time": "2021-08-30T20:10:32.004878",
     "exception": false,
     "start_time": "2021-08-30T20:10:31.644637",
     "status": "completed"
    },
    "tags": []
   },
   "outputs": [
    {
     "data": {
      "image/png": "[encoded data removed]",
      "text/plain": [
       "<Figure size 720x648 with 1 Axes>"
      ]
     },
     "metadata": {
      "needs_background": "light"
     },
     "output_type": "display_data"
    }
   ],
   "source": [
    "plt.figure(figsize=(10,9))\n",
    "plt.scatter(testing_plot[:,0], testing_plot[:,1], alpha = 0.1, c = y_test.ravel())\n",
    "contours = plt.contour(x_grid,y_grid,prob_contour)\n",
    "plt.title('Probability Contours')\n",
    "plt.clabel(contours, inline = True );"
   ]
  },
  {
   "cell_type": "code",
   "execution_count": null,
   "id": "e81b4ac7",
   "metadata": {
    "papermill": {
     "duration": 0.082997,
     "end_time": "2021-08-30T20:10:32.167597",
     "exception": false,
     "start_time": "2021-08-30T20:10:32.084600",
     "status": "completed"
    },
    "tags": []
   },
   "outputs": [],
   "source": []
  }
 ],
 "metadata": {
  "kernelspec": {
   "display_name": "Python 3",
   "language": "python",
   "name": "python3"
  },
  "language_info": {
   "codemirror_mode": {
    "name": "ipython",
    "version": 3
   },
   "file_extension": ".py",
   "mimetype": "text/x-python",
   "name": "python",
   "nbconvert_exporter": "python",
   "pygments_lexer": "ipython3",
   "version": "3.6.14"
  },
  "papermill": {
   "default_parameters": {},
   "duration": 154.747387,
   "end_time": "2021-08-30T20:10:32.636846",
   "environment_variables": {},
   "exception": null,
   "input_path": "2020-08-11-part2.ipynb",
   "output_path": "2020-08-11-part2.ipynb",
   "parameters": {},
   "start_time": "2021-08-30T20:07:57.889459",
   "version": "2.3.3"
  }
 },
 "nbformat": 4,
 "nbformat_minor": 5
}