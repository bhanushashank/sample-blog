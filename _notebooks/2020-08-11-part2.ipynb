{
 "cells": [
  {
   "cell_type": "markdown",
   "id": "98380cd3",
   "metadata": {
    "papermill": {
     "duration": 0.034588,
     "end_time": "2022-11-23T00:36:32.569570",
     "exception": false,
     "start_time": "2022-11-23T00:36:32.534982",
     "status": "completed"
    },
    "tags": []
   },
   "source": [
    "# Distinguish Your Own Digits (DYOD)"
   ]
  },
  {
   "cell_type": "markdown",
   "id": "ef31240d",
   "metadata": {
    "papermill": {
     "duration": 0.028372,
     "end_time": "2022-11-23T00:36:32.632501",
     "exception": false,
     "start_time": "2022-11-23T00:36:32.604129",
     "status": "completed"
    },
    "tags": []
   },
   "source": [
    "You are going to write a classifier that distinguishes between the number 3 and number 8."
   ]
  },
  {
   "cell_type": "code",
   "execution_count": 1,
   "id": "b15c8646",
   "metadata": {
    "execution": {
     "iopub.execute_input": "2022-11-23T00:36:32.700121Z",
     "iopub.status.busy": "2022-11-23T00:36:32.699355Z",
     "iopub.status.idle": "2022-11-23T00:36:32.720947Z",
     "shell.execute_reply": "2022-11-23T00:36:32.721570Z"
    },
    "papermill": {
     "duration": 0.058076,
     "end_time": "2022-11-23T00:36:32.721775",
     "exception": false,
     "start_time": "2022-11-23T00:36:32.663699",
     "status": "completed"
    },
    "tags": []
   },
   "outputs": [],
   "source": [
    "%load_ext autoreload\n",
    "%autoreload 2"
   ]
  },
  {
   "cell_type": "code",
   "execution_count": 2,
   "id": "22ef38dc",
   "metadata": {
    "execution": {
     "iopub.execute_input": "2022-11-23T00:36:32.786962Z",
     "iopub.status.busy": "2022-11-23T00:36:32.786250Z",
     "iopub.status.idle": "2022-11-23T00:36:33.455463Z",
     "shell.execute_reply": "2022-11-23T00:36:33.456075Z"
    },
    "papermill": {
     "duration": 0.703322,
     "end_time": "2022-11-23T00:36:33.456266",
     "exception": false,
     "start_time": "2022-11-23T00:36:32.752944",
     "status": "completed"
    },
    "tags": []
   },
   "outputs": [],
   "source": [
    "%matplotlib inline\n",
    "import numpy as np\n",
    "import matplotlib.pyplot as plt\n",
    "import pandas as pd"
   ]
  },
  {
   "cell_type": "markdown",
   "id": "ba036198",
   "metadata": {
    "papermill": {
     "duration": 0.027458,
     "end_time": "2022-11-23T00:36:33.511438",
     "exception": false,
     "start_time": "2022-11-23T00:36:33.483980",
     "status": "completed"
    },
    "tags": []
   },
   "source": [
    "From the command line run `pip install mnist`. This is a library that will help you bring down the mnist dataset. If you run this from a notebook, you need to put  `!pip install mnist` in a cell by itself."
   ]
  },
  {
   "cell_type": "code",
   "execution_count": 3,
   "id": "bb6ad8a1",
   "metadata": {
    "execution": {
     "iopub.execute_input": "2022-11-23T00:36:33.576192Z",
     "iopub.status.busy": "2022-11-23T00:36:33.572595Z",
     "iopub.status.idle": "2022-11-23T00:36:35.539496Z",
     "shell.execute_reply": "2022-11-23T00:36:35.540436Z"
    },
    "papermill": {
     "duration": 2.001945,
     "end_time": "2022-11-23T00:36:35.540807",
     "exception": false,
     "start_time": "2022-11-23T00:36:33.538862",
     "status": "completed"
    },
    "tags": []
   },
   "outputs": [
    {
     "name": "stdout",
     "output_type": "stream",
     "text": [
      "Collecting mnist\r\n"
     ]
    },
    {
     "name": "stdout",
     "output_type": "stream",
     "text": [
      "  Downloading mnist-0.2.2-py2.py3-none-any.whl (3.5 kB)\r\n",
      "Requirement already satisfied: numpy in /opt/hostedtoolcache/Python/3.6.15/x64/lib/python3.6/site-packages (from mnist) (1.19.5)\r\n"
     ]
    },
    {
     "name": "stdout",
     "output_type": "stream",
     "text": [
      "Installing collected packages: mnist\r\n",
      "Successfully installed mnist-0.2.2\r\n"
     ]
    }
   ],
   "source": [
    "!pip install mnist"
   ]
  },
  {
   "cell_type": "markdown",
   "id": "69df9c9a",
   "metadata": {
    "papermill": {
     "duration": 0.033117,
     "end_time": "2022-11-23T00:36:35.607783",
     "exception": false,
     "start_time": "2022-11-23T00:36:35.574666",
     "status": "completed"
    },
    "tags": []
   },
   "source": [
    "## Preparing the Data"
   ]
  },
  {
   "cell_type": "code",
   "execution_count": 4,
   "id": "7f69d806",
   "metadata": {
    "execution": {
     "iopub.execute_input": "2022-11-23T00:36:35.678191Z",
     "iopub.status.busy": "2022-11-23T00:36:35.677251Z",
     "iopub.status.idle": "2022-11-23T00:36:35.692918Z",
     "shell.execute_reply": "2022-11-23T00:36:35.693452Z"
    },
    "papermill": {
     "duration": 0.054746,
     "end_time": "2022-11-23T00:36:35.693611",
     "exception": false,
     "start_time": "2022-11-23T00:36:35.638865",
     "status": "completed"
    },
    "tags": []
   },
   "outputs": [],
   "source": [
    "import mnist"
   ]
  },
  {
   "cell_type": "code",
   "execution_count": 5,
   "id": "a411e44f",
   "metadata": {
    "execution": {
     "iopub.execute_input": "2022-11-23T00:36:35.759183Z",
     "iopub.status.busy": "2022-11-23T00:36:35.758479Z",
     "iopub.status.idle": "2022-11-23T00:36:36.483513Z",
     "shell.execute_reply": "2022-11-23T00:36:36.484486Z"
    },
    "papermill": {
     "duration": 0.760478,
     "end_time": "2022-11-23T00:36:36.484688",
     "exception": false,
     "start_time": "2022-11-23T00:36:35.724210",
     "status": "completed"
    },
    "tags": []
   },
   "outputs": [],
   "source": [
    "train_images = mnist.train_images()\n",
    "train_labels = mnist.train_labels()"
   ]
  },
  {
   "cell_type": "code",
   "execution_count": 6,
   "id": "dceab3a5",
   "metadata": {
    "execution": {
     "iopub.execute_input": "2022-11-23T00:36:36.550574Z",
     "iopub.status.busy": "2022-11-23T00:36:36.549802Z",
     "iopub.status.idle": "2022-11-23T00:36:36.570896Z",
     "shell.execute_reply": "2022-11-23T00:36:36.571451Z"
    },
    "papermill": {
     "duration": 0.05645,
     "end_time": "2022-11-23T00:36:36.571846",
     "exception": false,
     "start_time": "2022-11-23T00:36:36.515396",
     "status": "completed"
    },
    "tags": []
   },
   "outputs": [
    {
     "data": {
      "text/plain": [
       "((60000, 28, 28), (60000,))"
      ]
     },
     "execution_count": 6,
     "metadata": {},
     "output_type": "execute_result"
    }
   ],
   "source": [
    "train_images.shape, train_labels.shape"
   ]
  },
  {
   "cell_type": "code",
   "execution_count": 7,
   "id": "f50dc2bb",
   "metadata": {
    "execution": {
     "iopub.execute_input": "2022-11-23T00:36:36.644493Z",
     "iopub.status.busy": "2022-11-23T00:36:36.642793Z",
     "iopub.status.idle": "2022-11-23T00:36:36.790336Z",
     "shell.execute_reply": "2022-11-23T00:36:36.789713Z"
    },
    "papermill": {
     "duration": 0.184752,
     "end_time": "2022-11-23T00:36:36.790478",
     "exception": false,
     "start_time": "2022-11-23T00:36:36.605726",
     "status": "completed"
    },
    "tags": []
   },
   "outputs": [],
   "source": [
    "test_images = mnist.test_images()\n",
    "test_labels = mnist.test_labels()"
   ]
  },
  {
   "cell_type": "code",
   "execution_count": 8,
   "id": "fc38cf1b",
   "metadata": {
    "execution": {
     "iopub.execute_input": "2022-11-23T00:36:36.860599Z",
     "iopub.status.busy": "2022-11-23T00:36:36.859832Z",
     "iopub.status.idle": "2022-11-23T00:36:36.877282Z",
     "shell.execute_reply": "2022-11-23T00:36:36.877792Z"
    },
    "papermill": {
     "duration": 0.05452,
     "end_time": "2022-11-23T00:36:36.877957",
     "exception": false,
     "start_time": "2022-11-23T00:36:36.823437",
     "status": "completed"
    },
    "tags": []
   },
   "outputs": [
    {
     "data": {
      "text/plain": [
       "((10000, 28, 28), (10000,))"
      ]
     },
     "execution_count": 8,
     "metadata": {},
     "output_type": "execute_result"
    }
   ],
   "source": [
    "test_images.shape, test_labels.shape"
   ]
  },
  {
   "cell_type": "code",
   "execution_count": 9,
   "id": "f9ed8fe0",
   "metadata": {
    "execution": {
     "iopub.execute_input": "2022-11-23T00:36:36.942248Z",
     "iopub.status.busy": "2022-11-23T00:36:36.940865Z",
     "iopub.status.idle": "2022-11-23T00:36:37.096935Z",
     "shell.execute_reply": "2022-11-23T00:36:37.097471Z"
    },
    "papermill": {
     "duration": 0.190844,
     "end_time": "2022-11-23T00:36:37.097629",
     "exception": false,
     "start_time": "2022-11-23T00:36:36.906785",
     "status": "completed"
    },
    "tags": []
   },
   "outputs": [
    {
     "name": "stdout",
     "output_type": "stream",
     "text": [
      "2\n"
     ]
    },
    {
     "data": {
      "text/plain": [
       "<matplotlib.image.AxesImage at 0x7f11bdf86d68>"
      ]
     },
     "execution_count": 9,
     "metadata": {},
     "output_type": "execute_result"
    },
    {
     "data": {
      "image/png": "[encoded data removed]",
      "text/plain": [
       "<Figure size 432x288 with 1 Axes>"
      ]
     },
     "metadata": {
      "needs_background": "light"
     },
     "output_type": "display_data"
    }
   ],
   "source": [
    "image_index = 7776 # You may select anything up to 60,000\n",
    "print(train_labels[image_index]) \n",
    "plt.imshow(train_images[image_index], cmap='Greys')"
   ]
  },
  {
   "cell_type": "markdown",
   "id": "a8d2388d",
   "metadata": {
    "papermill": {
     "duration": 0.03969,
     "end_time": "2022-11-23T00:36:37.169562",
     "exception": false,
     "start_time": "2022-11-23T00:36:37.129872",
     "status": "completed"
    },
    "tags": []
   },
   "source": [
    "## Filter data to get 3 and 8 out"
   ]
  },
  {
   "cell_type": "code",
   "execution_count": 10,
   "id": "776f7fc7",
   "metadata": {
    "execution": {
     "iopub.execute_input": "2022-11-23T00:36:37.239663Z",
     "iopub.status.busy": "2022-11-23T00:36:37.238101Z",
     "iopub.status.idle": "2022-11-23T00:36:37.257034Z",
     "shell.execute_reply": "2022-11-23T00:36:37.257574Z"
    },
    "papermill": {
     "duration": 0.057877,
     "end_time": "2022-11-23T00:36:37.257750",
     "exception": false,
     "start_time": "2022-11-23T00:36:37.199873",
     "status": "completed"
    },
    "tags": []
   },
   "outputs": [],
   "source": [
    "train_filter = np.where((train_labels == 3 ) | (train_labels == 8))\n",
    "test_filter = np.where((test_labels == 3) | (test_labels == 8))\n",
    "X_train, y_train = train_images[train_filter], train_labels[train_filter]\n",
    "X_test, y_test = test_images[test_filter], test_labels[test_filter]"
   ]
  },
  {
   "cell_type": "markdown",
   "id": "948f0b7e",
   "metadata": {
    "papermill": {
     "duration": 0.03731,
     "end_time": "2022-11-23T00:36:37.334384",
     "exception": false,
     "start_time": "2022-11-23T00:36:37.297074",
     "status": "completed"
    },
    "tags": []
   },
   "source": [
    "We normalize the pizel values in the 0 to 1 range"
   ]
  },
  {
   "cell_type": "code",
   "execution_count": 11,
   "id": "ee4c2166",
   "metadata": {
    "execution": {
     "iopub.execute_input": "2022-11-23T00:36:37.411479Z",
     "iopub.status.busy": "2022-11-23T00:36:37.410735Z",
     "iopub.status.idle": "2022-11-23T00:36:37.470089Z",
     "shell.execute_reply": "2022-11-23T00:36:37.470659Z"
    },
    "papermill": {
     "duration": 0.097137,
     "end_time": "2022-11-23T00:36:37.470826",
     "exception": false,
     "start_time": "2022-11-23T00:36:37.373689",
     "status": "completed"
    },
    "tags": []
   },
   "outputs": [],
   "source": [
    "X_train = X_train/255.\n",
    "X_test = X_test/255."
   ]
  },
  {
   "cell_type": "markdown",
   "id": "ddcf4fab",
   "metadata": {
    "papermill": {
     "duration": 0.032455,
     "end_time": "2022-11-23T00:36:37.535205",
     "exception": false,
     "start_time": "2022-11-23T00:36:37.502750",
     "status": "completed"
    },
    "tags": []
   },
   "source": [
    "And setup the labels as 1 (when the digit is 3) and 0 (when the digit is 8)"
   ]
  },
  {
   "cell_type": "code",
   "execution_count": 12,
   "id": "7dc908f2",
   "metadata": {
    "execution": {
     "iopub.execute_input": "2022-11-23T00:36:37.602132Z",
     "iopub.status.busy": "2022-11-23T00:36:37.601436Z",
     "iopub.status.idle": "2022-11-23T00:36:37.616093Z",
     "shell.execute_reply": "2022-11-23T00:36:37.616776Z"
    },
    "papermill": {
     "duration": 0.050019,
     "end_time": "2022-11-23T00:36:37.616939",
     "exception": false,
     "start_time": "2022-11-23T00:36:37.566920",
     "status": "completed"
    },
    "tags": []
   },
   "outputs": [],
   "source": [
    "y_train = 1*(y_train==3)\n",
    "y_test = 1*(y_test==3)"
   ]
  },
  {
   "cell_type": "code",
   "execution_count": 13,
   "id": "01e4e969",
   "metadata": {
    "execution": {
     "iopub.execute_input": "2022-11-23T00:36:37.687526Z",
     "iopub.status.busy": "2022-11-23T00:36:37.686823Z",
     "iopub.status.idle": "2022-11-23T00:36:37.704916Z",
     "shell.execute_reply": "2022-11-23T00:36:37.705577Z"
    },
    "papermill": {
     "duration": 0.054242,
     "end_time": "2022-11-23T00:36:37.705738",
     "exception": false,
     "start_time": "2022-11-23T00:36:37.651496",
     "status": "completed"
    },
    "tags": []
   },
   "outputs": [
    {
     "data": {
      "text/plain": [
       "((11982, 28, 28), (1984, 28, 28))"
      ]
     },
     "execution_count": 13,
     "metadata": {},
     "output_type": "execute_result"
    }
   ],
   "source": [
    "X_train.shape, X_test.shape"
   ]
  },
  {
   "cell_type": "markdown",
   "id": "5ccf3f85",
   "metadata": {
    "papermill": {
     "duration": 0.033563,
     "end_time": "2022-11-23T00:36:37.771822",
     "exception": false,
     "start_time": "2022-11-23T00:36:37.738259",
     "status": "completed"
    },
    "tags": []
   },
   "source": [
    "We reshape the data to flatten the image pixels into a set of features or co-variates:"
   ]
  },
  {
   "cell_type": "code",
   "execution_count": 14,
   "id": "5286a4a3",
   "metadata": {
    "execution": {
     "iopub.execute_input": "2022-11-23T00:36:37.839375Z",
     "iopub.status.busy": "2022-11-23T00:36:37.838680Z",
     "iopub.status.idle": "2022-11-23T00:36:37.862172Z",
     "shell.execute_reply": "2022-11-23T00:36:37.862684Z"
    },
    "papermill": {
     "duration": 0.058627,
     "end_time": "2022-11-23T00:36:37.862845",
     "exception": false,
     "start_time": "2022-11-23T00:36:37.804218",
     "status": "completed"
    },
    "tags": []
   },
   "outputs": [
    {
     "data": {
      "text/plain": [
       "((11982, 784), (1984, 784))"
      ]
     },
     "execution_count": 14,
     "metadata": {},
     "output_type": "execute_result"
    }
   ],
   "source": [
    "X_train = X_train.reshape(X_train.shape[0], -1)\n",
    "X_test = X_test.reshape(X_test.shape[0], -1)\n",
    "X_train.shape, X_test.shape"
   ]
  },
  {
   "cell_type": "code",
   "execution_count": 15,
   "id": "73c5f88a",
   "metadata": {
    "execution": {
     "iopub.execute_input": "2022-11-23T00:36:37.930872Z",
     "iopub.status.busy": "2022-11-23T00:36:37.930170Z",
     "iopub.status.idle": "2022-11-23T00:36:37.957014Z",
     "shell.execute_reply": "2022-11-23T00:36:37.957569Z"
    },
    "papermill": {
     "duration": 0.064054,
     "end_time": "2022-11-23T00:36:37.957732",
     "exception": false,
     "start_time": "2022-11-23T00:36:37.893678",
     "status": "completed"
    },
    "tags": []
   },
   "outputs": [],
   "source": [
    "#Impoting functions from 'Kudzu'\n",
    "from kudzu.model import Model\n",
    "from kudzu.train import Learner\n",
    "from kudzu.optim import GD\n",
    "from kudzu.data import Data, Sampler,Dataloader\n",
    "\n",
    "from kudzu.callbacks import AccCallback\n",
    "from kudzu.callbacks import ClfCallback\n",
    "\n",
    "from kudzu.loss import MSE\n",
    "\n",
    "from kudzu.layer import Sigmoid,Relu\n",
    "from kudzu.layer import Affine"
   ]
  },
  {
   "cell_type": "markdown",
   "id": "bc01172a",
   "metadata": {
    "papermill": {
     "duration": 0.033093,
     "end_time": "2022-11-23T00:36:38.024754",
     "exception": false,
     "start_time": "2022-11-23T00:36:37.991661",
     "status": "completed"
    },
    "tags": []
   },
   "source": [
    "### Let us create a `Config` class, to store important parameters. \n",
    "This class essentially plays the role of a dictionary."
   ]
  },
  {
   "cell_type": "code",
   "execution_count": 16,
   "id": "978281aa",
   "metadata": {
    "execution": {
     "iopub.execute_input": "2022-11-23T00:36:38.099370Z",
     "iopub.status.busy": "2022-11-23T00:36:38.098653Z",
     "iopub.status.idle": "2022-11-23T00:36:38.114742Z",
     "shell.execute_reply": "2022-11-23T00:36:38.115276Z"
    },
    "papermill": {
     "duration": 0.056704,
     "end_time": "2022-11-23T00:36:38.115433",
     "exception": false,
     "start_time": "2022-11-23T00:36:38.058729",
     "status": "completed"
    },
    "tags": []
   },
   "outputs": [],
   "source": [
    "class Config:\n",
    "    pass\n",
    "config = Config()\n",
    "config.lr = 0.001\n",
    "config.num_epochs = 250\n",
    "config.bs = 50"
   ]
  },
  {
   "cell_type": "markdown",
   "id": "1385fa59",
   "metadata": {
    "papermill": {
     "duration": 0.040274,
     "end_time": "2022-11-23T00:36:38.186650",
     "exception": false,
     "start_time": "2022-11-23T00:36:38.146376",
     "status": "completed"
    },
    "tags": []
   },
   "source": [
    "### Running Models with the Training data\n",
    "Details about the network layers:\n",
    "- A first affine layer has 784 inputs and does 100 affine transforms. These are followed by a Relu\n",
    "- A second affine layer has 100 inputs from the 100 activations of the past layer, and does 100 affine transforms. These are followed by a Relu\n",
    "- A third affine layer has 100 activations and does 2 affine transformations to create an embedding for visualization. There is no non-linearity here.\n",
    "- A final \"logistic regression\" which has an affine transform from 2 inputs to 1 output, which is squeezed through a sigmoid.\n"
   ]
  },
  {
   "cell_type": "code",
   "execution_count": 17,
   "id": "2b9c66db",
   "metadata": {
    "execution": {
     "iopub.execute_input": "2022-11-23T00:36:38.270623Z",
     "iopub.status.busy": "2022-11-23T00:36:38.269914Z",
     "iopub.status.idle": "2022-11-23T00:36:38.285735Z",
     "shell.execute_reply": "2022-11-23T00:36:38.284935Z"
    },
    "papermill": {
     "duration": 0.057364,
     "end_time": "2022-11-23T00:36:38.285908",
     "exception": false,
     "start_time": "2022-11-23T00:36:38.228544",
     "status": "completed"
    },
    "tags": []
   },
   "outputs": [],
   "source": [
    "data = Data(X_train, y_train.reshape(-1,1))\n",
    "sampler = Sampler(data, config.bs, shuffle=True)\n",
    "\n",
    "dl = Dataloader(data, sampler)\n",
    "\n",
    "opt = GD(config.lr)\n",
    "loss = MSE()"
   ]
  },
  {
   "cell_type": "code",
   "execution_count": 18,
   "id": "b275e4c2",
   "metadata": {
    "execution": {
     "iopub.execute_input": "2022-11-23T00:36:38.357914Z",
     "iopub.status.busy": "2022-11-23T00:36:38.357131Z",
     "iopub.status.idle": "2022-11-23T00:36:38.368372Z",
     "shell.execute_reply": "2022-11-23T00:36:38.369058Z"
    },
    "papermill": {
     "duration": 0.050434,
     "end_time": "2022-11-23T00:36:38.369222",
     "exception": false,
     "start_time": "2022-11-23T00:36:38.318788",
     "status": "completed"
    },
    "tags": []
   },
   "outputs": [],
   "source": [
    "training_data_x = X_train\n",
    "testing_data_x = X_test\n",
    "training_data_y = y_train.reshape(-1,1)\n",
    "testing_data_y = y_test.reshape(-1,1)"
   ]
  },
  {
   "cell_type": "code",
   "execution_count": 19,
   "id": "76951160",
   "metadata": {
    "execution": {
     "iopub.execute_input": "2022-11-23T00:36:38.434934Z",
     "iopub.status.busy": "2022-11-23T00:36:38.434222Z",
     "iopub.status.idle": "2022-11-23T00:36:38.458670Z",
     "shell.execute_reply": "2022-11-23T00:36:38.458094Z"
    },
    "papermill": {
     "duration": 0.058873,
     "end_time": "2022-11-23T00:36:38.458812",
     "exception": false,
     "start_time": "2022-11-23T00:36:38.399939",
     "status": "completed"
    },
    "tags": []
   },
   "outputs": [
    {
     "name": "stdout",
     "output_type": "stream",
     "text": [
      "xavier\n",
      "xavier\n",
      "xavier\n",
      "xavier\n",
      "xavier\n"
     ]
    }
   ],
   "source": [
    "layers = [Affine(\"first\", 784, 100), Relu(\"first\"), Affine(\"second\", 100, 100), Relu(\"second\"), Affine(\"third\", 100, 2), Affine(\"last\", 2, 1), Sigmoid(\"last\")]\n",
    "model_nn = Model(layers)\n",
    "model_lr = Model([Affine(\"logits\", 784, 1), Sigmoid(\"sigmoid\")])"
   ]
  },
  {
   "cell_type": "code",
   "execution_count": 20,
   "id": "6eede77a",
   "metadata": {
    "execution": {
     "iopub.execute_input": "2022-11-23T00:36:38.527670Z",
     "iopub.status.busy": "2022-11-23T00:36:38.526937Z",
     "iopub.status.idle": "2022-11-23T00:36:38.542112Z",
     "shell.execute_reply": "2022-11-23T00:36:38.541531Z"
    },
    "papermill": {
     "duration": 0.051978,
     "end_time": "2022-11-23T00:36:38.542248",
     "exception": false,
     "start_time": "2022-11-23T00:36:38.490270",
     "status": "completed"
    },
    "tags": []
   },
   "outputs": [],
   "source": [
    "nn_learner = Learner(loss, model_nn, opt, config.num_epochs)\n",
    "acc_nn = ClfCallback(nn_learner, config.bs, training_data_x , testing_data_x, training_data_y, testing_data_y)\n",
    "nn_learner.set_callbacks([acc_nn])"
   ]
  },
  {
   "cell_type": "code",
   "execution_count": 21,
   "id": "877b6cc7",
   "metadata": {
    "execution": {
     "iopub.execute_input": "2022-11-23T00:36:38.621172Z",
     "iopub.status.busy": "2022-11-23T00:36:38.619942Z",
     "iopub.status.idle": "2022-11-23T00:36:38.633611Z",
     "shell.execute_reply": "2022-11-23T00:36:38.632940Z"
    },
    "papermill": {
     "duration": 0.051088,
     "end_time": "2022-11-23T00:36:38.633744",
     "exception": false,
     "start_time": "2022-11-23T00:36:38.582656",
     "status": "completed"
    },
    "tags": []
   },
   "outputs": [],
   "source": [
    "lr_learner = Learner(loss, model_lr, opt, config.num_epochs)\n",
    "acc_lr = ClfCallback(lr_learner, config.bs, training_data_x , testing_data_x, training_data_y, testing_data_y)\n",
    "lr_learner.set_callbacks([acc_lr])"
   ]
  },
  {
   "cell_type": "code",
   "execution_count": 22,
   "id": "d9b133c3",
   "metadata": {
    "execution": {
     "iopub.execute_input": "2022-11-23T00:36:38.713966Z",
     "iopub.status.busy": "2022-11-23T00:36:38.713018Z",
     "iopub.status.idle": "2022-11-23T00:38:11.761270Z",
     "shell.execute_reply": "2022-11-23T00:38:11.762293Z"
    },
    "papermill": {
     "duration": 93.090786,
     "end_time": "2022-11-23T00:38:11.762475",
     "exception": false,
     "start_time": "2022-11-23T00:36:38.671689",
     "status": "completed"
    },
    "tags": []
   },
   "outputs": [
    {
     "name": "stdout",
     "output_type": "stream",
     "text": [
      "Epoch 0, Loss 0.2361\n",
      "Training Accuracy: 0.6863, Testing Accuracy: 0.6663\n",
      "\n"
     ]
    },
    {
     "name": "stdout",
     "output_type": "stream",
     "text": [
      "Epoch 10, Loss 0.0921\n",
      "Training Accuracy: 0.9107, Testing Accuracy: 0.9204\n",
      "\n"
     ]
    },
    {
     "name": "stdout",
     "output_type": "stream",
     "text": [
      "Epoch 20, Loss 0.0573\n",
      "Training Accuracy: 0.9398, Testing Accuracy: 0.9501\n",
      "\n"
     ]
    },
    {
     "name": "stdout",
     "output_type": "stream",
     "text": [
      "Epoch 30, Loss 0.0445\n",
      "Training Accuracy: 0.9512, Testing Accuracy: 0.9597\n",
      "\n"
     ]
    },
    {
     "name": "stdout",
     "output_type": "stream",
     "text": [
      "Epoch 40, Loss 0.0382\n",
      "Training Accuracy: 0.9573, Testing Accuracy: 0.9657\n",
      "\n"
     ]
    },
    {
     "name": "stdout",
     "output_type": "stream",
     "text": [
      "Epoch 50, Loss 0.0343\n",
      "Training Accuracy: 0.9609, Testing Accuracy: 0.9677\n",
      "\n"
     ]
    },
    {
     "name": "stdout",
     "output_type": "stream",
     "text": [
      "Epoch 60, Loss 0.0317\n",
      "Training Accuracy: 0.9638, Testing Accuracy: 0.9708\n",
      "\n"
     ]
    },
    {
     "name": "stdout",
     "output_type": "stream",
     "text": [
      "Epoch 70, Loss 0.0298\n",
      "Training Accuracy: 0.9660, Testing Accuracy: 0.9723\n",
      "\n"
     ]
    },
    {
     "name": "stdout",
     "output_type": "stream",
     "text": [
      "Epoch 80, Loss 0.0282\n",
      "Training Accuracy: 0.9672, Testing Accuracy: 0.9723\n",
      "\n"
     ]
    },
    {
     "name": "stdout",
     "output_type": "stream",
     "text": [
      "Epoch 90, Loss 0.027\n",
      "Training Accuracy: 0.9690, Testing Accuracy: 0.9723\n",
      "\n"
     ]
    },
    {
     "name": "stdout",
     "output_type": "stream",
     "text": [
      "Epoch 100, Loss 0.0259\n",
      "Training Accuracy: 0.9703, Testing Accuracy: 0.9723\n",
      "\n"
     ]
    },
    {
     "name": "stdout",
     "output_type": "stream",
     "text": [
      "Epoch 110, Loss 0.025\n",
      "Training Accuracy: 0.9717, Testing Accuracy: 0.9723\n",
      "\n"
     ]
    },
    {
     "name": "stdout",
     "output_type": "stream",
     "text": [
      "Epoch 120, Loss 0.0243\n",
      "Training Accuracy: 0.9723, Testing Accuracy: 0.9733\n",
      "\n"
     ]
    },
    {
     "name": "stdout",
     "output_type": "stream",
     "text": [
      "Epoch 130, Loss 0.0236\n",
      "Training Accuracy: 0.9730, Testing Accuracy: 0.9733\n",
      "\n"
     ]
    },
    {
     "name": "stdout",
     "output_type": "stream",
     "text": [
      "Epoch 140, Loss 0.0229\n",
      "Training Accuracy: 0.9735, Testing Accuracy: 0.9733\n",
      "\n"
     ]
    },
    {
     "name": "stdout",
     "output_type": "stream",
     "text": [
      "Epoch 150, Loss 0.0223\n",
      "Training Accuracy: 0.9746, Testing Accuracy: 0.9733\n",
      "\n"
     ]
    },
    {
     "name": "stdout",
     "output_type": "stream",
     "text": [
      "Epoch 160, Loss 0.0218\n",
      "Training Accuracy: 0.9750, Testing Accuracy: 0.9738\n",
      "\n"
     ]
    },
    {
     "name": "stdout",
     "output_type": "stream",
     "text": [
      "Epoch 170, Loss 0.0213\n",
      "Training Accuracy: 0.9755, Testing Accuracy: 0.9738\n",
      "\n"
     ]
    },
    {
     "name": "stdout",
     "output_type": "stream",
     "text": [
      "Epoch 180, Loss 0.0208\n",
      "Training Accuracy: 0.9759, Testing Accuracy: 0.9738\n",
      "\n"
     ]
    },
    {
     "name": "stdout",
     "output_type": "stream",
     "text": [
      "Epoch 190, Loss 0.0204\n",
      "Training Accuracy: 0.9762, Testing Accuracy: 0.9738\n",
      "\n"
     ]
    },
    {
     "name": "stdout",
     "output_type": "stream",
     "text": [
      "Epoch 200, Loss 0.0199\n",
      "Training Accuracy: 0.9767, Testing Accuracy: 0.9738\n",
      "\n"
     ]
    },
    {
     "name": "stdout",
     "output_type": "stream",
     "text": [
      "Epoch 210, Loss 0.0195\n",
      "Training Accuracy: 0.9773, Testing Accuracy: 0.9743\n",
      "\n"
     ]
    },
    {
     "name": "stdout",
     "output_type": "stream",
     "text": [
      "Epoch 220, Loss 0.0192\n",
      "Training Accuracy: 0.9775, Testing Accuracy: 0.9743\n",
      "\n"
     ]
    },
    {
     "name": "stdout",
     "output_type": "stream",
     "text": [
      "Epoch 230, Loss 0.0188\n",
      "Training Accuracy: 0.9780, Testing Accuracy: 0.9753\n",
      "\n"
     ]
    },
    {
     "name": "stdout",
     "output_type": "stream",
     "text": [
      "Epoch 240, Loss 0.0184\n",
      "Training Accuracy: 0.9785, Testing Accuracy: 0.9758\n",
      "\n"
     ]
    },
    {
     "data": {
      "text/plain": [
       "0.0062559794807126035"
      ]
     },
     "execution_count": 22,
     "metadata": {},
     "output_type": "execute_result"
    }
   ],
   "source": [
    "nn_learner.train_loop(dl)"
   ]
  },
  {
   "cell_type": "code",
   "execution_count": 23,
   "id": "e0163366",
   "metadata": {
    "execution": {
     "iopub.execute_input": "2022-11-23T00:38:11.865814Z",
     "iopub.status.busy": "2022-11-23T00:38:11.865048Z",
     "iopub.status.idle": "2022-11-23T00:38:28.590843Z",
     "shell.execute_reply": "2022-11-23T00:38:28.591955Z"
    },
    "papermill": {
     "duration": 16.7898,
     "end_time": "2022-11-23T00:38:28.592137",
     "exception": false,
     "start_time": "2022-11-23T00:38:11.802337",
     "status": "completed"
    },
    "tags": []
   },
   "outputs": [
    {
     "name": "stdout",
     "output_type": "stream",
     "text": [
      "Epoch 0, Loss 0.2437\n",
      "Training Accuracy: 0.6873, Testing Accuracy: 0.7041\n",
      "\n"
     ]
    },
    {
     "name": "stdout",
     "output_type": "stream",
     "text": [
      "Epoch 10, Loss 0.1027\n",
      "Training Accuracy: 0.9061, Testing Accuracy: 0.9209\n",
      "\n"
     ]
    },
    {
     "name": "stdout",
     "output_type": "stream",
     "text": [
      "Epoch 20, Loss 0.0794\n",
      "Training Accuracy: 0.9242, Testing Accuracy: 0.9360\n",
      "\n"
     ]
    },
    {
     "name": "stdout",
     "output_type": "stream",
     "text": [
      "Epoch 30, Loss 0.0685\n",
      "Training Accuracy: 0.9331, Testing Accuracy: 0.9461\n",
      "\n"
     ]
    },
    {
     "name": "stdout",
     "output_type": "stream",
     "text": [
      "Epoch 40, Loss 0.0619\n",
      "Training Accuracy: 0.9391, Testing Accuracy: 0.9511\n",
      "\n"
     ]
    },
    {
     "name": "stdout",
     "output_type": "stream",
     "text": [
      "Epoch 50, Loss 0.0574\n",
      "Training Accuracy: 0.9419, Testing Accuracy: 0.9536\n",
      "\n"
     ]
    },
    {
     "name": "stdout",
     "output_type": "stream",
     "text": [
      "Epoch 60, Loss 0.0541\n",
      "Training Accuracy: 0.9458, Testing Accuracy: 0.9551\n",
      "\n"
     ]
    },
    {
     "name": "stdout",
     "output_type": "stream",
     "text": [
      "Epoch 70, Loss 0.0515\n",
      "Training Accuracy: 0.9488, Testing Accuracy: 0.9567\n",
      "\n"
     ]
    },
    {
     "name": "stdout",
     "output_type": "stream",
     "text": [
      "Epoch 80, Loss 0.0495\n",
      "Training Accuracy: 0.9504, Testing Accuracy: 0.9567\n",
      "\n"
     ]
    },
    {
     "name": "stdout",
     "output_type": "stream",
     "text": [
      "Epoch 90, Loss 0.0478\n",
      "Training Accuracy: 0.9520, Testing Accuracy: 0.9582\n",
      "\n"
     ]
    },
    {
     "name": "stdout",
     "output_type": "stream",
     "text": [
      "Epoch 100, Loss 0.0464\n",
      "Training Accuracy: 0.9528, Testing Accuracy: 0.9597\n",
      "\n"
     ]
    },
    {
     "name": "stdout",
     "output_type": "stream",
     "text": [
      "Epoch 110, Loss 0.0451\n",
      "Training Accuracy: 0.9533, Testing Accuracy: 0.9617\n",
      "\n"
     ]
    },
    {
     "name": "stdout",
     "output_type": "stream",
     "text": [
      "Epoch 120, Loss 0.0441\n",
      "Training Accuracy: 0.9545, Testing Accuracy: 0.9637\n",
      "\n"
     ]
    },
    {
     "name": "stdout",
     "output_type": "stream",
     "text": [
      "Epoch 130, Loss 0.0431\n",
      "Training Accuracy: 0.9555, Testing Accuracy: 0.9637\n",
      "\n"
     ]
    },
    {
     "name": "stdout",
     "output_type": "stream",
     "text": [
      "Epoch 140, Loss 0.0423\n",
      "Training Accuracy: 0.9564, Testing Accuracy: 0.9642\n",
      "\n"
     ]
    },
    {
     "name": "stdout",
     "output_type": "stream",
     "text": [
      "Epoch 150, Loss 0.0415\n",
      "Training Accuracy: 0.9566, Testing Accuracy: 0.9652\n",
      "\n"
     ]
    },
    {
     "name": "stdout",
     "output_type": "stream",
     "text": [
      "Epoch 160, Loss 0.0409\n",
      "Training Accuracy: 0.9571, Testing Accuracy: 0.9652\n",
      "\n"
     ]
    },
    {
     "name": "stdout",
     "output_type": "stream",
     "text": [
      "Epoch 170, Loss 0.0403\n",
      "Training Accuracy: 0.9575, Testing Accuracy: 0.9657\n",
      "\n"
     ]
    },
    {
     "name": "stdout",
     "output_type": "stream",
     "text": [
      "Epoch 180, Loss 0.0397\n",
      "Training Accuracy: 0.9582, Testing Accuracy: 0.9657\n",
      "\n"
     ]
    },
    {
     "name": "stdout",
     "output_type": "stream",
     "text": [
      "Epoch 190, Loss 0.0392\n",
      "Training Accuracy: 0.9590, Testing Accuracy: 0.9662\n",
      "\n"
     ]
    },
    {
     "name": "stdout",
     "output_type": "stream",
     "text": [
      "Epoch 200, Loss 0.0387\n",
      "Training Accuracy: 0.9595, Testing Accuracy: 0.9667\n",
      "\n"
     ]
    },
    {
     "name": "stdout",
     "output_type": "stream",
     "text": [
      "Epoch 210, Loss 0.0382\n",
      "Training Accuracy: 0.9598, Testing Accuracy: 0.9667\n",
      "\n"
     ]
    },
    {
     "name": "stdout",
     "output_type": "stream",
     "text": [
      "Epoch 220, Loss 0.0378\n",
      "Training Accuracy: 0.9600, Testing Accuracy: 0.9667\n",
      "\n"
     ]
    },
    {
     "name": "stdout",
     "output_type": "stream",
     "text": [
      "Epoch 230, Loss 0.0374\n",
      "Training Accuracy: 0.9604, Testing Accuracy: 0.9667\n",
      "\n"
     ]
    },
    {
     "name": "stdout",
     "output_type": "stream",
     "text": [
      "Epoch 240, Loss 0.0371\n",
      "Training Accuracy: 0.9605, Testing Accuracy: 0.9667\n",
      "\n"
     ]
    },
    {
     "data": {
      "text/plain": [
       "0.023164810048740568"
      ]
     },
     "execution_count": 23,
     "metadata": {},
     "output_type": "execute_result"
    }
   ],
   "source": [
    "lr_learner.train_loop(dl)"
   ]
  },
  {
   "cell_type": "code",
   "execution_count": 24,
   "id": "ca410940",
   "metadata": {
    "execution": {
     "iopub.execute_input": "2022-11-23T00:38:28.701961Z",
     "iopub.status.busy": "2022-11-23T00:38:28.701205Z",
     "iopub.status.idle": "2022-11-23T00:38:28.962234Z",
     "shell.execute_reply": "2022-11-23T00:38:28.962744Z"
    },
    "papermill": {
     "duration": 0.323517,
     "end_time": "2022-11-23T00:38:28.962911",
     "exception": false,
     "start_time": "2022-11-23T00:38:28.639394",
     "status": "completed"
    },
    "tags": []
   },
   "outputs": [
    {
     "data": {
      "text/plain": [
       "<matplotlib.legend.Legend at 0x7f11bdaf5390>"
      ]
     },
     "execution_count": 24,
     "metadata": {},
     "output_type": "execute_result"
    },
    {
     "data": {
      "image/png": "[encoded data removed]",
      "text/plain": [
       "<Figure size 1080x720 with 1 Axes>"
      ]
     },
     "metadata": {
      "needs_background": "light"
     },
     "output_type": "display_data"
    }
   ],
   "source": [
    "#comparing the results of NN and LR\n",
    "plt.figure(figsize=(15,10))\n",
    "\n",
    "# Neural Network plots\n",
    "plt.plot(acc_nn.accuracies, 'r-', label = \"Training Accuracies - NN\")\n",
    "plt.plot(acc_nn.test_accuracies, 'g-', label = \"Testing Accuracies - NN\")\n",
    "\n",
    "# Logistic Regression plots\n",
    "plt.plot(acc_lr.accuracies, 'k-', label = \"Training Accuracies - LR\")\n",
    "plt.plot(acc_lr.test_accuracies, 'b-', label = \"Testing Accuracies - LR\")\n",
    "plt.legend()"
   ]
  },
  {
   "cell_type": "markdown",
   "id": "80dfb35c",
   "metadata": {
    "papermill": {
     "duration": 0.048241,
     "end_time": "2022-11-23T00:38:29.059696",
     "exception": false,
     "start_time": "2022-11-23T00:38:29.011455",
     "status": "completed"
    },
    "tags": []
   },
   "source": [
    "#### Plotting the outputs of this layer of the NN.\n"
   ]
  },
  {
   "cell_type": "code",
   "execution_count": 25,
   "id": "45eb2ff5",
   "metadata": {
    "execution": {
     "iopub.execute_input": "2022-11-23T00:38:29.162646Z",
     "iopub.status.busy": "2022-11-23T00:38:29.161909Z",
     "iopub.status.idle": "2022-11-23T00:38:29.190537Z",
     "shell.execute_reply": "2022-11-23T00:38:29.191142Z"
    },
    "papermill": {
     "duration": 0.08372,
     "end_time": "2022-11-23T00:38:29.191739",
     "exception": false,
     "start_time": "2022-11-23T00:38:29.108019",
     "status": "completed"
    },
    "tags": []
   },
   "outputs": [],
   "source": [
    "new_model = Model(layers[:-2])\n",
    "testing_plot = new_model(testing_data_x)"
   ]
  },
  {
   "cell_type": "code",
   "execution_count": 26,
   "id": "4c0a5485",
   "metadata": {
    "execution": {
     "iopub.execute_input": "2022-11-23T00:38:29.302399Z",
     "iopub.status.busy": "2022-11-23T00:38:29.301662Z",
     "iopub.status.idle": "2022-11-23T00:38:29.587051Z",
     "shell.execute_reply": "2022-11-23T00:38:29.587593Z"
    },
    "papermill": {
     "duration": 0.344264,
     "end_time": "2022-11-23T00:38:29.587757",
     "exception": false,
     "start_time": "2022-11-23T00:38:29.243493",
     "status": "completed"
    },
    "tags": []
   },
   "outputs": [
    {
     "data": {
      "text/plain": [
       "Text(0.5, 1.0, 'Outputs')"
      ]
     },
     "execution_count": 26,
     "metadata": {},
     "output_type": "execute_result"
    },
    {
     "data": {
      "image/png": "[encoded data removed]",
      "text/plain": [
       "<Figure size 576x504 with 1 Axes>"
      ]
     },
     "metadata": {
      "needs_background": "light"
     },
     "output_type": "display_data"
    }
   ],
   "source": [
    "# Plotting the scatter plot of points and color coding by class\n",
    "plt.figure(figsize=(8,7))\n",
    "plt.scatter(testing_plot[:,0], testing_plot[:,1], alpha = 0.1, c = y_test.ravel());\n",
    "plt.title('Outputs')"
   ]
  },
  {
   "cell_type": "markdown",
   "id": "a74fcf8f",
   "metadata": {
    "papermill": {
     "duration": 0.052644,
     "end_time": "2022-11-23T00:38:29.693455",
     "exception": false,
     "start_time": "2022-11-23T00:38:29.640811",
     "status": "completed"
    },
    "tags": []
   },
   "source": [
    "Probability contours"
   ]
  },
  {
   "cell_type": "code",
   "execution_count": 27,
   "id": "d0afc8e3",
   "metadata": {
    "execution": {
     "iopub.execute_input": "2022-11-23T00:38:29.804971Z",
     "iopub.status.busy": "2022-11-23T00:38:29.804248Z",
     "iopub.status.idle": "2022-11-23T00:38:29.818609Z",
     "shell.execute_reply": "2022-11-23T00:38:29.818023Z"
    },
    "papermill": {
     "duration": 0.072094,
     "end_time": "2022-11-23T00:38:29.818745",
     "exception": false,
     "start_time": "2022-11-23T00:38:29.746651",
     "status": "completed"
    },
    "tags": []
   },
   "outputs": [],
   "source": [
    "model_prob = Model(layers[-2:]) "
   ]
  },
  {
   "cell_type": "code",
   "execution_count": 28,
   "id": "9b96e238",
   "metadata": {
    "execution": {
     "iopub.execute_input": "2022-11-23T00:38:29.969262Z",
     "iopub.status.busy": "2022-11-23T00:38:29.968494Z",
     "iopub.status.idle": "2022-11-23T00:38:29.984353Z",
     "shell.execute_reply": "2022-11-23T00:38:29.984905Z"
    },
    "papermill": {
     "duration": 0.113256,
     "end_time": "2022-11-23T00:38:29.985085",
     "exception": false,
     "start_time": "2022-11-23T00:38:29.871829",
     "status": "completed"
    },
    "tags": []
   },
   "outputs": [],
   "source": [
    "#creating the x and y ranges according to the above generated plot.\n",
    "x_range = np.linspace(-4, 1, 100) \n",
    "y_range = np.linspace(-6, 6, 100) \n",
    "x_grid, y_grid = np.meshgrid(x_range, y_range) # x_grid and y_grig are of size 100 X 100\n",
    "\n",
    "# converting x_grid and y_grid to continuous arrays\n",
    "x_gridflat = np.ravel(x_grid)\n",
    "y_gridflat = np.ravel(y_grid)\n",
    "\n",
    "# The last layer of the current model takes two columns as input. Hence transpose of np.vstack() is required.\n",
    "X = np.vstack((x_gridflat, y_gridflat)).T\n",
    "\n",
    "prob_contour = model_prob(X).reshape(100,100) "
   ]
  },
  {
   "cell_type": "code",
   "execution_count": 29,
   "id": "da72499a",
   "metadata": {
    "execution": {
     "iopub.execute_input": "2022-11-23T00:38:30.105632Z",
     "iopub.status.busy": "2022-11-23T00:38:30.104880Z",
     "iopub.status.idle": "2022-11-23T00:38:30.389614Z",
     "shell.execute_reply": "2022-11-23T00:38:30.390157Z"
    },
    "papermill": {
     "duration": 0.352014,
     "end_time": "2022-11-23T00:38:30.390318",
     "exception": false,
     "start_time": "2022-11-23T00:38:30.038304",
     "status": "completed"
    },
    "tags": []
   },
   "outputs": [
    {
     "data": {
      "image/png": "[encoded data removed]",
      "text/plain": [
       "<Figure size 720x648 with 1 Axes>"
      ]
     },
     "metadata": {
      "needs_background": "light"
     },
     "output_type": "display_data"
    }
   ],
   "source": [
    "plt.figure(figsize=(10,9))\n",
    "plt.scatter(testing_plot[:,0], testing_plot[:,1], alpha = 0.1, c = y_test.ravel())\n",
    "contours = plt.contour(x_grid,y_grid,prob_contour)\n",
    "plt.title('Probability Contours')\n",
    "plt.clabel(contours, inline = True );"
   ]
  },
  {
   "cell_type": "code",
   "execution_count": null,
   "id": "e81b4ac7",
   "metadata": {
    "papermill": {
     "duration": 0.05528,
     "end_time": "2022-11-23T00:38:30.501506",
     "exception": false,
     "start_time": "2022-11-23T00:38:30.446226",
     "status": "completed"
    },
    "tags": []
   },
   "outputs": [],
   "source": []
  }
 ],
 "metadata": {
  "kernelspec": {
   "display_name": "Python 3",
   "language": "python",
   "name": "python3"
  },
  "language_info": {
   "codemirror_mode": {
    "name": "ipython",
    "version": 3
   },
   "file_extension": ".py",
   "mimetype": "text/x-python",
   "name": "python",
   "nbconvert_exporter": "python",
   "pygments_lexer": "ipython3",
   "version": "3.6.15"
  },
  "papermill": {
   "default_parameters": {},
   "duration": 119.776619,
   "end_time": "2022-11-23T00:38:31.077858",
   "environment_variables": {},
   "exception": null,
   "input_path": "2020-08-11-part2.ipynb",
   "output_path": "2020-08-11-part2.ipynb",
   "parameters": {},
   "start_time": "2022-11-23T00:36:31.301239",
   "version": "2.3.3"
  }
 },
 "nbformat": 4,
 "nbformat_minor": 5
}