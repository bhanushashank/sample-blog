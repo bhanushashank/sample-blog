{
 "cells": [
  {
   "cell_type": "markdown",
   "id": "98380cd3",
   "metadata": {
    "papermill": {
     "duration": 0.025106,
     "end_time": "2021-09-22T10:07:10.944066",
     "exception": false,
     "start_time": "2021-09-22T10:07:10.918960",
     "status": "completed"
    },
    "tags": []
   },
   "source": [
    "# Distinguish Your Own Digits (DYOD)"
   ]
  },
  {
   "cell_type": "markdown",
   "id": "ef31240d",
   "metadata": {
    "papermill": {
     "duration": 0.020957,
     "end_time": "2021-09-22T10:07:10.986832",
     "exception": false,
     "start_time": "2021-09-22T10:07:10.965875",
     "status": "completed"
    },
    "tags": []
   },
   "source": [
    "You are going to write a classifier that distinguishes between the number 3 and number 8."
   ]
  },
  {
   "cell_type": "code",
   "execution_count": 1,
   "id": "b15c8646",
   "metadata": {
    "execution": {
     "iopub.execute_input": "2021-09-22T10:07:11.040790Z",
     "iopub.status.busy": "2021-09-22T10:07:11.040271Z",
     "iopub.status.idle": "2021-09-22T10:07:11.050433Z",
     "shell.execute_reply": "2021-09-22T10:07:11.050011Z"
    },
    "papermill": {
     "duration": 0.042919,
     "end_time": "2021-09-22T10:07:11.050555",
     "exception": false,
     "start_time": "2021-09-22T10:07:11.007636",
     "status": "completed"
    },
    "tags": []
   },
   "outputs": [],
   "source": [
    "%load_ext autoreload\n",
    "%autoreload 2"
   ]
  },
  {
   "cell_type": "code",
   "execution_count": 2,
   "id": "22ef38dc",
   "metadata": {
    "execution": {
     "iopub.execute_input": "2021-09-22T10:07:11.114740Z",
     "iopub.status.busy": "2021-09-22T10:07:11.106794Z",
     "iopub.status.idle": "2021-09-22T10:07:11.580263Z",
     "shell.execute_reply": "2021-09-22T10:07:11.580756Z"
    },
    "papermill": {
     "duration": 0.508866,
     "end_time": "2021-09-22T10:07:11.580933",
     "exception": false,
     "start_time": "2021-09-22T10:07:11.072067",
     "status": "completed"
    },
    "tags": []
   },
   "outputs": [],
   "source": [
    "%matplotlib inline\n",
    "import numpy as np\n",
    "import matplotlib.pyplot as plt\n",
    "import pandas as pd"
   ]
  },
  {
   "cell_type": "markdown",
   "id": "ba036198",
   "metadata": {
    "papermill": {
     "duration": 0.023841,
     "end_time": "2021-09-22T10:07:11.629613",
     "exception": false,
     "start_time": "2021-09-22T10:07:11.605772",
     "status": "completed"
    },
    "tags": []
   },
   "source": [
    "From the command line run `pip install mnist`. This is a library that will help you bring down the mnist dataset. If you run this from a notebook, you need to put  `!pip install mnist` in a cell by itself."
   ]
  },
  {
   "cell_type": "code",
   "execution_count": 3,
   "id": "bb6ad8a1",
   "metadata": {
    "execution": {
     "iopub.execute_input": "2021-09-22T10:07:11.682723Z",
     "iopub.status.busy": "2021-09-22T10:07:11.682184Z",
     "iopub.status.idle": "2021-09-22T10:07:13.212975Z",
     "shell.execute_reply": "2021-09-22T10:07:13.212380Z"
    },
    "papermill": {
     "duration": 1.559398,
     "end_time": "2021-09-22T10:07:13.213114",
     "exception": false,
     "start_time": "2021-09-22T10:07:11.653716",
     "status": "completed"
    },
    "tags": []
   },
   "outputs": [
    {
     "name": "stdout",
     "output_type": "stream",
     "text": [
      "Collecting mnist\r\n"
     ]
    },
    {
     "name": "stdout",
     "output_type": "stream",
     "text": [
      "  Downloading mnist-0.2.2-py2.py3-none-any.whl (3.5 kB)\r\n",
      "Requirement already satisfied: numpy in /opt/hostedtoolcache/Python/3.6.15/x64/lib/python3.6/site-packages (from mnist) (1.19.5)\r\n"
     ]
    },
    {
     "name": "stdout",
     "output_type": "stream",
     "text": [
      "Installing collected packages: mnist\r\n"
     ]
    },
    {
     "name": "stdout",
     "output_type": "stream",
     "text": [
      "Successfully installed mnist-0.2.2\r\n"
     ]
    }
   ],
   "source": [
    "!pip install mnist"
   ]
  },
  {
   "cell_type": "markdown",
   "id": "69df9c9a",
   "metadata": {
    "papermill": {
     "duration": 0.025054,
     "end_time": "2021-09-22T10:07:13.264088",
     "exception": false,
     "start_time": "2021-09-22T10:07:13.239034",
     "status": "completed"
    },
    "tags": []
   },
   "source": [
    "## Preparing the Data"
   ]
  },
  {
   "cell_type": "code",
   "execution_count": 4,
   "id": "7f69d806",
   "metadata": {
    "execution": {
     "iopub.execute_input": "2021-09-22T10:07:13.321348Z",
     "iopub.status.busy": "2021-09-22T10:07:13.320801Z",
     "iopub.status.idle": "2021-09-22T10:07:13.331644Z",
     "shell.execute_reply": "2021-09-22T10:07:13.332045Z"
    },
    "papermill": {
     "duration": 0.043162,
     "end_time": "2021-09-22T10:07:13.332193",
     "exception": false,
     "start_time": "2021-09-22T10:07:13.289031",
     "status": "completed"
    },
    "tags": []
   },
   "outputs": [],
   "source": [
    "import mnist"
   ]
  },
  {
   "cell_type": "code",
   "execution_count": 5,
   "id": "a411e44f",
   "metadata": {
    "execution": {
     "iopub.execute_input": "2021-09-22T10:07:13.388863Z",
     "iopub.status.busy": "2021-09-22T10:07:13.388321Z",
     "iopub.status.idle": "2021-09-22T10:07:13.855009Z",
     "shell.execute_reply": "2021-09-22T10:07:13.855699Z"
    },
    "papermill": {
     "duration": 0.498338,
     "end_time": "2021-09-22T10:07:13.855886",
     "exception": false,
     "start_time": "2021-09-22T10:07:13.357548",
     "status": "completed"
    },
    "tags": []
   },
   "outputs": [],
   "source": [
    "train_images = mnist.train_images()\n",
    "train_labels = mnist.train_labels()"
   ]
  },
  {
   "cell_type": "code",
   "execution_count": 6,
   "id": "dceab3a5",
   "metadata": {
    "execution": {
     "iopub.execute_input": "2021-09-22T10:07:13.917210Z",
     "iopub.status.busy": "2021-09-22T10:07:13.916671Z",
     "iopub.status.idle": "2021-09-22T10:07:13.927824Z",
     "shell.execute_reply": "2021-09-22T10:07:13.927402Z"
    },
    "papermill": {
     "duration": 0.044429,
     "end_time": "2021-09-22T10:07:13.927945",
     "exception": false,
     "start_time": "2021-09-22T10:07:13.883516",
     "status": "completed"
    },
    "tags": []
   },
   "outputs": [
    {
     "data": {
      "text/plain": [
       "((60000, 28, 28), (60000,))"
      ]
     },
     "execution_count": 6,
     "metadata": {},
     "output_type": "execute_result"
    }
   ],
   "source": [
    "train_images.shape, train_labels.shape"
   ]
  },
  {
   "cell_type": "code",
   "execution_count": 7,
   "id": "f50dc2bb",
   "metadata": {
    "execution": {
     "iopub.execute_input": "2021-09-22T10:07:13.990432Z",
     "iopub.status.busy": "2021-09-22T10:07:13.989875Z",
     "iopub.status.idle": "2021-09-22T10:07:14.114040Z",
     "shell.execute_reply": "2021-09-22T10:07:14.113453Z"
    },
    "papermill": {
     "duration": 0.161027,
     "end_time": "2021-09-22T10:07:14.114216",
     "exception": false,
     "start_time": "2021-09-22T10:07:13.953189",
     "status": "completed"
    },
    "tags": []
   },
   "outputs": [],
   "source": [
    "test_images = mnist.test_images()\n",
    "test_labels = mnist.test_labels()"
   ]
  },
  {
   "cell_type": "code",
   "execution_count": 8,
   "id": "fc38cf1b",
   "metadata": {
    "execution": {
     "iopub.execute_input": "2021-09-22T10:07:14.170645Z",
     "iopub.status.busy": "2021-09-22T10:07:14.170071Z",
     "iopub.status.idle": "2021-09-22T10:07:14.182506Z",
     "shell.execute_reply": "2021-09-22T10:07:14.182077Z"
    },
    "papermill": {
     "duration": 0.04206,
     "end_time": "2021-09-22T10:07:14.182631",
     "exception": false,
     "start_time": "2021-09-22T10:07:14.140571",
     "status": "completed"
    },
    "tags": []
   },
   "outputs": [
    {
     "data": {
      "text/plain": [
       "((10000, 28, 28), (10000,))"
      ]
     },
     "execution_count": 8,
     "metadata": {},
     "output_type": "execute_result"
    }
   ],
   "source": [
    "test_images.shape, test_labels.shape"
   ]
  },
  {
   "cell_type": "code",
   "execution_count": 9,
   "id": "f9ed8fe0",
   "metadata": {
    "execution": {
     "iopub.execute_input": "2021-09-22T10:07:14.240275Z",
     "iopub.status.busy": "2021-09-22T10:07:14.239747Z",
     "iopub.status.idle": "2021-09-22T10:07:14.365676Z",
     "shell.execute_reply": "2021-09-22T10:07:14.366145Z"
    },
    "papermill": {
     "duration": 0.158225,
     "end_time": "2021-09-22T10:07:14.366293",
     "exception": false,
     "start_time": "2021-09-22T10:07:14.208068",
     "status": "completed"
    },
    "tags": []
   },
   "outputs": [
    {
     "name": "stdout",
     "output_type": "stream",
     "text": [
      "2\n"
     ]
    },
    {
     "data": {
      "text/plain": [
       "<matplotlib.image.AxesImage at 0x7fa4889e58d0>"
      ]
     },
     "execution_count": 9,
     "metadata": {},
     "output_type": "execute_result"
    },
    {
     "data": {
      "image/png": "[encoded data removed]",
      "text/plain": [
       "<Figure size 432x288 with 1 Axes>"
      ]
     },
     "metadata": {
      "needs_background": "light"
     },
     "output_type": "display_data"
    }
   ],
   "source": [
    "image_index = 7776 # You may select anything up to 60,000\n",
    "print(train_labels[image_index]) \n",
    "plt.imshow(train_images[image_index], cmap='Greys')"
   ]
  },
  {
   "cell_type": "markdown",
   "id": "a8d2388d",
   "metadata": {
    "papermill": {
     "duration": 0.026578,
     "end_time": "2021-09-22T10:07:14.419804",
     "exception": false,
     "start_time": "2021-09-22T10:07:14.393226",
     "status": "completed"
    },
    "tags": []
   },
   "source": [
    "## Filter data to get 3 and 8 out"
   ]
  },
  {
   "cell_type": "code",
   "execution_count": 10,
   "id": "776f7fc7",
   "metadata": {
    "execution": {
     "iopub.execute_input": "2021-09-22T10:07:14.480334Z",
     "iopub.status.busy": "2021-09-22T10:07:14.479775Z",
     "iopub.status.idle": "2021-09-22T10:07:14.496843Z",
     "shell.execute_reply": "2021-09-22T10:07:14.496378Z"
    },
    "papermill": {
     "duration": 0.050467,
     "end_time": "2021-09-22T10:07:14.496965",
     "exception": false,
     "start_time": "2021-09-22T10:07:14.446498",
     "status": "completed"
    },
    "tags": []
   },
   "outputs": [],
   "source": [
    "train_filter = np.where((train_labels == 3 ) | (train_labels == 8))\n",
    "test_filter = np.where((test_labels == 3) | (test_labels == 8))\n",
    "X_train, y_train = train_images[train_filter], train_labels[train_filter]\n",
    "X_test, y_test = test_images[test_filter], test_labels[test_filter]"
   ]
  },
  {
   "cell_type": "markdown",
   "id": "948f0b7e",
   "metadata": {
    "papermill": {
     "duration": 0.026578,
     "end_time": "2021-09-22T10:07:14.550250",
     "exception": false,
     "start_time": "2021-09-22T10:07:14.523672",
     "status": "completed"
    },
    "tags": []
   },
   "source": [
    "We normalize the pizel values in the 0 to 1 range"
   ]
  },
  {
   "cell_type": "code",
   "execution_count": 11,
   "id": "ee4c2166",
   "metadata": {
    "execution": {
     "iopub.execute_input": "2021-09-22T10:07:14.615242Z",
     "iopub.status.busy": "2021-09-22T10:07:14.613440Z",
     "iopub.status.idle": "2021-09-22T10:07:14.655669Z",
     "shell.execute_reply": "2021-09-22T10:07:14.655137Z"
    },
    "papermill": {
     "duration": 0.07911,
     "end_time": "2021-09-22T10:07:14.655815",
     "exception": false,
     "start_time": "2021-09-22T10:07:14.576705",
     "status": "completed"
    },
    "tags": []
   },
   "outputs": [],
   "source": [
    "X_train = X_train/255.\n",
    "X_test = X_test/255."
   ]
  },
  {
   "cell_type": "markdown",
   "id": "ddcf4fab",
   "metadata": {
    "papermill": {
     "duration": 0.026548,
     "end_time": "2021-09-22T10:07:14.710198",
     "exception": false,
     "start_time": "2021-09-22T10:07:14.683650",
     "status": "completed"
    },
    "tags": []
   },
   "source": [
    "And setup the labels as 1 (when the digit is 3) and 0 (when the digit is 8)"
   ]
  },
  {
   "cell_type": "code",
   "execution_count": 12,
   "id": "7dc908f2",
   "metadata": {
    "execution": {
     "iopub.execute_input": "2021-09-22T10:07:14.768300Z",
     "iopub.status.busy": "2021-09-22T10:07:14.767775Z",
     "iopub.status.idle": "2021-09-22T10:07:14.779920Z",
     "shell.execute_reply": "2021-09-22T10:07:14.779477Z"
    },
    "papermill": {
     "duration": 0.043364,
     "end_time": "2021-09-22T10:07:14.780048",
     "exception": false,
     "start_time": "2021-09-22T10:07:14.736684",
     "status": "completed"
    },
    "tags": []
   },
   "outputs": [],
   "source": [
    "y_train = 1*(y_train==3)\n",
    "y_test = 1*(y_test==3)"
   ]
  },
  {
   "cell_type": "code",
   "execution_count": 13,
   "id": "01e4e969",
   "metadata": {
    "execution": {
     "iopub.execute_input": "2021-09-22T10:07:14.837009Z",
     "iopub.status.busy": "2021-09-22T10:07:14.836492Z",
     "iopub.status.idle": "2021-09-22T10:07:14.848133Z",
     "shell.execute_reply": "2021-09-22T10:07:14.848546Z"
    },
    "papermill": {
     "duration": 0.041973,
     "end_time": "2021-09-22T10:07:14.848681",
     "exception": false,
     "start_time": "2021-09-22T10:07:14.806708",
     "status": "completed"
    },
    "tags": []
   },
   "outputs": [
    {
     "data": {
      "text/plain": [
       "((11982, 28, 28), (1984, 28, 28))"
      ]
     },
     "execution_count": 13,
     "metadata": {},
     "output_type": "execute_result"
    }
   ],
   "source": [
    "X_train.shape, X_test.shape"
   ]
  },
  {
   "cell_type": "markdown",
   "id": "5ccf3f85",
   "metadata": {
    "papermill": {
     "duration": 0.026571,
     "end_time": "2021-09-22T10:07:14.901863",
     "exception": false,
     "start_time": "2021-09-22T10:07:14.875292",
     "status": "completed"
    },
    "tags": []
   },
   "source": [
    "We reshape the data to flatten the image pixels into a set of features or co-variates:"
   ]
  },
  {
   "cell_type": "code",
   "execution_count": 14,
   "id": "5286a4a3",
   "metadata": {
    "execution": {
     "iopub.execute_input": "2021-09-22T10:07:14.960295Z",
     "iopub.status.busy": "2021-09-22T10:07:14.959754Z",
     "iopub.status.idle": "2021-09-22T10:07:14.972167Z",
     "shell.execute_reply": "2021-09-22T10:07:14.971746Z"
    },
    "papermill": {
     "duration": 0.04347,
     "end_time": "2021-09-22T10:07:14.972288",
     "exception": false,
     "start_time": "2021-09-22T10:07:14.928818",
     "status": "completed"
    },
    "tags": []
   },
   "outputs": [
    {
     "data": {
      "text/plain": [
       "((11982, 784), (1984, 784))"
      ]
     },
     "execution_count": 14,
     "metadata": {},
     "output_type": "execute_result"
    }
   ],
   "source": [
    "X_train = X_train.reshape(X_train.shape[0], -1)\n",
    "X_test = X_test.reshape(X_test.shape[0], -1)\n",
    "X_train.shape, X_test.shape"
   ]
  },
  {
   "cell_type": "code",
   "execution_count": 15,
   "id": "73c5f88a",
   "metadata": {
    "execution": {
     "iopub.execute_input": "2021-09-22T10:07:15.031419Z",
     "iopub.status.busy": "2021-09-22T10:07:15.030881Z",
     "iopub.status.idle": "2021-09-22T10:07:15.047672Z",
     "shell.execute_reply": "2021-09-22T10:07:15.048171Z"
    },
    "papermill": {
     "duration": 0.048776,
     "end_time": "2021-09-22T10:07:15.048348",
     "exception": false,
     "start_time": "2021-09-22T10:07:14.999572",
     "status": "completed"
    },
    "tags": []
   },
   "outputs": [],
   "source": [
    "#Impoting functions from 'Kudzu'\n",
    "from kudzu.model import Model\n",
    "from kudzu.train import Learner\n",
    "from kudzu.optim import GD\n",
    "from kudzu.data import Data, Sampler,Dataloader\n",
    "\n",
    "from kudzu.callbacks import AccCallback\n",
    "from kudzu.callbacks import ClfCallback\n",
    "\n",
    "from kudzu.loss import MSE\n",
    "\n",
    "from kudzu.layer import Sigmoid,Relu\n",
    "from kudzu.layer import Affine"
   ]
  },
  {
   "cell_type": "markdown",
   "id": "bc01172a",
   "metadata": {
    "papermill": {
     "duration": 0.027125,
     "end_time": "2021-09-22T10:07:15.102835",
     "exception": false,
     "start_time": "2021-09-22T10:07:15.075710",
     "status": "completed"
    },
    "tags": []
   },
   "source": [
    "### Let us create a `Config` class, to store important parameters. \n",
    "This class essentially plays the role of a dictionary."
   ]
  },
  {
   "cell_type": "code",
   "execution_count": 16,
   "id": "978281aa",
   "metadata": {
    "execution": {
     "iopub.execute_input": "2021-09-22T10:07:15.163164Z",
     "iopub.status.busy": "2021-09-22T10:07:15.162617Z",
     "iopub.status.idle": "2021-09-22T10:07:15.172787Z",
     "shell.execute_reply": "2021-09-22T10:07:15.172358Z"
    },
    "papermill": {
     "duration": 0.043036,
     "end_time": "2021-09-22T10:07:15.172912",
     "exception": false,
     "start_time": "2021-09-22T10:07:15.129876",
     "status": "completed"
    },
    "tags": []
   },
   "outputs": [],
   "source": [
    "class Config:\n",
    "    pass\n",
    "config = Config()\n",
    "config.lr = 0.001\n",
    "config.num_epochs = 250\n",
    "config.bs = 50"
   ]
  },
  {
   "cell_type": "markdown",
   "id": "1385fa59",
   "metadata": {
    "papermill": {
     "duration": 0.026996,
     "end_time": "2021-09-22T10:07:15.227159",
     "exception": false,
     "start_time": "2021-09-22T10:07:15.200163",
     "status": "completed"
    },
    "tags": []
   },
   "source": [
    "### Running Models with the Training data\n",
    "Details about the network layers:\n",
    "- A first affine layer has 784 inputs and does 100 affine transforms. These are followed by a Relu\n",
    "- A second affine layer has 100 inputs from the 100 activations of the past layer, and does 100 affine transforms. These are followed by a Relu\n",
    "- A third affine layer has 100 activations and does 2 affine transformations to create an embedding for visualization. There is no non-linearity here.\n",
    "- A final \"logistic regression\" which has an affine transform from 2 inputs to 1 output, which is squeezed through a sigmoid.\n"
   ]
  },
  {
   "cell_type": "code",
   "execution_count": 17,
   "id": "2b9c66db",
   "metadata": {
    "execution": {
     "iopub.execute_input": "2021-09-22T10:07:15.286618Z",
     "iopub.status.busy": "2021-09-22T10:07:15.286027Z",
     "iopub.status.idle": "2021-09-22T10:07:15.297680Z",
     "shell.execute_reply": "2021-09-22T10:07:15.297253Z"
    },
    "papermill": {
     "duration": 0.042958,
     "end_time": "2021-09-22T10:07:15.297826",
     "exception": false,
     "start_time": "2021-09-22T10:07:15.254868",
     "status": "completed"
    },
    "tags": []
   },
   "outputs": [],
   "source": [
    "data = Data(X_train, y_train.reshape(-1,1))\n",
    "sampler = Sampler(data, config.bs, shuffle=True)\n",
    "\n",
    "dl = Dataloader(data, sampler)\n",
    "\n",
    "opt = GD(config.lr)\n",
    "loss = MSE()"
   ]
  },
  {
   "cell_type": "code",
   "execution_count": 18,
   "id": "b275e4c2",
   "metadata": {
    "execution": {
     "iopub.execute_input": "2021-09-22T10:07:15.356734Z",
     "iopub.status.busy": "2021-09-22T10:07:15.356184Z",
     "iopub.status.idle": "2021-09-22T10:07:15.366666Z",
     "shell.execute_reply": "2021-09-22T10:07:15.366240Z"
    },
    "papermill": {
     "duration": 0.041725,
     "end_time": "2021-09-22T10:07:15.366785",
     "exception": false,
     "start_time": "2021-09-22T10:07:15.325060",
     "status": "completed"
    },
    "tags": []
   },
   "outputs": [],
   "source": [
    "training_data_x = X_train\n",
    "testing_data_x = X_test\n",
    "training_data_y = y_train.reshape(-1,1)\n",
    "testing_data_y = y_test.reshape(-1,1)"
   ]
  },
  {
   "cell_type": "code",
   "execution_count": 19,
   "id": "76951160",
   "metadata": {
    "execution": {
     "iopub.execute_input": "2021-09-22T10:07:15.427309Z",
     "iopub.status.busy": "2021-09-22T10:07:15.426753Z",
     "iopub.status.idle": "2021-09-22T10:07:15.440630Z",
     "shell.execute_reply": "2021-09-22T10:07:15.441132Z"
    },
    "papermill": {
     "duration": 0.047366,
     "end_time": "2021-09-22T10:07:15.441280",
     "exception": false,
     "start_time": "2021-09-22T10:07:15.393914",
     "status": "completed"
    },
    "tags": []
   },
   "outputs": [
    {
     "name": "stdout",
     "output_type": "stream",
     "text": [
      "xavier\n",
      "xavier\n",
      "xavier\n",
      "xavier\n",
      "xavier\n"
     ]
    }
   ],
   "source": [
    "layers = [Affine(\"first\", 784, 100), Relu(\"first\"), Affine(\"second\", 100, 100), Relu(\"second\"), Affine(\"third\", 100, 2), Affine(\"last\", 2, 1), Sigmoid(\"last\")]\n",
    "model_nn = Model(layers)\n",
    "model_lr = Model([Affine(\"logits\", 784, 1), Sigmoid(\"sigmoid\")])"
   ]
  },
  {
   "cell_type": "code",
   "execution_count": 20,
   "id": "6eede77a",
   "metadata": {
    "execution": {
     "iopub.execute_input": "2021-09-22T10:07:15.512639Z",
     "iopub.status.busy": "2021-09-22T10:07:15.510669Z",
     "iopub.status.idle": "2021-09-22T10:07:15.515033Z",
     "shell.execute_reply": "2021-09-22T10:07:15.514504Z"
    },
    "papermill": {
     "duration": 0.046382,
     "end_time": "2021-09-22T10:07:15.515156",
     "exception": false,
     "start_time": "2021-09-22T10:07:15.468774",
     "status": "completed"
    },
    "tags": []
   },
   "outputs": [],
   "source": [
    "nn_learner = Learner(loss, model_nn, opt, config.num_epochs)\n",
    "acc_nn = ClfCallback(nn_learner, config.bs, training_data_x , testing_data_x, training_data_y, testing_data_y)\n",
    "nn_learner.set_callbacks([acc_nn])"
   ]
  },
  {
   "cell_type": "code",
   "execution_count": 21,
   "id": "877b6cc7",
   "metadata": {
    "execution": {
     "iopub.execute_input": "2021-09-22T10:07:15.582732Z",
     "iopub.status.busy": "2021-09-22T10:07:15.580458Z",
     "iopub.status.idle": "2021-09-22T10:07:15.589504Z",
     "shell.execute_reply": "2021-09-22T10:07:15.588999Z"
    },
    "papermill": {
     "duration": 0.047094,
     "end_time": "2021-09-22T10:07:15.589639",
     "exception": false,
     "start_time": "2021-09-22T10:07:15.542545",
     "status": "completed"
    },
    "tags": []
   },
   "outputs": [],
   "source": [
    "lr_learner = Learner(loss, model_lr, opt, config.num_epochs)\n",
    "acc_lr = ClfCallback(lr_learner, config.bs, training_data_x , testing_data_x, training_data_y, testing_data_y)\n",
    "lr_learner.set_callbacks([acc_lr])"
   ]
  },
  {
   "cell_type": "code",
   "execution_count": 22,
   "id": "d9b133c3",
   "metadata": {
    "execution": {
     "iopub.execute_input": "2021-09-22T10:07:15.655078Z",
     "iopub.status.busy": "2021-09-22T10:07:15.652260Z",
     "iopub.status.idle": "2021-09-22T10:08:32.313964Z",
     "shell.execute_reply": "2021-09-22T10:08:32.314722Z"
    },
    "papermill": {
     "duration": 76.697489,
     "end_time": "2021-09-22T10:08:32.314871",
     "exception": false,
     "start_time": "2021-09-22T10:07:15.617382",
     "status": "completed"
    },
    "tags": []
   },
   "outputs": [
    {
     "name": "stdout",
     "output_type": "stream",
     "text": [
      "Epoch 0, Loss 0.2493\n",
      "Training Accuracy: 0.6073, Testing Accuracy: 0.6431\n",
      "\n"
     ]
    },
    {
     "name": "stdout",
     "output_type": "stream",
     "text": [
      "Epoch 10, Loss 0.1347\n",
      "Training Accuracy: 0.9129, Testing Accuracy: 0.9214\n",
      "\n"
     ]
    },
    {
     "name": "stdout",
     "output_type": "stream",
     "text": [
      "Epoch 20, Loss 0.0693\n",
      "Training Accuracy: 0.9339, Testing Accuracy: 0.9446\n",
      "\n"
     ]
    },
    {
     "name": "stdout",
     "output_type": "stream",
     "text": [
      "Epoch 30, Loss 0.0504\n",
      "Training Accuracy: 0.9475, Testing Accuracy: 0.9546\n",
      "\n"
     ]
    },
    {
     "name": "stdout",
     "output_type": "stream",
     "text": [
      "Epoch 40, Loss 0.042\n",
      "Training Accuracy: 0.9538, Testing Accuracy: 0.9587\n",
      "\n"
     ]
    },
    {
     "name": "stdout",
     "output_type": "stream",
     "text": [
      "Epoch 50, Loss 0.0374\n",
      "Training Accuracy: 0.9588, Testing Accuracy: 0.9632\n",
      "\n"
     ]
    },
    {
     "name": "stdout",
     "output_type": "stream",
     "text": [
      "Epoch 60, Loss 0.0343\n",
      "Training Accuracy: 0.9604, Testing Accuracy: 0.9672\n",
      "\n"
     ]
    },
    {
     "name": "stdout",
     "output_type": "stream",
     "text": [
      "Epoch 70, Loss 0.0321\n",
      "Training Accuracy: 0.9626, Testing Accuracy: 0.9677\n",
      "\n"
     ]
    },
    {
     "name": "stdout",
     "output_type": "stream",
     "text": [
      "Epoch 80, Loss 0.0304\n",
      "Training Accuracy: 0.9644, Testing Accuracy: 0.9688\n",
      "\n"
     ]
    },
    {
     "name": "stdout",
     "output_type": "stream",
     "text": [
      "Epoch 90, Loss 0.0289\n",
      "Training Accuracy: 0.9655, Testing Accuracy: 0.9688\n",
      "\n"
     ]
    },
    {
     "name": "stdout",
     "output_type": "stream",
     "text": [
      "Epoch 100, Loss 0.0277\n",
      "Training Accuracy: 0.9664, Testing Accuracy: 0.9693\n",
      "\n"
     ]
    },
    {
     "name": "stdout",
     "output_type": "stream",
     "text": [
      "Epoch 110, Loss 0.0267\n",
      "Training Accuracy: 0.9681, Testing Accuracy: 0.9688\n",
      "\n"
     ]
    },
    {
     "name": "stdout",
     "output_type": "stream",
     "text": [
      "Epoch 120, Loss 0.0258\n",
      "Training Accuracy: 0.9694, Testing Accuracy: 0.9693\n",
      "\n"
     ]
    },
    {
     "name": "stdout",
     "output_type": "stream",
     "text": [
      "Epoch 130, Loss 0.025\n",
      "Training Accuracy: 0.9704, Testing Accuracy: 0.9688\n",
      "\n"
     ]
    },
    {
     "name": "stdout",
     "output_type": "stream",
     "text": [
      "Epoch 140, Loss 0.0242\n",
      "Training Accuracy: 0.9717, Testing Accuracy: 0.9693\n",
      "\n"
     ]
    },
    {
     "name": "stdout",
     "output_type": "stream",
     "text": [
      "Epoch 150, Loss 0.0235\n",
      "Training Accuracy: 0.9725, Testing Accuracy: 0.9688\n",
      "\n"
     ]
    },
    {
     "name": "stdout",
     "output_type": "stream",
     "text": [
      "Epoch 160, Loss 0.0229\n",
      "Training Accuracy: 0.9739, Testing Accuracy: 0.9698\n",
      "\n"
     ]
    },
    {
     "name": "stdout",
     "output_type": "stream",
     "text": [
      "Epoch 170, Loss 0.0223\n",
      "Training Accuracy: 0.9750, Testing Accuracy: 0.9698\n",
      "\n"
     ]
    },
    {
     "name": "stdout",
     "output_type": "stream",
     "text": [
      "Epoch 180, Loss 0.0218\n",
      "Training Accuracy: 0.9755, Testing Accuracy: 0.9698\n",
      "\n"
     ]
    },
    {
     "name": "stdout",
     "output_type": "stream",
     "text": [
      "Epoch 190, Loss 0.0213\n",
      "Training Accuracy: 0.9765, Testing Accuracy: 0.9703\n",
      "\n"
     ]
    },
    {
     "name": "stdout",
     "output_type": "stream",
     "text": [
      "Epoch 200, Loss 0.0207\n",
      "Training Accuracy: 0.9771, Testing Accuracy: 0.9718\n",
      "\n"
     ]
    },
    {
     "name": "stdout",
     "output_type": "stream",
     "text": [
      "Epoch 210, Loss 0.0202\n",
      "Training Accuracy: 0.9781, Testing Accuracy: 0.9718\n",
      "\n"
     ]
    },
    {
     "name": "stdout",
     "output_type": "stream",
     "text": [
      "Epoch 220, Loss 0.0198\n",
      "Training Accuracy: 0.9785, Testing Accuracy: 0.9718\n",
      "\n"
     ]
    },
    {
     "name": "stdout",
     "output_type": "stream",
     "text": [
      "Epoch 230, Loss 0.0193\n",
      "Training Accuracy: 0.9790, Testing Accuracy: 0.9728\n",
      "\n"
     ]
    },
    {
     "name": "stdout",
     "output_type": "stream",
     "text": [
      "Epoch 240, Loss 0.0188\n",
      "Training Accuracy: 0.9796, Testing Accuracy: 0.9743\n",
      "\n"
     ]
    },
    {
     "data": {
      "text/plain": [
       "0.007688915471385704"
      ]
     },
     "execution_count": 22,
     "metadata": {},
     "output_type": "execute_result"
    }
   ],
   "source": [
    "nn_learner.train_loop(dl)"
   ]
  },
  {
   "cell_type": "code",
   "execution_count": 23,
   "id": "e0163366",
   "metadata": {
    "execution": {
     "iopub.execute_input": "2021-09-22T10:08:32.387191Z",
     "iopub.status.busy": "2021-09-22T10:08:32.386690Z",
     "iopub.status.idle": "2021-09-22T10:08:46.369040Z",
     "shell.execute_reply": "2021-09-22T10:08:46.369714Z"
    },
    "papermill": {
     "duration": 14.024318,
     "end_time": "2021-09-22T10:08:46.369885",
     "exception": false,
     "start_time": "2021-09-22T10:08:32.345567",
     "status": "completed"
    },
    "tags": []
   },
   "outputs": [
    {
     "name": "stdout",
     "output_type": "stream",
     "text": [
      "Epoch 0, Loss 0.2309\n",
      "Training Accuracy: 0.7167, Testing Accuracy: 0.7520\n",
      "\n"
     ]
    },
    {
     "name": "stdout",
     "output_type": "stream",
     "text": [
      "Epoch 10, Loss 0.1027\n",
      "Training Accuracy: 0.9079, Testing Accuracy: 0.9158\n",
      "\n"
     ]
    },
    {
     "name": "stdout",
     "output_type": "stream",
     "text": [
      "Epoch 20, Loss 0.0788\n",
      "Training Accuracy: 0.9279, Testing Accuracy: 0.9360\n",
      "\n"
     ]
    },
    {
     "name": "stdout",
     "output_type": "stream",
     "text": [
      "Epoch 30, Loss 0.0677\n",
      "Training Accuracy: 0.9366, Testing Accuracy: 0.9420\n",
      "\n"
     ]
    },
    {
     "name": "stdout",
     "output_type": "stream",
     "text": [
      "Epoch 40, Loss 0.0611\n",
      "Training Accuracy: 0.9423, Testing Accuracy: 0.9461\n",
      "\n"
     ]
    },
    {
     "name": "stdout",
     "output_type": "stream",
     "text": [
      "Epoch 50, Loss 0.0566\n",
      "Training Accuracy: 0.9461, Testing Accuracy: 0.9511\n",
      "\n"
     ]
    },
    {
     "name": "stdout",
     "output_type": "stream",
     "text": [
      "Epoch 60, Loss 0.0533\n",
      "Training Accuracy: 0.9482, Testing Accuracy: 0.9567\n",
      "\n"
     ]
    },
    {
     "name": "stdout",
     "output_type": "stream",
     "text": [
      "Epoch 70, Loss 0.0508\n",
      "Training Accuracy: 0.9504, Testing Accuracy: 0.9597\n",
      "\n"
     ]
    },
    {
     "name": "stdout",
     "output_type": "stream",
     "text": [
      "Epoch 80, Loss 0.0487\n",
      "Training Accuracy: 0.9519, Testing Accuracy: 0.9612\n",
      "\n"
     ]
    },
    {
     "name": "stdout",
     "output_type": "stream",
     "text": [
      "Epoch 90, Loss 0.0471\n",
      "Training Accuracy: 0.9525, Testing Accuracy: 0.9622\n",
      "\n"
     ]
    },
    {
     "name": "stdout",
     "output_type": "stream",
     "text": [
      "Epoch 100, Loss 0.0457\n",
      "Training Accuracy: 0.9539, Testing Accuracy: 0.9632\n",
      "\n"
     ]
    },
    {
     "name": "stdout",
     "output_type": "stream",
     "text": [
      "Epoch 110, Loss 0.0445\n",
      "Training Accuracy: 0.9546, Testing Accuracy: 0.9632\n",
      "\n"
     ]
    },
    {
     "name": "stdout",
     "output_type": "stream",
     "text": [
      "Epoch 120, Loss 0.0434\n",
      "Training Accuracy: 0.9553, Testing Accuracy: 0.9637\n",
      "\n"
     ]
    },
    {
     "name": "stdout",
     "output_type": "stream",
     "text": [
      "Epoch 130, Loss 0.0425\n",
      "Training Accuracy: 0.9560, Testing Accuracy: 0.9642\n",
      "\n"
     ]
    },
    {
     "name": "stdout",
     "output_type": "stream",
     "text": [
      "Epoch 140, Loss 0.0417\n",
      "Training Accuracy: 0.9569, Testing Accuracy: 0.9657\n",
      "\n"
     ]
    },
    {
     "name": "stdout",
     "output_type": "stream",
     "text": [
      "Epoch 150, Loss 0.041\n",
      "Training Accuracy: 0.9573, Testing Accuracy: 0.9667\n",
      "\n"
     ]
    },
    {
     "name": "stdout",
     "output_type": "stream",
     "text": [
      "Epoch 160, Loss 0.0403\n",
      "Training Accuracy: 0.9579, Testing Accuracy: 0.9667\n",
      "\n"
     ]
    },
    {
     "name": "stdout",
     "output_type": "stream",
     "text": [
      "Epoch 170, Loss 0.0397\n",
      "Training Accuracy: 0.9585, Testing Accuracy: 0.9667\n",
      "\n"
     ]
    },
    {
     "name": "stdout",
     "output_type": "stream",
     "text": [
      "Epoch 180, Loss 0.0392\n",
      "Training Accuracy: 0.9589, Testing Accuracy: 0.9677\n",
      "\n"
     ]
    },
    {
     "name": "stdout",
     "output_type": "stream",
     "text": [
      "Epoch 190, Loss 0.0387\n",
      "Training Accuracy: 0.9596, Testing Accuracy: 0.9677\n",
      "\n"
     ]
    },
    {
     "name": "stdout",
     "output_type": "stream",
     "text": [
      "Epoch 200, Loss 0.0382\n",
      "Training Accuracy: 0.9599, Testing Accuracy: 0.9677\n",
      "\n"
     ]
    },
    {
     "name": "stdout",
     "output_type": "stream",
     "text": [
      "Epoch 210, Loss 0.0378\n",
      "Training Accuracy: 0.9605, Testing Accuracy: 0.9677\n",
      "\n"
     ]
    },
    {
     "name": "stdout",
     "output_type": "stream",
     "text": [
      "Epoch 220, Loss 0.0374\n",
      "Training Accuracy: 0.9607, Testing Accuracy: 0.9682\n",
      "\n"
     ]
    },
    {
     "name": "stdout",
     "output_type": "stream",
     "text": [
      "Epoch 230, Loss 0.037\n",
      "Training Accuracy: 0.9609, Testing Accuracy: 0.9677\n",
      "\n"
     ]
    },
    {
     "name": "stdout",
     "output_type": "stream",
     "text": [
      "Epoch 240, Loss 0.0367\n",
      "Training Accuracy: 0.9611, Testing Accuracy: 0.9677\n",
      "\n"
     ]
    },
    {
     "data": {
      "text/plain": [
       "0.05175799657136258"
      ]
     },
     "execution_count": 23,
     "metadata": {},
     "output_type": "execute_result"
    }
   ],
   "source": [
    "lr_learner.train_loop(dl)"
   ]
  },
  {
   "cell_type": "code",
   "execution_count": 24,
   "id": "ca410940",
   "metadata": {
    "execution": {
     "iopub.execute_input": "2021-09-22T10:08:46.451472Z",
     "iopub.status.busy": "2021-09-22T10:08:46.450984Z",
     "iopub.status.idle": "2021-09-22T10:08:46.663065Z",
     "shell.execute_reply": "2021-09-22T10:08:46.663532Z"
    },
    "papermill": {
     "duration": 0.256927,
     "end_time": "2021-09-22T10:08:46.663699",
     "exception": false,
     "start_time": "2021-09-22T10:08:46.406772",
     "status": "completed"
    },
    "tags": []
   },
   "outputs": [
    {
     "data": {
      "text/plain": [
       "<matplotlib.legend.Legend at 0x7fa488547940>"
      ]
     },
     "execution_count": 24,
     "metadata": {},
     "output_type": "execute_result"
    },
    {
     "data": {
      "image/png": "[encoded data removed]",
      "text/plain": [
       "<Figure size 1080x720 with 1 Axes>"
      ]
     },
     "metadata": {
      "needs_background": "light"
     },
     "output_type": "display_data"
    }
   ],
   "source": [
    "#comparing the results of NN and LR\n",
    "plt.figure(figsize=(15,10))\n",
    "\n",
    "# Neural Network plots\n",
    "plt.plot(acc_nn.accuracies, 'r-', label = \"Training Accuracies - NN\")\n",
    "plt.plot(acc_nn.test_accuracies, 'g-', label = \"Testing Accuracies - NN\")\n",
    "\n",
    "# Logistic Regression plots\n",
    "plt.plot(acc_lr.accuracies, 'k-', label = \"Training Accuracies - LR\")\n",
    "plt.plot(acc_lr.test_accuracies, 'b-', label = \"Testing Accuracies - LR\")\n",
    "plt.legend()"
   ]
  },
  {
   "cell_type": "markdown",
   "id": "80dfb35c",
   "metadata": {
    "papermill": {
     "duration": 0.041998,
     "end_time": "2021-09-22T10:08:46.748589",
     "exception": false,
     "start_time": "2021-09-22T10:08:46.706591",
     "status": "completed"
    },
    "tags": []
   },
   "source": [
    "#### Plotting the outputs of this layer of the NN.\n"
   ]
  },
  {
   "cell_type": "code",
   "execution_count": 25,
   "id": "45eb2ff5",
   "metadata": {
    "execution": {
     "iopub.execute_input": "2021-09-22T10:08:46.838312Z",
     "iopub.status.busy": "2021-09-22T10:08:46.837713Z",
     "iopub.status.idle": "2021-09-22T10:08:46.856367Z",
     "shell.execute_reply": "2021-09-22T10:08:46.856783Z"
    },
    "papermill": {
     "duration": 0.066242,
     "end_time": "2021-09-22T10:08:46.856930",
     "exception": false,
     "start_time": "2021-09-22T10:08:46.790688",
     "status": "completed"
    },
    "tags": []
   },
   "outputs": [],
   "source": [
    "new_model = Model(layers[:-2])\n",
    "testing_plot = new_model(testing_data_x)"
   ]
  },
  {
   "cell_type": "code",
   "execution_count": 26,
   "id": "4c0a5485",
   "metadata": {
    "execution": {
     "iopub.execute_input": "2021-09-22T10:08:46.954157Z",
     "iopub.status.busy": "2021-09-22T10:08:46.953580Z",
     "iopub.status.idle": "2021-09-22T10:08:47.129337Z",
     "shell.execute_reply": "2021-09-22T10:08:47.128914Z"
    },
    "papermill": {
     "duration": 0.221907,
     "end_time": "2021-09-22T10:08:47.129457",
     "exception": false,
     "start_time": "2021-09-22T10:08:46.907550",
     "status": "completed"
    },
    "tags": []
   },
   "outputs": [
    {
     "data": {
      "text/plain": [
       "Text(0.5, 1.0, 'Outputs')"
      ]
     },
     "execution_count": 26,
     "metadata": {},
     "output_type": "execute_result"
    },
    {
     "data": {
      "image/png": "[encoded data removed]",
      "text/plain": [
       "<Figure size 576x504 with 1 Axes>"
      ]
     },
     "metadata": {
      "needs_background": "light"
     },
     "output_type": "display_data"
    }
   ],
   "source": [
    "# Plotting the scatter plot of points and color coding by class\n",
    "plt.figure(figsize=(8,7))\n",
    "plt.scatter(testing_plot[:,0], testing_plot[:,1], alpha = 0.1, c = y_test.ravel());\n",
    "plt.title('Outputs')"
   ]
  },
  {
   "cell_type": "markdown",
   "id": "a74fcf8f",
   "metadata": {
    "papermill": {
     "duration": 0.039187,
     "end_time": "2021-09-22T10:08:47.208010",
     "exception": false,
     "start_time": "2021-09-22T10:08:47.168823",
     "status": "completed"
    },
    "tags": []
   },
   "source": [
    "Probability contours"
   ]
  },
  {
   "cell_type": "code",
   "execution_count": 27,
   "id": "d0afc8e3",
   "metadata": {
    "execution": {
     "iopub.execute_input": "2021-09-22T10:08:47.295343Z",
     "iopub.status.busy": "2021-09-22T10:08:47.294711Z",
     "iopub.status.idle": "2021-09-22T10:08:47.302023Z",
     "shell.execute_reply": "2021-09-22T10:08:47.301565Z"
    },
    "papermill": {
     "duration": 0.054658,
     "end_time": "2021-09-22T10:08:47.302144",
     "exception": false,
     "start_time": "2021-09-22T10:08:47.247486",
     "status": "completed"
    },
    "tags": []
   },
   "outputs": [],
   "source": [
    "model_prob = Model(layers[-2:]) "
   ]
  },
  {
   "cell_type": "code",
   "execution_count": 28,
   "id": "9b96e238",
   "metadata": {
    "execution": {
     "iopub.execute_input": "2021-09-22T10:08:47.434270Z",
     "iopub.status.busy": "2021-09-22T10:08:47.432828Z",
     "iopub.status.idle": "2021-09-22T10:08:47.440425Z",
     "shell.execute_reply": "2021-09-22T10:08:47.439968Z"
    },
    "papermill": {
     "duration": 0.098451,
     "end_time": "2021-09-22T10:08:47.440535",
     "exception": false,
     "start_time": "2021-09-22T10:08:47.342084",
     "status": "completed"
    },
    "tags": []
   },
   "outputs": [],
   "source": [
    "#creating the x and y ranges according to the above generated plot.\n",
    "x_range = np.linspace(-4, 1, 100) \n",
    "y_range = np.linspace(-6, 6, 100) \n",
    "x_grid, y_grid = np.meshgrid(x_range, y_range) # x_grid and y_grig are of size 100 X 100\n",
    "\n",
    "# converting x_grid and y_grid to continuous arrays\n",
    "x_gridflat = np.ravel(x_grid)\n",
    "y_gridflat = np.ravel(y_grid)\n",
    "\n",
    "# The last layer of the current model takes two columns as input. Hence transpose of np.vstack() is required.\n",
    "X = np.vstack((x_gridflat, y_gridflat)).T\n",
    "\n",
    "prob_contour = model_prob(X).reshape(100,100) "
   ]
  },
  {
   "cell_type": "code",
   "execution_count": 29,
   "id": "da72499a",
   "metadata": {
    "execution": {
     "iopub.execute_input": "2021-09-22T10:08:47.558432Z",
     "iopub.status.busy": "2021-09-22T10:08:47.557153Z",
     "iopub.status.idle": "2021-09-22T10:08:47.778240Z",
     "shell.execute_reply": "2021-09-22T10:08:47.777795Z"
    },
    "papermill": {
     "duration": 0.294291,
     "end_time": "2021-09-22T10:08:47.778358",
     "exception": false,
     "start_time": "2021-09-22T10:08:47.484067",
     "status": "completed"
    },
    "tags": []
   },
   "outputs": [
    {
     "data": {
      "image/png": "[encoded data removed]",
      "text/plain": [
       "<Figure size 720x648 with 1 Axes>"
      ]
     },
     "metadata": {
      "needs_background": "light"
     },
     "output_type": "display_data"
    }
   ],
   "source": [
    "plt.figure(figsize=(10,9))\n",
    "plt.scatter(testing_plot[:,0], testing_plot[:,1], alpha = 0.1, c = y_test.ravel())\n",
    "contours = plt.contour(x_grid,y_grid,prob_contour)\n",
    "plt.title('Probability Contours')\n",
    "plt.clabel(contours, inline = True );"
   ]
  },
  {
   "cell_type": "code",
   "execution_count": null,
   "id": "e81b4ac7",
   "metadata": {
    "papermill": {
     "duration": 0.048658,
     "end_time": "2021-09-22T10:08:47.874710",
     "exception": false,
     "start_time": "2021-09-22T10:08:47.826052",
     "status": "completed"
    },
    "tags": []
   },
   "outputs": [],
   "source": []
  }
 ],
 "metadata": {
  "kernelspec": {
   "display_name": "Python 3",
   "language": "python",
   "name": "python3"
  },
  "language_info": {
   "codemirror_mode": {
    "name": "ipython",
    "version": 3
   },
   "file_extension": ".py",
   "mimetype": "text/x-python",
   "name": "python",
   "nbconvert_exporter": "python",
   "pygments_lexer": "ipython3",
   "version": "3.6.15"
  },
  "papermill": {
   "default_parameters": {},
   "duration": 98.355882,
   "end_time": "2021-09-22T10:08:48.330466",
   "environment_variables": {},
   "exception": null,
   "input_path": "2020-08-11-part2.ipynb",
   "output_path": "2020-08-11-part2.ipynb",
   "parameters": {},
   "start_time": "2021-09-22T10:07:09.974584",
   "version": "2.3.3"
  }
 },
 "nbformat": 4,
 "nbformat_minor": 5
}