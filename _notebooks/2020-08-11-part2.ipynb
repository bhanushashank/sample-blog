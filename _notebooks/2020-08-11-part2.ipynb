{
 "cells": [
  {
   "cell_type": "markdown",
   "id": "98380cd3",
   "metadata": {
    "papermill": {
     "duration": 0.027461,
     "end_time": "2022-03-12T10:09:12.968970",
     "exception": false,
     "start_time": "2022-03-12T10:09:12.941509",
     "status": "completed"
    },
    "tags": []
   },
   "source": [
    "# Distinguish Your Own Digits (DYOD)"
   ]
  },
  {
   "cell_type": "markdown",
   "id": "ef31240d",
   "metadata": {
    "papermill": {
     "duration": 0.024885,
     "end_time": "2022-03-12T10:09:13.018156",
     "exception": false,
     "start_time": "2022-03-12T10:09:12.993271",
     "status": "completed"
    },
    "tags": []
   },
   "source": [
    "You are going to write a classifier that distinguishes between the number 3 and number 8."
   ]
  },
  {
   "cell_type": "code",
   "execution_count": 1,
   "id": "b15c8646",
   "metadata": {
    "execution": {
     "iopub.execute_input": "2022-03-12T10:09:13.076394Z",
     "iopub.status.busy": "2022-03-12T10:09:13.075860Z",
     "iopub.status.idle": "2022-03-12T10:09:13.086325Z",
     "shell.execute_reply": "2022-03-12T10:09:13.085898Z"
    },
    "papermill": {
     "duration": 0.044878,
     "end_time": "2022-03-12T10:09:13.086458",
     "exception": false,
     "start_time": "2022-03-12T10:09:13.041580",
     "status": "completed"
    },
    "tags": []
   },
   "outputs": [],
   "source": [
    "%load_ext autoreload\n",
    "%autoreload 2"
   ]
  },
  {
   "cell_type": "code",
   "execution_count": 2,
   "id": "22ef38dc",
   "metadata": {
    "execution": {
     "iopub.execute_input": "2022-03-12T10:09:13.138546Z",
     "iopub.status.busy": "2022-03-12T10:09:13.138018Z",
     "iopub.status.idle": "2022-03-12T10:09:13.728101Z",
     "shell.execute_reply": "2022-03-12T10:09:13.727561Z"
    },
    "papermill": {
     "duration": 0.6179,
     "end_time": "2022-03-12T10:09:13.728244",
     "exception": false,
     "start_time": "2022-03-12T10:09:13.110344",
     "status": "completed"
    },
    "tags": []
   },
   "outputs": [],
   "source": [
    "%matplotlib inline\n",
    "import numpy as np\n",
    "import matplotlib.pyplot as plt\n",
    "import pandas as pd"
   ]
  },
  {
   "cell_type": "markdown",
   "id": "ba036198",
   "metadata": {
    "papermill": {
     "duration": 0.023928,
     "end_time": "2022-03-12T10:09:13.776002",
     "exception": false,
     "start_time": "2022-03-12T10:09:13.752074",
     "status": "completed"
    },
    "tags": []
   },
   "source": [
    "From the command line run `pip install mnist`. This is a library that will help you bring down the mnist dataset. If you run this from a notebook, you need to put  `!pip install mnist` in a cell by itself."
   ]
  },
  {
   "cell_type": "code",
   "execution_count": 3,
   "id": "bb6ad8a1",
   "metadata": {
    "execution": {
     "iopub.execute_input": "2022-03-12T10:09:13.837600Z",
     "iopub.status.busy": "2022-03-12T10:09:13.833708Z",
     "iopub.status.idle": "2022-03-12T10:09:15.622784Z",
     "shell.execute_reply": "2022-03-12T10:09:15.622262Z"
    },
    "papermill": {
     "duration": 1.823115,
     "end_time": "2022-03-12T10:09:15.622940",
     "exception": false,
     "start_time": "2022-03-12T10:09:13.799825",
     "status": "completed"
    },
    "tags": []
   },
   "outputs": [
    {
     "name": "stdout",
     "output_type": "stream",
     "text": [
      "Collecting mnist\r\n"
     ]
    },
    {
     "name": "stdout",
     "output_type": "stream",
     "text": [
      "  Downloading mnist-0.2.2-py2.py3-none-any.whl (3.5 kB)\r\n"
     ]
    },
    {
     "name": "stdout",
     "output_type": "stream",
     "text": [
      "Requirement already satisfied: numpy in /opt/hostedtoolcache/Python/3.6.15/x64/lib/python3.6/site-packages (from mnist) (1.19.5)\r\n"
     ]
    },
    {
     "name": "stdout",
     "output_type": "stream",
     "text": [
      "Installing collected packages: mnist\r\n",
      "Successfully installed mnist-0.2.2\r\n"
     ]
    }
   ],
   "source": [
    "!pip install mnist"
   ]
  },
  {
   "cell_type": "markdown",
   "id": "69df9c9a",
   "metadata": {
    "papermill": {
     "duration": 0.025438,
     "end_time": "2022-03-12T10:09:15.673535",
     "exception": false,
     "start_time": "2022-03-12T10:09:15.648097",
     "status": "completed"
    },
    "tags": []
   },
   "source": [
    "## Preparing the Data"
   ]
  },
  {
   "cell_type": "code",
   "execution_count": 4,
   "id": "7f69d806",
   "metadata": {
    "execution": {
     "iopub.execute_input": "2022-03-12T10:09:15.731279Z",
     "iopub.status.busy": "2022-03-12T10:09:15.730758Z",
     "iopub.status.idle": "2022-03-12T10:09:15.742129Z",
     "shell.execute_reply": "2022-03-12T10:09:15.742510Z"
    },
    "papermill": {
     "duration": 0.04439,
     "end_time": "2022-03-12T10:09:15.742643",
     "exception": false,
     "start_time": "2022-03-12T10:09:15.698253",
     "status": "completed"
    },
    "tags": []
   },
   "outputs": [],
   "source": [
    "import mnist"
   ]
  },
  {
   "cell_type": "code",
   "execution_count": 5,
   "id": "a411e44f",
   "metadata": {
    "execution": {
     "iopub.execute_input": "2022-03-12T10:09:15.795865Z",
     "iopub.status.busy": "2022-03-12T10:09:15.795358Z",
     "iopub.status.idle": "2022-03-12T10:09:16.385842Z",
     "shell.execute_reply": "2022-03-12T10:09:16.385302Z"
    },
    "papermill": {
     "duration": 0.618515,
     "end_time": "2022-03-12T10:09:16.385985",
     "exception": false,
     "start_time": "2022-03-12T10:09:15.767470",
     "status": "completed"
    },
    "tags": []
   },
   "outputs": [],
   "source": [
    "train_images = mnist.train_images()\n",
    "train_labels = mnist.train_labels()"
   ]
  },
  {
   "cell_type": "code",
   "execution_count": 6,
   "id": "dceab3a5",
   "metadata": {
    "execution": {
     "iopub.execute_input": "2022-03-12T10:09:16.451194Z",
     "iopub.status.busy": "2022-03-12T10:09:16.450188Z",
     "iopub.status.idle": "2022-03-12T10:09:16.459314Z",
     "shell.execute_reply": "2022-03-12T10:09:16.458878Z"
    },
    "papermill": {
     "duration": 0.048116,
     "end_time": "2022-03-12T10:09:16.459425",
     "exception": false,
     "start_time": "2022-03-12T10:09:16.411309",
     "status": "completed"
    },
    "tags": []
   },
   "outputs": [
    {
     "data": {
      "text/plain": [
       "((60000, 28, 28), (60000,))"
      ]
     },
     "execution_count": 6,
     "metadata": {},
     "output_type": "execute_result"
    }
   ],
   "source": [
    "train_images.shape, train_labels.shape"
   ]
  },
  {
   "cell_type": "code",
   "execution_count": 7,
   "id": "f50dc2bb",
   "metadata": {
    "execution": {
     "iopub.execute_input": "2022-03-12T10:09:16.528758Z",
     "iopub.status.busy": "2022-03-12T10:09:16.527207Z",
     "iopub.status.idle": "2022-03-12T10:09:16.729255Z",
     "shell.execute_reply": "2022-03-12T10:09:16.728684Z"
    },
    "papermill": {
     "duration": 0.244824,
     "end_time": "2022-03-12T10:09:16.729401",
     "exception": false,
     "start_time": "2022-03-12T10:09:16.484577",
     "status": "completed"
    },
    "tags": []
   },
   "outputs": [],
   "source": [
    "test_images = mnist.test_images()\n",
    "test_labels = mnist.test_labels()"
   ]
  },
  {
   "cell_type": "code",
   "execution_count": 8,
   "id": "fc38cf1b",
   "metadata": {
    "execution": {
     "iopub.execute_input": "2022-03-12T10:09:16.799661Z",
     "iopub.status.busy": "2022-03-12T10:09:16.793724Z",
     "iopub.status.idle": "2022-03-12T10:09:16.802053Z",
     "shell.execute_reply": "2022-03-12T10:09:16.801609Z"
    },
    "papermill": {
     "duration": 0.046403,
     "end_time": "2022-03-12T10:09:16.802172",
     "exception": false,
     "start_time": "2022-03-12T10:09:16.755769",
     "status": "completed"
    },
    "tags": []
   },
   "outputs": [
    {
     "data": {
      "text/plain": [
       "((10000, 28, 28), (10000,))"
      ]
     },
     "execution_count": 8,
     "metadata": {},
     "output_type": "execute_result"
    }
   ],
   "source": [
    "test_images.shape, test_labels.shape"
   ]
  },
  {
   "cell_type": "code",
   "execution_count": 9,
   "id": "f9ed8fe0",
   "metadata": {
    "execution": {
     "iopub.execute_input": "2022-03-12T10:09:16.856483Z",
     "iopub.status.busy": "2022-03-12T10:09:16.855968Z",
     "iopub.status.idle": "2022-03-12T10:09:16.994430Z",
     "shell.execute_reply": "2022-03-12T10:09:16.995153Z"
    },
    "papermill": {
     "duration": 0.167734,
     "end_time": "2022-03-12T10:09:16.995309",
     "exception": false,
     "start_time": "2022-03-12T10:09:16.827575",
     "status": "completed"
    },
    "tags": []
   },
   "outputs": [
    {
     "name": "stdout",
     "output_type": "stream",
     "text": [
      "2\n"
     ]
    },
    {
     "data": {
      "text/plain": [
       "<matplotlib.image.AxesImage at 0x7fd835d90668>"
      ]
     },
     "execution_count": 9,
     "metadata": {},
     "output_type": "execute_result"
    },
    {
     "data": {
      "image/png": "[encoded data removed]",
      "text/plain": [
       "<Figure size 432x288 with 1 Axes>"
      ]
     },
     "metadata": {
      "needs_background": "light"
     },
     "output_type": "display_data"
    }
   ],
   "source": [
    "image_index = 7776 # You may select anything up to 60,000\n",
    "print(train_labels[image_index]) \n",
    "plt.imshow(train_images[image_index], cmap='Greys')"
   ]
  },
  {
   "cell_type": "markdown",
   "id": "a8d2388d",
   "metadata": {
    "papermill": {
     "duration": 0.026451,
     "end_time": "2022-03-12T10:09:17.048379",
     "exception": false,
     "start_time": "2022-03-12T10:09:17.021928",
     "status": "completed"
    },
    "tags": []
   },
   "source": [
    "## Filter data to get 3 and 8 out"
   ]
  },
  {
   "cell_type": "code",
   "execution_count": 10,
   "id": "776f7fc7",
   "metadata": {
    "execution": {
     "iopub.execute_input": "2022-03-12T10:09:17.109984Z",
     "iopub.status.busy": "2022-03-12T10:09:17.105514Z",
     "iopub.status.idle": "2022-03-12T10:09:17.124040Z",
     "shell.execute_reply": "2022-03-12T10:09:17.123546Z"
    },
    "papermill": {
     "duration": 0.049383,
     "end_time": "2022-03-12T10:09:17.124165",
     "exception": false,
     "start_time": "2022-03-12T10:09:17.074782",
     "status": "completed"
    },
    "tags": []
   },
   "outputs": [],
   "source": [
    "train_filter = np.where((train_labels == 3 ) | (train_labels == 8))\n",
    "test_filter = np.where((test_labels == 3) | (test_labels == 8))\n",
    "X_train, y_train = train_images[train_filter], train_labels[train_filter]\n",
    "X_test, y_test = test_images[test_filter], test_labels[test_filter]"
   ]
  },
  {
   "cell_type": "markdown",
   "id": "948f0b7e",
   "metadata": {
    "papermill": {
     "duration": 0.026482,
     "end_time": "2022-03-12T10:09:17.177444",
     "exception": false,
     "start_time": "2022-03-12T10:09:17.150962",
     "status": "completed"
    },
    "tags": []
   },
   "source": [
    "We normalize the pizel values in the 0 to 1 range"
   ]
  },
  {
   "cell_type": "code",
   "execution_count": 11,
   "id": "ee4c2166",
   "metadata": {
    "execution": {
     "iopub.execute_input": "2022-03-12T10:09:17.250418Z",
     "iopub.status.busy": "2022-03-12T10:09:17.249841Z",
     "iopub.status.idle": "2022-03-12T10:09:17.286918Z",
     "shell.execute_reply": "2022-03-12T10:09:17.286469Z"
    },
    "papermill": {
     "duration": 0.083046,
     "end_time": "2022-03-12T10:09:17.287046",
     "exception": false,
     "start_time": "2022-03-12T10:09:17.204000",
     "status": "completed"
    },
    "tags": []
   },
   "outputs": [],
   "source": [
    "X_train = X_train/255.\n",
    "X_test = X_test/255."
   ]
  },
  {
   "cell_type": "markdown",
   "id": "ddcf4fab",
   "metadata": {
    "papermill": {
     "duration": 0.026821,
     "end_time": "2022-03-12T10:09:17.340541",
     "exception": false,
     "start_time": "2022-03-12T10:09:17.313720",
     "status": "completed"
    },
    "tags": []
   },
   "source": [
    "And setup the labels as 1 (when the digit is 3) and 0 (when the digit is 8)"
   ]
  },
  {
   "cell_type": "code",
   "execution_count": 12,
   "id": "7dc908f2",
   "metadata": {
    "execution": {
     "iopub.execute_input": "2022-03-12T10:09:17.398418Z",
     "iopub.status.busy": "2022-03-12T10:09:17.397895Z",
     "iopub.status.idle": "2022-03-12T10:09:17.409616Z",
     "shell.execute_reply": "2022-03-12T10:09:17.409171Z"
    },
    "papermill": {
     "duration": 0.042794,
     "end_time": "2022-03-12T10:09:17.409726",
     "exception": false,
     "start_time": "2022-03-12T10:09:17.366932",
     "status": "completed"
    },
    "tags": []
   },
   "outputs": [],
   "source": [
    "y_train = 1*(y_train==3)\n",
    "y_test = 1*(y_test==3)"
   ]
  },
  {
   "cell_type": "code",
   "execution_count": 13,
   "id": "01e4e969",
   "metadata": {
    "execution": {
     "iopub.execute_input": "2022-03-12T10:09:17.466017Z",
     "iopub.status.busy": "2022-03-12T10:09:17.465508Z",
     "iopub.status.idle": "2022-03-12T10:09:17.478518Z",
     "shell.execute_reply": "2022-03-12T10:09:17.478902Z"
    },
    "papermill": {
     "duration": 0.042975,
     "end_time": "2022-03-12T10:09:17.479037",
     "exception": false,
     "start_time": "2022-03-12T10:09:17.436062",
     "status": "completed"
    },
    "tags": []
   },
   "outputs": [
    {
     "data": {
      "text/plain": [
       "((11982, 28, 28), (1984, 28, 28))"
      ]
     },
     "execution_count": 13,
     "metadata": {},
     "output_type": "execute_result"
    }
   ],
   "source": [
    "X_train.shape, X_test.shape"
   ]
  },
  {
   "cell_type": "markdown",
   "id": "5ccf3f85",
   "metadata": {
    "papermill": {
     "duration": 0.026564,
     "end_time": "2022-03-12T10:09:17.532231",
     "exception": false,
     "start_time": "2022-03-12T10:09:17.505667",
     "status": "completed"
    },
    "tags": []
   },
   "source": [
    "We reshape the data to flatten the image pixels into a set of features or co-variates:"
   ]
  },
  {
   "cell_type": "code",
   "execution_count": 14,
   "id": "5286a4a3",
   "metadata": {
    "execution": {
     "iopub.execute_input": "2022-03-12T10:09:17.590937Z",
     "iopub.status.busy": "2022-03-12T10:09:17.590419Z",
     "iopub.status.idle": "2022-03-12T10:09:17.602943Z",
     "shell.execute_reply": "2022-03-12T10:09:17.603329Z"
    },
    "papermill": {
     "duration": 0.044399,
     "end_time": "2022-03-12T10:09:17.603467",
     "exception": false,
     "start_time": "2022-03-12T10:09:17.559068",
     "status": "completed"
    },
    "tags": []
   },
   "outputs": [
    {
     "data": {
      "text/plain": [
       "((11982, 784), (1984, 784))"
      ]
     },
     "execution_count": 14,
     "metadata": {},
     "output_type": "execute_result"
    }
   ],
   "source": [
    "X_train = X_train.reshape(X_train.shape[0], -1)\n",
    "X_test = X_test.reshape(X_test.shape[0], -1)\n",
    "X_train.shape, X_test.shape"
   ]
  },
  {
   "cell_type": "code",
   "execution_count": 15,
   "id": "73c5f88a",
   "metadata": {
    "execution": {
     "iopub.execute_input": "2022-03-12T10:09:17.662016Z",
     "iopub.status.busy": "2022-03-12T10:09:17.661493Z",
     "iopub.status.idle": "2022-03-12T10:09:17.680977Z",
     "shell.execute_reply": "2022-03-12T10:09:17.680523Z"
    },
    "papermill": {
     "duration": 0.050562,
     "end_time": "2022-03-12T10:09:17.681098",
     "exception": false,
     "start_time": "2022-03-12T10:09:17.630536",
     "status": "completed"
    },
    "tags": []
   },
   "outputs": [],
   "source": [
    "#Impoting functions from 'Kudzu'\n",
    "from kudzu.model import Model\n",
    "from kudzu.train import Learner\n",
    "from kudzu.optim import GD\n",
    "from kudzu.data import Data, Sampler,Dataloader\n",
    "\n",
    "from kudzu.callbacks import AccCallback\n",
    "from kudzu.callbacks import ClfCallback\n",
    "\n",
    "from kudzu.loss import MSE\n",
    "\n",
    "from kudzu.layer import Sigmoid,Relu\n",
    "from kudzu.layer import Affine"
   ]
  },
  {
   "cell_type": "markdown",
   "id": "bc01172a",
   "metadata": {
    "papermill": {
     "duration": 0.027193,
     "end_time": "2022-03-12T10:09:17.735406",
     "exception": false,
     "start_time": "2022-03-12T10:09:17.708213",
     "status": "completed"
    },
    "tags": []
   },
   "source": [
    "### Let us create a `Config` class, to store important parameters. \n",
    "This class essentially plays the role of a dictionary."
   ]
  },
  {
   "cell_type": "code",
   "execution_count": 16,
   "id": "978281aa",
   "metadata": {
    "execution": {
     "iopub.execute_input": "2022-03-12T10:09:17.796501Z",
     "iopub.status.busy": "2022-03-12T10:09:17.795924Z",
     "iopub.status.idle": "2022-03-12T10:09:17.805767Z",
     "shell.execute_reply": "2022-03-12T10:09:17.806167Z"
    },
    "papermill": {
     "duration": 0.043874,
     "end_time": "2022-03-12T10:09:17.806309",
     "exception": false,
     "start_time": "2022-03-12T10:09:17.762435",
     "status": "completed"
    },
    "tags": []
   },
   "outputs": [],
   "source": [
    "class Config:\n",
    "    pass\n",
    "config = Config()\n",
    "config.lr = 0.001\n",
    "config.num_epochs = 250\n",
    "config.bs = 50"
   ]
  },
  {
   "cell_type": "markdown",
   "id": "1385fa59",
   "metadata": {
    "papermill": {
     "duration": 0.026833,
     "end_time": "2022-03-12T10:09:17.860254",
     "exception": false,
     "start_time": "2022-03-12T10:09:17.833421",
     "status": "completed"
    },
    "tags": []
   },
   "source": [
    "### Running Models with the Training data\n",
    "Details about the network layers:\n",
    "- A first affine layer has 784 inputs and does 100 affine transforms. These are followed by a Relu\n",
    "- A second affine layer has 100 inputs from the 100 activations of the past layer, and does 100 affine transforms. These are followed by a Relu\n",
    "- A third affine layer has 100 activations and does 2 affine transformations to create an embedding for visualization. There is no non-linearity here.\n",
    "- A final \"logistic regression\" which has an affine transform from 2 inputs to 1 output, which is squeezed through a sigmoid.\n"
   ]
  },
  {
   "cell_type": "code",
   "execution_count": 17,
   "id": "2b9c66db",
   "metadata": {
    "execution": {
     "iopub.execute_input": "2022-03-12T10:09:17.918766Z",
     "iopub.status.busy": "2022-03-12T10:09:17.918241Z",
     "iopub.status.idle": "2022-03-12T10:09:17.930462Z",
     "shell.execute_reply": "2022-03-12T10:09:17.930040Z"
    },
    "papermill": {
     "duration": 0.043368,
     "end_time": "2022-03-12T10:09:17.930583",
     "exception": false,
     "start_time": "2022-03-12T10:09:17.887215",
     "status": "completed"
    },
    "tags": []
   },
   "outputs": [],
   "source": [
    "data = Data(X_train, y_train.reshape(-1,1))\n",
    "sampler = Sampler(data, config.bs, shuffle=True)\n",
    "\n",
    "dl = Dataloader(data, sampler)\n",
    "\n",
    "opt = GD(config.lr)\n",
    "loss = MSE()"
   ]
  },
  {
   "cell_type": "code",
   "execution_count": 18,
   "id": "b275e4c2",
   "metadata": {
    "execution": {
     "iopub.execute_input": "2022-03-12T10:09:18.002204Z",
     "iopub.status.busy": "2022-03-12T10:09:17.998008Z",
     "iopub.status.idle": "2022-03-12T10:09:18.004094Z",
     "shell.execute_reply": "2022-03-12T10:09:18.004485Z"
    },
    "papermill": {
     "duration": 0.046933,
     "end_time": "2022-03-12T10:09:18.004627",
     "exception": false,
     "start_time": "2022-03-12T10:09:17.957694",
     "status": "completed"
    },
    "tags": []
   },
   "outputs": [],
   "source": [
    "training_data_x = X_train\n",
    "testing_data_x = X_test\n",
    "training_data_y = y_train.reshape(-1,1)\n",
    "testing_data_y = y_test.reshape(-1,1)"
   ]
  },
  {
   "cell_type": "code",
   "execution_count": 19,
   "id": "76951160",
   "metadata": {
    "execution": {
     "iopub.execute_input": "2022-03-12T10:09:18.077379Z",
     "iopub.status.busy": "2022-03-12T10:09:18.071971Z",
     "iopub.status.idle": "2022-03-12T10:09:18.084986Z",
     "shell.execute_reply": "2022-03-12T10:09:18.084515Z"
    },
    "papermill": {
     "duration": 0.053534,
     "end_time": "2022-03-12T10:09:18.085108",
     "exception": false,
     "start_time": "2022-03-12T10:09:18.031574",
     "status": "completed"
    },
    "tags": []
   },
   "outputs": [
    {
     "name": "stdout",
     "output_type": "stream",
     "text": [
      "xavier\n",
      "xavier\n",
      "xavier\n",
      "xavier\n",
      "xavier\n"
     ]
    }
   ],
   "source": [
    "layers = [Affine(\"first\", 784, 100), Relu(\"first\"), Affine(\"second\", 100, 100), Relu(\"second\"), Affine(\"third\", 100, 2), Affine(\"last\", 2, 1), Sigmoid(\"last\")]\n",
    "model_nn = Model(layers)\n",
    "model_lr = Model([Affine(\"logits\", 784, 1), Sigmoid(\"sigmoid\")])"
   ]
  },
  {
   "cell_type": "code",
   "execution_count": 20,
   "id": "6eede77a",
   "metadata": {
    "execution": {
     "iopub.execute_input": "2022-03-12T10:09:18.149635Z",
     "iopub.status.busy": "2022-03-12T10:09:18.145683Z",
     "iopub.status.idle": "2022-03-12T10:09:18.156436Z",
     "shell.execute_reply": "2022-03-12T10:09:18.156019Z"
    },
    "papermill": {
     "duration": 0.044048,
     "end_time": "2022-03-12T10:09:18.156557",
     "exception": false,
     "start_time": "2022-03-12T10:09:18.112509",
     "status": "completed"
    },
    "tags": []
   },
   "outputs": [],
   "source": [
    "nn_learner = Learner(loss, model_nn, opt, config.num_epochs)\n",
    "acc_nn = ClfCallback(nn_learner, config.bs, training_data_x , testing_data_x, training_data_y, testing_data_y)\n",
    "nn_learner.set_callbacks([acc_nn])"
   ]
  },
  {
   "cell_type": "code",
   "execution_count": 21,
   "id": "877b6cc7",
   "metadata": {
    "execution": {
     "iopub.execute_input": "2022-03-12T10:09:18.215654Z",
     "iopub.status.busy": "2022-03-12T10:09:18.215134Z",
     "iopub.status.idle": "2022-03-12T10:09:18.228709Z",
     "shell.execute_reply": "2022-03-12T10:09:18.228265Z"
    },
    "papermill": {
     "duration": 0.044695,
     "end_time": "2022-03-12T10:09:18.228825",
     "exception": false,
     "start_time": "2022-03-12T10:09:18.184130",
     "status": "completed"
    },
    "tags": []
   },
   "outputs": [],
   "source": [
    "lr_learner = Learner(loss, model_lr, opt, config.num_epochs)\n",
    "acc_lr = ClfCallback(lr_learner, config.bs, training_data_x , testing_data_x, training_data_y, testing_data_y)\n",
    "lr_learner.set_callbacks([acc_lr])"
   ]
  },
  {
   "cell_type": "code",
   "execution_count": 22,
   "id": "d9b133c3",
   "metadata": {
    "execution": {
     "iopub.execute_input": "2022-03-12T10:09:18.287286Z",
     "iopub.status.busy": "2022-03-12T10:09:18.286778Z",
     "iopub.status.idle": "2022-03-12T10:10:34.593378Z",
     "shell.execute_reply": "2022-03-12T10:10:34.594110Z"
    },
    "papermill": {
     "duration": 76.338054,
     "end_time": "2022-03-12T10:10:34.594261",
     "exception": false,
     "start_time": "2022-03-12T10:09:18.256207",
     "status": "completed"
    },
    "tags": []
   },
   "outputs": [
    {
     "name": "stdout",
     "output_type": "stream",
     "text": [
      "Epoch 0, Loss 0.2583\n",
      "Training Accuracy: 0.5153, Testing Accuracy: 0.5126\n",
      "\n"
     ]
    },
    {
     "name": "stdout",
     "output_type": "stream",
     "text": [
      "Epoch 10, Loss 0.1142\n",
      "Training Accuracy: 0.9179, Testing Accuracy: 0.9234\n",
      "\n"
     ]
    },
    {
     "name": "stdout",
     "output_type": "stream",
     "text": [
      "Epoch 20, Loss 0.0609\n",
      "Training Accuracy: 0.9412, Testing Accuracy: 0.9506\n",
      "\n"
     ]
    },
    {
     "name": "stdout",
     "output_type": "stream",
     "text": [
      "Epoch 30, Loss 0.0454\n",
      "Training Accuracy: 0.9530, Testing Accuracy: 0.9592\n",
      "\n"
     ]
    },
    {
     "name": "stdout",
     "output_type": "stream",
     "text": [
      "Epoch 40, Loss 0.0386\n",
      "Training Accuracy: 0.9580, Testing Accuracy: 0.9662\n",
      "\n"
     ]
    },
    {
     "name": "stdout",
     "output_type": "stream",
     "text": [
      "Epoch 50, Loss 0.0347\n",
      "Training Accuracy: 0.9615, Testing Accuracy: 0.9667\n",
      "\n"
     ]
    },
    {
     "name": "stdout",
     "output_type": "stream",
     "text": [
      "Epoch 60, Loss 0.0321\n",
      "Training Accuracy: 0.9637, Testing Accuracy: 0.9708\n",
      "\n"
     ]
    },
    {
     "name": "stdout",
     "output_type": "stream",
     "text": [
      "Epoch 70, Loss 0.0302\n",
      "Training Accuracy: 0.9657, Testing Accuracy: 0.9708\n",
      "\n"
     ]
    },
    {
     "name": "stdout",
     "output_type": "stream",
     "text": [
      "Epoch 80, Loss 0.0287\n",
      "Training Accuracy: 0.9671, Testing Accuracy: 0.9713\n",
      "\n"
     ]
    },
    {
     "name": "stdout",
     "output_type": "stream",
     "text": [
      "Epoch 90, Loss 0.0276\n",
      "Training Accuracy: 0.9678, Testing Accuracy: 0.9733\n",
      "\n"
     ]
    },
    {
     "name": "stdout",
     "output_type": "stream",
     "text": [
      "Epoch 100, Loss 0.0265\n",
      "Training Accuracy: 0.9694, Testing Accuracy: 0.9738\n",
      "\n"
     ]
    },
    {
     "name": "stdout",
     "output_type": "stream",
     "text": [
      "Epoch 110, Loss 0.0257\n",
      "Training Accuracy: 0.9703, Testing Accuracy: 0.9738\n",
      "\n"
     ]
    },
    {
     "name": "stdout",
     "output_type": "stream",
     "text": [
      "Epoch 120, Loss 0.0249\n",
      "Training Accuracy: 0.9710, Testing Accuracy: 0.9733\n",
      "\n"
     ]
    },
    {
     "name": "stdout",
     "output_type": "stream",
     "text": [
      "Epoch 130, Loss 0.0242\n",
      "Training Accuracy: 0.9721, Testing Accuracy: 0.9718\n",
      "\n"
     ]
    },
    {
     "name": "stdout",
     "output_type": "stream",
     "text": [
      "Epoch 140, Loss 0.0236\n",
      "Training Accuracy: 0.9732, Testing Accuracy: 0.9723\n",
      "\n"
     ]
    },
    {
     "name": "stdout",
     "output_type": "stream",
     "text": [
      "Epoch 150, Loss 0.023\n",
      "Training Accuracy: 0.9740, Testing Accuracy: 0.9723\n",
      "\n"
     ]
    },
    {
     "name": "stdout",
     "output_type": "stream",
     "text": [
      "Epoch 160, Loss 0.0224\n",
      "Training Accuracy: 0.9746, Testing Accuracy: 0.9723\n",
      "\n"
     ]
    },
    {
     "name": "stdout",
     "output_type": "stream",
     "text": [
      "Epoch 170, Loss 0.0219\n",
      "Training Accuracy: 0.9754, Testing Accuracy: 0.9718\n",
      "\n"
     ]
    },
    {
     "name": "stdout",
     "output_type": "stream",
     "text": [
      "Epoch 180, Loss 0.0215\n",
      "Training Accuracy: 0.9759, Testing Accuracy: 0.9723\n",
      "\n"
     ]
    },
    {
     "name": "stdout",
     "output_type": "stream",
     "text": [
      "Epoch 190, Loss 0.021\n",
      "Training Accuracy: 0.9767, Testing Accuracy: 0.9723\n",
      "\n"
     ]
    },
    {
     "name": "stdout",
     "output_type": "stream",
     "text": [
      "Epoch 200, Loss 0.0206\n",
      "Training Accuracy: 0.9774, Testing Accuracy: 0.9728\n",
      "\n"
     ]
    },
    {
     "name": "stdout",
     "output_type": "stream",
     "text": [
      "Epoch 210, Loss 0.0202\n",
      "Training Accuracy: 0.9778, Testing Accuracy: 0.9733\n",
      "\n"
     ]
    },
    {
     "name": "stdout",
     "output_type": "stream",
     "text": [
      "Epoch 220, Loss 0.0198\n",
      "Training Accuracy: 0.9782, Testing Accuracy: 0.9743\n",
      "\n"
     ]
    },
    {
     "name": "stdout",
     "output_type": "stream",
     "text": [
      "Epoch 230, Loss 0.0195\n",
      "Training Accuracy: 0.9787, Testing Accuracy: 0.9743\n",
      "\n"
     ]
    },
    {
     "name": "stdout",
     "output_type": "stream",
     "text": [
      "Epoch 240, Loss 0.0191\n",
      "Training Accuracy: 0.9791, Testing Accuracy: 0.9748\n",
      "\n"
     ]
    },
    {
     "data": {
      "text/plain": [
       "0.00491761963445862"
      ]
     },
     "execution_count": 22,
     "metadata": {},
     "output_type": "execute_result"
    }
   ],
   "source": [
    "nn_learner.train_loop(dl)"
   ]
  },
  {
   "cell_type": "code",
   "execution_count": 23,
   "id": "e0163366",
   "metadata": {
    "execution": {
     "iopub.execute_input": "2022-03-12T10:10:34.674298Z",
     "iopub.status.busy": "2022-03-12T10:10:34.673771Z",
     "iopub.status.idle": "2022-03-12T10:10:48.329551Z",
     "shell.execute_reply": "2022-03-12T10:10:48.330267Z"
    },
    "papermill": {
     "duration": 13.701284,
     "end_time": "2022-03-12T10:10:48.330417",
     "exception": false,
     "start_time": "2022-03-12T10:10:34.629133",
     "status": "completed"
    },
    "tags": []
   },
   "outputs": [
    {
     "name": "stdout",
     "output_type": "stream",
     "text": [
      "Epoch 0, Loss 0.2187\n",
      "Training Accuracy: 0.7455, Testing Accuracy: 0.7465\n",
      "\n"
     ]
    },
    {
     "name": "stdout",
     "output_type": "stream",
     "text": [
      "Epoch 10, Loss 0.101\n",
      "Training Accuracy: 0.9093, Testing Accuracy: 0.9204\n",
      "\n"
     ]
    },
    {
     "name": "stdout",
     "output_type": "stream",
     "text": [
      "Epoch 20, Loss 0.078\n",
      "Training Accuracy: 0.9295, Testing Accuracy: 0.9410\n",
      "\n"
     ]
    },
    {
     "name": "stdout",
     "output_type": "stream",
     "text": [
      "Epoch 30, Loss 0.0672\n",
      "Training Accuracy: 0.9367, Testing Accuracy: 0.9491\n",
      "\n"
     ]
    },
    {
     "name": "stdout",
     "output_type": "stream",
     "text": [
      "Epoch 40, Loss 0.0608\n",
      "Training Accuracy: 0.9422, Testing Accuracy: 0.9521\n",
      "\n"
     ]
    },
    {
     "name": "stdout",
     "output_type": "stream",
     "text": [
      "Epoch 50, Loss 0.0564\n",
      "Training Accuracy: 0.9467, Testing Accuracy: 0.9572\n",
      "\n"
     ]
    },
    {
     "name": "stdout",
     "output_type": "stream",
     "text": [
      "Epoch 60, Loss 0.0531\n",
      "Training Accuracy: 0.9494, Testing Accuracy: 0.9602\n",
      "\n"
     ]
    },
    {
     "name": "stdout",
     "output_type": "stream",
     "text": [
      "Epoch 70, Loss 0.0506\n",
      "Training Accuracy: 0.9509, Testing Accuracy: 0.9612\n",
      "\n"
     ]
    },
    {
     "name": "stdout",
     "output_type": "stream",
     "text": [
      "Epoch 80, Loss 0.0486\n",
      "Training Accuracy: 0.9528, Testing Accuracy: 0.9622\n",
      "\n"
     ]
    },
    {
     "name": "stdout",
     "output_type": "stream",
     "text": [
      "Epoch 90, Loss 0.0469\n",
      "Training Accuracy: 0.9540, Testing Accuracy: 0.9632\n",
      "\n"
     ]
    },
    {
     "name": "stdout",
     "output_type": "stream",
     "text": [
      "Epoch 100, Loss 0.0455\n",
      "Training Accuracy: 0.9551, Testing Accuracy: 0.9637\n",
      "\n"
     ]
    },
    {
     "name": "stdout",
     "output_type": "stream",
     "text": [
      "Epoch 110, Loss 0.0443\n",
      "Training Accuracy: 0.9558, Testing Accuracy: 0.9647\n",
      "\n"
     ]
    },
    {
     "name": "stdout",
     "output_type": "stream",
     "text": [
      "Epoch 120, Loss 0.0433\n",
      "Training Accuracy: 0.9564, Testing Accuracy: 0.9647\n",
      "\n"
     ]
    },
    {
     "name": "stdout",
     "output_type": "stream",
     "text": [
      "Epoch 130, Loss 0.0424\n",
      "Training Accuracy: 0.9578, Testing Accuracy: 0.9657\n",
      "\n"
     ]
    },
    {
     "name": "stdout",
     "output_type": "stream",
     "text": [
      "Epoch 140, Loss 0.0416\n",
      "Training Accuracy: 0.9582, Testing Accuracy: 0.9657\n",
      "\n"
     ]
    },
    {
     "name": "stdout",
     "output_type": "stream",
     "text": [
      "Epoch 150, Loss 0.0408\n",
      "Training Accuracy: 0.9584, Testing Accuracy: 0.9662\n",
      "\n"
     ]
    },
    {
     "name": "stdout",
     "output_type": "stream",
     "text": [
      "Epoch 160, Loss 0.0402\n",
      "Training Accuracy: 0.9587, Testing Accuracy: 0.9667\n",
      "\n"
     ]
    },
    {
     "name": "stdout",
     "output_type": "stream",
     "text": [
      "Epoch 170, Loss 0.0396\n",
      "Training Accuracy: 0.9590, Testing Accuracy: 0.9662\n",
      "\n"
     ]
    },
    {
     "name": "stdout",
     "output_type": "stream",
     "text": [
      "Epoch 180, Loss 0.039\n",
      "Training Accuracy: 0.9596, Testing Accuracy: 0.9667\n",
      "\n"
     ]
    },
    {
     "name": "stdout",
     "output_type": "stream",
     "text": [
      "Epoch 190, Loss 0.0385\n",
      "Training Accuracy: 0.9600, Testing Accuracy: 0.9667\n",
      "\n"
     ]
    },
    {
     "name": "stdout",
     "output_type": "stream",
     "text": [
      "Epoch 200, Loss 0.0381\n",
      "Training Accuracy: 0.9603, Testing Accuracy: 0.9667\n",
      "\n"
     ]
    },
    {
     "name": "stdout",
     "output_type": "stream",
     "text": [
      "Epoch 210, Loss 0.0376\n",
      "Training Accuracy: 0.9606, Testing Accuracy: 0.9667\n",
      "\n"
     ]
    },
    {
     "name": "stdout",
     "output_type": "stream",
     "text": [
      "Epoch 220, Loss 0.0372\n",
      "Training Accuracy: 0.9611, Testing Accuracy: 0.9667\n",
      "\n"
     ]
    },
    {
     "name": "stdout",
     "output_type": "stream",
     "text": [
      "Epoch 230, Loss 0.0369\n",
      "Training Accuracy: 0.9614, Testing Accuracy: 0.9667\n",
      "\n"
     ]
    },
    {
     "name": "stdout",
     "output_type": "stream",
     "text": [
      "Epoch 240, Loss 0.0365\n",
      "Training Accuracy: 0.9616, Testing Accuracy: 0.9667\n",
      "\n"
     ]
    },
    {
     "data": {
      "text/plain": [
       "0.05266012658728473"
      ]
     },
     "execution_count": 23,
     "metadata": {},
     "output_type": "execute_result"
    }
   ],
   "source": [
    "lr_learner.train_loop(dl)"
   ]
  },
  {
   "cell_type": "code",
   "execution_count": 24,
   "id": "ca410940",
   "metadata": {
    "execution": {
     "iopub.execute_input": "2022-03-12T10:10:48.423362Z",
     "iopub.status.busy": "2022-03-12T10:10:48.422824Z",
     "iopub.status.idle": "2022-03-12T10:10:48.647946Z",
     "shell.execute_reply": "2022-03-12T10:10:48.647425Z"
    },
    "papermill": {
     "duration": 0.276037,
     "end_time": "2022-03-12T10:10:48.648081",
     "exception": false,
     "start_time": "2022-03-12T10:10:48.372044",
     "status": "completed"
    },
    "tags": []
   },
   "outputs": [
    {
     "data": {
      "text/plain": [
       "<matplotlib.legend.Legend at 0x7fd83596ccf8>"
      ]
     },
     "execution_count": 24,
     "metadata": {},
     "output_type": "execute_result"
    },
    {
     "data": {
      "image/png": "[encoded data removed]",
      "text/plain": [
       "<Figure size 1080x720 with 1 Axes>"
      ]
     },
     "metadata": {
      "needs_background": "light"
     },
     "output_type": "display_data"
    }
   ],
   "source": [
    "#comparing the results of NN and LR\n",
    "plt.figure(figsize=(15,10))\n",
    "\n",
    "# Neural Network plots\n",
    "plt.plot(acc_nn.accuracies, 'r-', label = \"Training Accuracies - NN\")\n",
    "plt.plot(acc_nn.test_accuracies, 'g-', label = \"Testing Accuracies - NN\")\n",
    "\n",
    "# Logistic Regression plots\n",
    "plt.plot(acc_lr.accuracies, 'k-', label = \"Training Accuracies - LR\")\n",
    "plt.plot(acc_lr.test_accuracies, 'b-', label = \"Testing Accuracies - LR\")\n",
    "plt.legend()"
   ]
  },
  {
   "cell_type": "markdown",
   "id": "80dfb35c",
   "metadata": {
    "papermill": {
     "duration": 0.041908,
     "end_time": "2022-03-12T10:10:48.732459",
     "exception": false,
     "start_time": "2022-03-12T10:10:48.690551",
     "status": "completed"
    },
    "tags": []
   },
   "source": [
    "#### Plotting the outputs of this layer of the NN.\n"
   ]
  },
  {
   "cell_type": "code",
   "execution_count": 25,
   "id": "45eb2ff5",
   "metadata": {
    "execution": {
     "iopub.execute_input": "2022-03-12T10:10:48.820477Z",
     "iopub.status.busy": "2022-03-12T10:10:48.819942Z",
     "iopub.status.idle": "2022-03-12T10:10:48.844160Z",
     "shell.execute_reply": "2022-03-12T10:10:48.844596Z"
    },
    "papermill": {
     "duration": 0.070426,
     "end_time": "2022-03-12T10:10:48.844736",
     "exception": false,
     "start_time": "2022-03-12T10:10:48.774310",
     "status": "completed"
    },
    "tags": []
   },
   "outputs": [],
   "source": [
    "new_model = Model(layers[:-2])\n",
    "testing_plot = new_model(testing_data_x)"
   ]
  },
  {
   "cell_type": "code",
   "execution_count": 26,
   "id": "4c0a5485",
   "metadata": {
    "execution": {
     "iopub.execute_input": "2022-03-12T10:10:48.948899Z",
     "iopub.status.busy": "2022-03-12T10:10:48.934902Z",
     "iopub.status.idle": "2022-03-12T10:10:49.126900Z",
     "shell.execute_reply": "2022-03-12T10:10:49.126450Z"
    },
    "papermill": {
     "duration": 0.239357,
     "end_time": "2022-03-12T10:10:49.127022",
     "exception": false,
     "start_time": "2022-03-12T10:10:48.887665",
     "status": "completed"
    },
    "tags": []
   },
   "outputs": [
    {
     "data": {
      "text/plain": [
       "Text(0.5, 1.0, 'Outputs')"
      ]
     },
     "execution_count": 26,
     "metadata": {},
     "output_type": "execute_result"
    },
    {
     "data": {
      "image/png": "[encoded data removed]",
      "text/plain": [
       "<Figure size 576x504 with 1 Axes>"
      ]
     },
     "metadata": {
      "needs_background": "light"
     },
     "output_type": "display_data"
    }
   ],
   "source": [
    "# Plotting the scatter plot of points and color coding by class\n",
    "plt.figure(figsize=(8,7))\n",
    "plt.scatter(testing_plot[:,0], testing_plot[:,1], alpha = 0.1, c = y_test.ravel());\n",
    "plt.title('Outputs')"
   ]
  },
  {
   "cell_type": "markdown",
   "id": "a74fcf8f",
   "metadata": {
    "papermill": {
     "duration": 0.044018,
     "end_time": "2022-03-12T10:10:49.214971",
     "exception": false,
     "start_time": "2022-03-12T10:10:49.170953",
     "status": "completed"
    },
    "tags": []
   },
   "source": [
    "Probability contours"
   ]
  },
  {
   "cell_type": "code",
   "execution_count": 27,
   "id": "d0afc8e3",
   "metadata": {
    "execution": {
     "iopub.execute_input": "2022-03-12T10:10:49.322108Z",
     "iopub.status.busy": "2022-03-12T10:10:49.321122Z",
     "iopub.status.idle": "2022-03-12T10:10:49.325367Z",
     "shell.execute_reply": "2022-03-12T10:10:49.325771Z"
    },
    "papermill": {
     "duration": 0.066959,
     "end_time": "2022-03-12T10:10:49.325906",
     "exception": false,
     "start_time": "2022-03-12T10:10:49.258947",
     "status": "completed"
    },
    "tags": []
   },
   "outputs": [],
   "source": [
    "model_prob = Model(layers[-2:]) "
   ]
  },
  {
   "cell_type": "code",
   "execution_count": 28,
   "id": "9b96e238",
   "metadata": {
    "execution": {
     "iopub.execute_input": "2022-03-12T10:10:49.451373Z",
     "iopub.status.busy": "2022-03-12T10:10:49.450836Z",
     "iopub.status.idle": "2022-03-12T10:10:49.464290Z",
     "shell.execute_reply": "2022-03-12T10:10:49.463858Z"
    },
    "papermill": {
     "duration": 0.062678,
     "end_time": "2022-03-12T10:10:49.464411",
     "exception": false,
     "start_time": "2022-03-12T10:10:49.401733",
     "status": "completed"
    },
    "tags": []
   },
   "outputs": [],
   "source": [
    "#creating the x and y ranges according to the above generated plot.\n",
    "x_range = np.linspace(-4, 1, 100) \n",
    "y_range = np.linspace(-6, 6, 100) \n",
    "x_grid, y_grid = np.meshgrid(x_range, y_range) # x_grid and y_grig are of size 100 X 100\n",
    "\n",
    "# converting x_grid and y_grid to continuous arrays\n",
    "x_gridflat = np.ravel(x_grid)\n",
    "y_gridflat = np.ravel(y_grid)\n",
    "\n",
    "# The last layer of the current model takes two columns as input. Hence transpose of np.vstack() is required.\n",
    "X = np.vstack((x_gridflat, y_gridflat)).T\n",
    "\n",
    "prob_contour = model_prob(X).reshape(100,100) "
   ]
  },
  {
   "cell_type": "code",
   "execution_count": 29,
   "id": "da72499a",
   "metadata": {
    "execution": {
     "iopub.execute_input": "2022-03-12T10:10:49.565585Z",
     "iopub.status.busy": "2022-03-12T10:10:49.565027Z",
     "iopub.status.idle": "2022-03-12T10:10:49.796695Z",
     "shell.execute_reply": "2022-03-12T10:10:49.796263Z"
    },
    "papermill": {
     "duration": 0.287315,
     "end_time": "2022-03-12T10:10:49.796824",
     "exception": false,
     "start_time": "2022-03-12T10:10:49.509509",
     "status": "completed"
    },
    "tags": []
   },
   "outputs": [
    {
     "data": {
      "image/png": "[encoded data removed]",
      "text/plain": [
       "<Figure size 720x648 with 1 Axes>"
      ]
     },
     "metadata": {
      "needs_background": "light"
     },
     "output_type": "display_data"
    }
   ],
   "source": [
    "plt.figure(figsize=(10,9))\n",
    "plt.scatter(testing_plot[:,0], testing_plot[:,1], alpha = 0.1, c = y_test.ravel())\n",
    "contours = plt.contour(x_grid,y_grid,prob_contour)\n",
    "plt.title('Probability Contours')\n",
    "plt.clabel(contours, inline = True );"
   ]
  },
  {
   "cell_type": "code",
   "execution_count": null,
   "id": "e81b4ac7",
   "metadata": {
    "papermill": {
     "duration": 0.046189,
     "end_time": "2022-03-12T10:10:49.889932",
     "exception": false,
     "start_time": "2022-03-12T10:10:49.843743",
     "status": "completed"
    },
    "tags": []
   },
   "outputs": [],
   "source": []
  }
 ],
 "metadata": {
  "kernelspec": {
   "display_name": "Python 3",
   "language": "python",
   "name": "python3"
  },
  "language_info": {
   "codemirror_mode": {
    "name": "ipython",
    "version": 3
   },
   "file_extension": ".py",
   "mimetype": "text/x-python",
   "name": "python",
   "nbconvert_exporter": "python",
   "pygments_lexer": "ipython3",
   "version": "3.6.15"
  },
  "papermill": {
   "default_parameters": {},
   "duration": 98.36026,
   "end_time": "2022-03-12T10:10:50.355877",
   "environment_variables": {},
   "exception": null,
   "input_path": "2020-08-11-part2.ipynb",
   "output_path": "2020-08-11-part2.ipynb",
   "parameters": {},
   "start_time": "2022-03-12T10:09:11.995617",
   "version": "2.3.3"
  }
 },
 "nbformat": 4,
 "nbformat_minor": 5
}