{
 "cells": [
  {
   "cell_type": "markdown",
   "id": "98380cd3",
   "metadata": {
    "papermill": {
     "duration": 0.035627,
     "end_time": "2022-09-02T00:42:53.985986",
     "exception": false,
     "start_time": "2022-09-02T00:42:53.950359",
     "status": "completed"
    },
    "tags": []
   },
   "source": [
    "# Distinguish Your Own Digits (DYOD)"
   ]
  },
  {
   "cell_type": "markdown",
   "id": "ef31240d",
   "metadata": {
    "papermill": {
     "duration": 0.027394,
     "end_time": "2022-09-02T00:42:54.041372",
     "exception": false,
     "start_time": "2022-09-02T00:42:54.013978",
     "status": "completed"
    },
    "tags": []
   },
   "source": [
    "You are going to write a classifier that distinguishes between the number 3 and number 8."
   ]
  },
  {
   "cell_type": "code",
   "execution_count": 1,
   "id": "b15c8646",
   "metadata": {
    "execution": {
     "iopub.execute_input": "2022-09-02T00:42:54.107864Z",
     "iopub.status.busy": "2022-09-02T00:42:54.107150Z",
     "iopub.status.idle": "2022-09-02T00:42:54.124220Z",
     "shell.execute_reply": "2022-09-02T00:42:54.124798Z"
    },
    "papermill": {
     "duration": 0.056369,
     "end_time": "2022-09-02T00:42:54.124980",
     "exception": false,
     "start_time": "2022-09-02T00:42:54.068611",
     "status": "completed"
    },
    "tags": []
   },
   "outputs": [],
   "source": [
    "%load_ext autoreload\n",
    "%autoreload 2"
   ]
  },
  {
   "cell_type": "code",
   "execution_count": 2,
   "id": "22ef38dc",
   "metadata": {
    "execution": {
     "iopub.execute_input": "2022-09-02T00:42:54.186124Z",
     "iopub.status.busy": "2022-09-02T00:42:54.185402Z",
     "iopub.status.idle": "2022-09-02T00:42:54.863951Z",
     "shell.execute_reply": "2022-09-02T00:42:54.862986Z"
    },
    "papermill": {
     "duration": 0.711828,
     "end_time": "2022-09-02T00:42:54.864174",
     "exception": false,
     "start_time": "2022-09-02T00:42:54.152346",
     "status": "completed"
    },
    "tags": []
   },
   "outputs": [],
   "source": [
    "%matplotlib inline\n",
    "import numpy as np\n",
    "import matplotlib.pyplot as plt\n",
    "import pandas as pd"
   ]
  },
  {
   "cell_type": "markdown",
   "id": "ba036198",
   "metadata": {
    "papermill": {
     "duration": 0.027147,
     "end_time": "2022-09-02T00:42:54.927613",
     "exception": false,
     "start_time": "2022-09-02T00:42:54.900466",
     "status": "completed"
    },
    "tags": []
   },
   "source": [
    "From the command line run `pip install mnist`. This is a library that will help you bring down the mnist dataset. If you run this from a notebook, you need to put  `!pip install mnist` in a cell by itself."
   ]
  },
  {
   "cell_type": "code",
   "execution_count": 3,
   "id": "bb6ad8a1",
   "metadata": {
    "execution": {
     "iopub.execute_input": "2022-09-02T00:42:54.988357Z",
     "iopub.status.busy": "2022-09-02T00:42:54.987518Z",
     "iopub.status.idle": "2022-09-02T00:42:56.908317Z",
     "shell.execute_reply": "2022-09-02T00:42:56.907730Z"
    },
    "papermill": {
     "duration": 1.953921,
     "end_time": "2022-09-02T00:42:56.908462",
     "exception": false,
     "start_time": "2022-09-02T00:42:54.954541",
     "status": "completed"
    },
    "tags": []
   },
   "outputs": [
    {
     "name": "stdout",
     "output_type": "stream",
     "text": [
      "Collecting mnist\r\n"
     ]
    },
    {
     "name": "stdout",
     "output_type": "stream",
     "text": [
      "  Downloading mnist-0.2.2-py2.py3-none-any.whl (3.5 kB)\r\n",
      "Requirement already satisfied: numpy in /opt/hostedtoolcache/Python/3.6.15/x64/lib/python3.6/site-packages (from mnist) (1.19.5)\r\n"
     ]
    },
    {
     "name": "stdout",
     "output_type": "stream",
     "text": [
      "Installing collected packages: mnist\r\n"
     ]
    },
    {
     "name": "stdout",
     "output_type": "stream",
     "text": [
      "Successfully installed mnist-0.2.2\r\n"
     ]
    }
   ],
   "source": [
    "!pip install mnist"
   ]
  },
  {
   "cell_type": "markdown",
   "id": "69df9c9a",
   "metadata": {
    "papermill": {
     "duration": 0.028467,
     "end_time": "2022-09-02T00:42:56.965578",
     "exception": false,
     "start_time": "2022-09-02T00:42:56.937111",
     "status": "completed"
    },
    "tags": []
   },
   "source": [
    "## Preparing the Data"
   ]
  },
  {
   "cell_type": "code",
   "execution_count": 4,
   "id": "7f69d806",
   "metadata": {
    "execution": {
     "iopub.execute_input": "2022-09-02T00:42:57.030834Z",
     "iopub.status.busy": "2022-09-02T00:42:57.030128Z",
     "iopub.status.idle": "2022-09-02T00:42:57.049340Z",
     "shell.execute_reply": "2022-09-02T00:42:57.048368Z"
    },
    "papermill": {
     "duration": 0.055362,
     "end_time": "2022-09-02T00:42:57.049563",
     "exception": false,
     "start_time": "2022-09-02T00:42:56.994201",
     "status": "completed"
    },
    "tags": []
   },
   "outputs": [],
   "source": [
    "import mnist"
   ]
  },
  {
   "cell_type": "code",
   "execution_count": 5,
   "id": "a411e44f",
   "metadata": {
    "execution": {
     "iopub.execute_input": "2022-09-02T00:42:57.126555Z",
     "iopub.status.busy": "2022-09-02T00:42:57.125828Z",
     "iopub.status.idle": "2022-09-02T00:42:57.795402Z",
     "shell.execute_reply": "2022-09-02T00:42:57.794012Z"
    },
    "papermill": {
     "duration": 0.707764,
     "end_time": "2022-09-02T00:42:57.795554",
     "exception": false,
     "start_time": "2022-09-02T00:42:57.087790",
     "status": "completed"
    },
    "tags": []
   },
   "outputs": [],
   "source": [
    "train_images = mnist.train_images()\n",
    "train_labels = mnist.train_labels()"
   ]
  },
  {
   "cell_type": "code",
   "execution_count": 6,
   "id": "dceab3a5",
   "metadata": {
    "execution": {
     "iopub.execute_input": "2022-09-02T00:42:57.858748Z",
     "iopub.status.busy": "2022-09-02T00:42:57.856584Z",
     "iopub.status.idle": "2022-09-02T00:42:57.873446Z",
     "shell.execute_reply": "2022-09-02T00:42:57.872860Z"
    },
    "papermill": {
     "duration": 0.049424,
     "end_time": "2022-09-02T00:42:57.873579",
     "exception": false,
     "start_time": "2022-09-02T00:42:57.824155",
     "status": "completed"
    },
    "tags": []
   },
   "outputs": [
    {
     "data": {
      "text/plain": [
       "((60000, 28, 28), (60000,))"
      ]
     },
     "execution_count": 6,
     "metadata": {},
     "output_type": "execute_result"
    }
   ],
   "source": [
    "train_images.shape, train_labels.shape"
   ]
  },
  {
   "cell_type": "code",
   "execution_count": 7,
   "id": "f50dc2bb",
   "metadata": {
    "execution": {
     "iopub.execute_input": "2022-09-02T00:42:57.938875Z",
     "iopub.status.busy": "2022-09-02T00:42:57.938194Z",
     "iopub.status.idle": "2022-09-02T00:42:58.182202Z",
     "shell.execute_reply": "2022-09-02T00:42:58.182728Z"
    },
    "papermill": {
     "duration": 0.276408,
     "end_time": "2022-09-02T00:42:58.182900",
     "exception": false,
     "start_time": "2022-09-02T00:42:57.906492",
     "status": "completed"
    },
    "tags": []
   },
   "outputs": [],
   "source": [
    "test_images = mnist.test_images()\n",
    "test_labels = mnist.test_labels()"
   ]
  },
  {
   "cell_type": "code",
   "execution_count": 8,
   "id": "fc38cf1b",
   "metadata": {
    "execution": {
     "iopub.execute_input": "2022-09-02T00:42:58.246339Z",
     "iopub.status.busy": "2022-09-02T00:42:58.245700Z",
     "iopub.status.idle": "2022-09-02T00:42:58.261335Z",
     "shell.execute_reply": "2022-09-02T00:42:58.261835Z"
    },
    "papermill": {
     "duration": 0.050278,
     "end_time": "2022-09-02T00:42:58.261991",
     "exception": false,
     "start_time": "2022-09-02T00:42:58.211713",
     "status": "completed"
    },
    "tags": []
   },
   "outputs": [
    {
     "data": {
      "text/plain": [
       "((10000, 28, 28), (10000,))"
      ]
     },
     "execution_count": 8,
     "metadata": {},
     "output_type": "execute_result"
    }
   ],
   "source": [
    "test_images.shape, test_labels.shape"
   ]
  },
  {
   "cell_type": "code",
   "execution_count": 9,
   "id": "f9ed8fe0",
   "metadata": {
    "execution": {
     "iopub.execute_input": "2022-09-02T00:42:58.329881Z",
     "iopub.status.busy": "2022-09-02T00:42:58.329183Z",
     "iopub.status.idle": "2022-09-02T00:42:58.506672Z",
     "shell.execute_reply": "2022-09-02T00:42:58.506094Z"
    },
    "papermill": {
     "duration": 0.211646,
     "end_time": "2022-09-02T00:42:58.506805",
     "exception": false,
     "start_time": "2022-09-02T00:42:58.295159",
     "status": "completed"
    },
    "tags": []
   },
   "outputs": [
    {
     "name": "stdout",
     "output_type": "stream",
     "text": [
      "2\n"
     ]
    },
    {
     "data": {
      "text/plain": [
       "<matplotlib.image.AxesImage at 0x7f5a56c299e8>"
      ]
     },
     "execution_count": 9,
     "metadata": {},
     "output_type": "execute_result"
    },
    {
     "data": {
      "image/png": "[encoded data removed]",
      "text/plain": [
       "<Figure size 432x288 with 1 Axes>"
      ]
     },
     "metadata": {
      "needs_background": "light"
     },
     "output_type": "display_data"
    }
   ],
   "source": [
    "image_index = 7776 # You may select anything up to 60,000\n",
    "print(train_labels[image_index]) \n",
    "plt.imshow(train_images[image_index], cmap='Greys')"
   ]
  },
  {
   "cell_type": "markdown",
   "id": "a8d2388d",
   "metadata": {
    "papermill": {
     "duration": 0.030231,
     "end_time": "2022-09-02T00:42:58.567638",
     "exception": false,
     "start_time": "2022-09-02T00:42:58.537407",
     "status": "completed"
    },
    "tags": []
   },
   "source": [
    "## Filter data to get 3 and 8 out"
   ]
  },
  {
   "cell_type": "code",
   "execution_count": 10,
   "id": "776f7fc7",
   "metadata": {
    "execution": {
     "iopub.execute_input": "2022-09-02T00:42:58.635824Z",
     "iopub.status.busy": "2022-09-02T00:42:58.635104Z",
     "iopub.status.idle": "2022-09-02T00:42:58.658757Z",
     "shell.execute_reply": "2022-09-02T00:42:58.657819Z"
    },
    "papermill": {
     "duration": 0.060705,
     "end_time": "2022-09-02T00:42:58.658929",
     "exception": false,
     "start_time": "2022-09-02T00:42:58.598224",
     "status": "completed"
    },
    "tags": []
   },
   "outputs": [],
   "source": [
    "train_filter = np.where((train_labels == 3 ) | (train_labels == 8))\n",
    "test_filter = np.where((test_labels == 3) | (test_labels == 8))\n",
    "X_train, y_train = train_images[train_filter], train_labels[train_filter]\n",
    "X_test, y_test = test_images[test_filter], test_labels[test_filter]"
   ]
  },
  {
   "cell_type": "markdown",
   "id": "948f0b7e",
   "metadata": {
    "papermill": {
     "duration": 0.02999,
     "end_time": "2022-09-02T00:42:58.720761",
     "exception": false,
     "start_time": "2022-09-02T00:42:58.690771",
     "status": "completed"
    },
    "tags": []
   },
   "source": [
    "We normalize the pizel values in the 0 to 1 range"
   ]
  },
  {
   "cell_type": "code",
   "execution_count": 11,
   "id": "ee4c2166",
   "metadata": {
    "execution": {
     "iopub.execute_input": "2022-09-02T00:42:58.786409Z",
     "iopub.status.busy": "2022-09-02T00:42:58.785724Z",
     "iopub.status.idle": "2022-09-02T00:42:58.843105Z",
     "shell.execute_reply": "2022-09-02T00:42:58.842155Z"
    },
    "papermill": {
     "duration": 0.092394,
     "end_time": "2022-09-02T00:42:58.843331",
     "exception": false,
     "start_time": "2022-09-02T00:42:58.750937",
     "status": "completed"
    },
    "tags": []
   },
   "outputs": [],
   "source": [
    "X_train = X_train/255.\n",
    "X_test = X_test/255."
   ]
  },
  {
   "cell_type": "markdown",
   "id": "ddcf4fab",
   "metadata": {
    "papermill": {
     "duration": 0.030015,
     "end_time": "2022-09-02T00:42:58.905787",
     "exception": false,
     "start_time": "2022-09-02T00:42:58.875772",
     "status": "completed"
    },
    "tags": []
   },
   "source": [
    "And setup the labels as 1 (when the digit is 3) and 0 (when the digit is 8)"
   ]
  },
  {
   "cell_type": "code",
   "execution_count": 12,
   "id": "7dc908f2",
   "metadata": {
    "execution": {
     "iopub.execute_input": "2022-09-02T00:42:58.970992Z",
     "iopub.status.busy": "2022-09-02T00:42:58.970293Z",
     "iopub.status.idle": "2022-09-02T00:42:58.984314Z",
     "shell.execute_reply": "2022-09-02T00:42:58.984844Z"
    },
    "papermill": {
     "duration": 0.049449,
     "end_time": "2022-09-02T00:42:58.985001",
     "exception": false,
     "start_time": "2022-09-02T00:42:58.935552",
     "status": "completed"
    },
    "tags": []
   },
   "outputs": [],
   "source": [
    "y_train = 1*(y_train==3)\n",
    "y_test = 1*(y_test==3)"
   ]
  },
  {
   "cell_type": "code",
   "execution_count": 13,
   "id": "01e4e969",
   "metadata": {
    "execution": {
     "iopub.execute_input": "2022-09-02T00:42:59.049497Z",
     "iopub.status.busy": "2022-09-02T00:42:59.048762Z",
     "iopub.status.idle": "2022-09-02T00:42:59.065376Z",
     "shell.execute_reply": "2022-09-02T00:42:59.065931Z"
    },
    "papermill": {
     "duration": 0.05106,
     "end_time": "2022-09-02T00:42:59.066075",
     "exception": false,
     "start_time": "2022-09-02T00:42:59.015015",
     "status": "completed"
    },
    "tags": []
   },
   "outputs": [
    {
     "data": {
      "text/plain": [
       "((11982, 28, 28), (1984, 28, 28))"
      ]
     },
     "execution_count": 13,
     "metadata": {},
     "output_type": "execute_result"
    }
   ],
   "source": [
    "X_train.shape, X_test.shape"
   ]
  },
  {
   "cell_type": "markdown",
   "id": "5ccf3f85",
   "metadata": {
    "papermill": {
     "duration": 0.031015,
     "end_time": "2022-09-02T00:42:59.127983",
     "exception": false,
     "start_time": "2022-09-02T00:42:59.096968",
     "status": "completed"
    },
    "tags": []
   },
   "source": [
    "We reshape the data to flatten the image pixels into a set of features or co-variates:"
   ]
  },
  {
   "cell_type": "code",
   "execution_count": 14,
   "id": "5286a4a3",
   "metadata": {
    "execution": {
     "iopub.execute_input": "2022-09-02T00:42:59.198002Z",
     "iopub.status.busy": "2022-09-02T00:42:59.197129Z",
     "iopub.status.idle": "2022-09-02T00:42:59.209479Z",
     "shell.execute_reply": "2022-09-02T00:42:59.210010Z"
    },
    "papermill": {
     "duration": 0.052203,
     "end_time": "2022-09-02T00:42:59.210178",
     "exception": false,
     "start_time": "2022-09-02T00:42:59.157975",
     "status": "completed"
    },
    "tags": []
   },
   "outputs": [
    {
     "data": {
      "text/plain": [
       "((11982, 784), (1984, 784))"
      ]
     },
     "execution_count": 14,
     "metadata": {},
     "output_type": "execute_result"
    }
   ],
   "source": [
    "X_train = X_train.reshape(X_train.shape[0], -1)\n",
    "X_test = X_test.reshape(X_test.shape[0], -1)\n",
    "X_train.shape, X_test.shape"
   ]
  },
  {
   "cell_type": "code",
   "execution_count": 15,
   "id": "73c5f88a",
   "metadata": {
    "execution": {
     "iopub.execute_input": "2022-09-02T00:42:59.281989Z",
     "iopub.status.busy": "2022-09-02T00:42:59.277936Z",
     "iopub.status.idle": "2022-09-02T00:42:59.302485Z",
     "shell.execute_reply": "2022-09-02T00:42:59.301890Z"
    },
    "papermill": {
     "duration": 0.061443,
     "end_time": "2022-09-02T00:42:59.302624",
     "exception": false,
     "start_time": "2022-09-02T00:42:59.241181",
     "status": "completed"
    },
    "tags": []
   },
   "outputs": [],
   "source": [
    "#Impoting functions from 'Kudzu'\n",
    "from kudzu.model import Model\n",
    "from kudzu.train import Learner\n",
    "from kudzu.optim import GD\n",
    "from kudzu.data import Data, Sampler,Dataloader\n",
    "\n",
    "from kudzu.callbacks import AccCallback\n",
    "from kudzu.callbacks import ClfCallback\n",
    "\n",
    "from kudzu.loss import MSE\n",
    "\n",
    "from kudzu.layer import Sigmoid,Relu\n",
    "from kudzu.layer import Affine"
   ]
  },
  {
   "cell_type": "markdown",
   "id": "bc01172a",
   "metadata": {
    "papermill": {
     "duration": 0.030958,
     "end_time": "2022-09-02T00:42:59.364967",
     "exception": false,
     "start_time": "2022-09-02T00:42:59.334009",
     "status": "completed"
    },
    "tags": []
   },
   "source": [
    "### Let us create a `Config` class, to store important parameters. \n",
    "This class essentially plays the role of a dictionary."
   ]
  },
  {
   "cell_type": "code",
   "execution_count": 16,
   "id": "978281aa",
   "metadata": {
    "execution": {
     "iopub.execute_input": "2022-09-02T00:42:59.433027Z",
     "iopub.status.busy": "2022-09-02T00:42:59.432321Z",
     "iopub.status.idle": "2022-09-02T00:42:59.449552Z",
     "shell.execute_reply": "2022-09-02T00:42:59.450065Z"
    },
    "papermill": {
     "duration": 0.054418,
     "end_time": "2022-09-02T00:42:59.450230",
     "exception": false,
     "start_time": "2022-09-02T00:42:59.395812",
     "status": "completed"
    },
    "tags": []
   },
   "outputs": [],
   "source": [
    "class Config:\n",
    "    pass\n",
    "config = Config()\n",
    "config.lr = 0.001\n",
    "config.num_epochs = 250\n",
    "config.bs = 50"
   ]
  },
  {
   "cell_type": "markdown",
   "id": "1385fa59",
   "metadata": {
    "papermill": {
     "duration": 0.030848,
     "end_time": "2022-09-02T00:42:59.512048",
     "exception": false,
     "start_time": "2022-09-02T00:42:59.481200",
     "status": "completed"
    },
    "tags": []
   },
   "source": [
    "### Running Models with the Training data\n",
    "Details about the network layers:\n",
    "- A first affine layer has 784 inputs and does 100 affine transforms. These are followed by a Relu\n",
    "- A second affine layer has 100 inputs from the 100 activations of the past layer, and does 100 affine transforms. These are followed by a Relu\n",
    "- A third affine layer has 100 activations and does 2 affine transformations to create an embedding for visualization. There is no non-linearity here.\n",
    "- A final \"logistic regression\" which has an affine transform from 2 inputs to 1 output, which is squeezed through a sigmoid.\n"
   ]
  },
  {
   "cell_type": "code",
   "execution_count": 17,
   "id": "2b9c66db",
   "metadata": {
    "execution": {
     "iopub.execute_input": "2022-09-02T00:42:59.581643Z",
     "iopub.status.busy": "2022-09-02T00:42:59.580871Z",
     "iopub.status.idle": "2022-09-02T00:42:59.595753Z",
     "shell.execute_reply": "2022-09-02T00:42:59.595195Z"
    },
    "papermill": {
     "duration": 0.053066,
     "end_time": "2022-09-02T00:42:59.595883",
     "exception": false,
     "start_time": "2022-09-02T00:42:59.542817",
     "status": "completed"
    },
    "tags": []
   },
   "outputs": [],
   "source": [
    "data = Data(X_train, y_train.reshape(-1,1))\n",
    "sampler = Sampler(data, config.bs, shuffle=True)\n",
    "\n",
    "dl = Dataloader(data, sampler)\n",
    "\n",
    "opt = GD(config.lr)\n",
    "loss = MSE()"
   ]
  },
  {
   "cell_type": "code",
   "execution_count": 18,
   "id": "b275e4c2",
   "metadata": {
    "execution": {
     "iopub.execute_input": "2022-09-02T00:42:59.664004Z",
     "iopub.status.busy": "2022-09-02T00:42:59.663306Z",
     "iopub.status.idle": "2022-09-02T00:42:59.678389Z",
     "shell.execute_reply": "2022-09-02T00:42:59.677817Z"
    },
    "papermill": {
     "duration": 0.051577,
     "end_time": "2022-09-02T00:42:59.678521",
     "exception": false,
     "start_time": "2022-09-02T00:42:59.626944",
     "status": "completed"
    },
    "tags": []
   },
   "outputs": [],
   "source": [
    "training_data_x = X_train\n",
    "testing_data_x = X_test\n",
    "training_data_y = y_train.reshape(-1,1)\n",
    "testing_data_y = y_test.reshape(-1,1)"
   ]
  },
  {
   "cell_type": "code",
   "execution_count": 19,
   "id": "76951160",
   "metadata": {
    "execution": {
     "iopub.execute_input": "2022-09-02T00:42:59.746413Z",
     "iopub.status.busy": "2022-09-02T00:42:59.745673Z",
     "iopub.status.idle": "2022-09-02T00:42:59.765111Z",
     "shell.execute_reply": "2022-09-02T00:42:59.764529Z"
    },
    "papermill": {
     "duration": 0.056136,
     "end_time": "2022-09-02T00:42:59.765241",
     "exception": false,
     "start_time": "2022-09-02T00:42:59.709105",
     "status": "completed"
    },
    "tags": []
   },
   "outputs": [
    {
     "name": "stdout",
     "output_type": "stream",
     "text": [
      "xavier\n",
      "xavier\n",
      "xavier\n",
      "xavier\n",
      "xavier\n"
     ]
    }
   ],
   "source": [
    "layers = [Affine(\"first\", 784, 100), Relu(\"first\"), Affine(\"second\", 100, 100), Relu(\"second\"), Affine(\"third\", 100, 2), Affine(\"last\", 2, 1), Sigmoid(\"last\")]\n",
    "model_nn = Model(layers)\n",
    "model_lr = Model([Affine(\"logits\", 784, 1), Sigmoid(\"sigmoid\")])"
   ]
  },
  {
   "cell_type": "code",
   "execution_count": 20,
   "id": "6eede77a",
   "metadata": {
    "execution": {
     "iopub.execute_input": "2022-09-02T00:42:59.835001Z",
     "iopub.status.busy": "2022-09-02T00:42:59.833349Z",
     "iopub.status.idle": "2022-09-02T00:42:59.849726Z",
     "shell.execute_reply": "2022-09-02T00:42:59.849128Z"
    },
    "papermill": {
     "duration": 0.053339,
     "end_time": "2022-09-02T00:42:59.849860",
     "exception": false,
     "start_time": "2022-09-02T00:42:59.796521",
     "status": "completed"
    },
    "tags": []
   },
   "outputs": [],
   "source": [
    "nn_learner = Learner(loss, model_nn, opt, config.num_epochs)\n",
    "acc_nn = ClfCallback(nn_learner, config.bs, training_data_x , testing_data_x, training_data_y, testing_data_y)\n",
    "nn_learner.set_callbacks([acc_nn])"
   ]
  },
  {
   "cell_type": "code",
   "execution_count": 21,
   "id": "877b6cc7",
   "metadata": {
    "execution": {
     "iopub.execute_input": "2022-09-02T00:42:59.917580Z",
     "iopub.status.busy": "2022-09-02T00:42:59.916820Z",
     "iopub.status.idle": "2022-09-02T00:42:59.931562Z",
     "shell.execute_reply": "2022-09-02T00:42:59.930993Z"
    },
    "papermill": {
     "duration": 0.050587,
     "end_time": "2022-09-02T00:42:59.931706",
     "exception": false,
     "start_time": "2022-09-02T00:42:59.881119",
     "status": "completed"
    },
    "tags": []
   },
   "outputs": [],
   "source": [
    "lr_learner = Learner(loss, model_lr, opt, config.num_epochs)\n",
    "acc_lr = ClfCallback(lr_learner, config.bs, training_data_x , testing_data_x, training_data_y, testing_data_y)\n",
    "lr_learner.set_callbacks([acc_lr])"
   ]
  },
  {
   "cell_type": "code",
   "execution_count": 22,
   "id": "d9b133c3",
   "metadata": {
    "execution": {
     "iopub.execute_input": "2022-09-02T00:42:59.999100Z",
     "iopub.status.busy": "2022-09-02T00:42:59.998413Z",
     "iopub.status.idle": "2022-09-02T00:44:29.131431Z",
     "shell.execute_reply": "2022-09-02T00:44:29.132396Z"
    },
    "papermill": {
     "duration": 89.16937,
     "end_time": "2022-09-02T00:44:29.132569",
     "exception": false,
     "start_time": "2022-09-02T00:42:59.963199",
     "status": "completed"
    },
    "tags": []
   },
   "outputs": [
    {
     "name": "stdout",
     "output_type": "stream",
     "text": [
      "Epoch 0, Loss 0.2547\n",
      "Training Accuracy: 0.5485, Testing Accuracy: 0.5066\n",
      "\n"
     ]
    },
    {
     "name": "stdout",
     "output_type": "stream",
     "text": [
      "Epoch 10, Loss 0.1075\n",
      "Training Accuracy: 0.9133, Testing Accuracy: 0.9209\n",
      "\n"
     ]
    },
    {
     "name": "stdout",
     "output_type": "stream",
     "text": [
      "Epoch 20, Loss 0.0614\n",
      "Training Accuracy: 0.9357, Testing Accuracy: 0.9481\n",
      "\n"
     ]
    },
    {
     "name": "stdout",
     "output_type": "stream",
     "text": [
      "Epoch 30, Loss 0.0474\n",
      "Training Accuracy: 0.9462, Testing Accuracy: 0.9572\n",
      "\n"
     ]
    },
    {
     "name": "stdout",
     "output_type": "stream",
     "text": [
      "Epoch 40, Loss 0.0407\n",
      "Training Accuracy: 0.9533, Testing Accuracy: 0.9627\n",
      "\n"
     ]
    },
    {
     "name": "stdout",
     "output_type": "stream",
     "text": [
      "Epoch 50, Loss 0.0366\n",
      "Training Accuracy: 0.9579, Testing Accuracy: 0.9632\n",
      "\n"
     ]
    },
    {
     "name": "stdout",
     "output_type": "stream",
     "text": [
      "Epoch 60, Loss 0.0338\n",
      "Training Accuracy: 0.9614, Testing Accuracy: 0.9652\n",
      "\n"
     ]
    },
    {
     "name": "stdout",
     "output_type": "stream",
     "text": [
      "Epoch 70, Loss 0.0318\n",
      "Training Accuracy: 0.9630, Testing Accuracy: 0.9688\n",
      "\n"
     ]
    },
    {
     "name": "stdout",
     "output_type": "stream",
     "text": [
      "Epoch 80, Loss 0.0302\n",
      "Training Accuracy: 0.9643, Testing Accuracy: 0.9693\n",
      "\n"
     ]
    },
    {
     "name": "stdout",
     "output_type": "stream",
     "text": [
      "Epoch 90, Loss 0.0288\n",
      "Training Accuracy: 0.9659, Testing Accuracy: 0.9703\n",
      "\n"
     ]
    },
    {
     "name": "stdout",
     "output_type": "stream",
     "text": [
      "Epoch 100, Loss 0.0277\n",
      "Training Accuracy: 0.9664, Testing Accuracy: 0.9703\n",
      "\n"
     ]
    },
    {
     "name": "stdout",
     "output_type": "stream",
     "text": [
      "Epoch 110, Loss 0.0268\n",
      "Training Accuracy: 0.9680, Testing Accuracy: 0.9703\n",
      "\n"
     ]
    },
    {
     "name": "stdout",
     "output_type": "stream",
     "text": [
      "Epoch 120, Loss 0.0259\n",
      "Training Accuracy: 0.9687, Testing Accuracy: 0.9713\n",
      "\n"
     ]
    },
    {
     "name": "stdout",
     "output_type": "stream",
     "text": [
      "Epoch 130, Loss 0.0251\n",
      "Training Accuracy: 0.9695, Testing Accuracy: 0.9713\n",
      "\n"
     ]
    },
    {
     "name": "stdout",
     "output_type": "stream",
     "text": [
      "Epoch 140, Loss 0.0244\n",
      "Training Accuracy: 0.9705, Testing Accuracy: 0.9708\n",
      "\n"
     ]
    },
    {
     "name": "stdout",
     "output_type": "stream",
     "text": [
      "Epoch 150, Loss 0.0238\n",
      "Training Accuracy: 0.9715, Testing Accuracy: 0.9708\n",
      "\n"
     ]
    },
    {
     "name": "stdout",
     "output_type": "stream",
     "text": [
      "Epoch 160, Loss 0.0232\n",
      "Training Accuracy: 0.9719, Testing Accuracy: 0.9708\n",
      "\n"
     ]
    },
    {
     "name": "stdout",
     "output_type": "stream",
     "text": [
      "Epoch 170, Loss 0.0226\n",
      "Training Accuracy: 0.9730, Testing Accuracy: 0.9718\n",
      "\n"
     ]
    },
    {
     "name": "stdout",
     "output_type": "stream",
     "text": [
      "Epoch 180, Loss 0.0221\n",
      "Training Accuracy: 0.9736, Testing Accuracy: 0.9723\n",
      "\n"
     ]
    },
    {
     "name": "stdout",
     "output_type": "stream",
     "text": [
      "Epoch 190, Loss 0.0216\n",
      "Training Accuracy: 0.9745, Testing Accuracy: 0.9723\n",
      "\n"
     ]
    },
    {
     "name": "stdout",
     "output_type": "stream",
     "text": [
      "Epoch 200, Loss 0.0211\n",
      "Training Accuracy: 0.9752, Testing Accuracy: 0.9718\n",
      "\n"
     ]
    },
    {
     "name": "stdout",
     "output_type": "stream",
     "text": [
      "Epoch 210, Loss 0.0206\n",
      "Training Accuracy: 0.9759, Testing Accuracy: 0.9728\n",
      "\n"
     ]
    },
    {
     "name": "stdout",
     "output_type": "stream",
     "text": [
      "Epoch 220, Loss 0.0202\n",
      "Training Accuracy: 0.9766, Testing Accuracy: 0.9728\n",
      "\n"
     ]
    },
    {
     "name": "stdout",
     "output_type": "stream",
     "text": [
      "Epoch 230, Loss 0.0198\n",
      "Training Accuracy: 0.9774, Testing Accuracy: 0.9733\n",
      "\n"
     ]
    },
    {
     "name": "stdout",
     "output_type": "stream",
     "text": [
      "Epoch 240, Loss 0.0194\n",
      "Training Accuracy: 0.9781, Testing Accuracy: 0.9733\n",
      "\n"
     ]
    },
    {
     "data": {
      "text/plain": [
       "0.022779873639146624"
      ]
     },
     "execution_count": 22,
     "metadata": {},
     "output_type": "execute_result"
    }
   ],
   "source": [
    "nn_learner.train_loop(dl)"
   ]
  },
  {
   "cell_type": "code",
   "execution_count": 23,
   "id": "e0163366",
   "metadata": {
    "execution": {
     "iopub.execute_input": "2022-09-02T00:44:29.222844Z",
     "iopub.status.busy": "2022-09-02T00:44:29.222147Z",
     "iopub.status.idle": "2022-09-02T00:44:45.239624Z",
     "shell.execute_reply": "2022-09-02T00:44:45.240656Z"
    },
    "papermill": {
     "duration": 16.067793,
     "end_time": "2022-09-02T00:44:45.240834",
     "exception": false,
     "start_time": "2022-09-02T00:44:29.173041",
     "status": "completed"
    },
    "tags": []
   },
   "outputs": [
    {
     "name": "stdout",
     "output_type": "stream",
     "text": [
      "Epoch 0, Loss 0.2263\n",
      "Training Accuracy: 0.7690, Testing Accuracy: 0.7858\n",
      "\n"
     ]
    },
    {
     "name": "stdout",
     "output_type": "stream",
     "text": [
      "Epoch 10, Loss 0.0989\n",
      "Training Accuracy: 0.9221, Testing Accuracy: 0.9380\n",
      "\n"
     ]
    },
    {
     "name": "stdout",
     "output_type": "stream",
     "text": [
      "Epoch 20, Loss 0.0766\n",
      "Training Accuracy: 0.9337, Testing Accuracy: 0.9461\n",
      "\n"
     ]
    },
    {
     "name": "stdout",
     "output_type": "stream",
     "text": [
      "Epoch 30, Loss 0.0664\n",
      "Training Accuracy: 0.9405, Testing Accuracy: 0.9541\n",
      "\n"
     ]
    },
    {
     "name": "stdout",
     "output_type": "stream",
     "text": [
      "Epoch 40, Loss 0.0602\n",
      "Training Accuracy: 0.9451, Testing Accuracy: 0.9582\n",
      "\n"
     ]
    },
    {
     "name": "stdout",
     "output_type": "stream",
     "text": [
      "Epoch 50, Loss 0.056\n",
      "Training Accuracy: 0.9479, Testing Accuracy: 0.9592\n",
      "\n"
     ]
    },
    {
     "name": "stdout",
     "output_type": "stream",
     "text": [
      "Epoch 60, Loss 0.0529\n",
      "Training Accuracy: 0.9494, Testing Accuracy: 0.9587\n",
      "\n"
     ]
    },
    {
     "name": "stdout",
     "output_type": "stream",
     "text": [
      "Epoch 70, Loss 0.0505\n",
      "Training Accuracy: 0.9512, Testing Accuracy: 0.9592\n",
      "\n"
     ]
    },
    {
     "name": "stdout",
     "output_type": "stream",
     "text": [
      "Epoch 80, Loss 0.0486\n",
      "Training Accuracy: 0.9522, Testing Accuracy: 0.9602\n",
      "\n"
     ]
    },
    {
     "name": "stdout",
     "output_type": "stream",
     "text": [
      "Epoch 90, Loss 0.047\n",
      "Training Accuracy: 0.9532, Testing Accuracy: 0.9622\n",
      "\n"
     ]
    },
    {
     "name": "stdout",
     "output_type": "stream",
     "text": [
      "Epoch 100, Loss 0.0457\n",
      "Training Accuracy: 0.9543, Testing Accuracy: 0.9632\n",
      "\n"
     ]
    },
    {
     "name": "stdout",
     "output_type": "stream",
     "text": [
      "Epoch 110, Loss 0.0445\n",
      "Training Accuracy: 0.9551, Testing Accuracy: 0.9642\n",
      "\n"
     ]
    },
    {
     "name": "stdout",
     "output_type": "stream",
     "text": [
      "Epoch 120, Loss 0.0435\n",
      "Training Accuracy: 0.9557, Testing Accuracy: 0.9652\n",
      "\n"
     ]
    },
    {
     "name": "stdout",
     "output_type": "stream",
     "text": [
      "Epoch 130, Loss 0.0426\n",
      "Training Accuracy: 0.9560, Testing Accuracy: 0.9672\n",
      "\n"
     ]
    },
    {
     "name": "stdout",
     "output_type": "stream",
     "text": [
      "Epoch 140, Loss 0.0418\n",
      "Training Accuracy: 0.9569, Testing Accuracy: 0.9672\n",
      "\n"
     ]
    },
    {
     "name": "stdout",
     "output_type": "stream",
     "text": [
      "Epoch 150, Loss 0.0411\n",
      "Training Accuracy: 0.9577, Testing Accuracy: 0.9682\n",
      "\n"
     ]
    },
    {
     "name": "stdout",
     "output_type": "stream",
     "text": [
      "Epoch 160, Loss 0.0404\n",
      "Training Accuracy: 0.9581, Testing Accuracy: 0.9682\n",
      "\n"
     ]
    },
    {
     "name": "stdout",
     "output_type": "stream",
     "text": [
      "Epoch 170, Loss 0.0399\n",
      "Training Accuracy: 0.9581, Testing Accuracy: 0.9677\n",
      "\n"
     ]
    },
    {
     "name": "stdout",
     "output_type": "stream",
     "text": [
      "Epoch 180, Loss 0.0393\n",
      "Training Accuracy: 0.9582, Testing Accuracy: 0.9677\n",
      "\n"
     ]
    },
    {
     "name": "stdout",
     "output_type": "stream",
     "text": [
      "Epoch 190, Loss 0.0388\n",
      "Training Accuracy: 0.9584, Testing Accuracy: 0.9682\n",
      "\n"
     ]
    },
    {
     "name": "stdout",
     "output_type": "stream",
     "text": [
      "Epoch 200, Loss 0.0384\n",
      "Training Accuracy: 0.9588, Testing Accuracy: 0.9688\n",
      "\n"
     ]
    },
    {
     "name": "stdout",
     "output_type": "stream",
     "text": [
      "Epoch 210, Loss 0.0379\n",
      "Training Accuracy: 0.9589, Testing Accuracy: 0.9688\n",
      "\n"
     ]
    },
    {
     "name": "stdout",
     "output_type": "stream",
     "text": [
      "Epoch 220, Loss 0.0375\n",
      "Training Accuracy: 0.9596, Testing Accuracy: 0.9688\n",
      "\n"
     ]
    },
    {
     "name": "stdout",
     "output_type": "stream",
     "text": [
      "Epoch 230, Loss 0.0372\n",
      "Training Accuracy: 0.9597, Testing Accuracy: 0.9688\n",
      "\n"
     ]
    },
    {
     "name": "stdout",
     "output_type": "stream",
     "text": [
      "Epoch 240, Loss 0.0368\n",
      "Training Accuracy: 0.9599, Testing Accuracy: 0.9688\n",
      "\n"
     ]
    },
    {
     "data": {
      "text/plain": [
       "0.01725291191210132"
      ]
     },
     "execution_count": 23,
     "metadata": {},
     "output_type": "execute_result"
    }
   ],
   "source": [
    "lr_learner.train_loop(dl)"
   ]
  },
  {
   "cell_type": "code",
   "execution_count": 24,
   "id": "ca410940",
   "metadata": {
    "execution": {
     "iopub.execute_input": "2022-09-02T00:44:45.346938Z",
     "iopub.status.busy": "2022-09-02T00:44:45.346215Z",
     "iopub.status.idle": "2022-09-02T00:44:45.610093Z",
     "shell.execute_reply": "2022-09-02T00:44:45.609500Z"
    },
    "papermill": {
     "duration": 0.321488,
     "end_time": "2022-09-02T00:44:45.610228",
     "exception": false,
     "start_time": "2022-09-02T00:44:45.288740",
     "status": "completed"
    },
    "tags": []
   },
   "outputs": [
    {
     "data": {
      "text/plain": [
       "<matplotlib.legend.Legend at 0x7f5a56788dd8>"
      ]
     },
     "execution_count": 24,
     "metadata": {},
     "output_type": "execute_result"
    },
    {
     "data": {
      "image/png": "[encoded data removed]",
      "text/plain": [
       "<Figure size 1080x720 with 1 Axes>"
      ]
     },
     "metadata": {
      "needs_background": "light"
     },
     "output_type": "display_data"
    }
   ],
   "source": [
    "#comparing the results of NN and LR\n",
    "plt.figure(figsize=(15,10))\n",
    "\n",
    "# Neural Network plots\n",
    "plt.plot(acc_nn.accuracies, 'r-', label = \"Training Accuracies - NN\")\n",
    "plt.plot(acc_nn.test_accuracies, 'g-', label = \"Testing Accuracies - NN\")\n",
    "\n",
    "# Logistic Regression plots\n",
    "plt.plot(acc_lr.accuracies, 'k-', label = \"Training Accuracies - LR\")\n",
    "plt.plot(acc_lr.test_accuracies, 'b-', label = \"Testing Accuracies - LR\")\n",
    "plt.legend()"
   ]
  },
  {
   "cell_type": "markdown",
   "id": "80dfb35c",
   "metadata": {
    "papermill": {
     "duration": 0.04805,
     "end_time": "2022-09-02T00:44:45.706620",
     "exception": false,
     "start_time": "2022-09-02T00:44:45.658570",
     "status": "completed"
    },
    "tags": []
   },
   "source": [
    "#### Plotting the outputs of this layer of the NN.\n"
   ]
  },
  {
   "cell_type": "code",
   "execution_count": 25,
   "id": "45eb2ff5",
   "metadata": {
    "execution": {
     "iopub.execute_input": "2022-09-02T00:44:45.808925Z",
     "iopub.status.busy": "2022-09-02T00:44:45.806819Z",
     "iopub.status.idle": "2022-09-02T00:44:45.832175Z",
     "shell.execute_reply": "2022-09-02T00:44:45.833210Z"
    },
    "papermill": {
     "duration": 0.078848,
     "end_time": "2022-09-02T00:44:45.833399",
     "exception": false,
     "start_time": "2022-09-02T00:44:45.754551",
     "status": "completed"
    },
    "tags": []
   },
   "outputs": [],
   "source": [
    "new_model = Model(layers[:-2])\n",
    "testing_plot = new_model(testing_data_x)"
   ]
  },
  {
   "cell_type": "code",
   "execution_count": 26,
   "id": "4c0a5485",
   "metadata": {
    "execution": {
     "iopub.execute_input": "2022-09-02T00:44:45.946846Z",
     "iopub.status.busy": "2022-09-02T00:44:45.946079Z",
     "iopub.status.idle": "2022-09-02T00:44:46.197154Z",
     "shell.execute_reply": "2022-09-02T00:44:46.196117Z"
    },
    "papermill": {
     "duration": 0.313364,
     "end_time": "2022-09-02T00:44:46.197304",
     "exception": false,
     "start_time": "2022-09-02T00:44:45.883940",
     "status": "completed"
    },
    "tags": []
   },
   "outputs": [
    {
     "data": {
      "text/plain": [
       "Text(0.5, 1.0, 'Outputs')"
      ]
     },
     "execution_count": 26,
     "metadata": {},
     "output_type": "execute_result"
    },
    {
     "data": {
      "image/png": "[encoded data removed]",
      "text/plain": [
       "<Figure size 576x504 with 1 Axes>"
      ]
     },
     "metadata": {
      "needs_background": "light"
     },
     "output_type": "display_data"
    }
   ],
   "source": [
    "# Plotting the scatter plot of points and color coding by class\n",
    "plt.figure(figsize=(8,7))\n",
    "plt.scatter(testing_plot[:,0], testing_plot[:,1], alpha = 0.1, c = y_test.ravel());\n",
    "plt.title('Outputs')"
   ]
  },
  {
   "cell_type": "markdown",
   "id": "a74fcf8f",
   "metadata": {
    "papermill": {
     "duration": 0.050485,
     "end_time": "2022-09-02T00:44:46.298140",
     "exception": false,
     "start_time": "2022-09-02T00:44:46.247655",
     "status": "completed"
    },
    "tags": []
   },
   "source": [
    "Probability contours"
   ]
  },
  {
   "cell_type": "code",
   "execution_count": 27,
   "id": "d0afc8e3",
   "metadata": {
    "execution": {
     "iopub.execute_input": "2022-09-02T00:44:46.438630Z",
     "iopub.status.busy": "2022-09-02T00:44:46.436270Z",
     "iopub.status.idle": "2022-09-02T00:44:46.450072Z",
     "shell.execute_reply": "2022-09-02T00:44:46.449509Z"
    },
    "papermill": {
     "duration": 0.070375,
     "end_time": "2022-09-02T00:44:46.450210",
     "exception": false,
     "start_time": "2022-09-02T00:44:46.379835",
     "status": "completed"
    },
    "tags": []
   },
   "outputs": [],
   "source": [
    "model_prob = Model(layers[-2:]) "
   ]
  },
  {
   "cell_type": "code",
   "execution_count": 28,
   "id": "9b96e238",
   "metadata": {
    "execution": {
     "iopub.execute_input": "2022-09-02T00:44:46.560509Z",
     "iopub.status.busy": "2022-09-02T00:44:46.559068Z",
     "iopub.status.idle": "2022-09-02T00:44:46.576848Z",
     "shell.execute_reply": "2022-09-02T00:44:46.577407Z"
    },
    "papermill": {
     "duration": 0.074147,
     "end_time": "2022-09-02T00:44:46.577579",
     "exception": false,
     "start_time": "2022-09-02T00:44:46.503432",
     "status": "completed"
    },
    "tags": []
   },
   "outputs": [],
   "source": [
    "#creating the x and y ranges according to the above generated plot.\n",
    "x_range = np.linspace(-4, 1, 100) \n",
    "y_range = np.linspace(-6, 6, 100) \n",
    "x_grid, y_grid = np.meshgrid(x_range, y_range) # x_grid and y_grig are of size 100 X 100\n",
    "\n",
    "# converting x_grid and y_grid to continuous arrays\n",
    "x_gridflat = np.ravel(x_grid)\n",
    "y_gridflat = np.ravel(y_grid)\n",
    "\n",
    "# The last layer of the current model takes two columns as input. Hence transpose of np.vstack() is required.\n",
    "X = np.vstack((x_gridflat, y_gridflat)).T\n",
    "\n",
    "prob_contour = model_prob(X).reshape(100,100) "
   ]
  },
  {
   "cell_type": "code",
   "execution_count": 29,
   "id": "da72499a",
   "metadata": {
    "execution": {
     "iopub.execute_input": "2022-09-02T00:44:46.685555Z",
     "iopub.status.busy": "2022-09-02T00:44:46.684814Z",
     "iopub.status.idle": "2022-09-02T00:44:47.001247Z",
     "shell.execute_reply": "2022-09-02T00:44:47.000266Z"
    },
    "papermill": {
     "duration": 0.37252,
     "end_time": "2022-09-02T00:44:47.001393",
     "exception": false,
     "start_time": "2022-09-02T00:44:46.628873",
     "status": "completed"
    },
    "tags": []
   },
   "outputs": [
    {
     "data": {
      "image/png": "[encoded data removed]",
      "text/plain": [
       "<Figure size 720x648 with 1 Axes>"
      ]
     },
     "metadata": {
      "needs_background": "light"
     },
     "output_type": "display_data"
    }
   ],
   "source": [
    "plt.figure(figsize=(10,9))\n",
    "plt.scatter(testing_plot[:,0], testing_plot[:,1], alpha = 0.1, c = y_test.ravel())\n",
    "contours = plt.contour(x_grid,y_grid,prob_contour)\n",
    "plt.title('Probability Contours')\n",
    "plt.clabel(contours, inline = True );"
   ]
  },
  {
   "cell_type": "code",
   "execution_count": null,
   "id": "e81b4ac7",
   "metadata": {
    "papermill": {
     "duration": 0.062897,
     "end_time": "2022-09-02T00:44:47.119499",
     "exception": false,
     "start_time": "2022-09-02T00:44:47.056602",
     "status": "completed"
    },
    "tags": []
   },
   "outputs": [],
   "source": []
  }
 ],
 "metadata": {
  "kernelspec": {
   "display_name": "Python 3",
   "language": "python",
   "name": "python3"
  },
  "language_info": {
   "codemirror_mode": {
    "name": "ipython",
    "version": 3
   },
   "file_extension": ".py",
   "mimetype": "text/x-python",
   "name": "python",
   "nbconvert_exporter": "python",
   "pygments_lexer": "ipython3",
   "version": "3.6.15"
  },
  "papermill": {
   "default_parameters": {},
   "duration": 114.815613,
   "end_time": "2022-09-02T00:44:47.602208",
   "environment_variables": {},
   "exception": null,
   "input_path": "2020-08-11-part2.ipynb",
   "output_path": "2020-08-11-part2.ipynb",
   "parameters": {},
   "start_time": "2022-09-02T00:42:52.786595",
   "version": "2.3.3"
  }
 },
 "nbformat": 4,
 "nbformat_minor": 5
}