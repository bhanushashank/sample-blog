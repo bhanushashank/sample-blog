{
 "cells": [
  {
   "cell_type": "markdown",
   "id": "98380cd3",
   "metadata": {
    "papermill": {
     "duration": 0.028561,
     "end_time": "2021-10-08T00:21:50.553961",
     "exception": false,
     "start_time": "2021-10-08T00:21:50.525400",
     "status": "completed"
    },
    "tags": []
   },
   "source": [
    "# Distinguish Your Own Digits (DYOD)"
   ]
  },
  {
   "cell_type": "markdown",
   "id": "ef31240d",
   "metadata": {
    "papermill": {
     "duration": 0.024016,
     "end_time": "2021-10-08T00:21:50.602792",
     "exception": false,
     "start_time": "2021-10-08T00:21:50.578776",
     "status": "completed"
    },
    "tags": []
   },
   "source": [
    "You are going to write a classifier that distinguishes between the number 3 and number 8."
   ]
  },
  {
   "cell_type": "code",
   "execution_count": 1,
   "id": "b15c8646",
   "metadata": {
    "execution": {
     "iopub.execute_input": "2021-10-08T00:21:50.661793Z",
     "iopub.status.busy": "2021-10-08T00:21:50.661263Z",
     "iopub.status.idle": "2021-10-08T00:21:50.671971Z",
     "shell.execute_reply": "2021-10-08T00:21:50.672398Z"
    },
    "papermill": {
     "duration": 0.045855,
     "end_time": "2021-10-08T00:21:50.672556",
     "exception": false,
     "start_time": "2021-10-08T00:21:50.626701",
     "status": "completed"
    },
    "tags": []
   },
   "outputs": [],
   "source": [
    "%load_ext autoreload\n",
    "%autoreload 2"
   ]
  },
  {
   "cell_type": "code",
   "execution_count": 2,
   "id": "22ef38dc",
   "metadata": {
    "execution": {
     "iopub.execute_input": "2021-10-08T00:21:50.732288Z",
     "iopub.status.busy": "2021-10-08T00:21:50.731766Z",
     "iopub.status.idle": "2021-10-08T00:21:51.262475Z",
     "shell.execute_reply": "2021-10-08T00:21:51.261943Z"
    },
    "papermill": {
     "duration": 0.565765,
     "end_time": "2021-10-08T00:21:51.262617",
     "exception": false,
     "start_time": "2021-10-08T00:21:50.696852",
     "status": "completed"
    },
    "tags": []
   },
   "outputs": [],
   "source": [
    "%matplotlib inline\n",
    "import numpy as np\n",
    "import matplotlib.pyplot as plt\n",
    "import pandas as pd"
   ]
  },
  {
   "cell_type": "markdown",
   "id": "ba036198",
   "metadata": {
    "papermill": {
     "duration": 0.025174,
     "end_time": "2021-10-08T00:21:51.313078",
     "exception": false,
     "start_time": "2021-10-08T00:21:51.287904",
     "status": "completed"
    },
    "tags": []
   },
   "source": [
    "From the command line run `pip install mnist`. This is a library that will help you bring down the mnist dataset. If you run this from a notebook, you need to put  `!pip install mnist` in a cell by itself."
   ]
  },
  {
   "cell_type": "code",
   "execution_count": 3,
   "id": "bb6ad8a1",
   "metadata": {
    "execution": {
     "iopub.execute_input": "2021-10-08T00:21:51.380600Z",
     "iopub.status.busy": "2021-10-08T00:21:51.379635Z",
     "iopub.status.idle": "2021-10-08T00:21:53.880855Z",
     "shell.execute_reply": "2021-10-08T00:21:53.880327Z"
    },
    "papermill": {
     "duration": 2.543836,
     "end_time": "2021-10-08T00:21:53.881003",
     "exception": false,
     "start_time": "2021-10-08T00:21:51.337167",
     "status": "completed"
    },
    "tags": []
   },
   "outputs": [
    {
     "name": "stdout",
     "output_type": "stream",
     "text": [
      "Collecting mnist\r\n"
     ]
    },
    {
     "name": "stdout",
     "output_type": "stream",
     "text": [
      "  Downloading mnist-0.2.2-py2.py3-none-any.whl (3.5 kB)\r\n",
      "Requirement already satisfied: numpy in /opt/hostedtoolcache/Python/3.6.15/x64/lib/python3.6/site-packages (from mnist) (1.19.5)\r\n"
     ]
    },
    {
     "name": "stdout",
     "output_type": "stream",
     "text": [
      "Installing collected packages: mnist\r\n",
      "Successfully installed mnist-0.2.2\r\n"
     ]
    }
   ],
   "source": [
    "!pip install mnist"
   ]
  },
  {
   "cell_type": "markdown",
   "id": "69df9c9a",
   "metadata": {
    "papermill": {
     "duration": 0.025169,
     "end_time": "2021-10-08T00:21:53.931662",
     "exception": false,
     "start_time": "2021-10-08T00:21:53.906493",
     "status": "completed"
    },
    "tags": []
   },
   "source": [
    "## Preparing the Data"
   ]
  },
  {
   "cell_type": "code",
   "execution_count": 4,
   "id": "7f69d806",
   "metadata": {
    "execution": {
     "iopub.execute_input": "2021-10-08T00:21:54.000489Z",
     "iopub.status.busy": "2021-10-08T00:21:53.999924Z",
     "iopub.status.idle": "2021-10-08T00:21:54.006187Z",
     "shell.execute_reply": "2021-10-08T00:21:54.006597Z"
    },
    "papermill": {
     "duration": 0.050234,
     "end_time": "2021-10-08T00:21:54.006766",
     "exception": false,
     "start_time": "2021-10-08T00:21:53.956532",
     "status": "completed"
    },
    "tags": []
   },
   "outputs": [],
   "source": [
    "import mnist"
   ]
  },
  {
   "cell_type": "code",
   "execution_count": 5,
   "id": "a411e44f",
   "metadata": {
    "execution": {
     "iopub.execute_input": "2021-10-08T00:21:54.066034Z",
     "iopub.status.busy": "2021-10-08T00:21:54.065490Z",
     "iopub.status.idle": "2021-10-08T00:21:54.713473Z",
     "shell.execute_reply": "2021-10-08T00:21:54.712939Z"
    },
    "papermill": {
     "duration": 0.681428,
     "end_time": "2021-10-08T00:21:54.713617",
     "exception": false,
     "start_time": "2021-10-08T00:21:54.032189",
     "status": "completed"
    },
    "tags": []
   },
   "outputs": [],
   "source": [
    "train_images = mnist.train_images()\n",
    "train_labels = mnist.train_labels()"
   ]
  },
  {
   "cell_type": "code",
   "execution_count": 6,
   "id": "dceab3a5",
   "metadata": {
    "execution": {
     "iopub.execute_input": "2021-10-08T00:21:54.779398Z",
     "iopub.status.busy": "2021-10-08T00:21:54.775843Z",
     "iopub.status.idle": "2021-10-08T00:21:54.785936Z",
     "shell.execute_reply": "2021-10-08T00:21:54.785275Z"
    },
    "papermill": {
     "duration": 0.047081,
     "end_time": "2021-10-08T00:21:54.786051",
     "exception": false,
     "start_time": "2021-10-08T00:21:54.738970",
     "status": "completed"
    },
    "tags": []
   },
   "outputs": [
    {
     "data": {
      "text/plain": [
       "((60000, 28, 28), (60000,))"
      ]
     },
     "execution_count": 6,
     "metadata": {},
     "output_type": "execute_result"
    }
   ],
   "source": [
    "train_images.shape, train_labels.shape"
   ]
  },
  {
   "cell_type": "code",
   "execution_count": 7,
   "id": "f50dc2bb",
   "metadata": {
    "execution": {
     "iopub.execute_input": "2021-10-08T00:21:54.840411Z",
     "iopub.status.busy": "2021-10-08T00:21:54.839907Z",
     "iopub.status.idle": "2021-10-08T00:21:55.028940Z",
     "shell.execute_reply": "2021-10-08T00:21:55.029356Z"
    },
    "papermill": {
     "duration": 0.218262,
     "end_time": "2021-10-08T00:21:55.029513",
     "exception": false,
     "start_time": "2021-10-08T00:21:54.811251",
     "status": "completed"
    },
    "tags": []
   },
   "outputs": [],
   "source": [
    "test_images = mnist.test_images()\n",
    "test_labels = mnist.test_labels()"
   ]
  },
  {
   "cell_type": "code",
   "execution_count": 8,
   "id": "fc38cf1b",
   "metadata": {
    "execution": {
     "iopub.execute_input": "2021-10-08T00:21:55.092651Z",
     "iopub.status.busy": "2021-10-08T00:21:55.092125Z",
     "iopub.status.idle": "2021-10-08T00:21:55.100204Z",
     "shell.execute_reply": "2021-10-08T00:21:55.099791Z"
    },
    "papermill": {
     "duration": 0.045028,
     "end_time": "2021-10-08T00:21:55.100320",
     "exception": false,
     "start_time": "2021-10-08T00:21:55.055292",
     "status": "completed"
    },
    "tags": []
   },
   "outputs": [
    {
     "data": {
      "text/plain": [
       "((10000, 28, 28), (10000,))"
      ]
     },
     "execution_count": 8,
     "metadata": {},
     "output_type": "execute_result"
    }
   ],
   "source": [
    "test_images.shape, test_labels.shape"
   ]
  },
  {
   "cell_type": "code",
   "execution_count": 9,
   "id": "f9ed8fe0",
   "metadata": {
    "execution": {
     "iopub.execute_input": "2021-10-08T00:21:55.171427Z",
     "iopub.status.busy": "2021-10-08T00:21:55.166011Z",
     "iopub.status.idle": "2021-10-08T00:21:55.297162Z",
     "shell.execute_reply": "2021-10-08T00:21:55.297582Z"
    },
    "papermill": {
     "duration": 0.171839,
     "end_time": "2021-10-08T00:21:55.297728",
     "exception": false,
     "start_time": "2021-10-08T00:21:55.125889",
     "status": "completed"
    },
    "tags": []
   },
   "outputs": [
    {
     "name": "stdout",
     "output_type": "stream",
     "text": [
      "2\n"
     ]
    },
    {
     "data": {
      "text/plain": [
       "<matplotlib.image.AxesImage at 0x7ff7513e7940>"
      ]
     },
     "execution_count": 9,
     "metadata": {},
     "output_type": "execute_result"
    },
    {
     "data": {
      "image/png": "[encoded data removed]",
      "text/plain": [
       "<Figure size 432x288 with 1 Axes>"
      ]
     },
     "metadata": {
      "needs_background": "light"
     },
     "output_type": "display_data"
    }
   ],
   "source": [
    "image_index = 7776 # You may select anything up to 60,000\n",
    "print(train_labels[image_index]) \n",
    "plt.imshow(train_images[image_index], cmap='Greys')"
   ]
  },
  {
   "cell_type": "markdown",
   "id": "a8d2388d",
   "metadata": {
    "papermill": {
     "duration": 0.026784,
     "end_time": "2021-10-08T00:21:55.351221",
     "exception": false,
     "start_time": "2021-10-08T00:21:55.324437",
     "status": "completed"
    },
    "tags": []
   },
   "source": [
    "## Filter data to get 3 and 8 out"
   ]
  },
  {
   "cell_type": "code",
   "execution_count": 10,
   "id": "776f7fc7",
   "metadata": {
    "execution": {
     "iopub.execute_input": "2021-10-08T00:21:55.411424Z",
     "iopub.status.busy": "2021-10-08T00:21:55.408300Z",
     "iopub.status.idle": "2021-10-08T00:21:55.428093Z",
     "shell.execute_reply": "2021-10-08T00:21:55.427641Z"
    },
    "papermill": {
     "duration": 0.050531,
     "end_time": "2021-10-08T00:21:55.428211",
     "exception": false,
     "start_time": "2021-10-08T00:21:55.377680",
     "status": "completed"
    },
    "tags": []
   },
   "outputs": [],
   "source": [
    "train_filter = np.where((train_labels == 3 ) | (train_labels == 8))\n",
    "test_filter = np.where((test_labels == 3) | (test_labels == 8))\n",
    "X_train, y_train = train_images[train_filter], train_labels[train_filter]\n",
    "X_test, y_test = test_images[test_filter], test_labels[test_filter]"
   ]
  },
  {
   "cell_type": "markdown",
   "id": "948f0b7e",
   "metadata": {
    "papermill": {
     "duration": 0.026484,
     "end_time": "2021-10-08T00:21:55.481290",
     "exception": false,
     "start_time": "2021-10-08T00:21:55.454806",
     "status": "completed"
    },
    "tags": []
   },
   "source": [
    "We normalize the pizel values in the 0 to 1 range"
   ]
  },
  {
   "cell_type": "code",
   "execution_count": 11,
   "id": "ee4c2166",
   "metadata": {
    "execution": {
     "iopub.execute_input": "2021-10-08T00:21:55.542452Z",
     "iopub.status.busy": "2021-10-08T00:21:55.541873Z",
     "iopub.status.idle": "2021-10-08T00:21:55.587196Z",
     "shell.execute_reply": "2021-10-08T00:21:55.586611Z"
    },
    "papermill": {
     "duration": 0.07954,
     "end_time": "2021-10-08T00:21:55.587331",
     "exception": false,
     "start_time": "2021-10-08T00:21:55.507791",
     "status": "completed"
    },
    "tags": []
   },
   "outputs": [],
   "source": [
    "X_train = X_train/255.\n",
    "X_test = X_test/255."
   ]
  },
  {
   "cell_type": "markdown",
   "id": "ddcf4fab",
   "metadata": {
    "papermill": {
     "duration": 0.026422,
     "end_time": "2021-10-08T00:21:55.640563",
     "exception": false,
     "start_time": "2021-10-08T00:21:55.614141",
     "status": "completed"
    },
    "tags": []
   },
   "source": [
    "And setup the labels as 1 (when the digit is 3) and 0 (when the digit is 8)"
   ]
  },
  {
   "cell_type": "code",
   "execution_count": 12,
   "id": "7dc908f2",
   "metadata": {
    "execution": {
     "iopub.execute_input": "2021-10-08T00:21:55.700014Z",
     "iopub.status.busy": "2021-10-08T00:21:55.699484Z",
     "iopub.status.idle": "2021-10-08T00:21:55.710075Z",
     "shell.execute_reply": "2021-10-08T00:21:55.709634Z"
    },
    "papermill": {
     "duration": 0.042707,
     "end_time": "2021-10-08T00:21:55.710185",
     "exception": false,
     "start_time": "2021-10-08T00:21:55.667478",
     "status": "completed"
    },
    "tags": []
   },
   "outputs": [],
   "source": [
    "y_train = 1*(y_train==3)\n",
    "y_test = 1*(y_test==3)"
   ]
  },
  {
   "cell_type": "code",
   "execution_count": 13,
   "id": "01e4e969",
   "metadata": {
    "execution": {
     "iopub.execute_input": "2021-10-08T00:21:55.766283Z",
     "iopub.status.busy": "2021-10-08T00:21:55.765781Z",
     "iopub.status.idle": "2021-10-08T00:21:55.779571Z",
     "shell.execute_reply": "2021-10-08T00:21:55.779163Z"
    },
    "papermill": {
     "duration": 0.043152,
     "end_time": "2021-10-08T00:21:55.779685",
     "exception": false,
     "start_time": "2021-10-08T00:21:55.736533",
     "status": "completed"
    },
    "tags": []
   },
   "outputs": [
    {
     "data": {
      "text/plain": [
       "((11982, 28, 28), (1984, 28, 28))"
      ]
     },
     "execution_count": 13,
     "metadata": {},
     "output_type": "execute_result"
    }
   ],
   "source": [
    "X_train.shape, X_test.shape"
   ]
  },
  {
   "cell_type": "markdown",
   "id": "5ccf3f85",
   "metadata": {
    "papermill": {
     "duration": 0.026771,
     "end_time": "2021-10-08T00:21:55.833146",
     "exception": false,
     "start_time": "2021-10-08T00:21:55.806375",
     "status": "completed"
    },
    "tags": []
   },
   "source": [
    "We reshape the data to flatten the image pixels into a set of features or co-variates:"
   ]
  },
  {
   "cell_type": "code",
   "execution_count": 14,
   "id": "5286a4a3",
   "metadata": {
    "execution": {
     "iopub.execute_input": "2021-10-08T00:21:55.894423Z",
     "iopub.status.busy": "2021-10-08T00:21:55.893899Z",
     "iopub.status.idle": "2021-10-08T00:21:55.905575Z",
     "shell.execute_reply": "2021-10-08T00:21:55.905063Z"
    },
    "papermill": {
     "duration": 0.045771,
     "end_time": "2021-10-08T00:21:55.905688",
     "exception": false,
     "start_time": "2021-10-08T00:21:55.859917",
     "status": "completed"
    },
    "tags": []
   },
   "outputs": [
    {
     "data": {
      "text/plain": [
       "((11982, 784), (1984, 784))"
      ]
     },
     "execution_count": 14,
     "metadata": {},
     "output_type": "execute_result"
    }
   ],
   "source": [
    "X_train = X_train.reshape(X_train.shape[0], -1)\n",
    "X_test = X_test.reshape(X_test.shape[0], -1)\n",
    "X_train.shape, X_test.shape"
   ]
  },
  {
   "cell_type": "code",
   "execution_count": 15,
   "id": "73c5f88a",
   "metadata": {
    "execution": {
     "iopub.execute_input": "2021-10-08T00:21:55.963631Z",
     "iopub.status.busy": "2021-10-08T00:21:55.963109Z",
     "iopub.status.idle": "2021-10-08T00:21:55.981812Z",
     "shell.execute_reply": "2021-10-08T00:21:55.981380Z"
    },
    "papermill": {
     "duration": 0.049297,
     "end_time": "2021-10-08T00:21:55.981933",
     "exception": false,
     "start_time": "2021-10-08T00:21:55.932636",
     "status": "completed"
    },
    "tags": []
   },
   "outputs": [],
   "source": [
    "#Impoting functions from 'Kudzu'\n",
    "from kudzu.model import Model\n",
    "from kudzu.train import Learner\n",
    "from kudzu.optim import GD\n",
    "from kudzu.data import Data, Sampler,Dataloader\n",
    "\n",
    "from kudzu.callbacks import AccCallback\n",
    "from kudzu.callbacks import ClfCallback\n",
    "\n",
    "from kudzu.loss import MSE\n",
    "\n",
    "from kudzu.layer import Sigmoid,Relu\n",
    "from kudzu.layer import Affine"
   ]
  },
  {
   "cell_type": "markdown",
   "id": "bc01172a",
   "metadata": {
    "papermill": {
     "duration": 0.026836,
     "end_time": "2021-10-08T00:21:56.036129",
     "exception": false,
     "start_time": "2021-10-08T00:21:56.009293",
     "status": "completed"
    },
    "tags": []
   },
   "source": [
    "### Let us create a `Config` class, to store important parameters. \n",
    "This class essentially plays the role of a dictionary."
   ]
  },
  {
   "cell_type": "code",
   "execution_count": 16,
   "id": "978281aa",
   "metadata": {
    "execution": {
     "iopub.execute_input": "2021-10-08T00:21:56.098213Z",
     "iopub.status.busy": "2021-10-08T00:21:56.097691Z",
     "iopub.status.idle": "2021-10-08T00:21:56.107338Z",
     "shell.execute_reply": "2021-10-08T00:21:56.106917Z"
    },
    "papermill": {
     "duration": 0.044384,
     "end_time": "2021-10-08T00:21:56.107462",
     "exception": false,
     "start_time": "2021-10-08T00:21:56.063078",
     "status": "completed"
    },
    "tags": []
   },
   "outputs": [],
   "source": [
    "class Config:\n",
    "    pass\n",
    "config = Config()\n",
    "config.lr = 0.001\n",
    "config.num_epochs = 250\n",
    "config.bs = 50"
   ]
  },
  {
   "cell_type": "markdown",
   "id": "1385fa59",
   "metadata": {
    "papermill": {
     "duration": 0.026925,
     "end_time": "2021-10-08T00:21:56.161450",
     "exception": false,
     "start_time": "2021-10-08T00:21:56.134525",
     "status": "completed"
    },
    "tags": []
   },
   "source": [
    "### Running Models with the Training data\n",
    "Details about the network layers:\n",
    "- A first affine layer has 784 inputs and does 100 affine transforms. These are followed by a Relu\n",
    "- A second affine layer has 100 inputs from the 100 activations of the past layer, and does 100 affine transforms. These are followed by a Relu\n",
    "- A third affine layer has 100 activations and does 2 affine transformations to create an embedding for visualization. There is no non-linearity here.\n",
    "- A final \"logistic regression\" which has an affine transform from 2 inputs to 1 output, which is squeezed through a sigmoid.\n"
   ]
  },
  {
   "cell_type": "code",
   "execution_count": 17,
   "id": "2b9c66db",
   "metadata": {
    "execution": {
     "iopub.execute_input": "2021-10-08T00:21:56.220294Z",
     "iopub.status.busy": "2021-10-08T00:21:56.219776Z",
     "iopub.status.idle": "2021-10-08T00:21:56.232957Z",
     "shell.execute_reply": "2021-10-08T00:21:56.232529Z"
    },
    "papermill": {
     "duration": 0.044664,
     "end_time": "2021-10-08T00:21:56.233077",
     "exception": false,
     "start_time": "2021-10-08T00:21:56.188413",
     "status": "completed"
    },
    "tags": []
   },
   "outputs": [],
   "source": [
    "data = Data(X_train, y_train.reshape(-1,1))\n",
    "sampler = Sampler(data, config.bs, shuffle=True)\n",
    "\n",
    "dl = Dataloader(data, sampler)\n",
    "\n",
    "opt = GD(config.lr)\n",
    "loss = MSE()"
   ]
  },
  {
   "cell_type": "code",
   "execution_count": 18,
   "id": "b275e4c2",
   "metadata": {
    "execution": {
     "iopub.execute_input": "2021-10-08T00:21:56.304102Z",
     "iopub.status.busy": "2021-10-08T00:21:56.303553Z",
     "iopub.status.idle": "2021-10-08T00:21:56.306847Z",
     "shell.execute_reply": "2021-10-08T00:21:56.307263Z"
    },
    "papermill": {
     "duration": 0.046923,
     "end_time": "2021-10-08T00:21:56.307403",
     "exception": false,
     "start_time": "2021-10-08T00:21:56.260480",
     "status": "completed"
    },
    "tags": []
   },
   "outputs": [],
   "source": [
    "training_data_x = X_train\n",
    "testing_data_x = X_test\n",
    "training_data_y = y_train.reshape(-1,1)\n",
    "testing_data_y = y_test.reshape(-1,1)"
   ]
  },
  {
   "cell_type": "code",
   "execution_count": 19,
   "id": "76951160",
   "metadata": {
    "execution": {
     "iopub.execute_input": "2021-10-08T00:21:56.379002Z",
     "iopub.status.busy": "2021-10-08T00:21:56.378357Z",
     "iopub.status.idle": "2021-10-08T00:21:56.388784Z",
     "shell.execute_reply": "2021-10-08T00:21:56.389168Z"
    },
    "papermill": {
     "duration": 0.054937,
     "end_time": "2021-10-08T00:21:56.389310",
     "exception": false,
     "start_time": "2021-10-08T00:21:56.334373",
     "status": "completed"
    },
    "tags": []
   },
   "outputs": [
    {
     "name": "stdout",
     "output_type": "stream",
     "text": [
      "xavier\n",
      "xavier\n",
      "xavier\n",
      "xavier\n",
      "xavier\n"
     ]
    }
   ],
   "source": [
    "layers = [Affine(\"first\", 784, 100), Relu(\"first\"), Affine(\"second\", 100, 100), Relu(\"second\"), Affine(\"third\", 100, 2), Affine(\"last\", 2, 1), Sigmoid(\"last\")]\n",
    "model_nn = Model(layers)\n",
    "model_lr = Model([Affine(\"logits\", 784, 1), Sigmoid(\"sigmoid\")])"
   ]
  },
  {
   "cell_type": "code",
   "execution_count": 20,
   "id": "6eede77a",
   "metadata": {
    "execution": {
     "iopub.execute_input": "2021-10-08T00:21:56.461818Z",
     "iopub.status.busy": "2021-10-08T00:21:56.461264Z",
     "iopub.status.idle": "2021-10-08T00:21:56.464909Z",
     "shell.execute_reply": "2021-10-08T00:21:56.464465Z"
    },
    "papermill": {
     "duration": 0.048099,
     "end_time": "2021-10-08T00:21:56.465025",
     "exception": false,
     "start_time": "2021-10-08T00:21:56.416926",
     "status": "completed"
    },
    "tags": []
   },
   "outputs": [],
   "source": [
    "nn_learner = Learner(loss, model_nn, opt, config.num_epochs)\n",
    "acc_nn = ClfCallback(nn_learner, config.bs, training_data_x , testing_data_x, training_data_y, testing_data_y)\n",
    "nn_learner.set_callbacks([acc_nn])"
   ]
  },
  {
   "cell_type": "code",
   "execution_count": 21,
   "id": "877b6cc7",
   "metadata": {
    "execution": {
     "iopub.execute_input": "2021-10-08T00:21:56.529805Z",
     "iopub.status.busy": "2021-10-08T00:21:56.529263Z",
     "iopub.status.idle": "2021-10-08T00:21:56.539469Z",
     "shell.execute_reply": "2021-10-08T00:21:56.539034Z"
    },
    "papermill": {
     "duration": 0.04733,
     "end_time": "2021-10-08T00:21:56.539591",
     "exception": false,
     "start_time": "2021-10-08T00:21:56.492261",
     "status": "completed"
    },
    "tags": []
   },
   "outputs": [],
   "source": [
    "lr_learner = Learner(loss, model_lr, opt, config.num_epochs)\n",
    "acc_lr = ClfCallback(lr_learner, config.bs, training_data_x , testing_data_x, training_data_y, testing_data_y)\n",
    "lr_learner.set_callbacks([acc_lr])"
   ]
  },
  {
   "cell_type": "code",
   "execution_count": 22,
   "id": "d9b133c3",
   "metadata": {
    "execution": {
     "iopub.execute_input": "2021-10-08T00:21:56.606410Z",
     "iopub.status.busy": "2021-10-08T00:21:56.605881Z",
     "iopub.status.idle": "2021-10-08T00:23:12.916575Z",
     "shell.execute_reply": "2021-10-08T00:23:12.917366Z"
    },
    "papermill": {
     "duration": 76.350363,
     "end_time": "2021-10-08T00:23:12.917517",
     "exception": false,
     "start_time": "2021-10-08T00:21:56.567154",
     "status": "completed"
    },
    "tags": []
   },
   "outputs": [
    {
     "name": "stdout",
     "output_type": "stream",
     "text": [
      "Epoch 0, Loss 0.2654\n",
      "Training Accuracy: 0.4271, Testing Accuracy: 0.4254\n",
      "\n"
     ]
    },
    {
     "name": "stdout",
     "output_type": "stream",
     "text": [
      "Epoch 10, Loss 0.1608\n",
      "Training Accuracy: 0.8771, Testing Accuracy: 0.8841\n",
      "\n"
     ]
    },
    {
     "name": "stdout",
     "output_type": "stream",
     "text": [
      "Epoch 20, Loss 0.0824\n",
      "Training Accuracy: 0.9178, Testing Accuracy: 0.9244\n",
      "\n"
     ]
    },
    {
     "name": "stdout",
     "output_type": "stream",
     "text": [
      "Epoch 30, Loss 0.0576\n",
      "Training Accuracy: 0.9353, Testing Accuracy: 0.9435\n",
      "\n"
     ]
    },
    {
     "name": "stdout",
     "output_type": "stream",
     "text": [
      "Epoch 40, Loss 0.0467\n",
      "Training Accuracy: 0.9473, Testing Accuracy: 0.9541\n",
      "\n"
     ]
    },
    {
     "name": "stdout",
     "output_type": "stream",
     "text": [
      "Epoch 50, Loss 0.0407\n",
      "Training Accuracy: 0.9537, Testing Accuracy: 0.9577\n",
      "\n"
     ]
    },
    {
     "name": "stdout",
     "output_type": "stream",
     "text": [
      "Epoch 60, Loss 0.0369\n",
      "Training Accuracy: 0.9568, Testing Accuracy: 0.9592\n",
      "\n"
     ]
    },
    {
     "name": "stdout",
     "output_type": "stream",
     "text": [
      "Epoch 70, Loss 0.0342\n",
      "Training Accuracy: 0.9595, Testing Accuracy: 0.9622\n",
      "\n"
     ]
    },
    {
     "name": "stdout",
     "output_type": "stream",
     "text": [
      "Epoch 80, Loss 0.0322\n",
      "Training Accuracy: 0.9614, Testing Accuracy: 0.9642\n",
      "\n"
     ]
    },
    {
     "name": "stdout",
     "output_type": "stream",
     "text": [
      "Epoch 90, Loss 0.0306\n",
      "Training Accuracy: 0.9638, Testing Accuracy: 0.9642\n",
      "\n"
     ]
    },
    {
     "name": "stdout",
     "output_type": "stream",
     "text": [
      "Epoch 100, Loss 0.0293\n",
      "Training Accuracy: 0.9660, Testing Accuracy: 0.9662\n",
      "\n"
     ]
    },
    {
     "name": "stdout",
     "output_type": "stream",
     "text": [
      "Epoch 110, Loss 0.0281\n",
      "Training Accuracy: 0.9677, Testing Accuracy: 0.9672\n",
      "\n"
     ]
    },
    {
     "name": "stdout",
     "output_type": "stream",
     "text": [
      "Epoch 120, Loss 0.0271\n",
      "Training Accuracy: 0.9690, Testing Accuracy: 0.9693\n",
      "\n"
     ]
    },
    {
     "name": "stdout",
     "output_type": "stream",
     "text": [
      "Epoch 130, Loss 0.0262\n",
      "Training Accuracy: 0.9705, Testing Accuracy: 0.9693\n",
      "\n"
     ]
    },
    {
     "name": "stdout",
     "output_type": "stream",
     "text": [
      "Epoch 140, Loss 0.0255\n",
      "Training Accuracy: 0.9710, Testing Accuracy: 0.9693\n",
      "\n"
     ]
    },
    {
     "name": "stdout",
     "output_type": "stream",
     "text": [
      "Epoch 150, Loss 0.0247\n",
      "Training Accuracy: 0.9722, Testing Accuracy: 0.9703\n",
      "\n"
     ]
    },
    {
     "name": "stdout",
     "output_type": "stream",
     "text": [
      "Epoch 160, Loss 0.0241\n",
      "Training Accuracy: 0.9731, Testing Accuracy: 0.9698\n",
      "\n"
     ]
    },
    {
     "name": "stdout",
     "output_type": "stream",
     "text": [
      "Epoch 170, Loss 0.0235\n",
      "Training Accuracy: 0.9738, Testing Accuracy: 0.9708\n",
      "\n"
     ]
    },
    {
     "name": "stdout",
     "output_type": "stream",
     "text": [
      "Epoch 180, Loss 0.0229\n",
      "Training Accuracy: 0.9744, Testing Accuracy: 0.9708\n",
      "\n"
     ]
    },
    {
     "name": "stdout",
     "output_type": "stream",
     "text": [
      "Epoch 190, Loss 0.0224\n",
      "Training Accuracy: 0.9753, Testing Accuracy: 0.9708\n",
      "\n"
     ]
    },
    {
     "name": "stdout",
     "output_type": "stream",
     "text": [
      "Epoch 200, Loss 0.0219\n",
      "Training Accuracy: 0.9754, Testing Accuracy: 0.9708\n",
      "\n"
     ]
    },
    {
     "name": "stdout",
     "output_type": "stream",
     "text": [
      "Epoch 210, Loss 0.0214\n",
      "Training Accuracy: 0.9760, Testing Accuracy: 0.9713\n",
      "\n"
     ]
    },
    {
     "name": "stdout",
     "output_type": "stream",
     "text": [
      "Epoch 220, Loss 0.021\n",
      "Training Accuracy: 0.9773, Testing Accuracy: 0.9713\n",
      "\n"
     ]
    },
    {
     "name": "stdout",
     "output_type": "stream",
     "text": [
      "Epoch 230, Loss 0.0206\n",
      "Training Accuracy: 0.9776, Testing Accuracy: 0.9723\n",
      "\n"
     ]
    },
    {
     "name": "stdout",
     "output_type": "stream",
     "text": [
      "Epoch 240, Loss 0.0201\n",
      "Training Accuracy: 0.9781, Testing Accuracy: 0.9718\n",
      "\n"
     ]
    },
    {
     "data": {
      "text/plain": [
       "0.006278205238014491"
      ]
     },
     "execution_count": 22,
     "metadata": {},
     "output_type": "execute_result"
    }
   ],
   "source": [
    "nn_learner.train_loop(dl)"
   ]
  },
  {
   "cell_type": "code",
   "execution_count": 23,
   "id": "e0163366",
   "metadata": {
    "execution": {
     "iopub.execute_input": "2021-10-08T00:23:12.999147Z",
     "iopub.status.busy": "2021-10-08T00:23:12.998576Z",
     "iopub.status.idle": "2021-10-08T00:23:26.834538Z",
     "shell.execute_reply": "2021-10-08T00:23:26.835282Z"
    },
    "papermill": {
     "duration": 13.88335,
     "end_time": "2021-10-08T00:23:26.835433",
     "exception": false,
     "start_time": "2021-10-08T00:23:12.952083",
     "status": "completed"
    },
    "tags": []
   },
   "outputs": [
    {
     "name": "stdout",
     "output_type": "stream",
     "text": [
      "Epoch 0, Loss 0.2469\n",
      "Training Accuracy: 0.6652, Testing Accuracy: 0.6633\n",
      "\n"
     ]
    },
    {
     "name": "stdout",
     "output_type": "stream",
     "text": [
      "Epoch 10, Loss 0.1083\n",
      "Training Accuracy: 0.8933, Testing Accuracy: 0.9017\n",
      "\n"
     ]
    },
    {
     "name": "stdout",
     "output_type": "stream",
     "text": [
      "Epoch 20, Loss 0.0824\n",
      "Training Accuracy: 0.9195, Testing Accuracy: 0.9320\n",
      "\n"
     ]
    },
    {
     "name": "stdout",
     "output_type": "stream",
     "text": [
      "Epoch 30, Loss 0.0704\n",
      "Training Accuracy: 0.9307, Testing Accuracy: 0.9466\n",
      "\n"
     ]
    },
    {
     "name": "stdout",
     "output_type": "stream",
     "text": [
      "Epoch 40, Loss 0.0632\n",
      "Training Accuracy: 0.9364, Testing Accuracy: 0.9531\n",
      "\n"
     ]
    },
    {
     "name": "stdout",
     "output_type": "stream",
     "text": [
      "Epoch 50, Loss 0.0583\n",
      "Training Accuracy: 0.9399, Testing Accuracy: 0.9561\n",
      "\n"
     ]
    },
    {
     "name": "stdout",
     "output_type": "stream",
     "text": [
      "Epoch 60, Loss 0.0548\n",
      "Training Accuracy: 0.9444, Testing Accuracy: 0.9577\n",
      "\n"
     ]
    },
    {
     "name": "stdout",
     "output_type": "stream",
     "text": [
      "Epoch 70, Loss 0.052\n",
      "Training Accuracy: 0.9473, Testing Accuracy: 0.9587\n",
      "\n"
     ]
    },
    {
     "name": "stdout",
     "output_type": "stream",
     "text": [
      "Epoch 80, Loss 0.0498\n",
      "Training Accuracy: 0.9483, Testing Accuracy: 0.9602\n",
      "\n"
     ]
    },
    {
     "name": "stdout",
     "output_type": "stream",
     "text": [
      "Epoch 90, Loss 0.0481\n",
      "Training Accuracy: 0.9502, Testing Accuracy: 0.9607\n",
      "\n"
     ]
    },
    {
     "name": "stdout",
     "output_type": "stream",
     "text": [
      "Epoch 100, Loss 0.0466\n",
      "Training Accuracy: 0.9508, Testing Accuracy: 0.9622\n",
      "\n"
     ]
    },
    {
     "name": "stdout",
     "output_type": "stream",
     "text": [
      "Epoch 110, Loss 0.0453\n",
      "Training Accuracy: 0.9522, Testing Accuracy: 0.9637\n",
      "\n"
     ]
    },
    {
     "name": "stdout",
     "output_type": "stream",
     "text": [
      "Epoch 120, Loss 0.0442\n",
      "Training Accuracy: 0.9533, Testing Accuracy: 0.9652\n",
      "\n"
     ]
    },
    {
     "name": "stdout",
     "output_type": "stream",
     "text": [
      "Epoch 130, Loss 0.0432\n",
      "Training Accuracy: 0.9544, Testing Accuracy: 0.9662\n",
      "\n"
     ]
    },
    {
     "name": "stdout",
     "output_type": "stream",
     "text": [
      "Epoch 140, Loss 0.0423\n",
      "Training Accuracy: 0.9553, Testing Accuracy: 0.9667\n",
      "\n"
     ]
    },
    {
     "name": "stdout",
     "output_type": "stream",
     "text": [
      "Epoch 150, Loss 0.0416\n",
      "Training Accuracy: 0.9562, Testing Accuracy: 0.9677\n",
      "\n"
     ]
    },
    {
     "name": "stdout",
     "output_type": "stream",
     "text": [
      "Epoch 160, Loss 0.0409\n",
      "Training Accuracy: 0.9566, Testing Accuracy: 0.9682\n",
      "\n"
     ]
    },
    {
     "name": "stdout",
     "output_type": "stream",
     "text": [
      "Epoch 170, Loss 0.0403\n",
      "Training Accuracy: 0.9571, Testing Accuracy: 0.9688\n",
      "\n"
     ]
    },
    {
     "name": "stdout",
     "output_type": "stream",
     "text": [
      "Epoch 180, Loss 0.0397\n",
      "Training Accuracy: 0.9574, Testing Accuracy: 0.9682\n",
      "\n"
     ]
    },
    {
     "name": "stdout",
     "output_type": "stream",
     "text": [
      "Epoch 190, Loss 0.0391\n",
      "Training Accuracy: 0.9579, Testing Accuracy: 0.9688\n",
      "\n"
     ]
    },
    {
     "name": "stdout",
     "output_type": "stream",
     "text": [
      "Epoch 200, Loss 0.0387\n",
      "Training Accuracy: 0.9581, Testing Accuracy: 0.9682\n",
      "\n"
     ]
    },
    {
     "name": "stdout",
     "output_type": "stream",
     "text": [
      "Epoch 210, Loss 0.0382\n",
      "Training Accuracy: 0.9584, Testing Accuracy: 0.9682\n",
      "\n"
     ]
    },
    {
     "name": "stdout",
     "output_type": "stream",
     "text": [
      "Epoch 220, Loss 0.0378\n",
      "Training Accuracy: 0.9585, Testing Accuracy: 0.9693\n",
      "\n"
     ]
    },
    {
     "name": "stdout",
     "output_type": "stream",
     "text": [
      "Epoch 230, Loss 0.0374\n",
      "Training Accuracy: 0.9588, Testing Accuracy: 0.9698\n",
      "\n"
     ]
    },
    {
     "name": "stdout",
     "output_type": "stream",
     "text": [
      "Epoch 240, Loss 0.037\n",
      "Training Accuracy: 0.9592, Testing Accuracy: 0.9693\n",
      "\n"
     ]
    },
    {
     "data": {
      "text/plain": [
       "0.09526081972602399"
      ]
     },
     "execution_count": 23,
     "metadata": {},
     "output_type": "execute_result"
    }
   ],
   "source": [
    "lr_learner.train_loop(dl)"
   ]
  },
  {
   "cell_type": "code",
   "execution_count": 24,
   "id": "ca410940",
   "metadata": {
    "execution": {
     "iopub.execute_input": "2021-10-08T00:23:26.932171Z",
     "iopub.status.busy": "2021-10-08T00:23:26.931621Z",
     "iopub.status.idle": "2021-10-08T00:23:27.157122Z",
     "shell.execute_reply": "2021-10-08T00:23:27.156674Z"
    },
    "papermill": {
     "duration": 0.280708,
     "end_time": "2021-10-08T00:23:27.157250",
     "exception": false,
     "start_time": "2021-10-08T00:23:26.876542",
     "status": "completed"
    },
    "tags": []
   },
   "outputs": [
    {
     "data": {
      "text/plain": [
       "<matplotlib.legend.Legend at 0x7ff750f49908>"
      ]
     },
     "execution_count": 24,
     "metadata": {},
     "output_type": "execute_result"
    },
    {
     "data": {
      "image/png": "[encoded data removed]",
      "text/plain": [
       "<Figure size 1080x720 with 1 Axes>"
      ]
     },
     "metadata": {
      "needs_background": "light"
     },
     "output_type": "display_data"
    }
   ],
   "source": [
    "#comparing the results of NN and LR\n",
    "plt.figure(figsize=(15,10))\n",
    "\n",
    "# Neural Network plots\n",
    "plt.plot(acc_nn.accuracies, 'r-', label = \"Training Accuracies - NN\")\n",
    "plt.plot(acc_nn.test_accuracies, 'g-', label = \"Testing Accuracies - NN\")\n",
    "\n",
    "# Logistic Regression plots\n",
    "plt.plot(acc_lr.accuracies, 'k-', label = \"Training Accuracies - LR\")\n",
    "plt.plot(acc_lr.test_accuracies, 'b-', label = \"Testing Accuracies - LR\")\n",
    "plt.legend()"
   ]
  },
  {
   "cell_type": "markdown",
   "id": "80dfb35c",
   "metadata": {
    "papermill": {
     "duration": 0.04267,
     "end_time": "2021-10-08T00:23:27.242523",
     "exception": false,
     "start_time": "2021-10-08T00:23:27.199853",
     "status": "completed"
    },
    "tags": []
   },
   "source": [
    "#### Plotting the outputs of this layer of the NN.\n"
   ]
  },
  {
   "cell_type": "code",
   "execution_count": 25,
   "id": "45eb2ff5",
   "metadata": {
    "execution": {
     "iopub.execute_input": "2021-10-08T00:23:27.340571Z",
     "iopub.status.busy": "2021-10-08T00:23:27.339543Z",
     "iopub.status.idle": "2021-10-08T00:23:27.357062Z",
     "shell.execute_reply": "2021-10-08T00:23:27.357827Z"
    },
    "papermill": {
     "duration": 0.073314,
     "end_time": "2021-10-08T00:23:27.357989",
     "exception": false,
     "start_time": "2021-10-08T00:23:27.284675",
     "status": "completed"
    },
    "tags": []
   },
   "outputs": [],
   "source": [
    "new_model = Model(layers[:-2])\n",
    "testing_plot = new_model(testing_data_x)"
   ]
  },
  {
   "cell_type": "code",
   "execution_count": 26,
   "id": "4c0a5485",
   "metadata": {
    "execution": {
     "iopub.execute_input": "2021-10-08T00:23:27.456037Z",
     "iopub.status.busy": "2021-10-08T00:23:27.455490Z",
     "iopub.status.idle": "2021-10-08T00:23:27.659575Z",
     "shell.execute_reply": "2021-10-08T00:23:27.659978Z"
    },
    "papermill": {
     "duration": 0.259113,
     "end_time": "2021-10-08T00:23:27.660127",
     "exception": false,
     "start_time": "2021-10-08T00:23:27.401014",
     "status": "completed"
    },
    "tags": []
   },
   "outputs": [
    {
     "data": {
      "text/plain": [
       "Text(0.5, 1.0, 'Outputs')"
      ]
     },
     "execution_count": 26,
     "metadata": {},
     "output_type": "execute_result"
    },
    {
     "data": {
      "image/png": "[encoded data removed]",
      "text/plain": [
       "<Figure size 576x504 with 1 Axes>"
      ]
     },
     "metadata": {
      "needs_background": "light"
     },
     "output_type": "display_data"
    }
   ],
   "source": [
    "# Plotting the scatter plot of points and color coding by class\n",
    "plt.figure(figsize=(8,7))\n",
    "plt.scatter(testing_plot[:,0], testing_plot[:,1], alpha = 0.1, c = y_test.ravel());\n",
    "plt.title('Outputs')"
   ]
  },
  {
   "cell_type": "markdown",
   "id": "a74fcf8f",
   "metadata": {
    "papermill": {
     "duration": 0.04431,
     "end_time": "2021-10-08T00:23:27.749278",
     "exception": false,
     "start_time": "2021-10-08T00:23:27.704968",
     "status": "completed"
    },
    "tags": []
   },
   "source": [
    "Probability contours"
   ]
  },
  {
   "cell_type": "code",
   "execution_count": 27,
   "id": "d0afc8e3",
   "metadata": {
    "execution": {
     "iopub.execute_input": "2021-10-08T00:23:27.851955Z",
     "iopub.status.busy": "2021-10-08T00:23:27.851389Z",
     "iopub.status.idle": "2021-10-08T00:23:27.854251Z",
     "shell.execute_reply": "2021-10-08T00:23:27.853827Z"
    },
    "papermill": {
     "duration": 0.060452,
     "end_time": "2021-10-08T00:23:27.854372",
     "exception": false,
     "start_time": "2021-10-08T00:23:27.793920",
     "status": "completed"
    },
    "tags": []
   },
   "outputs": [],
   "source": [
    "model_prob = Model(layers[-2:]) "
   ]
  },
  {
   "cell_type": "code",
   "execution_count": 28,
   "id": "9b96e238",
   "metadata": {
    "execution": {
     "iopub.execute_input": "2021-10-08T00:23:27.949284Z",
     "iopub.status.busy": "2021-10-08T00:23:27.948763Z",
     "iopub.status.idle": "2021-10-08T00:23:27.962790Z",
     "shell.execute_reply": "2021-10-08T00:23:27.963191Z"
    },
    "papermill": {
     "duration": 0.064226,
     "end_time": "2021-10-08T00:23:27.963338",
     "exception": false,
     "start_time": "2021-10-08T00:23:27.899112",
     "status": "completed"
    },
    "tags": []
   },
   "outputs": [],
   "source": [
    "#creating the x and y ranges according to the above generated plot.\n",
    "x_range = np.linspace(-4, 1, 100) \n",
    "y_range = np.linspace(-6, 6, 100) \n",
    "x_grid, y_grid = np.meshgrid(x_range, y_range) # x_grid and y_grig are of size 100 X 100\n",
    "\n",
    "# converting x_grid and y_grid to continuous arrays\n",
    "x_gridflat = np.ravel(x_grid)\n",
    "y_gridflat = np.ravel(y_grid)\n",
    "\n",
    "# The last layer of the current model takes two columns as input. Hence transpose of np.vstack() is required.\n",
    "X = np.vstack((x_gridflat, y_gridflat)).T\n",
    "\n",
    "prob_contour = model_prob(X).reshape(100,100) "
   ]
  },
  {
   "cell_type": "code",
   "execution_count": 29,
   "id": "da72499a",
   "metadata": {
    "execution": {
     "iopub.execute_input": "2021-10-08T00:23:28.071979Z",
     "iopub.status.busy": "2021-10-08T00:23:28.071445Z",
     "iopub.status.idle": "2021-10-08T00:23:28.323097Z",
     "shell.execute_reply": "2021-10-08T00:23:28.322587Z"
    },
    "papermill": {
     "duration": 0.308128,
     "end_time": "2021-10-08T00:23:28.323221",
     "exception": false,
     "start_time": "2021-10-08T00:23:28.015093",
     "status": "completed"
    },
    "tags": []
   },
   "outputs": [
    {
     "data": {
      "image/png": "[encoded data removed]",
      "text/plain": [
       "<Figure size 720x648 with 1 Axes>"
      ]
     },
     "metadata": {
      "needs_background": "light"
     },
     "output_type": "display_data"
    }
   ],
   "source": [
    "plt.figure(figsize=(10,9))\n",
    "plt.scatter(testing_plot[:,0], testing_plot[:,1], alpha = 0.1, c = y_test.ravel())\n",
    "contours = plt.contour(x_grid,y_grid,prob_contour)\n",
    "plt.title('Probability Contours')\n",
    "plt.clabel(contours, inline = True );"
   ]
  },
  {
   "cell_type": "code",
   "execution_count": null,
   "id": "e81b4ac7",
   "metadata": {
    "papermill": {
     "duration": 0.047675,
     "end_time": "2021-10-08T00:23:28.419766",
     "exception": false,
     "start_time": "2021-10-08T00:23:28.372091",
     "status": "completed"
    },
    "tags": []
   },
   "outputs": [],
   "source": []
  }
 ],
 "metadata": {
  "kernelspec": {
   "display_name": "Python 3",
   "language": "python",
   "name": "python3"
  },
  "language_info": {
   "codemirror_mode": {
    "name": "ipython",
    "version": 3
   },
   "file_extension": ".py",
   "mimetype": "text/x-python",
   "name": "python",
   "nbconvert_exporter": "python",
   "pygments_lexer": "ipython3",
   "version": "3.6.15"
  },
  "papermill": {
   "default_parameters": {},
   "duration": 99.647493,
   "end_time": "2021-10-08T00:23:29.011618",
   "environment_variables": {},
   "exception": null,
   "input_path": "2020-08-11-part2.ipynb",
   "output_path": "2020-08-11-part2.ipynb",
   "parameters": {},
   "start_time": "2021-10-08T00:21:49.364125",
   "version": "2.3.3"
  }
 },
 "nbformat": 4,
 "nbformat_minor": 5
}