{
 "cells": [
  {
   "cell_type": "markdown",
   "id": "98380cd3",
   "metadata": {
    "papermill": {
     "duration": 0.028318,
     "end_time": "2022-02-28T20:10:07.404635",
     "exception": false,
     "start_time": "2022-02-28T20:10:07.376317",
     "status": "completed"
    },
    "tags": []
   },
   "source": [
    "# Distinguish Your Own Digits (DYOD)"
   ]
  },
  {
   "cell_type": "markdown",
   "id": "ef31240d",
   "metadata": {
    "papermill": {
     "duration": 0.02544,
     "end_time": "2022-02-28T20:10:07.455103",
     "exception": false,
     "start_time": "2022-02-28T20:10:07.429663",
     "status": "completed"
    },
    "tags": []
   },
   "source": [
    "You are going to write a classifier that distinguishes between the number 3 and number 8."
   ]
  },
  {
   "cell_type": "code",
   "execution_count": 1,
   "id": "b15c8646",
   "metadata": {
    "execution": {
     "iopub.execute_input": "2022-02-28T20:10:07.513491Z",
     "iopub.status.busy": "2022-02-28T20:10:07.512952Z",
     "iopub.status.idle": "2022-02-28T20:10:07.523086Z",
     "shell.execute_reply": "2022-02-28T20:10:07.522674Z"
    },
    "papermill": {
     "duration": 0.043776,
     "end_time": "2022-02-28T20:10:07.523204",
     "exception": false,
     "start_time": "2022-02-28T20:10:07.479428",
     "status": "completed"
    },
    "tags": []
   },
   "outputs": [],
   "source": [
    "%load_ext autoreload\n",
    "%autoreload 2"
   ]
  },
  {
   "cell_type": "code",
   "execution_count": 2,
   "id": "22ef38dc",
   "metadata": {
    "execution": {
     "iopub.execute_input": "2022-02-28T20:10:07.575697Z",
     "iopub.status.busy": "2022-02-28T20:10:07.575203Z",
     "iopub.status.idle": "2022-02-28T20:10:08.119430Z",
     "shell.execute_reply": "2022-02-28T20:10:08.119837Z"
    },
    "papermill": {
     "duration": 0.572237,
     "end_time": "2022-02-28T20:10:08.119977",
     "exception": false,
     "start_time": "2022-02-28T20:10:07.547740",
     "status": "completed"
    },
    "tags": []
   },
   "outputs": [],
   "source": [
    "%matplotlib inline\n",
    "import numpy as np\n",
    "import matplotlib.pyplot as plt\n",
    "import pandas as pd"
   ]
  },
  {
   "cell_type": "markdown",
   "id": "ba036198",
   "metadata": {
    "papermill": {
     "duration": 0.024464,
     "end_time": "2022-02-28T20:10:08.168936",
     "exception": false,
     "start_time": "2022-02-28T20:10:08.144472",
     "status": "completed"
    },
    "tags": []
   },
   "source": [
    "From the command line run `pip install mnist`. This is a library that will help you bring down the mnist dataset. If you run this from a notebook, you need to put  `!pip install mnist` in a cell by itself."
   ]
  },
  {
   "cell_type": "code",
   "execution_count": 3,
   "id": "bb6ad8a1",
   "metadata": {
    "execution": {
     "iopub.execute_input": "2022-02-28T20:10:08.221396Z",
     "iopub.status.busy": "2022-02-28T20:10:08.220877Z",
     "iopub.status.idle": "2022-02-28T20:10:09.879820Z",
     "shell.execute_reply": "2022-02-28T20:10:09.879383Z"
    },
    "papermill": {
     "duration": 1.686507,
     "end_time": "2022-02-28T20:10:09.879933",
     "exception": false,
     "start_time": "2022-02-28T20:10:08.193426",
     "status": "completed"
    },
    "tags": []
   },
   "outputs": [
    {
     "name": "stdout",
     "output_type": "stream",
     "text": [
      "Collecting mnist\r\n"
     ]
    },
    {
     "name": "stdout",
     "output_type": "stream",
     "text": [
      "  Downloading mnist-0.2.2-py2.py3-none-any.whl (3.5 kB)\r\n",
      "Requirement already satisfied: numpy in /opt/hostedtoolcache/Python/3.6.15/x64/lib/python3.6/site-packages (from mnist) (1.19.5)\r\n"
     ]
    },
    {
     "name": "stdout",
     "output_type": "stream",
     "text": [
      "Installing collected packages: mnist\r\n"
     ]
    },
    {
     "name": "stdout",
     "output_type": "stream",
     "text": [
      "Successfully installed mnist-0.2.2\r\n"
     ]
    }
   ],
   "source": [
    "!pip install mnist"
   ]
  },
  {
   "cell_type": "markdown",
   "id": "69df9c9a",
   "metadata": {
    "papermill": {
     "duration": 0.025817,
     "end_time": "2022-02-28T20:10:09.931692",
     "exception": false,
     "start_time": "2022-02-28T20:10:09.905875",
     "status": "completed"
    },
    "tags": []
   },
   "source": [
    "## Preparing the Data"
   ]
  },
  {
   "cell_type": "code",
   "execution_count": 4,
   "id": "7f69d806",
   "metadata": {
    "execution": {
     "iopub.execute_input": "2022-02-28T20:10:09.986963Z",
     "iopub.status.busy": "2022-02-28T20:10:09.986467Z",
     "iopub.status.idle": "2022-02-28T20:10:09.998937Z",
     "shell.execute_reply": "2022-02-28T20:10:09.999379Z"
    },
    "papermill": {
     "duration": 0.042088,
     "end_time": "2022-02-28T20:10:09.999489",
     "exception": false,
     "start_time": "2022-02-28T20:10:09.957401",
     "status": "completed"
    },
    "tags": []
   },
   "outputs": [],
   "source": [
    "import mnist"
   ]
  },
  {
   "cell_type": "code",
   "execution_count": 5,
   "id": "a411e44f",
   "metadata": {
    "execution": {
     "iopub.execute_input": "2022-02-28T20:10:10.053847Z",
     "iopub.status.busy": "2022-02-28T20:10:10.053359Z",
     "iopub.status.idle": "2022-02-28T20:10:10.763680Z",
     "shell.execute_reply": "2022-02-28T20:10:10.763222Z"
    },
    "papermill": {
     "duration": 0.738572,
     "end_time": "2022-02-28T20:10:10.763788",
     "exception": false,
     "start_time": "2022-02-28T20:10:10.025216",
     "status": "completed"
    },
    "tags": []
   },
   "outputs": [],
   "source": [
    "train_images = mnist.train_images()\n",
    "train_labels = mnist.train_labels()"
   ]
  },
  {
   "cell_type": "code",
   "execution_count": 6,
   "id": "dceab3a5",
   "metadata": {
    "execution": {
     "iopub.execute_input": "2022-02-28T20:10:10.819411Z",
     "iopub.status.busy": "2022-02-28T20:10:10.818867Z",
     "iopub.status.idle": "2022-02-28T20:10:10.831451Z",
     "shell.execute_reply": "2022-02-28T20:10:10.831856Z"
    },
    "papermill": {
     "duration": 0.042325,
     "end_time": "2022-02-28T20:10:10.831973",
     "exception": false,
     "start_time": "2022-02-28T20:10:10.789648",
     "status": "completed"
    },
    "tags": []
   },
   "outputs": [
    {
     "data": {
      "text/plain": [
       "((60000, 28, 28), (60000,))"
      ]
     },
     "execution_count": 6,
     "metadata": {},
     "output_type": "execute_result"
    }
   ],
   "source": [
    "train_images.shape, train_labels.shape"
   ]
  },
  {
   "cell_type": "code",
   "execution_count": 7,
   "id": "f50dc2bb",
   "metadata": {
    "execution": {
     "iopub.execute_input": "2022-02-28T20:10:10.886896Z",
     "iopub.status.busy": "2022-02-28T20:10:10.886407Z",
     "iopub.status.idle": "2022-02-28T20:10:11.145733Z",
     "shell.execute_reply": "2022-02-28T20:10:11.145283Z"
    },
    "papermill": {
     "duration": 0.288009,
     "end_time": "2022-02-28T20:10:11.145848",
     "exception": false,
     "start_time": "2022-02-28T20:10:10.857839",
     "status": "completed"
    },
    "tags": []
   },
   "outputs": [],
   "source": [
    "test_images = mnist.test_images()\n",
    "test_labels = mnist.test_labels()"
   ]
  },
  {
   "cell_type": "code",
   "execution_count": 8,
   "id": "fc38cf1b",
   "metadata": {
    "execution": {
     "iopub.execute_input": "2022-02-28T20:10:11.203350Z",
     "iopub.status.busy": "2022-02-28T20:10:11.202851Z",
     "iopub.status.idle": "2022-02-28T20:10:11.214990Z",
     "shell.execute_reply": "2022-02-28T20:10:11.214602Z"
    },
    "papermill": {
     "duration": 0.042976,
     "end_time": "2022-02-28T20:10:11.215089",
     "exception": false,
     "start_time": "2022-02-28T20:10:11.172113",
     "status": "completed"
    },
    "tags": []
   },
   "outputs": [
    {
     "data": {
      "text/plain": [
       "((10000, 28, 28), (10000,))"
      ]
     },
     "execution_count": 8,
     "metadata": {},
     "output_type": "execute_result"
    }
   ],
   "source": [
    "test_images.shape, test_labels.shape"
   ]
  },
  {
   "cell_type": "code",
   "execution_count": 9,
   "id": "f9ed8fe0",
   "metadata": {
    "execution": {
     "iopub.execute_input": "2022-02-28T20:10:11.270556Z",
     "iopub.status.busy": "2022-02-28T20:10:11.270065Z",
     "iopub.status.idle": "2022-02-28T20:10:11.400064Z",
     "shell.execute_reply": "2022-02-28T20:10:11.400472Z"
    },
    "papermill": {
     "duration": 0.15936,
     "end_time": "2022-02-28T20:10:11.400597",
     "exception": false,
     "start_time": "2022-02-28T20:10:11.241237",
     "status": "completed"
    },
    "tags": []
   },
   "outputs": [
    {
     "name": "stdout",
     "output_type": "stream",
     "text": [
      "2\n"
     ]
    },
    {
     "data": {
      "text/plain": [
       "<matplotlib.image.AxesImage at 0x7fce6440e588>"
      ]
     },
     "execution_count": 9,
     "metadata": {},
     "output_type": "execute_result"
    },
    {
     "data": {
      "image/png": "[encoded data removed]",
      "text/plain": [
       "<Figure size 432x288 with 1 Axes>"
      ]
     },
     "metadata": {
      "needs_background": "light"
     },
     "output_type": "display_data"
    }
   ],
   "source": [
    "image_index = 7776 # You may select anything up to 60,000\n",
    "print(train_labels[image_index]) \n",
    "plt.imshow(train_images[image_index], cmap='Greys')"
   ]
  },
  {
   "cell_type": "markdown",
   "id": "a8d2388d",
   "metadata": {
    "papermill": {
     "duration": 0.027658,
     "end_time": "2022-02-28T20:10:11.455699",
     "exception": false,
     "start_time": "2022-02-28T20:10:11.428041",
     "status": "completed"
    },
    "tags": []
   },
   "source": [
    "## Filter data to get 3 and 8 out"
   ]
  },
  {
   "cell_type": "code",
   "execution_count": 10,
   "id": "776f7fc7",
   "metadata": {
    "execution": {
     "iopub.execute_input": "2022-02-28T20:10:11.514092Z",
     "iopub.status.busy": "2022-02-28T20:10:11.513596Z",
     "iopub.status.idle": "2022-02-28T20:10:11.529649Z",
     "shell.execute_reply": "2022-02-28T20:10:11.529226Z"
    },
    "papermill": {
     "duration": 0.046723,
     "end_time": "2022-02-28T20:10:11.529747",
     "exception": false,
     "start_time": "2022-02-28T20:10:11.483024",
     "status": "completed"
    },
    "tags": []
   },
   "outputs": [],
   "source": [
    "train_filter = np.where((train_labels == 3 ) | (train_labels == 8))\n",
    "test_filter = np.where((test_labels == 3) | (test_labels == 8))\n",
    "X_train, y_train = train_images[train_filter], train_labels[train_filter]\n",
    "X_test, y_test = test_images[test_filter], test_labels[test_filter]"
   ]
  },
  {
   "cell_type": "markdown",
   "id": "948f0b7e",
   "metadata": {
    "papermill": {
     "duration": 0.027224,
     "end_time": "2022-02-28T20:10:11.584181",
     "exception": false,
     "start_time": "2022-02-28T20:10:11.556957",
     "status": "completed"
    },
    "tags": []
   },
   "source": [
    "We normalize the pizel values in the 0 to 1 range"
   ]
  },
  {
   "cell_type": "code",
   "execution_count": 11,
   "id": "ee4c2166",
   "metadata": {
    "execution": {
     "iopub.execute_input": "2022-02-28T20:10:11.641936Z",
     "iopub.status.busy": "2022-02-28T20:10:11.641412Z",
     "iopub.status.idle": "2022-02-28T20:10:11.681158Z",
     "shell.execute_reply": "2022-02-28T20:10:11.680705Z"
    },
    "papermill": {
     "duration": 0.069962,
     "end_time": "2022-02-28T20:10:11.681274",
     "exception": false,
     "start_time": "2022-02-28T20:10:11.611312",
     "status": "completed"
    },
    "tags": []
   },
   "outputs": [],
   "source": [
    "X_train = X_train/255.\n",
    "X_test = X_test/255."
   ]
  },
  {
   "cell_type": "markdown",
   "id": "ddcf4fab",
   "metadata": {
    "papermill": {
     "duration": 0.027131,
     "end_time": "2022-02-28T20:10:11.735966",
     "exception": false,
     "start_time": "2022-02-28T20:10:11.708835",
     "status": "completed"
    },
    "tags": []
   },
   "source": [
    "And setup the labels as 1 (when the digit is 3) and 0 (when the digit is 8)"
   ]
  },
  {
   "cell_type": "code",
   "execution_count": 12,
   "id": "7dc908f2",
   "metadata": {
    "execution": {
     "iopub.execute_input": "2022-02-28T20:10:11.794047Z",
     "iopub.status.busy": "2022-02-28T20:10:11.793557Z",
     "iopub.status.idle": "2022-02-28T20:10:11.805099Z",
     "shell.execute_reply": "2022-02-28T20:10:11.804677Z"
    },
    "papermill": {
     "duration": 0.041704,
     "end_time": "2022-02-28T20:10:11.805202",
     "exception": false,
     "start_time": "2022-02-28T20:10:11.763498",
     "status": "completed"
    },
    "tags": []
   },
   "outputs": [],
   "source": [
    "y_train = 1*(y_train==3)\n",
    "y_test = 1*(y_test==3)"
   ]
  },
  {
   "cell_type": "code",
   "execution_count": 13,
   "id": "01e4e969",
   "metadata": {
    "execution": {
     "iopub.execute_input": "2022-02-28T20:10:11.862682Z",
     "iopub.status.busy": "2022-02-28T20:10:11.862190Z",
     "iopub.status.idle": "2022-02-28T20:10:11.874123Z",
     "shell.execute_reply": "2022-02-28T20:10:11.873729Z"
    },
    "papermill": {
     "duration": 0.041721,
     "end_time": "2022-02-28T20:10:11.874221",
     "exception": false,
     "start_time": "2022-02-28T20:10:11.832500",
     "status": "completed"
    },
    "tags": []
   },
   "outputs": [
    {
     "data": {
      "text/plain": [
       "((11982, 28, 28), (1984, 28, 28))"
      ]
     },
     "execution_count": 13,
     "metadata": {},
     "output_type": "execute_result"
    }
   ],
   "source": [
    "X_train.shape, X_test.shape"
   ]
  },
  {
   "cell_type": "markdown",
   "id": "5ccf3f85",
   "metadata": {
    "papermill": {
     "duration": 0.027345,
     "end_time": "2022-02-28T20:10:11.928896",
     "exception": false,
     "start_time": "2022-02-28T20:10:11.901551",
     "status": "completed"
    },
    "tags": []
   },
   "source": [
    "We reshape the data to flatten the image pixels into a set of features or co-variates:"
   ]
  },
  {
   "cell_type": "code",
   "execution_count": 14,
   "id": "5286a4a3",
   "metadata": {
    "execution": {
     "iopub.execute_input": "2022-02-28T20:10:11.987477Z",
     "iopub.status.busy": "2022-02-28T20:10:11.986985Z",
     "iopub.status.idle": "2022-02-28T20:10:11.999612Z",
     "shell.execute_reply": "2022-02-28T20:10:11.999217Z"
    },
    "papermill": {
     "duration": 0.043334,
     "end_time": "2022-02-28T20:10:11.999714",
     "exception": false,
     "start_time": "2022-02-28T20:10:11.956380",
     "status": "completed"
    },
    "tags": []
   },
   "outputs": [
    {
     "data": {
      "text/plain": [
       "((11982, 784), (1984, 784))"
      ]
     },
     "execution_count": 14,
     "metadata": {},
     "output_type": "execute_result"
    }
   ],
   "source": [
    "X_train = X_train.reshape(X_train.shape[0], -1)\n",
    "X_test = X_test.reshape(X_test.shape[0], -1)\n",
    "X_train.shape, X_test.shape"
   ]
  },
  {
   "cell_type": "code",
   "execution_count": 15,
   "id": "73c5f88a",
   "metadata": {
    "execution": {
     "iopub.execute_input": "2022-02-28T20:10:12.059438Z",
     "iopub.status.busy": "2022-02-28T20:10:12.058939Z",
     "iopub.status.idle": "2022-02-28T20:10:12.075975Z",
     "shell.execute_reply": "2022-02-28T20:10:12.076393Z"
    },
    "papermill": {
     "duration": 0.048854,
     "end_time": "2022-02-28T20:10:12.076508",
     "exception": false,
     "start_time": "2022-02-28T20:10:12.027654",
     "status": "completed"
    },
    "tags": []
   },
   "outputs": [],
   "source": [
    "#Impoting functions from 'Kudzu'\n",
    "from kudzu.model import Model\n",
    "from kudzu.train import Learner\n",
    "from kudzu.optim import GD\n",
    "from kudzu.data import Data, Sampler,Dataloader\n",
    "\n",
    "from kudzu.callbacks import AccCallback\n",
    "from kudzu.callbacks import ClfCallback\n",
    "\n",
    "from kudzu.loss import MSE\n",
    "\n",
    "from kudzu.layer import Sigmoid,Relu\n",
    "from kudzu.layer import Affine"
   ]
  },
  {
   "cell_type": "markdown",
   "id": "bc01172a",
   "metadata": {
    "papermill": {
     "duration": 0.027867,
     "end_time": "2022-02-28T20:10:12.132186",
     "exception": false,
     "start_time": "2022-02-28T20:10:12.104319",
     "status": "completed"
    },
    "tags": []
   },
   "source": [
    "### Let us create a `Config` class, to store important parameters. \n",
    "This class essentially plays the role of a dictionary."
   ]
  },
  {
   "cell_type": "code",
   "execution_count": 16,
   "id": "978281aa",
   "metadata": {
    "execution": {
     "iopub.execute_input": "2022-02-28T20:10:12.191101Z",
     "iopub.status.busy": "2022-02-28T20:10:12.190597Z",
     "iopub.status.idle": "2022-02-28T20:10:12.203382Z",
     "shell.execute_reply": "2022-02-28T20:10:12.202944Z"
    },
    "papermill": {
     "duration": 0.043628,
     "end_time": "2022-02-28T20:10:12.203484",
     "exception": false,
     "start_time": "2022-02-28T20:10:12.159856",
     "status": "completed"
    },
    "tags": []
   },
   "outputs": [],
   "source": [
    "class Config:\n",
    "    pass\n",
    "config = Config()\n",
    "config.lr = 0.001\n",
    "config.num_epochs = 250\n",
    "config.bs = 50"
   ]
  },
  {
   "cell_type": "markdown",
   "id": "1385fa59",
   "metadata": {
    "papermill": {
     "duration": 0.027709,
     "end_time": "2022-02-28T20:10:12.258943",
     "exception": false,
     "start_time": "2022-02-28T20:10:12.231234",
     "status": "completed"
    },
    "tags": []
   },
   "source": [
    "### Running Models with the Training data\n",
    "Details about the network layers:\n",
    "- A first affine layer has 784 inputs and does 100 affine transforms. These are followed by a Relu\n",
    "- A second affine layer has 100 inputs from the 100 activations of the past layer, and does 100 affine transforms. These are followed by a Relu\n",
    "- A third affine layer has 100 activations and does 2 affine transformations to create an embedding for visualization. There is no non-linearity here.\n",
    "- A final \"logistic regression\" which has an affine transform from 2 inputs to 1 output, which is squeezed through a sigmoid.\n"
   ]
  },
  {
   "cell_type": "code",
   "execution_count": 17,
   "id": "2b9c66db",
   "metadata": {
    "execution": {
     "iopub.execute_input": "2022-02-28T20:10:12.318302Z",
     "iopub.status.busy": "2022-02-28T20:10:12.317809Z",
     "iopub.status.idle": "2022-02-28T20:10:12.329459Z",
     "shell.execute_reply": "2022-02-28T20:10:12.329033Z"
    },
    "papermill": {
     "duration": 0.04269,
     "end_time": "2022-02-28T20:10:12.329561",
     "exception": false,
     "start_time": "2022-02-28T20:10:12.286871",
     "status": "completed"
    },
    "tags": []
   },
   "outputs": [],
   "source": [
    "data = Data(X_train, y_train.reshape(-1,1))\n",
    "sampler = Sampler(data, config.bs, shuffle=True)\n",
    "\n",
    "dl = Dataloader(data, sampler)\n",
    "\n",
    "opt = GD(config.lr)\n",
    "loss = MSE()"
   ]
  },
  {
   "cell_type": "code",
   "execution_count": 18,
   "id": "b275e4c2",
   "metadata": {
    "execution": {
     "iopub.execute_input": "2022-02-28T20:10:12.388208Z",
     "iopub.status.busy": "2022-02-28T20:10:12.387712Z",
     "iopub.status.idle": "2022-02-28T20:10:12.399061Z",
     "shell.execute_reply": "2022-02-28T20:10:12.398655Z"
    },
    "papermill": {
     "duration": 0.041901,
     "end_time": "2022-02-28T20:10:12.399163",
     "exception": false,
     "start_time": "2022-02-28T20:10:12.357262",
     "status": "completed"
    },
    "tags": []
   },
   "outputs": [],
   "source": [
    "training_data_x = X_train\n",
    "testing_data_x = X_test\n",
    "training_data_y = y_train.reshape(-1,1)\n",
    "testing_data_y = y_test.reshape(-1,1)"
   ]
  },
  {
   "cell_type": "code",
   "execution_count": 19,
   "id": "76951160",
   "metadata": {
    "execution": {
     "iopub.execute_input": "2022-02-28T20:10:12.458080Z",
     "iopub.status.busy": "2022-02-28T20:10:12.457579Z",
     "iopub.status.idle": "2022-02-28T20:10:12.472457Z",
     "shell.execute_reply": "2022-02-28T20:10:12.472832Z"
    },
    "papermill": {
     "duration": 0.046162,
     "end_time": "2022-02-28T20:10:12.472949",
     "exception": false,
     "start_time": "2022-02-28T20:10:12.426787",
     "status": "completed"
    },
    "tags": []
   },
   "outputs": [
    {
     "name": "stdout",
     "output_type": "stream",
     "text": [
      "xavier\n",
      "xavier\n",
      "xavier\n",
      "xavier\n",
      "xavier\n"
     ]
    }
   ],
   "source": [
    "layers = [Affine(\"first\", 784, 100), Relu(\"first\"), Affine(\"second\", 100, 100), Relu(\"second\"), Affine(\"third\", 100, 2), Affine(\"last\", 2, 1), Sigmoid(\"last\")]\n",
    "model_nn = Model(layers)\n",
    "model_lr = Model([Affine(\"logits\", 784, 1), Sigmoid(\"sigmoid\")])"
   ]
  },
  {
   "cell_type": "code",
   "execution_count": 20,
   "id": "6eede77a",
   "metadata": {
    "execution": {
     "iopub.execute_input": "2022-02-28T20:10:12.531908Z",
     "iopub.status.busy": "2022-02-28T20:10:12.531418Z",
     "iopub.status.idle": "2022-02-28T20:10:12.543388Z",
     "shell.execute_reply": "2022-02-28T20:10:12.542987Z"
    },
    "papermill": {
     "duration": 0.042594,
     "end_time": "2022-02-28T20:10:12.543486",
     "exception": false,
     "start_time": "2022-02-28T20:10:12.500892",
     "status": "completed"
    },
    "tags": []
   },
   "outputs": [],
   "source": [
    "nn_learner = Learner(loss, model_nn, opt, config.num_epochs)\n",
    "acc_nn = ClfCallback(nn_learner, config.bs, training_data_x , testing_data_x, training_data_y, testing_data_y)\n",
    "nn_learner.set_callbacks([acc_nn])"
   ]
  },
  {
   "cell_type": "code",
   "execution_count": 21,
   "id": "877b6cc7",
   "metadata": {
    "execution": {
     "iopub.execute_input": "2022-02-28T20:10:12.602786Z",
     "iopub.status.busy": "2022-02-28T20:10:12.602284Z",
     "iopub.status.idle": "2022-02-28T20:10:12.614288Z",
     "shell.execute_reply": "2022-02-28T20:10:12.614702Z"
    },
    "papermill": {
     "duration": 0.043355,
     "end_time": "2022-02-28T20:10:12.614815",
     "exception": false,
     "start_time": "2022-02-28T20:10:12.571460",
     "status": "completed"
    },
    "tags": []
   },
   "outputs": [],
   "source": [
    "lr_learner = Learner(loss, model_lr, opt, config.num_epochs)\n",
    "acc_lr = ClfCallback(lr_learner, config.bs, training_data_x , testing_data_x, training_data_y, testing_data_y)\n",
    "lr_learner.set_callbacks([acc_lr])"
   ]
  },
  {
   "cell_type": "code",
   "execution_count": 22,
   "id": "d9b133c3",
   "metadata": {
    "execution": {
     "iopub.execute_input": "2022-02-28T20:10:12.674264Z",
     "iopub.status.busy": "2022-02-28T20:10:12.673763Z",
     "iopub.status.idle": "2022-02-28T20:13:08.193107Z",
     "shell.execute_reply": "2022-02-28T20:13:08.193537Z"
    },
    "papermill": {
     "duration": 175.550818,
     "end_time": "2022-02-28T20:13:08.193664",
     "exception": false,
     "start_time": "2022-02-28T20:10:12.642846",
     "status": "completed"
    },
    "tags": []
   },
   "outputs": [
    {
     "name": "stdout",
     "output_type": "stream",
     "text": [
      "Epoch 0, Loss 0.2521\n",
      "Training Accuracy: 0.4952, Testing Accuracy: 0.4914\n",
      "\n"
     ]
    },
    {
     "name": "stdout",
     "output_type": "stream",
     "text": [
      "Epoch 10, Loss 0.2092\n",
      "Training Accuracy: 0.8333, Testing Accuracy: 0.8478\n",
      "\n"
     ]
    },
    {
     "name": "stdout",
     "output_type": "stream",
     "text": [
      "Epoch 20, Loss 0.1155\n",
      "Training Accuracy: 0.8983, Testing Accuracy: 0.9057\n",
      "\n"
     ]
    },
    {
     "name": "stdout",
     "output_type": "stream",
     "text": [
      "Epoch 30, Loss 0.0681\n",
      "Training Accuracy: 0.9288, Testing Accuracy: 0.9375\n",
      "\n"
     ]
    },
    {
     "name": "stdout",
     "output_type": "stream",
     "text": [
      "Epoch 40, Loss 0.0515\n",
      "Training Accuracy: 0.9430, Testing Accuracy: 0.9511\n",
      "\n"
     ]
    },
    {
     "name": "stdout",
     "output_type": "stream",
     "text": [
      "Epoch 50, Loss 0.0435\n",
      "Training Accuracy: 0.9506, Testing Accuracy: 0.9577\n",
      "\n"
     ]
    },
    {
     "name": "stdout",
     "output_type": "stream",
     "text": [
      "Epoch 60, Loss 0.0388\n",
      "Training Accuracy: 0.9543, Testing Accuracy: 0.9642\n",
      "\n"
     ]
    },
    {
     "name": "stdout",
     "output_type": "stream",
     "text": [
      "Epoch 70, Loss 0.0357\n",
      "Training Accuracy: 0.9589, Testing Accuracy: 0.9667\n",
      "\n"
     ]
    },
    {
     "name": "stdout",
     "output_type": "stream",
     "text": [
      "Epoch 80, Loss 0.0334\n",
      "Training Accuracy: 0.9612, Testing Accuracy: 0.9667\n",
      "\n"
     ]
    },
    {
     "name": "stdout",
     "output_type": "stream",
     "text": [
      "Epoch 90, Loss 0.0316\n",
      "Training Accuracy: 0.9638, Testing Accuracy: 0.9682\n",
      "\n"
     ]
    },
    {
     "name": "stdout",
     "output_type": "stream",
     "text": [
      "Epoch 100, Loss 0.0302\n",
      "Training Accuracy: 0.9654, Testing Accuracy: 0.9698\n",
      "\n"
     ]
    },
    {
     "name": "stdout",
     "output_type": "stream",
     "text": [
      "Epoch 110, Loss 0.029\n",
      "Training Accuracy: 0.9665, Testing Accuracy: 0.9698\n",
      "\n"
     ]
    },
    {
     "name": "stdout",
     "output_type": "stream",
     "text": [
      "Epoch 120, Loss 0.028\n",
      "Training Accuracy: 0.9672, Testing Accuracy: 0.9698\n",
      "\n"
     ]
    },
    {
     "name": "stdout",
     "output_type": "stream",
     "text": [
      "Epoch 130, Loss 0.0271\n",
      "Training Accuracy: 0.9686, Testing Accuracy: 0.9708\n",
      "\n"
     ]
    },
    {
     "name": "stdout",
     "output_type": "stream",
     "text": [
      "Epoch 140, Loss 0.0263\n",
      "Training Accuracy: 0.9695, Testing Accuracy: 0.9708\n",
      "\n"
     ]
    },
    {
     "name": "stdout",
     "output_type": "stream",
     "text": [
      "Epoch 150, Loss 0.0256\n",
      "Training Accuracy: 0.9704, Testing Accuracy: 0.9718\n",
      "\n"
     ]
    },
    {
     "name": "stdout",
     "output_type": "stream",
     "text": [
      "Epoch 160, Loss 0.0249\n",
      "Training Accuracy: 0.9716, Testing Accuracy: 0.9718\n",
      "\n"
     ]
    },
    {
     "name": "stdout",
     "output_type": "stream",
     "text": [
      "Epoch 170, Loss 0.0243\n",
      "Training Accuracy: 0.9722, Testing Accuracy: 0.9718\n",
      "\n"
     ]
    },
    {
     "name": "stdout",
     "output_type": "stream",
     "text": [
      "Epoch 180, Loss 0.0237\n",
      "Training Accuracy: 0.9728, Testing Accuracy: 0.9718\n",
      "\n"
     ]
    },
    {
     "name": "stdout",
     "output_type": "stream",
     "text": [
      "Epoch 190, Loss 0.0232\n",
      "Training Accuracy: 0.9737, Testing Accuracy: 0.9713\n",
      "\n"
     ]
    },
    {
     "name": "stdout",
     "output_type": "stream",
     "text": [
      "Epoch 200, Loss 0.0226\n",
      "Training Accuracy: 0.9745, Testing Accuracy: 0.9708\n",
      "\n"
     ]
    },
    {
     "name": "stdout",
     "output_type": "stream",
     "text": [
      "Epoch 210, Loss 0.0222\n",
      "Training Accuracy: 0.9750, Testing Accuracy: 0.9728\n",
      "\n"
     ]
    },
    {
     "name": "stdout",
     "output_type": "stream",
     "text": [
      "Epoch 220, Loss 0.0217\n",
      "Training Accuracy: 0.9755, Testing Accuracy: 0.9723\n",
      "\n"
     ]
    },
    {
     "name": "stdout",
     "output_type": "stream",
     "text": [
      "Epoch 230, Loss 0.0213\n",
      "Training Accuracy: 0.9758, Testing Accuracy: 0.9733\n",
      "\n"
     ]
    },
    {
     "name": "stdout",
     "output_type": "stream",
     "text": [
      "Epoch 240, Loss 0.0208\n",
      "Training Accuracy: 0.9765, Testing Accuracy: 0.9738\n",
      "\n"
     ]
    },
    {
     "data": {
      "text/plain": [
       "0.0055718052026380045"
      ]
     },
     "execution_count": 22,
     "metadata": {},
     "output_type": "execute_result"
    }
   ],
   "source": [
    "nn_learner.train_loop(dl)"
   ]
  },
  {
   "cell_type": "code",
   "execution_count": 23,
   "id": "e0163366",
   "metadata": {
    "execution": {
     "iopub.execute_input": "2022-02-28T20:13:08.269494Z",
     "iopub.status.busy": "2022-02-28T20:13:08.267750Z",
     "iopub.status.idle": "2022-02-28T20:13:20.513878Z",
     "shell.execute_reply": "2022-02-28T20:13:20.514292Z"
    },
    "papermill": {
     "duration": 12.285253,
     "end_time": "2022-02-28T20:13:20.514420",
     "exception": false,
     "start_time": "2022-02-28T20:13:08.229167",
     "status": "completed"
    },
    "tags": []
   },
   "outputs": [
    {
     "name": "stdout",
     "output_type": "stream",
     "text": [
      "Epoch 0, Loss 0.2615\n",
      "Training Accuracy: 0.5959, Testing Accuracy: 0.5822\n",
      "\n"
     ]
    },
    {
     "name": "stdout",
     "output_type": "stream",
     "text": [
      "Epoch 10, Loss 0.1048\n",
      "Training Accuracy: 0.9100, Testing Accuracy: 0.9189\n",
      "\n"
     ]
    },
    {
     "name": "stdout",
     "output_type": "stream",
     "text": [
      "Epoch 20, Loss 0.0793\n",
      "Training Accuracy: 0.9291, Testing Accuracy: 0.9425\n",
      "\n"
     ]
    },
    {
     "name": "stdout",
     "output_type": "stream",
     "text": [
      "Epoch 30, Loss 0.0681\n",
      "Training Accuracy: 0.9373, Testing Accuracy: 0.9491\n",
      "\n"
     ]
    },
    {
     "name": "stdout",
     "output_type": "stream",
     "text": [
      "Epoch 40, Loss 0.0614\n",
      "Training Accuracy: 0.9426, Testing Accuracy: 0.9526\n",
      "\n"
     ]
    },
    {
     "name": "stdout",
     "output_type": "stream",
     "text": [
      "Epoch 50, Loss 0.0569\n",
      "Training Accuracy: 0.9458, Testing Accuracy: 0.9546\n",
      "\n"
     ]
    },
    {
     "name": "stdout",
     "output_type": "stream",
     "text": [
      "Epoch 60, Loss 0.0537\n",
      "Training Accuracy: 0.9475, Testing Accuracy: 0.9572\n",
      "\n"
     ]
    },
    {
     "name": "stdout",
     "output_type": "stream",
     "text": [
      "Epoch 70, Loss 0.0511\n",
      "Training Accuracy: 0.9487, Testing Accuracy: 0.9592\n",
      "\n"
     ]
    },
    {
     "name": "stdout",
     "output_type": "stream",
     "text": [
      "Epoch 80, Loss 0.0491\n",
      "Training Accuracy: 0.9503, Testing Accuracy: 0.9597\n",
      "\n"
     ]
    },
    {
     "name": "stdout",
     "output_type": "stream",
     "text": [
      "Epoch 90, Loss 0.0474\n",
      "Training Accuracy: 0.9517, Testing Accuracy: 0.9617\n",
      "\n"
     ]
    },
    {
     "name": "stdout",
     "output_type": "stream",
     "text": [
      "Epoch 100, Loss 0.046\n",
      "Training Accuracy: 0.9533, Testing Accuracy: 0.9617\n",
      "\n"
     ]
    },
    {
     "name": "stdout",
     "output_type": "stream",
     "text": [
      "Epoch 110, Loss 0.0448\n",
      "Training Accuracy: 0.9548, Testing Accuracy: 0.9632\n",
      "\n"
     ]
    },
    {
     "name": "stdout",
     "output_type": "stream",
     "text": [
      "Epoch 120, Loss 0.0438\n",
      "Training Accuracy: 0.9557, Testing Accuracy: 0.9652\n",
      "\n"
     ]
    },
    {
     "name": "stdout",
     "output_type": "stream",
     "text": [
      "Epoch 130, Loss 0.0428\n",
      "Training Accuracy: 0.9563, Testing Accuracy: 0.9657\n",
      "\n"
     ]
    },
    {
     "name": "stdout",
     "output_type": "stream",
     "text": [
      "Epoch 140, Loss 0.042\n",
      "Training Accuracy: 0.9566, Testing Accuracy: 0.9662\n",
      "\n"
     ]
    },
    {
     "name": "stdout",
     "output_type": "stream",
     "text": [
      "Epoch 150, Loss 0.0413\n",
      "Training Accuracy: 0.9573, Testing Accuracy: 0.9672\n",
      "\n"
     ]
    },
    {
     "name": "stdout",
     "output_type": "stream",
     "text": [
      "Epoch 160, Loss 0.0406\n",
      "Training Accuracy: 0.9577, Testing Accuracy: 0.9672\n",
      "\n"
     ]
    },
    {
     "name": "stdout",
     "output_type": "stream",
     "text": [
      "Epoch 170, Loss 0.04\n",
      "Training Accuracy: 0.9584, Testing Accuracy: 0.9667\n",
      "\n"
     ]
    },
    {
     "name": "stdout",
     "output_type": "stream",
     "text": [
      "Epoch 180, Loss 0.0394\n",
      "Training Accuracy: 0.9588, Testing Accuracy: 0.9677\n",
      "\n"
     ]
    },
    {
     "name": "stdout",
     "output_type": "stream",
     "text": [
      "Epoch 190, Loss 0.0389\n",
      "Training Accuracy: 0.9594, Testing Accuracy: 0.9677\n",
      "\n"
     ]
    },
    {
     "name": "stdout",
     "output_type": "stream",
     "text": [
      "Epoch 200, Loss 0.0384\n",
      "Training Accuracy: 0.9594, Testing Accuracy: 0.9682\n",
      "\n"
     ]
    },
    {
     "name": "stdout",
     "output_type": "stream",
     "text": [
      "Epoch 210, Loss 0.038\n",
      "Training Accuracy: 0.9595, Testing Accuracy: 0.9688\n",
      "\n"
     ]
    },
    {
     "name": "stdout",
     "output_type": "stream",
     "text": [
      "Epoch 220, Loss 0.0376\n",
      "Training Accuracy: 0.9601, Testing Accuracy: 0.9693\n",
      "\n"
     ]
    },
    {
     "name": "stdout",
     "output_type": "stream",
     "text": [
      "Epoch 230, Loss 0.0372\n",
      "Training Accuracy: 0.9605, Testing Accuracy: 0.9698\n",
      "\n"
     ]
    },
    {
     "name": "stdout",
     "output_type": "stream",
     "text": [
      "Epoch 240, Loss 0.0368\n",
      "Training Accuracy: 0.9609, Testing Accuracy: 0.9693\n",
      "\n"
     ]
    },
    {
     "data": {
      "text/plain": [
       "0.025454320609297275"
      ]
     },
     "execution_count": 23,
     "metadata": {},
     "output_type": "execute_result"
    }
   ],
   "source": [
    "lr_learner.train_loop(dl)"
   ]
  },
  {
   "cell_type": "code",
   "execution_count": 24,
   "id": "ca410940",
   "metadata": {
    "execution": {
     "iopub.execute_input": "2022-02-28T20:13:20.605744Z",
     "iopub.status.busy": "2022-02-28T20:13:20.605224Z",
     "iopub.status.idle": "2022-02-28T20:13:20.832915Z",
     "shell.execute_reply": "2022-02-28T20:13:20.832500Z"
    },
    "papermill": {
     "duration": 0.275779,
     "end_time": "2022-02-28T20:13:20.833022",
     "exception": false,
     "start_time": "2022-02-28T20:13:20.557243",
     "status": "completed"
    },
    "tags": []
   },
   "outputs": [
    {
     "data": {
      "text/plain": [
       "<matplotlib.legend.Legend at 0x7fce63fe8d68>"
      ]
     },
     "execution_count": 24,
     "metadata": {},
     "output_type": "execute_result"
    },
    {
     "data": {
      "image/png": "[encoded data removed]",
      "text/plain": [
       "<Figure size 1080x720 with 1 Axes>"
      ]
     },
     "metadata": {
      "needs_background": "light"
     },
     "output_type": "display_data"
    }
   ],
   "source": [
    "#comparing the results of NN and LR\n",
    "plt.figure(figsize=(15,10))\n",
    "\n",
    "# Neural Network plots\n",
    "plt.plot(acc_nn.accuracies, 'r-', label = \"Training Accuracies - NN\")\n",
    "plt.plot(acc_nn.test_accuracies, 'g-', label = \"Testing Accuracies - NN\")\n",
    "\n",
    "# Logistic Regression plots\n",
    "plt.plot(acc_lr.accuracies, 'k-', label = \"Training Accuracies - LR\")\n",
    "plt.plot(acc_lr.test_accuracies, 'b-', label = \"Testing Accuracies - LR\")\n",
    "plt.legend()"
   ]
  },
  {
   "cell_type": "markdown",
   "id": "80dfb35c",
   "metadata": {
    "papermill": {
     "duration": 0.043454,
     "end_time": "2022-02-28T20:13:20.920077",
     "exception": false,
     "start_time": "2022-02-28T20:13:20.876623",
     "status": "completed"
    },
    "tags": []
   },
   "source": [
    "#### Plotting the outputs of this layer of the NN.\n"
   ]
  },
  {
   "cell_type": "code",
   "execution_count": 25,
   "id": "45eb2ff5",
   "metadata": {
    "execution": {
     "iopub.execute_input": "2022-02-28T20:13:21.010254Z",
     "iopub.status.busy": "2022-02-28T20:13:21.009743Z",
     "iopub.status.idle": "2022-02-28T20:13:21.045469Z",
     "shell.execute_reply": "2022-02-28T20:13:21.046108Z"
    },
    "papermill": {
     "duration": 0.08281,
     "end_time": "2022-02-28T20:13:21.046231",
     "exception": false,
     "start_time": "2022-02-28T20:13:20.963421",
     "status": "completed"
    },
    "tags": []
   },
   "outputs": [],
   "source": [
    "new_model = Model(layers[:-2])\n",
    "testing_plot = new_model(testing_data_x)"
   ]
  },
  {
   "cell_type": "code",
   "execution_count": 26,
   "id": "4c0a5485",
   "metadata": {
    "execution": {
     "iopub.execute_input": "2022-02-28T20:13:21.142176Z",
     "iopub.status.busy": "2022-02-28T20:13:21.141074Z",
     "iopub.status.idle": "2022-02-28T20:13:21.356141Z",
     "shell.execute_reply": "2022-02-28T20:13:21.355706Z"
    },
    "papermill": {
     "duration": 0.26546,
     "end_time": "2022-02-28T20:13:21.356245",
     "exception": false,
     "start_time": "2022-02-28T20:13:21.090785",
     "status": "completed"
    },
    "tags": []
   },
   "outputs": [
    {
     "data": {
      "text/plain": [
       "Text(0.5, 1.0, 'Outputs')"
      ]
     },
     "execution_count": 26,
     "metadata": {},
     "output_type": "execute_result"
    },
    {
     "data": {
      "image/png": "[encoded data removed]",
      "text/plain": [
       "<Figure size 576x504 with 1 Axes>"
      ]
     },
     "metadata": {
      "needs_background": "light"
     },
     "output_type": "display_data"
    }
   ],
   "source": [
    "# Plotting the scatter plot of points and color coding by class\n",
    "plt.figure(figsize=(8,7))\n",
    "plt.scatter(testing_plot[:,0], testing_plot[:,1], alpha = 0.1, c = y_test.ravel());\n",
    "plt.title('Outputs')"
   ]
  },
  {
   "cell_type": "markdown",
   "id": "a74fcf8f",
   "metadata": {
    "papermill": {
     "duration": 0.066221,
     "end_time": "2022-02-28T20:13:21.468908",
     "exception": false,
     "start_time": "2022-02-28T20:13:21.402687",
     "status": "completed"
    },
    "tags": []
   },
   "source": [
    "Probability contours"
   ]
  },
  {
   "cell_type": "code",
   "execution_count": 27,
   "id": "d0afc8e3",
   "metadata": {
    "execution": {
     "iopub.execute_input": "2022-02-28T20:13:21.565813Z",
     "iopub.status.busy": "2022-02-28T20:13:21.563867Z",
     "iopub.status.idle": "2022-02-28T20:13:21.574929Z",
     "shell.execute_reply": "2022-02-28T20:13:21.574514Z"
    },
    "papermill": {
     "duration": 0.05993,
     "end_time": "2022-02-28T20:13:21.575025",
     "exception": false,
     "start_time": "2022-02-28T20:13:21.515095",
     "status": "completed"
    },
    "tags": []
   },
   "outputs": [],
   "source": [
    "model_prob = Model(layers[-2:]) "
   ]
  },
  {
   "cell_type": "code",
   "execution_count": 28,
   "id": "9b96e238",
   "metadata": {
    "execution": {
     "iopub.execute_input": "2022-02-28T20:13:21.670929Z",
     "iopub.status.busy": "2022-02-28T20:13:21.670432Z",
     "iopub.status.idle": "2022-02-28T20:13:21.682388Z",
     "shell.execute_reply": "2022-02-28T20:13:21.682786Z"
    },
    "papermill": {
     "duration": 0.0617,
     "end_time": "2022-02-28T20:13:21.682906",
     "exception": false,
     "start_time": "2022-02-28T20:13:21.621206",
     "status": "completed"
    },
    "tags": []
   },
   "outputs": [],
   "source": [
    "#creating the x and y ranges according to the above generated plot.\n",
    "x_range = np.linspace(-4, 1, 100) \n",
    "y_range = np.linspace(-6, 6, 100) \n",
    "x_grid, y_grid = np.meshgrid(x_range, y_range) # x_grid and y_grig are of size 100 X 100\n",
    "\n",
    "# converting x_grid and y_grid to continuous arrays\n",
    "x_gridflat = np.ravel(x_grid)\n",
    "y_gridflat = np.ravel(y_grid)\n",
    "\n",
    "# The last layer of the current model takes two columns as input. Hence transpose of np.vstack() is required.\n",
    "X = np.vstack((x_gridflat, y_gridflat)).T\n",
    "\n",
    "prob_contour = model_prob(X).reshape(100,100) "
   ]
  },
  {
   "cell_type": "code",
   "execution_count": 29,
   "id": "da72499a",
   "metadata": {
    "execution": {
     "iopub.execute_input": "2022-02-28T20:13:21.778891Z",
     "iopub.status.busy": "2022-02-28T20:13:21.778380Z",
     "iopub.status.idle": "2022-02-28T20:13:22.019664Z",
     "shell.execute_reply": "2022-02-28T20:13:22.019258Z"
    },
    "papermill": {
     "duration": 0.29032,
     "end_time": "2022-02-28T20:13:22.019770",
     "exception": false,
     "start_time": "2022-02-28T20:13:21.729450",
     "status": "completed"
    },
    "tags": []
   },
   "outputs": [
    {
     "data": {
      "image/png": "[encoded data removed]",
      "text/plain": [
       "<Figure size 720x648 with 1 Axes>"
      ]
     },
     "metadata": {
      "needs_background": "light"
     },
     "output_type": "display_data"
    }
   ],
   "source": [
    "plt.figure(figsize=(10,9))\n",
    "plt.scatter(testing_plot[:,0], testing_plot[:,1], alpha = 0.1, c = y_test.ravel())\n",
    "contours = plt.contour(x_grid,y_grid,prob_contour)\n",
    "plt.title('Probability Contours')\n",
    "plt.clabel(contours, inline = True );"
   ]
  },
  {
   "cell_type": "code",
   "execution_count": null,
   "id": "e81b4ac7",
   "metadata": {
    "papermill": {
     "duration": 0.04816,
     "end_time": "2022-02-28T20:13:22.116698",
     "exception": false,
     "start_time": "2022-02-28T20:13:22.068538",
     "status": "completed"
    },
    "tags": []
   },
   "outputs": [],
   "source": []
  }
 ],
 "metadata": {
  "kernelspec": {
   "display_name": "Python 3",
   "language": "python",
   "name": "python3"
  },
  "language_info": {
   "codemirror_mode": {
    "name": "ipython",
    "version": 3
   },
   "file_extension": ".py",
   "mimetype": "text/x-python",
   "name": "python",
   "nbconvert_exporter": "python",
   "pygments_lexer": "ipython3",
   "version": "3.6.15"
  },
  "papermill": {
   "default_parameters": {},
   "duration": 196.009031,
   "end_time": "2022-02-28T20:13:22.482382",
   "environment_variables": {},
   "exception": null,
   "input_path": "2020-08-11-part2.ipynb",
   "output_path": "2020-08-11-part2.ipynb",
   "parameters": {},
   "start_time": "2022-02-28T20:10:06.473351",
   "version": "2.3.3"
  }
 },
 "nbformat": 4,
 "nbformat_minor": 5
}