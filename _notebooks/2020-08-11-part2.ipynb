{
 "cells": [
  {
   "cell_type": "markdown",
   "id": "98380cd3",
   "metadata": {
    "papermill": {
     "duration": 0.036763,
     "end_time": "2022-11-08T10:11:58.519877",
     "exception": false,
     "start_time": "2022-11-08T10:11:58.483114",
     "status": "completed"
    },
    "tags": []
   },
   "source": [
    "# Distinguish Your Own Digits (DYOD)"
   ]
  },
  {
   "cell_type": "markdown",
   "id": "ef31240d",
   "metadata": {
    "papermill": {
     "duration": 0.025845,
     "end_time": "2022-11-08T10:11:58.575433",
     "exception": false,
     "start_time": "2022-11-08T10:11:58.549588",
     "status": "completed"
    },
    "tags": []
   },
   "source": [
    "You are going to write a classifier that distinguishes between the number 3 and number 8."
   ]
  },
  {
   "cell_type": "code",
   "execution_count": 1,
   "id": "b15c8646",
   "metadata": {
    "execution": {
     "iopub.execute_input": "2022-11-08T10:11:58.639138Z",
     "iopub.status.busy": "2022-11-08T10:11:58.638359Z",
     "iopub.status.idle": "2022-11-08T10:11:58.650774Z",
     "shell.execute_reply": "2022-11-08T10:11:58.650193Z"
    },
    "papermill": {
     "duration": 0.050724,
     "end_time": "2022-11-08T10:11:58.650937",
     "exception": false,
     "start_time": "2022-11-08T10:11:58.600213",
     "status": "completed"
    },
    "tags": []
   },
   "outputs": [],
   "source": [
    "%load_ext autoreload\n",
    "%autoreload 2"
   ]
  },
  {
   "cell_type": "code",
   "execution_count": 2,
   "id": "22ef38dc",
   "metadata": {
    "execution": {
     "iopub.execute_input": "2022-11-08T10:11:58.715813Z",
     "iopub.status.busy": "2022-11-08T10:11:58.715155Z",
     "iopub.status.idle": "2022-11-08T10:11:59.344805Z",
     "shell.execute_reply": "2022-11-08T10:11:59.344201Z"
    },
    "papermill": {
     "duration": 0.667486,
     "end_time": "2022-11-08T10:11:59.344931",
     "exception": false,
     "start_time": "2022-11-08T10:11:58.677445",
     "status": "completed"
    },
    "tags": []
   },
   "outputs": [],
   "source": [
    "%matplotlib inline\n",
    "import numpy as np\n",
    "import matplotlib.pyplot as plt\n",
    "import pandas as pd"
   ]
  },
  {
   "cell_type": "markdown",
   "id": "ba036198",
   "metadata": {
    "papermill": {
     "duration": 0.025347,
     "end_time": "2022-11-08T10:11:59.395008",
     "exception": false,
     "start_time": "2022-11-08T10:11:59.369661",
     "status": "completed"
    },
    "tags": []
   },
   "source": [
    "From the command line run `pip install mnist`. This is a library that will help you bring down the mnist dataset. If you run this from a notebook, you need to put  `!pip install mnist` in a cell by itself."
   ]
  },
  {
   "cell_type": "code",
   "execution_count": 3,
   "id": "bb6ad8a1",
   "metadata": {
    "execution": {
     "iopub.execute_input": "2022-11-08T10:11:59.447928Z",
     "iopub.status.busy": "2022-11-08T10:11:59.447241Z",
     "iopub.status.idle": "2022-11-08T10:12:02.132925Z",
     "shell.execute_reply": "2022-11-08T10:12:02.132167Z"
    },
    "papermill": {
     "duration": 2.7147,
     "end_time": "2022-11-08T10:12:02.133094",
     "exception": false,
     "start_time": "2022-11-08T10:11:59.418394",
     "status": "completed"
    },
    "tags": []
   },
   "outputs": [
    {
     "name": "stdout",
     "output_type": "stream",
     "text": [
      "Collecting mnist\r\n"
     ]
    },
    {
     "name": "stdout",
     "output_type": "stream",
     "text": [
      "  Downloading mnist-0.2.2-py2.py3-none-any.whl (3.5 kB)\r\n"
     ]
    },
    {
     "name": "stdout",
     "output_type": "stream",
     "text": [
      "Requirement already satisfied: numpy in /opt/hostedtoolcache/Python/3.6.15/x64/lib/python3.6/site-packages (from mnist) (1.19.5)\r\n"
     ]
    },
    {
     "name": "stdout",
     "output_type": "stream",
     "text": [
      "Installing collected packages: mnist\r\n"
     ]
    },
    {
     "name": "stdout",
     "output_type": "stream",
     "text": [
      "Successfully installed mnist-0.2.2\r\n"
     ]
    }
   ],
   "source": [
    "!pip install mnist"
   ]
  },
  {
   "cell_type": "markdown",
   "id": "69df9c9a",
   "metadata": {
    "papermill": {
     "duration": 0.026237,
     "end_time": "2022-11-08T10:12:02.185880",
     "exception": false,
     "start_time": "2022-11-08T10:12:02.159643",
     "status": "completed"
    },
    "tags": []
   },
   "source": [
    "## Preparing the Data"
   ]
  },
  {
   "cell_type": "code",
   "execution_count": 4,
   "id": "7f69d806",
   "metadata": {
    "execution": {
     "iopub.execute_input": "2022-11-08T10:12:02.251422Z",
     "iopub.status.busy": "2022-11-08T10:12:02.250734Z",
     "iopub.status.idle": "2022-11-08T10:12:02.269151Z",
     "shell.execute_reply": "2022-11-08T10:12:02.268722Z"
    },
    "papermill": {
     "duration": 0.050962,
     "end_time": "2022-11-08T10:12:02.269248",
     "exception": false,
     "start_time": "2022-11-08T10:12:02.218286",
     "status": "completed"
    },
    "tags": []
   },
   "outputs": [],
   "source": [
    "import mnist"
   ]
  },
  {
   "cell_type": "code",
   "execution_count": 5,
   "id": "a411e44f",
   "metadata": {
    "execution": {
     "iopub.execute_input": "2022-11-08T10:12:02.330221Z",
     "iopub.status.busy": "2022-11-08T10:12:02.329515Z",
     "iopub.status.idle": "2022-11-08T10:12:02.866576Z",
     "shell.execute_reply": "2022-11-08T10:12:02.865950Z"
    },
    "papermill": {
     "duration": 0.570297,
     "end_time": "2022-11-08T10:12:02.866727",
     "exception": false,
     "start_time": "2022-11-08T10:12:02.296430",
     "status": "completed"
    },
    "tags": []
   },
   "outputs": [],
   "source": [
    "train_images = mnist.train_images()\n",
    "train_labels = mnist.train_labels()"
   ]
  },
  {
   "cell_type": "code",
   "execution_count": 6,
   "id": "dceab3a5",
   "metadata": {
    "execution": {
     "iopub.execute_input": "2022-11-08T10:12:02.930271Z",
     "iopub.status.busy": "2022-11-08T10:12:02.929586Z",
     "iopub.status.idle": "2022-11-08T10:12:02.946456Z",
     "shell.execute_reply": "2022-11-08T10:12:02.945899Z"
    },
    "papermill": {
     "duration": 0.052411,
     "end_time": "2022-11-08T10:12:02.946574",
     "exception": false,
     "start_time": "2022-11-08T10:12:02.894163",
     "status": "completed"
    },
    "tags": []
   },
   "outputs": [
    {
     "data": {
      "text/plain": [
       "((60000, 28, 28), (60000,))"
      ]
     },
     "execution_count": 6,
     "metadata": {},
     "output_type": "execute_result"
    }
   ],
   "source": [
    "train_images.shape, train_labels.shape"
   ]
  },
  {
   "cell_type": "code",
   "execution_count": 7,
   "id": "f50dc2bb",
   "metadata": {
    "execution": {
     "iopub.execute_input": "2022-11-08T10:12:03.005019Z",
     "iopub.status.busy": "2022-11-08T10:12:03.004452Z",
     "iopub.status.idle": "2022-11-08T10:12:03.172006Z",
     "shell.execute_reply": "2022-11-08T10:12:03.171387Z"
    },
    "papermill": {
     "duration": 0.198235,
     "end_time": "2022-11-08T10:12:03.172156",
     "exception": false,
     "start_time": "2022-11-08T10:12:02.973921",
     "status": "completed"
    },
    "tags": []
   },
   "outputs": [],
   "source": [
    "test_images = mnist.test_images()\n",
    "test_labels = mnist.test_labels()"
   ]
  },
  {
   "cell_type": "code",
   "execution_count": 8,
   "id": "fc38cf1b",
   "metadata": {
    "execution": {
     "iopub.execute_input": "2022-11-08T10:12:03.237064Z",
     "iopub.status.busy": "2022-11-08T10:12:03.236360Z",
     "iopub.status.idle": "2022-11-08T10:12:03.252247Z",
     "shell.execute_reply": "2022-11-08T10:12:03.252800Z"
    },
    "papermill": {
     "duration": 0.052633,
     "end_time": "2022-11-08T10:12:03.252942",
     "exception": false,
     "start_time": "2022-11-08T10:12:03.200309",
     "status": "completed"
    },
    "tags": []
   },
   "outputs": [
    {
     "data": {
      "text/plain": [
       "((10000, 28, 28), (10000,))"
      ]
     },
     "execution_count": 8,
     "metadata": {},
     "output_type": "execute_result"
    }
   ],
   "source": [
    "test_images.shape, test_labels.shape"
   ]
  },
  {
   "cell_type": "code",
   "execution_count": 9,
   "id": "f9ed8fe0",
   "metadata": {
    "execution": {
     "iopub.execute_input": "2022-11-08T10:12:03.310653Z",
     "iopub.status.busy": "2022-11-08T10:12:03.310148Z",
     "iopub.status.idle": "2022-11-08T10:12:03.457408Z",
     "shell.execute_reply": "2022-11-08T10:12:03.458134Z"
    },
    "papermill": {
     "duration": 0.178961,
     "end_time": "2022-11-08T10:12:03.458300",
     "exception": false,
     "start_time": "2022-11-08T10:12:03.279339",
     "status": "completed"
    },
    "tags": []
   },
   "outputs": [
    {
     "name": "stdout",
     "output_type": "stream",
     "text": [
      "2\n"
     ]
    },
    {
     "data": {
      "text/plain": [
       "<matplotlib.image.AxesImage at 0x7f7d67a66da0>"
      ]
     },
     "execution_count": 9,
     "metadata": {},
     "output_type": "execute_result"
    },
    {
     "data": {
      "image/png": "[encoded data removed]",
      "text/plain": [
       "<Figure size 432x288 with 1 Axes>"
      ]
     },
     "metadata": {
      "needs_background": "light"
     },
     "output_type": "display_data"
    }
   ],
   "source": [
    "image_index = 7776 # You may select anything up to 60,000\n",
    "print(train_labels[image_index]) \n",
    "plt.imshow(train_images[image_index], cmap='Greys')"
   ]
  },
  {
   "cell_type": "markdown",
   "id": "a8d2388d",
   "metadata": {
    "papermill": {
     "duration": 0.030538,
     "end_time": "2022-11-08T10:12:03.516265",
     "exception": false,
     "start_time": "2022-11-08T10:12:03.485727",
     "status": "completed"
    },
    "tags": []
   },
   "source": [
    "## Filter data to get 3 and 8 out"
   ]
  },
  {
   "cell_type": "code",
   "execution_count": 10,
   "id": "776f7fc7",
   "metadata": {
    "execution": {
     "iopub.execute_input": "2022-11-08T10:12:03.580548Z",
     "iopub.status.busy": "2022-11-08T10:12:03.579827Z",
     "iopub.status.idle": "2022-11-08T10:12:03.603252Z",
     "shell.execute_reply": "2022-11-08T10:12:03.602408Z"
    },
    "papermill": {
     "duration": 0.058,
     "end_time": "2022-11-08T10:12:03.603409",
     "exception": false,
     "start_time": "2022-11-08T10:12:03.545409",
     "status": "completed"
    },
    "tags": []
   },
   "outputs": [],
   "source": [
    "train_filter = np.where((train_labels == 3 ) | (train_labels == 8))\n",
    "test_filter = np.where((test_labels == 3) | (test_labels == 8))\n",
    "X_train, y_train = train_images[train_filter], train_labels[train_filter]\n",
    "X_test, y_test = test_images[test_filter], test_labels[test_filter]"
   ]
  },
  {
   "cell_type": "markdown",
   "id": "948f0b7e",
   "metadata": {
    "papermill": {
     "duration": 0.026677,
     "end_time": "2022-11-08T10:12:03.658653",
     "exception": false,
     "start_time": "2022-11-08T10:12:03.631976",
     "status": "completed"
    },
    "tags": []
   },
   "source": [
    "We normalize the pizel values in the 0 to 1 range"
   ]
  },
  {
   "cell_type": "code",
   "execution_count": 11,
   "id": "ee4c2166",
   "metadata": {
    "execution": {
     "iopub.execute_input": "2022-11-08T10:12:03.722105Z",
     "iopub.status.busy": "2022-11-08T10:12:03.721569Z",
     "iopub.status.idle": "2022-11-08T10:12:03.772733Z",
     "shell.execute_reply": "2022-11-08T10:12:03.771993Z"
    },
    "papermill": {
     "duration": 0.085975,
     "end_time": "2022-11-08T10:12:03.772894",
     "exception": false,
     "start_time": "2022-11-08T10:12:03.686919",
     "status": "completed"
    },
    "tags": []
   },
   "outputs": [],
   "source": [
    "X_train = X_train/255.\n",
    "X_test = X_test/255."
   ]
  },
  {
   "cell_type": "markdown",
   "id": "ddcf4fab",
   "metadata": {
    "papermill": {
     "duration": 0.034318,
     "end_time": "2022-11-08T10:12:03.838718",
     "exception": false,
     "start_time": "2022-11-08T10:12:03.804400",
     "status": "completed"
    },
    "tags": []
   },
   "source": [
    "And setup the labels as 1 (when the digit is 3) and 0 (when the digit is 8)"
   ]
  },
  {
   "cell_type": "code",
   "execution_count": 12,
   "id": "7dc908f2",
   "metadata": {
    "execution": {
     "iopub.execute_input": "2022-11-08T10:12:03.898370Z",
     "iopub.status.busy": "2022-11-08T10:12:03.897784Z",
     "iopub.status.idle": "2022-11-08T10:12:03.914185Z",
     "shell.execute_reply": "2022-11-08T10:12:03.914641Z"
    },
    "papermill": {
     "duration": 0.047905,
     "end_time": "2022-11-08T10:12:03.914792",
     "exception": false,
     "start_time": "2022-11-08T10:12:03.866887",
     "status": "completed"
    },
    "tags": []
   },
   "outputs": [],
   "source": [
    "y_train = 1*(y_train==3)\n",
    "y_test = 1*(y_test==3)"
   ]
  },
  {
   "cell_type": "code",
   "execution_count": 13,
   "id": "01e4e969",
   "metadata": {
    "execution": {
     "iopub.execute_input": "2022-11-08T10:12:03.970980Z",
     "iopub.status.busy": "2022-11-08T10:12:03.970306Z",
     "iopub.status.idle": "2022-11-08T10:12:03.984267Z",
     "shell.execute_reply": "2022-11-08T10:12:03.984664Z"
    },
    "papermill": {
     "duration": 0.044493,
     "end_time": "2022-11-08T10:12:03.984770",
     "exception": false,
     "start_time": "2022-11-08T10:12:03.940277",
     "status": "completed"
    },
    "tags": []
   },
   "outputs": [
    {
     "data": {
      "text/plain": [
       "((11982, 28, 28), (1984, 28, 28))"
      ]
     },
     "execution_count": 13,
     "metadata": {},
     "output_type": "execute_result"
    }
   ],
   "source": [
    "X_train.shape, X_test.shape"
   ]
  },
  {
   "cell_type": "markdown",
   "id": "5ccf3f85",
   "metadata": {
    "papermill": {
     "duration": 0.02544,
     "end_time": "2022-11-08T10:12:04.039454",
     "exception": false,
     "start_time": "2022-11-08T10:12:04.014014",
     "status": "completed"
    },
    "tags": []
   },
   "source": [
    "We reshape the data to flatten the image pixels into a set of features or co-variates:"
   ]
  },
  {
   "cell_type": "code",
   "execution_count": 14,
   "id": "5286a4a3",
   "metadata": {
    "execution": {
     "iopub.execute_input": "2022-11-08T10:12:04.097532Z",
     "iopub.status.busy": "2022-11-08T10:12:04.096942Z",
     "iopub.status.idle": "2022-11-08T10:12:04.114993Z",
     "shell.execute_reply": "2022-11-08T10:12:04.114471Z"
    },
    "papermill": {
     "duration": 0.049217,
     "end_time": "2022-11-08T10:12:04.115111",
     "exception": false,
     "start_time": "2022-11-08T10:12:04.065894",
     "status": "completed"
    },
    "tags": []
   },
   "outputs": [
    {
     "data": {
      "text/plain": [
       "((11982, 784), (1984, 784))"
      ]
     },
     "execution_count": 14,
     "metadata": {},
     "output_type": "execute_result"
    }
   ],
   "source": [
    "X_train = X_train.reshape(X_train.shape[0], -1)\n",
    "X_test = X_test.reshape(X_test.shape[0], -1)\n",
    "X_train.shape, X_test.shape"
   ]
  },
  {
   "cell_type": "code",
   "execution_count": 15,
   "id": "73c5f88a",
   "metadata": {
    "execution": {
     "iopub.execute_input": "2022-11-08T10:12:04.182791Z",
     "iopub.status.busy": "2022-11-08T10:12:04.182076Z",
     "iopub.status.idle": "2022-11-08T10:12:04.211023Z",
     "shell.execute_reply": "2022-11-08T10:12:04.210460Z"
    },
    "papermill": {
     "duration": 0.065689,
     "end_time": "2022-11-08T10:12:04.211162",
     "exception": false,
     "start_time": "2022-11-08T10:12:04.145473",
     "status": "completed"
    },
    "tags": []
   },
   "outputs": [],
   "source": [
    "#Impoting functions from 'Kudzu'\n",
    "from kudzu.model import Model\n",
    "from kudzu.train import Learner\n",
    "from kudzu.optim import GD\n",
    "from kudzu.data import Data, Sampler,Dataloader\n",
    "\n",
    "from kudzu.callbacks import AccCallback\n",
    "from kudzu.callbacks import ClfCallback\n",
    "\n",
    "from kudzu.loss import MSE\n",
    "\n",
    "from kudzu.layer import Sigmoid,Relu\n",
    "from kudzu.layer import Affine"
   ]
  },
  {
   "cell_type": "markdown",
   "id": "bc01172a",
   "metadata": {
    "papermill": {
     "duration": 0.02943,
     "end_time": "2022-11-08T10:12:04.270379",
     "exception": false,
     "start_time": "2022-11-08T10:12:04.240949",
     "status": "completed"
    },
    "tags": []
   },
   "source": [
    "### Let us create a `Config` class, to store important parameters. \n",
    "This class essentially plays the role of a dictionary."
   ]
  },
  {
   "cell_type": "code",
   "execution_count": 16,
   "id": "978281aa",
   "metadata": {
    "execution": {
     "iopub.execute_input": "2022-11-08T10:12:04.332240Z",
     "iopub.status.busy": "2022-11-08T10:12:04.331727Z",
     "iopub.status.idle": "2022-11-08T10:12:04.347694Z",
     "shell.execute_reply": "2022-11-08T10:12:04.347235Z"
    },
    "papermill": {
     "duration": 0.0504,
     "end_time": "2022-11-08T10:12:04.347804",
     "exception": false,
     "start_time": "2022-11-08T10:12:04.297404",
     "status": "completed"
    },
    "tags": []
   },
   "outputs": [],
   "source": [
    "class Config:\n",
    "    pass\n",
    "config = Config()\n",
    "config.lr = 0.001\n",
    "config.num_epochs = 250\n",
    "config.bs = 50"
   ]
  },
  {
   "cell_type": "markdown",
   "id": "1385fa59",
   "metadata": {
    "papermill": {
     "duration": 0.026372,
     "end_time": "2022-11-08T10:12:04.400165",
     "exception": false,
     "start_time": "2022-11-08T10:12:04.373793",
     "status": "completed"
    },
    "tags": []
   },
   "source": [
    "### Running Models with the Training data\n",
    "Details about the network layers:\n",
    "- A first affine layer has 784 inputs and does 100 affine transforms. These are followed by a Relu\n",
    "- A second affine layer has 100 inputs from the 100 activations of the past layer, and does 100 affine transforms. These are followed by a Relu\n",
    "- A third affine layer has 100 activations and does 2 affine transformations to create an embedding for visualization. There is no non-linearity here.\n",
    "- A final \"logistic regression\" which has an affine transform from 2 inputs to 1 output, which is squeezed through a sigmoid.\n"
   ]
  },
  {
   "cell_type": "code",
   "execution_count": 17,
   "id": "2b9c66db",
   "metadata": {
    "execution": {
     "iopub.execute_input": "2022-11-08T10:12:04.463943Z",
     "iopub.status.busy": "2022-11-08T10:12:04.463239Z",
     "iopub.status.idle": "2022-11-08T10:12:04.477386Z",
     "shell.execute_reply": "2022-11-08T10:12:04.476907Z"
    },
    "papermill": {
     "duration": 0.045111,
     "end_time": "2022-11-08T10:12:04.477479",
     "exception": false,
     "start_time": "2022-11-08T10:12:04.432368",
     "status": "completed"
    },
    "tags": []
   },
   "outputs": [],
   "source": [
    "data = Data(X_train, y_train.reshape(-1,1))\n",
    "sampler = Sampler(data, config.bs, shuffle=True)\n",
    "\n",
    "dl = Dataloader(data, sampler)\n",
    "\n",
    "opt = GD(config.lr)\n",
    "loss = MSE()"
   ]
  },
  {
   "cell_type": "code",
   "execution_count": 18,
   "id": "b275e4c2",
   "metadata": {
    "execution": {
     "iopub.execute_input": "2022-11-08T10:12:04.532693Z",
     "iopub.status.busy": "2022-11-08T10:12:04.532041Z",
     "iopub.status.idle": "2022-11-08T10:12:04.544117Z",
     "shell.execute_reply": "2022-11-08T10:12:04.543721Z"
    },
    "papermill": {
     "duration": 0.044189,
     "end_time": "2022-11-08T10:12:04.544209",
     "exception": false,
     "start_time": "2022-11-08T10:12:04.500020",
     "status": "completed"
    },
    "tags": []
   },
   "outputs": [],
   "source": [
    "training_data_x = X_train\n",
    "testing_data_x = X_test\n",
    "training_data_y = y_train.reshape(-1,1)\n",
    "testing_data_y = y_test.reshape(-1,1)"
   ]
  },
  {
   "cell_type": "code",
   "execution_count": 19,
   "id": "76951160",
   "metadata": {
    "execution": {
     "iopub.execute_input": "2022-11-08T10:12:04.606191Z",
     "iopub.status.busy": "2022-11-08T10:12:04.605599Z",
     "iopub.status.idle": "2022-11-08T10:12:04.627967Z",
     "shell.execute_reply": "2022-11-08T10:12:04.627287Z"
    },
    "papermill": {
     "duration": 0.057668,
     "end_time": "2022-11-08T10:12:04.628097",
     "exception": false,
     "start_time": "2022-11-08T10:12:04.570429",
     "status": "completed"
    },
    "tags": []
   },
   "outputs": [
    {
     "name": "stdout",
     "output_type": "stream",
     "text": [
      "xavier\n",
      "xavier\n",
      "xavier\n",
      "xavier\n",
      "xavier\n"
     ]
    }
   ],
   "source": [
    "layers = [Affine(\"first\", 784, 100), Relu(\"first\"), Affine(\"second\", 100, 100), Relu(\"second\"), Affine(\"third\", 100, 2), Affine(\"last\", 2, 1), Sigmoid(\"last\")]\n",
    "model_nn = Model(layers)\n",
    "model_lr = Model([Affine(\"logits\", 784, 1), Sigmoid(\"sigmoid\")])"
   ]
  },
  {
   "cell_type": "code",
   "execution_count": 20,
   "id": "6eede77a",
   "metadata": {
    "execution": {
     "iopub.execute_input": "2022-11-08T10:12:04.692444Z",
     "iopub.status.busy": "2022-11-08T10:12:04.691809Z",
     "iopub.status.idle": "2022-11-08T10:12:04.706372Z",
     "shell.execute_reply": "2022-11-08T10:12:04.705842Z"
    },
    "papermill": {
     "duration": 0.049334,
     "end_time": "2022-11-08T10:12:04.706490",
     "exception": false,
     "start_time": "2022-11-08T10:12:04.657156",
     "status": "completed"
    },
    "tags": []
   },
   "outputs": [],
   "source": [
    "nn_learner = Learner(loss, model_nn, opt, config.num_epochs)\n",
    "acc_nn = ClfCallback(nn_learner, config.bs, training_data_x , testing_data_x, training_data_y, testing_data_y)\n",
    "nn_learner.set_callbacks([acc_nn])"
   ]
  },
  {
   "cell_type": "code",
   "execution_count": 21,
   "id": "877b6cc7",
   "metadata": {
    "execution": {
     "iopub.execute_input": "2022-11-08T10:12:04.771118Z",
     "iopub.status.busy": "2022-11-08T10:12:04.770459Z",
     "iopub.status.idle": "2022-11-08T10:12:04.785586Z",
     "shell.execute_reply": "2022-11-08T10:12:04.784998Z"
    },
    "papermill": {
     "duration": 0.049995,
     "end_time": "2022-11-08T10:12:04.785697",
     "exception": false,
     "start_time": "2022-11-08T10:12:04.735702",
     "status": "completed"
    },
    "tags": []
   },
   "outputs": [],
   "source": [
    "lr_learner = Learner(loss, model_lr, opt, config.num_epochs)\n",
    "acc_lr = ClfCallback(lr_learner, config.bs, training_data_x , testing_data_x, training_data_y, testing_data_y)\n",
    "lr_learner.set_callbacks([acc_lr])"
   ]
  },
  {
   "cell_type": "code",
   "execution_count": 22,
   "id": "d9b133c3",
   "metadata": {
    "execution": {
     "iopub.execute_input": "2022-11-08T10:12:04.850779Z",
     "iopub.status.busy": "2022-11-08T10:12:04.850092Z",
     "iopub.status.idle": "2022-11-08T10:13:31.227139Z",
     "shell.execute_reply": "2022-11-08T10:13:31.228178Z"
    },
    "papermill": {
     "duration": 86.412525,
     "end_time": "2022-11-08T10:13:31.228353",
     "exception": false,
     "start_time": "2022-11-08T10:12:04.815828",
     "status": "completed"
    },
    "tags": []
   },
   "outputs": [
    {
     "name": "stdout",
     "output_type": "stream",
     "text": [
      "Epoch 0, Loss 0.257\n",
      "Training Accuracy: 0.5276, Testing Accuracy: 0.5373\n",
      "\n"
     ]
    },
    {
     "name": "stdout",
     "output_type": "stream",
     "text": [
      "Epoch 10, Loss 0.1229\n",
      "Training Accuracy: 0.9002, Testing Accuracy: 0.9123\n",
      "\n"
     ]
    },
    {
     "name": "stdout",
     "output_type": "stream",
     "text": [
      "Epoch 20, Loss 0.0678\n",
      "Training Accuracy: 0.9326, Testing Accuracy: 0.9435\n",
      "\n"
     ]
    },
    {
     "name": "stdout",
     "output_type": "stream",
     "text": [
      "Epoch 30, Loss 0.0505\n",
      "Training Accuracy: 0.9457, Testing Accuracy: 0.9567\n",
      "\n"
     ]
    },
    {
     "name": "stdout",
     "output_type": "stream",
     "text": [
      "Epoch 40, Loss 0.0424\n",
      "Training Accuracy: 0.9539, Testing Accuracy: 0.9632\n",
      "\n"
     ]
    },
    {
     "name": "stdout",
     "output_type": "stream",
     "text": [
      "Epoch 50, Loss 0.0378\n",
      "Training Accuracy: 0.9576, Testing Accuracy: 0.9672\n",
      "\n"
     ]
    },
    {
     "name": "stdout",
     "output_type": "stream",
     "text": [
      "Epoch 60, Loss 0.0347\n",
      "Training Accuracy: 0.9607, Testing Accuracy: 0.9677\n",
      "\n"
     ]
    },
    {
     "name": "stdout",
     "output_type": "stream",
     "text": [
      "Epoch 70, Loss 0.0324\n",
      "Training Accuracy: 0.9631, Testing Accuracy: 0.9672\n",
      "\n"
     ]
    },
    {
     "name": "stdout",
     "output_type": "stream",
     "text": [
      "Epoch 80, Loss 0.0307\n",
      "Training Accuracy: 0.9643, Testing Accuracy: 0.9677\n",
      "\n"
     ]
    },
    {
     "name": "stdout",
     "output_type": "stream",
     "text": [
      "Epoch 90, Loss 0.0293\n",
      "Training Accuracy: 0.9660, Testing Accuracy: 0.9682\n",
      "\n"
     ]
    },
    {
     "name": "stdout",
     "output_type": "stream",
     "text": [
      "Epoch 100, Loss 0.0281\n",
      "Training Accuracy: 0.9675, Testing Accuracy: 0.9698\n",
      "\n"
     ]
    },
    {
     "name": "stdout",
     "output_type": "stream",
     "text": [
      "Epoch 110, Loss 0.0271\n",
      "Training Accuracy: 0.9681, Testing Accuracy: 0.9703\n",
      "\n"
     ]
    },
    {
     "name": "stdout",
     "output_type": "stream",
     "text": [
      "Epoch 120, Loss 0.0263\n",
      "Training Accuracy: 0.9692, Testing Accuracy: 0.9708\n",
      "\n"
     ]
    },
    {
     "name": "stdout",
     "output_type": "stream",
     "text": [
      "Epoch 130, Loss 0.0255\n",
      "Training Accuracy: 0.9705, Testing Accuracy: 0.9713\n",
      "\n"
     ]
    },
    {
     "name": "stdout",
     "output_type": "stream",
     "text": [
      "Epoch 140, Loss 0.0248\n",
      "Training Accuracy: 0.9720, Testing Accuracy: 0.9718\n",
      "\n"
     ]
    },
    {
     "name": "stdout",
     "output_type": "stream",
     "text": [
      "Epoch 150, Loss 0.0241\n",
      "Training Accuracy: 0.9723, Testing Accuracy: 0.9713\n",
      "\n"
     ]
    },
    {
     "name": "stdout",
     "output_type": "stream",
     "text": [
      "Epoch 160, Loss 0.0235\n",
      "Training Accuracy: 0.9732, Testing Accuracy: 0.9723\n",
      "\n"
     ]
    },
    {
     "name": "stdout",
     "output_type": "stream",
     "text": [
      "Epoch 170, Loss 0.0229\n",
      "Training Accuracy: 0.9734, Testing Accuracy: 0.9713\n",
      "\n"
     ]
    },
    {
     "name": "stdout",
     "output_type": "stream",
     "text": [
      "Epoch 180, Loss 0.0224\n",
      "Training Accuracy: 0.9741, Testing Accuracy: 0.9718\n",
      "\n"
     ]
    },
    {
     "name": "stdout",
     "output_type": "stream",
     "text": [
      "Epoch 190, Loss 0.0219\n",
      "Training Accuracy: 0.9746, Testing Accuracy: 0.9728\n",
      "\n"
     ]
    },
    {
     "name": "stdout",
     "output_type": "stream",
     "text": [
      "Epoch 200, Loss 0.0215\n",
      "Training Accuracy: 0.9756, Testing Accuracy: 0.9733\n",
      "\n"
     ]
    },
    {
     "name": "stdout",
     "output_type": "stream",
     "text": [
      "Epoch 210, Loss 0.021\n",
      "Training Accuracy: 0.9765, Testing Accuracy: 0.9738\n",
      "\n"
     ]
    },
    {
     "name": "stdout",
     "output_type": "stream",
     "text": [
      "Epoch 220, Loss 0.0206\n",
      "Training Accuracy: 0.9767, Testing Accuracy: 0.9743\n",
      "\n"
     ]
    },
    {
     "name": "stdout",
     "output_type": "stream",
     "text": [
      "Epoch 230, Loss 0.0202\n",
      "Training Accuracy: 0.9772, Testing Accuracy: 0.9743\n",
      "\n"
     ]
    },
    {
     "name": "stdout",
     "output_type": "stream",
     "text": [
      "Epoch 240, Loss 0.0198\n",
      "Training Accuracy: 0.9776, Testing Accuracy: 0.9738\n",
      "\n"
     ]
    },
    {
     "data": {
      "text/plain": [
       "0.004512290086310865"
      ]
     },
     "execution_count": 22,
     "metadata": {},
     "output_type": "execute_result"
    }
   ],
   "source": [
    "nn_learner.train_loop(dl)"
   ]
  },
  {
   "cell_type": "code",
   "execution_count": 23,
   "id": "e0163366",
   "metadata": {
    "execution": {
     "iopub.execute_input": "2022-11-08T10:13:31.323493Z",
     "iopub.status.busy": "2022-11-08T10:13:31.322761Z",
     "iopub.status.idle": "2022-11-08T10:13:47.250828Z",
     "shell.execute_reply": "2022-11-08T10:13:47.251823Z"
    },
    "papermill": {
     "duration": 15.98378,
     "end_time": "2022-11-08T10:13:47.252002",
     "exception": false,
     "start_time": "2022-11-08T10:13:31.268222",
     "status": "completed"
    },
    "tags": []
   },
   "outputs": [
    {
     "name": "stdout",
     "output_type": "stream",
     "text": [
      "Epoch 0, Loss 0.2413\n",
      "Training Accuracy: 0.6965, Testing Accuracy: 0.6835\n",
      "\n"
     ]
    },
    {
     "name": "stdout",
     "output_type": "stream",
     "text": [
      "Epoch 10, Loss 0.101\n",
      "Training Accuracy: 0.9196, Testing Accuracy: 0.9380\n",
      "\n"
     ]
    },
    {
     "name": "stdout",
     "output_type": "stream",
     "text": [
      "Epoch 20, Loss 0.0777\n",
      "Training Accuracy: 0.9327, Testing Accuracy: 0.9466\n",
      "\n"
     ]
    },
    {
     "name": "stdout",
     "output_type": "stream",
     "text": [
      "Epoch 30, Loss 0.0672\n",
      "Training Accuracy: 0.9392, Testing Accuracy: 0.9516\n",
      "\n"
     ]
    },
    {
     "name": "stdout",
     "output_type": "stream",
     "text": [
      "Epoch 40, Loss 0.0608\n",
      "Training Accuracy: 0.9434, Testing Accuracy: 0.9572\n",
      "\n"
     ]
    },
    {
     "name": "stdout",
     "output_type": "stream",
     "text": [
      "Epoch 50, Loss 0.0565\n",
      "Training Accuracy: 0.9458, Testing Accuracy: 0.9587\n",
      "\n"
     ]
    },
    {
     "name": "stdout",
     "output_type": "stream",
     "text": [
      "Epoch 60, Loss 0.0533\n",
      "Training Accuracy: 0.9487, Testing Accuracy: 0.9597\n",
      "\n"
     ]
    },
    {
     "name": "stdout",
     "output_type": "stream",
     "text": [
      "Epoch 70, Loss 0.0509\n",
      "Training Accuracy: 0.9497, Testing Accuracy: 0.9602\n",
      "\n"
     ]
    },
    {
     "name": "stdout",
     "output_type": "stream",
     "text": [
      "Epoch 80, Loss 0.0489\n",
      "Training Accuracy: 0.9506, Testing Accuracy: 0.9607\n",
      "\n"
     ]
    },
    {
     "name": "stdout",
     "output_type": "stream",
     "text": [
      "Epoch 90, Loss 0.0472\n",
      "Training Accuracy: 0.9523, Testing Accuracy: 0.9612\n",
      "\n"
     ]
    },
    {
     "name": "stdout",
     "output_type": "stream",
     "text": [
      "Epoch 100, Loss 0.0459\n",
      "Training Accuracy: 0.9533, Testing Accuracy: 0.9617\n",
      "\n"
     ]
    },
    {
     "name": "stdout",
     "output_type": "stream",
     "text": [
      "Epoch 110, Loss 0.0447\n",
      "Training Accuracy: 0.9548, Testing Accuracy: 0.9627\n",
      "\n"
     ]
    },
    {
     "name": "stdout",
     "output_type": "stream",
     "text": [
      "Epoch 120, Loss 0.0436\n",
      "Training Accuracy: 0.9552, Testing Accuracy: 0.9627\n",
      "\n"
     ]
    },
    {
     "name": "stdout",
     "output_type": "stream",
     "text": [
      "Epoch 130, Loss 0.0427\n",
      "Training Accuracy: 0.9564, Testing Accuracy: 0.9647\n",
      "\n"
     ]
    },
    {
     "name": "stdout",
     "output_type": "stream",
     "text": [
      "Epoch 140, Loss 0.0419\n",
      "Training Accuracy: 0.9570, Testing Accuracy: 0.9642\n",
      "\n"
     ]
    },
    {
     "name": "stdout",
     "output_type": "stream",
     "text": [
      "Epoch 150, Loss 0.0412\n",
      "Training Accuracy: 0.9574, Testing Accuracy: 0.9642\n",
      "\n"
     ]
    },
    {
     "name": "stdout",
     "output_type": "stream",
     "text": [
      "Epoch 160, Loss 0.0405\n",
      "Training Accuracy: 0.9584, Testing Accuracy: 0.9642\n",
      "\n"
     ]
    },
    {
     "name": "stdout",
     "output_type": "stream",
     "text": [
      "Epoch 170, Loss 0.0399\n",
      "Training Accuracy: 0.9589, Testing Accuracy: 0.9647\n",
      "\n"
     ]
    },
    {
     "name": "stdout",
     "output_type": "stream",
     "text": [
      "Epoch 180, Loss 0.0394\n",
      "Training Accuracy: 0.9592, Testing Accuracy: 0.9657\n",
      "\n"
     ]
    },
    {
     "name": "stdout",
     "output_type": "stream",
     "text": [
      "Epoch 190, Loss 0.0389\n",
      "Training Accuracy: 0.9597, Testing Accuracy: 0.9657\n",
      "\n"
     ]
    },
    {
     "name": "stdout",
     "output_type": "stream",
     "text": [
      "Epoch 200, Loss 0.0384\n",
      "Training Accuracy: 0.9600, Testing Accuracy: 0.9662\n",
      "\n"
     ]
    },
    {
     "name": "stdout",
     "output_type": "stream",
     "text": [
      "Epoch 210, Loss 0.038\n",
      "Training Accuracy: 0.9603, Testing Accuracy: 0.9662\n",
      "\n"
     ]
    },
    {
     "name": "stdout",
     "output_type": "stream",
     "text": [
      "Epoch 220, Loss 0.0376\n",
      "Training Accuracy: 0.9609, Testing Accuracy: 0.9657\n",
      "\n"
     ]
    },
    {
     "name": "stdout",
     "output_type": "stream",
     "text": [
      "Epoch 230, Loss 0.0372\n",
      "Training Accuracy: 0.9611, Testing Accuracy: 0.9657\n",
      "\n"
     ]
    },
    {
     "name": "stdout",
     "output_type": "stream",
     "text": [
      "Epoch 240, Loss 0.0368\n",
      "Training Accuracy: 0.9615, Testing Accuracy: 0.9657\n",
      "\n"
     ]
    },
    {
     "data": {
      "text/plain": [
       "0.030448728857884286"
      ]
     },
     "execution_count": 23,
     "metadata": {},
     "output_type": "execute_result"
    }
   ],
   "source": [
    "lr_learner.train_loop(dl)"
   ]
  },
  {
   "cell_type": "code",
   "execution_count": 24,
   "id": "ca410940",
   "metadata": {
    "execution": {
     "iopub.execute_input": "2022-11-08T10:13:47.351129Z",
     "iopub.status.busy": "2022-11-08T10:13:47.350475Z",
     "iopub.status.idle": "2022-11-08T10:13:47.577242Z",
     "shell.execute_reply": "2022-11-08T10:13:47.577747Z"
    },
    "papermill": {
     "duration": 0.282433,
     "end_time": "2022-11-08T10:13:47.577948",
     "exception": false,
     "start_time": "2022-11-08T10:13:47.295515",
     "status": "completed"
    },
    "tags": []
   },
   "outputs": [
    {
     "data": {
      "text/plain": [
       "<matplotlib.legend.Legend at 0x7f7d675d44a8>"
      ]
     },
     "execution_count": 24,
     "metadata": {},
     "output_type": "execute_result"
    },
    {
     "data": {
      "image/png": "[encoded data removed]",
      "text/plain": [
       "<Figure size 1080x720 with 1 Axes>"
      ]
     },
     "metadata": {
      "needs_background": "light"
     },
     "output_type": "display_data"
    }
   ],
   "source": [
    "#comparing the results of NN and LR\n",
    "plt.figure(figsize=(15,10))\n",
    "\n",
    "# Neural Network plots\n",
    "plt.plot(acc_nn.accuracies, 'r-', label = \"Training Accuracies - NN\")\n",
    "plt.plot(acc_nn.test_accuracies, 'g-', label = \"Testing Accuracies - NN\")\n",
    "\n",
    "# Logistic Regression plots\n",
    "plt.plot(acc_lr.accuracies, 'k-', label = \"Training Accuracies - LR\")\n",
    "plt.plot(acc_lr.test_accuracies, 'b-', label = \"Testing Accuracies - LR\")\n",
    "plt.legend()"
   ]
  },
  {
   "cell_type": "markdown",
   "id": "80dfb35c",
   "metadata": {
    "papermill": {
     "duration": 0.043334,
     "end_time": "2022-11-08T10:13:47.665715",
     "exception": false,
     "start_time": "2022-11-08T10:13:47.622381",
     "status": "completed"
    },
    "tags": []
   },
   "source": [
    "#### Plotting the outputs of this layer of the NN.\n"
   ]
  },
  {
   "cell_type": "code",
   "execution_count": 25,
   "id": "45eb2ff5",
   "metadata": {
    "execution": {
     "iopub.execute_input": "2022-11-08T10:13:47.755365Z",
     "iopub.status.busy": "2022-11-08T10:13:47.754716Z",
     "iopub.status.idle": "2022-11-08T10:13:47.778856Z",
     "shell.execute_reply": "2022-11-08T10:13:47.778319Z"
    },
    "papermill": {
     "duration": 0.072802,
     "end_time": "2022-11-08T10:13:47.778980",
     "exception": false,
     "start_time": "2022-11-08T10:13:47.706178",
     "status": "completed"
    },
    "tags": []
   },
   "outputs": [],
   "source": [
    "new_model = Model(layers[:-2])\n",
    "testing_plot = new_model(testing_data_x)"
   ]
  },
  {
   "cell_type": "code",
   "execution_count": 26,
   "id": "4c0a5485",
   "metadata": {
    "execution": {
     "iopub.execute_input": "2022-11-08T10:13:47.870463Z",
     "iopub.status.busy": "2022-11-08T10:13:47.869812Z",
     "iopub.status.idle": "2022-11-08T10:13:48.085217Z",
     "shell.execute_reply": "2022-11-08T10:13:48.084263Z"
    },
    "papermill": {
     "duration": 0.261667,
     "end_time": "2022-11-08T10:13:48.085363",
     "exception": false,
     "start_time": "2022-11-08T10:13:47.823696",
     "status": "completed"
    },
    "tags": []
   },
   "outputs": [
    {
     "data": {
      "text/plain": [
       "Text(0.5, 1.0, 'Outputs')"
      ]
     },
     "execution_count": 26,
     "metadata": {},
     "output_type": "execute_result"
    },
    {
     "data": {
      "image/png": "[encoded data removed]",
      "text/plain": [
       "<Figure size 576x504 with 1 Axes>"
      ]
     },
     "metadata": {
      "needs_background": "light"
     },
     "output_type": "display_data"
    }
   ],
   "source": [
    "# Plotting the scatter plot of points and color coding by class\n",
    "plt.figure(figsize=(8,7))\n",
    "plt.scatter(testing_plot[:,0], testing_plot[:,1], alpha = 0.1, c = y_test.ravel());\n",
    "plt.title('Outputs')"
   ]
  },
  {
   "cell_type": "markdown",
   "id": "a74fcf8f",
   "metadata": {
    "papermill": {
     "duration": 0.049227,
     "end_time": "2022-11-08T10:13:48.184111",
     "exception": false,
     "start_time": "2022-11-08T10:13:48.134884",
     "status": "completed"
    },
    "tags": []
   },
   "source": [
    "Probability contours"
   ]
  },
  {
   "cell_type": "code",
   "execution_count": 27,
   "id": "d0afc8e3",
   "metadata": {
    "execution": {
     "iopub.execute_input": "2022-11-08T10:13:48.316093Z",
     "iopub.status.busy": "2022-11-08T10:13:48.315380Z",
     "iopub.status.idle": "2022-11-08T10:13:48.330018Z",
     "shell.execute_reply": "2022-11-08T10:13:48.329353Z"
    },
    "papermill": {
     "duration": 0.068387,
     "end_time": "2022-11-08T10:13:48.330134",
     "exception": false,
     "start_time": "2022-11-08T10:13:48.261747",
     "status": "completed"
    },
    "tags": []
   },
   "outputs": [],
   "source": [
    "model_prob = Model(layers[-2:]) "
   ]
  },
  {
   "cell_type": "code",
   "execution_count": 28,
   "id": "9b96e238",
   "metadata": {
    "execution": {
     "iopub.execute_input": "2022-11-08T10:13:48.430853Z",
     "iopub.status.busy": "2022-11-08T10:13:48.430128Z",
     "iopub.status.idle": "2022-11-08T10:13:48.446134Z",
     "shell.execute_reply": "2022-11-08T10:13:48.446610Z"
    },
    "papermill": {
     "duration": 0.069966,
     "end_time": "2022-11-08T10:13:48.446752",
     "exception": false,
     "start_time": "2022-11-08T10:13:48.376786",
     "status": "completed"
    },
    "tags": []
   },
   "outputs": [],
   "source": [
    "#creating the x and y ranges according to the above generated plot.\n",
    "x_range = np.linspace(-4, 1, 100) \n",
    "y_range = np.linspace(-6, 6, 100) \n",
    "x_grid, y_grid = np.meshgrid(x_range, y_range) # x_grid and y_grig are of size 100 X 100\n",
    "\n",
    "# converting x_grid and y_grid to continuous arrays\n",
    "x_gridflat = np.ravel(x_grid)\n",
    "y_gridflat = np.ravel(y_grid)\n",
    "\n",
    "# The last layer of the current model takes two columns as input. Hence transpose of np.vstack() is required.\n",
    "X = np.vstack((x_gridflat, y_gridflat)).T\n",
    "\n",
    "prob_contour = model_prob(X).reshape(100,100) "
   ]
  },
  {
   "cell_type": "code",
   "execution_count": 29,
   "id": "da72499a",
   "metadata": {
    "execution": {
     "iopub.execute_input": "2022-11-08T10:13:48.541794Z",
     "iopub.status.busy": "2022-11-08T10:13:48.541081Z",
     "iopub.status.idle": "2022-11-08T10:13:48.786886Z",
     "shell.execute_reply": "2022-11-08T10:13:48.787846Z"
    },
    "papermill": {
     "duration": 0.297151,
     "end_time": "2022-11-08T10:13:48.788008",
     "exception": false,
     "start_time": "2022-11-08T10:13:48.490857",
     "status": "completed"
    },
    "tags": []
   },
   "outputs": [
    {
     "data": {
      "image/png": "[encoded data removed]",
      "text/plain": [
       "<Figure size 720x648 with 1 Axes>"
      ]
     },
     "metadata": {
      "needs_background": "light"
     },
     "output_type": "display_data"
    }
   ],
   "source": [
    "plt.figure(figsize=(10,9))\n",
    "plt.scatter(testing_plot[:,0], testing_plot[:,1], alpha = 0.1, c = y_test.ravel())\n",
    "contours = plt.contour(x_grid,y_grid,prob_contour)\n",
    "plt.title('Probability Contours')\n",
    "plt.clabel(contours, inline = True );"
   ]
  },
  {
   "cell_type": "code",
   "execution_count": null,
   "id": "e81b4ac7",
   "metadata": {
    "papermill": {
     "duration": 0.047026,
     "end_time": "2022-11-08T10:13:48.885896",
     "exception": false,
     "start_time": "2022-11-08T10:13:48.838870",
     "status": "completed"
    },
    "tags": []
   },
   "outputs": [],
   "source": []
  }
 ],
 "metadata": {
  "kernelspec": {
   "display_name": "Python 3",
   "language": "python",
   "name": "python3"
  },
  "language_info": {
   "codemirror_mode": {
    "name": "ipython",
    "version": 3
   },
   "file_extension": ".py",
   "mimetype": "text/x-python",
   "name": "python",
   "nbconvert_exporter": "python",
   "pygments_lexer": "ipython3",
   "version": "3.6.15"
  },
  "papermill": {
   "default_parameters": {},
   "duration": 112.162258,
   "end_time": "2022-11-08T10:13:49.353715",
   "environment_variables": {},
   "exception": null,
   "input_path": "2020-08-11-part2.ipynb",
   "output_path": "2020-08-11-part2.ipynb",
   "parameters": {},
   "start_time": "2022-11-08T10:11:57.191457",
   "version": "2.3.3"
  }
 },
 "nbformat": 4,
 "nbformat_minor": 5
}