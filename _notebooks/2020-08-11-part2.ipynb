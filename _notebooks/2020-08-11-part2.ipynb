{
 "cells": [
  {
   "cell_type": "markdown",
   "id": "98380cd3",
   "metadata": {
    "papermill": {
     "duration": 0.037195,
     "end_time": "2022-08-16T10:10:45.942766",
     "exception": false,
     "start_time": "2022-08-16T10:10:45.905571",
     "status": "completed"
    },
    "tags": []
   },
   "source": [
    "# Distinguish Your Own Digits (DYOD)"
   ]
  },
  {
   "cell_type": "markdown",
   "id": "ef31240d",
   "metadata": {
    "papermill": {
     "duration": 0.030913,
     "end_time": "2022-08-16T10:10:46.007483",
     "exception": false,
     "start_time": "2022-08-16T10:10:45.976570",
     "status": "completed"
    },
    "tags": []
   },
   "source": [
    "You are going to write a classifier that distinguishes between the number 3 and number 8."
   ]
  },
  {
   "cell_type": "code",
   "execution_count": 1,
   "id": "b15c8646",
   "metadata": {
    "execution": {
     "iopub.execute_input": "2022-08-16T10:10:46.077441Z",
     "iopub.status.busy": "2022-08-16T10:10:46.076612Z",
     "iopub.status.idle": "2022-08-16T10:10:46.090189Z",
     "shell.execute_reply": "2022-08-16T10:10:46.089585Z"
    },
    "papermill": {
     "duration": 0.054467,
     "end_time": "2022-08-16T10:10:46.090354",
     "exception": false,
     "start_time": "2022-08-16T10:10:46.035887",
     "status": "completed"
    },
    "tags": []
   },
   "outputs": [],
   "source": [
    "%load_ext autoreload\n",
    "%autoreload 2"
   ]
  },
  {
   "cell_type": "code",
   "execution_count": 2,
   "id": "22ef38dc",
   "metadata": {
    "execution": {
     "iopub.execute_input": "2022-08-16T10:10:46.152619Z",
     "iopub.status.busy": "2022-08-16T10:10:46.151872Z",
     "iopub.status.idle": "2022-08-16T10:10:46.811348Z",
     "shell.execute_reply": "2022-08-16T10:10:46.810731Z"
    },
    "papermill": {
     "duration": 0.692203,
     "end_time": "2022-08-16T10:10:46.811496",
     "exception": false,
     "start_time": "2022-08-16T10:10:46.119293",
     "status": "completed"
    },
    "tags": []
   },
   "outputs": [],
   "source": [
    "%matplotlib inline\n",
    "import numpy as np\n",
    "import matplotlib.pyplot as plt\n",
    "import pandas as pd"
   ]
  },
  {
   "cell_type": "markdown",
   "id": "ba036198",
   "metadata": {
    "papermill": {
     "duration": 0.027555,
     "end_time": "2022-08-16T10:10:46.866430",
     "exception": false,
     "start_time": "2022-08-16T10:10:46.838875",
     "status": "completed"
    },
    "tags": []
   },
   "source": [
    "From the command line run `pip install mnist`. This is a library that will help you bring down the mnist dataset. If you run this from a notebook, you need to put  `!pip install mnist` in a cell by itself."
   ]
  },
  {
   "cell_type": "code",
   "execution_count": 3,
   "id": "bb6ad8a1",
   "metadata": {
    "execution": {
     "iopub.execute_input": "2022-08-16T10:10:46.925572Z",
     "iopub.status.busy": "2022-08-16T10:10:46.924855Z",
     "iopub.status.idle": "2022-08-16T10:10:48.950861Z",
     "shell.execute_reply": "2022-08-16T10:10:48.950224Z"
    },
    "papermill": {
     "duration": 2.057725,
     "end_time": "2022-08-16T10:10:48.951004",
     "exception": false,
     "start_time": "2022-08-16T10:10:46.893279",
     "status": "completed"
    },
    "tags": []
   },
   "outputs": [
    {
     "name": "stdout",
     "output_type": "stream",
     "text": [
      "Collecting mnist\r\n"
     ]
    },
    {
     "name": "stdout",
     "output_type": "stream",
     "text": [
      "  Downloading mnist-0.2.2-py2.py3-none-any.whl (3.5 kB)\r\n",
      "Requirement already satisfied: numpy in /opt/hostedtoolcache/Python/3.6.15/x64/lib/python3.6/site-packages (from mnist) (1.19.5)\r\n"
     ]
    },
    {
     "name": "stdout",
     "output_type": "stream",
     "text": [
      "Installing collected packages: mnist\r\n"
     ]
    },
    {
     "name": "stdout",
     "output_type": "stream",
     "text": [
      "Successfully installed mnist-0.2.2\r\n"
     ]
    }
   ],
   "source": [
    "!pip install mnist"
   ]
  },
  {
   "cell_type": "markdown",
   "id": "69df9c9a",
   "metadata": {
    "papermill": {
     "duration": 0.029276,
     "end_time": "2022-08-16T10:10:49.011370",
     "exception": false,
     "start_time": "2022-08-16T10:10:48.982094",
     "status": "completed"
    },
    "tags": []
   },
   "source": [
    "## Preparing the Data"
   ]
  },
  {
   "cell_type": "code",
   "execution_count": 4,
   "id": "7f69d806",
   "metadata": {
    "execution": {
     "iopub.execute_input": "2022-08-16T10:10:49.077656Z",
     "iopub.status.busy": "2022-08-16T10:10:49.076754Z",
     "iopub.status.idle": "2022-08-16T10:10:49.096994Z",
     "shell.execute_reply": "2022-08-16T10:10:49.097648Z"
    },
    "papermill": {
     "duration": 0.057637,
     "end_time": "2022-08-16T10:10:49.098927",
     "exception": false,
     "start_time": "2022-08-16T10:10:49.041290",
     "status": "completed"
    },
    "tags": []
   },
   "outputs": [],
   "source": [
    "import mnist"
   ]
  },
  {
   "cell_type": "code",
   "execution_count": 5,
   "id": "a411e44f",
   "metadata": {
    "execution": {
     "iopub.execute_input": "2022-08-16T10:10:49.163808Z",
     "iopub.status.busy": "2022-08-16T10:10:49.163092Z",
     "iopub.status.idle": "2022-08-16T10:10:49.809461Z",
     "shell.execute_reply": "2022-08-16T10:10:49.808783Z"
    },
    "papermill": {
     "duration": 0.68072,
     "end_time": "2022-08-16T10:10:49.809601",
     "exception": false,
     "start_time": "2022-08-16T10:10:49.128881",
     "status": "completed"
    },
    "tags": []
   },
   "outputs": [],
   "source": [
    "train_images = mnist.train_images()\n",
    "train_labels = mnist.train_labels()"
   ]
  },
  {
   "cell_type": "code",
   "execution_count": 6,
   "id": "dceab3a5",
   "metadata": {
    "execution": {
     "iopub.execute_input": "2022-08-16T10:10:49.876395Z",
     "iopub.status.busy": "2022-08-16T10:10:49.875547Z",
     "iopub.status.idle": "2022-08-16T10:10:49.894048Z",
     "shell.execute_reply": "2022-08-16T10:10:49.893468Z"
    },
    "papermill": {
     "duration": 0.054412,
     "end_time": "2022-08-16T10:10:49.894182",
     "exception": false,
     "start_time": "2022-08-16T10:10:49.839770",
     "status": "completed"
    },
    "tags": []
   },
   "outputs": [
    {
     "data": {
      "text/plain": [
       "((60000, 28, 28), (60000,))"
      ]
     },
     "execution_count": 6,
     "metadata": {},
     "output_type": "execute_result"
    }
   ],
   "source": [
    "train_images.shape, train_labels.shape"
   ]
  },
  {
   "cell_type": "code",
   "execution_count": 7,
   "id": "f50dc2bb",
   "metadata": {
    "execution": {
     "iopub.execute_input": "2022-08-16T10:10:49.957711Z",
     "iopub.status.busy": "2022-08-16T10:10:49.957015Z",
     "iopub.status.idle": "2022-08-16T10:10:50.087339Z",
     "shell.execute_reply": "2022-08-16T10:10:50.085923Z"
    },
    "papermill": {
     "duration": 0.164173,
     "end_time": "2022-08-16T10:10:50.088084",
     "exception": false,
     "start_time": "2022-08-16T10:10:49.923911",
     "status": "completed"
    },
    "tags": []
   },
   "outputs": [],
   "source": [
    "test_images = mnist.test_images()\n",
    "test_labels = mnist.test_labels()"
   ]
  },
  {
   "cell_type": "code",
   "execution_count": 8,
   "id": "fc38cf1b",
   "metadata": {
    "execution": {
     "iopub.execute_input": "2022-08-16T10:10:50.153099Z",
     "iopub.status.busy": "2022-08-16T10:10:50.152364Z",
     "iopub.status.idle": "2022-08-16T10:10:50.168321Z",
     "shell.execute_reply": "2022-08-16T10:10:50.168992Z"
    },
    "papermill": {
     "duration": 0.049267,
     "end_time": "2022-08-16T10:10:50.169151",
     "exception": false,
     "start_time": "2022-08-16T10:10:50.119884",
     "status": "completed"
    },
    "tags": []
   },
   "outputs": [
    {
     "data": {
      "text/plain": [
       "((10000, 28, 28), (10000,))"
      ]
     },
     "execution_count": 8,
     "metadata": {},
     "output_type": "execute_result"
    }
   ],
   "source": [
    "test_images.shape, test_labels.shape"
   ]
  },
  {
   "cell_type": "code",
   "execution_count": 9,
   "id": "f9ed8fe0",
   "metadata": {
    "execution": {
     "iopub.execute_input": "2022-08-16T10:10:50.235171Z",
     "iopub.status.busy": "2022-08-16T10:10:50.233251Z",
     "iopub.status.idle": "2022-08-16T10:10:50.409650Z",
     "shell.execute_reply": "2022-08-16T10:10:50.408631Z"
    },
    "papermill": {
     "duration": 0.21159,
     "end_time": "2022-08-16T10:10:50.409812",
     "exception": false,
     "start_time": "2022-08-16T10:10:50.198222",
     "status": "completed"
    },
    "tags": []
   },
   "outputs": [
    {
     "name": "stdout",
     "output_type": "stream",
     "text": [
      "2\n"
     ]
    },
    {
     "data": {
      "text/plain": [
       "<matplotlib.image.AxesImage at 0x7f80f8161ef0>"
      ]
     },
     "execution_count": 9,
     "metadata": {},
     "output_type": "execute_result"
    },
    {
     "data": {
      "image/png": "[encoded data removed]",
      "text/plain": [
       "<Figure size 432x288 with 1 Axes>"
      ]
     },
     "metadata": {
      "needs_background": "light"
     },
     "output_type": "display_data"
    }
   ],
   "source": [
    "image_index = 7776 # You may select anything up to 60,000\n",
    "print(train_labels[image_index]) \n",
    "plt.imshow(train_images[image_index], cmap='Greys')"
   ]
  },
  {
   "cell_type": "markdown",
   "id": "a8d2388d",
   "metadata": {
    "papermill": {
     "duration": 0.031042,
     "end_time": "2022-08-16T10:10:50.473407",
     "exception": false,
     "start_time": "2022-08-16T10:10:50.442365",
     "status": "completed"
    },
    "tags": []
   },
   "source": [
    "## Filter data to get 3 and 8 out"
   ]
  },
  {
   "cell_type": "code",
   "execution_count": 10,
   "id": "776f7fc7",
   "metadata": {
    "execution": {
     "iopub.execute_input": "2022-08-16T10:10:50.549916Z",
     "iopub.status.busy": "2022-08-16T10:10:50.541558Z",
     "iopub.status.idle": "2022-08-16T10:10:50.564827Z",
     "shell.execute_reply": "2022-08-16T10:10:50.564199Z"
    },
    "papermill": {
     "duration": 0.060065,
     "end_time": "2022-08-16T10:10:50.564971",
     "exception": false,
     "start_time": "2022-08-16T10:10:50.504906",
     "status": "completed"
    },
    "tags": []
   },
   "outputs": [],
   "source": [
    "train_filter = np.where((train_labels == 3 ) | (train_labels == 8))\n",
    "test_filter = np.where((test_labels == 3) | (test_labels == 8))\n",
    "X_train, y_train = train_images[train_filter], train_labels[train_filter]\n",
    "X_test, y_test = test_images[test_filter], test_labels[test_filter]"
   ]
  },
  {
   "cell_type": "markdown",
   "id": "948f0b7e",
   "metadata": {
    "papermill": {
     "duration": 0.030831,
     "end_time": "2022-08-16T10:10:50.628066",
     "exception": false,
     "start_time": "2022-08-16T10:10:50.597235",
     "status": "completed"
    },
    "tags": []
   },
   "source": [
    "We normalize the pizel values in the 0 to 1 range"
   ]
  },
  {
   "cell_type": "code",
   "execution_count": 11,
   "id": "ee4c2166",
   "metadata": {
    "execution": {
     "iopub.execute_input": "2022-08-16T10:10:50.694668Z",
     "iopub.status.busy": "2022-08-16T10:10:50.693957Z",
     "iopub.status.idle": "2022-08-16T10:10:50.764866Z",
     "shell.execute_reply": "2022-08-16T10:10:50.764196Z"
    },
    "papermill": {
     "duration": 0.106198,
     "end_time": "2022-08-16T10:10:50.765015",
     "exception": false,
     "start_time": "2022-08-16T10:10:50.658817",
     "status": "completed"
    },
    "tags": []
   },
   "outputs": [],
   "source": [
    "X_train = X_train/255.\n",
    "X_test = X_test/255."
   ]
  },
  {
   "cell_type": "markdown",
   "id": "ddcf4fab",
   "metadata": {
    "papermill": {
     "duration": 0.031232,
     "end_time": "2022-08-16T10:10:50.827124",
     "exception": false,
     "start_time": "2022-08-16T10:10:50.795892",
     "status": "completed"
    },
    "tags": []
   },
   "source": [
    "And setup the labels as 1 (when the digit is 3) and 0 (when the digit is 8)"
   ]
  },
  {
   "cell_type": "code",
   "execution_count": 12,
   "id": "7dc908f2",
   "metadata": {
    "execution": {
     "iopub.execute_input": "2022-08-16T10:10:50.893705Z",
     "iopub.status.busy": "2022-08-16T10:10:50.893005Z",
     "iopub.status.idle": "2022-08-16T10:10:50.909198Z",
     "shell.execute_reply": "2022-08-16T10:10:50.908568Z"
    },
    "papermill": {
     "duration": 0.050881,
     "end_time": "2022-08-16T10:10:50.909336",
     "exception": false,
     "start_time": "2022-08-16T10:10:50.858455",
     "status": "completed"
    },
    "tags": []
   },
   "outputs": [],
   "source": [
    "y_train = 1*(y_train==3)\n",
    "y_test = 1*(y_test==3)"
   ]
  },
  {
   "cell_type": "code",
   "execution_count": 13,
   "id": "01e4e969",
   "metadata": {
    "execution": {
     "iopub.execute_input": "2022-08-16T10:10:50.978693Z",
     "iopub.status.busy": "2022-08-16T10:10:50.977993Z",
     "iopub.status.idle": "2022-08-16T10:10:50.994137Z",
     "shell.execute_reply": "2022-08-16T10:10:50.993327Z"
    },
    "papermill": {
     "duration": 0.051981,
     "end_time": "2022-08-16T10:10:50.994282",
     "exception": false,
     "start_time": "2022-08-16T10:10:50.942301",
     "status": "completed"
    },
    "tags": []
   },
   "outputs": [
    {
     "data": {
      "text/plain": [
       "((11982, 28, 28), (1984, 28, 28))"
      ]
     },
     "execution_count": 13,
     "metadata": {},
     "output_type": "execute_result"
    }
   ],
   "source": [
    "X_train.shape, X_test.shape"
   ]
  },
  {
   "cell_type": "markdown",
   "id": "5ccf3f85",
   "metadata": {
    "papermill": {
     "duration": 0.033634,
     "end_time": "2022-08-16T10:10:51.066575",
     "exception": false,
     "start_time": "2022-08-16T10:10:51.032941",
     "status": "completed"
    },
    "tags": []
   },
   "source": [
    "We reshape the data to flatten the image pixels into a set of features or co-variates:"
   ]
  },
  {
   "cell_type": "code",
   "execution_count": 14,
   "id": "5286a4a3",
   "metadata": {
    "execution": {
     "iopub.execute_input": "2022-08-16T10:10:51.135254Z",
     "iopub.status.busy": "2022-08-16T10:10:51.134548Z",
     "iopub.status.idle": "2022-08-16T10:10:51.160839Z",
     "shell.execute_reply": "2022-08-16T10:10:51.161749Z"
    },
    "papermill": {
     "duration": 0.063651,
     "end_time": "2022-08-16T10:10:51.161956",
     "exception": false,
     "start_time": "2022-08-16T10:10:51.098305",
     "status": "completed"
    },
    "tags": []
   },
   "outputs": [
    {
     "data": {
      "text/plain": [
       "((11982, 784), (1984, 784))"
      ]
     },
     "execution_count": 14,
     "metadata": {},
     "output_type": "execute_result"
    }
   ],
   "source": [
    "X_train = X_train.reshape(X_train.shape[0], -1)\n",
    "X_test = X_test.reshape(X_test.shape[0], -1)\n",
    "X_train.shape, X_test.shape"
   ]
  },
  {
   "cell_type": "code",
   "execution_count": 15,
   "id": "73c5f88a",
   "metadata": {
    "execution": {
     "iopub.execute_input": "2022-08-16T10:10:51.236118Z",
     "iopub.status.busy": "2022-08-16T10:10:51.235385Z",
     "iopub.status.idle": "2022-08-16T10:10:51.257427Z",
     "shell.execute_reply": "2022-08-16T10:10:51.258034Z"
    },
    "papermill": {
     "duration": 0.06293,
     "end_time": "2022-08-16T10:10:51.258207",
     "exception": false,
     "start_time": "2022-08-16T10:10:51.195277",
     "status": "completed"
    },
    "tags": []
   },
   "outputs": [],
   "source": [
    "#Impoting functions from 'Kudzu'\n",
    "from kudzu.model import Model\n",
    "from kudzu.train import Learner\n",
    "from kudzu.optim import GD\n",
    "from kudzu.data import Data, Sampler,Dataloader\n",
    "\n",
    "from kudzu.callbacks import AccCallback\n",
    "from kudzu.callbacks import ClfCallback\n",
    "\n",
    "from kudzu.loss import MSE\n",
    "\n",
    "from kudzu.layer import Sigmoid,Relu\n",
    "from kudzu.layer import Affine"
   ]
  },
  {
   "cell_type": "markdown",
   "id": "bc01172a",
   "metadata": {
    "papermill": {
     "duration": 0.033008,
     "end_time": "2022-08-16T10:10:51.324337",
     "exception": false,
     "start_time": "2022-08-16T10:10:51.291329",
     "status": "completed"
    },
    "tags": []
   },
   "source": [
    "### Let us create a `Config` class, to store important parameters. \n",
    "This class essentially plays the role of a dictionary."
   ]
  },
  {
   "cell_type": "code",
   "execution_count": 16,
   "id": "978281aa",
   "metadata": {
    "execution": {
     "iopub.execute_input": "2022-08-16T10:10:51.392185Z",
     "iopub.status.busy": "2022-08-16T10:10:51.391488Z",
     "iopub.status.idle": "2022-08-16T10:10:51.405911Z",
     "shell.execute_reply": "2022-08-16T10:10:51.406466Z"
    },
    "papermill": {
     "duration": 0.050779,
     "end_time": "2022-08-16T10:10:51.406629",
     "exception": false,
     "start_time": "2022-08-16T10:10:51.355850",
     "status": "completed"
    },
    "tags": []
   },
   "outputs": [],
   "source": [
    "class Config:\n",
    "    pass\n",
    "config = Config()\n",
    "config.lr = 0.001\n",
    "config.num_epochs = 250\n",
    "config.bs = 50"
   ]
  },
  {
   "cell_type": "markdown",
   "id": "1385fa59",
   "metadata": {
    "papermill": {
     "duration": 0.031903,
     "end_time": "2022-08-16T10:10:51.470990",
     "exception": false,
     "start_time": "2022-08-16T10:10:51.439087",
     "status": "completed"
    },
    "tags": []
   },
   "source": [
    "### Running Models with the Training data\n",
    "Details about the network layers:\n",
    "- A first affine layer has 784 inputs and does 100 affine transforms. These are followed by a Relu\n",
    "- A second affine layer has 100 inputs from the 100 activations of the past layer, and does 100 affine transforms. These are followed by a Relu\n",
    "- A third affine layer has 100 activations and does 2 affine transformations to create an embedding for visualization. There is no non-linearity here.\n",
    "- A final \"logistic regression\" which has an affine transform from 2 inputs to 1 output, which is squeezed through a sigmoid.\n"
   ]
  },
  {
   "cell_type": "code",
   "execution_count": 17,
   "id": "2b9c66db",
   "metadata": {
    "execution": {
     "iopub.execute_input": "2022-08-16T10:10:51.541644Z",
     "iopub.status.busy": "2022-08-16T10:10:51.540771Z",
     "iopub.status.idle": "2022-08-16T10:10:51.556504Z",
     "shell.execute_reply": "2022-08-16T10:10:51.555911Z"
    },
    "papermill": {
     "duration": 0.054026,
     "end_time": "2022-08-16T10:10:51.556641",
     "exception": false,
     "start_time": "2022-08-16T10:10:51.502615",
     "status": "completed"
    },
    "tags": []
   },
   "outputs": [],
   "source": [
    "data = Data(X_train, y_train.reshape(-1,1))\n",
    "sampler = Sampler(data, config.bs, shuffle=True)\n",
    "\n",
    "dl = Dataloader(data, sampler)\n",
    "\n",
    "opt = GD(config.lr)\n",
    "loss = MSE()"
   ]
  },
  {
   "cell_type": "code",
   "execution_count": 18,
   "id": "b275e4c2",
   "metadata": {
    "execution": {
     "iopub.execute_input": "2022-08-16T10:10:51.627126Z",
     "iopub.status.busy": "2022-08-16T10:10:51.626418Z",
     "iopub.status.idle": "2022-08-16T10:10:51.641486Z",
     "shell.execute_reply": "2022-08-16T10:10:51.640830Z"
    },
    "papermill": {
     "duration": 0.053313,
     "end_time": "2022-08-16T10:10:51.641630",
     "exception": false,
     "start_time": "2022-08-16T10:10:51.588317",
     "status": "completed"
    },
    "tags": []
   },
   "outputs": [],
   "source": [
    "training_data_x = X_train\n",
    "testing_data_x = X_test\n",
    "training_data_y = y_train.reshape(-1,1)\n",
    "testing_data_y = y_test.reshape(-1,1)"
   ]
  },
  {
   "cell_type": "code",
   "execution_count": 19,
   "id": "76951160",
   "metadata": {
    "execution": {
     "iopub.execute_input": "2022-08-16T10:10:51.719118Z",
     "iopub.status.busy": "2022-08-16T10:10:51.717649Z",
     "iopub.status.idle": "2022-08-16T10:10:51.736195Z",
     "shell.execute_reply": "2022-08-16T10:10:51.735491Z"
    },
    "papermill": {
     "duration": 0.062299,
     "end_time": "2022-08-16T10:10:51.736333",
     "exception": false,
     "start_time": "2022-08-16T10:10:51.674034",
     "status": "completed"
    },
    "tags": []
   },
   "outputs": [
    {
     "name": "stdout",
     "output_type": "stream",
     "text": [
      "xavier\n",
      "xavier\n",
      "xavier\n",
      "xavier\n",
      "xavier\n"
     ]
    }
   ],
   "source": [
    "layers = [Affine(\"first\", 784, 100), Relu(\"first\"), Affine(\"second\", 100, 100), Relu(\"second\"), Affine(\"third\", 100, 2), Affine(\"last\", 2, 1), Sigmoid(\"last\")]\n",
    "model_nn = Model(layers)\n",
    "model_lr = Model([Affine(\"logits\", 784, 1), Sigmoid(\"sigmoid\")])"
   ]
  },
  {
   "cell_type": "code",
   "execution_count": 20,
   "id": "6eede77a",
   "metadata": {
    "execution": {
     "iopub.execute_input": "2022-08-16T10:10:51.809518Z",
     "iopub.status.busy": "2022-08-16T10:10:51.808614Z",
     "iopub.status.idle": "2022-08-16T10:10:51.823555Z",
     "shell.execute_reply": "2022-08-16T10:10:51.824200Z"
    },
    "papermill": {
     "duration": 0.054154,
     "end_time": "2022-08-16T10:10:51.824363",
     "exception": false,
     "start_time": "2022-08-16T10:10:51.770209",
     "status": "completed"
    },
    "tags": []
   },
   "outputs": [],
   "source": [
    "nn_learner = Learner(loss, model_nn, opt, config.num_epochs)\n",
    "acc_nn = ClfCallback(nn_learner, config.bs, training_data_x , testing_data_x, training_data_y, testing_data_y)\n",
    "nn_learner.set_callbacks([acc_nn])"
   ]
  },
  {
   "cell_type": "code",
   "execution_count": 21,
   "id": "877b6cc7",
   "metadata": {
    "execution": {
     "iopub.execute_input": "2022-08-16T10:10:51.896900Z",
     "iopub.status.busy": "2022-08-16T10:10:51.896124Z",
     "iopub.status.idle": "2022-08-16T10:10:51.911518Z",
     "shell.execute_reply": "2022-08-16T10:10:51.910899Z"
    },
    "papermill": {
     "duration": 0.052438,
     "end_time": "2022-08-16T10:10:51.911660",
     "exception": false,
     "start_time": "2022-08-16T10:10:51.859222",
     "status": "completed"
    },
    "tags": []
   },
   "outputs": [],
   "source": [
    "lr_learner = Learner(loss, model_lr, opt, config.num_epochs)\n",
    "acc_lr = ClfCallback(lr_learner, config.bs, training_data_x , testing_data_x, training_data_y, testing_data_y)\n",
    "lr_learner.set_callbacks([acc_lr])"
   ]
  },
  {
   "cell_type": "code",
   "execution_count": 22,
   "id": "d9b133c3",
   "metadata": {
    "execution": {
     "iopub.execute_input": "2022-08-16T10:10:51.981683Z",
     "iopub.status.busy": "2022-08-16T10:10:51.980175Z",
     "iopub.status.idle": "2022-08-16T10:12:28.428523Z",
     "shell.execute_reply": "2022-08-16T10:12:28.429578Z"
    },
    "papermill": {
     "duration": 96.485718,
     "end_time": "2022-08-16T10:12:28.429750",
     "exception": false,
     "start_time": "2022-08-16T10:10:51.944032",
     "status": "completed"
    },
    "tags": []
   },
   "outputs": [
    {
     "name": "stdout",
     "output_type": "stream",
     "text": [
      "Epoch 0, Loss 0.2251\n",
      "Training Accuracy: 0.7646, Testing Accuracy: 0.7601\n",
      "\n"
     ]
    },
    {
     "name": "stdout",
     "output_type": "stream",
     "text": [
      "Epoch 10, Loss 0.07\n",
      "Training Accuracy: 0.9342, Testing Accuracy: 0.9375\n",
      "\n"
     ]
    },
    {
     "name": "stdout",
     "output_type": "stream",
     "text": [
      "Epoch 20, Loss 0.0465\n",
      "Training Accuracy: 0.9509, Testing Accuracy: 0.9617\n",
      "\n"
     ]
    },
    {
     "name": "stdout",
     "output_type": "stream",
     "text": [
      "Epoch 30, Loss 0.038\n",
      "Training Accuracy: 0.9596, Testing Accuracy: 0.9662\n",
      "\n"
     ]
    },
    {
     "name": "stdout",
     "output_type": "stream",
     "text": [
      "Epoch 40, Loss 0.0336\n",
      "Training Accuracy: 0.9636, Testing Accuracy: 0.9672\n",
      "\n"
     ]
    },
    {
     "name": "stdout",
     "output_type": "stream",
     "text": [
      "Epoch 50, Loss 0.0307\n",
      "Training Accuracy: 0.9659, Testing Accuracy: 0.9682\n",
      "\n"
     ]
    },
    {
     "name": "stdout",
     "output_type": "stream",
     "text": [
      "Epoch 60, Loss 0.0287\n",
      "Training Accuracy: 0.9680, Testing Accuracy: 0.9698\n",
      "\n"
     ]
    },
    {
     "name": "stdout",
     "output_type": "stream",
     "text": [
      "Epoch 70, Loss 0.0271\n",
      "Training Accuracy: 0.9694, Testing Accuracy: 0.9698\n",
      "\n"
     ]
    },
    {
     "name": "stdout",
     "output_type": "stream",
     "text": [
      "Epoch 80, Loss 0.0258\n",
      "Training Accuracy: 0.9705, Testing Accuracy: 0.9708\n",
      "\n"
     ]
    },
    {
     "name": "stdout",
     "output_type": "stream",
     "text": [
      "Epoch 90, Loss 0.0247\n",
      "Training Accuracy: 0.9711, Testing Accuracy: 0.9708\n",
      "\n"
     ]
    },
    {
     "name": "stdout",
     "output_type": "stream",
     "text": [
      "Epoch 100, Loss 0.0237\n",
      "Training Accuracy: 0.9725, Testing Accuracy: 0.9713\n",
      "\n"
     ]
    },
    {
     "name": "stdout",
     "output_type": "stream",
     "text": [
      "Epoch 110, Loss 0.0229\n",
      "Training Accuracy: 0.9735, Testing Accuracy: 0.9713\n",
      "\n"
     ]
    },
    {
     "name": "stdout",
     "output_type": "stream",
     "text": [
      "Epoch 120, Loss 0.0221\n",
      "Training Accuracy: 0.9742, Testing Accuracy: 0.9723\n",
      "\n"
     ]
    },
    {
     "name": "stdout",
     "output_type": "stream",
     "text": [
      "Epoch 130, Loss 0.0214\n",
      "Training Accuracy: 0.9755, Testing Accuracy: 0.9723\n",
      "\n"
     ]
    },
    {
     "name": "stdout",
     "output_type": "stream",
     "text": [
      "Epoch 140, Loss 0.0208\n",
      "Training Accuracy: 0.9764, Testing Accuracy: 0.9728\n",
      "\n"
     ]
    },
    {
     "name": "stdout",
     "output_type": "stream",
     "text": [
      "Epoch 150, Loss 0.0202\n",
      "Training Accuracy: 0.9770, Testing Accuracy: 0.9723\n",
      "\n"
     ]
    },
    {
     "name": "stdout",
     "output_type": "stream",
     "text": [
      "Epoch 160, Loss 0.0196\n",
      "Training Accuracy: 0.9778, Testing Accuracy: 0.9723\n",
      "\n"
     ]
    },
    {
     "name": "stdout",
     "output_type": "stream",
     "text": [
      "Epoch 170, Loss 0.0191\n",
      "Training Accuracy: 0.9784, Testing Accuracy: 0.9728\n",
      "\n"
     ]
    },
    {
     "name": "stdout",
     "output_type": "stream",
     "text": [
      "Epoch 180, Loss 0.0186\n",
      "Training Accuracy: 0.9788, Testing Accuracy: 0.9738\n",
      "\n"
     ]
    },
    {
     "name": "stdout",
     "output_type": "stream",
     "text": [
      "Epoch 190, Loss 0.0181\n",
      "Training Accuracy: 0.9797, Testing Accuracy: 0.9748\n",
      "\n"
     ]
    },
    {
     "name": "stdout",
     "output_type": "stream",
     "text": [
      "Epoch 200, Loss 0.0177\n",
      "Training Accuracy: 0.9800, Testing Accuracy: 0.9748\n",
      "\n"
     ]
    },
    {
     "name": "stdout",
     "output_type": "stream",
     "text": [
      "Epoch 210, Loss 0.0173\n",
      "Training Accuracy: 0.9808, Testing Accuracy: 0.9753\n",
      "\n"
     ]
    },
    {
     "name": "stdout",
     "output_type": "stream",
     "text": [
      "Epoch 220, Loss 0.0169\n",
      "Training Accuracy: 0.9816, Testing Accuracy: 0.9758\n",
      "\n"
     ]
    },
    {
     "name": "stdout",
     "output_type": "stream",
     "text": [
      "Epoch 230, Loss 0.0165\n",
      "Training Accuracy: 0.9819, Testing Accuracy: 0.9763\n",
      "\n"
     ]
    },
    {
     "name": "stdout",
     "output_type": "stream",
     "text": [
      "Epoch 240, Loss 0.0161\n",
      "Training Accuracy: 0.9825, Testing Accuracy: 0.9768\n",
      "\n"
     ]
    },
    {
     "data": {
      "text/plain": [
       "0.059147409068268826"
      ]
     },
     "execution_count": 22,
     "metadata": {},
     "output_type": "execute_result"
    }
   ],
   "source": [
    "nn_learner.train_loop(dl)"
   ]
  },
  {
   "cell_type": "code",
   "execution_count": 23,
   "id": "e0163366",
   "metadata": {
    "execution": {
     "iopub.execute_input": "2022-08-16T10:12:28.522741Z",
     "iopub.status.busy": "2022-08-16T10:12:28.522017Z",
     "iopub.status.idle": "2022-08-16T10:12:45.531565Z",
     "shell.execute_reply": "2022-08-16T10:12:45.532545Z"
    },
    "papermill": {
     "duration": 17.06295,
     "end_time": "2022-08-16T10:12:45.532714",
     "exception": false,
     "start_time": "2022-08-16T10:12:28.469764",
     "status": "completed"
    },
    "tags": []
   },
   "outputs": [
    {
     "name": "stdout",
     "output_type": "stream",
     "text": [
      "Epoch 0, Loss 0.2221\n",
      "Training Accuracy: 0.7526, Testing Accuracy: 0.7505\n",
      "\n"
     ]
    },
    {
     "name": "stdout",
     "output_type": "stream",
     "text": [
      "Epoch 10, Loss 0.1006\n",
      "Training Accuracy: 0.9084, Testing Accuracy: 0.9199\n",
      "\n"
     ]
    },
    {
     "name": "stdout",
     "output_type": "stream",
     "text": [
      "Epoch 20, Loss 0.0781\n",
      "Training Accuracy: 0.9279, Testing Accuracy: 0.9405\n",
      "\n"
     ]
    },
    {
     "name": "stdout",
     "output_type": "stream",
     "text": [
      "Epoch 30, Loss 0.0675\n",
      "Training Accuracy: 0.9366, Testing Accuracy: 0.9501\n",
      "\n"
     ]
    },
    {
     "name": "stdout",
     "output_type": "stream",
     "text": [
      "Epoch 40, Loss 0.061\n",
      "Training Accuracy: 0.9417, Testing Accuracy: 0.9511\n",
      "\n"
     ]
    },
    {
     "name": "stdout",
     "output_type": "stream",
     "text": [
      "Epoch 50, Loss 0.0567\n",
      "Training Accuracy: 0.9440, Testing Accuracy: 0.9561\n",
      "\n"
     ]
    },
    {
     "name": "stdout",
     "output_type": "stream",
     "text": [
      "Epoch 60, Loss 0.0534\n",
      "Training Accuracy: 0.9471, Testing Accuracy: 0.9582\n",
      "\n"
     ]
    },
    {
     "name": "stdout",
     "output_type": "stream",
     "text": [
      "Epoch 70, Loss 0.0509\n",
      "Training Accuracy: 0.9497, Testing Accuracy: 0.9592\n",
      "\n"
     ]
    },
    {
     "name": "stdout",
     "output_type": "stream",
     "text": [
      "Epoch 80, Loss 0.0489\n",
      "Training Accuracy: 0.9504, Testing Accuracy: 0.9607\n",
      "\n"
     ]
    },
    {
     "name": "stdout",
     "output_type": "stream",
     "text": [
      "Epoch 90, Loss 0.0473\n",
      "Training Accuracy: 0.9517, Testing Accuracy: 0.9612\n",
      "\n"
     ]
    },
    {
     "name": "stdout",
     "output_type": "stream",
     "text": [
      "Epoch 100, Loss 0.0459\n",
      "Training Accuracy: 0.9522, Testing Accuracy: 0.9627\n",
      "\n"
     ]
    },
    {
     "name": "stdout",
     "output_type": "stream",
     "text": [
      "Epoch 110, Loss 0.0447\n",
      "Training Accuracy: 0.9530, Testing Accuracy: 0.9627\n",
      "\n"
     ]
    },
    {
     "name": "stdout",
     "output_type": "stream",
     "text": [
      "Epoch 120, Loss 0.0436\n",
      "Training Accuracy: 0.9540, Testing Accuracy: 0.9637\n",
      "\n"
     ]
    },
    {
     "name": "stdout",
     "output_type": "stream",
     "text": [
      "Epoch 130, Loss 0.0427\n",
      "Training Accuracy: 0.9553, Testing Accuracy: 0.9642\n",
      "\n"
     ]
    },
    {
     "name": "stdout",
     "output_type": "stream",
     "text": [
      "Epoch 140, Loss 0.0419\n",
      "Training Accuracy: 0.9564, Testing Accuracy: 0.9647\n",
      "\n"
     ]
    },
    {
     "name": "stdout",
     "output_type": "stream",
     "text": [
      "Epoch 150, Loss 0.0412\n",
      "Training Accuracy: 0.9569, Testing Accuracy: 0.9647\n",
      "\n"
     ]
    },
    {
     "name": "stdout",
     "output_type": "stream",
     "text": [
      "Epoch 160, Loss 0.0405\n",
      "Training Accuracy: 0.9573, Testing Accuracy: 0.9657\n",
      "\n"
     ]
    },
    {
     "name": "stdout",
     "output_type": "stream",
     "text": [
      "Epoch 170, Loss 0.0399\n",
      "Training Accuracy: 0.9579, Testing Accuracy: 0.9657\n",
      "\n"
     ]
    },
    {
     "name": "stdout",
     "output_type": "stream",
     "text": [
      "Epoch 180, Loss 0.0394\n",
      "Training Accuracy: 0.9584, Testing Accuracy: 0.9652\n",
      "\n"
     ]
    },
    {
     "name": "stdout",
     "output_type": "stream",
     "text": [
      "Epoch 190, Loss 0.0389\n",
      "Training Accuracy: 0.9590, Testing Accuracy: 0.9657\n",
      "\n"
     ]
    },
    {
     "name": "stdout",
     "output_type": "stream",
     "text": [
      "Epoch 200, Loss 0.0384\n",
      "Training Accuracy: 0.9592, Testing Accuracy: 0.9657\n",
      "\n"
     ]
    },
    {
     "name": "stdout",
     "output_type": "stream",
     "text": [
      "Epoch 210, Loss 0.038\n",
      "Training Accuracy: 0.9599, Testing Accuracy: 0.9657\n",
      "\n"
     ]
    },
    {
     "name": "stdout",
     "output_type": "stream",
     "text": [
      "Epoch 220, Loss 0.0375\n",
      "Training Accuracy: 0.9604, Testing Accuracy: 0.9662\n",
      "\n"
     ]
    },
    {
     "name": "stdout",
     "output_type": "stream",
     "text": [
      "Epoch 230, Loss 0.0372\n",
      "Training Accuracy: 0.9606, Testing Accuracy: 0.9667\n",
      "\n"
     ]
    },
    {
     "name": "stdout",
     "output_type": "stream",
     "text": [
      "Epoch 240, Loss 0.0368\n",
      "Training Accuracy: 0.9608, Testing Accuracy: 0.9672\n",
      "\n"
     ]
    },
    {
     "data": {
      "text/plain": [
       "0.04991594666914939"
      ]
     },
     "execution_count": 23,
     "metadata": {},
     "output_type": "execute_result"
    }
   ],
   "source": [
    "lr_learner.train_loop(dl)"
   ]
  },
  {
   "cell_type": "code",
   "execution_count": 24,
   "id": "ca410940",
   "metadata": {
    "execution": {
     "iopub.execute_input": "2022-08-16T10:12:45.642542Z",
     "iopub.status.busy": "2022-08-16T10:12:45.641764Z",
     "iopub.status.idle": "2022-08-16T10:12:45.899835Z",
     "shell.execute_reply": "2022-08-16T10:12:45.899238Z"
    },
    "papermill": {
     "duration": 0.319639,
     "end_time": "2022-08-16T10:12:45.899976",
     "exception": false,
     "start_time": "2022-08-16T10:12:45.580337",
     "status": "completed"
    },
    "tags": []
   },
   "outputs": [
    {
     "data": {
      "text/plain": [
       "<matplotlib.legend.Legend at 0x7f80f7cd2f98>"
      ]
     },
     "execution_count": 24,
     "metadata": {},
     "output_type": "execute_result"
    },
    {
     "data": {
      "image/png": "[encoded data removed]",
      "text/plain": [
       "<Figure size 1080x720 with 1 Axes>"
      ]
     },
     "metadata": {
      "needs_background": "light"
     },
     "output_type": "display_data"
    }
   ],
   "source": [
    "#comparing the results of NN and LR\n",
    "plt.figure(figsize=(15,10))\n",
    "\n",
    "# Neural Network plots\n",
    "plt.plot(acc_nn.accuracies, 'r-', label = \"Training Accuracies - NN\")\n",
    "plt.plot(acc_nn.test_accuracies, 'g-', label = \"Testing Accuracies - NN\")\n",
    "\n",
    "# Logistic Regression plots\n",
    "plt.plot(acc_lr.accuracies, 'k-', label = \"Training Accuracies - LR\")\n",
    "plt.plot(acc_lr.test_accuracies, 'b-', label = \"Testing Accuracies - LR\")\n",
    "plt.legend()"
   ]
  },
  {
   "cell_type": "markdown",
   "id": "80dfb35c",
   "metadata": {
    "papermill": {
     "duration": 0.04815,
     "end_time": "2022-08-16T10:12:45.996477",
     "exception": false,
     "start_time": "2022-08-16T10:12:45.948327",
     "status": "completed"
    },
    "tags": []
   },
   "source": [
    "#### Plotting the outputs of this layer of the NN.\n"
   ]
  },
  {
   "cell_type": "code",
   "execution_count": 25,
   "id": "45eb2ff5",
   "metadata": {
    "execution": {
     "iopub.execute_input": "2022-08-16T10:12:46.101301Z",
     "iopub.status.busy": "2022-08-16T10:12:46.099968Z",
     "iopub.status.idle": "2022-08-16T10:12:46.123141Z",
     "shell.execute_reply": "2022-08-16T10:12:46.123722Z"
    },
    "papermill": {
     "duration": 0.079602,
     "end_time": "2022-08-16T10:12:46.123892",
     "exception": false,
     "start_time": "2022-08-16T10:12:46.044290",
     "status": "completed"
    },
    "tags": []
   },
   "outputs": [],
   "source": [
    "new_model = Model(layers[:-2])\n",
    "testing_plot = new_model(testing_data_x)"
   ]
  },
  {
   "cell_type": "code",
   "execution_count": 26,
   "id": "4c0a5485",
   "metadata": {
    "execution": {
     "iopub.execute_input": "2022-08-16T10:12:46.242093Z",
     "iopub.status.busy": "2022-08-16T10:12:46.241368Z",
     "iopub.status.idle": "2022-08-16T10:12:46.469425Z",
     "shell.execute_reply": "2022-08-16T10:12:46.468336Z"
    },
    "papermill": {
     "duration": 0.295175,
     "end_time": "2022-08-16T10:12:46.469578",
     "exception": false,
     "start_time": "2022-08-16T10:12:46.174403",
     "status": "completed"
    },
    "tags": []
   },
   "outputs": [
    {
     "data": {
      "text/plain": [
       "Text(0.5, 1.0, 'Outputs')"
      ]
     },
     "execution_count": 26,
     "metadata": {},
     "output_type": "execute_result"
    },
    {
     "data": {
      "image/png": "[encoded data removed]",
      "text/plain": [
       "<Figure size 576x504 with 1 Axes>"
      ]
     },
     "metadata": {
      "needs_background": "light"
     },
     "output_type": "display_data"
    }
   ],
   "source": [
    "# Plotting the scatter plot of points and color coding by class\n",
    "plt.figure(figsize=(8,7))\n",
    "plt.scatter(testing_plot[:,0], testing_plot[:,1], alpha = 0.1, c = y_test.ravel());\n",
    "plt.title('Outputs')"
   ]
  },
  {
   "cell_type": "markdown",
   "id": "a74fcf8f",
   "metadata": {
    "papermill": {
     "duration": 0.052279,
     "end_time": "2022-08-16T10:12:46.579518",
     "exception": false,
     "start_time": "2022-08-16T10:12:46.527239",
     "status": "completed"
    },
    "tags": []
   },
   "source": [
    "Probability contours"
   ]
  },
  {
   "cell_type": "code",
   "execution_count": 27,
   "id": "d0afc8e3",
   "metadata": {
    "execution": {
     "iopub.execute_input": "2022-08-16T10:12:46.733673Z",
     "iopub.status.busy": "2022-08-16T10:12:46.732693Z",
     "iopub.status.idle": "2022-08-16T10:12:46.746492Z",
     "shell.execute_reply": "2022-08-16T10:12:46.745941Z"
    },
    "papermill": {
     "duration": 0.071682,
     "end_time": "2022-08-16T10:12:46.746627",
     "exception": false,
     "start_time": "2022-08-16T10:12:46.674945",
     "status": "completed"
    },
    "tags": []
   },
   "outputs": [],
   "source": [
    "model_prob = Model(layers[-2:]) "
   ]
  },
  {
   "cell_type": "code",
   "execution_count": 28,
   "id": "9b96e238",
   "metadata": {
    "execution": {
     "iopub.execute_input": "2022-08-16T10:12:46.855211Z",
     "iopub.status.busy": "2022-08-16T10:12:46.854490Z",
     "iopub.status.idle": "2022-08-16T10:12:46.871095Z",
     "shell.execute_reply": "2022-08-16T10:12:46.872142Z"
    },
    "papermill": {
     "duration": 0.074916,
     "end_time": "2022-08-16T10:12:46.872308",
     "exception": false,
     "start_time": "2022-08-16T10:12:46.797392",
     "status": "completed"
    },
    "tags": []
   },
   "outputs": [],
   "source": [
    "#creating the x and y ranges according to the above generated plot.\n",
    "x_range = np.linspace(-4, 1, 100) \n",
    "y_range = np.linspace(-6, 6, 100) \n",
    "x_grid, y_grid = np.meshgrid(x_range, y_range) # x_grid and y_grig are of size 100 X 100\n",
    "\n",
    "# converting x_grid and y_grid to continuous arrays\n",
    "x_gridflat = np.ravel(x_grid)\n",
    "y_gridflat = np.ravel(y_grid)\n",
    "\n",
    "# The last layer of the current model takes two columns as input. Hence transpose of np.vstack() is required.\n",
    "X = np.vstack((x_gridflat, y_gridflat)).T\n",
    "\n",
    "prob_contour = model_prob(X).reshape(100,100) "
   ]
  },
  {
   "cell_type": "code",
   "execution_count": 29,
   "id": "da72499a",
   "metadata": {
    "execution": {
     "iopub.execute_input": "2022-08-16T10:12:46.991718Z",
     "iopub.status.busy": "2022-08-16T10:12:46.990996Z",
     "iopub.status.idle": "2022-08-16T10:12:47.277187Z",
     "shell.execute_reply": "2022-08-16T10:12:47.277736Z"
    },
    "papermill": {
     "duration": 0.346346,
     "end_time": "2022-08-16T10:12:47.277895",
     "exception": false,
     "start_time": "2022-08-16T10:12:46.931549",
     "status": "completed"
    },
    "tags": []
   },
   "outputs": [
    {
     "data": {
      "image/png": "[encoded data removed]",
      "text/plain": [
       "<Figure size 720x648 with 1 Axes>"
      ]
     },
     "metadata": {
      "needs_background": "light"
     },
     "output_type": "display_data"
    }
   ],
   "source": [
    "plt.figure(figsize=(10,9))\n",
    "plt.scatter(testing_plot[:,0], testing_plot[:,1], alpha = 0.1, c = y_test.ravel())\n",
    "contours = plt.contour(x_grid,y_grid,prob_contour)\n",
    "plt.title('Probability Contours')\n",
    "plt.clabel(contours, inline = True );"
   ]
  },
  {
   "cell_type": "code",
   "execution_count": null,
   "id": "e81b4ac7",
   "metadata": {
    "papermill": {
     "duration": 0.053653,
     "end_time": "2022-08-16T10:12:47.385972",
     "exception": false,
     "start_time": "2022-08-16T10:12:47.332319",
     "status": "completed"
    },
    "tags": []
   },
   "outputs": [],
   "source": []
  }
 ],
 "metadata": {
  "kernelspec": {
   "display_name": "Python 3",
   "language": "python",
   "name": "python3"
  },
  "language_info": {
   "codemirror_mode": {
    "name": "ipython",
    "version": 3
   },
   "file_extension": ".py",
   "mimetype": "text/x-python",
   "name": "python",
   "nbconvert_exporter": "python",
   "pygments_lexer": "ipython3",
   "version": "3.6.15"
  },
  "papermill": {
   "default_parameters": {},
   "duration": 123.186494,
   "end_time": "2022-08-16T10:12:47.861092",
   "environment_variables": {},
   "exception": null,
   "input_path": "2020-08-11-part2.ipynb",
   "output_path": "2020-08-11-part2.ipynb",
   "parameters": {},
   "start_time": "2022-08-16T10:10:44.674598",
   "version": "2.3.3"
  }
 },
 "nbformat": 4,
 "nbformat_minor": 5
}