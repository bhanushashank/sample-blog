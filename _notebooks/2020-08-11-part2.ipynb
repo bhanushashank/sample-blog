{
 "cells": [
  {
   "cell_type": "markdown",
   "id": "98380cd3",
   "metadata": {
    "papermill": {
     "duration": 0.032848,
     "end_time": "2022-02-03T20:08:03.006374",
     "exception": false,
     "start_time": "2022-02-03T20:08:02.973526",
     "status": "completed"
    },
    "tags": []
   },
   "source": [
    "# Distinguish Your Own Digits (DYOD)"
   ]
  },
  {
   "cell_type": "markdown",
   "id": "ef31240d",
   "metadata": {
    "papermill": {
     "duration": 0.031627,
     "end_time": "2022-02-03T20:08:03.071189",
     "exception": false,
     "start_time": "2022-02-03T20:08:03.039562",
     "status": "completed"
    },
    "tags": []
   },
   "source": [
    "You are going to write a classifier that distinguishes between the number 3 and number 8."
   ]
  },
  {
   "cell_type": "code",
   "execution_count": 1,
   "id": "b15c8646",
   "metadata": {
    "execution": {
     "iopub.execute_input": "2022-02-03T20:08:03.143578Z",
     "iopub.status.busy": "2022-02-03T20:08:03.142939Z",
     "iopub.status.idle": "2022-02-03T20:08:03.155256Z",
     "shell.execute_reply": "2022-02-03T20:08:03.154698Z"
    },
    "papermill": {
     "duration": 0.054996,
     "end_time": "2022-02-03T20:08:03.155388",
     "exception": false,
     "start_time": "2022-02-03T20:08:03.100392",
     "status": "completed"
    },
    "tags": []
   },
   "outputs": [],
   "source": [
    "%load_ext autoreload\n",
    "%autoreload 2"
   ]
  },
  {
   "cell_type": "code",
   "execution_count": 2,
   "id": "22ef38dc",
   "metadata": {
    "execution": {
     "iopub.execute_input": "2022-02-03T20:08:03.220742Z",
     "iopub.status.busy": "2022-02-03T20:08:03.219839Z",
     "iopub.status.idle": "2022-02-03T20:08:03.926558Z",
     "shell.execute_reply": "2022-02-03T20:08:03.926004Z"
    },
    "papermill": {
     "duration": 0.741667,
     "end_time": "2022-02-03T20:08:03.926709",
     "exception": false,
     "start_time": "2022-02-03T20:08:03.185042",
     "status": "completed"
    },
    "tags": []
   },
   "outputs": [],
   "source": [
    "%matplotlib inline\n",
    "import numpy as np\n",
    "import matplotlib.pyplot as plt\n",
    "import pandas as pd"
   ]
  },
  {
   "cell_type": "markdown",
   "id": "ba036198",
   "metadata": {
    "papermill": {
     "duration": 0.026508,
     "end_time": "2022-02-03T20:08:03.985403",
     "exception": false,
     "start_time": "2022-02-03T20:08:03.958895",
     "status": "completed"
    },
    "tags": []
   },
   "source": [
    "From the command line run `pip install mnist`. This is a library that will help you bring down the mnist dataset. If you run this from a notebook, you need to put  `!pip install mnist` in a cell by itself."
   ]
  },
  {
   "cell_type": "code",
   "execution_count": 3,
   "id": "bb6ad8a1",
   "metadata": {
    "execution": {
     "iopub.execute_input": "2022-02-03T20:08:04.057379Z",
     "iopub.status.busy": "2022-02-03T20:08:04.056688Z",
     "iopub.status.idle": "2022-02-03T20:08:05.961586Z",
     "shell.execute_reply": "2022-02-03T20:08:05.962205Z"
    },
    "papermill": {
     "duration": 1.942578,
     "end_time": "2022-02-03T20:08:05.962370",
     "exception": false,
     "start_time": "2022-02-03T20:08:04.019792",
     "status": "completed"
    },
    "tags": []
   },
   "outputs": [
    {
     "name": "stdout",
     "output_type": "stream",
     "text": [
      "Collecting mnist\r\n"
     ]
    },
    {
     "name": "stdout",
     "output_type": "stream",
     "text": [
      "  Downloading mnist-0.2.2-py2.py3-none-any.whl (3.5 kB)\r\n",
      "Requirement already satisfied: numpy in /opt/hostedtoolcache/Python/3.6.15/x64/lib/python3.6/site-packages (from mnist) (1.19.5)\r\n"
     ]
    },
    {
     "name": "stdout",
     "output_type": "stream",
     "text": [
      "Installing collected packages: mnist\r\n"
     ]
    },
    {
     "name": "stdout",
     "output_type": "stream",
     "text": [
      "Successfully installed mnist-0.2.2\r\n"
     ]
    }
   ],
   "source": [
    "!pip install mnist"
   ]
  },
  {
   "cell_type": "markdown",
   "id": "69df9c9a",
   "metadata": {
    "papermill": {
     "duration": 0.025903,
     "end_time": "2022-02-03T20:08:06.014357",
     "exception": false,
     "start_time": "2022-02-03T20:08:05.988454",
     "status": "completed"
    },
    "tags": []
   },
   "source": [
    "## Preparing the Data"
   ]
  },
  {
   "cell_type": "code",
   "execution_count": 4,
   "id": "7f69d806",
   "metadata": {
    "execution": {
     "iopub.execute_input": "2022-02-03T20:08:06.070717Z",
     "iopub.status.busy": "2022-02-03T20:08:06.069910Z",
     "iopub.status.idle": "2022-02-03T20:08:06.084064Z",
     "shell.execute_reply": "2022-02-03T20:08:06.084578Z"
    },
    "papermill": {
     "duration": 0.044342,
     "end_time": "2022-02-03T20:08:06.084694",
     "exception": false,
     "start_time": "2022-02-03T20:08:06.040352",
     "status": "completed"
    },
    "tags": []
   },
   "outputs": [],
   "source": [
    "import mnist"
   ]
  },
  {
   "cell_type": "code",
   "execution_count": 5,
   "id": "a411e44f",
   "metadata": {
    "execution": {
     "iopub.execute_input": "2022-02-03T20:08:06.144146Z",
     "iopub.status.busy": "2022-02-03T20:08:06.143528Z",
     "iopub.status.idle": "2022-02-03T20:08:06.697513Z",
     "shell.execute_reply": "2022-02-03T20:08:06.696972Z"
    },
    "papermill": {
     "duration": 0.585858,
     "end_time": "2022-02-03T20:08:06.697646",
     "exception": false,
     "start_time": "2022-02-03T20:08:06.111788",
     "status": "completed"
    },
    "tags": []
   },
   "outputs": [],
   "source": [
    "train_images = mnist.train_images()\n",
    "train_labels = mnist.train_labels()"
   ]
  },
  {
   "cell_type": "code",
   "execution_count": 6,
   "id": "dceab3a5",
   "metadata": {
    "execution": {
     "iopub.execute_input": "2022-02-03T20:08:06.760677Z",
     "iopub.status.busy": "2022-02-03T20:08:06.760096Z",
     "iopub.status.idle": "2022-02-03T20:08:06.775886Z",
     "shell.execute_reply": "2022-02-03T20:08:06.775352Z"
    },
    "papermill": {
     "duration": 0.05045,
     "end_time": "2022-02-03T20:08:06.775993",
     "exception": false,
     "start_time": "2022-02-03T20:08:06.725543",
     "status": "completed"
    },
    "tags": []
   },
   "outputs": [
    {
     "data": {
      "text/plain": [
       "((60000, 28, 28), (60000,))"
      ]
     },
     "execution_count": 6,
     "metadata": {},
     "output_type": "execute_result"
    }
   ],
   "source": [
    "train_images.shape, train_labels.shape"
   ]
  },
  {
   "cell_type": "code",
   "execution_count": 7,
   "id": "f50dc2bb",
   "metadata": {
    "execution": {
     "iopub.execute_input": "2022-02-03T20:08:06.835272Z",
     "iopub.status.busy": "2022-02-03T20:08:06.834743Z",
     "iopub.status.idle": "2022-02-03T20:08:07.003118Z",
     "shell.execute_reply": "2022-02-03T20:08:07.002151Z"
    },
    "papermill": {
     "duration": 0.198385,
     "end_time": "2022-02-03T20:08:07.003277",
     "exception": false,
     "start_time": "2022-02-03T20:08:06.804892",
     "status": "completed"
    },
    "tags": []
   },
   "outputs": [],
   "source": [
    "test_images = mnist.test_images()\n",
    "test_labels = mnist.test_labels()"
   ]
  },
  {
   "cell_type": "code",
   "execution_count": 8,
   "id": "fc38cf1b",
   "metadata": {
    "execution": {
     "iopub.execute_input": "2022-02-03T20:08:07.066690Z",
     "iopub.status.busy": "2022-02-03T20:08:07.066095Z",
     "iopub.status.idle": "2022-02-03T20:08:07.081140Z",
     "shell.execute_reply": "2022-02-03T20:08:07.081769Z"
    },
    "papermill": {
     "duration": 0.051294,
     "end_time": "2022-02-03T20:08:07.081907",
     "exception": false,
     "start_time": "2022-02-03T20:08:07.030613",
     "status": "completed"
    },
    "tags": []
   },
   "outputs": [
    {
     "data": {
      "text/plain": [
       "((10000, 28, 28), (10000,))"
      ]
     },
     "execution_count": 8,
     "metadata": {},
     "output_type": "execute_result"
    }
   ],
   "source": [
    "test_images.shape, test_labels.shape"
   ]
  },
  {
   "cell_type": "code",
   "execution_count": 9,
   "id": "f9ed8fe0",
   "metadata": {
    "execution": {
     "iopub.execute_input": "2022-02-03T20:08:07.147769Z",
     "iopub.status.busy": "2022-02-03T20:08:07.147021Z",
     "iopub.status.idle": "2022-02-03T20:08:07.338517Z",
     "shell.execute_reply": "2022-02-03T20:08:07.338012Z"
    },
    "papermill": {
     "duration": 0.226117,
     "end_time": "2022-02-03T20:08:07.338642",
     "exception": false,
     "start_time": "2022-02-03T20:08:07.112525",
     "status": "completed"
    },
    "tags": []
   },
   "outputs": [
    {
     "name": "stdout",
     "output_type": "stream",
     "text": [
      "2\n"
     ]
    },
    {
     "data": {
      "text/plain": [
       "<matplotlib.image.AxesImage at 0x7f252c2b3c50>"
      ]
     },
     "execution_count": 9,
     "metadata": {},
     "output_type": "execute_result"
    },
    {
     "data": {
      "image/png": "[encoded data removed]",
      "text/plain": [
       "<Figure size 432x288 with 1 Axes>"
      ]
     },
     "metadata": {
      "needs_background": "light"
     },
     "output_type": "display_data"
    }
   ],
   "source": [
    "image_index = 7776 # You may select anything up to 60,000\n",
    "print(train_labels[image_index]) \n",
    "plt.imshow(train_images[image_index], cmap='Greys')"
   ]
  },
  {
   "cell_type": "markdown",
   "id": "a8d2388d",
   "metadata": {
    "papermill": {
     "duration": 0.027476,
     "end_time": "2022-02-03T20:08:07.395024",
     "exception": false,
     "start_time": "2022-02-03T20:08:07.367548",
     "status": "completed"
    },
    "tags": []
   },
   "source": [
    "## Filter data to get 3 and 8 out"
   ]
  },
  {
   "cell_type": "code",
   "execution_count": 10,
   "id": "776f7fc7",
   "metadata": {
    "execution": {
     "iopub.execute_input": "2022-02-03T20:08:07.464777Z",
     "iopub.status.busy": "2022-02-03T20:08:07.463948Z",
     "iopub.status.idle": "2022-02-03T20:08:07.484637Z",
     "shell.execute_reply": "2022-02-03T20:08:07.483935Z"
    },
    "papermill": {
     "duration": 0.061805,
     "end_time": "2022-02-03T20:08:07.484777",
     "exception": false,
     "start_time": "2022-02-03T20:08:07.422972",
     "status": "completed"
    },
    "tags": []
   },
   "outputs": [],
   "source": [
    "train_filter = np.where((train_labels == 3 ) | (train_labels == 8))\n",
    "test_filter = np.where((test_labels == 3) | (test_labels == 8))\n",
    "X_train, y_train = train_images[train_filter], train_labels[train_filter]\n",
    "X_test, y_test = test_images[test_filter], test_labels[test_filter]"
   ]
  },
  {
   "cell_type": "markdown",
   "id": "948f0b7e",
   "metadata": {
    "papermill": {
     "duration": 0.028629,
     "end_time": "2022-02-03T20:08:07.543799",
     "exception": false,
     "start_time": "2022-02-03T20:08:07.515170",
     "status": "completed"
    },
    "tags": []
   },
   "source": [
    "We normalize the pizel values in the 0 to 1 range"
   ]
  },
  {
   "cell_type": "code",
   "execution_count": 11,
   "id": "ee4c2166",
   "metadata": {
    "execution": {
     "iopub.execute_input": "2022-02-03T20:08:07.615699Z",
     "iopub.status.busy": "2022-02-03T20:08:07.615023Z",
     "iopub.status.idle": "2022-02-03T20:08:07.679410Z",
     "shell.execute_reply": "2022-02-03T20:08:07.678733Z"
    },
    "papermill": {
     "duration": 0.10129,
     "end_time": "2022-02-03T20:08:07.679547",
     "exception": false,
     "start_time": "2022-02-03T20:08:07.578257",
     "status": "completed"
    },
    "tags": []
   },
   "outputs": [],
   "source": [
    "X_train = X_train/255.\n",
    "X_test = X_test/255."
   ]
  },
  {
   "cell_type": "markdown",
   "id": "ddcf4fab",
   "metadata": {
    "papermill": {
     "duration": 0.032563,
     "end_time": "2022-02-03T20:08:07.744437",
     "exception": false,
     "start_time": "2022-02-03T20:08:07.711874",
     "status": "completed"
    },
    "tags": []
   },
   "source": [
    "And setup the labels as 1 (when the digit is 3) and 0 (when the digit is 8)"
   ]
  },
  {
   "cell_type": "code",
   "execution_count": 12,
   "id": "7dc908f2",
   "metadata": {
    "execution": {
     "iopub.execute_input": "2022-02-03T20:08:07.809697Z",
     "iopub.status.busy": "2022-02-03T20:08:07.808832Z",
     "iopub.status.idle": "2022-02-03T20:08:07.824241Z",
     "shell.execute_reply": "2022-02-03T20:08:07.823526Z"
    },
    "papermill": {
     "duration": 0.049791,
     "end_time": "2022-02-03T20:08:07.824386",
     "exception": false,
     "start_time": "2022-02-03T20:08:07.774595",
     "status": "completed"
    },
    "tags": []
   },
   "outputs": [],
   "source": [
    "y_train = 1*(y_train==3)\n",
    "y_test = 1*(y_test==3)"
   ]
  },
  {
   "cell_type": "code",
   "execution_count": 13,
   "id": "01e4e969",
   "metadata": {
    "execution": {
     "iopub.execute_input": "2022-02-03T20:08:07.887104Z",
     "iopub.status.busy": "2022-02-03T20:08:07.886577Z",
     "iopub.status.idle": "2022-02-03T20:08:07.900501Z",
     "shell.execute_reply": "2022-02-03T20:08:07.901099Z"
    },
    "papermill": {
     "duration": 0.046766,
     "end_time": "2022-02-03T20:08:07.901238",
     "exception": false,
     "start_time": "2022-02-03T20:08:07.854472",
     "status": "completed"
    },
    "tags": []
   },
   "outputs": [
    {
     "data": {
      "text/plain": [
       "((11982, 28, 28), (1984, 28, 28))"
      ]
     },
     "execution_count": 13,
     "metadata": {},
     "output_type": "execute_result"
    }
   ],
   "source": [
    "X_train.shape, X_test.shape"
   ]
  },
  {
   "cell_type": "markdown",
   "id": "5ccf3f85",
   "metadata": {
    "papermill": {
     "duration": 0.029834,
     "end_time": "2022-02-03T20:08:07.958707",
     "exception": false,
     "start_time": "2022-02-03T20:08:07.928873",
     "status": "completed"
    },
    "tags": []
   },
   "source": [
    "We reshape the data to flatten the image pixels into a set of features or co-variates:"
   ]
  },
  {
   "cell_type": "code",
   "execution_count": 14,
   "id": "5286a4a3",
   "metadata": {
    "execution": {
     "iopub.execute_input": "2022-02-03T20:08:08.017212Z",
     "iopub.status.busy": "2022-02-03T20:08:08.016678Z",
     "iopub.status.idle": "2022-02-03T20:08:08.029119Z",
     "shell.execute_reply": "2022-02-03T20:08:08.029685Z"
    },
    "papermill": {
     "duration": 0.043276,
     "end_time": "2022-02-03T20:08:08.029802",
     "exception": false,
     "start_time": "2022-02-03T20:08:07.986526",
     "status": "completed"
    },
    "tags": []
   },
   "outputs": [
    {
     "data": {
      "text/plain": [
       "((11982, 784), (1984, 784))"
      ]
     },
     "execution_count": 14,
     "metadata": {},
     "output_type": "execute_result"
    }
   ],
   "source": [
    "X_train = X_train.reshape(X_train.shape[0], -1)\n",
    "X_test = X_test.reshape(X_test.shape[0], -1)\n",
    "X_train.shape, X_test.shape"
   ]
  },
  {
   "cell_type": "code",
   "execution_count": 15,
   "id": "73c5f88a",
   "metadata": {
    "execution": {
     "iopub.execute_input": "2022-02-03T20:08:08.100382Z",
     "iopub.status.busy": "2022-02-03T20:08:08.099751Z",
     "iopub.status.idle": "2022-02-03T20:08:08.120226Z",
     "shell.execute_reply": "2022-02-03T20:08:08.120699Z"
    },
    "papermill": {
     "duration": 0.05977,
     "end_time": "2022-02-03T20:08:08.120833",
     "exception": false,
     "start_time": "2022-02-03T20:08:08.061063",
     "status": "completed"
    },
    "tags": []
   },
   "outputs": [],
   "source": [
    "#Impoting functions from 'Kudzu'\n",
    "from kudzu.model import Model\n",
    "from kudzu.train import Learner\n",
    "from kudzu.optim import GD\n",
    "from kudzu.data import Data, Sampler,Dataloader\n",
    "\n",
    "from kudzu.callbacks import AccCallback\n",
    "from kudzu.callbacks import ClfCallback\n",
    "\n",
    "from kudzu.loss import MSE\n",
    "\n",
    "from kudzu.layer import Sigmoid,Relu\n",
    "from kudzu.layer import Affine"
   ]
  },
  {
   "cell_type": "markdown",
   "id": "bc01172a",
   "metadata": {
    "papermill": {
     "duration": 0.033827,
     "end_time": "2022-02-03T20:08:08.188659",
     "exception": false,
     "start_time": "2022-02-03T20:08:08.154832",
     "status": "completed"
    },
    "tags": []
   },
   "source": [
    "### Let us create a `Config` class, to store important parameters. \n",
    "This class essentially plays the role of a dictionary."
   ]
  },
  {
   "cell_type": "code",
   "execution_count": 16,
   "id": "978281aa",
   "metadata": {
    "execution": {
     "iopub.execute_input": "2022-02-03T20:08:08.255304Z",
     "iopub.status.busy": "2022-02-03T20:08:08.254680Z",
     "iopub.status.idle": "2022-02-03T20:08:08.267847Z",
     "shell.execute_reply": "2022-02-03T20:08:08.267390Z"
    },
    "papermill": {
     "duration": 0.04691,
     "end_time": "2022-02-03T20:08:08.267956",
     "exception": false,
     "start_time": "2022-02-03T20:08:08.221046",
     "status": "completed"
    },
    "tags": []
   },
   "outputs": [],
   "source": [
    "class Config:\n",
    "    pass\n",
    "config = Config()\n",
    "config.lr = 0.001\n",
    "config.num_epochs = 250\n",
    "config.bs = 50"
   ]
  },
  {
   "cell_type": "markdown",
   "id": "1385fa59",
   "metadata": {
    "papermill": {
     "duration": 0.029461,
     "end_time": "2022-02-03T20:08:08.327982",
     "exception": false,
     "start_time": "2022-02-03T20:08:08.298521",
     "status": "completed"
    },
    "tags": []
   },
   "source": [
    "### Running Models with the Training data\n",
    "Details about the network layers:\n",
    "- A first affine layer has 784 inputs and does 100 affine transforms. These are followed by a Relu\n",
    "- A second affine layer has 100 inputs from the 100 activations of the past layer, and does 100 affine transforms. These are followed by a Relu\n",
    "- A third affine layer has 100 activations and does 2 affine transformations to create an embedding for visualization. There is no non-linearity here.\n",
    "- A final \"logistic regression\" which has an affine transform from 2 inputs to 1 output, which is squeezed through a sigmoid.\n"
   ]
  },
  {
   "cell_type": "code",
   "execution_count": 17,
   "id": "2b9c66db",
   "metadata": {
    "execution": {
     "iopub.execute_input": "2022-02-03T20:08:08.391768Z",
     "iopub.status.busy": "2022-02-03T20:08:08.391149Z",
     "iopub.status.idle": "2022-02-03T20:08:08.403099Z",
     "shell.execute_reply": "2022-02-03T20:08:08.403630Z"
    },
    "papermill": {
     "duration": 0.044195,
     "end_time": "2022-02-03T20:08:08.403787",
     "exception": false,
     "start_time": "2022-02-03T20:08:08.359592",
     "status": "completed"
    },
    "tags": []
   },
   "outputs": [],
   "source": [
    "data = Data(X_train, y_train.reshape(-1,1))\n",
    "sampler = Sampler(data, config.bs, shuffle=True)\n",
    "\n",
    "dl = Dataloader(data, sampler)\n",
    "\n",
    "opt = GD(config.lr)\n",
    "loss = MSE()"
   ]
  },
  {
   "cell_type": "code",
   "execution_count": 18,
   "id": "b275e4c2",
   "metadata": {
    "execution": {
     "iopub.execute_input": "2022-02-03T20:08:08.471551Z",
     "iopub.status.busy": "2022-02-03T20:08:08.470944Z",
     "iopub.status.idle": "2022-02-03T20:08:08.480698Z",
     "shell.execute_reply": "2022-02-03T20:08:08.481278Z"
    },
    "papermill": {
     "duration": 0.04695,
     "end_time": "2022-02-03T20:08:08.481455",
     "exception": false,
     "start_time": "2022-02-03T20:08:08.434505",
     "status": "completed"
    },
    "tags": []
   },
   "outputs": [],
   "source": [
    "training_data_x = X_train\n",
    "testing_data_x = X_test\n",
    "training_data_y = y_train.reshape(-1,1)\n",
    "testing_data_y = y_test.reshape(-1,1)"
   ]
  },
  {
   "cell_type": "code",
   "execution_count": 19,
   "id": "76951160",
   "metadata": {
    "execution": {
     "iopub.execute_input": "2022-02-03T20:08:08.542247Z",
     "iopub.status.busy": "2022-02-03T20:08:08.541638Z",
     "iopub.status.idle": "2022-02-03T20:08:08.556663Z",
     "shell.execute_reply": "2022-02-03T20:08:08.557191Z"
    },
    "papermill": {
     "duration": 0.047387,
     "end_time": "2022-02-03T20:08:08.557328",
     "exception": false,
     "start_time": "2022-02-03T20:08:08.509941",
     "status": "completed"
    },
    "tags": []
   },
   "outputs": [
    {
     "name": "stdout",
     "output_type": "stream",
     "text": [
      "xavier\n",
      "xavier\n",
      "xavier\n",
      "xavier\n",
      "xavier\n"
     ]
    }
   ],
   "source": [
    "layers = [Affine(\"first\", 784, 100), Relu(\"first\"), Affine(\"second\", 100, 100), Relu(\"second\"), Affine(\"third\", 100, 2), Affine(\"last\", 2, 1), Sigmoid(\"last\")]\n",
    "model_nn = Model(layers)\n",
    "model_lr = Model([Affine(\"logits\", 784, 1), Sigmoid(\"sigmoid\")])"
   ]
  },
  {
   "cell_type": "code",
   "execution_count": 20,
   "id": "6eede77a",
   "metadata": {
    "execution": {
     "iopub.execute_input": "2022-02-03T20:08:08.618326Z",
     "iopub.status.busy": "2022-02-03T20:08:08.617749Z",
     "iopub.status.idle": "2022-02-03T20:08:08.628610Z",
     "shell.execute_reply": "2022-02-03T20:08:08.628159Z"
    },
    "papermill": {
     "duration": 0.043791,
     "end_time": "2022-02-03T20:08:08.628710",
     "exception": false,
     "start_time": "2022-02-03T20:08:08.584919",
     "status": "completed"
    },
    "tags": []
   },
   "outputs": [],
   "source": [
    "nn_learner = Learner(loss, model_nn, opt, config.num_epochs)\n",
    "acc_nn = ClfCallback(nn_learner, config.bs, training_data_x , testing_data_x, training_data_y, testing_data_y)\n",
    "nn_learner.set_callbacks([acc_nn])"
   ]
  },
  {
   "cell_type": "code",
   "execution_count": 21,
   "id": "877b6cc7",
   "metadata": {
    "execution": {
     "iopub.execute_input": "2022-02-03T20:08:08.694657Z",
     "iopub.status.busy": "2022-02-03T20:08:08.694011Z",
     "iopub.status.idle": "2022-02-03T20:08:08.709714Z",
     "shell.execute_reply": "2022-02-03T20:08:08.708956Z"
    },
    "papermill": {
     "duration": 0.04847,
     "end_time": "2022-02-03T20:08:08.709834",
     "exception": false,
     "start_time": "2022-02-03T20:08:08.661364",
     "status": "completed"
    },
    "tags": []
   },
   "outputs": [],
   "source": [
    "lr_learner = Learner(loss, model_lr, opt, config.num_epochs)\n",
    "acc_lr = ClfCallback(lr_learner, config.bs, training_data_x , testing_data_x, training_data_y, testing_data_y)\n",
    "lr_learner.set_callbacks([acc_lr])"
   ]
  },
  {
   "cell_type": "code",
   "execution_count": 22,
   "id": "d9b133c3",
   "metadata": {
    "execution": {
     "iopub.execute_input": "2022-02-03T20:08:08.784889Z",
     "iopub.status.busy": "2022-02-03T20:08:08.784274Z",
     "iopub.status.idle": "2022-02-03T20:10:32.034810Z",
     "shell.execute_reply": "2022-02-03T20:10:32.035555Z"
    },
    "papermill": {
     "duration": 143.29109,
     "end_time": "2022-02-03T20:10:32.035730",
     "exception": false,
     "start_time": "2022-02-03T20:08:08.744640",
     "status": "completed"
    },
    "tags": []
   },
   "outputs": [
    {
     "name": "stdout",
     "output_type": "stream",
     "text": [
      "Epoch 0, Loss 0.2393\n",
      "Training Accuracy: 0.6869, Testing Accuracy: 0.6991\n",
      "\n"
     ]
    },
    {
     "name": "stdout",
     "output_type": "stream",
     "text": [
      "Epoch 10, Loss 0.1651\n",
      "Training Accuracy: 0.8851, Testing Accuracy: 0.8911\n",
      "\n"
     ]
    },
    {
     "name": "stdout",
     "output_type": "stream",
     "text": [
      "Epoch 20, Loss 0.0819\n",
      "Training Accuracy: 0.9214, Testing Accuracy: 0.9244\n",
      "\n"
     ]
    },
    {
     "name": "stdout",
     "output_type": "stream",
     "text": [
      "Epoch 30, Loss 0.0559\n",
      "Training Accuracy: 0.9402, Testing Accuracy: 0.9516\n",
      "\n"
     ]
    },
    {
     "name": "stdout",
     "output_type": "stream",
     "text": [
      "Epoch 40, Loss 0.045\n",
      "Training Accuracy: 0.9494, Testing Accuracy: 0.9592\n",
      "\n"
     ]
    },
    {
     "name": "stdout",
     "output_type": "stream",
     "text": [
      "Epoch 50, Loss 0.0391\n",
      "Training Accuracy: 0.9554, Testing Accuracy: 0.9652\n",
      "\n"
     ]
    },
    {
     "name": "stdout",
     "output_type": "stream",
     "text": [
      "Epoch 60, Loss 0.0354\n",
      "Training Accuracy: 0.9588, Testing Accuracy: 0.9667\n",
      "\n"
     ]
    },
    {
     "name": "stdout",
     "output_type": "stream",
     "text": [
      "Epoch 70, Loss 0.0328\n",
      "Training Accuracy: 0.9618, Testing Accuracy: 0.9682\n",
      "\n"
     ]
    },
    {
     "name": "stdout",
     "output_type": "stream",
     "text": [
      "Epoch 80, Loss 0.0309\n",
      "Training Accuracy: 0.9640, Testing Accuracy: 0.9672\n",
      "\n"
     ]
    },
    {
     "name": "stdout",
     "output_type": "stream",
     "text": [
      "Epoch 90, Loss 0.0294\n",
      "Training Accuracy: 0.9660, Testing Accuracy: 0.9672\n",
      "\n"
     ]
    },
    {
     "name": "stdout",
     "output_type": "stream",
     "text": [
      "Epoch 100, Loss 0.0281\n",
      "Training Accuracy: 0.9675, Testing Accuracy: 0.9682\n",
      "\n"
     ]
    },
    {
     "name": "stdout",
     "output_type": "stream",
     "text": [
      "Epoch 110, Loss 0.0271\n",
      "Training Accuracy: 0.9685, Testing Accuracy: 0.9688\n",
      "\n"
     ]
    },
    {
     "name": "stdout",
     "output_type": "stream",
     "text": [
      "Epoch 120, Loss 0.0262\n",
      "Training Accuracy: 0.9699, Testing Accuracy: 0.9693\n",
      "\n"
     ]
    },
    {
     "name": "stdout",
     "output_type": "stream",
     "text": [
      "Epoch 130, Loss 0.0254\n",
      "Training Accuracy: 0.9710, Testing Accuracy: 0.9698\n",
      "\n"
     ]
    },
    {
     "name": "stdout",
     "output_type": "stream",
     "text": [
      "Epoch 140, Loss 0.0247\n",
      "Training Accuracy: 0.9719, Testing Accuracy: 0.9693\n",
      "\n"
     ]
    },
    {
     "name": "stdout",
     "output_type": "stream",
     "text": [
      "Epoch 150, Loss 0.0241\n",
      "Training Accuracy: 0.9730, Testing Accuracy: 0.9698\n",
      "\n"
     ]
    },
    {
     "name": "stdout",
     "output_type": "stream",
     "text": [
      "Epoch 160, Loss 0.0235\n",
      "Training Accuracy: 0.9735, Testing Accuracy: 0.9703\n",
      "\n"
     ]
    },
    {
     "name": "stdout",
     "output_type": "stream",
     "text": [
      "Epoch 170, Loss 0.023\n",
      "Training Accuracy: 0.9743, Testing Accuracy: 0.9708\n",
      "\n"
     ]
    },
    {
     "name": "stdout",
     "output_type": "stream",
     "text": [
      "Epoch 180, Loss 0.0224\n",
      "Training Accuracy: 0.9750, Testing Accuracy: 0.9708\n",
      "\n"
     ]
    },
    {
     "name": "stdout",
     "output_type": "stream",
     "text": [
      "Epoch 190, Loss 0.022\n",
      "Training Accuracy: 0.9760, Testing Accuracy: 0.9713\n",
      "\n"
     ]
    },
    {
     "name": "stdout",
     "output_type": "stream",
     "text": [
      "Epoch 200, Loss 0.0215\n",
      "Training Accuracy: 0.9765, Testing Accuracy: 0.9708\n",
      "\n"
     ]
    },
    {
     "name": "stdout",
     "output_type": "stream",
     "text": [
      "Epoch 210, Loss 0.0211\n",
      "Training Accuracy: 0.9769, Testing Accuracy: 0.9708\n",
      "\n"
     ]
    },
    {
     "name": "stdout",
     "output_type": "stream",
     "text": [
      "Epoch 220, Loss 0.0207\n",
      "Training Accuracy: 0.9774, Testing Accuracy: 0.9713\n",
      "\n"
     ]
    },
    {
     "name": "stdout",
     "output_type": "stream",
     "text": [
      "Epoch 230, Loss 0.0203\n",
      "Training Accuracy: 0.9776, Testing Accuracy: 0.9718\n",
      "\n"
     ]
    },
    {
     "name": "stdout",
     "output_type": "stream",
     "text": [
      "Epoch 240, Loss 0.0199\n",
      "Training Accuracy: 0.9781, Testing Accuracy: 0.9723\n",
      "\n"
     ]
    },
    {
     "data": {
      "text/plain": [
       "0.07107327723264724"
      ]
     },
     "execution_count": 22,
     "metadata": {},
     "output_type": "execute_result"
    }
   ],
   "source": [
    "nn_learner.train_loop(dl)"
   ]
  },
  {
   "cell_type": "code",
   "execution_count": 23,
   "id": "e0163366",
   "metadata": {
    "execution": {
     "iopub.execute_input": "2022-02-03T20:10:32.130477Z",
     "iopub.status.busy": "2022-02-03T20:10:32.129841Z",
     "iopub.status.idle": "2022-02-03T20:10:52.261749Z",
     "shell.execute_reply": "2022-02-03T20:10:52.262340Z"
    },
    "papermill": {
     "duration": 20.179964,
     "end_time": "2022-02-03T20:10:52.262490",
     "exception": false,
     "start_time": "2022-02-03T20:10:32.082526",
     "status": "completed"
    },
    "tags": []
   },
   "outputs": [
    {
     "name": "stdout",
     "output_type": "stream",
     "text": [
      "Epoch 0, Loss 0.2254\n",
      "Training Accuracy: 0.7415, Testing Accuracy: 0.7490\n",
      "\n"
     ]
    },
    {
     "name": "stdout",
     "output_type": "stream",
     "text": [
      "Epoch 10, Loss 0.1018\n",
      "Training Accuracy: 0.9082, Testing Accuracy: 0.9224\n",
      "\n"
     ]
    },
    {
     "name": "stdout",
     "output_type": "stream",
     "text": [
      "Epoch 20, Loss 0.0788\n",
      "Training Accuracy: 0.9258, Testing Accuracy: 0.9400\n",
      "\n"
     ]
    },
    {
     "name": "stdout",
     "output_type": "stream",
     "text": [
      "Epoch 30, Loss 0.068\n",
      "Training Accuracy: 0.9346, Testing Accuracy: 0.9461\n",
      "\n"
     ]
    },
    {
     "name": "stdout",
     "output_type": "stream",
     "text": [
      "Epoch 40, Loss 0.0615\n",
      "Training Accuracy: 0.9404, Testing Accuracy: 0.9516\n",
      "\n"
     ]
    },
    {
     "name": "stdout",
     "output_type": "stream",
     "text": [
      "Epoch 50, Loss 0.057\n",
      "Training Accuracy: 0.9439, Testing Accuracy: 0.9541\n",
      "\n"
     ]
    },
    {
     "name": "stdout",
     "output_type": "stream",
     "text": [
      "Epoch 60, Loss 0.0537\n",
      "Training Accuracy: 0.9468, Testing Accuracy: 0.9546\n",
      "\n"
     ]
    },
    {
     "name": "stdout",
     "output_type": "stream",
     "text": [
      "Epoch 70, Loss 0.0512\n",
      "Training Accuracy: 0.9486, Testing Accuracy: 0.9546\n",
      "\n"
     ]
    },
    {
     "name": "stdout",
     "output_type": "stream",
     "text": [
      "Epoch 80, Loss 0.0491\n",
      "Training Accuracy: 0.9500, Testing Accuracy: 0.9561\n",
      "\n"
     ]
    },
    {
     "name": "stdout",
     "output_type": "stream",
     "text": [
      "Epoch 90, Loss 0.0474\n",
      "Training Accuracy: 0.9511, Testing Accuracy: 0.9592\n",
      "\n"
     ]
    },
    {
     "name": "stdout",
     "output_type": "stream",
     "text": [
      "Epoch 100, Loss 0.046\n",
      "Training Accuracy: 0.9528, Testing Accuracy: 0.9607\n",
      "\n"
     ]
    },
    {
     "name": "stdout",
     "output_type": "stream",
     "text": [
      "Epoch 110, Loss 0.0448\n",
      "Training Accuracy: 0.9538, Testing Accuracy: 0.9612\n",
      "\n"
     ]
    },
    {
     "name": "stdout",
     "output_type": "stream",
     "text": [
      "Epoch 120, Loss 0.0437\n",
      "Training Accuracy: 0.9543, Testing Accuracy: 0.9632\n",
      "\n"
     ]
    },
    {
     "name": "stdout",
     "output_type": "stream",
     "text": [
      "Epoch 130, Loss 0.0428\n",
      "Training Accuracy: 0.9547, Testing Accuracy: 0.9642\n",
      "\n"
     ]
    },
    {
     "name": "stdout",
     "output_type": "stream",
     "text": [
      "Epoch 140, Loss 0.042\n",
      "Training Accuracy: 0.9554, Testing Accuracy: 0.9647\n",
      "\n"
     ]
    },
    {
     "name": "stdout",
     "output_type": "stream",
     "text": [
      "Epoch 150, Loss 0.0412\n",
      "Training Accuracy: 0.9559, Testing Accuracy: 0.9657\n",
      "\n"
     ]
    },
    {
     "name": "stdout",
     "output_type": "stream",
     "text": [
      "Epoch 160, Loss 0.0405\n",
      "Training Accuracy: 0.9566, Testing Accuracy: 0.9662\n",
      "\n"
     ]
    },
    {
     "name": "stdout",
     "output_type": "stream",
     "text": [
      "Epoch 170, Loss 0.0399\n",
      "Training Accuracy: 0.9573, Testing Accuracy: 0.9662\n",
      "\n"
     ]
    },
    {
     "name": "stdout",
     "output_type": "stream",
     "text": [
      "Epoch 180, Loss 0.0394\n",
      "Training Accuracy: 0.9577, Testing Accuracy: 0.9657\n",
      "\n"
     ]
    },
    {
     "name": "stdout",
     "output_type": "stream",
     "text": [
      "Epoch 190, Loss 0.0389\n",
      "Training Accuracy: 0.9583, Testing Accuracy: 0.9662\n",
      "\n"
     ]
    },
    {
     "name": "stdout",
     "output_type": "stream",
     "text": [
      "Epoch 200, Loss 0.0384\n",
      "Training Accuracy: 0.9589, Testing Accuracy: 0.9672\n",
      "\n"
     ]
    },
    {
     "name": "stdout",
     "output_type": "stream",
     "text": [
      "Epoch 210, Loss 0.0379\n",
      "Training Accuracy: 0.9589, Testing Accuracy: 0.9667\n",
      "\n"
     ]
    },
    {
     "name": "stdout",
     "output_type": "stream",
     "text": [
      "Epoch 220, Loss 0.0375\n",
      "Training Accuracy: 0.9591, Testing Accuracy: 0.9672\n",
      "\n"
     ]
    },
    {
     "name": "stdout",
     "output_type": "stream",
     "text": [
      "Epoch 230, Loss 0.0371\n",
      "Training Accuracy: 0.9594, Testing Accuracy: 0.9672\n",
      "\n"
     ]
    },
    {
     "name": "stdout",
     "output_type": "stream",
     "text": [
      "Epoch 240, Loss 0.0368\n",
      "Training Accuracy: 0.9604, Testing Accuracy: 0.9672\n",
      "\n"
     ]
    },
    {
     "data": {
      "text/plain": [
       "0.07578882753191388"
      ]
     },
     "execution_count": 23,
     "metadata": {},
     "output_type": "execute_result"
    }
   ],
   "source": [
    "lr_learner.train_loop(dl)"
   ]
  },
  {
   "cell_type": "code",
   "execution_count": 24,
   "id": "ca410940",
   "metadata": {
    "execution": {
     "iopub.execute_input": "2022-02-03T20:10:52.360831Z",
     "iopub.status.busy": "2022-02-03T20:10:52.360277Z",
     "iopub.status.idle": "2022-02-03T20:10:52.649110Z",
     "shell.execute_reply": "2022-02-03T20:10:52.648110Z"
    },
    "papermill": {
     "duration": 0.337861,
     "end_time": "2022-02-03T20:10:52.649256",
     "exception": false,
     "start_time": "2022-02-03T20:10:52.311395",
     "status": "completed"
    },
    "tags": []
   },
   "outputs": [
    {
     "data": {
      "text/plain": [
       "<matplotlib.legend.Legend at 0x7f252be233c8>"
      ]
     },
     "execution_count": 24,
     "metadata": {},
     "output_type": "execute_result"
    },
    {
     "data": {
      "image/png": "[encoded data removed]",
      "text/plain": [
       "<Figure size 1080x720 with 1 Axes>"
      ]
     },
     "metadata": {
      "needs_background": "light"
     },
     "output_type": "display_data"
    }
   ],
   "source": [
    "#comparing the results of NN and LR\n",
    "plt.figure(figsize=(15,10))\n",
    "\n",
    "# Neural Network plots\n",
    "plt.plot(acc_nn.accuracies, 'r-', label = \"Training Accuracies - NN\")\n",
    "plt.plot(acc_nn.test_accuracies, 'g-', label = \"Testing Accuracies - NN\")\n",
    "\n",
    "# Logistic Regression plots\n",
    "plt.plot(acc_lr.accuracies, 'k-', label = \"Training Accuracies - LR\")\n",
    "plt.plot(acc_lr.test_accuracies, 'b-', label = \"Testing Accuracies - LR\")\n",
    "plt.legend()"
   ]
  },
  {
   "cell_type": "markdown",
   "id": "80dfb35c",
   "metadata": {
    "papermill": {
     "duration": 0.053516,
     "end_time": "2022-02-03T20:10:52.755249",
     "exception": false,
     "start_time": "2022-02-03T20:10:52.701733",
     "status": "completed"
    },
    "tags": []
   },
   "source": [
    "#### Plotting the outputs of this layer of the NN.\n"
   ]
  },
  {
   "cell_type": "code",
   "execution_count": 25,
   "id": "45eb2ff5",
   "metadata": {
    "execution": {
     "iopub.execute_input": "2022-02-03T20:10:52.855651Z",
     "iopub.status.busy": "2022-02-03T20:10:52.855083Z",
     "iopub.status.idle": "2022-02-03T20:10:52.879011Z",
     "shell.execute_reply": "2022-02-03T20:10:52.879451Z"
    },
    "papermill": {
     "duration": 0.077389,
     "end_time": "2022-02-03T20:10:52.879579",
     "exception": false,
     "start_time": "2022-02-03T20:10:52.802190",
     "status": "completed"
    },
    "tags": []
   },
   "outputs": [],
   "source": [
    "new_model = Model(layers[:-2])\n",
    "testing_plot = new_model(testing_data_x)"
   ]
  },
  {
   "cell_type": "code",
   "execution_count": 26,
   "id": "4c0a5485",
   "metadata": {
    "execution": {
     "iopub.execute_input": "2022-02-03T20:10:52.983062Z",
     "iopub.status.busy": "2022-02-03T20:10:52.982303Z",
     "iopub.status.idle": "2022-02-03T20:10:53.224955Z",
     "shell.execute_reply": "2022-02-03T20:10:53.224008Z"
    },
    "papermill": {
     "duration": 0.298375,
     "end_time": "2022-02-03T20:10:53.225086",
     "exception": false,
     "start_time": "2022-02-03T20:10:52.926711",
     "status": "completed"
    },
    "tags": []
   },
   "outputs": [
    {
     "data": {
      "text/plain": [
       "Text(0.5, 1.0, 'Outputs')"
      ]
     },
     "execution_count": 26,
     "metadata": {},
     "output_type": "execute_result"
    },
    {
     "data": {
      "image/png": "[encoded data removed]",
      "text/plain": [
       "<Figure size 576x504 with 1 Axes>"
      ]
     },
     "metadata": {
      "needs_background": "light"
     },
     "output_type": "display_data"
    }
   ],
   "source": [
    "# Plotting the scatter plot of points and color coding by class\n",
    "plt.figure(figsize=(8,7))\n",
    "plt.scatter(testing_plot[:,0], testing_plot[:,1], alpha = 0.1, c = y_test.ravel());\n",
    "plt.title('Outputs')"
   ]
  },
  {
   "cell_type": "markdown",
   "id": "a74fcf8f",
   "metadata": {
    "papermill": {
     "duration": 0.054897,
     "end_time": "2022-02-03T20:10:53.328885",
     "exception": false,
     "start_time": "2022-02-03T20:10:53.273988",
     "status": "completed"
    },
    "tags": []
   },
   "source": [
    "Probability contours"
   ]
  },
  {
   "cell_type": "code",
   "execution_count": 27,
   "id": "d0afc8e3",
   "metadata": {
    "execution": {
     "iopub.execute_input": "2022-02-03T20:10:53.464739Z",
     "iopub.status.busy": "2022-02-03T20:10:53.463928Z",
     "iopub.status.idle": "2022-02-03T20:10:53.475612Z",
     "shell.execute_reply": "2022-02-03T20:10:53.475160Z"
    },
    "papermill": {
     "duration": 0.093782,
     "end_time": "2022-02-03T20:10:53.475720",
     "exception": false,
     "start_time": "2022-02-03T20:10:53.381938",
     "status": "completed"
    },
    "tags": []
   },
   "outputs": [],
   "source": [
    "model_prob = Model(layers[-2:]) "
   ]
  },
  {
   "cell_type": "code",
   "execution_count": 28,
   "id": "9b96e238",
   "metadata": {
    "execution": {
     "iopub.execute_input": "2022-02-03T20:10:53.590294Z",
     "iopub.status.busy": "2022-02-03T20:10:53.582286Z",
     "iopub.status.idle": "2022-02-03T20:10:53.596486Z",
     "shell.execute_reply": "2022-02-03T20:10:53.596964Z"
    },
    "papermill": {
     "duration": 0.074923,
     "end_time": "2022-02-03T20:10:53.597113",
     "exception": false,
     "start_time": "2022-02-03T20:10:53.522190",
     "status": "completed"
    },
    "tags": []
   },
   "outputs": [],
   "source": [
    "#creating the x and y ranges according to the above generated plot.\n",
    "x_range = np.linspace(-4, 1, 100) \n",
    "y_range = np.linspace(-6, 6, 100) \n",
    "x_grid, y_grid = np.meshgrid(x_range, y_range) # x_grid and y_grig are of size 100 X 100\n",
    "\n",
    "# converting x_grid and y_grid to continuous arrays\n",
    "x_gridflat = np.ravel(x_grid)\n",
    "y_gridflat = np.ravel(y_grid)\n",
    "\n",
    "# The last layer of the current model takes two columns as input. Hence transpose of np.vstack() is required.\n",
    "X = np.vstack((x_gridflat, y_gridflat)).T\n",
    "\n",
    "prob_contour = model_prob(X).reshape(100,100) "
   ]
  },
  {
   "cell_type": "code",
   "execution_count": 29,
   "id": "da72499a",
   "metadata": {
    "execution": {
     "iopub.execute_input": "2022-02-03T20:10:53.714603Z",
     "iopub.status.busy": "2022-02-03T20:10:53.713995Z",
     "iopub.status.idle": "2022-02-03T20:10:54.015689Z",
     "shell.execute_reply": "2022-02-03T20:10:54.016127Z"
    },
    "papermill": {
     "duration": 0.364047,
     "end_time": "2022-02-03T20:10:54.016271",
     "exception": false,
     "start_time": "2022-02-03T20:10:53.652224",
     "status": "completed"
    },
    "tags": []
   },
   "outputs": [
    {
     "data": {
      "image/png": "[encoded data removed]",
      "text/plain": [
       "<Figure size 720x648 with 1 Axes>"
      ]
     },
     "metadata": {
      "needs_background": "light"
     },
     "output_type": "display_data"
    }
   ],
   "source": [
    "plt.figure(figsize=(10,9))\n",
    "plt.scatter(testing_plot[:,0], testing_plot[:,1], alpha = 0.1, c = y_test.ravel())\n",
    "contours = plt.contour(x_grid,y_grid,prob_contour)\n",
    "plt.title('Probability Contours')\n",
    "plt.clabel(contours, inline = True );"
   ]
  },
  {
   "cell_type": "code",
   "execution_count": null,
   "id": "e81b4ac7",
   "metadata": {
    "papermill": {
     "duration": 0.051063,
     "end_time": "2022-02-03T20:10:54.121764",
     "exception": false,
     "start_time": "2022-02-03T20:10:54.070701",
     "status": "completed"
    },
    "tags": []
   },
   "outputs": [],
   "source": []
  }
 ],
 "metadata": {
  "kernelspec": {
   "display_name": "Python 3",
   "language": "python",
   "name": "python3"
  },
  "language_info": {
   "codemirror_mode": {
    "name": "ipython",
    "version": 3
   },
   "file_extension": ".py",
   "mimetype": "text/x-python",
   "name": "python",
   "nbconvert_exporter": "python",
   "pygments_lexer": "ipython3",
   "version": "3.6.15"
  },
  "papermill": {
   "default_parameters": {},
   "duration": 172.915858,
   "end_time": "2022-02-03T20:10:54.590360",
   "environment_variables": {},
   "exception": null,
   "input_path": "2020-08-11-part2.ipynb",
   "output_path": "2020-08-11-part2.ipynb",
   "parameters": {},
   "start_time": "2022-02-03T20:08:01.674502",
   "version": "2.3.3"
  }
 },
 "nbformat": 4,
 "nbformat_minor": 5
}