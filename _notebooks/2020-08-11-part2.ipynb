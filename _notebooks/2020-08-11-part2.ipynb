{
 "cells": [
  {
   "cell_type": "markdown",
   "id": "98380cd3",
   "metadata": {
    "papermill": {
     "duration": 0.030502,
     "end_time": "2022-07-29T00:41:49.775811",
     "exception": false,
     "start_time": "2022-07-29T00:41:49.745309",
     "status": "completed"
    },
    "tags": []
   },
   "source": [
    "# Distinguish Your Own Digits (DYOD)"
   ]
  },
  {
   "cell_type": "markdown",
   "id": "ef31240d",
   "metadata": {
    "papermill": {
     "duration": 0.024522,
     "end_time": "2022-07-29T00:41:49.825353",
     "exception": false,
     "start_time": "2022-07-29T00:41:49.800831",
     "status": "completed"
    },
    "tags": []
   },
   "source": [
    "You are going to write a classifier that distinguishes between the number 3 and number 8."
   ]
  },
  {
   "cell_type": "code",
   "execution_count": 1,
   "id": "b15c8646",
   "metadata": {
    "execution": {
     "iopub.execute_input": "2022-07-29T00:41:49.885491Z",
     "iopub.status.busy": "2022-07-29T00:41:49.884830Z",
     "iopub.status.idle": "2022-07-29T00:41:49.896290Z",
     "shell.execute_reply": "2022-07-29T00:41:49.895805Z"
    },
    "papermill": {
     "duration": 0.046515,
     "end_time": "2022-07-29T00:41:49.896425",
     "exception": false,
     "start_time": "2022-07-29T00:41:49.849910",
     "status": "completed"
    },
    "tags": []
   },
   "outputs": [],
   "source": [
    "%load_ext autoreload\n",
    "%autoreload 2"
   ]
  },
  {
   "cell_type": "code",
   "execution_count": 2,
   "id": "22ef38dc",
   "metadata": {
    "execution": {
     "iopub.execute_input": "2022-07-29T00:41:49.949670Z",
     "iopub.status.busy": "2022-07-29T00:41:49.949055Z",
     "iopub.status.idle": "2022-07-29T00:41:50.517079Z",
     "shell.execute_reply": "2022-07-29T00:41:50.516558Z"
    },
    "papermill": {
     "duration": 0.596389,
     "end_time": "2022-07-29T00:41:50.517206",
     "exception": false,
     "start_time": "2022-07-29T00:41:49.920817",
     "status": "completed"
    },
    "tags": []
   },
   "outputs": [],
   "source": [
    "%matplotlib inline\n",
    "import numpy as np\n",
    "import matplotlib.pyplot as plt\n",
    "import pandas as pd"
   ]
  },
  {
   "cell_type": "markdown",
   "id": "ba036198",
   "metadata": {
    "papermill": {
     "duration": 0.024555,
     "end_time": "2022-07-29T00:41:50.566166",
     "exception": false,
     "start_time": "2022-07-29T00:41:50.541611",
     "status": "completed"
    },
    "tags": []
   },
   "source": [
    "From the command line run `pip install mnist`. This is a library that will help you bring down the mnist dataset. If you run this from a notebook, you need to put  `!pip install mnist` in a cell by itself."
   ]
  },
  {
   "cell_type": "code",
   "execution_count": 3,
   "id": "bb6ad8a1",
   "metadata": {
    "execution": {
     "iopub.execute_input": "2022-07-29T00:41:50.622226Z",
     "iopub.status.busy": "2022-07-29T00:41:50.621620Z",
     "iopub.status.idle": "2022-07-29T00:41:52.292338Z",
     "shell.execute_reply": "2022-07-29T00:41:52.292834Z"
    },
    "papermill": {
     "duration": 1.702569,
     "end_time": "2022-07-29T00:41:52.292971",
     "exception": false,
     "start_time": "2022-07-29T00:41:50.590402",
     "status": "completed"
    },
    "tags": []
   },
   "outputs": [
    {
     "name": "stdout",
     "output_type": "stream",
     "text": [
      "Collecting mnist\r\n"
     ]
    },
    {
     "name": "stdout",
     "output_type": "stream",
     "text": [
      "  Downloading mnist-0.2.2-py2.py3-none-any.whl (3.5 kB)\r\n",
      "Requirement already satisfied: numpy in /opt/hostedtoolcache/Python/3.6.15/x64/lib/python3.6/site-packages (from mnist) (1.19.5)\r\n"
     ]
    },
    {
     "name": "stdout",
     "output_type": "stream",
     "text": [
      "Installing collected packages: mnist\r\n"
     ]
    },
    {
     "name": "stdout",
     "output_type": "stream",
     "text": [
      "Successfully installed mnist-0.2.2\r\n"
     ]
    }
   ],
   "source": [
    "!pip install mnist"
   ]
  },
  {
   "cell_type": "markdown",
   "id": "69df9c9a",
   "metadata": {
    "papermill": {
     "duration": 0.026143,
     "end_time": "2022-07-29T00:41:52.344598",
     "exception": false,
     "start_time": "2022-07-29T00:41:52.318455",
     "status": "completed"
    },
    "tags": []
   },
   "source": [
    "## Preparing the Data"
   ]
  },
  {
   "cell_type": "code",
   "execution_count": 4,
   "id": "7f69d806",
   "metadata": {
    "execution": {
     "iopub.execute_input": "2022-07-29T00:41:52.405043Z",
     "iopub.status.busy": "2022-07-29T00:41:52.404395Z",
     "iopub.status.idle": "2022-07-29T00:41:52.415605Z",
     "shell.execute_reply": "2022-07-29T00:41:52.415114Z"
    },
    "papermill": {
     "duration": 0.045783,
     "end_time": "2022-07-29T00:41:52.415722",
     "exception": false,
     "start_time": "2022-07-29T00:41:52.369939",
     "status": "completed"
    },
    "tags": []
   },
   "outputs": [],
   "source": [
    "import mnist"
   ]
  },
  {
   "cell_type": "code",
   "execution_count": 5,
   "id": "a411e44f",
   "metadata": {
    "execution": {
     "iopub.execute_input": "2022-07-29T00:41:52.470785Z",
     "iopub.status.busy": "2022-07-29T00:41:52.470192Z",
     "iopub.status.idle": "2022-07-29T00:41:53.015236Z",
     "shell.execute_reply": "2022-07-29T00:41:53.014727Z"
    },
    "papermill": {
     "duration": 0.574216,
     "end_time": "2022-07-29T00:41:53.015361",
     "exception": false,
     "start_time": "2022-07-29T00:41:52.441145",
     "status": "completed"
    },
    "tags": []
   },
   "outputs": [],
   "source": [
    "train_images = mnist.train_images()\n",
    "train_labels = mnist.train_labels()"
   ]
  },
  {
   "cell_type": "code",
   "execution_count": 6,
   "id": "dceab3a5",
   "metadata": {
    "execution": {
     "iopub.execute_input": "2022-07-29T00:41:53.078523Z",
     "iopub.status.busy": "2022-07-29T00:41:53.077891Z",
     "iopub.status.idle": "2022-07-29T00:41:53.089230Z",
     "shell.execute_reply": "2022-07-29T00:41:53.088703Z"
    },
    "papermill": {
     "duration": 0.048196,
     "end_time": "2022-07-29T00:41:53.089353",
     "exception": false,
     "start_time": "2022-07-29T00:41:53.041157",
     "status": "completed"
    },
    "tags": []
   },
   "outputs": [
    {
     "data": {
      "text/plain": [
       "((60000, 28, 28), (60000,))"
      ]
     },
     "execution_count": 6,
     "metadata": {},
     "output_type": "execute_result"
    }
   ],
   "source": [
    "train_images.shape, train_labels.shape"
   ]
  },
  {
   "cell_type": "code",
   "execution_count": 7,
   "id": "f50dc2bb",
   "metadata": {
    "execution": {
     "iopub.execute_input": "2022-07-29T00:41:53.144717Z",
     "iopub.status.busy": "2022-07-29T00:41:53.144119Z",
     "iopub.status.idle": "2022-07-29T00:41:53.348883Z",
     "shell.execute_reply": "2022-07-29T00:41:53.348283Z"
    },
    "papermill": {
     "duration": 0.234174,
     "end_time": "2022-07-29T00:41:53.349045",
     "exception": false,
     "start_time": "2022-07-29T00:41:53.114871",
     "status": "completed"
    },
    "tags": []
   },
   "outputs": [],
   "source": [
    "test_images = mnist.test_images()\n",
    "test_labels = mnist.test_labels()"
   ]
  },
  {
   "cell_type": "code",
   "execution_count": 8,
   "id": "fc38cf1b",
   "metadata": {
    "execution": {
     "iopub.execute_input": "2022-07-29T00:41:53.406444Z",
     "iopub.status.busy": "2022-07-29T00:41:53.405826Z",
     "iopub.status.idle": "2022-07-29T00:41:53.419311Z",
     "shell.execute_reply": "2022-07-29T00:41:53.418821Z"
    },
    "papermill": {
     "duration": 0.04423,
     "end_time": "2022-07-29T00:41:53.419425",
     "exception": false,
     "start_time": "2022-07-29T00:41:53.375195",
     "status": "completed"
    },
    "tags": []
   },
   "outputs": [
    {
     "data": {
      "text/plain": [
       "((10000, 28, 28), (10000,))"
      ]
     },
     "execution_count": 8,
     "metadata": {},
     "output_type": "execute_result"
    }
   ],
   "source": [
    "test_images.shape, test_labels.shape"
   ]
  },
  {
   "cell_type": "code",
   "execution_count": 9,
   "id": "f9ed8fe0",
   "metadata": {
    "execution": {
     "iopub.execute_input": "2022-07-29T00:41:53.475473Z",
     "iopub.status.busy": "2022-07-29T00:41:53.474880Z",
     "iopub.status.idle": "2022-07-29T00:41:53.618199Z",
     "shell.execute_reply": "2022-07-29T00:41:53.617711Z"
    },
    "papermill": {
     "duration": 0.173018,
     "end_time": "2022-07-29T00:41:53.618320",
     "exception": false,
     "start_time": "2022-07-29T00:41:53.445302",
     "status": "completed"
    },
    "tags": []
   },
   "outputs": [
    {
     "name": "stdout",
     "output_type": "stream",
     "text": [
      "2\n"
     ]
    },
    {
     "data": {
      "text/plain": [
       "<matplotlib.image.AxesImage at 0x7f1a6d11a978>"
      ]
     },
     "execution_count": 9,
     "metadata": {},
     "output_type": "execute_result"
    },
    {
     "data": {
      "image/png": "[encoded data removed]",
      "text/plain": [
       "<Figure size 432x288 with 1 Axes>"
      ]
     },
     "metadata": {
      "needs_background": "light"
     },
     "output_type": "display_data"
    }
   ],
   "source": [
    "image_index = 7776 # You may select anything up to 60,000\n",
    "print(train_labels[image_index]) \n",
    "plt.imshow(train_images[image_index], cmap='Greys')"
   ]
  },
  {
   "cell_type": "markdown",
   "id": "a8d2388d",
   "metadata": {
    "papermill": {
     "duration": 0.028048,
     "end_time": "2022-07-29T00:41:53.673518",
     "exception": false,
     "start_time": "2022-07-29T00:41:53.645470",
     "status": "completed"
    },
    "tags": []
   },
   "source": [
    "## Filter data to get 3 and 8 out"
   ]
  },
  {
   "cell_type": "code",
   "execution_count": 10,
   "id": "776f7fc7",
   "metadata": {
    "execution": {
     "iopub.execute_input": "2022-07-29T00:41:53.738370Z",
     "iopub.status.busy": "2022-07-29T00:41:53.737727Z",
     "iopub.status.idle": "2022-07-29T00:41:53.752255Z",
     "shell.execute_reply": "2022-07-29T00:41:53.752736Z"
    },
    "papermill": {
     "duration": 0.050341,
     "end_time": "2022-07-29T00:41:53.752875",
     "exception": false,
     "start_time": "2022-07-29T00:41:53.702534",
     "status": "completed"
    },
    "tags": []
   },
   "outputs": [],
   "source": [
    "train_filter = np.where((train_labels == 3 ) | (train_labels == 8))\n",
    "test_filter = np.where((test_labels == 3) | (test_labels == 8))\n",
    "X_train, y_train = train_images[train_filter], train_labels[train_filter]\n",
    "X_test, y_test = test_images[test_filter], test_labels[test_filter]"
   ]
  },
  {
   "cell_type": "markdown",
   "id": "948f0b7e",
   "metadata": {
    "papermill": {
     "duration": 0.026946,
     "end_time": "2022-07-29T00:41:53.807204",
     "exception": false,
     "start_time": "2022-07-29T00:41:53.780258",
     "status": "completed"
    },
    "tags": []
   },
   "source": [
    "We normalize the pizel values in the 0 to 1 range"
   ]
  },
  {
   "cell_type": "code",
   "execution_count": 11,
   "id": "ee4c2166",
   "metadata": {
    "execution": {
     "iopub.execute_input": "2022-07-29T00:41:53.865191Z",
     "iopub.status.busy": "2022-07-29T00:41:53.864567Z",
     "iopub.status.idle": "2022-07-29T00:41:53.913586Z",
     "shell.execute_reply": "2022-07-29T00:41:53.913066Z"
    },
    "papermill": {
     "duration": 0.079556,
     "end_time": "2022-07-29T00:41:53.913704",
     "exception": false,
     "start_time": "2022-07-29T00:41:53.834148",
     "status": "completed"
    },
    "tags": []
   },
   "outputs": [],
   "source": [
    "X_train = X_train/255.\n",
    "X_test = X_test/255."
   ]
  },
  {
   "cell_type": "markdown",
   "id": "ddcf4fab",
   "metadata": {
    "papermill": {
     "duration": 0.026832,
     "end_time": "2022-07-29T00:41:53.967731",
     "exception": false,
     "start_time": "2022-07-29T00:41:53.940899",
     "status": "completed"
    },
    "tags": []
   },
   "source": [
    "And setup the labels as 1 (when the digit is 3) and 0 (when the digit is 8)"
   ]
  },
  {
   "cell_type": "code",
   "execution_count": 12,
   "id": "7dc908f2",
   "metadata": {
    "execution": {
     "iopub.execute_input": "2022-07-29T00:41:54.025708Z",
     "iopub.status.busy": "2022-07-29T00:41:54.025099Z",
     "iopub.status.idle": "2022-07-29T00:41:54.038226Z",
     "shell.execute_reply": "2022-07-29T00:41:54.037719Z"
    },
    "papermill": {
     "duration": 0.043682,
     "end_time": "2022-07-29T00:41:54.038350",
     "exception": false,
     "start_time": "2022-07-29T00:41:53.994668",
     "status": "completed"
    },
    "tags": []
   },
   "outputs": [],
   "source": [
    "y_train = 1*(y_train==3)\n",
    "y_test = 1*(y_test==3)"
   ]
  },
  {
   "cell_type": "code",
   "execution_count": 13,
   "id": "01e4e969",
   "metadata": {
    "execution": {
     "iopub.execute_input": "2022-07-29T00:41:54.096631Z",
     "iopub.status.busy": "2022-07-29T00:41:54.096037Z",
     "iopub.status.idle": "2022-07-29T00:41:54.110636Z",
     "shell.execute_reply": "2022-07-29T00:41:54.110135Z"
    },
    "papermill": {
     "duration": 0.045281,
     "end_time": "2022-07-29T00:41:54.110757",
     "exception": false,
     "start_time": "2022-07-29T00:41:54.065476",
     "status": "completed"
    },
    "tags": []
   },
   "outputs": [
    {
     "data": {
      "text/plain": [
       "((11982, 28, 28), (1984, 28, 28))"
      ]
     },
     "execution_count": 13,
     "metadata": {},
     "output_type": "execute_result"
    }
   ],
   "source": [
    "X_train.shape, X_test.shape"
   ]
  },
  {
   "cell_type": "markdown",
   "id": "5ccf3f85",
   "metadata": {
    "papermill": {
     "duration": 0.027473,
     "end_time": "2022-07-29T00:41:54.165623",
     "exception": false,
     "start_time": "2022-07-29T00:41:54.138150",
     "status": "completed"
    },
    "tags": []
   },
   "source": [
    "We reshape the data to flatten the image pixels into a set of features or co-variates:"
   ]
  },
  {
   "cell_type": "code",
   "execution_count": 14,
   "id": "5286a4a3",
   "metadata": {
    "execution": {
     "iopub.execute_input": "2022-07-29T00:41:54.227575Z",
     "iopub.status.busy": "2022-07-29T00:41:54.226972Z",
     "iopub.status.idle": "2022-07-29T00:41:54.238956Z",
     "shell.execute_reply": "2022-07-29T00:41:54.239421Z"
    },
    "papermill": {
     "duration": 0.046524,
     "end_time": "2022-07-29T00:41:54.239560",
     "exception": false,
     "start_time": "2022-07-29T00:41:54.193036",
     "status": "completed"
    },
    "tags": []
   },
   "outputs": [
    {
     "data": {
      "text/plain": [
       "((11982, 784), (1984, 784))"
      ]
     },
     "execution_count": 14,
     "metadata": {},
     "output_type": "execute_result"
    }
   ],
   "source": [
    "X_train = X_train.reshape(X_train.shape[0], -1)\n",
    "X_test = X_test.reshape(X_test.shape[0], -1)\n",
    "X_train.shape, X_test.shape"
   ]
  },
  {
   "cell_type": "code",
   "execution_count": 15,
   "id": "73c5f88a",
   "metadata": {
    "execution": {
     "iopub.execute_input": "2022-07-29T00:41:54.299505Z",
     "iopub.status.busy": "2022-07-29T00:41:54.298902Z",
     "iopub.status.idle": "2022-07-29T00:41:54.318904Z",
     "shell.execute_reply": "2022-07-29T00:41:54.318393Z"
    },
    "papermill": {
     "duration": 0.051833,
     "end_time": "2022-07-29T00:41:54.319022",
     "exception": false,
     "start_time": "2022-07-29T00:41:54.267189",
     "status": "completed"
    },
    "tags": []
   },
   "outputs": [],
   "source": [
    "#Impoting functions from 'Kudzu'\n",
    "from kudzu.model import Model\n",
    "from kudzu.train import Learner\n",
    "from kudzu.optim import GD\n",
    "from kudzu.data import Data, Sampler,Dataloader\n",
    "\n",
    "from kudzu.callbacks import AccCallback\n",
    "from kudzu.callbacks import ClfCallback\n",
    "\n",
    "from kudzu.loss import MSE\n",
    "\n",
    "from kudzu.layer import Sigmoid,Relu\n",
    "from kudzu.layer import Affine"
   ]
  },
  {
   "cell_type": "markdown",
   "id": "bc01172a",
   "metadata": {
    "papermill": {
     "duration": 0.027472,
     "end_time": "2022-07-29T00:41:54.374322",
     "exception": false,
     "start_time": "2022-07-29T00:41:54.346850",
     "status": "completed"
    },
    "tags": []
   },
   "source": [
    "### Let us create a `Config` class, to store important parameters. \n",
    "This class essentially plays the role of a dictionary."
   ]
  },
  {
   "cell_type": "code",
   "execution_count": 16,
   "id": "978281aa",
   "metadata": {
    "execution": {
     "iopub.execute_input": "2022-07-29T00:41:54.433481Z",
     "iopub.status.busy": "2022-07-29T00:41:54.432840Z",
     "iopub.status.idle": "2022-07-29T00:41:54.445620Z",
     "shell.execute_reply": "2022-07-29T00:41:54.445030Z"
    },
    "papermill": {
     "duration": 0.043944,
     "end_time": "2022-07-29T00:41:54.445733",
     "exception": false,
     "start_time": "2022-07-29T00:41:54.401789",
     "status": "completed"
    },
    "tags": []
   },
   "outputs": [],
   "source": [
    "class Config:\n",
    "    pass\n",
    "config = Config()\n",
    "config.lr = 0.001\n",
    "config.num_epochs = 250\n",
    "config.bs = 50"
   ]
  },
  {
   "cell_type": "markdown",
   "id": "1385fa59",
   "metadata": {
    "papermill": {
     "duration": 0.027271,
     "end_time": "2022-07-29T00:41:54.500658",
     "exception": false,
     "start_time": "2022-07-29T00:41:54.473387",
     "status": "completed"
    },
    "tags": []
   },
   "source": [
    "### Running Models with the Training data\n",
    "Details about the network layers:\n",
    "- A first affine layer has 784 inputs and does 100 affine transforms. These are followed by a Relu\n",
    "- A second affine layer has 100 inputs from the 100 activations of the past layer, and does 100 affine transforms. These are followed by a Relu\n",
    "- A third affine layer has 100 activations and does 2 affine transformations to create an embedding for visualization. There is no non-linearity here.\n",
    "- A final \"logistic regression\" which has an affine transform from 2 inputs to 1 output, which is squeezed through a sigmoid.\n"
   ]
  },
  {
   "cell_type": "code",
   "execution_count": 17,
   "id": "2b9c66db",
   "metadata": {
    "execution": {
     "iopub.execute_input": "2022-07-29T00:41:54.560104Z",
     "iopub.status.busy": "2022-07-29T00:41:54.559506Z",
     "iopub.status.idle": "2022-07-29T00:41:54.572902Z",
     "shell.execute_reply": "2022-07-29T00:41:54.573406Z"
    },
    "papermill": {
     "duration": 0.045431,
     "end_time": "2022-07-29T00:41:54.573548",
     "exception": false,
     "start_time": "2022-07-29T00:41:54.528117",
     "status": "completed"
    },
    "tags": []
   },
   "outputs": [],
   "source": [
    "data = Data(X_train, y_train.reshape(-1,1))\n",
    "sampler = Sampler(data, config.bs, shuffle=True)\n",
    "\n",
    "dl = Dataloader(data, sampler)\n",
    "\n",
    "opt = GD(config.lr)\n",
    "loss = MSE()"
   ]
  },
  {
   "cell_type": "code",
   "execution_count": 18,
   "id": "b275e4c2",
   "metadata": {
    "execution": {
     "iopub.execute_input": "2022-07-29T00:41:54.633465Z",
     "iopub.status.busy": "2022-07-29T00:41:54.632809Z",
     "iopub.status.idle": "2022-07-29T00:41:54.645931Z",
     "shell.execute_reply": "2022-07-29T00:41:54.646386Z"
    },
    "papermill": {
     "duration": 0.045278,
     "end_time": "2022-07-29T00:41:54.646529",
     "exception": false,
     "start_time": "2022-07-29T00:41:54.601251",
     "status": "completed"
    },
    "tags": []
   },
   "outputs": [],
   "source": [
    "training_data_x = X_train\n",
    "testing_data_x = X_test\n",
    "training_data_y = y_train.reshape(-1,1)\n",
    "testing_data_y = y_test.reshape(-1,1)"
   ]
  },
  {
   "cell_type": "code",
   "execution_count": 19,
   "id": "76951160",
   "metadata": {
    "execution": {
     "iopub.execute_input": "2022-07-29T00:41:54.706831Z",
     "iopub.status.busy": "2022-07-29T00:41:54.706220Z",
     "iopub.status.idle": "2022-07-29T00:41:54.723685Z",
     "shell.execute_reply": "2022-07-29T00:41:54.723010Z"
    },
    "papermill": {
     "duration": 0.049536,
     "end_time": "2022-07-29T00:41:54.723815",
     "exception": false,
     "start_time": "2022-07-29T00:41:54.674279",
     "status": "completed"
    },
    "tags": []
   },
   "outputs": [
    {
     "name": "stdout",
     "output_type": "stream",
     "text": [
      "xavier\n",
      "xavier\n",
      "xavier\n",
      "xavier\n",
      "xavier\n"
     ]
    }
   ],
   "source": [
    "layers = [Affine(\"first\", 784, 100), Relu(\"first\"), Affine(\"second\", 100, 100), Relu(\"second\"), Affine(\"third\", 100, 2), Affine(\"last\", 2, 1), Sigmoid(\"last\")]\n",
    "model_nn = Model(layers)\n",
    "model_lr = Model([Affine(\"logits\", 784, 1), Sigmoid(\"sigmoid\")])"
   ]
  },
  {
   "cell_type": "code",
   "execution_count": 20,
   "id": "6eede77a",
   "metadata": {
    "execution": {
     "iopub.execute_input": "2022-07-29T00:41:54.784380Z",
     "iopub.status.busy": "2022-07-29T00:41:54.783776Z",
     "iopub.status.idle": "2022-07-29T00:41:54.796777Z",
     "shell.execute_reply": "2022-07-29T00:41:54.796290Z"
    },
    "papermill": {
     "duration": 0.044604,
     "end_time": "2022-07-29T00:41:54.796891",
     "exception": false,
     "start_time": "2022-07-29T00:41:54.752287",
     "status": "completed"
    },
    "tags": []
   },
   "outputs": [],
   "source": [
    "nn_learner = Learner(loss, model_nn, opt, config.num_epochs)\n",
    "acc_nn = ClfCallback(nn_learner, config.bs, training_data_x , testing_data_x, training_data_y, testing_data_y)\n",
    "nn_learner.set_callbacks([acc_nn])"
   ]
  },
  {
   "cell_type": "code",
   "execution_count": 21,
   "id": "877b6cc7",
   "metadata": {
    "execution": {
     "iopub.execute_input": "2022-07-29T00:41:54.856744Z",
     "iopub.status.busy": "2022-07-29T00:41:54.856151Z",
     "iopub.status.idle": "2022-07-29T00:41:54.869629Z",
     "shell.execute_reply": "2022-07-29T00:41:54.869134Z"
    },
    "papermill": {
     "duration": 0.045035,
     "end_time": "2022-07-29T00:41:54.869742",
     "exception": false,
     "start_time": "2022-07-29T00:41:54.824707",
     "status": "completed"
    },
    "tags": []
   },
   "outputs": [],
   "source": [
    "lr_learner = Learner(loss, model_lr, opt, config.num_epochs)\n",
    "acc_lr = ClfCallback(lr_learner, config.bs, training_data_x , testing_data_x, training_data_y, testing_data_y)\n",
    "lr_learner.set_callbacks([acc_lr])"
   ]
  },
  {
   "cell_type": "code",
   "execution_count": 22,
   "id": "d9b133c3",
   "metadata": {
    "execution": {
     "iopub.execute_input": "2022-07-29T00:41:54.929665Z",
     "iopub.status.busy": "2022-07-29T00:41:54.929053Z",
     "iopub.status.idle": "2022-07-29T00:43:16.548470Z",
     "shell.execute_reply": "2022-07-29T00:43:16.549429Z"
    },
    "papermill": {
     "duration": 81.651726,
     "end_time": "2022-07-29T00:43:16.549586",
     "exception": false,
     "start_time": "2022-07-29T00:41:54.897860",
     "status": "completed"
    },
    "tags": []
   },
   "outputs": [
    {
     "name": "stdout",
     "output_type": "stream",
     "text": [
      "Epoch 0, Loss 0.2436\n",
      "Training Accuracy: 0.6916, Testing Accuracy: 0.7072\n",
      "\n"
     ]
    },
    {
     "name": "stdout",
     "output_type": "stream",
     "text": [
      "Epoch 10, Loss 0.0928\n",
      "Training Accuracy: 0.9195, Testing Accuracy: 0.9355\n",
      "\n"
     ]
    },
    {
     "name": "stdout",
     "output_type": "stream",
     "text": [
      "Epoch 20, Loss 0.057\n",
      "Training Accuracy: 0.9422, Testing Accuracy: 0.9561\n",
      "\n"
     ]
    },
    {
     "name": "stdout",
     "output_type": "stream",
     "text": [
      "Epoch 30, Loss 0.0449\n",
      "Training Accuracy: 0.9513, Testing Accuracy: 0.9582\n",
      "\n"
     ]
    },
    {
     "name": "stdout",
     "output_type": "stream",
     "text": [
      "Epoch 40, Loss 0.0388\n",
      "Training Accuracy: 0.9559, Testing Accuracy: 0.9622\n",
      "\n"
     ]
    },
    {
     "name": "stdout",
     "output_type": "stream",
     "text": [
      "Epoch 50, Loss 0.035\n",
      "Training Accuracy: 0.9594, Testing Accuracy: 0.9652\n",
      "\n"
     ]
    },
    {
     "name": "stdout",
     "output_type": "stream",
     "text": [
      "Epoch 60, Loss 0.0324\n",
      "Training Accuracy: 0.9618, Testing Accuracy: 0.9667\n",
      "\n"
     ]
    },
    {
     "name": "stdout",
     "output_type": "stream",
     "text": [
      "Epoch 70, Loss 0.0304\n",
      "Training Accuracy: 0.9636, Testing Accuracy: 0.9677\n",
      "\n"
     ]
    },
    {
     "name": "stdout",
     "output_type": "stream",
     "text": [
      "Epoch 80, Loss 0.0288\n",
      "Training Accuracy: 0.9653, Testing Accuracy: 0.9693\n",
      "\n"
     ]
    },
    {
     "name": "stdout",
     "output_type": "stream",
     "text": [
      "Epoch 90, Loss 0.0275\n",
      "Training Accuracy: 0.9676, Testing Accuracy: 0.9703\n",
      "\n"
     ]
    },
    {
     "name": "stdout",
     "output_type": "stream",
     "text": [
      "Epoch 100, Loss 0.0264\n",
      "Training Accuracy: 0.9688, Testing Accuracy: 0.9693\n",
      "\n"
     ]
    },
    {
     "name": "stdout",
     "output_type": "stream",
     "text": [
      "Epoch 110, Loss 0.0254\n",
      "Training Accuracy: 0.9702, Testing Accuracy: 0.9703\n",
      "\n"
     ]
    },
    {
     "name": "stdout",
     "output_type": "stream",
     "text": [
      "Epoch 120, Loss 0.0246\n",
      "Training Accuracy: 0.9712, Testing Accuracy: 0.9713\n",
      "\n"
     ]
    },
    {
     "name": "stdout",
     "output_type": "stream",
     "text": [
      "Epoch 130, Loss 0.0238\n",
      "Training Accuracy: 0.9722, Testing Accuracy: 0.9718\n",
      "\n"
     ]
    },
    {
     "name": "stdout",
     "output_type": "stream",
     "text": [
      "Epoch 140, Loss 0.0231\n",
      "Training Accuracy: 0.9739, Testing Accuracy: 0.9718\n",
      "\n"
     ]
    },
    {
     "name": "stdout",
     "output_type": "stream",
     "text": [
      "Epoch 150, Loss 0.0225\n",
      "Training Accuracy: 0.9742, Testing Accuracy: 0.9718\n",
      "\n"
     ]
    },
    {
     "name": "stdout",
     "output_type": "stream",
     "text": [
      "Epoch 160, Loss 0.0219\n",
      "Training Accuracy: 0.9750, Testing Accuracy: 0.9708\n",
      "\n"
     ]
    },
    {
     "name": "stdout",
     "output_type": "stream",
     "text": [
      "Epoch 170, Loss 0.0213\n",
      "Training Accuracy: 0.9758, Testing Accuracy: 0.9713\n",
      "\n"
     ]
    },
    {
     "name": "stdout",
     "output_type": "stream",
     "text": [
      "Epoch 180, Loss 0.0208\n",
      "Training Accuracy: 0.9768, Testing Accuracy: 0.9723\n",
      "\n"
     ]
    },
    {
     "name": "stdout",
     "output_type": "stream",
     "text": [
      "Epoch 190, Loss 0.0203\n",
      "Training Accuracy: 0.9770, Testing Accuracy: 0.9733\n",
      "\n"
     ]
    },
    {
     "name": "stdout",
     "output_type": "stream",
     "text": [
      "Epoch 200, Loss 0.0198\n",
      "Training Accuracy: 0.9776, Testing Accuracy: 0.9733\n",
      "\n"
     ]
    },
    {
     "name": "stdout",
     "output_type": "stream",
     "text": [
      "Epoch 210, Loss 0.0193\n",
      "Training Accuracy: 0.9784, Testing Accuracy: 0.9728\n",
      "\n"
     ]
    },
    {
     "name": "stdout",
     "output_type": "stream",
     "text": [
      "Epoch 220, Loss 0.0189\n",
      "Training Accuracy: 0.9791, Testing Accuracy: 0.9743\n",
      "\n"
     ]
    },
    {
     "name": "stdout",
     "output_type": "stream",
     "text": [
      "Epoch 230, Loss 0.0184\n",
      "Training Accuracy: 0.9801, Testing Accuracy: 0.9738\n",
      "\n"
     ]
    },
    {
     "name": "stdout",
     "output_type": "stream",
     "text": [
      "Epoch 240, Loss 0.018\n",
      "Training Accuracy: 0.9806, Testing Accuracy: 0.9743\n",
      "\n"
     ]
    },
    {
     "data": {
      "text/plain": [
       "0.02861686098705609"
      ]
     },
     "execution_count": 22,
     "metadata": {},
     "output_type": "execute_result"
    }
   ],
   "source": [
    "nn_learner.train_loop(dl)"
   ]
  },
  {
   "cell_type": "code",
   "execution_count": 23,
   "id": "e0163366",
   "metadata": {
    "execution": {
     "iopub.execute_input": "2022-07-29T00:43:16.631098Z",
     "iopub.status.busy": "2022-07-29T00:43:16.630485Z",
     "iopub.status.idle": "2022-07-29T00:43:31.529128Z",
     "shell.execute_reply": "2022-07-29T00:43:31.529990Z"
    },
    "papermill": {
     "duration": 14.943194,
     "end_time": "2022-07-29T00:43:31.530137",
     "exception": false,
     "start_time": "2022-07-29T00:43:16.586943",
     "status": "completed"
    },
    "tags": []
   },
   "outputs": [
    {
     "name": "stdout",
     "output_type": "stream",
     "text": [
      "Epoch 0, Loss 0.2279\n",
      "Training Accuracy: 0.7432, Testing Accuracy: 0.7460\n",
      "\n"
     ]
    },
    {
     "name": "stdout",
     "output_type": "stream",
     "text": [
      "Epoch 10, Loss 0.1008\n",
      "Training Accuracy: 0.9143, Testing Accuracy: 0.9259\n",
      "\n"
     ]
    },
    {
     "name": "stdout",
     "output_type": "stream",
     "text": [
      "Epoch 20, Loss 0.078\n",
      "Training Accuracy: 0.9296, Testing Accuracy: 0.9410\n",
      "\n"
     ]
    },
    {
     "name": "stdout",
     "output_type": "stream",
     "text": [
      "Epoch 30, Loss 0.0673\n",
      "Training Accuracy: 0.9393, Testing Accuracy: 0.9471\n",
      "\n"
     ]
    },
    {
     "name": "stdout",
     "output_type": "stream",
     "text": [
      "Epoch 40, Loss 0.0609\n",
      "Training Accuracy: 0.9427, Testing Accuracy: 0.9501\n",
      "\n"
     ]
    },
    {
     "name": "stdout",
     "output_type": "stream",
     "text": [
      "Epoch 50, Loss 0.0565\n",
      "Training Accuracy: 0.9459, Testing Accuracy: 0.9531\n",
      "\n"
     ]
    },
    {
     "name": "stdout",
     "output_type": "stream",
     "text": [
      "Epoch 60, Loss 0.0532\n",
      "Training Accuracy: 0.9483, Testing Accuracy: 0.9567\n",
      "\n"
     ]
    },
    {
     "name": "stdout",
     "output_type": "stream",
     "text": [
      "Epoch 70, Loss 0.0507\n",
      "Training Accuracy: 0.9499, Testing Accuracy: 0.9592\n",
      "\n"
     ]
    },
    {
     "name": "stdout",
     "output_type": "stream",
     "text": [
      "Epoch 80, Loss 0.0487\n",
      "Training Accuracy: 0.9515, Testing Accuracy: 0.9607\n",
      "\n"
     ]
    },
    {
     "name": "stdout",
     "output_type": "stream",
     "text": [
      "Epoch 90, Loss 0.047\n",
      "Training Accuracy: 0.9535, Testing Accuracy: 0.9612\n",
      "\n"
     ]
    },
    {
     "name": "stdout",
     "output_type": "stream",
     "text": [
      "Epoch 100, Loss 0.0456\n",
      "Training Accuracy: 0.9540, Testing Accuracy: 0.9632\n",
      "\n"
     ]
    },
    {
     "name": "stdout",
     "output_type": "stream",
     "text": [
      "Epoch 110, Loss 0.0444\n",
      "Training Accuracy: 0.9549, Testing Accuracy: 0.9642\n",
      "\n"
     ]
    },
    {
     "name": "stdout",
     "output_type": "stream",
     "text": [
      "Epoch 120, Loss 0.0434\n",
      "Training Accuracy: 0.9559, Testing Accuracy: 0.9647\n",
      "\n"
     ]
    },
    {
     "name": "stdout",
     "output_type": "stream",
     "text": [
      "Epoch 130, Loss 0.0425\n",
      "Training Accuracy: 0.9568, Testing Accuracy: 0.9652\n",
      "\n"
     ]
    },
    {
     "name": "stdout",
     "output_type": "stream",
     "text": [
      "Epoch 140, Loss 0.0416\n",
      "Training Accuracy: 0.9574, Testing Accuracy: 0.9667\n",
      "\n"
     ]
    },
    {
     "name": "stdout",
     "output_type": "stream",
     "text": [
      "Epoch 150, Loss 0.0409\n",
      "Training Accuracy: 0.9576, Testing Accuracy: 0.9672\n",
      "\n"
     ]
    },
    {
     "name": "stdout",
     "output_type": "stream",
     "text": [
      "Epoch 160, Loss 0.0402\n",
      "Training Accuracy: 0.9578, Testing Accuracy: 0.9677\n",
      "\n"
     ]
    },
    {
     "name": "stdout",
     "output_type": "stream",
     "text": [
      "Epoch 170, Loss 0.0396\n",
      "Training Accuracy: 0.9579, Testing Accuracy: 0.9677\n",
      "\n"
     ]
    },
    {
     "name": "stdout",
     "output_type": "stream",
     "text": [
      "Epoch 180, Loss 0.0391\n",
      "Training Accuracy: 0.9585, Testing Accuracy: 0.9677\n",
      "\n"
     ]
    },
    {
     "name": "stdout",
     "output_type": "stream",
     "text": [
      "Epoch 190, Loss 0.0386\n",
      "Training Accuracy: 0.9587, Testing Accuracy: 0.9672\n",
      "\n"
     ]
    },
    {
     "name": "stdout",
     "output_type": "stream",
     "text": [
      "Epoch 200, Loss 0.0381\n",
      "Training Accuracy: 0.9589, Testing Accuracy: 0.9672\n",
      "\n"
     ]
    },
    {
     "name": "stdout",
     "output_type": "stream",
     "text": [
      "Epoch 210, Loss 0.0377\n",
      "Training Accuracy: 0.9593, Testing Accuracy: 0.9672\n",
      "\n"
     ]
    },
    {
     "name": "stdout",
     "output_type": "stream",
     "text": [
      "Epoch 220, Loss 0.0373\n",
      "Training Accuracy: 0.9595, Testing Accuracy: 0.9672\n",
      "\n"
     ]
    },
    {
     "name": "stdout",
     "output_type": "stream",
     "text": [
      "Epoch 230, Loss 0.0369\n",
      "Training Accuracy: 0.9600, Testing Accuracy: 0.9677\n",
      "\n"
     ]
    },
    {
     "name": "stdout",
     "output_type": "stream",
     "text": [
      "Epoch 240, Loss 0.0365\n",
      "Training Accuracy: 0.9604, Testing Accuracy: 0.9667\n",
      "\n"
     ]
    },
    {
     "data": {
      "text/plain": [
       "0.03744142001987384"
      ]
     },
     "execution_count": 23,
     "metadata": {},
     "output_type": "execute_result"
    }
   ],
   "source": [
    "lr_learner.train_loop(dl)"
   ]
  },
  {
   "cell_type": "code",
   "execution_count": 24,
   "id": "ca410940",
   "metadata": {
    "execution": {
     "iopub.execute_input": "2022-07-29T00:43:31.623341Z",
     "iopub.status.busy": "2022-07-29T00:43:31.622719Z",
     "iopub.status.idle": "2022-07-29T00:43:31.852091Z",
     "shell.execute_reply": "2022-07-29T00:43:31.851595Z"
    },
    "papermill": {
     "duration": 0.279773,
     "end_time": "2022-07-29T00:43:31.852208",
     "exception": false,
     "start_time": "2022-07-29T00:43:31.572435",
     "status": "completed"
    },
    "tags": []
   },
   "outputs": [
    {
     "data": {
      "text/plain": [
       "<matplotlib.legend.Legend at 0x7f1a5f8faa90>"
      ]
     },
     "execution_count": 24,
     "metadata": {},
     "output_type": "execute_result"
    },
    {
     "data": {
      "image/png": "[encoded data removed]",
      "text/plain": [
       "<Figure size 1080x720 with 1 Axes>"
      ]
     },
     "metadata": {
      "needs_background": "light"
     },
     "output_type": "display_data"
    }
   ],
   "source": [
    "#comparing the results of NN and LR\n",
    "plt.figure(figsize=(15,10))\n",
    "\n",
    "# Neural Network plots\n",
    "plt.plot(acc_nn.accuracies, 'r-', label = \"Training Accuracies - NN\")\n",
    "plt.plot(acc_nn.test_accuracies, 'g-', label = \"Testing Accuracies - NN\")\n",
    "\n",
    "# Logistic Regression plots\n",
    "plt.plot(acc_lr.accuracies, 'k-', label = \"Training Accuracies - LR\")\n",
    "plt.plot(acc_lr.test_accuracies, 'b-', label = \"Testing Accuracies - LR\")\n",
    "plt.legend()"
   ]
  },
  {
   "cell_type": "markdown",
   "id": "80dfb35c",
   "metadata": {
    "papermill": {
     "duration": 0.042454,
     "end_time": "2022-07-29T00:43:31.937499",
     "exception": false,
     "start_time": "2022-07-29T00:43:31.895045",
     "status": "completed"
    },
    "tags": []
   },
   "source": [
    "#### Plotting the outputs of this layer of the NN.\n"
   ]
  },
  {
   "cell_type": "code",
   "execution_count": 25,
   "id": "45eb2ff5",
   "metadata": {
    "execution": {
     "iopub.execute_input": "2022-07-29T00:43:32.036278Z",
     "iopub.status.busy": "2022-07-29T00:43:32.035276Z",
     "iopub.status.idle": "2022-07-29T00:43:32.053627Z",
     "shell.execute_reply": "2022-07-29T00:43:32.054111Z"
    },
    "papermill": {
     "duration": 0.074262,
     "end_time": "2022-07-29T00:43:32.054254",
     "exception": false,
     "start_time": "2022-07-29T00:43:31.979992",
     "status": "completed"
    },
    "tags": []
   },
   "outputs": [],
   "source": [
    "new_model = Model(layers[:-2])\n",
    "testing_plot = new_model(testing_data_x)"
   ]
  },
  {
   "cell_type": "code",
   "execution_count": 26,
   "id": "4c0a5485",
   "metadata": {
    "execution": {
     "iopub.execute_input": "2022-07-29T00:43:32.148745Z",
     "iopub.status.busy": "2022-07-29T00:43:32.146230Z",
     "iopub.status.idle": "2022-07-29T00:43:32.350260Z",
     "shell.execute_reply": "2022-07-29T00:43:32.349751Z"
    },
    "papermill": {
     "duration": 0.253293,
     "end_time": "2022-07-29T00:43:32.350384",
     "exception": false,
     "start_time": "2022-07-29T00:43:32.097091",
     "status": "completed"
    },
    "tags": []
   },
   "outputs": [
    {
     "data": {
      "text/plain": [
       "Text(0.5, 1.0, 'Outputs')"
      ]
     },
     "execution_count": 26,
     "metadata": {},
     "output_type": "execute_result"
    },
    {
     "data": {
      "image/png": "[encoded data removed]",
      "text/plain": [
       "<Figure size 576x504 with 1 Axes>"
      ]
     },
     "metadata": {
      "needs_background": "light"
     },
     "output_type": "display_data"
    }
   ],
   "source": [
    "# Plotting the scatter plot of points and color coding by class\n",
    "plt.figure(figsize=(8,7))\n",
    "plt.scatter(testing_plot[:,0], testing_plot[:,1], alpha = 0.1, c = y_test.ravel());\n",
    "plt.title('Outputs')"
   ]
  },
  {
   "cell_type": "markdown",
   "id": "a74fcf8f",
   "metadata": {
    "papermill": {
     "duration": 0.045141,
     "end_time": "2022-07-29T00:43:32.441237",
     "exception": false,
     "start_time": "2022-07-29T00:43:32.396096",
     "status": "completed"
    },
    "tags": []
   },
   "source": [
    "Probability contours"
   ]
  },
  {
   "cell_type": "code",
   "execution_count": 27,
   "id": "d0afc8e3",
   "metadata": {
    "execution": {
     "iopub.execute_input": "2022-07-29T00:43:32.570090Z",
     "iopub.status.busy": "2022-07-29T00:43:32.566377Z",
     "iopub.status.idle": "2022-07-29T00:43:32.578726Z",
     "shell.execute_reply": "2022-07-29T00:43:32.578225Z"
    },
    "papermill": {
     "duration": 0.092334,
     "end_time": "2022-07-29T00:43:32.578841",
     "exception": false,
     "start_time": "2022-07-29T00:43:32.486507",
     "status": "completed"
    },
    "tags": []
   },
   "outputs": [],
   "source": [
    "model_prob = Model(layers[-2:]) "
   ]
  },
  {
   "cell_type": "code",
   "execution_count": 28,
   "id": "9b96e238",
   "metadata": {
    "execution": {
     "iopub.execute_input": "2022-07-29T00:43:32.682131Z",
     "iopub.status.busy": "2022-07-29T00:43:32.677356Z",
     "iopub.status.idle": "2022-07-29T00:43:32.692346Z",
     "shell.execute_reply": "2022-07-29T00:43:32.691859Z"
    },
    "papermill": {
     "duration": 0.068092,
     "end_time": "2022-07-29T00:43:32.692460",
     "exception": false,
     "start_time": "2022-07-29T00:43:32.624368",
     "status": "completed"
    },
    "tags": []
   },
   "outputs": [],
   "source": [
    "#creating the x and y ranges according to the above generated plot.\n",
    "x_range = np.linspace(-4, 1, 100) \n",
    "y_range = np.linspace(-6, 6, 100) \n",
    "x_grid, y_grid = np.meshgrid(x_range, y_range) # x_grid and y_grig are of size 100 X 100\n",
    "\n",
    "# converting x_grid and y_grid to continuous arrays\n",
    "x_gridflat = np.ravel(x_grid)\n",
    "y_gridflat = np.ravel(y_grid)\n",
    "\n",
    "# The last layer of the current model takes two columns as input. Hence transpose of np.vstack() is required.\n",
    "X = np.vstack((x_gridflat, y_gridflat)).T\n",
    "\n",
    "prob_contour = model_prob(X).reshape(100,100) "
   ]
  },
  {
   "cell_type": "code",
   "execution_count": 29,
   "id": "da72499a",
   "metadata": {
    "execution": {
     "iopub.execute_input": "2022-07-29T00:43:32.802372Z",
     "iopub.status.busy": "2022-07-29T00:43:32.801761Z",
     "iopub.status.idle": "2022-07-29T00:43:33.051226Z",
     "shell.execute_reply": "2022-07-29T00:43:33.050702Z"
    },
    "papermill": {
     "duration": 0.30215,
     "end_time": "2022-07-29T00:43:33.051346",
     "exception": false,
     "start_time": "2022-07-29T00:43:32.749196",
     "status": "completed"
    },
    "tags": []
   },
   "outputs": [
    {
     "data": {
      "image/png": "[encoded data removed]",
      "text/plain": [
       "<Figure size 720x648 with 1 Axes>"
      ]
     },
     "metadata": {
      "needs_background": "light"
     },
     "output_type": "display_data"
    }
   ],
   "source": [
    "plt.figure(figsize=(10,9))\n",
    "plt.scatter(testing_plot[:,0], testing_plot[:,1], alpha = 0.1, c = y_test.ravel())\n",
    "contours = plt.contour(x_grid,y_grid,prob_contour)\n",
    "plt.title('Probability Contours')\n",
    "plt.clabel(contours, inline = True );"
   ]
  },
  {
   "cell_type": "code",
   "execution_count": null,
   "id": "e81b4ac7",
   "metadata": {
    "papermill": {
     "duration": 0.048047,
     "end_time": "2022-07-29T00:43:33.148077",
     "exception": false,
     "start_time": "2022-07-29T00:43:33.100030",
     "status": "completed"
    },
    "tags": []
   },
   "outputs": [],
   "source": []
  }
 ],
 "metadata": {
  "kernelspec": {
   "display_name": "Python 3",
   "language": "python",
   "name": "python3"
  },
  "language_info": {
   "codemirror_mode": {
    "name": "ipython",
    "version": 3
   },
   "file_extension": ".py",
   "mimetype": "text/x-python",
   "name": "python",
   "nbconvert_exporter": "python",
   "pygments_lexer": "ipython3",
   "version": "3.6.15"
  },
  "papermill": {
   "default_parameters": {},
   "duration": 105.125653,
   "end_time": "2022-07-29T00:43:33.615684",
   "environment_variables": {},
   "exception": null,
   "input_path": "2020-08-11-part2.ipynb",
   "output_path": "2020-08-11-part2.ipynb",
   "parameters": {},
   "start_time": "2022-07-29T00:41:48.490031",
   "version": "2.3.3"
  }
 },
 "nbformat": 4,
 "nbformat_minor": 5
}