{
 "cells": [
  {
   "cell_type": "markdown",
   "id": "98380cd3",
   "metadata": {
    "papermill": {
     "duration": 0.029606,
     "end_time": "2022-11-12T10:09:54.174155",
     "exception": false,
     "start_time": "2022-11-12T10:09:54.144549",
     "status": "completed"
    },
    "tags": []
   },
   "source": [
    "# Distinguish Your Own Digits (DYOD)"
   ]
  },
  {
   "cell_type": "markdown",
   "id": "ef31240d",
   "metadata": {
    "papermill": {
     "duration": 0.023363,
     "end_time": "2022-11-12T10:09:54.221637",
     "exception": false,
     "start_time": "2022-11-12T10:09:54.198274",
     "status": "completed"
    },
    "tags": []
   },
   "source": [
    "You are going to write a classifier that distinguishes between the number 3 and number 8."
   ]
  },
  {
   "cell_type": "code",
   "execution_count": 1,
   "id": "b15c8646",
   "metadata": {
    "execution": {
     "iopub.execute_input": "2022-11-12T10:09:54.279237Z",
     "iopub.status.busy": "2022-11-12T10:09:54.278609Z",
     "iopub.status.idle": "2022-11-12T10:09:54.290521Z",
     "shell.execute_reply": "2022-11-12T10:09:54.290024Z"
    },
    "papermill": {
     "duration": 0.045693,
     "end_time": "2022-11-12T10:09:54.290646",
     "exception": false,
     "start_time": "2022-11-12T10:09:54.244953",
     "status": "completed"
    },
    "tags": []
   },
   "outputs": [],
   "source": [
    "%load_ext autoreload\n",
    "%autoreload 2"
   ]
  },
  {
   "cell_type": "code",
   "execution_count": 2,
   "id": "22ef38dc",
   "metadata": {
    "execution": {
     "iopub.execute_input": "2022-11-12T10:09:54.341263Z",
     "iopub.status.busy": "2022-11-12T10:09:54.340680Z",
     "iopub.status.idle": "2022-11-12T10:09:54.862273Z",
     "shell.execute_reply": "2022-11-12T10:09:54.861760Z"
    },
    "papermill": {
     "duration": 0.548287,
     "end_time": "2022-11-12T10:09:54.862399",
     "exception": false,
     "start_time": "2022-11-12T10:09:54.314112",
     "status": "completed"
    },
    "tags": []
   },
   "outputs": [],
   "source": [
    "%matplotlib inline\n",
    "import numpy as np\n",
    "import matplotlib.pyplot as plt\n",
    "import pandas as pd"
   ]
  },
  {
   "cell_type": "markdown",
   "id": "ba036198",
   "metadata": {
    "papermill": {
     "duration": 0.023349,
     "end_time": "2022-11-12T10:09:54.909325",
     "exception": false,
     "start_time": "2022-11-12T10:09:54.885976",
     "status": "completed"
    },
    "tags": []
   },
   "source": [
    "From the command line run `pip install mnist`. This is a library that will help you bring down the mnist dataset. If you run this from a notebook, you need to put  `!pip install mnist` in a cell by itself."
   ]
  },
  {
   "cell_type": "code",
   "execution_count": 3,
   "id": "bb6ad8a1",
   "metadata": {
    "execution": {
     "iopub.execute_input": "2022-11-12T10:09:54.960378Z",
     "iopub.status.busy": "2022-11-12T10:09:54.959778Z",
     "iopub.status.idle": "2022-11-12T10:09:56.538188Z",
     "shell.execute_reply": "2022-11-12T10:09:56.537257Z"
    },
    "papermill": {
     "duration": 1.605581,
     "end_time": "2022-11-12T10:09:56.538327",
     "exception": false,
     "start_time": "2022-11-12T10:09:54.932746",
     "status": "completed"
    },
    "tags": []
   },
   "outputs": [
    {
     "name": "stdout",
     "output_type": "stream",
     "text": [
      "Collecting mnist\r\n",
      "  Downloading mnist-0.2.2-py2.py3-none-any.whl (3.5 kB)\r\n",
      "Requirement already satisfied: numpy in /opt/hostedtoolcache/Python/3.6.15/x64/lib/python3.6/site-packages (from mnist) (1.19.5)\r\n"
     ]
    },
    {
     "name": "stdout",
     "output_type": "stream",
     "text": [
      "Installing collected packages: mnist\r\n"
     ]
    },
    {
     "name": "stdout",
     "output_type": "stream",
     "text": [
      "Successfully installed mnist-0.2.2\r\n"
     ]
    }
   ],
   "source": [
    "!pip install mnist"
   ]
  },
  {
   "cell_type": "markdown",
   "id": "69df9c9a",
   "metadata": {
    "papermill": {
     "duration": 0.024762,
     "end_time": "2022-11-12T10:09:56.588422",
     "exception": false,
     "start_time": "2022-11-12T10:09:56.563660",
     "status": "completed"
    },
    "tags": []
   },
   "source": [
    "## Preparing the Data"
   ]
  },
  {
   "cell_type": "code",
   "execution_count": 4,
   "id": "7f69d806",
   "metadata": {
    "execution": {
     "iopub.execute_input": "2022-11-12T10:09:56.640603Z",
     "iopub.status.busy": "2022-11-12T10:09:56.640006Z",
     "iopub.status.idle": "2022-11-12T10:09:56.654747Z",
     "shell.execute_reply": "2022-11-12T10:09:56.655220Z"
    },
    "papermill": {
     "duration": 0.042882,
     "end_time": "2022-11-12T10:09:56.655342",
     "exception": false,
     "start_time": "2022-11-12T10:09:56.612460",
     "status": "completed"
    },
    "tags": []
   },
   "outputs": [],
   "source": [
    "import mnist"
   ]
  },
  {
   "cell_type": "code",
   "execution_count": 5,
   "id": "a411e44f",
   "metadata": {
    "execution": {
     "iopub.execute_input": "2022-11-12T10:09:56.706913Z",
     "iopub.status.busy": "2022-11-12T10:09:56.706341Z",
     "iopub.status.idle": "2022-11-12T10:09:57.185557Z",
     "shell.execute_reply": "2022-11-12T10:09:57.185029Z"
    },
    "papermill": {
     "duration": 0.506206,
     "end_time": "2022-11-12T10:09:57.185677",
     "exception": false,
     "start_time": "2022-11-12T10:09:56.679471",
     "status": "completed"
    },
    "tags": []
   },
   "outputs": [],
   "source": [
    "train_images = mnist.train_images()\n",
    "train_labels = mnist.train_labels()"
   ]
  },
  {
   "cell_type": "code",
   "execution_count": 6,
   "id": "dceab3a5",
   "metadata": {
    "execution": {
     "iopub.execute_input": "2022-11-12T10:09:57.238592Z",
     "iopub.status.busy": "2022-11-12T10:09:57.238004Z",
     "iopub.status.idle": "2022-11-12T10:09:57.253027Z",
     "shell.execute_reply": "2022-11-12T10:09:57.253568Z"
    },
    "papermill": {
     "duration": 0.043451,
     "end_time": "2022-11-12T10:09:57.253694",
     "exception": false,
     "start_time": "2022-11-12T10:09:57.210243",
     "status": "completed"
    },
    "tags": []
   },
   "outputs": [
    {
     "data": {
      "text/plain": [
       "((60000, 28, 28), (60000,))"
      ]
     },
     "execution_count": 6,
     "metadata": {},
     "output_type": "execute_result"
    }
   ],
   "source": [
    "train_images.shape, train_labels.shape"
   ]
  },
  {
   "cell_type": "code",
   "execution_count": 7,
   "id": "f50dc2bb",
   "metadata": {
    "execution": {
     "iopub.execute_input": "2022-11-12T10:09:57.306454Z",
     "iopub.status.busy": "2022-11-12T10:09:57.305879Z",
     "iopub.status.idle": "2022-11-12T10:09:57.404245Z",
     "shell.execute_reply": "2022-11-12T10:09:57.403620Z"
    },
    "papermill": {
     "duration": 0.126157,
     "end_time": "2022-11-12T10:09:57.404382",
     "exception": false,
     "start_time": "2022-11-12T10:09:57.278225",
     "status": "completed"
    },
    "tags": []
   },
   "outputs": [],
   "source": [
    "test_images = mnist.test_images()\n",
    "test_labels = mnist.test_labels()"
   ]
  },
  {
   "cell_type": "code",
   "execution_count": 8,
   "id": "fc38cf1b",
   "metadata": {
    "execution": {
     "iopub.execute_input": "2022-11-12T10:09:57.461241Z",
     "iopub.status.busy": "2022-11-12T10:09:57.460639Z",
     "iopub.status.idle": "2022-11-12T10:09:57.472295Z",
     "shell.execute_reply": "2022-11-12T10:09:57.471803Z"
    },
    "papermill": {
     "duration": 0.042581,
     "end_time": "2022-11-12T10:09:57.472406",
     "exception": false,
     "start_time": "2022-11-12T10:09:57.429825",
     "status": "completed"
    },
    "tags": []
   },
   "outputs": [
    {
     "data": {
      "text/plain": [
       "((10000, 28, 28), (10000,))"
      ]
     },
     "execution_count": 8,
     "metadata": {},
     "output_type": "execute_result"
    }
   ],
   "source": [
    "test_images.shape, test_labels.shape"
   ]
  },
  {
   "cell_type": "code",
   "execution_count": 9,
   "id": "f9ed8fe0",
   "metadata": {
    "execution": {
     "iopub.execute_input": "2022-11-12T10:09:57.525871Z",
     "iopub.status.busy": "2022-11-12T10:09:57.525293Z",
     "iopub.status.idle": "2022-11-12T10:09:57.661199Z",
     "shell.execute_reply": "2022-11-12T10:09:57.661717Z"
    },
    "papermill": {
     "duration": 0.16443,
     "end_time": "2022-11-12T10:09:57.661862",
     "exception": false,
     "start_time": "2022-11-12T10:09:57.497432",
     "status": "completed"
    },
    "tags": []
   },
   "outputs": [
    {
     "name": "stdout",
     "output_type": "stream",
     "text": [
      "2\n"
     ]
    },
    {
     "data": {
      "text/plain": [
       "<matplotlib.image.AxesImage at 0x7f28cde7fda0>"
      ]
     },
     "execution_count": 9,
     "metadata": {},
     "output_type": "execute_result"
    },
    {
     "data": {
      "image/png": "[encoded data removed]",
      "text/plain": [
       "<Figure size 432x288 with 1 Axes>"
      ]
     },
     "metadata": {
      "needs_background": "light"
     },
     "output_type": "display_data"
    }
   ],
   "source": [
    "image_index = 7776 # You may select anything up to 60,000\n",
    "print(train_labels[image_index]) \n",
    "plt.imshow(train_images[image_index], cmap='Greys')"
   ]
  },
  {
   "cell_type": "markdown",
   "id": "a8d2388d",
   "metadata": {
    "papermill": {
     "duration": 0.02605,
     "end_time": "2022-11-12T10:09:57.714112",
     "exception": false,
     "start_time": "2022-11-12T10:09:57.688062",
     "status": "completed"
    },
    "tags": []
   },
   "source": [
    "## Filter data to get 3 and 8 out"
   ]
  },
  {
   "cell_type": "code",
   "execution_count": 10,
   "id": "776f7fc7",
   "metadata": {
    "execution": {
     "iopub.execute_input": "2022-11-12T10:09:57.780619Z",
     "iopub.status.busy": "2022-11-12T10:09:57.777946Z",
     "iopub.status.idle": "2022-11-12T10:09:57.791699Z",
     "shell.execute_reply": "2022-11-12T10:09:57.790931Z"
    },
    "papermill": {
     "duration": 0.052104,
     "end_time": "2022-11-12T10:09:57.791834",
     "exception": false,
     "start_time": "2022-11-12T10:09:57.739730",
     "status": "completed"
    },
    "tags": []
   },
   "outputs": [],
   "source": [
    "train_filter = np.where((train_labels == 3 ) | (train_labels == 8))\n",
    "test_filter = np.where((test_labels == 3) | (test_labels == 8))\n",
    "X_train, y_train = train_images[train_filter], train_labels[train_filter]\n",
    "X_test, y_test = test_images[test_filter], test_labels[test_filter]"
   ]
  },
  {
   "cell_type": "markdown",
   "id": "948f0b7e",
   "metadata": {
    "papermill": {
     "duration": 0.025957,
     "end_time": "2022-11-12T10:09:57.845822",
     "exception": false,
     "start_time": "2022-11-12T10:09:57.819865",
     "status": "completed"
    },
    "tags": []
   },
   "source": [
    "We normalize the pizel values in the 0 to 1 range"
   ]
  },
  {
   "cell_type": "code",
   "execution_count": 11,
   "id": "ee4c2166",
   "metadata": {
    "execution": {
     "iopub.execute_input": "2022-11-12T10:09:57.900829Z",
     "iopub.status.busy": "2022-11-12T10:09:57.900238Z",
     "iopub.status.idle": "2022-11-12T10:09:57.948553Z",
     "shell.execute_reply": "2022-11-12T10:09:57.948037Z"
    },
    "papermill": {
     "duration": 0.077192,
     "end_time": "2022-11-12T10:09:57.948673",
     "exception": false,
     "start_time": "2022-11-12T10:09:57.871481",
     "status": "completed"
    },
    "tags": []
   },
   "outputs": [],
   "source": [
    "X_train = X_train/255.\n",
    "X_test = X_test/255."
   ]
  },
  {
   "cell_type": "markdown",
   "id": "ddcf4fab",
   "metadata": {
    "papermill": {
     "duration": 0.026086,
     "end_time": "2022-11-12T10:09:58.000823",
     "exception": false,
     "start_time": "2022-11-12T10:09:57.974737",
     "status": "completed"
    },
    "tags": []
   },
   "source": [
    "And setup the labels as 1 (when the digit is 3) and 0 (when the digit is 8)"
   ]
  },
  {
   "cell_type": "code",
   "execution_count": 12,
   "id": "7dc908f2",
   "metadata": {
    "execution": {
     "iopub.execute_input": "2022-11-12T10:09:58.056158Z",
     "iopub.status.busy": "2022-11-12T10:09:58.055535Z",
     "iopub.status.idle": "2022-11-12T10:09:58.068414Z",
     "shell.execute_reply": "2022-11-12T10:09:58.067832Z"
    },
    "papermill": {
     "duration": 0.042061,
     "end_time": "2022-11-12T10:09:58.068527",
     "exception": false,
     "start_time": "2022-11-12T10:09:58.026466",
     "status": "completed"
    },
    "tags": []
   },
   "outputs": [],
   "source": [
    "y_train = 1*(y_train==3)\n",
    "y_test = 1*(y_test==3)"
   ]
  },
  {
   "cell_type": "code",
   "execution_count": 13,
   "id": "01e4e969",
   "metadata": {
    "execution": {
     "iopub.execute_input": "2022-11-12T10:09:58.134842Z",
     "iopub.status.busy": "2022-11-12T10:09:58.134262Z",
     "iopub.status.idle": "2022-11-12T10:09:58.143038Z",
     "shell.execute_reply": "2022-11-12T10:09:58.143484Z"
    },
    "papermill": {
     "duration": 0.049186,
     "end_time": "2022-11-12T10:09:58.143605",
     "exception": false,
     "start_time": "2022-11-12T10:09:58.094419",
     "status": "completed"
    },
    "tags": []
   },
   "outputs": [
    {
     "data": {
      "text/plain": [
       "((11982, 28, 28), (1984, 28, 28))"
      ]
     },
     "execution_count": 13,
     "metadata": {},
     "output_type": "execute_result"
    }
   ],
   "source": [
    "X_train.shape, X_test.shape"
   ]
  },
  {
   "cell_type": "markdown",
   "id": "5ccf3f85",
   "metadata": {
    "papermill": {
     "duration": 0.02593,
     "end_time": "2022-11-12T10:09:58.195427",
     "exception": false,
     "start_time": "2022-11-12T10:09:58.169497",
     "status": "completed"
    },
    "tags": []
   },
   "source": [
    "We reshape the data to flatten the image pixels into a set of features or co-variates:"
   ]
  },
  {
   "cell_type": "code",
   "execution_count": 14,
   "id": "5286a4a3",
   "metadata": {
    "execution": {
     "iopub.execute_input": "2022-11-12T10:09:58.260921Z",
     "iopub.status.busy": "2022-11-12T10:09:58.250540Z",
     "iopub.status.idle": "2022-11-12T10:09:58.267841Z",
     "shell.execute_reply": "2022-11-12T10:09:58.267041Z"
    },
    "papermill": {
     "duration": 0.046461,
     "end_time": "2022-11-12T10:09:58.267951",
     "exception": false,
     "start_time": "2022-11-12T10:09:58.221490",
     "status": "completed"
    },
    "tags": []
   },
   "outputs": [
    {
     "data": {
      "text/plain": [
       "((11982, 784), (1984, 784))"
      ]
     },
     "execution_count": 14,
     "metadata": {},
     "output_type": "execute_result"
    }
   ],
   "source": [
    "X_train = X_train.reshape(X_train.shape[0], -1)\n",
    "X_test = X_test.reshape(X_test.shape[0], -1)\n",
    "X_train.shape, X_test.shape"
   ]
  },
  {
   "cell_type": "code",
   "execution_count": 15,
   "id": "73c5f88a",
   "metadata": {
    "execution": {
     "iopub.execute_input": "2022-11-12T10:09:58.324447Z",
     "iopub.status.busy": "2022-11-12T10:09:58.323782Z",
     "iopub.status.idle": "2022-11-12T10:09:58.341546Z",
     "shell.execute_reply": "2022-11-12T10:09:58.342016Z"
    },
    "papermill": {
     "duration": 0.047988,
     "end_time": "2022-11-12T10:09:58.342131",
     "exception": false,
     "start_time": "2022-11-12T10:09:58.294143",
     "status": "completed"
    },
    "tags": []
   },
   "outputs": [],
   "source": [
    "#Impoting functions from 'Kudzu'\n",
    "from kudzu.model import Model\n",
    "from kudzu.train import Learner\n",
    "from kudzu.optim import GD\n",
    "from kudzu.data import Data, Sampler,Dataloader\n",
    "\n",
    "from kudzu.callbacks import AccCallback\n",
    "from kudzu.callbacks import ClfCallback\n",
    "\n",
    "from kudzu.loss import MSE\n",
    "\n",
    "from kudzu.layer import Sigmoid,Relu\n",
    "from kudzu.layer import Affine"
   ]
  },
  {
   "cell_type": "markdown",
   "id": "bc01172a",
   "metadata": {
    "papermill": {
     "duration": 0.026192,
     "end_time": "2022-11-12T10:09:58.394599",
     "exception": false,
     "start_time": "2022-11-12T10:09:58.368407",
     "status": "completed"
    },
    "tags": []
   },
   "source": [
    "### Let us create a `Config` class, to store important parameters. \n",
    "This class essentially plays the role of a dictionary."
   ]
  },
  {
   "cell_type": "code",
   "execution_count": 16,
   "id": "978281aa",
   "metadata": {
    "execution": {
     "iopub.execute_input": "2022-11-12T10:09:58.451085Z",
     "iopub.status.busy": "2022-11-12T10:09:58.450497Z",
     "iopub.status.idle": "2022-11-12T10:09:58.463401Z",
     "shell.execute_reply": "2022-11-12T10:09:58.462950Z"
    },
    "papermill": {
     "duration": 0.042644,
     "end_time": "2022-11-12T10:09:58.463510",
     "exception": false,
     "start_time": "2022-11-12T10:09:58.420866",
     "status": "completed"
    },
    "tags": []
   },
   "outputs": [],
   "source": [
    "class Config:\n",
    "    pass\n",
    "config = Config()\n",
    "config.lr = 0.001\n",
    "config.num_epochs = 250\n",
    "config.bs = 50"
   ]
  },
  {
   "cell_type": "markdown",
   "id": "1385fa59",
   "metadata": {
    "papermill": {
     "duration": 0.026592,
     "end_time": "2022-11-12T10:09:58.516341",
     "exception": false,
     "start_time": "2022-11-12T10:09:58.489749",
     "status": "completed"
    },
    "tags": []
   },
   "source": [
    "### Running Models with the Training data\n",
    "Details about the network layers:\n",
    "- A first affine layer has 784 inputs and does 100 affine transforms. These are followed by a Relu\n",
    "- A second affine layer has 100 inputs from the 100 activations of the past layer, and does 100 affine transforms. These are followed by a Relu\n",
    "- A third affine layer has 100 activations and does 2 affine transformations to create an embedding for visualization. There is no non-linearity here.\n",
    "- A final \"logistic regression\" which has an affine transform from 2 inputs to 1 output, which is squeezed through a sigmoid.\n"
   ]
  },
  {
   "cell_type": "code",
   "execution_count": 17,
   "id": "2b9c66db",
   "metadata": {
    "execution": {
     "iopub.execute_input": "2022-11-12T10:09:58.574546Z",
     "iopub.status.busy": "2022-11-12T10:09:58.573922Z",
     "iopub.status.idle": "2022-11-12T10:09:58.585554Z",
     "shell.execute_reply": "2022-11-12T10:09:58.586027Z"
    },
    "papermill": {
     "duration": 0.043632,
     "end_time": "2022-11-12T10:09:58.586148",
     "exception": false,
     "start_time": "2022-11-12T10:09:58.542516",
     "status": "completed"
    },
    "tags": []
   },
   "outputs": [],
   "source": [
    "data = Data(X_train, y_train.reshape(-1,1))\n",
    "sampler = Sampler(data, config.bs, shuffle=True)\n",
    "\n",
    "dl = Dataloader(data, sampler)\n",
    "\n",
    "opt = GD(config.lr)\n",
    "loss = MSE()"
   ]
  },
  {
   "cell_type": "code",
   "execution_count": 18,
   "id": "b275e4c2",
   "metadata": {
    "execution": {
     "iopub.execute_input": "2022-11-12T10:09:58.642222Z",
     "iopub.status.busy": "2022-11-12T10:09:58.641640Z",
     "iopub.status.idle": "2022-11-12T10:09:58.653875Z",
     "shell.execute_reply": "2022-11-12T10:09:58.654346Z"
    },
    "papermill": {
     "duration": 0.042085,
     "end_time": "2022-11-12T10:09:58.654464",
     "exception": false,
     "start_time": "2022-11-12T10:09:58.612379",
     "status": "completed"
    },
    "tags": []
   },
   "outputs": [],
   "source": [
    "training_data_x = X_train\n",
    "testing_data_x = X_test\n",
    "training_data_y = y_train.reshape(-1,1)\n",
    "testing_data_y = y_test.reshape(-1,1)"
   ]
  },
  {
   "cell_type": "code",
   "execution_count": 19,
   "id": "76951160",
   "metadata": {
    "execution": {
     "iopub.execute_input": "2022-11-12T10:09:58.710831Z",
     "iopub.status.busy": "2022-11-12T10:09:58.710250Z",
     "iopub.status.idle": "2022-11-12T10:09:58.725718Z",
     "shell.execute_reply": "2022-11-12T10:09:58.726188Z"
    },
    "papermill": {
     "duration": 0.045784,
     "end_time": "2022-11-12T10:09:58.726308",
     "exception": false,
     "start_time": "2022-11-12T10:09:58.680524",
     "status": "completed"
    },
    "tags": []
   },
   "outputs": [
    {
     "name": "stdout",
     "output_type": "stream",
     "text": [
      "xavier\n",
      "xavier\n",
      "xavier\n",
      "xavier\n",
      "xavier\n"
     ]
    }
   ],
   "source": [
    "layers = [Affine(\"first\", 784, 100), Relu(\"first\"), Affine(\"second\", 100, 100), Relu(\"second\"), Affine(\"third\", 100, 2), Affine(\"last\", 2, 1), Sigmoid(\"last\")]\n",
    "model_nn = Model(layers)\n",
    "model_lr = Model([Affine(\"logits\", 784, 1), Sigmoid(\"sigmoid\")])"
   ]
  },
  {
   "cell_type": "code",
   "execution_count": 20,
   "id": "6eede77a",
   "metadata": {
    "execution": {
     "iopub.execute_input": "2022-11-12T10:09:58.795291Z",
     "iopub.status.busy": "2022-11-12T10:09:58.788488Z",
     "iopub.status.idle": "2022-11-12T10:09:58.797920Z",
     "shell.execute_reply": "2022-11-12T10:09:58.797360Z"
    },
    "papermill": {
     "duration": 0.045182,
     "end_time": "2022-11-12T10:09:58.798022",
     "exception": false,
     "start_time": "2022-11-12T10:09:58.752840",
     "status": "completed"
    },
    "tags": []
   },
   "outputs": [],
   "source": [
    "nn_learner = Learner(loss, model_nn, opt, config.num_epochs)\n",
    "acc_nn = ClfCallback(nn_learner, config.bs, training_data_x , testing_data_x, training_data_y, testing_data_y)\n",
    "nn_learner.set_callbacks([acc_nn])"
   ]
  },
  {
   "cell_type": "code",
   "execution_count": 21,
   "id": "877b6cc7",
   "metadata": {
    "execution": {
     "iopub.execute_input": "2022-11-12T10:09:58.864466Z",
     "iopub.status.busy": "2022-11-12T10:09:58.853759Z",
     "iopub.status.idle": "2022-11-12T10:09:58.869555Z",
     "shell.execute_reply": "2022-11-12T10:09:58.868738Z"
    },
    "papermill": {
     "duration": 0.045257,
     "end_time": "2022-11-12T10:09:58.869660",
     "exception": false,
     "start_time": "2022-11-12T10:09:58.824403",
     "status": "completed"
    },
    "tags": []
   },
   "outputs": [],
   "source": [
    "lr_learner = Learner(loss, model_lr, opt, config.num_epochs)\n",
    "acc_lr = ClfCallback(lr_learner, config.bs, training_data_x , testing_data_x, training_data_y, testing_data_y)\n",
    "lr_learner.set_callbacks([acc_lr])"
   ]
  },
  {
   "cell_type": "code",
   "execution_count": 22,
   "id": "d9b133c3",
   "metadata": {
    "execution": {
     "iopub.execute_input": "2022-11-12T10:09:58.939239Z",
     "iopub.status.busy": "2022-11-12T10:09:58.936822Z",
     "iopub.status.idle": "2022-11-12T10:11:11.848877Z",
     "shell.execute_reply": "2022-11-12T10:11:11.849742Z"
    },
    "papermill": {
     "duration": 72.953748,
     "end_time": "2022-11-12T10:11:11.849889",
     "exception": false,
     "start_time": "2022-11-12T10:09:58.896141",
     "status": "completed"
    },
    "tags": []
   },
   "outputs": [
    {
     "name": "stdout",
     "output_type": "stream",
     "text": [
      "Epoch 0, Loss 0.247\n",
      "Training Accuracy: 0.5747, Testing Accuracy: 0.5580\n",
      "\n"
     ]
    },
    {
     "name": "stdout",
     "output_type": "stream",
     "text": [
      "Epoch 10, Loss 0.1505\n",
      "Training Accuracy: 0.8875, Testing Accuracy: 0.8992\n",
      "\n"
     ]
    },
    {
     "name": "stdout",
     "output_type": "stream",
     "text": [
      "Epoch 20, Loss 0.0782\n",
      "Training Accuracy: 0.9224, Testing Accuracy: 0.9294\n",
      "\n"
     ]
    },
    {
     "name": "stdout",
     "output_type": "stream",
     "text": [
      "Epoch 30, Loss 0.0553\n",
      "Training Accuracy: 0.9395, Testing Accuracy: 0.9461\n",
      "\n"
     ]
    },
    {
     "name": "stdout",
     "output_type": "stream",
     "text": [
      "Epoch 40, Loss 0.0451\n",
      "Training Accuracy: 0.9482, Testing Accuracy: 0.9506\n",
      "\n"
     ]
    },
    {
     "name": "stdout",
     "output_type": "stream",
     "text": [
      "Epoch 50, Loss 0.0396\n",
      "Training Accuracy: 0.9543, Testing Accuracy: 0.9577\n",
      "\n"
     ]
    },
    {
     "name": "stdout",
     "output_type": "stream",
     "text": [
      "Epoch 60, Loss 0.0361\n",
      "Training Accuracy: 0.9580, Testing Accuracy: 0.9617\n",
      "\n"
     ]
    },
    {
     "name": "stdout",
     "output_type": "stream",
     "text": [
      "Epoch 70, Loss 0.0336\n",
      "Training Accuracy: 0.9598, Testing Accuracy: 0.9627\n",
      "\n"
     ]
    },
    {
     "name": "stdout",
     "output_type": "stream",
     "text": [
      "Epoch 80, Loss 0.0317\n",
      "Training Accuracy: 0.9623, Testing Accuracy: 0.9657\n",
      "\n"
     ]
    },
    {
     "name": "stdout",
     "output_type": "stream",
     "text": [
      "Epoch 90, Loss 0.0302\n",
      "Training Accuracy: 0.9641, Testing Accuracy: 0.9667\n",
      "\n"
     ]
    },
    {
     "name": "stdout",
     "output_type": "stream",
     "text": [
      "Epoch 100, Loss 0.0289\n",
      "Training Accuracy: 0.9667, Testing Accuracy: 0.9682\n",
      "\n"
     ]
    },
    {
     "name": "stdout",
     "output_type": "stream",
     "text": [
      "Epoch 110, Loss 0.0279\n",
      "Training Accuracy: 0.9669, Testing Accuracy: 0.9667\n",
      "\n"
     ]
    },
    {
     "name": "stdout",
     "output_type": "stream",
     "text": [
      "Epoch 120, Loss 0.027\n",
      "Training Accuracy: 0.9684, Testing Accuracy: 0.9693\n",
      "\n"
     ]
    },
    {
     "name": "stdout",
     "output_type": "stream",
     "text": [
      "Epoch 130, Loss 0.0262\n",
      "Training Accuracy: 0.9695, Testing Accuracy: 0.9708\n",
      "\n"
     ]
    },
    {
     "name": "stdout",
     "output_type": "stream",
     "text": [
      "Epoch 140, Loss 0.0255\n",
      "Training Accuracy: 0.9703, Testing Accuracy: 0.9718\n",
      "\n"
     ]
    },
    {
     "name": "stdout",
     "output_type": "stream",
     "text": [
      "Epoch 150, Loss 0.0248\n",
      "Training Accuracy: 0.9710, Testing Accuracy: 0.9718\n",
      "\n"
     ]
    },
    {
     "name": "stdout",
     "output_type": "stream",
     "text": [
      "Epoch 160, Loss 0.0242\n",
      "Training Accuracy: 0.9714, Testing Accuracy: 0.9703\n",
      "\n"
     ]
    },
    {
     "name": "stdout",
     "output_type": "stream",
     "text": [
      "Epoch 170, Loss 0.0237\n",
      "Training Accuracy: 0.9721, Testing Accuracy: 0.9708\n",
      "\n"
     ]
    },
    {
     "name": "stdout",
     "output_type": "stream",
     "text": [
      "Epoch 180, Loss 0.0232\n",
      "Training Accuracy: 0.9731, Testing Accuracy: 0.9713\n",
      "\n"
     ]
    },
    {
     "name": "stdout",
     "output_type": "stream",
     "text": [
      "Epoch 190, Loss 0.0227\n",
      "Training Accuracy: 0.9738, Testing Accuracy: 0.9713\n",
      "\n"
     ]
    },
    {
     "name": "stdout",
     "output_type": "stream",
     "text": [
      "Epoch 200, Loss 0.0223\n",
      "Training Accuracy: 0.9746, Testing Accuracy: 0.9723\n",
      "\n"
     ]
    },
    {
     "name": "stdout",
     "output_type": "stream",
     "text": [
      "Epoch 210, Loss 0.0219\n",
      "Training Accuracy: 0.9751, Testing Accuracy: 0.9723\n",
      "\n"
     ]
    },
    {
     "name": "stdout",
     "output_type": "stream",
     "text": [
      "Epoch 220, Loss 0.0215\n",
      "Training Accuracy: 0.9755, Testing Accuracy: 0.9718\n",
      "\n"
     ]
    },
    {
     "name": "stdout",
     "output_type": "stream",
     "text": [
      "Epoch 230, Loss 0.0211\n",
      "Training Accuracy: 0.9760, Testing Accuracy: 0.9723\n",
      "\n"
     ]
    },
    {
     "name": "stdout",
     "output_type": "stream",
     "text": [
      "Epoch 240, Loss 0.0207\n",
      "Training Accuracy: 0.9766, Testing Accuracy: 0.9718\n",
      "\n"
     ]
    },
    {
     "data": {
      "text/plain": [
       "0.00500742494312146"
      ]
     },
     "execution_count": 22,
     "metadata": {},
     "output_type": "execute_result"
    }
   ],
   "source": [
    "nn_learner.train_loop(dl)"
   ]
  },
  {
   "cell_type": "code",
   "execution_count": 23,
   "id": "e0163366",
   "metadata": {
    "execution": {
     "iopub.execute_input": "2022-11-12T10:11:11.930410Z",
     "iopub.status.busy": "2022-11-12T10:11:11.929831Z",
     "iopub.status.idle": "2022-11-12T10:11:24.824876Z",
     "shell.execute_reply": "2022-11-12T10:11:24.825700Z"
    },
    "papermill": {
     "duration": 12.941613,
     "end_time": "2022-11-12T10:11:24.825843",
     "exception": false,
     "start_time": "2022-11-12T10:11:11.884230",
     "status": "completed"
    },
    "tags": []
   },
   "outputs": [
    {
     "name": "stdout",
     "output_type": "stream",
     "text": [
      "Epoch 0, Loss 0.2613\n",
      "Training Accuracy: 0.5950, Testing Accuracy: 0.5963\n",
      "\n"
     ]
    },
    {
     "name": "stdout",
     "output_type": "stream",
     "text": [
      "Epoch 10, Loss 0.1069\n",
      "Training Accuracy: 0.9074, Testing Accuracy: 0.9224\n",
      "\n"
     ]
    },
    {
     "name": "stdout",
     "output_type": "stream",
     "text": [
      "Epoch 20, Loss 0.081\n",
      "Training Accuracy: 0.9261, Testing Accuracy: 0.9365\n",
      "\n"
     ]
    },
    {
     "name": "stdout",
     "output_type": "stream",
     "text": [
      "Epoch 30, Loss 0.0694\n",
      "Training Accuracy: 0.9350, Testing Accuracy: 0.9466\n",
      "\n"
     ]
    },
    {
     "name": "stdout",
     "output_type": "stream",
     "text": [
      "Epoch 40, Loss 0.0625\n",
      "Training Accuracy: 0.9398, Testing Accuracy: 0.9496\n",
      "\n"
     ]
    },
    {
     "name": "stdout",
     "output_type": "stream",
     "text": [
      "Epoch 50, Loss 0.0578\n",
      "Training Accuracy: 0.9434, Testing Accuracy: 0.9526\n",
      "\n"
     ]
    },
    {
     "name": "stdout",
     "output_type": "stream",
     "text": [
      "Epoch 60, Loss 0.0544\n",
      "Training Accuracy: 0.9463, Testing Accuracy: 0.9572\n",
      "\n"
     ]
    },
    {
     "name": "stdout",
     "output_type": "stream",
     "text": [
      "Epoch 70, Loss 0.0518\n",
      "Training Accuracy: 0.9481, Testing Accuracy: 0.9602\n",
      "\n"
     ]
    },
    {
     "name": "stdout",
     "output_type": "stream",
     "text": [
      "Epoch 80, Loss 0.0497\n",
      "Training Accuracy: 0.9501, Testing Accuracy: 0.9617\n",
      "\n"
     ]
    },
    {
     "name": "stdout",
     "output_type": "stream",
     "text": [
      "Epoch 90, Loss 0.0479\n",
      "Training Accuracy: 0.9514, Testing Accuracy: 0.9612\n",
      "\n"
     ]
    },
    {
     "name": "stdout",
     "output_type": "stream",
     "text": [
      "Epoch 100, Loss 0.0465\n",
      "Training Accuracy: 0.9524, Testing Accuracy: 0.9612\n",
      "\n"
     ]
    },
    {
     "name": "stdout",
     "output_type": "stream",
     "text": [
      "Epoch 110, Loss 0.0452\n",
      "Training Accuracy: 0.9536, Testing Accuracy: 0.9627\n",
      "\n"
     ]
    },
    {
     "name": "stdout",
     "output_type": "stream",
     "text": [
      "Epoch 120, Loss 0.0442\n",
      "Training Accuracy: 0.9544, Testing Accuracy: 0.9642\n",
      "\n"
     ]
    },
    {
     "name": "stdout",
     "output_type": "stream",
     "text": [
      "Epoch 130, Loss 0.0432\n",
      "Training Accuracy: 0.9551, Testing Accuracy: 0.9647\n",
      "\n"
     ]
    },
    {
     "name": "stdout",
     "output_type": "stream",
     "text": [
      "Epoch 140, Loss 0.0424\n",
      "Training Accuracy: 0.9553, Testing Accuracy: 0.9647\n",
      "\n"
     ]
    },
    {
     "name": "stdout",
     "output_type": "stream",
     "text": [
      "Epoch 150, Loss 0.0416\n",
      "Training Accuracy: 0.9559, Testing Accuracy: 0.9642\n",
      "\n"
     ]
    },
    {
     "name": "stdout",
     "output_type": "stream",
     "text": [
      "Epoch 160, Loss 0.0409\n",
      "Training Accuracy: 0.9567, Testing Accuracy: 0.9637\n",
      "\n"
     ]
    },
    {
     "name": "stdout",
     "output_type": "stream",
     "text": [
      "Epoch 170, Loss 0.0403\n",
      "Training Accuracy: 0.9569, Testing Accuracy: 0.9642\n",
      "\n"
     ]
    },
    {
     "name": "stdout",
     "output_type": "stream",
     "text": [
      "Epoch 180, Loss 0.0397\n",
      "Training Accuracy: 0.9573, Testing Accuracy: 0.9652\n",
      "\n"
     ]
    },
    {
     "name": "stdout",
     "output_type": "stream",
     "text": [
      "Epoch 190, Loss 0.0392\n",
      "Training Accuracy: 0.9575, Testing Accuracy: 0.9652\n",
      "\n"
     ]
    },
    {
     "name": "stdout",
     "output_type": "stream",
     "text": [
      "Epoch 200, Loss 0.0387\n",
      "Training Accuracy: 0.9583, Testing Accuracy: 0.9647\n",
      "\n"
     ]
    },
    {
     "name": "stdout",
     "output_type": "stream",
     "text": [
      "Epoch 210, Loss 0.0383\n",
      "Training Accuracy: 0.9589, Testing Accuracy: 0.9647\n",
      "\n"
     ]
    },
    {
     "name": "stdout",
     "output_type": "stream",
     "text": [
      "Epoch 220, Loss 0.0379\n",
      "Training Accuracy: 0.9594, Testing Accuracy: 0.9647\n",
      "\n"
     ]
    },
    {
     "name": "stdout",
     "output_type": "stream",
     "text": [
      "Epoch 230, Loss 0.0375\n",
      "Training Accuracy: 0.9596, Testing Accuracy: 0.9662\n",
      "\n"
     ]
    },
    {
     "name": "stdout",
     "output_type": "stream",
     "text": [
      "Epoch 240, Loss 0.0371\n",
      "Training Accuracy: 0.9602, Testing Accuracy: 0.9667\n",
      "\n"
     ]
    },
    {
     "data": {
      "text/plain": [
       "0.044821168979687354"
      ]
     },
     "execution_count": 23,
     "metadata": {},
     "output_type": "execute_result"
    }
   ],
   "source": [
    "lr_learner.train_loop(dl)"
   ]
  },
  {
   "cell_type": "code",
   "execution_count": 24,
   "id": "ca410940",
   "metadata": {
    "execution": {
     "iopub.execute_input": "2022-11-12T10:11:24.917194Z",
     "iopub.status.busy": "2022-11-12T10:11:24.916606Z",
     "iopub.status.idle": "2022-11-12T10:11:25.131166Z",
     "shell.execute_reply": "2022-11-12T10:11:25.130339Z"
    },
    "papermill": {
     "duration": 0.264411,
     "end_time": "2022-11-12T10:11:25.131294",
     "exception": false,
     "start_time": "2022-11-12T10:11:24.866883",
     "status": "completed"
    },
    "tags": []
   },
   "outputs": [
    {
     "data": {
      "text/plain": [
       "<matplotlib.legend.Legend at 0x7f28cd9ed0f0>"
      ]
     },
     "execution_count": 24,
     "metadata": {},
     "output_type": "execute_result"
    },
    {
     "data": {
      "image/png": "[encoded data removed]",
      "text/plain": [
       "<Figure size 1080x720 with 1 Axes>"
      ]
     },
     "metadata": {
      "needs_background": "light"
     },
     "output_type": "display_data"
    }
   ],
   "source": [
    "#comparing the results of NN and LR\n",
    "plt.figure(figsize=(15,10))\n",
    "\n",
    "# Neural Network plots\n",
    "plt.plot(acc_nn.accuracies, 'r-', label = \"Training Accuracies - NN\")\n",
    "plt.plot(acc_nn.test_accuracies, 'g-', label = \"Testing Accuracies - NN\")\n",
    "\n",
    "# Logistic Regression plots\n",
    "plt.plot(acc_lr.accuracies, 'k-', label = \"Training Accuracies - LR\")\n",
    "plt.plot(acc_lr.test_accuracies, 'b-', label = \"Testing Accuracies - LR\")\n",
    "plt.legend()"
   ]
  },
  {
   "cell_type": "markdown",
   "id": "80dfb35c",
   "metadata": {
    "papermill": {
     "duration": 0.041063,
     "end_time": "2022-11-12T10:11:25.213719",
     "exception": false,
     "start_time": "2022-11-12T10:11:25.172656",
     "status": "completed"
    },
    "tags": []
   },
   "source": [
    "#### Plotting the outputs of this layer of the NN.\n"
   ]
  },
  {
   "cell_type": "code",
   "execution_count": 25,
   "id": "45eb2ff5",
   "metadata": {
    "execution": {
     "iopub.execute_input": "2022-11-12T10:11:25.300737Z",
     "iopub.status.busy": "2022-11-12T10:11:25.300127Z",
     "iopub.status.idle": "2022-11-12T10:11:25.320201Z",
     "shell.execute_reply": "2022-11-12T10:11:25.319686Z"
    },
    "papermill": {
     "duration": 0.065339,
     "end_time": "2022-11-12T10:11:25.320318",
     "exception": false,
     "start_time": "2022-11-12T10:11:25.254979",
     "status": "completed"
    },
    "tags": []
   },
   "outputs": [],
   "source": [
    "new_model = Model(layers[:-2])\n",
    "testing_plot = new_model(testing_data_x)"
   ]
  },
  {
   "cell_type": "code",
   "execution_count": 26,
   "id": "4c0a5485",
   "metadata": {
    "execution": {
     "iopub.execute_input": "2022-11-12T10:11:25.410820Z",
     "iopub.status.busy": "2022-11-12T10:11:25.407236Z",
     "iopub.status.idle": "2022-11-12T10:11:25.615004Z",
     "shell.execute_reply": "2022-11-12T10:11:25.614511Z"
    },
    "papermill": {
     "duration": 0.253389,
     "end_time": "2022-11-12T10:11:25.615126",
     "exception": false,
     "start_time": "2022-11-12T10:11:25.361737",
     "status": "completed"
    },
    "tags": []
   },
   "outputs": [
    {
     "data": {
      "text/plain": [
       "Text(0.5, 1.0, 'Outputs')"
      ]
     },
     "execution_count": 26,
     "metadata": {},
     "output_type": "execute_result"
    },
    {
     "data": {
      "image/png": "[encoded data removed]",
      "text/plain": [
       "<Figure size 576x504 with 1 Axes>"
      ]
     },
     "metadata": {
      "needs_background": "light"
     },
     "output_type": "display_data"
    }
   ],
   "source": [
    "# Plotting the scatter plot of points and color coding by class\n",
    "plt.figure(figsize=(8,7))\n",
    "plt.scatter(testing_plot[:,0], testing_plot[:,1], alpha = 0.1, c = y_test.ravel());\n",
    "plt.title('Outputs')"
   ]
  },
  {
   "cell_type": "markdown",
   "id": "a74fcf8f",
   "metadata": {
    "papermill": {
     "duration": 0.043064,
     "end_time": "2022-11-12T10:11:25.701429",
     "exception": false,
     "start_time": "2022-11-12T10:11:25.658365",
     "status": "completed"
    },
    "tags": []
   },
   "source": [
    "Probability contours"
   ]
  },
  {
   "cell_type": "code",
   "execution_count": 27,
   "id": "d0afc8e3",
   "metadata": {
    "execution": {
     "iopub.execute_input": "2022-11-12T10:11:25.796512Z",
     "iopub.status.busy": "2022-11-12T10:11:25.791098Z",
     "iopub.status.idle": "2022-11-12T10:11:25.805490Z",
     "shell.execute_reply": "2022-11-12T10:11:25.805932Z"
    },
    "papermill": {
     "duration": 0.061501,
     "end_time": "2022-11-12T10:11:25.806057",
     "exception": false,
     "start_time": "2022-11-12T10:11:25.744556",
     "status": "completed"
    },
    "tags": []
   },
   "outputs": [],
   "source": [
    "model_prob = Model(layers[-2:]) "
   ]
  },
  {
   "cell_type": "code",
   "execution_count": 28,
   "id": "9b96e238",
   "metadata": {
    "execution": {
     "iopub.execute_input": "2022-11-12T10:11:25.905141Z",
     "iopub.status.busy": "2022-11-12T10:11:25.895950Z",
     "iopub.status.idle": "2022-11-12T10:11:25.915034Z",
     "shell.execute_reply": "2022-11-12T10:11:25.914328Z"
    },
    "papermill": {
     "duration": 0.066192,
     "end_time": "2022-11-12T10:11:25.915145",
     "exception": false,
     "start_time": "2022-11-12T10:11:25.848953",
     "status": "completed"
    },
    "tags": []
   },
   "outputs": [],
   "source": [
    "#creating the x and y ranges according to the above generated plot.\n",
    "x_range = np.linspace(-4, 1, 100) \n",
    "y_range = np.linspace(-6, 6, 100) \n",
    "x_grid, y_grid = np.meshgrid(x_range, y_range) # x_grid and y_grig are of size 100 X 100\n",
    "\n",
    "# converting x_grid and y_grid to continuous arrays\n",
    "x_gridflat = np.ravel(x_grid)\n",
    "y_gridflat = np.ravel(y_grid)\n",
    "\n",
    "# The last layer of the current model takes two columns as input. Hence transpose of np.vstack() is required.\n",
    "X = np.vstack((x_gridflat, y_gridflat)).T\n",
    "\n",
    "prob_contour = model_prob(X).reshape(100,100) "
   ]
  },
  {
   "cell_type": "code",
   "execution_count": 29,
   "id": "da72499a",
   "metadata": {
    "execution": {
     "iopub.execute_input": "2022-11-12T10:11:26.063005Z",
     "iopub.status.busy": "2022-11-12T10:11:26.061646Z",
     "iopub.status.idle": "2022-11-12T10:11:26.282708Z",
     "shell.execute_reply": "2022-11-12T10:11:26.282209Z"
    },
    "papermill": {
     "duration": 0.299508,
     "end_time": "2022-11-12T10:11:26.282832",
     "exception": false,
     "start_time": "2022-11-12T10:11:25.983324",
     "status": "completed"
    },
    "tags": []
   },
   "outputs": [
    {
     "data": {
      "image/png": "[encoded data removed]",
      "text/plain": [
       "<Figure size 720x648 with 1 Axes>"
      ]
     },
     "metadata": {
      "needs_background": "light"
     },
     "output_type": "display_data"
    }
   ],
   "source": [
    "plt.figure(figsize=(10,9))\n",
    "plt.scatter(testing_plot[:,0], testing_plot[:,1], alpha = 0.1, c = y_test.ravel())\n",
    "contours = plt.contour(x_grid,y_grid,prob_contour)\n",
    "plt.title('Probability Contours')\n",
    "plt.clabel(contours, inline = True );"
   ]
  },
  {
   "cell_type": "code",
   "execution_count": null,
   "id": "e81b4ac7",
   "metadata": {
    "papermill": {
     "duration": 0.04549,
     "end_time": "2022-11-12T10:11:26.375388",
     "exception": false,
     "start_time": "2022-11-12T10:11:26.329898",
     "status": "completed"
    },
    "tags": []
   },
   "outputs": [],
   "source": []
  }
 ],
 "metadata": {
  "kernelspec": {
   "display_name": "Python 3",
   "language": "python",
   "name": "python3"
  },
  "language_info": {
   "codemirror_mode": {
    "name": "ipython",
    "version": 3
   },
   "file_extension": ".py",
   "mimetype": "text/x-python",
   "name": "python",
   "nbconvert_exporter": "python",
   "pygments_lexer": "ipython3",
   "version": "3.6.15"
  },
  "papermill": {
   "default_parameters": {},
   "duration": 93.631517,
   "end_time": "2022-11-12T10:11:26.839629",
   "environment_variables": {},
   "exception": null,
   "input_path": "2020-08-11-part2.ipynb",
   "output_path": "2020-08-11-part2.ipynb",
   "parameters": {},
   "start_time": "2022-11-12T10:09:53.208112",
   "version": "2.3.3"
  }
 },
 "nbformat": 4,
 "nbformat_minor": 5
}