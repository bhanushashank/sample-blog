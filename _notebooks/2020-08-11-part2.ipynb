{
 "cells": [
  {
   "cell_type": "markdown",
   "id": "98380cd3",
   "metadata": {
    "papermill": {
     "duration": 0.030986,
     "end_time": "2022-03-04T20:10:13.147242",
     "exception": false,
     "start_time": "2022-03-04T20:10:13.116256",
     "status": "completed"
    },
    "tags": []
   },
   "source": [
    "# Distinguish Your Own Digits (DYOD)"
   ]
  },
  {
   "cell_type": "markdown",
   "id": "ef31240d",
   "metadata": {
    "papermill": {
     "duration": 0.027976,
     "end_time": "2022-03-04T20:10:13.201972",
     "exception": false,
     "start_time": "2022-03-04T20:10:13.173996",
     "status": "completed"
    },
    "tags": []
   },
   "source": [
    "You are going to write a classifier that distinguishes between the number 3 and number 8."
   ]
  },
  {
   "cell_type": "code",
   "execution_count": 1,
   "id": "b15c8646",
   "metadata": {
    "execution": {
     "iopub.execute_input": "2022-03-04T20:10:13.268964Z",
     "iopub.status.busy": "2022-03-04T20:10:13.268402Z",
     "iopub.status.idle": "2022-03-04T20:10:13.279733Z",
     "shell.execute_reply": "2022-03-04T20:10:13.279265Z"
    },
    "papermill": {
     "duration": 0.051735,
     "end_time": "2022-03-04T20:10:13.279865",
     "exception": false,
     "start_time": "2022-03-04T20:10:13.228130",
     "status": "completed"
    },
    "tags": []
   },
   "outputs": [],
   "source": [
    "%load_ext autoreload\n",
    "%autoreload 2"
   ]
  },
  {
   "cell_type": "code",
   "execution_count": 2,
   "id": "22ef38dc",
   "metadata": {
    "execution": {
     "iopub.execute_input": "2022-03-04T20:10:13.338844Z",
     "iopub.status.busy": "2022-03-04T20:10:13.338289Z",
     "iopub.status.idle": "2022-03-04T20:10:13.975998Z",
     "shell.execute_reply": "2022-03-04T20:10:13.974905Z"
    },
    "papermill": {
     "duration": 0.671871,
     "end_time": "2022-03-04T20:10:13.976138",
     "exception": false,
     "start_time": "2022-03-04T20:10:13.304267",
     "status": "completed"
    },
    "tags": []
   },
   "outputs": [],
   "source": [
    "%matplotlib inline\n",
    "import numpy as np\n",
    "import matplotlib.pyplot as plt\n",
    "import pandas as pd"
   ]
  },
  {
   "cell_type": "markdown",
   "id": "ba036198",
   "metadata": {
    "papermill": {
     "duration": 0.026566,
     "end_time": "2022-03-04T20:10:14.030450",
     "exception": false,
     "start_time": "2022-03-04T20:10:14.003884",
     "status": "completed"
    },
    "tags": []
   },
   "source": [
    "From the command line run `pip install mnist`. This is a library that will help you bring down the mnist dataset. If you run this from a notebook, you need to put  `!pip install mnist` in a cell by itself."
   ]
  },
  {
   "cell_type": "code",
   "execution_count": 3,
   "id": "bb6ad8a1",
   "metadata": {
    "execution": {
     "iopub.execute_input": "2022-03-04T20:10:14.091223Z",
     "iopub.status.busy": "2022-03-04T20:10:14.090070Z",
     "iopub.status.idle": "2022-03-04T20:10:15.979419Z",
     "shell.execute_reply": "2022-03-04T20:10:15.977350Z"
    },
    "papermill": {
     "duration": 1.922747,
     "end_time": "2022-03-04T20:10:15.979647",
     "exception": false,
     "start_time": "2022-03-04T20:10:14.056900",
     "status": "completed"
    },
    "tags": []
   },
   "outputs": [
    {
     "name": "stdout",
     "output_type": "stream",
     "text": [
      "Collecting mnist\r\n"
     ]
    },
    {
     "name": "stdout",
     "output_type": "stream",
     "text": [
      "  Downloading mnist-0.2.2-py2.py3-none-any.whl (3.5 kB)\r\n",
      "Requirement already satisfied: numpy in /opt/hostedtoolcache/Python/3.6.15/x64/lib/python3.6/site-packages (from mnist) (1.19.5)\r\n"
     ]
    },
    {
     "name": "stdout",
     "output_type": "stream",
     "text": [
      "Installing collected packages: mnist\r\n"
     ]
    },
    {
     "name": "stdout",
     "output_type": "stream",
     "text": [
      "Successfully installed mnist-0.2.2\r\n"
     ]
    }
   ],
   "source": [
    "!pip install mnist"
   ]
  },
  {
   "cell_type": "markdown",
   "id": "69df9c9a",
   "metadata": {
    "papermill": {
     "duration": 0.028089,
     "end_time": "2022-03-04T20:10:16.036089",
     "exception": false,
     "start_time": "2022-03-04T20:10:16.008000",
     "status": "completed"
    },
    "tags": []
   },
   "source": [
    "## Preparing the Data"
   ]
  },
  {
   "cell_type": "code",
   "execution_count": 4,
   "id": "7f69d806",
   "metadata": {
    "execution": {
     "iopub.execute_input": "2022-03-04T20:10:16.100110Z",
     "iopub.status.busy": "2022-03-04T20:10:16.099556Z",
     "iopub.status.idle": "2022-03-04T20:10:16.116352Z",
     "shell.execute_reply": "2022-03-04T20:10:16.115808Z"
    },
    "papermill": {
     "duration": 0.047423,
     "end_time": "2022-03-04T20:10:16.116470",
     "exception": false,
     "start_time": "2022-03-04T20:10:16.069047",
     "status": "completed"
    },
    "tags": []
   },
   "outputs": [],
   "source": [
    "import mnist"
   ]
  },
  {
   "cell_type": "code",
   "execution_count": 5,
   "id": "a411e44f",
   "metadata": {
    "execution": {
     "iopub.execute_input": "2022-03-04T20:10:16.176806Z",
     "iopub.status.busy": "2022-03-04T20:10:16.176259Z",
     "iopub.status.idle": "2022-03-04T20:10:16.746616Z",
     "shell.execute_reply": "2022-03-04T20:10:16.747081Z"
    },
    "papermill": {
     "duration": 0.603804,
     "end_time": "2022-03-04T20:10:16.747246",
     "exception": false,
     "start_time": "2022-03-04T20:10:16.143442",
     "status": "completed"
    },
    "tags": []
   },
   "outputs": [],
   "source": [
    "train_images = mnist.train_images()\n",
    "train_labels = mnist.train_labels()"
   ]
  },
  {
   "cell_type": "code",
   "execution_count": 6,
   "id": "dceab3a5",
   "metadata": {
    "execution": {
     "iopub.execute_input": "2022-03-04T20:10:16.806712Z",
     "iopub.status.busy": "2022-03-04T20:10:16.806165Z",
     "iopub.status.idle": "2022-03-04T20:10:16.821229Z",
     "shell.execute_reply": "2022-03-04T20:10:16.820772Z"
    },
    "papermill": {
     "duration": 0.046237,
     "end_time": "2022-03-04T20:10:16.821345",
     "exception": false,
     "start_time": "2022-03-04T20:10:16.775108",
     "status": "completed"
    },
    "tags": []
   },
   "outputs": [
    {
     "data": {
      "text/plain": [
       "((60000, 28, 28), (60000,))"
      ]
     },
     "execution_count": 6,
     "metadata": {},
     "output_type": "execute_result"
    }
   ],
   "source": [
    "train_images.shape, train_labels.shape"
   ]
  },
  {
   "cell_type": "code",
   "execution_count": 7,
   "id": "f50dc2bb",
   "metadata": {
    "execution": {
     "iopub.execute_input": "2022-03-04T20:10:16.882842Z",
     "iopub.status.busy": "2022-03-04T20:10:16.879868Z",
     "iopub.status.idle": "2022-03-04T20:10:17.040872Z",
     "shell.execute_reply": "2022-03-04T20:10:17.040187Z"
    },
    "papermill": {
     "duration": 0.191854,
     "end_time": "2022-03-04T20:10:17.041031",
     "exception": false,
     "start_time": "2022-03-04T20:10:16.849177",
     "status": "completed"
    },
    "tags": []
   },
   "outputs": [],
   "source": [
    "test_images = mnist.test_images()\n",
    "test_labels = mnist.test_labels()"
   ]
  },
  {
   "cell_type": "code",
   "execution_count": 8,
   "id": "fc38cf1b",
   "metadata": {
    "execution": {
     "iopub.execute_input": "2022-03-04T20:10:17.102731Z",
     "iopub.status.busy": "2022-03-04T20:10:17.102132Z",
     "iopub.status.idle": "2022-03-04T20:10:17.116770Z",
     "shell.execute_reply": "2022-03-04T20:10:17.116271Z"
    },
    "papermill": {
     "duration": 0.046397,
     "end_time": "2022-03-04T20:10:17.116901",
     "exception": false,
     "start_time": "2022-03-04T20:10:17.070504",
     "status": "completed"
    },
    "tags": []
   },
   "outputs": [
    {
     "data": {
      "text/plain": [
       "((10000, 28, 28), (10000,))"
      ]
     },
     "execution_count": 8,
     "metadata": {},
     "output_type": "execute_result"
    }
   ],
   "source": [
    "test_images.shape, test_labels.shape"
   ]
  },
  {
   "cell_type": "code",
   "execution_count": 9,
   "id": "f9ed8fe0",
   "metadata": {
    "execution": {
     "iopub.execute_input": "2022-03-04T20:10:17.178260Z",
     "iopub.status.busy": "2022-03-04T20:10:17.177698Z",
     "iopub.status.idle": "2022-03-04T20:10:17.343710Z",
     "shell.execute_reply": "2022-03-04T20:10:17.343196Z"
    },
    "papermill": {
     "duration": 0.199454,
     "end_time": "2022-03-04T20:10:17.343849",
     "exception": false,
     "start_time": "2022-03-04T20:10:17.144395",
     "status": "completed"
    },
    "tags": []
   },
   "outputs": [
    {
     "name": "stdout",
     "output_type": "stream",
     "text": [
      "2\n"
     ]
    },
    {
     "data": {
      "text/plain": [
       "<matplotlib.image.AxesImage at 0x7fbce3a0c5c0>"
      ]
     },
     "execution_count": 9,
     "metadata": {},
     "output_type": "execute_result"
    },
    {
     "data": {
      "image/png": "[encoded data removed]",
      "text/plain": [
       "<Figure size 432x288 with 1 Axes>"
      ]
     },
     "metadata": {
      "needs_background": "light"
     },
     "output_type": "display_data"
    }
   ],
   "source": [
    "image_index = 7776 # You may select anything up to 60,000\n",
    "print(train_labels[image_index]) \n",
    "plt.imshow(train_images[image_index], cmap='Greys')"
   ]
  },
  {
   "cell_type": "markdown",
   "id": "a8d2388d",
   "metadata": {
    "papermill": {
     "duration": 0.029779,
     "end_time": "2022-03-04T20:10:17.403570",
     "exception": false,
     "start_time": "2022-03-04T20:10:17.373791",
     "status": "completed"
    },
    "tags": []
   },
   "source": [
    "## Filter data to get 3 and 8 out"
   ]
  },
  {
   "cell_type": "code",
   "execution_count": 10,
   "id": "776f7fc7",
   "metadata": {
    "execution": {
     "iopub.execute_input": "2022-03-04T20:10:17.468733Z",
     "iopub.status.busy": "2022-03-04T20:10:17.467584Z",
     "iopub.status.idle": "2022-03-04T20:10:17.490026Z",
     "shell.execute_reply": "2022-03-04T20:10:17.489516Z"
    },
    "papermill": {
     "duration": 0.056343,
     "end_time": "2022-03-04T20:10:17.490147",
     "exception": false,
     "start_time": "2022-03-04T20:10:17.433804",
     "status": "completed"
    },
    "tags": []
   },
   "outputs": [],
   "source": [
    "train_filter = np.where((train_labels == 3 ) | (train_labels == 8))\n",
    "test_filter = np.where((test_labels == 3) | (test_labels == 8))\n",
    "X_train, y_train = train_images[train_filter], train_labels[train_filter]\n",
    "X_test, y_test = test_images[test_filter], test_labels[test_filter]"
   ]
  },
  {
   "cell_type": "markdown",
   "id": "948f0b7e",
   "metadata": {
    "papermill": {
     "duration": 0.035698,
     "end_time": "2022-03-04T20:10:17.562758",
     "exception": false,
     "start_time": "2022-03-04T20:10:17.527060",
     "status": "completed"
    },
    "tags": []
   },
   "source": [
    "We normalize the pizel values in the 0 to 1 range"
   ]
  },
  {
   "cell_type": "code",
   "execution_count": 11,
   "id": "ee4c2166",
   "metadata": {
    "execution": {
     "iopub.execute_input": "2022-03-04T20:10:17.628693Z",
     "iopub.status.busy": "2022-03-04T20:10:17.625174Z",
     "iopub.status.idle": "2022-03-04T20:10:17.681304Z",
     "shell.execute_reply": "2022-03-04T20:10:17.680733Z"
    },
    "papermill": {
     "duration": 0.090175,
     "end_time": "2022-03-04T20:10:17.681439",
     "exception": false,
     "start_time": "2022-03-04T20:10:17.591264",
     "status": "completed"
    },
    "tags": []
   },
   "outputs": [],
   "source": [
    "X_train = X_train/255.\n",
    "X_test = X_test/255."
   ]
  },
  {
   "cell_type": "markdown",
   "id": "ddcf4fab",
   "metadata": {
    "papermill": {
     "duration": 0.029005,
     "end_time": "2022-03-04T20:10:17.738878",
     "exception": false,
     "start_time": "2022-03-04T20:10:17.709873",
     "status": "completed"
    },
    "tags": []
   },
   "source": [
    "And setup the labels as 1 (when the digit is 3) and 0 (when the digit is 8)"
   ]
  },
  {
   "cell_type": "code",
   "execution_count": 12,
   "id": "7dc908f2",
   "metadata": {
    "execution": {
     "iopub.execute_input": "2022-03-04T20:10:17.807161Z",
     "iopub.status.busy": "2022-03-04T20:10:17.802471Z",
     "iopub.status.idle": "2022-03-04T20:10:17.816289Z",
     "shell.execute_reply": "2022-03-04T20:10:17.815821Z"
    },
    "papermill": {
     "duration": 0.048009,
     "end_time": "2022-03-04T20:10:17.816412",
     "exception": false,
     "start_time": "2022-03-04T20:10:17.768403",
     "status": "completed"
    },
    "tags": []
   },
   "outputs": [],
   "source": [
    "y_train = 1*(y_train==3)\n",
    "y_test = 1*(y_test==3)"
   ]
  },
  {
   "cell_type": "code",
   "execution_count": 13,
   "id": "01e4e969",
   "metadata": {
    "execution": {
     "iopub.execute_input": "2022-03-04T20:10:17.879518Z",
     "iopub.status.busy": "2022-03-04T20:10:17.878925Z",
     "iopub.status.idle": "2022-03-04T20:10:17.894916Z",
     "shell.execute_reply": "2022-03-04T20:10:17.895322Z"
    },
    "papermill": {
     "duration": 0.049414,
     "end_time": "2022-03-04T20:10:17.895438",
     "exception": false,
     "start_time": "2022-03-04T20:10:17.846024",
     "status": "completed"
    },
    "tags": []
   },
   "outputs": [
    {
     "data": {
      "text/plain": [
       "((11982, 28, 28), (1984, 28, 28))"
      ]
     },
     "execution_count": 13,
     "metadata": {},
     "output_type": "execute_result"
    }
   ],
   "source": [
    "X_train.shape, X_test.shape"
   ]
  },
  {
   "cell_type": "markdown",
   "id": "5ccf3f85",
   "metadata": {
    "papermill": {
     "duration": 0.027343,
     "end_time": "2022-03-04T20:10:17.950463",
     "exception": false,
     "start_time": "2022-03-04T20:10:17.923120",
     "status": "completed"
    },
    "tags": []
   },
   "source": [
    "We reshape the data to flatten the image pixels into a set of features or co-variates:"
   ]
  },
  {
   "cell_type": "code",
   "execution_count": 14,
   "id": "5286a4a3",
   "metadata": {
    "execution": {
     "iopub.execute_input": "2022-03-04T20:10:18.011849Z",
     "iopub.status.busy": "2022-03-04T20:10:18.011287Z",
     "iopub.status.idle": "2022-03-04T20:10:18.026408Z",
     "shell.execute_reply": "2022-03-04T20:10:18.025963Z"
    },
    "papermill": {
     "duration": 0.048015,
     "end_time": "2022-03-04T20:10:18.026523",
     "exception": false,
     "start_time": "2022-03-04T20:10:17.978508",
     "status": "completed"
    },
    "tags": []
   },
   "outputs": [
    {
     "data": {
      "text/plain": [
       "((11982, 784), (1984, 784))"
      ]
     },
     "execution_count": 14,
     "metadata": {},
     "output_type": "execute_result"
    }
   ],
   "source": [
    "X_train = X_train.reshape(X_train.shape[0], -1)\n",
    "X_test = X_test.reshape(X_test.shape[0], -1)\n",
    "X_train.shape, X_test.shape"
   ]
  },
  {
   "cell_type": "code",
   "execution_count": 15,
   "id": "73c5f88a",
   "metadata": {
    "execution": {
     "iopub.execute_input": "2022-03-04T20:10:18.087323Z",
     "iopub.status.busy": "2022-03-04T20:10:18.086780Z",
     "iopub.status.idle": "2022-03-04T20:10:18.109462Z",
     "shell.execute_reply": "2022-03-04T20:10:18.108809Z"
    },
    "papermill": {
     "duration": 0.055424,
     "end_time": "2022-03-04T20:10:18.109652",
     "exception": false,
     "start_time": "2022-03-04T20:10:18.054228",
     "status": "completed"
    },
    "tags": []
   },
   "outputs": [],
   "source": [
    "#Impoting functions from 'Kudzu'\n",
    "from kudzu.model import Model\n",
    "from kudzu.train import Learner\n",
    "from kudzu.optim import GD\n",
    "from kudzu.data import Data, Sampler,Dataloader\n",
    "\n",
    "from kudzu.callbacks import AccCallback\n",
    "from kudzu.callbacks import ClfCallback\n",
    "\n",
    "from kudzu.loss import MSE\n",
    "\n",
    "from kudzu.layer import Sigmoid,Relu\n",
    "from kudzu.layer import Affine"
   ]
  },
  {
   "cell_type": "markdown",
   "id": "bc01172a",
   "metadata": {
    "papermill": {
     "duration": 0.029633,
     "end_time": "2022-03-04T20:10:18.171149",
     "exception": false,
     "start_time": "2022-03-04T20:10:18.141516",
     "status": "completed"
    },
    "tags": []
   },
   "source": [
    "### Let us create a `Config` class, to store important parameters. \n",
    "This class essentially plays the role of a dictionary."
   ]
  },
  {
   "cell_type": "code",
   "execution_count": 16,
   "id": "978281aa",
   "metadata": {
    "execution": {
     "iopub.execute_input": "2022-03-04T20:10:18.235631Z",
     "iopub.status.busy": "2022-03-04T20:10:18.235050Z",
     "iopub.status.idle": "2022-03-04T20:10:18.251363Z",
     "shell.execute_reply": "2022-03-04T20:10:18.250365Z"
    },
    "papermill": {
     "duration": 0.050722,
     "end_time": "2022-03-04T20:10:18.251562",
     "exception": false,
     "start_time": "2022-03-04T20:10:18.200840",
     "status": "completed"
    },
    "tags": []
   },
   "outputs": [],
   "source": [
    "class Config:\n",
    "    pass\n",
    "config = Config()\n",
    "config.lr = 0.001\n",
    "config.num_epochs = 250\n",
    "config.bs = 50"
   ]
  },
  {
   "cell_type": "markdown",
   "id": "1385fa59",
   "metadata": {
    "papermill": {
     "duration": 0.027907,
     "end_time": "2022-03-04T20:10:18.310780",
     "exception": false,
     "start_time": "2022-03-04T20:10:18.282873",
     "status": "completed"
    },
    "tags": []
   },
   "source": [
    "### Running Models with the Training data\n",
    "Details about the network layers:\n",
    "- A first affine layer has 784 inputs and does 100 affine transforms. These are followed by a Relu\n",
    "- A second affine layer has 100 inputs from the 100 activations of the past layer, and does 100 affine transforms. These are followed by a Relu\n",
    "- A third affine layer has 100 activations and does 2 affine transformations to create an embedding for visualization. There is no non-linearity here.\n",
    "- A final \"logistic regression\" which has an affine transform from 2 inputs to 1 output, which is squeezed through a sigmoid.\n"
   ]
  },
  {
   "cell_type": "code",
   "execution_count": 17,
   "id": "2b9c66db",
   "metadata": {
    "execution": {
     "iopub.execute_input": "2022-03-04T20:10:18.372015Z",
     "iopub.status.busy": "2022-03-04T20:10:18.371438Z",
     "iopub.status.idle": "2022-03-04T20:10:18.385262Z",
     "shell.execute_reply": "2022-03-04T20:10:18.384781Z"
    },
    "papermill": {
     "duration": 0.047014,
     "end_time": "2022-03-04T20:10:18.385387",
     "exception": false,
     "start_time": "2022-03-04T20:10:18.338373",
     "status": "completed"
    },
    "tags": []
   },
   "outputs": [],
   "source": [
    "data = Data(X_train, y_train.reshape(-1,1))\n",
    "sampler = Sampler(data, config.bs, shuffle=True)\n",
    "\n",
    "dl = Dataloader(data, sampler)\n",
    "\n",
    "opt = GD(config.lr)\n",
    "loss = MSE()"
   ]
  },
  {
   "cell_type": "code",
   "execution_count": 18,
   "id": "b275e4c2",
   "metadata": {
    "execution": {
     "iopub.execute_input": "2022-03-04T20:10:18.450099Z",
     "iopub.status.busy": "2022-03-04T20:10:18.449447Z",
     "iopub.status.idle": "2022-03-04T20:10:18.465800Z",
     "shell.execute_reply": "2022-03-04T20:10:18.466288Z"
    },
    "papermill": {
     "duration": 0.052461,
     "end_time": "2022-03-04T20:10:18.466440",
     "exception": false,
     "start_time": "2022-03-04T20:10:18.413979",
     "status": "completed"
    },
    "tags": []
   },
   "outputs": [],
   "source": [
    "training_data_x = X_train\n",
    "testing_data_x = X_test\n",
    "training_data_y = y_train.reshape(-1,1)\n",
    "testing_data_y = y_test.reshape(-1,1)"
   ]
  },
  {
   "cell_type": "code",
   "execution_count": 19,
   "id": "76951160",
   "metadata": {
    "execution": {
     "iopub.execute_input": "2022-03-04T20:10:18.530411Z",
     "iopub.status.busy": "2022-03-04T20:10:18.529797Z",
     "iopub.status.idle": "2022-03-04T20:10:18.548092Z",
     "shell.execute_reply": "2022-03-04T20:10:18.547625Z"
    },
    "papermill": {
     "duration": 0.052244,
     "end_time": "2022-03-04T20:10:18.548207",
     "exception": false,
     "start_time": "2022-03-04T20:10:18.495963",
     "status": "completed"
    },
    "tags": []
   },
   "outputs": [
    {
     "name": "stdout",
     "output_type": "stream",
     "text": [
      "xavier\n",
      "xavier\n",
      "xavier\n",
      "xavier\n",
      "xavier\n"
     ]
    }
   ],
   "source": [
    "layers = [Affine(\"first\", 784, 100), Relu(\"first\"), Affine(\"second\", 100, 100), Relu(\"second\"), Affine(\"third\", 100, 2), Affine(\"last\", 2, 1), Sigmoid(\"last\")]\n",
    "model_nn = Model(layers)\n",
    "model_lr = Model([Affine(\"logits\", 784, 1), Sigmoid(\"sigmoid\")])"
   ]
  },
  {
   "cell_type": "code",
   "execution_count": 20,
   "id": "6eede77a",
   "metadata": {
    "execution": {
     "iopub.execute_input": "2022-03-04T20:10:18.613153Z",
     "iopub.status.busy": "2022-03-04T20:10:18.612603Z",
     "iopub.status.idle": "2022-03-04T20:10:18.626172Z",
     "shell.execute_reply": "2022-03-04T20:10:18.625702Z"
    },
    "papermill": {
     "duration": 0.047844,
     "end_time": "2022-03-04T20:10:18.626285",
     "exception": false,
     "start_time": "2022-03-04T20:10:18.578441",
     "status": "completed"
    },
    "tags": []
   },
   "outputs": [],
   "source": [
    "nn_learner = Learner(loss, model_nn, opt, config.num_epochs)\n",
    "acc_nn = ClfCallback(nn_learner, config.bs, training_data_x , testing_data_x, training_data_y, testing_data_y)\n",
    "nn_learner.set_callbacks([acc_nn])"
   ]
  },
  {
   "cell_type": "code",
   "execution_count": 21,
   "id": "877b6cc7",
   "metadata": {
    "execution": {
     "iopub.execute_input": "2022-03-04T20:10:18.690916Z",
     "iopub.status.busy": "2022-03-04T20:10:18.690334Z",
     "iopub.status.idle": "2022-03-04T20:10:18.705369Z",
     "shell.execute_reply": "2022-03-04T20:10:18.704859Z"
    },
    "papermill": {
     "duration": 0.049568,
     "end_time": "2022-03-04T20:10:18.705493",
     "exception": false,
     "start_time": "2022-03-04T20:10:18.655925",
     "status": "completed"
    },
    "tags": []
   },
   "outputs": [],
   "source": [
    "lr_learner = Learner(loss, model_lr, opt, config.num_epochs)\n",
    "acc_lr = ClfCallback(lr_learner, config.bs, training_data_x , testing_data_x, training_data_y, testing_data_y)\n",
    "lr_learner.set_callbacks([acc_lr])"
   ]
  },
  {
   "cell_type": "code",
   "execution_count": 22,
   "id": "d9b133c3",
   "metadata": {
    "execution": {
     "iopub.execute_input": "2022-03-04T20:10:18.771331Z",
     "iopub.status.busy": "2022-03-04T20:10:18.770752Z",
     "iopub.status.idle": "2022-03-04T20:11:42.854436Z",
     "shell.execute_reply": "2022-03-04T20:11:42.855267Z"
    },
    "papermill": {
     "duration": 84.119545,
     "end_time": "2022-03-04T20:11:42.855430",
     "exception": false,
     "start_time": "2022-03-04T20:10:18.735885",
     "status": "completed"
    },
    "tags": []
   },
   "outputs": [
    {
     "name": "stdout",
     "output_type": "stream",
     "text": [
      "Epoch 0, Loss 0.2479\n",
      "Training Accuracy: 0.5580, Testing Accuracy: 0.5771\n",
      "\n"
     ]
    },
    {
     "name": "stdout",
     "output_type": "stream",
     "text": [
      "Epoch 10, Loss 0.2308\n",
      "Training Accuracy: 0.8236, Testing Accuracy: 0.8443\n",
      "\n"
     ]
    },
    {
     "name": "stdout",
     "output_type": "stream",
     "text": [
      "Epoch 20, Loss 0.163\n",
      "Training Accuracy: 0.8719, Testing Accuracy: 0.8821\n",
      "\n"
     ]
    },
    {
     "name": "stdout",
     "output_type": "stream",
     "text": [
      "Epoch 30, Loss 0.089\n",
      "Training Accuracy: 0.9095, Testing Accuracy: 0.9163\n",
      "\n"
     ]
    },
    {
     "name": "stdout",
     "output_type": "stream",
     "text": [
      "Epoch 40, Loss 0.0606\n",
      "Training Accuracy: 0.9345, Testing Accuracy: 0.9461\n",
      "\n"
     ]
    },
    {
     "name": "stdout",
     "output_type": "stream",
     "text": [
      "Epoch 50, Loss 0.0477\n",
      "Training Accuracy: 0.9471, Testing Accuracy: 0.9577\n",
      "\n"
     ]
    },
    {
     "name": "stdout",
     "output_type": "stream",
     "text": [
      "Epoch 60, Loss 0.0408\n",
      "Training Accuracy: 0.9548, Testing Accuracy: 0.9642\n",
      "\n"
     ]
    },
    {
     "name": "stdout",
     "output_type": "stream",
     "text": [
      "Epoch 70, Loss 0.0366\n",
      "Training Accuracy: 0.9591, Testing Accuracy: 0.9662\n",
      "\n"
     ]
    },
    {
     "name": "stdout",
     "output_type": "stream",
     "text": [
      "Epoch 80, Loss 0.0338\n",
      "Training Accuracy: 0.9622, Testing Accuracy: 0.9677\n",
      "\n"
     ]
    },
    {
     "name": "stdout",
     "output_type": "stream",
     "text": [
      "Epoch 90, Loss 0.0317\n",
      "Training Accuracy: 0.9643, Testing Accuracy: 0.9698\n",
      "\n"
     ]
    },
    {
     "name": "stdout",
     "output_type": "stream",
     "text": [
      "Epoch 100, Loss 0.0301\n",
      "Training Accuracy: 0.9648, Testing Accuracy: 0.9708\n",
      "\n"
     ]
    },
    {
     "name": "stdout",
     "output_type": "stream",
     "text": [
      "Epoch 110, Loss 0.0288\n",
      "Training Accuracy: 0.9662, Testing Accuracy: 0.9698\n",
      "\n"
     ]
    },
    {
     "name": "stdout",
     "output_type": "stream",
     "text": [
      "Epoch 120, Loss 0.0277\n",
      "Training Accuracy: 0.9678, Testing Accuracy: 0.9708\n",
      "\n"
     ]
    },
    {
     "name": "stdout",
     "output_type": "stream",
     "text": [
      "Epoch 130, Loss 0.0268\n",
      "Training Accuracy: 0.9685, Testing Accuracy: 0.9723\n",
      "\n"
     ]
    },
    {
     "name": "stdout",
     "output_type": "stream",
     "text": [
      "Epoch 140, Loss 0.0259\n",
      "Training Accuracy: 0.9701, Testing Accuracy: 0.9718\n",
      "\n"
     ]
    },
    {
     "name": "stdout",
     "output_type": "stream",
     "text": [
      "Epoch 150, Loss 0.0252\n",
      "Training Accuracy: 0.9708, Testing Accuracy: 0.9728\n",
      "\n"
     ]
    },
    {
     "name": "stdout",
     "output_type": "stream",
     "text": [
      "Epoch 160, Loss 0.0245\n",
      "Training Accuracy: 0.9714, Testing Accuracy: 0.9738\n",
      "\n"
     ]
    },
    {
     "name": "stdout",
     "output_type": "stream",
     "text": [
      "Epoch 170, Loss 0.0239\n",
      "Training Accuracy: 0.9722, Testing Accuracy: 0.9733\n",
      "\n"
     ]
    },
    {
     "name": "stdout",
     "output_type": "stream",
     "text": [
      "Epoch 180, Loss 0.0233\n",
      "Training Accuracy: 0.9730, Testing Accuracy: 0.9728\n",
      "\n"
     ]
    },
    {
     "name": "stdout",
     "output_type": "stream",
     "text": [
      "Epoch 190, Loss 0.0228\n",
      "Training Accuracy: 0.9737, Testing Accuracy: 0.9723\n",
      "\n"
     ]
    },
    {
     "name": "stdout",
     "output_type": "stream",
     "text": [
      "Epoch 200, Loss 0.0223\n",
      "Training Accuracy: 0.9747, Testing Accuracy: 0.9723\n",
      "\n"
     ]
    },
    {
     "name": "stdout",
     "output_type": "stream",
     "text": [
      "Epoch 210, Loss 0.0218\n",
      "Training Accuracy: 0.9754, Testing Accuracy: 0.9728\n",
      "\n"
     ]
    },
    {
     "name": "stdout",
     "output_type": "stream",
     "text": [
      "Epoch 220, Loss 0.0213\n",
      "Training Accuracy: 0.9762, Testing Accuracy: 0.9728\n",
      "\n"
     ]
    },
    {
     "name": "stdout",
     "output_type": "stream",
     "text": [
      "Epoch 230, Loss 0.0209\n",
      "Training Accuracy: 0.9770, Testing Accuracy: 0.9733\n",
      "\n"
     ]
    },
    {
     "name": "stdout",
     "output_type": "stream",
     "text": [
      "Epoch 240, Loss 0.0205\n",
      "Training Accuracy: 0.9776, Testing Accuracy: 0.9738\n",
      "\n"
     ]
    },
    {
     "data": {
      "text/plain": [
       "0.002259625999896775"
      ]
     },
     "execution_count": 22,
     "metadata": {},
     "output_type": "execute_result"
    }
   ],
   "source": [
    "nn_learner.train_loop(dl)"
   ]
  },
  {
   "cell_type": "code",
   "execution_count": 23,
   "id": "e0163366",
   "metadata": {
    "execution": {
     "iopub.execute_input": "2022-03-04T20:11:42.943059Z",
     "iopub.status.busy": "2022-03-04T20:11:42.942499Z",
     "iopub.status.idle": "2022-03-04T20:11:58.065455Z",
     "shell.execute_reply": "2022-03-04T20:11:58.066313Z"
    },
    "papermill": {
     "duration": 15.170662,
     "end_time": "2022-03-04T20:11:58.066474",
     "exception": false,
     "start_time": "2022-03-04T20:11:42.895812",
     "status": "completed"
    },
    "tags": []
   },
   "outputs": [
    {
     "name": "stdout",
     "output_type": "stream",
     "text": [
      "Epoch 0, Loss 0.2651\n",
      "Training Accuracy: 0.5873, Testing Accuracy: 0.5751\n",
      "\n"
     ]
    },
    {
     "name": "stdout",
     "output_type": "stream",
     "text": [
      "Epoch 10, Loss 0.1062\n",
      "Training Accuracy: 0.9064, Testing Accuracy: 0.9199\n",
      "\n"
     ]
    },
    {
     "name": "stdout",
     "output_type": "stream",
     "text": [
      "Epoch 20, Loss 0.0809\n",
      "Training Accuracy: 0.9253, Testing Accuracy: 0.9355\n",
      "\n"
     ]
    },
    {
     "name": "stdout",
     "output_type": "stream",
     "text": [
      "Epoch 30, Loss 0.0695\n",
      "Training Accuracy: 0.9347, Testing Accuracy: 0.9471\n",
      "\n"
     ]
    },
    {
     "name": "stdout",
     "output_type": "stream",
     "text": [
      "Epoch 40, Loss 0.0627\n",
      "Training Accuracy: 0.9407, Testing Accuracy: 0.9511\n",
      "\n"
     ]
    },
    {
     "name": "stdout",
     "output_type": "stream",
     "text": [
      "Epoch 50, Loss 0.058\n",
      "Training Accuracy: 0.9439, Testing Accuracy: 0.9526\n",
      "\n"
     ]
    },
    {
     "name": "stdout",
     "output_type": "stream",
     "text": [
      "Epoch 60, Loss 0.0547\n",
      "Training Accuracy: 0.9463, Testing Accuracy: 0.9551\n",
      "\n"
     ]
    },
    {
     "name": "stdout",
     "output_type": "stream",
     "text": [
      "Epoch 70, Loss 0.052\n",
      "Training Accuracy: 0.9488, Testing Accuracy: 0.9567\n",
      "\n"
     ]
    },
    {
     "name": "stdout",
     "output_type": "stream",
     "text": [
      "Epoch 80, Loss 0.05\n",
      "Training Accuracy: 0.9490, Testing Accuracy: 0.9572\n",
      "\n"
     ]
    },
    {
     "name": "stdout",
     "output_type": "stream",
     "text": [
      "Epoch 90, Loss 0.0482\n",
      "Training Accuracy: 0.9505, Testing Accuracy: 0.9597\n",
      "\n"
     ]
    },
    {
     "name": "stdout",
     "output_type": "stream",
     "text": [
      "Epoch 100, Loss 0.0468\n",
      "Training Accuracy: 0.9517, Testing Accuracy: 0.9612\n",
      "\n"
     ]
    },
    {
     "name": "stdout",
     "output_type": "stream",
     "text": [
      "Epoch 110, Loss 0.0455\n",
      "Training Accuracy: 0.9524, Testing Accuracy: 0.9617\n",
      "\n"
     ]
    },
    {
     "name": "stdout",
     "output_type": "stream",
     "text": [
      "Epoch 120, Loss 0.0444\n",
      "Training Accuracy: 0.9538, Testing Accuracy: 0.9617\n",
      "\n"
     ]
    },
    {
     "name": "stdout",
     "output_type": "stream",
     "text": [
      "Epoch 130, Loss 0.0435\n",
      "Training Accuracy: 0.9548, Testing Accuracy: 0.9632\n",
      "\n"
     ]
    },
    {
     "name": "stdout",
     "output_type": "stream",
     "text": [
      "Epoch 140, Loss 0.0426\n",
      "Training Accuracy: 0.9555, Testing Accuracy: 0.9627\n",
      "\n"
     ]
    },
    {
     "name": "stdout",
     "output_type": "stream",
     "text": [
      "Epoch 150, Loss 0.0419\n",
      "Training Accuracy: 0.9562, Testing Accuracy: 0.9632\n",
      "\n"
     ]
    },
    {
     "name": "stdout",
     "output_type": "stream",
     "text": [
      "Epoch 160, Loss 0.0412\n",
      "Training Accuracy: 0.9567, Testing Accuracy: 0.9647\n",
      "\n"
     ]
    },
    {
     "name": "stdout",
     "output_type": "stream",
     "text": [
      "Epoch 170, Loss 0.0406\n",
      "Training Accuracy: 0.9574, Testing Accuracy: 0.9647\n",
      "\n"
     ]
    },
    {
     "name": "stdout",
     "output_type": "stream",
     "text": [
      "Epoch 180, Loss 0.04\n",
      "Training Accuracy: 0.9576, Testing Accuracy: 0.9647\n",
      "\n"
     ]
    },
    {
     "name": "stdout",
     "output_type": "stream",
     "text": [
      "Epoch 190, Loss 0.0395\n",
      "Training Accuracy: 0.9584, Testing Accuracy: 0.9647\n",
      "\n"
     ]
    },
    {
     "name": "stdout",
     "output_type": "stream",
     "text": [
      "Epoch 200, Loss 0.039\n",
      "Training Accuracy: 0.9587, Testing Accuracy: 0.9652\n",
      "\n"
     ]
    },
    {
     "name": "stdout",
     "output_type": "stream",
     "text": [
      "Epoch 210, Loss 0.0385\n",
      "Training Accuracy: 0.9594, Testing Accuracy: 0.9652\n",
      "\n"
     ]
    },
    {
     "name": "stdout",
     "output_type": "stream",
     "text": [
      "Epoch 220, Loss 0.0381\n",
      "Training Accuracy: 0.9598, Testing Accuracy: 0.9652\n",
      "\n"
     ]
    },
    {
     "name": "stdout",
     "output_type": "stream",
     "text": [
      "Epoch 230, Loss 0.0377\n",
      "Training Accuracy: 0.9600, Testing Accuracy: 0.9647\n",
      "\n"
     ]
    },
    {
     "name": "stdout",
     "output_type": "stream",
     "text": [
      "Epoch 240, Loss 0.0373\n",
      "Training Accuracy: 0.9603, Testing Accuracy: 0.9647\n",
      "\n"
     ]
    },
    {
     "data": {
      "text/plain": [
       "0.056195547575774565"
      ]
     },
     "execution_count": 23,
     "metadata": {},
     "output_type": "execute_result"
    }
   ],
   "source": [
    "lr_learner.train_loop(dl)"
   ]
  },
  {
   "cell_type": "code",
   "execution_count": 24,
   "id": "ca410940",
   "metadata": {
    "execution": {
     "iopub.execute_input": "2022-03-04T20:11:58.167579Z",
     "iopub.status.busy": "2022-03-04T20:11:58.166973Z",
     "iopub.status.idle": "2022-03-04T20:11:58.410963Z",
     "shell.execute_reply": "2022-03-04T20:11:58.410248Z"
    },
    "papermill": {
     "duration": 0.299196,
     "end_time": "2022-03-04T20:11:58.411095",
     "exception": false,
     "start_time": "2022-03-04T20:11:58.111899",
     "status": "completed"
    },
    "tags": []
   },
   "outputs": [
    {
     "data": {
      "text/plain": [
       "<matplotlib.legend.Legend at 0x7fbce35e7d30>"
      ]
     },
     "execution_count": 24,
     "metadata": {},
     "output_type": "execute_result"
    },
    {
     "data": {
      "image/png": "[encoded data removed]",
      "text/plain": [
       "<Figure size 1080x720 with 1 Axes>"
      ]
     },
     "metadata": {
      "needs_background": "light"
     },
     "output_type": "display_data"
    }
   ],
   "source": [
    "#comparing the results of NN and LR\n",
    "plt.figure(figsize=(15,10))\n",
    "\n",
    "# Neural Network plots\n",
    "plt.plot(acc_nn.accuracies, 'r-', label = \"Training Accuracies - NN\")\n",
    "plt.plot(acc_nn.test_accuracies, 'g-', label = \"Testing Accuracies - NN\")\n",
    "\n",
    "# Logistic Regression plots\n",
    "plt.plot(acc_lr.accuracies, 'k-', label = \"Training Accuracies - LR\")\n",
    "plt.plot(acc_lr.test_accuracies, 'b-', label = \"Testing Accuracies - LR\")\n",
    "plt.legend()"
   ]
  },
  {
   "cell_type": "markdown",
   "id": "80dfb35c",
   "metadata": {
    "papermill": {
     "duration": 0.046426,
     "end_time": "2022-03-04T20:11:58.504068",
     "exception": false,
     "start_time": "2022-03-04T20:11:58.457642",
     "status": "completed"
    },
    "tags": []
   },
   "source": [
    "#### Plotting the outputs of this layer of the NN.\n"
   ]
  },
  {
   "cell_type": "code",
   "execution_count": 25,
   "id": "45eb2ff5",
   "metadata": {
    "execution": {
     "iopub.execute_input": "2022-03-04T20:11:58.602850Z",
     "iopub.status.busy": "2022-03-04T20:11:58.602260Z",
     "iopub.status.idle": "2022-03-04T20:11:58.623253Z",
     "shell.execute_reply": "2022-03-04T20:11:58.623700Z"
    },
    "papermill": {
     "duration": 0.072848,
     "end_time": "2022-03-04T20:11:58.623842",
     "exception": false,
     "start_time": "2022-03-04T20:11:58.550994",
     "status": "completed"
    },
    "tags": []
   },
   "outputs": [],
   "source": [
    "new_model = Model(layers[:-2])\n",
    "testing_plot = new_model(testing_data_x)"
   ]
  },
  {
   "cell_type": "code",
   "execution_count": 26,
   "id": "4c0a5485",
   "metadata": {
    "execution": {
     "iopub.execute_input": "2022-03-04T20:11:58.730937Z",
     "iopub.status.busy": "2022-03-04T20:11:58.730318Z",
     "iopub.status.idle": "2022-03-04T20:11:58.941325Z",
     "shell.execute_reply": "2022-03-04T20:11:58.940807Z"
    },
    "papermill": {
     "duration": 0.269563,
     "end_time": "2022-03-04T20:11:58.941456",
     "exception": false,
     "start_time": "2022-03-04T20:11:58.671893",
     "status": "completed"
    },
    "tags": []
   },
   "outputs": [
    {
     "data": {
      "text/plain": [
       "Text(0.5, 1.0, 'Outputs')"
      ]
     },
     "execution_count": 26,
     "metadata": {},
     "output_type": "execute_result"
    },
    {
     "data": {
      "image/png": "[encoded data removed]",
      "text/plain": [
       "<Figure size 576x504 with 1 Axes>"
      ]
     },
     "metadata": {
      "needs_background": "light"
     },
     "output_type": "display_data"
    }
   ],
   "source": [
    "# Plotting the scatter plot of points and color coding by class\n",
    "plt.figure(figsize=(8,7))\n",
    "plt.scatter(testing_plot[:,0], testing_plot[:,1], alpha = 0.1, c = y_test.ravel());\n",
    "plt.title('Outputs')"
   ]
  },
  {
   "cell_type": "markdown",
   "id": "a74fcf8f",
   "metadata": {
    "papermill": {
     "duration": 0.04875,
     "end_time": "2022-03-04T20:11:59.038712",
     "exception": false,
     "start_time": "2022-03-04T20:11:58.989962",
     "status": "completed"
    },
    "tags": []
   },
   "source": [
    "Probability contours"
   ]
  },
  {
   "cell_type": "code",
   "execution_count": 27,
   "id": "d0afc8e3",
   "metadata": {
    "execution": {
     "iopub.execute_input": "2022-03-04T20:11:59.172650Z",
     "iopub.status.busy": "2022-03-04T20:11:59.172042Z",
     "iopub.status.idle": "2022-03-04T20:11:59.186347Z",
     "shell.execute_reply": "2022-03-04T20:11:59.185681Z"
    },
    "papermill": {
     "duration": 0.098234,
     "end_time": "2022-03-04T20:11:59.186475",
     "exception": false,
     "start_time": "2022-03-04T20:11:59.088241",
     "status": "completed"
    },
    "tags": []
   },
   "outputs": [],
   "source": [
    "model_prob = Model(layers[-2:]) "
   ]
  },
  {
   "cell_type": "code",
   "execution_count": 28,
   "id": "9b96e238",
   "metadata": {
    "execution": {
     "iopub.execute_input": "2022-03-04T20:11:59.295353Z",
     "iopub.status.busy": "2022-03-04T20:11:59.294792Z",
     "iopub.status.idle": "2022-03-04T20:11:59.310541Z",
     "shell.execute_reply": "2022-03-04T20:11:59.310993Z"
    },
    "papermill": {
     "duration": 0.074719,
     "end_time": "2022-03-04T20:11:59.311150",
     "exception": false,
     "start_time": "2022-03-04T20:11:59.236431",
     "status": "completed"
    },
    "tags": []
   },
   "outputs": [],
   "source": [
    "#creating the x and y ranges according to the above generated plot.\n",
    "x_range = np.linspace(-4, 1, 100) \n",
    "y_range = np.linspace(-6, 6, 100) \n",
    "x_grid, y_grid = np.meshgrid(x_range, y_range) # x_grid and y_grig are of size 100 X 100\n",
    "\n",
    "# converting x_grid and y_grid to continuous arrays\n",
    "x_gridflat = np.ravel(x_grid)\n",
    "y_gridflat = np.ravel(y_grid)\n",
    "\n",
    "# The last layer of the current model takes two columns as input. Hence transpose of np.vstack() is required.\n",
    "X = np.vstack((x_gridflat, y_gridflat)).T\n",
    "\n",
    "prob_contour = model_prob(X).reshape(100,100) "
   ]
  },
  {
   "cell_type": "code",
   "execution_count": 29,
   "id": "da72499a",
   "metadata": {
    "execution": {
     "iopub.execute_input": "2022-03-04T20:11:59.421737Z",
     "iopub.status.busy": "2022-03-04T20:11:59.421005Z",
     "iopub.status.idle": "2022-03-04T20:11:59.705723Z",
     "shell.execute_reply": "2022-03-04T20:11:59.706222Z"
    },
    "papermill": {
     "duration": 0.343216,
     "end_time": "2022-03-04T20:11:59.706373",
     "exception": false,
     "start_time": "2022-03-04T20:11:59.363157",
     "status": "completed"
    },
    "tags": []
   },
   "outputs": [
    {
     "data": {
      "image/png": "[encoded data removed]",
      "text/plain": [
       "<Figure size 720x648 with 1 Axes>"
      ]
     },
     "metadata": {
      "needs_background": "light"
     },
     "output_type": "display_data"
    }
   ],
   "source": [
    "plt.figure(figsize=(10,9))\n",
    "plt.scatter(testing_plot[:,0], testing_plot[:,1], alpha = 0.1, c = y_test.ravel())\n",
    "contours = plt.contour(x_grid,y_grid,prob_contour)\n",
    "plt.title('Probability Contours')\n",
    "plt.clabel(contours, inline = True );"
   ]
  },
  {
   "cell_type": "code",
   "execution_count": null,
   "id": "e81b4ac7",
   "metadata": {
    "papermill": {
     "duration": 0.049714,
     "end_time": "2022-03-04T20:11:59.807246",
     "exception": false,
     "start_time": "2022-03-04T20:11:59.757532",
     "status": "completed"
    },
    "tags": []
   },
   "outputs": [],
   "source": []
  }
 ],
 "metadata": {
  "kernelspec": {
   "display_name": "Python 3",
   "language": "python",
   "name": "python3"
  },
  "language_info": {
   "codemirror_mode": {
    "name": "ipython",
    "version": 3
   },
   "file_extension": ".py",
   "mimetype": "text/x-python",
   "name": "python",
   "nbconvert_exporter": "python",
   "pygments_lexer": "ipython3",
   "version": "3.6.15"
  },
  "papermill": {
   "default_parameters": {},
   "duration": 108.436642,
   "end_time": "2022-03-04T20:12:00.281094",
   "environment_variables": {},
   "exception": null,
   "input_path": "2020-08-11-part2.ipynb",
   "output_path": "2020-08-11-part2.ipynb",
   "parameters": {},
   "start_time": "2022-03-04T20:10:11.844452",
   "version": "2.3.3"
  }
 },
 "nbformat": 4,
 "nbformat_minor": 5
}