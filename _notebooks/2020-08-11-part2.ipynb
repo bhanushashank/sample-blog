{
 "cells": [
  {
   "cell_type": "markdown",
   "id": "98380cd3",
   "metadata": {
    "papermill": {
     "duration": 0.03525,
     "end_time": "2021-11-23T20:08:26.608648",
     "exception": false,
     "start_time": "2021-11-23T20:08:26.573398",
     "status": "completed"
    },
    "tags": []
   },
   "source": [
    "# Distinguish Your Own Digits (DYOD)"
   ]
  },
  {
   "cell_type": "markdown",
   "id": "ef31240d",
   "metadata": {
    "papermill": {
     "duration": 0.02866,
     "end_time": "2021-11-23T20:08:26.664343",
     "exception": false,
     "start_time": "2021-11-23T20:08:26.635683",
     "status": "completed"
    },
    "tags": []
   },
   "source": [
    "You are going to write a classifier that distinguishes between the number 3 and number 8."
   ]
  },
  {
   "cell_type": "code",
   "execution_count": 1,
   "id": "b15c8646",
   "metadata": {
    "execution": {
     "iopub.execute_input": "2021-11-23T20:08:26.731770Z",
     "iopub.status.busy": "2021-11-23T20:08:26.730693Z",
     "iopub.status.idle": "2021-11-23T20:08:26.742476Z",
     "shell.execute_reply": "2021-11-23T20:08:26.743013Z"
    },
    "papermill": {
     "duration": 0.05163,
     "end_time": "2021-11-23T20:08:26.743183",
     "exception": false,
     "start_time": "2021-11-23T20:08:26.691553",
     "status": "completed"
    },
    "tags": []
   },
   "outputs": [],
   "source": [
    "%load_ext autoreload\n",
    "%autoreload 2"
   ]
  },
  {
   "cell_type": "code",
   "execution_count": 2,
   "id": "22ef38dc",
   "metadata": {
    "execution": {
     "iopub.execute_input": "2021-11-23T20:08:26.807777Z",
     "iopub.status.busy": "2021-11-23T20:08:26.807153Z",
     "iopub.status.idle": "2021-11-23T20:08:27.442172Z",
     "shell.execute_reply": "2021-11-23T20:08:27.441503Z"
    },
    "papermill": {
     "duration": 0.671415,
     "end_time": "2021-11-23T20:08:27.442372",
     "exception": false,
     "start_time": "2021-11-23T20:08:26.770957",
     "status": "completed"
    },
    "tags": []
   },
   "outputs": [],
   "source": [
    "%matplotlib inline\n",
    "import numpy as np\n",
    "import matplotlib.pyplot as plt\n",
    "import pandas as pd"
   ]
  },
  {
   "cell_type": "markdown",
   "id": "ba036198",
   "metadata": {
    "papermill": {
     "duration": 0.025844,
     "end_time": "2021-11-23T20:08:27.493179",
     "exception": false,
     "start_time": "2021-11-23T20:08:27.467335",
     "status": "completed"
    },
    "tags": []
   },
   "source": [
    "From the command line run `pip install mnist`. This is a library that will help you bring down the mnist dataset. If you run this from a notebook, you need to put  `!pip install mnist` in a cell by itself."
   ]
  },
  {
   "cell_type": "code",
   "execution_count": 3,
   "id": "bb6ad8a1",
   "metadata": {
    "execution": {
     "iopub.execute_input": "2021-11-23T20:08:27.556111Z",
     "iopub.status.busy": "2021-11-23T20:08:27.555221Z",
     "iopub.status.idle": "2021-11-23T20:08:30.182086Z",
     "shell.execute_reply": "2021-11-23T20:08:30.181577Z"
    },
    "papermill": {
     "duration": 2.663446,
     "end_time": "2021-11-23T20:08:30.182203",
     "exception": false,
     "start_time": "2021-11-23T20:08:27.518757",
     "status": "completed"
    },
    "tags": []
   },
   "outputs": [
    {
     "name": "stdout",
     "output_type": "stream",
     "text": [
      "Collecting mnist\r\n"
     ]
    },
    {
     "name": "stdout",
     "output_type": "stream",
     "text": [
      "  Downloading mnist-0.2.2-py2.py3-none-any.whl (3.5 kB)\r\n"
     ]
    },
    {
     "name": "stdout",
     "output_type": "stream",
     "text": [
      "Requirement already satisfied: numpy in /opt/hostedtoolcache/Python/3.6.15/x64/lib/python3.6/site-packages (from mnist) (1.19.5)\r\n"
     ]
    },
    {
     "name": "stdout",
     "output_type": "stream",
     "text": [
      "Installing collected packages: mnist\r\n"
     ]
    },
    {
     "name": "stdout",
     "output_type": "stream",
     "text": [
      "Successfully installed mnist-0.2.2\r\n"
     ]
    }
   ],
   "source": [
    "!pip install mnist"
   ]
  },
  {
   "cell_type": "markdown",
   "id": "69df9c9a",
   "metadata": {
    "papermill": {
     "duration": 0.028289,
     "end_time": "2021-11-23T20:08:30.237180",
     "exception": false,
     "start_time": "2021-11-23T20:08:30.208891",
     "status": "completed"
    },
    "tags": []
   },
   "source": [
    "## Preparing the Data"
   ]
  },
  {
   "cell_type": "code",
   "execution_count": 4,
   "id": "7f69d806",
   "metadata": {
    "execution": {
     "iopub.execute_input": "2021-11-23T20:08:30.299720Z",
     "iopub.status.busy": "2021-11-23T20:08:30.299107Z",
     "iopub.status.idle": "2021-11-23T20:08:30.314974Z",
     "shell.execute_reply": "2021-11-23T20:08:30.314550Z"
    },
    "papermill": {
     "duration": 0.049342,
     "end_time": "2021-11-23T20:08:30.315075",
     "exception": false,
     "start_time": "2021-11-23T20:08:30.265733",
     "status": "completed"
    },
    "tags": []
   },
   "outputs": [],
   "source": [
    "import mnist"
   ]
  },
  {
   "cell_type": "code",
   "execution_count": 5,
   "id": "a411e44f",
   "metadata": {
    "execution": {
     "iopub.execute_input": "2021-11-23T20:08:30.366631Z",
     "iopub.status.busy": "2021-11-23T20:08:30.366158Z",
     "iopub.status.idle": "2021-11-23T20:08:31.061569Z",
     "shell.execute_reply": "2021-11-23T20:08:31.061019Z"
    },
    "papermill": {
     "duration": 0.722679,
     "end_time": "2021-11-23T20:08:31.061710",
     "exception": false,
     "start_time": "2021-11-23T20:08:30.339031",
     "status": "completed"
    },
    "tags": []
   },
   "outputs": [],
   "source": [
    "train_images = mnist.train_images()\n",
    "train_labels = mnist.train_labels()"
   ]
  },
  {
   "cell_type": "code",
   "execution_count": 6,
   "id": "dceab3a5",
   "metadata": {
    "execution": {
     "iopub.execute_input": "2021-11-23T20:08:31.118502Z",
     "iopub.status.busy": "2021-11-23T20:08:31.117872Z",
     "iopub.status.idle": "2021-11-23T20:08:31.135574Z",
     "shell.execute_reply": "2021-11-23T20:08:31.136067Z"
    },
    "papermill": {
     "duration": 0.04853,
     "end_time": "2021-11-23T20:08:31.136204",
     "exception": false,
     "start_time": "2021-11-23T20:08:31.087674",
     "status": "completed"
    },
    "tags": []
   },
   "outputs": [
    {
     "data": {
      "text/plain": [
       "((60000, 28, 28), (60000,))"
      ]
     },
     "execution_count": 6,
     "metadata": {},
     "output_type": "execute_result"
    }
   ],
   "source": [
    "train_images.shape, train_labels.shape"
   ]
  },
  {
   "cell_type": "code",
   "execution_count": 7,
   "id": "f50dc2bb",
   "metadata": {
    "execution": {
     "iopub.execute_input": "2021-11-23T20:08:31.189025Z",
     "iopub.status.busy": "2021-11-23T20:08:31.188476Z",
     "iopub.status.idle": "2021-11-23T20:08:31.426063Z",
     "shell.execute_reply": "2021-11-23T20:08:31.426951Z"
    },
    "papermill": {
     "duration": 0.266551,
     "end_time": "2021-11-23T20:08:31.427213",
     "exception": false,
     "start_time": "2021-11-23T20:08:31.160662",
     "status": "completed"
    },
    "tags": []
   },
   "outputs": [],
   "source": [
    "test_images = mnist.test_images()\n",
    "test_labels = mnist.test_labels()"
   ]
  },
  {
   "cell_type": "code",
   "execution_count": 8,
   "id": "fc38cf1b",
   "metadata": {
    "execution": {
     "iopub.execute_input": "2021-11-23T20:08:31.486181Z",
     "iopub.status.busy": "2021-11-23T20:08:31.485691Z",
     "iopub.status.idle": "2021-11-23T20:08:31.501324Z",
     "shell.execute_reply": "2021-11-23T20:08:31.500857Z"
    },
    "papermill": {
     "duration": 0.046406,
     "end_time": "2021-11-23T20:08:31.501446",
     "exception": false,
     "start_time": "2021-11-23T20:08:31.455040",
     "status": "completed"
    },
    "tags": []
   },
   "outputs": [
    {
     "data": {
      "text/plain": [
       "((10000, 28, 28), (10000,))"
      ]
     },
     "execution_count": 8,
     "metadata": {},
     "output_type": "execute_result"
    }
   ],
   "source": [
    "test_images.shape, test_labels.shape"
   ]
  },
  {
   "cell_type": "code",
   "execution_count": 9,
   "id": "f9ed8fe0",
   "metadata": {
    "execution": {
     "iopub.execute_input": "2021-11-23T20:08:31.559471Z",
     "iopub.status.busy": "2021-11-23T20:08:31.558419Z",
     "iopub.status.idle": "2021-11-23T20:08:31.718547Z",
     "shell.execute_reply": "2021-11-23T20:08:31.719414Z"
    },
    "papermill": {
     "duration": 0.191638,
     "end_time": "2021-11-23T20:08:31.719661",
     "exception": false,
     "start_time": "2021-11-23T20:08:31.528023",
     "status": "completed"
    },
    "tags": []
   },
   "outputs": [
    {
     "name": "stdout",
     "output_type": "stream",
     "text": [
      "2\n"
     ]
    },
    {
     "data": {
      "text/plain": [
       "<matplotlib.image.AxesImage at 0x7f683fd9b160>"
      ]
     },
     "execution_count": 9,
     "metadata": {},
     "output_type": "execute_result"
    },
    {
     "data": {
      "image/png": "[encoded data removed]",
      "text/plain": [
       "<Figure size 432x288 with 1 Axes>"
      ]
     },
     "metadata": {
      "needs_background": "light"
     },
     "output_type": "display_data"
    }
   ],
   "source": [
    "image_index = 7776 # You may select anything up to 60,000\n",
    "print(train_labels[image_index]) \n",
    "plt.imshow(train_images[image_index], cmap='Greys')"
   ]
  },
  {
   "cell_type": "markdown",
   "id": "a8d2388d",
   "metadata": {
    "papermill": {
     "duration": 0.029127,
     "end_time": "2021-11-23T20:08:31.780397",
     "exception": false,
     "start_time": "2021-11-23T20:08:31.751270",
     "status": "completed"
    },
    "tags": []
   },
   "source": [
    "## Filter data to get 3 and 8 out"
   ]
  },
  {
   "cell_type": "code",
   "execution_count": 10,
   "id": "776f7fc7",
   "metadata": {
    "execution": {
     "iopub.execute_input": "2021-11-23T20:08:31.844401Z",
     "iopub.status.busy": "2021-11-23T20:08:31.843772Z",
     "iopub.status.idle": "2021-11-23T20:08:31.862718Z",
     "shell.execute_reply": "2021-11-23T20:08:31.861826Z"
    },
    "papermill": {
     "duration": 0.053325,
     "end_time": "2021-11-23T20:08:31.862859",
     "exception": false,
     "start_time": "2021-11-23T20:08:31.809534",
     "status": "completed"
    },
    "tags": []
   },
   "outputs": [],
   "source": [
    "train_filter = np.where((train_labels == 3 ) | (train_labels == 8))\n",
    "test_filter = np.where((test_labels == 3) | (test_labels == 8))\n",
    "X_train, y_train = train_images[train_filter], train_labels[train_filter]\n",
    "X_test, y_test = test_images[test_filter], test_labels[test_filter]"
   ]
  },
  {
   "cell_type": "markdown",
   "id": "948f0b7e",
   "metadata": {
    "papermill": {
     "duration": 0.02896,
     "end_time": "2021-11-23T20:08:31.922380",
     "exception": false,
     "start_time": "2021-11-23T20:08:31.893420",
     "status": "completed"
    },
    "tags": []
   },
   "source": [
    "We normalize the pizel values in the 0 to 1 range"
   ]
  },
  {
   "cell_type": "code",
   "execution_count": 11,
   "id": "ee4c2166",
   "metadata": {
    "execution": {
     "iopub.execute_input": "2021-11-23T20:08:31.986733Z",
     "iopub.status.busy": "2021-11-23T20:08:31.986044Z",
     "iopub.status.idle": "2021-11-23T20:08:32.038576Z",
     "shell.execute_reply": "2021-11-23T20:08:32.037982Z"
    },
    "papermill": {
     "duration": 0.087011,
     "end_time": "2021-11-23T20:08:32.038725",
     "exception": false,
     "start_time": "2021-11-23T20:08:31.951714",
     "status": "completed"
    },
    "tags": []
   },
   "outputs": [],
   "source": [
    "X_train = X_train/255.\n",
    "X_test = X_test/255."
   ]
  },
  {
   "cell_type": "markdown",
   "id": "ddcf4fab",
   "metadata": {
    "papermill": {
     "duration": 0.029636,
     "end_time": "2021-11-23T20:08:32.097891",
     "exception": false,
     "start_time": "2021-11-23T20:08:32.068255",
     "status": "completed"
    },
    "tags": []
   },
   "source": [
    "And setup the labels as 1 (when the digit is 3) and 0 (when the digit is 8)"
   ]
  },
  {
   "cell_type": "code",
   "execution_count": 12,
   "id": "7dc908f2",
   "metadata": {
    "execution": {
     "iopub.execute_input": "2021-11-23T20:08:32.161024Z",
     "iopub.status.busy": "2021-11-23T20:08:32.160385Z",
     "iopub.status.idle": "2021-11-23T20:08:32.172532Z",
     "shell.execute_reply": "2021-11-23T20:08:32.172135Z"
    },
    "papermill": {
     "duration": 0.04466,
     "end_time": "2021-11-23T20:08:32.172642",
     "exception": false,
     "start_time": "2021-11-23T20:08:32.127982",
     "status": "completed"
    },
    "tags": []
   },
   "outputs": [],
   "source": [
    "y_train = 1*(y_train==3)\n",
    "y_test = 1*(y_test==3)"
   ]
  },
  {
   "cell_type": "code",
   "execution_count": 13,
   "id": "01e4e969",
   "metadata": {
    "execution": {
     "iopub.execute_input": "2021-11-23T20:08:32.235727Z",
     "iopub.status.busy": "2021-11-23T20:08:32.235137Z",
     "iopub.status.idle": "2021-11-23T20:08:32.252536Z",
     "shell.execute_reply": "2021-11-23T20:08:32.252089Z"
    },
    "papermill": {
     "duration": 0.052496,
     "end_time": "2021-11-23T20:08:32.252653",
     "exception": false,
     "start_time": "2021-11-23T20:08:32.200157",
     "status": "completed"
    },
    "tags": []
   },
   "outputs": [
    {
     "data": {
      "text/plain": [
       "((11982, 28, 28), (1984, 28, 28))"
      ]
     },
     "execution_count": 13,
     "metadata": {},
     "output_type": "execute_result"
    }
   ],
   "source": [
    "X_train.shape, X_test.shape"
   ]
  },
  {
   "cell_type": "markdown",
   "id": "5ccf3f85",
   "metadata": {
    "papermill": {
     "duration": 0.028691,
     "end_time": "2021-11-23T20:08:32.310167",
     "exception": false,
     "start_time": "2021-11-23T20:08:32.281476",
     "status": "completed"
    },
    "tags": []
   },
   "source": [
    "We reshape the data to flatten the image pixels into a set of features or co-variates:"
   ]
  },
  {
   "cell_type": "code",
   "execution_count": 14,
   "id": "5286a4a3",
   "metadata": {
    "execution": {
     "iopub.execute_input": "2021-11-23T20:08:32.377270Z",
     "iopub.status.busy": "2021-11-23T20:08:32.376664Z",
     "iopub.status.idle": "2021-11-23T20:08:32.393571Z",
     "shell.execute_reply": "2021-11-23T20:08:32.393116Z"
    },
    "papermill": {
     "duration": 0.052052,
     "end_time": "2021-11-23T20:08:32.393692",
     "exception": false,
     "start_time": "2021-11-23T20:08:32.341640",
     "status": "completed"
    },
    "tags": []
   },
   "outputs": [
    {
     "data": {
      "text/plain": [
       "((11982, 784), (1984, 784))"
      ]
     },
     "execution_count": 14,
     "metadata": {},
     "output_type": "execute_result"
    }
   ],
   "source": [
    "X_train = X_train.reshape(X_train.shape[0], -1)\n",
    "X_test = X_test.reshape(X_test.shape[0], -1)\n",
    "X_train.shape, X_test.shape"
   ]
  },
  {
   "cell_type": "code",
   "execution_count": 15,
   "id": "73c5f88a",
   "metadata": {
    "execution": {
     "iopub.execute_input": "2021-11-23T20:08:32.463062Z",
     "iopub.status.busy": "2021-11-23T20:08:32.462229Z",
     "iopub.status.idle": "2021-11-23T20:08:32.484259Z",
     "shell.execute_reply": "2021-11-23T20:08:32.483715Z"
    },
    "papermill": {
     "duration": 0.059302,
     "end_time": "2021-11-23T20:08:32.484393",
     "exception": false,
     "start_time": "2021-11-23T20:08:32.425091",
     "status": "completed"
    },
    "tags": []
   },
   "outputs": [],
   "source": [
    "#Impoting functions from 'Kudzu'\n",
    "from kudzu.model import Model\n",
    "from kudzu.train import Learner\n",
    "from kudzu.optim import GD\n",
    "from kudzu.data import Data, Sampler,Dataloader\n",
    "\n",
    "from kudzu.callbacks import AccCallback\n",
    "from kudzu.callbacks import ClfCallback\n",
    "\n",
    "from kudzu.loss import MSE\n",
    "\n",
    "from kudzu.layer import Sigmoid,Relu\n",
    "from kudzu.layer import Affine"
   ]
  },
  {
   "cell_type": "markdown",
   "id": "bc01172a",
   "metadata": {
    "papermill": {
     "duration": 0.029601,
     "end_time": "2021-11-23T20:08:32.543318",
     "exception": false,
     "start_time": "2021-11-23T20:08:32.513717",
     "status": "completed"
    },
    "tags": []
   },
   "source": [
    "### Let us create a `Config` class, to store important parameters. \n",
    "This class essentially plays the role of a dictionary."
   ]
  },
  {
   "cell_type": "code",
   "execution_count": 16,
   "id": "978281aa",
   "metadata": {
    "execution": {
     "iopub.execute_input": "2021-11-23T20:08:32.606389Z",
     "iopub.status.busy": "2021-11-23T20:08:32.605756Z",
     "iopub.status.idle": "2021-11-23T20:08:32.619531Z",
     "shell.execute_reply": "2021-11-23T20:08:32.620026Z"
    },
    "papermill": {
     "duration": 0.048305,
     "end_time": "2021-11-23T20:08:32.620161",
     "exception": false,
     "start_time": "2021-11-23T20:08:32.571856",
     "status": "completed"
    },
    "tags": []
   },
   "outputs": [],
   "source": [
    "class Config:\n",
    "    pass\n",
    "config = Config()\n",
    "config.lr = 0.001\n",
    "config.num_epochs = 250\n",
    "config.bs = 50"
   ]
  },
  {
   "cell_type": "markdown",
   "id": "1385fa59",
   "metadata": {
    "papermill": {
     "duration": 0.029492,
     "end_time": "2021-11-23T20:08:32.679136",
     "exception": false,
     "start_time": "2021-11-23T20:08:32.649644",
     "status": "completed"
    },
    "tags": []
   },
   "source": [
    "### Running Models with the Training data\n",
    "Details about the network layers:\n",
    "- A first affine layer has 784 inputs and does 100 affine transforms. These are followed by a Relu\n",
    "- A second affine layer has 100 inputs from the 100 activations of the past layer, and does 100 affine transforms. These are followed by a Relu\n",
    "- A third affine layer has 100 activations and does 2 affine transformations to create an embedding for visualization. There is no non-linearity here.\n",
    "- A final \"logistic regression\" which has an affine transform from 2 inputs to 1 output, which is squeezed through a sigmoid.\n"
   ]
  },
  {
   "cell_type": "code",
   "execution_count": 17,
   "id": "2b9c66db",
   "metadata": {
    "execution": {
     "iopub.execute_input": "2021-11-23T20:08:32.746109Z",
     "iopub.status.busy": "2021-11-23T20:08:32.745492Z",
     "iopub.status.idle": "2021-11-23T20:08:32.760602Z",
     "shell.execute_reply": "2021-11-23T20:08:32.760010Z"
    },
    "papermill": {
     "duration": 0.049963,
     "end_time": "2021-11-23T20:08:32.760732",
     "exception": false,
     "start_time": "2021-11-23T20:08:32.710769",
     "status": "completed"
    },
    "tags": []
   },
   "outputs": [],
   "source": [
    "data = Data(X_train, y_train.reshape(-1,1))\n",
    "sampler = Sampler(data, config.bs, shuffle=True)\n",
    "\n",
    "dl = Dataloader(data, sampler)\n",
    "\n",
    "opt = GD(config.lr)\n",
    "loss = MSE()"
   ]
  },
  {
   "cell_type": "code",
   "execution_count": 18,
   "id": "b275e4c2",
   "metadata": {
    "execution": {
     "iopub.execute_input": "2021-11-23T20:08:32.825109Z",
     "iopub.status.busy": "2021-11-23T20:08:32.824506Z",
     "iopub.status.idle": "2021-11-23T20:08:32.840018Z",
     "shell.execute_reply": "2021-11-23T20:08:32.840509Z"
    },
    "papermill": {
     "duration": 0.051569,
     "end_time": "2021-11-23T20:08:32.840661",
     "exception": false,
     "start_time": "2021-11-23T20:08:32.789092",
     "status": "completed"
    },
    "tags": []
   },
   "outputs": [],
   "source": [
    "training_data_x = X_train\n",
    "testing_data_x = X_test\n",
    "training_data_y = y_train.reshape(-1,1)\n",
    "testing_data_y = y_test.reshape(-1,1)"
   ]
  },
  {
   "cell_type": "code",
   "execution_count": 19,
   "id": "76951160",
   "metadata": {
    "execution": {
     "iopub.execute_input": "2021-11-23T20:08:32.906209Z",
     "iopub.status.busy": "2021-11-23T20:08:32.905622Z",
     "iopub.status.idle": "2021-11-23T20:08:32.924581Z",
     "shell.execute_reply": "2021-11-23T20:08:32.923828Z"
    },
    "papermill": {
     "duration": 0.053622,
     "end_time": "2021-11-23T20:08:32.924708",
     "exception": false,
     "start_time": "2021-11-23T20:08:32.871086",
     "status": "completed"
    },
    "tags": []
   },
   "outputs": [
    {
     "name": "stdout",
     "output_type": "stream",
     "text": [
      "xavier\n",
      "xavier\n",
      "xavier\n",
      "xavier\n",
      "xavier\n"
     ]
    }
   ],
   "source": [
    "layers = [Affine(\"first\", 784, 100), Relu(\"first\"), Affine(\"second\", 100, 100), Relu(\"second\"), Affine(\"third\", 100, 2), Affine(\"last\", 2, 1), Sigmoid(\"last\")]\n",
    "model_nn = Model(layers)\n",
    "model_lr = Model([Affine(\"logits\", 784, 1), Sigmoid(\"sigmoid\")])"
   ]
  },
  {
   "cell_type": "code",
   "execution_count": 20,
   "id": "6eede77a",
   "metadata": {
    "execution": {
     "iopub.execute_input": "2021-11-23T20:08:32.994938Z",
     "iopub.status.busy": "2021-11-23T20:08:32.994256Z",
     "iopub.status.idle": "2021-11-23T20:08:33.007710Z",
     "shell.execute_reply": "2021-11-23T20:08:33.007207Z"
    },
    "papermill": {
     "duration": 0.051856,
     "end_time": "2021-11-23T20:08:33.007843",
     "exception": false,
     "start_time": "2021-11-23T20:08:32.955987",
     "status": "completed"
    },
    "tags": []
   },
   "outputs": [],
   "source": [
    "nn_learner = Learner(loss, model_nn, opt, config.num_epochs)\n",
    "acc_nn = ClfCallback(nn_learner, config.bs, training_data_x , testing_data_x, training_data_y, testing_data_y)\n",
    "nn_learner.set_callbacks([acc_nn])"
   ]
  },
  {
   "cell_type": "code",
   "execution_count": 21,
   "id": "877b6cc7",
   "metadata": {
    "execution": {
     "iopub.execute_input": "2021-11-23T20:08:33.074125Z",
     "iopub.status.busy": "2021-11-23T20:08:33.073530Z",
     "iopub.status.idle": "2021-11-23T20:08:33.088664Z",
     "shell.execute_reply": "2021-11-23T20:08:33.087881Z"
    },
    "papermill": {
     "duration": 0.049962,
     "end_time": "2021-11-23T20:08:33.088859",
     "exception": false,
     "start_time": "2021-11-23T20:08:33.038897",
     "status": "completed"
    },
    "tags": []
   },
   "outputs": [],
   "source": [
    "lr_learner = Learner(loss, model_lr, opt, config.num_epochs)\n",
    "acc_lr = ClfCallback(lr_learner, config.bs, training_data_x , testing_data_x, training_data_y, testing_data_y)\n",
    "lr_learner.set_callbacks([acc_lr])"
   ]
  },
  {
   "cell_type": "code",
   "execution_count": 22,
   "id": "d9b133c3",
   "metadata": {
    "execution": {
     "iopub.execute_input": "2021-11-23T20:08:33.157409Z",
     "iopub.status.busy": "2021-11-23T20:08:33.156803Z",
     "iopub.status.idle": "2021-11-23T20:09:56.890069Z",
     "shell.execute_reply": "2021-11-23T20:09:56.890939Z"
    },
    "papermill": {
     "duration": 83.769354,
     "end_time": "2021-11-23T20:09:56.891100",
     "exception": false,
     "start_time": "2021-11-23T20:08:33.121746",
     "status": "completed"
    },
    "tags": []
   },
   "outputs": [
    {
     "name": "stdout",
     "output_type": "stream",
     "text": [
      "Epoch 0, Loss 0.255\n",
      "Training Accuracy: 0.5131, Testing Accuracy: 0.5161\n",
      "\n"
     ]
    },
    {
     "name": "stdout",
     "output_type": "stream",
     "text": [
      "Epoch 10, Loss 0.1395\n",
      "Training Accuracy: 0.8967, Testing Accuracy: 0.9002\n",
      "\n"
     ]
    },
    {
     "name": "stdout",
     "output_type": "stream",
     "text": [
      "Epoch 20, Loss 0.0721\n",
      "Training Accuracy: 0.9281, Testing Accuracy: 0.9350\n",
      "\n"
     ]
    },
    {
     "name": "stdout",
     "output_type": "stream",
     "text": [
      "Epoch 30, Loss 0.052\n",
      "Training Accuracy: 0.9428, Testing Accuracy: 0.9516\n",
      "\n"
     ]
    },
    {
     "name": "stdout",
     "output_type": "stream",
     "text": [
      "Epoch 40, Loss 0.0431\n",
      "Training Accuracy: 0.9505, Testing Accuracy: 0.9567\n",
      "\n"
     ]
    },
    {
     "name": "stdout",
     "output_type": "stream",
     "text": [
      "Epoch 50, Loss 0.0381\n",
      "Training Accuracy: 0.9559, Testing Accuracy: 0.9612\n",
      "\n"
     ]
    },
    {
     "name": "stdout",
     "output_type": "stream",
     "text": [
      "Epoch 60, Loss 0.0349\n",
      "Training Accuracy: 0.9588, Testing Accuracy: 0.9647\n",
      "\n"
     ]
    },
    {
     "name": "stdout",
     "output_type": "stream",
     "text": [
      "Epoch 70, Loss 0.0325\n",
      "Training Accuracy: 0.9618, Testing Accuracy: 0.9647\n",
      "\n"
     ]
    },
    {
     "name": "stdout",
     "output_type": "stream",
     "text": [
      "Epoch 80, Loss 0.0308\n",
      "Training Accuracy: 0.9639, Testing Accuracy: 0.9652\n",
      "\n"
     ]
    },
    {
     "name": "stdout",
     "output_type": "stream",
     "text": [
      "Epoch 90, Loss 0.0294\n",
      "Training Accuracy: 0.9662, Testing Accuracy: 0.9647\n",
      "\n"
     ]
    },
    {
     "name": "stdout",
     "output_type": "stream",
     "text": [
      "Epoch 100, Loss 0.0282\n",
      "Training Accuracy: 0.9671, Testing Accuracy: 0.9657\n",
      "\n"
     ]
    },
    {
     "name": "stdout",
     "output_type": "stream",
     "text": [
      "Epoch 110, Loss 0.0272\n",
      "Training Accuracy: 0.9682, Testing Accuracy: 0.9662\n",
      "\n"
     ]
    },
    {
     "name": "stdout",
     "output_type": "stream",
     "text": [
      "Epoch 120, Loss 0.0263\n",
      "Training Accuracy: 0.9692, Testing Accuracy: 0.9672\n",
      "\n"
     ]
    },
    {
     "name": "stdout",
     "output_type": "stream",
     "text": [
      "Epoch 130, Loss 0.0256\n",
      "Training Accuracy: 0.9700, Testing Accuracy: 0.9682\n",
      "\n"
     ]
    },
    {
     "name": "stdout",
     "output_type": "stream",
     "text": [
      "Epoch 140, Loss 0.0249\n",
      "Training Accuracy: 0.9715, Testing Accuracy: 0.9693\n",
      "\n"
     ]
    },
    {
     "name": "stdout",
     "output_type": "stream",
     "text": [
      "Epoch 150, Loss 0.0243\n",
      "Training Accuracy: 0.9724, Testing Accuracy: 0.9703\n",
      "\n"
     ]
    },
    {
     "name": "stdout",
     "output_type": "stream",
     "text": [
      "Epoch 160, Loss 0.0238\n",
      "Training Accuracy: 0.9731, Testing Accuracy: 0.9708\n",
      "\n"
     ]
    },
    {
     "name": "stdout",
     "output_type": "stream",
     "text": [
      "Epoch 170, Loss 0.0232\n",
      "Training Accuracy: 0.9742, Testing Accuracy: 0.9708\n",
      "\n"
     ]
    },
    {
     "name": "stdout",
     "output_type": "stream",
     "text": [
      "Epoch 180, Loss 0.0228\n",
      "Training Accuracy: 0.9745, Testing Accuracy: 0.9703\n",
      "\n"
     ]
    },
    {
     "name": "stdout",
     "output_type": "stream",
     "text": [
      "Epoch 190, Loss 0.0223\n",
      "Training Accuracy: 0.9751, Testing Accuracy: 0.9713\n",
      "\n"
     ]
    },
    {
     "name": "stdout",
     "output_type": "stream",
     "text": [
      "Epoch 200, Loss 0.0219\n",
      "Training Accuracy: 0.9755, Testing Accuracy: 0.9708\n",
      "\n"
     ]
    },
    {
     "name": "stdout",
     "output_type": "stream",
     "text": [
      "Epoch 210, Loss 0.0215\n",
      "Training Accuracy: 0.9761, Testing Accuracy: 0.9718\n",
      "\n"
     ]
    },
    {
     "name": "stdout",
     "output_type": "stream",
     "text": [
      "Epoch 220, Loss 0.0211\n",
      "Training Accuracy: 0.9765, Testing Accuracy: 0.9723\n",
      "\n"
     ]
    },
    {
     "name": "stdout",
     "output_type": "stream",
     "text": [
      "Epoch 230, Loss 0.0208\n",
      "Training Accuracy: 0.9769, Testing Accuracy: 0.9728\n",
      "\n"
     ]
    },
    {
     "name": "stdout",
     "output_type": "stream",
     "text": [
      "Epoch 240, Loss 0.0204\n",
      "Training Accuracy: 0.9770, Testing Accuracy: 0.9733\n",
      "\n"
     ]
    },
    {
     "data": {
      "text/plain": [
       "0.016546452111019776"
      ]
     },
     "execution_count": 22,
     "metadata": {},
     "output_type": "execute_result"
    }
   ],
   "source": [
    "nn_learner.train_loop(dl)"
   ]
  },
  {
   "cell_type": "code",
   "execution_count": 23,
   "id": "e0163366",
   "metadata": {
    "execution": {
     "iopub.execute_input": "2021-11-23T20:09:56.972186Z",
     "iopub.status.busy": "2021-11-23T20:09:56.971673Z",
     "iopub.status.idle": "2021-11-23T20:10:11.448341Z",
     "shell.execute_reply": "2021-11-23T20:10:11.449194Z"
    },
    "papermill": {
     "duration": 14.522471,
     "end_time": "2021-11-23T20:10:11.449356",
     "exception": false,
     "start_time": "2021-11-23T20:09:56.926885",
     "status": "completed"
    },
    "tags": []
   },
   "outputs": [
    {
     "name": "stdout",
     "output_type": "stream",
     "text": [
      "Epoch 0, Loss 0.218\n",
      "Training Accuracy: 0.7670, Testing Accuracy: 0.7858\n",
      "\n"
     ]
    },
    {
     "name": "stdout",
     "output_type": "stream",
     "text": [
      "Epoch 10, Loss 0.099\n",
      "Training Accuracy: 0.9165, Testing Accuracy: 0.9355\n",
      "\n"
     ]
    },
    {
     "name": "stdout",
     "output_type": "stream",
     "text": [
      "Epoch 20, Loss 0.0769\n",
      "Training Accuracy: 0.9317, Testing Accuracy: 0.9466\n",
      "\n"
     ]
    },
    {
     "name": "stdout",
     "output_type": "stream",
     "text": [
      "Epoch 30, Loss 0.0666\n",
      "Training Accuracy: 0.9389, Testing Accuracy: 0.9526\n",
      "\n"
     ]
    },
    {
     "name": "stdout",
     "output_type": "stream",
     "text": [
      "Epoch 40, Loss 0.0605\n",
      "Training Accuracy: 0.9437, Testing Accuracy: 0.9546\n",
      "\n"
     ]
    },
    {
     "name": "stdout",
     "output_type": "stream",
     "text": [
      "Epoch 50, Loss 0.0562\n",
      "Training Accuracy: 0.9463, Testing Accuracy: 0.9556\n",
      "\n"
     ]
    },
    {
     "name": "stdout",
     "output_type": "stream",
     "text": [
      "Epoch 60, Loss 0.0531\n",
      "Training Accuracy: 0.9483, Testing Accuracy: 0.9597\n",
      "\n"
     ]
    },
    {
     "name": "stdout",
     "output_type": "stream",
     "text": [
      "Epoch 70, Loss 0.0507\n",
      "Training Accuracy: 0.9495, Testing Accuracy: 0.9597\n",
      "\n"
     ]
    },
    {
     "name": "stdout",
     "output_type": "stream",
     "text": [
      "Epoch 80, Loss 0.0487\n",
      "Training Accuracy: 0.9511, Testing Accuracy: 0.9612\n",
      "\n"
     ]
    },
    {
     "name": "stdout",
     "output_type": "stream",
     "text": [
      "Epoch 90, Loss 0.0471\n",
      "Training Accuracy: 0.9524, Testing Accuracy: 0.9627\n",
      "\n"
     ]
    },
    {
     "name": "stdout",
     "output_type": "stream",
     "text": [
      "Epoch 100, Loss 0.0457\n",
      "Training Accuracy: 0.9538, Testing Accuracy: 0.9632\n",
      "\n"
     ]
    },
    {
     "name": "stdout",
     "output_type": "stream",
     "text": [
      "Epoch 110, Loss 0.0446\n",
      "Training Accuracy: 0.9547, Testing Accuracy: 0.9637\n",
      "\n"
     ]
    },
    {
     "name": "stdout",
     "output_type": "stream",
     "text": [
      "Epoch 120, Loss 0.0435\n",
      "Training Accuracy: 0.9559, Testing Accuracy: 0.9637\n",
      "\n"
     ]
    },
    {
     "name": "stdout",
     "output_type": "stream",
     "text": [
      "Epoch 130, Loss 0.0426\n",
      "Training Accuracy: 0.9569, Testing Accuracy: 0.9637\n",
      "\n"
     ]
    },
    {
     "name": "stdout",
     "output_type": "stream",
     "text": [
      "Epoch 140, Loss 0.0418\n",
      "Training Accuracy: 0.9574, Testing Accuracy: 0.9637\n",
      "\n"
     ]
    },
    {
     "name": "stdout",
     "output_type": "stream",
     "text": [
      "Epoch 150, Loss 0.0411\n",
      "Training Accuracy: 0.9576, Testing Accuracy: 0.9642\n",
      "\n"
     ]
    },
    {
     "name": "stdout",
     "output_type": "stream",
     "text": [
      "Epoch 160, Loss 0.0405\n",
      "Training Accuracy: 0.9579, Testing Accuracy: 0.9637\n",
      "\n"
     ]
    },
    {
     "name": "stdout",
     "output_type": "stream",
     "text": [
      "Epoch 170, Loss 0.0399\n",
      "Training Accuracy: 0.9586, Testing Accuracy: 0.9642\n",
      "\n"
     ]
    },
    {
     "name": "stdout",
     "output_type": "stream",
     "text": [
      "Epoch 180, Loss 0.0393\n",
      "Training Accuracy: 0.9589, Testing Accuracy: 0.9642\n",
      "\n"
     ]
    },
    {
     "name": "stdout",
     "output_type": "stream",
     "text": [
      "Epoch 190, Loss 0.0388\n",
      "Training Accuracy: 0.9594, Testing Accuracy: 0.9647\n",
      "\n"
     ]
    },
    {
     "name": "stdout",
     "output_type": "stream",
     "text": [
      "Epoch 200, Loss 0.0384\n",
      "Training Accuracy: 0.9599, Testing Accuracy: 0.9647\n",
      "\n"
     ]
    },
    {
     "name": "stdout",
     "output_type": "stream",
     "text": [
      "Epoch 210, Loss 0.0379\n",
      "Training Accuracy: 0.9604, Testing Accuracy: 0.9652\n",
      "\n"
     ]
    },
    {
     "name": "stdout",
     "output_type": "stream",
     "text": [
      "Epoch 220, Loss 0.0375\n",
      "Training Accuracy: 0.9609, Testing Accuracy: 0.9662\n",
      "\n"
     ]
    },
    {
     "name": "stdout",
     "output_type": "stream",
     "text": [
      "Epoch 230, Loss 0.0371\n",
      "Training Accuracy: 0.9609, Testing Accuracy: 0.9652\n",
      "\n"
     ]
    },
    {
     "name": "stdout",
     "output_type": "stream",
     "text": [
      "Epoch 240, Loss 0.0368\n",
      "Training Accuracy: 0.9614, Testing Accuracy: 0.9657\n",
      "\n"
     ]
    },
    {
     "data": {
      "text/plain": [
       "0.028428155737094264"
      ]
     },
     "execution_count": 23,
     "metadata": {},
     "output_type": "execute_result"
    }
   ],
   "source": [
    "lr_learner.train_loop(dl)"
   ]
  },
  {
   "cell_type": "code",
   "execution_count": 24,
   "id": "ca410940",
   "metadata": {
    "execution": {
     "iopub.execute_input": "2021-11-23T20:10:11.547940Z",
     "iopub.status.busy": "2021-11-23T20:10:11.547308Z",
     "iopub.status.idle": "2021-11-23T20:10:11.785684Z",
     "shell.execute_reply": "2021-11-23T20:10:11.784510Z"
    },
    "papermill": {
     "duration": 0.291136,
     "end_time": "2021-11-23T20:10:11.785887",
     "exception": false,
     "start_time": "2021-11-23T20:10:11.494751",
     "status": "completed"
    },
    "tags": []
   },
   "outputs": [
    {
     "data": {
      "text/plain": [
       "<matplotlib.legend.Legend at 0x7f683256f908>"
      ]
     },
     "execution_count": 24,
     "metadata": {},
     "output_type": "execute_result"
    },
    {
     "data": {
      "image/png": "[encoded data removed]",
      "text/plain": [
       "<Figure size 1080x720 with 1 Axes>"
      ]
     },
     "metadata": {
      "needs_background": "light"
     },
     "output_type": "display_data"
    }
   ],
   "source": [
    "#comparing the results of NN and LR\n",
    "plt.figure(figsize=(15,10))\n",
    "\n",
    "# Neural Network plots\n",
    "plt.plot(acc_nn.accuracies, 'r-', label = \"Training Accuracies - NN\")\n",
    "plt.plot(acc_nn.test_accuracies, 'g-', label = \"Testing Accuracies - NN\")\n",
    "\n",
    "# Logistic Regression plots\n",
    "plt.plot(acc_lr.accuracies, 'k-', label = \"Training Accuracies - LR\")\n",
    "plt.plot(acc_lr.test_accuracies, 'b-', label = \"Testing Accuracies - LR\")\n",
    "plt.legend()"
   ]
  },
  {
   "cell_type": "markdown",
   "id": "80dfb35c",
   "metadata": {
    "papermill": {
     "duration": 0.042518,
     "end_time": "2021-11-23T20:10:11.873741",
     "exception": false,
     "start_time": "2021-11-23T20:10:11.831223",
     "status": "completed"
    },
    "tags": []
   },
   "source": [
    "#### Plotting the outputs of this layer of the NN.\n"
   ]
  },
  {
   "cell_type": "code",
   "execution_count": 25,
   "id": "45eb2ff5",
   "metadata": {
    "execution": {
     "iopub.execute_input": "2021-11-23T20:10:11.963589Z",
     "iopub.status.busy": "2021-11-23T20:10:11.963085Z",
     "iopub.status.idle": "2021-11-23T20:10:11.981944Z",
     "shell.execute_reply": "2021-11-23T20:10:11.982467Z"
    },
    "papermill": {
     "duration": 0.066933,
     "end_time": "2021-11-23T20:10:11.982623",
     "exception": false,
     "start_time": "2021-11-23T20:10:11.915690",
     "status": "completed"
    },
    "tags": []
   },
   "outputs": [],
   "source": [
    "new_model = Model(layers[:-2])\n",
    "testing_plot = new_model(testing_data_x)"
   ]
  },
  {
   "cell_type": "code",
   "execution_count": 26,
   "id": "4c0a5485",
   "metadata": {
    "execution": {
     "iopub.execute_input": "2021-11-23T20:10:12.082820Z",
     "iopub.status.busy": "2021-11-23T20:10:12.082194Z",
     "iopub.status.idle": "2021-11-23T20:10:12.288618Z",
     "shell.execute_reply": "2021-11-23T20:10:12.287788Z"
    },
    "papermill": {
     "duration": 0.262249,
     "end_time": "2021-11-23T20:10:12.288757",
     "exception": false,
     "start_time": "2021-11-23T20:10:12.026508",
     "status": "completed"
    },
    "tags": []
   },
   "outputs": [
    {
     "data": {
      "text/plain": [
       "Text(0.5, 1.0, 'Outputs')"
      ]
     },
     "execution_count": 26,
     "metadata": {},
     "output_type": "execute_result"
    },
    {
     "data": {
      "image/png": "[encoded data removed]",
      "text/plain": [
       "<Figure size 576x504 with 1 Axes>"
      ]
     },
     "metadata": {
      "needs_background": "light"
     },
     "output_type": "display_data"
    }
   ],
   "source": [
    "# Plotting the scatter plot of points and color coding by class\n",
    "plt.figure(figsize=(8,7))\n",
    "plt.scatter(testing_plot[:,0], testing_plot[:,1], alpha = 0.1, c = y_test.ravel());\n",
    "plt.title('Outputs')"
   ]
  },
  {
   "cell_type": "markdown",
   "id": "a74fcf8f",
   "metadata": {
    "papermill": {
     "duration": 0.044267,
     "end_time": "2021-11-23T20:10:12.378950",
     "exception": false,
     "start_time": "2021-11-23T20:10:12.334683",
     "status": "completed"
    },
    "tags": []
   },
   "source": [
    "Probability contours"
   ]
  },
  {
   "cell_type": "code",
   "execution_count": 27,
   "id": "d0afc8e3",
   "metadata": {
    "execution": {
     "iopub.execute_input": "2021-11-23T20:10:12.500186Z",
     "iopub.status.busy": "2021-11-23T20:10:12.499171Z",
     "iopub.status.idle": "2021-11-23T20:10:12.512833Z",
     "shell.execute_reply": "2021-11-23T20:10:12.512357Z"
    },
    "papermill": {
     "duration": 0.088646,
     "end_time": "2021-11-23T20:10:12.512934",
     "exception": false,
     "start_time": "2021-11-23T20:10:12.424288",
     "status": "completed"
    },
    "tags": []
   },
   "outputs": [],
   "source": [
    "model_prob = Model(layers[-2:]) "
   ]
  },
  {
   "cell_type": "code",
   "execution_count": 28,
   "id": "9b96e238",
   "metadata": {
    "execution": {
     "iopub.execute_input": "2021-11-23T20:10:12.606663Z",
     "iopub.status.busy": "2021-11-23T20:10:12.606072Z",
     "iopub.status.idle": "2021-11-23T20:10:12.621487Z",
     "shell.execute_reply": "2021-11-23T20:10:12.621941Z"
    },
    "papermill": {
     "duration": 0.063483,
     "end_time": "2021-11-23T20:10:12.622085",
     "exception": false,
     "start_time": "2021-11-23T20:10:12.558602",
     "status": "completed"
    },
    "tags": []
   },
   "outputs": [],
   "source": [
    "#creating the x and y ranges according to the above generated plot.\n",
    "x_range = np.linspace(-4, 1, 100) \n",
    "y_range = np.linspace(-6, 6, 100) \n",
    "x_grid, y_grid = np.meshgrid(x_range, y_range) # x_grid and y_grig are of size 100 X 100\n",
    "\n",
    "# converting x_grid and y_grid to continuous arrays\n",
    "x_gridflat = np.ravel(x_grid)\n",
    "y_gridflat = np.ravel(y_grid)\n",
    "\n",
    "# The last layer of the current model takes two columns as input. Hence transpose of np.vstack() is required.\n",
    "X = np.vstack((x_gridflat, y_gridflat)).T\n",
    "\n",
    "prob_contour = model_prob(X).reshape(100,100) "
   ]
  },
  {
   "cell_type": "code",
   "execution_count": 29,
   "id": "da72499a",
   "metadata": {
    "execution": {
     "iopub.execute_input": "2021-11-23T20:10:12.719489Z",
     "iopub.status.busy": "2021-11-23T20:10:12.718996Z",
     "iopub.status.idle": "2021-11-23T20:10:12.973709Z",
     "shell.execute_reply": "2021-11-23T20:10:12.974160Z"
    },
    "papermill": {
     "duration": 0.306962,
     "end_time": "2021-11-23T20:10:12.974325",
     "exception": false,
     "start_time": "2021-11-23T20:10:12.667363",
     "status": "completed"
    },
    "tags": []
   },
   "outputs": [
    {
     "data": {
      "image/png": "[encoded data removed]",
      "text/plain": [
       "<Figure size 720x648 with 1 Axes>"
      ]
     },
     "metadata": {
      "needs_background": "light"
     },
     "output_type": "display_data"
    }
   ],
   "source": [
    "plt.figure(figsize=(10,9))\n",
    "plt.scatter(testing_plot[:,0], testing_plot[:,1], alpha = 0.1, c = y_test.ravel())\n",
    "contours = plt.contour(x_grid,y_grid,prob_contour)\n",
    "plt.title('Probability Contours')\n",
    "plt.clabel(contours, inline = True );"
   ]
  },
  {
   "cell_type": "code",
   "execution_count": null,
   "id": "e81b4ac7",
   "metadata": {
    "papermill": {
     "duration": 0.046131,
     "end_time": "2021-11-23T20:10:13.070450",
     "exception": false,
     "start_time": "2021-11-23T20:10:13.024319",
     "status": "completed"
    },
    "tags": []
   },
   "outputs": [],
   "source": []
  }
 ],
 "metadata": {
  "kernelspec": {
   "display_name": "Python 3",
   "language": "python",
   "name": "python3"
  },
  "language_info": {
   "codemirror_mode": {
    "name": "ipython",
    "version": 3
   },
   "file_extension": ".py",
   "mimetype": "text/x-python",
   "name": "python",
   "nbconvert_exporter": "python",
   "pygments_lexer": "ipython3",
   "version": "3.6.15"
  },
  "papermill": {
   "default_parameters": {},
   "duration": 108.240347,
   "end_time": "2021-11-23T20:10:13.528537",
   "environment_variables": {},
   "exception": null,
   "input_path": "2020-08-11-part2.ipynb",
   "output_path": "2020-08-11-part2.ipynb",
   "parameters": {},
   "start_time": "2021-11-23T20:08:25.288190",
   "version": "2.3.3"
  }
 },
 "nbformat": 4,
 "nbformat_minor": 5
}