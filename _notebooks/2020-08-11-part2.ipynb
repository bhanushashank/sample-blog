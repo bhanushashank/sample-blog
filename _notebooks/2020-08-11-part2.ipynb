{
 "cells": [
  {
   "cell_type": "markdown",
   "id": "98380cd3",
   "metadata": {
    "papermill": {
     "duration": 0.035614,
     "end_time": "2022-11-20T10:10:44.879029",
     "exception": false,
     "start_time": "2022-11-20T10:10:44.843415",
     "status": "completed"
    },
    "tags": []
   },
   "source": [
    "# Distinguish Your Own Digits (DYOD)"
   ]
  },
  {
   "cell_type": "markdown",
   "id": "ef31240d",
   "metadata": {
    "papermill": {
     "duration": 0.027872,
     "end_time": "2022-11-20T10:10:44.935888",
     "exception": false,
     "start_time": "2022-11-20T10:10:44.908016",
     "status": "completed"
    },
    "tags": []
   },
   "source": [
    "You are going to write a classifier that distinguishes between the number 3 and number 8."
   ]
  },
  {
   "cell_type": "code",
   "execution_count": 1,
   "id": "b15c8646",
   "metadata": {
    "execution": {
     "iopub.execute_input": "2022-11-20T10:10:45.013015Z",
     "iopub.status.busy": "2022-11-20T10:10:45.004557Z",
     "iopub.status.idle": "2022-11-20T10:10:45.018661Z",
     "shell.execute_reply": "2022-11-20T10:10:45.019574Z"
    },
    "papermill": {
     "duration": 0.055798,
     "end_time": "2022-11-20T10:10:45.019747",
     "exception": false,
     "start_time": "2022-11-20T10:10:44.963949",
     "status": "completed"
    },
    "tags": []
   },
   "outputs": [],
   "source": [
    "%load_ext autoreload\n",
    "%autoreload 2"
   ]
  },
  {
   "cell_type": "code",
   "execution_count": 2,
   "id": "22ef38dc",
   "metadata": {
    "execution": {
     "iopub.execute_input": "2022-11-20T10:10:45.083284Z",
     "iopub.status.busy": "2022-11-20T10:10:45.082208Z",
     "iopub.status.idle": "2022-11-20T10:10:45.714197Z",
     "shell.execute_reply": "2022-11-20T10:10:45.713561Z"
    },
    "papermill": {
     "duration": 0.666531,
     "end_time": "2022-11-20T10:10:45.714348",
     "exception": false,
     "start_time": "2022-11-20T10:10:45.047817",
     "status": "completed"
    },
    "tags": []
   },
   "outputs": [],
   "source": [
    "%matplotlib inline\n",
    "import numpy as np\n",
    "import matplotlib.pyplot as plt\n",
    "import pandas as pd"
   ]
  },
  {
   "cell_type": "markdown",
   "id": "ba036198",
   "metadata": {
    "papermill": {
     "duration": 0.028814,
     "end_time": "2022-11-20T10:10:45.774384",
     "exception": false,
     "start_time": "2022-11-20T10:10:45.745570",
     "status": "completed"
    },
    "tags": []
   },
   "source": [
    "From the command line run `pip install mnist`. This is a library that will help you bring down the mnist dataset. If you run this from a notebook, you need to put  `!pip install mnist` in a cell by itself."
   ]
  },
  {
   "cell_type": "code",
   "execution_count": 3,
   "id": "bb6ad8a1",
   "metadata": {
    "execution": {
     "iopub.execute_input": "2022-11-20T10:10:45.835385Z",
     "iopub.status.busy": "2022-11-20T10:10:45.834607Z",
     "iopub.status.idle": "2022-11-20T10:10:47.695988Z",
     "shell.execute_reply": "2022-11-20T10:10:47.694894Z"
    },
    "papermill": {
     "duration": 1.893493,
     "end_time": "2022-11-20T10:10:47.696132",
     "exception": false,
     "start_time": "2022-11-20T10:10:45.802639",
     "status": "completed"
    },
    "tags": []
   },
   "outputs": [
    {
     "name": "stdout",
     "output_type": "stream",
     "text": [
      "Collecting mnist\r\n"
     ]
    },
    {
     "name": "stdout",
     "output_type": "stream",
     "text": [
      "  Downloading mnist-0.2.2-py2.py3-none-any.whl (3.5 kB)\r\n",
      "Requirement already satisfied: numpy in /opt/hostedtoolcache/Python/3.6.15/x64/lib/python3.6/site-packages (from mnist) (1.19.5)\r\n"
     ]
    },
    {
     "name": "stdout",
     "output_type": "stream",
     "text": [
      "Installing collected packages: mnist\r\n",
      "Successfully installed mnist-0.2.2\r\n"
     ]
    }
   ],
   "source": [
    "!pip install mnist"
   ]
  },
  {
   "cell_type": "markdown",
   "id": "69df9c9a",
   "metadata": {
    "papermill": {
     "duration": 0.030194,
     "end_time": "2022-11-20T10:10:47.757884",
     "exception": false,
     "start_time": "2022-11-20T10:10:47.727690",
     "status": "completed"
    },
    "tags": []
   },
   "source": [
    "## Preparing the Data"
   ]
  },
  {
   "cell_type": "code",
   "execution_count": 4,
   "id": "7f69d806",
   "metadata": {
    "execution": {
     "iopub.execute_input": "2022-11-20T10:10:47.825120Z",
     "iopub.status.busy": "2022-11-20T10:10:47.824401Z",
     "iopub.status.idle": "2022-11-20T10:10:47.839867Z",
     "shell.execute_reply": "2022-11-20T10:10:47.839273Z"
    },
    "papermill": {
     "duration": 0.052015,
     "end_time": "2022-11-20T10:10:47.839996",
     "exception": false,
     "start_time": "2022-11-20T10:10:47.787981",
     "status": "completed"
    },
    "tags": []
   },
   "outputs": [],
   "source": [
    "import mnist"
   ]
  },
  {
   "cell_type": "code",
   "execution_count": 5,
   "id": "a411e44f",
   "metadata": {
    "execution": {
     "iopub.execute_input": "2022-11-20T10:10:47.912631Z",
     "iopub.status.busy": "2022-11-20T10:10:47.908230Z",
     "iopub.status.idle": "2022-11-20T10:10:48.466075Z",
     "shell.execute_reply": "2022-11-20T10:10:48.465443Z"
    },
    "papermill": {
     "duration": 0.597294,
     "end_time": "2022-11-20T10:10:48.466238",
     "exception": false,
     "start_time": "2022-11-20T10:10:47.868944",
     "status": "completed"
    },
    "tags": []
   },
   "outputs": [],
   "source": [
    "train_images = mnist.train_images()\n",
    "train_labels = mnist.train_labels()"
   ]
  },
  {
   "cell_type": "code",
   "execution_count": 6,
   "id": "dceab3a5",
   "metadata": {
    "execution": {
     "iopub.execute_input": "2022-11-20T10:10:48.548859Z",
     "iopub.status.busy": "2022-11-20T10:10:48.544117Z",
     "iopub.status.idle": "2022-11-20T10:10:48.554723Z",
     "shell.execute_reply": "2022-11-20T10:10:48.555353Z"
    },
    "papermill": {
     "duration": 0.058689,
     "end_time": "2022-11-20T10:10:48.555512",
     "exception": false,
     "start_time": "2022-11-20T10:10:48.496823",
     "status": "completed"
    },
    "tags": []
   },
   "outputs": [
    {
     "data": {
      "text/plain": [
       "((60000, 28, 28), (60000,))"
      ]
     },
     "execution_count": 6,
     "metadata": {},
     "output_type": "execute_result"
    }
   ],
   "source": [
    "train_images.shape, train_labels.shape"
   ]
  },
  {
   "cell_type": "code",
   "execution_count": 7,
   "id": "f50dc2bb",
   "metadata": {
    "execution": {
     "iopub.execute_input": "2022-11-20T10:10:48.620737Z",
     "iopub.status.busy": "2022-11-20T10:10:48.620006Z",
     "iopub.status.idle": "2022-11-20T10:10:48.732823Z",
     "shell.execute_reply": "2022-11-20T10:10:48.733643Z"
    },
    "papermill": {
     "duration": 0.148135,
     "end_time": "2022-11-20T10:10:48.733823",
     "exception": false,
     "start_time": "2022-11-20T10:10:48.585688",
     "status": "completed"
    },
    "tags": []
   },
   "outputs": [],
   "source": [
    "test_images = mnist.test_images()\n",
    "test_labels = mnist.test_labels()"
   ]
  },
  {
   "cell_type": "code",
   "execution_count": 8,
   "id": "fc38cf1b",
   "metadata": {
    "execution": {
     "iopub.execute_input": "2022-11-20T10:10:48.812014Z",
     "iopub.status.busy": "2022-11-20T10:10:48.804734Z",
     "iopub.status.idle": "2022-11-20T10:10:48.817471Z",
     "shell.execute_reply": "2022-11-20T10:10:48.816843Z"
    },
    "papermill": {
     "duration": 0.052566,
     "end_time": "2022-11-20T10:10:48.817601",
     "exception": false,
     "start_time": "2022-11-20T10:10:48.765035",
     "status": "completed"
    },
    "tags": []
   },
   "outputs": [
    {
     "data": {
      "text/plain": [
       "((10000, 28, 28), (10000,))"
      ]
     },
     "execution_count": 8,
     "metadata": {},
     "output_type": "execute_result"
    }
   ],
   "source": [
    "test_images.shape, test_labels.shape"
   ]
  },
  {
   "cell_type": "code",
   "execution_count": 9,
   "id": "f9ed8fe0",
   "metadata": {
    "execution": {
     "iopub.execute_input": "2022-11-20T10:10:48.881108Z",
     "iopub.status.busy": "2022-11-20T10:10:48.880349Z",
     "iopub.status.idle": "2022-11-20T10:10:49.063740Z",
     "shell.execute_reply": "2022-11-20T10:10:49.062964Z"
    },
    "papermill": {
     "duration": 0.2168,
     "end_time": "2022-11-20T10:10:49.063874",
     "exception": false,
     "start_time": "2022-11-20T10:10:48.847074",
     "status": "completed"
    },
    "tags": []
   },
   "outputs": [
    {
     "name": "stdout",
     "output_type": "stream",
     "text": [
      "2\n"
     ]
    },
    {
     "data": {
      "text/plain": [
       "<matplotlib.image.AxesImage at 0x7eff826dedd8>"
      ]
     },
     "execution_count": 9,
     "metadata": {},
     "output_type": "execute_result"
    },
    {
     "data": {
      "image/png": "[encoded data removed]",
      "text/plain": [
       "<Figure size 432x288 with 1 Axes>"
      ]
     },
     "metadata": {
      "needs_background": "light"
     },
     "output_type": "display_data"
    }
   ],
   "source": [
    "image_index = 7776 # You may select anything up to 60,000\n",
    "print(train_labels[image_index]) \n",
    "plt.imshow(train_images[image_index], cmap='Greys')"
   ]
  },
  {
   "cell_type": "markdown",
   "id": "a8d2388d",
   "metadata": {
    "papermill": {
     "duration": 0.031566,
     "end_time": "2022-11-20T10:10:49.128464",
     "exception": false,
     "start_time": "2022-11-20T10:10:49.096898",
     "status": "completed"
    },
    "tags": []
   },
   "source": [
    "## Filter data to get 3 and 8 out"
   ]
  },
  {
   "cell_type": "code",
   "execution_count": 10,
   "id": "776f7fc7",
   "metadata": {
    "execution": {
     "iopub.execute_input": "2022-11-20T10:10:49.196041Z",
     "iopub.status.busy": "2022-11-20T10:10:49.195297Z",
     "iopub.status.idle": "2022-11-20T10:10:49.216874Z",
     "shell.execute_reply": "2022-11-20T10:10:49.217412Z"
    },
    "papermill": {
     "duration": 0.057943,
     "end_time": "2022-11-20T10:10:49.217987",
     "exception": false,
     "start_time": "2022-11-20T10:10:49.160044",
     "status": "completed"
    },
    "tags": []
   },
   "outputs": [],
   "source": [
    "train_filter = np.where((train_labels == 3 ) | (train_labels == 8))\n",
    "test_filter = np.where((test_labels == 3) | (test_labels == 8))\n",
    "X_train, y_train = train_images[train_filter], train_labels[train_filter]\n",
    "X_test, y_test = test_images[test_filter], test_labels[test_filter]"
   ]
  },
  {
   "cell_type": "markdown",
   "id": "948f0b7e",
   "metadata": {
    "papermill": {
     "duration": 0.032201,
     "end_time": "2022-11-20T10:10:49.281707",
     "exception": false,
     "start_time": "2022-11-20T10:10:49.249506",
     "status": "completed"
    },
    "tags": []
   },
   "source": [
    "We normalize the pizel values in the 0 to 1 range"
   ]
  },
  {
   "cell_type": "code",
   "execution_count": 11,
   "id": "ee4c2166",
   "metadata": {
    "execution": {
     "iopub.execute_input": "2022-11-20T10:10:49.348942Z",
     "iopub.status.busy": "2022-11-20T10:10:49.348077Z",
     "iopub.status.idle": "2022-11-20T10:10:49.412400Z",
     "shell.execute_reply": "2022-11-20T10:10:49.411779Z"
    },
    "papermill": {
     "duration": 0.100322,
     "end_time": "2022-11-20T10:10:49.412584",
     "exception": false,
     "start_time": "2022-11-20T10:10:49.312262",
     "status": "completed"
    },
    "tags": []
   },
   "outputs": [],
   "source": [
    "X_train = X_train/255.\n",
    "X_test = X_test/255."
   ]
  },
  {
   "cell_type": "markdown",
   "id": "ddcf4fab",
   "metadata": {
    "papermill": {
     "duration": 0.031895,
     "end_time": "2022-11-20T10:10:49.476714",
     "exception": false,
     "start_time": "2022-11-20T10:10:49.444819",
     "status": "completed"
    },
    "tags": []
   },
   "source": [
    "And setup the labels as 1 (when the digit is 3) and 0 (when the digit is 8)"
   ]
  },
  {
   "cell_type": "code",
   "execution_count": 12,
   "id": "7dc908f2",
   "metadata": {
    "execution": {
     "iopub.execute_input": "2022-11-20T10:10:49.555113Z",
     "iopub.status.busy": "2022-11-20T10:10:49.553183Z",
     "iopub.status.idle": "2022-11-20T10:10:49.564685Z",
     "shell.execute_reply": "2022-11-20T10:10:49.565559Z"
    },
    "papermill": {
     "duration": 0.056576,
     "end_time": "2022-11-20T10:10:49.565721",
     "exception": false,
     "start_time": "2022-11-20T10:10:49.509145",
     "status": "completed"
    },
    "tags": []
   },
   "outputs": [],
   "source": [
    "y_train = 1*(y_train==3)\n",
    "y_test = 1*(y_test==3)"
   ]
  },
  {
   "cell_type": "code",
   "execution_count": 13,
   "id": "01e4e969",
   "metadata": {
    "execution": {
     "iopub.execute_input": "2022-11-20T10:10:49.642238Z",
     "iopub.status.busy": "2022-11-20T10:10:49.639104Z",
     "iopub.status.idle": "2022-11-20T10:10:49.656464Z",
     "shell.execute_reply": "2022-11-20T10:10:49.655904Z"
    },
    "papermill": {
     "duration": 0.05433,
     "end_time": "2022-11-20T10:10:49.656597",
     "exception": false,
     "start_time": "2022-11-20T10:10:49.602267",
     "status": "completed"
    },
    "tags": []
   },
   "outputs": [
    {
     "data": {
      "text/plain": [
       "((11982, 28, 28), (1984, 28, 28))"
      ]
     },
     "execution_count": 13,
     "metadata": {},
     "output_type": "execute_result"
    }
   ],
   "source": [
    "X_train.shape, X_test.shape"
   ]
  },
  {
   "cell_type": "markdown",
   "id": "5ccf3f85",
   "metadata": {
    "papermill": {
     "duration": 0.031649,
     "end_time": "2022-11-20T10:10:49.719965",
     "exception": false,
     "start_time": "2022-11-20T10:10:49.688316",
     "status": "completed"
    },
    "tags": []
   },
   "source": [
    "We reshape the data to flatten the image pixels into a set of features or co-variates:"
   ]
  },
  {
   "cell_type": "code",
   "execution_count": 14,
   "id": "5286a4a3",
   "metadata": {
    "execution": {
     "iopub.execute_input": "2022-11-20T10:10:49.787849Z",
     "iopub.status.busy": "2022-11-20T10:10:49.787096Z",
     "iopub.status.idle": "2022-11-20T10:10:49.801974Z",
     "shell.execute_reply": "2022-11-20T10:10:49.802538Z"
    },
    "papermill": {
     "duration": 0.050833,
     "end_time": "2022-11-20T10:10:49.802683",
     "exception": false,
     "start_time": "2022-11-20T10:10:49.751850",
     "status": "completed"
    },
    "tags": []
   },
   "outputs": [
    {
     "data": {
      "text/plain": [
       "((11982, 784), (1984, 784))"
      ]
     },
     "execution_count": 14,
     "metadata": {},
     "output_type": "execute_result"
    }
   ],
   "source": [
    "X_train = X_train.reshape(X_train.shape[0], -1)\n",
    "X_test = X_test.reshape(X_test.shape[0], -1)\n",
    "X_train.shape, X_test.shape"
   ]
  },
  {
   "cell_type": "code",
   "execution_count": 15,
   "id": "73c5f88a",
   "metadata": {
    "execution": {
     "iopub.execute_input": "2022-11-20T10:10:49.873501Z",
     "iopub.status.busy": "2022-11-20T10:10:49.872749Z",
     "iopub.status.idle": "2022-11-20T10:10:49.897854Z",
     "shell.execute_reply": "2022-11-20T10:10:49.898427Z"
    },
    "papermill": {
     "duration": 0.062604,
     "end_time": "2022-11-20T10:10:49.898572",
     "exception": false,
     "start_time": "2022-11-20T10:10:49.835968",
     "status": "completed"
    },
    "tags": []
   },
   "outputs": [],
   "source": [
    "#Impoting functions from 'Kudzu'\n",
    "from kudzu.model import Model\n",
    "from kudzu.train import Learner\n",
    "from kudzu.optim import GD\n",
    "from kudzu.data import Data, Sampler,Dataloader\n",
    "\n",
    "from kudzu.callbacks import AccCallback\n",
    "from kudzu.callbacks import ClfCallback\n",
    "\n",
    "from kudzu.loss import MSE\n",
    "\n",
    "from kudzu.layer import Sigmoid,Relu\n",
    "from kudzu.layer import Affine"
   ]
  },
  {
   "cell_type": "markdown",
   "id": "bc01172a",
   "metadata": {
    "papermill": {
     "duration": 0.031286,
     "end_time": "2022-11-20T10:10:49.963124",
     "exception": false,
     "start_time": "2022-11-20T10:10:49.931838",
     "status": "completed"
    },
    "tags": []
   },
   "source": [
    "### Let us create a `Config` class, to store important parameters. \n",
    "This class essentially plays the role of a dictionary."
   ]
  },
  {
   "cell_type": "code",
   "execution_count": 16,
   "id": "978281aa",
   "metadata": {
    "execution": {
     "iopub.execute_input": "2022-11-20T10:10:50.035269Z",
     "iopub.status.busy": "2022-11-20T10:10:50.034450Z",
     "iopub.status.idle": "2022-11-20T10:10:50.048183Z",
     "shell.execute_reply": "2022-11-20T10:10:50.048805Z"
    },
    "papermill": {
     "duration": 0.05412,
     "end_time": "2022-11-20T10:10:50.048953",
     "exception": false,
     "start_time": "2022-11-20T10:10:49.994833",
     "status": "completed"
    },
    "tags": []
   },
   "outputs": [],
   "source": [
    "class Config:\n",
    "    pass\n",
    "config = Config()\n",
    "config.lr = 0.001\n",
    "config.num_epochs = 250\n",
    "config.bs = 50"
   ]
  },
  {
   "cell_type": "markdown",
   "id": "1385fa59",
   "metadata": {
    "papermill": {
     "duration": 0.033852,
     "end_time": "2022-11-20T10:10:50.116398",
     "exception": false,
     "start_time": "2022-11-20T10:10:50.082546",
     "status": "completed"
    },
    "tags": []
   },
   "source": [
    "### Running Models with the Training data\n",
    "Details about the network layers:\n",
    "- A first affine layer has 784 inputs and does 100 affine transforms. These are followed by a Relu\n",
    "- A second affine layer has 100 inputs from the 100 activations of the past layer, and does 100 affine transforms. These are followed by a Relu\n",
    "- A third affine layer has 100 activations and does 2 affine transformations to create an embedding for visualization. There is no non-linearity here.\n",
    "- A final \"logistic regression\" which has an affine transform from 2 inputs to 1 output, which is squeezed through a sigmoid.\n"
   ]
  },
  {
   "cell_type": "code",
   "execution_count": 17,
   "id": "2b9c66db",
   "metadata": {
    "execution": {
     "iopub.execute_input": "2022-11-20T10:10:50.190261Z",
     "iopub.status.busy": "2022-11-20T10:10:50.189521Z",
     "iopub.status.idle": "2022-11-20T10:10:50.202978Z",
     "shell.execute_reply": "2022-11-20T10:10:50.203548Z"
    },
    "papermill": {
     "duration": 0.052411,
     "end_time": "2022-11-20T10:10:50.203727",
     "exception": false,
     "start_time": "2022-11-20T10:10:50.151316",
     "status": "completed"
    },
    "tags": []
   },
   "outputs": [],
   "source": [
    "data = Data(X_train, y_train.reshape(-1,1))\n",
    "sampler = Sampler(data, config.bs, shuffle=True)\n",
    "\n",
    "dl = Dataloader(data, sampler)\n",
    "\n",
    "opt = GD(config.lr)\n",
    "loss = MSE()"
   ]
  },
  {
   "cell_type": "code",
   "execution_count": 18,
   "id": "b275e4c2",
   "metadata": {
    "execution": {
     "iopub.execute_input": "2022-11-20T10:10:50.271113Z",
     "iopub.status.busy": "2022-11-20T10:10:50.270365Z",
     "iopub.status.idle": "2022-11-20T10:10:50.285791Z",
     "shell.execute_reply": "2022-11-20T10:10:50.286412Z"
    },
    "papermill": {
     "duration": 0.050484,
     "end_time": "2022-11-20T10:10:50.286567",
     "exception": false,
     "start_time": "2022-11-20T10:10:50.236083",
     "status": "completed"
    },
    "tags": []
   },
   "outputs": [],
   "source": [
    "training_data_x = X_train\n",
    "testing_data_x = X_test\n",
    "training_data_y = y_train.reshape(-1,1)\n",
    "testing_data_y = y_test.reshape(-1,1)"
   ]
  },
  {
   "cell_type": "code",
   "execution_count": 19,
   "id": "76951160",
   "metadata": {
    "execution": {
     "iopub.execute_input": "2022-11-20T10:10:50.357283Z",
     "iopub.status.busy": "2022-11-20T10:10:50.356570Z",
     "iopub.status.idle": "2022-11-20T10:10:50.375529Z",
     "shell.execute_reply": "2022-11-20T10:10:50.374932Z"
    },
    "papermill": {
     "duration": 0.056943,
     "end_time": "2022-11-20T10:10:50.375660",
     "exception": false,
     "start_time": "2022-11-20T10:10:50.318717",
     "status": "completed"
    },
    "tags": []
   },
   "outputs": [
    {
     "name": "stdout",
     "output_type": "stream",
     "text": [
      "xavier\n",
      "xavier\n",
      "xavier\n",
      "xavier\n",
      "xavier\n"
     ]
    }
   ],
   "source": [
    "layers = [Affine(\"first\", 784, 100), Relu(\"first\"), Affine(\"second\", 100, 100), Relu(\"second\"), Affine(\"third\", 100, 2), Affine(\"last\", 2, 1), Sigmoid(\"last\")]\n",
    "model_nn = Model(layers)\n",
    "model_lr = Model([Affine(\"logits\", 784, 1), Sigmoid(\"sigmoid\")])"
   ]
  },
  {
   "cell_type": "code",
   "execution_count": 20,
   "id": "6eede77a",
   "metadata": {
    "execution": {
     "iopub.execute_input": "2022-11-20T10:10:50.444958Z",
     "iopub.status.busy": "2022-11-20T10:10:50.444221Z",
     "iopub.status.idle": "2022-11-20T10:10:50.457882Z",
     "shell.execute_reply": "2022-11-20T10:10:50.457244Z"
    },
    "papermill": {
     "duration": 0.050202,
     "end_time": "2022-11-20T10:10:50.457996",
     "exception": false,
     "start_time": "2022-11-20T10:10:50.407794",
     "status": "completed"
    },
    "tags": []
   },
   "outputs": [],
   "source": [
    "nn_learner = Learner(loss, model_nn, opt, config.num_epochs)\n",
    "acc_nn = ClfCallback(nn_learner, config.bs, training_data_x , testing_data_x, training_data_y, testing_data_y)\n",
    "nn_learner.set_callbacks([acc_nn])"
   ]
  },
  {
   "cell_type": "code",
   "execution_count": 21,
   "id": "877b6cc7",
   "metadata": {
    "execution": {
     "iopub.execute_input": "2022-11-20T10:10:50.529027Z",
     "iopub.status.busy": "2022-11-20T10:10:50.528294Z",
     "iopub.status.idle": "2022-11-20T10:10:50.541203Z",
     "shell.execute_reply": "2022-11-20T10:10:50.540572Z"
    },
    "papermill": {
     "duration": 0.05153,
     "end_time": "2022-11-20T10:10:50.541331",
     "exception": false,
     "start_time": "2022-11-20T10:10:50.489801",
     "status": "completed"
    },
    "tags": []
   },
   "outputs": [],
   "source": [
    "lr_learner = Learner(loss, model_lr, opt, config.num_epochs)\n",
    "acc_lr = ClfCallback(lr_learner, config.bs, training_data_x , testing_data_x, training_data_y, testing_data_y)\n",
    "lr_learner.set_callbacks([acc_lr])"
   ]
  },
  {
   "cell_type": "code",
   "execution_count": 22,
   "id": "d9b133c3",
   "metadata": {
    "execution": {
     "iopub.execute_input": "2022-11-20T10:10:50.618974Z",
     "iopub.status.busy": "2022-11-20T10:10:50.618253Z",
     "iopub.status.idle": "2022-11-20T10:12:55.884900Z",
     "shell.execute_reply": "2022-11-20T10:12:55.885961Z"
    },
    "papermill": {
     "duration": 125.312578,
     "end_time": "2022-11-20T10:12:55.886129",
     "exception": false,
     "start_time": "2022-11-20T10:10:50.573551",
     "status": "completed"
    },
    "tags": []
   },
   "outputs": [
    {
     "name": "stdout",
     "output_type": "stream",
     "text": [
      "Epoch 0, Loss 0.2475\n",
      "Training Accuracy: 0.6391, Testing Accuracy: 0.6588\n",
      "\n"
     ]
    },
    {
     "name": "stdout",
     "output_type": "stream",
     "text": [
      "Epoch 10, Loss 0.1101\n",
      "Training Accuracy: 0.8964, Testing Accuracy: 0.9068\n",
      "\n"
     ]
    },
    {
     "name": "stdout",
     "output_type": "stream",
     "text": [
      "Epoch 20, Loss 0.0631\n",
      "Training Accuracy: 0.9339, Testing Accuracy: 0.9435\n",
      "\n"
     ]
    },
    {
     "name": "stdout",
     "output_type": "stream",
     "text": [
      "Epoch 30, Loss 0.0475\n",
      "Training Accuracy: 0.9467, Testing Accuracy: 0.9551\n",
      "\n"
     ]
    },
    {
     "name": "stdout",
     "output_type": "stream",
     "text": [
      "Epoch 40, Loss 0.0401\n",
      "Training Accuracy: 0.9552, Testing Accuracy: 0.9642\n",
      "\n"
     ]
    },
    {
     "name": "stdout",
     "output_type": "stream",
     "text": [
      "Epoch 50, Loss 0.0358\n",
      "Training Accuracy: 0.9597, Testing Accuracy: 0.9672\n",
      "\n"
     ]
    },
    {
     "name": "stdout",
     "output_type": "stream",
     "text": [
      "Epoch 60, Loss 0.033\n",
      "Training Accuracy: 0.9625, Testing Accuracy: 0.9677\n",
      "\n"
     ]
    },
    {
     "name": "stdout",
     "output_type": "stream",
     "text": [
      "Epoch 70, Loss 0.0309\n",
      "Training Accuracy: 0.9645, Testing Accuracy: 0.9698\n",
      "\n"
     ]
    },
    {
     "name": "stdout",
     "output_type": "stream",
     "text": [
      "Epoch 80, Loss 0.0293\n",
      "Training Accuracy: 0.9668, Testing Accuracy: 0.9713\n",
      "\n"
     ]
    },
    {
     "name": "stdout",
     "output_type": "stream",
     "text": [
      "Epoch 90, Loss 0.028\n",
      "Training Accuracy: 0.9685, Testing Accuracy: 0.9718\n",
      "\n"
     ]
    },
    {
     "name": "stdout",
     "output_type": "stream",
     "text": [
      "Epoch 100, Loss 0.0268\n",
      "Training Accuracy: 0.9694, Testing Accuracy: 0.9723\n",
      "\n"
     ]
    },
    {
     "name": "stdout",
     "output_type": "stream",
     "text": [
      "Epoch 110, Loss 0.0259\n",
      "Training Accuracy: 0.9707, Testing Accuracy: 0.9728\n",
      "\n"
     ]
    },
    {
     "name": "stdout",
     "output_type": "stream",
     "text": [
      "Epoch 120, Loss 0.025\n",
      "Training Accuracy: 0.9718, Testing Accuracy: 0.9718\n",
      "\n"
     ]
    },
    {
     "name": "stdout",
     "output_type": "stream",
     "text": [
      "Epoch 130, Loss 0.0243\n",
      "Training Accuracy: 0.9726, Testing Accuracy: 0.9713\n",
      "\n"
     ]
    },
    {
     "name": "stdout",
     "output_type": "stream",
     "text": [
      "Epoch 140, Loss 0.0236\n",
      "Training Accuracy: 0.9730, Testing Accuracy: 0.9728\n",
      "\n"
     ]
    },
    {
     "name": "stdout",
     "output_type": "stream",
     "text": [
      "Epoch 150, Loss 0.0229\n",
      "Training Accuracy: 0.9735, Testing Accuracy: 0.9733\n",
      "\n"
     ]
    },
    {
     "name": "stdout",
     "output_type": "stream",
     "text": [
      "Epoch 160, Loss 0.0223\n",
      "Training Accuracy: 0.9741, Testing Accuracy: 0.9728\n",
      "\n"
     ]
    },
    {
     "name": "stdout",
     "output_type": "stream",
     "text": [
      "Epoch 170, Loss 0.0218\n",
      "Training Accuracy: 0.9750, Testing Accuracy: 0.9733\n",
      "\n"
     ]
    },
    {
     "name": "stdout",
     "output_type": "stream",
     "text": [
      "Epoch 180, Loss 0.0213\n",
      "Training Accuracy: 0.9756, Testing Accuracy: 0.9733\n",
      "\n"
     ]
    },
    {
     "name": "stdout",
     "output_type": "stream",
     "text": [
      "Epoch 190, Loss 0.0208\n",
      "Training Accuracy: 0.9763, Testing Accuracy: 0.9738\n",
      "\n"
     ]
    },
    {
     "name": "stdout",
     "output_type": "stream",
     "text": [
      "Epoch 200, Loss 0.0203\n",
      "Training Accuracy: 0.9771, Testing Accuracy: 0.9743\n",
      "\n"
     ]
    },
    {
     "name": "stdout",
     "output_type": "stream",
     "text": [
      "Epoch 210, Loss 0.0199\n",
      "Training Accuracy: 0.9777, Testing Accuracy: 0.9743\n",
      "\n"
     ]
    },
    {
     "name": "stdout",
     "output_type": "stream",
     "text": [
      "Epoch 220, Loss 0.0195\n",
      "Training Accuracy: 0.9785, Testing Accuracy: 0.9738\n",
      "\n"
     ]
    },
    {
     "name": "stdout",
     "output_type": "stream",
     "text": [
      "Epoch 230, Loss 0.019\n",
      "Training Accuracy: 0.9791, Testing Accuracy: 0.9748\n",
      "\n"
     ]
    },
    {
     "name": "stdout",
     "output_type": "stream",
     "text": [
      "Epoch 240, Loss 0.0186\n",
      "Training Accuracy: 0.9796, Testing Accuracy: 0.9748\n",
      "\n"
     ]
    },
    {
     "data": {
      "text/plain": [
       "0.010246235128753153"
      ]
     },
     "execution_count": 22,
     "metadata": {},
     "output_type": "execute_result"
    }
   ],
   "source": [
    "nn_learner.train_loop(dl)"
   ]
  },
  {
   "cell_type": "code",
   "execution_count": 23,
   "id": "e0163366",
   "metadata": {
    "execution": {
     "iopub.execute_input": "2022-11-20T10:12:55.989393Z",
     "iopub.status.busy": "2022-11-20T10:12:55.988666Z",
     "iopub.status.idle": "2022-11-20T10:13:14.089053Z",
     "shell.execute_reply": "2022-11-20T10:13:14.090303Z"
    },
    "papermill": {
     "duration": 18.15858,
     "end_time": "2022-11-20T10:13:14.090471",
     "exception": false,
     "start_time": "2022-11-20T10:12:55.931891",
     "status": "completed"
    },
    "tags": []
   },
   "outputs": [
    {
     "name": "stdout",
     "output_type": "stream",
     "text": [
      "Epoch 0, Loss 0.243\n",
      "Training Accuracy: 0.6871, Testing Accuracy: 0.7177\n",
      "\n"
     ]
    },
    {
     "name": "stdout",
     "output_type": "stream",
     "text": [
      "Epoch 10, Loss 0.1048\n",
      "Training Accuracy: 0.9048, Testing Accuracy: 0.9168\n",
      "\n"
     ]
    },
    {
     "name": "stdout",
     "output_type": "stream",
     "text": [
      "Epoch 20, Loss 0.0804\n",
      "Training Accuracy: 0.9272, Testing Accuracy: 0.9355\n",
      "\n"
     ]
    },
    {
     "name": "stdout",
     "output_type": "stream",
     "text": [
      "Epoch 30, Loss 0.0689\n",
      "Training Accuracy: 0.9349, Testing Accuracy: 0.9456\n",
      "\n"
     ]
    },
    {
     "name": "stdout",
     "output_type": "stream",
     "text": [
      "Epoch 40, Loss 0.0621\n",
      "Training Accuracy: 0.9407, Testing Accuracy: 0.9516\n",
      "\n"
     ]
    },
    {
     "name": "stdout",
     "output_type": "stream",
     "text": [
      "Epoch 50, Loss 0.0574\n",
      "Training Accuracy: 0.9453, Testing Accuracy: 0.9541\n",
      "\n"
     ]
    },
    {
     "name": "stdout",
     "output_type": "stream",
     "text": [
      "Epoch 60, Loss 0.054\n",
      "Training Accuracy: 0.9480, Testing Accuracy: 0.9592\n",
      "\n"
     ]
    },
    {
     "name": "stdout",
     "output_type": "stream",
     "text": [
      "Epoch 70, Loss 0.0514\n",
      "Training Accuracy: 0.9490, Testing Accuracy: 0.9607\n",
      "\n"
     ]
    },
    {
     "name": "stdout",
     "output_type": "stream",
     "text": [
      "Epoch 80, Loss 0.0493\n",
      "Training Accuracy: 0.9503, Testing Accuracy: 0.9612\n",
      "\n"
     ]
    },
    {
     "name": "stdout",
     "output_type": "stream",
     "text": [
      "Epoch 90, Loss 0.0476\n",
      "Training Accuracy: 0.9513, Testing Accuracy: 0.9617\n",
      "\n"
     ]
    },
    {
     "name": "stdout",
     "output_type": "stream",
     "text": [
      "Epoch 100, Loss 0.0461\n",
      "Training Accuracy: 0.9526, Testing Accuracy: 0.9627\n",
      "\n"
     ]
    },
    {
     "name": "stdout",
     "output_type": "stream",
     "text": [
      "Epoch 110, Loss 0.0449\n",
      "Training Accuracy: 0.9533, Testing Accuracy: 0.9642\n",
      "\n"
     ]
    },
    {
     "name": "stdout",
     "output_type": "stream",
     "text": [
      "Epoch 120, Loss 0.0438\n",
      "Training Accuracy: 0.9547, Testing Accuracy: 0.9647\n",
      "\n"
     ]
    },
    {
     "name": "stdout",
     "output_type": "stream",
     "text": [
      "Epoch 130, Loss 0.0429\n",
      "Training Accuracy: 0.9560, Testing Accuracy: 0.9652\n",
      "\n"
     ]
    },
    {
     "name": "stdout",
     "output_type": "stream",
     "text": [
      "Epoch 140, Loss 0.0421\n",
      "Training Accuracy: 0.9567, Testing Accuracy: 0.9652\n",
      "\n"
     ]
    },
    {
     "name": "stdout",
     "output_type": "stream",
     "text": [
      "Epoch 150, Loss 0.0413\n",
      "Training Accuracy: 0.9572, Testing Accuracy: 0.9657\n",
      "\n"
     ]
    },
    {
     "name": "stdout",
     "output_type": "stream",
     "text": [
      "Epoch 160, Loss 0.0406\n",
      "Training Accuracy: 0.9577, Testing Accuracy: 0.9667\n",
      "\n"
     ]
    },
    {
     "name": "stdout",
     "output_type": "stream",
     "text": [
      "Epoch 170, Loss 0.04\n",
      "Training Accuracy: 0.9579, Testing Accuracy: 0.9662\n",
      "\n"
     ]
    },
    {
     "name": "stdout",
     "output_type": "stream",
     "text": [
      "Epoch 180, Loss 0.0395\n",
      "Training Accuracy: 0.9582, Testing Accuracy: 0.9657\n",
      "\n"
     ]
    },
    {
     "name": "stdout",
     "output_type": "stream",
     "text": [
      "Epoch 190, Loss 0.0389\n",
      "Training Accuracy: 0.9587, Testing Accuracy: 0.9657\n",
      "\n"
     ]
    },
    {
     "name": "stdout",
     "output_type": "stream",
     "text": [
      "Epoch 200, Loss 0.0385\n",
      "Training Accuracy: 0.9594, Testing Accuracy: 0.9657\n",
      "\n"
     ]
    },
    {
     "name": "stdout",
     "output_type": "stream",
     "text": [
      "Epoch 210, Loss 0.038\n",
      "Training Accuracy: 0.9595, Testing Accuracy: 0.9657\n",
      "\n"
     ]
    },
    {
     "name": "stdout",
     "output_type": "stream",
     "text": [
      "Epoch 220, Loss 0.0376\n",
      "Training Accuracy: 0.9599, Testing Accuracy: 0.9662\n",
      "\n"
     ]
    },
    {
     "name": "stdout",
     "output_type": "stream",
     "text": [
      "Epoch 230, Loss 0.0372\n",
      "Training Accuracy: 0.9598, Testing Accuracy: 0.9662\n",
      "\n"
     ]
    },
    {
     "name": "stdout",
     "output_type": "stream",
     "text": [
      "Epoch 240, Loss 0.0369\n",
      "Training Accuracy: 0.9600, Testing Accuracy: 0.9667\n",
      "\n"
     ]
    },
    {
     "data": {
      "text/plain": [
       "0.020853422572881836"
      ]
     },
     "execution_count": 23,
     "metadata": {},
     "output_type": "execute_result"
    }
   ],
   "source": [
    "lr_learner.train_loop(dl)"
   ]
  },
  {
   "cell_type": "code",
   "execution_count": 24,
   "id": "ca410940",
   "metadata": {
    "execution": {
     "iopub.execute_input": "2022-11-20T10:13:14.203582Z",
     "iopub.status.busy": "2022-11-20T10:13:14.202776Z",
     "iopub.status.idle": "2022-11-20T10:13:14.498093Z",
     "shell.execute_reply": "2022-11-20T10:13:14.497479Z"
    },
    "papermill": {
     "duration": 0.355542,
     "end_time": "2022-11-20T10:13:14.498226",
     "exception": false,
     "start_time": "2022-11-20T10:13:14.142684",
     "status": "completed"
    },
    "tags": []
   },
   "outputs": [
    {
     "data": {
      "text/plain": [
       "<matplotlib.legend.Legend at 0x7eff8224a550>"
      ]
     },
     "execution_count": 24,
     "metadata": {},
     "output_type": "execute_result"
    },
    {
     "data": {
      "image/png": "[encoded data removed]",
      "text/plain": [
       "<Figure size 1080x720 with 1 Axes>"
      ]
     },
     "metadata": {
      "needs_background": "light"
     },
     "output_type": "display_data"
    }
   ],
   "source": [
    "#comparing the results of NN and LR\n",
    "plt.figure(figsize=(15,10))\n",
    "\n",
    "# Neural Network plots\n",
    "plt.plot(acc_nn.accuracies, 'r-', label = \"Training Accuracies - NN\")\n",
    "plt.plot(acc_nn.test_accuracies, 'g-', label = \"Testing Accuracies - NN\")\n",
    "\n",
    "# Logistic Regression plots\n",
    "plt.plot(acc_lr.accuracies, 'k-', label = \"Training Accuracies - LR\")\n",
    "plt.plot(acc_lr.test_accuracies, 'b-', label = \"Testing Accuracies - LR\")\n",
    "plt.legend()"
   ]
  },
  {
   "cell_type": "markdown",
   "id": "80dfb35c",
   "metadata": {
    "papermill": {
     "duration": 0.049933,
     "end_time": "2022-11-20T10:13:14.600362",
     "exception": false,
     "start_time": "2022-11-20T10:13:14.550429",
     "status": "completed"
    },
    "tags": []
   },
   "source": [
    "#### Plotting the outputs of this layer of the NN.\n"
   ]
  },
  {
   "cell_type": "code",
   "execution_count": 25,
   "id": "45eb2ff5",
   "metadata": {
    "execution": {
     "iopub.execute_input": "2022-11-20T10:13:14.708090Z",
     "iopub.status.busy": "2022-11-20T10:13:14.707316Z",
     "iopub.status.idle": "2022-11-20T10:13:14.734245Z",
     "shell.execute_reply": "2022-11-20T10:13:14.735146Z"
    },
    "papermill": {
     "duration": 0.084857,
     "end_time": "2022-11-20T10:13:14.735738",
     "exception": false,
     "start_time": "2022-11-20T10:13:14.650881",
     "status": "completed"
    },
    "tags": []
   },
   "outputs": [],
   "source": [
    "new_model = Model(layers[:-2])\n",
    "testing_plot = new_model(testing_data_x)"
   ]
  },
  {
   "cell_type": "code",
   "execution_count": 26,
   "id": "4c0a5485",
   "metadata": {
    "execution": {
     "iopub.execute_input": "2022-11-20T10:13:14.858109Z",
     "iopub.status.busy": "2022-11-20T10:13:14.856826Z",
     "iopub.status.idle": "2022-11-20T10:13:15.102421Z",
     "shell.execute_reply": "2022-11-20T10:13:15.103036Z"
    },
    "papermill": {
     "duration": 0.312294,
     "end_time": "2022-11-20T10:13:15.103194",
     "exception": false,
     "start_time": "2022-11-20T10:13:14.790900",
     "status": "completed"
    },
    "tags": []
   },
   "outputs": [
    {
     "data": {
      "text/plain": [
       "Text(0.5, 1.0, 'Outputs')"
      ]
     },
     "execution_count": 26,
     "metadata": {},
     "output_type": "execute_result"
    },
    {
     "data": {
      "image/png": "[encoded data removed]",
      "text/plain": [
       "<Figure size 576x504 with 1 Axes>"
      ]
     },
     "metadata": {
      "needs_background": "light"
     },
     "output_type": "display_data"
    }
   ],
   "source": [
    "# Plotting the scatter plot of points and color coding by class\n",
    "plt.figure(figsize=(8,7))\n",
    "plt.scatter(testing_plot[:,0], testing_plot[:,1], alpha = 0.1, c = y_test.ravel());\n",
    "plt.title('Outputs')"
   ]
  },
  {
   "cell_type": "markdown",
   "id": "a74fcf8f",
   "metadata": {
    "papermill": {
     "duration": 0.053258,
     "end_time": "2022-11-20T10:13:15.210784",
     "exception": false,
     "start_time": "2022-11-20T10:13:15.157526",
     "status": "completed"
    },
    "tags": []
   },
   "source": [
    "Probability contours"
   ]
  },
  {
   "cell_type": "code",
   "execution_count": 27,
   "id": "d0afc8e3",
   "metadata": {
    "execution": {
     "iopub.execute_input": "2022-11-20T10:13:15.322908Z",
     "iopub.status.busy": "2022-11-20T10:13:15.322199Z",
     "iopub.status.idle": "2022-11-20T10:13:15.336130Z",
     "shell.execute_reply": "2022-11-20T10:13:15.335543Z"
    },
    "papermill": {
     "duration": 0.07155,
     "end_time": "2022-11-20T10:13:15.336249",
     "exception": false,
     "start_time": "2022-11-20T10:13:15.264699",
     "status": "completed"
    },
    "tags": []
   },
   "outputs": [],
   "source": [
    "model_prob = Model(layers[-2:]) "
   ]
  },
  {
   "cell_type": "code",
   "execution_count": 28,
   "id": "9b96e238",
   "metadata": {
    "execution": {
     "iopub.execute_input": "2022-11-20T10:13:15.472251Z",
     "iopub.status.busy": "2022-11-20T10:13:15.471545Z",
     "iopub.status.idle": "2022-11-20T10:13:15.487078Z",
     "shell.execute_reply": "2022-11-20T10:13:15.487677Z"
    },
    "papermill": {
     "duration": 0.074448,
     "end_time": "2022-11-20T10:13:15.487830",
     "exception": false,
     "start_time": "2022-11-20T10:13:15.413382",
     "status": "completed"
    },
    "tags": []
   },
   "outputs": [],
   "source": [
    "#creating the x and y ranges according to the above generated plot.\n",
    "x_range = np.linspace(-4, 1, 100) \n",
    "y_range = np.linspace(-6, 6, 100) \n",
    "x_grid, y_grid = np.meshgrid(x_range, y_range) # x_grid and y_grig are of size 100 X 100\n",
    "\n",
    "# converting x_grid and y_grid to continuous arrays\n",
    "x_gridflat = np.ravel(x_grid)\n",
    "y_gridflat = np.ravel(y_grid)\n",
    "\n",
    "# The last layer of the current model takes two columns as input. Hence transpose of np.vstack() is required.\n",
    "X = np.vstack((x_gridflat, y_gridflat)).T\n",
    "\n",
    "prob_contour = model_prob(X).reshape(100,100) "
   ]
  },
  {
   "cell_type": "code",
   "execution_count": 29,
   "id": "da72499a",
   "metadata": {
    "execution": {
     "iopub.execute_input": "2022-11-20T10:13:15.608991Z",
     "iopub.status.busy": "2022-11-20T10:13:15.608173Z",
     "iopub.status.idle": "2022-11-20T10:13:15.933759Z",
     "shell.execute_reply": "2022-11-20T10:13:15.934678Z"
    },
    "papermill": {
     "duration": 0.389334,
     "end_time": "2022-11-20T10:13:15.934835",
     "exception": false,
     "start_time": "2022-11-20T10:13:15.545501",
     "status": "completed"
    },
    "tags": []
   },
   "outputs": [
    {
     "data": {
      "image/png": "[encoded data removed]",
      "text/plain": [
       "<Figure size 720x648 with 1 Axes>"
      ]
     },
     "metadata": {
      "needs_background": "light"
     },
     "output_type": "display_data"
    }
   ],
   "source": [
    "plt.figure(figsize=(10,9))\n",
    "plt.scatter(testing_plot[:,0], testing_plot[:,1], alpha = 0.1, c = y_test.ravel())\n",
    "contours = plt.contour(x_grid,y_grid,prob_contour)\n",
    "plt.title('Probability Contours')\n",
    "plt.clabel(contours, inline = True );"
   ]
  },
  {
   "cell_type": "code",
   "execution_count": null,
   "id": "e81b4ac7",
   "metadata": {
    "papermill": {
     "duration": 0.05921,
     "end_time": "2022-11-20T10:13:16.052029",
     "exception": false,
     "start_time": "2022-11-20T10:13:15.992819",
     "status": "completed"
    },
    "tags": []
   },
   "outputs": [],
   "source": []
  }
 ],
 "metadata": {
  "kernelspec": {
   "display_name": "Python 3",
   "language": "python",
   "name": "python3"
  },
  "language_info": {
   "codemirror_mode": {
    "name": "ipython",
    "version": 3
   },
   "file_extension": ".py",
   "mimetype": "text/x-python",
   "name": "python",
   "nbconvert_exporter": "python",
   "pygments_lexer": "ipython3",
   "version": "3.6.15"
  },
  "papermill": {
   "default_parameters": {},
   "duration": 152.986844,
   "end_time": "2022-11-20T10:13:16.530907",
   "environment_variables": {},
   "exception": null,
   "input_path": "2020-08-11-part2.ipynb",
   "output_path": "2020-08-11-part2.ipynb",
   "parameters": {},
   "start_time": "2022-11-20T10:10:43.544063",
   "version": "2.3.3"
  }
 },
 "nbformat": 4,
 "nbformat_minor": 5
}