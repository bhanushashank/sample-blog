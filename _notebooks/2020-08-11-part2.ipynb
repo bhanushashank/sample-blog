{
 "cells": [
  {
   "cell_type": "markdown",
   "id": "98380cd3",
   "metadata": {
    "papermill": {
     "duration": 0.03431,
     "end_time": "2022-03-31T10:10:41.520558",
     "exception": false,
     "start_time": "2022-03-31T10:10:41.486248",
     "status": "completed"
    },
    "tags": []
   },
   "source": [
    "# Distinguish Your Own Digits (DYOD)"
   ]
  },
  {
   "cell_type": "markdown",
   "id": "ef31240d",
   "metadata": {
    "papermill": {
     "duration": 0.03333,
     "end_time": "2022-03-31T10:10:41.582063",
     "exception": false,
     "start_time": "2022-03-31T10:10:41.548733",
     "status": "completed"
    },
    "tags": []
   },
   "source": [
    "You are going to write a classifier that distinguishes between the number 3 and number 8."
   ]
  },
  {
   "cell_type": "code",
   "execution_count": 1,
   "id": "b15c8646",
   "metadata": {
    "execution": {
     "iopub.execute_input": "2022-03-31T10:10:41.650604Z",
     "iopub.status.busy": "2022-03-31T10:10:41.645599Z",
     "iopub.status.idle": "2022-03-31T10:10:41.662610Z",
     "shell.execute_reply": "2022-03-31T10:10:41.662092Z"
    },
    "papermill": {
     "duration": 0.052595,
     "end_time": "2022-03-31T10:10:41.662763",
     "exception": false,
     "start_time": "2022-03-31T10:10:41.610168",
     "status": "completed"
    },
    "tags": []
   },
   "outputs": [],
   "source": [
    "%load_ext autoreload\n",
    "%autoreload 2"
   ]
  },
  {
   "cell_type": "code",
   "execution_count": 2,
   "id": "22ef38dc",
   "metadata": {
    "execution": {
     "iopub.execute_input": "2022-03-31T10:10:41.724028Z",
     "iopub.status.busy": "2022-03-31T10:10:41.723375Z",
     "iopub.status.idle": "2022-03-31T10:10:42.420653Z",
     "shell.execute_reply": "2022-03-31T10:10:42.419534Z"
    },
    "papermill": {
     "duration": 0.730961,
     "end_time": "2022-03-31T10:10:42.420820",
     "exception": false,
     "start_time": "2022-03-31T10:10:41.689859",
     "status": "completed"
    },
    "tags": []
   },
   "outputs": [],
   "source": [
    "%matplotlib inline\n",
    "import numpy as np\n",
    "import matplotlib.pyplot as plt\n",
    "import pandas as pd"
   ]
  },
  {
   "cell_type": "markdown",
   "id": "ba036198",
   "metadata": {
    "papermill": {
     "duration": 0.027164,
     "end_time": "2022-03-31T10:10:42.475203",
     "exception": false,
     "start_time": "2022-03-31T10:10:42.448039",
     "status": "completed"
    },
    "tags": []
   },
   "source": [
    "From the command line run `pip install mnist`. This is a library that will help you bring down the mnist dataset. If you run this from a notebook, you need to put  `!pip install mnist` in a cell by itself."
   ]
  },
  {
   "cell_type": "code",
   "execution_count": 3,
   "id": "bb6ad8a1",
   "metadata": {
    "execution": {
     "iopub.execute_input": "2022-03-31T10:10:42.536046Z",
     "iopub.status.busy": "2022-03-31T10:10:42.534956Z",
     "iopub.status.idle": "2022-03-31T10:10:44.488827Z",
     "shell.execute_reply": "2022-03-31T10:10:44.488213Z"
    },
    "papermill": {
     "duration": 1.986654,
     "end_time": "2022-03-31T10:10:44.488972",
     "exception": false,
     "start_time": "2022-03-31T10:10:42.502318",
     "status": "completed"
    },
    "tags": []
   },
   "outputs": [
    {
     "name": "stdout",
     "output_type": "stream",
     "text": [
      "Collecting mnist\r\n"
     ]
    },
    {
     "name": "stdout",
     "output_type": "stream",
     "text": [
      "  Downloading mnist-0.2.2-py2.py3-none-any.whl (3.5 kB)\r\n",
      "Requirement already satisfied: numpy in /opt/hostedtoolcache/Python/3.6.15/x64/lib/python3.6/site-packages (from mnist) (1.19.5)\r\n"
     ]
    },
    {
     "name": "stdout",
     "output_type": "stream",
     "text": [
      "Installing collected packages: mnist\r\n"
     ]
    },
    {
     "name": "stdout",
     "output_type": "stream",
     "text": [
      "Successfully installed mnist-0.2.2\r\n"
     ]
    }
   ],
   "source": [
    "!pip install mnist"
   ]
  },
  {
   "cell_type": "markdown",
   "id": "69df9c9a",
   "metadata": {
    "papermill": {
     "duration": 0.028716,
     "end_time": "2022-03-31T10:10:44.546084",
     "exception": false,
     "start_time": "2022-03-31T10:10:44.517368",
     "status": "completed"
    },
    "tags": []
   },
   "source": [
    "## Preparing the Data"
   ]
  },
  {
   "cell_type": "code",
   "execution_count": 4,
   "id": "7f69d806",
   "metadata": {
    "execution": {
     "iopub.execute_input": "2022-03-31T10:10:44.607212Z",
     "iopub.status.busy": "2022-03-31T10:10:44.606612Z",
     "iopub.status.idle": "2022-03-31T10:10:44.623487Z",
     "shell.execute_reply": "2022-03-31T10:10:44.623996Z"
    },
    "papermill": {
     "duration": 0.050016,
     "end_time": "2022-03-31T10:10:44.624144",
     "exception": false,
     "start_time": "2022-03-31T10:10:44.574128",
     "status": "completed"
    },
    "tags": []
   },
   "outputs": [],
   "source": [
    "import mnist"
   ]
  },
  {
   "cell_type": "code",
   "execution_count": 5,
   "id": "a411e44f",
   "metadata": {
    "execution": {
     "iopub.execute_input": "2022-03-31T10:10:44.685142Z",
     "iopub.status.busy": "2022-03-31T10:10:44.684503Z",
     "iopub.status.idle": "2022-03-31T10:10:45.222369Z",
     "shell.execute_reply": "2022-03-31T10:10:45.221651Z"
    },
    "papermill": {
     "duration": 0.569988,
     "end_time": "2022-03-31T10:10:45.222553",
     "exception": false,
     "start_time": "2022-03-31T10:10:44.652565",
     "status": "completed"
    },
    "tags": []
   },
   "outputs": [],
   "source": [
    "train_images = mnist.train_images()\n",
    "train_labels = mnist.train_labels()"
   ]
  },
  {
   "cell_type": "code",
   "execution_count": 6,
   "id": "dceab3a5",
   "metadata": {
    "execution": {
     "iopub.execute_input": "2022-03-31T10:10:45.286187Z",
     "iopub.status.busy": "2022-03-31T10:10:45.285553Z",
     "iopub.status.idle": "2022-03-31T10:10:45.302625Z",
     "shell.execute_reply": "2022-03-31T10:10:45.303148Z"
    },
    "papermill": {
     "duration": 0.051082,
     "end_time": "2022-03-31T10:10:45.303309",
     "exception": false,
     "start_time": "2022-03-31T10:10:45.252227",
     "status": "completed"
    },
    "tags": []
   },
   "outputs": [
    {
     "data": {
      "text/plain": [
       "((60000, 28, 28), (60000,))"
      ]
     },
     "execution_count": 6,
     "metadata": {},
     "output_type": "execute_result"
    }
   ],
   "source": [
    "train_images.shape, train_labels.shape"
   ]
  },
  {
   "cell_type": "code",
   "execution_count": 7,
   "id": "f50dc2bb",
   "metadata": {
    "execution": {
     "iopub.execute_input": "2022-03-31T10:10:45.365799Z",
     "iopub.status.busy": "2022-03-31T10:10:45.365186Z",
     "iopub.status.idle": "2022-03-31T10:10:45.485269Z",
     "shell.execute_reply": "2022-03-31T10:10:45.484309Z"
    },
    "papermill": {
     "duration": 0.15359,
     "end_time": "2022-03-31T10:10:45.485506",
     "exception": false,
     "start_time": "2022-03-31T10:10:45.331916",
     "status": "completed"
    },
    "tags": []
   },
   "outputs": [],
   "source": [
    "test_images = mnist.test_images()\n",
    "test_labels = mnist.test_labels()"
   ]
  },
  {
   "cell_type": "code",
   "execution_count": 8,
   "id": "fc38cf1b",
   "metadata": {
    "execution": {
     "iopub.execute_input": "2022-03-31T10:10:45.549115Z",
     "iopub.status.busy": "2022-03-31T10:10:45.548466Z",
     "iopub.status.idle": "2022-03-31T10:10:45.563318Z",
     "shell.execute_reply": "2022-03-31T10:10:45.562807Z"
    },
    "papermill": {
     "duration": 0.047211,
     "end_time": "2022-03-31T10:10:45.563445",
     "exception": false,
     "start_time": "2022-03-31T10:10:45.516234",
     "status": "completed"
    },
    "tags": []
   },
   "outputs": [
    {
     "data": {
      "text/plain": [
       "((10000, 28, 28), (10000,))"
      ]
     },
     "execution_count": 8,
     "metadata": {},
     "output_type": "execute_result"
    }
   ],
   "source": [
    "test_images.shape, test_labels.shape"
   ]
  },
  {
   "cell_type": "code",
   "execution_count": 9,
   "id": "f9ed8fe0",
   "metadata": {
    "execution": {
     "iopub.execute_input": "2022-03-31T10:10:45.632762Z",
     "iopub.status.busy": "2022-03-31T10:10:45.632066Z",
     "iopub.status.idle": "2022-03-31T10:10:45.791083Z",
     "shell.execute_reply": "2022-03-31T10:10:45.790545Z"
    },
    "papermill": {
     "duration": 0.198993,
     "end_time": "2022-03-31T10:10:45.791218",
     "exception": false,
     "start_time": "2022-03-31T10:10:45.592225",
     "status": "completed"
    },
    "tags": []
   },
   "outputs": [
    {
     "name": "stdout",
     "output_type": "stream",
     "text": [
      "2\n"
     ]
    },
    {
     "data": {
      "text/plain": [
       "<matplotlib.image.AxesImage at 0x7f1ee6fb9550>"
      ]
     },
     "execution_count": 9,
     "metadata": {},
     "output_type": "execute_result"
    },
    {
     "data": {
      "image/png": "[encoded data removed]",
      "text/plain": [
       "<Figure size 432x288 with 1 Axes>"
      ]
     },
     "metadata": {
      "needs_background": "light"
     },
     "output_type": "display_data"
    }
   ],
   "source": [
    "image_index = 7776 # You may select anything up to 60,000\n",
    "print(train_labels[image_index]) \n",
    "plt.imshow(train_images[image_index], cmap='Greys')"
   ]
  },
  {
   "cell_type": "markdown",
   "id": "a8d2388d",
   "metadata": {
    "papermill": {
     "duration": 0.030706,
     "end_time": "2022-03-31T10:10:45.852102",
     "exception": false,
     "start_time": "2022-03-31T10:10:45.821396",
     "status": "completed"
    },
    "tags": []
   },
   "source": [
    "## Filter data to get 3 and 8 out"
   ]
  },
  {
   "cell_type": "code",
   "execution_count": 10,
   "id": "776f7fc7",
   "metadata": {
    "execution": {
     "iopub.execute_input": "2022-03-31T10:10:45.917550Z",
     "iopub.status.busy": "2022-03-31T10:10:45.916888Z",
     "iopub.status.idle": "2022-03-31T10:10:45.942007Z",
     "shell.execute_reply": "2022-03-31T10:10:45.941260Z"
    },
    "papermill": {
     "duration": 0.059935,
     "end_time": "2022-03-31T10:10:45.942185",
     "exception": false,
     "start_time": "2022-03-31T10:10:45.882250",
     "status": "completed"
    },
    "tags": []
   },
   "outputs": [],
   "source": [
    "train_filter = np.where((train_labels == 3 ) | (train_labels == 8))\n",
    "test_filter = np.where((test_labels == 3) | (test_labels == 8))\n",
    "X_train, y_train = train_images[train_filter], train_labels[train_filter]\n",
    "X_test, y_test = test_images[test_filter], test_labels[test_filter]"
   ]
  },
  {
   "cell_type": "markdown",
   "id": "948f0b7e",
   "metadata": {
    "papermill": {
     "duration": 0.029985,
     "end_time": "2022-03-31T10:10:46.003544",
     "exception": false,
     "start_time": "2022-03-31T10:10:45.973559",
     "status": "completed"
    },
    "tags": []
   },
   "source": [
    "We normalize the pizel values in the 0 to 1 range"
   ]
  },
  {
   "cell_type": "code",
   "execution_count": 11,
   "id": "ee4c2166",
   "metadata": {
    "execution": {
     "iopub.execute_input": "2022-03-31T10:10:46.068176Z",
     "iopub.status.busy": "2022-03-31T10:10:46.067549Z",
     "iopub.status.idle": "2022-03-31T10:10:46.128231Z",
     "shell.execute_reply": "2022-03-31T10:10:46.127349Z"
    },
    "papermill": {
     "duration": 0.094991,
     "end_time": "2022-03-31T10:10:46.128454",
     "exception": false,
     "start_time": "2022-03-31T10:10:46.033463",
     "status": "completed"
    },
    "tags": []
   },
   "outputs": [],
   "source": [
    "X_train = X_train/255.\n",
    "X_test = X_test/255."
   ]
  },
  {
   "cell_type": "markdown",
   "id": "ddcf4fab",
   "metadata": {
    "papermill": {
     "duration": 0.030047,
     "end_time": "2022-03-31T10:10:46.188908",
     "exception": false,
     "start_time": "2022-03-31T10:10:46.158861",
     "status": "completed"
    },
    "tags": []
   },
   "source": [
    "And setup the labels as 1 (when the digit is 3) and 0 (when the digit is 8)"
   ]
  },
  {
   "cell_type": "code",
   "execution_count": 12,
   "id": "7dc908f2",
   "metadata": {
    "execution": {
     "iopub.execute_input": "2022-03-31T10:10:46.253320Z",
     "iopub.status.busy": "2022-03-31T10:10:46.252680Z",
     "iopub.status.idle": "2022-03-31T10:10:46.266524Z",
     "shell.execute_reply": "2022-03-31T10:10:46.265966Z"
    },
    "papermill": {
     "duration": 0.047728,
     "end_time": "2022-03-31T10:10:46.266665",
     "exception": false,
     "start_time": "2022-03-31T10:10:46.218937",
     "status": "completed"
    },
    "tags": []
   },
   "outputs": [],
   "source": [
    "y_train = 1*(y_train==3)\n",
    "y_test = 1*(y_test==3)"
   ]
  },
  {
   "cell_type": "code",
   "execution_count": 13,
   "id": "01e4e969",
   "metadata": {
    "execution": {
     "iopub.execute_input": "2022-03-31T10:10:46.336783Z",
     "iopub.status.busy": "2022-03-31T10:10:46.336124Z",
     "iopub.status.idle": "2022-03-31T10:10:46.354682Z",
     "shell.execute_reply": "2022-03-31T10:10:46.354164Z"
    },
    "papermill": {
     "duration": 0.056082,
     "end_time": "2022-03-31T10:10:46.354813",
     "exception": false,
     "start_time": "2022-03-31T10:10:46.298731",
     "status": "completed"
    },
    "tags": []
   },
   "outputs": [
    {
     "data": {
      "text/plain": [
       "((11982, 28, 28), (1984, 28, 28))"
      ]
     },
     "execution_count": 13,
     "metadata": {},
     "output_type": "execute_result"
    }
   ],
   "source": [
    "X_train.shape, X_test.shape"
   ]
  },
  {
   "cell_type": "markdown",
   "id": "5ccf3f85",
   "metadata": {
    "papermill": {
     "duration": 0.030243,
     "end_time": "2022-03-31T10:10:46.415614",
     "exception": false,
     "start_time": "2022-03-31T10:10:46.385371",
     "status": "completed"
    },
    "tags": []
   },
   "source": [
    "We reshape the data to flatten the image pixels into a set of features or co-variates:"
   ]
  },
  {
   "cell_type": "code",
   "execution_count": 14,
   "id": "5286a4a3",
   "metadata": {
    "execution": {
     "iopub.execute_input": "2022-03-31T10:10:46.486528Z",
     "iopub.status.busy": "2022-03-31T10:10:46.485910Z",
     "iopub.status.idle": "2022-03-31T10:10:46.500365Z",
     "shell.execute_reply": "2022-03-31T10:10:46.499873Z"
    },
    "papermill": {
     "duration": 0.051724,
     "end_time": "2022-03-31T10:10:46.500498",
     "exception": false,
     "start_time": "2022-03-31T10:10:46.448774",
     "status": "completed"
    },
    "tags": []
   },
   "outputs": [
    {
     "data": {
      "text/plain": [
       "((11982, 784), (1984, 784))"
      ]
     },
     "execution_count": 14,
     "metadata": {},
     "output_type": "execute_result"
    }
   ],
   "source": [
    "X_train = X_train.reshape(X_train.shape[0], -1)\n",
    "X_test = X_test.reshape(X_test.shape[0], -1)\n",
    "X_train.shape, X_test.shape"
   ]
  },
  {
   "cell_type": "code",
   "execution_count": 15,
   "id": "73c5f88a",
   "metadata": {
    "execution": {
     "iopub.execute_input": "2022-03-31T10:10:46.568310Z",
     "iopub.status.busy": "2022-03-31T10:10:46.567689Z",
     "iopub.status.idle": "2022-03-31T10:10:46.588175Z",
     "shell.execute_reply": "2022-03-31T10:10:46.588840Z"
    },
    "papermill": {
     "duration": 0.057841,
     "end_time": "2022-03-31T10:10:46.589044",
     "exception": false,
     "start_time": "2022-03-31T10:10:46.531203",
     "status": "completed"
    },
    "tags": []
   },
   "outputs": [],
   "source": [
    "#Impoting functions from 'Kudzu'\n",
    "from kudzu.model import Model\n",
    "from kudzu.train import Learner\n",
    "from kudzu.optim import GD\n",
    "from kudzu.data import Data, Sampler,Dataloader\n",
    "\n",
    "from kudzu.callbacks import AccCallback\n",
    "from kudzu.callbacks import ClfCallback\n",
    "\n",
    "from kudzu.loss import MSE\n",
    "\n",
    "from kudzu.layer import Sigmoid,Relu\n",
    "from kudzu.layer import Affine"
   ]
  },
  {
   "cell_type": "markdown",
   "id": "bc01172a",
   "metadata": {
    "papermill": {
     "duration": 0.030649,
     "end_time": "2022-03-31T10:10:46.652368",
     "exception": false,
     "start_time": "2022-03-31T10:10:46.621719",
     "status": "completed"
    },
    "tags": []
   },
   "source": [
    "### Let us create a `Config` class, to store important parameters. \n",
    "This class essentially plays the role of a dictionary."
   ]
  },
  {
   "cell_type": "code",
   "execution_count": 16,
   "id": "978281aa",
   "metadata": {
    "execution": {
     "iopub.execute_input": "2022-03-31T10:10:46.719769Z",
     "iopub.status.busy": "2022-03-31T10:10:46.719141Z",
     "iopub.status.idle": "2022-03-31T10:10:46.734311Z",
     "shell.execute_reply": "2022-03-31T10:10:46.733757Z"
    },
    "papermill": {
     "duration": 0.051554,
     "end_time": "2022-03-31T10:10:46.734447",
     "exception": false,
     "start_time": "2022-03-31T10:10:46.682893",
     "status": "completed"
    },
    "tags": []
   },
   "outputs": [],
   "source": [
    "class Config:\n",
    "    pass\n",
    "config = Config()\n",
    "config.lr = 0.001\n",
    "config.num_epochs = 250\n",
    "config.bs = 50"
   ]
  },
  {
   "cell_type": "markdown",
   "id": "1385fa59",
   "metadata": {
    "papermill": {
     "duration": 0.030489,
     "end_time": "2022-03-31T10:10:46.795670",
     "exception": false,
     "start_time": "2022-03-31T10:10:46.765181",
     "status": "completed"
    },
    "tags": []
   },
   "source": [
    "### Running Models with the Training data\n",
    "Details about the network layers:\n",
    "- A first affine layer has 784 inputs and does 100 affine transforms. These are followed by a Relu\n",
    "- A second affine layer has 100 inputs from the 100 activations of the past layer, and does 100 affine transforms. These are followed by a Relu\n",
    "- A third affine layer has 100 activations and does 2 affine transformations to create an embedding for visualization. There is no non-linearity here.\n",
    "- A final \"logistic regression\" which has an affine transform from 2 inputs to 1 output, which is squeezed through a sigmoid.\n"
   ]
  },
  {
   "cell_type": "code",
   "execution_count": 17,
   "id": "2b9c66db",
   "metadata": {
    "execution": {
     "iopub.execute_input": "2022-03-31T10:10:46.861494Z",
     "iopub.status.busy": "2022-03-31T10:10:46.860753Z",
     "iopub.status.idle": "2022-03-31T10:10:46.876458Z",
     "shell.execute_reply": "2022-03-31T10:10:46.877014Z"
    },
    "papermill": {
     "duration": 0.050817,
     "end_time": "2022-03-31T10:10:46.877167",
     "exception": false,
     "start_time": "2022-03-31T10:10:46.826350",
     "status": "completed"
    },
    "tags": []
   },
   "outputs": [],
   "source": [
    "data = Data(X_train, y_train.reshape(-1,1))\n",
    "sampler = Sampler(data, config.bs, shuffle=True)\n",
    "\n",
    "dl = Dataloader(data, sampler)\n",
    "\n",
    "opt = GD(config.lr)\n",
    "loss = MSE()"
   ]
  },
  {
   "cell_type": "code",
   "execution_count": 18,
   "id": "b275e4c2",
   "metadata": {
    "execution": {
     "iopub.execute_input": "2022-03-31T10:10:46.942963Z",
     "iopub.status.busy": "2022-03-31T10:10:46.942356Z",
     "iopub.status.idle": "2022-03-31T10:10:46.957166Z",
     "shell.execute_reply": "2022-03-31T10:10:46.957655Z"
    },
    "papermill": {
     "duration": 0.049836,
     "end_time": "2022-03-31T10:10:46.957804",
     "exception": false,
     "start_time": "2022-03-31T10:10:46.907968",
     "status": "completed"
    },
    "tags": []
   },
   "outputs": [],
   "source": [
    "training_data_x = X_train\n",
    "testing_data_x = X_test\n",
    "training_data_y = y_train.reshape(-1,1)\n",
    "testing_data_y = y_test.reshape(-1,1)"
   ]
  },
  {
   "cell_type": "code",
   "execution_count": 19,
   "id": "76951160",
   "metadata": {
    "execution": {
     "iopub.execute_input": "2022-03-31T10:10:47.023799Z",
     "iopub.status.busy": "2022-03-31T10:10:47.023176Z",
     "iopub.status.idle": "2022-03-31T10:10:47.041179Z",
     "shell.execute_reply": "2022-03-31T10:10:47.040656Z"
    },
    "papermill": {
     "duration": 0.05313,
     "end_time": "2022-03-31T10:10:47.041308",
     "exception": false,
     "start_time": "2022-03-31T10:10:46.988178",
     "status": "completed"
    },
    "tags": []
   },
   "outputs": [
    {
     "name": "stdout",
     "output_type": "stream",
     "text": [
      "xavier\n",
      "xavier\n",
      "xavier\n",
      "xavier\n",
      "xavier\n"
     ]
    }
   ],
   "source": [
    "layers = [Affine(\"first\", 784, 100), Relu(\"first\"), Affine(\"second\", 100, 100), Relu(\"second\"), Affine(\"third\", 100, 2), Affine(\"last\", 2, 1), Sigmoid(\"last\")]\n",
    "model_nn = Model(layers)\n",
    "model_lr = Model([Affine(\"logits\", 784, 1), Sigmoid(\"sigmoid\")])"
   ]
  },
  {
   "cell_type": "code",
   "execution_count": 20,
   "id": "6eede77a",
   "metadata": {
    "execution": {
     "iopub.execute_input": "2022-03-31T10:10:47.108792Z",
     "iopub.status.busy": "2022-03-31T10:10:47.108155Z",
     "iopub.status.idle": "2022-03-31T10:10:47.125429Z",
     "shell.execute_reply": "2022-03-31T10:10:47.124803Z"
    },
    "papermill": {
     "duration": 0.053468,
     "end_time": "2022-03-31T10:10:47.125575",
     "exception": false,
     "start_time": "2022-03-31T10:10:47.072107",
     "status": "completed"
    },
    "tags": []
   },
   "outputs": [],
   "source": [
    "nn_learner = Learner(loss, model_nn, opt, config.num_epochs)\n",
    "acc_nn = ClfCallback(nn_learner, config.bs, training_data_x , testing_data_x, training_data_y, testing_data_y)\n",
    "nn_learner.set_callbacks([acc_nn])"
   ]
  },
  {
   "cell_type": "code",
   "execution_count": 21,
   "id": "877b6cc7",
   "metadata": {
    "execution": {
     "iopub.execute_input": "2022-03-31T10:10:47.193657Z",
     "iopub.status.busy": "2022-03-31T10:10:47.192549Z",
     "iopub.status.idle": "2022-03-31T10:10:47.207409Z",
     "shell.execute_reply": "2022-03-31T10:10:47.207895Z"
    },
    "papermill": {
     "duration": 0.050491,
     "end_time": "2022-03-31T10:10:47.208053",
     "exception": false,
     "start_time": "2022-03-31T10:10:47.157562",
     "status": "completed"
    },
    "tags": []
   },
   "outputs": [],
   "source": [
    "lr_learner = Learner(loss, model_lr, opt, config.num_epochs)\n",
    "acc_lr = ClfCallback(lr_learner, config.bs, training_data_x , testing_data_x, training_data_y, testing_data_y)\n",
    "lr_learner.set_callbacks([acc_lr])"
   ]
  },
  {
   "cell_type": "code",
   "execution_count": 22,
   "id": "d9b133c3",
   "metadata": {
    "execution": {
     "iopub.execute_input": "2022-03-31T10:10:47.277388Z",
     "iopub.status.busy": "2022-03-31T10:10:47.273910Z",
     "iopub.status.idle": "2022-03-31T10:12:21.787546Z",
     "shell.execute_reply": "2022-03-31T10:12:21.788473Z"
    },
    "papermill": {
     "duration": 94.549522,
     "end_time": "2022-03-31T10:12:21.788673",
     "exception": false,
     "start_time": "2022-03-31T10:10:47.239151",
     "status": "completed"
    },
    "tags": []
   },
   "outputs": [
    {
     "name": "stdout",
     "output_type": "stream",
     "text": [
      "Epoch 0, Loss 0.2558\n",
      "Training Accuracy: 0.5790, Testing Accuracy: 0.6114\n",
      "\n"
     ]
    },
    {
     "name": "stdout",
     "output_type": "stream",
     "text": [
      "Epoch 10, Loss 0.1021\n",
      "Training Accuracy: 0.9118, Testing Accuracy: 0.9153\n",
      "\n"
     ]
    },
    {
     "name": "stdout",
     "output_type": "stream",
     "text": [
      "Epoch 20, Loss 0.059\n",
      "Training Accuracy: 0.9411, Testing Accuracy: 0.9430\n",
      "\n"
     ]
    },
    {
     "name": "stdout",
     "output_type": "stream",
     "text": [
      "Epoch 30, Loss 0.0449\n",
      "Training Accuracy: 0.9523, Testing Accuracy: 0.9607\n",
      "\n"
     ]
    },
    {
     "name": "stdout",
     "output_type": "stream",
     "text": [
      "Epoch 40, Loss 0.0383\n",
      "Training Accuracy: 0.9576, Testing Accuracy: 0.9627\n",
      "\n"
     ]
    },
    {
     "name": "stdout",
     "output_type": "stream",
     "text": [
      "Epoch 50, Loss 0.0344\n",
      "Training Accuracy: 0.9607, Testing Accuracy: 0.9667\n",
      "\n"
     ]
    },
    {
     "name": "stdout",
     "output_type": "stream",
     "text": [
      "Epoch 60, Loss 0.0319\n",
      "Training Accuracy: 0.9634, Testing Accuracy: 0.9667\n",
      "\n"
     ]
    },
    {
     "name": "stdout",
     "output_type": "stream",
     "text": [
      "Epoch 70, Loss 0.03\n",
      "Training Accuracy: 0.9658, Testing Accuracy: 0.9703\n",
      "\n"
     ]
    },
    {
     "name": "stdout",
     "output_type": "stream",
     "text": [
      "Epoch 80, Loss 0.0285\n",
      "Training Accuracy: 0.9673, Testing Accuracy: 0.9708\n",
      "\n"
     ]
    },
    {
     "name": "stdout",
     "output_type": "stream",
     "text": [
      "Epoch 90, Loss 0.0272\n",
      "Training Accuracy: 0.9684, Testing Accuracy: 0.9723\n",
      "\n"
     ]
    },
    {
     "name": "stdout",
     "output_type": "stream",
     "text": [
      "Epoch 100, Loss 0.0262\n",
      "Training Accuracy: 0.9699, Testing Accuracy: 0.9723\n",
      "\n"
     ]
    },
    {
     "name": "stdout",
     "output_type": "stream",
     "text": [
      "Epoch 110, Loss 0.0252\n",
      "Training Accuracy: 0.9714, Testing Accuracy: 0.9723\n",
      "\n"
     ]
    },
    {
     "name": "stdout",
     "output_type": "stream",
     "text": [
      "Epoch 120, Loss 0.0244\n",
      "Training Accuracy: 0.9718, Testing Accuracy: 0.9713\n",
      "\n"
     ]
    },
    {
     "name": "stdout",
     "output_type": "stream",
     "text": [
      "Epoch 130, Loss 0.0237\n",
      "Training Accuracy: 0.9725, Testing Accuracy: 0.9723\n",
      "\n"
     ]
    },
    {
     "name": "stdout",
     "output_type": "stream",
     "text": [
      "Epoch 140, Loss 0.023\n",
      "Training Accuracy: 0.9732, Testing Accuracy: 0.9723\n",
      "\n"
     ]
    },
    {
     "name": "stdout",
     "output_type": "stream",
     "text": [
      "Epoch 150, Loss 0.0224\n",
      "Training Accuracy: 0.9741, Testing Accuracy: 0.9723\n",
      "\n"
     ]
    },
    {
     "name": "stdout",
     "output_type": "stream",
     "text": [
      "Epoch 160, Loss 0.0218\n",
      "Training Accuracy: 0.9745, Testing Accuracy: 0.9723\n",
      "\n"
     ]
    },
    {
     "name": "stdout",
     "output_type": "stream",
     "text": [
      "Epoch 170, Loss 0.0212\n",
      "Training Accuracy: 0.9750, Testing Accuracy: 0.9723\n",
      "\n"
     ]
    },
    {
     "name": "stdout",
     "output_type": "stream",
     "text": [
      "Epoch 180, Loss 0.0207\n",
      "Training Accuracy: 0.9755, Testing Accuracy: 0.9723\n",
      "\n"
     ]
    },
    {
     "name": "stdout",
     "output_type": "stream",
     "text": [
      "Epoch 190, Loss 0.0202\n",
      "Training Accuracy: 0.9763, Testing Accuracy: 0.9718\n",
      "\n"
     ]
    },
    {
     "name": "stdout",
     "output_type": "stream",
     "text": [
      "Epoch 200, Loss 0.0198\n",
      "Training Accuracy: 0.9773, Testing Accuracy: 0.9723\n",
      "\n"
     ]
    },
    {
     "name": "stdout",
     "output_type": "stream",
     "text": [
      "Epoch 210, Loss 0.0193\n",
      "Training Accuracy: 0.9781, Testing Accuracy: 0.9728\n",
      "\n"
     ]
    },
    {
     "name": "stdout",
     "output_type": "stream",
     "text": [
      "Epoch 220, Loss 0.0189\n",
      "Training Accuracy: 0.9786, Testing Accuracy: 0.9728\n",
      "\n"
     ]
    },
    {
     "name": "stdout",
     "output_type": "stream",
     "text": [
      "Epoch 230, Loss 0.0185\n",
      "Training Accuracy: 0.9791, Testing Accuracy: 0.9728\n",
      "\n"
     ]
    },
    {
     "name": "stdout",
     "output_type": "stream",
     "text": [
      "Epoch 240, Loss 0.0181\n",
      "Training Accuracy: 0.9795, Testing Accuracy: 0.9728\n",
      "\n"
     ]
    },
    {
     "data": {
      "text/plain": [
       "0.01453119306156626"
      ]
     },
     "execution_count": 22,
     "metadata": {},
     "output_type": "execute_result"
    }
   ],
   "source": [
    "nn_learner.train_loop(dl)"
   ]
  },
  {
   "cell_type": "code",
   "execution_count": 23,
   "id": "e0163366",
   "metadata": {
    "execution": {
     "iopub.execute_input": "2022-03-31T10:12:21.881606Z",
     "iopub.status.busy": "2022-03-31T10:12:21.880953Z",
     "iopub.status.idle": "2022-03-31T10:12:38.641100Z",
     "shell.execute_reply": "2022-03-31T10:12:38.642013Z"
    },
    "papermill": {
     "duration": 16.81411,
     "end_time": "2022-03-31T10:12:38.642189",
     "exception": false,
     "start_time": "2022-03-31T10:12:21.828079",
     "status": "completed"
    },
    "tags": []
   },
   "outputs": [
    {
     "name": "stdout",
     "output_type": "stream",
     "text": [
      "Epoch 0, Loss 0.2248\n",
      "Training Accuracy: 0.7806, Testing Accuracy: 0.7989\n",
      "\n"
     ]
    },
    {
     "name": "stdout",
     "output_type": "stream",
     "text": [
      "Epoch 10, Loss 0.0991\n",
      "Training Accuracy: 0.9163, Testing Accuracy: 0.9224\n",
      "\n"
     ]
    },
    {
     "name": "stdout",
     "output_type": "stream",
     "text": [
      "Epoch 20, Loss 0.0775\n",
      "Training Accuracy: 0.9305, Testing Accuracy: 0.9390\n",
      "\n"
     ]
    },
    {
     "name": "stdout",
     "output_type": "stream",
     "text": [
      "Epoch 30, Loss 0.0673\n",
      "Training Accuracy: 0.9372, Testing Accuracy: 0.9476\n",
      "\n"
     ]
    },
    {
     "name": "stdout",
     "output_type": "stream",
     "text": [
      "Epoch 40, Loss 0.061\n",
      "Training Accuracy: 0.9422, Testing Accuracy: 0.9496\n",
      "\n"
     ]
    },
    {
     "name": "stdout",
     "output_type": "stream",
     "text": [
      "Epoch 50, Loss 0.0567\n",
      "Training Accuracy: 0.9453, Testing Accuracy: 0.9546\n",
      "\n"
     ]
    },
    {
     "name": "stdout",
     "output_type": "stream",
     "text": [
      "Epoch 60, Loss 0.0535\n",
      "Training Accuracy: 0.9483, Testing Accuracy: 0.9572\n",
      "\n"
     ]
    },
    {
     "name": "stdout",
     "output_type": "stream",
     "text": [
      "Epoch 70, Loss 0.051\n",
      "Training Accuracy: 0.9508, Testing Accuracy: 0.9582\n",
      "\n"
     ]
    },
    {
     "name": "stdout",
     "output_type": "stream",
     "text": [
      "Epoch 80, Loss 0.049\n",
      "Training Accuracy: 0.9514, Testing Accuracy: 0.9577\n",
      "\n"
     ]
    },
    {
     "name": "stdout",
     "output_type": "stream",
     "text": [
      "Epoch 90, Loss 0.0473\n",
      "Training Accuracy: 0.9524, Testing Accuracy: 0.9597\n",
      "\n"
     ]
    },
    {
     "name": "stdout",
     "output_type": "stream",
     "text": [
      "Epoch 100, Loss 0.0459\n",
      "Training Accuracy: 0.9533, Testing Accuracy: 0.9607\n",
      "\n"
     ]
    },
    {
     "name": "stdout",
     "output_type": "stream",
     "text": [
      "Epoch 110, Loss 0.0447\n",
      "Training Accuracy: 0.9548, Testing Accuracy: 0.9617\n",
      "\n"
     ]
    },
    {
     "name": "stdout",
     "output_type": "stream",
     "text": [
      "Epoch 120, Loss 0.0437\n",
      "Training Accuracy: 0.9559, Testing Accuracy: 0.9622\n",
      "\n"
     ]
    },
    {
     "name": "stdout",
     "output_type": "stream",
     "text": [
      "Epoch 130, Loss 0.0428\n",
      "Training Accuracy: 0.9564, Testing Accuracy: 0.9627\n",
      "\n"
     ]
    },
    {
     "name": "stdout",
     "output_type": "stream",
     "text": [
      "Epoch 140, Loss 0.0419\n",
      "Training Accuracy: 0.9566, Testing Accuracy: 0.9632\n",
      "\n"
     ]
    },
    {
     "name": "stdout",
     "output_type": "stream",
     "text": [
      "Epoch 150, Loss 0.0412\n",
      "Training Accuracy: 0.9570, Testing Accuracy: 0.9637\n",
      "\n"
     ]
    },
    {
     "name": "stdout",
     "output_type": "stream",
     "text": [
      "Epoch 160, Loss 0.0405\n",
      "Training Accuracy: 0.9575, Testing Accuracy: 0.9642\n",
      "\n"
     ]
    },
    {
     "name": "stdout",
     "output_type": "stream",
     "text": [
      "Epoch 170, Loss 0.0399\n",
      "Training Accuracy: 0.9580, Testing Accuracy: 0.9642\n",
      "\n"
     ]
    },
    {
     "name": "stdout",
     "output_type": "stream",
     "text": [
      "Epoch 180, Loss 0.0394\n",
      "Training Accuracy: 0.9585, Testing Accuracy: 0.9647\n",
      "\n"
     ]
    },
    {
     "name": "stdout",
     "output_type": "stream",
     "text": [
      "Epoch 190, Loss 0.0389\n",
      "Training Accuracy: 0.9589, Testing Accuracy: 0.9652\n",
      "\n"
     ]
    },
    {
     "name": "stdout",
     "output_type": "stream",
     "text": [
      "Epoch 200, Loss 0.0384\n",
      "Training Accuracy: 0.9592, Testing Accuracy: 0.9652\n",
      "\n"
     ]
    },
    {
     "name": "stdout",
     "output_type": "stream",
     "text": [
      "Epoch 210, Loss 0.0379\n",
      "Training Accuracy: 0.9595, Testing Accuracy: 0.9657\n",
      "\n"
     ]
    },
    {
     "name": "stdout",
     "output_type": "stream",
     "text": [
      "Epoch 220, Loss 0.0375\n",
      "Training Accuracy: 0.9601, Testing Accuracy: 0.9657\n",
      "\n"
     ]
    },
    {
     "name": "stdout",
     "output_type": "stream",
     "text": [
      "Epoch 230, Loss 0.0372\n",
      "Training Accuracy: 0.9604, Testing Accuracy: 0.9657\n",
      "\n"
     ]
    },
    {
     "name": "stdout",
     "output_type": "stream",
     "text": [
      "Epoch 240, Loss 0.0368\n",
      "Training Accuracy: 0.9608, Testing Accuracy: 0.9662\n",
      "\n"
     ]
    },
    {
     "data": {
      "text/plain": [
       "0.02893207650740506"
      ]
     },
     "execution_count": 23,
     "metadata": {},
     "output_type": "execute_result"
    }
   ],
   "source": [
    "lr_learner.train_loop(dl)"
   ]
  },
  {
   "cell_type": "code",
   "execution_count": 24,
   "id": "ca410940",
   "metadata": {
    "execution": {
     "iopub.execute_input": "2022-03-31T10:12:38.746749Z",
     "iopub.status.busy": "2022-03-31T10:12:38.746085Z",
     "iopub.status.idle": "2022-03-31T10:12:39.026131Z",
     "shell.execute_reply": "2022-03-31T10:12:39.026623Z"
    },
    "papermill": {
     "duration": 0.337402,
     "end_time": "2022-03-31T10:12:39.026781",
     "exception": false,
     "start_time": "2022-03-31T10:12:38.689379",
     "status": "completed"
    },
    "tags": []
   },
   "outputs": [
    {
     "data": {
      "text/plain": [
       "<matplotlib.legend.Legend at 0x7f1ee6b95cc0>"
      ]
     },
     "execution_count": 24,
     "metadata": {},
     "output_type": "execute_result"
    },
    {
     "data": {
      "image/png": "[encoded data removed]",
      "text/plain": [
       "<Figure size 1080x720 with 1 Axes>"
      ]
     },
     "metadata": {
      "needs_background": "light"
     },
     "output_type": "display_data"
    }
   ],
   "source": [
    "#comparing the results of NN and LR\n",
    "plt.figure(figsize=(15,10))\n",
    "\n",
    "# Neural Network plots\n",
    "plt.plot(acc_nn.accuracies, 'r-', label = \"Training Accuracies - NN\")\n",
    "plt.plot(acc_nn.test_accuracies, 'g-', label = \"Testing Accuracies - NN\")\n",
    "\n",
    "# Logistic Regression plots\n",
    "plt.plot(acc_lr.accuracies, 'k-', label = \"Training Accuracies - LR\")\n",
    "plt.plot(acc_lr.test_accuracies, 'b-', label = \"Testing Accuracies - LR\")\n",
    "plt.legend()"
   ]
  },
  {
   "cell_type": "markdown",
   "id": "80dfb35c",
   "metadata": {
    "papermill": {
     "duration": 0.047749,
     "end_time": "2022-03-31T10:12:39.124598",
     "exception": false,
     "start_time": "2022-03-31T10:12:39.076849",
     "status": "completed"
    },
    "tags": []
   },
   "source": [
    "#### Plotting the outputs of this layer of the NN.\n"
   ]
  },
  {
   "cell_type": "code",
   "execution_count": 25,
   "id": "45eb2ff5",
   "metadata": {
    "execution": {
     "iopub.execute_input": "2022-03-31T10:12:39.224766Z",
     "iopub.status.busy": "2022-03-31T10:12:39.224093Z",
     "iopub.status.idle": "2022-03-31T10:12:39.257552Z",
     "shell.execute_reply": "2022-03-31T10:12:39.258090Z"
    },
    "papermill": {
     "duration": 0.086022,
     "end_time": "2022-03-31T10:12:39.258260",
     "exception": false,
     "start_time": "2022-03-31T10:12:39.172238",
     "status": "completed"
    },
    "tags": []
   },
   "outputs": [],
   "source": [
    "new_model = Model(layers[:-2])\n",
    "testing_plot = new_model(testing_data_x)"
   ]
  },
  {
   "cell_type": "code",
   "execution_count": 26,
   "id": "4c0a5485",
   "metadata": {
    "execution": {
     "iopub.execute_input": "2022-03-31T10:12:39.373328Z",
     "iopub.status.busy": "2022-03-31T10:12:39.365052Z",
     "iopub.status.idle": "2022-03-31T10:12:39.591574Z",
     "shell.execute_reply": "2022-03-31T10:12:39.592046Z"
    },
    "papermill": {
     "duration": 0.285638,
     "end_time": "2022-03-31T10:12:39.592210",
     "exception": false,
     "start_time": "2022-03-31T10:12:39.306572",
     "status": "completed"
    },
    "tags": []
   },
   "outputs": [
    {
     "data": {
      "text/plain": [
       "Text(0.5, 1.0, 'Outputs')"
      ]
     },
     "execution_count": 26,
     "metadata": {},
     "output_type": "execute_result"
    },
    {
     "data": {
      "image/png": "[encoded data removed]",
      "text/plain": [
       "<Figure size 576x504 with 1 Axes>"
      ]
     },
     "metadata": {
      "needs_background": "light"
     },
     "output_type": "display_data"
    }
   ],
   "source": [
    "# Plotting the scatter plot of points and color coding by class\n",
    "plt.figure(figsize=(8,7))\n",
    "plt.scatter(testing_plot[:,0], testing_plot[:,1], alpha = 0.1, c = y_test.ravel());\n",
    "plt.title('Outputs')"
   ]
  },
  {
   "cell_type": "markdown",
   "id": "a74fcf8f",
   "metadata": {
    "papermill": {
     "duration": 0.05004,
     "end_time": "2022-03-31T10:12:39.693734",
     "exception": false,
     "start_time": "2022-03-31T10:12:39.643694",
     "status": "completed"
    },
    "tags": []
   },
   "source": [
    "Probability contours"
   ]
  },
  {
   "cell_type": "code",
   "execution_count": 27,
   "id": "d0afc8e3",
   "metadata": {
    "execution": {
     "iopub.execute_input": "2022-03-31T10:12:39.837060Z",
     "iopub.status.busy": "2022-03-31T10:12:39.836361Z",
     "iopub.status.idle": "2022-03-31T10:12:39.852849Z",
     "shell.execute_reply": "2022-03-31T10:12:39.852282Z"
    },
    "papermill": {
     "duration": 0.109081,
     "end_time": "2022-03-31T10:12:39.852989",
     "exception": false,
     "start_time": "2022-03-31T10:12:39.743908",
     "status": "completed"
    },
    "tags": []
   },
   "outputs": [],
   "source": [
    "model_prob = Model(layers[-2:]) "
   ]
  },
  {
   "cell_type": "code",
   "execution_count": 28,
   "id": "9b96e238",
   "metadata": {
    "execution": {
     "iopub.execute_input": "2022-03-31T10:12:39.965502Z",
     "iopub.status.busy": "2022-03-31T10:12:39.964090Z",
     "iopub.status.idle": "2022-03-31T10:12:39.978893Z",
     "shell.execute_reply": "2022-03-31T10:12:39.979378Z"
    },
    "papermill": {
     "duration": 0.076621,
     "end_time": "2022-03-31T10:12:39.979548",
     "exception": false,
     "start_time": "2022-03-31T10:12:39.902927",
     "status": "completed"
    },
    "tags": []
   },
   "outputs": [],
   "source": [
    "#creating the x and y ranges according to the above generated plot.\n",
    "x_range = np.linspace(-4, 1, 100) \n",
    "y_range = np.linspace(-6, 6, 100) \n",
    "x_grid, y_grid = np.meshgrid(x_range, y_range) # x_grid and y_grig are of size 100 X 100\n",
    "\n",
    "# converting x_grid and y_grid to continuous arrays\n",
    "x_gridflat = np.ravel(x_grid)\n",
    "y_gridflat = np.ravel(y_grid)\n",
    "\n",
    "# The last layer of the current model takes two columns as input. Hence transpose of np.vstack() is required.\n",
    "X = np.vstack((x_gridflat, y_gridflat)).T\n",
    "\n",
    "prob_contour = model_prob(X).reshape(100,100) "
   ]
  },
  {
   "cell_type": "code",
   "execution_count": 29,
   "id": "da72499a",
   "metadata": {
    "execution": {
     "iopub.execute_input": "2022-03-31T10:12:40.086280Z",
     "iopub.status.busy": "2022-03-31T10:12:40.085653Z",
     "iopub.status.idle": "2022-03-31T10:12:40.356343Z",
     "shell.execute_reply": "2022-03-31T10:12:40.356878Z"
    },
    "papermill": {
     "duration": 0.327505,
     "end_time": "2022-03-31T10:12:40.357047",
     "exception": false,
     "start_time": "2022-03-31T10:12:40.029542",
     "status": "completed"
    },
    "tags": []
   },
   "outputs": [
    {
     "data": {
      "image/png": "[encoded data removed]",
      "text/plain": [
       "<Figure size 720x648 with 1 Axes>"
      ]
     },
     "metadata": {
      "needs_background": "light"
     },
     "output_type": "display_data"
    }
   ],
   "source": [
    "plt.figure(figsize=(10,9))\n",
    "plt.scatter(testing_plot[:,0], testing_plot[:,1], alpha = 0.1, c = y_test.ravel())\n",
    "contours = plt.contour(x_grid,y_grid,prob_contour)\n",
    "plt.title('Probability Contours')\n",
    "plt.clabel(contours, inline = True );"
   ]
  },
  {
   "cell_type": "code",
   "execution_count": null,
   "id": "e81b4ac7",
   "metadata": {
    "papermill": {
     "duration": 0.053065,
     "end_time": "2022-03-31T10:12:40.463635",
     "exception": false,
     "start_time": "2022-03-31T10:12:40.410570",
     "status": "completed"
    },
    "tags": []
   },
   "outputs": [],
   "source": []
  }
 ],
 "metadata": {
  "kernelspec": {
   "display_name": "Python 3",
   "language": "python",
   "name": "python3"
  },
  "language_info": {
   "codemirror_mode": {
    "name": "ipython",
    "version": 3
   },
   "file_extension": ".py",
   "mimetype": "text/x-python",
   "name": "python",
   "nbconvert_exporter": "python",
   "pygments_lexer": "ipython3",
   "version": "3.6.15"
  },
  "papermill": {
   "default_parameters": {},
   "duration": 120.852887,
   "end_time": "2022-03-31T10:12:41.037608",
   "environment_variables": {},
   "exception": null,
   "input_path": "2020-08-11-part2.ipynb",
   "output_path": "2020-08-11-part2.ipynb",
   "parameters": {},
   "start_time": "2022-03-31T10:10:40.184721",
   "version": "2.3.3"
  }
 },
 "nbformat": 4,
 "nbformat_minor": 5
}