{
 "cells": [
  {
   "cell_type": "markdown",
   "id": "98380cd3",
   "metadata": {
    "papermill": {
     "duration": 0.029042,
     "end_time": "2022-06-19T00:37:59.300090",
     "exception": false,
     "start_time": "2022-06-19T00:37:59.271048",
     "status": "completed"
    },
    "tags": []
   },
   "source": [
    "# Distinguish Your Own Digits (DYOD)"
   ]
  },
  {
   "cell_type": "markdown",
   "id": "ef31240d",
   "metadata": {
    "papermill": {
     "duration": 0.024217,
     "end_time": "2022-06-19T00:37:59.348976",
     "exception": false,
     "start_time": "2022-06-19T00:37:59.324759",
     "status": "completed"
    },
    "tags": []
   },
   "source": [
    "You are going to write a classifier that distinguishes between the number 3 and number 8."
   ]
  },
  {
   "cell_type": "code",
   "execution_count": 1,
   "id": "b15c8646",
   "metadata": {
    "execution": {
     "iopub.execute_input": "2022-06-19T00:37:59.407046Z",
     "iopub.status.busy": "2022-06-19T00:37:59.406459Z",
     "iopub.status.idle": "2022-06-19T00:37:59.417212Z",
     "shell.execute_reply": "2022-06-19T00:37:59.416726Z"
    },
    "papermill": {
     "duration": 0.044338,
     "end_time": "2022-06-19T00:37:59.417332",
     "exception": false,
     "start_time": "2022-06-19T00:37:59.372994",
     "status": "completed"
    },
    "tags": []
   },
   "outputs": [],
   "source": [
    "%load_ext autoreload\n",
    "%autoreload 2"
   ]
  },
  {
   "cell_type": "code",
   "execution_count": 2,
   "id": "22ef38dc",
   "metadata": {
    "execution": {
     "iopub.execute_input": "2022-06-19T00:37:59.469772Z",
     "iopub.status.busy": "2022-06-19T00:37:59.469198Z",
     "iopub.status.idle": "2022-06-19T00:37:59.996633Z",
     "shell.execute_reply": "2022-06-19T00:37:59.996156Z"
    },
    "papermill": {
     "duration": 0.555136,
     "end_time": "2022-06-19T00:37:59.996751",
     "exception": false,
     "start_time": "2022-06-19T00:37:59.441615",
     "status": "completed"
    },
    "tags": []
   },
   "outputs": [],
   "source": [
    "%matplotlib inline\n",
    "import numpy as np\n",
    "import matplotlib.pyplot as plt\n",
    "import pandas as pd"
   ]
  },
  {
   "cell_type": "markdown",
   "id": "ba036198",
   "metadata": {
    "papermill": {
     "duration": 0.024099,
     "end_time": "2022-06-19T00:38:00.045126",
     "exception": false,
     "start_time": "2022-06-19T00:38:00.021027",
     "status": "completed"
    },
    "tags": []
   },
   "source": [
    "From the command line run `pip install mnist`. This is a library that will help you bring down the mnist dataset. If you run this from a notebook, you need to put  `!pip install mnist` in a cell by itself."
   ]
  },
  {
   "cell_type": "code",
   "execution_count": 3,
   "id": "bb6ad8a1",
   "metadata": {
    "execution": {
     "iopub.execute_input": "2022-06-19T00:38:00.097264Z",
     "iopub.status.busy": "2022-06-19T00:38:00.096668Z",
     "iopub.status.idle": "2022-06-19T00:38:01.801928Z",
     "shell.execute_reply": "2022-06-19T00:38:01.801413Z"
    },
    "papermill": {
     "duration": 1.732739,
     "end_time": "2022-06-19T00:38:01.802041",
     "exception": false,
     "start_time": "2022-06-19T00:38:00.069302",
     "status": "completed"
    },
    "tags": []
   },
   "outputs": [
    {
     "name": "stdout",
     "output_type": "stream",
     "text": [
      "Collecting mnist\r\n"
     ]
    },
    {
     "name": "stdout",
     "output_type": "stream",
     "text": [
      "  Downloading mnist-0.2.2-py2.py3-none-any.whl (3.5 kB)\r\n"
     ]
    },
    {
     "name": "stdout",
     "output_type": "stream",
     "text": [
      "Requirement already satisfied: numpy in /opt/hostedtoolcache/Python/3.6.15/x64/lib/python3.6/site-packages (from mnist) (1.19.5)\r\n"
     ]
    },
    {
     "name": "stdout",
     "output_type": "stream",
     "text": [
      "Installing collected packages: mnist\r\n"
     ]
    },
    {
     "name": "stdout",
     "output_type": "stream",
     "text": [
      "Successfully installed mnist-0.2.2\r\n"
     ]
    }
   ],
   "source": [
    "!pip install mnist"
   ]
  },
  {
   "cell_type": "markdown",
   "id": "69df9c9a",
   "metadata": {
    "papermill": {
     "duration": 0.025463,
     "end_time": "2022-06-19T00:38:01.853172",
     "exception": false,
     "start_time": "2022-06-19T00:38:01.827709",
     "status": "completed"
    },
    "tags": []
   },
   "source": [
    "## Preparing the Data"
   ]
  },
  {
   "cell_type": "code",
   "execution_count": 4,
   "id": "7f69d806",
   "metadata": {
    "execution": {
     "iopub.execute_input": "2022-06-19T00:38:01.909077Z",
     "iopub.status.busy": "2022-06-19T00:38:01.908499Z",
     "iopub.status.idle": "2022-06-19T00:38:01.921458Z",
     "shell.execute_reply": "2022-06-19T00:38:01.920899Z"
    },
    "papermill": {
     "duration": 0.043135,
     "end_time": "2022-06-19T00:38:01.921565",
     "exception": false,
     "start_time": "2022-06-19T00:38:01.878430",
     "status": "completed"
    },
    "tags": []
   },
   "outputs": [],
   "source": [
    "import mnist"
   ]
  },
  {
   "cell_type": "code",
   "execution_count": 5,
   "id": "a411e44f",
   "metadata": {
    "execution": {
     "iopub.execute_input": "2022-06-19T00:38:01.977061Z",
     "iopub.status.busy": "2022-06-19T00:38:01.976458Z",
     "iopub.status.idle": "2022-06-19T00:38:02.722890Z",
     "shell.execute_reply": "2022-06-19T00:38:02.722424Z"
    },
    "papermill": {
     "duration": 0.775894,
     "end_time": "2022-06-19T00:38:02.723008",
     "exception": false,
     "start_time": "2022-06-19T00:38:01.947114",
     "status": "completed"
    },
    "tags": []
   },
   "outputs": [],
   "source": [
    "train_images = mnist.train_images()\n",
    "train_labels = mnist.train_labels()"
   ]
  },
  {
   "cell_type": "code",
   "execution_count": 6,
   "id": "dceab3a5",
   "metadata": {
    "execution": {
     "iopub.execute_input": "2022-06-19T00:38:02.778384Z",
     "iopub.status.busy": "2022-06-19T00:38:02.777827Z",
     "iopub.status.idle": "2022-06-19T00:38:02.791958Z",
     "shell.execute_reply": "2022-06-19T00:38:02.791427Z"
    },
    "papermill": {
     "duration": 0.043527,
     "end_time": "2022-06-19T00:38:02.792064",
     "exception": false,
     "start_time": "2022-06-19T00:38:02.748537",
     "status": "completed"
    },
    "tags": []
   },
   "outputs": [
    {
     "data": {
      "text/plain": [
       "((60000, 28, 28), (60000,))"
      ]
     },
     "execution_count": 6,
     "metadata": {},
     "output_type": "execute_result"
    }
   ],
   "source": [
    "train_images.shape, train_labels.shape"
   ]
  },
  {
   "cell_type": "code",
   "execution_count": 7,
   "id": "f50dc2bb",
   "metadata": {
    "execution": {
     "iopub.execute_input": "2022-06-19T00:38:02.847030Z",
     "iopub.status.busy": "2022-06-19T00:38:02.846482Z",
     "iopub.status.idle": "2022-06-19T00:38:03.086721Z",
     "shell.execute_reply": "2022-06-19T00:38:03.086227Z"
    },
    "papermill": {
     "duration": 0.269051,
     "end_time": "2022-06-19T00:38:03.086838",
     "exception": false,
     "start_time": "2022-06-19T00:38:02.817787",
     "status": "completed"
    },
    "tags": []
   },
   "outputs": [],
   "source": [
    "test_images = mnist.test_images()\n",
    "test_labels = mnist.test_labels()"
   ]
  },
  {
   "cell_type": "code",
   "execution_count": 8,
   "id": "fc38cf1b",
   "metadata": {
    "execution": {
     "iopub.execute_input": "2022-06-19T00:38:03.142109Z",
     "iopub.status.busy": "2022-06-19T00:38:03.141555Z",
     "iopub.status.idle": "2022-06-19T00:38:03.154540Z",
     "shell.execute_reply": "2022-06-19T00:38:03.154000Z"
    },
    "papermill": {
     "duration": 0.041889,
     "end_time": "2022-06-19T00:38:03.154648",
     "exception": false,
     "start_time": "2022-06-19T00:38:03.112759",
     "status": "completed"
    },
    "tags": []
   },
   "outputs": [
    {
     "data": {
      "text/plain": [
       "((10000, 28, 28), (10000,))"
      ]
     },
     "execution_count": 8,
     "metadata": {},
     "output_type": "execute_result"
    }
   ],
   "source": [
    "test_images.shape, test_labels.shape"
   ]
  },
  {
   "cell_type": "code",
   "execution_count": 9,
   "id": "f9ed8fe0",
   "metadata": {
    "execution": {
     "iopub.execute_input": "2022-06-19T00:38:03.210417Z",
     "iopub.status.busy": "2022-06-19T00:38:03.209860Z",
     "iopub.status.idle": "2022-06-19T00:38:03.341160Z",
     "shell.execute_reply": "2022-06-19T00:38:03.341602Z"
    },
    "papermill": {
     "duration": 0.161102,
     "end_time": "2022-06-19T00:38:03.341730",
     "exception": false,
     "start_time": "2022-06-19T00:38:03.180628",
     "status": "completed"
    },
    "tags": []
   },
   "outputs": [
    {
     "name": "stdout",
     "output_type": "stream",
     "text": [
      "2\n"
     ]
    },
    {
     "data": {
      "text/plain": [
       "<matplotlib.image.AxesImage at 0x7f17bd42f358>"
      ]
     },
     "execution_count": 9,
     "metadata": {},
     "output_type": "execute_result"
    },
    {
     "data": {
      "image/png": "[encoded data removed]",
      "text/plain": [
       "<Figure size 432x288 with 1 Axes>"
      ]
     },
     "metadata": {
      "needs_background": "light"
     },
     "output_type": "display_data"
    }
   ],
   "source": [
    "image_index = 7776 # You may select anything up to 60,000\n",
    "print(train_labels[image_index]) \n",
    "plt.imshow(train_images[image_index], cmap='Greys')"
   ]
  },
  {
   "cell_type": "markdown",
   "id": "a8d2388d",
   "metadata": {
    "papermill": {
     "duration": 0.026813,
     "end_time": "2022-06-19T00:38:03.395549",
     "exception": false,
     "start_time": "2022-06-19T00:38:03.368736",
     "status": "completed"
    },
    "tags": []
   },
   "source": [
    "## Filter data to get 3 and 8 out"
   ]
  },
  {
   "cell_type": "code",
   "execution_count": 10,
   "id": "776f7fc7",
   "metadata": {
    "execution": {
     "iopub.execute_input": "2022-06-19T00:38:03.453241Z",
     "iopub.status.busy": "2022-06-19T00:38:03.452652Z",
     "iopub.status.idle": "2022-06-19T00:38:03.469259Z",
     "shell.execute_reply": "2022-06-19T00:38:03.469689Z"
    },
    "papermill": {
     "duration": 0.047401,
     "end_time": "2022-06-19T00:38:03.469810",
     "exception": false,
     "start_time": "2022-06-19T00:38:03.422409",
     "status": "completed"
    },
    "tags": []
   },
   "outputs": [],
   "source": [
    "train_filter = np.where((train_labels == 3 ) | (train_labels == 8))\n",
    "test_filter = np.where((test_labels == 3) | (test_labels == 8))\n",
    "X_train, y_train = train_images[train_filter], train_labels[train_filter]\n",
    "X_test, y_test = test_images[test_filter], test_labels[test_filter]"
   ]
  },
  {
   "cell_type": "markdown",
   "id": "948f0b7e",
   "metadata": {
    "papermill": {
     "duration": 0.026798,
     "end_time": "2022-06-19T00:38:03.523577",
     "exception": false,
     "start_time": "2022-06-19T00:38:03.496779",
     "status": "completed"
    },
    "tags": []
   },
   "source": [
    "We normalize the pizel values in the 0 to 1 range"
   ]
  },
  {
   "cell_type": "code",
   "execution_count": 11,
   "id": "ee4c2166",
   "metadata": {
    "execution": {
     "iopub.execute_input": "2022-06-19T00:38:03.580816Z",
     "iopub.status.busy": "2022-06-19T00:38:03.580237Z",
     "iopub.status.idle": "2022-06-19T00:38:03.619286Z",
     "shell.execute_reply": "2022-06-19T00:38:03.619707Z"
    },
    "papermill": {
     "duration": 0.069497,
     "end_time": "2022-06-19T00:38:03.619838",
     "exception": false,
     "start_time": "2022-06-19T00:38:03.550341",
     "status": "completed"
    },
    "tags": []
   },
   "outputs": [],
   "source": [
    "X_train = X_train/255.\n",
    "X_test = X_test/255."
   ]
  },
  {
   "cell_type": "markdown",
   "id": "ddcf4fab",
   "metadata": {
    "papermill": {
     "duration": 0.026684,
     "end_time": "2022-06-19T00:38:03.673598",
     "exception": false,
     "start_time": "2022-06-19T00:38:03.646914",
     "status": "completed"
    },
    "tags": []
   },
   "source": [
    "And setup the labels as 1 (when the digit is 3) and 0 (when the digit is 8)"
   ]
  },
  {
   "cell_type": "code",
   "execution_count": 12,
   "id": "7dc908f2",
   "metadata": {
    "execution": {
     "iopub.execute_input": "2022-06-19T00:38:03.731199Z",
     "iopub.status.busy": "2022-06-19T00:38:03.730618Z",
     "iopub.status.idle": "2022-06-19T00:38:03.741866Z",
     "shell.execute_reply": "2022-06-19T00:38:03.742271Z"
    },
    "papermill": {
     "duration": 0.041991,
     "end_time": "2022-06-19T00:38:03.742396",
     "exception": false,
     "start_time": "2022-06-19T00:38:03.700405",
     "status": "completed"
    },
    "tags": []
   },
   "outputs": [],
   "source": [
    "y_train = 1*(y_train==3)\n",
    "y_test = 1*(y_test==3)"
   ]
  },
  {
   "cell_type": "code",
   "execution_count": 13,
   "id": "01e4e969",
   "metadata": {
    "execution": {
     "iopub.execute_input": "2022-06-19T00:38:03.799542Z",
     "iopub.status.busy": "2022-06-19T00:38:03.798993Z",
     "iopub.status.idle": "2022-06-19T00:38:03.811565Z",
     "shell.execute_reply": "2022-06-19T00:38:03.812001Z"
    },
    "papermill": {
     "duration": 0.042823,
     "end_time": "2022-06-19T00:38:03.812122",
     "exception": false,
     "start_time": "2022-06-19T00:38:03.769299",
     "status": "completed"
    },
    "tags": []
   },
   "outputs": [
    {
     "data": {
      "text/plain": [
       "((11982, 28, 28), (1984, 28, 28))"
      ]
     },
     "execution_count": 13,
     "metadata": {},
     "output_type": "execute_result"
    }
   ],
   "source": [
    "X_train.shape, X_test.shape"
   ]
  },
  {
   "cell_type": "markdown",
   "id": "5ccf3f85",
   "metadata": {
    "papermill": {
     "duration": 0.026976,
     "end_time": "2022-06-19T00:38:03.866114",
     "exception": false,
     "start_time": "2022-06-19T00:38:03.839138",
     "status": "completed"
    },
    "tags": []
   },
   "source": [
    "We reshape the data to flatten the image pixels into a set of features or co-variates:"
   ]
  },
  {
   "cell_type": "code",
   "execution_count": 14,
   "id": "5286a4a3",
   "metadata": {
    "execution": {
     "iopub.execute_input": "2022-06-19T00:38:03.924489Z",
     "iopub.status.busy": "2022-06-19T00:38:03.923930Z",
     "iopub.status.idle": "2022-06-19T00:38:03.938444Z",
     "shell.execute_reply": "2022-06-19T00:38:03.937775Z"
    },
    "papermill": {
     "duration": 0.045187,
     "end_time": "2022-06-19T00:38:03.938549",
     "exception": false,
     "start_time": "2022-06-19T00:38:03.893362",
     "status": "completed"
    },
    "tags": []
   },
   "outputs": [
    {
     "data": {
      "text/plain": [
       "((11982, 784), (1984, 784))"
      ]
     },
     "execution_count": 14,
     "metadata": {},
     "output_type": "execute_result"
    }
   ],
   "source": [
    "X_train = X_train.reshape(X_train.shape[0], -1)\n",
    "X_test = X_test.reshape(X_test.shape[0], -1)\n",
    "X_train.shape, X_test.shape"
   ]
  },
  {
   "cell_type": "code",
   "execution_count": 15,
   "id": "73c5f88a",
   "metadata": {
    "execution": {
     "iopub.execute_input": "2022-06-19T00:38:03.997651Z",
     "iopub.status.busy": "2022-06-19T00:38:03.997080Z",
     "iopub.status.idle": "2022-06-19T00:38:04.015099Z",
     "shell.execute_reply": "2022-06-19T00:38:04.014640Z"
    },
    "papermill": {
     "duration": 0.049158,
     "end_time": "2022-06-19T00:38:04.015204",
     "exception": false,
     "start_time": "2022-06-19T00:38:03.966046",
     "status": "completed"
    },
    "tags": []
   },
   "outputs": [],
   "source": [
    "#Impoting functions from 'Kudzu'\n",
    "from kudzu.model import Model\n",
    "from kudzu.train import Learner\n",
    "from kudzu.optim import GD\n",
    "from kudzu.data import Data, Sampler,Dataloader\n",
    "\n",
    "from kudzu.callbacks import AccCallback\n",
    "from kudzu.callbacks import ClfCallback\n",
    "\n",
    "from kudzu.loss import MSE\n",
    "\n",
    "from kudzu.layer import Sigmoid,Relu\n",
    "from kudzu.layer import Affine"
   ]
  },
  {
   "cell_type": "markdown",
   "id": "bc01172a",
   "metadata": {
    "papermill": {
     "duration": 0.027365,
     "end_time": "2022-06-19T00:38:04.070107",
     "exception": false,
     "start_time": "2022-06-19T00:38:04.042742",
     "status": "completed"
    },
    "tags": []
   },
   "source": [
    "### Let us create a `Config` class, to store important parameters. \n",
    "This class essentially plays the role of a dictionary."
   ]
  },
  {
   "cell_type": "code",
   "execution_count": 16,
   "id": "978281aa",
   "metadata": {
    "execution": {
     "iopub.execute_input": "2022-06-19T00:38:04.129375Z",
     "iopub.status.busy": "2022-06-19T00:38:04.128228Z",
     "iopub.status.idle": "2022-06-19T00:38:04.140871Z",
     "shell.execute_reply": "2022-06-19T00:38:04.140413Z"
    },
    "papermill": {
     "duration": 0.043485,
     "end_time": "2022-06-19T00:38:04.140981",
     "exception": false,
     "start_time": "2022-06-19T00:38:04.097496",
     "status": "completed"
    },
    "tags": []
   },
   "outputs": [],
   "source": [
    "class Config:\n",
    "    pass\n",
    "config = Config()\n",
    "config.lr = 0.001\n",
    "config.num_epochs = 250\n",
    "config.bs = 50"
   ]
  },
  {
   "cell_type": "markdown",
   "id": "1385fa59",
   "metadata": {
    "papermill": {
     "duration": 0.027213,
     "end_time": "2022-06-19T00:38:04.195564",
     "exception": false,
     "start_time": "2022-06-19T00:38:04.168351",
     "status": "completed"
    },
    "tags": []
   },
   "source": [
    "### Running Models with the Training data\n",
    "Details about the network layers:\n",
    "- A first affine layer has 784 inputs and does 100 affine transforms. These are followed by a Relu\n",
    "- A second affine layer has 100 inputs from the 100 activations of the past layer, and does 100 affine transforms. These are followed by a Relu\n",
    "- A third affine layer has 100 activations and does 2 affine transformations to create an embedding for visualization. There is no non-linearity here.\n",
    "- A final \"logistic regression\" which has an affine transform from 2 inputs to 1 output, which is squeezed through a sigmoid.\n"
   ]
  },
  {
   "cell_type": "code",
   "execution_count": 17,
   "id": "2b9c66db",
   "metadata": {
    "execution": {
     "iopub.execute_input": "2022-06-19T00:38:04.254860Z",
     "iopub.status.busy": "2022-06-19T00:38:04.254289Z",
     "iopub.status.idle": "2022-06-19T00:38:04.266354Z",
     "shell.execute_reply": "2022-06-19T00:38:04.265909Z"
    },
    "papermill": {
     "duration": 0.043604,
     "end_time": "2022-06-19T00:38:04.266459",
     "exception": false,
     "start_time": "2022-06-19T00:38:04.222855",
     "status": "completed"
    },
    "tags": []
   },
   "outputs": [],
   "source": [
    "data = Data(X_train, y_train.reshape(-1,1))\n",
    "sampler = Sampler(data, config.bs, shuffle=True)\n",
    "\n",
    "dl = Dataloader(data, sampler)\n",
    "\n",
    "opt = GD(config.lr)\n",
    "loss = MSE()"
   ]
  },
  {
   "cell_type": "code",
   "execution_count": 18,
   "id": "b275e4c2",
   "metadata": {
    "execution": {
     "iopub.execute_input": "2022-06-19T00:38:04.325202Z",
     "iopub.status.busy": "2022-06-19T00:38:04.324619Z",
     "iopub.status.idle": "2022-06-19T00:38:04.336150Z",
     "shell.execute_reply": "2022-06-19T00:38:04.335625Z"
    },
    "papermill": {
     "duration": 0.042326,
     "end_time": "2022-06-19T00:38:04.336253",
     "exception": false,
     "start_time": "2022-06-19T00:38:04.293927",
     "status": "completed"
    },
    "tags": []
   },
   "outputs": [],
   "source": [
    "training_data_x = X_train\n",
    "testing_data_x = X_test\n",
    "training_data_y = y_train.reshape(-1,1)\n",
    "testing_data_y = y_test.reshape(-1,1)"
   ]
  },
  {
   "cell_type": "code",
   "execution_count": 19,
   "id": "76951160",
   "metadata": {
    "execution": {
     "iopub.execute_input": "2022-06-19T00:38:04.395134Z",
     "iopub.status.busy": "2022-06-19T00:38:04.394564Z",
     "iopub.status.idle": "2022-06-19T00:38:04.410652Z",
     "shell.execute_reply": "2022-06-19T00:38:04.410118Z"
    },
    "papermill": {
     "duration": 0.047143,
     "end_time": "2022-06-19T00:38:04.410758",
     "exception": false,
     "start_time": "2022-06-19T00:38:04.363615",
     "status": "completed"
    },
    "tags": []
   },
   "outputs": [
    {
     "name": "stdout",
     "output_type": "stream",
     "text": [
      "xavier\n",
      "xavier\n",
      "xavier\n",
      "xavier\n",
      "xavier\n"
     ]
    }
   ],
   "source": [
    "layers = [Affine(\"first\", 784, 100), Relu(\"first\"), Affine(\"second\", 100, 100), Relu(\"second\"), Affine(\"third\", 100, 2), Affine(\"last\", 2, 1), Sigmoid(\"last\")]\n",
    "model_nn = Model(layers)\n",
    "model_lr = Model([Affine(\"logits\", 784, 1), Sigmoid(\"sigmoid\")])"
   ]
  },
  {
   "cell_type": "code",
   "execution_count": 20,
   "id": "6eede77a",
   "metadata": {
    "execution": {
     "iopub.execute_input": "2022-06-19T00:38:04.470361Z",
     "iopub.status.busy": "2022-06-19T00:38:04.469816Z",
     "iopub.status.idle": "2022-06-19T00:38:04.481211Z",
     "shell.execute_reply": "2022-06-19T00:38:04.481726Z"
    },
    "papermill": {
     "duration": 0.043201,
     "end_time": "2022-06-19T00:38:04.481844",
     "exception": false,
     "start_time": "2022-06-19T00:38:04.438643",
     "status": "completed"
    },
    "tags": []
   },
   "outputs": [],
   "source": [
    "nn_learner = Learner(loss, model_nn, opt, config.num_epochs)\n",
    "acc_nn = ClfCallback(nn_learner, config.bs, training_data_x , testing_data_x, training_data_y, testing_data_y)\n",
    "nn_learner.set_callbacks([acc_nn])"
   ]
  },
  {
   "cell_type": "code",
   "execution_count": 21,
   "id": "877b6cc7",
   "metadata": {
    "execution": {
     "iopub.execute_input": "2022-06-19T00:38:04.540801Z",
     "iopub.status.busy": "2022-06-19T00:38:04.540247Z",
     "iopub.status.idle": "2022-06-19T00:38:04.552196Z",
     "shell.execute_reply": "2022-06-19T00:38:04.551752Z"
    },
    "papermill": {
     "duration": 0.042787,
     "end_time": "2022-06-19T00:38:04.552300",
     "exception": false,
     "start_time": "2022-06-19T00:38:04.509513",
     "status": "completed"
    },
    "tags": []
   },
   "outputs": [],
   "source": [
    "lr_learner = Learner(loss, model_lr, opt, config.num_epochs)\n",
    "acc_lr = ClfCallback(lr_learner, config.bs, training_data_x , testing_data_x, training_data_y, testing_data_y)\n",
    "lr_learner.set_callbacks([acc_lr])"
   ]
  },
  {
   "cell_type": "code",
   "execution_count": 22,
   "id": "d9b133c3",
   "metadata": {
    "execution": {
     "iopub.execute_input": "2022-06-19T00:38:04.611254Z",
     "iopub.status.busy": "2022-06-19T00:38:04.610689Z",
     "iopub.status.idle": "2022-06-19T00:40:59.754771Z",
     "shell.execute_reply": "2022-06-19T00:40:59.755223Z"
    },
    "papermill": {
     "duration": 175.175373,
     "end_time": "2022-06-19T00:40:59.755353",
     "exception": false,
     "start_time": "2022-06-19T00:38:04.579980",
     "status": "completed"
    },
    "tags": []
   },
   "outputs": [
    {
     "name": "stdout",
     "output_type": "stream",
     "text": [
      "Epoch 0, Loss 0.2309\n",
      "Training Accuracy: 0.7816, Testing Accuracy: 0.7727\n",
      "\n"
     ]
    },
    {
     "name": "stdout",
     "output_type": "stream",
     "text": [
      "Epoch 10, Loss 0.1056\n",
      "Training Accuracy: 0.9079, Testing Accuracy: 0.9199\n",
      "\n"
     ]
    },
    {
     "name": "stdout",
     "output_type": "stream",
     "text": [
      "Epoch 20, Loss 0.0632\n",
      "Training Accuracy: 0.9341, Testing Accuracy: 0.9486\n",
      "\n"
     ]
    },
    {
     "name": "stdout",
     "output_type": "stream",
     "text": [
      "Epoch 30, Loss 0.0487\n",
      "Training Accuracy: 0.9459, Testing Accuracy: 0.9582\n",
      "\n"
     ]
    },
    {
     "name": "stdout",
     "output_type": "stream",
     "text": [
      "Epoch 40, Loss 0.0416\n",
      "Training Accuracy: 0.9525, Testing Accuracy: 0.9677\n",
      "\n"
     ]
    },
    {
     "name": "stdout",
     "output_type": "stream",
     "text": [
      "Epoch 50, Loss 0.0373\n",
      "Training Accuracy: 0.9580, Testing Accuracy: 0.9713\n",
      "\n"
     ]
    },
    {
     "name": "stdout",
     "output_type": "stream",
     "text": [
      "Epoch 60, Loss 0.0344\n",
      "Training Accuracy: 0.9603, Testing Accuracy: 0.9718\n",
      "\n"
     ]
    },
    {
     "name": "stdout",
     "output_type": "stream",
     "text": [
      "Epoch 70, Loss 0.0322\n",
      "Training Accuracy: 0.9629, Testing Accuracy: 0.9733\n",
      "\n"
     ]
    },
    {
     "name": "stdout",
     "output_type": "stream",
     "text": [
      "Epoch 80, Loss 0.0305\n",
      "Training Accuracy: 0.9647, Testing Accuracy: 0.9728\n",
      "\n"
     ]
    },
    {
     "name": "stdout",
     "output_type": "stream",
     "text": [
      "Epoch 90, Loss 0.0292\n",
      "Training Accuracy: 0.9670, Testing Accuracy: 0.9723\n",
      "\n"
     ]
    },
    {
     "name": "stdout",
     "output_type": "stream",
     "text": [
      "Epoch 100, Loss 0.028\n",
      "Training Accuracy: 0.9684, Testing Accuracy: 0.9718\n",
      "\n"
     ]
    },
    {
     "name": "stdout",
     "output_type": "stream",
     "text": [
      "Epoch 110, Loss 0.0269\n",
      "Training Accuracy: 0.9694, Testing Accuracy: 0.9718\n",
      "\n"
     ]
    },
    {
     "name": "stdout",
     "output_type": "stream",
     "text": [
      "Epoch 120, Loss 0.026\n",
      "Training Accuracy: 0.9700, Testing Accuracy: 0.9738\n",
      "\n"
     ]
    },
    {
     "name": "stdout",
     "output_type": "stream",
     "text": [
      "Epoch 130, Loss 0.0252\n",
      "Training Accuracy: 0.9711, Testing Accuracy: 0.9733\n",
      "\n"
     ]
    },
    {
     "name": "stdout",
     "output_type": "stream",
     "text": [
      "Epoch 140, Loss 0.0245\n",
      "Training Accuracy: 0.9719, Testing Accuracy: 0.9738\n",
      "\n"
     ]
    },
    {
     "name": "stdout",
     "output_type": "stream",
     "text": [
      "Epoch 150, Loss 0.0238\n",
      "Training Accuracy: 0.9726, Testing Accuracy: 0.9738\n",
      "\n"
     ]
    },
    {
     "name": "stdout",
     "output_type": "stream",
     "text": [
      "Epoch 160, Loss 0.0232\n",
      "Training Accuracy: 0.9735, Testing Accuracy: 0.9738\n",
      "\n"
     ]
    },
    {
     "name": "stdout",
     "output_type": "stream",
     "text": [
      "Epoch 170, Loss 0.0226\n",
      "Training Accuracy: 0.9739, Testing Accuracy: 0.9738\n",
      "\n"
     ]
    },
    {
     "name": "stdout",
     "output_type": "stream",
     "text": [
      "Epoch 180, Loss 0.0221\n",
      "Training Accuracy: 0.9750, Testing Accuracy: 0.9753\n",
      "\n"
     ]
    },
    {
     "name": "stdout",
     "output_type": "stream",
     "text": [
      "Epoch 190, Loss 0.0216\n",
      "Training Accuracy: 0.9756, Testing Accuracy: 0.9753\n",
      "\n"
     ]
    },
    {
     "name": "stdout",
     "output_type": "stream",
     "text": [
      "Epoch 200, Loss 0.0211\n",
      "Training Accuracy: 0.9762, Testing Accuracy: 0.9758\n",
      "\n"
     ]
    },
    {
     "name": "stdout",
     "output_type": "stream",
     "text": [
      "Epoch 210, Loss 0.0207\n",
      "Training Accuracy: 0.9768, Testing Accuracy: 0.9758\n",
      "\n"
     ]
    },
    {
     "name": "stdout",
     "output_type": "stream",
     "text": [
      "Epoch 220, Loss 0.0202\n",
      "Training Accuracy: 0.9773, Testing Accuracy: 0.9758\n",
      "\n"
     ]
    },
    {
     "name": "stdout",
     "output_type": "stream",
     "text": [
      "Epoch 230, Loss 0.0198\n",
      "Training Accuracy: 0.9779, Testing Accuracy: 0.9763\n",
      "\n"
     ]
    },
    {
     "name": "stdout",
     "output_type": "stream",
     "text": [
      "Epoch 240, Loss 0.0194\n",
      "Training Accuracy: 0.9785, Testing Accuracy: 0.9768\n",
      "\n"
     ]
    },
    {
     "data": {
      "text/plain": [
       "0.043068642806490955"
      ]
     },
     "execution_count": 22,
     "metadata": {},
     "output_type": "execute_result"
    }
   ],
   "source": [
    "nn_learner.train_loop(dl)"
   ]
  },
  {
   "cell_type": "code",
   "execution_count": 23,
   "id": "e0163366",
   "metadata": {
    "execution": {
     "iopub.execute_input": "2022-06-19T00:40:59.830255Z",
     "iopub.status.busy": "2022-06-19T00:40:59.829633Z",
     "iopub.status.idle": "2022-06-19T00:41:11.898939Z",
     "shell.execute_reply": "2022-06-19T00:41:11.899766Z"
    },
    "papermill": {
     "duration": 12.110037,
     "end_time": "2022-06-19T00:41:11.899905",
     "exception": false,
     "start_time": "2022-06-19T00:40:59.789868",
     "status": "completed"
    },
    "tags": []
   },
   "outputs": [
    {
     "name": "stdout",
     "output_type": "stream",
     "text": [
      "Epoch 0, Loss 0.2498\n",
      "Training Accuracy: 0.6649, Testing Accuracy: 0.6578\n",
      "\n"
     ]
    },
    {
     "name": "stdout",
     "output_type": "stream",
     "text": [
      "Epoch 10, Loss 0.1063\n",
      "Training Accuracy: 0.9006, Testing Accuracy: 0.9133\n",
      "\n"
     ]
    },
    {
     "name": "stdout",
     "output_type": "stream",
     "text": [
      "Epoch 20, Loss 0.0818\n",
      "Training Accuracy: 0.9223, Testing Accuracy: 0.9360\n",
      "\n"
     ]
    },
    {
     "name": "stdout",
     "output_type": "stream",
     "text": [
      "Epoch 30, Loss 0.0703\n",
      "Training Accuracy: 0.9306, Testing Accuracy: 0.9461\n",
      "\n"
     ]
    },
    {
     "name": "stdout",
     "output_type": "stream",
     "text": [
      "Epoch 40, Loss 0.0634\n",
      "Training Accuracy: 0.9367, Testing Accuracy: 0.9491\n",
      "\n"
     ]
    },
    {
     "name": "stdout",
     "output_type": "stream",
     "text": [
      "Epoch 50, Loss 0.0586\n",
      "Training Accuracy: 0.9406, Testing Accuracy: 0.9521\n",
      "\n"
     ]
    },
    {
     "name": "stdout",
     "output_type": "stream",
     "text": [
      "Epoch 60, Loss 0.0551\n",
      "Training Accuracy: 0.9434, Testing Accuracy: 0.9567\n",
      "\n"
     ]
    },
    {
     "name": "stdout",
     "output_type": "stream",
     "text": [
      "Epoch 70, Loss 0.0524\n",
      "Training Accuracy: 0.9454, Testing Accuracy: 0.9582\n",
      "\n"
     ]
    },
    {
     "name": "stdout",
     "output_type": "stream",
     "text": [
      "Epoch 80, Loss 0.0502\n",
      "Training Accuracy: 0.9476, Testing Accuracy: 0.9602\n",
      "\n"
     ]
    },
    {
     "name": "stdout",
     "output_type": "stream",
     "text": [
      "Epoch 90, Loss 0.0485\n",
      "Training Accuracy: 0.9493, Testing Accuracy: 0.9597\n",
      "\n"
     ]
    },
    {
     "name": "stdout",
     "output_type": "stream",
     "text": [
      "Epoch 100, Loss 0.047\n",
      "Training Accuracy: 0.9507, Testing Accuracy: 0.9612\n",
      "\n"
     ]
    },
    {
     "name": "stdout",
     "output_type": "stream",
     "text": [
      "Epoch 110, Loss 0.0457\n",
      "Training Accuracy: 0.9518, Testing Accuracy: 0.9612\n",
      "\n"
     ]
    },
    {
     "name": "stdout",
     "output_type": "stream",
     "text": [
      "Epoch 120, Loss 0.0446\n",
      "Training Accuracy: 0.9534, Testing Accuracy: 0.9632\n",
      "\n"
     ]
    },
    {
     "name": "stdout",
     "output_type": "stream",
     "text": [
      "Epoch 130, Loss 0.0436\n",
      "Training Accuracy: 0.9543, Testing Accuracy: 0.9637\n",
      "\n"
     ]
    },
    {
     "name": "stdout",
     "output_type": "stream",
     "text": [
      "Epoch 140, Loss 0.0427\n",
      "Training Accuracy: 0.9550, Testing Accuracy: 0.9642\n",
      "\n"
     ]
    },
    {
     "name": "stdout",
     "output_type": "stream",
     "text": [
      "Epoch 150, Loss 0.0419\n",
      "Training Accuracy: 0.9557, Testing Accuracy: 0.9647\n",
      "\n"
     ]
    },
    {
     "name": "stdout",
     "output_type": "stream",
     "text": [
      "Epoch 160, Loss 0.0412\n",
      "Training Accuracy: 0.9566, Testing Accuracy: 0.9652\n",
      "\n"
     ]
    },
    {
     "name": "stdout",
     "output_type": "stream",
     "text": [
      "Epoch 170, Loss 0.0406\n",
      "Training Accuracy: 0.9573, Testing Accuracy: 0.9657\n",
      "\n"
     ]
    },
    {
     "name": "stdout",
     "output_type": "stream",
     "text": [
      "Epoch 180, Loss 0.04\n",
      "Training Accuracy: 0.9580, Testing Accuracy: 0.9662\n",
      "\n"
     ]
    },
    {
     "name": "stdout",
     "output_type": "stream",
     "text": [
      "Epoch 190, Loss 0.0394\n",
      "Training Accuracy: 0.9586, Testing Accuracy: 0.9662\n",
      "\n"
     ]
    },
    {
     "name": "stdout",
     "output_type": "stream",
     "text": [
      "Epoch 200, Loss 0.0389\n",
      "Training Accuracy: 0.9590, Testing Accuracy: 0.9662\n",
      "\n"
     ]
    },
    {
     "name": "stdout",
     "output_type": "stream",
     "text": [
      "Epoch 210, Loss 0.0385\n",
      "Training Accuracy: 0.9598, Testing Accuracy: 0.9667\n",
      "\n"
     ]
    },
    {
     "name": "stdout",
     "output_type": "stream",
     "text": [
      "Epoch 220, Loss 0.038\n",
      "Training Accuracy: 0.9604, Testing Accuracy: 0.9667\n",
      "\n"
     ]
    },
    {
     "name": "stdout",
     "output_type": "stream",
     "text": [
      "Epoch 230, Loss 0.0376\n",
      "Training Accuracy: 0.9608, Testing Accuracy: 0.9667\n",
      "\n"
     ]
    },
    {
     "name": "stdout",
     "output_type": "stream",
     "text": [
      "Epoch 240, Loss 0.0373\n",
      "Training Accuracy: 0.9606, Testing Accuracy: 0.9667\n",
      "\n"
     ]
    },
    {
     "data": {
      "text/plain": [
       "0.014314107361963601"
      ]
     },
     "execution_count": 23,
     "metadata": {},
     "output_type": "execute_result"
    }
   ],
   "source": [
    "lr_learner.train_loop(dl)"
   ]
  },
  {
   "cell_type": "code",
   "execution_count": 24,
   "id": "ca410940",
   "metadata": {
    "execution": {
     "iopub.execute_input": "2022-06-19T00:41:11.990476Z",
     "iopub.status.busy": "2022-06-19T00:41:11.989919Z",
     "iopub.status.idle": "2022-06-19T00:41:12.220151Z",
     "shell.execute_reply": "2022-06-19T00:41:12.219412Z"
    },
    "papermill": {
     "duration": 0.278734,
     "end_time": "2022-06-19T00:41:12.220264",
     "exception": false,
     "start_time": "2022-06-19T00:41:11.941530",
     "status": "completed"
    },
    "tags": []
   },
   "outputs": [
    {
     "data": {
      "text/plain": [
       "<matplotlib.legend.Legend at 0x7f17bcf8b9b0>"
      ]
     },
     "execution_count": 24,
     "metadata": {},
     "output_type": "execute_result"
    },
    {
     "data": {
      "image/png": "[encoded data removed]",
      "text/plain": [
       "<Figure size 1080x720 with 1 Axes>"
      ]
     },
     "metadata": {
      "needs_background": "light"
     },
     "output_type": "display_data"
    }
   ],
   "source": [
    "#comparing the results of NN and LR\n",
    "plt.figure(figsize=(15,10))\n",
    "\n",
    "# Neural Network plots\n",
    "plt.plot(acc_nn.accuracies, 'r-', label = \"Training Accuracies - NN\")\n",
    "plt.plot(acc_nn.test_accuracies, 'g-', label = \"Testing Accuracies - NN\")\n",
    "\n",
    "# Logistic Regression plots\n",
    "plt.plot(acc_lr.accuracies, 'k-', label = \"Training Accuracies - LR\")\n",
    "plt.plot(acc_lr.test_accuracies, 'b-', label = \"Testing Accuracies - LR\")\n",
    "plt.legend()"
   ]
  },
  {
   "cell_type": "markdown",
   "id": "80dfb35c",
   "metadata": {
    "papermill": {
     "duration": 0.043074,
     "end_time": "2022-06-19T00:41:12.306853",
     "exception": false,
     "start_time": "2022-06-19T00:41:12.263779",
     "status": "completed"
    },
    "tags": []
   },
   "source": [
    "#### Plotting the outputs of this layer of the NN.\n"
   ]
  },
  {
   "cell_type": "code",
   "execution_count": 25,
   "id": "45eb2ff5",
   "metadata": {
    "execution": {
     "iopub.execute_input": "2022-06-19T00:41:12.395805Z",
     "iopub.status.busy": "2022-06-19T00:41:12.395247Z",
     "iopub.status.idle": "2022-06-19T00:41:12.430197Z",
     "shell.execute_reply": "2022-06-19T00:41:12.430965Z"
    },
    "papermill": {
     "duration": 0.081716,
     "end_time": "2022-06-19T00:41:12.431107",
     "exception": false,
     "start_time": "2022-06-19T00:41:12.349391",
     "status": "completed"
    },
    "tags": []
   },
   "outputs": [],
   "source": [
    "new_model = Model(layers[:-2])\n",
    "testing_plot = new_model(testing_data_x)"
   ]
  },
  {
   "cell_type": "code",
   "execution_count": 26,
   "id": "4c0a5485",
   "metadata": {
    "execution": {
     "iopub.execute_input": "2022-06-19T00:41:12.524790Z",
     "iopub.status.busy": "2022-06-19T00:41:12.524246Z",
     "iopub.status.idle": "2022-06-19T00:41:12.724003Z",
     "shell.execute_reply": "2022-06-19T00:41:12.723557Z"
    },
    "papermill": {
     "duration": 0.25003,
     "end_time": "2022-06-19T00:41:12.724125",
     "exception": false,
     "start_time": "2022-06-19T00:41:12.474095",
     "status": "completed"
    },
    "tags": []
   },
   "outputs": [
    {
     "data": {
      "text/plain": [
       "Text(0.5, 1.0, 'Outputs')"
      ]
     },
     "execution_count": 26,
     "metadata": {},
     "output_type": "execute_result"
    },
    {
     "data": {
      "image/png": "[encoded data removed]",
      "text/plain": [
       "<Figure size 576x504 with 1 Axes>"
      ]
     },
     "metadata": {
      "needs_background": "light"
     },
     "output_type": "display_data"
    }
   ],
   "source": [
    "# Plotting the scatter plot of points and color coding by class\n",
    "plt.figure(figsize=(8,7))\n",
    "plt.scatter(testing_plot[:,0], testing_plot[:,1], alpha = 0.1, c = y_test.ravel());\n",
    "plt.title('Outputs')"
   ]
  },
  {
   "cell_type": "markdown",
   "id": "a74fcf8f",
   "metadata": {
    "papermill": {
     "duration": 0.044843,
     "end_time": "2022-06-19T00:41:12.835958",
     "exception": false,
     "start_time": "2022-06-19T00:41:12.791115",
     "status": "completed"
    },
    "tags": []
   },
   "source": [
    "Probability contours"
   ]
  },
  {
   "cell_type": "code",
   "execution_count": 27,
   "id": "d0afc8e3",
   "metadata": {
    "execution": {
     "iopub.execute_input": "2022-06-19T00:41:12.929708Z",
     "iopub.status.busy": "2022-06-19T00:41:12.929155Z",
     "iopub.status.idle": "2022-06-19T00:41:12.940670Z",
     "shell.execute_reply": "2022-06-19T00:41:12.940224Z"
    },
    "papermill": {
     "duration": 0.05987,
     "end_time": "2022-06-19T00:41:12.940769",
     "exception": false,
     "start_time": "2022-06-19T00:41:12.880899",
     "status": "completed"
    },
    "tags": []
   },
   "outputs": [],
   "source": [
    "model_prob = Model(layers[-2:]) "
   ]
  },
  {
   "cell_type": "code",
   "execution_count": 28,
   "id": "9b96e238",
   "metadata": {
    "execution": {
     "iopub.execute_input": "2022-06-19T00:41:13.034953Z",
     "iopub.status.busy": "2022-06-19T00:41:13.034386Z",
     "iopub.status.idle": "2022-06-19T00:41:13.047955Z",
     "shell.execute_reply": "2022-06-19T00:41:13.048364Z"
    },
    "papermill": {
     "duration": 0.062734,
     "end_time": "2022-06-19T00:41:13.048481",
     "exception": false,
     "start_time": "2022-06-19T00:41:12.985747",
     "status": "completed"
    },
    "tags": []
   },
   "outputs": [],
   "source": [
    "#creating the x and y ranges according to the above generated plot.\n",
    "x_range = np.linspace(-4, 1, 100) \n",
    "y_range = np.linspace(-6, 6, 100) \n",
    "x_grid, y_grid = np.meshgrid(x_range, y_range) # x_grid and y_grig are of size 100 X 100\n",
    "\n",
    "# converting x_grid and y_grid to continuous arrays\n",
    "x_gridflat = np.ravel(x_grid)\n",
    "y_gridflat = np.ravel(y_grid)\n",
    "\n",
    "# The last layer of the current model takes two columns as input. Hence transpose of np.vstack() is required.\n",
    "X = np.vstack((x_gridflat, y_gridflat)).T\n",
    "\n",
    "prob_contour = model_prob(X).reshape(100,100) "
   ]
  },
  {
   "cell_type": "code",
   "execution_count": 29,
   "id": "da72499a",
   "metadata": {
    "execution": {
     "iopub.execute_input": "2022-06-19T00:41:13.145793Z",
     "iopub.status.busy": "2022-06-19T00:41:13.142434Z",
     "iopub.status.idle": "2022-06-19T00:41:13.398010Z",
     "shell.execute_reply": "2022-06-19T00:41:13.398418Z"
    },
    "papermill": {
     "duration": 0.304635,
     "end_time": "2022-06-19T00:41:13.398550",
     "exception": false,
     "start_time": "2022-06-19T00:41:13.093915",
     "status": "completed"
    },
    "tags": []
   },
   "outputs": [
    {
     "data": {
      "image/png": "[encoded data removed]",
      "text/plain": [
       "<Figure size 720x648 with 1 Axes>"
      ]
     },
     "metadata": {
      "needs_background": "light"
     },
     "output_type": "display_data"
    }
   ],
   "source": [
    "plt.figure(figsize=(10,9))\n",
    "plt.scatter(testing_plot[:,0], testing_plot[:,1], alpha = 0.1, c = y_test.ravel())\n",
    "contours = plt.contour(x_grid,y_grid,prob_contour)\n",
    "plt.title('Probability Contours')\n",
    "plt.clabel(contours, inline = True );"
   ]
  },
  {
   "cell_type": "code",
   "execution_count": null,
   "id": "e81b4ac7",
   "metadata": {
    "papermill": {
     "duration": 0.047687,
     "end_time": "2022-06-19T00:41:13.494422",
     "exception": false,
     "start_time": "2022-06-19T00:41:13.446735",
     "status": "completed"
    },
    "tags": []
   },
   "outputs": [],
   "source": []
  }
 ],
 "metadata": {
  "kernelspec": {
   "display_name": "Python 3",
   "language": "python",
   "name": "python3"
  },
  "language_info": {
   "codemirror_mode": {
    "name": "ipython",
    "version": 3
   },
   "file_extension": ".py",
   "mimetype": "text/x-python",
   "name": "python",
   "nbconvert_exporter": "python",
   "pygments_lexer": "ipython3",
   "version": "3.6.15"
  },
  "papermill": {
   "default_parameters": {},
   "duration": 195.512558,
   "end_time": "2022-06-19T00:41:13.859998",
   "environment_variables": {},
   "exception": null,
   "input_path": "2020-08-11-part2.ipynb",
   "output_path": "2020-08-11-part2.ipynb",
   "parameters": {},
   "start_time": "2022-06-19T00:37:58.347440",
   "version": "2.3.3"
  }
 },
 "nbformat": 4,
 "nbformat_minor": 5
}