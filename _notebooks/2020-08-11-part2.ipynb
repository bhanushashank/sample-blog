{
 "cells": [
  {
   "cell_type": "markdown",
   "id": "98380cd3",
   "metadata": {
    "papermill": {
     "duration": 0.063391,
     "end_time": "2022-09-19T10:12:58.366018",
     "exception": false,
     "start_time": "2022-09-19T10:12:58.302627",
     "status": "completed"
    },
    "tags": []
   },
   "source": [
    "# Distinguish Your Own Digits (DYOD)"
   ]
  },
  {
   "cell_type": "markdown",
   "id": "ef31240d",
   "metadata": {
    "papermill": {
     "duration": 0.053599,
     "end_time": "2022-09-19T10:12:58.477153",
     "exception": false,
     "start_time": "2022-09-19T10:12:58.423554",
     "status": "completed"
    },
    "tags": []
   },
   "source": [
    "You are going to write a classifier that distinguishes between the number 3 and number 8."
   ]
  },
  {
   "cell_type": "code",
   "execution_count": 1,
   "id": "b15c8646",
   "metadata": {
    "execution": {
     "iopub.execute_input": "2022-09-19T10:12:58.586539Z",
     "iopub.status.busy": "2022-09-19T10:12:58.582198Z",
     "iopub.status.idle": "2022-09-19T10:12:58.601459Z",
     "shell.execute_reply": "2022-09-19T10:12:58.600191Z"
    },
    "papermill": {
     "duration": 0.076534,
     "end_time": "2022-09-19T10:12:58.601637",
     "exception": false,
     "start_time": "2022-09-19T10:12:58.525103",
     "status": "completed"
    },
    "tags": []
   },
   "outputs": [],
   "source": [
    "%load_ext autoreload\n",
    "%autoreload 2"
   ]
  },
  {
   "cell_type": "code",
   "execution_count": 2,
   "id": "22ef38dc",
   "metadata": {
    "execution": {
     "iopub.execute_input": "2022-09-19T10:12:58.711096Z",
     "iopub.status.busy": "2022-09-19T10:12:58.710176Z",
     "iopub.status.idle": "2022-09-19T10:12:59.350349Z",
     "shell.execute_reply": "2022-09-19T10:12:59.349569Z"
    },
    "papermill": {
     "duration": 0.69497,
     "end_time": "2022-09-19T10:12:59.350501",
     "exception": false,
     "start_time": "2022-09-19T10:12:58.655531",
     "status": "completed"
    },
    "tags": []
   },
   "outputs": [],
   "source": [
    "%matplotlib inline\n",
    "import numpy as np\n",
    "import matplotlib.pyplot as plt\n",
    "import pandas as pd"
   ]
  },
  {
   "cell_type": "markdown",
   "id": "ba036198",
   "metadata": {
    "papermill": {
     "duration": 0.030184,
     "end_time": "2022-09-19T10:12:59.413306",
     "exception": false,
     "start_time": "2022-09-19T10:12:59.383122",
     "status": "completed"
    },
    "tags": []
   },
   "source": [
    "From the command line run `pip install mnist`. This is a library that will help you bring down the mnist dataset. If you run this from a notebook, you need to put  `!pip install mnist` in a cell by itself."
   ]
  },
  {
   "cell_type": "code",
   "execution_count": 3,
   "id": "bb6ad8a1",
   "metadata": {
    "execution": {
     "iopub.execute_input": "2022-09-19T10:12:59.483354Z",
     "iopub.status.busy": "2022-09-19T10:12:59.482481Z",
     "iopub.status.idle": "2022-09-19T10:13:02.118407Z",
     "shell.execute_reply": "2022-09-19T10:13:02.117738Z"
    },
    "papermill": {
     "duration": 2.673186,
     "end_time": "2022-09-19T10:13:02.118556",
     "exception": false,
     "start_time": "2022-09-19T10:12:59.445370",
     "status": "completed"
    },
    "tags": []
   },
   "outputs": [
    {
     "name": "stdout",
     "output_type": "stream",
     "text": [
      "Collecting mnist\r\n"
     ]
    },
    {
     "name": "stdout",
     "output_type": "stream",
     "text": [
      "  Downloading mnist-0.2.2-py2.py3-none-any.whl (3.5 kB)\r\n"
     ]
    },
    {
     "name": "stdout",
     "output_type": "stream",
     "text": [
      "Requirement already satisfied: numpy in /opt/hostedtoolcache/Python/3.6.15/x64/lib/python3.6/site-packages (from mnist) (1.19.5)\r\n"
     ]
    },
    {
     "name": "stdout",
     "output_type": "stream",
     "text": [
      "Installing collected packages: mnist\r\n"
     ]
    },
    {
     "name": "stdout",
     "output_type": "stream",
     "text": [
      "Successfully installed mnist-0.2.2\r\n"
     ]
    }
   ],
   "source": [
    "!pip install mnist"
   ]
  },
  {
   "cell_type": "markdown",
   "id": "69df9c9a",
   "metadata": {
    "papermill": {
     "duration": 0.033642,
     "end_time": "2022-09-19T10:13:02.184828",
     "exception": false,
     "start_time": "2022-09-19T10:13:02.151186",
     "status": "completed"
    },
    "tags": []
   },
   "source": [
    "## Preparing the Data"
   ]
  },
  {
   "cell_type": "code",
   "execution_count": 4,
   "id": "7f69d806",
   "metadata": {
    "execution": {
     "iopub.execute_input": "2022-09-19T10:13:02.254256Z",
     "iopub.status.busy": "2022-09-19T10:13:02.253287Z",
     "iopub.status.idle": "2022-09-19T10:13:02.281764Z",
     "shell.execute_reply": "2022-09-19T10:13:02.282369Z"
    },
    "papermill": {
     "duration": 0.065342,
     "end_time": "2022-09-19T10:13:02.282539",
     "exception": false,
     "start_time": "2022-09-19T10:13:02.217197",
     "status": "completed"
    },
    "tags": []
   },
   "outputs": [],
   "source": [
    "import mnist"
   ]
  },
  {
   "cell_type": "code",
   "execution_count": 5,
   "id": "a411e44f",
   "metadata": {
    "execution": {
     "iopub.execute_input": "2022-09-19T10:13:02.356632Z",
     "iopub.status.busy": "2022-09-19T10:13:02.355877Z",
     "iopub.status.idle": "2022-09-19T10:13:03.093629Z",
     "shell.execute_reply": "2022-09-19T10:13:03.092971Z"
    },
    "papermill": {
     "duration": 0.779541,
     "end_time": "2022-09-19T10:13:03.093787",
     "exception": false,
     "start_time": "2022-09-19T10:13:02.314246",
     "status": "completed"
    },
    "tags": []
   },
   "outputs": [],
   "source": [
    "train_images = mnist.train_images()\n",
    "train_labels = mnist.train_labels()"
   ]
  },
  {
   "cell_type": "code",
   "execution_count": 6,
   "id": "dceab3a5",
   "metadata": {
    "execution": {
     "iopub.execute_input": "2022-09-19T10:13:03.200562Z",
     "iopub.status.busy": "2022-09-19T10:13:03.199081Z",
     "iopub.status.idle": "2022-09-19T10:13:03.220459Z",
     "shell.execute_reply": "2022-09-19T10:13:03.219272Z"
    },
    "papermill": {
     "duration": 0.082362,
     "end_time": "2022-09-19T10:13:03.220680",
     "exception": false,
     "start_time": "2022-09-19T10:13:03.138318",
     "status": "completed"
    },
    "tags": []
   },
   "outputs": [
    {
     "data": {
      "text/plain": [
       "((60000, 28, 28), (60000,))"
      ]
     },
     "execution_count": 6,
     "metadata": {},
     "output_type": "execute_result"
    }
   ],
   "source": [
    "train_images.shape, train_labels.shape"
   ]
  },
  {
   "cell_type": "code",
   "execution_count": 7,
   "id": "f50dc2bb",
   "metadata": {
    "execution": {
     "iopub.execute_input": "2022-09-19T10:13:03.326570Z",
     "iopub.status.busy": "2022-09-19T10:13:03.325392Z",
     "iopub.status.idle": "2022-09-19T10:13:03.604847Z",
     "shell.execute_reply": "2022-09-19T10:13:03.603801Z"
    },
    "papermill": {
     "duration": 0.336511,
     "end_time": "2022-09-19T10:13:03.605001",
     "exception": false,
     "start_time": "2022-09-19T10:13:03.268490",
     "status": "completed"
    },
    "tags": []
   },
   "outputs": [],
   "source": [
    "test_images = mnist.test_images()\n",
    "test_labels = mnist.test_labels()"
   ]
  },
  {
   "cell_type": "code",
   "execution_count": 8,
   "id": "fc38cf1b",
   "metadata": {
    "execution": {
     "iopub.execute_input": "2022-09-19T10:13:03.675826Z",
     "iopub.status.busy": "2022-09-19T10:13:03.675077Z",
     "iopub.status.idle": "2022-09-19T10:13:03.691367Z",
     "shell.execute_reply": "2022-09-19T10:13:03.689826Z"
    },
    "papermill": {
     "duration": 0.052455,
     "end_time": "2022-09-19T10:13:03.692071",
     "exception": false,
     "start_time": "2022-09-19T10:13:03.639616",
     "status": "completed"
    },
    "tags": []
   },
   "outputs": [
    {
     "data": {
      "text/plain": [
       "((10000, 28, 28), (10000,))"
      ]
     },
     "execution_count": 8,
     "metadata": {},
     "output_type": "execute_result"
    }
   ],
   "source": [
    "test_images.shape, test_labels.shape"
   ]
  },
  {
   "cell_type": "code",
   "execution_count": 9,
   "id": "f9ed8fe0",
   "metadata": {
    "execution": {
     "iopub.execute_input": "2022-09-19T10:13:03.806878Z",
     "iopub.status.busy": "2022-09-19T10:13:03.805632Z",
     "iopub.status.idle": "2022-09-19T10:13:04.022398Z",
     "shell.execute_reply": "2022-09-19T10:13:04.021780Z"
    },
    "papermill": {
     "duration": 0.274437,
     "end_time": "2022-09-19T10:13:04.022549",
     "exception": false,
     "start_time": "2022-09-19T10:13:03.748112",
     "status": "completed"
    },
    "tags": []
   },
   "outputs": [
    {
     "name": "stdout",
     "output_type": "stream",
     "text": [
      "2\n"
     ]
    },
    {
     "data": {
      "text/plain": [
       "<matplotlib.image.AxesImage at 0x7f403785bc88>"
      ]
     },
     "execution_count": 9,
     "metadata": {},
     "output_type": "execute_result"
    },
    {
     "data": {
      "image/png": "[encoded data removed]",
      "text/plain": [
       "<Figure size 432x288 with 1 Axes>"
      ]
     },
     "metadata": {
      "needs_background": "light"
     },
     "output_type": "display_data"
    }
   ],
   "source": [
    "image_index = 7776 # You may select anything up to 60,000\n",
    "print(train_labels[image_index]) \n",
    "plt.imshow(train_images[image_index], cmap='Greys')"
   ]
  },
  {
   "cell_type": "markdown",
   "id": "a8d2388d",
   "metadata": {
    "papermill": {
     "duration": 0.059714,
     "end_time": "2022-09-19T10:13:04.145847",
     "exception": false,
     "start_time": "2022-09-19T10:13:04.086133",
     "status": "completed"
    },
    "tags": []
   },
   "source": [
    "## Filter data to get 3 and 8 out"
   ]
  },
  {
   "cell_type": "code",
   "execution_count": 10,
   "id": "776f7fc7",
   "metadata": {
    "execution": {
     "iopub.execute_input": "2022-09-19T10:13:04.283607Z",
     "iopub.status.busy": "2022-09-19T10:13:04.281954Z",
     "iopub.status.idle": "2022-09-19T10:13:04.310163Z",
     "shell.execute_reply": "2022-09-19T10:13:04.308992Z"
    },
    "papermill": {
     "duration": 0.097103,
     "end_time": "2022-09-19T10:13:04.310333",
     "exception": false,
     "start_time": "2022-09-19T10:13:04.213230",
     "status": "completed"
    },
    "tags": []
   },
   "outputs": [],
   "source": [
    "train_filter = np.where((train_labels == 3 ) | (train_labels == 8))\n",
    "test_filter = np.where((test_labels == 3) | (test_labels == 8))\n",
    "X_train, y_train = train_images[train_filter], train_labels[train_filter]\n",
    "X_test, y_test = test_images[test_filter], test_labels[test_filter]"
   ]
  },
  {
   "cell_type": "markdown",
   "id": "948f0b7e",
   "metadata": {
    "papermill": {
     "duration": 0.045037,
     "end_time": "2022-09-19T10:13:04.400439",
     "exception": false,
     "start_time": "2022-09-19T10:13:04.355402",
     "status": "completed"
    },
    "tags": []
   },
   "source": [
    "We normalize the pizel values in the 0 to 1 range"
   ]
  },
  {
   "cell_type": "code",
   "execution_count": 11,
   "id": "ee4c2166",
   "metadata": {
    "execution": {
     "iopub.execute_input": "2022-09-19T10:13:04.501838Z",
     "iopub.status.busy": "2022-09-19T10:13:04.501058Z",
     "iopub.status.idle": "2022-09-19T10:13:04.586937Z",
     "shell.execute_reply": "2022-09-19T10:13:04.587550Z"
    },
    "papermill": {
     "duration": 0.139304,
     "end_time": "2022-09-19T10:13:04.587727",
     "exception": false,
     "start_time": "2022-09-19T10:13:04.448423",
     "status": "completed"
    },
    "tags": []
   },
   "outputs": [],
   "source": [
    "X_train = X_train/255.\n",
    "X_test = X_test/255."
   ]
  },
  {
   "cell_type": "markdown",
   "id": "ddcf4fab",
   "metadata": {
    "papermill": {
     "duration": 0.058559,
     "end_time": "2022-09-19T10:13:04.704752",
     "exception": false,
     "start_time": "2022-09-19T10:13:04.646193",
     "status": "completed"
    },
    "tags": []
   },
   "source": [
    "And setup the labels as 1 (when the digit is 3) and 0 (when the digit is 8)"
   ]
  },
  {
   "cell_type": "code",
   "execution_count": 12,
   "id": "7dc908f2",
   "metadata": {
    "execution": {
     "iopub.execute_input": "2022-09-19T10:13:04.821405Z",
     "iopub.status.busy": "2022-09-19T10:13:04.820429Z",
     "iopub.status.idle": "2022-09-19T10:13:04.835234Z",
     "shell.execute_reply": "2022-09-19T10:13:04.836261Z"
    },
    "papermill": {
     "duration": 0.075061,
     "end_time": "2022-09-19T10:13:04.836417",
     "exception": false,
     "start_time": "2022-09-19T10:13:04.761356",
     "status": "completed"
    },
    "tags": []
   },
   "outputs": [],
   "source": [
    "y_train = 1*(y_train==3)\n",
    "y_test = 1*(y_test==3)"
   ]
  },
  {
   "cell_type": "code",
   "execution_count": 13,
   "id": "01e4e969",
   "metadata": {
    "execution": {
     "iopub.execute_input": "2022-09-19T10:13:04.939779Z",
     "iopub.status.busy": "2022-09-19T10:13:04.938627Z",
     "iopub.status.idle": "2022-09-19T10:13:04.957131Z",
     "shell.execute_reply": "2022-09-19T10:13:04.955963Z"
    },
    "papermill": {
     "duration": 0.070392,
     "end_time": "2022-09-19T10:13:04.957275",
     "exception": false,
     "start_time": "2022-09-19T10:13:04.886883",
     "status": "completed"
    },
    "tags": []
   },
   "outputs": [
    {
     "data": {
      "text/plain": [
       "((11982, 28, 28), (1984, 28, 28))"
      ]
     },
     "execution_count": 13,
     "metadata": {},
     "output_type": "execute_result"
    }
   ],
   "source": [
    "X_train.shape, X_test.shape"
   ]
  },
  {
   "cell_type": "markdown",
   "id": "5ccf3f85",
   "metadata": {
    "papermill": {
     "duration": 0.043575,
     "end_time": "2022-09-19T10:13:05.045444",
     "exception": false,
     "start_time": "2022-09-19T10:13:05.001869",
     "status": "completed"
    },
    "tags": []
   },
   "source": [
    "We reshape the data to flatten the image pixels into a set of features or co-variates:"
   ]
  },
  {
   "cell_type": "code",
   "execution_count": 14,
   "id": "5286a4a3",
   "metadata": {
    "execution": {
     "iopub.execute_input": "2022-09-19T10:13:05.139967Z",
     "iopub.status.busy": "2022-09-19T10:13:05.138562Z",
     "iopub.status.idle": "2022-09-19T10:13:05.154517Z",
     "shell.execute_reply": "2022-09-19T10:13:05.155175Z"
    },
    "papermill": {
     "duration": 0.068099,
     "end_time": "2022-09-19T10:13:05.155684",
     "exception": false,
     "start_time": "2022-09-19T10:13:05.087585",
     "status": "completed"
    },
    "tags": []
   },
   "outputs": [
    {
     "data": {
      "text/plain": [
       "((11982, 784), (1984, 784))"
      ]
     },
     "execution_count": 14,
     "metadata": {},
     "output_type": "execute_result"
    }
   ],
   "source": [
    "X_train = X_train.reshape(X_train.shape[0], -1)\n",
    "X_test = X_test.reshape(X_test.shape[0], -1)\n",
    "X_train.shape, X_test.shape"
   ]
  },
  {
   "cell_type": "code",
   "execution_count": 15,
   "id": "73c5f88a",
   "metadata": {
    "execution": {
     "iopub.execute_input": "2022-09-19T10:13:05.276285Z",
     "iopub.status.busy": "2022-09-19T10:13:05.274790Z",
     "iopub.status.idle": "2022-09-19T10:13:05.296417Z",
     "shell.execute_reply": "2022-09-19T10:13:05.295675Z"
    },
    "papermill": {
     "duration": 0.082974,
     "end_time": "2022-09-19T10:13:05.296559",
     "exception": false,
     "start_time": "2022-09-19T10:13:05.213585",
     "status": "completed"
    },
    "tags": []
   },
   "outputs": [],
   "source": [
    "#Impoting functions from 'Kudzu'\n",
    "from kudzu.model import Model\n",
    "from kudzu.train import Learner\n",
    "from kudzu.optim import GD\n",
    "from kudzu.data import Data, Sampler,Dataloader\n",
    "\n",
    "from kudzu.callbacks import AccCallback\n",
    "from kudzu.callbacks import ClfCallback\n",
    "\n",
    "from kudzu.loss import MSE\n",
    "\n",
    "from kudzu.layer import Sigmoid,Relu\n",
    "from kudzu.layer import Affine"
   ]
  },
  {
   "cell_type": "markdown",
   "id": "bc01172a",
   "metadata": {
    "papermill": {
     "duration": 0.042767,
     "end_time": "2022-09-19T10:13:05.383596",
     "exception": false,
     "start_time": "2022-09-19T10:13:05.340829",
     "status": "completed"
    },
    "tags": []
   },
   "source": [
    "### Let us create a `Config` class, to store important parameters. \n",
    "This class essentially plays the role of a dictionary."
   ]
  },
  {
   "cell_type": "code",
   "execution_count": 16,
   "id": "978281aa",
   "metadata": {
    "execution": {
     "iopub.execute_input": "2022-09-19T10:13:05.484457Z",
     "iopub.status.busy": "2022-09-19T10:13:05.483567Z",
     "iopub.status.idle": "2022-09-19T10:13:05.497852Z",
     "shell.execute_reply": "2022-09-19T10:13:05.497230Z"
    },
    "papermill": {
     "duration": 0.065456,
     "end_time": "2022-09-19T10:13:05.497989",
     "exception": false,
     "start_time": "2022-09-19T10:13:05.432533",
     "status": "completed"
    },
    "tags": []
   },
   "outputs": [],
   "source": [
    "class Config:\n",
    "    pass\n",
    "config = Config()\n",
    "config.lr = 0.001\n",
    "config.num_epochs = 250\n",
    "config.bs = 50"
   ]
  },
  {
   "cell_type": "markdown",
   "id": "1385fa59",
   "metadata": {
    "papermill": {
     "duration": 0.055845,
     "end_time": "2022-09-19T10:13:05.611011",
     "exception": false,
     "start_time": "2022-09-19T10:13:05.555166",
     "status": "completed"
    },
    "tags": []
   },
   "source": [
    "### Running Models with the Training data\n",
    "Details about the network layers:\n",
    "- A first affine layer has 784 inputs and does 100 affine transforms. These are followed by a Relu\n",
    "- A second affine layer has 100 inputs from the 100 activations of the past layer, and does 100 affine transforms. These are followed by a Relu\n",
    "- A third affine layer has 100 activations and does 2 affine transformations to create an embedding for visualization. There is no non-linearity here.\n",
    "- A final \"logistic regression\" which has an affine transform from 2 inputs to 1 output, which is squeezed through a sigmoid.\n"
   ]
  },
  {
   "cell_type": "code",
   "execution_count": 17,
   "id": "2b9c66db",
   "metadata": {
    "execution": {
     "iopub.execute_input": "2022-09-19T10:13:05.742649Z",
     "iopub.status.busy": "2022-09-19T10:13:05.741319Z",
     "iopub.status.idle": "2022-09-19T10:13:05.756901Z",
     "shell.execute_reply": "2022-09-19T10:13:05.755679Z"
    },
    "papermill": {
     "duration": 0.088181,
     "end_time": "2022-09-19T10:13:05.757051",
     "exception": false,
     "start_time": "2022-09-19T10:13:05.668870",
     "status": "completed"
    },
    "tags": []
   },
   "outputs": [],
   "source": [
    "data = Data(X_train, y_train.reshape(-1,1))\n",
    "sampler = Sampler(data, config.bs, shuffle=True)\n",
    "\n",
    "dl = Dataloader(data, sampler)\n",
    "\n",
    "opt = GD(config.lr)\n",
    "loss = MSE()"
   ]
  },
  {
   "cell_type": "code",
   "execution_count": 18,
   "id": "b275e4c2",
   "metadata": {
    "execution": {
     "iopub.execute_input": "2022-09-19T10:13:05.879645Z",
     "iopub.status.busy": "2022-09-19T10:13:05.878883Z",
     "iopub.status.idle": "2022-09-19T10:13:05.895291Z",
     "shell.execute_reply": "2022-09-19T10:13:05.894374Z"
    },
    "papermill": {
     "duration": 0.078177,
     "end_time": "2022-09-19T10:13:05.895429",
     "exception": false,
     "start_time": "2022-09-19T10:13:05.817252",
     "status": "completed"
    },
    "tags": []
   },
   "outputs": [],
   "source": [
    "training_data_x = X_train\n",
    "testing_data_x = X_test\n",
    "training_data_y = y_train.reshape(-1,1)\n",
    "testing_data_y = y_test.reshape(-1,1)"
   ]
  },
  {
   "cell_type": "code",
   "execution_count": 19,
   "id": "76951160",
   "metadata": {
    "execution": {
     "iopub.execute_input": "2022-09-19T10:13:05.971068Z",
     "iopub.status.busy": "2022-09-19T10:13:05.970311Z",
     "iopub.status.idle": "2022-09-19T10:13:05.990044Z",
     "shell.execute_reply": "2022-09-19T10:13:05.991245Z"
    },
    "papermill": {
     "duration": 0.060652,
     "end_time": "2022-09-19T10:13:05.991590",
     "exception": false,
     "start_time": "2022-09-19T10:13:05.930938",
     "status": "completed"
    },
    "tags": []
   },
   "outputs": [
    {
     "name": "stdout",
     "output_type": "stream",
     "text": [
      "xavier\n",
      "xavier\n",
      "xavier\n",
      "xavier\n",
      "xavier\n"
     ]
    }
   ],
   "source": [
    "layers = [Affine(\"first\", 784, 100), Relu(\"first\"), Affine(\"second\", 100, 100), Relu(\"second\"), Affine(\"third\", 100, 2), Affine(\"last\", 2, 1), Sigmoid(\"last\")]\n",
    "model_nn = Model(layers)\n",
    "model_lr = Model([Affine(\"logits\", 784, 1), Sigmoid(\"sigmoid\")])"
   ]
  },
  {
   "cell_type": "code",
   "execution_count": 20,
   "id": "6eede77a",
   "metadata": {
    "execution": {
     "iopub.execute_input": "2022-09-19T10:13:06.125941Z",
     "iopub.status.busy": "2022-09-19T10:13:06.124504Z",
     "iopub.status.idle": "2022-09-19T10:13:06.146449Z",
     "shell.execute_reply": "2022-09-19T10:13:06.147194Z"
    },
    "papermill": {
     "duration": 0.093819,
     "end_time": "2022-09-19T10:13:06.147352",
     "exception": false,
     "start_time": "2022-09-19T10:13:06.053533",
     "status": "completed"
    },
    "tags": []
   },
   "outputs": [],
   "source": [
    "nn_learner = Learner(loss, model_nn, opt, config.num_epochs)\n",
    "acc_nn = ClfCallback(nn_learner, config.bs, training_data_x , testing_data_x, training_data_y, testing_data_y)\n",
    "nn_learner.set_callbacks([acc_nn])"
   ]
  },
  {
   "cell_type": "code",
   "execution_count": 21,
   "id": "877b6cc7",
   "metadata": {
    "execution": {
     "iopub.execute_input": "2022-09-19T10:13:06.267843Z",
     "iopub.status.busy": "2022-09-19T10:13:06.266998Z",
     "iopub.status.idle": "2022-09-19T10:13:06.288893Z",
     "shell.execute_reply": "2022-09-19T10:13:06.288128Z"
    },
    "papermill": {
     "duration": 0.087859,
     "end_time": "2022-09-19T10:13:06.289031",
     "exception": false,
     "start_time": "2022-09-19T10:13:06.201172",
     "status": "completed"
    },
    "tags": []
   },
   "outputs": [],
   "source": [
    "lr_learner = Learner(loss, model_lr, opt, config.num_epochs)\n",
    "acc_lr = ClfCallback(lr_learner, config.bs, training_data_x , testing_data_x, training_data_y, testing_data_y)\n",
    "lr_learner.set_callbacks([acc_lr])"
   ]
  },
  {
   "cell_type": "code",
   "execution_count": 22,
   "id": "d9b133c3",
   "metadata": {
    "execution": {
     "iopub.execute_input": "2022-09-19T10:13:06.392296Z",
     "iopub.status.busy": "2022-09-19T10:13:06.391351Z",
     "iopub.status.idle": "2022-09-19T10:15:54.109295Z",
     "shell.execute_reply": "2022-09-19T10:15:54.110408Z"
    },
    "papermill": {
     "duration": 167.766632,
     "end_time": "2022-09-19T10:15:54.110580",
     "exception": false,
     "start_time": "2022-09-19T10:13:06.343948",
     "status": "completed"
    },
    "tags": []
   },
   "outputs": [
    {
     "name": "stdout",
     "output_type": "stream",
     "text": [
      "Epoch 0, Loss 0.2278\n",
      "Training Accuracy: 0.7535, Testing Accuracy: 0.7676\n",
      "\n"
     ]
    },
    {
     "name": "stdout",
     "output_type": "stream",
     "text": [
      "Epoch 10, Loss 0.0782\n",
      "Training Accuracy: 0.9232, Testing Accuracy: 0.9350\n",
      "\n"
     ]
    },
    {
     "name": "stdout",
     "output_type": "stream",
     "text": [
      "Epoch 20, Loss 0.0514\n",
      "Training Accuracy: 0.9447, Testing Accuracy: 0.9551\n",
      "\n"
     ]
    },
    {
     "name": "stdout",
     "output_type": "stream",
     "text": [
      "Epoch 30, Loss 0.0418\n",
      "Training Accuracy: 0.9537, Testing Accuracy: 0.9607\n",
      "\n"
     ]
    },
    {
     "name": "stdout",
     "output_type": "stream",
     "text": [
      "Epoch 40, Loss 0.0367\n",
      "Training Accuracy: 0.9587, Testing Accuracy: 0.9642\n",
      "\n"
     ]
    },
    {
     "name": "stdout",
     "output_type": "stream",
     "text": [
      "Epoch 50, Loss 0.0336\n",
      "Training Accuracy: 0.9613, Testing Accuracy: 0.9677\n",
      "\n"
     ]
    },
    {
     "name": "stdout",
     "output_type": "stream",
     "text": [
      "Epoch 60, Loss 0.0314\n",
      "Training Accuracy: 0.9636, Testing Accuracy: 0.9672\n",
      "\n"
     ]
    },
    {
     "name": "stdout",
     "output_type": "stream",
     "text": [
      "Epoch 70, Loss 0.0298\n",
      "Training Accuracy: 0.9648, Testing Accuracy: 0.9693\n",
      "\n"
     ]
    },
    {
     "name": "stdout",
     "output_type": "stream",
     "text": [
      "Epoch 80, Loss 0.0284\n",
      "Training Accuracy: 0.9660, Testing Accuracy: 0.9708\n",
      "\n"
     ]
    },
    {
     "name": "stdout",
     "output_type": "stream",
     "text": [
      "Epoch 90, Loss 0.0273\n",
      "Training Accuracy: 0.9674, Testing Accuracy: 0.9713\n",
      "\n"
     ]
    },
    {
     "name": "stdout",
     "output_type": "stream",
     "text": [
      "Epoch 100, Loss 0.0264\n",
      "Training Accuracy: 0.9690, Testing Accuracy: 0.9713\n",
      "\n"
     ]
    },
    {
     "name": "stdout",
     "output_type": "stream",
     "text": [
      "Epoch 110, Loss 0.0255\n",
      "Training Accuracy: 0.9705, Testing Accuracy: 0.9713\n",
      "\n"
     ]
    },
    {
     "name": "stdout",
     "output_type": "stream",
     "text": [
      "Epoch 120, Loss 0.0248\n",
      "Training Accuracy: 0.9714, Testing Accuracy: 0.9718\n",
      "\n"
     ]
    },
    {
     "name": "stdout",
     "output_type": "stream",
     "text": [
      "Epoch 130, Loss 0.0241\n",
      "Training Accuracy: 0.9716, Testing Accuracy: 0.9718\n",
      "\n"
     ]
    },
    {
     "name": "stdout",
     "output_type": "stream",
     "text": [
      "Epoch 140, Loss 0.0235\n",
      "Training Accuracy: 0.9728, Testing Accuracy: 0.9718\n",
      "\n"
     ]
    },
    {
     "name": "stdout",
     "output_type": "stream",
     "text": [
      "Epoch 150, Loss 0.023\n",
      "Training Accuracy: 0.9736, Testing Accuracy: 0.9713\n",
      "\n"
     ]
    },
    {
     "name": "stdout",
     "output_type": "stream",
     "text": [
      "Epoch 160, Loss 0.0224\n",
      "Training Accuracy: 0.9744, Testing Accuracy: 0.9723\n",
      "\n"
     ]
    },
    {
     "name": "stdout",
     "output_type": "stream",
     "text": [
      "Epoch 170, Loss 0.0219\n",
      "Training Accuracy: 0.9749, Testing Accuracy: 0.9718\n",
      "\n"
     ]
    },
    {
     "name": "stdout",
     "output_type": "stream",
     "text": [
      "Epoch 180, Loss 0.0215\n",
      "Training Accuracy: 0.9753, Testing Accuracy: 0.9728\n",
      "\n"
     ]
    },
    {
     "name": "stdout",
     "output_type": "stream",
     "text": [
      "Epoch 190, Loss 0.0211\n",
      "Training Accuracy: 0.9759, Testing Accuracy: 0.9728\n",
      "\n"
     ]
    },
    {
     "name": "stdout",
     "output_type": "stream",
     "text": [
      "Epoch 200, Loss 0.0206\n",
      "Training Accuracy: 0.9765, Testing Accuracy: 0.9728\n",
      "\n"
     ]
    },
    {
     "name": "stdout",
     "output_type": "stream",
     "text": [
      "Epoch 210, Loss 0.0202\n",
      "Training Accuracy: 0.9769, Testing Accuracy: 0.9728\n",
      "\n"
     ]
    },
    {
     "name": "stdout",
     "output_type": "stream",
     "text": [
      "Epoch 220, Loss 0.0199\n",
      "Training Accuracy: 0.9775, Testing Accuracy: 0.9728\n",
      "\n"
     ]
    },
    {
     "name": "stdout",
     "output_type": "stream",
     "text": [
      "Epoch 230, Loss 0.0195\n",
      "Training Accuracy: 0.9785, Testing Accuracy: 0.9728\n",
      "\n"
     ]
    },
    {
     "name": "stdout",
     "output_type": "stream",
     "text": [
      "Epoch 240, Loss 0.0191\n",
      "Training Accuracy: 0.9790, Testing Accuracy: 0.9723\n",
      "\n"
     ]
    },
    {
     "data": {
      "text/plain": [
       "0.005534075898278658"
      ]
     },
     "execution_count": 22,
     "metadata": {},
     "output_type": "execute_result"
    }
   ],
   "source": [
    "nn_learner.train_loop(dl)"
   ]
  },
  {
   "cell_type": "code",
   "execution_count": 23,
   "id": "e0163366",
   "metadata": {
    "execution": {
     "iopub.execute_input": "2022-09-19T10:15:54.260712Z",
     "iopub.status.busy": "2022-09-19T10:15:54.259811Z",
     "iopub.status.idle": "2022-09-19T10:16:20.657734Z",
     "shell.execute_reply": "2022-09-19T10:16:20.658801Z"
    },
    "papermill": {
     "duration": 26.475478,
     "end_time": "2022-09-19T10:16:20.658971",
     "exception": false,
     "start_time": "2022-09-19T10:15:54.183493",
     "status": "completed"
    },
    "tags": []
   },
   "outputs": [
    {
     "name": "stdout",
     "output_type": "stream",
     "text": [
      "Epoch 0, Loss 0.2001\n",
      "Training Accuracy: 0.8070, Testing Accuracy: 0.8261\n",
      "\n"
     ]
    },
    {
     "name": "stdout",
     "output_type": "stream",
     "text": [
      "Epoch 10, Loss 0.0995\n",
      "Training Accuracy: 0.9109, Testing Accuracy: 0.9168\n",
      "\n"
     ]
    },
    {
     "name": "stdout",
     "output_type": "stream",
     "text": [
      "Epoch 20, Loss 0.078\n",
      "Training Accuracy: 0.9277, Testing Accuracy: 0.9375\n",
      "\n"
     ]
    },
    {
     "name": "stdout",
     "output_type": "stream",
     "text": [
      "Epoch 30, Loss 0.0675\n",
      "Training Accuracy: 0.9352, Testing Accuracy: 0.9471\n",
      "\n"
     ]
    },
    {
     "name": "stdout",
     "output_type": "stream",
     "text": [
      "Epoch 40, Loss 0.0611\n",
      "Training Accuracy: 0.9402, Testing Accuracy: 0.9491\n",
      "\n"
     ]
    },
    {
     "name": "stdout",
     "output_type": "stream",
     "text": [
      "Epoch 50, Loss 0.0567\n",
      "Training Accuracy: 0.9446, Testing Accuracy: 0.9531\n",
      "\n"
     ]
    },
    {
     "name": "stdout",
     "output_type": "stream",
     "text": [
      "Epoch 60, Loss 0.0535\n",
      "Training Accuracy: 0.9476, Testing Accuracy: 0.9572\n",
      "\n"
     ]
    },
    {
     "name": "stdout",
     "output_type": "stream",
     "text": [
      "Epoch 70, Loss 0.051\n",
      "Training Accuracy: 0.9500, Testing Accuracy: 0.9592\n",
      "\n"
     ]
    },
    {
     "name": "stdout",
     "output_type": "stream",
     "text": [
      "Epoch 80, Loss 0.049\n",
      "Training Accuracy: 0.9512, Testing Accuracy: 0.9602\n",
      "\n"
     ]
    },
    {
     "name": "stdout",
     "output_type": "stream",
     "text": [
      "Epoch 90, Loss 0.0473\n",
      "Training Accuracy: 0.9525, Testing Accuracy: 0.9617\n",
      "\n"
     ]
    },
    {
     "name": "stdout",
     "output_type": "stream",
     "text": [
      "Epoch 100, Loss 0.0459\n",
      "Training Accuracy: 0.9538, Testing Accuracy: 0.9632\n",
      "\n"
     ]
    },
    {
     "name": "stdout",
     "output_type": "stream",
     "text": [
      "Epoch 110, Loss 0.0447\n",
      "Training Accuracy: 0.9550, Testing Accuracy: 0.9637\n",
      "\n"
     ]
    },
    {
     "name": "stdout",
     "output_type": "stream",
     "text": [
      "Epoch 120, Loss 0.0437\n",
      "Training Accuracy: 0.9555, Testing Accuracy: 0.9642\n",
      "\n"
     ]
    },
    {
     "name": "stdout",
     "output_type": "stream",
     "text": [
      "Epoch 130, Loss 0.0428\n",
      "Training Accuracy: 0.9562, Testing Accuracy: 0.9647\n",
      "\n"
     ]
    },
    {
     "name": "stdout",
     "output_type": "stream",
     "text": [
      "Epoch 140, Loss 0.0419\n",
      "Training Accuracy: 0.9570, Testing Accuracy: 0.9647\n",
      "\n"
     ]
    },
    {
     "name": "stdout",
     "output_type": "stream",
     "text": [
      "Epoch 150, Loss 0.0412\n",
      "Training Accuracy: 0.9573, Testing Accuracy: 0.9647\n",
      "\n"
     ]
    },
    {
     "name": "stdout",
     "output_type": "stream",
     "text": [
      "Epoch 160, Loss 0.0405\n",
      "Training Accuracy: 0.9579, Testing Accuracy: 0.9657\n",
      "\n"
     ]
    },
    {
     "name": "stdout",
     "output_type": "stream",
     "text": [
      "Epoch 170, Loss 0.0399\n",
      "Training Accuracy: 0.9582, Testing Accuracy: 0.9667\n",
      "\n"
     ]
    },
    {
     "name": "stdout",
     "output_type": "stream",
     "text": [
      "Epoch 180, Loss 0.0394\n",
      "Training Accuracy: 0.9583, Testing Accuracy: 0.9667\n",
      "\n"
     ]
    },
    {
     "name": "stdout",
     "output_type": "stream",
     "text": [
      "Epoch 190, Loss 0.0389\n",
      "Training Accuracy: 0.9588, Testing Accuracy: 0.9677\n",
      "\n"
     ]
    },
    {
     "name": "stdout",
     "output_type": "stream",
     "text": [
      "Epoch 200, Loss 0.0384\n",
      "Training Accuracy: 0.9594, Testing Accuracy: 0.9677\n",
      "\n"
     ]
    },
    {
     "name": "stdout",
     "output_type": "stream",
     "text": [
      "Epoch 210, Loss 0.038\n",
      "Training Accuracy: 0.9598, Testing Accuracy: 0.9677\n",
      "\n"
     ]
    },
    {
     "name": "stdout",
     "output_type": "stream",
     "text": [
      "Epoch 220, Loss 0.0376\n",
      "Training Accuracy: 0.9604, Testing Accuracy: 0.9682\n",
      "\n"
     ]
    },
    {
     "name": "stdout",
     "output_type": "stream",
     "text": [
      "Epoch 230, Loss 0.0372\n",
      "Training Accuracy: 0.9607, Testing Accuracy: 0.9693\n",
      "\n"
     ]
    },
    {
     "name": "stdout",
     "output_type": "stream",
     "text": [
      "Epoch 240, Loss 0.0368\n",
      "Training Accuracy: 0.9609, Testing Accuracy: 0.9688\n",
      "\n"
     ]
    },
    {
     "data": {
      "text/plain": [
       "0.037085069969732036"
      ]
     },
     "execution_count": 23,
     "metadata": {},
     "output_type": "execute_result"
    }
   ],
   "source": [
    "lr_learner.train_loop(dl)"
   ]
  },
  {
   "cell_type": "code",
   "execution_count": 24,
   "id": "ca410940",
   "metadata": {
    "execution": {
     "iopub.execute_input": "2022-09-19T10:16:20.771291Z",
     "iopub.status.busy": "2022-09-19T10:16:20.770392Z",
     "iopub.status.idle": "2022-09-19T10:16:21.057685Z",
     "shell.execute_reply": "2022-09-19T10:16:21.058292Z"
    },
    "papermill": {
     "duration": 0.347281,
     "end_time": "2022-09-19T10:16:21.058464",
     "exception": false,
     "start_time": "2022-09-19T10:16:20.711183",
     "status": "completed"
    },
    "tags": []
   },
   "outputs": [
    {
     "data": {
      "text/plain": [
       "<matplotlib.legend.Legend at 0x7f40373cb320>"
      ]
     },
     "execution_count": 24,
     "metadata": {},
     "output_type": "execute_result"
    },
    {
     "data": {
      "image/png": "[encoded data removed]",
      "text/plain": [
       "<Figure size 1080x720 with 1 Axes>"
      ]
     },
     "metadata": {
      "needs_background": "light"
     },
     "output_type": "display_data"
    }
   ],
   "source": [
    "#comparing the results of NN and LR\n",
    "plt.figure(figsize=(15,10))\n",
    "\n",
    "# Neural Network plots\n",
    "plt.plot(acc_nn.accuracies, 'r-', label = \"Training Accuracies - NN\")\n",
    "plt.plot(acc_nn.test_accuracies, 'g-', label = \"Testing Accuracies - NN\")\n",
    "\n",
    "# Logistic Regression plots\n",
    "plt.plot(acc_lr.accuracies, 'k-', label = \"Training Accuracies - LR\")\n",
    "plt.plot(acc_lr.test_accuracies, 'b-', label = \"Testing Accuracies - LR\")\n",
    "plt.legend()"
   ]
  },
  {
   "cell_type": "markdown",
   "id": "80dfb35c",
   "metadata": {
    "papermill": {
     "duration": 0.071755,
     "end_time": "2022-09-19T10:16:21.222105",
     "exception": false,
     "start_time": "2022-09-19T10:16:21.150350",
     "status": "completed"
    },
    "tags": []
   },
   "source": [
    "#### Plotting the outputs of this layer of the NN.\n"
   ]
  },
  {
   "cell_type": "code",
   "execution_count": 25,
   "id": "45eb2ff5",
   "metadata": {
    "execution": {
     "iopub.execute_input": "2022-09-19T10:16:21.371962Z",
     "iopub.status.busy": "2022-09-19T10:16:21.370389Z",
     "iopub.status.idle": "2022-09-19T10:16:21.410226Z",
     "shell.execute_reply": "2022-09-19T10:16:21.411179Z"
    },
    "papermill": {
     "duration": 0.120443,
     "end_time": "2022-09-19T10:16:21.411359",
     "exception": false,
     "start_time": "2022-09-19T10:16:21.290916",
     "status": "completed"
    },
    "tags": []
   },
   "outputs": [],
   "source": [
    "new_model = Model(layers[:-2])\n",
    "testing_plot = new_model(testing_data_x)"
   ]
  },
  {
   "cell_type": "code",
   "execution_count": 26,
   "id": "4c0a5485",
   "metadata": {
    "execution": {
     "iopub.execute_input": "2022-09-19T10:16:21.526925Z",
     "iopub.status.busy": "2022-09-19T10:16:21.526164Z",
     "iopub.status.idle": "2022-09-19T10:16:21.911605Z",
     "shell.execute_reply": "2022-09-19T10:16:21.913082Z"
    },
    "papermill": {
     "duration": 0.447345,
     "end_time": "2022-09-19T10:16:21.913403",
     "exception": false,
     "start_time": "2022-09-19T10:16:21.466058",
     "status": "completed"
    },
    "tags": []
   },
   "outputs": [
    {
     "data": {
      "text/plain": [
       "Text(0.5, 1.0, 'Outputs')"
      ]
     },
     "execution_count": 26,
     "metadata": {},
     "output_type": "execute_result"
    },
    {
     "data": {
      "image/png": "[encoded data removed]",
      "text/plain": [
       "<Figure size 576x504 with 1 Axes>"
      ]
     },
     "metadata": {
      "needs_background": "light"
     },
     "output_type": "display_data"
    }
   ],
   "source": [
    "# Plotting the scatter plot of points and color coding by class\n",
    "plt.figure(figsize=(8,7))\n",
    "plt.scatter(testing_plot[:,0], testing_plot[:,1], alpha = 0.1, c = y_test.ravel());\n",
    "plt.title('Outputs')"
   ]
  },
  {
   "cell_type": "markdown",
   "id": "a74fcf8f",
   "metadata": {
    "papermill": {
     "duration": 0.08758,
     "end_time": "2022-09-19T10:16:22.137776",
     "exception": false,
     "start_time": "2022-09-19T10:16:22.050196",
     "status": "completed"
    },
    "tags": []
   },
   "source": [
    "Probability contours"
   ]
  },
  {
   "cell_type": "code",
   "execution_count": 27,
   "id": "d0afc8e3",
   "metadata": {
    "execution": {
     "iopub.execute_input": "2022-09-19T10:16:22.334531Z",
     "iopub.status.busy": "2022-09-19T10:16:22.333127Z",
     "iopub.status.idle": "2022-09-19T10:16:22.352952Z",
     "shell.execute_reply": "2022-09-19T10:16:22.352314Z"
    },
    "papermill": {
     "duration": 0.120497,
     "end_time": "2022-09-19T10:16:22.353101",
     "exception": false,
     "start_time": "2022-09-19T10:16:22.232604",
     "status": "completed"
    },
    "tags": []
   },
   "outputs": [],
   "source": [
    "model_prob = Model(layers[-2:]) "
   ]
  },
  {
   "cell_type": "code",
   "execution_count": 28,
   "id": "9b96e238",
   "metadata": {
    "execution": {
     "iopub.execute_input": "2022-09-19T10:16:22.473138Z",
     "iopub.status.busy": "2022-09-19T10:16:22.472351Z",
     "iopub.status.idle": "2022-09-19T10:16:22.496864Z",
     "shell.execute_reply": "2022-09-19T10:16:22.497435Z"
    },
    "papermill": {
     "duration": 0.088541,
     "end_time": "2022-09-19T10:16:22.497592",
     "exception": false,
     "start_time": "2022-09-19T10:16:22.409051",
     "status": "completed"
    },
    "tags": []
   },
   "outputs": [],
   "source": [
    "#creating the x and y ranges according to the above generated plot.\n",
    "x_range = np.linspace(-4, 1, 100) \n",
    "y_range = np.linspace(-6, 6, 100) \n",
    "x_grid, y_grid = np.meshgrid(x_range, y_range) # x_grid and y_grig are of size 100 X 100\n",
    "\n",
    "# converting x_grid and y_grid to continuous arrays\n",
    "x_gridflat = np.ravel(x_grid)\n",
    "y_gridflat = np.ravel(y_grid)\n",
    "\n",
    "# The last layer of the current model takes two columns as input. Hence transpose of np.vstack() is required.\n",
    "X = np.vstack((x_gridflat, y_gridflat)).T\n",
    "\n",
    "prob_contour = model_prob(X).reshape(100,100) "
   ]
  },
  {
   "cell_type": "code",
   "execution_count": 29,
   "id": "da72499a",
   "metadata": {
    "execution": {
     "iopub.execute_input": "2022-09-19T10:16:22.621707Z",
     "iopub.status.busy": "2022-09-19T10:16:22.620865Z",
     "iopub.status.idle": "2022-09-19T10:16:23.015617Z",
     "shell.execute_reply": "2022-09-19T10:16:23.014981Z"
    },
    "papermill": {
     "duration": 0.455675,
     "end_time": "2022-09-19T10:16:23.015787",
     "exception": false,
     "start_time": "2022-09-19T10:16:22.560112",
     "status": "completed"
    },
    "tags": []
   },
   "outputs": [
    {
     "data": {
      "image/png": "[encoded data removed]",
      "text/plain": [
       "<Figure size 720x648 with 1 Axes>"
      ]
     },
     "metadata": {
      "needs_background": "light"
     },
     "output_type": "display_data"
    }
   ],
   "source": [
    "plt.figure(figsize=(10,9))\n",
    "plt.scatter(testing_plot[:,0], testing_plot[:,1], alpha = 0.1, c = y_test.ravel())\n",
    "contours = plt.contour(x_grid,y_grid,prob_contour)\n",
    "plt.title('Probability Contours')\n",
    "plt.clabel(contours, inline = True );"
   ]
  },
  {
   "cell_type": "code",
   "execution_count": null,
   "id": "e81b4ac7",
   "metadata": {
    "papermill": {
     "duration": 0.079428,
     "end_time": "2022-09-19T10:16:23.172984",
     "exception": false,
     "start_time": "2022-09-19T10:16:23.093556",
     "status": "completed"
    },
    "tags": []
   },
   "outputs": [],
   "source": []
  }
 ],
 "metadata": {
  "kernelspec": {
   "display_name": "Python 3",
   "language": "python",
   "name": "python3"
  },
  "language_info": {
   "codemirror_mode": {
    "name": "ipython",
    "version": 3
   },
   "file_extension": ".py",
   "mimetype": "text/x-python",
   "name": "python",
   "nbconvert_exporter": "python",
   "pygments_lexer": "ipython3",
   "version": "3.6.15"
  },
  "papermill": {
   "default_parameters": {},
   "duration": 207.031028,
   "end_time": "2022-09-19T10:16:23.669530",
   "environment_variables": {},
   "exception": null,
   "input_path": "2020-08-11-part2.ipynb",
   "output_path": "2020-08-11-part2.ipynb",
   "parameters": {},
   "start_time": "2022-09-19T10:12:56.638502",
   "version": "2.3.3"
  }
 },
 "nbformat": 4,
 "nbformat_minor": 5
}