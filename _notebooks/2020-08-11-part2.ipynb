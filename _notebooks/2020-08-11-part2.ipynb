{
 "cells": [
  {
   "cell_type": "markdown",
   "id": "98380cd3",
   "metadata": {
    "papermill": {
     "duration": 0.027977,
     "end_time": "2021-09-08T20:06:26.007804",
     "exception": false,
     "start_time": "2021-09-08T20:06:25.979827",
     "status": "completed"
    },
    "tags": []
   },
   "source": [
    "# Distinguish Your Own Digits (DYOD)"
   ]
  },
  {
   "cell_type": "markdown",
   "id": "ef31240d",
   "metadata": {
    "papermill": {
     "duration": 0.023586,
     "end_time": "2021-09-08T20:06:26.055736",
     "exception": false,
     "start_time": "2021-09-08T20:06:26.032150",
     "status": "completed"
    },
    "tags": []
   },
   "source": [
    "You are going to write a classifier that distinguishes between the number 3 and number 8."
   ]
  },
  {
   "cell_type": "code",
   "execution_count": 1,
   "id": "b15c8646",
   "metadata": {
    "execution": {
     "iopub.execute_input": "2021-09-08T20:06:26.114379Z",
     "iopub.status.busy": "2021-09-08T20:06:26.113843Z",
     "iopub.status.idle": "2021-09-08T20:06:26.124642Z",
     "shell.execute_reply": "2021-09-08T20:06:26.124224Z"
    },
    "papermill": {
     "duration": 0.045242,
     "end_time": "2021-09-08T20:06:26.124771",
     "exception": false,
     "start_time": "2021-09-08T20:06:26.079529",
     "status": "completed"
    },
    "tags": []
   },
   "outputs": [],
   "source": [
    "%load_ext autoreload\n",
    "%autoreload 2"
   ]
  },
  {
   "cell_type": "code",
   "execution_count": 2,
   "id": "22ef38dc",
   "metadata": {
    "execution": {
     "iopub.execute_input": "2021-09-08T20:06:26.176543Z",
     "iopub.status.busy": "2021-09-08T20:06:26.176037Z",
     "iopub.status.idle": "2021-09-08T20:06:26.700278Z",
     "shell.execute_reply": "2021-09-08T20:06:26.699758Z"
    },
    "papermill": {
     "duration": 0.551867,
     "end_time": "2021-09-08T20:06:26.700420",
     "exception": false,
     "start_time": "2021-09-08T20:06:26.148553",
     "status": "completed"
    },
    "tags": []
   },
   "outputs": [],
   "source": [
    "%matplotlib inline\n",
    "import numpy as np\n",
    "import matplotlib.pyplot as plt\n",
    "import pandas as pd"
   ]
  },
  {
   "cell_type": "markdown",
   "id": "ba036198",
   "metadata": {
    "papermill": {
     "duration": 0.024903,
     "end_time": "2021-09-08T20:06:26.749753",
     "exception": false,
     "start_time": "2021-09-08T20:06:26.724850",
     "status": "completed"
    },
    "tags": []
   },
   "source": [
    "From the command line run `pip install mnist`. This is a library that will help you bring down the mnist dataset. If you run this from a notebook, you need to put  `!pip install mnist` in a cell by itself."
   ]
  },
  {
   "cell_type": "code",
   "execution_count": 3,
   "id": "bb6ad8a1",
   "metadata": {
    "execution": {
     "iopub.execute_input": "2021-09-08T20:06:26.810902Z",
     "iopub.status.busy": "2021-09-08T20:06:26.810371Z",
     "iopub.status.idle": "2021-09-08T20:06:28.424082Z",
     "shell.execute_reply": "2021-09-08T20:06:28.423549Z"
    },
    "papermill": {
     "duration": 1.650519,
     "end_time": "2021-09-08T20:06:28.424225",
     "exception": false,
     "start_time": "2021-09-08T20:06:26.773706",
     "status": "completed"
    },
    "tags": []
   },
   "outputs": [
    {
     "name": "stdout",
     "output_type": "stream",
     "text": [
      "Collecting mnist\r\n",
      "  Downloading mnist-0.2.2-py2.py3-none-any.whl (3.5 kB)\r\n",
      "Requirement already satisfied: numpy in /opt/hostedtoolcache/Python/3.6.14/x64/lib/python3.6/site-packages (from mnist) (1.19.5)\r\n"
     ]
    },
    {
     "name": "stdout",
     "output_type": "stream",
     "text": [
      "Installing collected packages: mnist\r\n"
     ]
    },
    {
     "name": "stdout",
     "output_type": "stream",
     "text": [
      "Successfully installed mnist-0.2.2\r\n"
     ]
    }
   ],
   "source": [
    "!pip install mnist"
   ]
  },
  {
   "cell_type": "markdown",
   "id": "69df9c9a",
   "metadata": {
    "papermill": {
     "duration": 0.024727,
     "end_time": "2021-09-08T20:06:28.474982",
     "exception": false,
     "start_time": "2021-09-08T20:06:28.450255",
     "status": "completed"
    },
    "tags": []
   },
   "source": [
    "## Preparing the Data"
   ]
  },
  {
   "cell_type": "code",
   "execution_count": 4,
   "id": "7f69d806",
   "metadata": {
    "execution": {
     "iopub.execute_input": "2021-09-08T20:06:28.528461Z",
     "iopub.status.busy": "2021-09-08T20:06:28.527939Z",
     "iopub.status.idle": "2021-09-08T20:06:28.542733Z",
     "shell.execute_reply": "2021-09-08T20:06:28.542310Z"
    },
    "papermill": {
     "duration": 0.043271,
     "end_time": "2021-09-08T20:06:28.542847",
     "exception": false,
     "start_time": "2021-09-08T20:06:28.499576",
     "status": "completed"
    },
    "tags": []
   },
   "outputs": [],
   "source": [
    "import mnist"
   ]
  },
  {
   "cell_type": "code",
   "execution_count": 5,
   "id": "a411e44f",
   "metadata": {
    "execution": {
     "iopub.execute_input": "2021-09-08T20:06:28.596148Z",
     "iopub.status.busy": "2021-09-08T20:06:28.595639Z",
     "iopub.status.idle": "2021-09-08T20:06:29.097316Z",
     "shell.execute_reply": "2021-09-08T20:06:29.096797Z"
    },
    "papermill": {
     "duration": 0.529836,
     "end_time": "2021-09-08T20:06:29.097445",
     "exception": false,
     "start_time": "2021-09-08T20:06:28.567609",
     "status": "completed"
    },
    "tags": []
   },
   "outputs": [],
   "source": [
    "train_images = mnist.train_images()\n",
    "train_labels = mnist.train_labels()"
   ]
  },
  {
   "cell_type": "code",
   "execution_count": 6,
   "id": "dceab3a5",
   "metadata": {
    "execution": {
     "iopub.execute_input": "2021-09-08T20:06:29.164061Z",
     "iopub.status.busy": "2021-09-08T20:06:29.163051Z",
     "iopub.status.idle": "2021-09-08T20:06:29.172209Z",
     "shell.execute_reply": "2021-09-08T20:06:29.172627Z"
    },
    "papermill": {
     "duration": 0.049887,
     "end_time": "2021-09-08T20:06:29.172768",
     "exception": false,
     "start_time": "2021-09-08T20:06:29.122881",
     "status": "completed"
    },
    "tags": []
   },
   "outputs": [
    {
     "data": {
      "text/plain": [
       "((60000, 28, 28), (60000,))"
      ]
     },
     "execution_count": 6,
     "metadata": {},
     "output_type": "execute_result"
    }
   ],
   "source": [
    "train_images.shape, train_labels.shape"
   ]
  },
  {
   "cell_type": "code",
   "execution_count": 7,
   "id": "f50dc2bb",
   "metadata": {
    "execution": {
     "iopub.execute_input": "2021-09-08T20:06:29.231217Z",
     "iopub.status.busy": "2021-09-08T20:06:29.226240Z",
     "iopub.status.idle": "2021-09-08T20:06:29.345664Z",
     "shell.execute_reply": "2021-09-08T20:06:29.345117Z"
    },
    "papermill": {
     "duration": 0.148065,
     "end_time": "2021-09-08T20:06:29.345817",
     "exception": false,
     "start_time": "2021-09-08T20:06:29.197752",
     "status": "completed"
    },
    "tags": []
   },
   "outputs": [],
   "source": [
    "test_images = mnist.test_images()\n",
    "test_labels = mnist.test_labels()"
   ]
  },
  {
   "cell_type": "code",
   "execution_count": 8,
   "id": "fc38cf1b",
   "metadata": {
    "execution": {
     "iopub.execute_input": "2021-09-08T20:06:29.400047Z",
     "iopub.status.busy": "2021-09-08T20:06:29.399531Z",
     "iopub.status.idle": "2021-09-08T20:06:29.411804Z",
     "shell.execute_reply": "2021-09-08T20:06:29.412273Z"
    },
    "papermill": {
     "duration": 0.041102,
     "end_time": "2021-09-08T20:06:29.412405",
     "exception": false,
     "start_time": "2021-09-08T20:06:29.371303",
     "status": "completed"
    },
    "tags": []
   },
   "outputs": [
    {
     "data": {
      "text/plain": [
       "((10000, 28, 28), (10000,))"
      ]
     },
     "execution_count": 8,
     "metadata": {},
     "output_type": "execute_result"
    }
   ],
   "source": [
    "test_images.shape, test_labels.shape"
   ]
  },
  {
   "cell_type": "code",
   "execution_count": 9,
   "id": "f9ed8fe0",
   "metadata": {
    "execution": {
     "iopub.execute_input": "2021-09-08T20:06:29.466400Z",
     "iopub.status.busy": "2021-09-08T20:06:29.465883Z",
     "iopub.status.idle": "2021-09-08T20:06:29.603425Z",
     "shell.execute_reply": "2021-09-08T20:06:29.602872Z"
    },
    "papermill": {
     "duration": 0.166009,
     "end_time": "2021-09-08T20:06:29.603549",
     "exception": false,
     "start_time": "2021-09-08T20:06:29.437540",
     "status": "completed"
    },
    "tags": []
   },
   "outputs": [
    {
     "name": "stdout",
     "output_type": "stream",
     "text": [
      "2\n"
     ]
    },
    {
     "data": {
      "text/plain": [
       "<matplotlib.image.AxesImage at 0x7f7a2b01cda0>"
      ]
     },
     "execution_count": 9,
     "metadata": {},
     "output_type": "execute_result"
    },
    {
     "data": {
      "image/png": "[encoded data removed]",
      "text/plain": [
       "<Figure size 432x288 with 1 Axes>"
      ]
     },
     "metadata": {
      "needs_background": "light"
     },
     "output_type": "display_data"
    }
   ],
   "source": [
    "image_index = 7776 # You may select anything up to 60,000\n",
    "print(train_labels[image_index]) \n",
    "plt.imshow(train_images[image_index], cmap='Greys')"
   ]
  },
  {
   "cell_type": "markdown",
   "id": "a8d2388d",
   "metadata": {
    "papermill": {
     "duration": 0.026613,
     "end_time": "2021-09-08T20:06:29.656587",
     "exception": false,
     "start_time": "2021-09-08T20:06:29.629974",
     "status": "completed"
    },
    "tags": []
   },
   "source": [
    "## Filter data to get 3 and 8 out"
   ]
  },
  {
   "cell_type": "code",
   "execution_count": 10,
   "id": "776f7fc7",
   "metadata": {
    "execution": {
     "iopub.execute_input": "2021-09-08T20:06:29.716050Z",
     "iopub.status.busy": "2021-09-08T20:06:29.715530Z",
     "iopub.status.idle": "2021-09-08T20:06:29.732999Z",
     "shell.execute_reply": "2021-09-08T20:06:29.732552Z"
    },
    "papermill": {
     "duration": 0.050288,
     "end_time": "2021-09-08T20:06:29.733119",
     "exception": false,
     "start_time": "2021-09-08T20:06:29.682831",
     "status": "completed"
    },
    "tags": []
   },
   "outputs": [],
   "source": [
    "train_filter = np.where((train_labels == 3 ) | (train_labels == 8))\n",
    "test_filter = np.where((test_labels == 3) | (test_labels == 8))\n",
    "X_train, y_train = train_images[train_filter], train_labels[train_filter]\n",
    "X_test, y_test = test_images[test_filter], test_labels[test_filter]"
   ]
  },
  {
   "cell_type": "markdown",
   "id": "948f0b7e",
   "metadata": {
    "papermill": {
     "duration": 0.026202,
     "end_time": "2021-09-08T20:06:29.785654",
     "exception": false,
     "start_time": "2021-09-08T20:06:29.759452",
     "status": "completed"
    },
    "tags": []
   },
   "source": [
    "We normalize the pizel values in the 0 to 1 range"
   ]
  },
  {
   "cell_type": "code",
   "execution_count": 11,
   "id": "ee4c2166",
   "metadata": {
    "execution": {
     "iopub.execute_input": "2021-09-08T20:06:29.859961Z",
     "iopub.status.busy": "2021-09-08T20:06:29.854294Z",
     "iopub.status.idle": "2021-09-08T20:06:29.894754Z",
     "shell.execute_reply": "2021-09-08T20:06:29.893941Z"
    },
    "papermill": {
     "duration": 0.083114,
     "end_time": "2021-09-08T20:06:29.894895",
     "exception": false,
     "start_time": "2021-09-08T20:06:29.811781",
     "status": "completed"
    },
    "tags": []
   },
   "outputs": [],
   "source": [
    "X_train = X_train/255.\n",
    "X_test = X_test/255."
   ]
  },
  {
   "cell_type": "markdown",
   "id": "ddcf4fab",
   "metadata": {
    "papermill": {
     "duration": 0.026212,
     "end_time": "2021-09-08T20:06:29.948164",
     "exception": false,
     "start_time": "2021-09-08T20:06:29.921952",
     "status": "completed"
    },
    "tags": []
   },
   "source": [
    "And setup the labels as 1 (when the digit is 3) and 0 (when the digit is 8)"
   ]
  },
  {
   "cell_type": "code",
   "execution_count": 12,
   "id": "7dc908f2",
   "metadata": {
    "execution": {
     "iopub.execute_input": "2021-09-08T20:06:30.017267Z",
     "iopub.status.busy": "2021-09-08T20:06:30.011851Z",
     "iopub.status.idle": "2021-09-08T20:06:30.020157Z",
     "shell.execute_reply": "2021-09-08T20:06:30.019718Z"
    },
    "papermill": {
     "duration": 0.045999,
     "end_time": "2021-09-08T20:06:30.020269",
     "exception": false,
     "start_time": "2021-09-08T20:06:29.974270",
     "status": "completed"
    },
    "tags": []
   },
   "outputs": [],
   "source": [
    "y_train = 1*(y_train==3)\n",
    "y_test = 1*(y_test==3)"
   ]
  },
  {
   "cell_type": "code",
   "execution_count": 13,
   "id": "01e4e969",
   "metadata": {
    "execution": {
     "iopub.execute_input": "2021-09-08T20:06:30.092008Z",
     "iopub.status.busy": "2021-09-08T20:06:30.091449Z",
     "iopub.status.idle": "2021-09-08T20:06:30.096984Z",
     "shell.execute_reply": "2021-09-08T20:06:30.096571Z"
    },
    "papermill": {
     "duration": 0.050562,
     "end_time": "2021-09-08T20:06:30.097099",
     "exception": false,
     "start_time": "2021-09-08T20:06:30.046537",
     "status": "completed"
    },
    "tags": []
   },
   "outputs": [
    {
     "data": {
      "text/plain": [
       "((11982, 28, 28), (1984, 28, 28))"
      ]
     },
     "execution_count": 13,
     "metadata": {},
     "output_type": "execute_result"
    }
   ],
   "source": [
    "X_train.shape, X_test.shape"
   ]
  },
  {
   "cell_type": "markdown",
   "id": "5ccf3f85",
   "metadata": {
    "papermill": {
     "duration": 0.026453,
     "end_time": "2021-09-08T20:06:30.150000",
     "exception": false,
     "start_time": "2021-09-08T20:06:30.123547",
     "status": "completed"
    },
    "tags": []
   },
   "source": [
    "We reshape the data to flatten the image pixels into a set of features or co-variates:"
   ]
  },
  {
   "cell_type": "code",
   "execution_count": 14,
   "id": "5286a4a3",
   "metadata": {
    "execution": {
     "iopub.execute_input": "2021-09-08T20:06:30.206951Z",
     "iopub.status.busy": "2021-09-08T20:06:30.206441Z",
     "iopub.status.idle": "2021-09-08T20:06:30.220851Z",
     "shell.execute_reply": "2021-09-08T20:06:30.220419Z"
    },
    "papermill": {
     "duration": 0.044491,
     "end_time": "2021-09-08T20:06:30.220966",
     "exception": false,
     "start_time": "2021-09-08T20:06:30.176475",
     "status": "completed"
    },
    "tags": []
   },
   "outputs": [
    {
     "data": {
      "text/plain": [
       "((11982, 784), (1984, 784))"
      ]
     },
     "execution_count": 14,
     "metadata": {},
     "output_type": "execute_result"
    }
   ],
   "source": [
    "X_train = X_train.reshape(X_train.shape[0], -1)\n",
    "X_test = X_test.reshape(X_test.shape[0], -1)\n",
    "X_train.shape, X_test.shape"
   ]
  },
  {
   "cell_type": "code",
   "execution_count": 15,
   "id": "73c5f88a",
   "metadata": {
    "execution": {
     "iopub.execute_input": "2021-09-08T20:06:30.292496Z",
     "iopub.status.busy": "2021-09-08T20:06:30.286586Z",
     "iopub.status.idle": "2021-09-08T20:06:30.301136Z",
     "shell.execute_reply": "2021-09-08T20:06:30.301542Z"
    },
    "papermill": {
     "duration": 0.053782,
     "end_time": "2021-09-08T20:06:30.301682",
     "exception": false,
     "start_time": "2021-09-08T20:06:30.247900",
     "status": "completed"
    },
    "tags": []
   },
   "outputs": [],
   "source": [
    "#Impoting functions from 'Kudzu'\n",
    "from kudzu.model import Model\n",
    "from kudzu.train import Learner\n",
    "from kudzu.optim import GD\n",
    "from kudzu.data import Data, Sampler,Dataloader\n",
    "\n",
    "from kudzu.callbacks import AccCallback\n",
    "from kudzu.callbacks import ClfCallback\n",
    "\n",
    "from kudzu.loss import MSE\n",
    "\n",
    "from kudzu.layer import Sigmoid,Relu\n",
    "from kudzu.layer import Affine"
   ]
  },
  {
   "cell_type": "markdown",
   "id": "bc01172a",
   "metadata": {
    "papermill": {
     "duration": 0.026641,
     "end_time": "2021-09-08T20:06:30.355173",
     "exception": false,
     "start_time": "2021-09-08T20:06:30.328532",
     "status": "completed"
    },
    "tags": []
   },
   "source": [
    "### Let us create a `Config` class, to store important parameters. \n",
    "This class essentially plays the role of a dictionary."
   ]
  },
  {
   "cell_type": "code",
   "execution_count": 16,
   "id": "978281aa",
   "metadata": {
    "execution": {
     "iopub.execute_input": "2021-09-08T20:06:30.425510Z",
     "iopub.status.busy": "2021-09-08T20:06:30.419011Z",
     "iopub.status.idle": "2021-09-08T20:06:30.427794Z",
     "shell.execute_reply": "2021-09-08T20:06:30.427386Z"
    },
    "papermill": {
     "duration": 0.046105,
     "end_time": "2021-09-08T20:06:30.427908",
     "exception": false,
     "start_time": "2021-09-08T20:06:30.381803",
     "status": "completed"
    },
    "tags": []
   },
   "outputs": [],
   "source": [
    "class Config:\n",
    "    pass\n",
    "config = Config()\n",
    "config.lr = 0.001\n",
    "config.num_epochs = 250\n",
    "config.bs = 50"
   ]
  },
  {
   "cell_type": "markdown",
   "id": "1385fa59",
   "metadata": {
    "papermill": {
     "duration": 0.02655,
     "end_time": "2021-09-08T20:06:30.481191",
     "exception": false,
     "start_time": "2021-09-08T20:06:30.454641",
     "status": "completed"
    },
    "tags": []
   },
   "source": [
    "### Running Models with the Training data\n",
    "Details about the network layers:\n",
    "- A first affine layer has 784 inputs and does 100 affine transforms. These are followed by a Relu\n",
    "- A second affine layer has 100 inputs from the 100 activations of the past layer, and does 100 affine transforms. These are followed by a Relu\n",
    "- A third affine layer has 100 activations and does 2 affine transformations to create an embedding for visualization. There is no non-linearity here.\n",
    "- A final \"logistic regression\" which has an affine transform from 2 inputs to 1 output, which is squeezed through a sigmoid.\n"
   ]
  },
  {
   "cell_type": "code",
   "execution_count": 17,
   "id": "2b9c66db",
   "metadata": {
    "execution": {
     "iopub.execute_input": "2021-09-08T20:06:30.541057Z",
     "iopub.status.busy": "2021-09-08T20:06:30.540531Z",
     "iopub.status.idle": "2021-09-08T20:06:30.551266Z",
     "shell.execute_reply": "2021-09-08T20:06:30.550847Z"
    },
    "papermill": {
     "duration": 0.043598,
     "end_time": "2021-09-08T20:06:30.551379",
     "exception": false,
     "start_time": "2021-09-08T20:06:30.507781",
     "status": "completed"
    },
    "tags": []
   },
   "outputs": [],
   "source": [
    "data = Data(X_train, y_train.reshape(-1,1))\n",
    "sampler = Sampler(data, config.bs, shuffle=True)\n",
    "\n",
    "dl = Dataloader(data, sampler)\n",
    "\n",
    "opt = GD(config.lr)\n",
    "loss = MSE()"
   ]
  },
  {
   "cell_type": "code",
   "execution_count": 18,
   "id": "b275e4c2",
   "metadata": {
    "execution": {
     "iopub.execute_input": "2021-09-08T20:06:30.611223Z",
     "iopub.status.busy": "2021-09-08T20:06:30.610706Z",
     "iopub.status.idle": "2021-09-08T20:06:30.620927Z",
     "shell.execute_reply": "2021-09-08T20:06:30.620517Z"
    },
    "papermill": {
     "duration": 0.04294,
     "end_time": "2021-09-08T20:06:30.621041",
     "exception": false,
     "start_time": "2021-09-08T20:06:30.578101",
     "status": "completed"
    },
    "tags": []
   },
   "outputs": [],
   "source": [
    "training_data_x = X_train\n",
    "testing_data_x = X_test\n",
    "training_data_y = y_train.reshape(-1,1)\n",
    "testing_data_y = y_test.reshape(-1,1)"
   ]
  },
  {
   "cell_type": "code",
   "execution_count": 19,
   "id": "76951160",
   "metadata": {
    "execution": {
     "iopub.execute_input": "2021-09-08T20:06:30.682826Z",
     "iopub.status.busy": "2021-09-08T20:06:30.682297Z",
     "iopub.status.idle": "2021-09-08T20:06:30.696174Z",
     "shell.execute_reply": "2021-09-08T20:06:30.695709Z"
    },
    "papermill": {
     "duration": 0.048638,
     "end_time": "2021-09-08T20:06:30.696288",
     "exception": false,
     "start_time": "2021-09-08T20:06:30.647650",
     "status": "completed"
    },
    "tags": []
   },
   "outputs": [
    {
     "name": "stdout",
     "output_type": "stream",
     "text": [
      "xavier\n",
      "xavier\n",
      "xavier\n",
      "xavier\n",
      "xavier\n"
     ]
    }
   ],
   "source": [
    "layers = [Affine(\"first\", 784, 100), Relu(\"first\"), Affine(\"second\", 100, 100), Relu(\"second\"), Affine(\"third\", 100, 2), Affine(\"last\", 2, 1), Sigmoid(\"last\")]\n",
    "model_nn = Model(layers)\n",
    "model_lr = Model([Affine(\"logits\", 784, 1), Sigmoid(\"sigmoid\")])"
   ]
  },
  {
   "cell_type": "code",
   "execution_count": 20,
   "id": "6eede77a",
   "metadata": {
    "execution": {
     "iopub.execute_input": "2021-09-08T20:06:30.768956Z",
     "iopub.status.busy": "2021-09-08T20:06:30.766376Z",
     "iopub.status.idle": "2021-09-08T20:06:30.771322Z",
     "shell.execute_reply": "2021-09-08T20:06:30.770887Z"
    },
    "papermill": {
     "duration": 0.047887,
     "end_time": "2021-09-08T20:06:30.771433",
     "exception": false,
     "start_time": "2021-09-08T20:06:30.723546",
     "status": "completed"
    },
    "tags": []
   },
   "outputs": [],
   "source": [
    "nn_learner = Learner(loss, model_nn, opt, config.num_epochs)\n",
    "acc_nn = ClfCallback(nn_learner, config.bs, training_data_x , testing_data_x, training_data_y, testing_data_y)\n",
    "nn_learner.set_callbacks([acc_nn])"
   ]
  },
  {
   "cell_type": "code",
   "execution_count": 21,
   "id": "877b6cc7",
   "metadata": {
    "execution": {
     "iopub.execute_input": "2021-09-08T20:06:30.831948Z",
     "iopub.status.busy": "2021-09-08T20:06:30.831429Z",
     "iopub.status.idle": "2021-09-08T20:06:30.841910Z",
     "shell.execute_reply": "2021-09-08T20:06:30.841458Z"
    },
    "papermill": {
     "duration": 0.043488,
     "end_time": "2021-09-08T20:06:30.842028",
     "exception": false,
     "start_time": "2021-09-08T20:06:30.798540",
     "status": "completed"
    },
    "tags": []
   },
   "outputs": [],
   "source": [
    "lr_learner = Learner(loss, model_lr, opt, config.num_epochs)\n",
    "acc_lr = ClfCallback(lr_learner, config.bs, training_data_x , testing_data_x, training_data_y, testing_data_y)\n",
    "lr_learner.set_callbacks([acc_lr])"
   ]
  },
  {
   "cell_type": "code",
   "execution_count": 22,
   "id": "d9b133c3",
   "metadata": {
    "execution": {
     "iopub.execute_input": "2021-09-08T20:06:30.902838Z",
     "iopub.status.busy": "2021-09-08T20:06:30.902297Z",
     "iopub.status.idle": "2021-09-08T20:07:47.573939Z",
     "shell.execute_reply": "2021-09-08T20:07:47.574655Z"
    },
    "papermill": {
     "duration": 76.7055,
     "end_time": "2021-09-08T20:07:47.574807",
     "exception": false,
     "start_time": "2021-09-08T20:06:30.869307",
     "status": "completed"
    },
    "tags": []
   },
   "outputs": [
    {
     "name": "stdout",
     "output_type": "stream",
     "text": [
      "Epoch 0, Loss 0.2062\n",
      "Training Accuracy: 0.7792, Testing Accuracy: 0.7878\n",
      "\n"
     ]
    },
    {
     "name": "stdout",
     "output_type": "stream",
     "text": [
      "Epoch 10, Loss 0.0565\n",
      "Training Accuracy: 0.9422, Testing Accuracy: 0.9501\n",
      "\n"
     ]
    },
    {
     "name": "stdout",
     "output_type": "stream",
     "text": [
      "Epoch 20, Loss 0.0406\n",
      "Training Accuracy: 0.9576, Testing Accuracy: 0.9612\n",
      "\n"
     ]
    },
    {
     "name": "stdout",
     "output_type": "stream",
     "text": [
      "Epoch 30, Loss 0.0345\n",
      "Training Accuracy: 0.9623, Testing Accuracy: 0.9632\n",
      "\n"
     ]
    },
    {
     "name": "stdout",
     "output_type": "stream",
     "text": [
      "Epoch 40, Loss 0.031\n",
      "Training Accuracy: 0.9654, Testing Accuracy: 0.9682\n",
      "\n"
     ]
    },
    {
     "name": "stdout",
     "output_type": "stream",
     "text": [
      "Epoch 50, Loss 0.0287\n",
      "Training Accuracy: 0.9677, Testing Accuracy: 0.9693\n",
      "\n"
     ]
    },
    {
     "name": "stdout",
     "output_type": "stream",
     "text": [
      "Epoch 60, Loss 0.027\n",
      "Training Accuracy: 0.9697, Testing Accuracy: 0.9693\n",
      "\n"
     ]
    },
    {
     "name": "stdout",
     "output_type": "stream",
     "text": [
      "Epoch 70, Loss 0.0256\n",
      "Training Accuracy: 0.9711, Testing Accuracy: 0.9693\n",
      "\n"
     ]
    },
    {
     "name": "stdout",
     "output_type": "stream",
     "text": [
      "Epoch 80, Loss 0.0245\n",
      "Training Accuracy: 0.9732, Testing Accuracy: 0.9693\n",
      "\n"
     ]
    },
    {
     "name": "stdout",
     "output_type": "stream",
     "text": [
      "Epoch 90, Loss 0.0235\n",
      "Training Accuracy: 0.9740, Testing Accuracy: 0.9703\n",
      "\n"
     ]
    },
    {
     "name": "stdout",
     "output_type": "stream",
     "text": [
      "Epoch 100, Loss 0.0227\n",
      "Training Accuracy: 0.9750, Testing Accuracy: 0.9723\n",
      "\n"
     ]
    },
    {
     "name": "stdout",
     "output_type": "stream",
     "text": [
      "Epoch 110, Loss 0.0219\n",
      "Training Accuracy: 0.9759, Testing Accuracy: 0.9728\n",
      "\n"
     ]
    },
    {
     "name": "stdout",
     "output_type": "stream",
     "text": [
      "Epoch 120, Loss 0.0213\n",
      "Training Accuracy: 0.9767, Testing Accuracy: 0.9733\n",
      "\n"
     ]
    },
    {
     "name": "stdout",
     "output_type": "stream",
     "text": [
      "Epoch 130, Loss 0.0206\n",
      "Training Accuracy: 0.9775, Testing Accuracy: 0.9733\n",
      "\n"
     ]
    },
    {
     "name": "stdout",
     "output_type": "stream",
     "text": [
      "Epoch 140, Loss 0.02\n",
      "Training Accuracy: 0.9780, Testing Accuracy: 0.9733\n",
      "\n"
     ]
    },
    {
     "name": "stdout",
     "output_type": "stream",
     "text": [
      "Epoch 150, Loss 0.0195\n",
      "Training Accuracy: 0.9788, Testing Accuracy: 0.9733\n",
      "\n"
     ]
    },
    {
     "name": "stdout",
     "output_type": "stream",
     "text": [
      "Epoch 160, Loss 0.019\n",
      "Training Accuracy: 0.9793, Testing Accuracy: 0.9733\n",
      "\n"
     ]
    },
    {
     "name": "stdout",
     "output_type": "stream",
     "text": [
      "Epoch 170, Loss 0.0185\n",
      "Training Accuracy: 0.9801, Testing Accuracy: 0.9733\n",
      "\n"
     ]
    },
    {
     "name": "stdout",
     "output_type": "stream",
     "text": [
      "Epoch 180, Loss 0.0181\n",
      "Training Accuracy: 0.9804, Testing Accuracy: 0.9723\n",
      "\n"
     ]
    },
    {
     "name": "stdout",
     "output_type": "stream",
     "text": [
      "Epoch 190, Loss 0.0176\n",
      "Training Accuracy: 0.9810, Testing Accuracy: 0.9743\n",
      "\n"
     ]
    },
    {
     "name": "stdout",
     "output_type": "stream",
     "text": [
      "Epoch 200, Loss 0.0172\n",
      "Training Accuracy: 0.9816, Testing Accuracy: 0.9743\n",
      "\n"
     ]
    },
    {
     "name": "stdout",
     "output_type": "stream",
     "text": [
      "Epoch 210, Loss 0.0168\n",
      "Training Accuracy: 0.9820, Testing Accuracy: 0.9748\n",
      "\n"
     ]
    },
    {
     "name": "stdout",
     "output_type": "stream",
     "text": [
      "Epoch 220, Loss 0.0164\n",
      "Training Accuracy: 0.9826, Testing Accuracy: 0.9758\n",
      "\n"
     ]
    },
    {
     "name": "stdout",
     "output_type": "stream",
     "text": [
      "Epoch 230, Loss 0.016\n",
      "Training Accuracy: 0.9828, Testing Accuracy: 0.9758\n",
      "\n"
     ]
    },
    {
     "name": "stdout",
     "output_type": "stream",
     "text": [
      "Epoch 240, Loss 0.0157\n",
      "Training Accuracy: 0.9832, Testing Accuracy: 0.9778\n",
      "\n"
     ]
    },
    {
     "data": {
      "text/plain": [
       "0.04770894266388437"
      ]
     },
     "execution_count": 22,
     "metadata": {},
     "output_type": "execute_result"
    }
   ],
   "source": [
    "nn_learner.train_loop(dl)"
   ]
  },
  {
   "cell_type": "code",
   "execution_count": 23,
   "id": "e0163366",
   "metadata": {
    "execution": {
     "iopub.execute_input": "2021-09-08T20:07:47.655793Z",
     "iopub.status.busy": "2021-09-08T20:07:47.653980Z",
     "iopub.status.idle": "2021-09-08T20:08:01.423640Z",
     "shell.execute_reply": "2021-09-08T20:08:01.423170Z"
    },
    "papermill": {
     "duration": 13.814788,
     "end_time": "2021-09-08T20:08:01.423767",
     "exception": false,
     "start_time": "2021-09-08T20:07:47.608979",
     "status": "completed"
    },
    "tags": []
   },
   "outputs": [
    {
     "name": "stdout",
     "output_type": "stream",
     "text": [
      "Epoch 0, Loss 0.2489\n",
      "Training Accuracy: 0.6510, Testing Accuracy: 0.6431\n",
      "\n"
     ]
    },
    {
     "name": "stdout",
     "output_type": "stream",
     "text": [
      "Epoch 10, Loss 0.1063\n",
      "Training Accuracy: 0.9017, Testing Accuracy: 0.9168\n",
      "\n"
     ]
    },
    {
     "name": "stdout",
     "output_type": "stream",
     "text": [
      "Epoch 20, Loss 0.0806\n",
      "Training Accuracy: 0.9247, Testing Accuracy: 0.9410\n",
      "\n"
     ]
    },
    {
     "name": "stdout",
     "output_type": "stream",
     "text": [
      "Epoch 30, Loss 0.069\n",
      "Training Accuracy: 0.9351, Testing Accuracy: 0.9471\n",
      "\n"
     ]
    },
    {
     "name": "stdout",
     "output_type": "stream",
     "text": [
      "Epoch 40, Loss 0.0621\n",
      "Training Accuracy: 0.9404, Testing Accuracy: 0.9511\n",
      "\n"
     ]
    },
    {
     "name": "stdout",
     "output_type": "stream",
     "text": [
      "Epoch 50, Loss 0.0574\n",
      "Training Accuracy: 0.9445, Testing Accuracy: 0.9556\n",
      "\n"
     ]
    },
    {
     "name": "stdout",
     "output_type": "stream",
     "text": [
      "Epoch 60, Loss 0.054\n",
      "Training Accuracy: 0.9474, Testing Accuracy: 0.9567\n",
      "\n"
     ]
    },
    {
     "name": "stdout",
     "output_type": "stream",
     "text": [
      "Epoch 70, Loss 0.0514\n",
      "Training Accuracy: 0.9492, Testing Accuracy: 0.9577\n",
      "\n"
     ]
    },
    {
     "name": "stdout",
     "output_type": "stream",
     "text": [
      "Epoch 80, Loss 0.0493\n",
      "Training Accuracy: 0.9505, Testing Accuracy: 0.9607\n",
      "\n"
     ]
    },
    {
     "name": "stdout",
     "output_type": "stream",
     "text": [
      "Epoch 90, Loss 0.0476\n",
      "Training Accuracy: 0.9516, Testing Accuracy: 0.9607\n",
      "\n"
     ]
    },
    {
     "name": "stdout",
     "output_type": "stream",
     "text": [
      "Epoch 100, Loss 0.0462\n",
      "Training Accuracy: 0.9519, Testing Accuracy: 0.9617\n",
      "\n"
     ]
    },
    {
     "name": "stdout",
     "output_type": "stream",
     "text": [
      "Epoch 110, Loss 0.045\n",
      "Training Accuracy: 0.9532, Testing Accuracy: 0.9627\n",
      "\n"
     ]
    },
    {
     "name": "stdout",
     "output_type": "stream",
     "text": [
      "Epoch 120, Loss 0.0439\n",
      "Training Accuracy: 0.9542, Testing Accuracy: 0.9647\n",
      "\n"
     ]
    },
    {
     "name": "stdout",
     "output_type": "stream",
     "text": [
      "Epoch 130, Loss 0.043\n",
      "Training Accuracy: 0.9550, Testing Accuracy: 0.9652\n",
      "\n"
     ]
    },
    {
     "name": "stdout",
     "output_type": "stream",
     "text": [
      "Epoch 140, Loss 0.0421\n",
      "Training Accuracy: 0.9558, Testing Accuracy: 0.9657\n",
      "\n"
     ]
    },
    {
     "name": "stdout",
     "output_type": "stream",
     "text": [
      "Epoch 150, Loss 0.0414\n",
      "Training Accuracy: 0.9565, Testing Accuracy: 0.9662\n",
      "\n"
     ]
    },
    {
     "name": "stdout",
     "output_type": "stream",
     "text": [
      "Epoch 160, Loss 0.0407\n",
      "Training Accuracy: 0.9574, Testing Accuracy: 0.9667\n",
      "\n"
     ]
    },
    {
     "name": "stdout",
     "output_type": "stream",
     "text": [
      "Epoch 170, Loss 0.0401\n",
      "Training Accuracy: 0.9577, Testing Accuracy: 0.9667\n",
      "\n"
     ]
    },
    {
     "name": "stdout",
     "output_type": "stream",
     "text": [
      "Epoch 180, Loss 0.0395\n",
      "Training Accuracy: 0.9584, Testing Accuracy: 0.9672\n",
      "\n"
     ]
    },
    {
     "name": "stdout",
     "output_type": "stream",
     "text": [
      "Epoch 190, Loss 0.039\n",
      "Training Accuracy: 0.9589, Testing Accuracy: 0.9682\n",
      "\n"
     ]
    },
    {
     "name": "stdout",
     "output_type": "stream",
     "text": [
      "Epoch 200, Loss 0.0385\n",
      "Training Accuracy: 0.9593, Testing Accuracy: 0.9682\n",
      "\n"
     ]
    },
    {
     "name": "stdout",
     "output_type": "stream",
     "text": [
      "Epoch 210, Loss 0.0381\n",
      "Training Accuracy: 0.9600, Testing Accuracy: 0.9682\n",
      "\n"
     ]
    },
    {
     "name": "stdout",
     "output_type": "stream",
     "text": [
      "Epoch 220, Loss 0.0377\n",
      "Training Accuracy: 0.9606, Testing Accuracy: 0.9677\n",
      "\n"
     ]
    },
    {
     "name": "stdout",
     "output_type": "stream",
     "text": [
      "Epoch 230, Loss 0.0373\n",
      "Training Accuracy: 0.9609, Testing Accuracy: 0.9677\n",
      "\n"
     ]
    },
    {
     "name": "stdout",
     "output_type": "stream",
     "text": [
      "Epoch 240, Loss 0.0369\n",
      "Training Accuracy: 0.9611, Testing Accuracy: 0.9682\n",
      "\n"
     ]
    },
    {
     "data": {
      "text/plain": [
       "0.012916656513453195"
      ]
     },
     "execution_count": 23,
     "metadata": {},
     "output_type": "execute_result"
    }
   ],
   "source": [
    "lr_learner.train_loop(dl)"
   ]
  },
  {
   "cell_type": "code",
   "execution_count": 24,
   "id": "ca410940",
   "metadata": {
    "execution": {
     "iopub.execute_input": "2021-09-08T20:08:01.518815Z",
     "iopub.status.busy": "2021-09-08T20:08:01.518271Z",
     "iopub.status.idle": "2021-09-08T20:08:01.744582Z",
     "shell.execute_reply": "2021-09-08T20:08:01.744088Z"
    },
    "papermill": {
     "duration": 0.279993,
     "end_time": "2021-09-08T20:08:01.744718",
     "exception": false,
     "start_time": "2021-09-08T20:08:01.464725",
     "status": "completed"
    },
    "tags": []
   },
   "outputs": [
    {
     "data": {
      "text/plain": [
       "<matplotlib.legend.Legend at 0x7f7a2abfceb8>"
      ]
     },
     "execution_count": 24,
     "metadata": {},
     "output_type": "execute_result"
    },
    {
     "data": {
      "image/png": "[encoded data removed]",
      "text/plain": [
       "<Figure size 1080x720 with 1 Axes>"
      ]
     },
     "metadata": {
      "needs_background": "light"
     },
     "output_type": "display_data"
    }
   ],
   "source": [
    "#comparing the results of NN and LR\n",
    "plt.figure(figsize=(15,10))\n",
    "\n",
    "# Neural Network plots\n",
    "plt.plot(acc_nn.accuracies, 'r-', label = \"Training Accuracies - NN\")\n",
    "plt.plot(acc_nn.test_accuracies, 'g-', label = \"Testing Accuracies - NN\")\n",
    "\n",
    "# Logistic Regression plots\n",
    "plt.plot(acc_lr.accuracies, 'k-', label = \"Training Accuracies - LR\")\n",
    "plt.plot(acc_lr.test_accuracies, 'b-', label = \"Testing Accuracies - LR\")\n",
    "plt.legend()"
   ]
  },
  {
   "cell_type": "markdown",
   "id": "80dfb35c",
   "metadata": {
    "papermill": {
     "duration": 0.041706,
     "end_time": "2021-09-08T20:08:01.828645",
     "exception": false,
     "start_time": "2021-09-08T20:08:01.786939",
     "status": "completed"
    },
    "tags": []
   },
   "source": [
    "#### Plotting the outputs of this layer of the NN.\n"
   ]
  },
  {
   "cell_type": "code",
   "execution_count": 25,
   "id": "45eb2ff5",
   "metadata": {
    "execution": {
     "iopub.execute_input": "2021-09-08T20:08:01.915797Z",
     "iopub.status.busy": "2021-09-08T20:08:01.915285Z",
     "iopub.status.idle": "2021-09-08T20:08:01.935258Z",
     "shell.execute_reply": "2021-09-08T20:08:01.935660Z"
    },
    "papermill": {
     "duration": 0.065588,
     "end_time": "2021-09-08T20:08:01.935811",
     "exception": false,
     "start_time": "2021-09-08T20:08:01.870223",
     "status": "completed"
    },
    "tags": []
   },
   "outputs": [],
   "source": [
    "new_model = Model(layers[:-2])\n",
    "testing_plot = new_model(testing_data_x)"
   ]
  },
  {
   "cell_type": "code",
   "execution_count": 26,
   "id": "4c0a5485",
   "metadata": {
    "execution": {
     "iopub.execute_input": "2021-09-08T20:08:02.037434Z",
     "iopub.status.busy": "2021-09-08T20:08:02.032774Z",
     "iopub.status.idle": "2021-09-08T20:08:02.229042Z",
     "shell.execute_reply": "2021-09-08T20:08:02.229452Z"
    },
    "papermill": {
     "duration": 0.243545,
     "end_time": "2021-09-08T20:08:02.229624",
     "exception": false,
     "start_time": "2021-09-08T20:08:01.986079",
     "status": "completed"
    },
    "tags": []
   },
   "outputs": [
    {
     "data": {
      "text/plain": [
       "Text(0.5, 1.0, 'Outputs')"
      ]
     },
     "execution_count": 26,
     "metadata": {},
     "output_type": "execute_result"
    },
    {
     "data": {
      "image/png": "[encoded data removed]",
      "text/plain": [
       "<Figure size 576x504 with 1 Axes>"
      ]
     },
     "metadata": {
      "needs_background": "light"
     },
     "output_type": "display_data"
    }
   ],
   "source": [
    "# Plotting the scatter plot of points and color coding by class\n",
    "plt.figure(figsize=(8,7))\n",
    "plt.scatter(testing_plot[:,0], testing_plot[:,1], alpha = 0.1, c = y_test.ravel());\n",
    "plt.title('Outputs')"
   ]
  },
  {
   "cell_type": "markdown",
   "id": "a74fcf8f",
   "metadata": {
    "papermill": {
     "duration": 0.043867,
     "end_time": "2021-09-08T20:08:02.317792",
     "exception": false,
     "start_time": "2021-09-08T20:08:02.273925",
     "status": "completed"
    },
    "tags": []
   },
   "source": [
    "Probability contours"
   ]
  },
  {
   "cell_type": "code",
   "execution_count": 27,
   "id": "d0afc8e3",
   "metadata": {
    "execution": {
     "iopub.execute_input": "2021-09-08T20:08:02.420974Z",
     "iopub.status.busy": "2021-09-08T20:08:02.418331Z",
     "iopub.status.idle": "2021-09-08T20:08:02.422903Z",
     "shell.execute_reply": "2021-09-08T20:08:02.423290Z"
    },
    "papermill": {
     "duration": 0.061542,
     "end_time": "2021-09-08T20:08:02.423429",
     "exception": false,
     "start_time": "2021-09-08T20:08:02.361887",
     "status": "completed"
    },
    "tags": []
   },
   "outputs": [],
   "source": [
    "model_prob = Model(layers[-2:]) "
   ]
  },
  {
   "cell_type": "code",
   "execution_count": 28,
   "id": "9b96e238",
   "metadata": {
    "execution": {
     "iopub.execute_input": "2021-09-08T20:08:02.530594Z",
     "iopub.status.busy": "2021-09-08T20:08:02.530052Z",
     "iopub.status.idle": "2021-09-08T20:08:02.532186Z",
     "shell.execute_reply": "2021-09-08T20:08:02.532660Z"
    },
    "papermill": {
     "duration": 0.065139,
     "end_time": "2021-09-08T20:08:02.532799",
     "exception": false,
     "start_time": "2021-09-08T20:08:02.467660",
     "status": "completed"
    },
    "tags": []
   },
   "outputs": [],
   "source": [
    "#creating the x and y ranges according to the above generated plot.\n",
    "x_range = np.linspace(-4, 1, 100) \n",
    "y_range = np.linspace(-6, 6, 100) \n",
    "x_grid, y_grid = np.meshgrid(x_range, y_range) # x_grid and y_grig are of size 100 X 100\n",
    "\n",
    "# converting x_grid and y_grid to continuous arrays\n",
    "x_gridflat = np.ravel(x_grid)\n",
    "y_gridflat = np.ravel(y_grid)\n",
    "\n",
    "# The last layer of the current model takes two columns as input. Hence transpose of np.vstack() is required.\n",
    "X = np.vstack((x_gridflat, y_gridflat)).T\n",
    "\n",
    "prob_contour = model_prob(X).reshape(100,100) "
   ]
  },
  {
   "cell_type": "code",
   "execution_count": 29,
   "id": "da72499a",
   "metadata": {
    "execution": {
     "iopub.execute_input": "2021-09-08T20:08:02.635144Z",
     "iopub.status.busy": "2021-09-08T20:08:02.634617Z",
     "iopub.status.idle": "2021-09-08T20:08:02.870364Z",
     "shell.execute_reply": "2021-09-08T20:08:02.869875Z"
    },
    "papermill": {
     "duration": 0.285303,
     "end_time": "2021-09-08T20:08:02.870500",
     "exception": false,
     "start_time": "2021-09-08T20:08:02.585197",
     "status": "completed"
    },
    "tags": []
   },
   "outputs": [
    {
     "data": {
      "image/png": "[encoded data removed]",
      "text/plain": [
       "<Figure size 720x648 with 1 Axes>"
      ]
     },
     "metadata": {
      "needs_background": "light"
     },
     "output_type": "display_data"
    }
   ],
   "source": [
    "plt.figure(figsize=(10,9))\n",
    "plt.scatter(testing_plot[:,0], testing_plot[:,1], alpha = 0.1, c = y_test.ravel())\n",
    "contours = plt.contour(x_grid,y_grid,prob_contour)\n",
    "plt.title('Probability Contours')\n",
    "plt.clabel(contours, inline = True );"
   ]
  },
  {
   "cell_type": "code",
   "execution_count": null,
   "id": "e81b4ac7",
   "metadata": {
    "papermill": {
     "duration": 0.046945,
     "end_time": "2021-09-08T20:08:02.965519",
     "exception": false,
     "start_time": "2021-09-08T20:08:02.918574",
     "status": "completed"
    },
    "tags": []
   },
   "outputs": [],
   "source": []
  }
 ],
 "metadata": {
  "kernelspec": {
   "display_name": "Python 3",
   "language": "python",
   "name": "python3"
  },
  "language_info": {
   "codemirror_mode": {
    "name": "ipython",
    "version": 3
   },
   "file_extension": ".py",
   "mimetype": "text/x-python",
   "name": "python",
   "nbconvert_exporter": "python",
   "pygments_lexer": "ipython3",
   "version": "3.6.14"
  },
  "papermill": {
   "default_parameters": {},
   "duration": 98.640702,
   "end_time": "2021-09-08T20:08:03.450777",
   "environment_variables": {},
   "exception": null,
   "input_path": "2020-08-11-part2.ipynb",
   "output_path": "2020-08-11-part2.ipynb",
   "parameters": {},
   "start_time": "2021-09-08T20:06:24.810075",
   "version": "2.3.3"
  }
 },
 "nbformat": 4,
 "nbformat_minor": 5
}