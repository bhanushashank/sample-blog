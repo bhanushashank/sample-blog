{
 "cells": [
  {
   "cell_type": "markdown",
   "id": "98380cd3",
   "metadata": {
    "papermill": {
     "duration": 0.028838,
     "end_time": "2022-04-09T00:32:46.240413",
     "exception": false,
     "start_time": "2022-04-09T00:32:46.211575",
     "status": "completed"
    },
    "tags": []
   },
   "source": [
    "# Distinguish Your Own Digits (DYOD)"
   ]
  },
  {
   "cell_type": "markdown",
   "id": "ef31240d",
   "metadata": {
    "papermill": {
     "duration": 0.025379,
     "end_time": "2022-04-09T00:32:46.290296",
     "exception": false,
     "start_time": "2022-04-09T00:32:46.264917",
     "status": "completed"
    },
    "tags": []
   },
   "source": [
    "You are going to write a classifier that distinguishes between the number 3 and number 8."
   ]
  },
  {
   "cell_type": "code",
   "execution_count": 1,
   "id": "b15c8646",
   "metadata": {
    "execution": {
     "iopub.execute_input": "2022-04-09T00:32:46.349696Z",
     "iopub.status.busy": "2022-04-09T00:32:46.349111Z",
     "iopub.status.idle": "2022-04-09T00:32:46.359608Z",
     "shell.execute_reply": "2022-04-09T00:32:46.359168Z"
    },
    "papermill": {
     "duration": 0.045526,
     "end_time": "2022-04-09T00:32:46.359741",
     "exception": false,
     "start_time": "2022-04-09T00:32:46.314215",
     "status": "completed"
    },
    "tags": []
   },
   "outputs": [],
   "source": [
    "%load_ext autoreload\n",
    "%autoreload 2"
   ]
  },
  {
   "cell_type": "code",
   "execution_count": 2,
   "id": "22ef38dc",
   "metadata": {
    "execution": {
     "iopub.execute_input": "2022-04-09T00:32:46.412483Z",
     "iopub.status.busy": "2022-04-09T00:32:46.411968Z",
     "iopub.status.idle": "2022-04-09T00:32:46.991035Z",
     "shell.execute_reply": "2022-04-09T00:32:46.990567Z"
    },
    "papermill": {
     "duration": 0.607271,
     "end_time": "2022-04-09T00:32:46.991163",
     "exception": false,
     "start_time": "2022-04-09T00:32:46.383892",
     "status": "completed"
    },
    "tags": []
   },
   "outputs": [],
   "source": [
    "%matplotlib inline\n",
    "import numpy as np\n",
    "import matplotlib.pyplot as plt\n",
    "import pandas as pd"
   ]
  },
  {
   "cell_type": "markdown",
   "id": "ba036198",
   "metadata": {
    "papermill": {
     "duration": 0.023887,
     "end_time": "2022-04-09T00:32:47.039364",
     "exception": false,
     "start_time": "2022-04-09T00:32:47.015477",
     "status": "completed"
    },
    "tags": []
   },
   "source": [
    "From the command line run `pip install mnist`. This is a library that will help you bring down the mnist dataset. If you run this from a notebook, you need to put  `!pip install mnist` in a cell by itself."
   ]
  },
  {
   "cell_type": "code",
   "execution_count": 3,
   "id": "bb6ad8a1",
   "metadata": {
    "execution": {
     "iopub.execute_input": "2022-04-09T00:32:47.091684Z",
     "iopub.status.busy": "2022-04-09T00:32:47.091177Z",
     "iopub.status.idle": "2022-04-09T00:32:49.617558Z",
     "shell.execute_reply": "2022-04-09T00:32:49.616534Z"
    },
    "papermill": {
     "duration": 2.554245,
     "end_time": "2022-04-09T00:32:49.617716",
     "exception": false,
     "start_time": "2022-04-09T00:32:47.063471",
     "status": "completed"
    },
    "tags": []
   },
   "outputs": [
    {
     "name": "stdout",
     "output_type": "stream",
     "text": [
      "Collecting mnist\r\n"
     ]
    },
    {
     "name": "stdout",
     "output_type": "stream",
     "text": [
      "  Downloading mnist-0.2.2-py2.py3-none-any.whl (3.5 kB)\r\n",
      "Requirement already satisfied: numpy in /opt/hostedtoolcache/Python/3.6.15/x64/lib/python3.6/site-packages (from mnist) (1.19.5)\r\n"
     ]
    },
    {
     "name": "stdout",
     "output_type": "stream",
     "text": [
      "Installing collected packages: mnist\r\n"
     ]
    },
    {
     "name": "stdout",
     "output_type": "stream",
     "text": [
      "Successfully installed mnist-0.2.2\r\n"
     ]
    }
   ],
   "source": [
    "!pip install mnist"
   ]
  },
  {
   "cell_type": "markdown",
   "id": "69df9c9a",
   "metadata": {
    "papermill": {
     "duration": 0.025172,
     "end_time": "2022-04-09T00:32:49.668486",
     "exception": false,
     "start_time": "2022-04-09T00:32:49.643314",
     "status": "completed"
    },
    "tags": []
   },
   "source": [
    "## Preparing the Data"
   ]
  },
  {
   "cell_type": "code",
   "execution_count": 4,
   "id": "7f69d806",
   "metadata": {
    "execution": {
     "iopub.execute_input": "2022-04-09T00:32:49.726220Z",
     "iopub.status.busy": "2022-04-09T00:32:49.722114Z",
     "iopub.status.idle": "2022-04-09T00:32:49.736033Z",
     "shell.execute_reply": "2022-04-09T00:32:49.736444Z"
    },
    "papermill": {
     "duration": 0.042955,
     "end_time": "2022-04-09T00:32:49.736581",
     "exception": false,
     "start_time": "2022-04-09T00:32:49.693626",
     "status": "completed"
    },
    "tags": []
   },
   "outputs": [],
   "source": [
    "import mnist"
   ]
  },
  {
   "cell_type": "code",
   "execution_count": 5,
   "id": "a411e44f",
   "metadata": {
    "execution": {
     "iopub.execute_input": "2022-04-09T00:32:49.803733Z",
     "iopub.status.busy": "2022-04-09T00:32:49.794198Z",
     "iopub.status.idle": "2022-04-09T00:32:50.467707Z",
     "shell.execute_reply": "2022-04-09T00:32:50.466710Z"
    },
    "papermill": {
     "duration": 0.705987,
     "end_time": "2022-04-09T00:32:50.467838",
     "exception": false,
     "start_time": "2022-04-09T00:32:49.761851",
     "status": "completed"
    },
    "tags": []
   },
   "outputs": [],
   "source": [
    "train_images = mnist.train_images()\n",
    "train_labels = mnist.train_labels()"
   ]
  },
  {
   "cell_type": "code",
   "execution_count": 6,
   "id": "dceab3a5",
   "metadata": {
    "execution": {
     "iopub.execute_input": "2022-04-09T00:32:50.534275Z",
     "iopub.status.busy": "2022-04-09T00:32:50.522642Z",
     "iopub.status.idle": "2022-04-09T00:32:50.540445Z",
     "shell.execute_reply": "2022-04-09T00:32:50.539779Z"
    },
    "papermill": {
     "duration": 0.047471,
     "end_time": "2022-04-09T00:32:50.540566",
     "exception": false,
     "start_time": "2022-04-09T00:32:50.493095",
     "status": "completed"
    },
    "tags": []
   },
   "outputs": [
    {
     "data": {
      "text/plain": [
       "((60000, 28, 28), (60000,))"
      ]
     },
     "execution_count": 6,
     "metadata": {},
     "output_type": "execute_result"
    }
   ],
   "source": [
    "train_images.shape, train_labels.shape"
   ]
  },
  {
   "cell_type": "code",
   "execution_count": 7,
   "id": "f50dc2bb",
   "metadata": {
    "execution": {
     "iopub.execute_input": "2022-04-09T00:32:50.606841Z",
     "iopub.status.busy": "2022-04-09T00:32:50.606314Z",
     "iopub.status.idle": "2022-04-09T00:32:50.842489Z",
     "shell.execute_reply": "2022-04-09T00:32:50.842024Z"
    },
    "papermill": {
     "duration": 0.276433,
     "end_time": "2022-04-09T00:32:50.842616",
     "exception": false,
     "start_time": "2022-04-09T00:32:50.566183",
     "status": "completed"
    },
    "tags": []
   },
   "outputs": [],
   "source": [
    "test_images = mnist.test_images()\n",
    "test_labels = mnist.test_labels()"
   ]
  },
  {
   "cell_type": "code",
   "execution_count": 8,
   "id": "fc38cf1b",
   "metadata": {
    "execution": {
     "iopub.execute_input": "2022-04-09T00:32:50.902696Z",
     "iopub.status.busy": "2022-04-09T00:32:50.902185Z",
     "iopub.status.idle": "2022-04-09T00:32:50.912375Z",
     "shell.execute_reply": "2022-04-09T00:32:50.911935Z"
    },
    "papermill": {
     "duration": 0.044188,
     "end_time": "2022-04-09T00:32:50.912486",
     "exception": false,
     "start_time": "2022-04-09T00:32:50.868298",
     "status": "completed"
    },
    "tags": []
   },
   "outputs": [
    {
     "data": {
      "text/plain": [
       "((10000, 28, 28), (10000,))"
      ]
     },
     "execution_count": 8,
     "metadata": {},
     "output_type": "execute_result"
    }
   ],
   "source": [
    "test_images.shape, test_labels.shape"
   ]
  },
  {
   "cell_type": "code",
   "execution_count": 9,
   "id": "f9ed8fe0",
   "metadata": {
    "execution": {
     "iopub.execute_input": "2022-04-09T00:32:50.967801Z",
     "iopub.status.busy": "2022-04-09T00:32:50.967284Z",
     "iopub.status.idle": "2022-04-09T00:32:51.106256Z",
     "shell.execute_reply": "2022-04-09T00:32:51.106719Z"
    },
    "papermill": {
     "duration": 0.16864,
     "end_time": "2022-04-09T00:32:51.106870",
     "exception": false,
     "start_time": "2022-04-09T00:32:50.938230",
     "status": "completed"
    },
    "tags": []
   },
   "outputs": [
    {
     "name": "stdout",
     "output_type": "stream",
     "text": [
      "2\n"
     ]
    },
    {
     "data": {
      "text/plain": [
       "<matplotlib.image.AxesImage at 0x7fedd964d4a8>"
      ]
     },
     "execution_count": 9,
     "metadata": {},
     "output_type": "execute_result"
    },
    {
     "data": {
      "image/png": "[encoded data removed]",
      "text/plain": [
       "<Figure size 432x288 with 1 Axes>"
      ]
     },
     "metadata": {
      "needs_background": "light"
     },
     "output_type": "display_data"
    }
   ],
   "source": [
    "image_index = 7776 # You may select anything up to 60,000\n",
    "print(train_labels[image_index]) \n",
    "plt.imshow(train_images[image_index], cmap='Greys')"
   ]
  },
  {
   "cell_type": "markdown",
   "id": "a8d2388d",
   "metadata": {
    "papermill": {
     "duration": 0.026885,
     "end_time": "2022-04-09T00:32:51.160574",
     "exception": false,
     "start_time": "2022-04-09T00:32:51.133689",
     "status": "completed"
    },
    "tags": []
   },
   "source": [
    "## Filter data to get 3 and 8 out"
   ]
  },
  {
   "cell_type": "code",
   "execution_count": 10,
   "id": "776f7fc7",
   "metadata": {
    "execution": {
     "iopub.execute_input": "2022-04-09T00:32:51.218640Z",
     "iopub.status.busy": "2022-04-09T00:32:51.218107Z",
     "iopub.status.idle": "2022-04-09T00:32:51.236679Z",
     "shell.execute_reply": "2022-04-09T00:32:51.236234Z"
    },
    "papermill": {
     "duration": 0.049416,
     "end_time": "2022-04-09T00:32:51.236804",
     "exception": false,
     "start_time": "2022-04-09T00:32:51.187388",
     "status": "completed"
    },
    "tags": []
   },
   "outputs": [],
   "source": [
    "train_filter = np.where((train_labels == 3 ) | (train_labels == 8))\n",
    "test_filter = np.where((test_labels == 3) | (test_labels == 8))\n",
    "X_train, y_train = train_images[train_filter], train_labels[train_filter]\n",
    "X_test, y_test = test_images[test_filter], test_labels[test_filter]"
   ]
  },
  {
   "cell_type": "markdown",
   "id": "948f0b7e",
   "metadata": {
    "papermill": {
     "duration": 0.027078,
     "end_time": "2022-04-09T00:32:51.290907",
     "exception": false,
     "start_time": "2022-04-09T00:32:51.263829",
     "status": "completed"
    },
    "tags": []
   },
   "source": [
    "We normalize the pizel values in the 0 to 1 range"
   ]
  },
  {
   "cell_type": "code",
   "execution_count": 11,
   "id": "ee4c2166",
   "metadata": {
    "execution": {
     "iopub.execute_input": "2022-04-09T00:32:51.348280Z",
     "iopub.status.busy": "2022-04-09T00:32:51.347746Z",
     "iopub.status.idle": "2022-04-09T00:32:51.394872Z",
     "shell.execute_reply": "2022-04-09T00:32:51.394327Z"
    },
    "papermill": {
     "duration": 0.077361,
     "end_time": "2022-04-09T00:32:51.395016",
     "exception": false,
     "start_time": "2022-04-09T00:32:51.317655",
     "status": "completed"
    },
    "tags": []
   },
   "outputs": [],
   "source": [
    "X_train = X_train/255.\n",
    "X_test = X_test/255."
   ]
  },
  {
   "cell_type": "markdown",
   "id": "ddcf4fab",
   "metadata": {
    "papermill": {
     "duration": 0.026981,
     "end_time": "2022-04-09T00:32:51.449728",
     "exception": false,
     "start_time": "2022-04-09T00:32:51.422747",
     "status": "completed"
    },
    "tags": []
   },
   "source": [
    "And setup the labels as 1 (when the digit is 3) and 0 (when the digit is 8)"
   ]
  },
  {
   "cell_type": "code",
   "execution_count": 12,
   "id": "7dc908f2",
   "metadata": {
    "execution": {
     "iopub.execute_input": "2022-04-09T00:32:51.510077Z",
     "iopub.status.busy": "2022-04-09T00:32:51.508480Z",
     "iopub.status.idle": "2022-04-09T00:32:51.520086Z",
     "shell.execute_reply": "2022-04-09T00:32:51.519597Z"
    },
    "papermill": {
     "duration": 0.043912,
     "end_time": "2022-04-09T00:32:51.520212",
     "exception": false,
     "start_time": "2022-04-09T00:32:51.476300",
     "status": "completed"
    },
    "tags": []
   },
   "outputs": [],
   "source": [
    "y_train = 1*(y_train==3)\n",
    "y_test = 1*(y_test==3)"
   ]
  },
  {
   "cell_type": "code",
   "execution_count": 13,
   "id": "01e4e969",
   "metadata": {
    "execution": {
     "iopub.execute_input": "2022-04-09T00:32:51.578507Z",
     "iopub.status.busy": "2022-04-09T00:32:51.577995Z",
     "iopub.status.idle": "2022-04-09T00:32:51.590861Z",
     "shell.execute_reply": "2022-04-09T00:32:51.590442Z"
    },
    "papermill": {
     "duration": 0.043827,
     "end_time": "2022-04-09T00:32:51.590986",
     "exception": false,
     "start_time": "2022-04-09T00:32:51.547159",
     "status": "completed"
    },
    "tags": []
   },
   "outputs": [
    {
     "data": {
      "text/plain": [
       "((11982, 28, 28), (1984, 28, 28))"
      ]
     },
     "execution_count": 13,
     "metadata": {},
     "output_type": "execute_result"
    }
   ],
   "source": [
    "X_train.shape, X_test.shape"
   ]
  },
  {
   "cell_type": "markdown",
   "id": "5ccf3f85",
   "metadata": {
    "papermill": {
     "duration": 0.026986,
     "end_time": "2022-04-09T00:32:51.644939",
     "exception": false,
     "start_time": "2022-04-09T00:32:51.617953",
     "status": "completed"
    },
    "tags": []
   },
   "source": [
    "We reshape the data to flatten the image pixels into a set of features or co-variates:"
   ]
  },
  {
   "cell_type": "code",
   "execution_count": 14,
   "id": "5286a4a3",
   "metadata": {
    "execution": {
     "iopub.execute_input": "2022-04-09T00:32:51.714933Z",
     "iopub.status.busy": "2022-04-09T00:32:51.714379Z",
     "iopub.status.idle": "2022-04-09T00:32:51.723208Z",
     "shell.execute_reply": "2022-04-09T00:32:51.722770Z"
    },
    "papermill": {
     "duration": 0.051332,
     "end_time": "2022-04-09T00:32:51.723323",
     "exception": false,
     "start_time": "2022-04-09T00:32:51.671991",
     "status": "completed"
    },
    "tags": []
   },
   "outputs": [
    {
     "data": {
      "text/plain": [
       "((11982, 784), (1984, 784))"
      ]
     },
     "execution_count": 14,
     "metadata": {},
     "output_type": "execute_result"
    }
   ],
   "source": [
    "X_train = X_train.reshape(X_train.shape[0], -1)\n",
    "X_test = X_test.reshape(X_test.shape[0], -1)\n",
    "X_train.shape, X_test.shape"
   ]
  },
  {
   "cell_type": "code",
   "execution_count": 15,
   "id": "73c5f88a",
   "metadata": {
    "execution": {
     "iopub.execute_input": "2022-04-09T00:32:51.790226Z",
     "iopub.status.busy": "2022-04-09T00:32:51.781770Z",
     "iopub.status.idle": "2022-04-09T00:32:51.804711Z",
     "shell.execute_reply": "2022-04-09T00:32:51.804277Z"
    },
    "papermill": {
     "duration": 0.054113,
     "end_time": "2022-04-09T00:32:51.804833",
     "exception": false,
     "start_time": "2022-04-09T00:32:51.750720",
     "status": "completed"
    },
    "tags": []
   },
   "outputs": [],
   "source": [
    "#Impoting functions from 'Kudzu'\n",
    "from kudzu.model import Model\n",
    "from kudzu.train import Learner\n",
    "from kudzu.optim import GD\n",
    "from kudzu.data import Data, Sampler,Dataloader\n",
    "\n",
    "from kudzu.callbacks import AccCallback\n",
    "from kudzu.callbacks import ClfCallback\n",
    "\n",
    "from kudzu.loss import MSE\n",
    "\n",
    "from kudzu.layer import Sigmoid,Relu\n",
    "from kudzu.layer import Affine"
   ]
  },
  {
   "cell_type": "markdown",
   "id": "bc01172a",
   "metadata": {
    "papermill": {
     "duration": 0.027403,
     "end_time": "2022-04-09T00:32:51.859764",
     "exception": false,
     "start_time": "2022-04-09T00:32:51.832361",
     "status": "completed"
    },
    "tags": []
   },
   "source": [
    "### Let us create a `Config` class, to store important parameters. \n",
    "This class essentially plays the role of a dictionary."
   ]
  },
  {
   "cell_type": "code",
   "execution_count": 16,
   "id": "978281aa",
   "metadata": {
    "execution": {
     "iopub.execute_input": "2022-04-09T00:32:51.925390Z",
     "iopub.status.busy": "2022-04-09T00:32:51.924831Z",
     "iopub.status.idle": "2022-04-09T00:32:51.933079Z",
     "shell.execute_reply": "2022-04-09T00:32:51.932647Z"
    },
    "papermill": {
     "duration": 0.046167,
     "end_time": "2022-04-09T00:32:51.933202",
     "exception": false,
     "start_time": "2022-04-09T00:32:51.887035",
     "status": "completed"
    },
    "tags": []
   },
   "outputs": [],
   "source": [
    "class Config:\n",
    "    pass\n",
    "config = Config()\n",
    "config.lr = 0.001\n",
    "config.num_epochs = 250\n",
    "config.bs = 50"
   ]
  },
  {
   "cell_type": "markdown",
   "id": "1385fa59",
   "metadata": {
    "papermill": {
     "duration": 0.027265,
     "end_time": "2022-04-09T00:32:51.987984",
     "exception": false,
     "start_time": "2022-04-09T00:32:51.960719",
     "status": "completed"
    },
    "tags": []
   },
   "source": [
    "### Running Models with the Training data\n",
    "Details about the network layers:\n",
    "- A first affine layer has 784 inputs and does 100 affine transforms. These are followed by a Relu\n",
    "- A second affine layer has 100 inputs from the 100 activations of the past layer, and does 100 affine transforms. These are followed by a Relu\n",
    "- A third affine layer has 100 activations and does 2 affine transformations to create an embedding for visualization. There is no non-linearity here.\n",
    "- A final \"logistic regression\" which has an affine transform from 2 inputs to 1 output, which is squeezed through a sigmoid.\n"
   ]
  },
  {
   "cell_type": "code",
   "execution_count": 17,
   "id": "2b9c66db",
   "metadata": {
    "execution": {
     "iopub.execute_input": "2022-04-09T00:32:52.049783Z",
     "iopub.status.busy": "2022-04-09T00:32:52.049201Z",
     "iopub.status.idle": "2022-04-09T00:32:52.060853Z",
     "shell.execute_reply": "2022-04-09T00:32:52.060400Z"
    },
    "papermill": {
     "duration": 0.045594,
     "end_time": "2022-04-09T00:32:52.060971",
     "exception": false,
     "start_time": "2022-04-09T00:32:52.015377",
     "status": "completed"
    },
    "tags": []
   },
   "outputs": [],
   "source": [
    "data = Data(X_train, y_train.reshape(-1,1))\n",
    "sampler = Sampler(data, config.bs, shuffle=True)\n",
    "\n",
    "dl = Dataloader(data, sampler)\n",
    "\n",
    "opt = GD(config.lr)\n",
    "loss = MSE()"
   ]
  },
  {
   "cell_type": "code",
   "execution_count": 18,
   "id": "b275e4c2",
   "metadata": {
    "execution": {
     "iopub.execute_input": "2022-04-09T00:32:52.122683Z",
     "iopub.status.busy": "2022-04-09T00:32:52.122169Z",
     "iopub.status.idle": "2022-04-09T00:32:52.132738Z",
     "shell.execute_reply": "2022-04-09T00:32:52.132314Z"
    },
    "papermill": {
     "duration": 0.04445,
     "end_time": "2022-04-09T00:32:52.132856",
     "exception": false,
     "start_time": "2022-04-09T00:32:52.088406",
     "status": "completed"
    },
    "tags": []
   },
   "outputs": [],
   "source": [
    "training_data_x = X_train\n",
    "testing_data_x = X_test\n",
    "training_data_y = y_train.reshape(-1,1)\n",
    "testing_data_y = y_test.reshape(-1,1)"
   ]
  },
  {
   "cell_type": "code",
   "execution_count": 19,
   "id": "76951160",
   "metadata": {
    "execution": {
     "iopub.execute_input": "2022-04-09T00:32:52.191680Z",
     "iopub.status.busy": "2022-04-09T00:32:52.191150Z",
     "iopub.status.idle": "2022-04-09T00:32:52.207358Z",
     "shell.execute_reply": "2022-04-09T00:32:52.207745Z"
    },
    "papermill": {
     "duration": 0.04787,
     "end_time": "2022-04-09T00:32:52.207888",
     "exception": false,
     "start_time": "2022-04-09T00:32:52.160018",
     "status": "completed"
    },
    "tags": []
   },
   "outputs": [
    {
     "name": "stdout",
     "output_type": "stream",
     "text": [
      "xavier\n",
      "xavier\n",
      "xavier\n",
      "xavier\n",
      "xavier\n"
     ]
    }
   ],
   "source": [
    "layers = [Affine(\"first\", 784, 100), Relu(\"first\"), Affine(\"second\", 100, 100), Relu(\"second\"), Affine(\"third\", 100, 2), Affine(\"last\", 2, 1), Sigmoid(\"last\")]\n",
    "model_nn = Model(layers)\n",
    "model_lr = Model([Affine(\"logits\", 784, 1), Sigmoid(\"sigmoid\")])"
   ]
  },
  {
   "cell_type": "code",
   "execution_count": 20,
   "id": "6eede77a",
   "metadata": {
    "execution": {
     "iopub.execute_input": "2022-04-09T00:32:52.267151Z",
     "iopub.status.busy": "2022-04-09T00:32:52.266634Z",
     "iopub.status.idle": "2022-04-09T00:32:52.279190Z",
     "shell.execute_reply": "2022-04-09T00:32:52.278757Z"
    },
    "papermill": {
     "duration": 0.043785,
     "end_time": "2022-04-09T00:32:52.279314",
     "exception": false,
     "start_time": "2022-04-09T00:32:52.235529",
     "status": "completed"
    },
    "tags": []
   },
   "outputs": [],
   "source": [
    "nn_learner = Learner(loss, model_nn, opt, config.num_epochs)\n",
    "acc_nn = ClfCallback(nn_learner, config.bs, training_data_x , testing_data_x, training_data_y, testing_data_y)\n",
    "nn_learner.set_callbacks([acc_nn])"
   ]
  },
  {
   "cell_type": "code",
   "execution_count": 21,
   "id": "877b6cc7",
   "metadata": {
    "execution": {
     "iopub.execute_input": "2022-04-09T00:32:52.343634Z",
     "iopub.status.busy": "2022-04-09T00:32:52.343006Z",
     "iopub.status.idle": "2022-04-09T00:32:52.353104Z",
     "shell.execute_reply": "2022-04-09T00:32:52.352637Z"
    },
    "papermill": {
     "duration": 0.046275,
     "end_time": "2022-04-09T00:32:52.353224",
     "exception": false,
     "start_time": "2022-04-09T00:32:52.306949",
     "status": "completed"
    },
    "tags": []
   },
   "outputs": [],
   "source": [
    "lr_learner = Learner(loss, model_lr, opt, config.num_epochs)\n",
    "acc_lr = ClfCallback(lr_learner, config.bs, training_data_x , testing_data_x, training_data_y, testing_data_y)\n",
    "lr_learner.set_callbacks([acc_lr])"
   ]
  },
  {
   "cell_type": "code",
   "execution_count": 22,
   "id": "d9b133c3",
   "metadata": {
    "execution": {
     "iopub.execute_input": "2022-04-09T00:32:52.412642Z",
     "iopub.status.busy": "2022-04-09T00:32:52.412121Z",
     "iopub.status.idle": "2022-04-09T00:34:07.839578Z",
     "shell.execute_reply": "2022-04-09T00:34:07.840314Z"
    },
    "papermill": {
     "duration": 75.459348,
     "end_time": "2022-04-09T00:34:07.840462",
     "exception": false,
     "start_time": "2022-04-09T00:32:52.381114",
     "status": "completed"
    },
    "tags": []
   },
   "outputs": [
    {
     "name": "stdout",
     "output_type": "stream",
     "text": [
      "Epoch 0, Loss 0.2409\n",
      "Training Accuracy: 0.6787, Testing Accuracy: 0.6809\n",
      "\n"
     ]
    },
    {
     "name": "stdout",
     "output_type": "stream",
     "text": [
      "Epoch 10, Loss 0.1338\n",
      "Training Accuracy: 0.9029, Testing Accuracy: 0.9143\n",
      "\n"
     ]
    },
    {
     "name": "stdout",
     "output_type": "stream",
     "text": [
      "Epoch 20, Loss 0.0699\n",
      "Training Accuracy: 0.9326, Testing Accuracy: 0.9441\n",
      "\n"
     ]
    },
    {
     "name": "stdout",
     "output_type": "stream",
     "text": [
      "Epoch 30, Loss 0.0508\n",
      "Training Accuracy: 0.9446, Testing Accuracy: 0.9556\n",
      "\n"
     ]
    },
    {
     "name": "stdout",
     "output_type": "stream",
     "text": [
      "Epoch 40, Loss 0.0425\n",
      "Training Accuracy: 0.9525, Testing Accuracy: 0.9632\n",
      "\n"
     ]
    },
    {
     "name": "stdout",
     "output_type": "stream",
     "text": [
      "Epoch 50, Loss 0.0378\n",
      "Training Accuracy: 0.9580, Testing Accuracy: 0.9662\n",
      "\n"
     ]
    },
    {
     "name": "stdout",
     "output_type": "stream",
     "text": [
      "Epoch 60, Loss 0.0347\n",
      "Training Accuracy: 0.9609, Testing Accuracy: 0.9682\n",
      "\n"
     ]
    },
    {
     "name": "stdout",
     "output_type": "stream",
     "text": [
      "Epoch 70, Loss 0.0326\n",
      "Training Accuracy: 0.9628, Testing Accuracy: 0.9703\n",
      "\n"
     ]
    },
    {
     "name": "stdout",
     "output_type": "stream",
     "text": [
      "Epoch 80, Loss 0.0309\n",
      "Training Accuracy: 0.9642, Testing Accuracy: 0.9708\n",
      "\n"
     ]
    },
    {
     "name": "stdout",
     "output_type": "stream",
     "text": [
      "Epoch 90, Loss 0.0296\n",
      "Training Accuracy: 0.9654, Testing Accuracy: 0.9703\n",
      "\n"
     ]
    },
    {
     "name": "stdout",
     "output_type": "stream",
     "text": [
      "Epoch 100, Loss 0.0284\n",
      "Training Accuracy: 0.9665, Testing Accuracy: 0.9708\n",
      "\n"
     ]
    },
    {
     "name": "stdout",
     "output_type": "stream",
     "text": [
      "Epoch 110, Loss 0.0275\n",
      "Training Accuracy: 0.9675, Testing Accuracy: 0.9698\n",
      "\n"
     ]
    },
    {
     "name": "stdout",
     "output_type": "stream",
     "text": [
      "Epoch 120, Loss 0.0267\n",
      "Training Accuracy: 0.9685, Testing Accuracy: 0.9698\n",
      "\n"
     ]
    },
    {
     "name": "stdout",
     "output_type": "stream",
     "text": [
      "Epoch 130, Loss 0.0259\n",
      "Training Accuracy: 0.9694, Testing Accuracy: 0.9703\n",
      "\n"
     ]
    },
    {
     "name": "stdout",
     "output_type": "stream",
     "text": [
      "Epoch 140, Loss 0.0252\n",
      "Training Accuracy: 0.9704, Testing Accuracy: 0.9708\n",
      "\n"
     ]
    },
    {
     "name": "stdout",
     "output_type": "stream",
     "text": [
      "Epoch 150, Loss 0.0246\n",
      "Training Accuracy: 0.9716, Testing Accuracy: 0.9713\n",
      "\n"
     ]
    },
    {
     "name": "stdout",
     "output_type": "stream",
     "text": [
      "Epoch 160, Loss 0.0241\n",
      "Training Accuracy: 0.9723, Testing Accuracy: 0.9718\n",
      "\n"
     ]
    },
    {
     "name": "stdout",
     "output_type": "stream",
     "text": [
      "Epoch 170, Loss 0.0236\n",
      "Training Accuracy: 0.9730, Testing Accuracy: 0.9713\n",
      "\n"
     ]
    },
    {
     "name": "stdout",
     "output_type": "stream",
     "text": [
      "Epoch 180, Loss 0.0231\n",
      "Training Accuracy: 0.9735, Testing Accuracy: 0.9708\n",
      "\n"
     ]
    },
    {
     "name": "stdout",
     "output_type": "stream",
     "text": [
      "Epoch 190, Loss 0.0226\n",
      "Training Accuracy: 0.9741, Testing Accuracy: 0.9708\n",
      "\n"
     ]
    },
    {
     "name": "stdout",
     "output_type": "stream",
     "text": [
      "Epoch 200, Loss 0.0222\n",
      "Training Accuracy: 0.9745, Testing Accuracy: 0.9713\n",
      "\n"
     ]
    },
    {
     "name": "stdout",
     "output_type": "stream",
     "text": [
      "Epoch 210, Loss 0.0218\n",
      "Training Accuracy: 0.9750, Testing Accuracy: 0.9718\n",
      "\n"
     ]
    },
    {
     "name": "stdout",
     "output_type": "stream",
     "text": [
      "Epoch 220, Loss 0.0214\n",
      "Training Accuracy: 0.9753, Testing Accuracy: 0.9723\n",
      "\n"
     ]
    },
    {
     "name": "stdout",
     "output_type": "stream",
     "text": [
      "Epoch 230, Loss 0.021\n",
      "Training Accuracy: 0.9758, Testing Accuracy: 0.9733\n",
      "\n"
     ]
    },
    {
     "name": "stdout",
     "output_type": "stream",
     "text": [
      "Epoch 240, Loss 0.0206\n",
      "Training Accuracy: 0.9760, Testing Accuracy: 0.9738\n",
      "\n"
     ]
    },
    {
     "data": {
      "text/plain": [
       "0.010311292881854237"
      ]
     },
     "execution_count": 22,
     "metadata": {},
     "output_type": "execute_result"
    }
   ],
   "source": [
    "nn_learner.train_loop(dl)"
   ]
  },
  {
   "cell_type": "code",
   "execution_count": 23,
   "id": "e0163366",
   "metadata": {
    "execution": {
     "iopub.execute_input": "2022-04-09T00:34:07.919203Z",
     "iopub.status.busy": "2022-04-09T00:34:07.918681Z",
     "iopub.status.idle": "2022-04-09T00:34:21.436099Z",
     "shell.execute_reply": "2022-04-09T00:34:21.436835Z"
    },
    "papermill": {
     "duration": 13.561582,
     "end_time": "2022-04-09T00:34:21.436984",
     "exception": false,
     "start_time": "2022-04-09T00:34:07.875402",
     "status": "completed"
    },
    "tags": []
   },
   "outputs": [
    {
     "name": "stdout",
     "output_type": "stream",
     "text": [
      "Epoch 0, Loss 0.2468\n",
      "Training Accuracy: 0.6701, Testing Accuracy: 0.6799\n",
      "\n"
     ]
    },
    {
     "name": "stdout",
     "output_type": "stream",
     "text": [
      "Epoch 10, Loss 0.1011\n",
      "Training Accuracy: 0.9102, Testing Accuracy: 0.9214\n",
      "\n"
     ]
    },
    {
     "name": "stdout",
     "output_type": "stream",
     "text": [
      "Epoch 20, Loss 0.078\n",
      "Training Accuracy: 0.9277, Testing Accuracy: 0.9400\n",
      "\n"
     ]
    },
    {
     "name": "stdout",
     "output_type": "stream",
     "text": [
      "Epoch 30, Loss 0.0674\n",
      "Training Accuracy: 0.9353, Testing Accuracy: 0.9486\n",
      "\n"
     ]
    },
    {
     "name": "stdout",
     "output_type": "stream",
     "text": [
      "Epoch 40, Loss 0.0611\n",
      "Training Accuracy: 0.9406, Testing Accuracy: 0.9521\n",
      "\n"
     ]
    },
    {
     "name": "stdout",
     "output_type": "stream",
     "text": [
      "Epoch 50, Loss 0.0567\n",
      "Training Accuracy: 0.9437, Testing Accuracy: 0.9541\n",
      "\n"
     ]
    },
    {
     "name": "stdout",
     "output_type": "stream",
     "text": [
      "Epoch 60, Loss 0.0535\n",
      "Training Accuracy: 0.9474, Testing Accuracy: 0.9561\n",
      "\n"
     ]
    },
    {
     "name": "stdout",
     "output_type": "stream",
     "text": [
      "Epoch 70, Loss 0.051\n",
      "Training Accuracy: 0.9498, Testing Accuracy: 0.9577\n",
      "\n"
     ]
    },
    {
     "name": "stdout",
     "output_type": "stream",
     "text": [
      "Epoch 80, Loss 0.049\n",
      "Training Accuracy: 0.9513, Testing Accuracy: 0.9597\n",
      "\n"
     ]
    },
    {
     "name": "stdout",
     "output_type": "stream",
     "text": [
      "Epoch 90, Loss 0.0474\n",
      "Training Accuracy: 0.9523, Testing Accuracy: 0.9612\n",
      "\n"
     ]
    },
    {
     "name": "stdout",
     "output_type": "stream",
     "text": [
      "Epoch 100, Loss 0.046\n",
      "Training Accuracy: 0.9537, Testing Accuracy: 0.9617\n",
      "\n"
     ]
    },
    {
     "name": "stdout",
     "output_type": "stream",
     "text": [
      "Epoch 110, Loss 0.0448\n",
      "Training Accuracy: 0.9544, Testing Accuracy: 0.9632\n",
      "\n"
     ]
    },
    {
     "name": "stdout",
     "output_type": "stream",
     "text": [
      "Epoch 120, Loss 0.0437\n",
      "Training Accuracy: 0.9551, Testing Accuracy: 0.9632\n",
      "\n"
     ]
    },
    {
     "name": "stdout",
     "output_type": "stream",
     "text": [
      "Epoch 130, Loss 0.0428\n",
      "Training Accuracy: 0.9555, Testing Accuracy: 0.9647\n",
      "\n"
     ]
    },
    {
     "name": "stdout",
     "output_type": "stream",
     "text": [
      "Epoch 140, Loss 0.042\n",
      "Training Accuracy: 0.9560, Testing Accuracy: 0.9647\n",
      "\n"
     ]
    },
    {
     "name": "stdout",
     "output_type": "stream",
     "text": [
      "Epoch 150, Loss 0.0413\n",
      "Training Accuracy: 0.9567, Testing Accuracy: 0.9647\n",
      "\n"
     ]
    },
    {
     "name": "stdout",
     "output_type": "stream",
     "text": [
      "Epoch 160, Loss 0.0406\n",
      "Training Accuracy: 0.9572, Testing Accuracy: 0.9642\n",
      "\n"
     ]
    },
    {
     "name": "stdout",
     "output_type": "stream",
     "text": [
      "Epoch 170, Loss 0.04\n",
      "Training Accuracy: 0.9575, Testing Accuracy: 0.9642\n",
      "\n"
     ]
    },
    {
     "name": "stdout",
     "output_type": "stream",
     "text": [
      "Epoch 180, Loss 0.0395\n",
      "Training Accuracy: 0.9578, Testing Accuracy: 0.9642\n",
      "\n"
     ]
    },
    {
     "name": "stdout",
     "output_type": "stream",
     "text": [
      "Epoch 190, Loss 0.039\n",
      "Training Accuracy: 0.9579, Testing Accuracy: 0.9637\n",
      "\n"
     ]
    },
    {
     "name": "stdout",
     "output_type": "stream",
     "text": [
      "Epoch 200, Loss 0.0385\n",
      "Training Accuracy: 0.9583, Testing Accuracy: 0.9642\n",
      "\n"
     ]
    },
    {
     "name": "stdout",
     "output_type": "stream",
     "text": [
      "Epoch 210, Loss 0.038\n",
      "Training Accuracy: 0.9587, Testing Accuracy: 0.9657\n",
      "\n"
     ]
    },
    {
     "name": "stdout",
     "output_type": "stream",
     "text": [
      "Epoch 220, Loss 0.0376\n",
      "Training Accuracy: 0.9590, Testing Accuracy: 0.9657\n",
      "\n"
     ]
    },
    {
     "name": "stdout",
     "output_type": "stream",
     "text": [
      "Epoch 230, Loss 0.0373\n",
      "Training Accuracy: 0.9591, Testing Accuracy: 0.9657\n",
      "\n"
     ]
    },
    {
     "name": "stdout",
     "output_type": "stream",
     "text": [
      "Epoch 240, Loss 0.0369\n",
      "Training Accuracy: 0.9593, Testing Accuracy: 0.9657\n",
      "\n"
     ]
    },
    {
     "data": {
      "text/plain": [
       "0.0498946011337212"
      ]
     },
     "execution_count": 23,
     "metadata": {},
     "output_type": "execute_result"
    }
   ],
   "source": [
    "lr_learner.train_loop(dl)"
   ]
  },
  {
   "cell_type": "code",
   "execution_count": 24,
   "id": "ca410940",
   "metadata": {
    "execution": {
     "iopub.execute_input": "2022-04-09T00:34:21.527181Z",
     "iopub.status.busy": "2022-04-09T00:34:21.526654Z",
     "iopub.status.idle": "2022-04-09T00:34:21.750206Z",
     "shell.execute_reply": "2022-04-09T00:34:21.750620Z"
    },
    "papermill": {
     "duration": 0.272517,
     "end_time": "2022-04-09T00:34:21.750758",
     "exception": false,
     "start_time": "2022-04-09T00:34:21.478241",
     "status": "completed"
    },
    "tags": []
   },
   "outputs": [
    {
     "data": {
      "text/plain": [
       "<matplotlib.legend.Legend at 0x7fedd922bc50>"
      ]
     },
     "execution_count": 24,
     "metadata": {},
     "output_type": "execute_result"
    },
    {
     "data": {
      "image/png": "[encoded data removed]",
      "text/plain": [
       "<Figure size 1080x720 with 1 Axes>"
      ]
     },
     "metadata": {
      "needs_background": "light"
     },
     "output_type": "display_data"
    }
   ],
   "source": [
    "#comparing the results of NN and LR\n",
    "plt.figure(figsize=(15,10))\n",
    "\n",
    "# Neural Network plots\n",
    "plt.plot(acc_nn.accuracies, 'r-', label = \"Training Accuracies - NN\")\n",
    "plt.plot(acc_nn.test_accuracies, 'g-', label = \"Testing Accuracies - NN\")\n",
    "\n",
    "# Logistic Regression plots\n",
    "plt.plot(acc_lr.accuracies, 'k-', label = \"Training Accuracies - LR\")\n",
    "plt.plot(acc_lr.test_accuracies, 'b-', label = \"Testing Accuracies - LR\")\n",
    "plt.legend()"
   ]
  },
  {
   "cell_type": "markdown",
   "id": "80dfb35c",
   "metadata": {
    "papermill": {
     "duration": 0.042391,
     "end_time": "2022-04-09T00:34:21.835604",
     "exception": false,
     "start_time": "2022-04-09T00:34:21.793213",
     "status": "completed"
    },
    "tags": []
   },
   "source": [
    "#### Plotting the outputs of this layer of the NN.\n"
   ]
  },
  {
   "cell_type": "code",
   "execution_count": 25,
   "id": "45eb2ff5",
   "metadata": {
    "execution": {
     "iopub.execute_input": "2022-04-09T00:34:21.930765Z",
     "iopub.status.busy": "2022-04-09T00:34:21.930217Z",
     "iopub.status.idle": "2022-04-09T00:34:21.947345Z",
     "shell.execute_reply": "2022-04-09T00:34:21.946717Z"
    },
    "papermill": {
     "duration": 0.069458,
     "end_time": "2022-04-09T00:34:21.947467",
     "exception": false,
     "start_time": "2022-04-09T00:34:21.878009",
     "status": "completed"
    },
    "tags": []
   },
   "outputs": [],
   "source": [
    "new_model = Model(layers[:-2])\n",
    "testing_plot = new_model(testing_data_x)"
   ]
  },
  {
   "cell_type": "code",
   "execution_count": 26,
   "id": "4c0a5485",
   "metadata": {
    "execution": {
     "iopub.execute_input": "2022-04-09T00:34:22.040392Z",
     "iopub.status.busy": "2022-04-09T00:34:22.039863Z",
     "iopub.status.idle": "2022-04-09T00:34:22.229896Z",
     "shell.execute_reply": "2022-04-09T00:34:22.230312Z"
    },
    "papermill": {
     "duration": 0.239306,
     "end_time": "2022-04-09T00:34:22.230452",
     "exception": false,
     "start_time": "2022-04-09T00:34:21.991146",
     "status": "completed"
    },
    "tags": []
   },
   "outputs": [
    {
     "data": {
      "text/plain": [
       "Text(0.5, 1.0, 'Outputs')"
      ]
     },
     "execution_count": 26,
     "metadata": {},
     "output_type": "execute_result"
    },
    {
     "data": {
      "image/png": "[encoded data removed]",
      "text/plain": [
       "<Figure size 576x504 with 1 Axes>"
      ]
     },
     "metadata": {
      "needs_background": "light"
     },
     "output_type": "display_data"
    }
   ],
   "source": [
    "# Plotting the scatter plot of points and color coding by class\n",
    "plt.figure(figsize=(8,7))\n",
    "plt.scatter(testing_plot[:,0], testing_plot[:,1], alpha = 0.1, c = y_test.ravel());\n",
    "plt.title('Outputs')"
   ]
  },
  {
   "cell_type": "markdown",
   "id": "a74fcf8f",
   "metadata": {
    "papermill": {
     "duration": 0.044369,
     "end_time": "2022-04-09T00:34:22.319431",
     "exception": false,
     "start_time": "2022-04-09T00:34:22.275062",
     "status": "completed"
    },
    "tags": []
   },
   "source": [
    "Probability contours"
   ]
  },
  {
   "cell_type": "code",
   "execution_count": 27,
   "id": "d0afc8e3",
   "metadata": {
    "execution": {
     "iopub.execute_input": "2022-04-09T00:34:22.412595Z",
     "iopub.status.busy": "2022-04-09T00:34:22.412081Z",
     "iopub.status.idle": "2022-04-09T00:34:22.424132Z",
     "shell.execute_reply": "2022-04-09T00:34:22.423692Z"
    },
    "papermill": {
     "duration": 0.06025,
     "end_time": "2022-04-09T00:34:22.424244",
     "exception": false,
     "start_time": "2022-04-09T00:34:22.363994",
     "status": "completed"
    },
    "tags": []
   },
   "outputs": [],
   "source": [
    "model_prob = Model(layers[-2:]) "
   ]
  },
  {
   "cell_type": "code",
   "execution_count": 28,
   "id": "9b96e238",
   "metadata": {
    "execution": {
     "iopub.execute_input": "2022-04-09T00:34:22.543344Z",
     "iopub.status.busy": "2022-04-09T00:34:22.542825Z",
     "iopub.status.idle": "2022-04-09T00:34:22.555616Z",
     "shell.execute_reply": "2022-04-09T00:34:22.556006Z"
    },
    "papermill": {
     "duration": 0.061829,
     "end_time": "2022-04-09T00:34:22.556142",
     "exception": false,
     "start_time": "2022-04-09T00:34:22.494313",
     "status": "completed"
    },
    "tags": []
   },
   "outputs": [],
   "source": [
    "#creating the x and y ranges according to the above generated plot.\n",
    "x_range = np.linspace(-4, 1, 100) \n",
    "y_range = np.linspace(-6, 6, 100) \n",
    "x_grid, y_grid = np.meshgrid(x_range, y_range) # x_grid and y_grig are of size 100 X 100\n",
    "\n",
    "# converting x_grid and y_grid to continuous arrays\n",
    "x_gridflat = np.ravel(x_grid)\n",
    "y_gridflat = np.ravel(y_grid)\n",
    "\n",
    "# The last layer of the current model takes two columns as input. Hence transpose of np.vstack() is required.\n",
    "X = np.vstack((x_gridflat, y_gridflat)).T\n",
    "\n",
    "prob_contour = model_prob(X).reshape(100,100) "
   ]
  },
  {
   "cell_type": "code",
   "execution_count": 29,
   "id": "da72499a",
   "metadata": {
    "execution": {
     "iopub.execute_input": "2022-04-09T00:34:22.655144Z",
     "iopub.status.busy": "2022-04-09T00:34:22.654628Z",
     "iopub.status.idle": "2022-04-09T00:34:22.892036Z",
     "shell.execute_reply": "2022-04-09T00:34:22.891509Z"
    },
    "papermill": {
     "duration": 0.291397,
     "end_time": "2022-04-09T00:34:22.892151",
     "exception": false,
     "start_time": "2022-04-09T00:34:22.600754",
     "status": "completed"
    },
    "tags": []
   },
   "outputs": [
    {
     "data": {
      "image/png": "[encoded data removed]",
      "text/plain": [
       "<Figure size 720x648 with 1 Axes>"
      ]
     },
     "metadata": {
      "needs_background": "light"
     },
     "output_type": "display_data"
    }
   ],
   "source": [
    "plt.figure(figsize=(10,9))\n",
    "plt.scatter(testing_plot[:,0], testing_plot[:,1], alpha = 0.1, c = y_test.ravel())\n",
    "contours = plt.contour(x_grid,y_grid,prob_contour)\n",
    "plt.title('Probability Contours')\n",
    "plt.clabel(contours, inline = True );"
   ]
  },
  {
   "cell_type": "code",
   "execution_count": null,
   "id": "e81b4ac7",
   "metadata": {
    "papermill": {
     "duration": 0.046904,
     "end_time": "2022-04-09T00:34:22.986353",
     "exception": false,
     "start_time": "2022-04-09T00:34:22.939449",
     "status": "completed"
    },
    "tags": []
   },
   "outputs": [],
   "source": []
  }
 ],
 "metadata": {
  "kernelspec": {
   "display_name": "Python 3",
   "language": "python",
   "name": "python3"
  },
  "language_info": {
   "codemirror_mode": {
    "name": "ipython",
    "version": 3
   },
   "file_extension": ".py",
   "mimetype": "text/x-python",
   "name": "python",
   "nbconvert_exporter": "python",
   "pygments_lexer": "ipython3",
   "version": "3.6.15"
  },
  "papermill": {
   "default_parameters": {},
   "duration": 98.183406,
   "end_time": "2022-04-09T00:34:23.451682",
   "environment_variables": {},
   "exception": null,
   "input_path": "2020-08-11-part2.ipynb",
   "output_path": "2020-08-11-part2.ipynb",
   "parameters": {},
   "start_time": "2022-04-09T00:32:45.268276",
   "version": "2.3.3"
  }
 },
 "nbformat": 4,
 "nbformat_minor": 5
}