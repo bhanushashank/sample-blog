{
 "cells": [
  {
   "cell_type": "markdown",
   "id": "98380cd3",
   "metadata": {
    "papermill": {
     "duration": 0.034922,
     "end_time": "2021-09-28T20:07:02.407347",
     "exception": false,
     "start_time": "2021-09-28T20:07:02.372425",
     "status": "completed"
    },
    "tags": []
   },
   "source": [
    "# Distinguish Your Own Digits (DYOD)"
   ]
  },
  {
   "cell_type": "markdown",
   "id": "ef31240d",
   "metadata": {
    "papermill": {
     "duration": 0.026712,
     "end_time": "2021-09-28T20:07:02.461312",
     "exception": false,
     "start_time": "2021-09-28T20:07:02.434600",
     "status": "completed"
    },
    "tags": []
   },
   "source": [
    "You are going to write a classifier that distinguishes between the number 3 and number 8."
   ]
  },
  {
   "cell_type": "code",
   "execution_count": 1,
   "id": "b15c8646",
   "metadata": {
    "execution": {
     "iopub.execute_input": "2021-09-28T20:07:02.529916Z",
     "iopub.status.busy": "2021-09-28T20:07:02.529282Z",
     "iopub.status.idle": "2021-09-28T20:07:02.542460Z",
     "shell.execute_reply": "2021-09-28T20:07:02.541949Z"
    },
    "papermill": {
     "duration": 0.055113,
     "end_time": "2021-09-28T20:07:02.542601",
     "exception": false,
     "start_time": "2021-09-28T20:07:02.487488",
     "status": "completed"
    },
    "tags": []
   },
   "outputs": [],
   "source": [
    "%load_ext autoreload\n",
    "%autoreload 2"
   ]
  },
  {
   "cell_type": "code",
   "execution_count": 2,
   "id": "22ef38dc",
   "metadata": {
    "execution": {
     "iopub.execute_input": "2021-09-28T20:07:02.596618Z",
     "iopub.status.busy": "2021-09-28T20:07:02.596136Z",
     "iopub.status.idle": "2021-09-28T20:07:03.145252Z",
     "shell.execute_reply": "2021-09-28T20:07:03.144679Z"
    },
    "papermill": {
     "duration": 0.57699,
     "end_time": "2021-09-28T20:07:03.145401",
     "exception": false,
     "start_time": "2021-09-28T20:07:02.568411",
     "status": "completed"
    },
    "tags": []
   },
   "outputs": [],
   "source": [
    "%matplotlib inline\n",
    "import numpy as np\n",
    "import matplotlib.pyplot as plt\n",
    "import pandas as pd"
   ]
  },
  {
   "cell_type": "markdown",
   "id": "ba036198",
   "metadata": {
    "papermill": {
     "duration": 0.026908,
     "end_time": "2021-09-28T20:07:03.199952",
     "exception": false,
     "start_time": "2021-09-28T20:07:03.173044",
     "status": "completed"
    },
    "tags": []
   },
   "source": [
    "From the command line run `pip install mnist`. This is a library that will help you bring down the mnist dataset. If you run this from a notebook, you need to put  `!pip install mnist` in a cell by itself."
   ]
  },
  {
   "cell_type": "code",
   "execution_count": 3,
   "id": "bb6ad8a1",
   "metadata": {
    "execution": {
     "iopub.execute_input": "2021-09-28T20:07:03.258012Z",
     "iopub.status.busy": "2021-09-28T20:07:03.257415Z",
     "iopub.status.idle": "2021-09-28T20:07:04.975270Z",
     "shell.execute_reply": "2021-09-28T20:07:04.975808Z"
    },
    "papermill": {
     "duration": 1.750141,
     "end_time": "2021-09-28T20:07:04.975973",
     "exception": false,
     "start_time": "2021-09-28T20:07:03.225832",
     "status": "completed"
    },
    "tags": []
   },
   "outputs": [
    {
     "name": "stdout",
     "output_type": "stream",
     "text": [
      "Collecting mnist\r\n"
     ]
    },
    {
     "name": "stdout",
     "output_type": "stream",
     "text": [
      "  Downloading mnist-0.2.2-py2.py3-none-any.whl (3.5 kB)\r\n",
      "Requirement already satisfied: numpy in /opt/hostedtoolcache/Python/3.6.15/x64/lib/python3.6/site-packages (from mnist) (1.19.5)\r\n"
     ]
    },
    {
     "name": "stdout",
     "output_type": "stream",
     "text": [
      "Installing collected packages: mnist\r\n"
     ]
    },
    {
     "name": "stdout",
     "output_type": "stream",
     "text": [
      "Successfully installed mnist-0.2.2\r\n"
     ]
    }
   ],
   "source": [
    "!pip install mnist"
   ]
  },
  {
   "cell_type": "markdown",
   "id": "69df9c9a",
   "metadata": {
    "papermill": {
     "duration": 0.028728,
     "end_time": "2021-09-28T20:07:05.031984",
     "exception": false,
     "start_time": "2021-09-28T20:07:05.003256",
     "status": "completed"
    },
    "tags": []
   },
   "source": [
    "## Preparing the Data"
   ]
  },
  {
   "cell_type": "code",
   "execution_count": 4,
   "id": "7f69d806",
   "metadata": {
    "execution": {
     "iopub.execute_input": "2021-09-28T20:07:05.092976Z",
     "iopub.status.busy": "2021-09-28T20:07:05.092342Z",
     "iopub.status.idle": "2021-09-28T20:07:05.110230Z",
     "shell.execute_reply": "2021-09-28T20:07:05.109146Z"
    },
    "papermill": {
     "duration": 0.050263,
     "end_time": "2021-09-28T20:07:05.110360",
     "exception": false,
     "start_time": "2021-09-28T20:07:05.060097",
     "status": "completed"
    },
    "tags": []
   },
   "outputs": [],
   "source": [
    "import mnist"
   ]
  },
  {
   "cell_type": "code",
   "execution_count": 5,
   "id": "a411e44f",
   "metadata": {
    "execution": {
     "iopub.execute_input": "2021-09-28T20:07:05.169434Z",
     "iopub.status.busy": "2021-09-28T20:07:05.167658Z",
     "iopub.status.idle": "2021-09-28T20:07:05.707544Z",
     "shell.execute_reply": "2021-09-28T20:07:05.706998Z"
    },
    "papermill": {
     "duration": 0.571437,
     "end_time": "2021-09-28T20:07:05.707675",
     "exception": false,
     "start_time": "2021-09-28T20:07:05.136238",
     "status": "completed"
    },
    "tags": []
   },
   "outputs": [],
   "source": [
    "train_images = mnist.train_images()\n",
    "train_labels = mnist.train_labels()"
   ]
  },
  {
   "cell_type": "code",
   "execution_count": 6,
   "id": "dceab3a5",
   "metadata": {
    "execution": {
     "iopub.execute_input": "2021-09-28T20:07:05.782867Z",
     "iopub.status.busy": "2021-09-28T20:07:05.772251Z",
     "iopub.status.idle": "2021-09-28T20:07:05.787737Z",
     "shell.execute_reply": "2021-09-28T20:07:05.787228Z"
    },
    "papermill": {
     "duration": 0.052066,
     "end_time": "2021-09-28T20:07:05.787868",
     "exception": false,
     "start_time": "2021-09-28T20:07:05.735802",
     "status": "completed"
    },
    "tags": []
   },
   "outputs": [
    {
     "data": {
      "text/plain": [
       "((60000, 28, 28), (60000,))"
      ]
     },
     "execution_count": 6,
     "metadata": {},
     "output_type": "execute_result"
    }
   ],
   "source": [
    "train_images.shape, train_labels.shape"
   ]
  },
  {
   "cell_type": "code",
   "execution_count": 7,
   "id": "f50dc2bb",
   "metadata": {
    "execution": {
     "iopub.execute_input": "2021-09-28T20:07:05.851101Z",
     "iopub.status.busy": "2021-09-28T20:07:05.850469Z",
     "iopub.status.idle": "2021-09-28T20:07:05.992092Z",
     "shell.execute_reply": "2021-09-28T20:07:05.991520Z"
    },
    "papermill": {
     "duration": 0.175941,
     "end_time": "2021-09-28T20:07:05.992226",
     "exception": false,
     "start_time": "2021-09-28T20:07:05.816285",
     "status": "completed"
    },
    "tags": []
   },
   "outputs": [],
   "source": [
    "test_images = mnist.test_images()\n",
    "test_labels = mnist.test_labels()"
   ]
  },
  {
   "cell_type": "code",
   "execution_count": 8,
   "id": "fc38cf1b",
   "metadata": {
    "execution": {
     "iopub.execute_input": "2021-09-28T20:07:06.049487Z",
     "iopub.status.busy": "2021-09-28T20:07:06.049000Z",
     "iopub.status.idle": "2021-09-28T20:07:06.063957Z",
     "shell.execute_reply": "2021-09-28T20:07:06.063477Z"
    },
    "papermill": {
     "duration": 0.043943,
     "end_time": "2021-09-28T20:07:06.064087",
     "exception": false,
     "start_time": "2021-09-28T20:07:06.020144",
     "status": "completed"
    },
    "tags": []
   },
   "outputs": [
    {
     "data": {
      "text/plain": [
       "((10000, 28, 28), (10000,))"
      ]
     },
     "execution_count": 8,
     "metadata": {},
     "output_type": "execute_result"
    }
   ],
   "source": [
    "test_images.shape, test_labels.shape"
   ]
  },
  {
   "cell_type": "code",
   "execution_count": 9,
   "id": "f9ed8fe0",
   "metadata": {
    "execution": {
     "iopub.execute_input": "2021-09-28T20:07:06.124706Z",
     "iopub.status.busy": "2021-09-28T20:07:06.124147Z",
     "iopub.status.idle": "2021-09-28T20:07:06.273954Z",
     "shell.execute_reply": "2021-09-28T20:07:06.274356Z"
    },
    "papermill": {
     "duration": 0.182232,
     "end_time": "2021-09-28T20:07:06.274508",
     "exception": false,
     "start_time": "2021-09-28T20:07:06.092276",
     "status": "completed"
    },
    "tags": []
   },
   "outputs": [
    {
     "name": "stdout",
     "output_type": "stream",
     "text": [
      "2\n"
     ]
    },
    {
     "data": {
      "text/plain": [
       "<matplotlib.image.AxesImage at 0x7fa3aad56828>"
      ]
     },
     "execution_count": 9,
     "metadata": {},
     "output_type": "execute_result"
    },
    {
     "data": {
      "image/png": "[encoded data removed]",
      "text/plain": [
       "<Figure size 432x288 with 1 Axes>"
      ]
     },
     "metadata": {
      "needs_background": "light"
     },
     "output_type": "display_data"
    }
   ],
   "source": [
    "image_index = 7776 # You may select anything up to 60,000\n",
    "print(train_labels[image_index]) \n",
    "plt.imshow(train_images[image_index], cmap='Greys')"
   ]
  },
  {
   "cell_type": "markdown",
   "id": "a8d2388d",
   "metadata": {
    "papermill": {
     "duration": 0.025686,
     "end_time": "2021-09-28T20:07:06.326514",
     "exception": false,
     "start_time": "2021-09-28T20:07:06.300828",
     "status": "completed"
    },
    "tags": []
   },
   "source": [
    "## Filter data to get 3 and 8 out"
   ]
  },
  {
   "cell_type": "code",
   "execution_count": 10,
   "id": "776f7fc7",
   "metadata": {
    "execution": {
     "iopub.execute_input": "2021-09-28T20:07:06.387822Z",
     "iopub.status.busy": "2021-09-28T20:07:06.386811Z",
     "iopub.status.idle": "2021-09-28T20:07:06.408065Z",
     "shell.execute_reply": "2021-09-28T20:07:06.408522Z"
    },
    "papermill": {
     "duration": 0.054474,
     "end_time": "2021-09-28T20:07:06.408680",
     "exception": false,
     "start_time": "2021-09-28T20:07:06.354206",
     "status": "completed"
    },
    "tags": []
   },
   "outputs": [],
   "source": [
    "train_filter = np.where((train_labels == 3 ) | (train_labels == 8))\n",
    "test_filter = np.where((test_labels == 3) | (test_labels == 8))\n",
    "X_train, y_train = train_images[train_filter], train_labels[train_filter]\n",
    "X_test, y_test = test_images[test_filter], test_labels[test_filter]"
   ]
  },
  {
   "cell_type": "markdown",
   "id": "948f0b7e",
   "metadata": {
    "papermill": {
     "duration": 0.028802,
     "end_time": "2021-09-28T20:07:06.467304",
     "exception": false,
     "start_time": "2021-09-28T20:07:06.438502",
     "status": "completed"
    },
    "tags": []
   },
   "source": [
    "We normalize the pizel values in the 0 to 1 range"
   ]
  },
  {
   "cell_type": "code",
   "execution_count": 11,
   "id": "ee4c2166",
   "metadata": {
    "execution": {
     "iopub.execute_input": "2021-09-28T20:07:06.531552Z",
     "iopub.status.busy": "2021-09-28T20:07:06.530918Z",
     "iopub.status.idle": "2021-09-28T20:07:06.585144Z",
     "shell.execute_reply": "2021-09-28T20:07:06.584493Z"
    },
    "papermill": {
     "duration": 0.088398,
     "end_time": "2021-09-28T20:07:06.585315",
     "exception": false,
     "start_time": "2021-09-28T20:07:06.496917",
     "status": "completed"
    },
    "tags": []
   },
   "outputs": [],
   "source": [
    "X_train = X_train/255.\n",
    "X_test = X_test/255."
   ]
  },
  {
   "cell_type": "markdown",
   "id": "ddcf4fab",
   "metadata": {
    "papermill": {
     "duration": 0.029003,
     "end_time": "2021-09-28T20:07:06.646045",
     "exception": false,
     "start_time": "2021-09-28T20:07:06.617042",
     "status": "completed"
    },
    "tags": []
   },
   "source": [
    "And setup the labels as 1 (when the digit is 3) and 0 (when the digit is 8)"
   ]
  },
  {
   "cell_type": "code",
   "execution_count": 12,
   "id": "7dc908f2",
   "metadata": {
    "execution": {
     "iopub.execute_input": "2021-09-28T20:07:06.706235Z",
     "iopub.status.busy": "2021-09-28T20:07:06.705661Z",
     "iopub.status.idle": "2021-09-28T20:07:06.719553Z",
     "shell.execute_reply": "2021-09-28T20:07:06.720028Z"
    },
    "papermill": {
     "duration": 0.046599,
     "end_time": "2021-09-28T20:07:06.720170",
     "exception": false,
     "start_time": "2021-09-28T20:07:06.673571",
     "status": "completed"
    },
    "tags": []
   },
   "outputs": [],
   "source": [
    "y_train = 1*(y_train==3)\n",
    "y_test = 1*(y_test==3)"
   ]
  },
  {
   "cell_type": "code",
   "execution_count": 13,
   "id": "01e4e969",
   "metadata": {
    "execution": {
     "iopub.execute_input": "2021-09-28T20:07:06.779811Z",
     "iopub.status.busy": "2021-09-28T20:07:06.779282Z",
     "iopub.status.idle": "2021-09-28T20:07:06.796292Z",
     "shell.execute_reply": "2021-09-28T20:07:06.795906Z"
    },
    "papermill": {
     "duration": 0.048032,
     "end_time": "2021-09-28T20:07:06.796394",
     "exception": false,
     "start_time": "2021-09-28T20:07:06.748362",
     "status": "completed"
    },
    "tags": []
   },
   "outputs": [
    {
     "data": {
      "text/plain": [
       "((11982, 28, 28), (1984, 28, 28))"
      ]
     },
     "execution_count": 13,
     "metadata": {},
     "output_type": "execute_result"
    }
   ],
   "source": [
    "X_train.shape, X_test.shape"
   ]
  },
  {
   "cell_type": "markdown",
   "id": "5ccf3f85",
   "metadata": {
    "papermill": {
     "duration": 0.02746,
     "end_time": "2021-09-28T20:07:06.853041",
     "exception": false,
     "start_time": "2021-09-28T20:07:06.825581",
     "status": "completed"
    },
    "tags": []
   },
   "source": [
    "We reshape the data to flatten the image pixels into a set of features or co-variates:"
   ]
  },
  {
   "cell_type": "code",
   "execution_count": 14,
   "id": "5286a4a3",
   "metadata": {
    "execution": {
     "iopub.execute_input": "2021-09-28T20:07:06.916864Z",
     "iopub.status.busy": "2021-09-28T20:07:06.916273Z",
     "iopub.status.idle": "2021-09-28T20:07:06.931188Z",
     "shell.execute_reply": "2021-09-28T20:07:06.930687Z"
    },
    "papermill": {
     "duration": 0.049811,
     "end_time": "2021-09-28T20:07:06.931328",
     "exception": false,
     "start_time": "2021-09-28T20:07:06.881517",
     "status": "completed"
    },
    "tags": []
   },
   "outputs": [
    {
     "data": {
      "text/plain": [
       "((11982, 784), (1984, 784))"
      ]
     },
     "execution_count": 14,
     "metadata": {},
     "output_type": "execute_result"
    }
   ],
   "source": [
    "X_train = X_train.reshape(X_train.shape[0], -1)\n",
    "X_test = X_test.reshape(X_test.shape[0], -1)\n",
    "X_train.shape, X_test.shape"
   ]
  },
  {
   "cell_type": "code",
   "execution_count": 15,
   "id": "73c5f88a",
   "metadata": {
    "execution": {
     "iopub.execute_input": "2021-09-28T20:07:06.997827Z",
     "iopub.status.busy": "2021-09-28T20:07:06.997277Z",
     "iopub.status.idle": "2021-09-28T20:07:07.018034Z",
     "shell.execute_reply": "2021-09-28T20:07:07.017500Z"
    },
    "papermill": {
     "duration": 0.057666,
     "end_time": "2021-09-28T20:07:07.018170",
     "exception": false,
     "start_time": "2021-09-28T20:07:06.960504",
     "status": "completed"
    },
    "tags": []
   },
   "outputs": [],
   "source": [
    "#Impoting functions from 'Kudzu'\n",
    "from kudzu.model import Model\n",
    "from kudzu.train import Learner\n",
    "from kudzu.optim import GD\n",
    "from kudzu.data import Data, Sampler,Dataloader\n",
    "\n",
    "from kudzu.callbacks import AccCallback\n",
    "from kudzu.callbacks import ClfCallback\n",
    "\n",
    "from kudzu.loss import MSE\n",
    "\n",
    "from kudzu.layer import Sigmoid,Relu\n",
    "from kudzu.layer import Affine"
   ]
  },
  {
   "cell_type": "markdown",
   "id": "bc01172a",
   "metadata": {
    "papermill": {
     "duration": 0.030046,
     "end_time": "2021-09-28T20:07:07.076807",
     "exception": false,
     "start_time": "2021-09-28T20:07:07.046761",
     "status": "completed"
    },
    "tags": []
   },
   "source": [
    "### Let us create a `Config` class, to store important parameters. \n",
    "This class essentially plays the role of a dictionary."
   ]
  },
  {
   "cell_type": "code",
   "execution_count": 16,
   "id": "978281aa",
   "metadata": {
    "execution": {
     "iopub.execute_input": "2021-09-28T20:07:07.140999Z",
     "iopub.status.busy": "2021-09-28T20:07:07.140442Z",
     "iopub.status.idle": "2021-09-28T20:07:07.153494Z",
     "shell.execute_reply": "2021-09-28T20:07:07.153021Z"
    },
    "papermill": {
     "duration": 0.046611,
     "end_time": "2021-09-28T20:07:07.153620",
     "exception": false,
     "start_time": "2021-09-28T20:07:07.107009",
     "status": "completed"
    },
    "tags": []
   },
   "outputs": [],
   "source": [
    "class Config:\n",
    "    pass\n",
    "config = Config()\n",
    "config.lr = 0.001\n",
    "config.num_epochs = 250\n",
    "config.bs = 50"
   ]
  },
  {
   "cell_type": "markdown",
   "id": "1385fa59",
   "metadata": {
    "papermill": {
     "duration": 0.025918,
     "end_time": "2021-09-28T20:07:07.208637",
     "exception": false,
     "start_time": "2021-09-28T20:07:07.182719",
     "status": "completed"
    },
    "tags": []
   },
   "source": [
    "### Running Models with the Training data\n",
    "Details about the network layers:\n",
    "- A first affine layer has 784 inputs and does 100 affine transforms. These are followed by a Relu\n",
    "- A second affine layer has 100 inputs from the 100 activations of the past layer, and does 100 affine transforms. These are followed by a Relu\n",
    "- A third affine layer has 100 activations and does 2 affine transformations to create an embedding for visualization. There is no non-linearity here.\n",
    "- A final \"logistic regression\" which has an affine transform from 2 inputs to 1 output, which is squeezed through a sigmoid.\n"
   ]
  },
  {
   "cell_type": "code",
   "execution_count": 17,
   "id": "2b9c66db",
   "metadata": {
    "execution": {
     "iopub.execute_input": "2021-09-28T20:07:07.270359Z",
     "iopub.status.busy": "2021-09-28T20:07:07.269756Z",
     "iopub.status.idle": "2021-09-28T20:07:07.282767Z",
     "shell.execute_reply": "2021-09-28T20:07:07.282357Z"
    },
    "papermill": {
     "duration": 0.046832,
     "end_time": "2021-09-28T20:07:07.282888",
     "exception": false,
     "start_time": "2021-09-28T20:07:07.236056",
     "status": "completed"
    },
    "tags": []
   },
   "outputs": [],
   "source": [
    "data = Data(X_train, y_train.reshape(-1,1))\n",
    "sampler = Sampler(data, config.bs, shuffle=True)\n",
    "\n",
    "dl = Dataloader(data, sampler)\n",
    "\n",
    "opt = GD(config.lr)\n",
    "loss = MSE()"
   ]
  },
  {
   "cell_type": "code",
   "execution_count": 18,
   "id": "b275e4c2",
   "metadata": {
    "execution": {
     "iopub.execute_input": "2021-09-28T20:07:07.342319Z",
     "iopub.status.busy": "2021-09-28T20:07:07.341901Z",
     "iopub.status.idle": "2021-09-28T20:07:07.355832Z",
     "shell.execute_reply": "2021-09-28T20:07:07.355357Z"
    },
    "papermill": {
     "duration": 0.045595,
     "end_time": "2021-09-28T20:07:07.355953",
     "exception": false,
     "start_time": "2021-09-28T20:07:07.310358",
     "status": "completed"
    },
    "tags": []
   },
   "outputs": [],
   "source": [
    "training_data_x = X_train\n",
    "testing_data_x = X_test\n",
    "training_data_y = y_train.reshape(-1,1)\n",
    "testing_data_y = y_test.reshape(-1,1)"
   ]
  },
  {
   "cell_type": "code",
   "execution_count": 19,
   "id": "76951160",
   "metadata": {
    "execution": {
     "iopub.execute_input": "2021-09-28T20:07:07.420127Z",
     "iopub.status.busy": "2021-09-28T20:07:07.419568Z",
     "iopub.status.idle": "2021-09-28T20:07:07.439020Z",
     "shell.execute_reply": "2021-09-28T20:07:07.438575Z"
    },
    "papermill": {
     "duration": 0.05504,
     "end_time": "2021-09-28T20:07:07.439138",
     "exception": false,
     "start_time": "2021-09-28T20:07:07.384098",
     "status": "completed"
    },
    "tags": []
   },
   "outputs": [
    {
     "name": "stdout",
     "output_type": "stream",
     "text": [
      "xavier\n",
      "xavier\n",
      "xavier\n",
      "xavier\n",
      "xavier\n"
     ]
    }
   ],
   "source": [
    "layers = [Affine(\"first\", 784, 100), Relu(\"first\"), Affine(\"second\", 100, 100), Relu(\"second\"), Affine(\"third\", 100, 2), Affine(\"last\", 2, 1), Sigmoid(\"last\")]\n",
    "model_nn = Model(layers)\n",
    "model_lr = Model([Affine(\"logits\", 784, 1), Sigmoid(\"sigmoid\")])"
   ]
  },
  {
   "cell_type": "code",
   "execution_count": 20,
   "id": "6eede77a",
   "metadata": {
    "execution": {
     "iopub.execute_input": "2021-09-28T20:07:07.502564Z",
     "iopub.status.busy": "2021-09-28T20:07:07.502004Z",
     "iopub.status.idle": "2021-09-28T20:07:07.515193Z",
     "shell.execute_reply": "2021-09-28T20:07:07.515613Z"
    },
    "papermill": {
     "duration": 0.048069,
     "end_time": "2021-09-28T20:07:07.515739",
     "exception": false,
     "start_time": "2021-09-28T20:07:07.467670",
     "status": "completed"
    },
    "tags": []
   },
   "outputs": [],
   "source": [
    "nn_learner = Learner(loss, model_nn, opt, config.num_epochs)\n",
    "acc_nn = ClfCallback(nn_learner, config.bs, training_data_x , testing_data_x, training_data_y, testing_data_y)\n",
    "nn_learner.set_callbacks([acc_nn])"
   ]
  },
  {
   "cell_type": "code",
   "execution_count": 21,
   "id": "877b6cc7",
   "metadata": {
    "execution": {
     "iopub.execute_input": "2021-09-28T20:07:07.576859Z",
     "iopub.status.busy": "2021-09-28T20:07:07.576274Z",
     "iopub.status.idle": "2021-09-28T20:07:07.589627Z",
     "shell.execute_reply": "2021-09-28T20:07:07.589148Z"
    },
    "papermill": {
     "duration": 0.046853,
     "end_time": "2021-09-28T20:07:07.589757",
     "exception": false,
     "start_time": "2021-09-28T20:07:07.542904",
     "status": "completed"
    },
    "tags": []
   },
   "outputs": [],
   "source": [
    "lr_learner = Learner(loss, model_lr, opt, config.num_epochs)\n",
    "acc_lr = ClfCallback(lr_learner, config.bs, training_data_x , testing_data_x, training_data_y, testing_data_y)\n",
    "lr_learner.set_callbacks([acc_lr])"
   ]
  },
  {
   "cell_type": "code",
   "execution_count": 22,
   "id": "d9b133c3",
   "metadata": {
    "execution": {
     "iopub.execute_input": "2021-09-28T20:07:07.655197Z",
     "iopub.status.busy": "2021-09-28T20:07:07.654615Z",
     "iopub.status.idle": "2021-09-28T20:08:32.623824Z",
     "shell.execute_reply": "2021-09-28T20:08:32.624649Z"
    },
    "papermill": {
     "duration": 85.004275,
     "end_time": "2021-09-28T20:08:32.624806",
     "exception": false,
     "start_time": "2021-09-28T20:07:07.620531",
     "status": "completed"
    },
    "tags": []
   },
   "outputs": [
    {
     "name": "stdout",
     "output_type": "stream",
     "text": [
      "Epoch 0, Loss 0.2485\n",
      "Training Accuracy: 0.5732, Testing Accuracy: 0.5691\n",
      "\n"
     ]
    },
    {
     "name": "stdout",
     "output_type": "stream",
     "text": [
      "Epoch 10, Loss 0.1281\n",
      "Training Accuracy: 0.8922, Testing Accuracy: 0.8977\n",
      "\n"
     ]
    },
    {
     "name": "stdout",
     "output_type": "stream",
     "text": [
      "Epoch 20, Loss 0.0688\n",
      "Training Accuracy: 0.9321, Testing Accuracy: 0.9390\n",
      "\n"
     ]
    },
    {
     "name": "stdout",
     "output_type": "stream",
     "text": [
      "Epoch 30, Loss 0.0501\n",
      "Training Accuracy: 0.9464, Testing Accuracy: 0.9526\n",
      "\n"
     ]
    },
    {
     "name": "stdout",
     "output_type": "stream",
     "text": [
      "Epoch 40, Loss 0.0419\n",
      "Training Accuracy: 0.9537, Testing Accuracy: 0.9597\n",
      "\n"
     ]
    },
    {
     "name": "stdout",
     "output_type": "stream",
     "text": [
      "Epoch 50, Loss 0.0373\n",
      "Training Accuracy: 0.9575, Testing Accuracy: 0.9632\n",
      "\n"
     ]
    },
    {
     "name": "stdout",
     "output_type": "stream",
     "text": [
      "Epoch 60, Loss 0.0345\n",
      "Training Accuracy: 0.9604, Testing Accuracy: 0.9657\n",
      "\n"
     ]
    },
    {
     "name": "stdout",
     "output_type": "stream",
     "text": [
      "Epoch 70, Loss 0.0324\n",
      "Training Accuracy: 0.9624, Testing Accuracy: 0.9672\n",
      "\n"
     ]
    },
    {
     "name": "stdout",
     "output_type": "stream",
     "text": [
      "Epoch 80, Loss 0.0308\n",
      "Training Accuracy: 0.9635, Testing Accuracy: 0.9693\n",
      "\n"
     ]
    },
    {
     "name": "stdout",
     "output_type": "stream",
     "text": [
      "Epoch 90, Loss 0.0296\n",
      "Training Accuracy: 0.9650, Testing Accuracy: 0.9698\n",
      "\n"
     ]
    },
    {
     "name": "stdout",
     "output_type": "stream",
     "text": [
      "Epoch 100, Loss 0.0285\n",
      "Training Accuracy: 0.9664, Testing Accuracy: 0.9708\n",
      "\n"
     ]
    },
    {
     "name": "stdout",
     "output_type": "stream",
     "text": [
      "Epoch 110, Loss 0.0276\n",
      "Training Accuracy: 0.9673, Testing Accuracy: 0.9713\n",
      "\n"
     ]
    },
    {
     "name": "stdout",
     "output_type": "stream",
     "text": [
      "Epoch 120, Loss 0.0268\n",
      "Training Accuracy: 0.9681, Testing Accuracy: 0.9708\n",
      "\n"
     ]
    },
    {
     "name": "stdout",
     "output_type": "stream",
     "text": [
      "Epoch 130, Loss 0.0261\n",
      "Training Accuracy: 0.9692, Testing Accuracy: 0.9713\n",
      "\n"
     ]
    },
    {
     "name": "stdout",
     "output_type": "stream",
     "text": [
      "Epoch 140, Loss 0.0255\n",
      "Training Accuracy: 0.9700, Testing Accuracy: 0.9713\n",
      "\n"
     ]
    },
    {
     "name": "stdout",
     "output_type": "stream",
     "text": [
      "Epoch 150, Loss 0.0249\n",
      "Training Accuracy: 0.9707, Testing Accuracy: 0.9703\n",
      "\n"
     ]
    },
    {
     "name": "stdout",
     "output_type": "stream",
     "text": [
      "Epoch 160, Loss 0.0244\n",
      "Training Accuracy: 0.9713, Testing Accuracy: 0.9703\n",
      "\n"
     ]
    },
    {
     "name": "stdout",
     "output_type": "stream",
     "text": [
      "Epoch 170, Loss 0.0239\n",
      "Training Accuracy: 0.9720, Testing Accuracy: 0.9703\n",
      "\n"
     ]
    },
    {
     "name": "stdout",
     "output_type": "stream",
     "text": [
      "Epoch 180, Loss 0.0234\n",
      "Training Accuracy: 0.9725, Testing Accuracy: 0.9703\n",
      "\n"
     ]
    },
    {
     "name": "stdout",
     "output_type": "stream",
     "text": [
      "Epoch 190, Loss 0.0229\n",
      "Training Accuracy: 0.9726, Testing Accuracy: 0.9713\n",
      "\n"
     ]
    },
    {
     "name": "stdout",
     "output_type": "stream",
     "text": [
      "Epoch 200, Loss 0.0225\n",
      "Training Accuracy: 0.9730, Testing Accuracy: 0.9708\n",
      "\n"
     ]
    },
    {
     "name": "stdout",
     "output_type": "stream",
     "text": [
      "Epoch 210, Loss 0.0221\n",
      "Training Accuracy: 0.9737, Testing Accuracy: 0.9713\n",
      "\n"
     ]
    },
    {
     "name": "stdout",
     "output_type": "stream",
     "text": [
      "Epoch 220, Loss 0.0217\n",
      "Training Accuracy: 0.9740, Testing Accuracy: 0.9723\n",
      "\n"
     ]
    },
    {
     "name": "stdout",
     "output_type": "stream",
     "text": [
      "Epoch 230, Loss 0.0214\n",
      "Training Accuracy: 0.9746, Testing Accuracy: 0.9728\n",
      "\n"
     ]
    },
    {
     "name": "stdout",
     "output_type": "stream",
     "text": [
      "Epoch 240, Loss 0.021\n",
      "Training Accuracy: 0.9750, Testing Accuracy: 0.9733\n",
      "\n"
     ]
    },
    {
     "data": {
      "text/plain": [
       "0.011015064529942758"
      ]
     },
     "execution_count": 22,
     "metadata": {},
     "output_type": "execute_result"
    }
   ],
   "source": [
    "nn_learner.train_loop(dl)"
   ]
  },
  {
   "cell_type": "code",
   "execution_count": 23,
   "id": "e0163366",
   "metadata": {
    "execution": {
     "iopub.execute_input": "2021-09-28T20:08:32.712230Z",
     "iopub.status.busy": "2021-09-28T20:08:32.711673Z",
     "iopub.status.idle": "2021-09-28T20:08:47.671790Z",
     "shell.execute_reply": "2021-09-28T20:08:47.672364Z"
    },
    "papermill": {
     "duration": 15.009264,
     "end_time": "2021-09-28T20:08:47.672522",
     "exception": false,
     "start_time": "2021-09-28T20:08:32.663258",
     "status": "completed"
    },
    "tags": []
   },
   "outputs": [
    {
     "name": "stdout",
     "output_type": "stream",
     "text": [
      "Epoch 0, Loss 0.2239\n",
      "Training Accuracy: 0.7562, Testing Accuracy: 0.7606\n",
      "\n"
     ]
    },
    {
     "name": "stdout",
     "output_type": "stream",
     "text": [
      "Epoch 10, Loss 0.1023\n",
      "Training Accuracy: 0.9079, Testing Accuracy: 0.9183\n",
      "\n"
     ]
    },
    {
     "name": "stdout",
     "output_type": "stream",
     "text": [
      "Epoch 20, Loss 0.0794\n",
      "Training Accuracy: 0.9267, Testing Accuracy: 0.9400\n",
      "\n"
     ]
    },
    {
     "name": "stdout",
     "output_type": "stream",
     "text": [
      "Epoch 30, Loss 0.0686\n",
      "Training Accuracy: 0.9359, Testing Accuracy: 0.9506\n",
      "\n"
     ]
    },
    {
     "name": "stdout",
     "output_type": "stream",
     "text": [
      "Epoch 40, Loss 0.062\n",
      "Training Accuracy: 0.9407, Testing Accuracy: 0.9541\n",
      "\n"
     ]
    },
    {
     "name": "stdout",
     "output_type": "stream",
     "text": [
      "Epoch 50, Loss 0.0574\n",
      "Training Accuracy: 0.9441, Testing Accuracy: 0.9551\n",
      "\n"
     ]
    },
    {
     "name": "stdout",
     "output_type": "stream",
     "text": [
      "Epoch 60, Loss 0.0541\n",
      "Training Accuracy: 0.9472, Testing Accuracy: 0.9587\n",
      "\n"
     ]
    },
    {
     "name": "stdout",
     "output_type": "stream",
     "text": [
      "Epoch 70, Loss 0.0515\n",
      "Training Accuracy: 0.9498, Testing Accuracy: 0.9617\n",
      "\n"
     ]
    },
    {
     "name": "stdout",
     "output_type": "stream",
     "text": [
      "Epoch 80, Loss 0.0494\n",
      "Training Accuracy: 0.9516, Testing Accuracy: 0.9622\n",
      "\n"
     ]
    },
    {
     "name": "stdout",
     "output_type": "stream",
     "text": [
      "Epoch 90, Loss 0.0477\n",
      "Training Accuracy: 0.9535, Testing Accuracy: 0.9632\n",
      "\n"
     ]
    },
    {
     "name": "stdout",
     "output_type": "stream",
     "text": [
      "Epoch 100, Loss 0.0463\n",
      "Training Accuracy: 0.9546, Testing Accuracy: 0.9632\n",
      "\n"
     ]
    },
    {
     "name": "stdout",
     "output_type": "stream",
     "text": [
      "Epoch 110, Loss 0.0451\n",
      "Training Accuracy: 0.9554, Testing Accuracy: 0.9632\n",
      "\n"
     ]
    },
    {
     "name": "stdout",
     "output_type": "stream",
     "text": [
      "Epoch 120, Loss 0.044\n",
      "Training Accuracy: 0.9566, Testing Accuracy: 0.9637\n",
      "\n"
     ]
    },
    {
     "name": "stdout",
     "output_type": "stream",
     "text": [
      "Epoch 130, Loss 0.043\n",
      "Training Accuracy: 0.9573, Testing Accuracy: 0.9647\n",
      "\n"
     ]
    },
    {
     "name": "stdout",
     "output_type": "stream",
     "text": [
      "Epoch 140, Loss 0.0422\n",
      "Training Accuracy: 0.9578, Testing Accuracy: 0.9662\n",
      "\n"
     ]
    },
    {
     "name": "stdout",
     "output_type": "stream",
     "text": [
      "Epoch 150, Loss 0.0414\n",
      "Training Accuracy: 0.9582, Testing Accuracy: 0.9667\n",
      "\n"
     ]
    },
    {
     "name": "stdout",
     "output_type": "stream",
     "text": [
      "Epoch 160, Loss 0.0407\n",
      "Training Accuracy: 0.9587, Testing Accuracy: 0.9667\n",
      "\n"
     ]
    },
    {
     "name": "stdout",
     "output_type": "stream",
     "text": [
      "Epoch 170, Loss 0.0401\n",
      "Training Accuracy: 0.9587, Testing Accuracy: 0.9667\n",
      "\n"
     ]
    },
    {
     "name": "stdout",
     "output_type": "stream",
     "text": [
      "Epoch 180, Loss 0.0396\n",
      "Training Accuracy: 0.9590, Testing Accuracy: 0.9672\n",
      "\n"
     ]
    },
    {
     "name": "stdout",
     "output_type": "stream",
     "text": [
      "Epoch 190, Loss 0.039\n",
      "Training Accuracy: 0.9594, Testing Accuracy: 0.9677\n",
      "\n"
     ]
    },
    {
     "name": "stdout",
     "output_type": "stream",
     "text": [
      "Epoch 200, Loss 0.0385\n",
      "Training Accuracy: 0.9597, Testing Accuracy: 0.9677\n",
      "\n"
     ]
    },
    {
     "name": "stdout",
     "output_type": "stream",
     "text": [
      "Epoch 210, Loss 0.0381\n",
      "Training Accuracy: 0.9600, Testing Accuracy: 0.9682\n",
      "\n"
     ]
    },
    {
     "name": "stdout",
     "output_type": "stream",
     "text": [
      "Epoch 220, Loss 0.0377\n",
      "Training Accuracy: 0.9607, Testing Accuracy: 0.9682\n",
      "\n"
     ]
    },
    {
     "name": "stdout",
     "output_type": "stream",
     "text": [
      "Epoch 230, Loss 0.0373\n",
      "Training Accuracy: 0.9609, Testing Accuracy: 0.9677\n",
      "\n"
     ]
    },
    {
     "name": "stdout",
     "output_type": "stream",
     "text": [
      "Epoch 240, Loss 0.0369\n",
      "Training Accuracy: 0.9610, Testing Accuracy: 0.9688\n",
      "\n"
     ]
    },
    {
     "data": {
      "text/plain": [
       "0.020592736418774207"
      ]
     },
     "execution_count": 23,
     "metadata": {},
     "output_type": "execute_result"
    }
   ],
   "source": [
    "lr_learner.train_loop(dl)"
   ]
  },
  {
   "cell_type": "code",
   "execution_count": 24,
   "id": "ca410940",
   "metadata": {
    "execution": {
     "iopub.execute_input": "2021-09-28T20:08:47.776362Z",
     "iopub.status.busy": "2021-09-28T20:08:47.775794Z",
     "iopub.status.idle": "2021-09-28T20:08:48.041758Z",
     "shell.execute_reply": "2021-09-28T20:08:48.042455Z"
    },
    "papermill": {
     "duration": 0.325545,
     "end_time": "2021-09-28T20:08:48.042662",
     "exception": false,
     "start_time": "2021-09-28T20:08:47.717117",
     "status": "completed"
    },
    "tags": []
   },
   "outputs": [
    {
     "data": {
      "text/plain": [
       "<matplotlib.legend.Legend at 0x7fa3aa8b98d0>"
      ]
     },
     "execution_count": 24,
     "metadata": {},
     "output_type": "execute_result"
    },
    {
     "data": {
      "image/png": "[encoded data removed]",
      "text/plain": [
       "<Figure size 1080x720 with 1 Axes>"
      ]
     },
     "metadata": {
      "needs_background": "light"
     },
     "output_type": "display_data"
    }
   ],
   "source": [
    "#comparing the results of NN and LR\n",
    "plt.figure(figsize=(15,10))\n",
    "\n",
    "# Neural Network plots\n",
    "plt.plot(acc_nn.accuracies, 'r-', label = \"Training Accuracies - NN\")\n",
    "plt.plot(acc_nn.test_accuracies, 'g-', label = \"Testing Accuracies - NN\")\n",
    "\n",
    "# Logistic Regression plots\n",
    "plt.plot(acc_lr.accuracies, 'k-', label = \"Training Accuracies - LR\")\n",
    "plt.plot(acc_lr.test_accuracies, 'b-', label = \"Testing Accuracies - LR\")\n",
    "plt.legend()"
   ]
  },
  {
   "cell_type": "markdown",
   "id": "80dfb35c",
   "metadata": {
    "papermill": {
     "duration": 0.044447,
     "end_time": "2021-09-28T20:08:48.136127",
     "exception": false,
     "start_time": "2021-09-28T20:08:48.091680",
     "status": "completed"
    },
    "tags": []
   },
   "source": [
    "#### Plotting the outputs of this layer of the NN.\n"
   ]
  },
  {
   "cell_type": "code",
   "execution_count": 25,
   "id": "45eb2ff5",
   "metadata": {
    "execution": {
     "iopub.execute_input": "2021-09-28T20:08:48.234101Z",
     "iopub.status.busy": "2021-09-28T20:08:48.232706Z",
     "iopub.status.idle": "2021-09-28T20:08:48.252063Z",
     "shell.execute_reply": "2021-09-28T20:08:48.252540Z"
    },
    "papermill": {
     "duration": 0.074121,
     "end_time": "2021-09-28T20:08:48.252688",
     "exception": false,
     "start_time": "2021-09-28T20:08:48.178567",
     "status": "completed"
    },
    "tags": []
   },
   "outputs": [],
   "source": [
    "new_model = Model(layers[:-2])\n",
    "testing_plot = new_model(testing_data_x)"
   ]
  },
  {
   "cell_type": "code",
   "execution_count": 26,
   "id": "4c0a5485",
   "metadata": {
    "execution": {
     "iopub.execute_input": "2021-09-28T20:08:48.364365Z",
     "iopub.status.busy": "2021-09-28T20:08:48.363790Z",
     "iopub.status.idle": "2021-09-28T20:08:48.572517Z",
     "shell.execute_reply": "2021-09-28T20:08:48.571725Z"
    },
    "papermill": {
     "duration": 0.264914,
     "end_time": "2021-09-28T20:08:48.572639",
     "exception": false,
     "start_time": "2021-09-28T20:08:48.307725",
     "status": "completed"
    },
    "tags": []
   },
   "outputs": [
    {
     "data": {
      "text/plain": [
       "Text(0.5, 1.0, 'Outputs')"
      ]
     },
     "execution_count": 26,
     "metadata": {},
     "output_type": "execute_result"
    },
    {
     "data": {
      "image/png": "[encoded data removed]",
      "text/plain": [
       "<Figure size 576x504 with 1 Axes>"
      ]
     },
     "metadata": {
      "needs_background": "light"
     },
     "output_type": "display_data"
    }
   ],
   "source": [
    "# Plotting the scatter plot of points and color coding by class\n",
    "plt.figure(figsize=(8,7))\n",
    "plt.scatter(testing_plot[:,0], testing_plot[:,1], alpha = 0.1, c = y_test.ravel());\n",
    "plt.title('Outputs')"
   ]
  },
  {
   "cell_type": "markdown",
   "id": "a74fcf8f",
   "metadata": {
    "papermill": {
     "duration": 0.049326,
     "end_time": "2021-09-28T20:08:48.672605",
     "exception": false,
     "start_time": "2021-09-28T20:08:48.623279",
     "status": "completed"
    },
    "tags": []
   },
   "source": [
    "Probability contours"
   ]
  },
  {
   "cell_type": "code",
   "execution_count": 27,
   "id": "d0afc8e3",
   "metadata": {
    "execution": {
     "iopub.execute_input": "2021-09-28T20:08:48.775054Z",
     "iopub.status.busy": "2021-09-28T20:08:48.771383Z",
     "iopub.status.idle": "2021-09-28T20:08:48.787449Z",
     "shell.execute_reply": "2021-09-28T20:08:48.787034Z"
    },
    "papermill": {
     "duration": 0.068314,
     "end_time": "2021-09-28T20:08:48.787570",
     "exception": false,
     "start_time": "2021-09-28T20:08:48.719256",
     "status": "completed"
    },
    "tags": []
   },
   "outputs": [],
   "source": [
    "model_prob = Model(layers[-2:]) "
   ]
  },
  {
   "cell_type": "code",
   "execution_count": 28,
   "id": "9b96e238",
   "metadata": {
    "execution": {
     "iopub.execute_input": "2021-09-28T20:08:48.918918Z",
     "iopub.status.busy": "2021-09-28T20:08:48.917821Z",
     "iopub.status.idle": "2021-09-28T20:08:48.933706Z",
     "shell.execute_reply": "2021-09-28T20:08:48.934264Z"
    },
    "papermill": {
     "duration": 0.070848,
     "end_time": "2021-09-28T20:08:48.934420",
     "exception": false,
     "start_time": "2021-09-28T20:08:48.863572",
     "status": "completed"
    },
    "tags": []
   },
   "outputs": [],
   "source": [
    "#creating the x and y ranges according to the above generated plot.\n",
    "x_range = np.linspace(-4, 1, 100) \n",
    "y_range = np.linspace(-6, 6, 100) \n",
    "x_grid, y_grid = np.meshgrid(x_range, y_range) # x_grid and y_grig are of size 100 X 100\n",
    "\n",
    "# converting x_grid and y_grid to continuous arrays\n",
    "x_gridflat = np.ravel(x_grid)\n",
    "y_gridflat = np.ravel(y_grid)\n",
    "\n",
    "# The last layer of the current model takes two columns as input. Hence transpose of np.vstack() is required.\n",
    "X = np.vstack((x_gridflat, y_gridflat)).T\n",
    "\n",
    "prob_contour = model_prob(X).reshape(100,100) "
   ]
  },
  {
   "cell_type": "code",
   "execution_count": 29,
   "id": "da72499a",
   "metadata": {
    "execution": {
     "iopub.execute_input": "2021-09-28T20:08:49.052208Z",
     "iopub.status.busy": "2021-09-28T20:08:49.051604Z",
     "iopub.status.idle": "2021-09-28T20:08:49.329339Z",
     "shell.execute_reply": "2021-09-28T20:08:49.328794Z"
    },
    "papermill": {
     "duration": 0.338949,
     "end_time": "2021-09-28T20:08:49.329474",
     "exception": false,
     "start_time": "2021-09-28T20:08:48.990525",
     "status": "completed"
    },
    "tags": []
   },
   "outputs": [
    {
     "data": {
      "image/png": "[encoded data removed]",
      "text/plain": [
       "<Figure size 720x648 with 1 Axes>"
      ]
     },
     "metadata": {
      "needs_background": "light"
     },
     "output_type": "display_data"
    }
   ],
   "source": [
    "plt.figure(figsize=(10,9))\n",
    "plt.scatter(testing_plot[:,0], testing_plot[:,1], alpha = 0.1, c = y_test.ravel())\n",
    "contours = plt.contour(x_grid,y_grid,prob_contour)\n",
    "plt.title('Probability Contours')\n",
    "plt.clabel(contours, inline = True );"
   ]
  },
  {
   "cell_type": "code",
   "execution_count": null,
   "id": "e81b4ac7",
   "metadata": {
    "papermill": {
     "duration": 0.055125,
     "end_time": "2021-09-28T20:08:49.441608",
     "exception": false,
     "start_time": "2021-09-28T20:08:49.386483",
     "status": "completed"
    },
    "tags": []
   },
   "outputs": [],
   "source": []
  }
 ],
 "metadata": {
  "kernelspec": {
   "display_name": "Python 3",
   "language": "python",
   "name": "python3"
  },
  "language_info": {
   "codemirror_mode": {
    "name": "ipython",
    "version": 3
   },
   "file_extension": ".py",
   "mimetype": "text/x-python",
   "name": "python",
   "nbconvert_exporter": "python",
   "pygments_lexer": "ipython3",
   "version": "3.6.15"
  },
  "papermill": {
   "default_parameters": {},
   "duration": 108.590471,
   "end_time": "2021-09-28T20:08:49.911760",
   "environment_variables": {},
   "exception": null,
   "input_path": "2020-08-11-part2.ipynb",
   "output_path": "2020-08-11-part2.ipynb",
   "parameters": {},
   "start_time": "2021-09-28T20:07:01.321289",
   "version": "2.3.3"
  }
 },
 "nbformat": 4,
 "nbformat_minor": 5
}