{
 "cells": [
  {
   "cell_type": "markdown",
   "id": "98380cd3",
   "metadata": {
    "papermill": {
     "duration": 0.030351,
     "end_time": "2021-08-20T20:06:57.454667",
     "exception": false,
     "start_time": "2021-08-20T20:06:57.424316",
     "status": "completed"
    },
    "tags": []
   },
   "source": [
    "# Distinguish Your Own Digits (DYOD)"
   ]
  },
  {
   "cell_type": "markdown",
   "id": "ef31240d",
   "metadata": {
    "papermill": {
     "duration": 0.021894,
     "end_time": "2021-08-20T20:06:57.499187",
     "exception": false,
     "start_time": "2021-08-20T20:06:57.477293",
     "status": "completed"
    },
    "tags": []
   },
   "source": [
    "You are going to write a classifier that distinguishes between the number 3 and number 8."
   ]
  },
  {
   "cell_type": "code",
   "execution_count": 1,
   "id": "b15c8646",
   "metadata": {
    "execution": {
     "iopub.execute_input": "2021-08-20T20:06:57.558678Z",
     "iopub.status.busy": "2021-08-20T20:06:57.557605Z",
     "iopub.status.idle": "2021-08-20T20:06:57.568024Z",
     "shell.execute_reply": "2021-08-20T20:06:57.567541Z"
    },
    "papermill": {
     "duration": 0.047452,
     "end_time": "2021-08-20T20:06:57.568149",
     "exception": false,
     "start_time": "2021-08-20T20:06:57.520697",
     "status": "completed"
    },
    "tags": []
   },
   "outputs": [],
   "source": [
    "%load_ext autoreload\n",
    "%autoreload 2"
   ]
  },
  {
   "cell_type": "code",
   "execution_count": 2,
   "id": "22ef38dc",
   "metadata": {
    "execution": {
     "iopub.execute_input": "2021-08-20T20:06:57.615297Z",
     "iopub.status.busy": "2021-08-20T20:06:57.614782Z",
     "iopub.status.idle": "2021-08-20T20:06:58.170084Z",
     "shell.execute_reply": "2021-08-20T20:06:58.169282Z"
    },
    "papermill": {
     "duration": 0.580443,
     "end_time": "2021-08-20T20:06:58.170209",
     "exception": false,
     "start_time": "2021-08-20T20:06:57.589766",
     "status": "completed"
    },
    "tags": []
   },
   "outputs": [],
   "source": [
    "%matplotlib inline\n",
    "import numpy as np\n",
    "import matplotlib.pyplot as plt\n",
    "import pandas as pd"
   ]
  },
  {
   "cell_type": "markdown",
   "id": "ba036198",
   "metadata": {
    "papermill": {
     "duration": 0.022739,
     "end_time": "2021-08-20T20:06:58.215346",
     "exception": false,
     "start_time": "2021-08-20T20:06:58.192607",
     "status": "completed"
    },
    "tags": []
   },
   "source": [
    "From the command line run `pip install mnist`. This is a library that will help you bring down the mnist dataset. If you run this from a notebook, you need to put  `!pip install mnist` in a cell by itself."
   ]
  },
  {
   "cell_type": "code",
   "execution_count": 3,
   "id": "bb6ad8a1",
   "metadata": {
    "execution": {
     "iopub.execute_input": "2021-08-20T20:06:58.266358Z",
     "iopub.status.busy": "2021-08-20T20:06:58.265750Z",
     "iopub.status.idle": "2021-08-20T20:07:00.008750Z",
     "shell.execute_reply": "2021-08-20T20:07:00.007412Z"
    },
    "papermill": {
     "duration": 1.771278,
     "end_time": "2021-08-20T20:07:00.008974",
     "exception": false,
     "start_time": "2021-08-20T20:06:58.237696",
     "status": "completed"
    },
    "tags": []
   },
   "outputs": [
    {
     "name": "stdout",
     "output_type": "stream",
     "text": [
      "Collecting mnist\r\n"
     ]
    },
    {
     "name": "stdout",
     "output_type": "stream",
     "text": [
      "  Downloading mnist-0.2.2-py2.py3-none-any.whl (3.5 kB)\r\n",
      "Requirement already satisfied: numpy in /opt/hostedtoolcache/Python/3.6.14/x64/lib/python3.6/site-packages (from mnist) (1.19.5)\r\n"
     ]
    },
    {
     "name": "stdout",
     "output_type": "stream",
     "text": [
      "Installing collected packages: mnist\r\n"
     ]
    },
    {
     "name": "stdout",
     "output_type": "stream",
     "text": [
      "Successfully installed mnist-0.2.2\r\n"
     ]
    }
   ],
   "source": [
    "!pip install mnist"
   ]
  },
  {
   "cell_type": "markdown",
   "id": "69df9c9a",
   "metadata": {
    "papermill": {
     "duration": 0.025721,
     "end_time": "2021-08-20T20:07:00.060482",
     "exception": false,
     "start_time": "2021-08-20T20:07:00.034761",
     "status": "completed"
    },
    "tags": []
   },
   "source": [
    "## Preparing the Data"
   ]
  },
  {
   "cell_type": "code",
   "execution_count": 4,
   "id": "7f69d806",
   "metadata": {
    "execution": {
     "iopub.execute_input": "2021-08-20T20:07:00.110042Z",
     "iopub.status.busy": "2021-08-20T20:07:00.109489Z",
     "iopub.status.idle": "2021-08-20T20:07:00.125227Z",
     "shell.execute_reply": "2021-08-20T20:07:00.125720Z"
    },
    "papermill": {
     "duration": 0.042708,
     "end_time": "2021-08-20T20:07:00.125860",
     "exception": false,
     "start_time": "2021-08-20T20:07:00.083152",
     "status": "completed"
    },
    "tags": []
   },
   "outputs": [],
   "source": [
    "import mnist"
   ]
  },
  {
   "cell_type": "code",
   "execution_count": 5,
   "id": "a411e44f",
   "metadata": {
    "execution": {
     "iopub.execute_input": "2021-08-20T20:07:00.180229Z",
     "iopub.status.busy": "2021-08-20T20:07:00.177128Z",
     "iopub.status.idle": "2021-08-20T20:09:15.921478Z",
     "shell.execute_reply": "2021-08-20T20:09:15.920584Z"
    },
    "papermill": {
     "duration": 135.772559,
     "end_time": "2021-08-20T20:09:15.921703",
     "exception": false,
     "start_time": "2021-08-20T20:07:00.149144",
     "status": "completed"
    },
    "tags": []
   },
   "outputs": [],
   "source": [
    "train_images = mnist.train_images()\n",
    "train_labels = mnist.train_labels()"
   ]
  },
  {
   "cell_type": "code",
   "execution_count": 6,
   "id": "dceab3a5",
   "metadata": {
    "execution": {
     "iopub.execute_input": "2021-08-20T20:09:15.975910Z",
     "iopub.status.busy": "2021-08-20T20:09:15.975271Z",
     "iopub.status.idle": "2021-08-20T20:09:15.991299Z",
     "shell.execute_reply": "2021-08-20T20:09:15.990780Z"
    },
    "papermill": {
     "duration": 0.044199,
     "end_time": "2021-08-20T20:09:15.991443",
     "exception": false,
     "start_time": "2021-08-20T20:09:15.947244",
     "status": "completed"
    },
    "tags": []
   },
   "outputs": [
    {
     "data": {
      "text/plain": [
       "((60000, 28, 28), (60000,))"
      ]
     },
     "execution_count": 6,
     "metadata": {},
     "output_type": "execute_result"
    }
   ],
   "source": [
    "train_images.shape, train_labels.shape"
   ]
  },
  {
   "cell_type": "code",
   "execution_count": 7,
   "id": "f50dc2bb",
   "metadata": {
    "execution": {
     "iopub.execute_input": "2021-08-20T20:09:16.043002Z",
     "iopub.status.busy": "2021-08-20T20:09:16.042380Z",
     "iopub.status.idle": "2021-08-20T20:09:47.423434Z",
     "shell.execute_reply": "2021-08-20T20:09:47.422493Z"
    },
    "papermill": {
     "duration": 31.407723,
     "end_time": "2021-08-20T20:09:47.423593",
     "exception": false,
     "start_time": "2021-08-20T20:09:16.015870",
     "status": "completed"
    },
    "tags": []
   },
   "outputs": [],
   "source": [
    "test_images = mnist.test_images()\n",
    "test_labels = mnist.test_labels()"
   ]
  },
  {
   "cell_type": "code",
   "execution_count": 8,
   "id": "fc38cf1b",
   "metadata": {
    "execution": {
     "iopub.execute_input": "2021-08-20T20:09:47.482726Z",
     "iopub.status.busy": "2021-08-20T20:09:47.482162Z",
     "iopub.status.idle": "2021-08-20T20:09:47.496859Z",
     "shell.execute_reply": "2021-08-20T20:09:47.496387Z"
    },
    "papermill": {
     "duration": 0.044894,
     "end_time": "2021-08-20T20:09:47.496973",
     "exception": false,
     "start_time": "2021-08-20T20:09:47.452079",
     "status": "completed"
    },
    "tags": []
   },
   "outputs": [
    {
     "data": {
      "text/plain": [
       "((10000, 28, 28), (10000,))"
      ]
     },
     "execution_count": 8,
     "metadata": {},
     "output_type": "execute_result"
    }
   ],
   "source": [
    "test_images.shape, test_labels.shape"
   ]
  },
  {
   "cell_type": "code",
   "execution_count": 9,
   "id": "f9ed8fe0",
   "metadata": {
    "execution": {
     "iopub.execute_input": "2021-08-20T20:09:47.555988Z",
     "iopub.status.busy": "2021-08-20T20:09:47.555340Z",
     "iopub.status.idle": "2021-08-20T20:09:47.706939Z",
     "shell.execute_reply": "2021-08-20T20:09:47.706398Z"
    },
    "papermill": {
     "duration": 0.183878,
     "end_time": "2021-08-20T20:09:47.707069",
     "exception": false,
     "start_time": "2021-08-20T20:09:47.523191",
     "status": "completed"
    },
    "tags": []
   },
   "outputs": [
    {
     "name": "stdout",
     "output_type": "stream",
     "text": [
      "2\n"
     ]
    },
    {
     "data": {
      "text/plain": [
       "<matplotlib.image.AxesImage at 0x7f3b5ea24908>"
      ]
     },
     "execution_count": 9,
     "metadata": {},
     "output_type": "execute_result"
    },
    {
     "data": {
      "image/png": "[encoded data removed]",
      "text/plain": [
       "<Figure size 432x288 with 1 Axes>"
      ]
     },
     "metadata": {
      "needs_background": "light"
     },
     "output_type": "display_data"
    }
   ],
   "source": [
    "image_index = 7776 # You may select anything up to 60,000\n",
    "print(train_labels[image_index]) \n",
    "plt.imshow(train_images[image_index], cmap='Greys')"
   ]
  },
  {
   "cell_type": "markdown",
   "id": "a8d2388d",
   "metadata": {
    "papermill": {
     "duration": 0.027948,
     "end_time": "2021-08-20T20:09:47.761367",
     "exception": false,
     "start_time": "2021-08-20T20:09:47.733419",
     "status": "completed"
    },
    "tags": []
   },
   "source": [
    "## Filter data to get 3 and 8 out"
   ]
  },
  {
   "cell_type": "code",
   "execution_count": 10,
   "id": "776f7fc7",
   "metadata": {
    "execution": {
     "iopub.execute_input": "2021-08-20T20:09:47.816635Z",
     "iopub.status.busy": "2021-08-20T20:09:47.816061Z",
     "iopub.status.idle": "2021-08-20T20:09:47.835301Z",
     "shell.execute_reply": "2021-08-20T20:09:47.834804Z"
    },
    "papermill": {
     "duration": 0.048415,
     "end_time": "2021-08-20T20:09:47.835455",
     "exception": false,
     "start_time": "2021-08-20T20:09:47.787040",
     "status": "completed"
    },
    "tags": []
   },
   "outputs": [],
   "source": [
    "train_filter = np.where((train_labels == 3 ) | (train_labels == 8))\n",
    "test_filter = np.where((test_labels == 3) | (test_labels == 8))\n",
    "X_train, y_train = train_images[train_filter], train_labels[train_filter]\n",
    "X_test, y_test = test_images[test_filter], test_labels[test_filter]"
   ]
  },
  {
   "cell_type": "markdown",
   "id": "948f0b7e",
   "metadata": {
    "papermill": {
     "duration": 0.027337,
     "end_time": "2021-08-20T20:09:47.888952",
     "exception": false,
     "start_time": "2021-08-20T20:09:47.861615",
     "status": "completed"
    },
    "tags": []
   },
   "source": [
    "We normalize the pizel values in the 0 to 1 range"
   ]
  },
  {
   "cell_type": "code",
   "execution_count": 11,
   "id": "ee4c2166",
   "metadata": {
    "execution": {
     "iopub.execute_input": "2021-08-20T20:09:47.949874Z",
     "iopub.status.busy": "2021-08-20T20:09:47.949204Z",
     "iopub.status.idle": "2021-08-20T20:09:48.001746Z",
     "shell.execute_reply": "2021-08-20T20:09:48.000809Z"
    },
    "papermill": {
     "duration": 0.085968,
     "end_time": "2021-08-20T20:09:48.001963",
     "exception": false,
     "start_time": "2021-08-20T20:09:47.915995",
     "status": "completed"
    },
    "tags": []
   },
   "outputs": [],
   "source": [
    "X_train = X_train/255.\n",
    "X_test = X_test/255."
   ]
  },
  {
   "cell_type": "markdown",
   "id": "ddcf4fab",
   "metadata": {
    "papermill": {
     "duration": 0.025468,
     "end_time": "2021-08-20T20:09:48.053684",
     "exception": false,
     "start_time": "2021-08-20T20:09:48.028216",
     "status": "completed"
    },
    "tags": []
   },
   "source": [
    "And setup the labels as 1 (when the digit is 3) and 0 (when the digit is 8)"
   ]
  },
  {
   "cell_type": "code",
   "execution_count": 12,
   "id": "7dc908f2",
   "metadata": {
    "execution": {
     "iopub.execute_input": "2021-08-20T20:09:48.115645Z",
     "iopub.status.busy": "2021-08-20T20:09:48.115002Z",
     "iopub.status.idle": "2021-08-20T20:09:48.127855Z",
     "shell.execute_reply": "2021-08-20T20:09:48.127371Z"
    },
    "papermill": {
     "duration": 0.048123,
     "end_time": "2021-08-20T20:09:48.127975",
     "exception": false,
     "start_time": "2021-08-20T20:09:48.079852",
     "status": "completed"
    },
    "tags": []
   },
   "outputs": [],
   "source": [
    "y_train = 1*(y_train==3)\n",
    "y_test = 1*(y_test==3)"
   ]
  },
  {
   "cell_type": "code",
   "execution_count": 13,
   "id": "01e4e969",
   "metadata": {
    "execution": {
     "iopub.execute_input": "2021-08-20T20:09:48.187020Z",
     "iopub.status.busy": "2021-08-20T20:09:48.186425Z",
     "iopub.status.idle": "2021-08-20T20:09:48.200166Z",
     "shell.execute_reply": "2021-08-20T20:09:48.199684Z"
    },
    "papermill": {
     "duration": 0.044741,
     "end_time": "2021-08-20T20:09:48.200293",
     "exception": false,
     "start_time": "2021-08-20T20:09:48.155552",
     "status": "completed"
    },
    "tags": []
   },
   "outputs": [
    {
     "data": {
      "text/plain": [
       "((11982, 28, 28), (1984, 28, 28))"
      ]
     },
     "execution_count": 13,
     "metadata": {},
     "output_type": "execute_result"
    }
   ],
   "source": [
    "X_train.shape, X_test.shape"
   ]
  },
  {
   "cell_type": "markdown",
   "id": "5ccf3f85",
   "metadata": {
    "papermill": {
     "duration": 0.027339,
     "end_time": "2021-08-20T20:09:48.255441",
     "exception": false,
     "start_time": "2021-08-20T20:09:48.228102",
     "status": "completed"
    },
    "tags": []
   },
   "source": [
    "We reshape the data to flatten the image pixels into a set of features or co-variates:"
   ]
  },
  {
   "cell_type": "code",
   "execution_count": 14,
   "id": "5286a4a3",
   "metadata": {
    "execution": {
     "iopub.execute_input": "2021-08-20T20:09:48.318031Z",
     "iopub.status.busy": "2021-08-20T20:09:48.317430Z",
     "iopub.status.idle": "2021-08-20T20:09:48.335134Z",
     "shell.execute_reply": "2021-08-20T20:09:48.334623Z"
    },
    "papermill": {
     "duration": 0.051555,
     "end_time": "2021-08-20T20:09:48.335258",
     "exception": false,
     "start_time": "2021-08-20T20:09:48.283703",
     "status": "completed"
    },
    "tags": []
   },
   "outputs": [
    {
     "data": {
      "text/plain": [
       "((11982, 784), (1984, 784))"
      ]
     },
     "execution_count": 14,
     "metadata": {},
     "output_type": "execute_result"
    }
   ],
   "source": [
    "X_train = X_train.reshape(X_train.shape[0], -1)\n",
    "X_test = X_test.reshape(X_test.shape[0], -1)\n",
    "X_train.shape, X_test.shape"
   ]
  },
  {
   "cell_type": "code",
   "execution_count": 15,
   "id": "73c5f88a",
   "metadata": {
    "execution": {
     "iopub.execute_input": "2021-08-20T20:09:48.397504Z",
     "iopub.status.busy": "2021-08-20T20:09:48.396905Z",
     "iopub.status.idle": "2021-08-20T20:09:48.417262Z",
     "shell.execute_reply": "2021-08-20T20:09:48.416780Z"
    },
    "papermill": {
     "duration": 0.055145,
     "end_time": "2021-08-20T20:09:48.417388",
     "exception": false,
     "start_time": "2021-08-20T20:09:48.362243",
     "status": "completed"
    },
    "tags": []
   },
   "outputs": [],
   "source": [
    "#Impoting functions from 'Kudzu'\n",
    "from kudzu.model import Model\n",
    "from kudzu.train import Learner\n",
    "from kudzu.optim import GD\n",
    "from kudzu.data import Data, Sampler,Dataloader\n",
    "\n",
    "from kudzu.callbacks import AccCallback\n",
    "from kudzu.callbacks import ClfCallback\n",
    "\n",
    "from kudzu.loss import MSE\n",
    "\n",
    "from kudzu.layer import Sigmoid,Relu\n",
    "from kudzu.layer import Affine"
   ]
  },
  {
   "cell_type": "markdown",
   "id": "bc01172a",
   "metadata": {
    "papermill": {
     "duration": 0.027187,
     "end_time": "2021-08-20T20:09:48.473114",
     "exception": false,
     "start_time": "2021-08-20T20:09:48.445927",
     "status": "completed"
    },
    "tags": []
   },
   "source": [
    "### Let us create a `Config` class, to store important parameters. \n",
    "This class essentially plays the role of a dictionary."
   ]
  },
  {
   "cell_type": "code",
   "execution_count": 16,
   "id": "978281aa",
   "metadata": {
    "execution": {
     "iopub.execute_input": "2021-08-20T20:09:48.533444Z",
     "iopub.status.busy": "2021-08-20T20:09:48.532855Z",
     "iopub.status.idle": "2021-08-20T20:09:48.544614Z",
     "shell.execute_reply": "2021-08-20T20:09:48.544144Z"
    },
    "papermill": {
     "duration": 0.044912,
     "end_time": "2021-08-20T20:09:48.544727",
     "exception": false,
     "start_time": "2021-08-20T20:09:48.499815",
     "status": "completed"
    },
    "tags": []
   },
   "outputs": [],
   "source": [
    "class Config:\n",
    "    pass\n",
    "config = Config()\n",
    "config.lr = 0.001\n",
    "config.num_epochs = 250\n",
    "config.bs = 50"
   ]
  },
  {
   "cell_type": "markdown",
   "id": "1385fa59",
   "metadata": {
    "papermill": {
     "duration": 0.0251,
     "end_time": "2021-08-20T20:09:48.596014",
     "exception": false,
     "start_time": "2021-08-20T20:09:48.570914",
     "status": "completed"
    },
    "tags": []
   },
   "source": [
    "### Running Models with the Training data\n",
    "Details about the network layers:\n",
    "- A first affine layer has 784 inputs and does 100 affine transforms. These are followed by a Relu\n",
    "- A second affine layer has 100 inputs from the 100 activations of the past layer, and does 100 affine transforms. These are followed by a Relu\n",
    "- A third affine layer has 100 activations and does 2 affine transformations to create an embedding for visualization. There is no non-linearity here.\n",
    "- A final \"logistic regression\" which has an affine transform from 2 inputs to 1 output, which is squeezed through a sigmoid.\n"
   ]
  },
  {
   "cell_type": "code",
   "execution_count": 17,
   "id": "2b9c66db",
   "metadata": {
    "execution": {
     "iopub.execute_input": "2021-08-20T20:09:48.654568Z",
     "iopub.status.busy": "2021-08-20T20:09:48.654010Z",
     "iopub.status.idle": "2021-08-20T20:09:48.667033Z",
     "shell.execute_reply": "2021-08-20T20:09:48.666549Z"
    },
    "papermill": {
     "duration": 0.044354,
     "end_time": "2021-08-20T20:09:48.667157",
     "exception": false,
     "start_time": "2021-08-20T20:09:48.622803",
     "status": "completed"
    },
    "tags": []
   },
   "outputs": [],
   "source": [
    "data = Data(X_train, y_train.reshape(-1,1))\n",
    "sampler = Sampler(data, config.bs, shuffle=True)\n",
    "\n",
    "dl = Dataloader(data, sampler)\n",
    "\n",
    "opt = GD(config.lr)\n",
    "loss = MSE()"
   ]
  },
  {
   "cell_type": "code",
   "execution_count": 18,
   "id": "b275e4c2",
   "metadata": {
    "execution": {
     "iopub.execute_input": "2021-08-20T20:09:48.725859Z",
     "iopub.status.busy": "2021-08-20T20:09:48.725244Z",
     "iopub.status.idle": "2021-08-20T20:09:48.736613Z",
     "shell.execute_reply": "2021-08-20T20:09:48.737089Z"
    },
    "papermill": {
     "duration": 0.042368,
     "end_time": "2021-08-20T20:09:48.737215",
     "exception": false,
     "start_time": "2021-08-20T20:09:48.694847",
     "status": "completed"
    },
    "tags": []
   },
   "outputs": [],
   "source": [
    "training_data_x = X_train\n",
    "testing_data_x = X_test\n",
    "training_data_y = y_train.reshape(-1,1)\n",
    "testing_data_y = y_test.reshape(-1,1)"
   ]
  },
  {
   "cell_type": "code",
   "execution_count": 19,
   "id": "76951160",
   "metadata": {
    "execution": {
     "iopub.execute_input": "2021-08-20T20:09:48.795558Z",
     "iopub.status.busy": "2021-08-20T20:09:48.794923Z",
     "iopub.status.idle": "2021-08-20T20:09:48.811385Z",
     "shell.execute_reply": "2021-08-20T20:09:48.810901Z"
    },
    "papermill": {
     "duration": 0.047412,
     "end_time": "2021-08-20T20:09:48.811498",
     "exception": false,
     "start_time": "2021-08-20T20:09:48.764086",
     "status": "completed"
    },
    "tags": []
   },
   "outputs": [
    {
     "name": "stdout",
     "output_type": "stream",
     "text": [
      "xavier\n",
      "xavier\n",
      "xavier\n",
      "xavier\n",
      "xavier\n"
     ]
    }
   ],
   "source": [
    "layers = [Affine(\"first\", 784, 100), Relu(\"first\"), Affine(\"second\", 100, 100), Relu(\"second\"), Affine(\"third\", 100, 2), Affine(\"last\", 2, 1), Sigmoid(\"last\")]\n",
    "model_nn = Model(layers)\n",
    "model_lr = Model([Affine(\"logits\", 784, 1), Sigmoid(\"sigmoid\")])"
   ]
  },
  {
   "cell_type": "code",
   "execution_count": 20,
   "id": "6eede77a",
   "metadata": {
    "execution": {
     "iopub.execute_input": "2021-08-20T20:09:48.872062Z",
     "iopub.status.busy": "2021-08-20T20:09:48.871482Z",
     "iopub.status.idle": "2021-08-20T20:09:48.884607Z",
     "shell.execute_reply": "2021-08-20T20:09:48.884019Z"
    },
    "papermill": {
     "duration": 0.045557,
     "end_time": "2021-08-20T20:09:48.884721",
     "exception": false,
     "start_time": "2021-08-20T20:09:48.839164",
     "status": "completed"
    },
    "tags": []
   },
   "outputs": [],
   "source": [
    "nn_learner = Learner(loss, model_nn, opt, config.num_epochs)\n",
    "acc_nn = ClfCallback(nn_learner, config.bs, training_data_x , testing_data_x, training_data_y, testing_data_y)\n",
    "nn_learner.set_callbacks([acc_nn])"
   ]
  },
  {
   "cell_type": "code",
   "execution_count": 21,
   "id": "877b6cc7",
   "metadata": {
    "execution": {
     "iopub.execute_input": "2021-08-20T20:09:48.943439Z",
     "iopub.status.busy": "2021-08-20T20:09:48.942809Z",
     "iopub.status.idle": "2021-08-20T20:09:48.955450Z",
     "shell.execute_reply": "2021-08-20T20:09:48.954974Z"
    },
    "papermill": {
     "duration": 0.043393,
     "end_time": "2021-08-20T20:09:48.955561",
     "exception": false,
     "start_time": "2021-08-20T20:09:48.912168",
     "status": "completed"
    },
    "tags": []
   },
   "outputs": [],
   "source": [
    "lr_learner = Learner(loss, model_lr, opt, config.num_epochs)\n",
    "acc_lr = ClfCallback(lr_learner, config.bs, training_data_x , testing_data_x, training_data_y, testing_data_y)\n",
    "lr_learner.set_callbacks([acc_lr])"
   ]
  },
  {
   "cell_type": "code",
   "execution_count": 22,
   "id": "d9b133c3",
   "metadata": {
    "execution": {
     "iopub.execute_input": "2021-08-20T20:09:49.018474Z",
     "iopub.status.busy": "2021-08-20T20:09:49.017874Z",
     "iopub.status.idle": "2021-08-20T20:11:11.017684Z",
     "shell.execute_reply": "2021-08-20T20:11:11.018501Z"
    },
    "papermill": {
     "duration": 82.035442,
     "end_time": "2021-08-20T20:11:11.018660",
     "exception": false,
     "start_time": "2021-08-20T20:09:48.983218",
     "status": "completed"
    },
    "tags": []
   },
   "outputs": [
    {
     "name": "stdout",
     "output_type": "stream",
     "text": [
      "Epoch 0, Loss 0.2443\n",
      "Training Accuracy: 0.7144, Testing Accuracy: 0.7349\n",
      "\n"
     ]
    },
    {
     "name": "stdout",
     "output_type": "stream",
     "text": [
      "Epoch 10, Loss 0.0689\n",
      "Training Accuracy: 0.9298, Testing Accuracy: 0.9456\n",
      "\n"
     ]
    },
    {
     "name": "stdout",
     "output_type": "stream",
     "text": [
      "Epoch 20, Loss 0.0469\n",
      "Training Accuracy: 0.9484, Testing Accuracy: 0.9582\n",
      "\n"
     ]
    },
    {
     "name": "stdout",
     "output_type": "stream",
     "text": [
      "Epoch 30, Loss 0.0389\n",
      "Training Accuracy: 0.9564, Testing Accuracy: 0.9637\n",
      "\n"
     ]
    },
    {
     "name": "stdout",
     "output_type": "stream",
     "text": [
      "Epoch 40, Loss 0.0346\n",
      "Training Accuracy: 0.9605, Testing Accuracy: 0.9688\n",
      "\n"
     ]
    },
    {
     "name": "stdout",
     "output_type": "stream",
     "text": [
      "Epoch 50, Loss 0.0318\n",
      "Training Accuracy: 0.9635, Testing Accuracy: 0.9723\n",
      "\n"
     ]
    },
    {
     "name": "stdout",
     "output_type": "stream",
     "text": [
      "Epoch 60, Loss 0.0298\n",
      "Training Accuracy: 0.9655, Testing Accuracy: 0.9718\n",
      "\n"
     ]
    },
    {
     "name": "stdout",
     "output_type": "stream",
     "text": [
      "Epoch 70, Loss 0.0282\n",
      "Training Accuracy: 0.9674, Testing Accuracy: 0.9713\n",
      "\n"
     ]
    },
    {
     "name": "stdout",
     "output_type": "stream",
     "text": [
      "Epoch 80, Loss 0.027\n",
      "Training Accuracy: 0.9690, Testing Accuracy: 0.9728\n",
      "\n"
     ]
    },
    {
     "name": "stdout",
     "output_type": "stream",
     "text": [
      "Epoch 90, Loss 0.0259\n",
      "Training Accuracy: 0.9700, Testing Accuracy: 0.9728\n",
      "\n"
     ]
    },
    {
     "name": "stdout",
     "output_type": "stream",
     "text": [
      "Epoch 100, Loss 0.025\n",
      "Training Accuracy: 0.9712, Testing Accuracy: 0.9728\n",
      "\n"
     ]
    },
    {
     "name": "stdout",
     "output_type": "stream",
     "text": [
      "Epoch 110, Loss 0.0242\n",
      "Training Accuracy: 0.9725, Testing Accuracy: 0.9733\n",
      "\n"
     ]
    },
    {
     "name": "stdout",
     "output_type": "stream",
     "text": [
      "Epoch 120, Loss 0.0235\n",
      "Training Accuracy: 0.9735, Testing Accuracy: 0.9733\n",
      "\n"
     ]
    },
    {
     "name": "stdout",
     "output_type": "stream",
     "text": [
      "Epoch 130, Loss 0.0229\n",
      "Training Accuracy: 0.9737, Testing Accuracy: 0.9728\n",
      "\n"
     ]
    },
    {
     "name": "stdout",
     "output_type": "stream",
     "text": [
      "Epoch 140, Loss 0.0223\n",
      "Training Accuracy: 0.9750, Testing Accuracy: 0.9733\n",
      "\n"
     ]
    },
    {
     "name": "stdout",
     "output_type": "stream",
     "text": [
      "Epoch 150, Loss 0.0217\n",
      "Training Accuracy: 0.9762, Testing Accuracy: 0.9723\n",
      "\n"
     ]
    },
    {
     "name": "stdout",
     "output_type": "stream",
     "text": [
      "Epoch 160, Loss 0.0212\n",
      "Training Accuracy: 0.9762, Testing Accuracy: 0.9728\n",
      "\n"
     ]
    },
    {
     "name": "stdout",
     "output_type": "stream",
     "text": [
      "Epoch 170, Loss 0.0207\n",
      "Training Accuracy: 0.9767, Testing Accuracy: 0.9723\n",
      "\n"
     ]
    },
    {
     "name": "stdout",
     "output_type": "stream",
     "text": [
      "Epoch 180, Loss 0.0202\n",
      "Training Accuracy: 0.9775, Testing Accuracy: 0.9723\n",
      "\n"
     ]
    },
    {
     "name": "stdout",
     "output_type": "stream",
     "text": [
      "Epoch 190, Loss 0.0197\n",
      "Training Accuracy: 0.9779, Testing Accuracy: 0.9723\n",
      "\n"
     ]
    },
    {
     "name": "stdout",
     "output_type": "stream",
     "text": [
      "Epoch 200, Loss 0.0193\n",
      "Training Accuracy: 0.9782, Testing Accuracy: 0.9733\n",
      "\n"
     ]
    },
    {
     "name": "stdout",
     "output_type": "stream",
     "text": [
      "Epoch 210, Loss 0.0189\n",
      "Training Accuracy: 0.9786, Testing Accuracy: 0.9728\n",
      "\n"
     ]
    },
    {
     "name": "stdout",
     "output_type": "stream",
     "text": [
      "Epoch 220, Loss 0.0185\n",
      "Training Accuracy: 0.9791, Testing Accuracy: 0.9733\n",
      "\n"
     ]
    },
    {
     "name": "stdout",
     "output_type": "stream",
     "text": [
      "Epoch 230, Loss 0.018\n",
      "Training Accuracy: 0.9800, Testing Accuracy: 0.9733\n",
      "\n"
     ]
    },
    {
     "name": "stdout",
     "output_type": "stream",
     "text": [
      "Epoch 240, Loss 0.0177\n",
      "Training Accuracy: 0.9809, Testing Accuracy: 0.9733\n",
      "\n"
     ]
    },
    {
     "data": {
      "text/plain": [
       "0.006421620420981208"
      ]
     },
     "execution_count": 22,
     "metadata": {},
     "output_type": "execute_result"
    }
   ],
   "source": [
    "nn_learner.train_loop(dl)"
   ]
  },
  {
   "cell_type": "code",
   "execution_count": 23,
   "id": "e0163366",
   "metadata": {
    "execution": {
     "iopub.execute_input": "2021-08-20T20:11:11.107253Z",
     "iopub.status.busy": "2021-08-20T20:11:11.106698Z",
     "iopub.status.idle": "2021-08-20T20:11:25.424865Z",
     "shell.execute_reply": "2021-08-20T20:11:25.425653Z"
    },
    "papermill": {
     "duration": 14.369306,
     "end_time": "2021-08-20T20:11:25.425804",
     "exception": false,
     "start_time": "2021-08-20T20:11:11.056498",
     "status": "completed"
    },
    "tags": []
   },
   "outputs": [
    {
     "name": "stdout",
     "output_type": "stream",
     "text": [
      "Epoch 0, Loss 0.2436\n",
      "Training Accuracy: 0.7020, Testing Accuracy: 0.6996\n",
      "\n"
     ]
    },
    {
     "name": "stdout",
     "output_type": "stream",
     "text": [
      "Epoch 10, Loss 0.1028\n",
      "Training Accuracy: 0.9106, Testing Accuracy: 0.9229\n",
      "\n"
     ]
    },
    {
     "name": "stdout",
     "output_type": "stream",
     "text": [
      "Epoch 20, Loss 0.0791\n",
      "Training Accuracy: 0.9276, Testing Accuracy: 0.9390\n",
      "\n"
     ]
    },
    {
     "name": "stdout",
     "output_type": "stream",
     "text": [
      "Epoch 30, Loss 0.0682\n",
      "Training Accuracy: 0.9361, Testing Accuracy: 0.9481\n",
      "\n"
     ]
    },
    {
     "name": "stdout",
     "output_type": "stream",
     "text": [
      "Epoch 40, Loss 0.0617\n",
      "Training Accuracy: 0.9419, Testing Accuracy: 0.9536\n",
      "\n"
     ]
    },
    {
     "name": "stdout",
     "output_type": "stream",
     "text": [
      "Epoch 50, Loss 0.0573\n",
      "Training Accuracy: 0.9449, Testing Accuracy: 0.9531\n",
      "\n"
     ]
    },
    {
     "name": "stdout",
     "output_type": "stream",
     "text": [
      "Epoch 60, Loss 0.054\n",
      "Training Accuracy: 0.9481, Testing Accuracy: 0.9561\n",
      "\n"
     ]
    },
    {
     "name": "stdout",
     "output_type": "stream",
     "text": [
      "Epoch 70, Loss 0.0515\n",
      "Training Accuracy: 0.9498, Testing Accuracy: 0.9607\n",
      "\n"
     ]
    },
    {
     "name": "stdout",
     "output_type": "stream",
     "text": [
      "Epoch 80, Loss 0.0495\n",
      "Training Accuracy: 0.9510, Testing Accuracy: 0.9627\n",
      "\n"
     ]
    },
    {
     "name": "stdout",
     "output_type": "stream",
     "text": [
      "Epoch 90, Loss 0.0478\n",
      "Training Accuracy: 0.9520, Testing Accuracy: 0.9637\n",
      "\n"
     ]
    },
    {
     "name": "stdout",
     "output_type": "stream",
     "text": [
      "Epoch 100, Loss 0.0464\n",
      "Training Accuracy: 0.9533, Testing Accuracy: 0.9652\n",
      "\n"
     ]
    },
    {
     "name": "stdout",
     "output_type": "stream",
     "text": [
      "Epoch 110, Loss 0.0451\n",
      "Training Accuracy: 0.9539, Testing Accuracy: 0.9662\n",
      "\n"
     ]
    },
    {
     "name": "stdout",
     "output_type": "stream",
     "text": [
      "Epoch 120, Loss 0.0441\n",
      "Training Accuracy: 0.9548, Testing Accuracy: 0.9662\n",
      "\n"
     ]
    },
    {
     "name": "stdout",
     "output_type": "stream",
     "text": [
      "Epoch 130, Loss 0.0431\n",
      "Training Accuracy: 0.9555, Testing Accuracy: 0.9662\n",
      "\n"
     ]
    },
    {
     "name": "stdout",
     "output_type": "stream",
     "text": [
      "Epoch 140, Loss 0.0423\n",
      "Training Accuracy: 0.9564, Testing Accuracy: 0.9667\n",
      "\n"
     ]
    },
    {
     "name": "stdout",
     "output_type": "stream",
     "text": [
      "Epoch 150, Loss 0.0415\n",
      "Training Accuracy: 0.9574, Testing Accuracy: 0.9672\n",
      "\n"
     ]
    },
    {
     "name": "stdout",
     "output_type": "stream",
     "text": [
      "Epoch 160, Loss 0.0409\n",
      "Training Accuracy: 0.9581, Testing Accuracy: 0.9677\n",
      "\n"
     ]
    },
    {
     "name": "stdout",
     "output_type": "stream",
     "text": [
      "Epoch 170, Loss 0.0402\n",
      "Training Accuracy: 0.9585, Testing Accuracy: 0.9677\n",
      "\n"
     ]
    },
    {
     "name": "stdout",
     "output_type": "stream",
     "text": [
      "Epoch 180, Loss 0.0397\n",
      "Training Accuracy: 0.9587, Testing Accuracy: 0.9677\n",
      "\n"
     ]
    },
    {
     "name": "stdout",
     "output_type": "stream",
     "text": [
      "Epoch 190, Loss 0.0392\n",
      "Training Accuracy: 0.9589, Testing Accuracy: 0.9677\n",
      "\n"
     ]
    },
    {
     "name": "stdout",
     "output_type": "stream",
     "text": [
      "Epoch 200, Loss 0.0387\n",
      "Training Accuracy: 0.9593, Testing Accuracy: 0.9677\n",
      "\n"
     ]
    },
    {
     "name": "stdout",
     "output_type": "stream",
     "text": [
      "Epoch 210, Loss 0.0382\n",
      "Training Accuracy: 0.9598, Testing Accuracy: 0.9677\n",
      "\n"
     ]
    },
    {
     "name": "stdout",
     "output_type": "stream",
     "text": [
      "Epoch 220, Loss 0.0378\n",
      "Training Accuracy: 0.9602, Testing Accuracy: 0.9677\n",
      "\n"
     ]
    },
    {
     "name": "stdout",
     "output_type": "stream",
     "text": [
      "Epoch 230, Loss 0.0374\n",
      "Training Accuracy: 0.9609, Testing Accuracy: 0.9677\n",
      "\n"
     ]
    },
    {
     "name": "stdout",
     "output_type": "stream",
     "text": [
      "Epoch 240, Loss 0.0371\n",
      "Training Accuracy: 0.9615, Testing Accuracy: 0.9677\n",
      "\n"
     ]
    },
    {
     "data": {
      "text/plain": [
       "0.04668312895435328"
      ]
     },
     "execution_count": 23,
     "metadata": {},
     "output_type": "execute_result"
    }
   ],
   "source": [
    "lr_learner.train_loop(dl)"
   ]
  },
  {
   "cell_type": "code",
   "execution_count": 24,
   "id": "ca410940",
   "metadata": {
    "execution": {
     "iopub.execute_input": "2021-08-20T20:11:25.521051Z",
     "iopub.status.busy": "2021-08-20T20:11:25.520463Z",
     "iopub.status.idle": "2021-08-20T20:11:25.761605Z",
     "shell.execute_reply": "2021-08-20T20:11:25.762238Z"
    },
    "papermill": {
     "duration": 0.293217,
     "end_time": "2021-08-20T20:11:25.762438",
     "exception": false,
     "start_time": "2021-08-20T20:11:25.469221",
     "status": "completed"
    },
    "tags": []
   },
   "outputs": [
    {
     "data": {
      "text/plain": [
       "<matplotlib.legend.Legend at 0x7f3b5e588a58>"
      ]
     },
     "execution_count": 24,
     "metadata": {},
     "output_type": "execute_result"
    },
    {
     "data": {
      "image/png": "[encoded data removed]",
      "text/plain": [
       "<Figure size 1080x720 with 1 Axes>"
      ]
     },
     "metadata": {
      "needs_background": "light"
     },
     "output_type": "display_data"
    }
   ],
   "source": [
    "#comparing the results of NN and LR\n",
    "plt.figure(figsize=(15,10))\n",
    "\n",
    "# Neural Network plots\n",
    "plt.plot(acc_nn.accuracies, 'r-', label = \"Training Accuracies - NN\")\n",
    "plt.plot(acc_nn.test_accuracies, 'g-', label = \"Testing Accuracies - NN\")\n",
    "\n",
    "# Logistic Regression plots\n",
    "plt.plot(acc_lr.accuracies, 'k-', label = \"Training Accuracies - LR\")\n",
    "plt.plot(acc_lr.test_accuracies, 'b-', label = \"Testing Accuracies - LR\")\n",
    "plt.legend()"
   ]
  },
  {
   "cell_type": "markdown",
   "id": "80dfb35c",
   "metadata": {
    "papermill": {
     "duration": 0.044009,
     "end_time": "2021-08-20T20:11:25.851983",
     "exception": false,
     "start_time": "2021-08-20T20:11:25.807974",
     "status": "completed"
    },
    "tags": []
   },
   "source": [
    "#### Plotting the outputs of this layer of the NN.\n"
   ]
  },
  {
   "cell_type": "code",
   "execution_count": 25,
   "id": "45eb2ff5",
   "metadata": {
    "execution": {
     "iopub.execute_input": "2021-08-20T20:11:25.944779Z",
     "iopub.status.busy": "2021-08-20T20:11:25.944219Z",
     "iopub.status.idle": "2021-08-20T20:11:25.964937Z",
     "shell.execute_reply": "2021-08-20T20:11:25.965406Z"
    },
    "papermill": {
     "duration": 0.071112,
     "end_time": "2021-08-20T20:11:25.965541",
     "exception": false,
     "start_time": "2021-08-20T20:11:25.894429",
     "status": "completed"
    },
    "tags": []
   },
   "outputs": [],
   "source": [
    "new_model = Model(layers[:-2])\n",
    "testing_plot = new_model(testing_data_x)"
   ]
  },
  {
   "cell_type": "code",
   "execution_count": 26,
   "id": "4c0a5485",
   "metadata": {
    "execution": {
     "iopub.execute_input": "2021-08-20T20:11:26.071695Z",
     "iopub.status.busy": "2021-08-20T20:11:26.070294Z",
     "iopub.status.idle": "2021-08-20T20:11:26.293317Z",
     "shell.execute_reply": "2021-08-20T20:11:26.292787Z"
    },
    "papermill": {
     "duration": 0.27365,
     "end_time": "2021-08-20T20:11:26.293443",
     "exception": false,
     "start_time": "2021-08-20T20:11:26.019793",
     "status": "completed"
    },
    "tags": []
   },
   "outputs": [
    {
     "data": {
      "text/plain": [
       "Text(0.5, 1.0, 'Outputs')"
      ]
     },
     "execution_count": 26,
     "metadata": {},
     "output_type": "execute_result"
    },
    {
     "data": {
      "image/png": "[encoded data removed]",
      "text/plain": [
       "<Figure size 576x504 with 1 Axes>"
      ]
     },
     "metadata": {
      "needs_background": "light"
     },
     "output_type": "display_data"
    }
   ],
   "source": [
    "# Plotting the scatter plot of points and color coding by class\n",
    "plt.figure(figsize=(8,7))\n",
    "plt.scatter(testing_plot[:,0], testing_plot[:,1], alpha = 0.1, c = y_test.ravel());\n",
    "plt.title('Outputs')"
   ]
  },
  {
   "cell_type": "markdown",
   "id": "a74fcf8f",
   "metadata": {
    "papermill": {
     "duration": 0.04546,
     "end_time": "2021-08-20T20:11:26.385455",
     "exception": false,
     "start_time": "2021-08-20T20:11:26.339995",
     "status": "completed"
    },
    "tags": []
   },
   "source": [
    "Probability contours"
   ]
  },
  {
   "cell_type": "code",
   "execution_count": 27,
   "id": "d0afc8e3",
   "metadata": {
    "execution": {
     "iopub.execute_input": "2021-08-20T20:11:26.486173Z",
     "iopub.status.busy": "2021-08-20T20:11:26.485568Z",
     "iopub.status.idle": "2021-08-20T20:11:26.497319Z",
     "shell.execute_reply": "2021-08-20T20:11:26.497766Z"
    },
    "papermill": {
     "duration": 0.064204,
     "end_time": "2021-08-20T20:11:26.497902",
     "exception": false,
     "start_time": "2021-08-20T20:11:26.433698",
     "status": "completed"
    },
    "tags": []
   },
   "outputs": [],
   "source": [
    "model_prob = Model(layers[-2:]) "
   ]
  },
  {
   "cell_type": "code",
   "execution_count": 28,
   "id": "9b96e238",
   "metadata": {
    "execution": {
     "iopub.execute_input": "2021-08-20T20:11:26.596685Z",
     "iopub.status.busy": "2021-08-20T20:11:26.596095Z",
     "iopub.status.idle": "2021-08-20T20:11:26.610843Z",
     "shell.execute_reply": "2021-08-20T20:11:26.611261Z"
    },
    "papermill": {
     "duration": 0.067455,
     "end_time": "2021-08-20T20:11:26.611421",
     "exception": false,
     "start_time": "2021-08-20T20:11:26.543966",
     "status": "completed"
    },
    "tags": []
   },
   "outputs": [],
   "source": [
    "#creating the x and y ranges according to the above generated plot.\n",
    "x_range = np.linspace(-4, 1, 100) \n",
    "y_range = np.linspace(-6, 6, 100) \n",
    "x_grid, y_grid = np.meshgrid(x_range, y_range) # x_grid and y_grig are of size 100 X 100\n",
    "\n",
    "# converting x_grid and y_grid to continuous arrays\n",
    "x_gridflat = np.ravel(x_grid)\n",
    "y_gridflat = np.ravel(y_grid)\n",
    "\n",
    "# The last layer of the current model takes two columns as input. Hence transpose of np.vstack() is required.\n",
    "X = np.vstack((x_gridflat, y_gridflat)).T\n",
    "\n",
    "prob_contour = model_prob(X).reshape(100,100) "
   ]
  },
  {
   "cell_type": "code",
   "execution_count": 29,
   "id": "da72499a",
   "metadata": {
    "execution": {
     "iopub.execute_input": "2021-08-20T20:11:26.724600Z",
     "iopub.status.busy": "2021-08-20T20:11:26.723985Z",
     "iopub.status.idle": "2021-08-20T20:11:26.995555Z",
     "shell.execute_reply": "2021-08-20T20:11:26.995031Z"
    },
    "papermill": {
     "duration": 0.331018,
     "end_time": "2021-08-20T20:11:26.995681",
     "exception": false,
     "start_time": "2021-08-20T20:11:26.664663",
     "status": "completed"
    },
    "tags": []
   },
   "outputs": [
    {
     "data": {
      "image/png": "[encoded data removed]",
      "text/plain": [
       "<Figure size 720x648 with 1 Axes>"
      ]
     },
     "metadata": {
      "needs_background": "light"
     },
     "output_type": "display_data"
    }
   ],
   "source": [
    "plt.figure(figsize=(10,9))\n",
    "plt.scatter(testing_plot[:,0], testing_plot[:,1], alpha = 0.1, c = y_test.ravel())\n",
    "contours = plt.contour(x_grid,y_grid,prob_contour)\n",
    "plt.title('Probability Contours')\n",
    "plt.clabel(contours, inline = True );"
   ]
  },
  {
   "cell_type": "code",
   "execution_count": null,
   "id": "e81b4ac7",
   "metadata": {
    "papermill": {
     "duration": 0.048057,
     "end_time": "2021-08-20T20:11:27.094152",
     "exception": false,
     "start_time": "2021-08-20T20:11:27.046095",
     "status": "completed"
    },
    "tags": []
   },
   "outputs": [],
   "source": []
  }
 ],
 "metadata": {
  "kernelspec": {
   "display_name": "Python 3",
   "language": "python",
   "name": "python3"
  },
  "language_info": {
   "codemirror_mode": {
    "name": "ipython",
    "version": 3
   },
   "file_extension": ".py",
   "mimetype": "text/x-python",
   "name": "python",
   "nbconvert_exporter": "python",
   "pygments_lexer": "ipython3",
   "version": "3.6.14"
  },
  "papermill": {
   "default_parameters": {},
   "duration": 271.18596,
   "end_time": "2021-08-20T20:11:27.552118",
   "environment_variables": {},
   "exception": null,
   "input_path": "2020-08-11-part2.ipynb",
   "output_path": "2020-08-11-part2.ipynb",
   "parameters": {},
   "start_time": "2021-08-20T20:06:56.366158",
   "version": "2.3.3"
  }
 },
 "nbformat": 4,
 "nbformat_minor": 5
}