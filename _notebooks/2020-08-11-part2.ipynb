{
 "cells": [
  {
   "cell_type": "markdown",
   "id": "98380cd3",
   "metadata": {
    "papermill": {
     "duration": 0.028052,
     "end_time": "2021-12-20T00:24:48.143705",
     "exception": false,
     "start_time": "2021-12-20T00:24:48.115653",
     "status": "completed"
    },
    "tags": []
   },
   "source": [
    "# Distinguish Your Own Digits (DYOD)"
   ]
  },
  {
   "cell_type": "markdown",
   "id": "ef31240d",
   "metadata": {
    "papermill": {
     "duration": 0.024165,
     "end_time": "2021-12-20T00:24:48.192753",
     "exception": false,
     "start_time": "2021-12-20T00:24:48.168588",
     "status": "completed"
    },
    "tags": []
   },
   "source": [
    "You are going to write a classifier that distinguishes between the number 3 and number 8."
   ]
  },
  {
   "cell_type": "code",
   "execution_count": 1,
   "id": "b15c8646",
   "metadata": {
    "execution": {
     "iopub.execute_input": "2021-12-20T00:24:48.253353Z",
     "iopub.status.busy": "2021-12-20T00:24:48.252791Z",
     "iopub.status.idle": "2021-12-20T00:24:48.263122Z",
     "shell.execute_reply": "2021-12-20T00:24:48.263520Z"
    },
    "papermill": {
     "duration": 0.046879,
     "end_time": "2021-12-20T00:24:48.263687",
     "exception": false,
     "start_time": "2021-12-20T00:24:48.216808",
     "status": "completed"
    },
    "tags": []
   },
   "outputs": [],
   "source": [
    "%load_ext autoreload\n",
    "%autoreload 2"
   ]
  },
  {
   "cell_type": "code",
   "execution_count": 2,
   "id": "22ef38dc",
   "metadata": {
    "execution": {
     "iopub.execute_input": "2021-12-20T00:24:48.316575Z",
     "iopub.status.busy": "2021-12-20T00:24:48.316048Z",
     "iopub.status.idle": "2021-12-20T00:24:48.920024Z",
     "shell.execute_reply": "2021-12-20T00:24:48.919500Z"
    },
    "papermill": {
     "duration": 0.632055,
     "end_time": "2021-12-20T00:24:48.920159",
     "exception": false,
     "start_time": "2021-12-20T00:24:48.288104",
     "status": "completed"
    },
    "tags": []
   },
   "outputs": [],
   "source": [
    "%matplotlib inline\n",
    "import numpy as np\n",
    "import matplotlib.pyplot as plt\n",
    "import pandas as pd"
   ]
  },
  {
   "cell_type": "markdown",
   "id": "ba036198",
   "metadata": {
    "papermill": {
     "duration": 0.024269,
     "end_time": "2021-12-20T00:24:48.968794",
     "exception": false,
     "start_time": "2021-12-20T00:24:48.944525",
     "status": "completed"
    },
    "tags": []
   },
   "source": [
    "From the command line run `pip install mnist`. This is a library that will help you bring down the mnist dataset. If you run this from a notebook, you need to put  `!pip install mnist` in a cell by itself."
   ]
  },
  {
   "cell_type": "code",
   "execution_count": 3,
   "id": "bb6ad8a1",
   "metadata": {
    "execution": {
     "iopub.execute_input": "2021-12-20T00:24:49.021831Z",
     "iopub.status.busy": "2021-12-20T00:24:49.021307Z",
     "iopub.status.idle": "2021-12-20T00:24:51.620628Z",
     "shell.execute_reply": "2021-12-20T00:24:51.620072Z"
    },
    "papermill": {
     "duration": 2.627655,
     "end_time": "2021-12-20T00:24:51.620763",
     "exception": false,
     "start_time": "2021-12-20T00:24:48.993108",
     "status": "completed"
    },
    "tags": []
   },
   "outputs": [
    {
     "name": "stdout",
     "output_type": "stream",
     "text": [
      "Collecting mnist\r\n"
     ]
    },
    {
     "name": "stdout",
     "output_type": "stream",
     "text": [
      "  Downloading mnist-0.2.2-py2.py3-none-any.whl (3.5 kB)\r\n",
      "Requirement already satisfied: numpy in /opt/hostedtoolcache/Python/3.6.15/x64/lib/python3.6/site-packages (from mnist) (1.19.5)\r\n"
     ]
    },
    {
     "name": "stdout",
     "output_type": "stream",
     "text": [
      "Installing collected packages: mnist\r\n"
     ]
    },
    {
     "name": "stdout",
     "output_type": "stream",
     "text": [
      "Successfully installed mnist-0.2.2\r\n"
     ]
    }
   ],
   "source": [
    "!pip install mnist"
   ]
  },
  {
   "cell_type": "markdown",
   "id": "69df9c9a",
   "metadata": {
    "papermill": {
     "duration": 0.025285,
     "end_time": "2021-12-20T00:24:51.672040",
     "exception": false,
     "start_time": "2021-12-20T00:24:51.646755",
     "status": "completed"
    },
    "tags": []
   },
   "source": [
    "## Preparing the Data"
   ]
  },
  {
   "cell_type": "code",
   "execution_count": 4,
   "id": "7f69d806",
   "metadata": {
    "execution": {
     "iopub.execute_input": "2021-12-20T00:24:51.732754Z",
     "iopub.status.busy": "2021-12-20T00:24:51.732221Z",
     "iopub.status.idle": "2021-12-20T00:24:51.742861Z",
     "shell.execute_reply": "2021-12-20T00:24:51.743250Z"
    },
    "papermill": {
     "duration": 0.046004,
     "end_time": "2021-12-20T00:24:51.743394",
     "exception": false,
     "start_time": "2021-12-20T00:24:51.697390",
     "status": "completed"
    },
    "tags": []
   },
   "outputs": [],
   "source": [
    "import mnist"
   ]
  },
  {
   "cell_type": "code",
   "execution_count": 5,
   "id": "a411e44f",
   "metadata": {
    "execution": {
     "iopub.execute_input": "2021-12-20T00:24:51.805882Z",
     "iopub.status.busy": "2021-12-20T00:24:51.797240Z",
     "iopub.status.idle": "2021-12-20T00:24:52.395039Z",
     "shell.execute_reply": "2021-12-20T00:24:52.394540Z"
    },
    "papermill": {
     "duration": 0.626304,
     "end_time": "2021-12-20T00:24:52.395159",
     "exception": false,
     "start_time": "2021-12-20T00:24:51.768855",
     "status": "completed"
    },
    "tags": []
   },
   "outputs": [],
   "source": [
    "train_images = mnist.train_images()\n",
    "train_labels = mnist.train_labels()"
   ]
  },
  {
   "cell_type": "code",
   "execution_count": 6,
   "id": "dceab3a5",
   "metadata": {
    "execution": {
     "iopub.execute_input": "2021-12-20T00:24:52.456573Z",
     "iopub.status.busy": "2021-12-20T00:24:52.456038Z",
     "iopub.status.idle": "2021-12-20T00:24:52.466475Z",
     "shell.execute_reply": "2021-12-20T00:24:52.466896Z"
    },
    "papermill": {
     "duration": 0.04635,
     "end_time": "2021-12-20T00:24:52.467033",
     "exception": false,
     "start_time": "2021-12-20T00:24:52.420683",
     "status": "completed"
    },
    "tags": []
   },
   "outputs": [
    {
     "data": {
      "text/plain": [
       "((60000, 28, 28), (60000,))"
      ]
     },
     "execution_count": 6,
     "metadata": {},
     "output_type": "execute_result"
    }
   ],
   "source": [
    "train_images.shape, train_labels.shape"
   ]
  },
  {
   "cell_type": "code",
   "execution_count": 7,
   "id": "f50dc2bb",
   "metadata": {
    "execution": {
     "iopub.execute_input": "2021-12-20T00:24:52.526231Z",
     "iopub.status.busy": "2021-12-20T00:24:52.525708Z",
     "iopub.status.idle": "2021-12-20T00:24:52.746481Z",
     "shell.execute_reply": "2021-12-20T00:24:52.745920Z"
    },
    "papermill": {
     "duration": 0.253958,
     "end_time": "2021-12-20T00:24:52.746628",
     "exception": false,
     "start_time": "2021-12-20T00:24:52.492670",
     "status": "completed"
    },
    "tags": []
   },
   "outputs": [],
   "source": [
    "test_images = mnist.test_images()\n",
    "test_labels = mnist.test_labels()"
   ]
  },
  {
   "cell_type": "code",
   "execution_count": 8,
   "id": "fc38cf1b",
   "metadata": {
    "execution": {
     "iopub.execute_input": "2021-12-20T00:24:52.803480Z",
     "iopub.status.busy": "2021-12-20T00:24:52.802967Z",
     "iopub.status.idle": "2021-12-20T00:24:52.815404Z",
     "shell.execute_reply": "2021-12-20T00:24:52.814983Z"
    },
    "papermill": {
     "duration": 0.042561,
     "end_time": "2021-12-20T00:24:52.815521",
     "exception": false,
     "start_time": "2021-12-20T00:24:52.772960",
     "status": "completed"
    },
    "tags": []
   },
   "outputs": [
    {
     "data": {
      "text/plain": [
       "((10000, 28, 28), (10000,))"
      ]
     },
     "execution_count": 8,
     "metadata": {},
     "output_type": "execute_result"
    }
   ],
   "source": [
    "test_images.shape, test_labels.shape"
   ]
  },
  {
   "cell_type": "code",
   "execution_count": 9,
   "id": "f9ed8fe0",
   "metadata": {
    "execution": {
     "iopub.execute_input": "2021-12-20T00:24:52.871583Z",
     "iopub.status.busy": "2021-12-20T00:24:52.871070Z",
     "iopub.status.idle": "2021-12-20T00:24:53.010162Z",
     "shell.execute_reply": "2021-12-20T00:24:53.010679Z"
    },
    "papermill": {
     "duration": 0.169489,
     "end_time": "2021-12-20T00:24:53.010836",
     "exception": false,
     "start_time": "2021-12-20T00:24:52.841347",
     "status": "completed"
    },
    "tags": []
   },
   "outputs": [
    {
     "name": "stdout",
     "output_type": "stream",
     "text": [
      "2\n"
     ]
    },
    {
     "data": {
      "text/plain": [
       "<matplotlib.image.AxesImage at 0x7fe316e204e0>"
      ]
     },
     "execution_count": 9,
     "metadata": {},
     "output_type": "execute_result"
    },
    {
     "data": {
      "image/png": "[encoded data removed]",
      "text/plain": [
       "<Figure size 432x288 with 1 Axes>"
      ]
     },
     "metadata": {
      "needs_background": "light"
     },
     "output_type": "display_data"
    }
   ],
   "source": [
    "image_index = 7776 # You may select anything up to 60,000\n",
    "print(train_labels[image_index]) \n",
    "plt.imshow(train_images[image_index], cmap='Greys')"
   ]
  },
  {
   "cell_type": "markdown",
   "id": "a8d2388d",
   "metadata": {
    "papermill": {
     "duration": 0.027538,
     "end_time": "2021-12-20T00:24:53.066274",
     "exception": false,
     "start_time": "2021-12-20T00:24:53.038736",
     "status": "completed"
    },
    "tags": []
   },
   "source": [
    "## Filter data to get 3 and 8 out"
   ]
  },
  {
   "cell_type": "code",
   "execution_count": 10,
   "id": "776f7fc7",
   "metadata": {
    "execution": {
     "iopub.execute_input": "2021-12-20T00:24:53.127775Z",
     "iopub.status.busy": "2021-12-20T00:24:53.127211Z",
     "iopub.status.idle": "2021-12-20T00:24:53.140835Z",
     "shell.execute_reply": "2021-12-20T00:24:53.141281Z"
    },
    "papermill": {
     "duration": 0.048188,
     "end_time": "2021-12-20T00:24:53.141416",
     "exception": false,
     "start_time": "2021-12-20T00:24:53.093228",
     "status": "completed"
    },
    "tags": []
   },
   "outputs": [],
   "source": [
    "train_filter = np.where((train_labels == 3 ) | (train_labels == 8))\n",
    "test_filter = np.where((test_labels == 3) | (test_labels == 8))\n",
    "X_train, y_train = train_images[train_filter], train_labels[train_filter]\n",
    "X_test, y_test = test_images[test_filter], test_labels[test_filter]"
   ]
  },
  {
   "cell_type": "markdown",
   "id": "948f0b7e",
   "metadata": {
    "papermill": {
     "duration": 0.026942,
     "end_time": "2021-12-20T00:24:53.195584",
     "exception": false,
     "start_time": "2021-12-20T00:24:53.168642",
     "status": "completed"
    },
    "tags": []
   },
   "source": [
    "We normalize the pizel values in the 0 to 1 range"
   ]
  },
  {
   "cell_type": "code",
   "execution_count": 11,
   "id": "ee4c2166",
   "metadata": {
    "execution": {
     "iopub.execute_input": "2021-12-20T00:24:53.263832Z",
     "iopub.status.busy": "2021-12-20T00:24:53.263267Z",
     "iopub.status.idle": "2021-12-20T00:24:53.302796Z",
     "shell.execute_reply": "2021-12-20T00:24:53.303253Z"
    },
    "papermill": {
     "duration": 0.080576,
     "end_time": "2021-12-20T00:24:53.303416",
     "exception": false,
     "start_time": "2021-12-20T00:24:53.222840",
     "status": "completed"
    },
    "tags": []
   },
   "outputs": [],
   "source": [
    "X_train = X_train/255.\n",
    "X_test = X_test/255."
   ]
  },
  {
   "cell_type": "markdown",
   "id": "ddcf4fab",
   "metadata": {
    "papermill": {
     "duration": 0.027267,
     "end_time": "2021-12-20T00:24:53.359095",
     "exception": false,
     "start_time": "2021-12-20T00:24:53.331828",
     "status": "completed"
    },
    "tags": []
   },
   "source": [
    "And setup the labels as 1 (when the digit is 3) and 0 (when the digit is 8)"
   ]
  },
  {
   "cell_type": "code",
   "execution_count": 12,
   "id": "7dc908f2",
   "metadata": {
    "execution": {
     "iopub.execute_input": "2021-12-20T00:24:53.432318Z",
     "iopub.status.busy": "2021-12-20T00:24:53.431312Z",
     "iopub.status.idle": "2021-12-20T00:24:53.436442Z",
     "shell.execute_reply": "2021-12-20T00:24:53.436024Z"
    },
    "papermill": {
     "duration": 0.047157,
     "end_time": "2021-12-20T00:24:53.436561",
     "exception": false,
     "start_time": "2021-12-20T00:24:53.389404",
     "status": "completed"
    },
    "tags": []
   },
   "outputs": [],
   "source": [
    "y_train = 1*(y_train==3)\n",
    "y_test = 1*(y_test==3)"
   ]
  },
  {
   "cell_type": "code",
   "execution_count": 13,
   "id": "01e4e969",
   "metadata": {
    "execution": {
     "iopub.execute_input": "2021-12-20T00:24:53.495343Z",
     "iopub.status.busy": "2021-12-20T00:24:53.494798Z",
     "iopub.status.idle": "2021-12-20T00:24:53.509248Z",
     "shell.execute_reply": "2021-12-20T00:24:53.509636Z"
    },
    "papermill": {
     "duration": 0.045737,
     "end_time": "2021-12-20T00:24:53.509779",
     "exception": false,
     "start_time": "2021-12-20T00:24:53.464042",
     "status": "completed"
    },
    "tags": []
   },
   "outputs": [
    {
     "data": {
      "text/plain": [
       "((11982, 28, 28), (1984, 28, 28))"
      ]
     },
     "execution_count": 13,
     "metadata": {},
     "output_type": "execute_result"
    }
   ],
   "source": [
    "X_train.shape, X_test.shape"
   ]
  },
  {
   "cell_type": "markdown",
   "id": "5ccf3f85",
   "metadata": {
    "papermill": {
     "duration": 0.027071,
     "end_time": "2021-12-20T00:24:53.564007",
     "exception": false,
     "start_time": "2021-12-20T00:24:53.536936",
     "status": "completed"
    },
    "tags": []
   },
   "source": [
    "We reshape the data to flatten the image pixels into a set of features or co-variates:"
   ]
  },
  {
   "cell_type": "code",
   "execution_count": 14,
   "id": "5286a4a3",
   "metadata": {
    "execution": {
     "iopub.execute_input": "2021-12-20T00:24:53.627986Z",
     "iopub.status.busy": "2021-12-20T00:24:53.627434Z",
     "iopub.status.idle": "2021-12-20T00:24:53.637311Z",
     "shell.execute_reply": "2021-12-20T00:24:53.637731Z"
    },
    "papermill": {
     "duration": 0.046599,
     "end_time": "2021-12-20T00:24:53.637876",
     "exception": false,
     "start_time": "2021-12-20T00:24:53.591277",
     "status": "completed"
    },
    "tags": []
   },
   "outputs": [
    {
     "data": {
      "text/plain": [
       "((11982, 784), (1984, 784))"
      ]
     },
     "execution_count": 14,
     "metadata": {},
     "output_type": "execute_result"
    }
   ],
   "source": [
    "X_train = X_train.reshape(X_train.shape[0], -1)\n",
    "X_test = X_test.reshape(X_test.shape[0], -1)\n",
    "X_train.shape, X_test.shape"
   ]
  },
  {
   "cell_type": "code",
   "execution_count": 15,
   "id": "73c5f88a",
   "metadata": {
    "execution": {
     "iopub.execute_input": "2021-12-20T00:24:53.697801Z",
     "iopub.status.busy": "2021-12-20T00:24:53.697260Z",
     "iopub.status.idle": "2021-12-20T00:24:53.716557Z",
     "shell.execute_reply": "2021-12-20T00:24:53.717016Z"
    },
    "papermill": {
     "duration": 0.051322,
     "end_time": "2021-12-20T00:24:53.717174",
     "exception": false,
     "start_time": "2021-12-20T00:24:53.665852",
     "status": "completed"
    },
    "tags": []
   },
   "outputs": [],
   "source": [
    "#Impoting functions from 'Kudzu'\n",
    "from kudzu.model import Model\n",
    "from kudzu.train import Learner\n",
    "from kudzu.optim import GD\n",
    "from kudzu.data import Data, Sampler,Dataloader\n",
    "\n",
    "from kudzu.callbacks import AccCallback\n",
    "from kudzu.callbacks import ClfCallback\n",
    "\n",
    "from kudzu.loss import MSE\n",
    "\n",
    "from kudzu.layer import Sigmoid,Relu\n",
    "from kudzu.layer import Affine"
   ]
  },
  {
   "cell_type": "markdown",
   "id": "bc01172a",
   "metadata": {
    "papermill": {
     "duration": 0.027295,
     "end_time": "2021-12-20T00:24:53.773058",
     "exception": false,
     "start_time": "2021-12-20T00:24:53.745763",
     "status": "completed"
    },
    "tags": []
   },
   "source": [
    "### Let us create a `Config` class, to store important parameters. \n",
    "This class essentially plays the role of a dictionary."
   ]
  },
  {
   "cell_type": "code",
   "execution_count": 16,
   "id": "978281aa",
   "metadata": {
    "execution": {
     "iopub.execute_input": "2021-12-20T00:24:53.843800Z",
     "iopub.status.busy": "2021-12-20T00:24:53.837086Z",
     "iopub.status.idle": "2021-12-20T00:24:53.845683Z",
     "shell.execute_reply": "2021-12-20T00:24:53.846067Z"
    },
    "papermill": {
     "duration": 0.045803,
     "end_time": "2021-12-20T00:24:53.846210",
     "exception": false,
     "start_time": "2021-12-20T00:24:53.800407",
     "status": "completed"
    },
    "tags": []
   },
   "outputs": [],
   "source": [
    "class Config:\n",
    "    pass\n",
    "config = Config()\n",
    "config.lr = 0.001\n",
    "config.num_epochs = 250\n",
    "config.bs = 50"
   ]
  },
  {
   "cell_type": "markdown",
   "id": "1385fa59",
   "metadata": {
    "papermill": {
     "duration": 0.027337,
     "end_time": "2021-12-20T00:24:53.901243",
     "exception": false,
     "start_time": "2021-12-20T00:24:53.873906",
     "status": "completed"
    },
    "tags": []
   },
   "source": [
    "### Running Models with the Training data\n",
    "Details about the network layers:\n",
    "- A first affine layer has 784 inputs and does 100 affine transforms. These are followed by a Relu\n",
    "- A second affine layer has 100 inputs from the 100 activations of the past layer, and does 100 affine transforms. These are followed by a Relu\n",
    "- A third affine layer has 100 activations and does 2 affine transformations to create an embedding for visualization. There is no non-linearity here.\n",
    "- A final \"logistic regression\" which has an affine transform from 2 inputs to 1 output, which is squeezed through a sigmoid.\n"
   ]
  },
  {
   "cell_type": "code",
   "execution_count": 17,
   "id": "2b9c66db",
   "metadata": {
    "execution": {
     "iopub.execute_input": "2021-12-20T00:24:53.960502Z",
     "iopub.status.busy": "2021-12-20T00:24:53.959970Z",
     "iopub.status.idle": "2021-12-20T00:24:53.971923Z",
     "shell.execute_reply": "2021-12-20T00:24:53.971498Z"
    },
    "papermill": {
     "duration": 0.04341,
     "end_time": "2021-12-20T00:24:53.972040",
     "exception": false,
     "start_time": "2021-12-20T00:24:53.928630",
     "status": "completed"
    },
    "tags": []
   },
   "outputs": [],
   "source": [
    "data = Data(X_train, y_train.reshape(-1,1))\n",
    "sampler = Sampler(data, config.bs, shuffle=True)\n",
    "\n",
    "dl = Dataloader(data, sampler)\n",
    "\n",
    "opt = GD(config.lr)\n",
    "loss = MSE()"
   ]
  },
  {
   "cell_type": "code",
   "execution_count": 18,
   "id": "b275e4c2",
   "metadata": {
    "execution": {
     "iopub.execute_input": "2021-12-20T00:24:54.033763Z",
     "iopub.status.busy": "2021-12-20T00:24:54.031788Z",
     "iopub.status.idle": "2021-12-20T00:24:54.042837Z",
     "shell.execute_reply": "2021-12-20T00:24:54.042409Z"
    },
    "papermill": {
     "duration": 0.042991,
     "end_time": "2021-12-20T00:24:54.042955",
     "exception": false,
     "start_time": "2021-12-20T00:24:53.999964",
     "status": "completed"
    },
    "tags": []
   },
   "outputs": [],
   "source": [
    "training_data_x = X_train\n",
    "testing_data_x = X_test\n",
    "training_data_y = y_train.reshape(-1,1)\n",
    "testing_data_y = y_test.reshape(-1,1)"
   ]
  },
  {
   "cell_type": "code",
   "execution_count": 19,
   "id": "76951160",
   "metadata": {
    "execution": {
     "iopub.execute_input": "2021-12-20T00:24:54.103691Z",
     "iopub.status.busy": "2021-12-20T00:24:54.103143Z",
     "iopub.status.idle": "2021-12-20T00:24:54.118264Z",
     "shell.execute_reply": "2021-12-20T00:24:54.117814Z"
    },
    "papermill": {
     "duration": 0.047952,
     "end_time": "2021-12-20T00:24:54.118405",
     "exception": false,
     "start_time": "2021-12-20T00:24:54.070453",
     "status": "completed"
    },
    "tags": []
   },
   "outputs": [
    {
     "name": "stdout",
     "output_type": "stream",
     "text": [
      "xavier\n",
      "xavier\n",
      "xavier\n",
      "xavier\n",
      "xavier\n"
     ]
    }
   ],
   "source": [
    "layers = [Affine(\"first\", 784, 100), Relu(\"first\"), Affine(\"second\", 100, 100), Relu(\"second\"), Affine(\"third\", 100, 2), Affine(\"last\", 2, 1), Sigmoid(\"last\")]\n",
    "model_nn = Model(layers)\n",
    "model_lr = Model([Affine(\"logits\", 784, 1), Sigmoid(\"sigmoid\")])"
   ]
  },
  {
   "cell_type": "code",
   "execution_count": 20,
   "id": "6eede77a",
   "metadata": {
    "execution": {
     "iopub.execute_input": "2021-12-20T00:24:54.178041Z",
     "iopub.status.busy": "2021-12-20T00:24:54.177503Z",
     "iopub.status.idle": "2021-12-20T00:24:54.190669Z",
     "shell.execute_reply": "2021-12-20T00:24:54.190191Z"
    },
    "papermill": {
     "duration": 0.044611,
     "end_time": "2021-12-20T00:24:54.190795",
     "exception": false,
     "start_time": "2021-12-20T00:24:54.146184",
     "status": "completed"
    },
    "tags": []
   },
   "outputs": [],
   "source": [
    "nn_learner = Learner(loss, model_nn, opt, config.num_epochs)\n",
    "acc_nn = ClfCallback(nn_learner, config.bs, training_data_x , testing_data_x, training_data_y, testing_data_y)\n",
    "nn_learner.set_callbacks([acc_nn])"
   ]
  },
  {
   "cell_type": "code",
   "execution_count": 21,
   "id": "877b6cc7",
   "metadata": {
    "execution": {
     "iopub.execute_input": "2021-12-20T00:24:54.250526Z",
     "iopub.status.busy": "2021-12-20T00:24:54.249975Z",
     "iopub.status.idle": "2021-12-20T00:24:54.262570Z",
     "shell.execute_reply": "2021-12-20T00:24:54.262120Z"
    },
    "papermill": {
     "duration": 0.04402,
     "end_time": "2021-12-20T00:24:54.262690",
     "exception": false,
     "start_time": "2021-12-20T00:24:54.218670",
     "status": "completed"
    },
    "tags": []
   },
   "outputs": [],
   "source": [
    "lr_learner = Learner(loss, model_lr, opt, config.num_epochs)\n",
    "acc_lr = ClfCallback(lr_learner, config.bs, training_data_x , testing_data_x, training_data_y, testing_data_y)\n",
    "lr_learner.set_callbacks([acc_lr])"
   ]
  },
  {
   "cell_type": "code",
   "execution_count": 22,
   "id": "d9b133c3",
   "metadata": {
    "execution": {
     "iopub.execute_input": "2021-12-20T00:24:54.322180Z",
     "iopub.status.busy": "2021-12-20T00:24:54.321659Z",
     "iopub.status.idle": "2021-12-20T00:26:12.402826Z",
     "shell.execute_reply": "2021-12-20T00:26:12.403572Z"
    },
    "papermill": {
     "duration": 78.113012,
     "end_time": "2021-12-20T00:26:12.403723",
     "exception": false,
     "start_time": "2021-12-20T00:24:54.290711",
     "status": "completed"
    },
    "tags": []
   },
   "outputs": [
    {
     "name": "stdout",
     "output_type": "stream",
     "text": [
      "Epoch 0, Loss 0.2553\n",
      "Training Accuracy: 0.4531, Testing Accuracy: 0.4592\n",
      "\n"
     ]
    },
    {
     "name": "stdout",
     "output_type": "stream",
     "text": [
      "Epoch 10, Loss 0.2275\n",
      "Training Accuracy: 0.7985, Testing Accuracy: 0.8236\n",
      "\n"
     ]
    },
    {
     "name": "stdout",
     "output_type": "stream",
     "text": [
      "Epoch 20, Loss 0.1521\n",
      "Training Accuracy: 0.8668, Testing Accuracy: 0.8851\n",
      "\n"
     ]
    },
    {
     "name": "stdout",
     "output_type": "stream",
     "text": [
      "Epoch 30, Loss 0.085\n",
      "Training Accuracy: 0.9090, Testing Accuracy: 0.9244\n",
      "\n"
     ]
    },
    {
     "name": "stdout",
     "output_type": "stream",
     "text": [
      "Epoch 40, Loss 0.0595\n",
      "Training Accuracy: 0.9352, Testing Accuracy: 0.9461\n",
      "\n"
     ]
    },
    {
     "name": "stdout",
     "output_type": "stream",
     "text": [
      "Epoch 50, Loss 0.0478\n",
      "Training Accuracy: 0.9462, Testing Accuracy: 0.9561\n",
      "\n"
     ]
    },
    {
     "name": "stdout",
     "output_type": "stream",
     "text": [
      "Epoch 60, Loss 0.0414\n",
      "Training Accuracy: 0.9519, Testing Accuracy: 0.9617\n",
      "\n"
     ]
    },
    {
     "name": "stdout",
     "output_type": "stream",
     "text": [
      "Epoch 70, Loss 0.0374\n",
      "Training Accuracy: 0.9558, Testing Accuracy: 0.9632\n",
      "\n"
     ]
    },
    {
     "name": "stdout",
     "output_type": "stream",
     "text": [
      "Epoch 80, Loss 0.0347\n",
      "Training Accuracy: 0.9589, Testing Accuracy: 0.9682\n",
      "\n"
     ]
    },
    {
     "name": "stdout",
     "output_type": "stream",
     "text": [
      "Epoch 90, Loss 0.0327\n",
      "Training Accuracy: 0.9619, Testing Accuracy: 0.9677\n",
      "\n"
     ]
    },
    {
     "name": "stdout",
     "output_type": "stream",
     "text": [
      "Epoch 100, Loss 0.0311\n",
      "Training Accuracy: 0.9641, Testing Accuracy: 0.9672\n",
      "\n"
     ]
    },
    {
     "name": "stdout",
     "output_type": "stream",
     "text": [
      "Epoch 110, Loss 0.0298\n",
      "Training Accuracy: 0.9653, Testing Accuracy: 0.9682\n",
      "\n"
     ]
    },
    {
     "name": "stdout",
     "output_type": "stream",
     "text": [
      "Epoch 120, Loss 0.0287\n",
      "Training Accuracy: 0.9664, Testing Accuracy: 0.9698\n",
      "\n"
     ]
    },
    {
     "name": "stdout",
     "output_type": "stream",
     "text": [
      "Epoch 130, Loss 0.0277\n",
      "Training Accuracy: 0.9672, Testing Accuracy: 0.9698\n",
      "\n"
     ]
    },
    {
     "name": "stdout",
     "output_type": "stream",
     "text": [
      "Epoch 140, Loss 0.0269\n",
      "Training Accuracy: 0.9679, Testing Accuracy: 0.9693\n",
      "\n"
     ]
    },
    {
     "name": "stdout",
     "output_type": "stream",
     "text": [
      "Epoch 150, Loss 0.0262\n",
      "Training Accuracy: 0.9688, Testing Accuracy: 0.9703\n",
      "\n"
     ]
    },
    {
     "name": "stdout",
     "output_type": "stream",
     "text": [
      "Epoch 160, Loss 0.0255\n",
      "Training Accuracy: 0.9700, Testing Accuracy: 0.9718\n",
      "\n"
     ]
    },
    {
     "name": "stdout",
     "output_type": "stream",
     "text": [
      "Epoch 170, Loss 0.0249\n",
      "Training Accuracy: 0.9707, Testing Accuracy: 0.9713\n",
      "\n"
     ]
    },
    {
     "name": "stdout",
     "output_type": "stream",
     "text": [
      "Epoch 180, Loss 0.0243\n",
      "Training Accuracy: 0.9716, Testing Accuracy: 0.9718\n",
      "\n"
     ]
    },
    {
     "name": "stdout",
     "output_type": "stream",
     "text": [
      "Epoch 190, Loss 0.0238\n",
      "Training Accuracy: 0.9720, Testing Accuracy: 0.9723\n",
      "\n"
     ]
    },
    {
     "name": "stdout",
     "output_type": "stream",
     "text": [
      "Epoch 200, Loss 0.0233\n",
      "Training Accuracy: 0.9727, Testing Accuracy: 0.9723\n",
      "\n"
     ]
    },
    {
     "name": "stdout",
     "output_type": "stream",
     "text": [
      "Epoch 210, Loss 0.0229\n",
      "Training Accuracy: 0.9732, Testing Accuracy: 0.9718\n",
      "\n"
     ]
    },
    {
     "name": "stdout",
     "output_type": "stream",
     "text": [
      "Epoch 220, Loss 0.0224\n",
      "Training Accuracy: 0.9739, Testing Accuracy: 0.9718\n",
      "\n"
     ]
    },
    {
     "name": "stdout",
     "output_type": "stream",
     "text": [
      "Epoch 230, Loss 0.022\n",
      "Training Accuracy: 0.9744, Testing Accuracy: 0.9708\n",
      "\n"
     ]
    },
    {
     "name": "stdout",
     "output_type": "stream",
     "text": [
      "Epoch 240, Loss 0.0216\n",
      "Training Accuracy: 0.9755, Testing Accuracy: 0.9713\n",
      "\n"
     ]
    },
    {
     "data": {
      "text/plain": [
       "0.0005176496784031041"
      ]
     },
     "execution_count": 22,
     "metadata": {},
     "output_type": "execute_result"
    }
   ],
   "source": [
    "nn_learner.train_loop(dl)"
   ]
  },
  {
   "cell_type": "code",
   "execution_count": 23,
   "id": "e0163366",
   "metadata": {
    "execution": {
     "iopub.execute_input": "2021-12-20T00:26:12.483791Z",
     "iopub.status.busy": "2021-12-20T00:26:12.483258Z",
     "iopub.status.idle": "2021-12-20T00:26:26.253849Z",
     "shell.execute_reply": "2021-12-20T00:26:26.254602Z"
    },
    "papermill": {
     "duration": 13.816001,
     "end_time": "2021-12-20T00:26:26.254753",
     "exception": false,
     "start_time": "2021-12-20T00:26:12.438752",
     "status": "completed"
    },
    "tags": []
   },
   "outputs": [
    {
     "name": "stdout",
     "output_type": "stream",
     "text": [
      "Epoch 0, Loss 0.2285\n",
      "Training Accuracy: 0.7396, Testing Accuracy: 0.7298\n",
      "\n"
     ]
    },
    {
     "name": "stdout",
     "output_type": "stream",
     "text": [
      "Epoch 10, Loss 0.1011\n",
      "Training Accuracy: 0.9108, Testing Accuracy: 0.9194\n",
      "\n"
     ]
    },
    {
     "name": "stdout",
     "output_type": "stream",
     "text": [
      "Epoch 20, Loss 0.0785\n",
      "Training Accuracy: 0.9281, Testing Accuracy: 0.9390\n",
      "\n"
     ]
    },
    {
     "name": "stdout",
     "output_type": "stream",
     "text": [
      "Epoch 30, Loss 0.0678\n",
      "Training Accuracy: 0.9365, Testing Accuracy: 0.9491\n",
      "\n"
     ]
    },
    {
     "name": "stdout",
     "output_type": "stream",
     "text": [
      "Epoch 40, Loss 0.0613\n",
      "Training Accuracy: 0.9430, Testing Accuracy: 0.9526\n",
      "\n"
     ]
    },
    {
     "name": "stdout",
     "output_type": "stream",
     "text": [
      "Epoch 50, Loss 0.0569\n",
      "Training Accuracy: 0.9458, Testing Accuracy: 0.9551\n",
      "\n"
     ]
    },
    {
     "name": "stdout",
     "output_type": "stream",
     "text": [
      "Epoch 60, Loss 0.0536\n",
      "Training Accuracy: 0.9488, Testing Accuracy: 0.9551\n",
      "\n"
     ]
    },
    {
     "name": "stdout",
     "output_type": "stream",
     "text": [
      "Epoch 70, Loss 0.051\n",
      "Training Accuracy: 0.9496, Testing Accuracy: 0.9597\n",
      "\n"
     ]
    },
    {
     "name": "stdout",
     "output_type": "stream",
     "text": [
      "Epoch 80, Loss 0.049\n",
      "Training Accuracy: 0.9512, Testing Accuracy: 0.9607\n",
      "\n"
     ]
    },
    {
     "name": "stdout",
     "output_type": "stream",
     "text": [
      "Epoch 90, Loss 0.0473\n",
      "Training Accuracy: 0.9523, Testing Accuracy: 0.9607\n",
      "\n"
     ]
    },
    {
     "name": "stdout",
     "output_type": "stream",
     "text": [
      "Epoch 100, Loss 0.0459\n",
      "Training Accuracy: 0.9534, Testing Accuracy: 0.9622\n",
      "\n"
     ]
    },
    {
     "name": "stdout",
     "output_type": "stream",
     "text": [
      "Epoch 110, Loss 0.0447\n",
      "Training Accuracy: 0.9543, Testing Accuracy: 0.9622\n",
      "\n"
     ]
    },
    {
     "name": "stdout",
     "output_type": "stream",
     "text": [
      "Epoch 120, Loss 0.0436\n",
      "Training Accuracy: 0.9546, Testing Accuracy: 0.9632\n",
      "\n"
     ]
    },
    {
     "name": "stdout",
     "output_type": "stream",
     "text": [
      "Epoch 130, Loss 0.0427\n",
      "Training Accuracy: 0.9553, Testing Accuracy: 0.9637\n",
      "\n"
     ]
    },
    {
     "name": "stdout",
     "output_type": "stream",
     "text": [
      "Epoch 140, Loss 0.0419\n",
      "Training Accuracy: 0.9562, Testing Accuracy: 0.9642\n",
      "\n"
     ]
    },
    {
     "name": "stdout",
     "output_type": "stream",
     "text": [
      "Epoch 150, Loss 0.0411\n",
      "Training Accuracy: 0.9569, Testing Accuracy: 0.9642\n",
      "\n"
     ]
    },
    {
     "name": "stdout",
     "output_type": "stream",
     "text": [
      "Epoch 160, Loss 0.0404\n",
      "Training Accuracy: 0.9578, Testing Accuracy: 0.9652\n",
      "\n"
     ]
    },
    {
     "name": "stdout",
     "output_type": "stream",
     "text": [
      "Epoch 170, Loss 0.0398\n",
      "Training Accuracy: 0.9583, Testing Accuracy: 0.9652\n",
      "\n"
     ]
    },
    {
     "name": "stdout",
     "output_type": "stream",
     "text": [
      "Epoch 180, Loss 0.0393\n",
      "Training Accuracy: 0.9584, Testing Accuracy: 0.9662\n",
      "\n"
     ]
    },
    {
     "name": "stdout",
     "output_type": "stream",
     "text": [
      "Epoch 190, Loss 0.0388\n",
      "Training Accuracy: 0.9586, Testing Accuracy: 0.9662\n",
      "\n"
     ]
    },
    {
     "name": "stdout",
     "output_type": "stream",
     "text": [
      "Epoch 200, Loss 0.0383\n",
      "Training Accuracy: 0.9588, Testing Accuracy: 0.9667\n",
      "\n"
     ]
    },
    {
     "name": "stdout",
     "output_type": "stream",
     "text": [
      "Epoch 210, Loss 0.0378\n",
      "Training Accuracy: 0.9594, Testing Accuracy: 0.9667\n",
      "\n"
     ]
    },
    {
     "name": "stdout",
     "output_type": "stream",
     "text": [
      "Epoch 220, Loss 0.0374\n",
      "Training Accuracy: 0.9597, Testing Accuracy: 0.9667\n",
      "\n"
     ]
    },
    {
     "name": "stdout",
     "output_type": "stream",
     "text": [
      "Epoch 230, Loss 0.0371\n",
      "Training Accuracy: 0.9603, Testing Accuracy: 0.9667\n",
      "\n"
     ]
    },
    {
     "name": "stdout",
     "output_type": "stream",
     "text": [
      "Epoch 240, Loss 0.0367\n",
      "Training Accuracy: 0.9606, Testing Accuracy: 0.9672\n",
      "\n"
     ]
    },
    {
     "data": {
      "text/plain": [
       "0.02151461080102425"
      ]
     },
     "execution_count": 23,
     "metadata": {},
     "output_type": "execute_result"
    }
   ],
   "source": [
    "lr_learner.train_loop(dl)"
   ]
  },
  {
   "cell_type": "code",
   "execution_count": 24,
   "id": "ca410940",
   "metadata": {
    "execution": {
     "iopub.execute_input": "2021-12-20T00:26:26.351574Z",
     "iopub.status.busy": "2021-12-20T00:26:26.351020Z",
     "iopub.status.idle": "2021-12-20T00:26:26.577292Z",
     "shell.execute_reply": "2021-12-20T00:26:26.576812Z"
    },
    "papermill": {
     "duration": 0.281096,
     "end_time": "2021-12-20T00:26:26.577412",
     "exception": false,
     "start_time": "2021-12-20T00:26:26.296316",
     "status": "completed"
    },
    "tags": []
   },
   "outputs": [
    {
     "data": {
      "text/plain": [
       "<matplotlib.legend.Legend at 0x7fe30a251c50>"
      ]
     },
     "execution_count": 24,
     "metadata": {},
     "output_type": "execute_result"
    },
    {
     "data": {
      "image/png": "[encoded data removed]",
      "text/plain": [
       "<Figure size 1080x720 with 1 Axes>"
      ]
     },
     "metadata": {
      "needs_background": "light"
     },
     "output_type": "display_data"
    }
   ],
   "source": [
    "#comparing the results of NN and LR\n",
    "plt.figure(figsize=(15,10))\n",
    "\n",
    "# Neural Network plots\n",
    "plt.plot(acc_nn.accuracies, 'r-', label = \"Training Accuracies - NN\")\n",
    "plt.plot(acc_nn.test_accuracies, 'g-', label = \"Testing Accuracies - NN\")\n",
    "\n",
    "# Logistic Regression plots\n",
    "plt.plot(acc_lr.accuracies, 'k-', label = \"Training Accuracies - LR\")\n",
    "plt.plot(acc_lr.test_accuracies, 'b-', label = \"Testing Accuracies - LR\")\n",
    "plt.legend()"
   ]
  },
  {
   "cell_type": "markdown",
   "id": "80dfb35c",
   "metadata": {
    "papermill": {
     "duration": 0.04259,
     "end_time": "2021-12-20T00:26:26.662955",
     "exception": false,
     "start_time": "2021-12-20T00:26:26.620365",
     "status": "completed"
    },
    "tags": []
   },
   "source": [
    "#### Plotting the outputs of this layer of the NN.\n"
   ]
  },
  {
   "cell_type": "code",
   "execution_count": 25,
   "id": "45eb2ff5",
   "metadata": {
    "execution": {
     "iopub.execute_input": "2021-12-20T00:26:26.759143Z",
     "iopub.status.busy": "2021-12-20T00:26:26.755229Z",
     "iopub.status.idle": "2021-12-20T00:26:26.773621Z",
     "shell.execute_reply": "2021-12-20T00:26:26.774052Z"
    },
    "papermill": {
     "duration": 0.068669,
     "end_time": "2021-12-20T00:26:26.774199",
     "exception": false,
     "start_time": "2021-12-20T00:26:26.705530",
     "status": "completed"
    },
    "tags": []
   },
   "outputs": [],
   "source": [
    "new_model = Model(layers[:-2])\n",
    "testing_plot = new_model(testing_data_x)"
   ]
  },
  {
   "cell_type": "code",
   "execution_count": 26,
   "id": "4c0a5485",
   "metadata": {
    "execution": {
     "iopub.execute_input": "2021-12-20T00:26:26.871185Z",
     "iopub.status.busy": "2021-12-20T00:26:26.865615Z",
     "iopub.status.idle": "2021-12-20T00:26:27.076086Z",
     "shell.execute_reply": "2021-12-20T00:26:27.075634Z"
    },
    "papermill": {
     "duration": 0.258866,
     "end_time": "2021-12-20T00:26:27.076209",
     "exception": false,
     "start_time": "2021-12-20T00:26:26.817343",
     "status": "completed"
    },
    "tags": []
   },
   "outputs": [
    {
     "data": {
      "text/plain": [
       "Text(0.5, 1.0, 'Outputs')"
      ]
     },
     "execution_count": 26,
     "metadata": {},
     "output_type": "execute_result"
    },
    {
     "data": {
      "image/png": "[encoded data removed]",
      "text/plain": [
       "<Figure size 576x504 with 1 Axes>"
      ]
     },
     "metadata": {
      "needs_background": "light"
     },
     "output_type": "display_data"
    }
   ],
   "source": [
    "# Plotting the scatter plot of points and color coding by class\n",
    "plt.figure(figsize=(8,7))\n",
    "plt.scatter(testing_plot[:,0], testing_plot[:,1], alpha = 0.1, c = y_test.ravel());\n",
    "plt.title('Outputs')"
   ]
  },
  {
   "cell_type": "markdown",
   "id": "a74fcf8f",
   "metadata": {
    "papermill": {
     "duration": 0.044806,
     "end_time": "2021-12-20T00:26:27.166238",
     "exception": false,
     "start_time": "2021-12-20T00:26:27.121432",
     "status": "completed"
    },
    "tags": []
   },
   "source": [
    "Probability contours"
   ]
  },
  {
   "cell_type": "code",
   "execution_count": 27,
   "id": "d0afc8e3",
   "metadata": {
    "execution": {
     "iopub.execute_input": "2021-12-20T00:26:27.261983Z",
     "iopub.status.busy": "2021-12-20T00:26:27.260421Z",
     "iopub.status.idle": "2021-12-20T00:26:27.272550Z",
     "shell.execute_reply": "2021-12-20T00:26:27.272959Z"
    },
    "papermill": {
     "duration": 0.061237,
     "end_time": "2021-12-20T00:26:27.273104",
     "exception": false,
     "start_time": "2021-12-20T00:26:27.211867",
     "status": "completed"
    },
    "tags": []
   },
   "outputs": [],
   "source": [
    "model_prob = Model(layers[-2:]) "
   ]
  },
  {
   "cell_type": "code",
   "execution_count": 28,
   "id": "9b96e238",
   "metadata": {
    "execution": {
     "iopub.execute_input": "2021-12-20T00:26:27.399722Z",
     "iopub.status.busy": "2021-12-20T00:26:27.399173Z",
     "iopub.status.idle": "2021-12-20T00:26:27.413408Z",
     "shell.execute_reply": "2021-12-20T00:26:27.412946Z"
    },
    "papermill": {
     "duration": 0.095297,
     "end_time": "2021-12-20T00:26:27.413523",
     "exception": false,
     "start_time": "2021-12-20T00:26:27.318226",
     "status": "completed"
    },
    "tags": []
   },
   "outputs": [],
   "source": [
    "#creating the x and y ranges according to the above generated plot.\n",
    "x_range = np.linspace(-4, 1, 100) \n",
    "y_range = np.linspace(-6, 6, 100) \n",
    "x_grid, y_grid = np.meshgrid(x_range, y_range) # x_grid and y_grig are of size 100 X 100\n",
    "\n",
    "# converting x_grid and y_grid to continuous arrays\n",
    "x_gridflat = np.ravel(x_grid)\n",
    "y_gridflat = np.ravel(y_grid)\n",
    "\n",
    "# The last layer of the current model takes two columns as input. Hence transpose of np.vstack() is required.\n",
    "X = np.vstack((x_gridflat, y_gridflat)).T\n",
    "\n",
    "prob_contour = model_prob(X).reshape(100,100) "
   ]
  },
  {
   "cell_type": "code",
   "execution_count": 29,
   "id": "da72499a",
   "metadata": {
    "execution": {
     "iopub.execute_input": "2021-12-20T00:26:27.513929Z",
     "iopub.status.busy": "2021-12-20T00:26:27.513397Z",
     "iopub.status.idle": "2021-12-20T00:26:27.749170Z",
     "shell.execute_reply": "2021-12-20T00:26:27.749592Z"
    },
    "papermill": {
     "duration": 0.290513,
     "end_time": "2021-12-20T00:26:27.749732",
     "exception": false,
     "start_time": "2021-12-20T00:26:27.459219",
     "status": "completed"
    },
    "tags": []
   },
   "outputs": [
    {
     "data": {
      "image/png": "[encoded data removed]",
      "text/plain": [
       "<Figure size 720x648 with 1 Axes>"
      ]
     },
     "metadata": {
      "needs_background": "light"
     },
     "output_type": "display_data"
    }
   ],
   "source": [
    "plt.figure(figsize=(10,9))\n",
    "plt.scatter(testing_plot[:,0], testing_plot[:,1], alpha = 0.1, c = y_test.ravel())\n",
    "contours = plt.contour(x_grid,y_grid,prob_contour)\n",
    "plt.title('Probability Contours')\n",
    "plt.clabel(contours, inline = True );"
   ]
  },
  {
   "cell_type": "code",
   "execution_count": null,
   "id": "e81b4ac7",
   "metadata": {
    "papermill": {
     "duration": 0.050877,
     "end_time": "2021-12-20T00:26:27.848705",
     "exception": false,
     "start_time": "2021-12-20T00:26:27.797828",
     "status": "completed"
    },
    "tags": []
   },
   "outputs": [],
   "source": []
  }
 ],
 "metadata": {
  "kernelspec": {
   "display_name": "Python 3",
   "language": "python",
   "name": "python3"
  },
  "language_info": {
   "codemirror_mode": {
    "name": "ipython",
    "version": 3
   },
   "file_extension": ".py",
   "mimetype": "text/x-python",
   "name": "python",
   "nbconvert_exporter": "python",
   "pygments_lexer": "ipython3",
   "version": "3.6.15"
  },
  "papermill": {
   "default_parameters": {},
   "duration": 101.132918,
   "end_time": "2021-12-20T00:26:28.305110",
   "environment_variables": {},
   "exception": null,
   "input_path": "2020-08-11-part2.ipynb",
   "output_path": "2020-08-11-part2.ipynb",
   "parameters": {},
   "start_time": "2021-12-20T00:24:47.172192",
   "version": "2.3.3"
  }
 },
 "nbformat": 4,
 "nbformat_minor": 5
}