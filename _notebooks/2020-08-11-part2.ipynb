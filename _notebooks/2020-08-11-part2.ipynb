{
 "cells": [
  {
   "cell_type": "markdown",
   "id": "98380cd3",
   "metadata": {
    "papermill": {
     "duration": 0.034729,
     "end_time": "2021-11-03T00:21:58.011809",
     "exception": false,
     "start_time": "2021-11-03T00:21:57.977080",
     "status": "completed"
    },
    "tags": []
   },
   "source": [
    "# Distinguish Your Own Digits (DYOD)"
   ]
  },
  {
   "cell_type": "markdown",
   "id": "ef31240d",
   "metadata": {
    "papermill": {
     "duration": 0.030416,
     "end_time": "2021-11-03T00:21:58.072563",
     "exception": false,
     "start_time": "2021-11-03T00:21:58.042147",
     "status": "completed"
    },
    "tags": []
   },
   "source": [
    "You are going to write a classifier that distinguishes between the number 3 and number 8."
   ]
  },
  {
   "cell_type": "code",
   "execution_count": 1,
   "id": "b15c8646",
   "metadata": {
    "execution": {
     "iopub.execute_input": "2021-11-03T00:21:58.145467Z",
     "iopub.status.busy": "2021-11-03T00:21:58.144809Z",
     "iopub.status.idle": "2021-11-03T00:21:58.157226Z",
     "shell.execute_reply": "2021-11-03T00:21:58.156506Z"
    },
    "papermill": {
     "duration": 0.053278,
     "end_time": "2021-11-03T00:21:58.157381",
     "exception": false,
     "start_time": "2021-11-03T00:21:58.104103",
     "status": "completed"
    },
    "tags": []
   },
   "outputs": [],
   "source": [
    "%load_ext autoreload\n",
    "%autoreload 2"
   ]
  },
  {
   "cell_type": "code",
   "execution_count": 2,
   "id": "22ef38dc",
   "metadata": {
    "execution": {
     "iopub.execute_input": "2021-11-03T00:21:58.223043Z",
     "iopub.status.busy": "2021-11-03T00:21:58.222371Z",
     "iopub.status.idle": "2021-11-03T00:21:58.825744Z",
     "shell.execute_reply": "2021-11-03T00:21:58.824848Z"
    },
    "papermill": {
     "duration": 0.636096,
     "end_time": "2021-11-03T00:21:58.825911",
     "exception": false,
     "start_time": "2021-11-03T00:21:58.189815",
     "status": "completed"
    },
    "tags": []
   },
   "outputs": [],
   "source": [
    "%matplotlib inline\n",
    "import numpy as np\n",
    "import matplotlib.pyplot as plt\n",
    "import pandas as pd"
   ]
  },
  {
   "cell_type": "markdown",
   "id": "ba036198",
   "metadata": {
    "papermill": {
     "duration": 0.029673,
     "end_time": "2021-11-03T00:21:58.886836",
     "exception": false,
     "start_time": "2021-11-03T00:21:58.857163",
     "status": "completed"
    },
    "tags": []
   },
   "source": [
    "From the command line run `pip install mnist`. This is a library that will help you bring down the mnist dataset. If you run this from a notebook, you need to put  `!pip install mnist` in a cell by itself."
   ]
  },
  {
   "cell_type": "code",
   "execution_count": 3,
   "id": "bb6ad8a1",
   "metadata": {
    "execution": {
     "iopub.execute_input": "2021-11-03T00:21:58.970138Z",
     "iopub.status.busy": "2021-11-03T00:21:58.965135Z",
     "iopub.status.idle": "2021-11-03T00:22:01.982493Z",
     "shell.execute_reply": "2021-11-03T00:22:01.983064Z"
    },
    "papermill": {
     "duration": 3.065617,
     "end_time": "2021-11-03T00:22:01.983237",
     "exception": false,
     "start_time": "2021-11-03T00:21:58.917620",
     "status": "completed"
    },
    "tags": []
   },
   "outputs": [
    {
     "name": "stdout",
     "output_type": "stream",
     "text": [
      "Collecting mnist\r\n"
     ]
    },
    {
     "name": "stdout",
     "output_type": "stream",
     "text": [
      "  Downloading mnist-0.2.2-py2.py3-none-any.whl (3.5 kB)\r\n",
      "Requirement already satisfied: numpy in /opt/hostedtoolcache/Python/3.6.15/x64/lib/python3.6/site-packages (from mnist) (1.19.5)\r\n"
     ]
    },
    {
     "name": "stdout",
     "output_type": "stream",
     "text": [
      "Installing collected packages: mnist\r\n",
      "Successfully installed mnist-0.2.2\r\n"
     ]
    },
    {
     "name": "stdout",
     "output_type": "stream",
     "text": [
      "\u001b[33mWARNING: You are using pip version 21.3; however, version 21.3.1 is available.\r\n",
      "You should consider upgrading via the '/opt/hostedtoolcache/Python/3.6.15/x64/bin/python -m pip install --upgrade pip' command.\u001b[0m\r\n"
     ]
    }
   ],
   "source": [
    "!pip install mnist"
   ]
  },
  {
   "cell_type": "markdown",
   "id": "69df9c9a",
   "metadata": {
    "papermill": {
     "duration": 0.030623,
     "end_time": "2021-11-03T00:22:02.045716",
     "exception": false,
     "start_time": "2021-11-03T00:22:02.015093",
     "status": "completed"
    },
    "tags": []
   },
   "source": [
    "## Preparing the Data"
   ]
  },
  {
   "cell_type": "code",
   "execution_count": 4,
   "id": "7f69d806",
   "metadata": {
    "execution": {
     "iopub.execute_input": "2021-11-03T00:22:02.130183Z",
     "iopub.status.busy": "2021-11-03T00:22:02.129050Z",
     "iopub.status.idle": "2021-11-03T00:22:02.134906Z",
     "shell.execute_reply": "2021-11-03T00:22:02.133664Z"
    },
    "papermill": {
     "duration": 0.058276,
     "end_time": "2021-11-03T00:22:02.135049",
     "exception": false,
     "start_time": "2021-11-03T00:22:02.076773",
     "status": "completed"
    },
    "tags": []
   },
   "outputs": [],
   "source": [
    "import mnist"
   ]
  },
  {
   "cell_type": "code",
   "execution_count": 5,
   "id": "a411e44f",
   "metadata": {
    "execution": {
     "iopub.execute_input": "2021-11-03T00:22:02.201173Z",
     "iopub.status.busy": "2021-11-03T00:22:02.200521Z",
     "iopub.status.idle": "2021-11-03T00:22:02.824268Z",
     "shell.execute_reply": "2021-11-03T00:22:02.823640Z"
    },
    "papermill": {
     "duration": 0.658133,
     "end_time": "2021-11-03T00:22:02.824429",
     "exception": false,
     "start_time": "2021-11-03T00:22:02.166296",
     "status": "completed"
    },
    "tags": []
   },
   "outputs": [],
   "source": [
    "train_images = mnist.train_images()\n",
    "train_labels = mnist.train_labels()"
   ]
  },
  {
   "cell_type": "code",
   "execution_count": 6,
   "id": "dceab3a5",
   "metadata": {
    "execution": {
     "iopub.execute_input": "2021-11-03T00:22:02.890484Z",
     "iopub.status.busy": "2021-11-03T00:22:02.889834Z",
     "iopub.status.idle": "2021-11-03T00:22:02.906124Z",
     "shell.execute_reply": "2021-11-03T00:22:02.906657Z"
    },
    "papermill": {
     "duration": 0.0511,
     "end_time": "2021-11-03T00:22:02.906802",
     "exception": false,
     "start_time": "2021-11-03T00:22:02.855702",
     "status": "completed"
    },
    "tags": []
   },
   "outputs": [
    {
     "data": {
      "text/plain": [
       "((60000, 28, 28), (60000,))"
      ]
     },
     "execution_count": 6,
     "metadata": {},
     "output_type": "execute_result"
    }
   ],
   "source": [
    "train_images.shape, train_labels.shape"
   ]
  },
  {
   "cell_type": "code",
   "execution_count": 7,
   "id": "f50dc2bb",
   "metadata": {
    "execution": {
     "iopub.execute_input": "2021-11-03T00:22:02.973262Z",
     "iopub.status.busy": "2021-11-03T00:22:02.972468Z",
     "iopub.status.idle": "2021-11-03T00:22:03.202644Z",
     "shell.execute_reply": "2021-11-03T00:22:03.202063Z"
    },
    "papermill": {
     "duration": 0.26413,
     "end_time": "2021-11-03T00:22:03.202800",
     "exception": false,
     "start_time": "2021-11-03T00:22:02.938670",
     "status": "completed"
    },
    "tags": []
   },
   "outputs": [],
   "source": [
    "test_images = mnist.test_images()\n",
    "test_labels = mnist.test_labels()"
   ]
  },
  {
   "cell_type": "code",
   "execution_count": 8,
   "id": "fc38cf1b",
   "metadata": {
    "execution": {
     "iopub.execute_input": "2021-11-03T00:22:03.271363Z",
     "iopub.status.busy": "2021-11-03T00:22:03.269947Z",
     "iopub.status.idle": "2021-11-03T00:22:03.286537Z",
     "shell.execute_reply": "2021-11-03T00:22:03.286010Z"
    },
    "papermill": {
     "duration": 0.051972,
     "end_time": "2021-11-03T00:22:03.286670",
     "exception": false,
     "start_time": "2021-11-03T00:22:03.234698",
     "status": "completed"
    },
    "tags": []
   },
   "outputs": [
    {
     "data": {
      "text/plain": [
       "((10000, 28, 28), (10000,))"
      ]
     },
     "execution_count": 8,
     "metadata": {},
     "output_type": "execute_result"
    }
   ],
   "source": [
    "test_images.shape, test_labels.shape"
   ]
  },
  {
   "cell_type": "code",
   "execution_count": 9,
   "id": "f9ed8fe0",
   "metadata": {
    "execution": {
     "iopub.execute_input": "2021-11-03T00:22:03.369655Z",
     "iopub.status.busy": "2021-11-03T00:22:03.361120Z",
     "iopub.status.idle": "2021-11-03T00:22:03.537986Z",
     "shell.execute_reply": "2021-11-03T00:22:03.538530Z"
    },
    "papermill": {
     "duration": 0.220455,
     "end_time": "2021-11-03T00:22:03.538701",
     "exception": false,
     "start_time": "2021-11-03T00:22:03.318246",
     "status": "completed"
    },
    "tags": []
   },
   "outputs": [
    {
     "name": "stdout",
     "output_type": "stream",
     "text": [
      "2\n"
     ]
    },
    {
     "data": {
      "text/plain": [
       "<matplotlib.image.AxesImage at 0x7fcd46a4e160>"
      ]
     },
     "execution_count": 9,
     "metadata": {},
     "output_type": "execute_result"
    },
    {
     "data": {
      "image/png": "[encoded data removed]",
      "text/plain": [
       "<Figure size 432x288 with 1 Axes>"
      ]
     },
     "metadata": {
      "needs_background": "light"
     },
     "output_type": "display_data"
    }
   ],
   "source": [
    "image_index = 7776 # You may select anything up to 60,000\n",
    "print(train_labels[image_index]) \n",
    "plt.imshow(train_images[image_index], cmap='Greys')"
   ]
  },
  {
   "cell_type": "markdown",
   "id": "a8d2388d",
   "metadata": {
    "papermill": {
     "duration": 0.033084,
     "end_time": "2021-11-03T00:22:03.605254",
     "exception": false,
     "start_time": "2021-11-03T00:22:03.572170",
     "status": "completed"
    },
    "tags": []
   },
   "source": [
    "## Filter data to get 3 and 8 out"
   ]
  },
  {
   "cell_type": "code",
   "execution_count": 10,
   "id": "776f7fc7",
   "metadata": {
    "execution": {
     "iopub.execute_input": "2021-11-03T00:22:03.692756Z",
     "iopub.status.busy": "2021-11-03T00:22:03.689375Z",
     "iopub.status.idle": "2021-11-03T00:22:03.701093Z",
     "shell.execute_reply": "2021-11-03T00:22:03.700541Z"
    },
    "papermill": {
     "duration": 0.0625,
     "end_time": "2021-11-03T00:22:03.701243",
     "exception": false,
     "start_time": "2021-11-03T00:22:03.638743",
     "status": "completed"
    },
    "tags": []
   },
   "outputs": [],
   "source": [
    "train_filter = np.where((train_labels == 3 ) | (train_labels == 8))\n",
    "test_filter = np.where((test_labels == 3) | (test_labels == 8))\n",
    "X_train, y_train = train_images[train_filter], train_labels[train_filter]\n",
    "X_test, y_test = test_images[test_filter], test_labels[test_filter]"
   ]
  },
  {
   "cell_type": "markdown",
   "id": "948f0b7e",
   "metadata": {
    "papermill": {
     "duration": 0.032893,
     "end_time": "2021-11-03T00:22:03.768094",
     "exception": false,
     "start_time": "2021-11-03T00:22:03.735201",
     "status": "completed"
    },
    "tags": []
   },
   "source": [
    "We normalize the pizel values in the 0 to 1 range"
   ]
  },
  {
   "cell_type": "code",
   "execution_count": 11,
   "id": "ee4c2166",
   "metadata": {
    "execution": {
     "iopub.execute_input": "2021-11-03T00:22:03.848157Z",
     "iopub.status.busy": "2021-11-03T00:22:03.847453Z",
     "iopub.status.idle": "2021-11-03T00:22:03.908970Z",
     "shell.execute_reply": "2021-11-03T00:22:03.908390Z"
    },
    "papermill": {
     "duration": 0.10365,
     "end_time": "2021-11-03T00:22:03.909127",
     "exception": false,
     "start_time": "2021-11-03T00:22:03.805477",
     "status": "completed"
    },
    "tags": []
   },
   "outputs": [],
   "source": [
    "X_train = X_train/255.\n",
    "X_test = X_test/255."
   ]
  },
  {
   "cell_type": "markdown",
   "id": "ddcf4fab",
   "metadata": {
    "papermill": {
     "duration": 0.035167,
     "end_time": "2021-11-03T00:22:03.979690",
     "exception": false,
     "start_time": "2021-11-03T00:22:03.944523",
     "status": "completed"
    },
    "tags": []
   },
   "source": [
    "And setup the labels as 1 (when the digit is 3) and 0 (when the digit is 8)"
   ]
  },
  {
   "cell_type": "code",
   "execution_count": 12,
   "id": "7dc908f2",
   "metadata": {
    "execution": {
     "iopub.execute_input": "2021-11-03T00:22:04.060283Z",
     "iopub.status.busy": "2021-11-03T00:22:04.055101Z",
     "iopub.status.idle": "2021-11-03T00:22:04.066661Z",
     "shell.execute_reply": "2021-11-03T00:22:04.066107Z"
    },
    "papermill": {
     "duration": 0.054737,
     "end_time": "2021-11-03T00:22:04.066800",
     "exception": false,
     "start_time": "2021-11-03T00:22:04.012063",
     "status": "completed"
    },
    "tags": []
   },
   "outputs": [],
   "source": [
    "y_train = 1*(y_train==3)\n",
    "y_test = 1*(y_test==3)"
   ]
  },
  {
   "cell_type": "code",
   "execution_count": 13,
   "id": "01e4e969",
   "metadata": {
    "execution": {
     "iopub.execute_input": "2021-11-03T00:22:04.140920Z",
     "iopub.status.busy": "2021-11-03T00:22:04.140275Z",
     "iopub.status.idle": "2021-11-03T00:22:04.154313Z",
     "shell.execute_reply": "2021-11-03T00:22:04.154845Z"
    },
    "papermill": {
     "duration": 0.053359,
     "end_time": "2021-11-03T00:22:04.155007",
     "exception": false,
     "start_time": "2021-11-03T00:22:04.101648",
     "status": "completed"
    },
    "tags": []
   },
   "outputs": [
    {
     "data": {
      "text/plain": [
       "((11982, 28, 28), (1984, 28, 28))"
      ]
     },
     "execution_count": 13,
     "metadata": {},
     "output_type": "execute_result"
    }
   ],
   "source": [
    "X_train.shape, X_test.shape"
   ]
  },
  {
   "cell_type": "markdown",
   "id": "5ccf3f85",
   "metadata": {
    "papermill": {
     "duration": 0.036884,
     "end_time": "2021-11-03T00:22:04.227334",
     "exception": false,
     "start_time": "2021-11-03T00:22:04.190450",
     "status": "completed"
    },
    "tags": []
   },
   "source": [
    "We reshape the data to flatten the image pixels into a set of features or co-variates:"
   ]
  },
  {
   "cell_type": "code",
   "execution_count": 14,
   "id": "5286a4a3",
   "metadata": {
    "execution": {
     "iopub.execute_input": "2021-11-03T00:22:04.300181Z",
     "iopub.status.busy": "2021-11-03T00:22:04.299400Z",
     "iopub.status.idle": "2021-11-03T00:22:04.316329Z",
     "shell.execute_reply": "2021-11-03T00:22:04.315738Z"
    },
    "papermill": {
     "duration": 0.055445,
     "end_time": "2021-11-03T00:22:04.316472",
     "exception": false,
     "start_time": "2021-11-03T00:22:04.261027",
     "status": "completed"
    },
    "tags": []
   },
   "outputs": [
    {
     "data": {
      "text/plain": [
       "((11982, 784), (1984, 784))"
      ]
     },
     "execution_count": 14,
     "metadata": {},
     "output_type": "execute_result"
    }
   ],
   "source": [
    "X_train = X_train.reshape(X_train.shape[0], -1)\n",
    "X_test = X_test.reshape(X_test.shape[0], -1)\n",
    "X_train.shape, X_test.shape"
   ]
  },
  {
   "cell_type": "code",
   "execution_count": 15,
   "id": "73c5f88a",
   "metadata": {
    "execution": {
     "iopub.execute_input": "2021-11-03T00:22:04.402947Z",
     "iopub.status.busy": "2021-11-03T00:22:04.395503Z",
     "iopub.status.idle": "2021-11-03T00:22:04.414039Z",
     "shell.execute_reply": "2021-11-03T00:22:04.414576Z"
    },
    "papermill": {
     "duration": 0.063466,
     "end_time": "2021-11-03T00:22:04.414734",
     "exception": false,
     "start_time": "2021-11-03T00:22:04.351268",
     "status": "completed"
    },
    "tags": []
   },
   "outputs": [],
   "source": [
    "#Impoting functions from 'Kudzu'\n",
    "from kudzu.model import Model\n",
    "from kudzu.train import Learner\n",
    "from kudzu.optim import GD\n",
    "from kudzu.data import Data, Sampler,Dataloader\n",
    "\n",
    "from kudzu.callbacks import AccCallback\n",
    "from kudzu.callbacks import ClfCallback\n",
    "\n",
    "from kudzu.loss import MSE\n",
    "\n",
    "from kudzu.layer import Sigmoid,Relu\n",
    "from kudzu.layer import Affine"
   ]
  },
  {
   "cell_type": "markdown",
   "id": "bc01172a",
   "metadata": {
    "papermill": {
     "duration": 0.034253,
     "end_time": "2021-11-03T00:22:04.482621",
     "exception": false,
     "start_time": "2021-11-03T00:22:04.448368",
     "status": "completed"
    },
    "tags": []
   },
   "source": [
    "### Let us create a `Config` class, to store important parameters. \n",
    "This class essentially plays the role of a dictionary."
   ]
  },
  {
   "cell_type": "code",
   "execution_count": 16,
   "id": "978281aa",
   "metadata": {
    "execution": {
     "iopub.execute_input": "2021-11-03T00:22:04.555768Z",
     "iopub.status.busy": "2021-11-03T00:22:04.555105Z",
     "iopub.status.idle": "2021-11-03T00:22:04.568186Z",
     "shell.execute_reply": "2021-11-03T00:22:04.568755Z"
    },
    "papermill": {
     "duration": 0.052623,
     "end_time": "2021-11-03T00:22:04.568905",
     "exception": false,
     "start_time": "2021-11-03T00:22:04.516282",
     "status": "completed"
    },
    "tags": []
   },
   "outputs": [],
   "source": [
    "class Config:\n",
    "    pass\n",
    "config = Config()\n",
    "config.lr = 0.001\n",
    "config.num_epochs = 250\n",
    "config.bs = 50"
   ]
  },
  {
   "cell_type": "markdown",
   "id": "1385fa59",
   "metadata": {
    "papermill": {
     "duration": 0.033353,
     "end_time": "2021-11-03T00:22:04.636035",
     "exception": false,
     "start_time": "2021-11-03T00:22:04.602682",
     "status": "completed"
    },
    "tags": []
   },
   "source": [
    "### Running Models with the Training data\n",
    "Details about the network layers:\n",
    "- A first affine layer has 784 inputs and does 100 affine transforms. These are followed by a Relu\n",
    "- A second affine layer has 100 inputs from the 100 activations of the past layer, and does 100 affine transforms. These are followed by a Relu\n",
    "- A third affine layer has 100 activations and does 2 affine transformations to create an embedding for visualization. There is no non-linearity here.\n",
    "- A final \"logistic regression\" which has an affine transform from 2 inputs to 1 output, which is squeezed through a sigmoid.\n"
   ]
  },
  {
   "cell_type": "code",
   "execution_count": 17,
   "id": "2b9c66db",
   "metadata": {
    "execution": {
     "iopub.execute_input": "2021-11-03T00:22:04.709574Z",
     "iopub.status.busy": "2021-11-03T00:22:04.708899Z",
     "iopub.status.idle": "2021-11-03T00:22:04.722333Z",
     "shell.execute_reply": "2021-11-03T00:22:04.722958Z"
    },
    "papermill": {
     "duration": 0.052334,
     "end_time": "2021-11-03T00:22:04.723119",
     "exception": false,
     "start_time": "2021-11-03T00:22:04.670785",
     "status": "completed"
    },
    "tags": []
   },
   "outputs": [],
   "source": [
    "data = Data(X_train, y_train.reshape(-1,1))\n",
    "sampler = Sampler(data, config.bs, shuffle=True)\n",
    "\n",
    "dl = Dataloader(data, sampler)\n",
    "\n",
    "opt = GD(config.lr)\n",
    "loss = MSE()"
   ]
  },
  {
   "cell_type": "code",
   "execution_count": 18,
   "id": "b275e4c2",
   "metadata": {
    "execution": {
     "iopub.execute_input": "2021-11-03T00:22:04.799108Z",
     "iopub.status.busy": "2021-11-03T00:22:04.798448Z",
     "iopub.status.idle": "2021-11-03T00:22:04.810146Z",
     "shell.execute_reply": "2021-11-03T00:22:04.809580Z"
    },
    "papermill": {
     "duration": 0.052863,
     "end_time": "2021-11-03T00:22:04.810286",
     "exception": false,
     "start_time": "2021-11-03T00:22:04.757423",
     "status": "completed"
    },
    "tags": []
   },
   "outputs": [],
   "source": [
    "training_data_x = X_train\n",
    "testing_data_x = X_test\n",
    "training_data_y = y_train.reshape(-1,1)\n",
    "testing_data_y = y_test.reshape(-1,1)"
   ]
  },
  {
   "cell_type": "code",
   "execution_count": 19,
   "id": "76951160",
   "metadata": {
    "execution": {
     "iopub.execute_input": "2021-11-03T00:22:04.888268Z",
     "iopub.status.busy": "2021-11-03T00:22:04.887368Z",
     "iopub.status.idle": "2021-11-03T00:22:04.905109Z",
     "shell.execute_reply": "2021-11-03T00:22:04.905653Z"
    },
    "papermill": {
     "duration": 0.060143,
     "end_time": "2021-11-03T00:22:04.905810",
     "exception": false,
     "start_time": "2021-11-03T00:22:04.845667",
     "status": "completed"
    },
    "tags": []
   },
   "outputs": [
    {
     "name": "stdout",
     "output_type": "stream",
     "text": [
      "xavier\n",
      "xavier\n",
      "xavier\n",
      "xavier\n",
      "xavier\n"
     ]
    }
   ],
   "source": [
    "layers = [Affine(\"first\", 784, 100), Relu(\"first\"), Affine(\"second\", 100, 100), Relu(\"second\"), Affine(\"third\", 100, 2), Affine(\"last\", 2, 1), Sigmoid(\"last\")]\n",
    "model_nn = Model(layers)\n",
    "model_lr = Model([Affine(\"logits\", 784, 1), Sigmoid(\"sigmoid\")])"
   ]
  },
  {
   "cell_type": "code",
   "execution_count": 20,
   "id": "6eede77a",
   "metadata": {
    "execution": {
     "iopub.execute_input": "2021-11-03T00:22:04.981419Z",
     "iopub.status.busy": "2021-11-03T00:22:04.980756Z",
     "iopub.status.idle": "2021-11-03T00:22:04.993481Z",
     "shell.execute_reply": "2021-11-03T00:22:04.994119Z"
    },
    "papermill": {
     "duration": 0.052528,
     "end_time": "2021-11-03T00:22:04.994270",
     "exception": false,
     "start_time": "2021-11-03T00:22:04.941742",
     "status": "completed"
    },
    "tags": []
   },
   "outputs": [],
   "source": [
    "nn_learner = Learner(loss, model_nn, opt, config.num_epochs)\n",
    "acc_nn = ClfCallback(nn_learner, config.bs, training_data_x , testing_data_x, training_data_y, testing_data_y)\n",
    "nn_learner.set_callbacks([acc_nn])"
   ]
  },
  {
   "cell_type": "code",
   "execution_count": 21,
   "id": "877b6cc7",
   "metadata": {
    "execution": {
     "iopub.execute_input": "2021-11-03T00:22:05.068516Z",
     "iopub.status.busy": "2021-11-03T00:22:05.067807Z",
     "iopub.status.idle": "2021-11-03T00:22:05.080865Z",
     "shell.execute_reply": "2021-11-03T00:22:05.081480Z"
    },
    "papermill": {
     "duration": 0.053546,
     "end_time": "2021-11-03T00:22:05.081634",
     "exception": false,
     "start_time": "2021-11-03T00:22:05.028088",
     "status": "completed"
    },
    "tags": []
   },
   "outputs": [],
   "source": [
    "lr_learner = Learner(loss, model_lr, opt, config.num_epochs)\n",
    "acc_lr = ClfCallback(lr_learner, config.bs, training_data_x , testing_data_x, training_data_y, testing_data_y)\n",
    "lr_learner.set_callbacks([acc_lr])"
   ]
  },
  {
   "cell_type": "code",
   "execution_count": 22,
   "id": "d9b133c3",
   "metadata": {
    "execution": {
     "iopub.execute_input": "2021-11-03T00:22:05.158112Z",
     "iopub.status.busy": "2021-11-03T00:22:05.157451Z",
     "iopub.status.idle": "2021-11-03T00:24:09.971913Z",
     "shell.execute_reply": "2021-11-03T00:24:09.972791Z"
    },
    "papermill": {
     "duration": 124.855307,
     "end_time": "2021-11-03T00:24:09.972966",
     "exception": false,
     "start_time": "2021-11-03T00:22:05.117659",
     "status": "completed"
    },
    "tags": []
   },
   "outputs": [
    {
     "name": "stdout",
     "output_type": "stream",
     "text": [
      "Epoch 0, Loss 0.2618\n",
      "Training Accuracy: 0.5102, Testing Accuracy: 0.5071\n",
      "\n"
     ]
    },
    {
     "name": "stdout",
     "output_type": "stream",
     "text": [
      "Epoch 10, Loss 0.1151\n",
      "Training Accuracy: 0.9218, Testing Accuracy: 0.9284\n",
      "\n"
     ]
    },
    {
     "name": "stdout",
     "output_type": "stream",
     "text": [
      "Epoch 20, Loss 0.0642\n",
      "Training Accuracy: 0.9385, Testing Accuracy: 0.9425\n",
      "\n"
     ]
    },
    {
     "name": "stdout",
     "output_type": "stream",
     "text": [
      "Epoch 30, Loss 0.049\n",
      "Training Accuracy: 0.9471, Testing Accuracy: 0.9556\n",
      "\n"
     ]
    },
    {
     "name": "stdout",
     "output_type": "stream",
     "text": [
      "Epoch 40, Loss 0.0417\n",
      "Training Accuracy: 0.9526, Testing Accuracy: 0.9622\n",
      "\n"
     ]
    },
    {
     "name": "stdout",
     "output_type": "stream",
     "text": [
      "Epoch 50, Loss 0.0373\n",
      "Training Accuracy: 0.9569, Testing Accuracy: 0.9657\n",
      "\n"
     ]
    },
    {
     "name": "stdout",
     "output_type": "stream",
     "text": [
      "Epoch 60, Loss 0.0344\n",
      "Training Accuracy: 0.9608, Testing Accuracy: 0.9677\n",
      "\n"
     ]
    },
    {
     "name": "stdout",
     "output_type": "stream",
     "text": [
      "Epoch 70, Loss 0.0322\n",
      "Training Accuracy: 0.9630, Testing Accuracy: 0.9703\n",
      "\n"
     ]
    },
    {
     "name": "stdout",
     "output_type": "stream",
     "text": [
      "Epoch 80, Loss 0.0306\n",
      "Training Accuracy: 0.9654, Testing Accuracy: 0.9713\n",
      "\n"
     ]
    },
    {
     "name": "stdout",
     "output_type": "stream",
     "text": [
      "Epoch 90, Loss 0.0292\n",
      "Training Accuracy: 0.9666, Testing Accuracy: 0.9703\n",
      "\n"
     ]
    },
    {
     "name": "stdout",
     "output_type": "stream",
     "text": [
      "Epoch 100, Loss 0.028\n",
      "Training Accuracy: 0.9671, Testing Accuracy: 0.9698\n",
      "\n"
     ]
    },
    {
     "name": "stdout",
     "output_type": "stream",
     "text": [
      "Epoch 110, Loss 0.027\n",
      "Training Accuracy: 0.9686, Testing Accuracy: 0.9708\n",
      "\n"
     ]
    },
    {
     "name": "stdout",
     "output_type": "stream",
     "text": [
      "Epoch 120, Loss 0.0261\n",
      "Training Accuracy: 0.9699, Testing Accuracy: 0.9708\n",
      "\n"
     ]
    },
    {
     "name": "stdout",
     "output_type": "stream",
     "text": [
      "Epoch 130, Loss 0.0252\n",
      "Training Accuracy: 0.9710, Testing Accuracy: 0.9718\n",
      "\n"
     ]
    },
    {
     "name": "stdout",
     "output_type": "stream",
     "text": [
      "Epoch 140, Loss 0.0245\n",
      "Training Accuracy: 0.9721, Testing Accuracy: 0.9713\n",
      "\n"
     ]
    },
    {
     "name": "stdout",
     "output_type": "stream",
     "text": [
      "Epoch 150, Loss 0.0238\n",
      "Training Accuracy: 0.9730, Testing Accuracy: 0.9708\n",
      "\n"
     ]
    },
    {
     "name": "stdout",
     "output_type": "stream",
     "text": [
      "Epoch 160, Loss 0.0232\n",
      "Training Accuracy: 0.9736, Testing Accuracy: 0.9718\n",
      "\n"
     ]
    },
    {
     "name": "stdout",
     "output_type": "stream",
     "text": [
      "Epoch 170, Loss 0.0226\n",
      "Training Accuracy: 0.9752, Testing Accuracy: 0.9718\n",
      "\n"
     ]
    },
    {
     "name": "stdout",
     "output_type": "stream",
     "text": [
      "Epoch 180, Loss 0.022\n",
      "Training Accuracy: 0.9759, Testing Accuracy: 0.9713\n",
      "\n"
     ]
    },
    {
     "name": "stdout",
     "output_type": "stream",
     "text": [
      "Epoch 190, Loss 0.0215\n",
      "Training Accuracy: 0.9767, Testing Accuracy: 0.9723\n",
      "\n"
     ]
    },
    {
     "name": "stdout",
     "output_type": "stream",
     "text": [
      "Epoch 200, Loss 0.021\n",
      "Training Accuracy: 0.9775, Testing Accuracy: 0.9738\n",
      "\n"
     ]
    },
    {
     "name": "stdout",
     "output_type": "stream",
     "text": [
      "Epoch 210, Loss 0.0205\n",
      "Training Accuracy: 0.9777, Testing Accuracy: 0.9738\n",
      "\n"
     ]
    },
    {
     "name": "stdout",
     "output_type": "stream",
     "text": [
      "Epoch 220, Loss 0.0201\n",
      "Training Accuracy: 0.9782, Testing Accuracy: 0.9738\n",
      "\n"
     ]
    },
    {
     "name": "stdout",
     "output_type": "stream",
     "text": [
      "Epoch 230, Loss 0.0196\n",
      "Training Accuracy: 0.9789, Testing Accuracy: 0.9738\n",
      "\n"
     ]
    },
    {
     "name": "stdout",
     "output_type": "stream",
     "text": [
      "Epoch 240, Loss 0.0192\n",
      "Training Accuracy: 0.9788, Testing Accuracy: 0.9738\n",
      "\n"
     ]
    },
    {
     "data": {
      "text/plain": [
       "0.03177044950976925"
      ]
     },
     "execution_count": 22,
     "metadata": {},
     "output_type": "execute_result"
    }
   ],
   "source": [
    "nn_learner.train_loop(dl)"
   ]
  },
  {
   "cell_type": "code",
   "execution_count": 23,
   "id": "e0163366",
   "metadata": {
    "execution": {
     "iopub.execute_input": "2021-11-03T00:24:10.073534Z",
     "iopub.status.busy": "2021-11-03T00:24:10.072873Z",
     "iopub.status.idle": "2021-11-03T00:24:28.034049Z",
     "shell.execute_reply": "2021-11-03T00:24:28.034910Z"
    },
    "papermill": {
     "duration": 18.018963,
     "end_time": "2021-11-03T00:24:28.035085",
     "exception": false,
     "start_time": "2021-11-03T00:24:10.016122",
     "status": "completed"
    },
    "tags": []
   },
   "outputs": [
    {
     "name": "stdout",
     "output_type": "stream",
     "text": [
      "Epoch 0, Loss 0.2201\n",
      "Training Accuracy: 0.7500, Testing Accuracy: 0.7314\n",
      "\n"
     ]
    },
    {
     "name": "stdout",
     "output_type": "stream",
     "text": [
      "Epoch 10, Loss 0.1005\n",
      "Training Accuracy: 0.9105, Testing Accuracy: 0.9189\n",
      "\n"
     ]
    },
    {
     "name": "stdout",
     "output_type": "stream",
     "text": [
      "Epoch 20, Loss 0.0777\n",
      "Training Accuracy: 0.9299, Testing Accuracy: 0.9380\n",
      "\n"
     ]
    },
    {
     "name": "stdout",
     "output_type": "stream",
     "text": [
      "Epoch 30, Loss 0.0672\n",
      "Training Accuracy: 0.9375, Testing Accuracy: 0.9466\n",
      "\n"
     ]
    },
    {
     "name": "stdout",
     "output_type": "stream",
     "text": [
      "Epoch 40, Loss 0.0609\n",
      "Training Accuracy: 0.9415, Testing Accuracy: 0.9516\n",
      "\n"
     ]
    },
    {
     "name": "stdout",
     "output_type": "stream",
     "text": [
      "Epoch 50, Loss 0.0566\n",
      "Training Accuracy: 0.9441, Testing Accuracy: 0.9531\n",
      "\n"
     ]
    },
    {
     "name": "stdout",
     "output_type": "stream",
     "text": [
      "Epoch 60, Loss 0.0534\n",
      "Training Accuracy: 0.9462, Testing Accuracy: 0.9567\n",
      "\n"
     ]
    },
    {
     "name": "stdout",
     "output_type": "stream",
     "text": [
      "Epoch 70, Loss 0.0509\n",
      "Training Accuracy: 0.9486, Testing Accuracy: 0.9582\n",
      "\n"
     ]
    },
    {
     "name": "stdout",
     "output_type": "stream",
     "text": [
      "Epoch 80, Loss 0.0489\n",
      "Training Accuracy: 0.9495, Testing Accuracy: 0.9597\n",
      "\n"
     ]
    },
    {
     "name": "stdout",
     "output_type": "stream",
     "text": [
      "Epoch 90, Loss 0.0473\n",
      "Training Accuracy: 0.9509, Testing Accuracy: 0.9607\n",
      "\n"
     ]
    },
    {
     "name": "stdout",
     "output_type": "stream",
     "text": [
      "Epoch 100, Loss 0.0459\n",
      "Training Accuracy: 0.9523, Testing Accuracy: 0.9617\n",
      "\n"
     ]
    },
    {
     "name": "stdout",
     "output_type": "stream",
     "text": [
      "Epoch 110, Loss 0.0447\n",
      "Training Accuracy: 0.9533, Testing Accuracy: 0.9627\n",
      "\n"
     ]
    },
    {
     "name": "stdout",
     "output_type": "stream",
     "text": [
      "Epoch 120, Loss 0.0437\n",
      "Training Accuracy: 0.9546, Testing Accuracy: 0.9627\n",
      "\n"
     ]
    },
    {
     "name": "stdout",
     "output_type": "stream",
     "text": [
      "Epoch 130, Loss 0.0428\n",
      "Training Accuracy: 0.9553, Testing Accuracy: 0.9637\n",
      "\n"
     ]
    },
    {
     "name": "stdout",
     "output_type": "stream",
     "text": [
      "Epoch 140, Loss 0.042\n",
      "Training Accuracy: 0.9561, Testing Accuracy: 0.9637\n",
      "\n"
     ]
    },
    {
     "name": "stdout",
     "output_type": "stream",
     "text": [
      "Epoch 150, Loss 0.0412\n",
      "Training Accuracy: 0.9569, Testing Accuracy: 0.9647\n",
      "\n"
     ]
    },
    {
     "name": "stdout",
     "output_type": "stream",
     "text": [
      "Epoch 160, Loss 0.0406\n",
      "Training Accuracy: 0.9571, Testing Accuracy: 0.9652\n",
      "\n"
     ]
    },
    {
     "name": "stdout",
     "output_type": "stream",
     "text": [
      "Epoch 170, Loss 0.04\n",
      "Training Accuracy: 0.9579, Testing Accuracy: 0.9652\n",
      "\n"
     ]
    },
    {
     "name": "stdout",
     "output_type": "stream",
     "text": [
      "Epoch 180, Loss 0.0394\n",
      "Training Accuracy: 0.9584, Testing Accuracy: 0.9657\n",
      "\n"
     ]
    },
    {
     "name": "stdout",
     "output_type": "stream",
     "text": [
      "Epoch 190, Loss 0.0389\n",
      "Training Accuracy: 0.9585, Testing Accuracy: 0.9662\n",
      "\n"
     ]
    },
    {
     "name": "stdout",
     "output_type": "stream",
     "text": [
      "Epoch 200, Loss 0.0384\n",
      "Training Accuracy: 0.9589, Testing Accuracy: 0.9667\n",
      "\n"
     ]
    },
    {
     "name": "stdout",
     "output_type": "stream",
     "text": [
      "Epoch 210, Loss 0.038\n",
      "Training Accuracy: 0.9593, Testing Accuracy: 0.9677\n",
      "\n"
     ]
    },
    {
     "name": "stdout",
     "output_type": "stream",
     "text": [
      "Epoch 220, Loss 0.0376\n",
      "Training Accuracy: 0.9597, Testing Accuracy: 0.9682\n",
      "\n"
     ]
    },
    {
     "name": "stdout",
     "output_type": "stream",
     "text": [
      "Epoch 230, Loss 0.0372\n",
      "Training Accuracy: 0.9600, Testing Accuracy: 0.9688\n",
      "\n"
     ]
    },
    {
     "name": "stdout",
     "output_type": "stream",
     "text": [
      "Epoch 240, Loss 0.0369\n",
      "Training Accuracy: 0.9604, Testing Accuracy: 0.9688\n",
      "\n"
     ]
    },
    {
     "data": {
      "text/plain": [
       "0.01556937664755935"
      ]
     },
     "execution_count": 23,
     "metadata": {},
     "output_type": "execute_result"
    }
   ],
   "source": [
    "lr_learner.train_loop(dl)"
   ]
  },
  {
   "cell_type": "code",
   "execution_count": 24,
   "id": "ca410940",
   "metadata": {
    "execution": {
     "iopub.execute_input": "2021-11-03T00:24:28.149406Z",
     "iopub.status.busy": "2021-11-03T00:24:28.148734Z",
     "iopub.status.idle": "2021-11-03T00:24:28.440464Z",
     "shell.execute_reply": "2021-11-03T00:24:28.439872Z"
    },
    "papermill": {
     "duration": 0.347236,
     "end_time": "2021-11-03T00:24:28.440620",
     "exception": false,
     "start_time": "2021-11-03T00:24:28.093384",
     "status": "completed"
    },
    "tags": []
   },
   "outputs": [
    {
     "data": {
      "text/plain": [
       "<matplotlib.legend.Legend at 0x7fcd465b0780>"
      ]
     },
     "execution_count": 24,
     "metadata": {},
     "output_type": "execute_result"
    },
    {
     "data": {
      "image/png": "[encoded data removed]",
      "text/plain": [
       "<Figure size 1080x720 with 1 Axes>"
      ]
     },
     "metadata": {
      "needs_background": "light"
     },
     "output_type": "display_data"
    }
   ],
   "source": [
    "#comparing the results of NN and LR\n",
    "plt.figure(figsize=(15,10))\n",
    "\n",
    "# Neural Network plots\n",
    "plt.plot(acc_nn.accuracies, 'r-', label = \"Training Accuracies - NN\")\n",
    "plt.plot(acc_nn.test_accuracies, 'g-', label = \"Testing Accuracies - NN\")\n",
    "\n",
    "# Logistic Regression plots\n",
    "plt.plot(acc_lr.accuracies, 'k-', label = \"Training Accuracies - LR\")\n",
    "plt.plot(acc_lr.test_accuracies, 'b-', label = \"Testing Accuracies - LR\")\n",
    "plt.legend()"
   ]
  },
  {
   "cell_type": "markdown",
   "id": "80dfb35c",
   "metadata": {
    "papermill": {
     "duration": 0.052855,
     "end_time": "2021-11-03T00:24:28.547195",
     "exception": false,
     "start_time": "2021-11-03T00:24:28.494340",
     "status": "completed"
    },
    "tags": []
   },
   "source": [
    "#### Plotting the outputs of this layer of the NN.\n"
   ]
  },
  {
   "cell_type": "code",
   "execution_count": 25,
   "id": "45eb2ff5",
   "metadata": {
    "execution": {
     "iopub.execute_input": "2021-11-03T00:24:28.662580Z",
     "iopub.status.busy": "2021-11-03T00:24:28.661915Z",
     "iopub.status.idle": "2021-11-03T00:24:28.685482Z",
     "shell.execute_reply": "2021-11-03T00:24:28.686033Z"
    },
    "papermill": {
     "duration": 0.085382,
     "end_time": "2021-11-03T00:24:28.686205",
     "exception": false,
     "start_time": "2021-11-03T00:24:28.600823",
     "status": "completed"
    },
    "tags": []
   },
   "outputs": [],
   "source": [
    "new_model = Model(layers[:-2])\n",
    "testing_plot = new_model(testing_data_x)"
   ]
  },
  {
   "cell_type": "code",
   "execution_count": 26,
   "id": "4c0a5485",
   "metadata": {
    "execution": {
     "iopub.execute_input": "2021-11-03T00:24:28.807327Z",
     "iopub.status.busy": "2021-11-03T00:24:28.806660Z",
     "iopub.status.idle": "2021-11-03T00:24:29.035763Z",
     "shell.execute_reply": "2021-11-03T00:24:29.035216Z"
    },
    "papermill": {
     "duration": 0.292202,
     "end_time": "2021-11-03T00:24:29.035936",
     "exception": false,
     "start_time": "2021-11-03T00:24:28.743734",
     "status": "completed"
    },
    "tags": []
   },
   "outputs": [
    {
     "data": {
      "text/plain": [
       "Text(0.5, 1.0, 'Outputs')"
      ]
     },
     "execution_count": 26,
     "metadata": {},
     "output_type": "execute_result"
    },
    {
     "data": {
      "image/png": "[encoded data removed]",
      "text/plain": [
       "<Figure size 576x504 with 1 Axes>"
      ]
     },
     "metadata": {
      "needs_background": "light"
     },
     "output_type": "display_data"
    }
   ],
   "source": [
    "# Plotting the scatter plot of points and color coding by class\n",
    "plt.figure(figsize=(8,7))\n",
    "plt.scatter(testing_plot[:,0], testing_plot[:,1], alpha = 0.1, c = y_test.ravel());\n",
    "plt.title('Outputs')"
   ]
  },
  {
   "cell_type": "markdown",
   "id": "a74fcf8f",
   "metadata": {
    "papermill": {
     "duration": 0.05501,
     "end_time": "2021-11-03T00:24:29.147803",
     "exception": false,
     "start_time": "2021-11-03T00:24:29.092793",
     "status": "completed"
    },
    "tags": []
   },
   "source": [
    "Probability contours"
   ]
  },
  {
   "cell_type": "code",
   "execution_count": 27,
   "id": "d0afc8e3",
   "metadata": {
    "execution": {
     "iopub.execute_input": "2021-11-03T00:24:29.288784Z",
     "iopub.status.busy": "2021-11-03T00:24:29.287879Z",
     "iopub.status.idle": "2021-11-03T00:24:29.300395Z",
     "shell.execute_reply": "2021-11-03T00:24:29.300931Z"
    },
    "papermill": {
     "duration": 0.097587,
     "end_time": "2021-11-03T00:24:29.301082",
     "exception": false,
     "start_time": "2021-11-03T00:24:29.203495",
     "status": "completed"
    },
    "tags": []
   },
   "outputs": [],
   "source": [
    "model_prob = Model(layers[-2:]) "
   ]
  },
  {
   "cell_type": "code",
   "execution_count": 28,
   "id": "9b96e238",
   "metadata": {
    "execution": {
     "iopub.execute_input": "2021-11-03T00:24:29.418330Z",
     "iopub.status.busy": "2021-11-03T00:24:29.417664Z",
     "iopub.status.idle": "2021-11-03T00:24:29.432756Z",
     "shell.execute_reply": "2021-11-03T00:24:29.433264Z"
    },
    "papermill": {
     "duration": 0.07793,
     "end_time": "2021-11-03T00:24:29.433419",
     "exception": false,
     "start_time": "2021-11-03T00:24:29.355489",
     "status": "completed"
    },
    "tags": []
   },
   "outputs": [],
   "source": [
    "#creating the x and y ranges according to the above generated plot.\n",
    "x_range = np.linspace(-4, 1, 100) \n",
    "y_range = np.linspace(-6, 6, 100) \n",
    "x_grid, y_grid = np.meshgrid(x_range, y_range) # x_grid and y_grig are of size 100 X 100\n",
    "\n",
    "# converting x_grid and y_grid to continuous arrays\n",
    "x_gridflat = np.ravel(x_grid)\n",
    "y_gridflat = np.ravel(y_grid)\n",
    "\n",
    "# The last layer of the current model takes two columns as input. Hence transpose of np.vstack() is required.\n",
    "X = np.vstack((x_gridflat, y_gridflat)).T\n",
    "\n",
    "prob_contour = model_prob(X).reshape(100,100) "
   ]
  },
  {
   "cell_type": "code",
   "execution_count": 29,
   "id": "da72499a",
   "metadata": {
    "execution": {
     "iopub.execute_input": "2021-11-03T00:24:29.556236Z",
     "iopub.status.busy": "2021-11-03T00:24:29.555535Z",
     "iopub.status.idle": "2021-11-03T00:24:29.853617Z",
     "shell.execute_reply": "2021-11-03T00:24:29.854255Z"
    },
    "papermill": {
     "duration": 0.361309,
     "end_time": "2021-11-03T00:24:29.854578",
     "exception": false,
     "start_time": "2021-11-03T00:24:29.493269",
     "status": "completed"
    },
    "tags": []
   },
   "outputs": [
    {
     "data": {
      "image/png": "[encoded data removed]",
      "text/plain": [
       "<Figure size 720x648 with 1 Axes>"
      ]
     },
     "metadata": {
      "needs_background": "light"
     },
     "output_type": "display_data"
    }
   ],
   "source": [
    "plt.figure(figsize=(10,9))\n",
    "plt.scatter(testing_plot[:,0], testing_plot[:,1], alpha = 0.1, c = y_test.ravel())\n",
    "contours = plt.contour(x_grid,y_grid,prob_contour)\n",
    "plt.title('Probability Contours')\n",
    "plt.clabel(contours, inline = True );"
   ]
  },
  {
   "cell_type": "code",
   "execution_count": null,
   "id": "e81b4ac7",
   "metadata": {
    "papermill": {
     "duration": 0.057724,
     "end_time": "2021-11-03T00:24:29.969712",
     "exception": false,
     "start_time": "2021-11-03T00:24:29.911988",
     "status": "completed"
    },
    "tags": []
   },
   "outputs": [],
   "source": []
  }
 ],
 "metadata": {
  "kernelspec": {
   "display_name": "Python 3",
   "language": "python",
   "name": "python3"
  },
  "language_info": {
   "codemirror_mode": {
    "name": "ipython",
    "version": 3
   },
   "file_extension": ".py",
   "mimetype": "text/x-python",
   "name": "python",
   "nbconvert_exporter": "python",
   "pygments_lexer": "ipython3",
   "version": "3.6.15"
  },
  "papermill": {
   "default_parameters": {},
   "duration": 153.583074,
   "end_time": "2021-11-03T00:24:30.437598",
   "environment_variables": {},
   "exception": null,
   "input_path": "2020-08-11-part2.ipynb",
   "output_path": "2020-08-11-part2.ipynb",
   "parameters": {},
   "start_time": "2021-11-03T00:21:56.854524",
   "version": "2.3.3"
  }
 },
 "nbformat": 4,
 "nbformat_minor": 5
}