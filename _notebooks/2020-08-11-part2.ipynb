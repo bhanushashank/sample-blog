{
 "cells": [
  {
   "cell_type": "markdown",
   "id": "98380cd3",
   "metadata": {
    "papermill": {
     "duration": 0.029505,
     "end_time": "2022-08-25T10:10:22.178359",
     "exception": false,
     "start_time": "2022-08-25T10:10:22.148854",
     "status": "completed"
    },
    "tags": []
   },
   "source": [
    "# Distinguish Your Own Digits (DYOD)"
   ]
  },
  {
   "cell_type": "markdown",
   "id": "ef31240d",
   "metadata": {
    "papermill": {
     "duration": 0.023925,
     "end_time": "2022-08-25T10:10:22.226840",
     "exception": false,
     "start_time": "2022-08-25T10:10:22.202915",
     "status": "completed"
    },
    "tags": []
   },
   "source": [
    "You are going to write a classifier that distinguishes between the number 3 and number 8."
   ]
  },
  {
   "cell_type": "code",
   "execution_count": 1,
   "id": "b15c8646",
   "metadata": {
    "execution": {
     "iopub.execute_input": "2022-08-25T10:10:22.285789Z",
     "iopub.status.busy": "2022-08-25T10:10:22.285159Z",
     "iopub.status.idle": "2022-08-25T10:10:22.296151Z",
     "shell.execute_reply": "2022-08-25T10:10:22.295649Z"
    },
    "papermill": {
     "duration": 0.045593,
     "end_time": "2022-08-25T10:10:22.296282",
     "exception": false,
     "start_time": "2022-08-25T10:10:22.250689",
     "status": "completed"
    },
    "tags": []
   },
   "outputs": [],
   "source": [
    "%load_ext autoreload\n",
    "%autoreload 2"
   ]
  },
  {
   "cell_type": "code",
   "execution_count": 2,
   "id": "22ef38dc",
   "metadata": {
    "execution": {
     "iopub.execute_input": "2022-08-25T10:10:22.366032Z",
     "iopub.status.busy": "2022-08-25T10:10:22.357580Z",
     "iopub.status.idle": "2022-08-25T10:10:22.885724Z",
     "shell.execute_reply": "2022-08-25T10:10:22.885122Z"
    },
    "papermill": {
     "duration": 0.565616,
     "end_time": "2022-08-25T10:10:22.885859",
     "exception": false,
     "start_time": "2022-08-25T10:10:22.320243",
     "status": "completed"
    },
    "tags": []
   },
   "outputs": [],
   "source": [
    "%matplotlib inline\n",
    "import numpy as np\n",
    "import matplotlib.pyplot as plt\n",
    "import pandas as pd"
   ]
  },
  {
   "cell_type": "markdown",
   "id": "ba036198",
   "metadata": {
    "papermill": {
     "duration": 0.024093,
     "end_time": "2022-08-25T10:10:22.933800",
     "exception": false,
     "start_time": "2022-08-25T10:10:22.909707",
     "status": "completed"
    },
    "tags": []
   },
   "source": [
    "From the command line run `pip install mnist`. This is a library that will help you bring down the mnist dataset. If you run this from a notebook, you need to put  `!pip install mnist` in a cell by itself."
   ]
  },
  {
   "cell_type": "code",
   "execution_count": 3,
   "id": "bb6ad8a1",
   "metadata": {
    "execution": {
     "iopub.execute_input": "2022-08-25T10:10:22.993082Z",
     "iopub.status.busy": "2022-08-25T10:10:22.992407Z",
     "iopub.status.idle": "2022-08-25T10:10:24.574745Z",
     "shell.execute_reply": "2022-08-25T10:10:24.573763Z"
    },
    "papermill": {
     "duration": 1.617176,
     "end_time": "2022-08-25T10:10:24.574893",
     "exception": false,
     "start_time": "2022-08-25T10:10:22.957717",
     "status": "completed"
    },
    "tags": []
   },
   "outputs": [
    {
     "name": "stdout",
     "output_type": "stream",
     "text": [
      "Collecting mnist\r\n"
     ]
    },
    {
     "name": "stdout",
     "output_type": "stream",
     "text": [
      "  Downloading mnist-0.2.2-py2.py3-none-any.whl (3.5 kB)\r\n",
      "Requirement already satisfied: numpy in /opt/hostedtoolcache/Python/3.6.15/x64/lib/python3.6/site-packages (from mnist) (1.19.5)\r\n"
     ]
    },
    {
     "name": "stdout",
     "output_type": "stream",
     "text": [
      "Installing collected packages: mnist\r\n"
     ]
    },
    {
     "name": "stdout",
     "output_type": "stream",
     "text": [
      "Successfully installed mnist-0.2.2\r\n"
     ]
    }
   ],
   "source": [
    "!pip install mnist"
   ]
  },
  {
   "cell_type": "markdown",
   "id": "69df9c9a",
   "metadata": {
    "papermill": {
     "duration": 0.024796,
     "end_time": "2022-08-25T10:10:24.625032",
     "exception": false,
     "start_time": "2022-08-25T10:10:24.600236",
     "status": "completed"
    },
    "tags": []
   },
   "source": [
    "## Preparing the Data"
   ]
  },
  {
   "cell_type": "code",
   "execution_count": 4,
   "id": "7f69d806",
   "metadata": {
    "execution": {
     "iopub.execute_input": "2022-08-25T10:10:24.678850Z",
     "iopub.status.busy": "2022-08-25T10:10:24.678253Z",
     "iopub.status.idle": "2022-08-25T10:10:24.693190Z",
     "shell.execute_reply": "2022-08-25T10:10:24.692652Z"
    },
    "papermill": {
     "duration": 0.043568,
     "end_time": "2022-08-25T10:10:24.693309",
     "exception": false,
     "start_time": "2022-08-25T10:10:24.649741",
     "status": "completed"
    },
    "tags": []
   },
   "outputs": [],
   "source": [
    "import mnist"
   ]
  },
  {
   "cell_type": "code",
   "execution_count": 5,
   "id": "a411e44f",
   "metadata": {
    "execution": {
     "iopub.execute_input": "2022-08-25T10:10:24.746804Z",
     "iopub.status.busy": "2022-08-25T10:10:24.746220Z",
     "iopub.status.idle": "2022-08-25T10:10:25.315753Z",
     "shell.execute_reply": "2022-08-25T10:10:25.316327Z"
    },
    "papermill": {
     "duration": 0.59825,
     "end_time": "2022-08-25T10:10:25.316500",
     "exception": false,
     "start_time": "2022-08-25T10:10:24.718250",
     "status": "completed"
    },
    "tags": []
   },
   "outputs": [],
   "source": [
    "train_images = mnist.train_images()\n",
    "train_labels = mnist.train_labels()"
   ]
  },
  {
   "cell_type": "code",
   "execution_count": 6,
   "id": "dceab3a5",
   "metadata": {
    "execution": {
     "iopub.execute_input": "2022-08-25T10:10:25.371561Z",
     "iopub.status.busy": "2022-08-25T10:10:25.370955Z",
     "iopub.status.idle": "2022-08-25T10:10:25.385746Z",
     "shell.execute_reply": "2022-08-25T10:10:25.385158Z"
    },
    "papermill": {
     "duration": 0.044179,
     "end_time": "2022-08-25T10:10:25.385866",
     "exception": false,
     "start_time": "2022-08-25T10:10:25.341687",
     "status": "completed"
    },
    "tags": []
   },
   "outputs": [
    {
     "data": {
      "text/plain": [
       "((60000, 28, 28), (60000,))"
      ]
     },
     "execution_count": 6,
     "metadata": {},
     "output_type": "execute_result"
    }
   ],
   "source": [
    "train_images.shape, train_labels.shape"
   ]
  },
  {
   "cell_type": "code",
   "execution_count": 7,
   "id": "f50dc2bb",
   "metadata": {
    "execution": {
     "iopub.execute_input": "2022-08-25T10:10:25.440588Z",
     "iopub.status.busy": "2022-08-25T10:10:25.439994Z",
     "iopub.status.idle": "2022-08-25T10:10:25.588836Z",
     "shell.execute_reply": "2022-08-25T10:10:25.588180Z"
    },
    "papermill": {
     "duration": 0.177756,
     "end_time": "2022-08-25T10:10:25.588985",
     "exception": false,
     "start_time": "2022-08-25T10:10:25.411229",
     "status": "completed"
    },
    "tags": []
   },
   "outputs": [],
   "source": [
    "test_images = mnist.test_images()\n",
    "test_labels = mnist.test_labels()"
   ]
  },
  {
   "cell_type": "code",
   "execution_count": 8,
   "id": "fc38cf1b",
   "metadata": {
    "execution": {
     "iopub.execute_input": "2022-08-25T10:10:25.644098Z",
     "iopub.status.busy": "2022-08-25T10:10:25.643505Z",
     "iopub.status.idle": "2022-08-25T10:10:25.657463Z",
     "shell.execute_reply": "2022-08-25T10:10:25.656868Z"
    },
    "papermill": {
     "duration": 0.042833,
     "end_time": "2022-08-25T10:10:25.657582",
     "exception": false,
     "start_time": "2022-08-25T10:10:25.614749",
     "status": "completed"
    },
    "tags": []
   },
   "outputs": [
    {
     "data": {
      "text/plain": [
       "((10000, 28, 28), (10000,))"
      ]
     },
     "execution_count": 8,
     "metadata": {},
     "output_type": "execute_result"
    }
   ],
   "source": [
    "test_images.shape, test_labels.shape"
   ]
  },
  {
   "cell_type": "code",
   "execution_count": 9,
   "id": "f9ed8fe0",
   "metadata": {
    "execution": {
     "iopub.execute_input": "2022-08-25T10:10:25.712140Z",
     "iopub.status.busy": "2022-08-25T10:10:25.711556Z",
     "iopub.status.idle": "2022-08-25T10:10:25.851372Z",
     "shell.execute_reply": "2022-08-25T10:10:25.851903Z"
    },
    "papermill": {
     "duration": 0.169069,
     "end_time": "2022-08-25T10:10:25.852059",
     "exception": false,
     "start_time": "2022-08-25T10:10:25.682990",
     "status": "completed"
    },
    "tags": []
   },
   "outputs": [
    {
     "name": "stdout",
     "output_type": "stream",
     "text": [
      "2\n"
     ]
    },
    {
     "data": {
      "text/plain": [
       "<matplotlib.image.AxesImage at 0x7f32daf1c978>"
      ]
     },
     "execution_count": 9,
     "metadata": {},
     "output_type": "execute_result"
    },
    {
     "data": {
      "image/png": "[encoded data removed]",
      "text/plain": [
       "<Figure size 432x288 with 1 Axes>"
      ]
     },
     "metadata": {
      "needs_background": "light"
     },
     "output_type": "display_data"
    }
   ],
   "source": [
    "image_index = 7776 # You may select anything up to 60,000\n",
    "print(train_labels[image_index]) \n",
    "plt.imshow(train_images[image_index], cmap='Greys')"
   ]
  },
  {
   "cell_type": "markdown",
   "id": "a8d2388d",
   "metadata": {
    "papermill": {
     "duration": 0.026264,
     "end_time": "2022-08-25T10:10:25.905573",
     "exception": false,
     "start_time": "2022-08-25T10:10:25.879309",
     "status": "completed"
    },
    "tags": []
   },
   "source": [
    "## Filter data to get 3 and 8 out"
   ]
  },
  {
   "cell_type": "code",
   "execution_count": 10,
   "id": "776f7fc7",
   "metadata": {
    "execution": {
     "iopub.execute_input": "2022-08-25T10:10:25.970992Z",
     "iopub.status.busy": "2022-08-25T10:10:25.970352Z",
     "iopub.status.idle": "2022-08-25T10:10:25.982058Z",
     "shell.execute_reply": "2022-08-25T10:10:25.981564Z"
    },
    "papermill": {
     "duration": 0.050285,
     "end_time": "2022-08-25T10:10:25.982176",
     "exception": false,
     "start_time": "2022-08-25T10:10:25.931891",
     "status": "completed"
    },
    "tags": []
   },
   "outputs": [],
   "source": [
    "train_filter = np.where((train_labels == 3 ) | (train_labels == 8))\n",
    "test_filter = np.where((test_labels == 3) | (test_labels == 8))\n",
    "X_train, y_train = train_images[train_filter], train_labels[train_filter]\n",
    "X_test, y_test = test_images[test_filter], test_labels[test_filter]"
   ]
  },
  {
   "cell_type": "markdown",
   "id": "948f0b7e",
   "metadata": {
    "papermill": {
     "duration": 0.026333,
     "end_time": "2022-08-25T10:10:26.035076",
     "exception": false,
     "start_time": "2022-08-25T10:10:26.008743",
     "status": "completed"
    },
    "tags": []
   },
   "source": [
    "We normalize the pizel values in the 0 to 1 range"
   ]
  },
  {
   "cell_type": "code",
   "execution_count": 11,
   "id": "ee4c2166",
   "metadata": {
    "execution": {
     "iopub.execute_input": "2022-08-25T10:10:26.091832Z",
     "iopub.status.busy": "2022-08-25T10:10:26.091245Z",
     "iopub.status.idle": "2022-08-25T10:10:26.136090Z",
     "shell.execute_reply": "2022-08-25T10:10:26.135491Z"
    },
    "papermill": {
     "duration": 0.074744,
     "end_time": "2022-08-25T10:10:26.136226",
     "exception": false,
     "start_time": "2022-08-25T10:10:26.061482",
     "status": "completed"
    },
    "tags": []
   },
   "outputs": [],
   "source": [
    "X_train = X_train/255.\n",
    "X_test = X_test/255."
   ]
  },
  {
   "cell_type": "markdown",
   "id": "ddcf4fab",
   "metadata": {
    "papermill": {
     "duration": 0.026398,
     "end_time": "2022-08-25T10:10:26.189990",
     "exception": false,
     "start_time": "2022-08-25T10:10:26.163592",
     "status": "completed"
    },
    "tags": []
   },
   "source": [
    "And setup the labels as 1 (when the digit is 3) and 0 (when the digit is 8)"
   ]
  },
  {
   "cell_type": "code",
   "execution_count": 12,
   "id": "7dc908f2",
   "metadata": {
    "execution": {
     "iopub.execute_input": "2022-08-25T10:10:26.257664Z",
     "iopub.status.busy": "2022-08-25T10:10:26.255517Z",
     "iopub.status.idle": "2022-08-25T10:10:26.262843Z",
     "shell.execute_reply": "2022-08-25T10:10:26.262279Z"
    },
    "papermill": {
     "duration": 0.046561,
     "end_time": "2022-08-25T10:10:26.262956",
     "exception": false,
     "start_time": "2022-08-25T10:10:26.216395",
     "status": "completed"
    },
    "tags": []
   },
   "outputs": [],
   "source": [
    "y_train = 1*(y_train==3)\n",
    "y_test = 1*(y_test==3)"
   ]
  },
  {
   "cell_type": "code",
   "execution_count": 13,
   "id": "01e4e969",
   "metadata": {
    "execution": {
     "iopub.execute_input": "2022-08-25T10:10:26.330807Z",
     "iopub.status.busy": "2022-08-25T10:10:26.324376Z",
     "iopub.status.idle": "2022-08-25T10:10:26.333934Z",
     "shell.execute_reply": "2022-08-25T10:10:26.334383Z"
    },
    "papermill": {
     "duration": 0.045087,
     "end_time": "2022-08-25T10:10:26.334516",
     "exception": false,
     "start_time": "2022-08-25T10:10:26.289429",
     "status": "completed"
    },
    "tags": []
   },
   "outputs": [
    {
     "data": {
      "text/plain": [
       "((11982, 28, 28), (1984, 28, 28))"
      ]
     },
     "execution_count": 13,
     "metadata": {},
     "output_type": "execute_result"
    }
   ],
   "source": [
    "X_train.shape, X_test.shape"
   ]
  },
  {
   "cell_type": "markdown",
   "id": "5ccf3f85",
   "metadata": {
    "papermill": {
     "duration": 0.026471,
     "end_time": "2022-08-25T10:10:26.387689",
     "exception": false,
     "start_time": "2022-08-25T10:10:26.361218",
     "status": "completed"
    },
    "tags": []
   },
   "source": [
    "We reshape the data to flatten the image pixels into a set of features or co-variates:"
   ]
  },
  {
   "cell_type": "code",
   "execution_count": 14,
   "id": "5286a4a3",
   "metadata": {
    "execution": {
     "iopub.execute_input": "2022-08-25T10:10:26.445272Z",
     "iopub.status.busy": "2022-08-25T10:10:26.444641Z",
     "iopub.status.idle": "2022-08-25T10:10:26.458361Z",
     "shell.execute_reply": "2022-08-25T10:10:26.457882Z"
    },
    "papermill": {
     "duration": 0.044144,
     "end_time": "2022-08-25T10:10:26.458473",
     "exception": false,
     "start_time": "2022-08-25T10:10:26.414329",
     "status": "completed"
    },
    "tags": []
   },
   "outputs": [
    {
     "data": {
      "text/plain": [
       "((11982, 784), (1984, 784))"
      ]
     },
     "execution_count": 14,
     "metadata": {},
     "output_type": "execute_result"
    }
   ],
   "source": [
    "X_train = X_train.reshape(X_train.shape[0], -1)\n",
    "X_test = X_test.reshape(X_test.shape[0], -1)\n",
    "X_train.shape, X_test.shape"
   ]
  },
  {
   "cell_type": "code",
   "execution_count": 15,
   "id": "73c5f88a",
   "metadata": {
    "execution": {
     "iopub.execute_input": "2022-08-25T10:10:26.521519Z",
     "iopub.status.busy": "2022-08-25T10:10:26.516895Z",
     "iopub.status.idle": "2022-08-25T10:10:26.535744Z",
     "shell.execute_reply": "2022-08-25T10:10:26.536204Z"
    },
    "papermill": {
     "duration": 0.050528,
     "end_time": "2022-08-25T10:10:26.536336",
     "exception": false,
     "start_time": "2022-08-25T10:10:26.485808",
     "status": "completed"
    },
    "tags": []
   },
   "outputs": [],
   "source": [
    "#Impoting functions from 'Kudzu'\n",
    "from kudzu.model import Model\n",
    "from kudzu.train import Learner\n",
    "from kudzu.optim import GD\n",
    "from kudzu.data import Data, Sampler,Dataloader\n",
    "\n",
    "from kudzu.callbacks import AccCallback\n",
    "from kudzu.callbacks import ClfCallback\n",
    "\n",
    "from kudzu.loss import MSE\n",
    "\n",
    "from kudzu.layer import Sigmoid,Relu\n",
    "from kudzu.layer import Affine"
   ]
  },
  {
   "cell_type": "markdown",
   "id": "bc01172a",
   "metadata": {
    "papermill": {
     "duration": 0.02683,
     "end_time": "2022-08-25T10:10:26.590390",
     "exception": false,
     "start_time": "2022-08-25T10:10:26.563560",
     "status": "completed"
    },
    "tags": []
   },
   "source": [
    "### Let us create a `Config` class, to store important parameters. \n",
    "This class essentially plays the role of a dictionary."
   ]
  },
  {
   "cell_type": "code",
   "execution_count": 16,
   "id": "978281aa",
   "metadata": {
    "execution": {
     "iopub.execute_input": "2022-08-25T10:10:26.663570Z",
     "iopub.status.busy": "2022-08-25T10:10:26.662240Z",
     "iopub.status.idle": "2022-08-25T10:10:26.665822Z",
     "shell.execute_reply": "2022-08-25T10:10:26.666246Z"
    },
    "papermill": {
     "duration": 0.049001,
     "end_time": "2022-08-25T10:10:26.666384",
     "exception": false,
     "start_time": "2022-08-25T10:10:26.617383",
     "status": "completed"
    },
    "tags": []
   },
   "outputs": [],
   "source": [
    "class Config:\n",
    "    pass\n",
    "config = Config()\n",
    "config.lr = 0.001\n",
    "config.num_epochs = 250\n",
    "config.bs = 50"
   ]
  },
  {
   "cell_type": "markdown",
   "id": "1385fa59",
   "metadata": {
    "papermill": {
     "duration": 0.026847,
     "end_time": "2022-08-25T10:10:26.720201",
     "exception": false,
     "start_time": "2022-08-25T10:10:26.693354",
     "status": "completed"
    },
    "tags": []
   },
   "source": [
    "### Running Models with the Training data\n",
    "Details about the network layers:\n",
    "- A first affine layer has 784 inputs and does 100 affine transforms. These are followed by a Relu\n",
    "- A second affine layer has 100 inputs from the 100 activations of the past layer, and does 100 affine transforms. These are followed by a Relu\n",
    "- A third affine layer has 100 activations and does 2 affine transformations to create an embedding for visualization. There is no non-linearity here.\n",
    "- A final \"logistic regression\" which has an affine transform from 2 inputs to 1 output, which is squeezed through a sigmoid.\n"
   ]
  },
  {
   "cell_type": "code",
   "execution_count": 17,
   "id": "2b9c66db",
   "metadata": {
    "execution": {
     "iopub.execute_input": "2022-08-25T10:10:26.785606Z",
     "iopub.status.busy": "2022-08-25T10:10:26.778069Z",
     "iopub.status.idle": "2022-08-25T10:10:26.794203Z",
     "shell.execute_reply": "2022-08-25T10:10:26.793396Z"
    },
    "papermill": {
     "duration": 0.047224,
     "end_time": "2022-08-25T10:10:26.794328",
     "exception": false,
     "start_time": "2022-08-25T10:10:26.747104",
     "status": "completed"
    },
    "tags": []
   },
   "outputs": [],
   "source": [
    "data = Data(X_train, y_train.reshape(-1,1))\n",
    "sampler = Sampler(data, config.bs, shuffle=True)\n",
    "\n",
    "dl = Dataloader(data, sampler)\n",
    "\n",
    "opt = GD(config.lr)\n",
    "loss = MSE()"
   ]
  },
  {
   "cell_type": "code",
   "execution_count": 18,
   "id": "b275e4c2",
   "metadata": {
    "execution": {
     "iopub.execute_input": "2022-08-25T10:10:26.866518Z",
     "iopub.status.busy": "2022-08-25T10:10:26.863410Z",
     "iopub.status.idle": "2022-08-25T10:10:26.869267Z",
     "shell.execute_reply": "2022-08-25T10:10:26.868661Z"
    },
    "papermill": {
     "duration": 0.047814,
     "end_time": "2022-08-25T10:10:26.869383",
     "exception": false,
     "start_time": "2022-08-25T10:10:26.821569",
     "status": "completed"
    },
    "tags": []
   },
   "outputs": [],
   "source": [
    "training_data_x = X_train\n",
    "testing_data_x = X_test\n",
    "training_data_y = y_train.reshape(-1,1)\n",
    "testing_data_y = y_test.reshape(-1,1)"
   ]
  },
  {
   "cell_type": "code",
   "execution_count": 19,
   "id": "76951160",
   "metadata": {
    "execution": {
     "iopub.execute_input": "2022-08-25T10:10:26.933832Z",
     "iopub.status.busy": "2022-08-25T10:10:26.927283Z",
     "iopub.status.idle": "2022-08-25T10:10:26.947157Z",
     "shell.execute_reply": "2022-08-25T10:10:26.946646Z"
    },
    "papermill": {
     "duration": 0.051024,
     "end_time": "2022-08-25T10:10:26.947274",
     "exception": false,
     "start_time": "2022-08-25T10:10:26.896250",
     "status": "completed"
    },
    "tags": []
   },
   "outputs": [
    {
     "name": "stdout",
     "output_type": "stream",
     "text": [
      "xavier\n",
      "xavier\n",
      "xavier\n",
      "xavier\n",
      "xavier\n"
     ]
    }
   ],
   "source": [
    "layers = [Affine(\"first\", 784, 100), Relu(\"first\"), Affine(\"second\", 100, 100), Relu(\"second\"), Affine(\"third\", 100, 2), Affine(\"last\", 2, 1), Sigmoid(\"last\")]\n",
    "model_nn = Model(layers)\n",
    "model_lr = Model([Affine(\"logits\", 784, 1), Sigmoid(\"sigmoid\")])"
   ]
  },
  {
   "cell_type": "code",
   "execution_count": 20,
   "id": "6eede77a",
   "metadata": {
    "execution": {
     "iopub.execute_input": "2022-08-25T10:10:27.016060Z",
     "iopub.status.busy": "2022-08-25T10:10:27.005375Z",
     "iopub.status.idle": "2022-08-25T10:10:27.022246Z",
     "shell.execute_reply": "2022-08-25T10:10:27.021461Z"
    },
    "papermill": {
     "duration": 0.047787,
     "end_time": "2022-08-25T10:10:27.022366",
     "exception": false,
     "start_time": "2022-08-25T10:10:26.974579",
     "status": "completed"
    },
    "tags": []
   },
   "outputs": [],
   "source": [
    "nn_learner = Learner(loss, model_nn, opt, config.num_epochs)\n",
    "acc_nn = ClfCallback(nn_learner, config.bs, training_data_x , testing_data_x, training_data_y, testing_data_y)\n",
    "nn_learner.set_callbacks([acc_nn])"
   ]
  },
  {
   "cell_type": "code",
   "execution_count": 21,
   "id": "877b6cc7",
   "metadata": {
    "execution": {
     "iopub.execute_input": "2022-08-25T10:10:27.081593Z",
     "iopub.status.busy": "2022-08-25T10:10:27.080984Z",
     "iopub.status.idle": "2022-08-25T10:10:27.092793Z",
     "shell.execute_reply": "2022-08-25T10:10:27.093235Z"
    },
    "papermill": {
     "duration": 0.043762,
     "end_time": "2022-08-25T10:10:27.093379",
     "exception": false,
     "start_time": "2022-08-25T10:10:27.049617",
     "status": "completed"
    },
    "tags": []
   },
   "outputs": [],
   "source": [
    "lr_learner = Learner(loss, model_lr, opt, config.num_epochs)\n",
    "acc_lr = ClfCallback(lr_learner, config.bs, training_data_x , testing_data_x, training_data_y, testing_data_y)\n",
    "lr_learner.set_callbacks([acc_lr])"
   ]
  },
  {
   "cell_type": "code",
   "execution_count": 22,
   "id": "d9b133c3",
   "metadata": {
    "execution": {
     "iopub.execute_input": "2022-08-25T10:10:27.157018Z",
     "iopub.status.busy": "2022-08-25T10:10:27.152787Z",
     "iopub.status.idle": "2022-08-25T10:11:42.909362Z",
     "shell.execute_reply": "2022-08-25T10:11:42.910222Z"
    },
    "papermill": {
     "duration": 75.78954,
     "end_time": "2022-08-25T10:11:42.910374",
     "exception": false,
     "start_time": "2022-08-25T10:10:27.120834",
     "status": "completed"
    },
    "tags": []
   },
   "outputs": [
    {
     "name": "stdout",
     "output_type": "stream",
     "text": [
      "Epoch 0, Loss 0.2475\n",
      "Training Accuracy: 0.6446, Testing Accuracy: 0.6386\n",
      "\n"
     ]
    },
    {
     "name": "stdout",
     "output_type": "stream",
     "text": [
      "Epoch 10, Loss 0.0923\n",
      "Training Accuracy: 0.9125, Testing Accuracy: 0.9289\n",
      "\n"
     ]
    },
    {
     "name": "stdout",
     "output_type": "stream",
     "text": [
      "Epoch 20, Loss 0.0571\n",
      "Training Accuracy: 0.9397, Testing Accuracy: 0.9461\n",
      "\n"
     ]
    },
    {
     "name": "stdout",
     "output_type": "stream",
     "text": [
      "Epoch 30, Loss 0.0449\n",
      "Training Accuracy: 0.9500, Testing Accuracy: 0.9577\n",
      "\n"
     ]
    },
    {
     "name": "stdout",
     "output_type": "stream",
     "text": [
      "Epoch 40, Loss 0.0388\n",
      "Training Accuracy: 0.9557, Testing Accuracy: 0.9637\n",
      "\n"
     ]
    },
    {
     "name": "stdout",
     "output_type": "stream",
     "text": [
      "Epoch 50, Loss 0.0351\n",
      "Training Accuracy: 0.9589, Testing Accuracy: 0.9647\n",
      "\n"
     ]
    },
    {
     "name": "stdout",
     "output_type": "stream",
     "text": [
      "Epoch 60, Loss 0.0325\n",
      "Training Accuracy: 0.9627, Testing Accuracy: 0.9667\n",
      "\n"
     ]
    },
    {
     "name": "stdout",
     "output_type": "stream",
     "text": [
      "Epoch 70, Loss 0.0306\n",
      "Training Accuracy: 0.9649, Testing Accuracy: 0.9682\n",
      "\n"
     ]
    },
    {
     "name": "stdout",
     "output_type": "stream",
     "text": [
      "Epoch 80, Loss 0.0291\n",
      "Training Accuracy: 0.9664, Testing Accuracy: 0.9682\n",
      "\n"
     ]
    },
    {
     "name": "stdout",
     "output_type": "stream",
     "text": [
      "Epoch 90, Loss 0.0279\n",
      "Training Accuracy: 0.9677, Testing Accuracy: 0.9698\n",
      "\n"
     ]
    },
    {
     "name": "stdout",
     "output_type": "stream",
     "text": [
      "Epoch 100, Loss 0.0268\n",
      "Training Accuracy: 0.9690, Testing Accuracy: 0.9693\n",
      "\n"
     ]
    },
    {
     "name": "stdout",
     "output_type": "stream",
     "text": [
      "Epoch 110, Loss 0.0259\n",
      "Training Accuracy: 0.9706, Testing Accuracy: 0.9688\n",
      "\n"
     ]
    },
    {
     "name": "stdout",
     "output_type": "stream",
     "text": [
      "Epoch 120, Loss 0.0252\n",
      "Training Accuracy: 0.9711, Testing Accuracy: 0.9698\n",
      "\n"
     ]
    },
    {
     "name": "stdout",
     "output_type": "stream",
     "text": [
      "Epoch 130, Loss 0.0244\n",
      "Training Accuracy: 0.9720, Testing Accuracy: 0.9708\n",
      "\n"
     ]
    },
    {
     "name": "stdout",
     "output_type": "stream",
     "text": [
      "Epoch 140, Loss 0.0238\n",
      "Training Accuracy: 0.9725, Testing Accuracy: 0.9718\n",
      "\n"
     ]
    },
    {
     "name": "stdout",
     "output_type": "stream",
     "text": [
      "Epoch 150, Loss 0.0232\n",
      "Training Accuracy: 0.9730, Testing Accuracy: 0.9708\n",
      "\n"
     ]
    },
    {
     "name": "stdout",
     "output_type": "stream",
     "text": [
      "Epoch 160, Loss 0.0226\n",
      "Training Accuracy: 0.9740, Testing Accuracy: 0.9708\n",
      "\n"
     ]
    },
    {
     "name": "stdout",
     "output_type": "stream",
     "text": [
      "Epoch 170, Loss 0.0221\n",
      "Training Accuracy: 0.9744, Testing Accuracy: 0.9703\n",
      "\n"
     ]
    },
    {
     "name": "stdout",
     "output_type": "stream",
     "text": [
      "Epoch 180, Loss 0.0216\n",
      "Training Accuracy: 0.9750, Testing Accuracy: 0.9713\n",
      "\n"
     ]
    },
    {
     "name": "stdout",
     "output_type": "stream",
     "text": [
      "Epoch 190, Loss 0.0211\n",
      "Training Accuracy: 0.9758, Testing Accuracy: 0.9718\n",
      "\n"
     ]
    },
    {
     "name": "stdout",
     "output_type": "stream",
     "text": [
      "Epoch 200, Loss 0.0207\n",
      "Training Accuracy: 0.9767, Testing Accuracy: 0.9738\n",
      "\n"
     ]
    },
    {
     "name": "stdout",
     "output_type": "stream",
     "text": [
      "Epoch 210, Loss 0.0203\n",
      "Training Accuracy: 0.9774, Testing Accuracy: 0.9738\n",
      "\n"
     ]
    },
    {
     "name": "stdout",
     "output_type": "stream",
     "text": [
      "Epoch 220, Loss 0.0198\n",
      "Training Accuracy: 0.9779, Testing Accuracy: 0.9738\n",
      "\n"
     ]
    },
    {
     "name": "stdout",
     "output_type": "stream",
     "text": [
      "Epoch 230, Loss 0.0194\n",
      "Training Accuracy: 0.9782, Testing Accuracy: 0.9738\n",
      "\n"
     ]
    },
    {
     "name": "stdout",
     "output_type": "stream",
     "text": [
      "Epoch 240, Loss 0.0191\n",
      "Training Accuracy: 0.9786, Testing Accuracy: 0.9743\n",
      "\n"
     ]
    },
    {
     "data": {
      "text/plain": [
       "0.08420432438319522"
      ]
     },
     "execution_count": 22,
     "metadata": {},
     "output_type": "execute_result"
    }
   ],
   "source": [
    "nn_learner.train_loop(dl)"
   ]
  },
  {
   "cell_type": "code",
   "execution_count": 23,
   "id": "e0163366",
   "metadata": {
    "execution": {
     "iopub.execute_input": "2022-08-25T10:11:43.000155Z",
     "iopub.status.busy": "2022-08-25T10:11:42.999527Z",
     "iopub.status.idle": "2022-08-25T10:11:56.334475Z",
     "shell.execute_reply": "2022-08-25T10:11:56.335334Z"
    },
    "papermill": {
     "duration": 13.390457,
     "end_time": "2022-08-25T10:11:56.335486",
     "exception": false,
     "start_time": "2022-08-25T10:11:42.945029",
     "status": "completed"
    },
    "tags": []
   },
   "outputs": [
    {
     "name": "stdout",
     "output_type": "stream",
     "text": [
      "Epoch 0, Loss 0.2349\n",
      "Training Accuracy: 0.7110, Testing Accuracy: 0.6689\n",
      "\n"
     ]
    },
    {
     "name": "stdout",
     "output_type": "stream",
     "text": [
      "Epoch 10, Loss 0.1034\n",
      "Training Accuracy: 0.9015, Testing Accuracy: 0.9113\n",
      "\n"
     ]
    },
    {
     "name": "stdout",
     "output_type": "stream",
     "text": [
      "Epoch 20, Loss 0.0797\n",
      "Training Accuracy: 0.9237, Testing Accuracy: 0.9330\n",
      "\n"
     ]
    },
    {
     "name": "stdout",
     "output_type": "stream",
     "text": [
      "Epoch 30, Loss 0.0686\n",
      "Training Accuracy: 0.9342, Testing Accuracy: 0.9451\n",
      "\n"
     ]
    },
    {
     "name": "stdout",
     "output_type": "stream",
     "text": [
      "Epoch 40, Loss 0.0619\n",
      "Training Accuracy: 0.9400, Testing Accuracy: 0.9501\n",
      "\n"
     ]
    },
    {
     "name": "stdout",
     "output_type": "stream",
     "text": [
      "Epoch 50, Loss 0.0573\n",
      "Training Accuracy: 0.9436, Testing Accuracy: 0.9551\n",
      "\n"
     ]
    },
    {
     "name": "stdout",
     "output_type": "stream",
     "text": [
      "Epoch 60, Loss 0.054\n",
      "Training Accuracy: 0.9464, Testing Accuracy: 0.9567\n",
      "\n"
     ]
    },
    {
     "name": "stdout",
     "output_type": "stream",
     "text": [
      "Epoch 70, Loss 0.0514\n",
      "Training Accuracy: 0.9486, Testing Accuracy: 0.9567\n",
      "\n"
     ]
    },
    {
     "name": "stdout",
     "output_type": "stream",
     "text": [
      "Epoch 80, Loss 0.0493\n",
      "Training Accuracy: 0.9498, Testing Accuracy: 0.9587\n",
      "\n"
     ]
    },
    {
     "name": "stdout",
     "output_type": "stream",
     "text": [
      "Epoch 90, Loss 0.0476\n",
      "Training Accuracy: 0.9512, Testing Accuracy: 0.9597\n",
      "\n"
     ]
    },
    {
     "name": "stdout",
     "output_type": "stream",
     "text": [
      "Epoch 100, Loss 0.0461\n",
      "Training Accuracy: 0.9520, Testing Accuracy: 0.9607\n",
      "\n"
     ]
    },
    {
     "name": "stdout",
     "output_type": "stream",
     "text": [
      "Epoch 110, Loss 0.0449\n",
      "Training Accuracy: 0.9533, Testing Accuracy: 0.9612\n",
      "\n"
     ]
    },
    {
     "name": "stdout",
     "output_type": "stream",
     "text": [
      "Epoch 120, Loss 0.0438\n",
      "Training Accuracy: 0.9540, Testing Accuracy: 0.9612\n",
      "\n"
     ]
    },
    {
     "name": "stdout",
     "output_type": "stream",
     "text": [
      "Epoch 130, Loss 0.0429\n",
      "Training Accuracy: 0.9553, Testing Accuracy: 0.9622\n",
      "\n"
     ]
    },
    {
     "name": "stdout",
     "output_type": "stream",
     "text": [
      "Epoch 140, Loss 0.042\n",
      "Training Accuracy: 0.9559, Testing Accuracy: 0.9627\n",
      "\n"
     ]
    },
    {
     "name": "stdout",
     "output_type": "stream",
     "text": [
      "Epoch 150, Loss 0.0413\n",
      "Training Accuracy: 0.9568, Testing Accuracy: 0.9632\n",
      "\n"
     ]
    },
    {
     "name": "stdout",
     "output_type": "stream",
     "text": [
      "Epoch 160, Loss 0.0406\n",
      "Training Accuracy: 0.9578, Testing Accuracy: 0.9647\n",
      "\n"
     ]
    },
    {
     "name": "stdout",
     "output_type": "stream",
     "text": [
      "Epoch 170, Loss 0.04\n",
      "Training Accuracy: 0.9588, Testing Accuracy: 0.9652\n",
      "\n"
     ]
    },
    {
     "name": "stdout",
     "output_type": "stream",
     "text": [
      "Epoch 180, Loss 0.0394\n",
      "Training Accuracy: 0.9594, Testing Accuracy: 0.9652\n",
      "\n"
     ]
    },
    {
     "name": "stdout",
     "output_type": "stream",
     "text": [
      "Epoch 190, Loss 0.0389\n",
      "Training Accuracy: 0.9597, Testing Accuracy: 0.9652\n",
      "\n"
     ]
    },
    {
     "name": "stdout",
     "output_type": "stream",
     "text": [
      "Epoch 200, Loss 0.0384\n",
      "Training Accuracy: 0.9600, Testing Accuracy: 0.9657\n",
      "\n"
     ]
    },
    {
     "name": "stdout",
     "output_type": "stream",
     "text": [
      "Epoch 210, Loss 0.038\n",
      "Training Accuracy: 0.9602, Testing Accuracy: 0.9657\n",
      "\n"
     ]
    },
    {
     "name": "stdout",
     "output_type": "stream",
     "text": [
      "Epoch 220, Loss 0.0376\n",
      "Training Accuracy: 0.9609, Testing Accuracy: 0.9657\n",
      "\n"
     ]
    },
    {
     "name": "stdout",
     "output_type": "stream",
     "text": [
      "Epoch 230, Loss 0.0372\n",
      "Training Accuracy: 0.9609, Testing Accuracy: 0.9657\n",
      "\n"
     ]
    },
    {
     "name": "stdout",
     "output_type": "stream",
     "text": [
      "Epoch 240, Loss 0.0368\n",
      "Training Accuracy: 0.9614, Testing Accuracy: 0.9657\n",
      "\n"
     ]
    },
    {
     "data": {
      "text/plain": [
       "0.03778276411624902"
      ]
     },
     "execution_count": 23,
     "metadata": {},
     "output_type": "execute_result"
    }
   ],
   "source": [
    "lr_learner.train_loop(dl)"
   ]
  },
  {
   "cell_type": "code",
   "execution_count": 24,
   "id": "ca410940",
   "metadata": {
    "execution": {
     "iopub.execute_input": "2022-08-25T10:11:56.426726Z",
     "iopub.status.busy": "2022-08-25T10:11:56.426111Z",
     "iopub.status.idle": "2022-08-25T10:11:56.658904Z",
     "shell.execute_reply": "2022-08-25T10:11:56.658398Z"
    },
    "papermill": {
     "duration": 0.281492,
     "end_time": "2022-08-25T10:11:56.659023",
     "exception": false,
     "start_time": "2022-08-25T10:11:56.377531",
     "status": "completed"
    },
    "tags": []
   },
   "outputs": [
    {
     "data": {
      "text/plain": [
       "<matplotlib.legend.Legend at 0x7f32ce2d2dd8>"
      ]
     },
     "execution_count": 24,
     "metadata": {},
     "output_type": "execute_result"
    },
    {
     "data": {
      "image/png": "[encoded data removed]",
      "text/plain": [
       "<Figure size 1080x720 with 1 Axes>"
      ]
     },
     "metadata": {
      "needs_background": "light"
     },
     "output_type": "display_data"
    }
   ],
   "source": [
    "#comparing the results of NN and LR\n",
    "plt.figure(figsize=(15,10))\n",
    "\n",
    "# Neural Network plots\n",
    "plt.plot(acc_nn.accuracies, 'r-', label = \"Training Accuracies - NN\")\n",
    "plt.plot(acc_nn.test_accuracies, 'g-', label = \"Testing Accuracies - NN\")\n",
    "\n",
    "# Logistic Regression plots\n",
    "plt.plot(acc_lr.accuracies, 'k-', label = \"Training Accuracies - LR\")\n",
    "plt.plot(acc_lr.test_accuracies, 'b-', label = \"Testing Accuracies - LR\")\n",
    "plt.legend()"
   ]
  },
  {
   "cell_type": "markdown",
   "id": "80dfb35c",
   "metadata": {
    "papermill": {
     "duration": 0.041968,
     "end_time": "2022-08-25T10:11:56.743497",
     "exception": false,
     "start_time": "2022-08-25T10:11:56.701529",
     "status": "completed"
    },
    "tags": []
   },
   "source": [
    "#### Plotting the outputs of this layer of the NN.\n"
   ]
  },
  {
   "cell_type": "code",
   "execution_count": 25,
   "id": "45eb2ff5",
   "metadata": {
    "execution": {
     "iopub.execute_input": "2022-08-25T10:11:56.841474Z",
     "iopub.status.busy": "2022-08-25T10:11:56.837607Z",
     "iopub.status.idle": "2022-08-25T10:11:56.857744Z",
     "shell.execute_reply": "2022-08-25T10:11:56.856924Z"
    },
    "papermill": {
     "duration": 0.072289,
     "end_time": "2022-08-25T10:11:56.857870",
     "exception": false,
     "start_time": "2022-08-25T10:11:56.785581",
     "status": "completed"
    },
    "tags": []
   },
   "outputs": [],
   "source": [
    "new_model = Model(layers[:-2])\n",
    "testing_plot = new_model(testing_data_x)"
   ]
  },
  {
   "cell_type": "code",
   "execution_count": 26,
   "id": "4c0a5485",
   "metadata": {
    "execution": {
     "iopub.execute_input": "2022-08-25T10:11:56.949373Z",
     "iopub.status.busy": "2022-08-25T10:11:56.947885Z",
     "iopub.status.idle": "2022-08-25T10:11:57.192115Z",
     "shell.execute_reply": "2022-08-25T10:11:57.191623Z"
    },
    "papermill": {
     "duration": 0.291857,
     "end_time": "2022-08-25T10:11:57.192233",
     "exception": false,
     "start_time": "2022-08-25T10:11:56.900376",
     "status": "completed"
    },
    "tags": []
   },
   "outputs": [
    {
     "data": {
      "text/plain": [
       "Text(0.5, 1.0, 'Outputs')"
      ]
     },
     "execution_count": 26,
     "metadata": {},
     "output_type": "execute_result"
    },
    {
     "data": {
      "image/png": "[encoded data removed]",
      "text/plain": [
       "<Figure size 576x504 with 1 Axes>"
      ]
     },
     "metadata": {
      "needs_background": "light"
     },
     "output_type": "display_data"
    }
   ],
   "source": [
    "# Plotting the scatter plot of points and color coding by class\n",
    "plt.figure(figsize=(8,7))\n",
    "plt.scatter(testing_plot[:,0], testing_plot[:,1], alpha = 0.1, c = y_test.ravel());\n",
    "plt.title('Outputs')"
   ]
  },
  {
   "cell_type": "markdown",
   "id": "a74fcf8f",
   "metadata": {
    "papermill": {
     "duration": 0.045471,
     "end_time": "2022-08-25T10:11:57.283418",
     "exception": false,
     "start_time": "2022-08-25T10:11:57.237947",
     "status": "completed"
    },
    "tags": []
   },
   "source": [
    "Probability contours"
   ]
  },
  {
   "cell_type": "code",
   "execution_count": 27,
   "id": "d0afc8e3",
   "metadata": {
    "execution": {
     "iopub.execute_input": "2022-08-25T10:11:57.408394Z",
     "iopub.status.busy": "2022-08-25T10:11:57.407798Z",
     "iopub.status.idle": "2022-08-25T10:11:57.420355Z",
     "shell.execute_reply": "2022-08-25T10:11:57.419872Z"
    },
    "papermill": {
     "duration": 0.091248,
     "end_time": "2022-08-25T10:11:57.420471",
     "exception": false,
     "start_time": "2022-08-25T10:11:57.329223",
     "status": "completed"
    },
    "tags": []
   },
   "outputs": [],
   "source": [
    "model_prob = Model(layers[-2:]) "
   ]
  },
  {
   "cell_type": "code",
   "execution_count": 28,
   "id": "9b96e238",
   "metadata": {
    "execution": {
     "iopub.execute_input": "2022-08-25T10:11:57.521722Z",
     "iopub.status.busy": "2022-08-25T10:11:57.520784Z",
     "iopub.status.idle": "2022-08-25T10:11:57.535379Z",
     "shell.execute_reply": "2022-08-25T10:11:57.535816Z"
    },
    "papermill": {
     "duration": 0.068972,
     "end_time": "2022-08-25T10:11:57.535961",
     "exception": false,
     "start_time": "2022-08-25T10:11:57.466989",
     "status": "completed"
    },
    "tags": []
   },
   "outputs": [],
   "source": [
    "#creating the x and y ranges according to the above generated plot.\n",
    "x_range = np.linspace(-4, 1, 100) \n",
    "y_range = np.linspace(-6, 6, 100) \n",
    "x_grid, y_grid = np.meshgrid(x_range, y_range) # x_grid and y_grig are of size 100 X 100\n",
    "\n",
    "# converting x_grid and y_grid to continuous arrays\n",
    "x_gridflat = np.ravel(x_grid)\n",
    "y_gridflat = np.ravel(y_grid)\n",
    "\n",
    "# The last layer of the current model takes two columns as input. Hence transpose of np.vstack() is required.\n",
    "X = np.vstack((x_gridflat, y_gridflat)).T\n",
    "\n",
    "prob_contour = model_prob(X).reshape(100,100) "
   ]
  },
  {
   "cell_type": "code",
   "execution_count": 29,
   "id": "da72499a",
   "metadata": {
    "execution": {
     "iopub.execute_input": "2022-08-25T10:11:57.633406Z",
     "iopub.status.busy": "2022-08-25T10:11:57.632800Z",
     "iopub.status.idle": "2022-08-25T10:11:57.886628Z",
     "shell.execute_reply": "2022-08-25T10:11:57.887080Z"
    },
    "papermill": {
     "duration": 0.305008,
     "end_time": "2022-08-25T10:11:57.887231",
     "exception": false,
     "start_time": "2022-08-25T10:11:57.582223",
     "status": "completed"
    },
    "tags": []
   },
   "outputs": [
    {
     "data": {
      "image/png": "[encoded data removed]",
      "text/plain": [
       "<Figure size 720x648 with 1 Axes>"
      ]
     },
     "metadata": {
      "needs_background": "light"
     },
     "output_type": "display_data"
    }
   ],
   "source": [
    "plt.figure(figsize=(10,9))\n",
    "plt.scatter(testing_plot[:,0], testing_plot[:,1], alpha = 0.1, c = y_test.ravel())\n",
    "contours = plt.contour(x_grid,y_grid,prob_contour)\n",
    "plt.title('Probability Contours')\n",
    "plt.clabel(contours, inline = True );"
   ]
  },
  {
   "cell_type": "code",
   "execution_count": null,
   "id": "e81b4ac7",
   "metadata": {
    "papermill": {
     "duration": 0.0482,
     "end_time": "2022-08-25T10:11:57.984199",
     "exception": false,
     "start_time": "2022-08-25T10:11:57.935999",
     "status": "completed"
    },
    "tags": []
   },
   "outputs": [],
   "source": []
  }
 ],
 "metadata": {
  "kernelspec": {
   "display_name": "Python 3",
   "language": "python",
   "name": "python3"
  },
  "language_info": {
   "codemirror_mode": {
    "name": "ipython",
    "version": 3
   },
   "file_extension": ".py",
   "mimetype": "text/x-python",
   "name": "python",
   "nbconvert_exporter": "python",
   "pygments_lexer": "ipython3",
   "version": "3.6.15"
  },
  "papermill": {
   "default_parameters": {},
   "duration": 97.253541,
   "end_time": "2022-08-25T10:11:58.451742",
   "environment_variables": {},
   "exception": null,
   "input_path": "2020-08-11-part2.ipynb",
   "output_path": "2020-08-11-part2.ipynb",
   "parameters": {},
   "start_time": "2022-08-25T10:10:21.198201",
   "version": "2.3.3"
  }
 },
 "nbformat": 4,
 "nbformat_minor": 5
}