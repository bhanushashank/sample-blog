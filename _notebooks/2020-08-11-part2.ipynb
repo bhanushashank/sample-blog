{
 "cells": [
  {
   "cell_type": "markdown",
   "id": "98380cd3",
   "metadata": {
    "papermill": {
     "duration": 0.029114,
     "end_time": "2022-10-22T20:11:28.267396",
     "exception": false,
     "start_time": "2022-10-22T20:11:28.238282",
     "status": "completed"
    },
    "tags": []
   },
   "source": [
    "# Distinguish Your Own Digits (DYOD)"
   ]
  },
  {
   "cell_type": "markdown",
   "id": "ef31240d",
   "metadata": {
    "papermill": {
     "duration": 0.023996,
     "end_time": "2022-10-22T20:11:28.315917",
     "exception": false,
     "start_time": "2022-10-22T20:11:28.291921",
     "status": "completed"
    },
    "tags": []
   },
   "source": [
    "You are going to write a classifier that distinguishes between the number 3 and number 8."
   ]
  },
  {
   "cell_type": "code",
   "execution_count": 1,
   "id": "b15c8646",
   "metadata": {
    "execution": {
     "iopub.execute_input": "2022-10-22T20:11:28.375616Z",
     "iopub.status.busy": "2022-10-22T20:11:28.374994Z",
     "iopub.status.idle": "2022-10-22T20:11:28.385135Z",
     "shell.execute_reply": "2022-10-22T20:11:28.385648Z"
    },
    "papermill": {
     "duration": 0.046064,
     "end_time": "2022-10-22T20:11:28.385809",
     "exception": false,
     "start_time": "2022-10-22T20:11:28.339745",
     "status": "completed"
    },
    "tags": []
   },
   "outputs": [],
   "source": [
    "%load_ext autoreload\n",
    "%autoreload 2"
   ]
  },
  {
   "cell_type": "code",
   "execution_count": 2,
   "id": "22ef38dc",
   "metadata": {
    "execution": {
     "iopub.execute_input": "2022-10-22T20:11:28.441467Z",
     "iopub.status.busy": "2022-10-22T20:11:28.440848Z",
     "iopub.status.idle": "2022-10-22T20:11:28.975073Z",
     "shell.execute_reply": "2022-10-22T20:11:28.975535Z"
    },
    "papermill": {
     "duration": 0.565758,
     "end_time": "2022-10-22T20:11:28.975686",
     "exception": false,
     "start_time": "2022-10-22T20:11:28.409928",
     "status": "completed"
    },
    "tags": []
   },
   "outputs": [],
   "source": [
    "%matplotlib inline\n",
    "import numpy as np\n",
    "import matplotlib.pyplot as plt\n",
    "import pandas as pd"
   ]
  },
  {
   "cell_type": "markdown",
   "id": "ba036198",
   "metadata": {
    "papermill": {
     "duration": 0.023816,
     "end_time": "2022-10-22T20:11:29.023684",
     "exception": false,
     "start_time": "2022-10-22T20:11:28.999868",
     "status": "completed"
    },
    "tags": []
   },
   "source": [
    "From the command line run `pip install mnist`. This is a library that will help you bring down the mnist dataset. If you run this from a notebook, you need to put  `!pip install mnist` in a cell by itself."
   ]
  },
  {
   "cell_type": "code",
   "execution_count": 3,
   "id": "bb6ad8a1",
   "metadata": {
    "execution": {
     "iopub.execute_input": "2022-10-22T20:11:29.080011Z",
     "iopub.status.busy": "2022-10-22T20:11:29.079395Z",
     "iopub.status.idle": "2022-10-22T20:11:30.668942Z",
     "shell.execute_reply": "2022-10-22T20:11:30.668414Z"
    },
    "papermill": {
     "duration": 1.62147,
     "end_time": "2022-10-22T20:11:30.669062",
     "exception": false,
     "start_time": "2022-10-22T20:11:29.047592",
     "status": "completed"
    },
    "tags": []
   },
   "outputs": [
    {
     "name": "stdout",
     "output_type": "stream",
     "text": [
      "Collecting mnist\r\n",
      "  Downloading mnist-0.2.2-py2.py3-none-any.whl (3.5 kB)\r\n"
     ]
    },
    {
     "name": "stdout",
     "output_type": "stream",
     "text": [
      "Requirement already satisfied: numpy in /opt/hostedtoolcache/Python/3.6.15/x64/lib/python3.6/site-packages (from mnist) (1.19.5)\r\n"
     ]
    },
    {
     "name": "stdout",
     "output_type": "stream",
     "text": [
      "Installing collected packages: mnist\r\n",
      "Successfully installed mnist-0.2.2\r\n"
     ]
    }
   ],
   "source": [
    "!pip install mnist"
   ]
  },
  {
   "cell_type": "markdown",
   "id": "69df9c9a",
   "metadata": {
    "papermill": {
     "duration": 0.024878,
     "end_time": "2022-10-22T20:11:30.718915",
     "exception": false,
     "start_time": "2022-10-22T20:11:30.694037",
     "status": "completed"
    },
    "tags": []
   },
   "source": [
    "## Preparing the Data"
   ]
  },
  {
   "cell_type": "code",
   "execution_count": 4,
   "id": "7f69d806",
   "metadata": {
    "execution": {
     "iopub.execute_input": "2022-10-22T20:11:30.774931Z",
     "iopub.status.busy": "2022-10-22T20:11:30.774335Z",
     "iopub.status.idle": "2022-10-22T20:11:30.788417Z",
     "shell.execute_reply": "2022-10-22T20:11:30.787932Z"
    },
    "papermill": {
     "duration": 0.045056,
     "end_time": "2022-10-22T20:11:30.788534",
     "exception": false,
     "start_time": "2022-10-22T20:11:30.743478",
     "status": "completed"
    },
    "tags": []
   },
   "outputs": [],
   "source": [
    "import mnist"
   ]
  },
  {
   "cell_type": "code",
   "execution_count": 5,
   "id": "a411e44f",
   "metadata": {
    "execution": {
     "iopub.execute_input": "2022-10-22T20:11:30.849112Z",
     "iopub.status.busy": "2022-10-22T20:11:30.848496Z",
     "iopub.status.idle": "2022-10-22T20:11:31.391221Z",
     "shell.execute_reply": "2022-10-22T20:11:31.390696Z"
    },
    "papermill": {
     "duration": 0.577899,
     "end_time": "2022-10-22T20:11:31.391342",
     "exception": false,
     "start_time": "2022-10-22T20:11:30.813443",
     "status": "completed"
    },
    "tags": []
   },
   "outputs": [],
   "source": [
    "train_images = mnist.train_images()\n",
    "train_labels = mnist.train_labels()"
   ]
  },
  {
   "cell_type": "code",
   "execution_count": 6,
   "id": "dceab3a5",
   "metadata": {
    "execution": {
     "iopub.execute_input": "2022-10-22T20:11:31.448880Z",
     "iopub.status.busy": "2022-10-22T20:11:31.448287Z",
     "iopub.status.idle": "2022-10-22T20:11:31.461815Z",
     "shell.execute_reply": "2022-10-22T20:11:31.461289Z"
    },
    "papermill": {
     "duration": 0.045599,
     "end_time": "2022-10-22T20:11:31.461931",
     "exception": false,
     "start_time": "2022-10-22T20:11:31.416332",
     "status": "completed"
    },
    "tags": []
   },
   "outputs": [
    {
     "data": {
      "text/plain": [
       "((60000, 28, 28), (60000,))"
      ]
     },
     "execution_count": 6,
     "metadata": {},
     "output_type": "execute_result"
    }
   ],
   "source": [
    "train_images.shape, train_labels.shape"
   ]
  },
  {
   "cell_type": "code",
   "execution_count": 7,
   "id": "f50dc2bb",
   "metadata": {
    "execution": {
     "iopub.execute_input": "2022-10-22T20:11:31.520709Z",
     "iopub.status.busy": "2022-10-22T20:11:31.520129Z",
     "iopub.status.idle": "2022-10-22T20:11:31.659428Z",
     "shell.execute_reply": "2022-10-22T20:11:31.658225Z"
    },
    "papermill": {
     "duration": 0.172627,
     "end_time": "2022-10-22T20:11:31.659562",
     "exception": false,
     "start_time": "2022-10-22T20:11:31.486935",
     "status": "completed"
    },
    "tags": []
   },
   "outputs": [],
   "source": [
    "test_images = mnist.test_images()\n",
    "test_labels = mnist.test_labels()"
   ]
  },
  {
   "cell_type": "code",
   "execution_count": 8,
   "id": "fc38cf1b",
   "metadata": {
    "execution": {
     "iopub.execute_input": "2022-10-22T20:11:31.718500Z",
     "iopub.status.busy": "2022-10-22T20:11:31.713645Z",
     "iopub.status.idle": "2022-10-22T20:11:31.726719Z",
     "shell.execute_reply": "2022-10-22T20:11:31.726145Z"
    },
    "papermill": {
     "duration": 0.041923,
     "end_time": "2022-10-22T20:11:31.726832",
     "exception": false,
     "start_time": "2022-10-22T20:11:31.684909",
     "status": "completed"
    },
    "tags": []
   },
   "outputs": [
    {
     "data": {
      "text/plain": [
       "((10000, 28, 28), (10000,))"
      ]
     },
     "execution_count": 8,
     "metadata": {},
     "output_type": "execute_result"
    }
   ],
   "source": [
    "test_images.shape, test_labels.shape"
   ]
  },
  {
   "cell_type": "code",
   "execution_count": 9,
   "id": "f9ed8fe0",
   "metadata": {
    "execution": {
     "iopub.execute_input": "2022-10-22T20:11:31.781375Z",
     "iopub.status.busy": "2022-10-22T20:11:31.780786Z",
     "iopub.status.idle": "2022-10-22T20:11:31.918738Z",
     "shell.execute_reply": "2022-10-22T20:11:31.919251Z"
    },
    "papermill": {
     "duration": 0.167394,
     "end_time": "2022-10-22T20:11:31.919402",
     "exception": false,
     "start_time": "2022-10-22T20:11:31.752008",
     "status": "completed"
    },
    "tags": []
   },
   "outputs": [
    {
     "name": "stdout",
     "output_type": "stream",
     "text": [
      "2\n"
     ]
    },
    {
     "data": {
      "text/plain": [
       "<matplotlib.image.AxesImage at 0x7f2a724b9c88>"
      ]
     },
     "execution_count": 9,
     "metadata": {},
     "output_type": "execute_result"
    },
    {
     "data": {
      "image/png": "[encoded data removed]",
      "text/plain": [
       "<Figure size 432x288 with 1 Axes>"
      ]
     },
     "metadata": {
      "needs_background": "light"
     },
     "output_type": "display_data"
    }
   ],
   "source": [
    "image_index = 7776 # You may select anything up to 60,000\n",
    "print(train_labels[image_index]) \n",
    "plt.imshow(train_images[image_index], cmap='Greys')"
   ]
  },
  {
   "cell_type": "markdown",
   "id": "a8d2388d",
   "metadata": {
    "papermill": {
     "duration": 0.026958,
     "end_time": "2022-10-22T20:11:31.973317",
     "exception": false,
     "start_time": "2022-10-22T20:11:31.946359",
     "status": "completed"
    },
    "tags": []
   },
   "source": [
    "## Filter data to get 3 and 8 out"
   ]
  },
  {
   "cell_type": "code",
   "execution_count": 10,
   "id": "776f7fc7",
   "metadata": {
    "execution": {
     "iopub.execute_input": "2022-10-22T20:11:32.036384Z",
     "iopub.status.busy": "2022-10-22T20:11:32.035749Z",
     "iopub.status.idle": "2022-10-22T20:11:32.051764Z",
     "shell.execute_reply": "2022-10-22T20:11:32.051265Z"
    },
    "papermill": {
     "duration": 0.052125,
     "end_time": "2022-10-22T20:11:32.051882",
     "exception": false,
     "start_time": "2022-10-22T20:11:31.999757",
     "status": "completed"
    },
    "tags": []
   },
   "outputs": [],
   "source": [
    "train_filter = np.where((train_labels == 3 ) | (train_labels == 8))\n",
    "test_filter = np.where((test_labels == 3) | (test_labels == 8))\n",
    "X_train, y_train = train_images[train_filter], train_labels[train_filter]\n",
    "X_test, y_test = test_images[test_filter], test_labels[test_filter]"
   ]
  },
  {
   "cell_type": "markdown",
   "id": "948f0b7e",
   "metadata": {
    "papermill": {
     "duration": 0.026815,
     "end_time": "2022-10-22T20:11:32.106118",
     "exception": false,
     "start_time": "2022-10-22T20:11:32.079303",
     "status": "completed"
    },
    "tags": []
   },
   "source": [
    "We normalize the pizel values in the 0 to 1 range"
   ]
  },
  {
   "cell_type": "code",
   "execution_count": 11,
   "id": "ee4c2166",
   "metadata": {
    "execution": {
     "iopub.execute_input": "2022-10-22T20:11:32.169309Z",
     "iopub.status.busy": "2022-10-22T20:11:32.168145Z",
     "iopub.status.idle": "2022-10-22T20:11:32.213314Z",
     "shell.execute_reply": "2022-10-22T20:11:32.212801Z"
    },
    "papermill": {
     "duration": 0.080919,
     "end_time": "2022-10-22T20:11:32.213458",
     "exception": false,
     "start_time": "2022-10-22T20:11:32.132539",
     "status": "completed"
    },
    "tags": []
   },
   "outputs": [],
   "source": [
    "X_train = X_train/255.\n",
    "X_test = X_test/255."
   ]
  },
  {
   "cell_type": "markdown",
   "id": "ddcf4fab",
   "metadata": {
    "papermill": {
     "duration": 0.026733,
     "end_time": "2022-10-22T20:11:32.267337",
     "exception": false,
     "start_time": "2022-10-22T20:11:32.240604",
     "status": "completed"
    },
    "tags": []
   },
   "source": [
    "And setup the labels as 1 (when the digit is 3) and 0 (when the digit is 8)"
   ]
  },
  {
   "cell_type": "code",
   "execution_count": 12,
   "id": "7dc908f2",
   "metadata": {
    "execution": {
     "iopub.execute_input": "2022-10-22T20:11:32.324241Z",
     "iopub.status.busy": "2022-10-22T20:11:32.323651Z",
     "iopub.status.idle": "2022-10-22T20:11:32.336834Z",
     "shell.execute_reply": "2022-10-22T20:11:32.336372Z"
    },
    "papermill": {
     "duration": 0.043307,
     "end_time": "2022-10-22T20:11:32.336954",
     "exception": false,
     "start_time": "2022-10-22T20:11:32.293647",
     "status": "completed"
    },
    "tags": []
   },
   "outputs": [],
   "source": [
    "y_train = 1*(y_train==3)\n",
    "y_test = 1*(y_test==3)"
   ]
  },
  {
   "cell_type": "code",
   "execution_count": 13,
   "id": "01e4e969",
   "metadata": {
    "execution": {
     "iopub.execute_input": "2022-10-22T20:11:32.398544Z",
     "iopub.status.busy": "2022-10-22T20:11:32.394673Z",
     "iopub.status.idle": "2022-10-22T20:11:32.409644Z",
     "shell.execute_reply": "2022-10-22T20:11:32.410078Z"
    },
    "papermill": {
     "duration": 0.046665,
     "end_time": "2022-10-22T20:11:32.410219",
     "exception": false,
     "start_time": "2022-10-22T20:11:32.363554",
     "status": "completed"
    },
    "tags": []
   },
   "outputs": [
    {
     "data": {
      "text/plain": [
       "((11982, 28, 28), (1984, 28, 28))"
      ]
     },
     "execution_count": 13,
     "metadata": {},
     "output_type": "execute_result"
    }
   ],
   "source": [
    "X_train.shape, X_test.shape"
   ]
  },
  {
   "cell_type": "markdown",
   "id": "5ccf3f85",
   "metadata": {
    "papermill": {
     "duration": 0.026504,
     "end_time": "2022-10-22T20:11:32.463393",
     "exception": false,
     "start_time": "2022-10-22T20:11:32.436889",
     "status": "completed"
    },
    "tags": []
   },
   "source": [
    "We reshape the data to flatten the image pixels into a set of features or co-variates:"
   ]
  },
  {
   "cell_type": "code",
   "execution_count": 14,
   "id": "5286a4a3",
   "metadata": {
    "execution": {
     "iopub.execute_input": "2022-10-22T20:11:32.523402Z",
     "iopub.status.busy": "2022-10-22T20:11:32.521757Z",
     "iopub.status.idle": "2022-10-22T20:11:32.535636Z",
     "shell.execute_reply": "2022-10-22T20:11:32.536059Z"
    },
    "papermill": {
     "duration": 0.046194,
     "end_time": "2022-10-22T20:11:32.536200",
     "exception": false,
     "start_time": "2022-10-22T20:11:32.490006",
     "status": "completed"
    },
    "tags": []
   },
   "outputs": [
    {
     "data": {
      "text/plain": [
       "((11982, 784), (1984, 784))"
      ]
     },
     "execution_count": 14,
     "metadata": {},
     "output_type": "execute_result"
    }
   ],
   "source": [
    "X_train = X_train.reshape(X_train.shape[0], -1)\n",
    "X_test = X_test.reshape(X_test.shape[0], -1)\n",
    "X_train.shape, X_test.shape"
   ]
  },
  {
   "cell_type": "code",
   "execution_count": 15,
   "id": "73c5f88a",
   "metadata": {
    "execution": {
     "iopub.execute_input": "2022-10-22T20:11:32.596392Z",
     "iopub.status.busy": "2022-10-22T20:11:32.595118Z",
     "iopub.status.idle": "2022-10-22T20:11:32.613965Z",
     "shell.execute_reply": "2022-10-22T20:11:32.613482Z"
    },
    "papermill": {
     "duration": 0.05098,
     "end_time": "2022-10-22T20:11:32.614074",
     "exception": false,
     "start_time": "2022-10-22T20:11:32.563094",
     "status": "completed"
    },
    "tags": []
   },
   "outputs": [],
   "source": [
    "#Impoting functions from 'Kudzu'\n",
    "from kudzu.model import Model\n",
    "from kudzu.train import Learner\n",
    "from kudzu.optim import GD\n",
    "from kudzu.data import Data, Sampler,Dataloader\n",
    "\n",
    "from kudzu.callbacks import AccCallback\n",
    "from kudzu.callbacks import ClfCallback\n",
    "\n",
    "from kudzu.loss import MSE\n",
    "\n",
    "from kudzu.layer import Sigmoid,Relu\n",
    "from kudzu.layer import Affine"
   ]
  },
  {
   "cell_type": "markdown",
   "id": "bc01172a",
   "metadata": {
    "papermill": {
     "duration": 0.026679,
     "end_time": "2022-10-22T20:11:32.667633",
     "exception": false,
     "start_time": "2022-10-22T20:11:32.640954",
     "status": "completed"
    },
    "tags": []
   },
   "source": [
    "### Let us create a `Config` class, to store important parameters. \n",
    "This class essentially plays the role of a dictionary."
   ]
  },
  {
   "cell_type": "code",
   "execution_count": 16,
   "id": "978281aa",
   "metadata": {
    "execution": {
     "iopub.execute_input": "2022-10-22T20:11:32.732403Z",
     "iopub.status.busy": "2022-10-22T20:11:32.731799Z",
     "iopub.status.idle": "2022-10-22T20:11:32.740213Z",
     "shell.execute_reply": "2022-10-22T20:11:32.739732Z"
    },
    "papermill": {
     "duration": 0.046082,
     "end_time": "2022-10-22T20:11:32.740325",
     "exception": false,
     "start_time": "2022-10-22T20:11:32.694243",
     "status": "completed"
    },
    "tags": []
   },
   "outputs": [],
   "source": [
    "class Config:\n",
    "    pass\n",
    "config = Config()\n",
    "config.lr = 0.001\n",
    "config.num_epochs = 250\n",
    "config.bs = 50"
   ]
  },
  {
   "cell_type": "markdown",
   "id": "1385fa59",
   "metadata": {
    "papermill": {
     "duration": 0.026654,
     "end_time": "2022-10-22T20:11:32.793889",
     "exception": false,
     "start_time": "2022-10-22T20:11:32.767235",
     "status": "completed"
    },
    "tags": []
   },
   "source": [
    "### Running Models with the Training data\n",
    "Details about the network layers:\n",
    "- A first affine layer has 784 inputs and does 100 affine transforms. These are followed by a Relu\n",
    "- A second affine layer has 100 inputs from the 100 activations of the past layer, and does 100 affine transforms. These are followed by a Relu\n",
    "- A third affine layer has 100 activations and does 2 affine transformations to create an embedding for visualization. There is no non-linearity here.\n",
    "- A final \"logistic regression\" which has an affine transform from 2 inputs to 1 output, which is squeezed through a sigmoid.\n"
   ]
  },
  {
   "cell_type": "code",
   "execution_count": 17,
   "id": "2b9c66db",
   "metadata": {
    "execution": {
     "iopub.execute_input": "2022-10-22T20:11:32.854861Z",
     "iopub.status.busy": "2022-10-22T20:11:32.854245Z",
     "iopub.status.idle": "2022-10-22T20:11:32.865130Z",
     "shell.execute_reply": "2022-10-22T20:11:32.864649Z"
    },
    "papermill": {
     "duration": 0.04473,
     "end_time": "2022-10-22T20:11:32.865239",
     "exception": false,
     "start_time": "2022-10-22T20:11:32.820509",
     "status": "completed"
    },
    "tags": []
   },
   "outputs": [],
   "source": [
    "data = Data(X_train, y_train.reshape(-1,1))\n",
    "sampler = Sampler(data, config.bs, shuffle=True)\n",
    "\n",
    "dl = Dataloader(data, sampler)\n",
    "\n",
    "opt = GD(config.lr)\n",
    "loss = MSE()"
   ]
  },
  {
   "cell_type": "code",
   "execution_count": 18,
   "id": "b275e4c2",
   "metadata": {
    "execution": {
     "iopub.execute_input": "2022-10-22T20:11:32.928381Z",
     "iopub.status.busy": "2022-10-22T20:11:32.927783Z",
     "iopub.status.idle": "2022-10-22T20:11:32.936741Z",
     "shell.execute_reply": "2022-10-22T20:11:32.936147Z"
    },
    "papermill": {
     "duration": 0.044786,
     "end_time": "2022-10-22T20:11:32.936855",
     "exception": false,
     "start_time": "2022-10-22T20:11:32.892069",
     "status": "completed"
    },
    "tags": []
   },
   "outputs": [],
   "source": [
    "training_data_x = X_train\n",
    "testing_data_x = X_test\n",
    "training_data_y = y_train.reshape(-1,1)\n",
    "testing_data_y = y_test.reshape(-1,1)"
   ]
  },
  {
   "cell_type": "code",
   "execution_count": 19,
   "id": "76951160",
   "metadata": {
    "execution": {
     "iopub.execute_input": "2022-10-22T20:11:32.995749Z",
     "iopub.status.busy": "2022-10-22T20:11:32.995158Z",
     "iopub.status.idle": "2022-10-22T20:11:33.010844Z",
     "shell.execute_reply": "2022-10-22T20:11:33.011265Z"
    },
    "papermill": {
     "duration": 0.047848,
     "end_time": "2022-10-22T20:11:33.011396",
     "exception": false,
     "start_time": "2022-10-22T20:11:32.963548",
     "status": "completed"
    },
    "tags": []
   },
   "outputs": [
    {
     "name": "stdout",
     "output_type": "stream",
     "text": [
      "xavier\n",
      "xavier\n",
      "xavier\n",
      "xavier\n",
      "xavier\n"
     ]
    }
   ],
   "source": [
    "layers = [Affine(\"first\", 784, 100), Relu(\"first\"), Affine(\"second\", 100, 100), Relu(\"second\"), Affine(\"third\", 100, 2), Affine(\"last\", 2, 1), Sigmoid(\"last\")]\n",
    "model_nn = Model(layers)\n",
    "model_lr = Model([Affine(\"logits\", 784, 1), Sigmoid(\"sigmoid\")])"
   ]
  },
  {
   "cell_type": "code",
   "execution_count": 20,
   "id": "6eede77a",
   "metadata": {
    "execution": {
     "iopub.execute_input": "2022-10-22T20:11:33.074571Z",
     "iopub.status.busy": "2022-10-22T20:11:33.073967Z",
     "iopub.status.idle": "2022-10-22T20:11:33.083491Z",
     "shell.execute_reply": "2022-10-22T20:11:33.083019Z"
    },
    "papermill": {
     "duration": 0.044994,
     "end_time": "2022-10-22T20:11:33.083605",
     "exception": false,
     "start_time": "2022-10-22T20:11:33.038611",
     "status": "completed"
    },
    "tags": []
   },
   "outputs": [],
   "source": [
    "nn_learner = Learner(loss, model_nn, opt, config.num_epochs)\n",
    "acc_nn = ClfCallback(nn_learner, config.bs, training_data_x , testing_data_x, training_data_y, testing_data_y)\n",
    "nn_learner.set_callbacks([acc_nn])"
   ]
  },
  {
   "cell_type": "code",
   "execution_count": 21,
   "id": "877b6cc7",
   "metadata": {
    "execution": {
     "iopub.execute_input": "2022-10-22T20:11:33.143650Z",
     "iopub.status.busy": "2022-10-22T20:11:33.143042Z",
     "iopub.status.idle": "2022-10-22T20:11:33.154010Z",
     "shell.execute_reply": "2022-10-22T20:11:33.154566Z"
    },
    "papermill": {
     "duration": 0.043941,
     "end_time": "2022-10-22T20:11:33.154699",
     "exception": false,
     "start_time": "2022-10-22T20:11:33.110758",
     "status": "completed"
    },
    "tags": []
   },
   "outputs": [],
   "source": [
    "lr_learner = Learner(loss, model_lr, opt, config.num_epochs)\n",
    "acc_lr = ClfCallback(lr_learner, config.bs, training_data_x , testing_data_x, training_data_y, testing_data_y)\n",
    "lr_learner.set_callbacks([acc_lr])"
   ]
  },
  {
   "cell_type": "code",
   "execution_count": 22,
   "id": "d9b133c3",
   "metadata": {
    "execution": {
     "iopub.execute_input": "2022-10-22T20:11:33.212749Z",
     "iopub.status.busy": "2022-10-22T20:11:33.212180Z",
     "iopub.status.idle": "2022-10-22T20:12:49.404609Z",
     "shell.execute_reply": "2022-10-22T20:12:49.405494Z"
    },
    "papermill": {
     "duration": 76.223688,
     "end_time": "2022-10-22T20:12:49.405647",
     "exception": false,
     "start_time": "2022-10-22T20:11:33.181959",
     "status": "completed"
    },
    "tags": []
   },
   "outputs": [
    {
     "name": "stdout",
     "output_type": "stream",
     "text": [
      "Epoch 0, Loss 0.2151\n",
      "Training Accuracy: 0.7781, Testing Accuracy: 0.7853\n",
      "\n"
     ]
    },
    {
     "name": "stdout",
     "output_type": "stream",
     "text": [
      "Epoch 10, Loss 0.0692\n",
      "Training Accuracy: 0.9287, Testing Accuracy: 0.9430\n",
      "\n"
     ]
    },
    {
     "name": "stdout",
     "output_type": "stream",
     "text": [
      "Epoch 20, Loss 0.0459\n",
      "Training Accuracy: 0.9503, Testing Accuracy: 0.9607\n",
      "\n"
     ]
    },
    {
     "name": "stdout",
     "output_type": "stream",
     "text": [
      "Epoch 30, Loss 0.0374\n",
      "Training Accuracy: 0.9591, Testing Accuracy: 0.9667\n",
      "\n"
     ]
    },
    {
     "name": "stdout",
     "output_type": "stream",
     "text": [
      "Epoch 40, Loss 0.033\n",
      "Training Accuracy: 0.9631, Testing Accuracy: 0.9698\n",
      "\n"
     ]
    },
    {
     "name": "stdout",
     "output_type": "stream",
     "text": [
      "Epoch 50, Loss 0.0302\n",
      "Training Accuracy: 0.9658, Testing Accuracy: 0.9698\n",
      "\n"
     ]
    },
    {
     "name": "stdout",
     "output_type": "stream",
     "text": [
      "Epoch 60, Loss 0.0282\n",
      "Training Accuracy: 0.9673, Testing Accuracy: 0.9708\n",
      "\n"
     ]
    },
    {
     "name": "stdout",
     "output_type": "stream",
     "text": [
      "Epoch 70, Loss 0.0267\n",
      "Training Accuracy: 0.9695, Testing Accuracy: 0.9698\n",
      "\n"
     ]
    },
    {
     "name": "stdout",
     "output_type": "stream",
     "text": [
      "Epoch 80, Loss 0.0254\n",
      "Training Accuracy: 0.9722, Testing Accuracy: 0.9698\n",
      "\n"
     ]
    },
    {
     "name": "stdout",
     "output_type": "stream",
     "text": [
      "Epoch 90, Loss 0.0244\n",
      "Training Accuracy: 0.9736, Testing Accuracy: 0.9713\n",
      "\n"
     ]
    },
    {
     "name": "stdout",
     "output_type": "stream",
     "text": [
      "Epoch 100, Loss 0.0235\n",
      "Training Accuracy: 0.9746, Testing Accuracy: 0.9703\n",
      "\n"
     ]
    },
    {
     "name": "stdout",
     "output_type": "stream",
     "text": [
      "Epoch 110, Loss 0.0227\n",
      "Training Accuracy: 0.9754, Testing Accuracy: 0.9718\n",
      "\n"
     ]
    },
    {
     "name": "stdout",
     "output_type": "stream",
     "text": [
      "Epoch 120, Loss 0.022\n",
      "Training Accuracy: 0.9762, Testing Accuracy: 0.9718\n",
      "\n"
     ]
    },
    {
     "name": "stdout",
     "output_type": "stream",
     "text": [
      "Epoch 130, Loss 0.0214\n",
      "Training Accuracy: 0.9770, Testing Accuracy: 0.9718\n",
      "\n"
     ]
    },
    {
     "name": "stdout",
     "output_type": "stream",
     "text": [
      "Epoch 140, Loss 0.0209\n",
      "Training Accuracy: 0.9774, Testing Accuracy: 0.9718\n",
      "\n"
     ]
    },
    {
     "name": "stdout",
     "output_type": "stream",
     "text": [
      "Epoch 150, Loss 0.0203\n",
      "Training Accuracy: 0.9778, Testing Accuracy: 0.9728\n",
      "\n"
     ]
    },
    {
     "name": "stdout",
     "output_type": "stream",
     "text": [
      "Epoch 160, Loss 0.0198\n",
      "Training Accuracy: 0.9781, Testing Accuracy: 0.9728\n",
      "\n"
     ]
    },
    {
     "name": "stdout",
     "output_type": "stream",
     "text": [
      "Epoch 170, Loss 0.0194\n",
      "Training Accuracy: 0.9788, Testing Accuracy: 0.9723\n",
      "\n"
     ]
    },
    {
     "name": "stdout",
     "output_type": "stream",
     "text": [
      "Epoch 180, Loss 0.0189\n",
      "Training Accuracy: 0.9791, Testing Accuracy: 0.9728\n",
      "\n"
     ]
    },
    {
     "name": "stdout",
     "output_type": "stream",
     "text": [
      "Epoch 190, Loss 0.0185\n",
      "Training Accuracy: 0.9796, Testing Accuracy: 0.9728\n",
      "\n"
     ]
    },
    {
     "name": "stdout",
     "output_type": "stream",
     "text": [
      "Epoch 200, Loss 0.0181\n",
      "Training Accuracy: 0.9804, Testing Accuracy: 0.9738\n",
      "\n"
     ]
    },
    {
     "name": "stdout",
     "output_type": "stream",
     "text": [
      "Epoch 210, Loss 0.0178\n",
      "Training Accuracy: 0.9806, Testing Accuracy: 0.9753\n",
      "\n"
     ]
    },
    {
     "name": "stdout",
     "output_type": "stream",
     "text": [
      "Epoch 220, Loss 0.0174\n",
      "Training Accuracy: 0.9811, Testing Accuracy: 0.9753\n",
      "\n"
     ]
    },
    {
     "name": "stdout",
     "output_type": "stream",
     "text": [
      "Epoch 230, Loss 0.017\n",
      "Training Accuracy: 0.9816, Testing Accuracy: 0.9753\n",
      "\n"
     ]
    },
    {
     "name": "stdout",
     "output_type": "stream",
     "text": [
      "Epoch 240, Loss 0.0167\n",
      "Training Accuracy: 0.9818, Testing Accuracy: 0.9753\n",
      "\n"
     ]
    },
    {
     "data": {
      "text/plain": [
       "0.0006655877619170458"
      ]
     },
     "execution_count": 22,
     "metadata": {},
     "output_type": "execute_result"
    }
   ],
   "source": [
    "nn_learner.train_loop(dl)"
   ]
  },
  {
   "cell_type": "code",
   "execution_count": 23,
   "id": "e0163366",
   "metadata": {
    "execution": {
     "iopub.execute_input": "2022-10-22T20:12:49.483445Z",
     "iopub.status.busy": "2022-10-22T20:12:49.482858Z",
     "iopub.status.idle": "2022-10-22T20:13:02.866008Z",
     "shell.execute_reply": "2022-10-22T20:13:02.866834Z"
    },
    "papermill": {
     "duration": 13.426791,
     "end_time": "2022-10-22T20:13:02.866981",
     "exception": false,
     "start_time": "2022-10-22T20:12:49.440190",
     "status": "completed"
    },
    "tags": []
   },
   "outputs": [
    {
     "name": "stdout",
     "output_type": "stream",
     "text": [
      "Epoch 0, Loss 0.2241\n",
      "Training Accuracy: 0.7414, Testing Accuracy: 0.7188\n",
      "\n"
     ]
    },
    {
     "name": "stdout",
     "output_type": "stream",
     "text": [
      "Epoch 10, Loss 0.1013\n",
      "Training Accuracy: 0.9145, Testing Accuracy: 0.9254\n",
      "\n"
     ]
    },
    {
     "name": "stdout",
     "output_type": "stream",
     "text": [
      "Epoch 20, Loss 0.0782\n",
      "Training Accuracy: 0.9291, Testing Accuracy: 0.9395\n",
      "\n"
     ]
    },
    {
     "name": "stdout",
     "output_type": "stream",
     "text": [
      "Epoch 30, Loss 0.0675\n",
      "Training Accuracy: 0.9376, Testing Accuracy: 0.9481\n",
      "\n"
     ]
    },
    {
     "name": "stdout",
     "output_type": "stream",
     "text": [
      "Epoch 40, Loss 0.0611\n",
      "Training Accuracy: 0.9418, Testing Accuracy: 0.9506\n",
      "\n"
     ]
    },
    {
     "name": "stdout",
     "output_type": "stream",
     "text": [
      "Epoch 50, Loss 0.0567\n",
      "Training Accuracy: 0.9452, Testing Accuracy: 0.9521\n",
      "\n"
     ]
    },
    {
     "name": "stdout",
     "output_type": "stream",
     "text": [
      "Epoch 60, Loss 0.0534\n",
      "Training Accuracy: 0.9470, Testing Accuracy: 0.9551\n",
      "\n"
     ]
    },
    {
     "name": "stdout",
     "output_type": "stream",
     "text": [
      "Epoch 70, Loss 0.0509\n",
      "Training Accuracy: 0.9488, Testing Accuracy: 0.9587\n",
      "\n"
     ]
    },
    {
     "name": "stdout",
     "output_type": "stream",
     "text": [
      "Epoch 80, Loss 0.0489\n",
      "Training Accuracy: 0.9513, Testing Accuracy: 0.9602\n",
      "\n"
     ]
    },
    {
     "name": "stdout",
     "output_type": "stream",
     "text": [
      "Epoch 90, Loss 0.0473\n",
      "Training Accuracy: 0.9523, Testing Accuracy: 0.9617\n",
      "\n"
     ]
    },
    {
     "name": "stdout",
     "output_type": "stream",
     "text": [
      "Epoch 100, Loss 0.0459\n",
      "Training Accuracy: 0.9533, Testing Accuracy: 0.9622\n",
      "\n"
     ]
    },
    {
     "name": "stdout",
     "output_type": "stream",
     "text": [
      "Epoch 110, Loss 0.0447\n",
      "Training Accuracy: 0.9548, Testing Accuracy: 0.9632\n",
      "\n"
     ]
    },
    {
     "name": "stdout",
     "output_type": "stream",
     "text": [
      "Epoch 120, Loss 0.0436\n",
      "Training Accuracy: 0.9555, Testing Accuracy: 0.9642\n",
      "\n"
     ]
    },
    {
     "name": "stdout",
     "output_type": "stream",
     "text": [
      "Epoch 130, Loss 0.0427\n",
      "Training Accuracy: 0.9564, Testing Accuracy: 0.9637\n",
      "\n"
     ]
    },
    {
     "name": "stdout",
     "output_type": "stream",
     "text": [
      "Epoch 140, Loss 0.0419\n",
      "Training Accuracy: 0.9570, Testing Accuracy: 0.9642\n",
      "\n"
     ]
    },
    {
     "name": "stdout",
     "output_type": "stream",
     "text": [
      "Epoch 150, Loss 0.0412\n",
      "Training Accuracy: 0.9580, Testing Accuracy: 0.9642\n",
      "\n"
     ]
    },
    {
     "name": "stdout",
     "output_type": "stream",
     "text": [
      "Epoch 160, Loss 0.0405\n",
      "Training Accuracy: 0.9584, Testing Accuracy: 0.9652\n",
      "\n"
     ]
    },
    {
     "name": "stdout",
     "output_type": "stream",
     "text": [
      "Epoch 170, Loss 0.0399\n",
      "Training Accuracy: 0.9588, Testing Accuracy: 0.9652\n",
      "\n"
     ]
    },
    {
     "name": "stdout",
     "output_type": "stream",
     "text": [
      "Epoch 180, Loss 0.0394\n",
      "Training Accuracy: 0.9593, Testing Accuracy: 0.9657\n",
      "\n"
     ]
    },
    {
     "name": "stdout",
     "output_type": "stream",
     "text": [
      "Epoch 190, Loss 0.0388\n",
      "Training Accuracy: 0.9597, Testing Accuracy: 0.9657\n",
      "\n"
     ]
    },
    {
     "name": "stdout",
     "output_type": "stream",
     "text": [
      "Epoch 200, Loss 0.0384\n",
      "Training Accuracy: 0.9599, Testing Accuracy: 0.9652\n",
      "\n"
     ]
    },
    {
     "name": "stdout",
     "output_type": "stream",
     "text": [
      "Epoch 210, Loss 0.0379\n",
      "Training Accuracy: 0.9604, Testing Accuracy: 0.9652\n",
      "\n"
     ]
    },
    {
     "name": "stdout",
     "output_type": "stream",
     "text": [
      "Epoch 220, Loss 0.0375\n",
      "Training Accuracy: 0.9607, Testing Accuracy: 0.9677\n",
      "\n"
     ]
    },
    {
     "name": "stdout",
     "output_type": "stream",
     "text": [
      "Epoch 230, Loss 0.0371\n",
      "Training Accuracy: 0.9608, Testing Accuracy: 0.9682\n",
      "\n"
     ]
    },
    {
     "name": "stdout",
     "output_type": "stream",
     "text": [
      "Epoch 240, Loss 0.0368\n",
      "Training Accuracy: 0.9611, Testing Accuracy: 0.9677\n",
      "\n"
     ]
    },
    {
     "data": {
      "text/plain": [
       "0.05671209285573899"
      ]
     },
     "execution_count": 23,
     "metadata": {},
     "output_type": "execute_result"
    }
   ],
   "source": [
    "lr_learner.train_loop(dl)"
   ]
  },
  {
   "cell_type": "code",
   "execution_count": 24,
   "id": "ca410940",
   "metadata": {
    "execution": {
     "iopub.execute_input": "2022-10-22T20:13:02.964567Z",
     "iopub.status.busy": "2022-10-22T20:13:02.963922Z",
     "iopub.status.idle": "2022-10-22T20:13:03.180602Z",
     "shell.execute_reply": "2022-10-22T20:13:03.181067Z"
    },
    "papermill": {
     "duration": 0.272744,
     "end_time": "2022-10-22T20:13:03.181213",
     "exception": false,
     "start_time": "2022-10-22T20:13:02.908469",
     "status": "completed"
    },
    "tags": []
   },
   "outputs": [
    {
     "data": {
      "text/plain": [
       "<matplotlib.legend.Legend at 0x7f2a720282b0>"
      ]
     },
     "execution_count": 24,
     "metadata": {},
     "output_type": "execute_result"
    },
    {
     "data": {
      "image/png": "[encoded data removed]",
      "text/plain": [
       "<Figure size 1080x720 with 1 Axes>"
      ]
     },
     "metadata": {
      "needs_background": "light"
     },
     "output_type": "display_data"
    }
   ],
   "source": [
    "#comparing the results of NN and LR\n",
    "plt.figure(figsize=(15,10))\n",
    "\n",
    "# Neural Network plots\n",
    "plt.plot(acc_nn.accuracies, 'r-', label = \"Training Accuracies - NN\")\n",
    "plt.plot(acc_nn.test_accuracies, 'g-', label = \"Testing Accuracies - NN\")\n",
    "\n",
    "# Logistic Regression plots\n",
    "plt.plot(acc_lr.accuracies, 'k-', label = \"Training Accuracies - LR\")\n",
    "plt.plot(acc_lr.test_accuracies, 'b-', label = \"Testing Accuracies - LR\")\n",
    "plt.legend()"
   ]
  },
  {
   "cell_type": "markdown",
   "id": "80dfb35c",
   "metadata": {
    "papermill": {
     "duration": 0.042098,
     "end_time": "2022-10-22T20:13:03.265645",
     "exception": false,
     "start_time": "2022-10-22T20:13:03.223547",
     "status": "completed"
    },
    "tags": []
   },
   "source": [
    "#### Plotting the outputs of this layer of the NN.\n"
   ]
  },
  {
   "cell_type": "code",
   "execution_count": 25,
   "id": "45eb2ff5",
   "metadata": {
    "execution": {
     "iopub.execute_input": "2022-10-22T20:13:03.353803Z",
     "iopub.status.busy": "2022-10-22T20:13:03.353155Z",
     "iopub.status.idle": "2022-10-22T20:13:03.373481Z",
     "shell.execute_reply": "2022-10-22T20:13:03.374244Z"
    },
    "papermill": {
     "duration": 0.066774,
     "end_time": "2022-10-22T20:13:03.374392",
     "exception": false,
     "start_time": "2022-10-22T20:13:03.307618",
     "status": "completed"
    },
    "tags": []
   },
   "outputs": [],
   "source": [
    "new_model = Model(layers[:-2])\n",
    "testing_plot = new_model(testing_data_x)"
   ]
  },
  {
   "cell_type": "code",
   "execution_count": 26,
   "id": "4c0a5485",
   "metadata": {
    "execution": {
     "iopub.execute_input": "2022-10-22T20:13:03.463286Z",
     "iopub.status.busy": "2022-10-22T20:13:03.462689Z",
     "iopub.status.idle": "2022-10-22T20:13:03.656588Z",
     "shell.execute_reply": "2022-10-22T20:13:03.656102Z"
    },
    "papermill": {
     "duration": 0.240066,
     "end_time": "2022-10-22T20:13:03.656716",
     "exception": false,
     "start_time": "2022-10-22T20:13:03.416650",
     "status": "completed"
    },
    "tags": []
   },
   "outputs": [
    {
     "data": {
      "text/plain": [
       "Text(0.5, 1.0, 'Outputs')"
      ]
     },
     "execution_count": 26,
     "metadata": {},
     "output_type": "execute_result"
    },
    {
     "data": {
      "image/png": "[encoded data removed]",
      "text/plain": [
       "<Figure size 576x504 with 1 Axes>"
      ]
     },
     "metadata": {
      "needs_background": "light"
     },
     "output_type": "display_data"
    }
   ],
   "source": [
    "# Plotting the scatter plot of points and color coding by class\n",
    "plt.figure(figsize=(8,7))\n",
    "plt.scatter(testing_plot[:,0], testing_plot[:,1], alpha = 0.1, c = y_test.ravel());\n",
    "plt.title('Outputs')"
   ]
  },
  {
   "cell_type": "markdown",
   "id": "a74fcf8f",
   "metadata": {
    "papermill": {
     "duration": 0.044515,
     "end_time": "2022-10-22T20:13:03.745631",
     "exception": false,
     "start_time": "2022-10-22T20:13:03.701116",
     "status": "completed"
    },
    "tags": []
   },
   "source": [
    "Probability contours"
   ]
  },
  {
   "cell_type": "code",
   "execution_count": 27,
   "id": "d0afc8e3",
   "metadata": {
    "execution": {
     "iopub.execute_input": "2022-10-22T20:13:03.839407Z",
     "iopub.status.busy": "2022-10-22T20:13:03.838540Z",
     "iopub.status.idle": "2022-10-22T20:13:03.850796Z",
     "shell.execute_reply": "2022-10-22T20:13:03.850322Z"
    },
    "papermill": {
     "duration": 0.061033,
     "end_time": "2022-10-22T20:13:03.850908",
     "exception": false,
     "start_time": "2022-10-22T20:13:03.789875",
     "status": "completed"
    },
    "tags": []
   },
   "outputs": [],
   "source": [
    "model_prob = Model(layers[-2:]) "
   ]
  },
  {
   "cell_type": "code",
   "execution_count": 28,
   "id": "9b96e238",
   "metadata": {
    "execution": {
     "iopub.execute_input": "2022-10-22T20:13:03.944306Z",
     "iopub.status.busy": "2022-10-22T20:13:03.943720Z",
     "iopub.status.idle": "2022-10-22T20:13:03.957581Z",
     "shell.execute_reply": "2022-10-22T20:13:03.958024Z"
    },
    "papermill": {
     "duration": 0.062997,
     "end_time": "2022-10-22T20:13:03.958162",
     "exception": false,
     "start_time": "2022-10-22T20:13:03.895165",
     "status": "completed"
    },
    "tags": []
   },
   "outputs": [],
   "source": [
    "#creating the x and y ranges according to the above generated plot.\n",
    "x_range = np.linspace(-4, 1, 100) \n",
    "y_range = np.linspace(-6, 6, 100) \n",
    "x_grid, y_grid = np.meshgrid(x_range, y_range) # x_grid and y_grig are of size 100 X 100\n",
    "\n",
    "# converting x_grid and y_grid to continuous arrays\n",
    "x_gridflat = np.ravel(x_grid)\n",
    "y_gridflat = np.ravel(y_grid)\n",
    "\n",
    "# The last layer of the current model takes two columns as input. Hence transpose of np.vstack() is required.\n",
    "X = np.vstack((x_gridflat, y_gridflat)).T\n",
    "\n",
    "prob_contour = model_prob(X).reshape(100,100) "
   ]
  },
  {
   "cell_type": "code",
   "execution_count": 29,
   "id": "da72499a",
   "metadata": {
    "execution": {
     "iopub.execute_input": "2022-10-22T20:13:04.085667Z",
     "iopub.status.busy": "2022-10-22T20:13:04.084336Z",
     "iopub.status.idle": "2022-10-22T20:13:04.336224Z",
     "shell.execute_reply": "2022-10-22T20:13:04.335736Z"
    },
    "papermill": {
     "duration": 0.302542,
     "end_time": "2022-10-22T20:13:04.336341",
     "exception": false,
     "start_time": "2022-10-22T20:13:04.033799",
     "status": "completed"
    },
    "tags": []
   },
   "outputs": [
    {
     "data": {
      "image/png": "[encoded data removed]",
      "text/plain": [
       "<Figure size 720x648 with 1 Axes>"
      ]
     },
     "metadata": {
      "needs_background": "light"
     },
     "output_type": "display_data"
    }
   ],
   "source": [
    "plt.figure(figsize=(10,9))\n",
    "plt.scatter(testing_plot[:,0], testing_plot[:,1], alpha = 0.1, c = y_test.ravel())\n",
    "contours = plt.contour(x_grid,y_grid,prob_contour)\n",
    "plt.title('Probability Contours')\n",
    "plt.clabel(contours, inline = True );"
   ]
  },
  {
   "cell_type": "code",
   "execution_count": null,
   "id": "e81b4ac7",
   "metadata": {
    "papermill": {
     "duration": 0.047035,
     "end_time": "2022-10-22T20:13:04.430893",
     "exception": false,
     "start_time": "2022-10-22T20:13:04.383858",
     "status": "completed"
    },
    "tags": []
   },
   "outputs": [],
   "source": []
  }
 ],
 "metadata": {
  "kernelspec": {
   "display_name": "Python 3",
   "language": "python",
   "name": "python3"
  },
  "language_info": {
   "codemirror_mode": {
    "name": "ipython",
    "version": 3
   },
   "file_extension": ".py",
   "mimetype": "text/x-python",
   "name": "python",
   "nbconvert_exporter": "python",
   "pygments_lexer": "ipython3",
   "version": "3.6.15"
  },
  "papermill": {
   "default_parameters": {},
   "duration": 97.607095,
   "end_time": "2022-10-22T20:13:04.897660",
   "environment_variables": {},
   "exception": null,
   "input_path": "2020-08-11-part2.ipynb",
   "output_path": "2020-08-11-part2.ipynb",
   "parameters": {},
   "start_time": "2022-10-22T20:11:27.290565",
   "version": "2.3.3"
  }
 },
 "nbformat": 4,
 "nbformat_minor": 5
}