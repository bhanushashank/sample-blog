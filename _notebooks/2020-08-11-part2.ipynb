{
 "cells": [
  {
   "cell_type": "markdown",
   "id": "98380cd3",
   "metadata": {
    "papermill": {
     "duration": 0.034657,
     "end_time": "2022-06-19T20:10:23.211750",
     "exception": false,
     "start_time": "2022-06-19T20:10:23.177093",
     "status": "completed"
    },
    "tags": []
   },
   "source": [
    "# Distinguish Your Own Digits (DYOD)"
   ]
  },
  {
   "cell_type": "markdown",
   "id": "ef31240d",
   "metadata": {
    "papermill": {
     "duration": 0.023076,
     "end_time": "2022-06-19T20:10:23.260253",
     "exception": false,
     "start_time": "2022-06-19T20:10:23.237177",
     "status": "completed"
    },
    "tags": []
   },
   "source": [
    "You are going to write a classifier that distinguishes between the number 3 and number 8."
   ]
  },
  {
   "cell_type": "code",
   "execution_count": 1,
   "id": "b15c8646",
   "metadata": {
    "execution": {
     "iopub.execute_input": "2022-06-19T20:10:23.317859Z",
     "iopub.status.busy": "2022-06-19T20:10:23.317285Z",
     "iopub.status.idle": "2022-06-19T20:10:23.328457Z",
     "shell.execute_reply": "2022-06-19T20:10:23.327954Z"
    },
    "papermill": {
     "duration": 0.044777,
     "end_time": "2022-06-19T20:10:23.328589",
     "exception": false,
     "start_time": "2022-06-19T20:10:23.283812",
     "status": "completed"
    },
    "tags": []
   },
   "outputs": [],
   "source": [
    "%load_ext autoreload\n",
    "%autoreload 2"
   ]
  },
  {
   "cell_type": "code",
   "execution_count": 2,
   "id": "22ef38dc",
   "metadata": {
    "execution": {
     "iopub.execute_input": "2022-06-19T20:10:23.379301Z",
     "iopub.status.busy": "2022-06-19T20:10:23.378739Z",
     "iopub.status.idle": "2022-06-19T20:10:23.897396Z",
     "shell.execute_reply": "2022-06-19T20:10:23.896184Z"
    },
    "papermill": {
     "duration": 0.546099,
     "end_time": "2022-06-19T20:10:23.897530",
     "exception": false,
     "start_time": "2022-06-19T20:10:23.351431",
     "status": "completed"
    },
    "tags": []
   },
   "outputs": [],
   "source": [
    "%matplotlib inline\n",
    "import numpy as np\n",
    "import matplotlib.pyplot as plt\n",
    "import pandas as pd"
   ]
  },
  {
   "cell_type": "markdown",
   "id": "ba036198",
   "metadata": {
    "papermill": {
     "duration": 0.021526,
     "end_time": "2022-06-19T20:10:23.941365",
     "exception": false,
     "start_time": "2022-06-19T20:10:23.919839",
     "status": "completed"
    },
    "tags": []
   },
   "source": [
    "From the command line run `pip install mnist`. This is a library that will help you bring down the mnist dataset. If you run this from a notebook, you need to put  `!pip install mnist` in a cell by itself."
   ]
  },
  {
   "cell_type": "code",
   "execution_count": 3,
   "id": "bb6ad8a1",
   "metadata": {
    "execution": {
     "iopub.execute_input": "2022-06-19T20:10:23.992840Z",
     "iopub.status.busy": "2022-06-19T20:10:23.992158Z",
     "iopub.status.idle": "2022-06-19T20:10:26.002055Z",
     "shell.execute_reply": "2022-06-19T20:10:26.002559Z"
    },
    "papermill": {
     "duration": 2.03853,
     "end_time": "2022-06-19T20:10:26.002689",
     "exception": false,
     "start_time": "2022-06-19T20:10:23.964159",
     "status": "completed"
    },
    "tags": []
   },
   "outputs": [
    {
     "name": "stdout",
     "output_type": "stream",
     "text": [
      "Collecting mnist\r\n"
     ]
    },
    {
     "name": "stdout",
     "output_type": "stream",
     "text": [
      "  Downloading mnist-0.2.2-py2.py3-none-any.whl (3.5 kB)\r\n",
      "Requirement already satisfied: numpy in /opt/hostedtoolcache/Python/3.6.15/x64/lib/python3.6/site-packages (from mnist) (1.19.5)\r\n"
     ]
    },
    {
     "name": "stdout",
     "output_type": "stream",
     "text": [
      "Installing collected packages: mnist\r\n",
      "Successfully installed mnist-0.2.2\r\n"
     ]
    }
   ],
   "source": [
    "!pip install mnist"
   ]
  },
  {
   "cell_type": "markdown",
   "id": "69df9c9a",
   "metadata": {
    "papermill": {
     "duration": 0.026262,
     "end_time": "2022-06-19T20:10:26.052652",
     "exception": false,
     "start_time": "2022-06-19T20:10:26.026390",
     "status": "completed"
    },
    "tags": []
   },
   "source": [
    "## Preparing the Data"
   ]
  },
  {
   "cell_type": "code",
   "execution_count": 4,
   "id": "7f69d806",
   "metadata": {
    "execution": {
     "iopub.execute_input": "2022-06-19T20:10:26.114970Z",
     "iopub.status.busy": "2022-06-19T20:10:26.112931Z",
     "iopub.status.idle": "2022-06-19T20:10:26.127864Z",
     "shell.execute_reply": "2022-06-19T20:10:26.128351Z"
    },
    "papermill": {
     "duration": 0.049191,
     "end_time": "2022-06-19T20:10:26.128490",
     "exception": false,
     "start_time": "2022-06-19T20:10:26.079299",
     "status": "completed"
    },
    "tags": []
   },
   "outputs": [],
   "source": [
    "import mnist"
   ]
  },
  {
   "cell_type": "code",
   "execution_count": 5,
   "id": "a411e44f",
   "metadata": {
    "execution": {
     "iopub.execute_input": "2022-06-19T20:10:26.186998Z",
     "iopub.status.busy": "2022-06-19T20:10:26.183945Z",
     "iopub.status.idle": "2022-06-19T20:10:26.950117Z",
     "shell.execute_reply": "2022-06-19T20:10:26.949553Z"
    },
    "papermill": {
     "duration": 0.795922,
     "end_time": "2022-06-19T20:10:26.950263",
     "exception": false,
     "start_time": "2022-06-19T20:10:26.154341",
     "status": "completed"
    },
    "tags": []
   },
   "outputs": [],
   "source": [
    "train_images = mnist.train_images()\n",
    "train_labels = mnist.train_labels()"
   ]
  },
  {
   "cell_type": "code",
   "execution_count": 6,
   "id": "dceab3a5",
   "metadata": {
    "execution": {
     "iopub.execute_input": "2022-06-19T20:10:27.011035Z",
     "iopub.status.busy": "2022-06-19T20:10:27.008126Z",
     "iopub.status.idle": "2022-06-19T20:10:27.023277Z",
     "shell.execute_reply": "2022-06-19T20:10:27.022795Z"
    },
    "papermill": {
     "duration": 0.04582,
     "end_time": "2022-06-19T20:10:27.023377",
     "exception": false,
     "start_time": "2022-06-19T20:10:26.977557",
     "status": "completed"
    },
    "tags": []
   },
   "outputs": [
    {
     "data": {
      "text/plain": [
       "((60000, 28, 28), (60000,))"
      ]
     },
     "execution_count": 6,
     "metadata": {},
     "output_type": "execute_result"
    }
   ],
   "source": [
    "train_images.shape, train_labels.shape"
   ]
  },
  {
   "cell_type": "code",
   "execution_count": 7,
   "id": "f50dc2bb",
   "metadata": {
    "execution": {
     "iopub.execute_input": "2022-06-19T20:10:27.078748Z",
     "iopub.status.busy": "2022-06-19T20:10:27.078108Z",
     "iopub.status.idle": "2022-06-19T20:10:27.360414Z",
     "shell.execute_reply": "2022-06-19T20:10:27.359171Z"
    },
    "papermill": {
     "duration": 0.312999,
     "end_time": "2022-06-19T20:10:27.360635",
     "exception": false,
     "start_time": "2022-06-19T20:10:27.047636",
     "status": "completed"
    },
    "tags": []
   },
   "outputs": [],
   "source": [
    "test_images = mnist.test_images()\n",
    "test_labels = mnist.test_labels()"
   ]
  },
  {
   "cell_type": "code",
   "execution_count": 8,
   "id": "fc38cf1b",
   "metadata": {
    "execution": {
     "iopub.execute_input": "2022-06-19T20:10:27.413531Z",
     "iopub.status.busy": "2022-06-19T20:10:27.412842Z",
     "iopub.status.idle": "2022-06-19T20:10:27.426525Z",
     "shell.execute_reply": "2022-06-19T20:10:27.426999Z"
    },
    "papermill": {
     "duration": 0.042966,
     "end_time": "2022-06-19T20:10:27.427140",
     "exception": false,
     "start_time": "2022-06-19T20:10:27.384174",
     "status": "completed"
    },
    "tags": []
   },
   "outputs": [
    {
     "data": {
      "text/plain": [
       "((10000, 28, 28), (10000,))"
      ]
     },
     "execution_count": 8,
     "metadata": {},
     "output_type": "execute_result"
    }
   ],
   "source": [
    "test_images.shape, test_labels.shape"
   ]
  },
  {
   "cell_type": "code",
   "execution_count": 9,
   "id": "f9ed8fe0",
   "metadata": {
    "execution": {
     "iopub.execute_input": "2022-06-19T20:10:27.481905Z",
     "iopub.status.busy": "2022-06-19T20:10:27.481271Z",
     "iopub.status.idle": "2022-06-19T20:10:27.617562Z",
     "shell.execute_reply": "2022-06-19T20:10:27.617152Z"
    },
    "papermill": {
     "duration": 0.165605,
     "end_time": "2022-06-19T20:10:27.617662",
     "exception": false,
     "start_time": "2022-06-19T20:10:27.452057",
     "status": "completed"
    },
    "tags": []
   },
   "outputs": [
    {
     "name": "stdout",
     "output_type": "stream",
     "text": [
      "2\n"
     ]
    },
    {
     "data": {
      "text/plain": [
       "<matplotlib.image.AxesImage at 0x7f7f6cfab908>"
      ]
     },
     "execution_count": 9,
     "metadata": {},
     "output_type": "execute_result"
    },
    {
     "data": {
      "image/png": "[encoded data removed]",
      "text/plain": [
       "<Figure size 432x288 with 1 Axes>"
      ]
     },
     "metadata": {
      "needs_background": "light"
     },
     "output_type": "display_data"
    }
   ],
   "source": [
    "image_index = 7776 # You may select anything up to 60,000\n",
    "print(train_labels[image_index]) \n",
    "plt.imshow(train_images[image_index], cmap='Greys')"
   ]
  },
  {
   "cell_type": "markdown",
   "id": "a8d2388d",
   "metadata": {
    "papermill": {
     "duration": 0.023482,
     "end_time": "2022-06-19T20:10:27.665459",
     "exception": false,
     "start_time": "2022-06-19T20:10:27.641977",
     "status": "completed"
    },
    "tags": []
   },
   "source": [
    "## Filter data to get 3 and 8 out"
   ]
  },
  {
   "cell_type": "code",
   "execution_count": 10,
   "id": "776f7fc7",
   "metadata": {
    "execution": {
     "iopub.execute_input": "2022-06-19T20:10:27.723000Z",
     "iopub.status.busy": "2022-06-19T20:10:27.721113Z",
     "iopub.status.idle": "2022-06-19T20:10:27.742478Z",
     "shell.execute_reply": "2022-06-19T20:10:27.741915Z"
    },
    "papermill": {
     "duration": 0.051696,
     "end_time": "2022-06-19T20:10:27.742597",
     "exception": false,
     "start_time": "2022-06-19T20:10:27.690901",
     "status": "completed"
    },
    "tags": []
   },
   "outputs": [],
   "source": [
    "train_filter = np.where((train_labels == 3 ) | (train_labels == 8))\n",
    "test_filter = np.where((test_labels == 3) | (test_labels == 8))\n",
    "X_train, y_train = train_images[train_filter], train_labels[train_filter]\n",
    "X_test, y_test = test_images[test_filter], test_labels[test_filter]"
   ]
  },
  {
   "cell_type": "markdown",
   "id": "948f0b7e",
   "metadata": {
    "papermill": {
     "duration": 0.024559,
     "end_time": "2022-06-19T20:10:27.793078",
     "exception": false,
     "start_time": "2022-06-19T20:10:27.768519",
     "status": "completed"
    },
    "tags": []
   },
   "source": [
    "We normalize the pizel values in the 0 to 1 range"
   ]
  },
  {
   "cell_type": "code",
   "execution_count": 11,
   "id": "ee4c2166",
   "metadata": {
    "execution": {
     "iopub.execute_input": "2022-06-19T20:10:27.849342Z",
     "iopub.status.busy": "2022-06-19T20:10:27.848850Z",
     "iopub.status.idle": "2022-06-19T20:10:27.900760Z",
     "shell.execute_reply": "2022-06-19T20:10:27.900083Z"
    },
    "papermill": {
     "duration": 0.079735,
     "end_time": "2022-06-19T20:10:27.900914",
     "exception": false,
     "start_time": "2022-06-19T20:10:27.821179",
     "status": "completed"
    },
    "tags": []
   },
   "outputs": [],
   "source": [
    "X_train = X_train/255.\n",
    "X_test = X_test/255."
   ]
  },
  {
   "cell_type": "markdown",
   "id": "ddcf4fab",
   "metadata": {
    "papermill": {
     "duration": 0.024473,
     "end_time": "2022-06-19T20:10:27.953153",
     "exception": false,
     "start_time": "2022-06-19T20:10:27.928680",
     "status": "completed"
    },
    "tags": []
   },
   "source": [
    "And setup the labels as 1 (when the digit is 3) and 0 (when the digit is 8)"
   ]
  },
  {
   "cell_type": "code",
   "execution_count": 12,
   "id": "7dc908f2",
   "metadata": {
    "execution": {
     "iopub.execute_input": "2022-06-19T20:10:28.007358Z",
     "iopub.status.busy": "2022-06-19T20:10:28.006683Z",
     "iopub.status.idle": "2022-06-19T20:10:28.020910Z",
     "shell.execute_reply": "2022-06-19T20:10:28.020295Z"
    },
    "papermill": {
     "duration": 0.042305,
     "end_time": "2022-06-19T20:10:28.021028",
     "exception": false,
     "start_time": "2022-06-19T20:10:27.978723",
     "status": "completed"
    },
    "tags": []
   },
   "outputs": [],
   "source": [
    "y_train = 1*(y_train==3)\n",
    "y_test = 1*(y_test==3)"
   ]
  },
  {
   "cell_type": "code",
   "execution_count": 13,
   "id": "01e4e969",
   "metadata": {
    "execution": {
     "iopub.execute_input": "2022-06-19T20:10:28.076952Z",
     "iopub.status.busy": "2022-06-19T20:10:28.076285Z",
     "iopub.status.idle": "2022-06-19T20:10:28.092363Z",
     "shell.execute_reply": "2022-06-19T20:10:28.092899Z"
    },
    "papermill": {
     "duration": 0.04743,
     "end_time": "2022-06-19T20:10:28.093041",
     "exception": false,
     "start_time": "2022-06-19T20:10:28.045611",
     "status": "completed"
    },
    "tags": []
   },
   "outputs": [
    {
     "data": {
      "text/plain": [
       "((11982, 28, 28), (1984, 28, 28))"
      ]
     },
     "execution_count": 13,
     "metadata": {},
     "output_type": "execute_result"
    }
   ],
   "source": [
    "X_train.shape, X_test.shape"
   ]
  },
  {
   "cell_type": "markdown",
   "id": "5ccf3f85",
   "metadata": {
    "papermill": {
     "duration": 0.028403,
     "end_time": "2022-06-19T20:10:28.148882",
     "exception": false,
     "start_time": "2022-06-19T20:10:28.120479",
     "status": "completed"
    },
    "tags": []
   },
   "source": [
    "We reshape the data to flatten the image pixels into a set of features or co-variates:"
   ]
  },
  {
   "cell_type": "code",
   "execution_count": 14,
   "id": "5286a4a3",
   "metadata": {
    "execution": {
     "iopub.execute_input": "2022-06-19T20:10:28.211817Z",
     "iopub.status.busy": "2022-06-19T20:10:28.211145Z",
     "iopub.status.idle": "2022-06-19T20:10:28.227246Z",
     "shell.execute_reply": "2022-06-19T20:10:28.226617Z"
    },
    "papermill": {
     "duration": 0.050601,
     "end_time": "2022-06-19T20:10:28.227364",
     "exception": false,
     "start_time": "2022-06-19T20:10:28.176763",
     "status": "completed"
    },
    "tags": []
   },
   "outputs": [
    {
     "data": {
      "text/plain": [
       "((11982, 784), (1984, 784))"
      ]
     },
     "execution_count": 14,
     "metadata": {},
     "output_type": "execute_result"
    }
   ],
   "source": [
    "X_train = X_train.reshape(X_train.shape[0], -1)\n",
    "X_test = X_test.reshape(X_test.shape[0], -1)\n",
    "X_train.shape, X_test.shape"
   ]
  },
  {
   "cell_type": "code",
   "execution_count": 15,
   "id": "73c5f88a",
   "metadata": {
    "execution": {
     "iopub.execute_input": "2022-06-19T20:10:28.282442Z",
     "iopub.status.busy": "2022-06-19T20:10:28.281736Z",
     "iopub.status.idle": "2022-06-19T20:10:28.303295Z",
     "shell.execute_reply": "2022-06-19T20:10:28.302779Z"
    },
    "papermill": {
     "duration": 0.052222,
     "end_time": "2022-06-19T20:10:28.303411",
     "exception": false,
     "start_time": "2022-06-19T20:10:28.251189",
     "status": "completed"
    },
    "tags": []
   },
   "outputs": [],
   "source": [
    "#Impoting functions from 'Kudzu'\n",
    "from kudzu.model import Model\n",
    "from kudzu.train import Learner\n",
    "from kudzu.optim import GD\n",
    "from kudzu.data import Data, Sampler,Dataloader\n",
    "\n",
    "from kudzu.callbacks import AccCallback\n",
    "from kudzu.callbacks import ClfCallback\n",
    "\n",
    "from kudzu.loss import MSE\n",
    "\n",
    "from kudzu.layer import Sigmoid,Relu\n",
    "from kudzu.layer import Affine"
   ]
  },
  {
   "cell_type": "markdown",
   "id": "bc01172a",
   "metadata": {
    "papermill": {
     "duration": 0.026949,
     "end_time": "2022-06-19T20:10:28.357671",
     "exception": false,
     "start_time": "2022-06-19T20:10:28.330722",
     "status": "completed"
    },
    "tags": []
   },
   "source": [
    "### Let us create a `Config` class, to store important parameters. \n",
    "This class essentially plays the role of a dictionary."
   ]
  },
  {
   "cell_type": "code",
   "execution_count": 16,
   "id": "978281aa",
   "metadata": {
    "execution": {
     "iopub.execute_input": "2022-06-19T20:10:28.422204Z",
     "iopub.status.busy": "2022-06-19T20:10:28.421506Z",
     "iopub.status.idle": "2022-06-19T20:10:28.436075Z",
     "shell.execute_reply": "2022-06-19T20:10:28.436565Z"
    },
    "papermill": {
     "duration": 0.05014,
     "end_time": "2022-06-19T20:10:28.436701",
     "exception": false,
     "start_time": "2022-06-19T20:10:28.386561",
     "status": "completed"
    },
    "tags": []
   },
   "outputs": [],
   "source": [
    "class Config:\n",
    "    pass\n",
    "config = Config()\n",
    "config.lr = 0.001\n",
    "config.num_epochs = 250\n",
    "config.bs = 50"
   ]
  },
  {
   "cell_type": "markdown",
   "id": "1385fa59",
   "metadata": {
    "papermill": {
     "duration": 0.028843,
     "end_time": "2022-06-19T20:10:28.495265",
     "exception": false,
     "start_time": "2022-06-19T20:10:28.466422",
     "status": "completed"
    },
    "tags": []
   },
   "source": [
    "### Running Models with the Training data\n",
    "Details about the network layers:\n",
    "- A first affine layer has 784 inputs and does 100 affine transforms. These are followed by a Relu\n",
    "- A second affine layer has 100 inputs from the 100 activations of the past layer, and does 100 affine transforms. These are followed by a Relu\n",
    "- A third affine layer has 100 activations and does 2 affine transformations to create an embedding for visualization. There is no non-linearity here.\n",
    "- A final \"logistic regression\" which has an affine transform from 2 inputs to 1 output, which is squeezed through a sigmoid.\n"
   ]
  },
  {
   "cell_type": "code",
   "execution_count": 17,
   "id": "2b9c66db",
   "metadata": {
    "execution": {
     "iopub.execute_input": "2022-06-19T20:10:28.558628Z",
     "iopub.status.busy": "2022-06-19T20:10:28.557930Z",
     "iopub.status.idle": "2022-06-19T20:10:28.571696Z",
     "shell.execute_reply": "2022-06-19T20:10:28.571199Z"
    },
    "papermill": {
     "duration": 0.047175,
     "end_time": "2022-06-19T20:10:28.571818",
     "exception": false,
     "start_time": "2022-06-19T20:10:28.524643",
     "status": "completed"
    },
    "tags": []
   },
   "outputs": [],
   "source": [
    "data = Data(X_train, y_train.reshape(-1,1))\n",
    "sampler = Sampler(data, config.bs, shuffle=True)\n",
    "\n",
    "dl = Dataloader(data, sampler)\n",
    "\n",
    "opt = GD(config.lr)\n",
    "loss = MSE()"
   ]
  },
  {
   "cell_type": "code",
   "execution_count": 18,
   "id": "b275e4c2",
   "metadata": {
    "execution": {
     "iopub.execute_input": "2022-06-19T20:10:28.634904Z",
     "iopub.status.busy": "2022-06-19T20:10:28.634203Z",
     "iopub.status.idle": "2022-06-19T20:10:28.648291Z",
     "shell.execute_reply": "2022-06-19T20:10:28.647669Z"
    },
    "papermill": {
     "duration": 0.047919,
     "end_time": "2022-06-19T20:10:28.648412",
     "exception": false,
     "start_time": "2022-06-19T20:10:28.600493",
     "status": "completed"
    },
    "tags": []
   },
   "outputs": [],
   "source": [
    "training_data_x = X_train\n",
    "testing_data_x = X_test\n",
    "training_data_y = y_train.reshape(-1,1)\n",
    "testing_data_y = y_test.reshape(-1,1)"
   ]
  },
  {
   "cell_type": "code",
   "execution_count": 19,
   "id": "76951160",
   "metadata": {
    "execution": {
     "iopub.execute_input": "2022-06-19T20:10:28.709572Z",
     "iopub.status.busy": "2022-06-19T20:10:28.708945Z",
     "iopub.status.idle": "2022-06-19T20:10:28.725528Z",
     "shell.execute_reply": "2022-06-19T20:10:28.724865Z"
    },
    "papermill": {
     "duration": 0.048235,
     "end_time": "2022-06-19T20:10:28.725655",
     "exception": false,
     "start_time": "2022-06-19T20:10:28.677420",
     "status": "completed"
    },
    "tags": []
   },
   "outputs": [
    {
     "name": "stdout",
     "output_type": "stream",
     "text": [
      "xavier\n",
      "xavier\n",
      "xavier\n",
      "xavier\n",
      "xavier\n"
     ]
    }
   ],
   "source": [
    "layers = [Affine(\"first\", 784, 100), Relu(\"first\"), Affine(\"second\", 100, 100), Relu(\"second\"), Affine(\"third\", 100, 2), Affine(\"last\", 2, 1), Sigmoid(\"last\")]\n",
    "model_nn = Model(layers)\n",
    "model_lr = Model([Affine(\"logits\", 784, 1), Sigmoid(\"sigmoid\")])"
   ]
  },
  {
   "cell_type": "code",
   "execution_count": 20,
   "id": "6eede77a",
   "metadata": {
    "execution": {
     "iopub.execute_input": "2022-06-19T20:10:28.780295Z",
     "iopub.status.busy": "2022-06-19T20:10:28.779820Z",
     "iopub.status.idle": "2022-06-19T20:10:28.791706Z",
     "shell.execute_reply": "2022-06-19T20:10:28.791314Z"
    },
    "papermill": {
     "duration": 0.040249,
     "end_time": "2022-06-19T20:10:28.791797",
     "exception": false,
     "start_time": "2022-06-19T20:10:28.751548",
     "status": "completed"
    },
    "tags": []
   },
   "outputs": [],
   "source": [
    "nn_learner = Learner(loss, model_nn, opt, config.num_epochs)\n",
    "acc_nn = ClfCallback(nn_learner, config.bs, training_data_x , testing_data_x, training_data_y, testing_data_y)\n",
    "nn_learner.set_callbacks([acc_nn])"
   ]
  },
  {
   "cell_type": "code",
   "execution_count": 21,
   "id": "877b6cc7",
   "metadata": {
    "execution": {
     "iopub.execute_input": "2022-06-19T20:10:28.844821Z",
     "iopub.status.busy": "2022-06-19T20:10:28.844134Z",
     "iopub.status.idle": "2022-06-19T20:10:28.858807Z",
     "shell.execute_reply": "2022-06-19T20:10:28.859206Z"
    },
    "papermill": {
     "duration": 0.044695,
     "end_time": "2022-06-19T20:10:28.859328",
     "exception": false,
     "start_time": "2022-06-19T20:10:28.814633",
     "status": "completed"
    },
    "tags": []
   },
   "outputs": [],
   "source": [
    "lr_learner = Learner(loss, model_lr, opt, config.num_epochs)\n",
    "acc_lr = ClfCallback(lr_learner, config.bs, training_data_x , testing_data_x, training_data_y, testing_data_y)\n",
    "lr_learner.set_callbacks([acc_lr])"
   ]
  },
  {
   "cell_type": "code",
   "execution_count": 22,
   "id": "d9b133c3",
   "metadata": {
    "execution": {
     "iopub.execute_input": "2022-06-19T20:10:28.915217Z",
     "iopub.status.busy": "2022-06-19T20:10:28.914575Z",
     "iopub.status.idle": "2022-06-19T20:11:53.630021Z",
     "shell.execute_reply": "2022-06-19T20:11:53.630984Z"
    },
    "papermill": {
     "duration": 84.746406,
     "end_time": "2022-06-19T20:11:53.631152",
     "exception": false,
     "start_time": "2022-06-19T20:10:28.884746",
     "status": "completed"
    },
    "tags": []
   },
   "outputs": [
    {
     "name": "stdout",
     "output_type": "stream",
     "text": [
      "Epoch 0, Loss 0.2295\n",
      "Training Accuracy: 0.7415, Testing Accuracy: 0.7566\n",
      "\n"
     ]
    },
    {
     "name": "stdout",
     "output_type": "stream",
     "text": [
      "Epoch 10, Loss 0.0696\n",
      "Training Accuracy: 0.9310, Testing Accuracy: 0.9451\n",
      "\n"
     ]
    },
    {
     "name": "stdout",
     "output_type": "stream",
     "text": [
      "Epoch 20, Loss 0.0482\n",
      "Training Accuracy: 0.9476, Testing Accuracy: 0.9627\n",
      "\n"
     ]
    },
    {
     "name": "stdout",
     "output_type": "stream",
     "text": [
      "Epoch 30, Loss 0.0402\n",
      "Training Accuracy: 0.9528, Testing Accuracy: 0.9652\n",
      "\n"
     ]
    },
    {
     "name": "stdout",
     "output_type": "stream",
     "text": [
      "Epoch 40, Loss 0.0357\n",
      "Training Accuracy: 0.9572, Testing Accuracy: 0.9677\n",
      "\n"
     ]
    },
    {
     "name": "stdout",
     "output_type": "stream",
     "text": [
      "Epoch 50, Loss 0.0327\n",
      "Training Accuracy: 0.9609, Testing Accuracy: 0.9703\n",
      "\n"
     ]
    },
    {
     "name": "stdout",
     "output_type": "stream",
     "text": [
      "Epoch 60, Loss 0.0305\n",
      "Training Accuracy: 0.9644, Testing Accuracy: 0.9713\n",
      "\n"
     ]
    },
    {
     "name": "stdout",
     "output_type": "stream",
     "text": [
      "Epoch 70, Loss 0.0288\n",
      "Training Accuracy: 0.9665, Testing Accuracy: 0.9723\n",
      "\n"
     ]
    },
    {
     "name": "stdout",
     "output_type": "stream",
     "text": [
      "Epoch 80, Loss 0.0274\n",
      "Training Accuracy: 0.9681, Testing Accuracy: 0.9728\n",
      "\n"
     ]
    },
    {
     "name": "stdout",
     "output_type": "stream",
     "text": [
      "Epoch 90, Loss 0.0262\n",
      "Training Accuracy: 0.9691, Testing Accuracy: 0.9733\n",
      "\n"
     ]
    },
    {
     "name": "stdout",
     "output_type": "stream",
     "text": [
      "Epoch 100, Loss 0.0252\n",
      "Training Accuracy: 0.9696, Testing Accuracy: 0.9728\n",
      "\n"
     ]
    },
    {
     "name": "stdout",
     "output_type": "stream",
     "text": [
      "Epoch 110, Loss 0.0243\n",
      "Training Accuracy: 0.9710, Testing Accuracy: 0.9733\n",
      "\n"
     ]
    },
    {
     "name": "stdout",
     "output_type": "stream",
     "text": [
      "Epoch 120, Loss 0.0234\n",
      "Training Accuracy: 0.9723, Testing Accuracy: 0.9728\n",
      "\n"
     ]
    },
    {
     "name": "stdout",
     "output_type": "stream",
     "text": [
      "Epoch 130, Loss 0.0227\n",
      "Training Accuracy: 0.9734, Testing Accuracy: 0.9743\n",
      "\n"
     ]
    },
    {
     "name": "stdout",
     "output_type": "stream",
     "text": [
      "Epoch 140, Loss 0.022\n",
      "Training Accuracy: 0.9745, Testing Accuracy: 0.9753\n",
      "\n"
     ]
    },
    {
     "name": "stdout",
     "output_type": "stream",
     "text": [
      "Epoch 150, Loss 0.0214\n",
      "Training Accuracy: 0.9755, Testing Accuracy: 0.9753\n",
      "\n"
     ]
    },
    {
     "name": "stdout",
     "output_type": "stream",
     "text": [
      "Epoch 160, Loss 0.0208\n",
      "Training Accuracy: 0.9760, Testing Accuracy: 0.9743\n",
      "\n"
     ]
    },
    {
     "name": "stdout",
     "output_type": "stream",
     "text": [
      "Epoch 170, Loss 0.0203\n",
      "Training Accuracy: 0.9766, Testing Accuracy: 0.9753\n",
      "\n"
     ]
    },
    {
     "name": "stdout",
     "output_type": "stream",
     "text": [
      "Epoch 180, Loss 0.0198\n",
      "Training Accuracy: 0.9774, Testing Accuracy: 0.9753\n",
      "\n"
     ]
    },
    {
     "name": "stdout",
     "output_type": "stream",
     "text": [
      "Epoch 190, Loss 0.0193\n",
      "Training Accuracy: 0.9780, Testing Accuracy: 0.9758\n",
      "\n"
     ]
    },
    {
     "name": "stdout",
     "output_type": "stream",
     "text": [
      "Epoch 200, Loss 0.0188\n",
      "Training Accuracy: 0.9787, Testing Accuracy: 0.9758\n",
      "\n"
     ]
    },
    {
     "name": "stdout",
     "output_type": "stream",
     "text": [
      "Epoch 210, Loss 0.0184\n",
      "Training Accuracy: 0.9791, Testing Accuracy: 0.9758\n",
      "\n"
     ]
    },
    {
     "name": "stdout",
     "output_type": "stream",
     "text": [
      "Epoch 220, Loss 0.0179\n",
      "Training Accuracy: 0.9799, Testing Accuracy: 0.9768\n",
      "\n"
     ]
    },
    {
     "name": "stdout",
     "output_type": "stream",
     "text": [
      "Epoch 230, Loss 0.0175\n",
      "Training Accuracy: 0.9805, Testing Accuracy: 0.9768\n",
      "\n"
     ]
    },
    {
     "name": "stdout",
     "output_type": "stream",
     "text": [
      "Epoch 240, Loss 0.0171\n",
      "Training Accuracy: 0.9813, Testing Accuracy: 0.9768\n",
      "\n"
     ]
    },
    {
     "data": {
      "text/plain": [
       "0.028823905394045755"
      ]
     },
     "execution_count": 22,
     "metadata": {},
     "output_type": "execute_result"
    }
   ],
   "source": [
    "nn_learner.train_loop(dl)"
   ]
  },
  {
   "cell_type": "code",
   "execution_count": 23,
   "id": "e0163366",
   "metadata": {
    "execution": {
     "iopub.execute_input": "2022-06-19T20:11:53.716513Z",
     "iopub.status.busy": "2022-06-19T20:11:53.715826Z",
     "iopub.status.idle": "2022-06-19T20:12:09.051923Z",
     "shell.execute_reply": "2022-06-19T20:12:09.052930Z"
    },
    "papermill": {
     "duration": 15.381352,
     "end_time": "2022-06-19T20:12:09.053101",
     "exception": false,
     "start_time": "2022-06-19T20:11:53.671749",
     "status": "completed"
    },
    "tags": []
   },
   "outputs": [
    {
     "name": "stdout",
     "output_type": "stream",
     "text": [
      "Epoch 0, Loss 0.2549\n",
      "Training Accuracy: 0.6239, Testing Accuracy: 0.6552\n",
      "\n"
     ]
    },
    {
     "name": "stdout",
     "output_type": "stream",
     "text": [
      "Epoch 10, Loss 0.1052\n",
      "Training Accuracy: 0.9090, Testing Accuracy: 0.9209\n",
      "\n"
     ]
    },
    {
     "name": "stdout",
     "output_type": "stream",
     "text": [
      "Epoch 20, Loss 0.08\n",
      "Training Accuracy: 0.9283, Testing Accuracy: 0.9380\n",
      "\n"
     ]
    },
    {
     "name": "stdout",
     "output_type": "stream",
     "text": [
      "Epoch 30, Loss 0.0686\n",
      "Training Accuracy: 0.9370, Testing Accuracy: 0.9501\n",
      "\n"
     ]
    },
    {
     "name": "stdout",
     "output_type": "stream",
     "text": [
      "Epoch 40, Loss 0.0619\n",
      "Training Accuracy: 0.9419, Testing Accuracy: 0.9526\n",
      "\n"
     ]
    },
    {
     "name": "stdout",
     "output_type": "stream",
     "text": [
      "Epoch 50, Loss 0.0573\n",
      "Training Accuracy: 0.9448, Testing Accuracy: 0.9551\n",
      "\n"
     ]
    },
    {
     "name": "stdout",
     "output_type": "stream",
     "text": [
      "Epoch 60, Loss 0.0539\n",
      "Training Accuracy: 0.9467, Testing Accuracy: 0.9567\n",
      "\n"
     ]
    },
    {
     "name": "stdout",
     "output_type": "stream",
     "text": [
      "Epoch 70, Loss 0.0513\n",
      "Training Accuracy: 0.9490, Testing Accuracy: 0.9587\n",
      "\n"
     ]
    },
    {
     "name": "stdout",
     "output_type": "stream",
     "text": [
      "Epoch 80, Loss 0.0493\n",
      "Training Accuracy: 0.9509, Testing Accuracy: 0.9602\n",
      "\n"
     ]
    },
    {
     "name": "stdout",
     "output_type": "stream",
     "text": [
      "Epoch 90, Loss 0.0476\n",
      "Training Accuracy: 0.9521, Testing Accuracy: 0.9607\n",
      "\n"
     ]
    },
    {
     "name": "stdout",
     "output_type": "stream",
     "text": [
      "Epoch 100, Loss 0.0461\n",
      "Training Accuracy: 0.9533, Testing Accuracy: 0.9622\n",
      "\n"
     ]
    },
    {
     "name": "stdout",
     "output_type": "stream",
     "text": [
      "Epoch 110, Loss 0.0449\n",
      "Training Accuracy: 0.9544, Testing Accuracy: 0.9627\n",
      "\n"
     ]
    },
    {
     "name": "stdout",
     "output_type": "stream",
     "text": [
      "Epoch 120, Loss 0.0438\n",
      "Training Accuracy: 0.9550, Testing Accuracy: 0.9632\n",
      "\n"
     ]
    },
    {
     "name": "stdout",
     "output_type": "stream",
     "text": [
      "Epoch 130, Loss 0.0429\n",
      "Training Accuracy: 0.9558, Testing Accuracy: 0.9637\n",
      "\n"
     ]
    },
    {
     "name": "stdout",
     "output_type": "stream",
     "text": [
      "Epoch 140, Loss 0.0421\n",
      "Training Accuracy: 0.9563, Testing Accuracy: 0.9632\n",
      "\n"
     ]
    },
    {
     "name": "stdout",
     "output_type": "stream",
     "text": [
      "Epoch 150, Loss 0.0413\n",
      "Training Accuracy: 0.9569, Testing Accuracy: 0.9632\n",
      "\n"
     ]
    },
    {
     "name": "stdout",
     "output_type": "stream",
     "text": [
      "Epoch 160, Loss 0.0407\n",
      "Training Accuracy: 0.9574, Testing Accuracy: 0.9637\n",
      "\n"
     ]
    },
    {
     "name": "stdout",
     "output_type": "stream",
     "text": [
      "Epoch 170, Loss 0.04\n",
      "Training Accuracy: 0.9582, Testing Accuracy: 0.9642\n",
      "\n"
     ]
    },
    {
     "name": "stdout",
     "output_type": "stream",
     "text": [
      "Epoch 180, Loss 0.0395\n",
      "Training Accuracy: 0.9584, Testing Accuracy: 0.9647\n",
      "\n"
     ]
    },
    {
     "name": "stdout",
     "output_type": "stream",
     "text": [
      "Epoch 190, Loss 0.039\n",
      "Training Accuracy: 0.9589, Testing Accuracy: 0.9647\n",
      "\n"
     ]
    },
    {
     "name": "stdout",
     "output_type": "stream",
     "text": [
      "Epoch 200, Loss 0.0385\n",
      "Training Accuracy: 0.9591, Testing Accuracy: 0.9647\n",
      "\n"
     ]
    },
    {
     "name": "stdout",
     "output_type": "stream",
     "text": [
      "Epoch 210, Loss 0.038\n",
      "Training Accuracy: 0.9597, Testing Accuracy: 0.9657\n",
      "\n"
     ]
    },
    {
     "name": "stdout",
     "output_type": "stream",
     "text": [
      "Epoch 220, Loss 0.0376\n",
      "Training Accuracy: 0.9601, Testing Accuracy: 0.9662\n",
      "\n"
     ]
    },
    {
     "name": "stdout",
     "output_type": "stream",
     "text": [
      "Epoch 230, Loss 0.0372\n",
      "Training Accuracy: 0.9607, Testing Accuracy: 0.9662\n",
      "\n"
     ]
    },
    {
     "name": "stdout",
     "output_type": "stream",
     "text": [
      "Epoch 240, Loss 0.0369\n",
      "Training Accuracy: 0.9606, Testing Accuracy: 0.9667\n",
      "\n"
     ]
    },
    {
     "data": {
      "text/plain": [
       "0.014939855712366402"
      ]
     },
     "execution_count": 23,
     "metadata": {},
     "output_type": "execute_result"
    }
   ],
   "source": [
    "lr_learner.train_loop(dl)"
   ]
  },
  {
   "cell_type": "code",
   "execution_count": 24,
   "id": "ca410940",
   "metadata": {
    "execution": {
     "iopub.execute_input": "2022-06-19T20:12:09.156788Z",
     "iopub.status.busy": "2022-06-19T20:12:09.156088Z",
     "iopub.status.idle": "2022-06-19T20:12:09.426026Z",
     "shell.execute_reply": "2022-06-19T20:12:09.425421Z"
    },
    "papermill": {
     "duration": 0.325736,
     "end_time": "2022-06-19T20:12:09.426170",
     "exception": false,
     "start_time": "2022-06-19T20:12:09.100434",
     "status": "completed"
    },
    "tags": []
   },
   "outputs": [
    {
     "data": {
      "text/plain": [
       "<matplotlib.legend.Legend at 0x7f7f6cb16a20>"
      ]
     },
     "execution_count": 24,
     "metadata": {},
     "output_type": "execute_result"
    },
    {
     "data": {
      "image/png": "[encoded data removed]",
      "text/plain": [
       "<Figure size 1080x720 with 1 Axes>"
      ]
     },
     "metadata": {
      "needs_background": "light"
     },
     "output_type": "display_data"
    }
   ],
   "source": [
    "#comparing the results of NN and LR\n",
    "plt.figure(figsize=(15,10))\n",
    "\n",
    "# Neural Network plots\n",
    "plt.plot(acc_nn.accuracies, 'r-', label = \"Training Accuracies - NN\")\n",
    "plt.plot(acc_nn.test_accuracies, 'g-', label = \"Testing Accuracies - NN\")\n",
    "\n",
    "# Logistic Regression plots\n",
    "plt.plot(acc_lr.accuracies, 'k-', label = \"Training Accuracies - LR\")\n",
    "plt.plot(acc_lr.test_accuracies, 'b-', label = \"Testing Accuracies - LR\")\n",
    "plt.legend()"
   ]
  },
  {
   "cell_type": "markdown",
   "id": "80dfb35c",
   "metadata": {
    "papermill": {
     "duration": 0.046668,
     "end_time": "2022-06-19T20:12:09.520641",
     "exception": false,
     "start_time": "2022-06-19T20:12:09.473973",
     "status": "completed"
    },
    "tags": []
   },
   "source": [
    "#### Plotting the outputs of this layer of the NN.\n"
   ]
  },
  {
   "cell_type": "code",
   "execution_count": 25,
   "id": "45eb2ff5",
   "metadata": {
    "execution": {
     "iopub.execute_input": "2022-06-19T20:12:09.617268Z",
     "iopub.status.busy": "2022-06-19T20:12:09.616564Z",
     "iopub.status.idle": "2022-06-19T20:12:09.641267Z",
     "shell.execute_reply": "2022-06-19T20:12:09.641803Z"
    },
    "papermill": {
     "duration": 0.074889,
     "end_time": "2022-06-19T20:12:09.641959",
     "exception": false,
     "start_time": "2022-06-19T20:12:09.567070",
     "status": "completed"
    },
    "tags": []
   },
   "outputs": [],
   "source": [
    "new_model = Model(layers[:-2])\n",
    "testing_plot = new_model(testing_data_x)"
   ]
  },
  {
   "cell_type": "code",
   "execution_count": 26,
   "id": "4c0a5485",
   "metadata": {
    "execution": {
     "iopub.execute_input": "2022-06-19T20:12:09.741036Z",
     "iopub.status.busy": "2022-06-19T20:12:09.740334Z",
     "iopub.status.idle": "2022-06-19T20:12:09.961747Z",
     "shell.execute_reply": "2022-06-19T20:12:09.961175Z"
    },
    "papermill": {
     "duration": 0.271932,
     "end_time": "2022-06-19T20:12:09.961882",
     "exception": false,
     "start_time": "2022-06-19T20:12:09.689950",
     "status": "completed"
    },
    "tags": []
   },
   "outputs": [
    {
     "data": {
      "text/plain": [
       "Text(0.5, 1.0, 'Outputs')"
      ]
     },
     "execution_count": 26,
     "metadata": {},
     "output_type": "execute_result"
    },
    {
     "data": {
      "image/png": "[encoded data removed]",
      "text/plain": [
       "<Figure size 576x504 with 1 Axes>"
      ]
     },
     "metadata": {
      "needs_background": "light"
     },
     "output_type": "display_data"
    }
   ],
   "source": [
    "# Plotting the scatter plot of points and color coding by class\n",
    "plt.figure(figsize=(8,7))\n",
    "plt.scatter(testing_plot[:,0], testing_plot[:,1], alpha = 0.1, c = y_test.ravel());\n",
    "plt.title('Outputs')"
   ]
  },
  {
   "cell_type": "markdown",
   "id": "a74fcf8f",
   "metadata": {
    "papermill": {
     "duration": 0.048456,
     "end_time": "2022-06-19T20:12:10.059121",
     "exception": false,
     "start_time": "2022-06-19T20:12:10.010665",
     "status": "completed"
    },
    "tags": []
   },
   "source": [
    "Probability contours"
   ]
  },
  {
   "cell_type": "code",
   "execution_count": 27,
   "id": "d0afc8e3",
   "metadata": {
    "execution": {
     "iopub.execute_input": "2022-06-19T20:12:10.160084Z",
     "iopub.status.busy": "2022-06-19T20:12:10.159412Z",
     "iopub.status.idle": "2022-06-19T20:12:10.172819Z",
     "shell.execute_reply": "2022-06-19T20:12:10.173340Z"
    },
    "papermill": {
     "duration": 0.065841,
     "end_time": "2022-06-19T20:12:10.173488",
     "exception": false,
     "start_time": "2022-06-19T20:12:10.107647",
     "status": "completed"
    },
    "tags": []
   },
   "outputs": [],
   "source": [
    "model_prob = Model(layers[-2:]) "
   ]
  },
  {
   "cell_type": "code",
   "execution_count": 28,
   "id": "9b96e238",
   "metadata": {
    "execution": {
     "iopub.execute_input": "2022-06-19T20:12:10.298905Z",
     "iopub.status.busy": "2022-06-19T20:12:10.298210Z",
     "iopub.status.idle": "2022-06-19T20:12:10.312143Z",
     "shell.execute_reply": "2022-06-19T20:12:10.312598Z"
    },
    "papermill": {
     "duration": 0.063375,
     "end_time": "2022-06-19T20:12:10.312708",
     "exception": false,
     "start_time": "2022-06-19T20:12:10.249333",
     "status": "completed"
    },
    "tags": []
   },
   "outputs": [],
   "source": [
    "#creating the x and y ranges according to the above generated plot.\n",
    "x_range = np.linspace(-4, 1, 100) \n",
    "y_range = np.linspace(-6, 6, 100) \n",
    "x_grid, y_grid = np.meshgrid(x_range, y_range) # x_grid and y_grig are of size 100 X 100\n",
    "\n",
    "# converting x_grid and y_grid to continuous arrays\n",
    "x_gridflat = np.ravel(x_grid)\n",
    "y_gridflat = np.ravel(y_grid)\n",
    "\n",
    "# The last layer of the current model takes two columns as input. Hence transpose of np.vstack() is required.\n",
    "X = np.vstack((x_gridflat, y_gridflat)).T\n",
    "\n",
    "prob_contour = model_prob(X).reshape(100,100) "
   ]
  },
  {
   "cell_type": "code",
   "execution_count": 29,
   "id": "da72499a",
   "metadata": {
    "execution": {
     "iopub.execute_input": "2022-06-19T20:12:10.412328Z",
     "iopub.status.busy": "2022-06-19T20:12:10.411834Z",
     "iopub.status.idle": "2022-06-19T20:12:10.641176Z",
     "shell.execute_reply": "2022-06-19T20:12:10.640528Z"
    },
    "papermill": {
     "duration": 0.283157,
     "end_time": "2022-06-19T20:12:10.641303",
     "exception": false,
     "start_time": "2022-06-19T20:12:10.358146",
     "status": "completed"
    },
    "tags": []
   },
   "outputs": [
    {
     "data": {
      "image/png": "[encoded data removed]",
      "text/plain": [
       "<Figure size 720x648 with 1 Axes>"
      ]
     },
     "metadata": {
      "needs_background": "light"
     },
     "output_type": "display_data"
    }
   ],
   "source": [
    "plt.figure(figsize=(10,9))\n",
    "plt.scatter(testing_plot[:,0], testing_plot[:,1], alpha = 0.1, c = y_test.ravel())\n",
    "contours = plt.contour(x_grid,y_grid,prob_contour)\n",
    "plt.title('Probability Contours')\n",
    "plt.clabel(contours, inline = True );"
   ]
  },
  {
   "cell_type": "code",
   "execution_count": null,
   "id": "e81b4ac7",
   "metadata": {
    "papermill": {
     "duration": 0.047497,
     "end_time": "2022-06-19T20:12:10.735916",
     "exception": false,
     "start_time": "2022-06-19T20:12:10.688419",
     "status": "completed"
    },
    "tags": []
   },
   "outputs": [],
   "source": []
  }
 ],
 "metadata": {
  "kernelspec": {
   "display_name": "Python 3",
   "language": "python",
   "name": "python3"
  },
  "language_info": {
   "codemirror_mode": {
    "name": "ipython",
    "version": 3
   },
   "file_extension": ".py",
   "mimetype": "text/x-python",
   "name": "python",
   "nbconvert_exporter": "python",
   "pygments_lexer": "ipython3",
   "version": "3.6.15"
  },
  "papermill": {
   "default_parameters": {},
   "duration": 108.997209,
   "end_time": "2022-06-19T20:12:11.200000",
   "environment_variables": {},
   "exception": null,
   "input_path": "2020-08-11-part2.ipynb",
   "output_path": "2020-08-11-part2.ipynb",
   "parameters": {},
   "start_time": "2022-06-19T20:10:22.202791",
   "version": "2.3.3"
  }
 },
 "nbformat": 4,
 "nbformat_minor": 5
}