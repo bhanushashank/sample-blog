{
 "cells": [
  {
   "cell_type": "markdown",
   "id": "98380cd3",
   "metadata": {
    "papermill": {
     "duration": 0.037552,
     "end_time": "2022-08-05T20:09:56.353248",
     "exception": false,
     "start_time": "2022-08-05T20:09:56.315696",
     "status": "completed"
    },
    "tags": []
   },
   "source": [
    "# Distinguish Your Own Digits (DYOD)"
   ]
  },
  {
   "cell_type": "markdown",
   "id": "ef31240d",
   "metadata": {
    "papermill": {
     "duration": 0.031581,
     "end_time": "2022-08-05T20:09:56.414491",
     "exception": false,
     "start_time": "2022-08-05T20:09:56.382910",
     "status": "completed"
    },
    "tags": []
   },
   "source": [
    "You are going to write a classifier that distinguishes between the number 3 and number 8."
   ]
  },
  {
   "cell_type": "code",
   "execution_count": 1,
   "id": "b15c8646",
   "metadata": {
    "execution": {
     "iopub.execute_input": "2022-08-05T20:09:56.478152Z",
     "iopub.status.busy": "2022-08-05T20:09:56.477461Z",
     "iopub.status.idle": "2022-08-05T20:09:56.491315Z",
     "shell.execute_reply": "2022-08-05T20:09:56.491872Z"
    },
    "papermill": {
     "duration": 0.049702,
     "end_time": "2022-08-05T20:09:56.492034",
     "exception": false,
     "start_time": "2022-08-05T20:09:56.442332",
     "status": "completed"
    },
    "tags": []
   },
   "outputs": [],
   "source": [
    "%load_ext autoreload\n",
    "%autoreload 2"
   ]
  },
  {
   "cell_type": "code",
   "execution_count": 2,
   "id": "22ef38dc",
   "metadata": {
    "execution": {
     "iopub.execute_input": "2022-08-05T20:09:56.548651Z",
     "iopub.status.busy": "2022-08-05T20:09:56.547848Z",
     "iopub.status.idle": "2022-08-05T20:09:57.132852Z",
     "shell.execute_reply": "2022-08-05T20:09:57.133391Z"
    },
    "papermill": {
     "duration": 0.615452,
     "end_time": "2022-08-05T20:09:57.133548",
     "exception": false,
     "start_time": "2022-08-05T20:09:56.518096",
     "status": "completed"
    },
    "tags": []
   },
   "outputs": [],
   "source": [
    "%matplotlib inline\n",
    "import numpy as np\n",
    "import matplotlib.pyplot as plt\n",
    "import pandas as pd"
   ]
  },
  {
   "cell_type": "markdown",
   "id": "ba036198",
   "metadata": {
    "papermill": {
     "duration": 0.026452,
     "end_time": "2022-08-05T20:09:57.187420",
     "exception": false,
     "start_time": "2022-08-05T20:09:57.160968",
     "status": "completed"
    },
    "tags": []
   },
   "source": [
    "From the command line run `pip install mnist`. This is a library that will help you bring down the mnist dataset. If you run this from a notebook, you need to put  `!pip install mnist` in a cell by itself."
   ]
  },
  {
   "cell_type": "code",
   "execution_count": 3,
   "id": "bb6ad8a1",
   "metadata": {
    "execution": {
     "iopub.execute_input": "2022-08-05T20:09:57.248112Z",
     "iopub.status.busy": "2022-08-05T20:09:57.247430Z",
     "iopub.status.idle": "2022-08-05T20:09:58.960491Z",
     "shell.execute_reply": "2022-08-05T20:09:58.961077Z"
    },
    "papermill": {
     "duration": 1.747287,
     "end_time": "2022-08-05T20:09:58.961244",
     "exception": false,
     "start_time": "2022-08-05T20:09:57.213957",
     "status": "completed"
    },
    "tags": []
   },
   "outputs": [
    {
     "name": "stdout",
     "output_type": "stream",
     "text": [
      "Collecting mnist\r\n"
     ]
    },
    {
     "name": "stdout",
     "output_type": "stream",
     "text": [
      "  Downloading mnist-0.2.2-py2.py3-none-any.whl (3.5 kB)\r\n",
      "Requirement already satisfied: numpy in /opt/hostedtoolcache/Python/3.6.15/x64/lib/python3.6/site-packages (from mnist) (1.19.5)\r\n"
     ]
    },
    {
     "name": "stdout",
     "output_type": "stream",
     "text": [
      "Installing collected packages: mnist\r\n"
     ]
    },
    {
     "name": "stdout",
     "output_type": "stream",
     "text": [
      "Successfully installed mnist-0.2.2\r\n"
     ]
    }
   ],
   "source": [
    "!pip install mnist"
   ]
  },
  {
   "cell_type": "markdown",
   "id": "69df9c9a",
   "metadata": {
    "papermill": {
     "duration": 0.027402,
     "end_time": "2022-08-05T20:09:59.016745",
     "exception": false,
     "start_time": "2022-08-05T20:09:58.989343",
     "status": "completed"
    },
    "tags": []
   },
   "source": [
    "## Preparing the Data"
   ]
  },
  {
   "cell_type": "code",
   "execution_count": 4,
   "id": "7f69d806",
   "metadata": {
    "execution": {
     "iopub.execute_input": "2022-08-05T20:09:59.076785Z",
     "iopub.status.busy": "2022-08-05T20:09:59.076086Z",
     "iopub.status.idle": "2022-08-05T20:09:59.091239Z",
     "shell.execute_reply": "2022-08-05T20:09:59.091933Z"
    },
    "papermill": {
     "duration": 0.048132,
     "end_time": "2022-08-05T20:09:59.092093",
     "exception": false,
     "start_time": "2022-08-05T20:09:59.043961",
     "status": "completed"
    },
    "tags": []
   },
   "outputs": [],
   "source": [
    "import mnist"
   ]
  },
  {
   "cell_type": "code",
   "execution_count": 5,
   "id": "a411e44f",
   "metadata": {
    "execution": {
     "iopub.execute_input": "2022-08-05T20:09:59.151686Z",
     "iopub.status.busy": "2022-08-05T20:09:59.151010Z",
     "iopub.status.idle": "2022-08-05T20:10:01.270465Z",
     "shell.execute_reply": "2022-08-05T20:10:01.270981Z"
    },
    "papermill": {
     "duration": 2.150891,
     "end_time": "2022-08-05T20:10:01.271141",
     "exception": false,
     "start_time": "2022-08-05T20:09:59.120250",
     "status": "completed"
    },
    "tags": []
   },
   "outputs": [],
   "source": [
    "train_images = mnist.train_images()\n",
    "train_labels = mnist.train_labels()"
   ]
  },
  {
   "cell_type": "code",
   "execution_count": 6,
   "id": "dceab3a5",
   "metadata": {
    "execution": {
     "iopub.execute_input": "2022-08-05T20:10:01.335211Z",
     "iopub.status.busy": "2022-08-05T20:10:01.334467Z",
     "iopub.status.idle": "2022-08-05T20:10:01.349917Z",
     "shell.execute_reply": "2022-08-05T20:10:01.350594Z"
    },
    "papermill": {
     "duration": 0.046773,
     "end_time": "2022-08-05T20:10:01.350723",
     "exception": false,
     "start_time": "2022-08-05T20:10:01.303950",
     "status": "completed"
    },
    "tags": []
   },
   "outputs": [
    {
     "data": {
      "text/plain": [
       "((60000, 28, 28), (60000,))"
      ]
     },
     "execution_count": 6,
     "metadata": {},
     "output_type": "execute_result"
    }
   ],
   "source": [
    "train_images.shape, train_labels.shape"
   ]
  },
  {
   "cell_type": "code",
   "execution_count": 7,
   "id": "f50dc2bb",
   "metadata": {
    "execution": {
     "iopub.execute_input": "2022-08-05T20:10:01.413963Z",
     "iopub.status.busy": "2022-08-05T20:10:01.413295Z",
     "iopub.status.idle": "2022-08-05T20:10:01.674036Z",
     "shell.execute_reply": "2022-08-05T20:10:01.673468Z"
    },
    "papermill": {
     "duration": 0.295599,
     "end_time": "2022-08-05T20:10:01.674176",
     "exception": false,
     "start_time": "2022-08-05T20:10:01.378577",
     "status": "completed"
    },
    "tags": []
   },
   "outputs": [],
   "source": [
    "test_images = mnist.test_images()\n",
    "test_labels = mnist.test_labels()"
   ]
  },
  {
   "cell_type": "code",
   "execution_count": 8,
   "id": "fc38cf1b",
   "metadata": {
    "execution": {
     "iopub.execute_input": "2022-08-05T20:10:01.738226Z",
     "iopub.status.busy": "2022-08-05T20:10:01.737578Z",
     "iopub.status.idle": "2022-08-05T20:10:01.751987Z",
     "shell.execute_reply": "2022-08-05T20:10:01.751418Z"
    },
    "papermill": {
     "duration": 0.045905,
     "end_time": "2022-08-05T20:10:01.752103",
     "exception": false,
     "start_time": "2022-08-05T20:10:01.706198",
     "status": "completed"
    },
    "tags": []
   },
   "outputs": [
    {
     "data": {
      "text/plain": [
       "((10000, 28, 28), (10000,))"
      ]
     },
     "execution_count": 8,
     "metadata": {},
     "output_type": "execute_result"
    }
   ],
   "source": [
    "test_images.shape, test_labels.shape"
   ]
  },
  {
   "cell_type": "code",
   "execution_count": 9,
   "id": "f9ed8fe0",
   "metadata": {
    "execution": {
     "iopub.execute_input": "2022-08-05T20:10:01.811933Z",
     "iopub.status.busy": "2022-08-05T20:10:01.811210Z",
     "iopub.status.idle": "2022-08-05T20:10:01.980898Z",
     "shell.execute_reply": "2022-08-05T20:10:01.980342Z"
    },
    "papermill": {
     "duration": 0.200874,
     "end_time": "2022-08-05T20:10:01.981024",
     "exception": false,
     "start_time": "2022-08-05T20:10:01.780150",
     "status": "completed"
    },
    "tags": []
   },
   "outputs": [
    {
     "name": "stdout",
     "output_type": "stream",
     "text": [
      "2\n"
     ]
    },
    {
     "data": {
      "text/plain": [
       "<matplotlib.image.AxesImage at 0x7ff31db8c550>"
      ]
     },
     "execution_count": 9,
     "metadata": {},
     "output_type": "execute_result"
    },
    {
     "data": {
      "image/png": "[encoded data removed]",
      "text/plain": [
       "<Figure size 432x288 with 1 Axes>"
      ]
     },
     "metadata": {
      "needs_background": "light"
     },
     "output_type": "display_data"
    }
   ],
   "source": [
    "image_index = 7776 # You may select anything up to 60,000\n",
    "print(train_labels[image_index]) \n",
    "plt.imshow(train_images[image_index], cmap='Greys')"
   ]
  },
  {
   "cell_type": "markdown",
   "id": "a8d2388d",
   "metadata": {
    "papermill": {
     "duration": 0.029006,
     "end_time": "2022-08-05T20:10:02.043889",
     "exception": false,
     "start_time": "2022-08-05T20:10:02.014883",
     "status": "completed"
    },
    "tags": []
   },
   "source": [
    "## Filter data to get 3 and 8 out"
   ]
  },
  {
   "cell_type": "code",
   "execution_count": 10,
   "id": "776f7fc7",
   "metadata": {
    "execution": {
     "iopub.execute_input": "2022-08-05T20:10:02.111098Z",
     "iopub.status.busy": "2022-08-05T20:10:02.110396Z",
     "iopub.status.idle": "2022-08-05T20:10:02.126570Z",
     "shell.execute_reply": "2022-08-05T20:10:02.127062Z"
    },
    "papermill": {
     "duration": 0.053394,
     "end_time": "2022-08-05T20:10:02.127215",
     "exception": false,
     "start_time": "2022-08-05T20:10:02.073821",
     "status": "completed"
    },
    "tags": []
   },
   "outputs": [],
   "source": [
    "train_filter = np.where((train_labels == 3 ) | (train_labels == 8))\n",
    "test_filter = np.where((test_labels == 3) | (test_labels == 8))\n",
    "X_train, y_train = train_images[train_filter], train_labels[train_filter]\n",
    "X_test, y_test = test_images[test_filter], test_labels[test_filter]"
   ]
  },
  {
   "cell_type": "markdown",
   "id": "948f0b7e",
   "metadata": {
    "papermill": {
     "duration": 0.029774,
     "end_time": "2022-08-05T20:10:02.186316",
     "exception": false,
     "start_time": "2022-08-05T20:10:02.156542",
     "status": "completed"
    },
    "tags": []
   },
   "source": [
    "We normalize the pizel values in the 0 to 1 range"
   ]
  },
  {
   "cell_type": "code",
   "execution_count": 11,
   "id": "ee4c2166",
   "metadata": {
    "execution": {
     "iopub.execute_input": "2022-08-05T20:10:02.251461Z",
     "iopub.status.busy": "2022-08-05T20:10:02.250802Z",
     "iopub.status.idle": "2022-08-05T20:10:02.311729Z",
     "shell.execute_reply": "2022-08-05T20:10:02.312268Z"
    },
    "papermill": {
     "duration": 0.094063,
     "end_time": "2022-08-05T20:10:02.312425",
     "exception": false,
     "start_time": "2022-08-05T20:10:02.218362",
     "status": "completed"
    },
    "tags": []
   },
   "outputs": [],
   "source": [
    "X_train = X_train/255.\n",
    "X_test = X_test/255."
   ]
  },
  {
   "cell_type": "markdown",
   "id": "ddcf4fab",
   "metadata": {
    "papermill": {
     "duration": 0.029242,
     "end_time": "2022-08-05T20:10:02.371204",
     "exception": false,
     "start_time": "2022-08-05T20:10:02.341962",
     "status": "completed"
    },
    "tags": []
   },
   "source": [
    "And setup the labels as 1 (when the digit is 3) and 0 (when the digit is 8)"
   ]
  },
  {
   "cell_type": "code",
   "execution_count": 12,
   "id": "7dc908f2",
   "metadata": {
    "execution": {
     "iopub.execute_input": "2022-08-05T20:10:02.435251Z",
     "iopub.status.busy": "2022-08-05T20:10:02.434609Z",
     "iopub.status.idle": "2022-08-05T20:10:02.447847Z",
     "shell.execute_reply": "2022-08-05T20:10:02.447143Z"
    },
    "papermill": {
     "duration": 0.046345,
     "end_time": "2022-08-05T20:10:02.447960",
     "exception": false,
     "start_time": "2022-08-05T20:10:02.401615",
     "status": "completed"
    },
    "tags": []
   },
   "outputs": [],
   "source": [
    "y_train = 1*(y_train==3)\n",
    "y_test = 1*(y_test==3)"
   ]
  },
  {
   "cell_type": "code",
   "execution_count": 13,
   "id": "01e4e969",
   "metadata": {
    "execution": {
     "iopub.execute_input": "2022-08-05T20:10:02.510531Z",
     "iopub.status.busy": "2022-08-05T20:10:02.509888Z",
     "iopub.status.idle": "2022-08-05T20:10:02.522306Z",
     "shell.execute_reply": "2022-08-05T20:10:02.521772Z"
    },
    "papermill": {
     "duration": 0.045888,
     "end_time": "2022-08-05T20:10:02.522416",
     "exception": false,
     "start_time": "2022-08-05T20:10:02.476528",
     "status": "completed"
    },
    "tags": []
   },
   "outputs": [
    {
     "data": {
      "text/plain": [
       "((11982, 28, 28), (1984, 28, 28))"
      ]
     },
     "execution_count": 13,
     "metadata": {},
     "output_type": "execute_result"
    }
   ],
   "source": [
    "X_train.shape, X_test.shape"
   ]
  },
  {
   "cell_type": "markdown",
   "id": "5ccf3f85",
   "metadata": {
    "papermill": {
     "duration": 0.029475,
     "end_time": "2022-08-05T20:10:02.581880",
     "exception": false,
     "start_time": "2022-08-05T20:10:02.552405",
     "status": "completed"
    },
    "tags": []
   },
   "source": [
    "We reshape the data to flatten the image pixels into a set of features or co-variates:"
   ]
  },
  {
   "cell_type": "code",
   "execution_count": 14,
   "id": "5286a4a3",
   "metadata": {
    "execution": {
     "iopub.execute_input": "2022-08-05T20:10:02.644324Z",
     "iopub.status.busy": "2022-08-05T20:10:02.643663Z",
     "iopub.status.idle": "2022-08-05T20:10:02.657850Z",
     "shell.execute_reply": "2022-08-05T20:10:02.658391Z"
    },
    "papermill": {
     "duration": 0.046272,
     "end_time": "2022-08-05T20:10:02.658515",
     "exception": false,
     "start_time": "2022-08-05T20:10:02.612243",
     "status": "completed"
    },
    "tags": []
   },
   "outputs": [
    {
     "data": {
      "text/plain": [
       "((11982, 784), (1984, 784))"
      ]
     },
     "execution_count": 14,
     "metadata": {},
     "output_type": "execute_result"
    }
   ],
   "source": [
    "X_train = X_train.reshape(X_train.shape[0], -1)\n",
    "X_test = X_test.reshape(X_test.shape[0], -1)\n",
    "X_train.shape, X_test.shape"
   ]
  },
  {
   "cell_type": "code",
   "execution_count": 15,
   "id": "73c5f88a",
   "metadata": {
    "execution": {
     "iopub.execute_input": "2022-08-05T20:10:02.722974Z",
     "iopub.status.busy": "2022-08-05T20:10:02.722300Z",
     "iopub.status.idle": "2022-08-05T20:10:02.742618Z",
     "shell.execute_reply": "2022-08-05T20:10:02.742080Z"
    },
    "papermill": {
     "duration": 0.054682,
     "end_time": "2022-08-05T20:10:02.742730",
     "exception": false,
     "start_time": "2022-08-05T20:10:02.688048",
     "status": "completed"
    },
    "tags": []
   },
   "outputs": [],
   "source": [
    "#Impoting functions from 'Kudzu'\n",
    "from kudzu.model import Model\n",
    "from kudzu.train import Learner\n",
    "from kudzu.optim import GD\n",
    "from kudzu.data import Data, Sampler,Dataloader\n",
    "\n",
    "from kudzu.callbacks import AccCallback\n",
    "from kudzu.callbacks import ClfCallback\n",
    "\n",
    "from kudzu.loss import MSE\n",
    "\n",
    "from kudzu.layer import Sigmoid,Relu\n",
    "from kudzu.layer import Affine"
   ]
  },
  {
   "cell_type": "markdown",
   "id": "bc01172a",
   "metadata": {
    "papermill": {
     "duration": 0.029528,
     "end_time": "2022-08-05T20:10:02.801809",
     "exception": false,
     "start_time": "2022-08-05T20:10:02.772281",
     "status": "completed"
    },
    "tags": []
   },
   "source": [
    "### Let us create a `Config` class, to store important parameters. \n",
    "This class essentially plays the role of a dictionary."
   ]
  },
  {
   "cell_type": "code",
   "execution_count": 16,
   "id": "978281aa",
   "metadata": {
    "execution": {
     "iopub.execute_input": "2022-08-05T20:10:02.864960Z",
     "iopub.status.busy": "2022-08-05T20:10:02.864291Z",
     "iopub.status.idle": "2022-08-05T20:10:02.877440Z",
     "shell.execute_reply": "2022-08-05T20:10:02.877964Z"
    },
    "papermill": {
     "duration": 0.046817,
     "end_time": "2022-08-05T20:10:02.878098",
     "exception": false,
     "start_time": "2022-08-05T20:10:02.831281",
     "status": "completed"
    },
    "tags": []
   },
   "outputs": [],
   "source": [
    "class Config:\n",
    "    pass\n",
    "config = Config()\n",
    "config.lr = 0.001\n",
    "config.num_epochs = 250\n",
    "config.bs = 50"
   ]
  },
  {
   "cell_type": "markdown",
   "id": "1385fa59",
   "metadata": {
    "papermill": {
     "duration": 0.037955,
     "end_time": "2022-08-05T20:10:02.948288",
     "exception": false,
     "start_time": "2022-08-05T20:10:02.910333",
     "status": "completed"
    },
    "tags": []
   },
   "source": [
    "### Running Models with the Training data\n",
    "Details about the network layers:\n",
    "- A first affine layer has 784 inputs and does 100 affine transforms. These are followed by a Relu\n",
    "- A second affine layer has 100 inputs from the 100 activations of the past layer, and does 100 affine transforms. These are followed by a Relu\n",
    "- A third affine layer has 100 activations and does 2 affine transformations to create an embedding for visualization. There is no non-linearity here.\n",
    "- A final \"logistic regression\" which has an affine transform from 2 inputs to 1 output, which is squeezed through a sigmoid.\n"
   ]
  },
  {
   "cell_type": "code",
   "execution_count": 17,
   "id": "2b9c66db",
   "metadata": {
    "execution": {
     "iopub.execute_input": "2022-08-05T20:10:03.018484Z",
     "iopub.status.busy": "2022-08-05T20:10:03.017769Z",
     "iopub.status.idle": "2022-08-05T20:10:03.031624Z",
     "shell.execute_reply": "2022-08-05T20:10:03.031092Z"
    },
    "papermill": {
     "duration": 0.045615,
     "end_time": "2022-08-05T20:10:03.031757",
     "exception": false,
     "start_time": "2022-08-05T20:10:02.986142",
     "status": "completed"
    },
    "tags": []
   },
   "outputs": [],
   "source": [
    "data = Data(X_train, y_train.reshape(-1,1))\n",
    "sampler = Sampler(data, config.bs, shuffle=True)\n",
    "\n",
    "dl = Dataloader(data, sampler)\n",
    "\n",
    "opt = GD(config.lr)\n",
    "loss = MSE()"
   ]
  },
  {
   "cell_type": "code",
   "execution_count": 18,
   "id": "b275e4c2",
   "metadata": {
    "execution": {
     "iopub.execute_input": "2022-08-05T20:10:03.102108Z",
     "iopub.status.busy": "2022-08-05T20:10:03.099789Z",
     "iopub.status.idle": "2022-08-05T20:10:03.115610Z",
     "shell.execute_reply": "2022-08-05T20:10:03.116320Z"
    },
    "papermill": {
     "duration": 0.055421,
     "end_time": "2022-08-05T20:10:03.116465",
     "exception": false,
     "start_time": "2022-08-05T20:10:03.061044",
     "status": "completed"
    },
    "tags": []
   },
   "outputs": [],
   "source": [
    "training_data_x = X_train\n",
    "testing_data_x = X_test\n",
    "training_data_y = y_train.reshape(-1,1)\n",
    "testing_data_y = y_test.reshape(-1,1)"
   ]
  },
  {
   "cell_type": "code",
   "execution_count": 19,
   "id": "76951160",
   "metadata": {
    "execution": {
     "iopub.execute_input": "2022-08-05T20:10:03.189292Z",
     "iopub.status.busy": "2022-08-05T20:10:03.188537Z",
     "iopub.status.idle": "2022-08-05T20:10:03.210574Z",
     "shell.execute_reply": "2022-08-05T20:10:03.211310Z"
    },
    "papermill": {
     "duration": 0.063353,
     "end_time": "2022-08-05T20:10:03.211472",
     "exception": false,
     "start_time": "2022-08-05T20:10:03.148119",
     "status": "completed"
    },
    "tags": []
   },
   "outputs": [
    {
     "name": "stdout",
     "output_type": "stream",
     "text": [
      "xavier\n",
      "xavier\n",
      "xavier\n",
      "xavier\n",
      "xavier\n"
     ]
    }
   ],
   "source": [
    "layers = [Affine(\"first\", 784, 100), Relu(\"first\"), Affine(\"second\", 100, 100), Relu(\"second\"), Affine(\"third\", 100, 2), Affine(\"last\", 2, 1), Sigmoid(\"last\")]\n",
    "model_nn = Model(layers)\n",
    "model_lr = Model([Affine(\"logits\", 784, 1), Sigmoid(\"sigmoid\")])"
   ]
  },
  {
   "cell_type": "code",
   "execution_count": 20,
   "id": "6eede77a",
   "metadata": {
    "execution": {
     "iopub.execute_input": "2022-08-05T20:10:03.285489Z",
     "iopub.status.busy": "2022-08-05T20:10:03.284736Z",
     "iopub.status.idle": "2022-08-05T20:10:03.297333Z",
     "shell.execute_reply": "2022-08-05T20:10:03.297873Z"
    },
    "papermill": {
     "duration": 0.053344,
     "end_time": "2022-08-05T20:10:03.298026",
     "exception": false,
     "start_time": "2022-08-05T20:10:03.244682",
     "status": "completed"
    },
    "tags": []
   },
   "outputs": [],
   "source": [
    "nn_learner = Learner(loss, model_nn, opt, config.num_epochs)\n",
    "acc_nn = ClfCallback(nn_learner, config.bs, training_data_x , testing_data_x, training_data_y, testing_data_y)\n",
    "nn_learner.set_callbacks([acc_nn])"
   ]
  },
  {
   "cell_type": "code",
   "execution_count": 21,
   "id": "877b6cc7",
   "metadata": {
    "execution": {
     "iopub.execute_input": "2022-08-05T20:10:03.385115Z",
     "iopub.status.busy": "2022-08-05T20:10:03.376637Z",
     "iopub.status.idle": "2022-08-05T20:10:03.387815Z",
     "shell.execute_reply": "2022-08-05T20:10:03.388377Z"
    },
    "papermill": {
     "duration": 0.056133,
     "end_time": "2022-08-05T20:10:03.388532",
     "exception": false,
     "start_time": "2022-08-05T20:10:03.332399",
     "status": "completed"
    },
    "tags": []
   },
   "outputs": [],
   "source": [
    "lr_learner = Learner(loss, model_lr, opt, config.num_epochs)\n",
    "acc_lr = ClfCallback(lr_learner, config.bs, training_data_x , testing_data_x, training_data_y, testing_data_y)\n",
    "lr_learner.set_callbacks([acc_lr])"
   ]
  },
  {
   "cell_type": "code",
   "execution_count": 22,
   "id": "d9b133c3",
   "metadata": {
    "execution": {
     "iopub.execute_input": "2022-08-05T20:10:03.461956Z",
     "iopub.status.busy": "2022-08-05T20:10:03.455222Z",
     "iopub.status.idle": "2022-08-05T20:12:00.373877Z",
     "shell.execute_reply": "2022-08-05T20:12:00.374760Z"
    },
    "papermill": {
     "duration": 116.953557,
     "end_time": "2022-08-05T20:12:00.374914",
     "exception": false,
     "start_time": "2022-08-05T20:10:03.421357",
     "status": "completed"
    },
    "tags": []
   },
   "outputs": [
    {
     "name": "stdout",
     "output_type": "stream",
     "text": [
      "Epoch 0, Loss 0.2237\n",
      "Training Accuracy: 0.8190, Testing Accuracy: 0.8392\n",
      "\n"
     ]
    },
    {
     "name": "stdout",
     "output_type": "stream",
     "text": [
      "Epoch 10, Loss 0.0532\n",
      "Training Accuracy: 0.9453, Testing Accuracy: 0.9582\n",
      "\n"
     ]
    },
    {
     "name": "stdout",
     "output_type": "stream",
     "text": [
      "Epoch 20, Loss 0.0398\n",
      "Training Accuracy: 0.9566, Testing Accuracy: 0.9652\n",
      "\n"
     ]
    },
    {
     "name": "stdout",
     "output_type": "stream",
     "text": [
      "Epoch 30, Loss 0.0343\n",
      "Training Accuracy: 0.9613, Testing Accuracy: 0.9688\n",
      "\n"
     ]
    },
    {
     "name": "stdout",
     "output_type": "stream",
     "text": [
      "Epoch 40, Loss 0.0311\n",
      "Training Accuracy: 0.9646, Testing Accuracy: 0.9703\n",
      "\n"
     ]
    },
    {
     "name": "stdout",
     "output_type": "stream",
     "text": [
      "Epoch 50, Loss 0.0288\n",
      "Training Accuracy: 0.9672, Testing Accuracy: 0.9703\n",
      "\n"
     ]
    },
    {
     "name": "stdout",
     "output_type": "stream",
     "text": [
      "Epoch 60, Loss 0.027\n",
      "Training Accuracy: 0.9688, Testing Accuracy: 0.9728\n",
      "\n"
     ]
    },
    {
     "name": "stdout",
     "output_type": "stream",
     "text": [
      "Epoch 70, Loss 0.0255\n",
      "Training Accuracy: 0.9707, Testing Accuracy: 0.9718\n",
      "\n"
     ]
    },
    {
     "name": "stdout",
     "output_type": "stream",
     "text": [
      "Epoch 80, Loss 0.0243\n",
      "Training Accuracy: 0.9722, Testing Accuracy: 0.9738\n",
      "\n"
     ]
    },
    {
     "name": "stdout",
     "output_type": "stream",
     "text": [
      "Epoch 90, Loss 0.0232\n",
      "Training Accuracy: 0.9733, Testing Accuracy: 0.9738\n",
      "\n"
     ]
    },
    {
     "name": "stdout",
     "output_type": "stream",
     "text": [
      "Epoch 100, Loss 0.0222\n",
      "Training Accuracy: 0.9744, Testing Accuracy: 0.9738\n",
      "\n"
     ]
    },
    {
     "name": "stdout",
     "output_type": "stream",
     "text": [
      "Epoch 110, Loss 0.0214\n",
      "Training Accuracy: 0.9761, Testing Accuracy: 0.9748\n",
      "\n"
     ]
    },
    {
     "name": "stdout",
     "output_type": "stream",
     "text": [
      "Epoch 120, Loss 0.0206\n",
      "Training Accuracy: 0.9769, Testing Accuracy: 0.9753\n",
      "\n"
     ]
    },
    {
     "name": "stdout",
     "output_type": "stream",
     "text": [
      "Epoch 130, Loss 0.0199\n",
      "Training Accuracy: 0.9772, Testing Accuracy: 0.9768\n",
      "\n"
     ]
    },
    {
     "name": "stdout",
     "output_type": "stream",
     "text": [
      "Epoch 140, Loss 0.0192\n",
      "Training Accuracy: 0.9779, Testing Accuracy: 0.9768\n",
      "\n"
     ]
    },
    {
     "name": "stdout",
     "output_type": "stream",
     "text": [
      "Epoch 150, Loss 0.0185\n",
      "Training Accuracy: 0.9783, Testing Accuracy: 0.9768\n",
      "\n"
     ]
    },
    {
     "name": "stdout",
     "output_type": "stream",
     "text": [
      "Epoch 160, Loss 0.0179\n",
      "Training Accuracy: 0.9796, Testing Accuracy: 0.9783\n",
      "\n"
     ]
    },
    {
     "name": "stdout",
     "output_type": "stream",
     "text": [
      "Epoch 170, Loss 0.0173\n",
      "Training Accuracy: 0.9806, Testing Accuracy: 0.9788\n",
      "\n"
     ]
    },
    {
     "name": "stdout",
     "output_type": "stream",
     "text": [
      "Epoch 180, Loss 0.0168\n",
      "Training Accuracy: 0.9812, Testing Accuracy: 0.9788\n",
      "\n"
     ]
    },
    {
     "name": "stdout",
     "output_type": "stream",
     "text": [
      "Epoch 190, Loss 0.0162\n",
      "Training Accuracy: 0.9821, Testing Accuracy: 0.9793\n",
      "\n"
     ]
    },
    {
     "name": "stdout",
     "output_type": "stream",
     "text": [
      "Epoch 200, Loss 0.0157\n",
      "Training Accuracy: 0.9831, Testing Accuracy: 0.9798\n",
      "\n"
     ]
    },
    {
     "name": "stdout",
     "output_type": "stream",
     "text": [
      "Epoch 210, Loss 0.0153\n",
      "Training Accuracy: 0.9840, Testing Accuracy: 0.9803\n",
      "\n"
     ]
    },
    {
     "name": "stdout",
     "output_type": "stream",
     "text": [
      "Epoch 220, Loss 0.0148\n",
      "Training Accuracy: 0.9847, Testing Accuracy: 0.9814\n",
      "\n"
     ]
    },
    {
     "name": "stdout",
     "output_type": "stream",
     "text": [
      "Epoch 230, Loss 0.0144\n",
      "Training Accuracy: 0.9856, Testing Accuracy: 0.9819\n",
      "\n"
     ]
    },
    {
     "name": "stdout",
     "output_type": "stream",
     "text": [
      "Epoch 240, Loss 0.014\n",
      "Training Accuracy: 0.9863, Testing Accuracy: 0.9829\n",
      "\n"
     ]
    },
    {
     "data": {
      "text/plain": [
       "0.02445152938874671"
      ]
     },
     "execution_count": 22,
     "metadata": {},
     "output_type": "execute_result"
    }
   ],
   "source": [
    "nn_learner.train_loop(dl)"
   ]
  },
  {
   "cell_type": "code",
   "execution_count": 23,
   "id": "e0163366",
   "metadata": {
    "execution": {
     "iopub.execute_input": "2022-08-05T20:12:00.461741Z",
     "iopub.status.busy": "2022-08-05T20:12:00.461087Z",
     "iopub.status.idle": "2022-08-05T20:12:17.547611Z",
     "shell.execute_reply": "2022-08-05T20:12:17.548597Z"
    },
    "papermill": {
     "duration": 17.134167,
     "end_time": "2022-08-05T20:12:17.548753",
     "exception": false,
     "start_time": "2022-08-05T20:12:00.414586",
     "status": "completed"
    },
    "tags": []
   },
   "outputs": [
    {
     "name": "stdout",
     "output_type": "stream",
     "text": [
      "Epoch 0, Loss 0.2497\n",
      "Training Accuracy: 0.6698, Testing Accuracy: 0.6588\n",
      "\n"
     ]
    },
    {
     "name": "stdout",
     "output_type": "stream",
     "text": [
      "Epoch 10, Loss 0.1076\n",
      "Training Accuracy: 0.8948, Testing Accuracy: 0.9083\n",
      "\n"
     ]
    },
    {
     "name": "stdout",
     "output_type": "stream",
     "text": [
      "Epoch 20, Loss 0.0823\n",
      "Training Accuracy: 0.9203, Testing Accuracy: 0.9284\n",
      "\n"
     ]
    },
    {
     "name": "stdout",
     "output_type": "stream",
     "text": [
      "Epoch 30, Loss 0.0704\n",
      "Training Accuracy: 0.9312, Testing Accuracy: 0.9430\n",
      "\n"
     ]
    },
    {
     "name": "stdout",
     "output_type": "stream",
     "text": [
      "Epoch 40, Loss 0.0632\n",
      "Training Accuracy: 0.9385, Testing Accuracy: 0.9526\n",
      "\n"
     ]
    },
    {
     "name": "stdout",
     "output_type": "stream",
     "text": [
      "Epoch 50, Loss 0.0584\n",
      "Training Accuracy: 0.9425, Testing Accuracy: 0.9582\n",
      "\n"
     ]
    },
    {
     "name": "stdout",
     "output_type": "stream",
     "text": [
      "Epoch 60, Loss 0.0548\n",
      "Training Accuracy: 0.9453, Testing Accuracy: 0.9592\n",
      "\n"
     ]
    },
    {
     "name": "stdout",
     "output_type": "stream",
     "text": [
      "Epoch 70, Loss 0.0521\n",
      "Training Accuracy: 0.9478, Testing Accuracy: 0.9607\n",
      "\n"
     ]
    },
    {
     "name": "stdout",
     "output_type": "stream",
     "text": [
      "Epoch 80, Loss 0.0499\n",
      "Training Accuracy: 0.9490, Testing Accuracy: 0.9632\n",
      "\n"
     ]
    },
    {
     "name": "stdout",
     "output_type": "stream",
     "text": [
      "Epoch 90, Loss 0.0482\n",
      "Training Accuracy: 0.9508, Testing Accuracy: 0.9637\n",
      "\n"
     ]
    },
    {
     "name": "stdout",
     "output_type": "stream",
     "text": [
      "Epoch 100, Loss 0.0467\n",
      "Training Accuracy: 0.9518, Testing Accuracy: 0.9642\n",
      "\n"
     ]
    },
    {
     "name": "stdout",
     "output_type": "stream",
     "text": [
      "Epoch 110, Loss 0.0454\n",
      "Training Accuracy: 0.9531, Testing Accuracy: 0.9657\n",
      "\n"
     ]
    },
    {
     "name": "stdout",
     "output_type": "stream",
     "text": [
      "Epoch 120, Loss 0.0443\n",
      "Training Accuracy: 0.9543, Testing Accuracy: 0.9662\n",
      "\n"
     ]
    },
    {
     "name": "stdout",
     "output_type": "stream",
     "text": [
      "Epoch 130, Loss 0.0433\n",
      "Training Accuracy: 0.9557, Testing Accuracy: 0.9657\n",
      "\n"
     ]
    },
    {
     "name": "stdout",
     "output_type": "stream",
     "text": [
      "Epoch 140, Loss 0.0424\n",
      "Training Accuracy: 0.9564, Testing Accuracy: 0.9662\n",
      "\n"
     ]
    },
    {
     "name": "stdout",
     "output_type": "stream",
     "text": [
      "Epoch 150, Loss 0.0417\n",
      "Training Accuracy: 0.9575, Testing Accuracy: 0.9662\n",
      "\n"
     ]
    },
    {
     "name": "stdout",
     "output_type": "stream",
     "text": [
      "Epoch 160, Loss 0.041\n",
      "Training Accuracy: 0.9579, Testing Accuracy: 0.9662\n",
      "\n"
     ]
    },
    {
     "name": "stdout",
     "output_type": "stream",
     "text": [
      "Epoch 170, Loss 0.0403\n",
      "Training Accuracy: 0.9582, Testing Accuracy: 0.9662\n",
      "\n"
     ]
    },
    {
     "name": "stdout",
     "output_type": "stream",
     "text": [
      "Epoch 180, Loss 0.0398\n",
      "Training Accuracy: 0.9589, Testing Accuracy: 0.9672\n",
      "\n"
     ]
    },
    {
     "name": "stdout",
     "output_type": "stream",
     "text": [
      "Epoch 190, Loss 0.0392\n",
      "Training Accuracy: 0.9593, Testing Accuracy: 0.9677\n",
      "\n"
     ]
    },
    {
     "name": "stdout",
     "output_type": "stream",
     "text": [
      "Epoch 200, Loss 0.0387\n",
      "Training Accuracy: 0.9594, Testing Accuracy: 0.9672\n",
      "\n"
     ]
    },
    {
     "name": "stdout",
     "output_type": "stream",
     "text": [
      "Epoch 210, Loss 0.0383\n",
      "Training Accuracy: 0.9599, Testing Accuracy: 0.9667\n",
      "\n"
     ]
    },
    {
     "name": "stdout",
     "output_type": "stream",
     "text": [
      "Epoch 220, Loss 0.0379\n",
      "Training Accuracy: 0.9603, Testing Accuracy: 0.9667\n",
      "\n"
     ]
    },
    {
     "name": "stdout",
     "output_type": "stream",
     "text": [
      "Epoch 230, Loss 0.0375\n",
      "Training Accuracy: 0.9604, Testing Accuracy: 0.9667\n",
      "\n"
     ]
    },
    {
     "name": "stdout",
     "output_type": "stream",
     "text": [
      "Epoch 240, Loss 0.0371\n",
      "Training Accuracy: 0.9607, Testing Accuracy: 0.9672\n",
      "\n"
     ]
    },
    {
     "data": {
      "text/plain": [
       "0.04795375066932554"
      ]
     },
     "execution_count": 23,
     "metadata": {},
     "output_type": "execute_result"
    }
   ],
   "source": [
    "lr_learner.train_loop(dl)"
   ]
  },
  {
   "cell_type": "code",
   "execution_count": 24,
   "id": "ca410940",
   "metadata": {
    "execution": {
     "iopub.execute_input": "2022-08-05T20:12:17.662840Z",
     "iopub.status.busy": "2022-08-05T20:12:17.661836Z",
     "iopub.status.idle": "2022-08-05T20:12:17.962529Z",
     "shell.execute_reply": "2022-08-05T20:12:17.961891Z"
    },
    "papermill": {
     "duration": 0.367085,
     "end_time": "2022-08-05T20:12:17.962677",
     "exception": false,
     "start_time": "2022-08-05T20:12:17.595592",
     "status": "completed"
    },
    "tags": []
   },
   "outputs": [
    {
     "data": {
      "text/plain": [
       "<matplotlib.legend.Legend at 0x7ff310f3fcf8>"
      ]
     },
     "execution_count": 24,
     "metadata": {},
     "output_type": "execute_result"
    },
    {
     "data": {
      "image/png": "[encoded data removed]",
      "text/plain": [
       "<Figure size 1080x720 with 1 Axes>"
      ]
     },
     "metadata": {
      "needs_background": "light"
     },
     "output_type": "display_data"
    }
   ],
   "source": [
    "#comparing the results of NN and LR\n",
    "plt.figure(figsize=(15,10))\n",
    "\n",
    "# Neural Network plots\n",
    "plt.plot(acc_nn.accuracies, 'r-', label = \"Training Accuracies - NN\")\n",
    "plt.plot(acc_nn.test_accuracies, 'g-', label = \"Testing Accuracies - NN\")\n",
    "\n",
    "# Logistic Regression plots\n",
    "plt.plot(acc_lr.accuracies, 'k-', label = \"Training Accuracies - LR\")\n",
    "plt.plot(acc_lr.test_accuracies, 'b-', label = \"Testing Accuracies - LR\")\n",
    "plt.legend()"
   ]
  },
  {
   "cell_type": "markdown",
   "id": "80dfb35c",
   "metadata": {
    "papermill": {
     "duration": 0.046212,
     "end_time": "2022-08-05T20:12:18.056125",
     "exception": false,
     "start_time": "2022-08-05T20:12:18.009913",
     "status": "completed"
    },
    "tags": []
   },
   "source": [
    "#### Plotting the outputs of this layer of the NN.\n"
   ]
  },
  {
   "cell_type": "code",
   "execution_count": 25,
   "id": "45eb2ff5",
   "metadata": {
    "execution": {
     "iopub.execute_input": "2022-08-05T20:12:18.156204Z",
     "iopub.status.busy": "2022-08-05T20:12:18.155506Z",
     "iopub.status.idle": "2022-08-05T20:12:18.179353Z",
     "shell.execute_reply": "2022-08-05T20:12:18.180010Z"
    },
    "papermill": {
     "duration": 0.076013,
     "end_time": "2022-08-05T20:12:18.180165",
     "exception": false,
     "start_time": "2022-08-05T20:12:18.104152",
     "status": "completed"
    },
    "tags": []
   },
   "outputs": [],
   "source": [
    "new_model = Model(layers[:-2])\n",
    "testing_plot = new_model(testing_data_x)"
   ]
  },
  {
   "cell_type": "code",
   "execution_count": 26,
   "id": "4c0a5485",
   "metadata": {
    "execution": {
     "iopub.execute_input": "2022-08-05T20:12:18.297453Z",
     "iopub.status.busy": "2022-08-05T20:12:18.296618Z",
     "iopub.status.idle": "2022-08-05T20:12:18.518611Z",
     "shell.execute_reply": "2022-08-05T20:12:18.518054Z"
    },
    "papermill": {
     "duration": 0.288804,
     "end_time": "2022-08-05T20:12:18.518739",
     "exception": false,
     "start_time": "2022-08-05T20:12:18.229935",
     "status": "completed"
    },
    "tags": []
   },
   "outputs": [
    {
     "data": {
      "text/plain": [
       "Text(0.5, 1.0, 'Outputs')"
      ]
     },
     "execution_count": 26,
     "metadata": {},
     "output_type": "execute_result"
    },
    {
     "data": {
      "image/png": "[encoded data removed]",
      "text/plain": [
       "<Figure size 576x504 with 1 Axes>"
      ]
     },
     "metadata": {
      "needs_background": "light"
     },
     "output_type": "display_data"
    }
   ],
   "source": [
    "# Plotting the scatter plot of points and color coding by class\n",
    "plt.figure(figsize=(8,7))\n",
    "plt.scatter(testing_plot[:,0], testing_plot[:,1], alpha = 0.1, c = y_test.ravel());\n",
    "plt.title('Outputs')"
   ]
  },
  {
   "cell_type": "markdown",
   "id": "a74fcf8f",
   "metadata": {
    "papermill": {
     "duration": 0.072004,
     "end_time": "2022-08-05T20:12:18.640726",
     "exception": false,
     "start_time": "2022-08-05T20:12:18.568722",
     "status": "completed"
    },
    "tags": []
   },
   "source": [
    "Probability contours"
   ]
  },
  {
   "cell_type": "code",
   "execution_count": 27,
   "id": "d0afc8e3",
   "metadata": {
    "execution": {
     "iopub.execute_input": "2022-08-05T20:12:18.744896Z",
     "iopub.status.busy": "2022-08-05T20:12:18.744210Z",
     "iopub.status.idle": "2022-08-05T20:12:18.757236Z",
     "shell.execute_reply": "2022-08-05T20:12:18.756635Z"
    },
    "papermill": {
     "duration": 0.067643,
     "end_time": "2022-08-05T20:12:18.757354",
     "exception": false,
     "start_time": "2022-08-05T20:12:18.689711",
     "status": "completed"
    },
    "tags": []
   },
   "outputs": [],
   "source": [
    "model_prob = Model(layers[-2:]) "
   ]
  },
  {
   "cell_type": "code",
   "execution_count": 28,
   "id": "9b96e238",
   "metadata": {
    "execution": {
     "iopub.execute_input": "2022-08-05T20:12:18.859463Z",
     "iopub.status.busy": "2022-08-05T20:12:18.858693Z",
     "iopub.status.idle": "2022-08-05T20:12:18.873298Z",
     "shell.execute_reply": "2022-08-05T20:12:18.873830Z"
    },
    "papermill": {
     "duration": 0.069068,
     "end_time": "2022-08-05T20:12:18.873981",
     "exception": false,
     "start_time": "2022-08-05T20:12:18.804913",
     "status": "completed"
    },
    "tags": []
   },
   "outputs": [],
   "source": [
    "#creating the x and y ranges according to the above generated plot.\n",
    "x_range = np.linspace(-4, 1, 100) \n",
    "y_range = np.linspace(-6, 6, 100) \n",
    "x_grid, y_grid = np.meshgrid(x_range, y_range) # x_grid and y_grig are of size 100 X 100\n",
    "\n",
    "# converting x_grid and y_grid to continuous arrays\n",
    "x_gridflat = np.ravel(x_grid)\n",
    "y_gridflat = np.ravel(y_grid)\n",
    "\n",
    "# The last layer of the current model takes two columns as input. Hence transpose of np.vstack() is required.\n",
    "X = np.vstack((x_gridflat, y_gridflat)).T\n",
    "\n",
    "prob_contour = model_prob(X).reshape(100,100) "
   ]
  },
  {
   "cell_type": "code",
   "execution_count": 29,
   "id": "da72499a",
   "metadata": {
    "execution": {
     "iopub.execute_input": "2022-08-05T20:12:18.996990Z",
     "iopub.status.busy": "2022-08-05T20:12:18.996228Z",
     "iopub.status.idle": "2022-08-05T20:12:19.266712Z",
     "shell.execute_reply": "2022-08-05T20:12:19.267215Z"
    },
    "papermill": {
     "duration": 0.340674,
     "end_time": "2022-08-05T20:12:19.267369",
     "exception": false,
     "start_time": "2022-08-05T20:12:18.926695",
     "status": "completed"
    },
    "tags": []
   },
   "outputs": [
    {
     "data": {
      "image/png": "[encoded data removed]",
      "text/plain": [
       "<Figure size 720x648 with 1 Axes>"
      ]
     },
     "metadata": {
      "needs_background": "light"
     },
     "output_type": "display_data"
    }
   ],
   "source": [
    "plt.figure(figsize=(10,9))\n",
    "plt.scatter(testing_plot[:,0], testing_plot[:,1], alpha = 0.1, c = y_test.ravel())\n",
    "contours = plt.contour(x_grid,y_grid,prob_contour)\n",
    "plt.title('Probability Contours')\n",
    "plt.clabel(contours, inline = True );"
   ]
  },
  {
   "cell_type": "code",
   "execution_count": null,
   "id": "e81b4ac7",
   "metadata": {
    "papermill": {
     "duration": 0.052019,
     "end_time": "2022-08-05T20:12:19.370964",
     "exception": false,
     "start_time": "2022-08-05T20:12:19.318945",
     "status": "completed"
    },
    "tags": []
   },
   "outputs": [],
   "source": []
  }
 ],
 "metadata": {
  "kernelspec": {
   "display_name": "Python 3",
   "language": "python",
   "name": "python3"
  },
  "language_info": {
   "codemirror_mode": {
    "name": "ipython",
    "version": 3
   },
   "file_extension": ".py",
   "mimetype": "text/x-python",
   "name": "python",
   "nbconvert_exporter": "python",
   "pygments_lexer": "ipython3",
   "version": "3.6.15"
  },
  "papermill": {
   "default_parameters": {},
   "duration": 144.793666,
   "end_time": "2022-08-05T20:12:19.840616",
   "environment_variables": {},
   "exception": null,
   "input_path": "2020-08-11-part2.ipynb",
   "output_path": "2020-08-11-part2.ipynb",
   "parameters": {},
   "start_time": "2022-08-05T20:09:55.046950",
   "version": "2.3.3"
  }
 },
 "nbformat": 4,
 "nbformat_minor": 5
}