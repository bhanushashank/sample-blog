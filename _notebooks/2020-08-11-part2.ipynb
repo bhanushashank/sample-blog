{
 "cells": [
  {
   "cell_type": "markdown",
   "id": "98380cd3",
   "metadata": {
    "papermill": {
     "duration": 0.030696,
     "end_time": "2021-11-27T00:22:09.400472",
     "exception": false,
     "start_time": "2021-11-27T00:22:09.369776",
     "status": "completed"
    },
    "tags": []
   },
   "source": [
    "# Distinguish Your Own Digits (DYOD)"
   ]
  },
  {
   "cell_type": "markdown",
   "id": "ef31240d",
   "metadata": {
    "papermill": {
     "duration": 0.024959,
     "end_time": "2021-11-27T00:22:09.452624",
     "exception": false,
     "start_time": "2021-11-27T00:22:09.427665",
     "status": "completed"
    },
    "tags": []
   },
   "source": [
    "You are going to write a classifier that distinguishes between the number 3 and number 8."
   ]
  },
  {
   "cell_type": "code",
   "execution_count": 1,
   "id": "b15c8646",
   "metadata": {
    "execution": {
     "iopub.execute_input": "2021-11-27T00:22:09.516904Z",
     "iopub.status.busy": "2021-11-27T00:22:09.516192Z",
     "iopub.status.idle": "2021-11-27T00:22:09.527234Z",
     "shell.execute_reply": "2021-11-27T00:22:09.526597Z"
    },
    "papermill": {
     "duration": 0.048972,
     "end_time": "2021-11-27T00:22:09.527362",
     "exception": false,
     "start_time": "2021-11-27T00:22:09.478390",
     "status": "completed"
    },
    "tags": []
   },
   "outputs": [],
   "source": [
    "%load_ext autoreload\n",
    "%autoreload 2"
   ]
  },
  {
   "cell_type": "code",
   "execution_count": 2,
   "id": "22ef38dc",
   "metadata": {
    "execution": {
     "iopub.execute_input": "2021-11-27T00:22:09.582563Z",
     "iopub.status.busy": "2021-11-27T00:22:09.582033Z",
     "iopub.status.idle": "2021-11-27T00:22:10.197311Z",
     "shell.execute_reply": "2021-11-27T00:22:10.196710Z"
    },
    "papermill": {
     "duration": 0.645659,
     "end_time": "2021-11-27T00:22:10.197446",
     "exception": false,
     "start_time": "2021-11-27T00:22:09.551787",
     "status": "completed"
    },
    "tags": []
   },
   "outputs": [],
   "source": [
    "%matplotlib inline\n",
    "import numpy as np\n",
    "import matplotlib.pyplot as plt\n",
    "import pandas as pd"
   ]
  },
  {
   "cell_type": "markdown",
   "id": "ba036198",
   "metadata": {
    "papermill": {
     "duration": 0.028592,
     "end_time": "2021-11-27T00:22:10.257579",
     "exception": false,
     "start_time": "2021-11-27T00:22:10.228987",
     "status": "completed"
    },
    "tags": []
   },
   "source": [
    "From the command line run `pip install mnist`. This is a library that will help you bring down the mnist dataset. If you run this from a notebook, you need to put  `!pip install mnist` in a cell by itself."
   ]
  },
  {
   "cell_type": "code",
   "execution_count": 3,
   "id": "bb6ad8a1",
   "metadata": {
    "execution": {
     "iopub.execute_input": "2021-11-27T00:22:10.318516Z",
     "iopub.status.busy": "2021-11-27T00:22:10.317940Z",
     "iopub.status.idle": "2021-11-27T00:22:12.031815Z",
     "shell.execute_reply": "2021-11-27T00:22:12.031332Z"
    },
    "papermill": {
     "duration": 1.746533,
     "end_time": "2021-11-27T00:22:12.031940",
     "exception": false,
     "start_time": "2021-11-27T00:22:10.285407",
     "status": "completed"
    },
    "tags": []
   },
   "outputs": [
    {
     "name": "stdout",
     "output_type": "stream",
     "text": [
      "Collecting mnist\r\n",
      "  Downloading mnist-0.2.2-py2.py3-none-any.whl (3.5 kB)\r\n",
      "Requirement already satisfied: numpy in /opt/hostedtoolcache/Python/3.6.15/x64/lib/python3.6/site-packages (from mnist) (1.19.5)\r\n"
     ]
    },
    {
     "name": "stdout",
     "output_type": "stream",
     "text": [
      "Installing collected packages: mnist\r\n"
     ]
    },
    {
     "name": "stdout",
     "output_type": "stream",
     "text": [
      "Successfully installed mnist-0.2.2\r\n"
     ]
    }
   ],
   "source": [
    "!pip install mnist"
   ]
  },
  {
   "cell_type": "markdown",
   "id": "69df9c9a",
   "metadata": {
    "papermill": {
     "duration": 0.026837,
     "end_time": "2021-11-27T00:22:12.085576",
     "exception": false,
     "start_time": "2021-11-27T00:22:12.058739",
     "status": "completed"
    },
    "tags": []
   },
   "source": [
    "## Preparing the Data"
   ]
  },
  {
   "cell_type": "code",
   "execution_count": 4,
   "id": "7f69d806",
   "metadata": {
    "execution": {
     "iopub.execute_input": "2021-11-27T00:22:12.138848Z",
     "iopub.status.busy": "2021-11-27T00:22:12.138239Z",
     "iopub.status.idle": "2021-11-27T00:22:12.152634Z",
     "shell.execute_reply": "2021-11-27T00:22:12.153031Z"
    },
    "papermill": {
     "duration": 0.043111,
     "end_time": "2021-11-27T00:22:12.153212",
     "exception": false,
     "start_time": "2021-11-27T00:22:12.110101",
     "status": "completed"
    },
    "tags": []
   },
   "outputs": [],
   "source": [
    "import mnist"
   ]
  },
  {
   "cell_type": "code",
   "execution_count": 5,
   "id": "a411e44f",
   "metadata": {
    "execution": {
     "iopub.execute_input": "2021-11-27T00:22:12.208095Z",
     "iopub.status.busy": "2021-11-27T00:22:12.207569Z",
     "iopub.status.idle": "2021-11-27T00:22:12.981527Z",
     "shell.execute_reply": "2021-11-27T00:22:12.982072Z"
    },
    "papermill": {
     "duration": 0.804479,
     "end_time": "2021-11-27T00:22:12.982247",
     "exception": false,
     "start_time": "2021-11-27T00:22:12.177768",
     "status": "completed"
    },
    "tags": []
   },
   "outputs": [],
   "source": [
    "train_images = mnist.train_images()\n",
    "train_labels = mnist.train_labels()"
   ]
  },
  {
   "cell_type": "code",
   "execution_count": 6,
   "id": "dceab3a5",
   "metadata": {
    "execution": {
     "iopub.execute_input": "2021-11-27T00:22:13.043325Z",
     "iopub.status.busy": "2021-11-27T00:22:13.042734Z",
     "iopub.status.idle": "2021-11-27T00:22:13.059517Z",
     "shell.execute_reply": "2021-11-27T00:22:13.059029Z"
    },
    "papermill": {
     "duration": 0.049794,
     "end_time": "2021-11-27T00:22:13.059635",
     "exception": false,
     "start_time": "2021-11-27T00:22:13.009841",
     "status": "completed"
    },
    "tags": []
   },
   "outputs": [
    {
     "data": {
      "text/plain": [
       "((60000, 28, 28), (60000,))"
      ]
     },
     "execution_count": 6,
     "metadata": {},
     "output_type": "execute_result"
    }
   ],
   "source": [
    "train_images.shape, train_labels.shape"
   ]
  },
  {
   "cell_type": "code",
   "execution_count": 7,
   "id": "f50dc2bb",
   "metadata": {
    "execution": {
     "iopub.execute_input": "2021-11-27T00:22:13.124429Z",
     "iopub.status.busy": "2021-11-27T00:22:13.123851Z",
     "iopub.status.idle": "2021-11-27T00:22:13.262471Z",
     "shell.execute_reply": "2021-11-27T00:22:13.263052Z"
    },
    "papermill": {
     "duration": 0.172877,
     "end_time": "2021-11-27T00:22:13.263232",
     "exception": false,
     "start_time": "2021-11-27T00:22:13.090355",
     "status": "completed"
    },
    "tags": []
   },
   "outputs": [],
   "source": [
    "test_images = mnist.test_images()\n",
    "test_labels = mnist.test_labels()"
   ]
  },
  {
   "cell_type": "code",
   "execution_count": 8,
   "id": "fc38cf1b",
   "metadata": {
    "execution": {
     "iopub.execute_input": "2021-11-27T00:22:13.326367Z",
     "iopub.status.busy": "2021-11-27T00:22:13.325771Z",
     "iopub.status.idle": "2021-11-27T00:22:13.340203Z",
     "shell.execute_reply": "2021-11-27T00:22:13.339737Z"
    },
    "papermill": {
     "duration": 0.048691,
     "end_time": "2021-11-27T00:22:13.340318",
     "exception": false,
     "start_time": "2021-11-27T00:22:13.291627",
     "status": "completed"
    },
    "tags": []
   },
   "outputs": [
    {
     "data": {
      "text/plain": [
       "((10000, 28, 28), (10000,))"
      ]
     },
     "execution_count": 8,
     "metadata": {},
     "output_type": "execute_result"
    }
   ],
   "source": [
    "test_images.shape, test_labels.shape"
   ]
  },
  {
   "cell_type": "code",
   "execution_count": 9,
   "id": "f9ed8fe0",
   "metadata": {
    "execution": {
     "iopub.execute_input": "2021-11-27T00:22:13.396057Z",
     "iopub.status.busy": "2021-11-27T00:22:13.395528Z",
     "iopub.status.idle": "2021-11-27T00:22:13.570449Z",
     "shell.execute_reply": "2021-11-27T00:22:13.570937Z"
    },
    "papermill": {
     "duration": 0.204058,
     "end_time": "2021-11-27T00:22:13.571082",
     "exception": false,
     "start_time": "2021-11-27T00:22:13.367024",
     "status": "completed"
    },
    "tags": []
   },
   "outputs": [
    {
     "name": "stdout",
     "output_type": "stream",
     "text": [
      "2\n"
     ]
    },
    {
     "data": {
      "text/plain": [
       "<matplotlib.image.AxesImage at 0x7f63be03f518>"
      ]
     },
     "execution_count": 9,
     "metadata": {},
     "output_type": "execute_result"
    },
    {
     "data": {
      "image/png": "[encoded data removed]",
      "text/plain": [
       "<Figure size 432x288 with 1 Axes>"
      ]
     },
     "metadata": {
      "needs_background": "light"
     },
     "output_type": "display_data"
    }
   ],
   "source": [
    "image_index = 7776 # You may select anything up to 60,000\n",
    "print(train_labels[image_index]) \n",
    "plt.imshow(train_images[image_index], cmap='Greys')"
   ]
  },
  {
   "cell_type": "markdown",
   "id": "a8d2388d",
   "metadata": {
    "papermill": {
     "duration": 0.027964,
     "end_time": "2021-11-27T00:22:13.626483",
     "exception": false,
     "start_time": "2021-11-27T00:22:13.598519",
     "status": "completed"
    },
    "tags": []
   },
   "source": [
    "## Filter data to get 3 and 8 out"
   ]
  },
  {
   "cell_type": "code",
   "execution_count": 10,
   "id": "776f7fc7",
   "metadata": {
    "execution": {
     "iopub.execute_input": "2021-11-27T00:22:13.691676Z",
     "iopub.status.busy": "2021-11-27T00:22:13.691129Z",
     "iopub.status.idle": "2021-11-27T00:22:13.708679Z",
     "shell.execute_reply": "2021-11-27T00:22:13.708208Z"
    },
    "papermill": {
     "duration": 0.049754,
     "end_time": "2021-11-27T00:22:13.708796",
     "exception": false,
     "start_time": "2021-11-27T00:22:13.659042",
     "status": "completed"
    },
    "tags": []
   },
   "outputs": [],
   "source": [
    "train_filter = np.where((train_labels == 3 ) | (train_labels == 8))\n",
    "test_filter = np.where((test_labels == 3) | (test_labels == 8))\n",
    "X_train, y_train = train_images[train_filter], train_labels[train_filter]\n",
    "X_test, y_test = test_images[test_filter], test_labels[test_filter]"
   ]
  },
  {
   "cell_type": "markdown",
   "id": "948f0b7e",
   "metadata": {
    "papermill": {
     "duration": 0.027216,
     "end_time": "2021-11-27T00:22:13.763702",
     "exception": false,
     "start_time": "2021-11-27T00:22:13.736486",
     "status": "completed"
    },
    "tags": []
   },
   "source": [
    "We normalize the pizel values in the 0 to 1 range"
   ]
  },
  {
   "cell_type": "code",
   "execution_count": 11,
   "id": "ee4c2166",
   "metadata": {
    "execution": {
     "iopub.execute_input": "2021-11-27T00:22:13.822368Z",
     "iopub.status.busy": "2021-11-27T00:22:13.821784Z",
     "iopub.status.idle": "2021-11-27T00:22:13.881175Z",
     "shell.execute_reply": "2021-11-27T00:22:13.880604Z"
    },
    "papermill": {
     "duration": 0.091021,
     "end_time": "2021-11-27T00:22:13.881304",
     "exception": false,
     "start_time": "2021-11-27T00:22:13.790283",
     "status": "completed"
    },
    "tags": []
   },
   "outputs": [],
   "source": [
    "X_train = X_train/255.\n",
    "X_test = X_test/255."
   ]
  },
  {
   "cell_type": "markdown",
   "id": "ddcf4fab",
   "metadata": {
    "papermill": {
     "duration": 0.029705,
     "end_time": "2021-11-27T00:22:13.940579",
     "exception": false,
     "start_time": "2021-11-27T00:22:13.910874",
     "status": "completed"
    },
    "tags": []
   },
   "source": [
    "And setup the labels as 1 (when the digit is 3) and 0 (when the digit is 8)"
   ]
  },
  {
   "cell_type": "code",
   "execution_count": 12,
   "id": "7dc908f2",
   "metadata": {
    "execution": {
     "iopub.execute_input": "2021-11-27T00:22:14.000076Z",
     "iopub.status.busy": "2021-11-27T00:22:13.999499Z",
     "iopub.status.idle": "2021-11-27T00:22:14.013921Z",
     "shell.execute_reply": "2021-11-27T00:22:14.013177Z"
    },
    "papermill": {
     "duration": 0.045804,
     "end_time": "2021-11-27T00:22:14.014032",
     "exception": false,
     "start_time": "2021-11-27T00:22:13.968228",
     "status": "completed"
    },
    "tags": []
   },
   "outputs": [],
   "source": [
    "y_train = 1*(y_train==3)\n",
    "y_test = 1*(y_test==3)"
   ]
  },
  {
   "cell_type": "code",
   "execution_count": 13,
   "id": "01e4e969",
   "metadata": {
    "execution": {
     "iopub.execute_input": "2021-11-27T00:22:14.078585Z",
     "iopub.status.busy": "2021-11-27T00:22:14.077970Z",
     "iopub.status.idle": "2021-11-27T00:22:14.091811Z",
     "shell.execute_reply": "2021-11-27T00:22:14.092329Z"
    },
    "papermill": {
     "duration": 0.048135,
     "end_time": "2021-11-27T00:22:14.092449",
     "exception": false,
     "start_time": "2021-11-27T00:22:14.044314",
     "status": "completed"
    },
    "tags": []
   },
   "outputs": [
    {
     "data": {
      "text/plain": [
       "((11982, 28, 28), (1984, 28, 28))"
      ]
     },
     "execution_count": 13,
     "metadata": {},
     "output_type": "execute_result"
    }
   ],
   "source": [
    "X_train.shape, X_test.shape"
   ]
  },
  {
   "cell_type": "markdown",
   "id": "5ccf3f85",
   "metadata": {
    "papermill": {
     "duration": 0.030604,
     "end_time": "2021-11-27T00:22:14.152389",
     "exception": false,
     "start_time": "2021-11-27T00:22:14.121785",
     "status": "completed"
    },
    "tags": []
   },
   "source": [
    "We reshape the data to flatten the image pixels into a set of features or co-variates:"
   ]
  },
  {
   "cell_type": "code",
   "execution_count": 14,
   "id": "5286a4a3",
   "metadata": {
    "execution": {
     "iopub.execute_input": "2021-11-27T00:22:14.214736Z",
     "iopub.status.busy": "2021-11-27T00:22:14.214202Z",
     "iopub.status.idle": "2021-11-27T00:22:14.227519Z",
     "shell.execute_reply": "2021-11-27T00:22:14.226972Z"
    },
    "papermill": {
     "duration": 0.046178,
     "end_time": "2021-11-27T00:22:14.227628",
     "exception": false,
     "start_time": "2021-11-27T00:22:14.181450",
     "status": "completed"
    },
    "tags": []
   },
   "outputs": [
    {
     "data": {
      "text/plain": [
       "((11982, 784), (1984, 784))"
      ]
     },
     "execution_count": 14,
     "metadata": {},
     "output_type": "execute_result"
    }
   ],
   "source": [
    "X_train = X_train.reshape(X_train.shape[0], -1)\n",
    "X_test = X_test.reshape(X_test.shape[0], -1)\n",
    "X_train.shape, X_test.shape"
   ]
  },
  {
   "cell_type": "code",
   "execution_count": 15,
   "id": "73c5f88a",
   "metadata": {
    "execution": {
     "iopub.execute_input": "2021-11-27T00:22:14.289874Z",
     "iopub.status.busy": "2021-11-27T00:22:14.289273Z",
     "iopub.status.idle": "2021-11-27T00:22:14.307630Z",
     "shell.execute_reply": "2021-11-27T00:22:14.308175Z"
    },
    "papermill": {
     "duration": 0.052088,
     "end_time": "2021-11-27T00:22:14.308303",
     "exception": false,
     "start_time": "2021-11-27T00:22:14.256215",
     "status": "completed"
    },
    "tags": []
   },
   "outputs": [],
   "source": [
    "#Impoting functions from 'Kudzu'\n",
    "from kudzu.model import Model\n",
    "from kudzu.train import Learner\n",
    "from kudzu.optim import GD\n",
    "from kudzu.data import Data, Sampler,Dataloader\n",
    "\n",
    "from kudzu.callbacks import AccCallback\n",
    "from kudzu.callbacks import ClfCallback\n",
    "\n",
    "from kudzu.loss import MSE\n",
    "\n",
    "from kudzu.layer import Sigmoid,Relu\n",
    "from kudzu.layer import Affine"
   ]
  },
  {
   "cell_type": "markdown",
   "id": "bc01172a",
   "metadata": {
    "papermill": {
     "duration": 0.028132,
     "end_time": "2021-11-27T00:22:14.364652",
     "exception": false,
     "start_time": "2021-11-27T00:22:14.336520",
     "status": "completed"
    },
    "tags": []
   },
   "source": [
    "### Let us create a `Config` class, to store important parameters. \n",
    "This class essentially plays the role of a dictionary."
   ]
  },
  {
   "cell_type": "code",
   "execution_count": 16,
   "id": "978281aa",
   "metadata": {
    "execution": {
     "iopub.execute_input": "2021-11-27T00:22:14.429798Z",
     "iopub.status.busy": "2021-11-27T00:22:14.429232Z",
     "iopub.status.idle": "2021-11-27T00:22:14.441283Z",
     "shell.execute_reply": "2021-11-27T00:22:14.440751Z"
    },
    "papermill": {
     "duration": 0.047335,
     "end_time": "2021-11-27T00:22:14.441398",
     "exception": false,
     "start_time": "2021-11-27T00:22:14.394063",
     "status": "completed"
    },
    "tags": []
   },
   "outputs": [],
   "source": [
    "class Config:\n",
    "    pass\n",
    "config = Config()\n",
    "config.lr = 0.001\n",
    "config.num_epochs = 250\n",
    "config.bs = 50"
   ]
  },
  {
   "cell_type": "markdown",
   "id": "1385fa59",
   "metadata": {
    "papermill": {
     "duration": 0.029552,
     "end_time": "2021-11-27T00:22:14.498108",
     "exception": false,
     "start_time": "2021-11-27T00:22:14.468556",
     "status": "completed"
    },
    "tags": []
   },
   "source": [
    "### Running Models with the Training data\n",
    "Details about the network layers:\n",
    "- A first affine layer has 784 inputs and does 100 affine transforms. These are followed by a Relu\n",
    "- A second affine layer has 100 inputs from the 100 activations of the past layer, and does 100 affine transforms. These are followed by a Relu\n",
    "- A third affine layer has 100 activations and does 2 affine transformations to create an embedding for visualization. There is no non-linearity here.\n",
    "- A final \"logistic regression\" which has an affine transform from 2 inputs to 1 output, which is squeezed through a sigmoid.\n"
   ]
  },
  {
   "cell_type": "code",
   "execution_count": 17,
   "id": "2b9c66db",
   "metadata": {
    "execution": {
     "iopub.execute_input": "2021-11-27T00:22:14.569841Z",
     "iopub.status.busy": "2021-11-27T00:22:14.566297Z",
     "iopub.status.idle": "2021-11-27T00:22:14.581793Z",
     "shell.execute_reply": "2021-11-27T00:22:14.581304Z"
    },
    "papermill": {
     "duration": 0.048617,
     "end_time": "2021-11-27T00:22:14.581908",
     "exception": false,
     "start_time": "2021-11-27T00:22:14.533291",
     "status": "completed"
    },
    "tags": []
   },
   "outputs": [],
   "source": [
    "data = Data(X_train, y_train.reshape(-1,1))\n",
    "sampler = Sampler(data, config.bs, shuffle=True)\n",
    "\n",
    "dl = Dataloader(data, sampler)\n",
    "\n",
    "opt = GD(config.lr)\n",
    "loss = MSE()"
   ]
  },
  {
   "cell_type": "code",
   "execution_count": 18,
   "id": "b275e4c2",
   "metadata": {
    "execution": {
     "iopub.execute_input": "2021-11-27T00:22:14.647905Z",
     "iopub.status.busy": "2021-11-27T00:22:14.647342Z",
     "iopub.status.idle": "2021-11-27T00:22:14.660697Z",
     "shell.execute_reply": "2021-11-27T00:22:14.661161Z"
    },
    "papermill": {
     "duration": 0.04905,
     "end_time": "2021-11-27T00:22:14.661282",
     "exception": false,
     "start_time": "2021-11-27T00:22:14.612232",
     "status": "completed"
    },
    "tags": []
   },
   "outputs": [],
   "source": [
    "training_data_x = X_train\n",
    "testing_data_x = X_test\n",
    "training_data_y = y_train.reshape(-1,1)\n",
    "testing_data_y = y_test.reshape(-1,1)"
   ]
  },
  {
   "cell_type": "code",
   "execution_count": 19,
   "id": "76951160",
   "metadata": {
    "execution": {
     "iopub.execute_input": "2021-11-27T00:22:14.725725Z",
     "iopub.status.busy": "2021-11-27T00:22:14.725208Z",
     "iopub.status.idle": "2021-11-27T00:22:14.740767Z",
     "shell.execute_reply": "2021-11-27T00:22:14.740295Z"
    },
    "papermill": {
     "duration": 0.048943,
     "end_time": "2021-11-27T00:22:14.740868",
     "exception": false,
     "start_time": "2021-11-27T00:22:14.691925",
     "status": "completed"
    },
    "tags": []
   },
   "outputs": [
    {
     "name": "stdout",
     "output_type": "stream",
     "text": [
      "xavier\n",
      "xavier\n",
      "xavier\n",
      "xavier\n",
      "xavier\n"
     ]
    }
   ],
   "source": [
    "layers = [Affine(\"first\", 784, 100), Relu(\"first\"), Affine(\"second\", 100, 100), Relu(\"second\"), Affine(\"third\", 100, 2), Affine(\"last\", 2, 1), Sigmoid(\"last\")]\n",
    "model_nn = Model(layers)\n",
    "model_lr = Model([Affine(\"logits\", 784, 1), Sigmoid(\"sigmoid\")])"
   ]
  },
  {
   "cell_type": "code",
   "execution_count": 20,
   "id": "6eede77a",
   "metadata": {
    "execution": {
     "iopub.execute_input": "2021-11-27T00:22:14.803296Z",
     "iopub.status.busy": "2021-11-27T00:22:14.802733Z",
     "iopub.status.idle": "2021-11-27T00:22:14.815194Z",
     "shell.execute_reply": "2021-11-27T00:22:14.814725Z"
    },
    "papermill": {
     "duration": 0.045479,
     "end_time": "2021-11-27T00:22:14.815300",
     "exception": false,
     "start_time": "2021-11-27T00:22:14.769821",
     "status": "completed"
    },
    "tags": []
   },
   "outputs": [],
   "source": [
    "nn_learner = Learner(loss, model_nn, opt, config.num_epochs)\n",
    "acc_nn = ClfCallback(nn_learner, config.bs, training_data_x , testing_data_x, training_data_y, testing_data_y)\n",
    "nn_learner.set_callbacks([acc_nn])"
   ]
  },
  {
   "cell_type": "code",
   "execution_count": 21,
   "id": "877b6cc7",
   "metadata": {
    "execution": {
     "iopub.execute_input": "2021-11-27T00:22:14.878564Z",
     "iopub.status.busy": "2021-11-27T00:22:14.877999Z",
     "iopub.status.idle": "2021-11-27T00:22:14.890966Z",
     "shell.execute_reply": "2021-11-27T00:22:14.890528Z"
    },
    "papermill": {
     "duration": 0.046902,
     "end_time": "2021-11-27T00:22:14.891069",
     "exception": false,
     "start_time": "2021-11-27T00:22:14.844167",
     "status": "completed"
    },
    "tags": []
   },
   "outputs": [],
   "source": [
    "lr_learner = Learner(loss, model_lr, opt, config.num_epochs)\n",
    "acc_lr = ClfCallback(lr_learner, config.bs, training_data_x , testing_data_x, training_data_y, testing_data_y)\n",
    "lr_learner.set_callbacks([acc_lr])"
   ]
  },
  {
   "cell_type": "code",
   "execution_count": 22,
   "id": "d9b133c3",
   "metadata": {
    "execution": {
     "iopub.execute_input": "2021-11-27T00:22:14.950631Z",
     "iopub.status.busy": "2021-11-27T00:22:14.949924Z",
     "iopub.status.idle": "2021-11-27T00:24:32.158283Z",
     "shell.execute_reply": "2021-11-27T00:24:32.159049Z"
    },
    "papermill": {
     "duration": 137.240027,
     "end_time": "2021-11-27T00:24:32.159197",
     "exception": false,
     "start_time": "2021-11-27T00:22:14.919170",
     "status": "completed"
    },
    "tags": []
   },
   "outputs": [
    {
     "name": "stdout",
     "output_type": "stream",
     "text": [
      "Epoch 0, Loss 0.2544\n",
      "Training Accuracy: 0.5966, Testing Accuracy: 0.5927\n",
      "\n"
     ]
    },
    {
     "name": "stdout",
     "output_type": "stream",
     "text": [
      "Epoch 10, Loss 0.0998\n",
      "Training Accuracy: 0.9069, Testing Accuracy: 0.9158\n",
      "\n"
     ]
    },
    {
     "name": "stdout",
     "output_type": "stream",
     "text": [
      "Epoch 20, Loss 0.0598\n",
      "Training Accuracy: 0.9387, Testing Accuracy: 0.9491\n",
      "\n"
     ]
    },
    {
     "name": "stdout",
     "output_type": "stream",
     "text": [
      "Epoch 30, Loss 0.0461\n",
      "Training Accuracy: 0.9484, Testing Accuracy: 0.9597\n",
      "\n"
     ]
    },
    {
     "name": "stdout",
     "output_type": "stream",
     "text": [
      "Epoch 40, Loss 0.0394\n",
      "Training Accuracy: 0.9555, Testing Accuracy: 0.9667\n",
      "\n"
     ]
    },
    {
     "name": "stdout",
     "output_type": "stream",
     "text": [
      "Epoch 50, Loss 0.0353\n",
      "Training Accuracy: 0.9604, Testing Accuracy: 0.9682\n",
      "\n"
     ]
    },
    {
     "name": "stdout",
     "output_type": "stream",
     "text": [
      "Epoch 60, Loss 0.0325\n",
      "Training Accuracy: 0.9627, Testing Accuracy: 0.9708\n",
      "\n"
     ]
    },
    {
     "name": "stdout",
     "output_type": "stream",
     "text": [
      "Epoch 70, Loss 0.0305\n",
      "Training Accuracy: 0.9645, Testing Accuracy: 0.9728\n",
      "\n"
     ]
    },
    {
     "name": "stdout",
     "output_type": "stream",
     "text": [
      "Epoch 80, Loss 0.0288\n",
      "Training Accuracy: 0.9665, Testing Accuracy: 0.9733\n",
      "\n"
     ]
    },
    {
     "name": "stdout",
     "output_type": "stream",
     "text": [
      "Epoch 90, Loss 0.0275\n",
      "Training Accuracy: 0.9680, Testing Accuracy: 0.9748\n",
      "\n"
     ]
    },
    {
     "name": "stdout",
     "output_type": "stream",
     "text": [
      "Epoch 100, Loss 0.0264\n",
      "Training Accuracy: 0.9690, Testing Accuracy: 0.9743\n",
      "\n"
     ]
    },
    {
     "name": "stdout",
     "output_type": "stream",
     "text": [
      "Epoch 110, Loss 0.0254\n",
      "Training Accuracy: 0.9699, Testing Accuracy: 0.9738\n",
      "\n"
     ]
    },
    {
     "name": "stdout",
     "output_type": "stream",
     "text": [
      "Epoch 120, Loss 0.0246\n",
      "Training Accuracy: 0.9714, Testing Accuracy: 0.9718\n",
      "\n"
     ]
    },
    {
     "name": "stdout",
     "output_type": "stream",
     "text": [
      "Epoch 130, Loss 0.0238\n",
      "Training Accuracy: 0.9725, Testing Accuracy: 0.9733\n",
      "\n"
     ]
    },
    {
     "name": "stdout",
     "output_type": "stream",
     "text": [
      "Epoch 140, Loss 0.0231\n",
      "Training Accuracy: 0.9735, Testing Accuracy: 0.9743\n",
      "\n"
     ]
    },
    {
     "name": "stdout",
     "output_type": "stream",
     "text": [
      "Epoch 150, Loss 0.0225\n",
      "Training Accuracy: 0.9743, Testing Accuracy: 0.9743\n",
      "\n"
     ]
    },
    {
     "name": "stdout",
     "output_type": "stream",
     "text": [
      "Epoch 160, Loss 0.0219\n",
      "Training Accuracy: 0.9749, Testing Accuracy: 0.9748\n",
      "\n"
     ]
    },
    {
     "name": "stdout",
     "output_type": "stream",
     "text": [
      "Epoch 170, Loss 0.0213\n",
      "Training Accuracy: 0.9755, Testing Accuracy: 0.9748\n",
      "\n"
     ]
    },
    {
     "name": "stdout",
     "output_type": "stream",
     "text": [
      "Epoch 180, Loss 0.0207\n",
      "Training Accuracy: 0.9766, Testing Accuracy: 0.9748\n",
      "\n"
     ]
    },
    {
     "name": "stdout",
     "output_type": "stream",
     "text": [
      "Epoch 190, Loss 0.0202\n",
      "Training Accuracy: 0.9774, Testing Accuracy: 0.9758\n",
      "\n"
     ]
    },
    {
     "name": "stdout",
     "output_type": "stream",
     "text": [
      "Epoch 200, Loss 0.0197\n",
      "Training Accuracy: 0.9777, Testing Accuracy: 0.9763\n",
      "\n"
     ]
    },
    {
     "name": "stdout",
     "output_type": "stream",
     "text": [
      "Epoch 210, Loss 0.0192\n",
      "Training Accuracy: 0.9790, Testing Accuracy: 0.9758\n",
      "\n"
     ]
    },
    {
     "name": "stdout",
     "output_type": "stream",
     "text": [
      "Epoch 220, Loss 0.0187\n",
      "Training Accuracy: 0.9794, Testing Accuracy: 0.9758\n",
      "\n"
     ]
    },
    {
     "name": "stdout",
     "output_type": "stream",
     "text": [
      "Epoch 230, Loss 0.0183\n",
      "Training Accuracy: 0.9796, Testing Accuracy: 0.9758\n",
      "\n"
     ]
    },
    {
     "name": "stdout",
     "output_type": "stream",
     "text": [
      "Epoch 240, Loss 0.0179\n",
      "Training Accuracy: 0.9801, Testing Accuracy: 0.9768\n",
      "\n"
     ]
    },
    {
     "data": {
      "text/plain": [
       "0.02021697011655409"
      ]
     },
     "execution_count": 22,
     "metadata": {},
     "output_type": "execute_result"
    }
   ],
   "source": [
    "nn_learner.train_loop(dl)"
   ]
  },
  {
   "cell_type": "code",
   "execution_count": 23,
   "id": "e0163366",
   "metadata": {
    "execution": {
     "iopub.execute_input": "2021-11-27T00:24:32.242557Z",
     "iopub.status.busy": "2021-11-27T00:24:32.241942Z",
     "iopub.status.idle": "2021-11-27T00:24:52.109014Z",
     "shell.execute_reply": "2021-11-27T00:24:52.109825Z"
    },
    "papermill": {
     "duration": 19.914928,
     "end_time": "2021-11-27T00:24:52.109974",
     "exception": false,
     "start_time": "2021-11-27T00:24:32.195046",
     "status": "completed"
    },
    "tags": []
   },
   "outputs": [
    {
     "name": "stdout",
     "output_type": "stream",
     "text": [
      "Epoch 0, Loss 0.2543\n",
      "Training Accuracy: 0.6400, Testing Accuracy: 0.6426\n",
      "\n"
     ]
    },
    {
     "name": "stdout",
     "output_type": "stream",
     "text": [
      "Epoch 10, Loss 0.1024\n",
      "Training Accuracy: 0.9099, Testing Accuracy: 0.9168\n",
      "\n"
     ]
    },
    {
     "name": "stdout",
     "output_type": "stream",
     "text": [
      "Epoch 20, Loss 0.0793\n",
      "Training Accuracy: 0.9267, Testing Accuracy: 0.9375\n",
      "\n"
     ]
    },
    {
     "name": "stdout",
     "output_type": "stream",
     "text": [
      "Epoch 30, Loss 0.0685\n",
      "Training Accuracy: 0.9341, Testing Accuracy: 0.9420\n",
      "\n"
     ]
    },
    {
     "name": "stdout",
     "output_type": "stream",
     "text": [
      "Epoch 40, Loss 0.0619\n",
      "Training Accuracy: 0.9397, Testing Accuracy: 0.9511\n",
      "\n"
     ]
    },
    {
     "name": "stdout",
     "output_type": "stream",
     "text": [
      "Epoch 50, Loss 0.0574\n",
      "Training Accuracy: 0.9440, Testing Accuracy: 0.9561\n",
      "\n"
     ]
    },
    {
     "name": "stdout",
     "output_type": "stream",
     "text": [
      "Epoch 60, Loss 0.054\n",
      "Training Accuracy: 0.9468, Testing Accuracy: 0.9582\n",
      "\n"
     ]
    },
    {
     "name": "stdout",
     "output_type": "stream",
     "text": [
      "Epoch 70, Loss 0.0514\n",
      "Training Accuracy: 0.9486, Testing Accuracy: 0.9587\n",
      "\n"
     ]
    },
    {
     "name": "stdout",
     "output_type": "stream",
     "text": [
      "Epoch 80, Loss 0.0494\n",
      "Training Accuracy: 0.9503, Testing Accuracy: 0.9592\n",
      "\n"
     ]
    },
    {
     "name": "stdout",
     "output_type": "stream",
     "text": [
      "Epoch 90, Loss 0.0476\n",
      "Training Accuracy: 0.9523, Testing Accuracy: 0.9587\n",
      "\n"
     ]
    },
    {
     "name": "stdout",
     "output_type": "stream",
     "text": [
      "Epoch 100, Loss 0.0462\n",
      "Training Accuracy: 0.9540, Testing Accuracy: 0.9592\n",
      "\n"
     ]
    },
    {
     "name": "stdout",
     "output_type": "stream",
     "text": [
      "Epoch 110, Loss 0.0449\n",
      "Training Accuracy: 0.9544, Testing Accuracy: 0.9602\n",
      "\n"
     ]
    },
    {
     "name": "stdout",
     "output_type": "stream",
     "text": [
      "Epoch 120, Loss 0.0439\n",
      "Training Accuracy: 0.9548, Testing Accuracy: 0.9607\n",
      "\n"
     ]
    },
    {
     "name": "stdout",
     "output_type": "stream",
     "text": [
      "Epoch 130, Loss 0.0429\n",
      "Training Accuracy: 0.9555, Testing Accuracy: 0.9612\n",
      "\n"
     ]
    },
    {
     "name": "stdout",
     "output_type": "stream",
     "text": [
      "Epoch 140, Loss 0.0421\n",
      "Training Accuracy: 0.9562, Testing Accuracy: 0.9617\n",
      "\n"
     ]
    },
    {
     "name": "stdout",
     "output_type": "stream",
     "text": [
      "Epoch 150, Loss 0.0413\n",
      "Training Accuracy: 0.9567, Testing Accuracy: 0.9622\n",
      "\n"
     ]
    },
    {
     "name": "stdout",
     "output_type": "stream",
     "text": [
      "Epoch 160, Loss 0.0406\n",
      "Training Accuracy: 0.9573, Testing Accuracy: 0.9637\n",
      "\n"
     ]
    },
    {
     "name": "stdout",
     "output_type": "stream",
     "text": [
      "Epoch 170, Loss 0.04\n",
      "Training Accuracy: 0.9579, Testing Accuracy: 0.9647\n",
      "\n"
     ]
    },
    {
     "name": "stdout",
     "output_type": "stream",
     "text": [
      "Epoch 180, Loss 0.0394\n",
      "Training Accuracy: 0.9581, Testing Accuracy: 0.9647\n",
      "\n"
     ]
    },
    {
     "name": "stdout",
     "output_type": "stream",
     "text": [
      "Epoch 190, Loss 0.0389\n",
      "Training Accuracy: 0.9586, Testing Accuracy: 0.9647\n",
      "\n"
     ]
    },
    {
     "name": "stdout",
     "output_type": "stream",
     "text": [
      "Epoch 200, Loss 0.0384\n",
      "Training Accuracy: 0.9589, Testing Accuracy: 0.9652\n",
      "\n"
     ]
    },
    {
     "name": "stdout",
     "output_type": "stream",
     "text": [
      "Epoch 210, Loss 0.038\n",
      "Training Accuracy: 0.9594, Testing Accuracy: 0.9652\n",
      "\n"
     ]
    },
    {
     "name": "stdout",
     "output_type": "stream",
     "text": [
      "Epoch 220, Loss 0.0376\n",
      "Training Accuracy: 0.9596, Testing Accuracy: 0.9652\n",
      "\n"
     ]
    },
    {
     "name": "stdout",
     "output_type": "stream",
     "text": [
      "Epoch 230, Loss 0.0372\n",
      "Training Accuracy: 0.9600, Testing Accuracy: 0.9657\n",
      "\n"
     ]
    },
    {
     "name": "stdout",
     "output_type": "stream",
     "text": [
      "Epoch 240, Loss 0.0368\n",
      "Training Accuracy: 0.9604, Testing Accuracy: 0.9662\n",
      "\n"
     ]
    },
    {
     "data": {
      "text/plain": [
       "0.007598556060489499"
      ]
     },
     "execution_count": 23,
     "metadata": {},
     "output_type": "execute_result"
    }
   ],
   "source": [
    "lr_learner.train_loop(dl)"
   ]
  },
  {
   "cell_type": "code",
   "execution_count": 24,
   "id": "ca410940",
   "metadata": {
    "execution": {
     "iopub.execute_input": "2021-11-27T00:24:52.214602Z",
     "iopub.status.busy": "2021-11-27T00:24:52.213988Z",
     "iopub.status.idle": "2021-11-27T00:24:52.554409Z",
     "shell.execute_reply": "2021-11-27T00:24:52.555111Z"
    },
    "papermill": {
     "duration": 0.399716,
     "end_time": "2021-11-27T00:24:52.555288",
     "exception": false,
     "start_time": "2021-11-27T00:24:52.155572",
     "status": "completed"
    },
    "tags": []
   },
   "outputs": [
    {
     "data": {
      "text/plain": [
       "<matplotlib.legend.Legend at 0x7f63b088ebe0>"
      ]
     },
     "execution_count": 24,
     "metadata": {},
     "output_type": "execute_result"
    },
    {
     "data": {
      "image/png": "[encoded data removed]",
      "text/plain": [
       "<Figure size 1080x720 with 1 Axes>"
      ]
     },
     "metadata": {
      "needs_background": "light"
     },
     "output_type": "display_data"
    }
   ],
   "source": [
    "#comparing the results of NN and LR\n",
    "plt.figure(figsize=(15,10))\n",
    "\n",
    "# Neural Network plots\n",
    "plt.plot(acc_nn.accuracies, 'r-', label = \"Training Accuracies - NN\")\n",
    "plt.plot(acc_nn.test_accuracies, 'g-', label = \"Testing Accuracies - NN\")\n",
    "\n",
    "# Logistic Regression plots\n",
    "plt.plot(acc_lr.accuracies, 'k-', label = \"Training Accuracies - LR\")\n",
    "plt.plot(acc_lr.test_accuracies, 'b-', label = \"Testing Accuracies - LR\")\n",
    "plt.legend()"
   ]
  },
  {
   "cell_type": "markdown",
   "id": "80dfb35c",
   "metadata": {
    "papermill": {
     "duration": 0.045214,
     "end_time": "2021-11-27T00:24:52.645294",
     "exception": false,
     "start_time": "2021-11-27T00:24:52.600080",
     "status": "completed"
    },
    "tags": []
   },
   "source": [
    "#### Plotting the outputs of this layer of the NN.\n"
   ]
  },
  {
   "cell_type": "code",
   "execution_count": 25,
   "id": "45eb2ff5",
   "metadata": {
    "execution": {
     "iopub.execute_input": "2021-11-27T00:24:52.765905Z",
     "iopub.status.busy": "2021-11-27T00:24:52.764508Z",
     "iopub.status.idle": "2021-11-27T00:24:52.792790Z",
     "shell.execute_reply": "2021-11-27T00:24:52.793446Z"
    },
    "papermill": {
     "duration": 0.094601,
     "end_time": "2021-11-27T00:24:52.793628",
     "exception": false,
     "start_time": "2021-11-27T00:24:52.699027",
     "status": "completed"
    },
    "tags": []
   },
   "outputs": [],
   "source": [
    "new_model = Model(layers[:-2])\n",
    "testing_plot = new_model(testing_data_x)"
   ]
  },
  {
   "cell_type": "code",
   "execution_count": 26,
   "id": "4c0a5485",
   "metadata": {
    "execution": {
     "iopub.execute_input": "2021-11-27T00:24:52.894842Z",
     "iopub.status.busy": "2021-11-27T00:24:52.894193Z",
     "iopub.status.idle": "2021-11-27T00:24:53.166759Z",
     "shell.execute_reply": "2021-11-27T00:24:53.167245Z"
    },
    "papermill": {
     "duration": 0.325535,
     "end_time": "2021-11-27T00:24:53.167401",
     "exception": false,
     "start_time": "2021-11-27T00:24:52.841866",
     "status": "completed"
    },
    "tags": []
   },
   "outputs": [
    {
     "data": {
      "text/plain": [
       "Text(0.5, 1.0, 'Outputs')"
      ]
     },
     "execution_count": 26,
     "metadata": {},
     "output_type": "execute_result"
    },
    {
     "data": {
      "image/png": "[encoded data removed]",
      "text/plain": [
       "<Figure size 576x504 with 1 Axes>"
      ]
     },
     "metadata": {
      "needs_background": "light"
     },
     "output_type": "display_data"
    }
   ],
   "source": [
    "# Plotting the scatter plot of points and color coding by class\n",
    "plt.figure(figsize=(8,7))\n",
    "plt.scatter(testing_plot[:,0], testing_plot[:,1], alpha = 0.1, c = y_test.ravel());\n",
    "plt.title('Outputs')"
   ]
  },
  {
   "cell_type": "markdown",
   "id": "a74fcf8f",
   "metadata": {
    "papermill": {
     "duration": 0.047987,
     "end_time": "2021-11-27T00:24:53.266821",
     "exception": false,
     "start_time": "2021-11-27T00:24:53.218834",
     "status": "completed"
    },
    "tags": []
   },
   "source": [
    "Probability contours"
   ]
  },
  {
   "cell_type": "code",
   "execution_count": 27,
   "id": "d0afc8e3",
   "metadata": {
    "execution": {
     "iopub.execute_input": "2021-11-27T00:24:53.374840Z",
     "iopub.status.busy": "2021-11-27T00:24:53.373523Z",
     "iopub.status.idle": "2021-11-27T00:24:53.388276Z",
     "shell.execute_reply": "2021-11-27T00:24:53.387579Z"
    },
    "papermill": {
     "duration": 0.07224,
     "end_time": "2021-11-27T00:24:53.388495",
     "exception": false,
     "start_time": "2021-11-27T00:24:53.316255",
     "status": "completed"
    },
    "tags": []
   },
   "outputs": [],
   "source": [
    "model_prob = Model(layers[-2:]) "
   ]
  },
  {
   "cell_type": "code",
   "execution_count": 28,
   "id": "9b96e238",
   "metadata": {
    "execution": {
     "iopub.execute_input": "2021-11-27T00:24:53.497309Z",
     "iopub.status.busy": "2021-11-27T00:24:53.496522Z",
     "iopub.status.idle": "2021-11-27T00:24:53.510816Z",
     "shell.execute_reply": "2021-11-27T00:24:53.511234Z"
    },
    "papermill": {
     "duration": 0.068308,
     "end_time": "2021-11-27T00:24:53.511369",
     "exception": false,
     "start_time": "2021-11-27T00:24:53.443061",
     "status": "completed"
    },
    "tags": []
   },
   "outputs": [],
   "source": [
    "#creating the x and y ranges according to the above generated plot.\n",
    "x_range = np.linspace(-4, 1, 100) \n",
    "y_range = np.linspace(-6, 6, 100) \n",
    "x_grid, y_grid = np.meshgrid(x_range, y_range) # x_grid and y_grig are of size 100 X 100\n",
    "\n",
    "# converting x_grid and y_grid to continuous arrays\n",
    "x_gridflat = np.ravel(x_grid)\n",
    "y_gridflat = np.ravel(y_grid)\n",
    "\n",
    "# The last layer of the current model takes two columns as input. Hence transpose of np.vstack() is required.\n",
    "X = np.vstack((x_gridflat, y_gridflat)).T\n",
    "\n",
    "prob_contour = model_prob(X).reshape(100,100) "
   ]
  },
  {
   "cell_type": "code",
   "execution_count": 29,
   "id": "da72499a",
   "metadata": {
    "execution": {
     "iopub.execute_input": "2021-11-27T00:24:53.634045Z",
     "iopub.status.busy": "2021-11-27T00:24:53.633504Z",
     "iopub.status.idle": "2021-11-27T00:24:53.952578Z",
     "shell.execute_reply": "2021-11-27T00:24:53.951933Z"
    },
    "papermill": {
     "duration": 0.370584,
     "end_time": "2021-11-27T00:24:53.952704",
     "exception": false,
     "start_time": "2021-11-27T00:24:53.582120",
     "status": "completed"
    },
    "tags": []
   },
   "outputs": [
    {
     "data": {
      "image/png": "[encoded data removed]",
      "text/plain": [
       "<Figure size 720x648 with 1 Axes>"
      ]
     },
     "metadata": {
      "needs_background": "light"
     },
     "output_type": "display_data"
    }
   ],
   "source": [
    "plt.figure(figsize=(10,9))\n",
    "plt.scatter(testing_plot[:,0], testing_plot[:,1], alpha = 0.1, c = y_test.ravel())\n",
    "contours = plt.contour(x_grid,y_grid,prob_contour)\n",
    "plt.title('Probability Contours')\n",
    "plt.clabel(contours, inline = True );"
   ]
  },
  {
   "cell_type": "code",
   "execution_count": null,
   "id": "e81b4ac7",
   "metadata": {
    "papermill": {
     "duration": 0.055822,
     "end_time": "2021-11-27T00:24:54.057637",
     "exception": false,
     "start_time": "2021-11-27T00:24:54.001815",
     "status": "completed"
    },
    "tags": []
   },
   "outputs": [],
   "source": []
  }
 ],
 "metadata": {
  "kernelspec": {
   "display_name": "Python 3",
   "language": "python",
   "name": "python3"
  },
  "language_info": {
   "codemirror_mode": {
    "name": "ipython",
    "version": 3
   },
   "file_extension": ".py",
   "mimetype": "text/x-python",
   "name": "python",
   "nbconvert_exporter": "python",
   "pygments_lexer": "ipython3",
   "version": "3.6.15"
  },
  "papermill": {
   "default_parameters": {},
   "duration": 166.311291,
   "end_time": "2021-11-27T00:24:54.417987",
   "environment_variables": {},
   "exception": null,
   "input_path": "2020-08-11-part2.ipynb",
   "output_path": "2020-08-11-part2.ipynb",
   "parameters": {},
   "start_time": "2021-11-27T00:22:08.106696",
   "version": "2.3.3"
  }
 },
 "nbformat": 4,
 "nbformat_minor": 5
}