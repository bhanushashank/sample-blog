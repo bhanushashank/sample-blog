{
 "cells": [
  {
   "cell_type": "markdown",
   "id": "98380cd3",
   "metadata": {
    "papermill": {
     "duration": 0.038264,
     "end_time": "2022-10-21T20:12:20.968905",
     "exception": false,
     "start_time": "2022-10-21T20:12:20.930641",
     "status": "completed"
    },
    "tags": []
   },
   "source": [
    "# Distinguish Your Own Digits (DYOD)"
   ]
  },
  {
   "cell_type": "markdown",
   "id": "ef31240d",
   "metadata": {
    "papermill": {
     "duration": 0.027879,
     "end_time": "2022-10-21T20:12:21.032595",
     "exception": false,
     "start_time": "2022-10-21T20:12:21.004716",
     "status": "completed"
    },
    "tags": []
   },
   "source": [
    "You are going to write a classifier that distinguishes between the number 3 and number 8."
   ]
  },
  {
   "cell_type": "code",
   "execution_count": 1,
   "id": "b15c8646",
   "metadata": {
    "execution": {
     "iopub.execute_input": "2022-10-21T20:12:21.102120Z",
     "iopub.status.busy": "2022-10-21T20:12:21.101395Z",
     "iopub.status.idle": "2022-10-21T20:12:21.114346Z",
     "shell.execute_reply": "2022-10-21T20:12:21.113718Z"
    },
    "papermill": {
     "duration": 0.054313,
     "end_time": "2022-10-21T20:12:21.114505",
     "exception": false,
     "start_time": "2022-10-21T20:12:21.060192",
     "status": "completed"
    },
    "tags": []
   },
   "outputs": [],
   "source": [
    "%load_ext autoreload\n",
    "%autoreload 2"
   ]
  },
  {
   "cell_type": "code",
   "execution_count": 2,
   "id": "22ef38dc",
   "metadata": {
    "execution": {
     "iopub.execute_input": "2022-10-21T20:12:21.178893Z",
     "iopub.status.busy": "2022-10-21T20:12:21.178145Z",
     "iopub.status.idle": "2022-10-21T20:12:21.831390Z",
     "shell.execute_reply": "2022-10-21T20:12:21.830757Z"
    },
    "papermill": {
     "duration": 0.688578,
     "end_time": "2022-10-21T20:12:21.831532",
     "exception": false,
     "start_time": "2022-10-21T20:12:21.142954",
     "status": "completed"
    },
    "tags": []
   },
   "outputs": [],
   "source": [
    "%matplotlib inline\n",
    "import numpy as np\n",
    "import matplotlib.pyplot as plt\n",
    "import pandas as pd"
   ]
  },
  {
   "cell_type": "markdown",
   "id": "ba036198",
   "metadata": {
    "papermill": {
     "duration": 0.032236,
     "end_time": "2022-10-21T20:12:21.894019",
     "exception": false,
     "start_time": "2022-10-21T20:12:21.861783",
     "status": "completed"
    },
    "tags": []
   },
   "source": [
    "From the command line run `pip install mnist`. This is a library that will help you bring down the mnist dataset. If you run this from a notebook, you need to put  `!pip install mnist` in a cell by itself."
   ]
  },
  {
   "cell_type": "code",
   "execution_count": 3,
   "id": "bb6ad8a1",
   "metadata": {
    "execution": {
     "iopub.execute_input": "2022-10-21T20:12:21.973612Z",
     "iopub.status.busy": "2022-10-21T20:12:21.972870Z",
     "iopub.status.idle": "2022-10-21T20:12:23.897120Z",
     "shell.execute_reply": "2022-10-21T20:12:23.898134Z"
    },
    "papermill": {
     "duration": 1.972125,
     "end_time": "2022-10-21T20:12:23.898414",
     "exception": false,
     "start_time": "2022-10-21T20:12:21.926289",
     "status": "completed"
    },
    "tags": []
   },
   "outputs": [
    {
     "name": "stdout",
     "output_type": "stream",
     "text": [
      "Collecting mnist\r\n"
     ]
    },
    {
     "name": "stdout",
     "output_type": "stream",
     "text": [
      "  Downloading mnist-0.2.2-py2.py3-none-any.whl (3.5 kB)\r\n"
     ]
    },
    {
     "name": "stdout",
     "output_type": "stream",
     "text": [
      "Requirement already satisfied: numpy in /opt/hostedtoolcache/Python/3.6.15/x64/lib/python3.6/site-packages (from mnist) (1.19.5)\r\n"
     ]
    },
    {
     "name": "stdout",
     "output_type": "stream",
     "text": [
      "Installing collected packages: mnist\r\n"
     ]
    },
    {
     "name": "stdout",
     "output_type": "stream",
     "text": [
      "Successfully installed mnist-0.2.2\r\n"
     ]
    }
   ],
   "source": [
    "!pip install mnist"
   ]
  },
  {
   "cell_type": "markdown",
   "id": "69df9c9a",
   "metadata": {
    "papermill": {
     "duration": 0.029372,
     "end_time": "2022-10-21T20:12:23.958617",
     "exception": false,
     "start_time": "2022-10-21T20:12:23.929245",
     "status": "completed"
    },
    "tags": []
   },
   "source": [
    "## Preparing the Data"
   ]
  },
  {
   "cell_type": "code",
   "execution_count": 4,
   "id": "7f69d806",
   "metadata": {
    "execution": {
     "iopub.execute_input": "2022-10-21T20:12:24.029928Z",
     "iopub.status.busy": "2022-10-21T20:12:24.029202Z",
     "iopub.status.idle": "2022-10-21T20:12:24.047202Z",
     "shell.execute_reply": "2022-10-21T20:12:24.046585Z"
    },
    "papermill": {
     "duration": 0.055605,
     "end_time": "2022-10-21T20:12:24.047340",
     "exception": false,
     "start_time": "2022-10-21T20:12:23.991735",
     "status": "completed"
    },
    "tags": []
   },
   "outputs": [],
   "source": [
    "import mnist"
   ]
  },
  {
   "cell_type": "code",
   "execution_count": 5,
   "id": "a411e44f",
   "metadata": {
    "execution": {
     "iopub.execute_input": "2022-10-21T20:12:24.115800Z",
     "iopub.status.busy": "2022-10-21T20:12:24.115071Z",
     "iopub.status.idle": "2022-10-21T20:12:25.007684Z",
     "shell.execute_reply": "2022-10-21T20:12:25.007058Z"
    },
    "papermill": {
     "duration": 0.928822,
     "end_time": "2022-10-21T20:12:25.007823",
     "exception": false,
     "start_time": "2022-10-21T20:12:24.079001",
     "status": "completed"
    },
    "tags": []
   },
   "outputs": [],
   "source": [
    "train_images = mnist.train_images()\n",
    "train_labels = mnist.train_labels()"
   ]
  },
  {
   "cell_type": "code",
   "execution_count": 6,
   "id": "dceab3a5",
   "metadata": {
    "execution": {
     "iopub.execute_input": "2022-10-21T20:12:25.071579Z",
     "iopub.status.busy": "2022-10-21T20:12:25.070619Z",
     "iopub.status.idle": "2022-10-21T20:12:25.086922Z",
     "shell.execute_reply": "2022-10-21T20:12:25.087502Z"
    },
    "papermill": {
     "duration": 0.05084,
     "end_time": "2022-10-21T20:12:25.087667",
     "exception": false,
     "start_time": "2022-10-21T20:12:25.036827",
     "status": "completed"
    },
    "tags": []
   },
   "outputs": [
    {
     "data": {
      "text/plain": [
       "((60000, 28, 28), (60000,))"
      ]
     },
     "execution_count": 6,
     "metadata": {},
     "output_type": "execute_result"
    }
   ],
   "source": [
    "train_images.shape, train_labels.shape"
   ]
  },
  {
   "cell_type": "code",
   "execution_count": 7,
   "id": "f50dc2bb",
   "metadata": {
    "execution": {
     "iopub.execute_input": "2022-10-21T20:12:25.154998Z",
     "iopub.status.busy": "2022-10-21T20:12:25.154266Z",
     "iopub.status.idle": "2022-10-21T20:12:25.567865Z",
     "shell.execute_reply": "2022-10-21T20:12:25.566844Z"
    },
    "papermill": {
     "duration": 0.44982,
     "end_time": "2022-10-21T20:12:25.568092",
     "exception": false,
     "start_time": "2022-10-21T20:12:25.118272",
     "status": "completed"
    },
    "tags": []
   },
   "outputs": [],
   "source": [
    "test_images = mnist.test_images()\n",
    "test_labels = mnist.test_labels()"
   ]
  },
  {
   "cell_type": "code",
   "execution_count": 8,
   "id": "fc38cf1b",
   "metadata": {
    "execution": {
     "iopub.execute_input": "2022-10-21T20:12:25.634712Z",
     "iopub.status.busy": "2022-10-21T20:12:25.634010Z",
     "iopub.status.idle": "2022-10-21T20:12:25.650260Z",
     "shell.execute_reply": "2022-10-21T20:12:25.650793Z"
    },
    "papermill": {
     "duration": 0.05131,
     "end_time": "2022-10-21T20:12:25.650953",
     "exception": false,
     "start_time": "2022-10-21T20:12:25.599643",
     "status": "completed"
    },
    "tags": []
   },
   "outputs": [
    {
     "data": {
      "text/plain": [
       "((10000, 28, 28), (10000,))"
      ]
     },
     "execution_count": 8,
     "metadata": {},
     "output_type": "execute_result"
    }
   ],
   "source": [
    "test_images.shape, test_labels.shape"
   ]
  },
  {
   "cell_type": "code",
   "execution_count": 9,
   "id": "f9ed8fe0",
   "metadata": {
    "execution": {
     "iopub.execute_input": "2022-10-21T20:12:25.716472Z",
     "iopub.status.busy": "2022-10-21T20:12:25.715742Z",
     "iopub.status.idle": "2022-10-21T20:12:25.879733Z",
     "shell.execute_reply": "2022-10-21T20:12:25.880281Z"
    },
    "papermill": {
     "duration": 0.199171,
     "end_time": "2022-10-21T20:12:25.880449",
     "exception": false,
     "start_time": "2022-10-21T20:12:25.681278",
     "status": "completed"
    },
    "tags": []
   },
   "outputs": [
    {
     "name": "stdout",
     "output_type": "stream",
     "text": [
      "2\n"
     ]
    },
    {
     "data": {
      "text/plain": [
       "<matplotlib.image.AxesImage at 0x7fe9f739dd30>"
      ]
     },
     "execution_count": 9,
     "metadata": {},
     "output_type": "execute_result"
    },
    {
     "data": {
      "image/png": "[encoded data removed]",
      "text/plain": [
       "<Figure size 432x288 with 1 Axes>"
      ]
     },
     "metadata": {
      "needs_background": "light"
     },
     "output_type": "display_data"
    }
   ],
   "source": [
    "image_index = 7776 # You may select anything up to 60,000\n",
    "print(train_labels[image_index]) \n",
    "plt.imshow(train_images[image_index], cmap='Greys')"
   ]
  },
  {
   "cell_type": "markdown",
   "id": "a8d2388d",
   "metadata": {
    "papermill": {
     "duration": 0.030962,
     "end_time": "2022-10-21T20:12:25.942155",
     "exception": false,
     "start_time": "2022-10-21T20:12:25.911193",
     "status": "completed"
    },
    "tags": []
   },
   "source": [
    "## Filter data to get 3 and 8 out"
   ]
  },
  {
   "cell_type": "code",
   "execution_count": 10,
   "id": "776f7fc7",
   "metadata": {
    "execution": {
     "iopub.execute_input": "2022-10-21T20:12:26.010281Z",
     "iopub.status.busy": "2022-10-21T20:12:26.009571Z",
     "iopub.status.idle": "2022-10-21T20:12:26.030695Z",
     "shell.execute_reply": "2022-10-21T20:12:26.031213Z"
    },
    "papermill": {
     "duration": 0.058672,
     "end_time": "2022-10-21T20:12:26.031379",
     "exception": false,
     "start_time": "2022-10-21T20:12:25.972707",
     "status": "completed"
    },
    "tags": []
   },
   "outputs": [],
   "source": [
    "train_filter = np.where((train_labels == 3 ) | (train_labels == 8))\n",
    "test_filter = np.where((test_labels == 3) | (test_labels == 8))\n",
    "X_train, y_train = train_images[train_filter], train_labels[train_filter]\n",
    "X_test, y_test = test_images[test_filter], test_labels[test_filter]"
   ]
  },
  {
   "cell_type": "markdown",
   "id": "948f0b7e",
   "metadata": {
    "papermill": {
     "duration": 0.030826,
     "end_time": "2022-10-21T20:12:26.092913",
     "exception": false,
     "start_time": "2022-10-21T20:12:26.062087",
     "status": "completed"
    },
    "tags": []
   },
   "source": [
    "We normalize the pizel values in the 0 to 1 range"
   ]
  },
  {
   "cell_type": "code",
   "execution_count": 11,
   "id": "ee4c2166",
   "metadata": {
    "execution": {
     "iopub.execute_input": "2022-10-21T20:12:26.158455Z",
     "iopub.status.busy": "2022-10-21T20:12:26.157733Z",
     "iopub.status.idle": "2022-10-21T20:12:26.214053Z",
     "shell.execute_reply": "2022-10-21T20:12:26.214927Z"
    },
    "papermill": {
     "duration": 0.091791,
     "end_time": "2022-10-21T20:12:26.215104",
     "exception": false,
     "start_time": "2022-10-21T20:12:26.123313",
     "status": "completed"
    },
    "tags": []
   },
   "outputs": [],
   "source": [
    "X_train = X_train/255.\n",
    "X_test = X_test/255."
   ]
  },
  {
   "cell_type": "markdown",
   "id": "ddcf4fab",
   "metadata": {
    "papermill": {
     "duration": 0.030631,
     "end_time": "2022-10-21T20:12:26.276785",
     "exception": false,
     "start_time": "2022-10-21T20:12:26.246154",
     "status": "completed"
    },
    "tags": []
   },
   "source": [
    "And setup the labels as 1 (when the digit is 3) and 0 (when the digit is 8)"
   ]
  },
  {
   "cell_type": "code",
   "execution_count": 12,
   "id": "7dc908f2",
   "metadata": {
    "execution": {
     "iopub.execute_input": "2022-10-21T20:12:26.343837Z",
     "iopub.status.busy": "2022-10-21T20:12:26.343126Z",
     "iopub.status.idle": "2022-10-21T20:12:26.359566Z",
     "shell.execute_reply": "2022-10-21T20:12:26.360164Z"
    },
    "papermill": {
     "duration": 0.052778,
     "end_time": "2022-10-21T20:12:26.360330",
     "exception": false,
     "start_time": "2022-10-21T20:12:26.307552",
     "status": "completed"
    },
    "tags": []
   },
   "outputs": [],
   "source": [
    "y_train = 1*(y_train==3)\n",
    "y_test = 1*(y_test==3)"
   ]
  },
  {
   "cell_type": "code",
   "execution_count": 13,
   "id": "01e4e969",
   "metadata": {
    "execution": {
     "iopub.execute_input": "2022-10-21T20:12:26.430409Z",
     "iopub.status.busy": "2022-10-21T20:12:26.429680Z",
     "iopub.status.idle": "2022-10-21T20:12:26.445542Z",
     "shell.execute_reply": "2022-10-21T20:12:26.444978Z"
    },
    "papermill": {
     "duration": 0.054606,
     "end_time": "2022-10-21T20:12:26.445677",
     "exception": false,
     "start_time": "2022-10-21T20:12:26.391071",
     "status": "completed"
    },
    "tags": []
   },
   "outputs": [
    {
     "data": {
      "text/plain": [
       "((11982, 28, 28), (1984, 28, 28))"
      ]
     },
     "execution_count": 13,
     "metadata": {},
     "output_type": "execute_result"
    }
   ],
   "source": [
    "X_train.shape, X_test.shape"
   ]
  },
  {
   "cell_type": "markdown",
   "id": "5ccf3f85",
   "metadata": {
    "papermill": {
     "duration": 0.030886,
     "end_time": "2022-10-21T20:12:26.507372",
     "exception": false,
     "start_time": "2022-10-21T20:12:26.476486",
     "status": "completed"
    },
    "tags": []
   },
   "source": [
    "We reshape the data to flatten the image pixels into a set of features or co-variates:"
   ]
  },
  {
   "cell_type": "code",
   "execution_count": 14,
   "id": "5286a4a3",
   "metadata": {
    "execution": {
     "iopub.execute_input": "2022-10-21T20:12:26.574451Z",
     "iopub.status.busy": "2022-10-21T20:12:26.573757Z",
     "iopub.status.idle": "2022-10-21T20:12:26.590652Z",
     "shell.execute_reply": "2022-10-21T20:12:26.590081Z"
    },
    "papermill": {
     "duration": 0.051995,
     "end_time": "2022-10-21T20:12:26.590787",
     "exception": false,
     "start_time": "2022-10-21T20:12:26.538792",
     "status": "completed"
    },
    "tags": []
   },
   "outputs": [
    {
     "data": {
      "text/plain": [
       "((11982, 784), (1984, 784))"
      ]
     },
     "execution_count": 14,
     "metadata": {},
     "output_type": "execute_result"
    }
   ],
   "source": [
    "X_train = X_train.reshape(X_train.shape[0], -1)\n",
    "X_test = X_test.reshape(X_test.shape[0], -1)\n",
    "X_train.shape, X_test.shape"
   ]
  },
  {
   "cell_type": "code",
   "execution_count": 15,
   "id": "73c5f88a",
   "metadata": {
    "execution": {
     "iopub.execute_input": "2022-10-21T20:12:26.663276Z",
     "iopub.status.busy": "2022-10-21T20:12:26.662577Z",
     "iopub.status.idle": "2022-10-21T20:12:26.686047Z",
     "shell.execute_reply": "2022-10-21T20:12:26.685462Z"
    },
    "papermill": {
     "duration": 0.064051,
     "end_time": "2022-10-21T20:12:26.686185",
     "exception": false,
     "start_time": "2022-10-21T20:12:26.622134",
     "status": "completed"
    },
    "tags": []
   },
   "outputs": [],
   "source": [
    "#Impoting functions from 'Kudzu'\n",
    "from kudzu.model import Model\n",
    "from kudzu.train import Learner\n",
    "from kudzu.optim import GD\n",
    "from kudzu.data import Data, Sampler,Dataloader\n",
    "\n",
    "from kudzu.callbacks import AccCallback\n",
    "from kudzu.callbacks import ClfCallback\n",
    "\n",
    "from kudzu.loss import MSE\n",
    "\n",
    "from kudzu.layer import Sigmoid,Relu\n",
    "from kudzu.layer import Affine"
   ]
  },
  {
   "cell_type": "markdown",
   "id": "bc01172a",
   "metadata": {
    "papermill": {
     "duration": 0.031166,
     "end_time": "2022-10-21T20:12:26.748697",
     "exception": false,
     "start_time": "2022-10-21T20:12:26.717531",
     "status": "completed"
    },
    "tags": []
   },
   "source": [
    "### Let us create a `Config` class, to store important parameters. \n",
    "This class essentially plays the role of a dictionary."
   ]
  },
  {
   "cell_type": "code",
   "execution_count": 16,
   "id": "978281aa",
   "metadata": {
    "execution": {
     "iopub.execute_input": "2022-10-21T20:12:26.816568Z",
     "iopub.status.busy": "2022-10-21T20:12:26.815829Z",
     "iopub.status.idle": "2022-10-21T20:12:26.830474Z",
     "shell.execute_reply": "2022-10-21T20:12:26.831138Z"
    },
    "papermill": {
     "duration": 0.051512,
     "end_time": "2022-10-21T20:12:26.831296",
     "exception": false,
     "start_time": "2022-10-21T20:12:26.779784",
     "status": "completed"
    },
    "tags": []
   },
   "outputs": [],
   "source": [
    "class Config:\n",
    "    pass\n",
    "config = Config()\n",
    "config.lr = 0.001\n",
    "config.num_epochs = 250\n",
    "config.bs = 50"
   ]
  },
  {
   "cell_type": "markdown",
   "id": "1385fa59",
   "metadata": {
    "papermill": {
     "duration": 0.031302,
     "end_time": "2022-10-21T20:12:26.894029",
     "exception": false,
     "start_time": "2022-10-21T20:12:26.862727",
     "status": "completed"
    },
    "tags": []
   },
   "source": [
    "### Running Models with the Training data\n",
    "Details about the network layers:\n",
    "- A first affine layer has 784 inputs and does 100 affine transforms. These are followed by a Relu\n",
    "- A second affine layer has 100 inputs from the 100 activations of the past layer, and does 100 affine transforms. These are followed by a Relu\n",
    "- A third affine layer has 100 activations and does 2 affine transformations to create an embedding for visualization. There is no non-linearity here.\n",
    "- A final \"logistic regression\" which has an affine transform from 2 inputs to 1 output, which is squeezed through a sigmoid.\n"
   ]
  },
  {
   "cell_type": "code",
   "execution_count": 17,
   "id": "2b9c66db",
   "metadata": {
    "execution": {
     "iopub.execute_input": "2022-10-21T20:12:26.962090Z",
     "iopub.status.busy": "2022-10-21T20:12:26.961378Z",
     "iopub.status.idle": "2022-10-21T20:12:26.977380Z",
     "shell.execute_reply": "2022-10-21T20:12:26.976791Z"
    },
    "papermill": {
     "duration": 0.052171,
     "end_time": "2022-10-21T20:12:26.977516",
     "exception": false,
     "start_time": "2022-10-21T20:12:26.925345",
     "status": "completed"
    },
    "tags": []
   },
   "outputs": [],
   "source": [
    "data = Data(X_train, y_train.reshape(-1,1))\n",
    "sampler = Sampler(data, config.bs, shuffle=True)\n",
    "\n",
    "dl = Dataloader(data, sampler)\n",
    "\n",
    "opt = GD(config.lr)\n",
    "loss = MSE()"
   ]
  },
  {
   "cell_type": "code",
   "execution_count": 18,
   "id": "b275e4c2",
   "metadata": {
    "execution": {
     "iopub.execute_input": "2022-10-21T20:12:27.045658Z",
     "iopub.status.busy": "2022-10-21T20:12:27.044946Z",
     "iopub.status.idle": "2022-10-21T20:12:27.060212Z",
     "shell.execute_reply": "2022-10-21T20:12:27.059587Z"
    },
    "papermill": {
     "duration": 0.051004,
     "end_time": "2022-10-21T20:12:27.060356",
     "exception": false,
     "start_time": "2022-10-21T20:12:27.009352",
     "status": "completed"
    },
    "tags": []
   },
   "outputs": [],
   "source": [
    "training_data_x = X_train\n",
    "testing_data_x = X_test\n",
    "training_data_y = y_train.reshape(-1,1)\n",
    "testing_data_y = y_test.reshape(-1,1)"
   ]
  },
  {
   "cell_type": "code",
   "execution_count": 19,
   "id": "76951160",
   "metadata": {
    "execution": {
     "iopub.execute_input": "2022-10-21T20:12:27.129022Z",
     "iopub.status.busy": "2022-10-21T20:12:27.128257Z",
     "iopub.status.idle": "2022-10-21T20:12:27.150120Z",
     "shell.execute_reply": "2022-10-21T20:12:27.149537Z"
    },
    "papermill": {
     "duration": 0.058535,
     "end_time": "2022-10-21T20:12:27.150260",
     "exception": false,
     "start_time": "2022-10-21T20:12:27.091725",
     "status": "completed"
    },
    "tags": []
   },
   "outputs": [
    {
     "name": "stdout",
     "output_type": "stream",
     "text": [
      "xavier\n",
      "xavier\n",
      "xavier\n",
      "xavier\n",
      "xavier\n"
     ]
    }
   ],
   "source": [
    "layers = [Affine(\"first\", 784, 100), Relu(\"first\"), Affine(\"second\", 100, 100), Relu(\"second\"), Affine(\"third\", 100, 2), Affine(\"last\", 2, 1), Sigmoid(\"last\")]\n",
    "model_nn = Model(layers)\n",
    "model_lr = Model([Affine(\"logits\", 784, 1), Sigmoid(\"sigmoid\")])"
   ]
  },
  {
   "cell_type": "code",
   "execution_count": 20,
   "id": "6eede77a",
   "metadata": {
    "execution": {
     "iopub.execute_input": "2022-10-21T20:12:27.229126Z",
     "iopub.status.busy": "2022-10-21T20:12:27.228397Z",
     "iopub.status.idle": "2022-10-21T20:12:27.243647Z",
     "shell.execute_reply": "2022-10-21T20:12:27.243026Z"
    },
    "papermill": {
     "duration": 0.054858,
     "end_time": "2022-10-21T20:12:27.243785",
     "exception": false,
     "start_time": "2022-10-21T20:12:27.188927",
     "status": "completed"
    },
    "tags": []
   },
   "outputs": [],
   "source": [
    "nn_learner = Learner(loss, model_nn, opt, config.num_epochs)\n",
    "acc_nn = ClfCallback(nn_learner, config.bs, training_data_x , testing_data_x, training_data_y, testing_data_y)\n",
    "nn_learner.set_callbacks([acc_nn])"
   ]
  },
  {
   "cell_type": "code",
   "execution_count": 21,
   "id": "877b6cc7",
   "metadata": {
    "execution": {
     "iopub.execute_input": "2022-10-21T20:12:27.318083Z",
     "iopub.status.busy": "2022-10-21T20:12:27.316321Z",
     "iopub.status.idle": "2022-10-21T20:12:27.330205Z",
     "shell.execute_reply": "2022-10-21T20:12:27.330872Z"
    },
    "papermill": {
     "duration": 0.054996,
     "end_time": "2022-10-21T20:12:27.331034",
     "exception": false,
     "start_time": "2022-10-21T20:12:27.276038",
     "status": "completed"
    },
    "tags": []
   },
   "outputs": [],
   "source": [
    "lr_learner = Learner(loss, model_lr, opt, config.num_epochs)\n",
    "acc_lr = ClfCallback(lr_learner, config.bs, training_data_x , testing_data_x, training_data_y, testing_data_y)\n",
    "lr_learner.set_callbacks([acc_lr])"
   ]
  },
  {
   "cell_type": "code",
   "execution_count": 22,
   "id": "d9b133c3",
   "metadata": {
    "execution": {
     "iopub.execute_input": "2022-10-21T20:12:27.401664Z",
     "iopub.status.busy": "2022-10-21T20:12:27.400944Z",
     "iopub.status.idle": "2022-10-21T20:13:59.690893Z",
     "shell.execute_reply": "2022-10-21T20:13:59.691914Z"
    },
    "papermill": {
     "duration": 92.328675,
     "end_time": "2022-10-21T20:13:59.692084",
     "exception": false,
     "start_time": "2022-10-21T20:12:27.363409",
     "status": "completed"
    },
    "tags": []
   },
   "outputs": [
    {
     "name": "stdout",
     "output_type": "stream",
     "text": [
      "Epoch 0, Loss 0.2472\n",
      "Training Accuracy: 0.6144, Testing Accuracy: 0.6064\n",
      "\n"
     ]
    },
    {
     "name": "stdout",
     "output_type": "stream",
     "text": [
      "Epoch 10, Loss 0.1253\n",
      "Training Accuracy: 0.8988, Testing Accuracy: 0.9123\n",
      "\n"
     ]
    },
    {
     "name": "stdout",
     "output_type": "stream",
     "text": [
      "Epoch 20, Loss 0.0687\n",
      "Training Accuracy: 0.9325, Testing Accuracy: 0.9446\n",
      "\n"
     ]
    },
    {
     "name": "stdout",
     "output_type": "stream",
     "text": [
      "Epoch 30, Loss 0.0507\n",
      "Training Accuracy: 0.9459, Testing Accuracy: 0.9541\n",
      "\n"
     ]
    },
    {
     "name": "stdout",
     "output_type": "stream",
     "text": [
      "Epoch 40, Loss 0.0426\n",
      "Training Accuracy: 0.9529, Testing Accuracy: 0.9642\n",
      "\n"
     ]
    },
    {
     "name": "stdout",
     "output_type": "stream",
     "text": [
      "Epoch 50, Loss 0.038\n",
      "Training Accuracy: 0.9569, Testing Accuracy: 0.9672\n",
      "\n"
     ]
    },
    {
     "name": "stdout",
     "output_type": "stream",
     "text": [
      "Epoch 60, Loss 0.0351\n",
      "Training Accuracy: 0.9594, Testing Accuracy: 0.9693\n",
      "\n"
     ]
    },
    {
     "name": "stdout",
     "output_type": "stream",
     "text": [
      "Epoch 70, Loss 0.033\n",
      "Training Accuracy: 0.9619, Testing Accuracy: 0.9672\n",
      "\n"
     ]
    },
    {
     "name": "stdout",
     "output_type": "stream",
     "text": [
      "Epoch 80, Loss 0.0314\n",
      "Training Accuracy: 0.9634, Testing Accuracy: 0.9693\n",
      "\n"
     ]
    },
    {
     "name": "stdout",
     "output_type": "stream",
     "text": [
      "Epoch 90, Loss 0.0301\n",
      "Training Accuracy: 0.9654, Testing Accuracy: 0.9698\n",
      "\n"
     ]
    },
    {
     "name": "stdout",
     "output_type": "stream",
     "text": [
      "Epoch 100, Loss 0.029\n",
      "Training Accuracy: 0.9664, Testing Accuracy: 0.9703\n",
      "\n"
     ]
    },
    {
     "name": "stdout",
     "output_type": "stream",
     "text": [
      "Epoch 110, Loss 0.0281\n",
      "Training Accuracy: 0.9679, Testing Accuracy: 0.9708\n",
      "\n"
     ]
    },
    {
     "name": "stdout",
     "output_type": "stream",
     "text": [
      "Epoch 120, Loss 0.0273\n",
      "Training Accuracy: 0.9685, Testing Accuracy: 0.9713\n",
      "\n"
     ]
    },
    {
     "name": "stdout",
     "output_type": "stream",
     "text": [
      "Epoch 130, Loss 0.0266\n",
      "Training Accuracy: 0.9699, Testing Accuracy: 0.9713\n",
      "\n"
     ]
    },
    {
     "name": "stdout",
     "output_type": "stream",
     "text": [
      "Epoch 140, Loss 0.026\n",
      "Training Accuracy: 0.9701, Testing Accuracy: 0.9713\n",
      "\n"
     ]
    },
    {
     "name": "stdout",
     "output_type": "stream",
     "text": [
      "Epoch 150, Loss 0.0254\n",
      "Training Accuracy: 0.9708, Testing Accuracy: 0.9713\n",
      "\n"
     ]
    },
    {
     "name": "stdout",
     "output_type": "stream",
     "text": [
      "Epoch 160, Loss 0.0248\n",
      "Training Accuracy: 0.9714, Testing Accuracy: 0.9713\n",
      "\n"
     ]
    },
    {
     "name": "stdout",
     "output_type": "stream",
     "text": [
      "Epoch 170, Loss 0.0244\n",
      "Training Accuracy: 0.9714, Testing Accuracy: 0.9713\n",
      "\n"
     ]
    },
    {
     "name": "stdout",
     "output_type": "stream",
     "text": [
      "Epoch 180, Loss 0.0239\n",
      "Training Accuracy: 0.9718, Testing Accuracy: 0.9718\n",
      "\n"
     ]
    },
    {
     "name": "stdout",
     "output_type": "stream",
     "text": [
      "Epoch 190, Loss 0.0235\n",
      "Training Accuracy: 0.9720, Testing Accuracy: 0.9713\n",
      "\n"
     ]
    },
    {
     "name": "stdout",
     "output_type": "stream",
     "text": [
      "Epoch 200, Loss 0.0231\n",
      "Training Accuracy: 0.9725, Testing Accuracy: 0.9718\n",
      "\n"
     ]
    },
    {
     "name": "stdout",
     "output_type": "stream",
     "text": [
      "Epoch 210, Loss 0.0227\n",
      "Training Accuracy: 0.9730, Testing Accuracy: 0.9718\n",
      "\n"
     ]
    },
    {
     "name": "stdout",
     "output_type": "stream",
     "text": [
      "Epoch 220, Loss 0.0223\n",
      "Training Accuracy: 0.9741, Testing Accuracy: 0.9718\n",
      "\n"
     ]
    },
    {
     "name": "stdout",
     "output_type": "stream",
     "text": [
      "Epoch 230, Loss 0.022\n",
      "Training Accuracy: 0.9741, Testing Accuracy: 0.9723\n",
      "\n"
     ]
    },
    {
     "name": "stdout",
     "output_type": "stream",
     "text": [
      "Epoch 240, Loss 0.0216\n",
      "Training Accuracy: 0.9749, Testing Accuracy: 0.9728\n",
      "\n"
     ]
    },
    {
     "data": {
      "text/plain": [
       "0.03365122358035218"
      ]
     },
     "execution_count": 22,
     "metadata": {},
     "output_type": "execute_result"
    }
   ],
   "source": [
    "nn_learner.train_loop(dl)"
   ]
  },
  {
   "cell_type": "code",
   "execution_count": 23,
   "id": "e0163366",
   "metadata": {
    "execution": {
     "iopub.execute_input": "2022-10-21T20:13:59.782845Z",
     "iopub.status.busy": "2022-10-21T20:13:59.782113Z",
     "iopub.status.idle": "2022-10-21T20:14:16.087248Z",
     "shell.execute_reply": "2022-10-21T20:14:16.088309Z"
    },
    "papermill": {
     "duration": 16.355624,
     "end_time": "2022-10-21T20:14:16.088484",
     "exception": false,
     "start_time": "2022-10-21T20:13:59.732860",
     "status": "completed"
    },
    "tags": []
   },
   "outputs": [
    {
     "name": "stdout",
     "output_type": "stream",
     "text": [
      "Epoch 0, Loss 0.2614\n",
      "Training Accuracy: 0.6052, Testing Accuracy: 0.5892\n",
      "\n"
     ]
    },
    {
     "name": "stdout",
     "output_type": "stream",
     "text": [
      "Epoch 10, Loss 0.1057\n",
      "Training Accuracy: 0.9055, Testing Accuracy: 0.9098\n",
      "\n"
     ]
    },
    {
     "name": "stdout",
     "output_type": "stream",
     "text": [
      "Epoch 20, Loss 0.0807\n",
      "Training Accuracy: 0.9266, Testing Accuracy: 0.9350\n",
      "\n"
     ]
    },
    {
     "name": "stdout",
     "output_type": "stream",
     "text": [
      "Epoch 30, Loss 0.0693\n",
      "Training Accuracy: 0.9353, Testing Accuracy: 0.9461\n",
      "\n"
     ]
    },
    {
     "name": "stdout",
     "output_type": "stream",
     "text": [
      "Epoch 40, Loss 0.0624\n",
      "Training Accuracy: 0.9400, Testing Accuracy: 0.9511\n",
      "\n"
     ]
    },
    {
     "name": "stdout",
     "output_type": "stream",
     "text": [
      "Epoch 50, Loss 0.0577\n",
      "Training Accuracy: 0.9430, Testing Accuracy: 0.9526\n",
      "\n"
     ]
    },
    {
     "name": "stdout",
     "output_type": "stream",
     "text": [
      "Epoch 60, Loss 0.0543\n",
      "Training Accuracy: 0.9458, Testing Accuracy: 0.9546\n",
      "\n"
     ]
    },
    {
     "name": "stdout",
     "output_type": "stream",
     "text": [
      "Epoch 70, Loss 0.0517\n",
      "Training Accuracy: 0.9487, Testing Accuracy: 0.9577\n",
      "\n"
     ]
    },
    {
     "name": "stdout",
     "output_type": "stream",
     "text": [
      "Epoch 80, Loss 0.0495\n",
      "Training Accuracy: 0.9503, Testing Accuracy: 0.9592\n",
      "\n"
     ]
    },
    {
     "name": "stdout",
     "output_type": "stream",
     "text": [
      "Epoch 90, Loss 0.0478\n",
      "Training Accuracy: 0.9514, Testing Accuracy: 0.9617\n",
      "\n"
     ]
    },
    {
     "name": "stdout",
     "output_type": "stream",
     "text": [
      "Epoch 100, Loss 0.0463\n",
      "Training Accuracy: 0.9520, Testing Accuracy: 0.9617\n",
      "\n"
     ]
    },
    {
     "name": "stdout",
     "output_type": "stream",
     "text": [
      "Epoch 110, Loss 0.0451\n",
      "Training Accuracy: 0.9530, Testing Accuracy: 0.9617\n",
      "\n"
     ]
    },
    {
     "name": "stdout",
     "output_type": "stream",
     "text": [
      "Epoch 120, Loss 0.044\n",
      "Training Accuracy: 0.9543, Testing Accuracy: 0.9637\n",
      "\n"
     ]
    },
    {
     "name": "stdout",
     "output_type": "stream",
     "text": [
      "Epoch 130, Loss 0.043\n",
      "Training Accuracy: 0.9554, Testing Accuracy: 0.9637\n",
      "\n"
     ]
    },
    {
     "name": "stdout",
     "output_type": "stream",
     "text": [
      "Epoch 140, Loss 0.0422\n",
      "Training Accuracy: 0.9559, Testing Accuracy: 0.9637\n",
      "\n"
     ]
    },
    {
     "name": "stdout",
     "output_type": "stream",
     "text": [
      "Epoch 150, Loss 0.0414\n",
      "Training Accuracy: 0.9564, Testing Accuracy: 0.9647\n",
      "\n"
     ]
    },
    {
     "name": "stdout",
     "output_type": "stream",
     "text": [
      "Epoch 160, Loss 0.0407\n",
      "Training Accuracy: 0.9573, Testing Accuracy: 0.9647\n",
      "\n"
     ]
    },
    {
     "name": "stdout",
     "output_type": "stream",
     "text": [
      "Epoch 170, Loss 0.0401\n",
      "Training Accuracy: 0.9581, Testing Accuracy: 0.9647\n",
      "\n"
     ]
    },
    {
     "name": "stdout",
     "output_type": "stream",
     "text": [
      "Epoch 180, Loss 0.0395\n",
      "Training Accuracy: 0.9589, Testing Accuracy: 0.9652\n",
      "\n"
     ]
    },
    {
     "name": "stdout",
     "output_type": "stream",
     "text": [
      "Epoch 190, Loss 0.039\n",
      "Training Accuracy: 0.9593, Testing Accuracy: 0.9657\n",
      "\n"
     ]
    },
    {
     "name": "stdout",
     "output_type": "stream",
     "text": [
      "Epoch 200, Loss 0.0385\n",
      "Training Accuracy: 0.9599, Testing Accuracy: 0.9662\n",
      "\n"
     ]
    },
    {
     "name": "stdout",
     "output_type": "stream",
     "text": [
      "Epoch 210, Loss 0.0381\n",
      "Training Accuracy: 0.9602, Testing Accuracy: 0.9667\n",
      "\n"
     ]
    },
    {
     "name": "stdout",
     "output_type": "stream",
     "text": [
      "Epoch 220, Loss 0.0377\n",
      "Training Accuracy: 0.9607, Testing Accuracy: 0.9667\n",
      "\n"
     ]
    },
    {
     "name": "stdout",
     "output_type": "stream",
     "text": [
      "Epoch 230, Loss 0.0373\n",
      "Training Accuracy: 0.9608, Testing Accuracy: 0.9667\n",
      "\n"
     ]
    },
    {
     "name": "stdout",
     "output_type": "stream",
     "text": [
      "Epoch 240, Loss 0.0369\n",
      "Training Accuracy: 0.9610, Testing Accuracy: 0.9662\n",
      "\n"
     ]
    },
    {
     "data": {
      "text/plain": [
       "0.0062778062914117935"
      ]
     },
     "execution_count": 23,
     "metadata": {},
     "output_type": "execute_result"
    }
   ],
   "source": [
    "lr_learner.train_loop(dl)"
   ]
  },
  {
   "cell_type": "code",
   "execution_count": 24,
   "id": "ca410940",
   "metadata": {
    "execution": {
     "iopub.execute_input": "2022-10-21T20:14:16.194676Z",
     "iopub.status.busy": "2022-10-21T20:14:16.193954Z",
     "iopub.status.idle": "2022-10-21T20:14:16.476233Z",
     "shell.execute_reply": "2022-10-21T20:14:16.476846Z"
    },
    "papermill": {
     "duration": 0.340005,
     "end_time": "2022-10-21T20:14:16.477009",
     "exception": false,
     "start_time": "2022-10-21T20:14:16.137004",
     "status": "completed"
    },
    "tags": []
   },
   "outputs": [
    {
     "data": {
      "text/plain": [
       "<matplotlib.legend.Legend at 0x7fe9f6f0c320>"
      ]
     },
     "execution_count": 24,
     "metadata": {},
     "output_type": "execute_result"
    },
    {
     "data": {
      "image/png": "[encoded data removed]",
      "text/plain": [
       "<Figure size 1080x720 with 1 Axes>"
      ]
     },
     "metadata": {
      "needs_background": "light"
     },
     "output_type": "display_data"
    }
   ],
   "source": [
    "#comparing the results of NN and LR\n",
    "plt.figure(figsize=(15,10))\n",
    "\n",
    "# Neural Network plots\n",
    "plt.plot(acc_nn.accuracies, 'r-', label = \"Training Accuracies - NN\")\n",
    "plt.plot(acc_nn.test_accuracies, 'g-', label = \"Testing Accuracies - NN\")\n",
    "\n",
    "# Logistic Regression plots\n",
    "plt.plot(acc_lr.accuracies, 'k-', label = \"Training Accuracies - LR\")\n",
    "plt.plot(acc_lr.test_accuracies, 'b-', label = \"Testing Accuracies - LR\")\n",
    "plt.legend()"
   ]
  },
  {
   "cell_type": "markdown",
   "id": "80dfb35c",
   "metadata": {
    "papermill": {
     "duration": 0.048463,
     "end_time": "2022-10-21T20:14:16.574656",
     "exception": false,
     "start_time": "2022-10-21T20:14:16.526193",
     "status": "completed"
    },
    "tags": []
   },
   "source": [
    "#### Plotting the outputs of this layer of the NN.\n"
   ]
  },
  {
   "cell_type": "code",
   "execution_count": 25,
   "id": "45eb2ff5",
   "metadata": {
    "execution": {
     "iopub.execute_input": "2022-10-21T20:14:16.678651Z",
     "iopub.status.busy": "2022-10-21T20:14:16.676022Z",
     "iopub.status.idle": "2022-10-21T20:14:16.702498Z",
     "shell.execute_reply": "2022-10-21T20:14:16.703082Z"
    },
    "papermill": {
     "duration": 0.080026,
     "end_time": "2022-10-21T20:14:16.703249",
     "exception": false,
     "start_time": "2022-10-21T20:14:16.623223",
     "status": "completed"
    },
    "tags": []
   },
   "outputs": [],
   "source": [
    "new_model = Model(layers[:-2])\n",
    "testing_plot = new_model(testing_data_x)"
   ]
  },
  {
   "cell_type": "code",
   "execution_count": 26,
   "id": "4c0a5485",
   "metadata": {
    "execution": {
     "iopub.execute_input": "2022-10-21T20:14:16.808563Z",
     "iopub.status.busy": "2022-10-21T20:14:16.806768Z",
     "iopub.status.idle": "2022-10-21T20:14:17.059612Z",
     "shell.execute_reply": "2022-10-21T20:14:17.060182Z"
    },
    "papermill": {
     "duration": 0.308034,
     "end_time": "2022-10-21T20:14:17.060349",
     "exception": false,
     "start_time": "2022-10-21T20:14:16.752315",
     "status": "completed"
    },
    "tags": []
   },
   "outputs": [
    {
     "data": {
      "text/plain": [
       "Text(0.5, 1.0, 'Outputs')"
      ]
     },
     "execution_count": 26,
     "metadata": {},
     "output_type": "execute_result"
    },
    {
     "data": {
      "image/png": "[encoded data removed]",
      "text/plain": [
       "<Figure size 576x504 with 1 Axes>"
      ]
     },
     "metadata": {
      "needs_background": "light"
     },
     "output_type": "display_data"
    }
   ],
   "source": [
    "# Plotting the scatter plot of points and color coding by class\n",
    "plt.figure(figsize=(8,7))\n",
    "plt.scatter(testing_plot[:,0], testing_plot[:,1], alpha = 0.1, c = y_test.ravel());\n",
    "plt.title('Outputs')"
   ]
  },
  {
   "cell_type": "markdown",
   "id": "a74fcf8f",
   "metadata": {
    "papermill": {
     "duration": 0.051942,
     "end_time": "2022-10-21T20:14:17.164425",
     "exception": false,
     "start_time": "2022-10-21T20:14:17.112483",
     "status": "completed"
    },
    "tags": []
   },
   "source": [
    "Probability contours"
   ]
  },
  {
   "cell_type": "code",
   "execution_count": 27,
   "id": "d0afc8e3",
   "metadata": {
    "execution": {
     "iopub.execute_input": "2022-10-21T20:14:17.311220Z",
     "iopub.status.busy": "2022-10-21T20:14:17.310452Z",
     "iopub.status.idle": "2022-10-21T20:14:17.324209Z",
     "shell.execute_reply": "2022-10-21T20:14:17.324884Z"
    },
    "papermill": {
     "duration": 0.072618,
     "end_time": "2022-10-21T20:14:17.325042",
     "exception": false,
     "start_time": "2022-10-21T20:14:17.252424",
     "status": "completed"
    },
    "tags": []
   },
   "outputs": [],
   "source": [
    "model_prob = Model(layers[-2:]) "
   ]
  },
  {
   "cell_type": "code",
   "execution_count": 28,
   "id": "9b96e238",
   "metadata": {
    "execution": {
     "iopub.execute_input": "2022-10-21T20:14:17.438114Z",
     "iopub.status.busy": "2022-10-21T20:14:17.437370Z",
     "iopub.status.idle": "2022-10-21T20:14:17.454540Z",
     "shell.execute_reply": "2022-10-21T20:14:17.453961Z"
    },
    "papermill": {
     "duration": 0.077705,
     "end_time": "2022-10-21T20:14:17.454686",
     "exception": false,
     "start_time": "2022-10-21T20:14:17.376981",
     "status": "completed"
    },
    "tags": []
   },
   "outputs": [],
   "source": [
    "#creating the x and y ranges according to the above generated plot.\n",
    "x_range = np.linspace(-4, 1, 100) \n",
    "y_range = np.linspace(-6, 6, 100) \n",
    "x_grid, y_grid = np.meshgrid(x_range, y_range) # x_grid and y_grig are of size 100 X 100\n",
    "\n",
    "# converting x_grid and y_grid to continuous arrays\n",
    "x_gridflat = np.ravel(x_grid)\n",
    "y_gridflat = np.ravel(y_grid)\n",
    "\n",
    "# The last layer of the current model takes two columns as input. Hence transpose of np.vstack() is required.\n",
    "X = np.vstack((x_gridflat, y_gridflat)).T\n",
    "\n",
    "prob_contour = model_prob(X).reshape(100,100) "
   ]
  },
  {
   "cell_type": "code",
   "execution_count": 29,
   "id": "da72499a",
   "metadata": {
    "execution": {
     "iopub.execute_input": "2022-10-21T20:14:17.569947Z",
     "iopub.status.busy": "2022-10-21T20:14:17.569251Z",
     "iopub.status.idle": "2022-10-21T20:14:17.884925Z",
     "shell.execute_reply": "2022-10-21T20:14:17.885462Z"
    },
    "papermill": {
     "duration": 0.375847,
     "end_time": "2022-10-21T20:14:17.885620",
     "exception": false,
     "start_time": "2022-10-21T20:14:17.509773",
     "status": "completed"
    },
    "tags": []
   },
   "outputs": [
    {
     "data": {
      "image/png": "[encoded data removed]",
      "text/plain": [
       "<Figure size 720x648 with 1 Axes>"
      ]
     },
     "metadata": {
      "needs_background": "light"
     },
     "output_type": "display_data"
    }
   ],
   "source": [
    "plt.figure(figsize=(10,9))\n",
    "plt.scatter(testing_plot[:,0], testing_plot[:,1], alpha = 0.1, c = y_test.ravel())\n",
    "contours = plt.contour(x_grid,y_grid,prob_contour)\n",
    "plt.title('Probability Contours')\n",
    "plt.clabel(contours, inline = True );"
   ]
  },
  {
   "cell_type": "code",
   "execution_count": null,
   "id": "e81b4ac7",
   "metadata": {
    "papermill": {
     "duration": 0.059185,
     "end_time": "2022-10-21T20:14:18.006116",
     "exception": false,
     "start_time": "2022-10-21T20:14:17.946931",
     "status": "completed"
    },
    "tags": []
   },
   "outputs": [],
   "source": []
  }
 ],
 "metadata": {
  "kernelspec": {
   "display_name": "Python 3",
   "language": "python",
   "name": "python3"
  },
  "language_info": {
   "codemirror_mode": {
    "name": "ipython",
    "version": 3
   },
   "file_extension": ".py",
   "mimetype": "text/x-python",
   "name": "python",
   "nbconvert_exporter": "python",
   "pygments_lexer": "ipython3",
   "version": "3.6.15"
  },
  "papermill": {
   "default_parameters": {},
   "duration": 118.984862,
   "end_time": "2022-10-21T20:14:18.587318",
   "environment_variables": {},
   "exception": null,
   "input_path": "2020-08-11-part2.ipynb",
   "output_path": "2020-08-11-part2.ipynb",
   "parameters": {},
   "start_time": "2022-10-21T20:12:19.602456",
   "version": "2.3.3"
  }
 },
 "nbformat": 4,
 "nbformat_minor": 5
}