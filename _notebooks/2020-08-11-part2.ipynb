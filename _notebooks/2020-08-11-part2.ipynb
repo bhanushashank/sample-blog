{
 "cells": [
  {
   "cell_type": "markdown",
   "id": "98380cd3",
   "metadata": {
    "papermill": {
     "duration": 0.028637,
     "end_time": "2021-08-22T20:06:24.227267",
     "exception": false,
     "start_time": "2021-08-22T20:06:24.198630",
     "status": "completed"
    },
    "tags": []
   },
   "source": [
    "# Distinguish Your Own Digits (DYOD)"
   ]
  },
  {
   "cell_type": "markdown",
   "id": "ef31240d",
   "metadata": {
    "papermill": {
     "duration": 0.023883,
     "end_time": "2021-08-22T20:06:24.275677",
     "exception": false,
     "start_time": "2021-08-22T20:06:24.251794",
     "status": "completed"
    },
    "tags": []
   },
   "source": [
    "You are going to write a classifier that distinguishes between the number 3 and number 8."
   ]
  },
  {
   "cell_type": "code",
   "execution_count": 1,
   "id": "b15c8646",
   "metadata": {
    "execution": {
     "iopub.execute_input": "2021-08-22T20:06:24.334819Z",
     "iopub.status.busy": "2021-08-22T20:06:24.334261Z",
     "iopub.status.idle": "2021-08-22T20:06:24.344817Z",
     "shell.execute_reply": "2021-08-22T20:06:24.344359Z"
    },
    "papermill": {
     "duration": 0.045587,
     "end_time": "2021-08-22T20:06:24.344960",
     "exception": false,
     "start_time": "2021-08-22T20:06:24.299373",
     "status": "completed"
    },
    "tags": []
   },
   "outputs": [],
   "source": [
    "%load_ext autoreload\n",
    "%autoreload 2"
   ]
  },
  {
   "cell_type": "code",
   "execution_count": 2,
   "id": "22ef38dc",
   "metadata": {
    "execution": {
     "iopub.execute_input": "2021-08-22T20:06:24.401158Z",
     "iopub.status.busy": "2021-08-22T20:06:24.400614Z",
     "iopub.status.idle": "2021-08-22T20:06:24.934365Z",
     "shell.execute_reply": "2021-08-22T20:06:24.933837Z"
    },
    "papermill": {
     "duration": 0.565549,
     "end_time": "2021-08-22T20:06:24.934501",
     "exception": false,
     "start_time": "2021-08-22T20:06:24.368952",
     "status": "completed"
    },
    "tags": []
   },
   "outputs": [],
   "source": [
    "%matplotlib inline\n",
    "import numpy as np\n",
    "import matplotlib.pyplot as plt\n",
    "import pandas as pd"
   ]
  },
  {
   "cell_type": "markdown",
   "id": "ba036198",
   "metadata": {
    "papermill": {
     "duration": 0.024646,
     "end_time": "2021-08-22T20:06:24.983155",
     "exception": false,
     "start_time": "2021-08-22T20:06:24.958509",
     "status": "completed"
    },
    "tags": []
   },
   "source": [
    "From the command line run `pip install mnist`. This is a library that will help you bring down the mnist dataset. If you run this from a notebook, you need to put  `!pip install mnist` in a cell by itself."
   ]
  },
  {
   "cell_type": "code",
   "execution_count": 3,
   "id": "bb6ad8a1",
   "metadata": {
    "execution": {
     "iopub.execute_input": "2021-08-22T20:06:25.037167Z",
     "iopub.status.busy": "2021-08-22T20:06:25.036596Z",
     "iopub.status.idle": "2021-08-22T20:06:26.760697Z",
     "shell.execute_reply": "2021-08-22T20:06:26.760046Z"
    },
    "papermill": {
     "duration": 1.754117,
     "end_time": "2021-08-22T20:06:26.760834",
     "exception": false,
     "start_time": "2021-08-22T20:06:25.006717",
     "status": "completed"
    },
    "tags": []
   },
   "outputs": [
    {
     "name": "stdout",
     "output_type": "stream",
     "text": [
      "Collecting mnist\r\n"
     ]
    },
    {
     "name": "stdout",
     "output_type": "stream",
     "text": [
      "  Downloading mnist-0.2.2-py2.py3-none-any.whl (3.5 kB)\r\n",
      "Requirement already satisfied: numpy in /opt/hostedtoolcache/Python/3.6.14/x64/lib/python3.6/site-packages (from mnist) (1.19.5)\r\n"
     ]
    },
    {
     "name": "stdout",
     "output_type": "stream",
     "text": [
      "Installing collected packages: mnist\r\n"
     ]
    },
    {
     "name": "stdout",
     "output_type": "stream",
     "text": [
      "Successfully installed mnist-0.2.2\r\n"
     ]
    }
   ],
   "source": [
    "!pip install mnist"
   ]
  },
  {
   "cell_type": "markdown",
   "id": "69df9c9a",
   "metadata": {
    "papermill": {
     "duration": 0.025076,
     "end_time": "2021-08-22T20:06:26.811850",
     "exception": false,
     "start_time": "2021-08-22T20:06:26.786774",
     "status": "completed"
    },
    "tags": []
   },
   "source": [
    "## Preparing the Data"
   ]
  },
  {
   "cell_type": "code",
   "execution_count": 4,
   "id": "7f69d806",
   "metadata": {
    "execution": {
     "iopub.execute_input": "2021-08-22T20:06:26.872228Z",
     "iopub.status.busy": "2021-08-22T20:06:26.871650Z",
     "iopub.status.idle": "2021-08-22T20:06:26.887992Z",
     "shell.execute_reply": "2021-08-22T20:06:26.888554Z"
    },
    "papermill": {
     "duration": 0.05189,
     "end_time": "2021-08-22T20:06:26.888704",
     "exception": false,
     "start_time": "2021-08-22T20:06:26.836814",
     "status": "completed"
    },
    "tags": []
   },
   "outputs": [],
   "source": [
    "import mnist"
   ]
  },
  {
   "cell_type": "code",
   "execution_count": 5,
   "id": "a411e44f",
   "metadata": {
    "execution": {
     "iopub.execute_input": "2021-08-22T20:06:26.942973Z",
     "iopub.status.busy": "2021-08-22T20:06:26.942455Z",
     "iopub.status.idle": "2021-08-22T20:07:01.645538Z",
     "shell.execute_reply": "2021-08-22T20:07:01.645010Z"
    },
    "papermill": {
     "duration": 34.73174,
     "end_time": "2021-08-22T20:07:01.645675",
     "exception": false,
     "start_time": "2021-08-22T20:06:26.913935",
     "status": "completed"
    },
    "tags": []
   },
   "outputs": [],
   "source": [
    "train_images = mnist.train_images()\n",
    "train_labels = mnist.train_labels()"
   ]
  },
  {
   "cell_type": "code",
   "execution_count": 6,
   "id": "dceab3a5",
   "metadata": {
    "execution": {
     "iopub.execute_input": "2021-08-22T20:07:01.699967Z",
     "iopub.status.busy": "2021-08-22T20:07:01.699430Z",
     "iopub.status.idle": "2021-08-22T20:07:01.713134Z",
     "shell.execute_reply": "2021-08-22T20:07:01.713566Z"
    },
    "papermill": {
     "duration": 0.042228,
     "end_time": "2021-08-22T20:07:01.713696",
     "exception": false,
     "start_time": "2021-08-22T20:07:01.671468",
     "status": "completed"
    },
    "tags": []
   },
   "outputs": [
    {
     "data": {
      "text/plain": [
       "((60000, 28, 28), (60000,))"
      ]
     },
     "execution_count": 6,
     "metadata": {},
     "output_type": "execute_result"
    }
   ],
   "source": [
    "train_images.shape, train_labels.shape"
   ]
  },
  {
   "cell_type": "code",
   "execution_count": 7,
   "id": "f50dc2bb",
   "metadata": {
    "execution": {
     "iopub.execute_input": "2021-08-22T20:07:01.776297Z",
     "iopub.status.busy": "2021-08-22T20:07:01.775796Z",
     "iopub.status.idle": "2021-08-22T20:07:15.228820Z",
     "shell.execute_reply": "2021-08-22T20:07:15.227815Z"
    },
    "papermill": {
     "duration": 13.490315,
     "end_time": "2021-08-22T20:07:15.228968",
     "exception": false,
     "start_time": "2021-08-22T20:07:01.738653",
     "status": "completed"
    },
    "tags": []
   },
   "outputs": [],
   "source": [
    "test_images = mnist.test_images()\n",
    "test_labels = mnist.test_labels()"
   ]
  },
  {
   "cell_type": "code",
   "execution_count": 8,
   "id": "fc38cf1b",
   "metadata": {
    "execution": {
     "iopub.execute_input": "2021-08-22T20:07:15.285222Z",
     "iopub.status.busy": "2021-08-22T20:07:15.284712Z",
     "iopub.status.idle": "2021-08-22T20:07:15.298710Z",
     "shell.execute_reply": "2021-08-22T20:07:15.298257Z"
    },
    "papermill": {
     "duration": 0.043339,
     "end_time": "2021-08-22T20:07:15.298831",
     "exception": false,
     "start_time": "2021-08-22T20:07:15.255492",
     "status": "completed"
    },
    "tags": []
   },
   "outputs": [
    {
     "data": {
      "text/plain": [
       "((10000, 28, 28), (10000,))"
      ]
     },
     "execution_count": 8,
     "metadata": {},
     "output_type": "execute_result"
    }
   ],
   "source": [
    "test_images.shape, test_labels.shape"
   ]
  },
  {
   "cell_type": "code",
   "execution_count": 9,
   "id": "f9ed8fe0",
   "metadata": {
    "execution": {
     "iopub.execute_input": "2021-08-22T20:07:15.365436Z",
     "iopub.status.busy": "2021-08-22T20:07:15.364898Z",
     "iopub.status.idle": "2021-08-22T20:07:15.506718Z",
     "shell.execute_reply": "2021-08-22T20:07:15.507606Z"
    },
    "papermill": {
     "duration": 0.178997,
     "end_time": "2021-08-22T20:07:15.507758",
     "exception": false,
     "start_time": "2021-08-22T20:07:15.328761",
     "status": "completed"
    },
    "tags": []
   },
   "outputs": [
    {
     "name": "stdout",
     "output_type": "stream",
     "text": [
      "2\n"
     ]
    },
    {
     "data": {
      "text/plain": [
       "<matplotlib.image.AxesImage at 0x7fc7d14b38d0>"
      ]
     },
     "execution_count": 9,
     "metadata": {},
     "output_type": "execute_result"
    },
    {
     "data": {
      "image/png": "[encoded data removed]",
      "text/plain": [
       "<Figure size 432x288 with 1 Axes>"
      ]
     },
     "metadata": {
      "needs_background": "light"
     },
     "output_type": "display_data"
    }
   ],
   "source": [
    "image_index = 7776 # You may select anything up to 60,000\n",
    "print(train_labels[image_index]) \n",
    "plt.imshow(train_images[image_index], cmap='Greys')"
   ]
  },
  {
   "cell_type": "markdown",
   "id": "a8d2388d",
   "metadata": {
    "papermill": {
     "duration": 0.02659,
     "end_time": "2021-08-22T20:07:15.561111",
     "exception": false,
     "start_time": "2021-08-22T20:07:15.534521",
     "status": "completed"
    },
    "tags": []
   },
   "source": [
    "## Filter data to get 3 and 8 out"
   ]
  },
  {
   "cell_type": "code",
   "execution_count": 10,
   "id": "776f7fc7",
   "metadata": {
    "execution": {
     "iopub.execute_input": "2021-08-22T20:07:15.619610Z",
     "iopub.status.busy": "2021-08-22T20:07:15.618515Z",
     "iopub.status.idle": "2021-08-22T20:07:15.638625Z",
     "shell.execute_reply": "2021-08-22T20:07:15.638112Z"
    },
    "papermill": {
     "duration": 0.051008,
     "end_time": "2021-08-22T20:07:15.638755",
     "exception": false,
     "start_time": "2021-08-22T20:07:15.587747",
     "status": "completed"
    },
    "tags": []
   },
   "outputs": [],
   "source": [
    "train_filter = np.where((train_labels == 3 ) | (train_labels == 8))\n",
    "test_filter = np.where((test_labels == 3) | (test_labels == 8))\n",
    "X_train, y_train = train_images[train_filter], train_labels[train_filter]\n",
    "X_test, y_test = test_images[test_filter], test_labels[test_filter]"
   ]
  },
  {
   "cell_type": "markdown",
   "id": "948f0b7e",
   "metadata": {
    "papermill": {
     "duration": 0.026958,
     "end_time": "2021-08-22T20:07:15.692622",
     "exception": false,
     "start_time": "2021-08-22T20:07:15.665664",
     "status": "completed"
    },
    "tags": []
   },
   "source": [
    "We normalize the pizel values in the 0 to 1 range"
   ]
  },
  {
   "cell_type": "code",
   "execution_count": 11,
   "id": "ee4c2166",
   "metadata": {
    "execution": {
     "iopub.execute_input": "2021-08-22T20:07:15.760093Z",
     "iopub.status.busy": "2021-08-22T20:07:15.758853Z",
     "iopub.status.idle": "2021-08-22T20:07:15.804435Z",
     "shell.execute_reply": "2021-08-22T20:07:15.803918Z"
    },
    "papermill": {
     "duration": 0.085491,
     "end_time": "2021-08-22T20:07:15.804576",
     "exception": false,
     "start_time": "2021-08-22T20:07:15.719085",
     "status": "completed"
    },
    "tags": []
   },
   "outputs": [],
   "source": [
    "X_train = X_train/255.\n",
    "X_test = X_test/255."
   ]
  },
  {
   "cell_type": "markdown",
   "id": "ddcf4fab",
   "metadata": {
    "papermill": {
     "duration": 0.02711,
     "end_time": "2021-08-22T20:07:15.859148",
     "exception": false,
     "start_time": "2021-08-22T20:07:15.832038",
     "status": "completed"
    },
    "tags": []
   },
   "source": [
    "And setup the labels as 1 (when the digit is 3) and 0 (when the digit is 8)"
   ]
  },
  {
   "cell_type": "code",
   "execution_count": 12,
   "id": "7dc908f2",
   "metadata": {
    "execution": {
     "iopub.execute_input": "2021-08-22T20:07:15.915988Z",
     "iopub.status.busy": "2021-08-22T20:07:15.915447Z",
     "iopub.status.idle": "2021-08-22T20:07:15.927326Z",
     "shell.execute_reply": "2021-08-22T20:07:15.926903Z"
    },
    "papermill": {
     "duration": 0.041887,
     "end_time": "2021-08-22T20:07:15.927472",
     "exception": false,
     "start_time": "2021-08-22T20:07:15.885585",
     "status": "completed"
    },
    "tags": []
   },
   "outputs": [],
   "source": [
    "y_train = 1*(y_train==3)\n",
    "y_test = 1*(y_test==3)"
   ]
  },
  {
   "cell_type": "code",
   "execution_count": 13,
   "id": "01e4e969",
   "metadata": {
    "execution": {
     "iopub.execute_input": "2021-08-22T20:07:15.993575Z",
     "iopub.status.busy": "2021-08-22T20:07:15.993009Z",
     "iopub.status.idle": "2021-08-22T20:07:16.001241Z",
     "shell.execute_reply": "2021-08-22T20:07:16.001638Z"
    },
    "papermill": {
     "duration": 0.047481,
     "end_time": "2021-08-22T20:07:16.001780",
     "exception": false,
     "start_time": "2021-08-22T20:07:15.954299",
     "status": "completed"
    },
    "tags": []
   },
   "outputs": [
    {
     "data": {
      "text/plain": [
       "((11982, 28, 28), (1984, 28, 28))"
      ]
     },
     "execution_count": 13,
     "metadata": {},
     "output_type": "execute_result"
    }
   ],
   "source": [
    "X_train.shape, X_test.shape"
   ]
  },
  {
   "cell_type": "markdown",
   "id": "5ccf3f85",
   "metadata": {
    "papermill": {
     "duration": 0.026848,
     "end_time": "2021-08-22T20:07:16.055656",
     "exception": false,
     "start_time": "2021-08-22T20:07:16.028808",
     "status": "completed"
    },
    "tags": []
   },
   "source": [
    "We reshape the data to flatten the image pixels into a set of features or co-variates:"
   ]
  },
  {
   "cell_type": "code",
   "execution_count": 14,
   "id": "5286a4a3",
   "metadata": {
    "execution": {
     "iopub.execute_input": "2021-08-22T20:07:16.115176Z",
     "iopub.status.busy": "2021-08-22T20:07:16.114338Z",
     "iopub.status.idle": "2021-08-22T20:07:16.131008Z",
     "shell.execute_reply": "2021-08-22T20:07:16.130589Z"
    },
    "papermill": {
     "duration": 0.048427,
     "end_time": "2021-08-22T20:07:16.131126",
     "exception": false,
     "start_time": "2021-08-22T20:07:16.082699",
     "status": "completed"
    },
    "tags": []
   },
   "outputs": [
    {
     "data": {
      "text/plain": [
       "((11982, 784), (1984, 784))"
      ]
     },
     "execution_count": 14,
     "metadata": {},
     "output_type": "execute_result"
    }
   ],
   "source": [
    "X_train = X_train.reshape(X_train.shape[0], -1)\n",
    "X_test = X_test.reshape(X_test.shape[0], -1)\n",
    "X_train.shape, X_test.shape"
   ]
  },
  {
   "cell_type": "code",
   "execution_count": 15,
   "id": "73c5f88a",
   "metadata": {
    "execution": {
     "iopub.execute_input": "2021-08-22T20:07:16.190857Z",
     "iopub.status.busy": "2021-08-22T20:07:16.190274Z",
     "iopub.status.idle": "2021-08-22T20:07:16.209505Z",
     "shell.execute_reply": "2021-08-22T20:07:16.209040Z"
    },
    "papermill": {
     "duration": 0.05114,
     "end_time": "2021-08-22T20:07:16.209633",
     "exception": false,
     "start_time": "2021-08-22T20:07:16.158493",
     "status": "completed"
    },
    "tags": []
   },
   "outputs": [],
   "source": [
    "#Impoting functions from 'Kudzu'\n",
    "from kudzu.model import Model\n",
    "from kudzu.train import Learner\n",
    "from kudzu.optim import GD\n",
    "from kudzu.data import Data, Sampler,Dataloader\n",
    "\n",
    "from kudzu.callbacks import AccCallback\n",
    "from kudzu.callbacks import ClfCallback\n",
    "\n",
    "from kudzu.loss import MSE\n",
    "\n",
    "from kudzu.layer import Sigmoid,Relu\n",
    "from kudzu.layer import Affine"
   ]
  },
  {
   "cell_type": "markdown",
   "id": "bc01172a",
   "metadata": {
    "papermill": {
     "duration": 0.027086,
     "end_time": "2021-08-22T20:07:16.264029",
     "exception": false,
     "start_time": "2021-08-22T20:07:16.236943",
     "status": "completed"
    },
    "tags": []
   },
   "source": [
    "### Let us create a `Config` class, to store important parameters. \n",
    "This class essentially plays the role of a dictionary."
   ]
  },
  {
   "cell_type": "code",
   "execution_count": 16,
   "id": "978281aa",
   "metadata": {
    "execution": {
     "iopub.execute_input": "2021-08-22T20:07:16.332859Z",
     "iopub.status.busy": "2021-08-22T20:07:16.328037Z",
     "iopub.status.idle": "2021-08-22T20:07:16.336992Z",
     "shell.execute_reply": "2021-08-22T20:07:16.336560Z"
    },
    "papermill": {
     "duration": 0.045996,
     "end_time": "2021-08-22T20:07:16.337116",
     "exception": false,
     "start_time": "2021-08-22T20:07:16.291120",
     "status": "completed"
    },
    "tags": []
   },
   "outputs": [],
   "source": [
    "class Config:\n",
    "    pass\n",
    "config = Config()\n",
    "config.lr = 0.001\n",
    "config.num_epochs = 250\n",
    "config.bs = 50"
   ]
  },
  {
   "cell_type": "markdown",
   "id": "1385fa59",
   "metadata": {
    "papermill": {
     "duration": 0.027162,
     "end_time": "2021-08-22T20:07:16.391643",
     "exception": false,
     "start_time": "2021-08-22T20:07:16.364481",
     "status": "completed"
    },
    "tags": []
   },
   "source": [
    "### Running Models with the Training data\n",
    "Details about the network layers:\n",
    "- A first affine layer has 784 inputs and does 100 affine transforms. These are followed by a Relu\n",
    "- A second affine layer has 100 inputs from the 100 activations of the past layer, and does 100 affine transforms. These are followed by a Relu\n",
    "- A third affine layer has 100 activations and does 2 affine transformations to create an embedding for visualization. There is no non-linearity here.\n",
    "- A final \"logistic regression\" which has an affine transform from 2 inputs to 1 output, which is squeezed through a sigmoid.\n"
   ]
  },
  {
   "cell_type": "code",
   "execution_count": 17,
   "id": "2b9c66db",
   "metadata": {
    "execution": {
     "iopub.execute_input": "2021-08-22T20:07:16.452799Z",
     "iopub.status.busy": "2021-08-22T20:07:16.452239Z",
     "iopub.status.idle": "2021-08-22T20:07:16.464105Z",
     "shell.execute_reply": "2021-08-22T20:07:16.464531Z"
    },
    "papermill": {
     "duration": 0.045953,
     "end_time": "2021-08-22T20:07:16.464668",
     "exception": false,
     "start_time": "2021-08-22T20:07:16.418715",
     "status": "completed"
    },
    "tags": []
   },
   "outputs": [],
   "source": [
    "data = Data(X_train, y_train.reshape(-1,1))\n",
    "sampler = Sampler(data, config.bs, shuffle=True)\n",
    "\n",
    "dl = Dataloader(data, sampler)\n",
    "\n",
    "opt = GD(config.lr)\n",
    "loss = MSE()"
   ]
  },
  {
   "cell_type": "code",
   "execution_count": 18,
   "id": "b275e4c2",
   "metadata": {
    "execution": {
     "iopub.execute_input": "2021-08-22T20:07:16.525311Z",
     "iopub.status.busy": "2021-08-22T20:07:16.524763Z",
     "iopub.status.idle": "2021-08-22T20:07:16.535325Z",
     "shell.execute_reply": "2021-08-22T20:07:16.535759Z"
    },
    "papermill": {
     "duration": 0.04386,
     "end_time": "2021-08-22T20:07:16.535908",
     "exception": false,
     "start_time": "2021-08-22T20:07:16.492048",
     "status": "completed"
    },
    "tags": []
   },
   "outputs": [],
   "source": [
    "training_data_x = X_train\n",
    "testing_data_x = X_test\n",
    "training_data_y = y_train.reshape(-1,1)\n",
    "testing_data_y = y_test.reshape(-1,1)"
   ]
  },
  {
   "cell_type": "code",
   "execution_count": 19,
   "id": "76951160",
   "metadata": {
    "execution": {
     "iopub.execute_input": "2021-08-22T20:07:16.596652Z",
     "iopub.status.busy": "2021-08-22T20:07:16.596112Z",
     "iopub.status.idle": "2021-08-22T20:07:16.611351Z",
     "shell.execute_reply": "2021-08-22T20:07:16.610888Z"
    },
    "papermill": {
     "duration": 0.048465,
     "end_time": "2021-08-22T20:07:16.611500",
     "exception": false,
     "start_time": "2021-08-22T20:07:16.563035",
     "status": "completed"
    },
    "tags": []
   },
   "outputs": [
    {
     "name": "stdout",
     "output_type": "stream",
     "text": [
      "xavier\n",
      "xavier\n",
      "xavier\n",
      "xavier\n",
      "xavier\n"
     ]
    }
   ],
   "source": [
    "layers = [Affine(\"first\", 784, 100), Relu(\"first\"), Affine(\"second\", 100, 100), Relu(\"second\"), Affine(\"third\", 100, 2), Affine(\"last\", 2, 1), Sigmoid(\"last\")]\n",
    "model_nn = Model(layers)\n",
    "model_lr = Model([Affine(\"logits\", 784, 1), Sigmoid(\"sigmoid\")])"
   ]
  },
  {
   "cell_type": "code",
   "execution_count": 20,
   "id": "6eede77a",
   "metadata": {
    "execution": {
     "iopub.execute_input": "2021-08-22T20:07:16.670971Z",
     "iopub.status.busy": "2021-08-22T20:07:16.670437Z",
     "iopub.status.idle": "2021-08-22T20:07:16.682327Z",
     "shell.execute_reply": "2021-08-22T20:07:16.682757Z"
    },
    "papermill": {
     "duration": 0.043746,
     "end_time": "2021-08-22T20:07:16.682904",
     "exception": false,
     "start_time": "2021-08-22T20:07:16.639158",
     "status": "completed"
    },
    "tags": []
   },
   "outputs": [],
   "source": [
    "nn_learner = Learner(loss, model_nn, opt, config.num_epochs)\n",
    "acc_nn = ClfCallback(nn_learner, config.bs, training_data_x , testing_data_x, training_data_y, testing_data_y)\n",
    "nn_learner.set_callbacks([acc_nn])"
   ]
  },
  {
   "cell_type": "code",
   "execution_count": 21,
   "id": "877b6cc7",
   "metadata": {
    "execution": {
     "iopub.execute_input": "2021-08-22T20:07:16.742005Z",
     "iopub.status.busy": "2021-08-22T20:07:16.741481Z",
     "iopub.status.idle": "2021-08-22T20:07:16.753622Z",
     "shell.execute_reply": "2021-08-22T20:07:16.754036Z"
    },
    "papermill": {
     "duration": 0.043599,
     "end_time": "2021-08-22T20:07:16.754185",
     "exception": false,
     "start_time": "2021-08-22T20:07:16.710586",
     "status": "completed"
    },
    "tags": []
   },
   "outputs": [],
   "source": [
    "lr_learner = Learner(loss, model_lr, opt, config.num_epochs)\n",
    "acc_lr = ClfCallback(lr_learner, config.bs, training_data_x , testing_data_x, training_data_y, testing_data_y)\n",
    "lr_learner.set_callbacks([acc_lr])"
   ]
  },
  {
   "cell_type": "code",
   "execution_count": 22,
   "id": "d9b133c3",
   "metadata": {
    "execution": {
     "iopub.execute_input": "2021-08-22T20:07:16.812926Z",
     "iopub.status.busy": "2021-08-22T20:07:16.812404Z",
     "iopub.status.idle": "2021-08-22T20:08:45.026629Z",
     "shell.execute_reply": "2021-08-22T20:08:45.027396Z"
    },
    "papermill": {
     "duration": 88.245818,
     "end_time": "2021-08-22T20:08:45.027557",
     "exception": false,
     "start_time": "2021-08-22T20:07:16.781739",
     "status": "completed"
    },
    "tags": []
   },
   "outputs": [
    {
     "name": "stdout",
     "output_type": "stream",
     "text": [
      "Epoch 0, Loss 0.2468\n",
      "Training Accuracy: 0.6368, Testing Accuracy: 0.6482\n",
      "\n"
     ]
    },
    {
     "name": "stdout",
     "output_type": "stream",
     "text": [
      "Epoch 10, Loss 0.0741\n",
      "Training Accuracy: 0.9306, Testing Accuracy: 0.9425\n",
      "\n"
     ]
    },
    {
     "name": "stdout",
     "output_type": "stream",
     "text": [
      "Epoch 20, Loss 0.0473\n",
      "Training Accuracy: 0.9523, Testing Accuracy: 0.9627\n",
      "\n"
     ]
    },
    {
     "name": "stdout",
     "output_type": "stream",
     "text": [
      "Epoch 30, Loss 0.0381\n",
      "Training Accuracy: 0.9580, Testing Accuracy: 0.9677\n",
      "\n"
     ]
    },
    {
     "name": "stdout",
     "output_type": "stream",
     "text": [
      "Epoch 40, Loss 0.0335\n",
      "Training Accuracy: 0.9624, Testing Accuracy: 0.9718\n",
      "\n"
     ]
    },
    {
     "name": "stdout",
     "output_type": "stream",
     "text": [
      "Epoch 50, Loss 0.0307\n",
      "Training Accuracy: 0.9653, Testing Accuracy: 0.9713\n",
      "\n"
     ]
    },
    {
     "name": "stdout",
     "output_type": "stream",
     "text": [
      "Epoch 60, Loss 0.0287\n",
      "Training Accuracy: 0.9675, Testing Accuracy: 0.9718\n",
      "\n"
     ]
    },
    {
     "name": "stdout",
     "output_type": "stream",
     "text": [
      "Epoch 70, Loss 0.0272\n",
      "Training Accuracy: 0.9687, Testing Accuracy: 0.9718\n",
      "\n"
     ]
    },
    {
     "name": "stdout",
     "output_type": "stream",
     "text": [
      "Epoch 80, Loss 0.026\n",
      "Training Accuracy: 0.9699, Testing Accuracy: 0.9723\n",
      "\n"
     ]
    },
    {
     "name": "stdout",
     "output_type": "stream",
     "text": [
      "Epoch 90, Loss 0.025\n",
      "Training Accuracy: 0.9705, Testing Accuracy: 0.9738\n",
      "\n"
     ]
    },
    {
     "name": "stdout",
     "output_type": "stream",
     "text": [
      "Epoch 100, Loss 0.0241\n",
      "Training Accuracy: 0.9712, Testing Accuracy: 0.9733\n",
      "\n"
     ]
    },
    {
     "name": "stdout",
     "output_type": "stream",
     "text": [
      "Epoch 110, Loss 0.0234\n",
      "Training Accuracy: 0.9723, Testing Accuracy: 0.9738\n",
      "\n"
     ]
    },
    {
     "name": "stdout",
     "output_type": "stream",
     "text": [
      "Epoch 120, Loss 0.0227\n",
      "Training Accuracy: 0.9733, Testing Accuracy: 0.9738\n",
      "\n"
     ]
    },
    {
     "name": "stdout",
     "output_type": "stream",
     "text": [
      "Epoch 130, Loss 0.0221\n",
      "Training Accuracy: 0.9742, Testing Accuracy: 0.9733\n",
      "\n"
     ]
    },
    {
     "name": "stdout",
     "output_type": "stream",
     "text": [
      "Epoch 140, Loss 0.0216\n",
      "Training Accuracy: 0.9756, Testing Accuracy: 0.9743\n",
      "\n"
     ]
    },
    {
     "name": "stdout",
     "output_type": "stream",
     "text": [
      "Epoch 150, Loss 0.0211\n",
      "Training Accuracy: 0.9761, Testing Accuracy: 0.9748\n",
      "\n"
     ]
    },
    {
     "name": "stdout",
     "output_type": "stream",
     "text": [
      "Epoch 160, Loss 0.0206\n",
      "Training Accuracy: 0.9768, Testing Accuracy: 0.9748\n",
      "\n"
     ]
    },
    {
     "name": "stdout",
     "output_type": "stream",
     "text": [
      "Epoch 170, Loss 0.0201\n",
      "Training Accuracy: 0.9777, Testing Accuracy: 0.9748\n",
      "\n"
     ]
    },
    {
     "name": "stdout",
     "output_type": "stream",
     "text": [
      "Epoch 180, Loss 0.0197\n",
      "Training Accuracy: 0.9782, Testing Accuracy: 0.9743\n",
      "\n"
     ]
    },
    {
     "name": "stdout",
     "output_type": "stream",
     "text": [
      "Epoch 190, Loss 0.0193\n",
      "Training Accuracy: 0.9791, Testing Accuracy: 0.9753\n",
      "\n"
     ]
    },
    {
     "name": "stdout",
     "output_type": "stream",
     "text": [
      "Epoch 200, Loss 0.0188\n",
      "Training Accuracy: 0.9796, Testing Accuracy: 0.9753\n",
      "\n"
     ]
    },
    {
     "name": "stdout",
     "output_type": "stream",
     "text": [
      "Epoch 210, Loss 0.0185\n",
      "Training Accuracy: 0.9798, Testing Accuracy: 0.9758\n",
      "\n"
     ]
    },
    {
     "name": "stdout",
     "output_type": "stream",
     "text": [
      "Epoch 220, Loss 0.0181\n",
      "Training Accuracy: 0.9798, Testing Accuracy: 0.9753\n",
      "\n"
     ]
    },
    {
     "name": "stdout",
     "output_type": "stream",
     "text": [
      "Epoch 230, Loss 0.0177\n",
      "Training Accuracy: 0.9802, Testing Accuracy: 0.9763\n",
      "\n"
     ]
    },
    {
     "name": "stdout",
     "output_type": "stream",
     "text": [
      "Epoch 240, Loss 0.0174\n",
      "Training Accuracy: 0.9807, Testing Accuracy: 0.9763\n",
      "\n"
     ]
    },
    {
     "data": {
      "text/plain": [
       "0.02533861285578723"
      ]
     },
     "execution_count": 22,
     "metadata": {},
     "output_type": "execute_result"
    }
   ],
   "source": [
    "nn_learner.train_loop(dl)"
   ]
  },
  {
   "cell_type": "code",
   "execution_count": 23,
   "id": "e0163366",
   "metadata": {
    "execution": {
     "iopub.execute_input": "2021-08-22T20:08:45.105451Z",
     "iopub.status.busy": "2021-08-22T20:08:45.104884Z",
     "iopub.status.idle": "2021-08-22T20:09:00.948402Z",
     "shell.execute_reply": "2021-08-22T20:09:00.949168Z"
    },
    "papermill": {
     "duration": 15.886942,
     "end_time": "2021-08-22T20:09:00.949324",
     "exception": false,
     "start_time": "2021-08-22T20:08:45.062382",
     "status": "completed"
    },
    "tags": []
   },
   "outputs": [
    {
     "name": "stdout",
     "output_type": "stream",
     "text": [
      "Epoch 0, Loss 0.2512\n",
      "Training Accuracy: 0.6446, Testing Accuracy: 0.6179\n",
      "\n"
     ]
    },
    {
     "name": "stdout",
     "output_type": "stream",
     "text": [
      "Epoch 10, Loss 0.1077\n",
      "Training Accuracy: 0.8954, Testing Accuracy: 0.9042\n",
      "\n"
     ]
    },
    {
     "name": "stdout",
     "output_type": "stream",
     "text": [
      "Epoch 20, Loss 0.0817\n",
      "Training Accuracy: 0.9231, Testing Accuracy: 0.9360\n",
      "\n"
     ]
    },
    {
     "name": "stdout",
     "output_type": "stream",
     "text": [
      "Epoch 30, Loss 0.0698\n",
      "Training Accuracy: 0.9336, Testing Accuracy: 0.9461\n",
      "\n"
     ]
    },
    {
     "name": "stdout",
     "output_type": "stream",
     "text": [
      "Epoch 40, Loss 0.0628\n",
      "Training Accuracy: 0.9382, Testing Accuracy: 0.9526\n",
      "\n"
     ]
    },
    {
     "name": "stdout",
     "output_type": "stream",
     "text": [
      "Epoch 50, Loss 0.058\n",
      "Training Accuracy: 0.9419, Testing Accuracy: 0.9561\n",
      "\n"
     ]
    },
    {
     "name": "stdout",
     "output_type": "stream",
     "text": [
      "Epoch 60, Loss 0.0545\n",
      "Training Accuracy: 0.9451, Testing Accuracy: 0.9572\n",
      "\n"
     ]
    },
    {
     "name": "stdout",
     "output_type": "stream",
     "text": [
      "Epoch 70, Loss 0.0518\n",
      "Training Accuracy: 0.9483, Testing Accuracy: 0.9592\n",
      "\n"
     ]
    },
    {
     "name": "stdout",
     "output_type": "stream",
     "text": [
      "Epoch 80, Loss 0.0496\n",
      "Training Accuracy: 0.9498, Testing Accuracy: 0.9617\n",
      "\n"
     ]
    },
    {
     "name": "stdout",
     "output_type": "stream",
     "text": [
      "Epoch 90, Loss 0.0479\n",
      "Training Accuracy: 0.9513, Testing Accuracy: 0.9617\n",
      "\n"
     ]
    },
    {
     "name": "stdout",
     "output_type": "stream",
     "text": [
      "Epoch 100, Loss 0.0464\n",
      "Training Accuracy: 0.9528, Testing Accuracy: 0.9642\n",
      "\n"
     ]
    },
    {
     "name": "stdout",
     "output_type": "stream",
     "text": [
      "Epoch 110, Loss 0.0451\n",
      "Training Accuracy: 0.9537, Testing Accuracy: 0.9647\n",
      "\n"
     ]
    },
    {
     "name": "stdout",
     "output_type": "stream",
     "text": [
      "Epoch 120, Loss 0.044\n",
      "Training Accuracy: 0.9547, Testing Accuracy: 0.9652\n",
      "\n"
     ]
    },
    {
     "name": "stdout",
     "output_type": "stream",
     "text": [
      "Epoch 130, Loss 0.0431\n",
      "Training Accuracy: 0.9553, Testing Accuracy: 0.9657\n",
      "\n"
     ]
    },
    {
     "name": "stdout",
     "output_type": "stream",
     "text": [
      "Epoch 140, Loss 0.0422\n",
      "Training Accuracy: 0.9563, Testing Accuracy: 0.9657\n",
      "\n"
     ]
    },
    {
     "name": "stdout",
     "output_type": "stream",
     "text": [
      "Epoch 150, Loss 0.0415\n",
      "Training Accuracy: 0.9573, Testing Accuracy: 0.9657\n",
      "\n"
     ]
    },
    {
     "name": "stdout",
     "output_type": "stream",
     "text": [
      "Epoch 160, Loss 0.0408\n",
      "Training Accuracy: 0.9570, Testing Accuracy: 0.9652\n",
      "\n"
     ]
    },
    {
     "name": "stdout",
     "output_type": "stream",
     "text": [
      "Epoch 170, Loss 0.0402\n",
      "Training Accuracy: 0.9575, Testing Accuracy: 0.9657\n",
      "\n"
     ]
    },
    {
     "name": "stdout",
     "output_type": "stream",
     "text": [
      "Epoch 180, Loss 0.0396\n",
      "Training Accuracy: 0.9579, Testing Accuracy: 0.9672\n",
      "\n"
     ]
    },
    {
     "name": "stdout",
     "output_type": "stream",
     "text": [
      "Epoch 190, Loss 0.0391\n",
      "Training Accuracy: 0.9579, Testing Accuracy: 0.9672\n",
      "\n"
     ]
    },
    {
     "name": "stdout",
     "output_type": "stream",
     "text": [
      "Epoch 200, Loss 0.0386\n",
      "Training Accuracy: 0.9584, Testing Accuracy: 0.9682\n",
      "\n"
     ]
    },
    {
     "name": "stdout",
     "output_type": "stream",
     "text": [
      "Epoch 210, Loss 0.0381\n",
      "Training Accuracy: 0.9587, Testing Accuracy: 0.9682\n",
      "\n"
     ]
    },
    {
     "name": "stdout",
     "output_type": "stream",
     "text": [
      "Epoch 220, Loss 0.0377\n",
      "Training Accuracy: 0.9593, Testing Accuracy: 0.9677\n",
      "\n"
     ]
    },
    {
     "name": "stdout",
     "output_type": "stream",
     "text": [
      "Epoch 230, Loss 0.0373\n",
      "Training Accuracy: 0.9599, Testing Accuracy: 0.9677\n",
      "\n"
     ]
    },
    {
     "name": "stdout",
     "output_type": "stream",
     "text": [
      "Epoch 240, Loss 0.037\n",
      "Training Accuracy: 0.9601, Testing Accuracy: 0.9677\n",
      "\n"
     ]
    },
    {
     "data": {
      "text/plain": [
       "0.013422448837551258"
      ]
     },
     "execution_count": 23,
     "metadata": {},
     "output_type": "execute_result"
    }
   ],
   "source": [
    "lr_learner.train_loop(dl)"
   ]
  },
  {
   "cell_type": "code",
   "execution_count": 24,
   "id": "ca410940",
   "metadata": {
    "execution": {
     "iopub.execute_input": "2021-08-22T20:09:01.044898Z",
     "iopub.status.busy": "2021-08-22T20:09:01.044344Z",
     "iopub.status.idle": "2021-08-22T20:09:01.286545Z",
     "shell.execute_reply": "2021-08-22T20:09:01.287194Z"
    },
    "papermill": {
     "duration": 0.296594,
     "end_time": "2021-08-22T20:09:01.287367",
     "exception": false,
     "start_time": "2021-08-22T20:09:00.990773",
     "status": "completed"
    },
    "tags": []
   },
   "outputs": [
    {
     "data": {
      "text/plain": [
       "<matplotlib.legend.Legend at 0x7fc7d1016978>"
      ]
     },
     "execution_count": 24,
     "metadata": {},
     "output_type": "execute_result"
    },
    {
     "data": {
      "image/png": "[encoded data removed]",
      "text/plain": [
       "<Figure size 1080x720 with 1 Axes>"
      ]
     },
     "metadata": {
      "needs_background": "light"
     },
     "output_type": "display_data"
    }
   ],
   "source": [
    "#comparing the results of NN and LR\n",
    "plt.figure(figsize=(15,10))\n",
    "\n",
    "# Neural Network plots\n",
    "plt.plot(acc_nn.accuracies, 'r-', label = \"Training Accuracies - NN\")\n",
    "plt.plot(acc_nn.test_accuracies, 'g-', label = \"Testing Accuracies - NN\")\n",
    "\n",
    "# Logistic Regression plots\n",
    "plt.plot(acc_lr.accuracies, 'k-', label = \"Training Accuracies - LR\")\n",
    "plt.plot(acc_lr.test_accuracies, 'b-', label = \"Testing Accuracies - LR\")\n",
    "plt.legend()"
   ]
  },
  {
   "cell_type": "markdown",
   "id": "80dfb35c",
   "metadata": {
    "papermill": {
     "duration": 0.043745,
     "end_time": "2021-08-22T20:09:01.374848",
     "exception": false,
     "start_time": "2021-08-22T20:09:01.331103",
     "status": "completed"
    },
    "tags": []
   },
   "source": [
    "#### Plotting the outputs of this layer of the NN.\n"
   ]
  },
  {
   "cell_type": "code",
   "execution_count": 25,
   "id": "45eb2ff5",
   "metadata": {
    "execution": {
     "iopub.execute_input": "2021-08-22T20:09:01.464327Z",
     "iopub.status.busy": "2021-08-22T20:09:01.463768Z",
     "iopub.status.idle": "2021-08-22T20:09:01.500274Z",
     "shell.execute_reply": "2021-08-22T20:09:01.501337Z"
    },
    "papermill": {
     "duration": 0.083281,
     "end_time": "2021-08-22T20:09:01.501498",
     "exception": false,
     "start_time": "2021-08-22T20:09:01.418217",
     "status": "completed"
    },
    "tags": []
   },
   "outputs": [],
   "source": [
    "new_model = Model(layers[:-2])\n",
    "testing_plot = new_model(testing_data_x)"
   ]
  },
  {
   "cell_type": "code",
   "execution_count": 26,
   "id": "4c0a5485",
   "metadata": {
    "execution": {
     "iopub.execute_input": "2021-08-22T20:09:01.640726Z",
     "iopub.status.busy": "2021-08-22T20:09:01.640152Z",
     "iopub.status.idle": "2021-08-22T20:09:01.858387Z",
     "shell.execute_reply": "2021-08-22T20:09:01.857930Z"
    },
    "papermill": {
     "duration": 0.278886,
     "end_time": "2021-08-22T20:09:01.858513",
     "exception": false,
     "start_time": "2021-08-22T20:09:01.579627",
     "status": "completed"
    },
    "tags": []
   },
   "outputs": [
    {
     "data": {
      "text/plain": [
       "Text(0.5, 1.0, 'Outputs')"
      ]
     },
     "execution_count": 26,
     "metadata": {},
     "output_type": "execute_result"
    },
    {
     "data": {
      "image/png": "[encoded data removed]",
      "text/plain": [
       "<Figure size 576x504 with 1 Axes>"
      ]
     },
     "metadata": {
      "needs_background": "light"
     },
     "output_type": "display_data"
    }
   ],
   "source": [
    "# Plotting the scatter plot of points and color coding by class\n",
    "plt.figure(figsize=(8,7))\n",
    "plt.scatter(testing_plot[:,0], testing_plot[:,1], alpha = 0.1, c = y_test.ravel());\n",
    "plt.title('Outputs')"
   ]
  },
  {
   "cell_type": "markdown",
   "id": "a74fcf8f",
   "metadata": {
    "papermill": {
     "duration": 0.045213,
     "end_time": "2021-08-22T20:09:01.949141",
     "exception": false,
     "start_time": "2021-08-22T20:09:01.903928",
     "status": "completed"
    },
    "tags": []
   },
   "source": [
    "Probability contours"
   ]
  },
  {
   "cell_type": "code",
   "execution_count": 27,
   "id": "d0afc8e3",
   "metadata": {
    "execution": {
     "iopub.execute_input": "2021-08-22T20:09:02.044747Z",
     "iopub.status.busy": "2021-08-22T20:09:02.044101Z",
     "iopub.status.idle": "2021-08-22T20:09:02.055061Z",
     "shell.execute_reply": "2021-08-22T20:09:02.054589Z"
    },
    "papermill": {
     "duration": 0.060943,
     "end_time": "2021-08-22T20:09:02.055187",
     "exception": false,
     "start_time": "2021-08-22T20:09:01.994244",
     "status": "completed"
    },
    "tags": []
   },
   "outputs": [],
   "source": [
    "model_prob = Model(layers[-2:]) "
   ]
  },
  {
   "cell_type": "code",
   "execution_count": 28,
   "id": "9b96e238",
   "metadata": {
    "execution": {
     "iopub.execute_input": "2021-08-22T20:09:02.155577Z",
     "iopub.status.busy": "2021-08-22T20:09:02.154958Z",
     "iopub.status.idle": "2021-08-22T20:09:02.167764Z",
     "shell.execute_reply": "2021-08-22T20:09:02.168171Z"
    },
    "papermill": {
     "duration": 0.067821,
     "end_time": "2021-08-22T20:09:02.168320",
     "exception": false,
     "start_time": "2021-08-22T20:09:02.100499",
     "status": "completed"
    },
    "tags": []
   },
   "outputs": [],
   "source": [
    "#creating the x and y ranges according to the above generated plot.\n",
    "x_range = np.linspace(-4, 1, 100) \n",
    "y_range = np.linspace(-6, 6, 100) \n",
    "x_grid, y_grid = np.meshgrid(x_range, y_range) # x_grid and y_grig are of size 100 X 100\n",
    "\n",
    "# converting x_grid and y_grid to continuous arrays\n",
    "x_gridflat = np.ravel(x_grid)\n",
    "y_gridflat = np.ravel(y_grid)\n",
    "\n",
    "# The last layer of the current model takes two columns as input. Hence transpose of np.vstack() is required.\n",
    "X = np.vstack((x_gridflat, y_gridflat)).T\n",
    "\n",
    "prob_contour = model_prob(X).reshape(100,100) "
   ]
  },
  {
   "cell_type": "code",
   "execution_count": 29,
   "id": "da72499a",
   "metadata": {
    "execution": {
     "iopub.execute_input": "2021-08-22T20:09:02.308328Z",
     "iopub.status.busy": "2021-08-22T20:09:02.307786Z",
     "iopub.status.idle": "2021-08-22T20:09:02.562857Z",
     "shell.execute_reply": "2021-08-22T20:09:02.561987Z"
    },
    "papermill": {
     "duration": 0.305232,
     "end_time": "2021-08-22T20:09:02.563001",
     "exception": false,
     "start_time": "2021-08-22T20:09:02.257769",
     "status": "completed"
    },
    "tags": []
   },
   "outputs": [
    {
     "data": {
      "image/png": "[encoded data removed]",
      "text/plain": [
       "<Figure size 720x648 with 1 Axes>"
      ]
     },
     "metadata": {
      "needs_background": "light"
     },
     "output_type": "display_data"
    }
   ],
   "source": [
    "plt.figure(figsize=(10,9))\n",
    "plt.scatter(testing_plot[:,0], testing_plot[:,1], alpha = 0.1, c = y_test.ravel())\n",
    "contours = plt.contour(x_grid,y_grid,prob_contour)\n",
    "plt.title('Probability Contours')\n",
    "plt.clabel(contours, inline = True );"
   ]
  },
  {
   "cell_type": "code",
   "execution_count": null,
   "id": "e81b4ac7",
   "metadata": {
    "papermill": {
     "duration": 0.047955,
     "end_time": "2021-08-22T20:09:02.659548",
     "exception": false,
     "start_time": "2021-08-22T20:09:02.611593",
     "status": "completed"
    },
    "tags": []
   },
   "outputs": [],
   "source": []
  }
 ],
 "metadata": {
  "kernelspec": {
   "display_name": "Python 3",
   "language": "python",
   "name": "python3"
  },
  "language_info": {
   "codemirror_mode": {
    "name": "ipython",
    "version": 3
   },
   "file_extension": ".py",
   "mimetype": "text/x-python",
   "name": "python",
   "nbconvert_exporter": "python",
   "pygments_lexer": "ipython3",
   "version": "3.6.14"
  },
  "papermill": {
   "default_parameters": {},
   "duration": 160.042346,
   "end_time": "2021-08-22T20:09:03.215881",
   "environment_variables": {},
   "exception": null,
   "input_path": "2020-08-11-part2.ipynb",
   "output_path": "2020-08-11-part2.ipynb",
   "parameters": {},
   "start_time": "2021-08-22T20:06:23.173535",
   "version": "2.3.3"
  }
 },
 "nbformat": 4,
 "nbformat_minor": 5
}