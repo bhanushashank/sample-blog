{
 "cells": [
  {
   "cell_type": "markdown",
   "id": "98380cd3",
   "metadata": {
    "papermill": {
     "duration": 0.028941,
     "end_time": "2022-02-05T00:20:12.511043",
     "exception": false,
     "start_time": "2022-02-05T00:20:12.482102",
     "status": "completed"
    },
    "tags": []
   },
   "source": [
    "# Distinguish Your Own Digits (DYOD)"
   ]
  },
  {
   "cell_type": "markdown",
   "id": "ef31240d",
   "metadata": {
    "papermill": {
     "duration": 0.024873,
     "end_time": "2022-02-05T00:20:12.561474",
     "exception": false,
     "start_time": "2022-02-05T00:20:12.536601",
     "status": "completed"
    },
    "tags": []
   },
   "source": [
    "You are going to write a classifier that distinguishes between the number 3 and number 8."
   ]
  },
  {
   "cell_type": "code",
   "execution_count": 1,
   "id": "b15c8646",
   "metadata": {
    "execution": {
     "iopub.execute_input": "2022-02-05T00:20:12.621992Z",
     "iopub.status.busy": "2022-02-05T00:20:12.621460Z",
     "iopub.status.idle": "2022-02-05T00:20:12.631125Z",
     "shell.execute_reply": "2022-02-05T00:20:12.630711Z"
    },
    "papermill": {
     "duration": 0.045078,
     "end_time": "2022-02-05T00:20:12.631243",
     "exception": false,
     "start_time": "2022-02-05T00:20:12.586165",
     "status": "completed"
    },
    "tags": []
   },
   "outputs": [],
   "source": [
    "%load_ext autoreload\n",
    "%autoreload 2"
   ]
  },
  {
   "cell_type": "code",
   "execution_count": 2,
   "id": "22ef38dc",
   "metadata": {
    "execution": {
     "iopub.execute_input": "2022-02-05T00:20:12.684994Z",
     "iopub.status.busy": "2022-02-05T00:20:12.684492Z",
     "iopub.status.idle": "2022-02-05T00:20:13.240557Z",
     "shell.execute_reply": "2022-02-05T00:20:13.240111Z"
    },
    "papermill": {
     "duration": 0.58445,
     "end_time": "2022-02-05T00:20:13.240671",
     "exception": false,
     "start_time": "2022-02-05T00:20:12.656221",
     "status": "completed"
    },
    "tags": []
   },
   "outputs": [],
   "source": [
    "%matplotlib inline\n",
    "import numpy as np\n",
    "import matplotlib.pyplot as plt\n",
    "import pandas as pd"
   ]
  },
  {
   "cell_type": "markdown",
   "id": "ba036198",
   "metadata": {
    "papermill": {
     "duration": 0.024749,
     "end_time": "2022-02-05T00:20:13.290397",
     "exception": false,
     "start_time": "2022-02-05T00:20:13.265648",
     "status": "completed"
    },
    "tags": []
   },
   "source": [
    "From the command line run `pip install mnist`. This is a library that will help you bring down the mnist dataset. If you run this from a notebook, you need to put  `!pip install mnist` in a cell by itself."
   ]
  },
  {
   "cell_type": "code",
   "execution_count": 3,
   "id": "bb6ad8a1",
   "metadata": {
    "execution": {
     "iopub.execute_input": "2022-02-05T00:20:13.344056Z",
     "iopub.status.busy": "2022-02-05T00:20:13.343563Z",
     "iopub.status.idle": "2022-02-05T00:20:15.847979Z",
     "shell.execute_reply": "2022-02-05T00:20:15.847142Z"
    },
    "papermill": {
     "duration": 2.532816,
     "end_time": "2022-02-05T00:20:15.848103",
     "exception": false,
     "start_time": "2022-02-05T00:20:13.315287",
     "status": "completed"
    },
    "tags": []
   },
   "outputs": [
    {
     "name": "stdout",
     "output_type": "stream",
     "text": [
      "Collecting mnist\r\n"
     ]
    },
    {
     "name": "stdout",
     "output_type": "stream",
     "text": [
      "  Downloading mnist-0.2.2-py2.py3-none-any.whl (3.5 kB)\r\n",
      "Requirement already satisfied: numpy in /opt/hostedtoolcache/Python/3.6.15/x64/lib/python3.6/site-packages (from mnist) (1.19.5)\r\n"
     ]
    },
    {
     "name": "stdout",
     "output_type": "stream",
     "text": [
      "Installing collected packages: mnist\r\n"
     ]
    },
    {
     "name": "stdout",
     "output_type": "stream",
     "text": [
      "Successfully installed mnist-0.2.2\r\n"
     ]
    }
   ],
   "source": [
    "!pip install mnist"
   ]
  },
  {
   "cell_type": "markdown",
   "id": "69df9c9a",
   "metadata": {
    "papermill": {
     "duration": 0.025875,
     "end_time": "2022-02-05T00:20:15.900180",
     "exception": false,
     "start_time": "2022-02-05T00:20:15.874305",
     "status": "completed"
    },
    "tags": []
   },
   "source": [
    "## Preparing the Data"
   ]
  },
  {
   "cell_type": "code",
   "execution_count": 4,
   "id": "7f69d806",
   "metadata": {
    "execution": {
     "iopub.execute_input": "2022-02-05T00:20:15.955541Z",
     "iopub.status.busy": "2022-02-05T00:20:15.955055Z",
     "iopub.status.idle": "2022-02-05T00:20:15.967939Z",
     "shell.execute_reply": "2022-02-05T00:20:15.967551Z"
    },
    "papermill": {
     "duration": 0.041917,
     "end_time": "2022-02-05T00:20:15.968041",
     "exception": false,
     "start_time": "2022-02-05T00:20:15.926124",
     "status": "completed"
    },
    "tags": []
   },
   "outputs": [],
   "source": [
    "import mnist"
   ]
  },
  {
   "cell_type": "code",
   "execution_count": 5,
   "id": "a411e44f",
   "metadata": {
    "execution": {
     "iopub.execute_input": "2022-02-05T00:20:16.023424Z",
     "iopub.status.busy": "2022-02-05T00:20:16.022940Z",
     "iopub.status.idle": "2022-02-05T00:20:16.745399Z",
     "shell.execute_reply": "2022-02-05T00:20:16.744970Z"
    },
    "papermill": {
     "duration": 0.751573,
     "end_time": "2022-02-05T00:20:16.745529",
     "exception": false,
     "start_time": "2022-02-05T00:20:15.993956",
     "status": "completed"
    },
    "tags": []
   },
   "outputs": [],
   "source": [
    "train_images = mnist.train_images()\n",
    "train_labels = mnist.train_labels()"
   ]
  },
  {
   "cell_type": "code",
   "execution_count": 6,
   "id": "dceab3a5",
   "metadata": {
    "execution": {
     "iopub.execute_input": "2022-02-05T00:20:16.801103Z",
     "iopub.status.busy": "2022-02-05T00:20:16.800618Z",
     "iopub.status.idle": "2022-02-05T00:20:16.813442Z",
     "shell.execute_reply": "2022-02-05T00:20:16.813862Z"
    },
    "papermill": {
     "duration": 0.042438,
     "end_time": "2022-02-05T00:20:16.813984",
     "exception": false,
     "start_time": "2022-02-05T00:20:16.771546",
     "status": "completed"
    },
    "tags": []
   },
   "outputs": [
    {
     "data": {
      "text/plain": [
       "((60000, 28, 28), (60000,))"
      ]
     },
     "execution_count": 6,
     "metadata": {},
     "output_type": "execute_result"
    }
   ],
   "source": [
    "train_images.shape, train_labels.shape"
   ]
  },
  {
   "cell_type": "code",
   "execution_count": 7,
   "id": "f50dc2bb",
   "metadata": {
    "execution": {
     "iopub.execute_input": "2022-02-05T00:20:16.870071Z",
     "iopub.status.busy": "2022-02-05T00:20:16.869572Z",
     "iopub.status.idle": "2022-02-05T00:20:17.122406Z",
     "shell.execute_reply": "2022-02-05T00:20:17.121966Z"
    },
    "papermill": {
     "duration": 0.282447,
     "end_time": "2022-02-05T00:20:17.122519",
     "exception": false,
     "start_time": "2022-02-05T00:20:16.840072",
     "status": "completed"
    },
    "tags": []
   },
   "outputs": [],
   "source": [
    "test_images = mnist.test_images()\n",
    "test_labels = mnist.test_labels()"
   ]
  },
  {
   "cell_type": "code",
   "execution_count": 8,
   "id": "fc38cf1b",
   "metadata": {
    "execution": {
     "iopub.execute_input": "2022-02-05T00:20:17.178349Z",
     "iopub.status.busy": "2022-02-05T00:20:17.177854Z",
     "iopub.status.idle": "2022-02-05T00:20:17.189741Z",
     "shell.execute_reply": "2022-02-05T00:20:17.189329Z"
    },
    "papermill": {
     "duration": 0.041174,
     "end_time": "2022-02-05T00:20:17.189847",
     "exception": false,
     "start_time": "2022-02-05T00:20:17.148673",
     "status": "completed"
    },
    "tags": []
   },
   "outputs": [
    {
     "data": {
      "text/plain": [
       "((10000, 28, 28), (10000,))"
      ]
     },
     "execution_count": 8,
     "metadata": {},
     "output_type": "execute_result"
    }
   ],
   "source": [
    "test_images.shape, test_labels.shape"
   ]
  },
  {
   "cell_type": "code",
   "execution_count": 9,
   "id": "f9ed8fe0",
   "metadata": {
    "execution": {
     "iopub.execute_input": "2022-02-05T00:20:17.246422Z",
     "iopub.status.busy": "2022-02-05T00:20:17.245917Z",
     "iopub.status.idle": "2022-02-05T00:20:17.376892Z",
     "shell.execute_reply": "2022-02-05T00:20:17.377292Z"
    },
    "papermill": {
     "duration": 0.161088,
     "end_time": "2022-02-05T00:20:17.377419",
     "exception": false,
     "start_time": "2022-02-05T00:20:17.216331",
     "status": "completed"
    },
    "tags": []
   },
   "outputs": [
    {
     "name": "stdout",
     "output_type": "stream",
     "text": [
      "2\n"
     ]
    },
    {
     "data": {
      "text/plain": [
       "<matplotlib.image.AxesImage at 0x7f1c1bf76c88>"
      ]
     },
     "execution_count": 9,
     "metadata": {},
     "output_type": "execute_result"
    },
    {
     "data": {
      "image/png": "[encoded data removed]",
      "text/plain": [
       "<Figure size 432x288 with 1 Axes>"
      ]
     },
     "metadata": {
      "needs_background": "light"
     },
     "output_type": "display_data"
    }
   ],
   "source": [
    "image_index = 7776 # You may select anything up to 60,000\n",
    "print(train_labels[image_index]) \n",
    "plt.imshow(train_images[image_index], cmap='Greys')"
   ]
  },
  {
   "cell_type": "markdown",
   "id": "a8d2388d",
   "metadata": {
    "papermill": {
     "duration": 0.027941,
     "end_time": "2022-02-05T00:20:17.433077",
     "exception": false,
     "start_time": "2022-02-05T00:20:17.405136",
     "status": "completed"
    },
    "tags": []
   },
   "source": [
    "## Filter data to get 3 and 8 out"
   ]
  },
  {
   "cell_type": "code",
   "execution_count": 10,
   "id": "776f7fc7",
   "metadata": {
    "execution": {
     "iopub.execute_input": "2022-02-05T00:20:17.492587Z",
     "iopub.status.busy": "2022-02-05T00:20:17.492094Z",
     "iopub.status.idle": "2022-02-05T00:20:17.507908Z",
     "shell.execute_reply": "2022-02-05T00:20:17.508318Z"
    },
    "papermill": {
     "duration": 0.047842,
     "end_time": "2022-02-05T00:20:17.508443",
     "exception": false,
     "start_time": "2022-02-05T00:20:17.460601",
     "status": "completed"
    },
    "tags": []
   },
   "outputs": [],
   "source": [
    "train_filter = np.where((train_labels == 3 ) | (train_labels == 8))\n",
    "test_filter = np.where((test_labels == 3) | (test_labels == 8))\n",
    "X_train, y_train = train_images[train_filter], train_labels[train_filter]\n",
    "X_test, y_test = test_images[test_filter], test_labels[test_filter]"
   ]
  },
  {
   "cell_type": "markdown",
   "id": "948f0b7e",
   "metadata": {
    "papermill": {
     "duration": 0.027488,
     "end_time": "2022-02-05T00:20:17.563676",
     "exception": false,
     "start_time": "2022-02-05T00:20:17.536188",
     "status": "completed"
    },
    "tags": []
   },
   "source": [
    "We normalize the pizel values in the 0 to 1 range"
   ]
  },
  {
   "cell_type": "code",
   "execution_count": 11,
   "id": "ee4c2166",
   "metadata": {
    "execution": {
     "iopub.execute_input": "2022-02-05T00:20:17.621867Z",
     "iopub.status.busy": "2022-02-05T00:20:17.621340Z",
     "iopub.status.idle": "2022-02-05T00:20:17.661281Z",
     "shell.execute_reply": "2022-02-05T00:20:17.660865Z"
    },
    "papermill": {
     "duration": 0.070255,
     "end_time": "2022-02-05T00:20:17.661388",
     "exception": false,
     "start_time": "2022-02-05T00:20:17.591133",
     "status": "completed"
    },
    "tags": []
   },
   "outputs": [],
   "source": [
    "X_train = X_train/255.\n",
    "X_test = X_test/255."
   ]
  },
  {
   "cell_type": "markdown",
   "id": "ddcf4fab",
   "metadata": {
    "papermill": {
     "duration": 0.027496,
     "end_time": "2022-02-05T00:20:17.716719",
     "exception": false,
     "start_time": "2022-02-05T00:20:17.689223",
     "status": "completed"
    },
    "tags": []
   },
   "source": [
    "And setup the labels as 1 (when the digit is 3) and 0 (when the digit is 8)"
   ]
  },
  {
   "cell_type": "code",
   "execution_count": 12,
   "id": "7dc908f2",
   "metadata": {
    "execution": {
     "iopub.execute_input": "2022-02-05T00:20:17.775444Z",
     "iopub.status.busy": "2022-02-05T00:20:17.774946Z",
     "iopub.status.idle": "2022-02-05T00:20:17.787219Z",
     "shell.execute_reply": "2022-02-05T00:20:17.786792Z"
    },
    "papermill": {
     "duration": 0.043251,
     "end_time": "2022-02-05T00:20:17.787321",
     "exception": false,
     "start_time": "2022-02-05T00:20:17.744070",
     "status": "completed"
    },
    "tags": []
   },
   "outputs": [],
   "source": [
    "y_train = 1*(y_train==3)\n",
    "y_test = 1*(y_test==3)"
   ]
  },
  {
   "cell_type": "code",
   "execution_count": 13,
   "id": "01e4e969",
   "metadata": {
    "execution": {
     "iopub.execute_input": "2022-02-05T00:20:17.845878Z",
     "iopub.status.busy": "2022-02-05T00:20:17.845340Z",
     "iopub.status.idle": "2022-02-05T00:20:17.857932Z",
     "shell.execute_reply": "2022-02-05T00:20:17.858306Z"
    },
    "papermill": {
     "duration": 0.043588,
     "end_time": "2022-02-05T00:20:17.858429",
     "exception": false,
     "start_time": "2022-02-05T00:20:17.814841",
     "status": "completed"
    },
    "tags": []
   },
   "outputs": [
    {
     "data": {
      "text/plain": [
       "((11982, 28, 28), (1984, 28, 28))"
      ]
     },
     "execution_count": 13,
     "metadata": {},
     "output_type": "execute_result"
    }
   ],
   "source": [
    "X_train.shape, X_test.shape"
   ]
  },
  {
   "cell_type": "markdown",
   "id": "5ccf3f85",
   "metadata": {
    "papermill": {
     "duration": 0.027886,
     "end_time": "2022-02-05T00:20:17.914516",
     "exception": false,
     "start_time": "2022-02-05T00:20:17.886630",
     "status": "completed"
    },
    "tags": []
   },
   "source": [
    "We reshape the data to flatten the image pixels into a set of features or co-variates:"
   ]
  },
  {
   "cell_type": "code",
   "execution_count": 14,
   "id": "5286a4a3",
   "metadata": {
    "execution": {
     "iopub.execute_input": "2022-02-05T00:20:17.974329Z",
     "iopub.status.busy": "2022-02-05T00:20:17.973812Z",
     "iopub.status.idle": "2022-02-05T00:20:17.988324Z",
     "shell.execute_reply": "2022-02-05T00:20:17.987905Z"
    },
    "papermill": {
     "duration": 0.045876,
     "end_time": "2022-02-05T00:20:17.988427",
     "exception": false,
     "start_time": "2022-02-05T00:20:17.942551",
     "status": "completed"
    },
    "tags": []
   },
   "outputs": [
    {
     "data": {
      "text/plain": [
       "((11982, 784), (1984, 784))"
      ]
     },
     "execution_count": 14,
     "metadata": {},
     "output_type": "execute_result"
    }
   ],
   "source": [
    "X_train = X_train.reshape(X_train.shape[0], -1)\n",
    "X_test = X_test.reshape(X_test.shape[0], -1)\n",
    "X_train.shape, X_test.shape"
   ]
  },
  {
   "cell_type": "code",
   "execution_count": 15,
   "id": "73c5f88a",
   "metadata": {
    "execution": {
     "iopub.execute_input": "2022-02-05T00:20:18.049132Z",
     "iopub.status.busy": "2022-02-05T00:20:18.048625Z",
     "iopub.status.idle": "2022-02-05T00:20:18.065304Z",
     "shell.execute_reply": "2022-02-05T00:20:18.065684Z"
    },
    "papermill": {
     "duration": 0.048932,
     "end_time": "2022-02-05T00:20:18.065802",
     "exception": false,
     "start_time": "2022-02-05T00:20:18.016870",
     "status": "completed"
    },
    "tags": []
   },
   "outputs": [],
   "source": [
    "#Impoting functions from 'Kudzu'\n",
    "from kudzu.model import Model\n",
    "from kudzu.train import Learner\n",
    "from kudzu.optim import GD\n",
    "from kudzu.data import Data, Sampler,Dataloader\n",
    "\n",
    "from kudzu.callbacks import AccCallback\n",
    "from kudzu.callbacks import ClfCallback\n",
    "\n",
    "from kudzu.loss import MSE\n",
    "\n",
    "from kudzu.layer import Sigmoid,Relu\n",
    "from kudzu.layer import Affine"
   ]
  },
  {
   "cell_type": "markdown",
   "id": "bc01172a",
   "metadata": {
    "papermill": {
     "duration": 0.028022,
     "end_time": "2022-02-05T00:20:18.121993",
     "exception": false,
     "start_time": "2022-02-05T00:20:18.093971",
     "status": "completed"
    },
    "tags": []
   },
   "source": [
    "### Let us create a `Config` class, to store important parameters. \n",
    "This class essentially plays the role of a dictionary."
   ]
  },
  {
   "cell_type": "code",
   "execution_count": 16,
   "id": "978281aa",
   "metadata": {
    "execution": {
     "iopub.execute_input": "2022-02-05T00:20:18.182008Z",
     "iopub.status.busy": "2022-02-05T00:20:18.181482Z",
     "iopub.status.idle": "2022-02-05T00:20:18.192801Z",
     "shell.execute_reply": "2022-02-05T00:20:18.192403Z"
    },
    "papermill": {
     "duration": 0.042832,
     "end_time": "2022-02-05T00:20:18.192906",
     "exception": false,
     "start_time": "2022-02-05T00:20:18.150074",
     "status": "completed"
    },
    "tags": []
   },
   "outputs": [],
   "source": [
    "class Config:\n",
    "    pass\n",
    "config = Config()\n",
    "config.lr = 0.001\n",
    "config.num_epochs = 250\n",
    "config.bs = 50"
   ]
  },
  {
   "cell_type": "markdown",
   "id": "1385fa59",
   "metadata": {
    "papermill": {
     "duration": 0.028137,
     "end_time": "2022-02-05T00:20:18.249312",
     "exception": false,
     "start_time": "2022-02-05T00:20:18.221175",
     "status": "completed"
    },
    "tags": []
   },
   "source": [
    "### Running Models with the Training data\n",
    "Details about the network layers:\n",
    "- A first affine layer has 784 inputs and does 100 affine transforms. These are followed by a Relu\n",
    "- A second affine layer has 100 inputs from the 100 activations of the past layer, and does 100 affine transforms. These are followed by a Relu\n",
    "- A third affine layer has 100 activations and does 2 affine transformations to create an embedding for visualization. There is no non-linearity here.\n",
    "- A final \"logistic regression\" which has an affine transform from 2 inputs to 1 output, which is squeezed through a sigmoid.\n"
   ]
  },
  {
   "cell_type": "code",
   "execution_count": 17,
   "id": "2b9c66db",
   "metadata": {
    "execution": {
     "iopub.execute_input": "2022-02-05T00:20:18.309645Z",
     "iopub.status.busy": "2022-02-05T00:20:18.309123Z",
     "iopub.status.idle": "2022-02-05T00:20:18.320593Z",
     "shell.execute_reply": "2022-02-05T00:20:18.320182Z"
    },
    "papermill": {
     "duration": 0.043128,
     "end_time": "2022-02-05T00:20:18.320693",
     "exception": false,
     "start_time": "2022-02-05T00:20:18.277565",
     "status": "completed"
    },
    "tags": []
   },
   "outputs": [],
   "source": [
    "data = Data(X_train, y_train.reshape(-1,1))\n",
    "sampler = Sampler(data, config.bs, shuffle=True)\n",
    "\n",
    "dl = Dataloader(data, sampler)\n",
    "\n",
    "opt = GD(config.lr)\n",
    "loss = MSE()"
   ]
  },
  {
   "cell_type": "code",
   "execution_count": 18,
   "id": "b275e4c2",
   "metadata": {
    "execution": {
     "iopub.execute_input": "2022-02-05T00:20:18.380575Z",
     "iopub.status.busy": "2022-02-05T00:20:18.380080Z",
     "iopub.status.idle": "2022-02-05T00:20:18.391003Z",
     "shell.execute_reply": "2022-02-05T00:20:18.391368Z"
    },
    "papermill": {
     "duration": 0.042572,
     "end_time": "2022-02-05T00:20:18.391488",
     "exception": false,
     "start_time": "2022-02-05T00:20:18.348916",
     "status": "completed"
    },
    "tags": []
   },
   "outputs": [],
   "source": [
    "training_data_x = X_train\n",
    "testing_data_x = X_test\n",
    "training_data_y = y_train.reshape(-1,1)\n",
    "testing_data_y = y_test.reshape(-1,1)"
   ]
  },
  {
   "cell_type": "code",
   "execution_count": 19,
   "id": "76951160",
   "metadata": {
    "execution": {
     "iopub.execute_input": "2022-02-05T00:20:18.452621Z",
     "iopub.status.busy": "2022-02-05T00:20:18.452118Z",
     "iopub.status.idle": "2022-02-05T00:20:18.467357Z",
     "shell.execute_reply": "2022-02-05T00:20:18.466963Z"
    },
    "papermill": {
     "duration": 0.047698,
     "end_time": "2022-02-05T00:20:18.467460",
     "exception": false,
     "start_time": "2022-02-05T00:20:18.419762",
     "status": "completed"
    },
    "tags": []
   },
   "outputs": [
    {
     "name": "stdout",
     "output_type": "stream",
     "text": [
      "xavier\n",
      "xavier\n",
      "xavier\n",
      "xavier\n",
      "xavier\n"
     ]
    }
   ],
   "source": [
    "layers = [Affine(\"first\", 784, 100), Relu(\"first\"), Affine(\"second\", 100, 100), Relu(\"second\"), Affine(\"third\", 100, 2), Affine(\"last\", 2, 1), Sigmoid(\"last\")]\n",
    "model_nn = Model(layers)\n",
    "model_lr = Model([Affine(\"logits\", 784, 1), Sigmoid(\"sigmoid\")])"
   ]
  },
  {
   "cell_type": "code",
   "execution_count": 20,
   "id": "6eede77a",
   "metadata": {
    "execution": {
     "iopub.execute_input": "2022-02-05T00:20:18.528548Z",
     "iopub.status.busy": "2022-02-05T00:20:18.528038Z",
     "iopub.status.idle": "2022-02-05T00:20:18.539665Z",
     "shell.execute_reply": "2022-02-05T00:20:18.539233Z"
    },
    "papermill": {
     "duration": 0.043703,
     "end_time": "2022-02-05T00:20:18.539767",
     "exception": false,
     "start_time": "2022-02-05T00:20:18.496064",
     "status": "completed"
    },
    "tags": []
   },
   "outputs": [],
   "source": [
    "nn_learner = Learner(loss, model_nn, opt, config.num_epochs)\n",
    "acc_nn = ClfCallback(nn_learner, config.bs, training_data_x , testing_data_x, training_data_y, testing_data_y)\n",
    "nn_learner.set_callbacks([acc_nn])"
   ]
  },
  {
   "cell_type": "code",
   "execution_count": 21,
   "id": "877b6cc7",
   "metadata": {
    "execution": {
     "iopub.execute_input": "2022-02-05T00:20:18.600173Z",
     "iopub.status.busy": "2022-02-05T00:20:18.599679Z",
     "iopub.status.idle": "2022-02-05T00:20:18.610967Z",
     "shell.execute_reply": "2022-02-05T00:20:18.610553Z"
    },
    "papermill": {
     "duration": 0.042834,
     "end_time": "2022-02-05T00:20:18.611070",
     "exception": false,
     "start_time": "2022-02-05T00:20:18.568236",
     "status": "completed"
    },
    "tags": []
   },
   "outputs": [],
   "source": [
    "lr_learner = Learner(loss, model_lr, opt, config.num_epochs)\n",
    "acc_lr = ClfCallback(lr_learner, config.bs, training_data_x , testing_data_x, training_data_y, testing_data_y)\n",
    "lr_learner.set_callbacks([acc_lr])"
   ]
  },
  {
   "cell_type": "code",
   "execution_count": 22,
   "id": "d9b133c3",
   "metadata": {
    "execution": {
     "iopub.execute_input": "2022-02-05T00:20:18.671330Z",
     "iopub.status.busy": "2022-02-05T00:20:18.670832Z",
     "iopub.status.idle": "2022-02-05T00:23:15.082568Z",
     "shell.execute_reply": "2022-02-05T00:23:15.083003Z"
    },
    "papermill": {
     "duration": 176.443415,
     "end_time": "2022-02-05T00:23:15.083131",
     "exception": false,
     "start_time": "2022-02-05T00:20:18.639716",
     "status": "completed"
    },
    "tags": []
   },
   "outputs": [
    {
     "name": "stdout",
     "output_type": "stream",
     "text": [
      "Epoch 0, Loss 0.2337\n",
      "Training Accuracy: 0.7530, Testing Accuracy: 0.7787\n",
      "\n"
     ]
    },
    {
     "name": "stdout",
     "output_type": "stream",
     "text": [
      "Epoch 10, Loss 0.0797\n",
      "Training Accuracy: 0.9286, Testing Accuracy: 0.9446\n",
      "\n"
     ]
    },
    {
     "name": "stdout",
     "output_type": "stream",
     "text": [
      "Epoch 20, Loss 0.052\n",
      "Training Accuracy: 0.9446, Testing Accuracy: 0.9561\n",
      "\n"
     ]
    },
    {
     "name": "stdout",
     "output_type": "stream",
     "text": [
      "Epoch 30, Loss 0.0422\n",
      "Training Accuracy: 0.9536, Testing Accuracy: 0.9627\n",
      "\n"
     ]
    },
    {
     "name": "stdout",
     "output_type": "stream",
     "text": [
      "Epoch 40, Loss 0.0371\n",
      "Training Accuracy: 0.9572, Testing Accuracy: 0.9657\n",
      "\n"
     ]
    },
    {
     "name": "stdout",
     "output_type": "stream",
     "text": [
      "Epoch 50, Loss 0.0339\n",
      "Training Accuracy: 0.9616, Testing Accuracy: 0.9688\n",
      "\n"
     ]
    },
    {
     "name": "stdout",
     "output_type": "stream",
     "text": [
      "Epoch 60, Loss 0.0317\n",
      "Training Accuracy: 0.9643, Testing Accuracy: 0.9708\n",
      "\n"
     ]
    },
    {
     "name": "stdout",
     "output_type": "stream",
     "text": [
      "Epoch 70, Loss 0.03\n",
      "Training Accuracy: 0.9656, Testing Accuracy: 0.9713\n",
      "\n"
     ]
    },
    {
     "name": "stdout",
     "output_type": "stream",
     "text": [
      "Epoch 80, Loss 0.0287\n",
      "Training Accuracy: 0.9670, Testing Accuracy: 0.9713\n",
      "\n"
     ]
    },
    {
     "name": "stdout",
     "output_type": "stream",
     "text": [
      "Epoch 90, Loss 0.0275\n",
      "Training Accuracy: 0.9678, Testing Accuracy: 0.9708\n",
      "\n"
     ]
    },
    {
     "name": "stdout",
     "output_type": "stream",
     "text": [
      "Epoch 100, Loss 0.0266\n",
      "Training Accuracy: 0.9687, Testing Accuracy: 0.9718\n",
      "\n"
     ]
    },
    {
     "name": "stdout",
     "output_type": "stream",
     "text": [
      "Epoch 110, Loss 0.0258\n",
      "Training Accuracy: 0.9699, Testing Accuracy: 0.9718\n",
      "\n"
     ]
    },
    {
     "name": "stdout",
     "output_type": "stream",
     "text": [
      "Epoch 120, Loss 0.0251\n",
      "Training Accuracy: 0.9708, Testing Accuracy: 0.9713\n",
      "\n"
     ]
    },
    {
     "name": "stdout",
     "output_type": "stream",
     "text": [
      "Epoch 130, Loss 0.0244\n",
      "Training Accuracy: 0.9716, Testing Accuracy: 0.9713\n",
      "\n"
     ]
    },
    {
     "name": "stdout",
     "output_type": "stream",
     "text": [
      "Epoch 140, Loss 0.0238\n",
      "Training Accuracy: 0.9729, Testing Accuracy: 0.9708\n",
      "\n"
     ]
    },
    {
     "name": "stdout",
     "output_type": "stream",
     "text": [
      "Epoch 150, Loss 0.0233\n",
      "Training Accuracy: 0.9733, Testing Accuracy: 0.9708\n",
      "\n"
     ]
    },
    {
     "name": "stdout",
     "output_type": "stream",
     "text": [
      "Epoch 160, Loss 0.0228\n",
      "Training Accuracy: 0.9741, Testing Accuracy: 0.9718\n",
      "\n"
     ]
    },
    {
     "name": "stdout",
     "output_type": "stream",
     "text": [
      "Epoch 170, Loss 0.0223\n",
      "Training Accuracy: 0.9745, Testing Accuracy: 0.9718\n",
      "\n"
     ]
    },
    {
     "name": "stdout",
     "output_type": "stream",
     "text": [
      "Epoch 180, Loss 0.0219\n",
      "Training Accuracy: 0.9750, Testing Accuracy: 0.9718\n",
      "\n"
     ]
    },
    {
     "name": "stdout",
     "output_type": "stream",
     "text": [
      "Epoch 190, Loss 0.0214\n",
      "Training Accuracy: 0.9757, Testing Accuracy: 0.9718\n",
      "\n"
     ]
    },
    {
     "name": "stdout",
     "output_type": "stream",
     "text": [
      "Epoch 200, Loss 0.021\n",
      "Training Accuracy: 0.9760, Testing Accuracy: 0.9718\n",
      "\n"
     ]
    },
    {
     "name": "stdout",
     "output_type": "stream",
     "text": [
      "Epoch 210, Loss 0.0206\n",
      "Training Accuracy: 0.9766, Testing Accuracy: 0.9723\n",
      "\n"
     ]
    },
    {
     "name": "stdout",
     "output_type": "stream",
     "text": [
      "Epoch 220, Loss 0.0202\n",
      "Training Accuracy: 0.9771, Testing Accuracy: 0.9723\n",
      "\n"
     ]
    },
    {
     "name": "stdout",
     "output_type": "stream",
     "text": [
      "Epoch 230, Loss 0.0199\n",
      "Training Accuracy: 0.9775, Testing Accuracy: 0.9723\n",
      "\n"
     ]
    },
    {
     "name": "stdout",
     "output_type": "stream",
     "text": [
      "Epoch 240, Loss 0.0195\n",
      "Training Accuracy: 0.9781, Testing Accuracy: 0.9723\n",
      "\n"
     ]
    },
    {
     "data": {
      "text/plain": [
       "0.0182499500234593"
      ]
     },
     "execution_count": 22,
     "metadata": {},
     "output_type": "execute_result"
    }
   ],
   "source": [
    "nn_learner.train_loop(dl)"
   ]
  },
  {
   "cell_type": "code",
   "execution_count": 23,
   "id": "e0163366",
   "metadata": {
    "execution": {
     "iopub.execute_input": "2022-02-05T00:23:15.158679Z",
     "iopub.status.busy": "2022-02-05T00:23:15.158167Z",
     "iopub.status.idle": "2022-02-05T00:23:27.445971Z",
     "shell.execute_reply": "2022-02-05T00:23:27.446371Z"
    },
    "papermill": {
     "duration": 12.327893,
     "end_time": "2022-02-05T00:23:27.446497",
     "exception": false,
     "start_time": "2022-02-05T00:23:15.118604",
     "status": "completed"
    },
    "tags": []
   },
   "outputs": [
    {
     "name": "stdout",
     "output_type": "stream",
     "text": [
      "Epoch 0, Loss 0.2349\n",
      "Training Accuracy: 0.7149, Testing Accuracy: 0.7011\n",
      "\n"
     ]
    },
    {
     "name": "stdout",
     "output_type": "stream",
     "text": [
      "Epoch 10, Loss 0.1011\n",
      "Training Accuracy: 0.9146, Testing Accuracy: 0.9224\n",
      "\n"
     ]
    },
    {
     "name": "stdout",
     "output_type": "stream",
     "text": [
      "Epoch 20, Loss 0.078\n",
      "Training Accuracy: 0.9312, Testing Accuracy: 0.9456\n",
      "\n"
     ]
    },
    {
     "name": "stdout",
     "output_type": "stream",
     "text": [
      "Epoch 30, Loss 0.0671\n",
      "Training Accuracy: 0.9401, Testing Accuracy: 0.9496\n",
      "\n"
     ]
    },
    {
     "name": "stdout",
     "output_type": "stream",
     "text": [
      "Epoch 40, Loss 0.0606\n",
      "Training Accuracy: 0.9449, Testing Accuracy: 0.9551\n",
      "\n"
     ]
    },
    {
     "name": "stdout",
     "output_type": "stream",
     "text": [
      "Epoch 50, Loss 0.0562\n",
      "Training Accuracy: 0.9478, Testing Accuracy: 0.9587\n",
      "\n"
     ]
    },
    {
     "name": "stdout",
     "output_type": "stream",
     "text": [
      "Epoch 60, Loss 0.0529\n",
      "Training Accuracy: 0.9493, Testing Accuracy: 0.9627\n",
      "\n"
     ]
    },
    {
     "name": "stdout",
     "output_type": "stream",
     "text": [
      "Epoch 70, Loss 0.0504\n",
      "Training Accuracy: 0.9504, Testing Accuracy: 0.9637\n",
      "\n"
     ]
    },
    {
     "name": "stdout",
     "output_type": "stream",
     "text": [
      "Epoch 80, Loss 0.0484\n",
      "Training Accuracy: 0.9529, Testing Accuracy: 0.9642\n",
      "\n"
     ]
    },
    {
     "name": "stdout",
     "output_type": "stream",
     "text": [
      "Epoch 90, Loss 0.0468\n",
      "Training Accuracy: 0.9543, Testing Accuracy: 0.9647\n",
      "\n"
     ]
    },
    {
     "name": "stdout",
     "output_type": "stream",
     "text": [
      "Epoch 100, Loss 0.0454\n",
      "Training Accuracy: 0.9555, Testing Accuracy: 0.9647\n",
      "\n"
     ]
    },
    {
     "name": "stdout",
     "output_type": "stream",
     "text": [
      "Epoch 110, Loss 0.0442\n",
      "Training Accuracy: 0.9565, Testing Accuracy: 0.9647\n",
      "\n"
     ]
    },
    {
     "name": "stdout",
     "output_type": "stream",
     "text": [
      "Epoch 120, Loss 0.0432\n",
      "Training Accuracy: 0.9566, Testing Accuracy: 0.9652\n",
      "\n"
     ]
    },
    {
     "name": "stdout",
     "output_type": "stream",
     "text": [
      "Epoch 130, Loss 0.0423\n",
      "Training Accuracy: 0.9576, Testing Accuracy: 0.9652\n",
      "\n"
     ]
    },
    {
     "name": "stdout",
     "output_type": "stream",
     "text": [
      "Epoch 140, Loss 0.0415\n",
      "Training Accuracy: 0.9583, Testing Accuracy: 0.9657\n",
      "\n"
     ]
    },
    {
     "name": "stdout",
     "output_type": "stream",
     "text": [
      "Epoch 150, Loss 0.0407\n",
      "Training Accuracy: 0.9589, Testing Accuracy: 0.9667\n",
      "\n"
     ]
    },
    {
     "name": "stdout",
     "output_type": "stream",
     "text": [
      "Epoch 160, Loss 0.0401\n",
      "Training Accuracy: 0.9592, Testing Accuracy: 0.9667\n",
      "\n"
     ]
    },
    {
     "name": "stdout",
     "output_type": "stream",
     "text": [
      "Epoch 170, Loss 0.0395\n",
      "Training Accuracy: 0.9598, Testing Accuracy: 0.9667\n",
      "\n"
     ]
    },
    {
     "name": "stdout",
     "output_type": "stream",
     "text": [
      "Epoch 180, Loss 0.039\n",
      "Training Accuracy: 0.9602, Testing Accuracy: 0.9667\n",
      "\n"
     ]
    },
    {
     "name": "stdout",
     "output_type": "stream",
     "text": [
      "Epoch 190, Loss 0.0385\n",
      "Training Accuracy: 0.9604, Testing Accuracy: 0.9682\n",
      "\n"
     ]
    },
    {
     "name": "stdout",
     "output_type": "stream",
     "text": [
      "Epoch 200, Loss 0.038\n",
      "Training Accuracy: 0.9605, Testing Accuracy: 0.9682\n",
      "\n"
     ]
    },
    {
     "name": "stdout",
     "output_type": "stream",
     "text": [
      "Epoch 210, Loss 0.0376\n",
      "Training Accuracy: 0.9609, Testing Accuracy: 0.9688\n",
      "\n"
     ]
    },
    {
     "name": "stdout",
     "output_type": "stream",
     "text": [
      "Epoch 220, Loss 0.0372\n",
      "Training Accuracy: 0.9610, Testing Accuracy: 0.9688\n",
      "\n"
     ]
    },
    {
     "name": "stdout",
     "output_type": "stream",
     "text": [
      "Epoch 230, Loss 0.0368\n",
      "Training Accuracy: 0.9611, Testing Accuracy: 0.9693\n",
      "\n"
     ]
    },
    {
     "name": "stdout",
     "output_type": "stream",
     "text": [
      "Epoch 240, Loss 0.0365\n",
      "Training Accuracy: 0.9614, Testing Accuracy: 0.9698\n",
      "\n"
     ]
    },
    {
     "data": {
      "text/plain": [
       "0.04806807284389798"
      ]
     },
     "execution_count": 23,
     "metadata": {},
     "output_type": "execute_result"
    }
   ],
   "source": [
    "lr_learner.train_loop(dl)"
   ]
  },
  {
   "cell_type": "code",
   "execution_count": 24,
   "id": "ca410940",
   "metadata": {
    "execution": {
     "iopub.execute_input": "2022-02-05T00:23:27.537758Z",
     "iopub.status.busy": "2022-02-05T00:23:27.537228Z",
     "iopub.status.idle": "2022-02-05T00:23:27.763126Z",
     "shell.execute_reply": "2022-02-05T00:23:27.763520Z"
    },
    "papermill": {
     "duration": 0.274301,
     "end_time": "2022-02-05T00:23:27.763646",
     "exception": false,
     "start_time": "2022-02-05T00:23:27.489345",
     "status": "completed"
    },
    "tags": []
   },
   "outputs": [
    {
     "data": {
      "text/plain": [
       "<matplotlib.legend.Legend at 0x7f1c1bae3400>"
      ]
     },
     "execution_count": 24,
     "metadata": {},
     "output_type": "execute_result"
    },
    {
     "data": {
      "image/png": "[encoded data removed]",
      "text/plain": [
       "<Figure size 1080x720 with 1 Axes>"
      ]
     },
     "metadata": {
      "needs_background": "light"
     },
     "output_type": "display_data"
    }
   ],
   "source": [
    "#comparing the results of NN and LR\n",
    "plt.figure(figsize=(15,10))\n",
    "\n",
    "# Neural Network plots\n",
    "plt.plot(acc_nn.accuracies, 'r-', label = \"Training Accuracies - NN\")\n",
    "plt.plot(acc_nn.test_accuracies, 'g-', label = \"Testing Accuracies - NN\")\n",
    "\n",
    "# Logistic Regression plots\n",
    "plt.plot(acc_lr.accuracies, 'k-', label = \"Training Accuracies - LR\")\n",
    "plt.plot(acc_lr.test_accuracies, 'b-', label = \"Testing Accuracies - LR\")\n",
    "plt.legend()"
   ]
  },
  {
   "cell_type": "markdown",
   "id": "80dfb35c",
   "metadata": {
    "papermill": {
     "duration": 0.043892,
     "end_time": "2022-02-05T00:23:27.851471",
     "exception": false,
     "start_time": "2022-02-05T00:23:27.807579",
     "status": "completed"
    },
    "tags": []
   },
   "source": [
    "#### Plotting the outputs of this layer of the NN.\n"
   ]
  },
  {
   "cell_type": "code",
   "execution_count": 25,
   "id": "45eb2ff5",
   "metadata": {
    "execution": {
     "iopub.execute_input": "2022-02-05T00:23:27.943029Z",
     "iopub.status.busy": "2022-02-05T00:23:27.942521Z",
     "iopub.status.idle": "2022-02-05T00:23:27.978079Z",
     "shell.execute_reply": "2022-02-05T00:23:27.977626Z"
    },
    "papermill": {
     "duration": 0.082791,
     "end_time": "2022-02-05T00:23:27.978188",
     "exception": false,
     "start_time": "2022-02-05T00:23:27.895397",
     "status": "completed"
    },
    "tags": []
   },
   "outputs": [],
   "source": [
    "new_model = Model(layers[:-2])\n",
    "testing_plot = new_model(testing_data_x)"
   ]
  },
  {
   "cell_type": "code",
   "execution_count": 26,
   "id": "4c0a5485",
   "metadata": {
    "execution": {
     "iopub.execute_input": "2022-02-05T00:23:28.072553Z",
     "iopub.status.busy": "2022-02-05T00:23:28.071470Z",
     "iopub.status.idle": "2022-02-05T00:23:28.249105Z",
     "shell.execute_reply": "2022-02-05T00:23:28.249477Z"
    },
    "papermill": {
     "duration": 0.226795,
     "end_time": "2022-02-05T00:23:28.249622",
     "exception": false,
     "start_time": "2022-02-05T00:23:28.022827",
     "status": "completed"
    },
    "tags": []
   },
   "outputs": [
    {
     "data": {
      "text/plain": [
       "Text(0.5, 1.0, 'Outputs')"
      ]
     },
     "execution_count": 26,
     "metadata": {},
     "output_type": "execute_result"
    },
    {
     "data": {
      "image/png": "[encoded data removed]",
      "text/plain": [
       "<Figure size 576x504 with 1 Axes>"
      ]
     },
     "metadata": {
      "needs_background": "light"
     },
     "output_type": "display_data"
    }
   ],
   "source": [
    "# Plotting the scatter plot of points and color coding by class\n",
    "plt.figure(figsize=(8,7))\n",
    "plt.scatter(testing_plot[:,0], testing_plot[:,1], alpha = 0.1, c = y_test.ravel());\n",
    "plt.title('Outputs')"
   ]
  },
  {
   "cell_type": "markdown",
   "id": "a74fcf8f",
   "metadata": {
    "papermill": {
     "duration": 0.045555,
     "end_time": "2022-02-05T00:23:28.340807",
     "exception": false,
     "start_time": "2022-02-05T00:23:28.295252",
     "status": "completed"
    },
    "tags": []
   },
   "source": [
    "Probability contours"
   ]
  },
  {
   "cell_type": "code",
   "execution_count": 27,
   "id": "d0afc8e3",
   "metadata": {
    "execution": {
     "iopub.execute_input": "2022-02-05T00:23:28.458522Z",
     "iopub.status.busy": "2022-02-05T00:23:28.458009Z",
     "iopub.status.idle": "2022-02-05T00:23:28.470518Z",
     "shell.execute_reply": "2022-02-05T00:23:28.470078Z"
    },
    "papermill": {
     "duration": 0.06146,
     "end_time": "2022-02-05T00:23:28.470625",
     "exception": false,
     "start_time": "2022-02-05T00:23:28.409165",
     "status": "completed"
    },
    "tags": []
   },
   "outputs": [],
   "source": [
    "model_prob = Model(layers[-2:]) "
   ]
  },
  {
   "cell_type": "code",
   "execution_count": 28,
   "id": "9b96e238",
   "metadata": {
    "execution": {
     "iopub.execute_input": "2022-02-05T00:23:28.566217Z",
     "iopub.status.busy": "2022-02-05T00:23:28.565715Z",
     "iopub.status.idle": "2022-02-05T00:23:28.578189Z",
     "shell.execute_reply": "2022-02-05T00:23:28.578570Z"
    },
    "papermill": {
     "duration": 0.062529,
     "end_time": "2022-02-05T00:23:28.578699",
     "exception": false,
     "start_time": "2022-02-05T00:23:28.516170",
     "status": "completed"
    },
    "tags": []
   },
   "outputs": [],
   "source": [
    "#creating the x and y ranges according to the above generated plot.\n",
    "x_range = np.linspace(-4, 1, 100) \n",
    "y_range = np.linspace(-6, 6, 100) \n",
    "x_grid, y_grid = np.meshgrid(x_range, y_range) # x_grid and y_grig are of size 100 X 100\n",
    "\n",
    "# converting x_grid and y_grid to continuous arrays\n",
    "x_gridflat = np.ravel(x_grid)\n",
    "y_gridflat = np.ravel(y_grid)\n",
    "\n",
    "# The last layer of the current model takes two columns as input. Hence transpose of np.vstack() is required.\n",
    "X = np.vstack((x_gridflat, y_gridflat)).T\n",
    "\n",
    "prob_contour = model_prob(X).reshape(100,100) "
   ]
  },
  {
   "cell_type": "code",
   "execution_count": 29,
   "id": "da72499a",
   "metadata": {
    "execution": {
     "iopub.execute_input": "2022-02-05T00:23:28.674524Z",
     "iopub.status.busy": "2022-02-05T00:23:28.674032Z",
     "iopub.status.idle": "2022-02-05T00:23:28.914994Z",
     "shell.execute_reply": "2022-02-05T00:23:28.915390Z"
    },
    "papermill": {
     "duration": 0.290451,
     "end_time": "2022-02-05T00:23:28.915513",
     "exception": false,
     "start_time": "2022-02-05T00:23:28.625062",
     "status": "completed"
    },
    "tags": []
   },
   "outputs": [
    {
     "data": {
      "image/png": "[encoded data removed]",
      "text/plain": [
       "<Figure size 720x648 with 1 Axes>"
      ]
     },
     "metadata": {
      "needs_background": "light"
     },
     "output_type": "display_data"
    }
   ],
   "source": [
    "plt.figure(figsize=(10,9))\n",
    "plt.scatter(testing_plot[:,0], testing_plot[:,1], alpha = 0.1, c = y_test.ravel())\n",
    "contours = plt.contour(x_grid,y_grid,prob_contour)\n",
    "plt.title('Probability Contours')\n",
    "plt.clabel(contours, inline = True );"
   ]
  },
  {
   "cell_type": "code",
   "execution_count": null,
   "id": "e81b4ac7",
   "metadata": {
    "papermill": {
     "duration": 0.04801,
     "end_time": "2022-02-05T00:23:29.013720",
     "exception": false,
     "start_time": "2022-02-05T00:23:28.965710",
     "status": "completed"
    },
    "tags": []
   },
   "outputs": [],
   "source": []
  }
 ],
 "metadata": {
  "kernelspec": {
   "display_name": "Python 3",
   "language": "python",
   "name": "python3"
  },
  "language_info": {
   "codemirror_mode": {
    "name": "ipython",
    "version": 3
   },
   "file_extension": ".py",
   "mimetype": "text/x-python",
   "name": "python",
   "nbconvert_exporter": "python",
   "pygments_lexer": "ipython3",
   "version": "3.6.15"
  },
  "papermill": {
   "default_parameters": {},
   "duration": 197.806322,
   "end_time": "2022-02-05T00:23:29.380022",
   "environment_variables": {},
   "exception": null,
   "input_path": "2020-08-11-part2.ipynb",
   "output_path": "2020-08-11-part2.ipynb",
   "parameters": {},
   "start_time": "2022-02-05T00:20:11.573700",
   "version": "2.3.3"
  }
 },
 "nbformat": 4,
 "nbformat_minor": 5
}