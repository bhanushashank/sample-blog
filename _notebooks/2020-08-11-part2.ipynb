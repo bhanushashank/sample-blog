{
 "cells": [
  {
   "cell_type": "markdown",
   "id": "98380cd3",
   "metadata": {
    "papermill": {
     "duration": 0.024782,
     "end_time": "2022-02-18T20:08:37.655413",
     "exception": false,
     "start_time": "2022-02-18T20:08:37.630631",
     "status": "completed"
    },
    "tags": []
   },
   "source": [
    "# Distinguish Your Own Digits (DYOD)"
   ]
  },
  {
   "cell_type": "markdown",
   "id": "ef31240d",
   "metadata": {
    "papermill": {
     "duration": 0.022649,
     "end_time": "2022-02-18T20:08:37.700017",
     "exception": false,
     "start_time": "2022-02-18T20:08:37.677368",
     "status": "completed"
    },
    "tags": []
   },
   "source": [
    "You are going to write a classifier that distinguishes between the number 3 and number 8."
   ]
  },
  {
   "cell_type": "code",
   "execution_count": 1,
   "id": "b15c8646",
   "metadata": {
    "execution": {
     "iopub.execute_input": "2022-02-18T20:08:37.753628Z",
     "iopub.status.busy": "2022-02-18T20:08:37.751187Z",
     "iopub.status.idle": "2022-02-18T20:08:37.760599Z",
     "shell.execute_reply": "2022-02-18T20:08:37.760974Z"
    },
    "papermill": {
     "duration": 0.039953,
     "end_time": "2022-02-18T20:08:37.761117",
     "exception": false,
     "start_time": "2022-02-18T20:08:37.721164",
     "status": "completed"
    },
    "tags": []
   },
   "outputs": [],
   "source": [
    "%load_ext autoreload\n",
    "%autoreload 2"
   ]
  },
  {
   "cell_type": "code",
   "execution_count": 2,
   "id": "22ef38dc",
   "metadata": {
    "execution": {
     "iopub.execute_input": "2022-02-18T20:08:37.817825Z",
     "iopub.status.busy": "2022-02-18T20:08:37.817346Z",
     "iopub.status.idle": "2022-02-18T20:08:38.338002Z",
     "shell.execute_reply": "2022-02-18T20:08:38.337441Z"
    },
    "papermill": {
     "duration": 0.555567,
     "end_time": "2022-02-18T20:08:38.338132",
     "exception": false,
     "start_time": "2022-02-18T20:08:37.782565",
     "status": "completed"
    },
    "tags": []
   },
   "outputs": [],
   "source": [
    "%matplotlib inline\n",
    "import numpy as np\n",
    "import matplotlib.pyplot as plt\n",
    "import pandas as pd"
   ]
  },
  {
   "cell_type": "markdown",
   "id": "ba036198",
   "metadata": {
    "papermill": {
     "duration": 0.023965,
     "end_time": "2022-02-18T20:08:38.386976",
     "exception": false,
     "start_time": "2022-02-18T20:08:38.363011",
     "status": "completed"
    },
    "tags": []
   },
   "source": [
    "From the command line run `pip install mnist`. This is a library that will help you bring down the mnist dataset. If you run this from a notebook, you need to put  `!pip install mnist` in a cell by itself."
   ]
  },
  {
   "cell_type": "code",
   "execution_count": 3,
   "id": "bb6ad8a1",
   "metadata": {
    "execution": {
     "iopub.execute_input": "2022-02-18T20:08:38.439368Z",
     "iopub.status.busy": "2022-02-18T20:08:38.438853Z",
     "iopub.status.idle": "2022-02-18T20:08:39.953754Z",
     "shell.execute_reply": "2022-02-18T20:08:39.953196Z"
    },
    "papermill": {
     "duration": 1.542837,
     "end_time": "2022-02-18T20:08:39.953889",
     "exception": false,
     "start_time": "2022-02-18T20:08:38.411052",
     "status": "completed"
    },
    "tags": []
   },
   "outputs": [
    {
     "name": "stdout",
     "output_type": "stream",
     "text": [
      "Collecting mnist\r\n",
      "  Downloading mnist-0.2.2-py2.py3-none-any.whl (3.5 kB)\r\n",
      "Requirement already satisfied: numpy in /opt/hostedtoolcache/Python/3.6.15/x64/lib/python3.6/site-packages (from mnist) (1.19.5)\r\n"
     ]
    },
    {
     "name": "stdout",
     "output_type": "stream",
     "text": [
      "Installing collected packages: mnist\r\n",
      "Successfully installed mnist-0.2.2\r\n"
     ]
    }
   ],
   "source": [
    "!pip install mnist"
   ]
  },
  {
   "cell_type": "markdown",
   "id": "69df9c9a",
   "metadata": {
    "papermill": {
     "duration": 0.021718,
     "end_time": "2022-02-18T20:08:39.997649",
     "exception": false,
     "start_time": "2022-02-18T20:08:39.975931",
     "status": "completed"
    },
    "tags": []
   },
   "source": [
    "## Preparing the Data"
   ]
  },
  {
   "cell_type": "code",
   "execution_count": 4,
   "id": "7f69d806",
   "metadata": {
    "execution": {
     "iopub.execute_input": "2022-02-18T20:08:40.045430Z",
     "iopub.status.busy": "2022-02-18T20:08:40.044955Z",
     "iopub.status.idle": "2022-02-18T20:08:40.058528Z",
     "shell.execute_reply": "2022-02-18T20:08:40.058133Z"
    },
    "papermill": {
     "duration": 0.039089,
     "end_time": "2022-02-18T20:08:40.058642",
     "exception": false,
     "start_time": "2022-02-18T20:08:40.019553",
     "status": "completed"
    },
    "tags": []
   },
   "outputs": [],
   "source": [
    "import mnist"
   ]
  },
  {
   "cell_type": "code",
   "execution_count": 5,
   "id": "a411e44f",
   "metadata": {
    "execution": {
     "iopub.execute_input": "2022-02-18T20:08:40.120973Z",
     "iopub.status.busy": "2022-02-18T20:08:40.112937Z",
     "iopub.status.idle": "2022-02-18T20:08:40.601257Z",
     "shell.execute_reply": "2022-02-18T20:08:40.600714Z"
    },
    "papermill": {
     "duration": 0.520475,
     "end_time": "2022-02-18T20:08:40.601402",
     "exception": false,
     "start_time": "2022-02-18T20:08:40.080927",
     "status": "completed"
    },
    "tags": []
   },
   "outputs": [],
   "source": [
    "train_images = mnist.train_images()\n",
    "train_labels = mnist.train_labels()"
   ]
  },
  {
   "cell_type": "code",
   "execution_count": 6,
   "id": "dceab3a5",
   "metadata": {
    "execution": {
     "iopub.execute_input": "2022-02-18T20:08:40.650039Z",
     "iopub.status.busy": "2022-02-18T20:08:40.649559Z",
     "iopub.status.idle": "2022-02-18T20:08:40.664466Z",
     "shell.execute_reply": "2022-02-18T20:08:40.664872Z"
    },
    "papermill": {
     "duration": 0.040441,
     "end_time": "2022-02-18T20:08:40.665004",
     "exception": false,
     "start_time": "2022-02-18T20:08:40.624563",
     "status": "completed"
    },
    "tags": []
   },
   "outputs": [
    {
     "data": {
      "text/plain": [
       "((60000, 28, 28), (60000,))"
      ]
     },
     "execution_count": 6,
     "metadata": {},
     "output_type": "execute_result"
    }
   ],
   "source": [
    "train_images.shape, train_labels.shape"
   ]
  },
  {
   "cell_type": "code",
   "execution_count": 7,
   "id": "f50dc2bb",
   "metadata": {
    "execution": {
     "iopub.execute_input": "2022-02-18T20:08:40.718006Z",
     "iopub.status.busy": "2022-02-18T20:08:40.717498Z",
     "iopub.status.idle": "2022-02-18T20:08:40.837007Z",
     "shell.execute_reply": "2022-02-18T20:08:40.837457Z"
    },
    "papermill": {
     "duration": 0.15013,
     "end_time": "2022-02-18T20:08:40.837602",
     "exception": false,
     "start_time": "2022-02-18T20:08:40.687472",
     "status": "completed"
    },
    "tags": []
   },
   "outputs": [],
   "source": [
    "test_images = mnist.test_images()\n",
    "test_labels = mnist.test_labels()"
   ]
  },
  {
   "cell_type": "code",
   "execution_count": 8,
   "id": "fc38cf1b",
   "metadata": {
    "execution": {
     "iopub.execute_input": "2022-02-18T20:08:40.906292Z",
     "iopub.status.busy": "2022-02-18T20:08:40.905824Z",
     "iopub.status.idle": "2022-02-18T20:08:40.917393Z",
     "shell.execute_reply": "2022-02-18T20:08:40.917829Z"
    },
    "papermill": {
     "duration": 0.041528,
     "end_time": "2022-02-18T20:08:40.917955",
     "exception": false,
     "start_time": "2022-02-18T20:08:40.876427",
     "status": "completed"
    },
    "tags": []
   },
   "outputs": [
    {
     "data": {
      "text/plain": [
       "((10000, 28, 28), (10000,))"
      ]
     },
     "execution_count": 8,
     "metadata": {},
     "output_type": "execute_result"
    }
   ],
   "source": [
    "test_images.shape, test_labels.shape"
   ]
  },
  {
   "cell_type": "code",
   "execution_count": 9,
   "id": "f9ed8fe0",
   "metadata": {
    "execution": {
     "iopub.execute_input": "2022-02-18T20:08:40.966820Z",
     "iopub.status.busy": "2022-02-18T20:08:40.965936Z",
     "iopub.status.idle": "2022-02-18T20:08:41.096769Z",
     "shell.execute_reply": "2022-02-18T20:08:41.096370Z"
    },
    "papermill": {
     "duration": 0.156482,
     "end_time": "2022-02-18T20:08:41.096880",
     "exception": false,
     "start_time": "2022-02-18T20:08:40.940398",
     "status": "completed"
    },
    "tags": []
   },
   "outputs": [
    {
     "name": "stdout",
     "output_type": "stream",
     "text": [
      "2\n"
     ]
    },
    {
     "data": {
      "text/plain": [
       "<matplotlib.image.AxesImage at 0x7f4949fa8588>"
      ]
     },
     "execution_count": 9,
     "metadata": {},
     "output_type": "execute_result"
    },
    {
     "data": {
      "image/png": "[encoded data removed]",
      "text/plain": [
       "<Figure size 432x288 with 1 Axes>"
      ]
     },
     "metadata": {
      "needs_background": "light"
     },
     "output_type": "display_data"
    }
   ],
   "source": [
    "image_index = 7776 # You may select anything up to 60,000\n",
    "print(train_labels[image_index]) \n",
    "plt.imshow(train_images[image_index], cmap='Greys')"
   ]
  },
  {
   "cell_type": "markdown",
   "id": "a8d2388d",
   "metadata": {
    "papermill": {
     "duration": 0.023416,
     "end_time": "2022-02-18T20:08:41.143867",
     "exception": false,
     "start_time": "2022-02-18T20:08:41.120451",
     "status": "completed"
    },
    "tags": []
   },
   "source": [
    "## Filter data to get 3 and 8 out"
   ]
  },
  {
   "cell_type": "code",
   "execution_count": 10,
   "id": "776f7fc7",
   "metadata": {
    "execution": {
     "iopub.execute_input": "2022-02-18T20:08:41.200955Z",
     "iopub.status.busy": "2022-02-18T20:08:41.196992Z",
     "iopub.status.idle": "2022-02-18T20:08:41.210970Z",
     "shell.execute_reply": "2022-02-18T20:08:41.210502Z"
    },
    "papermill": {
     "duration": 0.043943,
     "end_time": "2022-02-18T20:08:41.211089",
     "exception": false,
     "start_time": "2022-02-18T20:08:41.167146",
     "status": "completed"
    },
    "tags": []
   },
   "outputs": [],
   "source": [
    "train_filter = np.where((train_labels == 3 ) | (train_labels == 8))\n",
    "test_filter = np.where((test_labels == 3) | (test_labels == 8))\n",
    "X_train, y_train = train_images[train_filter], train_labels[train_filter]\n",
    "X_test, y_test = test_images[test_filter], test_labels[test_filter]"
   ]
  },
  {
   "cell_type": "markdown",
   "id": "948f0b7e",
   "metadata": {
    "papermill": {
     "duration": 0.025959,
     "end_time": "2022-02-18T20:08:41.266494",
     "exception": false,
     "start_time": "2022-02-18T20:08:41.240535",
     "status": "completed"
    },
    "tags": []
   },
   "source": [
    "We normalize the pizel values in the 0 to 1 range"
   ]
  },
  {
   "cell_type": "code",
   "execution_count": 11,
   "id": "ee4c2166",
   "metadata": {
    "execution": {
     "iopub.execute_input": "2022-02-18T20:08:41.328878Z",
     "iopub.status.busy": "2022-02-18T20:08:41.324490Z",
     "iopub.status.idle": "2022-02-18T20:08:41.364757Z",
     "shell.execute_reply": "2022-02-18T20:08:41.364226Z"
    },
    "papermill": {
     "duration": 0.075212,
     "end_time": "2022-02-18T20:08:41.364896",
     "exception": false,
     "start_time": "2022-02-18T20:08:41.289684",
     "status": "completed"
    },
    "tags": []
   },
   "outputs": [],
   "source": [
    "X_train = X_train/255.\n",
    "X_test = X_test/255."
   ]
  },
  {
   "cell_type": "markdown",
   "id": "ddcf4fab",
   "metadata": {
    "papermill": {
     "duration": 0.023316,
     "end_time": "2022-02-18T20:08:41.413866",
     "exception": false,
     "start_time": "2022-02-18T20:08:41.390550",
     "status": "completed"
    },
    "tags": []
   },
   "source": [
    "And setup the labels as 1 (when the digit is 3) and 0 (when the digit is 8)"
   ]
  },
  {
   "cell_type": "code",
   "execution_count": 12,
   "id": "7dc908f2",
   "metadata": {
    "execution": {
     "iopub.execute_input": "2022-02-18T20:08:41.463904Z",
     "iopub.status.busy": "2022-02-18T20:08:41.463438Z",
     "iopub.status.idle": "2022-02-18T20:08:41.474580Z",
     "shell.execute_reply": "2022-02-18T20:08:41.474201Z"
    },
    "papermill": {
     "duration": 0.037578,
     "end_time": "2022-02-18T20:08:41.474687",
     "exception": false,
     "start_time": "2022-02-18T20:08:41.437109",
     "status": "completed"
    },
    "tags": []
   },
   "outputs": [],
   "source": [
    "y_train = 1*(y_train==3)\n",
    "y_test = 1*(y_test==3)"
   ]
  },
  {
   "cell_type": "code",
   "execution_count": 13,
   "id": "01e4e969",
   "metadata": {
    "execution": {
     "iopub.execute_input": "2022-02-18T20:08:41.525092Z",
     "iopub.status.busy": "2022-02-18T20:08:41.524621Z",
     "iopub.status.idle": "2022-02-18T20:08:41.536456Z",
     "shell.execute_reply": "2022-02-18T20:08:41.536927Z"
    },
    "papermill": {
     "duration": 0.038965,
     "end_time": "2022-02-18T20:08:41.537068",
     "exception": false,
     "start_time": "2022-02-18T20:08:41.498103",
     "status": "completed"
    },
    "tags": []
   },
   "outputs": [
    {
     "data": {
      "text/plain": [
       "((11982, 28, 28), (1984, 28, 28))"
      ]
     },
     "execution_count": 13,
     "metadata": {},
     "output_type": "execute_result"
    }
   ],
   "source": [
    "X_train.shape, X_test.shape"
   ]
  },
  {
   "cell_type": "markdown",
   "id": "5ccf3f85",
   "metadata": {
    "papermill": {
     "duration": 0.0265,
     "end_time": "2022-02-18T20:08:41.596450",
     "exception": false,
     "start_time": "2022-02-18T20:08:41.569950",
     "status": "completed"
    },
    "tags": []
   },
   "source": [
    "We reshape the data to flatten the image pixels into a set of features or co-variates:"
   ]
  },
  {
   "cell_type": "code",
   "execution_count": 14,
   "id": "5286a4a3",
   "metadata": {
    "execution": {
     "iopub.execute_input": "2022-02-18T20:08:41.655394Z",
     "iopub.status.busy": "2022-02-18T20:08:41.654926Z",
     "iopub.status.idle": "2022-02-18T20:08:41.667103Z",
     "shell.execute_reply": "2022-02-18T20:08:41.666719Z"
    },
    "papermill": {
     "duration": 0.044118,
     "end_time": "2022-02-18T20:08:41.667214",
     "exception": false,
     "start_time": "2022-02-18T20:08:41.623096",
     "status": "completed"
    },
    "tags": []
   },
   "outputs": [
    {
     "data": {
      "text/plain": [
       "((11982, 784), (1984, 784))"
      ]
     },
     "execution_count": 14,
     "metadata": {},
     "output_type": "execute_result"
    }
   ],
   "source": [
    "X_train = X_train.reshape(X_train.shape[0], -1)\n",
    "X_test = X_test.reshape(X_test.shape[0], -1)\n",
    "X_train.shape, X_test.shape"
   ]
  },
  {
   "cell_type": "code",
   "execution_count": 15,
   "id": "73c5f88a",
   "metadata": {
    "execution": {
     "iopub.execute_input": "2022-02-18T20:08:41.719039Z",
     "iopub.status.busy": "2022-02-18T20:08:41.718573Z",
     "iopub.status.idle": "2022-02-18T20:08:41.735512Z",
     "shell.execute_reply": "2022-02-18T20:08:41.735134Z"
    },
    "papermill": {
     "duration": 0.044729,
     "end_time": "2022-02-18T20:08:41.735618",
     "exception": false,
     "start_time": "2022-02-18T20:08:41.690889",
     "status": "completed"
    },
    "tags": []
   },
   "outputs": [],
   "source": [
    "#Impoting functions from 'Kudzu'\n",
    "from kudzu.model import Model\n",
    "from kudzu.train import Learner\n",
    "from kudzu.optim import GD\n",
    "from kudzu.data import Data, Sampler,Dataloader\n",
    "\n",
    "from kudzu.callbacks import AccCallback\n",
    "from kudzu.callbacks import ClfCallback\n",
    "\n",
    "from kudzu.loss import MSE\n",
    "\n",
    "from kudzu.layer import Sigmoid,Relu\n",
    "from kudzu.layer import Affine"
   ]
  },
  {
   "cell_type": "markdown",
   "id": "bc01172a",
   "metadata": {
    "papermill": {
     "duration": 0.023476,
     "end_time": "2022-02-18T20:08:41.782937",
     "exception": false,
     "start_time": "2022-02-18T20:08:41.759461",
     "status": "completed"
    },
    "tags": []
   },
   "source": [
    "### Let us create a `Config` class, to store important parameters. \n",
    "This class essentially plays the role of a dictionary."
   ]
  },
  {
   "cell_type": "code",
   "execution_count": 16,
   "id": "978281aa",
   "metadata": {
    "execution": {
     "iopub.execute_input": "2022-02-18T20:08:41.833997Z",
     "iopub.status.busy": "2022-02-18T20:08:41.833508Z",
     "iopub.status.idle": "2022-02-18T20:08:41.845884Z",
     "shell.execute_reply": "2022-02-18T20:08:41.845034Z"
    },
    "papermill": {
     "duration": 0.039239,
     "end_time": "2022-02-18T20:08:41.845992",
     "exception": false,
     "start_time": "2022-02-18T20:08:41.806753",
     "status": "completed"
    },
    "tags": []
   },
   "outputs": [],
   "source": [
    "class Config:\n",
    "    pass\n",
    "config = Config()\n",
    "config.lr = 0.001\n",
    "config.num_epochs = 250\n",
    "config.bs = 50"
   ]
  },
  {
   "cell_type": "markdown",
   "id": "1385fa59",
   "metadata": {
    "papermill": {
     "duration": 0.02364,
     "end_time": "2022-02-18T20:08:41.893504",
     "exception": false,
     "start_time": "2022-02-18T20:08:41.869864",
     "status": "completed"
    },
    "tags": []
   },
   "source": [
    "### Running Models with the Training data\n",
    "Details about the network layers:\n",
    "- A first affine layer has 784 inputs and does 100 affine transforms. These are followed by a Relu\n",
    "- A second affine layer has 100 inputs from the 100 activations of the past layer, and does 100 affine transforms. These are followed by a Relu\n",
    "- A third affine layer has 100 activations and does 2 affine transformations to create an embedding for visualization. There is no non-linearity here.\n",
    "- A final \"logistic regression\" which has an affine transform from 2 inputs to 1 output, which is squeezed through a sigmoid.\n"
   ]
  },
  {
   "cell_type": "code",
   "execution_count": 17,
   "id": "2b9c66db",
   "metadata": {
    "execution": {
     "iopub.execute_input": "2022-02-18T20:08:41.944780Z",
     "iopub.status.busy": "2022-02-18T20:08:41.944288Z",
     "iopub.status.idle": "2022-02-18T20:08:41.956723Z",
     "shell.execute_reply": "2022-02-18T20:08:41.956309Z"
    },
    "papermill": {
     "duration": 0.039691,
     "end_time": "2022-02-18T20:08:41.956827",
     "exception": false,
     "start_time": "2022-02-18T20:08:41.917136",
     "status": "completed"
    },
    "tags": []
   },
   "outputs": [],
   "source": [
    "data = Data(X_train, y_train.reshape(-1,1))\n",
    "sampler = Sampler(data, config.bs, shuffle=True)\n",
    "\n",
    "dl = Dataloader(data, sampler)\n",
    "\n",
    "opt = GD(config.lr)\n",
    "loss = MSE()"
   ]
  },
  {
   "cell_type": "code",
   "execution_count": 18,
   "id": "b275e4c2",
   "metadata": {
    "execution": {
     "iopub.execute_input": "2022-02-18T20:08:42.008172Z",
     "iopub.status.busy": "2022-02-18T20:08:42.007688Z",
     "iopub.status.idle": "2022-02-18T20:08:42.019932Z",
     "shell.execute_reply": "2022-02-18T20:08:42.019560Z"
    },
    "papermill": {
     "duration": 0.039206,
     "end_time": "2022-02-18T20:08:42.020034",
     "exception": false,
     "start_time": "2022-02-18T20:08:41.980828",
     "status": "completed"
    },
    "tags": []
   },
   "outputs": [],
   "source": [
    "training_data_x = X_train\n",
    "testing_data_x = X_test\n",
    "training_data_y = y_train.reshape(-1,1)\n",
    "testing_data_y = y_test.reshape(-1,1)"
   ]
  },
  {
   "cell_type": "code",
   "execution_count": 19,
   "id": "76951160",
   "metadata": {
    "execution": {
     "iopub.execute_input": "2022-02-18T20:08:42.075663Z",
     "iopub.status.busy": "2022-02-18T20:08:42.075156Z",
     "iopub.status.idle": "2022-02-18T20:08:42.088570Z",
     "shell.execute_reply": "2022-02-18T20:08:42.088110Z"
    },
    "papermill": {
     "duration": 0.045007,
     "end_time": "2022-02-18T20:08:42.088694",
     "exception": false,
     "start_time": "2022-02-18T20:08:42.043687",
     "status": "completed"
    },
    "tags": []
   },
   "outputs": [
    {
     "name": "stdout",
     "output_type": "stream",
     "text": [
      "xavier\n",
      "xavier\n",
      "xavier\n",
      "xavier\n",
      "xavier\n"
     ]
    }
   ],
   "source": [
    "layers = [Affine(\"first\", 784, 100), Relu(\"first\"), Affine(\"second\", 100, 100), Relu(\"second\"), Affine(\"third\", 100, 2), Affine(\"last\", 2, 1), Sigmoid(\"last\")]\n",
    "model_nn = Model(layers)\n",
    "model_lr = Model([Affine(\"logits\", 784, 1), Sigmoid(\"sigmoid\")])"
   ]
  },
  {
   "cell_type": "code",
   "execution_count": 20,
   "id": "6eede77a",
   "metadata": {
    "execution": {
     "iopub.execute_input": "2022-02-18T20:08:42.149542Z",
     "iopub.status.busy": "2022-02-18T20:08:42.149024Z",
     "iopub.status.idle": "2022-02-18T20:08:42.159733Z",
     "shell.execute_reply": "2022-02-18T20:08:42.159235Z"
    },
    "papermill": {
     "duration": 0.042422,
     "end_time": "2022-02-18T20:08:42.159849",
     "exception": false,
     "start_time": "2022-02-18T20:08:42.117427",
     "status": "completed"
    },
    "tags": []
   },
   "outputs": [],
   "source": [
    "nn_learner = Learner(loss, model_nn, opt, config.num_epochs)\n",
    "acc_nn = ClfCallback(nn_learner, config.bs, training_data_x , testing_data_x, training_data_y, testing_data_y)\n",
    "nn_learner.set_callbacks([acc_nn])"
   ]
  },
  {
   "cell_type": "code",
   "execution_count": 21,
   "id": "877b6cc7",
   "metadata": {
    "execution": {
     "iopub.execute_input": "2022-02-18T20:08:42.225685Z",
     "iopub.status.busy": "2022-02-18T20:08:42.224786Z",
     "iopub.status.idle": "2022-02-18T20:08:42.237623Z",
     "shell.execute_reply": "2022-02-18T20:08:42.237167Z"
    },
    "papermill": {
     "duration": 0.048612,
     "end_time": "2022-02-18T20:08:42.237738",
     "exception": false,
     "start_time": "2022-02-18T20:08:42.189126",
     "status": "completed"
    },
    "tags": []
   },
   "outputs": [],
   "source": [
    "lr_learner = Learner(loss, model_lr, opt, config.num_epochs)\n",
    "acc_lr = ClfCallback(lr_learner, config.bs, training_data_x , testing_data_x, training_data_y, testing_data_y)\n",
    "lr_learner.set_callbacks([acc_lr])"
   ]
  },
  {
   "cell_type": "code",
   "execution_count": 22,
   "id": "d9b133c3",
   "metadata": {
    "execution": {
     "iopub.execute_input": "2022-02-18T20:08:42.301141Z",
     "iopub.status.busy": "2022-02-18T20:08:42.300596Z",
     "iopub.status.idle": "2022-02-18T20:10:02.476275Z",
     "shell.execute_reply": "2022-02-18T20:10:02.476959Z"
    },
    "papermill": {
     "duration": 80.211946,
     "end_time": "2022-02-18T20:10:02.477098",
     "exception": false,
     "start_time": "2022-02-18T20:08:42.265152",
     "status": "completed"
    },
    "tags": []
   },
   "outputs": [
    {
     "name": "stdout",
     "output_type": "stream",
     "text": [
      "Epoch 0, Loss 0.2648\n",
      "Training Accuracy: 0.5676, Testing Accuracy: 0.5948\n",
      "\n"
     ]
    },
    {
     "name": "stdout",
     "output_type": "stream",
     "text": [
      "Epoch 10, Loss 0.0807\n",
      "Training Accuracy: 0.9190, Testing Accuracy: 0.9330\n",
      "\n"
     ]
    },
    {
     "name": "stdout",
     "output_type": "stream",
     "text": [
      "Epoch 20, Loss 0.0526\n",
      "Training Accuracy: 0.9419, Testing Accuracy: 0.9567\n",
      "\n"
     ]
    },
    {
     "name": "stdout",
     "output_type": "stream",
     "text": [
      "Epoch 30, Loss 0.0425\n",
      "Training Accuracy: 0.9523, Testing Accuracy: 0.9632\n",
      "\n"
     ]
    },
    {
     "name": "stdout",
     "output_type": "stream",
     "text": [
      "Epoch 40, Loss 0.0373\n",
      "Training Accuracy: 0.9569, Testing Accuracy: 0.9652\n",
      "\n"
     ]
    },
    {
     "name": "stdout",
     "output_type": "stream",
     "text": [
      "Epoch 50, Loss 0.034\n",
      "Training Accuracy: 0.9599, Testing Accuracy: 0.9693\n",
      "\n"
     ]
    },
    {
     "name": "stdout",
     "output_type": "stream",
     "text": [
      "Epoch 60, Loss 0.0317\n",
      "Training Accuracy: 0.9620, Testing Accuracy: 0.9698\n",
      "\n"
     ]
    },
    {
     "name": "stdout",
     "output_type": "stream",
     "text": [
      "Epoch 70, Loss 0.0299\n",
      "Training Accuracy: 0.9649, Testing Accuracy: 0.9693\n",
      "\n"
     ]
    },
    {
     "name": "stdout",
     "output_type": "stream",
     "text": [
      "Epoch 80, Loss 0.0285\n",
      "Training Accuracy: 0.9668, Testing Accuracy: 0.9688\n",
      "\n"
     ]
    },
    {
     "name": "stdout",
     "output_type": "stream",
     "text": [
      "Epoch 90, Loss 0.0273\n",
      "Training Accuracy: 0.9674, Testing Accuracy: 0.9688\n",
      "\n"
     ]
    },
    {
     "name": "stdout",
     "output_type": "stream",
     "text": [
      "Epoch 100, Loss 0.0263\n",
      "Training Accuracy: 0.9686, Testing Accuracy: 0.9703\n",
      "\n"
     ]
    },
    {
     "name": "stdout",
     "output_type": "stream",
     "text": [
      "Epoch 110, Loss 0.0254\n",
      "Training Accuracy: 0.9694, Testing Accuracy: 0.9703\n",
      "\n"
     ]
    },
    {
     "name": "stdout",
     "output_type": "stream",
     "text": [
      "Epoch 120, Loss 0.0246\n",
      "Training Accuracy: 0.9703, Testing Accuracy: 0.9703\n",
      "\n"
     ]
    },
    {
     "name": "stdout",
     "output_type": "stream",
     "text": [
      "Epoch 130, Loss 0.0239\n",
      "Training Accuracy: 0.9715, Testing Accuracy: 0.9703\n",
      "\n"
     ]
    },
    {
     "name": "stdout",
     "output_type": "stream",
     "text": [
      "Epoch 140, Loss 0.0232\n",
      "Training Accuracy: 0.9730, Testing Accuracy: 0.9713\n",
      "\n"
     ]
    },
    {
     "name": "stdout",
     "output_type": "stream",
     "text": [
      "Epoch 150, Loss 0.0226\n",
      "Training Accuracy: 0.9740, Testing Accuracy: 0.9713\n",
      "\n"
     ]
    },
    {
     "name": "stdout",
     "output_type": "stream",
     "text": [
      "Epoch 160, Loss 0.022\n",
      "Training Accuracy: 0.9746, Testing Accuracy: 0.9723\n",
      "\n"
     ]
    },
    {
     "name": "stdout",
     "output_type": "stream",
     "text": [
      "Epoch 170, Loss 0.0215\n",
      "Training Accuracy: 0.9749, Testing Accuracy: 0.9733\n",
      "\n"
     ]
    },
    {
     "name": "stdout",
     "output_type": "stream",
     "text": [
      "Epoch 180, Loss 0.021\n",
      "Training Accuracy: 0.9764, Testing Accuracy: 0.9733\n",
      "\n"
     ]
    },
    {
     "name": "stdout",
     "output_type": "stream",
     "text": [
      "Epoch 190, Loss 0.0205\n",
      "Training Accuracy: 0.9770, Testing Accuracy: 0.9748\n",
      "\n"
     ]
    },
    {
     "name": "stdout",
     "output_type": "stream",
     "text": [
      "Epoch 200, Loss 0.02\n",
      "Training Accuracy: 0.9776, Testing Accuracy: 0.9748\n",
      "\n"
     ]
    },
    {
     "name": "stdout",
     "output_type": "stream",
     "text": [
      "Epoch 210, Loss 0.0196\n",
      "Training Accuracy: 0.9784, Testing Accuracy: 0.9748\n",
      "\n"
     ]
    },
    {
     "name": "stdout",
     "output_type": "stream",
     "text": [
      "Epoch 220, Loss 0.0192\n",
      "Training Accuracy: 0.9792, Testing Accuracy: 0.9753\n",
      "\n"
     ]
    },
    {
     "name": "stdout",
     "output_type": "stream",
     "text": [
      "Epoch 230, Loss 0.0188\n",
      "Training Accuracy: 0.9800, Testing Accuracy: 0.9753\n",
      "\n"
     ]
    },
    {
     "name": "stdout",
     "output_type": "stream",
     "text": [
      "Epoch 240, Loss 0.0184\n",
      "Training Accuracy: 0.9805, Testing Accuracy: 0.9753\n",
      "\n"
     ]
    },
    {
     "data": {
      "text/plain": [
       "0.032228050726087205"
      ]
     },
     "execution_count": 22,
     "metadata": {},
     "output_type": "execute_result"
    }
   ],
   "source": [
    "nn_learner.train_loop(dl)"
   ]
  },
  {
   "cell_type": "code",
   "execution_count": 23,
   "id": "e0163366",
   "metadata": {
    "execution": {
     "iopub.execute_input": "2022-02-18T20:10:02.548282Z",
     "iopub.status.busy": "2022-02-18T20:10:02.547760Z",
     "iopub.status.idle": "2022-02-18T20:10:16.499724Z",
     "shell.execute_reply": "2022-02-18T20:10:16.500362Z"
    },
    "papermill": {
     "duration": 13.993027,
     "end_time": "2022-02-18T20:10:16.500503",
     "exception": false,
     "start_time": "2022-02-18T20:10:02.507476",
     "status": "completed"
    },
    "tags": []
   },
   "outputs": [
    {
     "name": "stdout",
     "output_type": "stream",
     "text": [
      "Epoch 0, Loss 0.2281\n",
      "Training Accuracy: 0.7343, Testing Accuracy: 0.7480\n",
      "\n"
     ]
    },
    {
     "name": "stdout",
     "output_type": "stream",
     "text": [
      "Epoch 10, Loss 0.1038\n",
      "Training Accuracy: 0.9046, Testing Accuracy: 0.9153\n",
      "\n"
     ]
    },
    {
     "name": "stdout",
     "output_type": "stream",
     "text": [
      "Epoch 20, Loss 0.0804\n",
      "Training Accuracy: 0.9246, Testing Accuracy: 0.9375\n",
      "\n"
     ]
    },
    {
     "name": "stdout",
     "output_type": "stream",
     "text": [
      "Epoch 30, Loss 0.0693\n",
      "Training Accuracy: 0.9345, Testing Accuracy: 0.9501\n",
      "\n"
     ]
    },
    {
     "name": "stdout",
     "output_type": "stream",
     "text": [
      "Epoch 40, Loss 0.0626\n",
      "Training Accuracy: 0.9397, Testing Accuracy: 0.9541\n",
      "\n"
     ]
    },
    {
     "name": "stdout",
     "output_type": "stream",
     "text": [
      "Epoch 50, Loss 0.058\n",
      "Training Accuracy: 0.9432, Testing Accuracy: 0.9567\n",
      "\n"
     ]
    },
    {
     "name": "stdout",
     "output_type": "stream",
     "text": [
      "Epoch 60, Loss 0.0546\n",
      "Training Accuracy: 0.9464, Testing Accuracy: 0.9577\n",
      "\n"
     ]
    },
    {
     "name": "stdout",
     "output_type": "stream",
     "text": [
      "Epoch 70, Loss 0.0519\n",
      "Training Accuracy: 0.9479, Testing Accuracy: 0.9592\n",
      "\n"
     ]
    },
    {
     "name": "stdout",
     "output_type": "stream",
     "text": [
      "Epoch 80, Loss 0.0498\n",
      "Training Accuracy: 0.9495, Testing Accuracy: 0.9612\n",
      "\n"
     ]
    },
    {
     "name": "stdout",
     "output_type": "stream",
     "text": [
      "Epoch 90, Loss 0.0481\n",
      "Training Accuracy: 0.9506, Testing Accuracy: 0.9622\n",
      "\n"
     ]
    },
    {
     "name": "stdout",
     "output_type": "stream",
     "text": [
      "Epoch 100, Loss 0.0466\n",
      "Training Accuracy: 0.9517, Testing Accuracy: 0.9627\n",
      "\n"
     ]
    },
    {
     "name": "stdout",
     "output_type": "stream",
     "text": [
      "Epoch 110, Loss 0.0454\n",
      "Training Accuracy: 0.9530, Testing Accuracy: 0.9627\n",
      "\n"
     ]
    },
    {
     "name": "stdout",
     "output_type": "stream",
     "text": [
      "Epoch 120, Loss 0.0443\n",
      "Training Accuracy: 0.9541, Testing Accuracy: 0.9632\n",
      "\n"
     ]
    },
    {
     "name": "stdout",
     "output_type": "stream",
     "text": [
      "Epoch 130, Loss 0.0433\n",
      "Training Accuracy: 0.9548, Testing Accuracy: 0.9637\n",
      "\n"
     ]
    },
    {
     "name": "stdout",
     "output_type": "stream",
     "text": [
      "Epoch 140, Loss 0.0425\n",
      "Training Accuracy: 0.9553, Testing Accuracy: 0.9647\n",
      "\n"
     ]
    },
    {
     "name": "stdout",
     "output_type": "stream",
     "text": [
      "Epoch 150, Loss 0.0417\n",
      "Training Accuracy: 0.9560, Testing Accuracy: 0.9652\n",
      "\n"
     ]
    },
    {
     "name": "stdout",
     "output_type": "stream",
     "text": [
      "Epoch 160, Loss 0.041\n",
      "Training Accuracy: 0.9568, Testing Accuracy: 0.9652\n",
      "\n"
     ]
    },
    {
     "name": "stdout",
     "output_type": "stream",
     "text": [
      "Epoch 170, Loss 0.0404\n",
      "Training Accuracy: 0.9573, Testing Accuracy: 0.9657\n",
      "\n"
     ]
    },
    {
     "name": "stdout",
     "output_type": "stream",
     "text": [
      "Epoch 180, Loss 0.0398\n",
      "Training Accuracy: 0.9577, Testing Accuracy: 0.9657\n",
      "\n"
     ]
    },
    {
     "name": "stdout",
     "output_type": "stream",
     "text": [
      "Epoch 190, Loss 0.0393\n",
      "Training Accuracy: 0.9582, Testing Accuracy: 0.9657\n",
      "\n"
     ]
    },
    {
     "name": "stdout",
     "output_type": "stream",
     "text": [
      "Epoch 200, Loss 0.0388\n",
      "Training Accuracy: 0.9586, Testing Accuracy: 0.9657\n",
      "\n"
     ]
    },
    {
     "name": "stdout",
     "output_type": "stream",
     "text": [
      "Epoch 210, Loss 0.0383\n",
      "Training Accuracy: 0.9589, Testing Accuracy: 0.9667\n",
      "\n"
     ]
    },
    {
     "name": "stdout",
     "output_type": "stream",
     "text": [
      "Epoch 220, Loss 0.0379\n",
      "Training Accuracy: 0.9592, Testing Accuracy: 0.9672\n",
      "\n"
     ]
    },
    {
     "name": "stdout",
     "output_type": "stream",
     "text": [
      "Epoch 230, Loss 0.0375\n",
      "Training Accuracy: 0.9599, Testing Accuracy: 0.9672\n",
      "\n"
     ]
    },
    {
     "name": "stdout",
     "output_type": "stream",
     "text": [
      "Epoch 240, Loss 0.0371\n",
      "Training Accuracy: 0.9602, Testing Accuracy: 0.9667\n",
      "\n"
     ]
    },
    {
     "data": {
      "text/plain": [
       "0.02799719230186891"
      ]
     },
     "execution_count": 23,
     "metadata": {},
     "output_type": "execute_result"
    }
   ],
   "source": [
    "lr_learner.train_loop(dl)"
   ]
  },
  {
   "cell_type": "code",
   "execution_count": 24,
   "id": "ca410940",
   "metadata": {
    "execution": {
     "iopub.execute_input": "2022-02-18T20:10:16.585429Z",
     "iopub.status.busy": "2022-02-18T20:10:16.584938Z",
     "iopub.status.idle": "2022-02-18T20:10:16.779003Z",
     "shell.execute_reply": "2022-02-18T20:10:16.778615Z"
    },
    "papermill": {
     "duration": 0.24252,
     "end_time": "2022-02-18T20:10:16.779114",
     "exception": false,
     "start_time": "2022-02-18T20:10:16.536594",
     "status": "completed"
    },
    "tags": []
   },
   "outputs": [
    {
     "data": {
      "text/plain": [
       "<matplotlib.legend.Legend at 0x7f4949b84d30>"
      ]
     },
     "execution_count": 24,
     "metadata": {},
     "output_type": "execute_result"
    },
    {
     "data": {
      "image/png": "[encoded data removed]",
      "text/plain": [
       "<Figure size 1080x720 with 1 Axes>"
      ]
     },
     "metadata": {
      "needs_background": "light"
     },
     "output_type": "display_data"
    }
   ],
   "source": [
    "#comparing the results of NN and LR\n",
    "plt.figure(figsize=(15,10))\n",
    "\n",
    "# Neural Network plots\n",
    "plt.plot(acc_nn.accuracies, 'r-', label = \"Training Accuracies - NN\")\n",
    "plt.plot(acc_nn.test_accuracies, 'g-', label = \"Testing Accuracies - NN\")\n",
    "\n",
    "# Logistic Regression plots\n",
    "plt.plot(acc_lr.accuracies, 'k-', label = \"Training Accuracies - LR\")\n",
    "plt.plot(acc_lr.test_accuracies, 'b-', label = \"Testing Accuracies - LR\")\n",
    "plt.legend()"
   ]
  },
  {
   "cell_type": "markdown",
   "id": "80dfb35c",
   "metadata": {
    "papermill": {
     "duration": 0.037126,
     "end_time": "2022-02-18T20:10:16.853403",
     "exception": false,
     "start_time": "2022-02-18T20:10:16.816277",
     "status": "completed"
    },
    "tags": []
   },
   "source": [
    "#### Plotting the outputs of this layer of the NN.\n"
   ]
  },
  {
   "cell_type": "code",
   "execution_count": 25,
   "id": "45eb2ff5",
   "metadata": {
    "execution": {
     "iopub.execute_input": "2022-02-18T20:10:16.931038Z",
     "iopub.status.busy": "2022-02-18T20:10:16.930572Z",
     "iopub.status.idle": "2022-02-18T20:10:16.951428Z",
     "shell.execute_reply": "2022-02-18T20:10:16.951809Z"
    },
    "papermill": {
     "duration": 0.061685,
     "end_time": "2022-02-18T20:10:16.951934",
     "exception": false,
     "start_time": "2022-02-18T20:10:16.890249",
     "status": "completed"
    },
    "tags": []
   },
   "outputs": [],
   "source": [
    "new_model = Model(layers[:-2])\n",
    "testing_plot = new_model(testing_data_x)"
   ]
  },
  {
   "cell_type": "code",
   "execution_count": 26,
   "id": "4c0a5485",
   "metadata": {
    "execution": {
     "iopub.execute_input": "2022-02-18T20:10:17.030200Z",
     "iopub.status.busy": "2022-02-18T20:10:17.029731Z",
     "iopub.status.idle": "2022-02-18T20:10:17.250011Z",
     "shell.execute_reply": "2022-02-18T20:10:17.250430Z"
    },
    "papermill": {
     "duration": 0.261544,
     "end_time": "2022-02-18T20:10:17.250573",
     "exception": false,
     "start_time": "2022-02-18T20:10:16.989029",
     "status": "completed"
    },
    "tags": []
   },
   "outputs": [
    {
     "data": {
      "text/plain": [
       "Text(0.5, 1.0, 'Outputs')"
      ]
     },
     "execution_count": 26,
     "metadata": {},
     "output_type": "execute_result"
    },
    {
     "data": {
      "image/png": "[encoded data removed]",
      "text/plain": [
       "<Figure size 576x504 with 1 Axes>"
      ]
     },
     "metadata": {
      "needs_background": "light"
     },
     "output_type": "display_data"
    }
   ],
   "source": [
    "# Plotting the scatter plot of points and color coding by class\n",
    "plt.figure(figsize=(8,7))\n",
    "plt.scatter(testing_plot[:,0], testing_plot[:,1], alpha = 0.1, c = y_test.ravel());\n",
    "plt.title('Outputs')"
   ]
  },
  {
   "cell_type": "markdown",
   "id": "a74fcf8f",
   "metadata": {
    "papermill": {
     "duration": 0.044735,
     "end_time": "2022-02-18T20:10:17.339932",
     "exception": false,
     "start_time": "2022-02-18T20:10:17.295197",
     "status": "completed"
    },
    "tags": []
   },
   "source": [
    "Probability contours"
   ]
  },
  {
   "cell_type": "code",
   "execution_count": 27,
   "id": "d0afc8e3",
   "metadata": {
    "execution": {
     "iopub.execute_input": "2022-02-18T20:10:17.436091Z",
     "iopub.status.busy": "2022-02-18T20:10:17.435114Z",
     "iopub.status.idle": "2022-02-18T20:10:17.445652Z",
     "shell.execute_reply": "2022-02-18T20:10:17.445232Z"
    },
    "papermill": {
     "duration": 0.061082,
     "end_time": "2022-02-18T20:10:17.445758",
     "exception": false,
     "start_time": "2022-02-18T20:10:17.384676",
     "status": "completed"
    },
    "tags": []
   },
   "outputs": [],
   "source": [
    "model_prob = Model(layers[-2:]) "
   ]
  },
  {
   "cell_type": "code",
   "execution_count": 28,
   "id": "9b96e238",
   "metadata": {
    "execution": {
     "iopub.execute_input": "2022-02-18T20:10:17.546081Z",
     "iopub.status.busy": "2022-02-18T20:10:17.530326Z",
     "iopub.status.idle": "2022-02-18T20:10:17.550930Z",
     "shell.execute_reply": "2022-02-18T20:10:17.550474Z"
    },
    "papermill": {
     "duration": 0.065471,
     "end_time": "2022-02-18T20:10:17.551034",
     "exception": false,
     "start_time": "2022-02-18T20:10:17.485563",
     "status": "completed"
    },
    "tags": []
   },
   "outputs": [],
   "source": [
    "#creating the x and y ranges according to the above generated plot.\n",
    "x_range = np.linspace(-4, 1, 100) \n",
    "y_range = np.linspace(-6, 6, 100) \n",
    "x_grid, y_grid = np.meshgrid(x_range, y_range) # x_grid and y_grig are of size 100 X 100\n",
    "\n",
    "# converting x_grid and y_grid to continuous arrays\n",
    "x_gridflat = np.ravel(x_grid)\n",
    "y_gridflat = np.ravel(y_grid)\n",
    "\n",
    "# The last layer of the current model takes two columns as input. Hence transpose of np.vstack() is required.\n",
    "X = np.vstack((x_gridflat, y_gridflat)).T\n",
    "\n",
    "prob_contour = model_prob(X).reshape(100,100) "
   ]
  },
  {
   "cell_type": "code",
   "execution_count": 29,
   "id": "da72499a",
   "metadata": {
    "execution": {
     "iopub.execute_input": "2022-02-18T20:10:17.665368Z",
     "iopub.status.busy": "2022-02-18T20:10:17.664903Z",
     "iopub.status.idle": "2022-02-18T20:10:17.908707Z",
     "shell.execute_reply": "2022-02-18T20:10:17.909059Z"
    },
    "papermill": {
     "duration": 0.31825,
     "end_time": "2022-02-18T20:10:17.909192",
     "exception": false,
     "start_time": "2022-02-18T20:10:17.590942",
     "status": "completed"
    },
    "tags": []
   },
   "outputs": [
    {
     "data": {
      "image/png": "[encoded data removed]",
      "text/plain": [
       "<Figure size 720x648 with 1 Axes>"
      ]
     },
     "metadata": {
      "needs_background": "light"
     },
     "output_type": "display_data"
    }
   ],
   "source": [
    "plt.figure(figsize=(10,9))\n",
    "plt.scatter(testing_plot[:,0], testing_plot[:,1], alpha = 0.1, c = y_test.ravel())\n",
    "contours = plt.contour(x_grid,y_grid,prob_contour)\n",
    "plt.title('Probability Contours')\n",
    "plt.clabel(contours, inline = True );"
   ]
  },
  {
   "cell_type": "code",
   "execution_count": null,
   "id": "e81b4ac7",
   "metadata": {
    "papermill": {
     "duration": 0.041423,
     "end_time": "2022-02-18T20:10:17.992455",
     "exception": false,
     "start_time": "2022-02-18T20:10:17.951032",
     "status": "completed"
    },
    "tags": []
   },
   "outputs": [],
   "source": []
  }
 ],
 "metadata": {
  "kernelspec": {
   "display_name": "Python 3",
   "language": "python",
   "name": "python3"
  },
  "language_info": {
   "codemirror_mode": {
    "name": "ipython",
    "version": 3
   },
   "file_extension": ".py",
   "mimetype": "text/x-python",
   "name": "python",
   "nbconvert_exporter": "python",
   "pygments_lexer": "ipython3",
   "version": "3.6.15"
  },
  "papermill": {
   "default_parameters": {},
   "duration": 101.913642,
   "end_time": "2022-02-18T20:10:18.451632",
   "environment_variables": {},
   "exception": null,
   "input_path": "2020-08-11-part2.ipynb",
   "output_path": "2020-08-11-part2.ipynb",
   "parameters": {},
   "start_time": "2022-02-18T20:08:36.537990",
   "version": "2.3.3"
  }
 },
 "nbformat": 4,
 "nbformat_minor": 5
}