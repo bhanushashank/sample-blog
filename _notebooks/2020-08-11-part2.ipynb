{
 "cells": [
  {
   "cell_type": "markdown",
   "id": "98380cd3",
   "metadata": {
    "papermill": {
     "duration": 0.032192,
     "end_time": "2022-01-25T00:25:22.815121",
     "exception": false,
     "start_time": "2022-01-25T00:25:22.782929",
     "status": "completed"
    },
    "tags": []
   },
   "source": [
    "# Distinguish Your Own Digits (DYOD)"
   ]
  },
  {
   "cell_type": "markdown",
   "id": "ef31240d",
   "metadata": {
    "papermill": {
     "duration": 0.022822,
     "end_time": "2022-01-25T00:25:22.863523",
     "exception": false,
     "start_time": "2022-01-25T00:25:22.840701",
     "status": "completed"
    },
    "tags": []
   },
   "source": [
    "You are going to write a classifier that distinguishes between the number 3 and number 8."
   ]
  },
  {
   "cell_type": "code",
   "execution_count": 1,
   "id": "b15c8646",
   "metadata": {
    "execution": {
     "iopub.execute_input": "2022-01-25T00:25:22.918038Z",
     "iopub.status.busy": "2022-01-25T00:25:22.917592Z",
     "iopub.status.idle": "2022-01-25T00:25:22.926941Z",
     "shell.execute_reply": "2022-01-25T00:25:22.927399Z"
    },
    "papermill": {
     "duration": 0.043165,
     "end_time": "2022-01-25T00:25:22.927546",
     "exception": false,
     "start_time": "2022-01-25T00:25:22.884381",
     "status": "completed"
    },
    "tags": []
   },
   "outputs": [],
   "source": [
    "%load_ext autoreload\n",
    "%autoreload 2"
   ]
  },
  {
   "cell_type": "code",
   "execution_count": 2,
   "id": "22ef38dc",
   "metadata": {
    "execution": {
     "iopub.execute_input": "2022-01-25T00:25:22.976071Z",
     "iopub.status.busy": "2022-01-25T00:25:22.975347Z",
     "iopub.status.idle": "2022-01-25T00:25:23.527737Z",
     "shell.execute_reply": "2022-01-25T00:25:23.528304Z"
    },
    "papermill": {
     "duration": 0.57909,
     "end_time": "2022-01-25T00:25:23.528488",
     "exception": false,
     "start_time": "2022-01-25T00:25:22.949398",
     "status": "completed"
    },
    "tags": []
   },
   "outputs": [],
   "source": [
    "%matplotlib inline\n",
    "import numpy as np\n",
    "import matplotlib.pyplot as plt\n",
    "import pandas as pd"
   ]
  },
  {
   "cell_type": "markdown",
   "id": "ba036198",
   "metadata": {
    "papermill": {
     "duration": 0.021496,
     "end_time": "2022-01-25T00:25:23.574890",
     "exception": false,
     "start_time": "2022-01-25T00:25:23.553394",
     "status": "completed"
    },
    "tags": []
   },
   "source": [
    "From the command line run `pip install mnist`. This is a library that will help you bring down the mnist dataset. If you run this from a notebook, you need to put  `!pip install mnist` in a cell by itself."
   ]
  },
  {
   "cell_type": "code",
   "execution_count": 3,
   "id": "bb6ad8a1",
   "metadata": {
    "execution": {
     "iopub.execute_input": "2022-01-25T00:25:23.623840Z",
     "iopub.status.busy": "2022-01-25T00:25:23.623402Z",
     "iopub.status.idle": "2022-01-25T00:25:26.043627Z",
     "shell.execute_reply": "2022-01-25T00:25:26.042463Z"
    },
    "papermill": {
     "duration": 2.447592,
     "end_time": "2022-01-25T00:25:26.043800",
     "exception": false,
     "start_time": "2022-01-25T00:25:23.596208",
     "status": "completed"
    },
    "tags": []
   },
   "outputs": [
    {
     "name": "stdout",
     "output_type": "stream",
     "text": [
      "Collecting mnist\r\n"
     ]
    },
    {
     "name": "stdout",
     "output_type": "stream",
     "text": [
      "  Downloading mnist-0.2.2-py2.py3-none-any.whl (3.5 kB)\r\n",
      "Requirement already satisfied: numpy in /opt/hostedtoolcache/Python/3.6.15/x64/lib/python3.6/site-packages (from mnist) (1.19.5)\r\n"
     ]
    },
    {
     "name": "stdout",
     "output_type": "stream",
     "text": [
      "Installing collected packages: mnist\r\n"
     ]
    },
    {
     "name": "stdout",
     "output_type": "stream",
     "text": [
      "Successfully installed mnist-0.2.2\r\n"
     ]
    }
   ],
   "source": [
    "!pip install mnist"
   ]
  },
  {
   "cell_type": "markdown",
   "id": "69df9c9a",
   "metadata": {
    "papermill": {
     "duration": 0.024585,
     "end_time": "2022-01-25T00:25:26.094248",
     "exception": false,
     "start_time": "2022-01-25T00:25:26.069663",
     "status": "completed"
    },
    "tags": []
   },
   "source": [
    "## Preparing the Data"
   ]
  },
  {
   "cell_type": "code",
   "execution_count": 4,
   "id": "7f69d806",
   "metadata": {
    "execution": {
     "iopub.execute_input": "2022-01-25T00:25:26.147445Z",
     "iopub.status.busy": "2022-01-25T00:25:26.146829Z",
     "iopub.status.idle": "2022-01-25T00:25:26.161331Z",
     "shell.execute_reply": "2022-01-25T00:25:26.160980Z"
    },
    "papermill": {
     "duration": 0.041164,
     "end_time": "2022-01-25T00:25:26.161423",
     "exception": false,
     "start_time": "2022-01-25T00:25:26.120259",
     "status": "completed"
    },
    "tags": []
   },
   "outputs": [],
   "source": [
    "import mnist"
   ]
  },
  {
   "cell_type": "code",
   "execution_count": 5,
   "id": "a411e44f",
   "metadata": {
    "execution": {
     "iopub.execute_input": "2022-01-25T00:25:26.213597Z",
     "iopub.status.busy": "2022-01-25T00:25:26.213076Z",
     "iopub.status.idle": "2022-01-25T00:25:26.705814Z",
     "shell.execute_reply": "2022-01-25T00:25:26.705180Z"
    },
    "papermill": {
     "duration": 0.521148,
     "end_time": "2022-01-25T00:25:26.705952",
     "exception": false,
     "start_time": "2022-01-25T00:25:26.184804",
     "status": "completed"
    },
    "tags": []
   },
   "outputs": [],
   "source": [
    "train_images = mnist.train_images()\n",
    "train_labels = mnist.train_labels()"
   ]
  },
  {
   "cell_type": "code",
   "execution_count": 6,
   "id": "dceab3a5",
   "metadata": {
    "execution": {
     "iopub.execute_input": "2022-01-25T00:25:26.757508Z",
     "iopub.status.busy": "2022-01-25T00:25:26.756994Z",
     "iopub.status.idle": "2022-01-25T00:25:26.770105Z",
     "shell.execute_reply": "2022-01-25T00:25:26.769741Z"
    },
    "papermill": {
     "duration": 0.038712,
     "end_time": "2022-01-25T00:25:26.770196",
     "exception": false,
     "start_time": "2022-01-25T00:25:26.731484",
     "status": "completed"
    },
    "tags": []
   },
   "outputs": [
    {
     "data": {
      "text/plain": [
       "((60000, 28, 28), (60000,))"
      ]
     },
     "execution_count": 6,
     "metadata": {},
     "output_type": "execute_result"
    }
   ],
   "source": [
    "train_images.shape, train_labels.shape"
   ]
  },
  {
   "cell_type": "code",
   "execution_count": 7,
   "id": "f50dc2bb",
   "metadata": {
    "execution": {
     "iopub.execute_input": "2022-01-25T00:25:26.820887Z",
     "iopub.status.busy": "2022-01-25T00:25:26.820335Z",
     "iopub.status.idle": "2022-01-25T00:25:26.927934Z",
     "shell.execute_reply": "2022-01-25T00:25:26.927333Z"
    },
    "papermill": {
     "duration": 0.135129,
     "end_time": "2022-01-25T00:25:26.928088",
     "exception": false,
     "start_time": "2022-01-25T00:25:26.792959",
     "status": "completed"
    },
    "tags": []
   },
   "outputs": [],
   "source": [
    "test_images = mnist.test_images()\n",
    "test_labels = mnist.test_labels()"
   ]
  },
  {
   "cell_type": "code",
   "execution_count": 8,
   "id": "fc38cf1b",
   "metadata": {
    "execution": {
     "iopub.execute_input": "2022-01-25T00:25:26.978420Z",
     "iopub.status.busy": "2022-01-25T00:25:26.977934Z",
     "iopub.status.idle": "2022-01-25T00:25:26.989910Z",
     "shell.execute_reply": "2022-01-25T00:25:26.990298Z"
    },
    "papermill": {
     "duration": 0.039091,
     "end_time": "2022-01-25T00:25:26.990402",
     "exception": false,
     "start_time": "2022-01-25T00:25:26.951311",
     "status": "completed"
    },
    "tags": []
   },
   "outputs": [
    {
     "data": {
      "text/plain": [
       "((10000, 28, 28), (10000,))"
      ]
     },
     "execution_count": 8,
     "metadata": {},
     "output_type": "execute_result"
    }
   ],
   "source": [
    "test_images.shape, test_labels.shape"
   ]
  },
  {
   "cell_type": "code",
   "execution_count": 9,
   "id": "f9ed8fe0",
   "metadata": {
    "execution": {
     "iopub.execute_input": "2022-01-25T00:25:27.040345Z",
     "iopub.status.busy": "2022-01-25T00:25:27.039908Z",
     "iopub.status.idle": "2022-01-25T00:25:27.163010Z",
     "shell.execute_reply": "2022-01-25T00:25:27.163361Z"
    },
    "papermill": {
     "duration": 0.150201,
     "end_time": "2022-01-25T00:25:27.163474",
     "exception": false,
     "start_time": "2022-01-25T00:25:27.013273",
     "status": "completed"
    },
    "tags": []
   },
   "outputs": [
    {
     "name": "stdout",
     "output_type": "stream",
     "text": [
      "2\n"
     ]
    },
    {
     "data": {
      "text/plain": [
       "<matplotlib.image.AxesImage at 0x7f8e57926a58>"
      ]
     },
     "execution_count": 9,
     "metadata": {},
     "output_type": "execute_result"
    },
    {
     "data": {
      "image/png": "[encoded data removed]",
      "text/plain": [
       "<Figure size 432x288 with 1 Axes>"
      ]
     },
     "metadata": {
      "needs_background": "light"
     },
     "output_type": "display_data"
    }
   ],
   "source": [
    "image_index = 7776 # You may select anything up to 60,000\n",
    "print(train_labels[image_index]) \n",
    "plt.imshow(train_images[image_index], cmap='Greys')"
   ]
  },
  {
   "cell_type": "markdown",
   "id": "a8d2388d",
   "metadata": {
    "papermill": {
     "duration": 0.026625,
     "end_time": "2022-01-25T00:25:27.214256",
     "exception": false,
     "start_time": "2022-01-25T00:25:27.187631",
     "status": "completed"
    },
    "tags": []
   },
   "source": [
    "## Filter data to get 3 and 8 out"
   ]
  },
  {
   "cell_type": "code",
   "execution_count": 10,
   "id": "776f7fc7",
   "metadata": {
    "execution": {
     "iopub.execute_input": "2022-01-25T00:25:27.271360Z",
     "iopub.status.busy": "2022-01-25T00:25:27.270750Z",
     "iopub.status.idle": "2022-01-25T00:25:27.288456Z",
     "shell.execute_reply": "2022-01-25T00:25:27.287993Z"
    },
    "papermill": {
     "duration": 0.048167,
     "end_time": "2022-01-25T00:25:27.288576",
     "exception": false,
     "start_time": "2022-01-25T00:25:27.240409",
     "status": "completed"
    },
    "tags": []
   },
   "outputs": [],
   "source": [
    "train_filter = np.where((train_labels == 3 ) | (train_labels == 8))\n",
    "test_filter = np.where((test_labels == 3) | (test_labels == 8))\n",
    "X_train, y_train = train_images[train_filter], train_labels[train_filter]\n",
    "X_test, y_test = test_images[test_filter], test_labels[test_filter]"
   ]
  },
  {
   "cell_type": "markdown",
   "id": "948f0b7e",
   "metadata": {
    "papermill": {
     "duration": 0.023122,
     "end_time": "2022-01-25T00:25:27.336350",
     "exception": false,
     "start_time": "2022-01-25T00:25:27.313228",
     "status": "completed"
    },
    "tags": []
   },
   "source": [
    "We normalize the pizel values in the 0 to 1 range"
   ]
  },
  {
   "cell_type": "code",
   "execution_count": 11,
   "id": "ee4c2166",
   "metadata": {
    "execution": {
     "iopub.execute_input": "2022-01-25T00:25:27.391734Z",
     "iopub.status.busy": "2022-01-25T00:25:27.391190Z",
     "iopub.status.idle": "2022-01-25T00:25:27.439345Z",
     "shell.execute_reply": "2022-01-25T00:25:27.438714Z"
    },
    "papermill": {
     "duration": 0.080191,
     "end_time": "2022-01-25T00:25:27.439496",
     "exception": false,
     "start_time": "2022-01-25T00:25:27.359305",
     "status": "completed"
    },
    "tags": []
   },
   "outputs": [],
   "source": [
    "X_train = X_train/255.\n",
    "X_test = X_test/255."
   ]
  },
  {
   "cell_type": "markdown",
   "id": "ddcf4fab",
   "metadata": {
    "papermill": {
     "duration": 0.024017,
     "end_time": "2022-01-25T00:25:27.488780",
     "exception": false,
     "start_time": "2022-01-25T00:25:27.464763",
     "status": "completed"
    },
    "tags": []
   },
   "source": [
    "And setup the labels as 1 (when the digit is 3) and 0 (when the digit is 8)"
   ]
  },
  {
   "cell_type": "code",
   "execution_count": 12,
   "id": "7dc908f2",
   "metadata": {
    "execution": {
     "iopub.execute_input": "2022-01-25T00:25:27.543632Z",
     "iopub.status.busy": "2022-01-25T00:25:27.543027Z",
     "iopub.status.idle": "2022-01-25T00:25:27.555783Z",
     "shell.execute_reply": "2022-01-25T00:25:27.555378Z"
    },
    "papermill": {
     "duration": 0.043326,
     "end_time": "2022-01-25T00:25:27.555874",
     "exception": false,
     "start_time": "2022-01-25T00:25:27.512548",
     "status": "completed"
    },
    "tags": []
   },
   "outputs": [],
   "source": [
    "y_train = 1*(y_train==3)\n",
    "y_test = 1*(y_test==3)"
   ]
  },
  {
   "cell_type": "code",
   "execution_count": 13,
   "id": "01e4e969",
   "metadata": {
    "execution": {
     "iopub.execute_input": "2022-01-25T00:25:27.608077Z",
     "iopub.status.busy": "2022-01-25T00:25:27.607588Z",
     "iopub.status.idle": "2022-01-25T00:25:27.619617Z",
     "shell.execute_reply": "2022-01-25T00:25:27.619208Z"
    },
    "papermill": {
     "duration": 0.038808,
     "end_time": "2022-01-25T00:25:27.619715",
     "exception": false,
     "start_time": "2022-01-25T00:25:27.580907",
     "status": "completed"
    },
    "tags": []
   },
   "outputs": [
    {
     "data": {
      "text/plain": [
       "((11982, 28, 28), (1984, 28, 28))"
      ]
     },
     "execution_count": 13,
     "metadata": {},
     "output_type": "execute_result"
    }
   ],
   "source": [
    "X_train.shape, X_test.shape"
   ]
  },
  {
   "cell_type": "markdown",
   "id": "5ccf3f85",
   "metadata": {
    "papermill": {
     "duration": 0.024041,
     "end_time": "2022-01-25T00:25:27.666326",
     "exception": false,
     "start_time": "2022-01-25T00:25:27.642285",
     "status": "completed"
    },
    "tags": []
   },
   "source": [
    "We reshape the data to flatten the image pixels into a set of features or co-variates:"
   ]
  },
  {
   "cell_type": "code",
   "execution_count": 14,
   "id": "5286a4a3",
   "metadata": {
    "execution": {
     "iopub.execute_input": "2022-01-25T00:25:27.721841Z",
     "iopub.status.busy": "2022-01-25T00:25:27.720450Z",
     "iopub.status.idle": "2022-01-25T00:25:27.732050Z",
     "shell.execute_reply": "2022-01-25T00:25:27.732364Z"
    },
    "papermill": {
     "duration": 0.042578,
     "end_time": "2022-01-25T00:25:27.732467",
     "exception": false,
     "start_time": "2022-01-25T00:25:27.689889",
     "status": "completed"
    },
    "tags": []
   },
   "outputs": [
    {
     "data": {
      "text/plain": [
       "((11982, 784), (1984, 784))"
      ]
     },
     "execution_count": 14,
     "metadata": {},
     "output_type": "execute_result"
    }
   ],
   "source": [
    "X_train = X_train.reshape(X_train.shape[0], -1)\n",
    "X_test = X_test.reshape(X_test.shape[0], -1)\n",
    "X_train.shape, X_test.shape"
   ]
  },
  {
   "cell_type": "code",
   "execution_count": 15,
   "id": "73c5f88a",
   "metadata": {
    "execution": {
     "iopub.execute_input": "2022-01-25T00:25:27.785023Z",
     "iopub.status.busy": "2022-01-25T00:25:27.784542Z",
     "iopub.status.idle": "2022-01-25T00:25:27.803450Z",
     "shell.execute_reply": "2022-01-25T00:25:27.803981Z"
    },
    "papermill": {
     "duration": 0.048963,
     "end_time": "2022-01-25T00:25:27.804135",
     "exception": false,
     "start_time": "2022-01-25T00:25:27.755172",
     "status": "completed"
    },
    "tags": []
   },
   "outputs": [],
   "source": [
    "#Impoting functions from 'Kudzu'\n",
    "from kudzu.model import Model\n",
    "from kudzu.train import Learner\n",
    "from kudzu.optim import GD\n",
    "from kudzu.data import Data, Sampler,Dataloader\n",
    "\n",
    "from kudzu.callbacks import AccCallback\n",
    "from kudzu.callbacks import ClfCallback\n",
    "\n",
    "from kudzu.loss import MSE\n",
    "\n",
    "from kudzu.layer import Sigmoid,Relu\n",
    "from kudzu.layer import Affine"
   ]
  },
  {
   "cell_type": "markdown",
   "id": "bc01172a",
   "metadata": {
    "papermill": {
     "duration": 0.026475,
     "end_time": "2022-01-25T00:25:27.857632",
     "exception": false,
     "start_time": "2022-01-25T00:25:27.831157",
     "status": "completed"
    },
    "tags": []
   },
   "source": [
    "### Let us create a `Config` class, to store important parameters. \n",
    "This class essentially plays the role of a dictionary."
   ]
  },
  {
   "cell_type": "code",
   "execution_count": 16,
   "id": "978281aa",
   "metadata": {
    "execution": {
     "iopub.execute_input": "2022-01-25T00:25:27.921986Z",
     "iopub.status.busy": "2022-01-25T00:25:27.921373Z",
     "iopub.status.idle": "2022-01-25T00:25:27.931186Z",
     "shell.execute_reply": "2022-01-25T00:25:27.930736Z"
    },
    "papermill": {
     "duration": 0.048545,
     "end_time": "2022-01-25T00:25:27.931283",
     "exception": false,
     "start_time": "2022-01-25T00:25:27.882738",
     "status": "completed"
    },
    "tags": []
   },
   "outputs": [],
   "source": [
    "class Config:\n",
    "    pass\n",
    "config = Config()\n",
    "config.lr = 0.001\n",
    "config.num_epochs = 250\n",
    "config.bs = 50"
   ]
  },
  {
   "cell_type": "markdown",
   "id": "1385fa59",
   "metadata": {
    "papermill": {
     "duration": 0.029565,
     "end_time": "2022-01-25T00:25:27.985112",
     "exception": false,
     "start_time": "2022-01-25T00:25:27.955547",
     "status": "completed"
    },
    "tags": []
   },
   "source": [
    "### Running Models with the Training data\n",
    "Details about the network layers:\n",
    "- A first affine layer has 784 inputs and does 100 affine transforms. These are followed by a Relu\n",
    "- A second affine layer has 100 inputs from the 100 activations of the past layer, and does 100 affine transforms. These are followed by a Relu\n",
    "- A third affine layer has 100 activations and does 2 affine transformations to create an embedding for visualization. There is no non-linearity here.\n",
    "- A final \"logistic regression\" which has an affine transform from 2 inputs to 1 output, which is squeezed through a sigmoid.\n"
   ]
  },
  {
   "cell_type": "code",
   "execution_count": 17,
   "id": "2b9c66db",
   "metadata": {
    "execution": {
     "iopub.execute_input": "2022-01-25T00:25:28.052365Z",
     "iopub.status.busy": "2022-01-25T00:25:28.051780Z",
     "iopub.status.idle": "2022-01-25T00:25:28.063704Z",
     "shell.execute_reply": "2022-01-25T00:25:28.063293Z"
    },
    "papermill": {
     "duration": 0.048872,
     "end_time": "2022-01-25T00:25:28.063805",
     "exception": false,
     "start_time": "2022-01-25T00:25:28.014933",
     "status": "completed"
    },
    "tags": []
   },
   "outputs": [],
   "source": [
    "data = Data(X_train, y_train.reshape(-1,1))\n",
    "sampler = Sampler(data, config.bs, shuffle=True)\n",
    "\n",
    "dl = Dataloader(data, sampler)\n",
    "\n",
    "opt = GD(config.lr)\n",
    "loss = MSE()"
   ]
  },
  {
   "cell_type": "code",
   "execution_count": 18,
   "id": "b275e4c2",
   "metadata": {
    "execution": {
     "iopub.execute_input": "2022-01-25T00:25:28.125112Z",
     "iopub.status.busy": "2022-01-25T00:25:28.124527Z",
     "iopub.status.idle": "2022-01-25T00:25:28.136949Z",
     "shell.execute_reply": "2022-01-25T00:25:28.136468Z"
    },
    "papermill": {
     "duration": 0.044232,
     "end_time": "2022-01-25T00:25:28.137051",
     "exception": false,
     "start_time": "2022-01-25T00:25:28.092819",
     "status": "completed"
    },
    "tags": []
   },
   "outputs": [],
   "source": [
    "training_data_x = X_train\n",
    "testing_data_x = X_test\n",
    "training_data_y = y_train.reshape(-1,1)\n",
    "testing_data_y = y_test.reshape(-1,1)"
   ]
  },
  {
   "cell_type": "code",
   "execution_count": 19,
   "id": "76951160",
   "metadata": {
    "execution": {
     "iopub.execute_input": "2022-01-25T00:25:28.196565Z",
     "iopub.status.busy": "2022-01-25T00:25:28.195979Z",
     "iopub.status.idle": "2022-01-25T00:25:28.211627Z",
     "shell.execute_reply": "2022-01-25T00:25:28.211141Z"
    },
    "papermill": {
     "duration": 0.04827,
     "end_time": "2022-01-25T00:25:28.211751",
     "exception": false,
     "start_time": "2022-01-25T00:25:28.163481",
     "status": "completed"
    },
    "tags": []
   },
   "outputs": [
    {
     "name": "stdout",
     "output_type": "stream",
     "text": [
      "xavier\n",
      "xavier\n",
      "xavier\n",
      "xavier\n",
      "xavier\n"
     ]
    }
   ],
   "source": [
    "layers = [Affine(\"first\", 784, 100), Relu(\"first\"), Affine(\"second\", 100, 100), Relu(\"second\"), Affine(\"third\", 100, 2), Affine(\"last\", 2, 1), Sigmoid(\"last\")]\n",
    "model_nn = Model(layers)\n",
    "model_lr = Model([Affine(\"logits\", 784, 1), Sigmoid(\"sigmoid\")])"
   ]
  },
  {
   "cell_type": "code",
   "execution_count": 20,
   "id": "6eede77a",
   "metadata": {
    "execution": {
     "iopub.execute_input": "2022-01-25T00:25:28.263988Z",
     "iopub.status.busy": "2022-01-25T00:25:28.263511Z",
     "iopub.status.idle": "2022-01-25T00:25:28.275309Z",
     "shell.execute_reply": "2022-01-25T00:25:28.274874Z"
    },
    "papermill": {
     "duration": 0.039029,
     "end_time": "2022-01-25T00:25:28.275417",
     "exception": false,
     "start_time": "2022-01-25T00:25:28.236388",
     "status": "completed"
    },
    "tags": []
   },
   "outputs": [],
   "source": [
    "nn_learner = Learner(loss, model_nn, opt, config.num_epochs)\n",
    "acc_nn = ClfCallback(nn_learner, config.bs, training_data_x , testing_data_x, training_data_y, testing_data_y)\n",
    "nn_learner.set_callbacks([acc_nn])"
   ]
  },
  {
   "cell_type": "code",
   "execution_count": 21,
   "id": "877b6cc7",
   "metadata": {
    "execution": {
     "iopub.execute_input": "2022-01-25T00:25:28.329922Z",
     "iopub.status.busy": "2022-01-25T00:25:28.329403Z",
     "iopub.status.idle": "2022-01-25T00:25:28.341551Z",
     "shell.execute_reply": "2022-01-25T00:25:28.341148Z"
    },
    "papermill": {
     "duration": 0.041633,
     "end_time": "2022-01-25T00:25:28.341653",
     "exception": false,
     "start_time": "2022-01-25T00:25:28.300020",
     "status": "completed"
    },
    "tags": []
   },
   "outputs": [],
   "source": [
    "lr_learner = Learner(loss, model_lr, opt, config.num_epochs)\n",
    "acc_lr = ClfCallback(lr_learner, config.bs, training_data_x , testing_data_x, training_data_y, testing_data_y)\n",
    "lr_learner.set_callbacks([acc_lr])"
   ]
  },
  {
   "cell_type": "code",
   "execution_count": 22,
   "id": "d9b133c3",
   "metadata": {
    "execution": {
     "iopub.execute_input": "2022-01-25T00:25:28.392949Z",
     "iopub.status.busy": "2022-01-25T00:25:28.392471Z",
     "iopub.status.idle": "2022-01-25T00:26:45.657437Z",
     "shell.execute_reply": "2022-01-25T00:26:45.658104Z"
    },
    "papermill": {
     "duration": 77.292437,
     "end_time": "2022-01-25T00:26:45.658234",
     "exception": false,
     "start_time": "2022-01-25T00:25:28.365797",
     "status": "completed"
    },
    "tags": []
   },
   "outputs": [
    {
     "name": "stdout",
     "output_type": "stream",
     "text": [
      "Epoch 0, Loss 0.2471\n",
      "Training Accuracy: 0.6167, Testing Accuracy: 0.6230\n",
      "\n"
     ]
    },
    {
     "name": "stdout",
     "output_type": "stream",
     "text": [
      "Epoch 10, Loss 0.1296\n",
      "Training Accuracy: 0.8878, Testing Accuracy: 0.9022\n",
      "\n"
     ]
    },
    {
     "name": "stdout",
     "output_type": "stream",
     "text": [
      "Epoch 20, Loss 0.0706\n",
      "Training Accuracy: 0.9281, Testing Accuracy: 0.9390\n",
      "\n"
     ]
    },
    {
     "name": "stdout",
     "output_type": "stream",
     "text": [
      "Epoch 30, Loss 0.0511\n",
      "Training Accuracy: 0.9437, Testing Accuracy: 0.9511\n",
      "\n"
     ]
    },
    {
     "name": "stdout",
     "output_type": "stream",
     "text": [
      "Epoch 40, Loss 0.0424\n",
      "Training Accuracy: 0.9516, Testing Accuracy: 0.9582\n",
      "\n"
     ]
    },
    {
     "name": "stdout",
     "output_type": "stream",
     "text": [
      "Epoch 50, Loss 0.0375\n",
      "Training Accuracy: 0.9561, Testing Accuracy: 0.9657\n",
      "\n"
     ]
    },
    {
     "name": "stdout",
     "output_type": "stream",
     "text": [
      "Epoch 60, Loss 0.0343\n",
      "Training Accuracy: 0.9590, Testing Accuracy: 0.9662\n",
      "\n"
     ]
    },
    {
     "name": "stdout",
     "output_type": "stream",
     "text": [
      "Epoch 70, Loss 0.0321\n",
      "Training Accuracy: 0.9621, Testing Accuracy: 0.9688\n",
      "\n"
     ]
    },
    {
     "name": "stdout",
     "output_type": "stream",
     "text": [
      "Epoch 80, Loss 0.0303\n",
      "Training Accuracy: 0.9631, Testing Accuracy: 0.9698\n",
      "\n"
     ]
    },
    {
     "name": "stdout",
     "output_type": "stream",
     "text": [
      "Epoch 90, Loss 0.0289\n",
      "Training Accuracy: 0.9644, Testing Accuracy: 0.9713\n",
      "\n"
     ]
    },
    {
     "name": "stdout",
     "output_type": "stream",
     "text": [
      "Epoch 100, Loss 0.0278\n",
      "Training Accuracy: 0.9661, Testing Accuracy: 0.9713\n",
      "\n"
     ]
    },
    {
     "name": "stdout",
     "output_type": "stream",
     "text": [
      "Epoch 110, Loss 0.0268\n",
      "Training Accuracy: 0.9676, Testing Accuracy: 0.9713\n",
      "\n"
     ]
    },
    {
     "name": "stdout",
     "output_type": "stream",
     "text": [
      "Epoch 120, Loss 0.0259\n",
      "Training Accuracy: 0.9689, Testing Accuracy: 0.9723\n",
      "\n"
     ]
    },
    {
     "name": "stdout",
     "output_type": "stream",
     "text": [
      "Epoch 130, Loss 0.0251\n",
      "Training Accuracy: 0.9702, Testing Accuracy: 0.9728\n",
      "\n"
     ]
    },
    {
     "name": "stdout",
     "output_type": "stream",
     "text": [
      "Epoch 140, Loss 0.0244\n",
      "Training Accuracy: 0.9709, Testing Accuracy: 0.9723\n",
      "\n"
     ]
    },
    {
     "name": "stdout",
     "output_type": "stream",
     "text": [
      "Epoch 150, Loss 0.0238\n",
      "Training Accuracy: 0.9716, Testing Accuracy: 0.9723\n",
      "\n"
     ]
    },
    {
     "name": "stdout",
     "output_type": "stream",
     "text": [
      "Epoch 160, Loss 0.0232\n",
      "Training Accuracy: 0.9725, Testing Accuracy: 0.9723\n",
      "\n"
     ]
    },
    {
     "name": "stdout",
     "output_type": "stream",
     "text": [
      "Epoch 170, Loss 0.0226\n",
      "Training Accuracy: 0.9732, Testing Accuracy: 0.9723\n",
      "\n"
     ]
    },
    {
     "name": "stdout",
     "output_type": "stream",
     "text": [
      "Epoch 180, Loss 0.0221\n",
      "Training Accuracy: 0.9743, Testing Accuracy: 0.9723\n",
      "\n"
     ]
    },
    {
     "name": "stdout",
     "output_type": "stream",
     "text": [
      "Epoch 190, Loss 0.0216\n",
      "Training Accuracy: 0.9751, Testing Accuracy: 0.9723\n",
      "\n"
     ]
    },
    {
     "name": "stdout",
     "output_type": "stream",
     "text": [
      "Epoch 200, Loss 0.0211\n",
      "Training Accuracy: 0.9757, Testing Accuracy: 0.9728\n",
      "\n"
     ]
    },
    {
     "name": "stdout",
     "output_type": "stream",
     "text": [
      "Epoch 210, Loss 0.0207\n",
      "Training Accuracy: 0.9762, Testing Accuracy: 0.9733\n",
      "\n"
     ]
    },
    {
     "name": "stdout",
     "output_type": "stream",
     "text": [
      "Epoch 220, Loss 0.0202\n",
      "Training Accuracy: 0.9769, Testing Accuracy: 0.9743\n",
      "\n"
     ]
    },
    {
     "name": "stdout",
     "output_type": "stream",
     "text": [
      "Epoch 230, Loss 0.0198\n",
      "Training Accuracy: 0.9770, Testing Accuracy: 0.9738\n",
      "\n"
     ]
    },
    {
     "name": "stdout",
     "output_type": "stream",
     "text": [
      "Epoch 240, Loss 0.0194\n",
      "Training Accuracy: 0.9775, Testing Accuracy: 0.9748\n",
      "\n"
     ]
    },
    {
     "data": {
      "text/plain": [
       "0.03893091507728229"
      ]
     },
     "execution_count": 22,
     "metadata": {},
     "output_type": "execute_result"
    }
   ],
   "source": [
    "nn_learner.train_loop(dl)"
   ]
  },
  {
   "cell_type": "code",
   "execution_count": 23,
   "id": "e0163366",
   "metadata": {
    "execution": {
     "iopub.execute_input": "2022-01-25T00:26:45.730635Z",
     "iopub.status.busy": "2022-01-25T00:26:45.730149Z",
     "iopub.status.idle": "2022-01-25T00:26:59.183446Z",
     "shell.execute_reply": "2022-01-25T00:26:59.184230Z"
    },
    "papermill": {
     "duration": 13.493981,
     "end_time": "2022-01-25T00:26:59.184375",
     "exception": false,
     "start_time": "2022-01-25T00:26:45.690394",
     "status": "completed"
    },
    "tags": []
   },
   "outputs": [
    {
     "name": "stdout",
     "output_type": "stream",
     "text": [
      "Epoch 0, Loss 0.245\n",
      "Training Accuracy: 0.6376, Testing Accuracy: 0.6462\n",
      "\n"
     ]
    },
    {
     "name": "stdout",
     "output_type": "stream",
     "text": [
      "Epoch 10, Loss 0.105\n",
      "Training Accuracy: 0.8996, Testing Accuracy: 0.9178\n",
      "\n"
     ]
    },
    {
     "name": "stdout",
     "output_type": "stream",
     "text": [
      "Epoch 20, Loss 0.0806\n",
      "Training Accuracy: 0.9208, Testing Accuracy: 0.9375\n",
      "\n"
     ]
    },
    {
     "name": "stdout",
     "output_type": "stream",
     "text": [
      "Epoch 30, Loss 0.0695\n",
      "Training Accuracy: 0.9321, Testing Accuracy: 0.9456\n",
      "\n"
     ]
    },
    {
     "name": "stdout",
     "output_type": "stream",
     "text": [
      "Epoch 40, Loss 0.0628\n",
      "Training Accuracy: 0.9380, Testing Accuracy: 0.9486\n",
      "\n"
     ]
    },
    {
     "name": "stdout",
     "output_type": "stream",
     "text": [
      "Epoch 50, Loss 0.0582\n",
      "Training Accuracy: 0.9417, Testing Accuracy: 0.9531\n",
      "\n"
     ]
    },
    {
     "name": "stdout",
     "output_type": "stream",
     "text": [
      "Epoch 60, Loss 0.0548\n",
      "Training Accuracy: 0.9442, Testing Accuracy: 0.9546\n",
      "\n"
     ]
    },
    {
     "name": "stdout",
     "output_type": "stream",
     "text": [
      "Epoch 70, Loss 0.0521\n",
      "Training Accuracy: 0.9476, Testing Accuracy: 0.9561\n",
      "\n"
     ]
    },
    {
     "name": "stdout",
     "output_type": "stream",
     "text": [
      "Epoch 80, Loss 0.05\n",
      "Training Accuracy: 0.9503, Testing Accuracy: 0.9577\n",
      "\n"
     ]
    },
    {
     "name": "stdout",
     "output_type": "stream",
     "text": [
      "Epoch 90, Loss 0.0483\n",
      "Training Accuracy: 0.9515, Testing Accuracy: 0.9587\n",
      "\n"
     ]
    },
    {
     "name": "stdout",
     "output_type": "stream",
     "text": [
      "Epoch 100, Loss 0.0468\n",
      "Training Accuracy: 0.9523, Testing Accuracy: 0.9617\n",
      "\n"
     ]
    },
    {
     "name": "stdout",
     "output_type": "stream",
     "text": [
      "Epoch 110, Loss 0.0455\n",
      "Training Accuracy: 0.9528, Testing Accuracy: 0.9627\n",
      "\n"
     ]
    },
    {
     "name": "stdout",
     "output_type": "stream",
     "text": [
      "Epoch 120, Loss 0.0444\n",
      "Training Accuracy: 0.9542, Testing Accuracy: 0.9642\n",
      "\n"
     ]
    },
    {
     "name": "stdout",
     "output_type": "stream",
     "text": [
      "Epoch 130, Loss 0.0435\n",
      "Training Accuracy: 0.9545, Testing Accuracy: 0.9647\n",
      "\n"
     ]
    },
    {
     "name": "stdout",
     "output_type": "stream",
     "text": [
      "Epoch 140, Loss 0.0426\n",
      "Training Accuracy: 0.9551, Testing Accuracy: 0.9647\n",
      "\n"
     ]
    },
    {
     "name": "stdout",
     "output_type": "stream",
     "text": [
      "Epoch 150, Loss 0.0418\n",
      "Training Accuracy: 0.9562, Testing Accuracy: 0.9652\n",
      "\n"
     ]
    },
    {
     "name": "stdout",
     "output_type": "stream",
     "text": [
      "Epoch 160, Loss 0.0411\n",
      "Training Accuracy: 0.9574, Testing Accuracy: 0.9652\n",
      "\n"
     ]
    },
    {
     "name": "stdout",
     "output_type": "stream",
     "text": [
      "Epoch 170, Loss 0.0405\n",
      "Training Accuracy: 0.9579, Testing Accuracy: 0.9657\n",
      "\n"
     ]
    },
    {
     "name": "stdout",
     "output_type": "stream",
     "text": [
      "Epoch 180, Loss 0.0399\n",
      "Training Accuracy: 0.9585, Testing Accuracy: 0.9657\n",
      "\n"
     ]
    },
    {
     "name": "stdout",
     "output_type": "stream",
     "text": [
      "Epoch 190, Loss 0.0393\n",
      "Training Accuracy: 0.9588, Testing Accuracy: 0.9662\n",
      "\n"
     ]
    },
    {
     "name": "stdout",
     "output_type": "stream",
     "text": [
      "Epoch 200, Loss 0.0388\n",
      "Training Accuracy: 0.9593, Testing Accuracy: 0.9667\n",
      "\n"
     ]
    },
    {
     "name": "stdout",
     "output_type": "stream",
     "text": [
      "Epoch 210, Loss 0.0384\n",
      "Training Accuracy: 0.9600, Testing Accuracy: 0.9667\n",
      "\n"
     ]
    },
    {
     "name": "stdout",
     "output_type": "stream",
     "text": [
      "Epoch 220, Loss 0.0379\n",
      "Training Accuracy: 0.9600, Testing Accuracy: 0.9667\n",
      "\n"
     ]
    },
    {
     "name": "stdout",
     "output_type": "stream",
     "text": [
      "Epoch 230, Loss 0.0375\n",
      "Training Accuracy: 0.9603, Testing Accuracy: 0.9667\n",
      "\n"
     ]
    },
    {
     "name": "stdout",
     "output_type": "stream",
     "text": [
      "Epoch 240, Loss 0.0372\n",
      "Training Accuracy: 0.9607, Testing Accuracy: 0.9667\n",
      "\n"
     ]
    },
    {
     "data": {
      "text/plain": [
       "0.04498420366522804"
      ]
     },
     "execution_count": 23,
     "metadata": {},
     "output_type": "execute_result"
    }
   ],
   "source": [
    "lr_learner.train_loop(dl)"
   ]
  },
  {
   "cell_type": "code",
   "execution_count": 24,
   "id": "ca410940",
   "metadata": {
    "execution": {
     "iopub.execute_input": "2022-01-25T00:26:59.287065Z",
     "iopub.status.busy": "2022-01-25T00:26:59.286483Z",
     "iopub.status.idle": "2022-01-25T00:26:59.553241Z",
     "shell.execute_reply": "2022-01-25T00:26:59.552619Z"
    },
    "papermill": {
     "duration": 0.322912,
     "end_time": "2022-01-25T00:26:59.553392",
     "exception": false,
     "start_time": "2022-01-25T00:26:59.230480",
     "status": "completed"
    },
    "tags": []
   },
   "outputs": [
    {
     "data": {
      "text/plain": [
       "<matplotlib.legend.Legend at 0x7f8e57480f60>"
      ]
     },
     "execution_count": 24,
     "metadata": {},
     "output_type": "execute_result"
    },
    {
     "data": {
      "image/png": "[encoded data removed]",
      "text/plain": [
       "<Figure size 1080x720 with 1 Axes>"
      ]
     },
     "metadata": {
      "needs_background": "light"
     },
     "output_type": "display_data"
    }
   ],
   "source": [
    "#comparing the results of NN and LR\n",
    "plt.figure(figsize=(15,10))\n",
    "\n",
    "# Neural Network plots\n",
    "plt.plot(acc_nn.accuracies, 'r-', label = \"Training Accuracies - NN\")\n",
    "plt.plot(acc_nn.test_accuracies, 'g-', label = \"Testing Accuracies - NN\")\n",
    "\n",
    "# Logistic Regression plots\n",
    "plt.plot(acc_lr.accuracies, 'k-', label = \"Training Accuracies - LR\")\n",
    "plt.plot(acc_lr.test_accuracies, 'b-', label = \"Testing Accuracies - LR\")\n",
    "plt.legend()"
   ]
  },
  {
   "cell_type": "markdown",
   "id": "80dfb35c",
   "metadata": {
    "papermill": {
     "duration": 0.04386,
     "end_time": "2022-01-25T00:26:59.643932",
     "exception": false,
     "start_time": "2022-01-25T00:26:59.600072",
     "status": "completed"
    },
    "tags": []
   },
   "source": [
    "#### Plotting the outputs of this layer of the NN.\n"
   ]
  },
  {
   "cell_type": "code",
   "execution_count": 25,
   "id": "45eb2ff5",
   "metadata": {
    "execution": {
     "iopub.execute_input": "2022-01-25T00:26:59.734902Z",
     "iopub.status.busy": "2022-01-25T00:26:59.734275Z",
     "iopub.status.idle": "2022-01-25T00:26:59.756340Z",
     "shell.execute_reply": "2022-01-25T00:26:59.756821Z"
    },
    "papermill": {
     "duration": 0.068737,
     "end_time": "2022-01-25T00:26:59.756975",
     "exception": false,
     "start_time": "2022-01-25T00:26:59.688238",
     "status": "completed"
    },
    "tags": []
   },
   "outputs": [],
   "source": [
    "new_model = Model(layers[:-2])\n",
    "testing_plot = new_model(testing_data_x)"
   ]
  },
  {
   "cell_type": "code",
   "execution_count": 26,
   "id": "4c0a5485",
   "metadata": {
    "execution": {
     "iopub.execute_input": "2022-01-25T00:26:59.865229Z",
     "iopub.status.busy": "2022-01-25T00:26:59.860545Z",
     "iopub.status.idle": "2022-01-25T00:27:00.106919Z",
     "shell.execute_reply": "2022-01-25T00:27:00.107408Z"
    },
    "papermill": {
     "duration": 0.30283,
     "end_time": "2022-01-25T00:27:00.107566",
     "exception": false,
     "start_time": "2022-01-25T00:26:59.804736",
     "status": "completed"
    },
    "tags": []
   },
   "outputs": [
    {
     "data": {
      "text/plain": [
       "Text(0.5, 1.0, 'Outputs')"
      ]
     },
     "execution_count": 26,
     "metadata": {},
     "output_type": "execute_result"
    },
    {
     "data": {
      "image/png": "[encoded data removed]",
      "text/plain": [
       "<Figure size 576x504 with 1 Axes>"
      ]
     },
     "metadata": {
      "needs_background": "light"
     },
     "output_type": "display_data"
    }
   ],
   "source": [
    "# Plotting the scatter plot of points and color coding by class\n",
    "plt.figure(figsize=(8,7))\n",
    "plt.scatter(testing_plot[:,0], testing_plot[:,1], alpha = 0.1, c = y_test.ravel());\n",
    "plt.title('Outputs')"
   ]
  },
  {
   "cell_type": "markdown",
   "id": "a74fcf8f",
   "metadata": {
    "papermill": {
     "duration": 0.050823,
     "end_time": "2022-01-25T00:27:00.210519",
     "exception": false,
     "start_time": "2022-01-25T00:27:00.159696",
     "status": "completed"
    },
    "tags": []
   },
   "source": [
    "Probability contours"
   ]
  },
  {
   "cell_type": "code",
   "execution_count": 27,
   "id": "d0afc8e3",
   "metadata": {
    "execution": {
     "iopub.execute_input": "2022-01-25T00:27:00.317411Z",
     "iopub.status.busy": "2022-01-25T00:27:00.316411Z",
     "iopub.status.idle": "2022-01-25T00:27:00.329306Z",
     "shell.execute_reply": "2022-01-25T00:27:00.329856Z"
    },
    "papermill": {
     "duration": 0.068628,
     "end_time": "2022-01-25T00:27:00.330040",
     "exception": false,
     "start_time": "2022-01-25T00:27:00.261412",
     "status": "completed"
    },
    "tags": []
   },
   "outputs": [],
   "source": [
    "model_prob = Model(layers[-2:]) "
   ]
  },
  {
   "cell_type": "code",
   "execution_count": 28,
   "id": "9b96e238",
   "metadata": {
    "execution": {
     "iopub.execute_input": "2022-01-25T00:27:00.468655Z",
     "iopub.status.busy": "2022-01-25T00:27:00.468005Z",
     "iopub.status.idle": "2022-01-25T00:27:00.483953Z",
     "shell.execute_reply": "2022-01-25T00:27:00.484438Z"
    },
    "papermill": {
     "duration": 0.104237,
     "end_time": "2022-01-25T00:27:00.484599",
     "exception": false,
     "start_time": "2022-01-25T00:27:00.380362",
     "status": "completed"
    },
    "tags": []
   },
   "outputs": [],
   "source": [
    "#creating the x and y ranges according to the above generated plot.\n",
    "x_range = np.linspace(-4, 1, 100) \n",
    "y_range = np.linspace(-6, 6, 100) \n",
    "x_grid, y_grid = np.meshgrid(x_range, y_range) # x_grid and y_grig are of size 100 X 100\n",
    "\n",
    "# converting x_grid and y_grid to continuous arrays\n",
    "x_gridflat = np.ravel(x_grid)\n",
    "y_gridflat = np.ravel(y_grid)\n",
    "\n",
    "# The last layer of the current model takes two columns as input. Hence transpose of np.vstack() is required.\n",
    "X = np.vstack((x_gridflat, y_gridflat)).T\n",
    "\n",
    "prob_contour = model_prob(X).reshape(100,100) "
   ]
  },
  {
   "cell_type": "code",
   "execution_count": 29,
   "id": "da72499a",
   "metadata": {
    "execution": {
     "iopub.execute_input": "2022-01-25T00:27:00.603208Z",
     "iopub.status.busy": "2022-01-25T00:27:00.602583Z",
     "iopub.status.idle": "2022-01-25T00:27:00.881529Z",
     "shell.execute_reply": "2022-01-25T00:27:00.880974Z"
    },
    "papermill": {
     "duration": 0.34559,
     "end_time": "2022-01-25T00:27:00.881712",
     "exception": false,
     "start_time": "2022-01-25T00:27:00.536122",
     "status": "completed"
    },
    "tags": []
   },
   "outputs": [
    {
     "data": {
      "image/png": "[encoded data removed]",
      "text/plain": [
       "<Figure size 720x648 with 1 Axes>"
      ]
     },
     "metadata": {
      "needs_background": "light"
     },
     "output_type": "display_data"
    }
   ],
   "source": [
    "plt.figure(figsize=(10,9))\n",
    "plt.scatter(testing_plot[:,0], testing_plot[:,1], alpha = 0.1, c = y_test.ravel())\n",
    "contours = plt.contour(x_grid,y_grid,prob_contour)\n",
    "plt.title('Probability Contours')\n",
    "plt.clabel(contours, inline = True );"
   ]
  },
  {
   "cell_type": "code",
   "execution_count": null,
   "id": "e81b4ac7",
   "metadata": {
    "papermill": {
     "duration": 0.052577,
     "end_time": "2022-01-25T00:27:00.986719",
     "exception": false,
     "start_time": "2022-01-25T00:27:00.934142",
     "status": "completed"
    },
    "tags": []
   },
   "outputs": [],
   "source": []
  }
 ],
 "metadata": {
  "kernelspec": {
   "display_name": "Python 3",
   "language": "python",
   "name": "python3"
  },
  "language_info": {
   "codemirror_mode": {
    "name": "ipython",
    "version": 3
   },
   "file_extension": ".py",
   "mimetype": "text/x-python",
   "name": "python",
   "nbconvert_exporter": "python",
   "pygments_lexer": "ipython3",
   "version": "3.6.15"
  },
  "papermill": {
   "default_parameters": {},
   "duration": 99.776354,
   "end_time": "2022-01-25T00:27:01.458359",
   "environment_variables": {},
   "exception": null,
   "input_path": "2020-08-11-part2.ipynb",
   "output_path": "2020-08-11-part2.ipynb",
   "parameters": {},
   "start_time": "2022-01-25T00:25:21.682005",
   "version": "2.3.3"
  }
 },
 "nbformat": 4,
 "nbformat_minor": 5
}