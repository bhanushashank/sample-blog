{
 "cells": [
  {
   "cell_type": "markdown",
   "id": "98380cd3",
   "metadata": {
    "papermill": {
     "duration": 0.040064,
     "end_time": "2021-10-25T00:22:28.847021",
     "exception": false,
     "start_time": "2021-10-25T00:22:28.806957",
     "status": "completed"
    },
    "tags": []
   },
   "source": [
    "# Distinguish Your Own Digits (DYOD)"
   ]
  },
  {
   "cell_type": "markdown",
   "id": "ef31240d",
   "metadata": {
    "papermill": {
     "duration": 0.027589,
     "end_time": "2021-10-25T00:22:28.902919",
     "exception": false,
     "start_time": "2021-10-25T00:22:28.875330",
     "status": "completed"
    },
    "tags": []
   },
   "source": [
    "You are going to write a classifier that distinguishes between the number 3 and number 8."
   ]
  },
  {
   "cell_type": "code",
   "execution_count": 1,
   "id": "b15c8646",
   "metadata": {
    "execution": {
     "iopub.execute_input": "2021-10-25T00:22:28.969225Z",
     "iopub.status.busy": "2021-10-25T00:22:28.968577Z",
     "iopub.status.idle": "2021-10-25T00:22:28.981228Z",
     "shell.execute_reply": "2021-10-25T00:22:28.980349Z"
    },
    "papermill": {
     "duration": 0.050371,
     "end_time": "2021-10-25T00:22:28.981467",
     "exception": false,
     "start_time": "2021-10-25T00:22:28.931096",
     "status": "completed"
    },
    "tags": []
   },
   "outputs": [],
   "source": [
    "%load_ext autoreload\n",
    "%autoreload 2"
   ]
  },
  {
   "cell_type": "code",
   "execution_count": 2,
   "id": "22ef38dc",
   "metadata": {
    "execution": {
     "iopub.execute_input": "2021-10-25T00:22:29.040306Z",
     "iopub.status.busy": "2021-10-25T00:22:29.039271Z",
     "iopub.status.idle": "2021-10-25T00:22:29.677863Z",
     "shell.execute_reply": "2021-10-25T00:22:29.676820Z"
    },
    "papermill": {
     "duration": 0.669706,
     "end_time": "2021-10-25T00:22:29.678028",
     "exception": false,
     "start_time": "2021-10-25T00:22:29.008322",
     "status": "completed"
    },
    "tags": []
   },
   "outputs": [],
   "source": [
    "%matplotlib inline\n",
    "import numpy as np\n",
    "import matplotlib.pyplot as plt\n",
    "import pandas as pd"
   ]
  },
  {
   "cell_type": "markdown",
   "id": "ba036198",
   "metadata": {
    "papermill": {
     "duration": 0.026774,
     "end_time": "2021-10-25T00:22:29.731614",
     "exception": false,
     "start_time": "2021-10-25T00:22:29.704840",
     "status": "completed"
    },
    "tags": []
   },
   "source": [
    "From the command line run `pip install mnist`. This is a library that will help you bring down the mnist dataset. If you run this from a notebook, you need to put  `!pip install mnist` in a cell by itself."
   ]
  },
  {
   "cell_type": "code",
   "execution_count": 3,
   "id": "bb6ad8a1",
   "metadata": {
    "execution": {
     "iopub.execute_input": "2021-10-25T00:22:29.791283Z",
     "iopub.status.busy": "2021-10-25T00:22:29.787342Z",
     "iopub.status.idle": "2021-10-25T00:22:32.540351Z",
     "shell.execute_reply": "2021-10-25T00:22:32.540800Z"
    },
    "papermill": {
     "duration": 2.783475,
     "end_time": "2021-10-25T00:22:32.540958",
     "exception": false,
     "start_time": "2021-10-25T00:22:29.757483",
     "status": "completed"
    },
    "tags": []
   },
   "outputs": [
    {
     "name": "stdout",
     "output_type": "stream",
     "text": [
      "Collecting mnist\r\n"
     ]
    },
    {
     "name": "stdout",
     "output_type": "stream",
     "text": [
      "  Downloading mnist-0.2.2-py2.py3-none-any.whl (3.5 kB)\r\n",
      "Requirement already satisfied: numpy in /opt/hostedtoolcache/Python/3.6.15/x64/lib/python3.6/site-packages (from mnist) (1.19.5)\r\n"
     ]
    },
    {
     "name": "stdout",
     "output_type": "stream",
     "text": [
      "Installing collected packages: mnist\r\n"
     ]
    },
    {
     "name": "stdout",
     "output_type": "stream",
     "text": [
      "Successfully installed mnist-0.2.2\r\n"
     ]
    },
    {
     "name": "stdout",
     "output_type": "stream",
     "text": [
      "\u001b[33mWARNING: You are using pip version 21.3; however, version 21.3.1 is available.\r\n",
      "You should consider upgrading via the '/opt/hostedtoolcache/Python/3.6.15/x64/bin/python -m pip install --upgrade pip' command.\u001b[0m\r\n"
     ]
    }
   ],
   "source": [
    "!pip install mnist"
   ]
  },
  {
   "cell_type": "markdown",
   "id": "69df9c9a",
   "metadata": {
    "papermill": {
     "duration": 0.028064,
     "end_time": "2021-10-25T00:22:32.596738",
     "exception": false,
     "start_time": "2021-10-25T00:22:32.568674",
     "status": "completed"
    },
    "tags": []
   },
   "source": [
    "## Preparing the Data"
   ]
  },
  {
   "cell_type": "code",
   "execution_count": 4,
   "id": "7f69d806",
   "metadata": {
    "execution": {
     "iopub.execute_input": "2021-10-25T00:22:32.657882Z",
     "iopub.status.busy": "2021-10-25T00:22:32.656364Z",
     "iopub.status.idle": "2021-10-25T00:22:32.672152Z",
     "shell.execute_reply": "2021-10-25T00:22:32.671665Z"
    },
    "papermill": {
     "duration": 0.04771,
     "end_time": "2021-10-25T00:22:32.672288",
     "exception": false,
     "start_time": "2021-10-25T00:22:32.624578",
     "status": "completed"
    },
    "tags": []
   },
   "outputs": [],
   "source": [
    "import mnist"
   ]
  },
  {
   "cell_type": "code",
   "execution_count": 5,
   "id": "a411e44f",
   "metadata": {
    "execution": {
     "iopub.execute_input": "2021-10-25T00:22:32.736522Z",
     "iopub.status.busy": "2021-10-25T00:22:32.735856Z",
     "iopub.status.idle": "2021-10-25T00:22:33.391626Z",
     "shell.execute_reply": "2021-10-25T00:22:33.392122Z"
    },
    "papermill": {
     "duration": 0.691366,
     "end_time": "2021-10-25T00:22:33.392288",
     "exception": false,
     "start_time": "2021-10-25T00:22:32.700922",
     "status": "completed"
    },
    "tags": []
   },
   "outputs": [],
   "source": [
    "train_images = mnist.train_images()\n",
    "train_labels = mnist.train_labels()"
   ]
  },
  {
   "cell_type": "code",
   "execution_count": 6,
   "id": "dceab3a5",
   "metadata": {
    "execution": {
     "iopub.execute_input": "2021-10-25T00:22:33.453871Z",
     "iopub.status.busy": "2021-10-25T00:22:33.453207Z",
     "iopub.status.idle": "2021-10-25T00:22:33.467537Z",
     "shell.execute_reply": "2021-10-25T00:22:33.467957Z"
    },
    "papermill": {
     "duration": 0.047829,
     "end_time": "2021-10-25T00:22:33.468099",
     "exception": false,
     "start_time": "2021-10-25T00:22:33.420270",
     "status": "completed"
    },
    "tags": []
   },
   "outputs": [
    {
     "data": {
      "text/plain": [
       "((60000, 28, 28), (60000,))"
      ]
     },
     "execution_count": 6,
     "metadata": {},
     "output_type": "execute_result"
    }
   ],
   "source": [
    "train_images.shape, train_labels.shape"
   ]
  },
  {
   "cell_type": "code",
   "execution_count": 7,
   "id": "f50dc2bb",
   "metadata": {
    "execution": {
     "iopub.execute_input": "2021-10-25T00:22:33.528550Z",
     "iopub.status.busy": "2021-10-25T00:22:33.527954Z",
     "iopub.status.idle": "2021-10-25T00:22:33.728113Z",
     "shell.execute_reply": "2021-10-25T00:22:33.726854Z"
    },
    "papermill": {
     "duration": 0.232159,
     "end_time": "2021-10-25T00:22:33.728257",
     "exception": false,
     "start_time": "2021-10-25T00:22:33.496098",
     "status": "completed"
    },
    "tags": []
   },
   "outputs": [],
   "source": [
    "test_images = mnist.test_images()\n",
    "test_labels = mnist.test_labels()"
   ]
  },
  {
   "cell_type": "code",
   "execution_count": 8,
   "id": "fc38cf1b",
   "metadata": {
    "execution": {
     "iopub.execute_input": "2021-10-25T00:22:33.787695Z",
     "iopub.status.busy": "2021-10-25T00:22:33.787017Z",
     "iopub.status.idle": "2021-10-25T00:22:33.799824Z",
     "shell.execute_reply": "2021-10-25T00:22:33.799377Z"
    },
    "papermill": {
     "duration": 0.044491,
     "end_time": "2021-10-25T00:22:33.799944",
     "exception": false,
     "start_time": "2021-10-25T00:22:33.755453",
     "status": "completed"
    },
    "tags": []
   },
   "outputs": [
    {
     "data": {
      "text/plain": [
       "((10000, 28, 28), (10000,))"
      ]
     },
     "execution_count": 8,
     "metadata": {},
     "output_type": "execute_result"
    }
   ],
   "source": [
    "test_images.shape, test_labels.shape"
   ]
  },
  {
   "cell_type": "code",
   "execution_count": 9,
   "id": "f9ed8fe0",
   "metadata": {
    "execution": {
     "iopub.execute_input": "2021-10-25T00:22:33.864170Z",
     "iopub.status.busy": "2021-10-25T00:22:33.863616Z",
     "iopub.status.idle": "2021-10-25T00:22:34.022793Z",
     "shell.execute_reply": "2021-10-25T00:22:34.023273Z"
    },
    "papermill": {
     "duration": 0.19296,
     "end_time": "2021-10-25T00:22:34.023437",
     "exception": false,
     "start_time": "2021-10-25T00:22:33.830477",
     "status": "completed"
    },
    "tags": []
   },
   "outputs": [
    {
     "name": "stdout",
     "output_type": "stream",
     "text": [
      "2\n"
     ]
    },
    {
     "data": {
      "text/plain": [
       "<matplotlib.image.AxesImage at 0x7f0abc126828>"
      ]
     },
     "execution_count": 9,
     "metadata": {},
     "output_type": "execute_result"
    },
    {
     "data": {
      "image/png": "[encoded data removed]",
      "text/plain": [
       "<Figure size 432x288 with 1 Axes>"
      ]
     },
     "metadata": {
      "needs_background": "light"
     },
     "output_type": "display_data"
    }
   ],
   "source": [
    "image_index = 7776 # You may select anything up to 60,000\n",
    "print(train_labels[image_index]) \n",
    "plt.imshow(train_images[image_index], cmap='Greys')"
   ]
  },
  {
   "cell_type": "markdown",
   "id": "a8d2388d",
   "metadata": {
    "papermill": {
     "duration": 0.030247,
     "end_time": "2021-10-25T00:22:34.084356",
     "exception": false,
     "start_time": "2021-10-25T00:22:34.054109",
     "status": "completed"
    },
    "tags": []
   },
   "source": [
    "## Filter data to get 3 and 8 out"
   ]
  },
  {
   "cell_type": "code",
   "execution_count": 10,
   "id": "776f7fc7",
   "metadata": {
    "execution": {
     "iopub.execute_input": "2021-10-25T00:22:34.155289Z",
     "iopub.status.busy": "2021-10-25T00:22:34.151109Z",
     "iopub.status.idle": "2021-10-25T00:22:34.171655Z",
     "shell.execute_reply": "2021-10-25T00:22:34.171142Z"
    },
    "papermill": {
     "duration": 0.057448,
     "end_time": "2021-10-25T00:22:34.171786",
     "exception": false,
     "start_time": "2021-10-25T00:22:34.114338",
     "status": "completed"
    },
    "tags": []
   },
   "outputs": [],
   "source": [
    "train_filter = np.where((train_labels == 3 ) | (train_labels == 8))\n",
    "test_filter = np.where((test_labels == 3) | (test_labels == 8))\n",
    "X_train, y_train = train_images[train_filter], train_labels[train_filter]\n",
    "X_test, y_test = test_images[test_filter], test_labels[test_filter]"
   ]
  },
  {
   "cell_type": "markdown",
   "id": "948f0b7e",
   "metadata": {
    "papermill": {
     "duration": 0.029143,
     "end_time": "2021-10-25T00:22:34.230490",
     "exception": false,
     "start_time": "2021-10-25T00:22:34.201347",
     "status": "completed"
    },
    "tags": []
   },
   "source": [
    "We normalize the pizel values in the 0 to 1 range"
   ]
  },
  {
   "cell_type": "code",
   "execution_count": 11,
   "id": "ee4c2166",
   "metadata": {
    "execution": {
     "iopub.execute_input": "2021-10-25T00:22:34.292861Z",
     "iopub.status.busy": "2021-10-25T00:22:34.292302Z",
     "iopub.status.idle": "2021-10-25T00:22:34.347126Z",
     "shell.execute_reply": "2021-10-25T00:22:34.347603Z"
    },
    "papermill": {
     "duration": 0.089061,
     "end_time": "2021-10-25T00:22:34.347769",
     "exception": false,
     "start_time": "2021-10-25T00:22:34.258708",
     "status": "completed"
    },
    "tags": []
   },
   "outputs": [],
   "source": [
    "X_train = X_train/255.\n",
    "X_test = X_test/255."
   ]
  },
  {
   "cell_type": "markdown",
   "id": "ddcf4fab",
   "metadata": {
    "papermill": {
     "duration": 0.029569,
     "end_time": "2021-10-25T00:22:34.407588",
     "exception": false,
     "start_time": "2021-10-25T00:22:34.378019",
     "status": "completed"
    },
    "tags": []
   },
   "source": [
    "And setup the labels as 1 (when the digit is 3) and 0 (when the digit is 8)"
   ]
  },
  {
   "cell_type": "code",
   "execution_count": 12,
   "id": "7dc908f2",
   "metadata": {
    "execution": {
     "iopub.execute_input": "2021-10-25T00:22:34.469137Z",
     "iopub.status.busy": "2021-10-25T00:22:34.468585Z",
     "iopub.status.idle": "2021-10-25T00:22:34.481866Z",
     "shell.execute_reply": "2021-10-25T00:22:34.481423Z"
    },
    "papermill": {
     "duration": 0.045458,
     "end_time": "2021-10-25T00:22:34.481986",
     "exception": false,
     "start_time": "2021-10-25T00:22:34.436528",
     "status": "completed"
    },
    "tags": []
   },
   "outputs": [],
   "source": [
    "y_train = 1*(y_train==3)\n",
    "y_test = 1*(y_test==3)"
   ]
  },
  {
   "cell_type": "code",
   "execution_count": 13,
   "id": "01e4e969",
   "metadata": {
    "execution": {
     "iopub.execute_input": "2021-10-25T00:22:34.546113Z",
     "iopub.status.busy": "2021-10-25T00:22:34.545523Z",
     "iopub.status.idle": "2021-10-25T00:22:34.562009Z",
     "shell.execute_reply": "2021-10-25T00:22:34.561565Z"
    },
    "papermill": {
     "duration": 0.050274,
     "end_time": "2021-10-25T00:22:34.562133",
     "exception": false,
     "start_time": "2021-10-25T00:22:34.511859",
     "status": "completed"
    },
    "tags": []
   },
   "outputs": [
    {
     "data": {
      "text/plain": [
       "((11982, 28, 28), (1984, 28, 28))"
      ]
     },
     "execution_count": 13,
     "metadata": {},
     "output_type": "execute_result"
    }
   ],
   "source": [
    "X_train.shape, X_test.shape"
   ]
  },
  {
   "cell_type": "markdown",
   "id": "5ccf3f85",
   "metadata": {
    "papermill": {
     "duration": 0.029589,
     "end_time": "2021-10-25T00:22:34.621347",
     "exception": false,
     "start_time": "2021-10-25T00:22:34.591758",
     "status": "completed"
    },
    "tags": []
   },
   "source": [
    "We reshape the data to flatten the image pixels into a set of features or co-variates:"
   ]
  },
  {
   "cell_type": "code",
   "execution_count": 14,
   "id": "5286a4a3",
   "metadata": {
    "execution": {
     "iopub.execute_input": "2021-10-25T00:22:34.685340Z",
     "iopub.status.busy": "2021-10-25T00:22:34.684733Z",
     "iopub.status.idle": "2021-10-25T00:22:34.698705Z",
     "shell.execute_reply": "2021-10-25T00:22:34.699119Z"
    },
    "papermill": {
     "duration": 0.047819,
     "end_time": "2021-10-25T00:22:34.699256",
     "exception": false,
     "start_time": "2021-10-25T00:22:34.651437",
     "status": "completed"
    },
    "tags": []
   },
   "outputs": [
    {
     "data": {
      "text/plain": [
       "((11982, 784), (1984, 784))"
      ]
     },
     "execution_count": 14,
     "metadata": {},
     "output_type": "execute_result"
    }
   ],
   "source": [
    "X_train = X_train.reshape(X_train.shape[0], -1)\n",
    "X_test = X_test.reshape(X_test.shape[0], -1)\n",
    "X_train.shape, X_test.shape"
   ]
  },
  {
   "cell_type": "code",
   "execution_count": 15,
   "id": "73c5f88a",
   "metadata": {
    "execution": {
     "iopub.execute_input": "2021-10-25T00:22:34.764201Z",
     "iopub.status.busy": "2021-10-25T00:22:34.763596Z",
     "iopub.status.idle": "2021-10-25T00:22:34.783731Z",
     "shell.execute_reply": "2021-10-25T00:22:34.783254Z"
    },
    "papermill": {
     "duration": 0.054872,
     "end_time": "2021-10-25T00:22:34.783862",
     "exception": false,
     "start_time": "2021-10-25T00:22:34.728990",
     "status": "completed"
    },
    "tags": []
   },
   "outputs": [],
   "source": [
    "#Impoting functions from 'Kudzu'\n",
    "from kudzu.model import Model\n",
    "from kudzu.train import Learner\n",
    "from kudzu.optim import GD\n",
    "from kudzu.data import Data, Sampler,Dataloader\n",
    "\n",
    "from kudzu.callbacks import AccCallback\n",
    "from kudzu.callbacks import ClfCallback\n",
    "\n",
    "from kudzu.loss import MSE\n",
    "\n",
    "from kudzu.layer import Sigmoid,Relu\n",
    "from kudzu.layer import Affine"
   ]
  },
  {
   "cell_type": "markdown",
   "id": "bc01172a",
   "metadata": {
    "papermill": {
     "duration": 0.030372,
     "end_time": "2021-10-25T00:22:34.844316",
     "exception": false,
     "start_time": "2021-10-25T00:22:34.813944",
     "status": "completed"
    },
    "tags": []
   },
   "source": [
    "### Let us create a `Config` class, to store important parameters. \n",
    "This class essentially plays the role of a dictionary."
   ]
  },
  {
   "cell_type": "code",
   "execution_count": 16,
   "id": "978281aa",
   "metadata": {
    "execution": {
     "iopub.execute_input": "2021-10-25T00:22:34.909222Z",
     "iopub.status.busy": "2021-10-25T00:22:34.908663Z",
     "iopub.status.idle": "2021-10-25T00:22:34.923670Z",
     "shell.execute_reply": "2021-10-25T00:22:34.923197Z"
    },
    "papermill": {
     "duration": 0.050198,
     "end_time": "2021-10-25T00:22:34.923787",
     "exception": false,
     "start_time": "2021-10-25T00:22:34.873589",
     "status": "completed"
    },
    "tags": []
   },
   "outputs": [],
   "source": [
    "class Config:\n",
    "    pass\n",
    "config = Config()\n",
    "config.lr = 0.001\n",
    "config.num_epochs = 250\n",
    "config.bs = 50"
   ]
  },
  {
   "cell_type": "markdown",
   "id": "1385fa59",
   "metadata": {
    "papermill": {
     "duration": 0.030245,
     "end_time": "2021-10-25T00:22:34.984213",
     "exception": false,
     "start_time": "2021-10-25T00:22:34.953968",
     "status": "completed"
    },
    "tags": []
   },
   "source": [
    "### Running Models with the Training data\n",
    "Details about the network layers:\n",
    "- A first affine layer has 784 inputs and does 100 affine transforms. These are followed by a Relu\n",
    "- A second affine layer has 100 inputs from the 100 activations of the past layer, and does 100 affine transforms. These are followed by a Relu\n",
    "- A third affine layer has 100 activations and does 2 affine transformations to create an embedding for visualization. There is no non-linearity here.\n",
    "- A final \"logistic regression\" which has an affine transform from 2 inputs to 1 output, which is squeezed through a sigmoid.\n"
   ]
  },
  {
   "cell_type": "code",
   "execution_count": 17,
   "id": "2b9c66db",
   "metadata": {
    "execution": {
     "iopub.execute_input": "2021-10-25T00:22:35.050655Z",
     "iopub.status.busy": "2021-10-25T00:22:35.050018Z",
     "iopub.status.idle": "2021-10-25T00:22:35.065878Z",
     "shell.execute_reply": "2021-10-25T00:22:35.065337Z"
    },
    "papermill": {
     "duration": 0.050899,
     "end_time": "2021-10-25T00:22:35.066022",
     "exception": false,
     "start_time": "2021-10-25T00:22:35.015123",
     "status": "completed"
    },
    "tags": []
   },
   "outputs": [],
   "source": [
    "data = Data(X_train, y_train.reshape(-1,1))\n",
    "sampler = Sampler(data, config.bs, shuffle=True)\n",
    "\n",
    "dl = Dataloader(data, sampler)\n",
    "\n",
    "opt = GD(config.lr)\n",
    "loss = MSE()"
   ]
  },
  {
   "cell_type": "code",
   "execution_count": 18,
   "id": "b275e4c2",
   "metadata": {
    "execution": {
     "iopub.execute_input": "2021-10-25T00:22:35.137553Z",
     "iopub.status.busy": "2021-10-25T00:22:35.136907Z",
     "iopub.status.idle": "2021-10-25T00:22:35.152544Z",
     "shell.execute_reply": "2021-10-25T00:22:35.152037Z"
    },
    "papermill": {
     "duration": 0.055112,
     "end_time": "2021-10-25T00:22:35.152683",
     "exception": false,
     "start_time": "2021-10-25T00:22:35.097571",
     "status": "completed"
    },
    "tags": []
   },
   "outputs": [],
   "source": [
    "training_data_x = X_train\n",
    "testing_data_x = X_test\n",
    "training_data_y = y_train.reshape(-1,1)\n",
    "testing_data_y = y_test.reshape(-1,1)"
   ]
  },
  {
   "cell_type": "code",
   "execution_count": 19,
   "id": "76951160",
   "metadata": {
    "execution": {
     "iopub.execute_input": "2021-10-25T00:22:35.219128Z",
     "iopub.status.busy": "2021-10-25T00:22:35.218499Z",
     "iopub.status.idle": "2021-10-25T00:22:35.236863Z",
     "shell.execute_reply": "2021-10-25T00:22:35.236349Z"
    },
    "papermill": {
     "duration": 0.053689,
     "end_time": "2021-10-25T00:22:35.236996",
     "exception": false,
     "start_time": "2021-10-25T00:22:35.183307",
     "status": "completed"
    },
    "tags": []
   },
   "outputs": [
    {
     "name": "stdout",
     "output_type": "stream",
     "text": [
      "xavier\n",
      "xavier\n",
      "xavier\n",
      "xavier\n",
      "xavier\n"
     ]
    }
   ],
   "source": [
    "layers = [Affine(\"first\", 784, 100), Relu(\"first\"), Affine(\"second\", 100, 100), Relu(\"second\"), Affine(\"third\", 100, 2), Affine(\"last\", 2, 1), Sigmoid(\"last\")]\n",
    "model_nn = Model(layers)\n",
    "model_lr = Model([Affine(\"logits\", 784, 1), Sigmoid(\"sigmoid\")])"
   ]
  },
  {
   "cell_type": "code",
   "execution_count": 20,
   "id": "6eede77a",
   "metadata": {
    "execution": {
     "iopub.execute_input": "2021-10-25T00:22:35.305167Z",
     "iopub.status.busy": "2021-10-25T00:22:35.304560Z",
     "iopub.status.idle": "2021-10-25T00:22:35.319634Z",
     "shell.execute_reply": "2021-10-25T00:22:35.318585Z"
    },
    "papermill": {
     "duration": 0.051167,
     "end_time": "2021-10-25T00:22:35.319771",
     "exception": false,
     "start_time": "2021-10-25T00:22:35.268604",
     "status": "completed"
    },
    "tags": []
   },
   "outputs": [],
   "source": [
    "nn_learner = Learner(loss, model_nn, opt, config.num_epochs)\n",
    "acc_nn = ClfCallback(nn_learner, config.bs, training_data_x , testing_data_x, training_data_y, testing_data_y)\n",
    "nn_learner.set_callbacks([acc_nn])"
   ]
  },
  {
   "cell_type": "code",
   "execution_count": 21,
   "id": "877b6cc7",
   "metadata": {
    "execution": {
     "iopub.execute_input": "2021-10-25T00:22:35.390988Z",
     "iopub.status.busy": "2021-10-25T00:22:35.390387Z",
     "iopub.status.idle": "2021-10-25T00:22:35.412564Z",
     "shell.execute_reply": "2021-10-25T00:22:35.412074Z"
    },
    "papermill": {
     "duration": 0.059823,
     "end_time": "2021-10-25T00:22:35.412700",
     "exception": false,
     "start_time": "2021-10-25T00:22:35.352877",
     "status": "completed"
    },
    "tags": []
   },
   "outputs": [],
   "source": [
    "lr_learner = Learner(loss, model_lr, opt, config.num_epochs)\n",
    "acc_lr = ClfCallback(lr_learner, config.bs, training_data_x , testing_data_x, training_data_y, testing_data_y)\n",
    "lr_learner.set_callbacks([acc_lr])"
   ]
  },
  {
   "cell_type": "code",
   "execution_count": 22,
   "id": "d9b133c3",
   "metadata": {
    "execution": {
     "iopub.execute_input": "2021-10-25T00:22:35.479641Z",
     "iopub.status.busy": "2021-10-25T00:22:35.479047Z",
     "iopub.status.idle": "2021-10-25T00:24:03.971581Z",
     "shell.execute_reply": "2021-10-25T00:24:03.972406Z"
    },
    "papermill": {
     "duration": 88.52806,
     "end_time": "2021-10-25T00:24:03.972563",
     "exception": false,
     "start_time": "2021-10-25T00:22:35.444503",
     "status": "completed"
    },
    "tags": []
   },
   "outputs": [
    {
     "name": "stdout",
     "output_type": "stream",
     "text": [
      "Epoch 0, Loss 0.2459\n",
      "Training Accuracy: 0.6868, Testing Accuracy: 0.7127\n",
      "\n"
     ]
    },
    {
     "name": "stdout",
     "output_type": "stream",
     "text": [
      "Epoch 10, Loss 0.0708\n",
      "Training Accuracy: 0.9294, Testing Accuracy: 0.9385\n",
      "\n"
     ]
    },
    {
     "name": "stdout",
     "output_type": "stream",
     "text": [
      "Epoch 20, Loss 0.0465\n",
      "Training Accuracy: 0.9506, Testing Accuracy: 0.9587\n",
      "\n"
     ]
    },
    {
     "name": "stdout",
     "output_type": "stream",
     "text": [
      "Epoch 30, Loss 0.0377\n",
      "Training Accuracy: 0.9585, Testing Accuracy: 0.9642\n",
      "\n"
     ]
    },
    {
     "name": "stdout",
     "output_type": "stream",
     "text": [
      "Epoch 40, Loss 0.0329\n",
      "Training Accuracy: 0.9629, Testing Accuracy: 0.9688\n",
      "\n"
     ]
    },
    {
     "name": "stdout",
     "output_type": "stream",
     "text": [
      "Epoch 50, Loss 0.0299\n",
      "Training Accuracy: 0.9664, Testing Accuracy: 0.9718\n",
      "\n"
     ]
    },
    {
     "name": "stdout",
     "output_type": "stream",
     "text": [
      "Epoch 60, Loss 0.0276\n",
      "Training Accuracy: 0.9685, Testing Accuracy: 0.9713\n",
      "\n"
     ]
    },
    {
     "name": "stdout",
     "output_type": "stream",
     "text": [
      "Epoch 70, Loss 0.0259\n",
      "Training Accuracy: 0.9711, Testing Accuracy: 0.9723\n",
      "\n"
     ]
    },
    {
     "name": "stdout",
     "output_type": "stream",
     "text": [
      "Epoch 80, Loss 0.0245\n",
      "Training Accuracy: 0.9721, Testing Accuracy: 0.9728\n",
      "\n"
     ]
    },
    {
     "name": "stdout",
     "output_type": "stream",
     "text": [
      "Epoch 90, Loss 0.0233\n",
      "Training Accuracy: 0.9739, Testing Accuracy: 0.9728\n",
      "\n"
     ]
    },
    {
     "name": "stdout",
     "output_type": "stream",
     "text": [
      "Epoch 100, Loss 0.0223\n",
      "Training Accuracy: 0.9748, Testing Accuracy: 0.9728\n",
      "\n"
     ]
    },
    {
     "name": "stdout",
     "output_type": "stream",
     "text": [
      "Epoch 110, Loss 0.0215\n",
      "Training Accuracy: 0.9761, Testing Accuracy: 0.9728\n",
      "\n"
     ]
    },
    {
     "name": "stdout",
     "output_type": "stream",
     "text": [
      "Epoch 120, Loss 0.0207\n",
      "Training Accuracy: 0.9773, Testing Accuracy: 0.9743\n",
      "\n"
     ]
    },
    {
     "name": "stdout",
     "output_type": "stream",
     "text": [
      "Epoch 130, Loss 0.02\n",
      "Training Accuracy: 0.9783, Testing Accuracy: 0.9738\n",
      "\n"
     ]
    },
    {
     "name": "stdout",
     "output_type": "stream",
     "text": [
      "Epoch 140, Loss 0.0193\n",
      "Training Accuracy: 0.9790, Testing Accuracy: 0.9738\n",
      "\n"
     ]
    },
    {
     "name": "stdout",
     "output_type": "stream",
     "text": [
      "Epoch 150, Loss 0.0187\n",
      "Training Accuracy: 0.9796, Testing Accuracy: 0.9743\n",
      "\n"
     ]
    },
    {
     "name": "stdout",
     "output_type": "stream",
     "text": [
      "Epoch 160, Loss 0.0181\n",
      "Training Accuracy: 0.9800, Testing Accuracy: 0.9743\n",
      "\n"
     ]
    },
    {
     "name": "stdout",
     "output_type": "stream",
     "text": [
      "Epoch 170, Loss 0.0176\n",
      "Training Accuracy: 0.9808, Testing Accuracy: 0.9753\n",
      "\n"
     ]
    },
    {
     "name": "stdout",
     "output_type": "stream",
     "text": [
      "Epoch 180, Loss 0.017\n",
      "Training Accuracy: 0.9816, Testing Accuracy: 0.9763\n",
      "\n"
     ]
    },
    {
     "name": "stdout",
     "output_type": "stream",
     "text": [
      "Epoch 190, Loss 0.0165\n",
      "Training Accuracy: 0.9820, Testing Accuracy: 0.9768\n",
      "\n"
     ]
    },
    {
     "name": "stdout",
     "output_type": "stream",
     "text": [
      "Epoch 200, Loss 0.0161\n",
      "Training Accuracy: 0.9827, Testing Accuracy: 0.9768\n",
      "\n"
     ]
    },
    {
     "name": "stdout",
     "output_type": "stream",
     "text": [
      "Epoch 210, Loss 0.0156\n",
      "Training Accuracy: 0.9831, Testing Accuracy: 0.9768\n",
      "\n"
     ]
    },
    {
     "name": "stdout",
     "output_type": "stream",
     "text": [
      "Epoch 220, Loss 0.0151\n",
      "Training Accuracy: 0.9840, Testing Accuracy: 0.9778\n",
      "\n"
     ]
    },
    {
     "name": "stdout",
     "output_type": "stream",
     "text": [
      "Epoch 230, Loss 0.0147\n",
      "Training Accuracy: 0.9843, Testing Accuracy: 0.9778\n",
      "\n"
     ]
    },
    {
     "name": "stdout",
     "output_type": "stream",
     "text": [
      "Epoch 240, Loss 0.0143\n",
      "Training Accuracy: 0.9848, Testing Accuracy: 0.9793\n",
      "\n"
     ]
    },
    {
     "data": {
      "text/plain": [
       "0.0035953086824726506"
      ]
     },
     "execution_count": 22,
     "metadata": {},
     "output_type": "execute_result"
    }
   ],
   "source": [
    "nn_learner.train_loop(dl)"
   ]
  },
  {
   "cell_type": "code",
   "execution_count": 23,
   "id": "e0163366",
   "metadata": {
    "execution": {
     "iopub.execute_input": "2021-10-25T00:24:04.065746Z",
     "iopub.status.busy": "2021-10-25T00:24:04.065116Z",
     "iopub.status.idle": "2021-10-25T00:24:19.275517Z",
     "shell.execute_reply": "2021-10-25T00:24:19.276354Z"
    },
    "papermill": {
     "duration": 15.265174,
     "end_time": "2021-10-25T00:24:19.276513",
     "exception": false,
     "start_time": "2021-10-25T00:24:04.011339",
     "status": "completed"
    },
    "tags": []
   },
   "outputs": [
    {
     "name": "stdout",
     "output_type": "stream",
     "text": [
      "Epoch 0, Loss 0.2633\n",
      "Training Accuracy: 0.5834, Testing Accuracy: 0.5554\n",
      "\n"
     ]
    },
    {
     "name": "stdout",
     "output_type": "stream",
     "text": [
      "Epoch 10, Loss 0.1011\n",
      "Training Accuracy: 0.9203, Testing Accuracy: 0.9340\n",
      "\n"
     ]
    },
    {
     "name": "stdout",
     "output_type": "stream",
     "text": [
      "Epoch 20, Loss 0.0776\n",
      "Training Accuracy: 0.9325, Testing Accuracy: 0.9461\n",
      "\n"
     ]
    },
    {
     "name": "stdout",
     "output_type": "stream",
     "text": [
      "Epoch 30, Loss 0.067\n",
      "Training Accuracy: 0.9409, Testing Accuracy: 0.9521\n",
      "\n"
     ]
    },
    {
     "name": "stdout",
     "output_type": "stream",
     "text": [
      "Epoch 40, Loss 0.0607\n",
      "Training Accuracy: 0.9453, Testing Accuracy: 0.9561\n",
      "\n"
     ]
    },
    {
     "name": "stdout",
     "output_type": "stream",
     "text": [
      "Epoch 50, Loss 0.0563\n",
      "Training Accuracy: 0.9476, Testing Accuracy: 0.9567\n",
      "\n"
     ]
    },
    {
     "name": "stdout",
     "output_type": "stream",
     "text": [
      "Epoch 60, Loss 0.0532\n",
      "Training Accuracy: 0.9497, Testing Accuracy: 0.9587\n",
      "\n"
     ]
    },
    {
     "name": "stdout",
     "output_type": "stream",
     "text": [
      "Epoch 70, Loss 0.0507\n",
      "Training Accuracy: 0.9521, Testing Accuracy: 0.9592\n",
      "\n"
     ]
    },
    {
     "name": "stdout",
     "output_type": "stream",
     "text": [
      "Epoch 80, Loss 0.0487\n",
      "Training Accuracy: 0.9536, Testing Accuracy: 0.9612\n",
      "\n"
     ]
    },
    {
     "name": "stdout",
     "output_type": "stream",
     "text": [
      "Epoch 90, Loss 0.0471\n",
      "Training Accuracy: 0.9546, Testing Accuracy: 0.9622\n",
      "\n"
     ]
    },
    {
     "name": "stdout",
     "output_type": "stream",
     "text": [
      "Epoch 100, Loss 0.0457\n",
      "Training Accuracy: 0.9552, Testing Accuracy: 0.9632\n",
      "\n"
     ]
    },
    {
     "name": "stdout",
     "output_type": "stream",
     "text": [
      "Epoch 110, Loss 0.0446\n",
      "Training Accuracy: 0.9560, Testing Accuracy: 0.9627\n",
      "\n"
     ]
    },
    {
     "name": "stdout",
     "output_type": "stream",
     "text": [
      "Epoch 120, Loss 0.0435\n",
      "Training Accuracy: 0.9566, Testing Accuracy: 0.9627\n",
      "\n"
     ]
    },
    {
     "name": "stdout",
     "output_type": "stream",
     "text": [
      "Epoch 130, Loss 0.0426\n",
      "Training Accuracy: 0.9574, Testing Accuracy: 0.9642\n",
      "\n"
     ]
    },
    {
     "name": "stdout",
     "output_type": "stream",
     "text": [
      "Epoch 140, Loss 0.0418\n",
      "Training Accuracy: 0.9579, Testing Accuracy: 0.9657\n",
      "\n"
     ]
    },
    {
     "name": "stdout",
     "output_type": "stream",
     "text": [
      "Epoch 150, Loss 0.0411\n",
      "Training Accuracy: 0.9580, Testing Accuracy: 0.9657\n",
      "\n"
     ]
    },
    {
     "name": "stdout",
     "output_type": "stream",
     "text": [
      "Epoch 160, Loss 0.0404\n",
      "Training Accuracy: 0.9584, Testing Accuracy: 0.9657\n",
      "\n"
     ]
    },
    {
     "name": "stdout",
     "output_type": "stream",
     "text": [
      "Epoch 170, Loss 0.0398\n",
      "Training Accuracy: 0.9587, Testing Accuracy: 0.9662\n",
      "\n"
     ]
    },
    {
     "name": "stdout",
     "output_type": "stream",
     "text": [
      "Epoch 180, Loss 0.0393\n",
      "Training Accuracy: 0.9591, Testing Accuracy: 0.9662\n",
      "\n"
     ]
    },
    {
     "name": "stdout",
     "output_type": "stream",
     "text": [
      "Epoch 190, Loss 0.0388\n",
      "Training Accuracy: 0.9595, Testing Accuracy: 0.9667\n",
      "\n"
     ]
    },
    {
     "name": "stdout",
     "output_type": "stream",
     "text": [
      "Epoch 200, Loss 0.0383\n",
      "Training Accuracy: 0.9599, Testing Accuracy: 0.9672\n",
      "\n"
     ]
    },
    {
     "name": "stdout",
     "output_type": "stream",
     "text": [
      "Epoch 210, Loss 0.0379\n",
      "Training Accuracy: 0.9604, Testing Accuracy: 0.9672\n",
      "\n"
     ]
    },
    {
     "name": "stdout",
     "output_type": "stream",
     "text": [
      "Epoch 220, Loss 0.0375\n",
      "Training Accuracy: 0.9609, Testing Accuracy: 0.9672\n",
      "\n"
     ]
    },
    {
     "name": "stdout",
     "output_type": "stream",
     "text": [
      "Epoch 230, Loss 0.0371\n",
      "Training Accuracy: 0.9609, Testing Accuracy: 0.9677\n",
      "\n"
     ]
    },
    {
     "name": "stdout",
     "output_type": "stream",
     "text": [
      "Epoch 240, Loss 0.0368\n",
      "Training Accuracy: 0.9614, Testing Accuracy: 0.9682\n",
      "\n"
     ]
    },
    {
     "data": {
      "text/plain": [
       "0.02417297278775281"
      ]
     },
     "execution_count": 23,
     "metadata": {},
     "output_type": "execute_result"
    }
   ],
   "source": [
    "lr_learner.train_loop(dl)"
   ]
  },
  {
   "cell_type": "code",
   "execution_count": 24,
   "id": "ca410940",
   "metadata": {
    "execution": {
     "iopub.execute_input": "2021-10-25T00:24:19.376093Z",
     "iopub.status.busy": "2021-10-25T00:24:19.375472Z",
     "iopub.status.idle": "2021-10-25T00:24:19.624339Z",
     "shell.execute_reply": "2021-10-25T00:24:19.623845Z"
    },
    "papermill": {
     "duration": 0.301544,
     "end_time": "2021-10-25T00:24:19.624465",
     "exception": false,
     "start_time": "2021-10-25T00:24:19.322921",
     "status": "completed"
    },
    "tags": []
   },
   "outputs": [
    {
     "data": {
      "text/plain": [
       "<matplotlib.legend.Legend at 0x7f0abbd07f98>"
      ]
     },
     "execution_count": 24,
     "metadata": {},
     "output_type": "execute_result"
    },
    {
     "data": {
      "image/png": "[encoded data removed]",
      "text/plain": [
       "<Figure size 1080x720 with 1 Axes>"
      ]
     },
     "metadata": {
      "needs_background": "light"
     },
     "output_type": "display_data"
    }
   ],
   "source": [
    "#comparing the results of NN and LR\n",
    "plt.figure(figsize=(15,10))\n",
    "\n",
    "# Neural Network plots\n",
    "plt.plot(acc_nn.accuracies, 'r-', label = \"Training Accuracies - NN\")\n",
    "plt.plot(acc_nn.test_accuracies, 'g-', label = \"Testing Accuracies - NN\")\n",
    "\n",
    "# Logistic Regression plots\n",
    "plt.plot(acc_lr.accuracies, 'k-', label = \"Training Accuracies - LR\")\n",
    "plt.plot(acc_lr.test_accuracies, 'b-', label = \"Testing Accuracies - LR\")\n",
    "plt.legend()"
   ]
  },
  {
   "cell_type": "markdown",
   "id": "80dfb35c",
   "metadata": {
    "papermill": {
     "duration": 0.046532,
     "end_time": "2021-10-25T00:24:19.718883",
     "exception": false,
     "start_time": "2021-10-25T00:24:19.672351",
     "status": "completed"
    },
    "tags": []
   },
   "source": [
    "#### Plotting the outputs of this layer of the NN.\n"
   ]
  },
  {
   "cell_type": "code",
   "execution_count": 25,
   "id": "45eb2ff5",
   "metadata": {
    "execution": {
     "iopub.execute_input": "2021-10-25T00:24:19.823156Z",
     "iopub.status.busy": "2021-10-25T00:24:19.821526Z",
     "iopub.status.idle": "2021-10-25T00:24:19.842858Z",
     "shell.execute_reply": "2021-10-25T00:24:19.843368Z"
    },
    "papermill": {
     "duration": 0.077326,
     "end_time": "2021-10-25T00:24:19.843526",
     "exception": false,
     "start_time": "2021-10-25T00:24:19.766200",
     "status": "completed"
    },
    "tags": []
   },
   "outputs": [],
   "source": [
    "new_model = Model(layers[:-2])\n",
    "testing_plot = new_model(testing_data_x)"
   ]
  },
  {
   "cell_type": "code",
   "execution_count": 26,
   "id": "4c0a5485",
   "metadata": {
    "execution": {
     "iopub.execute_input": "2021-10-25T00:24:19.951723Z",
     "iopub.status.busy": "2021-10-25T00:24:19.951119Z",
     "iopub.status.idle": "2021-10-25T00:24:20.204486Z",
     "shell.execute_reply": "2021-10-25T00:24:20.204970Z"
    },
    "papermill": {
     "duration": 0.308012,
     "end_time": "2021-10-25T00:24:20.205137",
     "exception": false,
     "start_time": "2021-10-25T00:24:19.897125",
     "status": "completed"
    },
    "tags": []
   },
   "outputs": [
    {
     "data": {
      "text/plain": [
       "Text(0.5, 1.0, 'Outputs')"
      ]
     },
     "execution_count": 26,
     "metadata": {},
     "output_type": "execute_result"
    },
    {
     "data": {
      "image/png": "[encoded data removed]",
      "text/plain": [
       "<Figure size 576x504 with 1 Axes>"
      ]
     },
     "metadata": {
      "needs_background": "light"
     },
     "output_type": "display_data"
    }
   ],
   "source": [
    "# Plotting the scatter plot of points and color coding by class\n",
    "plt.figure(figsize=(8,7))\n",
    "plt.scatter(testing_plot[:,0], testing_plot[:,1], alpha = 0.1, c = y_test.ravel());\n",
    "plt.title('Outputs')"
   ]
  },
  {
   "cell_type": "markdown",
   "id": "a74fcf8f",
   "metadata": {
    "papermill": {
     "duration": 0.048686,
     "end_time": "2021-10-25T00:24:20.303432",
     "exception": false,
     "start_time": "2021-10-25T00:24:20.254746",
     "status": "completed"
    },
    "tags": []
   },
   "source": [
    "Probability contours"
   ]
  },
  {
   "cell_type": "code",
   "execution_count": 27,
   "id": "d0afc8e3",
   "metadata": {
    "execution": {
     "iopub.execute_input": "2021-10-25T00:24:20.411042Z",
     "iopub.status.busy": "2021-10-25T00:24:20.410080Z",
     "iopub.status.idle": "2021-10-25T00:24:20.421606Z",
     "shell.execute_reply": "2021-10-25T00:24:20.422078Z"
    },
    "papermill": {
     "duration": 0.068555,
     "end_time": "2021-10-25T00:24:20.422279",
     "exception": false,
     "start_time": "2021-10-25T00:24:20.353724",
     "status": "completed"
    },
    "tags": []
   },
   "outputs": [],
   "source": [
    "model_prob = Model(layers[-2:]) "
   ]
  },
  {
   "cell_type": "code",
   "execution_count": 28,
   "id": "9b96e238",
   "metadata": {
    "execution": {
     "iopub.execute_input": "2021-10-25T00:24:20.572525Z",
     "iopub.status.busy": "2021-10-25T00:24:20.571709Z",
     "iopub.status.idle": "2021-10-25T00:24:20.586564Z",
     "shell.execute_reply": "2021-10-25T00:24:20.586988Z"
    },
    "papermill": {
     "duration": 0.078934,
     "end_time": "2021-10-25T00:24:20.587133",
     "exception": false,
     "start_time": "2021-10-25T00:24:20.508199",
     "status": "completed"
    },
    "tags": []
   },
   "outputs": [],
   "source": [
    "#creating the x and y ranges according to the above generated plot.\n",
    "x_range = np.linspace(-4, 1, 100) \n",
    "y_range = np.linspace(-6, 6, 100) \n",
    "x_grid, y_grid = np.meshgrid(x_range, y_range) # x_grid and y_grig are of size 100 X 100\n",
    "\n",
    "# converting x_grid and y_grid to continuous arrays\n",
    "x_gridflat = np.ravel(x_grid)\n",
    "y_gridflat = np.ravel(y_grid)\n",
    "\n",
    "# The last layer of the current model takes two columns as input. Hence transpose of np.vstack() is required.\n",
    "X = np.vstack((x_gridflat, y_gridflat)).T\n",
    "\n",
    "prob_contour = model_prob(X).reshape(100,100) "
   ]
  },
  {
   "cell_type": "code",
   "execution_count": 29,
   "id": "da72499a",
   "metadata": {
    "execution": {
     "iopub.execute_input": "2021-10-25T00:24:20.703385Z",
     "iopub.status.busy": "2021-10-25T00:24:20.702792Z",
     "iopub.status.idle": "2021-10-25T00:24:20.982958Z",
     "shell.execute_reply": "2021-10-25T00:24:20.982456Z"
    },
    "papermill": {
     "duration": 0.339659,
     "end_time": "2021-10-25T00:24:20.983103",
     "exception": false,
     "start_time": "2021-10-25T00:24:20.643444",
     "status": "completed"
    },
    "tags": []
   },
   "outputs": [
    {
     "data": {
      "image/png": "[encoded data removed]",
      "text/plain": [
       "<Figure size 720x648 with 1 Axes>"
      ]
     },
     "metadata": {
      "needs_background": "light"
     },
     "output_type": "display_data"
    }
   ],
   "source": [
    "plt.figure(figsize=(10,9))\n",
    "plt.scatter(testing_plot[:,0], testing_plot[:,1], alpha = 0.1, c = y_test.ravel())\n",
    "contours = plt.contour(x_grid,y_grid,prob_contour)\n",
    "plt.title('Probability Contours')\n",
    "plt.clabel(contours, inline = True );"
   ]
  },
  {
   "cell_type": "code",
   "execution_count": null,
   "id": "e81b4ac7",
   "metadata": {
    "papermill": {
     "duration": 0.056994,
     "end_time": "2021-10-25T00:24:21.096599",
     "exception": false,
     "start_time": "2021-10-25T00:24:21.039605",
     "status": "completed"
    },
    "tags": []
   },
   "outputs": [],
   "source": []
  }
 ],
 "metadata": {
  "kernelspec": {
   "display_name": "Python 3",
   "language": "python",
   "name": "python3"
  },
  "language_info": {
   "codemirror_mode": {
    "name": "ipython",
    "version": 3
   },
   "file_extension": ".py",
   "mimetype": "text/x-python",
   "name": "python",
   "nbconvert_exporter": "python",
   "pygments_lexer": "ipython3",
   "version": "3.6.15"
  },
  "papermill": {
   "default_parameters": {},
   "duration": 113.833761,
   "end_time": "2021-10-25T00:24:21.562863",
   "environment_variables": {},
   "exception": null,
   "input_path": "2020-08-11-part2.ipynb",
   "output_path": "2020-08-11-part2.ipynb",
   "parameters": {},
   "start_time": "2021-10-25T00:22:27.729102",
   "version": "2.3.3"
  }
 },
 "nbformat": 4,
 "nbformat_minor": 5
}