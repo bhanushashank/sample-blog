{
 "cells": [
  {
   "cell_type": "markdown",
   "id": "98380cd3",
   "metadata": {
    "papermill": {
     "duration": 0.028651,
     "end_time": "2022-05-04T00:37:04.062526",
     "exception": false,
     "start_time": "2022-05-04T00:37:04.033875",
     "status": "completed"
    },
    "tags": []
   },
   "source": [
    "# Distinguish Your Own Digits (DYOD)"
   ]
  },
  {
   "cell_type": "markdown",
   "id": "ef31240d",
   "metadata": {
    "papermill": {
     "duration": 0.025334,
     "end_time": "2022-05-04T00:37:04.114562",
     "exception": false,
     "start_time": "2022-05-04T00:37:04.089228",
     "status": "completed"
    },
    "tags": []
   },
   "source": [
    "You are going to write a classifier that distinguishes between the number 3 and number 8."
   ]
  },
  {
   "cell_type": "code",
   "execution_count": 1,
   "id": "b15c8646",
   "metadata": {
    "execution": {
     "iopub.execute_input": "2022-05-04T00:37:04.172972Z",
     "iopub.status.busy": "2022-05-04T00:37:04.172451Z",
     "iopub.status.idle": "2022-05-04T00:37:04.182395Z",
     "shell.execute_reply": "2022-05-04T00:37:04.182784Z"
    },
    "papermill": {
     "duration": 0.044527,
     "end_time": "2022-05-04T00:37:04.182927",
     "exception": false,
     "start_time": "2022-05-04T00:37:04.138400",
     "status": "completed"
    },
    "tags": []
   },
   "outputs": [],
   "source": [
    "%load_ext autoreload\n",
    "%autoreload 2"
   ]
  },
  {
   "cell_type": "code",
   "execution_count": 2,
   "id": "22ef38dc",
   "metadata": {
    "execution": {
     "iopub.execute_input": "2022-05-04T00:37:04.233860Z",
     "iopub.status.busy": "2022-05-04T00:37:04.233353Z",
     "iopub.status.idle": "2022-05-04T00:37:04.752630Z",
     "shell.execute_reply": "2022-05-04T00:37:04.752160Z"
    },
    "papermill": {
     "duration": 0.546038,
     "end_time": "2022-05-04T00:37:04.752755",
     "exception": false,
     "start_time": "2022-05-04T00:37:04.206717",
     "status": "completed"
    },
    "tags": []
   },
   "outputs": [],
   "source": [
    "%matplotlib inline\n",
    "import numpy as np\n",
    "import matplotlib.pyplot as plt\n",
    "import pandas as pd"
   ]
  },
  {
   "cell_type": "markdown",
   "id": "ba036198",
   "metadata": {
    "papermill": {
     "duration": 0.023909,
     "end_time": "2022-05-04T00:37:04.800608",
     "exception": false,
     "start_time": "2022-05-04T00:37:04.776699",
     "status": "completed"
    },
    "tags": []
   },
   "source": [
    "From the command line run `pip install mnist`. This is a library that will help you bring down the mnist dataset. If you run this from a notebook, you need to put  `!pip install mnist` in a cell by itself."
   ]
  },
  {
   "cell_type": "code",
   "execution_count": 3,
   "id": "bb6ad8a1",
   "metadata": {
    "execution": {
     "iopub.execute_input": "2022-05-04T00:37:04.852924Z",
     "iopub.status.busy": "2022-05-04T00:37:04.852411Z",
     "iopub.status.idle": "2022-05-04T00:37:06.572696Z",
     "shell.execute_reply": "2022-05-04T00:37:06.571876Z"
    },
    "papermill": {
     "duration": 1.748315,
     "end_time": "2022-05-04T00:37:06.572832",
     "exception": false,
     "start_time": "2022-05-04T00:37:04.824517",
     "status": "completed"
    },
    "tags": []
   },
   "outputs": [
    {
     "name": "stdout",
     "output_type": "stream",
     "text": [
      "Collecting mnist\r\n"
     ]
    },
    {
     "name": "stdout",
     "output_type": "stream",
     "text": [
      "  Downloading mnist-0.2.2-py2.py3-none-any.whl (3.5 kB)\r\n",
      "Requirement already satisfied: numpy in /opt/hostedtoolcache/Python/3.6.15/x64/lib/python3.6/site-packages (from mnist) (1.19.5)\r\n"
     ]
    },
    {
     "name": "stdout",
     "output_type": "stream",
     "text": [
      "Installing collected packages: mnist\r\n"
     ]
    },
    {
     "name": "stdout",
     "output_type": "stream",
     "text": [
      "Successfully installed mnist-0.2.2\r\n"
     ]
    }
   ],
   "source": [
    "!pip install mnist"
   ]
  },
  {
   "cell_type": "markdown",
   "id": "69df9c9a",
   "metadata": {
    "papermill": {
     "duration": 0.025107,
     "end_time": "2022-05-04T00:37:06.623233",
     "exception": false,
     "start_time": "2022-05-04T00:37:06.598126",
     "status": "completed"
    },
    "tags": []
   },
   "source": [
    "## Preparing the Data"
   ]
  },
  {
   "cell_type": "code",
   "execution_count": 4,
   "id": "7f69d806",
   "metadata": {
    "execution": {
     "iopub.execute_input": "2022-05-04T00:37:06.685004Z",
     "iopub.status.busy": "2022-05-04T00:37:06.676923Z",
     "iopub.status.idle": "2022-05-04T00:37:06.690791Z",
     "shell.execute_reply": "2022-05-04T00:37:06.691182Z"
    },
    "papermill": {
     "duration": 0.043129,
     "end_time": "2022-05-04T00:37:06.691315",
     "exception": false,
     "start_time": "2022-05-04T00:37:06.648186",
     "status": "completed"
    },
    "tags": []
   },
   "outputs": [],
   "source": [
    "import mnist"
   ]
  },
  {
   "cell_type": "code",
   "execution_count": 5,
   "id": "a411e44f",
   "metadata": {
    "execution": {
     "iopub.execute_input": "2022-05-04T00:37:06.749422Z",
     "iopub.status.busy": "2022-05-04T00:37:06.748904Z",
     "iopub.status.idle": "2022-05-04T00:37:07.434186Z",
     "shell.execute_reply": "2022-05-04T00:37:07.433613Z"
    },
    "papermill": {
     "duration": 0.71797,
     "end_time": "2022-05-04T00:37:07.434322",
     "exception": false,
     "start_time": "2022-05-04T00:37:06.716352",
     "status": "completed"
    },
    "tags": []
   },
   "outputs": [],
   "source": [
    "train_images = mnist.train_images()\n",
    "train_labels = mnist.train_labels()"
   ]
  },
  {
   "cell_type": "code",
   "execution_count": 6,
   "id": "dceab3a5",
   "metadata": {
    "execution": {
     "iopub.execute_input": "2022-05-04T00:37:07.500334Z",
     "iopub.status.busy": "2022-05-04T00:37:07.490321Z",
     "iopub.status.idle": "2022-05-04T00:37:07.504762Z",
     "shell.execute_reply": "2022-05-04T00:37:07.504349Z"
    },
    "papermill": {
     "duration": 0.044792,
     "end_time": "2022-05-04T00:37:07.504874",
     "exception": false,
     "start_time": "2022-05-04T00:37:07.460082",
     "status": "completed"
    },
    "tags": []
   },
   "outputs": [
    {
     "data": {
      "text/plain": [
       "((60000, 28, 28), (60000,))"
      ]
     },
     "execution_count": 6,
     "metadata": {},
     "output_type": "execute_result"
    }
   ],
   "source": [
    "train_images.shape, train_labels.shape"
   ]
  },
  {
   "cell_type": "code",
   "execution_count": 7,
   "id": "f50dc2bb",
   "metadata": {
    "execution": {
     "iopub.execute_input": "2022-05-04T00:37:07.572552Z",
     "iopub.status.busy": "2022-05-04T00:37:07.571058Z",
     "iopub.status.idle": "2022-05-04T00:37:07.718058Z",
     "shell.execute_reply": "2022-05-04T00:37:07.717533Z"
    },
    "papermill": {
     "duration": 0.188227,
     "end_time": "2022-05-04T00:37:07.718219",
     "exception": false,
     "start_time": "2022-05-04T00:37:07.529992",
     "status": "completed"
    },
    "tags": []
   },
   "outputs": [],
   "source": [
    "test_images = mnist.test_images()\n",
    "test_labels = mnist.test_labels()"
   ]
  },
  {
   "cell_type": "code",
   "execution_count": 8,
   "id": "fc38cf1b",
   "metadata": {
    "execution": {
     "iopub.execute_input": "2022-05-04T00:37:07.784874Z",
     "iopub.status.busy": "2022-05-04T00:37:07.784336Z",
     "iopub.status.idle": "2022-05-04T00:37:07.792222Z",
     "shell.execute_reply": "2022-05-04T00:37:07.791808Z"
    },
    "papermill": {
     "duration": 0.047911,
     "end_time": "2022-05-04T00:37:07.792335",
     "exception": false,
     "start_time": "2022-05-04T00:37:07.744424",
     "status": "completed"
    },
    "tags": []
   },
   "outputs": [
    {
     "data": {
      "text/plain": [
       "((10000, 28, 28), (10000,))"
      ]
     },
     "execution_count": 8,
     "metadata": {},
     "output_type": "execute_result"
    }
   ],
   "source": [
    "test_images.shape, test_labels.shape"
   ]
  },
  {
   "cell_type": "code",
   "execution_count": 9,
   "id": "f9ed8fe0",
   "metadata": {
    "execution": {
     "iopub.execute_input": "2022-05-04T00:37:07.846749Z",
     "iopub.status.busy": "2022-05-04T00:37:07.846230Z",
     "iopub.status.idle": "2022-05-04T00:37:07.980998Z",
     "shell.execute_reply": "2022-05-04T00:37:07.981469Z"
    },
    "papermill": {
     "duration": 0.163876,
     "end_time": "2022-05-04T00:37:07.981621",
     "exception": false,
     "start_time": "2022-05-04T00:37:07.817745",
     "status": "completed"
    },
    "tags": []
   },
   "outputs": [
    {
     "name": "stdout",
     "output_type": "stream",
     "text": [
      "2\n"
     ]
    },
    {
     "data": {
      "text/plain": [
       "<matplotlib.image.AxesImage at 0x7f0b044d0358>"
      ]
     },
     "execution_count": 9,
     "metadata": {},
     "output_type": "execute_result"
    },
    {
     "data": {
      "image/png": "[encoded data removed]",
      "text/plain": [
       "<Figure size 432x288 with 1 Axes>"
      ]
     },
     "metadata": {
      "needs_background": "light"
     },
     "output_type": "display_data"
    }
   ],
   "source": [
    "image_index = 7776 # You may select anything up to 60,000\n",
    "print(train_labels[image_index]) \n",
    "plt.imshow(train_images[image_index], cmap='Greys')"
   ]
  },
  {
   "cell_type": "markdown",
   "id": "a8d2388d",
   "metadata": {
    "papermill": {
     "duration": 0.026777,
     "end_time": "2022-05-04T00:37:08.036488",
     "exception": false,
     "start_time": "2022-05-04T00:37:08.009711",
     "status": "completed"
    },
    "tags": []
   },
   "source": [
    "## Filter data to get 3 and 8 out"
   ]
  },
  {
   "cell_type": "code",
   "execution_count": 10,
   "id": "776f7fc7",
   "metadata": {
    "execution": {
     "iopub.execute_input": "2022-05-04T00:37:08.093984Z",
     "iopub.status.busy": "2022-05-04T00:37:08.093458Z",
     "iopub.status.idle": "2022-05-04T00:37:08.109303Z",
     "shell.execute_reply": "2022-05-04T00:37:08.108865Z"
    },
    "papermill": {
     "duration": 0.046211,
     "end_time": "2022-05-04T00:37:08.109410",
     "exception": false,
     "start_time": "2022-05-04T00:37:08.063199",
     "status": "completed"
    },
    "tags": []
   },
   "outputs": [],
   "source": [
    "train_filter = np.where((train_labels == 3 ) | (train_labels == 8))\n",
    "test_filter = np.where((test_labels == 3) | (test_labels == 8))\n",
    "X_train, y_train = train_images[train_filter], train_labels[train_filter]\n",
    "X_test, y_test = test_images[test_filter], test_labels[test_filter]"
   ]
  },
  {
   "cell_type": "markdown",
   "id": "948f0b7e",
   "metadata": {
    "papermill": {
     "duration": 0.026792,
     "end_time": "2022-05-04T00:37:08.162778",
     "exception": false,
     "start_time": "2022-05-04T00:37:08.135986",
     "status": "completed"
    },
    "tags": []
   },
   "source": [
    "We normalize the pizel values in the 0 to 1 range"
   ]
  },
  {
   "cell_type": "code",
   "execution_count": 11,
   "id": "ee4c2166",
   "metadata": {
    "execution": {
     "iopub.execute_input": "2022-05-04T00:37:08.219328Z",
     "iopub.status.busy": "2022-05-04T00:37:08.218817Z",
     "iopub.status.idle": "2022-05-04T00:37:08.265310Z",
     "shell.execute_reply": "2022-05-04T00:37:08.265765Z"
    },
    "papermill": {
     "duration": 0.076678,
     "end_time": "2022-05-04T00:37:08.265921",
     "exception": false,
     "start_time": "2022-05-04T00:37:08.189243",
     "status": "completed"
    },
    "tags": []
   },
   "outputs": [],
   "source": [
    "X_train = X_train/255.\n",
    "X_test = X_test/255."
   ]
  },
  {
   "cell_type": "markdown",
   "id": "ddcf4fab",
   "metadata": {
    "papermill": {
     "duration": 0.026819,
     "end_time": "2022-05-04T00:37:08.320344",
     "exception": false,
     "start_time": "2022-05-04T00:37:08.293525",
     "status": "completed"
    },
    "tags": []
   },
   "source": [
    "And setup the labels as 1 (when the digit is 3) and 0 (when the digit is 8)"
   ]
  },
  {
   "cell_type": "code",
   "execution_count": 12,
   "id": "7dc908f2",
   "metadata": {
    "execution": {
     "iopub.execute_input": "2022-05-04T00:37:08.383318Z",
     "iopub.status.busy": "2022-05-04T00:37:08.382807Z",
     "iopub.status.idle": "2022-05-04T00:37:08.391496Z",
     "shell.execute_reply": "2022-05-04T00:37:08.391953Z"
    },
    "papermill": {
     "duration": 0.044024,
     "end_time": "2022-05-04T00:37:08.392107",
     "exception": false,
     "start_time": "2022-05-04T00:37:08.348083",
     "status": "completed"
    },
    "tags": []
   },
   "outputs": [],
   "source": [
    "y_train = 1*(y_train==3)\n",
    "y_test = 1*(y_test==3)"
   ]
  },
  {
   "cell_type": "code",
   "execution_count": 13,
   "id": "01e4e969",
   "metadata": {
    "execution": {
     "iopub.execute_input": "2022-05-04T00:37:08.449259Z",
     "iopub.status.busy": "2022-05-04T00:37:08.448744Z",
     "iopub.status.idle": "2022-05-04T00:37:08.461845Z",
     "shell.execute_reply": "2022-05-04T00:37:08.462274Z"
    },
    "papermill": {
     "duration": 0.043338,
     "end_time": "2022-05-04T00:37:08.462404",
     "exception": false,
     "start_time": "2022-05-04T00:37:08.419066",
     "status": "completed"
    },
    "tags": []
   },
   "outputs": [
    {
     "data": {
      "text/plain": [
       "((11982, 28, 28), (1984, 28, 28))"
      ]
     },
     "execution_count": 13,
     "metadata": {},
     "output_type": "execute_result"
    }
   ],
   "source": [
    "X_train.shape, X_test.shape"
   ]
  },
  {
   "cell_type": "markdown",
   "id": "5ccf3f85",
   "metadata": {
    "papermill": {
     "duration": 0.026602,
     "end_time": "2022-05-04T00:37:08.515910",
     "exception": false,
     "start_time": "2022-05-04T00:37:08.489308",
     "status": "completed"
    },
    "tags": []
   },
   "source": [
    "We reshape the data to flatten the image pixels into a set of features or co-variates:"
   ]
  },
  {
   "cell_type": "code",
   "execution_count": 14,
   "id": "5286a4a3",
   "metadata": {
    "execution": {
     "iopub.execute_input": "2022-05-04T00:37:08.583476Z",
     "iopub.status.busy": "2022-05-04T00:37:08.582952Z",
     "iopub.status.idle": "2022-05-04T00:37:08.590532Z",
     "shell.execute_reply": "2022-05-04T00:37:08.590915Z"
    },
    "papermill": {
     "duration": 0.048361,
     "end_time": "2022-05-04T00:37:08.591042",
     "exception": false,
     "start_time": "2022-05-04T00:37:08.542681",
     "status": "completed"
    },
    "tags": []
   },
   "outputs": [
    {
     "data": {
      "text/plain": [
       "((11982, 784), (1984, 784))"
      ]
     },
     "execution_count": 14,
     "metadata": {},
     "output_type": "execute_result"
    }
   ],
   "source": [
    "X_train = X_train.reshape(X_train.shape[0], -1)\n",
    "X_test = X_test.reshape(X_test.shape[0], -1)\n",
    "X_train.shape, X_test.shape"
   ]
  },
  {
   "cell_type": "code",
   "execution_count": 15,
   "id": "73c5f88a",
   "metadata": {
    "execution": {
     "iopub.execute_input": "2022-05-04T00:37:08.659097Z",
     "iopub.status.busy": "2022-05-04T00:37:08.648577Z",
     "iopub.status.idle": "2022-05-04T00:37:08.668089Z",
     "shell.execute_reply": "2022-05-04T00:37:08.668498Z"
    },
    "papermill": {
     "duration": 0.050451,
     "end_time": "2022-05-04T00:37:08.668619",
     "exception": false,
     "start_time": "2022-05-04T00:37:08.618168",
     "status": "completed"
    },
    "tags": []
   },
   "outputs": [],
   "source": [
    "#Impoting functions from 'Kudzu'\n",
    "from kudzu.model import Model\n",
    "from kudzu.train import Learner\n",
    "from kudzu.optim import GD\n",
    "from kudzu.data import Data, Sampler,Dataloader\n",
    "\n",
    "from kudzu.callbacks import AccCallback\n",
    "from kudzu.callbacks import ClfCallback\n",
    "\n",
    "from kudzu.loss import MSE\n",
    "\n",
    "from kudzu.layer import Sigmoid,Relu\n",
    "from kudzu.layer import Affine"
   ]
  },
  {
   "cell_type": "markdown",
   "id": "bc01172a",
   "metadata": {
    "papermill": {
     "duration": 0.027343,
     "end_time": "2022-05-04T00:37:08.723011",
     "exception": false,
     "start_time": "2022-05-04T00:37:08.695668",
     "status": "completed"
    },
    "tags": []
   },
   "source": [
    "### Let us create a `Config` class, to store important parameters. \n",
    "This class essentially plays the role of a dictionary."
   ]
  },
  {
   "cell_type": "code",
   "execution_count": 16,
   "id": "978281aa",
   "metadata": {
    "execution": {
     "iopub.execute_input": "2022-05-04T00:37:08.790790Z",
     "iopub.status.busy": "2022-05-04T00:37:08.786807Z",
     "iopub.status.idle": "2022-05-04T00:37:08.795376Z",
     "shell.execute_reply": "2022-05-04T00:37:08.795784Z"
    },
    "papermill": {
     "duration": 0.045919,
     "end_time": "2022-05-04T00:37:08.795907",
     "exception": false,
     "start_time": "2022-05-04T00:37:08.749988",
     "status": "completed"
    },
    "tags": []
   },
   "outputs": [],
   "source": [
    "class Config:\n",
    "    pass\n",
    "config = Config()\n",
    "config.lr = 0.001\n",
    "config.num_epochs = 250\n",
    "config.bs = 50"
   ]
  },
  {
   "cell_type": "markdown",
   "id": "1385fa59",
   "metadata": {
    "papermill": {
     "duration": 0.027042,
     "end_time": "2022-05-04T00:37:08.850186",
     "exception": false,
     "start_time": "2022-05-04T00:37:08.823144",
     "status": "completed"
    },
    "tags": []
   },
   "source": [
    "### Running Models with the Training data\n",
    "Details about the network layers:\n",
    "- A first affine layer has 784 inputs and does 100 affine transforms. These are followed by a Relu\n",
    "- A second affine layer has 100 inputs from the 100 activations of the past layer, and does 100 affine transforms. These are followed by a Relu\n",
    "- A third affine layer has 100 activations and does 2 affine transformations to create an embedding for visualization. There is no non-linearity here.\n",
    "- A final \"logistic regression\" which has an affine transform from 2 inputs to 1 output, which is squeezed through a sigmoid.\n"
   ]
  },
  {
   "cell_type": "code",
   "execution_count": 17,
   "id": "2b9c66db",
   "metadata": {
    "execution": {
     "iopub.execute_input": "2022-05-04T00:37:08.923652Z",
     "iopub.status.busy": "2022-05-04T00:37:08.922886Z",
     "iopub.status.idle": "2022-05-04T00:37:08.926966Z",
     "shell.execute_reply": "2022-05-04T00:37:08.926559Z"
    },
    "papermill": {
     "duration": 0.049817,
     "end_time": "2022-05-04T00:37:08.927069",
     "exception": false,
     "start_time": "2022-05-04T00:37:08.877252",
     "status": "completed"
    },
    "tags": []
   },
   "outputs": [],
   "source": [
    "data = Data(X_train, y_train.reshape(-1,1))\n",
    "sampler = Sampler(data, config.bs, shuffle=True)\n",
    "\n",
    "dl = Dataloader(data, sampler)\n",
    "\n",
    "opt = GD(config.lr)\n",
    "loss = MSE()"
   ]
  },
  {
   "cell_type": "code",
   "execution_count": 18,
   "id": "b275e4c2",
   "metadata": {
    "execution": {
     "iopub.execute_input": "2022-05-04T00:37:08.984553Z",
     "iopub.status.busy": "2022-05-04T00:37:08.984043Z",
     "iopub.status.idle": "2022-05-04T00:37:08.996283Z",
     "shell.execute_reply": "2022-05-04T00:37:08.995876Z"
    },
    "papermill": {
     "duration": 0.042363,
     "end_time": "2022-05-04T00:37:08.996389",
     "exception": false,
     "start_time": "2022-05-04T00:37:08.954026",
     "status": "completed"
    },
    "tags": []
   },
   "outputs": [],
   "source": [
    "training_data_x = X_train\n",
    "testing_data_x = X_test\n",
    "training_data_y = y_train.reshape(-1,1)\n",
    "testing_data_y = y_test.reshape(-1,1)"
   ]
  },
  {
   "cell_type": "code",
   "execution_count": 19,
   "id": "76951160",
   "metadata": {
    "execution": {
     "iopub.execute_input": "2022-05-04T00:37:09.063130Z",
     "iopub.status.busy": "2022-05-04T00:37:09.061886Z",
     "iopub.status.idle": "2022-05-04T00:37:09.072393Z",
     "shell.execute_reply": "2022-05-04T00:37:09.071962Z"
    },
    "papermill": {
     "duration": 0.04924,
     "end_time": "2022-05-04T00:37:09.072494",
     "exception": false,
     "start_time": "2022-05-04T00:37:09.023254",
     "status": "completed"
    },
    "tags": []
   },
   "outputs": [
    {
     "name": "stdout",
     "output_type": "stream",
     "text": [
      "xavier\n",
      "xavier\n",
      "xavier\n",
      "xavier\n",
      "xavier\n"
     ]
    }
   ],
   "source": [
    "layers = [Affine(\"first\", 784, 100), Relu(\"first\"), Affine(\"second\", 100, 100), Relu(\"second\"), Affine(\"third\", 100, 2), Affine(\"last\", 2, 1), Sigmoid(\"last\")]\n",
    "model_nn = Model(layers)\n",
    "model_lr = Model([Affine(\"logits\", 784, 1), Sigmoid(\"sigmoid\")])"
   ]
  },
  {
   "cell_type": "code",
   "execution_count": 20,
   "id": "6eede77a",
   "metadata": {
    "execution": {
     "iopub.execute_input": "2022-05-04T00:37:09.145230Z",
     "iopub.status.busy": "2022-05-04T00:37:09.142841Z",
     "iopub.status.idle": "2022-05-04T00:37:09.147236Z",
     "shell.execute_reply": "2022-05-04T00:37:09.147638Z"
    },
    "papermill": {
     "duration": 0.047786,
     "end_time": "2022-05-04T00:37:09.147764",
     "exception": false,
     "start_time": "2022-05-04T00:37:09.099978",
     "status": "completed"
    },
    "tags": []
   },
   "outputs": [],
   "source": [
    "nn_learner = Learner(loss, model_nn, opt, config.num_epochs)\n",
    "acc_nn = ClfCallback(nn_learner, config.bs, training_data_x , testing_data_x, training_data_y, testing_data_y)\n",
    "nn_learner.set_callbacks([acc_nn])"
   ]
  },
  {
   "cell_type": "code",
   "execution_count": 21,
   "id": "877b6cc7",
   "metadata": {
    "execution": {
     "iopub.execute_input": "2022-05-04T00:37:09.219618Z",
     "iopub.status.busy": "2022-05-04T00:37:09.219100Z",
     "iopub.status.idle": "2022-05-04T00:37:09.224384Z",
     "shell.execute_reply": "2022-05-04T00:37:09.223974Z"
    },
    "papermill": {
     "duration": 0.04929,
     "end_time": "2022-05-04T00:37:09.224493",
     "exception": false,
     "start_time": "2022-05-04T00:37:09.175203",
     "status": "completed"
    },
    "tags": []
   },
   "outputs": [],
   "source": [
    "lr_learner = Learner(loss, model_lr, opt, config.num_epochs)\n",
    "acc_lr = ClfCallback(lr_learner, config.bs, training_data_x , testing_data_x, training_data_y, testing_data_y)\n",
    "lr_learner.set_callbacks([acc_lr])"
   ]
  },
  {
   "cell_type": "code",
   "execution_count": 22,
   "id": "d9b133c3",
   "metadata": {
    "execution": {
     "iopub.execute_input": "2022-05-04T00:37:09.289882Z",
     "iopub.status.busy": "2022-05-04T00:37:09.289289Z",
     "iopub.status.idle": "2022-05-04T00:38:23.327720Z",
     "shell.execute_reply": "2022-05-04T00:38:23.328452Z"
    },
    "papermill": {
     "duration": 74.076569,
     "end_time": "2022-05-04T00:38:23.328595",
     "exception": false,
     "start_time": "2022-05-04T00:37:09.252026",
     "status": "completed"
    },
    "tags": []
   },
   "outputs": [
    {
     "name": "stdout",
     "output_type": "stream",
     "text": [
      "Epoch 0, Loss 0.2406\n",
      "Training Accuracy: 0.7623, Testing Accuracy: 0.7681\n",
      "\n"
     ]
    },
    {
     "name": "stdout",
     "output_type": "stream",
     "text": [
      "Epoch 10, Loss 0.0579\n",
      "Training Accuracy: 0.9438, Testing Accuracy: 0.9561\n",
      "\n"
     ]
    },
    {
     "name": "stdout",
     "output_type": "stream",
     "text": [
      "Epoch 20, Loss 0.0415\n",
      "Training Accuracy: 0.9564, Testing Accuracy: 0.9652\n",
      "\n"
     ]
    },
    {
     "name": "stdout",
     "output_type": "stream",
     "text": [
      "Epoch 30, Loss 0.0354\n",
      "Training Accuracy: 0.9606, Testing Accuracy: 0.9647\n",
      "\n"
     ]
    },
    {
     "name": "stdout",
     "output_type": "stream",
     "text": [
      "Epoch 40, Loss 0.0319\n",
      "Training Accuracy: 0.9635, Testing Accuracy: 0.9652\n",
      "\n"
     ]
    },
    {
     "name": "stdout",
     "output_type": "stream",
     "text": [
      "Epoch 50, Loss 0.0296\n",
      "Training Accuracy: 0.9661, Testing Accuracy: 0.9667\n",
      "\n"
     ]
    },
    {
     "name": "stdout",
     "output_type": "stream",
     "text": [
      "Epoch 60, Loss 0.028\n",
      "Training Accuracy: 0.9674, Testing Accuracy: 0.9677\n",
      "\n"
     ]
    },
    {
     "name": "stdout",
     "output_type": "stream",
     "text": [
      "Epoch 70, Loss 0.0267\n",
      "Training Accuracy: 0.9690, Testing Accuracy: 0.9693\n",
      "\n"
     ]
    },
    {
     "name": "stdout",
     "output_type": "stream",
     "text": [
      "Epoch 80, Loss 0.0256\n",
      "Training Accuracy: 0.9700, Testing Accuracy: 0.9718\n",
      "\n"
     ]
    },
    {
     "name": "stdout",
     "output_type": "stream",
     "text": [
      "Epoch 90, Loss 0.0247\n",
      "Training Accuracy: 0.9710, Testing Accuracy: 0.9718\n",
      "\n"
     ]
    },
    {
     "name": "stdout",
     "output_type": "stream",
     "text": [
      "Epoch 100, Loss 0.0239\n",
      "Training Accuracy: 0.9719, Testing Accuracy: 0.9708\n",
      "\n"
     ]
    },
    {
     "name": "stdout",
     "output_type": "stream",
     "text": [
      "Epoch 110, Loss 0.0232\n",
      "Training Accuracy: 0.9730, Testing Accuracy: 0.9738\n",
      "\n"
     ]
    },
    {
     "name": "stdout",
     "output_type": "stream",
     "text": [
      "Epoch 120, Loss 0.0226\n",
      "Training Accuracy: 0.9738, Testing Accuracy: 0.9738\n",
      "\n"
     ]
    },
    {
     "name": "stdout",
     "output_type": "stream",
     "text": [
      "Epoch 130, Loss 0.022\n",
      "Training Accuracy: 0.9746, Testing Accuracy: 0.9743\n",
      "\n"
     ]
    },
    {
     "name": "stdout",
     "output_type": "stream",
     "text": [
      "Epoch 140, Loss 0.0214\n",
      "Training Accuracy: 0.9755, Testing Accuracy: 0.9743\n",
      "\n"
     ]
    },
    {
     "name": "stdout",
     "output_type": "stream",
     "text": [
      "Epoch 150, Loss 0.0209\n",
      "Training Accuracy: 0.9760, Testing Accuracy: 0.9738\n",
      "\n"
     ]
    },
    {
     "name": "stdout",
     "output_type": "stream",
     "text": [
      "Epoch 160, Loss 0.0204\n",
      "Training Accuracy: 0.9767, Testing Accuracy: 0.9738\n",
      "\n"
     ]
    },
    {
     "name": "stdout",
     "output_type": "stream",
     "text": [
      "Epoch 170, Loss 0.0199\n",
      "Training Accuracy: 0.9772, Testing Accuracy: 0.9743\n",
      "\n"
     ]
    },
    {
     "name": "stdout",
     "output_type": "stream",
     "text": [
      "Epoch 180, Loss 0.0195\n",
      "Training Accuracy: 0.9779, Testing Accuracy: 0.9748\n",
      "\n"
     ]
    },
    {
     "name": "stdout",
     "output_type": "stream",
     "text": [
      "Epoch 190, Loss 0.0191\n",
      "Training Accuracy: 0.9785, Testing Accuracy: 0.9748\n",
      "\n"
     ]
    },
    {
     "name": "stdout",
     "output_type": "stream",
     "text": [
      "Epoch 200, Loss 0.0186\n",
      "Training Accuracy: 0.9790, Testing Accuracy: 0.9748\n",
      "\n"
     ]
    },
    {
     "name": "stdout",
     "output_type": "stream",
     "text": [
      "Epoch 210, Loss 0.0182\n",
      "Training Accuracy: 0.9801, Testing Accuracy: 0.9753\n",
      "\n"
     ]
    },
    {
     "name": "stdout",
     "output_type": "stream",
     "text": [
      "Epoch 220, Loss 0.0178\n",
      "Training Accuracy: 0.9805, Testing Accuracy: 0.9748\n",
      "\n"
     ]
    },
    {
     "name": "stdout",
     "output_type": "stream",
     "text": [
      "Epoch 230, Loss 0.0174\n",
      "Training Accuracy: 0.9811, Testing Accuracy: 0.9748\n",
      "\n"
     ]
    },
    {
     "name": "stdout",
     "output_type": "stream",
     "text": [
      "Epoch 240, Loss 0.0171\n",
      "Training Accuracy: 0.9814, Testing Accuracy: 0.9748\n",
      "\n"
     ]
    },
    {
     "data": {
      "text/plain": [
       "0.03399242073589839"
      ]
     },
     "execution_count": 22,
     "metadata": {},
     "output_type": "execute_result"
    }
   ],
   "source": [
    "nn_learner.train_loop(dl)"
   ]
  },
  {
   "cell_type": "code",
   "execution_count": 23,
   "id": "e0163366",
   "metadata": {
    "execution": {
     "iopub.execute_input": "2022-05-04T00:38:23.410176Z",
     "iopub.status.busy": "2022-05-04T00:38:23.409641Z",
     "iopub.status.idle": "2022-05-04T00:38:36.534827Z",
     "shell.execute_reply": "2022-05-04T00:38:36.535558Z"
    },
    "papermill": {
     "duration": 13.172474,
     "end_time": "2022-05-04T00:38:36.535705",
     "exception": false,
     "start_time": "2022-05-04T00:38:23.363231",
     "status": "completed"
    },
    "tags": []
   },
   "outputs": [
    {
     "name": "stdout",
     "output_type": "stream",
     "text": [
      "Epoch 0, Loss 0.2319\n",
      "Training Accuracy: 0.7391, Testing Accuracy: 0.7621\n",
      "\n"
     ]
    },
    {
     "name": "stdout",
     "output_type": "stream",
     "text": [
      "Epoch 10, Loss 0.1041\n",
      "Training Accuracy: 0.9067, Testing Accuracy: 0.9148\n",
      "\n"
     ]
    },
    {
     "name": "stdout",
     "output_type": "stream",
     "text": [
      "Epoch 20, Loss 0.0804\n",
      "Training Accuracy: 0.9271, Testing Accuracy: 0.9365\n",
      "\n"
     ]
    },
    {
     "name": "stdout",
     "output_type": "stream",
     "text": [
      "Epoch 30, Loss 0.0692\n",
      "Training Accuracy: 0.9347, Testing Accuracy: 0.9451\n",
      "\n"
     ]
    },
    {
     "name": "stdout",
     "output_type": "stream",
     "text": [
      "Epoch 40, Loss 0.0625\n",
      "Training Accuracy: 0.9392, Testing Accuracy: 0.9501\n",
      "\n"
     ]
    },
    {
     "name": "stdout",
     "output_type": "stream",
     "text": [
      "Epoch 50, Loss 0.0579\n",
      "Training Accuracy: 0.9427, Testing Accuracy: 0.9531\n",
      "\n"
     ]
    },
    {
     "name": "stdout",
     "output_type": "stream",
     "text": [
      "Epoch 60, Loss 0.0545\n",
      "Training Accuracy: 0.9454, Testing Accuracy: 0.9556\n",
      "\n"
     ]
    },
    {
     "name": "stdout",
     "output_type": "stream",
     "text": [
      "Epoch 70, Loss 0.0519\n",
      "Training Accuracy: 0.9477, Testing Accuracy: 0.9577\n",
      "\n"
     ]
    },
    {
     "name": "stdout",
     "output_type": "stream",
     "text": [
      "Epoch 80, Loss 0.0498\n",
      "Training Accuracy: 0.9492, Testing Accuracy: 0.9587\n",
      "\n"
     ]
    },
    {
     "name": "stdout",
     "output_type": "stream",
     "text": [
      "Epoch 90, Loss 0.0481\n",
      "Training Accuracy: 0.9510, Testing Accuracy: 0.9612\n",
      "\n"
     ]
    },
    {
     "name": "stdout",
     "output_type": "stream",
     "text": [
      "Epoch 100, Loss 0.0466\n",
      "Training Accuracy: 0.9525, Testing Accuracy: 0.9622\n",
      "\n"
     ]
    },
    {
     "name": "stdout",
     "output_type": "stream",
     "text": [
      "Epoch 110, Loss 0.0454\n",
      "Training Accuracy: 0.9533, Testing Accuracy: 0.9637\n",
      "\n"
     ]
    },
    {
     "name": "stdout",
     "output_type": "stream",
     "text": [
      "Epoch 120, Loss 0.0443\n",
      "Training Accuracy: 0.9542, Testing Accuracy: 0.9642\n",
      "\n"
     ]
    },
    {
     "name": "stdout",
     "output_type": "stream",
     "text": [
      "Epoch 130, Loss 0.0433\n",
      "Training Accuracy: 0.9548, Testing Accuracy: 0.9647\n",
      "\n"
     ]
    },
    {
     "name": "stdout",
     "output_type": "stream",
     "text": [
      "Epoch 140, Loss 0.0425\n",
      "Training Accuracy: 0.9552, Testing Accuracy: 0.9657\n",
      "\n"
     ]
    },
    {
     "name": "stdout",
     "output_type": "stream",
     "text": [
      "Epoch 150, Loss 0.0417\n",
      "Training Accuracy: 0.9557, Testing Accuracy: 0.9657\n",
      "\n"
     ]
    },
    {
     "name": "stdout",
     "output_type": "stream",
     "text": [
      "Epoch 160, Loss 0.041\n",
      "Training Accuracy: 0.9558, Testing Accuracy: 0.9657\n",
      "\n"
     ]
    },
    {
     "name": "stdout",
     "output_type": "stream",
     "text": [
      "Epoch 170, Loss 0.0404\n",
      "Training Accuracy: 0.9564, Testing Accuracy: 0.9657\n",
      "\n"
     ]
    },
    {
     "name": "stdout",
     "output_type": "stream",
     "text": [
      "Epoch 180, Loss 0.0398\n",
      "Training Accuracy: 0.9565, Testing Accuracy: 0.9657\n",
      "\n"
     ]
    },
    {
     "name": "stdout",
     "output_type": "stream",
     "text": [
      "Epoch 190, Loss 0.0393\n",
      "Training Accuracy: 0.9567, Testing Accuracy: 0.9662\n",
      "\n"
     ]
    },
    {
     "name": "stdout",
     "output_type": "stream",
     "text": [
      "Epoch 200, Loss 0.0388\n",
      "Training Accuracy: 0.9572, Testing Accuracy: 0.9657\n",
      "\n"
     ]
    },
    {
     "name": "stdout",
     "output_type": "stream",
     "text": [
      "Epoch 210, Loss 0.0383\n",
      "Training Accuracy: 0.9573, Testing Accuracy: 0.9667\n",
      "\n"
     ]
    },
    {
     "name": "stdout",
     "output_type": "stream",
     "text": [
      "Epoch 220, Loss 0.0379\n",
      "Training Accuracy: 0.9577, Testing Accuracy: 0.9667\n",
      "\n"
     ]
    },
    {
     "name": "stdout",
     "output_type": "stream",
     "text": [
      "Epoch 230, Loss 0.0375\n",
      "Training Accuracy: 0.9583, Testing Accuracy: 0.9667\n",
      "\n"
     ]
    },
    {
     "name": "stdout",
     "output_type": "stream",
     "text": [
      "Epoch 240, Loss 0.0372\n",
      "Training Accuracy: 0.9587, Testing Accuracy: 0.9667\n",
      "\n"
     ]
    },
    {
     "data": {
      "text/plain": [
       "0.02061299947038357"
      ]
     },
     "execution_count": 23,
     "metadata": {},
     "output_type": "execute_result"
    }
   ],
   "source": [
    "lr_learner.train_loop(dl)"
   ]
  },
  {
   "cell_type": "code",
   "execution_count": 24,
   "id": "ca410940",
   "metadata": {
    "execution": {
     "iopub.execute_input": "2022-05-04T00:38:36.627766Z",
     "iopub.status.busy": "2022-05-04T00:38:36.627245Z",
     "iopub.status.idle": "2022-05-04T00:38:36.844888Z",
     "shell.execute_reply": "2022-05-04T00:38:36.844418Z"
    },
    "papermill": {
     "duration": 0.26775,
     "end_time": "2022-05-04T00:38:36.845002",
     "exception": false,
     "start_time": "2022-05-04T00:38:36.577252",
     "status": "completed"
    },
    "tags": []
   },
   "outputs": [
    {
     "data": {
      "text/plain": [
       "<matplotlib.legend.Legend at 0x7f0af6d26a90>"
      ]
     },
     "execution_count": 24,
     "metadata": {},
     "output_type": "execute_result"
    },
    {
     "data": {
      "image/png": "[encoded data removed]",
      "text/plain": [
       "<Figure size 1080x720 with 1 Axes>"
      ]
     },
     "metadata": {
      "needs_background": "light"
     },
     "output_type": "display_data"
    }
   ],
   "source": [
    "#comparing the results of NN and LR\n",
    "plt.figure(figsize=(15,10))\n",
    "\n",
    "# Neural Network plots\n",
    "plt.plot(acc_nn.accuracies, 'r-', label = \"Training Accuracies - NN\")\n",
    "plt.plot(acc_nn.test_accuracies, 'g-', label = \"Testing Accuracies - NN\")\n",
    "\n",
    "# Logistic Regression plots\n",
    "plt.plot(acc_lr.accuracies, 'k-', label = \"Training Accuracies - LR\")\n",
    "plt.plot(acc_lr.test_accuracies, 'b-', label = \"Testing Accuracies - LR\")\n",
    "plt.legend()"
   ]
  },
  {
   "cell_type": "markdown",
   "id": "80dfb35c",
   "metadata": {
    "papermill": {
     "duration": 0.042348,
     "end_time": "2022-05-04T00:38:36.930214",
     "exception": false,
     "start_time": "2022-05-04T00:38:36.887866",
     "status": "completed"
    },
    "tags": []
   },
   "source": [
    "#### Plotting the outputs of this layer of the NN.\n"
   ]
  },
  {
   "cell_type": "code",
   "execution_count": 25,
   "id": "45eb2ff5",
   "metadata": {
    "execution": {
     "iopub.execute_input": "2022-05-04T00:38:37.018739Z",
     "iopub.status.busy": "2022-05-04T00:38:37.018204Z",
     "iopub.status.idle": "2022-05-04T00:38:37.038005Z",
     "shell.execute_reply": "2022-05-04T00:38:37.038473Z"
    },
    "papermill": {
     "duration": 0.066013,
     "end_time": "2022-05-04T00:38:37.038608",
     "exception": false,
     "start_time": "2022-05-04T00:38:36.972595",
     "status": "completed"
    },
    "tags": []
   },
   "outputs": [],
   "source": [
    "new_model = Model(layers[:-2])\n",
    "testing_plot = new_model(testing_data_x)"
   ]
  },
  {
   "cell_type": "code",
   "execution_count": 26,
   "id": "4c0a5485",
   "metadata": {
    "execution": {
     "iopub.execute_input": "2022-05-04T00:38:37.129359Z",
     "iopub.status.busy": "2022-05-04T00:38:37.128846Z",
     "iopub.status.idle": "2022-05-04T00:38:37.322677Z",
     "shell.execute_reply": "2022-05-04T00:38:37.323102Z"
    },
    "papermill": {
     "duration": 0.241845,
     "end_time": "2022-05-04T00:38:37.323242",
     "exception": false,
     "start_time": "2022-05-04T00:38:37.081397",
     "status": "completed"
    },
    "tags": []
   },
   "outputs": [
    {
     "data": {
      "text/plain": [
       "Text(0.5, 1.0, 'Outputs')"
      ]
     },
     "execution_count": 26,
     "metadata": {},
     "output_type": "execute_result"
    },
    {
     "data": {
      "image/png": "[encoded data removed]",
      "text/plain": [
       "<Figure size 576x504 with 1 Axes>"
      ]
     },
     "metadata": {
      "needs_background": "light"
     },
     "output_type": "display_data"
    }
   ],
   "source": [
    "# Plotting the scatter plot of points and color coding by class\n",
    "plt.figure(figsize=(8,7))\n",
    "plt.scatter(testing_plot[:,0], testing_plot[:,1], alpha = 0.1, c = y_test.ravel());\n",
    "plt.title('Outputs')"
   ]
  },
  {
   "cell_type": "markdown",
   "id": "a74fcf8f",
   "metadata": {
    "papermill": {
     "duration": 0.044456,
     "end_time": "2022-05-04T00:38:37.412324",
     "exception": false,
     "start_time": "2022-05-04T00:38:37.367868",
     "status": "completed"
    },
    "tags": []
   },
   "source": [
    "Probability contours"
   ]
  },
  {
   "cell_type": "code",
   "execution_count": 27,
   "id": "d0afc8e3",
   "metadata": {
    "execution": {
     "iopub.execute_input": "2022-05-04T00:38:37.505646Z",
     "iopub.status.busy": "2022-05-04T00:38:37.505049Z",
     "iopub.status.idle": "2022-05-04T00:38:37.516410Z",
     "shell.execute_reply": "2022-05-04T00:38:37.515950Z"
    },
    "papermill": {
     "duration": 0.059421,
     "end_time": "2022-05-04T00:38:37.516527",
     "exception": false,
     "start_time": "2022-05-04T00:38:37.457106",
     "status": "completed"
    },
    "tags": []
   },
   "outputs": [],
   "source": [
    "model_prob = Model(layers[-2:]) "
   ]
  },
  {
   "cell_type": "code",
   "execution_count": 28,
   "id": "9b96e238",
   "metadata": {
    "execution": {
     "iopub.execute_input": "2022-05-04T00:38:37.637182Z",
     "iopub.status.busy": "2022-05-04T00:38:37.636132Z",
     "iopub.status.idle": "2022-05-04T00:38:37.650789Z",
     "shell.execute_reply": "2022-05-04T00:38:37.651167Z"
    },
    "papermill": {
     "duration": 0.064616,
     "end_time": "2022-05-04T00:38:37.651290",
     "exception": false,
     "start_time": "2022-05-04T00:38:37.586674",
     "status": "completed"
    },
    "tags": []
   },
   "outputs": [],
   "source": [
    "#creating the x and y ranges according to the above generated plot.\n",
    "x_range = np.linspace(-4, 1, 100) \n",
    "y_range = np.linspace(-6, 6, 100) \n",
    "x_grid, y_grid = np.meshgrid(x_range, y_range) # x_grid and y_grig are of size 100 X 100\n",
    "\n",
    "# converting x_grid and y_grid to continuous arrays\n",
    "x_gridflat = np.ravel(x_grid)\n",
    "y_gridflat = np.ravel(y_grid)\n",
    "\n",
    "# The last layer of the current model takes two columns as input. Hence transpose of np.vstack() is required.\n",
    "X = np.vstack((x_gridflat, y_gridflat)).T\n",
    "\n",
    "prob_contour = model_prob(X).reshape(100,100) "
   ]
  },
  {
   "cell_type": "code",
   "execution_count": 29,
   "id": "da72499a",
   "metadata": {
    "execution": {
     "iopub.execute_input": "2022-05-04T00:38:37.748842Z",
     "iopub.status.busy": "2022-05-04T00:38:37.748344Z",
     "iopub.status.idle": "2022-05-04T00:38:37.989625Z",
     "shell.execute_reply": "2022-05-04T00:38:37.990037Z"
    },
    "papermill": {
     "duration": 0.29362,
     "end_time": "2022-05-04T00:38:37.990190",
     "exception": false,
     "start_time": "2022-05-04T00:38:37.696570",
     "status": "completed"
    },
    "tags": []
   },
   "outputs": [
    {
     "data": {
      "image/png": "[encoded data removed]",
      "text/plain": [
       "<Figure size 720x648 with 1 Axes>"
      ]
     },
     "metadata": {
      "needs_background": "light"
     },
     "output_type": "display_data"
    }
   ],
   "source": [
    "plt.figure(figsize=(10,9))\n",
    "plt.scatter(testing_plot[:,0], testing_plot[:,1], alpha = 0.1, c = y_test.ravel())\n",
    "contours = plt.contour(x_grid,y_grid,prob_contour)\n",
    "plt.title('Probability Contours')\n",
    "plt.clabel(contours, inline = True );"
   ]
  },
  {
   "cell_type": "code",
   "execution_count": null,
   "id": "e81b4ac7",
   "metadata": {
    "papermill": {
     "duration": 0.047335,
     "end_time": "2022-05-04T00:38:38.085362",
     "exception": false,
     "start_time": "2022-05-04T00:38:38.038027",
     "status": "completed"
    },
    "tags": []
   },
   "outputs": [],
   "source": []
  }
 ],
 "metadata": {
  "kernelspec": {
   "display_name": "Python 3",
   "language": "python",
   "name": "python3"
  },
  "language_info": {
   "codemirror_mode": {
    "name": "ipython",
    "version": 3
   },
   "file_extension": ".py",
   "mimetype": "text/x-python",
   "name": "python",
   "nbconvert_exporter": "python",
   "pygments_lexer": "ipython3",
   "version": "3.6.15"
  },
  "papermill": {
   "default_parameters": {},
   "duration": 95.333624,
   "end_time": "2022-05-04T00:38:38.450910",
   "environment_variables": {},
   "exception": null,
   "input_path": "2020-08-11-part2.ipynb",
   "output_path": "2020-08-11-part2.ipynb",
   "parameters": {},
   "start_time": "2022-05-04T00:37:03.117286",
   "version": "2.3.3"
  }
 },
 "nbformat": 4,
 "nbformat_minor": 5
}