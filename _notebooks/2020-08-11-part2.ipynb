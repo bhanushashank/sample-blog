{
 "cells": [
  {
   "cell_type": "markdown",
   "id": "98380cd3",
   "metadata": {
    "papermill": {
     "duration": 0.037921,
     "end_time": "2022-01-06T00:25:49.189700",
     "exception": false,
     "start_time": "2022-01-06T00:25:49.151779",
     "status": "completed"
    },
    "tags": []
   },
   "source": [
    "# Distinguish Your Own Digits (DYOD)"
   ]
  },
  {
   "cell_type": "markdown",
   "id": "ef31240d",
   "metadata": {
    "papermill": {
     "duration": 0.031722,
     "end_time": "2022-01-06T00:25:49.253521",
     "exception": false,
     "start_time": "2022-01-06T00:25:49.221799",
     "status": "completed"
    },
    "tags": []
   },
   "source": [
    "You are going to write a classifier that distinguishes between the number 3 and number 8."
   ]
  },
  {
   "cell_type": "code",
   "execution_count": 1,
   "id": "b15c8646",
   "metadata": {
    "execution": {
     "iopub.execute_input": "2022-01-06T00:25:49.332729Z",
     "iopub.status.busy": "2022-01-06T00:25:49.331151Z",
     "iopub.status.idle": "2022-01-06T00:25:49.342960Z",
     "shell.execute_reply": "2022-01-06T00:25:49.342413Z"
    },
    "papermill": {
     "duration": 0.053957,
     "end_time": "2022-01-06T00:25:49.343122",
     "exception": false,
     "start_time": "2022-01-06T00:25:49.289165",
     "status": "completed"
    },
    "tags": []
   },
   "outputs": [],
   "source": [
    "%load_ext autoreload\n",
    "%autoreload 2"
   ]
  },
  {
   "cell_type": "code",
   "execution_count": 2,
   "id": "22ef38dc",
   "metadata": {
    "execution": {
     "iopub.execute_input": "2022-01-06T00:25:49.414132Z",
     "iopub.status.busy": "2022-01-06T00:25:49.413485Z",
     "iopub.status.idle": "2022-01-06T00:25:50.138517Z",
     "shell.execute_reply": "2022-01-06T00:25:50.137960Z"
    },
    "papermill": {
     "duration": 0.765363,
     "end_time": "2022-01-06T00:25:50.138664",
     "exception": false,
     "start_time": "2022-01-06T00:25:49.373301",
     "status": "completed"
    },
    "tags": []
   },
   "outputs": [],
   "source": [
    "%matplotlib inline\n",
    "import numpy as np\n",
    "import matplotlib.pyplot as plt\n",
    "import pandas as pd"
   ]
  },
  {
   "cell_type": "markdown",
   "id": "ba036198",
   "metadata": {
    "papermill": {
     "duration": 0.030533,
     "end_time": "2022-01-06T00:25:50.199499",
     "exception": false,
     "start_time": "2022-01-06T00:25:50.168966",
     "status": "completed"
    },
    "tags": []
   },
   "source": [
    "From the command line run `pip install mnist`. This is a library that will help you bring down the mnist dataset. If you run this from a notebook, you need to put  `!pip install mnist` in a cell by itself."
   ]
  },
  {
   "cell_type": "code",
   "execution_count": 3,
   "id": "bb6ad8a1",
   "metadata": {
    "execution": {
     "iopub.execute_input": "2022-01-06T00:25:50.263427Z",
     "iopub.status.busy": "2022-01-06T00:25:50.262722Z",
     "iopub.status.idle": "2022-01-06T00:25:52.569620Z",
     "shell.execute_reply": "2022-01-06T00:25:52.569024Z"
    },
    "papermill": {
     "duration": 2.341139,
     "end_time": "2022-01-06T00:25:52.569757",
     "exception": false,
     "start_time": "2022-01-06T00:25:50.228618",
     "status": "completed"
    },
    "tags": []
   },
   "outputs": [
    {
     "name": "stdout",
     "output_type": "stream",
     "text": [
      "Collecting mnist\r\n"
     ]
    },
    {
     "name": "stdout",
     "output_type": "stream",
     "text": [
      "  Downloading mnist-0.2.2-py2.py3-none-any.whl (3.5 kB)\r\n",
      "Requirement already satisfied: numpy in /opt/hostedtoolcache/Python/3.6.15/x64/lib/python3.6/site-packages (from mnist) (1.19.5)\r\n"
     ]
    },
    {
     "name": "stdout",
     "output_type": "stream",
     "text": [
      "Installing collected packages: mnist\r\n"
     ]
    },
    {
     "name": "stdout",
     "output_type": "stream",
     "text": [
      "Successfully installed mnist-0.2.2\r\n"
     ]
    }
   ],
   "source": [
    "!pip install mnist"
   ]
  },
  {
   "cell_type": "markdown",
   "id": "69df9c9a",
   "metadata": {
    "papermill": {
     "duration": 0.031348,
     "end_time": "2022-01-06T00:25:52.634140",
     "exception": false,
     "start_time": "2022-01-06T00:25:52.602792",
     "status": "completed"
    },
    "tags": []
   },
   "source": [
    "## Preparing the Data"
   ]
  },
  {
   "cell_type": "code",
   "execution_count": 4,
   "id": "7f69d806",
   "metadata": {
    "execution": {
     "iopub.execute_input": "2022-01-06T00:25:52.715857Z",
     "iopub.status.busy": "2022-01-06T00:25:52.709113Z",
     "iopub.status.idle": "2022-01-06T00:25:52.721569Z",
     "shell.execute_reply": "2022-01-06T00:25:52.721061Z"
    },
    "papermill": {
     "duration": 0.055911,
     "end_time": "2022-01-06T00:25:52.721689",
     "exception": false,
     "start_time": "2022-01-06T00:25:52.665778",
     "status": "completed"
    },
    "tags": []
   },
   "outputs": [],
   "source": [
    "import mnist"
   ]
  },
  {
   "cell_type": "code",
   "execution_count": 5,
   "id": "a411e44f",
   "metadata": {
    "execution": {
     "iopub.execute_input": "2022-01-06T00:25:52.791414Z",
     "iopub.status.busy": "2022-01-06T00:25:52.790574Z",
     "iopub.status.idle": "2022-01-06T00:25:53.514800Z",
     "shell.execute_reply": "2022-01-06T00:25:53.514068Z"
    },
    "papermill": {
     "duration": 0.760259,
     "end_time": "2022-01-06T00:25:53.514980",
     "exception": false,
     "start_time": "2022-01-06T00:25:52.754721",
     "status": "completed"
    },
    "tags": []
   },
   "outputs": [],
   "source": [
    "train_images = mnist.train_images()\n",
    "train_labels = mnist.train_labels()"
   ]
  },
  {
   "cell_type": "code",
   "execution_count": 6,
   "id": "dceab3a5",
   "metadata": {
    "execution": {
     "iopub.execute_input": "2022-01-06T00:25:53.586978Z",
     "iopub.status.busy": "2022-01-06T00:25:53.585450Z",
     "iopub.status.idle": "2022-01-06T00:25:53.602465Z",
     "shell.execute_reply": "2022-01-06T00:25:53.603114Z"
    },
    "papermill": {
     "duration": 0.05405,
     "end_time": "2022-01-06T00:25:53.603272",
     "exception": false,
     "start_time": "2022-01-06T00:25:53.549222",
     "status": "completed"
    },
    "tags": []
   },
   "outputs": [
    {
     "data": {
      "text/plain": [
       "((60000, 28, 28), (60000,))"
      ]
     },
     "execution_count": 6,
     "metadata": {},
     "output_type": "execute_result"
    }
   ],
   "source": [
    "train_images.shape, train_labels.shape"
   ]
  },
  {
   "cell_type": "code",
   "execution_count": 7,
   "id": "f50dc2bb",
   "metadata": {
    "execution": {
     "iopub.execute_input": "2022-01-06T00:25:53.672459Z",
     "iopub.status.busy": "2022-01-06T00:25:53.671801Z",
     "iopub.status.idle": "2022-01-06T00:25:53.897546Z",
     "shell.execute_reply": "2022-01-06T00:25:53.898438Z"
    },
    "papermill": {
     "duration": 0.262124,
     "end_time": "2022-01-06T00:25:53.898615",
     "exception": false,
     "start_time": "2022-01-06T00:25:53.636491",
     "status": "completed"
    },
    "tags": []
   },
   "outputs": [],
   "source": [
    "test_images = mnist.test_images()\n",
    "test_labels = mnist.test_labels()"
   ]
  },
  {
   "cell_type": "code",
   "execution_count": 8,
   "id": "fc38cf1b",
   "metadata": {
    "execution": {
     "iopub.execute_input": "2022-01-06T00:25:53.971792Z",
     "iopub.status.busy": "2022-01-06T00:25:53.971166Z",
     "iopub.status.idle": "2022-01-06T00:25:53.985682Z",
     "shell.execute_reply": "2022-01-06T00:25:53.985136Z"
    },
    "papermill": {
     "duration": 0.054176,
     "end_time": "2022-01-06T00:25:53.985809",
     "exception": false,
     "start_time": "2022-01-06T00:25:53.931633",
     "status": "completed"
    },
    "tags": []
   },
   "outputs": [
    {
     "data": {
      "text/plain": [
       "((10000, 28, 28), (10000,))"
      ]
     },
     "execution_count": 8,
     "metadata": {},
     "output_type": "execute_result"
    }
   ],
   "source": [
    "test_images.shape, test_labels.shape"
   ]
  },
  {
   "cell_type": "code",
   "execution_count": 9,
   "id": "f9ed8fe0",
   "metadata": {
    "execution": {
     "iopub.execute_input": "2022-01-06T00:25:54.056430Z",
     "iopub.status.busy": "2022-01-06T00:25:54.055847Z",
     "iopub.status.idle": "2022-01-06T00:25:54.258082Z",
     "shell.execute_reply": "2022-01-06T00:25:54.258600Z"
    },
    "papermill": {
     "duration": 0.239976,
     "end_time": "2022-01-06T00:25:54.258766",
     "exception": false,
     "start_time": "2022-01-06T00:25:54.018790",
     "status": "completed"
    },
    "tags": []
   },
   "outputs": [
    {
     "name": "stdout",
     "output_type": "stream",
     "text": [
      "2\n"
     ]
    },
    {
     "data": {
      "text/plain": [
       "<matplotlib.image.AxesImage at 0x7f479b694080>"
      ]
     },
     "execution_count": 9,
     "metadata": {},
     "output_type": "execute_result"
    },
    {
     "data": {
      "image/png": "[encoded data removed]",
      "text/plain": [
       "<Figure size 432x288 with 1 Axes>"
      ]
     },
     "metadata": {
      "needs_background": "light"
     },
     "output_type": "display_data"
    }
   ],
   "source": [
    "image_index = 7776 # You may select anything up to 60,000\n",
    "print(train_labels[image_index]) \n",
    "plt.imshow(train_images[image_index], cmap='Greys')"
   ]
  },
  {
   "cell_type": "markdown",
   "id": "a8d2388d",
   "metadata": {
    "papermill": {
     "duration": 0.036541,
     "end_time": "2022-01-06T00:25:54.328630",
     "exception": false,
     "start_time": "2022-01-06T00:25:54.292089",
     "status": "completed"
    },
    "tags": []
   },
   "source": [
    "## Filter data to get 3 and 8 out"
   ]
  },
  {
   "cell_type": "code",
   "execution_count": 10,
   "id": "776f7fc7",
   "metadata": {
    "execution": {
     "iopub.execute_input": "2022-01-06T00:25:54.402079Z",
     "iopub.status.busy": "2022-01-06T00:25:54.401377Z",
     "iopub.status.idle": "2022-01-06T00:25:54.422115Z",
     "shell.execute_reply": "2022-01-06T00:25:54.420999Z"
    },
    "papermill": {
     "duration": 0.058735,
     "end_time": "2022-01-06T00:25:54.422267",
     "exception": false,
     "start_time": "2022-01-06T00:25:54.363532",
     "status": "completed"
    },
    "tags": []
   },
   "outputs": [],
   "source": [
    "train_filter = np.where((train_labels == 3 ) | (train_labels == 8))\n",
    "test_filter = np.where((test_labels == 3) | (test_labels == 8))\n",
    "X_train, y_train = train_images[train_filter], train_labels[train_filter]\n",
    "X_test, y_test = test_images[test_filter], test_labels[test_filter]"
   ]
  },
  {
   "cell_type": "markdown",
   "id": "948f0b7e",
   "metadata": {
    "papermill": {
     "duration": 0.032477,
     "end_time": "2022-01-06T00:25:54.489977",
     "exception": false,
     "start_time": "2022-01-06T00:25:54.457500",
     "status": "completed"
    },
    "tags": []
   },
   "source": [
    "We normalize the pizel values in the 0 to 1 range"
   ]
  },
  {
   "cell_type": "code",
   "execution_count": 11,
   "id": "ee4c2166",
   "metadata": {
    "execution": {
     "iopub.execute_input": "2022-01-06T00:25:54.566272Z",
     "iopub.status.busy": "2022-01-06T00:25:54.565541Z",
     "iopub.status.idle": "2022-01-06T00:25:54.632834Z",
     "shell.execute_reply": "2022-01-06T00:25:54.632217Z"
    },
    "papermill": {
     "duration": 0.106915,
     "end_time": "2022-01-06T00:25:54.632980",
     "exception": false,
     "start_time": "2022-01-06T00:25:54.526065",
     "status": "completed"
    },
    "tags": []
   },
   "outputs": [],
   "source": [
    "X_train = X_train/255.\n",
    "X_test = X_test/255."
   ]
  },
  {
   "cell_type": "markdown",
   "id": "ddcf4fab",
   "metadata": {
    "papermill": {
     "duration": 0.031868,
     "end_time": "2022-01-06T00:25:54.699795",
     "exception": false,
     "start_time": "2022-01-06T00:25:54.667927",
     "status": "completed"
    },
    "tags": []
   },
   "source": [
    "And setup the labels as 1 (when the digit is 3) and 0 (when the digit is 8)"
   ]
  },
  {
   "cell_type": "code",
   "execution_count": 12,
   "id": "7dc908f2",
   "metadata": {
    "execution": {
     "iopub.execute_input": "2022-01-06T00:25:54.771097Z",
     "iopub.status.busy": "2022-01-06T00:25:54.770348Z",
     "iopub.status.idle": "2022-01-06T00:25:54.786084Z",
     "shell.execute_reply": "2022-01-06T00:25:54.785343Z"
    },
    "papermill": {
     "duration": 0.052384,
     "end_time": "2022-01-06T00:25:54.786221",
     "exception": false,
     "start_time": "2022-01-06T00:25:54.733837",
     "status": "completed"
    },
    "tags": []
   },
   "outputs": [],
   "source": [
    "y_train = 1*(y_train==3)\n",
    "y_test = 1*(y_test==3)"
   ]
  },
  {
   "cell_type": "code",
   "execution_count": 13,
   "id": "01e4e969",
   "metadata": {
    "execution": {
     "iopub.execute_input": "2022-01-06T00:25:54.859416Z",
     "iopub.status.busy": "2022-01-06T00:25:54.858608Z",
     "iopub.status.idle": "2022-01-06T00:25:54.875304Z",
     "shell.execute_reply": "2022-01-06T00:25:54.875864Z"
    },
    "papermill": {
     "duration": 0.055843,
     "end_time": "2022-01-06T00:25:54.876010",
     "exception": false,
     "start_time": "2022-01-06T00:25:54.820167",
     "status": "completed"
    },
    "tags": []
   },
   "outputs": [
    {
     "data": {
      "text/plain": [
       "((11982, 28, 28), (1984, 28, 28))"
      ]
     },
     "execution_count": 13,
     "metadata": {},
     "output_type": "execute_result"
    }
   ],
   "source": [
    "X_train.shape, X_test.shape"
   ]
  },
  {
   "cell_type": "markdown",
   "id": "5ccf3f85",
   "metadata": {
    "papermill": {
     "duration": 0.042326,
     "end_time": "2022-01-06T00:25:54.952305",
     "exception": false,
     "start_time": "2022-01-06T00:25:54.909979",
     "status": "completed"
    },
    "tags": []
   },
   "source": [
    "We reshape the data to flatten the image pixels into a set of features or co-variates:"
   ]
  },
  {
   "cell_type": "code",
   "execution_count": 14,
   "id": "5286a4a3",
   "metadata": {
    "execution": {
     "iopub.execute_input": "2022-01-06T00:25:55.027317Z",
     "iopub.status.busy": "2022-01-06T00:25:55.026630Z",
     "iopub.status.idle": "2022-01-06T00:25:55.043766Z",
     "shell.execute_reply": "2022-01-06T00:25:55.044328Z"
    },
    "papermill": {
     "duration": 0.055595,
     "end_time": "2022-01-06T00:25:55.044500",
     "exception": false,
     "start_time": "2022-01-06T00:25:54.988905",
     "status": "completed"
    },
    "tags": []
   },
   "outputs": [
    {
     "data": {
      "text/plain": [
       "((11982, 784), (1984, 784))"
      ]
     },
     "execution_count": 14,
     "metadata": {},
     "output_type": "execute_result"
    }
   ],
   "source": [
    "X_train = X_train.reshape(X_train.shape[0], -1)\n",
    "X_test = X_test.reshape(X_test.shape[0], -1)\n",
    "X_train.shape, X_test.shape"
   ]
  },
  {
   "cell_type": "code",
   "execution_count": 15,
   "id": "73c5f88a",
   "metadata": {
    "execution": {
     "iopub.execute_input": "2022-01-06T00:25:55.123516Z",
     "iopub.status.busy": "2022-01-06T00:25:55.122739Z",
     "iopub.status.idle": "2022-01-06T00:25:55.145821Z",
     "shell.execute_reply": "2022-01-06T00:25:55.146347Z"
    },
    "papermill": {
     "duration": 0.064817,
     "end_time": "2022-01-06T00:25:55.146521",
     "exception": false,
     "start_time": "2022-01-06T00:25:55.081704",
     "status": "completed"
    },
    "tags": []
   },
   "outputs": [],
   "source": [
    "#Impoting functions from 'Kudzu'\n",
    "from kudzu.model import Model\n",
    "from kudzu.train import Learner\n",
    "from kudzu.optim import GD\n",
    "from kudzu.data import Data, Sampler,Dataloader\n",
    "\n",
    "from kudzu.callbacks import AccCallback\n",
    "from kudzu.callbacks import ClfCallback\n",
    "\n",
    "from kudzu.loss import MSE\n",
    "\n",
    "from kudzu.layer import Sigmoid,Relu\n",
    "from kudzu.layer import Affine"
   ]
  },
  {
   "cell_type": "markdown",
   "id": "bc01172a",
   "metadata": {
    "papermill": {
     "duration": 0.037032,
     "end_time": "2022-01-06T00:25:55.219520",
     "exception": false,
     "start_time": "2022-01-06T00:25:55.182488",
     "status": "completed"
    },
    "tags": []
   },
   "source": [
    "### Let us create a `Config` class, to store important parameters. \n",
    "This class essentially plays the role of a dictionary."
   ]
  },
  {
   "cell_type": "code",
   "execution_count": 16,
   "id": "978281aa",
   "metadata": {
    "execution": {
     "iopub.execute_input": "2022-01-06T00:25:55.293378Z",
     "iopub.status.busy": "2022-01-06T00:25:55.292721Z",
     "iopub.status.idle": "2022-01-06T00:25:55.306849Z",
     "shell.execute_reply": "2022-01-06T00:25:55.306336Z"
    },
    "papermill": {
     "duration": 0.051699,
     "end_time": "2022-01-06T00:25:55.306976",
     "exception": false,
     "start_time": "2022-01-06T00:25:55.255277",
     "status": "completed"
    },
    "tags": []
   },
   "outputs": [],
   "source": [
    "class Config:\n",
    "    pass\n",
    "config = Config()\n",
    "config.lr = 0.001\n",
    "config.num_epochs = 250\n",
    "config.bs = 50"
   ]
  },
  {
   "cell_type": "markdown",
   "id": "1385fa59",
   "metadata": {
    "papermill": {
     "duration": 0.033607,
     "end_time": "2022-01-06T00:25:55.376242",
     "exception": false,
     "start_time": "2022-01-06T00:25:55.342635",
     "status": "completed"
    },
    "tags": []
   },
   "source": [
    "### Running Models with the Training data\n",
    "Details about the network layers:\n",
    "- A first affine layer has 784 inputs and does 100 affine transforms. These are followed by a Relu\n",
    "- A second affine layer has 100 inputs from the 100 activations of the past layer, and does 100 affine transforms. These are followed by a Relu\n",
    "- A third affine layer has 100 activations and does 2 affine transformations to create an embedding for visualization. There is no non-linearity here.\n",
    "- A final \"logistic regression\" which has an affine transform from 2 inputs to 1 output, which is squeezed through a sigmoid.\n"
   ]
  },
  {
   "cell_type": "code",
   "execution_count": 17,
   "id": "2b9c66db",
   "metadata": {
    "execution": {
     "iopub.execute_input": "2022-01-06T00:25:55.453287Z",
     "iopub.status.busy": "2022-01-06T00:25:55.452204Z",
     "iopub.status.idle": "2022-01-06T00:25:55.469479Z",
     "shell.execute_reply": "2022-01-06T00:25:55.469978Z"
    },
    "papermill": {
     "duration": 0.058934,
     "end_time": "2022-01-06T00:25:55.470132",
     "exception": false,
     "start_time": "2022-01-06T00:25:55.411198",
     "status": "completed"
    },
    "tags": []
   },
   "outputs": [],
   "source": [
    "data = Data(X_train, y_train.reshape(-1,1))\n",
    "sampler = Sampler(data, config.bs, shuffle=True)\n",
    "\n",
    "dl = Dataloader(data, sampler)\n",
    "\n",
    "opt = GD(config.lr)\n",
    "loss = MSE()"
   ]
  },
  {
   "cell_type": "code",
   "execution_count": 18,
   "id": "b275e4c2",
   "metadata": {
    "execution": {
     "iopub.execute_input": "2022-01-06T00:25:55.546614Z",
     "iopub.status.busy": "2022-01-06T00:25:55.545817Z",
     "iopub.status.idle": "2022-01-06T00:25:55.560652Z",
     "shell.execute_reply": "2022-01-06T00:25:55.560132Z"
    },
    "papermill": {
     "duration": 0.054681,
     "end_time": "2022-01-06T00:25:55.560774",
     "exception": false,
     "start_time": "2022-01-06T00:25:55.506093",
     "status": "completed"
    },
    "tags": []
   },
   "outputs": [],
   "source": [
    "training_data_x = X_train\n",
    "testing_data_x = X_test\n",
    "training_data_y = y_train.reshape(-1,1)\n",
    "testing_data_y = y_test.reshape(-1,1)"
   ]
  },
  {
   "cell_type": "code",
   "execution_count": 19,
   "id": "76951160",
   "metadata": {
    "execution": {
     "iopub.execute_input": "2022-01-06T00:25:55.633374Z",
     "iopub.status.busy": "2022-01-06T00:25:55.632793Z",
     "iopub.status.idle": "2022-01-06T00:25:55.652857Z",
     "shell.execute_reply": "2022-01-06T00:25:55.652327Z"
    },
    "papermill": {
     "duration": 0.059177,
     "end_time": "2022-01-06T00:25:55.652986",
     "exception": false,
     "start_time": "2022-01-06T00:25:55.593809",
     "status": "completed"
    },
    "tags": []
   },
   "outputs": [
    {
     "name": "stdout",
     "output_type": "stream",
     "text": [
      "xavier\n",
      "xavier\n",
      "xavier\n",
      "xavier\n",
      "xavier\n"
     ]
    }
   ],
   "source": [
    "layers = [Affine(\"first\", 784, 100), Relu(\"first\"), Affine(\"second\", 100, 100), Relu(\"second\"), Affine(\"third\", 100, 2), Affine(\"last\", 2, 1), Sigmoid(\"last\")]\n",
    "model_nn = Model(layers)\n",
    "model_lr = Model([Affine(\"logits\", 784, 1), Sigmoid(\"sigmoid\")])"
   ]
  },
  {
   "cell_type": "code",
   "execution_count": 20,
   "id": "6eede77a",
   "metadata": {
    "execution": {
     "iopub.execute_input": "2022-01-06T00:25:55.726159Z",
     "iopub.status.busy": "2022-01-06T00:25:55.725558Z",
     "iopub.status.idle": "2022-01-06T00:25:55.741394Z",
     "shell.execute_reply": "2022-01-06T00:25:55.740898Z"
    },
    "papermill": {
     "duration": 0.054948,
     "end_time": "2022-01-06T00:25:55.741525",
     "exception": false,
     "start_time": "2022-01-06T00:25:55.686577",
     "status": "completed"
    },
    "tags": []
   },
   "outputs": [],
   "source": [
    "nn_learner = Learner(loss, model_nn, opt, config.num_epochs)\n",
    "acc_nn = ClfCallback(nn_learner, config.bs, training_data_x , testing_data_x, training_data_y, testing_data_y)\n",
    "nn_learner.set_callbacks([acc_nn])"
   ]
  },
  {
   "cell_type": "code",
   "execution_count": 21,
   "id": "877b6cc7",
   "metadata": {
    "execution": {
     "iopub.execute_input": "2022-01-06T00:25:55.816839Z",
     "iopub.status.busy": "2022-01-06T00:25:55.815806Z",
     "iopub.status.idle": "2022-01-06T00:25:55.828379Z",
     "shell.execute_reply": "2022-01-06T00:25:55.827843Z"
    },
    "papermill": {
     "duration": 0.054156,
     "end_time": "2022-01-06T00:25:55.828504",
     "exception": false,
     "start_time": "2022-01-06T00:25:55.774348",
     "status": "completed"
    },
    "tags": []
   },
   "outputs": [],
   "source": [
    "lr_learner = Learner(loss, model_lr, opt, config.num_epochs)\n",
    "acc_lr = ClfCallback(lr_learner, config.bs, training_data_x , testing_data_x, training_data_y, testing_data_y)\n",
    "lr_learner.set_callbacks([acc_lr])"
   ]
  },
  {
   "cell_type": "code",
   "execution_count": 22,
   "id": "d9b133c3",
   "metadata": {
    "execution": {
     "iopub.execute_input": "2022-01-06T00:25:55.902498Z",
     "iopub.status.busy": "2022-01-06T00:25:55.901514Z",
     "iopub.status.idle": "2022-01-06T00:28:22.465362Z",
     "shell.execute_reply": "2022-01-06T00:28:22.466226Z"
    },
    "papermill": {
     "duration": 146.601977,
     "end_time": "2022-01-06T00:28:22.466440",
     "exception": false,
     "start_time": "2022-01-06T00:25:55.864463",
     "status": "completed"
    },
    "tags": []
   },
   "outputs": [
    {
     "name": "stdout",
     "output_type": "stream",
     "text": [
      "Epoch 0, Loss 0.247\n",
      "Training Accuracy: 0.5742, Testing Accuracy: 0.5751\n",
      "\n"
     ]
    },
    {
     "name": "stdout",
     "output_type": "stream",
     "text": [
      "Epoch 10, Loss 0.1023\n",
      "Training Accuracy: 0.9049, Testing Accuracy: 0.9123\n",
      "\n"
     ]
    },
    {
     "name": "stdout",
     "output_type": "stream",
     "text": [
      "Epoch 20, Loss 0.0622\n",
      "Training Accuracy: 0.9337, Testing Accuracy: 0.9481\n",
      "\n"
     ]
    },
    {
     "name": "stdout",
     "output_type": "stream",
     "text": [
      "Epoch 30, Loss 0.0477\n",
      "Training Accuracy: 0.9472, Testing Accuracy: 0.9587\n",
      "\n"
     ]
    },
    {
     "name": "stdout",
     "output_type": "stream",
     "text": [
      "Epoch 40, Loss 0.0405\n",
      "Training Accuracy: 0.9534, Testing Accuracy: 0.9617\n",
      "\n"
     ]
    },
    {
     "name": "stdout",
     "output_type": "stream",
     "text": [
      "Epoch 50, Loss 0.0363\n",
      "Training Accuracy: 0.9580, Testing Accuracy: 0.9657\n",
      "\n"
     ]
    },
    {
     "name": "stdout",
     "output_type": "stream",
     "text": [
      "Epoch 60, Loss 0.0334\n",
      "Training Accuracy: 0.9611, Testing Accuracy: 0.9672\n",
      "\n"
     ]
    },
    {
     "name": "stdout",
     "output_type": "stream",
     "text": [
      "Epoch 70, Loss 0.0312\n",
      "Training Accuracy: 0.9640, Testing Accuracy: 0.9682\n",
      "\n"
     ]
    },
    {
     "name": "stdout",
     "output_type": "stream",
     "text": [
      "Epoch 80, Loss 0.0296\n",
      "Training Accuracy: 0.9657, Testing Accuracy: 0.9693\n",
      "\n"
     ]
    },
    {
     "name": "stdout",
     "output_type": "stream",
     "text": [
      "Epoch 90, Loss 0.0282\n",
      "Training Accuracy: 0.9670, Testing Accuracy: 0.9708\n",
      "\n"
     ]
    },
    {
     "name": "stdout",
     "output_type": "stream",
     "text": [
      "Epoch 100, Loss 0.027\n",
      "Training Accuracy: 0.9685, Testing Accuracy: 0.9718\n",
      "\n"
     ]
    },
    {
     "name": "stdout",
     "output_type": "stream",
     "text": [
      "Epoch 110, Loss 0.0261\n",
      "Training Accuracy: 0.9695, Testing Accuracy: 0.9718\n",
      "\n"
     ]
    },
    {
     "name": "stdout",
     "output_type": "stream",
     "text": [
      "Epoch 120, Loss 0.0252\n",
      "Training Accuracy: 0.9705, Testing Accuracy: 0.9733\n",
      "\n"
     ]
    },
    {
     "name": "stdout",
     "output_type": "stream",
     "text": [
      "Epoch 130, Loss 0.0244\n",
      "Training Accuracy: 0.9720, Testing Accuracy: 0.9728\n",
      "\n"
     ]
    },
    {
     "name": "stdout",
     "output_type": "stream",
     "text": [
      "Epoch 140, Loss 0.0237\n",
      "Training Accuracy: 0.9733, Testing Accuracy: 0.9743\n",
      "\n"
     ]
    },
    {
     "name": "stdout",
     "output_type": "stream",
     "text": [
      "Epoch 150, Loss 0.0231\n",
      "Training Accuracy: 0.9740, Testing Accuracy: 0.9743\n",
      "\n"
     ]
    },
    {
     "name": "stdout",
     "output_type": "stream",
     "text": [
      "Epoch 160, Loss 0.0225\n",
      "Training Accuracy: 0.9747, Testing Accuracy: 0.9738\n",
      "\n"
     ]
    },
    {
     "name": "stdout",
     "output_type": "stream",
     "text": [
      "Epoch 170, Loss 0.0219\n",
      "Training Accuracy: 0.9749, Testing Accuracy: 0.9738\n",
      "\n"
     ]
    },
    {
     "name": "stdout",
     "output_type": "stream",
     "text": [
      "Epoch 180, Loss 0.0214\n",
      "Training Accuracy: 0.9755, Testing Accuracy: 0.9743\n",
      "\n"
     ]
    },
    {
     "name": "stdout",
     "output_type": "stream",
     "text": [
      "Epoch 190, Loss 0.0209\n",
      "Training Accuracy: 0.9765, Testing Accuracy: 0.9748\n",
      "\n"
     ]
    },
    {
     "name": "stdout",
     "output_type": "stream",
     "text": [
      "Epoch 200, Loss 0.0205\n",
      "Training Accuracy: 0.9770, Testing Accuracy: 0.9748\n",
      "\n"
     ]
    },
    {
     "name": "stdout",
     "output_type": "stream",
     "text": [
      "Epoch 210, Loss 0.0201\n",
      "Training Accuracy: 0.9773, Testing Accuracy: 0.9743\n",
      "\n"
     ]
    },
    {
     "name": "stdout",
     "output_type": "stream",
     "text": [
      "Epoch 220, Loss 0.0197\n",
      "Training Accuracy: 0.9775, Testing Accuracy: 0.9743\n",
      "\n"
     ]
    },
    {
     "name": "stdout",
     "output_type": "stream",
     "text": [
      "Epoch 230, Loss 0.0193\n",
      "Training Accuracy: 0.9782, Testing Accuracy: 0.9743\n",
      "\n"
     ]
    },
    {
     "name": "stdout",
     "output_type": "stream",
     "text": [
      "Epoch 240, Loss 0.0189\n",
      "Training Accuracy: 0.9788, Testing Accuracy: 0.9743\n",
      "\n"
     ]
    },
    {
     "data": {
      "text/plain": [
       "0.02581699948875661"
      ]
     },
     "execution_count": 22,
     "metadata": {},
     "output_type": "execute_result"
    }
   ],
   "source": [
    "nn_learner.train_loop(dl)"
   ]
  },
  {
   "cell_type": "code",
   "execution_count": 23,
   "id": "e0163366",
   "metadata": {
    "execution": {
     "iopub.execute_input": "2022-01-06T00:28:22.571824Z",
     "iopub.status.busy": "2022-01-06T00:28:22.571101Z",
     "iopub.status.idle": "2022-01-06T00:28:43.432117Z",
     "shell.execute_reply": "2022-01-06T00:28:43.433164Z"
    },
    "papermill": {
     "duration": 20.921594,
     "end_time": "2022-01-06T00:28:43.433359",
     "exception": false,
     "start_time": "2022-01-06T00:28:22.511765",
     "status": "completed"
    },
    "tags": []
   },
   "outputs": [
    {
     "name": "stdout",
     "output_type": "stream",
     "text": [
      "Epoch 0, Loss 0.2162\n",
      "Training Accuracy: 0.7758, Testing Accuracy: 0.7666\n",
      "\n"
     ]
    },
    {
     "name": "stdout",
     "output_type": "stream",
     "text": [
      "Epoch 10, Loss 0.0983\n",
      "Training Accuracy: 0.9150, Testing Accuracy: 0.9204\n",
      "\n"
     ]
    },
    {
     "name": "stdout",
     "output_type": "stream",
     "text": [
      "Epoch 20, Loss 0.0772\n",
      "Training Accuracy: 0.9278, Testing Accuracy: 0.9370\n",
      "\n"
     ]
    },
    {
     "name": "stdout",
     "output_type": "stream",
     "text": [
      "Epoch 30, Loss 0.0671\n",
      "Training Accuracy: 0.9364, Testing Accuracy: 0.9486\n",
      "\n"
     ]
    },
    {
     "name": "stdout",
     "output_type": "stream",
     "text": [
      "Epoch 40, Loss 0.0608\n",
      "Training Accuracy: 0.9412, Testing Accuracy: 0.9511\n",
      "\n"
     ]
    },
    {
     "name": "stdout",
     "output_type": "stream",
     "text": [
      "Epoch 50, Loss 0.0565\n",
      "Training Accuracy: 0.9441, Testing Accuracy: 0.9541\n",
      "\n"
     ]
    },
    {
     "name": "stdout",
     "output_type": "stream",
     "text": [
      "Epoch 60, Loss 0.0533\n",
      "Training Accuracy: 0.9474, Testing Accuracy: 0.9577\n",
      "\n"
     ]
    },
    {
     "name": "stdout",
     "output_type": "stream",
     "text": [
      "Epoch 70, Loss 0.0509\n",
      "Training Accuracy: 0.9493, Testing Accuracy: 0.9587\n",
      "\n"
     ]
    },
    {
     "name": "stdout",
     "output_type": "stream",
     "text": [
      "Epoch 80, Loss 0.0489\n",
      "Training Accuracy: 0.9505, Testing Accuracy: 0.9597\n",
      "\n"
     ]
    },
    {
     "name": "stdout",
     "output_type": "stream",
     "text": [
      "Epoch 90, Loss 0.0472\n",
      "Training Accuracy: 0.9514, Testing Accuracy: 0.9607\n",
      "\n"
     ]
    },
    {
     "name": "stdout",
     "output_type": "stream",
     "text": [
      "Epoch 100, Loss 0.0458\n",
      "Training Accuracy: 0.9524, Testing Accuracy: 0.9622\n",
      "\n"
     ]
    },
    {
     "name": "stdout",
     "output_type": "stream",
     "text": [
      "Epoch 110, Loss 0.0446\n",
      "Training Accuracy: 0.9535, Testing Accuracy: 0.9637\n",
      "\n"
     ]
    },
    {
     "name": "stdout",
     "output_type": "stream",
     "text": [
      "Epoch 120, Loss 0.0435\n",
      "Training Accuracy: 0.9548, Testing Accuracy: 0.9637\n",
      "\n"
     ]
    },
    {
     "name": "stdout",
     "output_type": "stream",
     "text": [
      "Epoch 130, Loss 0.0426\n",
      "Training Accuracy: 0.9560, Testing Accuracy: 0.9652\n",
      "\n"
     ]
    },
    {
     "name": "stdout",
     "output_type": "stream",
     "text": [
      "Epoch 140, Loss 0.0418\n",
      "Training Accuracy: 0.9564, Testing Accuracy: 0.9667\n",
      "\n"
     ]
    },
    {
     "name": "stdout",
     "output_type": "stream",
     "text": [
      "Epoch 150, Loss 0.0411\n",
      "Training Accuracy: 0.9577, Testing Accuracy: 0.9667\n",
      "\n"
     ]
    },
    {
     "name": "stdout",
     "output_type": "stream",
     "text": [
      "Epoch 160, Loss 0.0404\n",
      "Training Accuracy: 0.9582, Testing Accuracy: 0.9672\n",
      "\n"
     ]
    },
    {
     "name": "stdout",
     "output_type": "stream",
     "text": [
      "Epoch 170, Loss 0.0398\n",
      "Training Accuracy: 0.9584, Testing Accuracy: 0.9672\n",
      "\n"
     ]
    },
    {
     "name": "stdout",
     "output_type": "stream",
     "text": [
      "Epoch 180, Loss 0.0392\n",
      "Training Accuracy: 0.9590, Testing Accuracy: 0.9672\n",
      "\n"
     ]
    },
    {
     "name": "stdout",
     "output_type": "stream",
     "text": [
      "Epoch 190, Loss 0.0387\n",
      "Training Accuracy: 0.9594, Testing Accuracy: 0.9677\n",
      "\n"
     ]
    },
    {
     "name": "stdout",
     "output_type": "stream",
     "text": [
      "Epoch 200, Loss 0.0382\n",
      "Training Accuracy: 0.9599, Testing Accuracy: 0.9682\n",
      "\n"
     ]
    },
    {
     "name": "stdout",
     "output_type": "stream",
     "text": [
      "Epoch 210, Loss 0.0378\n",
      "Training Accuracy: 0.9600, Testing Accuracy: 0.9682\n",
      "\n"
     ]
    },
    {
     "name": "stdout",
     "output_type": "stream",
     "text": [
      "Epoch 220, Loss 0.0374\n",
      "Training Accuracy: 0.9603, Testing Accuracy: 0.9688\n",
      "\n"
     ]
    },
    {
     "name": "stdout",
     "output_type": "stream",
     "text": [
      "Epoch 230, Loss 0.037\n",
      "Training Accuracy: 0.9609, Testing Accuracy: 0.9688\n",
      "\n"
     ]
    },
    {
     "name": "stdout",
     "output_type": "stream",
     "text": [
      "Epoch 240, Loss 0.0367\n",
      "Training Accuracy: 0.9609, Testing Accuracy: 0.9688\n",
      "\n"
     ]
    },
    {
     "data": {
      "text/plain": [
       "0.06933647072308119"
      ]
     },
     "execution_count": 23,
     "metadata": {},
     "output_type": "execute_result"
    }
   ],
   "source": [
    "lr_learner.train_loop(dl)"
   ]
  },
  {
   "cell_type": "code",
   "execution_count": 24,
   "id": "ca410940",
   "metadata": {
    "execution": {
     "iopub.execute_input": "2022-01-06T00:28:43.552213Z",
     "iopub.status.busy": "2022-01-06T00:28:43.551491Z",
     "iopub.status.idle": "2022-01-06T00:28:43.873323Z",
     "shell.execute_reply": "2022-01-06T00:28:43.873774Z"
    },
    "papermill": {
     "duration": 0.385188,
     "end_time": "2022-01-06T00:28:43.873930",
     "exception": false,
     "start_time": "2022-01-06T00:28:43.488742",
     "status": "completed"
    },
    "tags": []
   },
   "outputs": [
    {
     "data": {
      "text/plain": [
       "<matplotlib.legend.Legend at 0x7f479826fac8>"
      ]
     },
     "execution_count": 24,
     "metadata": {},
     "output_type": "execute_result"
    },
    {
     "data": {
      "image/png": "[encoded data removed]",
      "text/plain": [
       "<Figure size 1080x720 with 1 Axes>"
      ]
     },
     "metadata": {
      "needs_background": "light"
     },
     "output_type": "display_data"
    }
   ],
   "source": [
    "#comparing the results of NN and LR\n",
    "plt.figure(figsize=(15,10))\n",
    "\n",
    "# Neural Network plots\n",
    "plt.plot(acc_nn.accuracies, 'r-', label = \"Training Accuracies - NN\")\n",
    "plt.plot(acc_nn.test_accuracies, 'g-', label = \"Testing Accuracies - NN\")\n",
    "\n",
    "# Logistic Regression plots\n",
    "plt.plot(acc_lr.accuracies, 'k-', label = \"Training Accuracies - LR\")\n",
    "plt.plot(acc_lr.test_accuracies, 'b-', label = \"Testing Accuracies - LR\")\n",
    "plt.legend()"
   ]
  },
  {
   "cell_type": "markdown",
   "id": "80dfb35c",
   "metadata": {
    "papermill": {
     "duration": 0.054294,
     "end_time": "2022-01-06T00:28:43.982906",
     "exception": false,
     "start_time": "2022-01-06T00:28:43.928612",
     "status": "completed"
    },
    "tags": []
   },
   "source": [
    "#### Plotting the outputs of this layer of the NN.\n"
   ]
  },
  {
   "cell_type": "code",
   "execution_count": 25,
   "id": "45eb2ff5",
   "metadata": {
    "execution": {
     "iopub.execute_input": "2022-01-06T00:28:44.101536Z",
     "iopub.status.busy": "2022-01-06T00:28:44.100695Z",
     "iopub.status.idle": "2022-01-06T00:28:44.130554Z",
     "shell.execute_reply": "2022-01-06T00:28:44.131427Z"
    },
    "papermill": {
     "duration": 0.092387,
     "end_time": "2022-01-06T00:28:44.131612",
     "exception": false,
     "start_time": "2022-01-06T00:28:44.039225",
     "status": "completed"
    },
    "tags": []
   },
   "outputs": [],
   "source": [
    "new_model = Model(layers[:-2])\n",
    "testing_plot = new_model(testing_data_x)"
   ]
  },
  {
   "cell_type": "code",
   "execution_count": 26,
   "id": "4c0a5485",
   "metadata": {
    "execution": {
     "iopub.execute_input": "2022-01-06T00:28:44.246938Z",
     "iopub.status.busy": "2022-01-06T00:28:44.246168Z",
     "iopub.status.idle": "2022-01-06T00:28:44.558503Z",
     "shell.execute_reply": "2022-01-06T00:28:44.559144Z"
    },
    "papermill": {
     "duration": 0.3721,
     "end_time": "2022-01-06T00:28:44.559312",
     "exception": false,
     "start_time": "2022-01-06T00:28:44.187212",
     "status": "completed"
    },
    "tags": []
   },
   "outputs": [
    {
     "data": {
      "text/plain": [
       "Text(0.5, 1.0, 'Outputs')"
      ]
     },
     "execution_count": 26,
     "metadata": {},
     "output_type": "execute_result"
    },
    {
     "data": {
      "image/png": "[encoded data removed]",
      "text/plain": [
       "<Figure size 576x504 with 1 Axes>"
      ]
     },
     "metadata": {
      "needs_background": "light"
     },
     "output_type": "display_data"
    }
   ],
   "source": [
    "# Plotting the scatter plot of points and color coding by class\n",
    "plt.figure(figsize=(8,7))\n",
    "plt.scatter(testing_plot[:,0], testing_plot[:,1], alpha = 0.1, c = y_test.ravel());\n",
    "plt.title('Outputs')"
   ]
  },
  {
   "cell_type": "markdown",
   "id": "a74fcf8f",
   "metadata": {
    "papermill": {
     "duration": 0.05753,
     "end_time": "2022-01-06T00:28:44.693944",
     "exception": false,
     "start_time": "2022-01-06T00:28:44.636414",
     "status": "completed"
    },
    "tags": []
   },
   "source": [
    "Probability contours"
   ]
  },
  {
   "cell_type": "code",
   "execution_count": 27,
   "id": "d0afc8e3",
   "metadata": {
    "execution": {
     "iopub.execute_input": "2022-01-06T00:28:44.836549Z",
     "iopub.status.busy": "2022-01-06T00:28:44.835887Z",
     "iopub.status.idle": "2022-01-06T00:28:44.849439Z",
     "shell.execute_reply": "2022-01-06T00:28:44.848591Z"
    },
    "papermill": {
     "duration": 0.099935,
     "end_time": "2022-01-06T00:28:44.849663",
     "exception": false,
     "start_time": "2022-01-06T00:28:44.749728",
     "status": "completed"
    },
    "tags": []
   },
   "outputs": [],
   "source": [
    "model_prob = Model(layers[-2:]) "
   ]
  },
  {
   "cell_type": "code",
   "execution_count": 28,
   "id": "9b96e238",
   "metadata": {
    "execution": {
     "iopub.execute_input": "2022-01-06T00:28:44.972480Z",
     "iopub.status.busy": "2022-01-06T00:28:44.969758Z",
     "iopub.status.idle": "2022-01-06T00:28:44.985987Z",
     "shell.execute_reply": "2022-01-06T00:28:44.986554Z"
    },
    "papermill": {
     "duration": 0.081507,
     "end_time": "2022-01-06T00:28:44.986769",
     "exception": false,
     "start_time": "2022-01-06T00:28:44.905262",
     "status": "completed"
    },
    "tags": []
   },
   "outputs": [],
   "source": [
    "#creating the x and y ranges according to the above generated plot.\n",
    "x_range = np.linspace(-4, 1, 100) \n",
    "y_range = np.linspace(-6, 6, 100) \n",
    "x_grid, y_grid = np.meshgrid(x_range, y_range) # x_grid and y_grig are of size 100 X 100\n",
    "\n",
    "# converting x_grid and y_grid to continuous arrays\n",
    "x_gridflat = np.ravel(x_grid)\n",
    "y_gridflat = np.ravel(y_grid)\n",
    "\n",
    "# The last layer of the current model takes two columns as input. Hence transpose of np.vstack() is required.\n",
    "X = np.vstack((x_gridflat, y_gridflat)).T\n",
    "\n",
    "prob_contour = model_prob(X).reshape(100,100) "
   ]
  },
  {
   "cell_type": "code",
   "execution_count": 29,
   "id": "da72499a",
   "metadata": {
    "execution": {
     "iopub.execute_input": "2022-01-06T00:28:45.133062Z",
     "iopub.status.busy": "2022-01-06T00:28:45.132343Z",
     "iopub.status.idle": "2022-01-06T00:28:45.458462Z",
     "shell.execute_reply": "2022-01-06T00:28:45.457871Z"
    },
    "papermill": {
     "duration": 0.40472,
     "end_time": "2022-01-06T00:28:45.458609",
     "exception": false,
     "start_time": "2022-01-06T00:28:45.053889",
     "status": "completed"
    },
    "tags": []
   },
   "outputs": [
    {
     "data": {
      "image/png": "[encoded data removed]",
      "text/plain": [
       "<Figure size 720x648 with 1 Axes>"
      ]
     },
     "metadata": {
      "needs_background": "light"
     },
     "output_type": "display_data"
    }
   ],
   "source": [
    "plt.figure(figsize=(10,9))\n",
    "plt.scatter(testing_plot[:,0], testing_plot[:,1], alpha = 0.1, c = y_test.ravel())\n",
    "contours = plt.contour(x_grid,y_grid,prob_contour)\n",
    "plt.title('Probability Contours')\n",
    "plt.clabel(contours, inline = True );"
   ]
  },
  {
   "cell_type": "code",
   "execution_count": null,
   "id": "e81b4ac7",
   "metadata": {
    "papermill": {
     "duration": 0.062572,
     "end_time": "2022-01-06T00:28:45.584969",
     "exception": false,
     "start_time": "2022-01-06T00:28:45.522397",
     "status": "completed"
    },
    "tags": []
   },
   "outputs": [],
   "source": []
  }
 ],
 "metadata": {
  "kernelspec": {
   "display_name": "Python 3",
   "language": "python",
   "name": "python3"
  },
  "language_info": {
   "codemirror_mode": {
    "name": "ipython",
    "version": 3
   },
   "file_extension": ".py",
   "mimetype": "text/x-python",
   "name": "python",
   "nbconvert_exporter": "python",
   "pygments_lexer": "ipython3",
   "version": "3.6.15"
  },
  "papermill": {
   "default_parameters": {},
   "duration": 178.236124,
   "end_time": "2022-01-06T00:28:46.055252",
   "environment_variables": {},
   "exception": null,
   "input_path": "2020-08-11-part2.ipynb",
   "output_path": "2020-08-11-part2.ipynb",
   "parameters": {},
   "start_time": "2022-01-06T00:25:47.819128",
   "version": "2.3.3"
  }
 },
 "nbformat": 4,
 "nbformat_minor": 5
}