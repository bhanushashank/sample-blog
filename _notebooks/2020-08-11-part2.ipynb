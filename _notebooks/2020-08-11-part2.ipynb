{
 "cells": [
  {
   "cell_type": "markdown",
   "id": "98380cd3",
   "metadata": {
    "papermill": {
     "duration": 0.029122,
     "end_time": "2022-06-11T00:39:56.860710",
     "exception": false,
     "start_time": "2022-06-11T00:39:56.831588",
     "status": "completed"
    },
    "tags": []
   },
   "source": [
    "# Distinguish Your Own Digits (DYOD)"
   ]
  },
  {
   "cell_type": "markdown",
   "id": "ef31240d",
   "metadata": {
    "papermill": {
     "duration": 0.024169,
     "end_time": "2022-06-11T00:39:56.909723",
     "exception": false,
     "start_time": "2022-06-11T00:39:56.885554",
     "status": "completed"
    },
    "tags": []
   },
   "source": [
    "You are going to write a classifier that distinguishes between the number 3 and number 8."
   ]
  },
  {
   "cell_type": "code",
   "execution_count": 1,
   "id": "b15c8646",
   "metadata": {
    "execution": {
     "iopub.execute_input": "2022-06-11T00:39:56.967970Z",
     "iopub.status.busy": "2022-06-11T00:39:56.967398Z",
     "iopub.status.idle": "2022-06-11T00:39:56.978096Z",
     "shell.execute_reply": "2022-06-11T00:39:56.977593Z"
    },
    "papermill": {
     "duration": 0.044387,
     "end_time": "2022-06-11T00:39:56.978212",
     "exception": false,
     "start_time": "2022-06-11T00:39:56.933825",
     "status": "completed"
    },
    "tags": []
   },
   "outputs": [],
   "source": [
    "%load_ext autoreload\n",
    "%autoreload 2"
   ]
  },
  {
   "cell_type": "code",
   "execution_count": 2,
   "id": "22ef38dc",
   "metadata": {
    "execution": {
     "iopub.execute_input": "2022-06-11T00:39:57.030504Z",
     "iopub.status.busy": "2022-06-11T00:39:57.029930Z",
     "iopub.status.idle": "2022-06-11T00:39:57.535223Z",
     "shell.execute_reply": "2022-06-11T00:39:57.534747Z"
    },
    "papermill": {
     "duration": 0.533013,
     "end_time": "2022-06-11T00:39:57.535340",
     "exception": false,
     "start_time": "2022-06-11T00:39:57.002327",
     "status": "completed"
    },
    "tags": []
   },
   "outputs": [],
   "source": [
    "%matplotlib inline\n",
    "import numpy as np\n",
    "import matplotlib.pyplot as plt\n",
    "import pandas as pd"
   ]
  },
  {
   "cell_type": "markdown",
   "id": "ba036198",
   "metadata": {
    "papermill": {
     "duration": 0.02406,
     "end_time": "2022-06-11T00:39:57.583542",
     "exception": false,
     "start_time": "2022-06-11T00:39:57.559482",
     "status": "completed"
    },
    "tags": []
   },
   "source": [
    "From the command line run `pip install mnist`. This is a library that will help you bring down the mnist dataset. If you run this from a notebook, you need to put  `!pip install mnist` in a cell by itself."
   ]
  },
  {
   "cell_type": "code",
   "execution_count": 3,
   "id": "bb6ad8a1",
   "metadata": {
    "execution": {
     "iopub.execute_input": "2022-06-11T00:39:57.639275Z",
     "iopub.status.busy": "2022-06-11T00:39:57.636756Z",
     "iopub.status.idle": "2022-06-11T00:40:00.094913Z",
     "shell.execute_reply": "2022-06-11T00:40:00.094119Z"
    },
    "papermill": {
     "duration": 2.487389,
     "end_time": "2022-06-11T00:40:00.095034",
     "exception": false,
     "start_time": "2022-06-11T00:39:57.607645",
     "status": "completed"
    },
    "tags": []
   },
   "outputs": [
    {
     "name": "stdout",
     "output_type": "stream",
     "text": [
      "Collecting mnist\r\n"
     ]
    },
    {
     "name": "stdout",
     "output_type": "stream",
     "text": [
      "  Downloading mnist-0.2.2-py2.py3-none-any.whl (3.5 kB)\r\n",
      "Requirement already satisfied: numpy in /opt/hostedtoolcache/Python/3.6.15/x64/lib/python3.6/site-packages (from mnist) (1.19.5)\r\n"
     ]
    },
    {
     "name": "stdout",
     "output_type": "stream",
     "text": [
      "Installing collected packages: mnist\r\n"
     ]
    },
    {
     "name": "stdout",
     "output_type": "stream",
     "text": [
      "Successfully installed mnist-0.2.2\r\n"
     ]
    }
   ],
   "source": [
    "!pip install mnist"
   ]
  },
  {
   "cell_type": "markdown",
   "id": "69df9c9a",
   "metadata": {
    "papermill": {
     "duration": 0.025615,
     "end_time": "2022-06-11T00:40:00.146233",
     "exception": false,
     "start_time": "2022-06-11T00:40:00.120618",
     "status": "completed"
    },
    "tags": []
   },
   "source": [
    "## Preparing the Data"
   ]
  },
  {
   "cell_type": "code",
   "execution_count": 4,
   "id": "7f69d806",
   "metadata": {
    "execution": {
     "iopub.execute_input": "2022-06-11T00:40:00.201215Z",
     "iopub.status.busy": "2022-06-11T00:40:00.200650Z",
     "iopub.status.idle": "2022-06-11T00:40:00.214187Z",
     "shell.execute_reply": "2022-06-11T00:40:00.213738Z"
    },
    "papermill": {
     "duration": 0.043012,
     "end_time": "2022-06-11T00:40:00.214293",
     "exception": false,
     "start_time": "2022-06-11T00:40:00.171281",
     "status": "completed"
    },
    "tags": []
   },
   "outputs": [],
   "source": [
    "import mnist"
   ]
  },
  {
   "cell_type": "code",
   "execution_count": 5,
   "id": "a411e44f",
   "metadata": {
    "execution": {
     "iopub.execute_input": "2022-06-11T00:40:00.268160Z",
     "iopub.status.busy": "2022-06-11T00:40:00.267615Z",
     "iopub.status.idle": "2022-06-11T00:40:00.909753Z",
     "shell.execute_reply": "2022-06-11T00:40:00.909256Z"
    },
    "papermill": {
     "duration": 0.670347,
     "end_time": "2022-06-11T00:40:00.909867",
     "exception": false,
     "start_time": "2022-06-11T00:40:00.239520",
     "status": "completed"
    },
    "tags": []
   },
   "outputs": [],
   "source": [
    "train_images = mnist.train_images()\n",
    "train_labels = mnist.train_labels()"
   ]
  },
  {
   "cell_type": "code",
   "execution_count": 6,
   "id": "dceab3a5",
   "metadata": {
    "execution": {
     "iopub.execute_input": "2022-06-11T00:40:00.967274Z",
     "iopub.status.busy": "2022-06-11T00:40:00.963898Z",
     "iopub.status.idle": "2022-06-11T00:40:00.978178Z",
     "shell.execute_reply": "2022-06-11T00:40:00.977636Z"
    },
    "papermill": {
     "duration": 0.042941,
     "end_time": "2022-06-11T00:40:00.978282",
     "exception": false,
     "start_time": "2022-06-11T00:40:00.935341",
     "status": "completed"
    },
    "tags": []
   },
   "outputs": [
    {
     "data": {
      "text/plain": [
       "((60000, 28, 28), (60000,))"
      ]
     },
     "execution_count": 6,
     "metadata": {},
     "output_type": "execute_result"
    }
   ],
   "source": [
    "train_images.shape, train_labels.shape"
   ]
  },
  {
   "cell_type": "code",
   "execution_count": 7,
   "id": "f50dc2bb",
   "metadata": {
    "execution": {
     "iopub.execute_input": "2022-06-11T00:40:01.033647Z",
     "iopub.status.busy": "2022-06-11T00:40:01.033078Z",
     "iopub.status.idle": "2022-06-11T00:40:01.276554Z",
     "shell.execute_reply": "2022-06-11T00:40:01.275965Z"
    },
    "papermill": {
     "duration": 0.272784,
     "end_time": "2022-06-11T00:40:01.276666",
     "exception": false,
     "start_time": "2022-06-11T00:40:01.003882",
     "status": "completed"
    },
    "tags": []
   },
   "outputs": [],
   "source": [
    "test_images = mnist.test_images()\n",
    "test_labels = mnist.test_labels()"
   ]
  },
  {
   "cell_type": "code",
   "execution_count": 8,
   "id": "fc38cf1b",
   "metadata": {
    "execution": {
     "iopub.execute_input": "2022-06-11T00:40:01.331526Z",
     "iopub.status.busy": "2022-06-11T00:40:01.330963Z",
     "iopub.status.idle": "2022-06-11T00:40:01.344086Z",
     "shell.execute_reply": "2022-06-11T00:40:01.343542Z"
    },
    "papermill": {
     "duration": 0.041706,
     "end_time": "2022-06-11T00:40:01.344190",
     "exception": false,
     "start_time": "2022-06-11T00:40:01.302484",
     "status": "completed"
    },
    "tags": []
   },
   "outputs": [
    {
     "data": {
      "text/plain": [
       "((10000, 28, 28), (10000,))"
      ]
     },
     "execution_count": 8,
     "metadata": {},
     "output_type": "execute_result"
    }
   ],
   "source": [
    "test_images.shape, test_labels.shape"
   ]
  },
  {
   "cell_type": "code",
   "execution_count": 9,
   "id": "f9ed8fe0",
   "metadata": {
    "execution": {
     "iopub.execute_input": "2022-06-11T00:40:01.399963Z",
     "iopub.status.busy": "2022-06-11T00:40:01.399398Z",
     "iopub.status.idle": "2022-06-11T00:40:01.533780Z",
     "shell.execute_reply": "2022-06-11T00:40:01.534214Z"
    },
    "papermill": {
     "duration": 0.164347,
     "end_time": "2022-06-11T00:40:01.534341",
     "exception": false,
     "start_time": "2022-06-11T00:40:01.369994",
     "status": "completed"
    },
    "tags": []
   },
   "outputs": [
    {
     "name": "stdout",
     "output_type": "stream",
     "text": [
      "2\n"
     ]
    },
    {
     "data": {
      "text/plain": [
       "<matplotlib.image.AxesImage at 0x7f2423fad400>"
      ]
     },
     "execution_count": 9,
     "metadata": {},
     "output_type": "execute_result"
    },
    {
     "data": {
      "image/png": "[encoded data removed]",
      "text/plain": [
       "<Figure size 432x288 with 1 Axes>"
      ]
     },
     "metadata": {
      "needs_background": "light"
     },
     "output_type": "display_data"
    }
   ],
   "source": [
    "image_index = 7776 # You may select anything up to 60,000\n",
    "print(train_labels[image_index]) \n",
    "plt.imshow(train_images[image_index], cmap='Greys')"
   ]
  },
  {
   "cell_type": "markdown",
   "id": "a8d2388d",
   "metadata": {
    "papermill": {
     "duration": 0.02699,
     "end_time": "2022-06-11T00:40:01.588113",
     "exception": false,
     "start_time": "2022-06-11T00:40:01.561123",
     "status": "completed"
    },
    "tags": []
   },
   "source": [
    "## Filter data to get 3 and 8 out"
   ]
  },
  {
   "cell_type": "code",
   "execution_count": 10,
   "id": "776f7fc7",
   "metadata": {
    "execution": {
     "iopub.execute_input": "2022-06-11T00:40:01.645756Z",
     "iopub.status.busy": "2022-06-11T00:40:01.645200Z",
     "iopub.status.idle": "2022-06-11T00:40:01.661579Z",
     "shell.execute_reply": "2022-06-11T00:40:01.661026Z"
    },
    "papermill": {
     "duration": 0.046842,
     "end_time": "2022-06-11T00:40:01.661685",
     "exception": false,
     "start_time": "2022-06-11T00:40:01.614843",
     "status": "completed"
    },
    "tags": []
   },
   "outputs": [],
   "source": [
    "train_filter = np.where((train_labels == 3 ) | (train_labels == 8))\n",
    "test_filter = np.where((test_labels == 3) | (test_labels == 8))\n",
    "X_train, y_train = train_images[train_filter], train_labels[train_filter]\n",
    "X_test, y_test = test_images[test_filter], test_labels[test_filter]"
   ]
  },
  {
   "cell_type": "markdown",
   "id": "948f0b7e",
   "metadata": {
    "papermill": {
     "duration": 0.027033,
     "end_time": "2022-06-11T00:40:01.715571",
     "exception": false,
     "start_time": "2022-06-11T00:40:01.688538",
     "status": "completed"
    },
    "tags": []
   },
   "source": [
    "We normalize the pizel values in the 0 to 1 range"
   ]
  },
  {
   "cell_type": "code",
   "execution_count": 11,
   "id": "ee4c2166",
   "metadata": {
    "execution": {
     "iopub.execute_input": "2022-06-11T00:40:01.772540Z",
     "iopub.status.busy": "2022-06-11T00:40:01.771971Z",
     "iopub.status.idle": "2022-06-11T00:40:01.814286Z",
     "shell.execute_reply": "2022-06-11T00:40:01.813803Z"
    },
    "papermill": {
     "duration": 0.072212,
     "end_time": "2022-06-11T00:40:01.814396",
     "exception": false,
     "start_time": "2022-06-11T00:40:01.742184",
     "status": "completed"
    },
    "tags": []
   },
   "outputs": [],
   "source": [
    "X_train = X_train/255.\n",
    "X_test = X_test/255."
   ]
  },
  {
   "cell_type": "markdown",
   "id": "ddcf4fab",
   "metadata": {
    "papermill": {
     "duration": 0.027339,
     "end_time": "2022-06-11T00:40:01.868793",
     "exception": false,
     "start_time": "2022-06-11T00:40:01.841454",
     "status": "completed"
    },
    "tags": []
   },
   "source": [
    "And setup the labels as 1 (when the digit is 3) and 0 (when the digit is 8)"
   ]
  },
  {
   "cell_type": "code",
   "execution_count": 12,
   "id": "7dc908f2",
   "metadata": {
    "execution": {
     "iopub.execute_input": "2022-06-11T00:40:01.926488Z",
     "iopub.status.busy": "2022-06-11T00:40:01.925928Z",
     "iopub.status.idle": "2022-06-11T00:40:01.937171Z",
     "shell.execute_reply": "2022-06-11T00:40:01.936629Z"
    },
    "papermill": {
     "duration": 0.041764,
     "end_time": "2022-06-11T00:40:01.937275",
     "exception": false,
     "start_time": "2022-06-11T00:40:01.895511",
     "status": "completed"
    },
    "tags": []
   },
   "outputs": [],
   "source": [
    "y_train = 1*(y_train==3)\n",
    "y_test = 1*(y_test==3)"
   ]
  },
  {
   "cell_type": "code",
   "execution_count": 13,
   "id": "01e4e969",
   "metadata": {
    "execution": {
     "iopub.execute_input": "2022-06-11T00:40:01.994437Z",
     "iopub.status.busy": "2022-06-11T00:40:01.993870Z",
     "iopub.status.idle": "2022-06-11T00:40:02.007093Z",
     "shell.execute_reply": "2022-06-11T00:40:02.006625Z"
    },
    "papermill": {
     "duration": 0.043145,
     "end_time": "2022-06-11T00:40:02.007197",
     "exception": false,
     "start_time": "2022-06-11T00:40:01.964052",
     "status": "completed"
    },
    "tags": []
   },
   "outputs": [
    {
     "data": {
      "text/plain": [
       "((11982, 28, 28), (1984, 28, 28))"
      ]
     },
     "execution_count": 13,
     "metadata": {},
     "output_type": "execute_result"
    }
   ],
   "source": [
    "X_train.shape, X_test.shape"
   ]
  },
  {
   "cell_type": "markdown",
   "id": "5ccf3f85",
   "metadata": {
    "papermill": {
     "duration": 0.027008,
     "end_time": "2022-06-11T00:40:02.061090",
     "exception": false,
     "start_time": "2022-06-11T00:40:02.034082",
     "status": "completed"
    },
    "tags": []
   },
   "source": [
    "We reshape the data to flatten the image pixels into a set of features or co-variates:"
   ]
  },
  {
   "cell_type": "code",
   "execution_count": 14,
   "id": "5286a4a3",
   "metadata": {
    "execution": {
     "iopub.execute_input": "2022-06-11T00:40:02.119369Z",
     "iopub.status.busy": "2022-06-11T00:40:02.118798Z",
     "iopub.status.idle": "2022-06-11T00:40:02.132042Z",
     "shell.execute_reply": "2022-06-11T00:40:02.131589Z"
    },
    "papermill": {
     "duration": 0.04391,
     "end_time": "2022-06-11T00:40:02.132145",
     "exception": false,
     "start_time": "2022-06-11T00:40:02.088235",
     "status": "completed"
    },
    "tags": []
   },
   "outputs": [
    {
     "data": {
      "text/plain": [
       "((11982, 784), (1984, 784))"
      ]
     },
     "execution_count": 14,
     "metadata": {},
     "output_type": "execute_result"
    }
   ],
   "source": [
    "X_train = X_train.reshape(X_train.shape[0], -1)\n",
    "X_test = X_test.reshape(X_test.shape[0], -1)\n",
    "X_train.shape, X_test.shape"
   ]
  },
  {
   "cell_type": "code",
   "execution_count": 15,
   "id": "73c5f88a",
   "metadata": {
    "execution": {
     "iopub.execute_input": "2022-06-11T00:40:02.190587Z",
     "iopub.status.busy": "2022-06-11T00:40:02.189999Z",
     "iopub.status.idle": "2022-06-11T00:40:02.208727Z",
     "shell.execute_reply": "2022-06-11T00:40:02.208289Z"
    },
    "papermill": {
     "duration": 0.049546,
     "end_time": "2022-06-11T00:40:02.208836",
     "exception": false,
     "start_time": "2022-06-11T00:40:02.159290",
     "status": "completed"
    },
    "tags": []
   },
   "outputs": [],
   "source": [
    "#Impoting functions from 'Kudzu'\n",
    "from kudzu.model import Model\n",
    "from kudzu.train import Learner\n",
    "from kudzu.optim import GD\n",
    "from kudzu.data import Data, Sampler,Dataloader\n",
    "\n",
    "from kudzu.callbacks import AccCallback\n",
    "from kudzu.callbacks import ClfCallback\n",
    "\n",
    "from kudzu.loss import MSE\n",
    "\n",
    "from kudzu.layer import Sigmoid,Relu\n",
    "from kudzu.layer import Affine"
   ]
  },
  {
   "cell_type": "markdown",
   "id": "bc01172a",
   "metadata": {
    "papermill": {
     "duration": 0.027099,
     "end_time": "2022-06-11T00:40:02.263354",
     "exception": false,
     "start_time": "2022-06-11T00:40:02.236255",
     "status": "completed"
    },
    "tags": []
   },
   "source": [
    "### Let us create a `Config` class, to store important parameters. \n",
    "This class essentially plays the role of a dictionary."
   ]
  },
  {
   "cell_type": "code",
   "execution_count": 16,
   "id": "978281aa",
   "metadata": {
    "execution": {
     "iopub.execute_input": "2022-06-11T00:40:02.321246Z",
     "iopub.status.busy": "2022-06-11T00:40:02.320694Z",
     "iopub.status.idle": "2022-06-11T00:40:02.332703Z",
     "shell.execute_reply": "2022-06-11T00:40:02.332166Z"
    },
    "papermill": {
     "duration": 0.042376,
     "end_time": "2022-06-11T00:40:02.332806",
     "exception": false,
     "start_time": "2022-06-11T00:40:02.290430",
     "status": "completed"
    },
    "tags": []
   },
   "outputs": [],
   "source": [
    "class Config:\n",
    "    pass\n",
    "config = Config()\n",
    "config.lr = 0.001\n",
    "config.num_epochs = 250\n",
    "config.bs = 50"
   ]
  },
  {
   "cell_type": "markdown",
   "id": "1385fa59",
   "metadata": {
    "papermill": {
     "duration": 0.026989,
     "end_time": "2022-06-11T00:40:02.387127",
     "exception": false,
     "start_time": "2022-06-11T00:40:02.360138",
     "status": "completed"
    },
    "tags": []
   },
   "source": [
    "### Running Models with the Training data\n",
    "Details about the network layers:\n",
    "- A first affine layer has 784 inputs and does 100 affine transforms. These are followed by a Relu\n",
    "- A second affine layer has 100 inputs from the 100 activations of the past layer, and does 100 affine transforms. These are followed by a Relu\n",
    "- A third affine layer has 100 activations and does 2 affine transformations to create an embedding for visualization. There is no non-linearity here.\n",
    "- A final \"logistic regression\" which has an affine transform from 2 inputs to 1 output, which is squeezed through a sigmoid.\n"
   ]
  },
  {
   "cell_type": "code",
   "execution_count": 17,
   "id": "2b9c66db",
   "metadata": {
    "execution": {
     "iopub.execute_input": "2022-06-11T00:40:02.445593Z",
     "iopub.status.busy": "2022-06-11T00:40:02.445018Z",
     "iopub.status.idle": "2022-06-11T00:40:02.456746Z",
     "shell.execute_reply": "2022-06-11T00:40:02.456294Z"
    },
    "papermill": {
     "duration": 0.042541,
     "end_time": "2022-06-11T00:40:02.456846",
     "exception": false,
     "start_time": "2022-06-11T00:40:02.414305",
     "status": "completed"
    },
    "tags": []
   },
   "outputs": [],
   "source": [
    "data = Data(X_train, y_train.reshape(-1,1))\n",
    "sampler = Sampler(data, config.bs, shuffle=True)\n",
    "\n",
    "dl = Dataloader(data, sampler)\n",
    "\n",
    "opt = GD(config.lr)\n",
    "loss = MSE()"
   ]
  },
  {
   "cell_type": "code",
   "execution_count": 18,
   "id": "b275e4c2",
   "metadata": {
    "execution": {
     "iopub.execute_input": "2022-06-11T00:40:02.515696Z",
     "iopub.status.busy": "2022-06-11T00:40:02.515131Z",
     "iopub.status.idle": "2022-06-11T00:40:02.526695Z",
     "shell.execute_reply": "2022-06-11T00:40:02.527236Z"
    },
    "papermill": {
     "duration": 0.043305,
     "end_time": "2022-06-11T00:40:02.527364",
     "exception": false,
     "start_time": "2022-06-11T00:40:02.484059",
     "status": "completed"
    },
    "tags": []
   },
   "outputs": [],
   "source": [
    "training_data_x = X_train\n",
    "testing_data_x = X_test\n",
    "training_data_y = y_train.reshape(-1,1)\n",
    "testing_data_y = y_test.reshape(-1,1)"
   ]
  },
  {
   "cell_type": "code",
   "execution_count": 19,
   "id": "76951160",
   "metadata": {
    "execution": {
     "iopub.execute_input": "2022-06-11T00:40:02.589062Z",
     "iopub.status.busy": "2022-06-11T00:40:02.587491Z",
     "iopub.status.idle": "2022-06-11T00:40:02.603475Z",
     "shell.execute_reply": "2022-06-11T00:40:02.603008Z"
    },
    "papermill": {
     "duration": 0.048812,
     "end_time": "2022-06-11T00:40:02.603585",
     "exception": false,
     "start_time": "2022-06-11T00:40:02.554773",
     "status": "completed"
    },
    "tags": []
   },
   "outputs": [
    {
     "name": "stdout",
     "output_type": "stream",
     "text": [
      "xavier\n",
      "xavier\n",
      "xavier\n",
      "xavier\n",
      "xavier\n"
     ]
    }
   ],
   "source": [
    "layers = [Affine(\"first\", 784, 100), Relu(\"first\"), Affine(\"second\", 100, 100), Relu(\"second\"), Affine(\"third\", 100, 2), Affine(\"last\", 2, 1), Sigmoid(\"last\")]\n",
    "model_nn = Model(layers)\n",
    "model_lr = Model([Affine(\"logits\", 784, 1), Sigmoid(\"sigmoid\")])"
   ]
  },
  {
   "cell_type": "code",
   "execution_count": 20,
   "id": "6eede77a",
   "metadata": {
    "execution": {
     "iopub.execute_input": "2022-06-11T00:40:02.666932Z",
     "iopub.status.busy": "2022-06-11T00:40:02.665088Z",
     "iopub.status.idle": "2022-06-11T00:40:02.676864Z",
     "shell.execute_reply": "2022-06-11T00:40:02.676393Z"
    },
    "papermill": {
     "duration": 0.045295,
     "end_time": "2022-06-11T00:40:02.676971",
     "exception": false,
     "start_time": "2022-06-11T00:40:02.631676",
     "status": "completed"
    },
    "tags": []
   },
   "outputs": [],
   "source": [
    "nn_learner = Learner(loss, model_nn, opt, config.num_epochs)\n",
    "acc_nn = ClfCallback(nn_learner, config.bs, training_data_x , testing_data_x, training_data_y, testing_data_y)\n",
    "nn_learner.set_callbacks([acc_nn])"
   ]
  },
  {
   "cell_type": "code",
   "execution_count": 21,
   "id": "877b6cc7",
   "metadata": {
    "execution": {
     "iopub.execute_input": "2022-06-11T00:40:02.739759Z",
     "iopub.status.busy": "2022-06-11T00:40:02.738148Z",
     "iopub.status.idle": "2022-06-11T00:40:02.749609Z",
     "shell.execute_reply": "2022-06-11T00:40:02.749141Z"
    },
    "papermill": {
     "duration": 0.044872,
     "end_time": "2022-06-11T00:40:02.749718",
     "exception": false,
     "start_time": "2022-06-11T00:40:02.704846",
     "status": "completed"
    },
    "tags": []
   },
   "outputs": [],
   "source": [
    "lr_learner = Learner(loss, model_lr, opt, config.num_epochs)\n",
    "acc_lr = ClfCallback(lr_learner, config.bs, training_data_x , testing_data_x, training_data_y, testing_data_y)\n",
    "lr_learner.set_callbacks([acc_lr])"
   ]
  },
  {
   "cell_type": "code",
   "execution_count": 22,
   "id": "d9b133c3",
   "metadata": {
    "execution": {
     "iopub.execute_input": "2022-06-11T00:40:02.809238Z",
     "iopub.status.busy": "2022-06-11T00:40:02.808661Z",
     "iopub.status.idle": "2022-06-11T00:43:00.300521Z",
     "shell.execute_reply": "2022-06-11T00:43:00.300970Z"
    },
    "papermill": {
     "duration": 177.52355,
     "end_time": "2022-06-11T00:43:00.301100",
     "exception": false,
     "start_time": "2022-06-11T00:40:02.777550",
     "status": "completed"
    },
    "tags": []
   },
   "outputs": [
    {
     "name": "stdout",
     "output_type": "stream",
     "text": [
      "Epoch 0, Loss 0.2649\n",
      "Training Accuracy: 0.5305, Testing Accuracy: 0.5297\n",
      "\n"
     ]
    },
    {
     "name": "stdout",
     "output_type": "stream",
     "text": [
      "Epoch 10, Loss 0.0872\n",
      "Training Accuracy: 0.9212, Testing Accuracy: 0.9325\n",
      "\n"
     ]
    },
    {
     "name": "stdout",
     "output_type": "stream",
     "text": [
      "Epoch 20, Loss 0.054\n",
      "Training Accuracy: 0.9441, Testing Accuracy: 0.9531\n",
      "\n"
     ]
    },
    {
     "name": "stdout",
     "output_type": "stream",
     "text": [
      "Epoch 30, Loss 0.0427\n",
      "Training Accuracy: 0.9514, Testing Accuracy: 0.9622\n",
      "\n"
     ]
    },
    {
     "name": "stdout",
     "output_type": "stream",
     "text": [
      "Epoch 40, Loss 0.0371\n",
      "Training Accuracy: 0.9578, Testing Accuracy: 0.9667\n",
      "\n"
     ]
    },
    {
     "name": "stdout",
     "output_type": "stream",
     "text": [
      "Epoch 50, Loss 0.0336\n",
      "Training Accuracy: 0.9617, Testing Accuracy: 0.9693\n",
      "\n"
     ]
    },
    {
     "name": "stdout",
     "output_type": "stream",
     "text": [
      "Epoch 60, Loss 0.0311\n",
      "Training Accuracy: 0.9639, Testing Accuracy: 0.9693\n",
      "\n"
     ]
    },
    {
     "name": "stdout",
     "output_type": "stream",
     "text": [
      "Epoch 70, Loss 0.0293\n",
      "Training Accuracy: 0.9664, Testing Accuracy: 0.9708\n",
      "\n"
     ]
    },
    {
     "name": "stdout",
     "output_type": "stream",
     "text": [
      "Epoch 80, Loss 0.0278\n",
      "Training Accuracy: 0.9686, Testing Accuracy: 0.9738\n",
      "\n"
     ]
    },
    {
     "name": "stdout",
     "output_type": "stream",
     "text": [
      "Epoch 90, Loss 0.0266\n",
      "Training Accuracy: 0.9696, Testing Accuracy: 0.9743\n",
      "\n"
     ]
    },
    {
     "name": "stdout",
     "output_type": "stream",
     "text": [
      "Epoch 100, Loss 0.0256\n",
      "Training Accuracy: 0.9705, Testing Accuracy: 0.9733\n",
      "\n"
     ]
    },
    {
     "name": "stdout",
     "output_type": "stream",
     "text": [
      "Epoch 110, Loss 0.0247\n",
      "Training Accuracy: 0.9708, Testing Accuracy: 0.9733\n",
      "\n"
     ]
    },
    {
     "name": "stdout",
     "output_type": "stream",
     "text": [
      "Epoch 120, Loss 0.0239\n",
      "Training Accuracy: 0.9724, Testing Accuracy: 0.9728\n",
      "\n"
     ]
    },
    {
     "name": "stdout",
     "output_type": "stream",
     "text": [
      "Epoch 130, Loss 0.0231\n",
      "Training Accuracy: 0.9734, Testing Accuracy: 0.9733\n",
      "\n"
     ]
    },
    {
     "name": "stdout",
     "output_type": "stream",
     "text": [
      "Epoch 140, Loss 0.0224\n",
      "Training Accuracy: 0.9741, Testing Accuracy: 0.9738\n",
      "\n"
     ]
    },
    {
     "name": "stdout",
     "output_type": "stream",
     "text": [
      "Epoch 150, Loss 0.0218\n",
      "Training Accuracy: 0.9751, Testing Accuracy: 0.9738\n",
      "\n"
     ]
    },
    {
     "name": "stdout",
     "output_type": "stream",
     "text": [
      "Epoch 160, Loss 0.0212\n",
      "Training Accuracy: 0.9759, Testing Accuracy: 0.9743\n",
      "\n"
     ]
    },
    {
     "name": "stdout",
     "output_type": "stream",
     "text": [
      "Epoch 170, Loss 0.0206\n",
      "Training Accuracy: 0.9765, Testing Accuracy: 0.9743\n",
      "\n"
     ]
    },
    {
     "name": "stdout",
     "output_type": "stream",
     "text": [
      "Epoch 180, Loss 0.0201\n",
      "Training Accuracy: 0.9776, Testing Accuracy: 0.9753\n",
      "\n"
     ]
    },
    {
     "name": "stdout",
     "output_type": "stream",
     "text": [
      "Epoch 190, Loss 0.0196\n",
      "Training Accuracy: 0.9783, Testing Accuracy: 0.9758\n",
      "\n"
     ]
    },
    {
     "name": "stdout",
     "output_type": "stream",
     "text": [
      "Epoch 200, Loss 0.0191\n",
      "Training Accuracy: 0.9789, Testing Accuracy: 0.9763\n",
      "\n"
     ]
    },
    {
     "name": "stdout",
     "output_type": "stream",
     "text": [
      "Epoch 210, Loss 0.0186\n",
      "Training Accuracy: 0.9796, Testing Accuracy: 0.9768\n",
      "\n"
     ]
    },
    {
     "name": "stdout",
     "output_type": "stream",
     "text": [
      "Epoch 220, Loss 0.0182\n",
      "Training Accuracy: 0.9799, Testing Accuracy: 0.9768\n",
      "\n"
     ]
    },
    {
     "name": "stdout",
     "output_type": "stream",
     "text": [
      "Epoch 230, Loss 0.0178\n",
      "Training Accuracy: 0.9803, Testing Accuracy: 0.9773\n",
      "\n"
     ]
    },
    {
     "name": "stdout",
     "output_type": "stream",
     "text": [
      "Epoch 240, Loss 0.0173\n",
      "Training Accuracy: 0.9807, Testing Accuracy: 0.9768\n",
      "\n"
     ]
    },
    {
     "data": {
      "text/plain": [
       "0.006434307758769431"
      ]
     },
     "execution_count": 22,
     "metadata": {},
     "output_type": "execute_result"
    }
   ],
   "source": [
    "nn_learner.train_loop(dl)"
   ]
  },
  {
   "cell_type": "code",
   "execution_count": 23,
   "id": "e0163366",
   "metadata": {
    "execution": {
     "iopub.execute_input": "2022-06-11T00:43:00.374487Z",
     "iopub.status.busy": "2022-06-11T00:43:00.373919Z",
     "iopub.status.idle": "2022-06-11T00:43:12.768756Z",
     "shell.execute_reply": "2022-06-11T00:43:12.769234Z"
    },
    "papermill": {
     "duration": 12.433608,
     "end_time": "2022-06-11T00:43:12.769369",
     "exception": false,
     "start_time": "2022-06-11T00:43:00.335761",
     "status": "completed"
    },
    "tags": []
   },
   "outputs": [
    {
     "name": "stdout",
     "output_type": "stream",
     "text": [
      "Epoch 0, Loss 0.2123\n",
      "Training Accuracy: 0.7854, Testing Accuracy: 0.8029\n",
      "\n"
     ]
    },
    {
     "name": "stdout",
     "output_type": "stream",
     "text": [
      "Epoch 10, Loss 0.0981\n",
      "Training Accuracy: 0.9190, Testing Accuracy: 0.9325\n",
      "\n"
     ]
    },
    {
     "name": "stdout",
     "output_type": "stream",
     "text": [
      "Epoch 20, Loss 0.0766\n",
      "Training Accuracy: 0.9326, Testing Accuracy: 0.9435\n",
      "\n"
     ]
    },
    {
     "name": "stdout",
     "output_type": "stream",
     "text": [
      "Epoch 30, Loss 0.0664\n",
      "Training Accuracy: 0.9391, Testing Accuracy: 0.9511\n",
      "\n"
     ]
    },
    {
     "name": "stdout",
     "output_type": "stream",
     "text": [
      "Epoch 40, Loss 0.0603\n",
      "Training Accuracy: 0.9442, Testing Accuracy: 0.9556\n",
      "\n"
     ]
    },
    {
     "name": "stdout",
     "output_type": "stream",
     "text": [
      "Epoch 50, Loss 0.056\n",
      "Training Accuracy: 0.9463, Testing Accuracy: 0.9582\n",
      "\n"
     ]
    },
    {
     "name": "stdout",
     "output_type": "stream",
     "text": [
      "Epoch 60, Loss 0.0529\n",
      "Training Accuracy: 0.9484, Testing Accuracy: 0.9612\n",
      "\n"
     ]
    },
    {
     "name": "stdout",
     "output_type": "stream",
     "text": [
      "Epoch 70, Loss 0.0504\n",
      "Training Accuracy: 0.9503, Testing Accuracy: 0.9622\n",
      "\n"
     ]
    },
    {
     "name": "stdout",
     "output_type": "stream",
     "text": [
      "Epoch 80, Loss 0.0485\n",
      "Training Accuracy: 0.9512, Testing Accuracy: 0.9632\n",
      "\n"
     ]
    },
    {
     "name": "stdout",
     "output_type": "stream",
     "text": [
      "Epoch 90, Loss 0.0469\n",
      "Training Accuracy: 0.9528, Testing Accuracy: 0.9632\n",
      "\n"
     ]
    },
    {
     "name": "stdout",
     "output_type": "stream",
     "text": [
      "Epoch 100, Loss 0.0455\n",
      "Training Accuracy: 0.9541, Testing Accuracy: 0.9627\n",
      "\n"
     ]
    },
    {
     "name": "stdout",
     "output_type": "stream",
     "text": [
      "Epoch 110, Loss 0.0444\n",
      "Training Accuracy: 0.9549, Testing Accuracy: 0.9637\n",
      "\n"
     ]
    },
    {
     "name": "stdout",
     "output_type": "stream",
     "text": [
      "Epoch 120, Loss 0.0433\n",
      "Training Accuracy: 0.9554, Testing Accuracy: 0.9632\n",
      "\n"
     ]
    },
    {
     "name": "stdout",
     "output_type": "stream",
     "text": [
      "Epoch 130, Loss 0.0424\n",
      "Training Accuracy: 0.9562, Testing Accuracy: 0.9637\n",
      "\n"
     ]
    },
    {
     "name": "stdout",
     "output_type": "stream",
     "text": [
      "Epoch 140, Loss 0.0416\n",
      "Training Accuracy: 0.9565, Testing Accuracy: 0.9642\n",
      "\n"
     ]
    },
    {
     "name": "stdout",
     "output_type": "stream",
     "text": [
      "Epoch 150, Loss 0.0409\n",
      "Training Accuracy: 0.9572, Testing Accuracy: 0.9647\n",
      "\n"
     ]
    },
    {
     "name": "stdout",
     "output_type": "stream",
     "text": [
      "Epoch 160, Loss 0.0403\n",
      "Training Accuracy: 0.9574, Testing Accuracy: 0.9657\n",
      "\n"
     ]
    },
    {
     "name": "stdout",
     "output_type": "stream",
     "text": [
      "Epoch 170, Loss 0.0397\n",
      "Training Accuracy: 0.9580, Testing Accuracy: 0.9662\n",
      "\n"
     ]
    },
    {
     "name": "stdout",
     "output_type": "stream",
     "text": [
      "Epoch 180, Loss 0.0391\n",
      "Training Accuracy: 0.9589, Testing Accuracy: 0.9662\n",
      "\n"
     ]
    },
    {
     "name": "stdout",
     "output_type": "stream",
     "text": [
      "Epoch 190, Loss 0.0387\n",
      "Training Accuracy: 0.9597, Testing Accuracy: 0.9672\n",
      "\n"
     ]
    },
    {
     "name": "stdout",
     "output_type": "stream",
     "text": [
      "Epoch 200, Loss 0.0382\n",
      "Training Accuracy: 0.9602, Testing Accuracy: 0.9672\n",
      "\n"
     ]
    },
    {
     "name": "stdout",
     "output_type": "stream",
     "text": [
      "Epoch 210, Loss 0.0378\n",
      "Training Accuracy: 0.9604, Testing Accuracy: 0.9672\n",
      "\n"
     ]
    },
    {
     "name": "stdout",
     "output_type": "stream",
     "text": [
      "Epoch 220, Loss 0.0374\n",
      "Training Accuracy: 0.9609, Testing Accuracy: 0.9677\n",
      "\n"
     ]
    },
    {
     "name": "stdout",
     "output_type": "stream",
     "text": [
      "Epoch 230, Loss 0.037\n",
      "Training Accuracy: 0.9609, Testing Accuracy: 0.9667\n",
      "\n"
     ]
    },
    {
     "name": "stdout",
     "output_type": "stream",
     "text": [
      "Epoch 240, Loss 0.0366\n",
      "Training Accuracy: 0.9611, Testing Accuracy: 0.9667\n",
      "\n"
     ]
    },
    {
     "data": {
      "text/plain": [
       "0.04080777308925985"
      ]
     },
     "execution_count": 23,
     "metadata": {},
     "output_type": "execute_result"
    }
   ],
   "source": [
    "lr_learner.train_loop(dl)"
   ]
  },
  {
   "cell_type": "code",
   "execution_count": 24,
   "id": "ca410940",
   "metadata": {
    "execution": {
     "iopub.execute_input": "2022-06-11T00:43:12.858812Z",
     "iopub.status.busy": "2022-06-11T00:43:12.858195Z",
     "iopub.status.idle": "2022-06-11T00:43:13.081358Z",
     "shell.execute_reply": "2022-06-11T00:43:13.081796Z"
    },
    "papermill": {
     "duration": 0.269173,
     "end_time": "2022-06-11T00:43:13.081922",
     "exception": false,
     "start_time": "2022-06-11T00:43:12.812749",
     "status": "completed"
    },
    "tags": []
   },
   "outputs": [
    {
     "data": {
      "text/plain": [
       "<matplotlib.legend.Legend at 0x7f2423b0fa58>"
      ]
     },
     "execution_count": 24,
     "metadata": {},
     "output_type": "execute_result"
    },
    {
     "data": {
      "image/png": "[encoded data removed]",
      "text/plain": [
       "<Figure size 1080x720 with 1 Axes>"
      ]
     },
     "metadata": {
      "needs_background": "light"
     },
     "output_type": "display_data"
    }
   ],
   "source": [
    "#comparing the results of NN and LR\n",
    "plt.figure(figsize=(15,10))\n",
    "\n",
    "# Neural Network plots\n",
    "plt.plot(acc_nn.accuracies, 'r-', label = \"Training Accuracies - NN\")\n",
    "plt.plot(acc_nn.test_accuracies, 'g-', label = \"Testing Accuracies - NN\")\n",
    "\n",
    "# Logistic Regression plots\n",
    "plt.plot(acc_lr.accuracies, 'k-', label = \"Training Accuracies - LR\")\n",
    "plt.plot(acc_lr.test_accuracies, 'b-', label = \"Testing Accuracies - LR\")\n",
    "plt.legend()"
   ]
  },
  {
   "cell_type": "markdown",
   "id": "80dfb35c",
   "metadata": {
    "papermill": {
     "duration": 0.042546,
     "end_time": "2022-06-11T00:43:13.167325",
     "exception": false,
     "start_time": "2022-06-11T00:43:13.124779",
     "status": "completed"
    },
    "tags": []
   },
   "source": [
    "#### Plotting the outputs of this layer of the NN.\n"
   ]
  },
  {
   "cell_type": "code",
   "execution_count": 25,
   "id": "45eb2ff5",
   "metadata": {
    "execution": {
     "iopub.execute_input": "2022-06-11T00:43:13.256913Z",
     "iopub.status.busy": "2022-06-11T00:43:13.256255Z",
     "iopub.status.idle": "2022-06-11T00:43:13.292011Z",
     "shell.execute_reply": "2022-06-11T00:43:13.292456Z"
    },
    "papermill": {
     "duration": 0.082651,
     "end_time": "2022-06-11T00:43:13.292583",
     "exception": false,
     "start_time": "2022-06-11T00:43:13.209932",
     "status": "completed"
    },
    "tags": []
   },
   "outputs": [],
   "source": [
    "new_model = Model(layers[:-2])\n",
    "testing_plot = new_model(testing_data_x)"
   ]
  },
  {
   "cell_type": "code",
   "execution_count": 26,
   "id": "4c0a5485",
   "metadata": {
    "execution": {
     "iopub.execute_input": "2022-06-11T00:43:13.386003Z",
     "iopub.status.busy": "2022-06-11T00:43:13.385433Z",
     "iopub.status.idle": "2022-06-11T00:43:13.577741Z",
     "shell.execute_reply": "2022-06-11T00:43:13.577044Z"
    },
    "papermill": {
     "duration": 0.24074,
     "end_time": "2022-06-11T00:43:13.577856",
     "exception": false,
     "start_time": "2022-06-11T00:43:13.337116",
     "status": "completed"
    },
    "tags": []
   },
   "outputs": [
    {
     "data": {
      "text/plain": [
       "Text(0.5, 1.0, 'Outputs')"
      ]
     },
     "execution_count": 26,
     "metadata": {},
     "output_type": "execute_result"
    },
    {
     "data": {
      "image/png": "[encoded data removed]",
      "text/plain": [
       "<Figure size 576x504 with 1 Axes>"
      ]
     },
     "metadata": {
      "needs_background": "light"
     },
     "output_type": "display_data"
    }
   ],
   "source": [
    "# Plotting the scatter plot of points and color coding by class\n",
    "plt.figure(figsize=(8,7))\n",
    "plt.scatter(testing_plot[:,0], testing_plot[:,1], alpha = 0.1, c = y_test.ravel());\n",
    "plt.title('Outputs')"
   ]
  },
  {
   "cell_type": "markdown",
   "id": "a74fcf8f",
   "metadata": {
    "papermill": {
     "duration": 0.044811,
     "end_time": "2022-06-11T00:43:13.689634",
     "exception": false,
     "start_time": "2022-06-11T00:43:13.644823",
     "status": "completed"
    },
    "tags": []
   },
   "source": [
    "Probability contours"
   ]
  },
  {
   "cell_type": "code",
   "execution_count": 27,
   "id": "d0afc8e3",
   "metadata": {
    "execution": {
     "iopub.execute_input": "2022-06-11T00:43:13.785389Z",
     "iopub.status.busy": "2022-06-11T00:43:13.783898Z",
     "iopub.status.idle": "2022-06-11T00:43:13.794980Z",
     "shell.execute_reply": "2022-06-11T00:43:13.794487Z"
    },
    "papermill": {
     "duration": 0.060626,
     "end_time": "2022-06-11T00:43:13.795089",
     "exception": false,
     "start_time": "2022-06-11T00:43:13.734463",
     "status": "completed"
    },
    "tags": []
   },
   "outputs": [],
   "source": [
    "model_prob = Model(layers[-2:]) "
   ]
  },
  {
   "cell_type": "code",
   "execution_count": 28,
   "id": "9b96e238",
   "metadata": {
    "execution": {
     "iopub.execute_input": "2022-06-11T00:43:13.890900Z",
     "iopub.status.busy": "2022-06-11T00:43:13.890289Z",
     "iopub.status.idle": "2022-06-11T00:43:13.903326Z",
     "shell.execute_reply": "2022-06-11T00:43:13.903743Z"
    },
    "papermill": {
     "duration": 0.064038,
     "end_time": "2022-06-11T00:43:13.903865",
     "exception": false,
     "start_time": "2022-06-11T00:43:13.839827",
     "status": "completed"
    },
    "tags": []
   },
   "outputs": [],
   "source": [
    "#creating the x and y ranges according to the above generated plot.\n",
    "x_range = np.linspace(-4, 1, 100) \n",
    "y_range = np.linspace(-6, 6, 100) \n",
    "x_grid, y_grid = np.meshgrid(x_range, y_range) # x_grid and y_grig are of size 100 X 100\n",
    "\n",
    "# converting x_grid and y_grid to continuous arrays\n",
    "x_gridflat = np.ravel(x_grid)\n",
    "y_gridflat = np.ravel(y_grid)\n",
    "\n",
    "# The last layer of the current model takes two columns as input. Hence transpose of np.vstack() is required.\n",
    "X = np.vstack((x_gridflat, y_gridflat)).T\n",
    "\n",
    "prob_contour = model_prob(X).reshape(100,100) "
   ]
  },
  {
   "cell_type": "code",
   "execution_count": 29,
   "id": "da72499a",
   "metadata": {
    "execution": {
     "iopub.execute_input": "2022-06-11T00:43:13.998136Z",
     "iopub.status.busy": "2022-06-11T00:43:13.997566Z",
     "iopub.status.idle": "2022-06-11T00:43:14.241218Z",
     "shell.execute_reply": "2022-06-11T00:43:14.241651Z"
    },
    "papermill": {
     "duration": 0.292593,
     "end_time": "2022-06-11T00:43:14.241785",
     "exception": false,
     "start_time": "2022-06-11T00:43:13.949192",
     "status": "completed"
    },
    "tags": []
   },
   "outputs": [
    {
     "data": {
      "image/png": "[encoded data removed]",
      "text/plain": [
       "<Figure size 720x648 with 1 Axes>"
      ]
     },
     "metadata": {
      "needs_background": "light"
     },
     "output_type": "display_data"
    }
   ],
   "source": [
    "plt.figure(figsize=(10,9))\n",
    "plt.scatter(testing_plot[:,0], testing_plot[:,1], alpha = 0.1, c = y_test.ravel())\n",
    "contours = plt.contour(x_grid,y_grid,prob_contour)\n",
    "plt.title('Probability Contours')\n",
    "plt.clabel(contours, inline = True );"
   ]
  },
  {
   "cell_type": "code",
   "execution_count": null,
   "id": "e81b4ac7",
   "metadata": {
    "papermill": {
     "duration": 0.047115,
     "end_time": "2022-06-11T00:43:14.336957",
     "exception": false,
     "start_time": "2022-06-11T00:43:14.289842",
     "status": "completed"
    },
    "tags": []
   },
   "outputs": [],
   "source": []
  }
 ],
 "metadata": {
  "kernelspec": {
   "display_name": "Python 3",
   "language": "python",
   "name": "python3"
  },
  "language_info": {
   "codemirror_mode": {
    "name": "ipython",
    "version": 3
   },
   "file_extension": ".py",
   "mimetype": "text/x-python",
   "name": "python",
   "nbconvert_exporter": "python",
   "pygments_lexer": "ipython3",
   "version": "3.6.15"
  },
  "papermill": {
   "default_parameters": {},
   "duration": 198.797432,
   "end_time": "2022-06-11T00:43:14.701603",
   "environment_variables": {},
   "exception": null,
   "input_path": "2020-08-11-part2.ipynb",
   "output_path": "2020-08-11-part2.ipynb",
   "parameters": {},
   "start_time": "2022-06-11T00:39:55.904171",
   "version": "2.3.3"
  }
 },
 "nbformat": 4,
 "nbformat_minor": 5
}