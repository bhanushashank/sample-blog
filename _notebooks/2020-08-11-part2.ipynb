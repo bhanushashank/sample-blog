{
 "cells": [
  {
   "cell_type": "markdown",
   "id": "98380cd3",
   "metadata": {
    "papermill": {
     "duration": 0.029245,
     "end_time": "2022-09-25T10:11:24.075097",
     "exception": false,
     "start_time": "2022-09-25T10:11:24.045852",
     "status": "completed"
    },
    "tags": []
   },
   "source": [
    "# Distinguish Your Own Digits (DYOD)"
   ]
  },
  {
   "cell_type": "markdown",
   "id": "ef31240d",
   "metadata": {
    "papermill": {
     "duration": 0.026999,
     "end_time": "2022-09-25T10:11:24.127058",
     "exception": false,
     "start_time": "2022-09-25T10:11:24.100059",
     "status": "completed"
    },
    "tags": []
   },
   "source": [
    "You are going to write a classifier that distinguishes between the number 3 and number 8."
   ]
  },
  {
   "cell_type": "code",
   "execution_count": 1,
   "id": "b15c8646",
   "metadata": {
    "execution": {
     "iopub.execute_input": "2022-09-25T10:11:24.185691Z",
     "iopub.status.busy": "2022-09-25T10:11:24.185120Z",
     "iopub.status.idle": "2022-09-25T10:11:24.195913Z",
     "shell.execute_reply": "2022-09-25T10:11:24.195436Z"
    },
    "papermill": {
     "duration": 0.04477,
     "end_time": "2022-09-25T10:11:24.196033",
     "exception": false,
     "start_time": "2022-09-25T10:11:24.151263",
     "status": "completed"
    },
    "tags": []
   },
   "outputs": [],
   "source": [
    "%load_ext autoreload\n",
    "%autoreload 2"
   ]
  },
  {
   "cell_type": "code",
   "execution_count": 2,
   "id": "22ef38dc",
   "metadata": {
    "execution": {
     "iopub.execute_input": "2022-09-25T10:11:24.249115Z",
     "iopub.status.busy": "2022-09-25T10:11:24.248556Z",
     "iopub.status.idle": "2022-09-25T10:11:24.765977Z",
     "shell.execute_reply": "2022-09-25T10:11:24.765489Z"
    },
    "papermill": {
     "duration": 0.545707,
     "end_time": "2022-09-25T10:11:24.766092",
     "exception": false,
     "start_time": "2022-09-25T10:11:24.220385",
     "status": "completed"
    },
    "tags": []
   },
   "outputs": [],
   "source": [
    "%matplotlib inline\n",
    "import numpy as np\n",
    "import matplotlib.pyplot as plt\n",
    "import pandas as pd"
   ]
  },
  {
   "cell_type": "markdown",
   "id": "ba036198",
   "metadata": {
    "papermill": {
     "duration": 0.024471,
     "end_time": "2022-09-25T10:11:24.815081",
     "exception": false,
     "start_time": "2022-09-25T10:11:24.790610",
     "status": "completed"
    },
    "tags": []
   },
   "source": [
    "From the command line run `pip install mnist`. This is a library that will help you bring down the mnist dataset. If you run this from a notebook, you need to put  `!pip install mnist` in a cell by itself."
   ]
  },
  {
   "cell_type": "code",
   "execution_count": 3,
   "id": "bb6ad8a1",
   "metadata": {
    "execution": {
     "iopub.execute_input": "2022-09-25T10:11:24.867592Z",
     "iopub.status.busy": "2022-09-25T10:11:24.866992Z",
     "iopub.status.idle": "2022-09-25T10:11:26.449604Z",
     "shell.execute_reply": "2022-09-25T10:11:26.449099Z"
    },
    "papermill": {
     "duration": 1.610283,
     "end_time": "2022-09-25T10:11:26.449713",
     "exception": false,
     "start_time": "2022-09-25T10:11:24.839430",
     "status": "completed"
    },
    "tags": []
   },
   "outputs": [
    {
     "name": "stdout",
     "output_type": "stream",
     "text": [
      "Collecting mnist\r\n"
     ]
    },
    {
     "name": "stdout",
     "output_type": "stream",
     "text": [
      "  Downloading mnist-0.2.2-py2.py3-none-any.whl (3.5 kB)\r\n",
      "Requirement already satisfied: numpy in /opt/hostedtoolcache/Python/3.6.15/x64/lib/python3.6/site-packages (from mnist) (1.19.5)\r\n"
     ]
    },
    {
     "name": "stdout",
     "output_type": "stream",
     "text": [
      "Installing collected packages: mnist\r\n",
      "Successfully installed mnist-0.2.2\r\n"
     ]
    }
   ],
   "source": [
    "!pip install mnist"
   ]
  },
  {
   "cell_type": "markdown",
   "id": "69df9c9a",
   "metadata": {
    "papermill": {
     "duration": 0.025136,
     "end_time": "2022-09-25T10:11:26.500215",
     "exception": false,
     "start_time": "2022-09-25T10:11:26.475079",
     "status": "completed"
    },
    "tags": []
   },
   "source": [
    "## Preparing the Data"
   ]
  },
  {
   "cell_type": "code",
   "execution_count": 4,
   "id": "7f69d806",
   "metadata": {
    "execution": {
     "iopub.execute_input": "2022-09-25T10:11:26.555769Z",
     "iopub.status.busy": "2022-09-25T10:11:26.555183Z",
     "iopub.status.idle": "2022-09-25T10:11:26.569558Z",
     "shell.execute_reply": "2022-09-25T10:11:26.569095Z"
    },
    "papermill": {
     "duration": 0.044456,
     "end_time": "2022-09-25T10:11:26.569662",
     "exception": false,
     "start_time": "2022-09-25T10:11:26.525206",
     "status": "completed"
    },
    "tags": []
   },
   "outputs": [],
   "source": [
    "import mnist"
   ]
  },
  {
   "cell_type": "code",
   "execution_count": 5,
   "id": "a411e44f",
   "metadata": {
    "execution": {
     "iopub.execute_input": "2022-09-25T10:11:26.623879Z",
     "iopub.status.busy": "2022-09-25T10:11:26.623311Z",
     "iopub.status.idle": "2022-09-25T10:11:27.164440Z",
     "shell.execute_reply": "2022-09-25T10:11:27.163941Z"
    },
    "papermill": {
     "duration": 0.569854,
     "end_time": "2022-09-25T10:11:27.164552",
     "exception": false,
     "start_time": "2022-09-25T10:11:26.594698",
     "status": "completed"
    },
    "tags": []
   },
   "outputs": [],
   "source": [
    "train_images = mnist.train_images()\n",
    "train_labels = mnist.train_labels()"
   ]
  },
  {
   "cell_type": "code",
   "execution_count": 6,
   "id": "dceab3a5",
   "metadata": {
    "execution": {
     "iopub.execute_input": "2022-09-25T10:11:27.218934Z",
     "iopub.status.busy": "2022-09-25T10:11:27.218379Z",
     "iopub.status.idle": "2022-09-25T10:11:27.232296Z",
     "shell.execute_reply": "2022-09-25T10:11:27.232824Z"
    },
    "papermill": {
     "duration": 0.043173,
     "end_time": "2022-09-25T10:11:27.232948",
     "exception": false,
     "start_time": "2022-09-25T10:11:27.189775",
     "status": "completed"
    },
    "tags": []
   },
   "outputs": [
    {
     "data": {
      "text/plain": [
       "((60000, 28, 28), (60000,))"
      ]
     },
     "execution_count": 6,
     "metadata": {},
     "output_type": "execute_result"
    }
   ],
   "source": [
    "train_images.shape, train_labels.shape"
   ]
  },
  {
   "cell_type": "code",
   "execution_count": 7,
   "id": "f50dc2bb",
   "metadata": {
    "execution": {
     "iopub.execute_input": "2022-09-25T10:11:27.287036Z",
     "iopub.status.busy": "2022-09-25T10:11:27.286490Z",
     "iopub.status.idle": "2022-09-25T10:11:27.445372Z",
     "shell.execute_reply": "2022-09-25T10:11:27.444763Z"
    },
    "papermill": {
     "duration": 0.187298,
     "end_time": "2022-09-25T10:11:27.445487",
     "exception": false,
     "start_time": "2022-09-25T10:11:27.258189",
     "status": "completed"
    },
    "tags": []
   },
   "outputs": [],
   "source": [
    "test_images = mnist.test_images()\n",
    "test_labels = mnist.test_labels()"
   ]
  },
  {
   "cell_type": "code",
   "execution_count": 8,
   "id": "fc38cf1b",
   "metadata": {
    "execution": {
     "iopub.execute_input": "2022-09-25T10:11:27.500739Z",
     "iopub.status.busy": "2022-09-25T10:11:27.500172Z",
     "iopub.status.idle": "2022-09-25T10:11:27.512340Z",
     "shell.execute_reply": "2022-09-25T10:11:27.512746Z"
    },
    "papermill": {
     "duration": 0.041549,
     "end_time": "2022-09-25T10:11:27.512872",
     "exception": false,
     "start_time": "2022-09-25T10:11:27.471323",
     "status": "completed"
    },
    "tags": []
   },
   "outputs": [
    {
     "data": {
      "text/plain": [
       "((10000, 28, 28), (10000,))"
      ]
     },
     "execution_count": 8,
     "metadata": {},
     "output_type": "execute_result"
    }
   ],
   "source": [
    "test_images.shape, test_labels.shape"
   ]
  },
  {
   "cell_type": "code",
   "execution_count": 9,
   "id": "f9ed8fe0",
   "metadata": {
    "execution": {
     "iopub.execute_input": "2022-09-25T10:11:27.567766Z",
     "iopub.status.busy": "2022-09-25T10:11:27.567160Z",
     "iopub.status.idle": "2022-09-25T10:11:27.698968Z",
     "shell.execute_reply": "2022-09-25T10:11:27.699437Z"
    },
    "papermill": {
     "duration": 0.16121,
     "end_time": "2022-09-25T10:11:27.699564",
     "exception": false,
     "start_time": "2022-09-25T10:11:27.538354",
     "status": "completed"
    },
    "tags": []
   },
   "outputs": [
    {
     "name": "stdout",
     "output_type": "stream",
     "text": [
      "2\n"
     ]
    },
    {
     "data": {
      "text/plain": [
       "<matplotlib.image.AxesImage at 0x7fce42b42cf8>"
      ]
     },
     "execution_count": 9,
     "metadata": {},
     "output_type": "execute_result"
    },
    {
     "data": {
      "image/png": "[encoded data removed]",
      "text/plain": [
       "<Figure size 432x288 with 1 Axes>"
      ]
     },
     "metadata": {
      "needs_background": "light"
     },
     "output_type": "display_data"
    }
   ],
   "source": [
    "image_index = 7776 # You may select anything up to 60,000\n",
    "print(train_labels[image_index]) \n",
    "plt.imshow(train_images[image_index], cmap='Greys')"
   ]
  },
  {
   "cell_type": "markdown",
   "id": "a8d2388d",
   "metadata": {
    "papermill": {
     "duration": 0.02699,
     "end_time": "2022-09-25T10:11:27.753627",
     "exception": false,
     "start_time": "2022-09-25T10:11:27.726637",
     "status": "completed"
    },
    "tags": []
   },
   "source": [
    "## Filter data to get 3 and 8 out"
   ]
  },
  {
   "cell_type": "code",
   "execution_count": 10,
   "id": "776f7fc7",
   "metadata": {
    "execution": {
     "iopub.execute_input": "2022-09-25T10:11:27.812254Z",
     "iopub.status.busy": "2022-09-25T10:11:27.811666Z",
     "iopub.status.idle": "2022-09-25T10:11:27.832086Z",
     "shell.execute_reply": "2022-09-25T10:11:27.832514Z"
    },
    "papermill": {
     "duration": 0.052354,
     "end_time": "2022-09-25T10:11:27.832643",
     "exception": false,
     "start_time": "2022-09-25T10:11:27.780289",
     "status": "completed"
    },
    "tags": []
   },
   "outputs": [],
   "source": [
    "train_filter = np.where((train_labels == 3 ) | (train_labels == 8))\n",
    "test_filter = np.where((test_labels == 3) | (test_labels == 8))\n",
    "X_train, y_train = train_images[train_filter], train_labels[train_filter]\n",
    "X_test, y_test = test_images[test_filter], test_labels[test_filter]"
   ]
  },
  {
   "cell_type": "markdown",
   "id": "948f0b7e",
   "metadata": {
    "papermill": {
     "duration": 0.02666,
     "end_time": "2022-09-25T10:11:27.886210",
     "exception": false,
     "start_time": "2022-09-25T10:11:27.859550",
     "status": "completed"
    },
    "tags": []
   },
   "source": [
    "We normalize the pizel values in the 0 to 1 range"
   ]
  },
  {
   "cell_type": "code",
   "execution_count": 11,
   "id": "ee4c2166",
   "metadata": {
    "execution": {
     "iopub.execute_input": "2022-09-25T10:11:27.943321Z",
     "iopub.status.busy": "2022-09-25T10:11:27.942418Z",
     "iopub.status.idle": "2022-09-25T10:11:27.984081Z",
     "shell.execute_reply": "2022-09-25T10:11:27.983625Z"
    },
    "papermill": {
     "duration": 0.071447,
     "end_time": "2022-09-25T10:11:27.984192",
     "exception": false,
     "start_time": "2022-09-25T10:11:27.912745",
     "status": "completed"
    },
    "tags": []
   },
   "outputs": [],
   "source": [
    "X_train = X_train/255.\n",
    "X_test = X_test/255."
   ]
  },
  {
   "cell_type": "markdown",
   "id": "ddcf4fab",
   "metadata": {
    "papermill": {
     "duration": 0.02674,
     "end_time": "2022-09-25T10:11:28.037821",
     "exception": false,
     "start_time": "2022-09-25T10:11:28.011081",
     "status": "completed"
    },
    "tags": []
   },
   "source": [
    "And setup the labels as 1 (when the digit is 3) and 0 (when the digit is 8)"
   ]
  },
  {
   "cell_type": "code",
   "execution_count": 12,
   "id": "7dc908f2",
   "metadata": {
    "execution": {
     "iopub.execute_input": "2022-09-25T10:11:28.094874Z",
     "iopub.status.busy": "2022-09-25T10:11:28.094282Z",
     "iopub.status.idle": "2022-09-25T10:11:28.106148Z",
     "shell.execute_reply": "2022-09-25T10:11:28.105703Z"
    },
    "papermill": {
     "duration": 0.041738,
     "end_time": "2022-09-25T10:11:28.106249",
     "exception": false,
     "start_time": "2022-09-25T10:11:28.064511",
     "status": "completed"
    },
    "tags": []
   },
   "outputs": [],
   "source": [
    "y_train = 1*(y_train==3)\n",
    "y_test = 1*(y_test==3)"
   ]
  },
  {
   "cell_type": "code",
   "execution_count": 13,
   "id": "01e4e969",
   "metadata": {
    "execution": {
     "iopub.execute_input": "2022-09-25T10:11:28.163717Z",
     "iopub.status.busy": "2022-09-25T10:11:28.163106Z",
     "iopub.status.idle": "2022-09-25T10:11:28.176112Z",
     "shell.execute_reply": "2022-09-25T10:11:28.175570Z"
    },
    "papermill": {
     "duration": 0.043127,
     "end_time": "2022-09-25T10:11:28.176213",
     "exception": false,
     "start_time": "2022-09-25T10:11:28.133086",
     "status": "completed"
    },
    "tags": []
   },
   "outputs": [
    {
     "data": {
      "text/plain": [
       "((11982, 28, 28), (1984, 28, 28))"
      ]
     },
     "execution_count": 13,
     "metadata": {},
     "output_type": "execute_result"
    }
   ],
   "source": [
    "X_train.shape, X_test.shape"
   ]
  },
  {
   "cell_type": "markdown",
   "id": "5ccf3f85",
   "metadata": {
    "papermill": {
     "duration": 0.026968,
     "end_time": "2022-09-25T10:11:28.229885",
     "exception": false,
     "start_time": "2022-09-25T10:11:28.202917",
     "status": "completed"
    },
    "tags": []
   },
   "source": [
    "We reshape the data to flatten the image pixels into a set of features or co-variates:"
   ]
  },
  {
   "cell_type": "code",
   "execution_count": 14,
   "id": "5286a4a3",
   "metadata": {
    "execution": {
     "iopub.execute_input": "2022-09-25T10:11:28.287681Z",
     "iopub.status.busy": "2022-09-25T10:11:28.287090Z",
     "iopub.status.idle": "2022-09-25T10:11:28.301080Z",
     "shell.execute_reply": "2022-09-25T10:11:28.300533Z"
    },
    "papermill": {
     "duration": 0.044248,
     "end_time": "2022-09-25T10:11:28.301182",
     "exception": false,
     "start_time": "2022-09-25T10:11:28.256934",
     "status": "completed"
    },
    "tags": []
   },
   "outputs": [
    {
     "data": {
      "text/plain": [
       "((11982, 784), (1984, 784))"
      ]
     },
     "execution_count": 14,
     "metadata": {},
     "output_type": "execute_result"
    }
   ],
   "source": [
    "X_train = X_train.reshape(X_train.shape[0], -1)\n",
    "X_test = X_test.reshape(X_test.shape[0], -1)\n",
    "X_train.shape, X_test.shape"
   ]
  },
  {
   "cell_type": "code",
   "execution_count": 15,
   "id": "73c5f88a",
   "metadata": {
    "execution": {
     "iopub.execute_input": "2022-09-25T10:11:28.359653Z",
     "iopub.status.busy": "2022-09-25T10:11:28.359068Z",
     "iopub.status.idle": "2022-09-25T10:11:28.377631Z",
     "shell.execute_reply": "2022-09-25T10:11:28.377167Z"
    },
    "papermill": {
     "duration": 0.049534,
     "end_time": "2022-09-25T10:11:28.377735",
     "exception": false,
     "start_time": "2022-09-25T10:11:28.328201",
     "status": "completed"
    },
    "tags": []
   },
   "outputs": [],
   "source": [
    "#Impoting functions from 'Kudzu'\n",
    "from kudzu.model import Model\n",
    "from kudzu.train import Learner\n",
    "from kudzu.optim import GD\n",
    "from kudzu.data import Data, Sampler,Dataloader\n",
    "\n",
    "from kudzu.callbacks import AccCallback\n",
    "from kudzu.callbacks import ClfCallback\n",
    "\n",
    "from kudzu.loss import MSE\n",
    "\n",
    "from kudzu.layer import Sigmoid,Relu\n",
    "from kudzu.layer import Affine"
   ]
  },
  {
   "cell_type": "markdown",
   "id": "bc01172a",
   "metadata": {
    "papermill": {
     "duration": 0.027525,
     "end_time": "2022-09-25T10:11:28.432950",
     "exception": false,
     "start_time": "2022-09-25T10:11:28.405425",
     "status": "completed"
    },
    "tags": []
   },
   "source": [
    "### Let us create a `Config` class, to store important parameters. \n",
    "This class essentially plays the role of a dictionary."
   ]
  },
  {
   "cell_type": "code",
   "execution_count": 16,
   "id": "978281aa",
   "metadata": {
    "execution": {
     "iopub.execute_input": "2022-09-25T10:11:28.490477Z",
     "iopub.status.busy": "2022-09-25T10:11:28.489814Z",
     "iopub.status.idle": "2022-09-25T10:11:28.503010Z",
     "shell.execute_reply": "2022-09-25T10:11:28.502509Z"
    },
    "papermill": {
     "duration": 0.043057,
     "end_time": "2022-09-25T10:11:28.503120",
     "exception": false,
     "start_time": "2022-09-25T10:11:28.460063",
     "status": "completed"
    },
    "tags": []
   },
   "outputs": [],
   "source": [
    "class Config:\n",
    "    pass\n",
    "config = Config()\n",
    "config.lr = 0.001\n",
    "config.num_epochs = 250\n",
    "config.bs = 50"
   ]
  },
  {
   "cell_type": "markdown",
   "id": "1385fa59",
   "metadata": {
    "papermill": {
     "duration": 0.027652,
     "end_time": "2022-09-25T10:11:28.558227",
     "exception": false,
     "start_time": "2022-09-25T10:11:28.530575",
     "status": "completed"
    },
    "tags": []
   },
   "source": [
    "### Running Models with the Training data\n",
    "Details about the network layers:\n",
    "- A first affine layer has 784 inputs and does 100 affine transforms. These are followed by a Relu\n",
    "- A second affine layer has 100 inputs from the 100 activations of the past layer, and does 100 affine transforms. These are followed by a Relu\n",
    "- A third affine layer has 100 activations and does 2 affine transformations to create an embedding for visualization. There is no non-linearity here.\n",
    "- A final \"logistic regression\" which has an affine transform from 2 inputs to 1 output, which is squeezed through a sigmoid.\n"
   ]
  },
  {
   "cell_type": "code",
   "execution_count": 17,
   "id": "2b9c66db",
   "metadata": {
    "execution": {
     "iopub.execute_input": "2022-09-25T10:11:28.616926Z",
     "iopub.status.busy": "2022-09-25T10:11:28.616360Z",
     "iopub.status.idle": "2022-09-25T10:11:28.628507Z",
     "shell.execute_reply": "2022-09-25T10:11:28.628047Z"
    },
    "papermill": {
     "duration": 0.043153,
     "end_time": "2022-09-25T10:11:28.628607",
     "exception": false,
     "start_time": "2022-09-25T10:11:28.585454",
     "status": "completed"
    },
    "tags": []
   },
   "outputs": [],
   "source": [
    "data = Data(X_train, y_train.reshape(-1,1))\n",
    "sampler = Sampler(data, config.bs, shuffle=True)\n",
    "\n",
    "dl = Dataloader(data, sampler)\n",
    "\n",
    "opt = GD(config.lr)\n",
    "loss = MSE()"
   ]
  },
  {
   "cell_type": "code",
   "execution_count": 18,
   "id": "b275e4c2",
   "metadata": {
    "execution": {
     "iopub.execute_input": "2022-09-25T10:11:28.686976Z",
     "iopub.status.busy": "2022-09-25T10:11:28.686412Z",
     "iopub.status.idle": "2022-09-25T10:11:28.697834Z",
     "shell.execute_reply": "2022-09-25T10:11:28.697299Z"
    },
    "papermill": {
     "duration": 0.0421,
     "end_time": "2022-09-25T10:11:28.697934",
     "exception": false,
     "start_time": "2022-09-25T10:11:28.655834",
     "status": "completed"
    },
    "tags": []
   },
   "outputs": [],
   "source": [
    "training_data_x = X_train\n",
    "testing_data_x = X_test\n",
    "training_data_y = y_train.reshape(-1,1)\n",
    "testing_data_y = y_test.reshape(-1,1)"
   ]
  },
  {
   "cell_type": "code",
   "execution_count": 19,
   "id": "76951160",
   "metadata": {
    "execution": {
     "iopub.execute_input": "2022-09-25T10:11:28.756243Z",
     "iopub.status.busy": "2022-09-25T10:11:28.755674Z",
     "iopub.status.idle": "2022-09-25T10:11:28.771835Z",
     "shell.execute_reply": "2022-09-25T10:11:28.772292Z"
    },
    "papermill": {
     "duration": 0.047393,
     "end_time": "2022-09-25T10:11:28.772416",
     "exception": false,
     "start_time": "2022-09-25T10:11:28.725023",
     "status": "completed"
    },
    "tags": []
   },
   "outputs": [
    {
     "name": "stdout",
     "output_type": "stream",
     "text": [
      "xavier\n",
      "xavier\n",
      "xavier\n",
      "xavier\n",
      "xavier\n"
     ]
    }
   ],
   "source": [
    "layers = [Affine(\"first\", 784, 100), Relu(\"first\"), Affine(\"second\", 100, 100), Relu(\"second\"), Affine(\"third\", 100, 2), Affine(\"last\", 2, 1), Sigmoid(\"last\")]\n",
    "model_nn = Model(layers)\n",
    "model_lr = Model([Affine(\"logits\", 784, 1), Sigmoid(\"sigmoid\")])"
   ]
  },
  {
   "cell_type": "code",
   "execution_count": 20,
   "id": "6eede77a",
   "metadata": {
    "execution": {
     "iopub.execute_input": "2022-09-25T10:11:28.832733Z",
     "iopub.status.busy": "2022-09-25T10:11:28.832141Z",
     "iopub.status.idle": "2022-09-25T10:11:28.844910Z",
     "shell.execute_reply": "2022-09-25T10:11:28.844447Z"
    },
    "papermill": {
     "duration": 0.044333,
     "end_time": "2022-09-25T10:11:28.845016",
     "exception": false,
     "start_time": "2022-09-25T10:11:28.800683",
     "status": "completed"
    },
    "tags": []
   },
   "outputs": [],
   "source": [
    "nn_learner = Learner(loss, model_nn, opt, config.num_epochs)\n",
    "acc_nn = ClfCallback(nn_learner, config.bs, training_data_x , testing_data_x, training_data_y, testing_data_y)\n",
    "nn_learner.set_callbacks([acc_nn])"
   ]
  },
  {
   "cell_type": "code",
   "execution_count": 21,
   "id": "877b6cc7",
   "metadata": {
    "execution": {
     "iopub.execute_input": "2022-09-25T10:11:28.904361Z",
     "iopub.status.busy": "2022-09-25T10:11:28.903789Z",
     "iopub.status.idle": "2022-09-25T10:11:28.915676Z",
     "shell.execute_reply": "2022-09-25T10:11:28.915190Z"
    },
    "papermill": {
     "duration": 0.043028,
     "end_time": "2022-09-25T10:11:28.915784",
     "exception": false,
     "start_time": "2022-09-25T10:11:28.872756",
     "status": "completed"
    },
    "tags": []
   },
   "outputs": [],
   "source": [
    "lr_learner = Learner(loss, model_lr, opt, config.num_epochs)\n",
    "acc_lr = ClfCallback(lr_learner, config.bs, training_data_x , testing_data_x, training_data_y, testing_data_y)\n",
    "lr_learner.set_callbacks([acc_lr])"
   ]
  },
  {
   "cell_type": "code",
   "execution_count": 22,
   "id": "d9b133c3",
   "metadata": {
    "execution": {
     "iopub.execute_input": "2022-09-25T10:11:28.974588Z",
     "iopub.status.busy": "2022-09-25T10:11:28.974025Z",
     "iopub.status.idle": "2022-09-25T10:14:26.571655Z",
     "shell.execute_reply": "2022-09-25T10:14:26.572112Z"
    },
    "papermill": {
     "duration": 177.628596,
     "end_time": "2022-09-25T10:14:26.572239",
     "exception": false,
     "start_time": "2022-09-25T10:11:28.943643",
     "status": "completed"
    },
    "tags": []
   },
   "outputs": [
    {
     "name": "stdout",
     "output_type": "stream",
     "text": [
      "Epoch 0, Loss 0.2409\n",
      "Training Accuracy: 0.7160, Testing Accuracy: 0.7031\n",
      "\n"
     ]
    },
    {
     "name": "stdout",
     "output_type": "stream",
     "text": [
      "Epoch 10, Loss 0.0983\n",
      "Training Accuracy: 0.9206, Testing Accuracy: 0.9309\n",
      "\n"
     ]
    },
    {
     "name": "stdout",
     "output_type": "stream",
     "text": [
      "Epoch 20, Loss 0.0578\n",
      "Training Accuracy: 0.9440, Testing Accuracy: 0.9536\n",
      "\n"
     ]
    },
    {
     "name": "stdout",
     "output_type": "stream",
     "text": [
      "Epoch 30, Loss 0.0444\n",
      "Training Accuracy: 0.9536, Testing Accuracy: 0.9622\n",
      "\n"
     ]
    },
    {
     "name": "stdout",
     "output_type": "stream",
     "text": [
      "Epoch 40, Loss 0.038\n",
      "Training Accuracy: 0.9586, Testing Accuracy: 0.9642\n",
      "\n"
     ]
    },
    {
     "name": "stdout",
     "output_type": "stream",
     "text": [
      "Epoch 50, Loss 0.0343\n",
      "Training Accuracy: 0.9610, Testing Accuracy: 0.9672\n",
      "\n"
     ]
    },
    {
     "name": "stdout",
     "output_type": "stream",
     "text": [
      "Epoch 60, Loss 0.0318\n",
      "Training Accuracy: 0.9638, Testing Accuracy: 0.9672\n",
      "\n"
     ]
    },
    {
     "name": "stdout",
     "output_type": "stream",
     "text": [
      "Epoch 70, Loss 0.0299\n",
      "Training Accuracy: 0.9656, Testing Accuracy: 0.9688\n",
      "\n"
     ]
    },
    {
     "name": "stdout",
     "output_type": "stream",
     "text": [
      "Epoch 80, Loss 0.0285\n",
      "Training Accuracy: 0.9671, Testing Accuracy: 0.9693\n",
      "\n"
     ]
    },
    {
     "name": "stdout",
     "output_type": "stream",
     "text": [
      "Epoch 90, Loss 0.0273\n",
      "Training Accuracy: 0.9689, Testing Accuracy: 0.9698\n",
      "\n"
     ]
    },
    {
     "name": "stdout",
     "output_type": "stream",
     "text": [
      "Epoch 100, Loss 0.0263\n",
      "Training Accuracy: 0.9700, Testing Accuracy: 0.9698\n",
      "\n"
     ]
    },
    {
     "name": "stdout",
     "output_type": "stream",
     "text": [
      "Epoch 110, Loss 0.0255\n",
      "Training Accuracy: 0.9707, Testing Accuracy: 0.9698\n",
      "\n"
     ]
    },
    {
     "name": "stdout",
     "output_type": "stream",
     "text": [
      "Epoch 120, Loss 0.0247\n",
      "Training Accuracy: 0.9717, Testing Accuracy: 0.9708\n",
      "\n"
     ]
    },
    {
     "name": "stdout",
     "output_type": "stream",
     "text": [
      "Epoch 130, Loss 0.024\n",
      "Training Accuracy: 0.9729, Testing Accuracy: 0.9708\n",
      "\n"
     ]
    },
    {
     "name": "stdout",
     "output_type": "stream",
     "text": [
      "Epoch 140, Loss 0.0234\n",
      "Training Accuracy: 0.9735, Testing Accuracy: 0.9703\n",
      "\n"
     ]
    },
    {
     "name": "stdout",
     "output_type": "stream",
     "text": [
      "Epoch 150, Loss 0.0228\n",
      "Training Accuracy: 0.9742, Testing Accuracy: 0.9708\n",
      "\n"
     ]
    },
    {
     "name": "stdout",
     "output_type": "stream",
     "text": [
      "Epoch 160, Loss 0.0223\n",
      "Training Accuracy: 0.9746, Testing Accuracy: 0.9718\n",
      "\n"
     ]
    },
    {
     "name": "stdout",
     "output_type": "stream",
     "text": [
      "Epoch 170, Loss 0.0218\n",
      "Training Accuracy: 0.9750, Testing Accuracy: 0.9718\n",
      "\n"
     ]
    },
    {
     "name": "stdout",
     "output_type": "stream",
     "text": [
      "Epoch 180, Loss 0.0213\n",
      "Training Accuracy: 0.9755, Testing Accuracy: 0.9718\n",
      "\n"
     ]
    },
    {
     "name": "stdout",
     "output_type": "stream",
     "text": [
      "Epoch 190, Loss 0.0209\n",
      "Training Accuracy: 0.9761, Testing Accuracy: 0.9718\n",
      "\n"
     ]
    },
    {
     "name": "stdout",
     "output_type": "stream",
     "text": [
      "Epoch 200, Loss 0.0204\n",
      "Training Accuracy: 0.9769, Testing Accuracy: 0.9718\n",
      "\n"
     ]
    },
    {
     "name": "stdout",
     "output_type": "stream",
     "text": [
      "Epoch 210, Loss 0.02\n",
      "Training Accuracy: 0.9775, Testing Accuracy: 0.9723\n",
      "\n"
     ]
    },
    {
     "name": "stdout",
     "output_type": "stream",
     "text": [
      "Epoch 220, Loss 0.0197\n",
      "Training Accuracy: 0.9780, Testing Accuracy: 0.9728\n",
      "\n"
     ]
    },
    {
     "name": "stdout",
     "output_type": "stream",
     "text": [
      "Epoch 230, Loss 0.0193\n",
      "Training Accuracy: 0.9783, Testing Accuracy: 0.9738\n",
      "\n"
     ]
    },
    {
     "name": "stdout",
     "output_type": "stream",
     "text": [
      "Epoch 240, Loss 0.0189\n",
      "Training Accuracy: 0.9787, Testing Accuracy: 0.9743\n",
      "\n"
     ]
    },
    {
     "data": {
      "text/plain": [
       "0.002270474010654074"
      ]
     },
     "execution_count": 22,
     "metadata": {},
     "output_type": "execute_result"
    }
   ],
   "source": [
    "nn_learner.train_loop(dl)"
   ]
  },
  {
   "cell_type": "code",
   "execution_count": 23,
   "id": "e0163366",
   "metadata": {
    "execution": {
     "iopub.execute_input": "2022-09-25T10:14:26.648550Z",
     "iopub.status.busy": "2022-09-25T10:14:26.645428Z",
     "iopub.status.idle": "2022-09-25T10:14:38.992237Z",
     "shell.execute_reply": "2022-09-25T10:14:38.993055Z"
    },
    "papermill": {
     "duration": 12.386515,
     "end_time": "2022-09-25T10:14:38.993192",
     "exception": false,
     "start_time": "2022-09-25T10:14:26.606677",
     "status": "completed"
    },
    "tags": []
   },
   "outputs": [
    {
     "name": "stdout",
     "output_type": "stream",
     "text": [
      "Epoch 0, Loss 0.2226\n",
      "Training Accuracy: 0.7876, Testing Accuracy: 0.7757\n",
      "\n"
     ]
    },
    {
     "name": "stdout",
     "output_type": "stream",
     "text": [
      "Epoch 10, Loss 0.0959\n",
      "Training Accuracy: 0.9212, Testing Accuracy: 0.9370\n",
      "\n"
     ]
    },
    {
     "name": "stdout",
     "output_type": "stream",
     "text": [
      "Epoch 20, Loss 0.0754\n",
      "Training Accuracy: 0.9305, Testing Accuracy: 0.9461\n",
      "\n"
     ]
    },
    {
     "name": "stdout",
     "output_type": "stream",
     "text": [
      "Epoch 30, Loss 0.0659\n",
      "Training Accuracy: 0.9384, Testing Accuracy: 0.9501\n",
      "\n"
     ]
    },
    {
     "name": "stdout",
     "output_type": "stream",
     "text": [
      "Epoch 40, Loss 0.06\n",
      "Training Accuracy: 0.9426, Testing Accuracy: 0.9551\n",
      "\n"
     ]
    },
    {
     "name": "stdout",
     "output_type": "stream",
     "text": [
      "Epoch 50, Loss 0.0559\n",
      "Training Accuracy: 0.9448, Testing Accuracy: 0.9577\n",
      "\n"
     ]
    },
    {
     "name": "stdout",
     "output_type": "stream",
     "text": [
      "Epoch 60, Loss 0.0529\n",
      "Training Accuracy: 0.9473, Testing Accuracy: 0.9597\n",
      "\n"
     ]
    },
    {
     "name": "stdout",
     "output_type": "stream",
     "text": [
      "Epoch 70, Loss 0.0505\n",
      "Training Accuracy: 0.9491, Testing Accuracy: 0.9612\n",
      "\n"
     ]
    },
    {
     "name": "stdout",
     "output_type": "stream",
     "text": [
      "Epoch 80, Loss 0.0486\n",
      "Training Accuracy: 0.9501, Testing Accuracy: 0.9607\n",
      "\n"
     ]
    },
    {
     "name": "stdout",
     "output_type": "stream",
     "text": [
      "Epoch 90, Loss 0.047\n",
      "Training Accuracy: 0.9513, Testing Accuracy: 0.9612\n",
      "\n"
     ]
    },
    {
     "name": "stdout",
     "output_type": "stream",
     "text": [
      "Epoch 100, Loss 0.0457\n",
      "Training Accuracy: 0.9525, Testing Accuracy: 0.9627\n",
      "\n"
     ]
    },
    {
     "name": "stdout",
     "output_type": "stream",
     "text": [
      "Epoch 110, Loss 0.0445\n",
      "Training Accuracy: 0.9537, Testing Accuracy: 0.9627\n",
      "\n"
     ]
    },
    {
     "name": "stdout",
     "output_type": "stream",
     "text": [
      "Epoch 120, Loss 0.0435\n",
      "Training Accuracy: 0.9540, Testing Accuracy: 0.9632\n",
      "\n"
     ]
    },
    {
     "name": "stdout",
     "output_type": "stream",
     "text": [
      "Epoch 130, Loss 0.0426\n",
      "Training Accuracy: 0.9550, Testing Accuracy: 0.9637\n",
      "\n"
     ]
    },
    {
     "name": "stdout",
     "output_type": "stream",
     "text": [
      "Epoch 140, Loss 0.0418\n",
      "Training Accuracy: 0.9559, Testing Accuracy: 0.9647\n",
      "\n"
     ]
    },
    {
     "name": "stdout",
     "output_type": "stream",
     "text": [
      "Epoch 150, Loss 0.0411\n",
      "Training Accuracy: 0.9568, Testing Accuracy: 0.9657\n",
      "\n"
     ]
    },
    {
     "name": "stdout",
     "output_type": "stream",
     "text": [
      "Epoch 160, Loss 0.0404\n",
      "Training Accuracy: 0.9572, Testing Accuracy: 0.9662\n",
      "\n"
     ]
    },
    {
     "name": "stdout",
     "output_type": "stream",
     "text": [
      "Epoch 170, Loss 0.0399\n",
      "Training Accuracy: 0.9579, Testing Accuracy: 0.9662\n",
      "\n"
     ]
    },
    {
     "name": "stdout",
     "output_type": "stream",
     "text": [
      "Epoch 180, Loss 0.0393\n",
      "Training Accuracy: 0.9582, Testing Accuracy: 0.9662\n",
      "\n"
     ]
    },
    {
     "name": "stdout",
     "output_type": "stream",
     "text": [
      "Epoch 190, Loss 0.0388\n",
      "Training Accuracy: 0.9587, Testing Accuracy: 0.9662\n",
      "\n"
     ]
    },
    {
     "name": "stdout",
     "output_type": "stream",
     "text": [
      "Epoch 200, Loss 0.0383\n",
      "Training Accuracy: 0.9590, Testing Accuracy: 0.9662\n",
      "\n"
     ]
    },
    {
     "name": "stdout",
     "output_type": "stream",
     "text": [
      "Epoch 210, Loss 0.0379\n",
      "Training Accuracy: 0.9594, Testing Accuracy: 0.9667\n",
      "\n"
     ]
    },
    {
     "name": "stdout",
     "output_type": "stream",
     "text": [
      "Epoch 220, Loss 0.0375\n",
      "Training Accuracy: 0.9598, Testing Accuracy: 0.9677\n",
      "\n"
     ]
    },
    {
     "name": "stdout",
     "output_type": "stream",
     "text": [
      "Epoch 230, Loss 0.0371\n",
      "Training Accuracy: 0.9599, Testing Accuracy: 0.9677\n",
      "\n"
     ]
    },
    {
     "name": "stdout",
     "output_type": "stream",
     "text": [
      "Epoch 240, Loss 0.0368\n",
      "Training Accuracy: 0.9602, Testing Accuracy: 0.9682\n",
      "\n"
     ]
    },
    {
     "data": {
      "text/plain": [
       "0.06163682654880569"
      ]
     },
     "execution_count": 23,
     "metadata": {},
     "output_type": "execute_result"
    }
   ],
   "source": [
    "lr_learner.train_loop(dl)"
   ]
  },
  {
   "cell_type": "code",
   "execution_count": 24,
   "id": "ca410940",
   "metadata": {
    "execution": {
     "iopub.execute_input": "2022-09-25T10:14:39.083917Z",
     "iopub.status.busy": "2022-09-25T10:14:39.083329Z",
     "iopub.status.idle": "2022-09-25T10:14:39.309172Z",
     "shell.execute_reply": "2022-09-25T10:14:39.308593Z"
    },
    "papermill": {
     "duration": 0.274256,
     "end_time": "2022-09-25T10:14:39.309283",
     "exception": false,
     "start_time": "2022-09-25T10:14:39.035027",
     "status": "completed"
    },
    "tags": []
   },
   "outputs": [
    {
     "data": {
      "text/plain": [
       "<matplotlib.legend.Legend at 0x7fce426af358>"
      ]
     },
     "execution_count": 24,
     "metadata": {},
     "output_type": "execute_result"
    },
    {
     "data": {
      "image/png": "[encoded data removed]",
      "text/plain": [
       "<Figure size 1080x720 with 1 Axes>"
      ]
     },
     "metadata": {
      "needs_background": "light"
     },
     "output_type": "display_data"
    }
   ],
   "source": [
    "#comparing the results of NN and LR\n",
    "plt.figure(figsize=(15,10))\n",
    "\n",
    "# Neural Network plots\n",
    "plt.plot(acc_nn.accuracies, 'r-', label = \"Training Accuracies - NN\")\n",
    "plt.plot(acc_nn.test_accuracies, 'g-', label = \"Testing Accuracies - NN\")\n",
    "\n",
    "# Logistic Regression plots\n",
    "plt.plot(acc_lr.accuracies, 'k-', label = \"Training Accuracies - LR\")\n",
    "plt.plot(acc_lr.test_accuracies, 'b-', label = \"Testing Accuracies - LR\")\n",
    "plt.legend()"
   ]
  },
  {
   "cell_type": "markdown",
   "id": "80dfb35c",
   "metadata": {
    "papermill": {
     "duration": 0.042304,
     "end_time": "2022-09-25T10:14:39.394309",
     "exception": false,
     "start_time": "2022-09-25T10:14:39.352005",
     "status": "completed"
    },
    "tags": []
   },
   "source": [
    "#### Plotting the outputs of this layer of the NN.\n"
   ]
  },
  {
   "cell_type": "code",
   "execution_count": 25,
   "id": "45eb2ff5",
   "metadata": {
    "execution": {
     "iopub.execute_input": "2022-09-25T10:14:39.487483Z",
     "iopub.status.busy": "2022-09-25T10:14:39.486496Z",
     "iopub.status.idle": "2022-09-25T10:14:39.521105Z",
     "shell.execute_reply": "2022-09-25T10:14:39.521787Z"
    },
    "papermill": {
     "duration": 0.085223,
     "end_time": "2022-09-25T10:14:39.521918",
     "exception": false,
     "start_time": "2022-09-25T10:14:39.436695",
     "status": "completed"
    },
    "tags": []
   },
   "outputs": [],
   "source": [
    "new_model = Model(layers[:-2])\n",
    "testing_plot = new_model(testing_data_x)"
   ]
  },
  {
   "cell_type": "code",
   "execution_count": 26,
   "id": "4c0a5485",
   "metadata": {
    "execution": {
     "iopub.execute_input": "2022-09-25T10:14:39.615800Z",
     "iopub.status.busy": "2022-09-25T10:14:39.615024Z",
     "iopub.status.idle": "2022-09-25T10:14:39.813752Z",
     "shell.execute_reply": "2022-09-25T10:14:39.814183Z"
    },
    "papermill": {
     "duration": 0.249486,
     "end_time": "2022-09-25T10:14:39.814309",
     "exception": false,
     "start_time": "2022-09-25T10:14:39.564823",
     "status": "completed"
    },
    "tags": []
   },
   "outputs": [
    {
     "data": {
      "text/plain": [
       "Text(0.5, 1.0, 'Outputs')"
      ]
     },
     "execution_count": 26,
     "metadata": {},
     "output_type": "execute_result"
    },
    {
     "data": {
      "image/png": "[encoded data removed]",
      "text/plain": [
       "<Figure size 576x504 with 1 Axes>"
      ]
     },
     "metadata": {
      "needs_background": "light"
     },
     "output_type": "display_data"
    }
   ],
   "source": [
    "# Plotting the scatter plot of points and color coding by class\n",
    "plt.figure(figsize=(8,7))\n",
    "plt.scatter(testing_plot[:,0], testing_plot[:,1], alpha = 0.1, c = y_test.ravel());\n",
    "plt.title('Outputs')"
   ]
  },
  {
   "cell_type": "markdown",
   "id": "a74fcf8f",
   "metadata": {
    "papermill": {
     "duration": 0.04464,
     "end_time": "2022-09-25T10:14:39.903611",
     "exception": false,
     "start_time": "2022-09-25T10:14:39.858971",
     "status": "completed"
    },
    "tags": []
   },
   "source": [
    "Probability contours"
   ]
  },
  {
   "cell_type": "code",
   "execution_count": 27,
   "id": "d0afc8e3",
   "metadata": {
    "execution": {
     "iopub.execute_input": "2022-09-25T10:14:40.022817Z",
     "iopub.status.busy": "2022-09-25T10:14:40.020380Z",
     "iopub.status.idle": "2022-09-25T10:14:40.032294Z",
     "shell.execute_reply": "2022-09-25T10:14:40.031578Z"
    },
    "papermill": {
     "duration": 0.084028,
     "end_time": "2022-09-25T10:14:40.032398",
     "exception": false,
     "start_time": "2022-09-25T10:14:39.948370",
     "status": "completed"
    },
    "tags": []
   },
   "outputs": [],
   "source": [
    "model_prob = Model(layers[-2:]) "
   ]
  },
  {
   "cell_type": "code",
   "execution_count": 28,
   "id": "9b96e238",
   "metadata": {
    "execution": {
     "iopub.execute_input": "2022-09-25T10:14:40.126187Z",
     "iopub.status.busy": "2022-09-25T10:14:40.125612Z",
     "iopub.status.idle": "2022-09-25T10:14:40.139245Z",
     "shell.execute_reply": "2022-09-25T10:14:40.139713Z"
    },
    "papermill": {
     "duration": 0.06278,
     "end_time": "2022-09-25T10:14:40.139835",
     "exception": false,
     "start_time": "2022-09-25T10:14:40.077055",
     "status": "completed"
    },
    "tags": []
   },
   "outputs": [],
   "source": [
    "#creating the x and y ranges according to the above generated plot.\n",
    "x_range = np.linspace(-4, 1, 100) \n",
    "y_range = np.linspace(-6, 6, 100) \n",
    "x_grid, y_grid = np.meshgrid(x_range, y_range) # x_grid and y_grig are of size 100 X 100\n",
    "\n",
    "# converting x_grid and y_grid to continuous arrays\n",
    "x_gridflat = np.ravel(x_grid)\n",
    "y_gridflat = np.ravel(y_grid)\n",
    "\n",
    "# The last layer of the current model takes two columns as input. Hence transpose of np.vstack() is required.\n",
    "X = np.vstack((x_gridflat, y_gridflat)).T\n",
    "\n",
    "prob_contour = model_prob(X).reshape(100,100) "
   ]
  },
  {
   "cell_type": "code",
   "execution_count": 29,
   "id": "da72499a",
   "metadata": {
    "execution": {
     "iopub.execute_input": "2022-09-25T10:14:40.238419Z",
     "iopub.status.busy": "2022-09-25T10:14:40.235315Z",
     "iopub.status.idle": "2022-09-25T10:14:40.481581Z",
     "shell.execute_reply": "2022-09-25T10:14:40.482102Z"
    },
    "papermill": {
     "duration": 0.296953,
     "end_time": "2022-09-25T10:14:40.482253",
     "exception": false,
     "start_time": "2022-09-25T10:14:40.185300",
     "status": "completed"
    },
    "tags": []
   },
   "outputs": [
    {
     "data": {
      "image/png": "[encoded data removed]",
      "text/plain": [
       "<Figure size 720x648 with 1 Axes>"
      ]
     },
     "metadata": {
      "needs_background": "light"
     },
     "output_type": "display_data"
    }
   ],
   "source": [
    "plt.figure(figsize=(10,9))\n",
    "plt.scatter(testing_plot[:,0], testing_plot[:,1], alpha = 0.1, c = y_test.ravel())\n",
    "contours = plt.contour(x_grid,y_grid,prob_contour)\n",
    "plt.title('Probability Contours')\n",
    "plt.clabel(contours, inline = True );"
   ]
  },
  {
   "cell_type": "code",
   "execution_count": null,
   "id": "e81b4ac7",
   "metadata": {
    "papermill": {
     "duration": 0.046925,
     "end_time": "2022-09-25T10:14:40.576993",
     "exception": false,
     "start_time": "2022-09-25T10:14:40.530068",
     "status": "completed"
    },
    "tags": []
   },
   "outputs": [],
   "source": []
  }
 ],
 "metadata": {
  "kernelspec": {
   "display_name": "Python 3",
   "language": "python",
   "name": "python3"
  },
  "language_info": {
   "codemirror_mode": {
    "name": "ipython",
    "version": 3
   },
   "file_extension": ".py",
   "mimetype": "text/x-python",
   "name": "python",
   "nbconvert_exporter": "python",
   "pygments_lexer": "ipython3",
   "version": "3.6.15"
  },
  "papermill": {
   "default_parameters": {},
   "duration": 197.838436,
   "end_time": "2022-09-25T10:14:40.941027",
   "environment_variables": {},
   "exception": null,
   "input_path": "2020-08-11-part2.ipynb",
   "output_path": "2020-08-11-part2.ipynb",
   "parameters": {},
   "start_time": "2022-09-25T10:11:23.102591",
   "version": "2.3.3"
  }
 },
 "nbformat": 4,
 "nbformat_minor": 5
}