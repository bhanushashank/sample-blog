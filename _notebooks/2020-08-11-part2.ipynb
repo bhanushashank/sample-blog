{
 "cells": [
  {
   "cell_type": "markdown",
   "id": "98380cd3",
   "metadata": {
    "papermill": {
     "duration": 0.028996,
     "end_time": "2022-11-09T20:37:34.332158",
     "exception": false,
     "start_time": "2022-11-09T20:37:34.303162",
     "status": "completed"
    },
    "tags": []
   },
   "source": [
    "# Distinguish Your Own Digits (DYOD)"
   ]
  },
  {
   "cell_type": "markdown",
   "id": "ef31240d",
   "metadata": {
    "papermill": {
     "duration": 0.023487,
     "end_time": "2022-11-09T20:37:34.380231",
     "exception": false,
     "start_time": "2022-11-09T20:37:34.356744",
     "status": "completed"
    },
    "tags": []
   },
   "source": [
    "You are going to write a classifier that distinguishes between the number 3 and number 8."
   ]
  },
  {
   "cell_type": "code",
   "execution_count": 1,
   "id": "b15c8646",
   "metadata": {
    "execution": {
     "iopub.execute_input": "2022-11-09T20:37:34.438484Z",
     "iopub.status.busy": "2022-11-09T20:37:34.437855Z",
     "iopub.status.idle": "2022-11-09T20:37:34.448227Z",
     "shell.execute_reply": "2022-11-09T20:37:34.448772Z"
    },
    "papermill": {
     "duration": 0.045271,
     "end_time": "2022-11-09T20:37:34.448915",
     "exception": false,
     "start_time": "2022-11-09T20:37:34.403644",
     "status": "completed"
    },
    "tags": []
   },
   "outputs": [],
   "source": [
    "%load_ext autoreload\n",
    "%autoreload 2"
   ]
  },
  {
   "cell_type": "code",
   "execution_count": 2,
   "id": "22ef38dc",
   "metadata": {
    "execution": {
     "iopub.execute_input": "2022-11-09T20:37:34.500222Z",
     "iopub.status.busy": "2022-11-09T20:37:34.499643Z",
     "iopub.status.idle": "2022-11-09T20:37:35.029457Z",
     "shell.execute_reply": "2022-11-09T20:37:35.028865Z"
    },
    "papermill": {
     "duration": 0.557134,
     "end_time": "2022-11-09T20:37:35.029603",
     "exception": false,
     "start_time": "2022-11-09T20:37:34.472469",
     "status": "completed"
    },
    "tags": []
   },
   "outputs": [],
   "source": [
    "%matplotlib inline\n",
    "import numpy as np\n",
    "import matplotlib.pyplot as plt\n",
    "import pandas as pd"
   ]
  },
  {
   "cell_type": "markdown",
   "id": "ba036198",
   "metadata": {
    "papermill": {
     "duration": 0.02376,
     "end_time": "2022-11-09T20:37:35.077742",
     "exception": false,
     "start_time": "2022-11-09T20:37:35.053982",
     "status": "completed"
    },
    "tags": []
   },
   "source": [
    "From the command line run `pip install mnist`. This is a library that will help you bring down the mnist dataset. If you run this from a notebook, you need to put  `!pip install mnist` in a cell by itself."
   ]
  },
  {
   "cell_type": "code",
   "execution_count": 3,
   "id": "bb6ad8a1",
   "metadata": {
    "execution": {
     "iopub.execute_input": "2022-11-09T20:37:35.129177Z",
     "iopub.status.busy": "2022-11-09T20:37:35.128580Z",
     "iopub.status.idle": "2022-11-09T20:37:36.707658Z",
     "shell.execute_reply": "2022-11-09T20:37:36.707071Z"
    },
    "papermill": {
     "duration": 1.606385,
     "end_time": "2022-11-09T20:37:36.707796",
     "exception": false,
     "start_time": "2022-11-09T20:37:35.101411",
     "status": "completed"
    },
    "tags": []
   },
   "outputs": [
    {
     "name": "stdout",
     "output_type": "stream",
     "text": [
      "Collecting mnist\r\n"
     ]
    },
    {
     "name": "stdout",
     "output_type": "stream",
     "text": [
      "  Downloading mnist-0.2.2-py2.py3-none-any.whl (3.5 kB)\r\n",
      "Requirement already satisfied: numpy in /opt/hostedtoolcache/Python/3.6.15/x64/lib/python3.6/site-packages (from mnist) (1.19.5)\r\n"
     ]
    },
    {
     "name": "stdout",
     "output_type": "stream",
     "text": [
      "Installing collected packages: mnist\r\n"
     ]
    },
    {
     "name": "stdout",
     "output_type": "stream",
     "text": [
      "Successfully installed mnist-0.2.2\r\n"
     ]
    }
   ],
   "source": [
    "!pip install mnist"
   ]
  },
  {
   "cell_type": "markdown",
   "id": "69df9c9a",
   "metadata": {
    "papermill": {
     "duration": 0.024738,
     "end_time": "2022-11-09T20:37:36.757649",
     "exception": false,
     "start_time": "2022-11-09T20:37:36.732911",
     "status": "completed"
    },
    "tags": []
   },
   "source": [
    "## Preparing the Data"
   ]
  },
  {
   "cell_type": "code",
   "execution_count": 4,
   "id": "7f69d806",
   "metadata": {
    "execution": {
     "iopub.execute_input": "2022-11-09T20:37:36.812186Z",
     "iopub.status.busy": "2022-11-09T20:37:36.811608Z",
     "iopub.status.idle": "2022-11-09T20:37:36.826853Z",
     "shell.execute_reply": "2022-11-09T20:37:36.827297Z"
    },
    "papermill": {
     "duration": 0.043753,
     "end_time": "2022-11-09T20:37:36.827438",
     "exception": false,
     "start_time": "2022-11-09T20:37:36.783685",
     "status": "completed"
    },
    "tags": []
   },
   "outputs": [],
   "source": [
    "import mnist"
   ]
  },
  {
   "cell_type": "code",
   "execution_count": 5,
   "id": "a411e44f",
   "metadata": {
    "execution": {
     "iopub.execute_input": "2022-11-09T20:37:36.897073Z",
     "iopub.status.busy": "2022-11-09T20:37:36.891142Z",
     "iopub.status.idle": "2022-11-09T20:37:37.511843Z",
     "shell.execute_reply": "2022-11-09T20:37:37.512419Z"
    },
    "papermill": {
     "duration": 0.660558,
     "end_time": "2022-11-09T20:37:37.512571",
     "exception": false,
     "start_time": "2022-11-09T20:37:36.852013",
     "status": "completed"
    },
    "tags": []
   },
   "outputs": [],
   "source": [
    "train_images = mnist.train_images()\n",
    "train_labels = mnist.train_labels()"
   ]
  },
  {
   "cell_type": "code",
   "execution_count": 6,
   "id": "dceab3a5",
   "metadata": {
    "execution": {
     "iopub.execute_input": "2022-11-09T20:37:37.570574Z",
     "iopub.status.busy": "2022-11-09T20:37:37.569959Z",
     "iopub.status.idle": "2022-11-09T20:37:37.582458Z",
     "shell.execute_reply": "2022-11-09T20:37:37.581867Z"
    },
    "papermill": {
     "duration": 0.04506,
     "end_time": "2022-11-09T20:37:37.582567",
     "exception": false,
     "start_time": "2022-11-09T20:37:37.537507",
     "status": "completed"
    },
    "tags": []
   },
   "outputs": [
    {
     "data": {
      "text/plain": [
       "((60000, 28, 28), (60000,))"
      ]
     },
     "execution_count": 6,
     "metadata": {},
     "output_type": "execute_result"
    }
   ],
   "source": [
    "train_images.shape, train_labels.shape"
   ]
  },
  {
   "cell_type": "code",
   "execution_count": 7,
   "id": "f50dc2bb",
   "metadata": {
    "execution": {
     "iopub.execute_input": "2022-11-09T20:37:37.648683Z",
     "iopub.status.busy": "2022-11-09T20:37:37.648115Z",
     "iopub.status.idle": "2022-11-09T20:37:37.808334Z",
     "shell.execute_reply": "2022-11-09T20:37:37.806966Z"
    },
    "papermill": {
     "duration": 0.201027,
     "end_time": "2022-11-09T20:37:37.808479",
     "exception": false,
     "start_time": "2022-11-09T20:37:37.607452",
     "status": "completed"
    },
    "tags": []
   },
   "outputs": [],
   "source": [
    "test_images = mnist.test_images()\n",
    "test_labels = mnist.test_labels()"
   ]
  },
  {
   "cell_type": "code",
   "execution_count": 8,
   "id": "fc38cf1b",
   "metadata": {
    "execution": {
     "iopub.execute_input": "2022-11-09T20:37:37.866410Z",
     "iopub.status.busy": "2022-11-09T20:37:37.865800Z",
     "iopub.status.idle": "2022-11-09T20:37:37.877418Z",
     "shell.execute_reply": "2022-11-09T20:37:37.876948Z"
    },
    "papermill": {
     "duration": 0.04307,
     "end_time": "2022-11-09T20:37:37.877528",
     "exception": false,
     "start_time": "2022-11-09T20:37:37.834458",
     "status": "completed"
    },
    "tags": []
   },
   "outputs": [
    {
     "data": {
      "text/plain": [
       "((10000, 28, 28), (10000,))"
      ]
     },
     "execution_count": 8,
     "metadata": {},
     "output_type": "execute_result"
    }
   ],
   "source": [
    "test_images.shape, test_labels.shape"
   ]
  },
  {
   "cell_type": "code",
   "execution_count": 9,
   "id": "f9ed8fe0",
   "metadata": {
    "execution": {
     "iopub.execute_input": "2022-11-09T20:37:37.931392Z",
     "iopub.status.busy": "2022-11-09T20:37:37.930814Z",
     "iopub.status.idle": "2022-11-09T20:37:38.067329Z",
     "shell.execute_reply": "2022-11-09T20:37:38.067810Z"
    },
    "papermill": {
     "duration": 0.165418,
     "end_time": "2022-11-09T20:37:38.067944",
     "exception": false,
     "start_time": "2022-11-09T20:37:37.902526",
     "status": "completed"
    },
    "tags": []
   },
   "outputs": [
    {
     "name": "stdout",
     "output_type": "stream",
     "text": [
      "2\n"
     ]
    },
    {
     "data": {
      "text/plain": [
       "<matplotlib.image.AxesImage at 0x7f9347483e10>"
      ]
     },
     "execution_count": 9,
     "metadata": {},
     "output_type": "execute_result"
    },
    {
     "data": {
      "image/png": "[encoded data removed]",
      "text/plain": [
       "<Figure size 432x288 with 1 Axes>"
      ]
     },
     "metadata": {
      "needs_background": "light"
     },
     "output_type": "display_data"
    }
   ],
   "source": [
    "image_index = 7776 # You may select anything up to 60,000\n",
    "print(train_labels[image_index]) \n",
    "plt.imshow(train_images[image_index], cmap='Greys')"
   ]
  },
  {
   "cell_type": "markdown",
   "id": "a8d2388d",
   "metadata": {
    "papermill": {
     "duration": 0.026174,
     "end_time": "2022-11-09T20:37:38.121552",
     "exception": false,
     "start_time": "2022-11-09T20:37:38.095378",
     "status": "completed"
    },
    "tags": []
   },
   "source": [
    "## Filter data to get 3 and 8 out"
   ]
  },
  {
   "cell_type": "code",
   "execution_count": 10,
   "id": "776f7fc7",
   "metadata": {
    "execution": {
     "iopub.execute_input": "2022-11-09T20:37:38.177899Z",
     "iopub.status.busy": "2022-11-09T20:37:38.177304Z",
     "iopub.status.idle": "2022-11-09T20:37:38.193585Z",
     "shell.execute_reply": "2022-11-09T20:37:38.194061Z"
    },
    "papermill": {
     "duration": 0.046509,
     "end_time": "2022-11-09T20:37:38.194184",
     "exception": false,
     "start_time": "2022-11-09T20:37:38.147675",
     "status": "completed"
    },
    "tags": []
   },
   "outputs": [],
   "source": [
    "train_filter = np.where((train_labels == 3 ) | (train_labels == 8))\n",
    "test_filter = np.where((test_labels == 3) | (test_labels == 8))\n",
    "X_train, y_train = train_images[train_filter], train_labels[train_filter]\n",
    "X_test, y_test = test_images[test_filter], test_labels[test_filter]"
   ]
  },
  {
   "cell_type": "markdown",
   "id": "948f0b7e",
   "metadata": {
    "papermill": {
     "duration": 0.025919,
     "end_time": "2022-11-09T20:37:38.246232",
     "exception": false,
     "start_time": "2022-11-09T20:37:38.220313",
     "status": "completed"
    },
    "tags": []
   },
   "source": [
    "We normalize the pizel values in the 0 to 1 range"
   ]
  },
  {
   "cell_type": "code",
   "execution_count": 11,
   "id": "ee4c2166",
   "metadata": {
    "execution": {
     "iopub.execute_input": "2022-11-09T20:37:38.301526Z",
     "iopub.status.busy": "2022-11-09T20:37:38.300957Z",
     "iopub.status.idle": "2022-11-09T20:37:38.346229Z",
     "shell.execute_reply": "2022-11-09T20:37:38.345651Z"
    },
    "papermill": {
     "duration": 0.074136,
     "end_time": "2022-11-09T20:37:38.346394",
     "exception": false,
     "start_time": "2022-11-09T20:37:38.272258",
     "status": "completed"
    },
    "tags": []
   },
   "outputs": [],
   "source": [
    "X_train = X_train/255.\n",
    "X_test = X_test/255."
   ]
  },
  {
   "cell_type": "markdown",
   "id": "ddcf4fab",
   "metadata": {
    "papermill": {
     "duration": 0.026173,
     "end_time": "2022-11-09T20:37:38.400142",
     "exception": false,
     "start_time": "2022-11-09T20:37:38.373969",
     "status": "completed"
    },
    "tags": []
   },
   "source": [
    "And setup the labels as 1 (when the digit is 3) and 0 (when the digit is 8)"
   ]
  },
  {
   "cell_type": "code",
   "execution_count": 12,
   "id": "7dc908f2",
   "metadata": {
    "execution": {
     "iopub.execute_input": "2022-11-09T20:37:38.471480Z",
     "iopub.status.busy": "2022-11-09T20:37:38.470582Z",
     "iopub.status.idle": "2022-11-09T20:37:38.474752Z",
     "shell.execute_reply": "2022-11-09T20:37:38.475174Z"
    },
    "papermill": {
     "duration": 0.049026,
     "end_time": "2022-11-09T20:37:38.475298",
     "exception": false,
     "start_time": "2022-11-09T20:37:38.426272",
     "status": "completed"
    },
    "tags": []
   },
   "outputs": [],
   "source": [
    "y_train = 1*(y_train==3)\n",
    "y_test = 1*(y_test==3)"
   ]
  },
  {
   "cell_type": "code",
   "execution_count": 13,
   "id": "01e4e969",
   "metadata": {
    "execution": {
     "iopub.execute_input": "2022-11-09T20:37:38.542778Z",
     "iopub.status.busy": "2022-11-09T20:37:38.530245Z",
     "iopub.status.idle": "2022-11-09T20:37:38.548085Z",
     "shell.execute_reply": "2022-11-09T20:37:38.547621Z"
    },
    "papermill": {
     "duration": 0.046666,
     "end_time": "2022-11-09T20:37:38.548186",
     "exception": false,
     "start_time": "2022-11-09T20:37:38.501520",
     "status": "completed"
    },
    "tags": []
   },
   "outputs": [
    {
     "data": {
      "text/plain": [
       "((11982, 28, 28), (1984, 28, 28))"
      ]
     },
     "execution_count": 13,
     "metadata": {},
     "output_type": "execute_result"
    }
   ],
   "source": [
    "X_train.shape, X_test.shape"
   ]
  },
  {
   "cell_type": "markdown",
   "id": "5ccf3f85",
   "metadata": {
    "papermill": {
     "duration": 0.02877,
     "end_time": "2022-11-09T20:37:38.603238",
     "exception": false,
     "start_time": "2022-11-09T20:37:38.574468",
     "status": "completed"
    },
    "tags": []
   },
   "source": [
    "We reshape the data to flatten the image pixels into a set of features or co-variates:"
   ]
  },
  {
   "cell_type": "code",
   "execution_count": 14,
   "id": "5286a4a3",
   "metadata": {
    "execution": {
     "iopub.execute_input": "2022-11-09T20:37:38.662252Z",
     "iopub.status.busy": "2022-11-09T20:37:38.661675Z",
     "iopub.status.idle": "2022-11-09T20:37:38.672666Z",
     "shell.execute_reply": "2022-11-09T20:37:38.673111Z"
    },
    "papermill": {
     "duration": 0.043528,
     "end_time": "2022-11-09T20:37:38.673222",
     "exception": false,
     "start_time": "2022-11-09T20:37:38.629694",
     "status": "completed"
    },
    "tags": []
   },
   "outputs": [
    {
     "data": {
      "text/plain": [
       "((11982, 784), (1984, 784))"
      ]
     },
     "execution_count": 14,
     "metadata": {},
     "output_type": "execute_result"
    }
   ],
   "source": [
    "X_train = X_train.reshape(X_train.shape[0], -1)\n",
    "X_test = X_test.reshape(X_test.shape[0], -1)\n",
    "X_train.shape, X_test.shape"
   ]
  },
  {
   "cell_type": "code",
   "execution_count": 15,
   "id": "73c5f88a",
   "metadata": {
    "execution": {
     "iopub.execute_input": "2022-11-09T20:37:38.730455Z",
     "iopub.status.busy": "2022-11-09T20:37:38.729844Z",
     "iopub.status.idle": "2022-11-09T20:37:38.747363Z",
     "shell.execute_reply": "2022-11-09T20:37:38.747782Z"
    },
    "papermill": {
     "duration": 0.047876,
     "end_time": "2022-11-09T20:37:38.747895",
     "exception": false,
     "start_time": "2022-11-09T20:37:38.700019",
     "status": "completed"
    },
    "tags": []
   },
   "outputs": [],
   "source": [
    "#Impoting functions from 'Kudzu'\n",
    "from kudzu.model import Model\n",
    "from kudzu.train import Learner\n",
    "from kudzu.optim import GD\n",
    "from kudzu.data import Data, Sampler,Dataloader\n",
    "\n",
    "from kudzu.callbacks import AccCallback\n",
    "from kudzu.callbacks import ClfCallback\n",
    "\n",
    "from kudzu.loss import MSE\n",
    "\n",
    "from kudzu.layer import Sigmoid,Relu\n",
    "from kudzu.layer import Affine"
   ]
  },
  {
   "cell_type": "markdown",
   "id": "bc01172a",
   "metadata": {
    "papermill": {
     "duration": 0.026478,
     "end_time": "2022-11-09T20:37:38.801075",
     "exception": false,
     "start_time": "2022-11-09T20:37:38.774597",
     "status": "completed"
    },
    "tags": []
   },
   "source": [
    "### Let us create a `Config` class, to store important parameters. \n",
    "This class essentially plays the role of a dictionary."
   ]
  },
  {
   "cell_type": "code",
   "execution_count": 16,
   "id": "978281aa",
   "metadata": {
    "execution": {
     "iopub.execute_input": "2022-11-09T20:37:38.857741Z",
     "iopub.status.busy": "2022-11-09T20:37:38.857163Z",
     "iopub.status.idle": "2022-11-09T20:37:38.869337Z",
     "shell.execute_reply": "2022-11-09T20:37:38.868875Z"
    },
    "papermill": {
     "duration": 0.041776,
     "end_time": "2022-11-09T20:37:38.869436",
     "exception": false,
     "start_time": "2022-11-09T20:37:38.827660",
     "status": "completed"
    },
    "tags": []
   },
   "outputs": [],
   "source": [
    "class Config:\n",
    "    pass\n",
    "config = Config()\n",
    "config.lr = 0.001\n",
    "config.num_epochs = 250\n",
    "config.bs = 50"
   ]
  },
  {
   "cell_type": "markdown",
   "id": "1385fa59",
   "metadata": {
    "papermill": {
     "duration": 0.026474,
     "end_time": "2022-11-09T20:37:38.922487",
     "exception": false,
     "start_time": "2022-11-09T20:37:38.896013",
     "status": "completed"
    },
    "tags": []
   },
   "source": [
    "### Running Models with the Training data\n",
    "Details about the network layers:\n",
    "- A first affine layer has 784 inputs and does 100 affine transforms. These are followed by a Relu\n",
    "- A second affine layer has 100 inputs from the 100 activations of the past layer, and does 100 affine transforms. These are followed by a Relu\n",
    "- A third affine layer has 100 activations and does 2 affine transformations to create an embedding for visualization. There is no non-linearity here.\n",
    "- A final \"logistic regression\" which has an affine transform from 2 inputs to 1 output, which is squeezed through a sigmoid.\n"
   ]
  },
  {
   "cell_type": "code",
   "execution_count": 17,
   "id": "2b9c66db",
   "metadata": {
    "execution": {
     "iopub.execute_input": "2022-11-09T20:37:38.979626Z",
     "iopub.status.busy": "2022-11-09T20:37:38.979050Z",
     "iopub.status.idle": "2022-11-09T20:37:38.990748Z",
     "shell.execute_reply": "2022-11-09T20:37:38.991302Z"
    },
    "papermill": {
     "duration": 0.042299,
     "end_time": "2022-11-09T20:37:38.991416",
     "exception": false,
     "start_time": "2022-11-09T20:37:38.949117",
     "status": "completed"
    },
    "tags": []
   },
   "outputs": [],
   "source": [
    "data = Data(X_train, y_train.reshape(-1,1))\n",
    "sampler = Sampler(data, config.bs, shuffle=True)\n",
    "\n",
    "dl = Dataloader(data, sampler)\n",
    "\n",
    "opt = GD(config.lr)\n",
    "loss = MSE()"
   ]
  },
  {
   "cell_type": "code",
   "execution_count": 18,
   "id": "b275e4c2",
   "metadata": {
    "execution": {
     "iopub.execute_input": "2022-11-09T20:37:39.047903Z",
     "iopub.status.busy": "2022-11-09T20:37:39.047325Z",
     "iopub.status.idle": "2022-11-09T20:37:39.058973Z",
     "shell.execute_reply": "2022-11-09T20:37:39.059526Z"
    },
    "papermill": {
     "duration": 0.041723,
     "end_time": "2022-11-09T20:37:39.059638",
     "exception": false,
     "start_time": "2022-11-09T20:37:39.017915",
     "status": "completed"
    },
    "tags": []
   },
   "outputs": [],
   "source": [
    "training_data_x = X_train\n",
    "testing_data_x = X_test\n",
    "training_data_y = y_train.reshape(-1,1)\n",
    "testing_data_y = y_test.reshape(-1,1)"
   ]
  },
  {
   "cell_type": "code",
   "execution_count": 19,
   "id": "76951160",
   "metadata": {
    "execution": {
     "iopub.execute_input": "2022-11-09T20:37:39.116722Z",
     "iopub.status.busy": "2022-11-09T20:37:39.116147Z",
     "iopub.status.idle": "2022-11-09T20:37:39.131187Z",
     "shell.execute_reply": "2022-11-09T20:37:39.131731Z"
    },
    "papermill": {
     "duration": 0.045669,
     "end_time": "2022-11-09T20:37:39.131842",
     "exception": false,
     "start_time": "2022-11-09T20:37:39.086173",
     "status": "completed"
    },
    "tags": []
   },
   "outputs": [
    {
     "name": "stdout",
     "output_type": "stream",
     "text": [
      "xavier\n",
      "xavier\n",
      "xavier\n",
      "xavier\n",
      "xavier\n"
     ]
    }
   ],
   "source": [
    "layers = [Affine(\"first\", 784, 100), Relu(\"first\"), Affine(\"second\", 100, 100), Relu(\"second\"), Affine(\"third\", 100, 2), Affine(\"last\", 2, 1), Sigmoid(\"last\")]\n",
    "model_nn = Model(layers)\n",
    "model_lr = Model([Affine(\"logits\", 784, 1), Sigmoid(\"sigmoid\")])"
   ]
  },
  {
   "cell_type": "code",
   "execution_count": 20,
   "id": "6eede77a",
   "metadata": {
    "execution": {
     "iopub.execute_input": "2022-11-09T20:37:39.199153Z",
     "iopub.status.busy": "2022-11-09T20:37:39.189765Z",
     "iopub.status.idle": "2022-11-09T20:37:39.204926Z",
     "shell.execute_reply": "2022-11-09T20:37:39.205367Z"
    },
    "papermill": {
     "duration": 0.046666,
     "end_time": "2022-11-09T20:37:39.205479",
     "exception": false,
     "start_time": "2022-11-09T20:37:39.158813",
     "status": "completed"
    },
    "tags": []
   },
   "outputs": [],
   "source": [
    "nn_learner = Learner(loss, model_nn, opt, config.num_epochs)\n",
    "acc_nn = ClfCallback(nn_learner, config.bs, training_data_x , testing_data_x, training_data_y, testing_data_y)\n",
    "nn_learner.set_callbacks([acc_nn])"
   ]
  },
  {
   "cell_type": "code",
   "execution_count": 21,
   "id": "877b6cc7",
   "metadata": {
    "execution": {
     "iopub.execute_input": "2022-11-09T20:37:39.266716Z",
     "iopub.status.busy": "2022-11-09T20:37:39.262157Z",
     "iopub.status.idle": "2022-11-09T20:37:39.277338Z",
     "shell.execute_reply": "2022-11-09T20:37:39.276288Z"
    },
    "papermill": {
     "duration": 0.04506,
     "end_time": "2022-11-09T20:37:39.277439",
     "exception": false,
     "start_time": "2022-11-09T20:37:39.232379",
     "status": "completed"
    },
    "tags": []
   },
   "outputs": [],
   "source": [
    "lr_learner = Learner(loss, model_lr, opt, config.num_epochs)\n",
    "acc_lr = ClfCallback(lr_learner, config.bs, training_data_x , testing_data_x, training_data_y, testing_data_y)\n",
    "lr_learner.set_callbacks([acc_lr])"
   ]
  },
  {
   "cell_type": "code",
   "execution_count": 22,
   "id": "d9b133c3",
   "metadata": {
    "execution": {
     "iopub.execute_input": "2022-11-09T20:37:39.339707Z",
     "iopub.status.busy": "2022-11-09T20:37:39.339136Z",
     "iopub.status.idle": "2022-11-09T20:38:54.908623Z",
     "shell.execute_reply": "2022-11-09T20:38:54.909493Z"
    },
    "papermill": {
     "duration": 75.605355,
     "end_time": "2022-11-09T20:38:54.909647",
     "exception": false,
     "start_time": "2022-11-09T20:37:39.304292",
     "status": "completed"
    },
    "tags": []
   },
   "outputs": [
    {
     "name": "stdout",
     "output_type": "stream",
     "text": [
      "Epoch 0, Loss 0.2509\n",
      "Training Accuracy: 0.6611, Testing Accuracy: 0.6825\n",
      "\n"
     ]
    },
    {
     "name": "stdout",
     "output_type": "stream",
     "text": [
      "Epoch 10, Loss 0.0782\n",
      "Training Accuracy: 0.9286, Testing Accuracy: 0.9320\n",
      "\n"
     ]
    },
    {
     "name": "stdout",
     "output_type": "stream",
     "text": [
      "Epoch 20, Loss 0.0502\n",
      "Training Accuracy: 0.9488, Testing Accuracy: 0.9592\n",
      "\n"
     ]
    },
    {
     "name": "stdout",
     "output_type": "stream",
     "text": [
      "Epoch 30, Loss 0.0405\n",
      "Training Accuracy: 0.9568, Testing Accuracy: 0.9657\n",
      "\n"
     ]
    },
    {
     "name": "stdout",
     "output_type": "stream",
     "text": [
      "Epoch 40, Loss 0.0356\n",
      "Training Accuracy: 0.9603, Testing Accuracy: 0.9698\n",
      "\n"
     ]
    },
    {
     "name": "stdout",
     "output_type": "stream",
     "text": [
      "Epoch 50, Loss 0.0325\n",
      "Training Accuracy: 0.9639, Testing Accuracy: 0.9708\n",
      "\n"
     ]
    },
    {
     "name": "stdout",
     "output_type": "stream",
     "text": [
      "Epoch 60, Loss 0.0303\n",
      "Training Accuracy: 0.9657, Testing Accuracy: 0.9703\n",
      "\n"
     ]
    },
    {
     "name": "stdout",
     "output_type": "stream",
     "text": [
      "Epoch 70, Loss 0.0287\n",
      "Training Accuracy: 0.9666, Testing Accuracy: 0.9698\n",
      "\n"
     ]
    },
    {
     "name": "stdout",
     "output_type": "stream",
     "text": [
      "Epoch 80, Loss 0.0274\n",
      "Training Accuracy: 0.9680, Testing Accuracy: 0.9693\n",
      "\n"
     ]
    },
    {
     "name": "stdout",
     "output_type": "stream",
     "text": [
      "Epoch 90, Loss 0.0262\n",
      "Training Accuracy: 0.9699, Testing Accuracy: 0.9703\n",
      "\n"
     ]
    },
    {
     "name": "stdout",
     "output_type": "stream",
     "text": [
      "Epoch 100, Loss 0.0253\n",
      "Training Accuracy: 0.9711, Testing Accuracy: 0.9698\n",
      "\n"
     ]
    },
    {
     "name": "stdout",
     "output_type": "stream",
     "text": [
      "Epoch 110, Loss 0.0245\n",
      "Training Accuracy: 0.9721, Testing Accuracy: 0.9708\n",
      "\n"
     ]
    },
    {
     "name": "stdout",
     "output_type": "stream",
     "text": [
      "Epoch 120, Loss 0.0237\n",
      "Training Accuracy: 0.9729, Testing Accuracy: 0.9713\n",
      "\n"
     ]
    },
    {
     "name": "stdout",
     "output_type": "stream",
     "text": [
      "Epoch 130, Loss 0.023\n",
      "Training Accuracy: 0.9733, Testing Accuracy: 0.9728\n",
      "\n"
     ]
    },
    {
     "name": "stdout",
     "output_type": "stream",
     "text": [
      "Epoch 140, Loss 0.0224\n",
      "Training Accuracy: 0.9745, Testing Accuracy: 0.9723\n",
      "\n"
     ]
    },
    {
     "name": "stdout",
     "output_type": "stream",
     "text": [
      "Epoch 150, Loss 0.0218\n",
      "Training Accuracy: 0.9750, Testing Accuracy: 0.9733\n",
      "\n"
     ]
    },
    {
     "name": "stdout",
     "output_type": "stream",
     "text": [
      "Epoch 160, Loss 0.0213\n",
      "Training Accuracy: 0.9756, Testing Accuracy: 0.9728\n",
      "\n"
     ]
    },
    {
     "name": "stdout",
     "output_type": "stream",
     "text": [
      "Epoch 170, Loss 0.0208\n",
      "Training Accuracy: 0.9764, Testing Accuracy: 0.9738\n",
      "\n"
     ]
    },
    {
     "name": "stdout",
     "output_type": "stream",
     "text": [
      "Epoch 180, Loss 0.0203\n",
      "Training Accuracy: 0.9774, Testing Accuracy: 0.9733\n",
      "\n"
     ]
    },
    {
     "name": "stdout",
     "output_type": "stream",
     "text": [
      "Epoch 190, Loss 0.0198\n",
      "Training Accuracy: 0.9781, Testing Accuracy: 0.9733\n",
      "\n"
     ]
    },
    {
     "name": "stdout",
     "output_type": "stream",
     "text": [
      "Epoch 200, Loss 0.0194\n",
      "Training Accuracy: 0.9787, Testing Accuracy: 0.9738\n",
      "\n"
     ]
    },
    {
     "name": "stdout",
     "output_type": "stream",
     "text": [
      "Epoch 210, Loss 0.019\n",
      "Training Accuracy: 0.9792, Testing Accuracy: 0.9748\n",
      "\n"
     ]
    },
    {
     "name": "stdout",
     "output_type": "stream",
     "text": [
      "Epoch 220, Loss 0.0186\n",
      "Training Accuracy: 0.9798, Testing Accuracy: 0.9748\n",
      "\n"
     ]
    },
    {
     "name": "stdout",
     "output_type": "stream",
     "text": [
      "Epoch 230, Loss 0.0182\n",
      "Training Accuracy: 0.9805, Testing Accuracy: 0.9748\n",
      "\n"
     ]
    },
    {
     "name": "stdout",
     "output_type": "stream",
     "text": [
      "Epoch 240, Loss 0.0179\n",
      "Training Accuracy: 0.9808, Testing Accuracy: 0.9748\n",
      "\n"
     ]
    },
    {
     "data": {
      "text/plain": [
       "0.003957627742837793"
      ]
     },
     "execution_count": 22,
     "metadata": {},
     "output_type": "execute_result"
    }
   ],
   "source": [
    "nn_learner.train_loop(dl)"
   ]
  },
  {
   "cell_type": "code",
   "execution_count": 23,
   "id": "e0163366",
   "metadata": {
    "execution": {
     "iopub.execute_input": "2022-11-09T20:38:54.988273Z",
     "iopub.status.busy": "2022-11-09T20:38:54.987675Z",
     "iopub.status.idle": "2022-11-09T20:39:08.986164Z",
     "shell.execute_reply": "2022-11-09T20:39:08.987036Z"
    },
    "papermill": {
     "duration": 14.041724,
     "end_time": "2022-11-09T20:39:08.987192",
     "exception": false,
     "start_time": "2022-11-09T20:38:54.945468",
     "status": "completed"
    },
    "tags": []
   },
   "outputs": [
    {
     "name": "stdout",
     "output_type": "stream",
     "text": [
      "Epoch 0, Loss 0.2325\n",
      "Training Accuracy: 0.7120, Testing Accuracy: 0.7278\n",
      "\n"
     ]
    },
    {
     "name": "stdout",
     "output_type": "stream",
     "text": [
      "Epoch 10, Loss 0.1024\n",
      "Training Accuracy: 0.9104, Testing Accuracy: 0.9224\n",
      "\n"
     ]
    },
    {
     "name": "stdout",
     "output_type": "stream",
     "text": [
      "Epoch 20, Loss 0.0791\n",
      "Training Accuracy: 0.9265, Testing Accuracy: 0.9425\n",
      "\n"
     ]
    },
    {
     "name": "stdout",
     "output_type": "stream",
     "text": [
      "Epoch 30, Loss 0.0682\n",
      "Training Accuracy: 0.9359, Testing Accuracy: 0.9501\n",
      "\n"
     ]
    },
    {
     "name": "stdout",
     "output_type": "stream",
     "text": [
      "Epoch 40, Loss 0.0616\n",
      "Training Accuracy: 0.9422, Testing Accuracy: 0.9541\n",
      "\n"
     ]
    },
    {
     "name": "stdout",
     "output_type": "stream",
     "text": [
      "Epoch 50, Loss 0.0572\n",
      "Training Accuracy: 0.9458, Testing Accuracy: 0.9561\n",
      "\n"
     ]
    },
    {
     "name": "stdout",
     "output_type": "stream",
     "text": [
      "Epoch 60, Loss 0.0539\n",
      "Training Accuracy: 0.9473, Testing Accuracy: 0.9582\n",
      "\n"
     ]
    },
    {
     "name": "stdout",
     "output_type": "stream",
     "text": [
      "Epoch 70, Loss 0.0513\n",
      "Training Accuracy: 0.9497, Testing Accuracy: 0.9587\n",
      "\n"
     ]
    },
    {
     "name": "stdout",
     "output_type": "stream",
     "text": [
      "Epoch 80, Loss 0.0493\n",
      "Training Accuracy: 0.9511, Testing Accuracy: 0.9602\n",
      "\n"
     ]
    },
    {
     "name": "stdout",
     "output_type": "stream",
     "text": [
      "Epoch 90, Loss 0.0476\n",
      "Training Accuracy: 0.9523, Testing Accuracy: 0.9627\n",
      "\n"
     ]
    },
    {
     "name": "stdout",
     "output_type": "stream",
     "text": [
      "Epoch 100, Loss 0.0462\n",
      "Training Accuracy: 0.9534, Testing Accuracy: 0.9637\n",
      "\n"
     ]
    },
    {
     "name": "stdout",
     "output_type": "stream",
     "text": [
      "Epoch 110, Loss 0.045\n",
      "Training Accuracy: 0.9541, Testing Accuracy: 0.9647\n",
      "\n"
     ]
    },
    {
     "name": "stdout",
     "output_type": "stream",
     "text": [
      "Epoch 120, Loss 0.044\n",
      "Training Accuracy: 0.9551, Testing Accuracy: 0.9662\n",
      "\n"
     ]
    },
    {
     "name": "stdout",
     "output_type": "stream",
     "text": [
      "Epoch 130, Loss 0.043\n",
      "Training Accuracy: 0.9559, Testing Accuracy: 0.9667\n",
      "\n"
     ]
    },
    {
     "name": "stdout",
     "output_type": "stream",
     "text": [
      "Epoch 140, Loss 0.0422\n",
      "Training Accuracy: 0.9563, Testing Accuracy: 0.9657\n",
      "\n"
     ]
    },
    {
     "name": "stdout",
     "output_type": "stream",
     "text": [
      "Epoch 150, Loss 0.0415\n",
      "Training Accuracy: 0.9568, Testing Accuracy: 0.9657\n",
      "\n"
     ]
    },
    {
     "name": "stdout",
     "output_type": "stream",
     "text": [
      "Epoch 160, Loss 0.0408\n",
      "Training Accuracy: 0.9574, Testing Accuracy: 0.9657\n",
      "\n"
     ]
    },
    {
     "name": "stdout",
     "output_type": "stream",
     "text": [
      "Epoch 170, Loss 0.0402\n",
      "Training Accuracy: 0.9583, Testing Accuracy: 0.9672\n",
      "\n"
     ]
    },
    {
     "name": "stdout",
     "output_type": "stream",
     "text": [
      "Epoch 180, Loss 0.0397\n",
      "Training Accuracy: 0.9586, Testing Accuracy: 0.9677\n",
      "\n"
     ]
    },
    {
     "name": "stdout",
     "output_type": "stream",
     "text": [
      "Epoch 190, Loss 0.0391\n",
      "Training Accuracy: 0.9589, Testing Accuracy: 0.9677\n",
      "\n"
     ]
    },
    {
     "name": "stdout",
     "output_type": "stream",
     "text": [
      "Epoch 200, Loss 0.0387\n",
      "Training Accuracy: 0.9597, Testing Accuracy: 0.9677\n",
      "\n"
     ]
    },
    {
     "name": "stdout",
     "output_type": "stream",
     "text": [
      "Epoch 210, Loss 0.0382\n",
      "Training Accuracy: 0.9601, Testing Accuracy: 0.9677\n",
      "\n"
     ]
    },
    {
     "name": "stdout",
     "output_type": "stream",
     "text": [
      "Epoch 220, Loss 0.0378\n",
      "Training Accuracy: 0.9604, Testing Accuracy: 0.9677\n",
      "\n"
     ]
    },
    {
     "name": "stdout",
     "output_type": "stream",
     "text": [
      "Epoch 230, Loss 0.0374\n",
      "Training Accuracy: 0.9607, Testing Accuracy: 0.9677\n",
      "\n"
     ]
    },
    {
     "name": "stdout",
     "output_type": "stream",
     "text": [
      "Epoch 240, Loss 0.0371\n",
      "Training Accuracy: 0.9611, Testing Accuracy: 0.9677\n",
      "\n"
     ]
    },
    {
     "data": {
      "text/plain": [
       "0.028483572715903186"
      ]
     },
     "execution_count": 23,
     "metadata": {},
     "output_type": "execute_result"
    }
   ],
   "source": [
    "lr_learner.train_loop(dl)"
   ]
  },
  {
   "cell_type": "code",
   "execution_count": 24,
   "id": "ca410940",
   "metadata": {
    "execution": {
     "iopub.execute_input": "2022-11-09T20:39:09.083948Z",
     "iopub.status.busy": "2022-11-09T20:39:09.083325Z",
     "iopub.status.idle": "2022-11-09T20:39:09.309975Z",
     "shell.execute_reply": "2022-11-09T20:39:09.309476Z"
    },
    "papermill": {
     "duration": 0.280687,
     "end_time": "2022-11-09T20:39:09.310098",
     "exception": false,
     "start_time": "2022-11-09T20:39:09.029411",
     "status": "completed"
    },
    "tags": []
   },
   "outputs": [
    {
     "data": {
      "text/plain": [
       "<matplotlib.legend.Legend at 0x7f933a845470>"
      ]
     },
     "execution_count": 24,
     "metadata": {},
     "output_type": "execute_result"
    },
    {
     "data": {
      "image/png": "[encoded data removed]",
      "text/plain": [
       "<Figure size 1080x720 with 1 Axes>"
      ]
     },
     "metadata": {
      "needs_background": "light"
     },
     "output_type": "display_data"
    }
   ],
   "source": [
    "#comparing the results of NN and LR\n",
    "plt.figure(figsize=(15,10))\n",
    "\n",
    "# Neural Network plots\n",
    "plt.plot(acc_nn.accuracies, 'r-', label = \"Training Accuracies - NN\")\n",
    "plt.plot(acc_nn.test_accuracies, 'g-', label = \"Testing Accuracies - NN\")\n",
    "\n",
    "# Logistic Regression plots\n",
    "plt.plot(acc_lr.accuracies, 'k-', label = \"Training Accuracies - LR\")\n",
    "plt.plot(acc_lr.test_accuracies, 'b-', label = \"Testing Accuracies - LR\")\n",
    "plt.legend()"
   ]
  },
  {
   "cell_type": "markdown",
   "id": "80dfb35c",
   "metadata": {
    "papermill": {
     "duration": 0.04169,
     "end_time": "2022-11-09T20:39:09.394039",
     "exception": false,
     "start_time": "2022-11-09T20:39:09.352349",
     "status": "completed"
    },
    "tags": []
   },
   "source": [
    "#### Plotting the outputs of this layer of the NN.\n"
   ]
  },
  {
   "cell_type": "code",
   "execution_count": 25,
   "id": "45eb2ff5",
   "metadata": {
    "execution": {
     "iopub.execute_input": "2022-11-09T20:39:09.483924Z",
     "iopub.status.busy": "2022-11-09T20:39:09.482823Z",
     "iopub.status.idle": "2022-11-09T20:39:09.502905Z",
     "shell.execute_reply": "2022-11-09T20:39:09.502408Z"
    },
    "papermill": {
     "duration": 0.067386,
     "end_time": "2022-11-09T20:39:09.503020",
     "exception": false,
     "start_time": "2022-11-09T20:39:09.435634",
     "status": "completed"
    },
    "tags": []
   },
   "outputs": [],
   "source": [
    "new_model = Model(layers[:-2])\n",
    "testing_plot = new_model(testing_data_x)"
   ]
  },
  {
   "cell_type": "code",
   "execution_count": 26,
   "id": "4c0a5485",
   "metadata": {
    "execution": {
     "iopub.execute_input": "2022-11-09T20:39:09.596889Z",
     "iopub.status.busy": "2022-11-09T20:39:09.595395Z",
     "iopub.status.idle": "2022-11-09T20:39:09.785402Z",
     "shell.execute_reply": "2022-11-09T20:39:09.785859Z"
    },
    "papermill": {
     "duration": 0.238988,
     "end_time": "2022-11-09T20:39:09.785998",
     "exception": false,
     "start_time": "2022-11-09T20:39:09.547010",
     "status": "completed"
    },
    "tags": []
   },
   "outputs": [
    {
     "data": {
      "text/plain": [
       "Text(0.5, 1.0, 'Outputs')"
      ]
     },
     "execution_count": 26,
     "metadata": {},
     "output_type": "execute_result"
    },
    {
     "data": {
      "image/png": "[encoded data removed]",
      "text/plain": [
       "<Figure size 576x504 with 1 Axes>"
      ]
     },
     "metadata": {
      "needs_background": "light"
     },
     "output_type": "display_data"
    }
   ],
   "source": [
    "# Plotting the scatter plot of points and color coding by class\n",
    "plt.figure(figsize=(8,7))\n",
    "plt.scatter(testing_plot[:,0], testing_plot[:,1], alpha = 0.1, c = y_test.ravel());\n",
    "plt.title('Outputs')"
   ]
  },
  {
   "cell_type": "markdown",
   "id": "a74fcf8f",
   "metadata": {
    "papermill": {
     "duration": 0.044462,
     "end_time": "2022-11-09T20:39:09.875224",
     "exception": false,
     "start_time": "2022-11-09T20:39:09.830762",
     "status": "completed"
    },
    "tags": []
   },
   "source": [
    "Probability contours"
   ]
  },
  {
   "cell_type": "code",
   "execution_count": 27,
   "id": "d0afc8e3",
   "metadata": {
    "execution": {
     "iopub.execute_input": "2022-11-09T20:39:09.999173Z",
     "iopub.status.busy": "2022-11-09T20:39:09.998273Z",
     "iopub.status.idle": "2022-11-09T20:39:10.010268Z",
     "shell.execute_reply": "2022-11-09T20:39:10.010746Z"
    },
    "papermill": {
     "duration": 0.091225,
     "end_time": "2022-11-09T20:39:10.010871",
     "exception": false,
     "start_time": "2022-11-09T20:39:09.919646",
     "status": "completed"
    },
    "tags": []
   },
   "outputs": [],
   "source": [
    "model_prob = Model(layers[-2:]) "
   ]
  },
  {
   "cell_type": "code",
   "execution_count": 28,
   "id": "9b96e238",
   "metadata": {
    "execution": {
     "iopub.execute_input": "2022-11-09T20:39:10.108859Z",
     "iopub.status.busy": "2022-11-09T20:39:10.108272Z",
     "iopub.status.idle": "2022-11-09T20:39:10.122443Z",
     "shell.execute_reply": "2022-11-09T20:39:10.121963Z"
    },
    "papermill": {
     "duration": 0.06732,
     "end_time": "2022-11-09T20:39:10.122555",
     "exception": false,
     "start_time": "2022-11-09T20:39:10.055235",
     "status": "completed"
    },
    "tags": []
   },
   "outputs": [],
   "source": [
    "#creating the x and y ranges according to the above generated plot.\n",
    "x_range = np.linspace(-4, 1, 100) \n",
    "y_range = np.linspace(-6, 6, 100) \n",
    "x_grid, y_grid = np.meshgrid(x_range, y_range) # x_grid and y_grig are of size 100 X 100\n",
    "\n",
    "# converting x_grid and y_grid to continuous arrays\n",
    "x_gridflat = np.ravel(x_grid)\n",
    "y_gridflat = np.ravel(y_grid)\n",
    "\n",
    "# The last layer of the current model takes two columns as input. Hence transpose of np.vstack() is required.\n",
    "X = np.vstack((x_gridflat, y_gridflat)).T\n",
    "\n",
    "prob_contour = model_prob(X).reshape(100,100) "
   ]
  },
  {
   "cell_type": "code",
   "execution_count": 29,
   "id": "da72499a",
   "metadata": {
    "execution": {
     "iopub.execute_input": "2022-11-09T20:39:10.215779Z",
     "iopub.status.busy": "2022-11-09T20:39:10.215186Z",
     "iopub.status.idle": "2022-11-09T20:39:10.453662Z",
     "shell.execute_reply": "2022-11-09T20:39:10.453107Z"
    },
    "papermill": {
     "duration": 0.28663,
     "end_time": "2022-11-09T20:39:10.453792",
     "exception": false,
     "start_time": "2022-11-09T20:39:10.167162",
     "status": "completed"
    },
    "tags": []
   },
   "outputs": [
    {
     "data": {
      "image/png": "[encoded data removed]",
      "text/plain": [
       "<Figure size 720x648 with 1 Axes>"
      ]
     },
     "metadata": {
      "needs_background": "light"
     },
     "output_type": "display_data"
    }
   ],
   "source": [
    "plt.figure(figsize=(10,9))\n",
    "plt.scatter(testing_plot[:,0], testing_plot[:,1], alpha = 0.1, c = y_test.ravel())\n",
    "contours = plt.contour(x_grid,y_grid,prob_contour)\n",
    "plt.title('Probability Contours')\n",
    "plt.clabel(contours, inline = True );"
   ]
  },
  {
   "cell_type": "code",
   "execution_count": null,
   "id": "e81b4ac7",
   "metadata": {
    "papermill": {
     "duration": 0.047027,
     "end_time": "2022-11-09T20:39:10.553593",
     "exception": false,
     "start_time": "2022-11-09T20:39:10.506566",
     "status": "completed"
    },
    "tags": []
   },
   "outputs": [],
   "source": []
  }
 ],
 "metadata": {
  "kernelspec": {
   "display_name": "Python 3",
   "language": "python",
   "name": "python3"
  },
  "language_info": {
   "codemirror_mode": {
    "name": "ipython",
    "version": 3
   },
   "file_extension": ".py",
   "mimetype": "text/x-python",
   "name": "python",
   "nbconvert_exporter": "python",
   "pygments_lexer": "ipython3",
   "version": "3.6.15"
  },
  "papermill": {
   "default_parameters": {},
   "duration": 97.647217,
   "end_time": "2022-11-09T20:39:11.018557",
   "environment_variables": {},
   "exception": null,
   "input_path": "2020-08-11-part2.ipynb",
   "output_path": "2020-08-11-part2.ipynb",
   "parameters": {},
   "start_time": "2022-11-09T20:37:33.371340",
   "version": "2.3.3"
  }
 },
 "nbformat": 4,
 "nbformat_minor": 5
}