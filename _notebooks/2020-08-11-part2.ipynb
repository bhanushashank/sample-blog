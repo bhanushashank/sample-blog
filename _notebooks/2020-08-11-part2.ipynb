{
 "cells": [
  {
   "cell_type": "markdown",
   "id": "98380cd3",
   "metadata": {
    "papermill": {
     "duration": 0.028112,
     "end_time": "2022-03-16T10:09:25.462673",
     "exception": false,
     "start_time": "2022-03-16T10:09:25.434561",
     "status": "completed"
    },
    "tags": []
   },
   "source": [
    "# Distinguish Your Own Digits (DYOD)"
   ]
  },
  {
   "cell_type": "markdown",
   "id": "ef31240d",
   "metadata": {
    "papermill": {
     "duration": 0.025046,
     "end_time": "2022-03-16T10:09:25.512035",
     "exception": false,
     "start_time": "2022-03-16T10:09:25.486989",
     "status": "completed"
    },
    "tags": []
   },
   "source": [
    "You are going to write a classifier that distinguishes between the number 3 and number 8."
   ]
  },
  {
   "cell_type": "code",
   "execution_count": 1,
   "id": "b15c8646",
   "metadata": {
    "execution": {
     "iopub.execute_input": "2022-03-16T10:09:25.569426Z",
     "iopub.status.busy": "2022-03-16T10:09:25.568884Z",
     "iopub.status.idle": "2022-03-16T10:09:25.579030Z",
     "shell.execute_reply": "2022-03-16T10:09:25.579434Z"
    },
    "papermill": {
     "duration": 0.043938,
     "end_time": "2022-03-16T10:09:25.579593",
     "exception": false,
     "start_time": "2022-03-16T10:09:25.535655",
     "status": "completed"
    },
    "tags": []
   },
   "outputs": [],
   "source": [
    "%load_ext autoreload\n",
    "%autoreload 2"
   ]
  },
  {
   "cell_type": "code",
   "execution_count": 2,
   "id": "22ef38dc",
   "metadata": {
    "execution": {
     "iopub.execute_input": "2022-03-16T10:09:25.631852Z",
     "iopub.status.busy": "2022-03-16T10:09:25.631323Z",
     "iopub.status.idle": "2022-03-16T10:09:26.222123Z",
     "shell.execute_reply": "2022-03-16T10:09:26.221598Z"
    },
    "papermill": {
     "duration": 0.618725,
     "end_time": "2022-03-16T10:09:26.222261",
     "exception": false,
     "start_time": "2022-03-16T10:09:25.603536",
     "status": "completed"
    },
    "tags": []
   },
   "outputs": [],
   "source": [
    "%matplotlib inline\n",
    "import numpy as np\n",
    "import matplotlib.pyplot as plt\n",
    "import pandas as pd"
   ]
  },
  {
   "cell_type": "markdown",
   "id": "ba036198",
   "metadata": {
    "papermill": {
     "duration": 0.0236,
     "end_time": "2022-03-16T10:09:26.270258",
     "exception": false,
     "start_time": "2022-03-16T10:09:26.246658",
     "status": "completed"
    },
    "tags": []
   },
   "source": [
    "From the command line run `pip install mnist`. This is a library that will help you bring down the mnist dataset. If you run this from a notebook, you need to put  `!pip install mnist` in a cell by itself."
   ]
  },
  {
   "cell_type": "code",
   "execution_count": 3,
   "id": "bb6ad8a1",
   "metadata": {
    "execution": {
     "iopub.execute_input": "2022-03-16T10:09:26.322666Z",
     "iopub.status.busy": "2022-03-16T10:09:26.322099Z",
     "iopub.status.idle": "2022-03-16T10:09:27.959931Z",
     "shell.execute_reply": "2022-03-16T10:09:27.960414Z"
    },
    "papermill": {
     "duration": 1.666565,
     "end_time": "2022-03-16T10:09:27.960575",
     "exception": false,
     "start_time": "2022-03-16T10:09:26.294010",
     "status": "completed"
    },
    "tags": []
   },
   "outputs": [
    {
     "name": "stdout",
     "output_type": "stream",
     "text": [
      "Collecting mnist\r\n"
     ]
    },
    {
     "name": "stdout",
     "output_type": "stream",
     "text": [
      "  Downloading mnist-0.2.2-py2.py3-none-any.whl (3.5 kB)\r\n",
      "Requirement already satisfied: numpy in /opt/hostedtoolcache/Python/3.6.15/x64/lib/python3.6/site-packages (from mnist) (1.19.5)\r\n"
     ]
    },
    {
     "name": "stdout",
     "output_type": "stream",
     "text": [
      "Installing collected packages: mnist\r\n",
      "Successfully installed mnist-0.2.2\r\n"
     ]
    }
   ],
   "source": [
    "!pip install mnist"
   ]
  },
  {
   "cell_type": "markdown",
   "id": "69df9c9a",
   "metadata": {
    "papermill": {
     "duration": 0.02475,
     "end_time": "2022-03-16T10:09:28.011183",
     "exception": false,
     "start_time": "2022-03-16T10:09:27.986433",
     "status": "completed"
    },
    "tags": []
   },
   "source": [
    "## Preparing the Data"
   ]
  },
  {
   "cell_type": "code",
   "execution_count": 4,
   "id": "7f69d806",
   "metadata": {
    "execution": {
     "iopub.execute_input": "2022-03-16T10:09:28.064267Z",
     "iopub.status.busy": "2022-03-16T10:09:28.063738Z",
     "iopub.status.idle": "2022-03-16T10:09:28.078374Z",
     "shell.execute_reply": "2022-03-16T10:09:28.077954Z"
    },
    "papermill": {
     "duration": 0.04277,
     "end_time": "2022-03-16T10:09:28.078487",
     "exception": false,
     "start_time": "2022-03-16T10:09:28.035717",
     "status": "completed"
    },
    "tags": []
   },
   "outputs": [],
   "source": [
    "import mnist"
   ]
  },
  {
   "cell_type": "code",
   "execution_count": 5,
   "id": "a411e44f",
   "metadata": {
    "execution": {
     "iopub.execute_input": "2022-03-16T10:09:28.131667Z",
     "iopub.status.busy": "2022-03-16T10:09:28.131142Z",
     "iopub.status.idle": "2022-03-16T10:09:28.620787Z",
     "shell.execute_reply": "2022-03-16T10:09:28.619697Z"
    },
    "papermill": {
     "duration": 0.517659,
     "end_time": "2022-03-16T10:09:28.620918",
     "exception": false,
     "start_time": "2022-03-16T10:09:28.103259",
     "status": "completed"
    },
    "tags": []
   },
   "outputs": [],
   "source": [
    "train_images = mnist.train_images()\n",
    "train_labels = mnist.train_labels()"
   ]
  },
  {
   "cell_type": "code",
   "execution_count": 6,
   "id": "dceab3a5",
   "metadata": {
    "execution": {
     "iopub.execute_input": "2022-03-16T10:09:28.678940Z",
     "iopub.status.busy": "2022-03-16T10:09:28.675615Z",
     "iopub.status.idle": "2022-03-16T10:09:28.689680Z",
     "shell.execute_reply": "2022-03-16T10:09:28.689265Z"
    },
    "papermill": {
     "duration": 0.044038,
     "end_time": "2022-03-16T10:09:28.689794",
     "exception": false,
     "start_time": "2022-03-16T10:09:28.645756",
     "status": "completed"
    },
    "tags": []
   },
   "outputs": [
    {
     "data": {
      "text/plain": [
       "((60000, 28, 28), (60000,))"
      ]
     },
     "execution_count": 6,
     "metadata": {},
     "output_type": "execute_result"
    }
   ],
   "source": [
    "train_images.shape, train_labels.shape"
   ]
  },
  {
   "cell_type": "code",
   "execution_count": 7,
   "id": "f50dc2bb",
   "metadata": {
    "execution": {
     "iopub.execute_input": "2022-03-16T10:09:28.757128Z",
     "iopub.status.busy": "2022-03-16T10:09:28.750315Z",
     "iopub.status.idle": "2022-03-16T10:09:28.850068Z",
     "shell.execute_reply": "2022-03-16T10:09:28.849524Z"
    },
    "papermill": {
     "duration": 0.135367,
     "end_time": "2022-03-16T10:09:28.850205",
     "exception": false,
     "start_time": "2022-03-16T10:09:28.714838",
     "status": "completed"
    },
    "tags": []
   },
   "outputs": [],
   "source": [
    "test_images = mnist.test_images()\n",
    "test_labels = mnist.test_labels()"
   ]
  },
  {
   "cell_type": "code",
   "execution_count": 8,
   "id": "fc38cf1b",
   "metadata": {
    "execution": {
     "iopub.execute_input": "2022-03-16T10:09:28.904496Z",
     "iopub.status.busy": "2022-03-16T10:09:28.903978Z",
     "iopub.status.idle": "2022-03-16T10:09:28.917253Z",
     "shell.execute_reply": "2022-03-16T10:09:28.916812Z"
    },
    "papermill": {
     "duration": 0.041474,
     "end_time": "2022-03-16T10:09:28.917365",
     "exception": false,
     "start_time": "2022-03-16T10:09:28.875891",
     "status": "completed"
    },
    "tags": []
   },
   "outputs": [
    {
     "data": {
      "text/plain": [
       "((10000, 28, 28), (10000,))"
      ]
     },
     "execution_count": 8,
     "metadata": {},
     "output_type": "execute_result"
    }
   ],
   "source": [
    "test_images.shape, test_labels.shape"
   ]
  },
  {
   "cell_type": "code",
   "execution_count": 9,
   "id": "f9ed8fe0",
   "metadata": {
    "execution": {
     "iopub.execute_input": "2022-03-16T10:09:28.971878Z",
     "iopub.status.busy": "2022-03-16T10:09:28.971344Z",
     "iopub.status.idle": "2022-03-16T10:09:29.110792Z",
     "shell.execute_reply": "2022-03-16T10:09:29.111453Z"
    },
    "papermill": {
     "duration": 0.169019,
     "end_time": "2022-03-16T10:09:29.111600",
     "exception": false,
     "start_time": "2022-03-16T10:09:28.942581",
     "status": "completed"
    },
    "tags": []
   },
   "outputs": [
    {
     "name": "stdout",
     "output_type": "stream",
     "text": [
      "2\n"
     ]
    },
    {
     "data": {
      "text/plain": [
       "<matplotlib.image.AxesImage at 0x7f796deaa5c0>"
      ]
     },
     "execution_count": 9,
     "metadata": {},
     "output_type": "execute_result"
    },
    {
     "data": {
      "image/png": "[encoded data removed]",
      "text/plain": [
       "<Figure size 432x288 with 1 Axes>"
      ]
     },
     "metadata": {
      "needs_background": "light"
     },
     "output_type": "display_data"
    }
   ],
   "source": [
    "image_index = 7776 # You may select anything up to 60,000\n",
    "print(train_labels[image_index]) \n",
    "plt.imshow(train_images[image_index], cmap='Greys')"
   ]
  },
  {
   "cell_type": "markdown",
   "id": "a8d2388d",
   "metadata": {
    "papermill": {
     "duration": 0.026242,
     "end_time": "2022-03-16T10:09:29.164231",
     "exception": false,
     "start_time": "2022-03-16T10:09:29.137989",
     "status": "completed"
    },
    "tags": []
   },
   "source": [
    "## Filter data to get 3 and 8 out"
   ]
  },
  {
   "cell_type": "code",
   "execution_count": 10,
   "id": "776f7fc7",
   "metadata": {
    "execution": {
     "iopub.execute_input": "2022-03-16T10:09:29.221320Z",
     "iopub.status.busy": "2022-03-16T10:09:29.220785Z",
     "iopub.status.idle": "2022-03-16T10:09:29.236015Z",
     "shell.execute_reply": "2022-03-16T10:09:29.235586Z"
    },
    "papermill": {
     "duration": 0.045589,
     "end_time": "2022-03-16T10:09:29.236133",
     "exception": false,
     "start_time": "2022-03-16T10:09:29.190544",
     "status": "completed"
    },
    "tags": []
   },
   "outputs": [],
   "source": [
    "train_filter = np.where((train_labels == 3 ) | (train_labels == 8))\n",
    "test_filter = np.where((test_labels == 3) | (test_labels == 8))\n",
    "X_train, y_train = train_images[train_filter], train_labels[train_filter]\n",
    "X_test, y_test = test_images[test_filter], test_labels[test_filter]"
   ]
  },
  {
   "cell_type": "markdown",
   "id": "948f0b7e",
   "metadata": {
    "papermill": {
     "duration": 0.026205,
     "end_time": "2022-03-16T10:09:29.288633",
     "exception": false,
     "start_time": "2022-03-16T10:09:29.262428",
     "status": "completed"
    },
    "tags": []
   },
   "source": [
    "We normalize the pizel values in the 0 to 1 range"
   ]
  },
  {
   "cell_type": "code",
   "execution_count": 11,
   "id": "ee4c2166",
   "metadata": {
    "execution": {
     "iopub.execute_input": "2022-03-16T10:09:29.347504Z",
     "iopub.status.busy": "2022-03-16T10:09:29.346975Z",
     "iopub.status.idle": "2022-03-16T10:09:29.392717Z",
     "shell.execute_reply": "2022-03-16T10:09:29.392209Z"
    },
    "papermill": {
     "duration": 0.078101,
     "end_time": "2022-03-16T10:09:29.392851",
     "exception": false,
     "start_time": "2022-03-16T10:09:29.314750",
     "status": "completed"
    },
    "tags": []
   },
   "outputs": [],
   "source": [
    "X_train = X_train/255.\n",
    "X_test = X_test/255."
   ]
  },
  {
   "cell_type": "markdown",
   "id": "ddcf4fab",
   "metadata": {
    "papermill": {
     "duration": 0.0262,
     "end_time": "2022-03-16T10:09:29.445656",
     "exception": false,
     "start_time": "2022-03-16T10:09:29.419456",
     "status": "completed"
    },
    "tags": []
   },
   "source": [
    "And setup the labels as 1 (when the digit is 3) and 0 (when the digit is 8)"
   ]
  },
  {
   "cell_type": "code",
   "execution_count": 12,
   "id": "7dc908f2",
   "metadata": {
    "execution": {
     "iopub.execute_input": "2022-03-16T10:09:29.505923Z",
     "iopub.status.busy": "2022-03-16T10:09:29.505349Z",
     "iopub.status.idle": "2022-03-16T10:09:29.515015Z",
     "shell.execute_reply": "2022-03-16T10:09:29.515446Z"
    },
    "papermill": {
     "duration": 0.043711,
     "end_time": "2022-03-16T10:09:29.515588",
     "exception": false,
     "start_time": "2022-03-16T10:09:29.471877",
     "status": "completed"
    },
    "tags": []
   },
   "outputs": [],
   "source": [
    "y_train = 1*(y_train==3)\n",
    "y_test = 1*(y_test==3)"
   ]
  },
  {
   "cell_type": "code",
   "execution_count": 13,
   "id": "01e4e969",
   "metadata": {
    "execution": {
     "iopub.execute_input": "2022-03-16T10:09:29.572006Z",
     "iopub.status.busy": "2022-03-16T10:09:29.571489Z",
     "iopub.status.idle": "2022-03-16T10:09:29.584865Z",
     "shell.execute_reply": "2022-03-16T10:09:29.585303Z"
    },
    "papermill": {
     "duration": 0.043389,
     "end_time": "2022-03-16T10:09:29.585439",
     "exception": false,
     "start_time": "2022-03-16T10:09:29.542050",
     "status": "completed"
    },
    "tags": []
   },
   "outputs": [
    {
     "data": {
      "text/plain": [
       "((11982, 28, 28), (1984, 28, 28))"
      ]
     },
     "execution_count": 13,
     "metadata": {},
     "output_type": "execute_result"
    }
   ],
   "source": [
    "X_train.shape, X_test.shape"
   ]
  },
  {
   "cell_type": "markdown",
   "id": "5ccf3f85",
   "metadata": {
    "papermill": {
     "duration": 0.026526,
     "end_time": "2022-03-16T10:09:29.638378",
     "exception": false,
     "start_time": "2022-03-16T10:09:29.611852",
     "status": "completed"
    },
    "tags": []
   },
   "source": [
    "We reshape the data to flatten the image pixels into a set of features or co-variates:"
   ]
  },
  {
   "cell_type": "code",
   "execution_count": 14,
   "id": "5286a4a3",
   "metadata": {
    "execution": {
     "iopub.execute_input": "2022-03-16T10:09:29.699118Z",
     "iopub.status.busy": "2022-03-16T10:09:29.698558Z",
     "iopub.status.idle": "2022-03-16T10:09:29.709929Z",
     "shell.execute_reply": "2022-03-16T10:09:29.709504Z"
    },
    "papermill": {
     "duration": 0.045154,
     "end_time": "2022-03-16T10:09:29.710043",
     "exception": false,
     "start_time": "2022-03-16T10:09:29.664889",
     "status": "completed"
    },
    "tags": []
   },
   "outputs": [
    {
     "data": {
      "text/plain": [
       "((11982, 784), (1984, 784))"
      ]
     },
     "execution_count": 14,
     "metadata": {},
     "output_type": "execute_result"
    }
   ],
   "source": [
    "X_train = X_train.reshape(X_train.shape[0], -1)\n",
    "X_test = X_test.reshape(X_test.shape[0], -1)\n",
    "X_train.shape, X_test.shape"
   ]
  },
  {
   "cell_type": "code",
   "execution_count": 15,
   "id": "73c5f88a",
   "metadata": {
    "execution": {
     "iopub.execute_input": "2022-03-16T10:09:29.772911Z",
     "iopub.status.busy": "2022-03-16T10:09:29.772393Z",
     "iopub.status.idle": "2022-03-16T10:09:29.787577Z",
     "shell.execute_reply": "2022-03-16T10:09:29.787965Z"
    },
    "papermill": {
     "duration": 0.051304,
     "end_time": "2022-03-16T10:09:29.788100",
     "exception": false,
     "start_time": "2022-03-16T10:09:29.736796",
     "status": "completed"
    },
    "tags": []
   },
   "outputs": [],
   "source": [
    "#Impoting functions from 'Kudzu'\n",
    "from kudzu.model import Model\n",
    "from kudzu.train import Learner\n",
    "from kudzu.optim import GD\n",
    "from kudzu.data import Data, Sampler,Dataloader\n",
    "\n",
    "from kudzu.callbacks import AccCallback\n",
    "from kudzu.callbacks import ClfCallback\n",
    "\n",
    "from kudzu.loss import MSE\n",
    "\n",
    "from kudzu.layer import Sigmoid,Relu\n",
    "from kudzu.layer import Affine"
   ]
  },
  {
   "cell_type": "markdown",
   "id": "bc01172a",
   "metadata": {
    "papermill": {
     "duration": 0.026575,
     "end_time": "2022-03-16T10:09:29.841578",
     "exception": false,
     "start_time": "2022-03-16T10:09:29.815003",
     "status": "completed"
    },
    "tags": []
   },
   "source": [
    "### Let us create a `Config` class, to store important parameters. \n",
    "This class essentially plays the role of a dictionary."
   ]
  },
  {
   "cell_type": "code",
   "execution_count": 16,
   "id": "978281aa",
   "metadata": {
    "execution": {
     "iopub.execute_input": "2022-03-16T10:09:29.902377Z",
     "iopub.status.busy": "2022-03-16T10:09:29.901817Z",
     "iopub.status.idle": "2022-03-16T10:09:29.912679Z",
     "shell.execute_reply": "2022-03-16T10:09:29.912251Z"
    },
    "papermill": {
     "duration": 0.044537,
     "end_time": "2022-03-16T10:09:29.912793",
     "exception": false,
     "start_time": "2022-03-16T10:09:29.868256",
     "status": "completed"
    },
    "tags": []
   },
   "outputs": [],
   "source": [
    "class Config:\n",
    "    pass\n",
    "config = Config()\n",
    "config.lr = 0.001\n",
    "config.num_epochs = 250\n",
    "config.bs = 50"
   ]
  },
  {
   "cell_type": "markdown",
   "id": "1385fa59",
   "metadata": {
    "papermill": {
     "duration": 0.026699,
     "end_time": "2022-03-16T10:09:29.966426",
     "exception": false,
     "start_time": "2022-03-16T10:09:29.939727",
     "status": "completed"
    },
    "tags": []
   },
   "source": [
    "### Running Models with the Training data\n",
    "Details about the network layers:\n",
    "- A first affine layer has 784 inputs and does 100 affine transforms. These are followed by a Relu\n",
    "- A second affine layer has 100 inputs from the 100 activations of the past layer, and does 100 affine transforms. These are followed by a Relu\n",
    "- A third affine layer has 100 activations and does 2 affine transformations to create an embedding for visualization. There is no non-linearity here.\n",
    "- A final \"logistic regression\" which has an affine transform from 2 inputs to 1 output, which is squeezed through a sigmoid.\n"
   ]
  },
  {
   "cell_type": "code",
   "execution_count": 17,
   "id": "2b9c66db",
   "metadata": {
    "execution": {
     "iopub.execute_input": "2022-03-16T10:09:30.024201Z",
     "iopub.status.busy": "2022-03-16T10:09:30.023668Z",
     "iopub.status.idle": "2022-03-16T10:09:30.036265Z",
     "shell.execute_reply": "2022-03-16T10:09:30.035844Z"
    },
    "papermill": {
     "duration": 0.043149,
     "end_time": "2022-03-16T10:09:30.036378",
     "exception": false,
     "start_time": "2022-03-16T10:09:29.993229",
     "status": "completed"
    },
    "tags": []
   },
   "outputs": [],
   "source": [
    "data = Data(X_train, y_train.reshape(-1,1))\n",
    "sampler = Sampler(data, config.bs, shuffle=True)\n",
    "\n",
    "dl = Dataloader(data, sampler)\n",
    "\n",
    "opt = GD(config.lr)\n",
    "loss = MSE()"
   ]
  },
  {
   "cell_type": "code",
   "execution_count": 18,
   "id": "b275e4c2",
   "metadata": {
    "execution": {
     "iopub.execute_input": "2022-03-16T10:09:30.108034Z",
     "iopub.status.busy": "2022-03-16T10:09:30.107468Z",
     "iopub.status.idle": "2022-03-16T10:09:30.112495Z",
     "shell.execute_reply": "2022-03-16T10:09:30.112077Z"
    },
    "papermill": {
     "duration": 0.049412,
     "end_time": "2022-03-16T10:09:30.112612",
     "exception": false,
     "start_time": "2022-03-16T10:09:30.063200",
     "status": "completed"
    },
    "tags": []
   },
   "outputs": [],
   "source": [
    "training_data_x = X_train\n",
    "testing_data_x = X_test\n",
    "training_data_y = y_train.reshape(-1,1)\n",
    "testing_data_y = y_test.reshape(-1,1)"
   ]
  },
  {
   "cell_type": "code",
   "execution_count": 19,
   "id": "76951160",
   "metadata": {
    "execution": {
     "iopub.execute_input": "2022-03-16T10:09:30.174043Z",
     "iopub.status.busy": "2022-03-16T10:09:30.173507Z",
     "iopub.status.idle": "2022-03-16T10:09:30.187342Z",
     "shell.execute_reply": "2022-03-16T10:09:30.186915Z"
    },
    "papermill": {
     "duration": 0.04822,
     "end_time": "2022-03-16T10:09:30.187457",
     "exception": false,
     "start_time": "2022-03-16T10:09:30.139237",
     "status": "completed"
    },
    "tags": []
   },
   "outputs": [
    {
     "name": "stdout",
     "output_type": "stream",
     "text": [
      "xavier\n",
      "xavier\n",
      "xavier\n",
      "xavier\n",
      "xavier\n"
     ]
    }
   ],
   "source": [
    "layers = [Affine(\"first\", 784, 100), Relu(\"first\"), Affine(\"second\", 100, 100), Relu(\"second\"), Affine(\"third\", 100, 2), Affine(\"last\", 2, 1), Sigmoid(\"last\")]\n",
    "model_nn = Model(layers)\n",
    "model_lr = Model([Affine(\"logits\", 784, 1), Sigmoid(\"sigmoid\")])"
   ]
  },
  {
   "cell_type": "code",
   "execution_count": 20,
   "id": "6eede77a",
   "metadata": {
    "execution": {
     "iopub.execute_input": "2022-03-16T10:09:30.251898Z",
     "iopub.status.busy": "2022-03-16T10:09:30.251365Z",
     "iopub.status.idle": "2022-03-16T10:09:30.260032Z",
     "shell.execute_reply": "2022-03-16T10:09:30.260443Z"
    },
    "papermill": {
     "duration": 0.046196,
     "end_time": "2022-03-16T10:09:30.260575",
     "exception": false,
     "start_time": "2022-03-16T10:09:30.214379",
     "status": "completed"
    },
    "tags": []
   },
   "outputs": [],
   "source": [
    "nn_learner = Learner(loss, model_nn, opt, config.num_epochs)\n",
    "acc_nn = ClfCallback(nn_learner, config.bs, training_data_x , testing_data_x, training_data_y, testing_data_y)\n",
    "nn_learner.set_callbacks([acc_nn])"
   ]
  },
  {
   "cell_type": "code",
   "execution_count": 21,
   "id": "877b6cc7",
   "metadata": {
    "execution": {
     "iopub.execute_input": "2022-03-16T10:09:30.319672Z",
     "iopub.status.busy": "2022-03-16T10:09:30.317749Z",
     "iopub.status.idle": "2022-03-16T10:09:30.330237Z",
     "shell.execute_reply": "2022-03-16T10:09:30.329785Z"
    },
    "papermill": {
     "duration": 0.04285,
     "end_time": "2022-03-16T10:09:30.330349",
     "exception": false,
     "start_time": "2022-03-16T10:09:30.287499",
     "status": "completed"
    },
    "tags": []
   },
   "outputs": [],
   "source": [
    "lr_learner = Learner(loss, model_lr, opt, config.num_epochs)\n",
    "acc_lr = ClfCallback(lr_learner, config.bs, training_data_x , testing_data_x, training_data_y, testing_data_y)\n",
    "lr_learner.set_callbacks([acc_lr])"
   ]
  },
  {
   "cell_type": "code",
   "execution_count": 22,
   "id": "d9b133c3",
   "metadata": {
    "execution": {
     "iopub.execute_input": "2022-03-16T10:09:30.395670Z",
     "iopub.status.busy": "2022-03-16T10:09:30.393916Z",
     "iopub.status.idle": "2022-03-16T10:10:47.459348Z",
     "shell.execute_reply": "2022-03-16T10:10:47.459844Z"
    },
    "papermill": {
     "duration": 77.102517,
     "end_time": "2022-03-16T10:10:47.459982",
     "exception": false,
     "start_time": "2022-03-16T10:09:30.357465",
     "status": "completed"
    },
    "tags": []
   },
   "outputs": [
    {
     "name": "stdout",
     "output_type": "stream",
     "text": [
      "Epoch 0, Loss 0.2508\n",
      "Training Accuracy: 0.5360, Testing Accuracy: 0.5202\n",
      "\n"
     ]
    },
    {
     "name": "stdout",
     "output_type": "stream",
     "text": [
      "Epoch 10, Loss 0.2028\n",
      "Training Accuracy: 0.8463, Testing Accuracy: 0.8422\n",
      "\n"
     ]
    },
    {
     "name": "stdout",
     "output_type": "stream",
     "text": [
      "Epoch 20, Loss 0.1089\n",
      "Training Accuracy: 0.9000, Testing Accuracy: 0.9073\n",
      "\n"
     ]
    },
    {
     "name": "stdout",
     "output_type": "stream",
     "text": [
      "Epoch 30, Loss 0.0663\n",
      "Training Accuracy: 0.9288, Testing Accuracy: 0.9405\n",
      "\n"
     ]
    },
    {
     "name": "stdout",
     "output_type": "stream",
     "text": [
      "Epoch 40, Loss 0.0497\n",
      "Training Accuracy: 0.9458, Testing Accuracy: 0.9506\n",
      "\n"
     ]
    },
    {
     "name": "stdout",
     "output_type": "stream",
     "text": [
      "Epoch 50, Loss 0.0418\n",
      "Training Accuracy: 0.9523, Testing Accuracy: 0.9612\n",
      "\n"
     ]
    },
    {
     "name": "stdout",
     "output_type": "stream",
     "text": [
      "Epoch 60, Loss 0.0373\n",
      "Training Accuracy: 0.9570, Testing Accuracy: 0.9657\n",
      "\n"
     ]
    },
    {
     "name": "stdout",
     "output_type": "stream",
     "text": [
      "Epoch 70, Loss 0.0344\n",
      "Training Accuracy: 0.9602, Testing Accuracy: 0.9677\n",
      "\n"
     ]
    },
    {
     "name": "stdout",
     "output_type": "stream",
     "text": [
      "Epoch 80, Loss 0.0324\n",
      "Training Accuracy: 0.9622, Testing Accuracy: 0.9677\n",
      "\n"
     ]
    },
    {
     "name": "stdout",
     "output_type": "stream",
     "text": [
      "Epoch 90, Loss 0.0308\n",
      "Training Accuracy: 0.9646, Testing Accuracy: 0.9677\n",
      "\n"
     ]
    },
    {
     "name": "stdout",
     "output_type": "stream",
     "text": [
      "Epoch 100, Loss 0.0296\n",
      "Training Accuracy: 0.9657, Testing Accuracy: 0.9682\n",
      "\n"
     ]
    },
    {
     "name": "stdout",
     "output_type": "stream",
     "text": [
      "Epoch 110, Loss 0.0285\n",
      "Training Accuracy: 0.9666, Testing Accuracy: 0.9688\n",
      "\n"
     ]
    },
    {
     "name": "stdout",
     "output_type": "stream",
     "text": [
      "Epoch 120, Loss 0.0276\n",
      "Training Accuracy: 0.9680, Testing Accuracy: 0.9693\n",
      "\n"
     ]
    },
    {
     "name": "stdout",
     "output_type": "stream",
     "text": [
      "Epoch 130, Loss 0.0268\n",
      "Training Accuracy: 0.9689, Testing Accuracy: 0.9693\n",
      "\n"
     ]
    },
    {
     "name": "stdout",
     "output_type": "stream",
     "text": [
      "Epoch 140, Loss 0.0262\n",
      "Training Accuracy: 0.9700, Testing Accuracy: 0.9688\n",
      "\n"
     ]
    },
    {
     "name": "stdout",
     "output_type": "stream",
     "text": [
      "Epoch 150, Loss 0.0255\n",
      "Training Accuracy: 0.9707, Testing Accuracy: 0.9703\n",
      "\n"
     ]
    },
    {
     "name": "stdout",
     "output_type": "stream",
     "text": [
      "Epoch 160, Loss 0.025\n",
      "Training Accuracy: 0.9714, Testing Accuracy: 0.9713\n",
      "\n"
     ]
    },
    {
     "name": "stdout",
     "output_type": "stream",
     "text": [
      "Epoch 170, Loss 0.0244\n",
      "Training Accuracy: 0.9720, Testing Accuracy: 0.9713\n",
      "\n"
     ]
    },
    {
     "name": "stdout",
     "output_type": "stream",
     "text": [
      "Epoch 180, Loss 0.0239\n",
      "Training Accuracy: 0.9725, Testing Accuracy: 0.9718\n",
      "\n"
     ]
    },
    {
     "name": "stdout",
     "output_type": "stream",
     "text": [
      "Epoch 190, Loss 0.0235\n",
      "Training Accuracy: 0.9732, Testing Accuracy: 0.9723\n",
      "\n"
     ]
    },
    {
     "name": "stdout",
     "output_type": "stream",
     "text": [
      "Epoch 200, Loss 0.023\n",
      "Training Accuracy: 0.9735, Testing Accuracy: 0.9723\n",
      "\n"
     ]
    },
    {
     "name": "stdout",
     "output_type": "stream",
     "text": [
      "Epoch 210, Loss 0.0226\n",
      "Training Accuracy: 0.9739, Testing Accuracy: 0.9728\n",
      "\n"
     ]
    },
    {
     "name": "stdout",
     "output_type": "stream",
     "text": [
      "Epoch 220, Loss 0.0222\n",
      "Training Accuracy: 0.9745, Testing Accuracy: 0.9728\n",
      "\n"
     ]
    },
    {
     "name": "stdout",
     "output_type": "stream",
     "text": [
      "Epoch 230, Loss 0.0219\n",
      "Training Accuracy: 0.9747, Testing Accuracy: 0.9738\n",
      "\n"
     ]
    },
    {
     "name": "stdout",
     "output_type": "stream",
     "text": [
      "Epoch 240, Loss 0.0215\n",
      "Training Accuracy: 0.9750, Testing Accuracy: 0.9733\n",
      "\n"
     ]
    },
    {
     "data": {
      "text/plain": [
       "0.03311479930466782"
      ]
     },
     "execution_count": 22,
     "metadata": {},
     "output_type": "execute_result"
    }
   ],
   "source": [
    "nn_learner.train_loop(dl)"
   ]
  },
  {
   "cell_type": "code",
   "execution_count": 23,
   "id": "e0163366",
   "metadata": {
    "execution": {
     "iopub.execute_input": "2022-03-16T10:10:47.536021Z",
     "iopub.status.busy": "2022-03-16T10:10:47.535485Z",
     "iopub.status.idle": "2022-03-16T10:11:01.602039Z",
     "shell.execute_reply": "2022-03-16T10:11:01.602808Z"
    },
    "papermill": {
     "duration": 14.109286,
     "end_time": "2022-03-16T10:11:01.602959",
     "exception": false,
     "start_time": "2022-03-16T10:10:47.493673",
     "status": "completed"
    },
    "tags": []
   },
   "outputs": [
    {
     "name": "stdout",
     "output_type": "stream",
     "text": [
      "Epoch 0, Loss 0.2426\n",
      "Training Accuracy: 0.6955, Testing Accuracy: 0.7384\n",
      "\n"
     ]
    },
    {
     "name": "stdout",
     "output_type": "stream",
     "text": [
      "Epoch 10, Loss 0.101\n",
      "Training Accuracy: 0.9134, Testing Accuracy: 0.9194\n",
      "\n"
     ]
    },
    {
     "name": "stdout",
     "output_type": "stream",
     "text": [
      "Epoch 20, Loss 0.0781\n",
      "Training Accuracy: 0.9281, Testing Accuracy: 0.9350\n",
      "\n"
     ]
    },
    {
     "name": "stdout",
     "output_type": "stream",
     "text": [
      "Epoch 30, Loss 0.0676\n",
      "Training Accuracy: 0.9369, Testing Accuracy: 0.9456\n",
      "\n"
     ]
    },
    {
     "name": "stdout",
     "output_type": "stream",
     "text": [
      "Epoch 40, Loss 0.0613\n",
      "Training Accuracy: 0.9411, Testing Accuracy: 0.9501\n",
      "\n"
     ]
    },
    {
     "name": "stdout",
     "output_type": "stream",
     "text": [
      "Epoch 50, Loss 0.057\n",
      "Training Accuracy: 0.9442, Testing Accuracy: 0.9536\n",
      "\n"
     ]
    },
    {
     "name": "stdout",
     "output_type": "stream",
     "text": [
      "Epoch 60, Loss 0.0537\n",
      "Training Accuracy: 0.9475, Testing Accuracy: 0.9556\n",
      "\n"
     ]
    },
    {
     "name": "stdout",
     "output_type": "stream",
     "text": [
      "Epoch 70, Loss 0.0512\n",
      "Training Accuracy: 0.9488, Testing Accuracy: 0.9572\n",
      "\n"
     ]
    },
    {
     "name": "stdout",
     "output_type": "stream",
     "text": [
      "Epoch 80, Loss 0.0492\n",
      "Training Accuracy: 0.9497, Testing Accuracy: 0.9602\n",
      "\n"
     ]
    },
    {
     "name": "stdout",
     "output_type": "stream",
     "text": [
      "Epoch 90, Loss 0.0476\n",
      "Training Accuracy: 0.9507, Testing Accuracy: 0.9612\n",
      "\n"
     ]
    },
    {
     "name": "stdout",
     "output_type": "stream",
     "text": [
      "Epoch 100, Loss 0.0462\n",
      "Training Accuracy: 0.9522, Testing Accuracy: 0.9617\n",
      "\n"
     ]
    },
    {
     "name": "stdout",
     "output_type": "stream",
     "text": [
      "Epoch 110, Loss 0.045\n",
      "Training Accuracy: 0.9532, Testing Accuracy: 0.9627\n",
      "\n"
     ]
    },
    {
     "name": "stdout",
     "output_type": "stream",
     "text": [
      "Epoch 120, Loss 0.0439\n",
      "Training Accuracy: 0.9538, Testing Accuracy: 0.9642\n",
      "\n"
     ]
    },
    {
     "name": "stdout",
     "output_type": "stream",
     "text": [
      "Epoch 130, Loss 0.043\n",
      "Training Accuracy: 0.9543, Testing Accuracy: 0.9652\n",
      "\n"
     ]
    },
    {
     "name": "stdout",
     "output_type": "stream",
     "text": [
      "Epoch 140, Loss 0.0422\n",
      "Training Accuracy: 0.9548, Testing Accuracy: 0.9652\n",
      "\n"
     ]
    },
    {
     "name": "stdout",
     "output_type": "stream",
     "text": [
      "Epoch 150, Loss 0.0414\n",
      "Training Accuracy: 0.9551, Testing Accuracy: 0.9657\n",
      "\n"
     ]
    },
    {
     "name": "stdout",
     "output_type": "stream",
     "text": [
      "Epoch 160, Loss 0.0408\n",
      "Training Accuracy: 0.9558, Testing Accuracy: 0.9662\n",
      "\n"
     ]
    },
    {
     "name": "stdout",
     "output_type": "stream",
     "text": [
      "Epoch 170, Loss 0.0402\n",
      "Training Accuracy: 0.9563, Testing Accuracy: 0.9667\n",
      "\n"
     ]
    },
    {
     "name": "stdout",
     "output_type": "stream",
     "text": [
      "Epoch 180, Loss 0.0396\n",
      "Training Accuracy: 0.9571, Testing Accuracy: 0.9662\n",
      "\n"
     ]
    },
    {
     "name": "stdout",
     "output_type": "stream",
     "text": [
      "Epoch 190, Loss 0.0391\n",
      "Training Accuracy: 0.9573, Testing Accuracy: 0.9662\n",
      "\n"
     ]
    },
    {
     "name": "stdout",
     "output_type": "stream",
     "text": [
      "Epoch 200, Loss 0.0386\n",
      "Training Accuracy: 0.9576, Testing Accuracy: 0.9662\n",
      "\n"
     ]
    },
    {
     "name": "stdout",
     "output_type": "stream",
     "text": [
      "Epoch 210, Loss 0.0382\n",
      "Training Accuracy: 0.9579, Testing Accuracy: 0.9662\n",
      "\n"
     ]
    },
    {
     "name": "stdout",
     "output_type": "stream",
     "text": [
      "Epoch 220, Loss 0.0378\n",
      "Training Accuracy: 0.9586, Testing Accuracy: 0.9667\n",
      "\n"
     ]
    },
    {
     "name": "stdout",
     "output_type": "stream",
     "text": [
      "Epoch 230, Loss 0.0374\n",
      "Training Accuracy: 0.9593, Testing Accuracy: 0.9667\n",
      "\n"
     ]
    },
    {
     "name": "stdout",
     "output_type": "stream",
     "text": [
      "Epoch 240, Loss 0.037\n",
      "Training Accuracy: 0.9594, Testing Accuracy: 0.9667\n",
      "\n"
     ]
    },
    {
     "data": {
      "text/plain": [
       "0.046434611422653704"
      ]
     },
     "execution_count": 23,
     "metadata": {},
     "output_type": "execute_result"
    }
   ],
   "source": [
    "lr_learner.train_loop(dl)"
   ]
  },
  {
   "cell_type": "code",
   "execution_count": 24,
   "id": "ca410940",
   "metadata": {
    "execution": {
     "iopub.execute_input": "2022-03-16T10:11:01.695956Z",
     "iopub.status.busy": "2022-03-16T10:11:01.695407Z",
     "iopub.status.idle": "2022-03-16T10:11:01.912730Z",
     "shell.execute_reply": "2022-03-16T10:11:01.912268Z"
    },
    "papermill": {
     "duration": 0.268589,
     "end_time": "2022-03-16T10:11:01.912847",
     "exception": false,
     "start_time": "2022-03-16T10:11:01.644258",
     "status": "completed"
    },
    "tags": []
   },
   "outputs": [
    {
     "data": {
      "text/plain": [
       "<matplotlib.legend.Legend at 0x7f79606fad30>"
      ]
     },
     "execution_count": 24,
     "metadata": {},
     "output_type": "execute_result"
    },
    {
     "data": {
      "image/png": "[encoded data removed]",
      "text/plain": [
       "<Figure size 1080x720 with 1 Axes>"
      ]
     },
     "metadata": {
      "needs_background": "light"
     },
     "output_type": "display_data"
    }
   ],
   "source": [
    "#comparing the results of NN and LR\n",
    "plt.figure(figsize=(15,10))\n",
    "\n",
    "# Neural Network plots\n",
    "plt.plot(acc_nn.accuracies, 'r-', label = \"Training Accuracies - NN\")\n",
    "plt.plot(acc_nn.test_accuracies, 'g-', label = \"Testing Accuracies - NN\")\n",
    "\n",
    "# Logistic Regression plots\n",
    "plt.plot(acc_lr.accuracies, 'k-', label = \"Training Accuracies - LR\")\n",
    "plt.plot(acc_lr.test_accuracies, 'b-', label = \"Testing Accuracies - LR\")\n",
    "plt.legend()"
   ]
  },
  {
   "cell_type": "markdown",
   "id": "80dfb35c",
   "metadata": {
    "papermill": {
     "duration": 0.041985,
     "end_time": "2022-03-16T10:11:01.996887",
     "exception": false,
     "start_time": "2022-03-16T10:11:01.954902",
     "status": "completed"
    },
    "tags": []
   },
   "source": [
    "#### Plotting the outputs of this layer of the NN.\n"
   ]
  },
  {
   "cell_type": "code",
   "execution_count": 25,
   "id": "45eb2ff5",
   "metadata": {
    "execution": {
     "iopub.execute_input": "2022-03-16T10:11:02.097442Z",
     "iopub.status.busy": "2022-03-16T10:11:02.086249Z",
     "iopub.status.idle": "2022-03-16T10:11:02.109725Z",
     "shell.execute_reply": "2022-03-16T10:11:02.110177Z"
    },
    "papermill": {
     "duration": 0.06994,
     "end_time": "2022-03-16T10:11:02.110320",
     "exception": false,
     "start_time": "2022-03-16T10:11:02.040380",
     "status": "completed"
    },
    "tags": []
   },
   "outputs": [],
   "source": [
    "new_model = Model(layers[:-2])\n",
    "testing_plot = new_model(testing_data_x)"
   ]
  },
  {
   "cell_type": "code",
   "execution_count": 26,
   "id": "4c0a5485",
   "metadata": {
    "execution": {
     "iopub.execute_input": "2022-03-16T10:11:02.200996Z",
     "iopub.status.busy": "2022-03-16T10:11:02.200462Z",
     "iopub.status.idle": "2022-03-16T10:11:02.395852Z",
     "shell.execute_reply": "2022-03-16T10:11:02.395333Z"
    },
    "papermill": {
     "duration": 0.241768,
     "end_time": "2022-03-16T10:11:02.395981",
     "exception": false,
     "start_time": "2022-03-16T10:11:02.154213",
     "status": "completed"
    },
    "tags": []
   },
   "outputs": [
    {
     "data": {
      "text/plain": [
       "Text(0.5, 1.0, 'Outputs')"
      ]
     },
     "execution_count": 26,
     "metadata": {},
     "output_type": "execute_result"
    },
    {
     "data": {
      "image/png": "[encoded data removed]",
      "text/plain": [
       "<Figure size 576x504 with 1 Axes>"
      ]
     },
     "metadata": {
      "needs_background": "light"
     },
     "output_type": "display_data"
    }
   ],
   "source": [
    "# Plotting the scatter plot of points and color coding by class\n",
    "plt.figure(figsize=(8,7))\n",
    "plt.scatter(testing_plot[:,0], testing_plot[:,1], alpha = 0.1, c = y_test.ravel());\n",
    "plt.title('Outputs')"
   ]
  },
  {
   "cell_type": "markdown",
   "id": "a74fcf8f",
   "metadata": {
    "papermill": {
     "duration": 0.043496,
     "end_time": "2022-03-16T10:11:02.487821",
     "exception": false,
     "start_time": "2022-03-16T10:11:02.444325",
     "status": "completed"
    },
    "tags": []
   },
   "source": [
    "Probability contours"
   ]
  },
  {
   "cell_type": "code",
   "execution_count": 27,
   "id": "d0afc8e3",
   "metadata": {
    "execution": {
     "iopub.execute_input": "2022-03-16T10:11:02.583516Z",
     "iopub.status.busy": "2022-03-16T10:11:02.582956Z",
     "iopub.status.idle": "2022-03-16T10:11:02.592037Z",
     "shell.execute_reply": "2022-03-16T10:11:02.592453Z"
    },
    "papermill": {
     "duration": 0.06074,
     "end_time": "2022-03-16T10:11:02.592593",
     "exception": false,
     "start_time": "2022-03-16T10:11:02.531853",
     "status": "completed"
    },
    "tags": []
   },
   "outputs": [],
   "source": [
    "model_prob = Model(layers[-2:]) "
   ]
  },
  {
   "cell_type": "code",
   "execution_count": 28,
   "id": "9b96e238",
   "metadata": {
    "execution": {
     "iopub.execute_input": "2022-03-16T10:11:02.690532Z",
     "iopub.status.busy": "2022-03-16T10:11:02.688818Z",
     "iopub.status.idle": "2022-03-16T10:11:02.702347Z",
     "shell.execute_reply": "2022-03-16T10:11:02.702773Z"
    },
    "papermill": {
     "duration": 0.066122,
     "end_time": "2022-03-16T10:11:02.702926",
     "exception": false,
     "start_time": "2022-03-16T10:11:02.636804",
     "status": "completed"
    },
    "tags": []
   },
   "outputs": [],
   "source": [
    "#creating the x and y ranges according to the above generated plot.\n",
    "x_range = np.linspace(-4, 1, 100) \n",
    "y_range = np.linspace(-6, 6, 100) \n",
    "x_grid, y_grid = np.meshgrid(x_range, y_range) # x_grid and y_grig are of size 100 X 100\n",
    "\n",
    "# converting x_grid and y_grid to continuous arrays\n",
    "x_gridflat = np.ravel(x_grid)\n",
    "y_gridflat = np.ravel(y_grid)\n",
    "\n",
    "# The last layer of the current model takes two columns as input. Hence transpose of np.vstack() is required.\n",
    "X = np.vstack((x_gridflat, y_gridflat)).T\n",
    "\n",
    "prob_contour = model_prob(X).reshape(100,100) "
   ]
  },
  {
   "cell_type": "code",
   "execution_count": 29,
   "id": "da72499a",
   "metadata": {
    "execution": {
     "iopub.execute_input": "2022-03-16T10:11:02.830083Z",
     "iopub.status.busy": "2022-03-16T10:11:02.829531Z",
     "iopub.status.idle": "2022-03-16T10:11:03.073498Z",
     "shell.execute_reply": "2022-03-16T10:11:03.073065Z"
    },
    "papermill": {
     "duration": 0.326843,
     "end_time": "2022-03-16T10:11:03.073616",
     "exception": false,
     "start_time": "2022-03-16T10:11:02.746773",
     "status": "completed"
    },
    "tags": []
   },
   "outputs": [
    {
     "data": {
      "image/png": "[encoded data removed]",
      "text/plain": [
       "<Figure size 720x648 with 1 Axes>"
      ]
     },
     "metadata": {
      "needs_background": "light"
     },
     "output_type": "display_data"
    }
   ],
   "source": [
    "plt.figure(figsize=(10,9))\n",
    "plt.scatter(testing_plot[:,0], testing_plot[:,1], alpha = 0.1, c = y_test.ravel())\n",
    "contours = plt.contour(x_grid,y_grid,prob_contour)\n",
    "plt.title('Probability Contours')\n",
    "plt.clabel(contours, inline = True );"
   ]
  },
  {
   "cell_type": "code",
   "execution_count": null,
   "id": "e81b4ac7",
   "metadata": {
    "papermill": {
     "duration": 0.046126,
     "end_time": "2022-03-16T10:11:03.166464",
     "exception": false,
     "start_time": "2022-03-16T10:11:03.120338",
     "status": "completed"
    },
    "tags": []
   },
   "outputs": [],
   "source": []
  }
 ],
 "metadata": {
  "kernelspec": {
   "display_name": "Python 3",
   "language": "python",
   "name": "python3"
  },
  "language_info": {
   "codemirror_mode": {
    "name": "ipython",
    "version": 3
   },
   "file_extension": ".py",
   "mimetype": "text/x-python",
   "name": "python",
   "nbconvert_exporter": "python",
   "pygments_lexer": "ipython3",
   "version": "3.6.15"
  },
  "papermill": {
   "default_parameters": {},
   "duration": 99.138151,
   "end_time": "2022-03-16T10:11:03.631334",
   "environment_variables": {},
   "exception": null,
   "input_path": "2020-08-11-part2.ipynb",
   "output_path": "2020-08-11-part2.ipynb",
   "parameters": {},
   "start_time": "2022-03-16T10:09:24.493183",
   "version": "2.3.3"
  }
 },
 "nbformat": 4,
 "nbformat_minor": 5
}