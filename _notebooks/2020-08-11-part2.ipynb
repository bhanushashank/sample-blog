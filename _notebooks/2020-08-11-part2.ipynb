{
 "cells": [
  {
   "cell_type": "markdown",
   "id": "98380cd3",
   "metadata": {
    "papermill": {
     "duration": 0.029703,
     "end_time": "2022-06-23T20:09:41.332709",
     "exception": false,
     "start_time": "2022-06-23T20:09:41.303006",
     "status": "completed"
    },
    "tags": []
   },
   "source": [
    "# Distinguish Your Own Digits (DYOD)"
   ]
  },
  {
   "cell_type": "markdown",
   "id": "ef31240d",
   "metadata": {
    "papermill": {
     "duration": 0.024207,
     "end_time": "2022-06-23T20:09:41.381738",
     "exception": false,
     "start_time": "2022-06-23T20:09:41.357531",
     "status": "completed"
    },
    "tags": []
   },
   "source": [
    "You are going to write a classifier that distinguishes between the number 3 and number 8."
   ]
  },
  {
   "cell_type": "code",
   "execution_count": 1,
   "id": "b15c8646",
   "metadata": {
    "execution": {
     "iopub.execute_input": "2022-06-23T20:09:41.439995Z",
     "iopub.status.busy": "2022-06-23T20:09:41.439425Z",
     "iopub.status.idle": "2022-06-23T20:09:41.450060Z",
     "shell.execute_reply": "2022-06-23T20:09:41.449586Z"
    },
    "papermill": {
     "duration": 0.044403,
     "end_time": "2022-06-23T20:09:41.450174",
     "exception": false,
     "start_time": "2022-06-23T20:09:41.405771",
     "status": "completed"
    },
    "tags": []
   },
   "outputs": [],
   "source": [
    "%load_ext autoreload\n",
    "%autoreload 2"
   ]
  },
  {
   "cell_type": "code",
   "execution_count": 2,
   "id": "22ef38dc",
   "metadata": {
    "execution": {
     "iopub.execute_input": "2022-06-23T20:09:41.504202Z",
     "iopub.status.busy": "2022-06-23T20:09:41.503638Z",
     "iopub.status.idle": "2022-06-23T20:09:42.013008Z",
     "shell.execute_reply": "2022-06-23T20:09:42.012511Z"
    },
    "papermill": {
     "duration": 0.537101,
     "end_time": "2022-06-23T20:09:42.013124",
     "exception": false,
     "start_time": "2022-06-23T20:09:41.476023",
     "status": "completed"
    },
    "tags": []
   },
   "outputs": [],
   "source": [
    "%matplotlib inline\n",
    "import numpy as np\n",
    "import matplotlib.pyplot as plt\n",
    "import pandas as pd"
   ]
  },
  {
   "cell_type": "markdown",
   "id": "ba036198",
   "metadata": {
    "papermill": {
     "duration": 0.024256,
     "end_time": "2022-06-23T20:09:42.061575",
     "exception": false,
     "start_time": "2022-06-23T20:09:42.037319",
     "status": "completed"
    },
    "tags": []
   },
   "source": [
    "From the command line run `pip install mnist`. This is a library that will help you bring down the mnist dataset. If you run this from a notebook, you need to put  `!pip install mnist` in a cell by itself."
   ]
  },
  {
   "cell_type": "code",
   "execution_count": 3,
   "id": "bb6ad8a1",
   "metadata": {
    "execution": {
     "iopub.execute_input": "2022-06-23T20:09:42.114125Z",
     "iopub.status.busy": "2022-06-23T20:09:42.113571Z",
     "iopub.status.idle": "2022-06-23T20:09:43.835867Z",
     "shell.execute_reply": "2022-06-23T20:09:43.835382Z"
    },
    "papermill": {
     "duration": 1.75019,
     "end_time": "2022-06-23T20:09:43.835983",
     "exception": false,
     "start_time": "2022-06-23T20:09:42.085793",
     "status": "completed"
    },
    "tags": []
   },
   "outputs": [
    {
     "name": "stdout",
     "output_type": "stream",
     "text": [
      "Collecting mnist\r\n"
     ]
    },
    {
     "name": "stdout",
     "output_type": "stream",
     "text": [
      "  Downloading mnist-0.2.2-py2.py3-none-any.whl (3.5 kB)\r\n",
      "Requirement already satisfied: numpy in /opt/hostedtoolcache/Python/3.6.15/x64/lib/python3.6/site-packages (from mnist) (1.19.5)\r\n"
     ]
    },
    {
     "name": "stdout",
     "output_type": "stream",
     "text": [
      "Installing collected packages: mnist\r\n",
      "Successfully installed mnist-0.2.2\r\n"
     ]
    }
   ],
   "source": [
    "!pip install mnist"
   ]
  },
  {
   "cell_type": "markdown",
   "id": "69df9c9a",
   "metadata": {
    "papermill": {
     "duration": 0.024931,
     "end_time": "2022-06-23T20:09:43.886026",
     "exception": false,
     "start_time": "2022-06-23T20:09:43.861095",
     "status": "completed"
    },
    "tags": []
   },
   "source": [
    "## Preparing the Data"
   ]
  },
  {
   "cell_type": "code",
   "execution_count": 4,
   "id": "7f69d806",
   "metadata": {
    "execution": {
     "iopub.execute_input": "2022-06-23T20:09:43.939935Z",
     "iopub.status.busy": "2022-06-23T20:09:43.939386Z",
     "iopub.status.idle": "2022-06-23T20:09:43.953606Z",
     "shell.execute_reply": "2022-06-23T20:09:43.953125Z"
    },
    "papermill": {
     "duration": 0.042375,
     "end_time": "2022-06-23T20:09:43.953709",
     "exception": false,
     "start_time": "2022-06-23T20:09:43.911334",
     "status": "completed"
    },
    "tags": []
   },
   "outputs": [],
   "source": [
    "import mnist"
   ]
  },
  {
   "cell_type": "code",
   "execution_count": 5,
   "id": "a411e44f",
   "metadata": {
    "execution": {
     "iopub.execute_input": "2022-06-23T20:09:44.006750Z",
     "iopub.status.busy": "2022-06-23T20:09:44.006201Z",
     "iopub.status.idle": "2022-06-23T20:09:44.721090Z",
     "shell.execute_reply": "2022-06-23T20:09:44.719984Z"
    },
    "papermill": {
     "duration": 0.742654,
     "end_time": "2022-06-23T20:09:44.721212",
     "exception": false,
     "start_time": "2022-06-23T20:09:43.978558",
     "status": "completed"
    },
    "tags": []
   },
   "outputs": [],
   "source": [
    "train_images = mnist.train_images()\n",
    "train_labels = mnist.train_labels()"
   ]
  },
  {
   "cell_type": "code",
   "execution_count": 6,
   "id": "dceab3a5",
   "metadata": {
    "execution": {
     "iopub.execute_input": "2022-06-23T20:09:44.778102Z",
     "iopub.status.busy": "2022-06-23T20:09:44.774665Z",
     "iopub.status.idle": "2022-06-23T20:09:44.788809Z",
     "shell.execute_reply": "2022-06-23T20:09:44.788256Z"
    },
    "papermill": {
     "duration": 0.042416,
     "end_time": "2022-06-23T20:09:44.788912",
     "exception": false,
     "start_time": "2022-06-23T20:09:44.746496",
     "status": "completed"
    },
    "tags": []
   },
   "outputs": [
    {
     "data": {
      "text/plain": [
       "((60000, 28, 28), (60000,))"
      ]
     },
     "execution_count": 6,
     "metadata": {},
     "output_type": "execute_result"
    }
   ],
   "source": [
    "train_images.shape, train_labels.shape"
   ]
  },
  {
   "cell_type": "code",
   "execution_count": 7,
   "id": "f50dc2bb",
   "metadata": {
    "execution": {
     "iopub.execute_input": "2022-06-23T20:09:44.842773Z",
     "iopub.status.busy": "2022-06-23T20:09:44.842226Z",
     "iopub.status.idle": "2022-06-23T20:09:45.030960Z",
     "shell.execute_reply": "2022-06-23T20:09:45.030460Z"
    },
    "papermill": {
     "duration": 0.217054,
     "end_time": "2022-06-23T20:09:45.031071",
     "exception": false,
     "start_time": "2022-06-23T20:09:44.814017",
     "status": "completed"
    },
    "tags": []
   },
   "outputs": [],
   "source": [
    "test_images = mnist.test_images()\n",
    "test_labels = mnist.test_labels()"
   ]
  },
  {
   "cell_type": "code",
   "execution_count": 8,
   "id": "fc38cf1b",
   "metadata": {
    "execution": {
     "iopub.execute_input": "2022-06-23T20:09:45.085698Z",
     "iopub.status.busy": "2022-06-23T20:09:45.085099Z",
     "iopub.status.idle": "2022-06-23T20:09:45.097972Z",
     "shell.execute_reply": "2022-06-23T20:09:45.097510Z"
    },
    "papermill": {
     "duration": 0.041671,
     "end_time": "2022-06-23T20:09:45.098074",
     "exception": false,
     "start_time": "2022-06-23T20:09:45.056403",
     "status": "completed"
    },
    "tags": []
   },
   "outputs": [
    {
     "data": {
      "text/plain": [
       "((10000, 28, 28), (10000,))"
      ]
     },
     "execution_count": 8,
     "metadata": {},
     "output_type": "execute_result"
    }
   ],
   "source": [
    "test_images.shape, test_labels.shape"
   ]
  },
  {
   "cell_type": "code",
   "execution_count": 9,
   "id": "f9ed8fe0",
   "metadata": {
    "execution": {
     "iopub.execute_input": "2022-06-23T20:09:45.153234Z",
     "iopub.status.busy": "2022-06-23T20:09:45.152675Z",
     "iopub.status.idle": "2022-06-23T20:09:45.284507Z",
     "shell.execute_reply": "2022-06-23T20:09:45.284944Z"
    },
    "papermill": {
     "duration": 0.161526,
     "end_time": "2022-06-23T20:09:45.285070",
     "exception": false,
     "start_time": "2022-06-23T20:09:45.123544",
     "status": "completed"
    },
    "tags": []
   },
   "outputs": [
    {
     "name": "stdout",
     "output_type": "stream",
     "text": [
      "2\n"
     ]
    },
    {
     "data": {
      "text/plain": [
       "<matplotlib.image.AxesImage at 0x7fac5397f390>"
      ]
     },
     "execution_count": 9,
     "metadata": {},
     "output_type": "execute_result"
    },
    {
     "data": {
      "image/png": "[encoded data removed]",
      "text/plain": [
       "<Figure size 432x288 with 1 Axes>"
      ]
     },
     "metadata": {
      "needs_background": "light"
     },
     "output_type": "display_data"
    }
   ],
   "source": [
    "image_index = 7776 # You may select anything up to 60,000\n",
    "print(train_labels[image_index]) \n",
    "plt.imshow(train_images[image_index], cmap='Greys')"
   ]
  },
  {
   "cell_type": "markdown",
   "id": "a8d2388d",
   "metadata": {
    "papermill": {
     "duration": 0.026916,
     "end_time": "2022-06-23T20:09:45.338867",
     "exception": false,
     "start_time": "2022-06-23T20:09:45.311951",
     "status": "completed"
    },
    "tags": []
   },
   "source": [
    "## Filter data to get 3 and 8 out"
   ]
  },
  {
   "cell_type": "code",
   "execution_count": 10,
   "id": "776f7fc7",
   "metadata": {
    "execution": {
     "iopub.execute_input": "2022-06-23T20:09:45.396344Z",
     "iopub.status.busy": "2022-06-23T20:09:45.395772Z",
     "iopub.status.idle": "2022-06-23T20:09:45.412511Z",
     "shell.execute_reply": "2022-06-23T20:09:45.412050Z"
    },
    "papermill": {
     "duration": 0.047264,
     "end_time": "2022-06-23T20:09:45.412615",
     "exception": false,
     "start_time": "2022-06-23T20:09:45.365351",
     "status": "completed"
    },
    "tags": []
   },
   "outputs": [],
   "source": [
    "train_filter = np.where((train_labels == 3 ) | (train_labels == 8))\n",
    "test_filter = np.where((test_labels == 3) | (test_labels == 8))\n",
    "X_train, y_train = train_images[train_filter], train_labels[train_filter]\n",
    "X_test, y_test = test_images[test_filter], test_labels[test_filter]"
   ]
  },
  {
   "cell_type": "markdown",
   "id": "948f0b7e",
   "metadata": {
    "papermill": {
     "duration": 0.026575,
     "end_time": "2022-06-23T20:09:45.465849",
     "exception": false,
     "start_time": "2022-06-23T20:09:45.439274",
     "status": "completed"
    },
    "tags": []
   },
   "source": [
    "We normalize the pizel values in the 0 to 1 range"
   ]
  },
  {
   "cell_type": "code",
   "execution_count": 11,
   "id": "ee4c2166",
   "metadata": {
    "execution": {
     "iopub.execute_input": "2022-06-23T20:09:45.522831Z",
     "iopub.status.busy": "2022-06-23T20:09:45.522160Z",
     "iopub.status.idle": "2022-06-23T20:09:45.563135Z",
     "shell.execute_reply": "2022-06-23T20:09:45.562626Z"
    },
    "papermill": {
     "duration": 0.070869,
     "end_time": "2022-06-23T20:09:45.563245",
     "exception": false,
     "start_time": "2022-06-23T20:09:45.492376",
     "status": "completed"
    },
    "tags": []
   },
   "outputs": [],
   "source": [
    "X_train = X_train/255.\n",
    "X_test = X_test/255."
   ]
  },
  {
   "cell_type": "markdown",
   "id": "ddcf4fab",
   "metadata": {
    "papermill": {
     "duration": 0.026655,
     "end_time": "2022-06-23T20:09:45.616712",
     "exception": false,
     "start_time": "2022-06-23T20:09:45.590057",
     "status": "completed"
    },
    "tags": []
   },
   "source": [
    "And setup the labels as 1 (when the digit is 3) and 0 (when the digit is 8)"
   ]
  },
  {
   "cell_type": "code",
   "execution_count": 12,
   "id": "7dc908f2",
   "metadata": {
    "execution": {
     "iopub.execute_input": "2022-06-23T20:09:45.674000Z",
     "iopub.status.busy": "2022-06-23T20:09:45.673441Z",
     "iopub.status.idle": "2022-06-23T20:09:45.685334Z",
     "shell.execute_reply": "2022-06-23T20:09:45.684787Z"
    },
    "papermill": {
     "duration": 0.042099,
     "end_time": "2022-06-23T20:09:45.685456",
     "exception": false,
     "start_time": "2022-06-23T20:09:45.643357",
     "status": "completed"
    },
    "tags": []
   },
   "outputs": [],
   "source": [
    "y_train = 1*(y_train==3)\n",
    "y_test = 1*(y_test==3)"
   ]
  },
  {
   "cell_type": "code",
   "execution_count": 13,
   "id": "01e4e969",
   "metadata": {
    "execution": {
     "iopub.execute_input": "2022-06-23T20:09:45.742395Z",
     "iopub.status.busy": "2022-06-23T20:09:45.741835Z",
     "iopub.status.idle": "2022-06-23T20:09:45.754640Z",
     "shell.execute_reply": "2022-06-23T20:09:45.754183Z"
    },
    "papermill": {
     "duration": 0.042596,
     "end_time": "2022-06-23T20:09:45.754740",
     "exception": false,
     "start_time": "2022-06-23T20:09:45.712144",
     "status": "completed"
    },
    "tags": []
   },
   "outputs": [
    {
     "data": {
      "text/plain": [
       "((11982, 28, 28), (1984, 28, 28))"
      ]
     },
     "execution_count": 13,
     "metadata": {},
     "output_type": "execute_result"
    }
   ],
   "source": [
    "X_train.shape, X_test.shape"
   ]
  },
  {
   "cell_type": "markdown",
   "id": "5ccf3f85",
   "metadata": {
    "papermill": {
     "duration": 0.026805,
     "end_time": "2022-06-23T20:09:45.808298",
     "exception": false,
     "start_time": "2022-06-23T20:09:45.781493",
     "status": "completed"
    },
    "tags": []
   },
   "source": [
    "We reshape the data to flatten the image pixels into a set of features or co-variates:"
   ]
  },
  {
   "cell_type": "code",
   "execution_count": 14,
   "id": "5286a4a3",
   "metadata": {
    "execution": {
     "iopub.execute_input": "2022-06-23T20:09:45.866547Z",
     "iopub.status.busy": "2022-06-23T20:09:45.865980Z",
     "iopub.status.idle": "2022-06-23T20:09:45.880855Z",
     "shell.execute_reply": "2022-06-23T20:09:45.879881Z"
    },
    "papermill": {
     "duration": 0.045384,
     "end_time": "2022-06-23T20:09:45.880969",
     "exception": false,
     "start_time": "2022-06-23T20:09:45.835585",
     "status": "completed"
    },
    "tags": []
   },
   "outputs": [
    {
     "data": {
      "text/plain": [
       "((11982, 784), (1984, 784))"
      ]
     },
     "execution_count": 14,
     "metadata": {},
     "output_type": "execute_result"
    }
   ],
   "source": [
    "X_train = X_train.reshape(X_train.shape[0], -1)\n",
    "X_test = X_test.reshape(X_test.shape[0], -1)\n",
    "X_train.shape, X_test.shape"
   ]
  },
  {
   "cell_type": "code",
   "execution_count": 15,
   "id": "73c5f88a",
   "metadata": {
    "execution": {
     "iopub.execute_input": "2022-06-23T20:09:45.942134Z",
     "iopub.status.busy": "2022-06-23T20:09:45.938887Z",
     "iopub.status.idle": "2022-06-23T20:09:45.956700Z",
     "shell.execute_reply": "2022-06-23T20:09:45.957117Z"
    },
    "papermill": {
     "duration": 0.049211,
     "end_time": "2022-06-23T20:09:45.957243",
     "exception": false,
     "start_time": "2022-06-23T20:09:45.908032",
     "status": "completed"
    },
    "tags": []
   },
   "outputs": [],
   "source": [
    "#Impoting functions from 'Kudzu'\n",
    "from kudzu.model import Model\n",
    "from kudzu.train import Learner\n",
    "from kudzu.optim import GD\n",
    "from kudzu.data import Data, Sampler,Dataloader\n",
    "\n",
    "from kudzu.callbacks import AccCallback\n",
    "from kudzu.callbacks import ClfCallback\n",
    "\n",
    "from kudzu.loss import MSE\n",
    "\n",
    "from kudzu.layer import Sigmoid,Relu\n",
    "from kudzu.layer import Affine"
   ]
  },
  {
   "cell_type": "markdown",
   "id": "bc01172a",
   "metadata": {
    "papermill": {
     "duration": 0.027289,
     "end_time": "2022-06-23T20:09:46.011792",
     "exception": false,
     "start_time": "2022-06-23T20:09:45.984503",
     "status": "completed"
    },
    "tags": []
   },
   "source": [
    "### Let us create a `Config` class, to store important parameters. \n",
    "This class essentially plays the role of a dictionary."
   ]
  },
  {
   "cell_type": "code",
   "execution_count": 16,
   "id": "978281aa",
   "metadata": {
    "execution": {
     "iopub.execute_input": "2022-06-23T20:09:46.069780Z",
     "iopub.status.busy": "2022-06-23T20:09:46.069170Z",
     "iopub.status.idle": "2022-06-23T20:09:46.081409Z",
     "shell.execute_reply": "2022-06-23T20:09:46.080943Z"
    },
    "papermill": {
     "duration": 0.042754,
     "end_time": "2022-06-23T20:09:46.081517",
     "exception": false,
     "start_time": "2022-06-23T20:09:46.038763",
     "status": "completed"
    },
    "tags": []
   },
   "outputs": [],
   "source": [
    "class Config:\n",
    "    pass\n",
    "config = Config()\n",
    "config.lr = 0.001\n",
    "config.num_epochs = 250\n",
    "config.bs = 50"
   ]
  },
  {
   "cell_type": "markdown",
   "id": "1385fa59",
   "metadata": {
    "papermill": {
     "duration": 0.026995,
     "end_time": "2022-06-23T20:09:46.135871",
     "exception": false,
     "start_time": "2022-06-23T20:09:46.108876",
     "status": "completed"
    },
    "tags": []
   },
   "source": [
    "### Running Models with the Training data\n",
    "Details about the network layers:\n",
    "- A first affine layer has 784 inputs and does 100 affine transforms. These are followed by a Relu\n",
    "- A second affine layer has 100 inputs from the 100 activations of the past layer, and does 100 affine transforms. These are followed by a Relu\n",
    "- A third affine layer has 100 activations and does 2 affine transformations to create an embedding for visualization. There is no non-linearity here.\n",
    "- A final \"logistic regression\" which has an affine transform from 2 inputs to 1 output, which is squeezed through a sigmoid.\n"
   ]
  },
  {
   "cell_type": "code",
   "execution_count": 17,
   "id": "2b9c66db",
   "metadata": {
    "execution": {
     "iopub.execute_input": "2022-06-23T20:09:46.194245Z",
     "iopub.status.busy": "2022-06-23T20:09:46.193667Z",
     "iopub.status.idle": "2022-06-23T20:09:46.205945Z",
     "shell.execute_reply": "2022-06-23T20:09:46.205484Z"
    },
    "papermill": {
     "duration": 0.043106,
     "end_time": "2022-06-23T20:09:46.206047",
     "exception": false,
     "start_time": "2022-06-23T20:09:46.162941",
     "status": "completed"
    },
    "tags": []
   },
   "outputs": [],
   "source": [
    "data = Data(X_train, y_train.reshape(-1,1))\n",
    "sampler = Sampler(data, config.bs, shuffle=True)\n",
    "\n",
    "dl = Dataloader(data, sampler)\n",
    "\n",
    "opt = GD(config.lr)\n",
    "loss = MSE()"
   ]
  },
  {
   "cell_type": "code",
   "execution_count": 18,
   "id": "b275e4c2",
   "metadata": {
    "execution": {
     "iopub.execute_input": "2022-06-23T20:09:46.263989Z",
     "iopub.status.busy": "2022-06-23T20:09:46.263426Z",
     "iopub.status.idle": "2022-06-23T20:09:46.275425Z",
     "shell.execute_reply": "2022-06-23T20:09:46.274889Z"
    },
    "papermill": {
     "duration": 0.042364,
     "end_time": "2022-06-23T20:09:46.275526",
     "exception": false,
     "start_time": "2022-06-23T20:09:46.233162",
     "status": "completed"
    },
    "tags": []
   },
   "outputs": [],
   "source": [
    "training_data_x = X_train\n",
    "testing_data_x = X_test\n",
    "training_data_y = y_train.reshape(-1,1)\n",
    "testing_data_y = y_test.reshape(-1,1)"
   ]
  },
  {
   "cell_type": "code",
   "execution_count": 19,
   "id": "76951160",
   "metadata": {
    "execution": {
     "iopub.execute_input": "2022-06-23T20:09:46.333628Z",
     "iopub.status.busy": "2022-06-23T20:09:46.333043Z",
     "iopub.status.idle": "2022-06-23T20:09:46.349572Z",
     "shell.execute_reply": "2022-06-23T20:09:46.349106Z"
    },
    "papermill": {
     "duration": 0.04733,
     "end_time": "2022-06-23T20:09:46.349675",
     "exception": false,
     "start_time": "2022-06-23T20:09:46.302345",
     "status": "completed"
    },
    "tags": []
   },
   "outputs": [
    {
     "name": "stdout",
     "output_type": "stream",
     "text": [
      "xavier\n",
      "xavier\n",
      "xavier\n",
      "xavier\n",
      "xavier\n"
     ]
    }
   ],
   "source": [
    "layers = [Affine(\"first\", 784, 100), Relu(\"first\"), Affine(\"second\", 100, 100), Relu(\"second\"), Affine(\"third\", 100, 2), Affine(\"last\", 2, 1), Sigmoid(\"last\")]\n",
    "model_nn = Model(layers)\n",
    "model_lr = Model([Affine(\"logits\", 784, 1), Sigmoid(\"sigmoid\")])"
   ]
  },
  {
   "cell_type": "code",
   "execution_count": 20,
   "id": "6eede77a",
   "metadata": {
    "execution": {
     "iopub.execute_input": "2022-06-23T20:09:46.408381Z",
     "iopub.status.busy": "2022-06-23T20:09:46.407820Z",
     "iopub.status.idle": "2022-06-23T20:09:46.419858Z",
     "shell.execute_reply": "2022-06-23T20:09:46.419306Z"
    },
    "papermill": {
     "duration": 0.042854,
     "end_time": "2022-06-23T20:09:46.419959",
     "exception": false,
     "start_time": "2022-06-23T20:09:46.377105",
     "status": "completed"
    },
    "tags": []
   },
   "outputs": [],
   "source": [
    "nn_learner = Learner(loss, model_nn, opt, config.num_epochs)\n",
    "acc_nn = ClfCallback(nn_learner, config.bs, training_data_x , testing_data_x, training_data_y, testing_data_y)\n",
    "nn_learner.set_callbacks([acc_nn])"
   ]
  },
  {
   "cell_type": "code",
   "execution_count": 21,
   "id": "877b6cc7",
   "metadata": {
    "execution": {
     "iopub.execute_input": "2022-06-23T20:09:46.478375Z",
     "iopub.status.busy": "2022-06-23T20:09:46.477806Z",
     "iopub.status.idle": "2022-06-23T20:09:46.489766Z",
     "shell.execute_reply": "2022-06-23T20:09:46.489300Z"
    },
    "papermill": {
     "duration": 0.042608,
     "end_time": "2022-06-23T20:09:46.489868",
     "exception": false,
     "start_time": "2022-06-23T20:09:46.447260",
     "status": "completed"
    },
    "tags": []
   },
   "outputs": [],
   "source": [
    "lr_learner = Learner(loss, model_lr, opt, config.num_epochs)\n",
    "acc_lr = ClfCallback(lr_learner, config.bs, training_data_x , testing_data_x, training_data_y, testing_data_y)\n",
    "lr_learner.set_callbacks([acc_lr])"
   ]
  },
  {
   "cell_type": "code",
   "execution_count": 22,
   "id": "d9b133c3",
   "metadata": {
    "execution": {
     "iopub.execute_input": "2022-06-23T20:09:46.547993Z",
     "iopub.status.busy": "2022-06-23T20:09:46.547430Z",
     "iopub.status.idle": "2022-06-23T20:12:42.530702Z",
     "shell.execute_reply": "2022-06-23T20:12:42.531156Z"
    },
    "papermill": {
     "duration": 176.014022,
     "end_time": "2022-06-23T20:12:42.531286",
     "exception": false,
     "start_time": "2022-06-23T20:09:46.517264",
     "status": "completed"
    },
    "tags": []
   },
   "outputs": [
    {
     "name": "stdout",
     "output_type": "stream",
     "text": [
      "Epoch 0, Loss 0.2574\n",
      "Training Accuracy: 0.4726, Testing Accuracy: 0.4536\n",
      "\n"
     ]
    },
    {
     "name": "stdout",
     "output_type": "stream",
     "text": [
      "Epoch 10, Loss 0.1354\n",
      "Training Accuracy: 0.9155, Testing Accuracy: 0.9249\n",
      "\n"
     ]
    },
    {
     "name": "stdout",
     "output_type": "stream",
     "text": [
      "Epoch 20, Loss 0.0671\n",
      "Training Accuracy: 0.9377, Testing Accuracy: 0.9451\n",
      "\n"
     ]
    },
    {
     "name": "stdout",
     "output_type": "stream",
     "text": [
      "Epoch 30, Loss 0.0489\n",
      "Training Accuracy: 0.9498, Testing Accuracy: 0.9561\n",
      "\n"
     ]
    },
    {
     "name": "stdout",
     "output_type": "stream",
     "text": [
      "Epoch 40, Loss 0.0413\n",
      "Training Accuracy: 0.9546, Testing Accuracy: 0.9602\n",
      "\n"
     ]
    },
    {
     "name": "stdout",
     "output_type": "stream",
     "text": [
      "Epoch 50, Loss 0.0371\n",
      "Training Accuracy: 0.9571, Testing Accuracy: 0.9632\n",
      "\n"
     ]
    },
    {
     "name": "stdout",
     "output_type": "stream",
     "text": [
      "Epoch 60, Loss 0.0343\n",
      "Training Accuracy: 0.9603, Testing Accuracy: 0.9667\n",
      "\n"
     ]
    },
    {
     "name": "stdout",
     "output_type": "stream",
     "text": [
      "Epoch 70, Loss 0.0323\n",
      "Training Accuracy: 0.9629, Testing Accuracy: 0.9688\n",
      "\n"
     ]
    },
    {
     "name": "stdout",
     "output_type": "stream",
     "text": [
      "Epoch 80, Loss 0.0308\n",
      "Training Accuracy: 0.9645, Testing Accuracy: 0.9682\n",
      "\n"
     ]
    },
    {
     "name": "stdout",
     "output_type": "stream",
     "text": [
      "Epoch 90, Loss 0.0295\n",
      "Training Accuracy: 0.9658, Testing Accuracy: 0.9693\n",
      "\n"
     ]
    },
    {
     "name": "stdout",
     "output_type": "stream",
     "text": [
      "Epoch 100, Loss 0.0284\n",
      "Training Accuracy: 0.9670, Testing Accuracy: 0.9713\n",
      "\n"
     ]
    },
    {
     "name": "stdout",
     "output_type": "stream",
     "text": [
      "Epoch 110, Loss 0.0274\n",
      "Training Accuracy: 0.9685, Testing Accuracy: 0.9713\n",
      "\n"
     ]
    },
    {
     "name": "stdout",
     "output_type": "stream",
     "text": [
      "Epoch 120, Loss 0.0266\n",
      "Training Accuracy: 0.9690, Testing Accuracy: 0.9708\n",
      "\n"
     ]
    },
    {
     "name": "stdout",
     "output_type": "stream",
     "text": [
      "Epoch 130, Loss 0.0258\n",
      "Training Accuracy: 0.9697, Testing Accuracy: 0.9708\n",
      "\n"
     ]
    },
    {
     "name": "stdout",
     "output_type": "stream",
     "text": [
      "Epoch 140, Loss 0.0251\n",
      "Training Accuracy: 0.9705, Testing Accuracy: 0.9708\n",
      "\n"
     ]
    },
    {
     "name": "stdout",
     "output_type": "stream",
     "text": [
      "Epoch 150, Loss 0.0244\n",
      "Training Accuracy: 0.9710, Testing Accuracy: 0.9728\n",
      "\n"
     ]
    },
    {
     "name": "stdout",
     "output_type": "stream",
     "text": [
      "Epoch 160, Loss 0.0238\n",
      "Training Accuracy: 0.9719, Testing Accuracy: 0.9723\n",
      "\n"
     ]
    },
    {
     "name": "stdout",
     "output_type": "stream",
     "text": [
      "Epoch 170, Loss 0.0232\n",
      "Training Accuracy: 0.9729, Testing Accuracy: 0.9728\n",
      "\n"
     ]
    },
    {
     "name": "stdout",
     "output_type": "stream",
     "text": [
      "Epoch 180, Loss 0.0227\n",
      "Training Accuracy: 0.9733, Testing Accuracy: 0.9723\n",
      "\n"
     ]
    },
    {
     "name": "stdout",
     "output_type": "stream",
     "text": [
      "Epoch 190, Loss 0.0222\n",
      "Training Accuracy: 0.9740, Testing Accuracy: 0.9728\n",
      "\n"
     ]
    },
    {
     "name": "stdout",
     "output_type": "stream",
     "text": [
      "Epoch 200, Loss 0.0217\n",
      "Training Accuracy: 0.9749, Testing Accuracy: 0.9743\n",
      "\n"
     ]
    },
    {
     "name": "stdout",
     "output_type": "stream",
     "text": [
      "Epoch 210, Loss 0.0212\n",
      "Training Accuracy: 0.9756, Testing Accuracy: 0.9743\n",
      "\n"
     ]
    },
    {
     "name": "stdout",
     "output_type": "stream",
     "text": [
      "Epoch 220, Loss 0.0208\n",
      "Training Accuracy: 0.9770, Testing Accuracy: 0.9743\n",
      "\n"
     ]
    },
    {
     "name": "stdout",
     "output_type": "stream",
     "text": [
      "Epoch 230, Loss 0.0204\n",
      "Training Accuracy: 0.9776, Testing Accuracy: 0.9743\n",
      "\n"
     ]
    },
    {
     "name": "stdout",
     "output_type": "stream",
     "text": [
      "Epoch 240, Loss 0.02\n",
      "Training Accuracy: 0.9781, Testing Accuracy: 0.9743\n",
      "\n"
     ]
    },
    {
     "data": {
      "text/plain": [
       "0.05429158923645361"
      ]
     },
     "execution_count": 22,
     "metadata": {},
     "output_type": "execute_result"
    }
   ],
   "source": [
    "nn_learner.train_loop(dl)"
   ]
  },
  {
   "cell_type": "code",
   "execution_count": 23,
   "id": "e0163366",
   "metadata": {
    "execution": {
     "iopub.execute_input": "2022-06-23T20:12:42.606057Z",
     "iopub.status.busy": "2022-06-23T20:12:42.604859Z",
     "iopub.status.idle": "2022-06-23T20:12:54.636722Z",
     "shell.execute_reply": "2022-06-23T20:12:54.637538Z"
    },
    "papermill": {
     "duration": 12.071929,
     "end_time": "2022-06-23T20:12:54.637676",
     "exception": false,
     "start_time": "2022-06-23T20:12:42.565747",
     "status": "completed"
    },
    "tags": []
   },
   "outputs": [
    {
     "name": "stdout",
     "output_type": "stream",
     "text": [
      "Epoch 0, Loss 0.2321\n",
      "Training Accuracy: 0.7389, Testing Accuracy: 0.7067\n",
      "\n"
     ]
    },
    {
     "name": "stdout",
     "output_type": "stream",
     "text": [
      "Epoch 10, Loss 0.101\n",
      "Training Accuracy: 0.9134, Testing Accuracy: 0.9214\n",
      "\n"
     ]
    },
    {
     "name": "stdout",
     "output_type": "stream",
     "text": [
      "Epoch 20, Loss 0.0785\n",
      "Training Accuracy: 0.9286, Testing Accuracy: 0.9360\n",
      "\n"
     ]
    },
    {
     "name": "stdout",
     "output_type": "stream",
     "text": [
      "Epoch 30, Loss 0.0679\n",
      "Training Accuracy: 0.9374, Testing Accuracy: 0.9420\n",
      "\n"
     ]
    },
    {
     "name": "stdout",
     "output_type": "stream",
     "text": [
      "Epoch 40, Loss 0.0615\n",
      "Training Accuracy: 0.9417, Testing Accuracy: 0.9471\n",
      "\n"
     ]
    },
    {
     "name": "stdout",
     "output_type": "stream",
     "text": [
      "Epoch 50, Loss 0.0571\n",
      "Training Accuracy: 0.9445, Testing Accuracy: 0.9511\n",
      "\n"
     ]
    },
    {
     "name": "stdout",
     "output_type": "stream",
     "text": [
      "Epoch 60, Loss 0.0538\n",
      "Training Accuracy: 0.9468, Testing Accuracy: 0.9556\n",
      "\n"
     ]
    },
    {
     "name": "stdout",
     "output_type": "stream",
     "text": [
      "Epoch 70, Loss 0.0513\n",
      "Training Accuracy: 0.9488, Testing Accuracy: 0.9587\n",
      "\n"
     ]
    },
    {
     "name": "stdout",
     "output_type": "stream",
     "text": [
      "Epoch 80, Loss 0.0493\n",
      "Training Accuracy: 0.9508, Testing Accuracy: 0.9607\n",
      "\n"
     ]
    },
    {
     "name": "stdout",
     "output_type": "stream",
     "text": [
      "Epoch 90, Loss 0.0476\n",
      "Training Accuracy: 0.9523, Testing Accuracy: 0.9612\n",
      "\n"
     ]
    },
    {
     "name": "stdout",
     "output_type": "stream",
     "text": [
      "Epoch 100, Loss 0.0462\n",
      "Training Accuracy: 0.9533, Testing Accuracy: 0.9617\n",
      "\n"
     ]
    },
    {
     "name": "stdout",
     "output_type": "stream",
     "text": [
      "Epoch 110, Loss 0.045\n",
      "Training Accuracy: 0.9550, Testing Accuracy: 0.9617\n",
      "\n"
     ]
    },
    {
     "name": "stdout",
     "output_type": "stream",
     "text": [
      "Epoch 120, Loss 0.0439\n",
      "Training Accuracy: 0.9553, Testing Accuracy: 0.9617\n",
      "\n"
     ]
    },
    {
     "name": "stdout",
     "output_type": "stream",
     "text": [
      "Epoch 130, Loss 0.043\n",
      "Training Accuracy: 0.9555, Testing Accuracy: 0.9622\n",
      "\n"
     ]
    },
    {
     "name": "stdout",
     "output_type": "stream",
     "text": [
      "Epoch 140, Loss 0.0422\n",
      "Training Accuracy: 0.9563, Testing Accuracy: 0.9622\n",
      "\n"
     ]
    },
    {
     "name": "stdout",
     "output_type": "stream",
     "text": [
      "Epoch 150, Loss 0.0414\n",
      "Training Accuracy: 0.9569, Testing Accuracy: 0.9642\n",
      "\n"
     ]
    },
    {
     "name": "stdout",
     "output_type": "stream",
     "text": [
      "Epoch 160, Loss 0.0407\n",
      "Training Accuracy: 0.9577, Testing Accuracy: 0.9642\n",
      "\n"
     ]
    },
    {
     "name": "stdout",
     "output_type": "stream",
     "text": [
      "Epoch 170, Loss 0.0401\n",
      "Training Accuracy: 0.9585, Testing Accuracy: 0.9657\n",
      "\n"
     ]
    },
    {
     "name": "stdout",
     "output_type": "stream",
     "text": [
      "Epoch 180, Loss 0.0396\n",
      "Training Accuracy: 0.9587, Testing Accuracy: 0.9657\n",
      "\n"
     ]
    },
    {
     "name": "stdout",
     "output_type": "stream",
     "text": [
      "Epoch 190, Loss 0.0391\n",
      "Training Accuracy: 0.9593, Testing Accuracy: 0.9657\n",
      "\n"
     ]
    },
    {
     "name": "stdout",
     "output_type": "stream",
     "text": [
      "Epoch 200, Loss 0.0386\n",
      "Training Accuracy: 0.9598, Testing Accuracy: 0.9657\n",
      "\n"
     ]
    },
    {
     "name": "stdout",
     "output_type": "stream",
     "text": [
      "Epoch 210, Loss 0.0381\n",
      "Training Accuracy: 0.9601, Testing Accuracy: 0.9657\n",
      "\n"
     ]
    },
    {
     "name": "stdout",
     "output_type": "stream",
     "text": [
      "Epoch 220, Loss 0.0377\n",
      "Training Accuracy: 0.9603, Testing Accuracy: 0.9662\n",
      "\n"
     ]
    },
    {
     "name": "stdout",
     "output_type": "stream",
     "text": [
      "Epoch 230, Loss 0.0373\n",
      "Training Accuracy: 0.9604, Testing Accuracy: 0.9667\n",
      "\n"
     ]
    },
    {
     "name": "stdout",
     "output_type": "stream",
     "text": [
      "Epoch 240, Loss 0.037\n",
      "Training Accuracy: 0.9610, Testing Accuracy: 0.9667\n",
      "\n"
     ]
    },
    {
     "data": {
      "text/plain": [
       "0.029699960801234736"
      ]
     },
     "execution_count": 23,
     "metadata": {},
     "output_type": "execute_result"
    }
   ],
   "source": [
    "lr_learner.train_loop(dl)"
   ]
  },
  {
   "cell_type": "code",
   "execution_count": 24,
   "id": "ca410940",
   "metadata": {
    "execution": {
     "iopub.execute_input": "2022-06-23T20:12:54.733861Z",
     "iopub.status.busy": "2022-06-23T20:12:54.727589Z",
     "iopub.status.idle": "2022-06-23T20:12:54.951744Z",
     "shell.execute_reply": "2022-06-23T20:12:54.951270Z"
    },
    "papermill": {
     "duration": 0.272589,
     "end_time": "2022-06-23T20:12:54.951853",
     "exception": false,
     "start_time": "2022-06-23T20:12:54.679264",
     "status": "completed"
    },
    "tags": []
   },
   "outputs": [
    {
     "data": {
      "text/plain": [
       "<matplotlib.legend.Legend at 0x7fac534dda20>"
      ]
     },
     "execution_count": 24,
     "metadata": {},
     "output_type": "execute_result"
    },
    {
     "data": {
      "image/png": "[encoded data removed]",
      "text/plain": [
       "<Figure size 1080x720 with 1 Axes>"
      ]
     },
     "metadata": {
      "needs_background": "light"
     },
     "output_type": "display_data"
    }
   ],
   "source": [
    "#comparing the results of NN and LR\n",
    "plt.figure(figsize=(15,10))\n",
    "\n",
    "# Neural Network plots\n",
    "plt.plot(acc_nn.accuracies, 'r-', label = \"Training Accuracies - NN\")\n",
    "plt.plot(acc_nn.test_accuracies, 'g-', label = \"Testing Accuracies - NN\")\n",
    "\n",
    "# Logistic Regression plots\n",
    "plt.plot(acc_lr.accuracies, 'k-', label = \"Training Accuracies - LR\")\n",
    "plt.plot(acc_lr.test_accuracies, 'b-', label = \"Testing Accuracies - LR\")\n",
    "plt.legend()"
   ]
  },
  {
   "cell_type": "markdown",
   "id": "80dfb35c",
   "metadata": {
    "papermill": {
     "duration": 0.041841,
     "end_time": "2022-06-23T20:12:55.036861",
     "exception": false,
     "start_time": "2022-06-23T20:12:54.995020",
     "status": "completed"
    },
    "tags": []
   },
   "source": [
    "#### Plotting the outputs of this layer of the NN.\n"
   ]
  },
  {
   "cell_type": "code",
   "execution_count": 25,
   "id": "45eb2ff5",
   "metadata": {
    "execution": {
     "iopub.execute_input": "2022-06-23T20:12:55.124682Z",
     "iopub.status.busy": "2022-06-23T20:12:55.124099Z",
     "iopub.status.idle": "2022-06-23T20:12:55.159488Z",
     "shell.execute_reply": "2022-06-23T20:12:55.159932Z"
    },
    "papermill": {
     "duration": 0.081085,
     "end_time": "2022-06-23T20:12:55.160054",
     "exception": false,
     "start_time": "2022-06-23T20:12:55.078969",
     "status": "completed"
    },
    "tags": []
   },
   "outputs": [],
   "source": [
    "new_model = Model(layers[:-2])\n",
    "testing_plot = new_model(testing_data_x)"
   ]
  },
  {
   "cell_type": "code",
   "execution_count": 26,
   "id": "4c0a5485",
   "metadata": {
    "execution": {
     "iopub.execute_input": "2022-06-23T20:12:55.254377Z",
     "iopub.status.busy": "2022-06-23T20:12:55.253811Z",
     "iopub.status.idle": "2022-06-23T20:12:55.432238Z",
     "shell.execute_reply": "2022-06-23T20:12:55.431156Z"
    },
    "papermill": {
     "duration": 0.229437,
     "end_time": "2022-06-23T20:12:55.432356",
     "exception": false,
     "start_time": "2022-06-23T20:12:55.202919",
     "status": "completed"
    },
    "tags": []
   },
   "outputs": [
    {
     "data": {
      "text/plain": [
       "Text(0.5, 1.0, 'Outputs')"
      ]
     },
     "execution_count": 26,
     "metadata": {},
     "output_type": "execute_result"
    },
    {
     "data": {
      "image/png": "[encoded data removed]",
      "text/plain": [
       "<Figure size 576x504 with 1 Axes>"
      ]
     },
     "metadata": {
      "needs_background": "light"
     },
     "output_type": "display_data"
    }
   ],
   "source": [
    "# Plotting the scatter plot of points and color coding by class\n",
    "plt.figure(figsize=(8,7))\n",
    "plt.scatter(testing_plot[:,0], testing_plot[:,1], alpha = 0.1, c = y_test.ravel());\n",
    "plt.title('Outputs')"
   ]
  },
  {
   "cell_type": "markdown",
   "id": "a74fcf8f",
   "metadata": {
    "papermill": {
     "duration": 0.043903,
     "end_time": "2022-06-23T20:12:55.520473",
     "exception": false,
     "start_time": "2022-06-23T20:12:55.476570",
     "status": "completed"
    },
    "tags": []
   },
   "source": [
    "Probability contours"
   ]
  },
  {
   "cell_type": "code",
   "execution_count": 27,
   "id": "d0afc8e3",
   "metadata": {
    "execution": {
     "iopub.execute_input": "2022-06-23T20:12:55.635466Z",
     "iopub.status.busy": "2022-06-23T20:12:55.634886Z",
     "iopub.status.idle": "2022-06-23T20:12:55.646118Z",
     "shell.execute_reply": "2022-06-23T20:12:55.645559Z"
    },
    "papermill": {
     "duration": 0.081702,
     "end_time": "2022-06-23T20:12:55.646221",
     "exception": false,
     "start_time": "2022-06-23T20:12:55.564519",
     "status": "completed"
    },
    "tags": []
   },
   "outputs": [],
   "source": [
    "model_prob = Model(layers[-2:]) "
   ]
  },
  {
   "cell_type": "code",
   "execution_count": 28,
   "id": "9b96e238",
   "metadata": {
    "execution": {
     "iopub.execute_input": "2022-06-23T20:12:55.739185Z",
     "iopub.status.busy": "2022-06-23T20:12:55.738619Z",
     "iopub.status.idle": "2022-06-23T20:12:55.751974Z",
     "shell.execute_reply": "2022-06-23T20:12:55.752368Z"
    },
    "papermill": {
     "duration": 0.062212,
     "end_time": "2022-06-23T20:12:55.752485",
     "exception": false,
     "start_time": "2022-06-23T20:12:55.690273",
     "status": "completed"
    },
    "tags": []
   },
   "outputs": [],
   "source": [
    "#creating the x and y ranges according to the above generated plot.\n",
    "x_range = np.linspace(-4, 1, 100) \n",
    "y_range = np.linspace(-6, 6, 100) \n",
    "x_grid, y_grid = np.meshgrid(x_range, y_range) # x_grid and y_grig are of size 100 X 100\n",
    "\n",
    "# converting x_grid and y_grid to continuous arrays\n",
    "x_gridflat = np.ravel(x_grid)\n",
    "y_gridflat = np.ravel(y_grid)\n",
    "\n",
    "# The last layer of the current model takes two columns as input. Hence transpose of np.vstack() is required.\n",
    "X = np.vstack((x_gridflat, y_gridflat)).T\n",
    "\n",
    "prob_contour = model_prob(X).reshape(100,100) "
   ]
  },
  {
   "cell_type": "code",
   "execution_count": 29,
   "id": "da72499a",
   "metadata": {
    "execution": {
     "iopub.execute_input": "2022-06-23T20:12:55.845004Z",
     "iopub.status.busy": "2022-06-23T20:12:55.844447Z",
     "iopub.status.idle": "2022-06-23T20:12:56.080564Z",
     "shell.execute_reply": "2022-06-23T20:12:56.080090Z"
    },
    "papermill": {
     "duration": 0.284033,
     "end_time": "2022-06-23T20:12:56.080672",
     "exception": false,
     "start_time": "2022-06-23T20:12:55.796639",
     "status": "completed"
    },
    "tags": []
   },
   "outputs": [
    {
     "data": {
      "image/png": "[encoded data removed]",
      "text/plain": [
       "<Figure size 720x648 with 1 Axes>"
      ]
     },
     "metadata": {
      "needs_background": "light"
     },
     "output_type": "display_data"
    }
   ],
   "source": [
    "plt.figure(figsize=(10,9))\n",
    "plt.scatter(testing_plot[:,0], testing_plot[:,1], alpha = 0.1, c = y_test.ravel())\n",
    "contours = plt.contour(x_grid,y_grid,prob_contour)\n",
    "plt.title('Probability Contours')\n",
    "plt.clabel(contours, inline = True );"
   ]
  },
  {
   "cell_type": "code",
   "execution_count": null,
   "id": "e81b4ac7",
   "metadata": {
    "papermill": {
     "duration": 0.046146,
     "end_time": "2022-06-23T20:12:56.173563",
     "exception": false,
     "start_time": "2022-06-23T20:12:56.127417",
     "status": "completed"
    },
    "tags": []
   },
   "outputs": [],
   "source": []
  }
 ],
 "metadata": {
  "kernelspec": {
   "display_name": "Python 3",
   "language": "python",
   "name": "python3"
  },
  "language_info": {
   "codemirror_mode": {
    "name": "ipython",
    "version": 3
   },
   "file_extension": ".py",
   "mimetype": "text/x-python",
   "name": "python",
   "nbconvert_exporter": "python",
   "pygments_lexer": "ipython3",
   "version": "3.6.15"
  },
  "papermill": {
   "default_parameters": {},
   "duration": 196.161042,
   "end_time": "2022-06-23T20:12:56.538460",
   "environment_variables": {},
   "exception": null,
   "input_path": "2020-08-11-part2.ipynb",
   "output_path": "2020-08-11-part2.ipynb",
   "parameters": {},
   "start_time": "2022-06-23T20:09:40.377418",
   "version": "2.3.3"
  }
 },
 "nbformat": 4,
 "nbformat_minor": 5
}