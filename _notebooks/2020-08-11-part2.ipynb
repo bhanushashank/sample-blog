{
 "cells": [
  {
   "cell_type": "markdown",
   "id": "98380cd3",
   "metadata": {
    "papermill": {
     "duration": 0.030466,
     "end_time": "2022-08-03T20:10:32.949258",
     "exception": false,
     "start_time": "2022-08-03T20:10:32.918792",
     "status": "completed"
    },
    "tags": []
   },
   "source": [
    "# Distinguish Your Own Digits (DYOD)"
   ]
  },
  {
   "cell_type": "markdown",
   "id": "ef31240d",
   "metadata": {
    "papermill": {
     "duration": 0.024194,
     "end_time": "2022-08-03T20:10:32.998083",
     "exception": false,
     "start_time": "2022-08-03T20:10:32.973889",
     "status": "completed"
    },
    "tags": []
   },
   "source": [
    "You are going to write a classifier that distinguishes between the number 3 and number 8."
   ]
  },
  {
   "cell_type": "code",
   "execution_count": 1,
   "id": "b15c8646",
   "metadata": {
    "execution": {
     "iopub.execute_input": "2022-08-03T20:10:33.056553Z",
     "iopub.status.busy": "2022-08-03T20:10:33.054301Z",
     "iopub.status.idle": "2022-08-03T20:10:33.067634Z",
     "shell.execute_reply": "2022-08-03T20:10:33.067131Z"
    },
    "papermill": {
     "duration": 0.045513,
     "end_time": "2022-08-03T20:10:33.067793",
     "exception": false,
     "start_time": "2022-08-03T20:10:33.022280",
     "status": "completed"
    },
    "tags": []
   },
   "outputs": [],
   "source": [
    "%load_ext autoreload\n",
    "%autoreload 2"
   ]
  },
  {
   "cell_type": "code",
   "execution_count": 2,
   "id": "22ef38dc",
   "metadata": {
    "execution": {
     "iopub.execute_input": "2022-08-03T20:10:33.120362Z",
     "iopub.status.busy": "2022-08-03T20:10:33.119777Z",
     "iopub.status.idle": "2022-08-03T20:10:33.661972Z",
     "shell.execute_reply": "2022-08-03T20:10:33.660939Z"
    },
    "papermill": {
     "duration": 0.570153,
     "end_time": "2022-08-03T20:10:33.662108",
     "exception": false,
     "start_time": "2022-08-03T20:10:33.091955",
     "status": "completed"
    },
    "tags": []
   },
   "outputs": [],
   "source": [
    "%matplotlib inline\n",
    "import numpy as np\n",
    "import matplotlib.pyplot as plt\n",
    "import pandas as pd"
   ]
  },
  {
   "cell_type": "markdown",
   "id": "ba036198",
   "metadata": {
    "papermill": {
     "duration": 0.024096,
     "end_time": "2022-08-03T20:10:33.710433",
     "exception": false,
     "start_time": "2022-08-03T20:10:33.686337",
     "status": "completed"
    },
    "tags": []
   },
   "source": [
    "From the command line run `pip install mnist`. This is a library that will help you bring down the mnist dataset. If you run this from a notebook, you need to put  `!pip install mnist` in a cell by itself."
   ]
  },
  {
   "cell_type": "code",
   "execution_count": 3,
   "id": "bb6ad8a1",
   "metadata": {
    "execution": {
     "iopub.execute_input": "2022-08-03T20:10:33.766020Z",
     "iopub.status.busy": "2022-08-03T20:10:33.764506Z",
     "iopub.status.idle": "2022-08-03T20:10:35.365440Z",
     "shell.execute_reply": "2022-08-03T20:10:35.364144Z"
    },
    "papermill": {
     "duration": 1.630768,
     "end_time": "2022-08-03T20:10:35.365570",
     "exception": false,
     "start_time": "2022-08-03T20:10:33.734802",
     "status": "completed"
    },
    "tags": []
   },
   "outputs": [
    {
     "name": "stdout",
     "output_type": "stream",
     "text": [
      "Collecting mnist\r\n",
      "  Downloading mnist-0.2.2-py2.py3-none-any.whl (3.5 kB)\r\n",
      "Requirement already satisfied: numpy in /opt/hostedtoolcache/Python/3.6.15/x64/lib/python3.6/site-packages (from mnist) (1.19.5)\r\n"
     ]
    },
    {
     "name": "stdout",
     "output_type": "stream",
     "text": [
      "Installing collected packages: mnist\r\n"
     ]
    },
    {
     "name": "stdout",
     "output_type": "stream",
     "text": [
      "Successfully installed mnist-0.2.2\r\n"
     ]
    }
   ],
   "source": [
    "!pip install mnist"
   ]
  },
  {
   "cell_type": "markdown",
   "id": "69df9c9a",
   "metadata": {
    "papermill": {
     "duration": 0.025255,
     "end_time": "2022-08-03T20:10:35.415864",
     "exception": false,
     "start_time": "2022-08-03T20:10:35.390609",
     "status": "completed"
    },
    "tags": []
   },
   "source": [
    "## Preparing the Data"
   ]
  },
  {
   "cell_type": "code",
   "execution_count": 4,
   "id": "7f69d806",
   "metadata": {
    "execution": {
     "iopub.execute_input": "2022-08-03T20:10:35.475907Z",
     "iopub.status.busy": "2022-08-03T20:10:35.469103Z",
     "iopub.status.idle": "2022-08-03T20:10:35.485799Z",
     "shell.execute_reply": "2022-08-03T20:10:35.485345Z"
    },
    "papermill": {
     "duration": 0.045353,
     "end_time": "2022-08-03T20:10:35.485916",
     "exception": false,
     "start_time": "2022-08-03T20:10:35.440563",
     "status": "completed"
    },
    "tags": []
   },
   "outputs": [],
   "source": [
    "import mnist"
   ]
  },
  {
   "cell_type": "code",
   "execution_count": 5,
   "id": "a411e44f",
   "metadata": {
    "execution": {
     "iopub.execute_input": "2022-08-03T20:10:35.539900Z",
     "iopub.status.busy": "2022-08-03T20:10:35.539296Z",
     "iopub.status.idle": "2022-08-03T20:10:36.124513Z",
     "shell.execute_reply": "2022-08-03T20:10:36.123799Z"
    },
    "papermill": {
     "duration": 0.613725,
     "end_time": "2022-08-03T20:10:36.124644",
     "exception": false,
     "start_time": "2022-08-03T20:10:35.510919",
     "status": "completed"
    },
    "tags": []
   },
   "outputs": [],
   "source": [
    "train_images = mnist.train_images()\n",
    "train_labels = mnist.train_labels()"
   ]
  },
  {
   "cell_type": "code",
   "execution_count": 6,
   "id": "dceab3a5",
   "metadata": {
    "execution": {
     "iopub.execute_input": "2022-08-03T20:10:36.184275Z",
     "iopub.status.busy": "2022-08-03T20:10:36.183675Z",
     "iopub.status.idle": "2022-08-03T20:10:36.196482Z",
     "shell.execute_reply": "2022-08-03T20:10:36.196007Z"
    },
    "papermill": {
     "duration": 0.046302,
     "end_time": "2022-08-03T20:10:36.196594",
     "exception": false,
     "start_time": "2022-08-03T20:10:36.150292",
     "status": "completed"
    },
    "tags": []
   },
   "outputs": [
    {
     "data": {
      "text/plain": [
       "((60000, 28, 28), (60000,))"
      ]
     },
     "execution_count": 6,
     "metadata": {},
     "output_type": "execute_result"
    }
   ],
   "source": [
    "train_images.shape, train_labels.shape"
   ]
  },
  {
   "cell_type": "code",
   "execution_count": 7,
   "id": "f50dc2bb",
   "metadata": {
    "execution": {
     "iopub.execute_input": "2022-08-03T20:10:36.250703Z",
     "iopub.status.busy": "2022-08-03T20:10:36.250134Z",
     "iopub.status.idle": "2022-08-03T20:10:36.397934Z",
     "shell.execute_reply": "2022-08-03T20:10:36.397337Z"
    },
    "papermill": {
     "duration": 0.176424,
     "end_time": "2022-08-03T20:10:36.398066",
     "exception": false,
     "start_time": "2022-08-03T20:10:36.221642",
     "status": "completed"
    },
    "tags": []
   },
   "outputs": [],
   "source": [
    "test_images = mnist.test_images()\n",
    "test_labels = mnist.test_labels()"
   ]
  },
  {
   "cell_type": "code",
   "execution_count": 8,
   "id": "fc38cf1b",
   "metadata": {
    "execution": {
     "iopub.execute_input": "2022-08-03T20:10:36.453480Z",
     "iopub.status.busy": "2022-08-03T20:10:36.452894Z",
     "iopub.status.idle": "2022-08-03T20:10:36.466653Z",
     "shell.execute_reply": "2022-08-03T20:10:36.467072Z"
    },
    "papermill": {
     "duration": 0.043067,
     "end_time": "2022-08-03T20:10:36.467207",
     "exception": false,
     "start_time": "2022-08-03T20:10:36.424140",
     "status": "completed"
    },
    "tags": []
   },
   "outputs": [
    {
     "data": {
      "text/plain": [
       "((10000, 28, 28), (10000,))"
      ]
     },
     "execution_count": 8,
     "metadata": {},
     "output_type": "execute_result"
    }
   ],
   "source": [
    "test_images.shape, test_labels.shape"
   ]
  },
  {
   "cell_type": "code",
   "execution_count": 9,
   "id": "f9ed8fe0",
   "metadata": {
    "execution": {
     "iopub.execute_input": "2022-08-03T20:10:36.522547Z",
     "iopub.status.busy": "2022-08-03T20:10:36.521972Z",
     "iopub.status.idle": "2022-08-03T20:10:36.661739Z",
     "shell.execute_reply": "2022-08-03T20:10:36.661249Z"
    },
    "papermill": {
     "duration": 0.169136,
     "end_time": "2022-08-03T20:10:36.661856",
     "exception": false,
     "start_time": "2022-08-03T20:10:36.492720",
     "status": "completed"
    },
    "tags": []
   },
   "outputs": [
    {
     "name": "stdout",
     "output_type": "stream",
     "text": [
      "2\n"
     ]
    },
    {
     "data": {
      "text/plain": [
       "<matplotlib.image.AxesImage at 0x7f4aefa474e0>"
      ]
     },
     "execution_count": 9,
     "metadata": {},
     "output_type": "execute_result"
    },
    {
     "data": {
      "image/png": "[encoded data removed]",
      "text/plain": [
       "<Figure size 432x288 with 1 Axes>"
      ]
     },
     "metadata": {
      "needs_background": "light"
     },
     "output_type": "display_data"
    }
   ],
   "source": [
    "image_index = 7776 # You may select anything up to 60,000\n",
    "print(train_labels[image_index]) \n",
    "plt.imshow(train_images[image_index], cmap='Greys')"
   ]
  },
  {
   "cell_type": "markdown",
   "id": "a8d2388d",
   "metadata": {
    "papermill": {
     "duration": 0.026532,
     "end_time": "2022-08-03T20:10:36.716176",
     "exception": false,
     "start_time": "2022-08-03T20:10:36.689644",
     "status": "completed"
    },
    "tags": []
   },
   "source": [
    "## Filter data to get 3 and 8 out"
   ]
  },
  {
   "cell_type": "code",
   "execution_count": 10,
   "id": "776f7fc7",
   "metadata": {
    "execution": {
     "iopub.execute_input": "2022-08-03T20:10:36.776791Z",
     "iopub.status.busy": "2022-08-03T20:10:36.773171Z",
     "iopub.status.idle": "2022-08-03T20:10:36.791776Z",
     "shell.execute_reply": "2022-08-03T20:10:36.791235Z"
    },
    "papermill": {
     "duration": 0.049254,
     "end_time": "2022-08-03T20:10:36.791897",
     "exception": false,
     "start_time": "2022-08-03T20:10:36.742643",
     "status": "completed"
    },
    "tags": []
   },
   "outputs": [],
   "source": [
    "train_filter = np.where((train_labels == 3 ) | (train_labels == 8))\n",
    "test_filter = np.where((test_labels == 3) | (test_labels == 8))\n",
    "X_train, y_train = train_images[train_filter], train_labels[train_filter]\n",
    "X_test, y_test = test_images[test_filter], test_labels[test_filter]"
   ]
  },
  {
   "cell_type": "markdown",
   "id": "948f0b7e",
   "metadata": {
    "papermill": {
     "duration": 0.026402,
     "end_time": "2022-08-03T20:10:36.844870",
     "exception": false,
     "start_time": "2022-08-03T20:10:36.818468",
     "status": "completed"
    },
    "tags": []
   },
   "source": [
    "We normalize the pizel values in the 0 to 1 range"
   ]
  },
  {
   "cell_type": "code",
   "execution_count": 11,
   "id": "ee4c2166",
   "metadata": {
    "execution": {
     "iopub.execute_input": "2022-08-03T20:10:36.901607Z",
     "iopub.status.busy": "2022-08-03T20:10:36.901029Z",
     "iopub.status.idle": "2022-08-03T20:10:36.948440Z",
     "shell.execute_reply": "2022-08-03T20:10:36.948941Z"
    },
    "papermill": {
     "duration": 0.077813,
     "end_time": "2022-08-03T20:10:36.949097",
     "exception": false,
     "start_time": "2022-08-03T20:10:36.871284",
     "status": "completed"
    },
    "tags": []
   },
   "outputs": [],
   "source": [
    "X_train = X_train/255.\n",
    "X_test = X_test/255."
   ]
  },
  {
   "cell_type": "markdown",
   "id": "ddcf4fab",
   "metadata": {
    "papermill": {
     "duration": 0.026553,
     "end_time": "2022-08-03T20:10:37.003771",
     "exception": false,
     "start_time": "2022-08-03T20:10:36.977218",
     "status": "completed"
    },
    "tags": []
   },
   "source": [
    "And setup the labels as 1 (when the digit is 3) and 0 (when the digit is 8)"
   ]
  },
  {
   "cell_type": "code",
   "execution_count": 12,
   "id": "7dc908f2",
   "metadata": {
    "execution": {
     "iopub.execute_input": "2022-08-03T20:10:37.069280Z",
     "iopub.status.busy": "2022-08-03T20:10:37.065823Z",
     "iopub.status.idle": "2022-08-03T20:10:37.075343Z",
     "shell.execute_reply": "2022-08-03T20:10:37.074863Z"
    },
    "papermill": {
     "duration": 0.045274,
     "end_time": "2022-08-03T20:10:37.075463",
     "exception": false,
     "start_time": "2022-08-03T20:10:37.030189",
     "status": "completed"
    },
    "tags": []
   },
   "outputs": [],
   "source": [
    "y_train = 1*(y_train==3)\n",
    "y_test = 1*(y_test==3)"
   ]
  },
  {
   "cell_type": "code",
   "execution_count": 13,
   "id": "01e4e969",
   "metadata": {
    "execution": {
     "iopub.execute_input": "2022-08-03T20:10:37.143474Z",
     "iopub.status.busy": "2022-08-03T20:10:37.132403Z",
     "iopub.status.idle": "2022-08-03T20:10:37.149872Z",
     "shell.execute_reply": "2022-08-03T20:10:37.148988Z"
    },
    "papermill": {
     "duration": 0.047575,
     "end_time": "2022-08-03T20:10:37.149992",
     "exception": false,
     "start_time": "2022-08-03T20:10:37.102417",
     "status": "completed"
    },
    "tags": []
   },
   "outputs": [
    {
     "data": {
      "text/plain": [
       "((11982, 28, 28), (1984, 28, 28))"
      ]
     },
     "execution_count": 13,
     "metadata": {},
     "output_type": "execute_result"
    }
   ],
   "source": [
    "X_train.shape, X_test.shape"
   ]
  },
  {
   "cell_type": "markdown",
   "id": "5ccf3f85",
   "metadata": {
    "papermill": {
     "duration": 0.026742,
     "end_time": "2022-08-03T20:10:37.203420",
     "exception": false,
     "start_time": "2022-08-03T20:10:37.176678",
     "status": "completed"
    },
    "tags": []
   },
   "source": [
    "We reshape the data to flatten the image pixels into a set of features or co-variates:"
   ]
  },
  {
   "cell_type": "code",
   "execution_count": 14,
   "id": "5286a4a3",
   "metadata": {
    "execution": {
     "iopub.execute_input": "2022-08-03T20:10:37.265613Z",
     "iopub.status.busy": "2022-08-03T20:10:37.265039Z",
     "iopub.status.idle": "2022-08-03T20:10:37.279050Z",
     "shell.execute_reply": "2022-08-03T20:10:37.278490Z"
    },
    "papermill": {
     "duration": 0.045073,
     "end_time": "2022-08-03T20:10:37.279159",
     "exception": false,
     "start_time": "2022-08-03T20:10:37.234086",
     "status": "completed"
    },
    "tags": []
   },
   "outputs": [
    {
     "data": {
      "text/plain": [
       "((11982, 784), (1984, 784))"
      ]
     },
     "execution_count": 14,
     "metadata": {},
     "output_type": "execute_result"
    }
   ],
   "source": [
    "X_train = X_train.reshape(X_train.shape[0], -1)\n",
    "X_test = X_test.reshape(X_test.shape[0], -1)\n",
    "X_train.shape, X_test.shape"
   ]
  },
  {
   "cell_type": "code",
   "execution_count": 15,
   "id": "73c5f88a",
   "metadata": {
    "execution": {
     "iopub.execute_input": "2022-08-03T20:10:37.340519Z",
     "iopub.status.busy": "2022-08-03T20:10:37.339900Z",
     "iopub.status.idle": "2022-08-03T20:10:37.358876Z",
     "shell.execute_reply": "2022-08-03T20:10:37.358324Z"
    },
    "papermill": {
     "duration": 0.052744,
     "end_time": "2022-08-03T20:10:37.359003",
     "exception": false,
     "start_time": "2022-08-03T20:10:37.306259",
     "status": "completed"
    },
    "tags": []
   },
   "outputs": [],
   "source": [
    "#Impoting functions from 'Kudzu'\n",
    "from kudzu.model import Model\n",
    "from kudzu.train import Learner\n",
    "from kudzu.optim import GD\n",
    "from kudzu.data import Data, Sampler,Dataloader\n",
    "\n",
    "from kudzu.callbacks import AccCallback\n",
    "from kudzu.callbacks import ClfCallback\n",
    "\n",
    "from kudzu.loss import MSE\n",
    "\n",
    "from kudzu.layer import Sigmoid,Relu\n",
    "from kudzu.layer import Affine"
   ]
  },
  {
   "cell_type": "markdown",
   "id": "bc01172a",
   "metadata": {
    "papermill": {
     "duration": 0.0272,
     "end_time": "2022-08-03T20:10:37.414320",
     "exception": false,
     "start_time": "2022-08-03T20:10:37.387120",
     "status": "completed"
    },
    "tags": []
   },
   "source": [
    "### Let us create a `Config` class, to store important parameters. \n",
    "This class essentially plays the role of a dictionary."
   ]
  },
  {
   "cell_type": "code",
   "execution_count": 16,
   "id": "978281aa",
   "metadata": {
    "execution": {
     "iopub.execute_input": "2022-08-03T20:10:37.472691Z",
     "iopub.status.busy": "2022-08-03T20:10:37.472094Z",
     "iopub.status.idle": "2022-08-03T20:10:37.485394Z",
     "shell.execute_reply": "2022-08-03T20:10:37.484918Z"
    },
    "papermill": {
     "duration": 0.044184,
     "end_time": "2022-08-03T20:10:37.485504",
     "exception": false,
     "start_time": "2022-08-03T20:10:37.441320",
     "status": "completed"
    },
    "tags": []
   },
   "outputs": [],
   "source": [
    "class Config:\n",
    "    pass\n",
    "config = Config()\n",
    "config.lr = 0.001\n",
    "config.num_epochs = 250\n",
    "config.bs = 50"
   ]
  },
  {
   "cell_type": "markdown",
   "id": "1385fa59",
   "metadata": {
    "papermill": {
     "duration": 0.026928,
     "end_time": "2022-08-03T20:10:37.539608",
     "exception": false,
     "start_time": "2022-08-03T20:10:37.512680",
     "status": "completed"
    },
    "tags": []
   },
   "source": [
    "### Running Models with the Training data\n",
    "Details about the network layers:\n",
    "- A first affine layer has 784 inputs and does 100 affine transforms. These are followed by a Relu\n",
    "- A second affine layer has 100 inputs from the 100 activations of the past layer, and does 100 affine transforms. These are followed by a Relu\n",
    "- A third affine layer has 100 activations and does 2 affine transformations to create an embedding for visualization. There is no non-linearity here.\n",
    "- A final \"logistic regression\" which has an affine transform from 2 inputs to 1 output, which is squeezed through a sigmoid.\n"
   ]
  },
  {
   "cell_type": "code",
   "execution_count": 17,
   "id": "2b9c66db",
   "metadata": {
    "execution": {
     "iopub.execute_input": "2022-08-03T20:10:37.598380Z",
     "iopub.status.busy": "2022-08-03T20:10:37.597799Z",
     "iopub.status.idle": "2022-08-03T20:10:37.611068Z",
     "shell.execute_reply": "2022-08-03T20:10:37.610584Z"
    },
    "papermill": {
     "duration": 0.044395,
     "end_time": "2022-08-03T20:10:37.611183",
     "exception": false,
     "start_time": "2022-08-03T20:10:37.566788",
     "status": "completed"
    },
    "tags": []
   },
   "outputs": [],
   "source": [
    "data = Data(X_train, y_train.reshape(-1,1))\n",
    "sampler = Sampler(data, config.bs, shuffle=True)\n",
    "\n",
    "dl = Dataloader(data, sampler)\n",
    "\n",
    "opt = GD(config.lr)\n",
    "loss = MSE()"
   ]
  },
  {
   "cell_type": "code",
   "execution_count": 18,
   "id": "b275e4c2",
   "metadata": {
    "execution": {
     "iopub.execute_input": "2022-08-03T20:10:37.670623Z",
     "iopub.status.busy": "2022-08-03T20:10:37.670004Z",
     "iopub.status.idle": "2022-08-03T20:10:37.682661Z",
     "shell.execute_reply": "2022-08-03T20:10:37.681961Z"
    },
    "papermill": {
     "duration": 0.044378,
     "end_time": "2022-08-03T20:10:37.682797",
     "exception": false,
     "start_time": "2022-08-03T20:10:37.638419",
     "status": "completed"
    },
    "tags": []
   },
   "outputs": [],
   "source": [
    "training_data_x = X_train\n",
    "testing_data_x = X_test\n",
    "training_data_y = y_train.reshape(-1,1)\n",
    "testing_data_y = y_test.reshape(-1,1)"
   ]
  },
  {
   "cell_type": "code",
   "execution_count": 19,
   "id": "76951160",
   "metadata": {
    "execution": {
     "iopub.execute_input": "2022-08-03T20:10:37.744432Z",
     "iopub.status.busy": "2022-08-03T20:10:37.743816Z",
     "iopub.status.idle": "2022-08-03T20:10:37.759384Z",
     "shell.execute_reply": "2022-08-03T20:10:37.758909Z"
    },
    "papermill": {
     "duration": 0.049512,
     "end_time": "2022-08-03T20:10:37.759500",
     "exception": false,
     "start_time": "2022-08-03T20:10:37.709988",
     "status": "completed"
    },
    "tags": []
   },
   "outputs": [
    {
     "name": "stdout",
     "output_type": "stream",
     "text": [
      "xavier\n",
      "xavier\n",
      "xavier\n",
      "xavier\n",
      "xavier\n"
     ]
    }
   ],
   "source": [
    "layers = [Affine(\"first\", 784, 100), Relu(\"first\"), Affine(\"second\", 100, 100), Relu(\"second\"), Affine(\"third\", 100, 2), Affine(\"last\", 2, 1), Sigmoid(\"last\")]\n",
    "model_nn = Model(layers)\n",
    "model_lr = Model([Affine(\"logits\", 784, 1), Sigmoid(\"sigmoid\")])"
   ]
  },
  {
   "cell_type": "code",
   "execution_count": 20,
   "id": "6eede77a",
   "metadata": {
    "execution": {
     "iopub.execute_input": "2022-08-03T20:10:37.818554Z",
     "iopub.status.busy": "2022-08-03T20:10:37.817971Z",
     "iopub.status.idle": "2022-08-03T20:10:37.831425Z",
     "shell.execute_reply": "2022-08-03T20:10:37.830955Z"
    },
    "papermill": {
     "duration": 0.044603,
     "end_time": "2022-08-03T20:10:37.831537",
     "exception": false,
     "start_time": "2022-08-03T20:10:37.786934",
     "status": "completed"
    },
    "tags": []
   },
   "outputs": [],
   "source": [
    "nn_learner = Learner(loss, model_nn, opt, config.num_epochs)\n",
    "acc_nn = ClfCallback(nn_learner, config.bs, training_data_x , testing_data_x, training_data_y, testing_data_y)\n",
    "nn_learner.set_callbacks([acc_nn])"
   ]
  },
  {
   "cell_type": "code",
   "execution_count": 21,
   "id": "877b6cc7",
   "metadata": {
    "execution": {
     "iopub.execute_input": "2022-08-03T20:10:37.889264Z",
     "iopub.status.busy": "2022-08-03T20:10:37.888666Z",
     "iopub.status.idle": "2022-08-03T20:10:37.902729Z",
     "shell.execute_reply": "2022-08-03T20:10:37.903173Z"
    },
    "papermill": {
     "duration": 0.044485,
     "end_time": "2022-08-03T20:10:37.903302",
     "exception": false,
     "start_time": "2022-08-03T20:10:37.858817",
     "status": "completed"
    },
    "tags": []
   },
   "outputs": [],
   "source": [
    "lr_learner = Learner(loss, model_lr, opt, config.num_epochs)\n",
    "acc_lr = ClfCallback(lr_learner, config.bs, training_data_x , testing_data_x, training_data_y, testing_data_y)\n",
    "lr_learner.set_callbacks([acc_lr])"
   ]
  },
  {
   "cell_type": "code",
   "execution_count": 22,
   "id": "d9b133c3",
   "metadata": {
    "execution": {
     "iopub.execute_input": "2022-08-03T20:10:37.961835Z",
     "iopub.status.busy": "2022-08-03T20:10:37.961263Z",
     "iopub.status.idle": "2022-08-03T20:11:54.017716Z",
     "shell.execute_reply": "2022-08-03T20:11:54.018540Z"
    },
    "papermill": {
     "duration": 76.08799,
     "end_time": "2022-08-03T20:11:54.018689",
     "exception": false,
     "start_time": "2022-08-03T20:10:37.930699",
     "status": "completed"
    },
    "tags": []
   },
   "outputs": [
    {
     "name": "stdout",
     "output_type": "stream",
     "text": [
      "Epoch 0, Loss 0.2034\n",
      "Training Accuracy: 0.8085, Testing Accuracy: 0.8065\n",
      "\n"
     ]
    },
    {
     "name": "stdout",
     "output_type": "stream",
     "text": [
      "Epoch 10, Loss 0.0676\n",
      "Training Accuracy: 0.9288, Testing Accuracy: 0.9410\n",
      "\n"
     ]
    },
    {
     "name": "stdout",
     "output_type": "stream",
     "text": [
      "Epoch 20, Loss 0.0471\n",
      "Training Accuracy: 0.9479, Testing Accuracy: 0.9556\n",
      "\n"
     ]
    },
    {
     "name": "stdout",
     "output_type": "stream",
     "text": [
      "Epoch 30, Loss 0.0389\n",
      "Training Accuracy: 0.9566, Testing Accuracy: 0.9637\n",
      "\n"
     ]
    },
    {
     "name": "stdout",
     "output_type": "stream",
     "text": [
      "Epoch 40, Loss 0.0344\n",
      "Training Accuracy: 0.9612, Testing Accuracy: 0.9688\n",
      "\n"
     ]
    },
    {
     "name": "stdout",
     "output_type": "stream",
     "text": [
      "Epoch 50, Loss 0.0316\n",
      "Training Accuracy: 0.9652, Testing Accuracy: 0.9703\n",
      "\n"
     ]
    },
    {
     "name": "stdout",
     "output_type": "stream",
     "text": [
      "Epoch 60, Loss 0.0295\n",
      "Training Accuracy: 0.9671, Testing Accuracy: 0.9713\n",
      "\n"
     ]
    },
    {
     "name": "stdout",
     "output_type": "stream",
     "text": [
      "Epoch 70, Loss 0.028\n",
      "Training Accuracy: 0.9685, Testing Accuracy: 0.9703\n",
      "\n"
     ]
    },
    {
     "name": "stdout",
     "output_type": "stream",
     "text": [
      "Epoch 80, Loss 0.0267\n",
      "Training Accuracy: 0.9697, Testing Accuracy: 0.9708\n",
      "\n"
     ]
    },
    {
     "name": "stdout",
     "output_type": "stream",
     "text": [
      "Epoch 90, Loss 0.0256\n",
      "Training Accuracy: 0.9708, Testing Accuracy: 0.9713\n",
      "\n"
     ]
    },
    {
     "name": "stdout",
     "output_type": "stream",
     "text": [
      "Epoch 100, Loss 0.0247\n",
      "Training Accuracy: 0.9713, Testing Accuracy: 0.9703\n",
      "\n"
     ]
    },
    {
     "name": "stdout",
     "output_type": "stream",
     "text": [
      "Epoch 110, Loss 0.0239\n",
      "Training Accuracy: 0.9723, Testing Accuracy: 0.9698\n",
      "\n"
     ]
    },
    {
     "name": "stdout",
     "output_type": "stream",
     "text": [
      "Epoch 120, Loss 0.0232\n",
      "Training Accuracy: 0.9727, Testing Accuracy: 0.9698\n",
      "\n"
     ]
    },
    {
     "name": "stdout",
     "output_type": "stream",
     "text": [
      "Epoch 130, Loss 0.0225\n",
      "Training Accuracy: 0.9737, Testing Accuracy: 0.9703\n",
      "\n"
     ]
    },
    {
     "name": "stdout",
     "output_type": "stream",
     "text": [
      "Epoch 140, Loss 0.0219\n",
      "Training Accuracy: 0.9742, Testing Accuracy: 0.9703\n",
      "\n"
     ]
    },
    {
     "name": "stdout",
     "output_type": "stream",
     "text": [
      "Epoch 150, Loss 0.0213\n",
      "Training Accuracy: 0.9745, Testing Accuracy: 0.9698\n",
      "\n"
     ]
    },
    {
     "name": "stdout",
     "output_type": "stream",
     "text": [
      "Epoch 160, Loss 0.0208\n",
      "Training Accuracy: 0.9752, Testing Accuracy: 0.9698\n",
      "\n"
     ]
    },
    {
     "name": "stdout",
     "output_type": "stream",
     "text": [
      "Epoch 170, Loss 0.0202\n",
      "Training Accuracy: 0.9758, Testing Accuracy: 0.9713\n",
      "\n"
     ]
    },
    {
     "name": "stdout",
     "output_type": "stream",
     "text": [
      "Epoch 180, Loss 0.0197\n",
      "Training Accuracy: 0.9765, Testing Accuracy: 0.9708\n",
      "\n"
     ]
    },
    {
     "name": "stdout",
     "output_type": "stream",
     "text": [
      "Epoch 190, Loss 0.0193\n",
      "Training Accuracy: 0.9771, Testing Accuracy: 0.9713\n",
      "\n"
     ]
    },
    {
     "name": "stdout",
     "output_type": "stream",
     "text": [
      "Epoch 200, Loss 0.0188\n",
      "Training Accuracy: 0.9776, Testing Accuracy: 0.9708\n",
      "\n"
     ]
    },
    {
     "name": "stdout",
     "output_type": "stream",
     "text": [
      "Epoch 210, Loss 0.0184\n",
      "Training Accuracy: 0.9784, Testing Accuracy: 0.9718\n",
      "\n"
     ]
    },
    {
     "name": "stdout",
     "output_type": "stream",
     "text": [
      "Epoch 220, Loss 0.018\n",
      "Training Accuracy: 0.9794, Testing Accuracy: 0.9723\n",
      "\n"
     ]
    },
    {
     "name": "stdout",
     "output_type": "stream",
     "text": [
      "Epoch 230, Loss 0.0176\n",
      "Training Accuracy: 0.9801, Testing Accuracy: 0.9728\n",
      "\n"
     ]
    },
    {
     "name": "stdout",
     "output_type": "stream",
     "text": [
      "Epoch 240, Loss 0.0172\n",
      "Training Accuracy: 0.9810, Testing Accuracy: 0.9733\n",
      "\n"
     ]
    },
    {
     "data": {
      "text/plain": [
       "0.07015250703702952"
      ]
     },
     "execution_count": 22,
     "metadata": {},
     "output_type": "execute_result"
    }
   ],
   "source": [
    "nn_learner.train_loop(dl)"
   ]
  },
  {
   "cell_type": "code",
   "execution_count": 23,
   "id": "e0163366",
   "metadata": {
    "execution": {
     "iopub.execute_input": "2022-08-03T20:11:54.099781Z",
     "iopub.status.busy": "2022-08-03T20:11:54.099157Z",
     "iopub.status.idle": "2022-08-03T20:12:07.892299Z",
     "shell.execute_reply": "2022-08-03T20:12:07.893132Z"
    },
    "papermill": {
     "duration": 13.839351,
     "end_time": "2022-08-03T20:12:07.893277",
     "exception": false,
     "start_time": "2022-08-03T20:11:54.053926",
     "status": "completed"
    },
    "tags": []
   },
   "outputs": [
    {
     "name": "stdout",
     "output_type": "stream",
     "text": [
      "Epoch 0, Loss 0.2347\n",
      "Training Accuracy: 0.7119, Testing Accuracy: 0.7011\n",
      "\n"
     ]
    },
    {
     "name": "stdout",
     "output_type": "stream",
     "text": [
      "Epoch 10, Loss 0.1054\n",
      "Training Accuracy: 0.9038, Testing Accuracy: 0.9168\n",
      "\n"
     ]
    },
    {
     "name": "stdout",
     "output_type": "stream",
     "text": [
      "Epoch 20, Loss 0.081\n",
      "Training Accuracy: 0.9250, Testing Accuracy: 0.9380\n",
      "\n"
     ]
    },
    {
     "name": "stdout",
     "output_type": "stream",
     "text": [
      "Epoch 30, Loss 0.0694\n",
      "Training Accuracy: 0.9338, Testing Accuracy: 0.9476\n",
      "\n"
     ]
    },
    {
     "name": "stdout",
     "output_type": "stream",
     "text": [
      "Epoch 40, Loss 0.0625\n",
      "Training Accuracy: 0.9397, Testing Accuracy: 0.9536\n",
      "\n"
     ]
    },
    {
     "name": "stdout",
     "output_type": "stream",
     "text": [
      "Epoch 50, Loss 0.0578\n",
      "Training Accuracy: 0.9441, Testing Accuracy: 0.9541\n",
      "\n"
     ]
    },
    {
     "name": "stdout",
     "output_type": "stream",
     "text": [
      "Epoch 60, Loss 0.0543\n",
      "Training Accuracy: 0.9463, Testing Accuracy: 0.9561\n",
      "\n"
     ]
    },
    {
     "name": "stdout",
     "output_type": "stream",
     "text": [
      "Epoch 70, Loss 0.0516\n",
      "Training Accuracy: 0.9490, Testing Accuracy: 0.9592\n",
      "\n"
     ]
    },
    {
     "name": "stdout",
     "output_type": "stream",
     "text": [
      "Epoch 80, Loss 0.0495\n",
      "Training Accuracy: 0.9504, Testing Accuracy: 0.9607\n",
      "\n"
     ]
    },
    {
     "name": "stdout",
     "output_type": "stream",
     "text": [
      "Epoch 90, Loss 0.0477\n",
      "Training Accuracy: 0.9519, Testing Accuracy: 0.9617\n",
      "\n"
     ]
    },
    {
     "name": "stdout",
     "output_type": "stream",
     "text": [
      "Epoch 100, Loss 0.0463\n",
      "Training Accuracy: 0.9532, Testing Accuracy: 0.9642\n",
      "\n"
     ]
    },
    {
     "name": "stdout",
     "output_type": "stream",
     "text": [
      "Epoch 110, Loss 0.045\n",
      "Training Accuracy: 0.9548, Testing Accuracy: 0.9647\n",
      "\n"
     ]
    },
    {
     "name": "stdout",
     "output_type": "stream",
     "text": [
      "Epoch 120, Loss 0.0439\n",
      "Training Accuracy: 0.9554, Testing Accuracy: 0.9662\n",
      "\n"
     ]
    },
    {
     "name": "stdout",
     "output_type": "stream",
     "text": [
      "Epoch 130, Loss 0.043\n",
      "Training Accuracy: 0.9561, Testing Accuracy: 0.9662\n",
      "\n"
     ]
    },
    {
     "name": "stdout",
     "output_type": "stream",
     "text": [
      "Epoch 140, Loss 0.0421\n",
      "Training Accuracy: 0.9567, Testing Accuracy: 0.9667\n",
      "\n"
     ]
    },
    {
     "name": "stdout",
     "output_type": "stream",
     "text": [
      "Epoch 150, Loss 0.0414\n",
      "Training Accuracy: 0.9577, Testing Accuracy: 0.9667\n",
      "\n"
     ]
    },
    {
     "name": "stdout",
     "output_type": "stream",
     "text": [
      "Epoch 160, Loss 0.0407\n",
      "Training Accuracy: 0.9581, Testing Accuracy: 0.9672\n",
      "\n"
     ]
    },
    {
     "name": "stdout",
     "output_type": "stream",
     "text": [
      "Epoch 170, Loss 0.0401\n",
      "Training Accuracy: 0.9586, Testing Accuracy: 0.9677\n",
      "\n"
     ]
    },
    {
     "name": "stdout",
     "output_type": "stream",
     "text": [
      "Epoch 180, Loss 0.0395\n",
      "Training Accuracy: 0.9588, Testing Accuracy: 0.9672\n",
      "\n"
     ]
    },
    {
     "name": "stdout",
     "output_type": "stream",
     "text": [
      "Epoch 190, Loss 0.039\n",
      "Training Accuracy: 0.9591, Testing Accuracy: 0.9677\n",
      "\n"
     ]
    },
    {
     "name": "stdout",
     "output_type": "stream",
     "text": [
      "Epoch 200, Loss 0.0385\n",
      "Training Accuracy: 0.9596, Testing Accuracy: 0.9677\n",
      "\n"
     ]
    },
    {
     "name": "stdout",
     "output_type": "stream",
     "text": [
      "Epoch 210, Loss 0.038\n",
      "Training Accuracy: 0.9600, Testing Accuracy: 0.9672\n",
      "\n"
     ]
    },
    {
     "name": "stdout",
     "output_type": "stream",
     "text": [
      "Epoch 220, Loss 0.0376\n",
      "Training Accuracy: 0.9604, Testing Accuracy: 0.9672\n",
      "\n"
     ]
    },
    {
     "name": "stdout",
     "output_type": "stream",
     "text": [
      "Epoch 230, Loss 0.0372\n",
      "Training Accuracy: 0.9604, Testing Accuracy: 0.9672\n",
      "\n"
     ]
    },
    {
     "name": "stdout",
     "output_type": "stream",
     "text": [
      "Epoch 240, Loss 0.0369\n",
      "Training Accuracy: 0.9609, Testing Accuracy: 0.9677\n",
      "\n"
     ]
    },
    {
     "data": {
      "text/plain": [
       "0.03101367529350705"
      ]
     },
     "execution_count": 23,
     "metadata": {},
     "output_type": "execute_result"
    }
   ],
   "source": [
    "lr_learner.train_loop(dl)"
   ]
  },
  {
   "cell_type": "code",
   "execution_count": 24,
   "id": "ca410940",
   "metadata": {
    "execution": {
     "iopub.execute_input": "2022-08-03T20:12:07.985982Z",
     "iopub.status.busy": "2022-08-03T20:12:07.985328Z",
     "iopub.status.idle": "2022-08-03T20:12:08.213580Z",
     "shell.execute_reply": "2022-08-03T20:12:08.214053Z"
    },
    "papermill": {
     "duration": 0.278873,
     "end_time": "2022-08-03T20:12:08.214198",
     "exception": false,
     "start_time": "2022-08-03T20:12:07.935325",
     "status": "completed"
    },
    "tags": []
   },
   "outputs": [
    {
     "data": {
      "text/plain": [
       "<matplotlib.legend.Legend at 0x7f4aef5a8b00>"
      ]
     },
     "execution_count": 24,
     "metadata": {},
     "output_type": "execute_result"
    },
    {
     "data": {
      "image/png": "[encoded data removed]",
      "text/plain": [
       "<Figure size 1080x720 with 1 Axes>"
      ]
     },
     "metadata": {
      "needs_background": "light"
     },
     "output_type": "display_data"
    }
   ],
   "source": [
    "#comparing the results of NN and LR\n",
    "plt.figure(figsize=(15,10))\n",
    "\n",
    "# Neural Network plots\n",
    "plt.plot(acc_nn.accuracies, 'r-', label = \"Training Accuracies - NN\")\n",
    "plt.plot(acc_nn.test_accuracies, 'g-', label = \"Testing Accuracies - NN\")\n",
    "\n",
    "# Logistic Regression plots\n",
    "plt.plot(acc_lr.accuracies, 'k-', label = \"Training Accuracies - LR\")\n",
    "plt.plot(acc_lr.test_accuracies, 'b-', label = \"Testing Accuracies - LR\")\n",
    "plt.legend()"
   ]
  },
  {
   "cell_type": "markdown",
   "id": "80dfb35c",
   "metadata": {
    "papermill": {
     "duration": 0.042413,
     "end_time": "2022-08-03T20:12:08.299952",
     "exception": false,
     "start_time": "2022-08-03T20:12:08.257539",
     "status": "completed"
    },
    "tags": []
   },
   "source": [
    "#### Plotting the outputs of this layer of the NN.\n"
   ]
  },
  {
   "cell_type": "code",
   "execution_count": 25,
   "id": "45eb2ff5",
   "metadata": {
    "execution": {
     "iopub.execute_input": "2022-08-03T20:12:08.392911Z",
     "iopub.status.busy": "2022-08-03T20:12:08.389193Z",
     "iopub.status.idle": "2022-08-03T20:12:08.410962Z",
     "shell.execute_reply": "2022-08-03T20:12:08.411438Z"
    },
    "papermill": {
     "duration": 0.068556,
     "end_time": "2022-08-03T20:12:08.411576",
     "exception": false,
     "start_time": "2022-08-03T20:12:08.343020",
     "status": "completed"
    },
    "tags": []
   },
   "outputs": [],
   "source": [
    "new_model = Model(layers[:-2])\n",
    "testing_plot = new_model(testing_data_x)"
   ]
  },
  {
   "cell_type": "code",
   "execution_count": 26,
   "id": "4c0a5485",
   "metadata": {
    "execution": {
     "iopub.execute_input": "2022-08-03T20:12:08.501941Z",
     "iopub.status.busy": "2022-08-03T20:12:08.501343Z",
     "iopub.status.idle": "2022-08-03T20:12:08.719443Z",
     "shell.execute_reply": "2022-08-03T20:12:08.718532Z"
    },
    "papermill": {
     "duration": 0.26496,
     "end_time": "2022-08-03T20:12:08.719573",
     "exception": false,
     "start_time": "2022-08-03T20:12:08.454613",
     "status": "completed"
    },
    "tags": []
   },
   "outputs": [
    {
     "data": {
      "text/plain": [
       "Text(0.5, 1.0, 'Outputs')"
      ]
     },
     "execution_count": 26,
     "metadata": {},
     "output_type": "execute_result"
    },
    {
     "data": {
      "image/png": "[encoded data removed]",
      "text/plain": [
       "<Figure size 576x504 with 1 Axes>"
      ]
     },
     "metadata": {
      "needs_background": "light"
     },
     "output_type": "display_data"
    }
   ],
   "source": [
    "# Plotting the scatter plot of points and color coding by class\n",
    "plt.figure(figsize=(8,7))\n",
    "plt.scatter(testing_plot[:,0], testing_plot[:,1], alpha = 0.1, c = y_test.ravel());\n",
    "plt.title('Outputs')"
   ]
  },
  {
   "cell_type": "markdown",
   "id": "a74fcf8f",
   "metadata": {
    "papermill": {
     "duration": 0.04566,
     "end_time": "2022-08-03T20:12:08.811112",
     "exception": false,
     "start_time": "2022-08-03T20:12:08.765452",
     "status": "completed"
    },
    "tags": []
   },
   "source": [
    "Probability contours"
   ]
  },
  {
   "cell_type": "code",
   "execution_count": 27,
   "id": "d0afc8e3",
   "metadata": {
    "execution": {
     "iopub.execute_input": "2022-08-03T20:12:08.907071Z",
     "iopub.status.busy": "2022-08-03T20:12:08.906387Z",
     "iopub.status.idle": "2022-08-03T20:12:08.918621Z",
     "shell.execute_reply": "2022-08-03T20:12:08.918032Z"
    },
    "papermill": {
     "duration": 0.061834,
     "end_time": "2022-08-03T20:12:08.918739",
     "exception": false,
     "start_time": "2022-08-03T20:12:08.856905",
     "status": "completed"
    },
    "tags": []
   },
   "outputs": [],
   "source": [
    "model_prob = Model(layers[-2:]) "
   ]
  },
  {
   "cell_type": "code",
   "execution_count": 28,
   "id": "9b96e238",
   "metadata": {
    "execution": {
     "iopub.execute_input": "2022-08-03T20:12:09.015713Z",
     "iopub.status.busy": "2022-08-03T20:12:09.015109Z",
     "iopub.status.idle": "2022-08-03T20:12:09.028226Z",
     "shell.execute_reply": "2022-08-03T20:12:09.028654Z"
    },
    "papermill": {
     "duration": 0.064444,
     "end_time": "2022-08-03T20:12:09.028794",
     "exception": false,
     "start_time": "2022-08-03T20:12:08.964350",
     "status": "completed"
    },
    "tags": []
   },
   "outputs": [],
   "source": [
    "#creating the x and y ranges according to the above generated plot.\n",
    "x_range = np.linspace(-4, 1, 100) \n",
    "y_range = np.linspace(-6, 6, 100) \n",
    "x_grid, y_grid = np.meshgrid(x_range, y_range) # x_grid and y_grig are of size 100 X 100\n",
    "\n",
    "# converting x_grid and y_grid to continuous arrays\n",
    "x_gridflat = np.ravel(x_grid)\n",
    "y_gridflat = np.ravel(y_grid)\n",
    "\n",
    "# The last layer of the current model takes two columns as input. Hence transpose of np.vstack() is required.\n",
    "X = np.vstack((x_gridflat, y_gridflat)).T\n",
    "\n",
    "prob_contour = model_prob(X).reshape(100,100) "
   ]
  },
  {
   "cell_type": "code",
   "execution_count": 29,
   "id": "da72499a",
   "metadata": {
    "execution": {
     "iopub.execute_input": "2022-08-03T20:12:09.154991Z",
     "iopub.status.busy": "2022-08-03T20:12:09.154306Z",
     "iopub.status.idle": "2022-08-03T20:12:09.403016Z",
     "shell.execute_reply": "2022-08-03T20:12:09.402517Z"
    },
    "papermill": {
     "duration": 0.298872,
     "end_time": "2022-08-03T20:12:09.403133",
     "exception": false,
     "start_time": "2022-08-03T20:12:09.104261",
     "status": "completed"
    },
    "tags": []
   },
   "outputs": [
    {
     "data": {
      "image/png": "[encoded data removed]",
      "text/plain": [
       "<Figure size 720x648 with 1 Axes>"
      ]
     },
     "metadata": {
      "needs_background": "light"
     },
     "output_type": "display_data"
    }
   ],
   "source": [
    "plt.figure(figsize=(10,9))\n",
    "plt.scatter(testing_plot[:,0], testing_plot[:,1], alpha = 0.1, c = y_test.ravel())\n",
    "contours = plt.contour(x_grid,y_grid,prob_contour)\n",
    "plt.title('Probability Contours')\n",
    "plt.clabel(contours, inline = True );"
   ]
  },
  {
   "cell_type": "code",
   "execution_count": null,
   "id": "e81b4ac7",
   "metadata": {
    "papermill": {
     "duration": 0.048322,
     "end_time": "2022-08-03T20:12:09.500220",
     "exception": false,
     "start_time": "2022-08-03T20:12:09.451898",
     "status": "completed"
    },
    "tags": []
   },
   "outputs": [],
   "source": []
  }
 ],
 "metadata": {
  "kernelspec": {
   "display_name": "Python 3",
   "language": "python",
   "name": "python3"
  },
  "language_info": {
   "codemirror_mode": {
    "name": "ipython",
    "version": 3
   },
   "file_extension": ".py",
   "mimetype": "text/x-python",
   "name": "python",
   "nbconvert_exporter": "python",
   "pygments_lexer": "ipython3",
   "version": "3.6.15"
  },
  "papermill": {
   "default_parameters": {},
   "duration": 97.994296,
   "end_time": "2022-08-03T20:12:09.968324",
   "environment_variables": {},
   "exception": null,
   "input_path": "2020-08-11-part2.ipynb",
   "output_path": "2020-08-11-part2.ipynb",
   "parameters": {},
   "start_time": "2022-08-03T20:10:31.974028",
   "version": "2.3.3"
  }
 },
 "nbformat": 4,
 "nbformat_minor": 5
}