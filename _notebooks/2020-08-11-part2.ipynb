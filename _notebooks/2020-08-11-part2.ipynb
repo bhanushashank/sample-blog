{
 "cells": [
  {
   "cell_type": "markdown",
   "id": "98380cd3",
   "metadata": {
    "papermill": {
     "duration": 0.028453,
     "end_time": "2021-09-11T00:20:39.641553",
     "exception": false,
     "start_time": "2021-09-11T00:20:39.613100",
     "status": "completed"
    },
    "tags": []
   },
   "source": [
    "# Distinguish Your Own Digits (DYOD)"
   ]
  },
  {
   "cell_type": "markdown",
   "id": "ef31240d",
   "metadata": {
    "papermill": {
     "duration": 0.020721,
     "end_time": "2021-09-11T00:20:39.685579",
     "exception": false,
     "start_time": "2021-09-11T00:20:39.664858",
     "status": "completed"
    },
    "tags": []
   },
   "source": [
    "You are going to write a classifier that distinguishes between the number 3 and number 8."
   ]
  },
  {
   "cell_type": "code",
   "execution_count": 1,
   "id": "b15c8646",
   "metadata": {
    "execution": {
     "iopub.execute_input": "2021-09-11T00:20:39.748217Z",
     "iopub.status.busy": "2021-09-11T00:20:39.747404Z",
     "iopub.status.idle": "2021-09-11T00:20:39.758811Z",
     "shell.execute_reply": "2021-09-11T00:20:39.758337Z"
    },
    "papermill": {
     "duration": 0.050517,
     "end_time": "2021-09-11T00:20:39.758932",
     "exception": false,
     "start_time": "2021-09-11T00:20:39.708415",
     "status": "completed"
    },
    "tags": []
   },
   "outputs": [],
   "source": [
    "%load_ext autoreload\n",
    "%autoreload 2"
   ]
  },
  {
   "cell_type": "code",
   "execution_count": 2,
   "id": "22ef38dc",
   "metadata": {
    "execution": {
     "iopub.execute_input": "2021-09-11T00:20:39.808496Z",
     "iopub.status.busy": "2021-09-11T00:20:39.808068Z",
     "iopub.status.idle": "2021-09-11T00:20:40.292369Z",
     "shell.execute_reply": "2021-09-11T00:20:40.291873Z"
    },
    "papermill": {
     "duration": 0.510426,
     "end_time": "2021-09-11T00:20:40.292508",
     "exception": false,
     "start_time": "2021-09-11T00:20:39.782082",
     "status": "completed"
    },
    "tags": []
   },
   "outputs": [],
   "source": [
    "%matplotlib inline\n",
    "import numpy as np\n",
    "import matplotlib.pyplot as plt\n",
    "import pandas as pd"
   ]
  },
  {
   "cell_type": "markdown",
   "id": "ba036198",
   "metadata": {
    "papermill": {
     "duration": 0.024908,
     "end_time": "2021-09-11T00:20:40.340858",
     "exception": false,
     "start_time": "2021-09-11T00:20:40.315950",
     "status": "completed"
    },
    "tags": []
   },
   "source": [
    "From the command line run `pip install mnist`. This is a library that will help you bring down the mnist dataset. If you run this from a notebook, you need to put  `!pip install mnist` in a cell by itself."
   ]
  },
  {
   "cell_type": "code",
   "execution_count": 3,
   "id": "bb6ad8a1",
   "metadata": {
    "execution": {
     "iopub.execute_input": "2021-09-11T00:20:40.390553Z",
     "iopub.status.busy": "2021-09-11T00:20:40.390010Z",
     "iopub.status.idle": "2021-09-11T00:20:41.934861Z",
     "shell.execute_reply": "2021-09-11T00:20:41.933985Z"
    },
    "papermill": {
     "duration": 1.571471,
     "end_time": "2021-09-11T00:20:41.935076",
     "exception": false,
     "start_time": "2021-09-11T00:20:40.363605",
     "status": "completed"
    },
    "tags": []
   },
   "outputs": [
    {
     "name": "stdout",
     "output_type": "stream",
     "text": [
      "Collecting mnist\r\n"
     ]
    },
    {
     "name": "stdout",
     "output_type": "stream",
     "text": [
      "  Downloading mnist-0.2.2-py2.py3-none-any.whl (3.5 kB)\r\n",
      "Requirement already satisfied: numpy in /opt/hostedtoolcache/Python/3.6.14/x64/lib/python3.6/site-packages (from mnist) (1.19.5)\r\n"
     ]
    },
    {
     "name": "stdout",
     "output_type": "stream",
     "text": [
      "Installing collected packages: mnist\r\n",
      "Successfully installed mnist-0.2.2\r\n"
     ]
    }
   ],
   "source": [
    "!pip install mnist"
   ]
  },
  {
   "cell_type": "markdown",
   "id": "69df9c9a",
   "metadata": {
    "papermill": {
     "duration": 0.022159,
     "end_time": "2021-09-11T00:20:41.983686",
     "exception": false,
     "start_time": "2021-09-11T00:20:41.961527",
     "status": "completed"
    },
    "tags": []
   },
   "source": [
    "## Preparing the Data"
   ]
  },
  {
   "cell_type": "code",
   "execution_count": 4,
   "id": "7f69d806",
   "metadata": {
    "execution": {
     "iopub.execute_input": "2021-09-11T00:20:42.032538Z",
     "iopub.status.busy": "2021-09-11T00:20:42.031441Z",
     "iopub.status.idle": "2021-09-11T00:20:42.047384Z",
     "shell.execute_reply": "2021-09-11T00:20:42.046972Z"
    },
    "papermill": {
     "duration": 0.042181,
     "end_time": "2021-09-11T00:20:42.047483",
     "exception": false,
     "start_time": "2021-09-11T00:20:42.005302",
     "status": "completed"
    },
    "tags": []
   },
   "outputs": [],
   "source": [
    "import mnist"
   ]
  },
  {
   "cell_type": "code",
   "execution_count": 5,
   "id": "a411e44f",
   "metadata": {
    "execution": {
     "iopub.execute_input": "2021-09-11T00:20:42.097099Z",
     "iopub.status.busy": "2021-09-11T00:20:42.096542Z",
     "iopub.status.idle": "2021-09-11T00:20:42.622909Z",
     "shell.execute_reply": "2021-09-11T00:20:42.622165Z"
    },
    "papermill": {
     "duration": 0.552952,
     "end_time": "2021-09-11T00:20:42.623094",
     "exception": false,
     "start_time": "2021-09-11T00:20:42.070142",
     "status": "completed"
    },
    "tags": []
   },
   "outputs": [],
   "source": [
    "train_images = mnist.train_images()\n",
    "train_labels = mnist.train_labels()"
   ]
  },
  {
   "cell_type": "code",
   "execution_count": 6,
   "id": "dceab3a5",
   "metadata": {
    "execution": {
     "iopub.execute_input": "2021-09-11T00:20:42.674331Z",
     "iopub.status.busy": "2021-09-11T00:20:42.673824Z",
     "iopub.status.idle": "2021-09-11T00:20:42.689396Z",
     "shell.execute_reply": "2021-09-11T00:20:42.688128Z"
    },
    "papermill": {
     "duration": 0.041376,
     "end_time": "2021-09-11T00:20:42.689534",
     "exception": false,
     "start_time": "2021-09-11T00:20:42.648158",
     "status": "completed"
    },
    "tags": []
   },
   "outputs": [
    {
     "data": {
      "text/plain": [
       "((60000, 28, 28), (60000,))"
      ]
     },
     "execution_count": 6,
     "metadata": {},
     "output_type": "execute_result"
    }
   ],
   "source": [
    "train_images.shape, train_labels.shape"
   ]
  },
  {
   "cell_type": "code",
   "execution_count": 7,
   "id": "f50dc2bb",
   "metadata": {
    "execution": {
     "iopub.execute_input": "2021-09-11T00:20:42.739237Z",
     "iopub.status.busy": "2021-09-11T00:20:42.737733Z",
     "iopub.status.idle": "2021-09-11T00:20:42.888570Z",
     "shell.execute_reply": "2021-09-11T00:20:42.887091Z"
    },
    "papermill": {
     "duration": 0.176702,
     "end_time": "2021-09-11T00:20:42.888793",
     "exception": false,
     "start_time": "2021-09-11T00:20:42.712091",
     "status": "completed"
    },
    "tags": []
   },
   "outputs": [],
   "source": [
    "test_images = mnist.test_images()\n",
    "test_labels = mnist.test_labels()"
   ]
  },
  {
   "cell_type": "code",
   "execution_count": 8,
   "id": "fc38cf1b",
   "metadata": {
    "execution": {
     "iopub.execute_input": "2021-09-11T00:20:42.942357Z",
     "iopub.status.busy": "2021-09-11T00:20:42.941933Z",
     "iopub.status.idle": "2021-09-11T00:20:42.954017Z",
     "shell.execute_reply": "2021-09-11T00:20:42.953681Z"
    },
    "papermill": {
     "duration": 0.03792,
     "end_time": "2021-09-11T00:20:42.954106",
     "exception": false,
     "start_time": "2021-09-11T00:20:42.916186",
     "status": "completed"
    },
    "tags": []
   },
   "outputs": [
    {
     "data": {
      "text/plain": [
       "((10000, 28, 28), (10000,))"
      ]
     },
     "execution_count": 8,
     "metadata": {},
     "output_type": "execute_result"
    }
   ],
   "source": [
    "test_images.shape, test_labels.shape"
   ]
  },
  {
   "cell_type": "code",
   "execution_count": 9,
   "id": "f9ed8fe0",
   "metadata": {
    "execution": {
     "iopub.execute_input": "2021-09-11T00:20:43.002122Z",
     "iopub.status.busy": "2021-09-11T00:20:43.001651Z",
     "iopub.status.idle": "2021-09-11T00:20:43.128706Z",
     "shell.execute_reply": "2021-09-11T00:20:43.129092Z"
    },
    "papermill": {
     "duration": 0.152799,
     "end_time": "2021-09-11T00:20:43.129210",
     "exception": false,
     "start_time": "2021-09-11T00:20:42.976411",
     "status": "completed"
    },
    "tags": []
   },
   "outputs": [
    {
     "name": "stdout",
     "output_type": "stream",
     "text": [
      "2\n"
     ]
    },
    {
     "data": {
      "text/plain": [
       "<matplotlib.image.AxesImage at 0x7f7a26c8ed30>"
      ]
     },
     "execution_count": 9,
     "metadata": {},
     "output_type": "execute_result"
    },
    {
     "data": {
      "image/png": "[encoded data removed]",
      "text/plain": [
       "<Figure size 432x288 with 1 Axes>"
      ]
     },
     "metadata": {
      "needs_background": "light"
     },
     "output_type": "display_data"
    }
   ],
   "source": [
    "image_index = 7776 # You may select anything up to 60,000\n",
    "print(train_labels[image_index]) \n",
    "plt.imshow(train_images[image_index], cmap='Greys')"
   ]
  },
  {
   "cell_type": "markdown",
   "id": "a8d2388d",
   "metadata": {
    "papermill": {
     "duration": 0.02474,
     "end_time": "2021-09-11T00:20:43.177399",
     "exception": false,
     "start_time": "2021-09-11T00:20:43.152659",
     "status": "completed"
    },
    "tags": []
   },
   "source": [
    "## Filter data to get 3 and 8 out"
   ]
  },
  {
   "cell_type": "code",
   "execution_count": 10,
   "id": "776f7fc7",
   "metadata": {
    "execution": {
     "iopub.execute_input": "2021-09-11T00:20:43.230827Z",
     "iopub.status.busy": "2021-09-11T00:20:43.230276Z",
     "iopub.status.idle": "2021-09-11T00:20:43.243970Z",
     "shell.execute_reply": "2021-09-11T00:20:43.243575Z"
    },
    "papermill": {
     "duration": 0.043758,
     "end_time": "2021-09-11T00:20:43.244068",
     "exception": false,
     "start_time": "2021-09-11T00:20:43.200310",
     "status": "completed"
    },
    "tags": []
   },
   "outputs": [],
   "source": [
    "train_filter = np.where((train_labels == 3 ) | (train_labels == 8))\n",
    "test_filter = np.where((test_labels == 3) | (test_labels == 8))\n",
    "X_train, y_train = train_images[train_filter], train_labels[train_filter]\n",
    "X_test, y_test = test_images[test_filter], test_labels[test_filter]"
   ]
  },
  {
   "cell_type": "markdown",
   "id": "948f0b7e",
   "metadata": {
    "papermill": {
     "duration": 0.025428,
     "end_time": "2021-09-11T00:20:43.292711",
     "exception": false,
     "start_time": "2021-09-11T00:20:43.267283",
     "status": "completed"
    },
    "tags": []
   },
   "source": [
    "We normalize the pizel values in the 0 to 1 range"
   ]
  },
  {
   "cell_type": "code",
   "execution_count": 11,
   "id": "ee4c2166",
   "metadata": {
    "execution": {
     "iopub.execute_input": "2021-09-11T00:20:43.346617Z",
     "iopub.status.busy": "2021-09-11T00:20:43.346076Z",
     "iopub.status.idle": "2021-09-11T00:20:43.397076Z",
     "shell.execute_reply": "2021-09-11T00:20:43.396177Z"
    },
    "papermill": {
     "duration": 0.079748,
     "end_time": "2021-09-11T00:20:43.397279",
     "exception": false,
     "start_time": "2021-09-11T00:20:43.317531",
     "status": "completed"
    },
    "tags": []
   },
   "outputs": [],
   "source": [
    "X_train = X_train/255.\n",
    "X_test = X_test/255."
   ]
  },
  {
   "cell_type": "markdown",
   "id": "ddcf4fab",
   "metadata": {
    "papermill": {
     "duration": 0.027664,
     "end_time": "2021-09-11T00:20:43.451818",
     "exception": false,
     "start_time": "2021-09-11T00:20:43.424154",
     "status": "completed"
    },
    "tags": []
   },
   "source": [
    "And setup the labels as 1 (when the digit is 3) and 0 (when the digit is 8)"
   ]
  },
  {
   "cell_type": "code",
   "execution_count": 12,
   "id": "7dc908f2",
   "metadata": {
    "execution": {
     "iopub.execute_input": "2021-09-11T00:20:43.506311Z",
     "iopub.status.busy": "2021-09-11T00:20:43.505873Z",
     "iopub.status.idle": "2021-09-11T00:20:43.518568Z",
     "shell.execute_reply": "2021-09-11T00:20:43.517570Z"
    },
    "papermill": {
     "duration": 0.041258,
     "end_time": "2021-09-11T00:20:43.518699",
     "exception": false,
     "start_time": "2021-09-11T00:20:43.477441",
     "status": "completed"
    },
    "tags": []
   },
   "outputs": [],
   "source": [
    "y_train = 1*(y_train==3)\n",
    "y_test = 1*(y_test==3)"
   ]
  },
  {
   "cell_type": "code",
   "execution_count": 13,
   "id": "01e4e969",
   "metadata": {
    "execution": {
     "iopub.execute_input": "2021-09-11T00:20:43.568194Z",
     "iopub.status.busy": "2021-09-11T00:20:43.567686Z",
     "iopub.status.idle": "2021-09-11T00:20:43.579984Z",
     "shell.execute_reply": "2021-09-11T00:20:43.580487Z"
    },
    "papermill": {
     "duration": 0.038346,
     "end_time": "2021-09-11T00:20:43.580625",
     "exception": false,
     "start_time": "2021-09-11T00:20:43.542279",
     "status": "completed"
    },
    "tags": []
   },
   "outputs": [
    {
     "data": {
      "text/plain": [
       "((11982, 28, 28), (1984, 28, 28))"
      ]
     },
     "execution_count": 13,
     "metadata": {},
     "output_type": "execute_result"
    }
   ],
   "source": [
    "X_train.shape, X_test.shape"
   ]
  },
  {
   "cell_type": "markdown",
   "id": "5ccf3f85",
   "metadata": {
    "papermill": {
     "duration": 0.022904,
     "end_time": "2021-09-11T00:20:43.625660",
     "exception": false,
     "start_time": "2021-09-11T00:20:43.602756",
     "status": "completed"
    },
    "tags": []
   },
   "source": [
    "We reshape the data to flatten the image pixels into a set of features or co-variates:"
   ]
  },
  {
   "cell_type": "code",
   "execution_count": 14,
   "id": "5286a4a3",
   "metadata": {
    "execution": {
     "iopub.execute_input": "2021-09-11T00:20:43.676995Z",
     "iopub.status.busy": "2021-09-11T00:20:43.676469Z",
     "iopub.status.idle": "2021-09-11T00:20:43.689950Z",
     "shell.execute_reply": "2021-09-11T00:20:43.689599Z"
    },
    "papermill": {
     "duration": 0.03945,
     "end_time": "2021-09-11T00:20:43.690032",
     "exception": false,
     "start_time": "2021-09-11T00:20:43.650582",
     "status": "completed"
    },
    "tags": []
   },
   "outputs": [
    {
     "data": {
      "text/plain": [
       "((11982, 784), (1984, 784))"
      ]
     },
     "execution_count": 14,
     "metadata": {},
     "output_type": "execute_result"
    }
   ],
   "source": [
    "X_train = X_train.reshape(X_train.shape[0], -1)\n",
    "X_test = X_test.reshape(X_test.shape[0], -1)\n",
    "X_train.shape, X_test.shape"
   ]
  },
  {
   "cell_type": "code",
   "execution_count": 15,
   "id": "73c5f88a",
   "metadata": {
    "execution": {
     "iopub.execute_input": "2021-09-11T00:20:43.741044Z",
     "iopub.status.busy": "2021-09-11T00:20:43.740630Z",
     "iopub.status.idle": "2021-09-11T00:20:43.758672Z",
     "shell.execute_reply": "2021-09-11T00:20:43.759133Z"
    },
    "papermill": {
     "duration": 0.046252,
     "end_time": "2021-09-11T00:20:43.759264",
     "exception": false,
     "start_time": "2021-09-11T00:20:43.713012",
     "status": "completed"
    },
    "tags": []
   },
   "outputs": [],
   "source": [
    "#Impoting functions from 'Kudzu'\n",
    "from kudzu.model import Model\n",
    "from kudzu.train import Learner\n",
    "from kudzu.optim import GD\n",
    "from kudzu.data import Data, Sampler,Dataloader\n",
    "\n",
    "from kudzu.callbacks import AccCallback\n",
    "from kudzu.callbacks import ClfCallback\n",
    "\n",
    "from kudzu.loss import MSE\n",
    "\n",
    "from kudzu.layer import Sigmoid,Relu\n",
    "from kudzu.layer import Affine"
   ]
  },
  {
   "cell_type": "markdown",
   "id": "bc01172a",
   "metadata": {
    "papermill": {
     "duration": 0.025183,
     "end_time": "2021-09-11T00:20:43.809986",
     "exception": false,
     "start_time": "2021-09-11T00:20:43.784803",
     "status": "completed"
    },
    "tags": []
   },
   "source": [
    "### Let us create a `Config` class, to store important parameters. \n",
    "This class essentially plays the role of a dictionary."
   ]
  },
  {
   "cell_type": "code",
   "execution_count": 16,
   "id": "978281aa",
   "metadata": {
    "execution": {
     "iopub.execute_input": "2021-09-11T00:20:43.860611Z",
     "iopub.status.busy": "2021-09-11T00:20:43.860101Z",
     "iopub.status.idle": "2021-09-11T00:20:43.874145Z",
     "shell.execute_reply": "2021-09-11T00:20:43.873718Z"
    },
    "papermill": {
     "duration": 0.041661,
     "end_time": "2021-09-11T00:20:43.874257",
     "exception": false,
     "start_time": "2021-09-11T00:20:43.832596",
     "status": "completed"
    },
    "tags": []
   },
   "outputs": [],
   "source": [
    "class Config:\n",
    "    pass\n",
    "config = Config()\n",
    "config.lr = 0.001\n",
    "config.num_epochs = 250\n",
    "config.bs = 50"
   ]
  },
  {
   "cell_type": "markdown",
   "id": "1385fa59",
   "metadata": {
    "papermill": {
     "duration": 0.025638,
     "end_time": "2021-09-11T00:20:43.923729",
     "exception": false,
     "start_time": "2021-09-11T00:20:43.898091",
     "status": "completed"
    },
    "tags": []
   },
   "source": [
    "### Running Models with the Training data\n",
    "Details about the network layers:\n",
    "- A first affine layer has 784 inputs and does 100 affine transforms. These are followed by a Relu\n",
    "- A second affine layer has 100 inputs from the 100 activations of the past layer, and does 100 affine transforms. These are followed by a Relu\n",
    "- A third affine layer has 100 activations and does 2 affine transformations to create an embedding for visualization. There is no non-linearity here.\n",
    "- A final \"logistic regression\" which has an affine transform from 2 inputs to 1 output, which is squeezed through a sigmoid.\n"
   ]
  },
  {
   "cell_type": "code",
   "execution_count": 17,
   "id": "2b9c66db",
   "metadata": {
    "execution": {
     "iopub.execute_input": "2021-09-11T00:20:43.984955Z",
     "iopub.status.busy": "2021-09-11T00:20:43.984476Z",
     "iopub.status.idle": "2021-09-11T00:20:43.996370Z",
     "shell.execute_reply": "2021-09-11T00:20:43.995873Z"
    },
    "papermill": {
     "duration": 0.04835,
     "end_time": "2021-09-11T00:20:43.996481",
     "exception": false,
     "start_time": "2021-09-11T00:20:43.948131",
     "status": "completed"
    },
    "tags": []
   },
   "outputs": [],
   "source": [
    "data = Data(X_train, y_train.reshape(-1,1))\n",
    "sampler = Sampler(data, config.bs, shuffle=True)\n",
    "\n",
    "dl = Dataloader(data, sampler)\n",
    "\n",
    "opt = GD(config.lr)\n",
    "loss = MSE()"
   ]
  },
  {
   "cell_type": "code",
   "execution_count": 18,
   "id": "b275e4c2",
   "metadata": {
    "execution": {
     "iopub.execute_input": "2021-09-11T00:20:44.049541Z",
     "iopub.status.busy": "2021-09-11T00:20:44.048964Z",
     "iopub.status.idle": "2021-09-11T00:20:44.060536Z",
     "shell.execute_reply": "2021-09-11T00:20:44.060154Z"
    },
    "papermill": {
     "duration": 0.040107,
     "end_time": "2021-09-11T00:20:44.060630",
     "exception": false,
     "start_time": "2021-09-11T00:20:44.020523",
     "status": "completed"
    },
    "tags": []
   },
   "outputs": [],
   "source": [
    "training_data_x = X_train\n",
    "testing_data_x = X_test\n",
    "training_data_y = y_train.reshape(-1,1)\n",
    "testing_data_y = y_test.reshape(-1,1)"
   ]
  },
  {
   "cell_type": "code",
   "execution_count": 19,
   "id": "76951160",
   "metadata": {
    "execution": {
     "iopub.execute_input": "2021-09-11T00:20:44.113496Z",
     "iopub.status.busy": "2021-09-11T00:20:44.113081Z",
     "iopub.status.idle": "2021-09-11T00:20:44.127562Z",
     "shell.execute_reply": "2021-09-11T00:20:44.127990Z"
    },
    "papermill": {
     "duration": 0.04291,
     "end_time": "2021-09-11T00:20:44.128132",
     "exception": false,
     "start_time": "2021-09-11T00:20:44.085222",
     "status": "completed"
    },
    "tags": []
   },
   "outputs": [
    {
     "name": "stdout",
     "output_type": "stream",
     "text": [
      "xavier\n",
      "xavier\n",
      "xavier\n",
      "xavier\n",
      "xavier\n"
     ]
    }
   ],
   "source": [
    "layers = [Affine(\"first\", 784, 100), Relu(\"first\"), Affine(\"second\", 100, 100), Relu(\"second\"), Affine(\"third\", 100, 2), Affine(\"last\", 2, 1), Sigmoid(\"last\")]\n",
    "model_nn = Model(layers)\n",
    "model_lr = Model([Affine(\"logits\", 784, 1), Sigmoid(\"sigmoid\")])"
   ]
  },
  {
   "cell_type": "code",
   "execution_count": 20,
   "id": "6eede77a",
   "metadata": {
    "execution": {
     "iopub.execute_input": "2021-09-11T00:20:44.177882Z",
     "iopub.status.busy": "2021-09-11T00:20:44.177411Z",
     "iopub.status.idle": "2021-09-11T00:20:44.188761Z",
     "shell.execute_reply": "2021-09-11T00:20:44.188434Z"
    },
    "papermill": {
     "duration": 0.037222,
     "end_time": "2021-09-11T00:20:44.188842",
     "exception": false,
     "start_time": "2021-09-11T00:20:44.151620",
     "status": "completed"
    },
    "tags": []
   },
   "outputs": [],
   "source": [
    "nn_learner = Learner(loss, model_nn, opt, config.num_epochs)\n",
    "acc_nn = ClfCallback(nn_learner, config.bs, training_data_x , testing_data_x, training_data_y, testing_data_y)\n",
    "nn_learner.set_callbacks([acc_nn])"
   ]
  },
  {
   "cell_type": "code",
   "execution_count": 21,
   "id": "877b6cc7",
   "metadata": {
    "execution": {
     "iopub.execute_input": "2021-09-11T00:20:44.241570Z",
     "iopub.status.busy": "2021-09-11T00:20:44.240931Z",
     "iopub.status.idle": "2021-09-11T00:20:44.249498Z",
     "shell.execute_reply": "2021-09-11T00:20:44.248971Z"
    },
    "papermill": {
     "duration": 0.037031,
     "end_time": "2021-09-11T00:20:44.249622",
     "exception": false,
     "start_time": "2021-09-11T00:20:44.212591",
     "status": "completed"
    },
    "tags": []
   },
   "outputs": [],
   "source": [
    "lr_learner = Learner(loss, model_lr, opt, config.num_epochs)\n",
    "acc_lr = ClfCallback(lr_learner, config.bs, training_data_x , testing_data_x, training_data_y, testing_data_y)\n",
    "lr_learner.set_callbacks([acc_lr])"
   ]
  },
  {
   "cell_type": "code",
   "execution_count": 22,
   "id": "d9b133c3",
   "metadata": {
    "execution": {
     "iopub.execute_input": "2021-09-11T00:20:44.307955Z",
     "iopub.status.busy": "2021-09-11T00:20:44.307506Z",
     "iopub.status.idle": "2021-09-11T00:22:01.167827Z",
     "shell.execute_reply": "2021-09-11T00:22:01.168626Z"
    },
    "papermill": {
     "duration": 76.891183,
     "end_time": "2021-09-11T00:22:01.168766",
     "exception": false,
     "start_time": "2021-09-11T00:20:44.277583",
     "status": "completed"
    },
    "tags": []
   },
   "outputs": [
    {
     "name": "stdout",
     "output_type": "stream",
     "text": [
      "Epoch 0, Loss 0.2422\n",
      "Training Accuracy: 0.7159, Testing Accuracy: 0.7122\n",
      "\n"
     ]
    },
    {
     "name": "stdout",
     "output_type": "stream",
     "text": [
      "Epoch 10, Loss 0.0836\n",
      "Training Accuracy: 0.9126, Testing Accuracy: 0.9249\n",
      "\n"
     ]
    },
    {
     "name": "stdout",
     "output_type": "stream",
     "text": [
      "Epoch 20, Loss 0.0544\n",
      "Training Accuracy: 0.9416, Testing Accuracy: 0.9491\n",
      "\n"
     ]
    },
    {
     "name": "stdout",
     "output_type": "stream",
     "text": [
      "Epoch 30, Loss 0.0434\n",
      "Training Accuracy: 0.9518, Testing Accuracy: 0.9607\n",
      "\n"
     ]
    },
    {
     "name": "stdout",
     "output_type": "stream",
     "text": [
      "Epoch 40, Loss 0.0377\n",
      "Training Accuracy: 0.9578, Testing Accuracy: 0.9657\n",
      "\n"
     ]
    },
    {
     "name": "stdout",
     "output_type": "stream",
     "text": [
      "Epoch 50, Loss 0.0341\n",
      "Training Accuracy: 0.9619, Testing Accuracy: 0.9672\n",
      "\n"
     ]
    },
    {
     "name": "stdout",
     "output_type": "stream",
     "text": [
      "Epoch 60, Loss 0.0316\n",
      "Training Accuracy: 0.9644, Testing Accuracy: 0.9667\n",
      "\n"
     ]
    },
    {
     "name": "stdout",
     "output_type": "stream",
     "text": [
      "Epoch 70, Loss 0.0297\n",
      "Training Accuracy: 0.9662, Testing Accuracy: 0.9688\n",
      "\n"
     ]
    },
    {
     "name": "stdout",
     "output_type": "stream",
     "text": [
      "Epoch 80, Loss 0.0283\n",
      "Training Accuracy: 0.9684, Testing Accuracy: 0.9677\n",
      "\n"
     ]
    },
    {
     "name": "stdout",
     "output_type": "stream",
     "text": [
      "Epoch 90, Loss 0.0271\n",
      "Training Accuracy: 0.9699, Testing Accuracy: 0.9693\n",
      "\n"
     ]
    },
    {
     "name": "stdout",
     "output_type": "stream",
     "text": [
      "Epoch 100, Loss 0.0261\n",
      "Training Accuracy: 0.9706, Testing Accuracy: 0.9698\n",
      "\n"
     ]
    },
    {
     "name": "stdout",
     "output_type": "stream",
     "text": [
      "Epoch 110, Loss 0.0252\n",
      "Training Accuracy: 0.9714, Testing Accuracy: 0.9718\n",
      "\n"
     ]
    },
    {
     "name": "stdout",
     "output_type": "stream",
     "text": [
      "Epoch 120, Loss 0.0245\n",
      "Training Accuracy: 0.9718, Testing Accuracy: 0.9723\n",
      "\n"
     ]
    },
    {
     "name": "stdout",
     "output_type": "stream",
     "text": [
      "Epoch 130, Loss 0.0238\n",
      "Training Accuracy: 0.9725, Testing Accuracy: 0.9728\n",
      "\n"
     ]
    },
    {
     "name": "stdout",
     "output_type": "stream",
     "text": [
      "Epoch 140, Loss 0.0232\n",
      "Training Accuracy: 0.9733, Testing Accuracy: 0.9728\n",
      "\n"
     ]
    },
    {
     "name": "stdout",
     "output_type": "stream",
     "text": [
      "Epoch 150, Loss 0.0226\n",
      "Training Accuracy: 0.9735, Testing Accuracy: 0.9718\n",
      "\n"
     ]
    },
    {
     "name": "stdout",
     "output_type": "stream",
     "text": [
      "Epoch 160, Loss 0.0221\n",
      "Training Accuracy: 0.9745, Testing Accuracy: 0.9718\n",
      "\n"
     ]
    },
    {
     "name": "stdout",
     "output_type": "stream",
     "text": [
      "Epoch 170, Loss 0.0216\n",
      "Training Accuracy: 0.9750, Testing Accuracy: 0.9718\n",
      "\n"
     ]
    },
    {
     "name": "stdout",
     "output_type": "stream",
     "text": [
      "Epoch 180, Loss 0.0211\n",
      "Training Accuracy: 0.9756, Testing Accuracy: 0.9723\n",
      "\n"
     ]
    },
    {
     "name": "stdout",
     "output_type": "stream",
     "text": [
      "Epoch 190, Loss 0.0207\n",
      "Training Accuracy: 0.9765, Testing Accuracy: 0.9723\n",
      "\n"
     ]
    },
    {
     "name": "stdout",
     "output_type": "stream",
     "text": [
      "Epoch 200, Loss 0.0203\n",
      "Training Accuracy: 0.9771, Testing Accuracy: 0.9723\n",
      "\n"
     ]
    },
    {
     "name": "stdout",
     "output_type": "stream",
     "text": [
      "Epoch 210, Loss 0.0198\n",
      "Training Accuracy: 0.9780, Testing Accuracy: 0.9723\n",
      "\n"
     ]
    },
    {
     "name": "stdout",
     "output_type": "stream",
     "text": [
      "Epoch 220, Loss 0.0195\n",
      "Training Accuracy: 0.9787, Testing Accuracy: 0.9738\n",
      "\n"
     ]
    },
    {
     "name": "stdout",
     "output_type": "stream",
     "text": [
      "Epoch 230, Loss 0.0191\n",
      "Training Accuracy: 0.9791, Testing Accuracy: 0.9738\n",
      "\n"
     ]
    },
    {
     "name": "stdout",
     "output_type": "stream",
     "text": [
      "Epoch 240, Loss 0.0187\n",
      "Training Accuracy: 0.9798, Testing Accuracy: 0.9743\n",
      "\n"
     ]
    },
    {
     "data": {
      "text/plain": [
       "0.004120569112008432"
      ]
     },
     "execution_count": 22,
     "metadata": {},
     "output_type": "execute_result"
    }
   ],
   "source": [
    "nn_learner.train_loop(dl)"
   ]
  },
  {
   "cell_type": "code",
   "execution_count": 23,
   "id": "e0163366",
   "metadata": {
    "execution": {
     "iopub.execute_input": "2021-09-11T00:22:01.244993Z",
     "iopub.status.busy": "2021-09-11T00:22:01.244524Z",
     "iopub.status.idle": "2021-09-11T00:22:14.338801Z",
     "shell.execute_reply": "2021-09-11T00:22:14.339582Z"
    },
    "papermill": {
     "duration": 13.137991,
     "end_time": "2021-09-11T00:22:14.339741",
     "exception": false,
     "start_time": "2021-09-11T00:22:01.201750",
     "status": "completed"
    },
    "tags": []
   },
   "outputs": [
    {
     "name": "stdout",
     "output_type": "stream",
     "text": [
      "Epoch 0, Loss 0.2391\n",
      "Training Accuracy: 0.7152, Testing Accuracy: 0.7087\n",
      "\n"
     ]
    },
    {
     "name": "stdout",
     "output_type": "stream",
     "text": [
      "Epoch 10, Loss 0.1009\n",
      "Training Accuracy: 0.9145, Testing Accuracy: 0.9264\n",
      "\n"
     ]
    },
    {
     "name": "stdout",
     "output_type": "stream",
     "text": [
      "Epoch 20, Loss 0.0783\n",
      "Training Accuracy: 0.9296, Testing Accuracy: 0.9405\n",
      "\n"
     ]
    },
    {
     "name": "stdout",
     "output_type": "stream",
     "text": [
      "Epoch 30, Loss 0.0678\n",
      "Training Accuracy: 0.9364, Testing Accuracy: 0.9476\n",
      "\n"
     ]
    },
    {
     "name": "stdout",
     "output_type": "stream",
     "text": [
      "Epoch 40, Loss 0.0615\n",
      "Training Accuracy: 0.9422, Testing Accuracy: 0.9501\n",
      "\n"
     ]
    },
    {
     "name": "stdout",
     "output_type": "stream",
     "text": [
      "Epoch 50, Loss 0.0571\n",
      "Training Accuracy: 0.9463, Testing Accuracy: 0.9546\n",
      "\n"
     ]
    },
    {
     "name": "stdout",
     "output_type": "stream",
     "text": [
      "Epoch 60, Loss 0.0539\n",
      "Training Accuracy: 0.9481, Testing Accuracy: 0.9567\n",
      "\n"
     ]
    },
    {
     "name": "stdout",
     "output_type": "stream",
     "text": [
      "Epoch 70, Loss 0.0513\n",
      "Training Accuracy: 0.9496, Testing Accuracy: 0.9572\n",
      "\n"
     ]
    },
    {
     "name": "stdout",
     "output_type": "stream",
     "text": [
      "Epoch 80, Loss 0.0493\n",
      "Training Accuracy: 0.9509, Testing Accuracy: 0.9582\n",
      "\n"
     ]
    },
    {
     "name": "stdout",
     "output_type": "stream",
     "text": [
      "Epoch 90, Loss 0.0477\n",
      "Training Accuracy: 0.9524, Testing Accuracy: 0.9597\n",
      "\n"
     ]
    },
    {
     "name": "stdout",
     "output_type": "stream",
     "text": [
      "Epoch 100, Loss 0.0462\n",
      "Training Accuracy: 0.9535, Testing Accuracy: 0.9607\n",
      "\n"
     ]
    },
    {
     "name": "stdout",
     "output_type": "stream",
     "text": [
      "Epoch 110, Loss 0.045\n",
      "Training Accuracy: 0.9546, Testing Accuracy: 0.9617\n",
      "\n"
     ]
    },
    {
     "name": "stdout",
     "output_type": "stream",
     "text": [
      "Epoch 120, Loss 0.044\n",
      "Training Accuracy: 0.9552, Testing Accuracy: 0.9622\n",
      "\n"
     ]
    },
    {
     "name": "stdout",
     "output_type": "stream",
     "text": [
      "Epoch 130, Loss 0.043\n",
      "Training Accuracy: 0.9562, Testing Accuracy: 0.9627\n",
      "\n"
     ]
    },
    {
     "name": "stdout",
     "output_type": "stream",
     "text": [
      "Epoch 140, Loss 0.0422\n",
      "Training Accuracy: 0.9569, Testing Accuracy: 0.9632\n",
      "\n"
     ]
    },
    {
     "name": "stdout",
     "output_type": "stream",
     "text": [
      "Epoch 150, Loss 0.0415\n",
      "Training Accuracy: 0.9574, Testing Accuracy: 0.9632\n",
      "\n"
     ]
    },
    {
     "name": "stdout",
     "output_type": "stream",
     "text": [
      "Epoch 160, Loss 0.0408\n",
      "Training Accuracy: 0.9575, Testing Accuracy: 0.9642\n",
      "\n"
     ]
    },
    {
     "name": "stdout",
     "output_type": "stream",
     "text": [
      "Epoch 170, Loss 0.0402\n",
      "Training Accuracy: 0.9581, Testing Accuracy: 0.9652\n",
      "\n"
     ]
    },
    {
     "name": "stdout",
     "output_type": "stream",
     "text": [
      "Epoch 180, Loss 0.0396\n",
      "Training Accuracy: 0.9584, Testing Accuracy: 0.9652\n",
      "\n"
     ]
    },
    {
     "name": "stdout",
     "output_type": "stream",
     "text": [
      "Epoch 190, Loss 0.0391\n",
      "Training Accuracy: 0.9587, Testing Accuracy: 0.9652\n",
      "\n"
     ]
    },
    {
     "name": "stdout",
     "output_type": "stream",
     "text": [
      "Epoch 200, Loss 0.0386\n",
      "Training Accuracy: 0.9588, Testing Accuracy: 0.9662\n",
      "\n"
     ]
    },
    {
     "name": "stdout",
     "output_type": "stream",
     "text": [
      "Epoch 210, Loss 0.0382\n",
      "Training Accuracy: 0.9594, Testing Accuracy: 0.9662\n",
      "\n"
     ]
    },
    {
     "name": "stdout",
     "output_type": "stream",
     "text": [
      "Epoch 220, Loss 0.0378\n",
      "Training Accuracy: 0.9597, Testing Accuracy: 0.9662\n",
      "\n"
     ]
    },
    {
     "name": "stdout",
     "output_type": "stream",
     "text": [
      "Epoch 230, Loss 0.0374\n",
      "Training Accuracy: 0.9599, Testing Accuracy: 0.9667\n",
      "\n"
     ]
    },
    {
     "name": "stdout",
     "output_type": "stream",
     "text": [
      "Epoch 240, Loss 0.037\n",
      "Training Accuracy: 0.9603, Testing Accuracy: 0.9667\n",
      "\n"
     ]
    },
    {
     "data": {
      "text/plain": [
       "0.016226762814519666"
      ]
     },
     "execution_count": 23,
     "metadata": {},
     "output_type": "execute_result"
    }
   ],
   "source": [
    "lr_learner.train_loop(dl)"
   ]
  },
  {
   "cell_type": "code",
   "execution_count": 24,
   "id": "ca410940",
   "metadata": {
    "execution": {
     "iopub.execute_input": "2021-09-11T00:22:14.425142Z",
     "iopub.status.busy": "2021-09-11T00:22:14.424717Z",
     "iopub.status.idle": "2021-09-11T00:22:14.631094Z",
     "shell.execute_reply": "2021-09-11T00:22:14.630578Z"
    },
    "papermill": {
     "duration": 0.251397,
     "end_time": "2021-09-11T00:22:14.631231",
     "exception": false,
     "start_time": "2021-09-11T00:22:14.379834",
     "status": "completed"
    },
    "tags": []
   },
   "outputs": [
    {
     "data": {
      "text/plain": [
       "<matplotlib.legend.Legend at 0x7f7a194e1e48>"
      ]
     },
     "execution_count": 24,
     "metadata": {},
     "output_type": "execute_result"
    },
    {
     "data": {
      "image/png": "[encoded data removed]",
      "text/plain": [
       "<Figure size 1080x720 with 1 Axes>"
      ]
     },
     "metadata": {
      "needs_background": "light"
     },
     "output_type": "display_data"
    }
   ],
   "source": [
    "#comparing the results of NN and LR\n",
    "plt.figure(figsize=(15,10))\n",
    "\n",
    "# Neural Network plots\n",
    "plt.plot(acc_nn.accuracies, 'r-', label = \"Training Accuracies - NN\")\n",
    "plt.plot(acc_nn.test_accuracies, 'g-', label = \"Testing Accuracies - NN\")\n",
    "\n",
    "# Logistic Regression plots\n",
    "plt.plot(acc_lr.accuracies, 'k-', label = \"Training Accuracies - LR\")\n",
    "plt.plot(acc_lr.test_accuracies, 'b-', label = \"Testing Accuracies - LR\")\n",
    "plt.legend()"
   ]
  },
  {
   "cell_type": "markdown",
   "id": "80dfb35c",
   "metadata": {
    "papermill": {
     "duration": 0.038131,
     "end_time": "2021-09-11T00:22:14.708874",
     "exception": false,
     "start_time": "2021-09-11T00:22:14.670743",
     "status": "completed"
    },
    "tags": []
   },
   "source": [
    "#### Plotting the outputs of this layer of the NN.\n"
   ]
  },
  {
   "cell_type": "code",
   "execution_count": 25,
   "id": "45eb2ff5",
   "metadata": {
    "execution": {
     "iopub.execute_input": "2021-09-11T00:22:14.790808Z",
     "iopub.status.busy": "2021-09-11T00:22:14.790314Z",
     "iopub.status.idle": "2021-09-11T00:22:14.810318Z",
     "shell.execute_reply": "2021-09-11T00:22:14.810656Z"
    },
    "papermill": {
     "duration": 0.061899,
     "end_time": "2021-09-11T00:22:14.810760",
     "exception": false,
     "start_time": "2021-09-11T00:22:14.748861",
     "status": "completed"
    },
    "tags": []
   },
   "outputs": [],
   "source": [
    "new_model = Model(layers[:-2])\n",
    "testing_plot = new_model(testing_data_x)"
   ]
  },
  {
   "cell_type": "code",
   "execution_count": 26,
   "id": "4c0a5485",
   "metadata": {
    "execution": {
     "iopub.execute_input": "2021-09-11T00:22:14.901860Z",
     "iopub.status.busy": "2021-09-11T00:22:14.901423Z",
     "iopub.status.idle": "2021-09-11T00:22:15.079025Z",
     "shell.execute_reply": "2021-09-11T00:22:15.078426Z"
    },
    "papermill": {
     "duration": 0.223138,
     "end_time": "2021-09-11T00:22:15.079121",
     "exception": false,
     "start_time": "2021-09-11T00:22:14.855983",
     "status": "completed"
    },
    "tags": []
   },
   "outputs": [
    {
     "data": {
      "text/plain": [
       "Text(0.5, 1.0, 'Outputs')"
      ]
     },
     "execution_count": 26,
     "metadata": {},
     "output_type": "execute_result"
    },
    {
     "data": {
      "image/png": "[encoded data removed]",
      "text/plain": [
       "<Figure size 576x504 with 1 Axes>"
      ]
     },
     "metadata": {
      "needs_background": "light"
     },
     "output_type": "display_data"
    }
   ],
   "source": [
    "# Plotting the scatter plot of points and color coding by class\n",
    "plt.figure(figsize=(8,7))\n",
    "plt.scatter(testing_plot[:,0], testing_plot[:,1], alpha = 0.1, c = y_test.ravel());\n",
    "plt.title('Outputs')"
   ]
  },
  {
   "cell_type": "markdown",
   "id": "a74fcf8f",
   "metadata": {
    "papermill": {
     "duration": 0.037008,
     "end_time": "2021-09-11T00:22:15.156733",
     "exception": false,
     "start_time": "2021-09-11T00:22:15.119725",
     "status": "completed"
    },
    "tags": []
   },
   "source": [
    "Probability contours"
   ]
  },
  {
   "cell_type": "code",
   "execution_count": 27,
   "id": "d0afc8e3",
   "metadata": {
    "execution": {
     "iopub.execute_input": "2021-09-11T00:22:15.235890Z",
     "iopub.status.busy": "2021-09-11T00:22:15.235447Z",
     "iopub.status.idle": "2021-09-11T00:22:15.249441Z",
     "shell.execute_reply": "2021-09-11T00:22:15.249003Z"
    },
    "papermill": {
     "duration": 0.055676,
     "end_time": "2021-09-11T00:22:15.249551",
     "exception": false,
     "start_time": "2021-09-11T00:22:15.193875",
     "status": "completed"
    },
    "tags": []
   },
   "outputs": [],
   "source": [
    "model_prob = Model(layers[-2:]) "
   ]
  },
  {
   "cell_type": "code",
   "execution_count": 28,
   "id": "9b96e238",
   "metadata": {
    "execution": {
     "iopub.execute_input": "2021-09-11T00:22:15.332889Z",
     "iopub.status.busy": "2021-09-11T00:22:15.331846Z",
     "iopub.status.idle": "2021-09-11T00:22:15.346361Z",
     "shell.execute_reply": "2021-09-11T00:22:15.346803Z"
    },
    "papermill": {
     "duration": 0.059056,
     "end_time": "2021-09-11T00:22:15.346939",
     "exception": false,
     "start_time": "2021-09-11T00:22:15.287883",
     "status": "completed"
    },
    "tags": []
   },
   "outputs": [],
   "source": [
    "#creating the x and y ranges according to the above generated plot.\n",
    "x_range = np.linspace(-4, 1, 100) \n",
    "y_range = np.linspace(-6, 6, 100) \n",
    "x_grid, y_grid = np.meshgrid(x_range, y_range) # x_grid and y_grig are of size 100 X 100\n",
    "\n",
    "# converting x_grid and y_grid to continuous arrays\n",
    "x_gridflat = np.ravel(x_grid)\n",
    "y_gridflat = np.ravel(y_grid)\n",
    "\n",
    "# The last layer of the current model takes two columns as input. Hence transpose of np.vstack() is required.\n",
    "X = np.vstack((x_gridflat, y_gridflat)).T\n",
    "\n",
    "prob_contour = model_prob(X).reshape(100,100) "
   ]
  },
  {
   "cell_type": "code",
   "execution_count": 29,
   "id": "da72499a",
   "metadata": {
    "execution": {
     "iopub.execute_input": "2021-09-11T00:22:15.440986Z",
     "iopub.status.busy": "2021-09-11T00:22:15.440448Z",
     "iopub.status.idle": "2021-09-11T00:22:15.678340Z",
     "shell.execute_reply": "2021-09-11T00:22:15.677933Z"
    },
    "papermill": {
     "duration": 0.284834,
     "end_time": "2021-09-11T00:22:15.678440",
     "exception": false,
     "start_time": "2021-09-11T00:22:15.393606",
     "status": "completed"
    },
    "tags": []
   },
   "outputs": [
    {
     "data": {
      "image/png": "[encoded data removed]",
      "text/plain": [
       "<Figure size 720x648 with 1 Axes>"
      ]
     },
     "metadata": {
      "needs_background": "light"
     },
     "output_type": "display_data"
    }
   ],
   "source": [
    "plt.figure(figsize=(10,9))\n",
    "plt.scatter(testing_plot[:,0], testing_plot[:,1], alpha = 0.1, c = y_test.ravel())\n",
    "contours = plt.contour(x_grid,y_grid,prob_contour)\n",
    "plt.title('Probability Contours')\n",
    "plt.clabel(contours, inline = True );"
   ]
  },
  {
   "cell_type": "code",
   "execution_count": null,
   "id": "e81b4ac7",
   "metadata": {
    "papermill": {
     "duration": 0.070537,
     "end_time": "2021-09-11T00:22:15.793665",
     "exception": false,
     "start_time": "2021-09-11T00:22:15.723128",
     "status": "completed"
    },
    "tags": []
   },
   "outputs": [],
   "source": []
  }
 ],
 "metadata": {
  "kernelspec": {
   "display_name": "Python 3",
   "language": "python",
   "name": "python3"
  },
  "language_info": {
   "codemirror_mode": {
    "name": "ipython",
    "version": 3
   },
   "file_extension": ".py",
   "mimetype": "text/x-python",
   "name": "python",
   "nbconvert_exporter": "python",
   "pygments_lexer": "ipython3",
   "version": "3.6.14"
  },
  "papermill": {
   "default_parameters": {},
   "duration": 97.550811,
   "end_time": "2021-09-11T00:22:16.144880",
   "environment_variables": {},
   "exception": null,
   "input_path": "2020-08-11-part2.ipynb",
   "output_path": "2020-08-11-part2.ipynb",
   "parameters": {},
   "start_time": "2021-09-11T00:20:38.594069",
   "version": "2.3.3"
  }
 },
 "nbformat": 4,
 "nbformat_minor": 5
}