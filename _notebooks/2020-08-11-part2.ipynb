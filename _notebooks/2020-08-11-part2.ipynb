{
 "cells": [
  {
   "cell_type": "markdown",
   "id": "98380cd3",
   "metadata": {
    "papermill": {
     "duration": 0.028367,
     "end_time": "2022-01-27T10:07:39.319016",
     "exception": false,
     "start_time": "2022-01-27T10:07:39.290649",
     "status": "completed"
    },
    "tags": []
   },
   "source": [
    "# Distinguish Your Own Digits (DYOD)"
   ]
  },
  {
   "cell_type": "markdown",
   "id": "ef31240d",
   "metadata": {
    "papermill": {
     "duration": 0.024952,
     "end_time": "2022-01-27T10:07:39.369388",
     "exception": false,
     "start_time": "2022-01-27T10:07:39.344436",
     "status": "completed"
    },
    "tags": []
   },
   "source": [
    "You are going to write a classifier that distinguishes between the number 3 and number 8."
   ]
  },
  {
   "cell_type": "code",
   "execution_count": 1,
   "id": "b15c8646",
   "metadata": {
    "execution": {
     "iopub.execute_input": "2022-01-27T10:07:39.429693Z",
     "iopub.status.busy": "2022-01-27T10:07:39.429197Z",
     "iopub.status.idle": "2022-01-27T10:07:39.438635Z",
     "shell.execute_reply": "2022-01-27T10:07:39.439028Z"
    },
    "papermill": {
     "duration": 0.044959,
     "end_time": "2022-01-27T10:07:39.439159",
     "exception": false,
     "start_time": "2022-01-27T10:07:39.394200",
     "status": "completed"
    },
    "tags": []
   },
   "outputs": [],
   "source": [
    "%load_ext autoreload\n",
    "%autoreload 2"
   ]
  },
  {
   "cell_type": "code",
   "execution_count": 2,
   "id": "22ef38dc",
   "metadata": {
    "execution": {
     "iopub.execute_input": "2022-01-27T10:07:39.492609Z",
     "iopub.status.busy": "2022-01-27T10:07:39.492120Z",
     "iopub.status.idle": "2022-01-27T10:07:40.043393Z",
     "shell.execute_reply": "2022-01-27T10:07:40.042945Z"
    },
    "papermill": {
     "duration": 0.579202,
     "end_time": "2022-01-27T10:07:40.043510",
     "exception": false,
     "start_time": "2022-01-27T10:07:39.464308",
     "status": "completed"
    },
    "tags": []
   },
   "outputs": [],
   "source": [
    "%matplotlib inline\n",
    "import numpy as np\n",
    "import matplotlib.pyplot as plt\n",
    "import pandas as pd"
   ]
  },
  {
   "cell_type": "markdown",
   "id": "ba036198",
   "metadata": {
    "papermill": {
     "duration": 0.02482,
     "end_time": "2022-01-27T10:07:40.094129",
     "exception": false,
     "start_time": "2022-01-27T10:07:40.069309",
     "status": "completed"
    },
    "tags": []
   },
   "source": [
    "From the command line run `pip install mnist`. This is a library that will help you bring down the mnist dataset. If you run this from a notebook, you need to put  `!pip install mnist` in a cell by itself."
   ]
  },
  {
   "cell_type": "code",
   "execution_count": 3,
   "id": "bb6ad8a1",
   "metadata": {
    "execution": {
     "iopub.execute_input": "2022-01-27T10:07:40.147848Z",
     "iopub.status.busy": "2022-01-27T10:07:40.147354Z",
     "iopub.status.idle": "2022-01-27T10:07:41.821679Z",
     "shell.execute_reply": "2022-01-27T10:07:41.822429Z"
    },
    "papermill": {
     "duration": 1.70354,
     "end_time": "2022-01-27T10:07:41.822574",
     "exception": false,
     "start_time": "2022-01-27T10:07:40.119034",
     "status": "completed"
    },
    "tags": []
   },
   "outputs": [
    {
     "name": "stdout",
     "output_type": "stream",
     "text": [
      "Collecting mnist\r\n"
     ]
    },
    {
     "name": "stdout",
     "output_type": "stream",
     "text": [
      "  Downloading mnist-0.2.2-py2.py3-none-any.whl (3.5 kB)\r\n",
      "Requirement already satisfied: numpy in /opt/hostedtoolcache/Python/3.6.15/x64/lib/python3.6/site-packages (from mnist) (1.19.5)\r\n"
     ]
    },
    {
     "name": "stdout",
     "output_type": "stream",
     "text": [
      "Installing collected packages: mnist\r\n"
     ]
    },
    {
     "name": "stdout",
     "output_type": "stream",
     "text": [
      "Successfully installed mnist-0.2.2\r\n"
     ]
    }
   ],
   "source": [
    "!pip install mnist"
   ]
  },
  {
   "cell_type": "markdown",
   "id": "69df9c9a",
   "metadata": {
    "papermill": {
     "duration": 0.025869,
     "end_time": "2022-01-27T10:07:41.874652",
     "exception": false,
     "start_time": "2022-01-27T10:07:41.848783",
     "status": "completed"
    },
    "tags": []
   },
   "source": [
    "## Preparing the Data"
   ]
  },
  {
   "cell_type": "code",
   "execution_count": 4,
   "id": "7f69d806",
   "metadata": {
    "execution": {
     "iopub.execute_input": "2022-01-27T10:07:41.929424Z",
     "iopub.status.busy": "2022-01-27T10:07:41.928934Z",
     "iopub.status.idle": "2022-01-27T10:07:41.941792Z",
     "shell.execute_reply": "2022-01-27T10:07:41.941404Z"
    },
    "papermill": {
     "duration": 0.041478,
     "end_time": "2022-01-27T10:07:41.941891",
     "exception": false,
     "start_time": "2022-01-27T10:07:41.900413",
     "status": "completed"
    },
    "tags": []
   },
   "outputs": [],
   "source": [
    "import mnist"
   ]
  },
  {
   "cell_type": "code",
   "execution_count": 5,
   "id": "a411e44f",
   "metadata": {
    "execution": {
     "iopub.execute_input": "2022-01-27T10:07:41.996462Z",
     "iopub.status.busy": "2022-01-27T10:07:41.995979Z",
     "iopub.status.idle": "2022-01-27T10:07:42.594831Z",
     "shell.execute_reply": "2022-01-27T10:07:42.594367Z"
    },
    "papermill": {
     "duration": 0.627205,
     "end_time": "2022-01-27T10:07:42.594964",
     "exception": false,
     "start_time": "2022-01-27T10:07:41.967759",
     "status": "completed"
    },
    "tags": []
   },
   "outputs": [],
   "source": [
    "train_images = mnist.train_images()\n",
    "train_labels = mnist.train_labels()"
   ]
  },
  {
   "cell_type": "code",
   "execution_count": 6,
   "id": "dceab3a5",
   "metadata": {
    "execution": {
     "iopub.execute_input": "2022-01-27T10:07:42.650229Z",
     "iopub.status.busy": "2022-01-27T10:07:42.649736Z",
     "iopub.status.idle": "2022-01-27T10:07:42.663188Z",
     "shell.execute_reply": "2022-01-27T10:07:42.662749Z"
    },
    "papermill": {
     "duration": 0.042116,
     "end_time": "2022-01-27T10:07:42.663289",
     "exception": false,
     "start_time": "2022-01-27T10:07:42.621173",
     "status": "completed"
    },
    "tags": []
   },
   "outputs": [
    {
     "data": {
      "text/plain": [
       "((60000, 28, 28), (60000,))"
      ]
     },
     "execution_count": 6,
     "metadata": {},
     "output_type": "execute_result"
    }
   ],
   "source": [
    "train_images.shape, train_labels.shape"
   ]
  },
  {
   "cell_type": "code",
   "execution_count": 7,
   "id": "f50dc2bb",
   "metadata": {
    "execution": {
     "iopub.execute_input": "2022-01-27T10:07:42.718531Z",
     "iopub.status.busy": "2022-01-27T10:07:42.718047Z",
     "iopub.status.idle": "2022-01-27T10:07:42.947827Z",
     "shell.execute_reply": "2022-01-27T10:07:42.947389Z"
    },
    "papermill": {
     "duration": 0.258647,
     "end_time": "2022-01-27T10:07:42.947943",
     "exception": false,
     "start_time": "2022-01-27T10:07:42.689296",
     "status": "completed"
    },
    "tags": []
   },
   "outputs": [],
   "source": [
    "test_images = mnist.test_images()\n",
    "test_labels = mnist.test_labels()"
   ]
  },
  {
   "cell_type": "code",
   "execution_count": 8,
   "id": "fc38cf1b",
   "metadata": {
    "execution": {
     "iopub.execute_input": "2022-01-27T10:07:43.003973Z",
     "iopub.status.busy": "2022-01-27T10:07:43.003482Z",
     "iopub.status.idle": "2022-01-27T10:07:43.014683Z",
     "shell.execute_reply": "2022-01-27T10:07:43.015162Z"
    },
    "papermill": {
     "duration": 0.040963,
     "end_time": "2022-01-27T10:07:43.015277",
     "exception": false,
     "start_time": "2022-01-27T10:07:42.974314",
     "status": "completed"
    },
    "tags": []
   },
   "outputs": [
    {
     "data": {
      "text/plain": [
       "((10000, 28, 28), (10000,))"
      ]
     },
     "execution_count": 8,
     "metadata": {},
     "output_type": "execute_result"
    }
   ],
   "source": [
    "test_images.shape, test_labels.shape"
   ]
  },
  {
   "cell_type": "code",
   "execution_count": 9,
   "id": "f9ed8fe0",
   "metadata": {
    "execution": {
     "iopub.execute_input": "2022-01-27T10:07:43.071202Z",
     "iopub.status.busy": "2022-01-27T10:07:43.070688Z",
     "iopub.status.idle": "2022-01-27T10:07:43.202156Z",
     "shell.execute_reply": "2022-01-27T10:07:43.202558Z"
    },
    "papermill": {
     "duration": 0.160985,
     "end_time": "2022-01-27T10:07:43.202681",
     "exception": false,
     "start_time": "2022-01-27T10:07:43.041696",
     "status": "completed"
    },
    "tags": []
   },
   "outputs": [
    {
     "name": "stdout",
     "output_type": "stream",
     "text": [
      "2\n"
     ]
    },
    {
     "data": {
      "text/plain": [
       "<matplotlib.image.AxesImage at 0x7fcaa29c6a90>"
      ]
     },
     "execution_count": 9,
     "metadata": {},
     "output_type": "execute_result"
    },
    {
     "data": {
      "image/png": "[encoded data removed]",
      "text/plain": [
       "<Figure size 432x288 with 1 Axes>"
      ]
     },
     "metadata": {
      "needs_background": "light"
     },
     "output_type": "display_data"
    }
   ],
   "source": [
    "image_index = 7776 # You may select anything up to 60,000\n",
    "print(train_labels[image_index]) \n",
    "plt.imshow(train_images[image_index], cmap='Greys')"
   ]
  },
  {
   "cell_type": "markdown",
   "id": "a8d2388d",
   "metadata": {
    "papermill": {
     "duration": 0.027731,
     "end_time": "2022-01-27T10:07:43.259006",
     "exception": false,
     "start_time": "2022-01-27T10:07:43.231275",
     "status": "completed"
    },
    "tags": []
   },
   "source": [
    "## Filter data to get 3 and 8 out"
   ]
  },
  {
   "cell_type": "code",
   "execution_count": 10,
   "id": "776f7fc7",
   "metadata": {
    "execution": {
     "iopub.execute_input": "2022-01-27T10:07:43.317966Z",
     "iopub.status.busy": "2022-01-27T10:07:43.317455Z",
     "iopub.status.idle": "2022-01-27T10:07:43.334226Z",
     "shell.execute_reply": "2022-01-27T10:07:43.333786Z"
    },
    "papermill": {
     "duration": 0.047882,
     "end_time": "2022-01-27T10:07:43.334330",
     "exception": false,
     "start_time": "2022-01-27T10:07:43.286448",
     "status": "completed"
    },
    "tags": []
   },
   "outputs": [],
   "source": [
    "train_filter = np.where((train_labels == 3 ) | (train_labels == 8))\n",
    "test_filter = np.where((test_labels == 3) | (test_labels == 8))\n",
    "X_train, y_train = train_images[train_filter], train_labels[train_filter]\n",
    "X_test, y_test = test_images[test_filter], test_labels[test_filter]"
   ]
  },
  {
   "cell_type": "markdown",
   "id": "948f0b7e",
   "metadata": {
    "papermill": {
     "duration": 0.02731,
     "end_time": "2022-01-27T10:07:43.389212",
     "exception": false,
     "start_time": "2022-01-27T10:07:43.361902",
     "status": "completed"
    },
    "tags": []
   },
   "source": [
    "We normalize the pizel values in the 0 to 1 range"
   ]
  },
  {
   "cell_type": "code",
   "execution_count": 11,
   "id": "ee4c2166",
   "metadata": {
    "execution": {
     "iopub.execute_input": "2022-01-27T10:07:43.446908Z",
     "iopub.status.busy": "2022-01-27T10:07:43.446383Z",
     "iopub.status.idle": "2022-01-27T10:07:43.484787Z",
     "shell.execute_reply": "2022-01-27T10:07:43.484358Z"
    },
    "papermill": {
     "duration": 0.068321,
     "end_time": "2022-01-27T10:07:43.484901",
     "exception": false,
     "start_time": "2022-01-27T10:07:43.416580",
     "status": "completed"
    },
    "tags": []
   },
   "outputs": [],
   "source": [
    "X_train = X_train/255.\n",
    "X_test = X_test/255."
   ]
  },
  {
   "cell_type": "markdown",
   "id": "ddcf4fab",
   "metadata": {
    "papermill": {
     "duration": 0.027473,
     "end_time": "2022-01-27T10:07:43.540193",
     "exception": false,
     "start_time": "2022-01-27T10:07:43.512720",
     "status": "completed"
    },
    "tags": []
   },
   "source": [
    "And setup the labels as 1 (when the digit is 3) and 0 (when the digit is 8)"
   ]
  },
  {
   "cell_type": "code",
   "execution_count": 12,
   "id": "7dc908f2",
   "metadata": {
    "execution": {
     "iopub.execute_input": "2022-01-27T10:07:43.598682Z",
     "iopub.status.busy": "2022-01-27T10:07:43.598178Z",
     "iopub.status.idle": "2022-01-27T10:07:43.610500Z",
     "shell.execute_reply": "2022-01-27T10:07:43.610067Z"
    },
    "papermill": {
     "duration": 0.042881,
     "end_time": "2022-01-27T10:07:43.610603",
     "exception": false,
     "start_time": "2022-01-27T10:07:43.567722",
     "status": "completed"
    },
    "tags": []
   },
   "outputs": [],
   "source": [
    "y_train = 1*(y_train==3)\n",
    "y_test = 1*(y_test==3)"
   ]
  },
  {
   "cell_type": "code",
   "execution_count": 13,
   "id": "01e4e969",
   "metadata": {
    "execution": {
     "iopub.execute_input": "2022-01-27T10:07:43.670265Z",
     "iopub.status.busy": "2022-01-27T10:07:43.669158Z",
     "iopub.status.idle": "2022-01-27T10:07:43.680462Z",
     "shell.execute_reply": "2022-01-27T10:07:43.680065Z"
    },
    "papermill": {
     "duration": 0.042428,
     "end_time": "2022-01-27T10:07:43.680562",
     "exception": false,
     "start_time": "2022-01-27T10:07:43.638134",
     "status": "completed"
    },
    "tags": []
   },
   "outputs": [
    {
     "data": {
      "text/plain": [
       "((11982, 28, 28), (1984, 28, 28))"
      ]
     },
     "execution_count": 13,
     "metadata": {},
     "output_type": "execute_result"
    }
   ],
   "source": [
    "X_train.shape, X_test.shape"
   ]
  },
  {
   "cell_type": "markdown",
   "id": "5ccf3f85",
   "metadata": {
    "papermill": {
     "duration": 0.027849,
     "end_time": "2022-01-27T10:07:43.736103",
     "exception": false,
     "start_time": "2022-01-27T10:07:43.708254",
     "status": "completed"
    },
    "tags": []
   },
   "source": [
    "We reshape the data to flatten the image pixels into a set of features or co-variates:"
   ]
  },
  {
   "cell_type": "code",
   "execution_count": 14,
   "id": "5286a4a3",
   "metadata": {
    "execution": {
     "iopub.execute_input": "2022-01-27T10:07:43.795293Z",
     "iopub.status.busy": "2022-01-27T10:07:43.794769Z",
     "iopub.status.idle": "2022-01-27T10:07:43.807415Z",
     "shell.execute_reply": "2022-01-27T10:07:43.807780Z"
    },
    "papermill": {
     "duration": 0.04382,
     "end_time": "2022-01-27T10:07:43.807897",
     "exception": false,
     "start_time": "2022-01-27T10:07:43.764077",
     "status": "completed"
    },
    "tags": []
   },
   "outputs": [
    {
     "data": {
      "text/plain": [
       "((11982, 784), (1984, 784))"
      ]
     },
     "execution_count": 14,
     "metadata": {},
     "output_type": "execute_result"
    }
   ],
   "source": [
    "X_train = X_train.reshape(X_train.shape[0], -1)\n",
    "X_test = X_test.reshape(X_test.shape[0], -1)\n",
    "X_train.shape, X_test.shape"
   ]
  },
  {
   "cell_type": "code",
   "execution_count": 15,
   "id": "73c5f88a",
   "metadata": {
    "execution": {
     "iopub.execute_input": "2022-01-27T10:07:43.867521Z",
     "iopub.status.busy": "2022-01-27T10:07:43.867024Z",
     "iopub.status.idle": "2022-01-27T10:07:43.883625Z",
     "shell.execute_reply": "2022-01-27T10:07:43.883989Z"
    },
    "papermill": {
     "duration": 0.048199,
     "end_time": "2022-01-27T10:07:43.884099",
     "exception": false,
     "start_time": "2022-01-27T10:07:43.835900",
     "status": "completed"
    },
    "tags": []
   },
   "outputs": [],
   "source": [
    "#Impoting functions from 'Kudzu'\n",
    "from kudzu.model import Model\n",
    "from kudzu.train import Learner\n",
    "from kudzu.optim import GD\n",
    "from kudzu.data import Data, Sampler,Dataloader\n",
    "\n",
    "from kudzu.callbacks import AccCallback\n",
    "from kudzu.callbacks import ClfCallback\n",
    "\n",
    "from kudzu.loss import MSE\n",
    "\n",
    "from kudzu.layer import Sigmoid,Relu\n",
    "from kudzu.layer import Affine"
   ]
  },
  {
   "cell_type": "markdown",
   "id": "bc01172a",
   "metadata": {
    "papermill": {
     "duration": 0.028018,
     "end_time": "2022-01-27T10:07:43.940269",
     "exception": false,
     "start_time": "2022-01-27T10:07:43.912251",
     "status": "completed"
    },
    "tags": []
   },
   "source": [
    "### Let us create a `Config` class, to store important parameters. \n",
    "This class essentially plays the role of a dictionary."
   ]
  },
  {
   "cell_type": "code",
   "execution_count": 16,
   "id": "978281aa",
   "metadata": {
    "execution": {
     "iopub.execute_input": "2022-01-27T10:07:43.999302Z",
     "iopub.status.busy": "2022-01-27T10:07:43.998783Z",
     "iopub.status.idle": "2022-01-27T10:07:44.009451Z",
     "shell.execute_reply": "2022-01-27T10:07:44.009858Z"
    },
    "papermill": {
     "duration": 0.041678,
     "end_time": "2022-01-27T10:07:44.009964",
     "exception": false,
     "start_time": "2022-01-27T10:07:43.968286",
     "status": "completed"
    },
    "tags": []
   },
   "outputs": [],
   "source": [
    "class Config:\n",
    "    pass\n",
    "config = Config()\n",
    "config.lr = 0.001\n",
    "config.num_epochs = 250\n",
    "config.bs = 50"
   ]
  },
  {
   "cell_type": "markdown",
   "id": "1385fa59",
   "metadata": {
    "papermill": {
     "duration": 0.027962,
     "end_time": "2022-01-27T10:07:44.065940",
     "exception": false,
     "start_time": "2022-01-27T10:07:44.037978",
     "status": "completed"
    },
    "tags": []
   },
   "source": [
    "### Running Models with the Training data\n",
    "Details about the network layers:\n",
    "- A first affine layer has 784 inputs and does 100 affine transforms. These are followed by a Relu\n",
    "- A second affine layer has 100 inputs from the 100 activations of the past layer, and does 100 affine transforms. These are followed by a Relu\n",
    "- A third affine layer has 100 activations and does 2 affine transformations to create an embedding for visualization. There is no non-linearity here.\n",
    "- A final \"logistic regression\" which has an affine transform from 2 inputs to 1 output, which is squeezed through a sigmoid.\n"
   ]
  },
  {
   "cell_type": "code",
   "execution_count": 17,
   "id": "2b9c66db",
   "metadata": {
    "execution": {
     "iopub.execute_input": "2022-01-27T10:07:44.125622Z",
     "iopub.status.busy": "2022-01-27T10:07:44.125135Z",
     "iopub.status.idle": "2022-01-27T10:07:44.136542Z",
     "shell.execute_reply": "2022-01-27T10:07:44.136144Z"
    },
    "papermill": {
     "duration": 0.042598,
     "end_time": "2022-01-27T10:07:44.136640",
     "exception": false,
     "start_time": "2022-01-27T10:07:44.094042",
     "status": "completed"
    },
    "tags": []
   },
   "outputs": [],
   "source": [
    "data = Data(X_train, y_train.reshape(-1,1))\n",
    "sampler = Sampler(data, config.bs, shuffle=True)\n",
    "\n",
    "dl = Dataloader(data, sampler)\n",
    "\n",
    "opt = GD(config.lr)\n",
    "loss = MSE()"
   ]
  },
  {
   "cell_type": "code",
   "execution_count": 18,
   "id": "b275e4c2",
   "metadata": {
    "execution": {
     "iopub.execute_input": "2022-01-27T10:07:44.196498Z",
     "iopub.status.busy": "2022-01-27T10:07:44.195988Z",
     "iopub.status.idle": "2022-01-27T10:07:44.208004Z",
     "shell.execute_reply": "2022-01-27T10:07:44.207574Z"
    },
    "papermill": {
     "duration": 0.043341,
     "end_time": "2022-01-27T10:07:44.208104",
     "exception": false,
     "start_time": "2022-01-27T10:07:44.164763",
     "status": "completed"
    },
    "tags": []
   },
   "outputs": [],
   "source": [
    "training_data_x = X_train\n",
    "testing_data_x = X_test\n",
    "training_data_y = y_train.reshape(-1,1)\n",
    "testing_data_y = y_test.reshape(-1,1)"
   ]
  },
  {
   "cell_type": "code",
   "execution_count": 19,
   "id": "76951160",
   "metadata": {
    "execution": {
     "iopub.execute_input": "2022-01-27T10:07:44.267742Z",
     "iopub.status.busy": "2022-01-27T10:07:44.267246Z",
     "iopub.status.idle": "2022-01-27T10:07:44.281825Z",
     "shell.execute_reply": "2022-01-27T10:07:44.282256Z"
    },
    "papermill": {
     "duration": 0.0463,
     "end_time": "2022-01-27T10:07:44.282368",
     "exception": false,
     "start_time": "2022-01-27T10:07:44.236068",
     "status": "completed"
    },
    "tags": []
   },
   "outputs": [
    {
     "name": "stdout",
     "output_type": "stream",
     "text": [
      "xavier\n",
      "xavier\n",
      "xavier\n",
      "xavier\n",
      "xavier\n"
     ]
    }
   ],
   "source": [
    "layers = [Affine(\"first\", 784, 100), Relu(\"first\"), Affine(\"second\", 100, 100), Relu(\"second\"), Affine(\"third\", 100, 2), Affine(\"last\", 2, 1), Sigmoid(\"last\")]\n",
    "model_nn = Model(layers)\n",
    "model_lr = Model([Affine(\"logits\", 784, 1), Sigmoid(\"sigmoid\")])"
   ]
  },
  {
   "cell_type": "code",
   "execution_count": 20,
   "id": "6eede77a",
   "metadata": {
    "execution": {
     "iopub.execute_input": "2022-01-27T10:07:44.342930Z",
     "iopub.status.busy": "2022-01-27T10:07:44.342411Z",
     "iopub.status.idle": "2022-01-27T10:07:44.353159Z",
     "shell.execute_reply": "2022-01-27T10:07:44.352737Z"
    },
    "papermill": {
     "duration": 0.042459,
     "end_time": "2022-01-27T10:07:44.353257",
     "exception": false,
     "start_time": "2022-01-27T10:07:44.310798",
     "status": "completed"
    },
    "tags": []
   },
   "outputs": [],
   "source": [
    "nn_learner = Learner(loss, model_nn, opt, config.num_epochs)\n",
    "acc_nn = ClfCallback(nn_learner, config.bs, training_data_x , testing_data_x, training_data_y, testing_data_y)\n",
    "nn_learner.set_callbacks([acc_nn])"
   ]
  },
  {
   "cell_type": "code",
   "execution_count": 21,
   "id": "877b6cc7",
   "metadata": {
    "execution": {
     "iopub.execute_input": "2022-01-27T10:07:44.413278Z",
     "iopub.status.busy": "2022-01-27T10:07:44.412763Z",
     "iopub.status.idle": "2022-01-27T10:07:44.423512Z",
     "shell.execute_reply": "2022-01-27T10:07:44.423123Z"
    },
    "papermill": {
     "duration": 0.042025,
     "end_time": "2022-01-27T10:07:44.423612",
     "exception": false,
     "start_time": "2022-01-27T10:07:44.381587",
     "status": "completed"
    },
    "tags": []
   },
   "outputs": [],
   "source": [
    "lr_learner = Learner(loss, model_lr, opt, config.num_epochs)\n",
    "acc_lr = ClfCallback(lr_learner, config.bs, training_data_x , testing_data_x, training_data_y, testing_data_y)\n",
    "lr_learner.set_callbacks([acc_lr])"
   ]
  },
  {
   "cell_type": "code",
   "execution_count": 22,
   "id": "d9b133c3",
   "metadata": {
    "execution": {
     "iopub.execute_input": "2022-01-27T10:07:44.483627Z",
     "iopub.status.busy": "2022-01-27T10:07:44.483134Z",
     "iopub.status.idle": "2022-01-27T10:10:40.187207Z",
     "shell.execute_reply": "2022-01-27T10:10:40.187639Z"
    },
    "papermill": {
     "duration": 175.735773,
     "end_time": "2022-01-27T10:10:40.187771",
     "exception": false,
     "start_time": "2022-01-27T10:07:44.451998",
     "status": "completed"
    },
    "tags": []
   },
   "outputs": [
    {
     "name": "stdout",
     "output_type": "stream",
     "text": [
      "Epoch 0, Loss 0.2215\n",
      "Training Accuracy: 0.8078, Testing Accuracy: 0.8276\n",
      "\n"
     ]
    },
    {
     "name": "stdout",
     "output_type": "stream",
     "text": [
      "Epoch 10, Loss 0.0861\n",
      "Training Accuracy: 0.9238, Testing Accuracy: 0.9345\n",
      "\n"
     ]
    },
    {
     "name": "stdout",
     "output_type": "stream",
     "text": [
      "Epoch 20, Loss 0.0537\n",
      "Training Accuracy: 0.9446, Testing Accuracy: 0.9561\n",
      "\n"
     ]
    },
    {
     "name": "stdout",
     "output_type": "stream",
     "text": [
      "Epoch 30, Loss 0.0424\n",
      "Training Accuracy: 0.9547, Testing Accuracy: 0.9642\n",
      "\n"
     ]
    },
    {
     "name": "stdout",
     "output_type": "stream",
     "text": [
      "Epoch 40, Loss 0.0367\n",
      "Training Accuracy: 0.9600, Testing Accuracy: 0.9677\n",
      "\n"
     ]
    },
    {
     "name": "stdout",
     "output_type": "stream",
     "text": [
      "Epoch 50, Loss 0.0332\n",
      "Training Accuracy: 0.9628, Testing Accuracy: 0.9672\n",
      "\n"
     ]
    },
    {
     "name": "stdout",
     "output_type": "stream",
     "text": [
      "Epoch 60, Loss 0.0308\n",
      "Training Accuracy: 0.9649, Testing Accuracy: 0.9677\n",
      "\n"
     ]
    },
    {
     "name": "stdout",
     "output_type": "stream",
     "text": [
      "Epoch 70, Loss 0.0291\n",
      "Training Accuracy: 0.9671, Testing Accuracy: 0.9693\n",
      "\n"
     ]
    },
    {
     "name": "stdout",
     "output_type": "stream",
     "text": [
      "Epoch 80, Loss 0.0277\n",
      "Training Accuracy: 0.9685, Testing Accuracy: 0.9693\n",
      "\n"
     ]
    },
    {
     "name": "stdout",
     "output_type": "stream",
     "text": [
      "Epoch 90, Loss 0.0265\n",
      "Training Accuracy: 0.9690, Testing Accuracy: 0.9703\n",
      "\n"
     ]
    },
    {
     "name": "stdout",
     "output_type": "stream",
     "text": [
      "Epoch 100, Loss 0.0255\n",
      "Training Accuracy: 0.9700, Testing Accuracy: 0.9713\n",
      "\n"
     ]
    },
    {
     "name": "stdout",
     "output_type": "stream",
     "text": [
      "Epoch 110, Loss 0.0247\n",
      "Training Accuracy: 0.9711, Testing Accuracy: 0.9733\n",
      "\n"
     ]
    },
    {
     "name": "stdout",
     "output_type": "stream",
     "text": [
      "Epoch 120, Loss 0.0239\n",
      "Training Accuracy: 0.9723, Testing Accuracy: 0.9743\n",
      "\n"
     ]
    },
    {
     "name": "stdout",
     "output_type": "stream",
     "text": [
      "Epoch 130, Loss 0.0233\n",
      "Training Accuracy: 0.9732, Testing Accuracy: 0.9738\n",
      "\n"
     ]
    },
    {
     "name": "stdout",
     "output_type": "stream",
     "text": [
      "Epoch 140, Loss 0.0226\n",
      "Training Accuracy: 0.9739, Testing Accuracy: 0.9733\n",
      "\n"
     ]
    },
    {
     "name": "stdout",
     "output_type": "stream",
     "text": [
      "Epoch 150, Loss 0.0221\n",
      "Training Accuracy: 0.9749, Testing Accuracy: 0.9733\n",
      "\n"
     ]
    },
    {
     "name": "stdout",
     "output_type": "stream",
     "text": [
      "Epoch 160, Loss 0.0215\n",
      "Training Accuracy: 0.9762, Testing Accuracy: 0.9733\n",
      "\n"
     ]
    },
    {
     "name": "stdout",
     "output_type": "stream",
     "text": [
      "Epoch 170, Loss 0.021\n",
      "Training Accuracy: 0.9762, Testing Accuracy: 0.9743\n",
      "\n"
     ]
    },
    {
     "name": "stdout",
     "output_type": "stream",
     "text": [
      "Epoch 180, Loss 0.0206\n",
      "Training Accuracy: 0.9773, Testing Accuracy: 0.9748\n",
      "\n"
     ]
    },
    {
     "name": "stdout",
     "output_type": "stream",
     "text": [
      "Epoch 190, Loss 0.0201\n",
      "Training Accuracy: 0.9783, Testing Accuracy: 0.9748\n",
      "\n"
     ]
    },
    {
     "name": "stdout",
     "output_type": "stream",
     "text": [
      "Epoch 200, Loss 0.0197\n",
      "Training Accuracy: 0.9778, Testing Accuracy: 0.9748\n",
      "\n"
     ]
    },
    {
     "name": "stdout",
     "output_type": "stream",
     "text": [
      "Epoch 210, Loss 0.0193\n",
      "Training Accuracy: 0.9786, Testing Accuracy: 0.9753\n",
      "\n"
     ]
    },
    {
     "name": "stdout",
     "output_type": "stream",
     "text": [
      "Epoch 220, Loss 0.0189\n",
      "Training Accuracy: 0.9791, Testing Accuracy: 0.9758\n",
      "\n"
     ]
    },
    {
     "name": "stdout",
     "output_type": "stream",
     "text": [
      "Epoch 230, Loss 0.0185\n",
      "Training Accuracy: 0.9794, Testing Accuracy: 0.9763\n",
      "\n"
     ]
    },
    {
     "name": "stdout",
     "output_type": "stream",
     "text": [
      "Epoch 240, Loss 0.0182\n",
      "Training Accuracy: 0.9802, Testing Accuracy: 0.9758\n",
      "\n"
     ]
    },
    {
     "data": {
      "text/plain": [
       "0.054856752325352726"
      ]
     },
     "execution_count": 22,
     "metadata": {},
     "output_type": "execute_result"
    }
   ],
   "source": [
    "nn_learner.train_loop(dl)"
   ]
  },
  {
   "cell_type": "code",
   "execution_count": 23,
   "id": "e0163366",
   "metadata": {
    "execution": {
     "iopub.execute_input": "2022-01-27T10:10:40.262536Z",
     "iopub.status.busy": "2022-01-27T10:10:40.261920Z",
     "iopub.status.idle": "2022-01-27T10:10:52.599502Z",
     "shell.execute_reply": "2022-01-27T10:10:52.599911Z"
    },
    "papermill": {
     "duration": 12.376273,
     "end_time": "2022-01-27T10:10:52.600041",
     "exception": false,
     "start_time": "2022-01-27T10:10:40.223768",
     "status": "completed"
    },
    "tags": []
   },
   "outputs": [
    {
     "name": "stdout",
     "output_type": "stream",
     "text": [
      "Epoch 0, Loss 0.2586\n",
      "Training Accuracy: 0.6166, Testing Accuracy: 0.6331\n",
      "\n"
     ]
    },
    {
     "name": "stdout",
     "output_type": "stream",
     "text": [
      "Epoch 10, Loss 0.107\n",
      "Training Accuracy: 0.9027, Testing Accuracy: 0.9163\n",
      "\n"
     ]
    },
    {
     "name": "stdout",
     "output_type": "stream",
     "text": [
      "Epoch 20, Loss 0.0816\n",
      "Training Accuracy: 0.9246, Testing Accuracy: 0.9380\n",
      "\n"
     ]
    },
    {
     "name": "stdout",
     "output_type": "stream",
     "text": [
      "Epoch 30, Loss 0.0699\n",
      "Training Accuracy: 0.9341, Testing Accuracy: 0.9461\n",
      "\n"
     ]
    },
    {
     "name": "stdout",
     "output_type": "stream",
     "text": [
      "Epoch 40, Loss 0.0628\n",
      "Training Accuracy: 0.9396, Testing Accuracy: 0.9546\n",
      "\n"
     ]
    },
    {
     "name": "stdout",
     "output_type": "stream",
     "text": [
      "Epoch 50, Loss 0.0581\n",
      "Training Accuracy: 0.9435, Testing Accuracy: 0.9567\n",
      "\n"
     ]
    },
    {
     "name": "stdout",
     "output_type": "stream",
     "text": [
      "Epoch 60, Loss 0.0546\n",
      "Training Accuracy: 0.9464, Testing Accuracy: 0.9582\n",
      "\n"
     ]
    },
    {
     "name": "stdout",
     "output_type": "stream",
     "text": [
      "Epoch 70, Loss 0.0519\n",
      "Training Accuracy: 0.9485, Testing Accuracy: 0.9582\n",
      "\n"
     ]
    },
    {
     "name": "stdout",
     "output_type": "stream",
     "text": [
      "Epoch 80, Loss 0.0497\n",
      "Training Accuracy: 0.9498, Testing Accuracy: 0.9602\n",
      "\n"
     ]
    },
    {
     "name": "stdout",
     "output_type": "stream",
     "text": [
      "Epoch 90, Loss 0.048\n",
      "Training Accuracy: 0.9511, Testing Accuracy: 0.9622\n",
      "\n"
     ]
    },
    {
     "name": "stdout",
     "output_type": "stream",
     "text": [
      "Epoch 100, Loss 0.0465\n",
      "Training Accuracy: 0.9524, Testing Accuracy: 0.9627\n",
      "\n"
     ]
    },
    {
     "name": "stdout",
     "output_type": "stream",
     "text": [
      "Epoch 110, Loss 0.0452\n",
      "Training Accuracy: 0.9535, Testing Accuracy: 0.9642\n",
      "\n"
     ]
    },
    {
     "name": "stdout",
     "output_type": "stream",
     "text": [
      "Epoch 120, Loss 0.0441\n",
      "Training Accuracy: 0.9548, Testing Accuracy: 0.9642\n",
      "\n"
     ]
    },
    {
     "name": "stdout",
     "output_type": "stream",
     "text": [
      "Epoch 130, Loss 0.0431\n",
      "Training Accuracy: 0.9552, Testing Accuracy: 0.9647\n",
      "\n"
     ]
    },
    {
     "name": "stdout",
     "output_type": "stream",
     "text": [
      "Epoch 140, Loss 0.0423\n",
      "Training Accuracy: 0.9564, Testing Accuracy: 0.9652\n",
      "\n"
     ]
    },
    {
     "name": "stdout",
     "output_type": "stream",
     "text": [
      "Epoch 150, Loss 0.0415\n",
      "Training Accuracy: 0.9571, Testing Accuracy: 0.9657\n",
      "\n"
     ]
    },
    {
     "name": "stdout",
     "output_type": "stream",
     "text": [
      "Epoch 160, Loss 0.0408\n",
      "Training Accuracy: 0.9577, Testing Accuracy: 0.9662\n",
      "\n"
     ]
    },
    {
     "name": "stdout",
     "output_type": "stream",
     "text": [
      "Epoch 170, Loss 0.0402\n",
      "Training Accuracy: 0.9584, Testing Accuracy: 0.9662\n",
      "\n"
     ]
    },
    {
     "name": "stdout",
     "output_type": "stream",
     "text": [
      "Epoch 180, Loss 0.0396\n",
      "Training Accuracy: 0.9585, Testing Accuracy: 0.9667\n",
      "\n"
     ]
    },
    {
     "name": "stdout",
     "output_type": "stream",
     "text": [
      "Epoch 190, Loss 0.0391\n",
      "Training Accuracy: 0.9589, Testing Accuracy: 0.9662\n",
      "\n"
     ]
    },
    {
     "name": "stdout",
     "output_type": "stream",
     "text": [
      "Epoch 200, Loss 0.0386\n",
      "Training Accuracy: 0.9593, Testing Accuracy: 0.9667\n",
      "\n"
     ]
    },
    {
     "name": "stdout",
     "output_type": "stream",
     "text": [
      "Epoch 210, Loss 0.0381\n",
      "Training Accuracy: 0.9598, Testing Accuracy: 0.9667\n",
      "\n"
     ]
    },
    {
     "name": "stdout",
     "output_type": "stream",
     "text": [
      "Epoch 220, Loss 0.0377\n",
      "Training Accuracy: 0.9601, Testing Accuracy: 0.9662\n",
      "\n"
     ]
    },
    {
     "name": "stdout",
     "output_type": "stream",
     "text": [
      "Epoch 230, Loss 0.0373\n",
      "Training Accuracy: 0.9604, Testing Accuracy: 0.9662\n",
      "\n"
     ]
    },
    {
     "name": "stdout",
     "output_type": "stream",
     "text": [
      "Epoch 240, Loss 0.037\n",
      "Training Accuracy: 0.9607, Testing Accuracy: 0.9662\n",
      "\n"
     ]
    },
    {
     "data": {
      "text/plain": [
       "0.0131476149368242"
      ]
     },
     "execution_count": 23,
     "metadata": {},
     "output_type": "execute_result"
    }
   ],
   "source": [
    "lr_learner.train_loop(dl)"
   ]
  },
  {
   "cell_type": "code",
   "execution_count": 24,
   "id": "ca410940",
   "metadata": {
    "execution": {
     "iopub.execute_input": "2022-01-27T10:10:52.693557Z",
     "iopub.status.busy": "2022-01-27T10:10:52.690997Z",
     "iopub.status.idle": "2022-01-27T10:10:52.930705Z",
     "shell.execute_reply": "2022-01-27T10:10:52.930246Z"
    },
    "papermill": {
     "duration": 0.28724,
     "end_time": "2022-01-27T10:10:52.930821",
     "exception": false,
     "start_time": "2022-01-27T10:10:52.643581",
     "status": "completed"
    },
    "tags": []
   },
   "outputs": [
    {
     "data": {
      "text/plain": [
       "<matplotlib.legend.Legend at 0x7fcaa2522f60>"
      ]
     },
     "execution_count": 24,
     "metadata": {},
     "output_type": "execute_result"
    },
    {
     "data": {
      "image/png": "[encoded data removed]",
      "text/plain": [
       "<Figure size 1080x720 with 1 Axes>"
      ]
     },
     "metadata": {
      "needs_background": "light"
     },
     "output_type": "display_data"
    }
   ],
   "source": [
    "#comparing the results of NN and LR\n",
    "plt.figure(figsize=(15,10))\n",
    "\n",
    "# Neural Network plots\n",
    "plt.plot(acc_nn.accuracies, 'r-', label = \"Training Accuracies - NN\")\n",
    "plt.plot(acc_nn.test_accuracies, 'g-', label = \"Testing Accuracies - NN\")\n",
    "\n",
    "# Logistic Regression plots\n",
    "plt.plot(acc_lr.accuracies, 'k-', label = \"Training Accuracies - LR\")\n",
    "plt.plot(acc_lr.test_accuracies, 'b-', label = \"Testing Accuracies - LR\")\n",
    "plt.legend()"
   ]
  },
  {
   "cell_type": "markdown",
   "id": "80dfb35c",
   "metadata": {
    "papermill": {
     "duration": 0.044113,
     "end_time": "2022-01-27T10:10:53.019372",
     "exception": false,
     "start_time": "2022-01-27T10:10:52.975259",
     "status": "completed"
    },
    "tags": []
   },
   "source": [
    "#### Plotting the outputs of this layer of the NN.\n"
   ]
  },
  {
   "cell_type": "code",
   "execution_count": 25,
   "id": "45eb2ff5",
   "metadata": {
    "execution": {
     "iopub.execute_input": "2022-01-27T10:10:53.111566Z",
     "iopub.status.busy": "2022-01-27T10:10:53.111037Z",
     "iopub.status.idle": "2022-01-27T10:10:53.145961Z",
     "shell.execute_reply": "2022-01-27T10:10:53.146706Z"
    },
    "papermill": {
     "duration": 0.08329,
     "end_time": "2022-01-27T10:10:53.146871",
     "exception": false,
     "start_time": "2022-01-27T10:10:53.063581",
     "status": "completed"
    },
    "tags": []
   },
   "outputs": [],
   "source": [
    "new_model = Model(layers[:-2])\n",
    "testing_plot = new_model(testing_data_x)"
   ]
  },
  {
   "cell_type": "code",
   "execution_count": 26,
   "id": "4c0a5485",
   "metadata": {
    "execution": {
     "iopub.execute_input": "2022-01-27T10:10:53.244630Z",
     "iopub.status.busy": "2022-01-27T10:10:53.241962Z",
     "iopub.status.idle": "2022-01-27T10:10:53.475626Z",
     "shell.execute_reply": "2022-01-27T10:10:53.476028Z"
    },
    "papermill": {
     "duration": 0.284718,
     "end_time": "2022-01-27T10:10:53.476157",
     "exception": false,
     "start_time": "2022-01-27T10:10:53.191439",
     "status": "completed"
    },
    "tags": []
   },
   "outputs": [
    {
     "data": {
      "text/plain": [
       "Text(0.5, 1.0, 'Outputs')"
      ]
     },
     "execution_count": 26,
     "metadata": {},
     "output_type": "execute_result"
    },
    {
     "data": {
      "image/png": "[encoded data removed]",
      "text/plain": [
       "<Figure size 576x504 with 1 Axes>"
      ]
     },
     "metadata": {
      "needs_background": "light"
     },
     "output_type": "display_data"
    }
   ],
   "source": [
    "# Plotting the scatter plot of points and color coding by class\n",
    "plt.figure(figsize=(8,7))\n",
    "plt.scatter(testing_plot[:,0], testing_plot[:,1], alpha = 0.1, c = y_test.ravel());\n",
    "plt.title('Outputs')"
   ]
  },
  {
   "cell_type": "markdown",
   "id": "a74fcf8f",
   "metadata": {
    "papermill": {
     "duration": 0.04818,
     "end_time": "2022-01-27T10:10:53.571947",
     "exception": false,
     "start_time": "2022-01-27T10:10:53.523767",
     "status": "completed"
    },
    "tags": []
   },
   "source": [
    "Probability contours"
   ]
  },
  {
   "cell_type": "code",
   "execution_count": 27,
   "id": "d0afc8e3",
   "metadata": {
    "execution": {
     "iopub.execute_input": "2022-01-27T10:10:53.695631Z",
     "iopub.status.busy": "2022-01-27T10:10:53.692637Z",
     "iopub.status.idle": "2022-01-27T10:10:53.703228Z",
     "shell.execute_reply": "2022-01-27T10:10:53.703692Z"
    },
    "papermill": {
     "duration": 0.061886,
     "end_time": "2022-01-27T10:10:53.703822",
     "exception": false,
     "start_time": "2022-01-27T10:10:53.641936",
     "status": "completed"
    },
    "tags": []
   },
   "outputs": [],
   "source": [
    "model_prob = Model(layers[-2:]) "
   ]
  },
  {
   "cell_type": "code",
   "execution_count": 28,
   "id": "9b96e238",
   "metadata": {
    "execution": {
     "iopub.execute_input": "2022-01-27T10:10:53.803962Z",
     "iopub.status.busy": "2022-01-27T10:10:53.802980Z",
     "iopub.status.idle": "2022-01-27T10:10:53.815180Z",
     "shell.execute_reply": "2022-01-27T10:10:53.815582Z"
    },
    "papermill": {
     "duration": 0.064227,
     "end_time": "2022-01-27T10:10:53.815716",
     "exception": false,
     "start_time": "2022-01-27T10:10:53.751489",
     "status": "completed"
    },
    "tags": []
   },
   "outputs": [],
   "source": [
    "#creating the x and y ranges according to the above generated plot.\n",
    "x_range = np.linspace(-4, 1, 100) \n",
    "y_range = np.linspace(-6, 6, 100) \n",
    "x_grid, y_grid = np.meshgrid(x_range, y_range) # x_grid and y_grig are of size 100 X 100\n",
    "\n",
    "# converting x_grid and y_grid to continuous arrays\n",
    "x_gridflat = np.ravel(x_grid)\n",
    "y_gridflat = np.ravel(y_grid)\n",
    "\n",
    "# The last layer of the current model takes two columns as input. Hence transpose of np.vstack() is required.\n",
    "X = np.vstack((x_gridflat, y_gridflat)).T\n",
    "\n",
    "prob_contour = model_prob(X).reshape(100,100) "
   ]
  },
  {
   "cell_type": "code",
   "execution_count": 29,
   "id": "da72499a",
   "metadata": {
    "execution": {
     "iopub.execute_input": "2022-01-27T10:10:53.915713Z",
     "iopub.status.busy": "2022-01-27T10:10:53.915210Z",
     "iopub.status.idle": "2022-01-27T10:10:54.164982Z",
     "shell.execute_reply": "2022-01-27T10:10:54.164554Z"
    },
    "papermill": {
     "duration": 0.30129,
     "end_time": "2022-01-27T10:10:54.165096",
     "exception": false,
     "start_time": "2022-01-27T10:10:53.863806",
     "status": "completed"
    },
    "tags": []
   },
   "outputs": [
    {
     "data": {
      "image/png": "[encoded data removed]",
      "text/plain": [
       "<Figure size 720x648 with 1 Axes>"
      ]
     },
     "metadata": {
      "needs_background": "light"
     },
     "output_type": "display_data"
    }
   ],
   "source": [
    "plt.figure(figsize=(10,9))\n",
    "plt.scatter(testing_plot[:,0], testing_plot[:,1], alpha = 0.1, c = y_test.ravel())\n",
    "contours = plt.contour(x_grid,y_grid,prob_contour)\n",
    "plt.title('Probability Contours')\n",
    "plt.clabel(contours, inline = True );"
   ]
  },
  {
   "cell_type": "code",
   "execution_count": null,
   "id": "e81b4ac7",
   "metadata": {
    "papermill": {
     "duration": 0.049456,
     "end_time": "2022-01-27T10:10:54.264477",
     "exception": false,
     "start_time": "2022-01-27T10:10:54.215021",
     "status": "completed"
    },
    "tags": []
   },
   "outputs": [],
   "source": []
  }
 ],
 "metadata": {
  "kernelspec": {
   "display_name": "Python 3",
   "language": "python",
   "name": "python3"
  },
  "language_info": {
   "codemirror_mode": {
    "name": "ipython",
    "version": 3
   },
   "file_extension": ".py",
   "mimetype": "text/x-python",
   "name": "python",
   "nbconvert_exporter": "python",
   "pygments_lexer": "ipython3",
   "version": "3.6.15"
  },
  "papermill": {
   "default_parameters": {},
   "duration": 196.442864,
   "end_time": "2022-01-27T10:10:54.631241",
   "environment_variables": {},
   "exception": null,
   "input_path": "2020-08-11-part2.ipynb",
   "output_path": "2020-08-11-part2.ipynb",
   "parameters": {},
   "start_time": "2022-01-27T10:07:38.188377",
   "version": "2.3.3"
  }
 },
 "nbformat": 4,
 "nbformat_minor": 5
}