{
 "cells": [
  {
   "cell_type": "markdown",
   "id": "98380cd3",
   "metadata": {
    "papermill": {
     "duration": 0.029307,
     "end_time": "2022-11-23T20:10:14.434757",
     "exception": false,
     "start_time": "2022-11-23T20:10:14.405450",
     "status": "completed"
    },
    "tags": []
   },
   "source": [
    "# Distinguish Your Own Digits (DYOD)"
   ]
  },
  {
   "cell_type": "markdown",
   "id": "ef31240d",
   "metadata": {
    "papermill": {
     "duration": 0.024199,
     "end_time": "2022-11-23T20:10:14.484026",
     "exception": false,
     "start_time": "2022-11-23T20:10:14.459827",
     "status": "completed"
    },
    "tags": []
   },
   "source": [
    "You are going to write a classifier that distinguishes between the number 3 and number 8."
   ]
  },
  {
   "cell_type": "code",
   "execution_count": 1,
   "id": "b15c8646",
   "metadata": {
    "execution": {
     "iopub.execute_input": "2022-11-23T20:10:14.542964Z",
     "iopub.status.busy": "2022-11-23T20:10:14.542333Z",
     "iopub.status.idle": "2022-11-23T20:10:14.553363Z",
     "shell.execute_reply": "2022-11-23T20:10:14.552867Z"
    },
    "papermill": {
     "duration": 0.045231,
     "end_time": "2022-11-23T20:10:14.553492",
     "exception": false,
     "start_time": "2022-11-23T20:10:14.508261",
     "status": "completed"
    },
    "tags": []
   },
   "outputs": [],
   "source": [
    "%load_ext autoreload\n",
    "%autoreload 2"
   ]
  },
  {
   "cell_type": "code",
   "execution_count": 2,
   "id": "22ef38dc",
   "metadata": {
    "execution": {
     "iopub.execute_input": "2022-11-23T20:10:14.606672Z",
     "iopub.status.busy": "2022-11-23T20:10:14.606101Z",
     "iopub.status.idle": "2022-11-23T20:10:15.139957Z",
     "shell.execute_reply": "2022-11-23T20:10:15.138812Z"
    },
    "papermill": {
     "duration": 0.562142,
     "end_time": "2022-11-23T20:10:15.140082",
     "exception": false,
     "start_time": "2022-11-23T20:10:14.577940",
     "status": "completed"
    },
    "tags": []
   },
   "outputs": [],
   "source": [
    "%matplotlib inline\n",
    "import numpy as np\n",
    "import matplotlib.pyplot as plt\n",
    "import pandas as pd"
   ]
  },
  {
   "cell_type": "markdown",
   "id": "ba036198",
   "metadata": {
    "papermill": {
     "duration": 0.024277,
     "end_time": "2022-11-23T20:10:15.188899",
     "exception": false,
     "start_time": "2022-11-23T20:10:15.164622",
     "status": "completed"
    },
    "tags": []
   },
   "source": [
    "From the command line run `pip install mnist`. This is a library that will help you bring down the mnist dataset. If you run this from a notebook, you need to put  `!pip install mnist` in a cell by itself."
   ]
  },
  {
   "cell_type": "code",
   "execution_count": 3,
   "id": "bb6ad8a1",
   "metadata": {
    "execution": {
     "iopub.execute_input": "2022-11-23T20:10:15.243713Z",
     "iopub.status.busy": "2022-11-23T20:10:15.240949Z",
     "iopub.status.idle": "2022-11-23T20:10:16.948814Z",
     "shell.execute_reply": "2022-11-23T20:10:16.948306Z"
    },
    "papermill": {
     "duration": 1.735674,
     "end_time": "2022-11-23T20:10:16.948928",
     "exception": false,
     "start_time": "2022-11-23T20:10:15.213254",
     "status": "completed"
    },
    "tags": []
   },
   "outputs": [
    {
     "name": "stdout",
     "output_type": "stream",
     "text": [
      "Collecting mnist\r\n"
     ]
    },
    {
     "name": "stdout",
     "output_type": "stream",
     "text": [
      "  Downloading mnist-0.2.2-py2.py3-none-any.whl (3.5 kB)\r\n",
      "Requirement already satisfied: numpy in /opt/hostedtoolcache/Python/3.6.15/x64/lib/python3.6/site-packages (from mnist) (1.19.5)\r\n"
     ]
    },
    {
     "name": "stdout",
     "output_type": "stream",
     "text": [
      "Installing collected packages: mnist\r\n"
     ]
    },
    {
     "name": "stdout",
     "output_type": "stream",
     "text": [
      "Successfully installed mnist-0.2.2\r\n"
     ]
    }
   ],
   "source": [
    "!pip install mnist"
   ]
  },
  {
   "cell_type": "markdown",
   "id": "69df9c9a",
   "metadata": {
    "papermill": {
     "duration": 0.025549,
     "end_time": "2022-11-23T20:10:17.000254",
     "exception": false,
     "start_time": "2022-11-23T20:10:16.974705",
     "status": "completed"
    },
    "tags": []
   },
   "source": [
    "## Preparing the Data"
   ]
  },
  {
   "cell_type": "code",
   "execution_count": 4,
   "id": "7f69d806",
   "metadata": {
    "execution": {
     "iopub.execute_input": "2022-11-23T20:10:17.056269Z",
     "iopub.status.busy": "2022-11-23T20:10:17.055695Z",
     "iopub.status.idle": "2022-11-23T20:10:17.069250Z",
     "shell.execute_reply": "2022-11-23T20:10:17.068770Z"
    },
    "papermill": {
     "duration": 0.043689,
     "end_time": "2022-11-23T20:10:17.069359",
     "exception": false,
     "start_time": "2022-11-23T20:10:17.025670",
     "status": "completed"
    },
    "tags": []
   },
   "outputs": [],
   "source": [
    "import mnist"
   ]
  },
  {
   "cell_type": "code",
   "execution_count": 5,
   "id": "a411e44f",
   "metadata": {
    "execution": {
     "iopub.execute_input": "2022-11-23T20:10:17.126737Z",
     "iopub.status.busy": "2022-11-23T20:10:17.124894Z",
     "iopub.status.idle": "2022-11-23T20:10:17.845538Z",
     "shell.execute_reply": "2022-11-23T20:10:17.845053Z"
    },
    "papermill": {
     "duration": 0.750637,
     "end_time": "2022-11-23T20:10:17.845658",
     "exception": false,
     "start_time": "2022-11-23T20:10:17.095021",
     "status": "completed"
    },
    "tags": []
   },
   "outputs": [],
   "source": [
    "train_images = mnist.train_images()\n",
    "train_labels = mnist.train_labels()"
   ]
  },
  {
   "cell_type": "code",
   "execution_count": 6,
   "id": "dceab3a5",
   "metadata": {
    "execution": {
     "iopub.execute_input": "2022-11-23T20:10:17.901724Z",
     "iopub.status.busy": "2022-11-23T20:10:17.901136Z",
     "iopub.status.idle": "2022-11-23T20:10:17.915046Z",
     "shell.execute_reply": "2022-11-23T20:10:17.914469Z"
    },
    "papermill": {
     "duration": 0.043865,
     "end_time": "2022-11-23T20:10:17.915154",
     "exception": false,
     "start_time": "2022-11-23T20:10:17.871289",
     "status": "completed"
    },
    "tags": []
   },
   "outputs": [
    {
     "data": {
      "text/plain": [
       "((60000, 28, 28), (60000,))"
      ]
     },
     "execution_count": 6,
     "metadata": {},
     "output_type": "execute_result"
    }
   ],
   "source": [
    "train_images.shape, train_labels.shape"
   ]
  },
  {
   "cell_type": "code",
   "execution_count": 7,
   "id": "f50dc2bb",
   "metadata": {
    "execution": {
     "iopub.execute_input": "2022-11-23T20:10:17.970724Z",
     "iopub.status.busy": "2022-11-23T20:10:17.970122Z",
     "iopub.status.idle": "2022-11-23T20:10:18.303759Z",
     "shell.execute_reply": "2022-11-23T20:10:18.303224Z"
    },
    "papermill": {
     "duration": 0.362952,
     "end_time": "2022-11-23T20:10:18.303877",
     "exception": false,
     "start_time": "2022-11-23T20:10:17.940925",
     "status": "completed"
    },
    "tags": []
   },
   "outputs": [],
   "source": [
    "test_images = mnist.test_images()\n",
    "test_labels = mnist.test_labels()"
   ]
  },
  {
   "cell_type": "code",
   "execution_count": 8,
   "id": "fc38cf1b",
   "metadata": {
    "execution": {
     "iopub.execute_input": "2022-11-23T20:10:18.359821Z",
     "iopub.status.busy": "2022-11-23T20:10:18.359235Z",
     "iopub.status.idle": "2022-11-23T20:10:18.372254Z",
     "shell.execute_reply": "2022-11-23T20:10:18.371703Z"
    },
    "papermill": {
     "duration": 0.042491,
     "end_time": "2022-11-23T20:10:18.372363",
     "exception": false,
     "start_time": "2022-11-23T20:10:18.329872",
     "status": "completed"
    },
    "tags": []
   },
   "outputs": [
    {
     "data": {
      "text/plain": [
       "((10000, 28, 28), (10000,))"
      ]
     },
     "execution_count": 8,
     "metadata": {},
     "output_type": "execute_result"
    }
   ],
   "source": [
    "test_images.shape, test_labels.shape"
   ]
  },
  {
   "cell_type": "code",
   "execution_count": 9,
   "id": "f9ed8fe0",
   "metadata": {
    "execution": {
     "iopub.execute_input": "2022-11-23T20:10:18.428293Z",
     "iopub.status.busy": "2022-11-23T20:10:18.427705Z",
     "iopub.status.idle": "2022-11-23T20:10:18.564243Z",
     "shell.execute_reply": "2022-11-23T20:10:18.563751Z"
    },
    "papermill": {
     "duration": 0.16601,
     "end_time": "2022-11-23T20:10:18.564363",
     "exception": false,
     "start_time": "2022-11-23T20:10:18.398353",
     "status": "completed"
    },
    "tags": []
   },
   "outputs": [
    {
     "name": "stdout",
     "output_type": "stream",
     "text": [
      "2\n"
     ]
    },
    {
     "data": {
      "text/plain": [
       "<matplotlib.image.AxesImage at 0x7fc7d93a9dd8>"
      ]
     },
     "execution_count": 9,
     "metadata": {},
     "output_type": "execute_result"
    },
    {
     "data": {
      "image/png": "[encoded data removed]",
      "text/plain": [
       "<Figure size 432x288 with 1 Axes>"
      ]
     },
     "metadata": {
      "needs_background": "light"
     },
     "output_type": "display_data"
    }
   ],
   "source": [
    "image_index = 7776 # You may select anything up to 60,000\n",
    "print(train_labels[image_index]) \n",
    "plt.imshow(train_images[image_index], cmap='Greys')"
   ]
  },
  {
   "cell_type": "markdown",
   "id": "a8d2388d",
   "metadata": {
    "papermill": {
     "duration": 0.027316,
     "end_time": "2022-11-23T20:10:18.618919",
     "exception": false,
     "start_time": "2022-11-23T20:10:18.591603",
     "status": "completed"
    },
    "tags": []
   },
   "source": [
    "## Filter data to get 3 and 8 out"
   ]
  },
  {
   "cell_type": "code",
   "execution_count": 10,
   "id": "776f7fc7",
   "metadata": {
    "execution": {
     "iopub.execute_input": "2022-11-23T20:10:18.677346Z",
     "iopub.status.busy": "2022-11-23T20:10:18.676755Z",
     "iopub.status.idle": "2022-11-23T20:10:18.692077Z",
     "shell.execute_reply": "2022-11-23T20:10:18.692524Z"
    },
    "papermill": {
     "duration": 0.046889,
     "end_time": "2022-11-23T20:10:18.692659",
     "exception": false,
     "start_time": "2022-11-23T20:10:18.645770",
     "status": "completed"
    },
    "tags": []
   },
   "outputs": [],
   "source": [
    "train_filter = np.where((train_labels == 3 ) | (train_labels == 8))\n",
    "test_filter = np.where((test_labels == 3) | (test_labels == 8))\n",
    "X_train, y_train = train_images[train_filter], train_labels[train_filter]\n",
    "X_test, y_test = test_images[test_filter], test_labels[test_filter]"
   ]
  },
  {
   "cell_type": "markdown",
   "id": "948f0b7e",
   "metadata": {
    "papermill": {
     "duration": 0.027295,
     "end_time": "2022-11-23T20:10:18.747122",
     "exception": false,
     "start_time": "2022-11-23T20:10:18.719827",
     "status": "completed"
    },
    "tags": []
   },
   "source": [
    "We normalize the pizel values in the 0 to 1 range"
   ]
  },
  {
   "cell_type": "code",
   "execution_count": 11,
   "id": "ee4c2166",
   "metadata": {
    "execution": {
     "iopub.execute_input": "2022-11-23T20:10:18.804635Z",
     "iopub.status.busy": "2022-11-23T20:10:18.804061Z",
     "iopub.status.idle": "2022-11-23T20:10:18.842160Z",
     "shell.execute_reply": "2022-11-23T20:10:18.841686Z"
    },
    "papermill": {
     "duration": 0.068089,
     "end_time": "2022-11-23T20:10:18.842270",
     "exception": false,
     "start_time": "2022-11-23T20:10:18.774181",
     "status": "completed"
    },
    "tags": []
   },
   "outputs": [],
   "source": [
    "X_train = X_train/255.\n",
    "X_test = X_test/255."
   ]
  },
  {
   "cell_type": "markdown",
   "id": "ddcf4fab",
   "metadata": {
    "papermill": {
     "duration": 0.026802,
     "end_time": "2022-11-23T20:10:18.896346",
     "exception": false,
     "start_time": "2022-11-23T20:10:18.869544",
     "status": "completed"
    },
    "tags": []
   },
   "source": [
    "And setup the labels as 1 (when the digit is 3) and 0 (when the digit is 8)"
   ]
  },
  {
   "cell_type": "code",
   "execution_count": 12,
   "id": "7dc908f2",
   "metadata": {
    "execution": {
     "iopub.execute_input": "2022-11-23T20:10:18.955370Z",
     "iopub.status.busy": "2022-11-23T20:10:18.954759Z",
     "iopub.status.idle": "2022-11-23T20:10:18.966292Z",
     "shell.execute_reply": "2022-11-23T20:10:18.965804Z"
    },
    "papermill": {
     "duration": 0.043011,
     "end_time": "2022-11-23T20:10:18.966399",
     "exception": false,
     "start_time": "2022-11-23T20:10:18.923388",
     "status": "completed"
    },
    "tags": []
   },
   "outputs": [],
   "source": [
    "y_train = 1*(y_train==3)\n",
    "y_test = 1*(y_test==3)"
   ]
  },
  {
   "cell_type": "code",
   "execution_count": 13,
   "id": "01e4e969",
   "metadata": {
    "execution": {
     "iopub.execute_input": "2022-11-23T20:10:19.024395Z",
     "iopub.status.busy": "2022-11-23T20:10:19.023808Z",
     "iopub.status.idle": "2022-11-23T20:10:19.036980Z",
     "shell.execute_reply": "2022-11-23T20:10:19.036412Z"
    },
    "papermill": {
     "duration": 0.043595,
     "end_time": "2022-11-23T20:10:19.037093",
     "exception": false,
     "start_time": "2022-11-23T20:10:18.993498",
     "status": "completed"
    },
    "tags": []
   },
   "outputs": [
    {
     "data": {
      "text/plain": [
       "((11982, 28, 28), (1984, 28, 28))"
      ]
     },
     "execution_count": 13,
     "metadata": {},
     "output_type": "execute_result"
    }
   ],
   "source": [
    "X_train.shape, X_test.shape"
   ]
  },
  {
   "cell_type": "markdown",
   "id": "5ccf3f85",
   "metadata": {
    "papermill": {
     "duration": 0.027084,
     "end_time": "2022-11-23T20:10:19.091370",
     "exception": false,
     "start_time": "2022-11-23T20:10:19.064286",
     "status": "completed"
    },
    "tags": []
   },
   "source": [
    "We reshape the data to flatten the image pixels into a set of features or co-variates:"
   ]
  },
  {
   "cell_type": "code",
   "execution_count": 14,
   "id": "5286a4a3",
   "metadata": {
    "execution": {
     "iopub.execute_input": "2022-11-23T20:10:19.150241Z",
     "iopub.status.busy": "2022-11-23T20:10:19.149666Z",
     "iopub.status.idle": "2022-11-23T20:10:19.162598Z",
     "shell.execute_reply": "2022-11-23T20:10:19.163085Z"
    },
    "papermill": {
     "duration": 0.04448,
     "end_time": "2022-11-23T20:10:19.163217",
     "exception": false,
     "start_time": "2022-11-23T20:10:19.118737",
     "status": "completed"
    },
    "tags": []
   },
   "outputs": [
    {
     "data": {
      "text/plain": [
       "((11982, 784), (1984, 784))"
      ]
     },
     "execution_count": 14,
     "metadata": {},
     "output_type": "execute_result"
    }
   ],
   "source": [
    "X_train = X_train.reshape(X_train.shape[0], -1)\n",
    "X_test = X_test.reshape(X_test.shape[0], -1)\n",
    "X_train.shape, X_test.shape"
   ]
  },
  {
   "cell_type": "code",
   "execution_count": 15,
   "id": "73c5f88a",
   "metadata": {
    "execution": {
     "iopub.execute_input": "2022-11-23T20:10:19.222967Z",
     "iopub.status.busy": "2022-11-23T20:10:19.222355Z",
     "iopub.status.idle": "2022-11-23T20:10:19.240848Z",
     "shell.execute_reply": "2022-11-23T20:10:19.240404Z"
    },
    "papermill": {
     "duration": 0.050318,
     "end_time": "2022-11-23T20:10:19.240961",
     "exception": false,
     "start_time": "2022-11-23T20:10:19.190643",
     "status": "completed"
    },
    "tags": []
   },
   "outputs": [],
   "source": [
    "#Impoting functions from 'Kudzu'\n",
    "from kudzu.model import Model\n",
    "from kudzu.train import Learner\n",
    "from kudzu.optim import GD\n",
    "from kudzu.data import Data, Sampler,Dataloader\n",
    "\n",
    "from kudzu.callbacks import AccCallback\n",
    "from kudzu.callbacks import ClfCallback\n",
    "\n",
    "from kudzu.loss import MSE\n",
    "\n",
    "from kudzu.layer import Sigmoid,Relu\n",
    "from kudzu.layer import Affine"
   ]
  },
  {
   "cell_type": "markdown",
   "id": "bc01172a",
   "metadata": {
    "papermill": {
     "duration": 0.027435,
     "end_time": "2022-11-23T20:10:19.296130",
     "exception": false,
     "start_time": "2022-11-23T20:10:19.268695",
     "status": "completed"
    },
    "tags": []
   },
   "source": [
    "### Let us create a `Config` class, to store important parameters. \n",
    "This class essentially plays the role of a dictionary."
   ]
  },
  {
   "cell_type": "code",
   "execution_count": 16,
   "id": "978281aa",
   "metadata": {
    "execution": {
     "iopub.execute_input": "2022-11-23T20:10:19.355745Z",
     "iopub.status.busy": "2022-11-23T20:10:19.355165Z",
     "iopub.status.idle": "2022-11-23T20:10:19.366220Z",
     "shell.execute_reply": "2022-11-23T20:10:19.366665Z"
    },
    "papermill": {
     "duration": 0.043182,
     "end_time": "2022-11-23T20:10:19.366794",
     "exception": false,
     "start_time": "2022-11-23T20:10:19.323612",
     "status": "completed"
    },
    "tags": []
   },
   "outputs": [],
   "source": [
    "class Config:\n",
    "    pass\n",
    "config = Config()\n",
    "config.lr = 0.001\n",
    "config.num_epochs = 250\n",
    "config.bs = 50"
   ]
  },
  {
   "cell_type": "markdown",
   "id": "1385fa59",
   "metadata": {
    "papermill": {
     "duration": 0.027368,
     "end_time": "2022-11-23T20:10:19.421816",
     "exception": false,
     "start_time": "2022-11-23T20:10:19.394448",
     "status": "completed"
    },
    "tags": []
   },
   "source": [
    "### Running Models with the Training data\n",
    "Details about the network layers:\n",
    "- A first affine layer has 784 inputs and does 100 affine transforms. These are followed by a Relu\n",
    "- A second affine layer has 100 inputs from the 100 activations of the past layer, and does 100 affine transforms. These are followed by a Relu\n",
    "- A third affine layer has 100 activations and does 2 affine transformations to create an embedding for visualization. There is no non-linearity here.\n",
    "- A final \"logistic regression\" which has an affine transform from 2 inputs to 1 output, which is squeezed through a sigmoid.\n"
   ]
  },
  {
   "cell_type": "code",
   "execution_count": 17,
   "id": "2b9c66db",
   "metadata": {
    "execution": {
     "iopub.execute_input": "2022-11-23T20:10:19.480813Z",
     "iopub.status.busy": "2022-11-23T20:10:19.480238Z",
     "iopub.status.idle": "2022-11-23T20:10:19.492455Z",
     "shell.execute_reply": "2022-11-23T20:10:19.491988Z"
    },
    "papermill": {
     "duration": 0.04323,
     "end_time": "2022-11-23T20:10:19.492561",
     "exception": false,
     "start_time": "2022-11-23T20:10:19.449331",
     "status": "completed"
    },
    "tags": []
   },
   "outputs": [],
   "source": [
    "data = Data(X_train, y_train.reshape(-1,1))\n",
    "sampler = Sampler(data, config.bs, shuffle=True)\n",
    "\n",
    "dl = Dataloader(data, sampler)\n",
    "\n",
    "opt = GD(config.lr)\n",
    "loss = MSE()"
   ]
  },
  {
   "cell_type": "code",
   "execution_count": 18,
   "id": "b275e4c2",
   "metadata": {
    "execution": {
     "iopub.execute_input": "2022-11-23T20:10:19.551445Z",
     "iopub.status.busy": "2022-11-23T20:10:19.550856Z",
     "iopub.status.idle": "2022-11-23T20:10:19.563187Z",
     "shell.execute_reply": "2022-11-23T20:10:19.562709Z"
    },
    "papermill": {
     "duration": 0.043057,
     "end_time": "2022-11-23T20:10:19.563303",
     "exception": false,
     "start_time": "2022-11-23T20:10:19.520246",
     "status": "completed"
    },
    "tags": []
   },
   "outputs": [],
   "source": [
    "training_data_x = X_train\n",
    "testing_data_x = X_test\n",
    "training_data_y = y_train.reshape(-1,1)\n",
    "testing_data_y = y_test.reshape(-1,1)"
   ]
  },
  {
   "cell_type": "code",
   "execution_count": 19,
   "id": "76951160",
   "metadata": {
    "execution": {
     "iopub.execute_input": "2022-11-23T20:10:19.623176Z",
     "iopub.status.busy": "2022-11-23T20:10:19.622557Z",
     "iopub.status.idle": "2022-11-23T20:10:19.638788Z",
     "shell.execute_reply": "2022-11-23T20:10:19.638208Z"
    },
    "papermill": {
     "duration": 0.048129,
     "end_time": "2022-11-23T20:10:19.638926",
     "exception": false,
     "start_time": "2022-11-23T20:10:19.590797",
     "status": "completed"
    },
    "tags": []
   },
   "outputs": [
    {
     "name": "stdout",
     "output_type": "stream",
     "text": [
      "xavier\n",
      "xavier\n",
      "xavier\n",
      "xavier\n",
      "xavier\n"
     ]
    }
   ],
   "source": [
    "layers = [Affine(\"first\", 784, 100), Relu(\"first\"), Affine(\"second\", 100, 100), Relu(\"second\"), Affine(\"third\", 100, 2), Affine(\"last\", 2, 1), Sigmoid(\"last\")]\n",
    "model_nn = Model(layers)\n",
    "model_lr = Model([Affine(\"logits\", 784, 1), Sigmoid(\"sigmoid\")])"
   ]
  },
  {
   "cell_type": "code",
   "execution_count": 20,
   "id": "6eede77a",
   "metadata": {
    "execution": {
     "iopub.execute_input": "2022-11-23T20:10:19.699207Z",
     "iopub.status.busy": "2022-11-23T20:10:19.698582Z",
     "iopub.status.idle": "2022-11-23T20:10:19.710714Z",
     "shell.execute_reply": "2022-11-23T20:10:19.710241Z"
    },
    "papermill": {
     "duration": 0.043793,
     "end_time": "2022-11-23T20:10:19.710821",
     "exception": false,
     "start_time": "2022-11-23T20:10:19.667028",
     "status": "completed"
    },
    "tags": []
   },
   "outputs": [],
   "source": [
    "nn_learner = Learner(loss, model_nn, opt, config.num_epochs)\n",
    "acc_nn = ClfCallback(nn_learner, config.bs, training_data_x , testing_data_x, training_data_y, testing_data_y)\n",
    "nn_learner.set_callbacks([acc_nn])"
   ]
  },
  {
   "cell_type": "code",
   "execution_count": 21,
   "id": "877b6cc7",
   "metadata": {
    "execution": {
     "iopub.execute_input": "2022-11-23T20:10:19.771335Z",
     "iopub.status.busy": "2022-11-23T20:10:19.770717Z",
     "iopub.status.idle": "2022-11-23T20:10:19.782497Z",
     "shell.execute_reply": "2022-11-23T20:10:19.782019Z"
    },
    "papermill": {
     "duration": 0.043753,
     "end_time": "2022-11-23T20:10:19.782604",
     "exception": false,
     "start_time": "2022-11-23T20:10:19.738851",
     "status": "completed"
    },
    "tags": []
   },
   "outputs": [],
   "source": [
    "lr_learner = Learner(loss, model_lr, opt, config.num_epochs)\n",
    "acc_lr = ClfCallback(lr_learner, config.bs, training_data_x , testing_data_x, training_data_y, testing_data_y)\n",
    "lr_learner.set_callbacks([acc_lr])"
   ]
  },
  {
   "cell_type": "code",
   "execution_count": 22,
   "id": "d9b133c3",
   "metadata": {
    "execution": {
     "iopub.execute_input": "2022-11-23T20:10:19.842560Z",
     "iopub.status.busy": "2022-11-23T20:10:19.842001Z",
     "iopub.status.idle": "2022-11-23T20:13:17.947303Z",
     "shell.execute_reply": "2022-11-23T20:13:17.947775Z"
    },
    "papermill": {
     "duration": 178.137383,
     "end_time": "2022-11-23T20:13:17.947913",
     "exception": false,
     "start_time": "2022-11-23T20:10:19.810530",
     "status": "completed"
    },
    "tags": []
   },
   "outputs": [
    {
     "name": "stdout",
     "output_type": "stream",
     "text": [
      "Epoch 0, Loss 0.24\n",
      "Training Accuracy: 0.6613, Testing Accuracy: 0.6663\n",
      "\n"
     ]
    },
    {
     "name": "stdout",
     "output_type": "stream",
     "text": [
      "Epoch 10, Loss 0.0883\n",
      "Training Accuracy: 0.9197, Testing Accuracy: 0.9335\n",
      "\n"
     ]
    },
    {
     "name": "stdout",
     "output_type": "stream",
     "text": [
      "Epoch 20, Loss 0.0551\n",
      "Training Accuracy: 0.9423, Testing Accuracy: 0.9556\n",
      "\n"
     ]
    },
    {
     "name": "stdout",
     "output_type": "stream",
     "text": [
      "Epoch 30, Loss 0.0438\n",
      "Training Accuracy: 0.9513, Testing Accuracy: 0.9607\n",
      "\n"
     ]
    },
    {
     "name": "stdout",
     "output_type": "stream",
     "text": [
      "Epoch 40, Loss 0.0381\n",
      "Training Accuracy: 0.9564, Testing Accuracy: 0.9647\n",
      "\n"
     ]
    },
    {
     "name": "stdout",
     "output_type": "stream",
     "text": [
      "Epoch 50, Loss 0.0346\n",
      "Training Accuracy: 0.9599, Testing Accuracy: 0.9662\n",
      "\n"
     ]
    },
    {
     "name": "stdout",
     "output_type": "stream",
     "text": [
      "Epoch 60, Loss 0.0322\n",
      "Training Accuracy: 0.9630, Testing Accuracy: 0.9672\n",
      "\n"
     ]
    },
    {
     "name": "stdout",
     "output_type": "stream",
     "text": [
      "Epoch 70, Loss 0.0304\n",
      "Training Accuracy: 0.9655, Testing Accuracy: 0.9688\n",
      "\n"
     ]
    },
    {
     "name": "stdout",
     "output_type": "stream",
     "text": [
      "Epoch 80, Loss 0.029\n",
      "Training Accuracy: 0.9671, Testing Accuracy: 0.9703\n",
      "\n"
     ]
    },
    {
     "name": "stdout",
     "output_type": "stream",
     "text": [
      "Epoch 90, Loss 0.0279\n",
      "Training Accuracy: 0.9685, Testing Accuracy: 0.9713\n",
      "\n"
     ]
    },
    {
     "name": "stdout",
     "output_type": "stream",
     "text": [
      "Epoch 100, Loss 0.0269\n",
      "Training Accuracy: 0.9696, Testing Accuracy: 0.9713\n",
      "\n"
     ]
    },
    {
     "name": "stdout",
     "output_type": "stream",
     "text": [
      "Epoch 110, Loss 0.0261\n",
      "Training Accuracy: 0.9708, Testing Accuracy: 0.9718\n",
      "\n"
     ]
    },
    {
     "name": "stdout",
     "output_type": "stream",
     "text": [
      "Epoch 120, Loss 0.0254\n",
      "Training Accuracy: 0.9710, Testing Accuracy: 0.9718\n",
      "\n"
     ]
    },
    {
     "name": "stdout",
     "output_type": "stream",
     "text": [
      "Epoch 130, Loss 0.0247\n",
      "Training Accuracy: 0.9718, Testing Accuracy: 0.9723\n",
      "\n"
     ]
    },
    {
     "name": "stdout",
     "output_type": "stream",
     "text": [
      "Epoch 140, Loss 0.0242\n",
      "Training Accuracy: 0.9728, Testing Accuracy: 0.9723\n",
      "\n"
     ]
    },
    {
     "name": "stdout",
     "output_type": "stream",
     "text": [
      "Epoch 150, Loss 0.0236\n",
      "Training Accuracy: 0.9736, Testing Accuracy: 0.9713\n",
      "\n"
     ]
    },
    {
     "name": "stdout",
     "output_type": "stream",
     "text": [
      "Epoch 160, Loss 0.0232\n",
      "Training Accuracy: 0.9744, Testing Accuracy: 0.9718\n",
      "\n"
     ]
    },
    {
     "name": "stdout",
     "output_type": "stream",
     "text": [
      "Epoch 170, Loss 0.0227\n",
      "Training Accuracy: 0.9749, Testing Accuracy: 0.9713\n",
      "\n"
     ]
    },
    {
     "name": "stdout",
     "output_type": "stream",
     "text": [
      "Epoch 180, Loss 0.0223\n",
      "Training Accuracy: 0.9753, Testing Accuracy: 0.9698\n",
      "\n"
     ]
    },
    {
     "name": "stdout",
     "output_type": "stream",
     "text": [
      "Epoch 190, Loss 0.0219\n",
      "Training Accuracy: 0.9756, Testing Accuracy: 0.9708\n",
      "\n"
     ]
    },
    {
     "name": "stdout",
     "output_type": "stream",
     "text": [
      "Epoch 200, Loss 0.0215\n",
      "Training Accuracy: 0.9757, Testing Accuracy: 0.9718\n",
      "\n"
     ]
    },
    {
     "name": "stdout",
     "output_type": "stream",
     "text": [
      "Epoch 210, Loss 0.0211\n",
      "Training Accuracy: 0.9761, Testing Accuracy: 0.9733\n",
      "\n"
     ]
    },
    {
     "name": "stdout",
     "output_type": "stream",
     "text": [
      "Epoch 220, Loss 0.0208\n",
      "Training Accuracy: 0.9765, Testing Accuracy: 0.9738\n",
      "\n"
     ]
    },
    {
     "name": "stdout",
     "output_type": "stream",
     "text": [
      "Epoch 230, Loss 0.0205\n",
      "Training Accuracy: 0.9771, Testing Accuracy: 0.9738\n",
      "\n"
     ]
    },
    {
     "name": "stdout",
     "output_type": "stream",
     "text": [
      "Epoch 240, Loss 0.0201\n",
      "Training Accuracy: 0.9775, Testing Accuracy: 0.9738\n",
      "\n"
     ]
    },
    {
     "data": {
      "text/plain": [
       "0.035160958513278634"
      ]
     },
     "execution_count": 22,
     "metadata": {},
     "output_type": "execute_result"
    }
   ],
   "source": [
    "nn_learner.train_loop(dl)"
   ]
  },
  {
   "cell_type": "code",
   "execution_count": 23,
   "id": "e0163366",
   "metadata": {
    "execution": {
     "iopub.execute_input": "2022-11-23T20:13:18.024190Z",
     "iopub.status.busy": "2022-11-23T20:13:18.023604Z",
     "iopub.status.idle": "2022-11-23T20:13:30.347568Z",
     "shell.execute_reply": "2022-11-23T20:13:30.348009Z"
    },
    "papermill": {
     "duration": 12.36512,
     "end_time": "2022-11-23T20:13:30.348140",
     "exception": false,
     "start_time": "2022-11-23T20:13:17.983020",
     "status": "completed"
    },
    "tags": []
   },
   "outputs": [
    {
     "name": "stdout",
     "output_type": "stream",
     "text": [
      "Epoch 0, Loss 0.2969\n",
      "Training Accuracy: 0.4553, Testing Accuracy: 0.4607\n",
      "\n"
     ]
    },
    {
     "name": "stdout",
     "output_type": "stream",
     "text": [
      "Epoch 10, Loss 0.1061\n",
      "Training Accuracy: 0.9122, Testing Accuracy: 0.9214\n",
      "\n"
     ]
    },
    {
     "name": "stdout",
     "output_type": "stream",
     "text": [
      "Epoch 20, Loss 0.0799\n",
      "Training Accuracy: 0.9288, Testing Accuracy: 0.9380\n",
      "\n"
     ]
    },
    {
     "name": "stdout",
     "output_type": "stream",
     "text": [
      "Epoch 30, Loss 0.0684\n",
      "Training Accuracy: 0.9373, Testing Accuracy: 0.9471\n",
      "\n"
     ]
    },
    {
     "name": "stdout",
     "output_type": "stream",
     "text": [
      "Epoch 40, Loss 0.0617\n",
      "Training Accuracy: 0.9425, Testing Accuracy: 0.9516\n",
      "\n"
     ]
    },
    {
     "name": "stdout",
     "output_type": "stream",
     "text": [
      "Epoch 50, Loss 0.0571\n",
      "Training Accuracy: 0.9455, Testing Accuracy: 0.9546\n",
      "\n"
     ]
    },
    {
     "name": "stdout",
     "output_type": "stream",
     "text": [
      "Epoch 60, Loss 0.0538\n",
      "Training Accuracy: 0.9483, Testing Accuracy: 0.9561\n",
      "\n"
     ]
    },
    {
     "name": "stdout",
     "output_type": "stream",
     "text": [
      "Epoch 70, Loss 0.0512\n",
      "Training Accuracy: 0.9500, Testing Accuracy: 0.9587\n",
      "\n"
     ]
    },
    {
     "name": "stdout",
     "output_type": "stream",
     "text": [
      "Epoch 80, Loss 0.0492\n",
      "Training Accuracy: 0.9521, Testing Accuracy: 0.9592\n",
      "\n"
     ]
    },
    {
     "name": "stdout",
     "output_type": "stream",
     "text": [
      "Epoch 90, Loss 0.0475\n",
      "Training Accuracy: 0.9529, Testing Accuracy: 0.9592\n",
      "\n"
     ]
    },
    {
     "name": "stdout",
     "output_type": "stream",
     "text": [
      "Epoch 100, Loss 0.046\n",
      "Training Accuracy: 0.9539, Testing Accuracy: 0.9597\n",
      "\n"
     ]
    },
    {
     "name": "stdout",
     "output_type": "stream",
     "text": [
      "Epoch 110, Loss 0.0448\n",
      "Training Accuracy: 0.9549, Testing Accuracy: 0.9607\n",
      "\n"
     ]
    },
    {
     "name": "stdout",
     "output_type": "stream",
     "text": [
      "Epoch 120, Loss 0.0438\n",
      "Training Accuracy: 0.9559, Testing Accuracy: 0.9617\n",
      "\n"
     ]
    },
    {
     "name": "stdout",
     "output_type": "stream",
     "text": [
      "Epoch 130, Loss 0.0428\n",
      "Training Accuracy: 0.9572, Testing Accuracy: 0.9627\n",
      "\n"
     ]
    },
    {
     "name": "stdout",
     "output_type": "stream",
     "text": [
      "Epoch 140, Loss 0.042\n",
      "Training Accuracy: 0.9579, Testing Accuracy: 0.9627\n",
      "\n"
     ]
    },
    {
     "name": "stdout",
     "output_type": "stream",
     "text": [
      "Epoch 150, Loss 0.0412\n",
      "Training Accuracy: 0.9585, Testing Accuracy: 0.9632\n",
      "\n"
     ]
    },
    {
     "name": "stdout",
     "output_type": "stream",
     "text": [
      "Epoch 160, Loss 0.0406\n",
      "Training Accuracy: 0.9589, Testing Accuracy: 0.9647\n",
      "\n"
     ]
    },
    {
     "name": "stdout",
     "output_type": "stream",
     "text": [
      "Epoch 170, Loss 0.04\n",
      "Training Accuracy: 0.9594, Testing Accuracy: 0.9647\n",
      "\n"
     ]
    },
    {
     "name": "stdout",
     "output_type": "stream",
     "text": [
      "Epoch 180, Loss 0.0394\n",
      "Training Accuracy: 0.9598, Testing Accuracy: 0.9647\n",
      "\n"
     ]
    },
    {
     "name": "stdout",
     "output_type": "stream",
     "text": [
      "Epoch 190, Loss 0.0389\n",
      "Training Accuracy: 0.9599, Testing Accuracy: 0.9652\n",
      "\n"
     ]
    },
    {
     "name": "stdout",
     "output_type": "stream",
     "text": [
      "Epoch 200, Loss 0.0384\n",
      "Training Accuracy: 0.9603, Testing Accuracy: 0.9652\n",
      "\n"
     ]
    },
    {
     "name": "stdout",
     "output_type": "stream",
     "text": [
      "Epoch 210, Loss 0.038\n",
      "Training Accuracy: 0.9607, Testing Accuracy: 0.9652\n",
      "\n"
     ]
    },
    {
     "name": "stdout",
     "output_type": "stream",
     "text": [
      "Epoch 220, Loss 0.0376\n",
      "Training Accuracy: 0.9610, Testing Accuracy: 0.9652\n",
      "\n"
     ]
    },
    {
     "name": "stdout",
     "output_type": "stream",
     "text": [
      "Epoch 230, Loss 0.0372\n",
      "Training Accuracy: 0.9609, Testing Accuracy: 0.9657\n",
      "\n"
     ]
    },
    {
     "name": "stdout",
     "output_type": "stream",
     "text": [
      "Epoch 240, Loss 0.0368\n",
      "Training Accuracy: 0.9613, Testing Accuracy: 0.9657\n",
      "\n"
     ]
    },
    {
     "data": {
      "text/plain": [
       "0.04499711892596566"
      ]
     },
     "execution_count": 23,
     "metadata": {},
     "output_type": "execute_result"
    }
   ],
   "source": [
    "lr_learner.train_loop(dl)"
   ]
  },
  {
   "cell_type": "code",
   "execution_count": 24,
   "id": "ca410940",
   "metadata": {
    "execution": {
     "iopub.execute_input": "2022-11-23T20:13:30.439132Z",
     "iopub.status.busy": "2022-11-23T20:13:30.438465Z",
     "iopub.status.idle": "2022-11-23T20:13:30.666034Z",
     "shell.execute_reply": "2022-11-23T20:13:30.665570Z"
    },
    "papermill": {
     "duration": 0.276153,
     "end_time": "2022-11-23T20:13:30.666151",
     "exception": false,
     "start_time": "2022-11-23T20:13:30.389998",
     "status": "completed"
    },
    "tags": []
   },
   "outputs": [
    {
     "data": {
      "text/plain": [
       "<matplotlib.legend.Legend at 0x7fc7cc76a438>"
      ]
     },
     "execution_count": 24,
     "metadata": {},
     "output_type": "execute_result"
    },
    {
     "data": {
      "image/png": "[encoded data removed]",
      "text/plain": [
       "<Figure size 1080x720 with 1 Axes>"
      ]
     },
     "metadata": {
      "needs_background": "light"
     },
     "output_type": "display_data"
    }
   ],
   "source": [
    "#comparing the results of NN and LR\n",
    "plt.figure(figsize=(15,10))\n",
    "\n",
    "# Neural Network plots\n",
    "plt.plot(acc_nn.accuracies, 'r-', label = \"Training Accuracies - NN\")\n",
    "plt.plot(acc_nn.test_accuracies, 'g-', label = \"Testing Accuracies - NN\")\n",
    "\n",
    "# Logistic Regression plots\n",
    "plt.plot(acc_lr.accuracies, 'k-', label = \"Training Accuracies - LR\")\n",
    "plt.plot(acc_lr.test_accuracies, 'b-', label = \"Testing Accuracies - LR\")\n",
    "plt.legend()"
   ]
  },
  {
   "cell_type": "markdown",
   "id": "80dfb35c",
   "metadata": {
    "papermill": {
     "duration": 0.042892,
     "end_time": "2022-11-23T20:13:30.751844",
     "exception": false,
     "start_time": "2022-11-23T20:13:30.708952",
     "status": "completed"
    },
    "tags": []
   },
   "source": [
    "#### Plotting the outputs of this layer of the NN.\n"
   ]
  },
  {
   "cell_type": "code",
   "execution_count": 25,
   "id": "45eb2ff5",
   "metadata": {
    "execution": {
     "iopub.execute_input": "2022-11-23T20:13:30.841694Z",
     "iopub.status.busy": "2022-11-23T20:13:30.841110Z",
     "iopub.status.idle": "2022-11-23T20:13:30.876542Z",
     "shell.execute_reply": "2022-11-23T20:13:30.877254Z"
    },
    "papermill": {
     "duration": 0.082922,
     "end_time": "2022-11-23T20:13:30.877394",
     "exception": false,
     "start_time": "2022-11-23T20:13:30.794472",
     "status": "completed"
    },
    "tags": []
   },
   "outputs": [],
   "source": [
    "new_model = Model(layers[:-2])\n",
    "testing_plot = new_model(testing_data_x)"
   ]
  },
  {
   "cell_type": "code",
   "execution_count": 26,
   "id": "4c0a5485",
   "metadata": {
    "execution": {
     "iopub.execute_input": "2022-11-23T20:13:30.971357Z",
     "iopub.status.busy": "2022-11-23T20:13:30.970731Z",
     "iopub.status.idle": "2022-11-23T20:13:31.180261Z",
     "shell.execute_reply": "2022-11-23T20:13:31.180730Z"
    },
    "papermill": {
     "duration": 0.260001,
     "end_time": "2022-11-23T20:13:31.180863",
     "exception": false,
     "start_time": "2022-11-23T20:13:30.920862",
     "status": "completed"
    },
    "tags": []
   },
   "outputs": [
    {
     "data": {
      "text/plain": [
       "Text(0.5, 1.0, 'Outputs')"
      ]
     },
     "execution_count": 26,
     "metadata": {},
     "output_type": "execute_result"
    },
    {
     "data": {
      "image/png": "[encoded data removed]",
      "text/plain": [
       "<Figure size 576x504 with 1 Axes>"
      ]
     },
     "metadata": {
      "needs_background": "light"
     },
     "output_type": "display_data"
    }
   ],
   "source": [
    "# Plotting the scatter plot of points and color coding by class\n",
    "plt.figure(figsize=(8,7))\n",
    "plt.scatter(testing_plot[:,0], testing_plot[:,1], alpha = 0.1, c = y_test.ravel());\n",
    "plt.title('Outputs')"
   ]
  },
  {
   "cell_type": "markdown",
   "id": "a74fcf8f",
   "metadata": {
    "papermill": {
     "duration": 0.045394,
     "end_time": "2022-11-23T20:13:31.297376",
     "exception": false,
     "start_time": "2022-11-23T20:13:31.251982",
     "status": "completed"
    },
    "tags": []
   },
   "source": [
    "Probability contours"
   ]
  },
  {
   "cell_type": "code",
   "execution_count": 27,
   "id": "d0afc8e3",
   "metadata": {
    "execution": {
     "iopub.execute_input": "2022-11-23T20:13:31.392837Z",
     "iopub.status.busy": "2022-11-23T20:13:31.392262Z",
     "iopub.status.idle": "2022-11-23T20:13:31.404146Z",
     "shell.execute_reply": "2022-11-23T20:13:31.403665Z"
    },
    "papermill": {
     "duration": 0.061657,
     "end_time": "2022-11-23T20:13:31.404257",
     "exception": false,
     "start_time": "2022-11-23T20:13:31.342600",
     "status": "completed"
    },
    "tags": []
   },
   "outputs": [],
   "source": [
    "model_prob = Model(layers[-2:]) "
   ]
  },
  {
   "cell_type": "code",
   "execution_count": 28,
   "id": "9b96e238",
   "metadata": {
    "execution": {
     "iopub.execute_input": "2022-11-23T20:13:31.499683Z",
     "iopub.status.busy": "2022-11-23T20:13:31.499074Z",
     "iopub.status.idle": "2022-11-23T20:13:31.511960Z",
     "shell.execute_reply": "2022-11-23T20:13:31.512411Z"
    },
    "papermill": {
     "duration": 0.062941,
     "end_time": "2022-11-23T20:13:31.512555",
     "exception": false,
     "start_time": "2022-11-23T20:13:31.449614",
     "status": "completed"
    },
    "tags": []
   },
   "outputs": [],
   "source": [
    "#creating the x and y ranges according to the above generated plot.\n",
    "x_range = np.linspace(-4, 1, 100) \n",
    "y_range = np.linspace(-6, 6, 100) \n",
    "x_grid, y_grid = np.meshgrid(x_range, y_range) # x_grid and y_grig are of size 100 X 100\n",
    "\n",
    "# converting x_grid and y_grid to continuous arrays\n",
    "x_gridflat = np.ravel(x_grid)\n",
    "y_gridflat = np.ravel(y_grid)\n",
    "\n",
    "# The last layer of the current model takes two columns as input. Hence transpose of np.vstack() is required.\n",
    "X = np.vstack((x_gridflat, y_gridflat)).T\n",
    "\n",
    "prob_contour = model_prob(X).reshape(100,100) "
   ]
  },
  {
   "cell_type": "code",
   "execution_count": 29,
   "id": "da72499a",
   "metadata": {
    "execution": {
     "iopub.execute_input": "2022-11-23T20:13:31.608344Z",
     "iopub.status.busy": "2022-11-23T20:13:31.607763Z",
     "iopub.status.idle": "2022-11-23T20:13:31.864250Z",
     "shell.execute_reply": "2022-11-23T20:13:31.863760Z"
    },
    "papermill": {
     "duration": 0.305969,
     "end_time": "2022-11-23T20:13:31.864360",
     "exception": false,
     "start_time": "2022-11-23T20:13:31.558391",
     "status": "completed"
    },
    "tags": []
   },
   "outputs": [
    {
     "data": {
      "image/png": "[encoded data removed]",
      "text/plain": [
       "<Figure size 720x648 with 1 Axes>"
      ]
     },
     "metadata": {
      "needs_background": "light"
     },
     "output_type": "display_data"
    }
   ],
   "source": [
    "plt.figure(figsize=(10,9))\n",
    "plt.scatter(testing_plot[:,0], testing_plot[:,1], alpha = 0.1, c = y_test.ravel())\n",
    "contours = plt.contour(x_grid,y_grid,prob_contour)\n",
    "plt.title('Probability Contours')\n",
    "plt.clabel(contours, inline = True );"
   ]
  },
  {
   "cell_type": "code",
   "execution_count": null,
   "id": "e81b4ac7",
   "metadata": {
    "papermill": {
     "duration": 0.047774,
     "end_time": "2022-11-23T20:13:31.960585",
     "exception": false,
     "start_time": "2022-11-23T20:13:31.912811",
     "status": "completed"
    },
    "tags": []
   },
   "outputs": [],
   "source": []
  }
 ],
 "metadata": {
  "kernelspec": {
   "display_name": "Python 3",
   "language": "python",
   "name": "python3"
  },
  "language_info": {
   "codemirror_mode": {
    "name": "ipython",
    "version": 3
   },
   "file_extension": ".py",
   "mimetype": "text/x-python",
   "name": "python",
   "nbconvert_exporter": "python",
   "pygments_lexer": "ipython3",
   "version": "3.6.15"
  },
  "papermill": {
   "default_parameters": {},
   "duration": 198.974926,
   "end_time": "2022-11-23T20:13:32.427642",
   "environment_variables": {},
   "exception": null,
   "input_path": "2020-08-11-part2.ipynb",
   "output_path": "2020-08-11-part2.ipynb",
   "parameters": {},
   "start_time": "2022-11-23T20:10:13.452716",
   "version": "2.3.3"
  }
 },
 "nbformat": 4,
 "nbformat_minor": 5
}