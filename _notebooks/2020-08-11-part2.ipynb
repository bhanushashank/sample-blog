{
 "cells": [
  {
   "cell_type": "markdown",
   "id": "98380cd3",
   "metadata": {
    "papermill": {
     "duration": 0.035787,
     "end_time": "2022-10-07T20:12:45.675197",
     "exception": false,
     "start_time": "2022-10-07T20:12:45.639410",
     "status": "completed"
    },
    "tags": []
   },
   "source": [
    "# Distinguish Your Own Digits (DYOD)"
   ]
  },
  {
   "cell_type": "markdown",
   "id": "ef31240d",
   "metadata": {
    "papermill": {
     "duration": 0.026557,
     "end_time": "2022-10-07T20:12:45.728845",
     "exception": false,
     "start_time": "2022-10-07T20:12:45.702288",
     "status": "completed"
    },
    "tags": []
   },
   "source": [
    "You are going to write a classifier that distinguishes between the number 3 and number 8."
   ]
  },
  {
   "cell_type": "code",
   "execution_count": 1,
   "id": "b15c8646",
   "metadata": {
    "execution": {
     "iopub.execute_input": "2022-10-07T20:12:45.796752Z",
     "iopub.status.busy": "2022-10-07T20:12:45.795993Z",
     "iopub.status.idle": "2022-10-07T20:12:45.809470Z",
     "shell.execute_reply": "2022-10-07T20:12:45.808912Z"
    },
    "papermill": {
     "duration": 0.05382,
     "end_time": "2022-10-07T20:12:45.809617",
     "exception": false,
     "start_time": "2022-10-07T20:12:45.755797",
     "status": "completed"
    },
    "tags": []
   },
   "outputs": [],
   "source": [
    "%load_ext autoreload\n",
    "%autoreload 2"
   ]
  },
  {
   "cell_type": "code",
   "execution_count": 2,
   "id": "22ef38dc",
   "metadata": {
    "execution": {
     "iopub.execute_input": "2022-10-07T20:12:45.869652Z",
     "iopub.status.busy": "2022-10-07T20:12:45.868962Z",
     "iopub.status.idle": "2022-10-07T20:12:46.507835Z",
     "shell.execute_reply": "2022-10-07T20:12:46.506812Z"
    },
    "papermill": {
     "duration": 0.671832,
     "end_time": "2022-10-07T20:12:46.508070",
     "exception": false,
     "start_time": "2022-10-07T20:12:45.836238",
     "status": "completed"
    },
    "tags": []
   },
   "outputs": [],
   "source": [
    "%matplotlib inline\n",
    "import numpy as np\n",
    "import matplotlib.pyplot as plt\n",
    "import pandas as pd"
   ]
  },
  {
   "cell_type": "markdown",
   "id": "ba036198",
   "metadata": {
    "papermill": {
     "duration": 0.026387,
     "end_time": "2022-10-07T20:12:46.561027",
     "exception": false,
     "start_time": "2022-10-07T20:12:46.534640",
     "status": "completed"
    },
    "tags": []
   },
   "source": [
    "From the command line run `pip install mnist`. This is a library that will help you bring down the mnist dataset. If you run this from a notebook, you need to put  `!pip install mnist` in a cell by itself."
   ]
  },
  {
   "cell_type": "code",
   "execution_count": 3,
   "id": "bb6ad8a1",
   "metadata": {
    "execution": {
     "iopub.execute_input": "2022-10-07T20:12:46.621556Z",
     "iopub.status.busy": "2022-10-07T20:12:46.620906Z",
     "iopub.status.idle": "2022-10-07T20:12:48.684657Z",
     "shell.execute_reply": "2022-10-07T20:12:48.685190Z"
    },
    "papermill": {
     "duration": 2.097495,
     "end_time": "2022-10-07T20:12:48.685378",
     "exception": false,
     "start_time": "2022-10-07T20:12:46.587883",
     "status": "completed"
    },
    "tags": []
   },
   "outputs": [
    {
     "name": "stdout",
     "output_type": "stream",
     "text": [
      "Collecting mnist\r\n"
     ]
    },
    {
     "name": "stdout",
     "output_type": "stream",
     "text": [
      "  Downloading mnist-0.2.2-py2.py3-none-any.whl (3.5 kB)\r\n",
      "Requirement already satisfied: numpy in /opt/hostedtoolcache/Python/3.6.15/x64/lib/python3.6/site-packages (from mnist) (1.19.5)\r\n"
     ]
    },
    {
     "name": "stdout",
     "output_type": "stream",
     "text": [
      "Installing collected packages: mnist\r\n",
      "Successfully installed mnist-0.2.2\r\n"
     ]
    }
   ],
   "source": [
    "!pip install mnist"
   ]
  },
  {
   "cell_type": "markdown",
   "id": "69df9c9a",
   "metadata": {
    "papermill": {
     "duration": 0.027328,
     "end_time": "2022-10-07T20:12:48.740687",
     "exception": false,
     "start_time": "2022-10-07T20:12:48.713359",
     "status": "completed"
    },
    "tags": []
   },
   "source": [
    "## Preparing the Data"
   ]
  },
  {
   "cell_type": "code",
   "execution_count": 4,
   "id": "7f69d806",
   "metadata": {
    "execution": {
     "iopub.execute_input": "2022-10-07T20:12:48.802236Z",
     "iopub.status.busy": "2022-10-07T20:12:48.801494Z",
     "iopub.status.idle": "2022-10-07T20:12:48.819142Z",
     "shell.execute_reply": "2022-10-07T20:12:48.818530Z"
    },
    "papermill": {
     "duration": 0.050953,
     "end_time": "2022-10-07T20:12:48.819282",
     "exception": false,
     "start_time": "2022-10-07T20:12:48.768329",
     "status": "completed"
    },
    "tags": []
   },
   "outputs": [],
   "source": [
    "import mnist"
   ]
  },
  {
   "cell_type": "code",
   "execution_count": 5,
   "id": "a411e44f",
   "metadata": {
    "execution": {
     "iopub.execute_input": "2022-10-07T20:12:48.883250Z",
     "iopub.status.busy": "2022-10-07T20:12:48.882567Z",
     "iopub.status.idle": "2022-10-07T20:12:49.586967Z",
     "shell.execute_reply": "2022-10-07T20:12:49.586289Z"
    },
    "papermill": {
     "duration": 0.738718,
     "end_time": "2022-10-07T20:12:49.587111",
     "exception": false,
     "start_time": "2022-10-07T20:12:48.848393",
     "status": "completed"
    },
    "tags": []
   },
   "outputs": [],
   "source": [
    "train_images = mnist.train_images()\n",
    "train_labels = mnist.train_labels()"
   ]
  },
  {
   "cell_type": "code",
   "execution_count": 6,
   "id": "dceab3a5",
   "metadata": {
    "execution": {
     "iopub.execute_input": "2022-10-07T20:12:49.647492Z",
     "iopub.status.busy": "2022-10-07T20:12:49.646797Z",
     "iopub.status.idle": "2022-10-07T20:12:49.664223Z",
     "shell.execute_reply": "2022-10-07T20:12:49.663515Z"
    },
    "papermill": {
     "duration": 0.049386,
     "end_time": "2022-10-07T20:12:49.664356",
     "exception": false,
     "start_time": "2022-10-07T20:12:49.614970",
     "status": "completed"
    },
    "tags": []
   },
   "outputs": [
    {
     "data": {
      "text/plain": [
       "((60000, 28, 28), (60000,))"
      ]
     },
     "execution_count": 6,
     "metadata": {},
     "output_type": "execute_result"
    }
   ],
   "source": [
    "train_images.shape, train_labels.shape"
   ]
  },
  {
   "cell_type": "code",
   "execution_count": 7,
   "id": "f50dc2bb",
   "metadata": {
    "execution": {
     "iopub.execute_input": "2022-10-07T20:12:49.724563Z",
     "iopub.status.busy": "2022-10-07T20:12:49.723853Z",
     "iopub.status.idle": "2022-10-07T20:12:50.232796Z",
     "shell.execute_reply": "2022-10-07T20:12:50.232181Z"
    },
    "papermill": {
     "duration": 0.540747,
     "end_time": "2022-10-07T20:12:50.232930",
     "exception": false,
     "start_time": "2022-10-07T20:12:49.692183",
     "status": "completed"
    },
    "tags": []
   },
   "outputs": [],
   "source": [
    "test_images = mnist.test_images()\n",
    "test_labels = mnist.test_labels()"
   ]
  },
  {
   "cell_type": "code",
   "execution_count": 8,
   "id": "fc38cf1b",
   "metadata": {
    "execution": {
     "iopub.execute_input": "2022-10-07T20:12:50.304146Z",
     "iopub.status.busy": "2022-10-07T20:12:50.303394Z",
     "iopub.status.idle": "2022-10-07T20:12:50.320666Z",
     "shell.execute_reply": "2022-10-07T20:12:50.320118Z"
    },
    "papermill": {
     "duration": 0.050918,
     "end_time": "2022-10-07T20:12:50.320790",
     "exception": false,
     "start_time": "2022-10-07T20:12:50.269872",
     "status": "completed"
    },
    "tags": []
   },
   "outputs": [
    {
     "data": {
      "text/plain": [
       "((10000, 28, 28), (10000,))"
      ]
     },
     "execution_count": 8,
     "metadata": {},
     "output_type": "execute_result"
    }
   ],
   "source": [
    "test_images.shape, test_labels.shape"
   ]
  },
  {
   "cell_type": "code",
   "execution_count": 9,
   "id": "f9ed8fe0",
   "metadata": {
    "execution": {
     "iopub.execute_input": "2022-10-07T20:12:50.384303Z",
     "iopub.status.busy": "2022-10-07T20:12:50.383555Z",
     "iopub.status.idle": "2022-10-07T20:12:50.550821Z",
     "shell.execute_reply": "2022-10-07T20:12:50.550234Z"
    },
    "papermill": {
     "duration": 0.202379,
     "end_time": "2022-10-07T20:12:50.550966",
     "exception": false,
     "start_time": "2022-10-07T20:12:50.348587",
     "status": "completed"
    },
    "tags": []
   },
   "outputs": [
    {
     "name": "stdout",
     "output_type": "stream",
     "text": [
      "2\n"
     ]
    },
    {
     "data": {
      "text/plain": [
       "<matplotlib.image.AxesImage at 0x7efd921c5cc0>"
      ]
     },
     "execution_count": 9,
     "metadata": {},
     "output_type": "execute_result"
    },
    {
     "data": {
      "image/png": "[encoded data removed]",
      "text/plain": [
       "<Figure size 432x288 with 1 Axes>"
      ]
     },
     "metadata": {
      "needs_background": "light"
     },
     "output_type": "display_data"
    }
   ],
   "source": [
    "image_index = 7776 # You may select anything up to 60,000\n",
    "print(train_labels[image_index]) \n",
    "plt.imshow(train_images[image_index], cmap='Greys')"
   ]
  },
  {
   "cell_type": "markdown",
   "id": "a8d2388d",
   "metadata": {
    "papermill": {
     "duration": 0.030346,
     "end_time": "2022-10-07T20:12:50.609970",
     "exception": false,
     "start_time": "2022-10-07T20:12:50.579624",
     "status": "completed"
    },
    "tags": []
   },
   "source": [
    "## Filter data to get 3 and 8 out"
   ]
  },
  {
   "cell_type": "code",
   "execution_count": 10,
   "id": "776f7fc7",
   "metadata": {
    "execution": {
     "iopub.execute_input": "2022-10-07T20:12:50.674665Z",
     "iopub.status.busy": "2022-10-07T20:12:50.673934Z",
     "iopub.status.idle": "2022-10-07T20:12:50.698241Z",
     "shell.execute_reply": "2022-10-07T20:12:50.697454Z"
    },
    "papermill": {
     "duration": 0.059108,
     "end_time": "2022-10-07T20:12:50.698422",
     "exception": false,
     "start_time": "2022-10-07T20:12:50.639314",
     "status": "completed"
    },
    "tags": []
   },
   "outputs": [],
   "source": [
    "train_filter = np.where((train_labels == 3 ) | (train_labels == 8))\n",
    "test_filter = np.where((test_labels == 3) | (test_labels == 8))\n",
    "X_train, y_train = train_images[train_filter], train_labels[train_filter]\n",
    "X_test, y_test = test_images[test_filter], test_labels[test_filter]"
   ]
  },
  {
   "cell_type": "markdown",
   "id": "948f0b7e",
   "metadata": {
    "papermill": {
     "duration": 0.028858,
     "end_time": "2022-10-07T20:12:50.757762",
     "exception": false,
     "start_time": "2022-10-07T20:12:50.728904",
     "status": "completed"
    },
    "tags": []
   },
   "source": [
    "We normalize the pizel values in the 0 to 1 range"
   ]
  },
  {
   "cell_type": "code",
   "execution_count": 11,
   "id": "ee4c2166",
   "metadata": {
    "execution": {
     "iopub.execute_input": "2022-10-07T20:12:50.821990Z",
     "iopub.status.busy": "2022-10-07T20:12:50.821291Z",
     "iopub.status.idle": "2022-10-07T20:12:50.879386Z",
     "shell.execute_reply": "2022-10-07T20:12:50.878354Z"
    },
    "papermill": {
     "duration": 0.0926,
     "end_time": "2022-10-07T20:12:50.879612",
     "exception": false,
     "start_time": "2022-10-07T20:12:50.787012",
     "status": "completed"
    },
    "tags": []
   },
   "outputs": [],
   "source": [
    "X_train = X_train/255.\n",
    "X_test = X_test/255."
   ]
  },
  {
   "cell_type": "markdown",
   "id": "ddcf4fab",
   "metadata": {
    "papermill": {
     "duration": 0.028862,
     "end_time": "2022-10-07T20:12:50.940113",
     "exception": false,
     "start_time": "2022-10-07T20:12:50.911251",
     "status": "completed"
    },
    "tags": []
   },
   "source": [
    "And setup the labels as 1 (when the digit is 3) and 0 (when the digit is 8)"
   ]
  },
  {
   "cell_type": "code",
   "execution_count": 12,
   "id": "7dc908f2",
   "metadata": {
    "execution": {
     "iopub.execute_input": "2022-10-07T20:12:51.001985Z",
     "iopub.status.busy": "2022-10-07T20:12:51.001301Z",
     "iopub.status.idle": "2022-10-07T20:12:51.016417Z",
     "shell.execute_reply": "2022-10-07T20:12:51.015728Z"
    },
    "papermill": {
     "duration": 0.047905,
     "end_time": "2022-10-07T20:12:51.016545",
     "exception": false,
     "start_time": "2022-10-07T20:12:50.968640",
     "status": "completed"
    },
    "tags": []
   },
   "outputs": [],
   "source": [
    "y_train = 1*(y_train==3)\n",
    "y_test = 1*(y_test==3)"
   ]
  },
  {
   "cell_type": "code",
   "execution_count": 13,
   "id": "01e4e969",
   "metadata": {
    "execution": {
     "iopub.execute_input": "2022-10-07T20:12:51.081523Z",
     "iopub.status.busy": "2022-10-07T20:12:51.080833Z",
     "iopub.status.idle": "2022-10-07T20:12:51.098564Z",
     "shell.execute_reply": "2022-10-07T20:12:51.097994Z"
    },
    "papermill": {
     "duration": 0.05257,
     "end_time": "2022-10-07T20:12:51.098810",
     "exception": false,
     "start_time": "2022-10-07T20:12:51.046240",
     "status": "completed"
    },
    "tags": []
   },
   "outputs": [
    {
     "data": {
      "text/plain": [
       "((11982, 28, 28), (1984, 28, 28))"
      ]
     },
     "execution_count": 13,
     "metadata": {},
     "output_type": "execute_result"
    }
   ],
   "source": [
    "X_train.shape, X_test.shape"
   ]
  },
  {
   "cell_type": "markdown",
   "id": "5ccf3f85",
   "metadata": {
    "papermill": {
     "duration": 0.02988,
     "end_time": "2022-10-07T20:12:51.159370",
     "exception": false,
     "start_time": "2022-10-07T20:12:51.129490",
     "status": "completed"
    },
    "tags": []
   },
   "source": [
    "We reshape the data to flatten the image pixels into a set of features or co-variates:"
   ]
  },
  {
   "cell_type": "code",
   "execution_count": 14,
   "id": "5286a4a3",
   "metadata": {
    "execution": {
     "iopub.execute_input": "2022-10-07T20:12:51.223806Z",
     "iopub.status.busy": "2022-10-07T20:12:51.223077Z",
     "iopub.status.idle": "2022-10-07T20:12:51.241160Z",
     "shell.execute_reply": "2022-10-07T20:12:51.241716Z"
    },
    "papermill": {
     "duration": 0.052701,
     "end_time": "2022-10-07T20:12:51.241877",
     "exception": false,
     "start_time": "2022-10-07T20:12:51.189176",
     "status": "completed"
    },
    "tags": []
   },
   "outputs": [
    {
     "data": {
      "text/plain": [
       "((11982, 784), (1984, 784))"
      ]
     },
     "execution_count": 14,
     "metadata": {},
     "output_type": "execute_result"
    }
   ],
   "source": [
    "X_train = X_train.reshape(X_train.shape[0], -1)\n",
    "X_test = X_test.reshape(X_test.shape[0], -1)\n",
    "X_train.shape, X_test.shape"
   ]
  },
  {
   "cell_type": "code",
   "execution_count": 15,
   "id": "73c5f88a",
   "metadata": {
    "execution": {
     "iopub.execute_input": "2022-10-07T20:12:51.311226Z",
     "iopub.status.busy": "2022-10-07T20:12:51.310534Z",
     "iopub.status.idle": "2022-10-07T20:12:51.332805Z",
     "shell.execute_reply": "2022-10-07T20:12:51.332030Z"
    },
    "papermill": {
     "duration": 0.060295,
     "end_time": "2022-10-07T20:12:51.332958",
     "exception": false,
     "start_time": "2022-10-07T20:12:51.272663",
     "status": "completed"
    },
    "tags": []
   },
   "outputs": [],
   "source": [
    "#Impoting functions from 'Kudzu'\n",
    "from kudzu.model import Model\n",
    "from kudzu.train import Learner\n",
    "from kudzu.optim import GD\n",
    "from kudzu.data import Data, Sampler,Dataloader\n",
    "\n",
    "from kudzu.callbacks import AccCallback\n",
    "from kudzu.callbacks import ClfCallback\n",
    "\n",
    "from kudzu.loss import MSE\n",
    "\n",
    "from kudzu.layer import Sigmoid,Relu\n",
    "from kudzu.layer import Affine"
   ]
  },
  {
   "cell_type": "markdown",
   "id": "bc01172a",
   "metadata": {
    "papermill": {
     "duration": 0.030127,
     "end_time": "2022-10-07T20:12:51.392892",
     "exception": false,
     "start_time": "2022-10-07T20:12:51.362765",
     "status": "completed"
    },
    "tags": []
   },
   "source": [
    "### Let us create a `Config` class, to store important parameters. \n",
    "This class essentially plays the role of a dictionary."
   ]
  },
  {
   "cell_type": "code",
   "execution_count": 16,
   "id": "978281aa",
   "metadata": {
    "execution": {
     "iopub.execute_input": "2022-10-07T20:12:51.462643Z",
     "iopub.status.busy": "2022-10-07T20:12:51.461976Z",
     "iopub.status.idle": "2022-10-07T20:12:51.476109Z",
     "shell.execute_reply": "2022-10-07T20:12:51.475479Z"
    },
    "papermill": {
     "duration": 0.05333,
     "end_time": "2022-10-07T20:12:51.476246",
     "exception": false,
     "start_time": "2022-10-07T20:12:51.422916",
     "status": "completed"
    },
    "tags": []
   },
   "outputs": [],
   "source": [
    "class Config:\n",
    "    pass\n",
    "config = Config()\n",
    "config.lr = 0.001\n",
    "config.num_epochs = 250\n",
    "config.bs = 50"
   ]
  },
  {
   "cell_type": "markdown",
   "id": "1385fa59",
   "metadata": {
    "papermill": {
     "duration": 0.032122,
     "end_time": "2022-10-07T20:12:51.538295",
     "exception": false,
     "start_time": "2022-10-07T20:12:51.506173",
     "status": "completed"
    },
    "tags": []
   },
   "source": [
    "### Running Models with the Training data\n",
    "Details about the network layers:\n",
    "- A first affine layer has 784 inputs and does 100 affine transforms. These are followed by a Relu\n",
    "- A second affine layer has 100 inputs from the 100 activations of the past layer, and does 100 affine transforms. These are followed by a Relu\n",
    "- A third affine layer has 100 activations and does 2 affine transformations to create an embedding for visualization. There is no non-linearity here.\n",
    "- A final \"logistic regression\" which has an affine transform from 2 inputs to 1 output, which is squeezed through a sigmoid.\n"
   ]
  },
  {
   "cell_type": "code",
   "execution_count": 17,
   "id": "2b9c66db",
   "metadata": {
    "execution": {
     "iopub.execute_input": "2022-10-07T20:12:51.605783Z",
     "iopub.status.busy": "2022-10-07T20:12:51.605142Z",
     "iopub.status.idle": "2022-10-07T20:12:51.621602Z",
     "shell.execute_reply": "2022-10-07T20:12:51.621003Z"
    },
    "papermill": {
     "duration": 0.053436,
     "end_time": "2022-10-07T20:12:51.621741",
     "exception": false,
     "start_time": "2022-10-07T20:12:51.568305",
     "status": "completed"
    },
    "tags": []
   },
   "outputs": [],
   "source": [
    "data = Data(X_train, y_train.reshape(-1,1))\n",
    "sampler = Sampler(data, config.bs, shuffle=True)\n",
    "\n",
    "dl = Dataloader(data, sampler)\n",
    "\n",
    "opt = GD(config.lr)\n",
    "loss = MSE()"
   ]
  },
  {
   "cell_type": "code",
   "execution_count": 18,
   "id": "b275e4c2",
   "metadata": {
    "execution": {
     "iopub.execute_input": "2022-10-07T20:12:51.690450Z",
     "iopub.status.busy": "2022-10-07T20:12:51.689241Z",
     "iopub.status.idle": "2022-10-07T20:12:51.703258Z",
     "shell.execute_reply": "2022-10-07T20:12:51.702602Z"
    },
    "papermill": {
     "duration": 0.050583,
     "end_time": "2022-10-07T20:12:51.703388",
     "exception": false,
     "start_time": "2022-10-07T20:12:51.652805",
     "status": "completed"
    },
    "tags": []
   },
   "outputs": [],
   "source": [
    "training_data_x = X_train\n",
    "testing_data_x = X_test\n",
    "training_data_y = y_train.reshape(-1,1)\n",
    "testing_data_y = y_test.reshape(-1,1)"
   ]
  },
  {
   "cell_type": "code",
   "execution_count": 19,
   "id": "76951160",
   "metadata": {
    "execution": {
     "iopub.execute_input": "2022-10-07T20:12:51.770195Z",
     "iopub.status.busy": "2022-10-07T20:12:51.769463Z",
     "iopub.status.idle": "2022-10-07T20:12:51.791619Z",
     "shell.execute_reply": "2022-10-07T20:12:51.791042Z"
    },
    "papermill": {
     "duration": 0.059214,
     "end_time": "2022-10-07T20:12:51.791786",
     "exception": false,
     "start_time": "2022-10-07T20:12:51.732572",
     "status": "completed"
    },
    "tags": []
   },
   "outputs": [
    {
     "name": "stdout",
     "output_type": "stream",
     "text": [
      "xavier\n",
      "xavier\n",
      "xavier\n",
      "xavier\n",
      "xavier\n"
     ]
    }
   ],
   "source": [
    "layers = [Affine(\"first\", 784, 100), Relu(\"first\"), Affine(\"second\", 100, 100), Relu(\"second\"), Affine(\"third\", 100, 2), Affine(\"last\", 2, 1), Sigmoid(\"last\")]\n",
    "model_nn = Model(layers)\n",
    "model_lr = Model([Affine(\"logits\", 784, 1), Sigmoid(\"sigmoid\")])"
   ]
  },
  {
   "cell_type": "code",
   "execution_count": 20,
   "id": "6eede77a",
   "metadata": {
    "execution": {
     "iopub.execute_input": "2022-10-07T20:12:51.859019Z",
     "iopub.status.busy": "2022-10-07T20:12:51.858200Z",
     "iopub.status.idle": "2022-10-07T20:12:51.873194Z",
     "shell.execute_reply": "2022-10-07T20:12:51.873875Z"
    },
    "papermill": {
     "duration": 0.051215,
     "end_time": "2022-10-07T20:12:51.874034",
     "exception": false,
     "start_time": "2022-10-07T20:12:51.822819",
     "status": "completed"
    },
    "tags": []
   },
   "outputs": [],
   "source": [
    "nn_learner = Learner(loss, model_nn, opt, config.num_epochs)\n",
    "acc_nn = ClfCallback(nn_learner, config.bs, training_data_x , testing_data_x, training_data_y, testing_data_y)\n",
    "nn_learner.set_callbacks([acc_nn])"
   ]
  },
  {
   "cell_type": "code",
   "execution_count": 21,
   "id": "877b6cc7",
   "metadata": {
    "execution": {
     "iopub.execute_input": "2022-10-07T20:12:51.941571Z",
     "iopub.status.busy": "2022-10-07T20:12:51.940861Z",
     "iopub.status.idle": "2022-10-07T20:12:51.955711Z",
     "shell.execute_reply": "2022-10-07T20:12:51.955107Z"
    },
    "papermill": {
     "duration": 0.051113,
     "end_time": "2022-10-07T20:12:51.955853",
     "exception": false,
     "start_time": "2022-10-07T20:12:51.904740",
     "status": "completed"
    },
    "tags": []
   },
   "outputs": [],
   "source": [
    "lr_learner = Learner(loss, model_lr, opt, config.num_epochs)\n",
    "acc_lr = ClfCallback(lr_learner, config.bs, training_data_x , testing_data_x, training_data_y, testing_data_y)\n",
    "lr_learner.set_callbacks([acc_lr])"
   ]
  },
  {
   "cell_type": "code",
   "execution_count": 22,
   "id": "d9b133c3",
   "metadata": {
    "execution": {
     "iopub.execute_input": "2022-10-07T20:12:52.022184Z",
     "iopub.status.busy": "2022-10-07T20:12:52.021417Z",
     "iopub.status.idle": "2022-10-07T20:14:19.951309Z",
     "shell.execute_reply": "2022-10-07T20:14:19.952308Z"
    },
    "papermill": {
     "duration": 87.965924,
     "end_time": "2022-10-07T20:14:19.952474",
     "exception": false,
     "start_time": "2022-10-07T20:12:51.986550",
     "status": "completed"
    },
    "tags": []
   },
   "outputs": [
    {
     "name": "stdout",
     "output_type": "stream",
     "text": [
      "Epoch 0, Loss 0.2497\n",
      "Training Accuracy: 0.5599, Testing Accuracy: 0.5665\n",
      "\n"
     ]
    },
    {
     "name": "stdout",
     "output_type": "stream",
     "text": [
      "Epoch 10, Loss 0.1057\n",
      "Training Accuracy: 0.9084, Testing Accuracy: 0.9138\n",
      "\n"
     ]
    },
    {
     "name": "stdout",
     "output_type": "stream",
     "text": [
      "Epoch 20, Loss 0.0614\n",
      "Training Accuracy: 0.9355, Testing Accuracy: 0.9456\n",
      "\n"
     ]
    },
    {
     "name": "stdout",
     "output_type": "stream",
     "text": [
      "Epoch 30, Loss 0.0468\n",
      "Training Accuracy: 0.9483, Testing Accuracy: 0.9587\n",
      "\n"
     ]
    },
    {
     "name": "stdout",
     "output_type": "stream",
     "text": [
      "Epoch 40, Loss 0.0398\n",
      "Training Accuracy: 0.9547, Testing Accuracy: 0.9632\n",
      "\n"
     ]
    },
    {
     "name": "stdout",
     "output_type": "stream",
     "text": [
      "Epoch 50, Loss 0.0357\n",
      "Training Accuracy: 0.9593, Testing Accuracy: 0.9652\n",
      "\n"
     ]
    },
    {
     "name": "stdout",
     "output_type": "stream",
     "text": [
      "Epoch 60, Loss 0.033\n",
      "Training Accuracy: 0.9611, Testing Accuracy: 0.9677\n",
      "\n"
     ]
    },
    {
     "name": "stdout",
     "output_type": "stream",
     "text": [
      "Epoch 70, Loss 0.031\n",
      "Training Accuracy: 0.9639, Testing Accuracy: 0.9693\n",
      "\n"
     ]
    },
    {
     "name": "stdout",
     "output_type": "stream",
     "text": [
      "Epoch 80, Loss 0.0294\n",
      "Training Accuracy: 0.9657, Testing Accuracy: 0.9688\n",
      "\n"
     ]
    },
    {
     "name": "stdout",
     "output_type": "stream",
     "text": [
      "Epoch 90, Loss 0.0281\n",
      "Training Accuracy: 0.9670, Testing Accuracy: 0.9677\n",
      "\n"
     ]
    },
    {
     "name": "stdout",
     "output_type": "stream",
     "text": [
      "Epoch 100, Loss 0.027\n",
      "Training Accuracy: 0.9686, Testing Accuracy: 0.9677\n",
      "\n"
     ]
    },
    {
     "name": "stdout",
     "output_type": "stream",
     "text": [
      "Epoch 110, Loss 0.0261\n",
      "Training Accuracy: 0.9693, Testing Accuracy: 0.9682\n",
      "\n"
     ]
    },
    {
     "name": "stdout",
     "output_type": "stream",
     "text": [
      "Epoch 120, Loss 0.0253\n",
      "Training Accuracy: 0.9702, Testing Accuracy: 0.9688\n",
      "\n"
     ]
    },
    {
     "name": "stdout",
     "output_type": "stream",
     "text": [
      "Epoch 130, Loss 0.0245\n",
      "Training Accuracy: 0.9706, Testing Accuracy: 0.9698\n",
      "\n"
     ]
    },
    {
     "name": "stdout",
     "output_type": "stream",
     "text": [
      "Epoch 140, Loss 0.0238\n",
      "Training Accuracy: 0.9714, Testing Accuracy: 0.9698\n",
      "\n"
     ]
    },
    {
     "name": "stdout",
     "output_type": "stream",
     "text": [
      "Epoch 150, Loss 0.0232\n",
      "Training Accuracy: 0.9723, Testing Accuracy: 0.9708\n",
      "\n"
     ]
    },
    {
     "name": "stdout",
     "output_type": "stream",
     "text": [
      "Epoch 160, Loss 0.0226\n",
      "Training Accuracy: 0.9733, Testing Accuracy: 0.9713\n",
      "\n"
     ]
    },
    {
     "name": "stdout",
     "output_type": "stream",
     "text": [
      "Epoch 170, Loss 0.0221\n",
      "Training Accuracy: 0.9740, Testing Accuracy: 0.9718\n",
      "\n"
     ]
    },
    {
     "name": "stdout",
     "output_type": "stream",
     "text": [
      "Epoch 180, Loss 0.0216\n",
      "Training Accuracy: 0.9750, Testing Accuracy: 0.9728\n",
      "\n"
     ]
    },
    {
     "name": "stdout",
     "output_type": "stream",
     "text": [
      "Epoch 190, Loss 0.0211\n",
      "Training Accuracy: 0.9755, Testing Accuracy: 0.9728\n",
      "\n"
     ]
    },
    {
     "name": "stdout",
     "output_type": "stream",
     "text": [
      "Epoch 200, Loss 0.0207\n",
      "Training Accuracy: 0.9762, Testing Accuracy: 0.9738\n",
      "\n"
     ]
    },
    {
     "name": "stdout",
     "output_type": "stream",
     "text": [
      "Epoch 210, Loss 0.0202\n",
      "Training Accuracy: 0.9768, Testing Accuracy: 0.9743\n",
      "\n"
     ]
    },
    {
     "name": "stdout",
     "output_type": "stream",
     "text": [
      "Epoch 220, Loss 0.0198\n",
      "Training Accuracy: 0.9770, Testing Accuracy: 0.9738\n",
      "\n"
     ]
    },
    {
     "name": "stdout",
     "output_type": "stream",
     "text": [
      "Epoch 230, Loss 0.0194\n",
      "Training Accuracy: 0.9781, Testing Accuracy: 0.9738\n",
      "\n"
     ]
    },
    {
     "name": "stdout",
     "output_type": "stream",
     "text": [
      "Epoch 240, Loss 0.019\n",
      "Training Accuracy: 0.9787, Testing Accuracy: 0.9738\n",
      "\n"
     ]
    },
    {
     "data": {
      "text/plain": [
       "0.011030079377704243"
      ]
     },
     "execution_count": 22,
     "metadata": {},
     "output_type": "execute_result"
    }
   ],
   "source": [
    "nn_learner.train_loop(dl)"
   ]
  },
  {
   "cell_type": "code",
   "execution_count": 23,
   "id": "e0163366",
   "metadata": {
    "execution": {
     "iopub.execute_input": "2022-10-07T20:14:20.045155Z",
     "iopub.status.busy": "2022-10-07T20:14:20.044431Z",
     "iopub.status.idle": "2022-10-07T20:14:36.132219Z",
     "shell.execute_reply": "2022-10-07T20:14:36.133166Z"
    },
    "papermill": {
     "duration": 16.141808,
     "end_time": "2022-10-07T20:14:36.133336",
     "exception": false,
     "start_time": "2022-10-07T20:14:19.991528",
     "status": "completed"
    },
    "tags": []
   },
   "outputs": [
    {
     "name": "stdout",
     "output_type": "stream",
     "text": [
      "Epoch 0, Loss 0.2551\n",
      "Training Accuracy: 0.6420, Testing Accuracy: 0.6351\n",
      "\n"
     ]
    },
    {
     "name": "stdout",
     "output_type": "stream",
     "text": [
      "Epoch 10, Loss 0.1037\n",
      "Training Accuracy: 0.9167, Testing Accuracy: 0.9325\n",
      "\n"
     ]
    },
    {
     "name": "stdout",
     "output_type": "stream",
     "text": [
      "Epoch 20, Loss 0.0792\n",
      "Training Accuracy: 0.9296, Testing Accuracy: 0.9441\n",
      "\n"
     ]
    },
    {
     "name": "stdout",
     "output_type": "stream",
     "text": [
      "Epoch 30, Loss 0.0682\n",
      "Training Accuracy: 0.9365, Testing Accuracy: 0.9511\n",
      "\n"
     ]
    },
    {
     "name": "stdout",
     "output_type": "stream",
     "text": [
      "Epoch 40, Loss 0.0617\n",
      "Training Accuracy: 0.9421, Testing Accuracy: 0.9551\n",
      "\n"
     ]
    },
    {
     "name": "stdout",
     "output_type": "stream",
     "text": [
      "Epoch 50, Loss 0.0572\n",
      "Training Accuracy: 0.9451, Testing Accuracy: 0.9567\n",
      "\n"
     ]
    },
    {
     "name": "stdout",
     "output_type": "stream",
     "text": [
      "Epoch 60, Loss 0.054\n",
      "Training Accuracy: 0.9473, Testing Accuracy: 0.9582\n",
      "\n"
     ]
    },
    {
     "name": "stdout",
     "output_type": "stream",
     "text": [
      "Epoch 70, Loss 0.0514\n",
      "Training Accuracy: 0.9491, Testing Accuracy: 0.9592\n",
      "\n"
     ]
    },
    {
     "name": "stdout",
     "output_type": "stream",
     "text": [
      "Epoch 80, Loss 0.0494\n",
      "Training Accuracy: 0.9511, Testing Accuracy: 0.9597\n",
      "\n"
     ]
    },
    {
     "name": "stdout",
     "output_type": "stream",
     "text": [
      "Epoch 90, Loss 0.0477\n",
      "Training Accuracy: 0.9518, Testing Accuracy: 0.9617\n",
      "\n"
     ]
    },
    {
     "name": "stdout",
     "output_type": "stream",
     "text": [
      "Epoch 100, Loss 0.0463\n",
      "Training Accuracy: 0.9530, Testing Accuracy: 0.9622\n",
      "\n"
     ]
    },
    {
     "name": "stdout",
     "output_type": "stream",
     "text": [
      "Epoch 110, Loss 0.0451\n",
      "Training Accuracy: 0.9540, Testing Accuracy: 0.9617\n",
      "\n"
     ]
    },
    {
     "name": "stdout",
     "output_type": "stream",
     "text": [
      "Epoch 120, Loss 0.044\n",
      "Training Accuracy: 0.9551, Testing Accuracy: 0.9622\n",
      "\n"
     ]
    },
    {
     "name": "stdout",
     "output_type": "stream",
     "text": [
      "Epoch 130, Loss 0.0431\n",
      "Training Accuracy: 0.9559, Testing Accuracy: 0.9642\n",
      "\n"
     ]
    },
    {
     "name": "stdout",
     "output_type": "stream",
     "text": [
      "Epoch 140, Loss 0.0423\n",
      "Training Accuracy: 0.9566, Testing Accuracy: 0.9647\n",
      "\n"
     ]
    },
    {
     "name": "stdout",
     "output_type": "stream",
     "text": [
      "Epoch 150, Loss 0.0415\n",
      "Training Accuracy: 0.9569, Testing Accuracy: 0.9657\n",
      "\n"
     ]
    },
    {
     "name": "stdout",
     "output_type": "stream",
     "text": [
      "Epoch 160, Loss 0.0408\n",
      "Training Accuracy: 0.9573, Testing Accuracy: 0.9657\n",
      "\n"
     ]
    },
    {
     "name": "stdout",
     "output_type": "stream",
     "text": [
      "Epoch 170, Loss 0.0402\n",
      "Training Accuracy: 0.9578, Testing Accuracy: 0.9657\n",
      "\n"
     ]
    },
    {
     "name": "stdout",
     "output_type": "stream",
     "text": [
      "Epoch 180, Loss 0.0397\n",
      "Training Accuracy: 0.9580, Testing Accuracy: 0.9662\n",
      "\n"
     ]
    },
    {
     "name": "stdout",
     "output_type": "stream",
     "text": [
      "Epoch 190, Loss 0.0391\n",
      "Training Accuracy: 0.9583, Testing Accuracy: 0.9662\n",
      "\n"
     ]
    },
    {
     "name": "stdout",
     "output_type": "stream",
     "text": [
      "Epoch 200, Loss 0.0387\n",
      "Training Accuracy: 0.9586, Testing Accuracy: 0.9662\n",
      "\n"
     ]
    },
    {
     "name": "stdout",
     "output_type": "stream",
     "text": [
      "Epoch 210, Loss 0.0382\n",
      "Training Accuracy: 0.9590, Testing Accuracy: 0.9662\n",
      "\n"
     ]
    },
    {
     "name": "stdout",
     "output_type": "stream",
     "text": [
      "Epoch 220, Loss 0.0378\n",
      "Training Accuracy: 0.9598, Testing Accuracy: 0.9662\n",
      "\n"
     ]
    },
    {
     "name": "stdout",
     "output_type": "stream",
     "text": [
      "Epoch 230, Loss 0.0374\n",
      "Training Accuracy: 0.9601, Testing Accuracy: 0.9662\n",
      "\n"
     ]
    },
    {
     "name": "stdout",
     "output_type": "stream",
     "text": [
      "Epoch 240, Loss 0.0371\n",
      "Training Accuracy: 0.9603, Testing Accuracy: 0.9657\n",
      "\n"
     ]
    },
    {
     "data": {
      "text/plain": [
       "0.024283917412718466"
      ]
     },
     "execution_count": 23,
     "metadata": {},
     "output_type": "execute_result"
    }
   ],
   "source": [
    "lr_learner.train_loop(dl)"
   ]
  },
  {
   "cell_type": "code",
   "execution_count": 24,
   "id": "ca410940",
   "metadata": {
    "execution": {
     "iopub.execute_input": "2022-10-07T20:14:36.236016Z",
     "iopub.status.busy": "2022-10-07T20:14:36.235245Z",
     "iopub.status.idle": "2022-10-07T20:14:36.488125Z",
     "shell.execute_reply": "2022-10-07T20:14:36.487144Z"
    },
    "papermill": {
     "duration": 0.307729,
     "end_time": "2022-10-07T20:14:36.488269",
     "exception": false,
     "start_time": "2022-10-07T20:14:36.180540",
     "status": "completed"
    },
    "tags": []
   },
   "outputs": [
    {
     "data": {
      "text/plain": [
       "<matplotlib.legend.Legend at 0x7efd91d36320>"
      ]
     },
     "execution_count": 24,
     "metadata": {},
     "output_type": "execute_result"
    },
    {
     "data": {
      "image/png": "[encoded data removed]",
      "text/plain": [
       "<Figure size 1080x720 with 1 Axes>"
      ]
     },
     "metadata": {
      "needs_background": "light"
     },
     "output_type": "display_data"
    }
   ],
   "source": [
    "#comparing the results of NN and LR\n",
    "plt.figure(figsize=(15,10))\n",
    "\n",
    "# Neural Network plots\n",
    "plt.plot(acc_nn.accuracies, 'r-', label = \"Training Accuracies - NN\")\n",
    "plt.plot(acc_nn.test_accuracies, 'g-', label = \"Testing Accuracies - NN\")\n",
    "\n",
    "# Logistic Regression plots\n",
    "plt.plot(acc_lr.accuracies, 'k-', label = \"Training Accuracies - LR\")\n",
    "plt.plot(acc_lr.test_accuracies, 'b-', label = \"Testing Accuracies - LR\")\n",
    "plt.legend()"
   ]
  },
  {
   "cell_type": "markdown",
   "id": "80dfb35c",
   "metadata": {
    "papermill": {
     "duration": 0.046335,
     "end_time": "2022-10-07T20:14:36.581113",
     "exception": false,
     "start_time": "2022-10-07T20:14:36.534778",
     "status": "completed"
    },
    "tags": []
   },
   "source": [
    "#### Plotting the outputs of this layer of the NN.\n"
   ]
  },
  {
   "cell_type": "code",
   "execution_count": 25,
   "id": "45eb2ff5",
   "metadata": {
    "execution": {
     "iopub.execute_input": "2022-10-07T20:14:36.679919Z",
     "iopub.status.busy": "2022-10-07T20:14:36.679191Z",
     "iopub.status.idle": "2022-10-07T20:14:36.702513Z",
     "shell.execute_reply": "2022-10-07T20:14:36.703044Z"
    },
    "papermill": {
     "duration": 0.075927,
     "end_time": "2022-10-07T20:14:36.703224",
     "exception": false,
     "start_time": "2022-10-07T20:14:36.627297",
     "status": "completed"
    },
    "tags": []
   },
   "outputs": [],
   "source": [
    "new_model = Model(layers[:-2])\n",
    "testing_plot = new_model(testing_data_x)"
   ]
  },
  {
   "cell_type": "code",
   "execution_count": 26,
   "id": "4c0a5485",
   "metadata": {
    "execution": {
     "iopub.execute_input": "2022-10-07T20:14:36.805028Z",
     "iopub.status.busy": "2022-10-07T20:14:36.804334Z",
     "iopub.status.idle": "2022-10-07T20:14:37.054130Z",
     "shell.execute_reply": "2022-10-07T20:14:37.053518Z"
    },
    "papermill": {
     "duration": 0.302327,
     "end_time": "2022-10-07T20:14:37.054270",
     "exception": false,
     "start_time": "2022-10-07T20:14:36.751943",
     "status": "completed"
    },
    "tags": []
   },
   "outputs": [
    {
     "data": {
      "text/plain": [
       "Text(0.5, 1.0, 'Outputs')"
      ]
     },
     "execution_count": 26,
     "metadata": {},
     "output_type": "execute_result"
    },
    {
     "data": {
      "image/png": "[encoded data removed]",
      "text/plain": [
       "<Figure size 576x504 with 1 Axes>"
      ]
     },
     "metadata": {
      "needs_background": "light"
     },
     "output_type": "display_data"
    }
   ],
   "source": [
    "# Plotting the scatter plot of points and color coding by class\n",
    "plt.figure(figsize=(8,7))\n",
    "plt.scatter(testing_plot[:,0], testing_plot[:,1], alpha = 0.1, c = y_test.ravel());\n",
    "plt.title('Outputs')"
   ]
  },
  {
   "cell_type": "markdown",
   "id": "a74fcf8f",
   "metadata": {
    "papermill": {
     "duration": 0.048684,
     "end_time": "2022-10-07T20:14:37.152201",
     "exception": false,
     "start_time": "2022-10-07T20:14:37.103517",
     "status": "completed"
    },
    "tags": []
   },
   "source": [
    "Probability contours"
   ]
  },
  {
   "cell_type": "code",
   "execution_count": 27,
   "id": "d0afc8e3",
   "metadata": {
    "execution": {
     "iopub.execute_input": "2022-10-07T20:14:37.256566Z",
     "iopub.status.busy": "2022-10-07T20:14:37.255612Z",
     "iopub.status.idle": "2022-10-07T20:14:37.271208Z",
     "shell.execute_reply": "2022-10-07T20:14:37.270486Z"
    },
    "papermill": {
     "duration": 0.070262,
     "end_time": "2022-10-07T20:14:37.271349",
     "exception": false,
     "start_time": "2022-10-07T20:14:37.201087",
     "status": "completed"
    },
    "tags": []
   },
   "outputs": [],
   "source": [
    "model_prob = Model(layers[-2:]) "
   ]
  },
  {
   "cell_type": "code",
   "execution_count": 28,
   "id": "9b96e238",
   "metadata": {
    "execution": {
     "iopub.execute_input": "2022-10-07T20:14:37.416861Z",
     "iopub.status.busy": "2022-10-07T20:14:37.416130Z",
     "iopub.status.idle": "2022-10-07T20:14:37.437324Z",
     "shell.execute_reply": "2022-10-07T20:14:37.436728Z"
    },
    "papermill": {
     "duration": 0.115433,
     "end_time": "2022-10-07T20:14:37.437477",
     "exception": false,
     "start_time": "2022-10-07T20:14:37.322044",
     "status": "completed"
    },
    "tags": []
   },
   "outputs": [],
   "source": [
    "#creating the x and y ranges according to the above generated plot.\n",
    "x_range = np.linspace(-4, 1, 100) \n",
    "y_range = np.linspace(-6, 6, 100) \n",
    "x_grid, y_grid = np.meshgrid(x_range, y_range) # x_grid and y_grig are of size 100 X 100\n",
    "\n",
    "# converting x_grid and y_grid to continuous arrays\n",
    "x_gridflat = np.ravel(x_grid)\n",
    "y_gridflat = np.ravel(y_grid)\n",
    "\n",
    "# The last layer of the current model takes two columns as input. Hence transpose of np.vstack() is required.\n",
    "X = np.vstack((x_gridflat, y_gridflat)).T\n",
    "\n",
    "prob_contour = model_prob(X).reshape(100,100) "
   ]
  },
  {
   "cell_type": "code",
   "execution_count": 29,
   "id": "da72499a",
   "metadata": {
    "execution": {
     "iopub.execute_input": "2022-10-07T20:14:37.554402Z",
     "iopub.status.busy": "2022-10-07T20:14:37.553698Z",
     "iopub.status.idle": "2022-10-07T20:14:37.859515Z",
     "shell.execute_reply": "2022-10-07T20:14:37.858646Z"
    },
    "papermill": {
     "duration": 0.361886,
     "end_time": "2022-10-07T20:14:37.859679",
     "exception": false,
     "start_time": "2022-10-07T20:14:37.497793",
     "status": "completed"
    },
    "tags": []
   },
   "outputs": [
    {
     "data": {
      "image/png": "[encoded data removed]",
      "text/plain": [
       "<Figure size 720x648 with 1 Axes>"
      ]
     },
     "metadata": {
      "needs_background": "light"
     },
     "output_type": "display_data"
    }
   ],
   "source": [
    "plt.figure(figsize=(10,9))\n",
    "plt.scatter(testing_plot[:,0], testing_plot[:,1], alpha = 0.1, c = y_test.ravel())\n",
    "contours = plt.contour(x_grid,y_grid,prob_contour)\n",
    "plt.title('Probability Contours')\n",
    "plt.clabel(contours, inline = True );"
   ]
  },
  {
   "cell_type": "code",
   "execution_count": null,
   "id": "e81b4ac7",
   "metadata": {
    "papermill": {
     "duration": 0.051154,
     "end_time": "2022-10-07T20:14:37.963453",
     "exception": false,
     "start_time": "2022-10-07T20:14:37.912299",
     "status": "completed"
    },
    "tags": []
   },
   "outputs": [],
   "source": []
  }
 ],
 "metadata": {
  "kernelspec": {
   "display_name": "Python 3",
   "language": "python",
   "name": "python3"
  },
  "language_info": {
   "codemirror_mode": {
    "name": "ipython",
    "version": 3
   },
   "file_extension": ".py",
   "mimetype": "text/x-python",
   "name": "python",
   "nbconvert_exporter": "python",
   "pygments_lexer": "ipython3",
   "version": "3.6.15"
  },
  "papermill": {
   "default_parameters": {},
   "duration": 114.189047,
   "end_time": "2022-10-07T20:14:38.537242",
   "environment_variables": {},
   "exception": null,
   "input_path": "2020-08-11-part2.ipynb",
   "output_path": "2020-08-11-part2.ipynb",
   "parameters": {},
   "start_time": "2022-10-07T20:12:44.348195",
   "version": "2.3.3"
  }
 },
 "nbformat": 4,
 "nbformat_minor": 5
}