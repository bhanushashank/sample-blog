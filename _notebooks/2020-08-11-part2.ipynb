{
 "cells": [
  {
   "cell_type": "markdown",
   "id": "98380cd3",
   "metadata": {
    "papermill": {
     "duration": 0.029107,
     "end_time": "2022-10-17T20:11:36.656475",
     "exception": false,
     "start_time": "2022-10-17T20:11:36.627368",
     "status": "completed"
    },
    "tags": []
   },
   "source": [
    "# Distinguish Your Own Digits (DYOD)"
   ]
  },
  {
   "cell_type": "markdown",
   "id": "ef31240d",
   "metadata": {
    "papermill": {
     "duration": 0.025038,
     "end_time": "2022-10-17T20:11:36.705806",
     "exception": false,
     "start_time": "2022-10-17T20:11:36.680768",
     "status": "completed"
    },
    "tags": []
   },
   "source": [
    "You are going to write a classifier that distinguishes between the number 3 and number 8."
   ]
  },
  {
   "cell_type": "code",
   "execution_count": 1,
   "id": "b15c8646",
   "metadata": {
    "execution": {
     "iopub.execute_input": "2022-10-17T20:11:36.763466Z",
     "iopub.status.busy": "2022-10-17T20:11:36.760702Z",
     "iopub.status.idle": "2022-10-17T20:11:36.773949Z",
     "shell.execute_reply": "2022-10-17T20:11:36.774508Z"
    },
    "papermill": {
     "duration": 0.045346,
     "end_time": "2022-10-17T20:11:36.774662",
     "exception": false,
     "start_time": "2022-10-17T20:11:36.729316",
     "status": "completed"
    },
    "tags": []
   },
   "outputs": [],
   "source": [
    "%load_ext autoreload\n",
    "%autoreload 2"
   ]
  },
  {
   "cell_type": "code",
   "execution_count": 2,
   "id": "22ef38dc",
   "metadata": {
    "execution": {
     "iopub.execute_input": "2022-10-17T20:11:36.826165Z",
     "iopub.status.busy": "2022-10-17T20:11:36.825538Z",
     "iopub.status.idle": "2022-10-17T20:11:37.381852Z",
     "shell.execute_reply": "2022-10-17T20:11:37.381223Z"
    },
    "papermill": {
     "duration": 0.583624,
     "end_time": "2022-10-17T20:11:37.381994",
     "exception": false,
     "start_time": "2022-10-17T20:11:36.798370",
     "status": "completed"
    },
    "tags": []
   },
   "outputs": [],
   "source": [
    "%matplotlib inline\n",
    "import numpy as np\n",
    "import matplotlib.pyplot as plt\n",
    "import pandas as pd"
   ]
  },
  {
   "cell_type": "markdown",
   "id": "ba036198",
   "metadata": {
    "papermill": {
     "duration": 0.023452,
     "end_time": "2022-10-17T20:11:37.429351",
     "exception": false,
     "start_time": "2022-10-17T20:11:37.405899",
     "status": "completed"
    },
    "tags": []
   },
   "source": [
    "From the command line run `pip install mnist`. This is a library that will help you bring down the mnist dataset. If you run this from a notebook, you need to put  `!pip install mnist` in a cell by itself."
   ]
  },
  {
   "cell_type": "code",
   "execution_count": 3,
   "id": "bb6ad8a1",
   "metadata": {
    "execution": {
     "iopub.execute_input": "2022-10-17T20:11:37.482628Z",
     "iopub.status.busy": "2022-10-17T20:11:37.481436Z",
     "iopub.status.idle": "2022-10-17T20:11:39.091650Z",
     "shell.execute_reply": "2022-10-17T20:11:39.091039Z"
    },
    "papermill": {
     "duration": 1.638834,
     "end_time": "2022-10-17T20:11:39.091787",
     "exception": false,
     "start_time": "2022-10-17T20:11:37.452953",
     "status": "completed"
    },
    "tags": []
   },
   "outputs": [
    {
     "name": "stdout",
     "output_type": "stream",
     "text": [
      "Collecting mnist\r\n"
     ]
    },
    {
     "name": "stdout",
     "output_type": "stream",
     "text": [
      "  Downloading mnist-0.2.2-py2.py3-none-any.whl (3.5 kB)\r\n",
      "Requirement already satisfied: numpy in /opt/hostedtoolcache/Python/3.6.15/x64/lib/python3.6/site-packages (from mnist) (1.19.5)\r\n"
     ]
    },
    {
     "name": "stdout",
     "output_type": "stream",
     "text": [
      "Installing collected packages: mnist\r\n",
      "Successfully installed mnist-0.2.2\r\n"
     ]
    }
   ],
   "source": [
    "!pip install mnist"
   ]
  },
  {
   "cell_type": "markdown",
   "id": "69df9c9a",
   "metadata": {
    "papermill": {
     "duration": 0.024498,
     "end_time": "2022-10-17T20:11:39.141861",
     "exception": false,
     "start_time": "2022-10-17T20:11:39.117363",
     "status": "completed"
    },
    "tags": []
   },
   "source": [
    "## Preparing the Data"
   ]
  },
  {
   "cell_type": "code",
   "execution_count": 4,
   "id": "7f69d806",
   "metadata": {
    "execution": {
     "iopub.execute_input": "2022-10-17T20:11:39.198178Z",
     "iopub.status.busy": "2022-10-17T20:11:39.197542Z",
     "iopub.status.idle": "2022-10-17T20:11:39.211211Z",
     "shell.execute_reply": "2022-10-17T20:11:39.210749Z"
    },
    "papermill": {
     "duration": 0.045128,
     "end_time": "2022-10-17T20:11:39.211331",
     "exception": false,
     "start_time": "2022-10-17T20:11:39.166203",
     "status": "completed"
    },
    "tags": []
   },
   "outputs": [],
   "source": [
    "import mnist"
   ]
  },
  {
   "cell_type": "code",
   "execution_count": 5,
   "id": "a411e44f",
   "metadata": {
    "execution": {
     "iopub.execute_input": "2022-10-17T20:11:39.264275Z",
     "iopub.status.busy": "2022-10-17T20:11:39.263687Z",
     "iopub.status.idle": "2022-10-17T20:11:39.874615Z",
     "shell.execute_reply": "2022-10-17T20:11:39.874027Z"
    },
    "papermill": {
     "duration": 0.638775,
     "end_time": "2022-10-17T20:11:39.874745",
     "exception": false,
     "start_time": "2022-10-17T20:11:39.235970",
     "status": "completed"
    },
    "tags": []
   },
   "outputs": [],
   "source": [
    "train_images = mnist.train_images()\n",
    "train_labels = mnist.train_labels()"
   ]
  },
  {
   "cell_type": "code",
   "execution_count": 6,
   "id": "dceab3a5",
   "metadata": {
    "execution": {
     "iopub.execute_input": "2022-10-17T20:11:39.928136Z",
     "iopub.status.busy": "2022-10-17T20:11:39.927541Z",
     "iopub.status.idle": "2022-10-17T20:11:39.943168Z",
     "shell.execute_reply": "2022-10-17T20:11:39.942694Z"
    },
    "papermill": {
     "duration": 0.043888,
     "end_time": "2022-10-17T20:11:39.943283",
     "exception": false,
     "start_time": "2022-10-17T20:11:39.899395",
     "status": "completed"
    },
    "tags": []
   },
   "outputs": [
    {
     "data": {
      "text/plain": [
       "((60000, 28, 28), (60000,))"
      ]
     },
     "execution_count": 6,
     "metadata": {},
     "output_type": "execute_result"
    }
   ],
   "source": [
    "train_images.shape, train_labels.shape"
   ]
  },
  {
   "cell_type": "code",
   "execution_count": 7,
   "id": "f50dc2bb",
   "metadata": {
    "execution": {
     "iopub.execute_input": "2022-10-17T20:11:39.997136Z",
     "iopub.status.busy": "2022-10-17T20:11:39.996545Z",
     "iopub.status.idle": "2022-10-17T20:11:40.118402Z",
     "shell.execute_reply": "2022-10-17T20:11:40.117737Z"
    },
    "papermill": {
     "duration": 0.150657,
     "end_time": "2022-10-17T20:11:40.118544",
     "exception": false,
     "start_time": "2022-10-17T20:11:39.967887",
     "status": "completed"
    },
    "tags": []
   },
   "outputs": [],
   "source": [
    "test_images = mnist.test_images()\n",
    "test_labels = mnist.test_labels()"
   ]
  },
  {
   "cell_type": "code",
   "execution_count": 8,
   "id": "fc38cf1b",
   "metadata": {
    "execution": {
     "iopub.execute_input": "2022-10-17T20:11:40.175152Z",
     "iopub.status.busy": "2022-10-17T20:11:40.173721Z",
     "iopub.status.idle": "2022-10-17T20:11:40.186681Z",
     "shell.execute_reply": "2022-10-17T20:11:40.187244Z"
    },
    "papermill": {
     "duration": 0.043751,
     "end_time": "2022-10-17T20:11:40.187384",
     "exception": false,
     "start_time": "2022-10-17T20:11:40.143633",
     "status": "completed"
    },
    "tags": []
   },
   "outputs": [
    {
     "data": {
      "text/plain": [
       "((10000, 28, 28), (10000,))"
      ]
     },
     "execution_count": 8,
     "metadata": {},
     "output_type": "execute_result"
    }
   ],
   "source": [
    "test_images.shape, test_labels.shape"
   ]
  },
  {
   "cell_type": "code",
   "execution_count": 9,
   "id": "f9ed8fe0",
   "metadata": {
    "execution": {
     "iopub.execute_input": "2022-10-17T20:11:40.241715Z",
     "iopub.status.busy": "2022-10-17T20:11:40.241128Z",
     "iopub.status.idle": "2022-10-17T20:11:40.380926Z",
     "shell.execute_reply": "2022-10-17T20:11:40.381363Z"
    },
    "papermill": {
     "duration": 0.168949,
     "end_time": "2022-10-17T20:11:40.381508",
     "exception": false,
     "start_time": "2022-10-17T20:11:40.212559",
     "status": "completed"
    },
    "tags": []
   },
   "outputs": [
    {
     "name": "stdout",
     "output_type": "stream",
     "text": [
      "2\n"
     ]
    },
    {
     "data": {
      "text/plain": [
       "<matplotlib.image.AxesImage at 0x7f35f6d8dd30>"
      ]
     },
     "execution_count": 9,
     "metadata": {},
     "output_type": "execute_result"
    },
    {
     "data": {
      "image/png": "[encoded data removed]",
      "text/plain": [
       "<Figure size 432x288 with 1 Axes>"
      ]
     },
     "metadata": {
      "needs_background": "light"
     },
     "output_type": "display_data"
    }
   ],
   "source": [
    "image_index = 7776 # You may select anything up to 60,000\n",
    "print(train_labels[image_index]) \n",
    "plt.imshow(train_images[image_index], cmap='Greys')"
   ]
  },
  {
   "cell_type": "markdown",
   "id": "a8d2388d",
   "metadata": {
    "papermill": {
     "duration": 0.026164,
     "end_time": "2022-10-17T20:11:40.434146",
     "exception": false,
     "start_time": "2022-10-17T20:11:40.407982",
     "status": "completed"
    },
    "tags": []
   },
   "source": [
    "## Filter data to get 3 and 8 out"
   ]
  },
  {
   "cell_type": "code",
   "execution_count": 10,
   "id": "776f7fc7",
   "metadata": {
    "execution": {
     "iopub.execute_input": "2022-10-17T20:11:40.490990Z",
     "iopub.status.busy": "2022-10-17T20:11:40.490378Z",
     "iopub.status.idle": "2022-10-17T20:11:40.509379Z",
     "shell.execute_reply": "2022-10-17T20:11:40.508874Z"
    },
    "papermill": {
     "duration": 0.049252,
     "end_time": "2022-10-17T20:11:40.509499",
     "exception": false,
     "start_time": "2022-10-17T20:11:40.460247",
     "status": "completed"
    },
    "tags": []
   },
   "outputs": [],
   "source": [
    "train_filter = np.where((train_labels == 3 ) | (train_labels == 8))\n",
    "test_filter = np.where((test_labels == 3) | (test_labels == 8))\n",
    "X_train, y_train = train_images[train_filter], train_labels[train_filter]\n",
    "X_test, y_test = test_images[test_filter], test_labels[test_filter]"
   ]
  },
  {
   "cell_type": "markdown",
   "id": "948f0b7e",
   "metadata": {
    "papermill": {
     "duration": 0.026008,
     "end_time": "2022-10-17T20:11:40.561855",
     "exception": false,
     "start_time": "2022-10-17T20:11:40.535847",
     "status": "completed"
    },
    "tags": []
   },
   "source": [
    "We normalize the pizel values in the 0 to 1 range"
   ]
  },
  {
   "cell_type": "code",
   "execution_count": 11,
   "id": "ee4c2166",
   "metadata": {
    "execution": {
     "iopub.execute_input": "2022-10-17T20:11:40.618081Z",
     "iopub.status.busy": "2022-10-17T20:11:40.617444Z",
     "iopub.status.idle": "2022-10-17T20:11:40.666232Z",
     "shell.execute_reply": "2022-10-17T20:11:40.665610Z"
    },
    "papermill": {
     "duration": 0.078422,
     "end_time": "2022-10-17T20:11:40.666374",
     "exception": false,
     "start_time": "2022-10-17T20:11:40.587952",
     "status": "completed"
    },
    "tags": []
   },
   "outputs": [],
   "source": [
    "X_train = X_train/255.\n",
    "X_test = X_test/255."
   ]
  },
  {
   "cell_type": "markdown",
   "id": "ddcf4fab",
   "metadata": {
    "papermill": {
     "duration": 0.026461,
     "end_time": "2022-10-17T20:11:40.719979",
     "exception": false,
     "start_time": "2022-10-17T20:11:40.693518",
     "status": "completed"
    },
    "tags": []
   },
   "source": [
    "And setup the labels as 1 (when the digit is 3) and 0 (when the digit is 8)"
   ]
  },
  {
   "cell_type": "code",
   "execution_count": 12,
   "id": "7dc908f2",
   "metadata": {
    "execution": {
     "iopub.execute_input": "2022-10-17T20:11:40.776227Z",
     "iopub.status.busy": "2022-10-17T20:11:40.775628Z",
     "iopub.status.idle": "2022-10-17T20:11:40.788059Z",
     "shell.execute_reply": "2022-10-17T20:11:40.787573Z"
    },
    "papermill": {
     "duration": 0.04212,
     "end_time": "2022-10-17T20:11:40.788175",
     "exception": false,
     "start_time": "2022-10-17T20:11:40.746055",
     "status": "completed"
    },
    "tags": []
   },
   "outputs": [],
   "source": [
    "y_train = 1*(y_train==3)\n",
    "y_test = 1*(y_test==3)"
   ]
  },
  {
   "cell_type": "code",
   "execution_count": 13,
   "id": "01e4e969",
   "metadata": {
    "execution": {
     "iopub.execute_input": "2022-10-17T20:11:40.844733Z",
     "iopub.status.busy": "2022-10-17T20:11:40.844148Z",
     "iopub.status.idle": "2022-10-17T20:11:40.857574Z",
     "shell.execute_reply": "2022-10-17T20:11:40.858078Z"
    },
    "papermill": {
     "duration": 0.043864,
     "end_time": "2022-10-17T20:11:40.858215",
     "exception": false,
     "start_time": "2022-10-17T20:11:40.814351",
     "status": "completed"
    },
    "tags": []
   },
   "outputs": [
    {
     "data": {
      "text/plain": [
       "((11982, 28, 28), (1984, 28, 28))"
      ]
     },
     "execution_count": 13,
     "metadata": {},
     "output_type": "execute_result"
    }
   ],
   "source": [
    "X_train.shape, X_test.shape"
   ]
  },
  {
   "cell_type": "markdown",
   "id": "5ccf3f85",
   "metadata": {
    "papermill": {
     "duration": 0.026164,
     "end_time": "2022-10-17T20:11:40.911014",
     "exception": false,
     "start_time": "2022-10-17T20:11:40.884850",
     "status": "completed"
    },
    "tags": []
   },
   "source": [
    "We reshape the data to flatten the image pixels into a set of features or co-variates:"
   ]
  },
  {
   "cell_type": "code",
   "execution_count": 14,
   "id": "5286a4a3",
   "metadata": {
    "execution": {
     "iopub.execute_input": "2022-10-17T20:11:40.969317Z",
     "iopub.status.busy": "2022-10-17T20:11:40.968716Z",
     "iopub.status.idle": "2022-10-17T20:11:40.982214Z",
     "shell.execute_reply": "2022-10-17T20:11:40.981707Z"
    },
    "papermill": {
     "duration": 0.044782,
     "end_time": "2022-10-17T20:11:40.982327",
     "exception": false,
     "start_time": "2022-10-17T20:11:40.937545",
     "status": "completed"
    },
    "tags": []
   },
   "outputs": [
    {
     "data": {
      "text/plain": [
       "((11982, 784), (1984, 784))"
      ]
     },
     "execution_count": 14,
     "metadata": {},
     "output_type": "execute_result"
    }
   ],
   "source": [
    "X_train = X_train.reshape(X_train.shape[0], -1)\n",
    "X_test = X_test.reshape(X_test.shape[0], -1)\n",
    "X_train.shape, X_test.shape"
   ]
  },
  {
   "cell_type": "code",
   "execution_count": 15,
   "id": "73c5f88a",
   "metadata": {
    "execution": {
     "iopub.execute_input": "2022-10-17T20:11:41.050653Z",
     "iopub.status.busy": "2022-10-17T20:11:41.046675Z",
     "iopub.status.idle": "2022-10-17T20:11:41.062081Z",
     "shell.execute_reply": "2022-10-17T20:11:41.061582Z"
    },
    "papermill": {
     "duration": 0.052649,
     "end_time": "2022-10-17T20:11:41.062206",
     "exception": false,
     "start_time": "2022-10-17T20:11:41.009557",
     "status": "completed"
    },
    "tags": []
   },
   "outputs": [],
   "source": [
    "#Impoting functions from 'Kudzu'\n",
    "from kudzu.model import Model\n",
    "from kudzu.train import Learner\n",
    "from kudzu.optim import GD\n",
    "from kudzu.data import Data, Sampler,Dataloader\n",
    "\n",
    "from kudzu.callbacks import AccCallback\n",
    "from kudzu.callbacks import ClfCallback\n",
    "\n",
    "from kudzu.loss import MSE\n",
    "\n",
    "from kudzu.layer import Sigmoid,Relu\n",
    "from kudzu.layer import Affine"
   ]
  },
  {
   "cell_type": "markdown",
   "id": "bc01172a",
   "metadata": {
    "papermill": {
     "duration": 0.02691,
     "end_time": "2022-10-17T20:11:41.115813",
     "exception": false,
     "start_time": "2022-10-17T20:11:41.088903",
     "status": "completed"
    },
    "tags": []
   },
   "source": [
    "### Let us create a `Config` class, to store important parameters. \n",
    "This class essentially plays the role of a dictionary."
   ]
  },
  {
   "cell_type": "code",
   "execution_count": 16,
   "id": "978281aa",
   "metadata": {
    "execution": {
     "iopub.execute_input": "2022-10-17T20:11:41.173521Z",
     "iopub.status.busy": "2022-10-17T20:11:41.172921Z",
     "iopub.status.idle": "2022-10-17T20:11:41.185417Z",
     "shell.execute_reply": "2022-10-17T20:11:41.184922Z"
    },
    "papermill": {
     "duration": 0.043158,
     "end_time": "2022-10-17T20:11:41.185532",
     "exception": false,
     "start_time": "2022-10-17T20:11:41.142374",
     "status": "completed"
    },
    "tags": []
   },
   "outputs": [],
   "source": [
    "class Config:\n",
    "    pass\n",
    "config = Config()\n",
    "config.lr = 0.001\n",
    "config.num_epochs = 250\n",
    "config.bs = 50"
   ]
  },
  {
   "cell_type": "markdown",
   "id": "1385fa59",
   "metadata": {
    "papermill": {
     "duration": 0.026861,
     "end_time": "2022-10-17T20:11:41.239324",
     "exception": false,
     "start_time": "2022-10-17T20:11:41.212463",
     "status": "completed"
    },
    "tags": []
   },
   "source": [
    "### Running Models with the Training data\n",
    "Details about the network layers:\n",
    "- A first affine layer has 784 inputs and does 100 affine transforms. These are followed by a Relu\n",
    "- A second affine layer has 100 inputs from the 100 activations of the past layer, and does 100 affine transforms. These are followed by a Relu\n",
    "- A third affine layer has 100 activations and does 2 affine transformations to create an embedding for visualization. There is no non-linearity here.\n",
    "- A final \"logistic regression\" which has an affine transform from 2 inputs to 1 output, which is squeezed through a sigmoid.\n"
   ]
  },
  {
   "cell_type": "code",
   "execution_count": 17,
   "id": "2b9c66db",
   "metadata": {
    "execution": {
     "iopub.execute_input": "2022-10-17T20:11:41.296669Z",
     "iopub.status.busy": "2022-10-17T20:11:41.296067Z",
     "iopub.status.idle": "2022-10-17T20:11:41.308712Z",
     "shell.execute_reply": "2022-10-17T20:11:41.308131Z"
    },
    "papermill": {
     "duration": 0.042979,
     "end_time": "2022-10-17T20:11:41.308825",
     "exception": false,
     "start_time": "2022-10-17T20:11:41.265846",
     "status": "completed"
    },
    "tags": []
   },
   "outputs": [],
   "source": [
    "data = Data(X_train, y_train.reshape(-1,1))\n",
    "sampler = Sampler(data, config.bs, shuffle=True)\n",
    "\n",
    "dl = Dataloader(data, sampler)\n",
    "\n",
    "opt = GD(config.lr)\n",
    "loss = MSE()"
   ]
  },
  {
   "cell_type": "code",
   "execution_count": 18,
   "id": "b275e4c2",
   "metadata": {
    "execution": {
     "iopub.execute_input": "2022-10-17T20:11:41.366330Z",
     "iopub.status.busy": "2022-10-17T20:11:41.365691Z",
     "iopub.status.idle": "2022-10-17T20:11:41.378219Z",
     "shell.execute_reply": "2022-10-17T20:11:41.377699Z"
    },
    "papermill": {
     "duration": 0.042747,
     "end_time": "2022-10-17T20:11:41.378336",
     "exception": false,
     "start_time": "2022-10-17T20:11:41.335589",
     "status": "completed"
    },
    "tags": []
   },
   "outputs": [],
   "source": [
    "training_data_x = X_train\n",
    "testing_data_x = X_test\n",
    "training_data_y = y_train.reshape(-1,1)\n",
    "testing_data_y = y_test.reshape(-1,1)"
   ]
  },
  {
   "cell_type": "code",
   "execution_count": 19,
   "id": "76951160",
   "metadata": {
    "execution": {
     "iopub.execute_input": "2022-10-17T20:11:41.436376Z",
     "iopub.status.busy": "2022-10-17T20:11:41.435772Z",
     "iopub.status.idle": "2022-10-17T20:11:41.452681Z",
     "shell.execute_reply": "2022-10-17T20:11:41.452196Z"
    },
    "papermill": {
     "duration": 0.047924,
     "end_time": "2022-10-17T20:11:41.452798",
     "exception": false,
     "start_time": "2022-10-17T20:11:41.404874",
     "status": "completed"
    },
    "tags": []
   },
   "outputs": [
    {
     "name": "stdout",
     "output_type": "stream",
     "text": [
      "xavier\n",
      "xavier\n",
      "xavier\n",
      "xavier\n",
      "xavier\n"
     ]
    }
   ],
   "source": [
    "layers = [Affine(\"first\", 784, 100), Relu(\"first\"), Affine(\"second\", 100, 100), Relu(\"second\"), Affine(\"third\", 100, 2), Affine(\"last\", 2, 1), Sigmoid(\"last\")]\n",
    "model_nn = Model(layers)\n",
    "model_lr = Model([Affine(\"logits\", 784, 1), Sigmoid(\"sigmoid\")])"
   ]
  },
  {
   "cell_type": "code",
   "execution_count": 20,
   "id": "6eede77a",
   "metadata": {
    "execution": {
     "iopub.execute_input": "2022-10-17T20:11:41.511430Z",
     "iopub.status.busy": "2022-10-17T20:11:41.510829Z",
     "iopub.status.idle": "2022-10-17T20:11:41.523368Z",
     "shell.execute_reply": "2022-10-17T20:11:41.522884Z"
    },
    "papermill": {
     "duration": 0.043599,
     "end_time": "2022-10-17T20:11:41.523483",
     "exception": false,
     "start_time": "2022-10-17T20:11:41.479884",
     "status": "completed"
    },
    "tags": []
   },
   "outputs": [],
   "source": [
    "nn_learner = Learner(loss, model_nn, opt, config.num_epochs)\n",
    "acc_nn = ClfCallback(nn_learner, config.bs, training_data_x , testing_data_x, training_data_y, testing_data_y)\n",
    "nn_learner.set_callbacks([acc_nn])"
   ]
  },
  {
   "cell_type": "code",
   "execution_count": 21,
   "id": "877b6cc7",
   "metadata": {
    "execution": {
     "iopub.execute_input": "2022-10-17T20:11:41.582169Z",
     "iopub.status.busy": "2022-10-17T20:11:41.581536Z",
     "iopub.status.idle": "2022-10-17T20:11:41.594100Z",
     "shell.execute_reply": "2022-10-17T20:11:41.593580Z"
    },
    "papermill": {
     "duration": 0.043706,
     "end_time": "2022-10-17T20:11:41.594223",
     "exception": false,
     "start_time": "2022-10-17T20:11:41.550517",
     "status": "completed"
    },
    "tags": []
   },
   "outputs": [],
   "source": [
    "lr_learner = Learner(loss, model_lr, opt, config.num_epochs)\n",
    "acc_lr = ClfCallback(lr_learner, config.bs, training_data_x , testing_data_x, training_data_y, testing_data_y)\n",
    "lr_learner.set_callbacks([acc_lr])"
   ]
  },
  {
   "cell_type": "code",
   "execution_count": 22,
   "id": "d9b133c3",
   "metadata": {
    "execution": {
     "iopub.execute_input": "2022-10-17T20:11:41.652147Z",
     "iopub.status.busy": "2022-10-17T20:11:41.651557Z",
     "iopub.status.idle": "2022-10-17T20:12:57.125593Z",
     "shell.execute_reply": "2022-10-17T20:12:57.126480Z"
    },
    "papermill": {
     "duration": 75.505341,
     "end_time": "2022-10-17T20:12:57.126630",
     "exception": false,
     "start_time": "2022-10-17T20:11:41.621289",
     "status": "completed"
    },
    "tags": []
   },
   "outputs": [
    {
     "name": "stdout",
     "output_type": "stream",
     "text": [
      "Epoch 0, Loss 0.2571\n",
      "Training Accuracy: 0.6628, Testing Accuracy: 0.6885\n",
      "\n"
     ]
    },
    {
     "name": "stdout",
     "output_type": "stream",
     "text": [
      "Epoch 10, Loss 0.0657\n",
      "Training Accuracy: 0.9337, Testing Accuracy: 0.9410\n",
      "\n"
     ]
    },
    {
     "name": "stdout",
     "output_type": "stream",
     "text": [
      "Epoch 20, Loss 0.0456\n",
      "Training Accuracy: 0.9498, Testing Accuracy: 0.9577\n",
      "\n"
     ]
    },
    {
     "name": "stdout",
     "output_type": "stream",
     "text": [
      "Epoch 30, Loss 0.0378\n",
      "Training Accuracy: 0.9584, Testing Accuracy: 0.9647\n",
      "\n"
     ]
    },
    {
     "name": "stdout",
     "output_type": "stream",
     "text": [
      "Epoch 40, Loss 0.0335\n",
      "Training Accuracy: 0.9631, Testing Accuracy: 0.9682\n",
      "\n"
     ]
    },
    {
     "name": "stdout",
     "output_type": "stream",
     "text": [
      "Epoch 50, Loss 0.0307\n",
      "Training Accuracy: 0.9653, Testing Accuracy: 0.9698\n",
      "\n"
     ]
    },
    {
     "name": "stdout",
     "output_type": "stream",
     "text": [
      "Epoch 60, Loss 0.0286\n",
      "Training Accuracy: 0.9672, Testing Accuracy: 0.9708\n",
      "\n"
     ]
    },
    {
     "name": "stdout",
     "output_type": "stream",
     "text": [
      "Epoch 70, Loss 0.027\n",
      "Training Accuracy: 0.9685, Testing Accuracy: 0.9708\n",
      "\n"
     ]
    },
    {
     "name": "stdout",
     "output_type": "stream",
     "text": [
      "Epoch 80, Loss 0.0256\n",
      "Training Accuracy: 0.9700, Testing Accuracy: 0.9723\n",
      "\n"
     ]
    },
    {
     "name": "stdout",
     "output_type": "stream",
     "text": [
      "Epoch 90, Loss 0.0245\n",
      "Training Accuracy: 0.9712, Testing Accuracy: 0.9723\n",
      "\n"
     ]
    },
    {
     "name": "stdout",
     "output_type": "stream",
     "text": [
      "Epoch 100, Loss 0.0235\n",
      "Training Accuracy: 0.9720, Testing Accuracy: 0.9723\n",
      "\n"
     ]
    },
    {
     "name": "stdout",
     "output_type": "stream",
     "text": [
      "Epoch 110, Loss 0.0226\n",
      "Training Accuracy: 0.9731, Testing Accuracy: 0.9733\n",
      "\n"
     ]
    },
    {
     "name": "stdout",
     "output_type": "stream",
     "text": [
      "Epoch 120, Loss 0.0219\n",
      "Training Accuracy: 0.9740, Testing Accuracy: 0.9733\n",
      "\n"
     ]
    },
    {
     "name": "stdout",
     "output_type": "stream",
     "text": [
      "Epoch 130, Loss 0.0211\n",
      "Training Accuracy: 0.9755, Testing Accuracy: 0.9743\n",
      "\n"
     ]
    },
    {
     "name": "stdout",
     "output_type": "stream",
     "text": [
      "Epoch 140, Loss 0.0205\n",
      "Training Accuracy: 0.9765, Testing Accuracy: 0.9738\n",
      "\n"
     ]
    },
    {
     "name": "stdout",
     "output_type": "stream",
     "text": [
      "Epoch 150, Loss 0.0199\n",
      "Training Accuracy: 0.9768, Testing Accuracy: 0.9758\n",
      "\n"
     ]
    },
    {
     "name": "stdout",
     "output_type": "stream",
     "text": [
      "Epoch 160, Loss 0.0193\n",
      "Training Accuracy: 0.9776, Testing Accuracy: 0.9753\n",
      "\n"
     ]
    },
    {
     "name": "stdout",
     "output_type": "stream",
     "text": [
      "Epoch 170, Loss 0.0188\n",
      "Training Accuracy: 0.9787, Testing Accuracy: 0.9753\n",
      "\n"
     ]
    },
    {
     "name": "stdout",
     "output_type": "stream",
     "text": [
      "Epoch 180, Loss 0.0183\n",
      "Training Accuracy: 0.9791, Testing Accuracy: 0.9758\n",
      "\n"
     ]
    },
    {
     "name": "stdout",
     "output_type": "stream",
     "text": [
      "Epoch 190, Loss 0.0179\n",
      "Training Accuracy: 0.9801, Testing Accuracy: 0.9748\n",
      "\n"
     ]
    },
    {
     "name": "stdout",
     "output_type": "stream",
     "text": [
      "Epoch 200, Loss 0.0174\n",
      "Training Accuracy: 0.9807, Testing Accuracy: 0.9758\n",
      "\n"
     ]
    },
    {
     "name": "stdout",
     "output_type": "stream",
     "text": [
      "Epoch 210, Loss 0.017\n",
      "Training Accuracy: 0.9813, Testing Accuracy: 0.9763\n",
      "\n"
     ]
    },
    {
     "name": "stdout",
     "output_type": "stream",
     "text": [
      "Epoch 220, Loss 0.0165\n",
      "Training Accuracy: 0.9819, Testing Accuracy: 0.9758\n",
      "\n"
     ]
    },
    {
     "name": "stdout",
     "output_type": "stream",
     "text": [
      "Epoch 230, Loss 0.0161\n",
      "Training Accuracy: 0.9824, Testing Accuracy: 0.9758\n",
      "\n"
     ]
    },
    {
     "name": "stdout",
     "output_type": "stream",
     "text": [
      "Epoch 240, Loss 0.0157\n",
      "Training Accuracy: 0.9827, Testing Accuracy: 0.9763\n",
      "\n"
     ]
    },
    {
     "data": {
      "text/plain": [
       "0.001119786453244755"
      ]
     },
     "execution_count": 22,
     "metadata": {},
     "output_type": "execute_result"
    }
   ],
   "source": [
    "nn_learner.train_loop(dl)"
   ]
  },
  {
   "cell_type": "code",
   "execution_count": 23,
   "id": "e0163366",
   "metadata": {
    "execution": {
     "iopub.execute_input": "2022-10-17T20:12:57.203884Z",
     "iopub.status.busy": "2022-10-17T20:12:57.203263Z",
     "iopub.status.idle": "2022-10-17T20:13:10.581892Z",
     "shell.execute_reply": "2022-10-17T20:13:10.582758Z"
    },
    "papermill": {
     "duration": 13.42204,
     "end_time": "2022-10-17T20:13:10.582905",
     "exception": false,
     "start_time": "2022-10-17T20:12:57.160865",
     "status": "completed"
    },
    "tags": []
   },
   "outputs": [
    {
     "name": "stdout",
     "output_type": "stream",
     "text": [
      "Epoch 0, Loss 0.2228\n",
      "Training Accuracy: 0.7138, Testing Accuracy: 0.7051\n",
      "\n"
     ]
    },
    {
     "name": "stdout",
     "output_type": "stream",
     "text": [
      "Epoch 10, Loss 0.105\n",
      "Training Accuracy: 0.9014, Testing Accuracy: 0.9088\n",
      "\n"
     ]
    },
    {
     "name": "stdout",
     "output_type": "stream",
     "text": [
      "Epoch 20, Loss 0.0799\n",
      "Training Accuracy: 0.9259, Testing Accuracy: 0.9395\n",
      "\n"
     ]
    },
    {
     "name": "stdout",
     "output_type": "stream",
     "text": [
      "Epoch 30, Loss 0.0684\n",
      "Training Accuracy: 0.9359, Testing Accuracy: 0.9456\n",
      "\n"
     ]
    },
    {
     "name": "stdout",
     "output_type": "stream",
     "text": [
      "Epoch 40, Loss 0.0615\n",
      "Training Accuracy: 0.9422, Testing Accuracy: 0.9496\n",
      "\n"
     ]
    },
    {
     "name": "stdout",
     "output_type": "stream",
     "text": [
      "Epoch 50, Loss 0.0569\n",
      "Training Accuracy: 0.9459, Testing Accuracy: 0.9541\n",
      "\n"
     ]
    },
    {
     "name": "stdout",
     "output_type": "stream",
     "text": [
      "Epoch 60, Loss 0.0536\n",
      "Training Accuracy: 0.9487, Testing Accuracy: 0.9551\n",
      "\n"
     ]
    },
    {
     "name": "stdout",
     "output_type": "stream",
     "text": [
      "Epoch 70, Loss 0.051\n",
      "Training Accuracy: 0.9504, Testing Accuracy: 0.9572\n",
      "\n"
     ]
    },
    {
     "name": "stdout",
     "output_type": "stream",
     "text": [
      "Epoch 80, Loss 0.049\n",
      "Training Accuracy: 0.9518, Testing Accuracy: 0.9602\n",
      "\n"
     ]
    },
    {
     "name": "stdout",
     "output_type": "stream",
     "text": [
      "Epoch 90, Loss 0.0473\n",
      "Training Accuracy: 0.9524, Testing Accuracy: 0.9612\n",
      "\n"
     ]
    },
    {
     "name": "stdout",
     "output_type": "stream",
     "text": [
      "Epoch 100, Loss 0.0459\n",
      "Training Accuracy: 0.9538, Testing Accuracy: 0.9627\n",
      "\n"
     ]
    },
    {
     "name": "stdout",
     "output_type": "stream",
     "text": [
      "Epoch 110, Loss 0.0447\n",
      "Training Accuracy: 0.9550, Testing Accuracy: 0.9637\n",
      "\n"
     ]
    },
    {
     "name": "stdout",
     "output_type": "stream",
     "text": [
      "Epoch 120, Loss 0.0437\n",
      "Training Accuracy: 0.9558, Testing Accuracy: 0.9647\n",
      "\n"
     ]
    },
    {
     "name": "stdout",
     "output_type": "stream",
     "text": [
      "Epoch 130, Loss 0.0428\n",
      "Training Accuracy: 0.9560, Testing Accuracy: 0.9652\n",
      "\n"
     ]
    },
    {
     "name": "stdout",
     "output_type": "stream",
     "text": [
      "Epoch 140, Loss 0.0419\n",
      "Training Accuracy: 0.9568, Testing Accuracy: 0.9652\n",
      "\n"
     ]
    },
    {
     "name": "stdout",
     "output_type": "stream",
     "text": [
      "Epoch 150, Loss 0.0412\n",
      "Training Accuracy: 0.9571, Testing Accuracy: 0.9652\n",
      "\n"
     ]
    },
    {
     "name": "stdout",
     "output_type": "stream",
     "text": [
      "Epoch 160, Loss 0.0405\n",
      "Training Accuracy: 0.9580, Testing Accuracy: 0.9652\n",
      "\n"
     ]
    },
    {
     "name": "stdout",
     "output_type": "stream",
     "text": [
      "Epoch 170, Loss 0.0399\n",
      "Training Accuracy: 0.9588, Testing Accuracy: 0.9652\n",
      "\n"
     ]
    },
    {
     "name": "stdout",
     "output_type": "stream",
     "text": [
      "Epoch 180, Loss 0.0394\n",
      "Training Accuracy: 0.9590, Testing Accuracy: 0.9662\n",
      "\n"
     ]
    },
    {
     "name": "stdout",
     "output_type": "stream",
     "text": [
      "Epoch 190, Loss 0.0389\n",
      "Training Accuracy: 0.9596, Testing Accuracy: 0.9662\n",
      "\n"
     ]
    },
    {
     "name": "stdout",
     "output_type": "stream",
     "text": [
      "Epoch 200, Loss 0.0384\n",
      "Training Accuracy: 0.9598, Testing Accuracy: 0.9662\n",
      "\n"
     ]
    },
    {
     "name": "stdout",
     "output_type": "stream",
     "text": [
      "Epoch 210, Loss 0.038\n",
      "Training Accuracy: 0.9604, Testing Accuracy: 0.9667\n",
      "\n"
     ]
    },
    {
     "name": "stdout",
     "output_type": "stream",
     "text": [
      "Epoch 220, Loss 0.0376\n",
      "Training Accuracy: 0.9604, Testing Accuracy: 0.9672\n",
      "\n"
     ]
    },
    {
     "name": "stdout",
     "output_type": "stream",
     "text": [
      "Epoch 230, Loss 0.0372\n",
      "Training Accuracy: 0.9606, Testing Accuracy: 0.9667\n",
      "\n"
     ]
    },
    {
     "name": "stdout",
     "output_type": "stream",
     "text": [
      "Epoch 240, Loss 0.0368\n",
      "Training Accuracy: 0.9611, Testing Accuracy: 0.9667\n",
      "\n"
     ]
    },
    {
     "data": {
      "text/plain": [
       "0.02390012351574977"
      ]
     },
     "execution_count": 23,
     "metadata": {},
     "output_type": "execute_result"
    }
   ],
   "source": [
    "lr_learner.train_loop(dl)"
   ]
  },
  {
   "cell_type": "code",
   "execution_count": 24,
   "id": "ca410940",
   "metadata": {
    "execution": {
     "iopub.execute_input": "2022-10-17T20:13:10.671856Z",
     "iopub.status.busy": "2022-10-17T20:13:10.671241Z",
     "iopub.status.idle": "2022-10-17T20:13:10.904480Z",
     "shell.execute_reply": "2022-10-17T20:13:10.903921Z"
    },
    "papermill": {
     "duration": 0.280789,
     "end_time": "2022-10-17T20:13:10.904615",
     "exception": false,
     "start_time": "2022-10-17T20:13:10.623826",
     "status": "completed"
    },
    "tags": []
   },
   "outputs": [
    {
     "data": {
      "text/plain": [
       "<matplotlib.legend.Legend at 0x7f35f68fc358>"
      ]
     },
     "execution_count": 24,
     "metadata": {},
     "output_type": "execute_result"
    },
    {
     "data": {
      "image/png": "[encoded data removed]",
      "text/plain": [
       "<Figure size 1080x720 with 1 Axes>"
      ]
     },
     "metadata": {
      "needs_background": "light"
     },
     "output_type": "display_data"
    }
   ],
   "source": [
    "#comparing the results of NN and LR\n",
    "plt.figure(figsize=(15,10))\n",
    "\n",
    "# Neural Network plots\n",
    "plt.plot(acc_nn.accuracies, 'r-', label = \"Training Accuracies - NN\")\n",
    "plt.plot(acc_nn.test_accuracies, 'g-', label = \"Testing Accuracies - NN\")\n",
    "\n",
    "# Logistic Regression plots\n",
    "plt.plot(acc_lr.accuracies, 'k-', label = \"Training Accuracies - LR\")\n",
    "plt.plot(acc_lr.test_accuracies, 'b-', label = \"Testing Accuracies - LR\")\n",
    "plt.legend()"
   ]
  },
  {
   "cell_type": "markdown",
   "id": "80dfb35c",
   "metadata": {
    "papermill": {
     "duration": 0.041806,
     "end_time": "2022-10-17T20:13:10.989197",
     "exception": false,
     "start_time": "2022-10-17T20:13:10.947391",
     "status": "completed"
    },
    "tags": []
   },
   "source": [
    "#### Plotting the outputs of this layer of the NN.\n"
   ]
  },
  {
   "cell_type": "code",
   "execution_count": 25,
   "id": "45eb2ff5",
   "metadata": {
    "execution": {
     "iopub.execute_input": "2022-10-17T20:13:11.076695Z",
     "iopub.status.busy": "2022-10-17T20:13:11.076074Z",
     "iopub.status.idle": "2022-10-17T20:13:11.096121Z",
     "shell.execute_reply": "2022-10-17T20:13:11.095641Z"
    },
    "papermill": {
     "duration": 0.065595,
     "end_time": "2022-10-17T20:13:11.096246",
     "exception": false,
     "start_time": "2022-10-17T20:13:11.030651",
     "status": "completed"
    },
    "tags": []
   },
   "outputs": [],
   "source": [
    "new_model = Model(layers[:-2])\n",
    "testing_plot = new_model(testing_data_x)"
   ]
  },
  {
   "cell_type": "code",
   "execution_count": 26,
   "id": "4c0a5485",
   "metadata": {
    "execution": {
     "iopub.execute_input": "2022-10-17T20:13:11.186324Z",
     "iopub.status.busy": "2022-10-17T20:13:11.185676Z",
     "iopub.status.idle": "2022-10-17T20:13:11.388302Z",
     "shell.execute_reply": "2022-10-17T20:13:11.387831Z"
    },
    "papermill": {
     "duration": 0.248871,
     "end_time": "2022-10-17T20:13:11.388426",
     "exception": false,
     "start_time": "2022-10-17T20:13:11.139555",
     "status": "completed"
    },
    "tags": []
   },
   "outputs": [
    {
     "data": {
      "text/plain": [
       "Text(0.5, 1.0, 'Outputs')"
      ]
     },
     "execution_count": 26,
     "metadata": {},
     "output_type": "execute_result"
    },
    {
     "data": {
      "image/png": "[encoded data removed]",
      "text/plain": [
       "<Figure size 576x504 with 1 Axes>"
      ]
     },
     "metadata": {
      "needs_background": "light"
     },
     "output_type": "display_data"
    }
   ],
   "source": [
    "# Plotting the scatter plot of points and color coding by class\n",
    "plt.figure(figsize=(8,7))\n",
    "plt.scatter(testing_plot[:,0], testing_plot[:,1], alpha = 0.1, c = y_test.ravel());\n",
    "plt.title('Outputs')"
   ]
  },
  {
   "cell_type": "markdown",
   "id": "a74fcf8f",
   "metadata": {
    "papermill": {
     "duration": 0.043777,
     "end_time": "2022-10-17T20:13:11.476500",
     "exception": false,
     "start_time": "2022-10-17T20:13:11.432723",
     "status": "completed"
    },
    "tags": []
   },
   "source": [
    "Probability contours"
   ]
  },
  {
   "cell_type": "code",
   "execution_count": 27,
   "id": "d0afc8e3",
   "metadata": {
    "execution": {
     "iopub.execute_input": "2022-10-17T20:13:11.573613Z",
     "iopub.status.busy": "2022-10-17T20:13:11.570814Z",
     "iopub.status.idle": "2022-10-17T20:13:11.581971Z",
     "shell.execute_reply": "2022-10-17T20:13:11.582404Z"
    },
    "papermill": {
     "duration": 0.062244,
     "end_time": "2022-10-17T20:13:11.582544",
     "exception": false,
     "start_time": "2022-10-17T20:13:11.520300",
     "status": "completed"
    },
    "tags": []
   },
   "outputs": [],
   "source": [
    "model_prob = Model(layers[-2:]) "
   ]
  },
  {
   "cell_type": "code",
   "execution_count": 28,
   "id": "9b96e238",
   "metadata": {
    "execution": {
     "iopub.execute_input": "2022-10-17T20:13:11.678982Z",
     "iopub.status.busy": "2022-10-17T20:13:11.675186Z",
     "iopub.status.idle": "2022-10-17T20:13:11.693163Z",
     "shell.execute_reply": "2022-10-17T20:13:11.692630Z"
    },
    "papermill": {
     "duration": 0.066775,
     "end_time": "2022-10-17T20:13:11.693283",
     "exception": false,
     "start_time": "2022-10-17T20:13:11.626508",
     "status": "completed"
    },
    "tags": []
   },
   "outputs": [],
   "source": [
    "#creating the x and y ranges according to the above generated plot.\n",
    "x_range = np.linspace(-4, 1, 100) \n",
    "y_range = np.linspace(-6, 6, 100) \n",
    "x_grid, y_grid = np.meshgrid(x_range, y_range) # x_grid and y_grig are of size 100 X 100\n",
    "\n",
    "# converting x_grid and y_grid to continuous arrays\n",
    "x_gridflat = np.ravel(x_grid)\n",
    "y_gridflat = np.ravel(y_grid)\n",
    "\n",
    "# The last layer of the current model takes two columns as input. Hence transpose of np.vstack() is required.\n",
    "X = np.vstack((x_gridflat, y_gridflat)).T\n",
    "\n",
    "prob_contour = model_prob(X).reshape(100,100) "
   ]
  },
  {
   "cell_type": "code",
   "execution_count": 29,
   "id": "da72499a",
   "metadata": {
    "execution": {
     "iopub.execute_input": "2022-10-17T20:13:11.821954Z",
     "iopub.status.busy": "2022-10-17T20:13:11.821220Z",
     "iopub.status.idle": "2022-10-17T20:13:12.075451Z",
     "shell.execute_reply": "2022-10-17T20:13:12.075915Z"
    },
    "papermill": {
     "duration": 0.303531,
     "end_time": "2022-10-17T20:13:12.076054",
     "exception": false,
     "start_time": "2022-10-17T20:13:11.772523",
     "status": "completed"
    },
    "tags": []
   },
   "outputs": [
    {
     "data": {
      "image/png": "[encoded data removed]",
      "text/plain": [
       "<Figure size 720x648 with 1 Axes>"
      ]
     },
     "metadata": {
      "needs_background": "light"
     },
     "output_type": "display_data"
    }
   ],
   "source": [
    "plt.figure(figsize=(10,9))\n",
    "plt.scatter(testing_plot[:,0], testing_plot[:,1], alpha = 0.1, c = y_test.ravel())\n",
    "contours = plt.contour(x_grid,y_grid,prob_contour)\n",
    "plt.title('Probability Contours')\n",
    "plt.clabel(contours, inline = True );"
   ]
  },
  {
   "cell_type": "code",
   "execution_count": null,
   "id": "e81b4ac7",
   "metadata": {
    "papermill": {
     "duration": 0.047131,
     "end_time": "2022-10-17T20:13:12.170818",
     "exception": false,
     "start_time": "2022-10-17T20:13:12.123687",
     "status": "completed"
    },
    "tags": []
   },
   "outputs": [],
   "source": []
  }
 ],
 "metadata": {
  "kernelspec": {
   "display_name": "Python 3",
   "language": "python",
   "name": "python3"
  },
  "language_info": {
   "codemirror_mode": {
    "name": "ipython",
    "version": 3
   },
   "file_extension": ".py",
   "mimetype": "text/x-python",
   "name": "python",
   "nbconvert_exporter": "python",
   "pygments_lexer": "ipython3",
   "version": "3.6.15"
  },
  "papermill": {
   "default_parameters": {},
   "duration": 97.059413,
   "end_time": "2022-10-17T20:13:12.637566",
   "environment_variables": {},
   "exception": null,
   "input_path": "2020-08-11-part2.ipynb",
   "output_path": "2020-08-11-part2.ipynb",
   "parameters": {},
   "start_time": "2022-10-17T20:11:35.578153",
   "version": "2.3.3"
  }
 },
 "nbformat": 4,
 "nbformat_minor": 5
}