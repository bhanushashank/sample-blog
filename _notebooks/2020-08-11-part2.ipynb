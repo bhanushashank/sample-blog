{
 "cells": [
  {
   "cell_type": "markdown",
   "id": "98380cd3",
   "metadata": {
    "papermill": {
     "duration": 0.034401,
     "end_time": "2021-08-31T10:07:12.930671",
     "exception": false,
     "start_time": "2021-08-31T10:07:12.896270",
     "status": "completed"
    },
    "tags": []
   },
   "source": [
    "# Distinguish Your Own Digits (DYOD)"
   ]
  },
  {
   "cell_type": "markdown",
   "id": "ef31240d",
   "metadata": {
    "papermill": {
     "duration": 0.029439,
     "end_time": "2021-08-31T10:07:12.989362",
     "exception": false,
     "start_time": "2021-08-31T10:07:12.959923",
     "status": "completed"
    },
    "tags": []
   },
   "source": [
    "You are going to write a classifier that distinguishes between the number 3 and number 8."
   ]
  },
  {
   "cell_type": "code",
   "execution_count": 1,
   "id": "b15c8646",
   "metadata": {
    "execution": {
     "iopub.execute_input": "2021-08-31T10:07:13.059998Z",
     "iopub.status.busy": "2021-08-31T10:07:13.059234Z",
     "iopub.status.idle": "2021-08-31T10:07:13.071658Z",
     "shell.execute_reply": "2021-08-31T10:07:13.071004Z"
    },
    "papermill": {
     "duration": 0.054386,
     "end_time": "2021-08-31T10:07:13.071843",
     "exception": false,
     "start_time": "2021-08-31T10:07:13.017457",
     "status": "completed"
    },
    "tags": []
   },
   "outputs": [],
   "source": [
    "%load_ext autoreload\n",
    "%autoreload 2"
   ]
  },
  {
   "cell_type": "code",
   "execution_count": 2,
   "id": "22ef38dc",
   "metadata": {
    "execution": {
     "iopub.execute_input": "2021-08-31T10:07:13.137475Z",
     "iopub.status.busy": "2021-08-31T10:07:13.136760Z",
     "iopub.status.idle": "2021-08-31T10:07:13.760435Z",
     "shell.execute_reply": "2021-08-31T10:07:13.759852Z"
    },
    "papermill": {
     "duration": 0.657692,
     "end_time": "2021-08-31T10:07:13.760586",
     "exception": false,
     "start_time": "2021-08-31T10:07:13.102894",
     "status": "completed"
    },
    "tags": []
   },
   "outputs": [],
   "source": [
    "%matplotlib inline\n",
    "import numpy as np\n",
    "import matplotlib.pyplot as plt\n",
    "import pandas as pd"
   ]
  },
  {
   "cell_type": "markdown",
   "id": "ba036198",
   "metadata": {
    "papermill": {
     "duration": 0.031416,
     "end_time": "2021-08-31T10:07:13.821349",
     "exception": false,
     "start_time": "2021-08-31T10:07:13.789933",
     "status": "completed"
    },
    "tags": []
   },
   "source": [
    "From the command line run `pip install mnist`. This is a library that will help you bring down the mnist dataset. If you run this from a notebook, you need to put  `!pip install mnist` in a cell by itself."
   ]
  },
  {
   "cell_type": "code",
   "execution_count": 3,
   "id": "bb6ad8a1",
   "metadata": {
    "execution": {
     "iopub.execute_input": "2021-08-31T10:07:13.884179Z",
     "iopub.status.busy": "2021-08-31T10:07:13.883428Z",
     "iopub.status.idle": "2021-08-31T10:07:16.014812Z",
     "shell.execute_reply": "2021-08-31T10:07:16.014231Z"
    },
    "papermill": {
     "duration": 2.165347,
     "end_time": "2021-08-31T10:07:16.014977",
     "exception": false,
     "start_time": "2021-08-31T10:07:13.849630",
     "status": "completed"
    },
    "tags": []
   },
   "outputs": [
    {
     "name": "stdout",
     "output_type": "stream",
     "text": [
      "Collecting mnist\r\n"
     ]
    },
    {
     "name": "stdout",
     "output_type": "stream",
     "text": [
      "  Downloading mnist-0.2.2-py2.py3-none-any.whl (3.5 kB)\r\n",
      "Requirement already satisfied: numpy in /opt/hostedtoolcache/Python/3.6.14/x64/lib/python3.6/site-packages (from mnist) (1.19.5)\r\n"
     ]
    },
    {
     "name": "stdout",
     "output_type": "stream",
     "text": [
      "Installing collected packages: mnist\r\n"
     ]
    },
    {
     "name": "stdout",
     "output_type": "stream",
     "text": [
      "Successfully installed mnist-0.2.2\r\n"
     ]
    }
   ],
   "source": [
    "!pip install mnist"
   ]
  },
  {
   "cell_type": "markdown",
   "id": "69df9c9a",
   "metadata": {
    "papermill": {
     "duration": 0.033619,
     "end_time": "2021-08-31T10:07:16.079927",
     "exception": false,
     "start_time": "2021-08-31T10:07:16.046308",
     "status": "completed"
    },
    "tags": []
   },
   "source": [
    "## Preparing the Data"
   ]
  },
  {
   "cell_type": "code",
   "execution_count": 4,
   "id": "7f69d806",
   "metadata": {
    "execution": {
     "iopub.execute_input": "2021-08-31T10:07:16.165179Z",
     "iopub.status.busy": "2021-08-31T10:07:16.153654Z",
     "iopub.status.idle": "2021-08-31T10:07:16.170662Z",
     "shell.execute_reply": "2021-08-31T10:07:16.170138Z"
    },
    "papermill": {
     "duration": 0.058994,
     "end_time": "2021-08-31T10:07:16.170801",
     "exception": false,
     "start_time": "2021-08-31T10:07:16.111807",
     "status": "completed"
    },
    "tags": []
   },
   "outputs": [],
   "source": [
    "import mnist"
   ]
  },
  {
   "cell_type": "code",
   "execution_count": 5,
   "id": "a411e44f",
   "metadata": {
    "execution": {
     "iopub.execute_input": "2021-08-31T10:07:16.252564Z",
     "iopub.status.busy": "2021-08-31T10:07:16.242157Z",
     "iopub.status.idle": "2021-08-31T10:07:17.008657Z",
     "shell.execute_reply": "2021-08-31T10:07:17.008114Z"
    },
    "papermill": {
     "duration": 0.806449,
     "end_time": "2021-08-31T10:07:17.008828",
     "exception": false,
     "start_time": "2021-08-31T10:07:16.202379",
     "status": "completed"
    },
    "tags": []
   },
   "outputs": [],
   "source": [
    "train_images = mnist.train_images()\n",
    "train_labels = mnist.train_labels()"
   ]
  },
  {
   "cell_type": "code",
   "execution_count": 6,
   "id": "dceab3a5",
   "metadata": {
    "execution": {
     "iopub.execute_input": "2021-08-31T10:07:17.073811Z",
     "iopub.status.busy": "2021-08-31T10:07:17.073115Z",
     "iopub.status.idle": "2021-08-31T10:07:17.089454Z",
     "shell.execute_reply": "2021-08-31T10:07:17.090129Z"
    },
    "papermill": {
     "duration": 0.051253,
     "end_time": "2021-08-31T10:07:17.090277",
     "exception": false,
     "start_time": "2021-08-31T10:07:17.039024",
     "status": "completed"
    },
    "tags": []
   },
   "outputs": [
    {
     "data": {
      "text/plain": [
       "((60000, 28, 28), (60000,))"
      ]
     },
     "execution_count": 6,
     "metadata": {},
     "output_type": "execute_result"
    }
   ],
   "source": [
    "train_images.shape, train_labels.shape"
   ]
  },
  {
   "cell_type": "code",
   "execution_count": 7,
   "id": "f50dc2bb",
   "metadata": {
    "execution": {
     "iopub.execute_input": "2021-08-31T10:07:17.158296Z",
     "iopub.status.busy": "2021-08-31T10:07:17.157629Z",
     "iopub.status.idle": "2021-08-31T10:07:17.502439Z",
     "shell.execute_reply": "2021-08-31T10:07:17.501808Z"
    },
    "papermill": {
     "duration": 0.379924,
     "end_time": "2021-08-31T10:07:17.502593",
     "exception": false,
     "start_time": "2021-08-31T10:07:17.122669",
     "status": "completed"
    },
    "tags": []
   },
   "outputs": [],
   "source": [
    "test_images = mnist.test_images()\n",
    "test_labels = mnist.test_labels()"
   ]
  },
  {
   "cell_type": "code",
   "execution_count": 8,
   "id": "fc38cf1b",
   "metadata": {
    "execution": {
     "iopub.execute_input": "2021-08-31T10:07:17.570850Z",
     "iopub.status.busy": "2021-08-31T10:07:17.570175Z",
     "iopub.status.idle": "2021-08-31T10:07:17.584826Z",
     "shell.execute_reply": "2021-08-31T10:07:17.584335Z"
    },
    "papermill": {
     "duration": 0.049651,
     "end_time": "2021-08-31T10:07:17.584952",
     "exception": false,
     "start_time": "2021-08-31T10:07:17.535301",
     "status": "completed"
    },
    "tags": []
   },
   "outputs": [
    {
     "data": {
      "text/plain": [
       "((10000, 28, 28), (10000,))"
      ]
     },
     "execution_count": 8,
     "metadata": {},
     "output_type": "execute_result"
    }
   ],
   "source": [
    "test_images.shape, test_labels.shape"
   ]
  },
  {
   "cell_type": "code",
   "execution_count": 9,
   "id": "f9ed8fe0",
   "metadata": {
    "execution": {
     "iopub.execute_input": "2021-08-31T10:07:17.651729Z",
     "iopub.status.busy": "2021-08-31T10:07:17.651067Z",
     "iopub.status.idle": "2021-08-31T10:07:17.832988Z",
     "shell.execute_reply": "2021-08-31T10:07:17.833572Z"
    },
    "papermill": {
     "duration": 0.217388,
     "end_time": "2021-08-31T10:07:17.833750",
     "exception": false,
     "start_time": "2021-08-31T10:07:17.616362",
     "status": "completed"
    },
    "tags": []
   },
   "outputs": [
    {
     "name": "stdout",
     "output_type": "stream",
     "text": [
      "2\n"
     ]
    },
    {
     "data": {
      "text/plain": [
       "<matplotlib.image.AxesImage at 0x7fedd5b32b00>"
      ]
     },
     "execution_count": 9,
     "metadata": {},
     "output_type": "execute_result"
    },
    {
     "data": {
      "image/png": "[encoded data removed]",
      "text/plain": [
       "<Figure size 432x288 with 1 Axes>"
      ]
     },
     "metadata": {
      "needs_background": "light"
     },
     "output_type": "display_data"
    }
   ],
   "source": [
    "image_index = 7776 # You may select anything up to 60,000\n",
    "print(train_labels[image_index]) \n",
    "plt.imshow(train_images[image_index], cmap='Greys')"
   ]
  },
  {
   "cell_type": "markdown",
   "id": "a8d2388d",
   "metadata": {
    "papermill": {
     "duration": 0.033345,
     "end_time": "2021-08-31T10:07:17.900980",
     "exception": false,
     "start_time": "2021-08-31T10:07:17.867635",
     "status": "completed"
    },
    "tags": []
   },
   "source": [
    "## Filter data to get 3 and 8 out"
   ]
  },
  {
   "cell_type": "code",
   "execution_count": 10,
   "id": "776f7fc7",
   "metadata": {
    "execution": {
     "iopub.execute_input": "2021-08-31T10:07:17.974625Z",
     "iopub.status.busy": "2021-08-31T10:07:17.973896Z",
     "iopub.status.idle": "2021-08-31T10:07:17.998289Z",
     "shell.execute_reply": "2021-08-31T10:07:17.997696Z"
    },
    "papermill": {
     "duration": 0.063202,
     "end_time": "2021-08-31T10:07:17.998443",
     "exception": false,
     "start_time": "2021-08-31T10:07:17.935241",
     "status": "completed"
    },
    "tags": []
   },
   "outputs": [],
   "source": [
    "train_filter = np.where((train_labels == 3 ) | (train_labels == 8))\n",
    "test_filter = np.where((test_labels == 3) | (test_labels == 8))\n",
    "X_train, y_train = train_images[train_filter], train_labels[train_filter]\n",
    "X_test, y_test = test_images[test_filter], test_labels[test_filter]"
   ]
  },
  {
   "cell_type": "markdown",
   "id": "948f0b7e",
   "metadata": {
    "papermill": {
     "duration": 0.03517,
     "end_time": "2021-08-31T10:07:18.068405",
     "exception": false,
     "start_time": "2021-08-31T10:07:18.033235",
     "status": "completed"
    },
    "tags": []
   },
   "source": [
    "We normalize the pizel values in the 0 to 1 range"
   ]
  },
  {
   "cell_type": "code",
   "execution_count": 11,
   "id": "ee4c2166",
   "metadata": {
    "execution": {
     "iopub.execute_input": "2021-08-31T10:07:18.145516Z",
     "iopub.status.busy": "2021-08-31T10:07:18.144604Z",
     "iopub.status.idle": "2021-08-31T10:07:18.207002Z",
     "shell.execute_reply": "2021-08-31T10:07:18.205745Z"
    },
    "papermill": {
     "duration": 0.104263,
     "end_time": "2021-08-31T10:07:18.207249",
     "exception": false,
     "start_time": "2021-08-31T10:07:18.102986",
     "status": "completed"
    },
    "tags": []
   },
   "outputs": [],
   "source": [
    "X_train = X_train/255.\n",
    "X_test = X_test/255."
   ]
  },
  {
   "cell_type": "markdown",
   "id": "ddcf4fab",
   "metadata": {
    "papermill": {
     "duration": 0.034263,
     "end_time": "2021-08-31T10:07:18.274350",
     "exception": false,
     "start_time": "2021-08-31T10:07:18.240087",
     "status": "completed"
    },
    "tags": []
   },
   "source": [
    "And setup the labels as 1 (when the digit is 3) and 0 (when the digit is 8)"
   ]
  },
  {
   "cell_type": "code",
   "execution_count": 12,
   "id": "7dc908f2",
   "metadata": {
    "execution": {
     "iopub.execute_input": "2021-08-31T10:07:18.350911Z",
     "iopub.status.busy": "2021-08-31T10:07:18.349990Z",
     "iopub.status.idle": "2021-08-31T10:07:18.360947Z",
     "shell.execute_reply": "2021-08-31T10:07:18.361621Z"
    },
    "papermill": {
     "duration": 0.054043,
     "end_time": "2021-08-31T10:07:18.361794",
     "exception": false,
     "start_time": "2021-08-31T10:07:18.307751",
     "status": "completed"
    },
    "tags": []
   },
   "outputs": [],
   "source": [
    "y_train = 1*(y_train==3)\n",
    "y_test = 1*(y_test==3)"
   ]
  },
  {
   "cell_type": "code",
   "execution_count": 13,
   "id": "01e4e969",
   "metadata": {
    "execution": {
     "iopub.execute_input": "2021-08-31T10:07:18.431418Z",
     "iopub.status.busy": "2021-08-31T10:07:18.430707Z",
     "iopub.status.idle": "2021-08-31T10:07:18.445626Z",
     "shell.execute_reply": "2021-08-31T10:07:18.446223Z"
    },
    "papermill": {
     "duration": 0.052409,
     "end_time": "2021-08-31T10:07:18.446394",
     "exception": false,
     "start_time": "2021-08-31T10:07:18.393985",
     "status": "completed"
    },
    "tags": []
   },
   "outputs": [
    {
     "data": {
      "text/plain": [
       "((11982, 28, 28), (1984, 28, 28))"
      ]
     },
     "execution_count": 13,
     "metadata": {},
     "output_type": "execute_result"
    }
   ],
   "source": [
    "X_train.shape, X_test.shape"
   ]
  },
  {
   "cell_type": "markdown",
   "id": "5ccf3f85",
   "metadata": {
    "papermill": {
     "duration": 0.033769,
     "end_time": "2021-08-31T10:07:18.513486",
     "exception": false,
     "start_time": "2021-08-31T10:07:18.479717",
     "status": "completed"
    },
    "tags": []
   },
   "source": [
    "We reshape the data to flatten the image pixels into a set of features or co-variates:"
   ]
  },
  {
   "cell_type": "code",
   "execution_count": 14,
   "id": "5286a4a3",
   "metadata": {
    "execution": {
     "iopub.execute_input": "2021-08-31T10:07:18.582277Z",
     "iopub.status.busy": "2021-08-31T10:07:18.581578Z",
     "iopub.status.idle": "2021-08-31T10:07:18.597414Z",
     "shell.execute_reply": "2021-08-31T10:07:18.598058Z"
    },
    "papermill": {
     "duration": 0.052494,
     "end_time": "2021-08-31T10:07:18.598239",
     "exception": false,
     "start_time": "2021-08-31T10:07:18.545745",
     "status": "completed"
    },
    "tags": []
   },
   "outputs": [
    {
     "data": {
      "text/plain": [
       "((11982, 784), (1984, 784))"
      ]
     },
     "execution_count": 14,
     "metadata": {},
     "output_type": "execute_result"
    }
   ],
   "source": [
    "X_train = X_train.reshape(X_train.shape[0], -1)\n",
    "X_test = X_test.reshape(X_test.shape[0], -1)\n",
    "X_train.shape, X_test.shape"
   ]
  },
  {
   "cell_type": "code",
   "execution_count": 15,
   "id": "73c5f88a",
   "metadata": {
    "execution": {
     "iopub.execute_input": "2021-08-31T10:07:18.670439Z",
     "iopub.status.busy": "2021-08-31T10:07:18.669589Z",
     "iopub.status.idle": "2021-08-31T10:07:18.689877Z",
     "shell.execute_reply": "2021-08-31T10:07:18.689356Z"
    },
    "papermill": {
     "duration": 0.057538,
     "end_time": "2021-08-31T10:07:18.690001",
     "exception": false,
     "start_time": "2021-08-31T10:07:18.632463",
     "status": "completed"
    },
    "tags": []
   },
   "outputs": [],
   "source": [
    "#Impoting functions from 'Kudzu'\n",
    "from kudzu.model import Model\n",
    "from kudzu.train import Learner\n",
    "from kudzu.optim import GD\n",
    "from kudzu.data import Data, Sampler,Dataloader\n",
    "\n",
    "from kudzu.callbacks import AccCallback\n",
    "from kudzu.callbacks import ClfCallback\n",
    "\n",
    "from kudzu.loss import MSE\n",
    "\n",
    "from kudzu.layer import Sigmoid,Relu\n",
    "from kudzu.layer import Affine"
   ]
  },
  {
   "cell_type": "markdown",
   "id": "bc01172a",
   "metadata": {
    "papermill": {
     "duration": 0.033197,
     "end_time": "2021-08-31T10:07:18.758131",
     "exception": false,
     "start_time": "2021-08-31T10:07:18.724934",
     "status": "completed"
    },
    "tags": []
   },
   "source": [
    "### Let us create a `Config` class, to store important parameters. \n",
    "This class essentially plays the role of a dictionary."
   ]
  },
  {
   "cell_type": "code",
   "execution_count": 16,
   "id": "978281aa",
   "metadata": {
    "execution": {
     "iopub.execute_input": "2021-08-31T10:07:18.829248Z",
     "iopub.status.busy": "2021-08-31T10:07:18.828626Z",
     "iopub.status.idle": "2021-08-31T10:07:18.842114Z",
     "shell.execute_reply": "2021-08-31T10:07:18.841523Z"
    },
    "papermill": {
     "duration": 0.050497,
     "end_time": "2021-08-31T10:07:18.842282",
     "exception": false,
     "start_time": "2021-08-31T10:07:18.791785",
     "status": "completed"
    },
    "tags": []
   },
   "outputs": [],
   "source": [
    "class Config:\n",
    "    pass\n",
    "config = Config()\n",
    "config.lr = 0.001\n",
    "config.num_epochs = 250\n",
    "config.bs = 50"
   ]
  },
  {
   "cell_type": "markdown",
   "id": "1385fa59",
   "metadata": {
    "papermill": {
     "duration": 0.032807,
     "end_time": "2021-08-31T10:07:18.907921",
     "exception": false,
     "start_time": "2021-08-31T10:07:18.875114",
     "status": "completed"
    },
    "tags": []
   },
   "source": [
    "### Running Models with the Training data\n",
    "Details about the network layers:\n",
    "- A first affine layer has 784 inputs and does 100 affine transforms. These are followed by a Relu\n",
    "- A second affine layer has 100 inputs from the 100 activations of the past layer, and does 100 affine transforms. These are followed by a Relu\n",
    "- A third affine layer has 100 activations and does 2 affine transformations to create an embedding for visualization. There is no non-linearity here.\n",
    "- A final \"logistic regression\" which has an affine transform from 2 inputs to 1 output, which is squeezed through a sigmoid.\n"
   ]
  },
  {
   "cell_type": "code",
   "execution_count": 17,
   "id": "2b9c66db",
   "metadata": {
    "execution": {
     "iopub.execute_input": "2021-08-31T10:07:18.995179Z",
     "iopub.status.busy": "2021-08-31T10:07:18.990494Z",
     "iopub.status.idle": "2021-08-31T10:07:18.997981Z",
     "shell.execute_reply": "2021-08-31T10:07:18.997390Z"
    },
    "papermill": {
     "duration": 0.058332,
     "end_time": "2021-08-31T10:07:18.998103",
     "exception": false,
     "start_time": "2021-08-31T10:07:18.939771",
     "status": "completed"
    },
    "tags": []
   },
   "outputs": [],
   "source": [
    "data = Data(X_train, y_train.reshape(-1,1))\n",
    "sampler = Sampler(data, config.bs, shuffle=True)\n",
    "\n",
    "dl = Dataloader(data, sampler)\n",
    "\n",
    "opt = GD(config.lr)\n",
    "loss = MSE()"
   ]
  },
  {
   "cell_type": "code",
   "execution_count": 18,
   "id": "b275e4c2",
   "metadata": {
    "execution": {
     "iopub.execute_input": "2021-08-31T10:07:19.081906Z",
     "iopub.status.busy": "2021-08-31T10:07:19.074598Z",
     "iopub.status.idle": "2021-08-31T10:07:19.087762Z",
     "shell.execute_reply": "2021-08-31T10:07:19.087136Z"
    },
    "papermill": {
     "duration": 0.057018,
     "end_time": "2021-08-31T10:07:19.087910",
     "exception": false,
     "start_time": "2021-08-31T10:07:19.030892",
     "status": "completed"
    },
    "tags": []
   },
   "outputs": [],
   "source": [
    "training_data_x = X_train\n",
    "testing_data_x = X_test\n",
    "training_data_y = y_train.reshape(-1,1)\n",
    "testing_data_y = y_test.reshape(-1,1)"
   ]
  },
  {
   "cell_type": "code",
   "execution_count": 19,
   "id": "76951160",
   "metadata": {
    "execution": {
     "iopub.execute_input": "2021-08-31T10:07:19.161619Z",
     "iopub.status.busy": "2021-08-31T10:07:19.160923Z",
     "iopub.status.idle": "2021-08-31T10:07:19.178960Z",
     "shell.execute_reply": "2021-08-31T10:07:19.179522Z"
    },
    "papermill": {
     "duration": 0.05895,
     "end_time": "2021-08-31T10:07:19.179739",
     "exception": false,
     "start_time": "2021-08-31T10:07:19.120789",
     "status": "completed"
    },
    "tags": []
   },
   "outputs": [
    {
     "name": "stdout",
     "output_type": "stream",
     "text": [
      "xavier\n",
      "xavier\n",
      "xavier\n",
      "xavier\n",
      "xavier\n"
     ]
    }
   ],
   "source": [
    "layers = [Affine(\"first\", 784, 100), Relu(\"first\"), Affine(\"second\", 100, 100), Relu(\"second\"), Affine(\"third\", 100, 2), Affine(\"last\", 2, 1), Sigmoid(\"last\")]\n",
    "model_nn = Model(layers)\n",
    "model_lr = Model([Affine(\"logits\", 784, 1), Sigmoid(\"sigmoid\")])"
   ]
  },
  {
   "cell_type": "code",
   "execution_count": 20,
   "id": "6eede77a",
   "metadata": {
    "execution": {
     "iopub.execute_input": "2021-08-31T10:07:19.261193Z",
     "iopub.status.busy": "2021-08-31T10:07:19.260513Z",
     "iopub.status.idle": "2021-08-31T10:07:19.273671Z",
     "shell.execute_reply": "2021-08-31T10:07:19.274317Z"
    },
    "papermill": {
     "duration": 0.058073,
     "end_time": "2021-08-31T10:07:19.274488",
     "exception": false,
     "start_time": "2021-08-31T10:07:19.216415",
     "status": "completed"
    },
    "tags": []
   },
   "outputs": [],
   "source": [
    "nn_learner = Learner(loss, model_nn, opt, config.num_epochs)\n",
    "acc_nn = ClfCallback(nn_learner, config.bs, training_data_x , testing_data_x, training_data_y, testing_data_y)\n",
    "nn_learner.set_callbacks([acc_nn])"
   ]
  },
  {
   "cell_type": "code",
   "execution_count": 21,
   "id": "877b6cc7",
   "metadata": {
    "execution": {
     "iopub.execute_input": "2021-08-31T10:07:19.368778Z",
     "iopub.status.busy": "2021-08-31T10:07:19.363501Z",
     "iopub.status.idle": "2021-08-31T10:07:19.372006Z",
     "shell.execute_reply": "2021-08-31T10:07:19.371344Z"
    },
    "papermill": {
     "duration": 0.060875,
     "end_time": "2021-08-31T10:07:19.372157",
     "exception": false,
     "start_time": "2021-08-31T10:07:19.311282",
     "status": "completed"
    },
    "tags": []
   },
   "outputs": [],
   "source": [
    "lr_learner = Learner(loss, model_lr, opt, config.num_epochs)\n",
    "acc_lr = ClfCallback(lr_learner, config.bs, training_data_x , testing_data_x, training_data_y, testing_data_y)\n",
    "lr_learner.set_callbacks([acc_lr])"
   ]
  },
  {
   "cell_type": "code",
   "execution_count": 22,
   "id": "d9b133c3",
   "metadata": {
    "execution": {
     "iopub.execute_input": "2021-08-31T10:07:19.444416Z",
     "iopub.status.busy": "2021-08-31T10:07:19.443734Z",
     "iopub.status.idle": "2021-08-31T10:09:26.929094Z",
     "shell.execute_reply": "2021-08-31T10:09:26.929999Z"
    },
    "papermill": {
     "duration": 127.523694,
     "end_time": "2021-08-31T10:09:26.930177",
     "exception": false,
     "start_time": "2021-08-31T10:07:19.406483",
     "status": "completed"
    },
    "tags": []
   },
   "outputs": [
    {
     "name": "stdout",
     "output_type": "stream",
     "text": [
      "Epoch 0, Loss 0.2036\n",
      "Training Accuracy: 0.8116, Testing Accuracy: 0.8085\n",
      "\n"
     ]
    },
    {
     "name": "stdout",
     "output_type": "stream",
     "text": [
      "Epoch 10, Loss 0.0518\n",
      "Training Accuracy: 0.9467, Testing Accuracy: 0.9541\n",
      "\n"
     ]
    },
    {
     "name": "stdout",
     "output_type": "stream",
     "text": [
      "Epoch 20, Loss 0.0382\n",
      "Training Accuracy: 0.9589, Testing Accuracy: 0.9632\n",
      "\n"
     ]
    },
    {
     "name": "stdout",
     "output_type": "stream",
     "text": [
      "Epoch 30, Loss 0.0328\n",
      "Training Accuracy: 0.9640, Testing Accuracy: 0.9693\n",
      "\n"
     ]
    },
    {
     "name": "stdout",
     "output_type": "stream",
     "text": [
      "Epoch 40, Loss 0.0296\n",
      "Training Accuracy: 0.9672, Testing Accuracy: 0.9723\n",
      "\n"
     ]
    },
    {
     "name": "stdout",
     "output_type": "stream",
     "text": [
      "Epoch 50, Loss 0.0274\n",
      "Training Accuracy: 0.9692, Testing Accuracy: 0.9723\n",
      "\n"
     ]
    },
    {
     "name": "stdout",
     "output_type": "stream",
     "text": [
      "Epoch 60, Loss 0.0258\n",
      "Training Accuracy: 0.9717, Testing Accuracy: 0.9738\n",
      "\n"
     ]
    },
    {
     "name": "stdout",
     "output_type": "stream",
     "text": [
      "Epoch 70, Loss 0.0244\n",
      "Training Accuracy: 0.9732, Testing Accuracy: 0.9738\n",
      "\n"
     ]
    },
    {
     "name": "stdout",
     "output_type": "stream",
     "text": [
      "Epoch 80, Loss 0.0233\n",
      "Training Accuracy: 0.9748, Testing Accuracy: 0.9758\n",
      "\n"
     ]
    },
    {
     "name": "stdout",
     "output_type": "stream",
     "text": [
      "Epoch 90, Loss 0.0223\n",
      "Training Accuracy: 0.9759, Testing Accuracy: 0.9758\n",
      "\n"
     ]
    },
    {
     "name": "stdout",
     "output_type": "stream",
     "text": [
      "Epoch 100, Loss 0.0214\n",
      "Training Accuracy: 0.9765, Testing Accuracy: 0.9758\n",
      "\n"
     ]
    },
    {
     "name": "stdout",
     "output_type": "stream",
     "text": [
      "Epoch 110, Loss 0.0206\n",
      "Training Accuracy: 0.9778, Testing Accuracy: 0.9753\n",
      "\n"
     ]
    },
    {
     "name": "stdout",
     "output_type": "stream",
     "text": [
      "Epoch 120, Loss 0.0198\n",
      "Training Accuracy: 0.9784, Testing Accuracy: 0.9758\n",
      "\n"
     ]
    },
    {
     "name": "stdout",
     "output_type": "stream",
     "text": [
      "Epoch 130, Loss 0.0191\n",
      "Training Accuracy: 0.9791, Testing Accuracy: 0.9758\n",
      "\n"
     ]
    },
    {
     "name": "stdout",
     "output_type": "stream",
     "text": [
      "Epoch 140, Loss 0.0185\n",
      "Training Accuracy: 0.9798, Testing Accuracy: 0.9758\n",
      "\n"
     ]
    },
    {
     "name": "stdout",
     "output_type": "stream",
     "text": [
      "Epoch 150, Loss 0.0179\n",
      "Training Accuracy: 0.9806, Testing Accuracy: 0.9758\n",
      "\n"
     ]
    },
    {
     "name": "stdout",
     "output_type": "stream",
     "text": [
      "Epoch 160, Loss 0.0173\n",
      "Training Accuracy: 0.9809, Testing Accuracy: 0.9758\n",
      "\n"
     ]
    },
    {
     "name": "stdout",
     "output_type": "stream",
     "text": [
      "Epoch 170, Loss 0.0168\n",
      "Training Accuracy: 0.9814, Testing Accuracy: 0.9768\n",
      "\n"
     ]
    },
    {
     "name": "stdout",
     "output_type": "stream",
     "text": [
      "Epoch 180, Loss 0.0163\n",
      "Training Accuracy: 0.9818, Testing Accuracy: 0.9768\n",
      "\n"
     ]
    },
    {
     "name": "stdout",
     "output_type": "stream",
     "text": [
      "Epoch 190, Loss 0.0158\n",
      "Training Accuracy: 0.9829, Testing Accuracy: 0.9768\n",
      "\n"
     ]
    },
    {
     "name": "stdout",
     "output_type": "stream",
     "text": [
      "Epoch 200, Loss 0.0153\n",
      "Training Accuracy: 0.9841, Testing Accuracy: 0.9773\n",
      "\n"
     ]
    },
    {
     "name": "stdout",
     "output_type": "stream",
     "text": [
      "Epoch 210, Loss 0.0149\n",
      "Training Accuracy: 0.9845, Testing Accuracy: 0.9778\n",
      "\n"
     ]
    },
    {
     "name": "stdout",
     "output_type": "stream",
     "text": [
      "Epoch 220, Loss 0.0145\n",
      "Training Accuracy: 0.9851, Testing Accuracy: 0.9778\n",
      "\n"
     ]
    },
    {
     "name": "stdout",
     "output_type": "stream",
     "text": [
      "Epoch 230, Loss 0.014\n",
      "Training Accuracy: 0.9859, Testing Accuracy: 0.9788\n",
      "\n"
     ]
    },
    {
     "name": "stdout",
     "output_type": "stream",
     "text": [
      "Epoch 240, Loss 0.0136\n",
      "Training Accuracy: 0.9860, Testing Accuracy: 0.9793\n",
      "\n"
     ]
    },
    {
     "data": {
      "text/plain": [
       "0.0018522698910092468"
      ]
     },
     "execution_count": 22,
     "metadata": {},
     "output_type": "execute_result"
    }
   ],
   "source": [
    "nn_learner.train_loop(dl)"
   ]
  },
  {
   "cell_type": "code",
   "execution_count": 23,
   "id": "e0163366",
   "metadata": {
    "execution": {
     "iopub.execute_input": "2021-08-31T10:09:27.029786Z",
     "iopub.status.busy": "2021-08-31T10:09:27.028737Z",
     "iopub.status.idle": "2021-08-31T10:09:45.762383Z",
     "shell.execute_reply": "2021-08-31T10:09:45.763238Z"
    },
    "papermill": {
     "duration": 18.789362,
     "end_time": "2021-08-31T10:09:45.763411",
     "exception": false,
     "start_time": "2021-08-31T10:09:26.974049",
     "status": "completed"
    },
    "tags": []
   },
   "outputs": [
    {
     "name": "stdout",
     "output_type": "stream",
     "text": [
      "Epoch 0, Loss 0.2608\n",
      "Training Accuracy: 0.5999, Testing Accuracy: 0.6240\n",
      "\n"
     ]
    },
    {
     "name": "stdout",
     "output_type": "stream",
     "text": [
      "Epoch 10, Loss 0.1081\n",
      "Training Accuracy: 0.8978, Testing Accuracy: 0.9062\n",
      "\n"
     ]
    },
    {
     "name": "stdout",
     "output_type": "stream",
     "text": [
      "Epoch 20, Loss 0.0818\n",
      "Training Accuracy: 0.9231, Testing Accuracy: 0.9345\n",
      "\n"
     ]
    },
    {
     "name": "stdout",
     "output_type": "stream",
     "text": [
      "Epoch 30, Loss 0.0697\n",
      "Training Accuracy: 0.9342, Testing Accuracy: 0.9456\n",
      "\n"
     ]
    },
    {
     "name": "stdout",
     "output_type": "stream",
     "text": [
      "Epoch 40, Loss 0.0625\n",
      "Training Accuracy: 0.9405, Testing Accuracy: 0.9536\n",
      "\n"
     ]
    },
    {
     "name": "stdout",
     "output_type": "stream",
     "text": [
      "Epoch 50, Loss 0.0577\n",
      "Training Accuracy: 0.9446, Testing Accuracy: 0.9561\n",
      "\n"
     ]
    },
    {
     "name": "stdout",
     "output_type": "stream",
     "text": [
      "Epoch 60, Loss 0.0542\n",
      "Training Accuracy: 0.9469, Testing Accuracy: 0.9592\n",
      "\n"
     ]
    },
    {
     "name": "stdout",
     "output_type": "stream",
     "text": [
      "Epoch 70, Loss 0.0515\n",
      "Training Accuracy: 0.9492, Testing Accuracy: 0.9607\n",
      "\n"
     ]
    },
    {
     "name": "stdout",
     "output_type": "stream",
     "text": [
      "Epoch 80, Loss 0.0494\n",
      "Training Accuracy: 0.9509, Testing Accuracy: 0.9617\n",
      "\n"
     ]
    },
    {
     "name": "stdout",
     "output_type": "stream",
     "text": [
      "Epoch 90, Loss 0.0477\n",
      "Training Accuracy: 0.9526, Testing Accuracy: 0.9632\n",
      "\n"
     ]
    },
    {
     "name": "stdout",
     "output_type": "stream",
     "text": [
      "Epoch 100, Loss 0.0462\n",
      "Training Accuracy: 0.9533, Testing Accuracy: 0.9637\n",
      "\n"
     ]
    },
    {
     "name": "stdout",
     "output_type": "stream",
     "text": [
      "Epoch 110, Loss 0.0449\n",
      "Training Accuracy: 0.9545, Testing Accuracy: 0.9642\n",
      "\n"
     ]
    },
    {
     "name": "stdout",
     "output_type": "stream",
     "text": [
      "Epoch 120, Loss 0.0439\n",
      "Training Accuracy: 0.9553, Testing Accuracy: 0.9652\n",
      "\n"
     ]
    },
    {
     "name": "stdout",
     "output_type": "stream",
     "text": [
      "Epoch 130, Loss 0.0429\n",
      "Training Accuracy: 0.9562, Testing Accuracy: 0.9652\n",
      "\n"
     ]
    },
    {
     "name": "stdout",
     "output_type": "stream",
     "text": [
      "Epoch 140, Loss 0.0421\n",
      "Training Accuracy: 0.9566, Testing Accuracy: 0.9652\n",
      "\n"
     ]
    },
    {
     "name": "stdout",
     "output_type": "stream",
     "text": [
      "Epoch 150, Loss 0.0413\n",
      "Training Accuracy: 0.9574, Testing Accuracy: 0.9652\n",
      "\n"
     ]
    },
    {
     "name": "stdout",
     "output_type": "stream",
     "text": [
      "Epoch 160, Loss 0.0406\n",
      "Training Accuracy: 0.9580, Testing Accuracy: 0.9652\n",
      "\n"
     ]
    },
    {
     "name": "stdout",
     "output_type": "stream",
     "text": [
      "Epoch 170, Loss 0.04\n",
      "Training Accuracy: 0.9584, Testing Accuracy: 0.9657\n",
      "\n"
     ]
    },
    {
     "name": "stdout",
     "output_type": "stream",
     "text": [
      "Epoch 180, Loss 0.0394\n",
      "Training Accuracy: 0.9589, Testing Accuracy: 0.9662\n",
      "\n"
     ]
    },
    {
     "name": "stdout",
     "output_type": "stream",
     "text": [
      "Epoch 190, Loss 0.0389\n",
      "Training Accuracy: 0.9595, Testing Accuracy: 0.9662\n",
      "\n"
     ]
    },
    {
     "name": "stdout",
     "output_type": "stream",
     "text": [
      "Epoch 200, Loss 0.0384\n",
      "Training Accuracy: 0.9596, Testing Accuracy: 0.9662\n",
      "\n"
     ]
    },
    {
     "name": "stdout",
     "output_type": "stream",
     "text": [
      "Epoch 210, Loss 0.038\n",
      "Training Accuracy: 0.9597, Testing Accuracy: 0.9667\n",
      "\n"
     ]
    },
    {
     "name": "stdout",
     "output_type": "stream",
     "text": [
      "Epoch 220, Loss 0.0376\n",
      "Training Accuracy: 0.9599, Testing Accuracy: 0.9667\n",
      "\n"
     ]
    },
    {
     "name": "stdout",
     "output_type": "stream",
     "text": [
      "Epoch 230, Loss 0.0372\n",
      "Training Accuracy: 0.9604, Testing Accuracy: 0.9672\n",
      "\n"
     ]
    },
    {
     "name": "stdout",
     "output_type": "stream",
     "text": [
      "Epoch 240, Loss 0.0368\n",
      "Training Accuracy: 0.9606, Testing Accuracy: 0.9677\n",
      "\n"
     ]
    },
    {
     "data": {
      "text/plain": [
       "0.02347965868510022"
      ]
     },
     "execution_count": 23,
     "metadata": {},
     "output_type": "execute_result"
    }
   ],
   "source": [
    "lr_learner.train_loop(dl)"
   ]
  },
  {
   "cell_type": "code",
   "execution_count": 24,
   "id": "ca410940",
   "metadata": {
    "execution": {
     "iopub.execute_input": "2021-08-31T10:09:45.870125Z",
     "iopub.status.busy": "2021-08-31T10:09:45.869403Z",
     "iopub.status.idle": "2021-08-31T10:09:46.183981Z",
     "shell.execute_reply": "2021-08-31T10:09:46.184567Z"
    },
    "papermill": {
     "duration": 0.370709,
     "end_time": "2021-08-31T10:09:46.184744",
     "exception": false,
     "start_time": "2021-08-31T10:09:45.814035",
     "status": "completed"
    },
    "tags": []
   },
   "outputs": [
    {
     "data": {
      "text/plain": [
       "<matplotlib.legend.Legend at 0x7fedd57055c0>"
      ]
     },
     "execution_count": 24,
     "metadata": {},
     "output_type": "execute_result"
    },
    {
     "data": {
      "image/png": "[encoded data removed]",
      "text/plain": [
       "<Figure size 1080x720 with 1 Axes>"
      ]
     },
     "metadata": {
      "needs_background": "light"
     },
     "output_type": "display_data"
    }
   ],
   "source": [
    "#comparing the results of NN and LR\n",
    "plt.figure(figsize=(15,10))\n",
    "\n",
    "# Neural Network plots\n",
    "plt.plot(acc_nn.accuracies, 'r-', label = \"Training Accuracies - NN\")\n",
    "plt.plot(acc_nn.test_accuracies, 'g-', label = \"Testing Accuracies - NN\")\n",
    "\n",
    "# Logistic Regression plots\n",
    "plt.plot(acc_lr.accuracies, 'k-', label = \"Training Accuracies - LR\")\n",
    "plt.plot(acc_lr.test_accuracies, 'b-', label = \"Testing Accuracies - LR\")\n",
    "plt.legend()"
   ]
  },
  {
   "cell_type": "markdown",
   "id": "80dfb35c",
   "metadata": {
    "papermill": {
     "duration": 0.056391,
     "end_time": "2021-08-31T10:09:46.296598",
     "exception": false,
     "start_time": "2021-08-31T10:09:46.240207",
     "status": "completed"
    },
    "tags": []
   },
   "source": [
    "#### Plotting the outputs of this layer of the NN.\n"
   ]
  },
  {
   "cell_type": "code",
   "execution_count": 25,
   "id": "45eb2ff5",
   "metadata": {
    "execution": {
     "iopub.execute_input": "2021-08-31T10:09:46.406150Z",
     "iopub.status.busy": "2021-08-31T10:09:46.405464Z",
     "iopub.status.idle": "2021-08-31T10:09:46.430368Z",
     "shell.execute_reply": "2021-08-31T10:09:46.430884Z"
    },
    "papermill": {
     "duration": 0.082511,
     "end_time": "2021-08-31T10:09:46.431046",
     "exception": false,
     "start_time": "2021-08-31T10:09:46.348535",
     "status": "completed"
    },
    "tags": []
   },
   "outputs": [],
   "source": [
    "new_model = Model(layers[:-2])\n",
    "testing_plot = new_model(testing_data_x)"
   ]
  },
  {
   "cell_type": "code",
   "execution_count": 26,
   "id": "4c0a5485",
   "metadata": {
    "execution": {
     "iopub.execute_input": "2021-08-31T10:09:46.545639Z",
     "iopub.status.busy": "2021-08-31T10:09:46.545001Z",
     "iopub.status.idle": "2021-08-31T10:09:46.817018Z",
     "shell.execute_reply": "2021-08-31T10:09:46.817554Z"
    },
    "papermill": {
     "duration": 0.328435,
     "end_time": "2021-08-31T10:09:46.817732",
     "exception": false,
     "start_time": "2021-08-31T10:09:46.489297",
     "status": "completed"
    },
    "tags": []
   },
   "outputs": [
    {
     "data": {
      "text/plain": [
       "Text(0.5, 1.0, 'Outputs')"
      ]
     },
     "execution_count": 26,
     "metadata": {},
     "output_type": "execute_result"
    },
    {
     "data": {
      "image/png": "[encoded data removed]",
      "text/plain": [
       "<Figure size 576x504 with 1 Axes>"
      ]
     },
     "metadata": {
      "needs_background": "light"
     },
     "output_type": "display_data"
    }
   ],
   "source": [
    "# Plotting the scatter plot of points and color coding by class\n",
    "plt.figure(figsize=(8,7))\n",
    "plt.scatter(testing_plot[:,0], testing_plot[:,1], alpha = 0.1, c = y_test.ravel());\n",
    "plt.title('Outputs')"
   ]
  },
  {
   "cell_type": "markdown",
   "id": "a74fcf8f",
   "metadata": {
    "papermill": {
     "duration": 0.051963,
     "end_time": "2021-08-31T10:09:46.922971",
     "exception": false,
     "start_time": "2021-08-31T10:09:46.871008",
     "status": "completed"
    },
    "tags": []
   },
   "source": [
    "Probability contours"
   ]
  },
  {
   "cell_type": "code",
   "execution_count": 27,
   "id": "d0afc8e3",
   "metadata": {
    "execution": {
     "iopub.execute_input": "2021-08-31T10:09:47.031326Z",
     "iopub.status.busy": "2021-08-31T10:09:47.030498Z",
     "iopub.status.idle": "2021-08-31T10:09:47.043379Z",
     "shell.execute_reply": "2021-08-31T10:09:47.043935Z"
    },
    "papermill": {
     "duration": 0.069359,
     "end_time": "2021-08-31T10:09:47.044076",
     "exception": false,
     "start_time": "2021-08-31T10:09:46.974717",
     "status": "completed"
    },
    "tags": []
   },
   "outputs": [],
   "source": [
    "model_prob = Model(layers[-2:]) "
   ]
  },
  {
   "cell_type": "code",
   "execution_count": 28,
   "id": "9b96e238",
   "metadata": {
    "execution": {
     "iopub.execute_input": "2021-08-31T10:09:47.185539Z",
     "iopub.status.busy": "2021-08-31T10:09:47.184873Z",
     "iopub.status.idle": "2021-08-31T10:09:47.200003Z",
     "shell.execute_reply": "2021-08-31T10:09:47.200574Z"
    },
    "papermill": {
     "duration": 0.105117,
     "end_time": "2021-08-31T10:09:47.200730",
     "exception": false,
     "start_time": "2021-08-31T10:09:47.095613",
     "status": "completed"
    },
    "tags": []
   },
   "outputs": [],
   "source": [
    "#creating the x and y ranges according to the above generated plot.\n",
    "x_range = np.linspace(-4, 1, 100) \n",
    "y_range = np.linspace(-6, 6, 100) \n",
    "x_grid, y_grid = np.meshgrid(x_range, y_range) # x_grid and y_grig are of size 100 X 100\n",
    "\n",
    "# converting x_grid and y_grid to continuous arrays\n",
    "x_gridflat = np.ravel(x_grid)\n",
    "y_gridflat = np.ravel(y_grid)\n",
    "\n",
    "# The last layer of the current model takes two columns as input. Hence transpose of np.vstack() is required.\n",
    "X = np.vstack((x_gridflat, y_gridflat)).T\n",
    "\n",
    "prob_contour = model_prob(X).reshape(100,100) "
   ]
  },
  {
   "cell_type": "code",
   "execution_count": 29,
   "id": "da72499a",
   "metadata": {
    "execution": {
     "iopub.execute_input": "2021-08-31T10:09:47.322645Z",
     "iopub.status.busy": "2021-08-31T10:09:47.321915Z",
     "iopub.status.idle": "2021-08-31T10:09:47.643252Z",
     "shell.execute_reply": "2021-08-31T10:09:47.642720Z"
    },
    "papermill": {
     "duration": 0.381725,
     "end_time": "2021-08-31T10:09:47.643389",
     "exception": false,
     "start_time": "2021-08-31T10:09:47.261664",
     "status": "completed"
    },
    "tags": []
   },
   "outputs": [
    {
     "data": {
      "image/png": "[encoded data removed]",
      "text/plain": [
       "<Figure size 720x648 with 1 Axes>"
      ]
     },
     "metadata": {
      "needs_background": "light"
     },
     "output_type": "display_data"
    }
   ],
   "source": [
    "plt.figure(figsize=(10,9))\n",
    "plt.scatter(testing_plot[:,0], testing_plot[:,1], alpha = 0.1, c = y_test.ravel())\n",
    "contours = plt.contour(x_grid,y_grid,prob_contour)\n",
    "plt.title('Probability Contours')\n",
    "plt.clabel(contours, inline = True );"
   ]
  },
  {
   "cell_type": "code",
   "execution_count": null,
   "id": "e81b4ac7",
   "metadata": {
    "papermill": {
     "duration": 0.061149,
     "end_time": "2021-08-31T10:09:47.763483",
     "exception": false,
     "start_time": "2021-08-31T10:09:47.702334",
     "status": "completed"
    },
    "tags": []
   },
   "outputs": [],
   "source": []
  }
 ],
 "metadata": {
  "kernelspec": {
   "display_name": "Python 3",
   "language": "python",
   "name": "python3"
  },
  "language_info": {
   "codemirror_mode": {
    "name": "ipython",
    "version": 3
   },
   "file_extension": ".py",
   "mimetype": "text/x-python",
   "name": "python",
   "nbconvert_exporter": "python",
   "pygments_lexer": "ipython3",
   "version": "3.6.14"
  },
  "papermill": {
   "default_parameters": {},
   "duration": 156.446037,
   "end_time": "2021-08-31T10:09:48.230069",
   "environment_variables": {},
   "exception": null,
   "input_path": "2020-08-11-part2.ipynb",
   "output_path": "2020-08-11-part2.ipynb",
   "parameters": {},
   "start_time": "2021-08-31T10:07:11.784032",
   "version": "2.3.3"
  }
 },
 "nbformat": 4,
 "nbformat_minor": 5
}