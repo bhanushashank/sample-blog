{
 "cells": [
  {
   "cell_type": "markdown",
   "id": "98380cd3",
   "metadata": {
    "papermill": {
     "duration": 0.038691,
     "end_time": "2022-10-16T10:11:33.083415",
     "exception": false,
     "start_time": "2022-10-16T10:11:33.044724",
     "status": "completed"
    },
    "tags": []
   },
   "source": [
    "# Distinguish Your Own Digits (DYOD)"
   ]
  },
  {
   "cell_type": "markdown",
   "id": "ef31240d",
   "metadata": {
    "papermill": {
     "duration": 0.028253,
     "end_time": "2022-10-16T10:11:33.140662",
     "exception": false,
     "start_time": "2022-10-16T10:11:33.112409",
     "status": "completed"
    },
    "tags": []
   },
   "source": [
    "You are going to write a classifier that distinguishes between the number 3 and number 8."
   ]
  },
  {
   "cell_type": "code",
   "execution_count": 1,
   "id": "b15c8646",
   "metadata": {
    "execution": {
     "iopub.execute_input": "2022-10-16T10:11:33.211799Z",
     "iopub.status.busy": "2022-10-16T10:11:33.209022Z",
     "iopub.status.idle": "2022-10-16T10:11:33.223771Z",
     "shell.execute_reply": "2022-10-16T10:11:33.223109Z"
    },
    "papermill": {
     "duration": 0.055244,
     "end_time": "2022-10-16T10:11:33.223926",
     "exception": false,
     "start_time": "2022-10-16T10:11:33.168682",
     "status": "completed"
    },
    "tags": []
   },
   "outputs": [],
   "source": [
    "%load_ext autoreload\n",
    "%autoreload 2"
   ]
  },
  {
   "cell_type": "code",
   "execution_count": 2,
   "id": "22ef38dc",
   "metadata": {
    "execution": {
     "iopub.execute_input": "2022-10-16T10:11:33.287757Z",
     "iopub.status.busy": "2022-10-16T10:11:33.286291Z",
     "iopub.status.idle": "2022-10-16T10:11:33.946864Z",
     "shell.execute_reply": "2022-10-16T10:11:33.945852Z"
    },
    "papermill": {
     "duration": 0.694231,
     "end_time": "2022-10-16T10:11:33.947014",
     "exception": false,
     "start_time": "2022-10-16T10:11:33.252783",
     "status": "completed"
    },
    "tags": []
   },
   "outputs": [],
   "source": [
    "%matplotlib inline\n",
    "import numpy as np\n",
    "import matplotlib.pyplot as plt\n",
    "import pandas as pd"
   ]
  },
  {
   "cell_type": "markdown",
   "id": "ba036198",
   "metadata": {
    "papermill": {
     "duration": 0.030744,
     "end_time": "2022-10-16T10:11:34.012411",
     "exception": false,
     "start_time": "2022-10-16T10:11:33.981667",
     "status": "completed"
    },
    "tags": []
   },
   "source": [
    "From the command line run `pip install mnist`. This is a library that will help you bring down the mnist dataset. If you run this from a notebook, you need to put  `!pip install mnist` in a cell by itself."
   ]
  },
  {
   "cell_type": "code",
   "execution_count": 3,
   "id": "bb6ad8a1",
   "metadata": {
    "execution": {
     "iopub.execute_input": "2022-10-16T10:11:34.079639Z",
     "iopub.status.busy": "2022-10-16T10:11:34.078864Z",
     "iopub.status.idle": "2022-10-16T10:11:36.123049Z",
     "shell.execute_reply": "2022-10-16T10:11:36.121992Z"
    },
    "papermill": {
     "duration": 2.082157,
     "end_time": "2022-10-16T10:11:36.123223",
     "exception": false,
     "start_time": "2022-10-16T10:11:34.041066",
     "status": "completed"
    },
    "tags": []
   },
   "outputs": [
    {
     "name": "stdout",
     "output_type": "stream",
     "text": [
      "Collecting mnist\r\n"
     ]
    },
    {
     "name": "stdout",
     "output_type": "stream",
     "text": [
      "  Downloading mnist-0.2.2-py2.py3-none-any.whl (3.5 kB)\r\n",
      "Requirement already satisfied: numpy in /opt/hostedtoolcache/Python/3.6.15/x64/lib/python3.6/site-packages (from mnist) (1.19.5)\r\n"
     ]
    },
    {
     "name": "stdout",
     "output_type": "stream",
     "text": [
      "Installing collected packages: mnist\r\n"
     ]
    },
    {
     "name": "stdout",
     "output_type": "stream",
     "text": [
      "Successfully installed mnist-0.2.2\r\n"
     ]
    }
   ],
   "source": [
    "!pip install mnist"
   ]
  },
  {
   "cell_type": "markdown",
   "id": "69df9c9a",
   "metadata": {
    "papermill": {
     "duration": 0.029981,
     "end_time": "2022-10-16T10:11:36.183515",
     "exception": false,
     "start_time": "2022-10-16T10:11:36.153534",
     "status": "completed"
    },
    "tags": []
   },
   "source": [
    "## Preparing the Data"
   ]
  },
  {
   "cell_type": "code",
   "execution_count": 4,
   "id": "7f69d806",
   "metadata": {
    "execution": {
     "iopub.execute_input": "2022-10-16T10:11:36.252164Z",
     "iopub.status.busy": "2022-10-16T10:11:36.247976Z",
     "iopub.status.idle": "2022-10-16T10:11:36.267322Z",
     "shell.execute_reply": "2022-10-16T10:11:36.266692Z"
    },
    "papermill": {
     "duration": 0.054116,
     "end_time": "2022-10-16T10:11:36.267459",
     "exception": false,
     "start_time": "2022-10-16T10:11:36.213343",
     "status": "completed"
    },
    "tags": []
   },
   "outputs": [],
   "source": [
    "import mnist"
   ]
  },
  {
   "cell_type": "code",
   "execution_count": 5,
   "id": "a411e44f",
   "metadata": {
    "execution": {
     "iopub.execute_input": "2022-10-16T10:11:36.340088Z",
     "iopub.status.busy": "2022-10-16T10:11:36.338721Z",
     "iopub.status.idle": "2022-10-16T10:11:36.949063Z",
     "shell.execute_reply": "2022-10-16T10:11:36.948296Z"
    },
    "papermill": {
     "duration": 0.651225,
     "end_time": "2022-10-16T10:11:36.949204",
     "exception": false,
     "start_time": "2022-10-16T10:11:36.297979",
     "status": "completed"
    },
    "tags": []
   },
   "outputs": [],
   "source": [
    "train_images = mnist.train_images()\n",
    "train_labels = mnist.train_labels()"
   ]
  },
  {
   "cell_type": "code",
   "execution_count": 6,
   "id": "dceab3a5",
   "metadata": {
    "execution": {
     "iopub.execute_input": "2022-10-16T10:11:37.015658Z",
     "iopub.status.busy": "2022-10-16T10:11:37.014400Z",
     "iopub.status.idle": "2022-10-16T10:11:37.032211Z",
     "shell.execute_reply": "2022-10-16T10:11:37.031629Z"
    },
    "papermill": {
     "duration": 0.053522,
     "end_time": "2022-10-16T10:11:37.032344",
     "exception": false,
     "start_time": "2022-10-16T10:11:36.978822",
     "status": "completed"
    },
    "tags": []
   },
   "outputs": [
    {
     "data": {
      "text/plain": [
       "((60000, 28, 28), (60000,))"
      ]
     },
     "execution_count": 6,
     "metadata": {},
     "output_type": "execute_result"
    }
   ],
   "source": [
    "train_images.shape, train_labels.shape"
   ]
  },
  {
   "cell_type": "code",
   "execution_count": 7,
   "id": "f50dc2bb",
   "metadata": {
    "execution": {
     "iopub.execute_input": "2022-10-16T10:11:37.100153Z",
     "iopub.status.busy": "2022-10-16T10:11:37.096977Z",
     "iopub.status.idle": "2022-10-16T10:11:37.232513Z",
     "shell.execute_reply": "2022-10-16T10:11:37.231891Z"
    },
    "papermill": {
     "duration": 0.170401,
     "end_time": "2022-10-16T10:11:37.232648",
     "exception": false,
     "start_time": "2022-10-16T10:11:37.062247",
     "status": "completed"
    },
    "tags": []
   },
   "outputs": [],
   "source": [
    "test_images = mnist.test_images()\n",
    "test_labels = mnist.test_labels()"
   ]
  },
  {
   "cell_type": "code",
   "execution_count": 8,
   "id": "fc38cf1b",
   "metadata": {
    "execution": {
     "iopub.execute_input": "2022-10-16T10:11:37.300393Z",
     "iopub.status.busy": "2022-10-16T10:11:37.298457Z",
     "iopub.status.idle": "2022-10-16T10:11:37.313947Z",
     "shell.execute_reply": "2022-10-16T10:11:37.314458Z"
    },
    "papermill": {
     "duration": 0.051328,
     "end_time": "2022-10-16T10:11:37.314608",
     "exception": false,
     "start_time": "2022-10-16T10:11:37.263280",
     "status": "completed"
    },
    "tags": []
   },
   "outputs": [
    {
     "data": {
      "text/plain": [
       "((10000, 28, 28), (10000,))"
      ]
     },
     "execution_count": 8,
     "metadata": {},
     "output_type": "execute_result"
    }
   ],
   "source": [
    "test_images.shape, test_labels.shape"
   ]
  },
  {
   "cell_type": "code",
   "execution_count": 9,
   "id": "f9ed8fe0",
   "metadata": {
    "execution": {
     "iopub.execute_input": "2022-10-16T10:11:37.384883Z",
     "iopub.status.busy": "2022-10-16T10:11:37.380671Z",
     "iopub.status.idle": "2022-10-16T10:11:37.546410Z",
     "shell.execute_reply": "2022-10-16T10:11:37.546938Z"
    },
    "papermill": {
     "duration": 0.202034,
     "end_time": "2022-10-16T10:11:37.547099",
     "exception": false,
     "start_time": "2022-10-16T10:11:37.345065",
     "status": "completed"
    },
    "tags": []
   },
   "outputs": [
    {
     "name": "stdout",
     "output_type": "stream",
     "text": [
      "2\n"
     ]
    },
    {
     "data": {
      "text/plain": [
       "<matplotlib.image.AxesImage at 0x7fd1adb5fcc0>"
      ]
     },
     "execution_count": 9,
     "metadata": {},
     "output_type": "execute_result"
    },
    {
     "data": {
      "image/png": "[encoded data removed]",
      "text/plain": [
       "<Figure size 432x288 with 1 Axes>"
      ]
     },
     "metadata": {
      "needs_background": "light"
     },
     "output_type": "display_data"
    }
   ],
   "source": [
    "image_index = 7776 # You may select anything up to 60,000\n",
    "print(train_labels[image_index]) \n",
    "plt.imshow(train_images[image_index], cmap='Greys')"
   ]
  },
  {
   "cell_type": "markdown",
   "id": "a8d2388d",
   "metadata": {
    "papermill": {
     "duration": 0.031729,
     "end_time": "2022-10-16T10:11:37.610422",
     "exception": false,
     "start_time": "2022-10-16T10:11:37.578693",
     "status": "completed"
    },
    "tags": []
   },
   "source": [
    "## Filter data to get 3 and 8 out"
   ]
  },
  {
   "cell_type": "code",
   "execution_count": 10,
   "id": "776f7fc7",
   "metadata": {
    "execution": {
     "iopub.execute_input": "2022-10-16T10:11:37.684320Z",
     "iopub.status.busy": "2022-10-16T10:11:37.679364Z",
     "iopub.status.idle": "2022-10-16T10:11:37.701590Z",
     "shell.execute_reply": "2022-10-16T10:11:37.702142Z"
    },
    "papermill": {
     "duration": 0.060664,
     "end_time": "2022-10-16T10:11:37.702295",
     "exception": false,
     "start_time": "2022-10-16T10:11:37.641631",
     "status": "completed"
    },
    "tags": []
   },
   "outputs": [],
   "source": [
    "train_filter = np.where((train_labels == 3 ) | (train_labels == 8))\n",
    "test_filter = np.where((test_labels == 3) | (test_labels == 8))\n",
    "X_train, y_train = train_images[train_filter], train_labels[train_filter]\n",
    "X_test, y_test = test_images[test_filter], test_labels[test_filter]"
   ]
  },
  {
   "cell_type": "markdown",
   "id": "948f0b7e",
   "metadata": {
    "papermill": {
     "duration": 0.031223,
     "end_time": "2022-10-16T10:11:37.765653",
     "exception": false,
     "start_time": "2022-10-16T10:11:37.734430",
     "status": "completed"
    },
    "tags": []
   },
   "source": [
    "We normalize the pizel values in the 0 to 1 range"
   ]
  },
  {
   "cell_type": "code",
   "execution_count": 11,
   "id": "ee4c2166",
   "metadata": {
    "execution": {
     "iopub.execute_input": "2022-10-16T10:11:37.836864Z",
     "iopub.status.busy": "2022-10-16T10:11:37.833135Z",
     "iopub.status.idle": "2022-10-16T10:11:37.891701Z",
     "shell.execute_reply": "2022-10-16T10:11:37.890609Z"
    },
    "papermill": {
     "duration": 0.095034,
     "end_time": "2022-10-16T10:11:37.891916",
     "exception": false,
     "start_time": "2022-10-16T10:11:37.796882",
     "status": "completed"
    },
    "tags": []
   },
   "outputs": [],
   "source": [
    "X_train = X_train/255.\n",
    "X_test = X_test/255."
   ]
  },
  {
   "cell_type": "markdown",
   "id": "ddcf4fab",
   "metadata": {
    "papermill": {
     "duration": 0.031459,
     "end_time": "2022-10-16T10:11:37.956419",
     "exception": false,
     "start_time": "2022-10-16T10:11:37.924960",
     "status": "completed"
    },
    "tags": []
   },
   "source": [
    "And setup the labels as 1 (when the digit is 3) and 0 (when the digit is 8)"
   ]
  },
  {
   "cell_type": "code",
   "execution_count": 12,
   "id": "7dc908f2",
   "metadata": {
    "execution": {
     "iopub.execute_input": "2022-10-16T10:11:38.029775Z",
     "iopub.status.busy": "2022-10-16T10:11:38.029065Z",
     "iopub.status.idle": "2022-10-16T10:11:38.040869Z",
     "shell.execute_reply": "2022-10-16T10:11:38.041445Z"
    },
    "papermill": {
     "duration": 0.053887,
     "end_time": "2022-10-16T10:11:38.041594",
     "exception": false,
     "start_time": "2022-10-16T10:11:37.987707",
     "status": "completed"
    },
    "tags": []
   },
   "outputs": [],
   "source": [
    "y_train = 1*(y_train==3)\n",
    "y_test = 1*(y_test==3)"
   ]
  },
  {
   "cell_type": "code",
   "execution_count": 13,
   "id": "01e4e969",
   "metadata": {
    "execution": {
     "iopub.execute_input": "2022-10-16T10:11:38.110461Z",
     "iopub.status.busy": "2022-10-16T10:11:38.109761Z",
     "iopub.status.idle": "2022-10-16T10:11:38.126159Z",
     "shell.execute_reply": "2022-10-16T10:11:38.125583Z"
    },
    "papermill": {
     "duration": 0.053187,
     "end_time": "2022-10-16T10:11:38.126286",
     "exception": false,
     "start_time": "2022-10-16T10:11:38.073099",
     "status": "completed"
    },
    "tags": []
   },
   "outputs": [
    {
     "data": {
      "text/plain": [
       "((11982, 28, 28), (1984, 28, 28))"
      ]
     },
     "execution_count": 13,
     "metadata": {},
     "output_type": "execute_result"
    }
   ],
   "source": [
    "X_train.shape, X_test.shape"
   ]
  },
  {
   "cell_type": "markdown",
   "id": "5ccf3f85",
   "metadata": {
    "papermill": {
     "duration": 0.031469,
     "end_time": "2022-10-16T10:11:38.189325",
     "exception": false,
     "start_time": "2022-10-16T10:11:38.157856",
     "status": "completed"
    },
    "tags": []
   },
   "source": [
    "We reshape the data to flatten the image pixels into a set of features or co-variates:"
   ]
  },
  {
   "cell_type": "code",
   "execution_count": 14,
   "id": "5286a4a3",
   "metadata": {
    "execution": {
     "iopub.execute_input": "2022-10-16T10:11:38.259342Z",
     "iopub.status.busy": "2022-10-16T10:11:38.258586Z",
     "iopub.status.idle": "2022-10-16T10:11:38.275623Z",
     "shell.execute_reply": "2022-10-16T10:11:38.276204Z"
    },
    "papermill": {
     "duration": 0.055127,
     "end_time": "2022-10-16T10:11:38.276355",
     "exception": false,
     "start_time": "2022-10-16T10:11:38.221228",
     "status": "completed"
    },
    "tags": []
   },
   "outputs": [
    {
     "data": {
      "text/plain": [
       "((11982, 784), (1984, 784))"
      ]
     },
     "execution_count": 14,
     "metadata": {},
     "output_type": "execute_result"
    }
   ],
   "source": [
    "X_train = X_train.reshape(X_train.shape[0], -1)\n",
    "X_test = X_test.reshape(X_test.shape[0], -1)\n",
    "X_train.shape, X_test.shape"
   ]
  },
  {
   "cell_type": "code",
   "execution_count": 15,
   "id": "73c5f88a",
   "metadata": {
    "execution": {
     "iopub.execute_input": "2022-10-16T10:11:38.350184Z",
     "iopub.status.busy": "2022-10-16T10:11:38.349460Z",
     "iopub.status.idle": "2022-10-16T10:11:38.371509Z",
     "shell.execute_reply": "2022-10-16T10:11:38.372065Z"
    },
    "papermill": {
     "duration": 0.063763,
     "end_time": "2022-10-16T10:11:38.372217",
     "exception": false,
     "start_time": "2022-10-16T10:11:38.308454",
     "status": "completed"
    },
    "tags": []
   },
   "outputs": [],
   "source": [
    "#Impoting functions from 'Kudzu'\n",
    "from kudzu.model import Model\n",
    "from kudzu.train import Learner\n",
    "from kudzu.optim import GD\n",
    "from kudzu.data import Data, Sampler,Dataloader\n",
    "\n",
    "from kudzu.callbacks import AccCallback\n",
    "from kudzu.callbacks import ClfCallback\n",
    "\n",
    "from kudzu.loss import MSE\n",
    "\n",
    "from kudzu.layer import Sigmoid,Relu\n",
    "from kudzu.layer import Affine"
   ]
  },
  {
   "cell_type": "markdown",
   "id": "bc01172a",
   "metadata": {
    "papermill": {
     "duration": 0.031809,
     "end_time": "2022-10-16T10:11:38.436014",
     "exception": false,
     "start_time": "2022-10-16T10:11:38.404205",
     "status": "completed"
    },
    "tags": []
   },
   "source": [
    "### Let us create a `Config` class, to store important parameters. \n",
    "This class essentially plays the role of a dictionary."
   ]
  },
  {
   "cell_type": "code",
   "execution_count": 16,
   "id": "978281aa",
   "metadata": {
    "execution": {
     "iopub.execute_input": "2022-10-16T10:11:38.505319Z",
     "iopub.status.busy": "2022-10-16T10:11:38.504602Z",
     "iopub.status.idle": "2022-10-16T10:11:38.519750Z",
     "shell.execute_reply": "2022-10-16T10:11:38.519121Z"
    },
    "papermill": {
     "duration": 0.052074,
     "end_time": "2022-10-16T10:11:38.519882",
     "exception": false,
     "start_time": "2022-10-16T10:11:38.467808",
     "status": "completed"
    },
    "tags": []
   },
   "outputs": [],
   "source": [
    "class Config:\n",
    "    pass\n",
    "config = Config()\n",
    "config.lr = 0.001\n",
    "config.num_epochs = 250\n",
    "config.bs = 50"
   ]
  },
  {
   "cell_type": "markdown",
   "id": "1385fa59",
   "metadata": {
    "papermill": {
     "duration": 0.031579,
     "end_time": "2022-10-16T10:11:38.583352",
     "exception": false,
     "start_time": "2022-10-16T10:11:38.551773",
     "status": "completed"
    },
    "tags": []
   },
   "source": [
    "### Running Models with the Training data\n",
    "Details about the network layers:\n",
    "- A first affine layer has 784 inputs and does 100 affine transforms. These are followed by a Relu\n",
    "- A second affine layer has 100 inputs from the 100 activations of the past layer, and does 100 affine transforms. These are followed by a Relu\n",
    "- A third affine layer has 100 activations and does 2 affine transformations to create an embedding for visualization. There is no non-linearity here.\n",
    "- A final \"logistic regression\" which has an affine transform from 2 inputs to 1 output, which is squeezed through a sigmoid.\n"
   ]
  },
  {
   "cell_type": "code",
   "execution_count": 17,
   "id": "2b9c66db",
   "metadata": {
    "execution": {
     "iopub.execute_input": "2022-10-16T10:11:38.652169Z",
     "iopub.status.busy": "2022-10-16T10:11:38.651450Z",
     "iopub.status.idle": "2022-10-16T10:11:38.668085Z",
     "shell.execute_reply": "2022-10-16T10:11:38.667499Z"
    },
    "papermill": {
     "duration": 0.052878,
     "end_time": "2022-10-16T10:11:38.668214",
     "exception": false,
     "start_time": "2022-10-16T10:11:38.615336",
     "status": "completed"
    },
    "tags": []
   },
   "outputs": [],
   "source": [
    "data = Data(X_train, y_train.reshape(-1,1))\n",
    "sampler = Sampler(data, config.bs, shuffle=True)\n",
    "\n",
    "dl = Dataloader(data, sampler)\n",
    "\n",
    "opt = GD(config.lr)\n",
    "loss = MSE()"
   ]
  },
  {
   "cell_type": "code",
   "execution_count": 18,
   "id": "b275e4c2",
   "metadata": {
    "execution": {
     "iopub.execute_input": "2022-10-16T10:11:38.738580Z",
     "iopub.status.busy": "2022-10-16T10:11:38.737856Z",
     "iopub.status.idle": "2022-10-16T10:11:38.752627Z",
     "shell.execute_reply": "2022-10-16T10:11:38.752052Z"
    },
    "papermill": {
     "duration": 0.052596,
     "end_time": "2022-10-16T10:11:38.752757",
     "exception": false,
     "start_time": "2022-10-16T10:11:38.700161",
     "status": "completed"
    },
    "tags": []
   },
   "outputs": [],
   "source": [
    "training_data_x = X_train\n",
    "testing_data_x = X_test\n",
    "training_data_y = y_train.reshape(-1,1)\n",
    "testing_data_y = y_test.reshape(-1,1)"
   ]
  },
  {
   "cell_type": "code",
   "execution_count": 19,
   "id": "76951160",
   "metadata": {
    "execution": {
     "iopub.execute_input": "2022-10-16T10:11:38.825249Z",
     "iopub.status.busy": "2022-10-16T10:11:38.824536Z",
     "iopub.status.idle": "2022-10-16T10:11:38.845351Z",
     "shell.execute_reply": "2022-10-16T10:11:38.844745Z"
    },
    "papermill": {
     "duration": 0.061006,
     "end_time": "2022-10-16T10:11:38.845480",
     "exception": false,
     "start_time": "2022-10-16T10:11:38.784474",
     "status": "completed"
    },
    "tags": []
   },
   "outputs": [
    {
     "name": "stdout",
     "output_type": "stream",
     "text": [
      "xavier\n",
      "xavier\n",
      "xavier\n",
      "xavier\n",
      "xavier\n"
     ]
    }
   ],
   "source": [
    "layers = [Affine(\"first\", 784, 100), Relu(\"first\"), Affine(\"second\", 100, 100), Relu(\"second\"), Affine(\"third\", 100, 2), Affine(\"last\", 2, 1), Sigmoid(\"last\")]\n",
    "model_nn = Model(layers)\n",
    "model_lr = Model([Affine(\"logits\", 784, 1), Sigmoid(\"sigmoid\")])"
   ]
  },
  {
   "cell_type": "code",
   "execution_count": 20,
   "id": "6eede77a",
   "metadata": {
    "execution": {
     "iopub.execute_input": "2022-10-16T10:11:38.918504Z",
     "iopub.status.busy": "2022-10-16T10:11:38.917799Z",
     "iopub.status.idle": "2022-10-16T10:11:38.932062Z",
     "shell.execute_reply": "2022-10-16T10:11:38.931487Z"
    },
    "papermill": {
     "duration": 0.054409,
     "end_time": "2022-10-16T10:11:38.932186",
     "exception": false,
     "start_time": "2022-10-16T10:11:38.877777",
     "status": "completed"
    },
    "tags": []
   },
   "outputs": [],
   "source": [
    "nn_learner = Learner(loss, model_nn, opt, config.num_epochs)\n",
    "acc_nn = ClfCallback(nn_learner, config.bs, training_data_x , testing_data_x, training_data_y, testing_data_y)\n",
    "nn_learner.set_callbacks([acc_nn])"
   ]
  },
  {
   "cell_type": "code",
   "execution_count": 21,
   "id": "877b6cc7",
   "metadata": {
    "execution": {
     "iopub.execute_input": "2022-10-16T10:11:39.001447Z",
     "iopub.status.busy": "2022-10-16T10:11:39.000756Z",
     "iopub.status.idle": "2022-10-16T10:11:39.016963Z",
     "shell.execute_reply": "2022-10-16T10:11:39.016281Z"
    },
    "papermill": {
     "duration": 0.052188,
     "end_time": "2022-10-16T10:11:39.017087",
     "exception": false,
     "start_time": "2022-10-16T10:11:38.964899",
     "status": "completed"
    },
    "tags": []
   },
   "outputs": [],
   "source": [
    "lr_learner = Learner(loss, model_lr, opt, config.num_epochs)\n",
    "acc_lr = ClfCallback(lr_learner, config.bs, training_data_x , testing_data_x, training_data_y, testing_data_y)\n",
    "lr_learner.set_callbacks([acc_lr])"
   ]
  },
  {
   "cell_type": "code",
   "execution_count": 22,
   "id": "d9b133c3",
   "metadata": {
    "execution": {
     "iopub.execute_input": "2022-10-16T10:11:39.089006Z",
     "iopub.status.busy": "2022-10-16T10:11:39.088303Z",
     "iopub.status.idle": "2022-10-16T10:13:09.790922Z",
     "shell.execute_reply": "2022-10-16T10:13:09.791995Z"
    },
    "papermill": {
     "duration": 90.742839,
     "end_time": "2022-10-16T10:13:09.792160",
     "exception": false,
     "start_time": "2022-10-16T10:11:39.049321",
     "status": "completed"
    },
    "tags": []
   },
   "outputs": [
    {
     "name": "stdout",
     "output_type": "stream",
     "text": [
      "Epoch 0, Loss 0.2483\n",
      "Training Accuracy: 0.5144, Testing Accuracy: 0.5141\n",
      "\n"
     ]
    },
    {
     "name": "stdout",
     "output_type": "stream",
     "text": [
      "Epoch 10, Loss 0.1592\n",
      "Training Accuracy: 0.8893, Testing Accuracy: 0.8936\n",
      "\n"
     ]
    },
    {
     "name": "stdout",
     "output_type": "stream",
     "text": [
      "Epoch 20, Loss 0.0785\n",
      "Training Accuracy: 0.9218, Testing Accuracy: 0.9325\n",
      "\n"
     ]
    },
    {
     "name": "stdout",
     "output_type": "stream",
     "text": [
      "Epoch 30, Loss 0.0549\n",
      "Training Accuracy: 0.9387, Testing Accuracy: 0.9496\n",
      "\n"
     ]
    },
    {
     "name": "stdout",
     "output_type": "stream",
     "text": [
      "Epoch 40, Loss 0.0446\n",
      "Training Accuracy: 0.9483, Testing Accuracy: 0.9597\n",
      "\n"
     ]
    },
    {
     "name": "stdout",
     "output_type": "stream",
     "text": [
      "Epoch 50, Loss 0.039\n",
      "Training Accuracy: 0.9547, Testing Accuracy: 0.9667\n",
      "\n"
     ]
    },
    {
     "name": "stdout",
     "output_type": "stream",
     "text": [
      "Epoch 60, Loss 0.0354\n",
      "Training Accuracy: 0.9589, Testing Accuracy: 0.9698\n",
      "\n"
     ]
    },
    {
     "name": "stdout",
     "output_type": "stream",
     "text": [
      "Epoch 70, Loss 0.0329\n",
      "Training Accuracy: 0.9614, Testing Accuracy: 0.9703\n",
      "\n"
     ]
    },
    {
     "name": "stdout",
     "output_type": "stream",
     "text": [
      "Epoch 80, Loss 0.031\n",
      "Training Accuracy: 0.9634, Testing Accuracy: 0.9723\n",
      "\n"
     ]
    },
    {
     "name": "stdout",
     "output_type": "stream",
     "text": [
      "Epoch 90, Loss 0.0294\n",
      "Training Accuracy: 0.9654, Testing Accuracy: 0.9738\n",
      "\n"
     ]
    },
    {
     "name": "stdout",
     "output_type": "stream",
     "text": [
      "Epoch 100, Loss 0.0282\n",
      "Training Accuracy: 0.9670, Testing Accuracy: 0.9733\n",
      "\n"
     ]
    },
    {
     "name": "stdout",
     "output_type": "stream",
     "text": [
      "Epoch 110, Loss 0.0271\n",
      "Training Accuracy: 0.9685, Testing Accuracy: 0.9733\n",
      "\n"
     ]
    },
    {
     "name": "stdout",
     "output_type": "stream",
     "text": [
      "Epoch 120, Loss 0.0262\n",
      "Training Accuracy: 0.9694, Testing Accuracy: 0.9733\n",
      "\n"
     ]
    },
    {
     "name": "stdout",
     "output_type": "stream",
     "text": [
      "Epoch 130, Loss 0.0254\n",
      "Training Accuracy: 0.9700, Testing Accuracy: 0.9733\n",
      "\n"
     ]
    },
    {
     "name": "stdout",
     "output_type": "stream",
     "text": [
      "Epoch 140, Loss 0.0246\n",
      "Training Accuracy: 0.9709, Testing Accuracy: 0.9733\n",
      "\n"
     ]
    },
    {
     "name": "stdout",
     "output_type": "stream",
     "text": [
      "Epoch 150, Loss 0.024\n",
      "Training Accuracy: 0.9719, Testing Accuracy: 0.9743\n",
      "\n"
     ]
    },
    {
     "name": "stdout",
     "output_type": "stream",
     "text": [
      "Epoch 160, Loss 0.0233\n",
      "Training Accuracy: 0.9724, Testing Accuracy: 0.9738\n",
      "\n"
     ]
    },
    {
     "name": "stdout",
     "output_type": "stream",
     "text": [
      "Epoch 170, Loss 0.0228\n",
      "Training Accuracy: 0.9731, Testing Accuracy: 0.9728\n",
      "\n"
     ]
    },
    {
     "name": "stdout",
     "output_type": "stream",
     "text": [
      "Epoch 180, Loss 0.0222\n",
      "Training Accuracy: 0.9745, Testing Accuracy: 0.9738\n",
      "\n"
     ]
    },
    {
     "name": "stdout",
     "output_type": "stream",
     "text": [
      "Epoch 190, Loss 0.0217\n",
      "Training Accuracy: 0.9754, Testing Accuracy: 0.9743\n",
      "\n"
     ]
    },
    {
     "name": "stdout",
     "output_type": "stream",
     "text": [
      "Epoch 200, Loss 0.0212\n",
      "Training Accuracy: 0.9760, Testing Accuracy: 0.9743\n",
      "\n"
     ]
    },
    {
     "name": "stdout",
     "output_type": "stream",
     "text": [
      "Epoch 210, Loss 0.0208\n",
      "Training Accuracy: 0.9767, Testing Accuracy: 0.9743\n",
      "\n"
     ]
    },
    {
     "name": "stdout",
     "output_type": "stream",
     "text": [
      "Epoch 220, Loss 0.0203\n",
      "Training Accuracy: 0.9771, Testing Accuracy: 0.9743\n",
      "\n"
     ]
    },
    {
     "name": "stdout",
     "output_type": "stream",
     "text": [
      "Epoch 230, Loss 0.0199\n",
      "Training Accuracy: 0.9777, Testing Accuracy: 0.9743\n",
      "\n"
     ]
    },
    {
     "name": "stdout",
     "output_type": "stream",
     "text": [
      "Epoch 240, Loss 0.0195\n",
      "Training Accuracy: 0.9782, Testing Accuracy: 0.9748\n",
      "\n"
     ]
    },
    {
     "data": {
      "text/plain": [
       "0.0024311517303014607"
      ]
     },
     "execution_count": 22,
     "metadata": {},
     "output_type": "execute_result"
    }
   ],
   "source": [
    "nn_learner.train_loop(dl)"
   ]
  },
  {
   "cell_type": "code",
   "execution_count": 23,
   "id": "e0163366",
   "metadata": {
    "execution": {
     "iopub.execute_input": "2022-10-16T10:13:09.886233Z",
     "iopub.status.busy": "2022-10-16T10:13:09.885496Z",
     "iopub.status.idle": "2022-10-16T10:13:26.022790Z",
     "shell.execute_reply": "2022-10-16T10:13:26.023815Z"
    },
    "papermill": {
     "duration": 16.189744,
     "end_time": "2022-10-16T10:13:26.023978",
     "exception": false,
     "start_time": "2022-10-16T10:13:09.834234",
     "status": "completed"
    },
    "tags": []
   },
   "outputs": [
    {
     "name": "stdout",
     "output_type": "stream",
     "text": [
      "Epoch 0, Loss 0.2525\n",
      "Training Accuracy: 0.6542, Testing Accuracy: 0.6623\n",
      "\n"
     ]
    },
    {
     "name": "stdout",
     "output_type": "stream",
     "text": [
      "Epoch 10, Loss 0.1041\n",
      "Training Accuracy: 0.9059, Testing Accuracy: 0.9199\n",
      "\n"
     ]
    },
    {
     "name": "stdout",
     "output_type": "stream",
     "text": [
      "Epoch 20, Loss 0.0799\n",
      "Training Accuracy: 0.9261, Testing Accuracy: 0.9420\n",
      "\n"
     ]
    },
    {
     "name": "stdout",
     "output_type": "stream",
     "text": [
      "Epoch 30, Loss 0.0688\n",
      "Training Accuracy: 0.9352, Testing Accuracy: 0.9481\n",
      "\n"
     ]
    },
    {
     "name": "stdout",
     "output_type": "stream",
     "text": [
      "Epoch 40, Loss 0.0621\n",
      "Training Accuracy: 0.9397, Testing Accuracy: 0.9511\n",
      "\n"
     ]
    },
    {
     "name": "stdout",
     "output_type": "stream",
     "text": [
      "Epoch 50, Loss 0.0576\n",
      "Training Accuracy: 0.9431, Testing Accuracy: 0.9526\n",
      "\n"
     ]
    },
    {
     "name": "stdout",
     "output_type": "stream",
     "text": [
      "Epoch 60, Loss 0.0543\n",
      "Training Accuracy: 0.9453, Testing Accuracy: 0.9556\n",
      "\n"
     ]
    },
    {
     "name": "stdout",
     "output_type": "stream",
     "text": [
      "Epoch 70, Loss 0.0517\n",
      "Training Accuracy: 0.9475, Testing Accuracy: 0.9587\n",
      "\n"
     ]
    },
    {
     "name": "stdout",
     "output_type": "stream",
     "text": [
      "Epoch 80, Loss 0.0496\n",
      "Training Accuracy: 0.9502, Testing Accuracy: 0.9607\n",
      "\n"
     ]
    },
    {
     "name": "stdout",
     "output_type": "stream",
     "text": [
      "Epoch 90, Loss 0.0479\n",
      "Training Accuracy: 0.9514, Testing Accuracy: 0.9612\n",
      "\n"
     ]
    },
    {
     "name": "stdout",
     "output_type": "stream",
     "text": [
      "Epoch 100, Loss 0.0464\n",
      "Training Accuracy: 0.9528, Testing Accuracy: 0.9627\n",
      "\n"
     ]
    },
    {
     "name": "stdout",
     "output_type": "stream",
     "text": [
      "Epoch 110, Loss 0.0452\n",
      "Training Accuracy: 0.9538, Testing Accuracy: 0.9632\n",
      "\n"
     ]
    },
    {
     "name": "stdout",
     "output_type": "stream",
     "text": [
      "Epoch 120, Loss 0.0441\n",
      "Training Accuracy: 0.9549, Testing Accuracy: 0.9627\n",
      "\n"
     ]
    },
    {
     "name": "stdout",
     "output_type": "stream",
     "text": [
      "Epoch 130, Loss 0.0432\n",
      "Training Accuracy: 0.9559, Testing Accuracy: 0.9637\n",
      "\n"
     ]
    },
    {
     "name": "stdout",
     "output_type": "stream",
     "text": [
      "Epoch 140, Loss 0.0423\n",
      "Training Accuracy: 0.9563, Testing Accuracy: 0.9642\n",
      "\n"
     ]
    },
    {
     "name": "stdout",
     "output_type": "stream",
     "text": [
      "Epoch 150, Loss 0.0416\n",
      "Training Accuracy: 0.9573, Testing Accuracy: 0.9637\n",
      "\n"
     ]
    },
    {
     "name": "stdout",
     "output_type": "stream",
     "text": [
      "Epoch 160, Loss 0.0409\n",
      "Training Accuracy: 0.9576, Testing Accuracy: 0.9632\n",
      "\n"
     ]
    },
    {
     "name": "stdout",
     "output_type": "stream",
     "text": [
      "Epoch 170, Loss 0.0403\n",
      "Training Accuracy: 0.9582, Testing Accuracy: 0.9637\n",
      "\n"
     ]
    },
    {
     "name": "stdout",
     "output_type": "stream",
     "text": [
      "Epoch 180, Loss 0.0397\n",
      "Training Accuracy: 0.9585, Testing Accuracy: 0.9642\n",
      "\n"
     ]
    },
    {
     "name": "stdout",
     "output_type": "stream",
     "text": [
      "Epoch 190, Loss 0.0392\n",
      "Training Accuracy: 0.9589, Testing Accuracy: 0.9652\n",
      "\n"
     ]
    },
    {
     "name": "stdout",
     "output_type": "stream",
     "text": [
      "Epoch 200, Loss 0.0387\n",
      "Training Accuracy: 0.9591, Testing Accuracy: 0.9652\n",
      "\n"
     ]
    },
    {
     "name": "stdout",
     "output_type": "stream",
     "text": [
      "Epoch 210, Loss 0.0382\n",
      "Training Accuracy: 0.9597, Testing Accuracy: 0.9652\n",
      "\n"
     ]
    },
    {
     "name": "stdout",
     "output_type": "stream",
     "text": [
      "Epoch 220, Loss 0.0378\n",
      "Training Accuracy: 0.9599, Testing Accuracy: 0.9657\n",
      "\n"
     ]
    },
    {
     "name": "stdout",
     "output_type": "stream",
     "text": [
      "Epoch 230, Loss 0.0374\n",
      "Training Accuracy: 0.9602, Testing Accuracy: 0.9662\n",
      "\n"
     ]
    },
    {
     "name": "stdout",
     "output_type": "stream",
     "text": [
      "Epoch 240, Loss 0.0371\n",
      "Training Accuracy: 0.9602, Testing Accuracy: 0.9662\n",
      "\n"
     ]
    },
    {
     "data": {
      "text/plain": [
       "0.0471989089449345"
      ]
     },
     "execution_count": 23,
     "metadata": {},
     "output_type": "execute_result"
    }
   ],
   "source": [
    "lr_learner.train_loop(dl)"
   ]
  },
  {
   "cell_type": "code",
   "execution_count": 24,
   "id": "ca410940",
   "metadata": {
    "execution": {
     "iopub.execute_input": "2022-10-16T10:13:26.129410Z",
     "iopub.status.busy": "2022-10-16T10:13:26.128679Z",
     "iopub.status.idle": "2022-10-16T10:13:26.403419Z",
     "shell.execute_reply": "2022-10-16T10:13:26.402803Z"
    },
    "papermill": {
     "duration": 0.330983,
     "end_time": "2022-10-16T10:13:26.403560",
     "exception": false,
     "start_time": "2022-10-16T10:13:26.072577",
     "status": "completed"
    },
    "tags": []
   },
   "outputs": [
    {
     "data": {
      "text/plain": [
       "<matplotlib.legend.Legend at 0x7fd1ad6cf320>"
      ]
     },
     "execution_count": 24,
     "metadata": {},
     "output_type": "execute_result"
    },
    {
     "data": {
      "image/png": "[encoded data removed]",
      "text/plain": [
       "<Figure size 1080x720 with 1 Axes>"
      ]
     },
     "metadata": {
      "needs_background": "light"
     },
     "output_type": "display_data"
    }
   ],
   "source": [
    "#comparing the results of NN and LR\n",
    "plt.figure(figsize=(15,10))\n",
    "\n",
    "# Neural Network plots\n",
    "plt.plot(acc_nn.accuracies, 'r-', label = \"Training Accuracies - NN\")\n",
    "plt.plot(acc_nn.test_accuracies, 'g-', label = \"Testing Accuracies - NN\")\n",
    "\n",
    "# Logistic Regression plots\n",
    "plt.plot(acc_lr.accuracies, 'k-', label = \"Training Accuracies - LR\")\n",
    "plt.plot(acc_lr.test_accuracies, 'b-', label = \"Testing Accuracies - LR\")\n",
    "plt.legend()"
   ]
  },
  {
   "cell_type": "markdown",
   "id": "80dfb35c",
   "metadata": {
    "papermill": {
     "duration": 0.049388,
     "end_time": "2022-10-16T10:13:26.502742",
     "exception": false,
     "start_time": "2022-10-16T10:13:26.453354",
     "status": "completed"
    },
    "tags": []
   },
   "source": [
    "#### Plotting the outputs of this layer of the NN.\n"
   ]
  },
  {
   "cell_type": "code",
   "execution_count": 25,
   "id": "45eb2ff5",
   "metadata": {
    "execution": {
     "iopub.execute_input": "2022-10-16T10:13:26.620190Z",
     "iopub.status.busy": "2022-10-16T10:13:26.616138Z",
     "iopub.status.idle": "2022-10-16T10:13:26.639169Z",
     "shell.execute_reply": "2022-10-16T10:13:26.639733Z"
    },
    "papermill": {
     "duration": 0.087173,
     "end_time": "2022-10-16T10:13:26.639886",
     "exception": false,
     "start_time": "2022-10-16T10:13:26.552713",
     "status": "completed"
    },
    "tags": []
   },
   "outputs": [],
   "source": [
    "new_model = Model(layers[:-2])\n",
    "testing_plot = new_model(testing_data_x)"
   ]
  },
  {
   "cell_type": "code",
   "execution_count": 26,
   "id": "4c0a5485",
   "metadata": {
    "execution": {
     "iopub.execute_input": "2022-10-16T10:13:26.746146Z",
     "iopub.status.busy": "2022-10-16T10:13:26.745397Z",
     "iopub.status.idle": "2022-10-16T10:13:26.995031Z",
     "shell.execute_reply": "2022-10-16T10:13:26.994440Z"
    },
    "papermill": {
     "duration": 0.305235,
     "end_time": "2022-10-16T10:13:26.995192",
     "exception": false,
     "start_time": "2022-10-16T10:13:26.689957",
     "status": "completed"
    },
    "tags": []
   },
   "outputs": [
    {
     "data": {
      "text/plain": [
       "Text(0.5, 1.0, 'Outputs')"
      ]
     },
     "execution_count": 26,
     "metadata": {},
     "output_type": "execute_result"
    },
    {
     "data": {
      "image/png": "[encoded data removed]",
      "text/plain": [
       "<Figure size 576x504 with 1 Axes>"
      ]
     },
     "metadata": {
      "needs_background": "light"
     },
     "output_type": "display_data"
    }
   ],
   "source": [
    "# Plotting the scatter plot of points and color coding by class\n",
    "plt.figure(figsize=(8,7))\n",
    "plt.scatter(testing_plot[:,0], testing_plot[:,1], alpha = 0.1, c = y_test.ravel());\n",
    "plt.title('Outputs')"
   ]
  },
  {
   "cell_type": "markdown",
   "id": "a74fcf8f",
   "metadata": {
    "papermill": {
     "duration": 0.05188,
     "end_time": "2022-10-16T10:13:27.099735",
     "exception": false,
     "start_time": "2022-10-16T10:13:27.047855",
     "status": "completed"
    },
    "tags": []
   },
   "source": [
    "Probability contours"
   ]
  },
  {
   "cell_type": "code",
   "execution_count": 27,
   "id": "d0afc8e3",
   "metadata": {
    "execution": {
     "iopub.execute_input": "2022-10-16T10:13:27.241378Z",
     "iopub.status.busy": "2022-10-16T10:13:27.240180Z",
     "iopub.status.idle": "2022-10-16T10:13:27.253846Z",
     "shell.execute_reply": "2022-10-16T10:13:27.253265Z"
    },
    "papermill": {
     "duration": 0.070921,
     "end_time": "2022-10-16T10:13:27.253971",
     "exception": false,
     "start_time": "2022-10-16T10:13:27.183050",
     "status": "completed"
    },
    "tags": []
   },
   "outputs": [],
   "source": [
    "model_prob = Model(layers[-2:]) "
   ]
  },
  {
   "cell_type": "code",
   "execution_count": 28,
   "id": "9b96e238",
   "metadata": {
    "execution": {
     "iopub.execute_input": "2022-10-16T10:13:27.373720Z",
     "iopub.status.busy": "2022-10-16T10:13:27.368079Z",
     "iopub.status.idle": "2022-10-16T10:13:27.384288Z",
     "shell.execute_reply": "2022-10-16T10:13:27.383742Z"
    },
    "papermill": {
     "duration": 0.077342,
     "end_time": "2022-10-16T10:13:27.384416",
     "exception": false,
     "start_time": "2022-10-16T10:13:27.307074",
     "status": "completed"
    },
    "tags": []
   },
   "outputs": [],
   "source": [
    "#creating the x and y ranges according to the above generated plot.\n",
    "x_range = np.linspace(-4, 1, 100) \n",
    "y_range = np.linspace(-6, 6, 100) \n",
    "x_grid, y_grid = np.meshgrid(x_range, y_range) # x_grid and y_grig are of size 100 X 100\n",
    "\n",
    "# converting x_grid and y_grid to continuous arrays\n",
    "x_gridflat = np.ravel(x_grid)\n",
    "y_gridflat = np.ravel(y_grid)\n",
    "\n",
    "# The last layer of the current model takes two columns as input. Hence transpose of np.vstack() is required.\n",
    "X = np.vstack((x_gridflat, y_gridflat)).T\n",
    "\n",
    "prob_contour = model_prob(X).reshape(100,100) "
   ]
  },
  {
   "cell_type": "code",
   "execution_count": 29,
   "id": "da72499a",
   "metadata": {
    "execution": {
     "iopub.execute_input": "2022-10-16T10:13:27.508888Z",
     "iopub.status.busy": "2022-10-16T10:13:27.508189Z",
     "iopub.status.idle": "2022-10-16T10:13:27.814966Z",
     "shell.execute_reply": "2022-10-16T10:13:27.814377Z"
    },
    "papermill": {
     "duration": 0.373426,
     "end_time": "2022-10-16T10:13:27.815098",
     "exception": false,
     "start_time": "2022-10-16T10:13:27.441672",
     "status": "completed"
    },
    "tags": []
   },
   "outputs": [
    {
     "data": {
      "image/png": "[encoded data removed]",
      "text/plain": [
       "<Figure size 720x648 with 1 Axes>"
      ]
     },
     "metadata": {
      "needs_background": "light"
     },
     "output_type": "display_data"
    }
   ],
   "source": [
    "plt.figure(figsize=(10,9))\n",
    "plt.scatter(testing_plot[:,0], testing_plot[:,1], alpha = 0.1, c = y_test.ravel())\n",
    "contours = plt.contour(x_grid,y_grid,prob_contour)\n",
    "plt.title('Probability Contours')\n",
    "plt.clabel(contours, inline = True );"
   ]
  },
  {
   "cell_type": "code",
   "execution_count": null,
   "id": "e81b4ac7",
   "metadata": {
    "papermill": {
     "duration": 0.055658,
     "end_time": "2022-10-16T10:13:27.926464",
     "exception": false,
     "start_time": "2022-10-16T10:13:27.870806",
     "status": "completed"
    },
    "tags": []
   },
   "outputs": [],
   "source": []
  }
 ],
 "metadata": {
  "kernelspec": {
   "display_name": "Python 3",
   "language": "python",
   "name": "python3"
  },
  "language_info": {
   "codemirror_mode": {
    "name": "ipython",
    "version": 3
   },
   "file_extension": ".py",
   "mimetype": "text/x-python",
   "name": "python",
   "nbconvert_exporter": "python",
   "pygments_lexer": "ipython3",
   "version": "3.6.15"
  },
  "papermill": {
   "default_parameters": {},
   "duration": 116.680451,
   "end_time": "2022-10-16T10:13:28.405281",
   "environment_variables": {},
   "exception": null,
   "input_path": "2020-08-11-part2.ipynb",
   "output_path": "2020-08-11-part2.ipynb",
   "parameters": {},
   "start_time": "2022-10-16T10:11:31.724830",
   "version": "2.3.3"
  }
 },
 "nbformat": 4,
 "nbformat_minor": 5
}