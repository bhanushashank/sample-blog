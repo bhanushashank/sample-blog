{
 "cells": [
  {
   "cell_type": "markdown",
   "id": "98380cd3",
   "metadata": {
    "papermill": {
     "duration": 0.036047,
     "end_time": "2022-06-04T10:10:14.993248",
     "exception": false,
     "start_time": "2022-06-04T10:10:14.957201",
     "status": "completed"
    },
    "tags": []
   },
   "source": [
    "# Distinguish Your Own Digits (DYOD)"
   ]
  },
  {
   "cell_type": "markdown",
   "id": "ef31240d",
   "metadata": {
    "papermill": {
     "duration": 0.029579,
     "end_time": "2022-06-04T10:10:15.051624",
     "exception": false,
     "start_time": "2022-06-04T10:10:15.022045",
     "status": "completed"
    },
    "tags": []
   },
   "source": [
    "You are going to write a classifier that distinguishes between the number 3 and number 8."
   ]
  },
  {
   "cell_type": "code",
   "execution_count": 1,
   "id": "b15c8646",
   "metadata": {
    "execution": {
     "iopub.execute_input": "2022-06-04T10:10:15.120023Z",
     "iopub.status.busy": "2022-06-04T10:10:15.119262Z",
     "iopub.status.idle": "2022-06-04T10:10:15.130747Z",
     "shell.execute_reply": "2022-06-04T10:10:15.130181Z"
    },
    "papermill": {
     "duration": 0.050725,
     "end_time": "2022-06-04T10:10:15.130885",
     "exception": false,
     "start_time": "2022-06-04T10:10:15.080160",
     "status": "completed"
    },
    "tags": []
   },
   "outputs": [],
   "source": [
    "%load_ext autoreload\n",
    "%autoreload 2"
   ]
  },
  {
   "cell_type": "code",
   "execution_count": 2,
   "id": "22ef38dc",
   "metadata": {
    "execution": {
     "iopub.execute_input": "2022-06-04T10:10:15.204073Z",
     "iopub.status.busy": "2022-06-04T10:10:15.203179Z",
     "iopub.status.idle": "2022-06-04T10:10:15.827371Z",
     "shell.execute_reply": "2022-06-04T10:10:15.826598Z"
    },
    "papermill": {
     "duration": 0.662398,
     "end_time": "2022-06-04T10:10:15.827513",
     "exception": false,
     "start_time": "2022-06-04T10:10:15.165115",
     "status": "completed"
    },
    "tags": []
   },
   "outputs": [],
   "source": [
    "%matplotlib inline\n",
    "import numpy as np\n",
    "import matplotlib.pyplot as plt\n",
    "import pandas as pd"
   ]
  },
  {
   "cell_type": "markdown",
   "id": "ba036198",
   "metadata": {
    "papermill": {
     "duration": 0.028209,
     "end_time": "2022-06-04T10:10:15.885754",
     "exception": false,
     "start_time": "2022-06-04T10:10:15.857545",
     "status": "completed"
    },
    "tags": []
   },
   "source": [
    "From the command line run `pip install mnist`. This is a library that will help you bring down the mnist dataset. If you run this from a notebook, you need to put  `!pip install mnist` in a cell by itself."
   ]
  },
  {
   "cell_type": "code",
   "execution_count": 3,
   "id": "bb6ad8a1",
   "metadata": {
    "execution": {
     "iopub.execute_input": "2022-06-04T10:10:15.972103Z",
     "iopub.status.busy": "2022-06-04T10:10:15.967162Z",
     "iopub.status.idle": "2022-06-04T10:10:17.915076Z",
     "shell.execute_reply": "2022-06-04T10:10:17.915609Z"
    },
    "papermill": {
     "duration": 1.998724,
     "end_time": "2022-06-04T10:10:17.915777",
     "exception": false,
     "start_time": "2022-06-04T10:10:15.917053",
     "status": "completed"
    },
    "tags": []
   },
   "outputs": [
    {
     "name": "stdout",
     "output_type": "stream",
     "text": [
      "Collecting mnist\r\n"
     ]
    },
    {
     "name": "stdout",
     "output_type": "stream",
     "text": [
      "  Downloading mnist-0.2.2-py2.py3-none-any.whl (3.5 kB)\r\n",
      "Requirement already satisfied: numpy in /opt/hostedtoolcache/Python/3.6.15/x64/lib/python3.6/site-packages (from mnist) (1.19.5)\r\n"
     ]
    },
    {
     "name": "stdout",
     "output_type": "stream",
     "text": [
      "Installing collected packages: mnist\r\n",
      "Successfully installed mnist-0.2.2\r\n"
     ]
    }
   ],
   "source": [
    "!pip install mnist"
   ]
  },
  {
   "cell_type": "markdown",
   "id": "69df9c9a",
   "metadata": {
    "papermill": {
     "duration": 0.028096,
     "end_time": "2022-06-04T10:10:17.974189",
     "exception": false,
     "start_time": "2022-06-04T10:10:17.946093",
     "status": "completed"
    },
    "tags": []
   },
   "source": [
    "## Preparing the Data"
   ]
  },
  {
   "cell_type": "code",
   "execution_count": 4,
   "id": "7f69d806",
   "metadata": {
    "execution": {
     "iopub.execute_input": "2022-06-04T10:10:18.053649Z",
     "iopub.status.busy": "2022-06-04T10:10:18.051208Z",
     "iopub.status.idle": "2022-06-04T10:10:18.057288Z",
     "shell.execute_reply": "2022-06-04T10:10:18.056324Z"
    },
    "papermill": {
     "duration": 0.053971,
     "end_time": "2022-06-04T10:10:18.057417",
     "exception": false,
     "start_time": "2022-06-04T10:10:18.003446",
     "status": "completed"
    },
    "tags": []
   },
   "outputs": [],
   "source": [
    "import mnist"
   ]
  },
  {
   "cell_type": "code",
   "execution_count": 5,
   "id": "a411e44f",
   "metadata": {
    "execution": {
     "iopub.execute_input": "2022-06-04T10:10:18.137119Z",
     "iopub.status.busy": "2022-06-04T10:10:18.134686Z",
     "iopub.status.idle": "2022-06-04T10:10:18.735480Z",
     "shell.execute_reply": "2022-06-04T10:10:18.734897Z"
    },
    "papermill": {
     "duration": 0.647645,
     "end_time": "2022-06-04T10:10:18.735618",
     "exception": false,
     "start_time": "2022-06-04T10:10:18.087973",
     "status": "completed"
    },
    "tags": []
   },
   "outputs": [],
   "source": [
    "train_images = mnist.train_images()\n",
    "train_labels = mnist.train_labels()"
   ]
  },
  {
   "cell_type": "code",
   "execution_count": 6,
   "id": "dceab3a5",
   "metadata": {
    "execution": {
     "iopub.execute_input": "2022-06-04T10:10:18.800889Z",
     "iopub.status.busy": "2022-06-04T10:10:18.799921Z",
     "iopub.status.idle": "2022-06-04T10:10:18.816417Z",
     "shell.execute_reply": "2022-06-04T10:10:18.816927Z"
    },
    "papermill": {
     "duration": 0.052355,
     "end_time": "2022-06-04T10:10:18.817068",
     "exception": false,
     "start_time": "2022-06-04T10:10:18.764713",
     "status": "completed"
    },
    "tags": []
   },
   "outputs": [
    {
     "data": {
      "text/plain": [
       "((60000, 28, 28), (60000,))"
      ]
     },
     "execution_count": 6,
     "metadata": {},
     "output_type": "execute_result"
    }
   ],
   "source": [
    "train_images.shape, train_labels.shape"
   ]
  },
  {
   "cell_type": "code",
   "execution_count": 7,
   "id": "f50dc2bb",
   "metadata": {
    "execution": {
     "iopub.execute_input": "2022-06-04T10:10:18.887070Z",
     "iopub.status.busy": "2022-06-04T10:10:18.882868Z",
     "iopub.status.idle": "2022-06-04T10:10:19.081122Z",
     "shell.execute_reply": "2022-06-04T10:10:19.080451Z"
    },
    "papermill": {
     "duration": 0.234744,
     "end_time": "2022-06-04T10:10:19.081272",
     "exception": false,
     "start_time": "2022-06-04T10:10:18.846528",
     "status": "completed"
    },
    "tags": []
   },
   "outputs": [],
   "source": [
    "test_images = mnist.test_images()\n",
    "test_labels = mnist.test_labels()"
   ]
  },
  {
   "cell_type": "code",
   "execution_count": 8,
   "id": "fc38cf1b",
   "metadata": {
    "execution": {
     "iopub.execute_input": "2022-06-04T10:10:19.146878Z",
     "iopub.status.busy": "2022-06-04T10:10:19.146132Z",
     "iopub.status.idle": "2022-06-04T10:10:19.162108Z",
     "shell.execute_reply": "2022-06-04T10:10:19.161553Z"
    },
    "papermill": {
     "duration": 0.050377,
     "end_time": "2022-06-04T10:10:19.162233",
     "exception": false,
     "start_time": "2022-06-04T10:10:19.111856",
     "status": "completed"
    },
    "tags": []
   },
   "outputs": [
    {
     "data": {
      "text/plain": [
       "((10000, 28, 28), (10000,))"
      ]
     },
     "execution_count": 8,
     "metadata": {},
     "output_type": "execute_result"
    }
   ],
   "source": [
    "test_images.shape, test_labels.shape"
   ]
  },
  {
   "cell_type": "code",
   "execution_count": 9,
   "id": "f9ed8fe0",
   "metadata": {
    "execution": {
     "iopub.execute_input": "2022-06-04T10:10:19.226311Z",
     "iopub.status.busy": "2022-06-04T10:10:19.225619Z",
     "iopub.status.idle": "2022-06-04T10:10:19.399747Z",
     "shell.execute_reply": "2022-06-04T10:10:19.400272Z"
    },
    "papermill": {
     "duration": 0.208657,
     "end_time": "2022-06-04T10:10:19.400430",
     "exception": false,
     "start_time": "2022-06-04T10:10:19.191773",
     "status": "completed"
    },
    "tags": []
   },
   "outputs": [
    {
     "name": "stdout",
     "output_type": "stream",
     "text": [
      "2\n"
     ]
    },
    {
     "data": {
      "text/plain": [
       "<matplotlib.image.AxesImage at 0x7f9f28ab0358>"
      ]
     },
     "execution_count": 9,
     "metadata": {},
     "output_type": "execute_result"
    },
    {
     "data": {
      "image/png": "[encoded data removed]",
      "text/plain": [
       "<Figure size 432x288 with 1 Axes>"
      ]
     },
     "metadata": {
      "needs_background": "light"
     },
     "output_type": "display_data"
    }
   ],
   "source": [
    "image_index = 7776 # You may select anything up to 60,000\n",
    "print(train_labels[image_index]) \n",
    "plt.imshow(train_images[image_index], cmap='Greys')"
   ]
  },
  {
   "cell_type": "markdown",
   "id": "a8d2388d",
   "metadata": {
    "papermill": {
     "duration": 0.033434,
     "end_time": "2022-06-04T10:10:19.465584",
     "exception": false,
     "start_time": "2022-06-04T10:10:19.432150",
     "status": "completed"
    },
    "tags": []
   },
   "source": [
    "## Filter data to get 3 and 8 out"
   ]
  },
  {
   "cell_type": "code",
   "execution_count": 10,
   "id": "776f7fc7",
   "metadata": {
    "execution": {
     "iopub.execute_input": "2022-06-04T10:10:19.536252Z",
     "iopub.status.busy": "2022-06-04T10:10:19.535575Z",
     "iopub.status.idle": "2022-06-04T10:10:19.555140Z",
     "shell.execute_reply": "2022-06-04T10:10:19.554535Z"
    },
    "papermill": {
     "duration": 0.057808,
     "end_time": "2022-06-04T10:10:19.555277",
     "exception": false,
     "start_time": "2022-06-04T10:10:19.497469",
     "status": "completed"
    },
    "tags": []
   },
   "outputs": [],
   "source": [
    "train_filter = np.where((train_labels == 3 ) | (train_labels == 8))\n",
    "test_filter = np.where((test_labels == 3) | (test_labels == 8))\n",
    "X_train, y_train = train_images[train_filter], train_labels[train_filter]\n",
    "X_test, y_test = test_images[test_filter], test_labels[test_filter]"
   ]
  },
  {
   "cell_type": "markdown",
   "id": "948f0b7e",
   "metadata": {
    "papermill": {
     "duration": 0.033195,
     "end_time": "2022-06-04T10:10:19.620368",
     "exception": false,
     "start_time": "2022-06-04T10:10:19.587173",
     "status": "completed"
    },
    "tags": []
   },
   "source": [
    "We normalize the pizel values in the 0 to 1 range"
   ]
  },
  {
   "cell_type": "code",
   "execution_count": 11,
   "id": "ee4c2166",
   "metadata": {
    "execution": {
     "iopub.execute_input": "2022-06-04T10:10:19.695079Z",
     "iopub.status.busy": "2022-06-04T10:10:19.694352Z",
     "iopub.status.idle": "2022-06-04T10:10:19.754800Z",
     "shell.execute_reply": "2022-06-04T10:10:19.754134Z"
    },
    "papermill": {
     "duration": 0.101842,
     "end_time": "2022-06-04T10:10:19.754950",
     "exception": false,
     "start_time": "2022-06-04T10:10:19.653108",
     "status": "completed"
    },
    "tags": []
   },
   "outputs": [],
   "source": [
    "X_train = X_train/255.\n",
    "X_test = X_test/255."
   ]
  },
  {
   "cell_type": "markdown",
   "id": "ddcf4fab",
   "metadata": {
    "papermill": {
     "duration": 0.031295,
     "end_time": "2022-06-04T10:10:19.818890",
     "exception": false,
     "start_time": "2022-06-04T10:10:19.787595",
     "status": "completed"
    },
    "tags": []
   },
   "source": [
    "And setup the labels as 1 (when the digit is 3) and 0 (when the digit is 8)"
   ]
  },
  {
   "cell_type": "code",
   "execution_count": 12,
   "id": "7dc908f2",
   "metadata": {
    "execution": {
     "iopub.execute_input": "2022-06-04T10:10:19.892755Z",
     "iopub.status.busy": "2022-06-04T10:10:19.892039Z",
     "iopub.status.idle": "2022-06-04T10:10:19.901450Z",
     "shell.execute_reply": "2022-06-04T10:10:19.901990Z"
    },
    "papermill": {
     "duration": 0.051587,
     "end_time": "2022-06-04T10:10:19.902138",
     "exception": false,
     "start_time": "2022-06-04T10:10:19.850551",
     "status": "completed"
    },
    "tags": []
   },
   "outputs": [],
   "source": [
    "y_train = 1*(y_train==3)\n",
    "y_test = 1*(y_test==3)"
   ]
  },
  {
   "cell_type": "code",
   "execution_count": 13,
   "id": "01e4e969",
   "metadata": {
    "execution": {
     "iopub.execute_input": "2022-06-04T10:10:19.981516Z",
     "iopub.status.busy": "2022-06-04T10:10:19.980753Z",
     "iopub.status.idle": "2022-06-04T10:10:19.989616Z",
     "shell.execute_reply": "2022-06-04T10:10:19.989005Z"
    },
    "papermill": {
     "duration": 0.056519,
     "end_time": "2022-06-04T10:10:19.989765",
     "exception": false,
     "start_time": "2022-06-04T10:10:19.933246",
     "status": "completed"
    },
    "tags": []
   },
   "outputs": [
    {
     "data": {
      "text/plain": [
       "((11982, 28, 28), (1984, 28, 28))"
      ]
     },
     "execution_count": 13,
     "metadata": {},
     "output_type": "execute_result"
    }
   ],
   "source": [
    "X_train.shape, X_test.shape"
   ]
  },
  {
   "cell_type": "markdown",
   "id": "5ccf3f85",
   "metadata": {
    "papermill": {
     "duration": 0.032345,
     "end_time": "2022-06-04T10:10:20.053600",
     "exception": false,
     "start_time": "2022-06-04T10:10:20.021255",
     "status": "completed"
    },
    "tags": []
   },
   "source": [
    "We reshape the data to flatten the image pixels into a set of features or co-variates:"
   ]
  },
  {
   "cell_type": "code",
   "execution_count": 14,
   "id": "5286a4a3",
   "metadata": {
    "execution": {
     "iopub.execute_input": "2022-06-04T10:10:20.141014Z",
     "iopub.status.busy": "2022-06-04T10:10:20.140355Z",
     "iopub.status.idle": "2022-06-04T10:10:20.145905Z",
     "shell.execute_reply": "2022-06-04T10:10:20.146487Z"
    },
    "papermill": {
     "duration": 0.057218,
     "end_time": "2022-06-04T10:10:20.146660",
     "exception": false,
     "start_time": "2022-06-04T10:10:20.089442",
     "status": "completed"
    },
    "tags": []
   },
   "outputs": [
    {
     "data": {
      "text/plain": [
       "((11982, 784), (1984, 784))"
      ]
     },
     "execution_count": 14,
     "metadata": {},
     "output_type": "execute_result"
    }
   ],
   "source": [
    "X_train = X_train.reshape(X_train.shape[0], -1)\n",
    "X_test = X_test.reshape(X_test.shape[0], -1)\n",
    "X_train.shape, X_test.shape"
   ]
  },
  {
   "cell_type": "code",
   "execution_count": 15,
   "id": "73c5f88a",
   "metadata": {
    "execution": {
     "iopub.execute_input": "2022-06-04T10:10:20.231442Z",
     "iopub.status.busy": "2022-06-04T10:10:20.223182Z",
     "iopub.status.idle": "2022-06-04T10:10:20.237346Z",
     "shell.execute_reply": "2022-06-04T10:10:20.236816Z"
    },
    "papermill": {
     "duration": 0.060123,
     "end_time": "2022-06-04T10:10:20.237463",
     "exception": false,
     "start_time": "2022-06-04T10:10:20.177340",
     "status": "completed"
    },
    "tags": []
   },
   "outputs": [],
   "source": [
    "#Impoting functions from 'Kudzu'\n",
    "from kudzu.model import Model\n",
    "from kudzu.train import Learner\n",
    "from kudzu.optim import GD\n",
    "from kudzu.data import Data, Sampler,Dataloader\n",
    "\n",
    "from kudzu.callbacks import AccCallback\n",
    "from kudzu.callbacks import ClfCallback\n",
    "\n",
    "from kudzu.loss import MSE\n",
    "\n",
    "from kudzu.layer import Sigmoid,Relu\n",
    "from kudzu.layer import Affine"
   ]
  },
  {
   "cell_type": "markdown",
   "id": "bc01172a",
   "metadata": {
    "papermill": {
     "duration": 0.031315,
     "end_time": "2022-06-04T10:10:20.300663",
     "exception": false,
     "start_time": "2022-06-04T10:10:20.269348",
     "status": "completed"
    },
    "tags": []
   },
   "source": [
    "### Let us create a `Config` class, to store important parameters. \n",
    "This class essentially plays the role of a dictionary."
   ]
  },
  {
   "cell_type": "code",
   "execution_count": 16,
   "id": "978281aa",
   "metadata": {
    "execution": {
     "iopub.execute_input": "2022-06-04T10:10:20.371977Z",
     "iopub.status.busy": "2022-06-04T10:10:20.371218Z",
     "iopub.status.idle": "2022-06-04T10:10:20.383885Z",
     "shell.execute_reply": "2022-06-04T10:10:20.383108Z"
    },
    "papermill": {
     "duration": 0.051639,
     "end_time": "2022-06-04T10:10:20.384010",
     "exception": false,
     "start_time": "2022-06-04T10:10:20.332371",
     "status": "completed"
    },
    "tags": []
   },
   "outputs": [],
   "source": [
    "class Config:\n",
    "    pass\n",
    "config = Config()\n",
    "config.lr = 0.001\n",
    "config.num_epochs = 250\n",
    "config.bs = 50"
   ]
  },
  {
   "cell_type": "markdown",
   "id": "1385fa59",
   "metadata": {
    "papermill": {
     "duration": 0.030005,
     "end_time": "2022-06-04T10:10:20.444945",
     "exception": false,
     "start_time": "2022-06-04T10:10:20.414940",
     "status": "completed"
    },
    "tags": []
   },
   "source": [
    "### Running Models with the Training data\n",
    "Details about the network layers:\n",
    "- A first affine layer has 784 inputs and does 100 affine transforms. These are followed by a Relu\n",
    "- A second affine layer has 100 inputs from the 100 activations of the past layer, and does 100 affine transforms. These are followed by a Relu\n",
    "- A third affine layer has 100 activations and does 2 affine transformations to create an embedding for visualization. There is no non-linearity here.\n",
    "- A final \"logistic regression\" which has an affine transform from 2 inputs to 1 output, which is squeezed through a sigmoid.\n"
   ]
  },
  {
   "cell_type": "code",
   "execution_count": 17,
   "id": "2b9c66db",
   "metadata": {
    "execution": {
     "iopub.execute_input": "2022-06-04T10:10:20.528186Z",
     "iopub.status.busy": "2022-06-04T10:10:20.526711Z",
     "iopub.status.idle": "2022-06-04T10:10:20.531610Z",
     "shell.execute_reply": "2022-06-04T10:10:20.530719Z"
    },
    "papermill": {
     "duration": 0.055244,
     "end_time": "2022-06-04T10:10:20.531730",
     "exception": false,
     "start_time": "2022-06-04T10:10:20.476486",
     "status": "completed"
    },
    "tags": []
   },
   "outputs": [],
   "source": [
    "data = Data(X_train, y_train.reshape(-1,1))\n",
    "sampler = Sampler(data, config.bs, shuffle=True)\n",
    "\n",
    "dl = Dataloader(data, sampler)\n",
    "\n",
    "opt = GD(config.lr)\n",
    "loss = MSE()"
   ]
  },
  {
   "cell_type": "code",
   "execution_count": 18,
   "id": "b275e4c2",
   "metadata": {
    "execution": {
     "iopub.execute_input": "2022-06-04T10:10:20.613992Z",
     "iopub.status.busy": "2022-06-04T10:10:20.613280Z",
     "iopub.status.idle": "2022-06-04T10:10:20.618896Z",
     "shell.execute_reply": "2022-06-04T10:10:20.619512Z"
    },
    "papermill": {
     "duration": 0.056174,
     "end_time": "2022-06-04T10:10:20.619655",
     "exception": false,
     "start_time": "2022-06-04T10:10:20.563481",
     "status": "completed"
    },
    "tags": []
   },
   "outputs": [],
   "source": [
    "training_data_x = X_train\n",
    "testing_data_x = X_test\n",
    "training_data_y = y_train.reshape(-1,1)\n",
    "testing_data_y = y_test.reshape(-1,1)"
   ]
  },
  {
   "cell_type": "code",
   "execution_count": 19,
   "id": "76951160",
   "metadata": {
    "execution": {
     "iopub.execute_input": "2022-06-04T10:10:20.695561Z",
     "iopub.status.busy": "2022-06-04T10:10:20.687670Z",
     "iopub.status.idle": "2022-06-04T10:10:20.707159Z",
     "shell.execute_reply": "2022-06-04T10:10:20.706540Z"
    },
    "papermill": {
     "duration": 0.056019,
     "end_time": "2022-06-04T10:10:20.707325",
     "exception": false,
     "start_time": "2022-06-04T10:10:20.651306",
     "status": "completed"
    },
    "tags": []
   },
   "outputs": [
    {
     "name": "stdout",
     "output_type": "stream",
     "text": [
      "xavier\n",
      "xavier\n",
      "xavier\n",
      "xavier\n",
      "xavier\n"
     ]
    }
   ],
   "source": [
    "layers = [Affine(\"first\", 784, 100), Relu(\"first\"), Affine(\"second\", 100, 100), Relu(\"second\"), Affine(\"third\", 100, 2), Affine(\"last\", 2, 1), Sigmoid(\"last\")]\n",
    "model_nn = Model(layers)\n",
    "model_lr = Model([Affine(\"logits\", 784, 1), Sigmoid(\"sigmoid\")])"
   ]
  },
  {
   "cell_type": "code",
   "execution_count": 20,
   "id": "6eede77a",
   "metadata": {
    "execution": {
     "iopub.execute_input": "2022-06-04T10:10:20.779700Z",
     "iopub.status.busy": "2022-06-04T10:10:20.779005Z",
     "iopub.status.idle": "2022-06-04T10:10:20.791698Z",
     "shell.execute_reply": "2022-06-04T10:10:20.790793Z"
    },
    "papermill": {
     "duration": 0.05298,
     "end_time": "2022-06-04T10:10:20.791888",
     "exception": false,
     "start_time": "2022-06-04T10:10:20.738908",
     "status": "completed"
    },
    "tags": []
   },
   "outputs": [],
   "source": [
    "nn_learner = Learner(loss, model_nn, opt, config.num_epochs)\n",
    "acc_nn = ClfCallback(nn_learner, config.bs, training_data_x , testing_data_x, training_data_y, testing_data_y)\n",
    "nn_learner.set_callbacks([acc_nn])"
   ]
  },
  {
   "cell_type": "code",
   "execution_count": 21,
   "id": "877b6cc7",
   "metadata": {
    "execution": {
     "iopub.execute_input": "2022-06-04T10:10:20.879023Z",
     "iopub.status.busy": "2022-06-04T10:10:20.871416Z",
     "iopub.status.idle": "2022-06-04T10:10:20.881974Z",
     "shell.execute_reply": "2022-06-04T10:10:20.881395Z"
    },
    "papermill": {
     "duration": 0.057265,
     "end_time": "2022-06-04T10:10:20.882126",
     "exception": false,
     "start_time": "2022-06-04T10:10:20.824861",
     "status": "completed"
    },
    "tags": []
   },
   "outputs": [],
   "source": [
    "lr_learner = Learner(loss, model_lr, opt, config.num_epochs)\n",
    "acc_lr = ClfCallback(lr_learner, config.bs, training_data_x , testing_data_x, training_data_y, testing_data_y)\n",
    "lr_learner.set_callbacks([acc_lr])"
   ]
  },
  {
   "cell_type": "code",
   "execution_count": 22,
   "id": "d9b133c3",
   "metadata": {
    "execution": {
     "iopub.execute_input": "2022-06-04T10:10:20.954916Z",
     "iopub.status.busy": "2022-06-04T10:10:20.954224Z",
     "iopub.status.idle": "2022-06-04T10:12:27.253975Z",
     "shell.execute_reply": "2022-06-04T10:12:27.254674Z"
    },
    "papermill": {
     "duration": 126.33854,
     "end_time": "2022-06-04T10:12:27.254844",
     "exception": false,
     "start_time": "2022-06-04T10:10:20.916304",
     "status": "completed"
    },
    "tags": []
   },
   "outputs": [
    {
     "name": "stdout",
     "output_type": "stream",
     "text": [
      "Epoch 0, Loss 0.2513\n",
      "Training Accuracy: 0.4241, Testing Accuracy: 0.4259\n",
      "\n"
     ]
    },
    {
     "name": "stdout",
     "output_type": "stream",
     "text": [
      "Epoch 10, Loss 0.2479\n",
      "Training Accuracy: 0.6049, Testing Accuracy: 0.6336\n",
      "\n"
     ]
    },
    {
     "name": "stdout",
     "output_type": "stream",
     "text": [
      "Epoch 20, Loss 0.2405\n",
      "Training Accuracy: 0.7833, Testing Accuracy: 0.8216\n",
      "\n"
     ]
    },
    {
     "name": "stdout",
     "output_type": "stream",
     "text": [
      "Epoch 30, Loss 0.2089\n",
      "Training Accuracy: 0.8857, Testing Accuracy: 0.9083\n",
      "\n"
     ]
    },
    {
     "name": "stdout",
     "output_type": "stream",
     "text": [
      "Epoch 40, Loss 0.1123\n",
      "Training Accuracy: 0.9179, Testing Accuracy: 0.9365\n",
      "\n"
     ]
    },
    {
     "name": "stdout",
     "output_type": "stream",
     "text": [
      "Epoch 50, Loss 0.0644\n",
      "Training Accuracy: 0.9369, Testing Accuracy: 0.9521\n",
      "\n"
     ]
    },
    {
     "name": "stdout",
     "output_type": "stream",
     "text": [
      "Epoch 60, Loss 0.0495\n",
      "Training Accuracy: 0.9457, Testing Accuracy: 0.9582\n",
      "\n"
     ]
    },
    {
     "name": "stdout",
     "output_type": "stream",
     "text": [
      "Epoch 70, Loss 0.0424\n",
      "Training Accuracy: 0.9517, Testing Accuracy: 0.9632\n",
      "\n"
     ]
    },
    {
     "name": "stdout",
     "output_type": "stream",
     "text": [
      "Epoch 80, Loss 0.0382\n",
      "Training Accuracy: 0.9553, Testing Accuracy: 0.9647\n",
      "\n"
     ]
    },
    {
     "name": "stdout",
     "output_type": "stream",
     "text": [
      "Epoch 90, Loss 0.0353\n",
      "Training Accuracy: 0.9587, Testing Accuracy: 0.9682\n",
      "\n"
     ]
    },
    {
     "name": "stdout",
     "output_type": "stream",
     "text": [
      "Epoch 100, Loss 0.0332\n",
      "Training Accuracy: 0.9604, Testing Accuracy: 0.9682\n",
      "\n"
     ]
    },
    {
     "name": "stdout",
     "output_type": "stream",
     "text": [
      "Epoch 110, Loss 0.0315\n",
      "Training Accuracy: 0.9619, Testing Accuracy: 0.9688\n",
      "\n"
     ]
    },
    {
     "name": "stdout",
     "output_type": "stream",
     "text": [
      "Epoch 120, Loss 0.0301\n",
      "Training Accuracy: 0.9632, Testing Accuracy: 0.9688\n",
      "\n"
     ]
    },
    {
     "name": "stdout",
     "output_type": "stream",
     "text": [
      "Epoch 130, Loss 0.0289\n",
      "Training Accuracy: 0.9643, Testing Accuracy: 0.9693\n",
      "\n"
     ]
    },
    {
     "name": "stdout",
     "output_type": "stream",
     "text": [
      "Epoch 140, Loss 0.0279\n",
      "Training Accuracy: 0.9653, Testing Accuracy: 0.9688\n",
      "\n"
     ]
    },
    {
     "name": "stdout",
     "output_type": "stream",
     "text": [
      "Epoch 150, Loss 0.027\n",
      "Training Accuracy: 0.9664, Testing Accuracy: 0.9693\n",
      "\n"
     ]
    },
    {
     "name": "stdout",
     "output_type": "stream",
     "text": [
      "Epoch 160, Loss 0.0262\n",
      "Training Accuracy: 0.9676, Testing Accuracy: 0.9703\n",
      "\n"
     ]
    },
    {
     "name": "stdout",
     "output_type": "stream",
     "text": [
      "Epoch 170, Loss 0.0255\n",
      "Training Accuracy: 0.9684, Testing Accuracy: 0.9718\n",
      "\n"
     ]
    },
    {
     "name": "stdout",
     "output_type": "stream",
     "text": [
      "Epoch 180, Loss 0.0248\n",
      "Training Accuracy: 0.9695, Testing Accuracy: 0.9723\n",
      "\n"
     ]
    },
    {
     "name": "stdout",
     "output_type": "stream",
     "text": [
      "Epoch 190, Loss 0.0242\n",
      "Training Accuracy: 0.9698, Testing Accuracy: 0.9723\n",
      "\n"
     ]
    },
    {
     "name": "stdout",
     "output_type": "stream",
     "text": [
      "Epoch 200, Loss 0.0236\n",
      "Training Accuracy: 0.9710, Testing Accuracy: 0.9723\n",
      "\n"
     ]
    },
    {
     "name": "stdout",
     "output_type": "stream",
     "text": [
      "Epoch 210, Loss 0.0231\n",
      "Training Accuracy: 0.9715, Testing Accuracy: 0.9728\n",
      "\n"
     ]
    },
    {
     "name": "stdout",
     "output_type": "stream",
     "text": [
      "Epoch 220, Loss 0.0226\n",
      "Training Accuracy: 0.9725, Testing Accuracy: 0.9738\n",
      "\n"
     ]
    },
    {
     "name": "stdout",
     "output_type": "stream",
     "text": [
      "Epoch 230, Loss 0.0221\n",
      "Training Accuracy: 0.9733, Testing Accuracy: 0.9743\n",
      "\n"
     ]
    },
    {
     "name": "stdout",
     "output_type": "stream",
     "text": [
      "Epoch 240, Loss 0.0216\n",
      "Training Accuracy: 0.9741, Testing Accuracy: 0.9738\n",
      "\n"
     ]
    },
    {
     "data": {
      "text/plain": [
       "0.03628218371813269"
      ]
     },
     "execution_count": 22,
     "metadata": {},
     "output_type": "execute_result"
    }
   ],
   "source": [
    "nn_learner.train_loop(dl)"
   ]
  },
  {
   "cell_type": "code",
   "execution_count": 23,
   "id": "e0163366",
   "metadata": {
    "execution": {
     "iopub.execute_input": "2022-06-04T10:12:27.352745Z",
     "iopub.status.busy": "2022-06-04T10:12:27.351443Z",
     "iopub.status.idle": "2022-06-04T10:12:45.422134Z",
     "shell.execute_reply": "2022-06-04T10:12:45.423225Z"
    },
    "papermill": {
     "duration": 18.128485,
     "end_time": "2022-06-04T10:12:45.423380",
     "exception": false,
     "start_time": "2022-06-04T10:12:27.294895",
     "status": "completed"
    },
    "tags": []
   },
   "outputs": [
    {
     "name": "stdout",
     "output_type": "stream",
     "text": [
      "Epoch 0, Loss 0.1949\n",
      "Training Accuracy: 0.8039, Testing Accuracy: 0.8054\n",
      "\n"
     ]
    },
    {
     "name": "stdout",
     "output_type": "stream",
     "text": [
      "Epoch 10, Loss 0.0994\n",
      "Training Accuracy: 0.9127, Testing Accuracy: 0.9158\n",
      "\n"
     ]
    },
    {
     "name": "stdout",
     "output_type": "stream",
     "text": [
      "Epoch 20, Loss 0.0779\n",
      "Training Accuracy: 0.9288, Testing Accuracy: 0.9380\n",
      "\n"
     ]
    },
    {
     "name": "stdout",
     "output_type": "stream",
     "text": [
      "Epoch 30, Loss 0.0676\n",
      "Training Accuracy: 0.9377, Testing Accuracy: 0.9461\n",
      "\n"
     ]
    },
    {
     "name": "stdout",
     "output_type": "stream",
     "text": [
      "Epoch 40, Loss 0.0612\n",
      "Training Accuracy: 0.9432, Testing Accuracy: 0.9486\n",
      "\n"
     ]
    },
    {
     "name": "stdout",
     "output_type": "stream",
     "text": [
      "Epoch 50, Loss 0.0568\n",
      "Training Accuracy: 0.9463, Testing Accuracy: 0.9516\n",
      "\n"
     ]
    },
    {
     "name": "stdout",
     "output_type": "stream",
     "text": [
      "Epoch 60, Loss 0.0536\n",
      "Training Accuracy: 0.9483, Testing Accuracy: 0.9551\n",
      "\n"
     ]
    },
    {
     "name": "stdout",
     "output_type": "stream",
     "text": [
      "Epoch 70, Loss 0.0511\n",
      "Training Accuracy: 0.9494, Testing Accuracy: 0.9561\n",
      "\n"
     ]
    },
    {
     "name": "stdout",
     "output_type": "stream",
     "text": [
      "Epoch 80, Loss 0.0491\n",
      "Training Accuracy: 0.9506, Testing Accuracy: 0.9602\n",
      "\n"
     ]
    },
    {
     "name": "stdout",
     "output_type": "stream",
     "text": [
      "Epoch 90, Loss 0.0474\n",
      "Training Accuracy: 0.9523, Testing Accuracy: 0.9617\n",
      "\n"
     ]
    },
    {
     "name": "stdout",
     "output_type": "stream",
     "text": [
      "Epoch 100, Loss 0.046\n",
      "Training Accuracy: 0.9532, Testing Accuracy: 0.9632\n",
      "\n"
     ]
    },
    {
     "name": "stdout",
     "output_type": "stream",
     "text": [
      "Epoch 110, Loss 0.0447\n",
      "Training Accuracy: 0.9540, Testing Accuracy: 0.9642\n",
      "\n"
     ]
    },
    {
     "name": "stdout",
     "output_type": "stream",
     "text": [
      "Epoch 120, Loss 0.0437\n",
      "Training Accuracy: 0.9547, Testing Accuracy: 0.9647\n",
      "\n"
     ]
    },
    {
     "name": "stdout",
     "output_type": "stream",
     "text": [
      "Epoch 130, Loss 0.0428\n",
      "Training Accuracy: 0.9558, Testing Accuracy: 0.9657\n",
      "\n"
     ]
    },
    {
     "name": "stdout",
     "output_type": "stream",
     "text": [
      "Epoch 140, Loss 0.0419\n",
      "Training Accuracy: 0.9568, Testing Accuracy: 0.9657\n",
      "\n"
     ]
    },
    {
     "name": "stdout",
     "output_type": "stream",
     "text": [
      "Epoch 150, Loss 0.0412\n",
      "Training Accuracy: 0.9567, Testing Accuracy: 0.9657\n",
      "\n"
     ]
    },
    {
     "name": "stdout",
     "output_type": "stream",
     "text": [
      "Epoch 160, Loss 0.0405\n",
      "Training Accuracy: 0.9578, Testing Accuracy: 0.9662\n",
      "\n"
     ]
    },
    {
     "name": "stdout",
     "output_type": "stream",
     "text": [
      "Epoch 170, Loss 0.0399\n",
      "Training Accuracy: 0.9584, Testing Accuracy: 0.9662\n",
      "\n"
     ]
    },
    {
     "name": "stdout",
     "output_type": "stream",
     "text": [
      "Epoch 180, Loss 0.0393\n",
      "Training Accuracy: 0.9587, Testing Accuracy: 0.9677\n",
      "\n"
     ]
    },
    {
     "name": "stdout",
     "output_type": "stream",
     "text": [
      "Epoch 190, Loss 0.0388\n",
      "Training Accuracy: 0.9590, Testing Accuracy: 0.9682\n",
      "\n"
     ]
    },
    {
     "name": "stdout",
     "output_type": "stream",
     "text": [
      "Epoch 200, Loss 0.0383\n",
      "Training Accuracy: 0.9596, Testing Accuracy: 0.9682\n",
      "\n"
     ]
    },
    {
     "name": "stdout",
     "output_type": "stream",
     "text": [
      "Epoch 210, Loss 0.0379\n",
      "Training Accuracy: 0.9601, Testing Accuracy: 0.9688\n",
      "\n"
     ]
    },
    {
     "name": "stdout",
     "output_type": "stream",
     "text": [
      "Epoch 220, Loss 0.0375\n",
      "Training Accuracy: 0.9604, Testing Accuracy: 0.9688\n",
      "\n"
     ]
    },
    {
     "name": "stdout",
     "output_type": "stream",
     "text": [
      "Epoch 230, Loss 0.0371\n",
      "Training Accuracy: 0.9604, Testing Accuracy: 0.9682\n",
      "\n"
     ]
    },
    {
     "name": "stdout",
     "output_type": "stream",
     "text": [
      "Epoch 240, Loss 0.0367\n",
      "Training Accuracy: 0.9608, Testing Accuracy: 0.9682\n",
      "\n"
     ]
    },
    {
     "data": {
      "text/plain": [
       "0.007388112876305515"
      ]
     },
     "execution_count": 23,
     "metadata": {},
     "output_type": "execute_result"
    }
   ],
   "source": [
    "lr_learner.train_loop(dl)"
   ]
  },
  {
   "cell_type": "code",
   "execution_count": 24,
   "id": "ca410940",
   "metadata": {
    "execution": {
     "iopub.execute_input": "2022-06-04T10:12:45.530446Z",
     "iopub.status.busy": "2022-06-04T10:12:45.529612Z",
     "iopub.status.idle": "2022-06-04T10:12:45.813407Z",
     "shell.execute_reply": "2022-06-04T10:12:45.813896Z"
    },
    "papermill": {
     "duration": 0.343004,
     "end_time": "2022-06-04T10:12:45.814057",
     "exception": false,
     "start_time": "2022-06-04T10:12:45.471053",
     "status": "completed"
    },
    "tags": []
   },
   "outputs": [
    {
     "data": {
      "text/plain": [
       "<matplotlib.legend.Legend at 0x7f9f2860ca20>"
      ]
     },
     "execution_count": 24,
     "metadata": {},
     "output_type": "execute_result"
    },
    {
     "data": {
      "image/png": "[encoded data removed]",
      "text/plain": [
       "<Figure size 1080x720 with 1 Axes>"
      ]
     },
     "metadata": {
      "needs_background": "light"
     },
     "output_type": "display_data"
    }
   ],
   "source": [
    "#comparing the results of NN and LR\n",
    "plt.figure(figsize=(15,10))\n",
    "\n",
    "# Neural Network plots\n",
    "plt.plot(acc_nn.accuracies, 'r-', label = \"Training Accuracies - NN\")\n",
    "plt.plot(acc_nn.test_accuracies, 'g-', label = \"Testing Accuracies - NN\")\n",
    "\n",
    "# Logistic Regression plots\n",
    "plt.plot(acc_lr.accuracies, 'k-', label = \"Training Accuracies - LR\")\n",
    "plt.plot(acc_lr.test_accuracies, 'b-', label = \"Testing Accuracies - LR\")\n",
    "plt.legend()"
   ]
  },
  {
   "cell_type": "markdown",
   "id": "80dfb35c",
   "metadata": {
    "papermill": {
     "duration": 0.051357,
     "end_time": "2022-06-04T10:12:45.926481",
     "exception": false,
     "start_time": "2022-06-04T10:12:45.875124",
     "status": "completed"
    },
    "tags": []
   },
   "source": [
    "#### Plotting the outputs of this layer of the NN.\n"
   ]
  },
  {
   "cell_type": "code",
   "execution_count": 25,
   "id": "45eb2ff5",
   "metadata": {
    "execution": {
     "iopub.execute_input": "2022-06-04T10:12:46.044989Z",
     "iopub.status.busy": "2022-06-04T10:12:46.044220Z",
     "iopub.status.idle": "2022-06-04T10:12:46.064522Z",
     "shell.execute_reply": "2022-06-04T10:12:46.065516Z"
    },
    "papermill": {
     "duration": 0.091552,
     "end_time": "2022-06-04T10:12:46.065695",
     "exception": false,
     "start_time": "2022-06-04T10:12:45.974143",
     "status": "completed"
    },
    "tags": []
   },
   "outputs": [],
   "source": [
    "new_model = Model(layers[:-2])\n",
    "testing_plot = new_model(testing_data_x)"
   ]
  },
  {
   "cell_type": "code",
   "execution_count": 26,
   "id": "4c0a5485",
   "metadata": {
    "execution": {
     "iopub.execute_input": "2022-06-04T10:12:46.175378Z",
     "iopub.status.busy": "2022-06-04T10:12:46.174650Z",
     "iopub.status.idle": "2022-06-04T10:12:46.441552Z",
     "shell.execute_reply": "2022-06-04T10:12:46.441031Z"
    },
    "papermill": {
     "duration": 0.322032,
     "end_time": "2022-06-04T10:12:46.441688",
     "exception": false,
     "start_time": "2022-06-04T10:12:46.119656",
     "status": "completed"
    },
    "tags": []
   },
   "outputs": [
    {
     "data": {
      "text/plain": [
       "Text(0.5, 1.0, 'Outputs')"
      ]
     },
     "execution_count": 26,
     "metadata": {},
     "output_type": "execute_result"
    },
    {
     "data": {
      "image/png": "[encoded data removed]",
      "text/plain": [
       "<Figure size 576x504 with 1 Axes>"
      ]
     },
     "metadata": {
      "needs_background": "light"
     },
     "output_type": "display_data"
    }
   ],
   "source": [
    "# Plotting the scatter plot of points and color coding by class\n",
    "plt.figure(figsize=(8,7))\n",
    "plt.scatter(testing_plot[:,0], testing_plot[:,1], alpha = 0.1, c = y_test.ravel());\n",
    "plt.title('Outputs')"
   ]
  },
  {
   "cell_type": "markdown",
   "id": "a74fcf8f",
   "metadata": {
    "papermill": {
     "duration": 0.051311,
     "end_time": "2022-06-04T10:12:46.549033",
     "exception": false,
     "start_time": "2022-06-04T10:12:46.497722",
     "status": "completed"
    },
    "tags": []
   },
   "source": [
    "Probability contours"
   ]
  },
  {
   "cell_type": "code",
   "execution_count": 27,
   "id": "d0afc8e3",
   "metadata": {
    "execution": {
     "iopub.execute_input": "2022-06-04T10:12:46.662830Z",
     "iopub.status.busy": "2022-06-04T10:12:46.661068Z",
     "iopub.status.idle": "2022-06-04T10:12:46.672683Z",
     "shell.execute_reply": "2022-06-04T10:12:46.671990Z"
    },
    "papermill": {
     "duration": 0.072437,
     "end_time": "2022-06-04T10:12:46.672809",
     "exception": false,
     "start_time": "2022-06-04T10:12:46.600372",
     "status": "completed"
    },
    "tags": []
   },
   "outputs": [],
   "source": [
    "model_prob = Model(layers[-2:]) "
   ]
  },
  {
   "cell_type": "code",
   "execution_count": 28,
   "id": "9b96e238",
   "metadata": {
    "execution": {
     "iopub.execute_input": "2022-06-04T10:12:46.813668Z",
     "iopub.status.busy": "2022-06-04T10:12:46.813012Z",
     "iopub.status.idle": "2022-06-04T10:12:46.824183Z",
     "shell.execute_reply": "2022-06-04T10:12:46.824691Z"
    },
    "papermill": {
     "duration": 0.077723,
     "end_time": "2022-06-04T10:12:46.824835",
     "exception": false,
     "start_time": "2022-06-04T10:12:46.747112",
     "status": "completed"
    },
    "tags": []
   },
   "outputs": [],
   "source": [
    "#creating the x and y ranges according to the above generated plot.\n",
    "x_range = np.linspace(-4, 1, 100) \n",
    "y_range = np.linspace(-6, 6, 100) \n",
    "x_grid, y_grid = np.meshgrid(x_range, y_range) # x_grid and y_grig are of size 100 X 100\n",
    "\n",
    "# converting x_grid and y_grid to continuous arrays\n",
    "x_gridflat = np.ravel(x_grid)\n",
    "y_gridflat = np.ravel(y_grid)\n",
    "\n",
    "# The last layer of the current model takes two columns as input. Hence transpose of np.vstack() is required.\n",
    "X = np.vstack((x_gridflat, y_gridflat)).T\n",
    "\n",
    "prob_contour = model_prob(X).reshape(100,100) "
   ]
  },
  {
   "cell_type": "code",
   "execution_count": 29,
   "id": "da72499a",
   "metadata": {
    "execution": {
     "iopub.execute_input": "2022-06-04T10:12:46.941249Z",
     "iopub.status.busy": "2022-06-04T10:12:46.940580Z",
     "iopub.status.idle": "2022-06-04T10:12:47.249900Z",
     "shell.execute_reply": "2022-06-04T10:12:47.249033Z"
    },
    "papermill": {
     "duration": 0.370861,
     "end_time": "2022-06-04T10:12:47.250039",
     "exception": false,
     "start_time": "2022-06-04T10:12:46.879178",
     "status": "completed"
    },
    "tags": []
   },
   "outputs": [
    {
     "data": {
      "image/png": "[encoded data removed]",
      "text/plain": [
       "<Figure size 720x648 with 1 Axes>"
      ]
     },
     "metadata": {
      "needs_background": "light"
     },
     "output_type": "display_data"
    }
   ],
   "source": [
    "plt.figure(figsize=(10,9))\n",
    "plt.scatter(testing_plot[:,0], testing_plot[:,1], alpha = 0.1, c = y_test.ravel())\n",
    "contours = plt.contour(x_grid,y_grid,prob_contour)\n",
    "plt.title('Probability Contours')\n",
    "plt.clabel(contours, inline = True );"
   ]
  },
  {
   "cell_type": "code",
   "execution_count": null,
   "id": "e81b4ac7",
   "metadata": {
    "papermill": {
     "duration": 0.054551,
     "end_time": "2022-06-04T10:12:47.360342",
     "exception": false,
     "start_time": "2022-06-04T10:12:47.305791",
     "status": "completed"
    },
    "tags": []
   },
   "outputs": [],
   "source": []
  }
 ],
 "metadata": {
  "kernelspec": {
   "display_name": "Python 3",
   "language": "python",
   "name": "python3"
  },
  "language_info": {
   "codemirror_mode": {
    "name": "ipython",
    "version": 3
   },
   "file_extension": ".py",
   "mimetype": "text/x-python",
   "name": "python",
   "nbconvert_exporter": "python",
   "pygments_lexer": "ipython3",
   "version": "3.6.15"
  },
  "papermill": {
   "default_parameters": {},
   "duration": 154.169527,
   "end_time": "2022-06-04T10:12:47.839015",
   "environment_variables": {},
   "exception": null,
   "input_path": "2020-08-11-part2.ipynb",
   "output_path": "2020-08-11-part2.ipynb",
   "parameters": {},
   "start_time": "2022-06-04T10:10:13.669488",
   "version": "2.3.3"
  }
 },
 "nbformat": 4,
 "nbformat_minor": 5
}