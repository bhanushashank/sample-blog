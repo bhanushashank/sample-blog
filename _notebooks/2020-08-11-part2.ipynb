{
 "cells": [
  {
   "cell_type": "markdown",
   "id": "98380cd3",
   "metadata": {
    "papermill": {
     "duration": 0.029696,
     "end_time": "2022-08-12T10:10:14.204367",
     "exception": false,
     "start_time": "2022-08-12T10:10:14.174671",
     "status": "completed"
    },
    "tags": []
   },
   "source": [
    "# Distinguish Your Own Digits (DYOD)"
   ]
  },
  {
   "cell_type": "markdown",
   "id": "ef31240d",
   "metadata": {
    "papermill": {
     "duration": 0.027041,
     "end_time": "2022-08-12T10:10:14.255810",
     "exception": false,
     "start_time": "2022-08-12T10:10:14.228769",
     "status": "completed"
    },
    "tags": []
   },
   "source": [
    "You are going to write a classifier that distinguishes between the number 3 and number 8."
   ]
  },
  {
   "cell_type": "code",
   "execution_count": 1,
   "id": "b15c8646",
   "metadata": {
    "execution": {
     "iopub.execute_input": "2022-08-12T10:10:14.317857Z",
     "iopub.status.busy": "2022-08-12T10:10:14.316398Z",
     "iopub.status.idle": "2022-08-12T10:10:14.327788Z",
     "shell.execute_reply": "2022-08-12T10:10:14.327317Z"
    },
    "papermill": {
     "duration": 0.04551,
     "end_time": "2022-08-12T10:10:14.327918",
     "exception": false,
     "start_time": "2022-08-12T10:10:14.282408",
     "status": "completed"
    },
    "tags": []
   },
   "outputs": [],
   "source": [
    "%load_ext autoreload\n",
    "%autoreload 2"
   ]
  },
  {
   "cell_type": "code",
   "execution_count": 2,
   "id": "22ef38dc",
   "metadata": {
    "execution": {
     "iopub.execute_input": "2022-08-12T10:10:14.382248Z",
     "iopub.status.busy": "2022-08-12T10:10:14.381667Z",
     "iopub.status.idle": "2022-08-12T10:10:14.918218Z",
     "shell.execute_reply": "2022-08-12T10:10:14.917156Z"
    },
    "papermill": {
     "duration": 0.566076,
     "end_time": "2022-08-12T10:10:14.918362",
     "exception": false,
     "start_time": "2022-08-12T10:10:14.352286",
     "status": "completed"
    },
    "tags": []
   },
   "outputs": [],
   "source": [
    "%matplotlib inline\n",
    "import numpy as np\n",
    "import matplotlib.pyplot as plt\n",
    "import pandas as pd"
   ]
  },
  {
   "cell_type": "markdown",
   "id": "ba036198",
   "metadata": {
    "papermill": {
     "duration": 0.023683,
     "end_time": "2022-08-12T10:10:14.966151",
     "exception": false,
     "start_time": "2022-08-12T10:10:14.942468",
     "status": "completed"
    },
    "tags": []
   },
   "source": [
    "From the command line run `pip install mnist`. This is a library that will help you bring down the mnist dataset. If you run this from a notebook, you need to put  `!pip install mnist` in a cell by itself."
   ]
  },
  {
   "cell_type": "code",
   "execution_count": 3,
   "id": "bb6ad8a1",
   "metadata": {
    "execution": {
     "iopub.execute_input": "2022-08-12T10:10:15.021070Z",
     "iopub.status.busy": "2022-08-12T10:10:15.016797Z",
     "iopub.status.idle": "2022-08-12T10:10:16.600912Z",
     "shell.execute_reply": "2022-08-12T10:10:16.599692Z"
    },
    "papermill": {
     "duration": 1.611407,
     "end_time": "2022-08-12T10:10:16.601050",
     "exception": false,
     "start_time": "2022-08-12T10:10:14.989643",
     "status": "completed"
    },
    "tags": []
   },
   "outputs": [
    {
     "name": "stdout",
     "output_type": "stream",
     "text": [
      "Collecting mnist\r\n"
     ]
    },
    {
     "name": "stdout",
     "output_type": "stream",
     "text": [
      "  Downloading mnist-0.2.2-py2.py3-none-any.whl (3.5 kB)\r\n",
      "Requirement already satisfied: numpy in /opt/hostedtoolcache/Python/3.6.15/x64/lib/python3.6/site-packages (from mnist) (1.19.5)\r\n"
     ]
    },
    {
     "name": "stdout",
     "output_type": "stream",
     "text": [
      "Installing collected packages: mnist\r\n"
     ]
    },
    {
     "name": "stdout",
     "output_type": "stream",
     "text": [
      "Successfully installed mnist-0.2.2\r\n"
     ]
    }
   ],
   "source": [
    "!pip install mnist"
   ]
  },
  {
   "cell_type": "markdown",
   "id": "69df9c9a",
   "metadata": {
    "papermill": {
     "duration": 0.024836,
     "end_time": "2022-08-12T10:10:16.651171",
     "exception": false,
     "start_time": "2022-08-12T10:10:16.626335",
     "status": "completed"
    },
    "tags": []
   },
   "source": [
    "## Preparing the Data"
   ]
  },
  {
   "cell_type": "code",
   "execution_count": 4,
   "id": "7f69d806",
   "metadata": {
    "execution": {
     "iopub.execute_input": "2022-08-12T10:10:16.705011Z",
     "iopub.status.busy": "2022-08-12T10:10:16.704427Z",
     "iopub.status.idle": "2022-08-12T10:10:16.720152Z",
     "shell.execute_reply": "2022-08-12T10:10:16.719654Z"
    },
    "papermill": {
     "duration": 0.044237,
     "end_time": "2022-08-12T10:10:16.720267",
     "exception": false,
     "start_time": "2022-08-12T10:10:16.676030",
     "status": "completed"
    },
    "tags": []
   },
   "outputs": [],
   "source": [
    "import mnist"
   ]
  },
  {
   "cell_type": "code",
   "execution_count": 5,
   "id": "a411e44f",
   "metadata": {
    "execution": {
     "iopub.execute_input": "2022-08-12T10:10:16.773401Z",
     "iopub.status.busy": "2022-08-12T10:10:16.772822Z",
     "iopub.status.idle": "2022-08-12T10:10:17.363194Z",
     "shell.execute_reply": "2022-08-12T10:10:17.362606Z"
    },
    "papermill": {
     "duration": 0.618225,
     "end_time": "2022-08-12T10:10:17.363365",
     "exception": false,
     "start_time": "2022-08-12T10:10:16.745140",
     "status": "completed"
    },
    "tags": []
   },
   "outputs": [],
   "source": [
    "train_images = mnist.train_images()\n",
    "train_labels = mnist.train_labels()"
   ]
  },
  {
   "cell_type": "code",
   "execution_count": 6,
   "id": "dceab3a5",
   "metadata": {
    "execution": {
     "iopub.execute_input": "2022-08-12T10:10:17.417853Z",
     "iopub.status.busy": "2022-08-12T10:10:17.417273Z",
     "iopub.status.idle": "2022-08-12T10:10:17.431573Z",
     "shell.execute_reply": "2022-08-12T10:10:17.432135Z"
    },
    "papermill": {
     "duration": 0.043636,
     "end_time": "2022-08-12T10:10:17.432264",
     "exception": false,
     "start_time": "2022-08-12T10:10:17.388628",
     "status": "completed"
    },
    "tags": []
   },
   "outputs": [
    {
     "data": {
      "text/plain": [
       "((60000, 28, 28), (60000,))"
      ]
     },
     "execution_count": 6,
     "metadata": {},
     "output_type": "execute_result"
    }
   ],
   "source": [
    "train_images.shape, train_labels.shape"
   ]
  },
  {
   "cell_type": "code",
   "execution_count": 7,
   "id": "f50dc2bb",
   "metadata": {
    "execution": {
     "iopub.execute_input": "2022-08-12T10:10:17.485800Z",
     "iopub.status.busy": "2022-08-12T10:10:17.485232Z",
     "iopub.status.idle": "2022-08-12T10:10:17.681870Z",
     "shell.execute_reply": "2022-08-12T10:10:17.681246Z"
    },
    "papermill": {
     "duration": 0.224916,
     "end_time": "2022-08-12T10:10:17.681999",
     "exception": false,
     "start_time": "2022-08-12T10:10:17.457083",
     "status": "completed"
    },
    "tags": []
   },
   "outputs": [],
   "source": [
    "test_images = mnist.test_images()\n",
    "test_labels = mnist.test_labels()"
   ]
  },
  {
   "cell_type": "code",
   "execution_count": 8,
   "id": "fc38cf1b",
   "metadata": {
    "execution": {
     "iopub.execute_input": "2022-08-12T10:10:17.738008Z",
     "iopub.status.busy": "2022-08-12T10:10:17.737426Z",
     "iopub.status.idle": "2022-08-12T10:10:17.751587Z",
     "shell.execute_reply": "2022-08-12T10:10:17.751116Z"
    },
    "papermill": {
     "duration": 0.044363,
     "end_time": "2022-08-12T10:10:17.751697",
     "exception": false,
     "start_time": "2022-08-12T10:10:17.707334",
     "status": "completed"
    },
    "tags": []
   },
   "outputs": [
    {
     "data": {
      "text/plain": [
       "((10000, 28, 28), (10000,))"
      ]
     },
     "execution_count": 8,
     "metadata": {},
     "output_type": "execute_result"
    }
   ],
   "source": [
    "test_images.shape, test_labels.shape"
   ]
  },
  {
   "cell_type": "code",
   "execution_count": 9,
   "id": "f9ed8fe0",
   "metadata": {
    "execution": {
     "iopub.execute_input": "2022-08-12T10:10:17.808585Z",
     "iopub.status.busy": "2022-08-12T10:10:17.807994Z",
     "iopub.status.idle": "2022-08-12T10:10:17.948619Z",
     "shell.execute_reply": "2022-08-12T10:10:17.948121Z"
    },
    "papermill": {
     "duration": 0.169704,
     "end_time": "2022-08-12T10:10:17.948741",
     "exception": false,
     "start_time": "2022-08-12T10:10:17.779037",
     "status": "completed"
    },
    "tags": []
   },
   "outputs": [
    {
     "name": "stdout",
     "output_type": "stream",
     "text": [
      "2\n"
     ]
    },
    {
     "data": {
      "text/plain": [
       "<matplotlib.image.AxesImage at 0x7f61245f2588>"
      ]
     },
     "execution_count": 9,
     "metadata": {},
     "output_type": "execute_result"
    },
    {
     "data": {
      "image/png": "[encoded data removed]",
      "text/plain": [
       "<Figure size 432x288 with 1 Axes>"
      ]
     },
     "metadata": {
      "needs_background": "light"
     },
     "output_type": "display_data"
    }
   ],
   "source": [
    "image_index = 7776 # You may select anything up to 60,000\n",
    "print(train_labels[image_index]) \n",
    "plt.imshow(train_images[image_index], cmap='Greys')"
   ]
  },
  {
   "cell_type": "markdown",
   "id": "a8d2388d",
   "metadata": {
    "papermill": {
     "duration": 0.026569,
     "end_time": "2022-08-12T10:10:18.002059",
     "exception": false,
     "start_time": "2022-08-12T10:10:17.975490",
     "status": "completed"
    },
    "tags": []
   },
   "source": [
    "## Filter data to get 3 and 8 out"
   ]
  },
  {
   "cell_type": "code",
   "execution_count": 10,
   "id": "776f7fc7",
   "metadata": {
    "execution": {
     "iopub.execute_input": "2022-08-12T10:10:18.060156Z",
     "iopub.status.busy": "2022-08-12T10:10:18.059520Z",
     "iopub.status.idle": "2022-08-12T10:10:18.078970Z",
     "shell.execute_reply": "2022-08-12T10:10:18.078480Z"
    },
    "papermill": {
     "duration": 0.05058,
     "end_time": "2022-08-12T10:10:18.079089",
     "exception": false,
     "start_time": "2022-08-12T10:10:18.028509",
     "status": "completed"
    },
    "tags": []
   },
   "outputs": [],
   "source": [
    "train_filter = np.where((train_labels == 3 ) | (train_labels == 8))\n",
    "test_filter = np.where((test_labels == 3) | (test_labels == 8))\n",
    "X_train, y_train = train_images[train_filter], train_labels[train_filter]\n",
    "X_test, y_test = test_images[test_filter], test_labels[test_filter]"
   ]
  },
  {
   "cell_type": "markdown",
   "id": "948f0b7e",
   "metadata": {
    "papermill": {
     "duration": 0.026466,
     "end_time": "2022-08-12T10:10:18.132173",
     "exception": false,
     "start_time": "2022-08-12T10:10:18.105707",
     "status": "completed"
    },
    "tags": []
   },
   "source": [
    "We normalize the pizel values in the 0 to 1 range"
   ]
  },
  {
   "cell_type": "code",
   "execution_count": 11,
   "id": "ee4c2166",
   "metadata": {
    "execution": {
     "iopub.execute_input": "2022-08-12T10:10:18.188893Z",
     "iopub.status.busy": "2022-08-12T10:10:18.188297Z",
     "iopub.status.idle": "2022-08-12T10:10:18.238232Z",
     "shell.execute_reply": "2022-08-12T10:10:18.237652Z"
    },
    "papermill": {
     "duration": 0.080003,
     "end_time": "2022-08-12T10:10:18.238370",
     "exception": false,
     "start_time": "2022-08-12T10:10:18.158367",
     "status": "completed"
    },
    "tags": []
   },
   "outputs": [],
   "source": [
    "X_train = X_train/255.\n",
    "X_test = X_test/255."
   ]
  },
  {
   "cell_type": "markdown",
   "id": "ddcf4fab",
   "metadata": {
    "papermill": {
     "duration": 0.026376,
     "end_time": "2022-08-12T10:10:18.291919",
     "exception": false,
     "start_time": "2022-08-12T10:10:18.265543",
     "status": "completed"
    },
    "tags": []
   },
   "source": [
    "And setup the labels as 1 (when the digit is 3) and 0 (when the digit is 8)"
   ]
  },
  {
   "cell_type": "code",
   "execution_count": 12,
   "id": "7dc908f2",
   "metadata": {
    "execution": {
     "iopub.execute_input": "2022-08-12T10:10:18.349380Z",
     "iopub.status.busy": "2022-08-12T10:10:18.348801Z",
     "iopub.status.idle": "2022-08-12T10:10:18.361127Z",
     "shell.execute_reply": "2022-08-12T10:10:18.360558Z"
    },
    "papermill": {
     "duration": 0.042919,
     "end_time": "2022-08-12T10:10:18.361236",
     "exception": false,
     "start_time": "2022-08-12T10:10:18.318317",
     "status": "completed"
    },
    "tags": []
   },
   "outputs": [],
   "source": [
    "y_train = 1*(y_train==3)\n",
    "y_test = 1*(y_test==3)"
   ]
  },
  {
   "cell_type": "code",
   "execution_count": 13,
   "id": "01e4e969",
   "metadata": {
    "execution": {
     "iopub.execute_input": "2022-08-12T10:10:18.417548Z",
     "iopub.status.busy": "2022-08-12T10:10:18.416979Z",
     "iopub.status.idle": "2022-08-12T10:10:18.431361Z",
     "shell.execute_reply": "2022-08-12T10:10:18.430797Z"
    },
    "papermill": {
     "duration": 0.043791,
     "end_time": "2022-08-12T10:10:18.431470",
     "exception": false,
     "start_time": "2022-08-12T10:10:18.387679",
     "status": "completed"
    },
    "tags": []
   },
   "outputs": [
    {
     "data": {
      "text/plain": [
       "((11982, 28, 28), (1984, 28, 28))"
      ]
     },
     "execution_count": 13,
     "metadata": {},
     "output_type": "execute_result"
    }
   ],
   "source": [
    "X_train.shape, X_test.shape"
   ]
  },
  {
   "cell_type": "markdown",
   "id": "5ccf3f85",
   "metadata": {
    "papermill": {
     "duration": 0.026606,
     "end_time": "2022-08-12T10:10:18.484682",
     "exception": false,
     "start_time": "2022-08-12T10:10:18.458076",
     "status": "completed"
    },
    "tags": []
   },
   "source": [
    "We reshape the data to flatten the image pixels into a set of features or co-variates:"
   ]
  },
  {
   "cell_type": "code",
   "execution_count": 14,
   "id": "5286a4a3",
   "metadata": {
    "execution": {
     "iopub.execute_input": "2022-08-12T10:10:18.556736Z",
     "iopub.status.busy": "2022-08-12T10:10:18.552865Z",
     "iopub.status.idle": "2022-08-12T10:10:18.560440Z",
     "shell.execute_reply": "2022-08-12T10:10:18.559927Z"
    },
    "papermill": {
     "duration": 0.049199,
     "end_time": "2022-08-12T10:10:18.560555",
     "exception": false,
     "start_time": "2022-08-12T10:10:18.511356",
     "status": "completed"
    },
    "tags": []
   },
   "outputs": [
    {
     "data": {
      "text/plain": [
       "((11982, 784), (1984, 784))"
      ]
     },
     "execution_count": 14,
     "metadata": {},
     "output_type": "execute_result"
    }
   ],
   "source": [
    "X_train = X_train.reshape(X_train.shape[0], -1)\n",
    "X_test = X_test.reshape(X_test.shape[0], -1)\n",
    "X_train.shape, X_test.shape"
   ]
  },
  {
   "cell_type": "code",
   "execution_count": 15,
   "id": "73c5f88a",
   "metadata": {
    "execution": {
     "iopub.execute_input": "2022-08-12T10:10:18.618722Z",
     "iopub.status.busy": "2022-08-12T10:10:18.618138Z",
     "iopub.status.idle": "2022-08-12T10:10:18.636935Z",
     "shell.execute_reply": "2022-08-12T10:10:18.636461Z"
    },
    "papermill": {
     "duration": 0.049668,
     "end_time": "2022-08-12T10:10:18.637045",
     "exception": false,
     "start_time": "2022-08-12T10:10:18.587377",
     "status": "completed"
    },
    "tags": []
   },
   "outputs": [],
   "source": [
    "#Impoting functions from 'Kudzu'\n",
    "from kudzu.model import Model\n",
    "from kudzu.train import Learner\n",
    "from kudzu.optim import GD\n",
    "from kudzu.data import Data, Sampler,Dataloader\n",
    "\n",
    "from kudzu.callbacks import AccCallback\n",
    "from kudzu.callbacks import ClfCallback\n",
    "\n",
    "from kudzu.loss import MSE\n",
    "\n",
    "from kudzu.layer import Sigmoid,Relu\n",
    "from kudzu.layer import Affine"
   ]
  },
  {
   "cell_type": "markdown",
   "id": "bc01172a",
   "metadata": {
    "papermill": {
     "duration": 0.026758,
     "end_time": "2022-08-12T10:10:18.690774",
     "exception": false,
     "start_time": "2022-08-12T10:10:18.664016",
     "status": "completed"
    },
    "tags": []
   },
   "source": [
    "### Let us create a `Config` class, to store important parameters. \n",
    "This class essentially plays the role of a dictionary."
   ]
  },
  {
   "cell_type": "code",
   "execution_count": 16,
   "id": "978281aa",
   "metadata": {
    "execution": {
     "iopub.execute_input": "2022-08-12T10:10:18.749149Z",
     "iopub.status.busy": "2022-08-12T10:10:18.748557Z",
     "iopub.status.idle": "2022-08-12T10:10:18.761599Z",
     "shell.execute_reply": "2022-08-12T10:10:18.761117Z"
    },
    "papermill": {
     "duration": 0.043996,
     "end_time": "2022-08-12T10:10:18.761713",
     "exception": false,
     "start_time": "2022-08-12T10:10:18.717717",
     "status": "completed"
    },
    "tags": []
   },
   "outputs": [],
   "source": [
    "class Config:\n",
    "    pass\n",
    "config = Config()\n",
    "config.lr = 0.001\n",
    "config.num_epochs = 250\n",
    "config.bs = 50"
   ]
  },
  {
   "cell_type": "markdown",
   "id": "1385fa59",
   "metadata": {
    "papermill": {
     "duration": 0.026687,
     "end_time": "2022-08-12T10:10:18.815283",
     "exception": false,
     "start_time": "2022-08-12T10:10:18.788596",
     "status": "completed"
    },
    "tags": []
   },
   "source": [
    "### Running Models with the Training data\n",
    "Details about the network layers:\n",
    "- A first affine layer has 784 inputs and does 100 affine transforms. These are followed by a Relu\n",
    "- A second affine layer has 100 inputs from the 100 activations of the past layer, and does 100 affine transforms. These are followed by a Relu\n",
    "- A third affine layer has 100 activations and does 2 affine transformations to create an embedding for visualization. There is no non-linearity here.\n",
    "- A final \"logistic regression\" which has an affine transform from 2 inputs to 1 output, which is squeezed through a sigmoid.\n"
   ]
  },
  {
   "cell_type": "code",
   "execution_count": 17,
   "id": "2b9c66db",
   "metadata": {
    "execution": {
     "iopub.execute_input": "2022-08-12T10:10:18.874220Z",
     "iopub.status.busy": "2022-08-12T10:10:18.873630Z",
     "iopub.status.idle": "2022-08-12T10:10:18.886517Z",
     "shell.execute_reply": "2022-08-12T10:10:18.886047Z"
    },
    "papermill": {
     "duration": 0.043629,
     "end_time": "2022-08-12T10:10:18.886624",
     "exception": false,
     "start_time": "2022-08-12T10:10:18.842995",
     "status": "completed"
    },
    "tags": []
   },
   "outputs": [],
   "source": [
    "data = Data(X_train, y_train.reshape(-1,1))\n",
    "sampler = Sampler(data, config.bs, shuffle=True)\n",
    "\n",
    "dl = Dataloader(data, sampler)\n",
    "\n",
    "opt = GD(config.lr)\n",
    "loss = MSE()"
   ]
  },
  {
   "cell_type": "code",
   "execution_count": 18,
   "id": "b275e4c2",
   "metadata": {
    "execution": {
     "iopub.execute_input": "2022-08-12T10:10:18.945295Z",
     "iopub.status.busy": "2022-08-12T10:10:18.944716Z",
     "iopub.status.idle": "2022-08-12T10:10:18.955878Z",
     "shell.execute_reply": "2022-08-12T10:10:18.956386Z"
    },
    "papermill": {
     "duration": 0.042944,
     "end_time": "2022-08-12T10:10:18.956509",
     "exception": false,
     "start_time": "2022-08-12T10:10:18.913565",
     "status": "completed"
    },
    "tags": []
   },
   "outputs": [],
   "source": [
    "training_data_x = X_train\n",
    "testing_data_x = X_test\n",
    "training_data_y = y_train.reshape(-1,1)\n",
    "testing_data_y = y_test.reshape(-1,1)"
   ]
  },
  {
   "cell_type": "code",
   "execution_count": 19,
   "id": "76951160",
   "metadata": {
    "execution": {
     "iopub.execute_input": "2022-08-12T10:10:19.014052Z",
     "iopub.status.busy": "2022-08-12T10:10:19.013468Z",
     "iopub.status.idle": "2022-08-12T10:10:19.029793Z",
     "shell.execute_reply": "2022-08-12T10:10:19.030263Z"
    },
    "papermill": {
     "duration": 0.04719,
     "end_time": "2022-08-12T10:10:19.030381",
     "exception": false,
     "start_time": "2022-08-12T10:10:18.983191",
     "status": "completed"
    },
    "tags": []
   },
   "outputs": [
    {
     "name": "stdout",
     "output_type": "stream",
     "text": [
      "xavier\n",
      "xavier\n",
      "xavier\n",
      "xavier\n",
      "xavier\n"
     ]
    }
   ],
   "source": [
    "layers = [Affine(\"first\", 784, 100), Relu(\"first\"), Affine(\"second\", 100, 100), Relu(\"second\"), Affine(\"third\", 100, 2), Affine(\"last\", 2, 1), Sigmoid(\"last\")]\n",
    "model_nn = Model(layers)\n",
    "model_lr = Model([Affine(\"logits\", 784, 1), Sigmoid(\"sigmoid\")])"
   ]
  },
  {
   "cell_type": "code",
   "execution_count": 20,
   "id": "6eede77a",
   "metadata": {
    "execution": {
     "iopub.execute_input": "2022-08-12T10:10:19.088823Z",
     "iopub.status.busy": "2022-08-12T10:10:19.088239Z",
     "iopub.status.idle": "2022-08-12T10:10:19.100320Z",
     "shell.execute_reply": "2022-08-12T10:10:19.099819Z"
    },
    "papermill": {
     "duration": 0.042871,
     "end_time": "2022-08-12T10:10:19.100427",
     "exception": false,
     "start_time": "2022-08-12T10:10:19.057556",
     "status": "completed"
    },
    "tags": []
   },
   "outputs": [],
   "source": [
    "nn_learner = Learner(loss, model_nn, opt, config.num_epochs)\n",
    "acc_nn = ClfCallback(nn_learner, config.bs, training_data_x , testing_data_x, training_data_y, testing_data_y)\n",
    "nn_learner.set_callbacks([acc_nn])"
   ]
  },
  {
   "cell_type": "code",
   "execution_count": 21,
   "id": "877b6cc7",
   "metadata": {
    "execution": {
     "iopub.execute_input": "2022-08-12T10:10:19.158662Z",
     "iopub.status.busy": "2022-08-12T10:10:19.158087Z",
     "iopub.status.idle": "2022-08-12T10:10:19.169919Z",
     "shell.execute_reply": "2022-08-12T10:10:19.170389Z"
    },
    "papermill": {
     "duration": 0.042962,
     "end_time": "2022-08-12T10:10:19.170507",
     "exception": false,
     "start_time": "2022-08-12T10:10:19.127545",
     "status": "completed"
    },
    "tags": []
   },
   "outputs": [],
   "source": [
    "lr_learner = Learner(loss, model_lr, opt, config.num_epochs)\n",
    "acc_lr = ClfCallback(lr_learner, config.bs, training_data_x , testing_data_x, training_data_y, testing_data_y)\n",
    "lr_learner.set_callbacks([acc_lr])"
   ]
  },
  {
   "cell_type": "code",
   "execution_count": 22,
   "id": "d9b133c3",
   "metadata": {
    "execution": {
     "iopub.execute_input": "2022-08-12T10:10:19.228281Z",
     "iopub.status.busy": "2022-08-12T10:10:19.227675Z",
     "iopub.status.idle": "2022-08-12T10:11:39.932290Z",
     "shell.execute_reply": "2022-08-12T10:11:39.933153Z"
    },
    "papermill": {
     "duration": 80.735594,
     "end_time": "2022-08-12T10:11:39.933309",
     "exception": false,
     "start_time": "2022-08-12T10:10:19.197715",
     "status": "completed"
    },
    "tags": []
   },
   "outputs": [
    {
     "name": "stdout",
     "output_type": "stream",
     "text": [
      "Epoch 0, Loss 0.2204\n",
      "Training Accuracy: 0.7469, Testing Accuracy: 0.7566\n",
      "\n"
     ]
    },
    {
     "name": "stdout",
     "output_type": "stream",
     "text": [
      "Epoch 10, Loss 0.0605\n",
      "Training Accuracy: 0.9365, Testing Accuracy: 0.9405\n",
      "\n"
     ]
    },
    {
     "name": "stdout",
     "output_type": "stream",
     "text": [
      "Epoch 20, Loss 0.0423\n",
      "Training Accuracy: 0.9534, Testing Accuracy: 0.9597\n",
      "\n"
     ]
    },
    {
     "name": "stdout",
     "output_type": "stream",
     "text": [
      "Epoch 30, Loss 0.0353\n",
      "Training Accuracy: 0.9598, Testing Accuracy: 0.9637\n",
      "\n"
     ]
    },
    {
     "name": "stdout",
     "output_type": "stream",
     "text": [
      "Epoch 40, Loss 0.0314\n",
      "Training Accuracy: 0.9645, Testing Accuracy: 0.9657\n",
      "\n"
     ]
    },
    {
     "name": "stdout",
     "output_type": "stream",
     "text": [
      "Epoch 50, Loss 0.0288\n",
      "Training Accuracy: 0.9671, Testing Accuracy: 0.9667\n",
      "\n"
     ]
    },
    {
     "name": "stdout",
     "output_type": "stream",
     "text": [
      "Epoch 60, Loss 0.0268\n",
      "Training Accuracy: 0.9693, Testing Accuracy: 0.9703\n",
      "\n"
     ]
    },
    {
     "name": "stdout",
     "output_type": "stream",
     "text": [
      "Epoch 70, Loss 0.0252\n",
      "Training Accuracy: 0.9712, Testing Accuracy: 0.9718\n",
      "\n"
     ]
    },
    {
     "name": "stdout",
     "output_type": "stream",
     "text": [
      "Epoch 80, Loss 0.0238\n",
      "Training Accuracy: 0.9730, Testing Accuracy: 0.9723\n",
      "\n"
     ]
    },
    {
     "name": "stdout",
     "output_type": "stream",
     "text": [
      "Epoch 90, Loss 0.0226\n",
      "Training Accuracy: 0.9746, Testing Accuracy: 0.9738\n",
      "\n"
     ]
    },
    {
     "name": "stdout",
     "output_type": "stream",
     "text": [
      "Epoch 100, Loss 0.0216\n",
      "Training Accuracy: 0.9756, Testing Accuracy: 0.9748\n",
      "\n"
     ]
    },
    {
     "name": "stdout",
     "output_type": "stream",
     "text": [
      "Epoch 110, Loss 0.0207\n",
      "Training Accuracy: 0.9764, Testing Accuracy: 0.9743\n",
      "\n"
     ]
    },
    {
     "name": "stdout",
     "output_type": "stream",
     "text": [
      "Epoch 120, Loss 0.0199\n",
      "Training Accuracy: 0.9773, Testing Accuracy: 0.9748\n",
      "\n"
     ]
    },
    {
     "name": "stdout",
     "output_type": "stream",
     "text": [
      "Epoch 130, Loss 0.0191\n",
      "Training Accuracy: 0.9785, Testing Accuracy: 0.9743\n",
      "\n"
     ]
    },
    {
     "name": "stdout",
     "output_type": "stream",
     "text": [
      "Epoch 140, Loss 0.0184\n",
      "Training Accuracy: 0.9796, Testing Accuracy: 0.9758\n",
      "\n"
     ]
    },
    {
     "name": "stdout",
     "output_type": "stream",
     "text": [
      "Epoch 150, Loss 0.0178\n",
      "Training Accuracy: 0.9801, Testing Accuracy: 0.9773\n",
      "\n"
     ]
    },
    {
     "name": "stdout",
     "output_type": "stream",
     "text": [
      "Epoch 160, Loss 0.0172\n",
      "Training Accuracy: 0.9813, Testing Accuracy: 0.9778\n",
      "\n"
     ]
    },
    {
     "name": "stdout",
     "output_type": "stream",
     "text": [
      "Epoch 170, Loss 0.0166\n",
      "Training Accuracy: 0.9821, Testing Accuracy: 0.9783\n",
      "\n"
     ]
    },
    {
     "name": "stdout",
     "output_type": "stream",
     "text": [
      "Epoch 180, Loss 0.016\n",
      "Training Accuracy: 0.9826, Testing Accuracy: 0.9788\n",
      "\n"
     ]
    },
    {
     "name": "stdout",
     "output_type": "stream",
     "text": [
      "Epoch 190, Loss 0.0155\n",
      "Training Accuracy: 0.9828, Testing Accuracy: 0.9788\n",
      "\n"
     ]
    },
    {
     "name": "stdout",
     "output_type": "stream",
     "text": [
      "Epoch 200, Loss 0.015\n",
      "Training Accuracy: 0.9833, Testing Accuracy: 0.9793\n",
      "\n"
     ]
    },
    {
     "name": "stdout",
     "output_type": "stream",
     "text": [
      "Epoch 210, Loss 0.0145\n",
      "Training Accuracy: 0.9840, Testing Accuracy: 0.9788\n",
      "\n"
     ]
    },
    {
     "name": "stdout",
     "output_type": "stream",
     "text": [
      "Epoch 220, Loss 0.014\n",
      "Training Accuracy: 0.9847, Testing Accuracy: 0.9798\n",
      "\n"
     ]
    },
    {
     "name": "stdout",
     "output_type": "stream",
     "text": [
      "Epoch 230, Loss 0.0136\n",
      "Training Accuracy: 0.9856, Testing Accuracy: 0.9793\n",
      "\n"
     ]
    },
    {
     "name": "stdout",
     "output_type": "stream",
     "text": [
      "Epoch 240, Loss 0.0132\n",
      "Training Accuracy: 0.9861, Testing Accuracy: 0.9793\n",
      "\n"
     ]
    },
    {
     "data": {
      "text/plain": [
       "0.009474680780136083"
      ]
     },
     "execution_count": 22,
     "metadata": {},
     "output_type": "execute_result"
    }
   ],
   "source": [
    "nn_learner.train_loop(dl)"
   ]
  },
  {
   "cell_type": "code",
   "execution_count": 23,
   "id": "e0163366",
   "metadata": {
    "execution": {
     "iopub.execute_input": "2022-08-12T10:11:40.015881Z",
     "iopub.status.busy": "2022-08-12T10:11:40.015293Z",
     "iopub.status.idle": "2022-08-12T10:11:54.863142Z",
     "shell.execute_reply": "2022-08-12T10:11:54.864026Z"
    },
    "papermill": {
     "duration": 14.896224,
     "end_time": "2022-08-12T10:11:54.864186",
     "exception": false,
     "start_time": "2022-08-12T10:11:39.967962",
     "status": "completed"
    },
    "tags": []
   },
   "outputs": [
    {
     "name": "stdout",
     "output_type": "stream",
     "text": [
      "Epoch 0, Loss 0.2344\n",
      "Training Accuracy: 0.7083, Testing Accuracy: 0.7243\n",
      "\n"
     ]
    },
    {
     "name": "stdout",
     "output_type": "stream",
     "text": [
      "Epoch 10, Loss 0.104\n",
      "Training Accuracy: 0.9036, Testing Accuracy: 0.9183\n",
      "\n"
     ]
    },
    {
     "name": "stdout",
     "output_type": "stream",
     "text": [
      "Epoch 20, Loss 0.08\n",
      "Training Accuracy: 0.9232, Testing Accuracy: 0.9375\n",
      "\n"
     ]
    },
    {
     "name": "stdout",
     "output_type": "stream",
     "text": [
      "Epoch 30, Loss 0.069\n",
      "Training Accuracy: 0.9313, Testing Accuracy: 0.9481\n",
      "\n"
     ]
    },
    {
     "name": "stdout",
     "output_type": "stream",
     "text": [
      "Epoch 40, Loss 0.0623\n",
      "Training Accuracy: 0.9370, Testing Accuracy: 0.9521\n",
      "\n"
     ]
    },
    {
     "name": "stdout",
     "output_type": "stream",
     "text": [
      "Epoch 50, Loss 0.0577\n",
      "Training Accuracy: 0.9415, Testing Accuracy: 0.9556\n",
      "\n"
     ]
    },
    {
     "name": "stdout",
     "output_type": "stream",
     "text": [
      "Epoch 60, Loss 0.0543\n",
      "Training Accuracy: 0.9449, Testing Accuracy: 0.9577\n",
      "\n"
     ]
    },
    {
     "name": "stdout",
     "output_type": "stream",
     "text": [
      "Epoch 70, Loss 0.0517\n",
      "Training Accuracy: 0.9473, Testing Accuracy: 0.9587\n",
      "\n"
     ]
    },
    {
     "name": "stdout",
     "output_type": "stream",
     "text": [
      "Epoch 80, Loss 0.0496\n",
      "Training Accuracy: 0.9492, Testing Accuracy: 0.9602\n",
      "\n"
     ]
    },
    {
     "name": "stdout",
     "output_type": "stream",
     "text": [
      "Epoch 90, Loss 0.0479\n",
      "Training Accuracy: 0.9506, Testing Accuracy: 0.9602\n",
      "\n"
     ]
    },
    {
     "name": "stdout",
     "output_type": "stream",
     "text": [
      "Epoch 100, Loss 0.0464\n",
      "Training Accuracy: 0.9518, Testing Accuracy: 0.9607\n",
      "\n"
     ]
    },
    {
     "name": "stdout",
     "output_type": "stream",
     "text": [
      "Epoch 110, Loss 0.0452\n",
      "Training Accuracy: 0.9526, Testing Accuracy: 0.9612\n",
      "\n"
     ]
    },
    {
     "name": "stdout",
     "output_type": "stream",
     "text": [
      "Epoch 120, Loss 0.0441\n",
      "Training Accuracy: 0.9537, Testing Accuracy: 0.9612\n",
      "\n"
     ]
    },
    {
     "name": "stdout",
     "output_type": "stream",
     "text": [
      "Epoch 130, Loss 0.0431\n",
      "Training Accuracy: 0.9548, Testing Accuracy: 0.9622\n",
      "\n"
     ]
    },
    {
     "name": "stdout",
     "output_type": "stream",
     "text": [
      "Epoch 140, Loss 0.0423\n",
      "Training Accuracy: 0.9559, Testing Accuracy: 0.9627\n",
      "\n"
     ]
    },
    {
     "name": "stdout",
     "output_type": "stream",
     "text": [
      "Epoch 150, Loss 0.0415\n",
      "Training Accuracy: 0.9569, Testing Accuracy: 0.9627\n",
      "\n"
     ]
    },
    {
     "name": "stdout",
     "output_type": "stream",
     "text": [
      "Epoch 160, Loss 0.0408\n",
      "Training Accuracy: 0.9574, Testing Accuracy: 0.9627\n",
      "\n"
     ]
    },
    {
     "name": "stdout",
     "output_type": "stream",
     "text": [
      "Epoch 170, Loss 0.0402\n",
      "Training Accuracy: 0.9574, Testing Accuracy: 0.9627\n",
      "\n"
     ]
    },
    {
     "name": "stdout",
     "output_type": "stream",
     "text": [
      "Epoch 180, Loss 0.0396\n",
      "Training Accuracy: 0.9581, Testing Accuracy: 0.9632\n",
      "\n"
     ]
    },
    {
     "name": "stdout",
     "output_type": "stream",
     "text": [
      "Epoch 190, Loss 0.0391\n",
      "Training Accuracy: 0.9584, Testing Accuracy: 0.9647\n",
      "\n"
     ]
    },
    {
     "name": "stdout",
     "output_type": "stream",
     "text": [
      "Epoch 200, Loss 0.0386\n",
      "Training Accuracy: 0.9586, Testing Accuracy: 0.9652\n",
      "\n"
     ]
    },
    {
     "name": "stdout",
     "output_type": "stream",
     "text": [
      "Epoch 210, Loss 0.0381\n",
      "Training Accuracy: 0.9588, Testing Accuracy: 0.9652\n",
      "\n"
     ]
    },
    {
     "name": "stdout",
     "output_type": "stream",
     "text": [
      "Epoch 220, Loss 0.0377\n",
      "Training Accuracy: 0.9591, Testing Accuracy: 0.9657\n",
      "\n"
     ]
    },
    {
     "name": "stdout",
     "output_type": "stream",
     "text": [
      "Epoch 230, Loss 0.0373\n",
      "Training Accuracy: 0.9592, Testing Accuracy: 0.9657\n",
      "\n"
     ]
    },
    {
     "name": "stdout",
     "output_type": "stream",
     "text": [
      "Epoch 240, Loss 0.037\n",
      "Training Accuracy: 0.9595, Testing Accuracy: 0.9657\n",
      "\n"
     ]
    },
    {
     "data": {
      "text/plain": [
       "0.029035881893498004"
      ]
     },
     "execution_count": 23,
     "metadata": {},
     "output_type": "execute_result"
    }
   ],
   "source": [
    "lr_learner.train_loop(dl)"
   ]
  },
  {
   "cell_type": "code",
   "execution_count": 24,
   "id": "ca410940",
   "metadata": {
    "execution": {
     "iopub.execute_input": "2022-08-12T10:11:54.961648Z",
     "iopub.status.busy": "2022-08-12T10:11:54.961017Z",
     "iopub.status.idle": "2022-08-12T10:11:55.189661Z",
     "shell.execute_reply": "2022-08-12T10:11:55.189124Z"
    },
    "papermill": {
     "duration": 0.284067,
     "end_time": "2022-08-12T10:11:55.189797",
     "exception": false,
     "start_time": "2022-08-12T10:11:54.905730",
     "status": "completed"
    },
    "tags": []
   },
   "outputs": [
    {
     "data": {
      "text/plain": [
       "<matplotlib.legend.Legend at 0x7f6124153b70>"
      ]
     },
     "execution_count": 24,
     "metadata": {},
     "output_type": "execute_result"
    },
    {
     "data": {
      "image/png": "[encoded data removed]",
      "text/plain": [
       "<Figure size 1080x720 with 1 Axes>"
      ]
     },
     "metadata": {
      "needs_background": "light"
     },
     "output_type": "display_data"
    }
   ],
   "source": [
    "#comparing the results of NN and LR\n",
    "plt.figure(figsize=(15,10))\n",
    "\n",
    "# Neural Network plots\n",
    "plt.plot(acc_nn.accuracies, 'r-', label = \"Training Accuracies - NN\")\n",
    "plt.plot(acc_nn.test_accuracies, 'g-', label = \"Testing Accuracies - NN\")\n",
    "\n",
    "# Logistic Regression plots\n",
    "plt.plot(acc_lr.accuracies, 'k-', label = \"Training Accuracies - LR\")\n",
    "plt.plot(acc_lr.test_accuracies, 'b-', label = \"Testing Accuracies - LR\")\n",
    "plt.legend()"
   ]
  },
  {
   "cell_type": "markdown",
   "id": "80dfb35c",
   "metadata": {
    "papermill": {
     "duration": 0.042788,
     "end_time": "2022-08-12T10:11:55.276567",
     "exception": false,
     "start_time": "2022-08-12T10:11:55.233779",
     "status": "completed"
    },
    "tags": []
   },
   "source": [
    "#### Plotting the outputs of this layer of the NN.\n"
   ]
  },
  {
   "cell_type": "code",
   "execution_count": 25,
   "id": "45eb2ff5",
   "metadata": {
    "execution": {
     "iopub.execute_input": "2022-08-12T10:11:55.367718Z",
     "iopub.status.busy": "2022-08-12T10:11:55.366278Z",
     "iopub.status.idle": "2022-08-12T10:11:55.388320Z",
     "shell.execute_reply": "2022-08-12T10:11:55.387814Z"
    },
    "papermill": {
     "duration": 0.069652,
     "end_time": "2022-08-12T10:11:55.388449",
     "exception": false,
     "start_time": "2022-08-12T10:11:55.318797",
     "status": "completed"
    },
    "tags": []
   },
   "outputs": [],
   "source": [
    "new_model = Model(layers[:-2])\n",
    "testing_plot = new_model(testing_data_x)"
   ]
  },
  {
   "cell_type": "code",
   "execution_count": 26,
   "id": "4c0a5485",
   "metadata": {
    "execution": {
     "iopub.execute_input": "2022-08-12T10:11:55.481457Z",
     "iopub.status.busy": "2022-08-12T10:11:55.480829Z",
     "iopub.status.idle": "2022-08-12T10:11:55.694527Z",
     "shell.execute_reply": "2022-08-12T10:11:55.694053Z"
    },
    "papermill": {
     "duration": 0.263548,
     "end_time": "2022-08-12T10:11:55.694655",
     "exception": false,
     "start_time": "2022-08-12T10:11:55.431107",
     "status": "completed"
    },
    "tags": []
   },
   "outputs": [
    {
     "data": {
      "text/plain": [
       "Text(0.5, 1.0, 'Outputs')"
      ]
     },
     "execution_count": 26,
     "metadata": {},
     "output_type": "execute_result"
    },
    {
     "data": {
      "image/png": "[encoded data removed]",
      "text/plain": [
       "<Figure size 576x504 with 1 Axes>"
      ]
     },
     "metadata": {
      "needs_background": "light"
     },
     "output_type": "display_data"
    }
   ],
   "source": [
    "# Plotting the scatter plot of points and color coding by class\n",
    "plt.figure(figsize=(8,7))\n",
    "plt.scatter(testing_plot[:,0], testing_plot[:,1], alpha = 0.1, c = y_test.ravel());\n",
    "plt.title('Outputs')"
   ]
  },
  {
   "cell_type": "markdown",
   "id": "a74fcf8f",
   "metadata": {
    "papermill": {
     "duration": 0.045124,
     "end_time": "2022-08-12T10:11:55.784990",
     "exception": false,
     "start_time": "2022-08-12T10:11:55.739866",
     "status": "completed"
    },
    "tags": []
   },
   "source": [
    "Probability contours"
   ]
  },
  {
   "cell_type": "code",
   "execution_count": 27,
   "id": "d0afc8e3",
   "metadata": {
    "execution": {
     "iopub.execute_input": "2022-08-12T10:11:55.913337Z",
     "iopub.status.busy": "2022-08-12T10:11:55.912627Z",
     "iopub.status.idle": "2022-08-12T10:11:55.924008Z",
     "shell.execute_reply": "2022-08-12T10:11:55.924459Z"
    },
    "papermill": {
     "duration": 0.094378,
     "end_time": "2022-08-12T10:11:55.924596",
     "exception": false,
     "start_time": "2022-08-12T10:11:55.830218",
     "status": "completed"
    },
    "tags": []
   },
   "outputs": [],
   "source": [
    "model_prob = Model(layers[-2:]) "
   ]
  },
  {
   "cell_type": "code",
   "execution_count": 28,
   "id": "9b96e238",
   "metadata": {
    "execution": {
     "iopub.execute_input": "2022-08-12T10:11:56.037918Z",
     "iopub.status.busy": "2022-08-12T10:11:56.028484Z",
     "iopub.status.idle": "2022-08-12T10:11:56.038589Z",
     "shell.execute_reply": "2022-08-12T10:11:56.039029Z"
    },
    "papermill": {
     "duration": 0.069144,
     "end_time": "2022-08-12T10:11:56.039162",
     "exception": false,
     "start_time": "2022-08-12T10:11:55.970018",
     "status": "completed"
    },
    "tags": []
   },
   "outputs": [],
   "source": [
    "#creating the x and y ranges according to the above generated plot.\n",
    "x_range = np.linspace(-4, 1, 100) \n",
    "y_range = np.linspace(-6, 6, 100) \n",
    "x_grid, y_grid = np.meshgrid(x_range, y_range) # x_grid and y_grig are of size 100 X 100\n",
    "\n",
    "# converting x_grid and y_grid to continuous arrays\n",
    "x_gridflat = np.ravel(x_grid)\n",
    "y_gridflat = np.ravel(y_grid)\n",
    "\n",
    "# The last layer of the current model takes two columns as input. Hence transpose of np.vstack() is required.\n",
    "X = np.vstack((x_gridflat, y_gridflat)).T\n",
    "\n",
    "prob_contour = model_prob(X).reshape(100,100) "
   ]
  },
  {
   "cell_type": "code",
   "execution_count": 29,
   "id": "da72499a",
   "metadata": {
    "execution": {
     "iopub.execute_input": "2022-08-12T10:11:56.141719Z",
     "iopub.status.busy": "2022-08-12T10:11:56.141115Z",
     "iopub.status.idle": "2022-08-12T10:11:56.383016Z",
     "shell.execute_reply": "2022-08-12T10:11:56.382521Z"
    },
    "papermill": {
     "duration": 0.293841,
     "end_time": "2022-08-12T10:11:56.383139",
     "exception": false,
     "start_time": "2022-08-12T10:11:56.089298",
     "status": "completed"
    },
    "tags": []
   },
   "outputs": [
    {
     "data": {
      "image/png": "[encoded data removed]",
      "text/plain": [
       "<Figure size 720x648 with 1 Axes>"
      ]
     },
     "metadata": {
      "needs_background": "light"
     },
     "output_type": "display_data"
    }
   ],
   "source": [
    "plt.figure(figsize=(10,9))\n",
    "plt.scatter(testing_plot[:,0], testing_plot[:,1], alpha = 0.1, c = y_test.ravel())\n",
    "contours = plt.contour(x_grid,y_grid,prob_contour)\n",
    "plt.title('Probability Contours')\n",
    "plt.clabel(contours, inline = True );"
   ]
  },
  {
   "cell_type": "code",
   "execution_count": null,
   "id": "e81b4ac7",
   "metadata": {
    "papermill": {
     "duration": 0.048,
     "end_time": "2022-08-12T10:11:56.479923",
     "exception": false,
     "start_time": "2022-08-12T10:11:56.431923",
     "status": "completed"
    },
    "tags": []
   },
   "outputs": [],
   "source": []
  }
 ],
 "metadata": {
  "kernelspec": {
   "display_name": "Python 3",
   "language": "python",
   "name": "python3"
  },
  "language_info": {
   "codemirror_mode": {
    "name": "ipython",
    "version": 3
   },
   "file_extension": ".py",
   "mimetype": "text/x-python",
   "name": "python",
   "nbconvert_exporter": "python",
   "pygments_lexer": "ipython3",
   "version": "3.6.15"
  },
  "papermill": {
   "default_parameters": {},
   "duration": 103.712487,
   "end_time": "2022-08-12T10:11:56.947702",
   "environment_variables": {},
   "exception": null,
   "input_path": "2020-08-11-part2.ipynb",
   "output_path": "2020-08-11-part2.ipynb",
   "parameters": {},
   "start_time": "2022-08-12T10:10:13.235215",
   "version": "2.3.3"
  }
 },
 "nbformat": 4,
 "nbformat_minor": 5
}