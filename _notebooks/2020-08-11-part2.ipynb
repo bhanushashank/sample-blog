{
 "cells": [
  {
   "cell_type": "markdown",
   "id": "98380cd3",
   "metadata": {
    "papermill": {
     "duration": 0.030359,
     "end_time": "2022-06-15T20:10:00.928314",
     "exception": false,
     "start_time": "2022-06-15T20:10:00.897955",
     "status": "completed"
    },
    "tags": []
   },
   "source": [
    "# Distinguish Your Own Digits (DYOD)"
   ]
  },
  {
   "cell_type": "markdown",
   "id": "ef31240d",
   "metadata": {
    "papermill": {
     "duration": 0.023858,
     "end_time": "2022-06-15T20:10:00.976740",
     "exception": false,
     "start_time": "2022-06-15T20:10:00.952882",
     "status": "completed"
    },
    "tags": []
   },
   "source": [
    "You are going to write a classifier that distinguishes between the number 3 and number 8."
   ]
  },
  {
   "cell_type": "code",
   "execution_count": 1,
   "id": "b15c8646",
   "metadata": {
    "execution": {
     "iopub.execute_input": "2022-06-15T20:10:01.034816Z",
     "iopub.status.busy": "2022-06-15T20:10:01.034215Z",
     "iopub.status.idle": "2022-06-15T20:10:01.045515Z",
     "shell.execute_reply": "2022-06-15T20:10:01.045022Z"
    },
    "papermill": {
     "duration": 0.045132,
     "end_time": "2022-06-15T20:10:01.045640",
     "exception": false,
     "start_time": "2022-06-15T20:10:01.000508",
     "status": "completed"
    },
    "tags": []
   },
   "outputs": [],
   "source": [
    "%load_ext autoreload\n",
    "%autoreload 2"
   ]
  },
  {
   "cell_type": "code",
   "execution_count": 2,
   "id": "22ef38dc",
   "metadata": {
    "execution": {
     "iopub.execute_input": "2022-06-15T20:10:01.108598Z",
     "iopub.status.busy": "2022-06-15T20:10:01.107947Z",
     "iopub.status.idle": "2022-06-15T20:10:01.665651Z",
     "shell.execute_reply": "2022-06-15T20:10:01.666187Z"
    },
    "papermill": {
     "duration": 0.596673,
     "end_time": "2022-06-15T20:10:01.666362",
     "exception": false,
     "start_time": "2022-06-15T20:10:01.069689",
     "status": "completed"
    },
    "tags": []
   },
   "outputs": [],
   "source": [
    "%matplotlib inline\n",
    "import numpy as np\n",
    "import matplotlib.pyplot as plt\n",
    "import pandas as pd"
   ]
  },
  {
   "cell_type": "markdown",
   "id": "ba036198",
   "metadata": {
    "papermill": {
     "duration": 0.024273,
     "end_time": "2022-06-15T20:10:01.714965",
     "exception": false,
     "start_time": "2022-06-15T20:10:01.690692",
     "status": "completed"
    },
    "tags": []
   },
   "source": [
    "From the command line run `pip install mnist`. This is a library that will help you bring down the mnist dataset. If you run this from a notebook, you need to put  `!pip install mnist` in a cell by itself."
   ]
  },
  {
   "cell_type": "code",
   "execution_count": 3,
   "id": "bb6ad8a1",
   "metadata": {
    "execution": {
     "iopub.execute_input": "2022-06-15T20:10:01.783217Z",
     "iopub.status.busy": "2022-06-15T20:10:01.776088Z",
     "iopub.status.idle": "2022-06-15T20:10:04.292601Z",
     "shell.execute_reply": "2022-06-15T20:10:04.291999Z"
    },
    "papermill": {
     "duration": 2.553167,
     "end_time": "2022-06-15T20:10:04.292738",
     "exception": false,
     "start_time": "2022-06-15T20:10:01.739571",
     "status": "completed"
    },
    "tags": []
   },
   "outputs": [
    {
     "name": "stdout",
     "output_type": "stream",
     "text": [
      "Collecting mnist\r\n"
     ]
    },
    {
     "name": "stdout",
     "output_type": "stream",
     "text": [
      "  Downloading mnist-0.2.2-py2.py3-none-any.whl (3.5 kB)\r\n",
      "Requirement already satisfied: numpy in /opt/hostedtoolcache/Python/3.6.15/x64/lib/python3.6/site-packages (from mnist) (1.19.5)\r\n"
     ]
    },
    {
     "name": "stdout",
     "output_type": "stream",
     "text": [
      "Installing collected packages: mnist\r\n"
     ]
    },
    {
     "name": "stdout",
     "output_type": "stream",
     "text": [
      "Successfully installed mnist-0.2.2\r\n"
     ]
    }
   ],
   "source": [
    "!pip install mnist"
   ]
  },
  {
   "cell_type": "markdown",
   "id": "69df9c9a",
   "metadata": {
    "papermill": {
     "duration": 0.025781,
     "end_time": "2022-06-15T20:10:04.344450",
     "exception": false,
     "start_time": "2022-06-15T20:10:04.318669",
     "status": "completed"
    },
    "tags": []
   },
   "source": [
    "## Preparing the Data"
   ]
  },
  {
   "cell_type": "code",
   "execution_count": 4,
   "id": "7f69d806",
   "metadata": {
    "execution": {
     "iopub.execute_input": "2022-06-15T20:10:04.408816Z",
     "iopub.status.busy": "2022-06-15T20:10:04.408154Z",
     "iopub.status.idle": "2022-06-15T20:10:04.419345Z",
     "shell.execute_reply": "2022-06-15T20:10:04.418824Z"
    },
    "papermill": {
     "duration": 0.049893,
     "end_time": "2022-06-15T20:10:04.419482",
     "exception": false,
     "start_time": "2022-06-15T20:10:04.369589",
     "status": "completed"
    },
    "tags": []
   },
   "outputs": [],
   "source": [
    "import mnist"
   ]
  },
  {
   "cell_type": "code",
   "execution_count": 5,
   "id": "a411e44f",
   "metadata": {
    "execution": {
     "iopub.execute_input": "2022-06-15T20:10:04.488729Z",
     "iopub.status.busy": "2022-06-15T20:10:04.488099Z",
     "iopub.status.idle": "2022-06-15T20:10:05.073475Z",
     "shell.execute_reply": "2022-06-15T20:10:05.072928Z"
    },
    "papermill": {
     "duration": 0.628812,
     "end_time": "2022-06-15T20:10:05.073600",
     "exception": false,
     "start_time": "2022-06-15T20:10:04.444788",
     "status": "completed"
    },
    "tags": []
   },
   "outputs": [],
   "source": [
    "train_images = mnist.train_images()\n",
    "train_labels = mnist.train_labels()"
   ]
  },
  {
   "cell_type": "code",
   "execution_count": 6,
   "id": "dceab3a5",
   "metadata": {
    "execution": {
     "iopub.execute_input": "2022-06-15T20:10:05.144855Z",
     "iopub.status.busy": "2022-06-15T20:10:05.140081Z",
     "iopub.status.idle": "2022-06-15T20:10:05.151228Z",
     "shell.execute_reply": "2022-06-15T20:10:05.150413Z"
    },
    "papermill": {
     "duration": 0.052352,
     "end_time": "2022-06-15T20:10:05.151356",
     "exception": false,
     "start_time": "2022-06-15T20:10:05.099004",
     "status": "completed"
    },
    "tags": []
   },
   "outputs": [
    {
     "data": {
      "text/plain": [
       "((60000, 28, 28), (60000,))"
      ]
     },
     "execution_count": 6,
     "metadata": {},
     "output_type": "execute_result"
    }
   ],
   "source": [
    "train_images.shape, train_labels.shape"
   ]
  },
  {
   "cell_type": "code",
   "execution_count": 7,
   "id": "f50dc2bb",
   "metadata": {
    "execution": {
     "iopub.execute_input": "2022-06-15T20:10:05.218221Z",
     "iopub.status.busy": "2022-06-15T20:10:05.207917Z",
     "iopub.status.idle": "2022-06-15T20:10:05.347593Z",
     "shell.execute_reply": "2022-06-15T20:10:05.346661Z"
    },
    "papermill": {
     "duration": 0.170841,
     "end_time": "2022-06-15T20:10:05.347732",
     "exception": false,
     "start_time": "2022-06-15T20:10:05.176891",
     "status": "completed"
    },
    "tags": []
   },
   "outputs": [],
   "source": [
    "test_images = mnist.test_images()\n",
    "test_labels = mnist.test_labels()"
   ]
  },
  {
   "cell_type": "code",
   "execution_count": 8,
   "id": "fc38cf1b",
   "metadata": {
    "execution": {
     "iopub.execute_input": "2022-06-15T20:10:05.407263Z",
     "iopub.status.busy": "2022-06-15T20:10:05.406578Z",
     "iopub.status.idle": "2022-06-15T20:10:05.420021Z",
     "shell.execute_reply": "2022-06-15T20:10:05.419522Z"
    },
    "papermill": {
     "duration": 0.046605,
     "end_time": "2022-06-15T20:10:05.420139",
     "exception": false,
     "start_time": "2022-06-15T20:10:05.373534",
     "status": "completed"
    },
    "tags": []
   },
   "outputs": [
    {
     "data": {
      "text/plain": [
       "((10000, 28, 28), (10000,))"
      ]
     },
     "execution_count": 8,
     "metadata": {},
     "output_type": "execute_result"
    }
   ],
   "source": [
    "test_images.shape, test_labels.shape"
   ]
  },
  {
   "cell_type": "code",
   "execution_count": 9,
   "id": "f9ed8fe0",
   "metadata": {
    "execution": {
     "iopub.execute_input": "2022-06-15T20:10:05.476231Z",
     "iopub.status.busy": "2022-06-15T20:10:05.475637Z",
     "iopub.status.idle": "2022-06-15T20:10:05.622222Z",
     "shell.execute_reply": "2022-06-15T20:10:05.622693Z"
    },
    "papermill": {
     "duration": 0.176954,
     "end_time": "2022-06-15T20:10:05.622848",
     "exception": false,
     "start_time": "2022-06-15T20:10:05.445894",
     "status": "completed"
    },
    "tags": []
   },
   "outputs": [
    {
     "name": "stdout",
     "output_type": "stream",
     "text": [
      "2\n"
     ]
    },
    {
     "data": {
      "text/plain": [
       "<matplotlib.image.AxesImage at 0x7f8698903438>"
      ]
     },
     "execution_count": 9,
     "metadata": {},
     "output_type": "execute_result"
    },
    {
     "data": {
      "image/png": "[encoded data removed]",
      "text/plain": [
       "<Figure size 432x288 with 1 Axes>"
      ]
     },
     "metadata": {
      "needs_background": "light"
     },
     "output_type": "display_data"
    }
   ],
   "source": [
    "image_index = 7776 # You may select anything up to 60,000\n",
    "print(train_labels[image_index]) \n",
    "plt.imshow(train_images[image_index], cmap='Greys')"
   ]
  },
  {
   "cell_type": "markdown",
   "id": "a8d2388d",
   "metadata": {
    "papermill": {
     "duration": 0.027181,
     "end_time": "2022-06-15T20:10:05.676829",
     "exception": false,
     "start_time": "2022-06-15T20:10:05.649648",
     "status": "completed"
    },
    "tags": []
   },
   "source": [
    "## Filter data to get 3 and 8 out"
   ]
  },
  {
   "cell_type": "code",
   "execution_count": 10,
   "id": "776f7fc7",
   "metadata": {
    "execution": {
     "iopub.execute_input": "2022-06-15T20:10:05.743933Z",
     "iopub.status.busy": "2022-06-15T20:10:05.740108Z",
     "iopub.status.idle": "2022-06-15T20:10:05.758107Z",
     "shell.execute_reply": "2022-06-15T20:10:05.757587Z"
    },
    "papermill": {
     "duration": 0.054531,
     "end_time": "2022-06-15T20:10:05.758240",
     "exception": false,
     "start_time": "2022-06-15T20:10:05.703709",
     "status": "completed"
    },
    "tags": []
   },
   "outputs": [],
   "source": [
    "train_filter = np.where((train_labels == 3 ) | (train_labels == 8))\n",
    "test_filter = np.where((test_labels == 3) | (test_labels == 8))\n",
    "X_train, y_train = train_images[train_filter], train_labels[train_filter]\n",
    "X_test, y_test = test_images[test_filter], test_labels[test_filter]"
   ]
  },
  {
   "cell_type": "markdown",
   "id": "948f0b7e",
   "metadata": {
    "papermill": {
     "duration": 0.026624,
     "end_time": "2022-06-15T20:10:05.811842",
     "exception": false,
     "start_time": "2022-06-15T20:10:05.785218",
     "status": "completed"
    },
    "tags": []
   },
   "source": [
    "We normalize the pizel values in the 0 to 1 range"
   ]
  },
  {
   "cell_type": "code",
   "execution_count": 11,
   "id": "ee4c2166",
   "metadata": {
    "execution": {
     "iopub.execute_input": "2022-06-15T20:10:05.869833Z",
     "iopub.status.busy": "2022-06-15T20:10:05.869137Z",
     "iopub.status.idle": "2022-06-15T20:10:05.917683Z",
     "shell.execute_reply": "2022-06-15T20:10:05.917118Z"
    },
    "papermill": {
     "duration": 0.079367,
     "end_time": "2022-06-15T20:10:05.917813",
     "exception": false,
     "start_time": "2022-06-15T20:10:05.838446",
     "status": "completed"
    },
    "tags": []
   },
   "outputs": [],
   "source": [
    "X_train = X_train/255.\n",
    "X_test = X_test/255."
   ]
  },
  {
   "cell_type": "markdown",
   "id": "ddcf4fab",
   "metadata": {
    "papermill": {
     "duration": 0.026994,
     "end_time": "2022-06-15T20:10:05.972255",
     "exception": false,
     "start_time": "2022-06-15T20:10:05.945261",
     "status": "completed"
    },
    "tags": []
   },
   "source": [
    "And setup the labels as 1 (when the digit is 3) and 0 (when the digit is 8)"
   ]
  },
  {
   "cell_type": "code",
   "execution_count": 12,
   "id": "7dc908f2",
   "metadata": {
    "execution": {
     "iopub.execute_input": "2022-06-15T20:10:06.036611Z",
     "iopub.status.busy": "2022-06-15T20:10:06.035985Z",
     "iopub.status.idle": "2022-06-15T20:10:06.046005Z",
     "shell.execute_reply": "2022-06-15T20:10:06.045530Z"
    },
    "papermill": {
     "duration": 0.047222,
     "end_time": "2022-06-15T20:10:06.046132",
     "exception": false,
     "start_time": "2022-06-15T20:10:05.998910",
     "status": "completed"
    },
    "tags": []
   },
   "outputs": [],
   "source": [
    "y_train = 1*(y_train==3)\n",
    "y_test = 1*(y_test==3)"
   ]
  },
  {
   "cell_type": "code",
   "execution_count": 13,
   "id": "01e4e969",
   "metadata": {
    "execution": {
     "iopub.execute_input": "2022-06-15T20:10:06.103780Z",
     "iopub.status.busy": "2022-06-15T20:10:06.103174Z",
     "iopub.status.idle": "2022-06-15T20:10:06.117426Z",
     "shell.execute_reply": "2022-06-15T20:10:06.117908Z"
    },
    "papermill": {
     "duration": 0.045064,
     "end_time": "2022-06-15T20:10:06.118053",
     "exception": false,
     "start_time": "2022-06-15T20:10:06.072989",
     "status": "completed"
    },
    "tags": []
   },
   "outputs": [
    {
     "data": {
      "text/plain": [
       "((11982, 28, 28), (1984, 28, 28))"
      ]
     },
     "execution_count": 13,
     "metadata": {},
     "output_type": "execute_result"
    }
   ],
   "source": [
    "X_train.shape, X_test.shape"
   ]
  },
  {
   "cell_type": "markdown",
   "id": "5ccf3f85",
   "metadata": {
    "papermill": {
     "duration": 0.026781,
     "end_time": "2022-06-15T20:10:06.171657",
     "exception": false,
     "start_time": "2022-06-15T20:10:06.144876",
     "status": "completed"
    },
    "tags": []
   },
   "source": [
    "We reshape the data to flatten the image pixels into a set of features or co-variates:"
   ]
  },
  {
   "cell_type": "code",
   "execution_count": 14,
   "id": "5286a4a3",
   "metadata": {
    "execution": {
     "iopub.execute_input": "2022-06-15T20:10:06.235899Z",
     "iopub.status.busy": "2022-06-15T20:10:06.235198Z",
     "iopub.status.idle": "2022-06-15T20:10:06.247231Z",
     "shell.execute_reply": "2022-06-15T20:10:06.246634Z"
    },
    "papermill": {
     "duration": 0.04875,
     "end_time": "2022-06-15T20:10:06.247354",
     "exception": false,
     "start_time": "2022-06-15T20:10:06.198604",
     "status": "completed"
    },
    "tags": []
   },
   "outputs": [
    {
     "data": {
      "text/plain": [
       "((11982, 784), (1984, 784))"
      ]
     },
     "execution_count": 14,
     "metadata": {},
     "output_type": "execute_result"
    }
   ],
   "source": [
    "X_train = X_train.reshape(X_train.shape[0], -1)\n",
    "X_test = X_test.reshape(X_test.shape[0], -1)\n",
    "X_train.shape, X_test.shape"
   ]
  },
  {
   "cell_type": "code",
   "execution_count": 15,
   "id": "73c5f88a",
   "metadata": {
    "execution": {
     "iopub.execute_input": "2022-06-15T20:10:06.320716Z",
     "iopub.status.busy": "2022-06-15T20:10:06.318192Z",
     "iopub.status.idle": "2022-06-15T20:10:06.330837Z",
     "shell.execute_reply": "2022-06-15T20:10:06.330353Z"
    },
    "papermill": {
     "duration": 0.056234,
     "end_time": "2022-06-15T20:10:06.330984",
     "exception": false,
     "start_time": "2022-06-15T20:10:06.274750",
     "status": "completed"
    },
    "tags": []
   },
   "outputs": [],
   "source": [
    "#Impoting functions from 'Kudzu'\n",
    "from kudzu.model import Model\n",
    "from kudzu.train import Learner\n",
    "from kudzu.optim import GD\n",
    "from kudzu.data import Data, Sampler,Dataloader\n",
    "\n",
    "from kudzu.callbacks import AccCallback\n",
    "from kudzu.callbacks import ClfCallback\n",
    "\n",
    "from kudzu.loss import MSE\n",
    "\n",
    "from kudzu.layer import Sigmoid,Relu\n",
    "from kudzu.layer import Affine"
   ]
  },
  {
   "cell_type": "markdown",
   "id": "bc01172a",
   "metadata": {
    "papermill": {
     "duration": 0.027112,
     "end_time": "2022-06-15T20:10:06.385529",
     "exception": false,
     "start_time": "2022-06-15T20:10:06.358417",
     "status": "completed"
    },
    "tags": []
   },
   "source": [
    "### Let us create a `Config` class, to store important parameters. \n",
    "This class essentially plays the role of a dictionary."
   ]
  },
  {
   "cell_type": "code",
   "execution_count": 16,
   "id": "978281aa",
   "metadata": {
    "execution": {
     "iopub.execute_input": "2022-06-15T20:10:06.448533Z",
     "iopub.status.busy": "2022-06-15T20:10:06.447910Z",
     "iopub.status.idle": "2022-06-15T20:10:06.458708Z",
     "shell.execute_reply": "2022-06-15T20:10:06.458222Z"
    },
    "papermill": {
     "duration": 0.046135,
     "end_time": "2022-06-15T20:10:06.458833",
     "exception": false,
     "start_time": "2022-06-15T20:10:06.412698",
     "status": "completed"
    },
    "tags": []
   },
   "outputs": [],
   "source": [
    "class Config:\n",
    "    pass\n",
    "config = Config()\n",
    "config.lr = 0.001\n",
    "config.num_epochs = 250\n",
    "config.bs = 50"
   ]
  },
  {
   "cell_type": "markdown",
   "id": "1385fa59",
   "metadata": {
    "papermill": {
     "duration": 0.027215,
     "end_time": "2022-06-15T20:10:06.513504",
     "exception": false,
     "start_time": "2022-06-15T20:10:06.486289",
     "status": "completed"
    },
    "tags": []
   },
   "source": [
    "### Running Models with the Training data\n",
    "Details about the network layers:\n",
    "- A first affine layer has 784 inputs and does 100 affine transforms. These are followed by a Relu\n",
    "- A second affine layer has 100 inputs from the 100 activations of the past layer, and does 100 affine transforms. These are followed by a Relu\n",
    "- A third affine layer has 100 activations and does 2 affine transformations to create an embedding for visualization. There is no non-linearity here.\n",
    "- A final \"logistic regression\" which has an affine transform from 2 inputs to 1 output, which is squeezed through a sigmoid.\n"
   ]
  },
  {
   "cell_type": "code",
   "execution_count": 17,
   "id": "2b9c66db",
   "metadata": {
    "execution": {
     "iopub.execute_input": "2022-06-15T20:10:06.578170Z",
     "iopub.status.busy": "2022-06-15T20:10:06.577559Z",
     "iopub.status.idle": "2022-06-15T20:10:06.587260Z",
     "shell.execute_reply": "2022-06-15T20:10:06.586754Z"
    },
    "papermill": {
     "duration": 0.046708,
     "end_time": "2022-06-15T20:10:06.587379",
     "exception": false,
     "start_time": "2022-06-15T20:10:06.540671",
     "status": "completed"
    },
    "tags": []
   },
   "outputs": [],
   "source": [
    "data = Data(X_train, y_train.reshape(-1,1))\n",
    "sampler = Sampler(data, config.bs, shuffle=True)\n",
    "\n",
    "dl = Dataloader(data, sampler)\n",
    "\n",
    "opt = GD(config.lr)\n",
    "loss = MSE()"
   ]
  },
  {
   "cell_type": "code",
   "execution_count": 18,
   "id": "b275e4c2",
   "metadata": {
    "execution": {
     "iopub.execute_input": "2022-06-15T20:10:06.655840Z",
     "iopub.status.busy": "2022-06-15T20:10:06.650669Z",
     "iopub.status.idle": "2022-06-15T20:10:06.660432Z",
     "shell.execute_reply": "2022-06-15T20:10:06.659915Z"
    },
    "papermill": {
     "duration": 0.046052,
     "end_time": "2022-06-15T20:10:06.660549",
     "exception": false,
     "start_time": "2022-06-15T20:10:06.614497",
     "status": "completed"
    },
    "tags": []
   },
   "outputs": [],
   "source": [
    "training_data_x = X_train\n",
    "testing_data_x = X_test\n",
    "training_data_y = y_train.reshape(-1,1)\n",
    "testing_data_y = y_test.reshape(-1,1)"
   ]
  },
  {
   "cell_type": "code",
   "execution_count": 19,
   "id": "76951160",
   "metadata": {
    "execution": {
     "iopub.execute_input": "2022-06-15T20:10:06.733086Z",
     "iopub.status.busy": "2022-06-15T20:10:06.727981Z",
     "iopub.status.idle": "2022-06-15T20:10:06.743010Z",
     "shell.execute_reply": "2022-06-15T20:10:06.742490Z"
    },
    "papermill": {
     "duration": 0.055425,
     "end_time": "2022-06-15T20:10:06.743133",
     "exception": false,
     "start_time": "2022-06-15T20:10:06.687708",
     "status": "completed"
    },
    "tags": []
   },
   "outputs": [
    {
     "name": "stdout",
     "output_type": "stream",
     "text": [
      "xavier\n",
      "xavier\n",
      "xavier\n",
      "xavier\n",
      "xavier\n"
     ]
    }
   ],
   "source": [
    "layers = [Affine(\"first\", 784, 100), Relu(\"first\"), Affine(\"second\", 100, 100), Relu(\"second\"), Affine(\"third\", 100, 2), Affine(\"last\", 2, 1), Sigmoid(\"last\")]\n",
    "model_nn = Model(layers)\n",
    "model_lr = Model([Affine(\"logits\", 784, 1), Sigmoid(\"sigmoid\")])"
   ]
  },
  {
   "cell_type": "code",
   "execution_count": 20,
   "id": "6eede77a",
   "metadata": {
    "execution": {
     "iopub.execute_input": "2022-06-15T20:10:06.805021Z",
     "iopub.status.busy": "2022-06-15T20:10:06.804427Z",
     "iopub.status.idle": "2022-06-15T20:10:06.816209Z",
     "shell.execute_reply": "2022-06-15T20:10:06.815725Z"
    },
    "papermill": {
     "duration": 0.045295,
     "end_time": "2022-06-15T20:10:06.816325",
     "exception": false,
     "start_time": "2022-06-15T20:10:06.771030",
     "status": "completed"
    },
    "tags": []
   },
   "outputs": [],
   "source": [
    "nn_learner = Learner(loss, model_nn, opt, config.num_epochs)\n",
    "acc_nn = ClfCallback(nn_learner, config.bs, training_data_x , testing_data_x, training_data_y, testing_data_y)\n",
    "nn_learner.set_callbacks([acc_nn])"
   ]
  },
  {
   "cell_type": "code",
   "execution_count": 21,
   "id": "877b6cc7",
   "metadata": {
    "execution": {
     "iopub.execute_input": "2022-06-15T20:10:06.880569Z",
     "iopub.status.busy": "2022-06-15T20:10:06.879968Z",
     "iopub.status.idle": "2022-06-15T20:10:06.889305Z",
     "shell.execute_reply": "2022-06-15T20:10:06.889756Z"
    },
    "papermill": {
     "duration": 0.045863,
     "end_time": "2022-06-15T20:10:06.889897",
     "exception": false,
     "start_time": "2022-06-15T20:10:06.844034",
     "status": "completed"
    },
    "tags": []
   },
   "outputs": [],
   "source": [
    "lr_learner = Learner(loss, model_lr, opt, config.num_epochs)\n",
    "acc_lr = ClfCallback(lr_learner, config.bs, training_data_x , testing_data_x, training_data_y, testing_data_y)\n",
    "lr_learner.set_callbacks([acc_lr])"
   ]
  },
  {
   "cell_type": "code",
   "execution_count": 22,
   "id": "d9b133c3",
   "metadata": {
    "execution": {
     "iopub.execute_input": "2022-06-15T20:10:06.960599Z",
     "iopub.status.busy": "2022-06-15T20:10:06.959974Z",
     "iopub.status.idle": "2022-06-15T20:11:22.666391Z",
     "shell.execute_reply": "2022-06-15T20:11:22.667289Z"
    },
    "papermill": {
     "duration": 75.749801,
     "end_time": "2022-06-15T20:11:22.667451",
     "exception": false,
     "start_time": "2022-06-15T20:10:06.917650",
     "status": "completed"
    },
    "tags": []
   },
   "outputs": [
    {
     "name": "stdout",
     "output_type": "stream",
     "text": [
      "Epoch 0, Loss 0.2439\n",
      "Training Accuracy: 0.6036, Testing Accuracy: 0.6074\n",
      "\n"
     ]
    },
    {
     "name": "stdout",
     "output_type": "stream",
     "text": [
      "Epoch 10, Loss 0.1091\n",
      "Training Accuracy: 0.9102, Testing Accuracy: 0.9244\n",
      "\n"
     ]
    },
    {
     "name": "stdout",
     "output_type": "stream",
     "text": [
      "Epoch 20, Loss 0.0632\n",
      "Training Accuracy: 0.9366, Testing Accuracy: 0.9496\n",
      "\n"
     ]
    },
    {
     "name": "stdout",
     "output_type": "stream",
     "text": [
      "Epoch 30, Loss 0.0485\n",
      "Training Accuracy: 0.9485, Testing Accuracy: 0.9551\n",
      "\n"
     ]
    },
    {
     "name": "stdout",
     "output_type": "stream",
     "text": [
      "Epoch 40, Loss 0.0415\n",
      "Training Accuracy: 0.9540, Testing Accuracy: 0.9602\n",
      "\n"
     ]
    },
    {
     "name": "stdout",
     "output_type": "stream",
     "text": [
      "Epoch 50, Loss 0.0374\n",
      "Training Accuracy: 0.9576, Testing Accuracy: 0.9617\n",
      "\n"
     ]
    },
    {
     "name": "stdout",
     "output_type": "stream",
     "text": [
      "Epoch 60, Loss 0.0346\n",
      "Training Accuracy: 0.9609, Testing Accuracy: 0.9612\n",
      "\n"
     ]
    },
    {
     "name": "stdout",
     "output_type": "stream",
     "text": [
      "Epoch 70, Loss 0.0325\n",
      "Training Accuracy: 0.9633, Testing Accuracy: 0.9652\n",
      "\n"
     ]
    },
    {
     "name": "stdout",
     "output_type": "stream",
     "text": [
      "Epoch 80, Loss 0.0309\n",
      "Training Accuracy: 0.9646, Testing Accuracy: 0.9672\n",
      "\n"
     ]
    },
    {
     "name": "stdout",
     "output_type": "stream",
     "text": [
      "Epoch 90, Loss 0.0296\n",
      "Training Accuracy: 0.9656, Testing Accuracy: 0.9682\n",
      "\n"
     ]
    },
    {
     "name": "stdout",
     "output_type": "stream",
     "text": [
      "Epoch 100, Loss 0.0285\n",
      "Training Accuracy: 0.9664, Testing Accuracy: 0.9693\n",
      "\n"
     ]
    },
    {
     "name": "stdout",
     "output_type": "stream",
     "text": [
      "Epoch 110, Loss 0.0275\n",
      "Training Accuracy: 0.9678, Testing Accuracy: 0.9713\n",
      "\n"
     ]
    },
    {
     "name": "stdout",
     "output_type": "stream",
     "text": [
      "Epoch 120, Loss 0.0267\n",
      "Training Accuracy: 0.9685, Testing Accuracy: 0.9713\n",
      "\n"
     ]
    },
    {
     "name": "stdout",
     "output_type": "stream",
     "text": [
      "Epoch 130, Loss 0.0259\n",
      "Training Accuracy: 0.9694, Testing Accuracy: 0.9718\n",
      "\n"
     ]
    },
    {
     "name": "stdout",
     "output_type": "stream",
     "text": [
      "Epoch 140, Loss 0.0253\n",
      "Training Accuracy: 0.9705, Testing Accuracy: 0.9713\n",
      "\n"
     ]
    },
    {
     "name": "stdout",
     "output_type": "stream",
     "text": [
      "Epoch 150, Loss 0.0246\n",
      "Training Accuracy: 0.9710, Testing Accuracy: 0.9723\n",
      "\n"
     ]
    },
    {
     "name": "stdout",
     "output_type": "stream",
     "text": [
      "Epoch 160, Loss 0.0241\n",
      "Training Accuracy: 0.9717, Testing Accuracy: 0.9718\n",
      "\n"
     ]
    },
    {
     "name": "stdout",
     "output_type": "stream",
     "text": [
      "Epoch 170, Loss 0.0236\n",
      "Training Accuracy: 0.9722, Testing Accuracy: 0.9718\n",
      "\n"
     ]
    },
    {
     "name": "stdout",
     "output_type": "stream",
     "text": [
      "Epoch 180, Loss 0.0231\n",
      "Training Accuracy: 0.9724, Testing Accuracy: 0.9718\n",
      "\n"
     ]
    },
    {
     "name": "stdout",
     "output_type": "stream",
     "text": [
      "Epoch 190, Loss 0.0226\n",
      "Training Accuracy: 0.9731, Testing Accuracy: 0.9733\n",
      "\n"
     ]
    },
    {
     "name": "stdout",
     "output_type": "stream",
     "text": [
      "Epoch 200, Loss 0.0222\n",
      "Training Accuracy: 0.9740, Testing Accuracy: 0.9738\n",
      "\n"
     ]
    },
    {
     "name": "stdout",
     "output_type": "stream",
     "text": [
      "Epoch 210, Loss 0.0218\n",
      "Training Accuracy: 0.9750, Testing Accuracy: 0.9738\n",
      "\n"
     ]
    },
    {
     "name": "stdout",
     "output_type": "stream",
     "text": [
      "Epoch 220, Loss 0.0214\n",
      "Training Accuracy: 0.9755, Testing Accuracy: 0.9738\n",
      "\n"
     ]
    },
    {
     "name": "stdout",
     "output_type": "stream",
     "text": [
      "Epoch 230, Loss 0.021\n",
      "Training Accuracy: 0.9765, Testing Accuracy: 0.9743\n",
      "\n"
     ]
    },
    {
     "name": "stdout",
     "output_type": "stream",
     "text": [
      "Epoch 240, Loss 0.0206\n",
      "Training Accuracy: 0.9770, Testing Accuracy: 0.9743\n",
      "\n"
     ]
    },
    {
     "data": {
      "text/plain": [
       "0.011499937507157105"
      ]
     },
     "execution_count": 22,
     "metadata": {},
     "output_type": "execute_result"
    }
   ],
   "source": [
    "nn_learner.train_loop(dl)"
   ]
  },
  {
   "cell_type": "code",
   "execution_count": 23,
   "id": "e0163366",
   "metadata": {
    "execution": {
     "iopub.execute_input": "2022-06-15T20:11:22.752053Z",
     "iopub.status.busy": "2022-06-15T20:11:22.751430Z",
     "iopub.status.idle": "2022-06-15T20:11:37.010330Z",
     "shell.execute_reply": "2022-06-15T20:11:37.010771Z"
    },
    "papermill": {
     "duration": 14.307853,
     "end_time": "2022-06-15T20:11:37.010917",
     "exception": false,
     "start_time": "2022-06-15T20:11:22.703064",
     "status": "completed"
    },
    "tags": []
   },
   "outputs": [
    {
     "name": "stdout",
     "output_type": "stream",
     "text": [
      "Epoch 0, Loss 0.2728\n",
      "Training Accuracy: 0.5547, Testing Accuracy: 0.5439\n",
      "\n"
     ]
    },
    {
     "name": "stdout",
     "output_type": "stream",
     "text": [
      "Epoch 10, Loss 0.1083\n",
      "Training Accuracy: 0.9006, Testing Accuracy: 0.9183\n",
      "\n"
     ]
    },
    {
     "name": "stdout",
     "output_type": "stream",
     "text": [
      "Epoch 20, Loss 0.0811\n",
      "Training Accuracy: 0.9271, Testing Accuracy: 0.9380\n",
      "\n"
     ]
    },
    {
     "name": "stdout",
     "output_type": "stream",
     "text": [
      "Epoch 30, Loss 0.0692\n",
      "Training Accuracy: 0.9362, Testing Accuracy: 0.9471\n",
      "\n"
     ]
    },
    {
     "name": "stdout",
     "output_type": "stream",
     "text": [
      "Epoch 40, Loss 0.0622\n",
      "Training Accuracy: 0.9392, Testing Accuracy: 0.9511\n",
      "\n"
     ]
    },
    {
     "name": "stdout",
     "output_type": "stream",
     "text": [
      "Epoch 50, Loss 0.0575\n",
      "Training Accuracy: 0.9432, Testing Accuracy: 0.9541\n",
      "\n"
     ]
    },
    {
     "name": "stdout",
     "output_type": "stream",
     "text": [
      "Epoch 60, Loss 0.0541\n",
      "Training Accuracy: 0.9463, Testing Accuracy: 0.9572\n",
      "\n"
     ]
    },
    {
     "name": "stdout",
     "output_type": "stream",
     "text": [
      "Epoch 70, Loss 0.0515\n",
      "Training Accuracy: 0.9489, Testing Accuracy: 0.9592\n",
      "\n"
     ]
    },
    {
     "name": "stdout",
     "output_type": "stream",
     "text": [
      "Epoch 80, Loss 0.0494\n",
      "Training Accuracy: 0.9508, Testing Accuracy: 0.9597\n",
      "\n"
     ]
    },
    {
     "name": "stdout",
     "output_type": "stream",
     "text": [
      "Epoch 90, Loss 0.0477\n",
      "Training Accuracy: 0.9520, Testing Accuracy: 0.9607\n",
      "\n"
     ]
    },
    {
     "name": "stdout",
     "output_type": "stream",
     "text": [
      "Epoch 100, Loss 0.0462\n",
      "Training Accuracy: 0.9539, Testing Accuracy: 0.9627\n",
      "\n"
     ]
    },
    {
     "name": "stdout",
     "output_type": "stream",
     "text": [
      "Epoch 110, Loss 0.045\n",
      "Training Accuracy: 0.9546, Testing Accuracy: 0.9637\n",
      "\n"
     ]
    },
    {
     "name": "stdout",
     "output_type": "stream",
     "text": [
      "Epoch 120, Loss 0.0439\n",
      "Training Accuracy: 0.9556, Testing Accuracy: 0.9642\n",
      "\n"
     ]
    },
    {
     "name": "stdout",
     "output_type": "stream",
     "text": [
      "Epoch 130, Loss 0.043\n",
      "Training Accuracy: 0.9559, Testing Accuracy: 0.9657\n",
      "\n"
     ]
    },
    {
     "name": "stdout",
     "output_type": "stream",
     "text": [
      "Epoch 140, Loss 0.0421\n",
      "Training Accuracy: 0.9566, Testing Accuracy: 0.9667\n",
      "\n"
     ]
    },
    {
     "name": "stdout",
     "output_type": "stream",
     "text": [
      "Epoch 150, Loss 0.0414\n",
      "Training Accuracy: 0.9573, Testing Accuracy: 0.9677\n",
      "\n"
     ]
    },
    {
     "name": "stdout",
     "output_type": "stream",
     "text": [
      "Epoch 160, Loss 0.0407\n",
      "Training Accuracy: 0.9574, Testing Accuracy: 0.9677\n",
      "\n"
     ]
    },
    {
     "name": "stdout",
     "output_type": "stream",
     "text": [
      "Epoch 170, Loss 0.0401\n",
      "Training Accuracy: 0.9578, Testing Accuracy: 0.9682\n",
      "\n"
     ]
    },
    {
     "name": "stdout",
     "output_type": "stream",
     "text": [
      "Epoch 180, Loss 0.0395\n",
      "Training Accuracy: 0.9579, Testing Accuracy: 0.9688\n",
      "\n"
     ]
    },
    {
     "name": "stdout",
     "output_type": "stream",
     "text": [
      "Epoch 190, Loss 0.039\n",
      "Training Accuracy: 0.9584, Testing Accuracy: 0.9688\n",
      "\n"
     ]
    },
    {
     "name": "stdout",
     "output_type": "stream",
     "text": [
      "Epoch 200, Loss 0.0385\n",
      "Training Accuracy: 0.9589, Testing Accuracy: 0.9682\n",
      "\n"
     ]
    },
    {
     "name": "stdout",
     "output_type": "stream",
     "text": [
      "Epoch 210, Loss 0.038\n",
      "Training Accuracy: 0.9595, Testing Accuracy: 0.9682\n",
      "\n"
     ]
    },
    {
     "name": "stdout",
     "output_type": "stream",
     "text": [
      "Epoch 220, Loss 0.0376\n",
      "Training Accuracy: 0.9597, Testing Accuracy: 0.9677\n",
      "\n"
     ]
    },
    {
     "name": "stdout",
     "output_type": "stream",
     "text": [
      "Epoch 230, Loss 0.0372\n",
      "Training Accuracy: 0.9600, Testing Accuracy: 0.9677\n",
      "\n"
     ]
    },
    {
     "name": "stdout",
     "output_type": "stream",
     "text": [
      "Epoch 240, Loss 0.0369\n",
      "Training Accuracy: 0.9605, Testing Accuracy: 0.9672\n",
      "\n"
     ]
    },
    {
     "data": {
      "text/plain": [
       "0.0428884128007352"
      ]
     },
     "execution_count": 23,
     "metadata": {},
     "output_type": "execute_result"
    }
   ],
   "source": [
    "lr_learner.train_loop(dl)"
   ]
  },
  {
   "cell_type": "code",
   "execution_count": 24,
   "id": "ca410940",
   "metadata": {
    "execution": {
     "iopub.execute_input": "2022-06-15T20:11:37.108345Z",
     "iopub.status.busy": "2022-06-15T20:11:37.107723Z",
     "iopub.status.idle": "2022-06-15T20:11:37.317780Z",
     "shell.execute_reply": "2022-06-15T20:11:37.318248Z"
    },
    "papermill": {
     "duration": 0.265778,
     "end_time": "2022-06-15T20:11:37.318395",
     "exception": false,
     "start_time": "2022-06-15T20:11:37.052617",
     "status": "completed"
    },
    "tags": []
   },
   "outputs": [
    {
     "data": {
      "text/plain": [
       "<matplotlib.legend.Legend at 0x7f8698463a20>"
      ]
     },
     "execution_count": 24,
     "metadata": {},
     "output_type": "execute_result"
    },
    {
     "data": {
      "image/png": "[encoded data removed]",
      "text/plain": [
       "<Figure size 1080x720 with 1 Axes>"
      ]
     },
     "metadata": {
      "needs_background": "light"
     },
     "output_type": "display_data"
    }
   ],
   "source": [
    "#comparing the results of NN and LR\n",
    "plt.figure(figsize=(15,10))\n",
    "\n",
    "# Neural Network plots\n",
    "plt.plot(acc_nn.accuracies, 'r-', label = \"Training Accuracies - NN\")\n",
    "plt.plot(acc_nn.test_accuracies, 'g-', label = \"Testing Accuracies - NN\")\n",
    "\n",
    "# Logistic Regression plots\n",
    "plt.plot(acc_lr.accuracies, 'k-', label = \"Training Accuracies - LR\")\n",
    "plt.plot(acc_lr.test_accuracies, 'b-', label = \"Testing Accuracies - LR\")\n",
    "plt.legend()"
   ]
  },
  {
   "cell_type": "markdown",
   "id": "80dfb35c",
   "metadata": {
    "papermill": {
     "duration": 0.041999,
     "end_time": "2022-06-15T20:11:37.402757",
     "exception": false,
     "start_time": "2022-06-15T20:11:37.360758",
     "status": "completed"
    },
    "tags": []
   },
   "source": [
    "#### Plotting the outputs of this layer of the NN.\n"
   ]
  },
  {
   "cell_type": "code",
   "execution_count": 25,
   "id": "45eb2ff5",
   "metadata": {
    "execution": {
     "iopub.execute_input": "2022-06-15T20:11:37.492851Z",
     "iopub.status.busy": "2022-06-15T20:11:37.492253Z",
     "iopub.status.idle": "2022-06-15T20:11:37.511597Z",
     "shell.execute_reply": "2022-06-15T20:11:37.512322Z"
    },
    "papermill": {
     "duration": 0.067755,
     "end_time": "2022-06-15T20:11:37.512464",
     "exception": false,
     "start_time": "2022-06-15T20:11:37.444709",
     "status": "completed"
    },
    "tags": []
   },
   "outputs": [],
   "source": [
    "new_model = Model(layers[:-2])\n",
    "testing_plot = new_model(testing_data_x)"
   ]
  },
  {
   "cell_type": "code",
   "execution_count": 26,
   "id": "4c0a5485",
   "metadata": {
    "execution": {
     "iopub.execute_input": "2022-06-15T20:11:37.601432Z",
     "iopub.status.busy": "2022-06-15T20:11:37.600845Z",
     "iopub.status.idle": "2022-06-15T20:11:37.796608Z",
     "shell.execute_reply": "2022-06-15T20:11:37.797181Z"
    },
    "papermill": {
     "duration": 0.242573,
     "end_time": "2022-06-15T20:11:37.797325",
     "exception": false,
     "start_time": "2022-06-15T20:11:37.554752",
     "status": "completed"
    },
    "tags": []
   },
   "outputs": [
    {
     "data": {
      "text/plain": [
       "Text(0.5, 1.0, 'Outputs')"
      ]
     },
     "execution_count": 26,
     "metadata": {},
     "output_type": "execute_result"
    },
    {
     "data": {
      "image/png": "[encoded data removed]",
      "text/plain": [
       "<Figure size 576x504 with 1 Axes>"
      ]
     },
     "metadata": {
      "needs_background": "light"
     },
     "output_type": "display_data"
    }
   ],
   "source": [
    "# Plotting the scatter plot of points and color coding by class\n",
    "plt.figure(figsize=(8,7))\n",
    "plt.scatter(testing_plot[:,0], testing_plot[:,1], alpha = 0.1, c = y_test.ravel());\n",
    "plt.title('Outputs')"
   ]
  },
  {
   "cell_type": "markdown",
   "id": "a74fcf8f",
   "metadata": {
    "papermill": {
     "duration": 0.044242,
     "end_time": "2022-06-15T20:11:37.885943",
     "exception": false,
     "start_time": "2022-06-15T20:11:37.841701",
     "status": "completed"
    },
    "tags": []
   },
   "source": [
    "Probability contours"
   ]
  },
  {
   "cell_type": "code",
   "execution_count": 27,
   "id": "d0afc8e3",
   "metadata": {
    "execution": {
     "iopub.execute_input": "2022-06-15T20:11:38.021243Z",
     "iopub.status.busy": "2022-06-15T20:11:38.019917Z",
     "iopub.status.idle": "2022-06-15T20:11:38.027510Z",
     "shell.execute_reply": "2022-06-15T20:11:38.027017Z"
    },
    "papermill": {
     "duration": 0.097208,
     "end_time": "2022-06-15T20:11:38.027631",
     "exception": false,
     "start_time": "2022-06-15T20:11:37.930423",
     "status": "completed"
    },
    "tags": []
   },
   "outputs": [],
   "source": [
    "model_prob = Model(layers[-2:]) "
   ]
  },
  {
   "cell_type": "code",
   "execution_count": 28,
   "id": "9b96e238",
   "metadata": {
    "execution": {
     "iopub.execute_input": "2022-06-15T20:11:38.128537Z",
     "iopub.status.busy": "2022-06-15T20:11:38.127932Z",
     "iopub.status.idle": "2022-06-15T20:11:38.138727Z",
     "shell.execute_reply": "2022-06-15T20:11:38.139175Z"
    },
    "papermill": {
     "duration": 0.067022,
     "end_time": "2022-06-15T20:11:38.139318",
     "exception": false,
     "start_time": "2022-06-15T20:11:38.072296",
     "status": "completed"
    },
    "tags": []
   },
   "outputs": [],
   "source": [
    "#creating the x and y ranges according to the above generated plot.\n",
    "x_range = np.linspace(-4, 1, 100) \n",
    "y_range = np.linspace(-6, 6, 100) \n",
    "x_grid, y_grid = np.meshgrid(x_range, y_range) # x_grid and y_grig are of size 100 X 100\n",
    "\n",
    "# converting x_grid and y_grid to continuous arrays\n",
    "x_gridflat = np.ravel(x_grid)\n",
    "y_gridflat = np.ravel(y_grid)\n",
    "\n",
    "# The last layer of the current model takes two columns as input. Hence transpose of np.vstack() is required.\n",
    "X = np.vstack((x_gridflat, y_gridflat)).T\n",
    "\n",
    "prob_contour = model_prob(X).reshape(100,100) "
   ]
  },
  {
   "cell_type": "code",
   "execution_count": 29,
   "id": "da72499a",
   "metadata": {
    "execution": {
     "iopub.execute_input": "2022-06-15T20:11:38.233283Z",
     "iopub.status.busy": "2022-06-15T20:11:38.232676Z",
     "iopub.status.idle": "2022-06-15T20:11:38.481406Z",
     "shell.execute_reply": "2022-06-15T20:11:38.482058Z"
    },
    "papermill": {
     "duration": 0.298171,
     "end_time": "2022-06-15T20:11:38.482216",
     "exception": false,
     "start_time": "2022-06-15T20:11:38.184045",
     "status": "completed"
    },
    "tags": []
   },
   "outputs": [
    {
     "data": {
      "image/png": "[encoded data removed]",
      "text/plain": [
       "<Figure size 720x648 with 1 Axes>"
      ]
     },
     "metadata": {
      "needs_background": "light"
     },
     "output_type": "display_data"
    }
   ],
   "source": [
    "plt.figure(figsize=(10,9))\n",
    "plt.scatter(testing_plot[:,0], testing_plot[:,1], alpha = 0.1, c = y_test.ravel())\n",
    "contours = plt.contour(x_grid,y_grid,prob_contour)\n",
    "plt.title('Probability Contours')\n",
    "plt.clabel(contours, inline = True );"
   ]
  },
  {
   "cell_type": "code",
   "execution_count": null,
   "id": "e81b4ac7",
   "metadata": {
    "papermill": {
     "duration": 0.047401,
     "end_time": "2022-06-15T20:11:38.577741",
     "exception": false,
     "start_time": "2022-06-15T20:11:38.530340",
     "status": "completed"
    },
    "tags": []
   },
   "outputs": [],
   "source": []
  }
 ],
 "metadata": {
  "kernelspec": {
   "display_name": "Python 3",
   "language": "python",
   "name": "python3"
  },
  "language_info": {
   "codemirror_mode": {
    "name": "ipython",
    "version": 3
   },
   "file_extension": ".py",
   "mimetype": "text/x-python",
   "name": "python",
   "nbconvert_exporter": "python",
   "pygments_lexer": "ipython3",
   "version": "3.6.15"
  },
  "papermill": {
   "default_parameters": {},
   "duration": 99.090733,
   "end_time": "2022-06-15T20:11:39.045334",
   "environment_variables": {},
   "exception": null,
   "input_path": "2020-08-11-part2.ipynb",
   "output_path": "2020-08-11-part2.ipynb",
   "parameters": {},
   "start_time": "2022-06-15T20:09:59.954601",
   "version": "2.3.3"
  }
 },
 "nbformat": 4,
 "nbformat_minor": 5
}