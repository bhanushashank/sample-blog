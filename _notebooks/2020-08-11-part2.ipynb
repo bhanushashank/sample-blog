{
 "cells": [
  {
   "cell_type": "markdown",
   "id": "98380cd3",
   "metadata": {
    "papermill": {
     "duration": 0.032335,
     "end_time": "2022-04-25T00:32:08.947937",
     "exception": false,
     "start_time": "2022-04-25T00:32:08.915602",
     "status": "completed"
    },
    "tags": []
   },
   "source": [
    "# Distinguish Your Own Digits (DYOD)"
   ]
  },
  {
   "cell_type": "markdown",
   "id": "ef31240d",
   "metadata": {
    "papermill": {
     "duration": 0.026786,
     "end_time": "2022-04-25T00:32:09.000032",
     "exception": false,
     "start_time": "2022-04-25T00:32:08.973246",
     "status": "completed"
    },
    "tags": []
   },
   "source": [
    "You are going to write a classifier that distinguishes between the number 3 and number 8."
   ]
  },
  {
   "cell_type": "code",
   "execution_count": 1,
   "id": "b15c8646",
   "metadata": {
    "execution": {
     "iopub.execute_input": "2022-04-25T00:32:09.058431Z",
     "iopub.status.busy": "2022-04-25T00:32:09.057875Z",
     "iopub.status.idle": "2022-04-25T00:32:09.069036Z",
     "shell.execute_reply": "2022-04-25T00:32:09.068568Z"
    },
    "papermill": {
     "duration": 0.044992,
     "end_time": "2022-04-25T00:32:09.069220",
     "exception": false,
     "start_time": "2022-04-25T00:32:09.024228",
     "status": "completed"
    },
    "tags": []
   },
   "outputs": [],
   "source": [
    "%load_ext autoreload\n",
    "%autoreload 2"
   ]
  },
  {
   "cell_type": "code",
   "execution_count": 2,
   "id": "22ef38dc",
   "metadata": {
    "execution": {
     "iopub.execute_input": "2022-04-25T00:32:09.127752Z",
     "iopub.status.busy": "2022-04-25T00:32:09.126953Z",
     "iopub.status.idle": "2022-04-25T00:32:09.662320Z",
     "shell.execute_reply": "2022-04-25T00:32:09.662760Z"
    },
    "papermill": {
     "duration": 0.56863,
     "end_time": "2022-04-25T00:32:09.662919",
     "exception": false,
     "start_time": "2022-04-25T00:32:09.094289",
     "status": "completed"
    },
    "tags": []
   },
   "outputs": [],
   "source": [
    "%matplotlib inline\n",
    "import numpy as np\n",
    "import matplotlib.pyplot as plt\n",
    "import pandas as pd"
   ]
  },
  {
   "cell_type": "markdown",
   "id": "ba036198",
   "metadata": {
    "papermill": {
     "duration": 0.029958,
     "end_time": "2022-04-25T00:32:09.719679",
     "exception": false,
     "start_time": "2022-04-25T00:32:09.689721",
     "status": "completed"
    },
    "tags": []
   },
   "source": [
    "From the command line run `pip install mnist`. This is a library that will help you bring down the mnist dataset. If you run this from a notebook, you need to put  `!pip install mnist` in a cell by itself."
   ]
  },
  {
   "cell_type": "code",
   "execution_count": 3,
   "id": "bb6ad8a1",
   "metadata": {
    "execution": {
     "iopub.execute_input": "2022-04-25T00:32:09.777323Z",
     "iopub.status.busy": "2022-04-25T00:32:09.776606Z",
     "iopub.status.idle": "2022-04-25T00:32:11.504163Z",
     "shell.execute_reply": "2022-04-25T00:32:11.503567Z"
    },
    "papermill": {
     "duration": 1.759689,
     "end_time": "2022-04-25T00:32:11.504314",
     "exception": false,
     "start_time": "2022-04-25T00:32:09.744625",
     "status": "completed"
    },
    "tags": []
   },
   "outputs": [
    {
     "name": "stdout",
     "output_type": "stream",
     "text": [
      "Collecting mnist\r\n",
      "  Downloading mnist-0.2.2-py2.py3-none-any.whl (3.5 kB)\r\n",
      "Requirement already satisfied: numpy in /opt/hostedtoolcache/Python/3.6.15/x64/lib/python3.6/site-packages (from mnist) (1.19.5)\r\n"
     ]
    },
    {
     "name": "stdout",
     "output_type": "stream",
     "text": [
      "Installing collected packages: mnist\r\n",
      "Successfully installed mnist-0.2.2\r\n"
     ]
    }
   ],
   "source": [
    "!pip install mnist"
   ]
  },
  {
   "cell_type": "markdown",
   "id": "69df9c9a",
   "metadata": {
    "papermill": {
     "duration": 0.025355,
     "end_time": "2022-04-25T00:32:11.556526",
     "exception": false,
     "start_time": "2022-04-25T00:32:11.531171",
     "status": "completed"
    },
    "tags": []
   },
   "source": [
    "## Preparing the Data"
   ]
  },
  {
   "cell_type": "code",
   "execution_count": 4,
   "id": "7f69d806",
   "metadata": {
    "execution": {
     "iopub.execute_input": "2022-04-25T00:32:11.621238Z",
     "iopub.status.busy": "2022-04-25T00:32:11.620653Z",
     "iopub.status.idle": "2022-04-25T00:32:11.628239Z",
     "shell.execute_reply": "2022-04-25T00:32:11.628680Z"
    },
    "papermill": {
     "duration": 0.047055,
     "end_time": "2022-04-25T00:32:11.628805",
     "exception": false,
     "start_time": "2022-04-25T00:32:11.581750",
     "status": "completed"
    },
    "tags": []
   },
   "outputs": [],
   "source": [
    "import mnist"
   ]
  },
  {
   "cell_type": "code",
   "execution_count": 5,
   "id": "a411e44f",
   "metadata": {
    "execution": {
     "iopub.execute_input": "2022-04-25T00:32:11.683169Z",
     "iopub.status.busy": "2022-04-25T00:32:11.682628Z",
     "iopub.status.idle": "2022-04-25T00:32:12.159724Z",
     "shell.execute_reply": "2022-04-25T00:32:12.159116Z"
    },
    "papermill": {
     "duration": 0.50617,
     "end_time": "2022-04-25T00:32:12.159872",
     "exception": false,
     "start_time": "2022-04-25T00:32:11.653702",
     "status": "completed"
    },
    "tags": []
   },
   "outputs": [],
   "source": [
    "train_images = mnist.train_images()\n",
    "train_labels = mnist.train_labels()"
   ]
  },
  {
   "cell_type": "code",
   "execution_count": 6,
   "id": "dceab3a5",
   "metadata": {
    "execution": {
     "iopub.execute_input": "2022-04-25T00:32:12.226089Z",
     "iopub.status.busy": "2022-04-25T00:32:12.225121Z",
     "iopub.status.idle": "2022-04-25T00:32:12.239238Z",
     "shell.execute_reply": "2022-04-25T00:32:12.239781Z"
    },
    "papermill": {
     "duration": 0.048705,
     "end_time": "2022-04-25T00:32:12.239904",
     "exception": false,
     "start_time": "2022-04-25T00:32:12.191199",
     "status": "completed"
    },
    "tags": []
   },
   "outputs": [
    {
     "data": {
      "text/plain": [
       "((60000, 28, 28), (60000,))"
      ]
     },
     "execution_count": 6,
     "metadata": {},
     "output_type": "execute_result"
    }
   ],
   "source": [
    "train_images.shape, train_labels.shape"
   ]
  },
  {
   "cell_type": "code",
   "execution_count": 7,
   "id": "f50dc2bb",
   "metadata": {
    "execution": {
     "iopub.execute_input": "2022-04-25T00:32:12.297508Z",
     "iopub.status.busy": "2022-04-25T00:32:12.296838Z",
     "iopub.status.idle": "2022-04-25T00:32:12.420841Z",
     "shell.execute_reply": "2022-04-25T00:32:12.420353Z"
    },
    "papermill": {
     "duration": 0.155696,
     "end_time": "2022-04-25T00:32:12.420971",
     "exception": false,
     "start_time": "2022-04-25T00:32:12.265275",
     "status": "completed"
    },
    "tags": []
   },
   "outputs": [],
   "source": [
    "test_images = mnist.test_images()\n",
    "test_labels = mnist.test_labels()"
   ]
  },
  {
   "cell_type": "code",
   "execution_count": 8,
   "id": "fc38cf1b",
   "metadata": {
    "execution": {
     "iopub.execute_input": "2022-04-25T00:32:12.477931Z",
     "iopub.status.busy": "2022-04-25T00:32:12.477054Z",
     "iopub.status.idle": "2022-04-25T00:32:12.489866Z",
     "shell.execute_reply": "2022-04-25T00:32:12.489435Z"
    },
    "papermill": {
     "duration": 0.043051,
     "end_time": "2022-04-25T00:32:12.489973",
     "exception": false,
     "start_time": "2022-04-25T00:32:12.446922",
     "status": "completed"
    },
    "tags": []
   },
   "outputs": [
    {
     "data": {
      "text/plain": [
       "((10000, 28, 28), (10000,))"
      ]
     },
     "execution_count": 8,
     "metadata": {},
     "output_type": "execute_result"
    }
   ],
   "source": [
    "test_images.shape, test_labels.shape"
   ]
  },
  {
   "cell_type": "code",
   "execution_count": 9,
   "id": "f9ed8fe0",
   "metadata": {
    "execution": {
     "iopub.execute_input": "2022-04-25T00:32:12.549122Z",
     "iopub.status.busy": "2022-04-25T00:32:12.548507Z",
     "iopub.status.idle": "2022-04-25T00:32:12.714310Z",
     "shell.execute_reply": "2022-04-25T00:32:12.713746Z"
    },
    "papermill": {
     "duration": 0.199396,
     "end_time": "2022-04-25T00:32:12.714438",
     "exception": false,
     "start_time": "2022-04-25T00:32:12.515042",
     "status": "completed"
    },
    "tags": []
   },
   "outputs": [
    {
     "name": "stdout",
     "output_type": "stream",
     "text": [
      "2\n"
     ]
    },
    {
     "data": {
      "text/plain": [
       "<matplotlib.image.AxesImage at 0x7f37cfc7d390>"
      ]
     },
     "execution_count": 9,
     "metadata": {},
     "output_type": "execute_result"
    },
    {
     "data": {
      "image/png": "[encoded data removed]",
      "text/plain": [
       "<Figure size 432x288 with 1 Axes>"
      ]
     },
     "metadata": {
      "needs_background": "light"
     },
     "output_type": "display_data"
    }
   ],
   "source": [
    "image_index = 7776 # You may select anything up to 60,000\n",
    "print(train_labels[image_index]) \n",
    "plt.imshow(train_images[image_index], cmap='Greys')"
   ]
  },
  {
   "cell_type": "markdown",
   "id": "a8d2388d",
   "metadata": {
    "papermill": {
     "duration": 0.027222,
     "end_time": "2022-04-25T00:32:12.769868",
     "exception": false,
     "start_time": "2022-04-25T00:32:12.742646",
     "status": "completed"
    },
    "tags": []
   },
   "source": [
    "## Filter data to get 3 and 8 out"
   ]
  },
  {
   "cell_type": "code",
   "execution_count": 10,
   "id": "776f7fc7",
   "metadata": {
    "execution": {
     "iopub.execute_input": "2022-04-25T00:32:12.832912Z",
     "iopub.status.busy": "2022-04-25T00:32:12.832352Z",
     "iopub.status.idle": "2022-04-25T00:32:12.849528Z",
     "shell.execute_reply": "2022-04-25T00:32:12.849981Z"
    },
    "papermill": {
     "duration": 0.052242,
     "end_time": "2022-04-25T00:32:12.850124",
     "exception": false,
     "start_time": "2022-04-25T00:32:12.797882",
     "status": "completed"
    },
    "tags": []
   },
   "outputs": [],
   "source": [
    "train_filter = np.where((train_labels == 3 ) | (train_labels == 8))\n",
    "test_filter = np.where((test_labels == 3) | (test_labels == 8))\n",
    "X_train, y_train = train_images[train_filter], train_labels[train_filter]\n",
    "X_test, y_test = test_images[test_filter], test_labels[test_filter]"
   ]
  },
  {
   "cell_type": "markdown",
   "id": "948f0b7e",
   "metadata": {
    "papermill": {
     "duration": 0.028456,
     "end_time": "2022-04-25T00:32:12.906858",
     "exception": false,
     "start_time": "2022-04-25T00:32:12.878402",
     "status": "completed"
    },
    "tags": []
   },
   "source": [
    "We normalize the pizel values in the 0 to 1 range"
   ]
  },
  {
   "cell_type": "code",
   "execution_count": 11,
   "id": "ee4c2166",
   "metadata": {
    "execution": {
     "iopub.execute_input": "2022-04-25T00:32:12.966167Z",
     "iopub.status.busy": "2022-04-25T00:32:12.965596Z",
     "iopub.status.idle": "2022-04-25T00:32:13.021405Z",
     "shell.execute_reply": "2022-04-25T00:32:13.021872Z"
    },
    "papermill": {
     "duration": 0.086293,
     "end_time": "2022-04-25T00:32:13.022045",
     "exception": false,
     "start_time": "2022-04-25T00:32:12.935752",
     "status": "completed"
    },
    "tags": []
   },
   "outputs": [],
   "source": [
    "X_train = X_train/255.\n",
    "X_test = X_test/255."
   ]
  },
  {
   "cell_type": "markdown",
   "id": "ddcf4fab",
   "metadata": {
    "papermill": {
     "duration": 0.030109,
     "end_time": "2022-04-25T00:32:13.080369",
     "exception": false,
     "start_time": "2022-04-25T00:32:13.050260",
     "status": "completed"
    },
    "tags": []
   },
   "source": [
    "And setup the labels as 1 (when the digit is 3) and 0 (when the digit is 8)"
   ]
  },
  {
   "cell_type": "code",
   "execution_count": 12,
   "id": "7dc908f2",
   "metadata": {
    "execution": {
     "iopub.execute_input": "2022-04-25T00:32:13.140444Z",
     "iopub.status.busy": "2022-04-25T00:32:13.139790Z",
     "iopub.status.idle": "2022-04-25T00:32:13.151546Z",
     "shell.execute_reply": "2022-04-25T00:32:13.151991Z"
    },
    "papermill": {
     "duration": 0.043064,
     "end_time": "2022-04-25T00:32:13.152118",
     "exception": false,
     "start_time": "2022-04-25T00:32:13.109054",
     "status": "completed"
    },
    "tags": []
   },
   "outputs": [],
   "source": [
    "y_train = 1*(y_train==3)\n",
    "y_test = 1*(y_test==3)"
   ]
  },
  {
   "cell_type": "code",
   "execution_count": 13,
   "id": "01e4e969",
   "metadata": {
    "execution": {
     "iopub.execute_input": "2022-04-25T00:32:13.212188Z",
     "iopub.status.busy": "2022-04-25T00:32:13.211656Z",
     "iopub.status.idle": "2022-04-25T00:32:13.223213Z",
     "shell.execute_reply": "2022-04-25T00:32:13.223739Z"
    },
    "papermill": {
     "duration": 0.045031,
     "end_time": "2022-04-25T00:32:13.224593",
     "exception": false,
     "start_time": "2022-04-25T00:32:13.179562",
     "status": "completed"
    },
    "tags": []
   },
   "outputs": [
    {
     "data": {
      "text/plain": [
       "((11982, 28, 28), (1984, 28, 28))"
      ]
     },
     "execution_count": 13,
     "metadata": {},
     "output_type": "execute_result"
    }
   ],
   "source": [
    "X_train.shape, X_test.shape"
   ]
  },
  {
   "cell_type": "markdown",
   "id": "5ccf3f85",
   "metadata": {
    "papermill": {
     "duration": 0.028548,
     "end_time": "2022-04-25T00:32:13.279169",
     "exception": false,
     "start_time": "2022-04-25T00:32:13.250621",
     "status": "completed"
    },
    "tags": []
   },
   "source": [
    "We reshape the data to flatten the image pixels into a set of features or co-variates:"
   ]
  },
  {
   "cell_type": "code",
   "execution_count": 14,
   "id": "5286a4a3",
   "metadata": {
    "execution": {
     "iopub.execute_input": "2022-04-25T00:32:13.338059Z",
     "iopub.status.busy": "2022-04-25T00:32:13.337491Z",
     "iopub.status.idle": "2022-04-25T00:32:13.349944Z",
     "shell.execute_reply": "2022-04-25T00:32:13.350402Z"
    },
    "papermill": {
     "duration": 0.044054,
     "end_time": "2022-04-25T00:32:13.350520",
     "exception": false,
     "start_time": "2022-04-25T00:32:13.306466",
     "status": "completed"
    },
    "tags": []
   },
   "outputs": [
    {
     "data": {
      "text/plain": [
       "((11982, 784), (1984, 784))"
      ]
     },
     "execution_count": 14,
     "metadata": {},
     "output_type": "execute_result"
    }
   ],
   "source": [
    "X_train = X_train.reshape(X_train.shape[0], -1)\n",
    "X_test = X_test.reshape(X_test.shape[0], -1)\n",
    "X_train.shape, X_test.shape"
   ]
  },
  {
   "cell_type": "code",
   "execution_count": 15,
   "id": "73c5f88a",
   "metadata": {
    "execution": {
     "iopub.execute_input": "2022-04-25T00:32:13.411426Z",
     "iopub.status.busy": "2022-04-25T00:32:13.410886Z",
     "iopub.status.idle": "2022-04-25T00:32:13.427722Z",
     "shell.execute_reply": "2022-04-25T00:32:13.428132Z"
    },
    "papermill": {
     "duration": 0.049865,
     "end_time": "2022-04-25T00:32:13.428253",
     "exception": false,
     "start_time": "2022-04-25T00:32:13.378388",
     "status": "completed"
    },
    "tags": []
   },
   "outputs": [],
   "source": [
    "#Impoting functions from 'Kudzu'\n",
    "from kudzu.model import Model\n",
    "from kudzu.train import Learner\n",
    "from kudzu.optim import GD\n",
    "from kudzu.data import Data, Sampler,Dataloader\n",
    "\n",
    "from kudzu.callbacks import AccCallback\n",
    "from kudzu.callbacks import ClfCallback\n",
    "\n",
    "from kudzu.loss import MSE\n",
    "\n",
    "from kudzu.layer import Sigmoid,Relu\n",
    "from kudzu.layer import Affine"
   ]
  },
  {
   "cell_type": "markdown",
   "id": "bc01172a",
   "metadata": {
    "papermill": {
     "duration": 0.027316,
     "end_time": "2022-04-25T00:32:13.482100",
     "exception": false,
     "start_time": "2022-04-25T00:32:13.454784",
     "status": "completed"
    },
    "tags": []
   },
   "source": [
    "### Let us create a `Config` class, to store important parameters. \n",
    "This class essentially plays the role of a dictionary."
   ]
  },
  {
   "cell_type": "code",
   "execution_count": 16,
   "id": "978281aa",
   "metadata": {
    "execution": {
     "iopub.execute_input": "2022-04-25T00:32:13.544905Z",
     "iopub.status.busy": "2022-04-25T00:32:13.544352Z",
     "iopub.status.idle": "2022-04-25T00:32:13.557693Z",
     "shell.execute_reply": "2022-04-25T00:32:13.558683Z"
    },
    "papermill": {
     "duration": 0.049064,
     "end_time": "2022-04-25T00:32:13.558887",
     "exception": false,
     "start_time": "2022-04-25T00:32:13.509823",
     "status": "completed"
    },
    "tags": []
   },
   "outputs": [],
   "source": [
    "class Config:\n",
    "    pass\n",
    "config = Config()\n",
    "config.lr = 0.001\n",
    "config.num_epochs = 250\n",
    "config.bs = 50"
   ]
  },
  {
   "cell_type": "markdown",
   "id": "1385fa59",
   "metadata": {
    "papermill": {
     "duration": 0.027761,
     "end_time": "2022-04-25T00:32:13.617317",
     "exception": false,
     "start_time": "2022-04-25T00:32:13.589556",
     "status": "completed"
    },
    "tags": []
   },
   "source": [
    "### Running Models with the Training data\n",
    "Details about the network layers:\n",
    "- A first affine layer has 784 inputs and does 100 affine transforms. These are followed by a Relu\n",
    "- A second affine layer has 100 inputs from the 100 activations of the past layer, and does 100 affine transforms. These are followed by a Relu\n",
    "- A third affine layer has 100 activations and does 2 affine transformations to create an embedding for visualization. There is no non-linearity here.\n",
    "- A final \"logistic regression\" which has an affine transform from 2 inputs to 1 output, which is squeezed through a sigmoid.\n"
   ]
  },
  {
   "cell_type": "code",
   "execution_count": 17,
   "id": "2b9c66db",
   "metadata": {
    "execution": {
     "iopub.execute_input": "2022-04-25T00:32:13.677683Z",
     "iopub.status.busy": "2022-04-25T00:32:13.676868Z",
     "iopub.status.idle": "2022-04-25T00:32:13.688270Z",
     "shell.execute_reply": "2022-04-25T00:32:13.687529Z"
    },
    "papermill": {
     "duration": 0.043293,
     "end_time": "2022-04-25T00:32:13.688438",
     "exception": false,
     "start_time": "2022-04-25T00:32:13.645145",
     "status": "completed"
    },
    "tags": []
   },
   "outputs": [],
   "source": [
    "data = Data(X_train, y_train.reshape(-1,1))\n",
    "sampler = Sampler(data, config.bs, shuffle=True)\n",
    "\n",
    "dl = Dataloader(data, sampler)\n",
    "\n",
    "opt = GD(config.lr)\n",
    "loss = MSE()"
   ]
  },
  {
   "cell_type": "code",
   "execution_count": 18,
   "id": "b275e4c2",
   "metadata": {
    "execution": {
     "iopub.execute_input": "2022-04-25T00:32:13.749370Z",
     "iopub.status.busy": "2022-04-25T00:32:13.748770Z",
     "iopub.status.idle": "2022-04-25T00:32:13.758501Z",
     "shell.execute_reply": "2022-04-25T00:32:13.759051Z"
    },
    "papermill": {
     "duration": 0.042233,
     "end_time": "2022-04-25T00:32:13.759163",
     "exception": false,
     "start_time": "2022-04-25T00:32:13.716930",
     "status": "completed"
    },
    "tags": []
   },
   "outputs": [],
   "source": [
    "training_data_x = X_train\n",
    "testing_data_x = X_test\n",
    "training_data_y = y_train.reshape(-1,1)\n",
    "testing_data_y = y_test.reshape(-1,1)"
   ]
  },
  {
   "cell_type": "code",
   "execution_count": 19,
   "id": "76951160",
   "metadata": {
    "execution": {
     "iopub.execute_input": "2022-04-25T00:32:13.817977Z",
     "iopub.status.busy": "2022-04-25T00:32:13.817408Z",
     "iopub.status.idle": "2022-04-25T00:32:13.832404Z",
     "shell.execute_reply": "2022-04-25T00:32:13.831896Z"
    },
    "papermill": {
     "duration": 0.046774,
     "end_time": "2022-04-25T00:32:13.832509",
     "exception": false,
     "start_time": "2022-04-25T00:32:13.785735",
     "status": "completed"
    },
    "tags": []
   },
   "outputs": [
    {
     "name": "stdout",
     "output_type": "stream",
     "text": [
      "xavier\n",
      "xavier\n",
      "xavier\n",
      "xavier\n",
      "xavier\n"
     ]
    }
   ],
   "source": [
    "layers = [Affine(\"first\", 784, 100), Relu(\"first\"), Affine(\"second\", 100, 100), Relu(\"second\"), Affine(\"third\", 100, 2), Affine(\"last\", 2, 1), Sigmoid(\"last\")]\n",
    "model_nn = Model(layers)\n",
    "model_lr = Model([Affine(\"logits\", 784, 1), Sigmoid(\"sigmoid\")])"
   ]
  },
  {
   "cell_type": "code",
   "execution_count": 20,
   "id": "6eede77a",
   "metadata": {
    "execution": {
     "iopub.execute_input": "2022-04-25T00:32:13.892196Z",
     "iopub.status.busy": "2022-04-25T00:32:13.891512Z",
     "iopub.status.idle": "2022-04-25T00:32:13.902095Z",
     "shell.execute_reply": "2022-04-25T00:32:13.902712Z"
    },
    "papermill": {
     "duration": 0.042913,
     "end_time": "2022-04-25T00:32:13.902831",
     "exception": false,
     "start_time": "2022-04-25T00:32:13.859918",
     "status": "completed"
    },
    "tags": []
   },
   "outputs": [],
   "source": [
    "nn_learner = Learner(loss, model_nn, opt, config.num_epochs)\n",
    "acc_nn = ClfCallback(nn_learner, config.bs, training_data_x , testing_data_x, training_data_y, testing_data_y)\n",
    "nn_learner.set_callbacks([acc_nn])"
   ]
  },
  {
   "cell_type": "code",
   "execution_count": 21,
   "id": "877b6cc7",
   "metadata": {
    "execution": {
     "iopub.execute_input": "2022-04-25T00:32:13.962712Z",
     "iopub.status.busy": "2022-04-25T00:32:13.962046Z",
     "iopub.status.idle": "2022-04-25T00:32:13.972468Z",
     "shell.execute_reply": "2022-04-25T00:32:13.971877Z"
    },
    "papermill": {
     "duration": 0.042142,
     "end_time": "2022-04-25T00:32:13.972609",
     "exception": false,
     "start_time": "2022-04-25T00:32:13.930467",
     "status": "completed"
    },
    "tags": []
   },
   "outputs": [],
   "source": [
    "lr_learner = Learner(loss, model_lr, opt, config.num_epochs)\n",
    "acc_lr = ClfCallback(lr_learner, config.bs, training_data_x , testing_data_x, training_data_y, testing_data_y)\n",
    "lr_learner.set_callbacks([acc_lr])"
   ]
  },
  {
   "cell_type": "code",
   "execution_count": 22,
   "id": "d9b133c3",
   "metadata": {
    "execution": {
     "iopub.execute_input": "2022-04-25T00:32:14.035560Z",
     "iopub.status.busy": "2022-04-25T00:32:14.035019Z",
     "iopub.status.idle": "2022-04-25T00:34:27.202717Z",
     "shell.execute_reply": "2022-04-25T00:34:27.203454Z"
    },
    "papermill": {
     "duration": 133.202074,
     "end_time": "2022-04-25T00:34:27.203595",
     "exception": false,
     "start_time": "2022-04-25T00:32:14.001521",
     "status": "completed"
    },
    "tags": []
   },
   "outputs": [
    {
     "name": "stdout",
     "output_type": "stream",
     "text": [
      "Epoch 0, Loss 0.248\n",
      "Training Accuracy: 0.6345, Testing Accuracy: 0.5927\n",
      "\n"
     ]
    },
    {
     "name": "stdout",
     "output_type": "stream",
     "text": [
      "Epoch 10, Loss 0.1051\n",
      "Training Accuracy: 0.9064, Testing Accuracy: 0.9118\n",
      "\n"
     ]
    },
    {
     "name": "stdout",
     "output_type": "stream",
     "text": [
      "Epoch 20, Loss 0.0636\n",
      "Training Accuracy: 0.9324, Testing Accuracy: 0.9430\n",
      "\n"
     ]
    },
    {
     "name": "stdout",
     "output_type": "stream",
     "text": [
      "Epoch 30, Loss 0.0494\n",
      "Training Accuracy: 0.9447, Testing Accuracy: 0.9561\n",
      "\n"
     ]
    },
    {
     "name": "stdout",
     "output_type": "stream",
     "text": [
      "Epoch 40, Loss 0.0422\n",
      "Training Accuracy: 0.9519, Testing Accuracy: 0.9587\n",
      "\n"
     ]
    },
    {
     "name": "stdout",
     "output_type": "stream",
     "text": [
      "Epoch 50, Loss 0.0379\n",
      "Training Accuracy: 0.9552, Testing Accuracy: 0.9617\n",
      "\n"
     ]
    },
    {
     "name": "stdout",
     "output_type": "stream",
     "text": [
      "Epoch 60, Loss 0.035\n",
      "Training Accuracy: 0.9581, Testing Accuracy: 0.9637\n",
      "\n"
     ]
    },
    {
     "name": "stdout",
     "output_type": "stream",
     "text": [
      "Epoch 70, Loss 0.0328\n",
      "Training Accuracy: 0.9612, Testing Accuracy: 0.9672\n",
      "\n"
     ]
    },
    {
     "name": "stdout",
     "output_type": "stream",
     "text": [
      "Epoch 80, Loss 0.0311\n",
      "Training Accuracy: 0.9629, Testing Accuracy: 0.9662\n",
      "\n"
     ]
    },
    {
     "name": "stdout",
     "output_type": "stream",
     "text": [
      "Epoch 90, Loss 0.0297\n",
      "Training Accuracy: 0.9644, Testing Accuracy: 0.9662\n",
      "\n"
     ]
    },
    {
     "name": "stdout",
     "output_type": "stream",
     "text": [
      "Epoch 100, Loss 0.0286\n",
      "Training Accuracy: 0.9659, Testing Accuracy: 0.9662\n",
      "\n"
     ]
    },
    {
     "name": "stdout",
     "output_type": "stream",
     "text": [
      "Epoch 110, Loss 0.0276\n",
      "Training Accuracy: 0.9673, Testing Accuracy: 0.9682\n",
      "\n"
     ]
    },
    {
     "name": "stdout",
     "output_type": "stream",
     "text": [
      "Epoch 120, Loss 0.0267\n",
      "Training Accuracy: 0.9680, Testing Accuracy: 0.9693\n",
      "\n"
     ]
    },
    {
     "name": "stdout",
     "output_type": "stream",
     "text": [
      "Epoch 130, Loss 0.026\n",
      "Training Accuracy: 0.9692, Testing Accuracy: 0.9698\n",
      "\n"
     ]
    },
    {
     "name": "stdout",
     "output_type": "stream",
     "text": [
      "Epoch 140, Loss 0.0253\n",
      "Training Accuracy: 0.9706, Testing Accuracy: 0.9698\n",
      "\n"
     ]
    },
    {
     "name": "stdout",
     "output_type": "stream",
     "text": [
      "Epoch 150, Loss 0.0247\n",
      "Training Accuracy: 0.9715, Testing Accuracy: 0.9708\n",
      "\n"
     ]
    },
    {
     "name": "stdout",
     "output_type": "stream",
     "text": [
      "Epoch 160, Loss 0.0241\n",
      "Training Accuracy: 0.9723, Testing Accuracy: 0.9708\n",
      "\n"
     ]
    },
    {
     "name": "stdout",
     "output_type": "stream",
     "text": [
      "Epoch 170, Loss 0.0236\n",
      "Training Accuracy: 0.9732, Testing Accuracy: 0.9708\n",
      "\n"
     ]
    },
    {
     "name": "stdout",
     "output_type": "stream",
     "text": [
      "Epoch 180, Loss 0.0231\n",
      "Training Accuracy: 0.9737, Testing Accuracy: 0.9708\n",
      "\n"
     ]
    },
    {
     "name": "stdout",
     "output_type": "stream",
     "text": [
      "Epoch 190, Loss 0.0227\n",
      "Training Accuracy: 0.9740, Testing Accuracy: 0.9718\n",
      "\n"
     ]
    },
    {
     "name": "stdout",
     "output_type": "stream",
     "text": [
      "Epoch 200, Loss 0.0222\n",
      "Training Accuracy: 0.9750, Testing Accuracy: 0.9713\n",
      "\n"
     ]
    },
    {
     "name": "stdout",
     "output_type": "stream",
     "text": [
      "Epoch 210, Loss 0.0218\n",
      "Training Accuracy: 0.9752, Testing Accuracy: 0.9723\n",
      "\n"
     ]
    },
    {
     "name": "stdout",
     "output_type": "stream",
     "text": [
      "Epoch 220, Loss 0.0215\n",
      "Training Accuracy: 0.9755, Testing Accuracy: 0.9728\n",
      "\n"
     ]
    },
    {
     "name": "stdout",
     "output_type": "stream",
     "text": [
      "Epoch 230, Loss 0.0211\n",
      "Training Accuracy: 0.9759, Testing Accuracy: 0.9723\n",
      "\n"
     ]
    },
    {
     "name": "stdout",
     "output_type": "stream",
     "text": [
      "Epoch 240, Loss 0.0207\n",
      "Training Accuracy: 0.9764, Testing Accuracy: 0.9733\n",
      "\n"
     ]
    },
    {
     "data": {
      "text/plain": [
       "0.008422134632138135"
      ]
     },
     "execution_count": 22,
     "metadata": {},
     "output_type": "execute_result"
    }
   ],
   "source": [
    "nn_learner.train_loop(dl)"
   ]
  },
  {
   "cell_type": "code",
   "execution_count": 23,
   "id": "e0163366",
   "metadata": {
    "execution": {
     "iopub.execute_input": "2022-04-25T00:34:27.287476Z",
     "iopub.status.busy": "2022-04-25T00:34:27.286775Z",
     "iopub.status.idle": "2022-04-25T00:34:46.004926Z",
     "shell.execute_reply": "2022-04-25T00:34:46.005658Z"
    },
    "papermill": {
     "duration": 18.767113,
     "end_time": "2022-04-25T00:34:46.005835",
     "exception": false,
     "start_time": "2022-04-25T00:34:27.238722",
     "status": "completed"
    },
    "tags": []
   },
   "outputs": [
    {
     "name": "stdout",
     "output_type": "stream",
     "text": [
      "Epoch 0, Loss 0.2524\n",
      "Training Accuracy: 0.6370, Testing Accuracy: 0.6341\n",
      "\n"
     ]
    },
    {
     "name": "stdout",
     "output_type": "stream",
     "text": [
      "Epoch 10, Loss 0.1056\n",
      "Training Accuracy: 0.9082, Testing Accuracy: 0.9138\n",
      "\n"
     ]
    },
    {
     "name": "stdout",
     "output_type": "stream",
     "text": [
      "Epoch 20, Loss 0.0801\n",
      "Training Accuracy: 0.9303, Testing Accuracy: 0.9360\n",
      "\n"
     ]
    },
    {
     "name": "stdout",
     "output_type": "stream",
     "text": [
      "Epoch 30, Loss 0.0685\n",
      "Training Accuracy: 0.9369, Testing Accuracy: 0.9481\n",
      "\n"
     ]
    },
    {
     "name": "stdout",
     "output_type": "stream",
     "text": [
      "Epoch 40, Loss 0.0617\n",
      "Training Accuracy: 0.9412, Testing Accuracy: 0.9521\n",
      "\n"
     ]
    },
    {
     "name": "stdout",
     "output_type": "stream",
     "text": [
      "Epoch 50, Loss 0.0571\n",
      "Training Accuracy: 0.9445, Testing Accuracy: 0.9546\n",
      "\n"
     ]
    },
    {
     "name": "stdout",
     "output_type": "stream",
     "text": [
      "Epoch 60, Loss 0.0538\n",
      "Training Accuracy: 0.9467, Testing Accuracy: 0.9587\n",
      "\n"
     ]
    },
    {
     "name": "stdout",
     "output_type": "stream",
     "text": [
      "Epoch 70, Loss 0.0512\n",
      "Training Accuracy: 0.9491, Testing Accuracy: 0.9592\n",
      "\n"
     ]
    },
    {
     "name": "stdout",
     "output_type": "stream",
     "text": [
      "Epoch 80, Loss 0.0492\n",
      "Training Accuracy: 0.9506, Testing Accuracy: 0.9592\n",
      "\n"
     ]
    },
    {
     "name": "stdout",
     "output_type": "stream",
     "text": [
      "Epoch 90, Loss 0.0475\n",
      "Training Accuracy: 0.9526, Testing Accuracy: 0.9597\n",
      "\n"
     ]
    },
    {
     "name": "stdout",
     "output_type": "stream",
     "text": [
      "Epoch 100, Loss 0.046\n",
      "Training Accuracy: 0.9538, Testing Accuracy: 0.9597\n",
      "\n"
     ]
    },
    {
     "name": "stdout",
     "output_type": "stream",
     "text": [
      "Epoch 110, Loss 0.0448\n",
      "Training Accuracy: 0.9550, Testing Accuracy: 0.9607\n",
      "\n"
     ]
    },
    {
     "name": "stdout",
     "output_type": "stream",
     "text": [
      "Epoch 120, Loss 0.0438\n",
      "Training Accuracy: 0.9558, Testing Accuracy: 0.9612\n",
      "\n"
     ]
    },
    {
     "name": "stdout",
     "output_type": "stream",
     "text": [
      "Epoch 130, Loss 0.0428\n",
      "Training Accuracy: 0.9560, Testing Accuracy: 0.9612\n",
      "\n"
     ]
    },
    {
     "name": "stdout",
     "output_type": "stream",
     "text": [
      "Epoch 140, Loss 0.042\n",
      "Training Accuracy: 0.9565, Testing Accuracy: 0.9612\n",
      "\n"
     ]
    },
    {
     "name": "stdout",
     "output_type": "stream",
     "text": [
      "Epoch 150, Loss 0.0413\n",
      "Training Accuracy: 0.9570, Testing Accuracy: 0.9632\n",
      "\n"
     ]
    },
    {
     "name": "stdout",
     "output_type": "stream",
     "text": [
      "Epoch 160, Loss 0.0406\n",
      "Training Accuracy: 0.9575, Testing Accuracy: 0.9632\n",
      "\n"
     ]
    },
    {
     "name": "stdout",
     "output_type": "stream",
     "text": [
      "Epoch 170, Loss 0.04\n",
      "Training Accuracy: 0.9578, Testing Accuracy: 0.9642\n",
      "\n"
     ]
    },
    {
     "name": "stdout",
     "output_type": "stream",
     "text": [
      "Epoch 180, Loss 0.0394\n",
      "Training Accuracy: 0.9582, Testing Accuracy: 0.9652\n",
      "\n"
     ]
    },
    {
     "name": "stdout",
     "output_type": "stream",
     "text": [
      "Epoch 190, Loss 0.0389\n",
      "Training Accuracy: 0.9587, Testing Accuracy: 0.9647\n",
      "\n"
     ]
    },
    {
     "name": "stdout",
     "output_type": "stream",
     "text": [
      "Epoch 200, Loss 0.0384\n",
      "Training Accuracy: 0.9590, Testing Accuracy: 0.9652\n",
      "\n"
     ]
    },
    {
     "name": "stdout",
     "output_type": "stream",
     "text": [
      "Epoch 210, Loss 0.038\n",
      "Training Accuracy: 0.9591, Testing Accuracy: 0.9662\n",
      "\n"
     ]
    },
    {
     "name": "stdout",
     "output_type": "stream",
     "text": [
      "Epoch 220, Loss 0.0376\n",
      "Training Accuracy: 0.9596, Testing Accuracy: 0.9662\n",
      "\n"
     ]
    },
    {
     "name": "stdout",
     "output_type": "stream",
     "text": [
      "Epoch 230, Loss 0.0372\n",
      "Training Accuracy: 0.9599, Testing Accuracy: 0.9672\n",
      "\n"
     ]
    },
    {
     "name": "stdout",
     "output_type": "stream",
     "text": [
      "Epoch 240, Loss 0.0368\n",
      "Training Accuracy: 0.9608, Testing Accuracy: 0.9677\n",
      "\n"
     ]
    },
    {
     "data": {
      "text/plain": [
       "0.030851209465726608"
      ]
     },
     "execution_count": 23,
     "metadata": {},
     "output_type": "execute_result"
    }
   ],
   "source": [
    "lr_learner.train_loop(dl)"
   ]
  },
  {
   "cell_type": "code",
   "execution_count": 24,
   "id": "ca410940",
   "metadata": {
    "execution": {
     "iopub.execute_input": "2022-04-25T00:34:46.112949Z",
     "iopub.status.busy": "2022-04-25T00:34:46.112368Z",
     "iopub.status.idle": "2022-04-25T00:34:46.390280Z",
     "shell.execute_reply": "2022-04-25T00:34:46.389798Z"
    },
    "papermill": {
     "duration": 0.337228,
     "end_time": "2022-04-25T00:34:46.390414",
     "exception": false,
     "start_time": "2022-04-25T00:34:46.053186",
     "status": "completed"
    },
    "tags": []
   },
   "outputs": [
    {
     "data": {
      "text/plain": [
       "<matplotlib.legend.Legend at 0x7f37cf85cb38>"
      ]
     },
     "execution_count": 24,
     "metadata": {},
     "output_type": "execute_result"
    },
    {
     "data": {
      "image/png": "[encoded data removed]",
      "text/plain": [
       "<Figure size 1080x720 with 1 Axes>"
      ]
     },
     "metadata": {
      "needs_background": "light"
     },
     "output_type": "display_data"
    }
   ],
   "source": [
    "#comparing the results of NN and LR\n",
    "plt.figure(figsize=(15,10))\n",
    "\n",
    "# Neural Network plots\n",
    "plt.plot(acc_nn.accuracies, 'r-', label = \"Training Accuracies - NN\")\n",
    "plt.plot(acc_nn.test_accuracies, 'g-', label = \"Testing Accuracies - NN\")\n",
    "\n",
    "# Logistic Regression plots\n",
    "plt.plot(acc_lr.accuracies, 'k-', label = \"Training Accuracies - LR\")\n",
    "plt.plot(acc_lr.test_accuracies, 'b-', label = \"Testing Accuracies - LR\")\n",
    "plt.legend()"
   ]
  },
  {
   "cell_type": "markdown",
   "id": "80dfb35c",
   "metadata": {
    "papermill": {
     "duration": 0.043749,
     "end_time": "2022-04-25T00:34:46.480169",
     "exception": false,
     "start_time": "2022-04-25T00:34:46.436420",
     "status": "completed"
    },
    "tags": []
   },
   "source": [
    "#### Plotting the outputs of this layer of the NN.\n"
   ]
  },
  {
   "cell_type": "code",
   "execution_count": 25,
   "id": "45eb2ff5",
   "metadata": {
    "execution": {
     "iopub.execute_input": "2022-04-25T00:34:46.572160Z",
     "iopub.status.busy": "2022-04-25T00:34:46.570521Z",
     "iopub.status.idle": "2022-04-25T00:34:46.595277Z",
     "shell.execute_reply": "2022-04-25T00:34:46.595774Z"
    },
    "papermill": {
     "duration": 0.072868,
     "end_time": "2022-04-25T00:34:46.595917",
     "exception": false,
     "start_time": "2022-04-25T00:34:46.523049",
     "status": "completed"
    },
    "tags": []
   },
   "outputs": [],
   "source": [
    "new_model = Model(layers[:-2])\n",
    "testing_plot = new_model(testing_data_x)"
   ]
  },
  {
   "cell_type": "code",
   "execution_count": 26,
   "id": "4c0a5485",
   "metadata": {
    "execution": {
     "iopub.execute_input": "2022-04-25T00:34:46.697149Z",
     "iopub.status.busy": "2022-04-25T00:34:46.696603Z",
     "iopub.status.idle": "2022-04-25T00:34:46.954608Z",
     "shell.execute_reply": "2022-04-25T00:34:46.955021Z"
    },
    "papermill": {
     "duration": 0.30648,
     "end_time": "2022-04-25T00:34:46.955167",
     "exception": false,
     "start_time": "2022-04-25T00:34:46.648687",
     "status": "completed"
    },
    "tags": []
   },
   "outputs": [
    {
     "data": {
      "text/plain": [
       "Text(0.5, 1.0, 'Outputs')"
      ]
     },
     "execution_count": 26,
     "metadata": {},
     "output_type": "execute_result"
    },
    {
     "data": {
      "image/png": "[encoded data removed]",
      "text/plain": [
       "<Figure size 576x504 with 1 Axes>"
      ]
     },
     "metadata": {
      "needs_background": "light"
     },
     "output_type": "display_data"
    }
   ],
   "source": [
    "# Plotting the scatter plot of points and color coding by class\n",
    "plt.figure(figsize=(8,7))\n",
    "plt.scatter(testing_plot[:,0], testing_plot[:,1], alpha = 0.1, c = y_test.ravel());\n",
    "plt.title('Outputs')"
   ]
  },
  {
   "cell_type": "markdown",
   "id": "a74fcf8f",
   "metadata": {
    "papermill": {
     "duration": 0.046414,
     "end_time": "2022-04-25T00:34:47.046863",
     "exception": false,
     "start_time": "2022-04-25T00:34:47.000449",
     "status": "completed"
    },
    "tags": []
   },
   "source": [
    "Probability contours"
   ]
  },
  {
   "cell_type": "code",
   "execution_count": 27,
   "id": "d0afc8e3",
   "metadata": {
    "execution": {
     "iopub.execute_input": "2022-04-25T00:34:47.146337Z",
     "iopub.status.busy": "2022-04-25T00:34:47.145747Z",
     "iopub.status.idle": "2022-04-25T00:34:47.156920Z",
     "shell.execute_reply": "2022-04-25T00:34:47.156355Z"
    },
    "papermill": {
     "duration": 0.060926,
     "end_time": "2022-04-25T00:34:47.157033",
     "exception": false,
     "start_time": "2022-04-25T00:34:47.096107",
     "status": "completed"
    },
    "tags": []
   },
   "outputs": [],
   "source": [
    "model_prob = Model(layers[-2:]) "
   ]
  },
  {
   "cell_type": "code",
   "execution_count": 28,
   "id": "9b96e238",
   "metadata": {
    "execution": {
     "iopub.execute_input": "2022-04-25T00:34:47.288945Z",
     "iopub.status.busy": "2022-04-25T00:34:47.288348Z",
     "iopub.status.idle": "2022-04-25T00:34:47.302951Z",
     "shell.execute_reply": "2022-04-25T00:34:47.302463Z"
    },
    "papermill": {
     "duration": 0.095512,
     "end_time": "2022-04-25T00:34:47.303073",
     "exception": false,
     "start_time": "2022-04-25T00:34:47.207561",
     "status": "completed"
    },
    "tags": []
   },
   "outputs": [],
   "source": [
    "#creating the x and y ranges according to the above generated plot.\n",
    "x_range = np.linspace(-4, 1, 100) \n",
    "y_range = np.linspace(-6, 6, 100) \n",
    "x_grid, y_grid = np.meshgrid(x_range, y_range) # x_grid and y_grig are of size 100 X 100\n",
    "\n",
    "# converting x_grid and y_grid to continuous arrays\n",
    "x_gridflat = np.ravel(x_grid)\n",
    "y_gridflat = np.ravel(y_grid)\n",
    "\n",
    "# The last layer of the current model takes two columns as input. Hence transpose of np.vstack() is required.\n",
    "X = np.vstack((x_gridflat, y_gridflat)).T\n",
    "\n",
    "prob_contour = model_prob(X).reshape(100,100) "
   ]
  },
  {
   "cell_type": "code",
   "execution_count": 29,
   "id": "da72499a",
   "metadata": {
    "execution": {
     "iopub.execute_input": "2022-04-25T00:34:47.412814Z",
     "iopub.status.busy": "2022-04-25T00:34:47.412265Z",
     "iopub.status.idle": "2022-04-25T00:34:47.682415Z",
     "shell.execute_reply": "2022-04-25T00:34:47.682984Z"
    },
    "papermill": {
     "duration": 0.331073,
     "end_time": "2022-04-25T00:34:47.683164",
     "exception": false,
     "start_time": "2022-04-25T00:34:47.352091",
     "status": "completed"
    },
    "tags": []
   },
   "outputs": [
    {
     "data": {
      "image/png": "[encoded data removed]",
      "text/plain": [
       "<Figure size 720x648 with 1 Axes>"
      ]
     },
     "metadata": {
      "needs_background": "light"
     },
     "output_type": "display_data"
    }
   ],
   "source": [
    "plt.figure(figsize=(10,9))\n",
    "plt.scatter(testing_plot[:,0], testing_plot[:,1], alpha = 0.1, c = y_test.ravel())\n",
    "contours = plt.contour(x_grid,y_grid,prob_contour)\n",
    "plt.title('Probability Contours')\n",
    "plt.clabel(contours, inline = True );"
   ]
  },
  {
   "cell_type": "code",
   "execution_count": null,
   "id": "e81b4ac7",
   "metadata": {
    "papermill": {
     "duration": 0.04858,
     "end_time": "2022-04-25T00:34:47.778779",
     "exception": false,
     "start_time": "2022-04-25T00:34:47.730199",
     "status": "completed"
    },
    "tags": []
   },
   "outputs": [],
   "source": []
  }
 ],
 "metadata": {
  "kernelspec": {
   "display_name": "Python 3",
   "language": "python",
   "name": "python3"
  },
  "language_info": {
   "codemirror_mode": {
    "name": "ipython",
    "version": 3
   },
   "file_extension": ".py",
   "mimetype": "text/x-python",
   "name": "python",
   "nbconvert_exporter": "python",
   "pygments_lexer": "ipython3",
   "version": "3.6.15"
  },
  "papermill": {
   "default_parameters": {},
   "duration": 160.287504,
   "end_time": "2022-04-25T00:34:48.249621",
   "environment_variables": {},
   "exception": null,
   "input_path": "2020-08-11-part2.ipynb",
   "output_path": "2020-08-11-part2.ipynb",
   "parameters": {},
   "start_time": "2022-04-25T00:32:07.962117",
   "version": "2.3.3"
  }
 },
 "nbformat": 4,
 "nbformat_minor": 5
}