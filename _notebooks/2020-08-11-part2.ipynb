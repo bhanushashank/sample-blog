{
 "cells": [
  {
   "cell_type": "markdown",
   "id": "98380cd3",
   "metadata": {
    "papermill": {
     "duration": 0.037468,
     "end_time": "2022-08-20T20:11:17.294579",
     "exception": false,
     "start_time": "2022-08-20T20:11:17.257111",
     "status": "completed"
    },
    "tags": []
   },
   "source": [
    "# Distinguish Your Own Digits (DYOD)"
   ]
  },
  {
   "cell_type": "markdown",
   "id": "ef31240d",
   "metadata": {
    "papermill": {
     "duration": 0.031794,
     "end_time": "2022-08-20T20:11:17.358725",
     "exception": false,
     "start_time": "2022-08-20T20:11:17.326931",
     "status": "completed"
    },
    "tags": []
   },
   "source": [
    "You are going to write a classifier that distinguishes between the number 3 and number 8."
   ]
  },
  {
   "cell_type": "code",
   "execution_count": 1,
   "id": "b15c8646",
   "metadata": {
    "execution": {
     "iopub.execute_input": "2022-08-20T20:11:17.434906Z",
     "iopub.status.busy": "2022-08-20T20:11:17.434069Z",
     "iopub.status.idle": "2022-08-20T20:11:17.447807Z",
     "shell.execute_reply": "2022-08-20T20:11:17.447120Z"
    },
    "papermill": {
     "duration": 0.058025,
     "end_time": "2022-08-20T20:11:17.447975",
     "exception": false,
     "start_time": "2022-08-20T20:11:17.389950",
     "status": "completed"
    },
    "tags": []
   },
   "outputs": [],
   "source": [
    "%load_ext autoreload\n",
    "%autoreload 2"
   ]
  },
  {
   "cell_type": "code",
   "execution_count": 2,
   "id": "22ef38dc",
   "metadata": {
    "execution": {
     "iopub.execute_input": "2022-08-20T20:11:17.517908Z",
     "iopub.status.busy": "2022-08-20T20:11:17.517144Z",
     "iopub.status.idle": "2022-08-20T20:11:18.194703Z",
     "shell.execute_reply": "2022-08-20T20:11:18.195290Z"
    },
    "papermill": {
     "duration": 0.715563,
     "end_time": "2022-08-20T20:11:18.195473",
     "exception": false,
     "start_time": "2022-08-20T20:11:17.479910",
     "status": "completed"
    },
    "tags": []
   },
   "outputs": [],
   "source": [
    "%matplotlib inline\n",
    "import numpy as np\n",
    "import matplotlib.pyplot as plt\n",
    "import pandas as pd"
   ]
  },
  {
   "cell_type": "markdown",
   "id": "ba036198",
   "metadata": {
    "papermill": {
     "duration": 0.030726,
     "end_time": "2022-08-20T20:11:18.258389",
     "exception": false,
     "start_time": "2022-08-20T20:11:18.227663",
     "status": "completed"
    },
    "tags": []
   },
   "source": [
    "From the command line run `pip install mnist`. This is a library that will help you bring down the mnist dataset. If you run this from a notebook, you need to put  `!pip install mnist` in a cell by itself."
   ]
  },
  {
   "cell_type": "code",
   "execution_count": 3,
   "id": "bb6ad8a1",
   "metadata": {
    "execution": {
     "iopub.execute_input": "2022-08-20T20:11:18.328973Z",
     "iopub.status.busy": "2022-08-20T20:11:18.328190Z",
     "iopub.status.idle": "2022-08-20T20:11:20.367499Z",
     "shell.execute_reply": "2022-08-20T20:11:20.366038Z"
    },
    "papermill": {
     "duration": 2.078235,
     "end_time": "2022-08-20T20:11:20.367648",
     "exception": false,
     "start_time": "2022-08-20T20:11:18.289413",
     "status": "completed"
    },
    "tags": []
   },
   "outputs": [
    {
     "name": "stdout",
     "output_type": "stream",
     "text": [
      "Collecting mnist\r\n"
     ]
    },
    {
     "name": "stdout",
     "output_type": "stream",
     "text": [
      "  Downloading mnist-0.2.2-py2.py3-none-any.whl (3.5 kB)\r\n",
      "Requirement already satisfied: numpy in /opt/hostedtoolcache/Python/3.6.15/x64/lib/python3.6/site-packages (from mnist) (1.19.5)\r\n"
     ]
    },
    {
     "name": "stdout",
     "output_type": "stream",
     "text": [
      "Installing collected packages: mnist\r\n"
     ]
    },
    {
     "name": "stdout",
     "output_type": "stream",
     "text": [
      "Successfully installed mnist-0.2.2\r\n"
     ]
    }
   ],
   "source": [
    "!pip install mnist"
   ]
  },
  {
   "cell_type": "markdown",
   "id": "69df9c9a",
   "metadata": {
    "papermill": {
     "duration": 0.033097,
     "end_time": "2022-08-20T20:11:20.434772",
     "exception": false,
     "start_time": "2022-08-20T20:11:20.401675",
     "status": "completed"
    },
    "tags": []
   },
   "source": [
    "## Preparing the Data"
   ]
  },
  {
   "cell_type": "code",
   "execution_count": 4,
   "id": "7f69d806",
   "metadata": {
    "execution": {
     "iopub.execute_input": "2022-08-20T20:11:20.507399Z",
     "iopub.status.busy": "2022-08-20T20:11:20.506640Z",
     "iopub.status.idle": "2022-08-20T20:11:20.526419Z",
     "shell.execute_reply": "2022-08-20T20:11:20.525249Z"
    },
    "papermill": {
     "duration": 0.058382,
     "end_time": "2022-08-20T20:11:20.526570",
     "exception": false,
     "start_time": "2022-08-20T20:11:20.468188",
     "status": "completed"
    },
    "tags": []
   },
   "outputs": [],
   "source": [
    "import mnist"
   ]
  },
  {
   "cell_type": "code",
   "execution_count": 5,
   "id": "a411e44f",
   "metadata": {
    "execution": {
     "iopub.execute_input": "2022-08-20T20:11:20.597546Z",
     "iopub.status.busy": "2022-08-20T20:11:20.596413Z",
     "iopub.status.idle": "2022-08-20T20:11:21.635572Z",
     "shell.execute_reply": "2022-08-20T20:11:21.634939Z"
    },
    "papermill": {
     "duration": 1.076892,
     "end_time": "2022-08-20T20:11:21.635724",
     "exception": false,
     "start_time": "2022-08-20T20:11:20.558832",
     "status": "completed"
    },
    "tags": []
   },
   "outputs": [],
   "source": [
    "train_images = mnist.train_images()\n",
    "train_labels = mnist.train_labels()"
   ]
  },
  {
   "cell_type": "code",
   "execution_count": 6,
   "id": "dceab3a5",
   "metadata": {
    "execution": {
     "iopub.execute_input": "2022-08-20T20:11:21.705695Z",
     "iopub.status.busy": "2022-08-20T20:11:21.704932Z",
     "iopub.status.idle": "2022-08-20T20:11:21.722812Z",
     "shell.execute_reply": "2022-08-20T20:11:21.722146Z"
    },
    "papermill": {
     "duration": 0.054826,
     "end_time": "2022-08-20T20:11:21.722954",
     "exception": false,
     "start_time": "2022-08-20T20:11:21.668128",
     "status": "completed"
    },
    "tags": []
   },
   "outputs": [
    {
     "data": {
      "text/plain": [
       "((60000, 28, 28), (60000,))"
      ]
     },
     "execution_count": 6,
     "metadata": {},
     "output_type": "execute_result"
    }
   ],
   "source": [
    "train_images.shape, train_labels.shape"
   ]
  },
  {
   "cell_type": "code",
   "execution_count": 7,
   "id": "f50dc2bb",
   "metadata": {
    "execution": {
     "iopub.execute_input": "2022-08-20T20:11:21.796281Z",
     "iopub.status.busy": "2022-08-20T20:11:21.795518Z",
     "iopub.status.idle": "2022-08-20T20:11:21.954347Z",
     "shell.execute_reply": "2022-08-20T20:11:21.953562Z"
    },
    "papermill": {
     "duration": 0.198742,
     "end_time": "2022-08-20T20:11:21.954502",
     "exception": false,
     "start_time": "2022-08-20T20:11:21.755760",
     "status": "completed"
    },
    "tags": []
   },
   "outputs": [],
   "source": [
    "test_images = mnist.test_images()\n",
    "test_labels = mnist.test_labels()"
   ]
  },
  {
   "cell_type": "code",
   "execution_count": 8,
   "id": "fc38cf1b",
   "metadata": {
    "execution": {
     "iopub.execute_input": "2022-08-20T20:11:22.025991Z",
     "iopub.status.busy": "2022-08-20T20:11:22.025209Z",
     "iopub.status.idle": "2022-08-20T20:11:22.042819Z",
     "shell.execute_reply": "2022-08-20T20:11:22.042157Z"
    },
    "papermill": {
     "duration": 0.055636,
     "end_time": "2022-08-20T20:11:22.042958",
     "exception": false,
     "start_time": "2022-08-20T20:11:21.987322",
     "status": "completed"
    },
    "tags": []
   },
   "outputs": [
    {
     "data": {
      "text/plain": [
       "((10000, 28, 28), (10000,))"
      ]
     },
     "execution_count": 8,
     "metadata": {},
     "output_type": "execute_result"
    }
   ],
   "source": [
    "test_images.shape, test_labels.shape"
   ]
  },
  {
   "cell_type": "code",
   "execution_count": 9,
   "id": "f9ed8fe0",
   "metadata": {
    "execution": {
     "iopub.execute_input": "2022-08-20T20:11:22.126081Z",
     "iopub.status.busy": "2022-08-20T20:11:22.117978Z",
     "iopub.status.idle": "2022-08-20T20:11:22.314016Z",
     "shell.execute_reply": "2022-08-20T20:11:22.313339Z"
    },
    "papermill": {
     "duration": 0.237656,
     "end_time": "2022-08-20T20:11:22.314162",
     "exception": false,
     "start_time": "2022-08-20T20:11:22.076506",
     "status": "completed"
    },
    "tags": []
   },
   "outputs": [
    {
     "name": "stdout",
     "output_type": "stream",
     "text": [
      "2\n"
     ]
    },
    {
     "data": {
      "text/plain": [
       "<matplotlib.image.AxesImage at 0x7f18af4f0f98>"
      ]
     },
     "execution_count": 9,
     "metadata": {},
     "output_type": "execute_result"
    },
    {
     "data": {
      "image/png": "[encoded data removed]",
      "text/plain": [
       "<Figure size 432x288 with 1 Axes>"
      ]
     },
     "metadata": {
      "needs_background": "light"
     },
     "output_type": "display_data"
    }
   ],
   "source": [
    "image_index = 7776 # You may select anything up to 60,000\n",
    "print(train_labels[image_index]) \n",
    "plt.imshow(train_images[image_index], cmap='Greys')"
   ]
  },
  {
   "cell_type": "markdown",
   "id": "a8d2388d",
   "metadata": {
    "papermill": {
     "duration": 0.034077,
     "end_time": "2022-08-20T20:11:22.386342",
     "exception": false,
     "start_time": "2022-08-20T20:11:22.352265",
     "status": "completed"
    },
    "tags": []
   },
   "source": [
    "## Filter data to get 3 and 8 out"
   ]
  },
  {
   "cell_type": "code",
   "execution_count": 10,
   "id": "776f7fc7",
   "metadata": {
    "execution": {
     "iopub.execute_input": "2022-08-20T20:11:22.475394Z",
     "iopub.status.busy": "2022-08-20T20:11:22.463273Z",
     "iopub.status.idle": "2022-08-20T20:11:22.484507Z",
     "shell.execute_reply": "2022-08-20T20:11:22.483876Z"
    },
    "papermill": {
     "duration": 0.065004,
     "end_time": "2022-08-20T20:11:22.484657",
     "exception": false,
     "start_time": "2022-08-20T20:11:22.419653",
     "status": "completed"
    },
    "tags": []
   },
   "outputs": [],
   "source": [
    "train_filter = np.where((train_labels == 3 ) | (train_labels == 8))\n",
    "test_filter = np.where((test_labels == 3) | (test_labels == 8))\n",
    "X_train, y_train = train_images[train_filter], train_labels[train_filter]\n",
    "X_test, y_test = test_images[test_filter], test_labels[test_filter]"
   ]
  },
  {
   "cell_type": "markdown",
   "id": "948f0b7e",
   "metadata": {
    "papermill": {
     "duration": 0.034274,
     "end_time": "2022-08-20T20:11:22.554365",
     "exception": false,
     "start_time": "2022-08-20T20:11:22.520091",
     "status": "completed"
    },
    "tags": []
   },
   "source": [
    "We normalize the pizel values in the 0 to 1 range"
   ]
  },
  {
   "cell_type": "code",
   "execution_count": 11,
   "id": "ee4c2166",
   "metadata": {
    "execution": {
     "iopub.execute_input": "2022-08-20T20:11:22.627962Z",
     "iopub.status.busy": "2022-08-20T20:11:22.627198Z",
     "iopub.status.idle": "2022-08-20T20:11:22.690762Z",
     "shell.execute_reply": "2022-08-20T20:11:22.690069Z"
    },
    "papermill": {
     "duration": 0.101788,
     "end_time": "2022-08-20T20:11:22.690916",
     "exception": false,
     "start_time": "2022-08-20T20:11:22.589128",
     "status": "completed"
    },
    "tags": []
   },
   "outputs": [],
   "source": [
    "X_train = X_train/255.\n",
    "X_test = X_test/255."
   ]
  },
  {
   "cell_type": "markdown",
   "id": "ddcf4fab",
   "metadata": {
    "papermill": {
     "duration": 0.037575,
     "end_time": "2022-08-20T20:11:22.766190",
     "exception": false,
     "start_time": "2022-08-20T20:11:22.728615",
     "status": "completed"
    },
    "tags": []
   },
   "source": [
    "And setup the labels as 1 (when the digit is 3) and 0 (when the digit is 8)"
   ]
  },
  {
   "cell_type": "code",
   "execution_count": 12,
   "id": "7dc908f2",
   "metadata": {
    "execution": {
     "iopub.execute_input": "2022-08-20T20:11:22.846941Z",
     "iopub.status.busy": "2022-08-20T20:11:22.846160Z",
     "iopub.status.idle": "2022-08-20T20:11:22.862005Z",
     "shell.execute_reply": "2022-08-20T20:11:22.861343Z"
    },
    "papermill": {
     "duration": 0.056893,
     "end_time": "2022-08-20T20:11:22.862155",
     "exception": false,
     "start_time": "2022-08-20T20:11:22.805262",
     "status": "completed"
    },
    "tags": []
   },
   "outputs": [],
   "source": [
    "y_train = 1*(y_train==3)\n",
    "y_test = 1*(y_test==3)"
   ]
  },
  {
   "cell_type": "code",
   "execution_count": 13,
   "id": "01e4e969",
   "metadata": {
    "execution": {
     "iopub.execute_input": "2022-08-20T20:11:22.936046Z",
     "iopub.status.busy": "2022-08-20T20:11:22.935294Z",
     "iopub.status.idle": "2022-08-20T20:11:22.951302Z",
     "shell.execute_reply": "2022-08-20T20:11:22.951938Z"
    },
    "papermill": {
     "duration": 0.055017,
     "end_time": "2022-08-20T20:11:22.952107",
     "exception": false,
     "start_time": "2022-08-20T20:11:22.897090",
     "status": "completed"
    },
    "tags": []
   },
   "outputs": [
    {
     "data": {
      "text/plain": [
       "((11982, 28, 28), (1984, 28, 28))"
      ]
     },
     "execution_count": 13,
     "metadata": {},
     "output_type": "execute_result"
    }
   ],
   "source": [
    "X_train.shape, X_test.shape"
   ]
  },
  {
   "cell_type": "markdown",
   "id": "5ccf3f85",
   "metadata": {
    "papermill": {
     "duration": 0.03456,
     "end_time": "2022-08-20T20:11:23.020786",
     "exception": false,
     "start_time": "2022-08-20T20:11:22.986226",
     "status": "completed"
    },
    "tags": []
   },
   "source": [
    "We reshape the data to flatten the image pixels into a set of features or co-variates:"
   ]
  },
  {
   "cell_type": "code",
   "execution_count": 14,
   "id": "5286a4a3",
   "metadata": {
    "execution": {
     "iopub.execute_input": "2022-08-20T20:11:23.096365Z",
     "iopub.status.busy": "2022-08-20T20:11:23.095591Z",
     "iopub.status.idle": "2022-08-20T20:11:23.112860Z",
     "shell.execute_reply": "2022-08-20T20:11:23.112110Z"
    },
    "papermill": {
     "duration": 0.057934,
     "end_time": "2022-08-20T20:11:23.113003",
     "exception": false,
     "start_time": "2022-08-20T20:11:23.055069",
     "status": "completed"
    },
    "tags": []
   },
   "outputs": [
    {
     "data": {
      "text/plain": [
       "((11982, 784), (1984, 784))"
      ]
     },
     "execution_count": 14,
     "metadata": {},
     "output_type": "execute_result"
    }
   ],
   "source": [
    "X_train = X_train.reshape(X_train.shape[0], -1)\n",
    "X_test = X_test.reshape(X_test.shape[0], -1)\n",
    "X_train.shape, X_test.shape"
   ]
  },
  {
   "cell_type": "code",
   "execution_count": 15,
   "id": "73c5f88a",
   "metadata": {
    "execution": {
     "iopub.execute_input": "2022-08-20T20:11:23.188246Z",
     "iopub.status.busy": "2022-08-20T20:11:23.187411Z",
     "iopub.status.idle": "2022-08-20T20:11:23.211942Z",
     "shell.execute_reply": "2022-08-20T20:11:23.212559Z"
    },
    "papermill": {
     "duration": 0.065252,
     "end_time": "2022-08-20T20:11:23.212725",
     "exception": false,
     "start_time": "2022-08-20T20:11:23.147473",
     "status": "completed"
    },
    "tags": []
   },
   "outputs": [],
   "source": [
    "#Impoting functions from 'Kudzu'\n",
    "from kudzu.model import Model\n",
    "from kudzu.train import Learner\n",
    "from kudzu.optim import GD\n",
    "from kudzu.data import Data, Sampler,Dataloader\n",
    "\n",
    "from kudzu.callbacks import AccCallback\n",
    "from kudzu.callbacks import ClfCallback\n",
    "\n",
    "from kudzu.loss import MSE\n",
    "\n",
    "from kudzu.layer import Sigmoid,Relu\n",
    "from kudzu.layer import Affine"
   ]
  },
  {
   "cell_type": "markdown",
   "id": "bc01172a",
   "metadata": {
    "papermill": {
     "duration": 0.035337,
     "end_time": "2022-08-20T20:11:23.282894",
     "exception": false,
     "start_time": "2022-08-20T20:11:23.247557",
     "status": "completed"
    },
    "tags": []
   },
   "source": [
    "### Let us create a `Config` class, to store important parameters. \n",
    "This class essentially plays the role of a dictionary."
   ]
  },
  {
   "cell_type": "code",
   "execution_count": 16,
   "id": "978281aa",
   "metadata": {
    "execution": {
     "iopub.execute_input": "2022-08-20T20:11:23.357855Z",
     "iopub.status.busy": "2022-08-20T20:11:23.357097Z",
     "iopub.status.idle": "2022-08-20T20:11:23.371265Z",
     "shell.execute_reply": "2022-08-20T20:11:23.372002Z"
    },
    "papermill": {
     "duration": 0.054518,
     "end_time": "2022-08-20T20:11:23.372166",
     "exception": false,
     "start_time": "2022-08-20T20:11:23.317648",
     "status": "completed"
    },
    "tags": []
   },
   "outputs": [],
   "source": [
    "class Config:\n",
    "    pass\n",
    "config = Config()\n",
    "config.lr = 0.001\n",
    "config.num_epochs = 250\n",
    "config.bs = 50"
   ]
  },
  {
   "cell_type": "markdown",
   "id": "1385fa59",
   "metadata": {
    "papermill": {
     "duration": 0.035535,
     "end_time": "2022-08-20T20:11:23.444368",
     "exception": false,
     "start_time": "2022-08-20T20:11:23.408833",
     "status": "completed"
    },
    "tags": []
   },
   "source": [
    "### Running Models with the Training data\n",
    "Details about the network layers:\n",
    "- A first affine layer has 784 inputs and does 100 affine transforms. These are followed by a Relu\n",
    "- A second affine layer has 100 inputs from the 100 activations of the past layer, and does 100 affine transforms. These are followed by a Relu\n",
    "- A third affine layer has 100 activations and does 2 affine transformations to create an embedding for visualization. There is no non-linearity here.\n",
    "- A final \"logistic regression\" which has an affine transform from 2 inputs to 1 output, which is squeezed through a sigmoid.\n"
   ]
  },
  {
   "cell_type": "code",
   "execution_count": 17,
   "id": "2b9c66db",
   "metadata": {
    "execution": {
     "iopub.execute_input": "2022-08-20T20:11:23.527231Z",
     "iopub.status.busy": "2022-08-20T20:11:23.526149Z",
     "iopub.status.idle": "2022-08-20T20:11:23.537113Z",
     "shell.execute_reply": "2022-08-20T20:11:23.537713Z"
    },
    "papermill": {
     "duration": 0.058196,
     "end_time": "2022-08-20T20:11:23.537885",
     "exception": false,
     "start_time": "2022-08-20T20:11:23.479689",
     "status": "completed"
    },
    "tags": []
   },
   "outputs": [],
   "source": [
    "data = Data(X_train, y_train.reshape(-1,1))\n",
    "sampler = Sampler(data, config.bs, shuffle=True)\n",
    "\n",
    "dl = Dataloader(data, sampler)\n",
    "\n",
    "opt = GD(config.lr)\n",
    "loss = MSE()"
   ]
  },
  {
   "cell_type": "code",
   "execution_count": 18,
   "id": "b275e4c2",
   "metadata": {
    "execution": {
     "iopub.execute_input": "2022-08-20T20:11:23.614274Z",
     "iopub.status.busy": "2022-08-20T20:11:23.613349Z",
     "iopub.status.idle": "2022-08-20T20:11:23.626914Z",
     "shell.execute_reply": "2022-08-20T20:11:23.627663Z"
    },
    "papermill": {
     "duration": 0.054671,
     "end_time": "2022-08-20T20:11:23.627828",
     "exception": false,
     "start_time": "2022-08-20T20:11:23.573157",
     "status": "completed"
    },
    "tags": []
   },
   "outputs": [],
   "source": [
    "training_data_x = X_train\n",
    "testing_data_x = X_test\n",
    "training_data_y = y_train.reshape(-1,1)\n",
    "testing_data_y = y_test.reshape(-1,1)"
   ]
  },
  {
   "cell_type": "code",
   "execution_count": 19,
   "id": "76951160",
   "metadata": {
    "execution": {
     "iopub.execute_input": "2022-08-20T20:11:23.705872Z",
     "iopub.status.busy": "2022-08-20T20:11:23.705114Z",
     "iopub.status.idle": "2022-08-20T20:11:23.726118Z",
     "shell.execute_reply": "2022-08-20T20:11:23.727071Z"
    },
    "papermill": {
     "duration": 0.062185,
     "end_time": "2022-08-20T20:11:23.727251",
     "exception": false,
     "start_time": "2022-08-20T20:11:23.665066",
     "status": "completed"
    },
    "tags": []
   },
   "outputs": [
    {
     "name": "stdout",
     "output_type": "stream",
     "text": [
      "xavier\n",
      "xavier\n",
      "xavier\n",
      "xavier\n",
      "xavier\n"
     ]
    }
   ],
   "source": [
    "layers = [Affine(\"first\", 784, 100), Relu(\"first\"), Affine(\"second\", 100, 100), Relu(\"second\"), Affine(\"third\", 100, 2), Affine(\"last\", 2, 1), Sigmoid(\"last\")]\n",
    "model_nn = Model(layers)\n",
    "model_lr = Model([Affine(\"logits\", 784, 1), Sigmoid(\"sigmoid\")])"
   ]
  },
  {
   "cell_type": "code",
   "execution_count": 20,
   "id": "6eede77a",
   "metadata": {
    "execution": {
     "iopub.execute_input": "2022-08-20T20:11:23.808412Z",
     "iopub.status.busy": "2022-08-20T20:11:23.807629Z",
     "iopub.status.idle": "2022-08-20T20:11:23.820980Z",
     "shell.execute_reply": "2022-08-20T20:11:23.821558Z"
    },
    "papermill": {
     "duration": 0.059407,
     "end_time": "2022-08-20T20:11:23.821731",
     "exception": false,
     "start_time": "2022-08-20T20:11:23.762324",
     "status": "completed"
    },
    "tags": []
   },
   "outputs": [],
   "source": [
    "nn_learner = Learner(loss, model_nn, opt, config.num_epochs)\n",
    "acc_nn = ClfCallback(nn_learner, config.bs, training_data_x , testing_data_x, training_data_y, testing_data_y)\n",
    "nn_learner.set_callbacks([acc_nn])"
   ]
  },
  {
   "cell_type": "code",
   "execution_count": 21,
   "id": "877b6cc7",
   "metadata": {
    "execution": {
     "iopub.execute_input": "2022-08-20T20:11:23.904810Z",
     "iopub.status.busy": "2022-08-20T20:11:23.898692Z",
     "iopub.status.idle": "2022-08-20T20:11:23.913980Z",
     "shell.execute_reply": "2022-08-20T20:11:23.914730Z"
    },
    "papermill": {
     "duration": 0.057079,
     "end_time": "2022-08-20T20:11:23.914894",
     "exception": false,
     "start_time": "2022-08-20T20:11:23.857815",
     "status": "completed"
    },
    "tags": []
   },
   "outputs": [],
   "source": [
    "lr_learner = Learner(loss, model_lr, opt, config.num_epochs)\n",
    "acc_lr = ClfCallback(lr_learner, config.bs, training_data_x , testing_data_x, training_data_y, testing_data_y)\n",
    "lr_learner.set_callbacks([acc_lr])"
   ]
  },
  {
   "cell_type": "code",
   "execution_count": 22,
   "id": "d9b133c3",
   "metadata": {
    "execution": {
     "iopub.execute_input": "2022-08-20T20:11:23.995246Z",
     "iopub.status.busy": "2022-08-20T20:11:23.990904Z",
     "iopub.status.idle": "2022-08-20T20:13:33.391375Z",
     "shell.execute_reply": "2022-08-20T20:13:33.392383Z"
    },
    "papermill": {
     "duration": 129.440174,
     "end_time": "2022-08-20T20:13:33.392552",
     "exception": false,
     "start_time": "2022-08-20T20:11:23.952378",
     "status": "completed"
    },
    "tags": []
   },
   "outputs": [
    {
     "name": "stdout",
     "output_type": "stream",
     "text": [
      "Epoch 0, Loss 0.2441\n",
      "Training Accuracy: 0.5955, Testing Accuracy: 0.6220\n",
      "\n"
     ]
    },
    {
     "name": "stdout",
     "output_type": "stream",
     "text": [
      "Epoch 10, Loss 0.117\n",
      "Training Accuracy: 0.8990, Testing Accuracy: 0.9068\n",
      "\n"
     ]
    },
    {
     "name": "stdout",
     "output_type": "stream",
     "text": [
      "Epoch 20, Loss 0.0657\n",
      "Training Accuracy: 0.9320, Testing Accuracy: 0.9451\n",
      "\n"
     ]
    },
    {
     "name": "stdout",
     "output_type": "stream",
     "text": [
      "Epoch 30, Loss 0.0484\n",
      "Training Accuracy: 0.9481, Testing Accuracy: 0.9567\n",
      "\n"
     ]
    },
    {
     "name": "stdout",
     "output_type": "stream",
     "text": [
      "Epoch 40, Loss 0.0404\n",
      "Training Accuracy: 0.9555, Testing Accuracy: 0.9627\n",
      "\n"
     ]
    },
    {
     "name": "stdout",
     "output_type": "stream",
     "text": [
      "Epoch 50, Loss 0.0359\n",
      "Training Accuracy: 0.9587, Testing Accuracy: 0.9677\n",
      "\n"
     ]
    },
    {
     "name": "stdout",
     "output_type": "stream",
     "text": [
      "Epoch 60, Loss 0.0329\n",
      "Training Accuracy: 0.9617, Testing Accuracy: 0.9703\n",
      "\n"
     ]
    },
    {
     "name": "stdout",
     "output_type": "stream",
     "text": [
      "Epoch 70, Loss 0.0307\n",
      "Training Accuracy: 0.9642, Testing Accuracy: 0.9723\n",
      "\n"
     ]
    },
    {
     "name": "stdout",
     "output_type": "stream",
     "text": [
      "Epoch 80, Loss 0.0291\n",
      "Training Accuracy: 0.9659, Testing Accuracy: 0.9733\n",
      "\n"
     ]
    },
    {
     "name": "stdout",
     "output_type": "stream",
     "text": [
      "Epoch 90, Loss 0.0278\n",
      "Training Accuracy: 0.9675, Testing Accuracy: 0.9743\n",
      "\n"
     ]
    },
    {
     "name": "stdout",
     "output_type": "stream",
     "text": [
      "Epoch 100, Loss 0.0267\n",
      "Training Accuracy: 0.9691, Testing Accuracy: 0.9738\n",
      "\n"
     ]
    },
    {
     "name": "stdout",
     "output_type": "stream",
     "text": [
      "Epoch 110, Loss 0.0257\n",
      "Training Accuracy: 0.9707, Testing Accuracy: 0.9743\n",
      "\n"
     ]
    },
    {
     "name": "stdout",
     "output_type": "stream",
     "text": [
      "Epoch 120, Loss 0.0249\n",
      "Training Accuracy: 0.9715, Testing Accuracy: 0.9738\n",
      "\n"
     ]
    },
    {
     "name": "stdout",
     "output_type": "stream",
     "text": [
      "Epoch 130, Loss 0.0241\n",
      "Training Accuracy: 0.9725, Testing Accuracy: 0.9738\n",
      "\n"
     ]
    },
    {
     "name": "stdout",
     "output_type": "stream",
     "text": [
      "Epoch 140, Loss 0.0234\n",
      "Training Accuracy: 0.9734, Testing Accuracy: 0.9748\n",
      "\n"
     ]
    },
    {
     "name": "stdout",
     "output_type": "stream",
     "text": [
      "Epoch 150, Loss 0.0228\n",
      "Training Accuracy: 0.9740, Testing Accuracy: 0.9748\n",
      "\n"
     ]
    },
    {
     "name": "stdout",
     "output_type": "stream",
     "text": [
      "Epoch 160, Loss 0.0222\n",
      "Training Accuracy: 0.9747, Testing Accuracy: 0.9758\n",
      "\n"
     ]
    },
    {
     "name": "stdout",
     "output_type": "stream",
     "text": [
      "Epoch 170, Loss 0.0217\n",
      "Training Accuracy: 0.9750, Testing Accuracy: 0.9758\n",
      "\n"
     ]
    },
    {
     "name": "stdout",
     "output_type": "stream",
     "text": [
      "Epoch 180, Loss 0.0212\n",
      "Training Accuracy: 0.9756, Testing Accuracy: 0.9763\n",
      "\n"
     ]
    },
    {
     "name": "stdout",
     "output_type": "stream",
     "text": [
      "Epoch 190, Loss 0.0207\n",
      "Training Accuracy: 0.9760, Testing Accuracy: 0.9763\n",
      "\n"
     ]
    },
    {
     "name": "stdout",
     "output_type": "stream",
     "text": [
      "Epoch 200, Loss 0.0202\n",
      "Training Accuracy: 0.9766, Testing Accuracy: 0.9768\n",
      "\n"
     ]
    },
    {
     "name": "stdout",
     "output_type": "stream",
     "text": [
      "Epoch 210, Loss 0.0198\n",
      "Training Accuracy: 0.9773, Testing Accuracy: 0.9773\n",
      "\n"
     ]
    },
    {
     "name": "stdout",
     "output_type": "stream",
     "text": [
      "Epoch 220, Loss 0.0193\n",
      "Training Accuracy: 0.9781, Testing Accuracy: 0.9773\n",
      "\n"
     ]
    },
    {
     "name": "stdout",
     "output_type": "stream",
     "text": [
      "Epoch 230, Loss 0.0189\n",
      "Training Accuracy: 0.9786, Testing Accuracy: 0.9773\n",
      "\n"
     ]
    },
    {
     "name": "stdout",
     "output_type": "stream",
     "text": [
      "Epoch 240, Loss 0.0185\n",
      "Training Accuracy: 0.9787, Testing Accuracy: 0.9773\n",
      "\n"
     ]
    },
    {
     "data": {
      "text/plain": [
       "0.0009060373968464684"
      ]
     },
     "execution_count": 22,
     "metadata": {},
     "output_type": "execute_result"
    }
   ],
   "source": [
    "nn_learner.train_loop(dl)"
   ]
  },
  {
   "cell_type": "code",
   "execution_count": 23,
   "id": "e0163366",
   "metadata": {
    "execution": {
     "iopub.execute_input": "2022-08-20T20:13:33.500340Z",
     "iopub.status.busy": "2022-08-20T20:13:33.499577Z",
     "iopub.status.idle": "2022-08-20T20:13:52.114427Z",
     "shell.execute_reply": "2022-08-20T20:13:52.115413Z"
    },
    "papermill": {
     "duration": 18.67809,
     "end_time": "2022-08-20T20:13:52.115584",
     "exception": false,
     "start_time": "2022-08-20T20:13:33.437494",
     "status": "completed"
    },
    "tags": []
   },
   "outputs": [
    {
     "name": "stdout",
     "output_type": "stream",
     "text": [
      "Epoch 0, Loss 0.2504\n",
      "Training Accuracy: 0.6390, Testing Accuracy: 0.6169\n",
      "\n"
     ]
    },
    {
     "name": "stdout",
     "output_type": "stream",
     "text": [
      "Epoch 10, Loss 0.1058\n",
      "Training Accuracy: 0.9009, Testing Accuracy: 0.9173\n",
      "\n"
     ]
    },
    {
     "name": "stdout",
     "output_type": "stream",
     "text": [
      "Epoch 20, Loss 0.08\n",
      "Training Accuracy: 0.9268, Testing Accuracy: 0.9385\n",
      "\n"
     ]
    },
    {
     "name": "stdout",
     "output_type": "stream",
     "text": [
      "Epoch 30, Loss 0.0683\n",
      "Training Accuracy: 0.9372, Testing Accuracy: 0.9496\n",
      "\n"
     ]
    },
    {
     "name": "stdout",
     "output_type": "stream",
     "text": [
      "Epoch 40, Loss 0.0614\n",
      "Training Accuracy: 0.9432, Testing Accuracy: 0.9536\n",
      "\n"
     ]
    },
    {
     "name": "stdout",
     "output_type": "stream",
     "text": [
      "Epoch 50, Loss 0.0568\n",
      "Training Accuracy: 0.9458, Testing Accuracy: 0.9577\n",
      "\n"
     ]
    },
    {
     "name": "stdout",
     "output_type": "stream",
     "text": [
      "Epoch 60, Loss 0.0534\n",
      "Training Accuracy: 0.9487, Testing Accuracy: 0.9582\n",
      "\n"
     ]
    },
    {
     "name": "stdout",
     "output_type": "stream",
     "text": [
      "Epoch 70, Loss 0.0509\n",
      "Training Accuracy: 0.9501, Testing Accuracy: 0.9602\n",
      "\n"
     ]
    },
    {
     "name": "stdout",
     "output_type": "stream",
     "text": [
      "Epoch 80, Loss 0.0488\n",
      "Training Accuracy: 0.9519, Testing Accuracy: 0.9617\n",
      "\n"
     ]
    },
    {
     "name": "stdout",
     "output_type": "stream",
     "text": [
      "Epoch 90, Loss 0.0472\n",
      "Training Accuracy: 0.9529, Testing Accuracy: 0.9627\n",
      "\n"
     ]
    },
    {
     "name": "stdout",
     "output_type": "stream",
     "text": [
      "Epoch 100, Loss 0.0457\n",
      "Training Accuracy: 0.9544, Testing Accuracy: 0.9632\n",
      "\n"
     ]
    },
    {
     "name": "stdout",
     "output_type": "stream",
     "text": [
      "Epoch 110, Loss 0.0445\n",
      "Training Accuracy: 0.9554, Testing Accuracy: 0.9632\n",
      "\n"
     ]
    },
    {
     "name": "stdout",
     "output_type": "stream",
     "text": [
      "Epoch 120, Loss 0.0435\n",
      "Training Accuracy: 0.9562, Testing Accuracy: 0.9632\n",
      "\n"
     ]
    },
    {
     "name": "stdout",
     "output_type": "stream",
     "text": [
      "Epoch 130, Loss 0.0426\n",
      "Training Accuracy: 0.9568, Testing Accuracy: 0.9647\n",
      "\n"
     ]
    },
    {
     "name": "stdout",
     "output_type": "stream",
     "text": [
      "Epoch 140, Loss 0.0418\n",
      "Training Accuracy: 0.9573, Testing Accuracy: 0.9647\n",
      "\n"
     ]
    },
    {
     "name": "stdout",
     "output_type": "stream",
     "text": [
      "Epoch 150, Loss 0.041\n",
      "Training Accuracy: 0.9580, Testing Accuracy: 0.9652\n",
      "\n"
     ]
    },
    {
     "name": "stdout",
     "output_type": "stream",
     "text": [
      "Epoch 160, Loss 0.0404\n",
      "Training Accuracy: 0.9585, Testing Accuracy: 0.9657\n",
      "\n"
     ]
    },
    {
     "name": "stdout",
     "output_type": "stream",
     "text": [
      "Epoch 170, Loss 0.0398\n",
      "Training Accuracy: 0.9594, Testing Accuracy: 0.9657\n",
      "\n"
     ]
    },
    {
     "name": "stdout",
     "output_type": "stream",
     "text": [
      "Epoch 180, Loss 0.0392\n",
      "Training Accuracy: 0.9599, Testing Accuracy: 0.9657\n",
      "\n"
     ]
    },
    {
     "name": "stdout",
     "output_type": "stream",
     "text": [
      "Epoch 190, Loss 0.0387\n",
      "Training Accuracy: 0.9600, Testing Accuracy: 0.9657\n",
      "\n"
     ]
    },
    {
     "name": "stdout",
     "output_type": "stream",
     "text": [
      "Epoch 200, Loss 0.0382\n",
      "Training Accuracy: 0.9602, Testing Accuracy: 0.9662\n",
      "\n"
     ]
    },
    {
     "name": "stdout",
     "output_type": "stream",
     "text": [
      "Epoch 210, Loss 0.0378\n",
      "Training Accuracy: 0.9604, Testing Accuracy: 0.9662\n",
      "\n"
     ]
    },
    {
     "name": "stdout",
     "output_type": "stream",
     "text": [
      "Epoch 220, Loss 0.0374\n",
      "Training Accuracy: 0.9605, Testing Accuracy: 0.9662\n",
      "\n"
     ]
    },
    {
     "name": "stdout",
     "output_type": "stream",
     "text": [
      "Epoch 230, Loss 0.037\n",
      "Training Accuracy: 0.9613, Testing Accuracy: 0.9657\n",
      "\n"
     ]
    },
    {
     "name": "stdout",
     "output_type": "stream",
     "text": [
      "Epoch 240, Loss 0.0367\n",
      "Training Accuracy: 0.9615, Testing Accuracy: 0.9657\n",
      "\n"
     ]
    },
    {
     "data": {
      "text/plain": [
       "0.05836898088017741"
      ]
     },
     "execution_count": 23,
     "metadata": {},
     "output_type": "execute_result"
    }
   ],
   "source": [
    "lr_learner.train_loop(dl)"
   ]
  },
  {
   "cell_type": "code",
   "execution_count": 24,
   "id": "ca410940",
   "metadata": {
    "execution": {
     "iopub.execute_input": "2022-08-20T20:13:52.229789Z",
     "iopub.status.busy": "2022-08-20T20:13:52.228873Z",
     "iopub.status.idle": "2022-08-20T20:13:52.546934Z",
     "shell.execute_reply": "2022-08-20T20:13:52.546270Z"
    },
    "papermill": {
     "duration": 0.377513,
     "end_time": "2022-08-20T20:13:52.547079",
     "exception": false,
     "start_time": "2022-08-20T20:13:52.169566",
     "status": "completed"
    },
    "tags": []
   },
   "outputs": [
    {
     "data": {
      "text/plain": [
       "<matplotlib.legend.Legend at 0x7f18af061fd0>"
      ]
     },
     "execution_count": 24,
     "metadata": {},
     "output_type": "execute_result"
    },
    {
     "data": {
      "image/png": "[encoded data removed]",
      "text/plain": [
       "<Figure size 1080x720 with 1 Axes>"
      ]
     },
     "metadata": {
      "needs_background": "light"
     },
     "output_type": "display_data"
    }
   ],
   "source": [
    "#comparing the results of NN and LR\n",
    "plt.figure(figsize=(15,10))\n",
    "\n",
    "# Neural Network plots\n",
    "plt.plot(acc_nn.accuracies, 'r-', label = \"Training Accuracies - NN\")\n",
    "plt.plot(acc_nn.test_accuracies, 'g-', label = \"Testing Accuracies - NN\")\n",
    "\n",
    "# Logistic Regression plots\n",
    "plt.plot(acc_lr.accuracies, 'k-', label = \"Training Accuracies - LR\")\n",
    "plt.plot(acc_lr.test_accuracies, 'b-', label = \"Testing Accuracies - LR\")\n",
    "plt.legend()"
   ]
  },
  {
   "cell_type": "markdown",
   "id": "80dfb35c",
   "metadata": {
    "papermill": {
     "duration": 0.054659,
     "end_time": "2022-08-20T20:13:52.656132",
     "exception": false,
     "start_time": "2022-08-20T20:13:52.601473",
     "status": "completed"
    },
    "tags": []
   },
   "source": [
    "#### Plotting the outputs of this layer of the NN.\n"
   ]
  },
  {
   "cell_type": "code",
   "execution_count": 25,
   "id": "45eb2ff5",
   "metadata": {
    "execution": {
     "iopub.execute_input": "2022-08-20T20:13:52.775050Z",
     "iopub.status.busy": "2022-08-20T20:13:52.774245Z",
     "iopub.status.idle": "2022-08-20T20:13:52.798908Z",
     "shell.execute_reply": "2022-08-20T20:13:52.799513Z"
    },
    "papermill": {
     "duration": 0.087991,
     "end_time": "2022-08-20T20:13:52.799701",
     "exception": false,
     "start_time": "2022-08-20T20:13:52.711710",
     "status": "completed"
    },
    "tags": []
   },
   "outputs": [],
   "source": [
    "new_model = Model(layers[:-2])\n",
    "testing_plot = new_model(testing_data_x)"
   ]
  },
  {
   "cell_type": "code",
   "execution_count": 26,
   "id": "4c0a5485",
   "metadata": {
    "execution": {
     "iopub.execute_input": "2022-08-20T20:13:52.920194Z",
     "iopub.status.busy": "2022-08-20T20:13:52.918973Z",
     "iopub.status.idle": "2022-08-20T20:13:53.230376Z",
     "shell.execute_reply": "2022-08-20T20:13:53.229728Z"
    },
    "papermill": {
     "duration": 0.376944,
     "end_time": "2022-08-20T20:13:53.230522",
     "exception": false,
     "start_time": "2022-08-20T20:13:52.853578",
     "status": "completed"
    },
    "tags": []
   },
   "outputs": [
    {
     "data": {
      "text/plain": [
       "Text(0.5, 1.0, 'Outputs')"
      ]
     },
     "execution_count": 26,
     "metadata": {},
     "output_type": "execute_result"
    },
    {
     "data": {
      "image/png": "[encoded data removed]",
      "text/plain": [
       "<Figure size 576x504 with 1 Axes>"
      ]
     },
     "metadata": {
      "needs_background": "light"
     },
     "output_type": "display_data"
    }
   ],
   "source": [
    "# Plotting the scatter plot of points and color coding by class\n",
    "plt.figure(figsize=(8,7))\n",
    "plt.scatter(testing_plot[:,0], testing_plot[:,1], alpha = 0.1, c = y_test.ravel());\n",
    "plt.title('Outputs')"
   ]
  },
  {
   "cell_type": "markdown",
   "id": "a74fcf8f",
   "metadata": {
    "papermill": {
     "duration": 0.087192,
     "end_time": "2022-08-20T20:13:53.375739",
     "exception": false,
     "start_time": "2022-08-20T20:13:53.288547",
     "status": "completed"
    },
    "tags": []
   },
   "source": [
    "Probability contours"
   ]
  },
  {
   "cell_type": "code",
   "execution_count": 27,
   "id": "d0afc8e3",
   "metadata": {
    "execution": {
     "iopub.execute_input": "2022-08-20T20:13:53.502351Z",
     "iopub.status.busy": "2022-08-20T20:13:53.500466Z",
     "iopub.status.idle": "2022-08-20T20:13:53.514719Z",
     "shell.execute_reply": "2022-08-20T20:13:53.515292Z"
    },
    "papermill": {
     "duration": 0.080787,
     "end_time": "2022-08-20T20:13:53.515454",
     "exception": false,
     "start_time": "2022-08-20T20:13:53.434667",
     "status": "completed"
    },
    "tags": []
   },
   "outputs": [],
   "source": [
    "model_prob = Model(layers[-2:]) "
   ]
  },
  {
   "cell_type": "code",
   "execution_count": 28,
   "id": "9b96e238",
   "metadata": {
    "execution": {
     "iopub.execute_input": "2022-08-20T20:13:53.642084Z",
     "iopub.status.busy": "2022-08-20T20:13:53.640601Z",
     "iopub.status.idle": "2022-08-20T20:13:53.658829Z",
     "shell.execute_reply": "2022-08-20T20:13:53.659447Z"
    },
    "papermill": {
     "duration": 0.086359,
     "end_time": "2022-08-20T20:13:53.659626",
     "exception": false,
     "start_time": "2022-08-20T20:13:53.573267",
     "status": "completed"
    },
    "tags": []
   },
   "outputs": [],
   "source": [
    "#creating the x and y ranges according to the above generated plot.\n",
    "x_range = np.linspace(-4, 1, 100) \n",
    "y_range = np.linspace(-6, 6, 100) \n",
    "x_grid, y_grid = np.meshgrid(x_range, y_range) # x_grid and y_grig are of size 100 X 100\n",
    "\n",
    "# converting x_grid and y_grid to continuous arrays\n",
    "x_gridflat = np.ravel(x_grid)\n",
    "y_gridflat = np.ravel(y_grid)\n",
    "\n",
    "# The last layer of the current model takes two columns as input. Hence transpose of np.vstack() is required.\n",
    "X = np.vstack((x_gridflat, y_gridflat)).T\n",
    "\n",
    "prob_contour = model_prob(X).reshape(100,100) "
   ]
  },
  {
   "cell_type": "code",
   "execution_count": 29,
   "id": "da72499a",
   "metadata": {
    "execution": {
     "iopub.execute_input": "2022-08-20T20:13:53.785298Z",
     "iopub.status.busy": "2022-08-20T20:13:53.784546Z",
     "iopub.status.idle": "2022-08-20T20:13:54.113951Z",
     "shell.execute_reply": "2022-08-20T20:13:54.113331Z"
    },
    "papermill": {
     "duration": 0.391917,
     "end_time": "2022-08-20T20:13:54.114100",
     "exception": false,
     "start_time": "2022-08-20T20:13:53.722183",
     "status": "completed"
    },
    "tags": []
   },
   "outputs": [
    {
     "data": {
      "image/png": "[encoded data removed]",
      "text/plain": [
       "<Figure size 720x648 with 1 Axes>"
      ]
     },
     "metadata": {
      "needs_background": "light"
     },
     "output_type": "display_data"
    }
   ],
   "source": [
    "plt.figure(figsize=(10,9))\n",
    "plt.scatter(testing_plot[:,0], testing_plot[:,1], alpha = 0.1, c = y_test.ravel())\n",
    "contours = plt.contour(x_grid,y_grid,prob_contour)\n",
    "plt.title('Probability Contours')\n",
    "plt.clabel(contours, inline = True );"
   ]
  },
  {
   "cell_type": "code",
   "execution_count": null,
   "id": "e81b4ac7",
   "metadata": {
    "papermill": {
     "duration": 0.060091,
     "end_time": "2022-08-20T20:13:54.235501",
     "exception": false,
     "start_time": "2022-08-20T20:13:54.175410",
     "status": "completed"
    },
    "tags": []
   },
   "outputs": [],
   "source": []
  }
 ],
 "metadata": {
  "kernelspec": {
   "display_name": "Python 3",
   "language": "python",
   "name": "python3"
  },
  "language_info": {
   "codemirror_mode": {
    "name": "ipython",
    "version": 3
   },
   "file_extension": ".py",
   "mimetype": "text/x-python",
   "name": "python",
   "nbconvert_exporter": "python",
   "pygments_lexer": "ipython3",
   "version": "3.6.15"
  },
  "papermill": {
   "default_parameters": {},
   "duration": 158.748108,
   "end_time": "2022-08-20T20:13:54.822578",
   "environment_variables": {},
   "exception": null,
   "input_path": "2020-08-11-part2.ipynb",
   "output_path": "2020-08-11-part2.ipynb",
   "parameters": {},
   "start_time": "2022-08-20T20:11:16.074470",
   "version": "2.3.3"
  }
 },
 "nbformat": 4,
 "nbformat_minor": 5
}