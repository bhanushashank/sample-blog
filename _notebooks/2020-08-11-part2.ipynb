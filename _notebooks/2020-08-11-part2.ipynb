{
 "cells": [
  {
   "cell_type": "markdown",
   "id": "98380cd3",
   "metadata": {
    "papermill": {
     "duration": 0.03218,
     "end_time": "2022-04-21T00:36:18.364116",
     "exception": false,
     "start_time": "2022-04-21T00:36:18.331936",
     "status": "completed"
    },
    "tags": []
   },
   "source": [
    "# Distinguish Your Own Digits (DYOD)"
   ]
  },
  {
   "cell_type": "markdown",
   "id": "ef31240d",
   "metadata": {
    "papermill": {
     "duration": 0.028566,
     "end_time": "2022-04-21T00:36:18.419452",
     "exception": false,
     "start_time": "2022-04-21T00:36:18.390886",
     "status": "completed"
    },
    "tags": []
   },
   "source": [
    "You are going to write a classifier that distinguishes between the number 3 and number 8."
   ]
  },
  {
   "cell_type": "code",
   "execution_count": 1,
   "id": "b15c8646",
   "metadata": {
    "execution": {
     "iopub.execute_input": "2022-04-21T00:36:18.484874Z",
     "iopub.status.busy": "2022-04-21T00:36:18.484221Z",
     "iopub.status.idle": "2022-04-21T00:36:18.496227Z",
     "shell.execute_reply": "2022-04-21T00:36:18.495677Z"
    },
    "papermill": {
     "duration": 0.050071,
     "end_time": "2022-04-21T00:36:18.496387",
     "exception": false,
     "start_time": "2022-04-21T00:36:18.446316",
     "status": "completed"
    },
    "tags": []
   },
   "outputs": [],
   "source": [
    "%load_ext autoreload\n",
    "%autoreload 2"
   ]
  },
  {
   "cell_type": "code",
   "execution_count": 2,
   "id": "22ef38dc",
   "metadata": {
    "execution": {
     "iopub.execute_input": "2022-04-21T00:36:18.555345Z",
     "iopub.status.busy": "2022-04-21T00:36:18.554731Z",
     "iopub.status.idle": "2022-04-21T00:36:19.188038Z",
     "shell.execute_reply": "2022-04-21T00:36:19.187361Z"
    },
    "papermill": {
     "duration": 0.664959,
     "end_time": "2022-04-21T00:36:19.188206",
     "exception": false,
     "start_time": "2022-04-21T00:36:18.523247",
     "status": "completed"
    },
    "tags": []
   },
   "outputs": [],
   "source": [
    "%matplotlib inline\n",
    "import numpy as np\n",
    "import matplotlib.pyplot as plt\n",
    "import pandas as pd"
   ]
  },
  {
   "cell_type": "markdown",
   "id": "ba036198",
   "metadata": {
    "papermill": {
     "duration": 0.027562,
     "end_time": "2022-04-21T00:36:19.243710",
     "exception": false,
     "start_time": "2022-04-21T00:36:19.216148",
     "status": "completed"
    },
    "tags": []
   },
   "source": [
    "From the command line run `pip install mnist`. This is a library that will help you bring down the mnist dataset. If you run this from a notebook, you need to put  `!pip install mnist` in a cell by itself."
   ]
  },
  {
   "cell_type": "code",
   "execution_count": 3,
   "id": "bb6ad8a1",
   "metadata": {
    "execution": {
     "iopub.execute_input": "2022-04-21T00:36:19.305635Z",
     "iopub.status.busy": "2022-04-21T00:36:19.304972Z",
     "iopub.status.idle": "2022-04-21T00:36:21.321623Z",
     "shell.execute_reply": "2022-04-21T00:36:21.322193Z"
    },
    "papermill": {
     "duration": 2.051088,
     "end_time": "2022-04-21T00:36:21.322385",
     "exception": false,
     "start_time": "2022-04-21T00:36:19.271297",
     "status": "completed"
    },
    "tags": []
   },
   "outputs": [
    {
     "name": "stdout",
     "output_type": "stream",
     "text": [
      "Collecting mnist\r\n"
     ]
    },
    {
     "name": "stdout",
     "output_type": "stream",
     "text": [
      "  Downloading mnist-0.2.2-py2.py3-none-any.whl (3.5 kB)\r\n",
      "Requirement already satisfied: numpy in /opt/hostedtoolcache/Python/3.6.15/x64/lib/python3.6/site-packages (from mnist) (1.19.5)\r\n"
     ]
    },
    {
     "name": "stdout",
     "output_type": "stream",
     "text": [
      "Installing collected packages: mnist\r\n",
      "Successfully installed mnist-0.2.2\r\n"
     ]
    }
   ],
   "source": [
    "!pip install mnist"
   ]
  },
  {
   "cell_type": "markdown",
   "id": "69df9c9a",
   "metadata": {
    "papermill": {
     "duration": 0.037866,
     "end_time": "2022-04-21T00:36:21.390825",
     "exception": false,
     "start_time": "2022-04-21T00:36:21.352959",
     "status": "completed"
    },
    "tags": []
   },
   "source": [
    "## Preparing the Data"
   ]
  },
  {
   "cell_type": "code",
   "execution_count": 4,
   "id": "7f69d806",
   "metadata": {
    "execution": {
     "iopub.execute_input": "2022-04-21T00:36:21.474425Z",
     "iopub.status.busy": "2022-04-21T00:36:21.454909Z",
     "iopub.status.idle": "2022-04-21T00:36:21.490354Z",
     "shell.execute_reply": "2022-04-21T00:36:21.489718Z"
    },
    "papermill": {
     "duration": 0.070582,
     "end_time": "2022-04-21T00:36:21.490581",
     "exception": false,
     "start_time": "2022-04-21T00:36:21.419999",
     "status": "completed"
    },
    "tags": []
   },
   "outputs": [],
   "source": [
    "import mnist"
   ]
  },
  {
   "cell_type": "code",
   "execution_count": 5,
   "id": "a411e44f",
   "metadata": {
    "execution": {
     "iopub.execute_input": "2022-04-21T00:36:21.558450Z",
     "iopub.status.busy": "2022-04-21T00:36:21.557792Z",
     "iopub.status.idle": "2022-04-21T00:36:22.138008Z",
     "shell.execute_reply": "2022-04-21T00:36:22.137377Z"
    },
    "papermill": {
     "duration": 0.614837,
     "end_time": "2022-04-21T00:36:22.138173",
     "exception": false,
     "start_time": "2022-04-21T00:36:21.523336",
     "status": "completed"
    },
    "tags": []
   },
   "outputs": [],
   "source": [
    "train_images = mnist.train_images()\n",
    "train_labels = mnist.train_labels()"
   ]
  },
  {
   "cell_type": "code",
   "execution_count": 6,
   "id": "dceab3a5",
   "metadata": {
    "execution": {
     "iopub.execute_input": "2022-04-21T00:36:22.202023Z",
     "iopub.status.busy": "2022-04-21T00:36:22.201370Z",
     "iopub.status.idle": "2022-04-21T00:36:22.217922Z",
     "shell.execute_reply": "2022-04-21T00:36:22.218446Z"
    },
    "papermill": {
     "duration": 0.050899,
     "end_time": "2022-04-21T00:36:22.218605",
     "exception": false,
     "start_time": "2022-04-21T00:36:22.167706",
     "status": "completed"
    },
    "tags": []
   },
   "outputs": [
    {
     "data": {
      "text/plain": [
       "((60000, 28, 28), (60000,))"
      ]
     },
     "execution_count": 6,
     "metadata": {},
     "output_type": "execute_result"
    }
   ],
   "source": [
    "train_images.shape, train_labels.shape"
   ]
  },
  {
   "cell_type": "code",
   "execution_count": 7,
   "id": "f50dc2bb",
   "metadata": {
    "execution": {
     "iopub.execute_input": "2022-04-21T00:36:22.280755Z",
     "iopub.status.busy": "2022-04-21T00:36:22.280108Z",
     "iopub.status.idle": "2022-04-21T00:36:22.469050Z",
     "shell.execute_reply": "2022-04-21T00:36:22.468445Z"
    },
    "papermill": {
     "duration": 0.222086,
     "end_time": "2022-04-21T00:36:22.469204",
     "exception": false,
     "start_time": "2022-04-21T00:36:22.247118",
     "status": "completed"
    },
    "tags": []
   },
   "outputs": [],
   "source": [
    "test_images = mnist.test_images()\n",
    "test_labels = mnist.test_labels()"
   ]
  },
  {
   "cell_type": "code",
   "execution_count": 8,
   "id": "fc38cf1b",
   "metadata": {
    "execution": {
     "iopub.execute_input": "2022-04-21T00:36:22.541999Z",
     "iopub.status.busy": "2022-04-21T00:36:22.541358Z",
     "iopub.status.idle": "2022-04-21T00:36:22.558241Z",
     "shell.execute_reply": "2022-04-21T00:36:22.557736Z"
    },
    "papermill": {
     "duration": 0.05847,
     "end_time": "2022-04-21T00:36:22.558377",
     "exception": false,
     "start_time": "2022-04-21T00:36:22.499907",
     "status": "completed"
    },
    "tags": []
   },
   "outputs": [
    {
     "data": {
      "text/plain": [
       "((10000, 28, 28), (10000,))"
      ]
     },
     "execution_count": 8,
     "metadata": {},
     "output_type": "execute_result"
    }
   ],
   "source": [
    "test_images.shape, test_labels.shape"
   ]
  },
  {
   "cell_type": "code",
   "execution_count": 9,
   "id": "f9ed8fe0",
   "metadata": {
    "execution": {
     "iopub.execute_input": "2022-04-21T00:36:22.633942Z",
     "iopub.status.busy": "2022-04-21T00:36:22.633264Z",
     "iopub.status.idle": "2022-04-21T00:36:22.794070Z",
     "shell.execute_reply": "2022-04-21T00:36:22.793545Z"
    },
    "papermill": {
     "duration": 0.203663,
     "end_time": "2022-04-21T00:36:22.794210",
     "exception": false,
     "start_time": "2022-04-21T00:36:22.590547",
     "status": "completed"
    },
    "tags": []
   },
   "outputs": [
    {
     "name": "stdout",
     "output_type": "stream",
     "text": [
      "2\n"
     ]
    },
    {
     "data": {
      "text/plain": [
       "<matplotlib.image.AxesImage at 0x7fd4ef4ff358>"
      ]
     },
     "execution_count": 9,
     "metadata": {},
     "output_type": "execute_result"
    },
    {
     "data": {
      "image/png": "[encoded data removed]",
      "text/plain": [
       "<Figure size 432x288 with 1 Axes>"
      ]
     },
     "metadata": {
      "needs_background": "light"
     },
     "output_type": "display_data"
    }
   ],
   "source": [
    "image_index = 7776 # You may select anything up to 60,000\n",
    "print(train_labels[image_index]) \n",
    "plt.imshow(train_images[image_index], cmap='Greys')"
   ]
  },
  {
   "cell_type": "markdown",
   "id": "a8d2388d",
   "metadata": {
    "papermill": {
     "duration": 0.030071,
     "end_time": "2022-04-21T00:36:22.854486",
     "exception": false,
     "start_time": "2022-04-21T00:36:22.824415",
     "status": "completed"
    },
    "tags": []
   },
   "source": [
    "## Filter data to get 3 and 8 out"
   ]
  },
  {
   "cell_type": "code",
   "execution_count": 10,
   "id": "776f7fc7",
   "metadata": {
    "execution": {
     "iopub.execute_input": "2022-04-21T00:36:22.920311Z",
     "iopub.status.busy": "2022-04-21T00:36:22.919068Z",
     "iopub.status.idle": "2022-04-21T00:36:22.941027Z",
     "shell.execute_reply": "2022-04-21T00:36:22.940435Z"
    },
    "papermill": {
     "duration": 0.056508,
     "end_time": "2022-04-21T00:36:22.941166",
     "exception": false,
     "start_time": "2022-04-21T00:36:22.884658",
     "status": "completed"
    },
    "tags": []
   },
   "outputs": [],
   "source": [
    "train_filter = np.where((train_labels == 3 ) | (train_labels == 8))\n",
    "test_filter = np.where((test_labels == 3) | (test_labels == 8))\n",
    "X_train, y_train = train_images[train_filter], train_labels[train_filter]\n",
    "X_test, y_test = test_images[test_filter], test_labels[test_filter]"
   ]
  },
  {
   "cell_type": "markdown",
   "id": "948f0b7e",
   "metadata": {
    "papermill": {
     "duration": 0.031496,
     "end_time": "2022-04-21T00:36:23.004369",
     "exception": false,
     "start_time": "2022-04-21T00:36:22.972873",
     "status": "completed"
    },
    "tags": []
   },
   "source": [
    "We normalize the pizel values in the 0 to 1 range"
   ]
  },
  {
   "cell_type": "code",
   "execution_count": 11,
   "id": "ee4c2166",
   "metadata": {
    "execution": {
     "iopub.execute_input": "2022-04-21T00:36:23.073203Z",
     "iopub.status.busy": "2022-04-21T00:36:23.071435Z",
     "iopub.status.idle": "2022-04-21T00:36:23.135124Z",
     "shell.execute_reply": "2022-04-21T00:36:23.134450Z"
    },
    "papermill": {
     "duration": 0.099497,
     "end_time": "2022-04-21T00:36:23.135281",
     "exception": false,
     "start_time": "2022-04-21T00:36:23.035784",
     "status": "completed"
    },
    "tags": []
   },
   "outputs": [],
   "source": [
    "X_train = X_train/255.\n",
    "X_test = X_test/255."
   ]
  },
  {
   "cell_type": "markdown",
   "id": "ddcf4fab",
   "metadata": {
    "papermill": {
     "duration": 0.030572,
     "end_time": "2022-04-21T00:36:23.197884",
     "exception": false,
     "start_time": "2022-04-21T00:36:23.167312",
     "status": "completed"
    },
    "tags": []
   },
   "source": [
    "And setup the labels as 1 (when the digit is 3) and 0 (when the digit is 8)"
   ]
  },
  {
   "cell_type": "code",
   "execution_count": 12,
   "id": "7dc908f2",
   "metadata": {
    "execution": {
     "iopub.execute_input": "2022-04-21T00:36:23.272987Z",
     "iopub.status.busy": "2022-04-21T00:36:23.269212Z",
     "iopub.status.idle": "2022-04-21T00:36:23.284701Z",
     "shell.execute_reply": "2022-04-21T00:36:23.284055Z"
    },
    "papermill": {
     "duration": 0.0525,
     "end_time": "2022-04-21T00:36:23.284865",
     "exception": false,
     "start_time": "2022-04-21T00:36:23.232365",
     "status": "completed"
    },
    "tags": []
   },
   "outputs": [],
   "source": [
    "y_train = 1*(y_train==3)\n",
    "y_test = 1*(y_test==3)"
   ]
  },
  {
   "cell_type": "code",
   "execution_count": 13,
   "id": "01e4e969",
   "metadata": {
    "execution": {
     "iopub.execute_input": "2022-04-21T00:36:23.354375Z",
     "iopub.status.busy": "2022-04-21T00:36:23.353741Z",
     "iopub.status.idle": "2022-04-21T00:36:23.369641Z",
     "shell.execute_reply": "2022-04-21T00:36:23.369012Z"
    },
    "papermill": {
     "duration": 0.053593,
     "end_time": "2022-04-21T00:36:23.369795",
     "exception": false,
     "start_time": "2022-04-21T00:36:23.316202",
     "status": "completed"
    },
    "tags": []
   },
   "outputs": [
    {
     "data": {
      "text/plain": [
       "((11982, 28, 28), (1984, 28, 28))"
      ]
     },
     "execution_count": 13,
     "metadata": {},
     "output_type": "execute_result"
    }
   ],
   "source": [
    "X_train.shape, X_test.shape"
   ]
  },
  {
   "cell_type": "markdown",
   "id": "5ccf3f85",
   "metadata": {
    "papermill": {
     "duration": 0.030979,
     "end_time": "2022-04-21T00:36:23.433499",
     "exception": false,
     "start_time": "2022-04-21T00:36:23.402520",
     "status": "completed"
    },
    "tags": []
   },
   "source": [
    "We reshape the data to flatten the image pixels into a set of features or co-variates:"
   ]
  },
  {
   "cell_type": "code",
   "execution_count": 14,
   "id": "5286a4a3",
   "metadata": {
    "execution": {
     "iopub.execute_input": "2022-04-21T00:36:23.507446Z",
     "iopub.status.busy": "2022-04-21T00:36:23.506788Z",
     "iopub.status.idle": "2022-04-21T00:36:23.519584Z",
     "shell.execute_reply": "2022-04-21T00:36:23.519079Z"
    },
    "papermill": {
     "duration": 0.054091,
     "end_time": "2022-04-21T00:36:23.519723",
     "exception": false,
     "start_time": "2022-04-21T00:36:23.465632",
     "status": "completed"
    },
    "tags": []
   },
   "outputs": [
    {
     "data": {
      "text/plain": [
       "((11982, 784), (1984, 784))"
      ]
     },
     "execution_count": 14,
     "metadata": {},
     "output_type": "execute_result"
    }
   ],
   "source": [
    "X_train = X_train.reshape(X_train.shape[0], -1)\n",
    "X_test = X_test.reshape(X_test.shape[0], -1)\n",
    "X_train.shape, X_test.shape"
   ]
  },
  {
   "cell_type": "code",
   "execution_count": 15,
   "id": "73c5f88a",
   "metadata": {
    "execution": {
     "iopub.execute_input": "2022-04-21T00:36:23.590734Z",
     "iopub.status.busy": "2022-04-21T00:36:23.590090Z",
     "iopub.status.idle": "2022-04-21T00:36:23.612546Z",
     "shell.execute_reply": "2022-04-21T00:36:23.611992Z"
    },
    "papermill": {
     "duration": 0.06158,
     "end_time": "2022-04-21T00:36:23.612688",
     "exception": false,
     "start_time": "2022-04-21T00:36:23.551108",
     "status": "completed"
    },
    "tags": []
   },
   "outputs": [],
   "source": [
    "#Impoting functions from 'Kudzu'\n",
    "from kudzu.model import Model\n",
    "from kudzu.train import Learner\n",
    "from kudzu.optim import GD\n",
    "from kudzu.data import Data, Sampler,Dataloader\n",
    "\n",
    "from kudzu.callbacks import AccCallback\n",
    "from kudzu.callbacks import ClfCallback\n",
    "\n",
    "from kudzu.loss import MSE\n",
    "\n",
    "from kudzu.layer import Sigmoid,Relu\n",
    "from kudzu.layer import Affine"
   ]
  },
  {
   "cell_type": "markdown",
   "id": "bc01172a",
   "metadata": {
    "papermill": {
     "duration": 0.032336,
     "end_time": "2022-04-21T00:36:23.676750",
     "exception": false,
     "start_time": "2022-04-21T00:36:23.644414",
     "status": "completed"
    },
    "tags": []
   },
   "source": [
    "### Let us create a `Config` class, to store important parameters. \n",
    "This class essentially plays the role of a dictionary."
   ]
  },
  {
   "cell_type": "code",
   "execution_count": 16,
   "id": "978281aa",
   "metadata": {
    "execution": {
     "iopub.execute_input": "2022-04-21T00:36:23.747941Z",
     "iopub.status.busy": "2022-04-21T00:36:23.747238Z",
     "iopub.status.idle": "2022-04-21T00:36:23.763852Z",
     "shell.execute_reply": "2022-04-21T00:36:23.763163Z"
    },
    "papermill": {
     "duration": 0.054553,
     "end_time": "2022-04-21T00:36:23.764003",
     "exception": false,
     "start_time": "2022-04-21T00:36:23.709450",
     "status": "completed"
    },
    "tags": []
   },
   "outputs": [],
   "source": [
    "class Config:\n",
    "    pass\n",
    "config = Config()\n",
    "config.lr = 0.001\n",
    "config.num_epochs = 250\n",
    "config.bs = 50"
   ]
  },
  {
   "cell_type": "markdown",
   "id": "1385fa59",
   "metadata": {
    "papermill": {
     "duration": 0.031821,
     "end_time": "2022-04-21T00:36:23.829157",
     "exception": false,
     "start_time": "2022-04-21T00:36:23.797336",
     "status": "completed"
    },
    "tags": []
   },
   "source": [
    "### Running Models with the Training data\n",
    "Details about the network layers:\n",
    "- A first affine layer has 784 inputs and does 100 affine transforms. These are followed by a Relu\n",
    "- A second affine layer has 100 inputs from the 100 activations of the past layer, and does 100 affine transforms. These are followed by a Relu\n",
    "- A third affine layer has 100 activations and does 2 affine transformations to create an embedding for visualization. There is no non-linearity here.\n",
    "- A final \"logistic regression\" which has an affine transform from 2 inputs to 1 output, which is squeezed through a sigmoid.\n"
   ]
  },
  {
   "cell_type": "code",
   "execution_count": 17,
   "id": "2b9c66db",
   "metadata": {
    "execution": {
     "iopub.execute_input": "2022-04-21T00:36:23.901213Z",
     "iopub.status.busy": "2022-04-21T00:36:23.900524Z",
     "iopub.status.idle": "2022-04-21T00:36:23.916088Z",
     "shell.execute_reply": "2022-04-21T00:36:23.915493Z"
    },
    "papermill": {
     "duration": 0.053053,
     "end_time": "2022-04-21T00:36:23.916237",
     "exception": false,
     "start_time": "2022-04-21T00:36:23.863184",
     "status": "completed"
    },
    "tags": []
   },
   "outputs": [],
   "source": [
    "data = Data(X_train, y_train.reshape(-1,1))\n",
    "sampler = Sampler(data, config.bs, shuffle=True)\n",
    "\n",
    "dl = Dataloader(data, sampler)\n",
    "\n",
    "opt = GD(config.lr)\n",
    "loss = MSE()"
   ]
  },
  {
   "cell_type": "code",
   "execution_count": 18,
   "id": "b275e4c2",
   "metadata": {
    "execution": {
     "iopub.execute_input": "2022-04-21T00:36:23.985682Z",
     "iopub.status.busy": "2022-04-21T00:36:23.985043Z",
     "iopub.status.idle": "2022-04-21T00:36:23.999934Z",
     "shell.execute_reply": "2022-04-21T00:36:23.999339Z"
    },
    "papermill": {
     "duration": 0.05137,
     "end_time": "2022-04-21T00:36:24.000088",
     "exception": false,
     "start_time": "2022-04-21T00:36:23.948718",
     "status": "completed"
    },
    "tags": []
   },
   "outputs": [],
   "source": [
    "training_data_x = X_train\n",
    "testing_data_x = X_test\n",
    "training_data_y = y_train.reshape(-1,1)\n",
    "testing_data_y = y_test.reshape(-1,1)"
   ]
  },
  {
   "cell_type": "code",
   "execution_count": 19,
   "id": "76951160",
   "metadata": {
    "execution": {
     "iopub.execute_input": "2022-04-21T00:36:24.071465Z",
     "iopub.status.busy": "2022-04-21T00:36:24.070798Z",
     "iopub.status.idle": "2022-04-21T00:36:24.089497Z",
     "shell.execute_reply": "2022-04-21T00:36:24.090018Z"
    },
    "papermill": {
     "duration": 0.058821,
     "end_time": "2022-04-21T00:36:24.090194",
     "exception": false,
     "start_time": "2022-04-21T00:36:24.031373",
     "status": "completed"
    },
    "tags": []
   },
   "outputs": [
    {
     "name": "stdout",
     "output_type": "stream",
     "text": [
      "xavier\n",
      "xavier\n",
      "xavier\n",
      "xavier\n",
      "xavier\n"
     ]
    }
   ],
   "source": [
    "layers = [Affine(\"first\", 784, 100), Relu(\"first\"), Affine(\"second\", 100, 100), Relu(\"second\"), Affine(\"third\", 100, 2), Affine(\"last\", 2, 1), Sigmoid(\"last\")]\n",
    "model_nn = Model(layers)\n",
    "model_lr = Model([Affine(\"logits\", 784, 1), Sigmoid(\"sigmoid\")])"
   ]
  },
  {
   "cell_type": "code",
   "execution_count": 20,
   "id": "6eede77a",
   "metadata": {
    "execution": {
     "iopub.execute_input": "2022-04-21T00:36:24.158917Z",
     "iopub.status.busy": "2022-04-21T00:36:24.157887Z",
     "iopub.status.idle": "2022-04-21T00:36:24.173402Z",
     "shell.execute_reply": "2022-04-21T00:36:24.173889Z"
    },
    "papermill": {
     "duration": 0.05214,
     "end_time": "2022-04-21T00:36:24.174057",
     "exception": false,
     "start_time": "2022-04-21T00:36:24.121917",
     "status": "completed"
    },
    "tags": []
   },
   "outputs": [],
   "source": [
    "nn_learner = Learner(loss, model_nn, opt, config.num_epochs)\n",
    "acc_nn = ClfCallback(nn_learner, config.bs, training_data_x , testing_data_x, training_data_y, testing_data_y)\n",
    "nn_learner.set_callbacks([acc_nn])"
   ]
  },
  {
   "cell_type": "code",
   "execution_count": 21,
   "id": "877b6cc7",
   "metadata": {
    "execution": {
     "iopub.execute_input": "2022-04-21T00:36:24.244678Z",
     "iopub.status.busy": "2022-04-21T00:36:24.244041Z",
     "iopub.status.idle": "2022-04-21T00:36:24.258522Z",
     "shell.execute_reply": "2022-04-21T00:36:24.257987Z"
    },
    "papermill": {
     "duration": 0.050299,
     "end_time": "2022-04-21T00:36:24.258662",
     "exception": false,
     "start_time": "2022-04-21T00:36:24.208363",
     "status": "completed"
    },
    "tags": []
   },
   "outputs": [],
   "source": [
    "lr_learner = Learner(loss, model_lr, opt, config.num_epochs)\n",
    "acc_lr = ClfCallback(lr_learner, config.bs, training_data_x , testing_data_x, training_data_y, testing_data_y)\n",
    "lr_learner.set_callbacks([acc_lr])"
   ]
  },
  {
   "cell_type": "code",
   "execution_count": 22,
   "id": "d9b133c3",
   "metadata": {
    "execution": {
     "iopub.execute_input": "2022-04-21T00:36:24.332270Z",
     "iopub.status.busy": "2022-04-21T00:36:24.331448Z",
     "iopub.status.idle": "2022-04-21T00:37:56.262441Z",
     "shell.execute_reply": "2022-04-21T00:37:56.263305Z"
    },
    "papermill": {
     "duration": 91.972769,
     "end_time": "2022-04-21T00:37:56.263472",
     "exception": false,
     "start_time": "2022-04-21T00:36:24.290703",
     "status": "completed"
    },
    "tags": []
   },
   "outputs": [
    {
     "name": "stdout",
     "output_type": "stream",
     "text": [
      "Epoch 0, Loss 0.2416\n",
      "Training Accuracy: 0.6847, Testing Accuracy: 0.6956\n",
      "\n"
     ]
    },
    {
     "name": "stdout",
     "output_type": "stream",
     "text": [
      "Epoch 10, Loss 0.0817\n",
      "Training Accuracy: 0.9264, Testing Accuracy: 0.9395\n",
      "\n"
     ]
    },
    {
     "name": "stdout",
     "output_type": "stream",
     "text": [
      "Epoch 20, Loss 0.0514\n",
      "Training Accuracy: 0.9469, Testing Accuracy: 0.9587\n",
      "\n"
     ]
    },
    {
     "name": "stdout",
     "output_type": "stream",
     "text": [
      "Epoch 30, Loss 0.041\n",
      "Training Accuracy: 0.9538, Testing Accuracy: 0.9647\n",
      "\n"
     ]
    },
    {
     "name": "stdout",
     "output_type": "stream",
     "text": [
      "Epoch 40, Loss 0.0359\n",
      "Training Accuracy: 0.9595, Testing Accuracy: 0.9672\n",
      "\n"
     ]
    },
    {
     "name": "stdout",
     "output_type": "stream",
     "text": [
      "Epoch 50, Loss 0.0327\n",
      "Training Accuracy: 0.9631, Testing Accuracy: 0.9723\n",
      "\n"
     ]
    },
    {
     "name": "stdout",
     "output_type": "stream",
     "text": [
      "Epoch 60, Loss 0.0305\n",
      "Training Accuracy: 0.9652, Testing Accuracy: 0.9728\n",
      "\n"
     ]
    },
    {
     "name": "stdout",
     "output_type": "stream",
     "text": [
      "Epoch 70, Loss 0.0288\n",
      "Training Accuracy: 0.9670, Testing Accuracy: 0.9733\n",
      "\n"
     ]
    },
    {
     "name": "stdout",
     "output_type": "stream",
     "text": [
      "Epoch 80, Loss 0.0274\n",
      "Training Accuracy: 0.9690, Testing Accuracy: 0.9738\n",
      "\n"
     ]
    },
    {
     "name": "stdout",
     "output_type": "stream",
     "text": [
      "Epoch 90, Loss 0.0263\n",
      "Training Accuracy: 0.9704, Testing Accuracy: 0.9738\n",
      "\n"
     ]
    },
    {
     "name": "stdout",
     "output_type": "stream",
     "text": [
      "Epoch 100, Loss 0.0253\n",
      "Training Accuracy: 0.9716, Testing Accuracy: 0.9738\n",
      "\n"
     ]
    },
    {
     "name": "stdout",
     "output_type": "stream",
     "text": [
      "Epoch 110, Loss 0.0244\n",
      "Training Accuracy: 0.9730, Testing Accuracy: 0.9743\n",
      "\n"
     ]
    },
    {
     "name": "stdout",
     "output_type": "stream",
     "text": [
      "Epoch 120, Loss 0.0236\n",
      "Training Accuracy: 0.9738, Testing Accuracy: 0.9748\n",
      "\n"
     ]
    },
    {
     "name": "stdout",
     "output_type": "stream",
     "text": [
      "Epoch 130, Loss 0.0229\n",
      "Training Accuracy: 0.9746, Testing Accuracy: 0.9753\n",
      "\n"
     ]
    },
    {
     "name": "stdout",
     "output_type": "stream",
     "text": [
      "Epoch 140, Loss 0.0223\n",
      "Training Accuracy: 0.9755, Testing Accuracy: 0.9748\n",
      "\n"
     ]
    },
    {
     "name": "stdout",
     "output_type": "stream",
     "text": [
      "Epoch 150, Loss 0.0217\n",
      "Training Accuracy: 0.9763, Testing Accuracy: 0.9748\n",
      "\n"
     ]
    },
    {
     "name": "stdout",
     "output_type": "stream",
     "text": [
      "Epoch 160, Loss 0.0212\n",
      "Training Accuracy: 0.9770, Testing Accuracy: 0.9738\n",
      "\n"
     ]
    },
    {
     "name": "stdout",
     "output_type": "stream",
     "text": [
      "Epoch 170, Loss 0.0207\n",
      "Training Accuracy: 0.9773, Testing Accuracy: 0.9738\n",
      "\n"
     ]
    },
    {
     "name": "stdout",
     "output_type": "stream",
     "text": [
      "Epoch 180, Loss 0.0202\n",
      "Training Accuracy: 0.9781, Testing Accuracy: 0.9738\n",
      "\n"
     ]
    },
    {
     "name": "stdout",
     "output_type": "stream",
     "text": [
      "Epoch 190, Loss 0.0198\n",
      "Training Accuracy: 0.9788, Testing Accuracy: 0.9738\n",
      "\n"
     ]
    },
    {
     "name": "stdout",
     "output_type": "stream",
     "text": [
      "Epoch 200, Loss 0.0193\n",
      "Training Accuracy: 0.9794, Testing Accuracy: 0.9738\n",
      "\n"
     ]
    },
    {
     "name": "stdout",
     "output_type": "stream",
     "text": [
      "Epoch 210, Loss 0.019\n",
      "Training Accuracy: 0.9803, Testing Accuracy: 0.9728\n",
      "\n"
     ]
    },
    {
     "name": "stdout",
     "output_type": "stream",
     "text": [
      "Epoch 220, Loss 0.0186\n",
      "Training Accuracy: 0.9806, Testing Accuracy: 0.9733\n",
      "\n"
     ]
    },
    {
     "name": "stdout",
     "output_type": "stream",
     "text": [
      "Epoch 230, Loss 0.0182\n",
      "Training Accuracy: 0.9811, Testing Accuracy: 0.9733\n",
      "\n"
     ]
    },
    {
     "name": "stdout",
     "output_type": "stream",
     "text": [
      "Epoch 240, Loss 0.0179\n",
      "Training Accuracy: 0.9811, Testing Accuracy: 0.9738\n",
      "\n"
     ]
    },
    {
     "data": {
      "text/plain": [
       "0.025604616685410638"
      ]
     },
     "execution_count": 22,
     "metadata": {},
     "output_type": "execute_result"
    }
   ],
   "source": [
    "nn_learner.train_loop(dl)"
   ]
  },
  {
   "cell_type": "code",
   "execution_count": 23,
   "id": "e0163366",
   "metadata": {
    "execution": {
     "iopub.execute_input": "2022-04-21T00:37:56.349970Z",
     "iopub.status.busy": "2022-04-21T00:37:56.349345Z",
     "iopub.status.idle": "2022-04-21T00:38:11.407239Z",
     "shell.execute_reply": "2022-04-21T00:38:11.408072Z"
    },
    "papermill": {
     "duration": 15.105708,
     "end_time": "2022-04-21T00:38:11.408228",
     "exception": false,
     "start_time": "2022-04-21T00:37:56.302520",
     "status": "completed"
    },
    "tags": []
   },
   "outputs": [
    {
     "name": "stdout",
     "output_type": "stream",
     "text": [
      "Epoch 0, Loss 0.2287\n",
      "Training Accuracy: 0.7466, Testing Accuracy: 0.7515\n",
      "\n"
     ]
    },
    {
     "name": "stdout",
     "output_type": "stream",
     "text": [
      "Epoch 10, Loss 0.1019\n",
      "Training Accuracy: 0.9104, Testing Accuracy: 0.9183\n",
      "\n"
     ]
    },
    {
     "name": "stdout",
     "output_type": "stream",
     "text": [
      "Epoch 20, Loss 0.0784\n",
      "Training Accuracy: 0.9301, Testing Accuracy: 0.9400\n",
      "\n"
     ]
    },
    {
     "name": "stdout",
     "output_type": "stream",
     "text": [
      "Epoch 30, Loss 0.0675\n",
      "Training Accuracy: 0.9372, Testing Accuracy: 0.9496\n",
      "\n"
     ]
    },
    {
     "name": "stdout",
     "output_type": "stream",
     "text": [
      "Epoch 40, Loss 0.0609\n",
      "Training Accuracy: 0.9434, Testing Accuracy: 0.9541\n",
      "\n"
     ]
    },
    {
     "name": "stdout",
     "output_type": "stream",
     "text": [
      "Epoch 50, Loss 0.0565\n",
      "Training Accuracy: 0.9460, Testing Accuracy: 0.9577\n",
      "\n"
     ]
    },
    {
     "name": "stdout",
     "output_type": "stream",
     "text": [
      "Epoch 60, Loss 0.0532\n",
      "Training Accuracy: 0.9480, Testing Accuracy: 0.9597\n",
      "\n"
     ]
    },
    {
     "name": "stdout",
     "output_type": "stream",
     "text": [
      "Epoch 70, Loss 0.0507\n",
      "Training Accuracy: 0.9501, Testing Accuracy: 0.9607\n",
      "\n"
     ]
    },
    {
     "name": "stdout",
     "output_type": "stream",
     "text": [
      "Epoch 80, Loss 0.0487\n",
      "Training Accuracy: 0.9513, Testing Accuracy: 0.9627\n",
      "\n"
     ]
    },
    {
     "name": "stdout",
     "output_type": "stream",
     "text": [
      "Epoch 90, Loss 0.0471\n",
      "Training Accuracy: 0.9524, Testing Accuracy: 0.9637\n",
      "\n"
     ]
    },
    {
     "name": "stdout",
     "output_type": "stream",
     "text": [
      "Epoch 100, Loss 0.0457\n",
      "Training Accuracy: 0.9536, Testing Accuracy: 0.9637\n",
      "\n"
     ]
    },
    {
     "name": "stdout",
     "output_type": "stream",
     "text": [
      "Epoch 110, Loss 0.0445\n",
      "Training Accuracy: 0.9547, Testing Accuracy: 0.9647\n",
      "\n"
     ]
    },
    {
     "name": "stdout",
     "output_type": "stream",
     "text": [
      "Epoch 120, Loss 0.0434\n",
      "Training Accuracy: 0.9555, Testing Accuracy: 0.9652\n",
      "\n"
     ]
    },
    {
     "name": "stdout",
     "output_type": "stream",
     "text": [
      "Epoch 130, Loss 0.0425\n",
      "Training Accuracy: 0.9564, Testing Accuracy: 0.9657\n",
      "\n"
     ]
    },
    {
     "name": "stdout",
     "output_type": "stream",
     "text": [
      "Epoch 140, Loss 0.0417\n",
      "Training Accuracy: 0.9572, Testing Accuracy: 0.9657\n",
      "\n"
     ]
    },
    {
     "name": "stdout",
     "output_type": "stream",
     "text": [
      "Epoch 150, Loss 0.041\n",
      "Training Accuracy: 0.9580, Testing Accuracy: 0.9652\n",
      "\n"
     ]
    },
    {
     "name": "stdout",
     "output_type": "stream",
     "text": [
      "Epoch 160, Loss 0.0403\n",
      "Training Accuracy: 0.9585, Testing Accuracy: 0.9657\n",
      "\n"
     ]
    },
    {
     "name": "stdout",
     "output_type": "stream",
     "text": [
      "Epoch 170, Loss 0.0397\n",
      "Training Accuracy: 0.9588, Testing Accuracy: 0.9652\n",
      "\n"
     ]
    },
    {
     "name": "stdout",
     "output_type": "stream",
     "text": [
      "Epoch 180, Loss 0.0392\n",
      "Training Accuracy: 0.9591, Testing Accuracy: 0.9662\n",
      "\n"
     ]
    },
    {
     "name": "stdout",
     "output_type": "stream",
     "text": [
      "Epoch 190, Loss 0.0387\n",
      "Training Accuracy: 0.9593, Testing Accuracy: 0.9662\n",
      "\n"
     ]
    },
    {
     "name": "stdout",
     "output_type": "stream",
     "text": [
      "Epoch 200, Loss 0.0382\n",
      "Training Accuracy: 0.9595, Testing Accuracy: 0.9662\n",
      "\n"
     ]
    },
    {
     "name": "stdout",
     "output_type": "stream",
     "text": [
      "Epoch 210, Loss 0.0378\n",
      "Training Accuracy: 0.9600, Testing Accuracy: 0.9662\n",
      "\n"
     ]
    },
    {
     "name": "stdout",
     "output_type": "stream",
     "text": [
      "Epoch 220, Loss 0.0374\n",
      "Training Accuracy: 0.9604, Testing Accuracy: 0.9662\n",
      "\n"
     ]
    },
    {
     "name": "stdout",
     "output_type": "stream",
     "text": [
      "Epoch 230, Loss 0.037\n",
      "Training Accuracy: 0.9608, Testing Accuracy: 0.9667\n",
      "\n"
     ]
    },
    {
     "name": "stdout",
     "output_type": "stream",
     "text": [
      "Epoch 240, Loss 0.0367\n",
      "Training Accuracy: 0.9614, Testing Accuracy: 0.9672\n",
      "\n"
     ]
    },
    {
     "data": {
      "text/plain": [
       "0.045974492591327826"
      ]
     },
     "execution_count": 23,
     "metadata": {},
     "output_type": "execute_result"
    }
   ],
   "source": [
    "lr_learner.train_loop(dl)"
   ]
  },
  {
   "cell_type": "code",
   "execution_count": 24,
   "id": "ca410940",
   "metadata": {
    "execution": {
     "iopub.execute_input": "2022-04-21T00:38:11.505756Z",
     "iopub.status.busy": "2022-04-21T00:38:11.505146Z",
     "iopub.status.idle": "2022-04-21T00:38:11.746154Z",
     "shell.execute_reply": "2022-04-21T00:38:11.746833Z"
    },
    "papermill": {
     "duration": 0.295885,
     "end_time": "2022-04-21T00:38:11.747011",
     "exception": false,
     "start_time": "2022-04-21T00:38:11.451126",
     "status": "completed"
    },
    "tags": []
   },
   "outputs": [
    {
     "data": {
      "text/plain": [
       "<matplotlib.legend.Legend at 0x7fd4ef0ddb00>"
      ]
     },
     "execution_count": 24,
     "metadata": {},
     "output_type": "execute_result"
    },
    {
     "data": {
      "image/png": "[encoded data removed]",
      "text/plain": [
       "<Figure size 1080x720 with 1 Axes>"
      ]
     },
     "metadata": {
      "needs_background": "light"
     },
     "output_type": "display_data"
    }
   ],
   "source": [
    "#comparing the results of NN and LR\n",
    "plt.figure(figsize=(15,10))\n",
    "\n",
    "# Neural Network plots\n",
    "plt.plot(acc_nn.accuracies, 'r-', label = \"Training Accuracies - NN\")\n",
    "plt.plot(acc_nn.test_accuracies, 'g-', label = \"Testing Accuracies - NN\")\n",
    "\n",
    "# Logistic Regression plots\n",
    "plt.plot(acc_lr.accuracies, 'k-', label = \"Training Accuracies - LR\")\n",
    "plt.plot(acc_lr.test_accuracies, 'b-', label = \"Testing Accuracies - LR\")\n",
    "plt.legend()"
   ]
  },
  {
   "cell_type": "markdown",
   "id": "80dfb35c",
   "metadata": {
    "papermill": {
     "duration": 0.046703,
     "end_time": "2022-04-21T00:38:11.841797",
     "exception": false,
     "start_time": "2022-04-21T00:38:11.795094",
     "status": "completed"
    },
    "tags": []
   },
   "source": [
    "#### Plotting the outputs of this layer of the NN.\n"
   ]
  },
  {
   "cell_type": "code",
   "execution_count": 25,
   "id": "45eb2ff5",
   "metadata": {
    "execution": {
     "iopub.execute_input": "2022-04-21T00:38:11.938298Z",
     "iopub.status.busy": "2022-04-21T00:38:11.937646Z",
     "iopub.status.idle": "2022-04-21T00:38:11.960468Z",
     "shell.execute_reply": "2022-04-21T00:38:11.959968Z"
    },
    "papermill": {
     "duration": 0.073557,
     "end_time": "2022-04-21T00:38:11.960590",
     "exception": false,
     "start_time": "2022-04-21T00:38:11.887033",
     "status": "completed"
    },
    "tags": []
   },
   "outputs": [],
   "source": [
    "new_model = Model(layers[:-2])\n",
    "testing_plot = new_model(testing_data_x)"
   ]
  },
  {
   "cell_type": "code",
   "execution_count": 26,
   "id": "4c0a5485",
   "metadata": {
    "execution": {
     "iopub.execute_input": "2022-04-21T00:38:12.056479Z",
     "iopub.status.busy": "2022-04-21T00:38:12.055898Z",
     "iopub.status.idle": "2022-04-21T00:38:12.278488Z",
     "shell.execute_reply": "2022-04-21T00:38:12.278945Z"
    },
    "papermill": {
     "duration": 0.27216,
     "end_time": "2022-04-21T00:38:12.279113",
     "exception": false,
     "start_time": "2022-04-21T00:38:12.006953",
     "status": "completed"
    },
    "tags": []
   },
   "outputs": [
    {
     "data": {
      "text/plain": [
       "Text(0.5, 1.0, 'Outputs')"
      ]
     },
     "execution_count": 26,
     "metadata": {},
     "output_type": "execute_result"
    },
    {
     "data": {
      "image/png": "[encoded data removed]",
      "text/plain": [
       "<Figure size 576x504 with 1 Axes>"
      ]
     },
     "metadata": {
      "needs_background": "light"
     },
     "output_type": "display_data"
    }
   ],
   "source": [
    "# Plotting the scatter plot of points and color coding by class\n",
    "plt.figure(figsize=(8,7))\n",
    "plt.scatter(testing_plot[:,0], testing_plot[:,1], alpha = 0.1, c = y_test.ravel());\n",
    "plt.title('Outputs')"
   ]
  },
  {
   "cell_type": "markdown",
   "id": "a74fcf8f",
   "metadata": {
    "papermill": {
     "duration": 0.046928,
     "end_time": "2022-04-21T00:38:12.373124",
     "exception": false,
     "start_time": "2022-04-21T00:38:12.326196",
     "status": "completed"
    },
    "tags": []
   },
   "source": [
    "Probability contours"
   ]
  },
  {
   "cell_type": "code",
   "execution_count": 27,
   "id": "d0afc8e3",
   "metadata": {
    "execution": {
     "iopub.execute_input": "2022-04-21T00:38:12.473505Z",
     "iopub.status.busy": "2022-04-21T00:38:12.472929Z",
     "iopub.status.idle": "2022-04-21T00:38:12.486433Z",
     "shell.execute_reply": "2022-04-21T00:38:12.485946Z"
    },
    "papermill": {
     "duration": 0.066129,
     "end_time": "2022-04-21T00:38:12.486551",
     "exception": false,
     "start_time": "2022-04-21T00:38:12.420422",
     "status": "completed"
    },
    "tags": []
   },
   "outputs": [],
   "source": [
    "model_prob = Model(layers[-2:]) "
   ]
  },
  {
   "cell_type": "code",
   "execution_count": 28,
   "id": "9b96e238",
   "metadata": {
    "execution": {
     "iopub.execute_input": "2022-04-21T00:38:12.590810Z",
     "iopub.status.busy": "2022-04-21T00:38:12.589117Z",
     "iopub.status.idle": "2022-04-21T00:38:12.604520Z",
     "shell.execute_reply": "2022-04-21T00:38:12.604975Z"
    },
    "papermill": {
     "duration": 0.06863,
     "end_time": "2022-04-21T00:38:12.605127",
     "exception": false,
     "start_time": "2022-04-21T00:38:12.536497",
     "status": "completed"
    },
    "tags": []
   },
   "outputs": [],
   "source": [
    "#creating the x and y ranges according to the above generated plot.\n",
    "x_range = np.linspace(-4, 1, 100) \n",
    "y_range = np.linspace(-6, 6, 100) \n",
    "x_grid, y_grid = np.meshgrid(x_range, y_range) # x_grid and y_grig are of size 100 X 100\n",
    "\n",
    "# converting x_grid and y_grid to continuous arrays\n",
    "x_gridflat = np.ravel(x_grid)\n",
    "y_gridflat = np.ravel(y_grid)\n",
    "\n",
    "# The last layer of the current model takes two columns as input. Hence transpose of np.vstack() is required.\n",
    "X = np.vstack((x_gridflat, y_gridflat)).T\n",
    "\n",
    "prob_contour = model_prob(X).reshape(100,100) "
   ]
  },
  {
   "cell_type": "code",
   "execution_count": 29,
   "id": "da72499a",
   "metadata": {
    "execution": {
     "iopub.execute_input": "2022-04-21T00:38:12.735915Z",
     "iopub.status.busy": "2022-04-21T00:38:12.734595Z",
     "iopub.status.idle": "2022-04-21T00:38:13.006967Z",
     "shell.execute_reply": "2022-04-21T00:38:13.006139Z"
    },
    "papermill": {
     "duration": 0.324718,
     "end_time": "2022-04-21T00:38:13.007102",
     "exception": false,
     "start_time": "2022-04-21T00:38:12.682384",
     "status": "completed"
    },
    "tags": []
   },
   "outputs": [
    {
     "data": {
      "image/png": "[encoded data removed]",
      "text/plain": [
       "<Figure size 720x648 with 1 Axes>"
      ]
     },
     "metadata": {
      "needs_background": "light"
     },
     "output_type": "display_data"
    }
   ],
   "source": [
    "plt.figure(figsize=(10,9))\n",
    "plt.scatter(testing_plot[:,0], testing_plot[:,1], alpha = 0.1, c = y_test.ravel())\n",
    "contours = plt.contour(x_grid,y_grid,prob_contour)\n",
    "plt.title('Probability Contours')\n",
    "plt.clabel(contours, inline = True );"
   ]
  },
  {
   "cell_type": "code",
   "execution_count": null,
   "id": "e81b4ac7",
   "metadata": {
    "papermill": {
     "duration": 0.05183,
     "end_time": "2022-04-21T00:38:13.111382",
     "exception": false,
     "start_time": "2022-04-21T00:38:13.059552",
     "status": "completed"
    },
    "tags": []
   },
   "outputs": [],
   "source": []
  }
 ],
 "metadata": {
  "kernelspec": {
   "display_name": "Python 3",
   "language": "python",
   "name": "python3"
  },
  "language_info": {
   "codemirror_mode": {
    "name": "ipython",
    "version": 3
   },
   "file_extension": ".py",
   "mimetype": "text/x-python",
   "name": "python",
   "nbconvert_exporter": "python",
   "pygments_lexer": "ipython3",
   "version": "3.6.15"
  },
  "papermill": {
   "default_parameters": {},
   "duration": 116.56133,
   "end_time": "2022-04-21T00:38:13.583838",
   "environment_variables": {},
   "exception": null,
   "input_path": "2020-08-11-part2.ipynb",
   "output_path": "2020-08-11-part2.ipynb",
   "parameters": {},
   "start_time": "2022-04-21T00:36:17.022508",
   "version": "2.3.3"
  }
 },
 "nbformat": 4,
 "nbformat_minor": 5
}