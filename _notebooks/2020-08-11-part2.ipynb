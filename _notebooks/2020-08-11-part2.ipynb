{
 "cells": [
  {
   "cell_type": "markdown",
   "id": "98380cd3",
   "metadata": {
    "papermill": {
     "duration": 0.020834,
     "end_time": "2022-06-17T00:33:57.631140",
     "exception": false,
     "start_time": "2022-06-17T00:33:57.610306",
     "status": "completed"
    },
    "tags": []
   },
   "source": [
    "# Distinguish Your Own Digits (DYOD)"
   ]
  },
  {
   "cell_type": "markdown",
   "id": "ef31240d",
   "metadata": {
    "papermill": {
     "duration": 0.017363,
     "end_time": "2022-06-17T00:33:57.666584",
     "exception": false,
     "start_time": "2022-06-17T00:33:57.649221",
     "status": "completed"
    },
    "tags": []
   },
   "source": [
    "You are going to write a classifier that distinguishes between the number 3 and number 8."
   ]
  },
  {
   "cell_type": "code",
   "execution_count": 1,
   "id": "b15c8646",
   "metadata": {
    "execution": {
     "iopub.execute_input": "2022-06-17T00:33:57.713498Z",
     "iopub.status.busy": "2022-06-17T00:33:57.712740Z",
     "iopub.status.idle": "2022-06-17T00:33:57.716449Z",
     "shell.execute_reply": "2022-06-17T00:33:57.716781Z"
    },
    "papermill": {
     "duration": 0.033086,
     "end_time": "2022-06-17T00:33:57.716884",
     "exception": false,
     "start_time": "2022-06-17T00:33:57.683798",
     "status": "completed"
    },
    "tags": []
   },
   "outputs": [],
   "source": [
    "%load_ext autoreload\n",
    "%autoreload 2"
   ]
  },
  {
   "cell_type": "code",
   "execution_count": 2,
   "id": "22ef38dc",
   "metadata": {
    "execution": {
     "iopub.execute_input": "2022-06-17T00:33:57.757654Z",
     "iopub.status.busy": "2022-06-17T00:33:57.756985Z",
     "iopub.status.idle": "2022-06-17T00:33:58.160310Z",
     "shell.execute_reply": "2022-06-17T00:33:58.159434Z"
    },
    "papermill": {
     "duration": 0.42646,
     "end_time": "2022-06-17T00:33:58.160405",
     "exception": false,
     "start_time": "2022-06-17T00:33:57.733945",
     "status": "completed"
    },
    "tags": []
   },
   "outputs": [],
   "source": [
    "%matplotlib inline\n",
    "import numpy as np\n",
    "import matplotlib.pyplot as plt\n",
    "import pandas as pd"
   ]
  },
  {
   "cell_type": "markdown",
   "id": "ba036198",
   "metadata": {
    "papermill": {
     "duration": 0.017341,
     "end_time": "2022-06-17T00:33:58.195079",
     "exception": false,
     "start_time": "2022-06-17T00:33:58.177738",
     "status": "completed"
    },
    "tags": []
   },
   "source": [
    "From the command line run `pip install mnist`. This is a library that will help you bring down the mnist dataset. If you run this from a notebook, you need to put  `!pip install mnist` in a cell by itself."
   ]
  },
  {
   "cell_type": "code",
   "execution_count": 3,
   "id": "bb6ad8a1",
   "metadata": {
    "execution": {
     "iopub.execute_input": "2022-06-17T00:33:58.232897Z",
     "iopub.status.busy": "2022-06-17T00:33:58.232217Z",
     "iopub.status.idle": "2022-06-17T00:34:01.634758Z",
     "shell.execute_reply": "2022-06-17T00:34:01.634377Z"
    },
    "papermill": {
     "duration": 3.422882,
     "end_time": "2022-06-17T00:34:01.635047",
     "exception": false,
     "start_time": "2022-06-17T00:33:58.212165",
     "status": "completed"
    },
    "tags": []
   },
   "outputs": [
    {
     "name": "stdout",
     "output_type": "stream",
     "text": [
      "Collecting mnist\r\n"
     ]
    },
    {
     "name": "stdout",
     "output_type": "stream",
     "text": [
      "  Downloading mnist-0.2.2-py2.py3-none-any.whl (3.5 kB)\r\n",
      "Requirement already satisfied: numpy in /opt/hostedtoolcache/Python/3.6.15/x64/lib/python3.6/site-packages (from mnist) (1.19.5)\r\n"
     ]
    },
    {
     "name": "stdout",
     "output_type": "stream",
     "text": [
      "Installing collected packages: mnist\r\n"
     ]
    },
    {
     "name": "stdout",
     "output_type": "stream",
     "text": [
      "Successfully installed mnist-0.2.2\r\n"
     ]
    }
   ],
   "source": [
    "!pip install mnist"
   ]
  },
  {
   "cell_type": "markdown",
   "id": "69df9c9a",
   "metadata": {
    "papermill": {
     "duration": 0.020117,
     "end_time": "2022-06-17T00:34:01.676435",
     "exception": false,
     "start_time": "2022-06-17T00:34:01.656318",
     "status": "completed"
    },
    "tags": []
   },
   "source": [
    "## Preparing the Data"
   ]
  },
  {
   "cell_type": "code",
   "execution_count": 4,
   "id": "7f69d806",
   "metadata": {
    "execution": {
     "iopub.execute_input": "2022-06-17T00:34:01.741211Z",
     "iopub.status.busy": "2022-06-17T00:34:01.733830Z",
     "iopub.status.idle": "2022-06-17T00:34:01.744526Z",
     "shell.execute_reply": "2022-06-17T00:34:01.743921Z"
    },
    "papermill": {
     "duration": 0.046929,
     "end_time": "2022-06-17T00:34:01.744615",
     "exception": false,
     "start_time": "2022-06-17T00:34:01.697686",
     "status": "completed"
    },
    "tags": []
   },
   "outputs": [],
   "source": [
    "import mnist"
   ]
  },
  {
   "cell_type": "code",
   "execution_count": 5,
   "id": "a411e44f",
   "metadata": {
    "execution": {
     "iopub.execute_input": "2022-06-17T00:34:01.793488Z",
     "iopub.status.busy": "2022-06-17T00:34:01.792807Z",
     "iopub.status.idle": "2022-06-17T00:34:02.566917Z",
     "shell.execute_reply": "2022-06-17T00:34:02.566482Z"
    },
    "papermill": {
     "duration": 0.79843,
     "end_time": "2022-06-17T00:34:02.567023",
     "exception": false,
     "start_time": "2022-06-17T00:34:01.768593",
     "status": "completed"
    },
    "tags": []
   },
   "outputs": [],
   "source": [
    "train_images = mnist.train_images()\n",
    "train_labels = mnist.train_labels()"
   ]
  },
  {
   "cell_type": "code",
   "execution_count": 6,
   "id": "dceab3a5",
   "metadata": {
    "execution": {
     "iopub.execute_input": "2022-06-17T00:34:02.620745Z",
     "iopub.status.busy": "2022-06-17T00:34:02.618681Z",
     "iopub.status.idle": "2022-06-17T00:34:02.629140Z",
     "shell.execute_reply": "2022-06-17T00:34:02.628537Z"
    },
    "papermill": {
     "duration": 0.043379,
     "end_time": "2022-06-17T00:34:02.629225",
     "exception": false,
     "start_time": "2022-06-17T00:34:02.585846",
     "status": "completed"
    },
    "tags": []
   },
   "outputs": [
    {
     "data": {
      "text/plain": [
       "((60000, 28, 28), (60000,))"
      ]
     },
     "execution_count": 6,
     "metadata": {},
     "output_type": "execute_result"
    }
   ],
   "source": [
    "train_images.shape, train_labels.shape"
   ]
  },
  {
   "cell_type": "code",
   "execution_count": 7,
   "id": "f50dc2bb",
   "metadata": {
    "execution": {
     "iopub.execute_input": "2022-06-17T00:34:02.679961Z",
     "iopub.status.busy": "2022-06-17T00:34:02.676792Z",
     "iopub.status.idle": "2022-06-17T00:34:03.047122Z",
     "shell.execute_reply": "2022-06-17T00:34:03.047456Z"
    },
    "papermill": {
     "duration": 0.400055,
     "end_time": "2022-06-17T00:34:03.047565",
     "exception": false,
     "start_time": "2022-06-17T00:34:02.647510",
     "status": "completed"
    },
    "tags": []
   },
   "outputs": [],
   "source": [
    "test_images = mnist.test_images()\n",
    "test_labels = mnist.test_labels()"
   ]
  },
  {
   "cell_type": "code",
   "execution_count": 8,
   "id": "fc38cf1b",
   "metadata": {
    "execution": {
     "iopub.execute_input": "2022-06-17T00:34:03.089063Z",
     "iopub.status.busy": "2022-06-17T00:34:03.088378Z",
     "iopub.status.idle": "2022-06-17T00:34:03.098929Z",
     "shell.execute_reply": "2022-06-17T00:34:03.098576Z"
    },
    "papermill": {
     "duration": 0.032015,
     "end_time": "2022-06-17T00:34:03.099009",
     "exception": false,
     "start_time": "2022-06-17T00:34:03.066994",
     "status": "completed"
    },
    "tags": []
   },
   "outputs": [
    {
     "data": {
      "text/plain": [
       "((10000, 28, 28), (10000,))"
      ]
     },
     "execution_count": 8,
     "metadata": {},
     "output_type": "execute_result"
    }
   ],
   "source": [
    "test_images.shape, test_labels.shape"
   ]
  },
  {
   "cell_type": "code",
   "execution_count": 9,
   "id": "f9ed8fe0",
   "metadata": {
    "execution": {
     "iopub.execute_input": "2022-06-17T00:34:03.139612Z",
     "iopub.status.busy": "2022-06-17T00:34:03.138936Z",
     "iopub.status.idle": "2022-06-17T00:34:03.236982Z",
     "shell.execute_reply": "2022-06-17T00:34:03.237308Z"
    },
    "papermill": {
     "duration": 0.120065,
     "end_time": "2022-06-17T00:34:03.237406",
     "exception": false,
     "start_time": "2022-06-17T00:34:03.117341",
     "status": "completed"
    },
    "tags": []
   },
   "outputs": [
    {
     "name": "stdout",
     "output_type": "stream",
     "text": [
      "2\n"
     ]
    },
    {
     "data": {
      "text/plain": [
       "<matplotlib.image.AxesImage at 0x7fce582da3c8>"
      ]
     },
     "execution_count": 9,
     "metadata": {},
     "output_type": "execute_result"
    },
    {
     "data": {
      "image/png": "[encoded data removed]",
      "text/plain": [
       "<Figure size 432x288 with 1 Axes>"
      ]
     },
     "metadata": {
      "needs_background": "light"
     },
     "output_type": "display_data"
    }
   ],
   "source": [
    "image_index = 7776 # You may select anything up to 60,000\n",
    "print(train_labels[image_index]) \n",
    "plt.imshow(train_images[image_index], cmap='Greys')"
   ]
  },
  {
   "cell_type": "markdown",
   "id": "a8d2388d",
   "metadata": {
    "papermill": {
     "duration": 0.019225,
     "end_time": "2022-06-17T00:34:03.275830",
     "exception": false,
     "start_time": "2022-06-17T00:34:03.256605",
     "status": "completed"
    },
    "tags": []
   },
   "source": [
    "## Filter data to get 3 and 8 out"
   ]
  },
  {
   "cell_type": "code",
   "execution_count": 10,
   "id": "776f7fc7",
   "metadata": {
    "execution": {
     "iopub.execute_input": "2022-06-17T00:34:03.317699Z",
     "iopub.status.busy": "2022-06-17T00:34:03.316992Z",
     "iopub.status.idle": "2022-06-17T00:34:03.330814Z",
     "shell.execute_reply": "2022-06-17T00:34:03.330462Z"
    },
    "papermill": {
     "duration": 0.035999,
     "end_time": "2022-06-17T00:34:03.330894",
     "exception": false,
     "start_time": "2022-06-17T00:34:03.294895",
     "status": "completed"
    },
    "tags": []
   },
   "outputs": [],
   "source": [
    "train_filter = np.where((train_labels == 3 ) | (train_labels == 8))\n",
    "test_filter = np.where((test_labels == 3) | (test_labels == 8))\n",
    "X_train, y_train = train_images[train_filter], train_labels[train_filter]\n",
    "X_test, y_test = test_images[test_filter], test_labels[test_filter]"
   ]
  },
  {
   "cell_type": "markdown",
   "id": "948f0b7e",
   "metadata": {
    "papermill": {
     "duration": 0.01913,
     "end_time": "2022-06-17T00:34:03.368970",
     "exception": false,
     "start_time": "2022-06-17T00:34:03.349840",
     "status": "completed"
    },
    "tags": []
   },
   "source": [
    "We normalize the pizel values in the 0 to 1 range"
   ]
  },
  {
   "cell_type": "code",
   "execution_count": 11,
   "id": "ee4c2166",
   "metadata": {
    "execution": {
     "iopub.execute_input": "2022-06-17T00:34:03.410756Z",
     "iopub.status.busy": "2022-06-17T00:34:03.410069Z",
     "iopub.status.idle": "2022-06-17T00:34:03.442727Z",
     "shell.execute_reply": "2022-06-17T00:34:03.443053Z"
    },
    "papermill": {
     "duration": 0.055053,
     "end_time": "2022-06-17T00:34:03.443161",
     "exception": false,
     "start_time": "2022-06-17T00:34:03.388108",
     "status": "completed"
    },
    "tags": []
   },
   "outputs": [],
   "source": [
    "X_train = X_train/255.\n",
    "X_test = X_test/255."
   ]
  },
  {
   "cell_type": "markdown",
   "id": "ddcf4fab",
   "metadata": {
    "papermill": {
     "duration": 0.01904,
     "end_time": "2022-06-17T00:34:03.481397",
     "exception": false,
     "start_time": "2022-06-17T00:34:03.462357",
     "status": "completed"
    },
    "tags": []
   },
   "source": [
    "And setup the labels as 1 (when the digit is 3) and 0 (when the digit is 8)"
   ]
  },
  {
   "cell_type": "code",
   "execution_count": 12,
   "id": "7dc908f2",
   "metadata": {
    "execution": {
     "iopub.execute_input": "2022-06-17T00:34:03.527039Z",
     "iopub.status.busy": "2022-06-17T00:34:03.526354Z",
     "iopub.status.idle": "2022-06-17T00:34:03.535105Z",
     "shell.execute_reply": "2022-06-17T00:34:03.534615Z"
    },
    "papermill": {
     "duration": 0.034522,
     "end_time": "2022-06-17T00:34:03.535190",
     "exception": false,
     "start_time": "2022-06-17T00:34:03.500668",
     "status": "completed"
    },
    "tags": []
   },
   "outputs": [],
   "source": [
    "y_train = 1*(y_train==3)\n",
    "y_test = 1*(y_test==3)"
   ]
  },
  {
   "cell_type": "code",
   "execution_count": 13,
   "id": "01e4e969",
   "metadata": {
    "execution": {
     "iopub.execute_input": "2022-06-17T00:34:03.579858Z",
     "iopub.status.busy": "2022-06-17T00:34:03.579180Z",
     "iopub.status.idle": "2022-06-17T00:34:03.588062Z",
     "shell.execute_reply": "2022-06-17T00:34:03.587636Z"
    },
    "papermill": {
     "duration": 0.033951,
     "end_time": "2022-06-17T00:34:03.588141",
     "exception": false,
     "start_time": "2022-06-17T00:34:03.554190",
     "status": "completed"
    },
    "tags": []
   },
   "outputs": [
    {
     "data": {
      "text/plain": [
       "((11982, 28, 28), (1984, 28, 28))"
      ]
     },
     "execution_count": 13,
     "metadata": {},
     "output_type": "execute_result"
    }
   ],
   "source": [
    "X_train.shape, X_test.shape"
   ]
  },
  {
   "cell_type": "markdown",
   "id": "5ccf3f85",
   "metadata": {
    "papermill": {
     "duration": 0.01929,
     "end_time": "2022-06-17T00:34:03.626773",
     "exception": false,
     "start_time": "2022-06-17T00:34:03.607483",
     "status": "completed"
    },
    "tags": []
   },
   "source": [
    "We reshape the data to flatten the image pixels into a set of features or co-variates:"
   ]
  },
  {
   "cell_type": "code",
   "execution_count": 14,
   "id": "5286a4a3",
   "metadata": {
    "execution": {
     "iopub.execute_input": "2022-06-17T00:34:03.669345Z",
     "iopub.status.busy": "2022-06-17T00:34:03.668658Z",
     "iopub.status.idle": "2022-06-17T00:34:03.678778Z",
     "shell.execute_reply": "2022-06-17T00:34:03.679104Z"
    },
    "papermill": {
     "duration": 0.033208,
     "end_time": "2022-06-17T00:34:03.679197",
     "exception": false,
     "start_time": "2022-06-17T00:34:03.645989",
     "status": "completed"
    },
    "tags": []
   },
   "outputs": [
    {
     "data": {
      "text/plain": [
       "((11982, 784), (1984, 784))"
      ]
     },
     "execution_count": 14,
     "metadata": {},
     "output_type": "execute_result"
    }
   ],
   "source": [
    "X_train = X_train.reshape(X_train.shape[0], -1)\n",
    "X_test = X_test.reshape(X_test.shape[0], -1)\n",
    "X_train.shape, X_test.shape"
   ]
  },
  {
   "cell_type": "code",
   "execution_count": 15,
   "id": "73c5f88a",
   "metadata": {
    "execution": {
     "iopub.execute_input": "2022-06-17T00:34:03.722030Z",
     "iopub.status.busy": "2022-06-17T00:34:03.721304Z",
     "iopub.status.idle": "2022-06-17T00:34:03.735479Z",
     "shell.execute_reply": "2022-06-17T00:34:03.735053Z"
    },
    "papermill": {
     "duration": 0.037008,
     "end_time": "2022-06-17T00:34:03.735559",
     "exception": false,
     "start_time": "2022-06-17T00:34:03.698551",
     "status": "completed"
    },
    "tags": []
   },
   "outputs": [],
   "source": [
    "#Impoting functions from 'Kudzu'\n",
    "from kudzu.model import Model\n",
    "from kudzu.train import Learner\n",
    "from kudzu.optim import GD\n",
    "from kudzu.data import Data, Sampler,Dataloader\n",
    "\n",
    "from kudzu.callbacks import AccCallback\n",
    "from kudzu.callbacks import ClfCallback\n",
    "\n",
    "from kudzu.loss import MSE\n",
    "\n",
    "from kudzu.layer import Sigmoid,Relu\n",
    "from kudzu.layer import Affine"
   ]
  },
  {
   "cell_type": "markdown",
   "id": "bc01172a",
   "metadata": {
    "papermill": {
     "duration": 0.019675,
     "end_time": "2022-06-17T00:34:03.774961",
     "exception": false,
     "start_time": "2022-06-17T00:34:03.755286",
     "status": "completed"
    },
    "tags": []
   },
   "source": [
    "### Let us create a `Config` class, to store important parameters. \n",
    "This class essentially plays the role of a dictionary."
   ]
  },
  {
   "cell_type": "code",
   "execution_count": 16,
   "id": "978281aa",
   "metadata": {
    "execution": {
     "iopub.execute_input": "2022-06-17T00:34:03.817754Z",
     "iopub.status.busy": "2022-06-17T00:34:03.817039Z",
     "iopub.status.idle": "2022-06-17T00:34:03.826399Z",
     "shell.execute_reply": "2022-06-17T00:34:03.826737Z"
    },
    "papermill": {
     "duration": 0.032336,
     "end_time": "2022-06-17T00:34:03.826837",
     "exception": false,
     "start_time": "2022-06-17T00:34:03.794501",
     "status": "completed"
    },
    "tags": []
   },
   "outputs": [],
   "source": [
    "class Config:\n",
    "    pass\n",
    "config = Config()\n",
    "config.lr = 0.001\n",
    "config.num_epochs = 250\n",
    "config.bs = 50"
   ]
  },
  {
   "cell_type": "markdown",
   "id": "1385fa59",
   "metadata": {
    "papermill": {
     "duration": 0.019525,
     "end_time": "2022-06-17T00:34:03.865807",
     "exception": false,
     "start_time": "2022-06-17T00:34:03.846282",
     "status": "completed"
    },
    "tags": []
   },
   "source": [
    "### Running Models with the Training data\n",
    "Details about the network layers:\n",
    "- A first affine layer has 784 inputs and does 100 affine transforms. These are followed by a Relu\n",
    "- A second affine layer has 100 inputs from the 100 activations of the past layer, and does 100 affine transforms. These are followed by a Relu\n",
    "- A third affine layer has 100 activations and does 2 affine transformations to create an embedding for visualization. There is no non-linearity here.\n",
    "- A final \"logistic regression\" which has an affine transform from 2 inputs to 1 output, which is squeezed through a sigmoid.\n"
   ]
  },
  {
   "cell_type": "code",
   "execution_count": 17,
   "id": "2b9c66db",
   "metadata": {
    "execution": {
     "iopub.execute_input": "2022-06-17T00:34:03.909122Z",
     "iopub.status.busy": "2022-06-17T00:34:03.908436Z",
     "iopub.status.idle": "2022-06-17T00:34:03.917922Z",
     "shell.execute_reply": "2022-06-17T00:34:03.917502Z"
    },
    "papermill": {
     "duration": 0.032474,
     "end_time": "2022-06-17T00:34:03.918002",
     "exception": false,
     "start_time": "2022-06-17T00:34:03.885528",
     "status": "completed"
    },
    "tags": []
   },
   "outputs": [],
   "source": [
    "data = Data(X_train, y_train.reshape(-1,1))\n",
    "sampler = Sampler(data, config.bs, shuffle=True)\n",
    "\n",
    "dl = Dataloader(data, sampler)\n",
    "\n",
    "opt = GD(config.lr)\n",
    "loss = MSE()"
   ]
  },
  {
   "cell_type": "code",
   "execution_count": 18,
   "id": "b275e4c2",
   "metadata": {
    "execution": {
     "iopub.execute_input": "2022-06-17T00:34:03.972939Z",
     "iopub.status.busy": "2022-06-17T00:34:03.971731Z",
     "iopub.status.idle": "2022-06-17T00:34:03.975741Z",
     "shell.execute_reply": "2022-06-17T00:34:03.975366Z"
    },
    "papermill": {
     "duration": 0.038458,
     "end_time": "2022-06-17T00:34:03.975825",
     "exception": false,
     "start_time": "2022-06-17T00:34:03.937367",
     "status": "completed"
    },
    "tags": []
   },
   "outputs": [],
   "source": [
    "training_data_x = X_train\n",
    "testing_data_x = X_test\n",
    "training_data_y = y_train.reshape(-1,1)\n",
    "testing_data_y = y_test.reshape(-1,1)"
   ]
  },
  {
   "cell_type": "code",
   "execution_count": 19,
   "id": "76951160",
   "metadata": {
    "execution": {
     "iopub.execute_input": "2022-06-17T00:34:04.024708Z",
     "iopub.status.busy": "2022-06-17T00:34:04.020750Z",
     "iopub.status.idle": "2022-06-17T00:34:04.034775Z",
     "shell.execute_reply": "2022-06-17T00:34:04.034136Z"
    },
    "papermill": {
     "duration": 0.039476,
     "end_time": "2022-06-17T00:34:04.034858",
     "exception": false,
     "start_time": "2022-06-17T00:34:03.995382",
     "status": "completed"
    },
    "tags": []
   },
   "outputs": [
    {
     "name": "stdout",
     "output_type": "stream",
     "text": [
      "xavier\n",
      "xavier\n",
      "xavier\n",
      "xavier\n",
      "xavier\n"
     ]
    }
   ],
   "source": [
    "layers = [Affine(\"first\", 784, 100), Relu(\"first\"), Affine(\"second\", 100, 100), Relu(\"second\"), Affine(\"third\", 100, 2), Affine(\"last\", 2, 1), Sigmoid(\"last\")]\n",
    "model_nn = Model(layers)\n",
    "model_lr = Model([Affine(\"logits\", 784, 1), Sigmoid(\"sigmoid\")])"
   ]
  },
  {
   "cell_type": "code",
   "execution_count": 20,
   "id": "6eede77a",
   "metadata": {
    "execution": {
     "iopub.execute_input": "2022-06-17T00:34:04.089471Z",
     "iopub.status.busy": "2022-06-17T00:34:04.087216Z",
     "iopub.status.idle": "2022-06-17T00:34:04.091841Z",
     "shell.execute_reply": "2022-06-17T00:34:04.091487Z"
    },
    "papermill": {
     "duration": 0.037472,
     "end_time": "2022-06-17T00:34:04.091954",
     "exception": false,
     "start_time": "2022-06-17T00:34:04.054482",
     "status": "completed"
    },
    "tags": []
   },
   "outputs": [],
   "source": [
    "nn_learner = Learner(loss, model_nn, opt, config.num_epochs)\n",
    "acc_nn = ClfCallback(nn_learner, config.bs, training_data_x , testing_data_x, training_data_y, testing_data_y)\n",
    "nn_learner.set_callbacks([acc_nn])"
   ]
  },
  {
   "cell_type": "code",
   "execution_count": 21,
   "id": "877b6cc7",
   "metadata": {
    "execution": {
     "iopub.execute_input": "2022-06-17T00:34:04.137366Z",
     "iopub.status.busy": "2022-06-17T00:34:04.134580Z",
     "iopub.status.idle": "2022-06-17T00:34:04.145812Z",
     "shell.execute_reply": "2022-06-17T00:34:04.145399Z"
    },
    "papermill": {
     "duration": 0.034087,
     "end_time": "2022-06-17T00:34:04.145890",
     "exception": false,
     "start_time": "2022-06-17T00:34:04.111803",
     "status": "completed"
    },
    "tags": []
   },
   "outputs": [],
   "source": [
    "lr_learner = Learner(loss, model_lr, opt, config.num_epochs)\n",
    "acc_lr = ClfCallback(lr_learner, config.bs, training_data_x , testing_data_x, training_data_y, testing_data_y)\n",
    "lr_learner.set_callbacks([acc_lr])"
   ]
  },
  {
   "cell_type": "code",
   "execution_count": 22,
   "id": "d9b133c3",
   "metadata": {
    "execution": {
     "iopub.execute_input": "2022-06-17T00:34:04.188673Z",
     "iopub.status.busy": "2022-06-17T00:34:04.187830Z",
     "iopub.status.idle": "2022-06-17T00:37:58.901125Z",
     "shell.execute_reply": "2022-06-17T00:37:58.901667Z"
    },
    "papermill": {
     "duration": 234.73607,
     "end_time": "2022-06-17T00:37:58.901800",
     "exception": false,
     "start_time": "2022-06-17T00:34:04.165730",
     "status": "completed"
    },
    "tags": []
   },
   "outputs": [
    {
     "name": "stdout",
     "output_type": "stream",
     "text": [
      "Epoch 0, Loss 0.2453\n",
      "Training Accuracy: 0.6454, Testing Accuracy: 0.6482\n",
      "\n"
     ]
    },
    {
     "name": "stdout",
     "output_type": "stream",
     "text": [
      "Epoch 10, Loss 0.0813\n",
      "Training Accuracy: 0.9262, Testing Accuracy: 0.9350\n",
      "\n"
     ]
    },
    {
     "name": "stdout",
     "output_type": "stream",
     "text": [
      "Epoch 20, Loss 0.0501\n",
      "Training Accuracy: 0.9488, Testing Accuracy: 0.9556\n",
      "\n"
     ]
    },
    {
     "name": "stdout",
     "output_type": "stream",
     "text": [
      "Epoch 30, Loss 0.0404\n",
      "Training Accuracy: 0.9565, Testing Accuracy: 0.9637\n",
      "\n"
     ]
    },
    {
     "name": "stdout",
     "output_type": "stream",
     "text": [
      "Epoch 40, Loss 0.0355\n",
      "Training Accuracy: 0.9609, Testing Accuracy: 0.9662\n",
      "\n"
     ]
    },
    {
     "name": "stdout",
     "output_type": "stream",
     "text": [
      "Epoch 50, Loss 0.0325\n",
      "Training Accuracy: 0.9636, Testing Accuracy: 0.9688\n",
      "\n"
     ]
    },
    {
     "name": "stdout",
     "output_type": "stream",
     "text": [
      "Epoch 60, Loss 0.0303\n",
      "Training Accuracy: 0.9658, Testing Accuracy: 0.9703\n",
      "\n"
     ]
    },
    {
     "name": "stdout",
     "output_type": "stream",
     "text": [
      "Epoch 70, Loss 0.0286\n",
      "Training Accuracy: 0.9675, Testing Accuracy: 0.9713\n",
      "\n"
     ]
    },
    {
     "name": "stdout",
     "output_type": "stream",
     "text": [
      "Epoch 80, Loss 0.0272\n",
      "Training Accuracy: 0.9690, Testing Accuracy: 0.9708\n",
      "\n"
     ]
    },
    {
     "name": "stdout",
     "output_type": "stream",
     "text": [
      "Epoch 90, Loss 0.026\n",
      "Training Accuracy: 0.9703, Testing Accuracy: 0.9708\n",
      "\n"
     ]
    },
    {
     "name": "stdout",
     "output_type": "stream",
     "text": [
      "Epoch 100, Loss 0.025\n",
      "Training Accuracy: 0.9720, Testing Accuracy: 0.9713\n",
      "\n"
     ]
    },
    {
     "name": "stdout",
     "output_type": "stream",
     "text": [
      "Epoch 110, Loss 0.0241\n",
      "Training Accuracy: 0.9730, Testing Accuracy: 0.9713\n",
      "\n"
     ]
    },
    {
     "name": "stdout",
     "output_type": "stream",
     "text": [
      "Epoch 120, Loss 0.0233\n",
      "Training Accuracy: 0.9740, Testing Accuracy: 0.9718\n",
      "\n"
     ]
    },
    {
     "name": "stdout",
     "output_type": "stream",
     "text": [
      "Epoch 130, Loss 0.0226\n",
      "Training Accuracy: 0.9750, Testing Accuracy: 0.9723\n",
      "\n"
     ]
    },
    {
     "name": "stdout",
     "output_type": "stream",
     "text": [
      "Epoch 140, Loss 0.022\n",
      "Training Accuracy: 0.9758, Testing Accuracy: 0.9718\n",
      "\n"
     ]
    },
    {
     "name": "stdout",
     "output_type": "stream",
     "text": [
      "Epoch 150, Loss 0.0213\n",
      "Training Accuracy: 0.9770, Testing Accuracy: 0.9733\n",
      "\n"
     ]
    },
    {
     "name": "stdout",
     "output_type": "stream",
     "text": [
      "Epoch 160, Loss 0.0208\n",
      "Training Accuracy: 0.9779, Testing Accuracy: 0.9733\n",
      "\n"
     ]
    },
    {
     "name": "stdout",
     "output_type": "stream",
     "text": [
      "Epoch 170, Loss 0.0203\n",
      "Training Accuracy: 0.9785, Testing Accuracy: 0.9753\n",
      "\n"
     ]
    },
    {
     "name": "stdout",
     "output_type": "stream",
     "text": [
      "Epoch 180, Loss 0.0197\n",
      "Training Accuracy: 0.9791, Testing Accuracy: 0.9748\n",
      "\n"
     ]
    },
    {
     "name": "stdout",
     "output_type": "stream",
     "text": [
      "Epoch 190, Loss 0.0193\n",
      "Training Accuracy: 0.9795, Testing Accuracy: 0.9758\n",
      "\n"
     ]
    },
    {
     "name": "stdout",
     "output_type": "stream",
     "text": [
      "Epoch 200, Loss 0.0188\n",
      "Training Accuracy: 0.9802, Testing Accuracy: 0.9758\n",
      "\n"
     ]
    },
    {
     "name": "stdout",
     "output_type": "stream",
     "text": [
      "Epoch 210, Loss 0.0184\n",
      "Training Accuracy: 0.9806, Testing Accuracy: 0.9763\n",
      "\n"
     ]
    },
    {
     "name": "stdout",
     "output_type": "stream",
     "text": [
      "Epoch 220, Loss 0.018\n",
      "Training Accuracy: 0.9810, Testing Accuracy: 0.9768\n",
      "\n"
     ]
    },
    {
     "name": "stdout",
     "output_type": "stream",
     "text": [
      "Epoch 230, Loss 0.0176\n",
      "Training Accuracy: 0.9813, Testing Accuracy: 0.9768\n",
      "\n"
     ]
    },
    {
     "name": "stdout",
     "output_type": "stream",
     "text": [
      "Epoch 240, Loss 0.0173\n",
      "Training Accuracy: 0.9820, Testing Accuracy: 0.9768\n",
      "\n"
     ]
    },
    {
     "data": {
      "text/plain": [
       "0.012958932523567494"
      ]
     },
     "execution_count": 22,
     "metadata": {},
     "output_type": "execute_result"
    }
   ],
   "source": [
    "nn_learner.train_loop(dl)"
   ]
  },
  {
   "cell_type": "code",
   "execution_count": 23,
   "id": "e0163366",
   "metadata": {
    "execution": {
     "iopub.execute_input": "2022-06-17T00:37:59.002569Z",
     "iopub.status.busy": "2022-06-17T00:37:59.001145Z",
     "iopub.status.idle": "2022-06-17T00:38:15.276075Z",
     "shell.execute_reply": "2022-06-17T00:38:15.276901Z"
    },
    "papermill": {
     "duration": 16.332065,
     "end_time": "2022-06-17T00:38:15.277036",
     "exception": false,
     "start_time": "2022-06-17T00:37:58.944971",
     "status": "completed"
    },
    "tags": []
   },
   "outputs": [
    {
     "name": "stdout",
     "output_type": "stream",
     "text": [
      "Epoch 0, Loss 0.2739\n",
      "Training Accuracy: 0.5709, Testing Accuracy: 0.5781\n",
      "\n"
     ]
    },
    {
     "name": "stdout",
     "output_type": "stream",
     "text": [
      "Epoch 10, Loss 0.1083\n",
      "Training Accuracy: 0.9002, Testing Accuracy: 0.9093\n",
      "\n"
     ]
    },
    {
     "name": "stdout",
     "output_type": "stream",
     "text": [
      "Epoch 20, Loss 0.0824\n",
      "Training Accuracy: 0.9227, Testing Accuracy: 0.9309\n",
      "\n"
     ]
    },
    {
     "name": "stdout",
     "output_type": "stream",
     "text": [
      "Epoch 30, Loss 0.0706\n",
      "Training Accuracy: 0.9347, Testing Accuracy: 0.9451\n",
      "\n"
     ]
    },
    {
     "name": "stdout",
     "output_type": "stream",
     "text": [
      "Epoch 40, Loss 0.0635\n",
      "Training Accuracy: 0.9408, Testing Accuracy: 0.9526\n",
      "\n"
     ]
    },
    {
     "name": "stdout",
     "output_type": "stream",
     "text": [
      "Epoch 50, Loss 0.0587\n",
      "Training Accuracy: 0.9427, Testing Accuracy: 0.9556\n",
      "\n"
     ]
    },
    {
     "name": "stdout",
     "output_type": "stream",
     "text": [
      "Epoch 60, Loss 0.0551\n",
      "Training Accuracy: 0.9461, Testing Accuracy: 0.9577\n",
      "\n"
     ]
    },
    {
     "name": "stdout",
     "output_type": "stream",
     "text": [
      "Epoch 70, Loss 0.0524\n",
      "Training Accuracy: 0.9475, Testing Accuracy: 0.9582\n",
      "\n"
     ]
    },
    {
     "name": "stdout",
     "output_type": "stream",
     "text": [
      "Epoch 80, Loss 0.0503\n",
      "Training Accuracy: 0.9485, Testing Accuracy: 0.9577\n",
      "\n"
     ]
    },
    {
     "name": "stdout",
     "output_type": "stream",
     "text": [
      "Epoch 90, Loss 0.0485\n",
      "Training Accuracy: 0.9496, Testing Accuracy: 0.9587\n",
      "\n"
     ]
    },
    {
     "name": "stdout",
     "output_type": "stream",
     "text": [
      "Epoch 100, Loss 0.047\n",
      "Training Accuracy: 0.9508, Testing Accuracy: 0.9612\n",
      "\n"
     ]
    },
    {
     "name": "stdout",
     "output_type": "stream",
     "text": [
      "Epoch 110, Loss 0.0457\n",
      "Training Accuracy: 0.9523, Testing Accuracy: 0.9612\n",
      "\n"
     ]
    },
    {
     "name": "stdout",
     "output_type": "stream",
     "text": [
      "Epoch 120, Loss 0.0446\n",
      "Training Accuracy: 0.9530, Testing Accuracy: 0.9627\n",
      "\n"
     ]
    },
    {
     "name": "stdout",
     "output_type": "stream",
     "text": [
      "Epoch 130, Loss 0.0436\n",
      "Training Accuracy: 0.9536, Testing Accuracy: 0.9637\n",
      "\n"
     ]
    },
    {
     "name": "stdout",
     "output_type": "stream",
     "text": [
      "Epoch 140, Loss 0.0428\n",
      "Training Accuracy: 0.9543, Testing Accuracy: 0.9642\n",
      "\n"
     ]
    },
    {
     "name": "stdout",
     "output_type": "stream",
     "text": [
      "Epoch 150, Loss 0.042\n",
      "Training Accuracy: 0.9553, Testing Accuracy: 0.9652\n",
      "\n"
     ]
    },
    {
     "name": "stdout",
     "output_type": "stream",
     "text": [
      "Epoch 160, Loss 0.0413\n",
      "Training Accuracy: 0.9556, Testing Accuracy: 0.9657\n",
      "\n"
     ]
    },
    {
     "name": "stdout",
     "output_type": "stream",
     "text": [
      "Epoch 170, Loss 0.0406\n",
      "Training Accuracy: 0.9564, Testing Accuracy: 0.9667\n",
      "\n"
     ]
    },
    {
     "name": "stdout",
     "output_type": "stream",
     "text": [
      "Epoch 180, Loss 0.04\n",
      "Training Accuracy: 0.9566, Testing Accuracy: 0.9667\n",
      "\n"
     ]
    },
    {
     "name": "stdout",
     "output_type": "stream",
     "text": [
      "Epoch 190, Loss 0.0395\n",
      "Training Accuracy: 0.9571, Testing Accuracy: 0.9672\n",
      "\n"
     ]
    },
    {
     "name": "stdout",
     "output_type": "stream",
     "text": [
      "Epoch 200, Loss 0.039\n",
      "Training Accuracy: 0.9574, Testing Accuracy: 0.9672\n",
      "\n"
     ]
    },
    {
     "name": "stdout",
     "output_type": "stream",
     "text": [
      "Epoch 210, Loss 0.0386\n",
      "Training Accuracy: 0.9582, Testing Accuracy: 0.9667\n",
      "\n"
     ]
    },
    {
     "name": "stdout",
     "output_type": "stream",
     "text": [
      "Epoch 220, Loss 0.0381\n",
      "Training Accuracy: 0.9587, Testing Accuracy: 0.9667\n",
      "\n"
     ]
    },
    {
     "name": "stdout",
     "output_type": "stream",
     "text": [
      "Epoch 230, Loss 0.0377\n",
      "Training Accuracy: 0.9589, Testing Accuracy: 0.9672\n",
      "\n"
     ]
    },
    {
     "name": "stdout",
     "output_type": "stream",
     "text": [
      "Epoch 240, Loss 0.0373\n",
      "Training Accuracy: 0.9594, Testing Accuracy: 0.9682\n",
      "\n"
     ]
    },
    {
     "data": {
      "text/plain": [
       "0.034471206730336434"
      ]
     },
     "execution_count": 23,
     "metadata": {},
     "output_type": "execute_result"
    }
   ],
   "source": [
    "lr_learner.train_loop(dl)"
   ]
  },
  {
   "cell_type": "code",
   "execution_count": 24,
   "id": "ca410940",
   "metadata": {
    "execution": {
     "iopub.execute_input": "2022-06-17T00:38:15.377891Z",
     "iopub.status.busy": "2022-06-17T00:38:15.377199Z",
     "iopub.status.idle": "2022-06-17T00:38:15.538913Z",
     "shell.execute_reply": "2022-06-17T00:38:15.539267Z"
    },
    "papermill": {
     "duration": 0.211256,
     "end_time": "2022-06-17T00:38:15.539367",
     "exception": false,
     "start_time": "2022-06-17T00:38:15.328111",
     "status": "completed"
    },
    "tags": []
   },
   "outputs": [
    {
     "data": {
      "text/plain": [
       "<matplotlib.legend.Legend at 0x7fce57e3ab00>"
      ]
     },
     "execution_count": 24,
     "metadata": {},
     "output_type": "execute_result"
    },
    {
     "data": {
      "image/png": "[encoded data removed]",
      "text/plain": [
       "<Figure size 1080x720 with 1 Axes>"
      ]
     },
     "metadata": {
      "needs_background": "light"
     },
     "output_type": "display_data"
    }
   ],
   "source": [
    "#comparing the results of NN and LR\n",
    "plt.figure(figsize=(15,10))\n",
    "\n",
    "# Neural Network plots\n",
    "plt.plot(acc_nn.accuracies, 'r-', label = \"Training Accuracies - NN\")\n",
    "plt.plot(acc_nn.test_accuracies, 'g-', label = \"Testing Accuracies - NN\")\n",
    "\n",
    "# Logistic Regression plots\n",
    "plt.plot(acc_lr.accuracies, 'k-', label = \"Training Accuracies - LR\")\n",
    "plt.plot(acc_lr.test_accuracies, 'b-', label = \"Testing Accuracies - LR\")\n",
    "plt.legend()"
   ]
  },
  {
   "cell_type": "markdown",
   "id": "80dfb35c",
   "metadata": {
    "papermill": {
     "duration": 0.030431,
     "end_time": "2022-06-17T00:38:15.600219",
     "exception": false,
     "start_time": "2022-06-17T00:38:15.569788",
     "status": "completed"
    },
    "tags": []
   },
   "source": [
    "#### Plotting the outputs of this layer of the NN.\n"
   ]
  },
  {
   "cell_type": "code",
   "execution_count": 25,
   "id": "45eb2ff5",
   "metadata": {
    "execution": {
     "iopub.execute_input": "2022-06-17T00:38:15.668772Z",
     "iopub.status.busy": "2022-06-17T00:38:15.664438Z",
     "iopub.status.idle": "2022-06-17T00:38:15.709218Z",
     "shell.execute_reply": "2022-06-17T00:38:15.709772Z"
    },
    "papermill": {
     "duration": 0.079407,
     "end_time": "2022-06-17T00:38:15.709879",
     "exception": false,
     "start_time": "2022-06-17T00:38:15.630472",
     "status": "completed"
    },
    "tags": []
   },
   "outputs": [],
   "source": [
    "new_model = Model(layers[:-2])\n",
    "testing_plot = new_model(testing_data_x)"
   ]
  },
  {
   "cell_type": "code",
   "execution_count": 26,
   "id": "4c0a5485",
   "metadata": {
    "execution": {
     "iopub.execute_input": "2022-06-17T00:38:15.831243Z",
     "iopub.status.busy": "2022-06-17T00:38:15.830561Z",
     "iopub.status.idle": "2022-06-17T00:38:16.005548Z",
     "shell.execute_reply": "2022-06-17T00:38:16.005865Z"
    },
    "papermill": {
     "duration": 0.244152,
     "end_time": "2022-06-17T00:38:16.005961",
     "exception": false,
     "start_time": "2022-06-17T00:38:15.761809",
     "status": "completed"
    },
    "tags": []
   },
   "outputs": [
    {
     "data": {
      "text/plain": [
       "Text(0.5, 1.0, 'Outputs')"
      ]
     },
     "execution_count": 26,
     "metadata": {},
     "output_type": "execute_result"
    },
    {
     "data": {
      "image/png": "[encoded data removed]",
      "text/plain": [
       "<Figure size 576x504 with 1 Axes>"
      ]
     },
     "metadata": {
      "needs_background": "light"
     },
     "output_type": "display_data"
    }
   ],
   "source": [
    "# Plotting the scatter plot of points and color coding by class\n",
    "plt.figure(figsize=(8,7))\n",
    "plt.scatter(testing_plot[:,0], testing_plot[:,1], alpha = 0.1, c = y_test.ravel());\n",
    "plt.title('Outputs')"
   ]
  },
  {
   "cell_type": "markdown",
   "id": "a74fcf8f",
   "metadata": {
    "papermill": {
     "duration": 0.03291,
     "end_time": "2022-06-17T00:38:16.071734",
     "exception": false,
     "start_time": "2022-06-17T00:38:16.038824",
     "status": "completed"
    },
    "tags": []
   },
   "source": [
    "Probability contours"
   ]
  },
  {
   "cell_type": "code",
   "execution_count": 27,
   "id": "d0afc8e3",
   "metadata": {
    "execution": {
     "iopub.execute_input": "2022-06-17T00:38:16.146826Z",
     "iopub.status.busy": "2022-06-17T00:38:16.146115Z",
     "iopub.status.idle": "2022-06-17T00:38:16.152808Z",
     "shell.execute_reply": "2022-06-17T00:38:16.153119Z"
    },
    "papermill": {
     "duration": 0.048383,
     "end_time": "2022-06-17T00:38:16.153219",
     "exception": false,
     "start_time": "2022-06-17T00:38:16.104836",
     "status": "completed"
    },
    "tags": []
   },
   "outputs": [],
   "source": [
    "model_prob = Model(layers[-2:]) "
   ]
  },
  {
   "cell_type": "code",
   "execution_count": 28,
   "id": "9b96e238",
   "metadata": {
    "execution": {
     "iopub.execute_input": "2022-06-17T00:38:16.224140Z",
     "iopub.status.busy": "2022-06-17T00:38:16.223419Z",
     "iopub.status.idle": "2022-06-17T00:38:16.234902Z",
     "shell.execute_reply": "2022-06-17T00:38:16.235212Z"
    },
    "papermill": {
     "duration": 0.048686,
     "end_time": "2022-06-17T00:38:16.235310",
     "exception": false,
     "start_time": "2022-06-17T00:38:16.186624",
     "status": "completed"
    },
    "tags": []
   },
   "outputs": [],
   "source": [
    "#creating the x and y ranges according to the above generated plot.\n",
    "x_range = np.linspace(-4, 1, 100) \n",
    "y_range = np.linspace(-6, 6, 100) \n",
    "x_grid, y_grid = np.meshgrid(x_range, y_range) # x_grid and y_grig are of size 100 X 100\n",
    "\n",
    "# converting x_grid and y_grid to continuous arrays\n",
    "x_gridflat = np.ravel(x_grid)\n",
    "y_gridflat = np.ravel(y_grid)\n",
    "\n",
    "# The last layer of the current model takes two columns as input. Hence transpose of np.vstack() is required.\n",
    "X = np.vstack((x_gridflat, y_gridflat)).T\n",
    "\n",
    "prob_contour = model_prob(X).reshape(100,100) "
   ]
  },
  {
   "cell_type": "code",
   "execution_count": 29,
   "id": "da72499a",
   "metadata": {
    "execution": {
     "iopub.execute_input": "2022-06-17T00:38:16.344404Z",
     "iopub.status.busy": "2022-06-17T00:38:16.343666Z",
     "iopub.status.idle": "2022-06-17T00:38:16.556419Z",
     "shell.execute_reply": "2022-06-17T00:38:16.556740Z"
    },
    "papermill": {
     "duration": 0.265106,
     "end_time": "2022-06-17T00:38:16.556845",
     "exception": false,
     "start_time": "2022-06-17T00:38:16.291739",
     "status": "completed"
    },
    "tags": []
   },
   "outputs": [
    {
     "data": {
      "image/png": "[encoded data removed]",
      "text/plain": [
       "<Figure size 720x648 with 1 Axes>"
      ]
     },
     "metadata": {
      "needs_background": "light"
     },
     "output_type": "display_data"
    }
   ],
   "source": [
    "plt.figure(figsize=(10,9))\n",
    "plt.scatter(testing_plot[:,0], testing_plot[:,1], alpha = 0.1, c = y_test.ravel())\n",
    "contours = plt.contour(x_grid,y_grid,prob_contour)\n",
    "plt.title('Probability Contours')\n",
    "plt.clabel(contours, inline = True );"
   ]
  },
  {
   "cell_type": "code",
   "execution_count": null,
   "id": "e81b4ac7",
   "metadata": {
    "papermill": {
     "duration": 0.034398,
     "end_time": "2022-06-17T00:38:16.625937",
     "exception": false,
     "start_time": "2022-06-17T00:38:16.591539",
     "status": "completed"
    },
    "tags": []
   },
   "outputs": [],
   "source": []
  }
 ],
 "metadata": {
  "kernelspec": {
   "display_name": "Python 3",
   "language": "python",
   "name": "python3"
  },
  "language_info": {
   "codemirror_mode": {
    "name": "ipython",
    "version": 3
   },
   "file_extension": ".py",
   "mimetype": "text/x-python",
   "name": "python",
   "nbconvert_exporter": "python",
   "pygments_lexer": "ipython3",
   "version": "3.6.15"
  },
  "papermill": {
   "default_parameters": {},
   "duration": 260.095027,
   "end_time": "2022-06-17T00:38:16.977773",
   "environment_variables": {},
   "exception": null,
   "input_path": "2020-08-11-part2.ipynb",
   "output_path": "2020-08-11-part2.ipynb",
   "parameters": {},
   "start_time": "2022-06-17T00:33:56.882746",
   "version": "2.3.3"
  }
 },
 "nbformat": 4,
 "nbformat_minor": 5
}