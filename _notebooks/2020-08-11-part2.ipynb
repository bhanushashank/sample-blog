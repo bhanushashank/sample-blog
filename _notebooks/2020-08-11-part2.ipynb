{
 "cells": [
  {
   "cell_type": "markdown",
   "id": "98380cd3",
   "metadata": {
    "papermill": {
     "duration": 0.02837,
     "end_time": "2021-10-05T20:07:11.090397",
     "exception": false,
     "start_time": "2021-10-05T20:07:11.062027",
     "status": "completed"
    },
    "tags": []
   },
   "source": [
    "# Distinguish Your Own Digits (DYOD)"
   ]
  },
  {
   "cell_type": "markdown",
   "id": "ef31240d",
   "metadata": {
    "papermill": {
     "duration": 0.023981,
     "end_time": "2021-10-05T20:07:11.139183",
     "exception": false,
     "start_time": "2021-10-05T20:07:11.115202",
     "status": "completed"
    },
    "tags": []
   },
   "source": [
    "You are going to write a classifier that distinguishes between the number 3 and number 8."
   ]
  },
  {
   "cell_type": "code",
   "execution_count": 1,
   "id": "b15c8646",
   "metadata": {
    "execution": {
     "iopub.execute_input": "2021-10-05T20:07:11.200042Z",
     "iopub.status.busy": "2021-10-05T20:07:11.199486Z",
     "iopub.status.idle": "2021-10-05T20:07:11.209631Z",
     "shell.execute_reply": "2021-10-05T20:07:11.209188Z"
    },
    "papermill": {
     "duration": 0.046547,
     "end_time": "2021-10-05T20:07:11.209767",
     "exception": false,
     "start_time": "2021-10-05T20:07:11.163220",
     "status": "completed"
    },
    "tags": []
   },
   "outputs": [],
   "source": [
    "%load_ext autoreload\n",
    "%autoreload 2"
   ]
  },
  {
   "cell_type": "code",
   "execution_count": 2,
   "id": "22ef38dc",
   "metadata": {
    "execution": {
     "iopub.execute_input": "2021-10-05T20:07:11.262767Z",
     "iopub.status.busy": "2021-10-05T20:07:11.262223Z",
     "iopub.status.idle": "2021-10-05T20:07:11.811277Z",
     "shell.execute_reply": "2021-10-05T20:07:11.810745Z"
    },
    "papermill": {
     "duration": 0.577259,
     "end_time": "2021-10-05T20:07:11.811419",
     "exception": false,
     "start_time": "2021-10-05T20:07:11.234160",
     "status": "completed"
    },
    "tags": []
   },
   "outputs": [],
   "source": [
    "%matplotlib inline\n",
    "import numpy as np\n",
    "import matplotlib.pyplot as plt\n",
    "import pandas as pd"
   ]
  },
  {
   "cell_type": "markdown",
   "id": "ba036198",
   "metadata": {
    "papermill": {
     "duration": 0.024195,
     "end_time": "2021-10-05T20:07:11.860568",
     "exception": false,
     "start_time": "2021-10-05T20:07:11.836373",
     "status": "completed"
    },
    "tags": []
   },
   "source": [
    "From the command line run `pip install mnist`. This is a library that will help you bring down the mnist dataset. If you run this from a notebook, you need to put  `!pip install mnist` in a cell by itself."
   ]
  },
  {
   "cell_type": "code",
   "execution_count": 3,
   "id": "bb6ad8a1",
   "metadata": {
    "execution": {
     "iopub.execute_input": "2021-10-05T20:07:11.914038Z",
     "iopub.status.busy": "2021-10-05T20:07:11.913471Z",
     "iopub.status.idle": "2021-10-05T20:07:13.633039Z",
     "shell.execute_reply": "2021-10-05T20:07:13.632456Z"
    },
    "papermill": {
     "duration": 1.748393,
     "end_time": "2021-10-05T20:07:13.633190",
     "exception": false,
     "start_time": "2021-10-05T20:07:11.884797",
     "status": "completed"
    },
    "tags": []
   },
   "outputs": [
    {
     "name": "stdout",
     "output_type": "stream",
     "text": [
      "Collecting mnist\r\n"
     ]
    },
    {
     "name": "stdout",
     "output_type": "stream",
     "text": [
      "  Downloading mnist-0.2.2-py2.py3-none-any.whl (3.5 kB)\r\n",
      "Requirement already satisfied: numpy in /opt/hostedtoolcache/Python/3.6.15/x64/lib/python3.6/site-packages (from mnist) (1.19.5)\r\n"
     ]
    },
    {
     "name": "stdout",
     "output_type": "stream",
     "text": [
      "Installing collected packages: mnist\r\n",
      "Successfully installed mnist-0.2.2\r\n"
     ]
    }
   ],
   "source": [
    "!pip install mnist"
   ]
  },
  {
   "cell_type": "markdown",
   "id": "69df9c9a",
   "metadata": {
    "papermill": {
     "duration": 0.025028,
     "end_time": "2021-10-05T20:07:13.684131",
     "exception": false,
     "start_time": "2021-10-05T20:07:13.659103",
     "status": "completed"
    },
    "tags": []
   },
   "source": [
    "## Preparing the Data"
   ]
  },
  {
   "cell_type": "code",
   "execution_count": 4,
   "id": "7f69d806",
   "metadata": {
    "execution": {
     "iopub.execute_input": "2021-10-05T20:07:13.743396Z",
     "iopub.status.busy": "2021-10-05T20:07:13.737513Z",
     "iopub.status.idle": "2021-10-05T20:07:13.752383Z",
     "shell.execute_reply": "2021-10-05T20:07:13.752802Z"
    },
    "papermill": {
     "duration": 0.043851,
     "end_time": "2021-10-05T20:07:13.752943",
     "exception": false,
     "start_time": "2021-10-05T20:07:13.709092",
     "status": "completed"
    },
    "tags": []
   },
   "outputs": [],
   "source": [
    "import mnist"
   ]
  },
  {
   "cell_type": "code",
   "execution_count": 5,
   "id": "a411e44f",
   "metadata": {
    "execution": {
     "iopub.execute_input": "2021-10-05T20:07:13.809281Z",
     "iopub.status.busy": "2021-10-05T20:07:13.806074Z",
     "iopub.status.idle": "2021-10-05T20:07:14.423965Z",
     "shell.execute_reply": "2021-10-05T20:07:14.424460Z"
    },
    "papermill": {
     "duration": 0.64679,
     "end_time": "2021-10-05T20:07:14.424666",
     "exception": false,
     "start_time": "2021-10-05T20:07:13.777876",
     "status": "completed"
    },
    "tags": []
   },
   "outputs": [],
   "source": [
    "train_images = mnist.train_images()\n",
    "train_labels = mnist.train_labels()"
   ]
  },
  {
   "cell_type": "code",
   "execution_count": 6,
   "id": "dceab3a5",
   "metadata": {
    "execution": {
     "iopub.execute_input": "2021-10-05T20:07:14.494639Z",
     "iopub.status.busy": "2021-10-05T20:07:14.486351Z",
     "iopub.status.idle": "2021-10-05T20:07:14.497289Z",
     "shell.execute_reply": "2021-10-05T20:07:14.497680Z"
    },
    "papermill": {
     "duration": 0.047195,
     "end_time": "2021-10-05T20:07:14.497827",
     "exception": false,
     "start_time": "2021-10-05T20:07:14.450632",
     "status": "completed"
    },
    "tags": []
   },
   "outputs": [
    {
     "data": {
      "text/plain": [
       "((60000, 28, 28), (60000,))"
      ]
     },
     "execution_count": 6,
     "metadata": {},
     "output_type": "execute_result"
    }
   ],
   "source": [
    "train_images.shape, train_labels.shape"
   ]
  },
  {
   "cell_type": "code",
   "execution_count": 7,
   "id": "f50dc2bb",
   "metadata": {
    "execution": {
     "iopub.execute_input": "2021-10-05T20:07:14.557374Z",
     "iopub.status.busy": "2021-10-05T20:07:14.553123Z",
     "iopub.status.idle": "2021-10-05T20:07:14.797453Z",
     "shell.execute_reply": "2021-10-05T20:07:14.796961Z"
    },
    "papermill": {
     "duration": 0.274399,
     "end_time": "2021-10-05T20:07:14.797588",
     "exception": false,
     "start_time": "2021-10-05T20:07:14.523189",
     "status": "completed"
    },
    "tags": []
   },
   "outputs": [],
   "source": [
    "test_images = mnist.test_images()\n",
    "test_labels = mnist.test_labels()"
   ]
  },
  {
   "cell_type": "code",
   "execution_count": 8,
   "id": "fc38cf1b",
   "metadata": {
    "execution": {
     "iopub.execute_input": "2021-10-05T20:07:14.865781Z",
     "iopub.status.busy": "2021-10-05T20:07:14.861405Z",
     "iopub.status.idle": "2021-10-05T20:07:14.868810Z",
     "shell.execute_reply": "2021-10-05T20:07:14.868363Z"
    },
    "papermill": {
     "duration": 0.045835,
     "end_time": "2021-10-05T20:07:14.868933",
     "exception": false,
     "start_time": "2021-10-05T20:07:14.823098",
     "status": "completed"
    },
    "tags": []
   },
   "outputs": [
    {
     "data": {
      "text/plain": [
       "((10000, 28, 28), (10000,))"
      ]
     },
     "execution_count": 8,
     "metadata": {},
     "output_type": "execute_result"
    }
   ],
   "source": [
    "test_images.shape, test_labels.shape"
   ]
  },
  {
   "cell_type": "code",
   "execution_count": 9,
   "id": "f9ed8fe0",
   "metadata": {
    "execution": {
     "iopub.execute_input": "2021-10-05T20:07:14.923902Z",
     "iopub.status.busy": "2021-10-05T20:07:14.923386Z",
     "iopub.status.idle": "2021-10-05T20:07:15.062244Z",
     "shell.execute_reply": "2021-10-05T20:07:15.062670Z"
    },
    "papermill": {
     "duration": 0.168515,
     "end_time": "2021-10-05T20:07:15.062816",
     "exception": false,
     "start_time": "2021-10-05T20:07:14.894301",
     "status": "completed"
    },
    "tags": []
   },
   "outputs": [
    {
     "name": "stdout",
     "output_type": "stream",
     "text": [
      "2\n"
     ]
    },
    {
     "data": {
      "text/plain": [
       "<matplotlib.image.AxesImage at 0x7f1604d44898>"
      ]
     },
     "execution_count": 9,
     "metadata": {},
     "output_type": "execute_result"
    },
    {
     "data": {
      "image/png": "[encoded data removed]",
      "text/plain": [
       "<Figure size 432x288 with 1 Axes>"
      ]
     },
     "metadata": {
      "needs_background": "light"
     },
     "output_type": "display_data"
    }
   ],
   "source": [
    "image_index = 7776 # You may select anything up to 60,000\n",
    "print(train_labels[image_index]) \n",
    "plt.imshow(train_images[image_index], cmap='Greys')"
   ]
  },
  {
   "cell_type": "markdown",
   "id": "a8d2388d",
   "metadata": {
    "papermill": {
     "duration": 0.026485,
     "end_time": "2021-10-05T20:07:15.118146",
     "exception": false,
     "start_time": "2021-10-05T20:07:15.091661",
     "status": "completed"
    },
    "tags": []
   },
   "source": [
    "## Filter data to get 3 and 8 out"
   ]
  },
  {
   "cell_type": "code",
   "execution_count": 10,
   "id": "776f7fc7",
   "metadata": {
    "execution": {
     "iopub.execute_input": "2021-10-05T20:07:15.177943Z",
     "iopub.status.busy": "2021-10-05T20:07:15.177399Z",
     "iopub.status.idle": "2021-10-05T20:07:15.195031Z",
     "shell.execute_reply": "2021-10-05T20:07:15.194586Z"
    },
    "papermill": {
     "duration": 0.050606,
     "end_time": "2021-10-05T20:07:15.195155",
     "exception": false,
     "start_time": "2021-10-05T20:07:15.144549",
     "status": "completed"
    },
    "tags": []
   },
   "outputs": [],
   "source": [
    "train_filter = np.where((train_labels == 3 ) | (train_labels == 8))\n",
    "test_filter = np.where((test_labels == 3) | (test_labels == 8))\n",
    "X_train, y_train = train_images[train_filter], train_labels[train_filter]\n",
    "X_test, y_test = test_images[test_filter], test_labels[test_filter]"
   ]
  },
  {
   "cell_type": "markdown",
   "id": "948f0b7e",
   "metadata": {
    "papermill": {
     "duration": 0.026511,
     "end_time": "2021-10-05T20:07:15.248452",
     "exception": false,
     "start_time": "2021-10-05T20:07:15.221941",
     "status": "completed"
    },
    "tags": []
   },
   "source": [
    "We normalize the pizel values in the 0 to 1 range"
   ]
  },
  {
   "cell_type": "code",
   "execution_count": 11,
   "id": "ee4c2166",
   "metadata": {
    "execution": {
     "iopub.execute_input": "2021-10-05T20:07:15.318031Z",
     "iopub.status.busy": "2021-10-05T20:07:15.317479Z",
     "iopub.status.idle": "2021-10-05T20:07:15.359859Z",
     "shell.execute_reply": "2021-10-05T20:07:15.359324Z"
    },
    "papermill": {
     "duration": 0.085071,
     "end_time": "2021-10-05T20:07:15.360002",
     "exception": false,
     "start_time": "2021-10-05T20:07:15.274931",
     "status": "completed"
    },
    "tags": []
   },
   "outputs": [],
   "source": [
    "X_train = X_train/255.\n",
    "X_test = X_test/255."
   ]
  },
  {
   "cell_type": "markdown",
   "id": "ddcf4fab",
   "metadata": {
    "papermill": {
     "duration": 0.026451,
     "end_time": "2021-10-05T20:07:15.414151",
     "exception": false,
     "start_time": "2021-10-05T20:07:15.387700",
     "status": "completed"
    },
    "tags": []
   },
   "source": [
    "And setup the labels as 1 (when the digit is 3) and 0 (when the digit is 8)"
   ]
  },
  {
   "cell_type": "code",
   "execution_count": 12,
   "id": "7dc908f2",
   "metadata": {
    "execution": {
     "iopub.execute_input": "2021-10-05T20:07:15.486253Z",
     "iopub.status.busy": "2021-10-05T20:07:15.485695Z",
     "iopub.status.idle": "2021-10-05T20:07:15.488165Z",
     "shell.execute_reply": "2021-10-05T20:07:15.487735Z"
    },
    "papermill": {
     "duration": 0.047648,
     "end_time": "2021-10-05T20:07:15.488289",
     "exception": false,
     "start_time": "2021-10-05T20:07:15.440641",
     "status": "completed"
    },
    "tags": []
   },
   "outputs": [],
   "source": [
    "y_train = 1*(y_train==3)\n",
    "y_test = 1*(y_test==3)"
   ]
  },
  {
   "cell_type": "code",
   "execution_count": 13,
   "id": "01e4e969",
   "metadata": {
    "execution": {
     "iopub.execute_input": "2021-10-05T20:07:15.545176Z",
     "iopub.status.busy": "2021-10-05T20:07:15.544639Z",
     "iopub.status.idle": "2021-10-05T20:07:15.558414Z",
     "shell.execute_reply": "2021-10-05T20:07:15.557991Z"
    },
    "papermill": {
     "duration": 0.043455,
     "end_time": "2021-10-05T20:07:15.558530",
     "exception": false,
     "start_time": "2021-10-05T20:07:15.515075",
     "status": "completed"
    },
    "tags": []
   },
   "outputs": [
    {
     "data": {
      "text/plain": [
       "((11982, 28, 28), (1984, 28, 28))"
      ]
     },
     "execution_count": 13,
     "metadata": {},
     "output_type": "execute_result"
    }
   ],
   "source": [
    "X_train.shape, X_test.shape"
   ]
  },
  {
   "cell_type": "markdown",
   "id": "5ccf3f85",
   "metadata": {
    "papermill": {
     "duration": 0.026648,
     "end_time": "2021-10-05T20:07:15.611900",
     "exception": false,
     "start_time": "2021-10-05T20:07:15.585252",
     "status": "completed"
    },
    "tags": []
   },
   "source": [
    "We reshape the data to flatten the image pixels into a set of features or co-variates:"
   ]
  },
  {
   "cell_type": "code",
   "execution_count": 14,
   "id": "5286a4a3",
   "metadata": {
    "execution": {
     "iopub.execute_input": "2021-10-05T20:07:15.670307Z",
     "iopub.status.busy": "2021-10-05T20:07:15.669767Z",
     "iopub.status.idle": "2021-10-05T20:07:15.683460Z",
     "shell.execute_reply": "2021-10-05T20:07:15.683850Z"
    },
    "papermill": {
     "duration": 0.045181,
     "end_time": "2021-10-05T20:07:15.683992",
     "exception": false,
     "start_time": "2021-10-05T20:07:15.638811",
     "status": "completed"
    },
    "tags": []
   },
   "outputs": [
    {
     "data": {
      "text/plain": [
       "((11982, 784), (1984, 784))"
      ]
     },
     "execution_count": 14,
     "metadata": {},
     "output_type": "execute_result"
    }
   ],
   "source": [
    "X_train = X_train.reshape(X_train.shape[0], -1)\n",
    "X_test = X_test.reshape(X_test.shape[0], -1)\n",
    "X_train.shape, X_test.shape"
   ]
  },
  {
   "cell_type": "code",
   "execution_count": 15,
   "id": "73c5f88a",
   "metadata": {
    "execution": {
     "iopub.execute_input": "2021-10-05T20:07:15.742864Z",
     "iopub.status.busy": "2021-10-05T20:07:15.742324Z",
     "iopub.status.idle": "2021-10-05T20:07:15.762313Z",
     "shell.execute_reply": "2021-10-05T20:07:15.761840Z"
    },
    "papermill": {
     "duration": 0.051365,
     "end_time": "2021-10-05T20:07:15.762434",
     "exception": false,
     "start_time": "2021-10-05T20:07:15.711069",
     "status": "completed"
    },
    "tags": []
   },
   "outputs": [],
   "source": [
    "#Impoting functions from 'Kudzu'\n",
    "from kudzu.model import Model\n",
    "from kudzu.train import Learner\n",
    "from kudzu.optim import GD\n",
    "from kudzu.data import Data, Sampler,Dataloader\n",
    "\n",
    "from kudzu.callbacks import AccCallback\n",
    "from kudzu.callbacks import ClfCallback\n",
    "\n",
    "from kudzu.loss import MSE\n",
    "\n",
    "from kudzu.layer import Sigmoid,Relu\n",
    "from kudzu.layer import Affine"
   ]
  },
  {
   "cell_type": "markdown",
   "id": "bc01172a",
   "metadata": {
    "papermill": {
     "duration": 0.027022,
     "end_time": "2021-10-05T20:07:15.816843",
     "exception": false,
     "start_time": "2021-10-05T20:07:15.789821",
     "status": "completed"
    },
    "tags": []
   },
   "source": [
    "### Let us create a `Config` class, to store important parameters. \n",
    "This class essentially plays the role of a dictionary."
   ]
  },
  {
   "cell_type": "code",
   "execution_count": 16,
   "id": "978281aa",
   "metadata": {
    "execution": {
     "iopub.execute_input": "2021-10-05T20:07:15.877938Z",
     "iopub.status.busy": "2021-10-05T20:07:15.877390Z",
     "iopub.status.idle": "2021-10-05T20:07:15.887536Z",
     "shell.execute_reply": "2021-10-05T20:07:15.887115Z"
    },
    "papermill": {
     "duration": 0.043956,
     "end_time": "2021-10-05T20:07:15.887654",
     "exception": false,
     "start_time": "2021-10-05T20:07:15.843698",
     "status": "completed"
    },
    "tags": []
   },
   "outputs": [],
   "source": [
    "class Config:\n",
    "    pass\n",
    "config = Config()\n",
    "config.lr = 0.001\n",
    "config.num_epochs = 250\n",
    "config.bs = 50"
   ]
  },
  {
   "cell_type": "markdown",
   "id": "1385fa59",
   "metadata": {
    "papermill": {
     "duration": 0.02687,
     "end_time": "2021-10-05T20:07:15.941675",
     "exception": false,
     "start_time": "2021-10-05T20:07:15.914805",
     "status": "completed"
    },
    "tags": []
   },
   "source": [
    "### Running Models with the Training data\n",
    "Details about the network layers:\n",
    "- A first affine layer has 784 inputs and does 100 affine transforms. These are followed by a Relu\n",
    "- A second affine layer has 100 inputs from the 100 activations of the past layer, and does 100 affine transforms. These are followed by a Relu\n",
    "- A third affine layer has 100 activations and does 2 affine transformations to create an embedding for visualization. There is no non-linearity here.\n",
    "- A final \"logistic regression\" which has an affine transform from 2 inputs to 1 output, which is squeezed through a sigmoid.\n"
   ]
  },
  {
   "cell_type": "code",
   "execution_count": 17,
   "id": "2b9c66db",
   "metadata": {
    "execution": {
     "iopub.execute_input": "2021-10-05T20:07:16.010913Z",
     "iopub.status.busy": "2021-10-05T20:07:16.010347Z",
     "iopub.status.idle": "2021-10-05T20:07:16.018145Z",
     "shell.execute_reply": "2021-10-05T20:07:16.017666Z"
    },
    "papermill": {
     "duration": 0.049535,
     "end_time": "2021-10-05T20:07:16.018276",
     "exception": false,
     "start_time": "2021-10-05T20:07:15.968741",
     "status": "completed"
    },
    "tags": []
   },
   "outputs": [],
   "source": [
    "data = Data(X_train, y_train.reshape(-1,1))\n",
    "sampler = Sampler(data, config.bs, shuffle=True)\n",
    "\n",
    "dl = Dataloader(data, sampler)\n",
    "\n",
    "opt = GD(config.lr)\n",
    "loss = MSE()"
   ]
  },
  {
   "cell_type": "code",
   "execution_count": 18,
   "id": "b275e4c2",
   "metadata": {
    "execution": {
     "iopub.execute_input": "2021-10-05T20:07:16.091706Z",
     "iopub.status.busy": "2021-10-05T20:07:16.089563Z",
     "iopub.status.idle": "2021-10-05T20:07:16.093968Z",
     "shell.execute_reply": "2021-10-05T20:07:16.093520Z"
    },
    "papermill": {
     "duration": 0.048531,
     "end_time": "2021-10-05T20:07:16.094091",
     "exception": false,
     "start_time": "2021-10-05T20:07:16.045560",
     "status": "completed"
    },
    "tags": []
   },
   "outputs": [],
   "source": [
    "training_data_x = X_train\n",
    "testing_data_x = X_test\n",
    "training_data_y = y_train.reshape(-1,1)\n",
    "testing_data_y = y_test.reshape(-1,1)"
   ]
  },
  {
   "cell_type": "code",
   "execution_count": 19,
   "id": "76951160",
   "metadata": {
    "execution": {
     "iopub.execute_input": "2021-10-05T20:07:16.168309Z",
     "iopub.status.busy": "2021-10-05T20:07:16.167712Z",
     "iopub.status.idle": "2021-10-05T20:07:16.175399Z",
     "shell.execute_reply": "2021-10-05T20:07:16.174936Z"
    },
    "papermill": {
     "duration": 0.054541,
     "end_time": "2021-10-05T20:07:16.175528",
     "exception": false,
     "start_time": "2021-10-05T20:07:16.120987",
     "status": "completed"
    },
    "tags": []
   },
   "outputs": [
    {
     "name": "stdout",
     "output_type": "stream",
     "text": [
      "xavier\n",
      "xavier\n",
      "xavier\n",
      "xavier\n",
      "xavier\n"
     ]
    }
   ],
   "source": [
    "layers = [Affine(\"first\", 784, 100), Relu(\"first\"), Affine(\"second\", 100, 100), Relu(\"second\"), Affine(\"third\", 100, 2), Affine(\"last\", 2, 1), Sigmoid(\"last\")]\n",
    "model_nn = Model(layers)\n",
    "model_lr = Model([Affine(\"logits\", 784, 1), Sigmoid(\"sigmoid\")])"
   ]
  },
  {
   "cell_type": "code",
   "execution_count": 20,
   "id": "6eede77a",
   "metadata": {
    "execution": {
     "iopub.execute_input": "2021-10-05T20:07:16.243630Z",
     "iopub.status.busy": "2021-10-05T20:07:16.243070Z",
     "iopub.status.idle": "2021-10-05T20:07:16.252115Z",
     "shell.execute_reply": "2021-10-05T20:07:16.251663Z"
    },
    "papermill": {
     "duration": 0.048976,
     "end_time": "2021-10-05T20:07:16.252239",
     "exception": false,
     "start_time": "2021-10-05T20:07:16.203263",
     "status": "completed"
    },
    "tags": []
   },
   "outputs": [],
   "source": [
    "nn_learner = Learner(loss, model_nn, opt, config.num_epochs)\n",
    "acc_nn = ClfCallback(nn_learner, config.bs, training_data_x , testing_data_x, training_data_y, testing_data_y)\n",
    "nn_learner.set_callbacks([acc_nn])"
   ]
  },
  {
   "cell_type": "code",
   "execution_count": 21,
   "id": "877b6cc7",
   "metadata": {
    "execution": {
     "iopub.execute_input": "2021-10-05T20:07:16.322897Z",
     "iopub.status.busy": "2021-10-05T20:07:16.322332Z",
     "iopub.status.idle": "2021-10-05T20:07:16.324009Z",
     "shell.execute_reply": "2021-10-05T20:07:16.324396Z"
    },
    "papermill": {
     "duration": 0.04482,
     "end_time": "2021-10-05T20:07:16.324571",
     "exception": false,
     "start_time": "2021-10-05T20:07:16.279751",
     "status": "completed"
    },
    "tags": []
   },
   "outputs": [],
   "source": [
    "lr_learner = Learner(loss, model_lr, opt, config.num_epochs)\n",
    "acc_lr = ClfCallback(lr_learner, config.bs, training_data_x , testing_data_x, training_data_y, testing_data_y)\n",
    "lr_learner.set_callbacks([acc_lr])"
   ]
  },
  {
   "cell_type": "code",
   "execution_count": 22,
   "id": "d9b133c3",
   "metadata": {
    "execution": {
     "iopub.execute_input": "2021-10-05T20:07:16.398156Z",
     "iopub.status.busy": "2021-10-05T20:07:16.396777Z",
     "iopub.status.idle": "2021-10-05T20:08:36.610523Z",
     "shell.execute_reply": "2021-10-05T20:08:36.611292Z"
    },
    "papermill": {
     "duration": 80.259467,
     "end_time": "2021-10-05T20:08:36.611455",
     "exception": false,
     "start_time": "2021-10-05T20:07:16.351988",
     "status": "completed"
    },
    "tags": []
   },
   "outputs": [
    {
     "name": "stdout",
     "output_type": "stream",
     "text": [
      "Epoch 0, Loss 0.2454\n",
      "Training Accuracy: 0.5789, Testing Accuracy: 0.5801\n",
      "\n"
     ]
    },
    {
     "name": "stdout",
     "output_type": "stream",
     "text": [
      "Epoch 10, Loss 0.1262\n",
      "Training Accuracy: 0.9139, Testing Accuracy: 0.9259\n",
      "\n"
     ]
    },
    {
     "name": "stdout",
     "output_type": "stream",
     "text": [
      "Epoch 20, Loss 0.067\n",
      "Training Accuracy: 0.9326, Testing Accuracy: 0.9435\n",
      "\n"
     ]
    },
    {
     "name": "stdout",
     "output_type": "stream",
     "text": [
      "Epoch 30, Loss 0.0503\n",
      "Training Accuracy: 0.9444, Testing Accuracy: 0.9561\n",
      "\n"
     ]
    },
    {
     "name": "stdout",
     "output_type": "stream",
     "text": [
      "Epoch 40, Loss 0.0425\n",
      "Training Accuracy: 0.9522, Testing Accuracy: 0.9612\n",
      "\n"
     ]
    },
    {
     "name": "stdout",
     "output_type": "stream",
     "text": [
      "Epoch 50, Loss 0.0379\n",
      "Training Accuracy: 0.9560, Testing Accuracy: 0.9647\n",
      "\n"
     ]
    },
    {
     "name": "stdout",
     "output_type": "stream",
     "text": [
      "Epoch 60, Loss 0.0348\n",
      "Training Accuracy: 0.9589, Testing Accuracy: 0.9662\n",
      "\n"
     ]
    },
    {
     "name": "stdout",
     "output_type": "stream",
     "text": [
      "Epoch 70, Loss 0.0326\n",
      "Training Accuracy: 0.9618, Testing Accuracy: 0.9682\n",
      "\n"
     ]
    },
    {
     "name": "stdout",
     "output_type": "stream",
     "text": [
      "Epoch 80, Loss 0.0309\n",
      "Training Accuracy: 0.9637, Testing Accuracy: 0.9703\n",
      "\n"
     ]
    },
    {
     "name": "stdout",
     "output_type": "stream",
     "text": [
      "Epoch 90, Loss 0.0295\n",
      "Training Accuracy: 0.9654, Testing Accuracy: 0.9693\n",
      "\n"
     ]
    },
    {
     "name": "stdout",
     "output_type": "stream",
     "text": [
      "Epoch 100, Loss 0.0283\n",
      "Training Accuracy: 0.9674, Testing Accuracy: 0.9703\n",
      "\n"
     ]
    },
    {
     "name": "stdout",
     "output_type": "stream",
     "text": [
      "Epoch 110, Loss 0.0273\n",
      "Training Accuracy: 0.9689, Testing Accuracy: 0.9713\n",
      "\n"
     ]
    },
    {
     "name": "stdout",
     "output_type": "stream",
     "text": [
      "Epoch 120, Loss 0.0264\n",
      "Training Accuracy: 0.9700, Testing Accuracy: 0.9708\n",
      "\n"
     ]
    },
    {
     "name": "stdout",
     "output_type": "stream",
     "text": [
      "Epoch 130, Loss 0.0256\n",
      "Training Accuracy: 0.9712, Testing Accuracy: 0.9718\n",
      "\n"
     ]
    },
    {
     "name": "stdout",
     "output_type": "stream",
     "text": [
      "Epoch 140, Loss 0.0249\n",
      "Training Accuracy: 0.9724, Testing Accuracy: 0.9718\n",
      "\n"
     ]
    },
    {
     "name": "stdout",
     "output_type": "stream",
     "text": [
      "Epoch 150, Loss 0.0243\n",
      "Training Accuracy: 0.9730, Testing Accuracy: 0.9713\n",
      "\n"
     ]
    },
    {
     "name": "stdout",
     "output_type": "stream",
     "text": [
      "Epoch 160, Loss 0.0237\n",
      "Training Accuracy: 0.9734, Testing Accuracy: 0.9718\n",
      "\n"
     ]
    },
    {
     "name": "stdout",
     "output_type": "stream",
     "text": [
      "Epoch 170, Loss 0.0231\n",
      "Training Accuracy: 0.9739, Testing Accuracy: 0.9718\n",
      "\n"
     ]
    },
    {
     "name": "stdout",
     "output_type": "stream",
     "text": [
      "Epoch 180, Loss 0.0226\n",
      "Training Accuracy: 0.9746, Testing Accuracy: 0.9718\n",
      "\n"
     ]
    },
    {
     "name": "stdout",
     "output_type": "stream",
     "text": [
      "Epoch 190, Loss 0.0221\n",
      "Training Accuracy: 0.9751, Testing Accuracy: 0.9718\n",
      "\n"
     ]
    },
    {
     "name": "stdout",
     "output_type": "stream",
     "text": [
      "Epoch 200, Loss 0.0217\n",
      "Training Accuracy: 0.9758, Testing Accuracy: 0.9723\n",
      "\n"
     ]
    },
    {
     "name": "stdout",
     "output_type": "stream",
     "text": [
      "Epoch 210, Loss 0.0213\n",
      "Training Accuracy: 0.9762, Testing Accuracy: 0.9728\n",
      "\n"
     ]
    },
    {
     "name": "stdout",
     "output_type": "stream",
     "text": [
      "Epoch 220, Loss 0.0209\n",
      "Training Accuracy: 0.9768, Testing Accuracy: 0.9728\n",
      "\n"
     ]
    },
    {
     "name": "stdout",
     "output_type": "stream",
     "text": [
      "Epoch 230, Loss 0.0205\n",
      "Training Accuracy: 0.9776, Testing Accuracy: 0.9733\n",
      "\n"
     ]
    },
    {
     "name": "stdout",
     "output_type": "stream",
     "text": [
      "Epoch 240, Loss 0.0201\n",
      "Training Accuracy: 0.9779, Testing Accuracy: 0.9743\n",
      "\n"
     ]
    },
    {
     "data": {
      "text/plain": [
       "0.008273872101604289"
      ]
     },
     "execution_count": 22,
     "metadata": {},
     "output_type": "execute_result"
    }
   ],
   "source": [
    "nn_learner.train_loop(dl)"
   ]
  },
  {
   "cell_type": "code",
   "execution_count": 23,
   "id": "e0163366",
   "metadata": {
    "execution": {
     "iopub.execute_input": "2021-10-05T20:08:36.694373Z",
     "iopub.status.busy": "2021-10-05T20:08:36.693799Z",
     "iopub.status.idle": "2021-10-05T20:08:50.989001Z",
     "shell.execute_reply": "2021-10-05T20:08:50.989733Z"
    },
    "papermill": {
     "duration": 14.343524,
     "end_time": "2021-10-05T20:08:50.989886",
     "exception": false,
     "start_time": "2021-10-05T20:08:36.646362",
     "status": "completed"
    },
    "tags": []
   },
   "outputs": [
    {
     "name": "stdout",
     "output_type": "stream",
     "text": [
      "Epoch 0, Loss 0.2231\n",
      "Training Accuracy: 0.7463, Testing Accuracy: 0.7777\n",
      "\n"
     ]
    },
    {
     "name": "stdout",
     "output_type": "stream",
     "text": [
      "Epoch 10, Loss 0.1018\n",
      "Training Accuracy: 0.9083, Testing Accuracy: 0.9178\n",
      "\n"
     ]
    },
    {
     "name": "stdout",
     "output_type": "stream",
     "text": [
      "Epoch 20, Loss 0.0789\n",
      "Training Accuracy: 0.9265, Testing Accuracy: 0.9380\n",
      "\n"
     ]
    },
    {
     "name": "stdout",
     "output_type": "stream",
     "text": [
      "Epoch 30, Loss 0.0682\n",
      "Training Accuracy: 0.9350, Testing Accuracy: 0.9446\n",
      "\n"
     ]
    },
    {
     "name": "stdout",
     "output_type": "stream",
     "text": [
      "Epoch 40, Loss 0.0617\n",
      "Training Accuracy: 0.9391, Testing Accuracy: 0.9506\n",
      "\n"
     ]
    },
    {
     "name": "stdout",
     "output_type": "stream",
     "text": [
      "Epoch 50, Loss 0.0573\n",
      "Training Accuracy: 0.9436, Testing Accuracy: 0.9551\n",
      "\n"
     ]
    },
    {
     "name": "stdout",
     "output_type": "stream",
     "text": [
      "Epoch 60, Loss 0.054\n",
      "Training Accuracy: 0.9468, Testing Accuracy: 0.9572\n",
      "\n"
     ]
    },
    {
     "name": "stdout",
     "output_type": "stream",
     "text": [
      "Epoch 70, Loss 0.0515\n",
      "Training Accuracy: 0.9488, Testing Accuracy: 0.9587\n",
      "\n"
     ]
    },
    {
     "name": "stdout",
     "output_type": "stream",
     "text": [
      "Epoch 80, Loss 0.0495\n",
      "Training Accuracy: 0.9507, Testing Accuracy: 0.9602\n",
      "\n"
     ]
    },
    {
     "name": "stdout",
     "output_type": "stream",
     "text": [
      "Epoch 90, Loss 0.0478\n",
      "Training Accuracy: 0.9520, Testing Accuracy: 0.9617\n",
      "\n"
     ]
    },
    {
     "name": "stdout",
     "output_type": "stream",
     "text": [
      "Epoch 100, Loss 0.0464\n",
      "Training Accuracy: 0.9533, Testing Accuracy: 0.9617\n",
      "\n"
     ]
    },
    {
     "name": "stdout",
     "output_type": "stream",
     "text": [
      "Epoch 110, Loss 0.0452\n",
      "Training Accuracy: 0.9540, Testing Accuracy: 0.9632\n",
      "\n"
     ]
    },
    {
     "name": "stdout",
     "output_type": "stream",
     "text": [
      "Epoch 120, Loss 0.0441\n",
      "Training Accuracy: 0.9551, Testing Accuracy: 0.9637\n",
      "\n"
     ]
    },
    {
     "name": "stdout",
     "output_type": "stream",
     "text": [
      "Epoch 130, Loss 0.0432\n",
      "Training Accuracy: 0.9555, Testing Accuracy: 0.9642\n",
      "\n"
     ]
    },
    {
     "name": "stdout",
     "output_type": "stream",
     "text": [
      "Epoch 140, Loss 0.0423\n",
      "Training Accuracy: 0.9561, Testing Accuracy: 0.9642\n",
      "\n"
     ]
    },
    {
     "name": "stdout",
     "output_type": "stream",
     "text": [
      "Epoch 150, Loss 0.0416\n",
      "Training Accuracy: 0.9564, Testing Accuracy: 0.9647\n",
      "\n"
     ]
    },
    {
     "name": "stdout",
     "output_type": "stream",
     "text": [
      "Epoch 160, Loss 0.0409\n",
      "Training Accuracy: 0.9571, Testing Accuracy: 0.9657\n",
      "\n"
     ]
    },
    {
     "name": "stdout",
     "output_type": "stream",
     "text": [
      "Epoch 170, Loss 0.0403\n",
      "Training Accuracy: 0.9580, Testing Accuracy: 0.9657\n",
      "\n"
     ]
    },
    {
     "name": "stdout",
     "output_type": "stream",
     "text": [
      "Epoch 180, Loss 0.0397\n",
      "Training Accuracy: 0.9583, Testing Accuracy: 0.9667\n",
      "\n"
     ]
    },
    {
     "name": "stdout",
     "output_type": "stream",
     "text": [
      "Epoch 190, Loss 0.0392\n",
      "Training Accuracy: 0.9585, Testing Accuracy: 0.9672\n",
      "\n"
     ]
    },
    {
     "name": "stdout",
     "output_type": "stream",
     "text": [
      "Epoch 200, Loss 0.0387\n",
      "Training Accuracy: 0.9590, Testing Accuracy: 0.9677\n",
      "\n"
     ]
    },
    {
     "name": "stdout",
     "output_type": "stream",
     "text": [
      "Epoch 210, Loss 0.0383\n",
      "Training Accuracy: 0.9591, Testing Accuracy: 0.9677\n",
      "\n"
     ]
    },
    {
     "name": "stdout",
     "output_type": "stream",
     "text": [
      "Epoch 220, Loss 0.0379\n",
      "Training Accuracy: 0.9594, Testing Accuracy: 0.9677\n",
      "\n"
     ]
    },
    {
     "name": "stdout",
     "output_type": "stream",
     "text": [
      "Epoch 230, Loss 0.0375\n",
      "Training Accuracy: 0.9599, Testing Accuracy: 0.9677\n",
      "\n"
     ]
    },
    {
     "name": "stdout",
     "output_type": "stream",
     "text": [
      "Epoch 240, Loss 0.0371\n",
      "Training Accuracy: 0.9602, Testing Accuracy: 0.9677\n",
      "\n"
     ]
    },
    {
     "data": {
      "text/plain": [
       "0.0156583522058538"
      ]
     },
     "execution_count": 23,
     "metadata": {},
     "output_type": "execute_result"
    }
   ],
   "source": [
    "lr_learner.train_loop(dl)"
   ]
  },
  {
   "cell_type": "code",
   "execution_count": 24,
   "id": "ca410940",
   "metadata": {
    "execution": {
     "iopub.execute_input": "2021-10-05T20:08:51.085991Z",
     "iopub.status.busy": "2021-10-05T20:08:51.085459Z",
     "iopub.status.idle": "2021-10-05T20:08:51.315634Z",
     "shell.execute_reply": "2021-10-05T20:08:51.315136Z"
    },
    "papermill": {
     "duration": 0.284388,
     "end_time": "2021-10-05T20:08:51.315773",
     "exception": false,
     "start_time": "2021-10-05T20:08:51.031385",
     "status": "completed"
    },
    "tags": []
   },
   "outputs": [
    {
     "data": {
      "text/plain": [
       "<matplotlib.legend.Legend at 0x7f16048a7908>"
      ]
     },
     "execution_count": 24,
     "metadata": {},
     "output_type": "execute_result"
    },
    {
     "data": {
      "image/png": "[encoded data removed]",
      "text/plain": [
       "<Figure size 1080x720 with 1 Axes>"
      ]
     },
     "metadata": {
      "needs_background": "light"
     },
     "output_type": "display_data"
    }
   ],
   "source": [
    "#comparing the results of NN and LR\n",
    "plt.figure(figsize=(15,10))\n",
    "\n",
    "# Neural Network plots\n",
    "plt.plot(acc_nn.accuracies, 'r-', label = \"Training Accuracies - NN\")\n",
    "plt.plot(acc_nn.test_accuracies, 'g-', label = \"Testing Accuracies - NN\")\n",
    "\n",
    "# Logistic Regression plots\n",
    "plt.plot(acc_lr.accuracies, 'k-', label = \"Training Accuracies - LR\")\n",
    "plt.plot(acc_lr.test_accuracies, 'b-', label = \"Testing Accuracies - LR\")\n",
    "plt.legend()"
   ]
  },
  {
   "cell_type": "markdown",
   "id": "80dfb35c",
   "metadata": {
    "papermill": {
     "duration": 0.041977,
     "end_time": "2021-10-05T20:08:51.400485",
     "exception": false,
     "start_time": "2021-10-05T20:08:51.358508",
     "status": "completed"
    },
    "tags": []
   },
   "source": [
    "#### Plotting the outputs of this layer of the NN.\n"
   ]
  },
  {
   "cell_type": "code",
   "execution_count": 25,
   "id": "45eb2ff5",
   "metadata": {
    "execution": {
     "iopub.execute_input": "2021-10-05T20:08:51.490518Z",
     "iopub.status.busy": "2021-10-05T20:08:51.489983Z",
     "iopub.status.idle": "2021-10-05T20:08:51.508708Z",
     "shell.execute_reply": "2021-10-05T20:08:51.509166Z"
    },
    "papermill": {
     "duration": 0.066973,
     "end_time": "2021-10-05T20:08:51.509311",
     "exception": false,
     "start_time": "2021-10-05T20:08:51.442338",
     "status": "completed"
    },
    "tags": []
   },
   "outputs": [],
   "source": [
    "new_model = Model(layers[:-2])\n",
    "testing_plot = new_model(testing_data_x)"
   ]
  },
  {
   "cell_type": "code",
   "execution_count": 26,
   "id": "4c0a5485",
   "metadata": {
    "execution": {
     "iopub.execute_input": "2021-10-05T20:08:51.612191Z",
     "iopub.status.busy": "2021-10-05T20:08:51.611666Z",
     "iopub.status.idle": "2021-10-05T20:08:51.823055Z",
     "shell.execute_reply": "2021-10-05T20:08:51.823628Z"
    },
    "papermill": {
     "duration": 0.263815,
     "end_time": "2021-10-05T20:08:51.823783",
     "exception": false,
     "start_time": "2021-10-05T20:08:51.559968",
     "status": "completed"
    },
    "tags": []
   },
   "outputs": [
    {
     "data": {
      "text/plain": [
       "Text(0.5, 1.0, 'Outputs')"
      ]
     },
     "execution_count": 26,
     "metadata": {},
     "output_type": "execute_result"
    },
    {
     "data": {
      "image/png": "[encoded data removed]",
      "text/plain": [
       "<Figure size 576x504 with 1 Axes>"
      ]
     },
     "metadata": {
      "needs_background": "light"
     },
     "output_type": "display_data"
    }
   ],
   "source": [
    "# Plotting the scatter plot of points and color coding by class\n",
    "plt.figure(figsize=(8,7))\n",
    "plt.scatter(testing_plot[:,0], testing_plot[:,1], alpha = 0.1, c = y_test.ravel());\n",
    "plt.title('Outputs')"
   ]
  },
  {
   "cell_type": "markdown",
   "id": "a74fcf8f",
   "metadata": {
    "papermill": {
     "duration": 0.045012,
     "end_time": "2021-10-05T20:08:51.914108",
     "exception": false,
     "start_time": "2021-10-05T20:08:51.869096",
     "status": "completed"
    },
    "tags": []
   },
   "source": [
    "Probability contours"
   ]
  },
  {
   "cell_type": "code",
   "execution_count": 27,
   "id": "d0afc8e3",
   "metadata": {
    "execution": {
     "iopub.execute_input": "2021-10-05T20:08:52.008340Z",
     "iopub.status.busy": "2021-10-05T20:08:52.007825Z",
     "iopub.status.idle": "2021-10-05T20:08:52.019301Z",
     "shell.execute_reply": "2021-10-05T20:08:52.019688Z"
    },
    "papermill": {
     "duration": 0.060478,
     "end_time": "2021-10-05T20:08:52.019828",
     "exception": false,
     "start_time": "2021-10-05T20:08:51.959350",
     "status": "completed"
    },
    "tags": []
   },
   "outputs": [],
   "source": [
    "model_prob = Model(layers[-2:]) "
   ]
  },
  {
   "cell_type": "code",
   "execution_count": 28,
   "id": "9b96e238",
   "metadata": {
    "execution": {
     "iopub.execute_input": "2021-10-05T20:08:52.130433Z",
     "iopub.status.busy": "2021-10-05T20:08:52.129859Z",
     "iopub.status.idle": "2021-10-05T20:08:52.136101Z",
     "shell.execute_reply": "2021-10-05T20:08:52.135583Z"
    },
    "papermill": {
     "duration": 0.071074,
     "end_time": "2021-10-05T20:08:52.136221",
     "exception": false,
     "start_time": "2021-10-05T20:08:52.065147",
     "status": "completed"
    },
    "tags": []
   },
   "outputs": [],
   "source": [
    "#creating the x and y ranges according to the above generated plot.\n",
    "x_range = np.linspace(-4, 1, 100) \n",
    "y_range = np.linspace(-6, 6, 100) \n",
    "x_grid, y_grid = np.meshgrid(x_range, y_range) # x_grid and y_grig are of size 100 X 100\n",
    "\n",
    "# converting x_grid and y_grid to continuous arrays\n",
    "x_gridflat = np.ravel(x_grid)\n",
    "y_gridflat = np.ravel(y_grid)\n",
    "\n",
    "# The last layer of the current model takes two columns as input. Hence transpose of np.vstack() is required.\n",
    "X = np.vstack((x_gridflat, y_gridflat)).T\n",
    "\n",
    "prob_contour = model_prob(X).reshape(100,100) "
   ]
  },
  {
   "cell_type": "code",
   "execution_count": 29,
   "id": "da72499a",
   "metadata": {
    "execution": {
     "iopub.execute_input": "2021-10-05T20:08:52.241765Z",
     "iopub.status.busy": "2021-10-05T20:08:52.241217Z",
     "iopub.status.idle": "2021-10-05T20:08:52.495611Z",
     "shell.execute_reply": "2021-10-05T20:08:52.495113Z"
    },
    "papermill": {
     "duration": 0.306247,
     "end_time": "2021-10-05T20:08:52.495751",
     "exception": false,
     "start_time": "2021-10-05T20:08:52.189504",
     "status": "completed"
    },
    "tags": []
   },
   "outputs": [
    {
     "data": {
      "image/png": "[encoded data removed]",
      "text/plain": [
       "<Figure size 720x648 with 1 Axes>"
      ]
     },
     "metadata": {
      "needs_background": "light"
     },
     "output_type": "display_data"
    }
   ],
   "source": [
    "plt.figure(figsize=(10,9))\n",
    "plt.scatter(testing_plot[:,0], testing_plot[:,1], alpha = 0.1, c = y_test.ravel())\n",
    "contours = plt.contour(x_grid,y_grid,prob_contour)\n",
    "plt.title('Probability Contours')\n",
    "plt.clabel(contours, inline = True );"
   ]
  },
  {
   "cell_type": "code",
   "execution_count": null,
   "id": "e81b4ac7",
   "metadata": {
    "papermill": {
     "duration": 0.048486,
     "end_time": "2021-10-05T20:08:52.629832",
     "exception": false,
     "start_time": "2021-10-05T20:08:52.581346",
     "status": "completed"
    },
    "tags": []
   },
   "outputs": [],
   "source": []
  }
 ],
 "metadata": {
  "kernelspec": {
   "display_name": "Python 3",
   "language": "python",
   "name": "python3"
  },
  "language_info": {
   "codemirror_mode": {
    "name": "ipython",
    "version": 3
   },
   "file_extension": ".py",
   "mimetype": "text/x-python",
   "name": "python",
   "nbconvert_exporter": "python",
   "pygments_lexer": "ipython3",
   "version": "3.6.15"
  },
  "papermill": {
   "default_parameters": {},
   "duration": 103.067491,
   "end_time": "2021-10-05T20:08:53.087048",
   "environment_variables": {},
   "exception": null,
   "input_path": "2020-08-11-part2.ipynb",
   "output_path": "2020-08-11-part2.ipynb",
   "parameters": {},
   "start_time": "2021-10-05T20:07:10.019557",
   "version": "2.3.3"
  }
 },
 "nbformat": 4,
 "nbformat_minor": 5
}