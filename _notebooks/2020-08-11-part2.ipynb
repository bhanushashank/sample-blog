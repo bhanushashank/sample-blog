{
 "cells": [
  {
   "cell_type": "markdown",
   "id": "98380cd3",
   "metadata": {
    "papermill": {
     "duration": 0.029869,
     "end_time": "2022-10-04T00:57:59.790390",
     "exception": false,
     "start_time": "2022-10-04T00:57:59.760521",
     "status": "completed"
    },
    "tags": []
   },
   "source": [
    "# Distinguish Your Own Digits (DYOD)"
   ]
  },
  {
   "cell_type": "markdown",
   "id": "ef31240d",
   "metadata": {
    "papermill": {
     "duration": 0.023799,
     "end_time": "2022-10-04T00:57:59.843085",
     "exception": false,
     "start_time": "2022-10-04T00:57:59.819286",
     "status": "completed"
    },
    "tags": []
   },
   "source": [
    "You are going to write a classifier that distinguishes between the number 3 and number 8."
   ]
  },
  {
   "cell_type": "code",
   "execution_count": 1,
   "id": "b15c8646",
   "metadata": {
    "execution": {
     "iopub.execute_input": "2022-10-04T00:57:59.900968Z",
     "iopub.status.busy": "2022-10-04T00:57:59.900340Z",
     "iopub.status.idle": "2022-10-04T00:57:59.912418Z",
     "shell.execute_reply": "2022-10-04T00:57:59.912913Z"
    },
    "papermill": {
     "duration": 0.046393,
     "end_time": "2022-10-04T00:57:59.913060",
     "exception": false,
     "start_time": "2022-10-04T00:57:59.866667",
     "status": "completed"
    },
    "tags": []
   },
   "outputs": [],
   "source": [
    "%load_ext autoreload\n",
    "%autoreload 2"
   ]
  },
  {
   "cell_type": "code",
   "execution_count": 2,
   "id": "22ef38dc",
   "metadata": {
    "execution": {
     "iopub.execute_input": "2022-10-04T00:57:59.964327Z",
     "iopub.status.busy": "2022-10-04T00:57:59.963734Z",
     "iopub.status.idle": "2022-10-04T00:58:00.488027Z",
     "shell.execute_reply": "2022-10-04T00:58:00.488553Z"
    },
    "papermill": {
     "duration": 0.551899,
     "end_time": "2022-10-04T00:58:00.488717",
     "exception": false,
     "start_time": "2022-10-04T00:57:59.936818",
     "status": "completed"
    },
    "tags": []
   },
   "outputs": [],
   "source": [
    "%matplotlib inline\n",
    "import numpy as np\n",
    "import matplotlib.pyplot as plt\n",
    "import pandas as pd"
   ]
  },
  {
   "cell_type": "markdown",
   "id": "ba036198",
   "metadata": {
    "papermill": {
     "duration": 0.023619,
     "end_time": "2022-10-04T00:58:00.541213",
     "exception": false,
     "start_time": "2022-10-04T00:58:00.517594",
     "status": "completed"
    },
    "tags": []
   },
   "source": [
    "From the command line run `pip install mnist`. This is a library that will help you bring down the mnist dataset. If you run this from a notebook, you need to put  `!pip install mnist` in a cell by itself."
   ]
  },
  {
   "cell_type": "code",
   "execution_count": 3,
   "id": "bb6ad8a1",
   "metadata": {
    "execution": {
     "iopub.execute_input": "2022-10-04T00:58:00.594008Z",
     "iopub.status.busy": "2022-10-04T00:58:00.591697Z",
     "iopub.status.idle": "2022-10-04T00:58:02.152319Z",
     "shell.execute_reply": "2022-10-04T00:58:02.151715Z"
    },
    "papermill": {
     "duration": 1.587496,
     "end_time": "2022-10-04T00:58:02.152451",
     "exception": false,
     "start_time": "2022-10-04T00:58:00.564955",
     "status": "completed"
    },
    "tags": []
   },
   "outputs": [
    {
     "name": "stdout",
     "output_type": "stream",
     "text": [
      "Collecting mnist\r\n",
      "  Downloading mnist-0.2.2-py2.py3-none-any.whl (3.5 kB)\r\n",
      "Requirement already satisfied: numpy in /opt/hostedtoolcache/Python/3.6.15/x64/lib/python3.6/site-packages (from mnist) (1.19.5)\r\n"
     ]
    },
    {
     "name": "stdout",
     "output_type": "stream",
     "text": [
      "Installing collected packages: mnist\r\n"
     ]
    },
    {
     "name": "stdout",
     "output_type": "stream",
     "text": [
      "Successfully installed mnist-0.2.2\r\n"
     ]
    }
   ],
   "source": [
    "!pip install mnist"
   ]
  },
  {
   "cell_type": "markdown",
   "id": "69df9c9a",
   "metadata": {
    "papermill": {
     "duration": 0.024691,
     "end_time": "2022-10-04T00:58:02.202980",
     "exception": false,
     "start_time": "2022-10-04T00:58:02.178289",
     "status": "completed"
    },
    "tags": []
   },
   "source": [
    "## Preparing the Data"
   ]
  },
  {
   "cell_type": "code",
   "execution_count": 4,
   "id": "7f69d806",
   "metadata": {
    "execution": {
     "iopub.execute_input": "2022-10-04T00:58:02.255893Z",
     "iopub.status.busy": "2022-10-04T00:58:02.255310Z",
     "iopub.status.idle": "2022-10-04T00:58:02.270874Z",
     "shell.execute_reply": "2022-10-04T00:58:02.270397Z"
    },
    "papermill": {
     "duration": 0.043264,
     "end_time": "2022-10-04T00:58:02.270976",
     "exception": false,
     "start_time": "2022-10-04T00:58:02.227712",
     "status": "completed"
    },
    "tags": []
   },
   "outputs": [],
   "source": [
    "import mnist"
   ]
  },
  {
   "cell_type": "code",
   "execution_count": 5,
   "id": "a411e44f",
   "metadata": {
    "execution": {
     "iopub.execute_input": "2022-10-04T00:58:02.323263Z",
     "iopub.status.busy": "2022-10-04T00:58:02.322687Z",
     "iopub.status.idle": "2022-10-04T00:58:02.875783Z",
     "shell.execute_reply": "2022-10-04T00:58:02.875241Z"
    },
    "papermill": {
     "duration": 0.58058,
     "end_time": "2022-10-04T00:58:02.875903",
     "exception": false,
     "start_time": "2022-10-04T00:58:02.295323",
     "status": "completed"
    },
    "tags": []
   },
   "outputs": [],
   "source": [
    "train_images = mnist.train_images()\n",
    "train_labels = mnist.train_labels()"
   ]
  },
  {
   "cell_type": "code",
   "execution_count": 6,
   "id": "dceab3a5",
   "metadata": {
    "execution": {
     "iopub.execute_input": "2022-10-04T00:58:02.929145Z",
     "iopub.status.busy": "2022-10-04T00:58:02.928513Z",
     "iopub.status.idle": "2022-10-04T00:58:02.943712Z",
     "shell.execute_reply": "2022-10-04T00:58:02.943234Z"
    },
    "papermill": {
     "duration": 0.04292,
     "end_time": "2022-10-04T00:58:02.943818",
     "exception": false,
     "start_time": "2022-10-04T00:58:02.900898",
     "status": "completed"
    },
    "tags": []
   },
   "outputs": [
    {
     "data": {
      "text/plain": [
       "((60000, 28, 28), (60000,))"
      ]
     },
     "execution_count": 6,
     "metadata": {},
     "output_type": "execute_result"
    }
   ],
   "source": [
    "train_images.shape, train_labels.shape"
   ]
  },
  {
   "cell_type": "code",
   "execution_count": 7,
   "id": "f50dc2bb",
   "metadata": {
    "execution": {
     "iopub.execute_input": "2022-10-04T00:58:02.996581Z",
     "iopub.status.busy": "2022-10-04T00:58:02.996008Z",
     "iopub.status.idle": "2022-10-04T00:58:03.168452Z",
     "shell.execute_reply": "2022-10-04T00:58:03.167101Z"
    },
    "papermill": {
     "duration": 0.200107,
     "end_time": "2022-10-04T00:58:03.168594",
     "exception": false,
     "start_time": "2022-10-04T00:58:02.968487",
     "status": "completed"
    },
    "tags": []
   },
   "outputs": [],
   "source": [
    "test_images = mnist.test_images()\n",
    "test_labels = mnist.test_labels()"
   ]
  },
  {
   "cell_type": "code",
   "execution_count": 8,
   "id": "fc38cf1b",
   "metadata": {
    "execution": {
     "iopub.execute_input": "2022-10-04T00:58:03.226658Z",
     "iopub.status.busy": "2022-10-04T00:58:03.226067Z",
     "iopub.status.idle": "2022-10-04T00:58:03.239724Z",
     "shell.execute_reply": "2022-10-04T00:58:03.239245Z"
    },
    "papermill": {
     "duration": 0.046047,
     "end_time": "2022-10-04T00:58:03.239830",
     "exception": false,
     "start_time": "2022-10-04T00:58:03.193783",
     "status": "completed"
    },
    "tags": []
   },
   "outputs": [
    {
     "data": {
      "text/plain": [
       "((10000, 28, 28), (10000,))"
      ]
     },
     "execution_count": 8,
     "metadata": {},
     "output_type": "execute_result"
    }
   ],
   "source": [
    "test_images.shape, test_labels.shape"
   ]
  },
  {
   "cell_type": "code",
   "execution_count": 9,
   "id": "f9ed8fe0",
   "metadata": {
    "execution": {
     "iopub.execute_input": "2022-10-04T00:58:03.298050Z",
     "iopub.status.busy": "2022-10-04T00:58:03.297475Z",
     "iopub.status.idle": "2022-10-04T00:58:03.428336Z",
     "shell.execute_reply": "2022-10-04T00:58:03.428827Z"
    },
    "papermill": {
     "duration": 0.164136,
     "end_time": "2022-10-04T00:58:03.428966",
     "exception": false,
     "start_time": "2022-10-04T00:58:03.264830",
     "status": "completed"
    },
    "tags": []
   },
   "outputs": [
    {
     "name": "stdout",
     "output_type": "stream",
     "text": [
      "2\n"
     ]
    },
    {
     "data": {
      "text/plain": [
       "<matplotlib.image.AxesImage at 0x7f2922f86cf8>"
      ]
     },
     "execution_count": 9,
     "metadata": {},
     "output_type": "execute_result"
    },
    {
     "data": {
      "image/png": "[encoded data removed]",
      "text/plain": [
       "<Figure size 432x288 with 1 Axes>"
      ]
     },
     "metadata": {
      "needs_background": "light"
     },
     "output_type": "display_data"
    }
   ],
   "source": [
    "image_index = 7776 # You may select anything up to 60,000\n",
    "print(train_labels[image_index]) \n",
    "plt.imshow(train_images[image_index], cmap='Greys')"
   ]
  },
  {
   "cell_type": "markdown",
   "id": "a8d2388d",
   "metadata": {
    "papermill": {
     "duration": 0.026595,
     "end_time": "2022-10-04T00:58:03.481902",
     "exception": false,
     "start_time": "2022-10-04T00:58:03.455307",
     "status": "completed"
    },
    "tags": []
   },
   "source": [
    "## Filter data to get 3 and 8 out"
   ]
  },
  {
   "cell_type": "code",
   "execution_count": 10,
   "id": "776f7fc7",
   "metadata": {
    "execution": {
     "iopub.execute_input": "2022-10-04T00:58:03.538334Z",
     "iopub.status.busy": "2022-10-04T00:58:03.537733Z",
     "iopub.status.idle": "2022-10-04T00:58:03.556321Z",
     "shell.execute_reply": "2022-10-04T00:58:03.555731Z"
    },
    "papermill": {
     "duration": 0.048439,
     "end_time": "2022-10-04T00:58:03.556431",
     "exception": false,
     "start_time": "2022-10-04T00:58:03.507992",
     "status": "completed"
    },
    "tags": []
   },
   "outputs": [],
   "source": [
    "train_filter = np.where((train_labels == 3 ) | (train_labels == 8))\n",
    "test_filter = np.where((test_labels == 3) | (test_labels == 8))\n",
    "X_train, y_train = train_images[train_filter], train_labels[train_filter]\n",
    "X_test, y_test = test_images[test_filter], test_labels[test_filter]"
   ]
  },
  {
   "cell_type": "markdown",
   "id": "948f0b7e",
   "metadata": {
    "papermill": {
     "duration": 0.026344,
     "end_time": "2022-10-04T00:58:03.609125",
     "exception": false,
     "start_time": "2022-10-04T00:58:03.582781",
     "status": "completed"
    },
    "tags": []
   },
   "source": [
    "We normalize the pizel values in the 0 to 1 range"
   ]
  },
  {
   "cell_type": "code",
   "execution_count": 11,
   "id": "ee4c2166",
   "metadata": {
    "execution": {
     "iopub.execute_input": "2022-10-04T00:58:03.664669Z",
     "iopub.status.busy": "2022-10-04T00:58:03.664079Z",
     "iopub.status.idle": "2022-10-04T00:58:03.711415Z",
     "shell.execute_reply": "2022-10-04T00:58:03.711872Z"
    },
    "papermill": {
     "duration": 0.076822,
     "end_time": "2022-10-04T00:58:03.712017",
     "exception": false,
     "start_time": "2022-10-04T00:58:03.635195",
     "status": "completed"
    },
    "tags": []
   },
   "outputs": [],
   "source": [
    "X_train = X_train/255.\n",
    "X_test = X_test/255."
   ]
  },
  {
   "cell_type": "markdown",
   "id": "ddcf4fab",
   "metadata": {
    "papermill": {
     "duration": 0.026575,
     "end_time": "2022-10-04T00:58:03.765136",
     "exception": false,
     "start_time": "2022-10-04T00:58:03.738561",
     "status": "completed"
    },
    "tags": []
   },
   "source": [
    "And setup the labels as 1 (when the digit is 3) and 0 (when the digit is 8)"
   ]
  },
  {
   "cell_type": "code",
   "execution_count": 12,
   "id": "7dc908f2",
   "metadata": {
    "execution": {
     "iopub.execute_input": "2022-10-04T00:58:03.830215Z",
     "iopub.status.busy": "2022-10-04T00:58:03.829619Z",
     "iopub.status.idle": "2022-10-04T00:58:03.840206Z",
     "shell.execute_reply": "2022-10-04T00:58:03.840632Z"
    },
    "papermill": {
     "duration": 0.048249,
     "end_time": "2022-10-04T00:58:03.840780",
     "exception": false,
     "start_time": "2022-10-04T00:58:03.792531",
     "status": "completed"
    },
    "tags": []
   },
   "outputs": [],
   "source": [
    "y_train = 1*(y_train==3)\n",
    "y_test = 1*(y_test==3)"
   ]
  },
  {
   "cell_type": "code",
   "execution_count": 13,
   "id": "01e4e969",
   "metadata": {
    "execution": {
     "iopub.execute_input": "2022-10-04T00:58:03.897081Z",
     "iopub.status.busy": "2022-10-04T00:58:03.896462Z",
     "iopub.status.idle": "2022-10-04T00:58:03.909651Z",
     "shell.execute_reply": "2022-10-04T00:58:03.910131Z"
    },
    "papermill": {
     "duration": 0.04327,
     "end_time": "2022-10-04T00:58:03.910250",
     "exception": false,
     "start_time": "2022-10-04T00:58:03.866980",
     "status": "completed"
    },
    "tags": []
   },
   "outputs": [
    {
     "data": {
      "text/plain": [
       "((11982, 28, 28), (1984, 28, 28))"
      ]
     },
     "execution_count": 13,
     "metadata": {},
     "output_type": "execute_result"
    }
   ],
   "source": [
    "X_train.shape, X_test.shape"
   ]
  },
  {
   "cell_type": "markdown",
   "id": "5ccf3f85",
   "metadata": {
    "papermill": {
     "duration": 0.026156,
     "end_time": "2022-10-04T00:58:03.962568",
     "exception": false,
     "start_time": "2022-10-04T00:58:03.936412",
     "status": "completed"
    },
    "tags": []
   },
   "source": [
    "We reshape the data to flatten the image pixels into a set of features or co-variates:"
   ]
  },
  {
   "cell_type": "code",
   "execution_count": 14,
   "id": "5286a4a3",
   "metadata": {
    "execution": {
     "iopub.execute_input": "2022-10-04T00:58:04.030394Z",
     "iopub.status.busy": "2022-10-04T00:58:04.025478Z",
     "iopub.status.idle": "2022-10-04T00:58:04.038415Z",
     "shell.execute_reply": "2022-10-04T00:58:04.037936Z"
    },
    "papermill": {
     "duration": 0.04963,
     "end_time": "2022-10-04T00:58:04.038519",
     "exception": false,
     "start_time": "2022-10-04T00:58:03.988889",
     "status": "completed"
    },
    "tags": []
   },
   "outputs": [
    {
     "data": {
      "text/plain": [
       "((11982, 784), (1984, 784))"
      ]
     },
     "execution_count": 14,
     "metadata": {},
     "output_type": "execute_result"
    }
   ],
   "source": [
    "X_train = X_train.reshape(X_train.shape[0], -1)\n",
    "X_test = X_test.reshape(X_test.shape[0], -1)\n",
    "X_train.shape, X_test.shape"
   ]
  },
  {
   "cell_type": "code",
   "execution_count": 15,
   "id": "73c5f88a",
   "metadata": {
    "execution": {
     "iopub.execute_input": "2022-10-04T00:58:04.096265Z",
     "iopub.status.busy": "2022-10-04T00:58:04.095677Z",
     "iopub.status.idle": "2022-10-04T00:58:04.113188Z",
     "shell.execute_reply": "2022-10-04T00:58:04.113614Z"
    },
    "papermill": {
     "duration": 0.048591,
     "end_time": "2022-10-04T00:58:04.113736",
     "exception": false,
     "start_time": "2022-10-04T00:58:04.065145",
     "status": "completed"
    },
    "tags": []
   },
   "outputs": [],
   "source": [
    "#Impoting functions from 'Kudzu'\n",
    "from kudzu.model import Model\n",
    "from kudzu.train import Learner\n",
    "from kudzu.optim import GD\n",
    "from kudzu.data import Data, Sampler,Dataloader\n",
    "\n",
    "from kudzu.callbacks import AccCallback\n",
    "from kudzu.callbacks import ClfCallback\n",
    "\n",
    "from kudzu.loss import MSE\n",
    "\n",
    "from kudzu.layer import Sigmoid,Relu\n",
    "from kudzu.layer import Affine"
   ]
  },
  {
   "cell_type": "markdown",
   "id": "bc01172a",
   "metadata": {
    "papermill": {
     "duration": 0.026786,
     "end_time": "2022-10-04T00:58:04.167162",
     "exception": false,
     "start_time": "2022-10-04T00:58:04.140376",
     "status": "completed"
    },
    "tags": []
   },
   "source": [
    "### Let us create a `Config` class, to store important parameters. \n",
    "This class essentially plays the role of a dictionary."
   ]
  },
  {
   "cell_type": "code",
   "execution_count": 16,
   "id": "978281aa",
   "metadata": {
    "execution": {
     "iopub.execute_input": "2022-10-04T00:58:04.230344Z",
     "iopub.status.busy": "2022-10-04T00:58:04.229754Z",
     "iopub.status.idle": "2022-10-04T00:58:04.242729Z",
     "shell.execute_reply": "2022-10-04T00:58:04.242254Z"
    },
    "papermill": {
     "duration": 0.046979,
     "end_time": "2022-10-04T00:58:04.242830",
     "exception": false,
     "start_time": "2022-10-04T00:58:04.195851",
     "status": "completed"
    },
    "tags": []
   },
   "outputs": [],
   "source": [
    "class Config:\n",
    "    pass\n",
    "config = Config()\n",
    "config.lr = 0.001\n",
    "config.num_epochs = 250\n",
    "config.bs = 50"
   ]
  },
  {
   "cell_type": "markdown",
   "id": "1385fa59",
   "metadata": {
    "papermill": {
     "duration": 0.026454,
     "end_time": "2022-10-04T00:58:04.295872",
     "exception": false,
     "start_time": "2022-10-04T00:58:04.269418",
     "status": "completed"
    },
    "tags": []
   },
   "source": [
    "### Running Models with the Training data\n",
    "Details about the network layers:\n",
    "- A first affine layer has 784 inputs and does 100 affine transforms. These are followed by a Relu\n",
    "- A second affine layer has 100 inputs from the 100 activations of the past layer, and does 100 affine transforms. These are followed by a Relu\n",
    "- A third affine layer has 100 activations and does 2 affine transformations to create an embedding for visualization. There is no non-linearity here.\n",
    "- A final \"logistic regression\" which has an affine transform from 2 inputs to 1 output, which is squeezed through a sigmoid.\n"
   ]
  },
  {
   "cell_type": "code",
   "execution_count": 17,
   "id": "2b9c66db",
   "metadata": {
    "execution": {
     "iopub.execute_input": "2022-10-04T00:58:04.361721Z",
     "iopub.status.busy": "2022-10-04T00:58:04.353769Z",
     "iopub.status.idle": "2022-10-04T00:58:04.366091Z",
     "shell.execute_reply": "2022-10-04T00:58:04.365617Z"
    },
    "papermill": {
     "duration": 0.042697,
     "end_time": "2022-10-04T00:58:04.366191",
     "exception": false,
     "start_time": "2022-10-04T00:58:04.323494",
     "status": "completed"
    },
    "tags": []
   },
   "outputs": [],
   "source": [
    "data = Data(X_train, y_train.reshape(-1,1))\n",
    "sampler = Sampler(data, config.bs, shuffle=True)\n",
    "\n",
    "dl = Dataloader(data, sampler)\n",
    "\n",
    "opt = GD(config.lr)\n",
    "loss = MSE()"
   ]
  },
  {
   "cell_type": "code",
   "execution_count": 18,
   "id": "b275e4c2",
   "metadata": {
    "execution": {
     "iopub.execute_input": "2022-10-04T00:58:04.422703Z",
     "iopub.status.busy": "2022-10-04T00:58:04.422125Z",
     "iopub.status.idle": "2022-10-04T00:58:04.433299Z",
     "shell.execute_reply": "2022-10-04T00:58:04.433778Z"
    },
    "papermill": {
     "duration": 0.040986,
     "end_time": "2022-10-04T00:58:04.433894",
     "exception": false,
     "start_time": "2022-10-04T00:58:04.392908",
     "status": "completed"
    },
    "tags": []
   },
   "outputs": [],
   "source": [
    "training_data_x = X_train\n",
    "testing_data_x = X_test\n",
    "training_data_y = y_train.reshape(-1,1)\n",
    "testing_data_y = y_test.reshape(-1,1)"
   ]
  },
  {
   "cell_type": "code",
   "execution_count": 19,
   "id": "76951160",
   "metadata": {
    "execution": {
     "iopub.execute_input": "2022-10-04T00:58:04.491540Z",
     "iopub.status.busy": "2022-10-04T00:58:04.490966Z",
     "iopub.status.idle": "2022-10-04T00:58:04.509085Z",
     "shell.execute_reply": "2022-10-04T00:58:04.509509Z"
    },
    "papermill": {
     "duration": 0.049312,
     "end_time": "2022-10-04T00:58:04.509625",
     "exception": false,
     "start_time": "2022-10-04T00:58:04.460313",
     "status": "completed"
    },
    "tags": []
   },
   "outputs": [
    {
     "name": "stdout",
     "output_type": "stream",
     "text": [
      "xavier\n",
      "xavier\n",
      "xavier\n",
      "xavier\n",
      "xavier\n"
     ]
    }
   ],
   "source": [
    "layers = [Affine(\"first\", 784, 100), Relu(\"first\"), Affine(\"second\", 100, 100), Relu(\"second\"), Affine(\"third\", 100, 2), Affine(\"last\", 2, 1), Sigmoid(\"last\")]\n",
    "model_nn = Model(layers)\n",
    "model_lr = Model([Affine(\"logits\", 784, 1), Sigmoid(\"sigmoid\")])"
   ]
  },
  {
   "cell_type": "code",
   "execution_count": 20,
   "id": "6eede77a",
   "metadata": {
    "execution": {
     "iopub.execute_input": "2022-10-04T00:58:04.579598Z",
     "iopub.status.busy": "2022-10-04T00:58:04.570619Z",
     "iopub.status.idle": "2022-10-04T00:58:04.584900Z",
     "shell.execute_reply": "2022-10-04T00:58:04.584099Z"
    },
    "papermill": {
     "duration": 0.046668,
     "end_time": "2022-10-04T00:58:04.585008",
     "exception": false,
     "start_time": "2022-10-04T00:58:04.538340",
     "status": "completed"
    },
    "tags": []
   },
   "outputs": [],
   "source": [
    "nn_learner = Learner(loss, model_nn, opt, config.num_epochs)\n",
    "acc_nn = ClfCallback(nn_learner, config.bs, training_data_x , testing_data_x, training_data_y, testing_data_y)\n",
    "nn_learner.set_callbacks([acc_nn])"
   ]
  },
  {
   "cell_type": "code",
   "execution_count": 21,
   "id": "877b6cc7",
   "metadata": {
    "execution": {
     "iopub.execute_input": "2022-10-04T00:58:04.645220Z",
     "iopub.status.busy": "2022-10-04T00:58:04.644609Z",
     "iopub.status.idle": "2022-10-04T00:58:04.655688Z",
     "shell.execute_reply": "2022-10-04T00:58:04.655219Z"
    },
    "papermill": {
     "duration": 0.044087,
     "end_time": "2022-10-04T00:58:04.655788",
     "exception": false,
     "start_time": "2022-10-04T00:58:04.611701",
     "status": "completed"
    },
    "tags": []
   },
   "outputs": [],
   "source": [
    "lr_learner = Learner(loss, model_lr, opt, config.num_epochs)\n",
    "acc_lr = ClfCallback(lr_learner, config.bs, training_data_x , testing_data_x, training_data_y, testing_data_y)\n",
    "lr_learner.set_callbacks([acc_lr])"
   ]
  },
  {
   "cell_type": "code",
   "execution_count": 22,
   "id": "d9b133c3",
   "metadata": {
    "execution": {
     "iopub.execute_input": "2022-10-04T00:58:04.717745Z",
     "iopub.status.busy": "2022-10-04T00:58:04.713212Z",
     "iopub.status.idle": "2022-10-04T00:59:21.054061Z",
     "shell.execute_reply": "2022-10-04T00:59:21.054910Z"
    },
    "papermill": {
     "duration": 76.372416,
     "end_time": "2022-10-04T00:59:21.055058",
     "exception": false,
     "start_time": "2022-10-04T00:58:04.682642",
     "status": "completed"
    },
    "tags": []
   },
   "outputs": [
    {
     "name": "stdout",
     "output_type": "stream",
     "text": [
      "Epoch 0, Loss 0.2121\n",
      "Training Accuracy: 0.8190, Testing Accuracy: 0.8367\n",
      "\n"
     ]
    },
    {
     "name": "stdout",
     "output_type": "stream",
     "text": [
      "Epoch 10, Loss 0.0558\n",
      "Training Accuracy: 0.9438, Testing Accuracy: 0.9521\n",
      "\n"
     ]
    },
    {
     "name": "stdout",
     "output_type": "stream",
     "text": [
      "Epoch 20, Loss 0.04\n",
      "Training Accuracy: 0.9569, Testing Accuracy: 0.9642\n",
      "\n"
     ]
    },
    {
     "name": "stdout",
     "output_type": "stream",
     "text": [
      "Epoch 30, Loss 0.0336\n",
      "Training Accuracy: 0.9637, Testing Accuracy: 0.9667\n",
      "\n"
     ]
    },
    {
     "name": "stdout",
     "output_type": "stream",
     "text": [
      "Epoch 40, Loss 0.03\n",
      "Training Accuracy: 0.9673, Testing Accuracy: 0.9703\n",
      "\n"
     ]
    },
    {
     "name": "stdout",
     "output_type": "stream",
     "text": [
      "Epoch 50, Loss 0.0276\n",
      "Training Accuracy: 0.9695, Testing Accuracy: 0.9708\n",
      "\n"
     ]
    },
    {
     "name": "stdout",
     "output_type": "stream",
     "text": [
      "Epoch 60, Loss 0.0258\n",
      "Training Accuracy: 0.9711, Testing Accuracy: 0.9718\n",
      "\n"
     ]
    },
    {
     "name": "stdout",
     "output_type": "stream",
     "text": [
      "Epoch 70, Loss 0.0244\n",
      "Training Accuracy: 0.9728, Testing Accuracy: 0.9708\n",
      "\n"
     ]
    },
    {
     "name": "stdout",
     "output_type": "stream",
     "text": [
      "Epoch 80, Loss 0.0232\n",
      "Training Accuracy: 0.9737, Testing Accuracy: 0.9713\n",
      "\n"
     ]
    },
    {
     "name": "stdout",
     "output_type": "stream",
     "text": [
      "Epoch 90, Loss 0.0222\n",
      "Training Accuracy: 0.9740, Testing Accuracy: 0.9713\n",
      "\n"
     ]
    },
    {
     "name": "stdout",
     "output_type": "stream",
     "text": [
      "Epoch 100, Loss 0.0213\n",
      "Training Accuracy: 0.9756, Testing Accuracy: 0.9723\n",
      "\n"
     ]
    },
    {
     "name": "stdout",
     "output_type": "stream",
     "text": [
      "Epoch 110, Loss 0.0205\n",
      "Training Accuracy: 0.9762, Testing Accuracy: 0.9728\n",
      "\n"
     ]
    },
    {
     "name": "stdout",
     "output_type": "stream",
     "text": [
      "Epoch 120, Loss 0.0197\n",
      "Training Accuracy: 0.9775, Testing Accuracy: 0.9748\n",
      "\n"
     ]
    },
    {
     "name": "stdout",
     "output_type": "stream",
     "text": [
      "Epoch 130, Loss 0.0191\n",
      "Training Accuracy: 0.9783, Testing Accuracy: 0.9748\n",
      "\n"
     ]
    },
    {
     "name": "stdout",
     "output_type": "stream",
     "text": [
      "Epoch 140, Loss 0.0184\n",
      "Training Accuracy: 0.9790, Testing Accuracy: 0.9748\n",
      "\n"
     ]
    },
    {
     "name": "stdout",
     "output_type": "stream",
     "text": [
      "Epoch 150, Loss 0.0178\n",
      "Training Accuracy: 0.9799, Testing Accuracy: 0.9763\n",
      "\n"
     ]
    },
    {
     "name": "stdout",
     "output_type": "stream",
     "text": [
      "Epoch 160, Loss 0.0173\n",
      "Training Accuracy: 0.9806, Testing Accuracy: 0.9773\n",
      "\n"
     ]
    },
    {
     "name": "stdout",
     "output_type": "stream",
     "text": [
      "Epoch 170, Loss 0.0168\n",
      "Training Accuracy: 0.9815, Testing Accuracy: 0.9768\n",
      "\n"
     ]
    },
    {
     "name": "stdout",
     "output_type": "stream",
     "text": [
      "Epoch 180, Loss 0.0163\n",
      "Training Accuracy: 0.9820, Testing Accuracy: 0.9773\n",
      "\n"
     ]
    },
    {
     "name": "stdout",
     "output_type": "stream",
     "text": [
      "Epoch 190, Loss 0.0158\n",
      "Training Accuracy: 0.9824, Testing Accuracy: 0.9788\n",
      "\n"
     ]
    },
    {
     "name": "stdout",
     "output_type": "stream",
     "text": [
      "Epoch 200, Loss 0.0154\n",
      "Training Accuracy: 0.9831, Testing Accuracy: 0.9783\n",
      "\n"
     ]
    },
    {
     "name": "stdout",
     "output_type": "stream",
     "text": [
      "Epoch 210, Loss 0.015\n",
      "Training Accuracy: 0.9841, Testing Accuracy: 0.9793\n",
      "\n"
     ]
    },
    {
     "name": "stdout",
     "output_type": "stream",
     "text": [
      "Epoch 220, Loss 0.0146\n",
      "Training Accuracy: 0.9847, Testing Accuracy: 0.9793\n",
      "\n"
     ]
    },
    {
     "name": "stdout",
     "output_type": "stream",
     "text": [
      "Epoch 230, Loss 0.0142\n",
      "Training Accuracy: 0.9855, Testing Accuracy: 0.9798\n",
      "\n"
     ]
    },
    {
     "name": "stdout",
     "output_type": "stream",
     "text": [
      "Epoch 240, Loss 0.0138\n",
      "Training Accuracy: 0.9858, Testing Accuracy: 0.9798\n",
      "\n"
     ]
    },
    {
     "data": {
      "text/plain": [
       "0.0047727046715798985"
      ]
     },
     "execution_count": 22,
     "metadata": {},
     "output_type": "execute_result"
    }
   ],
   "source": [
    "nn_learner.train_loop(dl)"
   ]
  },
  {
   "cell_type": "code",
   "execution_count": 23,
   "id": "e0163366",
   "metadata": {
    "execution": {
     "iopub.execute_input": "2022-10-04T00:59:21.136731Z",
     "iopub.status.busy": "2022-10-04T00:59:21.136139Z",
     "iopub.status.idle": "2022-10-04T00:59:34.581518Z",
     "shell.execute_reply": "2022-10-04T00:59:34.582125Z"
    },
    "papermill": {
     "duration": 13.492212,
     "end_time": "2022-10-04T00:59:34.582268",
     "exception": false,
     "start_time": "2022-10-04T00:59:21.090056",
     "status": "completed"
    },
    "tags": []
   },
   "outputs": [
    {
     "name": "stdout",
     "output_type": "stream",
     "text": [
      "Epoch 0, Loss 0.2325\n",
      "Training Accuracy: 0.7421, Testing Accuracy: 0.7283\n",
      "\n"
     ]
    },
    {
     "name": "stdout",
     "output_type": "stream",
     "text": [
      "Epoch 10, Loss 0.0963\n",
      "Training Accuracy: 0.9236, Testing Accuracy: 0.9304\n",
      "\n"
     ]
    },
    {
     "name": "stdout",
     "output_type": "stream",
     "text": [
      "Epoch 20, Loss 0.0755\n",
      "Training Accuracy: 0.9342, Testing Accuracy: 0.9370\n",
      "\n"
     ]
    },
    {
     "name": "stdout",
     "output_type": "stream",
     "text": [
      "Epoch 30, Loss 0.0659\n",
      "Training Accuracy: 0.9399, Testing Accuracy: 0.9435\n",
      "\n"
     ]
    },
    {
     "name": "stdout",
     "output_type": "stream",
     "text": [
      "Epoch 40, Loss 0.0601\n",
      "Training Accuracy: 0.9438, Testing Accuracy: 0.9501\n",
      "\n"
     ]
    },
    {
     "name": "stdout",
     "output_type": "stream",
     "text": [
      "Epoch 50, Loss 0.056\n",
      "Training Accuracy: 0.9475, Testing Accuracy: 0.9546\n",
      "\n"
     ]
    },
    {
     "name": "stdout",
     "output_type": "stream",
     "text": [
      "Epoch 60, Loss 0.053\n",
      "Training Accuracy: 0.9489, Testing Accuracy: 0.9551\n",
      "\n"
     ]
    },
    {
     "name": "stdout",
     "output_type": "stream",
     "text": [
      "Epoch 70, Loss 0.0506\n",
      "Training Accuracy: 0.9503, Testing Accuracy: 0.9577\n",
      "\n"
     ]
    },
    {
     "name": "stdout",
     "output_type": "stream",
     "text": [
      "Epoch 80, Loss 0.0487\n",
      "Training Accuracy: 0.9516, Testing Accuracy: 0.9587\n",
      "\n"
     ]
    },
    {
     "name": "stdout",
     "output_type": "stream",
     "text": [
      "Epoch 90, Loss 0.0471\n",
      "Training Accuracy: 0.9519, Testing Accuracy: 0.9597\n",
      "\n"
     ]
    },
    {
     "name": "stdout",
     "output_type": "stream",
     "text": [
      "Epoch 100, Loss 0.0458\n",
      "Training Accuracy: 0.9533, Testing Accuracy: 0.9602\n",
      "\n"
     ]
    },
    {
     "name": "stdout",
     "output_type": "stream",
     "text": [
      "Epoch 110, Loss 0.0446\n",
      "Training Accuracy: 0.9541, Testing Accuracy: 0.9617\n",
      "\n"
     ]
    },
    {
     "name": "stdout",
     "output_type": "stream",
     "text": [
      "Epoch 120, Loss 0.0436\n",
      "Training Accuracy: 0.9550, Testing Accuracy: 0.9617\n",
      "\n"
     ]
    },
    {
     "name": "stdout",
     "output_type": "stream",
     "text": [
      "Epoch 130, Loss 0.0427\n",
      "Training Accuracy: 0.9559, Testing Accuracy: 0.9627\n",
      "\n"
     ]
    },
    {
     "name": "stdout",
     "output_type": "stream",
     "text": [
      "Epoch 140, Loss 0.0419\n",
      "Training Accuracy: 0.9567, Testing Accuracy: 0.9637\n",
      "\n"
     ]
    },
    {
     "name": "stdout",
     "output_type": "stream",
     "text": [
      "Epoch 150, Loss 0.0412\n",
      "Training Accuracy: 0.9569, Testing Accuracy: 0.9637\n",
      "\n"
     ]
    },
    {
     "name": "stdout",
     "output_type": "stream",
     "text": [
      "Epoch 160, Loss 0.0405\n",
      "Training Accuracy: 0.9574, Testing Accuracy: 0.9642\n",
      "\n"
     ]
    },
    {
     "name": "stdout",
     "output_type": "stream",
     "text": [
      "Epoch 170, Loss 0.0399\n",
      "Training Accuracy: 0.9581, Testing Accuracy: 0.9647\n",
      "\n"
     ]
    },
    {
     "name": "stdout",
     "output_type": "stream",
     "text": [
      "Epoch 180, Loss 0.0394\n",
      "Training Accuracy: 0.9585, Testing Accuracy: 0.9647\n",
      "\n"
     ]
    },
    {
     "name": "stdout",
     "output_type": "stream",
     "text": [
      "Epoch 190, Loss 0.0389\n",
      "Training Accuracy: 0.9590, Testing Accuracy: 0.9652\n",
      "\n"
     ]
    },
    {
     "name": "stdout",
     "output_type": "stream",
     "text": [
      "Epoch 200, Loss 0.0384\n",
      "Training Accuracy: 0.9595, Testing Accuracy: 0.9657\n",
      "\n"
     ]
    },
    {
     "name": "stdout",
     "output_type": "stream",
     "text": [
      "Epoch 210, Loss 0.038\n",
      "Training Accuracy: 0.9603, Testing Accuracy: 0.9657\n",
      "\n"
     ]
    },
    {
     "name": "stdout",
     "output_type": "stream",
     "text": [
      "Epoch 220, Loss 0.0376\n",
      "Training Accuracy: 0.9608, Testing Accuracy: 0.9662\n",
      "\n"
     ]
    },
    {
     "name": "stdout",
     "output_type": "stream",
     "text": [
      "Epoch 230, Loss 0.0372\n",
      "Training Accuracy: 0.9609, Testing Accuracy: 0.9662\n",
      "\n"
     ]
    },
    {
     "name": "stdout",
     "output_type": "stream",
     "text": [
      "Epoch 240, Loss 0.0368\n",
      "Training Accuracy: 0.9611, Testing Accuracy: 0.9662\n",
      "\n"
     ]
    },
    {
     "data": {
      "text/plain": [
       "0.03518822555717205"
      ]
     },
     "execution_count": 23,
     "metadata": {},
     "output_type": "execute_result"
    }
   ],
   "source": [
    "lr_learner.train_loop(dl)"
   ]
  },
  {
   "cell_type": "code",
   "execution_count": 24,
   "id": "ca410940",
   "metadata": {
    "execution": {
     "iopub.execute_input": "2022-10-04T00:59:34.678027Z",
     "iopub.status.busy": "2022-10-04T00:59:34.677424Z",
     "iopub.status.idle": "2022-10-04T00:59:34.892621Z",
     "shell.execute_reply": "2022-10-04T00:59:34.891840Z"
    },
    "papermill": {
     "duration": 0.269517,
     "end_time": "2022-10-04T00:59:34.892747",
     "exception": false,
     "start_time": "2022-10-04T00:59:34.623230",
     "status": "completed"
    },
    "tags": []
   },
   "outputs": [
    {
     "data": {
      "text/plain": [
       "<matplotlib.legend.Legend at 0x7f2922af3390>"
      ]
     },
     "execution_count": 24,
     "metadata": {},
     "output_type": "execute_result"
    },
    {
     "data": {
      "image/png": "[encoded data removed]",
      "text/plain": [
       "<Figure size 1080x720 with 1 Axes>"
      ]
     },
     "metadata": {
      "needs_background": "light"
     },
     "output_type": "display_data"
    }
   ],
   "source": [
    "#comparing the results of NN and LR\n",
    "plt.figure(figsize=(15,10))\n",
    "\n",
    "# Neural Network plots\n",
    "plt.plot(acc_nn.accuracies, 'r-', label = \"Training Accuracies - NN\")\n",
    "plt.plot(acc_nn.test_accuracies, 'g-', label = \"Testing Accuracies - NN\")\n",
    "\n",
    "# Logistic Regression plots\n",
    "plt.plot(acc_lr.accuracies, 'k-', label = \"Training Accuracies - LR\")\n",
    "plt.plot(acc_lr.test_accuracies, 'b-', label = \"Testing Accuracies - LR\")\n",
    "plt.legend()"
   ]
  },
  {
   "cell_type": "markdown",
   "id": "80dfb35c",
   "metadata": {
    "papermill": {
     "duration": 0.041629,
     "end_time": "2022-10-04T00:59:34.976894",
     "exception": false,
     "start_time": "2022-10-04T00:59:34.935265",
     "status": "completed"
    },
    "tags": []
   },
   "source": [
    "#### Plotting the outputs of this layer of the NN.\n"
   ]
  },
  {
   "cell_type": "code",
   "execution_count": 25,
   "id": "45eb2ff5",
   "metadata": {
    "execution": {
     "iopub.execute_input": "2022-10-04T00:59:35.066989Z",
     "iopub.status.busy": "2022-10-04T00:59:35.064364Z",
     "iopub.status.idle": "2022-10-04T00:59:35.084309Z",
     "shell.execute_reply": "2022-10-04T00:59:35.083819Z"
    },
    "papermill": {
     "duration": 0.066094,
     "end_time": "2022-10-04T00:59:35.084418",
     "exception": false,
     "start_time": "2022-10-04T00:59:35.018324",
     "status": "completed"
    },
    "tags": []
   },
   "outputs": [],
   "source": [
    "new_model = Model(layers[:-2])\n",
    "testing_plot = new_model(testing_data_x)"
   ]
  },
  {
   "cell_type": "code",
   "execution_count": 26,
   "id": "4c0a5485",
   "metadata": {
    "execution": {
     "iopub.execute_input": "2022-10-04T00:59:35.172382Z",
     "iopub.status.busy": "2022-10-04T00:59:35.171791Z",
     "iopub.status.idle": "2022-10-04T00:59:35.371972Z",
     "shell.execute_reply": "2022-10-04T00:59:35.371504Z"
    },
    "papermill": {
     "duration": 0.245682,
     "end_time": "2022-10-04T00:59:35.372092",
     "exception": false,
     "start_time": "2022-10-04T00:59:35.126410",
     "status": "completed"
    },
    "tags": []
   },
   "outputs": [
    {
     "data": {
      "text/plain": [
       "Text(0.5, 1.0, 'Outputs')"
      ]
     },
     "execution_count": 26,
     "metadata": {},
     "output_type": "execute_result"
    },
    {
     "data": {
      "image/png": "[encoded data removed]",
      "text/plain": [
       "<Figure size 576x504 with 1 Axes>"
      ]
     },
     "metadata": {
      "needs_background": "light"
     },
     "output_type": "display_data"
    }
   ],
   "source": [
    "# Plotting the scatter plot of points and color coding by class\n",
    "plt.figure(figsize=(8,7))\n",
    "plt.scatter(testing_plot[:,0], testing_plot[:,1], alpha = 0.1, c = y_test.ravel());\n",
    "plt.title('Outputs')"
   ]
  },
  {
   "cell_type": "markdown",
   "id": "a74fcf8f",
   "metadata": {
    "papermill": {
     "duration": 0.044537,
     "end_time": "2022-10-04T00:59:35.461782",
     "exception": false,
     "start_time": "2022-10-04T00:59:35.417245",
     "status": "completed"
    },
    "tags": []
   },
   "source": [
    "Probability contours"
   ]
  },
  {
   "cell_type": "code",
   "execution_count": 27,
   "id": "d0afc8e3",
   "metadata": {
    "execution": {
     "iopub.execute_input": "2022-10-04T00:59:35.554734Z",
     "iopub.status.busy": "2022-10-04T00:59:35.554149Z",
     "iopub.status.idle": "2022-10-04T00:59:35.567097Z",
     "shell.execute_reply": "2022-10-04T00:59:35.566624Z"
    },
    "papermill": {
     "duration": 0.0609,
     "end_time": "2022-10-04T00:59:35.567203",
     "exception": false,
     "start_time": "2022-10-04T00:59:35.506303",
     "status": "completed"
    },
    "tags": []
   },
   "outputs": [],
   "source": [
    "model_prob = Model(layers[-2:]) "
   ]
  },
  {
   "cell_type": "code",
   "execution_count": 28,
   "id": "9b96e238",
   "metadata": {
    "execution": {
     "iopub.execute_input": "2022-10-04T00:59:35.688979Z",
     "iopub.status.busy": "2022-10-04T00:59:35.688353Z",
     "iopub.status.idle": "2022-10-04T00:59:35.703470Z",
     "shell.execute_reply": "2022-10-04T00:59:35.703892Z"
    },
    "papermill": {
     "duration": 0.092263,
     "end_time": "2022-10-04T00:59:35.704018",
     "exception": false,
     "start_time": "2022-10-04T00:59:35.611755",
     "status": "completed"
    },
    "tags": []
   },
   "outputs": [],
   "source": [
    "#creating the x and y ranges according to the above generated plot.\n",
    "x_range = np.linspace(-4, 1, 100) \n",
    "y_range = np.linspace(-6, 6, 100) \n",
    "x_grid, y_grid = np.meshgrid(x_range, y_range) # x_grid and y_grig are of size 100 X 100\n",
    "\n",
    "# converting x_grid and y_grid to continuous arrays\n",
    "x_gridflat = np.ravel(x_grid)\n",
    "y_gridflat = np.ravel(y_grid)\n",
    "\n",
    "# The last layer of the current model takes two columns as input. Hence transpose of np.vstack() is required.\n",
    "X = np.vstack((x_gridflat, y_gridflat)).T\n",
    "\n",
    "prob_contour = model_prob(X).reshape(100,100) "
   ]
  },
  {
   "cell_type": "code",
   "execution_count": 29,
   "id": "da72499a",
   "metadata": {
    "execution": {
     "iopub.execute_input": "2022-10-04T00:59:35.800591Z",
     "iopub.status.busy": "2022-10-04T00:59:35.798456Z",
     "iopub.status.idle": "2022-10-04T00:59:36.034494Z",
     "shell.execute_reply": "2022-10-04T00:59:36.033603Z"
    },
    "papermill": {
     "duration": 0.285828,
     "end_time": "2022-10-04T00:59:36.034626",
     "exception": false,
     "start_time": "2022-10-04T00:59:35.748798",
     "status": "completed"
    },
    "tags": []
   },
   "outputs": [
    {
     "data": {
      "image/png": "[encoded data removed]",
      "text/plain": [
       "<Figure size 720x648 with 1 Axes>"
      ]
     },
     "metadata": {
      "needs_background": "light"
     },
     "output_type": "display_data"
    }
   ],
   "source": [
    "plt.figure(figsize=(10,9))\n",
    "plt.scatter(testing_plot[:,0], testing_plot[:,1], alpha = 0.1, c = y_test.ravel())\n",
    "contours = plt.contour(x_grid,y_grid,prob_contour)\n",
    "plt.title('Probability Contours')\n",
    "plt.clabel(contours, inline = True );"
   ]
  },
  {
   "cell_type": "code",
   "execution_count": null,
   "id": "e81b4ac7",
   "metadata": {
    "papermill": {
     "duration": 0.04713,
     "end_time": "2022-10-04T00:59:36.132852",
     "exception": false,
     "start_time": "2022-10-04T00:59:36.085722",
     "status": "completed"
    },
    "tags": []
   },
   "outputs": [],
   "source": []
  }
 ],
 "metadata": {
  "kernelspec": {
   "display_name": "Python 3",
   "language": "python",
   "name": "python3"
  },
  "language_info": {
   "codemirror_mode": {
    "name": "ipython",
    "version": 3
   },
   "file_extension": ".py",
   "mimetype": "text/x-python",
   "name": "python",
   "nbconvert_exporter": "python",
   "pygments_lexer": "ipython3",
   "version": "3.6.15"
  },
  "papermill": {
   "default_parameters": {},
   "duration": 97.77585,
   "end_time": "2022-10-04T00:59:36.600792",
   "environment_variables": {},
   "exception": null,
   "input_path": "2020-08-11-part2.ipynb",
   "output_path": "2020-08-11-part2.ipynb",
   "parameters": {},
   "start_time": "2022-10-04T00:57:58.824942",
   "version": "2.3.3"
  }
 },
 "nbformat": 4,
 "nbformat_minor": 5
}