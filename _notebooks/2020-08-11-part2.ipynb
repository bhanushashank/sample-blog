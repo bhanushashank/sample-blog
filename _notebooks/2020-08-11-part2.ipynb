{
 "cells": [
  {
   "cell_type": "markdown",
   "id": "98380cd3",
   "metadata": {
    "papermill": {
     "duration": 0.026316,
     "end_time": "2022-06-23T10:10:05.047157",
     "exception": false,
     "start_time": "2022-06-23T10:10:05.020841",
     "status": "completed"
    },
    "tags": []
   },
   "source": [
    "# Distinguish Your Own Digits (DYOD)"
   ]
  },
  {
   "cell_type": "markdown",
   "id": "ef31240d",
   "metadata": {
    "papermill": {
     "duration": 0.021433,
     "end_time": "2022-06-23T10:10:05.090176",
     "exception": false,
     "start_time": "2022-06-23T10:10:05.068743",
     "status": "completed"
    },
    "tags": []
   },
   "source": [
    "You are going to write a classifier that distinguishes between the number 3 and number 8."
   ]
  },
  {
   "cell_type": "code",
   "execution_count": 1,
   "id": "b15c8646",
   "metadata": {
    "execution": {
     "iopub.execute_input": "2022-06-23T10:10:05.142763Z",
     "iopub.status.busy": "2022-06-23T10:10:05.142217Z",
     "iopub.status.idle": "2022-06-23T10:10:05.152696Z",
     "shell.execute_reply": "2022-06-23T10:10:05.153126Z"
    },
    "papermill": {
     "duration": 0.041985,
     "end_time": "2022-06-23T10:10:05.153268",
     "exception": false,
     "start_time": "2022-06-23T10:10:05.111283",
     "status": "completed"
    },
    "tags": []
   },
   "outputs": [],
   "source": [
    "%load_ext autoreload\n",
    "%autoreload 2"
   ]
  },
  {
   "cell_type": "code",
   "execution_count": 2,
   "id": "22ef38dc",
   "metadata": {
    "execution": {
     "iopub.execute_input": "2022-06-23T10:10:05.202148Z",
     "iopub.status.busy": "2022-06-23T10:10:05.201616Z",
     "iopub.status.idle": "2022-06-23T10:10:05.734521Z",
     "shell.execute_reply": "2022-06-23T10:10:05.733883Z"
    },
    "papermill": {
     "duration": 0.560314,
     "end_time": "2022-06-23T10:10:05.734662",
     "exception": false,
     "start_time": "2022-06-23T10:10:05.174348",
     "status": "completed"
    },
    "tags": []
   },
   "outputs": [],
   "source": [
    "%matplotlib inline\n",
    "import numpy as np\n",
    "import matplotlib.pyplot as plt\n",
    "import pandas as pd"
   ]
  },
  {
   "cell_type": "markdown",
   "id": "ba036198",
   "metadata": {
    "papermill": {
     "duration": 0.021016,
     "end_time": "2022-06-23T10:10:05.777389",
     "exception": false,
     "start_time": "2022-06-23T10:10:05.756373",
     "status": "completed"
    },
    "tags": []
   },
   "source": [
    "From the command line run `pip install mnist`. This is a library that will help you bring down the mnist dataset. If you run this from a notebook, you need to put  `!pip install mnist` in a cell by itself."
   ]
  },
  {
   "cell_type": "code",
   "execution_count": 3,
   "id": "bb6ad8a1",
   "metadata": {
    "execution": {
     "iopub.execute_input": "2022-06-23T10:10:05.823178Z",
     "iopub.status.busy": "2022-06-23T10:10:05.822646Z",
     "iopub.status.idle": "2022-06-23T10:10:07.442520Z",
     "shell.execute_reply": "2022-06-23T10:10:07.441957Z"
    },
    "papermill": {
     "duration": 1.644183,
     "end_time": "2022-06-23T10:10:07.442648",
     "exception": false,
     "start_time": "2022-06-23T10:10:05.798465",
     "status": "completed"
    },
    "tags": []
   },
   "outputs": [
    {
     "name": "stdout",
     "output_type": "stream",
     "text": [
      "Collecting mnist\r\n"
     ]
    },
    {
     "name": "stdout",
     "output_type": "stream",
     "text": [
      "  Downloading mnist-0.2.2-py2.py3-none-any.whl (3.5 kB)\r\n"
     ]
    },
    {
     "name": "stdout",
     "output_type": "stream",
     "text": [
      "Requirement already satisfied: numpy in /opt/hostedtoolcache/Python/3.6.15/x64/lib/python3.6/site-packages (from mnist) (1.19.5)\r\n"
     ]
    },
    {
     "name": "stdout",
     "output_type": "stream",
     "text": [
      "Installing collected packages: mnist\r\n",
      "Successfully installed mnist-0.2.2\r\n"
     ]
    }
   ],
   "source": [
    "!pip install mnist"
   ]
  },
  {
   "cell_type": "markdown",
   "id": "69df9c9a",
   "metadata": {
    "papermill": {
     "duration": 0.02494,
     "end_time": "2022-06-23T10:10:07.492852",
     "exception": false,
     "start_time": "2022-06-23T10:10:07.467912",
     "status": "completed"
    },
    "tags": []
   },
   "source": [
    "## Preparing the Data"
   ]
  },
  {
   "cell_type": "code",
   "execution_count": 4,
   "id": "7f69d806",
   "metadata": {
    "execution": {
     "iopub.execute_input": "2022-06-23T10:10:07.555506Z",
     "iopub.status.busy": "2022-06-23T10:10:07.554911Z",
     "iopub.status.idle": "2022-06-23T10:10:07.565297Z",
     "shell.execute_reply": "2022-06-23T10:10:07.565771Z"
    },
    "papermill": {
     "duration": 0.04828,
     "end_time": "2022-06-23T10:10:07.565903",
     "exception": false,
     "start_time": "2022-06-23T10:10:07.517623",
     "status": "completed"
    },
    "tags": []
   },
   "outputs": [],
   "source": [
    "import mnist"
   ]
  },
  {
   "cell_type": "code",
   "execution_count": 5,
   "id": "a411e44f",
   "metadata": {
    "execution": {
     "iopub.execute_input": "2022-06-23T10:10:07.628706Z",
     "iopub.status.busy": "2022-06-23T10:10:07.618643Z",
     "iopub.status.idle": "2022-06-23T10:10:08.235347Z",
     "shell.execute_reply": "2022-06-23T10:10:08.234389Z"
    },
    "papermill": {
     "duration": 0.644778,
     "end_time": "2022-06-23T10:10:08.235488",
     "exception": false,
     "start_time": "2022-06-23T10:10:07.590710",
     "status": "completed"
    },
    "tags": []
   },
   "outputs": [],
   "source": [
    "train_images = mnist.train_images()\n",
    "train_labels = mnist.train_labels()"
   ]
  },
  {
   "cell_type": "code",
   "execution_count": 6,
   "id": "dceab3a5",
   "metadata": {
    "execution": {
     "iopub.execute_input": "2022-06-23T10:10:08.293891Z",
     "iopub.status.busy": "2022-06-23T10:10:08.293264Z",
     "iopub.status.idle": "2022-06-23T10:10:08.310749Z",
     "shell.execute_reply": "2022-06-23T10:10:08.310028Z"
    },
    "papermill": {
     "duration": 0.050056,
     "end_time": "2022-06-23T10:10:08.310866",
     "exception": false,
     "start_time": "2022-06-23T10:10:08.260810",
     "status": "completed"
    },
    "tags": []
   },
   "outputs": [
    {
     "data": {
      "text/plain": [
       "((60000, 28, 28), (60000,))"
      ]
     },
     "execution_count": 6,
     "metadata": {},
     "output_type": "execute_result"
    }
   ],
   "source": [
    "train_images.shape, train_labels.shape"
   ]
  },
  {
   "cell_type": "code",
   "execution_count": 7,
   "id": "f50dc2bb",
   "metadata": {
    "execution": {
     "iopub.execute_input": "2022-06-23T10:10:08.369541Z",
     "iopub.status.busy": "2022-06-23T10:10:08.368935Z",
     "iopub.status.idle": "2022-06-23T10:10:08.546076Z",
     "shell.execute_reply": "2022-06-23T10:10:08.545418Z"
    },
    "papermill": {
     "duration": 0.210265,
     "end_time": "2022-06-23T10:10:08.546216",
     "exception": false,
     "start_time": "2022-06-23T10:10:08.335951",
     "status": "completed"
    },
    "tags": []
   },
   "outputs": [],
   "source": [
    "test_images = mnist.test_images()\n",
    "test_labels = mnist.test_labels()"
   ]
  },
  {
   "cell_type": "code",
   "execution_count": 8,
   "id": "fc38cf1b",
   "metadata": {
    "execution": {
     "iopub.execute_input": "2022-06-23T10:10:08.595779Z",
     "iopub.status.busy": "2022-06-23T10:10:08.595274Z",
     "iopub.status.idle": "2022-06-23T10:10:08.608484Z",
     "shell.execute_reply": "2022-06-23T10:10:08.608884Z"
    },
    "papermill": {
     "duration": 0.039327,
     "end_time": "2022-06-23T10:10:08.609001",
     "exception": false,
     "start_time": "2022-06-23T10:10:08.569674",
     "status": "completed"
    },
    "tags": []
   },
   "outputs": [
    {
     "data": {
      "text/plain": [
       "((10000, 28, 28), (10000,))"
      ]
     },
     "execution_count": 8,
     "metadata": {},
     "output_type": "execute_result"
    }
   ],
   "source": [
    "test_images.shape, test_labels.shape"
   ]
  },
  {
   "cell_type": "code",
   "execution_count": 9,
   "id": "f9ed8fe0",
   "metadata": {
    "execution": {
     "iopub.execute_input": "2022-06-23T10:10:08.657470Z",
     "iopub.status.busy": "2022-06-23T10:10:08.656947Z",
     "iopub.status.idle": "2022-06-23T10:10:08.783837Z",
     "shell.execute_reply": "2022-06-23T10:10:08.783374Z"
    },
    "papermill": {
     "duration": 0.152438,
     "end_time": "2022-06-23T10:10:08.783941",
     "exception": false,
     "start_time": "2022-06-23T10:10:08.631503",
     "status": "completed"
    },
    "tags": []
   },
   "outputs": [
    {
     "name": "stdout",
     "output_type": "stream",
     "text": [
      "2\n"
     ]
    },
    {
     "data": {
      "text/plain": [
       "<matplotlib.image.AxesImage at 0x7f07454f93c8>"
      ]
     },
     "execution_count": 9,
     "metadata": {},
     "output_type": "execute_result"
    },
    {
     "data": {
      "image/png": "[encoded data removed]",
      "text/plain": [
       "<Figure size 432x288 with 1 Axes>"
      ]
     },
     "metadata": {
      "needs_background": "light"
     },
     "output_type": "display_data"
    }
   ],
   "source": [
    "image_index = 7776 # You may select anything up to 60,000\n",
    "print(train_labels[image_index]) \n",
    "plt.imshow(train_images[image_index], cmap='Greys')"
   ]
  },
  {
   "cell_type": "markdown",
   "id": "a8d2388d",
   "metadata": {
    "papermill": {
     "duration": 0.023463,
     "end_time": "2022-06-23T10:10:08.830840",
     "exception": false,
     "start_time": "2022-06-23T10:10:08.807377",
     "status": "completed"
    },
    "tags": []
   },
   "source": [
    "## Filter data to get 3 and 8 out"
   ]
  },
  {
   "cell_type": "code",
   "execution_count": 10,
   "id": "776f7fc7",
   "metadata": {
    "execution": {
     "iopub.execute_input": "2022-06-23T10:10:08.881449Z",
     "iopub.status.busy": "2022-06-23T10:10:08.880926Z",
     "iopub.status.idle": "2022-06-23T10:10:08.900169Z",
     "shell.execute_reply": "2022-06-23T10:10:08.899626Z"
    },
    "papermill": {
     "duration": 0.046135,
     "end_time": "2022-06-23T10:10:08.900290",
     "exception": false,
     "start_time": "2022-06-23T10:10:08.854155",
     "status": "completed"
    },
    "tags": []
   },
   "outputs": [],
   "source": [
    "train_filter = np.where((train_labels == 3 ) | (train_labels == 8))\n",
    "test_filter = np.where((test_labels == 3) | (test_labels == 8))\n",
    "X_train, y_train = train_images[train_filter], train_labels[train_filter]\n",
    "X_test, y_test = test_images[test_filter], test_labels[test_filter]"
   ]
  },
  {
   "cell_type": "markdown",
   "id": "948f0b7e",
   "metadata": {
    "papermill": {
     "duration": 0.023207,
     "end_time": "2022-06-23T10:10:08.948372",
     "exception": false,
     "start_time": "2022-06-23T10:10:08.925165",
     "status": "completed"
    },
    "tags": []
   },
   "source": [
    "We normalize the pizel values in the 0 to 1 range"
   ]
  },
  {
   "cell_type": "code",
   "execution_count": 11,
   "id": "ee4c2166",
   "metadata": {
    "execution": {
     "iopub.execute_input": "2022-06-23T10:10:08.999263Z",
     "iopub.status.busy": "2022-06-23T10:10:08.998751Z",
     "iopub.status.idle": "2022-06-23T10:10:09.044709Z",
     "shell.execute_reply": "2022-06-23T10:10:09.044123Z"
    },
    "papermill": {
     "duration": 0.073342,
     "end_time": "2022-06-23T10:10:09.044850",
     "exception": false,
     "start_time": "2022-06-23T10:10:08.971508",
     "status": "completed"
    },
    "tags": []
   },
   "outputs": [],
   "source": [
    "X_train = X_train/255.\n",
    "X_test = X_test/255."
   ]
  },
  {
   "cell_type": "markdown",
   "id": "ddcf4fab",
   "metadata": {
    "papermill": {
     "duration": 0.023605,
     "end_time": "2022-06-23T10:10:09.093370",
     "exception": false,
     "start_time": "2022-06-23T10:10:09.069765",
     "status": "completed"
    },
    "tags": []
   },
   "source": [
    "And setup the labels as 1 (when the digit is 3) and 0 (when the digit is 8)"
   ]
  },
  {
   "cell_type": "code",
   "execution_count": 12,
   "id": "7dc908f2",
   "metadata": {
    "execution": {
     "iopub.execute_input": "2022-06-23T10:10:09.151374Z",
     "iopub.status.busy": "2022-06-23T10:10:09.150834Z",
     "iopub.status.idle": "2022-06-23T10:10:09.158073Z",
     "shell.execute_reply": "2022-06-23T10:10:09.158472Z"
    },
    "papermill": {
     "duration": 0.041858,
     "end_time": "2022-06-23T10:10:09.158597",
     "exception": false,
     "start_time": "2022-06-23T10:10:09.116739",
     "status": "completed"
    },
    "tags": []
   },
   "outputs": [],
   "source": [
    "y_train = 1*(y_train==3)\n",
    "y_test = 1*(y_test==3)"
   ]
  },
  {
   "cell_type": "code",
   "execution_count": 13,
   "id": "01e4e969",
   "metadata": {
    "execution": {
     "iopub.execute_input": "2022-06-23T10:10:09.216157Z",
     "iopub.status.busy": "2022-06-23T10:10:09.210156Z",
     "iopub.status.idle": "2022-06-23T10:10:09.222054Z",
     "shell.execute_reply": "2022-06-23T10:10:09.222428Z"
    },
    "papermill": {
     "duration": 0.040532,
     "end_time": "2022-06-23T10:10:09.222540",
     "exception": false,
     "start_time": "2022-06-23T10:10:09.182008",
     "status": "completed"
    },
    "tags": []
   },
   "outputs": [
    {
     "data": {
      "text/plain": [
       "((11982, 28, 28), (1984, 28, 28))"
      ]
     },
     "execution_count": 13,
     "metadata": {},
     "output_type": "execute_result"
    }
   ],
   "source": [
    "X_train.shape, X_test.shape"
   ]
  },
  {
   "cell_type": "markdown",
   "id": "5ccf3f85",
   "metadata": {
    "papermill": {
     "duration": 0.023469,
     "end_time": "2022-06-23T10:10:09.269568",
     "exception": false,
     "start_time": "2022-06-23T10:10:09.246099",
     "status": "completed"
    },
    "tags": []
   },
   "source": [
    "We reshape the data to flatten the image pixels into a set of features or co-variates:"
   ]
  },
  {
   "cell_type": "code",
   "execution_count": 14,
   "id": "5286a4a3",
   "metadata": {
    "execution": {
     "iopub.execute_input": "2022-06-23T10:10:09.330533Z",
     "iopub.status.busy": "2022-06-23T10:10:09.322187Z",
     "iopub.status.idle": "2022-06-23T10:10:09.333912Z",
     "shell.execute_reply": "2022-06-23T10:10:09.333448Z"
    },
    "papermill": {
     "duration": 0.040834,
     "end_time": "2022-06-23T10:10:09.334012",
     "exception": false,
     "start_time": "2022-06-23T10:10:09.293178",
     "status": "completed"
    },
    "tags": []
   },
   "outputs": [
    {
     "data": {
      "text/plain": [
       "((11982, 784), (1984, 784))"
      ]
     },
     "execution_count": 14,
     "metadata": {},
     "output_type": "execute_result"
    }
   ],
   "source": [
    "X_train = X_train.reshape(X_train.shape[0], -1)\n",
    "X_test = X_test.reshape(X_test.shape[0], -1)\n",
    "X_train.shape, X_test.shape"
   ]
  },
  {
   "cell_type": "code",
   "execution_count": 15,
   "id": "73c5f88a",
   "metadata": {
    "execution": {
     "iopub.execute_input": "2022-06-23T10:10:09.387398Z",
     "iopub.status.busy": "2022-06-23T10:10:09.384722Z",
     "iopub.status.idle": "2022-06-23T10:10:09.404611Z",
     "shell.execute_reply": "2022-06-23T10:10:09.405058Z"
    },
    "papermill": {
     "duration": 0.047402,
     "end_time": "2022-06-23T10:10:09.405174",
     "exception": false,
     "start_time": "2022-06-23T10:10:09.357772",
     "status": "completed"
    },
    "tags": []
   },
   "outputs": [],
   "source": [
    "#Impoting functions from 'Kudzu'\n",
    "from kudzu.model import Model\n",
    "from kudzu.train import Learner\n",
    "from kudzu.optim import GD\n",
    "from kudzu.data import Data, Sampler,Dataloader\n",
    "\n",
    "from kudzu.callbacks import AccCallback\n",
    "from kudzu.callbacks import ClfCallback\n",
    "\n",
    "from kudzu.loss import MSE\n",
    "\n",
    "from kudzu.layer import Sigmoid,Relu\n",
    "from kudzu.layer import Affine"
   ]
  },
  {
   "cell_type": "markdown",
   "id": "bc01172a",
   "metadata": {
    "papermill": {
     "duration": 0.026762,
     "end_time": "2022-06-23T10:10:09.458924",
     "exception": false,
     "start_time": "2022-06-23T10:10:09.432162",
     "status": "completed"
    },
    "tags": []
   },
   "source": [
    "### Let us create a `Config` class, to store important parameters. \n",
    "This class essentially plays the role of a dictionary."
   ]
  },
  {
   "cell_type": "code",
   "execution_count": 16,
   "id": "978281aa",
   "metadata": {
    "execution": {
     "iopub.execute_input": "2022-06-23T10:10:09.522552Z",
     "iopub.status.busy": "2022-06-23T10:10:09.515580Z",
     "iopub.status.idle": "2022-06-23T10:10:09.528207Z",
     "shell.execute_reply": "2022-06-23T10:10:09.527733Z"
    },
    "papermill": {
     "duration": 0.042631,
     "end_time": "2022-06-23T10:10:09.528310",
     "exception": false,
     "start_time": "2022-06-23T10:10:09.485679",
     "status": "completed"
    },
    "tags": []
   },
   "outputs": [],
   "source": [
    "class Config:\n",
    "    pass\n",
    "config = Config()\n",
    "config.lr = 0.001\n",
    "config.num_epochs = 250\n",
    "config.bs = 50"
   ]
  },
  {
   "cell_type": "markdown",
   "id": "1385fa59",
   "metadata": {
    "papermill": {
     "duration": 0.026815,
     "end_time": "2022-06-23T10:10:09.582115",
     "exception": false,
     "start_time": "2022-06-23T10:10:09.555300",
     "status": "completed"
    },
    "tags": []
   },
   "source": [
    "### Running Models with the Training data\n",
    "Details about the network layers:\n",
    "- A first affine layer has 784 inputs and does 100 affine transforms. These are followed by a Relu\n",
    "- A second affine layer has 100 inputs from the 100 activations of the past layer, and does 100 affine transforms. These are followed by a Relu\n",
    "- A third affine layer has 100 activations and does 2 affine transformations to create an embedding for visualization. There is no non-linearity here.\n",
    "- A final \"logistic regression\" which has an affine transform from 2 inputs to 1 output, which is squeezed through a sigmoid.\n"
   ]
  },
  {
   "cell_type": "code",
   "execution_count": 17,
   "id": "2b9c66db",
   "metadata": {
    "execution": {
     "iopub.execute_input": "2022-06-23T10:10:09.640528Z",
     "iopub.status.busy": "2022-06-23T10:10:09.639972Z",
     "iopub.status.idle": "2022-06-23T10:10:09.652472Z",
     "shell.execute_reply": "2022-06-23T10:10:09.652899Z"
    },
    "papermill": {
     "duration": 0.044029,
     "end_time": "2022-06-23T10:10:09.653029",
     "exception": false,
     "start_time": "2022-06-23T10:10:09.609000",
     "status": "completed"
    },
    "tags": []
   },
   "outputs": [],
   "source": [
    "data = Data(X_train, y_train.reshape(-1,1))\n",
    "sampler = Sampler(data, config.bs, shuffle=True)\n",
    "\n",
    "dl = Dataloader(data, sampler)\n",
    "\n",
    "opt = GD(config.lr)\n",
    "loss = MSE()"
   ]
  },
  {
   "cell_type": "code",
   "execution_count": 18,
   "id": "b275e4c2",
   "metadata": {
    "execution": {
     "iopub.execute_input": "2022-06-23T10:10:09.710416Z",
     "iopub.status.busy": "2022-06-23T10:10:09.709828Z",
     "iopub.status.idle": "2022-06-23T10:10:09.722678Z",
     "shell.execute_reply": "2022-06-23T10:10:09.722199Z"
    },
    "papermill": {
     "duration": 0.042735,
     "end_time": "2022-06-23T10:10:09.722783",
     "exception": false,
     "start_time": "2022-06-23T10:10:09.680048",
     "status": "completed"
    },
    "tags": []
   },
   "outputs": [],
   "source": [
    "training_data_x = X_train\n",
    "testing_data_x = X_test\n",
    "training_data_y = y_train.reshape(-1,1)\n",
    "testing_data_y = y_test.reshape(-1,1)"
   ]
  },
  {
   "cell_type": "code",
   "execution_count": 19,
   "id": "76951160",
   "metadata": {
    "execution": {
     "iopub.execute_input": "2022-06-23T10:10:09.781170Z",
     "iopub.status.busy": "2022-06-23T10:10:09.780582Z",
     "iopub.status.idle": "2022-06-23T10:10:09.796666Z",
     "shell.execute_reply": "2022-06-23T10:10:09.797143Z"
    },
    "papermill": {
     "duration": 0.047592,
     "end_time": "2022-06-23T10:10:09.797268",
     "exception": false,
     "start_time": "2022-06-23T10:10:09.749676",
     "status": "completed"
    },
    "tags": []
   },
   "outputs": [
    {
     "name": "stdout",
     "output_type": "stream",
     "text": [
      "xavier\n",
      "xavier\n",
      "xavier\n",
      "xavier\n",
      "xavier\n"
     ]
    }
   ],
   "source": [
    "layers = [Affine(\"first\", 784, 100), Relu(\"first\"), Affine(\"second\", 100, 100), Relu(\"second\"), Affine(\"third\", 100, 2), Affine(\"last\", 2, 1), Sigmoid(\"last\")]\n",
    "model_nn = Model(layers)\n",
    "model_lr = Model([Affine(\"logits\", 784, 1), Sigmoid(\"sigmoid\")])"
   ]
  },
  {
   "cell_type": "code",
   "execution_count": 20,
   "id": "6eede77a",
   "metadata": {
    "execution": {
     "iopub.execute_input": "2022-06-23T10:10:09.856045Z",
     "iopub.status.busy": "2022-06-23T10:10:09.855475Z",
     "iopub.status.idle": "2022-06-23T10:10:09.868829Z",
     "shell.execute_reply": "2022-06-23T10:10:09.868357Z"
    },
    "papermill": {
     "duration": 0.044354,
     "end_time": "2022-06-23T10:10:09.868934",
     "exception": false,
     "start_time": "2022-06-23T10:10:09.824580",
     "status": "completed"
    },
    "tags": []
   },
   "outputs": [],
   "source": [
    "nn_learner = Learner(loss, model_nn, opt, config.num_epochs)\n",
    "acc_nn = ClfCallback(nn_learner, config.bs, training_data_x , testing_data_x, training_data_y, testing_data_y)\n",
    "nn_learner.set_callbacks([acc_nn])"
   ]
  },
  {
   "cell_type": "code",
   "execution_count": 21,
   "id": "877b6cc7",
   "metadata": {
    "execution": {
     "iopub.execute_input": "2022-06-23T10:10:09.929430Z",
     "iopub.status.busy": "2022-06-23T10:10:09.928859Z",
     "iopub.status.idle": "2022-06-23T10:10:09.940276Z",
     "shell.execute_reply": "2022-06-23T10:10:09.939804Z"
    },
    "papermill": {
     "duration": 0.044329,
     "end_time": "2022-06-23T10:10:09.940380",
     "exception": false,
     "start_time": "2022-06-23T10:10:09.896051",
     "status": "completed"
    },
    "tags": []
   },
   "outputs": [],
   "source": [
    "lr_learner = Learner(loss, model_lr, opt, config.num_epochs)\n",
    "acc_lr = ClfCallback(lr_learner, config.bs, training_data_x , testing_data_x, training_data_y, testing_data_y)\n",
    "lr_learner.set_callbacks([acc_lr])"
   ]
  },
  {
   "cell_type": "code",
   "execution_count": 22,
   "id": "d9b133c3",
   "metadata": {
    "execution": {
     "iopub.execute_input": "2022-06-23T10:10:09.998494Z",
     "iopub.status.busy": "2022-06-23T10:10:09.997917Z",
     "iopub.status.idle": "2022-06-23T10:11:24.949001Z",
     "shell.execute_reply": "2022-06-23T10:11:24.949597Z"
    },
    "papermill": {
     "duration": 74.982078,
     "end_time": "2022-06-23T10:11:24.949755",
     "exception": false,
     "start_time": "2022-06-23T10:10:09.967677",
     "status": "completed"
    },
    "tags": []
   },
   "outputs": [
    {
     "name": "stdout",
     "output_type": "stream",
     "text": [
      "Epoch 0, Loss 0.2537\n",
      "Training Accuracy: 0.4877, Testing Accuracy: 0.4914\n",
      "\n"
     ]
    },
    {
     "name": "stdout",
     "output_type": "stream",
     "text": [
      "Epoch 10, Loss 0.1952\n",
      "Training Accuracy: 0.8620, Testing Accuracy: 0.8841\n",
      "\n"
     ]
    },
    {
     "name": "stdout",
     "output_type": "stream",
     "text": [
      "Epoch 20, Loss 0.1008\n",
      "Training Accuracy: 0.9052, Testing Accuracy: 0.9209\n",
      "\n"
     ]
    },
    {
     "name": "stdout",
     "output_type": "stream",
     "text": [
      "Epoch 30, Loss 0.0648\n",
      "Training Accuracy: 0.9311, Testing Accuracy: 0.9461\n",
      "\n"
     ]
    },
    {
     "name": "stdout",
     "output_type": "stream",
     "text": [
      "Epoch 40, Loss 0.0502\n",
      "Training Accuracy: 0.9438, Testing Accuracy: 0.9582\n",
      "\n"
     ]
    },
    {
     "name": "stdout",
     "output_type": "stream",
     "text": [
      "Epoch 50, Loss 0.0429\n",
      "Training Accuracy: 0.9523, Testing Accuracy: 0.9637\n",
      "\n"
     ]
    },
    {
     "name": "stdout",
     "output_type": "stream",
     "text": [
      "Epoch 60, Loss 0.0385\n",
      "Training Accuracy: 0.9565, Testing Accuracy: 0.9672\n",
      "\n"
     ]
    },
    {
     "name": "stdout",
     "output_type": "stream",
     "text": [
      "Epoch 70, Loss 0.0357\n",
      "Training Accuracy: 0.9583, Testing Accuracy: 0.9688\n",
      "\n"
     ]
    },
    {
     "name": "stdout",
     "output_type": "stream",
     "text": [
      "Epoch 80, Loss 0.0337\n",
      "Training Accuracy: 0.9601, Testing Accuracy: 0.9693\n",
      "\n"
     ]
    },
    {
     "name": "stdout",
     "output_type": "stream",
     "text": [
      "Epoch 90, Loss 0.0321\n",
      "Training Accuracy: 0.9621, Testing Accuracy: 0.9698\n",
      "\n"
     ]
    },
    {
     "name": "stdout",
     "output_type": "stream",
     "text": [
      "Epoch 100, Loss 0.0308\n",
      "Training Accuracy: 0.9634, Testing Accuracy: 0.9688\n",
      "\n"
     ]
    },
    {
     "name": "stdout",
     "output_type": "stream",
     "text": [
      "Epoch 110, Loss 0.0297\n",
      "Training Accuracy: 0.9644, Testing Accuracy: 0.9698\n",
      "\n"
     ]
    },
    {
     "name": "stdout",
     "output_type": "stream",
     "text": [
      "Epoch 120, Loss 0.0287\n",
      "Training Accuracy: 0.9659, Testing Accuracy: 0.9698\n",
      "\n"
     ]
    },
    {
     "name": "stdout",
     "output_type": "stream",
     "text": [
      "Epoch 130, Loss 0.0279\n",
      "Training Accuracy: 0.9664, Testing Accuracy: 0.9698\n",
      "\n"
     ]
    },
    {
     "name": "stdout",
     "output_type": "stream",
     "text": [
      "Epoch 140, Loss 0.0272\n",
      "Training Accuracy: 0.9671, Testing Accuracy: 0.9703\n",
      "\n"
     ]
    },
    {
     "name": "stdout",
     "output_type": "stream",
     "text": [
      "Epoch 150, Loss 0.0265\n",
      "Training Accuracy: 0.9677, Testing Accuracy: 0.9703\n",
      "\n"
     ]
    },
    {
     "name": "stdout",
     "output_type": "stream",
     "text": [
      "Epoch 160, Loss 0.0259\n",
      "Training Accuracy: 0.9686, Testing Accuracy: 0.9708\n",
      "\n"
     ]
    },
    {
     "name": "stdout",
     "output_type": "stream",
     "text": [
      "Epoch 170, Loss 0.0254\n",
      "Training Accuracy: 0.9690, Testing Accuracy: 0.9708\n",
      "\n"
     ]
    },
    {
     "name": "stdout",
     "output_type": "stream",
     "text": [
      "Epoch 180, Loss 0.0249\n",
      "Training Accuracy: 0.9699, Testing Accuracy: 0.9708\n",
      "\n"
     ]
    },
    {
     "name": "stdout",
     "output_type": "stream",
     "text": [
      "Epoch 190, Loss 0.0244\n",
      "Training Accuracy: 0.9710, Testing Accuracy: 0.9713\n",
      "\n"
     ]
    },
    {
     "name": "stdout",
     "output_type": "stream",
     "text": [
      "Epoch 200, Loss 0.0239\n",
      "Training Accuracy: 0.9714, Testing Accuracy: 0.9713\n",
      "\n"
     ]
    },
    {
     "name": "stdout",
     "output_type": "stream",
     "text": [
      "Epoch 210, Loss 0.0235\n",
      "Training Accuracy: 0.9718, Testing Accuracy: 0.9718\n",
      "\n"
     ]
    },
    {
     "name": "stdout",
     "output_type": "stream",
     "text": [
      "Epoch 220, Loss 0.0231\n",
      "Training Accuracy: 0.9720, Testing Accuracy: 0.9723\n",
      "\n"
     ]
    },
    {
     "name": "stdout",
     "output_type": "stream",
     "text": [
      "Epoch 230, Loss 0.0227\n",
      "Training Accuracy: 0.9725, Testing Accuracy: 0.9723\n",
      "\n"
     ]
    },
    {
     "name": "stdout",
     "output_type": "stream",
     "text": [
      "Epoch 240, Loss 0.0223\n",
      "Training Accuracy: 0.9733, Testing Accuracy: 0.9733\n",
      "\n"
     ]
    },
    {
     "data": {
      "text/plain": [
       "0.004974158050268694"
      ]
     },
     "execution_count": 22,
     "metadata": {},
     "output_type": "execute_result"
    }
   ],
   "source": [
    "nn_learner.train_loop(dl)"
   ]
  },
  {
   "cell_type": "code",
   "execution_count": 23,
   "id": "e0163366",
   "metadata": {
    "execution": {
     "iopub.execute_input": "2022-06-23T10:11:25.023129Z",
     "iopub.status.busy": "2022-06-23T10:11:25.022549Z",
     "iopub.status.idle": "2022-06-23T10:11:39.269332Z",
     "shell.execute_reply": "2022-06-23T10:11:39.270204Z"
    },
    "papermill": {
     "duration": 14.285605,
     "end_time": "2022-06-23T10:11:39.270360",
     "exception": false,
     "start_time": "2022-06-23T10:11:24.984755",
     "status": "completed"
    },
    "tags": []
   },
   "outputs": [
    {
     "name": "stdout",
     "output_type": "stream",
     "text": [
      "Epoch 0, Loss 0.2241\n",
      "Training Accuracy: 0.7335, Testing Accuracy: 0.7465\n",
      "\n"
     ]
    },
    {
     "name": "stdout",
     "output_type": "stream",
     "text": [
      "Epoch 10, Loss 0.1029\n",
      "Training Accuracy: 0.9017, Testing Accuracy: 0.9143\n",
      "\n"
     ]
    },
    {
     "name": "stdout",
     "output_type": "stream",
     "text": [
      "Epoch 20, Loss 0.0798\n",
      "Training Accuracy: 0.9232, Testing Accuracy: 0.9335\n",
      "\n"
     ]
    },
    {
     "name": "stdout",
     "output_type": "stream",
     "text": [
      "Epoch 30, Loss 0.0688\n",
      "Training Accuracy: 0.9345, Testing Accuracy: 0.9435\n",
      "\n"
     ]
    },
    {
     "name": "stdout",
     "output_type": "stream",
     "text": [
      "Epoch 40, Loss 0.0621\n",
      "Training Accuracy: 0.9402, Testing Accuracy: 0.9511\n",
      "\n"
     ]
    },
    {
     "name": "stdout",
     "output_type": "stream",
     "text": [
      "Epoch 50, Loss 0.0575\n",
      "Training Accuracy: 0.9447, Testing Accuracy: 0.9546\n",
      "\n"
     ]
    },
    {
     "name": "stdout",
     "output_type": "stream",
     "text": [
      "Epoch 60, Loss 0.0541\n",
      "Training Accuracy: 0.9470, Testing Accuracy: 0.9582\n",
      "\n"
     ]
    },
    {
     "name": "stdout",
     "output_type": "stream",
     "text": [
      "Epoch 70, Loss 0.0515\n",
      "Training Accuracy: 0.9492, Testing Accuracy: 0.9587\n",
      "\n"
     ]
    },
    {
     "name": "stdout",
     "output_type": "stream",
     "text": [
      "Epoch 80, Loss 0.0494\n",
      "Training Accuracy: 0.9512, Testing Accuracy: 0.9592\n",
      "\n"
     ]
    },
    {
     "name": "stdout",
     "output_type": "stream",
     "text": [
      "Epoch 90, Loss 0.0476\n",
      "Training Accuracy: 0.9518, Testing Accuracy: 0.9602\n",
      "\n"
     ]
    },
    {
     "name": "stdout",
     "output_type": "stream",
     "text": [
      "Epoch 100, Loss 0.0462\n",
      "Training Accuracy: 0.9533, Testing Accuracy: 0.9622\n",
      "\n"
     ]
    },
    {
     "name": "stdout",
     "output_type": "stream",
     "text": [
      "Epoch 110, Loss 0.0449\n",
      "Training Accuracy: 0.9546, Testing Accuracy: 0.9617\n",
      "\n"
     ]
    },
    {
     "name": "stdout",
     "output_type": "stream",
     "text": [
      "Epoch 120, Loss 0.0438\n",
      "Training Accuracy: 0.9557, Testing Accuracy: 0.9637\n",
      "\n"
     ]
    },
    {
     "name": "stdout",
     "output_type": "stream",
     "text": [
      "Epoch 130, Loss 0.0429\n",
      "Training Accuracy: 0.9565, Testing Accuracy: 0.9647\n",
      "\n"
     ]
    },
    {
     "name": "stdout",
     "output_type": "stream",
     "text": [
      "Epoch 140, Loss 0.042\n",
      "Training Accuracy: 0.9571, Testing Accuracy: 0.9652\n",
      "\n"
     ]
    },
    {
     "name": "stdout",
     "output_type": "stream",
     "text": [
      "Epoch 150, Loss 0.0413\n",
      "Training Accuracy: 0.9578, Testing Accuracy: 0.9657\n",
      "\n"
     ]
    },
    {
     "name": "stdout",
     "output_type": "stream",
     "text": [
      "Epoch 160, Loss 0.0406\n",
      "Training Accuracy: 0.9582, Testing Accuracy: 0.9667\n",
      "\n"
     ]
    },
    {
     "name": "stdout",
     "output_type": "stream",
     "text": [
      "Epoch 170, Loss 0.04\n",
      "Training Accuracy: 0.9586, Testing Accuracy: 0.9667\n",
      "\n"
     ]
    },
    {
     "name": "stdout",
     "output_type": "stream",
     "text": [
      "Epoch 180, Loss 0.0394\n",
      "Training Accuracy: 0.9590, Testing Accuracy: 0.9667\n",
      "\n"
     ]
    },
    {
     "name": "stdout",
     "output_type": "stream",
     "text": [
      "Epoch 190, Loss 0.0389\n",
      "Training Accuracy: 0.9597, Testing Accuracy: 0.9667\n",
      "\n"
     ]
    },
    {
     "name": "stdout",
     "output_type": "stream",
     "text": [
      "Epoch 200, Loss 0.0384\n",
      "Training Accuracy: 0.9600, Testing Accuracy: 0.9672\n",
      "\n"
     ]
    },
    {
     "name": "stdout",
     "output_type": "stream",
     "text": [
      "Epoch 210, Loss 0.0379\n",
      "Training Accuracy: 0.9604, Testing Accuracy: 0.9672\n",
      "\n"
     ]
    },
    {
     "name": "stdout",
     "output_type": "stream",
     "text": [
      "Epoch 220, Loss 0.0375\n",
      "Training Accuracy: 0.9604, Testing Accuracy: 0.9677\n",
      "\n"
     ]
    },
    {
     "name": "stdout",
     "output_type": "stream",
     "text": [
      "Epoch 230, Loss 0.0371\n",
      "Training Accuracy: 0.9610, Testing Accuracy: 0.9682\n",
      "\n"
     ]
    },
    {
     "name": "stdout",
     "output_type": "stream",
     "text": [
      "Epoch 240, Loss 0.0368\n",
      "Training Accuracy: 0.9614, Testing Accuracy: 0.9688\n",
      "\n"
     ]
    },
    {
     "data": {
      "text/plain": [
       "0.04655079471296765"
      ]
     },
     "execution_count": 23,
     "metadata": {},
     "output_type": "execute_result"
    }
   ],
   "source": [
    "lr_learner.train_loop(dl)"
   ]
  },
  {
   "cell_type": "code",
   "execution_count": 24,
   "id": "ca410940",
   "metadata": {
    "execution": {
     "iopub.execute_input": "2022-06-23T10:11:39.363587Z",
     "iopub.status.busy": "2022-06-23T10:11:39.362987Z",
     "iopub.status.idle": "2022-06-23T10:11:39.580896Z",
     "shell.execute_reply": "2022-06-23T10:11:39.580353Z"
    },
    "papermill": {
     "duration": 0.268802,
     "end_time": "2022-06-23T10:11:39.581037",
     "exception": false,
     "start_time": "2022-06-23T10:11:39.312235",
     "status": "completed"
    },
    "tags": []
   },
   "outputs": [
    {
     "data": {
      "text/plain": [
       "<matplotlib.legend.Legend at 0x7f074505a978>"
      ]
     },
     "execution_count": 24,
     "metadata": {},
     "output_type": "execute_result"
    },
    {
     "data": {
      "image/png": "[encoded data removed]",
      "text/plain": [
       "<Figure size 1080x720 with 1 Axes>"
      ]
     },
     "metadata": {
      "needs_background": "light"
     },
     "output_type": "display_data"
    }
   ],
   "source": [
    "#comparing the results of NN and LR\n",
    "plt.figure(figsize=(15,10))\n",
    "\n",
    "# Neural Network plots\n",
    "plt.plot(acc_nn.accuracies, 'r-', label = \"Training Accuracies - NN\")\n",
    "plt.plot(acc_nn.test_accuracies, 'g-', label = \"Testing Accuracies - NN\")\n",
    "\n",
    "# Logistic Regression plots\n",
    "plt.plot(acc_lr.accuracies, 'k-', label = \"Training Accuracies - LR\")\n",
    "plt.plot(acc_lr.test_accuracies, 'b-', label = \"Testing Accuracies - LR\")\n",
    "plt.legend()"
   ]
  },
  {
   "cell_type": "markdown",
   "id": "80dfb35c",
   "metadata": {
    "papermill": {
     "duration": 0.042343,
     "end_time": "2022-06-23T10:11:39.666118",
     "exception": false,
     "start_time": "2022-06-23T10:11:39.623775",
     "status": "completed"
    },
    "tags": []
   },
   "source": [
    "#### Plotting the outputs of this layer of the NN.\n"
   ]
  },
  {
   "cell_type": "code",
   "execution_count": 25,
   "id": "45eb2ff5",
   "metadata": {
    "execution": {
     "iopub.execute_input": "2022-06-23T10:11:39.774621Z",
     "iopub.status.busy": "2022-06-23T10:11:39.773961Z",
     "iopub.status.idle": "2022-06-23T10:11:39.783144Z",
     "shell.execute_reply": "2022-06-23T10:11:39.782642Z"
    },
    "papermill": {
     "duration": 0.074918,
     "end_time": "2022-06-23T10:11:39.783267",
     "exception": false,
     "start_time": "2022-06-23T10:11:39.708349",
     "status": "completed"
    },
    "tags": []
   },
   "outputs": [],
   "source": [
    "new_model = Model(layers[:-2])\n",
    "testing_plot = new_model(testing_data_x)"
   ]
  },
  {
   "cell_type": "code",
   "execution_count": 26,
   "id": "4c0a5485",
   "metadata": {
    "execution": {
     "iopub.execute_input": "2022-06-23T10:11:39.873791Z",
     "iopub.status.busy": "2022-06-23T10:11:39.873149Z",
     "iopub.status.idle": "2022-06-23T10:11:40.087054Z",
     "shell.execute_reply": "2022-06-23T10:11:40.087529Z"
    },
    "papermill": {
     "duration": 0.261672,
     "end_time": "2022-06-23T10:11:40.087675",
     "exception": false,
     "start_time": "2022-06-23T10:11:39.826003",
     "status": "completed"
    },
    "tags": []
   },
   "outputs": [
    {
     "data": {
      "text/plain": [
       "Text(0.5, 1.0, 'Outputs')"
      ]
     },
     "execution_count": 26,
     "metadata": {},
     "output_type": "execute_result"
    },
    {
     "data": {
      "image/png": "[encoded data removed]",
      "text/plain": [
       "<Figure size 576x504 with 1 Axes>"
      ]
     },
     "metadata": {
      "needs_background": "light"
     },
     "output_type": "display_data"
    }
   ],
   "source": [
    "# Plotting the scatter plot of points and color coding by class\n",
    "plt.figure(figsize=(8,7))\n",
    "plt.scatter(testing_plot[:,0], testing_plot[:,1], alpha = 0.1, c = y_test.ravel());\n",
    "plt.title('Outputs')"
   ]
  },
  {
   "cell_type": "markdown",
   "id": "a74fcf8f",
   "metadata": {
    "papermill": {
     "duration": 0.044928,
     "end_time": "2022-06-23T10:11:40.177654",
     "exception": false,
     "start_time": "2022-06-23T10:11:40.132726",
     "status": "completed"
    },
    "tags": []
   },
   "source": [
    "Probability contours"
   ]
  },
  {
   "cell_type": "code",
   "execution_count": 27,
   "id": "d0afc8e3",
   "metadata": {
    "execution": {
     "iopub.execute_input": "2022-06-23T10:11:40.311171Z",
     "iopub.status.busy": "2022-06-23T10:11:40.310236Z",
     "iopub.status.idle": "2022-06-23T10:11:40.319790Z",
     "shell.execute_reply": "2022-06-23T10:11:40.319082Z"
    },
    "papermill": {
     "duration": 0.097398,
     "end_time": "2022-06-23T10:11:40.319908",
     "exception": false,
     "start_time": "2022-06-23T10:11:40.222510",
     "status": "completed"
    },
    "tags": []
   },
   "outputs": [],
   "source": [
    "model_prob = Model(layers[-2:]) "
   ]
  },
  {
   "cell_type": "code",
   "execution_count": 28,
   "id": "9b96e238",
   "metadata": {
    "execution": {
     "iopub.execute_input": "2022-06-23T10:11:40.419310Z",
     "iopub.status.busy": "2022-06-23T10:11:40.413940Z",
     "iopub.status.idle": "2022-06-23T10:11:40.432702Z",
     "shell.execute_reply": "2022-06-23T10:11:40.432135Z"
    },
    "papermill": {
     "duration": 0.067931,
     "end_time": "2022-06-23T10:11:40.432814",
     "exception": false,
     "start_time": "2022-06-23T10:11:40.364883",
     "status": "completed"
    },
    "tags": []
   },
   "outputs": [],
   "source": [
    "#creating the x and y ranges according to the above generated plot.\n",
    "x_range = np.linspace(-4, 1, 100) \n",
    "y_range = np.linspace(-6, 6, 100) \n",
    "x_grid, y_grid = np.meshgrid(x_range, y_range) # x_grid and y_grig are of size 100 X 100\n",
    "\n",
    "# converting x_grid and y_grid to continuous arrays\n",
    "x_gridflat = np.ravel(x_grid)\n",
    "y_gridflat = np.ravel(y_grid)\n",
    "\n",
    "# The last layer of the current model takes two columns as input. Hence transpose of np.vstack() is required.\n",
    "X = np.vstack((x_gridflat, y_gridflat)).T\n",
    "\n",
    "prob_contour = model_prob(X).reshape(100,100) "
   ]
  },
  {
   "cell_type": "code",
   "execution_count": 29,
   "id": "da72499a",
   "metadata": {
    "execution": {
     "iopub.execute_input": "2022-06-23T10:11:40.527296Z",
     "iopub.status.busy": "2022-06-23T10:11:40.526705Z",
     "iopub.status.idle": "2022-06-23T10:11:40.792170Z",
     "shell.execute_reply": "2022-06-23T10:11:40.791048Z"
    },
    "papermill": {
     "duration": 0.314431,
     "end_time": "2022-06-23T10:11:40.792303",
     "exception": false,
     "start_time": "2022-06-23T10:11:40.477872",
     "status": "completed"
    },
    "tags": []
   },
   "outputs": [
    {
     "data": {
      "image/png": "[encoded data removed]",
      "text/plain": [
       "<Figure size 720x648 with 1 Axes>"
      ]
     },
     "metadata": {
      "needs_background": "light"
     },
     "output_type": "display_data"
    }
   ],
   "source": [
    "plt.figure(figsize=(10,9))\n",
    "plt.scatter(testing_plot[:,0], testing_plot[:,1], alpha = 0.1, c = y_test.ravel())\n",
    "contours = plt.contour(x_grid,y_grid,prob_contour)\n",
    "plt.title('Probability Contours')\n",
    "plt.clabel(contours, inline = True );"
   ]
  },
  {
   "cell_type": "code",
   "execution_count": null,
   "id": "e81b4ac7",
   "metadata": {
    "papermill": {
     "duration": 0.048088,
     "end_time": "2022-06-23T10:11:40.889411",
     "exception": false,
     "start_time": "2022-06-23T10:11:40.841323",
     "status": "completed"
    },
    "tags": []
   },
   "outputs": [],
   "source": []
  }
 ],
 "metadata": {
  "kernelspec": {
   "display_name": "Python 3",
   "language": "python",
   "name": "python3"
  },
  "language_info": {
   "codemirror_mode": {
    "name": "ipython",
    "version": 3
   },
   "file_extension": ".py",
   "mimetype": "text/x-python",
   "name": "python",
   "nbconvert_exporter": "python",
   "pygments_lexer": "ipython3",
   "version": "3.6.15"
  },
  "papermill": {
   "default_parameters": {},
   "duration": 97.423797,
   "end_time": "2022-06-23T10:11:41.357203",
   "environment_variables": {},
   "exception": null,
   "input_path": "2020-08-11-part2.ipynb",
   "output_path": "2020-08-11-part2.ipynb",
   "parameters": {},
   "start_time": "2022-06-23T10:10:03.933406",
   "version": "2.3.3"
  }
 },
 "nbformat": 4,
 "nbformat_minor": 5
}