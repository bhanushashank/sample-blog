{
 "cells": [
  {
   "cell_type": "markdown",
   "id": "98380cd3",
   "metadata": {
    "papermill": {
     "duration": 0.0302,
     "end_time": "2022-09-04T00:44:35.369325",
     "exception": false,
     "start_time": "2022-09-04T00:44:35.339125",
     "status": "completed"
    },
    "tags": []
   },
   "source": [
    "# Distinguish Your Own Digits (DYOD)"
   ]
  },
  {
   "cell_type": "markdown",
   "id": "ef31240d",
   "metadata": {
    "papermill": {
     "duration": 0.024353,
     "end_time": "2022-09-04T00:44:35.419112",
     "exception": false,
     "start_time": "2022-09-04T00:44:35.394759",
     "status": "completed"
    },
    "tags": []
   },
   "source": [
    "You are going to write a classifier that distinguishes between the number 3 and number 8."
   ]
  },
  {
   "cell_type": "code",
   "execution_count": 1,
   "id": "b15c8646",
   "metadata": {
    "execution": {
     "iopub.execute_input": "2022-09-04T00:44:35.477845Z",
     "iopub.status.busy": "2022-09-04T00:44:35.477213Z",
     "iopub.status.idle": "2022-09-04T00:44:35.488574Z",
     "shell.execute_reply": "2022-09-04T00:44:35.488059Z"
    },
    "papermill": {
     "duration": 0.045668,
     "end_time": "2022-09-04T00:44:35.488712",
     "exception": false,
     "start_time": "2022-09-04T00:44:35.443044",
     "status": "completed"
    },
    "tags": []
   },
   "outputs": [],
   "source": [
    "%load_ext autoreload\n",
    "%autoreload 2"
   ]
  },
  {
   "cell_type": "code",
   "execution_count": 2,
   "id": "22ef38dc",
   "metadata": {
    "execution": {
     "iopub.execute_input": "2022-09-04T00:44:35.541511Z",
     "iopub.status.busy": "2022-09-04T00:44:35.540922Z",
     "iopub.status.idle": "2022-09-04T00:44:36.108667Z",
     "shell.execute_reply": "2022-09-04T00:44:36.108057Z"
    },
    "papermill": {
     "duration": 0.595938,
     "end_time": "2022-09-04T00:44:36.108796",
     "exception": false,
     "start_time": "2022-09-04T00:44:35.512858",
     "status": "completed"
    },
    "tags": []
   },
   "outputs": [],
   "source": [
    "%matplotlib inline\n",
    "import numpy as np\n",
    "import matplotlib.pyplot as plt\n",
    "import pandas as pd"
   ]
  },
  {
   "cell_type": "markdown",
   "id": "ba036198",
   "metadata": {
    "papermill": {
     "duration": 0.023952,
     "end_time": "2022-09-04T00:44:36.157181",
     "exception": false,
     "start_time": "2022-09-04T00:44:36.133229",
     "status": "completed"
    },
    "tags": []
   },
   "source": [
    "From the command line run `pip install mnist`. This is a library that will help you bring down the mnist dataset. If you run this from a notebook, you need to put  `!pip install mnist` in a cell by itself."
   ]
  },
  {
   "cell_type": "code",
   "execution_count": 3,
   "id": "bb6ad8a1",
   "metadata": {
    "execution": {
     "iopub.execute_input": "2022-09-04T00:44:36.212766Z",
     "iopub.status.busy": "2022-09-04T00:44:36.212064Z",
     "iopub.status.idle": "2022-09-04T00:44:37.867614Z",
     "shell.execute_reply": "2022-09-04T00:44:37.868212Z"
    },
    "papermill": {
     "duration": 1.687208,
     "end_time": "2022-09-04T00:44:37.868362",
     "exception": false,
     "start_time": "2022-09-04T00:44:36.181154",
     "status": "completed"
    },
    "tags": []
   },
   "outputs": [
    {
     "name": "stdout",
     "output_type": "stream",
     "text": [
      "Collecting mnist\r\n"
     ]
    },
    {
     "name": "stdout",
     "output_type": "stream",
     "text": [
      "  Downloading mnist-0.2.2-py2.py3-none-any.whl (3.5 kB)\r\n",
      "Requirement already satisfied: numpy in /opt/hostedtoolcache/Python/3.6.15/x64/lib/python3.6/site-packages (from mnist) (1.19.5)\r\n"
     ]
    },
    {
     "name": "stdout",
     "output_type": "stream",
     "text": [
      "Installing collected packages: mnist\r\n"
     ]
    },
    {
     "name": "stdout",
     "output_type": "stream",
     "text": [
      "Successfully installed mnist-0.2.2\r\n"
     ]
    }
   ],
   "source": [
    "!pip install mnist"
   ]
  },
  {
   "cell_type": "markdown",
   "id": "69df9c9a",
   "metadata": {
    "papermill": {
     "duration": 0.02505,
     "end_time": "2022-09-04T00:44:37.918676",
     "exception": false,
     "start_time": "2022-09-04T00:44:37.893626",
     "status": "completed"
    },
    "tags": []
   },
   "source": [
    "## Preparing the Data"
   ]
  },
  {
   "cell_type": "code",
   "execution_count": 4,
   "id": "7f69d806",
   "metadata": {
    "execution": {
     "iopub.execute_input": "2022-09-04T00:44:37.985532Z",
     "iopub.status.busy": "2022-09-04T00:44:37.982443Z",
     "iopub.status.idle": "2022-09-04T00:44:37.991964Z",
     "shell.execute_reply": "2022-09-04T00:44:37.991445Z"
    },
    "papermill": {
     "duration": 0.048284,
     "end_time": "2022-09-04T00:44:37.992081",
     "exception": false,
     "start_time": "2022-09-04T00:44:37.943797",
     "status": "completed"
    },
    "tags": []
   },
   "outputs": [],
   "source": [
    "import mnist"
   ]
  },
  {
   "cell_type": "code",
   "execution_count": 5,
   "id": "a411e44f",
   "metadata": {
    "execution": {
     "iopub.execute_input": "2022-09-04T00:44:38.046875Z",
     "iopub.status.busy": "2022-09-04T00:44:38.046262Z",
     "iopub.status.idle": "2022-09-04T00:44:38.659820Z",
     "shell.execute_reply": "2022-09-04T00:44:38.659207Z"
    },
    "papermill": {
     "duration": 0.642586,
     "end_time": "2022-09-04T00:44:38.659968",
     "exception": false,
     "start_time": "2022-09-04T00:44:38.017382",
     "status": "completed"
    },
    "tags": []
   },
   "outputs": [],
   "source": [
    "train_images = mnist.train_images()\n",
    "train_labels = mnist.train_labels()"
   ]
  },
  {
   "cell_type": "code",
   "execution_count": 6,
   "id": "dceab3a5",
   "metadata": {
    "execution": {
     "iopub.execute_input": "2022-09-04T00:44:38.730116Z",
     "iopub.status.busy": "2022-09-04T00:44:38.723778Z",
     "iopub.status.idle": "2022-09-04T00:44:38.735118Z",
     "shell.execute_reply": "2022-09-04T00:44:38.734657Z"
    },
    "papermill": {
     "duration": 0.049525,
     "end_time": "2022-09-04T00:44:38.735235",
     "exception": false,
     "start_time": "2022-09-04T00:44:38.685710",
     "status": "completed"
    },
    "tags": []
   },
   "outputs": [
    {
     "data": {
      "text/plain": [
       "((60000, 28, 28), (60000,))"
      ]
     },
     "execution_count": 6,
     "metadata": {},
     "output_type": "execute_result"
    }
   ],
   "source": [
    "train_images.shape, train_labels.shape"
   ]
  },
  {
   "cell_type": "code",
   "execution_count": 7,
   "id": "f50dc2bb",
   "metadata": {
    "execution": {
     "iopub.execute_input": "2022-09-04T00:44:38.802782Z",
     "iopub.status.busy": "2022-09-04T00:44:38.800696Z",
     "iopub.status.idle": "2022-09-04T00:44:38.966558Z",
     "shell.execute_reply": "2022-09-04T00:44:38.965901Z"
    },
    "papermill": {
     "duration": 0.205895,
     "end_time": "2022-09-04T00:44:38.966697",
     "exception": false,
     "start_time": "2022-09-04T00:44:38.760802",
     "status": "completed"
    },
    "tags": []
   },
   "outputs": [],
   "source": [
    "test_images = mnist.test_images()\n",
    "test_labels = mnist.test_labels()"
   ]
  },
  {
   "cell_type": "code",
   "execution_count": 8,
   "id": "fc38cf1b",
   "metadata": {
    "execution": {
     "iopub.execute_input": "2022-09-04T00:44:39.023342Z",
     "iopub.status.busy": "2022-09-04T00:44:39.022727Z",
     "iopub.status.idle": "2022-09-04T00:44:39.035523Z",
     "shell.execute_reply": "2022-09-04T00:44:39.036112Z"
    },
    "papermill": {
     "duration": 0.043362,
     "end_time": "2022-09-04T00:44:39.036247",
     "exception": false,
     "start_time": "2022-09-04T00:44:38.992885",
     "status": "completed"
    },
    "tags": []
   },
   "outputs": [
    {
     "data": {
      "text/plain": [
       "((10000, 28, 28), (10000,))"
      ]
     },
     "execution_count": 8,
     "metadata": {},
     "output_type": "execute_result"
    }
   ],
   "source": [
    "test_images.shape, test_labels.shape"
   ]
  },
  {
   "cell_type": "code",
   "execution_count": 9,
   "id": "f9ed8fe0",
   "metadata": {
    "execution": {
     "iopub.execute_input": "2022-09-04T00:44:39.092860Z",
     "iopub.status.busy": "2022-09-04T00:44:39.092265Z",
     "iopub.status.idle": "2022-09-04T00:44:39.234674Z",
     "shell.execute_reply": "2022-09-04T00:44:39.234201Z"
    },
    "papermill": {
     "duration": 0.172942,
     "end_time": "2022-09-04T00:44:39.234794",
     "exception": false,
     "start_time": "2022-09-04T00:44:39.061852",
     "status": "completed"
    },
    "tags": []
   },
   "outputs": [
    {
     "name": "stdout",
     "output_type": "stream",
     "text": [
      "2\n"
     ]
    },
    {
     "data": {
      "text/plain": [
       "<matplotlib.image.AxesImage at 0x7f877843cc18>"
      ]
     },
     "execution_count": 9,
     "metadata": {},
     "output_type": "execute_result"
    },
    {
     "data": {
      "image/png": "[encoded data removed]",
      "text/plain": [
       "<Figure size 432x288 with 1 Axes>"
      ]
     },
     "metadata": {
      "needs_background": "light"
     },
     "output_type": "display_data"
    }
   ],
   "source": [
    "image_index = 7776 # You may select anything up to 60,000\n",
    "print(train_labels[image_index]) \n",
    "plt.imshow(train_images[image_index], cmap='Greys')"
   ]
  },
  {
   "cell_type": "markdown",
   "id": "a8d2388d",
   "metadata": {
    "papermill": {
     "duration": 0.026689,
     "end_time": "2022-09-04T00:44:39.288542",
     "exception": false,
     "start_time": "2022-09-04T00:44:39.261853",
     "status": "completed"
    },
    "tags": []
   },
   "source": [
    "## Filter data to get 3 and 8 out"
   ]
  },
  {
   "cell_type": "code",
   "execution_count": 10,
   "id": "776f7fc7",
   "metadata": {
    "execution": {
     "iopub.execute_input": "2022-09-04T00:44:39.360661Z",
     "iopub.status.busy": "2022-09-04T00:44:39.356970Z",
     "iopub.status.idle": "2022-09-04T00:44:39.369786Z",
     "shell.execute_reply": "2022-09-04T00:44:39.369288Z"
    },
    "papermill": {
     "duration": 0.054713,
     "end_time": "2022-09-04T00:44:39.369901",
     "exception": false,
     "start_time": "2022-09-04T00:44:39.315188",
     "status": "completed"
    },
    "tags": []
   },
   "outputs": [],
   "source": [
    "train_filter = np.where((train_labels == 3 ) | (train_labels == 8))\n",
    "test_filter = np.where((test_labels == 3) | (test_labels == 8))\n",
    "X_train, y_train = train_images[train_filter], train_labels[train_filter]\n",
    "X_test, y_test = test_images[test_filter], test_labels[test_filter]"
   ]
  },
  {
   "cell_type": "markdown",
   "id": "948f0b7e",
   "metadata": {
    "papermill": {
     "duration": 0.026717,
     "end_time": "2022-09-04T00:44:39.423818",
     "exception": false,
     "start_time": "2022-09-04T00:44:39.397101",
     "status": "completed"
    },
    "tags": []
   },
   "source": [
    "We normalize the pizel values in the 0 to 1 range"
   ]
  },
  {
   "cell_type": "code",
   "execution_count": 11,
   "id": "ee4c2166",
   "metadata": {
    "execution": {
     "iopub.execute_input": "2022-09-04T00:44:39.493005Z",
     "iopub.status.busy": "2022-09-04T00:44:39.480642Z",
     "iopub.status.idle": "2022-09-04T00:44:39.531823Z",
     "shell.execute_reply": "2022-09-04T00:44:39.530914Z"
    },
    "papermill": {
     "duration": 0.081562,
     "end_time": "2022-09-04T00:44:39.531961",
     "exception": false,
     "start_time": "2022-09-04T00:44:39.450399",
     "status": "completed"
    },
    "tags": []
   },
   "outputs": [],
   "source": [
    "X_train = X_train/255.\n",
    "X_test = X_test/255."
   ]
  },
  {
   "cell_type": "markdown",
   "id": "ddcf4fab",
   "metadata": {
    "papermill": {
     "duration": 0.026674,
     "end_time": "2022-09-04T00:44:39.588044",
     "exception": false,
     "start_time": "2022-09-04T00:44:39.561370",
     "status": "completed"
    },
    "tags": []
   },
   "source": [
    "And setup the labels as 1 (when the digit is 3) and 0 (when the digit is 8)"
   ]
  },
  {
   "cell_type": "code",
   "execution_count": 12,
   "id": "7dc908f2",
   "metadata": {
    "execution": {
     "iopub.execute_input": "2022-09-04T00:44:39.648525Z",
     "iopub.status.busy": "2022-09-04T00:44:39.645211Z",
     "iopub.status.idle": "2022-09-04T00:44:39.658996Z",
     "shell.execute_reply": "2022-09-04T00:44:39.658510Z"
    },
    "papermill": {
     "duration": 0.044413,
     "end_time": "2022-09-04T00:44:39.659110",
     "exception": false,
     "start_time": "2022-09-04T00:44:39.614697",
     "status": "completed"
    },
    "tags": []
   },
   "outputs": [],
   "source": [
    "y_train = 1*(y_train==3)\n",
    "y_test = 1*(y_test==3)"
   ]
  },
  {
   "cell_type": "code",
   "execution_count": 13,
   "id": "01e4e969",
   "metadata": {
    "execution": {
     "iopub.execute_input": "2022-09-04T00:44:39.716842Z",
     "iopub.status.busy": "2022-09-04T00:44:39.716264Z",
     "iopub.status.idle": "2022-09-04T00:44:39.731927Z",
     "shell.execute_reply": "2022-09-04T00:44:39.731413Z"
    },
    "papermill": {
     "duration": 0.046023,
     "end_time": "2022-09-04T00:44:39.732045",
     "exception": false,
     "start_time": "2022-09-04T00:44:39.686022",
     "status": "completed"
    },
    "tags": []
   },
   "outputs": [
    {
     "data": {
      "text/plain": [
       "((11982, 28, 28), (1984, 28, 28))"
      ]
     },
     "execution_count": 13,
     "metadata": {},
     "output_type": "execute_result"
    }
   ],
   "source": [
    "X_train.shape, X_test.shape"
   ]
  },
  {
   "cell_type": "markdown",
   "id": "5ccf3f85",
   "metadata": {
    "papermill": {
     "duration": 0.026977,
     "end_time": "2022-09-04T00:44:39.785962",
     "exception": false,
     "start_time": "2022-09-04T00:44:39.758985",
     "status": "completed"
    },
    "tags": []
   },
   "source": [
    "We reshape the data to flatten the image pixels into a set of features or co-variates:"
   ]
  },
  {
   "cell_type": "code",
   "execution_count": 14,
   "id": "5286a4a3",
   "metadata": {
    "execution": {
     "iopub.execute_input": "2022-09-04T00:44:39.845946Z",
     "iopub.status.busy": "2022-09-04T00:44:39.845327Z",
     "iopub.status.idle": "2022-09-04T00:44:39.858992Z",
     "shell.execute_reply": "2022-09-04T00:44:39.859557Z"
    },
    "papermill": {
     "duration": 0.04671,
     "end_time": "2022-09-04T00:44:39.859724",
     "exception": false,
     "start_time": "2022-09-04T00:44:39.813014",
     "status": "completed"
    },
    "tags": []
   },
   "outputs": [
    {
     "data": {
      "text/plain": [
       "((11982, 784), (1984, 784))"
      ]
     },
     "execution_count": 14,
     "metadata": {},
     "output_type": "execute_result"
    }
   ],
   "source": [
    "X_train = X_train.reshape(X_train.shape[0], -1)\n",
    "X_test = X_test.reshape(X_test.shape[0], -1)\n",
    "X_train.shape, X_test.shape"
   ]
  },
  {
   "cell_type": "code",
   "execution_count": 15,
   "id": "73c5f88a",
   "metadata": {
    "execution": {
     "iopub.execute_input": "2022-09-04T00:44:39.919168Z",
     "iopub.status.busy": "2022-09-04T00:44:39.918564Z",
     "iopub.status.idle": "2022-09-04T00:44:39.937984Z",
     "shell.execute_reply": "2022-09-04T00:44:39.937514Z"
    },
    "papermill": {
     "duration": 0.051094,
     "end_time": "2022-09-04T00:44:39.938102",
     "exception": false,
     "start_time": "2022-09-04T00:44:39.887008",
     "status": "completed"
    },
    "tags": []
   },
   "outputs": [],
   "source": [
    "#Impoting functions from 'Kudzu'\n",
    "from kudzu.model import Model\n",
    "from kudzu.train import Learner\n",
    "from kudzu.optim import GD\n",
    "from kudzu.data import Data, Sampler,Dataloader\n",
    "\n",
    "from kudzu.callbacks import AccCallback\n",
    "from kudzu.callbacks import ClfCallback\n",
    "\n",
    "from kudzu.loss import MSE\n",
    "\n",
    "from kudzu.layer import Sigmoid,Relu\n",
    "from kudzu.layer import Affine"
   ]
  },
  {
   "cell_type": "markdown",
   "id": "bc01172a",
   "metadata": {
    "papermill": {
     "duration": 0.027117,
     "end_time": "2022-09-04T00:44:39.992547",
     "exception": false,
     "start_time": "2022-09-04T00:44:39.965430",
     "status": "completed"
    },
    "tags": []
   },
   "source": [
    "### Let us create a `Config` class, to store important parameters. \n",
    "This class essentially plays the role of a dictionary."
   ]
  },
  {
   "cell_type": "code",
   "execution_count": 16,
   "id": "978281aa",
   "metadata": {
    "execution": {
     "iopub.execute_input": "2022-09-04T00:44:40.050950Z",
     "iopub.status.busy": "2022-09-04T00:44:40.050350Z",
     "iopub.status.idle": "2022-09-04T00:44:40.063829Z",
     "shell.execute_reply": "2022-09-04T00:44:40.063296Z"
    },
    "papermill": {
     "duration": 0.044405,
     "end_time": "2022-09-04T00:44:40.063954",
     "exception": false,
     "start_time": "2022-09-04T00:44:40.019549",
     "status": "completed"
    },
    "tags": []
   },
   "outputs": [],
   "source": [
    "class Config:\n",
    "    pass\n",
    "config = Config()\n",
    "config.lr = 0.001\n",
    "config.num_epochs = 250\n",
    "config.bs = 50"
   ]
  },
  {
   "cell_type": "markdown",
   "id": "1385fa59",
   "metadata": {
    "papermill": {
     "duration": 0.027072,
     "end_time": "2022-09-04T00:44:40.118371",
     "exception": false,
     "start_time": "2022-09-04T00:44:40.091299",
     "status": "completed"
    },
    "tags": []
   },
   "source": [
    "### Running Models with the Training data\n",
    "Details about the network layers:\n",
    "- A first affine layer has 784 inputs and does 100 affine transforms. These are followed by a Relu\n",
    "- A second affine layer has 100 inputs from the 100 activations of the past layer, and does 100 affine transforms. These are followed by a Relu\n",
    "- A third affine layer has 100 activations and does 2 affine transformations to create an embedding for visualization. There is no non-linearity here.\n",
    "- A final \"logistic regression\" which has an affine transform from 2 inputs to 1 output, which is squeezed through a sigmoid.\n"
   ]
  },
  {
   "cell_type": "code",
   "execution_count": 17,
   "id": "2b9c66db",
   "metadata": {
    "execution": {
     "iopub.execute_input": "2022-09-04T00:44:40.177871Z",
     "iopub.status.busy": "2022-09-04T00:44:40.177233Z",
     "iopub.status.idle": "2022-09-04T00:44:40.191217Z",
     "shell.execute_reply": "2022-09-04T00:44:40.190699Z"
    },
    "papermill": {
     "duration": 0.045866,
     "end_time": "2022-09-04T00:44:40.191334",
     "exception": false,
     "start_time": "2022-09-04T00:44:40.145468",
     "status": "completed"
    },
    "tags": []
   },
   "outputs": [],
   "source": [
    "data = Data(X_train, y_train.reshape(-1,1))\n",
    "sampler = Sampler(data, config.bs, shuffle=True)\n",
    "\n",
    "dl = Dataloader(data, sampler)\n",
    "\n",
    "opt = GD(config.lr)\n",
    "loss = MSE()"
   ]
  },
  {
   "cell_type": "code",
   "execution_count": 18,
   "id": "b275e4c2",
   "metadata": {
    "execution": {
     "iopub.execute_input": "2022-09-04T00:44:40.258903Z",
     "iopub.status.busy": "2022-09-04T00:44:40.258270Z",
     "iopub.status.idle": "2022-09-04T00:44:40.266320Z",
     "shell.execute_reply": "2022-09-04T00:44:40.265817Z"
    },
    "papermill": {
     "duration": 0.047744,
     "end_time": "2022-09-04T00:44:40.266437",
     "exception": false,
     "start_time": "2022-09-04T00:44:40.218693",
     "status": "completed"
    },
    "tags": []
   },
   "outputs": [],
   "source": [
    "training_data_x = X_train\n",
    "testing_data_x = X_test\n",
    "training_data_y = y_train.reshape(-1,1)\n",
    "testing_data_y = y_test.reshape(-1,1)"
   ]
  },
  {
   "cell_type": "code",
   "execution_count": 19,
   "id": "76951160",
   "metadata": {
    "execution": {
     "iopub.execute_input": "2022-09-04T00:44:40.337069Z",
     "iopub.status.busy": "2022-09-04T00:44:40.326907Z",
     "iopub.status.idle": "2022-09-04T00:44:40.345947Z",
     "shell.execute_reply": "2022-09-04T00:44:40.345111Z"
    },
    "papermill": {
     "duration": 0.052435,
     "end_time": "2022-09-04T00:44:40.346071",
     "exception": false,
     "start_time": "2022-09-04T00:44:40.293636",
     "status": "completed"
    },
    "tags": []
   },
   "outputs": [
    {
     "name": "stdout",
     "output_type": "stream",
     "text": [
      "xavier\n",
      "xavier\n",
      "xavier\n",
      "xavier\n",
      "xavier\n"
     ]
    }
   ],
   "source": [
    "layers = [Affine(\"first\", 784, 100), Relu(\"first\"), Affine(\"second\", 100, 100), Relu(\"second\"), Affine(\"third\", 100, 2), Affine(\"last\", 2, 1), Sigmoid(\"last\")]\n",
    "model_nn = Model(layers)\n",
    "model_lr = Model([Affine(\"logits\", 784, 1), Sigmoid(\"sigmoid\")])"
   ]
  },
  {
   "cell_type": "code",
   "execution_count": 20,
   "id": "6eede77a",
   "metadata": {
    "execution": {
     "iopub.execute_input": "2022-09-04T00:44:40.418105Z",
     "iopub.status.busy": "2022-09-04T00:44:40.405321Z",
     "iopub.status.idle": "2022-09-04T00:44:40.423525Z",
     "shell.execute_reply": "2022-09-04T00:44:40.422665Z"
    },
    "papermill": {
     "duration": 0.049914,
     "end_time": "2022-09-04T00:44:40.423674",
     "exception": false,
     "start_time": "2022-09-04T00:44:40.373760",
     "status": "completed"
    },
    "tags": []
   },
   "outputs": [],
   "source": [
    "nn_learner = Learner(loss, model_nn, opt, config.num_epochs)\n",
    "acc_nn = ClfCallback(nn_learner, config.bs, training_data_x , testing_data_x, training_data_y, testing_data_y)\n",
    "nn_learner.set_callbacks([acc_nn])"
   ]
  },
  {
   "cell_type": "code",
   "execution_count": 21,
   "id": "877b6cc7",
   "metadata": {
    "execution": {
     "iopub.execute_input": "2022-09-04T00:44:40.497703Z",
     "iopub.status.busy": "2022-09-04T00:44:40.497072Z",
     "iopub.status.idle": "2022-09-04T00:44:40.499698Z",
     "shell.execute_reply": "2022-09-04T00:44:40.500183Z"
    },
    "papermill": {
     "duration": 0.049012,
     "end_time": "2022-09-04T00:44:40.500323",
     "exception": false,
     "start_time": "2022-09-04T00:44:40.451311",
     "status": "completed"
    },
    "tags": []
   },
   "outputs": [],
   "source": [
    "lr_learner = Learner(loss, model_lr, opt, config.num_epochs)\n",
    "acc_lr = ClfCallback(lr_learner, config.bs, training_data_x , testing_data_x, training_data_y, testing_data_y)\n",
    "lr_learner.set_callbacks([acc_lr])"
   ]
  },
  {
   "cell_type": "code",
   "execution_count": 22,
   "id": "d9b133c3",
   "metadata": {
    "execution": {
     "iopub.execute_input": "2022-09-04T00:44:40.561247Z",
     "iopub.status.busy": "2022-09-04T00:44:40.560643Z",
     "iopub.status.idle": "2022-09-04T00:46:02.045911Z",
     "shell.execute_reply": "2022-09-04T00:46:02.046793Z"
    },
    "papermill": {
     "duration": 81.518871,
     "end_time": "2022-09-04T00:46:02.046938",
     "exception": false,
     "start_time": "2022-09-04T00:44:40.528067",
     "status": "completed"
    },
    "tags": []
   },
   "outputs": [
    {
     "name": "stdout",
     "output_type": "stream",
     "text": [
      "Epoch 0, Loss 0.2381\n",
      "Training Accuracy: 0.6925, Testing Accuracy: 0.6880\n",
      "\n"
     ]
    },
    {
     "name": "stdout",
     "output_type": "stream",
     "text": [
      "Epoch 10, Loss 0.152\n",
      "Training Accuracy: 0.8700, Testing Accuracy: 0.8810\n",
      "\n"
     ]
    },
    {
     "name": "stdout",
     "output_type": "stream",
     "text": [
      "Epoch 20, Loss 0.0802\n",
      "Training Accuracy: 0.9186, Testing Accuracy: 0.9299\n",
      "\n"
     ]
    },
    {
     "name": "stdout",
     "output_type": "stream",
     "text": [
      "Epoch 30, Loss 0.0555\n",
      "Training Accuracy: 0.9422, Testing Accuracy: 0.9491\n",
      "\n"
     ]
    },
    {
     "name": "stdout",
     "output_type": "stream",
     "text": [
      "Epoch 40, Loss 0.0449\n",
      "Training Accuracy: 0.9504, Testing Accuracy: 0.9597\n",
      "\n"
     ]
    },
    {
     "name": "stdout",
     "output_type": "stream",
     "text": [
      "Epoch 50, Loss 0.0392\n",
      "Training Accuracy: 0.9553, Testing Accuracy: 0.9622\n",
      "\n"
     ]
    },
    {
     "name": "stdout",
     "output_type": "stream",
     "text": [
      "Epoch 60, Loss 0.0356\n",
      "Training Accuracy: 0.9587, Testing Accuracy: 0.9652\n",
      "\n"
     ]
    },
    {
     "name": "stdout",
     "output_type": "stream",
     "text": [
      "Epoch 70, Loss 0.0332\n",
      "Training Accuracy: 0.9605, Testing Accuracy: 0.9693\n",
      "\n"
     ]
    },
    {
     "name": "stdout",
     "output_type": "stream",
     "text": [
      "Epoch 80, Loss 0.0314\n",
      "Training Accuracy: 0.9631, Testing Accuracy: 0.9703\n",
      "\n"
     ]
    },
    {
     "name": "stdout",
     "output_type": "stream",
     "text": [
      "Epoch 90, Loss 0.0299\n",
      "Training Accuracy: 0.9647, Testing Accuracy: 0.9698\n",
      "\n"
     ]
    },
    {
     "name": "stdout",
     "output_type": "stream",
     "text": [
      "Epoch 100, Loss 0.0288\n",
      "Training Accuracy: 0.9656, Testing Accuracy: 0.9723\n",
      "\n"
     ]
    },
    {
     "name": "stdout",
     "output_type": "stream",
     "text": [
      "Epoch 110, Loss 0.0278\n",
      "Training Accuracy: 0.9669, Testing Accuracy: 0.9718\n",
      "\n"
     ]
    },
    {
     "name": "stdout",
     "output_type": "stream",
     "text": [
      "Epoch 120, Loss 0.027\n",
      "Training Accuracy: 0.9681, Testing Accuracy: 0.9713\n",
      "\n"
     ]
    },
    {
     "name": "stdout",
     "output_type": "stream",
     "text": [
      "Epoch 130, Loss 0.0262\n",
      "Training Accuracy: 0.9690, Testing Accuracy: 0.9698\n",
      "\n"
     ]
    },
    {
     "name": "stdout",
     "output_type": "stream",
     "text": [
      "Epoch 140, Loss 0.0256\n",
      "Training Accuracy: 0.9701, Testing Accuracy: 0.9703\n",
      "\n"
     ]
    },
    {
     "name": "stdout",
     "output_type": "stream",
     "text": [
      "Epoch 150, Loss 0.025\n",
      "Training Accuracy: 0.9708, Testing Accuracy: 0.9703\n",
      "\n"
     ]
    },
    {
     "name": "stdout",
     "output_type": "stream",
     "text": [
      "Epoch 160, Loss 0.0245\n",
      "Training Accuracy: 0.9714, Testing Accuracy: 0.9693\n",
      "\n"
     ]
    },
    {
     "name": "stdout",
     "output_type": "stream",
     "text": [
      "Epoch 170, Loss 0.024\n",
      "Training Accuracy: 0.9715, Testing Accuracy: 0.9693\n",
      "\n"
     ]
    },
    {
     "name": "stdout",
     "output_type": "stream",
     "text": [
      "Epoch 180, Loss 0.0236\n",
      "Training Accuracy: 0.9722, Testing Accuracy: 0.9688\n",
      "\n"
     ]
    },
    {
     "name": "stdout",
     "output_type": "stream",
     "text": [
      "Epoch 190, Loss 0.0231\n",
      "Training Accuracy: 0.9727, Testing Accuracy: 0.9698\n",
      "\n"
     ]
    },
    {
     "name": "stdout",
     "output_type": "stream",
     "text": [
      "Epoch 200, Loss 0.0227\n",
      "Training Accuracy: 0.9731, Testing Accuracy: 0.9708\n",
      "\n"
     ]
    },
    {
     "name": "stdout",
     "output_type": "stream",
     "text": [
      "Epoch 210, Loss 0.0224\n",
      "Training Accuracy: 0.9737, Testing Accuracy: 0.9703\n",
      "\n"
     ]
    },
    {
     "name": "stdout",
     "output_type": "stream",
     "text": [
      "Epoch 220, Loss 0.022\n",
      "Training Accuracy: 0.9743, Testing Accuracy: 0.9713\n",
      "\n"
     ]
    },
    {
     "name": "stdout",
     "output_type": "stream",
     "text": [
      "Epoch 230, Loss 0.0217\n",
      "Training Accuracy: 0.9750, Testing Accuracy: 0.9713\n",
      "\n"
     ]
    },
    {
     "name": "stdout",
     "output_type": "stream",
     "text": [
      "Epoch 240, Loss 0.0214\n",
      "Training Accuracy: 0.9755, Testing Accuracy: 0.9713\n",
      "\n"
     ]
    },
    {
     "data": {
      "text/plain": [
       "0.03984484994570642"
      ]
     },
     "execution_count": 22,
     "metadata": {},
     "output_type": "execute_result"
    }
   ],
   "source": [
    "nn_learner.train_loop(dl)"
   ]
  },
  {
   "cell_type": "code",
   "execution_count": 23,
   "id": "e0163366",
   "metadata": {
    "execution": {
     "iopub.execute_input": "2022-09-04T00:46:02.125579Z",
     "iopub.status.busy": "2022-09-04T00:46:02.124987Z",
     "iopub.status.idle": "2022-09-04T00:46:16.300449Z",
     "shell.execute_reply": "2022-09-04T00:46:16.301347Z"
    },
    "papermill": {
     "duration": 14.218952,
     "end_time": "2022-09-04T00:46:16.301491",
     "exception": false,
     "start_time": "2022-09-04T00:46:02.082539",
     "status": "completed"
    },
    "tags": []
   },
   "outputs": [
    {
     "name": "stdout",
     "output_type": "stream",
     "text": [
      "Epoch 0, Loss 0.2238\n",
      "Training Accuracy: 0.7328, Testing Accuracy: 0.7354\n",
      "\n"
     ]
    },
    {
     "name": "stdout",
     "output_type": "stream",
     "text": [
      "Epoch 10, Loss 0.1038\n",
      "Training Accuracy: 0.9057, Testing Accuracy: 0.9133\n",
      "\n"
     ]
    },
    {
     "name": "stdout",
     "output_type": "stream",
     "text": [
      "Epoch 20, Loss 0.0802\n",
      "Training Accuracy: 0.9251, Testing Accuracy: 0.9365\n",
      "\n"
     ]
    },
    {
     "name": "stdout",
     "output_type": "stream",
     "text": [
      "Epoch 30, Loss 0.069\n",
      "Training Accuracy: 0.9344, Testing Accuracy: 0.9466\n",
      "\n"
     ]
    },
    {
     "name": "stdout",
     "output_type": "stream",
     "text": [
      "Epoch 40, Loss 0.0622\n",
      "Training Accuracy: 0.9398, Testing Accuracy: 0.9521\n",
      "\n"
     ]
    },
    {
     "name": "stdout",
     "output_type": "stream",
     "text": [
      "Epoch 50, Loss 0.0576\n",
      "Training Accuracy: 0.9436, Testing Accuracy: 0.9546\n",
      "\n"
     ]
    },
    {
     "name": "stdout",
     "output_type": "stream",
     "text": [
      "Epoch 60, Loss 0.0542\n",
      "Training Accuracy: 0.9462, Testing Accuracy: 0.9582\n",
      "\n"
     ]
    },
    {
     "name": "stdout",
     "output_type": "stream",
     "text": [
      "Epoch 70, Loss 0.0515\n",
      "Training Accuracy: 0.9487, Testing Accuracy: 0.9592\n",
      "\n"
     ]
    },
    {
     "name": "stdout",
     "output_type": "stream",
     "text": [
      "Epoch 80, Loss 0.0494\n",
      "Training Accuracy: 0.9491, Testing Accuracy: 0.9602\n",
      "\n"
     ]
    },
    {
     "name": "stdout",
     "output_type": "stream",
     "text": [
      "Epoch 90, Loss 0.0477\n",
      "Training Accuracy: 0.9506, Testing Accuracy: 0.9607\n",
      "\n"
     ]
    },
    {
     "name": "stdout",
     "output_type": "stream",
     "text": [
      "Epoch 100, Loss 0.0463\n",
      "Training Accuracy: 0.9516, Testing Accuracy: 0.9627\n",
      "\n"
     ]
    },
    {
     "name": "stdout",
     "output_type": "stream",
     "text": [
      "Epoch 110, Loss 0.045\n",
      "Training Accuracy: 0.9531, Testing Accuracy: 0.9632\n",
      "\n"
     ]
    },
    {
     "name": "stdout",
     "output_type": "stream",
     "text": [
      "Epoch 120, Loss 0.0439\n",
      "Training Accuracy: 0.9541, Testing Accuracy: 0.9637\n",
      "\n"
     ]
    },
    {
     "name": "stdout",
     "output_type": "stream",
     "text": [
      "Epoch 130, Loss 0.043\n",
      "Training Accuracy: 0.9545, Testing Accuracy: 0.9642\n",
      "\n"
     ]
    },
    {
     "name": "stdout",
     "output_type": "stream",
     "text": [
      "Epoch 140, Loss 0.0421\n",
      "Training Accuracy: 0.9553, Testing Accuracy: 0.9642\n",
      "\n"
     ]
    },
    {
     "name": "stdout",
     "output_type": "stream",
     "text": [
      "Epoch 150, Loss 0.0414\n",
      "Training Accuracy: 0.9564, Testing Accuracy: 0.9657\n",
      "\n"
     ]
    },
    {
     "name": "stdout",
     "output_type": "stream",
     "text": [
      "Epoch 160, Loss 0.0407\n",
      "Training Accuracy: 0.9569, Testing Accuracy: 0.9667\n",
      "\n"
     ]
    },
    {
     "name": "stdout",
     "output_type": "stream",
     "text": [
      "Epoch 170, Loss 0.04\n",
      "Training Accuracy: 0.9578, Testing Accuracy: 0.9672\n",
      "\n"
     ]
    },
    {
     "name": "stdout",
     "output_type": "stream",
     "text": [
      "Epoch 180, Loss 0.0395\n",
      "Training Accuracy: 0.9584, Testing Accuracy: 0.9677\n",
      "\n"
     ]
    },
    {
     "name": "stdout",
     "output_type": "stream",
     "text": [
      "Epoch 190, Loss 0.0389\n",
      "Training Accuracy: 0.9591, Testing Accuracy: 0.9677\n",
      "\n"
     ]
    },
    {
     "name": "stdout",
     "output_type": "stream",
     "text": [
      "Epoch 200, Loss 0.0385\n",
      "Training Accuracy: 0.9594, Testing Accuracy: 0.9682\n",
      "\n"
     ]
    },
    {
     "name": "stdout",
     "output_type": "stream",
     "text": [
      "Epoch 210, Loss 0.038\n",
      "Training Accuracy: 0.9599, Testing Accuracy: 0.9682\n",
      "\n"
     ]
    },
    {
     "name": "stdout",
     "output_type": "stream",
     "text": [
      "Epoch 220, Loss 0.0376\n",
      "Training Accuracy: 0.9600, Testing Accuracy: 0.9677\n",
      "\n"
     ]
    },
    {
     "name": "stdout",
     "output_type": "stream",
     "text": [
      "Epoch 230, Loss 0.0372\n",
      "Training Accuracy: 0.9601, Testing Accuracy: 0.9672\n",
      "\n"
     ]
    },
    {
     "name": "stdout",
     "output_type": "stream",
     "text": [
      "Epoch 240, Loss 0.0368\n",
      "Training Accuracy: 0.9603, Testing Accuracy: 0.9677\n",
      "\n"
     ]
    },
    {
     "data": {
      "text/plain": [
       "0.03569673563053001"
      ]
     },
     "execution_count": 23,
     "metadata": {},
     "output_type": "execute_result"
    }
   ],
   "source": [
    "lr_learner.train_loop(dl)"
   ]
  },
  {
   "cell_type": "code",
   "execution_count": 24,
   "id": "ca410940",
   "metadata": {
    "execution": {
     "iopub.execute_input": "2022-09-04T00:46:16.392246Z",
     "iopub.status.busy": "2022-09-04T00:46:16.391603Z",
     "iopub.status.idle": "2022-09-04T00:46:16.630125Z",
     "shell.execute_reply": "2022-09-04T00:46:16.629092Z"
    },
    "papermill": {
     "duration": 0.286274,
     "end_time": "2022-09-04T00:46:16.630257",
     "exception": false,
     "start_time": "2022-09-04T00:46:16.343983",
     "status": "completed"
    },
    "tags": []
   },
   "outputs": [
    {
     "data": {
      "text/plain": [
       "<matplotlib.legend.Legend at 0x7f8777fab2b0>"
      ]
     },
     "execution_count": 24,
     "metadata": {},
     "output_type": "execute_result"
    },
    {
     "data": {
      "image/png": "[encoded data removed]",
      "text/plain": [
       "<Figure size 1080x720 with 1 Axes>"
      ]
     },
     "metadata": {
      "needs_background": "light"
     },
     "output_type": "display_data"
    }
   ],
   "source": [
    "#comparing the results of NN and LR\n",
    "plt.figure(figsize=(15,10))\n",
    "\n",
    "# Neural Network plots\n",
    "plt.plot(acc_nn.accuracies, 'r-', label = \"Training Accuracies - NN\")\n",
    "plt.plot(acc_nn.test_accuracies, 'g-', label = \"Testing Accuracies - NN\")\n",
    "\n",
    "# Logistic Regression plots\n",
    "plt.plot(acc_lr.accuracies, 'k-', label = \"Training Accuracies - LR\")\n",
    "plt.plot(acc_lr.test_accuracies, 'b-', label = \"Testing Accuracies - LR\")\n",
    "plt.legend()"
   ]
  },
  {
   "cell_type": "markdown",
   "id": "80dfb35c",
   "metadata": {
    "papermill": {
     "duration": 0.042607,
     "end_time": "2022-09-04T00:46:16.715709",
     "exception": false,
     "start_time": "2022-09-04T00:46:16.673102",
     "status": "completed"
    },
    "tags": []
   },
   "source": [
    "#### Plotting the outputs of this layer of the NN.\n"
   ]
  },
  {
   "cell_type": "code",
   "execution_count": 25,
   "id": "45eb2ff5",
   "metadata": {
    "execution": {
     "iopub.execute_input": "2022-09-04T00:46:16.806319Z",
     "iopub.status.busy": "2022-09-04T00:46:16.805628Z",
     "iopub.status.idle": "2022-09-04T00:46:16.826211Z",
     "shell.execute_reply": "2022-09-04T00:46:16.826664Z"
    },
    "papermill": {
     "duration": 0.068482,
     "end_time": "2022-09-04T00:46:16.826808",
     "exception": false,
     "start_time": "2022-09-04T00:46:16.758326",
     "status": "completed"
    },
    "tags": []
   },
   "outputs": [],
   "source": [
    "new_model = Model(layers[:-2])\n",
    "testing_plot = new_model(testing_data_x)"
   ]
  },
  {
   "cell_type": "code",
   "execution_count": 26,
   "id": "4c0a5485",
   "metadata": {
    "execution": {
     "iopub.execute_input": "2022-09-04T00:46:16.920019Z",
     "iopub.status.busy": "2022-09-04T00:46:16.917956Z",
     "iopub.status.idle": "2022-09-04T00:46:17.114351Z",
     "shell.execute_reply": "2022-09-04T00:46:17.113846Z"
    },
    "papermill": {
     "duration": 0.244305,
     "end_time": "2022-09-04T00:46:17.114468",
     "exception": false,
     "start_time": "2022-09-04T00:46:16.870163",
     "status": "completed"
    },
    "tags": []
   },
   "outputs": [
    {
     "data": {
      "text/plain": [
       "Text(0.5, 1.0, 'Outputs')"
      ]
     },
     "execution_count": 26,
     "metadata": {},
     "output_type": "execute_result"
    },
    {
     "data": {
      "image/png": "[encoded data removed]",
      "text/plain": [
       "<Figure size 576x504 with 1 Axes>"
      ]
     },
     "metadata": {
      "needs_background": "light"
     },
     "output_type": "display_data"
    }
   ],
   "source": [
    "# Plotting the scatter plot of points and color coding by class\n",
    "plt.figure(figsize=(8,7))\n",
    "plt.scatter(testing_plot[:,0], testing_plot[:,1], alpha = 0.1, c = y_test.ravel());\n",
    "plt.title('Outputs')"
   ]
  },
  {
   "cell_type": "markdown",
   "id": "a74fcf8f",
   "metadata": {
    "papermill": {
     "duration": 0.044229,
     "end_time": "2022-09-04T00:46:17.202980",
     "exception": false,
     "start_time": "2022-09-04T00:46:17.158751",
     "status": "completed"
    },
    "tags": []
   },
   "source": [
    "Probability contours"
   ]
  },
  {
   "cell_type": "code",
   "execution_count": 27,
   "id": "d0afc8e3",
   "metadata": {
    "execution": {
     "iopub.execute_input": "2022-09-04T00:46:17.329274Z",
     "iopub.status.busy": "2022-09-04T00:46:17.328671Z",
     "iopub.status.idle": "2022-09-04T00:46:17.341235Z",
     "shell.execute_reply": "2022-09-04T00:46:17.340727Z"
    },
    "papermill": {
     "duration": 0.06127,
     "end_time": "2022-09-04T00:46:17.341353",
     "exception": false,
     "start_time": "2022-09-04T00:46:17.280083",
     "status": "completed"
    },
    "tags": []
   },
   "outputs": [],
   "source": [
    "model_prob = Model(layers[-2:]) "
   ]
  },
  {
   "cell_type": "code",
   "execution_count": 28,
   "id": "9b96e238",
   "metadata": {
    "execution": {
     "iopub.execute_input": "2022-09-04T00:46:17.438263Z",
     "iopub.status.busy": "2022-09-04T00:46:17.436278Z",
     "iopub.status.idle": "2022-09-04T00:46:17.451792Z",
     "shell.execute_reply": "2022-09-04T00:46:17.452250Z"
    },
    "papermill": {
     "duration": 0.066433,
     "end_time": "2022-09-04T00:46:17.452396",
     "exception": false,
     "start_time": "2022-09-04T00:46:17.385963",
     "status": "completed"
    },
    "tags": []
   },
   "outputs": [],
   "source": [
    "#creating the x and y ranges according to the above generated plot.\n",
    "x_range = np.linspace(-4, 1, 100) \n",
    "y_range = np.linspace(-6, 6, 100) \n",
    "x_grid, y_grid = np.meshgrid(x_range, y_range) # x_grid and y_grig are of size 100 X 100\n",
    "\n",
    "# converting x_grid and y_grid to continuous arrays\n",
    "x_gridflat = np.ravel(x_grid)\n",
    "y_gridflat = np.ravel(y_grid)\n",
    "\n",
    "# The last layer of the current model takes two columns as input. Hence transpose of np.vstack() is required.\n",
    "X = np.vstack((x_gridflat, y_gridflat)).T\n",
    "\n",
    "prob_contour = model_prob(X).reshape(100,100) "
   ]
  },
  {
   "cell_type": "code",
   "execution_count": 29,
   "id": "da72499a",
   "metadata": {
    "execution": {
     "iopub.execute_input": "2022-09-04T00:46:17.546968Z",
     "iopub.status.busy": "2022-09-04T00:46:17.546334Z",
     "iopub.status.idle": "2022-09-04T00:46:17.802921Z",
     "shell.execute_reply": "2022-09-04T00:46:17.802333Z"
    },
    "papermill": {
     "duration": 0.306084,
     "end_time": "2022-09-04T00:46:17.803037",
     "exception": false,
     "start_time": "2022-09-04T00:46:17.496953",
     "status": "completed"
    },
    "tags": []
   },
   "outputs": [
    {
     "data": {
      "image/png": "[encoded data removed]",
      "text/plain": [
       "<Figure size 720x648 with 1 Axes>"
      ]
     },
     "metadata": {
      "needs_background": "light"
     },
     "output_type": "display_data"
    }
   ],
   "source": [
    "plt.figure(figsize=(10,9))\n",
    "plt.scatter(testing_plot[:,0], testing_plot[:,1], alpha = 0.1, c = y_test.ravel())\n",
    "contours = plt.contour(x_grid,y_grid,prob_contour)\n",
    "plt.title('Probability Contours')\n",
    "plt.clabel(contours, inline = True );"
   ]
  },
  {
   "cell_type": "code",
   "execution_count": null,
   "id": "e81b4ac7",
   "metadata": {
    "papermill": {
     "duration": 0.047058,
     "end_time": "2022-09-04T00:46:17.897605",
     "exception": false,
     "start_time": "2022-09-04T00:46:17.850547",
     "status": "completed"
    },
    "tags": []
   },
   "outputs": [],
   "source": []
  }
 ],
 "metadata": {
  "kernelspec": {
   "display_name": "Python 3",
   "language": "python",
   "name": "python3"
  },
  "language_info": {
   "codemirror_mode": {
    "name": "ipython",
    "version": 3
   },
   "file_extension": ".py",
   "mimetype": "text/x-python",
   "name": "python",
   "nbconvert_exporter": "python",
   "pygments_lexer": "ipython3",
   "version": "3.6.15"
  },
  "papermill": {
   "default_parameters": {},
   "duration": 104.281669,
   "end_time": "2022-09-04T00:46:18.366181",
   "environment_variables": {},
   "exception": null,
   "input_path": "2020-08-11-part2.ipynb",
   "output_path": "2020-08-11-part2.ipynb",
   "parameters": {},
   "start_time": "2022-09-04T00:44:34.084512",
   "version": "2.3.3"
  }
 },
 "nbformat": 4,
 "nbformat_minor": 5
}