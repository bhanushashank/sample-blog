{
 "cells": [
  {
   "cell_type": "markdown",
   "id": "98380cd3",
   "metadata": {
    "papermill": {
     "duration": 0.034181,
     "end_time": "2021-11-03T20:07:48.282696",
     "exception": false,
     "start_time": "2021-11-03T20:07:48.248515",
     "status": "completed"
    },
    "tags": []
   },
   "source": [
    "# Distinguish Your Own Digits (DYOD)"
   ]
  },
  {
   "cell_type": "markdown",
   "id": "ef31240d",
   "metadata": {
    "papermill": {
     "duration": 0.02678,
     "end_time": "2021-11-03T20:07:48.339590",
     "exception": false,
     "start_time": "2021-11-03T20:07:48.312810",
     "status": "completed"
    },
    "tags": []
   },
   "source": [
    "You are going to write a classifier that distinguishes between the number 3 and number 8."
   ]
  },
  {
   "cell_type": "code",
   "execution_count": 1,
   "id": "b15c8646",
   "metadata": {
    "execution": {
     "iopub.execute_input": "2021-11-03T20:07:48.406201Z",
     "iopub.status.busy": "2021-11-03T20:07:48.405596Z",
     "iopub.status.idle": "2021-11-03T20:07:48.414519Z",
     "shell.execute_reply": "2021-11-03T20:07:48.413997Z"
    },
    "papermill": {
     "duration": 0.048357,
     "end_time": "2021-11-03T20:07:48.414651",
     "exception": false,
     "start_time": "2021-11-03T20:07:48.366294",
     "status": "completed"
    },
    "tags": []
   },
   "outputs": [],
   "source": [
    "%load_ext autoreload\n",
    "%autoreload 2"
   ]
  },
  {
   "cell_type": "code",
   "execution_count": 2,
   "id": "22ef38dc",
   "metadata": {
    "execution": {
     "iopub.execute_input": "2021-11-03T20:07:48.471774Z",
     "iopub.status.busy": "2021-11-03T20:07:48.471177Z",
     "iopub.status.idle": "2021-11-03T20:07:49.015667Z",
     "shell.execute_reply": "2021-11-03T20:07:49.014890Z"
    },
    "papermill": {
     "duration": 0.574837,
     "end_time": "2021-11-03T20:07:49.015805",
     "exception": false,
     "start_time": "2021-11-03T20:07:48.440968",
     "status": "completed"
    },
    "tags": []
   },
   "outputs": [],
   "source": [
    "%matplotlib inline\n",
    "import numpy as np\n",
    "import matplotlib.pyplot as plt\n",
    "import pandas as pd"
   ]
  },
  {
   "cell_type": "markdown",
   "id": "ba036198",
   "metadata": {
    "papermill": {
     "duration": 0.031492,
     "end_time": "2021-11-03T20:07:49.078351",
     "exception": false,
     "start_time": "2021-11-03T20:07:49.046859",
     "status": "completed"
    },
    "tags": []
   },
   "source": [
    "From the command line run `pip install mnist`. This is a library that will help you bring down the mnist dataset. If you run this from a notebook, you need to put  `!pip install mnist` in a cell by itself."
   ]
  },
  {
   "cell_type": "code",
   "execution_count": 3,
   "id": "bb6ad8a1",
   "metadata": {
    "execution": {
     "iopub.execute_input": "2021-11-03T20:07:49.145917Z",
     "iopub.status.busy": "2021-11-03T20:07:49.145280Z",
     "iopub.status.idle": "2021-11-03T20:07:50.971170Z",
     "shell.execute_reply": "2021-11-03T20:07:50.970597Z"
    },
    "papermill": {
     "duration": 1.860104,
     "end_time": "2021-11-03T20:07:50.971311",
     "exception": false,
     "start_time": "2021-11-03T20:07:49.111207",
     "status": "completed"
    },
    "tags": []
   },
   "outputs": [
    {
     "name": "stdout",
     "output_type": "stream",
     "text": [
      "Collecting mnist\r\n"
     ]
    },
    {
     "name": "stdout",
     "output_type": "stream",
     "text": [
      "  Downloading mnist-0.2.2-py2.py3-none-any.whl (3.5 kB)\r\n",
      "Requirement already satisfied: numpy in /opt/hostedtoolcache/Python/3.6.15/x64/lib/python3.6/site-packages (from mnist) (1.19.5)\r\n"
     ]
    },
    {
     "name": "stdout",
     "output_type": "stream",
     "text": [
      "Installing collected packages: mnist\r\n",
      "Successfully installed mnist-0.2.2\r\n"
     ]
    }
   ],
   "source": [
    "!pip install mnist"
   ]
  },
  {
   "cell_type": "markdown",
   "id": "69df9c9a",
   "metadata": {
    "papermill": {
     "duration": 0.027044,
     "end_time": "2021-11-03T20:07:51.026746",
     "exception": false,
     "start_time": "2021-11-03T20:07:50.999702",
     "status": "completed"
    },
    "tags": []
   },
   "source": [
    "## Preparing the Data"
   ]
  },
  {
   "cell_type": "code",
   "execution_count": 4,
   "id": "7f69d806",
   "metadata": {
    "execution": {
     "iopub.execute_input": "2021-11-03T20:07:51.099058Z",
     "iopub.status.busy": "2021-11-03T20:07:51.098453Z",
     "iopub.status.idle": "2021-11-03T20:07:51.110785Z",
     "shell.execute_reply": "2021-11-03T20:07:51.110278Z"
    },
    "papermill": {
     "duration": 0.047579,
     "end_time": "2021-11-03T20:07:51.110904",
     "exception": false,
     "start_time": "2021-11-03T20:07:51.063325",
     "status": "completed"
    },
    "tags": []
   },
   "outputs": [],
   "source": [
    "import mnist"
   ]
  },
  {
   "cell_type": "code",
   "execution_count": 5,
   "id": "a411e44f",
   "metadata": {
    "execution": {
     "iopub.execute_input": "2021-11-03T20:07:51.171001Z",
     "iopub.status.busy": "2021-11-03T20:07:51.170374Z",
     "iopub.status.idle": "2021-11-03T20:07:51.851533Z",
     "shell.execute_reply": "2021-11-03T20:07:51.851006Z"
    },
    "papermill": {
     "duration": 0.7126,
     "end_time": "2021-11-03T20:07:51.851677",
     "exception": false,
     "start_time": "2021-11-03T20:07:51.139077",
     "status": "completed"
    },
    "tags": []
   },
   "outputs": [],
   "source": [
    "train_images = mnist.train_images()\n",
    "train_labels = mnist.train_labels()"
   ]
  },
  {
   "cell_type": "code",
   "execution_count": 6,
   "id": "dceab3a5",
   "metadata": {
    "execution": {
     "iopub.execute_input": "2021-11-03T20:07:51.910676Z",
     "iopub.status.busy": "2021-11-03T20:07:51.910091Z",
     "iopub.status.idle": "2021-11-03T20:07:51.924333Z",
     "shell.execute_reply": "2021-11-03T20:07:51.924923Z"
    },
    "papermill": {
     "duration": 0.045243,
     "end_time": "2021-11-03T20:07:51.925051",
     "exception": false,
     "start_time": "2021-11-03T20:07:51.879808",
     "status": "completed"
    },
    "tags": []
   },
   "outputs": [
    {
     "data": {
      "text/plain": [
       "((60000, 28, 28), (60000,))"
      ]
     },
     "execution_count": 6,
     "metadata": {},
     "output_type": "execute_result"
    }
   ],
   "source": [
    "train_images.shape, train_labels.shape"
   ]
  },
  {
   "cell_type": "code",
   "execution_count": 7,
   "id": "f50dc2bb",
   "metadata": {
    "execution": {
     "iopub.execute_input": "2021-11-03T20:07:51.982237Z",
     "iopub.status.busy": "2021-11-03T20:07:51.981647Z",
     "iopub.status.idle": "2021-11-03T20:07:52.220266Z",
     "shell.execute_reply": "2021-11-03T20:07:52.219670Z"
    },
    "papermill": {
     "duration": 0.268167,
     "end_time": "2021-11-03T20:07:52.220407",
     "exception": false,
     "start_time": "2021-11-03T20:07:51.952240",
     "status": "completed"
    },
    "tags": []
   },
   "outputs": [],
   "source": [
    "test_images = mnist.test_images()\n",
    "test_labels = mnist.test_labels()"
   ]
  },
  {
   "cell_type": "code",
   "execution_count": 8,
   "id": "fc38cf1b",
   "metadata": {
    "execution": {
     "iopub.execute_input": "2021-11-03T20:07:52.286168Z",
     "iopub.status.busy": "2021-11-03T20:07:52.283118Z",
     "iopub.status.idle": "2021-11-03T20:07:52.297340Z",
     "shell.execute_reply": "2021-11-03T20:07:52.297846Z"
    },
    "papermill": {
     "duration": 0.048785,
     "end_time": "2021-11-03T20:07:52.297972",
     "exception": false,
     "start_time": "2021-11-03T20:07:52.249187",
     "status": "completed"
    },
    "tags": []
   },
   "outputs": [
    {
     "data": {
      "text/plain": [
       "((10000, 28, 28), (10000,))"
      ]
     },
     "execution_count": 8,
     "metadata": {},
     "output_type": "execute_result"
    }
   ],
   "source": [
    "test_images.shape, test_labels.shape"
   ]
  },
  {
   "cell_type": "code",
   "execution_count": 9,
   "id": "f9ed8fe0",
   "metadata": {
    "execution": {
     "iopub.execute_input": "2021-11-03T20:07:52.355919Z",
     "iopub.status.busy": "2021-11-03T20:07:52.355334Z",
     "iopub.status.idle": "2021-11-03T20:07:52.514352Z",
     "shell.execute_reply": "2021-11-03T20:07:52.514810Z"
    },
    "papermill": {
     "duration": 0.189827,
     "end_time": "2021-11-03T20:07:52.514959",
     "exception": false,
     "start_time": "2021-11-03T20:07:52.325132",
     "status": "completed"
    },
    "tags": []
   },
   "outputs": [
    {
     "name": "stdout",
     "output_type": "stream",
     "text": [
      "2\n"
     ]
    },
    {
     "data": {
      "text/plain": [
       "<matplotlib.image.AxesImage at 0x7fb2dc61d080>"
      ]
     },
     "execution_count": 9,
     "metadata": {},
     "output_type": "execute_result"
    },
    {
     "data": {
      "image/png": "[encoded data removed]",
      "text/plain": [
       "<Figure size 432x288 with 1 Axes>"
      ]
     },
     "metadata": {
      "needs_background": "light"
     },
     "output_type": "display_data"
    }
   ],
   "source": [
    "image_index = 7776 # You may select anything up to 60,000\n",
    "print(train_labels[image_index]) \n",
    "plt.imshow(train_images[image_index], cmap='Greys')"
   ]
  },
  {
   "cell_type": "markdown",
   "id": "a8d2388d",
   "metadata": {
    "papermill": {
     "duration": 0.030139,
     "end_time": "2021-11-03T20:07:52.574018",
     "exception": false,
     "start_time": "2021-11-03T20:07:52.543879",
     "status": "completed"
    },
    "tags": []
   },
   "source": [
    "## Filter data to get 3 and 8 out"
   ]
  },
  {
   "cell_type": "code",
   "execution_count": 10,
   "id": "776f7fc7",
   "metadata": {
    "execution": {
     "iopub.execute_input": "2021-11-03T20:07:52.637926Z",
     "iopub.status.busy": "2021-11-03T20:07:52.637182Z",
     "iopub.status.idle": "2021-11-03T20:07:52.654270Z",
     "shell.execute_reply": "2021-11-03T20:07:52.654790Z"
    },
    "papermill": {
     "duration": 0.051489,
     "end_time": "2021-11-03T20:07:52.654945",
     "exception": false,
     "start_time": "2021-11-03T20:07:52.603456",
     "status": "completed"
    },
    "tags": []
   },
   "outputs": [],
   "source": [
    "train_filter = np.where((train_labels == 3 ) | (train_labels == 8))\n",
    "test_filter = np.where((test_labels == 3) | (test_labels == 8))\n",
    "X_train, y_train = train_images[train_filter], train_labels[train_filter]\n",
    "X_test, y_test = test_images[test_filter], test_labels[test_filter]"
   ]
  },
  {
   "cell_type": "markdown",
   "id": "948f0b7e",
   "metadata": {
    "papermill": {
     "duration": 0.028732,
     "end_time": "2021-11-03T20:07:52.713045",
     "exception": false,
     "start_time": "2021-11-03T20:07:52.684313",
     "status": "completed"
    },
    "tags": []
   },
   "source": [
    "We normalize the pizel values in the 0 to 1 range"
   ]
  },
  {
   "cell_type": "code",
   "execution_count": 11,
   "id": "ee4c2166",
   "metadata": {
    "execution": {
     "iopub.execute_input": "2021-11-03T20:07:52.775233Z",
     "iopub.status.busy": "2021-11-03T20:07:52.774642Z",
     "iopub.status.idle": "2021-11-03T20:07:52.830232Z",
     "shell.execute_reply": "2021-11-03T20:07:52.830709Z"
    },
    "papermill": {
     "duration": 0.089196,
     "end_time": "2021-11-03T20:07:52.830876",
     "exception": false,
     "start_time": "2021-11-03T20:07:52.741680",
     "status": "completed"
    },
    "tags": []
   },
   "outputs": [],
   "source": [
    "X_train = X_train/255.\n",
    "X_test = X_test/255."
   ]
  },
  {
   "cell_type": "markdown",
   "id": "ddcf4fab",
   "metadata": {
    "papermill": {
     "duration": 0.029838,
     "end_time": "2021-11-03T20:07:52.891367",
     "exception": false,
     "start_time": "2021-11-03T20:07:52.861529",
     "status": "completed"
    },
    "tags": []
   },
   "source": [
    "And setup the labels as 1 (when the digit is 3) and 0 (when the digit is 8)"
   ]
  },
  {
   "cell_type": "code",
   "execution_count": 12,
   "id": "7dc908f2",
   "metadata": {
    "execution": {
     "iopub.execute_input": "2021-11-03T20:07:52.951844Z",
     "iopub.status.busy": "2021-11-03T20:07:52.951253Z",
     "iopub.status.idle": "2021-11-03T20:07:52.963614Z",
     "shell.execute_reply": "2021-11-03T20:07:52.963097Z"
    },
    "papermill": {
     "duration": 0.04373,
     "end_time": "2021-11-03T20:07:52.963726",
     "exception": false,
     "start_time": "2021-11-03T20:07:52.919996",
     "status": "completed"
    },
    "tags": []
   },
   "outputs": [],
   "source": [
    "y_train = 1*(y_train==3)\n",
    "y_test = 1*(y_test==3)"
   ]
  },
  {
   "cell_type": "code",
   "execution_count": 13,
   "id": "01e4e969",
   "metadata": {
    "execution": {
     "iopub.execute_input": "2021-11-03T20:07:53.030199Z",
     "iopub.status.busy": "2021-11-03T20:07:53.029613Z",
     "iopub.status.idle": "2021-11-03T20:07:53.038567Z",
     "shell.execute_reply": "2021-11-03T20:07:53.039127Z"
    },
    "papermill": {
     "duration": 0.046814,
     "end_time": "2021-11-03T20:07:53.039258",
     "exception": false,
     "start_time": "2021-11-03T20:07:52.992444",
     "status": "completed"
    },
    "tags": []
   },
   "outputs": [
    {
     "data": {
      "text/plain": [
       "((11982, 28, 28), (1984, 28, 28))"
      ]
     },
     "execution_count": 13,
     "metadata": {},
     "output_type": "execute_result"
    }
   ],
   "source": [
    "X_train.shape, X_test.shape"
   ]
  },
  {
   "cell_type": "markdown",
   "id": "5ccf3f85",
   "metadata": {
    "papermill": {
     "duration": 0.029767,
     "end_time": "2021-11-03T20:07:53.098351",
     "exception": false,
     "start_time": "2021-11-03T20:07:53.068584",
     "status": "completed"
    },
    "tags": []
   },
   "source": [
    "We reshape the data to flatten the image pixels into a set of features or co-variates:"
   ]
  },
  {
   "cell_type": "code",
   "execution_count": 14,
   "id": "5286a4a3",
   "metadata": {
    "execution": {
     "iopub.execute_input": "2021-11-03T20:07:53.163766Z",
     "iopub.status.busy": "2021-11-03T20:07:53.163161Z",
     "iopub.status.idle": "2021-11-03T20:07:53.174235Z",
     "shell.execute_reply": "2021-11-03T20:07:53.174983Z"
    },
    "papermill": {
     "duration": 0.047911,
     "end_time": "2021-11-03T20:07:53.175122",
     "exception": false,
     "start_time": "2021-11-03T20:07:53.127211",
     "status": "completed"
    },
    "tags": []
   },
   "outputs": [
    {
     "data": {
      "text/plain": [
       "((11982, 784), (1984, 784))"
      ]
     },
     "execution_count": 14,
     "metadata": {},
     "output_type": "execute_result"
    }
   ],
   "source": [
    "X_train = X_train.reshape(X_train.shape[0], -1)\n",
    "X_test = X_test.reshape(X_test.shape[0], -1)\n",
    "X_train.shape, X_test.shape"
   ]
  },
  {
   "cell_type": "code",
   "execution_count": 15,
   "id": "73c5f88a",
   "metadata": {
    "execution": {
     "iopub.execute_input": "2021-11-03T20:07:53.240060Z",
     "iopub.status.busy": "2021-11-03T20:07:53.239429Z",
     "iopub.status.idle": "2021-11-03T20:07:53.258515Z",
     "shell.execute_reply": "2021-11-03T20:07:53.258006Z"
    },
    "papermill": {
     "duration": 0.054456,
     "end_time": "2021-11-03T20:07:53.258635",
     "exception": false,
     "start_time": "2021-11-03T20:07:53.204179",
     "status": "completed"
    },
    "tags": []
   },
   "outputs": [],
   "source": [
    "#Impoting functions from 'Kudzu'\n",
    "from kudzu.model import Model\n",
    "from kudzu.train import Learner\n",
    "from kudzu.optim import GD\n",
    "from kudzu.data import Data, Sampler,Dataloader\n",
    "\n",
    "from kudzu.callbacks import AccCallback\n",
    "from kudzu.callbacks import ClfCallback\n",
    "\n",
    "from kudzu.loss import MSE\n",
    "\n",
    "from kudzu.layer import Sigmoid,Relu\n",
    "from kudzu.layer import Affine"
   ]
  },
  {
   "cell_type": "markdown",
   "id": "bc01172a",
   "metadata": {
    "papermill": {
     "duration": 0.030432,
     "end_time": "2021-11-03T20:07:53.318998",
     "exception": false,
     "start_time": "2021-11-03T20:07:53.288566",
     "status": "completed"
    },
    "tags": []
   },
   "source": [
    "### Let us create a `Config` class, to store important parameters. \n",
    "This class essentially plays the role of a dictionary."
   ]
  },
  {
   "cell_type": "code",
   "execution_count": 16,
   "id": "978281aa",
   "metadata": {
    "execution": {
     "iopub.execute_input": "2021-11-03T20:07:53.387900Z",
     "iopub.status.busy": "2021-11-03T20:07:53.387276Z",
     "iopub.status.idle": "2021-11-03T20:07:53.399262Z",
     "shell.execute_reply": "2021-11-03T20:07:53.398785Z"
    },
    "papermill": {
     "duration": 0.051032,
     "end_time": "2021-11-03T20:07:53.399380",
     "exception": false,
     "start_time": "2021-11-03T20:07:53.348348",
     "status": "completed"
    },
    "tags": []
   },
   "outputs": [],
   "source": [
    "class Config:\n",
    "    pass\n",
    "config = Config()\n",
    "config.lr = 0.001\n",
    "config.num_epochs = 250\n",
    "config.bs = 50"
   ]
  },
  {
   "cell_type": "markdown",
   "id": "1385fa59",
   "metadata": {
    "papermill": {
     "duration": 0.036201,
     "end_time": "2021-11-03T20:07:53.472434",
     "exception": false,
     "start_time": "2021-11-03T20:07:53.436233",
     "status": "completed"
    },
    "tags": []
   },
   "source": [
    "### Running Models with the Training data\n",
    "Details about the network layers:\n",
    "- A first affine layer has 784 inputs and does 100 affine transforms. These are followed by a Relu\n",
    "- A second affine layer has 100 inputs from the 100 activations of the past layer, and does 100 affine transforms. These are followed by a Relu\n",
    "- A third affine layer has 100 activations and does 2 affine transformations to create an embedding for visualization. There is no non-linearity here.\n",
    "- A final \"logistic regression\" which has an affine transform from 2 inputs to 1 output, which is squeezed through a sigmoid.\n"
   ]
  },
  {
   "cell_type": "code",
   "execution_count": 17,
   "id": "2b9c66db",
   "metadata": {
    "execution": {
     "iopub.execute_input": "2021-11-03T20:07:53.549028Z",
     "iopub.status.busy": "2021-11-03T20:07:53.548408Z",
     "iopub.status.idle": "2021-11-03T20:07:53.558633Z",
     "shell.execute_reply": "2021-11-03T20:07:53.559198Z"
    },
    "papermill": {
     "duration": 0.050636,
     "end_time": "2021-11-03T20:07:53.559325",
     "exception": false,
     "start_time": "2021-11-03T20:07:53.508689",
     "status": "completed"
    },
    "tags": []
   },
   "outputs": [],
   "source": [
    "data = Data(X_train, y_train.reshape(-1,1))\n",
    "sampler = Sampler(data, config.bs, shuffle=True)\n",
    "\n",
    "dl = Dataloader(data, sampler)\n",
    "\n",
    "opt = GD(config.lr)\n",
    "loss = MSE()"
   ]
  },
  {
   "cell_type": "code",
   "execution_count": 18,
   "id": "b275e4c2",
   "metadata": {
    "execution": {
     "iopub.execute_input": "2021-11-03T20:07:53.631402Z",
     "iopub.status.busy": "2021-11-03T20:07:53.630779Z",
     "iopub.status.idle": "2021-11-03T20:07:53.641645Z",
     "shell.execute_reply": "2021-11-03T20:07:53.641165Z"
    },
    "papermill": {
     "duration": 0.046463,
     "end_time": "2021-11-03T20:07:53.641761",
     "exception": false,
     "start_time": "2021-11-03T20:07:53.595298",
     "status": "completed"
    },
    "tags": []
   },
   "outputs": [],
   "source": [
    "training_data_x = X_train\n",
    "testing_data_x = X_test\n",
    "training_data_y = y_train.reshape(-1,1)\n",
    "testing_data_y = y_test.reshape(-1,1)"
   ]
  },
  {
   "cell_type": "code",
   "execution_count": 19,
   "id": "76951160",
   "metadata": {
    "execution": {
     "iopub.execute_input": "2021-11-03T20:07:53.706294Z",
     "iopub.status.busy": "2021-11-03T20:07:53.705619Z",
     "iopub.status.idle": "2021-11-03T20:07:53.720097Z",
     "shell.execute_reply": "2021-11-03T20:07:53.720648Z"
    },
    "papermill": {
     "duration": 0.049315,
     "end_time": "2021-11-03T20:07:53.720772",
     "exception": false,
     "start_time": "2021-11-03T20:07:53.671457",
     "status": "completed"
    },
    "tags": []
   },
   "outputs": [
    {
     "name": "stdout",
     "output_type": "stream",
     "text": [
      "xavier\n",
      "xavier\n",
      "xavier\n",
      "xavier\n",
      "xavier\n"
     ]
    }
   ],
   "source": [
    "layers = [Affine(\"first\", 784, 100), Relu(\"first\"), Affine(\"second\", 100, 100), Relu(\"second\"), Affine(\"third\", 100, 2), Affine(\"last\", 2, 1), Sigmoid(\"last\")]\n",
    "model_nn = Model(layers)\n",
    "model_lr = Model([Affine(\"logits\", 784, 1), Sigmoid(\"sigmoid\")])"
   ]
  },
  {
   "cell_type": "code",
   "execution_count": 20,
   "id": "6eede77a",
   "metadata": {
    "execution": {
     "iopub.execute_input": "2021-11-03T20:07:53.787157Z",
     "iopub.status.busy": "2021-11-03T20:07:53.786572Z",
     "iopub.status.idle": "2021-11-03T20:07:53.796562Z",
     "shell.execute_reply": "2021-11-03T20:07:53.797149Z"
    },
    "papermill": {
     "duration": 0.045568,
     "end_time": "2021-11-03T20:07:53.797273",
     "exception": false,
     "start_time": "2021-11-03T20:07:53.751705",
     "status": "completed"
    },
    "tags": []
   },
   "outputs": [],
   "source": [
    "nn_learner = Learner(loss, model_nn, opt, config.num_epochs)\n",
    "acc_nn = ClfCallback(nn_learner, config.bs, training_data_x , testing_data_x, training_data_y, testing_data_y)\n",
    "nn_learner.set_callbacks([acc_nn])"
   ]
  },
  {
   "cell_type": "code",
   "execution_count": 21,
   "id": "877b6cc7",
   "metadata": {
    "execution": {
     "iopub.execute_input": "2021-11-03T20:07:53.860798Z",
     "iopub.status.busy": "2021-11-03T20:07:53.860164Z",
     "iopub.status.idle": "2021-11-03T20:07:53.870199Z",
     "shell.execute_reply": "2021-11-03T20:07:53.870689Z"
    },
    "papermill": {
     "duration": 0.04398,
     "end_time": "2021-11-03T20:07:53.870819",
     "exception": false,
     "start_time": "2021-11-03T20:07:53.826839",
     "status": "completed"
    },
    "tags": []
   },
   "outputs": [],
   "source": [
    "lr_learner = Learner(loss, model_lr, opt, config.num_epochs)\n",
    "acc_lr = ClfCallback(lr_learner, config.bs, training_data_x , testing_data_x, training_data_y, testing_data_y)\n",
    "lr_learner.set_callbacks([acc_lr])"
   ]
  },
  {
   "cell_type": "code",
   "execution_count": 22,
   "id": "d9b133c3",
   "metadata": {
    "execution": {
     "iopub.execute_input": "2021-11-03T20:07:53.934698Z",
     "iopub.status.busy": "2021-11-03T20:07:53.934080Z",
     "iopub.status.idle": "2021-11-03T20:09:52.765417Z",
     "shell.execute_reply": "2021-11-03T20:09:52.766211Z"
    },
    "papermill": {
     "duration": 118.864943,
     "end_time": "2021-11-03T20:09:52.766372",
     "exception": false,
     "start_time": "2021-11-03T20:07:53.901429",
     "status": "completed"
    },
    "tags": []
   },
   "outputs": [
    {
     "name": "stdout",
     "output_type": "stream",
     "text": [
      "Epoch 0, Loss 0.2406\n",
      "Training Accuracy: 0.7069, Testing Accuracy: 0.6734\n",
      "\n"
     ]
    },
    {
     "name": "stdout",
     "output_type": "stream",
     "text": [
      "Epoch 10, Loss 0.0869\n",
      "Training Accuracy: 0.9187, Testing Accuracy: 0.9279\n",
      "\n"
     ]
    },
    {
     "name": "stdout",
     "output_type": "stream",
     "text": [
      "Epoch 20, Loss 0.0537\n",
      "Training Accuracy: 0.9442, Testing Accuracy: 0.9551\n",
      "\n"
     ]
    },
    {
     "name": "stdout",
     "output_type": "stream",
     "text": [
      "Epoch 30, Loss 0.042\n",
      "Training Accuracy: 0.9551, Testing Accuracy: 0.9632\n",
      "\n"
     ]
    },
    {
     "name": "stdout",
     "output_type": "stream",
     "text": [
      "Epoch 40, Loss 0.0362\n",
      "Training Accuracy: 0.9601, Testing Accuracy: 0.9688\n",
      "\n"
     ]
    },
    {
     "name": "stdout",
     "output_type": "stream",
     "text": [
      "Epoch 50, Loss 0.0327\n",
      "Training Accuracy: 0.9646, Testing Accuracy: 0.9688\n",
      "\n"
     ]
    },
    {
     "name": "stdout",
     "output_type": "stream",
     "text": [
      "Epoch 60, Loss 0.0302\n",
      "Training Accuracy: 0.9664, Testing Accuracy: 0.9708\n",
      "\n"
     ]
    },
    {
     "name": "stdout",
     "output_type": "stream",
     "text": [
      "Epoch 70, Loss 0.0284\n",
      "Training Accuracy: 0.9681, Testing Accuracy: 0.9723\n",
      "\n"
     ]
    },
    {
     "name": "stdout",
     "output_type": "stream",
     "text": [
      "Epoch 80, Loss 0.0269\n",
      "Training Accuracy: 0.9708, Testing Accuracy: 0.9728\n",
      "\n"
     ]
    },
    {
     "name": "stdout",
     "output_type": "stream",
     "text": [
      "Epoch 90, Loss 0.0256\n",
      "Training Accuracy: 0.9718, Testing Accuracy: 0.9733\n",
      "\n"
     ]
    },
    {
     "name": "stdout",
     "output_type": "stream",
     "text": [
      "Epoch 100, Loss 0.0245\n",
      "Training Accuracy: 0.9726, Testing Accuracy: 0.9728\n",
      "\n"
     ]
    },
    {
     "name": "stdout",
     "output_type": "stream",
     "text": [
      "Epoch 110, Loss 0.0236\n",
      "Training Accuracy: 0.9737, Testing Accuracy: 0.9733\n",
      "\n"
     ]
    },
    {
     "name": "stdout",
     "output_type": "stream",
     "text": [
      "Epoch 120, Loss 0.0227\n",
      "Training Accuracy: 0.9746, Testing Accuracy: 0.9738\n",
      "\n"
     ]
    },
    {
     "name": "stdout",
     "output_type": "stream",
     "text": [
      "Epoch 130, Loss 0.022\n",
      "Training Accuracy: 0.9751, Testing Accuracy: 0.9743\n",
      "\n"
     ]
    },
    {
     "name": "stdout",
     "output_type": "stream",
     "text": [
      "Epoch 140, Loss 0.0213\n",
      "Training Accuracy: 0.9758, Testing Accuracy: 0.9748\n",
      "\n"
     ]
    },
    {
     "name": "stdout",
     "output_type": "stream",
     "text": [
      "Epoch 150, Loss 0.0206\n",
      "Training Accuracy: 0.9769, Testing Accuracy: 0.9753\n",
      "\n"
     ]
    },
    {
     "name": "stdout",
     "output_type": "stream",
     "text": [
      "Epoch 160, Loss 0.02\n",
      "Training Accuracy: 0.9773, Testing Accuracy: 0.9758\n",
      "\n"
     ]
    },
    {
     "name": "stdout",
     "output_type": "stream",
     "text": [
      "Epoch 170, Loss 0.0195\n",
      "Training Accuracy: 0.9782, Testing Accuracy: 0.9758\n",
      "\n"
     ]
    },
    {
     "name": "stdout",
     "output_type": "stream",
     "text": [
      "Epoch 180, Loss 0.019\n",
      "Training Accuracy: 0.9786, Testing Accuracy: 0.9753\n",
      "\n"
     ]
    },
    {
     "name": "stdout",
     "output_type": "stream",
     "text": [
      "Epoch 190, Loss 0.0185\n",
      "Training Accuracy: 0.9792, Testing Accuracy: 0.9758\n",
      "\n"
     ]
    },
    {
     "name": "stdout",
     "output_type": "stream",
     "text": [
      "Epoch 200, Loss 0.018\n",
      "Training Accuracy: 0.9796, Testing Accuracy: 0.9763\n",
      "\n"
     ]
    },
    {
     "name": "stdout",
     "output_type": "stream",
     "text": [
      "Epoch 210, Loss 0.0176\n",
      "Training Accuracy: 0.9805, Testing Accuracy: 0.9768\n",
      "\n"
     ]
    },
    {
     "name": "stdout",
     "output_type": "stream",
     "text": [
      "Epoch 220, Loss 0.0172\n",
      "Training Accuracy: 0.9810, Testing Accuracy: 0.9773\n",
      "\n"
     ]
    },
    {
     "name": "stdout",
     "output_type": "stream",
     "text": [
      "Epoch 230, Loss 0.0168\n",
      "Training Accuracy: 0.9815, Testing Accuracy: 0.9778\n",
      "\n"
     ]
    },
    {
     "name": "stdout",
     "output_type": "stream",
     "text": [
      "Epoch 240, Loss 0.0164\n",
      "Training Accuracy: 0.9821, Testing Accuracy: 0.9773\n",
      "\n"
     ]
    },
    {
     "data": {
      "text/plain": [
       "0.03825821223051956"
      ]
     },
     "execution_count": 22,
     "metadata": {},
     "output_type": "execute_result"
    }
   ],
   "source": [
    "nn_learner.train_loop(dl)"
   ]
  },
  {
   "cell_type": "code",
   "execution_count": 23,
   "id": "e0163366",
   "metadata": {
    "execution": {
     "iopub.execute_input": "2021-11-03T20:09:52.854193Z",
     "iopub.status.busy": "2021-11-03T20:09:52.853609Z",
     "iopub.status.idle": "2021-11-03T20:10:09.899518Z",
     "shell.execute_reply": "2021-11-03T20:10:09.900094Z"
    },
    "papermill": {
     "duration": 17.094972,
     "end_time": "2021-11-03T20:10:09.900252",
     "exception": false,
     "start_time": "2021-11-03T20:09:52.805280",
     "status": "completed"
    },
    "tags": []
   },
   "outputs": [
    {
     "name": "stdout",
     "output_type": "stream",
     "text": [
      "Epoch 0, Loss 0.2548\n",
      "Training Accuracy: 0.6312, Testing Accuracy: 0.6376\n",
      "\n"
     ]
    },
    {
     "name": "stdout",
     "output_type": "stream",
     "text": [
      "Epoch 10, Loss 0.1065\n",
      "Training Accuracy: 0.9020, Testing Accuracy: 0.9189\n",
      "\n"
     ]
    },
    {
     "name": "stdout",
     "output_type": "stream",
     "text": [
      "Epoch 20, Loss 0.0812\n",
      "Training Accuracy: 0.9240, Testing Accuracy: 0.9375\n",
      "\n"
     ]
    },
    {
     "name": "stdout",
     "output_type": "stream",
     "text": [
      "Epoch 30, Loss 0.0696\n",
      "Training Accuracy: 0.9322, Testing Accuracy: 0.9501\n",
      "\n"
     ]
    },
    {
     "name": "stdout",
     "output_type": "stream",
     "text": [
      "Epoch 40, Loss 0.0627\n",
      "Training Accuracy: 0.9392, Testing Accuracy: 0.9531\n",
      "\n"
     ]
    },
    {
     "name": "stdout",
     "output_type": "stream",
     "text": [
      "Epoch 50, Loss 0.058\n",
      "Training Accuracy: 0.9433, Testing Accuracy: 0.9556\n",
      "\n"
     ]
    },
    {
     "name": "stdout",
     "output_type": "stream",
     "text": [
      "Epoch 60, Loss 0.0545\n",
      "Training Accuracy: 0.9460, Testing Accuracy: 0.9577\n",
      "\n"
     ]
    },
    {
     "name": "stdout",
     "output_type": "stream",
     "text": [
      "Epoch 70, Loss 0.0519\n",
      "Training Accuracy: 0.9481, Testing Accuracy: 0.9577\n",
      "\n"
     ]
    },
    {
     "name": "stdout",
     "output_type": "stream",
     "text": [
      "Epoch 80, Loss 0.0497\n",
      "Training Accuracy: 0.9493, Testing Accuracy: 0.9602\n",
      "\n"
     ]
    },
    {
     "name": "stdout",
     "output_type": "stream",
     "text": [
      "Epoch 90, Loss 0.048\n",
      "Training Accuracy: 0.9506, Testing Accuracy: 0.9607\n",
      "\n"
     ]
    },
    {
     "name": "stdout",
     "output_type": "stream",
     "text": [
      "Epoch 100, Loss 0.0465\n",
      "Training Accuracy: 0.9522, Testing Accuracy: 0.9617\n",
      "\n"
     ]
    },
    {
     "name": "stdout",
     "output_type": "stream",
     "text": [
      "Epoch 110, Loss 0.0452\n",
      "Training Accuracy: 0.9531, Testing Accuracy: 0.9612\n",
      "\n"
     ]
    },
    {
     "name": "stdout",
     "output_type": "stream",
     "text": [
      "Epoch 120, Loss 0.0442\n",
      "Training Accuracy: 0.9547, Testing Accuracy: 0.9622\n",
      "\n"
     ]
    },
    {
     "name": "stdout",
     "output_type": "stream",
     "text": [
      "Epoch 130, Loss 0.0432\n",
      "Training Accuracy: 0.9553, Testing Accuracy: 0.9647\n",
      "\n"
     ]
    },
    {
     "name": "stdout",
     "output_type": "stream",
     "text": [
      "Epoch 140, Loss 0.0423\n",
      "Training Accuracy: 0.9556, Testing Accuracy: 0.9647\n",
      "\n"
     ]
    },
    {
     "name": "stdout",
     "output_type": "stream",
     "text": [
      "Epoch 150, Loss 0.0416\n",
      "Training Accuracy: 0.9561, Testing Accuracy: 0.9647\n",
      "\n"
     ]
    },
    {
     "name": "stdout",
     "output_type": "stream",
     "text": [
      "Epoch 160, Loss 0.0409\n",
      "Training Accuracy: 0.9573, Testing Accuracy: 0.9647\n",
      "\n"
     ]
    },
    {
     "name": "stdout",
     "output_type": "stream",
     "text": [
      "Epoch 170, Loss 0.0402\n",
      "Training Accuracy: 0.9575, Testing Accuracy: 0.9652\n",
      "\n"
     ]
    },
    {
     "name": "stdout",
     "output_type": "stream",
     "text": [
      "Epoch 180, Loss 0.0397\n",
      "Training Accuracy: 0.9583, Testing Accuracy: 0.9652\n",
      "\n"
     ]
    },
    {
     "name": "stdout",
     "output_type": "stream",
     "text": [
      "Epoch 190, Loss 0.0391\n",
      "Training Accuracy: 0.9586, Testing Accuracy: 0.9657\n",
      "\n"
     ]
    },
    {
     "name": "stdout",
     "output_type": "stream",
     "text": [
      "Epoch 200, Loss 0.0386\n",
      "Training Accuracy: 0.9589, Testing Accuracy: 0.9667\n",
      "\n"
     ]
    },
    {
     "name": "stdout",
     "output_type": "stream",
     "text": [
      "Epoch 210, Loss 0.0382\n",
      "Training Accuracy: 0.9594, Testing Accuracy: 0.9667\n",
      "\n"
     ]
    },
    {
     "name": "stdout",
     "output_type": "stream",
     "text": [
      "Epoch 220, Loss 0.0378\n",
      "Training Accuracy: 0.9598, Testing Accuracy: 0.9672\n",
      "\n"
     ]
    },
    {
     "name": "stdout",
     "output_type": "stream",
     "text": [
      "Epoch 230, Loss 0.0374\n",
      "Training Accuracy: 0.9601, Testing Accuracy: 0.9677\n",
      "\n"
     ]
    },
    {
     "name": "stdout",
     "output_type": "stream",
     "text": [
      "Epoch 240, Loss 0.037\n",
      "Training Accuracy: 0.9604, Testing Accuracy: 0.9677\n",
      "\n"
     ]
    },
    {
     "data": {
      "text/plain": [
       "0.024270438384301367"
      ]
     },
     "execution_count": 23,
     "metadata": {},
     "output_type": "execute_result"
    }
   ],
   "source": [
    "lr_learner.train_loop(dl)"
   ]
  },
  {
   "cell_type": "code",
   "execution_count": 24,
   "id": "ca410940",
   "metadata": {
    "execution": {
     "iopub.execute_input": "2021-11-03T20:10:09.998858Z",
     "iopub.status.busy": "2021-11-03T20:10:09.998246Z",
     "iopub.status.idle": "2021-11-03T20:10:10.277037Z",
     "shell.execute_reply": "2021-11-03T20:10:10.276092Z"
    },
    "papermill": {
     "duration": 0.331215,
     "end_time": "2021-11-03T20:10:10.277176",
     "exception": false,
     "start_time": "2021-11-03T20:10:09.945961",
     "status": "completed"
    },
    "tags": []
   },
   "outputs": [
    {
     "data": {
      "text/plain": [
       "<matplotlib.legend.Legend at 0x7fb2cedf5780>"
      ]
     },
     "execution_count": 24,
     "metadata": {},
     "output_type": "execute_result"
    },
    {
     "data": {
      "image/png": "[encoded data removed]",
      "text/plain": [
       "<Figure size 1080x720 with 1 Axes>"
      ]
     },
     "metadata": {
      "needs_background": "light"
     },
     "output_type": "display_data"
    }
   ],
   "source": [
    "#comparing the results of NN and LR\n",
    "plt.figure(figsize=(15,10))\n",
    "\n",
    "# Neural Network plots\n",
    "plt.plot(acc_nn.accuracies, 'r-', label = \"Training Accuracies - NN\")\n",
    "plt.plot(acc_nn.test_accuracies, 'g-', label = \"Testing Accuracies - NN\")\n",
    "\n",
    "# Logistic Regression plots\n",
    "plt.plot(acc_lr.accuracies, 'k-', label = \"Training Accuracies - LR\")\n",
    "plt.plot(acc_lr.test_accuracies, 'b-', label = \"Testing Accuracies - LR\")\n",
    "plt.legend()"
   ]
  },
  {
   "cell_type": "markdown",
   "id": "80dfb35c",
   "metadata": {
    "papermill": {
     "duration": 0.045588,
     "end_time": "2021-11-03T20:10:10.370807",
     "exception": false,
     "start_time": "2021-11-03T20:10:10.325219",
     "status": "completed"
    },
    "tags": []
   },
   "source": [
    "#### Plotting the outputs of this layer of the NN.\n"
   ]
  },
  {
   "cell_type": "code",
   "execution_count": 25,
   "id": "45eb2ff5",
   "metadata": {
    "execution": {
     "iopub.execute_input": "2021-11-03T20:10:10.466752Z",
     "iopub.status.busy": "2021-11-03T20:10:10.466155Z",
     "iopub.status.idle": "2021-11-03T20:10:10.491040Z",
     "shell.execute_reply": "2021-11-03T20:10:10.491777Z"
    },
    "papermill": {
     "duration": 0.075404,
     "end_time": "2021-11-03T20:10:10.491933",
     "exception": false,
     "start_time": "2021-11-03T20:10:10.416529",
     "status": "completed"
    },
    "tags": []
   },
   "outputs": [],
   "source": [
    "new_model = Model(layers[:-2])\n",
    "testing_plot = new_model(testing_data_x)"
   ]
  },
  {
   "cell_type": "code",
   "execution_count": 26,
   "id": "4c0a5485",
   "metadata": {
    "execution": {
     "iopub.execute_input": "2021-11-03T20:10:10.600396Z",
     "iopub.status.busy": "2021-11-03T20:10:10.599795Z",
     "iopub.status.idle": "2021-11-03T20:10:10.811165Z",
     "shell.execute_reply": "2021-11-03T20:10:10.810426Z"
    },
    "papermill": {
     "duration": 0.267726,
     "end_time": "2021-11-03T20:10:10.811297",
     "exception": false,
     "start_time": "2021-11-03T20:10:10.543571",
     "status": "completed"
    },
    "tags": []
   },
   "outputs": [
    {
     "data": {
      "text/plain": [
       "Text(0.5, 1.0, 'Outputs')"
      ]
     },
     "execution_count": 26,
     "metadata": {},
     "output_type": "execute_result"
    },
    {
     "data": {
      "image/png": "[encoded data removed]",
      "text/plain": [
       "<Figure size 576x504 with 1 Axes>"
      ]
     },
     "metadata": {
      "needs_background": "light"
     },
     "output_type": "display_data"
    }
   ],
   "source": [
    "# Plotting the scatter plot of points and color coding by class\n",
    "plt.figure(figsize=(8,7))\n",
    "plt.scatter(testing_plot[:,0], testing_plot[:,1], alpha = 0.1, c = y_test.ravel());\n",
    "plt.title('Outputs')"
   ]
  },
  {
   "cell_type": "markdown",
   "id": "a74fcf8f",
   "metadata": {
    "papermill": {
     "duration": 0.047758,
     "end_time": "2021-11-03T20:10:10.909239",
     "exception": false,
     "start_time": "2021-11-03T20:10:10.861481",
     "status": "completed"
    },
    "tags": []
   },
   "source": [
    "Probability contours"
   ]
  },
  {
   "cell_type": "code",
   "execution_count": 27,
   "id": "d0afc8e3",
   "metadata": {
    "execution": {
     "iopub.execute_input": "2021-11-03T20:10:11.016205Z",
     "iopub.status.busy": "2021-11-03T20:10:11.009172Z",
     "iopub.status.idle": "2021-11-03T20:10:11.022897Z",
     "shell.execute_reply": "2021-11-03T20:10:11.023404Z"
    },
    "papermill": {
     "duration": 0.066841,
     "end_time": "2021-11-03T20:10:11.023535",
     "exception": false,
     "start_time": "2021-11-03T20:10:10.956694",
     "status": "completed"
    },
    "tags": []
   },
   "outputs": [],
   "source": [
    "model_prob = Model(layers[-2:]) "
   ]
  },
  {
   "cell_type": "code",
   "execution_count": 28,
   "id": "9b96e238",
   "metadata": {
    "execution": {
     "iopub.execute_input": "2021-11-03T20:10:11.125657Z",
     "iopub.status.busy": "2021-11-03T20:10:11.124294Z",
     "iopub.status.idle": "2021-11-03T20:10:11.138039Z",
     "shell.execute_reply": "2021-11-03T20:10:11.137555Z"
    },
    "papermill": {
     "duration": 0.065869,
     "end_time": "2021-11-03T20:10:11.138157",
     "exception": false,
     "start_time": "2021-11-03T20:10:11.072288",
     "status": "completed"
    },
    "tags": []
   },
   "outputs": [],
   "source": [
    "#creating the x and y ranges according to the above generated plot.\n",
    "x_range = np.linspace(-4, 1, 100) \n",
    "y_range = np.linspace(-6, 6, 100) \n",
    "x_grid, y_grid = np.meshgrid(x_range, y_range) # x_grid and y_grig are of size 100 X 100\n",
    "\n",
    "# converting x_grid and y_grid to continuous arrays\n",
    "x_gridflat = np.ravel(x_grid)\n",
    "y_gridflat = np.ravel(y_grid)\n",
    "\n",
    "# The last layer of the current model takes two columns as input. Hence transpose of np.vstack() is required.\n",
    "X = np.vstack((x_gridflat, y_gridflat)).T\n",
    "\n",
    "prob_contour = model_prob(X).reshape(100,100) "
   ]
  },
  {
   "cell_type": "code",
   "execution_count": 29,
   "id": "da72499a",
   "metadata": {
    "execution": {
     "iopub.execute_input": "2021-11-03T20:10:11.247275Z",
     "iopub.status.busy": "2021-11-03T20:10:11.246681Z",
     "iopub.status.idle": "2021-11-03T20:10:11.543372Z",
     "shell.execute_reply": "2021-11-03T20:10:11.542151Z"
    },
    "papermill": {
     "duration": 0.355384,
     "end_time": "2021-11-03T20:10:11.543505",
     "exception": false,
     "start_time": "2021-11-03T20:10:11.188121",
     "status": "completed"
    },
    "tags": []
   },
   "outputs": [
    {
     "data": {
      "image/png": "[encoded data removed]",
      "text/plain": [
       "<Figure size 720x648 with 1 Axes>"
      ]
     },
     "metadata": {
      "needs_background": "light"
     },
     "output_type": "display_data"
    }
   ],
   "source": [
    "plt.figure(figsize=(10,9))\n",
    "plt.scatter(testing_plot[:,0], testing_plot[:,1], alpha = 0.1, c = y_test.ravel())\n",
    "contours = plt.contour(x_grid,y_grid,prob_contour)\n",
    "plt.title('Probability Contours')\n",
    "plt.clabel(contours, inline = True );"
   ]
  },
  {
   "cell_type": "code",
   "execution_count": null,
   "id": "e81b4ac7",
   "metadata": {
    "papermill": {
     "duration": 0.052337,
     "end_time": "2021-11-03T20:10:11.672115",
     "exception": false,
     "start_time": "2021-11-03T20:10:11.619778",
     "status": "completed"
    },
    "tags": []
   },
   "outputs": [],
   "source": []
  }
 ],
 "metadata": {
  "kernelspec": {
   "display_name": "Python 3",
   "language": "python",
   "name": "python3"
  },
  "language_info": {
   "codemirror_mode": {
    "name": "ipython",
    "version": 3
   },
   "file_extension": ".py",
   "mimetype": "text/x-python",
   "name": "python",
   "nbconvert_exporter": "python",
   "pygments_lexer": "ipython3",
   "version": "3.6.15"
  },
  "papermill": {
   "default_parameters": {},
   "duration": 144.941706,
   "end_time": "2021-11-03T20:10:12.133065",
   "environment_variables": {},
   "exception": null,
   "input_path": "2020-08-11-part2.ipynb",
   "output_path": "2020-08-11-part2.ipynb",
   "parameters": {},
   "start_time": "2021-11-03T20:07:47.191359",
   "version": "2.3.3"
  }
 },
 "nbformat": 4,
 "nbformat_minor": 5
}