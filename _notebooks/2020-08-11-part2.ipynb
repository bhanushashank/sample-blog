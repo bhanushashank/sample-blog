{
 "cells": [
  {
   "cell_type": "markdown",
   "id": "98380cd3",
   "metadata": {
    "papermill": {
     "duration": 0.033911,
     "end_time": "2021-12-08T20:09:31.254329",
     "exception": false,
     "start_time": "2021-12-08T20:09:31.220418",
     "status": "completed"
    },
    "tags": []
   },
   "source": [
    "# Distinguish Your Own Digits (DYOD)"
   ]
  },
  {
   "cell_type": "markdown",
   "id": "ef31240d",
   "metadata": {
    "papermill": {
     "duration": 0.028811,
     "end_time": "2021-12-08T20:09:31.312668",
     "exception": false,
     "start_time": "2021-12-08T20:09:31.283857",
     "status": "completed"
    },
    "tags": []
   },
   "source": [
    "You are going to write a classifier that distinguishes between the number 3 and number 8."
   ]
  },
  {
   "cell_type": "code",
   "execution_count": 1,
   "id": "b15c8646",
   "metadata": {
    "execution": {
     "iopub.execute_input": "2021-12-08T20:09:31.388174Z",
     "iopub.status.busy": "2021-12-08T20:09:31.387420Z",
     "iopub.status.idle": "2021-12-08T20:09:31.399538Z",
     "shell.execute_reply": "2021-12-08T20:09:31.398851Z"
    },
    "papermill": {
     "duration": 0.057047,
     "end_time": "2021-12-08T20:09:31.399693",
     "exception": false,
     "start_time": "2021-12-08T20:09:31.342646",
     "status": "completed"
    },
    "tags": []
   },
   "outputs": [],
   "source": [
    "%load_ext autoreload\n",
    "%autoreload 2"
   ]
  },
  {
   "cell_type": "code",
   "execution_count": 2,
   "id": "22ef38dc",
   "metadata": {
    "execution": {
     "iopub.execute_input": "2021-12-08T20:09:31.461517Z",
     "iopub.status.busy": "2021-12-08T20:09:31.460900Z",
     "iopub.status.idle": "2021-12-08T20:09:32.148791Z",
     "shell.execute_reply": "2021-12-08T20:09:32.148143Z"
    },
    "papermill": {
     "duration": 0.71916,
     "end_time": "2021-12-08T20:09:32.148994",
     "exception": false,
     "start_time": "2021-12-08T20:09:31.429834",
     "status": "completed"
    },
    "tags": []
   },
   "outputs": [],
   "source": [
    "%matplotlib inline\n",
    "import numpy as np\n",
    "import matplotlib.pyplot as plt\n",
    "import pandas as pd"
   ]
  },
  {
   "cell_type": "markdown",
   "id": "ba036198",
   "metadata": {
    "papermill": {
     "duration": 0.027235,
     "end_time": "2021-12-08T20:09:32.203461",
     "exception": false,
     "start_time": "2021-12-08T20:09:32.176226",
     "status": "completed"
    },
    "tags": []
   },
   "source": [
    "From the command line run `pip install mnist`. This is a library that will help you bring down the mnist dataset. If you run this from a notebook, you need to put  `!pip install mnist` in a cell by itself."
   ]
  },
  {
   "cell_type": "code",
   "execution_count": 3,
   "id": "bb6ad8a1",
   "metadata": {
    "execution": {
     "iopub.execute_input": "2021-12-08T20:09:32.265913Z",
     "iopub.status.busy": "2021-12-08T20:09:32.264721Z",
     "iopub.status.idle": "2021-12-08T20:09:35.019937Z",
     "shell.execute_reply": "2021-12-08T20:09:35.019216Z"
    },
    "papermill": {
     "duration": 2.790033,
     "end_time": "2021-12-08T20:09:35.020116",
     "exception": false,
     "start_time": "2021-12-08T20:09:32.230083",
     "status": "completed"
    },
    "tags": []
   },
   "outputs": [
    {
     "name": "stdout",
     "output_type": "stream",
     "text": [
      "Collecting mnist\r\n"
     ]
    },
    {
     "name": "stdout",
     "output_type": "stream",
     "text": [
      "  Downloading mnist-0.2.2-py2.py3-none-any.whl (3.5 kB)\r\n",
      "Requirement already satisfied: numpy in /opt/hostedtoolcache/Python/3.6.15/x64/lib/python3.6/site-packages (from mnist) (1.19.5)\r\n"
     ]
    },
    {
     "name": "stdout",
     "output_type": "stream",
     "text": [
      "Installing collected packages: mnist\r\n"
     ]
    },
    {
     "name": "stdout",
     "output_type": "stream",
     "text": [
      "Successfully installed mnist-0.2.2\r\n"
     ]
    }
   ],
   "source": [
    "!pip install mnist"
   ]
  },
  {
   "cell_type": "markdown",
   "id": "69df9c9a",
   "metadata": {
    "papermill": {
     "duration": 0.030309,
     "end_time": "2021-12-08T20:09:35.081187",
     "exception": false,
     "start_time": "2021-12-08T20:09:35.050878",
     "status": "completed"
    },
    "tags": []
   },
   "source": [
    "## Preparing the Data"
   ]
  },
  {
   "cell_type": "code",
   "execution_count": 4,
   "id": "7f69d806",
   "metadata": {
    "execution": {
     "iopub.execute_input": "2021-12-08T20:09:35.149464Z",
     "iopub.status.busy": "2021-12-08T20:09:35.148844Z",
     "iopub.status.idle": "2021-12-08T20:09:35.163216Z",
     "shell.execute_reply": "2021-12-08T20:09:35.162725Z"
    },
    "papermill": {
     "duration": 0.052217,
     "end_time": "2021-12-08T20:09:35.163379",
     "exception": false,
     "start_time": "2021-12-08T20:09:35.111162",
     "status": "completed"
    },
    "tags": []
   },
   "outputs": [],
   "source": [
    "import mnist"
   ]
  },
  {
   "cell_type": "code",
   "execution_count": 5,
   "id": "a411e44f",
   "metadata": {
    "execution": {
     "iopub.execute_input": "2021-12-08T20:09:35.229253Z",
     "iopub.status.busy": "2021-12-08T20:09:35.228616Z",
     "iopub.status.idle": "2021-12-08T20:09:35.814607Z",
     "shell.execute_reply": "2021-12-08T20:09:35.815384Z"
    },
    "papermill": {
     "duration": 0.622195,
     "end_time": "2021-12-08T20:09:35.815642",
     "exception": false,
     "start_time": "2021-12-08T20:09:35.193447",
     "status": "completed"
    },
    "tags": []
   },
   "outputs": [],
   "source": [
    "train_images = mnist.train_images()\n",
    "train_labels = mnist.train_labels()"
   ]
  },
  {
   "cell_type": "code",
   "execution_count": 6,
   "id": "dceab3a5",
   "metadata": {
    "execution": {
     "iopub.execute_input": "2021-12-08T20:09:35.880239Z",
     "iopub.status.busy": "2021-12-08T20:09:35.879620Z",
     "iopub.status.idle": "2021-12-08T20:09:35.895636Z",
     "shell.execute_reply": "2021-12-08T20:09:35.896166Z"
    },
    "papermill": {
     "duration": 0.050854,
     "end_time": "2021-12-08T20:09:35.896327",
     "exception": false,
     "start_time": "2021-12-08T20:09:35.845473",
     "status": "completed"
    },
    "tags": []
   },
   "outputs": [
    {
     "data": {
      "text/plain": [
       "((60000, 28, 28), (60000,))"
      ]
     },
     "execution_count": 6,
     "metadata": {},
     "output_type": "execute_result"
    }
   ],
   "source": [
    "train_images.shape, train_labels.shape"
   ]
  },
  {
   "cell_type": "code",
   "execution_count": 7,
   "id": "f50dc2bb",
   "metadata": {
    "execution": {
     "iopub.execute_input": "2021-12-08T20:09:35.959665Z",
     "iopub.status.busy": "2021-12-08T20:09:35.959010Z",
     "iopub.status.idle": "2021-12-08T20:09:36.162922Z",
     "shell.execute_reply": "2021-12-08T20:09:36.163487Z"
    },
    "papermill": {
     "duration": 0.237674,
     "end_time": "2021-12-08T20:09:36.163671",
     "exception": false,
     "start_time": "2021-12-08T20:09:35.925997",
     "status": "completed"
    },
    "tags": []
   },
   "outputs": [],
   "source": [
    "test_images = mnist.test_images()\n",
    "test_labels = mnist.test_labels()"
   ]
  },
  {
   "cell_type": "code",
   "execution_count": 8,
   "id": "fc38cf1b",
   "metadata": {
    "execution": {
     "iopub.execute_input": "2021-12-08T20:09:36.231881Z",
     "iopub.status.busy": "2021-12-08T20:09:36.231204Z",
     "iopub.status.idle": "2021-12-08T20:09:36.247409Z",
     "shell.execute_reply": "2021-12-08T20:09:36.247918Z"
    },
    "papermill": {
     "duration": 0.05342,
     "end_time": "2021-12-08T20:09:36.248080",
     "exception": false,
     "start_time": "2021-12-08T20:09:36.194660",
     "status": "completed"
    },
    "tags": []
   },
   "outputs": [
    {
     "data": {
      "text/plain": [
       "((10000, 28, 28), (10000,))"
      ]
     },
     "execution_count": 8,
     "metadata": {},
     "output_type": "execute_result"
    }
   ],
   "source": [
    "test_images.shape, test_labels.shape"
   ]
  },
  {
   "cell_type": "code",
   "execution_count": 9,
   "id": "f9ed8fe0",
   "metadata": {
    "execution": {
     "iopub.execute_input": "2021-12-08T20:09:36.314202Z",
     "iopub.status.busy": "2021-12-08T20:09:36.313602Z",
     "iopub.status.idle": "2021-12-08T20:09:36.493326Z",
     "shell.execute_reply": "2021-12-08T20:09:36.493843Z"
    },
    "papermill": {
     "duration": 0.214328,
     "end_time": "2021-12-08T20:09:36.494009",
     "exception": false,
     "start_time": "2021-12-08T20:09:36.279681",
     "status": "completed"
    },
    "tags": []
   },
   "outputs": [
    {
     "name": "stdout",
     "output_type": "stream",
     "text": [
      "2\n"
     ]
    },
    {
     "data": {
      "text/plain": [
       "<matplotlib.image.AxesImage at 0x7fe3cc1394e0>"
      ]
     },
     "execution_count": 9,
     "metadata": {},
     "output_type": "execute_result"
    },
    {
     "data": {
      "image/png": "[encoded data removed]",
      "text/plain": [
       "<Figure size 432x288 with 1 Axes>"
      ]
     },
     "metadata": {
      "needs_background": "light"
     },
     "output_type": "display_data"
    }
   ],
   "source": [
    "image_index = 7776 # You may select anything up to 60,000\n",
    "print(train_labels[image_index]) \n",
    "plt.imshow(train_images[image_index], cmap='Greys')"
   ]
  },
  {
   "cell_type": "markdown",
   "id": "a8d2388d",
   "metadata": {
    "papermill": {
     "duration": 0.035164,
     "end_time": "2021-12-08T20:09:36.563314",
     "exception": false,
     "start_time": "2021-12-08T20:09:36.528150",
     "status": "completed"
    },
    "tags": []
   },
   "source": [
    "## Filter data to get 3 and 8 out"
   ]
  },
  {
   "cell_type": "code",
   "execution_count": 10,
   "id": "776f7fc7",
   "metadata": {
    "execution": {
     "iopub.execute_input": "2021-12-08T20:09:36.638435Z",
     "iopub.status.busy": "2021-12-08T20:09:36.637783Z",
     "iopub.status.idle": "2021-12-08T20:09:36.657835Z",
     "shell.execute_reply": "2021-12-08T20:09:36.658319Z"
    },
    "papermill": {
     "duration": 0.059229,
     "end_time": "2021-12-08T20:09:36.658488",
     "exception": false,
     "start_time": "2021-12-08T20:09:36.599259",
     "status": "completed"
    },
    "tags": []
   },
   "outputs": [],
   "source": [
    "train_filter = np.where((train_labels == 3 ) | (train_labels == 8))\n",
    "test_filter = np.where((test_labels == 3) | (test_labels == 8))\n",
    "X_train, y_train = train_images[train_filter], train_labels[train_filter]\n",
    "X_test, y_test = test_images[test_filter], test_labels[test_filter]"
   ]
  },
  {
   "cell_type": "markdown",
   "id": "948f0b7e",
   "metadata": {
    "papermill": {
     "duration": 0.035621,
     "end_time": "2021-12-08T20:09:36.726568",
     "exception": false,
     "start_time": "2021-12-08T20:09:36.690947",
     "status": "completed"
    },
    "tags": []
   },
   "source": [
    "We normalize the pizel values in the 0 to 1 range"
   ]
  },
  {
   "cell_type": "code",
   "execution_count": 11,
   "id": "ee4c2166",
   "metadata": {
    "execution": {
     "iopub.execute_input": "2021-12-08T20:09:36.795026Z",
     "iopub.status.busy": "2021-12-08T20:09:36.794408Z",
     "iopub.status.idle": "2021-12-08T20:09:36.852159Z",
     "shell.execute_reply": "2021-12-08T20:09:36.851169Z"
    },
    "papermill": {
     "duration": 0.093726,
     "end_time": "2021-12-08T20:09:36.852380",
     "exception": false,
     "start_time": "2021-12-08T20:09:36.758654",
     "status": "completed"
    },
    "tags": []
   },
   "outputs": [],
   "source": [
    "X_train = X_train/255.\n",
    "X_test = X_test/255."
   ]
  },
  {
   "cell_type": "markdown",
   "id": "ddcf4fab",
   "metadata": {
    "papermill": {
     "duration": 0.029948,
     "end_time": "2021-12-08T20:09:36.914806",
     "exception": false,
     "start_time": "2021-12-08T20:09:36.884858",
     "status": "completed"
    },
    "tags": []
   },
   "source": [
    "And setup the labels as 1 (when the digit is 3) and 0 (when the digit is 8)"
   ]
  },
  {
   "cell_type": "code",
   "execution_count": 12,
   "id": "7dc908f2",
   "metadata": {
    "execution": {
     "iopub.execute_input": "2021-12-08T20:09:36.980258Z",
     "iopub.status.busy": "2021-12-08T20:09:36.979629Z",
     "iopub.status.idle": "2021-12-08T20:09:36.994615Z",
     "shell.execute_reply": "2021-12-08T20:09:36.994098Z"
    },
    "papermill": {
     "duration": 0.049788,
     "end_time": "2021-12-08T20:09:36.994759",
     "exception": false,
     "start_time": "2021-12-08T20:09:36.944971",
     "status": "completed"
    },
    "tags": []
   },
   "outputs": [],
   "source": [
    "y_train = 1*(y_train==3)\n",
    "y_test = 1*(y_test==3)"
   ]
  },
  {
   "cell_type": "code",
   "execution_count": 13,
   "id": "01e4e969",
   "metadata": {
    "execution": {
     "iopub.execute_input": "2021-12-08T20:09:37.060844Z",
     "iopub.status.busy": "2021-12-08T20:09:37.060245Z",
     "iopub.status.idle": "2021-12-08T20:09:37.075551Z",
     "shell.execute_reply": "2021-12-08T20:09:37.076109Z"
    },
    "papermill": {
     "duration": 0.051092,
     "end_time": "2021-12-08T20:09:37.076279",
     "exception": false,
     "start_time": "2021-12-08T20:09:37.025187",
     "status": "completed"
    },
    "tags": []
   },
   "outputs": [
    {
     "data": {
      "text/plain": [
       "((11982, 28, 28), (1984, 28, 28))"
      ]
     },
     "execution_count": 13,
     "metadata": {},
     "output_type": "execute_result"
    }
   ],
   "source": [
    "X_train.shape, X_test.shape"
   ]
  },
  {
   "cell_type": "markdown",
   "id": "5ccf3f85",
   "metadata": {
    "papermill": {
     "duration": 0.034152,
     "end_time": "2021-12-08T20:09:37.143862",
     "exception": false,
     "start_time": "2021-12-08T20:09:37.109710",
     "status": "completed"
    },
    "tags": []
   },
   "source": [
    "We reshape the data to flatten the image pixels into a set of features or co-variates:"
   ]
  },
  {
   "cell_type": "code",
   "execution_count": 14,
   "id": "5286a4a3",
   "metadata": {
    "execution": {
     "iopub.execute_input": "2021-12-08T20:09:37.215101Z",
     "iopub.status.busy": "2021-12-08T20:09:37.214497Z",
     "iopub.status.idle": "2021-12-08T20:09:37.231295Z",
     "shell.execute_reply": "2021-12-08T20:09:37.230770Z"
    },
    "papermill": {
     "duration": 0.053094,
     "end_time": "2021-12-08T20:09:37.231438",
     "exception": false,
     "start_time": "2021-12-08T20:09:37.178344",
     "status": "completed"
    },
    "tags": []
   },
   "outputs": [
    {
     "data": {
      "text/plain": [
       "((11982, 784), (1984, 784))"
      ]
     },
     "execution_count": 14,
     "metadata": {},
     "output_type": "execute_result"
    }
   ],
   "source": [
    "X_train = X_train.reshape(X_train.shape[0], -1)\n",
    "X_test = X_test.reshape(X_test.shape[0], -1)\n",
    "X_train.shape, X_test.shape"
   ]
  },
  {
   "cell_type": "code",
   "execution_count": 15,
   "id": "73c5f88a",
   "metadata": {
    "execution": {
     "iopub.execute_input": "2021-12-08T20:09:37.303364Z",
     "iopub.status.busy": "2021-12-08T20:09:37.302592Z",
     "iopub.status.idle": "2021-12-08T20:09:37.325182Z",
     "shell.execute_reply": "2021-12-08T20:09:37.324646Z"
    },
    "papermill": {
     "duration": 0.06148,
     "end_time": "2021-12-08T20:09:37.325324",
     "exception": false,
     "start_time": "2021-12-08T20:09:37.263844",
     "status": "completed"
    },
    "tags": []
   },
   "outputs": [],
   "source": [
    "#Impoting functions from 'Kudzu'\n",
    "from kudzu.model import Model\n",
    "from kudzu.train import Learner\n",
    "from kudzu.optim import GD\n",
    "from kudzu.data import Data, Sampler,Dataloader\n",
    "\n",
    "from kudzu.callbacks import AccCallback\n",
    "from kudzu.callbacks import ClfCallback\n",
    "\n",
    "from kudzu.loss import MSE\n",
    "\n",
    "from kudzu.layer import Sigmoid,Relu\n",
    "from kudzu.layer import Affine"
   ]
  },
  {
   "cell_type": "markdown",
   "id": "bc01172a",
   "metadata": {
    "papermill": {
     "duration": 0.031745,
     "end_time": "2021-12-08T20:09:37.388321",
     "exception": false,
     "start_time": "2021-12-08T20:09:37.356576",
     "status": "completed"
    },
    "tags": []
   },
   "source": [
    "### Let us create a `Config` class, to store important parameters. \n",
    "This class essentially plays the role of a dictionary."
   ]
  },
  {
   "cell_type": "code",
   "execution_count": 16,
   "id": "978281aa",
   "metadata": {
    "execution": {
     "iopub.execute_input": "2021-12-08T20:09:37.461911Z",
     "iopub.status.busy": "2021-12-08T20:09:37.461008Z",
     "iopub.status.idle": "2021-12-08T20:09:37.475607Z",
     "shell.execute_reply": "2021-12-08T20:09:37.475062Z"
    },
    "papermill": {
     "duration": 0.05632,
     "end_time": "2021-12-08T20:09:37.475753",
     "exception": false,
     "start_time": "2021-12-08T20:09:37.419433",
     "status": "completed"
    },
    "tags": []
   },
   "outputs": [],
   "source": [
    "class Config:\n",
    "    pass\n",
    "config = Config()\n",
    "config.lr = 0.001\n",
    "config.num_epochs = 250\n",
    "config.bs = 50"
   ]
  },
  {
   "cell_type": "markdown",
   "id": "1385fa59",
   "metadata": {
    "papermill": {
     "duration": 0.033602,
     "end_time": "2021-12-08T20:09:37.540915",
     "exception": false,
     "start_time": "2021-12-08T20:09:37.507313",
     "status": "completed"
    },
    "tags": []
   },
   "source": [
    "### Running Models with the Training data\n",
    "Details about the network layers:\n",
    "- A first affine layer has 784 inputs and does 100 affine transforms. These are followed by a Relu\n",
    "- A second affine layer has 100 inputs from the 100 activations of the past layer, and does 100 affine transforms. These are followed by a Relu\n",
    "- A third affine layer has 100 activations and does 2 affine transformations to create an embedding for visualization. There is no non-linearity here.\n",
    "- A final \"logistic regression\" which has an affine transform from 2 inputs to 1 output, which is squeezed through a sigmoid.\n"
   ]
  },
  {
   "cell_type": "code",
   "execution_count": 17,
   "id": "2b9c66db",
   "metadata": {
    "execution": {
     "iopub.execute_input": "2021-12-08T20:09:37.608211Z",
     "iopub.status.busy": "2021-12-08T20:09:37.607534Z",
     "iopub.status.idle": "2021-12-08T20:09:37.624623Z",
     "shell.execute_reply": "2021-12-08T20:09:37.623997Z"
    },
    "papermill": {
     "duration": 0.052582,
     "end_time": "2021-12-08T20:09:37.624775",
     "exception": false,
     "start_time": "2021-12-08T20:09:37.572193",
     "status": "completed"
    },
    "tags": []
   },
   "outputs": [],
   "source": [
    "data = Data(X_train, y_train.reshape(-1,1))\n",
    "sampler = Sampler(data, config.bs, shuffle=True)\n",
    "\n",
    "dl = Dataloader(data, sampler)\n",
    "\n",
    "opt = GD(config.lr)\n",
    "loss = MSE()"
   ]
  },
  {
   "cell_type": "code",
   "execution_count": 18,
   "id": "b275e4c2",
   "metadata": {
    "execution": {
     "iopub.execute_input": "2021-12-08T20:09:37.696640Z",
     "iopub.status.busy": "2021-12-08T20:09:37.696014Z",
     "iopub.status.idle": "2021-12-08T20:09:37.707116Z",
     "shell.execute_reply": "2021-12-08T20:09:37.706595Z"
    },
    "papermill": {
     "duration": 0.05093,
     "end_time": "2021-12-08T20:09:37.707277",
     "exception": false,
     "start_time": "2021-12-08T20:09:37.656347",
     "status": "completed"
    },
    "tags": []
   },
   "outputs": [],
   "source": [
    "training_data_x = X_train\n",
    "testing_data_x = X_test\n",
    "training_data_y = y_train.reshape(-1,1)\n",
    "testing_data_y = y_test.reshape(-1,1)"
   ]
  },
  {
   "cell_type": "code",
   "execution_count": 19,
   "id": "76951160",
   "metadata": {
    "execution": {
     "iopub.execute_input": "2021-12-08T20:09:37.777330Z",
     "iopub.status.busy": "2021-12-08T20:09:37.776686Z",
     "iopub.status.idle": "2021-12-08T20:09:37.797408Z",
     "shell.execute_reply": "2021-12-08T20:09:37.796237Z"
    },
    "papermill": {
     "duration": 0.058484,
     "end_time": "2021-12-08T20:09:37.797563",
     "exception": false,
     "start_time": "2021-12-08T20:09:37.739079",
     "status": "completed"
    },
    "tags": []
   },
   "outputs": [
    {
     "name": "stdout",
     "output_type": "stream",
     "text": [
      "xavier\n",
      "xavier\n",
      "xavier\n",
      "xavier\n",
      "xavier\n"
     ]
    }
   ],
   "source": [
    "layers = [Affine(\"first\", 784, 100), Relu(\"first\"), Affine(\"second\", 100, 100), Relu(\"second\"), Affine(\"third\", 100, 2), Affine(\"last\", 2, 1), Sigmoid(\"last\")]\n",
    "model_nn = Model(layers)\n",
    "model_lr = Model([Affine(\"logits\", 784, 1), Sigmoid(\"sigmoid\")])"
   ]
  },
  {
   "cell_type": "code",
   "execution_count": 20,
   "id": "6eede77a",
   "metadata": {
    "execution": {
     "iopub.execute_input": "2021-12-08T20:09:37.866470Z",
     "iopub.status.busy": "2021-12-08T20:09:37.865865Z",
     "iopub.status.idle": "2021-12-08T20:09:37.881363Z",
     "shell.execute_reply": "2021-12-08T20:09:37.880621Z"
    },
    "papermill": {
     "duration": 0.051913,
     "end_time": "2021-12-08T20:09:37.881539",
     "exception": false,
     "start_time": "2021-12-08T20:09:37.829626",
     "status": "completed"
    },
    "tags": []
   },
   "outputs": [],
   "source": [
    "nn_learner = Learner(loss, model_nn, opt, config.num_epochs)\n",
    "acc_nn = ClfCallback(nn_learner, config.bs, training_data_x , testing_data_x, training_data_y, testing_data_y)\n",
    "nn_learner.set_callbacks([acc_nn])"
   ]
  },
  {
   "cell_type": "code",
   "execution_count": 21,
   "id": "877b6cc7",
   "metadata": {
    "execution": {
     "iopub.execute_input": "2021-12-08T20:09:37.956733Z",
     "iopub.status.busy": "2021-12-08T20:09:37.956097Z",
     "iopub.status.idle": "2021-12-08T20:09:37.974361Z",
     "shell.execute_reply": "2021-12-08T20:09:37.973823Z"
    },
    "papermill": {
     "duration": 0.058762,
     "end_time": "2021-12-08T20:09:37.974508",
     "exception": false,
     "start_time": "2021-12-08T20:09:37.915746",
     "status": "completed"
    },
    "tags": []
   },
   "outputs": [],
   "source": [
    "lr_learner = Learner(loss, model_lr, opt, config.num_epochs)\n",
    "acc_lr = ClfCallback(lr_learner, config.bs, training_data_x , testing_data_x, training_data_y, testing_data_y)\n",
    "lr_learner.set_callbacks([acc_lr])"
   ]
  },
  {
   "cell_type": "code",
   "execution_count": 22,
   "id": "d9b133c3",
   "metadata": {
    "execution": {
     "iopub.execute_input": "2021-12-08T20:09:38.045142Z",
     "iopub.status.busy": "2021-12-08T20:09:38.044532Z",
     "iopub.status.idle": "2021-12-08T20:11:07.714892Z",
     "shell.execute_reply": "2021-12-08T20:11:07.715767Z"
    },
    "papermill": {
     "duration": 89.70907,
     "end_time": "2021-12-08T20:11:07.715934",
     "exception": false,
     "start_time": "2021-12-08T20:09:38.006864",
     "status": "completed"
    },
    "tags": []
   },
   "outputs": [
    {
     "name": "stdout",
     "output_type": "stream",
     "text": [
      "Epoch 0, Loss 0.1908\n",
      "Training Accuracy: 0.8303, Testing Accuracy: 0.8458\n",
      "\n"
     ]
    },
    {
     "name": "stdout",
     "output_type": "stream",
     "text": [
      "Epoch 10, Loss 0.0518\n",
      "Training Accuracy: 0.9444, Testing Accuracy: 0.9572\n",
      "\n"
     ]
    },
    {
     "name": "stdout",
     "output_type": "stream",
     "text": [
      "Epoch 20, Loss 0.0386\n",
      "Training Accuracy: 0.9575, Testing Accuracy: 0.9637\n",
      "\n"
     ]
    },
    {
     "name": "stdout",
     "output_type": "stream",
     "text": [
      "Epoch 30, Loss 0.0332\n",
      "Training Accuracy: 0.9629, Testing Accuracy: 0.9677\n",
      "\n"
     ]
    },
    {
     "name": "stdout",
     "output_type": "stream",
     "text": [
      "Epoch 40, Loss 0.03\n",
      "Training Accuracy: 0.9662, Testing Accuracy: 0.9688\n",
      "\n"
     ]
    },
    {
     "name": "stdout",
     "output_type": "stream",
     "text": [
      "Epoch 50, Loss 0.0277\n",
      "Training Accuracy: 0.9690, Testing Accuracy: 0.9708\n",
      "\n"
     ]
    },
    {
     "name": "stdout",
     "output_type": "stream",
     "text": [
      "Epoch 60, Loss 0.026\n",
      "Training Accuracy: 0.9707, Testing Accuracy: 0.9723\n",
      "\n"
     ]
    },
    {
     "name": "stdout",
     "output_type": "stream",
     "text": [
      "Epoch 70, Loss 0.0246\n",
      "Training Accuracy: 0.9724, Testing Accuracy: 0.9723\n",
      "\n"
     ]
    },
    {
     "name": "stdout",
     "output_type": "stream",
     "text": [
      "Epoch 80, Loss 0.0234\n",
      "Training Accuracy: 0.9735, Testing Accuracy: 0.9743\n",
      "\n"
     ]
    },
    {
     "name": "stdout",
     "output_type": "stream",
     "text": [
      "Epoch 90, Loss 0.0223\n",
      "Training Accuracy: 0.9752, Testing Accuracy: 0.9748\n",
      "\n"
     ]
    },
    {
     "name": "stdout",
     "output_type": "stream",
     "text": [
      "Epoch 100, Loss 0.0214\n",
      "Training Accuracy: 0.9766, Testing Accuracy: 0.9743\n",
      "\n"
     ]
    },
    {
     "name": "stdout",
     "output_type": "stream",
     "text": [
      "Epoch 110, Loss 0.0205\n",
      "Training Accuracy: 0.9777, Testing Accuracy: 0.9758\n",
      "\n"
     ]
    },
    {
     "name": "stdout",
     "output_type": "stream",
     "text": [
      "Epoch 120, Loss 0.0197\n",
      "Training Accuracy: 0.9788, Testing Accuracy: 0.9763\n",
      "\n"
     ]
    },
    {
     "name": "stdout",
     "output_type": "stream",
     "text": [
      "Epoch 130, Loss 0.0191\n",
      "Training Accuracy: 0.9794, Testing Accuracy: 0.9763\n",
      "\n"
     ]
    },
    {
     "name": "stdout",
     "output_type": "stream",
     "text": [
      "Epoch 140, Loss 0.0184\n",
      "Training Accuracy: 0.9802, Testing Accuracy: 0.9773\n",
      "\n"
     ]
    },
    {
     "name": "stdout",
     "output_type": "stream",
     "text": [
      "Epoch 150, Loss 0.0178\n",
      "Training Accuracy: 0.9808, Testing Accuracy: 0.9783\n",
      "\n"
     ]
    },
    {
     "name": "stdout",
     "output_type": "stream",
     "text": [
      "Epoch 160, Loss 0.0173\n",
      "Training Accuracy: 0.9816, Testing Accuracy: 0.9788\n",
      "\n"
     ]
    },
    {
     "name": "stdout",
     "output_type": "stream",
     "text": [
      "Epoch 170, Loss 0.0167\n",
      "Training Accuracy: 0.9820, Testing Accuracy: 0.9783\n",
      "\n"
     ]
    },
    {
     "name": "stdout",
     "output_type": "stream",
     "text": [
      "Epoch 180, Loss 0.0162\n",
      "Training Accuracy: 0.9825, Testing Accuracy: 0.9783\n",
      "\n"
     ]
    },
    {
     "name": "stdout",
     "output_type": "stream",
     "text": [
      "Epoch 190, Loss 0.0158\n",
      "Training Accuracy: 0.9831, Testing Accuracy: 0.9788\n",
      "\n"
     ]
    },
    {
     "name": "stdout",
     "output_type": "stream",
     "text": [
      "Epoch 200, Loss 0.0153\n",
      "Training Accuracy: 0.9839, Testing Accuracy: 0.9793\n",
      "\n"
     ]
    },
    {
     "name": "stdout",
     "output_type": "stream",
     "text": [
      "Epoch 210, Loss 0.0148\n",
      "Training Accuracy: 0.9844, Testing Accuracy: 0.9808\n",
      "\n"
     ]
    },
    {
     "name": "stdout",
     "output_type": "stream",
     "text": [
      "Epoch 220, Loss 0.0144\n",
      "Training Accuracy: 0.9851, Testing Accuracy: 0.9814\n",
      "\n"
     ]
    },
    {
     "name": "stdout",
     "output_type": "stream",
     "text": [
      "Epoch 230, Loss 0.014\n",
      "Training Accuracy: 0.9855, Testing Accuracy: 0.9819\n",
      "\n"
     ]
    },
    {
     "name": "stdout",
     "output_type": "stream",
     "text": [
      "Epoch 240, Loss 0.0136\n",
      "Training Accuracy: 0.9861, Testing Accuracy: 0.9819\n",
      "\n"
     ]
    },
    {
     "data": {
      "text/plain": [
       "0.0320676710922075"
      ]
     },
     "execution_count": 22,
     "metadata": {},
     "output_type": "execute_result"
    }
   ],
   "source": [
    "nn_learner.train_loop(dl)"
   ]
  },
  {
   "cell_type": "code",
   "execution_count": 23,
   "id": "e0163366",
   "metadata": {
    "execution": {
     "iopub.execute_input": "2021-12-08T20:11:07.808717Z",
     "iopub.status.busy": "2021-12-08T20:11:07.808101Z",
     "iopub.status.idle": "2021-12-08T20:11:23.707785Z",
     "shell.execute_reply": "2021-12-08T20:11:23.708671Z"
    },
    "papermill": {
     "duration": 15.953307,
     "end_time": "2021-12-08T20:11:23.708847",
     "exception": false,
     "start_time": "2021-12-08T20:11:07.755540",
     "status": "completed"
    },
    "tags": []
   },
   "outputs": [
    {
     "name": "stdout",
     "output_type": "stream",
     "text": [
      "Epoch 0, Loss 0.2417\n",
      "Training Accuracy: 0.6562, Testing Accuracy: 0.6250\n",
      "\n"
     ]
    },
    {
     "name": "stdout",
     "output_type": "stream",
     "text": [
      "Epoch 10, Loss 0.1045\n",
      "Training Accuracy: 0.9033, Testing Accuracy: 0.9189\n",
      "\n"
     ]
    },
    {
     "name": "stdout",
     "output_type": "stream",
     "text": [
      "Epoch 20, Loss 0.0789\n",
      "Training Accuracy: 0.9287, Testing Accuracy: 0.9395\n",
      "\n"
     ]
    },
    {
     "name": "stdout",
     "output_type": "stream",
     "text": [
      "Epoch 30, Loss 0.0674\n",
      "Training Accuracy: 0.9396, Testing Accuracy: 0.9476\n",
      "\n"
     ]
    },
    {
     "name": "stdout",
     "output_type": "stream",
     "text": [
      "Epoch 40, Loss 0.0607\n",
      "Training Accuracy: 0.9453, Testing Accuracy: 0.9541\n",
      "\n"
     ]
    },
    {
     "name": "stdout",
     "output_type": "stream",
     "text": [
      "Epoch 50, Loss 0.0561\n",
      "Training Accuracy: 0.9479, Testing Accuracy: 0.9577\n",
      "\n"
     ]
    },
    {
     "name": "stdout",
     "output_type": "stream",
     "text": [
      "Epoch 60, Loss 0.0529\n",
      "Training Accuracy: 0.9494, Testing Accuracy: 0.9607\n",
      "\n"
     ]
    },
    {
     "name": "stdout",
     "output_type": "stream",
     "text": [
      "Epoch 70, Loss 0.0503\n",
      "Training Accuracy: 0.9514, Testing Accuracy: 0.9607\n",
      "\n"
     ]
    },
    {
     "name": "stdout",
     "output_type": "stream",
     "text": [
      "Epoch 80, Loss 0.0483\n",
      "Training Accuracy: 0.9529, Testing Accuracy: 0.9617\n",
      "\n"
     ]
    },
    {
     "name": "stdout",
     "output_type": "stream",
     "text": [
      "Epoch 90, Loss 0.0467\n",
      "Training Accuracy: 0.9543, Testing Accuracy: 0.9637\n",
      "\n"
     ]
    },
    {
     "name": "stdout",
     "output_type": "stream",
     "text": [
      "Epoch 100, Loss 0.0453\n",
      "Training Accuracy: 0.9557, Testing Accuracy: 0.9642\n",
      "\n"
     ]
    },
    {
     "name": "stdout",
     "output_type": "stream",
     "text": [
      "Epoch 110, Loss 0.0441\n",
      "Training Accuracy: 0.9558, Testing Accuracy: 0.9642\n",
      "\n"
     ]
    },
    {
     "name": "stdout",
     "output_type": "stream",
     "text": [
      "Epoch 120, Loss 0.0431\n",
      "Training Accuracy: 0.9565, Testing Accuracy: 0.9652\n",
      "\n"
     ]
    },
    {
     "name": "stdout",
     "output_type": "stream",
     "text": [
      "Epoch 130, Loss 0.0422\n",
      "Training Accuracy: 0.9570, Testing Accuracy: 0.9657\n",
      "\n"
     ]
    },
    {
     "name": "stdout",
     "output_type": "stream",
     "text": [
      "Epoch 140, Loss 0.0414\n",
      "Training Accuracy: 0.9576, Testing Accuracy: 0.9662\n",
      "\n"
     ]
    },
    {
     "name": "stdout",
     "output_type": "stream",
     "text": [
      "Epoch 150, Loss 0.0407\n",
      "Training Accuracy: 0.9580, Testing Accuracy: 0.9657\n",
      "\n"
     ]
    },
    {
     "name": "stdout",
     "output_type": "stream",
     "text": [
      "Epoch 160, Loss 0.0401\n",
      "Training Accuracy: 0.9584, Testing Accuracy: 0.9657\n",
      "\n"
     ]
    },
    {
     "name": "stdout",
     "output_type": "stream",
     "text": [
      "Epoch 170, Loss 0.0395\n",
      "Training Accuracy: 0.9588, Testing Accuracy: 0.9662\n",
      "\n"
     ]
    },
    {
     "name": "stdout",
     "output_type": "stream",
     "text": [
      "Epoch 180, Loss 0.0389\n",
      "Training Accuracy: 0.9592, Testing Accuracy: 0.9657\n",
      "\n"
     ]
    },
    {
     "name": "stdout",
     "output_type": "stream",
     "text": [
      "Epoch 190, Loss 0.0384\n",
      "Training Accuracy: 0.9599, Testing Accuracy: 0.9662\n",
      "\n"
     ]
    },
    {
     "name": "stdout",
     "output_type": "stream",
     "text": [
      "Epoch 200, Loss 0.038\n",
      "Training Accuracy: 0.9604, Testing Accuracy: 0.9662\n",
      "\n"
     ]
    },
    {
     "name": "stdout",
     "output_type": "stream",
     "text": [
      "Epoch 210, Loss 0.0376\n",
      "Training Accuracy: 0.9606, Testing Accuracy: 0.9662\n",
      "\n"
     ]
    },
    {
     "name": "stdout",
     "output_type": "stream",
     "text": [
      "Epoch 220, Loss 0.0372\n",
      "Training Accuracy: 0.9610, Testing Accuracy: 0.9662\n",
      "\n"
     ]
    },
    {
     "name": "stdout",
     "output_type": "stream",
     "text": [
      "Epoch 230, Loss 0.0368\n",
      "Training Accuracy: 0.9612, Testing Accuracy: 0.9657\n",
      "\n"
     ]
    },
    {
     "name": "stdout",
     "output_type": "stream",
     "text": [
      "Epoch 240, Loss 0.0365\n",
      "Training Accuracy: 0.9614, Testing Accuracy: 0.9652\n",
      "\n"
     ]
    },
    {
     "data": {
      "text/plain": [
       "0.018476398403322585"
      ]
     },
     "execution_count": 23,
     "metadata": {},
     "output_type": "execute_result"
    }
   ],
   "source": [
    "lr_learner.train_loop(dl)"
   ]
  },
  {
   "cell_type": "code",
   "execution_count": 24,
   "id": "ca410940",
   "metadata": {
    "execution": {
     "iopub.execute_input": "2021-12-08T20:11:23.812505Z",
     "iopub.status.busy": "2021-12-08T20:11:23.811846Z",
     "iopub.status.idle": "2021-12-08T20:11:24.086318Z",
     "shell.execute_reply": "2021-12-08T20:11:24.086827Z"
    },
    "papermill": {
     "duration": 0.330906,
     "end_time": "2021-12-08T20:11:24.086994",
     "exception": false,
     "start_time": "2021-12-08T20:11:23.756088",
     "status": "completed"
    },
    "tags": []
   },
   "outputs": [
    {
     "data": {
      "text/plain": [
       "<matplotlib.legend.Legend at 0x7fe3cbd13c50>"
      ]
     },
     "execution_count": 24,
     "metadata": {},
     "output_type": "execute_result"
    },
    {
     "data": {
      "image/png": "[encoded data removed]",
      "text/plain": [
       "<Figure size 1080x720 with 1 Axes>"
      ]
     },
     "metadata": {
      "needs_background": "light"
     },
     "output_type": "display_data"
    }
   ],
   "source": [
    "#comparing the results of NN and LR\n",
    "plt.figure(figsize=(15,10))\n",
    "\n",
    "# Neural Network plots\n",
    "plt.plot(acc_nn.accuracies, 'r-', label = \"Training Accuracies - NN\")\n",
    "plt.plot(acc_nn.test_accuracies, 'g-', label = \"Testing Accuracies - NN\")\n",
    "\n",
    "# Logistic Regression plots\n",
    "plt.plot(acc_lr.accuracies, 'k-', label = \"Training Accuracies - LR\")\n",
    "plt.plot(acc_lr.test_accuracies, 'b-', label = \"Testing Accuracies - LR\")\n",
    "plt.legend()"
   ]
  },
  {
   "cell_type": "markdown",
   "id": "80dfb35c",
   "metadata": {
    "papermill": {
     "duration": 0.047806,
     "end_time": "2021-12-08T20:11:24.182841",
     "exception": false,
     "start_time": "2021-12-08T20:11:24.135035",
     "status": "completed"
    },
    "tags": []
   },
   "source": [
    "#### Plotting the outputs of this layer of the NN.\n"
   ]
  },
  {
   "cell_type": "code",
   "execution_count": 25,
   "id": "45eb2ff5",
   "metadata": {
    "execution": {
     "iopub.execute_input": "2021-12-08T20:11:24.284078Z",
     "iopub.status.busy": "2021-12-08T20:11:24.281850Z",
     "iopub.status.idle": "2021-12-08T20:11:24.306121Z",
     "shell.execute_reply": "2021-12-08T20:11:24.306630Z"
    },
    "papermill": {
     "duration": 0.076407,
     "end_time": "2021-12-08T20:11:24.306795",
     "exception": false,
     "start_time": "2021-12-08T20:11:24.230388",
     "status": "completed"
    },
    "tags": []
   },
   "outputs": [],
   "source": [
    "new_model = Model(layers[:-2])\n",
    "testing_plot = new_model(testing_data_x)"
   ]
  },
  {
   "cell_type": "code",
   "execution_count": 26,
   "id": "4c0a5485",
   "metadata": {
    "execution": {
     "iopub.execute_input": "2021-12-08T20:11:24.408866Z",
     "iopub.status.busy": "2021-12-08T20:11:24.408209Z",
     "iopub.status.idle": "2021-12-08T20:11:24.666340Z",
     "shell.execute_reply": "2021-12-08T20:11:24.666859Z"
    },
    "papermill": {
     "duration": 0.311736,
     "end_time": "2021-12-08T20:11:24.667024",
     "exception": false,
     "start_time": "2021-12-08T20:11:24.355288",
     "status": "completed"
    },
    "tags": []
   },
   "outputs": [
    {
     "data": {
      "text/plain": [
       "Text(0.5, 1.0, 'Outputs')"
      ]
     },
     "execution_count": 26,
     "metadata": {},
     "output_type": "execute_result"
    },
    {
     "data": {
      "image/png": "[encoded data removed]",
      "text/plain": [
       "<Figure size 576x504 with 1 Axes>"
      ]
     },
     "metadata": {
      "needs_background": "light"
     },
     "output_type": "display_data"
    }
   ],
   "source": [
    "# Plotting the scatter plot of points and color coding by class\n",
    "plt.figure(figsize=(8,7))\n",
    "plt.scatter(testing_plot[:,0], testing_plot[:,1], alpha = 0.1, c = y_test.ravel());\n",
    "plt.title('Outputs')"
   ]
  },
  {
   "cell_type": "markdown",
   "id": "a74fcf8f",
   "metadata": {
    "papermill": {
     "duration": 0.053253,
     "end_time": "2021-12-08T20:11:24.774926",
     "exception": false,
     "start_time": "2021-12-08T20:11:24.721673",
     "status": "completed"
    },
    "tags": []
   },
   "source": [
    "Probability contours"
   ]
  },
  {
   "cell_type": "code",
   "execution_count": 27,
   "id": "d0afc8e3",
   "metadata": {
    "execution": {
     "iopub.execute_input": "2021-12-08T20:11:24.896124Z",
     "iopub.status.busy": "2021-12-08T20:11:24.894991Z",
     "iopub.status.idle": "2021-12-08T20:11:24.908685Z",
     "shell.execute_reply": "2021-12-08T20:11:24.907816Z"
    },
    "papermill": {
     "duration": 0.078105,
     "end_time": "2021-12-08T20:11:24.908835",
     "exception": false,
     "start_time": "2021-12-08T20:11:24.830730",
     "status": "completed"
    },
    "tags": []
   },
   "outputs": [],
   "source": [
    "model_prob = Model(layers[-2:]) "
   ]
  },
  {
   "cell_type": "code",
   "execution_count": 28,
   "id": "9b96e238",
   "metadata": {
    "execution": {
     "iopub.execute_input": "2021-12-08T20:11:25.049692Z",
     "iopub.status.busy": "2021-12-08T20:11:25.049066Z",
     "iopub.status.idle": "2021-12-08T20:11:25.065944Z",
     "shell.execute_reply": "2021-12-08T20:11:25.066407Z"
    },
    "papermill": {
     "duration": 0.073454,
     "end_time": "2021-12-08T20:11:25.066576",
     "exception": false,
     "start_time": "2021-12-08T20:11:24.993122",
     "status": "completed"
    },
    "tags": []
   },
   "outputs": [],
   "source": [
    "#creating the x and y ranges according to the above generated plot.\n",
    "x_range = np.linspace(-4, 1, 100) \n",
    "y_range = np.linspace(-6, 6, 100) \n",
    "x_grid, y_grid = np.meshgrid(x_range, y_range) # x_grid and y_grig are of size 100 X 100\n",
    "\n",
    "# converting x_grid and y_grid to continuous arrays\n",
    "x_gridflat = np.ravel(x_grid)\n",
    "y_gridflat = np.ravel(y_grid)\n",
    "\n",
    "# The last layer of the current model takes two columns as input. Hence transpose of np.vstack() is required.\n",
    "X = np.vstack((x_gridflat, y_gridflat)).T\n",
    "\n",
    "prob_contour = model_prob(X).reshape(100,100) "
   ]
  },
  {
   "cell_type": "code",
   "execution_count": 29,
   "id": "da72499a",
   "metadata": {
    "execution": {
     "iopub.execute_input": "2021-12-08T20:11:25.178245Z",
     "iopub.status.busy": "2021-12-08T20:11:25.177612Z",
     "iopub.status.idle": "2021-12-08T20:11:25.472945Z",
     "shell.execute_reply": "2021-12-08T20:11:25.473441Z"
    },
    "papermill": {
     "duration": 0.356239,
     "end_time": "2021-12-08T20:11:25.473600",
     "exception": false,
     "start_time": "2021-12-08T20:11:25.117361",
     "status": "completed"
    },
    "tags": []
   },
   "outputs": [
    {
     "data": {
      "image/png": "[encoded data removed]",
      "text/plain": [
       "<Figure size 720x648 with 1 Axes>"
      ]
     },
     "metadata": {
      "needs_background": "light"
     },
     "output_type": "display_data"
    }
   ],
   "source": [
    "plt.figure(figsize=(10,9))\n",
    "plt.scatter(testing_plot[:,0], testing_plot[:,1], alpha = 0.1, c = y_test.ravel())\n",
    "contours = plt.contour(x_grid,y_grid,prob_contour)\n",
    "plt.title('Probability Contours')\n",
    "plt.clabel(contours, inline = True );"
   ]
  },
  {
   "cell_type": "code",
   "execution_count": null,
   "id": "e81b4ac7",
   "metadata": {
    "papermill": {
     "duration": 0.054156,
     "end_time": "2021-12-08T20:11:25.589939",
     "exception": false,
     "start_time": "2021-12-08T20:11:25.535783",
     "status": "completed"
    },
    "tags": []
   },
   "outputs": [],
   "source": []
  }
 ],
 "metadata": {
  "kernelspec": {
   "display_name": "Python 3",
   "language": "python",
   "name": "python3"
  },
  "language_info": {
   "codemirror_mode": {
    "name": "ipython",
    "version": 3
   },
   "file_extension": ".py",
   "mimetype": "text/x-python",
   "name": "python",
   "nbconvert_exporter": "python",
   "pygments_lexer": "ipython3",
   "version": "3.6.15"
  },
  "papermill": {
   "default_parameters": {},
   "duration": 116.125925,
   "end_time": "2021-12-08T20:11:26.054604",
   "environment_variables": {},
   "exception": null,
   "input_path": "2020-08-11-part2.ipynb",
   "output_path": "2020-08-11-part2.ipynb",
   "parameters": {},
   "start_time": "2021-12-08T20:09:29.928679",
   "version": "2.3.3"
  }
 },
 "nbformat": 4,
 "nbformat_minor": 5
}