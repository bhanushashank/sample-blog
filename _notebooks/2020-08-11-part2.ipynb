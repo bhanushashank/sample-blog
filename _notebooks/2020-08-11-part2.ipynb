{
 "cells": [
  {
   "cell_type": "markdown",
   "id": "98380cd3",
   "metadata": {
    "papermill": {
     "duration": 0.028654,
     "end_time": "2022-01-19T20:07:53.057010",
     "exception": false,
     "start_time": "2022-01-19T20:07:53.028356",
     "status": "completed"
    },
    "tags": []
   },
   "source": [
    "# Distinguish Your Own Digits (DYOD)"
   ]
  },
  {
   "cell_type": "markdown",
   "id": "ef31240d",
   "metadata": {
    "papermill": {
     "duration": 0.024347,
     "end_time": "2022-01-19T20:07:53.106151",
     "exception": false,
     "start_time": "2022-01-19T20:07:53.081804",
     "status": "completed"
    },
    "tags": []
   },
   "source": [
    "You are going to write a classifier that distinguishes between the number 3 and number 8."
   ]
  },
  {
   "cell_type": "code",
   "execution_count": 1,
   "id": "b15c8646",
   "metadata": {
    "execution": {
     "iopub.execute_input": "2022-01-19T20:07:53.166316Z",
     "iopub.status.busy": "2022-01-19T20:07:53.165755Z",
     "iopub.status.idle": "2022-01-19T20:07:53.175850Z",
     "shell.execute_reply": "2022-01-19T20:07:53.176249Z"
    },
    "papermill": {
     "duration": 0.0463,
     "end_time": "2022-01-19T20:07:53.176405",
     "exception": false,
     "start_time": "2022-01-19T20:07:53.130105",
     "status": "completed"
    },
    "tags": []
   },
   "outputs": [],
   "source": [
    "%load_ext autoreload\n",
    "%autoreload 2"
   ]
  },
  {
   "cell_type": "code",
   "execution_count": 2,
   "id": "22ef38dc",
   "metadata": {
    "execution": {
     "iopub.execute_input": "2022-01-19T20:07:53.228360Z",
     "iopub.status.busy": "2022-01-19T20:07:53.227841Z",
     "iopub.status.idle": "2022-01-19T20:07:53.810516Z",
     "shell.execute_reply": "2022-01-19T20:07:53.809969Z"
    },
    "papermill": {
     "duration": 0.610185,
     "end_time": "2022-01-19T20:07:53.810658",
     "exception": false,
     "start_time": "2022-01-19T20:07:53.200473",
     "status": "completed"
    },
    "tags": []
   },
   "outputs": [],
   "source": [
    "%matplotlib inline\n",
    "import numpy as np\n",
    "import matplotlib.pyplot as plt\n",
    "import pandas as pd"
   ]
  },
  {
   "cell_type": "markdown",
   "id": "ba036198",
   "metadata": {
    "papermill": {
     "duration": 0.02413,
     "end_time": "2022-01-19T20:07:53.861301",
     "exception": false,
     "start_time": "2022-01-19T20:07:53.837171",
     "status": "completed"
    },
    "tags": []
   },
   "source": [
    "From the command line run `pip install mnist`. This is a library that will help you bring down the mnist dataset. If you run this from a notebook, you need to put  `!pip install mnist` in a cell by itself."
   ]
  },
  {
   "cell_type": "code",
   "execution_count": 3,
   "id": "bb6ad8a1",
   "metadata": {
    "execution": {
     "iopub.execute_input": "2022-01-19T20:07:53.913864Z",
     "iopub.status.busy": "2022-01-19T20:07:53.913247Z",
     "iopub.status.idle": "2022-01-19T20:07:55.572641Z",
     "shell.execute_reply": "2022-01-19T20:07:55.571789Z"
    },
    "papermill": {
     "duration": 1.687378,
     "end_time": "2022-01-19T20:07:55.572787",
     "exception": false,
     "start_time": "2022-01-19T20:07:53.885409",
     "status": "completed"
    },
    "tags": []
   },
   "outputs": [
    {
     "name": "stdout",
     "output_type": "stream",
     "text": [
      "Collecting mnist\r\n"
     ]
    },
    {
     "name": "stdout",
     "output_type": "stream",
     "text": [
      "  Downloading mnist-0.2.2-py2.py3-none-any.whl (3.5 kB)\r\n",
      "Requirement already satisfied: numpy in /opt/hostedtoolcache/Python/3.6.15/x64/lib/python3.6/site-packages (from mnist) (1.19.5)\r\n"
     ]
    },
    {
     "name": "stdout",
     "output_type": "stream",
     "text": [
      "Installing collected packages: mnist\r\n"
     ]
    },
    {
     "name": "stdout",
     "output_type": "stream",
     "text": [
      "Successfully installed mnist-0.2.2\r\n"
     ]
    }
   ],
   "source": [
    "!pip install mnist"
   ]
  },
  {
   "cell_type": "markdown",
   "id": "69df9c9a",
   "metadata": {
    "papermill": {
     "duration": 0.02509,
     "end_time": "2022-01-19T20:07:55.623305",
     "exception": false,
     "start_time": "2022-01-19T20:07:55.598215",
     "status": "completed"
    },
    "tags": []
   },
   "source": [
    "## Preparing the Data"
   ]
  },
  {
   "cell_type": "code",
   "execution_count": 4,
   "id": "7f69d806",
   "metadata": {
    "execution": {
     "iopub.execute_input": "2022-01-19T20:07:55.682862Z",
     "iopub.status.busy": "2022-01-19T20:07:55.682320Z",
     "iopub.status.idle": "2022-01-19T20:07:55.695235Z",
     "shell.execute_reply": "2022-01-19T20:07:55.694766Z"
    },
    "papermill": {
     "duration": 0.047166,
     "end_time": "2022-01-19T20:07:55.695352",
     "exception": false,
     "start_time": "2022-01-19T20:07:55.648186",
     "status": "completed"
    },
    "tags": []
   },
   "outputs": [],
   "source": [
    "import mnist"
   ]
  },
  {
   "cell_type": "code",
   "execution_count": 5,
   "id": "a411e44f",
   "metadata": {
    "execution": {
     "iopub.execute_input": "2022-01-19T20:07:55.759883Z",
     "iopub.status.busy": "2022-01-19T20:07:55.759354Z",
     "iopub.status.idle": "2022-01-19T20:07:56.322226Z",
     "shell.execute_reply": "2022-01-19T20:07:56.322695Z"
    },
    "papermill": {
     "duration": 0.602317,
     "end_time": "2022-01-19T20:07:56.322848",
     "exception": false,
     "start_time": "2022-01-19T20:07:55.720531",
     "status": "completed"
    },
    "tags": []
   },
   "outputs": [],
   "source": [
    "train_images = mnist.train_images()\n",
    "train_labels = mnist.train_labels()"
   ]
  },
  {
   "cell_type": "code",
   "execution_count": 6,
   "id": "dceab3a5",
   "metadata": {
    "execution": {
     "iopub.execute_input": "2022-01-19T20:07:56.382618Z",
     "iopub.status.busy": "2022-01-19T20:07:56.382098Z",
     "iopub.status.idle": "2022-01-19T20:07:56.394226Z",
     "shell.execute_reply": "2022-01-19T20:07:56.393785Z"
    },
    "papermill": {
     "duration": 0.046261,
     "end_time": "2022-01-19T20:07:56.394336",
     "exception": false,
     "start_time": "2022-01-19T20:07:56.348075",
     "status": "completed"
    },
    "tags": []
   },
   "outputs": [
    {
     "data": {
      "text/plain": [
       "((60000, 28, 28), (60000,))"
      ]
     },
     "execution_count": 6,
     "metadata": {},
     "output_type": "execute_result"
    }
   ],
   "source": [
    "train_images.shape, train_labels.shape"
   ]
  },
  {
   "cell_type": "code",
   "execution_count": 7,
   "id": "f50dc2bb",
   "metadata": {
    "execution": {
     "iopub.execute_input": "2022-01-19T20:07:56.448225Z",
     "iopub.status.busy": "2022-01-19T20:07:56.447714Z",
     "iopub.status.idle": "2022-01-19T20:07:56.598304Z",
     "shell.execute_reply": "2022-01-19T20:07:56.597804Z"
    },
    "papermill": {
     "duration": 0.179026,
     "end_time": "2022-01-19T20:07:56.598444",
     "exception": false,
     "start_time": "2022-01-19T20:07:56.419418",
     "status": "completed"
    },
    "tags": []
   },
   "outputs": [],
   "source": [
    "test_images = mnist.test_images()\n",
    "test_labels = mnist.test_labels()"
   ]
  },
  {
   "cell_type": "code",
   "execution_count": 8,
   "id": "fc38cf1b",
   "metadata": {
    "execution": {
     "iopub.execute_input": "2022-01-19T20:07:56.664691Z",
     "iopub.status.busy": "2022-01-19T20:07:56.662016Z",
     "iopub.status.idle": "2022-01-19T20:07:56.667509Z",
     "shell.execute_reply": "2022-01-19T20:07:56.667092Z"
    },
    "papermill": {
     "duration": 0.043606,
     "end_time": "2022-01-19T20:07:56.667627",
     "exception": false,
     "start_time": "2022-01-19T20:07:56.624021",
     "status": "completed"
    },
    "tags": []
   },
   "outputs": [
    {
     "data": {
      "text/plain": [
       "((10000, 28, 28), (10000,))"
      ]
     },
     "execution_count": 8,
     "metadata": {},
     "output_type": "execute_result"
    }
   ],
   "source": [
    "test_images.shape, test_labels.shape"
   ]
  },
  {
   "cell_type": "code",
   "execution_count": 9,
   "id": "f9ed8fe0",
   "metadata": {
    "execution": {
     "iopub.execute_input": "2022-01-19T20:07:56.732140Z",
     "iopub.status.busy": "2022-01-19T20:07:56.727659Z",
     "iopub.status.idle": "2022-01-19T20:07:56.863136Z",
     "shell.execute_reply": "2022-01-19T20:07:56.863550Z"
    },
    "papermill": {
     "duration": 0.170703,
     "end_time": "2022-01-19T20:07:56.863704",
     "exception": false,
     "start_time": "2022-01-19T20:07:56.693001",
     "status": "completed"
    },
    "tags": []
   },
   "outputs": [
    {
     "name": "stdout",
     "output_type": "stream",
     "text": [
      "2\n"
     ]
    },
    {
     "data": {
      "text/plain": [
       "<matplotlib.image.AxesImage at 0x7f7a26690518>"
      ]
     },
     "execution_count": 9,
     "metadata": {},
     "output_type": "execute_result"
    },
    {
     "data": {
      "image/png": "[encoded data removed]",
      "text/plain": [
       "<Figure size 432x288 with 1 Axes>"
      ]
     },
     "metadata": {
      "needs_background": "light"
     },
     "output_type": "display_data"
    }
   ],
   "source": [
    "image_index = 7776 # You may select anything up to 60,000\n",
    "print(train_labels[image_index]) \n",
    "plt.imshow(train_images[image_index], cmap='Greys')"
   ]
  },
  {
   "cell_type": "markdown",
   "id": "a8d2388d",
   "metadata": {
    "papermill": {
     "duration": 0.026903,
     "end_time": "2022-01-19T20:07:56.917433",
     "exception": false,
     "start_time": "2022-01-19T20:07:56.890530",
     "status": "completed"
    },
    "tags": []
   },
   "source": [
    "## Filter data to get 3 and 8 out"
   ]
  },
  {
   "cell_type": "code",
   "execution_count": 10,
   "id": "776f7fc7",
   "metadata": {
    "execution": {
     "iopub.execute_input": "2022-01-19T20:07:56.978400Z",
     "iopub.status.busy": "2022-01-19T20:07:56.977863Z",
     "iopub.status.idle": "2022-01-19T20:07:56.993699Z",
     "shell.execute_reply": "2022-01-19T20:07:56.994088Z"
    },
    "papermill": {
     "duration": 0.050359,
     "end_time": "2022-01-19T20:07:56.994224",
     "exception": false,
     "start_time": "2022-01-19T20:07:56.943865",
     "status": "completed"
    },
    "tags": []
   },
   "outputs": [],
   "source": [
    "train_filter = np.where((train_labels == 3 ) | (train_labels == 8))\n",
    "test_filter = np.where((test_labels == 3) | (test_labels == 8))\n",
    "X_train, y_train = train_images[train_filter], train_labels[train_filter]\n",
    "X_test, y_test = test_images[test_filter], test_labels[test_filter]"
   ]
  },
  {
   "cell_type": "markdown",
   "id": "948f0b7e",
   "metadata": {
    "papermill": {
     "duration": 0.02678,
     "end_time": "2022-01-19T20:07:57.047525",
     "exception": false,
     "start_time": "2022-01-19T20:07:57.020745",
     "status": "completed"
    },
    "tags": []
   },
   "source": [
    "We normalize the pizel values in the 0 to 1 range"
   ]
  },
  {
   "cell_type": "code",
   "execution_count": 11,
   "id": "ee4c2166",
   "metadata": {
    "execution": {
     "iopub.execute_input": "2022-01-19T20:07:57.105033Z",
     "iopub.status.busy": "2022-01-19T20:07:57.104494Z",
     "iopub.status.idle": "2022-01-19T20:07:57.152053Z",
     "shell.execute_reply": "2022-01-19T20:07:57.151541Z"
    },
    "papermill": {
     "duration": 0.078201,
     "end_time": "2022-01-19T20:07:57.152196",
     "exception": false,
     "start_time": "2022-01-19T20:07:57.073995",
     "status": "completed"
    },
    "tags": []
   },
   "outputs": [],
   "source": [
    "X_train = X_train/255.\n",
    "X_test = X_test/255."
   ]
  },
  {
   "cell_type": "markdown",
   "id": "ddcf4fab",
   "metadata": {
    "papermill": {
     "duration": 0.026473,
     "end_time": "2022-01-19T20:07:57.206305",
     "exception": false,
     "start_time": "2022-01-19T20:07:57.179832",
     "status": "completed"
    },
    "tags": []
   },
   "source": [
    "And setup the labels as 1 (when the digit is 3) and 0 (when the digit is 8)"
   ]
  },
  {
   "cell_type": "code",
   "execution_count": 12,
   "id": "7dc908f2",
   "metadata": {
    "execution": {
     "iopub.execute_input": "2022-01-19T20:07:57.266371Z",
     "iopub.status.busy": "2022-01-19T20:07:57.265856Z",
     "iopub.status.idle": "2022-01-19T20:07:57.276227Z",
     "shell.execute_reply": "2022-01-19T20:07:57.275807Z"
    },
    "papermill": {
     "duration": 0.043581,
     "end_time": "2022-01-19T20:07:57.276342",
     "exception": false,
     "start_time": "2022-01-19T20:07:57.232761",
     "status": "completed"
    },
    "tags": []
   },
   "outputs": [],
   "source": [
    "y_train = 1*(y_train==3)\n",
    "y_test = 1*(y_test==3)"
   ]
  },
  {
   "cell_type": "code",
   "execution_count": 13,
   "id": "01e4e969",
   "metadata": {
    "execution": {
     "iopub.execute_input": "2022-01-19T20:07:57.348802Z",
     "iopub.status.busy": "2022-01-19T20:07:57.347001Z",
     "iopub.status.idle": "2022-01-19T20:07:57.351440Z",
     "shell.execute_reply": "2022-01-19T20:07:57.351828Z"
    },
    "papermill": {
     "duration": 0.049094,
     "end_time": "2022-01-19T20:07:57.351970",
     "exception": false,
     "start_time": "2022-01-19T20:07:57.302876",
     "status": "completed"
    },
    "tags": []
   },
   "outputs": [
    {
     "data": {
      "text/plain": [
       "((11982, 28, 28), (1984, 28, 28))"
      ]
     },
     "execution_count": 13,
     "metadata": {},
     "output_type": "execute_result"
    }
   ],
   "source": [
    "X_train.shape, X_test.shape"
   ]
  },
  {
   "cell_type": "markdown",
   "id": "5ccf3f85",
   "metadata": {
    "papermill": {
     "duration": 0.027075,
     "end_time": "2022-01-19T20:07:57.406197",
     "exception": false,
     "start_time": "2022-01-19T20:07:57.379122",
     "status": "completed"
    },
    "tags": []
   },
   "source": [
    "We reshape the data to flatten the image pixels into a set of features or co-variates:"
   ]
  },
  {
   "cell_type": "code",
   "execution_count": 14,
   "id": "5286a4a3",
   "metadata": {
    "execution": {
     "iopub.execute_input": "2022-01-19T20:07:57.466744Z",
     "iopub.status.busy": "2022-01-19T20:07:57.464217Z",
     "iopub.status.idle": "2022-01-19T20:07:57.479504Z",
     "shell.execute_reply": "2022-01-19T20:07:57.479055Z"
    },
    "papermill": {
     "duration": 0.046233,
     "end_time": "2022-01-19T20:07:57.479620",
     "exception": false,
     "start_time": "2022-01-19T20:07:57.433387",
     "status": "completed"
    },
    "tags": []
   },
   "outputs": [
    {
     "data": {
      "text/plain": [
       "((11982, 784), (1984, 784))"
      ]
     },
     "execution_count": 14,
     "metadata": {},
     "output_type": "execute_result"
    }
   ],
   "source": [
    "X_train = X_train.reshape(X_train.shape[0], -1)\n",
    "X_test = X_test.reshape(X_test.shape[0], -1)\n",
    "X_train.shape, X_test.shape"
   ]
  },
  {
   "cell_type": "code",
   "execution_count": 15,
   "id": "73c5f88a",
   "metadata": {
    "execution": {
     "iopub.execute_input": "2022-01-19T20:07:57.543567Z",
     "iopub.status.busy": "2022-01-19T20:07:57.543042Z",
     "iopub.status.idle": "2022-01-19T20:07:57.559531Z",
     "shell.execute_reply": "2022-01-19T20:07:57.559104Z"
    },
    "papermill": {
     "duration": 0.052813,
     "end_time": "2022-01-19T20:07:57.559649",
     "exception": false,
     "start_time": "2022-01-19T20:07:57.506836",
     "status": "completed"
    },
    "tags": []
   },
   "outputs": [],
   "source": [
    "#Impoting functions from 'Kudzu'\n",
    "from kudzu.model import Model\n",
    "from kudzu.train import Learner\n",
    "from kudzu.optim import GD\n",
    "from kudzu.data import Data, Sampler,Dataloader\n",
    "\n",
    "from kudzu.callbacks import AccCallback\n",
    "from kudzu.callbacks import ClfCallback\n",
    "\n",
    "from kudzu.loss import MSE\n",
    "\n",
    "from kudzu.layer import Sigmoid,Relu\n",
    "from kudzu.layer import Affine"
   ]
  },
  {
   "cell_type": "markdown",
   "id": "bc01172a",
   "metadata": {
    "papermill": {
     "duration": 0.026993,
     "end_time": "2022-01-19T20:07:57.613915",
     "exception": false,
     "start_time": "2022-01-19T20:07:57.586922",
     "status": "completed"
    },
    "tags": []
   },
   "source": [
    "### Let us create a `Config` class, to store important parameters. \n",
    "This class essentially plays the role of a dictionary."
   ]
  },
  {
   "cell_type": "code",
   "execution_count": 16,
   "id": "978281aa",
   "metadata": {
    "execution": {
     "iopub.execute_input": "2022-01-19T20:07:57.680214Z",
     "iopub.status.busy": "2022-01-19T20:07:57.677854Z",
     "iopub.status.idle": "2022-01-19T20:07:57.686680Z",
     "shell.execute_reply": "2022-01-19T20:07:57.686239Z"
    },
    "papermill": {
     "duration": 0.045851,
     "end_time": "2022-01-19T20:07:57.686791",
     "exception": false,
     "start_time": "2022-01-19T20:07:57.640940",
     "status": "completed"
    },
    "tags": []
   },
   "outputs": [],
   "source": [
    "class Config:\n",
    "    pass\n",
    "config = Config()\n",
    "config.lr = 0.001\n",
    "config.num_epochs = 250\n",
    "config.bs = 50"
   ]
  },
  {
   "cell_type": "markdown",
   "id": "1385fa59",
   "metadata": {
    "papermill": {
     "duration": 0.027065,
     "end_time": "2022-01-19T20:07:57.741019",
     "exception": false,
     "start_time": "2022-01-19T20:07:57.713954",
     "status": "completed"
    },
    "tags": []
   },
   "source": [
    "### Running Models with the Training data\n",
    "Details about the network layers:\n",
    "- A first affine layer has 784 inputs and does 100 affine transforms. These are followed by a Relu\n",
    "- A second affine layer has 100 inputs from the 100 activations of the past layer, and does 100 affine transforms. These are followed by a Relu\n",
    "- A third affine layer has 100 activations and does 2 affine transformations to create an embedding for visualization. There is no non-linearity here.\n",
    "- A final \"logistic regression\" which has an affine transform from 2 inputs to 1 output, which is squeezed through a sigmoid.\n"
   ]
  },
  {
   "cell_type": "code",
   "execution_count": 17,
   "id": "2b9c66db",
   "metadata": {
    "execution": {
     "iopub.execute_input": "2022-01-19T20:07:57.809864Z",
     "iopub.status.busy": "2022-01-19T20:07:57.805860Z",
     "iopub.status.idle": "2022-01-19T20:07:57.814123Z",
     "shell.execute_reply": "2022-01-19T20:07:57.813414Z"
    },
    "papermill": {
     "duration": 0.04606,
     "end_time": "2022-01-19T20:07:57.814241",
     "exception": false,
     "start_time": "2022-01-19T20:07:57.768181",
     "status": "completed"
    },
    "tags": []
   },
   "outputs": [],
   "source": [
    "data = Data(X_train, y_train.reshape(-1,1))\n",
    "sampler = Sampler(data, config.bs, shuffle=True)\n",
    "\n",
    "dl = Dataloader(data, sampler)\n",
    "\n",
    "opt = GD(config.lr)\n",
    "loss = MSE()"
   ]
  },
  {
   "cell_type": "code",
   "execution_count": 18,
   "id": "b275e4c2",
   "metadata": {
    "execution": {
     "iopub.execute_input": "2022-01-19T20:07:57.885837Z",
     "iopub.status.busy": "2022-01-19T20:07:57.871321Z",
     "iopub.status.idle": "2022-01-19T20:07:57.888405Z",
     "shell.execute_reply": "2022-01-19T20:07:57.888792Z"
    },
    "papermill": {
     "duration": 0.04745,
     "end_time": "2022-01-19T20:07:57.888920",
     "exception": false,
     "start_time": "2022-01-19T20:07:57.841470",
     "status": "completed"
    },
    "tags": []
   },
   "outputs": [],
   "source": [
    "training_data_x = X_train\n",
    "testing_data_x = X_test\n",
    "training_data_y = y_train.reshape(-1,1)\n",
    "testing_data_y = y_test.reshape(-1,1)"
   ]
  },
  {
   "cell_type": "code",
   "execution_count": 19,
   "id": "76951160",
   "metadata": {
    "execution": {
     "iopub.execute_input": "2022-01-19T20:07:57.949804Z",
     "iopub.status.busy": "2022-01-19T20:07:57.946376Z",
     "iopub.status.idle": "2022-01-19T20:07:57.961961Z",
     "shell.execute_reply": "2022-01-19T20:07:57.962349Z"
    },
    "papermill": {
     "duration": 0.046647,
     "end_time": "2022-01-19T20:07:57.962477",
     "exception": false,
     "start_time": "2022-01-19T20:07:57.915830",
     "status": "completed"
    },
    "tags": []
   },
   "outputs": [
    {
     "name": "stdout",
     "output_type": "stream",
     "text": [
      "xavier\n",
      "xavier\n",
      "xavier\n",
      "xavier\n",
      "xavier\n"
     ]
    }
   ],
   "source": [
    "layers = [Affine(\"first\", 784, 100), Relu(\"first\"), Affine(\"second\", 100, 100), Relu(\"second\"), Affine(\"third\", 100, 2), Affine(\"last\", 2, 1), Sigmoid(\"last\")]\n",
    "model_nn = Model(layers)\n",
    "model_lr = Model([Affine(\"logits\", 784, 1), Sigmoid(\"sigmoid\")])"
   ]
  },
  {
   "cell_type": "code",
   "execution_count": 20,
   "id": "6eede77a",
   "metadata": {
    "execution": {
     "iopub.execute_input": "2022-01-19T20:07:58.022099Z",
     "iopub.status.busy": "2022-01-19T20:07:58.020173Z",
     "iopub.status.idle": "2022-01-19T20:07:58.032617Z",
     "shell.execute_reply": "2022-01-19T20:07:58.032207Z"
    },
    "papermill": {
     "duration": 0.042929,
     "end_time": "2022-01-19T20:07:58.032726",
     "exception": false,
     "start_time": "2022-01-19T20:07:57.989797",
     "status": "completed"
    },
    "tags": []
   },
   "outputs": [],
   "source": [
    "nn_learner = Learner(loss, model_nn, opt, config.num_epochs)\n",
    "acc_nn = ClfCallback(nn_learner, config.bs, training_data_x , testing_data_x, training_data_y, testing_data_y)\n",
    "nn_learner.set_callbacks([acc_nn])"
   ]
  },
  {
   "cell_type": "code",
   "execution_count": 21,
   "id": "877b6cc7",
   "metadata": {
    "execution": {
     "iopub.execute_input": "2022-01-19T20:07:58.091078Z",
     "iopub.status.busy": "2022-01-19T20:07:58.090556Z",
     "iopub.status.idle": "2022-01-19T20:07:58.102676Z",
     "shell.execute_reply": "2022-01-19T20:07:58.102261Z"
    },
    "papermill": {
     "duration": 0.042755,
     "end_time": "2022-01-19T20:07:58.102791",
     "exception": false,
     "start_time": "2022-01-19T20:07:58.060036",
     "status": "completed"
    },
    "tags": []
   },
   "outputs": [],
   "source": [
    "lr_learner = Learner(loss, model_lr, opt, config.num_epochs)\n",
    "acc_lr = ClfCallback(lr_learner, config.bs, training_data_x , testing_data_x, training_data_y, testing_data_y)\n",
    "lr_learner.set_callbacks([acc_lr])"
   ]
  },
  {
   "cell_type": "code",
   "execution_count": 22,
   "id": "d9b133c3",
   "metadata": {
    "execution": {
     "iopub.execute_input": "2022-01-19T20:07:58.163484Z",
     "iopub.status.busy": "2022-01-19T20:07:58.162961Z",
     "iopub.status.idle": "2022-01-19T20:09:18.710131Z",
     "shell.execute_reply": "2022-01-19T20:09:18.710893Z"
    },
    "papermill": {
     "duration": 80.580763,
     "end_time": "2022-01-19T20:09:18.711056",
     "exception": false,
     "start_time": "2022-01-19T20:07:58.130293",
     "status": "completed"
    },
    "tags": []
   },
   "outputs": [
    {
     "name": "stdout",
     "output_type": "stream",
     "text": [
      "Epoch 0, Loss 0.2391\n",
      "Training Accuracy: 0.6906, Testing Accuracy: 0.6799\n",
      "\n"
     ]
    },
    {
     "name": "stdout",
     "output_type": "stream",
     "text": [
      "Epoch 10, Loss 0.0671\n",
      "Training Accuracy: 0.9313, Testing Accuracy: 0.9466\n",
      "\n"
     ]
    },
    {
     "name": "stdout",
     "output_type": "stream",
     "text": [
      "Epoch 20, Loss 0.0466\n",
      "Training Accuracy: 0.9490, Testing Accuracy: 0.9632\n",
      "\n"
     ]
    },
    {
     "name": "stdout",
     "output_type": "stream",
     "text": [
      "Epoch 30, Loss 0.0386\n",
      "Training Accuracy: 0.9568, Testing Accuracy: 0.9662\n",
      "\n"
     ]
    },
    {
     "name": "stdout",
     "output_type": "stream",
     "text": [
      "Epoch 40, Loss 0.0341\n",
      "Training Accuracy: 0.9609, Testing Accuracy: 0.9688\n",
      "\n"
     ]
    },
    {
     "name": "stdout",
     "output_type": "stream",
     "text": [
      "Epoch 50, Loss 0.0312\n",
      "Training Accuracy: 0.9637, Testing Accuracy: 0.9693\n",
      "\n"
     ]
    },
    {
     "name": "stdout",
     "output_type": "stream",
     "text": [
      "Epoch 60, Loss 0.0292\n",
      "Training Accuracy: 0.9659, Testing Accuracy: 0.9698\n",
      "\n"
     ]
    },
    {
     "name": "stdout",
     "output_type": "stream",
     "text": [
      "Epoch 70, Loss 0.0276\n",
      "Training Accuracy: 0.9681, Testing Accuracy: 0.9703\n",
      "\n"
     ]
    },
    {
     "name": "stdout",
     "output_type": "stream",
     "text": [
      "Epoch 80, Loss 0.0263\n",
      "Training Accuracy: 0.9696, Testing Accuracy: 0.9718\n",
      "\n"
     ]
    },
    {
     "name": "stdout",
     "output_type": "stream",
     "text": [
      "Epoch 90, Loss 0.0252\n",
      "Training Accuracy: 0.9714, Testing Accuracy: 0.9733\n",
      "\n"
     ]
    },
    {
     "name": "stdout",
     "output_type": "stream",
     "text": [
      "Epoch 100, Loss 0.0242\n",
      "Training Accuracy: 0.9723, Testing Accuracy: 0.9728\n",
      "\n"
     ]
    },
    {
     "name": "stdout",
     "output_type": "stream",
     "text": [
      "Epoch 110, Loss 0.0234\n",
      "Training Accuracy: 0.9735, Testing Accuracy: 0.9723\n",
      "\n"
     ]
    },
    {
     "name": "stdout",
     "output_type": "stream",
     "text": [
      "Epoch 120, Loss 0.0226\n",
      "Training Accuracy: 0.9746, Testing Accuracy: 0.9728\n",
      "\n"
     ]
    },
    {
     "name": "stdout",
     "output_type": "stream",
     "text": [
      "Epoch 130, Loss 0.0219\n",
      "Training Accuracy: 0.9752, Testing Accuracy: 0.9728\n",
      "\n"
     ]
    },
    {
     "name": "stdout",
     "output_type": "stream",
     "text": [
      "Epoch 140, Loss 0.0213\n",
      "Training Accuracy: 0.9758, Testing Accuracy: 0.9738\n",
      "\n"
     ]
    },
    {
     "name": "stdout",
     "output_type": "stream",
     "text": [
      "Epoch 150, Loss 0.0207\n",
      "Training Accuracy: 0.9765, Testing Accuracy: 0.9743\n",
      "\n"
     ]
    },
    {
     "name": "stdout",
     "output_type": "stream",
     "text": [
      "Epoch 160, Loss 0.0201\n",
      "Training Accuracy: 0.9773, Testing Accuracy: 0.9753\n",
      "\n"
     ]
    },
    {
     "name": "stdout",
     "output_type": "stream",
     "text": [
      "Epoch 170, Loss 0.0196\n",
      "Training Accuracy: 0.9781, Testing Accuracy: 0.9753\n",
      "\n"
     ]
    },
    {
     "name": "stdout",
     "output_type": "stream",
     "text": [
      "Epoch 180, Loss 0.0191\n",
      "Training Accuracy: 0.9784, Testing Accuracy: 0.9763\n",
      "\n"
     ]
    },
    {
     "name": "stdout",
     "output_type": "stream",
     "text": [
      "Epoch 190, Loss 0.0186\n",
      "Training Accuracy: 0.9792, Testing Accuracy: 0.9758\n",
      "\n"
     ]
    },
    {
     "name": "stdout",
     "output_type": "stream",
     "text": [
      "Epoch 200, Loss 0.0181\n",
      "Training Accuracy: 0.9798, Testing Accuracy: 0.9768\n",
      "\n"
     ]
    },
    {
     "name": "stdout",
     "output_type": "stream",
     "text": [
      "Epoch 210, Loss 0.0176\n",
      "Training Accuracy: 0.9805, Testing Accuracy: 0.9768\n",
      "\n"
     ]
    },
    {
     "name": "stdout",
     "output_type": "stream",
     "text": [
      "Epoch 220, Loss 0.0172\n",
      "Training Accuracy: 0.9815, Testing Accuracy: 0.9773\n",
      "\n"
     ]
    },
    {
     "name": "stdout",
     "output_type": "stream",
     "text": [
      "Epoch 230, Loss 0.0168\n",
      "Training Accuracy: 0.9823, Testing Accuracy: 0.9773\n",
      "\n"
     ]
    },
    {
     "name": "stdout",
     "output_type": "stream",
     "text": [
      "Epoch 240, Loss 0.0164\n",
      "Training Accuracy: 0.9827, Testing Accuracy: 0.9773\n",
      "\n"
     ]
    },
    {
     "data": {
      "text/plain": [
       "0.02137642037678457"
      ]
     },
     "execution_count": 22,
     "metadata": {},
     "output_type": "execute_result"
    }
   ],
   "source": [
    "nn_learner.train_loop(dl)"
   ]
  },
  {
   "cell_type": "code",
   "execution_count": 23,
   "id": "e0163366",
   "metadata": {
    "execution": {
     "iopub.execute_input": "2022-01-19T20:09:18.793767Z",
     "iopub.status.busy": "2022-01-19T20:09:18.793206Z",
     "iopub.status.idle": "2022-01-19T20:09:33.611082Z",
     "shell.execute_reply": "2022-01-19T20:09:33.611844Z"
    },
    "papermill": {
     "duration": 14.865816,
     "end_time": "2022-01-19T20:09:33.612003",
     "exception": false,
     "start_time": "2022-01-19T20:09:18.746187",
     "status": "completed"
    },
    "tags": []
   },
   "outputs": [
    {
     "name": "stdout",
     "output_type": "stream",
     "text": [
      "Epoch 0, Loss 0.2268\n",
      "Training Accuracy: 0.7415, Testing Accuracy: 0.7540\n",
      "\n"
     ]
    },
    {
     "name": "stdout",
     "output_type": "stream",
     "text": [
      "Epoch 10, Loss 0.1007\n",
      "Training Accuracy: 0.9141, Testing Accuracy: 0.9284\n",
      "\n"
     ]
    },
    {
     "name": "stdout",
     "output_type": "stream",
     "text": [
      "Epoch 20, Loss 0.0779\n",
      "Training Accuracy: 0.9302, Testing Accuracy: 0.9405\n",
      "\n"
     ]
    },
    {
     "name": "stdout",
     "output_type": "stream",
     "text": [
      "Epoch 30, Loss 0.0674\n",
      "Training Accuracy: 0.9368, Testing Accuracy: 0.9486\n",
      "\n"
     ]
    },
    {
     "name": "stdout",
     "output_type": "stream",
     "text": [
      "Epoch 40, Loss 0.061\n",
      "Training Accuracy: 0.9413, Testing Accuracy: 0.9531\n",
      "\n"
     ]
    },
    {
     "name": "stdout",
     "output_type": "stream",
     "text": [
      "Epoch 50, Loss 0.0566\n",
      "Training Accuracy: 0.9443, Testing Accuracy: 0.9572\n",
      "\n"
     ]
    },
    {
     "name": "stdout",
     "output_type": "stream",
     "text": [
      "Epoch 60, Loss 0.0534\n",
      "Training Accuracy: 0.9475, Testing Accuracy: 0.9592\n",
      "\n"
     ]
    },
    {
     "name": "stdout",
     "output_type": "stream",
     "text": [
      "Epoch 70, Loss 0.0509\n",
      "Training Accuracy: 0.9493, Testing Accuracy: 0.9597\n",
      "\n"
     ]
    },
    {
     "name": "stdout",
     "output_type": "stream",
     "text": [
      "Epoch 80, Loss 0.0489\n",
      "Training Accuracy: 0.9508, Testing Accuracy: 0.9607\n",
      "\n"
     ]
    },
    {
     "name": "stdout",
     "output_type": "stream",
     "text": [
      "Epoch 90, Loss 0.0473\n",
      "Training Accuracy: 0.9530, Testing Accuracy: 0.9612\n",
      "\n"
     ]
    },
    {
     "name": "stdout",
     "output_type": "stream",
     "text": [
      "Epoch 100, Loss 0.0459\n",
      "Training Accuracy: 0.9538, Testing Accuracy: 0.9617\n",
      "\n"
     ]
    },
    {
     "name": "stdout",
     "output_type": "stream",
     "text": [
      "Epoch 110, Loss 0.0447\n",
      "Training Accuracy: 0.9547, Testing Accuracy: 0.9632\n",
      "\n"
     ]
    },
    {
     "name": "stdout",
     "output_type": "stream",
     "text": [
      "Epoch 120, Loss 0.0437\n",
      "Training Accuracy: 0.9549, Testing Accuracy: 0.9642\n",
      "\n"
     ]
    },
    {
     "name": "stdout",
     "output_type": "stream",
     "text": [
      "Epoch 130, Loss 0.0427\n",
      "Training Accuracy: 0.9557, Testing Accuracy: 0.9647\n",
      "\n"
     ]
    },
    {
     "name": "stdout",
     "output_type": "stream",
     "text": [
      "Epoch 140, Loss 0.0419\n",
      "Training Accuracy: 0.9566, Testing Accuracy: 0.9652\n",
      "\n"
     ]
    },
    {
     "name": "stdout",
     "output_type": "stream",
     "text": [
      "Epoch 150, Loss 0.0412\n",
      "Training Accuracy: 0.9572, Testing Accuracy: 0.9647\n",
      "\n"
     ]
    },
    {
     "name": "stdout",
     "output_type": "stream",
     "text": [
      "Epoch 160, Loss 0.0405\n",
      "Training Accuracy: 0.9578, Testing Accuracy: 0.9652\n",
      "\n"
     ]
    },
    {
     "name": "stdout",
     "output_type": "stream",
     "text": [
      "Epoch 170, Loss 0.0399\n",
      "Training Accuracy: 0.9583, Testing Accuracy: 0.9652\n",
      "\n"
     ]
    },
    {
     "name": "stdout",
     "output_type": "stream",
     "text": [
      "Epoch 180, Loss 0.0394\n",
      "Training Accuracy: 0.9583, Testing Accuracy: 0.9662\n",
      "\n"
     ]
    },
    {
     "name": "stdout",
     "output_type": "stream",
     "text": [
      "Epoch 190, Loss 0.0389\n",
      "Training Accuracy: 0.9584, Testing Accuracy: 0.9672\n",
      "\n"
     ]
    },
    {
     "name": "stdout",
     "output_type": "stream",
     "text": [
      "Epoch 200, Loss 0.0384\n",
      "Training Accuracy: 0.9590, Testing Accuracy: 0.9672\n",
      "\n"
     ]
    },
    {
     "name": "stdout",
     "output_type": "stream",
     "text": [
      "Epoch 210, Loss 0.038\n",
      "Training Accuracy: 0.9593, Testing Accuracy: 0.9672\n",
      "\n"
     ]
    },
    {
     "name": "stdout",
     "output_type": "stream",
     "text": [
      "Epoch 220, Loss 0.0376\n",
      "Training Accuracy: 0.9596, Testing Accuracy: 0.9672\n",
      "\n"
     ]
    },
    {
     "name": "stdout",
     "output_type": "stream",
     "text": [
      "Epoch 230, Loss 0.0372\n",
      "Training Accuracy: 0.9601, Testing Accuracy: 0.9677\n",
      "\n"
     ]
    },
    {
     "name": "stdout",
     "output_type": "stream",
     "text": [
      "Epoch 240, Loss 0.0368\n",
      "Training Accuracy: 0.9601, Testing Accuracy: 0.9677\n",
      "\n"
     ]
    },
    {
     "data": {
      "text/plain": [
       "0.01659473132731438"
      ]
     },
     "execution_count": 23,
     "metadata": {},
     "output_type": "execute_result"
    }
   ],
   "source": [
    "lr_learner.train_loop(dl)"
   ]
  },
  {
   "cell_type": "code",
   "execution_count": 24,
   "id": "ca410940",
   "metadata": {
    "execution": {
     "iopub.execute_input": "2022-01-19T20:09:33.710530Z",
     "iopub.status.busy": "2022-01-19T20:09:33.709964Z",
     "iopub.status.idle": "2022-01-19T20:09:33.936409Z",
     "shell.execute_reply": "2022-01-19T20:09:33.935938Z"
    },
    "papermill": {
     "duration": 0.282487,
     "end_time": "2022-01-19T20:09:33.936542",
     "exception": false,
     "start_time": "2022-01-19T20:09:33.654055",
     "status": "completed"
    },
    "tags": []
   },
   "outputs": [
    {
     "data": {
      "text/plain": [
       "<matplotlib.legend.Legend at 0x7f7a261edc50>"
      ]
     },
     "execution_count": 24,
     "metadata": {},
     "output_type": "execute_result"
    },
    {
     "data": {
      "image/png": "[encoded data removed]",
      "text/plain": [
       "<Figure size 1080x720 with 1 Axes>"
      ]
     },
     "metadata": {
      "needs_background": "light"
     },
     "output_type": "display_data"
    }
   ],
   "source": [
    "#comparing the results of NN and LR\n",
    "plt.figure(figsize=(15,10))\n",
    "\n",
    "# Neural Network plots\n",
    "plt.plot(acc_nn.accuracies, 'r-', label = \"Training Accuracies - NN\")\n",
    "plt.plot(acc_nn.test_accuracies, 'g-', label = \"Testing Accuracies - NN\")\n",
    "\n",
    "# Logistic Regression plots\n",
    "plt.plot(acc_lr.accuracies, 'k-', label = \"Training Accuracies - LR\")\n",
    "plt.plot(acc_lr.test_accuracies, 'b-', label = \"Testing Accuracies - LR\")\n",
    "plt.legend()"
   ]
  },
  {
   "cell_type": "markdown",
   "id": "80dfb35c",
   "metadata": {
    "papermill": {
     "duration": 0.042934,
     "end_time": "2022-01-19T20:09:34.022900",
     "exception": false,
     "start_time": "2022-01-19T20:09:33.979966",
     "status": "completed"
    },
    "tags": []
   },
   "source": [
    "#### Plotting the outputs of this layer of the NN.\n"
   ]
  },
  {
   "cell_type": "code",
   "execution_count": 25,
   "id": "45eb2ff5",
   "metadata": {
    "execution": {
     "iopub.execute_input": "2022-01-19T20:09:34.114665Z",
     "iopub.status.busy": "2022-01-19T20:09:34.114021Z",
     "iopub.status.idle": "2022-01-19T20:09:34.134896Z",
     "shell.execute_reply": "2022-01-19T20:09:34.135359Z"
    },
    "papermill": {
     "duration": 0.070081,
     "end_time": "2022-01-19T20:09:34.135512",
     "exception": false,
     "start_time": "2022-01-19T20:09:34.065431",
     "status": "completed"
    },
    "tags": []
   },
   "outputs": [],
   "source": [
    "new_model = Model(layers[:-2])\n",
    "testing_plot = new_model(testing_data_x)"
   ]
  },
  {
   "cell_type": "code",
   "execution_count": 26,
   "id": "4c0a5485",
   "metadata": {
    "execution": {
     "iopub.execute_input": "2022-01-19T20:09:34.233366Z",
     "iopub.status.busy": "2022-01-19T20:09:34.231107Z",
     "iopub.status.idle": "2022-01-19T20:09:34.426082Z",
     "shell.execute_reply": "2022-01-19T20:09:34.426497Z"
    },
    "papermill": {
     "duration": 0.247372,
     "end_time": "2022-01-19T20:09:34.426655",
     "exception": false,
     "start_time": "2022-01-19T20:09:34.179283",
     "status": "completed"
    },
    "tags": []
   },
   "outputs": [
    {
     "data": {
      "text/plain": [
       "Text(0.5, 1.0, 'Outputs')"
      ]
     },
     "execution_count": 26,
     "metadata": {},
     "output_type": "execute_result"
    },
    {
     "data": {
      "image/png": "[encoded data removed]",
      "text/plain": [
       "<Figure size 576x504 with 1 Axes>"
      ]
     },
     "metadata": {
      "needs_background": "light"
     },
     "output_type": "display_data"
    }
   ],
   "source": [
    "# Plotting the scatter plot of points and color coding by class\n",
    "plt.figure(figsize=(8,7))\n",
    "plt.scatter(testing_plot[:,0], testing_plot[:,1], alpha = 0.1, c = y_test.ravel());\n",
    "plt.title('Outputs')"
   ]
  },
  {
   "cell_type": "markdown",
   "id": "a74fcf8f",
   "metadata": {
    "papermill": {
     "duration": 0.044361,
     "end_time": "2022-01-19T20:09:34.516106",
     "exception": false,
     "start_time": "2022-01-19T20:09:34.471745",
     "status": "completed"
    },
    "tags": []
   },
   "source": [
    "Probability contours"
   ]
  },
  {
   "cell_type": "code",
   "execution_count": 27,
   "id": "d0afc8e3",
   "metadata": {
    "execution": {
     "iopub.execute_input": "2022-01-19T20:09:34.618324Z",
     "iopub.status.busy": "2022-01-19T20:09:34.617481Z",
     "iopub.status.idle": "2022-01-19T20:09:34.625839Z",
     "shell.execute_reply": "2022-01-19T20:09:34.625381Z"
    },
    "papermill": {
     "duration": 0.065347,
     "end_time": "2022-01-19T20:09:34.625954",
     "exception": false,
     "start_time": "2022-01-19T20:09:34.560607",
     "status": "completed"
    },
    "tags": []
   },
   "outputs": [],
   "source": [
    "model_prob = Model(layers[-2:]) "
   ]
  },
  {
   "cell_type": "code",
   "execution_count": 28,
   "id": "9b96e238",
   "metadata": {
    "execution": {
     "iopub.execute_input": "2022-01-19T20:09:34.751532Z",
     "iopub.status.busy": "2022-01-19T20:09:34.750974Z",
     "iopub.status.idle": "2022-01-19T20:09:34.764427Z",
     "shell.execute_reply": "2022-01-19T20:09:34.764811Z"
    },
    "papermill": {
     "duration": 0.094613,
     "end_time": "2022-01-19T20:09:34.764948",
     "exception": false,
     "start_time": "2022-01-19T20:09:34.670335",
     "status": "completed"
    },
    "tags": []
   },
   "outputs": [],
   "source": [
    "#creating the x and y ranges according to the above generated plot.\n",
    "x_range = np.linspace(-4, 1, 100) \n",
    "y_range = np.linspace(-6, 6, 100) \n",
    "x_grid, y_grid = np.meshgrid(x_range, y_range) # x_grid and y_grig are of size 100 X 100\n",
    "\n",
    "# converting x_grid and y_grid to continuous arrays\n",
    "x_gridflat = np.ravel(x_grid)\n",
    "y_gridflat = np.ravel(y_grid)\n",
    "\n",
    "# The last layer of the current model takes two columns as input. Hence transpose of np.vstack() is required.\n",
    "X = np.vstack((x_gridflat, y_gridflat)).T\n",
    "\n",
    "prob_contour = model_prob(X).reshape(100,100) "
   ]
  },
  {
   "cell_type": "code",
   "execution_count": 29,
   "id": "da72499a",
   "metadata": {
    "execution": {
     "iopub.execute_input": "2022-01-19T20:09:34.862179Z",
     "iopub.status.busy": "2022-01-19T20:09:34.859816Z",
     "iopub.status.idle": "2022-01-19T20:09:35.107723Z",
     "shell.execute_reply": "2022-01-19T20:09:35.108144Z"
    },
    "papermill": {
     "duration": 0.298931,
     "end_time": "2022-01-19T20:09:35.108292",
     "exception": false,
     "start_time": "2022-01-19T20:09:34.809361",
     "status": "completed"
    },
    "tags": []
   },
   "outputs": [
    {
     "data": {
      "image/png": "[encoded data removed]",
      "text/plain": [
       "<Figure size 720x648 with 1 Axes>"
      ]
     },
     "metadata": {
      "needs_background": "light"
     },
     "output_type": "display_data"
    }
   ],
   "source": [
    "plt.figure(figsize=(10,9))\n",
    "plt.scatter(testing_plot[:,0], testing_plot[:,1], alpha = 0.1, c = y_test.ravel())\n",
    "contours = plt.contour(x_grid,y_grid,prob_contour)\n",
    "plt.title('Probability Contours')\n",
    "plt.clabel(contours, inline = True );"
   ]
  },
  {
   "cell_type": "code",
   "execution_count": null,
   "id": "e81b4ac7",
   "metadata": {
    "papermill": {
     "duration": 0.047317,
     "end_time": "2022-01-19T20:09:35.203462",
     "exception": false,
     "start_time": "2022-01-19T20:09:35.156145",
     "status": "completed"
    },
    "tags": []
   },
   "outputs": [],
   "source": []
  }
 ],
 "metadata": {
  "kernelspec": {
   "display_name": "Python 3",
   "language": "python",
   "name": "python3"
  },
  "language_info": {
   "codemirror_mode": {
    "name": "ipython",
    "version": 3
   },
   "file_extension": ".py",
   "mimetype": "text/x-python",
   "name": "python",
   "nbconvert_exporter": "python",
   "pygments_lexer": "ipython3",
   "version": "3.6.15"
  },
  "papermill": {
   "default_parameters": {},
   "duration": 103.57173,
   "end_time": "2022-01-19T20:09:35.671936",
   "environment_variables": {},
   "exception": null,
   "input_path": "2020-08-11-part2.ipynb",
   "output_path": "2020-08-11-part2.ipynb",
   "parameters": {},
   "start_time": "2022-01-19T20:07:52.100206",
   "version": "2.3.3"
  }
 },
 "nbformat": 4,
 "nbformat_minor": 5
}