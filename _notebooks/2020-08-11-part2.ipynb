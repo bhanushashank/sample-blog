{
 "cells": [
  {
   "cell_type": "markdown",
   "id": "98380cd3",
   "metadata": {
    "papermill": {
     "duration": 0.028553,
     "end_time": "2022-03-01T00:30:37.772308",
     "exception": false,
     "start_time": "2022-03-01T00:30:37.743755",
     "status": "completed"
    },
    "tags": []
   },
   "source": [
    "# Distinguish Your Own Digits (DYOD)"
   ]
  },
  {
   "cell_type": "markdown",
   "id": "ef31240d",
   "metadata": {
    "papermill": {
     "duration": 0.02542,
     "end_time": "2022-03-01T00:30:37.822307",
     "exception": false,
     "start_time": "2022-03-01T00:30:37.796887",
     "status": "completed"
    },
    "tags": []
   },
   "source": [
    "You are going to write a classifier that distinguishes between the number 3 and number 8."
   ]
  },
  {
   "cell_type": "code",
   "execution_count": 1,
   "id": "b15c8646",
   "metadata": {
    "execution": {
     "iopub.execute_input": "2022-03-01T00:30:37.880178Z",
     "iopub.status.busy": "2022-03-01T00:30:37.877967Z",
     "iopub.status.idle": "2022-03-01T00:30:37.890289Z",
     "shell.execute_reply": "2022-03-01T00:30:37.889851Z"
    },
    "papermill": {
     "duration": 0.044187,
     "end_time": "2022-03-01T00:30:37.890422",
     "exception": false,
     "start_time": "2022-03-01T00:30:37.846235",
     "status": "completed"
    },
    "tags": []
   },
   "outputs": [],
   "source": [
    "%load_ext autoreload\n",
    "%autoreload 2"
   ]
  },
  {
   "cell_type": "code",
   "execution_count": 2,
   "id": "22ef38dc",
   "metadata": {
    "execution": {
     "iopub.execute_input": "2022-03-01T00:30:37.942741Z",
     "iopub.status.busy": "2022-03-01T00:30:37.942218Z",
     "iopub.status.idle": "2022-03-01T00:30:38.534987Z",
     "shell.execute_reply": "2022-03-01T00:30:38.534519Z"
    },
    "papermill": {
     "duration": 0.62052,
     "end_time": "2022-03-01T00:30:38.535108",
     "exception": false,
     "start_time": "2022-03-01T00:30:37.914588",
     "status": "completed"
    },
    "tags": []
   },
   "outputs": [],
   "source": [
    "%matplotlib inline\n",
    "import numpy as np\n",
    "import matplotlib.pyplot as plt\n",
    "import pandas as pd"
   ]
  },
  {
   "cell_type": "markdown",
   "id": "ba036198",
   "metadata": {
    "papermill": {
     "duration": 0.024065,
     "end_time": "2022-03-01T00:30:38.583263",
     "exception": false,
     "start_time": "2022-03-01T00:30:38.559198",
     "status": "completed"
    },
    "tags": []
   },
   "source": [
    "From the command line run `pip install mnist`. This is a library that will help you bring down the mnist dataset. If you run this from a notebook, you need to put  `!pip install mnist` in a cell by itself."
   ]
  },
  {
   "cell_type": "code",
   "execution_count": 3,
   "id": "bb6ad8a1",
   "metadata": {
    "execution": {
     "iopub.execute_input": "2022-03-01T00:30:38.636074Z",
     "iopub.status.busy": "2022-03-01T00:30:38.635558Z",
     "iopub.status.idle": "2022-03-01T00:30:41.290560Z",
     "shell.execute_reply": "2022-03-01T00:30:41.290027Z"
    },
    "papermill": {
     "duration": 2.683302,
     "end_time": "2022-03-01T00:30:41.290689",
     "exception": false,
     "start_time": "2022-03-01T00:30:38.607387",
     "status": "completed"
    },
    "tags": []
   },
   "outputs": [
    {
     "name": "stdout",
     "output_type": "stream",
     "text": [
      "Collecting mnist\r\n"
     ]
    },
    {
     "name": "stdout",
     "output_type": "stream",
     "text": [
      "  Downloading mnist-0.2.2-py2.py3-none-any.whl (3.5 kB)\r\n"
     ]
    },
    {
     "name": "stdout",
     "output_type": "stream",
     "text": [
      "Requirement already satisfied: numpy in /opt/hostedtoolcache/Python/3.6.15/x64/lib/python3.6/site-packages (from mnist) (1.19.5)\r\n"
     ]
    },
    {
     "name": "stdout",
     "output_type": "stream",
     "text": [
      "Installing collected packages: mnist\r\n",
      "Successfully installed mnist-0.2.2\r\n"
     ]
    }
   ],
   "source": [
    "!pip install mnist"
   ]
  },
  {
   "cell_type": "markdown",
   "id": "69df9c9a",
   "metadata": {
    "papermill": {
     "duration": 0.02517,
     "end_time": "2022-03-01T00:30:41.341889",
     "exception": false,
     "start_time": "2022-03-01T00:30:41.316719",
     "status": "completed"
    },
    "tags": []
   },
   "source": [
    "## Preparing the Data"
   ]
  },
  {
   "cell_type": "code",
   "execution_count": 4,
   "id": "7f69d806",
   "metadata": {
    "execution": {
     "iopub.execute_input": "2022-03-01T00:30:41.407506Z",
     "iopub.status.busy": "2022-03-01T00:30:41.399461Z",
     "iopub.status.idle": "2022-03-01T00:30:41.411671Z",
     "shell.execute_reply": "2022-03-01T00:30:41.412085Z"
    },
    "papermill": {
     "duration": 0.045249,
     "end_time": "2022-03-01T00:30:41.412221",
     "exception": false,
     "start_time": "2022-03-01T00:30:41.366972",
     "status": "completed"
    },
    "tags": []
   },
   "outputs": [],
   "source": [
    "import mnist"
   ]
  },
  {
   "cell_type": "code",
   "execution_count": 5,
   "id": "a411e44f",
   "metadata": {
    "execution": {
     "iopub.execute_input": "2022-03-01T00:30:41.469791Z",
     "iopub.status.busy": "2022-03-01T00:30:41.465893Z",
     "iopub.status.idle": "2022-03-01T00:30:42.173318Z",
     "shell.execute_reply": "2022-03-01T00:30:42.172741Z"
    },
    "papermill": {
     "duration": 0.735855,
     "end_time": "2022-03-01T00:30:42.173465",
     "exception": false,
     "start_time": "2022-03-01T00:30:41.437610",
     "status": "completed"
    },
    "tags": []
   },
   "outputs": [],
   "source": [
    "train_images = mnist.train_images()\n",
    "train_labels = mnist.train_labels()"
   ]
  },
  {
   "cell_type": "code",
   "execution_count": 6,
   "id": "dceab3a5",
   "metadata": {
    "execution": {
     "iopub.execute_input": "2022-03-01T00:30:42.238443Z",
     "iopub.status.busy": "2022-03-01T00:30:42.237891Z",
     "iopub.status.idle": "2022-03-01T00:30:42.246650Z",
     "shell.execute_reply": "2022-03-01T00:30:42.246228Z"
    },
    "papermill": {
     "duration": 0.04705,
     "end_time": "2022-03-01T00:30:42.246770",
     "exception": false,
     "start_time": "2022-03-01T00:30:42.199720",
     "status": "completed"
    },
    "tags": []
   },
   "outputs": [
    {
     "data": {
      "text/plain": [
       "((60000, 28, 28), (60000,))"
      ]
     },
     "execution_count": 6,
     "metadata": {},
     "output_type": "execute_result"
    }
   ],
   "source": [
    "train_images.shape, train_labels.shape"
   ]
  },
  {
   "cell_type": "code",
   "execution_count": 7,
   "id": "f50dc2bb",
   "metadata": {
    "execution": {
     "iopub.execute_input": "2022-03-01T00:30:42.301708Z",
     "iopub.status.busy": "2022-03-01T00:30:42.301172Z",
     "iopub.status.idle": "2022-03-01T00:30:42.547582Z",
     "shell.execute_reply": "2022-03-01T00:30:42.547026Z"
    },
    "papermill": {
     "duration": 0.275407,
     "end_time": "2022-03-01T00:30:42.547716",
     "exception": false,
     "start_time": "2022-03-01T00:30:42.272309",
     "status": "completed"
    },
    "tags": []
   },
   "outputs": [],
   "source": [
    "test_images = mnist.test_images()\n",
    "test_labels = mnist.test_labels()"
   ]
  },
  {
   "cell_type": "code",
   "execution_count": 8,
   "id": "fc38cf1b",
   "metadata": {
    "execution": {
     "iopub.execute_input": "2022-03-01T00:30:42.603994Z",
     "iopub.status.busy": "2022-03-01T00:30:42.603466Z",
     "iopub.status.idle": "2022-03-01T00:30:42.617246Z",
     "shell.execute_reply": "2022-03-01T00:30:42.617898Z"
    },
    "papermill": {
     "duration": 0.043548,
     "end_time": "2022-03-01T00:30:42.618038",
     "exception": false,
     "start_time": "2022-03-01T00:30:42.574490",
     "status": "completed"
    },
    "tags": []
   },
   "outputs": [
    {
     "data": {
      "text/plain": [
       "((10000, 28, 28), (10000,))"
      ]
     },
     "execution_count": 8,
     "metadata": {},
     "output_type": "execute_result"
    }
   ],
   "source": [
    "test_images.shape, test_labels.shape"
   ]
  },
  {
   "cell_type": "code",
   "execution_count": 9,
   "id": "f9ed8fe0",
   "metadata": {
    "execution": {
     "iopub.execute_input": "2022-03-01T00:30:42.673816Z",
     "iopub.status.busy": "2022-03-01T00:30:42.673276Z",
     "iopub.status.idle": "2022-03-01T00:30:42.815559Z",
     "shell.execute_reply": "2022-03-01T00:30:42.815952Z"
    },
    "papermill": {
     "duration": 0.172117,
     "end_time": "2022-03-01T00:30:42.816096",
     "exception": false,
     "start_time": "2022-03-01T00:30:42.643979",
     "status": "completed"
    },
    "tags": []
   },
   "outputs": [
    {
     "name": "stdout",
     "output_type": "stream",
     "text": [
      "2\n"
     ]
    },
    {
     "data": {
      "text/plain": [
       "<matplotlib.image.AxesImage at 0x7f7bcc54f588>"
      ]
     },
     "execution_count": 9,
     "metadata": {},
     "output_type": "execute_result"
    },
    {
     "data": {
      "image/png": "[encoded data removed]",
      "text/plain": [
       "<Figure size 432x288 with 1 Axes>"
      ]
     },
     "metadata": {
      "needs_background": "light"
     },
     "output_type": "display_data"
    }
   ],
   "source": [
    "image_index = 7776 # You may select anything up to 60,000\n",
    "print(train_labels[image_index]) \n",
    "plt.imshow(train_images[image_index], cmap='Greys')"
   ]
  },
  {
   "cell_type": "markdown",
   "id": "a8d2388d",
   "metadata": {
    "papermill": {
     "duration": 0.026711,
     "end_time": "2022-03-01T00:30:42.869639",
     "exception": false,
     "start_time": "2022-03-01T00:30:42.842928",
     "status": "completed"
    },
    "tags": []
   },
   "source": [
    "## Filter data to get 3 and 8 out"
   ]
  },
  {
   "cell_type": "code",
   "execution_count": 10,
   "id": "776f7fc7",
   "metadata": {
    "execution": {
     "iopub.execute_input": "2022-03-01T00:30:42.928057Z",
     "iopub.status.busy": "2022-03-01T00:30:42.927067Z",
     "iopub.status.idle": "2022-03-01T00:30:42.946079Z",
     "shell.execute_reply": "2022-03-01T00:30:42.945635Z"
    },
    "papermill": {
     "duration": 0.049839,
     "end_time": "2022-03-01T00:30:42.946203",
     "exception": false,
     "start_time": "2022-03-01T00:30:42.896364",
     "status": "completed"
    },
    "tags": []
   },
   "outputs": [],
   "source": [
    "train_filter = np.where((train_labels == 3 ) | (train_labels == 8))\n",
    "test_filter = np.where((test_labels == 3) | (test_labels == 8))\n",
    "X_train, y_train = train_images[train_filter], train_labels[train_filter]\n",
    "X_test, y_test = test_images[test_filter], test_labels[test_filter]"
   ]
  },
  {
   "cell_type": "markdown",
   "id": "948f0b7e",
   "metadata": {
    "papermill": {
     "duration": 0.026944,
     "end_time": "2022-03-01T00:30:43.000228",
     "exception": false,
     "start_time": "2022-03-01T00:30:42.973284",
     "status": "completed"
    },
    "tags": []
   },
   "source": [
    "We normalize the pizel values in the 0 to 1 range"
   ]
  },
  {
   "cell_type": "code",
   "execution_count": 11,
   "id": "ee4c2166",
   "metadata": {
    "execution": {
     "iopub.execute_input": "2022-03-01T00:30:43.079444Z",
     "iopub.status.busy": "2022-03-01T00:30:43.069951Z",
     "iopub.status.idle": "2022-03-01T00:30:43.115179Z",
     "shell.execute_reply": "2022-03-01T00:30:43.113921Z"
    },
    "papermill": {
     "duration": 0.088375,
     "end_time": "2022-03-01T00:30:43.115315",
     "exception": false,
     "start_time": "2022-03-01T00:30:43.026940",
     "status": "completed"
    },
    "tags": []
   },
   "outputs": [],
   "source": [
    "X_train = X_train/255.\n",
    "X_test = X_test/255."
   ]
  },
  {
   "cell_type": "markdown",
   "id": "ddcf4fab",
   "metadata": {
    "papermill": {
     "duration": 0.026572,
     "end_time": "2022-03-01T00:30:43.168807",
     "exception": false,
     "start_time": "2022-03-01T00:30:43.142235",
     "status": "completed"
    },
    "tags": []
   },
   "source": [
    "And setup the labels as 1 (when the digit is 3) and 0 (when the digit is 8)"
   ]
  },
  {
   "cell_type": "code",
   "execution_count": 12,
   "id": "7dc908f2",
   "metadata": {
    "execution": {
     "iopub.execute_input": "2022-03-01T00:30:43.235940Z",
     "iopub.status.busy": "2022-03-01T00:30:43.225572Z",
     "iopub.status.idle": "2022-03-01T00:30:43.240844Z",
     "shell.execute_reply": "2022-03-01T00:30:43.240420Z"
    },
    "papermill": {
     "duration": 0.04539,
     "end_time": "2022-03-01T00:30:43.240985",
     "exception": false,
     "start_time": "2022-03-01T00:30:43.195595",
     "status": "completed"
    },
    "tags": []
   },
   "outputs": [],
   "source": [
    "y_train = 1*(y_train==3)\n",
    "y_test = 1*(y_test==3)"
   ]
  },
  {
   "cell_type": "code",
   "execution_count": 13,
   "id": "01e4e969",
   "metadata": {
    "execution": {
     "iopub.execute_input": "2022-03-01T00:30:43.298257Z",
     "iopub.status.busy": "2022-03-01T00:30:43.297751Z",
     "iopub.status.idle": "2022-03-01T00:30:43.311208Z",
     "shell.execute_reply": "2022-03-01T00:30:43.311640Z"
    },
    "papermill": {
     "duration": 0.043906,
     "end_time": "2022-03-01T00:30:43.311773",
     "exception": false,
     "start_time": "2022-03-01T00:30:43.267867",
     "status": "completed"
    },
    "tags": []
   },
   "outputs": [
    {
     "data": {
      "text/plain": [
       "((11982, 28, 28), (1984, 28, 28))"
      ]
     },
     "execution_count": 13,
     "metadata": {},
     "output_type": "execute_result"
    }
   ],
   "source": [
    "X_train.shape, X_test.shape"
   ]
  },
  {
   "cell_type": "markdown",
   "id": "5ccf3f85",
   "metadata": {
    "papermill": {
     "duration": 0.026839,
     "end_time": "2022-03-01T00:30:43.365537",
     "exception": false,
     "start_time": "2022-03-01T00:30:43.338698",
     "status": "completed"
    },
    "tags": []
   },
   "source": [
    "We reshape the data to flatten the image pixels into a set of features or co-variates:"
   ]
  },
  {
   "cell_type": "code",
   "execution_count": 14,
   "id": "5286a4a3",
   "metadata": {
    "execution": {
     "iopub.execute_input": "2022-03-01T00:30:43.431068Z",
     "iopub.status.busy": "2022-03-01T00:30:43.430530Z",
     "iopub.status.idle": "2022-03-01T00:30:43.439711Z",
     "shell.execute_reply": "2022-03-01T00:30:43.439297Z"
    },
    "papermill": {
     "duration": 0.047233,
     "end_time": "2022-03-01T00:30:43.439830",
     "exception": false,
     "start_time": "2022-03-01T00:30:43.392597",
     "status": "completed"
    },
    "tags": []
   },
   "outputs": [
    {
     "data": {
      "text/plain": [
       "((11982, 784), (1984, 784))"
      ]
     },
     "execution_count": 14,
     "metadata": {},
     "output_type": "execute_result"
    }
   ],
   "source": [
    "X_train = X_train.reshape(X_train.shape[0], -1)\n",
    "X_test = X_test.reshape(X_test.shape[0], -1)\n",
    "X_train.shape, X_test.shape"
   ]
  },
  {
   "cell_type": "code",
   "execution_count": 15,
   "id": "73c5f88a",
   "metadata": {
    "execution": {
     "iopub.execute_input": "2022-03-01T00:30:43.520431Z",
     "iopub.status.busy": "2022-03-01T00:30:43.513746Z",
     "iopub.status.idle": "2022-03-01T00:30:43.522767Z",
     "shell.execute_reply": "2022-03-01T00:30:43.522351Z"
    },
    "papermill": {
     "duration": 0.055568,
     "end_time": "2022-03-01T00:30:43.522886",
     "exception": false,
     "start_time": "2022-03-01T00:30:43.467318",
     "status": "completed"
    },
    "tags": []
   },
   "outputs": [],
   "source": [
    "#Impoting functions from 'Kudzu'\n",
    "from kudzu.model import Model\n",
    "from kudzu.train import Learner\n",
    "from kudzu.optim import GD\n",
    "from kudzu.data import Data, Sampler,Dataloader\n",
    "\n",
    "from kudzu.callbacks import AccCallback\n",
    "from kudzu.callbacks import ClfCallback\n",
    "\n",
    "from kudzu.loss import MSE\n",
    "\n",
    "from kudzu.layer import Sigmoid,Relu\n",
    "from kudzu.layer import Affine"
   ]
  },
  {
   "cell_type": "markdown",
   "id": "bc01172a",
   "metadata": {
    "papermill": {
     "duration": 0.02732,
     "end_time": "2022-03-01T00:30:43.577660",
     "exception": false,
     "start_time": "2022-03-01T00:30:43.550340",
     "status": "completed"
    },
    "tags": []
   },
   "source": [
    "### Let us create a `Config` class, to store important parameters. \n",
    "This class essentially plays the role of a dictionary."
   ]
  },
  {
   "cell_type": "code",
   "execution_count": 16,
   "id": "978281aa",
   "metadata": {
    "execution": {
     "iopub.execute_input": "2022-03-01T00:30:43.636199Z",
     "iopub.status.busy": "2022-03-01T00:30:43.635674Z",
     "iopub.status.idle": "2022-03-01T00:30:43.648366Z",
     "shell.execute_reply": "2022-03-01T00:30:43.647950Z"
    },
    "papermill": {
     "duration": 0.04358,
     "end_time": "2022-03-01T00:30:43.648484",
     "exception": false,
     "start_time": "2022-03-01T00:30:43.604904",
     "status": "completed"
    },
    "tags": []
   },
   "outputs": [],
   "source": [
    "class Config:\n",
    "    pass\n",
    "config = Config()\n",
    "config.lr = 0.001\n",
    "config.num_epochs = 250\n",
    "config.bs = 50"
   ]
  },
  {
   "cell_type": "markdown",
   "id": "1385fa59",
   "metadata": {
    "papermill": {
     "duration": 0.027161,
     "end_time": "2022-03-01T00:30:43.702953",
     "exception": false,
     "start_time": "2022-03-01T00:30:43.675792",
     "status": "completed"
    },
    "tags": []
   },
   "source": [
    "### Running Models with the Training data\n",
    "Details about the network layers:\n",
    "- A first affine layer has 784 inputs and does 100 affine transforms. These are followed by a Relu\n",
    "- A second affine layer has 100 inputs from the 100 activations of the past layer, and does 100 affine transforms. These are followed by a Relu\n",
    "- A third affine layer has 100 activations and does 2 affine transformations to create an embedding for visualization. There is no non-linearity here.\n",
    "- A final \"logistic regression\" which has an affine transform from 2 inputs to 1 output, which is squeezed through a sigmoid.\n"
   ]
  },
  {
   "cell_type": "code",
   "execution_count": 17,
   "id": "2b9c66db",
   "metadata": {
    "execution": {
     "iopub.execute_input": "2022-03-01T00:30:43.767411Z",
     "iopub.status.busy": "2022-03-01T00:30:43.766859Z",
     "iopub.status.idle": "2022-03-01T00:30:43.776171Z",
     "shell.execute_reply": "2022-03-01T00:30:43.775705Z"
    },
    "papermill": {
     "duration": 0.045938,
     "end_time": "2022-03-01T00:30:43.776289",
     "exception": false,
     "start_time": "2022-03-01T00:30:43.730351",
     "status": "completed"
    },
    "tags": []
   },
   "outputs": [],
   "source": [
    "data = Data(X_train, y_train.reshape(-1,1))\n",
    "sampler = Sampler(data, config.bs, shuffle=True)\n",
    "\n",
    "dl = Dataloader(data, sampler)\n",
    "\n",
    "opt = GD(config.lr)\n",
    "loss = MSE()"
   ]
  },
  {
   "cell_type": "code",
   "execution_count": 18,
   "id": "b275e4c2",
   "metadata": {
    "execution": {
     "iopub.execute_input": "2022-03-01T00:30:43.835745Z",
     "iopub.status.busy": "2022-03-01T00:30:43.835197Z",
     "iopub.status.idle": "2022-03-01T00:30:43.847145Z",
     "shell.execute_reply": "2022-03-01T00:30:43.846697Z"
    },
    "papermill": {
     "duration": 0.043324,
     "end_time": "2022-03-01T00:30:43.847272",
     "exception": false,
     "start_time": "2022-03-01T00:30:43.803948",
     "status": "completed"
    },
    "tags": []
   },
   "outputs": [],
   "source": [
    "training_data_x = X_train\n",
    "testing_data_x = X_test\n",
    "training_data_y = y_train.reshape(-1,1)\n",
    "testing_data_y = y_test.reshape(-1,1)"
   ]
  },
  {
   "cell_type": "code",
   "execution_count": 19,
   "id": "76951160",
   "metadata": {
    "execution": {
     "iopub.execute_input": "2022-03-01T00:30:43.907855Z",
     "iopub.status.busy": "2022-03-01T00:30:43.907310Z",
     "iopub.status.idle": "2022-03-01T00:30:43.922861Z",
     "shell.execute_reply": "2022-03-01T00:30:43.922433Z"
    },
    "papermill": {
     "duration": 0.048309,
     "end_time": "2022-03-01T00:30:43.922980",
     "exception": false,
     "start_time": "2022-03-01T00:30:43.874671",
     "status": "completed"
    },
    "tags": []
   },
   "outputs": [
    {
     "name": "stdout",
     "output_type": "stream",
     "text": [
      "xavier\n",
      "xavier\n",
      "xavier\n",
      "xavier\n",
      "xavier\n"
     ]
    }
   ],
   "source": [
    "layers = [Affine(\"first\", 784, 100), Relu(\"first\"), Affine(\"second\", 100, 100), Relu(\"second\"), Affine(\"third\", 100, 2), Affine(\"last\", 2, 1), Sigmoid(\"last\")]\n",
    "model_nn = Model(layers)\n",
    "model_lr = Model([Affine(\"logits\", 784, 1), Sigmoid(\"sigmoid\")])"
   ]
  },
  {
   "cell_type": "code",
   "execution_count": 20,
   "id": "6eede77a",
   "metadata": {
    "execution": {
     "iopub.execute_input": "2022-03-01T00:30:43.982826Z",
     "iopub.status.busy": "2022-03-01T00:30:43.982286Z",
     "iopub.status.idle": "2022-03-01T00:30:43.995317Z",
     "shell.execute_reply": "2022-03-01T00:30:43.994883Z"
    },
    "papermill": {
     "duration": 0.044587,
     "end_time": "2022-03-01T00:30:43.995437",
     "exception": false,
     "start_time": "2022-03-01T00:30:43.950850",
     "status": "completed"
    },
    "tags": []
   },
   "outputs": [],
   "source": [
    "nn_learner = Learner(loss, model_nn, opt, config.num_epochs)\n",
    "acc_nn = ClfCallback(nn_learner, config.bs, training_data_x , testing_data_x, training_data_y, testing_data_y)\n",
    "nn_learner.set_callbacks([acc_nn])"
   ]
  },
  {
   "cell_type": "code",
   "execution_count": 21,
   "id": "877b6cc7",
   "metadata": {
    "execution": {
     "iopub.execute_input": "2022-03-01T00:30:44.055058Z",
     "iopub.status.busy": "2022-03-01T00:30:44.054530Z",
     "iopub.status.idle": "2022-03-01T00:30:44.067517Z",
     "shell.execute_reply": "2022-03-01T00:30:44.067073Z"
    },
    "papermill": {
     "duration": 0.044328,
     "end_time": "2022-03-01T00:30:44.067639",
     "exception": false,
     "start_time": "2022-03-01T00:30:44.023311",
     "status": "completed"
    },
    "tags": []
   },
   "outputs": [],
   "source": [
    "lr_learner = Learner(loss, model_lr, opt, config.num_epochs)\n",
    "acc_lr = ClfCallback(lr_learner, config.bs, training_data_x , testing_data_x, training_data_y, testing_data_y)\n",
    "lr_learner.set_callbacks([acc_lr])"
   ]
  },
  {
   "cell_type": "code",
   "execution_count": 22,
   "id": "d9b133c3",
   "metadata": {
    "execution": {
     "iopub.execute_input": "2022-03-01T00:30:44.127624Z",
     "iopub.status.busy": "2022-03-01T00:30:44.127099Z",
     "iopub.status.idle": "2022-03-01T00:32:06.439874Z",
     "shell.execute_reply": "2022-03-01T00:32:06.440636Z"
    },
    "papermill": {
     "duration": 82.344763,
     "end_time": "2022-03-01T00:32:06.440790",
     "exception": false,
     "start_time": "2022-03-01T00:30:44.096027",
     "status": "completed"
    },
    "tags": []
   },
   "outputs": [
    {
     "name": "stdout",
     "output_type": "stream",
     "text": [
      "Epoch 0, Loss 0.2575\n",
      "Training Accuracy: 0.4857, Testing Accuracy: 0.4773\n",
      "\n"
     ]
    },
    {
     "name": "stdout",
     "output_type": "stream",
     "text": [
      "Epoch 10, Loss 0.1376\n",
      "Training Accuracy: 0.8920, Testing Accuracy: 0.8987\n",
      "\n"
     ]
    },
    {
     "name": "stdout",
     "output_type": "stream",
     "text": [
      "Epoch 20, Loss 0.0739\n",
      "Training Accuracy: 0.9254, Testing Accuracy: 0.9340\n",
      "\n"
     ]
    },
    {
     "name": "stdout",
     "output_type": "stream",
     "text": [
      "Epoch 30, Loss 0.0538\n",
      "Training Accuracy: 0.9415, Testing Accuracy: 0.9496\n",
      "\n"
     ]
    },
    {
     "name": "stdout",
     "output_type": "stream",
     "text": [
      "Epoch 40, Loss 0.0446\n",
      "Training Accuracy: 0.9497, Testing Accuracy: 0.9556\n",
      "\n"
     ]
    },
    {
     "name": "stdout",
     "output_type": "stream",
     "text": [
      "Epoch 50, Loss 0.0394\n",
      "Training Accuracy: 0.9549, Testing Accuracy: 0.9627\n",
      "\n"
     ]
    },
    {
     "name": "stdout",
     "output_type": "stream",
     "text": [
      "Epoch 60, Loss 0.0359\n",
      "Training Accuracy: 0.9584, Testing Accuracy: 0.9642\n",
      "\n"
     ]
    },
    {
     "name": "stdout",
     "output_type": "stream",
     "text": [
      "Epoch 70, Loss 0.0335\n",
      "Training Accuracy: 0.9608, Testing Accuracy: 0.9682\n",
      "\n"
     ]
    },
    {
     "name": "stdout",
     "output_type": "stream",
     "text": [
      "Epoch 80, Loss 0.0316\n",
      "Training Accuracy: 0.9630, Testing Accuracy: 0.9698\n",
      "\n"
     ]
    },
    {
     "name": "stdout",
     "output_type": "stream",
     "text": [
      "Epoch 90, Loss 0.0301\n",
      "Training Accuracy: 0.9649, Testing Accuracy: 0.9703\n",
      "\n"
     ]
    },
    {
     "name": "stdout",
     "output_type": "stream",
     "text": [
      "Epoch 100, Loss 0.0289\n",
      "Training Accuracy: 0.9662, Testing Accuracy: 0.9718\n",
      "\n"
     ]
    },
    {
     "name": "stdout",
     "output_type": "stream",
     "text": [
      "Epoch 110, Loss 0.0278\n",
      "Training Accuracy: 0.9677, Testing Accuracy: 0.9713\n",
      "\n"
     ]
    },
    {
     "name": "stdout",
     "output_type": "stream",
     "text": [
      "Epoch 120, Loss 0.0269\n",
      "Training Accuracy: 0.9685, Testing Accuracy: 0.9713\n",
      "\n"
     ]
    },
    {
     "name": "stdout",
     "output_type": "stream",
     "text": [
      "Epoch 130, Loss 0.0261\n",
      "Training Accuracy: 0.9696, Testing Accuracy: 0.9723\n",
      "\n"
     ]
    },
    {
     "name": "stdout",
     "output_type": "stream",
     "text": [
      "Epoch 140, Loss 0.0254\n",
      "Training Accuracy: 0.9708, Testing Accuracy: 0.9733\n",
      "\n"
     ]
    },
    {
     "name": "stdout",
     "output_type": "stream",
     "text": [
      "Epoch 150, Loss 0.0247\n",
      "Training Accuracy: 0.9718, Testing Accuracy: 0.9733\n",
      "\n"
     ]
    },
    {
     "name": "stdout",
     "output_type": "stream",
     "text": [
      "Epoch 160, Loss 0.0241\n",
      "Training Accuracy: 0.9728, Testing Accuracy: 0.9738\n",
      "\n"
     ]
    },
    {
     "name": "stdout",
     "output_type": "stream",
     "text": [
      "Epoch 170, Loss 0.0236\n",
      "Training Accuracy: 0.9731, Testing Accuracy: 0.9738\n",
      "\n"
     ]
    },
    {
     "name": "stdout",
     "output_type": "stream",
     "text": [
      "Epoch 180, Loss 0.0231\n",
      "Training Accuracy: 0.9737, Testing Accuracy: 0.9728\n",
      "\n"
     ]
    },
    {
     "name": "stdout",
     "output_type": "stream",
     "text": [
      "Epoch 190, Loss 0.0226\n",
      "Training Accuracy: 0.9744, Testing Accuracy: 0.9738\n",
      "\n"
     ]
    },
    {
     "name": "stdout",
     "output_type": "stream",
     "text": [
      "Epoch 200, Loss 0.0221\n",
      "Training Accuracy: 0.9751, Testing Accuracy: 0.9743\n",
      "\n"
     ]
    },
    {
     "name": "stdout",
     "output_type": "stream",
     "text": [
      "Epoch 210, Loss 0.0217\n",
      "Training Accuracy: 0.9757, Testing Accuracy: 0.9748\n",
      "\n"
     ]
    },
    {
     "name": "stdout",
     "output_type": "stream",
     "text": [
      "Epoch 220, Loss 0.0213\n",
      "Training Accuracy: 0.9759, Testing Accuracy: 0.9748\n",
      "\n"
     ]
    },
    {
     "name": "stdout",
     "output_type": "stream",
     "text": [
      "Epoch 230, Loss 0.0209\n",
      "Training Accuracy: 0.9769, Testing Accuracy: 0.9748\n",
      "\n"
     ]
    },
    {
     "name": "stdout",
     "output_type": "stream",
     "text": [
      "Epoch 240, Loss 0.0205\n",
      "Training Accuracy: 0.9771, Testing Accuracy: 0.9748\n",
      "\n"
     ]
    },
    {
     "data": {
      "text/plain": [
       "0.035981148085700417"
      ]
     },
     "execution_count": 22,
     "metadata": {},
     "output_type": "execute_result"
    }
   ],
   "source": [
    "nn_learner.train_loop(dl)"
   ]
  },
  {
   "cell_type": "code",
   "execution_count": 23,
   "id": "e0163366",
   "metadata": {
    "execution": {
     "iopub.execute_input": "2022-03-01T00:32:06.523823Z",
     "iopub.status.busy": "2022-03-01T00:32:06.523265Z",
     "iopub.status.idle": "2022-03-01T00:32:21.095536Z",
     "shell.execute_reply": "2022-03-01T00:32:21.096308Z"
    },
    "papermill": {
     "duration": 14.62028,
     "end_time": "2022-03-01T00:32:21.096466",
     "exception": false,
     "start_time": "2022-03-01T00:32:06.476186",
     "status": "completed"
    },
    "tags": []
   },
   "outputs": [
    {
     "name": "stdout",
     "output_type": "stream",
     "text": [
      "Epoch 0, Loss 0.2382\n",
      "Training Accuracy: 0.6874, Testing Accuracy: 0.6900\n",
      "\n"
     ]
    },
    {
     "name": "stdout",
     "output_type": "stream",
     "text": [
      "Epoch 10, Loss 0.1083\n",
      "Training Accuracy: 0.8919, Testing Accuracy: 0.8982\n",
      "\n"
     ]
    },
    {
     "name": "stdout",
     "output_type": "stream",
     "text": [
      "Epoch 20, Loss 0.0828\n",
      "Training Accuracy: 0.9175, Testing Accuracy: 0.9304\n",
      "\n"
     ]
    },
    {
     "name": "stdout",
     "output_type": "stream",
     "text": [
      "Epoch 30, Loss 0.0709\n",
      "Training Accuracy: 0.9301, Testing Accuracy: 0.9420\n",
      "\n"
     ]
    },
    {
     "name": "stdout",
     "output_type": "stream",
     "text": [
      "Epoch 40, Loss 0.0637\n",
      "Training Accuracy: 0.9367, Testing Accuracy: 0.9501\n",
      "\n"
     ]
    },
    {
     "name": "stdout",
     "output_type": "stream",
     "text": [
      "Epoch 50, Loss 0.0588\n",
      "Training Accuracy: 0.9407, Testing Accuracy: 0.9536\n",
      "\n"
     ]
    },
    {
     "name": "stdout",
     "output_type": "stream",
     "text": [
      "Epoch 60, Loss 0.0553\n",
      "Training Accuracy: 0.9446, Testing Accuracy: 0.9551\n",
      "\n"
     ]
    },
    {
     "name": "stdout",
     "output_type": "stream",
     "text": [
      "Epoch 70, Loss 0.0525\n",
      "Training Accuracy: 0.9468, Testing Accuracy: 0.9567\n",
      "\n"
     ]
    },
    {
     "name": "stdout",
     "output_type": "stream",
     "text": [
      "Epoch 80, Loss 0.0503\n",
      "Training Accuracy: 0.9490, Testing Accuracy: 0.9587\n",
      "\n"
     ]
    },
    {
     "name": "stdout",
     "output_type": "stream",
     "text": [
      "Epoch 90, Loss 0.0485\n",
      "Training Accuracy: 0.9512, Testing Accuracy: 0.9597\n",
      "\n"
     ]
    },
    {
     "name": "stdout",
     "output_type": "stream",
     "text": [
      "Epoch 100, Loss 0.047\n",
      "Training Accuracy: 0.9524, Testing Accuracy: 0.9602\n",
      "\n"
     ]
    },
    {
     "name": "stdout",
     "output_type": "stream",
     "text": [
      "Epoch 110, Loss 0.0457\n",
      "Training Accuracy: 0.9539, Testing Accuracy: 0.9617\n",
      "\n"
     ]
    },
    {
     "name": "stdout",
     "output_type": "stream",
     "text": [
      "Epoch 120, Loss 0.0445\n",
      "Training Accuracy: 0.9553, Testing Accuracy: 0.9637\n",
      "\n"
     ]
    },
    {
     "name": "stdout",
     "output_type": "stream",
     "text": [
      "Epoch 130, Loss 0.0435\n",
      "Training Accuracy: 0.9558, Testing Accuracy: 0.9642\n",
      "\n"
     ]
    },
    {
     "name": "stdout",
     "output_type": "stream",
     "text": [
      "Epoch 140, Loss 0.0427\n",
      "Training Accuracy: 0.9562, Testing Accuracy: 0.9647\n",
      "\n"
     ]
    },
    {
     "name": "stdout",
     "output_type": "stream",
     "text": [
      "Epoch 150, Loss 0.0419\n",
      "Training Accuracy: 0.9567, Testing Accuracy: 0.9647\n",
      "\n"
     ]
    },
    {
     "name": "stdout",
     "output_type": "stream",
     "text": [
      "Epoch 160, Loss 0.0412\n",
      "Training Accuracy: 0.9571, Testing Accuracy: 0.9662\n",
      "\n"
     ]
    },
    {
     "name": "stdout",
     "output_type": "stream",
     "text": [
      "Epoch 170, Loss 0.0405\n",
      "Training Accuracy: 0.9575, Testing Accuracy: 0.9667\n",
      "\n"
     ]
    },
    {
     "name": "stdout",
     "output_type": "stream",
     "text": [
      "Epoch 180, Loss 0.0399\n",
      "Training Accuracy: 0.9581, Testing Accuracy: 0.9667\n",
      "\n"
     ]
    },
    {
     "name": "stdout",
     "output_type": "stream",
     "text": [
      "Epoch 190, Loss 0.0394\n",
      "Training Accuracy: 0.9584, Testing Accuracy: 0.9662\n",
      "\n"
     ]
    },
    {
     "name": "stdout",
     "output_type": "stream",
     "text": [
      "Epoch 200, Loss 0.0389\n",
      "Training Accuracy: 0.9587, Testing Accuracy: 0.9662\n",
      "\n"
     ]
    },
    {
     "name": "stdout",
     "output_type": "stream",
     "text": [
      "Epoch 210, Loss 0.0384\n",
      "Training Accuracy: 0.9594, Testing Accuracy: 0.9672\n",
      "\n"
     ]
    },
    {
     "name": "stdout",
     "output_type": "stream",
     "text": [
      "Epoch 220, Loss 0.038\n",
      "Training Accuracy: 0.9600, Testing Accuracy: 0.9667\n",
      "\n"
     ]
    },
    {
     "name": "stdout",
     "output_type": "stream",
     "text": [
      "Epoch 230, Loss 0.0376\n",
      "Training Accuracy: 0.9603, Testing Accuracy: 0.9662\n",
      "\n"
     ]
    },
    {
     "name": "stdout",
     "output_type": "stream",
     "text": [
      "Epoch 240, Loss 0.0372\n",
      "Training Accuracy: 0.9604, Testing Accuracy: 0.9662\n",
      "\n"
     ]
    },
    {
     "data": {
      "text/plain": [
       "0.028591803285410024"
      ]
     },
     "execution_count": 23,
     "metadata": {},
     "output_type": "execute_result"
    }
   ],
   "source": [
    "lr_learner.train_loop(dl)"
   ]
  },
  {
   "cell_type": "code",
   "execution_count": 24,
   "id": "ca410940",
   "metadata": {
    "execution": {
     "iopub.execute_input": "2022-03-01T00:32:21.190311Z",
     "iopub.status.busy": "2022-03-01T00:32:21.189764Z",
     "iopub.status.idle": "2022-03-01T00:32:21.420100Z",
     "shell.execute_reply": "2022-03-01T00:32:21.419589Z"
    },
    "papermill": {
     "duration": 0.280969,
     "end_time": "2022-03-01T00:32:21.420221",
     "exception": false,
     "start_time": "2022-03-01T00:32:21.139252",
     "status": "completed"
    },
    "tags": []
   },
   "outputs": [
    {
     "data": {
      "text/plain": [
       "<matplotlib.legend.Legend at 0x7f7bcc12bd30>"
      ]
     },
     "execution_count": 24,
     "metadata": {},
     "output_type": "execute_result"
    },
    {
     "data": {
      "image/png": "[encoded data removed]",
      "text/plain": [
       "<Figure size 1080x720 with 1 Axes>"
      ]
     },
     "metadata": {
      "needs_background": "light"
     },
     "output_type": "display_data"
    }
   ],
   "source": [
    "#comparing the results of NN and LR\n",
    "plt.figure(figsize=(15,10))\n",
    "\n",
    "# Neural Network plots\n",
    "plt.plot(acc_nn.accuracies, 'r-', label = \"Training Accuracies - NN\")\n",
    "plt.plot(acc_nn.test_accuracies, 'g-', label = \"Testing Accuracies - NN\")\n",
    "\n",
    "# Logistic Regression plots\n",
    "plt.plot(acc_lr.accuracies, 'k-', label = \"Training Accuracies - LR\")\n",
    "plt.plot(acc_lr.test_accuracies, 'b-', label = \"Testing Accuracies - LR\")\n",
    "plt.legend()"
   ]
  },
  {
   "cell_type": "markdown",
   "id": "80dfb35c",
   "metadata": {
    "papermill": {
     "duration": 0.042689,
     "end_time": "2022-03-01T00:32:21.505787",
     "exception": false,
     "start_time": "2022-03-01T00:32:21.463098",
     "status": "completed"
    },
    "tags": []
   },
   "source": [
    "#### Plotting the outputs of this layer of the NN.\n"
   ]
  },
  {
   "cell_type": "code",
   "execution_count": 25,
   "id": "45eb2ff5",
   "metadata": {
    "execution": {
     "iopub.execute_input": "2022-03-01T00:32:21.598324Z",
     "iopub.status.busy": "2022-03-01T00:32:21.597786Z",
     "iopub.status.idle": "2022-03-01T00:32:21.616260Z",
     "shell.execute_reply": "2022-03-01T00:32:21.616695Z"
    },
    "papermill": {
     "duration": 0.068489,
     "end_time": "2022-03-01T00:32:21.616837",
     "exception": false,
     "start_time": "2022-03-01T00:32:21.548348",
     "status": "completed"
    },
    "tags": []
   },
   "outputs": [],
   "source": [
    "new_model = Model(layers[:-2])\n",
    "testing_plot = new_model(testing_data_x)"
   ]
  },
  {
   "cell_type": "code",
   "execution_count": 26,
   "id": "4c0a5485",
   "metadata": {
    "execution": {
     "iopub.execute_input": "2022-03-01T00:32:21.708197Z",
     "iopub.status.busy": "2022-03-01T00:32:21.707661Z",
     "iopub.status.idle": "2022-03-01T00:32:21.930710Z",
     "shell.execute_reply": "2022-03-01T00:32:21.931120Z"
    },
    "papermill": {
     "duration": 0.270989,
     "end_time": "2022-03-01T00:32:21.931266",
     "exception": false,
     "start_time": "2022-03-01T00:32:21.660277",
     "status": "completed"
    },
    "tags": []
   },
   "outputs": [
    {
     "data": {
      "text/plain": [
       "Text(0.5, 1.0, 'Outputs')"
      ]
     },
     "execution_count": 26,
     "metadata": {},
     "output_type": "execute_result"
    },
    {
     "data": {
      "image/png": "[encoded data removed]",
      "text/plain": [
       "<Figure size 576x504 with 1 Axes>"
      ]
     },
     "metadata": {
      "needs_background": "light"
     },
     "output_type": "display_data"
    }
   ],
   "source": [
    "# Plotting the scatter plot of points and color coding by class\n",
    "plt.figure(figsize=(8,7))\n",
    "plt.scatter(testing_plot[:,0], testing_plot[:,1], alpha = 0.1, c = y_test.ravel());\n",
    "plt.title('Outputs')"
   ]
  },
  {
   "cell_type": "markdown",
   "id": "a74fcf8f",
   "metadata": {
    "papermill": {
     "duration": 0.045284,
     "end_time": "2022-03-01T00:32:22.022414",
     "exception": false,
     "start_time": "2022-03-01T00:32:21.977130",
     "status": "completed"
    },
    "tags": []
   },
   "source": [
    "Probability contours"
   ]
  },
  {
   "cell_type": "code",
   "execution_count": 27,
   "id": "d0afc8e3",
   "metadata": {
    "execution": {
     "iopub.execute_input": "2022-03-01T00:32:22.117223Z",
     "iopub.status.busy": "2022-03-01T00:32:22.116679Z",
     "iopub.status.idle": "2022-03-01T00:32:22.128768Z",
     "shell.execute_reply": "2022-03-01T00:32:22.128348Z"
    },
    "papermill": {
     "duration": 0.061001,
     "end_time": "2022-03-01T00:32:22.128884",
     "exception": false,
     "start_time": "2022-03-01T00:32:22.067883",
     "status": "completed"
    },
    "tags": []
   },
   "outputs": [],
   "source": [
    "model_prob = Model(layers[-2:]) "
   ]
  },
  {
   "cell_type": "code",
   "execution_count": 28,
   "id": "9b96e238",
   "metadata": {
    "execution": {
     "iopub.execute_input": "2022-03-01T00:32:22.255172Z",
     "iopub.status.busy": "2022-03-01T00:32:22.254627Z",
     "iopub.status.idle": "2022-03-01T00:32:22.268495Z",
     "shell.execute_reply": "2022-03-01T00:32:22.268937Z"
    },
    "papermill": {
     "duration": 0.064335,
     "end_time": "2022-03-01T00:32:22.269116",
     "exception": false,
     "start_time": "2022-03-01T00:32:22.204781",
     "status": "completed"
    },
    "tags": []
   },
   "outputs": [],
   "source": [
    "#creating the x and y ranges according to the above generated plot.\n",
    "x_range = np.linspace(-4, 1, 100) \n",
    "y_range = np.linspace(-6, 6, 100) \n",
    "x_grid, y_grid = np.meshgrid(x_range, y_range) # x_grid and y_grig are of size 100 X 100\n",
    "\n",
    "# converting x_grid and y_grid to continuous arrays\n",
    "x_gridflat = np.ravel(x_grid)\n",
    "y_gridflat = np.ravel(y_grid)\n",
    "\n",
    "# The last layer of the current model takes two columns as input. Hence transpose of np.vstack() is required.\n",
    "X = np.vstack((x_gridflat, y_gridflat)).T\n",
    "\n",
    "prob_contour = model_prob(X).reshape(100,100) "
   ]
  },
  {
   "cell_type": "code",
   "execution_count": 29,
   "id": "da72499a",
   "metadata": {
    "execution": {
     "iopub.execute_input": "2022-03-01T00:32:22.369758Z",
     "iopub.status.busy": "2022-03-01T00:32:22.365391Z",
     "iopub.status.idle": "2022-03-01T00:32:22.619838Z",
     "shell.execute_reply": "2022-03-01T00:32:22.620269Z"
    },
    "papermill": {
     "duration": 0.30569,
     "end_time": "2022-03-01T00:32:22.620408",
     "exception": false,
     "start_time": "2022-03-01T00:32:22.314718",
     "status": "completed"
    },
    "tags": []
   },
   "outputs": [
    {
     "data": {
      "image/png": "[encoded data removed]",
      "text/plain": [
       "<Figure size 720x648 with 1 Axes>"
      ]
     },
     "metadata": {
      "needs_background": "light"
     },
     "output_type": "display_data"
    }
   ],
   "source": [
    "plt.figure(figsize=(10,9))\n",
    "plt.scatter(testing_plot[:,0], testing_plot[:,1], alpha = 0.1, c = y_test.ravel())\n",
    "contours = plt.contour(x_grid,y_grid,prob_contour)\n",
    "plt.title('Probability Contours')\n",
    "plt.clabel(contours, inline = True );"
   ]
  },
  {
   "cell_type": "code",
   "execution_count": null,
   "id": "e81b4ac7",
   "metadata": {
    "papermill": {
     "duration": 0.047721,
     "end_time": "2022-03-01T00:32:22.716436",
     "exception": false,
     "start_time": "2022-03-01T00:32:22.668715",
     "status": "completed"
    },
    "tags": []
   },
   "outputs": [],
   "source": []
  }
 ],
 "metadata": {
  "kernelspec": {
   "display_name": "Python 3",
   "language": "python",
   "name": "python3"
  },
  "language_info": {
   "codemirror_mode": {
    "name": "ipython",
    "version": 3
   },
   "file_extension": ".py",
   "mimetype": "text/x-python",
   "name": "python",
   "nbconvert_exporter": "python",
   "pygments_lexer": "ipython3",
   "version": "3.6.15"
  },
  "papermill": {
   "default_parameters": {},
   "duration": 106.382401,
   "end_time": "2022-03-01T00:32:23.182787",
   "environment_variables": {},
   "exception": null,
   "input_path": "2020-08-11-part2.ipynb",
   "output_path": "2020-08-11-part2.ipynb",
   "parameters": {},
   "start_time": "2022-03-01T00:30:36.800386",
   "version": "2.3.3"
  }
 },
 "nbformat": 4,
 "nbformat_minor": 5
}