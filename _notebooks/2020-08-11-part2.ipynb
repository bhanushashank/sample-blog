{
 "cells": [
  {
   "cell_type": "markdown",
   "id": "98380cd3",
   "metadata": {
    "papermill": {
     "duration": 0.029861,
     "end_time": "2022-06-01T20:11:43.362785",
     "exception": false,
     "start_time": "2022-06-01T20:11:43.332924",
     "status": "completed"
    },
    "tags": []
   },
   "source": [
    "# Distinguish Your Own Digits (DYOD)"
   ]
  },
  {
   "cell_type": "markdown",
   "id": "ef31240d",
   "metadata": {
    "papermill": {
     "duration": 0.02381,
     "end_time": "2022-06-01T20:11:43.410885",
     "exception": false,
     "start_time": "2022-06-01T20:11:43.387075",
     "status": "completed"
    },
    "tags": []
   },
   "source": [
    "You are going to write a classifier that distinguishes between the number 3 and number 8."
   ]
  },
  {
   "cell_type": "code",
   "execution_count": 1,
   "id": "b15c8646",
   "metadata": {
    "execution": {
     "iopub.execute_input": "2022-06-01T20:11:43.469048Z",
     "iopub.status.busy": "2022-06-01T20:11:43.468430Z",
     "iopub.status.idle": "2022-06-01T20:11:43.479625Z",
     "shell.execute_reply": "2022-06-01T20:11:43.479123Z"
    },
    "papermill": {
     "duration": 0.045135,
     "end_time": "2022-06-01T20:11:43.479750",
     "exception": false,
     "start_time": "2022-06-01T20:11:43.434615",
     "status": "completed"
    },
    "tags": []
   },
   "outputs": [],
   "source": [
    "%load_ext autoreload\n",
    "%autoreload 2"
   ]
  },
  {
   "cell_type": "code",
   "execution_count": 2,
   "id": "22ef38dc",
   "metadata": {
    "execution": {
     "iopub.execute_input": "2022-06-01T20:11:43.531513Z",
     "iopub.status.busy": "2022-06-01T20:11:43.530908Z",
     "iopub.status.idle": "2022-06-01T20:11:44.066740Z",
     "shell.execute_reply": "2022-06-01T20:11:44.066220Z"
    },
    "papermill": {
     "duration": 0.563277,
     "end_time": "2022-06-01T20:11:44.066869",
     "exception": false,
     "start_time": "2022-06-01T20:11:43.503592",
     "status": "completed"
    },
    "tags": []
   },
   "outputs": [],
   "source": [
    "%matplotlib inline\n",
    "import numpy as np\n",
    "import matplotlib.pyplot as plt\n",
    "import pandas as pd"
   ]
  },
  {
   "cell_type": "markdown",
   "id": "ba036198",
   "metadata": {
    "papermill": {
     "duration": 0.023774,
     "end_time": "2022-06-01T20:11:44.114391",
     "exception": false,
     "start_time": "2022-06-01T20:11:44.090617",
     "status": "completed"
    },
    "tags": []
   },
   "source": [
    "From the command line run `pip install mnist`. This is a library that will help you bring down the mnist dataset. If you run this from a notebook, you need to put  `!pip install mnist` in a cell by itself."
   ]
  },
  {
   "cell_type": "code",
   "execution_count": 3,
   "id": "bb6ad8a1",
   "metadata": {
    "execution": {
     "iopub.execute_input": "2022-06-01T20:11:44.168139Z",
     "iopub.status.busy": "2022-06-01T20:11:44.167524Z",
     "iopub.status.idle": "2022-06-01T20:11:45.983432Z",
     "shell.execute_reply": "2022-06-01T20:11:45.981970Z"
    },
    "papermill": {
     "duration": 1.845122,
     "end_time": "2022-06-01T20:11:45.983568",
     "exception": false,
     "start_time": "2022-06-01T20:11:44.138446",
     "status": "completed"
    },
    "tags": []
   },
   "outputs": [
    {
     "name": "stdout",
     "output_type": "stream",
     "text": [
      "Collecting mnist\r\n"
     ]
    },
    {
     "name": "stdout",
     "output_type": "stream",
     "text": [
      "  Downloading mnist-0.2.2-py2.py3-none-any.whl (3.5 kB)\r\n",
      "Requirement already satisfied: numpy in /opt/hostedtoolcache/Python/3.6.15/x64/lib/python3.6/site-packages (from mnist) (1.19.5)\r\n"
     ]
    },
    {
     "name": "stdout",
     "output_type": "stream",
     "text": [
      "Installing collected packages: mnist\r\n"
     ]
    },
    {
     "name": "stdout",
     "output_type": "stream",
     "text": [
      "Successfully installed mnist-0.2.2\r\n"
     ]
    }
   ],
   "source": [
    "!pip install mnist"
   ]
  },
  {
   "cell_type": "markdown",
   "id": "69df9c9a",
   "metadata": {
    "papermill": {
     "duration": 0.025226,
     "end_time": "2022-06-01T20:11:46.033864",
     "exception": false,
     "start_time": "2022-06-01T20:11:46.008638",
     "status": "completed"
    },
    "tags": []
   },
   "source": [
    "## Preparing the Data"
   ]
  },
  {
   "cell_type": "code",
   "execution_count": 4,
   "id": "7f69d806",
   "metadata": {
    "execution": {
     "iopub.execute_input": "2022-06-01T20:11:46.103003Z",
     "iopub.status.busy": "2022-06-01T20:11:46.099665Z",
     "iopub.status.idle": "2022-06-01T20:11:46.106943Z",
     "shell.execute_reply": "2022-06-01T20:11:46.106483Z"
    },
    "papermill": {
     "duration": 0.048525,
     "end_time": "2022-06-01T20:11:46.107063",
     "exception": false,
     "start_time": "2022-06-01T20:11:46.058538",
     "status": "completed"
    },
    "tags": []
   },
   "outputs": [],
   "source": [
    "import mnist"
   ]
  },
  {
   "cell_type": "code",
   "execution_count": 5,
   "id": "a411e44f",
   "metadata": {
    "execution": {
     "iopub.execute_input": "2022-06-01T20:11:46.165384Z",
     "iopub.status.busy": "2022-06-01T20:11:46.164788Z",
     "iopub.status.idle": "2022-06-01T20:11:46.810758Z",
     "shell.execute_reply": "2022-06-01T20:11:46.811250Z"
    },
    "papermill": {
     "duration": 0.679287,
     "end_time": "2022-06-01T20:11:46.811406",
     "exception": false,
     "start_time": "2022-06-01T20:11:46.132119",
     "status": "completed"
    },
    "tags": []
   },
   "outputs": [],
   "source": [
    "train_images = mnist.train_images()\n",
    "train_labels = mnist.train_labels()"
   ]
  },
  {
   "cell_type": "code",
   "execution_count": 6,
   "id": "dceab3a5",
   "metadata": {
    "execution": {
     "iopub.execute_input": "2022-06-01T20:11:46.869364Z",
     "iopub.status.busy": "2022-06-01T20:11:46.868767Z",
     "iopub.status.idle": "2022-06-01T20:11:46.881775Z",
     "shell.execute_reply": "2022-06-01T20:11:46.882259Z"
    },
    "papermill": {
     "duration": 0.045433,
     "end_time": "2022-06-01T20:11:46.882392",
     "exception": false,
     "start_time": "2022-06-01T20:11:46.836959",
     "status": "completed"
    },
    "tags": []
   },
   "outputs": [
    {
     "data": {
      "text/plain": [
       "((60000, 28, 28), (60000,))"
      ]
     },
     "execution_count": 6,
     "metadata": {},
     "output_type": "execute_result"
    }
   ],
   "source": [
    "train_images.shape, train_labels.shape"
   ]
  },
  {
   "cell_type": "code",
   "execution_count": 7,
   "id": "f50dc2bb",
   "metadata": {
    "execution": {
     "iopub.execute_input": "2022-06-01T20:11:46.936353Z",
     "iopub.status.busy": "2022-06-01T20:11:46.935730Z",
     "iopub.status.idle": "2022-06-01T20:11:47.192940Z",
     "shell.execute_reply": "2022-06-01T20:11:47.192324Z"
    },
    "papermill": {
     "duration": 0.285635,
     "end_time": "2022-06-01T20:11:47.193069",
     "exception": false,
     "start_time": "2022-06-01T20:11:46.907434",
     "status": "completed"
    },
    "tags": []
   },
   "outputs": [],
   "source": [
    "test_images = mnist.test_images()\n",
    "test_labels = mnist.test_labels()"
   ]
  },
  {
   "cell_type": "code",
   "execution_count": 8,
   "id": "fc38cf1b",
   "metadata": {
    "execution": {
     "iopub.execute_input": "2022-06-01T20:11:47.250370Z",
     "iopub.status.busy": "2022-06-01T20:11:47.249777Z",
     "iopub.status.idle": "2022-06-01T20:11:47.261788Z",
     "shell.execute_reply": "2022-06-01T20:11:47.262273Z"
    },
    "papermill": {
     "duration": 0.043485,
     "end_time": "2022-06-01T20:11:47.262415",
     "exception": false,
     "start_time": "2022-06-01T20:11:47.218930",
     "status": "completed"
    },
    "tags": []
   },
   "outputs": [
    {
     "data": {
      "text/plain": [
       "((10000, 28, 28), (10000,))"
      ]
     },
     "execution_count": 8,
     "metadata": {},
     "output_type": "execute_result"
    }
   ],
   "source": [
    "test_images.shape, test_labels.shape"
   ]
  },
  {
   "cell_type": "code",
   "execution_count": 9,
   "id": "f9ed8fe0",
   "metadata": {
    "execution": {
     "iopub.execute_input": "2022-06-01T20:11:47.321600Z",
     "iopub.status.busy": "2022-06-01T20:11:47.320999Z",
     "iopub.status.idle": "2022-06-01T20:11:47.458929Z",
     "shell.execute_reply": "2022-06-01T20:11:47.458360Z"
    },
    "papermill": {
     "duration": 0.171319,
     "end_time": "2022-06-01T20:11:47.459071",
     "exception": false,
     "start_time": "2022-06-01T20:11:47.287752",
     "status": "completed"
    },
    "tags": []
   },
   "outputs": [
    {
     "name": "stdout",
     "output_type": "stream",
     "text": [
      "2\n"
     ]
    },
    {
     "data": {
      "text/plain": [
       "<matplotlib.image.AxesImage at 0x7fa15b69de48>"
      ]
     },
     "execution_count": 9,
     "metadata": {},
     "output_type": "execute_result"
    },
    {
     "data": {
      "image/png": "[encoded data removed]",
      "text/plain": [
       "<Figure size 432x288 with 1 Axes>"
      ]
     },
     "metadata": {
      "needs_background": "light"
     },
     "output_type": "display_data"
    }
   ],
   "source": [
    "image_index = 7776 # You may select anything up to 60,000\n",
    "print(train_labels[image_index]) \n",
    "plt.imshow(train_images[image_index], cmap='Greys')"
   ]
  },
  {
   "cell_type": "markdown",
   "id": "a8d2388d",
   "metadata": {
    "papermill": {
     "duration": 0.026467,
     "end_time": "2022-06-01T20:11:47.512802",
     "exception": false,
     "start_time": "2022-06-01T20:11:47.486335",
     "status": "completed"
    },
    "tags": []
   },
   "source": [
    "## Filter data to get 3 and 8 out"
   ]
  },
  {
   "cell_type": "code",
   "execution_count": 10,
   "id": "776f7fc7",
   "metadata": {
    "execution": {
     "iopub.execute_input": "2022-06-01T20:11:47.577792Z",
     "iopub.status.busy": "2022-06-01T20:11:47.577159Z",
     "iopub.status.idle": "2022-06-01T20:11:47.592305Z",
     "shell.execute_reply": "2022-06-01T20:11:47.591725Z"
    },
    "papermill": {
     "duration": 0.0531,
     "end_time": "2022-06-01T20:11:47.592429",
     "exception": false,
     "start_time": "2022-06-01T20:11:47.539329",
     "status": "completed"
    },
    "tags": []
   },
   "outputs": [],
   "source": [
    "train_filter = np.where((train_labels == 3 ) | (train_labels == 8))\n",
    "test_filter = np.where((test_labels == 3) | (test_labels == 8))\n",
    "X_train, y_train = train_images[train_filter], train_labels[train_filter]\n",
    "X_test, y_test = test_images[test_filter], test_labels[test_filter]"
   ]
  },
  {
   "cell_type": "markdown",
   "id": "948f0b7e",
   "metadata": {
    "papermill": {
     "duration": 0.02669,
     "end_time": "2022-06-01T20:11:47.645644",
     "exception": false,
     "start_time": "2022-06-01T20:11:47.618954",
     "status": "completed"
    },
    "tags": []
   },
   "source": [
    "We normalize the pizel values in the 0 to 1 range"
   ]
  },
  {
   "cell_type": "code",
   "execution_count": 11,
   "id": "ee4c2166",
   "metadata": {
    "execution": {
     "iopub.execute_input": "2022-06-01T20:11:47.713098Z",
     "iopub.status.busy": "2022-06-01T20:11:47.710978Z",
     "iopub.status.idle": "2022-06-01T20:11:47.753316Z",
     "shell.execute_reply": "2022-06-01T20:11:47.752745Z"
    },
    "papermill": {
     "duration": 0.081422,
     "end_time": "2022-06-01T20:11:47.753457",
     "exception": false,
     "start_time": "2022-06-01T20:11:47.672035",
     "status": "completed"
    },
    "tags": []
   },
   "outputs": [],
   "source": [
    "X_train = X_train/255.\n",
    "X_test = X_test/255."
   ]
  },
  {
   "cell_type": "markdown",
   "id": "ddcf4fab",
   "metadata": {
    "papermill": {
     "duration": 0.026313,
     "end_time": "2022-06-01T20:11:47.807137",
     "exception": false,
     "start_time": "2022-06-01T20:11:47.780824",
     "status": "completed"
    },
    "tags": []
   },
   "source": [
    "And setup the labels as 1 (when the digit is 3) and 0 (when the digit is 8)"
   ]
  },
  {
   "cell_type": "code",
   "execution_count": 12,
   "id": "7dc908f2",
   "metadata": {
    "execution": {
     "iopub.execute_input": "2022-06-01T20:11:47.869223Z",
     "iopub.status.busy": "2022-06-01T20:11:47.868608Z",
     "iopub.status.idle": "2022-06-01T20:11:47.877702Z",
     "shell.execute_reply": "2022-06-01T20:11:47.877217Z"
    },
    "papermill": {
     "duration": 0.044289,
     "end_time": "2022-06-01T20:11:47.877815",
     "exception": false,
     "start_time": "2022-06-01T20:11:47.833526",
     "status": "completed"
    },
    "tags": []
   },
   "outputs": [],
   "source": [
    "y_train = 1*(y_train==3)\n",
    "y_test = 1*(y_test==3)"
   ]
  },
  {
   "cell_type": "code",
   "execution_count": 13,
   "id": "01e4e969",
   "metadata": {
    "execution": {
     "iopub.execute_input": "2022-06-01T20:11:47.939094Z",
     "iopub.status.busy": "2022-06-01T20:11:47.938495Z",
     "iopub.status.idle": "2022-06-01T20:11:47.949515Z",
     "shell.execute_reply": "2022-06-01T20:11:47.949031Z"
    },
    "papermill": {
     "duration": 0.045389,
     "end_time": "2022-06-01T20:11:47.949629",
     "exception": false,
     "start_time": "2022-06-01T20:11:47.904240",
     "status": "completed"
    },
    "tags": []
   },
   "outputs": [
    {
     "data": {
      "text/plain": [
       "((11982, 28, 28), (1984, 28, 28))"
      ]
     },
     "execution_count": 13,
     "metadata": {},
     "output_type": "execute_result"
    }
   ],
   "source": [
    "X_train.shape, X_test.shape"
   ]
  },
  {
   "cell_type": "markdown",
   "id": "5ccf3f85",
   "metadata": {
    "papermill": {
     "duration": 0.026518,
     "end_time": "2022-06-01T20:11:48.002720",
     "exception": false,
     "start_time": "2022-06-01T20:11:47.976202",
     "status": "completed"
    },
    "tags": []
   },
   "source": [
    "We reshape the data to flatten the image pixels into a set of features or co-variates:"
   ]
  },
  {
   "cell_type": "code",
   "execution_count": 14,
   "id": "5286a4a3",
   "metadata": {
    "execution": {
     "iopub.execute_input": "2022-06-01T20:11:48.060201Z",
     "iopub.status.busy": "2022-06-01T20:11:48.059567Z",
     "iopub.status.idle": "2022-06-01T20:11:48.074087Z",
     "shell.execute_reply": "2022-06-01T20:11:48.074565Z"
    },
    "papermill": {
     "duration": 0.045296,
     "end_time": "2022-06-01T20:11:48.074704",
     "exception": false,
     "start_time": "2022-06-01T20:11:48.029408",
     "status": "completed"
    },
    "tags": []
   },
   "outputs": [
    {
     "data": {
      "text/plain": [
       "((11982, 784), (1984, 784))"
      ]
     },
     "execution_count": 14,
     "metadata": {},
     "output_type": "execute_result"
    }
   ],
   "source": [
    "X_train = X_train.reshape(X_train.shape[0], -1)\n",
    "X_test = X_test.reshape(X_test.shape[0], -1)\n",
    "X_train.shape, X_test.shape"
   ]
  },
  {
   "cell_type": "code",
   "execution_count": 15,
   "id": "73c5f88a",
   "metadata": {
    "execution": {
     "iopub.execute_input": "2022-06-01T20:11:48.133815Z",
     "iopub.status.busy": "2022-06-01T20:11:48.133207Z",
     "iopub.status.idle": "2022-06-01T20:11:48.152208Z",
     "shell.execute_reply": "2022-06-01T20:11:48.152652Z"
    },
    "papermill": {
     "duration": 0.051154,
     "end_time": "2022-06-01T20:11:48.152790",
     "exception": false,
     "start_time": "2022-06-01T20:11:48.101636",
     "status": "completed"
    },
    "tags": []
   },
   "outputs": [],
   "source": [
    "#Impoting functions from 'Kudzu'\n",
    "from kudzu.model import Model\n",
    "from kudzu.train import Learner\n",
    "from kudzu.optim import GD\n",
    "from kudzu.data import Data, Sampler,Dataloader\n",
    "\n",
    "from kudzu.callbacks import AccCallback\n",
    "from kudzu.callbacks import ClfCallback\n",
    "\n",
    "from kudzu.loss import MSE\n",
    "\n",
    "from kudzu.layer import Sigmoid,Relu\n",
    "from kudzu.layer import Affine"
   ]
  },
  {
   "cell_type": "markdown",
   "id": "bc01172a",
   "metadata": {
    "papermill": {
     "duration": 0.02683,
     "end_time": "2022-06-01T20:11:48.206623",
     "exception": false,
     "start_time": "2022-06-01T20:11:48.179793",
     "status": "completed"
    },
    "tags": []
   },
   "source": [
    "### Let us create a `Config` class, to store important parameters. \n",
    "This class essentially plays the role of a dictionary."
   ]
  },
  {
   "cell_type": "code",
   "execution_count": 16,
   "id": "978281aa",
   "metadata": {
    "execution": {
     "iopub.execute_input": "2022-06-01T20:11:48.266252Z",
     "iopub.status.busy": "2022-06-01T20:11:48.265526Z",
     "iopub.status.idle": "2022-06-01T20:11:48.279083Z",
     "shell.execute_reply": "2022-06-01T20:11:48.278294Z"
    },
    "papermill": {
     "duration": 0.04574,
     "end_time": "2022-06-01T20:11:48.279206",
     "exception": false,
     "start_time": "2022-06-01T20:11:48.233466",
     "status": "completed"
    },
    "tags": []
   },
   "outputs": [],
   "source": [
    "class Config:\n",
    "    pass\n",
    "config = Config()\n",
    "config.lr = 0.001\n",
    "config.num_epochs = 250\n",
    "config.bs = 50"
   ]
  },
  {
   "cell_type": "markdown",
   "id": "1385fa59",
   "metadata": {
    "papermill": {
     "duration": 0.026883,
     "end_time": "2022-06-01T20:11:48.333179",
     "exception": false,
     "start_time": "2022-06-01T20:11:48.306296",
     "status": "completed"
    },
    "tags": []
   },
   "source": [
    "### Running Models with the Training data\n",
    "Details about the network layers:\n",
    "- A first affine layer has 784 inputs and does 100 affine transforms. These are followed by a Relu\n",
    "- A second affine layer has 100 inputs from the 100 activations of the past layer, and does 100 affine transforms. These are followed by a Relu\n",
    "- A third affine layer has 100 activations and does 2 affine transformations to create an embedding for visualization. There is no non-linearity here.\n",
    "- A final \"logistic regression\" which has an affine transform from 2 inputs to 1 output, which is squeezed through a sigmoid.\n"
   ]
  },
  {
   "cell_type": "code",
   "execution_count": 17,
   "id": "2b9c66db",
   "metadata": {
    "execution": {
     "iopub.execute_input": "2022-06-01T20:11:48.393092Z",
     "iopub.status.busy": "2022-06-01T20:11:48.392481Z",
     "iopub.status.idle": "2022-06-01T20:11:48.404640Z",
     "shell.execute_reply": "2022-06-01T20:11:48.404140Z"
    },
    "papermill": {
     "duration": 0.044682,
     "end_time": "2022-06-01T20:11:48.404758",
     "exception": false,
     "start_time": "2022-06-01T20:11:48.360076",
     "status": "completed"
    },
    "tags": []
   },
   "outputs": [],
   "source": [
    "data = Data(X_train, y_train.reshape(-1,1))\n",
    "sampler = Sampler(data, config.bs, shuffle=True)\n",
    "\n",
    "dl = Dataloader(data, sampler)\n",
    "\n",
    "opt = GD(config.lr)\n",
    "loss = MSE()"
   ]
  },
  {
   "cell_type": "code",
   "execution_count": 18,
   "id": "b275e4c2",
   "metadata": {
    "execution": {
     "iopub.execute_input": "2022-06-01T20:11:48.463665Z",
     "iopub.status.busy": "2022-06-01T20:11:48.463064Z",
     "iopub.status.idle": "2022-06-01T20:11:48.475600Z",
     "shell.execute_reply": "2022-06-01T20:11:48.475112Z"
    },
    "papermill": {
     "duration": 0.043659,
     "end_time": "2022-06-01T20:11:48.475714",
     "exception": false,
     "start_time": "2022-06-01T20:11:48.432055",
     "status": "completed"
    },
    "tags": []
   },
   "outputs": [],
   "source": [
    "training_data_x = X_train\n",
    "testing_data_x = X_test\n",
    "training_data_y = y_train.reshape(-1,1)\n",
    "testing_data_y = y_test.reshape(-1,1)"
   ]
  },
  {
   "cell_type": "code",
   "execution_count": 19,
   "id": "76951160",
   "metadata": {
    "execution": {
     "iopub.execute_input": "2022-06-01T20:11:48.540994Z",
     "iopub.status.busy": "2022-06-01T20:11:48.540347Z",
     "iopub.status.idle": "2022-06-01T20:11:48.552940Z",
     "shell.execute_reply": "2022-06-01T20:11:48.552349Z"
    },
    "papermill": {
     "duration": 0.050418,
     "end_time": "2022-06-01T20:11:48.553058",
     "exception": false,
     "start_time": "2022-06-01T20:11:48.502640",
     "status": "completed"
    },
    "tags": []
   },
   "outputs": [
    {
     "name": "stdout",
     "output_type": "stream",
     "text": [
      "xavier\n",
      "xavier\n",
      "xavier\n",
      "xavier\n",
      "xavier\n"
     ]
    }
   ],
   "source": [
    "layers = [Affine(\"first\", 784, 100), Relu(\"first\"), Affine(\"second\", 100, 100), Relu(\"second\"), Affine(\"third\", 100, 2), Affine(\"last\", 2, 1), Sigmoid(\"last\")]\n",
    "model_nn = Model(layers)\n",
    "model_lr = Model([Affine(\"logits\", 784, 1), Sigmoid(\"sigmoid\")])"
   ]
  },
  {
   "cell_type": "code",
   "execution_count": 20,
   "id": "6eede77a",
   "metadata": {
    "execution": {
     "iopub.execute_input": "2022-06-01T20:11:48.611908Z",
     "iopub.status.busy": "2022-06-01T20:11:48.611287Z",
     "iopub.status.idle": "2022-06-01T20:11:48.624439Z",
     "shell.execute_reply": "2022-06-01T20:11:48.623960Z"
    },
    "papermill": {
     "duration": 0.044196,
     "end_time": "2022-06-01T20:11:48.624559",
     "exception": false,
     "start_time": "2022-06-01T20:11:48.580363",
     "status": "completed"
    },
    "tags": []
   },
   "outputs": [],
   "source": [
    "nn_learner = Learner(loss, model_nn, opt, config.num_epochs)\n",
    "acc_nn = ClfCallback(nn_learner, config.bs, training_data_x , testing_data_x, training_data_y, testing_data_y)\n",
    "nn_learner.set_callbacks([acc_nn])"
   ]
  },
  {
   "cell_type": "code",
   "execution_count": 21,
   "id": "877b6cc7",
   "metadata": {
    "execution": {
     "iopub.execute_input": "2022-06-01T20:11:48.682965Z",
     "iopub.status.busy": "2022-06-01T20:11:48.682380Z",
     "iopub.status.idle": "2022-06-01T20:11:48.695596Z",
     "shell.execute_reply": "2022-06-01T20:11:48.694998Z"
    },
    "papermill": {
     "duration": 0.044054,
     "end_time": "2022-06-01T20:11:48.695741",
     "exception": false,
     "start_time": "2022-06-01T20:11:48.651687",
     "status": "completed"
    },
    "tags": []
   },
   "outputs": [],
   "source": [
    "lr_learner = Learner(loss, model_lr, opt, config.num_epochs)\n",
    "acc_lr = ClfCallback(lr_learner, config.bs, training_data_x , testing_data_x, training_data_y, testing_data_y)\n",
    "lr_learner.set_callbacks([acc_lr])"
   ]
  },
  {
   "cell_type": "code",
   "execution_count": 22,
   "id": "d9b133c3",
   "metadata": {
    "execution": {
     "iopub.execute_input": "2022-06-01T20:11:48.759284Z",
     "iopub.status.busy": "2022-06-01T20:11:48.758687Z",
     "iopub.status.idle": "2022-06-01T20:13:03.247966Z",
     "shell.execute_reply": "2022-06-01T20:13:03.248813Z"
    },
    "papermill": {
     "duration": 74.525747,
     "end_time": "2022-06-01T20:13:03.248963",
     "exception": false,
     "start_time": "2022-06-01T20:11:48.723216",
     "status": "completed"
    },
    "tags": []
   },
   "outputs": [
    {
     "name": "stdout",
     "output_type": "stream",
     "text": [
      "Epoch 0, Loss 0.2472\n",
      "Training Accuracy: 0.5885, Testing Accuracy: 0.5806\n",
      "\n"
     ]
    },
    {
     "name": "stdout",
     "output_type": "stream",
     "text": [
      "Epoch 10, Loss 0.1285\n",
      "Training Accuracy: 0.9056, Testing Accuracy: 0.9133\n",
      "\n"
     ]
    },
    {
     "name": "stdout",
     "output_type": "stream",
     "text": [
      "Epoch 20, Loss 0.0677\n",
      "Training Accuracy: 0.9328, Testing Accuracy: 0.9430\n",
      "\n"
     ]
    },
    {
     "name": "stdout",
     "output_type": "stream",
     "text": [
      "Epoch 30, Loss 0.0493\n",
      "Training Accuracy: 0.9464, Testing Accuracy: 0.9556\n",
      "\n"
     ]
    },
    {
     "name": "stdout",
     "output_type": "stream",
     "text": [
      "Epoch 40, Loss 0.0411\n",
      "Training Accuracy: 0.9550, Testing Accuracy: 0.9627\n",
      "\n"
     ]
    },
    {
     "name": "stdout",
     "output_type": "stream",
     "text": [
      "Epoch 50, Loss 0.0366\n",
      "Training Accuracy: 0.9589, Testing Accuracy: 0.9637\n",
      "\n"
     ]
    },
    {
     "name": "stdout",
     "output_type": "stream",
     "text": [
      "Epoch 60, Loss 0.0337\n",
      "Training Accuracy: 0.9619, Testing Accuracy: 0.9642\n",
      "\n"
     ]
    },
    {
     "name": "stdout",
     "output_type": "stream",
     "text": [
      "Epoch 70, Loss 0.0317\n",
      "Training Accuracy: 0.9634, Testing Accuracy: 0.9652\n",
      "\n"
     ]
    },
    {
     "name": "stdout",
     "output_type": "stream",
     "text": [
      "Epoch 80, Loss 0.0302\n",
      "Training Accuracy: 0.9647, Testing Accuracy: 0.9667\n",
      "\n"
     ]
    },
    {
     "name": "stdout",
     "output_type": "stream",
     "text": [
      "Epoch 90, Loss 0.0289\n",
      "Training Accuracy: 0.9652, Testing Accuracy: 0.9672\n",
      "\n"
     ]
    },
    {
     "name": "stdout",
     "output_type": "stream",
     "text": [
      "Epoch 100, Loss 0.0279\n",
      "Training Accuracy: 0.9664, Testing Accuracy: 0.9672\n",
      "\n"
     ]
    },
    {
     "name": "stdout",
     "output_type": "stream",
     "text": [
      "Epoch 110, Loss 0.027\n",
      "Training Accuracy: 0.9673, Testing Accuracy: 0.9672\n",
      "\n"
     ]
    },
    {
     "name": "stdout",
     "output_type": "stream",
     "text": [
      "Epoch 120, Loss 0.0262\n",
      "Training Accuracy: 0.9681, Testing Accuracy: 0.9682\n",
      "\n"
     ]
    },
    {
     "name": "stdout",
     "output_type": "stream",
     "text": [
      "Epoch 130, Loss 0.0256\n",
      "Training Accuracy: 0.9694, Testing Accuracy: 0.9693\n",
      "\n"
     ]
    },
    {
     "name": "stdout",
     "output_type": "stream",
     "text": [
      "Epoch 140, Loss 0.025\n",
      "Training Accuracy: 0.9704, Testing Accuracy: 0.9703\n",
      "\n"
     ]
    },
    {
     "name": "stdout",
     "output_type": "stream",
     "text": [
      "Epoch 150, Loss 0.0244\n",
      "Training Accuracy: 0.9713, Testing Accuracy: 0.9703\n",
      "\n"
     ]
    },
    {
     "name": "stdout",
     "output_type": "stream",
     "text": [
      "Epoch 160, Loss 0.0239\n",
      "Training Accuracy: 0.9724, Testing Accuracy: 0.9698\n",
      "\n"
     ]
    },
    {
     "name": "stdout",
     "output_type": "stream",
     "text": [
      "Epoch 170, Loss 0.0234\n",
      "Training Accuracy: 0.9726, Testing Accuracy: 0.9703\n",
      "\n"
     ]
    },
    {
     "name": "stdout",
     "output_type": "stream",
     "text": [
      "Epoch 180, Loss 0.023\n",
      "Training Accuracy: 0.9729, Testing Accuracy: 0.9703\n",
      "\n"
     ]
    },
    {
     "name": "stdout",
     "output_type": "stream",
     "text": [
      "Epoch 190, Loss 0.0226\n",
      "Training Accuracy: 0.9732, Testing Accuracy: 0.9718\n",
      "\n"
     ]
    },
    {
     "name": "stdout",
     "output_type": "stream",
     "text": [
      "Epoch 200, Loss 0.0222\n",
      "Training Accuracy: 0.9735, Testing Accuracy: 0.9718\n",
      "\n"
     ]
    },
    {
     "name": "stdout",
     "output_type": "stream",
     "text": [
      "Epoch 210, Loss 0.0218\n",
      "Training Accuracy: 0.9744, Testing Accuracy: 0.9723\n",
      "\n"
     ]
    },
    {
     "name": "stdout",
     "output_type": "stream",
     "text": [
      "Epoch 220, Loss 0.0214\n",
      "Training Accuracy: 0.9748, Testing Accuracy: 0.9733\n",
      "\n"
     ]
    },
    {
     "name": "stdout",
     "output_type": "stream",
     "text": [
      "Epoch 230, Loss 0.0211\n",
      "Training Accuracy: 0.9757, Testing Accuracy: 0.9733\n",
      "\n"
     ]
    },
    {
     "name": "stdout",
     "output_type": "stream",
     "text": [
      "Epoch 240, Loss 0.0207\n",
      "Training Accuracy: 0.9763, Testing Accuracy: 0.9738\n",
      "\n"
     ]
    },
    {
     "data": {
      "text/plain": [
       "0.007265550966966291"
      ]
     },
     "execution_count": 22,
     "metadata": {},
     "output_type": "execute_result"
    }
   ],
   "source": [
    "nn_learner.train_loop(dl)"
   ]
  },
  {
   "cell_type": "code",
   "execution_count": 23,
   "id": "e0163366",
   "metadata": {
    "execution": {
     "iopub.execute_input": "2022-06-01T20:13:03.329439Z",
     "iopub.status.busy": "2022-06-01T20:13:03.328837Z",
     "iopub.status.idle": "2022-06-01T20:13:16.428541Z",
     "shell.execute_reply": "2022-06-01T20:13:16.429384Z"
    },
    "papermill": {
     "duration": 13.146116,
     "end_time": "2022-06-01T20:13:16.429531",
     "exception": false,
     "start_time": "2022-06-01T20:13:03.283415",
     "status": "completed"
    },
    "tags": []
   },
   "outputs": [
    {
     "name": "stdout",
     "output_type": "stream",
     "text": [
      "Epoch 0, Loss 0.2169\n",
      "Training Accuracy: 0.7723, Testing Accuracy: 0.7792\n",
      "\n"
     ]
    },
    {
     "name": "stdout",
     "output_type": "stream",
     "text": [
      "Epoch 10, Loss 0.1025\n",
      "Training Accuracy: 0.9013, Testing Accuracy: 0.9078\n",
      "\n"
     ]
    },
    {
     "name": "stdout",
     "output_type": "stream",
     "text": [
      "Epoch 20, Loss 0.08\n",
      "Training Accuracy: 0.9211, Testing Accuracy: 0.9335\n",
      "\n"
     ]
    },
    {
     "name": "stdout",
     "output_type": "stream",
     "text": [
      "Epoch 30, Loss 0.0692\n",
      "Training Accuracy: 0.9319, Testing Accuracy: 0.9410\n",
      "\n"
     ]
    },
    {
     "name": "stdout",
     "output_type": "stream",
     "text": [
      "Epoch 40, Loss 0.0625\n",
      "Training Accuracy: 0.9390, Testing Accuracy: 0.9481\n",
      "\n"
     ]
    },
    {
     "name": "stdout",
     "output_type": "stream",
     "text": [
      "Epoch 50, Loss 0.0579\n",
      "Training Accuracy: 0.9436, Testing Accuracy: 0.9496\n",
      "\n"
     ]
    },
    {
     "name": "stdout",
     "output_type": "stream",
     "text": [
      "Epoch 60, Loss 0.0545\n",
      "Training Accuracy: 0.9463, Testing Accuracy: 0.9521\n",
      "\n"
     ]
    },
    {
     "name": "stdout",
     "output_type": "stream",
     "text": [
      "Epoch 70, Loss 0.0519\n",
      "Training Accuracy: 0.9476, Testing Accuracy: 0.9526\n",
      "\n"
     ]
    },
    {
     "name": "stdout",
     "output_type": "stream",
     "text": [
      "Epoch 80, Loss 0.0498\n",
      "Training Accuracy: 0.9488, Testing Accuracy: 0.9551\n",
      "\n"
     ]
    },
    {
     "name": "stdout",
     "output_type": "stream",
     "text": [
      "Epoch 90, Loss 0.0481\n",
      "Training Accuracy: 0.9500, Testing Accuracy: 0.9582\n",
      "\n"
     ]
    },
    {
     "name": "stdout",
     "output_type": "stream",
     "text": [
      "Epoch 100, Loss 0.0466\n",
      "Training Accuracy: 0.9514, Testing Accuracy: 0.9602\n",
      "\n"
     ]
    },
    {
     "name": "stdout",
     "output_type": "stream",
     "text": [
      "Epoch 110, Loss 0.0453\n",
      "Training Accuracy: 0.9533, Testing Accuracy: 0.9612\n",
      "\n"
     ]
    },
    {
     "name": "stdout",
     "output_type": "stream",
     "text": [
      "Epoch 120, Loss 0.0443\n",
      "Training Accuracy: 0.9544, Testing Accuracy: 0.9612\n",
      "\n"
     ]
    },
    {
     "name": "stdout",
     "output_type": "stream",
     "text": [
      "Epoch 130, Loss 0.0433\n",
      "Training Accuracy: 0.9555, Testing Accuracy: 0.9632\n",
      "\n"
     ]
    },
    {
     "name": "stdout",
     "output_type": "stream",
     "text": [
      "Epoch 140, Loss 0.0424\n",
      "Training Accuracy: 0.9564, Testing Accuracy: 0.9637\n",
      "\n"
     ]
    },
    {
     "name": "stdout",
     "output_type": "stream",
     "text": [
      "Epoch 150, Loss 0.0417\n",
      "Training Accuracy: 0.9572, Testing Accuracy: 0.9657\n",
      "\n"
     ]
    },
    {
     "name": "stdout",
     "output_type": "stream",
     "text": [
      "Epoch 160, Loss 0.041\n",
      "Training Accuracy: 0.9580, Testing Accuracy: 0.9657\n",
      "\n"
     ]
    },
    {
     "name": "stdout",
     "output_type": "stream",
     "text": [
      "Epoch 170, Loss 0.0403\n",
      "Training Accuracy: 0.9584, Testing Accuracy: 0.9657\n",
      "\n"
     ]
    },
    {
     "name": "stdout",
     "output_type": "stream",
     "text": [
      "Epoch 180, Loss 0.0398\n",
      "Training Accuracy: 0.9587, Testing Accuracy: 0.9657\n",
      "\n"
     ]
    },
    {
     "name": "stdout",
     "output_type": "stream",
     "text": [
      "Epoch 190, Loss 0.0392\n",
      "Training Accuracy: 0.9589, Testing Accuracy: 0.9657\n",
      "\n"
     ]
    },
    {
     "name": "stdout",
     "output_type": "stream",
     "text": [
      "Epoch 200, Loss 0.0387\n",
      "Training Accuracy: 0.9592, Testing Accuracy: 0.9662\n",
      "\n"
     ]
    },
    {
     "name": "stdout",
     "output_type": "stream",
     "text": [
      "Epoch 210, Loss 0.0383\n",
      "Training Accuracy: 0.9594, Testing Accuracy: 0.9662\n",
      "\n"
     ]
    },
    {
     "name": "stdout",
     "output_type": "stream",
     "text": [
      "Epoch 220, Loss 0.0379\n",
      "Training Accuracy: 0.9595, Testing Accuracy: 0.9667\n",
      "\n"
     ]
    },
    {
     "name": "stdout",
     "output_type": "stream",
     "text": [
      "Epoch 230, Loss 0.0375\n",
      "Training Accuracy: 0.9598, Testing Accuracy: 0.9672\n",
      "\n"
     ]
    },
    {
     "name": "stdout",
     "output_type": "stream",
     "text": [
      "Epoch 240, Loss 0.0371\n",
      "Training Accuracy: 0.9601, Testing Accuracy: 0.9672\n",
      "\n"
     ]
    },
    {
     "data": {
      "text/plain": [
       "0.023187373425955917"
      ]
     },
     "execution_count": 23,
     "metadata": {},
     "output_type": "execute_result"
    }
   ],
   "source": [
    "lr_learner.train_loop(dl)"
   ]
  },
  {
   "cell_type": "code",
   "execution_count": 24,
   "id": "ca410940",
   "metadata": {
    "execution": {
     "iopub.execute_input": "2022-06-01T20:13:16.525443Z",
     "iopub.status.busy": "2022-06-01T20:13:16.524836Z",
     "iopub.status.idle": "2022-06-01T20:13:16.753514Z",
     "shell.execute_reply": "2022-06-01T20:13:16.753013Z"
    },
    "papermill": {
     "duration": 0.282977,
     "end_time": "2022-06-01T20:13:16.753634",
     "exception": false,
     "start_time": "2022-06-01T20:13:16.470657",
     "status": "completed"
    },
    "tags": []
   },
   "outputs": [
    {
     "data": {
      "text/plain": [
       "<matplotlib.legend.Legend at 0x7fa15b20e470>"
      ]
     },
     "execution_count": 24,
     "metadata": {},
     "output_type": "execute_result"
    },
    {
     "data": {
      "image/png": "[encoded data removed]",
      "text/plain": [
       "<Figure size 1080x720 with 1 Axes>"
      ]
     },
     "metadata": {
      "needs_background": "light"
     },
     "output_type": "display_data"
    }
   ],
   "source": [
    "#comparing the results of NN and LR\n",
    "plt.figure(figsize=(15,10))\n",
    "\n",
    "# Neural Network plots\n",
    "plt.plot(acc_nn.accuracies, 'r-', label = \"Training Accuracies - NN\")\n",
    "plt.plot(acc_nn.test_accuracies, 'g-', label = \"Testing Accuracies - NN\")\n",
    "\n",
    "# Logistic Regression plots\n",
    "plt.plot(acc_lr.accuracies, 'k-', label = \"Training Accuracies - LR\")\n",
    "plt.plot(acc_lr.test_accuracies, 'b-', label = \"Testing Accuracies - LR\")\n",
    "plt.legend()"
   ]
  },
  {
   "cell_type": "markdown",
   "id": "80dfb35c",
   "metadata": {
    "papermill": {
     "duration": 0.041595,
     "end_time": "2022-06-01T20:13:16.837222",
     "exception": false,
     "start_time": "2022-06-01T20:13:16.795627",
     "status": "completed"
    },
    "tags": []
   },
   "source": [
    "#### Plotting the outputs of this layer of the NN.\n"
   ]
  },
  {
   "cell_type": "code",
   "execution_count": 25,
   "id": "45eb2ff5",
   "metadata": {
    "execution": {
     "iopub.execute_input": "2022-06-01T20:13:16.929295Z",
     "iopub.status.busy": "2022-06-01T20:13:16.924268Z",
     "iopub.status.idle": "2022-06-01T20:13:16.955411Z",
     "shell.execute_reply": "2022-06-01T20:13:16.956115Z"
    },
    "papermill": {
     "duration": 0.077426,
     "end_time": "2022-06-01T20:13:16.956283",
     "exception": false,
     "start_time": "2022-06-01T20:13:16.878857",
     "status": "completed"
    },
    "tags": []
   },
   "outputs": [],
   "source": [
    "new_model = Model(layers[:-2])\n",
    "testing_plot = new_model(testing_data_x)"
   ]
  },
  {
   "cell_type": "code",
   "execution_count": 26,
   "id": "4c0a5485",
   "metadata": {
    "execution": {
     "iopub.execute_input": "2022-06-01T20:13:17.052225Z",
     "iopub.status.busy": "2022-06-01T20:13:17.049275Z",
     "iopub.status.idle": "2022-06-01T20:13:17.241883Z",
     "shell.execute_reply": "2022-06-01T20:13:17.241384Z"
    },
    "papermill": {
     "duration": 0.240186,
     "end_time": "2022-06-01T20:13:17.242001",
     "exception": false,
     "start_time": "2022-06-01T20:13:17.001815",
     "status": "completed"
    },
    "tags": []
   },
   "outputs": [
    {
     "data": {
      "text/plain": [
       "Text(0.5, 1.0, 'Outputs')"
      ]
     },
     "execution_count": 26,
     "metadata": {},
     "output_type": "execute_result"
    },
    {
     "data": {
      "image/png": "[encoded data removed]",
      "text/plain": [
       "<Figure size 576x504 with 1 Axes>"
      ]
     },
     "metadata": {
      "needs_background": "light"
     },
     "output_type": "display_data"
    }
   ],
   "source": [
    "# Plotting the scatter plot of points and color coding by class\n",
    "plt.figure(figsize=(8,7))\n",
    "plt.scatter(testing_plot[:,0], testing_plot[:,1], alpha = 0.1, c = y_test.ravel());\n",
    "plt.title('Outputs')"
   ]
  },
  {
   "cell_type": "markdown",
   "id": "a74fcf8f",
   "metadata": {
    "papermill": {
     "duration": 0.043661,
     "end_time": "2022-06-01T20:13:17.331813",
     "exception": false,
     "start_time": "2022-06-01T20:13:17.288152",
     "status": "completed"
    },
    "tags": []
   },
   "source": [
    "Probability contours"
   ]
  },
  {
   "cell_type": "code",
   "execution_count": 27,
   "id": "d0afc8e3",
   "metadata": {
    "execution": {
     "iopub.execute_input": "2022-06-01T20:13:17.460491Z",
     "iopub.status.busy": "2022-06-01T20:13:17.450834Z",
     "iopub.status.idle": "2022-06-01T20:13:17.467837Z",
     "shell.execute_reply": "2022-06-01T20:13:17.466974Z"
    },
    "papermill": {
     "duration": 0.092444,
     "end_time": "2022-06-01T20:13:17.467974",
     "exception": false,
     "start_time": "2022-06-01T20:13:17.375530",
     "status": "completed"
    },
    "tags": []
   },
   "outputs": [],
   "source": [
    "model_prob = Model(layers[-2:]) "
   ]
  },
  {
   "cell_type": "code",
   "execution_count": 28,
   "id": "9b96e238",
   "metadata": {
    "execution": {
     "iopub.execute_input": "2022-06-01T20:13:17.568842Z",
     "iopub.status.busy": "2022-06-01T20:13:17.560719Z",
     "iopub.status.idle": "2022-06-01T20:13:17.574774Z",
     "shell.execute_reply": "2022-06-01T20:13:17.575231Z"
    },
    "papermill": {
     "duration": 0.063341,
     "end_time": "2022-06-01T20:13:17.575365",
     "exception": false,
     "start_time": "2022-06-01T20:13:17.512024",
     "status": "completed"
    },
    "tags": []
   },
   "outputs": [],
   "source": [
    "#creating the x and y ranges according to the above generated plot.\n",
    "x_range = np.linspace(-4, 1, 100) \n",
    "y_range = np.linspace(-6, 6, 100) \n",
    "x_grid, y_grid = np.meshgrid(x_range, y_range) # x_grid and y_grig are of size 100 X 100\n",
    "\n",
    "# converting x_grid and y_grid to continuous arrays\n",
    "x_gridflat = np.ravel(x_grid)\n",
    "y_gridflat = np.ravel(y_grid)\n",
    "\n",
    "# The last layer of the current model takes two columns as input. Hence transpose of np.vstack() is required.\n",
    "X = np.vstack((x_gridflat, y_gridflat)).T\n",
    "\n",
    "prob_contour = model_prob(X).reshape(100,100) "
   ]
  },
  {
   "cell_type": "code",
   "execution_count": 29,
   "id": "da72499a",
   "metadata": {
    "execution": {
     "iopub.execute_input": "2022-06-01T20:13:17.673552Z",
     "iopub.status.busy": "2022-06-01T20:13:17.672955Z",
     "iopub.status.idle": "2022-06-01T20:13:17.911337Z",
     "shell.execute_reply": "2022-06-01T20:13:17.910837Z"
    },
    "papermill": {
     "duration": 0.292205,
     "end_time": "2022-06-01T20:13:17.911456",
     "exception": false,
     "start_time": "2022-06-01T20:13:17.619251",
     "status": "completed"
    },
    "tags": []
   },
   "outputs": [
    {
     "data": {
      "image/png": "[encoded data removed]",
      "text/plain": [
       "<Figure size 720x648 with 1 Axes>"
      ]
     },
     "metadata": {
      "needs_background": "light"
     },
     "output_type": "display_data"
    }
   ],
   "source": [
    "plt.figure(figsize=(10,9))\n",
    "plt.scatter(testing_plot[:,0], testing_plot[:,1], alpha = 0.1, c = y_test.ravel())\n",
    "contours = plt.contour(x_grid,y_grid,prob_contour)\n",
    "plt.title('Probability Contours')\n",
    "plt.clabel(contours, inline = True );"
   ]
  },
  {
   "cell_type": "code",
   "execution_count": null,
   "id": "e81b4ac7",
   "metadata": {
    "papermill": {
     "duration": 0.04614,
     "end_time": "2022-06-01T20:13:18.004533",
     "exception": false,
     "start_time": "2022-06-01T20:13:17.958393",
     "status": "completed"
    },
    "tags": []
   },
   "outputs": [],
   "source": []
  }
 ],
 "metadata": {
  "kernelspec": {
   "display_name": "Python 3",
   "language": "python",
   "name": "python3"
  },
  "language_info": {
   "codemirror_mode": {
    "name": "ipython",
    "version": 3
   },
   "file_extension": ".py",
   "mimetype": "text/x-python",
   "name": "python",
   "nbconvert_exporter": "python",
   "pygments_lexer": "ipython3",
   "version": "3.6.15"
  },
  "papermill": {
   "default_parameters": {},
   "duration": 96.069506,
   "end_time": "2022-06-01T20:13:18.469277",
   "environment_variables": {},
   "exception": null,
   "input_path": "2020-08-11-part2.ipynb",
   "output_path": "2020-08-11-part2.ipynb",
   "parameters": {},
   "start_time": "2022-06-01T20:11:42.399771",
   "version": "2.3.3"
  }
 },
 "nbformat": 4,
 "nbformat_minor": 5
}