{
 "cells": [
  {
   "cell_type": "markdown",
   "id": "98380cd3",
   "metadata": {
    "papermill": {
     "duration": 0.02885,
     "end_time": "2022-01-20T00:26:36.537193",
     "exception": false,
     "start_time": "2022-01-20T00:26:36.508343",
     "status": "completed"
    },
    "tags": []
   },
   "source": [
    "# Distinguish Your Own Digits (DYOD)"
   ]
  },
  {
   "cell_type": "markdown",
   "id": "ef31240d",
   "metadata": {
    "papermill": {
     "duration": 0.024216,
     "end_time": "2022-01-20T00:26:36.586105",
     "exception": false,
     "start_time": "2022-01-20T00:26:36.561889",
     "status": "completed"
    },
    "tags": []
   },
   "source": [
    "You are going to write a classifier that distinguishes between the number 3 and number 8."
   ]
  },
  {
   "cell_type": "code",
   "execution_count": 1,
   "id": "b15c8646",
   "metadata": {
    "execution": {
     "iopub.execute_input": "2022-01-20T00:26:36.645327Z",
     "iopub.status.busy": "2022-01-20T00:26:36.644791Z",
     "iopub.status.idle": "2022-01-20T00:26:36.654787Z",
     "shell.execute_reply": "2022-01-20T00:26:36.655198Z"
    },
    "papermill": {
     "duration": 0.045135,
     "end_time": "2022-01-20T00:26:36.655341",
     "exception": false,
     "start_time": "2022-01-20T00:26:36.610206",
     "status": "completed"
    },
    "tags": []
   },
   "outputs": [],
   "source": [
    "%load_ext autoreload\n",
    "%autoreload 2"
   ]
  },
  {
   "cell_type": "code",
   "execution_count": 2,
   "id": "22ef38dc",
   "metadata": {
    "execution": {
     "iopub.execute_input": "2022-01-20T00:26:36.707250Z",
     "iopub.status.busy": "2022-01-20T00:26:36.706743Z",
     "iopub.status.idle": "2022-01-20T00:26:37.269805Z",
     "shell.execute_reply": "2022-01-20T00:26:37.269277Z"
    },
    "papermill": {
     "duration": 0.590448,
     "end_time": "2022-01-20T00:26:37.269941",
     "exception": false,
     "start_time": "2022-01-20T00:26:36.679493",
     "status": "completed"
    },
    "tags": []
   },
   "outputs": [],
   "source": [
    "%matplotlib inline\n",
    "import numpy as np\n",
    "import matplotlib.pyplot as plt\n",
    "import pandas as pd"
   ]
  },
  {
   "cell_type": "markdown",
   "id": "ba036198",
   "metadata": {
    "papermill": {
     "duration": 0.024398,
     "end_time": "2022-01-20T00:26:37.319588",
     "exception": false,
     "start_time": "2022-01-20T00:26:37.295190",
     "status": "completed"
    },
    "tags": []
   },
   "source": [
    "From the command line run `pip install mnist`. This is a library that will help you bring down the mnist dataset. If you run this from a notebook, you need to put  `!pip install mnist` in a cell by itself."
   ]
  },
  {
   "cell_type": "code",
   "execution_count": 3,
   "id": "bb6ad8a1",
   "metadata": {
    "execution": {
     "iopub.execute_input": "2022-01-20T00:26:37.372360Z",
     "iopub.status.busy": "2022-01-20T00:26:37.371835Z",
     "iopub.status.idle": "2022-01-20T00:26:39.041013Z",
     "shell.execute_reply": "2022-01-20T00:26:39.040462Z"
    },
    "papermill": {
     "duration": 1.697383,
     "end_time": "2022-01-20T00:26:39.041146",
     "exception": false,
     "start_time": "2022-01-20T00:26:37.343763",
     "status": "completed"
    },
    "tags": []
   },
   "outputs": [
    {
     "name": "stdout",
     "output_type": "stream",
     "text": [
      "Collecting mnist\r\n"
     ]
    },
    {
     "name": "stdout",
     "output_type": "stream",
     "text": [
      "  Downloading mnist-0.2.2-py2.py3-none-any.whl (3.5 kB)\r\n"
     ]
    },
    {
     "name": "stdout",
     "output_type": "stream",
     "text": [
      "Requirement already satisfied: numpy in /opt/hostedtoolcache/Python/3.6.15/x64/lib/python3.6/site-packages (from mnist) (1.19.5)\r\n"
     ]
    },
    {
     "name": "stdout",
     "output_type": "stream",
     "text": [
      "Installing collected packages: mnist\r\n"
     ]
    },
    {
     "name": "stdout",
     "output_type": "stream",
     "text": [
      "Successfully installed mnist-0.2.2\r\n"
     ]
    }
   ],
   "source": [
    "!pip install mnist"
   ]
  },
  {
   "cell_type": "markdown",
   "id": "69df9c9a",
   "metadata": {
    "papermill": {
     "duration": 0.02575,
     "end_time": "2022-01-20T00:26:39.092815",
     "exception": false,
     "start_time": "2022-01-20T00:26:39.067065",
     "status": "completed"
    },
    "tags": []
   },
   "source": [
    "## Preparing the Data"
   ]
  },
  {
   "cell_type": "code",
   "execution_count": 4,
   "id": "7f69d806",
   "metadata": {
    "execution": {
     "iopub.execute_input": "2022-01-20T00:26:39.147439Z",
     "iopub.status.busy": "2022-01-20T00:26:39.146922Z",
     "iopub.status.idle": "2022-01-20T00:26:39.161666Z",
     "shell.execute_reply": "2022-01-20T00:26:39.161251Z"
    },
    "papermill": {
     "duration": 0.043681,
     "end_time": "2022-01-20T00:26:39.161779",
     "exception": false,
     "start_time": "2022-01-20T00:26:39.118098",
     "status": "completed"
    },
    "tags": []
   },
   "outputs": [],
   "source": [
    "import mnist"
   ]
  },
  {
   "cell_type": "code",
   "execution_count": 5,
   "id": "a411e44f",
   "metadata": {
    "execution": {
     "iopub.execute_input": "2022-01-20T00:26:39.217412Z",
     "iopub.status.busy": "2022-01-20T00:26:39.216894Z",
     "iopub.status.idle": "2022-01-20T00:26:39.713808Z",
     "shell.execute_reply": "2022-01-20T00:26:39.713341Z"
    },
    "papermill": {
     "duration": 0.526645,
     "end_time": "2022-01-20T00:26:39.713931",
     "exception": false,
     "start_time": "2022-01-20T00:26:39.187286",
     "status": "completed"
    },
    "tags": []
   },
   "outputs": [],
   "source": [
    "train_images = mnist.train_images()\n",
    "train_labels = mnist.train_labels()"
   ]
  },
  {
   "cell_type": "code",
   "execution_count": 6,
   "id": "dceab3a5",
   "metadata": {
    "execution": {
     "iopub.execute_input": "2022-01-20T00:26:39.771381Z",
     "iopub.status.busy": "2022-01-20T00:26:39.770869Z",
     "iopub.status.idle": "2022-01-20T00:26:39.783980Z",
     "shell.execute_reply": "2022-01-20T00:26:39.783570Z"
    },
    "papermill": {
     "duration": 0.044526,
     "end_time": "2022-01-20T00:26:39.784088",
     "exception": false,
     "start_time": "2022-01-20T00:26:39.739562",
     "status": "completed"
    },
    "tags": []
   },
   "outputs": [
    {
     "data": {
      "text/plain": [
       "((60000, 28, 28), (60000,))"
      ]
     },
     "execution_count": 6,
     "metadata": {},
     "output_type": "execute_result"
    }
   ],
   "source": [
    "train_images.shape, train_labels.shape"
   ]
  },
  {
   "cell_type": "code",
   "execution_count": 7,
   "id": "f50dc2bb",
   "metadata": {
    "execution": {
     "iopub.execute_input": "2022-01-20T00:26:39.838060Z",
     "iopub.status.busy": "2022-01-20T00:26:39.837556Z",
     "iopub.status.idle": "2022-01-20T00:26:39.949223Z",
     "shell.execute_reply": "2022-01-20T00:26:39.948705Z"
    },
    "papermill": {
     "duration": 0.139954,
     "end_time": "2022-01-20T00:26:39.949356",
     "exception": false,
     "start_time": "2022-01-20T00:26:39.809402",
     "status": "completed"
    },
    "tags": []
   },
   "outputs": [],
   "source": [
    "test_images = mnist.test_images()\n",
    "test_labels = mnist.test_labels()"
   ]
  },
  {
   "cell_type": "code",
   "execution_count": 8,
   "id": "fc38cf1b",
   "metadata": {
    "execution": {
     "iopub.execute_input": "2022-01-20T00:26:40.007297Z",
     "iopub.status.busy": "2022-01-20T00:26:40.006795Z",
     "iopub.status.idle": "2022-01-20T00:26:40.018018Z",
     "shell.execute_reply": "2022-01-20T00:26:40.017613Z"
    },
    "papermill": {
     "duration": 0.042082,
     "end_time": "2022-01-20T00:26:40.018144",
     "exception": false,
     "start_time": "2022-01-20T00:26:39.976062",
     "status": "completed"
    },
    "tags": []
   },
   "outputs": [
    {
     "data": {
      "text/plain": [
       "((10000, 28, 28), (10000,))"
      ]
     },
     "execution_count": 8,
     "metadata": {},
     "output_type": "execute_result"
    }
   ],
   "source": [
    "test_images.shape, test_labels.shape"
   ]
  },
  {
   "cell_type": "code",
   "execution_count": 9,
   "id": "f9ed8fe0",
   "metadata": {
    "execution": {
     "iopub.execute_input": "2022-01-20T00:26:40.072891Z",
     "iopub.status.busy": "2022-01-20T00:26:40.072387Z",
     "iopub.status.idle": "2022-01-20T00:26:40.207111Z",
     "shell.execute_reply": "2022-01-20T00:26:40.207582Z"
    },
    "papermill": {
     "duration": 0.163872,
     "end_time": "2022-01-20T00:26:40.207729",
     "exception": false,
     "start_time": "2022-01-20T00:26:40.043857",
     "status": "completed"
    },
    "tags": []
   },
   "outputs": [
    {
     "name": "stdout",
     "output_type": "stream",
     "text": [
      "2\n"
     ]
    },
    {
     "data": {
      "text/plain": [
       "<matplotlib.image.AxesImage at 0x7f67442ae4e0>"
      ]
     },
     "execution_count": 9,
     "metadata": {},
     "output_type": "execute_result"
    },
    {
     "data": {
      "image/png": "[encoded data removed]",
      "text/plain": [
       "<Figure size 432x288 with 1 Axes>"
      ]
     },
     "metadata": {
      "needs_background": "light"
     },
     "output_type": "display_data"
    }
   ],
   "source": [
    "image_index = 7776 # You may select anything up to 60,000\n",
    "print(train_labels[image_index]) \n",
    "plt.imshow(train_images[image_index], cmap='Greys')"
   ]
  },
  {
   "cell_type": "markdown",
   "id": "a8d2388d",
   "metadata": {
    "papermill": {
     "duration": 0.027199,
     "end_time": "2022-01-20T00:26:40.262293",
     "exception": false,
     "start_time": "2022-01-20T00:26:40.235094",
     "status": "completed"
    },
    "tags": []
   },
   "source": [
    "## Filter data to get 3 and 8 out"
   ]
  },
  {
   "cell_type": "code",
   "execution_count": 10,
   "id": "776f7fc7",
   "metadata": {
    "execution": {
     "iopub.execute_input": "2022-01-20T00:26:40.323365Z",
     "iopub.status.busy": "2022-01-20T00:26:40.322842Z",
     "iopub.status.idle": "2022-01-20T00:26:40.336097Z",
     "shell.execute_reply": "2022-01-20T00:26:40.335682Z"
    },
    "papermill": {
     "duration": 0.047072,
     "end_time": "2022-01-20T00:26:40.336207",
     "exception": false,
     "start_time": "2022-01-20T00:26:40.289135",
     "status": "completed"
    },
    "tags": []
   },
   "outputs": [],
   "source": [
    "train_filter = np.where((train_labels == 3 ) | (train_labels == 8))\n",
    "test_filter = np.where((test_labels == 3) | (test_labels == 8))\n",
    "X_train, y_train = train_images[train_filter], train_labels[train_filter]\n",
    "X_test, y_test = test_images[test_filter], test_labels[test_filter]"
   ]
  },
  {
   "cell_type": "markdown",
   "id": "948f0b7e",
   "metadata": {
    "papermill": {
     "duration": 0.026621,
     "end_time": "2022-01-20T00:26:40.389704",
     "exception": false,
     "start_time": "2022-01-20T00:26:40.363083",
     "status": "completed"
    },
    "tags": []
   },
   "source": [
    "We normalize the pizel values in the 0 to 1 range"
   ]
  },
  {
   "cell_type": "code",
   "execution_count": 11,
   "id": "ee4c2166",
   "metadata": {
    "execution": {
     "iopub.execute_input": "2022-01-20T00:26:40.447785Z",
     "iopub.status.busy": "2022-01-20T00:26:40.447277Z",
     "iopub.status.idle": "2022-01-20T00:26:40.491485Z",
     "shell.execute_reply": "2022-01-20T00:26:40.490955Z"
    },
    "papermill": {
     "duration": 0.075209,
     "end_time": "2022-01-20T00:26:40.491615",
     "exception": false,
     "start_time": "2022-01-20T00:26:40.416406",
     "status": "completed"
    },
    "tags": []
   },
   "outputs": [],
   "source": [
    "X_train = X_train/255.\n",
    "X_test = X_test/255."
   ]
  },
  {
   "cell_type": "markdown",
   "id": "ddcf4fab",
   "metadata": {
    "papermill": {
     "duration": 0.026905,
     "end_time": "2022-01-20T00:26:40.546050",
     "exception": false,
     "start_time": "2022-01-20T00:26:40.519145",
     "status": "completed"
    },
    "tags": []
   },
   "source": [
    "And setup the labels as 1 (when the digit is 3) and 0 (when the digit is 8)"
   ]
  },
  {
   "cell_type": "code",
   "execution_count": 12,
   "id": "7dc908f2",
   "metadata": {
    "execution": {
     "iopub.execute_input": "2022-01-20T00:26:40.603065Z",
     "iopub.status.busy": "2022-01-20T00:26:40.602549Z",
     "iopub.status.idle": "2022-01-20T00:26:40.615336Z",
     "shell.execute_reply": "2022-01-20T00:26:40.614928Z"
    },
    "papermill": {
     "duration": 0.042564,
     "end_time": "2022-01-20T00:26:40.615443",
     "exception": false,
     "start_time": "2022-01-20T00:26:40.572879",
     "status": "completed"
    },
    "tags": []
   },
   "outputs": [],
   "source": [
    "y_train = 1*(y_train==3)\n",
    "y_test = 1*(y_test==3)"
   ]
  },
  {
   "cell_type": "code",
   "execution_count": 13,
   "id": "01e4e969",
   "metadata": {
    "execution": {
     "iopub.execute_input": "2022-01-20T00:26:40.688087Z",
     "iopub.status.busy": "2022-01-20T00:26:40.687574Z",
     "iopub.status.idle": "2022-01-20T00:26:40.690400Z",
     "shell.execute_reply": "2022-01-20T00:26:40.690790Z"
    },
    "papermill": {
     "duration": 0.048585,
     "end_time": "2022-01-20T00:26:40.690914",
     "exception": false,
     "start_time": "2022-01-20T00:26:40.642329",
     "status": "completed"
    },
    "tags": []
   },
   "outputs": [
    {
     "data": {
      "text/plain": [
       "((11982, 28, 28), (1984, 28, 28))"
      ]
     },
     "execution_count": 13,
     "metadata": {},
     "output_type": "execute_result"
    }
   ],
   "source": [
    "X_train.shape, X_test.shape"
   ]
  },
  {
   "cell_type": "markdown",
   "id": "5ccf3f85",
   "metadata": {
    "papermill": {
     "duration": 0.027035,
     "end_time": "2022-01-20T00:26:40.744826",
     "exception": false,
     "start_time": "2022-01-20T00:26:40.717791",
     "status": "completed"
    },
    "tags": []
   },
   "source": [
    "We reshape the data to flatten the image pixels into a set of features or co-variates:"
   ]
  },
  {
   "cell_type": "code",
   "execution_count": 14,
   "id": "5286a4a3",
   "metadata": {
    "execution": {
     "iopub.execute_input": "2022-01-20T00:26:40.815860Z",
     "iopub.status.busy": "2022-01-20T00:26:40.802341Z",
     "iopub.status.idle": "2022-01-20T00:26:40.820839Z",
     "shell.execute_reply": "2022-01-20T00:26:40.820406Z"
    },
    "papermill": {
     "duration": 0.048942,
     "end_time": "2022-01-20T00:26:40.820943",
     "exception": false,
     "start_time": "2022-01-20T00:26:40.772001",
     "status": "completed"
    },
    "tags": []
   },
   "outputs": [
    {
     "data": {
      "text/plain": [
       "((11982, 784), (1984, 784))"
      ]
     },
     "execution_count": 14,
     "metadata": {},
     "output_type": "execute_result"
    }
   ],
   "source": [
    "X_train = X_train.reshape(X_train.shape[0], -1)\n",
    "X_test = X_test.reshape(X_test.shape[0], -1)\n",
    "X_train.shape, X_test.shape"
   ]
  },
  {
   "cell_type": "code",
   "execution_count": 15,
   "id": "73c5f88a",
   "metadata": {
    "execution": {
     "iopub.execute_input": "2022-01-20T00:26:40.883011Z",
     "iopub.status.busy": "2022-01-20T00:26:40.881638Z",
     "iopub.status.idle": "2022-01-20T00:26:40.898476Z",
     "shell.execute_reply": "2022-01-20T00:26:40.898041Z"
    },
    "papermill": {
     "duration": 0.050241,
     "end_time": "2022-01-20T00:26:40.898585",
     "exception": false,
     "start_time": "2022-01-20T00:26:40.848344",
     "status": "completed"
    },
    "tags": []
   },
   "outputs": [],
   "source": [
    "#Impoting functions from 'Kudzu'\n",
    "from kudzu.model import Model\n",
    "from kudzu.train import Learner\n",
    "from kudzu.optim import GD\n",
    "from kudzu.data import Data, Sampler,Dataloader\n",
    "\n",
    "from kudzu.callbacks import AccCallback\n",
    "from kudzu.callbacks import ClfCallback\n",
    "\n",
    "from kudzu.loss import MSE\n",
    "\n",
    "from kudzu.layer import Sigmoid,Relu\n",
    "from kudzu.layer import Affine"
   ]
  },
  {
   "cell_type": "markdown",
   "id": "bc01172a",
   "metadata": {
    "papermill": {
     "duration": 0.027301,
     "end_time": "2022-01-20T00:26:40.953356",
     "exception": false,
     "start_time": "2022-01-20T00:26:40.926055",
     "status": "completed"
    },
    "tags": []
   },
   "source": [
    "### Let us create a `Config` class, to store important parameters. \n",
    "This class essentially plays the role of a dictionary."
   ]
  },
  {
   "cell_type": "code",
   "execution_count": 16,
   "id": "978281aa",
   "metadata": {
    "execution": {
     "iopub.execute_input": "2022-01-20T00:26:41.015336Z",
     "iopub.status.busy": "2022-01-20T00:26:41.014818Z",
     "iopub.status.idle": "2022-01-20T00:26:41.024691Z",
     "shell.execute_reply": "2022-01-20T00:26:41.024284Z"
    },
    "papermill": {
     "duration": 0.044149,
     "end_time": "2022-01-20T00:26:41.024798",
     "exception": false,
     "start_time": "2022-01-20T00:26:40.980649",
     "status": "completed"
    },
    "tags": []
   },
   "outputs": [],
   "source": [
    "class Config:\n",
    "    pass\n",
    "config = Config()\n",
    "config.lr = 0.001\n",
    "config.num_epochs = 250\n",
    "config.bs = 50"
   ]
  },
  {
   "cell_type": "markdown",
   "id": "1385fa59",
   "metadata": {
    "papermill": {
     "duration": 0.027207,
     "end_time": "2022-01-20T00:26:41.079395",
     "exception": false,
     "start_time": "2022-01-20T00:26:41.052188",
     "status": "completed"
    },
    "tags": []
   },
   "source": [
    "### Running Models with the Training data\n",
    "Details about the network layers:\n",
    "- A first affine layer has 784 inputs and does 100 affine transforms. These are followed by a Relu\n",
    "- A second affine layer has 100 inputs from the 100 activations of the past layer, and does 100 affine transforms. These are followed by a Relu\n",
    "- A third affine layer has 100 activations and does 2 affine transformations to create an embedding for visualization. There is no non-linearity here.\n",
    "- A final \"logistic regression\" which has an affine transform from 2 inputs to 1 output, which is squeezed through a sigmoid.\n"
   ]
  },
  {
   "cell_type": "code",
   "execution_count": 17,
   "id": "2b9c66db",
   "metadata": {
    "execution": {
     "iopub.execute_input": "2022-01-20T00:26:41.140303Z",
     "iopub.status.busy": "2022-01-20T00:26:41.139790Z",
     "iopub.status.idle": "2022-01-20T00:26:41.151520Z",
     "shell.execute_reply": "2022-01-20T00:26:41.151104Z"
    },
    "papermill": {
     "duration": 0.044997,
     "end_time": "2022-01-20T00:26:41.151628",
     "exception": false,
     "start_time": "2022-01-20T00:26:41.106631",
     "status": "completed"
    },
    "tags": []
   },
   "outputs": [],
   "source": [
    "data = Data(X_train, y_train.reshape(-1,1))\n",
    "sampler = Sampler(data, config.bs, shuffle=True)\n",
    "\n",
    "dl = Dataloader(data, sampler)\n",
    "\n",
    "opt = GD(config.lr)\n",
    "loss = MSE()"
   ]
  },
  {
   "cell_type": "code",
   "execution_count": 18,
   "id": "b275e4c2",
   "metadata": {
    "execution": {
     "iopub.execute_input": "2022-01-20T00:26:41.212418Z",
     "iopub.status.busy": "2022-01-20T00:26:41.211911Z",
     "iopub.status.idle": "2022-01-20T00:26:41.222469Z",
     "shell.execute_reply": "2022-01-20T00:26:41.222862Z"
    },
    "papermill": {
     "duration": 0.043962,
     "end_time": "2022-01-20T00:26:41.222980",
     "exception": false,
     "start_time": "2022-01-20T00:26:41.179018",
     "status": "completed"
    },
    "tags": []
   },
   "outputs": [],
   "source": [
    "training_data_x = X_train\n",
    "testing_data_x = X_test\n",
    "training_data_y = y_train.reshape(-1,1)\n",
    "testing_data_y = y_test.reshape(-1,1)"
   ]
  },
  {
   "cell_type": "code",
   "execution_count": 19,
   "id": "76951160",
   "metadata": {
    "execution": {
     "iopub.execute_input": "2022-01-20T00:26:41.281538Z",
     "iopub.status.busy": "2022-01-20T00:26:41.281027Z",
     "iopub.status.idle": "2022-01-20T00:26:41.296594Z",
     "shell.execute_reply": "2022-01-20T00:26:41.296167Z"
    },
    "papermill": {
     "duration": 0.046496,
     "end_time": "2022-01-20T00:26:41.296696",
     "exception": false,
     "start_time": "2022-01-20T00:26:41.250200",
     "status": "completed"
    },
    "tags": []
   },
   "outputs": [
    {
     "name": "stdout",
     "output_type": "stream",
     "text": [
      "xavier\n",
      "xavier\n",
      "xavier\n",
      "xavier\n",
      "xavier\n"
     ]
    }
   ],
   "source": [
    "layers = [Affine(\"first\", 784, 100), Relu(\"first\"), Affine(\"second\", 100, 100), Relu(\"second\"), Affine(\"third\", 100, 2), Affine(\"last\", 2, 1), Sigmoid(\"last\")]\n",
    "model_nn = Model(layers)\n",
    "model_lr = Model([Affine(\"logits\", 784, 1), Sigmoid(\"sigmoid\")])"
   ]
  },
  {
   "cell_type": "code",
   "execution_count": 20,
   "id": "6eede77a",
   "metadata": {
    "execution": {
     "iopub.execute_input": "2022-01-20T00:26:41.355784Z",
     "iopub.status.busy": "2022-01-20T00:26:41.355276Z",
     "iopub.status.idle": "2022-01-20T00:26:41.367364Z",
     "shell.execute_reply": "2022-01-20T00:26:41.366955Z"
    },
    "papermill": {
     "duration": 0.042922,
     "end_time": "2022-01-20T00:26:41.367467",
     "exception": false,
     "start_time": "2022-01-20T00:26:41.324545",
     "status": "completed"
    },
    "tags": []
   },
   "outputs": [],
   "source": [
    "nn_learner = Learner(loss, model_nn, opt, config.num_epochs)\n",
    "acc_nn = ClfCallback(nn_learner, config.bs, training_data_x , testing_data_x, training_data_y, testing_data_y)\n",
    "nn_learner.set_callbacks([acc_nn])"
   ]
  },
  {
   "cell_type": "code",
   "execution_count": 21,
   "id": "877b6cc7",
   "metadata": {
    "execution": {
     "iopub.execute_input": "2022-01-20T00:26:41.430899Z",
     "iopub.status.busy": "2022-01-20T00:26:41.430391Z",
     "iopub.status.idle": "2022-01-20T00:26:41.439339Z",
     "shell.execute_reply": "2022-01-20T00:26:41.438913Z"
    },
    "papermill": {
     "duration": 0.04442,
     "end_time": "2022-01-20T00:26:41.439437",
     "exception": false,
     "start_time": "2022-01-20T00:26:41.395017",
     "status": "completed"
    },
    "tags": []
   },
   "outputs": [],
   "source": [
    "lr_learner = Learner(loss, model_lr, opt, config.num_epochs)\n",
    "acc_lr = ClfCallback(lr_learner, config.bs, training_data_x , testing_data_x, training_data_y, testing_data_y)\n",
    "lr_learner.set_callbacks([acc_lr])"
   ]
  },
  {
   "cell_type": "code",
   "execution_count": 22,
   "id": "d9b133c3",
   "metadata": {
    "execution": {
     "iopub.execute_input": "2022-01-20T00:26:41.497642Z",
     "iopub.status.busy": "2022-01-20T00:26:41.497141Z",
     "iopub.status.idle": "2022-01-20T00:27:56.128283Z",
     "shell.execute_reply": "2022-01-20T00:27:56.129017Z"
    },
    "papermill": {
     "duration": 74.662049,
     "end_time": "2022-01-20T00:27:56.129165",
     "exception": false,
     "start_time": "2022-01-20T00:26:41.467116",
     "status": "completed"
    },
    "tags": []
   },
   "outputs": [
    {
     "name": "stdout",
     "output_type": "stream",
     "text": [
      "Epoch 0, Loss 0.2491\n",
      "Training Accuracy: 0.6168, Testing Accuracy: 0.5907\n",
      "\n"
     ]
    },
    {
     "name": "stdout",
     "output_type": "stream",
     "text": [
      "Epoch 10, Loss 0.0947\n",
      "Training Accuracy: 0.9150, Testing Accuracy: 0.9274\n",
      "\n"
     ]
    },
    {
     "name": "stdout",
     "output_type": "stream",
     "text": [
      "Epoch 20, Loss 0.0564\n",
      "Training Accuracy: 0.9433, Testing Accuracy: 0.9531\n",
      "\n"
     ]
    },
    {
     "name": "stdout",
     "output_type": "stream",
     "text": [
      "Epoch 30, Loss 0.0437\n",
      "Training Accuracy: 0.9528, Testing Accuracy: 0.9602\n",
      "\n"
     ]
    },
    {
     "name": "stdout",
     "output_type": "stream",
     "text": [
      "Epoch 40, Loss 0.0375\n",
      "Training Accuracy: 0.9586, Testing Accuracy: 0.9662\n",
      "\n"
     ]
    },
    {
     "name": "stdout",
     "output_type": "stream",
     "text": [
      "Epoch 50, Loss 0.0337\n",
      "Training Accuracy: 0.9625, Testing Accuracy: 0.9672\n",
      "\n"
     ]
    },
    {
     "name": "stdout",
     "output_type": "stream",
     "text": [
      "Epoch 60, Loss 0.0312\n",
      "Training Accuracy: 0.9644, Testing Accuracy: 0.9688\n",
      "\n"
     ]
    },
    {
     "name": "stdout",
     "output_type": "stream",
     "text": [
      "Epoch 70, Loss 0.0293\n",
      "Training Accuracy: 0.9658, Testing Accuracy: 0.9723\n",
      "\n"
     ]
    },
    {
     "name": "stdout",
     "output_type": "stream",
     "text": [
      "Epoch 80, Loss 0.0279\n",
      "Training Accuracy: 0.9678, Testing Accuracy: 0.9733\n",
      "\n"
     ]
    },
    {
     "name": "stdout",
     "output_type": "stream",
     "text": [
      "Epoch 90, Loss 0.0267\n",
      "Training Accuracy: 0.9687, Testing Accuracy: 0.9748\n",
      "\n"
     ]
    },
    {
     "name": "stdout",
     "output_type": "stream",
     "text": [
      "Epoch 100, Loss 0.0257\n",
      "Training Accuracy: 0.9698, Testing Accuracy: 0.9753\n",
      "\n"
     ]
    },
    {
     "name": "stdout",
     "output_type": "stream",
     "text": [
      "Epoch 110, Loss 0.0248\n",
      "Training Accuracy: 0.9710, Testing Accuracy: 0.9753\n",
      "\n"
     ]
    },
    {
     "name": "stdout",
     "output_type": "stream",
     "text": [
      "Epoch 120, Loss 0.024\n",
      "Training Accuracy: 0.9716, Testing Accuracy: 0.9748\n",
      "\n"
     ]
    },
    {
     "name": "stdout",
     "output_type": "stream",
     "text": [
      "Epoch 130, Loss 0.0233\n",
      "Training Accuracy: 0.9729, Testing Accuracy: 0.9743\n",
      "\n"
     ]
    },
    {
     "name": "stdout",
     "output_type": "stream",
     "text": [
      "Epoch 140, Loss 0.0226\n",
      "Training Accuracy: 0.9738, Testing Accuracy: 0.9743\n",
      "\n"
     ]
    },
    {
     "name": "stdout",
     "output_type": "stream",
     "text": [
      "Epoch 150, Loss 0.022\n",
      "Training Accuracy: 0.9745, Testing Accuracy: 0.9748\n",
      "\n"
     ]
    },
    {
     "name": "stdout",
     "output_type": "stream",
     "text": [
      "Epoch 160, Loss 0.0214\n",
      "Training Accuracy: 0.9753, Testing Accuracy: 0.9753\n",
      "\n"
     ]
    },
    {
     "name": "stdout",
     "output_type": "stream",
     "text": [
      "Epoch 170, Loss 0.0209\n",
      "Training Accuracy: 0.9756, Testing Accuracy: 0.9743\n",
      "\n"
     ]
    },
    {
     "name": "stdout",
     "output_type": "stream",
     "text": [
      "Epoch 180, Loss 0.0204\n",
      "Training Accuracy: 0.9760, Testing Accuracy: 0.9753\n",
      "\n"
     ]
    },
    {
     "name": "stdout",
     "output_type": "stream",
     "text": [
      "Epoch 190, Loss 0.0199\n",
      "Training Accuracy: 0.9772, Testing Accuracy: 0.9753\n",
      "\n"
     ]
    },
    {
     "name": "stdout",
     "output_type": "stream",
     "text": [
      "Epoch 200, Loss 0.0194\n",
      "Training Accuracy: 0.9781, Testing Accuracy: 0.9753\n",
      "\n"
     ]
    },
    {
     "name": "stdout",
     "output_type": "stream",
     "text": [
      "Epoch 210, Loss 0.0189\n",
      "Training Accuracy: 0.9787, Testing Accuracy: 0.9753\n",
      "\n"
     ]
    },
    {
     "name": "stdout",
     "output_type": "stream",
     "text": [
      "Epoch 220, Loss 0.0185\n",
      "Training Accuracy: 0.9795, Testing Accuracy: 0.9758\n",
      "\n"
     ]
    },
    {
     "name": "stdout",
     "output_type": "stream",
     "text": [
      "Epoch 230, Loss 0.0181\n",
      "Training Accuracy: 0.9803, Testing Accuracy: 0.9758\n",
      "\n"
     ]
    },
    {
     "name": "stdout",
     "output_type": "stream",
     "text": [
      "Epoch 240, Loss 0.0177\n",
      "Training Accuracy: 0.9808, Testing Accuracy: 0.9768\n",
      "\n"
     ]
    },
    {
     "data": {
      "text/plain": [
       "0.0344018556902782"
      ]
     },
     "execution_count": 22,
     "metadata": {},
     "output_type": "execute_result"
    }
   ],
   "source": [
    "nn_learner.train_loop(dl)"
   ]
  },
  {
   "cell_type": "code",
   "execution_count": 23,
   "id": "e0163366",
   "metadata": {
    "execution": {
     "iopub.execute_input": "2022-01-20T00:27:56.207878Z",
     "iopub.status.busy": "2022-01-20T00:27:56.207356Z",
     "iopub.status.idle": "2022-01-20T00:28:09.215596Z",
     "shell.execute_reply": "2022-01-20T00:28:09.216316Z"
    },
    "papermill": {
     "duration": 13.052153,
     "end_time": "2022-01-20T00:28:09.216461",
     "exception": false,
     "start_time": "2022-01-20T00:27:56.164308",
     "status": "completed"
    },
    "tags": []
   },
   "outputs": [
    {
     "name": "stdout",
     "output_type": "stream",
     "text": [
      "Epoch 0, Loss 0.2594\n",
      "Training Accuracy: 0.6153, Testing Accuracy: 0.6174\n",
      "\n"
     ]
    },
    {
     "name": "stdout",
     "output_type": "stream",
     "text": [
      "Epoch 10, Loss 0.1019\n",
      "Training Accuracy: 0.9156, Testing Accuracy: 0.9289\n",
      "\n"
     ]
    },
    {
     "name": "stdout",
     "output_type": "stream",
     "text": [
      "Epoch 20, Loss 0.0783\n",
      "Training Accuracy: 0.9316, Testing Accuracy: 0.9430\n",
      "\n"
     ]
    },
    {
     "name": "stdout",
     "output_type": "stream",
     "text": [
      "Epoch 30, Loss 0.0675\n",
      "Training Accuracy: 0.9371, Testing Accuracy: 0.9496\n",
      "\n"
     ]
    },
    {
     "name": "stdout",
     "output_type": "stream",
     "text": [
      "Epoch 40, Loss 0.061\n",
      "Training Accuracy: 0.9426, Testing Accuracy: 0.9551\n",
      "\n"
     ]
    },
    {
     "name": "stdout",
     "output_type": "stream",
     "text": [
      "Epoch 50, Loss 0.0566\n",
      "Training Accuracy: 0.9458, Testing Accuracy: 0.9582\n",
      "\n"
     ]
    },
    {
     "name": "stdout",
     "output_type": "stream",
     "text": [
      "Epoch 60, Loss 0.0534\n",
      "Training Accuracy: 0.9483, Testing Accuracy: 0.9587\n",
      "\n"
     ]
    },
    {
     "name": "stdout",
     "output_type": "stream",
     "text": [
      "Epoch 70, Loss 0.0509\n",
      "Training Accuracy: 0.9499, Testing Accuracy: 0.9597\n",
      "\n"
     ]
    },
    {
     "name": "stdout",
     "output_type": "stream",
     "text": [
      "Epoch 80, Loss 0.0489\n",
      "Training Accuracy: 0.9513, Testing Accuracy: 0.9617\n",
      "\n"
     ]
    },
    {
     "name": "stdout",
     "output_type": "stream",
     "text": [
      "Epoch 90, Loss 0.0472\n",
      "Training Accuracy: 0.9525, Testing Accuracy: 0.9632\n",
      "\n"
     ]
    },
    {
     "name": "stdout",
     "output_type": "stream",
     "text": [
      "Epoch 100, Loss 0.0458\n",
      "Training Accuracy: 0.9539, Testing Accuracy: 0.9642\n",
      "\n"
     ]
    },
    {
     "name": "stdout",
     "output_type": "stream",
     "text": [
      "Epoch 110, Loss 0.0446\n",
      "Training Accuracy: 0.9547, Testing Accuracy: 0.9657\n",
      "\n"
     ]
    },
    {
     "name": "stdout",
     "output_type": "stream",
     "text": [
      "Epoch 120, Loss 0.0436\n",
      "Training Accuracy: 0.9554, Testing Accuracy: 0.9657\n",
      "\n"
     ]
    },
    {
     "name": "stdout",
     "output_type": "stream",
     "text": [
      "Epoch 130, Loss 0.0427\n",
      "Training Accuracy: 0.9563, Testing Accuracy: 0.9667\n",
      "\n"
     ]
    },
    {
     "name": "stdout",
     "output_type": "stream",
     "text": [
      "Epoch 140, Loss 0.0418\n",
      "Training Accuracy: 0.9569, Testing Accuracy: 0.9667\n",
      "\n"
     ]
    },
    {
     "name": "stdout",
     "output_type": "stream",
     "text": [
      "Epoch 150, Loss 0.0411\n",
      "Training Accuracy: 0.9575, Testing Accuracy: 0.9677\n",
      "\n"
     ]
    },
    {
     "name": "stdout",
     "output_type": "stream",
     "text": [
      "Epoch 160, Loss 0.0404\n",
      "Training Accuracy: 0.9582, Testing Accuracy: 0.9677\n",
      "\n"
     ]
    },
    {
     "name": "stdout",
     "output_type": "stream",
     "text": [
      "Epoch 170, Loss 0.0398\n",
      "Training Accuracy: 0.9587, Testing Accuracy: 0.9677\n",
      "\n"
     ]
    },
    {
     "name": "stdout",
     "output_type": "stream",
     "text": [
      "Epoch 180, Loss 0.0393\n",
      "Training Accuracy: 0.9589, Testing Accuracy: 0.9682\n",
      "\n"
     ]
    },
    {
     "name": "stdout",
     "output_type": "stream",
     "text": [
      "Epoch 190, Loss 0.0388\n",
      "Training Accuracy: 0.9598, Testing Accuracy: 0.9672\n",
      "\n"
     ]
    },
    {
     "name": "stdout",
     "output_type": "stream",
     "text": [
      "Epoch 200, Loss 0.0383\n",
      "Training Accuracy: 0.9603, Testing Accuracy: 0.9672\n",
      "\n"
     ]
    },
    {
     "name": "stdout",
     "output_type": "stream",
     "text": [
      "Epoch 210, Loss 0.0379\n",
      "Training Accuracy: 0.9609, Testing Accuracy: 0.9672\n",
      "\n"
     ]
    },
    {
     "name": "stdout",
     "output_type": "stream",
     "text": [
      "Epoch 220, Loss 0.0375\n",
      "Training Accuracy: 0.9610, Testing Accuracy: 0.9677\n",
      "\n"
     ]
    },
    {
     "name": "stdout",
     "output_type": "stream",
     "text": [
      "Epoch 230, Loss 0.0371\n",
      "Training Accuracy: 0.9613, Testing Accuracy: 0.9672\n",
      "\n"
     ]
    },
    {
     "name": "stdout",
     "output_type": "stream",
     "text": [
      "Epoch 240, Loss 0.0367\n",
      "Training Accuracy: 0.9614, Testing Accuracy: 0.9672\n",
      "\n"
     ]
    },
    {
     "data": {
      "text/plain": [
       "0.010784317780771178"
      ]
     },
     "execution_count": 23,
     "metadata": {},
     "output_type": "execute_result"
    }
   ],
   "source": [
    "lr_learner.train_loop(dl)"
   ]
  },
  {
   "cell_type": "code",
   "execution_count": 24,
   "id": "ca410940",
   "metadata": {
    "execution": {
     "iopub.execute_input": "2022-01-20T00:28:09.314933Z",
     "iopub.status.busy": "2022-01-20T00:28:09.314352Z",
     "iopub.status.idle": "2022-01-20T00:28:09.541487Z",
     "shell.execute_reply": "2022-01-20T00:28:09.541961Z"
    },
    "papermill": {
     "duration": 0.283695,
     "end_time": "2022-01-20T00:28:09.542129",
     "exception": false,
     "start_time": "2022-01-20T00:28:09.258434",
     "status": "completed"
    },
    "tags": []
   },
   "outputs": [
    {
     "data": {
      "text/plain": [
       "<matplotlib.legend.Legend at 0x7f673765dc50>"
      ]
     },
     "execution_count": 24,
     "metadata": {},
     "output_type": "execute_result"
    },
    {
     "data": {
      "image/png": "[encoded data removed]",
      "text/plain": [
       "<Figure size 1080x720 with 1 Axes>"
      ]
     },
     "metadata": {
      "needs_background": "light"
     },
     "output_type": "display_data"
    }
   ],
   "source": [
    "#comparing the results of NN and LR\n",
    "plt.figure(figsize=(15,10))\n",
    "\n",
    "# Neural Network plots\n",
    "plt.plot(acc_nn.accuracies, 'r-', label = \"Training Accuracies - NN\")\n",
    "plt.plot(acc_nn.test_accuracies, 'g-', label = \"Testing Accuracies - NN\")\n",
    "\n",
    "# Logistic Regression plots\n",
    "plt.plot(acc_lr.accuracies, 'k-', label = \"Training Accuracies - LR\")\n",
    "plt.plot(acc_lr.test_accuracies, 'b-', label = \"Testing Accuracies - LR\")\n",
    "plt.legend()"
   ]
  },
  {
   "cell_type": "markdown",
   "id": "80dfb35c",
   "metadata": {
    "papermill": {
     "duration": 0.042645,
     "end_time": "2022-01-20T00:28:09.627793",
     "exception": false,
     "start_time": "2022-01-20T00:28:09.585148",
     "status": "completed"
    },
    "tags": []
   },
   "source": [
    "#### Plotting the outputs of this layer of the NN.\n"
   ]
  },
  {
   "cell_type": "code",
   "execution_count": 25,
   "id": "45eb2ff5",
   "metadata": {
    "execution": {
     "iopub.execute_input": "2022-01-20T00:28:09.717003Z",
     "iopub.status.busy": "2022-01-20T00:28:09.716478Z",
     "iopub.status.idle": "2022-01-20T00:28:09.736806Z",
     "shell.execute_reply": "2022-01-20T00:28:09.737234Z"
    },
    "papermill": {
     "duration": 0.066856,
     "end_time": "2022-01-20T00:28:09.737372",
     "exception": false,
     "start_time": "2022-01-20T00:28:09.670516",
     "status": "completed"
    },
    "tags": []
   },
   "outputs": [],
   "source": [
    "new_model = Model(layers[:-2])\n",
    "testing_plot = new_model(testing_data_x)"
   ]
  },
  {
   "cell_type": "code",
   "execution_count": 26,
   "id": "4c0a5485",
   "metadata": {
    "execution": {
     "iopub.execute_input": "2022-01-20T00:28:09.831345Z",
     "iopub.status.busy": "2022-01-20T00:28:09.830816Z",
     "iopub.status.idle": "2022-01-20T00:28:10.064084Z",
     "shell.execute_reply": "2022-01-20T00:28:10.063605Z"
    },
    "papermill": {
     "duration": 0.282872,
     "end_time": "2022-01-20T00:28:10.064199",
     "exception": false,
     "start_time": "2022-01-20T00:28:09.781327",
     "status": "completed"
    },
    "tags": []
   },
   "outputs": [
    {
     "data": {
      "text/plain": [
       "Text(0.5, 1.0, 'Outputs')"
      ]
     },
     "execution_count": 26,
     "metadata": {},
     "output_type": "execute_result"
    },
    {
     "data": {
      "image/png": "[encoded data removed]",
      "text/plain": [
       "<Figure size 576x504 with 1 Axes>"
      ]
     },
     "metadata": {
      "needs_background": "light"
     },
     "output_type": "display_data"
    }
   ],
   "source": [
    "# Plotting the scatter plot of points and color coding by class\n",
    "plt.figure(figsize=(8,7))\n",
    "plt.scatter(testing_plot[:,0], testing_plot[:,1], alpha = 0.1, c = y_test.ravel());\n",
    "plt.title('Outputs')"
   ]
  },
  {
   "cell_type": "markdown",
   "id": "a74fcf8f",
   "metadata": {
    "papermill": {
     "duration": 0.046049,
     "end_time": "2022-01-20T00:28:10.156779",
     "exception": false,
     "start_time": "2022-01-20T00:28:10.110730",
     "status": "completed"
    },
    "tags": []
   },
   "source": [
    "Probability contours"
   ]
  },
  {
   "cell_type": "code",
   "execution_count": 27,
   "id": "d0afc8e3",
   "metadata": {
    "execution": {
     "iopub.execute_input": "2022-01-20T00:28:10.253828Z",
     "iopub.status.busy": "2022-01-20T00:28:10.253294Z",
     "iopub.status.idle": "2022-01-20T00:28:10.265068Z",
     "shell.execute_reply": "2022-01-20T00:28:10.264650Z"
    },
    "papermill": {
     "duration": 0.061309,
     "end_time": "2022-01-20T00:28:10.265179",
     "exception": false,
     "start_time": "2022-01-20T00:28:10.203870",
     "status": "completed"
    },
    "tags": []
   },
   "outputs": [],
   "source": [
    "model_prob = Model(layers[-2:]) "
   ]
  },
  {
   "cell_type": "code",
   "execution_count": 28,
   "id": "9b96e238",
   "metadata": {
    "execution": {
     "iopub.execute_input": "2022-01-20T00:28:10.389934Z",
     "iopub.status.busy": "2022-01-20T00:28:10.388873Z",
     "iopub.status.idle": "2022-01-20T00:28:10.402509Z",
     "shell.execute_reply": "2022-01-20T00:28:10.402894Z"
    },
    "papermill": {
     "duration": 0.091564,
     "end_time": "2022-01-20T00:28:10.403019",
     "exception": false,
     "start_time": "2022-01-20T00:28:10.311455",
     "status": "completed"
    },
    "tags": []
   },
   "outputs": [],
   "source": [
    "#creating the x and y ranges according to the above generated plot.\n",
    "x_range = np.linspace(-4, 1, 100) \n",
    "y_range = np.linspace(-6, 6, 100) \n",
    "x_grid, y_grid = np.meshgrid(x_range, y_range) # x_grid and y_grig are of size 100 X 100\n",
    "\n",
    "# converting x_grid and y_grid to continuous arrays\n",
    "x_gridflat = np.ravel(x_grid)\n",
    "y_gridflat = np.ravel(y_grid)\n",
    "\n",
    "# The last layer of the current model takes two columns as input. Hence transpose of np.vstack() is required.\n",
    "X = np.vstack((x_gridflat, y_gridflat)).T\n",
    "\n",
    "prob_contour = model_prob(X).reshape(100,100) "
   ]
  },
  {
   "cell_type": "code",
   "execution_count": 29,
   "id": "da72499a",
   "metadata": {
    "execution": {
     "iopub.execute_input": "2022-01-20T00:28:10.504688Z",
     "iopub.status.busy": "2022-01-20T00:28:10.504151Z",
     "iopub.status.idle": "2022-01-20T00:28:10.747209Z",
     "shell.execute_reply": "2022-01-20T00:28:10.746752Z"
    },
    "papermill": {
     "duration": 0.293067,
     "end_time": "2022-01-20T00:28:10.747325",
     "exception": false,
     "start_time": "2022-01-20T00:28:10.454258",
     "status": "completed"
    },
    "tags": []
   },
   "outputs": [
    {
     "data": {
      "image/png": "[encoded data removed]",
      "text/plain": [
       "<Figure size 720x648 with 1 Axes>"
      ]
     },
     "metadata": {
      "needs_background": "light"
     },
     "output_type": "display_data"
    }
   ],
   "source": [
    "plt.figure(figsize=(10,9))\n",
    "plt.scatter(testing_plot[:,0], testing_plot[:,1], alpha = 0.1, c = y_test.ravel())\n",
    "contours = plt.contour(x_grid,y_grid,prob_contour)\n",
    "plt.title('Probability Contours')\n",
    "plt.clabel(contours, inline = True );"
   ]
  },
  {
   "cell_type": "code",
   "execution_count": null,
   "id": "e81b4ac7",
   "metadata": {
    "papermill": {
     "duration": 0.049043,
     "end_time": "2022-01-20T00:28:10.845802",
     "exception": false,
     "start_time": "2022-01-20T00:28:10.796759",
     "status": "completed"
    },
    "tags": []
   },
   "outputs": [],
   "source": []
  }
 ],
 "metadata": {
  "kernelspec": {
   "display_name": "Python 3",
   "language": "python",
   "name": "python3"
  },
  "language_info": {
   "codemirror_mode": {
    "name": "ipython",
    "version": 3
   },
   "file_extension": ".py",
   "mimetype": "text/x-python",
   "name": "python",
   "nbconvert_exporter": "python",
   "pygments_lexer": "ipython3",
   "version": "3.6.15"
  },
  "papermill": {
   "default_parameters": {},
   "duration": 95.621956,
   "end_time": "2022-01-20T00:28:11.212548",
   "environment_variables": {},
   "exception": null,
   "input_path": "2020-08-11-part2.ipynb",
   "output_path": "2020-08-11-part2.ipynb",
   "parameters": {},
   "start_time": "2022-01-20T00:26:35.590592",
   "version": "2.3.3"
  }
 },
 "nbformat": 4,
 "nbformat_minor": 5
}