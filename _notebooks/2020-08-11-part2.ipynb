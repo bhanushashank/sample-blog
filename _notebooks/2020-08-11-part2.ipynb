{
 "cells": [
  {
   "cell_type": "markdown",
   "id": "98380cd3",
   "metadata": {
    "papermill": {
     "duration": 0.029269,
     "end_time": "2022-09-11T00:43:47.740484",
     "exception": false,
     "start_time": "2022-09-11T00:43:47.711215",
     "status": "completed"
    },
    "tags": []
   },
   "source": [
    "# Distinguish Your Own Digits (DYOD)"
   ]
  },
  {
   "cell_type": "markdown",
   "id": "ef31240d",
   "metadata": {
    "papermill": {
     "duration": 0.023339,
     "end_time": "2022-09-11T00:43:47.787845",
     "exception": false,
     "start_time": "2022-09-11T00:43:47.764506",
     "status": "completed"
    },
    "tags": []
   },
   "source": [
    "You are going to write a classifier that distinguishes between the number 3 and number 8."
   ]
  },
  {
   "cell_type": "code",
   "execution_count": 1,
   "id": "b15c8646",
   "metadata": {
    "execution": {
     "iopub.execute_input": "2022-09-11T00:43:47.855641Z",
     "iopub.status.busy": "2022-09-11T00:43:47.844474Z",
     "iopub.status.idle": "2022-09-11T00:43:47.858337Z",
     "shell.execute_reply": "2022-09-11T00:43:47.858787Z"
    },
    "papermill": {
     "duration": 0.047891,
     "end_time": "2022-09-11T00:43:47.858918",
     "exception": false,
     "start_time": "2022-09-11T00:43:47.811027",
     "status": "completed"
    },
    "tags": []
   },
   "outputs": [],
   "source": [
    "%load_ext autoreload\n",
    "%autoreload 2"
   ]
  },
  {
   "cell_type": "code",
   "execution_count": 2,
   "id": "22ef38dc",
   "metadata": {
    "execution": {
     "iopub.execute_input": "2022-09-11T00:43:47.912165Z",
     "iopub.status.busy": "2022-09-11T00:43:47.908928Z",
     "iopub.status.idle": "2022-09-11T00:43:48.429238Z",
     "shell.execute_reply": "2022-09-11T00:43:48.428719Z"
    },
    "papermill": {
     "duration": 0.546995,
     "end_time": "2022-09-11T00:43:48.429358",
     "exception": false,
     "start_time": "2022-09-11T00:43:47.882363",
     "status": "completed"
    },
    "tags": []
   },
   "outputs": [],
   "source": [
    "%matplotlib inline\n",
    "import numpy as np\n",
    "import matplotlib.pyplot as plt\n",
    "import pandas as pd"
   ]
  },
  {
   "cell_type": "markdown",
   "id": "ba036198",
   "metadata": {
    "papermill": {
     "duration": 0.023445,
     "end_time": "2022-09-11T00:43:48.476576",
     "exception": false,
     "start_time": "2022-09-11T00:43:48.453131",
     "status": "completed"
    },
    "tags": []
   },
   "source": [
    "From the command line run `pip install mnist`. This is a library that will help you bring down the mnist dataset. If you run this from a notebook, you need to put  `!pip install mnist` in a cell by itself."
   ]
  },
  {
   "cell_type": "code",
   "execution_count": 3,
   "id": "bb6ad8a1",
   "metadata": {
    "execution": {
     "iopub.execute_input": "2022-09-11T00:43:48.527028Z",
     "iopub.status.busy": "2022-09-11T00:43:48.526460Z",
     "iopub.status.idle": "2022-09-11T00:43:50.137674Z",
     "shell.execute_reply": "2022-09-11T00:43:50.137113Z"
    },
    "papermill": {
     "duration": 1.637739,
     "end_time": "2022-09-11T00:43:50.137795",
     "exception": false,
     "start_time": "2022-09-11T00:43:48.500056",
     "status": "completed"
    },
    "tags": []
   },
   "outputs": [
    {
     "name": "stdout",
     "output_type": "stream",
     "text": [
      "Collecting mnist\r\n"
     ]
    },
    {
     "name": "stdout",
     "output_type": "stream",
     "text": [
      "  Downloading mnist-0.2.2-py2.py3-none-any.whl (3.5 kB)\r\n",
      "Requirement already satisfied: numpy in /opt/hostedtoolcache/Python/3.6.15/x64/lib/python3.6/site-packages (from mnist) (1.19.5)\r\n"
     ]
    },
    {
     "name": "stdout",
     "output_type": "stream",
     "text": [
      "Installing collected packages: mnist\r\n"
     ]
    },
    {
     "name": "stdout",
     "output_type": "stream",
     "text": [
      "Successfully installed mnist-0.2.2\r\n"
     ]
    }
   ],
   "source": [
    "!pip install mnist"
   ]
  },
  {
   "cell_type": "markdown",
   "id": "69df9c9a",
   "metadata": {
    "papermill": {
     "duration": 0.024424,
     "end_time": "2022-09-11T00:43:50.186968",
     "exception": false,
     "start_time": "2022-09-11T00:43:50.162544",
     "status": "completed"
    },
    "tags": []
   },
   "source": [
    "## Preparing the Data"
   ]
  },
  {
   "cell_type": "code",
   "execution_count": 4,
   "id": "7f69d806",
   "metadata": {
    "execution": {
     "iopub.execute_input": "2022-09-11T00:43:50.247918Z",
     "iopub.status.busy": "2022-09-11T00:43:50.241662Z",
     "iopub.status.idle": "2022-09-11T00:43:50.255632Z",
     "shell.execute_reply": "2022-09-11T00:43:50.255164Z"
    },
    "papermill": {
     "duration": 0.044393,
     "end_time": "2022-09-11T00:43:50.255733",
     "exception": false,
     "start_time": "2022-09-11T00:43:50.211340",
     "status": "completed"
    },
    "tags": []
   },
   "outputs": [],
   "source": [
    "import mnist"
   ]
  },
  {
   "cell_type": "code",
   "execution_count": 5,
   "id": "a411e44f",
   "metadata": {
    "execution": {
     "iopub.execute_input": "2022-09-11T00:43:50.307897Z",
     "iopub.status.busy": "2022-09-11T00:43:50.307325Z",
     "iopub.status.idle": "2022-09-11T00:43:50.917702Z",
     "shell.execute_reply": "2022-09-11T00:43:50.916953Z"
    },
    "papermill": {
     "duration": 0.637629,
     "end_time": "2022-09-11T00:43:50.917830",
     "exception": false,
     "start_time": "2022-09-11T00:43:50.280201",
     "status": "completed"
    },
    "tags": []
   },
   "outputs": [],
   "source": [
    "train_images = mnist.train_images()\n",
    "train_labels = mnist.train_labels()"
   ]
  },
  {
   "cell_type": "code",
   "execution_count": 6,
   "id": "dceab3a5",
   "metadata": {
    "execution": {
     "iopub.execute_input": "2022-09-11T00:43:50.984409Z",
     "iopub.status.busy": "2022-09-11T00:43:50.976602Z",
     "iopub.status.idle": "2022-09-11T00:43:50.987549Z",
     "shell.execute_reply": "2022-09-11T00:43:50.987968Z"
    },
    "papermill": {
     "duration": 0.044696,
     "end_time": "2022-09-11T00:43:50.988090",
     "exception": false,
     "start_time": "2022-09-11T00:43:50.943394",
     "status": "completed"
    },
    "tags": []
   },
   "outputs": [
    {
     "data": {
      "text/plain": [
       "((60000, 28, 28), (60000,))"
      ]
     },
     "execution_count": 6,
     "metadata": {},
     "output_type": "execute_result"
    }
   ],
   "source": [
    "train_images.shape, train_labels.shape"
   ]
  },
  {
   "cell_type": "code",
   "execution_count": 7,
   "id": "f50dc2bb",
   "metadata": {
    "execution": {
     "iopub.execute_input": "2022-09-11T00:43:51.042690Z",
     "iopub.status.busy": "2022-09-11T00:43:51.040152Z",
     "iopub.status.idle": "2022-09-11T00:43:51.195981Z",
     "shell.execute_reply": "2022-09-11T00:43:51.195344Z"
    },
    "papermill": {
     "duration": 0.183386,
     "end_time": "2022-09-11T00:43:51.196122",
     "exception": false,
     "start_time": "2022-09-11T00:43:51.012736",
     "status": "completed"
    },
    "tags": []
   },
   "outputs": [],
   "source": [
    "test_images = mnist.test_images()\n",
    "test_labels = mnist.test_labels()"
   ]
  },
  {
   "cell_type": "code",
   "execution_count": 8,
   "id": "fc38cf1b",
   "metadata": {
    "execution": {
     "iopub.execute_input": "2022-09-11T00:43:51.261704Z",
     "iopub.status.busy": "2022-09-11T00:43:51.249450Z",
     "iopub.status.idle": "2022-09-11T00:43:51.267539Z",
     "shell.execute_reply": "2022-09-11T00:43:51.266488Z"
    },
    "papermill": {
     "duration": 0.045979,
     "end_time": "2022-09-11T00:43:51.267647",
     "exception": false,
     "start_time": "2022-09-11T00:43:51.221668",
     "status": "completed"
    },
    "tags": []
   },
   "outputs": [
    {
     "data": {
      "text/plain": [
       "((10000, 28, 28), (10000,))"
      ]
     },
     "execution_count": 8,
     "metadata": {},
     "output_type": "execute_result"
    }
   ],
   "source": [
    "test_images.shape, test_labels.shape"
   ]
  },
  {
   "cell_type": "code",
   "execution_count": 9,
   "id": "f9ed8fe0",
   "metadata": {
    "execution": {
     "iopub.execute_input": "2022-09-11T00:43:51.320980Z",
     "iopub.status.busy": "2022-09-11T00:43:51.320419Z",
     "iopub.status.idle": "2022-09-11T00:43:51.455591Z",
     "shell.execute_reply": "2022-09-11T00:43:51.456055Z"
    },
    "papermill": {
     "duration": 0.163558,
     "end_time": "2022-09-11T00:43:51.456186",
     "exception": false,
     "start_time": "2022-09-11T00:43:51.292628",
     "status": "completed"
    },
    "tags": []
   },
   "outputs": [
    {
     "name": "stdout",
     "output_type": "stream",
     "text": [
      "2\n"
     ]
    },
    {
     "data": {
      "text/plain": [
       "<matplotlib.image.AxesImage at 0x7fbbe96afc50>"
      ]
     },
     "execution_count": 9,
     "metadata": {},
     "output_type": "execute_result"
    },
    {
     "data": {
      "image/png": "[encoded data removed]",
      "text/plain": [
       "<Figure size 432x288 with 1 Axes>"
      ]
     },
     "metadata": {
      "needs_background": "light"
     },
     "output_type": "display_data"
    }
   ],
   "source": [
    "image_index = 7776 # You may select anything up to 60,000\n",
    "print(train_labels[image_index]) \n",
    "plt.imshow(train_images[image_index], cmap='Greys')"
   ]
  },
  {
   "cell_type": "markdown",
   "id": "a8d2388d",
   "metadata": {
    "papermill": {
     "duration": 0.026066,
     "end_time": "2022-09-11T00:43:51.508766",
     "exception": false,
     "start_time": "2022-09-11T00:43:51.482700",
     "status": "completed"
    },
    "tags": []
   },
   "source": [
    "## Filter data to get 3 and 8 out"
   ]
  },
  {
   "cell_type": "code",
   "execution_count": 10,
   "id": "776f7fc7",
   "metadata": {
    "execution": {
     "iopub.execute_input": "2022-09-11T00:43:51.565040Z",
     "iopub.status.busy": "2022-09-11T00:43:51.564460Z",
     "iopub.status.idle": "2022-09-11T00:43:51.582875Z",
     "shell.execute_reply": "2022-09-11T00:43:51.583435Z"
    },
    "papermill": {
     "duration": 0.048664,
     "end_time": "2022-09-11T00:43:51.583555",
     "exception": false,
     "start_time": "2022-09-11T00:43:51.534891",
     "status": "completed"
    },
    "tags": []
   },
   "outputs": [],
   "source": [
    "train_filter = np.where((train_labels == 3 ) | (train_labels == 8))\n",
    "test_filter = np.where((test_labels == 3) | (test_labels == 8))\n",
    "X_train, y_train = train_images[train_filter], train_labels[train_filter]\n",
    "X_test, y_test = test_images[test_filter], test_labels[test_filter]"
   ]
  },
  {
   "cell_type": "markdown",
   "id": "948f0b7e",
   "metadata": {
    "papermill": {
     "duration": 0.026019,
     "end_time": "2022-09-11T00:43:51.635772",
     "exception": false,
     "start_time": "2022-09-11T00:43:51.609753",
     "status": "completed"
    },
    "tags": []
   },
   "source": [
    "We normalize the pizel values in the 0 to 1 range"
   ]
  },
  {
   "cell_type": "code",
   "execution_count": 11,
   "id": "ee4c2166",
   "metadata": {
    "execution": {
     "iopub.execute_input": "2022-09-11T00:43:51.691267Z",
     "iopub.status.busy": "2022-09-11T00:43:51.690693Z",
     "iopub.status.idle": "2022-09-11T00:43:51.738847Z",
     "shell.execute_reply": "2022-09-11T00:43:51.738341Z"
    },
    "papermill": {
     "duration": 0.077326,
     "end_time": "2022-09-11T00:43:51.738961",
     "exception": false,
     "start_time": "2022-09-11T00:43:51.661635",
     "status": "completed"
    },
    "tags": []
   },
   "outputs": [],
   "source": [
    "X_train = X_train/255.\n",
    "X_test = X_test/255."
   ]
  },
  {
   "cell_type": "markdown",
   "id": "ddcf4fab",
   "metadata": {
    "papermill": {
     "duration": 0.0262,
     "end_time": "2022-09-11T00:43:51.791488",
     "exception": false,
     "start_time": "2022-09-11T00:43:51.765288",
     "status": "completed"
    },
    "tags": []
   },
   "source": [
    "And setup the labels as 1 (when the digit is 3) and 0 (when the digit is 8)"
   ]
  },
  {
   "cell_type": "code",
   "execution_count": 12,
   "id": "7dc908f2",
   "metadata": {
    "execution": {
     "iopub.execute_input": "2022-09-11T00:43:51.847487Z",
     "iopub.status.busy": "2022-09-11T00:43:51.846915Z",
     "iopub.status.idle": "2022-09-11T00:43:51.859644Z",
     "shell.execute_reply": "2022-09-11T00:43:51.859084Z"
    },
    "papermill": {
     "duration": 0.042055,
     "end_time": "2022-09-11T00:43:51.859749",
     "exception": false,
     "start_time": "2022-09-11T00:43:51.817694",
     "status": "completed"
    },
    "tags": []
   },
   "outputs": [],
   "source": [
    "y_train = 1*(y_train==3)\n",
    "y_test = 1*(y_test==3)"
   ]
  },
  {
   "cell_type": "code",
   "execution_count": 13,
   "id": "01e4e969",
   "metadata": {
    "execution": {
     "iopub.execute_input": "2022-09-11T00:43:51.915000Z",
     "iopub.status.busy": "2022-09-11T00:43:51.914443Z",
     "iopub.status.idle": "2022-09-11T00:43:51.928270Z",
     "shell.execute_reply": "2022-09-11T00:43:51.927712Z"
    },
    "papermill": {
     "duration": 0.042571,
     "end_time": "2022-09-11T00:43:51.928372",
     "exception": false,
     "start_time": "2022-09-11T00:43:51.885801",
     "status": "completed"
    },
    "tags": []
   },
   "outputs": [
    {
     "data": {
      "text/plain": [
       "((11982, 28, 28), (1984, 28, 28))"
      ]
     },
     "execution_count": 13,
     "metadata": {},
     "output_type": "execute_result"
    }
   ],
   "source": [
    "X_train.shape, X_test.shape"
   ]
  },
  {
   "cell_type": "markdown",
   "id": "5ccf3f85",
   "metadata": {
    "papermill": {
     "duration": 0.026106,
     "end_time": "2022-09-11T00:43:51.980683",
     "exception": false,
     "start_time": "2022-09-11T00:43:51.954577",
     "status": "completed"
    },
    "tags": []
   },
   "source": [
    "We reshape the data to flatten the image pixels into a set of features or co-variates:"
   ]
  },
  {
   "cell_type": "code",
   "execution_count": 14,
   "id": "5286a4a3",
   "metadata": {
    "execution": {
     "iopub.execute_input": "2022-09-11T00:43:52.036629Z",
     "iopub.status.busy": "2022-09-11T00:43:52.036067Z",
     "iopub.status.idle": "2022-09-11T00:43:52.050171Z",
     "shell.execute_reply": "2022-09-11T00:43:52.049605Z"
    },
    "papermill": {
     "duration": 0.043288,
     "end_time": "2022-09-11T00:43:52.050270",
     "exception": false,
     "start_time": "2022-09-11T00:43:52.006982",
     "status": "completed"
    },
    "tags": []
   },
   "outputs": [
    {
     "data": {
      "text/plain": [
       "((11982, 784), (1984, 784))"
      ]
     },
     "execution_count": 14,
     "metadata": {},
     "output_type": "execute_result"
    }
   ],
   "source": [
    "X_train = X_train.reshape(X_train.shape[0], -1)\n",
    "X_test = X_test.reshape(X_test.shape[0], -1)\n",
    "X_train.shape, X_test.shape"
   ]
  },
  {
   "cell_type": "code",
   "execution_count": 15,
   "id": "73c5f88a",
   "metadata": {
    "execution": {
     "iopub.execute_input": "2022-09-11T00:43:52.107848Z",
     "iopub.status.busy": "2022-09-11T00:43:52.107274Z",
     "iopub.status.idle": "2022-09-11T00:43:52.126278Z",
     "shell.execute_reply": "2022-09-11T00:43:52.125812Z"
    },
    "papermill": {
     "duration": 0.049106,
     "end_time": "2022-09-11T00:43:52.126375",
     "exception": false,
     "start_time": "2022-09-11T00:43:52.077269",
     "status": "completed"
    },
    "tags": []
   },
   "outputs": [],
   "source": [
    "#Impoting functions from 'Kudzu'\n",
    "from kudzu.model import Model\n",
    "from kudzu.train import Learner\n",
    "from kudzu.optim import GD\n",
    "from kudzu.data import Data, Sampler,Dataloader\n",
    "\n",
    "from kudzu.callbacks import AccCallback\n",
    "from kudzu.callbacks import ClfCallback\n",
    "\n",
    "from kudzu.loss import MSE\n",
    "\n",
    "from kudzu.layer import Sigmoid,Relu\n",
    "from kudzu.layer import Affine"
   ]
  },
  {
   "cell_type": "markdown",
   "id": "bc01172a",
   "metadata": {
    "papermill": {
     "duration": 0.026371,
     "end_time": "2022-09-11T00:43:52.179237",
     "exception": false,
     "start_time": "2022-09-11T00:43:52.152866",
     "status": "completed"
    },
    "tags": []
   },
   "source": [
    "### Let us create a `Config` class, to store important parameters. \n",
    "This class essentially plays the role of a dictionary."
   ]
  },
  {
   "cell_type": "code",
   "execution_count": 16,
   "id": "978281aa",
   "metadata": {
    "execution": {
     "iopub.execute_input": "2022-09-11T00:43:52.235545Z",
     "iopub.status.busy": "2022-09-11T00:43:52.234979Z",
     "iopub.status.idle": "2022-09-11T00:43:52.246900Z",
     "shell.execute_reply": "2022-09-11T00:43:52.246344Z"
    },
    "papermill": {
     "duration": 0.041328,
     "end_time": "2022-09-11T00:43:52.246997",
     "exception": false,
     "start_time": "2022-09-11T00:43:52.205669",
     "status": "completed"
    },
    "tags": []
   },
   "outputs": [],
   "source": [
    "class Config:\n",
    "    pass\n",
    "config = Config()\n",
    "config.lr = 0.001\n",
    "config.num_epochs = 250\n",
    "config.bs = 50"
   ]
  },
  {
   "cell_type": "markdown",
   "id": "1385fa59",
   "metadata": {
    "papermill": {
     "duration": 0.029686,
     "end_time": "2022-09-11T00:43:52.303168",
     "exception": false,
     "start_time": "2022-09-11T00:43:52.273482",
     "status": "completed"
    },
    "tags": []
   },
   "source": [
    "### Running Models with the Training data\n",
    "Details about the network layers:\n",
    "- A first affine layer has 784 inputs and does 100 affine transforms. These are followed by a Relu\n",
    "- A second affine layer has 100 inputs from the 100 activations of the past layer, and does 100 affine transforms. These are followed by a Relu\n",
    "- A third affine layer has 100 activations and does 2 affine transformations to create an embedding for visualization. There is no non-linearity here.\n",
    "- A final \"logistic regression\" which has an affine transform from 2 inputs to 1 output, which is squeezed through a sigmoid.\n"
   ]
  },
  {
   "cell_type": "code",
   "execution_count": 17,
   "id": "2b9c66db",
   "metadata": {
    "execution": {
     "iopub.execute_input": "2022-09-11T00:43:52.359924Z",
     "iopub.status.busy": "2022-09-11T00:43:52.359359Z",
     "iopub.status.idle": "2022-09-11T00:43:52.371712Z",
     "shell.execute_reply": "2022-09-11T00:43:52.371157Z"
    },
    "papermill": {
     "duration": 0.042094,
     "end_time": "2022-09-11T00:43:52.371810",
     "exception": false,
     "start_time": "2022-09-11T00:43:52.329716",
     "status": "completed"
    },
    "tags": []
   },
   "outputs": [],
   "source": [
    "data = Data(X_train, y_train.reshape(-1,1))\n",
    "sampler = Sampler(data, config.bs, shuffle=True)\n",
    "\n",
    "dl = Dataloader(data, sampler)\n",
    "\n",
    "opt = GD(config.lr)\n",
    "loss = MSE()"
   ]
  },
  {
   "cell_type": "code",
   "execution_count": 18,
   "id": "b275e4c2",
   "metadata": {
    "execution": {
     "iopub.execute_input": "2022-09-11T00:43:52.427982Z",
     "iopub.status.busy": "2022-09-11T00:43:52.427425Z",
     "iopub.status.idle": "2022-09-11T00:43:52.438928Z",
     "shell.execute_reply": "2022-09-11T00:43:52.438467Z"
    },
    "papermill": {
     "duration": 0.040807,
     "end_time": "2022-09-11T00:43:52.439022",
     "exception": false,
     "start_time": "2022-09-11T00:43:52.398215",
     "status": "completed"
    },
    "tags": []
   },
   "outputs": [],
   "source": [
    "training_data_x = X_train\n",
    "testing_data_x = X_test\n",
    "training_data_y = y_train.reshape(-1,1)\n",
    "testing_data_y = y_test.reshape(-1,1)"
   ]
  },
  {
   "cell_type": "code",
   "execution_count": 19,
   "id": "76951160",
   "metadata": {
    "execution": {
     "iopub.execute_input": "2022-09-11T00:43:52.499246Z",
     "iopub.status.busy": "2022-09-11T00:43:52.498674Z",
     "iopub.status.idle": "2022-09-11T00:43:52.512346Z",
     "shell.execute_reply": "2022-09-11T00:43:52.512818Z"
    },
    "papermill": {
     "duration": 0.04756,
     "end_time": "2022-09-11T00:43:52.512926",
     "exception": false,
     "start_time": "2022-09-11T00:43:52.465366",
     "status": "completed"
    },
    "tags": []
   },
   "outputs": [
    {
     "name": "stdout",
     "output_type": "stream",
     "text": [
      "xavier\n",
      "xavier\n",
      "xavier\n",
      "xavier\n",
      "xavier\n"
     ]
    }
   ],
   "source": [
    "layers = [Affine(\"first\", 784, 100), Relu(\"first\"), Affine(\"second\", 100, 100), Relu(\"second\"), Affine(\"third\", 100, 2), Affine(\"last\", 2, 1), Sigmoid(\"last\")]\n",
    "model_nn = Model(layers)\n",
    "model_lr = Model([Affine(\"logits\", 784, 1), Sigmoid(\"sigmoid\")])"
   ]
  },
  {
   "cell_type": "code",
   "execution_count": 20,
   "id": "6eede77a",
   "metadata": {
    "execution": {
     "iopub.execute_input": "2022-09-11T00:43:52.570804Z",
     "iopub.status.busy": "2022-09-11T00:43:52.570242Z",
     "iopub.status.idle": "2022-09-11T00:43:52.581411Z",
     "shell.execute_reply": "2022-09-11T00:43:52.580853Z"
    },
    "papermill": {
     "duration": 0.041846,
     "end_time": "2022-09-11T00:43:52.581534",
     "exception": false,
     "start_time": "2022-09-11T00:43:52.539688",
     "status": "completed"
    },
    "tags": []
   },
   "outputs": [],
   "source": [
    "nn_learner = Learner(loss, model_nn, opt, config.num_epochs)\n",
    "acc_nn = ClfCallback(nn_learner, config.bs, training_data_x , testing_data_x, training_data_y, testing_data_y)\n",
    "nn_learner.set_callbacks([acc_nn])"
   ]
  },
  {
   "cell_type": "code",
   "execution_count": 21,
   "id": "877b6cc7",
   "metadata": {
    "execution": {
     "iopub.execute_input": "2022-09-11T00:43:52.638430Z",
     "iopub.status.busy": "2022-09-11T00:43:52.637866Z",
     "iopub.status.idle": "2022-09-11T00:43:52.649485Z",
     "shell.execute_reply": "2022-09-11T00:43:52.649964Z"
    },
    "papermill": {
     "duration": 0.041815,
     "end_time": "2022-09-11T00:43:52.650072",
     "exception": false,
     "start_time": "2022-09-11T00:43:52.608257",
     "status": "completed"
    },
    "tags": []
   },
   "outputs": [],
   "source": [
    "lr_learner = Learner(loss, model_lr, opt, config.num_epochs)\n",
    "acc_lr = ClfCallback(lr_learner, config.bs, training_data_x , testing_data_x, training_data_y, testing_data_y)\n",
    "lr_learner.set_callbacks([acc_lr])"
   ]
  },
  {
   "cell_type": "code",
   "execution_count": 22,
   "id": "d9b133c3",
   "metadata": {
    "execution": {
     "iopub.execute_input": "2022-09-11T00:43:52.706637Z",
     "iopub.status.busy": "2022-09-11T00:43:52.706078Z",
     "iopub.status.idle": "2022-09-11T00:45:05.680248Z",
     "shell.execute_reply": "2022-09-11T00:45:05.681088Z"
    },
    "papermill": {
     "duration": 73.004419,
     "end_time": "2022-09-11T00:45:05.681229",
     "exception": false,
     "start_time": "2022-09-11T00:43:52.676810",
     "status": "completed"
    },
    "tags": []
   },
   "outputs": [
    {
     "name": "stdout",
     "output_type": "stream",
     "text": [
      "Epoch 0, Loss 0.2554\n",
      "Training Accuracy: 0.4891, Testing Accuracy: 0.4909\n",
      "\n"
     ]
    },
    {
     "name": "stdout",
     "output_type": "stream",
     "text": [
      "Epoch 10, Loss 0.2111\n",
      "Training Accuracy: 0.8126, Testing Accuracy: 0.8458\n",
      "\n"
     ]
    },
    {
     "name": "stdout",
     "output_type": "stream",
     "text": [
      "Epoch 20, Loss 0.1271\n",
      "Training Accuracy: 0.8779, Testing Accuracy: 0.8906\n",
      "\n"
     ]
    },
    {
     "name": "stdout",
     "output_type": "stream",
     "text": [
      "Epoch 30, Loss 0.0774\n",
      "Training Accuracy: 0.9164, Testing Accuracy: 0.9234\n",
      "\n"
     ]
    },
    {
     "name": "stdout",
     "output_type": "stream",
     "text": [
      "Epoch 40, Loss 0.0568\n",
      "Training Accuracy: 0.9366, Testing Accuracy: 0.9521\n",
      "\n"
     ]
    },
    {
     "name": "stdout",
     "output_type": "stream",
     "text": [
      "Epoch 50, Loss 0.0463\n",
      "Training Accuracy: 0.9463, Testing Accuracy: 0.9602\n",
      "\n"
     ]
    },
    {
     "name": "stdout",
     "output_type": "stream",
     "text": [
      "Epoch 60, Loss 0.0403\n",
      "Training Accuracy: 0.9530, Testing Accuracy: 0.9627\n",
      "\n"
     ]
    },
    {
     "name": "stdout",
     "output_type": "stream",
     "text": [
      "Epoch 70, Loss 0.0365\n",
      "Training Accuracy: 0.9579, Testing Accuracy: 0.9652\n",
      "\n"
     ]
    },
    {
     "name": "stdout",
     "output_type": "stream",
     "text": [
      "Epoch 80, Loss 0.0338\n",
      "Training Accuracy: 0.9607, Testing Accuracy: 0.9647\n",
      "\n"
     ]
    },
    {
     "name": "stdout",
     "output_type": "stream",
     "text": [
      "Epoch 90, Loss 0.0319\n",
      "Training Accuracy: 0.9624, Testing Accuracy: 0.9652\n",
      "\n"
     ]
    },
    {
     "name": "stdout",
     "output_type": "stream",
     "text": [
      "Epoch 100, Loss 0.0304\n",
      "Training Accuracy: 0.9644, Testing Accuracy: 0.9667\n",
      "\n"
     ]
    },
    {
     "name": "stdout",
     "output_type": "stream",
     "text": [
      "Epoch 110, Loss 0.0291\n",
      "Training Accuracy: 0.9655, Testing Accuracy: 0.9682\n",
      "\n"
     ]
    },
    {
     "name": "stdout",
     "output_type": "stream",
     "text": [
      "Epoch 120, Loss 0.0281\n",
      "Training Accuracy: 0.9664, Testing Accuracy: 0.9688\n",
      "\n"
     ]
    },
    {
     "name": "stdout",
     "output_type": "stream",
     "text": [
      "Epoch 130, Loss 0.0272\n",
      "Training Accuracy: 0.9681, Testing Accuracy: 0.9677\n",
      "\n"
     ]
    },
    {
     "name": "stdout",
     "output_type": "stream",
     "text": [
      "Epoch 140, Loss 0.0265\n",
      "Training Accuracy: 0.9690, Testing Accuracy: 0.9682\n",
      "\n"
     ]
    },
    {
     "name": "stdout",
     "output_type": "stream",
     "text": [
      "Epoch 150, Loss 0.0258\n",
      "Training Accuracy: 0.9706, Testing Accuracy: 0.9677\n",
      "\n"
     ]
    },
    {
     "name": "stdout",
     "output_type": "stream",
     "text": [
      "Epoch 160, Loss 0.0252\n",
      "Training Accuracy: 0.9712, Testing Accuracy: 0.9672\n",
      "\n"
     ]
    },
    {
     "name": "stdout",
     "output_type": "stream",
     "text": [
      "Epoch 170, Loss 0.0246\n",
      "Training Accuracy: 0.9720, Testing Accuracy: 0.9677\n",
      "\n"
     ]
    },
    {
     "name": "stdout",
     "output_type": "stream",
     "text": [
      "Epoch 180, Loss 0.0241\n",
      "Training Accuracy: 0.9725, Testing Accuracy: 0.9688\n",
      "\n"
     ]
    },
    {
     "name": "stdout",
     "output_type": "stream",
     "text": [
      "Epoch 190, Loss 0.0237\n",
      "Training Accuracy: 0.9729, Testing Accuracy: 0.9682\n",
      "\n"
     ]
    },
    {
     "name": "stdout",
     "output_type": "stream",
     "text": [
      "Epoch 200, Loss 0.0232\n",
      "Training Accuracy: 0.9735, Testing Accuracy: 0.9677\n",
      "\n"
     ]
    },
    {
     "name": "stdout",
     "output_type": "stream",
     "text": [
      "Epoch 210, Loss 0.0228\n",
      "Training Accuracy: 0.9739, Testing Accuracy: 0.9682\n",
      "\n"
     ]
    },
    {
     "name": "stdout",
     "output_type": "stream",
     "text": [
      "Epoch 220, Loss 0.0225\n",
      "Training Accuracy: 0.9742, Testing Accuracy: 0.9693\n",
      "\n"
     ]
    },
    {
     "name": "stdout",
     "output_type": "stream",
     "text": [
      "Epoch 230, Loss 0.0221\n",
      "Training Accuracy: 0.9745, Testing Accuracy: 0.9693\n",
      "\n"
     ]
    },
    {
     "name": "stdout",
     "output_type": "stream",
     "text": [
      "Epoch 240, Loss 0.0218\n",
      "Training Accuracy: 0.9750, Testing Accuracy: 0.9693\n",
      "\n"
     ]
    },
    {
     "data": {
      "text/plain": [
       "0.016941256739104425"
      ]
     },
     "execution_count": 22,
     "metadata": {},
     "output_type": "execute_result"
    }
   ],
   "source": [
    "nn_learner.train_loop(dl)"
   ]
  },
  {
   "cell_type": "code",
   "execution_count": 23,
   "id": "e0163366",
   "metadata": {
    "execution": {
     "iopub.execute_input": "2022-09-11T00:45:05.759203Z",
     "iopub.status.busy": "2022-09-11T00:45:05.758624Z",
     "iopub.status.idle": "2022-09-11T00:45:18.662266Z",
     "shell.execute_reply": "2022-09-11T00:45:18.663101Z"
    },
    "papermill": {
     "duration": 12.947096,
     "end_time": "2022-09-11T00:45:18.663238",
     "exception": false,
     "start_time": "2022-09-11T00:45:05.716142",
     "status": "completed"
    },
    "tags": []
   },
   "outputs": [
    {
     "name": "stdout",
     "output_type": "stream",
     "text": [
      "Epoch 0, Loss 0.2405\n",
      "Training Accuracy: 0.6944, Testing Accuracy: 0.7137\n",
      "\n"
     ]
    },
    {
     "name": "stdout",
     "output_type": "stream",
     "text": [
      "Epoch 10, Loss 0.1023\n",
      "Training Accuracy: 0.9064, Testing Accuracy: 0.9209\n",
      "\n"
     ]
    },
    {
     "name": "stdout",
     "output_type": "stream",
     "text": [
      "Epoch 20, Loss 0.0789\n",
      "Training Accuracy: 0.9278, Testing Accuracy: 0.9400\n",
      "\n"
     ]
    },
    {
     "name": "stdout",
     "output_type": "stream",
     "text": [
      "Epoch 30, Loss 0.068\n",
      "Training Accuracy: 0.9367, Testing Accuracy: 0.9451\n",
      "\n"
     ]
    },
    {
     "name": "stdout",
     "output_type": "stream",
     "text": [
      "Epoch 40, Loss 0.0614\n",
      "Training Accuracy: 0.9425, Testing Accuracy: 0.9511\n",
      "\n"
     ]
    },
    {
     "name": "stdout",
     "output_type": "stream",
     "text": [
      "Epoch 50, Loss 0.0569\n",
      "Training Accuracy: 0.9452, Testing Accuracy: 0.9556\n",
      "\n"
     ]
    },
    {
     "name": "stdout",
     "output_type": "stream",
     "text": [
      "Epoch 60, Loss 0.0536\n",
      "Training Accuracy: 0.9473, Testing Accuracy: 0.9572\n",
      "\n"
     ]
    },
    {
     "name": "stdout",
     "output_type": "stream",
     "text": [
      "Epoch 70, Loss 0.051\n",
      "Training Accuracy: 0.9490, Testing Accuracy: 0.9607\n",
      "\n"
     ]
    },
    {
     "name": "stdout",
     "output_type": "stream",
     "text": [
      "Epoch 80, Loss 0.049\n",
      "Training Accuracy: 0.9507, Testing Accuracy: 0.9607\n",
      "\n"
     ]
    },
    {
     "name": "stdout",
     "output_type": "stream",
     "text": [
      "Epoch 90, Loss 0.0473\n",
      "Training Accuracy: 0.9523, Testing Accuracy: 0.9622\n",
      "\n"
     ]
    },
    {
     "name": "stdout",
     "output_type": "stream",
     "text": [
      "Epoch 100, Loss 0.0459\n",
      "Training Accuracy: 0.9536, Testing Accuracy: 0.9632\n",
      "\n"
     ]
    },
    {
     "name": "stdout",
     "output_type": "stream",
     "text": [
      "Epoch 110, Loss 0.0447\n",
      "Training Accuracy: 0.9546, Testing Accuracy: 0.9647\n",
      "\n"
     ]
    },
    {
     "name": "stdout",
     "output_type": "stream",
     "text": [
      "Epoch 120, Loss 0.0436\n",
      "Training Accuracy: 0.9550, Testing Accuracy: 0.9657\n",
      "\n"
     ]
    },
    {
     "name": "stdout",
     "output_type": "stream",
     "text": [
      "Epoch 130, Loss 0.0427\n",
      "Training Accuracy: 0.9560, Testing Accuracy: 0.9662\n",
      "\n"
     ]
    },
    {
     "name": "stdout",
     "output_type": "stream",
     "text": [
      "Epoch 140, Loss 0.0419\n",
      "Training Accuracy: 0.9564, Testing Accuracy: 0.9662\n",
      "\n"
     ]
    },
    {
     "name": "stdout",
     "output_type": "stream",
     "text": [
      "Epoch 150, Loss 0.0411\n",
      "Training Accuracy: 0.9574, Testing Accuracy: 0.9667\n",
      "\n"
     ]
    },
    {
     "name": "stdout",
     "output_type": "stream",
     "text": [
      "Epoch 160, Loss 0.0405\n",
      "Training Accuracy: 0.9584, Testing Accuracy: 0.9672\n",
      "\n"
     ]
    },
    {
     "name": "stdout",
     "output_type": "stream",
     "text": [
      "Epoch 170, Loss 0.0399\n",
      "Training Accuracy: 0.9589, Testing Accuracy: 0.9672\n",
      "\n"
     ]
    },
    {
     "name": "stdout",
     "output_type": "stream",
     "text": [
      "Epoch 180, Loss 0.0393\n",
      "Training Accuracy: 0.9591, Testing Accuracy: 0.9667\n",
      "\n"
     ]
    },
    {
     "name": "stdout",
     "output_type": "stream",
     "text": [
      "Epoch 190, Loss 0.0388\n",
      "Training Accuracy: 0.9601, Testing Accuracy: 0.9667\n",
      "\n"
     ]
    },
    {
     "name": "stdout",
     "output_type": "stream",
     "text": [
      "Epoch 200, Loss 0.0383\n",
      "Training Accuracy: 0.9603, Testing Accuracy: 0.9672\n",
      "\n"
     ]
    },
    {
     "name": "stdout",
     "output_type": "stream",
     "text": [
      "Epoch 210, Loss 0.0379\n",
      "Training Accuracy: 0.9605, Testing Accuracy: 0.9677\n",
      "\n"
     ]
    },
    {
     "name": "stdout",
     "output_type": "stream",
     "text": [
      "Epoch 220, Loss 0.0375\n",
      "Training Accuracy: 0.9609, Testing Accuracy: 0.9677\n",
      "\n"
     ]
    },
    {
     "name": "stdout",
     "output_type": "stream",
     "text": [
      "Epoch 230, Loss 0.0371\n",
      "Training Accuracy: 0.9611, Testing Accuracy: 0.9682\n",
      "\n"
     ]
    },
    {
     "name": "stdout",
     "output_type": "stream",
     "text": [
      "Epoch 240, Loss 0.0367\n",
      "Training Accuracy: 0.9614, Testing Accuracy: 0.9682\n",
      "\n"
     ]
    },
    {
     "data": {
      "text/plain": [
       "0.027557555304387932"
      ]
     },
     "execution_count": 23,
     "metadata": {},
     "output_type": "execute_result"
    }
   ],
   "source": [
    "lr_learner.train_loop(dl)"
   ]
  },
  {
   "cell_type": "code",
   "execution_count": 24,
   "id": "ca410940",
   "metadata": {
    "execution": {
     "iopub.execute_input": "2022-09-11T00:45:18.758783Z",
     "iopub.status.busy": "2022-09-11T00:45:18.758208Z",
     "iopub.status.idle": "2022-09-11T00:45:18.972226Z",
     "shell.execute_reply": "2022-09-11T00:45:18.971511Z"
    },
    "papermill": {
     "duration": 0.26757,
     "end_time": "2022-09-11T00:45:18.972342",
     "exception": false,
     "start_time": "2022-09-11T00:45:18.704772",
     "status": "completed"
    },
    "tags": []
   },
   "outputs": [
    {
     "data": {
      "text/plain": [
       "<matplotlib.legend.Legend at 0x7fbbe921c390>"
      ]
     },
     "execution_count": 24,
     "metadata": {},
     "output_type": "execute_result"
    },
    {
     "data": {
      "image/png": "[encoded data removed]",
      "text/plain": [
       "<Figure size 1080x720 with 1 Axes>"
      ]
     },
     "metadata": {
      "needs_background": "light"
     },
     "output_type": "display_data"
    }
   ],
   "source": [
    "#comparing the results of NN and LR\n",
    "plt.figure(figsize=(15,10))\n",
    "\n",
    "# Neural Network plots\n",
    "plt.plot(acc_nn.accuracies, 'r-', label = \"Training Accuracies - NN\")\n",
    "plt.plot(acc_nn.test_accuracies, 'g-', label = \"Testing Accuracies - NN\")\n",
    "\n",
    "# Logistic Regression plots\n",
    "plt.plot(acc_lr.accuracies, 'k-', label = \"Training Accuracies - LR\")\n",
    "plt.plot(acc_lr.test_accuracies, 'b-', label = \"Testing Accuracies - LR\")\n",
    "plt.legend()"
   ]
  },
  {
   "cell_type": "markdown",
   "id": "80dfb35c",
   "metadata": {
    "papermill": {
     "duration": 0.041719,
     "end_time": "2022-09-11T00:45:19.055938",
     "exception": false,
     "start_time": "2022-09-11T00:45:19.014219",
     "status": "completed"
    },
    "tags": []
   },
   "source": [
    "#### Plotting the outputs of this layer of the NN.\n"
   ]
  },
  {
   "cell_type": "code",
   "execution_count": 25,
   "id": "45eb2ff5",
   "metadata": {
    "execution": {
     "iopub.execute_input": "2022-09-11T00:45:19.150741Z",
     "iopub.status.busy": "2022-09-11T00:45:19.149871Z",
     "iopub.status.idle": "2022-09-11T00:45:19.166569Z",
     "shell.execute_reply": "2022-09-11T00:45:19.167015Z"
    },
    "papermill": {
     "duration": 0.069884,
     "end_time": "2022-09-11T00:45:19.167136",
     "exception": false,
     "start_time": "2022-09-11T00:45:19.097252",
     "status": "completed"
    },
    "tags": []
   },
   "outputs": [],
   "source": [
    "new_model = Model(layers[:-2])\n",
    "testing_plot = new_model(testing_data_x)"
   ]
  },
  {
   "cell_type": "code",
   "execution_count": 26,
   "id": "4c0a5485",
   "metadata": {
    "execution": {
     "iopub.execute_input": "2022-09-11T00:45:19.266991Z",
     "iopub.status.busy": "2022-09-11T00:45:19.266400Z",
     "iopub.status.idle": "2022-09-11T00:45:19.460275Z",
     "shell.execute_reply": "2022-09-11T00:45:19.459792Z"
    },
    "papermill": {
     "duration": 0.251463,
     "end_time": "2022-09-11T00:45:19.460386",
     "exception": false,
     "start_time": "2022-09-11T00:45:19.208923",
     "status": "completed"
    },
    "tags": []
   },
   "outputs": [
    {
     "data": {
      "text/plain": [
       "Text(0.5, 1.0, 'Outputs')"
      ]
     },
     "execution_count": 26,
     "metadata": {},
     "output_type": "execute_result"
    },
    {
     "data": {
      "image/png": "[encoded data removed]",
      "text/plain": [
       "<Figure size 576x504 with 1 Axes>"
      ]
     },
     "metadata": {
      "needs_background": "light"
     },
     "output_type": "display_data"
    }
   ],
   "source": [
    "# Plotting the scatter plot of points and color coding by class\n",
    "plt.figure(figsize=(8,7))\n",
    "plt.scatter(testing_plot[:,0], testing_plot[:,1], alpha = 0.1, c = y_test.ravel());\n",
    "plt.title('Outputs')"
   ]
  },
  {
   "cell_type": "markdown",
   "id": "a74fcf8f",
   "metadata": {
    "papermill": {
     "duration": 0.043751,
     "end_time": "2022-09-11T00:45:19.548140",
     "exception": false,
     "start_time": "2022-09-11T00:45:19.504389",
     "status": "completed"
    },
    "tags": []
   },
   "source": [
    "Probability contours"
   ]
  },
  {
   "cell_type": "code",
   "execution_count": 27,
   "id": "d0afc8e3",
   "metadata": {
    "execution": {
     "iopub.execute_input": "2022-09-11T00:45:19.675289Z",
     "iopub.status.busy": "2022-09-11T00:45:19.673364Z",
     "iopub.status.idle": "2022-09-11T00:45:19.680925Z",
     "shell.execute_reply": "2022-09-11T00:45:19.680460Z"
    },
    "papermill": {
     "duration": 0.089204,
     "end_time": "2022-09-11T00:45:19.681026",
     "exception": false,
     "start_time": "2022-09-11T00:45:19.591822",
     "status": "completed"
    },
    "tags": []
   },
   "outputs": [],
   "source": [
    "model_prob = Model(layers[-2:]) "
   ]
  },
  {
   "cell_type": "code",
   "execution_count": 28,
   "id": "9b96e238",
   "metadata": {
    "execution": {
     "iopub.execute_input": "2022-09-11T00:45:19.772989Z",
     "iopub.status.busy": "2022-09-11T00:45:19.772413Z",
     "iopub.status.idle": "2022-09-11T00:45:19.786121Z",
     "shell.execute_reply": "2022-09-11T00:45:19.786544Z"
    },
    "papermill": {
     "duration": 0.06191,
     "end_time": "2022-09-11T00:45:19.786662",
     "exception": false,
     "start_time": "2022-09-11T00:45:19.724752",
     "status": "completed"
    },
    "tags": []
   },
   "outputs": [],
   "source": [
    "#creating the x and y ranges according to the above generated plot.\n",
    "x_range = np.linspace(-4, 1, 100) \n",
    "y_range = np.linspace(-6, 6, 100) \n",
    "x_grid, y_grid = np.meshgrid(x_range, y_range) # x_grid and y_grig are of size 100 X 100\n",
    "\n",
    "# converting x_grid and y_grid to continuous arrays\n",
    "x_gridflat = np.ravel(x_grid)\n",
    "y_gridflat = np.ravel(y_grid)\n",
    "\n",
    "# The last layer of the current model takes two columns as input. Hence transpose of np.vstack() is required.\n",
    "X = np.vstack((x_gridflat, y_gridflat)).T\n",
    "\n",
    "prob_contour = model_prob(X).reshape(100,100) "
   ]
  },
  {
   "cell_type": "code",
   "execution_count": 29,
   "id": "da72499a",
   "metadata": {
    "execution": {
     "iopub.execute_input": "2022-09-11T00:45:19.886587Z",
     "iopub.status.busy": "2022-09-11T00:45:19.886016Z",
     "iopub.status.idle": "2022-09-11T00:45:20.119881Z",
     "shell.execute_reply": "2022-09-11T00:45:20.119339Z"
    },
    "papermill": {
     "duration": 0.288887,
     "end_time": "2022-09-11T00:45:20.120004",
     "exception": false,
     "start_time": "2022-09-11T00:45:19.831117",
     "status": "completed"
    },
    "tags": []
   },
   "outputs": [
    {
     "data": {
      "image/png": "[encoded data removed]",
      "text/plain": [
       "<Figure size 720x648 with 1 Axes>"
      ]
     },
     "metadata": {
      "needs_background": "light"
     },
     "output_type": "display_data"
    }
   ],
   "source": [
    "plt.figure(figsize=(10,9))\n",
    "plt.scatter(testing_plot[:,0], testing_plot[:,1], alpha = 0.1, c = y_test.ravel())\n",
    "contours = plt.contour(x_grid,y_grid,prob_contour)\n",
    "plt.title('Probability Contours')\n",
    "plt.clabel(contours, inline = True );"
   ]
  },
  {
   "cell_type": "code",
   "execution_count": null,
   "id": "e81b4ac7",
   "metadata": {
    "papermill": {
     "duration": 0.046079,
     "end_time": "2022-09-11T00:45:20.213170",
     "exception": false,
     "start_time": "2022-09-11T00:45:20.167091",
     "status": "completed"
    },
    "tags": []
   },
   "outputs": [],
   "source": []
  }
 ],
 "metadata": {
  "kernelspec": {
   "display_name": "Python 3",
   "language": "python",
   "name": "python3"
  },
  "language_info": {
   "codemirror_mode": {
    "name": "ipython",
    "version": 3
   },
   "file_extension": ".py",
   "mimetype": "text/x-python",
   "name": "python",
   "nbconvert_exporter": "python",
   "pygments_lexer": "ipython3",
   "version": "3.6.15"
  },
  "papermill": {
   "default_parameters": {},
   "duration": 93.890921,
   "end_time": "2022-09-11T00:45:20.677163",
   "environment_variables": {},
   "exception": null,
   "input_path": "2020-08-11-part2.ipynb",
   "output_path": "2020-08-11-part2.ipynb",
   "parameters": {},
   "start_time": "2022-09-11T00:43:46.786242",
   "version": "2.3.3"
  }
 },
 "nbformat": 4,
 "nbformat_minor": 5
}