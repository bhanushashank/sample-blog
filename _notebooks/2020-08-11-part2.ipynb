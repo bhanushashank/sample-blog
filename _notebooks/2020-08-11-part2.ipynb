{
 "cells": [
  {
   "cell_type": "markdown",
   "id": "98380cd3",
   "metadata": {
    "papermill": {
     "duration": 0.037562,
     "end_time": "2022-06-27T20:10:08.036409",
     "exception": false,
     "start_time": "2022-06-27T20:10:07.998847",
     "status": "completed"
    },
    "tags": []
   },
   "source": [
    "# Distinguish Your Own Digits (DYOD)"
   ]
  },
  {
   "cell_type": "markdown",
   "id": "ef31240d",
   "metadata": {
    "papermill": {
     "duration": 0.033749,
     "end_time": "2022-06-27T20:10:08.103709",
     "exception": false,
     "start_time": "2022-06-27T20:10:08.069960",
     "status": "completed"
    },
    "tags": []
   },
   "source": [
    "You are going to write a classifier that distinguishes between the number 3 and number 8."
   ]
  },
  {
   "cell_type": "code",
   "execution_count": 1,
   "id": "b15c8646",
   "metadata": {
    "execution": {
     "iopub.execute_input": "2022-06-27T20:10:08.182439Z",
     "iopub.status.busy": "2022-06-27T20:10:08.177182Z",
     "iopub.status.idle": "2022-06-27T20:10:08.198752Z",
     "shell.execute_reply": "2022-06-27T20:10:08.199371Z"
    },
    "papermill": {
     "duration": 0.0589,
     "end_time": "2022-06-27T20:10:08.199574",
     "exception": false,
     "start_time": "2022-06-27T20:10:08.140674",
     "status": "completed"
    },
    "tags": []
   },
   "outputs": [],
   "source": [
    "%load_ext autoreload\n",
    "%autoreload 2"
   ]
  },
  {
   "cell_type": "code",
   "execution_count": 2,
   "id": "22ef38dc",
   "metadata": {
    "execution": {
     "iopub.execute_input": "2022-06-27T20:10:08.259530Z",
     "iopub.status.busy": "2022-06-27T20:10:08.258784Z",
     "iopub.status.idle": "2022-06-27T20:10:08.940203Z",
     "shell.execute_reply": "2022-06-27T20:10:08.938369Z"
    },
    "papermill": {
     "duration": 0.713416,
     "end_time": "2022-06-27T20:10:08.940428",
     "exception": false,
     "start_time": "2022-06-27T20:10:08.227012",
     "status": "completed"
    },
    "tags": []
   },
   "outputs": [],
   "source": [
    "%matplotlib inline\n",
    "import numpy as np\n",
    "import matplotlib.pyplot as plt\n",
    "import pandas as pd"
   ]
  },
  {
   "cell_type": "markdown",
   "id": "ba036198",
   "metadata": {
    "papermill": {
     "duration": 0.027931,
     "end_time": "2022-06-27T20:10:08.996035",
     "exception": false,
     "start_time": "2022-06-27T20:10:08.968104",
     "status": "completed"
    },
    "tags": []
   },
   "source": [
    "From the command line run `pip install mnist`. This is a library that will help you bring down the mnist dataset. If you run this from a notebook, you need to put  `!pip install mnist` in a cell by itself."
   ]
  },
  {
   "cell_type": "code",
   "execution_count": 3,
   "id": "bb6ad8a1",
   "metadata": {
    "execution": {
     "iopub.execute_input": "2022-06-27T20:10:09.055739Z",
     "iopub.status.busy": "2022-06-27T20:10:09.054977Z",
     "iopub.status.idle": "2022-06-27T20:10:11.084452Z",
     "shell.execute_reply": "2022-06-27T20:10:11.085592Z"
    },
    "papermill": {
     "duration": 2.062511,
     "end_time": "2022-06-27T20:10:11.085788",
     "exception": false,
     "start_time": "2022-06-27T20:10:09.023277",
     "status": "completed"
    },
    "tags": []
   },
   "outputs": [
    {
     "name": "stdout",
     "output_type": "stream",
     "text": [
      "Collecting mnist\r\n"
     ]
    },
    {
     "name": "stdout",
     "output_type": "stream",
     "text": [
      "  Downloading mnist-0.2.2-py2.py3-none-any.whl (3.5 kB)\r\n",
      "Requirement already satisfied: numpy in /opt/hostedtoolcache/Python/3.6.15/x64/lib/python3.6/site-packages (from mnist) (1.19.5)\r\n"
     ]
    },
    {
     "name": "stdout",
     "output_type": "stream",
     "text": [
      "Installing collected packages: mnist\r\n"
     ]
    },
    {
     "name": "stdout",
     "output_type": "stream",
     "text": [
      "Successfully installed mnist-0.2.2\r\n"
     ]
    }
   ],
   "source": [
    "!pip install mnist"
   ]
  },
  {
   "cell_type": "markdown",
   "id": "69df9c9a",
   "metadata": {
    "papermill": {
     "duration": 0.029003,
     "end_time": "2022-06-27T20:10:11.150271",
     "exception": false,
     "start_time": "2022-06-27T20:10:11.121268",
     "status": "completed"
    },
    "tags": []
   },
   "source": [
    "## Preparing the Data"
   ]
  },
  {
   "cell_type": "code",
   "execution_count": 4,
   "id": "7f69d806",
   "metadata": {
    "execution": {
     "iopub.execute_input": "2022-06-27T20:10:11.213407Z",
     "iopub.status.busy": "2022-06-27T20:10:11.212687Z",
     "iopub.status.idle": "2022-06-27T20:10:11.235353Z",
     "shell.execute_reply": "2022-06-27T20:10:11.234726Z"
    },
    "papermill": {
     "duration": 0.055505,
     "end_time": "2022-06-27T20:10:11.235499",
     "exception": false,
     "start_time": "2022-06-27T20:10:11.179994",
     "status": "completed"
    },
    "tags": []
   },
   "outputs": [],
   "source": [
    "import mnist"
   ]
  },
  {
   "cell_type": "code",
   "execution_count": 5,
   "id": "a411e44f",
   "metadata": {
    "execution": {
     "iopub.execute_input": "2022-06-27T20:10:11.310454Z",
     "iopub.status.busy": "2022-06-27T20:10:11.309072Z",
     "iopub.status.idle": "2022-06-27T20:10:13.327092Z",
     "shell.execute_reply": "2022-06-27T20:10:13.326412Z"
    },
    "papermill": {
     "duration": 2.057284,
     "end_time": "2022-06-27T20:10:13.327232",
     "exception": false,
     "start_time": "2022-06-27T20:10:11.269948",
     "status": "completed"
    },
    "tags": []
   },
   "outputs": [],
   "source": [
    "train_images = mnist.train_images()\n",
    "train_labels = mnist.train_labels()"
   ]
  },
  {
   "cell_type": "code",
   "execution_count": 6,
   "id": "dceab3a5",
   "metadata": {
    "execution": {
     "iopub.execute_input": "2022-06-27T20:10:13.403982Z",
     "iopub.status.busy": "2022-06-27T20:10:13.398346Z",
     "iopub.status.idle": "2022-06-27T20:10:13.415624Z",
     "shell.execute_reply": "2022-06-27T20:10:13.416158Z"
    },
    "papermill": {
     "duration": 0.052974,
     "end_time": "2022-06-27T20:10:13.416323",
     "exception": false,
     "start_time": "2022-06-27T20:10:13.363349",
     "status": "completed"
    },
    "tags": []
   },
   "outputs": [
    {
     "data": {
      "text/plain": [
       "((60000, 28, 28), (60000,))"
      ]
     },
     "execution_count": 6,
     "metadata": {},
     "output_type": "execute_result"
    }
   ],
   "source": [
    "train_images.shape, train_labels.shape"
   ]
  },
  {
   "cell_type": "code",
   "execution_count": 7,
   "id": "f50dc2bb",
   "metadata": {
    "execution": {
     "iopub.execute_input": "2022-06-27T20:10:13.478754Z",
     "iopub.status.busy": "2022-06-27T20:10:13.477989Z",
     "iopub.status.idle": "2022-06-27T20:10:13.699752Z",
     "shell.execute_reply": "2022-06-27T20:10:13.700341Z"
    },
    "papermill": {
     "duration": 0.255476,
     "end_time": "2022-06-27T20:10:13.700512",
     "exception": false,
     "start_time": "2022-06-27T20:10:13.445036",
     "status": "completed"
    },
    "tags": []
   },
   "outputs": [],
   "source": [
    "test_images = mnist.test_images()\n",
    "test_labels = mnist.test_labels()"
   ]
  },
  {
   "cell_type": "code",
   "execution_count": 8,
   "id": "fc38cf1b",
   "metadata": {
    "execution": {
     "iopub.execute_input": "2022-06-27T20:10:13.767262Z",
     "iopub.status.busy": "2022-06-27T20:10:13.764439Z",
     "iopub.status.idle": "2022-06-27T20:10:13.786638Z",
     "shell.execute_reply": "2022-06-27T20:10:13.787599Z"
    },
    "papermill": {
     "duration": 0.057892,
     "end_time": "2022-06-27T20:10:13.787796",
     "exception": false,
     "start_time": "2022-06-27T20:10:13.729904",
     "status": "completed"
    },
    "tags": []
   },
   "outputs": [
    {
     "data": {
      "text/plain": [
       "((10000, 28, 28), (10000,))"
      ]
     },
     "execution_count": 8,
     "metadata": {},
     "output_type": "execute_result"
    }
   ],
   "source": [
    "test_images.shape, test_labels.shape"
   ]
  },
  {
   "cell_type": "code",
   "execution_count": 9,
   "id": "f9ed8fe0",
   "metadata": {
    "execution": {
     "iopub.execute_input": "2022-06-27T20:10:13.853615Z",
     "iopub.status.busy": "2022-06-27T20:10:13.852906Z",
     "iopub.status.idle": "2022-06-27T20:10:14.036317Z",
     "shell.execute_reply": "2022-06-27T20:10:14.036872Z"
    },
    "papermill": {
     "duration": 0.218305,
     "end_time": "2022-06-27T20:10:14.037034",
     "exception": false,
     "start_time": "2022-06-27T20:10:13.818729",
     "status": "completed"
    },
    "tags": []
   },
   "outputs": [
    {
     "name": "stdout",
     "output_type": "stream",
     "text": [
      "2\n"
     ]
    },
    {
     "data": {
      "text/plain": [
       "<matplotlib.image.AxesImage at 0x7fa6c8fb6518>"
      ]
     },
     "execution_count": 9,
     "metadata": {},
     "output_type": "execute_result"
    },
    {
     "data": {
      "image/png": "[encoded data removed]",
      "text/plain": [
       "<Figure size 432x288 with 1 Axes>"
      ]
     },
     "metadata": {
      "needs_background": "light"
     },
     "output_type": "display_data"
    }
   ],
   "source": [
    "image_index = 7776 # You may select anything up to 60,000\n",
    "print(train_labels[image_index]) \n",
    "plt.imshow(train_images[image_index], cmap='Greys')"
   ]
  },
  {
   "cell_type": "markdown",
   "id": "a8d2388d",
   "metadata": {
    "papermill": {
     "duration": 0.034078,
     "end_time": "2022-06-27T20:10:14.103724",
     "exception": false,
     "start_time": "2022-06-27T20:10:14.069646",
     "status": "completed"
    },
    "tags": []
   },
   "source": [
    "## Filter data to get 3 and 8 out"
   ]
  },
  {
   "cell_type": "code",
   "execution_count": 10,
   "id": "776f7fc7",
   "metadata": {
    "execution": {
     "iopub.execute_input": "2022-06-27T20:10:14.179385Z",
     "iopub.status.busy": "2022-06-27T20:10:14.178653Z",
     "iopub.status.idle": "2022-06-27T20:10:14.209388Z",
     "shell.execute_reply": "2022-06-27T20:10:14.208765Z"
    },
    "papermill": {
     "duration": 0.068847,
     "end_time": "2022-06-27T20:10:14.209528",
     "exception": false,
     "start_time": "2022-06-27T20:10:14.140681",
     "status": "completed"
    },
    "tags": []
   },
   "outputs": [],
   "source": [
    "train_filter = np.where((train_labels == 3 ) | (train_labels == 8))\n",
    "test_filter = np.where((test_labels == 3) | (test_labels == 8))\n",
    "X_train, y_train = train_images[train_filter], train_labels[train_filter]\n",
    "X_test, y_test = test_images[test_filter], test_labels[test_filter]"
   ]
  },
  {
   "cell_type": "markdown",
   "id": "948f0b7e",
   "metadata": {
    "papermill": {
     "duration": 0.030228,
     "end_time": "2022-06-27T20:10:14.271180",
     "exception": false,
     "start_time": "2022-06-27T20:10:14.240952",
     "status": "completed"
    },
    "tags": []
   },
   "source": [
    "We normalize the pizel values in the 0 to 1 range"
   ]
  },
  {
   "cell_type": "code",
   "execution_count": 11,
   "id": "ee4c2166",
   "metadata": {
    "execution": {
     "iopub.execute_input": "2022-06-27T20:10:14.336559Z",
     "iopub.status.busy": "2022-06-27T20:10:14.335836Z",
     "iopub.status.idle": "2022-06-27T20:10:14.393080Z",
     "shell.execute_reply": "2022-06-27T20:10:14.392487Z"
    },
    "papermill": {
     "duration": 0.091914,
     "end_time": "2022-06-27T20:10:14.393227",
     "exception": false,
     "start_time": "2022-06-27T20:10:14.301313",
     "status": "completed"
    },
    "tags": []
   },
   "outputs": [],
   "source": [
    "X_train = X_train/255.\n",
    "X_test = X_test/255."
   ]
  },
  {
   "cell_type": "markdown",
   "id": "ddcf4fab",
   "metadata": {
    "papermill": {
     "duration": 0.030311,
     "end_time": "2022-06-27T20:10:14.454318",
     "exception": false,
     "start_time": "2022-06-27T20:10:14.424007",
     "status": "completed"
    },
    "tags": []
   },
   "source": [
    "And setup the labels as 1 (when the digit is 3) and 0 (when the digit is 8)"
   ]
  },
  {
   "cell_type": "code",
   "execution_count": 12,
   "id": "7dc908f2",
   "metadata": {
    "execution": {
     "iopub.execute_input": "2022-06-27T20:10:14.519411Z",
     "iopub.status.busy": "2022-06-27T20:10:14.518700Z",
     "iopub.status.idle": "2022-06-27T20:10:14.537120Z",
     "shell.execute_reply": "2022-06-27T20:10:14.536533Z"
    },
    "papermill": {
     "duration": 0.052716,
     "end_time": "2022-06-27T20:10:14.537257",
     "exception": false,
     "start_time": "2022-06-27T20:10:14.484541",
     "status": "completed"
    },
    "tags": []
   },
   "outputs": [],
   "source": [
    "y_train = 1*(y_train==3)\n",
    "y_test = 1*(y_test==3)"
   ]
  },
  {
   "cell_type": "code",
   "execution_count": 13,
   "id": "01e4e969",
   "metadata": {
    "execution": {
     "iopub.execute_input": "2022-06-27T20:10:14.611367Z",
     "iopub.status.busy": "2022-06-27T20:10:14.610122Z",
     "iopub.status.idle": "2022-06-27T20:10:14.629572Z",
     "shell.execute_reply": "2022-06-27T20:10:14.630442Z"
    },
    "papermill": {
     "duration": 0.055691,
     "end_time": "2022-06-27T20:10:14.630652",
     "exception": false,
     "start_time": "2022-06-27T20:10:14.574961",
     "status": "completed"
    },
    "tags": []
   },
   "outputs": [
    {
     "data": {
      "text/plain": [
       "((11982, 28, 28), (1984, 28, 28))"
      ]
     },
     "execution_count": 13,
     "metadata": {},
     "output_type": "execute_result"
    }
   ],
   "source": [
    "X_train.shape, X_test.shape"
   ]
  },
  {
   "cell_type": "markdown",
   "id": "5ccf3f85",
   "metadata": {
    "papermill": {
     "duration": 0.039022,
     "end_time": "2022-06-27T20:10:14.705852",
     "exception": false,
     "start_time": "2022-06-27T20:10:14.666830",
     "status": "completed"
    },
    "tags": []
   },
   "source": [
    "We reshape the data to flatten the image pixels into a set of features or co-variates:"
   ]
  },
  {
   "cell_type": "code",
   "execution_count": 14,
   "id": "5286a4a3",
   "metadata": {
    "execution": {
     "iopub.execute_input": "2022-06-27T20:10:14.775667Z",
     "iopub.status.busy": "2022-06-27T20:10:14.774950Z",
     "iopub.status.idle": "2022-06-27T20:10:14.805056Z",
     "shell.execute_reply": "2022-06-27T20:10:14.804432Z"
    },
    "papermill": {
     "duration": 0.065119,
     "end_time": "2022-06-27T20:10:14.805194",
     "exception": false,
     "start_time": "2022-06-27T20:10:14.740075",
     "status": "completed"
    },
    "tags": []
   },
   "outputs": [
    {
     "data": {
      "text/plain": [
       "((11982, 784), (1984, 784))"
      ]
     },
     "execution_count": 14,
     "metadata": {},
     "output_type": "execute_result"
    }
   ],
   "source": [
    "X_train = X_train.reshape(X_train.shape[0], -1)\n",
    "X_test = X_test.reshape(X_test.shape[0], -1)\n",
    "X_train.shape, X_test.shape"
   ]
  },
  {
   "cell_type": "code",
   "execution_count": 15,
   "id": "73c5f88a",
   "metadata": {
    "execution": {
     "iopub.execute_input": "2022-06-27T20:10:14.892057Z",
     "iopub.status.busy": "2022-06-27T20:10:14.891287Z",
     "iopub.status.idle": "2022-06-27T20:10:14.917709Z",
     "shell.execute_reply": "2022-06-27T20:10:14.917051Z"
    },
    "papermill": {
     "duration": 0.078983,
     "end_time": "2022-06-27T20:10:14.917848",
     "exception": false,
     "start_time": "2022-06-27T20:10:14.838865",
     "status": "completed"
    },
    "tags": []
   },
   "outputs": [],
   "source": [
    "#Impoting functions from 'Kudzu'\n",
    "from kudzu.model import Model\n",
    "from kudzu.train import Learner\n",
    "from kudzu.optim import GD\n",
    "from kudzu.data import Data, Sampler,Dataloader\n",
    "\n",
    "from kudzu.callbacks import AccCallback\n",
    "from kudzu.callbacks import ClfCallback\n",
    "\n",
    "from kudzu.loss import MSE\n",
    "\n",
    "from kudzu.layer import Sigmoid,Relu\n",
    "from kudzu.layer import Affine"
   ]
  },
  {
   "cell_type": "markdown",
   "id": "bc01172a",
   "metadata": {
    "papermill": {
     "duration": 0.030666,
     "end_time": "2022-06-27T20:10:14.979986",
     "exception": false,
     "start_time": "2022-06-27T20:10:14.949320",
     "status": "completed"
    },
    "tags": []
   },
   "source": [
    "### Let us create a `Config` class, to store important parameters. \n",
    "This class essentially plays the role of a dictionary."
   ]
  },
  {
   "cell_type": "code",
   "execution_count": 16,
   "id": "978281aa",
   "metadata": {
    "execution": {
     "iopub.execute_input": "2022-06-27T20:10:15.047559Z",
     "iopub.status.busy": "2022-06-27T20:10:15.046811Z",
     "iopub.status.idle": "2022-06-27T20:10:15.063944Z",
     "shell.execute_reply": "2022-06-27T20:10:15.065820Z"
    },
    "papermill": {
     "duration": 0.055957,
     "end_time": "2022-06-27T20:10:15.066681",
     "exception": false,
     "start_time": "2022-06-27T20:10:15.010724",
     "status": "completed"
    },
    "tags": []
   },
   "outputs": [],
   "source": [
    "class Config:\n",
    "    pass\n",
    "config = Config()\n",
    "config.lr = 0.001\n",
    "config.num_epochs = 250\n",
    "config.bs = 50"
   ]
  },
  {
   "cell_type": "markdown",
   "id": "1385fa59",
   "metadata": {
    "papermill": {
     "duration": 0.030829,
     "end_time": "2022-06-27T20:10:15.128851",
     "exception": false,
     "start_time": "2022-06-27T20:10:15.098022",
     "status": "completed"
    },
    "tags": []
   },
   "source": [
    "### Running Models with the Training data\n",
    "Details about the network layers:\n",
    "- A first affine layer has 784 inputs and does 100 affine transforms. These are followed by a Relu\n",
    "- A second affine layer has 100 inputs from the 100 activations of the past layer, and does 100 affine transforms. These are followed by a Relu\n",
    "- A third affine layer has 100 activations and does 2 affine transformations to create an embedding for visualization. There is no non-linearity here.\n",
    "- A final \"logistic regression\" which has an affine transform from 2 inputs to 1 output, which is squeezed through a sigmoid.\n"
   ]
  },
  {
   "cell_type": "code",
   "execution_count": 17,
   "id": "2b9c66db",
   "metadata": {
    "execution": {
     "iopub.execute_input": "2022-06-27T20:10:15.197026Z",
     "iopub.status.busy": "2022-06-27T20:10:15.196309Z",
     "iopub.status.idle": "2022-06-27T20:10:15.213420Z",
     "shell.execute_reply": "2022-06-27T20:10:15.212319Z"
    },
    "papermill": {
     "duration": 0.05381,
     "end_time": "2022-06-27T20:10:15.213581",
     "exception": false,
     "start_time": "2022-06-27T20:10:15.159771",
     "status": "completed"
    },
    "tags": []
   },
   "outputs": [],
   "source": [
    "data = Data(X_train, y_train.reshape(-1,1))\n",
    "sampler = Sampler(data, config.bs, shuffle=True)\n",
    "\n",
    "dl = Dataloader(data, sampler)\n",
    "\n",
    "opt = GD(config.lr)\n",
    "loss = MSE()"
   ]
  },
  {
   "cell_type": "code",
   "execution_count": 18,
   "id": "b275e4c2",
   "metadata": {
    "execution": {
     "iopub.execute_input": "2022-06-27T20:10:15.298704Z",
     "iopub.status.busy": "2022-06-27T20:10:15.296877Z",
     "iopub.status.idle": "2022-06-27T20:10:15.312439Z",
     "shell.execute_reply": "2022-06-27T20:10:15.311824Z"
    },
    "papermill": {
     "duration": 0.06038,
     "end_time": "2022-06-27T20:10:15.312579",
     "exception": false,
     "start_time": "2022-06-27T20:10:15.252199",
     "status": "completed"
    },
    "tags": []
   },
   "outputs": [],
   "source": [
    "training_data_x = X_train\n",
    "testing_data_x = X_test\n",
    "training_data_y = y_train.reshape(-1,1)\n",
    "testing_data_y = y_test.reshape(-1,1)"
   ]
  },
  {
   "cell_type": "code",
   "execution_count": 19,
   "id": "76951160",
   "metadata": {
    "execution": {
     "iopub.execute_input": "2022-06-27T20:10:15.384841Z",
     "iopub.status.busy": "2022-06-27T20:10:15.384124Z",
     "iopub.status.idle": "2022-06-27T20:10:15.408616Z",
     "shell.execute_reply": "2022-06-27T20:10:15.408032Z"
    },
    "papermill": {
     "duration": 0.063333,
     "end_time": "2022-06-27T20:10:15.408754",
     "exception": false,
     "start_time": "2022-06-27T20:10:15.345421",
     "status": "completed"
    },
    "tags": []
   },
   "outputs": [
    {
     "name": "stdout",
     "output_type": "stream",
     "text": [
      "xavier\n",
      "xavier\n",
      "xavier\n",
      "xavier\n",
      "xavier\n"
     ]
    }
   ],
   "source": [
    "layers = [Affine(\"first\", 784, 100), Relu(\"first\"), Affine(\"second\", 100, 100), Relu(\"second\"), Affine(\"third\", 100, 2), Affine(\"last\", 2, 1), Sigmoid(\"last\")]\n",
    "model_nn = Model(layers)\n",
    "model_lr = Model([Affine(\"logits\", 784, 1), Sigmoid(\"sigmoid\")])"
   ]
  },
  {
   "cell_type": "code",
   "execution_count": 20,
   "id": "6eede77a",
   "metadata": {
    "execution": {
     "iopub.execute_input": "2022-06-27T20:10:15.484754Z",
     "iopub.status.busy": "2022-06-27T20:10:15.484046Z",
     "iopub.status.idle": "2022-06-27T20:10:15.517539Z",
     "shell.execute_reply": "2022-06-27T20:10:15.516852Z"
    },
    "papermill": {
     "duration": 0.073857,
     "end_time": "2022-06-27T20:10:15.517685",
     "exception": false,
     "start_time": "2022-06-27T20:10:15.443828",
     "status": "completed"
    },
    "tags": []
   },
   "outputs": [],
   "source": [
    "nn_learner = Learner(loss, model_nn, opt, config.num_epochs)\n",
    "acc_nn = ClfCallback(nn_learner, config.bs, training_data_x , testing_data_x, training_data_y, testing_data_y)\n",
    "nn_learner.set_callbacks([acc_nn])"
   ]
  },
  {
   "cell_type": "code",
   "execution_count": 21,
   "id": "877b6cc7",
   "metadata": {
    "execution": {
     "iopub.execute_input": "2022-06-27T20:10:15.596095Z",
     "iopub.status.busy": "2022-06-27T20:10:15.595112Z",
     "iopub.status.idle": "2022-06-27T20:10:15.615478Z",
     "shell.execute_reply": "2022-06-27T20:10:15.614806Z"
    },
    "papermill": {
     "duration": 0.062003,
     "end_time": "2022-06-27T20:10:15.615628",
     "exception": false,
     "start_time": "2022-06-27T20:10:15.553625",
     "status": "completed"
    },
    "tags": []
   },
   "outputs": [],
   "source": [
    "lr_learner = Learner(loss, model_lr, opt, config.num_epochs)\n",
    "acc_lr = ClfCallback(lr_learner, config.bs, training_data_x , testing_data_x, training_data_y, testing_data_y)\n",
    "lr_learner.set_callbacks([acc_lr])"
   ]
  },
  {
   "cell_type": "code",
   "execution_count": 22,
   "id": "d9b133c3",
   "metadata": {
    "execution": {
     "iopub.execute_input": "2022-06-27T20:10:15.697544Z",
     "iopub.status.busy": "2022-06-27T20:10:15.696823Z",
     "iopub.status.idle": "2022-06-27T20:11:56.911755Z",
     "shell.execute_reply": "2022-06-27T20:11:56.912763Z"
    },
    "papermill": {
     "duration": 101.256646,
     "end_time": "2022-06-27T20:11:56.912939",
     "exception": false,
     "start_time": "2022-06-27T20:10:15.656293",
     "status": "completed"
    },
    "tags": []
   },
   "outputs": [
    {
     "name": "stdout",
     "output_type": "stream",
     "text": [
      "Epoch 0, Loss 0.251\n",
      "Training Accuracy: 0.5682, Testing Accuracy: 0.5867\n",
      "\n"
     ]
    },
    {
     "name": "stdout",
     "output_type": "stream",
     "text": [
      "Epoch 10, Loss 0.119\n",
      "Training Accuracy: 0.9071, Testing Accuracy: 0.9158\n",
      "\n"
     ]
    },
    {
     "name": "stdout",
     "output_type": "stream",
     "text": [
      "Epoch 20, Loss 0.0653\n",
      "Training Accuracy: 0.9352, Testing Accuracy: 0.9461\n",
      "\n"
     ]
    },
    {
     "name": "stdout",
     "output_type": "stream",
     "text": [
      "Epoch 30, Loss 0.0486\n",
      "Training Accuracy: 0.9492, Testing Accuracy: 0.9582\n",
      "\n"
     ]
    },
    {
     "name": "stdout",
     "output_type": "stream",
     "text": [
      "Epoch 40, Loss 0.041\n",
      "Training Accuracy: 0.9544, Testing Accuracy: 0.9647\n",
      "\n"
     ]
    },
    {
     "name": "stdout",
     "output_type": "stream",
     "text": [
      "Epoch 50, Loss 0.0365\n",
      "Training Accuracy: 0.9581, Testing Accuracy: 0.9657\n",
      "\n"
     ]
    },
    {
     "name": "stdout",
     "output_type": "stream",
     "text": [
      "Epoch 60, Loss 0.0336\n",
      "Training Accuracy: 0.9611, Testing Accuracy: 0.9677\n",
      "\n"
     ]
    },
    {
     "name": "stdout",
     "output_type": "stream",
     "text": [
      "Epoch 70, Loss 0.0315\n",
      "Training Accuracy: 0.9629, Testing Accuracy: 0.9698\n",
      "\n"
     ]
    },
    {
     "name": "stdout",
     "output_type": "stream",
     "text": [
      "Epoch 80, Loss 0.0298\n",
      "Training Accuracy: 0.9647, Testing Accuracy: 0.9703\n",
      "\n"
     ]
    },
    {
     "name": "stdout",
     "output_type": "stream",
     "text": [
      "Epoch 90, Loss 0.0285\n",
      "Training Accuracy: 0.9667, Testing Accuracy: 0.9708\n",
      "\n"
     ]
    },
    {
     "name": "stdout",
     "output_type": "stream",
     "text": [
      "Epoch 100, Loss 0.0274\n",
      "Training Accuracy: 0.9685, Testing Accuracy: 0.9718\n",
      "\n"
     ]
    },
    {
     "name": "stdout",
     "output_type": "stream",
     "text": [
      "Epoch 110, Loss 0.0264\n",
      "Training Accuracy: 0.9693, Testing Accuracy: 0.9713\n",
      "\n"
     ]
    },
    {
     "name": "stdout",
     "output_type": "stream",
     "text": [
      "Epoch 120, Loss 0.0256\n",
      "Training Accuracy: 0.9704, Testing Accuracy: 0.9728\n",
      "\n"
     ]
    },
    {
     "name": "stdout",
     "output_type": "stream",
     "text": [
      "Epoch 130, Loss 0.0249\n",
      "Training Accuracy: 0.9711, Testing Accuracy: 0.9728\n",
      "\n"
     ]
    },
    {
     "name": "stdout",
     "output_type": "stream",
     "text": [
      "Epoch 140, Loss 0.0242\n",
      "Training Accuracy: 0.9717, Testing Accuracy: 0.9723\n",
      "\n"
     ]
    },
    {
     "name": "stdout",
     "output_type": "stream",
     "text": [
      "Epoch 150, Loss 0.0236\n",
      "Training Accuracy: 0.9720, Testing Accuracy: 0.9738\n",
      "\n"
     ]
    },
    {
     "name": "stdout",
     "output_type": "stream",
     "text": [
      "Epoch 160, Loss 0.0231\n",
      "Training Accuracy: 0.9728, Testing Accuracy: 0.9738\n",
      "\n"
     ]
    },
    {
     "name": "stdout",
     "output_type": "stream",
     "text": [
      "Epoch 170, Loss 0.0225\n",
      "Training Accuracy: 0.9735, Testing Accuracy: 0.9738\n",
      "\n"
     ]
    },
    {
     "name": "stdout",
     "output_type": "stream",
     "text": [
      "Epoch 180, Loss 0.0221\n",
      "Training Accuracy: 0.9737, Testing Accuracy: 0.9733\n",
      "\n"
     ]
    },
    {
     "name": "stdout",
     "output_type": "stream",
     "text": [
      "Epoch 190, Loss 0.0216\n",
      "Training Accuracy: 0.9741, Testing Accuracy: 0.9728\n",
      "\n"
     ]
    },
    {
     "name": "stdout",
     "output_type": "stream",
     "text": [
      "Epoch 200, Loss 0.0212\n",
      "Training Accuracy: 0.9749, Testing Accuracy: 0.9728\n",
      "\n"
     ]
    },
    {
     "name": "stdout",
     "output_type": "stream",
     "text": [
      "Epoch 210, Loss 0.0208\n",
      "Training Accuracy: 0.9755, Testing Accuracy: 0.9723\n",
      "\n"
     ]
    },
    {
     "name": "stdout",
     "output_type": "stream",
     "text": [
      "Epoch 220, Loss 0.0204\n",
      "Training Accuracy: 0.9760, Testing Accuracy: 0.9718\n",
      "\n"
     ]
    },
    {
     "name": "stdout",
     "output_type": "stream",
     "text": [
      "Epoch 230, Loss 0.02\n",
      "Training Accuracy: 0.9765, Testing Accuracy: 0.9723\n",
      "\n"
     ]
    },
    {
     "name": "stdout",
     "output_type": "stream",
     "text": [
      "Epoch 240, Loss 0.0196\n",
      "Training Accuracy: 0.9770, Testing Accuracy: 0.9723\n",
      "\n"
     ]
    },
    {
     "data": {
      "text/plain": [
       "0.07588722643324013"
      ]
     },
     "execution_count": 22,
     "metadata": {},
     "output_type": "execute_result"
    }
   ],
   "source": [
    "nn_learner.train_loop(dl)"
   ]
  },
  {
   "cell_type": "code",
   "execution_count": 23,
   "id": "e0163366",
   "metadata": {
    "execution": {
     "iopub.execute_input": "2022-06-27T20:11:57.000589Z",
     "iopub.status.busy": "2022-06-27T20:11:56.999885Z",
     "iopub.status.idle": "2022-06-27T20:12:15.145428Z",
     "shell.execute_reply": "2022-06-27T20:12:15.146440Z"
    },
    "papermill": {
     "duration": 18.194249,
     "end_time": "2022-06-27T20:12:15.146612",
     "exception": false,
     "start_time": "2022-06-27T20:11:56.952363",
     "status": "completed"
    },
    "tags": []
   },
   "outputs": [
    {
     "name": "stdout",
     "output_type": "stream",
     "text": [
      "Epoch 0, Loss 0.239\n",
      "Training Accuracy: 0.6790, Testing Accuracy: 0.7132\n",
      "\n"
     ]
    },
    {
     "name": "stdout",
     "output_type": "stream",
     "text": [
      "Epoch 10, Loss 0.1024\n",
      "Training Accuracy: 0.9054, Testing Accuracy: 0.9173\n",
      "\n"
     ]
    },
    {
     "name": "stdout",
     "output_type": "stream",
     "text": [
      "Epoch 20, Loss 0.0791\n",
      "Training Accuracy: 0.9263, Testing Accuracy: 0.9360\n",
      "\n"
     ]
    },
    {
     "name": "stdout",
     "output_type": "stream",
     "text": [
      "Epoch 30, Loss 0.0681\n",
      "Training Accuracy: 0.9358, Testing Accuracy: 0.9446\n",
      "\n"
     ]
    },
    {
     "name": "stdout",
     "output_type": "stream",
     "text": [
      "Epoch 40, Loss 0.0615\n",
      "Training Accuracy: 0.9420, Testing Accuracy: 0.9491\n",
      "\n"
     ]
    },
    {
     "name": "stdout",
     "output_type": "stream",
     "text": [
      "Epoch 50, Loss 0.0569\n",
      "Training Accuracy: 0.9458, Testing Accuracy: 0.9541\n",
      "\n"
     ]
    },
    {
     "name": "stdout",
     "output_type": "stream",
     "text": [
      "Epoch 60, Loss 0.0536\n",
      "Training Accuracy: 0.9480, Testing Accuracy: 0.9561\n",
      "\n"
     ]
    },
    {
     "name": "stdout",
     "output_type": "stream",
     "text": [
      "Epoch 70, Loss 0.0511\n",
      "Training Accuracy: 0.9498, Testing Accuracy: 0.9577\n",
      "\n"
     ]
    },
    {
     "name": "stdout",
     "output_type": "stream",
     "text": [
      "Epoch 80, Loss 0.049\n",
      "Training Accuracy: 0.9513, Testing Accuracy: 0.9592\n",
      "\n"
     ]
    },
    {
     "name": "stdout",
     "output_type": "stream",
     "text": [
      "Epoch 90, Loss 0.0474\n",
      "Training Accuracy: 0.9528, Testing Accuracy: 0.9597\n",
      "\n"
     ]
    },
    {
     "name": "stdout",
     "output_type": "stream",
     "text": [
      "Epoch 100, Loss 0.0459\n",
      "Training Accuracy: 0.9541, Testing Accuracy: 0.9607\n",
      "\n"
     ]
    },
    {
     "name": "stdout",
     "output_type": "stream",
     "text": [
      "Epoch 110, Loss 0.0447\n",
      "Training Accuracy: 0.9553, Testing Accuracy: 0.9622\n",
      "\n"
     ]
    },
    {
     "name": "stdout",
     "output_type": "stream",
     "text": [
      "Epoch 120, Loss 0.0437\n",
      "Training Accuracy: 0.9555, Testing Accuracy: 0.9627\n",
      "\n"
     ]
    },
    {
     "name": "stdout",
     "output_type": "stream",
     "text": [
      "Epoch 130, Loss 0.0428\n",
      "Training Accuracy: 0.9560, Testing Accuracy: 0.9642\n",
      "\n"
     ]
    },
    {
     "name": "stdout",
     "output_type": "stream",
     "text": [
      "Epoch 140, Loss 0.0419\n",
      "Training Accuracy: 0.9564, Testing Accuracy: 0.9657\n",
      "\n"
     ]
    },
    {
     "name": "stdout",
     "output_type": "stream",
     "text": [
      "Epoch 150, Loss 0.0412\n",
      "Training Accuracy: 0.9573, Testing Accuracy: 0.9667\n",
      "\n"
     ]
    },
    {
     "name": "stdout",
     "output_type": "stream",
     "text": [
      "Epoch 160, Loss 0.0405\n",
      "Training Accuracy: 0.9574, Testing Accuracy: 0.9667\n",
      "\n"
     ]
    },
    {
     "name": "stdout",
     "output_type": "stream",
     "text": [
      "Epoch 170, Loss 0.0399\n",
      "Training Accuracy: 0.9579, Testing Accuracy: 0.9667\n",
      "\n"
     ]
    },
    {
     "name": "stdout",
     "output_type": "stream",
     "text": [
      "Epoch 180, Loss 0.0394\n",
      "Training Accuracy: 0.9583, Testing Accuracy: 0.9667\n",
      "\n"
     ]
    },
    {
     "name": "stdout",
     "output_type": "stream",
     "text": [
      "Epoch 190, Loss 0.0389\n",
      "Training Accuracy: 0.9586, Testing Accuracy: 0.9667\n",
      "\n"
     ]
    },
    {
     "name": "stdout",
     "output_type": "stream",
     "text": [
      "Epoch 200, Loss 0.0384\n",
      "Training Accuracy: 0.9588, Testing Accuracy: 0.9672\n",
      "\n"
     ]
    },
    {
     "name": "stdout",
     "output_type": "stream",
     "text": [
      "Epoch 210, Loss 0.038\n",
      "Training Accuracy: 0.9592, Testing Accuracy: 0.9672\n",
      "\n"
     ]
    },
    {
     "name": "stdout",
     "output_type": "stream",
     "text": [
      "Epoch 220, Loss 0.0376\n",
      "Training Accuracy: 0.9593, Testing Accuracy: 0.9677\n",
      "\n"
     ]
    },
    {
     "name": "stdout",
     "output_type": "stream",
     "text": [
      "Epoch 230, Loss 0.0372\n",
      "Training Accuracy: 0.9599, Testing Accuracy: 0.9677\n",
      "\n"
     ]
    },
    {
     "name": "stdout",
     "output_type": "stream",
     "text": [
      "Epoch 240, Loss 0.0368\n",
      "Training Accuracy: 0.9604, Testing Accuracy: 0.9672\n",
      "\n"
     ]
    },
    {
     "data": {
      "text/plain": [
       "0.025690762030969306"
      ]
     },
     "execution_count": 23,
     "metadata": {},
     "output_type": "execute_result"
    }
   ],
   "source": [
    "lr_learner.train_loop(dl)"
   ]
  },
  {
   "cell_type": "code",
   "execution_count": 24,
   "id": "ca410940",
   "metadata": {
    "execution": {
     "iopub.execute_input": "2022-06-27T20:12:15.256155Z",
     "iopub.status.busy": "2022-06-27T20:12:15.255433Z",
     "iopub.status.idle": "2022-06-27T20:12:15.514222Z",
     "shell.execute_reply": "2022-06-27T20:12:15.513463Z"
    },
    "papermill": {
     "duration": 0.319858,
     "end_time": "2022-06-27T20:12:15.514373",
     "exception": false,
     "start_time": "2022-06-27T20:12:15.194515",
     "status": "completed"
    },
    "tags": []
   },
   "outputs": [
    {
     "data": {
      "text/plain": [
       "<matplotlib.legend.Legend at 0x7fa6c8b16c18>"
      ]
     },
     "execution_count": 24,
     "metadata": {},
     "output_type": "execute_result"
    },
    {
     "data": {
      "image/png": "[encoded data removed]",
      "text/plain": [
       "<Figure size 1080x720 with 1 Axes>"
      ]
     },
     "metadata": {
      "needs_background": "light"
     },
     "output_type": "display_data"
    }
   ],
   "source": [
    "#comparing the results of NN and LR\n",
    "plt.figure(figsize=(15,10))\n",
    "\n",
    "# Neural Network plots\n",
    "plt.plot(acc_nn.accuracies, 'r-', label = \"Training Accuracies - NN\")\n",
    "plt.plot(acc_nn.test_accuracies, 'g-', label = \"Testing Accuracies - NN\")\n",
    "\n",
    "# Logistic Regression plots\n",
    "plt.plot(acc_lr.accuracies, 'k-', label = \"Training Accuracies - LR\")\n",
    "plt.plot(acc_lr.test_accuracies, 'b-', label = \"Testing Accuracies - LR\")\n",
    "plt.legend()"
   ]
  },
  {
   "cell_type": "markdown",
   "id": "80dfb35c",
   "metadata": {
    "papermill": {
     "duration": 0.047742,
     "end_time": "2022-06-27T20:12:15.610508",
     "exception": false,
     "start_time": "2022-06-27T20:12:15.562766",
     "status": "completed"
    },
    "tags": []
   },
   "source": [
    "#### Plotting the outputs of this layer of the NN.\n"
   ]
  },
  {
   "cell_type": "code",
   "execution_count": 25,
   "id": "45eb2ff5",
   "metadata": {
    "execution": {
     "iopub.execute_input": "2022-06-27T20:12:15.714301Z",
     "iopub.status.busy": "2022-06-27T20:12:15.713429Z",
     "iopub.status.idle": "2022-06-27T20:12:15.737757Z",
     "shell.execute_reply": "2022-06-27T20:12:15.736650Z"
    },
    "papermill": {
     "duration": 0.079466,
     "end_time": "2022-06-27T20:12:15.737918",
     "exception": false,
     "start_time": "2022-06-27T20:12:15.658452",
     "status": "completed"
    },
    "tags": []
   },
   "outputs": [],
   "source": [
    "new_model = Model(layers[:-2])\n",
    "testing_plot = new_model(testing_data_x)"
   ]
  },
  {
   "cell_type": "code",
   "execution_count": 26,
   "id": "4c0a5485",
   "metadata": {
    "execution": {
     "iopub.execute_input": "2022-06-27T20:12:15.851729Z",
     "iopub.status.busy": "2022-06-27T20:12:15.850962Z",
     "iopub.status.idle": "2022-06-27T20:12:16.084612Z",
     "shell.execute_reply": "2022-06-27T20:12:16.084008Z"
    },
    "papermill": {
     "duration": 0.295494,
     "end_time": "2022-06-27T20:12:16.084752",
     "exception": false,
     "start_time": "2022-06-27T20:12:15.789258",
     "status": "completed"
    },
    "tags": []
   },
   "outputs": [
    {
     "data": {
      "text/plain": [
       "Text(0.5, 1.0, 'Outputs')"
      ]
     },
     "execution_count": 26,
     "metadata": {},
     "output_type": "execute_result"
    },
    {
     "data": {
      "image/png": "[encoded data removed]",
      "text/plain": [
       "<Figure size 576x504 with 1 Axes>"
      ]
     },
     "metadata": {
      "needs_background": "light"
     },
     "output_type": "display_data"
    }
   ],
   "source": [
    "# Plotting the scatter plot of points and color coding by class\n",
    "plt.figure(figsize=(8,7))\n",
    "plt.scatter(testing_plot[:,0], testing_plot[:,1], alpha = 0.1, c = y_test.ravel());\n",
    "plt.title('Outputs')"
   ]
  },
  {
   "cell_type": "markdown",
   "id": "a74fcf8f",
   "metadata": {
    "papermill": {
     "duration": 0.050678,
     "end_time": "2022-06-27T20:12:16.194774",
     "exception": false,
     "start_time": "2022-06-27T20:12:16.144096",
     "status": "completed"
    },
    "tags": []
   },
   "source": [
    "Probability contours"
   ]
  },
  {
   "cell_type": "code",
   "execution_count": 27,
   "id": "d0afc8e3",
   "metadata": {
    "execution": {
     "iopub.execute_input": "2022-06-27T20:12:16.343476Z",
     "iopub.status.busy": "2022-06-27T20:12:16.342504Z",
     "iopub.status.idle": "2022-06-27T20:12:16.360377Z",
     "shell.execute_reply": "2022-06-27T20:12:16.360929Z"
    },
    "papermill": {
     "duration": 0.078298,
     "end_time": "2022-06-27T20:12:16.361111",
     "exception": false,
     "start_time": "2022-06-27T20:12:16.282813",
     "status": "completed"
    },
    "tags": []
   },
   "outputs": [],
   "source": [
    "model_prob = Model(layers[-2:]) "
   ]
  },
  {
   "cell_type": "code",
   "execution_count": 28,
   "id": "9b96e238",
   "metadata": {
    "execution": {
     "iopub.execute_input": "2022-06-27T20:12:16.479838Z",
     "iopub.status.busy": "2022-06-27T20:12:16.479103Z",
     "iopub.status.idle": "2022-06-27T20:12:16.497833Z",
     "shell.execute_reply": "2022-06-27T20:12:16.498397Z"
    },
    "papermill": {
     "duration": 0.084932,
     "end_time": "2022-06-27T20:12:16.498579",
     "exception": false,
     "start_time": "2022-06-27T20:12:16.413647",
     "status": "completed"
    },
    "tags": []
   },
   "outputs": [],
   "source": [
    "#creating the x and y ranges according to the above generated plot.\n",
    "x_range = np.linspace(-4, 1, 100) \n",
    "y_range = np.linspace(-6, 6, 100) \n",
    "x_grid, y_grid = np.meshgrid(x_range, y_range) # x_grid and y_grig are of size 100 X 100\n",
    "\n",
    "# converting x_grid and y_grid to continuous arrays\n",
    "x_gridflat = np.ravel(x_grid)\n",
    "y_gridflat = np.ravel(y_grid)\n",
    "\n",
    "# The last layer of the current model takes two columns as input. Hence transpose of np.vstack() is required.\n",
    "X = np.vstack((x_gridflat, y_gridflat)).T\n",
    "\n",
    "prob_contour = model_prob(X).reshape(100,100) "
   ]
  },
  {
   "cell_type": "code",
   "execution_count": 29,
   "id": "da72499a",
   "metadata": {
    "execution": {
     "iopub.execute_input": "2022-06-27T20:12:16.616289Z",
     "iopub.status.busy": "2022-06-27T20:12:16.615547Z",
     "iopub.status.idle": "2022-06-27T20:12:16.910266Z",
     "shell.execute_reply": "2022-06-27T20:12:16.910869Z"
    },
    "papermill": {
     "duration": 0.360036,
     "end_time": "2022-06-27T20:12:16.911046",
     "exception": false,
     "start_time": "2022-06-27T20:12:16.551010",
     "status": "completed"
    },
    "tags": []
   },
   "outputs": [
    {
     "data": {
      "image/png": "[encoded data removed]",
      "text/plain": [
       "<Figure size 720x648 with 1 Axes>"
      ]
     },
     "metadata": {
      "needs_background": "light"
     },
     "output_type": "display_data"
    }
   ],
   "source": [
    "plt.figure(figsize=(10,9))\n",
    "plt.scatter(testing_plot[:,0], testing_plot[:,1], alpha = 0.1, c = y_test.ravel())\n",
    "contours = plt.contour(x_grid,y_grid,prob_contour)\n",
    "plt.title('Probability Contours')\n",
    "plt.clabel(contours, inline = True );"
   ]
  },
  {
   "cell_type": "code",
   "execution_count": null,
   "id": "e81b4ac7",
   "metadata": {
    "papermill": {
     "duration": 0.056262,
     "end_time": "2022-06-27T20:12:17.041029",
     "exception": false,
     "start_time": "2022-06-27T20:12:16.984767",
     "status": "completed"
    },
    "tags": []
   },
   "outputs": [],
   "source": []
  }
 ],
 "metadata": {
  "kernelspec": {
   "display_name": "Python 3",
   "language": "python",
   "name": "python3"
  },
  "language_info": {
   "codemirror_mode": {
    "name": "ipython",
    "version": 3
   },
   "file_extension": ".py",
   "mimetype": "text/x-python",
   "name": "python",
   "nbconvert_exporter": "python",
   "pygments_lexer": "ipython3",
   "version": "3.6.15"
  },
  "papermill": {
   "default_parameters": {},
   "duration": 130.707307,
   "end_time": "2022-06-27T20:12:17.516803",
   "environment_variables": {},
   "exception": null,
   "input_path": "2020-08-11-part2.ipynb",
   "output_path": "2020-08-11-part2.ipynb",
   "parameters": {},
   "start_time": "2022-06-27T20:10:06.809496",
   "version": "2.3.3"
  }
 },
 "nbformat": 4,
 "nbformat_minor": 5
}