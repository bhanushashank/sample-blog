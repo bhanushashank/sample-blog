{
 "cells": [
  {
   "cell_type": "markdown",
   "id": "98380cd3",
   "metadata": {
    "papermill": {
     "duration": 0.031143,
     "end_time": "2022-01-16T20:09:07.618656",
     "exception": false,
     "start_time": "2022-01-16T20:09:07.587513",
     "status": "completed"
    },
    "tags": []
   },
   "source": [
    "# Distinguish Your Own Digits (DYOD)"
   ]
  },
  {
   "cell_type": "markdown",
   "id": "ef31240d",
   "metadata": {
    "papermill": {
     "duration": 0.026246,
     "end_time": "2022-01-16T20:09:07.672181",
     "exception": false,
     "start_time": "2022-01-16T20:09:07.645935",
     "status": "completed"
    },
    "tags": []
   },
   "source": [
    "You are going to write a classifier that distinguishes between the number 3 and number 8."
   ]
  },
  {
   "cell_type": "code",
   "execution_count": 1,
   "id": "b15c8646",
   "metadata": {
    "execution": {
     "iopub.execute_input": "2022-01-16T20:09:07.737408Z",
     "iopub.status.busy": "2022-01-16T20:09:07.736779Z",
     "iopub.status.idle": "2022-01-16T20:09:07.748150Z",
     "shell.execute_reply": "2022-01-16T20:09:07.747635Z"
    },
    "papermill": {
     "duration": 0.049528,
     "end_time": "2022-01-16T20:09:07.748292",
     "exception": false,
     "start_time": "2022-01-16T20:09:07.698764",
     "status": "completed"
    },
    "tags": []
   },
   "outputs": [],
   "source": [
    "%load_ext autoreload\n",
    "%autoreload 2"
   ]
  },
  {
   "cell_type": "code",
   "execution_count": 2,
   "id": "22ef38dc",
   "metadata": {
    "execution": {
     "iopub.execute_input": "2022-01-16T20:09:07.806157Z",
     "iopub.status.busy": "2022-01-16T20:09:07.805507Z",
     "iopub.status.idle": "2022-01-16T20:09:08.460155Z",
     "shell.execute_reply": "2022-01-16T20:09:08.458978Z"
    },
    "papermill": {
     "duration": 0.686065,
     "end_time": "2022-01-16T20:09:08.460342",
     "exception": false,
     "start_time": "2022-01-16T20:09:07.774277",
     "status": "completed"
    },
    "tags": []
   },
   "outputs": [],
   "source": [
    "%matplotlib inline\n",
    "import numpy as np\n",
    "import matplotlib.pyplot as plt\n",
    "import pandas as pd"
   ]
  },
  {
   "cell_type": "markdown",
   "id": "ba036198",
   "metadata": {
    "papermill": {
     "duration": 0.025983,
     "end_time": "2022-01-16T20:09:08.512937",
     "exception": false,
     "start_time": "2022-01-16T20:09:08.486954",
     "status": "completed"
    },
    "tags": []
   },
   "source": [
    "From the command line run `pip install mnist`. This is a library that will help you bring down the mnist dataset. If you run this from a notebook, you need to put  `!pip install mnist` in a cell by itself."
   ]
  },
  {
   "cell_type": "code",
   "execution_count": 3,
   "id": "bb6ad8a1",
   "metadata": {
    "execution": {
     "iopub.execute_input": "2022-01-16T20:09:08.568608Z",
     "iopub.status.busy": "2022-01-16T20:09:08.567886Z",
     "iopub.status.idle": "2022-01-16T20:09:10.534393Z",
     "shell.execute_reply": "2022-01-16T20:09:10.533847Z"
    },
    "papermill": {
     "duration": 1.997289,
     "end_time": "2022-01-16T20:09:10.534538",
     "exception": false,
     "start_time": "2022-01-16T20:09:08.537249",
     "status": "completed"
    },
    "tags": []
   },
   "outputs": [
    {
     "name": "stdout",
     "output_type": "stream",
     "text": [
      "Collecting mnist\r\n"
     ]
    },
    {
     "name": "stdout",
     "output_type": "stream",
     "text": [
      "  Downloading mnist-0.2.2-py2.py3-none-any.whl (3.5 kB)\r\n"
     ]
    },
    {
     "name": "stdout",
     "output_type": "stream",
     "text": [
      "Requirement already satisfied: numpy in /opt/hostedtoolcache/Python/3.6.15/x64/lib/python3.6/site-packages (from mnist) (1.19.5)\r\n"
     ]
    },
    {
     "name": "stdout",
     "output_type": "stream",
     "text": [
      "Installing collected packages: mnist\r\n"
     ]
    },
    {
     "name": "stdout",
     "output_type": "stream",
     "text": [
      "Successfully installed mnist-0.2.2\r\n"
     ]
    }
   ],
   "source": [
    "!pip install mnist"
   ]
  },
  {
   "cell_type": "markdown",
   "id": "69df9c9a",
   "metadata": {
    "papermill": {
     "duration": 0.030953,
     "end_time": "2022-01-16T20:09:10.594109",
     "exception": false,
     "start_time": "2022-01-16T20:09:10.563156",
     "status": "completed"
    },
    "tags": []
   },
   "source": [
    "## Preparing the Data"
   ]
  },
  {
   "cell_type": "code",
   "execution_count": 4,
   "id": "7f69d806",
   "metadata": {
    "execution": {
     "iopub.execute_input": "2022-01-16T20:09:10.659327Z",
     "iopub.status.busy": "2022-01-16T20:09:10.658725Z",
     "iopub.status.idle": "2022-01-16T20:09:10.671191Z",
     "shell.execute_reply": "2022-01-16T20:09:10.671664Z"
    },
    "papermill": {
     "duration": 0.049302,
     "end_time": "2022-01-16T20:09:10.671805",
     "exception": false,
     "start_time": "2022-01-16T20:09:10.622503",
     "status": "completed"
    },
    "tags": []
   },
   "outputs": [],
   "source": [
    "import mnist"
   ]
  },
  {
   "cell_type": "code",
   "execution_count": 5,
   "id": "a411e44f",
   "metadata": {
    "execution": {
     "iopub.execute_input": "2022-01-16T20:09:10.730944Z",
     "iopub.status.busy": "2022-01-16T20:09:10.730336Z",
     "iopub.status.idle": "2022-01-16T20:09:11.399099Z",
     "shell.execute_reply": "2022-01-16T20:09:11.398532Z"
    },
    "papermill": {
     "duration": 0.70025,
     "end_time": "2022-01-16T20:09:11.399244",
     "exception": false,
     "start_time": "2022-01-16T20:09:10.698994",
     "status": "completed"
    },
    "tags": []
   },
   "outputs": [],
   "source": [
    "train_images = mnist.train_images()\n",
    "train_labels = mnist.train_labels()"
   ]
  },
  {
   "cell_type": "code",
   "execution_count": 6,
   "id": "dceab3a5",
   "metadata": {
    "execution": {
     "iopub.execute_input": "2022-01-16T20:09:11.462586Z",
     "iopub.status.busy": "2022-01-16T20:09:11.461804Z",
     "iopub.status.idle": "2022-01-16T20:09:11.481702Z",
     "shell.execute_reply": "2022-01-16T20:09:11.481193Z"
    },
    "papermill": {
     "duration": 0.053466,
     "end_time": "2022-01-16T20:09:11.481826",
     "exception": false,
     "start_time": "2022-01-16T20:09:11.428360",
     "status": "completed"
    },
    "tags": []
   },
   "outputs": [
    {
     "data": {
      "text/plain": [
       "((60000, 28, 28), (60000,))"
      ]
     },
     "execution_count": 6,
     "metadata": {},
     "output_type": "execute_result"
    }
   ],
   "source": [
    "train_images.shape, train_labels.shape"
   ]
  },
  {
   "cell_type": "code",
   "execution_count": 7,
   "id": "f50dc2bb",
   "metadata": {
    "execution": {
     "iopub.execute_input": "2022-01-16T20:09:11.542704Z",
     "iopub.status.busy": "2022-01-16T20:09:11.542110Z",
     "iopub.status.idle": "2022-01-16T20:09:11.759676Z",
     "shell.execute_reply": "2022-01-16T20:09:11.759102Z"
    },
    "papermill": {
     "duration": 0.249578,
     "end_time": "2022-01-16T20:09:11.759814",
     "exception": false,
     "start_time": "2022-01-16T20:09:11.510236",
     "status": "completed"
    },
    "tags": []
   },
   "outputs": [],
   "source": [
    "test_images = mnist.test_images()\n",
    "test_labels = mnist.test_labels()"
   ]
  },
  {
   "cell_type": "code",
   "execution_count": 8,
   "id": "fc38cf1b",
   "metadata": {
    "execution": {
     "iopub.execute_input": "2022-01-16T20:09:11.828318Z",
     "iopub.status.busy": "2022-01-16T20:09:11.826011Z",
     "iopub.status.idle": "2022-01-16T20:09:11.840623Z",
     "shell.execute_reply": "2022-01-16T20:09:11.840150Z"
    },
    "papermill": {
     "duration": 0.048834,
     "end_time": "2022-01-16T20:09:11.840740",
     "exception": false,
     "start_time": "2022-01-16T20:09:11.791906",
     "status": "completed"
    },
    "tags": []
   },
   "outputs": [
    {
     "data": {
      "text/plain": [
       "((10000, 28, 28), (10000,))"
      ]
     },
     "execution_count": 8,
     "metadata": {},
     "output_type": "execute_result"
    }
   ],
   "source": [
    "test_images.shape, test_labels.shape"
   ]
  },
  {
   "cell_type": "code",
   "execution_count": 9,
   "id": "f9ed8fe0",
   "metadata": {
    "execution": {
     "iopub.execute_input": "2022-01-16T20:09:11.903163Z",
     "iopub.status.busy": "2022-01-16T20:09:11.902515Z",
     "iopub.status.idle": "2022-01-16T20:09:12.055004Z",
     "shell.execute_reply": "2022-01-16T20:09:12.055497Z"
    },
    "papermill": {
     "duration": 0.186491,
     "end_time": "2022-01-16T20:09:12.055650",
     "exception": false,
     "start_time": "2022-01-16T20:09:11.869159",
     "status": "completed"
    },
    "tags": []
   },
   "outputs": [
    {
     "name": "stdout",
     "output_type": "stream",
     "text": [
      "2\n"
     ]
    },
    {
     "data": {
      "text/plain": [
       "<matplotlib.image.AxesImage at 0x7fb4da4f3470>"
      ]
     },
     "execution_count": 9,
     "metadata": {},
     "output_type": "execute_result"
    },
    {
     "data": {
      "image/png": "[encoded data removed]",
      "text/plain": [
       "<Figure size 432x288 with 1 Axes>"
      ]
     },
     "metadata": {
      "needs_background": "light"
     },
     "output_type": "display_data"
    }
   ],
   "source": [
    "image_index = 7776 # You may select anything up to 60,000\n",
    "print(train_labels[image_index]) \n",
    "plt.imshow(train_images[image_index], cmap='Greys')"
   ]
  },
  {
   "cell_type": "markdown",
   "id": "a8d2388d",
   "metadata": {
    "papermill": {
     "duration": 0.031127,
     "end_time": "2022-01-16T20:09:12.118118",
     "exception": false,
     "start_time": "2022-01-16T20:09:12.086991",
     "status": "completed"
    },
    "tags": []
   },
   "source": [
    "## Filter data to get 3 and 8 out"
   ]
  },
  {
   "cell_type": "code",
   "execution_count": 10,
   "id": "776f7fc7",
   "metadata": {
    "execution": {
     "iopub.execute_input": "2022-01-16T20:09:12.187627Z",
     "iopub.status.busy": "2022-01-16T20:09:12.186985Z",
     "iopub.status.idle": "2022-01-16T20:09:12.204927Z",
     "shell.execute_reply": "2022-01-16T20:09:12.205453Z"
    },
    "papermill": {
     "duration": 0.05685,
     "end_time": "2022-01-16T20:09:12.205625",
     "exception": false,
     "start_time": "2022-01-16T20:09:12.148775",
     "status": "completed"
    },
    "tags": []
   },
   "outputs": [],
   "source": [
    "train_filter = np.where((train_labels == 3 ) | (train_labels == 8))\n",
    "test_filter = np.where((test_labels == 3) | (test_labels == 8))\n",
    "X_train, y_train = train_images[train_filter], train_labels[train_filter]\n",
    "X_test, y_test = test_images[test_filter], test_labels[test_filter]"
   ]
  },
  {
   "cell_type": "markdown",
   "id": "948f0b7e",
   "metadata": {
    "papermill": {
     "duration": 0.030245,
     "end_time": "2022-01-16T20:09:12.268915",
     "exception": false,
     "start_time": "2022-01-16T20:09:12.238670",
     "status": "completed"
    },
    "tags": []
   },
   "source": [
    "We normalize the pizel values in the 0 to 1 range"
   ]
  },
  {
   "cell_type": "code",
   "execution_count": 11,
   "id": "ee4c2166",
   "metadata": {
    "execution": {
     "iopub.execute_input": "2022-01-16T20:09:12.331731Z",
     "iopub.status.busy": "2022-01-16T20:09:12.331184Z",
     "iopub.status.idle": "2022-01-16T20:09:12.386199Z",
     "shell.execute_reply": "2022-01-16T20:09:12.385500Z"
    },
    "papermill": {
     "duration": 0.089102,
     "end_time": "2022-01-16T20:09:12.386340",
     "exception": false,
     "start_time": "2022-01-16T20:09:12.297238",
     "status": "completed"
    },
    "tags": []
   },
   "outputs": [],
   "source": [
    "X_train = X_train/255.\n",
    "X_test = X_test/255."
   ]
  },
  {
   "cell_type": "markdown",
   "id": "ddcf4fab",
   "metadata": {
    "papermill": {
     "duration": 0.029269,
     "end_time": "2022-01-16T20:09:12.446004",
     "exception": false,
     "start_time": "2022-01-16T20:09:12.416735",
     "status": "completed"
    },
    "tags": []
   },
   "source": [
    "And setup the labels as 1 (when the digit is 3) and 0 (when the digit is 8)"
   ]
  },
  {
   "cell_type": "code",
   "execution_count": 12,
   "id": "7dc908f2",
   "metadata": {
    "execution": {
     "iopub.execute_input": "2022-01-16T20:09:12.510313Z",
     "iopub.status.busy": "2022-01-16T20:09:12.509679Z",
     "iopub.status.idle": "2022-01-16T20:09:12.523069Z",
     "shell.execute_reply": "2022-01-16T20:09:12.523441Z"
    },
    "papermill": {
     "duration": 0.048018,
     "end_time": "2022-01-16T20:09:12.523589",
     "exception": false,
     "start_time": "2022-01-16T20:09:12.475571",
     "status": "completed"
    },
    "tags": []
   },
   "outputs": [],
   "source": [
    "y_train = 1*(y_train==3)\n",
    "y_test = 1*(y_test==3)"
   ]
  },
  {
   "cell_type": "code",
   "execution_count": 13,
   "id": "01e4e969",
   "metadata": {
    "execution": {
     "iopub.execute_input": "2022-01-16T20:09:12.583712Z",
     "iopub.status.busy": "2022-01-16T20:09:12.583108Z",
     "iopub.status.idle": "2022-01-16T20:09:12.598060Z",
     "shell.execute_reply": "2022-01-16T20:09:12.597565Z"
    },
    "papermill": {
     "duration": 0.046822,
     "end_time": "2022-01-16T20:09:12.598181",
     "exception": false,
     "start_time": "2022-01-16T20:09:12.551359",
     "status": "completed"
    },
    "tags": []
   },
   "outputs": [
    {
     "data": {
      "text/plain": [
       "((11982, 28, 28), (1984, 28, 28))"
      ]
     },
     "execution_count": 13,
     "metadata": {},
     "output_type": "execute_result"
    }
   ],
   "source": [
    "X_train.shape, X_test.shape"
   ]
  },
  {
   "cell_type": "markdown",
   "id": "5ccf3f85",
   "metadata": {
    "papermill": {
     "duration": 0.0299,
     "end_time": "2022-01-16T20:09:12.659883",
     "exception": false,
     "start_time": "2022-01-16T20:09:12.629983",
     "status": "completed"
    },
    "tags": []
   },
   "source": [
    "We reshape the data to flatten the image pixels into a set of features or co-variates:"
   ]
  },
  {
   "cell_type": "code",
   "execution_count": 14,
   "id": "5286a4a3",
   "metadata": {
    "execution": {
     "iopub.execute_input": "2022-01-16T20:09:12.727641Z",
     "iopub.status.busy": "2022-01-16T20:09:12.727040Z",
     "iopub.status.idle": "2022-01-16T20:09:12.741139Z",
     "shell.execute_reply": "2022-01-16T20:09:12.741750Z"
    },
    "papermill": {
     "duration": 0.04915,
     "end_time": "2022-01-16T20:09:12.741900",
     "exception": false,
     "start_time": "2022-01-16T20:09:12.692750",
     "status": "completed"
    },
    "tags": []
   },
   "outputs": [
    {
     "data": {
      "text/plain": [
       "((11982, 784), (1984, 784))"
      ]
     },
     "execution_count": 14,
     "metadata": {},
     "output_type": "execute_result"
    }
   ],
   "source": [
    "X_train = X_train.reshape(X_train.shape[0], -1)\n",
    "X_test = X_test.reshape(X_test.shape[0], -1)\n",
    "X_train.shape, X_test.shape"
   ]
  },
  {
   "cell_type": "code",
   "execution_count": 15,
   "id": "73c5f88a",
   "metadata": {
    "execution": {
     "iopub.execute_input": "2022-01-16T20:09:12.806950Z",
     "iopub.status.busy": "2022-01-16T20:09:12.806176Z",
     "iopub.status.idle": "2022-01-16T20:09:12.828403Z",
     "shell.execute_reply": "2022-01-16T20:09:12.827737Z"
    },
    "papermill": {
     "duration": 0.057444,
     "end_time": "2022-01-16T20:09:12.828539",
     "exception": false,
     "start_time": "2022-01-16T20:09:12.771095",
     "status": "completed"
    },
    "tags": []
   },
   "outputs": [],
   "source": [
    "#Impoting functions from 'Kudzu'\n",
    "from kudzu.model import Model\n",
    "from kudzu.train import Learner\n",
    "from kudzu.optim import GD\n",
    "from kudzu.data import Data, Sampler,Dataloader\n",
    "\n",
    "from kudzu.callbacks import AccCallback\n",
    "from kudzu.callbacks import ClfCallback\n",
    "\n",
    "from kudzu.loss import MSE\n",
    "\n",
    "from kudzu.layer import Sigmoid,Relu\n",
    "from kudzu.layer import Affine"
   ]
  },
  {
   "cell_type": "markdown",
   "id": "bc01172a",
   "metadata": {
    "papermill": {
     "duration": 0.031501,
     "end_time": "2022-01-16T20:09:12.889829",
     "exception": false,
     "start_time": "2022-01-16T20:09:12.858328",
     "status": "completed"
    },
    "tags": []
   },
   "source": [
    "### Let us create a `Config` class, to store important parameters. \n",
    "This class essentially plays the role of a dictionary."
   ]
  },
  {
   "cell_type": "code",
   "execution_count": 16,
   "id": "978281aa",
   "metadata": {
    "execution": {
     "iopub.execute_input": "2022-01-16T20:09:12.952239Z",
     "iopub.status.busy": "2022-01-16T20:09:12.951732Z",
     "iopub.status.idle": "2022-01-16T20:09:12.965697Z",
     "shell.execute_reply": "2022-01-16T20:09:12.966228Z"
    },
    "papermill": {
     "duration": 0.047458,
     "end_time": "2022-01-16T20:09:12.966375",
     "exception": false,
     "start_time": "2022-01-16T20:09:12.918917",
     "status": "completed"
    },
    "tags": []
   },
   "outputs": [],
   "source": [
    "class Config:\n",
    "    pass\n",
    "config = Config()\n",
    "config.lr = 0.001\n",
    "config.num_epochs = 250\n",
    "config.bs = 50"
   ]
  },
  {
   "cell_type": "markdown",
   "id": "1385fa59",
   "metadata": {
    "papermill": {
     "duration": 0.028092,
     "end_time": "2022-01-16T20:09:13.026542",
     "exception": false,
     "start_time": "2022-01-16T20:09:12.998450",
     "status": "completed"
    },
    "tags": []
   },
   "source": [
    "### Running Models with the Training data\n",
    "Details about the network layers:\n",
    "- A first affine layer has 784 inputs and does 100 affine transforms. These are followed by a Relu\n",
    "- A second affine layer has 100 inputs from the 100 activations of the past layer, and does 100 affine transforms. These are followed by a Relu\n",
    "- A third affine layer has 100 activations and does 2 affine transformations to create an embedding for visualization. There is no non-linearity here.\n",
    "- A final \"logistic regression\" which has an affine transform from 2 inputs to 1 output, which is squeezed through a sigmoid.\n"
   ]
  },
  {
   "cell_type": "code",
   "execution_count": 17,
   "id": "2b9c66db",
   "metadata": {
    "execution": {
     "iopub.execute_input": "2022-01-16T20:09:13.094803Z",
     "iopub.status.busy": "2022-01-16T20:09:13.093710Z",
     "iopub.status.idle": "2022-01-16T20:09:13.107217Z",
     "shell.execute_reply": "2022-01-16T20:09:13.107741Z"
    },
    "papermill": {
     "duration": 0.050399,
     "end_time": "2022-01-16T20:09:13.107894",
     "exception": false,
     "start_time": "2022-01-16T20:09:13.057495",
     "status": "completed"
    },
    "tags": []
   },
   "outputs": [],
   "source": [
    "data = Data(X_train, y_train.reshape(-1,1))\n",
    "sampler = Sampler(data, config.bs, shuffle=True)\n",
    "\n",
    "dl = Dataloader(data, sampler)\n",
    "\n",
    "opt = GD(config.lr)\n",
    "loss = MSE()"
   ]
  },
  {
   "cell_type": "code",
   "execution_count": 18,
   "id": "b275e4c2",
   "metadata": {
    "execution": {
     "iopub.execute_input": "2022-01-16T20:09:13.171921Z",
     "iopub.status.busy": "2022-01-16T20:09:13.171321Z",
     "iopub.status.idle": "2022-01-16T20:09:13.184081Z",
     "shell.execute_reply": "2022-01-16T20:09:13.184493Z"
    },
    "papermill": {
     "duration": 0.047039,
     "end_time": "2022-01-16T20:09:13.184621",
     "exception": false,
     "start_time": "2022-01-16T20:09:13.137582",
     "status": "completed"
    },
    "tags": []
   },
   "outputs": [],
   "source": [
    "training_data_x = X_train\n",
    "testing_data_x = X_test\n",
    "training_data_y = y_train.reshape(-1,1)\n",
    "testing_data_y = y_test.reshape(-1,1)"
   ]
  },
  {
   "cell_type": "code",
   "execution_count": 19,
   "id": "76951160",
   "metadata": {
    "execution": {
     "iopub.execute_input": "2022-01-16T20:09:13.251090Z",
     "iopub.status.busy": "2022-01-16T20:09:13.250415Z",
     "iopub.status.idle": "2022-01-16T20:09:13.268611Z",
     "shell.execute_reply": "2022-01-16T20:09:13.269031Z"
    },
    "papermill": {
     "duration": 0.05565,
     "end_time": "2022-01-16T20:09:13.269166",
     "exception": false,
     "start_time": "2022-01-16T20:09:13.213516",
     "status": "completed"
    },
    "tags": []
   },
   "outputs": [
    {
     "name": "stdout",
     "output_type": "stream",
     "text": [
      "xavier\n",
      "xavier\n",
      "xavier\n",
      "xavier\n",
      "xavier\n"
     ]
    }
   ],
   "source": [
    "layers = [Affine(\"first\", 784, 100), Relu(\"first\"), Affine(\"second\", 100, 100), Relu(\"second\"), Affine(\"third\", 100, 2), Affine(\"last\", 2, 1), Sigmoid(\"last\")]\n",
    "model_nn = Model(layers)\n",
    "model_lr = Model([Affine(\"logits\", 784, 1), Sigmoid(\"sigmoid\")])"
   ]
  },
  {
   "cell_type": "code",
   "execution_count": 20,
   "id": "6eede77a",
   "metadata": {
    "execution": {
     "iopub.execute_input": "2022-01-16T20:09:13.335084Z",
     "iopub.status.busy": "2022-01-16T20:09:13.334202Z",
     "iopub.status.idle": "2022-01-16T20:09:13.346477Z",
     "shell.execute_reply": "2022-01-16T20:09:13.346019Z"
    },
    "papermill": {
     "duration": 0.048505,
     "end_time": "2022-01-16T20:09:13.346598",
     "exception": false,
     "start_time": "2022-01-16T20:09:13.298093",
     "status": "completed"
    },
    "tags": []
   },
   "outputs": [],
   "source": [
    "nn_learner = Learner(loss, model_nn, opt, config.num_epochs)\n",
    "acc_nn = ClfCallback(nn_learner, config.bs, training_data_x , testing_data_x, training_data_y, testing_data_y)\n",
    "nn_learner.set_callbacks([acc_nn])"
   ]
  },
  {
   "cell_type": "code",
   "execution_count": 21,
   "id": "877b6cc7",
   "metadata": {
    "execution": {
     "iopub.execute_input": "2022-01-16T20:09:13.412676Z",
     "iopub.status.busy": "2022-01-16T20:09:13.412069Z",
     "iopub.status.idle": "2022-01-16T20:09:13.426284Z",
     "shell.execute_reply": "2022-01-16T20:09:13.425788Z"
    },
    "papermill": {
     "duration": 0.048741,
     "end_time": "2022-01-16T20:09:13.426412",
     "exception": false,
     "start_time": "2022-01-16T20:09:13.377671",
     "status": "completed"
    },
    "tags": []
   },
   "outputs": [],
   "source": [
    "lr_learner = Learner(loss, model_lr, opt, config.num_epochs)\n",
    "acc_lr = ClfCallback(lr_learner, config.bs, training_data_x , testing_data_x, training_data_y, testing_data_y)\n",
    "lr_learner.set_callbacks([acc_lr])"
   ]
  },
  {
   "cell_type": "code",
   "execution_count": 22,
   "id": "d9b133c3",
   "metadata": {
    "execution": {
     "iopub.execute_input": "2022-01-16T20:09:13.491038Z",
     "iopub.status.busy": "2022-01-16T20:09:13.490488Z",
     "iopub.status.idle": "2022-01-16T20:10:42.847748Z",
     "shell.execute_reply": "2022-01-16T20:10:42.848622Z"
    },
    "papermill": {
     "duration": 89.391639,
     "end_time": "2022-01-16T20:10:42.848791",
     "exception": false,
     "start_time": "2022-01-16T20:09:13.457152",
     "status": "completed"
    },
    "tags": []
   },
   "outputs": [
    {
     "name": "stdout",
     "output_type": "stream",
     "text": [
      "Epoch 0, Loss 0.2372\n",
      "Training Accuracy: 0.7085, Testing Accuracy: 0.7026\n",
      "\n"
     ]
    },
    {
     "name": "stdout",
     "output_type": "stream",
     "text": [
      "Epoch 10, Loss 0.1045\n",
      "Training Accuracy: 0.9109, Testing Accuracy: 0.9244\n",
      "\n"
     ]
    },
    {
     "name": "stdout",
     "output_type": "stream",
     "text": [
      "Epoch 20, Loss 0.0619\n",
      "Training Accuracy: 0.9381, Testing Accuracy: 0.9461\n",
      "\n"
     ]
    },
    {
     "name": "stdout",
     "output_type": "stream",
     "text": [
      "Epoch 30, Loss 0.0475\n",
      "Training Accuracy: 0.9484, Testing Accuracy: 0.9592\n",
      "\n"
     ]
    },
    {
     "name": "stdout",
     "output_type": "stream",
     "text": [
      "Epoch 40, Loss 0.0405\n",
      "Training Accuracy: 0.9558, Testing Accuracy: 0.9647\n",
      "\n"
     ]
    },
    {
     "name": "stdout",
     "output_type": "stream",
     "text": [
      "Epoch 50, Loss 0.0364\n",
      "Training Accuracy: 0.9594, Testing Accuracy: 0.9657\n",
      "\n"
     ]
    },
    {
     "name": "stdout",
     "output_type": "stream",
     "text": [
      "Epoch 60, Loss 0.0336\n",
      "Training Accuracy: 0.9619, Testing Accuracy: 0.9662\n",
      "\n"
     ]
    },
    {
     "name": "stdout",
     "output_type": "stream",
     "text": [
      "Epoch 70, Loss 0.0316\n",
      "Training Accuracy: 0.9632, Testing Accuracy: 0.9677\n",
      "\n"
     ]
    },
    {
     "name": "stdout",
     "output_type": "stream",
     "text": [
      "Epoch 80, Loss 0.03\n",
      "Training Accuracy: 0.9650, Testing Accuracy: 0.9693\n",
      "\n"
     ]
    },
    {
     "name": "stdout",
     "output_type": "stream",
     "text": [
      "Epoch 90, Loss 0.0288\n",
      "Training Accuracy: 0.9670, Testing Accuracy: 0.9693\n",
      "\n"
     ]
    },
    {
     "name": "stdout",
     "output_type": "stream",
     "text": [
      "Epoch 100, Loss 0.0277\n",
      "Training Accuracy: 0.9686, Testing Accuracy: 0.9688\n",
      "\n"
     ]
    },
    {
     "name": "stdout",
     "output_type": "stream",
     "text": [
      "Epoch 110, Loss 0.0268\n",
      "Training Accuracy: 0.9700, Testing Accuracy: 0.9688\n",
      "\n"
     ]
    },
    {
     "name": "stdout",
     "output_type": "stream",
     "text": [
      "Epoch 120, Loss 0.026\n",
      "Training Accuracy: 0.9705, Testing Accuracy: 0.9698\n",
      "\n"
     ]
    },
    {
     "name": "stdout",
     "output_type": "stream",
     "text": [
      "Epoch 130, Loss 0.0253\n",
      "Training Accuracy: 0.9710, Testing Accuracy: 0.9703\n",
      "\n"
     ]
    },
    {
     "name": "stdout",
     "output_type": "stream",
     "text": [
      "Epoch 140, Loss 0.0246\n",
      "Training Accuracy: 0.9715, Testing Accuracy: 0.9708\n",
      "\n"
     ]
    },
    {
     "name": "stdout",
     "output_type": "stream",
     "text": [
      "Epoch 150, Loss 0.024\n",
      "Training Accuracy: 0.9721, Testing Accuracy: 0.9708\n",
      "\n"
     ]
    },
    {
     "name": "stdout",
     "output_type": "stream",
     "text": [
      "Epoch 160, Loss 0.0235\n",
      "Training Accuracy: 0.9727, Testing Accuracy: 0.9703\n",
      "\n"
     ]
    },
    {
     "name": "stdout",
     "output_type": "stream",
     "text": [
      "Epoch 170, Loss 0.023\n",
      "Training Accuracy: 0.9734, Testing Accuracy: 0.9708\n",
      "\n"
     ]
    },
    {
     "name": "stdout",
     "output_type": "stream",
     "text": [
      "Epoch 180, Loss 0.0225\n",
      "Training Accuracy: 0.9740, Testing Accuracy: 0.9718\n",
      "\n"
     ]
    },
    {
     "name": "stdout",
     "output_type": "stream",
     "text": [
      "Epoch 190, Loss 0.0221\n",
      "Training Accuracy: 0.9744, Testing Accuracy: 0.9718\n",
      "\n"
     ]
    },
    {
     "name": "stdout",
     "output_type": "stream",
     "text": [
      "Epoch 200, Loss 0.0216\n",
      "Training Accuracy: 0.9752, Testing Accuracy: 0.9728\n",
      "\n"
     ]
    },
    {
     "name": "stdout",
     "output_type": "stream",
     "text": [
      "Epoch 210, Loss 0.0212\n",
      "Training Accuracy: 0.9755, Testing Accuracy: 0.9723\n",
      "\n"
     ]
    },
    {
     "name": "stdout",
     "output_type": "stream",
     "text": [
      "Epoch 220, Loss 0.0209\n",
      "Training Accuracy: 0.9761, Testing Accuracy: 0.9728\n",
      "\n"
     ]
    },
    {
     "name": "stdout",
     "output_type": "stream",
     "text": [
      "Epoch 230, Loss 0.0205\n",
      "Training Accuracy: 0.9766, Testing Accuracy: 0.9728\n",
      "\n"
     ]
    },
    {
     "name": "stdout",
     "output_type": "stream",
     "text": [
      "Epoch 240, Loss 0.0202\n",
      "Training Accuracy: 0.9770, Testing Accuracy: 0.9718\n",
      "\n"
     ]
    },
    {
     "data": {
      "text/plain": [
       "0.0022223822225469025"
      ]
     },
     "execution_count": 22,
     "metadata": {},
     "output_type": "execute_result"
    }
   ],
   "source": [
    "nn_learner.train_loop(dl)"
   ]
  },
  {
   "cell_type": "code",
   "execution_count": 23,
   "id": "e0163366",
   "metadata": {
    "execution": {
     "iopub.execute_input": "2022-01-16T20:10:42.935527Z",
     "iopub.status.busy": "2022-01-16T20:10:42.934955Z",
     "iopub.status.idle": "2022-01-16T20:10:59.483731Z",
     "shell.execute_reply": "2022-01-16T20:10:59.484695Z"
    },
    "papermill": {
     "duration": 16.596351,
     "end_time": "2022-01-16T20:10:59.484868",
     "exception": false,
     "start_time": "2022-01-16T20:10:42.888517",
     "status": "completed"
    },
    "tags": []
   },
   "outputs": [
    {
     "name": "stdout",
     "output_type": "stream",
     "text": [
      "Epoch 0, Loss 0.2382\n",
      "Training Accuracy: 0.7208, Testing Accuracy: 0.7460\n",
      "\n"
     ]
    },
    {
     "name": "stdout",
     "output_type": "stream",
     "text": [
      "Epoch 10, Loss 0.0985\n",
      "Training Accuracy: 0.9224, Testing Accuracy: 0.9385\n",
      "\n"
     ]
    },
    {
     "name": "stdout",
     "output_type": "stream",
     "text": [
      "Epoch 20, Loss 0.0768\n",
      "Training Accuracy: 0.9342, Testing Accuracy: 0.9471\n",
      "\n"
     ]
    },
    {
     "name": "stdout",
     "output_type": "stream",
     "text": [
      "Epoch 30, Loss 0.0667\n",
      "Training Accuracy: 0.9406, Testing Accuracy: 0.9531\n",
      "\n"
     ]
    },
    {
     "name": "stdout",
     "output_type": "stream",
     "text": [
      "Epoch 40, Loss 0.0606\n",
      "Training Accuracy: 0.9442, Testing Accuracy: 0.9556\n",
      "\n"
     ]
    },
    {
     "name": "stdout",
     "output_type": "stream",
     "text": [
      "Epoch 50, Loss 0.0564\n",
      "Training Accuracy: 0.9470, Testing Accuracy: 0.9587\n",
      "\n"
     ]
    },
    {
     "name": "stdout",
     "output_type": "stream",
     "text": [
      "Epoch 60, Loss 0.0533\n",
      "Training Accuracy: 0.9487, Testing Accuracy: 0.9592\n",
      "\n"
     ]
    },
    {
     "name": "stdout",
     "output_type": "stream",
     "text": [
      "Epoch 70, Loss 0.0509\n",
      "Training Accuracy: 0.9498, Testing Accuracy: 0.9607\n",
      "\n"
     ]
    },
    {
     "name": "stdout",
     "output_type": "stream",
     "text": [
      "Epoch 80, Loss 0.0489\n",
      "Training Accuracy: 0.9520, Testing Accuracy: 0.9617\n",
      "\n"
     ]
    },
    {
     "name": "stdout",
     "output_type": "stream",
     "text": [
      "Epoch 90, Loss 0.0473\n",
      "Training Accuracy: 0.9531, Testing Accuracy: 0.9622\n",
      "\n"
     ]
    },
    {
     "name": "stdout",
     "output_type": "stream",
     "text": [
      "Epoch 100, Loss 0.0459\n",
      "Training Accuracy: 0.9541, Testing Accuracy: 0.9622\n",
      "\n"
     ]
    },
    {
     "name": "stdout",
     "output_type": "stream",
     "text": [
      "Epoch 110, Loss 0.0447\n",
      "Training Accuracy: 0.9557, Testing Accuracy: 0.9622\n",
      "\n"
     ]
    },
    {
     "name": "stdout",
     "output_type": "stream",
     "text": [
      "Epoch 120, Loss 0.0437\n",
      "Training Accuracy: 0.9562, Testing Accuracy: 0.9622\n",
      "\n"
     ]
    },
    {
     "name": "stdout",
     "output_type": "stream",
     "text": [
      "Epoch 130, Loss 0.0428\n",
      "Training Accuracy: 0.9571, Testing Accuracy: 0.9622\n",
      "\n"
     ]
    },
    {
     "name": "stdout",
     "output_type": "stream",
     "text": [
      "Epoch 140, Loss 0.042\n",
      "Training Accuracy: 0.9574, Testing Accuracy: 0.9642\n",
      "\n"
     ]
    },
    {
     "name": "stdout",
     "output_type": "stream",
     "text": [
      "Epoch 150, Loss 0.0413\n",
      "Training Accuracy: 0.9579, Testing Accuracy: 0.9642\n",
      "\n"
     ]
    },
    {
     "name": "stdout",
     "output_type": "stream",
     "text": [
      "Epoch 160, Loss 0.0406\n",
      "Training Accuracy: 0.9588, Testing Accuracy: 0.9657\n",
      "\n"
     ]
    },
    {
     "name": "stdout",
     "output_type": "stream",
     "text": [
      "Epoch 170, Loss 0.04\n",
      "Training Accuracy: 0.9588, Testing Accuracy: 0.9662\n",
      "\n"
     ]
    },
    {
     "name": "stdout",
     "output_type": "stream",
     "text": [
      "Epoch 180, Loss 0.0394\n",
      "Training Accuracy: 0.9592, Testing Accuracy: 0.9662\n",
      "\n"
     ]
    },
    {
     "name": "stdout",
     "output_type": "stream",
     "text": [
      "Epoch 190, Loss 0.0389\n",
      "Training Accuracy: 0.9596, Testing Accuracy: 0.9662\n",
      "\n"
     ]
    },
    {
     "name": "stdout",
     "output_type": "stream",
     "text": [
      "Epoch 200, Loss 0.0385\n",
      "Training Accuracy: 0.9600, Testing Accuracy: 0.9662\n",
      "\n"
     ]
    },
    {
     "name": "stdout",
     "output_type": "stream",
     "text": [
      "Epoch 210, Loss 0.038\n",
      "Training Accuracy: 0.9602, Testing Accuracy: 0.9667\n",
      "\n"
     ]
    },
    {
     "name": "stdout",
     "output_type": "stream",
     "text": [
      "Epoch 220, Loss 0.0376\n",
      "Training Accuracy: 0.9604, Testing Accuracy: 0.9677\n",
      "\n"
     ]
    },
    {
     "name": "stdout",
     "output_type": "stream",
     "text": [
      "Epoch 230, Loss 0.0372\n",
      "Training Accuracy: 0.9604, Testing Accuracy: 0.9677\n",
      "\n"
     ]
    },
    {
     "name": "stdout",
     "output_type": "stream",
     "text": [
      "Epoch 240, Loss 0.0369\n",
      "Training Accuracy: 0.9603, Testing Accuracy: 0.9677\n",
      "\n"
     ]
    },
    {
     "data": {
      "text/plain": [
       "0.07544049741175779"
      ]
     },
     "execution_count": 23,
     "metadata": {},
     "output_type": "execute_result"
    }
   ],
   "source": [
    "lr_learner.train_loop(dl)"
   ]
  },
  {
   "cell_type": "code",
   "execution_count": 24,
   "id": "ca410940",
   "metadata": {
    "execution": {
     "iopub.execute_input": "2022-01-16T20:10:59.587020Z",
     "iopub.status.busy": "2022-01-16T20:10:59.586419Z",
     "iopub.status.idle": "2022-01-16T20:10:59.840559Z",
     "shell.execute_reply": "2022-01-16T20:10:59.839788Z"
    },
    "papermill": {
     "duration": 0.308939,
     "end_time": "2022-01-16T20:10:59.840696",
     "exception": false,
     "start_time": "2022-01-16T20:10:59.531757",
     "status": "completed"
    },
    "tags": []
   },
   "outputs": [
    {
     "data": {
      "text/plain": [
       "<matplotlib.legend.Legend at 0x7fb4cccc4ba8>"
      ]
     },
     "execution_count": 24,
     "metadata": {},
     "output_type": "execute_result"
    },
    {
     "data": {
      "image/png": "[encoded data removed]",
      "text/plain": [
       "<Figure size 1080x720 with 1 Axes>"
      ]
     },
     "metadata": {
      "needs_background": "light"
     },
     "output_type": "display_data"
    }
   ],
   "source": [
    "#comparing the results of NN and LR\n",
    "plt.figure(figsize=(15,10))\n",
    "\n",
    "# Neural Network plots\n",
    "plt.plot(acc_nn.accuracies, 'r-', label = \"Training Accuracies - NN\")\n",
    "plt.plot(acc_nn.test_accuracies, 'g-', label = \"Testing Accuracies - NN\")\n",
    "\n",
    "# Logistic Regression plots\n",
    "plt.plot(acc_lr.accuracies, 'k-', label = \"Training Accuracies - LR\")\n",
    "plt.plot(acc_lr.test_accuracies, 'b-', label = \"Testing Accuracies - LR\")\n",
    "plt.legend()"
   ]
  },
  {
   "cell_type": "markdown",
   "id": "80dfb35c",
   "metadata": {
    "papermill": {
     "duration": 0.047557,
     "end_time": "2022-01-16T20:10:59.933286",
     "exception": false,
     "start_time": "2022-01-16T20:10:59.885729",
     "status": "completed"
    },
    "tags": []
   },
   "source": [
    "#### Plotting the outputs of this layer of the NN.\n"
   ]
  },
  {
   "cell_type": "code",
   "execution_count": 25,
   "id": "45eb2ff5",
   "metadata": {
    "execution": {
     "iopub.execute_input": "2022-01-16T20:11:00.036711Z",
     "iopub.status.busy": "2022-01-16T20:11:00.036078Z",
     "iopub.status.idle": "2022-01-16T20:11:00.058793Z",
     "shell.execute_reply": "2022-01-16T20:11:00.059407Z"
    },
    "papermill": {
     "duration": 0.077065,
     "end_time": "2022-01-16T20:11:00.059637",
     "exception": false,
     "start_time": "2022-01-16T20:10:59.982572",
     "status": "completed"
    },
    "tags": []
   },
   "outputs": [],
   "source": [
    "new_model = Model(layers[:-2])\n",
    "testing_plot = new_model(testing_data_x)"
   ]
  },
  {
   "cell_type": "code",
   "execution_count": 26,
   "id": "4c0a5485",
   "metadata": {
    "execution": {
     "iopub.execute_input": "2022-01-16T20:11:00.163813Z",
     "iopub.status.busy": "2022-01-16T20:11:00.163055Z",
     "iopub.status.idle": "2022-01-16T20:11:00.449199Z",
     "shell.execute_reply": "2022-01-16T20:11:00.448628Z"
    },
    "papermill": {
     "duration": 0.339607,
     "end_time": "2022-01-16T20:11:00.449339",
     "exception": false,
     "start_time": "2022-01-16T20:11:00.109732",
     "status": "completed"
    },
    "tags": []
   },
   "outputs": [
    {
     "data": {
      "text/plain": [
       "Text(0.5, 1.0, 'Outputs')"
      ]
     },
     "execution_count": 26,
     "metadata": {},
     "output_type": "execute_result"
    },
    {
     "data": {
      "image/png": "[encoded data removed]",
      "text/plain": [
       "<Figure size 576x504 with 1 Axes>"
      ]
     },
     "metadata": {
      "needs_background": "light"
     },
     "output_type": "display_data"
    }
   ],
   "source": [
    "# Plotting the scatter plot of points and color coding by class\n",
    "plt.figure(figsize=(8,7))\n",
    "plt.scatter(testing_plot[:,0], testing_plot[:,1], alpha = 0.1, c = y_test.ravel());\n",
    "plt.title('Outputs')"
   ]
  },
  {
   "cell_type": "markdown",
   "id": "a74fcf8f",
   "metadata": {
    "papermill": {
     "duration": 0.053721,
     "end_time": "2022-01-16T20:11:00.557398",
     "exception": false,
     "start_time": "2022-01-16T20:11:00.503677",
     "status": "completed"
    },
    "tags": []
   },
   "source": [
    "Probability contours"
   ]
  },
  {
   "cell_type": "code",
   "execution_count": 27,
   "id": "d0afc8e3",
   "metadata": {
    "execution": {
     "iopub.execute_input": "2022-01-16T20:11:00.673287Z",
     "iopub.status.busy": "2022-01-16T20:11:00.671182Z",
     "iopub.status.idle": "2022-01-16T20:11:00.683768Z",
     "shell.execute_reply": "2022-01-16T20:11:00.684229Z"
    },
    "papermill": {
     "duration": 0.07315,
     "end_time": "2022-01-16T20:11:00.684381",
     "exception": false,
     "start_time": "2022-01-16T20:11:00.611231",
     "status": "completed"
    },
    "tags": []
   },
   "outputs": [],
   "source": [
    "model_prob = Model(layers[-2:]) "
   ]
  },
  {
   "cell_type": "code",
   "execution_count": 28,
   "id": "9b96e238",
   "metadata": {
    "execution": {
     "iopub.execute_input": "2022-01-16T20:11:00.833007Z",
     "iopub.status.busy": "2022-01-16T20:11:00.832385Z",
     "iopub.status.idle": "2022-01-16T20:11:00.847521Z",
     "shell.execute_reply": "2022-01-16T20:11:00.848017Z"
    },
    "papermill": {
     "duration": 0.076584,
     "end_time": "2022-01-16T20:11:00.848177",
     "exception": false,
     "start_time": "2022-01-16T20:11:00.771593",
     "status": "completed"
    },
    "tags": []
   },
   "outputs": [],
   "source": [
    "#creating the x and y ranges according to the above generated plot.\n",
    "x_range = np.linspace(-4, 1, 100) \n",
    "y_range = np.linspace(-6, 6, 100) \n",
    "x_grid, y_grid = np.meshgrid(x_range, y_range) # x_grid and y_grig are of size 100 X 100\n",
    "\n",
    "# converting x_grid and y_grid to continuous arrays\n",
    "x_gridflat = np.ravel(x_grid)\n",
    "y_gridflat = np.ravel(y_grid)\n",
    "\n",
    "# The last layer of the current model takes two columns as input. Hence transpose of np.vstack() is required.\n",
    "X = np.vstack((x_gridflat, y_gridflat)).T\n",
    "\n",
    "prob_contour = model_prob(X).reshape(100,100) "
   ]
  },
  {
   "cell_type": "code",
   "execution_count": 29,
   "id": "da72499a",
   "metadata": {
    "execution": {
     "iopub.execute_input": "2022-01-16T20:11:00.967528Z",
     "iopub.status.busy": "2022-01-16T20:11:00.966908Z",
     "iopub.status.idle": "2022-01-16T20:11:01.275540Z",
     "shell.execute_reply": "2022-01-16T20:11:01.276023Z"
    },
    "papermill": {
     "duration": 0.372759,
     "end_time": "2022-01-16T20:11:01.276178",
     "exception": false,
     "start_time": "2022-01-16T20:11:00.903419",
     "status": "completed"
    },
    "tags": []
   },
   "outputs": [
    {
     "data": {
      "image/png": "[encoded data removed]",
      "text/plain": [
       "<Figure size 720x648 with 1 Axes>"
      ]
     },
     "metadata": {
      "needs_background": "light"
     },
     "output_type": "display_data"
    }
   ],
   "source": [
    "plt.figure(figsize=(10,9))\n",
    "plt.scatter(testing_plot[:,0], testing_plot[:,1], alpha = 0.1, c = y_test.ravel())\n",
    "contours = plt.contour(x_grid,y_grid,prob_contour)\n",
    "plt.title('Probability Contours')\n",
    "plt.clabel(contours, inline = True );"
   ]
  },
  {
   "cell_type": "code",
   "execution_count": null,
   "id": "e81b4ac7",
   "metadata": {
    "papermill": {
     "duration": 0.055054,
     "end_time": "2022-01-16T20:11:01.386869",
     "exception": false,
     "start_time": "2022-01-16T20:11:01.331815",
     "status": "completed"
    },
    "tags": []
   },
   "outputs": [],
   "source": []
  }
 ],
 "metadata": {
  "kernelspec": {
   "display_name": "Python 3",
   "language": "python",
   "name": "python3"
  },
  "language_info": {
   "codemirror_mode": {
    "name": "ipython",
    "version": 3
   },
   "file_extension": ".py",
   "mimetype": "text/x-python",
   "name": "python",
   "nbconvert_exporter": "python",
   "pygments_lexer": "ipython3",
   "version": "3.6.15"
  },
  "papermill": {
   "default_parameters": {},
   "duration": 115.470363,
   "end_time": "2022-01-16T20:11:01.864387",
   "environment_variables": {},
   "exception": null,
   "input_path": "2020-08-11-part2.ipynb",
   "output_path": "2020-08-11-part2.ipynb",
   "parameters": {},
   "start_time": "2022-01-16T20:09:06.394024",
   "version": "2.3.3"
  }
 },
 "nbformat": 4,
 "nbformat_minor": 5
}