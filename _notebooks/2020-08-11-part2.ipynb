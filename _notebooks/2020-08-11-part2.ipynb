{
 "cells": [
  {
   "cell_type": "markdown",
   "id": "98380cd3",
   "metadata": {
    "papermill": {
     "duration": 0.043359,
     "end_time": "2022-08-16T20:11:49.983741",
     "exception": false,
     "start_time": "2022-08-16T20:11:49.940382",
     "status": "completed"
    },
    "tags": []
   },
   "source": [
    "# Distinguish Your Own Digits (DYOD)"
   ]
  },
  {
   "cell_type": "markdown",
   "id": "ef31240d",
   "metadata": {
    "papermill": {
     "duration": 0.030498,
     "end_time": "2022-08-16T20:11:50.046229",
     "exception": false,
     "start_time": "2022-08-16T20:11:50.015731",
     "status": "completed"
    },
    "tags": []
   },
   "source": [
    "You are going to write a classifier that distinguishes between the number 3 and number 8."
   ]
  },
  {
   "cell_type": "code",
   "execution_count": 1,
   "id": "b15c8646",
   "metadata": {
    "execution": {
     "iopub.execute_input": "2022-08-16T20:11:50.129790Z",
     "iopub.status.busy": "2022-08-16T20:11:50.128958Z",
     "iopub.status.idle": "2022-08-16T20:11:50.145445Z",
     "shell.execute_reply": "2022-08-16T20:11:50.144671Z"
    },
    "papermill": {
     "duration": 0.063896,
     "end_time": "2022-08-16T20:11:50.145662",
     "exception": false,
     "start_time": "2022-08-16T20:11:50.081766",
     "status": "completed"
    },
    "tags": []
   },
   "outputs": [],
   "source": [
    "%load_ext autoreload\n",
    "%autoreload 2"
   ]
  },
  {
   "cell_type": "code",
   "execution_count": 2,
   "id": "22ef38dc",
   "metadata": {
    "execution": {
     "iopub.execute_input": "2022-08-16T20:11:50.218637Z",
     "iopub.status.busy": "2022-08-16T20:11:50.217727Z",
     "iopub.status.idle": "2022-08-16T20:11:50.926982Z",
     "shell.execute_reply": "2022-08-16T20:11:50.926294Z"
    },
    "papermill": {
     "duration": 0.747672,
     "end_time": "2022-08-16T20:11:50.927138",
     "exception": false,
     "start_time": "2022-08-16T20:11:50.179466",
     "status": "completed"
    },
    "tags": []
   },
   "outputs": [],
   "source": [
    "%matplotlib inline\n",
    "import numpy as np\n",
    "import matplotlib.pyplot as plt\n",
    "import pandas as pd"
   ]
  },
  {
   "cell_type": "markdown",
   "id": "ba036198",
   "metadata": {
    "papermill": {
     "duration": 0.035139,
     "end_time": "2022-08-16T20:11:50.997654",
     "exception": false,
     "start_time": "2022-08-16T20:11:50.962515",
     "status": "completed"
    },
    "tags": []
   },
   "source": [
    "From the command line run `pip install mnist`. This is a library that will help you bring down the mnist dataset. If you run this from a notebook, you need to put  `!pip install mnist` in a cell by itself."
   ]
  },
  {
   "cell_type": "code",
   "execution_count": 3,
   "id": "bb6ad8a1",
   "metadata": {
    "execution": {
     "iopub.execute_input": "2022-08-16T20:11:51.069966Z",
     "iopub.status.busy": "2022-08-16T20:11:51.069204Z",
     "iopub.status.idle": "2022-08-16T20:11:53.192935Z",
     "shell.execute_reply": "2022-08-16T20:11:53.192192Z"
    },
    "papermill": {
     "duration": 2.162872,
     "end_time": "2022-08-16T20:11:53.193130",
     "exception": false,
     "start_time": "2022-08-16T20:11:51.030258",
     "status": "completed"
    },
    "tags": []
   },
   "outputs": [
    {
     "name": "stdout",
     "output_type": "stream",
     "text": [
      "Collecting mnist\r\n"
     ]
    },
    {
     "name": "stdout",
     "output_type": "stream",
     "text": [
      "  Downloading mnist-0.2.2-py2.py3-none-any.whl (3.5 kB)\r\n",
      "Requirement already satisfied: numpy in /opt/hostedtoolcache/Python/3.6.15/x64/lib/python3.6/site-packages (from mnist) (1.19.5)\r\n"
     ]
    },
    {
     "name": "stdout",
     "output_type": "stream",
     "text": [
      "Installing collected packages: mnist\r\n"
     ]
    },
    {
     "name": "stdout",
     "output_type": "stream",
     "text": [
      "Successfully installed mnist-0.2.2\r\n"
     ]
    }
   ],
   "source": [
    "!pip install mnist"
   ]
  },
  {
   "cell_type": "markdown",
   "id": "69df9c9a",
   "metadata": {
    "papermill": {
     "duration": 0.044137,
     "end_time": "2022-08-16T20:11:53.272216",
     "exception": false,
     "start_time": "2022-08-16T20:11:53.228079",
     "status": "completed"
    },
    "tags": []
   },
   "source": [
    "## Preparing the Data"
   ]
  },
  {
   "cell_type": "code",
   "execution_count": 4,
   "id": "7f69d806",
   "metadata": {
    "execution": {
     "iopub.execute_input": "2022-08-16T20:11:53.355673Z",
     "iopub.status.busy": "2022-08-16T20:11:53.352365Z",
     "iopub.status.idle": "2022-08-16T20:11:53.370889Z",
     "shell.execute_reply": "2022-08-16T20:11:53.370206Z"
    },
    "papermill": {
     "duration": 0.059824,
     "end_time": "2022-08-16T20:11:53.371129",
     "exception": false,
     "start_time": "2022-08-16T20:11:53.311305",
     "status": "completed"
    },
    "tags": []
   },
   "outputs": [],
   "source": [
    "import mnist"
   ]
  },
  {
   "cell_type": "code",
   "execution_count": 5,
   "id": "a411e44f",
   "metadata": {
    "execution": {
     "iopub.execute_input": "2022-08-16T20:11:53.451860Z",
     "iopub.status.busy": "2022-08-16T20:11:53.451005Z",
     "iopub.status.idle": "2022-08-16T20:11:54.070104Z",
     "shell.execute_reply": "2022-08-16T20:11:54.069481Z"
    },
    "papermill": {
     "duration": 0.65931,
     "end_time": "2022-08-16T20:11:54.070261",
     "exception": false,
     "start_time": "2022-08-16T20:11:53.410951",
     "status": "completed"
    },
    "tags": []
   },
   "outputs": [],
   "source": [
    "train_images = mnist.train_images()\n",
    "train_labels = mnist.train_labels()"
   ]
  },
  {
   "cell_type": "code",
   "execution_count": 6,
   "id": "dceab3a5",
   "metadata": {
    "execution": {
     "iopub.execute_input": "2022-08-16T20:11:54.146709Z",
     "iopub.status.busy": "2022-08-16T20:11:54.145920Z",
     "iopub.status.idle": "2022-08-16T20:11:54.163713Z",
     "shell.execute_reply": "2022-08-16T20:11:54.162926Z"
    },
    "papermill": {
     "duration": 0.059543,
     "end_time": "2022-08-16T20:11:54.163864",
     "exception": false,
     "start_time": "2022-08-16T20:11:54.104321",
     "status": "completed"
    },
    "tags": []
   },
   "outputs": [
    {
     "data": {
      "text/plain": [
       "((60000, 28, 28), (60000,))"
      ]
     },
     "execution_count": 6,
     "metadata": {},
     "output_type": "execute_result"
    }
   ],
   "source": [
    "train_images.shape, train_labels.shape"
   ]
  },
  {
   "cell_type": "code",
   "execution_count": 7,
   "id": "f50dc2bb",
   "metadata": {
    "execution": {
     "iopub.execute_input": "2022-08-16T20:11:54.238470Z",
     "iopub.status.busy": "2022-08-16T20:11:54.237403Z",
     "iopub.status.idle": "2022-08-16T20:11:54.577552Z",
     "shell.execute_reply": "2022-08-16T20:11:54.576858Z"
    },
    "papermill": {
     "duration": 0.379463,
     "end_time": "2022-08-16T20:11:54.577729",
     "exception": false,
     "start_time": "2022-08-16T20:11:54.198266",
     "status": "completed"
    },
    "tags": []
   },
   "outputs": [],
   "source": [
    "test_images = mnist.test_images()\n",
    "test_labels = mnist.test_labels()"
   ]
  },
  {
   "cell_type": "code",
   "execution_count": 8,
   "id": "fc38cf1b",
   "metadata": {
    "execution": {
     "iopub.execute_input": "2022-08-16T20:11:54.656532Z",
     "iopub.status.busy": "2022-08-16T20:11:54.655791Z",
     "iopub.status.idle": "2022-08-16T20:11:54.676634Z",
     "shell.execute_reply": "2022-08-16T20:11:54.675864Z"
    },
    "papermill": {
     "duration": 0.064124,
     "end_time": "2022-08-16T20:11:54.676785",
     "exception": false,
     "start_time": "2022-08-16T20:11:54.612661",
     "status": "completed"
    },
    "tags": []
   },
   "outputs": [
    {
     "data": {
      "text/plain": [
       "((10000, 28, 28), (10000,))"
      ]
     },
     "execution_count": 8,
     "metadata": {},
     "output_type": "execute_result"
    }
   ],
   "source": [
    "test_images.shape, test_labels.shape"
   ]
  },
  {
   "cell_type": "code",
   "execution_count": 9,
   "id": "f9ed8fe0",
   "metadata": {
    "execution": {
     "iopub.execute_input": "2022-08-16T20:11:54.765973Z",
     "iopub.status.busy": "2022-08-16T20:11:54.757516Z",
     "iopub.status.idle": "2022-08-16T20:11:54.971439Z",
     "shell.execute_reply": "2022-08-16T20:11:54.969801Z"
    },
    "papermill": {
     "duration": 0.257295,
     "end_time": "2022-08-16T20:11:54.971608",
     "exception": false,
     "start_time": "2022-08-16T20:11:54.714313",
     "status": "completed"
    },
    "tags": []
   },
   "outputs": [
    {
     "name": "stdout",
     "output_type": "stream",
     "text": [
      "2\n"
     ]
    },
    {
     "data": {
      "text/plain": [
       "<matplotlib.image.AxesImage at 0x7f25b2cd2a90>"
      ]
     },
     "execution_count": 9,
     "metadata": {},
     "output_type": "execute_result"
    },
    {
     "data": {
      "image/png": "[encoded data removed]",
      "text/plain": [
       "<Figure size 432x288 with 1 Axes>"
      ]
     },
     "metadata": {
      "needs_background": "light"
     },
     "output_type": "display_data"
    }
   ],
   "source": [
    "image_index = 7776 # You may select anything up to 60,000\n",
    "print(train_labels[image_index]) \n",
    "plt.imshow(train_images[image_index], cmap='Greys')"
   ]
  },
  {
   "cell_type": "markdown",
   "id": "a8d2388d",
   "metadata": {
    "papermill": {
     "duration": 0.036294,
     "end_time": "2022-08-16T20:11:55.044222",
     "exception": false,
     "start_time": "2022-08-16T20:11:55.007928",
     "status": "completed"
    },
    "tags": []
   },
   "source": [
    "## Filter data to get 3 and 8 out"
   ]
  },
  {
   "cell_type": "code",
   "execution_count": 10,
   "id": "776f7fc7",
   "metadata": {
    "execution": {
     "iopub.execute_input": "2022-08-16T20:11:55.125460Z",
     "iopub.status.busy": "2022-08-16T20:11:55.124650Z",
     "iopub.status.idle": "2022-08-16T20:11:55.149441Z",
     "shell.execute_reply": "2022-08-16T20:11:55.148628Z"
    },
    "papermill": {
     "duration": 0.067666,
     "end_time": "2022-08-16T20:11:55.149617",
     "exception": false,
     "start_time": "2022-08-16T20:11:55.081951",
     "status": "completed"
    },
    "tags": []
   },
   "outputs": [],
   "source": [
    "train_filter = np.where((train_labels == 3 ) | (train_labels == 8))\n",
    "test_filter = np.where((test_labels == 3) | (test_labels == 8))\n",
    "X_train, y_train = train_images[train_filter], train_labels[train_filter]\n",
    "X_test, y_test = test_images[test_filter], test_labels[test_filter]"
   ]
  },
  {
   "cell_type": "markdown",
   "id": "948f0b7e",
   "metadata": {
    "papermill": {
     "duration": 0.036696,
     "end_time": "2022-08-16T20:11:55.225254",
     "exception": false,
     "start_time": "2022-08-16T20:11:55.188558",
     "status": "completed"
    },
    "tags": []
   },
   "source": [
    "We normalize the pizel values in the 0 to 1 range"
   ]
  },
  {
   "cell_type": "code",
   "execution_count": 11,
   "id": "ee4c2166",
   "metadata": {
    "execution": {
     "iopub.execute_input": "2022-08-16T20:11:55.313340Z",
     "iopub.status.busy": "2022-08-16T20:11:55.312540Z",
     "iopub.status.idle": "2022-08-16T20:11:55.379720Z",
     "shell.execute_reply": "2022-08-16T20:11:55.379017Z"
    },
    "papermill": {
     "duration": 0.114612,
     "end_time": "2022-08-16T20:11:55.379944",
     "exception": false,
     "start_time": "2022-08-16T20:11:55.265332",
     "status": "completed"
    },
    "tags": []
   },
   "outputs": [],
   "source": [
    "X_train = X_train/255.\n",
    "X_test = X_test/255."
   ]
  },
  {
   "cell_type": "markdown",
   "id": "ddcf4fab",
   "metadata": {
    "papermill": {
     "duration": 0.039211,
     "end_time": "2022-08-16T20:11:55.456448",
     "exception": false,
     "start_time": "2022-08-16T20:11:55.417237",
     "status": "completed"
    },
    "tags": []
   },
   "source": [
    "And setup the labels as 1 (when the digit is 3) and 0 (when the digit is 8)"
   ]
  },
  {
   "cell_type": "code",
   "execution_count": 12,
   "id": "7dc908f2",
   "metadata": {
    "execution": {
     "iopub.execute_input": "2022-08-16T20:11:55.540093Z",
     "iopub.status.busy": "2022-08-16T20:11:55.539257Z",
     "iopub.status.idle": "2022-08-16T20:11:55.554253Z",
     "shell.execute_reply": "2022-08-16T20:11:55.553631Z"
    },
    "papermill": {
     "duration": 0.060934,
     "end_time": "2022-08-16T20:11:55.554400",
     "exception": false,
     "start_time": "2022-08-16T20:11:55.493466",
     "status": "completed"
    },
    "tags": []
   },
   "outputs": [],
   "source": [
    "y_train = 1*(y_train==3)\n",
    "y_test = 1*(y_test==3)"
   ]
  },
  {
   "cell_type": "code",
   "execution_count": 13,
   "id": "01e4e969",
   "metadata": {
    "execution": {
     "iopub.execute_input": "2022-08-16T20:11:55.636168Z",
     "iopub.status.busy": "2022-08-16T20:11:55.635359Z",
     "iopub.status.idle": "2022-08-16T20:11:55.652210Z",
     "shell.execute_reply": "2022-08-16T20:11:55.652850Z"
    },
    "papermill": {
     "duration": 0.06049,
     "end_time": "2022-08-16T20:11:55.653046",
     "exception": false,
     "start_time": "2022-08-16T20:11:55.592556",
     "status": "completed"
    },
    "tags": []
   },
   "outputs": [
    {
     "data": {
      "text/plain": [
       "((11982, 28, 28), (1984, 28, 28))"
      ]
     },
     "execution_count": 13,
     "metadata": {},
     "output_type": "execute_result"
    }
   ],
   "source": [
    "X_train.shape, X_test.shape"
   ]
  },
  {
   "cell_type": "markdown",
   "id": "5ccf3f85",
   "metadata": {
    "papermill": {
     "duration": 0.038032,
     "end_time": "2022-08-16T20:11:55.736559",
     "exception": false,
     "start_time": "2022-08-16T20:11:55.698527",
     "status": "completed"
    },
    "tags": []
   },
   "source": [
    "We reshape the data to flatten the image pixels into a set of features or co-variates:"
   ]
  },
  {
   "cell_type": "code",
   "execution_count": 14,
   "id": "5286a4a3",
   "metadata": {
    "execution": {
     "iopub.execute_input": "2022-08-16T20:11:55.822350Z",
     "iopub.status.busy": "2022-08-16T20:11:55.821425Z",
     "iopub.status.idle": "2022-08-16T20:11:55.845224Z",
     "shell.execute_reply": "2022-08-16T20:11:55.844530Z"
    },
    "papermill": {
     "duration": 0.068543,
     "end_time": "2022-08-16T20:11:55.845379",
     "exception": false,
     "start_time": "2022-08-16T20:11:55.776836",
     "status": "completed"
    },
    "tags": []
   },
   "outputs": [
    {
     "data": {
      "text/plain": [
       "((11982, 784), (1984, 784))"
      ]
     },
     "execution_count": 14,
     "metadata": {},
     "output_type": "execute_result"
    }
   ],
   "source": [
    "X_train = X_train.reshape(X_train.shape[0], -1)\n",
    "X_test = X_test.reshape(X_test.shape[0], -1)\n",
    "X_train.shape, X_test.shape"
   ]
  },
  {
   "cell_type": "code",
   "execution_count": 15,
   "id": "73c5f88a",
   "metadata": {
    "execution": {
     "iopub.execute_input": "2022-08-16T20:11:55.927150Z",
     "iopub.status.busy": "2022-08-16T20:11:55.926383Z",
     "iopub.status.idle": "2022-08-16T20:11:55.952000Z",
     "shell.execute_reply": "2022-08-16T20:11:55.951353Z"
    },
    "papermill": {
     "duration": 0.069122,
     "end_time": "2022-08-16T20:11:55.952154",
     "exception": false,
     "start_time": "2022-08-16T20:11:55.883032",
     "status": "completed"
    },
    "tags": []
   },
   "outputs": [],
   "source": [
    "#Impoting functions from 'Kudzu'\n",
    "from kudzu.model import Model\n",
    "from kudzu.train import Learner\n",
    "from kudzu.optim import GD\n",
    "from kudzu.data import Data, Sampler,Dataloader\n",
    "\n",
    "from kudzu.callbacks import AccCallback\n",
    "from kudzu.callbacks import ClfCallback\n",
    "\n",
    "from kudzu.loss import MSE\n",
    "\n",
    "from kudzu.layer import Sigmoid,Relu\n",
    "from kudzu.layer import Affine"
   ]
  },
  {
   "cell_type": "markdown",
   "id": "bc01172a",
   "metadata": {
    "papermill": {
     "duration": 0.037969,
     "end_time": "2022-08-16T20:11:56.026800",
     "exception": false,
     "start_time": "2022-08-16T20:11:55.988831",
     "status": "completed"
    },
    "tags": []
   },
   "source": [
    "### Let us create a `Config` class, to store important parameters. \n",
    "This class essentially plays the role of a dictionary."
   ]
  },
  {
   "cell_type": "code",
   "execution_count": 16,
   "id": "978281aa",
   "metadata": {
    "execution": {
     "iopub.execute_input": "2022-08-16T20:11:56.110591Z",
     "iopub.status.busy": "2022-08-16T20:11:56.109862Z",
     "iopub.status.idle": "2022-08-16T20:11:56.124712Z",
     "shell.execute_reply": "2022-08-16T20:11:56.123907Z"
    },
    "papermill": {
     "duration": 0.057585,
     "end_time": "2022-08-16T20:11:56.124876",
     "exception": false,
     "start_time": "2022-08-16T20:11:56.067291",
     "status": "completed"
    },
    "tags": []
   },
   "outputs": [],
   "source": [
    "class Config:\n",
    "    pass\n",
    "config = Config()\n",
    "config.lr = 0.001\n",
    "config.num_epochs = 250\n",
    "config.bs = 50"
   ]
  },
  {
   "cell_type": "markdown",
   "id": "1385fa59",
   "metadata": {
    "papermill": {
     "duration": 0.036772,
     "end_time": "2022-08-16T20:11:56.197961",
     "exception": false,
     "start_time": "2022-08-16T20:11:56.161189",
     "status": "completed"
    },
    "tags": []
   },
   "source": [
    "### Running Models with the Training data\n",
    "Details about the network layers:\n",
    "- A first affine layer has 784 inputs and does 100 affine transforms. These are followed by a Relu\n",
    "- A second affine layer has 100 inputs from the 100 activations of the past layer, and does 100 affine transforms. These are followed by a Relu\n",
    "- A third affine layer has 100 activations and does 2 affine transformations to create an embedding for visualization. There is no non-linearity here.\n",
    "- A final \"logistic regression\" which has an affine transform from 2 inputs to 1 output, which is squeezed through a sigmoid.\n"
   ]
  },
  {
   "cell_type": "code",
   "execution_count": 17,
   "id": "2b9c66db",
   "metadata": {
    "execution": {
     "iopub.execute_input": "2022-08-16T20:11:56.280267Z",
     "iopub.status.busy": "2022-08-16T20:11:56.279469Z",
     "iopub.status.idle": "2022-08-16T20:11:56.295020Z",
     "shell.execute_reply": "2022-08-16T20:11:56.294402Z"
    },
    "papermill": {
     "duration": 0.060712,
     "end_time": "2022-08-16T20:11:56.295164",
     "exception": false,
     "start_time": "2022-08-16T20:11:56.234452",
     "status": "completed"
    },
    "tags": []
   },
   "outputs": [],
   "source": [
    "data = Data(X_train, y_train.reshape(-1,1))\n",
    "sampler = Sampler(data, config.bs, shuffle=True)\n",
    "\n",
    "dl = Dataloader(data, sampler)\n",
    "\n",
    "opt = GD(config.lr)\n",
    "loss = MSE()"
   ]
  },
  {
   "cell_type": "code",
   "execution_count": 18,
   "id": "b275e4c2",
   "metadata": {
    "execution": {
     "iopub.execute_input": "2022-08-16T20:11:56.378249Z",
     "iopub.status.busy": "2022-08-16T20:11:56.377442Z",
     "iopub.status.idle": "2022-08-16T20:11:56.393162Z",
     "shell.execute_reply": "2022-08-16T20:11:56.392458Z"
    },
    "papermill": {
     "duration": 0.060722,
     "end_time": "2022-08-16T20:11:56.393317",
     "exception": false,
     "start_time": "2022-08-16T20:11:56.332595",
     "status": "completed"
    },
    "tags": []
   },
   "outputs": [],
   "source": [
    "training_data_x = X_train\n",
    "testing_data_x = X_test\n",
    "training_data_y = y_train.reshape(-1,1)\n",
    "testing_data_y = y_test.reshape(-1,1)"
   ]
  },
  {
   "cell_type": "code",
   "execution_count": 19,
   "id": "76951160",
   "metadata": {
    "execution": {
     "iopub.execute_input": "2022-08-16T20:11:56.474110Z",
     "iopub.status.busy": "2022-08-16T20:11:56.473313Z",
     "iopub.status.idle": "2022-08-16T20:11:56.496065Z",
     "shell.execute_reply": "2022-08-16T20:11:56.495157Z"
    },
    "papermill": {
     "duration": 0.065565,
     "end_time": "2022-08-16T20:11:56.496228",
     "exception": false,
     "start_time": "2022-08-16T20:11:56.430663",
     "status": "completed"
    },
    "tags": []
   },
   "outputs": [
    {
     "name": "stdout",
     "output_type": "stream",
     "text": [
      "xavier\n",
      "xavier\n",
      "xavier\n",
      "xavier\n",
      "xavier\n"
     ]
    }
   ],
   "source": [
    "layers = [Affine(\"first\", 784, 100), Relu(\"first\"), Affine(\"second\", 100, 100), Relu(\"second\"), Affine(\"third\", 100, 2), Affine(\"last\", 2, 1), Sigmoid(\"last\")]\n",
    "model_nn = Model(layers)\n",
    "model_lr = Model([Affine(\"logits\", 784, 1), Sigmoid(\"sigmoid\")])"
   ]
  },
  {
   "cell_type": "code",
   "execution_count": 20,
   "id": "6eede77a",
   "metadata": {
    "execution": {
     "iopub.execute_input": "2022-08-16T20:11:56.577645Z",
     "iopub.status.busy": "2022-08-16T20:11:56.576791Z",
     "iopub.status.idle": "2022-08-16T20:11:56.592972Z",
     "shell.execute_reply": "2022-08-16T20:11:56.592274Z"
    },
    "papermill": {
     "duration": 0.058952,
     "end_time": "2022-08-16T20:11:56.593121",
     "exception": false,
     "start_time": "2022-08-16T20:11:56.534169",
     "status": "completed"
    },
    "tags": []
   },
   "outputs": [],
   "source": [
    "nn_learner = Learner(loss, model_nn, opt, config.num_epochs)\n",
    "acc_nn = ClfCallback(nn_learner, config.bs, training_data_x , testing_data_x, training_data_y, testing_data_y)\n",
    "nn_learner.set_callbacks([acc_nn])"
   ]
  },
  {
   "cell_type": "code",
   "execution_count": 21,
   "id": "877b6cc7",
   "metadata": {
    "execution": {
     "iopub.execute_input": "2022-08-16T20:11:56.678619Z",
     "iopub.status.busy": "2022-08-16T20:11:56.677854Z",
     "iopub.status.idle": "2022-08-16T20:11:56.693076Z",
     "shell.execute_reply": "2022-08-16T20:11:56.692283Z"
    },
    "papermill": {
     "duration": 0.062682,
     "end_time": "2022-08-16T20:11:56.693227",
     "exception": false,
     "start_time": "2022-08-16T20:11:56.630545",
     "status": "completed"
    },
    "tags": []
   },
   "outputs": [],
   "source": [
    "lr_learner = Learner(loss, model_lr, opt, config.num_epochs)\n",
    "acc_lr = ClfCallback(lr_learner, config.bs, training_data_x , testing_data_x, training_data_y, testing_data_y)\n",
    "lr_learner.set_callbacks([acc_lr])"
   ]
  },
  {
   "cell_type": "code",
   "execution_count": 22,
   "id": "d9b133c3",
   "metadata": {
    "execution": {
     "iopub.execute_input": "2022-08-16T20:11:56.783932Z",
     "iopub.status.busy": "2022-08-16T20:11:56.783158Z",
     "iopub.status.idle": "2022-08-16T20:14:27.753205Z",
     "shell.execute_reply": "2022-08-16T20:14:27.754279Z"
    },
    "papermill": {
     "duration": 151.022161,
     "end_time": "2022-08-16T20:14:27.754472",
     "exception": false,
     "start_time": "2022-08-16T20:11:56.732311",
     "status": "completed"
    },
    "tags": []
   },
   "outputs": [
    {
     "name": "stdout",
     "output_type": "stream",
     "text": [
      "Epoch 0, Loss 0.2713\n",
      "Training Accuracy: 0.5290, Testing Accuracy: 0.5439\n",
      "\n"
     ]
    },
    {
     "name": "stdout",
     "output_type": "stream",
     "text": [
      "Epoch 10, Loss 0.0868\n",
      "Training Accuracy: 0.9160, Testing Accuracy: 0.9289\n",
      "\n"
     ]
    },
    {
     "name": "stdout",
     "output_type": "stream",
     "text": [
      "Epoch 20, Loss 0.054\n",
      "Training Accuracy: 0.9409, Testing Accuracy: 0.9501\n",
      "\n"
     ]
    },
    {
     "name": "stdout",
     "output_type": "stream",
     "text": [
      "Epoch 30, Loss 0.043\n",
      "Training Accuracy: 0.9519, Testing Accuracy: 0.9602\n",
      "\n"
     ]
    },
    {
     "name": "stdout",
     "output_type": "stream",
     "text": [
      "Epoch 40, Loss 0.0375\n",
      "Training Accuracy: 0.9565, Testing Accuracy: 0.9627\n",
      "\n"
     ]
    },
    {
     "name": "stdout",
     "output_type": "stream",
     "text": [
      "Epoch 50, Loss 0.0341\n",
      "Training Accuracy: 0.9599, Testing Accuracy: 0.9637\n",
      "\n"
     ]
    },
    {
     "name": "stdout",
     "output_type": "stream",
     "text": [
      "Epoch 60, Loss 0.0318\n",
      "Training Accuracy: 0.9628, Testing Accuracy: 0.9637\n",
      "\n"
     ]
    },
    {
     "name": "stdout",
     "output_type": "stream",
     "text": [
      "Epoch 70, Loss 0.03\n",
      "Training Accuracy: 0.9654, Testing Accuracy: 0.9647\n",
      "\n"
     ]
    },
    {
     "name": "stdout",
     "output_type": "stream",
     "text": [
      "Epoch 80, Loss 0.0285\n",
      "Training Accuracy: 0.9675, Testing Accuracy: 0.9652\n",
      "\n"
     ]
    },
    {
     "name": "stdout",
     "output_type": "stream",
     "text": [
      "Epoch 90, Loss 0.0273\n",
      "Training Accuracy: 0.9690, Testing Accuracy: 0.9667\n",
      "\n"
     ]
    },
    {
     "name": "stdout",
     "output_type": "stream",
     "text": [
      "Epoch 100, Loss 0.0263\n",
      "Training Accuracy: 0.9701, Testing Accuracy: 0.9667\n",
      "\n"
     ]
    },
    {
     "name": "stdout",
     "output_type": "stream",
     "text": [
      "Epoch 110, Loss 0.0254\n",
      "Training Accuracy: 0.9714, Testing Accuracy: 0.9662\n",
      "\n"
     ]
    },
    {
     "name": "stdout",
     "output_type": "stream",
     "text": [
      "Epoch 120, Loss 0.0246\n",
      "Training Accuracy: 0.9723, Testing Accuracy: 0.9682\n",
      "\n"
     ]
    },
    {
     "name": "stdout",
     "output_type": "stream",
     "text": [
      "Epoch 130, Loss 0.0239\n",
      "Training Accuracy: 0.9735, Testing Accuracy: 0.9703\n",
      "\n"
     ]
    },
    {
     "name": "stdout",
     "output_type": "stream",
     "text": [
      "Epoch 140, Loss 0.0232\n",
      "Training Accuracy: 0.9741, Testing Accuracy: 0.9703\n",
      "\n"
     ]
    },
    {
     "name": "stdout",
     "output_type": "stream",
     "text": [
      "Epoch 150, Loss 0.0226\n",
      "Training Accuracy: 0.9747, Testing Accuracy: 0.9708\n",
      "\n"
     ]
    },
    {
     "name": "stdout",
     "output_type": "stream",
     "text": [
      "Epoch 160, Loss 0.022\n",
      "Training Accuracy: 0.9760, Testing Accuracy: 0.9713\n",
      "\n"
     ]
    },
    {
     "name": "stdout",
     "output_type": "stream",
     "text": [
      "Epoch 170, Loss 0.0215\n",
      "Training Accuracy: 0.9765, Testing Accuracy: 0.9723\n",
      "\n"
     ]
    },
    {
     "name": "stdout",
     "output_type": "stream",
     "text": [
      "Epoch 180, Loss 0.021\n",
      "Training Accuracy: 0.9766, Testing Accuracy: 0.9723\n",
      "\n"
     ]
    },
    {
     "name": "stdout",
     "output_type": "stream",
     "text": [
      "Epoch 190, Loss 0.0206\n",
      "Training Accuracy: 0.9770, Testing Accuracy: 0.9723\n",
      "\n"
     ]
    },
    {
     "name": "stdout",
     "output_type": "stream",
     "text": [
      "Epoch 200, Loss 0.0202\n",
      "Training Accuracy: 0.9775, Testing Accuracy: 0.9733\n",
      "\n"
     ]
    },
    {
     "name": "stdout",
     "output_type": "stream",
     "text": [
      "Epoch 210, Loss 0.0198\n",
      "Training Accuracy: 0.9781, Testing Accuracy: 0.9738\n",
      "\n"
     ]
    },
    {
     "name": "stdout",
     "output_type": "stream",
     "text": [
      "Epoch 220, Loss 0.0194\n",
      "Training Accuracy: 0.9786, Testing Accuracy: 0.9743\n",
      "\n"
     ]
    },
    {
     "name": "stdout",
     "output_type": "stream",
     "text": [
      "Epoch 230, Loss 0.019\n",
      "Training Accuracy: 0.9792, Testing Accuracy: 0.9743\n",
      "\n"
     ]
    },
    {
     "name": "stdout",
     "output_type": "stream",
     "text": [
      "Epoch 240, Loss 0.0187\n",
      "Training Accuracy: 0.9796, Testing Accuracy: 0.9743\n",
      "\n"
     ]
    },
    {
     "data": {
      "text/plain": [
       "0.04292829496047134"
      ]
     },
     "execution_count": 22,
     "metadata": {},
     "output_type": "execute_result"
    }
   ],
   "source": [
    "nn_learner.train_loop(dl)"
   ]
  },
  {
   "cell_type": "code",
   "execution_count": 23,
   "id": "e0163366",
   "metadata": {
    "execution": {
     "iopub.execute_input": "2022-08-16T20:14:27.907174Z",
     "iopub.status.busy": "2022-08-16T20:14:27.906252Z",
     "iopub.status.idle": "2022-08-16T20:14:49.251206Z",
     "shell.execute_reply": "2022-08-16T20:14:49.252183Z"
    },
    "papermill": {
     "duration": 21.44945,
     "end_time": "2022-08-16T20:14:49.252429",
     "exception": false,
     "start_time": "2022-08-16T20:14:27.802979",
     "status": "completed"
    },
    "tags": []
   },
   "outputs": [
    {
     "name": "stdout",
     "output_type": "stream",
     "text": [
      "Epoch 0, Loss 0.2207\n",
      "Training Accuracy: 0.7380, Testing Accuracy: 0.7404\n",
      "\n"
     ]
    },
    {
     "name": "stdout",
     "output_type": "stream",
     "text": [
      "Epoch 10, Loss 0.1031\n",
      "Training Accuracy: 0.9030, Testing Accuracy: 0.9123\n",
      "\n"
     ]
    },
    {
     "name": "stdout",
     "output_type": "stream",
     "text": [
      "Epoch 20, Loss 0.0796\n",
      "Training Accuracy: 0.9251, Testing Accuracy: 0.9320\n",
      "\n"
     ]
    },
    {
     "name": "stdout",
     "output_type": "stream",
     "text": [
      "Epoch 30, Loss 0.0684\n",
      "Training Accuracy: 0.9357, Testing Accuracy: 0.9420\n",
      "\n"
     ]
    },
    {
     "name": "stdout",
     "output_type": "stream",
     "text": [
      "Epoch 40, Loss 0.0617\n",
      "Training Accuracy: 0.9407, Testing Accuracy: 0.9501\n",
      "\n"
     ]
    },
    {
     "name": "stdout",
     "output_type": "stream",
     "text": [
      "Epoch 50, Loss 0.0571\n",
      "Training Accuracy: 0.9441, Testing Accuracy: 0.9556\n",
      "\n"
     ]
    },
    {
     "name": "stdout",
     "output_type": "stream",
     "text": [
      "Epoch 60, Loss 0.0538\n",
      "Training Accuracy: 0.9468, Testing Accuracy: 0.9561\n",
      "\n"
     ]
    },
    {
     "name": "stdout",
     "output_type": "stream",
     "text": [
      "Epoch 70, Loss 0.0512\n",
      "Training Accuracy: 0.9489, Testing Accuracy: 0.9572\n",
      "\n"
     ]
    },
    {
     "name": "stdout",
     "output_type": "stream",
     "text": [
      "Epoch 80, Loss 0.0491\n",
      "Training Accuracy: 0.9506, Testing Accuracy: 0.9572\n",
      "\n"
     ]
    },
    {
     "name": "stdout",
     "output_type": "stream",
     "text": [
      "Epoch 90, Loss 0.0474\n",
      "Training Accuracy: 0.9528, Testing Accuracy: 0.9577\n",
      "\n"
     ]
    },
    {
     "name": "stdout",
     "output_type": "stream",
     "text": [
      "Epoch 100, Loss 0.046\n",
      "Training Accuracy: 0.9543, Testing Accuracy: 0.9587\n",
      "\n"
     ]
    },
    {
     "name": "stdout",
     "output_type": "stream",
     "text": [
      "Epoch 110, Loss 0.0448\n",
      "Training Accuracy: 0.9548, Testing Accuracy: 0.9597\n",
      "\n"
     ]
    },
    {
     "name": "stdout",
     "output_type": "stream",
     "text": [
      "Epoch 120, Loss 0.0437\n",
      "Training Accuracy: 0.9550, Testing Accuracy: 0.9602\n",
      "\n"
     ]
    },
    {
     "name": "stdout",
     "output_type": "stream",
     "text": [
      "Epoch 130, Loss 0.0428\n",
      "Training Accuracy: 0.9556, Testing Accuracy: 0.9612\n",
      "\n"
     ]
    },
    {
     "name": "stdout",
     "output_type": "stream",
     "text": [
      "Epoch 140, Loss 0.042\n",
      "Training Accuracy: 0.9564, Testing Accuracy: 0.9612\n",
      "\n"
     ]
    },
    {
     "name": "stdout",
     "output_type": "stream",
     "text": [
      "Epoch 150, Loss 0.0412\n",
      "Training Accuracy: 0.9568, Testing Accuracy: 0.9612\n",
      "\n"
     ]
    },
    {
     "name": "stdout",
     "output_type": "stream",
     "text": [
      "Epoch 160, Loss 0.0405\n",
      "Training Accuracy: 0.9574, Testing Accuracy: 0.9617\n",
      "\n"
     ]
    },
    {
     "name": "stdout",
     "output_type": "stream",
     "text": [
      "Epoch 170, Loss 0.0399\n",
      "Training Accuracy: 0.9580, Testing Accuracy: 0.9617\n",
      "\n"
     ]
    },
    {
     "name": "stdout",
     "output_type": "stream",
     "text": [
      "Epoch 180, Loss 0.0394\n",
      "Training Accuracy: 0.9582, Testing Accuracy: 0.9622\n",
      "\n"
     ]
    },
    {
     "name": "stdout",
     "output_type": "stream",
     "text": [
      "Epoch 190, Loss 0.0389\n",
      "Training Accuracy: 0.9588, Testing Accuracy: 0.9622\n",
      "\n"
     ]
    },
    {
     "name": "stdout",
     "output_type": "stream",
     "text": [
      "Epoch 200, Loss 0.0384\n",
      "Training Accuracy: 0.9589, Testing Accuracy: 0.9622\n",
      "\n"
     ]
    },
    {
     "name": "stdout",
     "output_type": "stream",
     "text": [
      "Epoch 210, Loss 0.0379\n",
      "Training Accuracy: 0.9597, Testing Accuracy: 0.9632\n",
      "\n"
     ]
    },
    {
     "name": "stdout",
     "output_type": "stream",
     "text": [
      "Epoch 220, Loss 0.0375\n",
      "Training Accuracy: 0.9599, Testing Accuracy: 0.9632\n",
      "\n"
     ]
    },
    {
     "name": "stdout",
     "output_type": "stream",
     "text": [
      "Epoch 230, Loss 0.0371\n",
      "Training Accuracy: 0.9602, Testing Accuracy: 0.9632\n",
      "\n"
     ]
    },
    {
     "name": "stdout",
     "output_type": "stream",
     "text": [
      "Epoch 240, Loss 0.0368\n",
      "Training Accuracy: 0.9609, Testing Accuracy: 0.9637\n",
      "\n"
     ]
    },
    {
     "data": {
      "text/plain": [
       "0.020217814663876777"
      ]
     },
     "execution_count": 23,
     "metadata": {},
     "output_type": "execute_result"
    }
   ],
   "source": [
    "lr_learner.train_loop(dl)"
   ]
  },
  {
   "cell_type": "code",
   "execution_count": 24,
   "id": "ca410940",
   "metadata": {
    "execution": {
     "iopub.execute_input": "2022-08-16T20:14:49.372445Z",
     "iopub.status.busy": "2022-08-16T20:14:49.371646Z",
     "iopub.status.idle": "2022-08-16T20:14:49.688688Z",
     "shell.execute_reply": "2022-08-16T20:14:49.689460Z"
    },
    "papermill": {
     "duration": 0.380421,
     "end_time": "2022-08-16T20:14:49.689676",
     "exception": false,
     "start_time": "2022-08-16T20:14:49.309255",
     "status": "completed"
    },
    "tags": []
   },
   "outputs": [
    {
     "data": {
      "text/plain": [
       "<matplotlib.legend.Legend at 0x7f25b2832f98>"
      ]
     },
     "execution_count": 24,
     "metadata": {},
     "output_type": "execute_result"
    },
    {
     "data": {
      "image/png": "[encoded data removed]",
      "text/plain": [
       "<Figure size 1080x720 with 1 Axes>"
      ]
     },
     "metadata": {
      "needs_background": "light"
     },
     "output_type": "display_data"
    }
   ],
   "source": [
    "#comparing the results of NN and LR\n",
    "plt.figure(figsize=(15,10))\n",
    "\n",
    "# Neural Network plots\n",
    "plt.plot(acc_nn.accuracies, 'r-', label = \"Training Accuracies - NN\")\n",
    "plt.plot(acc_nn.test_accuracies, 'g-', label = \"Testing Accuracies - NN\")\n",
    "\n",
    "# Logistic Regression plots\n",
    "plt.plot(acc_lr.accuracies, 'k-', label = \"Training Accuracies - LR\")\n",
    "plt.plot(acc_lr.test_accuracies, 'b-', label = \"Testing Accuracies - LR\")\n",
    "plt.legend()"
   ]
  },
  {
   "cell_type": "markdown",
   "id": "80dfb35c",
   "metadata": {
    "papermill": {
     "duration": 0.056166,
     "end_time": "2022-08-16T20:14:49.801831",
     "exception": false,
     "start_time": "2022-08-16T20:14:49.745665",
     "status": "completed"
    },
    "tags": []
   },
   "source": [
    "#### Plotting the outputs of this layer of the NN.\n"
   ]
  },
  {
   "cell_type": "code",
   "execution_count": 25,
   "id": "45eb2ff5",
   "metadata": {
    "execution": {
     "iopub.execute_input": "2022-08-16T20:14:49.920242Z",
     "iopub.status.busy": "2022-08-16T20:14:49.919446Z",
     "iopub.status.idle": "2022-08-16T20:14:49.947920Z",
     "shell.execute_reply": "2022-08-16T20:14:49.948514Z"
    },
    "papermill": {
     "duration": 0.091462,
     "end_time": "2022-08-16T20:14:49.948690",
     "exception": false,
     "start_time": "2022-08-16T20:14:49.857228",
     "status": "completed"
    },
    "tags": []
   },
   "outputs": [],
   "source": [
    "new_model = Model(layers[:-2])\n",
    "testing_plot = new_model(testing_data_x)"
   ]
  },
  {
   "cell_type": "code",
   "execution_count": 26,
   "id": "4c0a5485",
   "metadata": {
    "execution": {
     "iopub.execute_input": "2022-08-16T20:14:50.078698Z",
     "iopub.status.busy": "2022-08-16T20:14:50.077931Z",
     "iopub.status.idle": "2022-08-16T20:14:50.373076Z",
     "shell.execute_reply": "2022-08-16T20:14:50.371277Z"
    },
    "papermill": {
     "duration": 0.362017,
     "end_time": "2022-08-16T20:14:50.373234",
     "exception": false,
     "start_time": "2022-08-16T20:14:50.011217",
     "status": "completed"
    },
    "tags": []
   },
   "outputs": [
    {
     "data": {
      "text/plain": [
       "Text(0.5, 1.0, 'Outputs')"
      ]
     },
     "execution_count": 26,
     "metadata": {},
     "output_type": "execute_result"
    },
    {
     "data": {
      "image/png": "[encoded data removed]",
      "text/plain": [
       "<Figure size 576x504 with 1 Axes>"
      ]
     },
     "metadata": {
      "needs_background": "light"
     },
     "output_type": "display_data"
    }
   ],
   "source": [
    "# Plotting the scatter plot of points and color coding by class\n",
    "plt.figure(figsize=(8,7))\n",
    "plt.scatter(testing_plot[:,0], testing_plot[:,1], alpha = 0.1, c = y_test.ravel());\n",
    "plt.title('Outputs')"
   ]
  },
  {
   "cell_type": "markdown",
   "id": "a74fcf8f",
   "metadata": {
    "papermill": {
     "duration": 0.062312,
     "end_time": "2022-08-16T20:14:50.526302",
     "exception": false,
     "start_time": "2022-08-16T20:14:50.463990",
     "status": "completed"
    },
    "tags": []
   },
   "source": [
    "Probability contours"
   ]
  },
  {
   "cell_type": "code",
   "execution_count": 27,
   "id": "d0afc8e3",
   "metadata": {
    "execution": {
     "iopub.execute_input": "2022-08-16T20:14:50.666224Z",
     "iopub.status.busy": "2022-08-16T20:14:50.662112Z",
     "iopub.status.idle": "2022-08-16T20:14:50.678213Z",
     "shell.execute_reply": "2022-08-16T20:14:50.677417Z"
    },
    "papermill": {
     "duration": 0.089802,
     "end_time": "2022-08-16T20:14:50.678376",
     "exception": false,
     "start_time": "2022-08-16T20:14:50.588574",
     "status": "completed"
    },
    "tags": []
   },
   "outputs": [],
   "source": [
    "model_prob = Model(layers[-2:]) "
   ]
  },
  {
   "cell_type": "code",
   "execution_count": 28,
   "id": "9b96e238",
   "metadata": {
    "execution": {
     "iopub.execute_input": "2022-08-16T20:14:50.806281Z",
     "iopub.status.busy": "2022-08-16T20:14:50.804817Z",
     "iopub.status.idle": "2022-08-16T20:14:50.823293Z",
     "shell.execute_reply": "2022-08-16T20:14:50.823916Z"
    },
    "papermill": {
     "duration": 0.084517,
     "end_time": "2022-08-16T20:14:50.824091",
     "exception": false,
     "start_time": "2022-08-16T20:14:50.739574",
     "status": "completed"
    },
    "tags": []
   },
   "outputs": [],
   "source": [
    "#creating the x and y ranges according to the above generated plot.\n",
    "x_range = np.linspace(-4, 1, 100) \n",
    "y_range = np.linspace(-6, 6, 100) \n",
    "x_grid, y_grid = np.meshgrid(x_range, y_range) # x_grid and y_grig are of size 100 X 100\n",
    "\n",
    "# converting x_grid and y_grid to continuous arrays\n",
    "x_gridflat = np.ravel(x_grid)\n",
    "y_gridflat = np.ravel(y_grid)\n",
    "\n",
    "# The last layer of the current model takes two columns as input. Hence transpose of np.vstack() is required.\n",
    "X = np.vstack((x_gridflat, y_gridflat)).T\n",
    "\n",
    "prob_contour = model_prob(X).reshape(100,100) "
   ]
  },
  {
   "cell_type": "code",
   "execution_count": 29,
   "id": "da72499a",
   "metadata": {
    "execution": {
     "iopub.execute_input": "2022-08-16T20:14:50.957087Z",
     "iopub.status.busy": "2022-08-16T20:14:50.956061Z",
     "iopub.status.idle": "2022-08-16T20:14:51.312774Z",
     "shell.execute_reply": "2022-08-16T20:14:51.312122Z"
    },
    "papermill": {
     "duration": 0.42354,
     "end_time": "2022-08-16T20:14:51.312950",
     "exception": false,
     "start_time": "2022-08-16T20:14:50.889410",
     "status": "completed"
    },
    "tags": []
   },
   "outputs": [
    {
     "data": {
      "image/png": "[encoded data removed]",
      "text/plain": [
       "<Figure size 720x648 with 1 Axes>"
      ]
     },
     "metadata": {
      "needs_background": "light"
     },
     "output_type": "display_data"
    }
   ],
   "source": [
    "plt.figure(figsize=(10,9))\n",
    "plt.scatter(testing_plot[:,0], testing_plot[:,1], alpha = 0.1, c = y_test.ravel())\n",
    "contours = plt.contour(x_grid,y_grid,prob_contour)\n",
    "plt.title('Probability Contours')\n",
    "plt.clabel(contours, inline = True );"
   ]
  },
  {
   "cell_type": "code",
   "execution_count": null,
   "id": "e81b4ac7",
   "metadata": {
    "papermill": {
     "duration": 0.061143,
     "end_time": "2022-08-16T20:14:51.436164",
     "exception": false,
     "start_time": "2022-08-16T20:14:51.375021",
     "status": "completed"
    },
    "tags": []
   },
   "outputs": [],
   "source": []
  }
 ],
 "metadata": {
  "kernelspec": {
   "display_name": "Python 3",
   "language": "python",
   "name": "python3"
  },
  "language_info": {
   "codemirror_mode": {
    "name": "ipython",
    "version": 3
   },
   "file_extension": ".py",
   "mimetype": "text/x-python",
   "name": "python",
   "nbconvert_exporter": "python",
   "pygments_lexer": "ipython3",
   "version": "3.6.15"
  },
  "papermill": {
   "default_parameters": {},
   "duration": 183.231198,
   "end_time": "2022-08-16T20:14:51.919698",
   "environment_variables": {},
   "exception": null,
   "input_path": "2020-08-11-part2.ipynb",
   "output_path": "2020-08-11-part2.ipynb",
   "parameters": {},
   "start_time": "2022-08-16T20:11:48.688500",
   "version": "2.3.3"
  }
 },
 "nbformat": 4,
 "nbformat_minor": 5
}