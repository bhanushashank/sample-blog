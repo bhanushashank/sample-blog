{
 "cells": [
  {
   "cell_type": "markdown",
   "id": "98380cd3",
   "metadata": {
    "papermill": {
     "duration": 0.036833,
     "end_time": "2022-08-31T00:53:43.377987",
     "exception": false,
     "start_time": "2022-08-31T00:53:43.341154",
     "status": "completed"
    },
    "tags": []
   },
   "source": [
    "# Distinguish Your Own Digits (DYOD)"
   ]
  },
  {
   "cell_type": "markdown",
   "id": "ef31240d",
   "metadata": {
    "papermill": {
     "duration": 0.030639,
     "end_time": "2022-08-31T00:53:43.441131",
     "exception": false,
     "start_time": "2022-08-31T00:53:43.410492",
     "status": "completed"
    },
    "tags": []
   },
   "source": [
    "You are going to write a classifier that distinguishes between the number 3 and number 8."
   ]
  },
  {
   "cell_type": "code",
   "execution_count": 1,
   "id": "b15c8646",
   "metadata": {
    "execution": {
     "iopub.execute_input": "2022-08-31T00:53:43.512014Z",
     "iopub.status.busy": "2022-08-31T00:53:43.511296Z",
     "iopub.status.idle": "2022-08-31T00:53:43.525179Z",
     "shell.execute_reply": "2022-08-31T00:53:43.524466Z"
    },
    "papermill": {
     "duration": 0.053081,
     "end_time": "2022-08-31T00:53:43.525334",
     "exception": false,
     "start_time": "2022-08-31T00:53:43.472253",
     "status": "completed"
    },
    "tags": []
   },
   "outputs": [],
   "source": [
    "%load_ext autoreload\n",
    "%autoreload 2"
   ]
  },
  {
   "cell_type": "code",
   "execution_count": 2,
   "id": "22ef38dc",
   "metadata": {
    "execution": {
     "iopub.execute_input": "2022-08-31T00:53:43.594145Z",
     "iopub.status.busy": "2022-08-31T00:53:43.593224Z",
     "iopub.status.idle": "2022-08-31T00:53:44.261172Z",
     "shell.execute_reply": "2022-08-31T00:53:44.261841Z"
    },
    "papermill": {
     "duration": 0.705259,
     "end_time": "2022-08-31T00:53:44.262037",
     "exception": false,
     "start_time": "2022-08-31T00:53:43.556778",
     "status": "completed"
    },
    "tags": []
   },
   "outputs": [],
   "source": [
    "%matplotlib inline\n",
    "import numpy as np\n",
    "import matplotlib.pyplot as plt\n",
    "import pandas as pd"
   ]
  },
  {
   "cell_type": "markdown",
   "id": "ba036198",
   "metadata": {
    "papermill": {
     "duration": 0.030388,
     "end_time": "2022-08-31T00:53:44.322035",
     "exception": false,
     "start_time": "2022-08-31T00:53:44.291647",
     "status": "completed"
    },
    "tags": []
   },
   "source": [
    "From the command line run `pip install mnist`. This is a library that will help you bring down the mnist dataset. If you run this from a notebook, you need to put  `!pip install mnist` in a cell by itself."
   ]
  },
  {
   "cell_type": "code",
   "execution_count": 3,
   "id": "bb6ad8a1",
   "metadata": {
    "execution": {
     "iopub.execute_input": "2022-08-31T00:53:44.394023Z",
     "iopub.status.busy": "2022-08-31T00:53:44.390351Z",
     "iopub.status.idle": "2022-08-31T00:53:46.355934Z",
     "shell.execute_reply": "2022-08-31T00:53:46.355338Z"
    },
    "papermill": {
     "duration": 2.005788,
     "end_time": "2022-08-31T00:53:46.356075",
     "exception": false,
     "start_time": "2022-08-31T00:53:44.350287",
     "status": "completed"
    },
    "tags": []
   },
   "outputs": [
    {
     "name": "stdout",
     "output_type": "stream",
     "text": [
      "Collecting mnist\r\n"
     ]
    },
    {
     "name": "stdout",
     "output_type": "stream",
     "text": [
      "  Downloading mnist-0.2.2-py2.py3-none-any.whl (3.5 kB)\r\n"
     ]
    },
    {
     "name": "stdout",
     "output_type": "stream",
     "text": [
      "Requirement already satisfied: numpy in /opt/hostedtoolcache/Python/3.6.15/x64/lib/python3.6/site-packages (from mnist) (1.19.5)\r\n"
     ]
    },
    {
     "name": "stdout",
     "output_type": "stream",
     "text": [
      "Installing collected packages: mnist\r\n"
     ]
    },
    {
     "name": "stdout",
     "output_type": "stream",
     "text": [
      "Successfully installed mnist-0.2.2\r\n"
     ]
    }
   ],
   "source": [
    "!pip install mnist"
   ]
  },
  {
   "cell_type": "markdown",
   "id": "69df9c9a",
   "metadata": {
    "papermill": {
     "duration": 0.031301,
     "end_time": "2022-08-31T00:53:46.420093",
     "exception": false,
     "start_time": "2022-08-31T00:53:46.388792",
     "status": "completed"
    },
    "tags": []
   },
   "source": [
    "## Preparing the Data"
   ]
  },
  {
   "cell_type": "code",
   "execution_count": 4,
   "id": "7f69d806",
   "metadata": {
    "execution": {
     "iopub.execute_input": "2022-08-31T00:53:46.486227Z",
     "iopub.status.busy": "2022-08-31T00:53:46.485560Z",
     "iopub.status.idle": "2022-08-31T00:53:46.502485Z",
     "shell.execute_reply": "2022-08-31T00:53:46.503181Z"
    },
    "papermill": {
     "duration": 0.052978,
     "end_time": "2022-08-31T00:53:46.503330",
     "exception": false,
     "start_time": "2022-08-31T00:53:46.450352",
     "status": "completed"
    },
    "tags": []
   },
   "outputs": [],
   "source": [
    "import mnist"
   ]
  },
  {
   "cell_type": "code",
   "execution_count": 5,
   "id": "a411e44f",
   "metadata": {
    "execution": {
     "iopub.execute_input": "2022-08-31T00:53:46.571385Z",
     "iopub.status.busy": "2022-08-31T00:53:46.570586Z",
     "iopub.status.idle": "2022-08-31T00:53:47.299444Z",
     "shell.execute_reply": "2022-08-31T00:53:47.298817Z"
    },
    "papermill": {
     "duration": 0.765647,
     "end_time": "2022-08-31T00:53:47.299739",
     "exception": false,
     "start_time": "2022-08-31T00:53:46.534092",
     "status": "completed"
    },
    "tags": []
   },
   "outputs": [],
   "source": [
    "train_images = mnist.train_images()\n",
    "train_labels = mnist.train_labels()"
   ]
  },
  {
   "cell_type": "code",
   "execution_count": 6,
   "id": "dceab3a5",
   "metadata": {
    "execution": {
     "iopub.execute_input": "2022-08-31T00:53:47.370097Z",
     "iopub.status.busy": "2022-08-31T00:53:47.369354Z",
     "iopub.status.idle": "2022-08-31T00:53:47.387436Z",
     "shell.execute_reply": "2022-08-31T00:53:47.388124Z"
    },
    "papermill": {
     "duration": 0.057509,
     "end_time": "2022-08-31T00:53:47.388402",
     "exception": false,
     "start_time": "2022-08-31T00:53:47.330893",
     "status": "completed"
    },
    "tags": []
   },
   "outputs": [
    {
     "data": {
      "text/plain": [
       "((60000, 28, 28), (60000,))"
      ]
     },
     "execution_count": 6,
     "metadata": {},
     "output_type": "execute_result"
    }
   ],
   "source": [
    "train_images.shape, train_labels.shape"
   ]
  },
  {
   "cell_type": "code",
   "execution_count": 7,
   "id": "f50dc2bb",
   "metadata": {
    "execution": {
     "iopub.execute_input": "2022-08-31T00:53:47.459284Z",
     "iopub.status.busy": "2022-08-31T00:53:47.458489Z",
     "iopub.status.idle": "2022-08-31T00:53:47.665736Z",
     "shell.execute_reply": "2022-08-31T00:53:47.666225Z"
    },
    "papermill": {
     "duration": 0.244023,
     "end_time": "2022-08-31T00:53:47.666385",
     "exception": false,
     "start_time": "2022-08-31T00:53:47.422362",
     "status": "completed"
    },
    "tags": []
   },
   "outputs": [],
   "source": [
    "test_images = mnist.test_images()\n",
    "test_labels = mnist.test_labels()"
   ]
  },
  {
   "cell_type": "code",
   "execution_count": 8,
   "id": "fc38cf1b",
   "metadata": {
    "execution": {
     "iopub.execute_input": "2022-08-31T00:53:47.738892Z",
     "iopub.status.busy": "2022-08-31T00:53:47.738175Z",
     "iopub.status.idle": "2022-08-31T00:53:47.753440Z",
     "shell.execute_reply": "2022-08-31T00:53:47.754164Z"
    },
    "papermill": {
     "duration": 0.053607,
     "end_time": "2022-08-31T00:53:47.754311",
     "exception": false,
     "start_time": "2022-08-31T00:53:47.700704",
     "status": "completed"
    },
    "tags": []
   },
   "outputs": [
    {
     "data": {
      "text/plain": [
       "((10000, 28, 28), (10000,))"
      ]
     },
     "execution_count": 8,
     "metadata": {},
     "output_type": "execute_result"
    }
   ],
   "source": [
    "test_images.shape, test_labels.shape"
   ]
  },
  {
   "cell_type": "code",
   "execution_count": 9,
   "id": "f9ed8fe0",
   "metadata": {
    "execution": {
     "iopub.execute_input": "2022-08-31T00:53:47.826675Z",
     "iopub.status.busy": "2022-08-31T00:53:47.825456Z",
     "iopub.status.idle": "2022-08-31T00:53:48.032660Z",
     "shell.execute_reply": "2022-08-31T00:53:48.031702Z"
    },
    "papermill": {
     "duration": 0.245424,
     "end_time": "2022-08-31T00:53:48.032831",
     "exception": false,
     "start_time": "2022-08-31T00:53:47.787407",
     "status": "completed"
    },
    "tags": []
   },
   "outputs": [
    {
     "name": "stdout",
     "output_type": "stream",
     "text": [
      "2\n"
     ]
    },
    {
     "data": {
      "text/plain": [
       "<matplotlib.image.AxesImage at 0x7f3fe19709b0>"
      ]
     },
     "execution_count": 9,
     "metadata": {},
     "output_type": "execute_result"
    },
    {
     "data": {
      "image/png": "[encoded data removed]",
      "text/plain": [
       "<Figure size 432x288 with 1 Axes>"
      ]
     },
     "metadata": {
      "needs_background": "light"
     },
     "output_type": "display_data"
    }
   ],
   "source": [
    "image_index = 7776 # You may select anything up to 60,000\n",
    "print(train_labels[image_index]) \n",
    "plt.imshow(train_images[image_index], cmap='Greys')"
   ]
  },
  {
   "cell_type": "markdown",
   "id": "a8d2388d",
   "metadata": {
    "papermill": {
     "duration": 0.034992,
     "end_time": "2022-08-31T00:53:48.103599",
     "exception": false,
     "start_time": "2022-08-31T00:53:48.068607",
     "status": "completed"
    },
    "tags": []
   },
   "source": [
    "## Filter data to get 3 and 8 out"
   ]
  },
  {
   "cell_type": "code",
   "execution_count": 10,
   "id": "776f7fc7",
   "metadata": {
    "execution": {
     "iopub.execute_input": "2022-08-31T00:53:48.181422Z",
     "iopub.status.busy": "2022-08-31T00:53:48.180514Z",
     "iopub.status.idle": "2022-08-31T00:53:48.202784Z",
     "shell.execute_reply": "2022-08-31T00:53:48.203321Z"
    },
    "papermill": {
     "duration": 0.065223,
     "end_time": "2022-08-31T00:53:48.203476",
     "exception": false,
     "start_time": "2022-08-31T00:53:48.138253",
     "status": "completed"
    },
    "tags": []
   },
   "outputs": [],
   "source": [
    "train_filter = np.where((train_labels == 3 ) | (train_labels == 8))\n",
    "test_filter = np.where((test_labels == 3) | (test_labels == 8))\n",
    "X_train, y_train = train_images[train_filter], train_labels[train_filter]\n",
    "X_test, y_test = test_images[test_filter], test_labels[test_filter]"
   ]
  },
  {
   "cell_type": "markdown",
   "id": "948f0b7e",
   "metadata": {
    "papermill": {
     "duration": 0.037401,
     "end_time": "2022-08-31T00:53:48.274906",
     "exception": false,
     "start_time": "2022-08-31T00:53:48.237505",
     "status": "completed"
    },
    "tags": []
   },
   "source": [
    "We normalize the pizel values in the 0 to 1 range"
   ]
  },
  {
   "cell_type": "code",
   "execution_count": 11,
   "id": "ee4c2166",
   "metadata": {
    "execution": {
     "iopub.execute_input": "2022-08-31T00:53:48.353831Z",
     "iopub.status.busy": "2022-08-31T00:53:48.352994Z",
     "iopub.status.idle": "2022-08-31T00:53:48.421403Z",
     "shell.execute_reply": "2022-08-31T00:53:48.420722Z"
    },
    "papermill": {
     "duration": 0.109098,
     "end_time": "2022-08-31T00:53:48.421558",
     "exception": false,
     "start_time": "2022-08-31T00:53:48.312460",
     "status": "completed"
    },
    "tags": []
   },
   "outputs": [],
   "source": [
    "X_train = X_train/255.\n",
    "X_test = X_test/255."
   ]
  },
  {
   "cell_type": "markdown",
   "id": "ddcf4fab",
   "metadata": {
    "papermill": {
     "duration": 0.03512,
     "end_time": "2022-08-31T00:53:48.492265",
     "exception": false,
     "start_time": "2022-08-31T00:53:48.457145",
     "status": "completed"
    },
    "tags": []
   },
   "source": [
    "And setup the labels as 1 (when the digit is 3) and 0 (when the digit is 8)"
   ]
  },
  {
   "cell_type": "code",
   "execution_count": 12,
   "id": "7dc908f2",
   "metadata": {
    "execution": {
     "iopub.execute_input": "2022-08-31T00:53:48.568494Z",
     "iopub.status.busy": "2022-08-31T00:53:48.567689Z",
     "iopub.status.idle": "2022-08-31T00:53:48.583240Z",
     "shell.execute_reply": "2022-08-31T00:53:48.582631Z"
    },
    "papermill": {
     "duration": 0.055733,
     "end_time": "2022-08-31T00:53:48.583386",
     "exception": false,
     "start_time": "2022-08-31T00:53:48.527653",
     "status": "completed"
    },
    "tags": []
   },
   "outputs": [],
   "source": [
    "y_train = 1*(y_train==3)\n",
    "y_test = 1*(y_test==3)"
   ]
  },
  {
   "cell_type": "code",
   "execution_count": 13,
   "id": "01e4e969",
   "metadata": {
    "execution": {
     "iopub.execute_input": "2022-08-31T00:53:48.664855Z",
     "iopub.status.busy": "2022-08-31T00:53:48.664110Z",
     "iopub.status.idle": "2022-08-31T00:53:48.679397Z",
     "shell.execute_reply": "2022-08-31T00:53:48.680063Z"
    },
    "papermill": {
     "duration": 0.060949,
     "end_time": "2022-08-31T00:53:48.680304",
     "exception": false,
     "start_time": "2022-08-31T00:53:48.619355",
     "status": "completed"
    },
    "tags": []
   },
   "outputs": [
    {
     "data": {
      "text/plain": [
       "((11982, 28, 28), (1984, 28, 28))"
      ]
     },
     "execution_count": 13,
     "metadata": {},
     "output_type": "execute_result"
    }
   ],
   "source": [
    "X_train.shape, X_test.shape"
   ]
  },
  {
   "cell_type": "markdown",
   "id": "5ccf3f85",
   "metadata": {
    "papermill": {
     "duration": 0.039066,
     "end_time": "2022-08-31T00:53:48.753770",
     "exception": false,
     "start_time": "2022-08-31T00:53:48.714704",
     "status": "completed"
    },
    "tags": []
   },
   "source": [
    "We reshape the data to flatten the image pixels into a set of features or co-variates:"
   ]
  },
  {
   "cell_type": "code",
   "execution_count": 14,
   "id": "5286a4a3",
   "metadata": {
    "execution": {
     "iopub.execute_input": "2022-08-31T00:53:48.834958Z",
     "iopub.status.busy": "2022-08-31T00:53:48.834186Z",
     "iopub.status.idle": "2022-08-31T00:53:48.852238Z",
     "shell.execute_reply": "2022-08-31T00:53:48.851561Z"
    },
    "papermill": {
     "duration": 0.061037,
     "end_time": "2022-08-31T00:53:48.852462",
     "exception": false,
     "start_time": "2022-08-31T00:53:48.791425",
     "status": "completed"
    },
    "tags": []
   },
   "outputs": [
    {
     "data": {
      "text/plain": [
       "((11982, 784), (1984, 784))"
      ]
     },
     "execution_count": 14,
     "metadata": {},
     "output_type": "execute_result"
    }
   ],
   "source": [
    "X_train = X_train.reshape(X_train.shape[0], -1)\n",
    "X_test = X_test.reshape(X_test.shape[0], -1)\n",
    "X_train.shape, X_test.shape"
   ]
  },
  {
   "cell_type": "code",
   "execution_count": 15,
   "id": "73c5f88a",
   "metadata": {
    "execution": {
     "iopub.execute_input": "2022-08-31T00:53:48.933872Z",
     "iopub.status.busy": "2022-08-31T00:53:48.932993Z",
     "iopub.status.idle": "2022-08-31T00:53:48.957752Z",
     "shell.execute_reply": "2022-08-31T00:53:48.957102Z"
    },
    "papermill": {
     "duration": 0.068507,
     "end_time": "2022-08-31T00:53:48.957890",
     "exception": false,
     "start_time": "2022-08-31T00:53:48.889383",
     "status": "completed"
    },
    "tags": []
   },
   "outputs": [],
   "source": [
    "#Impoting functions from 'Kudzu'\n",
    "from kudzu.model import Model\n",
    "from kudzu.train import Learner\n",
    "from kudzu.optim import GD\n",
    "from kudzu.data import Data, Sampler,Dataloader\n",
    "\n",
    "from kudzu.callbacks import AccCallback\n",
    "from kudzu.callbacks import ClfCallback\n",
    "\n",
    "from kudzu.loss import MSE\n",
    "\n",
    "from kudzu.layer import Sigmoid,Relu\n",
    "from kudzu.layer import Affine"
   ]
  },
  {
   "cell_type": "markdown",
   "id": "bc01172a",
   "metadata": {
    "papermill": {
     "duration": 0.037631,
     "end_time": "2022-08-31T00:53:49.037590",
     "exception": false,
     "start_time": "2022-08-31T00:53:48.999959",
     "status": "completed"
    },
    "tags": []
   },
   "source": [
    "### Let us create a `Config` class, to store important parameters. \n",
    "This class essentially plays the role of a dictionary."
   ]
  },
  {
   "cell_type": "code",
   "execution_count": 16,
   "id": "978281aa",
   "metadata": {
    "execution": {
     "iopub.execute_input": "2022-08-31T00:53:49.120385Z",
     "iopub.status.busy": "2022-08-31T00:53:49.119515Z",
     "iopub.status.idle": "2022-08-31T00:53:49.135635Z",
     "shell.execute_reply": "2022-08-31T00:53:49.135013Z"
    },
    "papermill": {
     "duration": 0.057141,
     "end_time": "2022-08-31T00:53:49.135774",
     "exception": false,
     "start_time": "2022-08-31T00:53:49.078633",
     "status": "completed"
    },
    "tags": []
   },
   "outputs": [],
   "source": [
    "class Config:\n",
    "    pass\n",
    "config = Config()\n",
    "config.lr = 0.001\n",
    "config.num_epochs = 250\n",
    "config.bs = 50"
   ]
  },
  {
   "cell_type": "markdown",
   "id": "1385fa59",
   "metadata": {
    "papermill": {
     "duration": 0.035263,
     "end_time": "2022-08-31T00:53:49.207981",
     "exception": false,
     "start_time": "2022-08-31T00:53:49.172718",
     "status": "completed"
    },
    "tags": []
   },
   "source": [
    "### Running Models with the Training data\n",
    "Details about the network layers:\n",
    "- A first affine layer has 784 inputs and does 100 affine transforms. These are followed by a Relu\n",
    "- A second affine layer has 100 inputs from the 100 activations of the past layer, and does 100 affine transforms. These are followed by a Relu\n",
    "- A third affine layer has 100 activations and does 2 affine transformations to create an embedding for visualization. There is no non-linearity here.\n",
    "- A final \"logistic regression\" which has an affine transform from 2 inputs to 1 output, which is squeezed through a sigmoid.\n"
   ]
  },
  {
   "cell_type": "code",
   "execution_count": 17,
   "id": "2b9c66db",
   "metadata": {
    "execution": {
     "iopub.execute_input": "2022-08-31T00:53:49.286017Z",
     "iopub.status.busy": "2022-08-31T00:53:49.285303Z",
     "iopub.status.idle": "2022-08-31T00:53:49.300973Z",
     "shell.execute_reply": "2022-08-31T00:53:49.300379Z"
    },
    "papermill": {
     "duration": 0.056935,
     "end_time": "2022-08-31T00:53:49.301155",
     "exception": false,
     "start_time": "2022-08-31T00:53:49.244220",
     "status": "completed"
    },
    "tags": []
   },
   "outputs": [],
   "source": [
    "data = Data(X_train, y_train.reshape(-1,1))\n",
    "sampler = Sampler(data, config.bs, shuffle=True)\n",
    "\n",
    "dl = Dataloader(data, sampler)\n",
    "\n",
    "opt = GD(config.lr)\n",
    "loss = MSE()"
   ]
  },
  {
   "cell_type": "code",
   "execution_count": 18,
   "id": "b275e4c2",
   "metadata": {
    "execution": {
     "iopub.execute_input": "2022-08-31T00:53:49.382908Z",
     "iopub.status.busy": "2022-08-31T00:53:49.382138Z",
     "iopub.status.idle": "2022-08-31T00:53:49.395344Z",
     "shell.execute_reply": "2022-08-31T00:53:49.395970Z"
    },
    "papermill": {
     "duration": 0.059728,
     "end_time": "2022-08-31T00:53:49.396128",
     "exception": false,
     "start_time": "2022-08-31T00:53:49.336400",
     "status": "completed"
    },
    "tags": []
   },
   "outputs": [],
   "source": [
    "training_data_x = X_train\n",
    "testing_data_x = X_test\n",
    "training_data_y = y_train.reshape(-1,1)\n",
    "testing_data_y = y_test.reshape(-1,1)"
   ]
  },
  {
   "cell_type": "code",
   "execution_count": 19,
   "id": "76951160",
   "metadata": {
    "execution": {
     "iopub.execute_input": "2022-08-31T00:53:49.472698Z",
     "iopub.status.busy": "2022-08-31T00:53:49.472016Z",
     "iopub.status.idle": "2022-08-31T00:53:49.491768Z",
     "shell.execute_reply": "2022-08-31T00:53:49.491211Z"
    },
    "papermill": {
     "duration": 0.060547,
     "end_time": "2022-08-31T00:53:49.491936",
     "exception": false,
     "start_time": "2022-08-31T00:53:49.431389",
     "status": "completed"
    },
    "tags": []
   },
   "outputs": [
    {
     "name": "stdout",
     "output_type": "stream",
     "text": [
      "xavier\n",
      "xavier\n",
      "xavier\n",
      "xavier\n",
      "xavier\n"
     ]
    }
   ],
   "source": [
    "layers = [Affine(\"first\", 784, 100), Relu(\"first\"), Affine(\"second\", 100, 100), Relu(\"second\"), Affine(\"third\", 100, 2), Affine(\"last\", 2, 1), Sigmoid(\"last\")]\n",
    "model_nn = Model(layers)\n",
    "model_lr = Model([Affine(\"logits\", 784, 1), Sigmoid(\"sigmoid\")])"
   ]
  },
  {
   "cell_type": "code",
   "execution_count": 20,
   "id": "6eede77a",
   "metadata": {
    "execution": {
     "iopub.execute_input": "2022-08-31T00:53:49.572303Z",
     "iopub.status.busy": "2022-08-31T00:53:49.571532Z",
     "iopub.status.idle": "2022-08-31T00:53:49.585604Z",
     "shell.execute_reply": "2022-08-31T00:53:49.584899Z"
    },
    "papermill": {
     "duration": 0.058222,
     "end_time": "2022-08-31T00:53:49.585747",
     "exception": false,
     "start_time": "2022-08-31T00:53:49.527525",
     "status": "completed"
    },
    "tags": []
   },
   "outputs": [],
   "source": [
    "nn_learner = Learner(loss, model_nn, opt, config.num_epochs)\n",
    "acc_nn = ClfCallback(nn_learner, config.bs, training_data_x , testing_data_x, training_data_y, testing_data_y)\n",
    "nn_learner.set_callbacks([acc_nn])"
   ]
  },
  {
   "cell_type": "code",
   "execution_count": 21,
   "id": "877b6cc7",
   "metadata": {
    "execution": {
     "iopub.execute_input": "2022-08-31T00:53:49.668740Z",
     "iopub.status.busy": "2022-08-31T00:53:49.667981Z",
     "iopub.status.idle": "2022-08-31T00:53:49.682055Z",
     "shell.execute_reply": "2022-08-31T00:53:49.681264Z"
    },
    "papermill": {
     "duration": 0.058025,
     "end_time": "2022-08-31T00:53:49.682193",
     "exception": false,
     "start_time": "2022-08-31T00:53:49.624168",
     "status": "completed"
    },
    "tags": []
   },
   "outputs": [],
   "source": [
    "lr_learner = Learner(loss, model_lr, opt, config.num_epochs)\n",
    "acc_lr = ClfCallback(lr_learner, config.bs, training_data_x , testing_data_x, training_data_y, testing_data_y)\n",
    "lr_learner.set_callbacks([acc_lr])"
   ]
  },
  {
   "cell_type": "code",
   "execution_count": 22,
   "id": "d9b133c3",
   "metadata": {
    "execution": {
     "iopub.execute_input": "2022-08-31T00:53:49.763583Z",
     "iopub.status.busy": "2022-08-31T00:53:49.762857Z",
     "iopub.status.idle": "2022-08-31T00:56:15.466829Z",
     "shell.execute_reply": "2022-08-31T00:56:15.467525Z"
    },
    "papermill": {
     "duration": 145.747819,
     "end_time": "2022-08-31T00:56:15.467702",
     "exception": false,
     "start_time": "2022-08-31T00:53:49.719883",
     "status": "completed"
    },
    "tags": []
   },
   "outputs": [
    {
     "name": "stdout",
     "output_type": "stream",
     "text": [
      "Epoch 0, Loss 0.2458\n",
      "Training Accuracy: 0.5575, Testing Accuracy: 0.5625\n",
      "\n"
     ]
    },
    {
     "name": "stdout",
     "output_type": "stream",
     "text": [
      "Epoch 10, Loss 0.1501\n",
      "Training Accuracy: 0.8870, Testing Accuracy: 0.8957\n",
      "\n"
     ]
    },
    {
     "name": "stdout",
     "output_type": "stream",
     "text": [
      "Epoch 20, Loss 0.0779\n",
      "Training Accuracy: 0.9261, Testing Accuracy: 0.9325\n",
      "\n"
     ]
    },
    {
     "name": "stdout",
     "output_type": "stream",
     "text": [
      "Epoch 30, Loss 0.0542\n",
      "Training Accuracy: 0.9445, Testing Accuracy: 0.9521\n",
      "\n"
     ]
    },
    {
     "name": "stdout",
     "output_type": "stream",
     "text": [
      "Epoch 40, Loss 0.0441\n",
      "Training Accuracy: 0.9523, Testing Accuracy: 0.9597\n",
      "\n"
     ]
    },
    {
     "name": "stdout",
     "output_type": "stream",
     "text": [
      "Epoch 50, Loss 0.0386\n",
      "Training Accuracy: 0.9570, Testing Accuracy: 0.9637\n",
      "\n"
     ]
    },
    {
     "name": "stdout",
     "output_type": "stream",
     "text": [
      "Epoch 60, Loss 0.035\n",
      "Training Accuracy: 0.9595, Testing Accuracy: 0.9667\n",
      "\n"
     ]
    },
    {
     "name": "stdout",
     "output_type": "stream",
     "text": [
      "Epoch 70, Loss 0.0325\n",
      "Training Accuracy: 0.9618, Testing Accuracy: 0.9662\n",
      "\n"
     ]
    },
    {
     "name": "stdout",
     "output_type": "stream",
     "text": [
      "Epoch 80, Loss 0.0306\n",
      "Training Accuracy: 0.9636, Testing Accuracy: 0.9677\n",
      "\n"
     ]
    },
    {
     "name": "stdout",
     "output_type": "stream",
     "text": [
      "Epoch 90, Loss 0.029\n",
      "Training Accuracy: 0.9656, Testing Accuracy: 0.9682\n",
      "\n"
     ]
    },
    {
     "name": "stdout",
     "output_type": "stream",
     "text": [
      "Epoch 100, Loss 0.0278\n",
      "Training Accuracy: 0.9669, Testing Accuracy: 0.9708\n",
      "\n"
     ]
    },
    {
     "name": "stdout",
     "output_type": "stream",
     "text": [
      "Epoch 110, Loss 0.0266\n",
      "Training Accuracy: 0.9685, Testing Accuracy: 0.9723\n",
      "\n"
     ]
    },
    {
     "name": "stdout",
     "output_type": "stream",
     "text": [
      "Epoch 120, Loss 0.0257\n",
      "Training Accuracy: 0.9693, Testing Accuracy: 0.9723\n",
      "\n"
     ]
    },
    {
     "name": "stdout",
     "output_type": "stream",
     "text": [
      "Epoch 130, Loss 0.0248\n",
      "Training Accuracy: 0.9714, Testing Accuracy: 0.9728\n",
      "\n"
     ]
    },
    {
     "name": "stdout",
     "output_type": "stream",
     "text": [
      "Epoch 140, Loss 0.024\n",
      "Training Accuracy: 0.9723, Testing Accuracy: 0.9728\n",
      "\n"
     ]
    },
    {
     "name": "stdout",
     "output_type": "stream",
     "text": [
      "Epoch 150, Loss 0.0233\n",
      "Training Accuracy: 0.9735, Testing Accuracy: 0.9738\n",
      "\n"
     ]
    },
    {
     "name": "stdout",
     "output_type": "stream",
     "text": [
      "Epoch 160, Loss 0.0226\n",
      "Training Accuracy: 0.9748, Testing Accuracy: 0.9733\n",
      "\n"
     ]
    },
    {
     "name": "stdout",
     "output_type": "stream",
     "text": [
      "Epoch 170, Loss 0.022\n",
      "Training Accuracy: 0.9753, Testing Accuracy: 0.9733\n",
      "\n"
     ]
    },
    {
     "name": "stdout",
     "output_type": "stream",
     "text": [
      "Epoch 180, Loss 0.0214\n",
      "Training Accuracy: 0.9759, Testing Accuracy: 0.9738\n",
      "\n"
     ]
    },
    {
     "name": "stdout",
     "output_type": "stream",
     "text": [
      "Epoch 190, Loss 0.0209\n",
      "Training Accuracy: 0.9764, Testing Accuracy: 0.9738\n",
      "\n"
     ]
    },
    {
     "name": "stdout",
     "output_type": "stream",
     "text": [
      "Epoch 200, Loss 0.0204\n",
      "Training Accuracy: 0.9769, Testing Accuracy: 0.9738\n",
      "\n"
     ]
    },
    {
     "name": "stdout",
     "output_type": "stream",
     "text": [
      "Epoch 210, Loss 0.0199\n",
      "Training Accuracy: 0.9774, Testing Accuracy: 0.9748\n",
      "\n"
     ]
    },
    {
     "name": "stdout",
     "output_type": "stream",
     "text": [
      "Epoch 220, Loss 0.0195\n",
      "Training Accuracy: 0.9780, Testing Accuracy: 0.9753\n",
      "\n"
     ]
    },
    {
     "name": "stdout",
     "output_type": "stream",
     "text": [
      "Epoch 230, Loss 0.019\n",
      "Training Accuracy: 0.9788, Testing Accuracy: 0.9753\n",
      "\n"
     ]
    },
    {
     "name": "stdout",
     "output_type": "stream",
     "text": [
      "Epoch 240, Loss 0.0186\n",
      "Training Accuracy: 0.9796, Testing Accuracy: 0.9753\n",
      "\n"
     ]
    },
    {
     "data": {
      "text/plain": [
       "0.012606043744678086"
      ]
     },
     "execution_count": 22,
     "metadata": {},
     "output_type": "execute_result"
    }
   ],
   "source": [
    "nn_learner.train_loop(dl)"
   ]
  },
  {
   "cell_type": "code",
   "execution_count": 23,
   "id": "e0163366",
   "metadata": {
    "execution": {
     "iopub.execute_input": "2022-08-31T00:56:15.571132Z",
     "iopub.status.busy": "2022-08-31T00:56:15.570380Z",
     "iopub.status.idle": "2022-08-31T00:56:36.425626Z",
     "shell.execute_reply": "2022-08-31T00:56:36.426597Z"
    },
    "papermill": {
     "duration": 20.913142,
     "end_time": "2022-08-31T00:56:36.426764",
     "exception": false,
     "start_time": "2022-08-31T00:56:15.513622",
     "status": "completed"
    },
    "tags": []
   },
   "outputs": [
    {
     "name": "stdout",
     "output_type": "stream",
     "text": [
      "Epoch 0, Loss 0.2841\n",
      "Training Accuracy: 0.5043, Testing Accuracy: 0.4698\n",
      "\n"
     ]
    },
    {
     "name": "stdout",
     "output_type": "stream",
     "text": [
      "Epoch 10, Loss 0.108\n",
      "Training Accuracy: 0.9049, Testing Accuracy: 0.9113\n",
      "\n"
     ]
    },
    {
     "name": "stdout",
     "output_type": "stream",
     "text": [
      "Epoch 20, Loss 0.0809\n",
      "Training Accuracy: 0.9275, Testing Accuracy: 0.9360\n",
      "\n"
     ]
    },
    {
     "name": "stdout",
     "output_type": "stream",
     "text": [
      "Epoch 30, Loss 0.0689\n",
      "Training Accuracy: 0.9365, Testing Accuracy: 0.9496\n",
      "\n"
     ]
    },
    {
     "name": "stdout",
     "output_type": "stream",
     "text": [
      "Epoch 40, Loss 0.0618\n",
      "Training Accuracy: 0.9427, Testing Accuracy: 0.9516\n",
      "\n"
     ]
    },
    {
     "name": "stdout",
     "output_type": "stream",
     "text": [
      "Epoch 50, Loss 0.0571\n",
      "Training Accuracy: 0.9460, Testing Accuracy: 0.9567\n",
      "\n"
     ]
    },
    {
     "name": "stdout",
     "output_type": "stream",
     "text": [
      "Epoch 60, Loss 0.0536\n",
      "Training Accuracy: 0.9479, Testing Accuracy: 0.9602\n",
      "\n"
     ]
    },
    {
     "name": "stdout",
     "output_type": "stream",
     "text": [
      "Epoch 70, Loss 0.051\n",
      "Training Accuracy: 0.9501, Testing Accuracy: 0.9612\n",
      "\n"
     ]
    },
    {
     "name": "stdout",
     "output_type": "stream",
     "text": [
      "Epoch 80, Loss 0.0489\n",
      "Training Accuracy: 0.9521, Testing Accuracy: 0.9637\n",
      "\n"
     ]
    },
    {
     "name": "stdout",
     "output_type": "stream",
     "text": [
      "Epoch 90, Loss 0.0472\n",
      "Training Accuracy: 0.9536, Testing Accuracy: 0.9642\n",
      "\n"
     ]
    },
    {
     "name": "stdout",
     "output_type": "stream",
     "text": [
      "Epoch 100, Loss 0.0458\n",
      "Training Accuracy: 0.9549, Testing Accuracy: 0.9652\n",
      "\n"
     ]
    },
    {
     "name": "stdout",
     "output_type": "stream",
     "text": [
      "Epoch 110, Loss 0.0446\n",
      "Training Accuracy: 0.9554, Testing Accuracy: 0.9667\n",
      "\n"
     ]
    },
    {
     "name": "stdout",
     "output_type": "stream",
     "text": [
      "Epoch 120, Loss 0.0435\n",
      "Training Accuracy: 0.9565, Testing Accuracy: 0.9672\n",
      "\n"
     ]
    },
    {
     "name": "stdout",
     "output_type": "stream",
     "text": [
      "Epoch 130, Loss 0.0426\n",
      "Training Accuracy: 0.9574, Testing Accuracy: 0.9677\n",
      "\n"
     ]
    },
    {
     "name": "stdout",
     "output_type": "stream",
     "text": [
      "Epoch 140, Loss 0.0418\n",
      "Training Accuracy: 0.9576, Testing Accuracy: 0.9677\n",
      "\n"
     ]
    },
    {
     "name": "stdout",
     "output_type": "stream",
     "text": [
      "Epoch 150, Loss 0.041\n",
      "Training Accuracy: 0.9585, Testing Accuracy: 0.9682\n",
      "\n"
     ]
    },
    {
     "name": "stdout",
     "output_type": "stream",
     "text": [
      "Epoch 160, Loss 0.0404\n",
      "Training Accuracy: 0.9589, Testing Accuracy: 0.9682\n",
      "\n"
     ]
    },
    {
     "name": "stdout",
     "output_type": "stream",
     "text": [
      "Epoch 170, Loss 0.0397\n",
      "Training Accuracy: 0.9594, Testing Accuracy: 0.9682\n",
      "\n"
     ]
    },
    {
     "name": "stdout",
     "output_type": "stream",
     "text": [
      "Epoch 180, Loss 0.0392\n",
      "Training Accuracy: 0.9599, Testing Accuracy: 0.9682\n",
      "\n"
     ]
    },
    {
     "name": "stdout",
     "output_type": "stream",
     "text": [
      "Epoch 190, Loss 0.0387\n",
      "Training Accuracy: 0.9605, Testing Accuracy: 0.9682\n",
      "\n"
     ]
    },
    {
     "name": "stdout",
     "output_type": "stream",
     "text": [
      "Epoch 200, Loss 0.0382\n",
      "Training Accuracy: 0.9609, Testing Accuracy: 0.9682\n",
      "\n"
     ]
    },
    {
     "name": "stdout",
     "output_type": "stream",
     "text": [
      "Epoch 210, Loss 0.0378\n",
      "Training Accuracy: 0.9614, Testing Accuracy: 0.9677\n",
      "\n"
     ]
    },
    {
     "name": "stdout",
     "output_type": "stream",
     "text": [
      "Epoch 220, Loss 0.0374\n",
      "Training Accuracy: 0.9618, Testing Accuracy: 0.9672\n",
      "\n"
     ]
    },
    {
     "name": "stdout",
     "output_type": "stream",
     "text": [
      "Epoch 230, Loss 0.037\n",
      "Training Accuracy: 0.9621, Testing Accuracy: 0.9672\n",
      "\n"
     ]
    },
    {
     "name": "stdout",
     "output_type": "stream",
     "text": [
      "Epoch 240, Loss 0.0366\n",
      "Training Accuracy: 0.9623, Testing Accuracy: 0.9677\n",
      "\n"
     ]
    },
    {
     "data": {
      "text/plain": [
       "0.06095316593207505"
      ]
     },
     "execution_count": 23,
     "metadata": {},
     "output_type": "execute_result"
    }
   ],
   "source": [
    "lr_learner.train_loop(dl)"
   ]
  },
  {
   "cell_type": "code",
   "execution_count": 24,
   "id": "ca410940",
   "metadata": {
    "execution": {
     "iopub.execute_input": "2022-08-31T00:56:36.542305Z",
     "iopub.status.busy": "2022-08-31T00:56:36.541499Z",
     "iopub.status.idle": "2022-08-31T00:56:36.856575Z",
     "shell.execute_reply": "2022-08-31T00:56:36.857171Z"
    },
    "papermill": {
     "duration": 0.376419,
     "end_time": "2022-08-31T00:56:36.857354",
     "exception": false,
     "start_time": "2022-08-31T00:56:36.480935",
     "status": "completed"
    },
    "tags": []
   },
   "outputs": [
    {
     "data": {
      "text/plain": [
       "<matplotlib.legend.Legend at 0x7f3fe14d0dd8>"
      ]
     },
     "execution_count": 24,
     "metadata": {},
     "output_type": "execute_result"
    },
    {
     "data": {
      "image/png": "[encoded data removed]",
      "text/plain": [
       "<Figure size 1080x720 with 1 Axes>"
      ]
     },
     "metadata": {
      "needs_background": "light"
     },
     "output_type": "display_data"
    }
   ],
   "source": [
    "#comparing the results of NN and LR\n",
    "plt.figure(figsize=(15,10))\n",
    "\n",
    "# Neural Network plots\n",
    "plt.plot(acc_nn.accuracies, 'r-', label = \"Training Accuracies - NN\")\n",
    "plt.plot(acc_nn.test_accuracies, 'g-', label = \"Testing Accuracies - NN\")\n",
    "\n",
    "# Logistic Regression plots\n",
    "plt.plot(acc_lr.accuracies, 'k-', label = \"Training Accuracies - LR\")\n",
    "plt.plot(acc_lr.test_accuracies, 'b-', label = \"Testing Accuracies - LR\")\n",
    "plt.legend()"
   ]
  },
  {
   "cell_type": "markdown",
   "id": "80dfb35c",
   "metadata": {
    "papermill": {
     "duration": 0.055538,
     "end_time": "2022-08-31T00:56:36.968212",
     "exception": false,
     "start_time": "2022-08-31T00:56:36.912674",
     "status": "completed"
    },
    "tags": []
   },
   "source": [
    "#### Plotting the outputs of this layer of the NN.\n"
   ]
  },
  {
   "cell_type": "code",
   "execution_count": 25,
   "id": "45eb2ff5",
   "metadata": {
    "execution": {
     "iopub.execute_input": "2022-08-31T00:56:37.085429Z",
     "iopub.status.busy": "2022-08-31T00:56:37.084063Z",
     "iopub.status.idle": "2022-08-31T00:56:37.112690Z",
     "shell.execute_reply": "2022-08-31T00:56:37.113358Z"
    },
    "papermill": {
     "duration": 0.092777,
     "end_time": "2022-08-31T00:56:37.113523",
     "exception": false,
     "start_time": "2022-08-31T00:56:37.020746",
     "status": "completed"
    },
    "tags": []
   },
   "outputs": [],
   "source": [
    "new_model = Model(layers[:-2])\n",
    "testing_plot = new_model(testing_data_x)"
   ]
  },
  {
   "cell_type": "code",
   "execution_count": 26,
   "id": "4c0a5485",
   "metadata": {
    "execution": {
     "iopub.execute_input": "2022-08-31T00:56:37.241858Z",
     "iopub.status.busy": "2022-08-31T00:56:37.241057Z",
     "iopub.status.idle": "2022-08-31T00:56:37.552915Z",
     "shell.execute_reply": "2022-08-31T00:56:37.553658Z"
    },
    "papermill": {
     "duration": 0.376406,
     "end_time": "2022-08-31T00:56:37.553816",
     "exception": false,
     "start_time": "2022-08-31T00:56:37.177410",
     "status": "completed"
    },
    "tags": []
   },
   "outputs": [
    {
     "data": {
      "text/plain": [
       "Text(0.5, 1.0, 'Outputs')"
      ]
     },
     "execution_count": 26,
     "metadata": {},
     "output_type": "execute_result"
    },
    {
     "data": {
      "image/png": "[encoded data removed]",
      "text/plain": [
       "<Figure size 576x504 with 1 Axes>"
      ]
     },
     "metadata": {
      "needs_background": "light"
     },
     "output_type": "display_data"
    }
   ],
   "source": [
    "# Plotting the scatter plot of points and color coding by class\n",
    "plt.figure(figsize=(8,7))\n",
    "plt.scatter(testing_plot[:,0], testing_plot[:,1], alpha = 0.1, c = y_test.ravel());\n",
    "plt.title('Outputs')"
   ]
  },
  {
   "cell_type": "markdown",
   "id": "a74fcf8f",
   "metadata": {
    "papermill": {
     "duration": 0.081817,
     "end_time": "2022-08-31T00:56:37.690283",
     "exception": false,
     "start_time": "2022-08-31T00:56:37.608466",
     "status": "completed"
    },
    "tags": []
   },
   "source": [
    "Probability contours"
   ]
  },
  {
   "cell_type": "code",
   "execution_count": 27,
   "id": "d0afc8e3",
   "metadata": {
    "execution": {
     "iopub.execute_input": "2022-08-31T00:56:37.809862Z",
     "iopub.status.busy": "2022-08-31T00:56:37.808698Z",
     "iopub.status.idle": "2022-08-31T00:56:37.826243Z",
     "shell.execute_reply": "2022-08-31T00:56:37.825694Z"
    },
    "papermill": {
     "duration": 0.07886,
     "end_time": "2022-08-31T00:56:37.826371",
     "exception": false,
     "start_time": "2022-08-31T00:56:37.747511",
     "status": "completed"
    },
    "tags": []
   },
   "outputs": [],
   "source": [
    "model_prob = Model(layers[-2:]) "
   ]
  },
  {
   "cell_type": "code",
   "execution_count": 28,
   "id": "9b96e238",
   "metadata": {
    "execution": {
     "iopub.execute_input": "2022-08-31T00:56:37.955398Z",
     "iopub.status.busy": "2022-08-31T00:56:37.954660Z",
     "iopub.status.idle": "2022-08-31T00:56:37.973103Z",
     "shell.execute_reply": "2022-08-31T00:56:37.973700Z"
    },
    "papermill": {
     "duration": 0.089818,
     "end_time": "2022-08-31T00:56:37.973897",
     "exception": false,
     "start_time": "2022-08-31T00:56:37.884079",
     "status": "completed"
    },
    "tags": []
   },
   "outputs": [],
   "source": [
    "#creating the x and y ranges according to the above generated plot.\n",
    "x_range = np.linspace(-4, 1, 100) \n",
    "y_range = np.linspace(-6, 6, 100) \n",
    "x_grid, y_grid = np.meshgrid(x_range, y_range) # x_grid and y_grig are of size 100 X 100\n",
    "\n",
    "# converting x_grid and y_grid to continuous arrays\n",
    "x_gridflat = np.ravel(x_grid)\n",
    "y_gridflat = np.ravel(y_grid)\n",
    "\n",
    "# The last layer of the current model takes two columns as input. Hence transpose of np.vstack() is required.\n",
    "X = np.vstack((x_gridflat, y_gridflat)).T\n",
    "\n",
    "prob_contour = model_prob(X).reshape(100,100) "
   ]
  },
  {
   "cell_type": "code",
   "execution_count": 29,
   "id": "da72499a",
   "metadata": {
    "execution": {
     "iopub.execute_input": "2022-08-31T00:56:38.099320Z",
     "iopub.status.busy": "2022-08-31T00:56:38.098500Z",
     "iopub.status.idle": "2022-08-31T00:56:38.435007Z",
     "shell.execute_reply": "2022-08-31T00:56:38.434324Z"
    },
    "papermill": {
     "duration": 0.402237,
     "end_time": "2022-08-31T00:56:38.435191",
     "exception": false,
     "start_time": "2022-08-31T00:56:38.032954",
     "status": "completed"
    },
    "tags": []
   },
   "outputs": [
    {
     "data": {
      "image/png": "[encoded data removed]",
      "text/plain": [
       "<Figure size 720x648 with 1 Axes>"
      ]
     },
     "metadata": {
      "needs_background": "light"
     },
     "output_type": "display_data"
    }
   ],
   "source": [
    "plt.figure(figsize=(10,9))\n",
    "plt.scatter(testing_plot[:,0], testing_plot[:,1], alpha = 0.1, c = y_test.ravel())\n",
    "contours = plt.contour(x_grid,y_grid,prob_contour)\n",
    "plt.title('Probability Contours')\n",
    "plt.clabel(contours, inline = True );"
   ]
  },
  {
   "cell_type": "code",
   "execution_count": null,
   "id": "e81b4ac7",
   "metadata": {
    "papermill": {
     "duration": 0.062962,
     "end_time": "2022-08-31T00:56:38.561114",
     "exception": false,
     "start_time": "2022-08-31T00:56:38.498152",
     "status": "completed"
    },
    "tags": []
   },
   "outputs": [],
   "source": []
  }
 ],
 "metadata": {
  "kernelspec": {
   "display_name": "Python 3",
   "language": "python",
   "name": "python3"
  },
  "language_info": {
   "codemirror_mode": {
    "name": "ipython",
    "version": 3
   },
   "file_extension": ".py",
   "mimetype": "text/x-python",
   "name": "python",
   "nbconvert_exporter": "python",
   "pygments_lexer": "ipython3",
   "version": "3.6.15"
  },
  "papermill": {
   "default_parameters": {},
   "duration": 177.056385,
   "end_time": "2022-08-31T00:56:39.044020",
   "environment_variables": {},
   "exception": null,
   "input_path": "2020-08-11-part2.ipynb",
   "output_path": "2020-08-11-part2.ipynb",
   "parameters": {},
   "start_time": "2022-08-31T00:53:41.987635",
   "version": "2.3.3"
  }
 },
 "nbformat": 4,
 "nbformat_minor": 5
}