{
 "cells": [
  {
   "cell_type": "markdown",
   "id": "98380cd3",
   "metadata": {
    "papermill": {
     "duration": 0.02977,
     "end_time": "2022-09-09T10:11:29.610102",
     "exception": false,
     "start_time": "2022-09-09T10:11:29.580332",
     "status": "completed"
    },
    "tags": []
   },
   "source": [
    "# Distinguish Your Own Digits (DYOD)"
   ]
  },
  {
   "cell_type": "markdown",
   "id": "ef31240d",
   "metadata": {
    "papermill": {
     "duration": 0.024606,
     "end_time": "2022-09-09T10:11:29.659249",
     "exception": false,
     "start_time": "2022-09-09T10:11:29.634643",
     "status": "completed"
    },
    "tags": []
   },
   "source": [
    "You are going to write a classifier that distinguishes between the number 3 and number 8."
   ]
  },
  {
   "cell_type": "code",
   "execution_count": 1,
   "id": "b15c8646",
   "metadata": {
    "execution": {
     "iopub.execute_input": "2022-09-09T10:11:29.727848Z",
     "iopub.status.busy": "2022-09-09T10:11:29.717114Z",
     "iopub.status.idle": "2022-09-09T10:11:29.732565Z",
     "shell.execute_reply": "2022-09-09T10:11:29.732038Z"
    },
    "papermill": {
     "duration": 0.049656,
     "end_time": "2022-09-09T10:11:29.732690",
     "exception": false,
     "start_time": "2022-09-09T10:11:29.683034",
     "status": "completed"
    },
    "tags": []
   },
   "outputs": [],
   "source": [
    "%load_ext autoreload\n",
    "%autoreload 2"
   ]
  },
  {
   "cell_type": "code",
   "execution_count": 2,
   "id": "22ef38dc",
   "metadata": {
    "execution": {
     "iopub.execute_input": "2022-09-09T10:11:29.792636Z",
     "iopub.status.busy": "2022-09-09T10:11:29.784405Z",
     "iopub.status.idle": "2022-09-09T10:11:30.316350Z",
     "shell.execute_reply": "2022-09-09T10:11:30.316825Z"
    },
    "papermill": {
     "duration": 0.560324,
     "end_time": "2022-09-09T10:11:30.316976",
     "exception": false,
     "start_time": "2022-09-09T10:11:29.756652",
     "status": "completed"
    },
    "tags": []
   },
   "outputs": [],
   "source": [
    "%matplotlib inline\n",
    "import numpy as np\n",
    "import matplotlib.pyplot as plt\n",
    "import pandas as pd"
   ]
  },
  {
   "cell_type": "markdown",
   "id": "ba036198",
   "metadata": {
    "papermill": {
     "duration": 0.023823,
     "end_time": "2022-09-09T10:11:30.364741",
     "exception": false,
     "start_time": "2022-09-09T10:11:30.340918",
     "status": "completed"
    },
    "tags": []
   },
   "source": [
    "From the command line run `pip install mnist`. This is a library that will help you bring down the mnist dataset. If you run this from a notebook, you need to put  `!pip install mnist` in a cell by itself."
   ]
  },
  {
   "cell_type": "code",
   "execution_count": 3,
   "id": "bb6ad8a1",
   "metadata": {
    "execution": {
     "iopub.execute_input": "2022-09-09T10:11:30.417038Z",
     "iopub.status.busy": "2022-09-09T10:11:30.416449Z",
     "iopub.status.idle": "2022-09-09T10:11:31.993105Z",
     "shell.execute_reply": "2022-09-09T10:11:31.992249Z"
    },
    "papermill": {
     "duration": 1.604616,
     "end_time": "2022-09-09T10:11:31.993238",
     "exception": false,
     "start_time": "2022-09-09T10:11:30.388622",
     "status": "completed"
    },
    "tags": []
   },
   "outputs": [
    {
     "name": "stdout",
     "output_type": "stream",
     "text": [
      "Collecting mnist\r\n",
      "  Downloading mnist-0.2.2-py2.py3-none-any.whl (3.5 kB)\r\n",
      "Requirement already satisfied: numpy in /opt/hostedtoolcache/Python/3.6.15/x64/lib/python3.6/site-packages (from mnist) (1.19.5)\r\n"
     ]
    },
    {
     "name": "stdout",
     "output_type": "stream",
     "text": [
      "Installing collected packages: mnist\r\n"
     ]
    },
    {
     "name": "stdout",
     "output_type": "stream",
     "text": [
      "Successfully installed mnist-0.2.2\r\n"
     ]
    }
   ],
   "source": [
    "!pip install mnist"
   ]
  },
  {
   "cell_type": "markdown",
   "id": "69df9c9a",
   "metadata": {
    "papermill": {
     "duration": 0.024684,
     "end_time": "2022-09-09T10:11:32.042845",
     "exception": false,
     "start_time": "2022-09-09T10:11:32.018161",
     "status": "completed"
    },
    "tags": []
   },
   "source": [
    "## Preparing the Data"
   ]
  },
  {
   "cell_type": "code",
   "execution_count": 4,
   "id": "7f69d806",
   "metadata": {
    "execution": {
     "iopub.execute_input": "2022-09-09T10:11:32.096636Z",
     "iopub.status.busy": "2022-09-09T10:11:32.096051Z",
     "iopub.status.idle": "2022-09-09T10:11:32.111753Z",
     "shell.execute_reply": "2022-09-09T10:11:32.111275Z"
    },
    "papermill": {
     "duration": 0.044253,
     "end_time": "2022-09-09T10:11:32.111867",
     "exception": false,
     "start_time": "2022-09-09T10:11:32.067614",
     "status": "completed"
    },
    "tags": []
   },
   "outputs": [],
   "source": [
    "import mnist"
   ]
  },
  {
   "cell_type": "code",
   "execution_count": 5,
   "id": "a411e44f",
   "metadata": {
    "execution": {
     "iopub.execute_input": "2022-09-09T10:11:32.164691Z",
     "iopub.status.busy": "2022-09-09T10:11:32.164107Z",
     "iopub.status.idle": "2022-09-09T10:11:32.727844Z",
     "shell.execute_reply": "2022-09-09T10:11:32.728339Z"
    },
    "papermill": {
     "duration": 0.591962,
     "end_time": "2022-09-09T10:11:32.728486",
     "exception": false,
     "start_time": "2022-09-09T10:11:32.136524",
     "status": "completed"
    },
    "tags": []
   },
   "outputs": [],
   "source": [
    "train_images = mnist.train_images()\n",
    "train_labels = mnist.train_labels()"
   ]
  },
  {
   "cell_type": "code",
   "execution_count": 6,
   "id": "dceab3a5",
   "metadata": {
    "execution": {
     "iopub.execute_input": "2022-09-09T10:11:32.782159Z",
     "iopub.status.busy": "2022-09-09T10:11:32.781538Z",
     "iopub.status.idle": "2022-09-09T10:11:32.796385Z",
     "shell.execute_reply": "2022-09-09T10:11:32.796862Z"
    },
    "papermill": {
     "duration": 0.043638,
     "end_time": "2022-09-09T10:11:32.796992",
     "exception": false,
     "start_time": "2022-09-09T10:11:32.753354",
     "status": "completed"
    },
    "tags": []
   },
   "outputs": [
    {
     "data": {
      "text/plain": [
       "((60000, 28, 28), (60000,))"
      ]
     },
     "execution_count": 6,
     "metadata": {},
     "output_type": "execute_result"
    }
   ],
   "source": [
    "train_images.shape, train_labels.shape"
   ]
  },
  {
   "cell_type": "code",
   "execution_count": 7,
   "id": "f50dc2bb",
   "metadata": {
    "execution": {
     "iopub.execute_input": "2022-09-09T10:11:32.855113Z",
     "iopub.status.busy": "2022-09-09T10:11:32.854398Z",
     "iopub.status.idle": "2022-09-09T10:11:32.967070Z",
     "shell.execute_reply": "2022-09-09T10:11:32.965690Z"
    },
    "papermill": {
     "duration": 0.145396,
     "end_time": "2022-09-09T10:11:32.967219",
     "exception": false,
     "start_time": "2022-09-09T10:11:32.821823",
     "status": "completed"
    },
    "tags": []
   },
   "outputs": [],
   "source": [
    "test_images = mnist.test_images()\n",
    "test_labels = mnist.test_labels()"
   ]
  },
  {
   "cell_type": "code",
   "execution_count": 8,
   "id": "fc38cf1b",
   "metadata": {
    "execution": {
     "iopub.execute_input": "2022-09-09T10:11:33.025747Z",
     "iopub.status.busy": "2022-09-09T10:11:33.022790Z",
     "iopub.status.idle": "2022-09-09T10:11:33.037971Z",
     "shell.execute_reply": "2022-09-09T10:11:33.036781Z"
    },
    "papermill": {
     "duration": 0.045673,
     "end_time": "2022-09-09T10:11:33.038093",
     "exception": false,
     "start_time": "2022-09-09T10:11:32.992420",
     "status": "completed"
    },
    "tags": []
   },
   "outputs": [
    {
     "data": {
      "text/plain": [
       "((10000, 28, 28), (10000,))"
      ]
     },
     "execution_count": 8,
     "metadata": {},
     "output_type": "execute_result"
    }
   ],
   "source": [
    "test_images.shape, test_labels.shape"
   ]
  },
  {
   "cell_type": "code",
   "execution_count": 9,
   "id": "f9ed8fe0",
   "metadata": {
    "execution": {
     "iopub.execute_input": "2022-09-09T10:11:33.092579Z",
     "iopub.status.busy": "2022-09-09T10:11:33.091991Z",
     "iopub.status.idle": "2022-09-09T10:11:33.231084Z",
     "shell.execute_reply": "2022-09-09T10:11:33.230581Z"
    },
    "papermill": {
     "duration": 0.167923,
     "end_time": "2022-09-09T10:11:33.231204",
     "exception": false,
     "start_time": "2022-09-09T10:11:33.063281",
     "status": "completed"
    },
    "tags": []
   },
   "outputs": [
    {
     "name": "stdout",
     "output_type": "stream",
     "text": [
      "2\n"
     ]
    },
    {
     "data": {
      "text/plain": [
       "<matplotlib.image.AxesImage at 0x7f8219c58cc0>"
      ]
     },
     "execution_count": 9,
     "metadata": {},
     "output_type": "execute_result"
    },
    {
     "data": {
      "image/png": "[encoded data removed]",
      "text/plain": [
       "<Figure size 432x288 with 1 Axes>"
      ]
     },
     "metadata": {
      "needs_background": "light"
     },
     "output_type": "display_data"
    }
   ],
   "source": [
    "image_index = 7776 # You may select anything up to 60,000\n",
    "print(train_labels[image_index]) \n",
    "plt.imshow(train_images[image_index], cmap='Greys')"
   ]
  },
  {
   "cell_type": "markdown",
   "id": "a8d2388d",
   "metadata": {
    "papermill": {
     "duration": 0.026605,
     "end_time": "2022-09-09T10:11:33.284159",
     "exception": false,
     "start_time": "2022-09-09T10:11:33.257554",
     "status": "completed"
    },
    "tags": []
   },
   "source": [
    "## Filter data to get 3 and 8 out"
   ]
  },
  {
   "cell_type": "code",
   "execution_count": 10,
   "id": "776f7fc7",
   "metadata": {
    "execution": {
     "iopub.execute_input": "2022-09-09T10:11:33.341025Z",
     "iopub.status.busy": "2022-09-09T10:11:33.340419Z",
     "iopub.status.idle": "2022-09-09T10:11:33.359029Z",
     "shell.execute_reply": "2022-09-09T10:11:33.358544Z"
    },
    "papermill": {
     "duration": 0.048842,
     "end_time": "2022-09-09T10:11:33.359144",
     "exception": false,
     "start_time": "2022-09-09T10:11:33.310302",
     "status": "completed"
    },
    "tags": []
   },
   "outputs": [],
   "source": [
    "train_filter = np.where((train_labels == 3 ) | (train_labels == 8))\n",
    "test_filter = np.where((test_labels == 3) | (test_labels == 8))\n",
    "X_train, y_train = train_images[train_filter], train_labels[train_filter]\n",
    "X_test, y_test = test_images[test_filter], test_labels[test_filter]"
   ]
  },
  {
   "cell_type": "markdown",
   "id": "948f0b7e",
   "metadata": {
    "papermill": {
     "duration": 0.026366,
     "end_time": "2022-09-09T10:11:33.411957",
     "exception": false,
     "start_time": "2022-09-09T10:11:33.385591",
     "status": "completed"
    },
    "tags": []
   },
   "source": [
    "We normalize the pizel values in the 0 to 1 range"
   ]
  },
  {
   "cell_type": "code",
   "execution_count": 11,
   "id": "ee4c2166",
   "metadata": {
    "execution": {
     "iopub.execute_input": "2022-09-09T10:11:33.479348Z",
     "iopub.status.busy": "2022-09-09T10:11:33.474792Z",
     "iopub.status.idle": "2022-09-09T10:11:33.518099Z",
     "shell.execute_reply": "2022-09-09T10:11:33.517532Z"
    },
    "papermill": {
     "duration": 0.080081,
     "end_time": "2022-09-09T10:11:33.518228",
     "exception": false,
     "start_time": "2022-09-09T10:11:33.438147",
     "status": "completed"
    },
    "tags": []
   },
   "outputs": [],
   "source": [
    "X_train = X_train/255.\n",
    "X_test = X_test/255."
   ]
  },
  {
   "cell_type": "markdown",
   "id": "ddcf4fab",
   "metadata": {
    "papermill": {
     "duration": 0.026406,
     "end_time": "2022-09-09T10:11:33.571120",
     "exception": false,
     "start_time": "2022-09-09T10:11:33.544714",
     "status": "completed"
    },
    "tags": []
   },
   "source": [
    "And setup the labels as 1 (when the digit is 3) and 0 (when the digit is 8)"
   ]
  },
  {
   "cell_type": "code",
   "execution_count": 12,
   "id": "7dc908f2",
   "metadata": {
    "execution": {
     "iopub.execute_input": "2022-09-09T10:11:33.634731Z",
     "iopub.status.busy": "2022-09-09T10:11:33.626964Z",
     "iopub.status.idle": "2022-09-09T10:11:33.641669Z",
     "shell.execute_reply": "2022-09-09T10:11:33.641193Z"
    },
    "papermill": {
     "duration": 0.044425,
     "end_time": "2022-09-09T10:11:33.641775",
     "exception": false,
     "start_time": "2022-09-09T10:11:33.597350",
     "status": "completed"
    },
    "tags": []
   },
   "outputs": [],
   "source": [
    "y_train = 1*(y_train==3)\n",
    "y_test = 1*(y_test==3)"
   ]
  },
  {
   "cell_type": "code",
   "execution_count": 13,
   "id": "01e4e969",
   "metadata": {
    "execution": {
     "iopub.execute_input": "2022-09-09T10:11:33.702870Z",
     "iopub.status.busy": "2022-09-09T10:11:33.698066Z",
     "iopub.status.idle": "2022-09-09T10:11:33.711834Z",
     "shell.execute_reply": "2022-09-09T10:11:33.711352Z"
    },
    "papermill": {
     "duration": 0.043695,
     "end_time": "2022-09-09T10:11:33.711941",
     "exception": false,
     "start_time": "2022-09-09T10:11:33.668246",
     "status": "completed"
    },
    "tags": []
   },
   "outputs": [
    {
     "data": {
      "text/plain": [
       "((11982, 28, 28), (1984, 28, 28))"
      ]
     },
     "execution_count": 13,
     "metadata": {},
     "output_type": "execute_result"
    }
   ],
   "source": [
    "X_train.shape, X_test.shape"
   ]
  },
  {
   "cell_type": "markdown",
   "id": "5ccf3f85",
   "metadata": {
    "papermill": {
     "duration": 0.026297,
     "end_time": "2022-09-09T10:11:33.764598",
     "exception": false,
     "start_time": "2022-09-09T10:11:33.738301",
     "status": "completed"
    },
    "tags": []
   },
   "source": [
    "We reshape the data to flatten the image pixels into a set of features or co-variates:"
   ]
  },
  {
   "cell_type": "code",
   "execution_count": 14,
   "id": "5286a4a3",
   "metadata": {
    "execution": {
     "iopub.execute_input": "2022-09-09T10:11:33.833873Z",
     "iopub.status.busy": "2022-09-09T10:11:33.830847Z",
     "iopub.status.idle": "2022-09-09T10:11:33.837459Z",
     "shell.execute_reply": "2022-09-09T10:11:33.836880Z"
    },
    "papermill": {
     "duration": 0.046393,
     "end_time": "2022-09-09T10:11:33.837569",
     "exception": false,
     "start_time": "2022-09-09T10:11:33.791176",
     "status": "completed"
    },
    "tags": []
   },
   "outputs": [
    {
     "data": {
      "text/plain": [
       "((11982, 784), (1984, 784))"
      ]
     },
     "execution_count": 14,
     "metadata": {},
     "output_type": "execute_result"
    }
   ],
   "source": [
    "X_train = X_train.reshape(X_train.shape[0], -1)\n",
    "X_test = X_test.reshape(X_test.shape[0], -1)\n",
    "X_train.shape, X_test.shape"
   ]
  },
  {
   "cell_type": "code",
   "execution_count": 15,
   "id": "73c5f88a",
   "metadata": {
    "execution": {
     "iopub.execute_input": "2022-09-09T10:11:33.907343Z",
     "iopub.status.busy": "2022-09-09T10:11:33.901021Z",
     "iopub.status.idle": "2022-09-09T10:11:33.916445Z",
     "shell.execute_reply": "2022-09-09T10:11:33.916897Z"
    },
    "papermill": {
     "duration": 0.05277,
     "end_time": "2022-09-09T10:11:33.917026",
     "exception": false,
     "start_time": "2022-09-09T10:11:33.864256",
     "status": "completed"
    },
    "tags": []
   },
   "outputs": [],
   "source": [
    "#Impoting functions from 'Kudzu'\n",
    "from kudzu.model import Model\n",
    "from kudzu.train import Learner\n",
    "from kudzu.optim import GD\n",
    "from kudzu.data import Data, Sampler,Dataloader\n",
    "\n",
    "from kudzu.callbacks import AccCallback\n",
    "from kudzu.callbacks import ClfCallback\n",
    "\n",
    "from kudzu.loss import MSE\n",
    "\n",
    "from kudzu.layer import Sigmoid,Relu\n",
    "from kudzu.layer import Affine"
   ]
  },
  {
   "cell_type": "markdown",
   "id": "bc01172a",
   "metadata": {
    "papermill": {
     "duration": 0.026971,
     "end_time": "2022-09-09T10:11:33.971258",
     "exception": false,
     "start_time": "2022-09-09T10:11:33.944287",
     "status": "completed"
    },
    "tags": []
   },
   "source": [
    "### Let us create a `Config` class, to store important parameters. \n",
    "This class essentially plays the role of a dictionary."
   ]
  },
  {
   "cell_type": "code",
   "execution_count": 16,
   "id": "978281aa",
   "metadata": {
    "execution": {
     "iopub.execute_input": "2022-09-09T10:11:34.044790Z",
     "iopub.status.busy": "2022-09-09T10:11:34.044157Z",
     "iopub.status.idle": "2022-09-09T10:11:34.046565Z",
     "shell.execute_reply": "2022-09-09T10:11:34.047016Z"
    },
    "papermill": {
     "duration": 0.049342,
     "end_time": "2022-09-09T10:11:34.047146",
     "exception": false,
     "start_time": "2022-09-09T10:11:33.997804",
     "status": "completed"
    },
    "tags": []
   },
   "outputs": [],
   "source": [
    "class Config:\n",
    "    pass\n",
    "config = Config()\n",
    "config.lr = 0.001\n",
    "config.num_epochs = 250\n",
    "config.bs = 50"
   ]
  },
  {
   "cell_type": "markdown",
   "id": "1385fa59",
   "metadata": {
    "papermill": {
     "duration": 0.026961,
     "end_time": "2022-09-09T10:11:34.101047",
     "exception": false,
     "start_time": "2022-09-09T10:11:34.074086",
     "status": "completed"
    },
    "tags": []
   },
   "source": [
    "### Running Models with the Training data\n",
    "Details about the network layers:\n",
    "- A first affine layer has 784 inputs and does 100 affine transforms. These are followed by a Relu\n",
    "- A second affine layer has 100 inputs from the 100 activations of the past layer, and does 100 affine transforms. These are followed by a Relu\n",
    "- A third affine layer has 100 activations and does 2 affine transformations to create an embedding for visualization. There is no non-linearity here.\n",
    "- A final \"logistic regression\" which has an affine transform from 2 inputs to 1 output, which is squeezed through a sigmoid.\n"
   ]
  },
  {
   "cell_type": "code",
   "execution_count": 17,
   "id": "2b9c66db",
   "metadata": {
    "execution": {
     "iopub.execute_input": "2022-09-09T10:11:34.162729Z",
     "iopub.status.busy": "2022-09-09T10:11:34.158121Z",
     "iopub.status.idle": "2022-09-09T10:11:34.172386Z",
     "shell.execute_reply": "2022-09-09T10:11:34.171812Z"
    },
    "papermill": {
     "duration": 0.044786,
     "end_time": "2022-09-09T10:11:34.172493",
     "exception": false,
     "start_time": "2022-09-09T10:11:34.127707",
     "status": "completed"
    },
    "tags": []
   },
   "outputs": [],
   "source": [
    "data = Data(X_train, y_train.reshape(-1,1))\n",
    "sampler = Sampler(data, config.bs, shuffle=True)\n",
    "\n",
    "dl = Dataloader(data, sampler)\n",
    "\n",
    "opt = GD(config.lr)\n",
    "loss = MSE()"
   ]
  },
  {
   "cell_type": "code",
   "execution_count": 18,
   "id": "b275e4c2",
   "metadata": {
    "execution": {
     "iopub.execute_input": "2022-09-09T10:11:34.230708Z",
     "iopub.status.busy": "2022-09-09T10:11:34.229338Z",
     "iopub.status.idle": "2022-09-09T10:11:34.241835Z",
     "shell.execute_reply": "2022-09-09T10:11:34.242341Z"
    },
    "papermill": {
     "duration": 0.043268,
     "end_time": "2022-09-09T10:11:34.242462",
     "exception": false,
     "start_time": "2022-09-09T10:11:34.199194",
     "status": "completed"
    },
    "tags": []
   },
   "outputs": [],
   "source": [
    "training_data_x = X_train\n",
    "testing_data_x = X_test\n",
    "training_data_y = y_train.reshape(-1,1)\n",
    "testing_data_y = y_test.reshape(-1,1)"
   ]
  },
  {
   "cell_type": "code",
   "execution_count": 19,
   "id": "76951160",
   "metadata": {
    "execution": {
     "iopub.execute_input": "2022-09-09T10:11:34.310775Z",
     "iopub.status.busy": "2022-09-09T10:11:34.307954Z",
     "iopub.status.idle": "2022-09-09T10:11:34.321004Z",
     "shell.execute_reply": "2022-09-09T10:11:34.321452Z"
    },
    "papermill": {
     "duration": 0.051103,
     "end_time": "2022-09-09T10:11:34.321575",
     "exception": false,
     "start_time": "2022-09-09T10:11:34.270472",
     "status": "completed"
    },
    "tags": []
   },
   "outputs": [
    {
     "name": "stdout",
     "output_type": "stream",
     "text": [
      "xavier\n",
      "xavier\n",
      "xavier\n",
      "xavier\n",
      "xavier\n"
     ]
    }
   ],
   "source": [
    "layers = [Affine(\"first\", 784, 100), Relu(\"first\"), Affine(\"second\", 100, 100), Relu(\"second\"), Affine(\"third\", 100, 2), Affine(\"last\", 2, 1), Sigmoid(\"last\")]\n",
    "model_nn = Model(layers)\n",
    "model_lr = Model([Affine(\"logits\", 784, 1), Sigmoid(\"sigmoid\")])"
   ]
  },
  {
   "cell_type": "code",
   "execution_count": 20,
   "id": "6eede77a",
   "metadata": {
    "execution": {
     "iopub.execute_input": "2022-09-09T10:11:34.380231Z",
     "iopub.status.busy": "2022-09-09T10:11:34.379651Z",
     "iopub.status.idle": "2022-09-09T10:11:34.393263Z",
     "shell.execute_reply": "2022-09-09T10:11:34.392786Z"
    },
    "papermill": {
     "duration": 0.044849,
     "end_time": "2022-09-09T10:11:34.393370",
     "exception": false,
     "start_time": "2022-09-09T10:11:34.348521",
     "status": "completed"
    },
    "tags": []
   },
   "outputs": [],
   "source": [
    "nn_learner = Learner(loss, model_nn, opt, config.num_epochs)\n",
    "acc_nn = ClfCallback(nn_learner, config.bs, training_data_x , testing_data_x, training_data_y, testing_data_y)\n",
    "nn_learner.set_callbacks([acc_nn])"
   ]
  },
  {
   "cell_type": "code",
   "execution_count": 21,
   "id": "877b6cc7",
   "metadata": {
    "execution": {
     "iopub.execute_input": "2022-09-09T10:11:34.451165Z",
     "iopub.status.busy": "2022-09-09T10:11:34.450590Z",
     "iopub.status.idle": "2022-09-09T10:11:34.462399Z",
     "shell.execute_reply": "2022-09-09T10:11:34.462845Z"
    },
    "papermill": {
     "duration": 0.042646,
     "end_time": "2022-09-09T10:11:34.462964",
     "exception": false,
     "start_time": "2022-09-09T10:11:34.420318",
     "status": "completed"
    },
    "tags": []
   },
   "outputs": [],
   "source": [
    "lr_learner = Learner(loss, model_lr, opt, config.num_epochs)\n",
    "acc_lr = ClfCallback(lr_learner, config.bs, training_data_x , testing_data_x, training_data_y, testing_data_y)\n",
    "lr_learner.set_callbacks([acc_lr])"
   ]
  },
  {
   "cell_type": "code",
   "execution_count": 22,
   "id": "d9b133c3",
   "metadata": {
    "execution": {
     "iopub.execute_input": "2022-09-09T10:11:34.521024Z",
     "iopub.status.busy": "2022-09-09T10:11:34.520449Z",
     "iopub.status.idle": "2022-09-09T10:12:49.388618Z",
     "shell.execute_reply": "2022-09-09T10:12:49.389478Z"
    },
    "papermill": {
     "duration": 74.899556,
     "end_time": "2022-09-09T10:12:49.389629",
     "exception": false,
     "start_time": "2022-09-09T10:11:34.490073",
     "status": "completed"
    },
    "tags": []
   },
   "outputs": [
    {
     "name": "stdout",
     "output_type": "stream",
     "text": [
      "Epoch 0, Loss 0.2004\n",
      "Training Accuracy: 0.8340, Testing Accuracy: 0.8518\n",
      "\n"
     ]
    },
    {
     "name": "stdout",
     "output_type": "stream",
     "text": [
      "Epoch 10, Loss 0.0653\n",
      "Training Accuracy: 0.9348, Testing Accuracy: 0.9405\n",
      "\n"
     ]
    },
    {
     "name": "stdout",
     "output_type": "stream",
     "text": [
      "Epoch 20, Loss 0.0449\n",
      "Training Accuracy: 0.9506, Testing Accuracy: 0.9582\n",
      "\n"
     ]
    },
    {
     "name": "stdout",
     "output_type": "stream",
     "text": [
      "Epoch 30, Loss 0.0372\n",
      "Training Accuracy: 0.9581, Testing Accuracy: 0.9622\n",
      "\n"
     ]
    },
    {
     "name": "stdout",
     "output_type": "stream",
     "text": [
      "Epoch 40, Loss 0.033\n",
      "Training Accuracy: 0.9635, Testing Accuracy: 0.9662\n",
      "\n"
     ]
    },
    {
     "name": "stdout",
     "output_type": "stream",
     "text": [
      "Epoch 50, Loss 0.0303\n",
      "Training Accuracy: 0.9658, Testing Accuracy: 0.9682\n",
      "\n"
     ]
    },
    {
     "name": "stdout",
     "output_type": "stream",
     "text": [
      "Epoch 60, Loss 0.0283\n",
      "Training Accuracy: 0.9675, Testing Accuracy: 0.9682\n",
      "\n"
     ]
    },
    {
     "name": "stdout",
     "output_type": "stream",
     "text": [
      "Epoch 70, Loss 0.0267\n",
      "Training Accuracy: 0.9692, Testing Accuracy: 0.9693\n",
      "\n"
     ]
    },
    {
     "name": "stdout",
     "output_type": "stream",
     "text": [
      "Epoch 80, Loss 0.0255\n",
      "Training Accuracy: 0.9704, Testing Accuracy: 0.9698\n",
      "\n"
     ]
    },
    {
     "name": "stdout",
     "output_type": "stream",
     "text": [
      "Epoch 90, Loss 0.0244\n",
      "Training Accuracy: 0.9714, Testing Accuracy: 0.9693\n",
      "\n"
     ]
    },
    {
     "name": "stdout",
     "output_type": "stream",
     "text": [
      "Epoch 100, Loss 0.0235\n",
      "Training Accuracy: 0.9727, Testing Accuracy: 0.9708\n",
      "\n"
     ]
    },
    {
     "name": "stdout",
     "output_type": "stream",
     "text": [
      "Epoch 110, Loss 0.0227\n",
      "Training Accuracy: 0.9733, Testing Accuracy: 0.9698\n",
      "\n"
     ]
    },
    {
     "name": "stdout",
     "output_type": "stream",
     "text": [
      "Epoch 120, Loss 0.022\n",
      "Training Accuracy: 0.9745, Testing Accuracy: 0.9708\n",
      "\n"
     ]
    },
    {
     "name": "stdout",
     "output_type": "stream",
     "text": [
      "Epoch 130, Loss 0.0214\n",
      "Training Accuracy: 0.9755, Testing Accuracy: 0.9713\n",
      "\n"
     ]
    },
    {
     "name": "stdout",
     "output_type": "stream",
     "text": [
      "Epoch 140, Loss 0.0208\n",
      "Training Accuracy: 0.9767, Testing Accuracy: 0.9723\n",
      "\n"
     ]
    },
    {
     "name": "stdout",
     "output_type": "stream",
     "text": [
      "Epoch 150, Loss 0.0203\n",
      "Training Accuracy: 0.9773, Testing Accuracy: 0.9723\n",
      "\n"
     ]
    },
    {
     "name": "stdout",
     "output_type": "stream",
     "text": [
      "Epoch 160, Loss 0.0197\n",
      "Training Accuracy: 0.9781, Testing Accuracy: 0.9723\n",
      "\n"
     ]
    },
    {
     "name": "stdout",
     "output_type": "stream",
     "text": [
      "Epoch 170, Loss 0.0193\n",
      "Training Accuracy: 0.9791, Testing Accuracy: 0.9728\n",
      "\n"
     ]
    },
    {
     "name": "stdout",
     "output_type": "stream",
     "text": [
      "Epoch 180, Loss 0.0188\n",
      "Training Accuracy: 0.9791, Testing Accuracy: 0.9723\n",
      "\n"
     ]
    },
    {
     "name": "stdout",
     "output_type": "stream",
     "text": [
      "Epoch 190, Loss 0.0184\n",
      "Training Accuracy: 0.9799, Testing Accuracy: 0.9723\n",
      "\n"
     ]
    },
    {
     "name": "stdout",
     "output_type": "stream",
     "text": [
      "Epoch 200, Loss 0.018\n",
      "Training Accuracy: 0.9801, Testing Accuracy: 0.9728\n",
      "\n"
     ]
    },
    {
     "name": "stdout",
     "output_type": "stream",
     "text": [
      "Epoch 210, Loss 0.0176\n",
      "Training Accuracy: 0.9806, Testing Accuracy: 0.9733\n",
      "\n"
     ]
    },
    {
     "name": "stdout",
     "output_type": "stream",
     "text": [
      "Epoch 220, Loss 0.0172\n",
      "Training Accuracy: 0.9814, Testing Accuracy: 0.9733\n",
      "\n"
     ]
    },
    {
     "name": "stdout",
     "output_type": "stream",
     "text": [
      "Epoch 230, Loss 0.0168\n",
      "Training Accuracy: 0.9816, Testing Accuracy: 0.9738\n",
      "\n"
     ]
    },
    {
     "name": "stdout",
     "output_type": "stream",
     "text": [
      "Epoch 240, Loss 0.0165\n",
      "Training Accuracy: 0.9826, Testing Accuracy: 0.9743\n",
      "\n"
     ]
    },
    {
     "data": {
      "text/plain": [
       "0.008024927320449227"
      ]
     },
     "execution_count": 22,
     "metadata": {},
     "output_type": "execute_result"
    }
   ],
   "source": [
    "nn_learner.train_loop(dl)"
   ]
  },
  {
   "cell_type": "code",
   "execution_count": 23,
   "id": "e0163366",
   "metadata": {
    "execution": {
     "iopub.execute_input": "2022-09-09T10:12:49.471627Z",
     "iopub.status.busy": "2022-09-09T10:12:49.471019Z",
     "iopub.status.idle": "2022-09-09T10:13:02.903368Z",
     "shell.execute_reply": "2022-09-09T10:13:02.903930Z"
    },
    "papermill": {
     "duration": 13.480013,
     "end_time": "2022-09-09T10:13:02.904068",
     "exception": false,
     "start_time": "2022-09-09T10:12:49.424055",
     "status": "completed"
    },
    "tags": []
   },
   "outputs": [
    {
     "name": "stdout",
     "output_type": "stream",
     "text": [
      "Epoch 0, Loss 0.2478\n",
      "Training Accuracy: 0.6563, Testing Accuracy: 0.6789\n",
      "\n"
     ]
    },
    {
     "name": "stdout",
     "output_type": "stream",
     "text": [
      "Epoch 10, Loss 0.1067\n",
      "Training Accuracy: 0.9026, Testing Accuracy: 0.9113\n",
      "\n"
     ]
    },
    {
     "name": "stdout",
     "output_type": "stream",
     "text": [
      "Epoch 20, Loss 0.0814\n",
      "Training Accuracy: 0.9251, Testing Accuracy: 0.9345\n",
      "\n"
     ]
    },
    {
     "name": "stdout",
     "output_type": "stream",
     "text": [
      "Epoch 30, Loss 0.0697\n",
      "Training Accuracy: 0.9347, Testing Accuracy: 0.9451\n",
      "\n"
     ]
    },
    {
     "name": "stdout",
     "output_type": "stream",
     "text": [
      "Epoch 40, Loss 0.0627\n",
      "Training Accuracy: 0.9395, Testing Accuracy: 0.9486\n",
      "\n"
     ]
    },
    {
     "name": "stdout",
     "output_type": "stream",
     "text": [
      "Epoch 50, Loss 0.058\n",
      "Training Accuracy: 0.9437, Testing Accuracy: 0.9541\n",
      "\n"
     ]
    },
    {
     "name": "stdout",
     "output_type": "stream",
     "text": [
      "Epoch 60, Loss 0.0545\n",
      "Training Accuracy: 0.9461, Testing Accuracy: 0.9567\n",
      "\n"
     ]
    },
    {
     "name": "stdout",
     "output_type": "stream",
     "text": [
      "Epoch 70, Loss 0.0518\n",
      "Training Accuracy: 0.9478, Testing Accuracy: 0.9561\n",
      "\n"
     ]
    },
    {
     "name": "stdout",
     "output_type": "stream",
     "text": [
      "Epoch 80, Loss 0.0497\n",
      "Training Accuracy: 0.9495, Testing Accuracy: 0.9592\n",
      "\n"
     ]
    },
    {
     "name": "stdout",
     "output_type": "stream",
     "text": [
      "Epoch 90, Loss 0.0479\n",
      "Training Accuracy: 0.9510, Testing Accuracy: 0.9607\n",
      "\n"
     ]
    },
    {
     "name": "stdout",
     "output_type": "stream",
     "text": [
      "Epoch 100, Loss 0.0465\n",
      "Training Accuracy: 0.9524, Testing Accuracy: 0.9617\n",
      "\n"
     ]
    },
    {
     "name": "stdout",
     "output_type": "stream",
     "text": [
      "Epoch 110, Loss 0.0452\n",
      "Training Accuracy: 0.9532, Testing Accuracy: 0.9632\n",
      "\n"
     ]
    },
    {
     "name": "stdout",
     "output_type": "stream",
     "text": [
      "Epoch 120, Loss 0.0441\n",
      "Training Accuracy: 0.9538, Testing Accuracy: 0.9637\n",
      "\n"
     ]
    },
    {
     "name": "stdout",
     "output_type": "stream",
     "text": [
      "Epoch 130, Loss 0.0431\n",
      "Training Accuracy: 0.9548, Testing Accuracy: 0.9637\n",
      "\n"
     ]
    },
    {
     "name": "stdout",
     "output_type": "stream",
     "text": [
      "Epoch 140, Loss 0.0423\n",
      "Training Accuracy: 0.9563, Testing Accuracy: 0.9647\n",
      "\n"
     ]
    },
    {
     "name": "stdout",
     "output_type": "stream",
     "text": [
      "Epoch 150, Loss 0.0415\n",
      "Training Accuracy: 0.9568, Testing Accuracy: 0.9652\n",
      "\n"
     ]
    },
    {
     "name": "stdout",
     "output_type": "stream",
     "text": [
      "Epoch 160, Loss 0.0408\n",
      "Training Accuracy: 0.9572, Testing Accuracy: 0.9657\n",
      "\n"
     ]
    },
    {
     "name": "stdout",
     "output_type": "stream",
     "text": [
      "Epoch 170, Loss 0.0402\n",
      "Training Accuracy: 0.9575, Testing Accuracy: 0.9662\n",
      "\n"
     ]
    },
    {
     "name": "stdout",
     "output_type": "stream",
     "text": [
      "Epoch 180, Loss 0.0396\n",
      "Training Accuracy: 0.9580, Testing Accuracy: 0.9662\n",
      "\n"
     ]
    },
    {
     "name": "stdout",
     "output_type": "stream",
     "text": [
      "Epoch 190, Loss 0.0391\n",
      "Training Accuracy: 0.9585, Testing Accuracy: 0.9662\n",
      "\n"
     ]
    },
    {
     "name": "stdout",
     "output_type": "stream",
     "text": [
      "Epoch 200, Loss 0.0386\n",
      "Training Accuracy: 0.9589, Testing Accuracy: 0.9657\n",
      "\n"
     ]
    },
    {
     "name": "stdout",
     "output_type": "stream",
     "text": [
      "Epoch 210, Loss 0.0381\n",
      "Training Accuracy: 0.9593, Testing Accuracy: 0.9657\n",
      "\n"
     ]
    },
    {
     "name": "stdout",
     "output_type": "stream",
     "text": [
      "Epoch 220, Loss 0.0377\n",
      "Training Accuracy: 0.9598, Testing Accuracy: 0.9662\n",
      "\n"
     ]
    },
    {
     "name": "stdout",
     "output_type": "stream",
     "text": [
      "Epoch 230, Loss 0.0373\n",
      "Training Accuracy: 0.9601, Testing Accuracy: 0.9667\n",
      "\n"
     ]
    },
    {
     "name": "stdout",
     "output_type": "stream",
     "text": [
      "Epoch 240, Loss 0.037\n",
      "Training Accuracy: 0.9605, Testing Accuracy: 0.9667\n",
      "\n"
     ]
    },
    {
     "data": {
      "text/plain": [
       "0.03348601009984429"
      ]
     },
     "execution_count": 23,
     "metadata": {},
     "output_type": "execute_result"
    }
   ],
   "source": [
    "lr_learner.train_loop(dl)"
   ]
  },
  {
   "cell_type": "code",
   "execution_count": 24,
   "id": "ca410940",
   "metadata": {
    "execution": {
     "iopub.execute_input": "2022-09-09T10:13:02.995617Z",
     "iopub.status.busy": "2022-09-09T10:13:02.995020Z",
     "iopub.status.idle": "2022-09-09T10:13:03.224503Z",
     "shell.execute_reply": "2022-09-09T10:13:03.223999Z"
    },
    "papermill": {
     "duration": 0.278975,
     "end_time": "2022-09-09T10:13:03.224625",
     "exception": false,
     "start_time": "2022-09-09T10:13:02.945650",
     "status": "completed"
    },
    "tags": []
   },
   "outputs": [
    {
     "data": {
      "text/plain": [
       "<matplotlib.legend.Legend at 0x7f82197c72e8>"
      ]
     },
     "execution_count": 24,
     "metadata": {},
     "output_type": "execute_result"
    },
    {
     "data": {
      "image/png": "[encoded data removed]",
      "text/plain": [
       "<Figure size 1080x720 with 1 Axes>"
      ]
     },
     "metadata": {
      "needs_background": "light"
     },
     "output_type": "display_data"
    }
   ],
   "source": [
    "#comparing the results of NN and LR\n",
    "plt.figure(figsize=(15,10))\n",
    "\n",
    "# Neural Network plots\n",
    "plt.plot(acc_nn.accuracies, 'r-', label = \"Training Accuracies - NN\")\n",
    "plt.plot(acc_nn.test_accuracies, 'g-', label = \"Testing Accuracies - NN\")\n",
    "\n",
    "# Logistic Regression plots\n",
    "plt.plot(acc_lr.accuracies, 'k-', label = \"Training Accuracies - LR\")\n",
    "plt.plot(acc_lr.test_accuracies, 'b-', label = \"Testing Accuracies - LR\")\n",
    "plt.legend()"
   ]
  },
  {
   "cell_type": "markdown",
   "id": "80dfb35c",
   "metadata": {
    "papermill": {
     "duration": 0.041641,
     "end_time": "2022-09-09T10:13:03.308602",
     "exception": false,
     "start_time": "2022-09-09T10:13:03.266961",
     "status": "completed"
    },
    "tags": []
   },
   "source": [
    "#### Plotting the outputs of this layer of the NN.\n"
   ]
  },
  {
   "cell_type": "code",
   "execution_count": 25,
   "id": "45eb2ff5",
   "metadata": {
    "execution": {
     "iopub.execute_input": "2022-09-09T10:13:03.398591Z",
     "iopub.status.busy": "2022-09-09T10:13:03.397148Z",
     "iopub.status.idle": "2022-09-09T10:13:03.416743Z",
     "shell.execute_reply": "2022-09-09T10:13:03.417202Z"
    },
    "papermill": {
     "duration": 0.066793,
     "end_time": "2022-09-09T10:13:03.417338",
     "exception": false,
     "start_time": "2022-09-09T10:13:03.350545",
     "status": "completed"
    },
    "tags": []
   },
   "outputs": [],
   "source": [
    "new_model = Model(layers[:-2])\n",
    "testing_plot = new_model(testing_data_x)"
   ]
  },
  {
   "cell_type": "code",
   "execution_count": 26,
   "id": "4c0a5485",
   "metadata": {
    "execution": {
     "iopub.execute_input": "2022-09-09T10:13:03.517730Z",
     "iopub.status.busy": "2022-09-09T10:13:03.506777Z",
     "iopub.status.idle": "2022-09-09T10:13:03.692737Z",
     "shell.execute_reply": "2022-09-09T10:13:03.693319Z"
    },
    "papermill": {
     "duration": 0.233929,
     "end_time": "2022-09-09T10:13:03.693463",
     "exception": false,
     "start_time": "2022-09-09T10:13:03.459534",
     "status": "completed"
    },
    "tags": []
   },
   "outputs": [
    {
     "data": {
      "text/plain": [
       "Text(0.5, 1.0, 'Outputs')"
      ]
     },
     "execution_count": 26,
     "metadata": {},
     "output_type": "execute_result"
    },
    {
     "data": {
      "image/png": "[encoded data removed]",
      "text/plain": [
       "<Figure size 576x504 with 1 Axes>"
      ]
     },
     "metadata": {
      "needs_background": "light"
     },
     "output_type": "display_data"
    }
   ],
   "source": [
    "# Plotting the scatter plot of points and color coding by class\n",
    "plt.figure(figsize=(8,7))\n",
    "plt.scatter(testing_plot[:,0], testing_plot[:,1], alpha = 0.1, c = y_test.ravel());\n",
    "plt.title('Outputs')"
   ]
  },
  {
   "cell_type": "markdown",
   "id": "a74fcf8f",
   "metadata": {
    "papermill": {
     "duration": 0.043886,
     "end_time": "2022-09-09T10:13:03.781679",
     "exception": false,
     "start_time": "2022-09-09T10:13:03.737793",
     "status": "completed"
    },
    "tags": []
   },
   "source": [
    "Probability contours"
   ]
  },
  {
   "cell_type": "code",
   "execution_count": 27,
   "id": "d0afc8e3",
   "metadata": {
    "execution": {
     "iopub.execute_input": "2022-09-09T10:13:03.882721Z",
     "iopub.status.busy": "2022-09-09T10:13:03.880928Z",
     "iopub.status.idle": "2022-09-09T10:13:03.889404Z",
     "shell.execute_reply": "2022-09-09T10:13:03.888926Z"
    },
    "papermill": {
     "duration": 0.063745,
     "end_time": "2022-09-09T10:13:03.889515",
     "exception": false,
     "start_time": "2022-09-09T10:13:03.825770",
     "status": "completed"
    },
    "tags": []
   },
   "outputs": [],
   "source": [
    "model_prob = Model(layers[-2:]) "
   ]
  },
  {
   "cell_type": "code",
   "execution_count": 28,
   "id": "9b96e238",
   "metadata": {
    "execution": {
     "iopub.execute_input": "2022-09-09T10:13:03.982558Z",
     "iopub.status.busy": "2022-09-09T10:13:03.981954Z",
     "iopub.status.idle": "2022-09-09T10:13:03.996028Z",
     "shell.execute_reply": "2022-09-09T10:13:03.996446Z"
    },
    "papermill": {
     "duration": 0.062879,
     "end_time": "2022-09-09T10:13:03.996574",
     "exception": false,
     "start_time": "2022-09-09T10:13:03.933695",
     "status": "completed"
    },
    "tags": []
   },
   "outputs": [],
   "source": [
    "#creating the x and y ranges according to the above generated plot.\n",
    "x_range = np.linspace(-4, 1, 100) \n",
    "y_range = np.linspace(-6, 6, 100) \n",
    "x_grid, y_grid = np.meshgrid(x_range, y_range) # x_grid and y_grig are of size 100 X 100\n",
    "\n",
    "# converting x_grid and y_grid to continuous arrays\n",
    "x_gridflat = np.ravel(x_grid)\n",
    "y_gridflat = np.ravel(y_grid)\n",
    "\n",
    "# The last layer of the current model takes two columns as input. Hence transpose of np.vstack() is required.\n",
    "X = np.vstack((x_gridflat, y_gridflat)).T\n",
    "\n",
    "prob_contour = model_prob(X).reshape(100,100) "
   ]
  },
  {
   "cell_type": "code",
   "execution_count": 29,
   "id": "da72499a",
   "metadata": {
    "execution": {
     "iopub.execute_input": "2022-09-09T10:13:04.119466Z",
     "iopub.status.busy": "2022-09-09T10:13:04.118837Z",
     "iopub.status.idle": "2022-09-09T10:13:04.360355Z",
     "shell.execute_reply": "2022-09-09T10:13:04.359193Z"
    },
    "papermill": {
     "duration": 0.292989,
     "end_time": "2022-09-09T10:13:04.360484",
     "exception": false,
     "start_time": "2022-09-09T10:13:04.067495",
     "status": "completed"
    },
    "tags": []
   },
   "outputs": [
    {
     "data": {
      "image/png": "[encoded data removed]",
      "text/plain": [
       "<Figure size 720x648 with 1 Axes>"
      ]
     },
     "metadata": {
      "needs_background": "light"
     },
     "output_type": "display_data"
    }
   ],
   "source": [
    "plt.figure(figsize=(10,9))\n",
    "plt.scatter(testing_plot[:,0], testing_plot[:,1], alpha = 0.1, c = y_test.ravel())\n",
    "contours = plt.contour(x_grid,y_grid,prob_contour)\n",
    "plt.title('Probability Contours')\n",
    "plt.clabel(contours, inline = True );"
   ]
  },
  {
   "cell_type": "code",
   "execution_count": null,
   "id": "e81b4ac7",
   "metadata": {
    "papermill": {
     "duration": 0.047387,
     "end_time": "2022-09-09T10:13:04.455832",
     "exception": false,
     "start_time": "2022-09-09T10:13:04.408445",
     "status": "completed"
    },
    "tags": []
   },
   "outputs": [],
   "source": []
  }
 ],
 "metadata": {
  "kernelspec": {
   "display_name": "Python 3",
   "language": "python",
   "name": "python3"
  },
  "language_info": {
   "codemirror_mode": {
    "name": "ipython",
    "version": 3
   },
   "file_extension": ".py",
   "mimetype": "text/x-python",
   "name": "python",
   "nbconvert_exporter": "python",
   "pygments_lexer": "ipython3",
   "version": "3.6.15"
  },
  "papermill": {
   "default_parameters": {},
   "duration": 96.28124,
   "end_time": "2022-09-09T10:13:04.922602",
   "environment_variables": {},
   "exception": null,
   "input_path": "2020-08-11-part2.ipynb",
   "output_path": "2020-08-11-part2.ipynb",
   "parameters": {},
   "start_time": "2022-09-09T10:11:28.641362",
   "version": "2.3.3"
  }
 },
 "nbformat": 4,
 "nbformat_minor": 5
}