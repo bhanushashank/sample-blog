{
 "cells": [
  {
   "cell_type": "markdown",
   "id": "98380cd3",
   "metadata": {
    "papermill": {
     "duration": 0.031814,
     "end_time": "2022-06-14T20:09:44.369356",
     "exception": false,
     "start_time": "2022-06-14T20:09:44.337542",
     "status": "completed"
    },
    "tags": []
   },
   "source": [
    "# Distinguish Your Own Digits (DYOD)"
   ]
  },
  {
   "cell_type": "markdown",
   "id": "ef31240d",
   "metadata": {
    "papermill": {
     "duration": 0.024891,
     "end_time": "2022-06-14T20:09:44.419269",
     "exception": false,
     "start_time": "2022-06-14T20:09:44.394378",
     "status": "completed"
    },
    "tags": []
   },
   "source": [
    "You are going to write a classifier that distinguishes between the number 3 and number 8."
   ]
  },
  {
   "cell_type": "code",
   "execution_count": 1,
   "id": "b15c8646",
   "metadata": {
    "execution": {
     "iopub.execute_input": "2022-06-14T20:09:44.480826Z",
     "iopub.status.busy": "2022-06-14T20:09:44.480184Z",
     "iopub.status.idle": "2022-06-14T20:09:44.490031Z",
     "shell.execute_reply": "2022-06-14T20:09:44.489535Z"
    },
    "papermill": {
     "duration": 0.043643,
     "end_time": "2022-06-14T20:09:44.490160",
     "exception": false,
     "start_time": "2022-06-14T20:09:44.446517",
     "status": "completed"
    },
    "tags": []
   },
   "outputs": [],
   "source": [
    "%load_ext autoreload\n",
    "%autoreload 2"
   ]
  },
  {
   "cell_type": "code",
   "execution_count": 2,
   "id": "22ef38dc",
   "metadata": {
    "execution": {
     "iopub.execute_input": "2022-06-14T20:09:44.542786Z",
     "iopub.status.busy": "2022-06-14T20:09:44.542197Z",
     "iopub.status.idle": "2022-06-14T20:09:45.105279Z",
     "shell.execute_reply": "2022-06-14T20:09:45.104608Z"
    },
    "papermill": {
     "duration": 0.590966,
     "end_time": "2022-06-14T20:09:45.105427",
     "exception": false,
     "start_time": "2022-06-14T20:09:44.514461",
     "status": "completed"
    },
    "tags": []
   },
   "outputs": [],
   "source": [
    "%matplotlib inline\n",
    "import numpy as np\n",
    "import matplotlib.pyplot as plt\n",
    "import pandas as pd"
   ]
  },
  {
   "cell_type": "markdown",
   "id": "ba036198",
   "metadata": {
    "papermill": {
     "duration": 0.024966,
     "end_time": "2022-06-14T20:09:45.155203",
     "exception": false,
     "start_time": "2022-06-14T20:09:45.130237",
     "status": "completed"
    },
    "tags": []
   },
   "source": [
    "From the command line run `pip install mnist`. This is a library that will help you bring down the mnist dataset. If you run this from a notebook, you need to put  `!pip install mnist` in a cell by itself."
   ]
  },
  {
   "cell_type": "code",
   "execution_count": 3,
   "id": "bb6ad8a1",
   "metadata": {
    "execution": {
     "iopub.execute_input": "2022-06-14T20:09:45.211776Z",
     "iopub.status.busy": "2022-06-14T20:09:45.211165Z",
     "iopub.status.idle": "2022-06-14T20:09:47.107242Z",
     "shell.execute_reply": "2022-06-14T20:09:47.107758Z"
    },
    "papermill": {
     "duration": 1.927523,
     "end_time": "2022-06-14T20:09:47.107918",
     "exception": false,
     "start_time": "2022-06-14T20:09:45.180395",
     "status": "completed"
    },
    "tags": []
   },
   "outputs": [
    {
     "name": "stdout",
     "output_type": "stream",
     "text": [
      "Collecting mnist\r\n"
     ]
    },
    {
     "name": "stdout",
     "output_type": "stream",
     "text": [
      "  Downloading mnist-0.2.2-py2.py3-none-any.whl (3.5 kB)\r\n",
      "Requirement already satisfied: numpy in /opt/hostedtoolcache/Python/3.6.15/x64/lib/python3.6/site-packages (from mnist) (1.19.5)\r\n"
     ]
    },
    {
     "name": "stdout",
     "output_type": "stream",
     "text": [
      "Installing collected packages: mnist\r\n",
      "Successfully installed mnist-0.2.2\r\n"
     ]
    }
   ],
   "source": [
    "!pip install mnist"
   ]
  },
  {
   "cell_type": "markdown",
   "id": "69df9c9a",
   "metadata": {
    "papermill": {
     "duration": 0.025021,
     "end_time": "2022-06-14T20:09:47.158115",
     "exception": false,
     "start_time": "2022-06-14T20:09:47.133094",
     "status": "completed"
    },
    "tags": []
   },
   "source": [
    "## Preparing the Data"
   ]
  },
  {
   "cell_type": "code",
   "execution_count": 4,
   "id": "7f69d806",
   "metadata": {
    "execution": {
     "iopub.execute_input": "2022-06-14T20:09:47.221147Z",
     "iopub.status.busy": "2022-06-14T20:09:47.217081Z",
     "iopub.status.idle": "2022-06-14T20:09:47.228936Z",
     "shell.execute_reply": "2022-06-14T20:09:47.228452Z"
    },
    "papermill": {
     "duration": 0.046353,
     "end_time": "2022-06-14T20:09:47.229062",
     "exception": false,
     "start_time": "2022-06-14T20:09:47.182709",
     "status": "completed"
    },
    "tags": []
   },
   "outputs": [],
   "source": [
    "import mnist"
   ]
  },
  {
   "cell_type": "code",
   "execution_count": 5,
   "id": "a411e44f",
   "metadata": {
    "execution": {
     "iopub.execute_input": "2022-06-14T20:09:47.293594Z",
     "iopub.status.busy": "2022-06-14T20:09:47.291308Z",
     "iopub.status.idle": "2022-06-14T20:09:47.947073Z",
     "shell.execute_reply": "2022-06-14T20:09:47.946483Z"
    },
    "papermill": {
     "duration": 0.693172,
     "end_time": "2022-06-14T20:09:47.947225",
     "exception": false,
     "start_time": "2022-06-14T20:09:47.254053",
     "status": "completed"
    },
    "tags": []
   },
   "outputs": [],
   "source": [
    "train_images = mnist.train_images()\n",
    "train_labels = mnist.train_labels()"
   ]
  },
  {
   "cell_type": "code",
   "execution_count": 6,
   "id": "dceab3a5",
   "metadata": {
    "execution": {
     "iopub.execute_input": "2022-06-14T20:09:48.008365Z",
     "iopub.status.busy": "2022-06-14T20:09:48.007744Z",
     "iopub.status.idle": "2022-06-14T20:09:48.020906Z",
     "shell.execute_reply": "2022-06-14T20:09:48.021380Z"
    },
    "papermill": {
     "duration": 0.046024,
     "end_time": "2022-06-14T20:09:48.021514",
     "exception": false,
     "start_time": "2022-06-14T20:09:47.975490",
     "status": "completed"
    },
    "tags": []
   },
   "outputs": [
    {
     "data": {
      "text/plain": [
       "((60000, 28, 28), (60000,))"
      ]
     },
     "execution_count": 6,
     "metadata": {},
     "output_type": "execute_result"
    }
   ],
   "source": [
    "train_images.shape, train_labels.shape"
   ]
  },
  {
   "cell_type": "code",
   "execution_count": 7,
   "id": "f50dc2bb",
   "metadata": {
    "execution": {
     "iopub.execute_input": "2022-06-14T20:09:48.075473Z",
     "iopub.status.busy": "2022-06-14T20:09:48.074886Z",
     "iopub.status.idle": "2022-06-14T20:09:48.325778Z",
     "shell.execute_reply": "2022-06-14T20:09:48.325147Z"
    },
    "papermill": {
     "duration": 0.279397,
     "end_time": "2022-06-14T20:09:48.325918",
     "exception": false,
     "start_time": "2022-06-14T20:09:48.046521",
     "status": "completed"
    },
    "tags": []
   },
   "outputs": [],
   "source": [
    "test_images = mnist.test_images()\n",
    "test_labels = mnist.test_labels()"
   ]
  },
  {
   "cell_type": "code",
   "execution_count": 8,
   "id": "fc38cf1b",
   "metadata": {
    "execution": {
     "iopub.execute_input": "2022-06-14T20:09:48.375643Z",
     "iopub.status.busy": "2022-06-14T20:09:48.375122Z",
     "iopub.status.idle": "2022-06-14T20:09:48.387187Z",
     "shell.execute_reply": "2022-06-14T20:09:48.387690Z"
    },
    "papermill": {
     "duration": 0.039071,
     "end_time": "2022-06-14T20:09:48.387815",
     "exception": false,
     "start_time": "2022-06-14T20:09:48.348744",
     "status": "completed"
    },
    "tags": []
   },
   "outputs": [
    {
     "data": {
      "text/plain": [
       "((10000, 28, 28), (10000,))"
      ]
     },
     "execution_count": 8,
     "metadata": {},
     "output_type": "execute_result"
    }
   ],
   "source": [
    "test_images.shape, test_labels.shape"
   ]
  },
  {
   "cell_type": "code",
   "execution_count": 9,
   "id": "f9ed8fe0",
   "metadata": {
    "execution": {
     "iopub.execute_input": "2022-06-14T20:09:48.441912Z",
     "iopub.status.busy": "2022-06-14T20:09:48.441370Z",
     "iopub.status.idle": "2022-06-14T20:09:48.567556Z",
     "shell.execute_reply": "2022-06-14T20:09:48.567125Z"
    },
    "papermill": {
     "duration": 0.157413,
     "end_time": "2022-06-14T20:09:48.567673",
     "exception": false,
     "start_time": "2022-06-14T20:09:48.410260",
     "status": "completed"
    },
    "tags": []
   },
   "outputs": [
    {
     "name": "stdout",
     "output_type": "stream",
     "text": [
      "2\n"
     ]
    },
    {
     "data": {
      "text/plain": [
       "<matplotlib.image.AxesImage at 0x7f5cd1078400>"
      ]
     },
     "execution_count": 9,
     "metadata": {},
     "output_type": "execute_result"
    },
    {
     "data": {
      "image/png": "[encoded data removed]",
      "text/plain": [
       "<Figure size 432x288 with 1 Axes>"
      ]
     },
     "metadata": {
      "needs_background": "light"
     },
     "output_type": "display_data"
    }
   ],
   "source": [
    "image_index = 7776 # You may select anything up to 60,000\n",
    "print(train_labels[image_index]) \n",
    "plt.imshow(train_images[image_index], cmap='Greys')"
   ]
  },
  {
   "cell_type": "markdown",
   "id": "a8d2388d",
   "metadata": {
    "papermill": {
     "duration": 0.023444,
     "end_time": "2022-06-14T20:09:48.614597",
     "exception": false,
     "start_time": "2022-06-14T20:09:48.591153",
     "status": "completed"
    },
    "tags": []
   },
   "source": [
    "## Filter data to get 3 and 8 out"
   ]
  },
  {
   "cell_type": "code",
   "execution_count": 10,
   "id": "776f7fc7",
   "metadata": {
    "execution": {
     "iopub.execute_input": "2022-06-14T20:09:48.666525Z",
     "iopub.status.busy": "2022-06-14T20:09:48.665920Z",
     "iopub.status.idle": "2022-06-14T20:09:48.683655Z",
     "shell.execute_reply": "2022-06-14T20:09:48.683221Z"
    },
    "papermill": {
     "duration": 0.045713,
     "end_time": "2022-06-14T20:09:48.683772",
     "exception": false,
     "start_time": "2022-06-14T20:09:48.638059",
     "status": "completed"
    },
    "tags": []
   },
   "outputs": [],
   "source": [
    "train_filter = np.where((train_labels == 3 ) | (train_labels == 8))\n",
    "test_filter = np.where((test_labels == 3) | (test_labels == 8))\n",
    "X_train, y_train = train_images[train_filter], train_labels[train_filter]\n",
    "X_test, y_test = test_images[test_filter], test_labels[test_filter]"
   ]
  },
  {
   "cell_type": "markdown",
   "id": "948f0b7e",
   "metadata": {
    "papermill": {
     "duration": 0.02807,
     "end_time": "2022-06-14T20:09:48.738033",
     "exception": false,
     "start_time": "2022-06-14T20:09:48.709963",
     "status": "completed"
    },
    "tags": []
   },
   "source": [
    "We normalize the pizel values in the 0 to 1 range"
   ]
  },
  {
   "cell_type": "code",
   "execution_count": 11,
   "id": "ee4c2166",
   "metadata": {
    "execution": {
     "iopub.execute_input": "2022-06-14T20:09:48.800881Z",
     "iopub.status.busy": "2022-06-14T20:09:48.800244Z",
     "iopub.status.idle": "2022-06-14T20:09:48.843636Z",
     "shell.execute_reply": "2022-06-14T20:09:48.844088Z"
    },
    "papermill": {
     "duration": 0.07767,
     "end_time": "2022-06-14T20:09:48.844273",
     "exception": false,
     "start_time": "2022-06-14T20:09:48.766603",
     "status": "completed"
    },
    "tags": []
   },
   "outputs": [],
   "source": [
    "X_train = X_train/255.\n",
    "X_test = X_test/255."
   ]
  },
  {
   "cell_type": "markdown",
   "id": "ddcf4fab",
   "metadata": {
    "papermill": {
     "duration": 0.023132,
     "end_time": "2022-06-14T20:09:48.891355",
     "exception": false,
     "start_time": "2022-06-14T20:09:48.868223",
     "status": "completed"
    },
    "tags": []
   },
   "source": [
    "And setup the labels as 1 (when the digit is 3) and 0 (when the digit is 8)"
   ]
  },
  {
   "cell_type": "code",
   "execution_count": 12,
   "id": "7dc908f2",
   "metadata": {
    "execution": {
     "iopub.execute_input": "2022-06-14T20:09:48.946151Z",
     "iopub.status.busy": "2022-06-14T20:09:48.941736Z",
     "iopub.status.idle": "2022-06-14T20:09:48.953902Z",
     "shell.execute_reply": "2022-06-14T20:09:48.952952Z"
    },
    "papermill": {
     "duration": 0.039335,
     "end_time": "2022-06-14T20:09:48.954181",
     "exception": false,
     "start_time": "2022-06-14T20:09:48.914846",
     "status": "completed"
    },
    "tags": []
   },
   "outputs": [],
   "source": [
    "y_train = 1*(y_train==3)\n",
    "y_test = 1*(y_test==3)"
   ]
  },
  {
   "cell_type": "code",
   "execution_count": 13,
   "id": "01e4e969",
   "metadata": {
    "execution": {
     "iopub.execute_input": "2022-06-14T20:09:49.012968Z",
     "iopub.status.busy": "2022-06-14T20:09:49.012264Z",
     "iopub.status.idle": "2022-06-14T20:09:49.026008Z",
     "shell.execute_reply": "2022-06-14T20:09:49.025575Z"
    },
    "papermill": {
     "duration": 0.044572,
     "end_time": "2022-06-14T20:09:49.026111",
     "exception": false,
     "start_time": "2022-06-14T20:09:48.981539",
     "status": "completed"
    },
    "tags": []
   },
   "outputs": [
    {
     "data": {
      "text/plain": [
       "((11982, 28, 28), (1984, 28, 28))"
      ]
     },
     "execution_count": 13,
     "metadata": {},
     "output_type": "execute_result"
    }
   ],
   "source": [
    "X_train.shape, X_test.shape"
   ]
  },
  {
   "cell_type": "markdown",
   "id": "5ccf3f85",
   "metadata": {
    "papermill": {
     "duration": 0.023639,
     "end_time": "2022-06-14T20:09:49.073025",
     "exception": false,
     "start_time": "2022-06-14T20:09:49.049386",
     "status": "completed"
    },
    "tags": []
   },
   "source": [
    "We reshape the data to flatten the image pixels into a set of features or co-variates:"
   ]
  },
  {
   "cell_type": "code",
   "execution_count": 14,
   "id": "5286a4a3",
   "metadata": {
    "execution": {
     "iopub.execute_input": "2022-06-14T20:09:49.124935Z",
     "iopub.status.busy": "2022-06-14T20:09:49.124374Z",
     "iopub.status.idle": "2022-06-14T20:09:49.140005Z",
     "shell.execute_reply": "2022-06-14T20:09:49.139579Z"
    },
    "papermill": {
     "duration": 0.043265,
     "end_time": "2022-06-14T20:09:49.140115",
     "exception": false,
     "start_time": "2022-06-14T20:09:49.096850",
     "status": "completed"
    },
    "tags": []
   },
   "outputs": [
    {
     "data": {
      "text/plain": [
       "((11982, 784), (1984, 784))"
      ]
     },
     "execution_count": 14,
     "metadata": {},
     "output_type": "execute_result"
    }
   ],
   "source": [
    "X_train = X_train.reshape(X_train.shape[0], -1)\n",
    "X_test = X_test.reshape(X_test.shape[0], -1)\n",
    "X_train.shape, X_test.shape"
   ]
  },
  {
   "cell_type": "code",
   "execution_count": 15,
   "id": "73c5f88a",
   "metadata": {
    "execution": {
     "iopub.execute_input": "2022-06-14T20:09:49.193050Z",
     "iopub.status.busy": "2022-06-14T20:09:49.192253Z",
     "iopub.status.idle": "2022-06-14T20:09:49.209985Z",
     "shell.execute_reply": "2022-06-14T20:09:49.209398Z"
    },
    "papermill": {
     "duration": 0.046156,
     "end_time": "2022-06-14T20:09:49.210108",
     "exception": false,
     "start_time": "2022-06-14T20:09:49.163952",
     "status": "completed"
    },
    "tags": []
   },
   "outputs": [],
   "source": [
    "#Impoting functions from 'Kudzu'\n",
    "from kudzu.model import Model\n",
    "from kudzu.train import Learner\n",
    "from kudzu.optim import GD\n",
    "from kudzu.data import Data, Sampler,Dataloader\n",
    "\n",
    "from kudzu.callbacks import AccCallback\n",
    "from kudzu.callbacks import ClfCallback\n",
    "\n",
    "from kudzu.loss import MSE\n",
    "\n",
    "from kudzu.layer import Sigmoid,Relu\n",
    "from kudzu.layer import Affine"
   ]
  },
  {
   "cell_type": "markdown",
   "id": "bc01172a",
   "metadata": {
    "papermill": {
     "duration": 0.026843,
     "end_time": "2022-06-14T20:09:49.264073",
     "exception": false,
     "start_time": "2022-06-14T20:09:49.237230",
     "status": "completed"
    },
    "tags": []
   },
   "source": [
    "### Let us create a `Config` class, to store important parameters. \n",
    "This class essentially plays the role of a dictionary."
   ]
  },
  {
   "cell_type": "code",
   "execution_count": 16,
   "id": "978281aa",
   "metadata": {
    "execution": {
     "iopub.execute_input": "2022-06-14T20:09:49.326598Z",
     "iopub.status.busy": "2022-06-14T20:09:49.325963Z",
     "iopub.status.idle": "2022-06-14T20:09:49.336072Z",
     "shell.execute_reply": "2022-06-14T20:09:49.335585Z"
    },
    "papermill": {
     "duration": 0.045364,
     "end_time": "2022-06-14T20:09:49.336217",
     "exception": false,
     "start_time": "2022-06-14T20:09:49.290853",
     "status": "completed"
    },
    "tags": []
   },
   "outputs": [],
   "source": [
    "class Config:\n",
    "    pass\n",
    "config = Config()\n",
    "config.lr = 0.001\n",
    "config.num_epochs = 250\n",
    "config.bs = 50"
   ]
  },
  {
   "cell_type": "markdown",
   "id": "1385fa59",
   "metadata": {
    "papermill": {
     "duration": 0.026765,
     "end_time": "2022-06-14T20:09:49.390346",
     "exception": false,
     "start_time": "2022-06-14T20:09:49.363581",
     "status": "completed"
    },
    "tags": []
   },
   "source": [
    "### Running Models with the Training data\n",
    "Details about the network layers:\n",
    "- A first affine layer has 784 inputs and does 100 affine transforms. These are followed by a Relu\n",
    "- A second affine layer has 100 inputs from the 100 activations of the past layer, and does 100 affine transforms. These are followed by a Relu\n",
    "- A third affine layer has 100 activations and does 2 affine transformations to create an embedding for visualization. There is no non-linearity here.\n",
    "- A final \"logistic regression\" which has an affine transform from 2 inputs to 1 output, which is squeezed through a sigmoid.\n"
   ]
  },
  {
   "cell_type": "code",
   "execution_count": 17,
   "id": "2b9c66db",
   "metadata": {
    "execution": {
     "iopub.execute_input": "2022-06-14T20:09:49.448386Z",
     "iopub.status.busy": "2022-06-14T20:09:49.447763Z",
     "iopub.status.idle": "2022-06-14T20:09:49.461631Z",
     "shell.execute_reply": "2022-06-14T20:09:49.462194Z"
    },
    "papermill": {
     "duration": 0.045172,
     "end_time": "2022-06-14T20:09:49.462329",
     "exception": false,
     "start_time": "2022-06-14T20:09:49.417157",
     "status": "completed"
    },
    "tags": []
   },
   "outputs": [],
   "source": [
    "data = Data(X_train, y_train.reshape(-1,1))\n",
    "sampler = Sampler(data, config.bs, shuffle=True)\n",
    "\n",
    "dl = Dataloader(data, sampler)\n",
    "\n",
    "opt = GD(config.lr)\n",
    "loss = MSE()"
   ]
  },
  {
   "cell_type": "code",
   "execution_count": 18,
   "id": "b275e4c2",
   "metadata": {
    "execution": {
     "iopub.execute_input": "2022-06-14T20:09:49.524391Z",
     "iopub.status.busy": "2022-06-14T20:09:49.523716Z",
     "iopub.status.idle": "2022-06-14T20:09:49.534851Z",
     "shell.execute_reply": "2022-06-14T20:09:49.534360Z"
    },
    "papermill": {
     "duration": 0.045798,
     "end_time": "2022-06-14T20:09:49.534972",
     "exception": false,
     "start_time": "2022-06-14T20:09:49.489174",
     "status": "completed"
    },
    "tags": []
   },
   "outputs": [],
   "source": [
    "training_data_x = X_train\n",
    "testing_data_x = X_test\n",
    "training_data_y = y_train.reshape(-1,1)\n",
    "testing_data_y = y_test.reshape(-1,1)"
   ]
  },
  {
   "cell_type": "code",
   "execution_count": 19,
   "id": "76951160",
   "metadata": {
    "execution": {
     "iopub.execute_input": "2022-06-14T20:09:49.601663Z",
     "iopub.status.busy": "2022-06-14T20:09:49.601064Z",
     "iopub.status.idle": "2022-06-14T20:09:49.611871Z",
     "shell.execute_reply": "2022-06-14T20:09:49.611293Z"
    },
    "papermill": {
     "duration": 0.050194,
     "end_time": "2022-06-14T20:09:49.611984",
     "exception": false,
     "start_time": "2022-06-14T20:09:49.561790",
     "status": "completed"
    },
    "tags": []
   },
   "outputs": [
    {
     "name": "stdout",
     "output_type": "stream",
     "text": [
      "xavier\n",
      "xavier\n",
      "xavier\n",
      "xavier\n",
      "xavier\n"
     ]
    }
   ],
   "source": [
    "layers = [Affine(\"first\", 784, 100), Relu(\"first\"), Affine(\"second\", 100, 100), Relu(\"second\"), Affine(\"third\", 100, 2), Affine(\"last\", 2, 1), Sigmoid(\"last\")]\n",
    "model_nn = Model(layers)\n",
    "model_lr = Model([Affine(\"logits\", 784, 1), Sigmoid(\"sigmoid\")])"
   ]
  },
  {
   "cell_type": "code",
   "execution_count": 20,
   "id": "6eede77a",
   "metadata": {
    "execution": {
     "iopub.execute_input": "2022-06-14T20:09:49.671492Z",
     "iopub.status.busy": "2022-06-14T20:09:49.670886Z",
     "iopub.status.idle": "2022-06-14T20:09:49.683924Z",
     "shell.execute_reply": "2022-06-14T20:09:49.683361Z"
    },
    "papermill": {
     "duration": 0.044792,
     "end_time": "2022-06-14T20:09:49.684054",
     "exception": false,
     "start_time": "2022-06-14T20:09:49.639262",
     "status": "completed"
    },
    "tags": []
   },
   "outputs": [],
   "source": [
    "nn_learner = Learner(loss, model_nn, opt, config.num_epochs)\n",
    "acc_nn = ClfCallback(nn_learner, config.bs, training_data_x , testing_data_x, training_data_y, testing_data_y)\n",
    "nn_learner.set_callbacks([acc_nn])"
   ]
  },
  {
   "cell_type": "code",
   "execution_count": 21,
   "id": "877b6cc7",
   "metadata": {
    "execution": {
     "iopub.execute_input": "2022-06-14T20:09:49.745889Z",
     "iopub.status.busy": "2022-06-14T20:09:49.745283Z",
     "iopub.status.idle": "2022-06-14T20:09:49.758278Z",
     "shell.execute_reply": "2022-06-14T20:09:49.757788Z"
    },
    "papermill": {
     "duration": 0.045591,
     "end_time": "2022-06-14T20:09:49.758399",
     "exception": false,
     "start_time": "2022-06-14T20:09:49.712808",
     "status": "completed"
    },
    "tags": []
   },
   "outputs": [],
   "source": [
    "lr_learner = Learner(loss, model_lr, opt, config.num_epochs)\n",
    "acc_lr = ClfCallback(lr_learner, config.bs, training_data_x , testing_data_x, training_data_y, testing_data_y)\n",
    "lr_learner.set_callbacks([acc_lr])"
   ]
  },
  {
   "cell_type": "code",
   "execution_count": 22,
   "id": "d9b133c3",
   "metadata": {
    "execution": {
     "iopub.execute_input": "2022-06-14T20:09:49.820701Z",
     "iopub.status.busy": "2022-06-14T20:09:49.820068Z",
     "iopub.status.idle": "2022-06-14T20:11:13.286638Z",
     "shell.execute_reply": "2022-06-14T20:11:13.287204Z"
    },
    "papermill": {
     "duration": 83.501207,
     "end_time": "2022-06-14T20:11:13.287351",
     "exception": false,
     "start_time": "2022-06-14T20:09:49.786144",
     "status": "completed"
    },
    "tags": []
   },
   "outputs": [
    {
     "name": "stdout",
     "output_type": "stream",
     "text": [
      "Epoch 0, Loss 0.2318\n",
      "Training Accuracy: 0.7256, Testing Accuracy: 0.7505\n",
      "\n"
     ]
    },
    {
     "name": "stdout",
     "output_type": "stream",
     "text": [
      "Epoch 10, Loss 0.0742\n",
      "Training Accuracy: 0.9236, Testing Accuracy: 0.9320\n",
      "\n"
     ]
    },
    {
     "name": "stdout",
     "output_type": "stream",
     "text": [
      "Epoch 20, Loss 0.0487\n",
      "Training Accuracy: 0.9489, Testing Accuracy: 0.9521\n",
      "\n"
     ]
    },
    {
     "name": "stdout",
     "output_type": "stream",
     "text": [
      "Epoch 30, Loss 0.0395\n",
      "Training Accuracy: 0.9578, Testing Accuracy: 0.9617\n",
      "\n"
     ]
    },
    {
     "name": "stdout",
     "output_type": "stream",
     "text": [
      "Epoch 40, Loss 0.0349\n",
      "Training Accuracy: 0.9624, Testing Accuracy: 0.9647\n",
      "\n"
     ]
    },
    {
     "name": "stdout",
     "output_type": "stream",
     "text": [
      "Epoch 50, Loss 0.032\n",
      "Training Accuracy: 0.9645, Testing Accuracy: 0.9652\n",
      "\n"
     ]
    },
    {
     "name": "stdout",
     "output_type": "stream",
     "text": [
      "Epoch 60, Loss 0.0299\n",
      "Training Accuracy: 0.9665, Testing Accuracy: 0.9667\n",
      "\n"
     ]
    },
    {
     "name": "stdout",
     "output_type": "stream",
     "text": [
      "Epoch 70, Loss 0.0284\n",
      "Training Accuracy: 0.9674, Testing Accuracy: 0.9672\n",
      "\n"
     ]
    },
    {
     "name": "stdout",
     "output_type": "stream",
     "text": [
      "Epoch 80, Loss 0.0272\n",
      "Training Accuracy: 0.9686, Testing Accuracy: 0.9667\n",
      "\n"
     ]
    },
    {
     "name": "stdout",
     "output_type": "stream",
     "text": [
      "Epoch 90, Loss 0.0262\n",
      "Training Accuracy: 0.9694, Testing Accuracy: 0.9667\n",
      "\n"
     ]
    },
    {
     "name": "stdout",
     "output_type": "stream",
     "text": [
      "Epoch 100, Loss 0.0253\n",
      "Training Accuracy: 0.9707, Testing Accuracy: 0.9672\n",
      "\n"
     ]
    },
    {
     "name": "stdout",
     "output_type": "stream",
     "text": [
      "Epoch 110, Loss 0.0245\n",
      "Training Accuracy: 0.9713, Testing Accuracy: 0.9672\n",
      "\n"
     ]
    },
    {
     "name": "stdout",
     "output_type": "stream",
     "text": [
      "Epoch 120, Loss 0.0238\n",
      "Training Accuracy: 0.9719, Testing Accuracy: 0.9682\n",
      "\n"
     ]
    },
    {
     "name": "stdout",
     "output_type": "stream",
     "text": [
      "Epoch 130, Loss 0.0232\n",
      "Training Accuracy: 0.9727, Testing Accuracy: 0.9698\n",
      "\n"
     ]
    },
    {
     "name": "stdout",
     "output_type": "stream",
     "text": [
      "Epoch 140, Loss 0.0226\n",
      "Training Accuracy: 0.9735, Testing Accuracy: 0.9682\n",
      "\n"
     ]
    },
    {
     "name": "stdout",
     "output_type": "stream",
     "text": [
      "Epoch 150, Loss 0.022\n",
      "Training Accuracy: 0.9743, Testing Accuracy: 0.9693\n",
      "\n"
     ]
    },
    {
     "name": "stdout",
     "output_type": "stream",
     "text": [
      "Epoch 160, Loss 0.0215\n",
      "Training Accuracy: 0.9756, Testing Accuracy: 0.9693\n",
      "\n"
     ]
    },
    {
     "name": "stdout",
     "output_type": "stream",
     "text": [
      "Epoch 170, Loss 0.021\n",
      "Training Accuracy: 0.9768, Testing Accuracy: 0.9693\n",
      "\n"
     ]
    },
    {
     "name": "stdout",
     "output_type": "stream",
     "text": [
      "Epoch 180, Loss 0.0205\n",
      "Training Accuracy: 0.9773, Testing Accuracy: 0.9713\n",
      "\n"
     ]
    },
    {
     "name": "stdout",
     "output_type": "stream",
     "text": [
      "Epoch 190, Loss 0.02\n",
      "Training Accuracy: 0.9778, Testing Accuracy: 0.9723\n",
      "\n"
     ]
    },
    {
     "name": "stdout",
     "output_type": "stream",
     "text": [
      "Epoch 200, Loss 0.0196\n",
      "Training Accuracy: 0.9786, Testing Accuracy: 0.9733\n",
      "\n"
     ]
    },
    {
     "name": "stdout",
     "output_type": "stream",
     "text": [
      "Epoch 210, Loss 0.0191\n",
      "Training Accuracy: 0.9787, Testing Accuracy: 0.9733\n",
      "\n"
     ]
    },
    {
     "name": "stdout",
     "output_type": "stream",
     "text": [
      "Epoch 220, Loss 0.0187\n",
      "Training Accuracy: 0.9793, Testing Accuracy: 0.9733\n",
      "\n"
     ]
    },
    {
     "name": "stdout",
     "output_type": "stream",
     "text": [
      "Epoch 230, Loss 0.0183\n",
      "Training Accuracy: 0.9801, Testing Accuracy: 0.9733\n",
      "\n"
     ]
    },
    {
     "name": "stdout",
     "output_type": "stream",
     "text": [
      "Epoch 240, Loss 0.0179\n",
      "Training Accuracy: 0.9804, Testing Accuracy: 0.9738\n",
      "\n"
     ]
    },
    {
     "data": {
      "text/plain": [
       "0.03858412902787689"
      ]
     },
     "execution_count": 22,
     "metadata": {},
     "output_type": "execute_result"
    }
   ],
   "source": [
    "nn_learner.train_loop(dl)"
   ]
  },
  {
   "cell_type": "code",
   "execution_count": 23,
   "id": "e0163366",
   "metadata": {
    "execution": {
     "iopub.execute_input": "2022-06-14T20:11:13.365967Z",
     "iopub.status.busy": "2022-06-14T20:11:13.365364Z",
     "iopub.status.idle": "2022-06-14T20:11:28.579882Z",
     "shell.execute_reply": "2022-06-14T20:11:28.580746Z"
    },
    "papermill": {
     "duration": 15.259254,
     "end_time": "2022-06-14T20:11:28.580902",
     "exception": false,
     "start_time": "2022-06-14T20:11:13.321648",
     "status": "completed"
    },
    "tags": []
   },
   "outputs": [
    {
     "name": "stdout",
     "output_type": "stream",
     "text": [
      "Epoch 0, Loss 0.239\n",
      "Training Accuracy: 0.7052, Testing Accuracy: 0.7122\n",
      "\n"
     ]
    },
    {
     "name": "stdout",
     "output_type": "stream",
     "text": [
      "Epoch 10, Loss 0.1009\n",
      "Training Accuracy: 0.9152, Testing Accuracy: 0.9264\n",
      "\n"
     ]
    },
    {
     "name": "stdout",
     "output_type": "stream",
     "text": [
      "Epoch 20, Loss 0.0779\n",
      "Training Accuracy: 0.9314, Testing Accuracy: 0.9375\n",
      "\n"
     ]
    },
    {
     "name": "stdout",
     "output_type": "stream",
     "text": [
      "Epoch 30, Loss 0.0673\n",
      "Training Accuracy: 0.9387, Testing Accuracy: 0.9486\n",
      "\n"
     ]
    },
    {
     "name": "stdout",
     "output_type": "stream",
     "text": [
      "Epoch 40, Loss 0.0609\n",
      "Training Accuracy: 0.9430, Testing Accuracy: 0.9516\n",
      "\n"
     ]
    },
    {
     "name": "stdout",
     "output_type": "stream",
     "text": [
      "Epoch 50, Loss 0.0565\n",
      "Training Accuracy: 0.9453, Testing Accuracy: 0.9551\n",
      "\n"
     ]
    },
    {
     "name": "stdout",
     "output_type": "stream",
     "text": [
      "Epoch 60, Loss 0.0533\n",
      "Training Accuracy: 0.9481, Testing Accuracy: 0.9582\n",
      "\n"
     ]
    },
    {
     "name": "stdout",
     "output_type": "stream",
     "text": [
      "Epoch 70, Loss 0.0508\n",
      "Training Accuracy: 0.9499, Testing Accuracy: 0.9597\n",
      "\n"
     ]
    },
    {
     "name": "stdout",
     "output_type": "stream",
     "text": [
      "Epoch 80, Loss 0.0488\n",
      "Training Accuracy: 0.9518, Testing Accuracy: 0.9627\n",
      "\n"
     ]
    },
    {
     "name": "stdout",
     "output_type": "stream",
     "text": [
      "Epoch 90, Loss 0.0471\n",
      "Training Accuracy: 0.9537, Testing Accuracy: 0.9637\n",
      "\n"
     ]
    },
    {
     "name": "stdout",
     "output_type": "stream",
     "text": [
      "Epoch 100, Loss 0.0457\n",
      "Training Accuracy: 0.9545, Testing Accuracy: 0.9637\n",
      "\n"
     ]
    },
    {
     "name": "stdout",
     "output_type": "stream",
     "text": [
      "Epoch 110, Loss 0.0445\n",
      "Training Accuracy: 0.9554, Testing Accuracy: 0.9642\n",
      "\n"
     ]
    },
    {
     "name": "stdout",
     "output_type": "stream",
     "text": [
      "Epoch 120, Loss 0.0435\n",
      "Training Accuracy: 0.9564, Testing Accuracy: 0.9647\n",
      "\n"
     ]
    },
    {
     "name": "stdout",
     "output_type": "stream",
     "text": [
      "Epoch 130, Loss 0.0426\n",
      "Training Accuracy: 0.9575, Testing Accuracy: 0.9647\n",
      "\n"
     ]
    },
    {
     "name": "stdout",
     "output_type": "stream",
     "text": [
      "Epoch 140, Loss 0.0418\n",
      "Training Accuracy: 0.9587, Testing Accuracy: 0.9647\n",
      "\n"
     ]
    },
    {
     "name": "stdout",
     "output_type": "stream",
     "text": [
      "Epoch 150, Loss 0.041\n",
      "Training Accuracy: 0.9589, Testing Accuracy: 0.9652\n",
      "\n"
     ]
    },
    {
     "name": "stdout",
     "output_type": "stream",
     "text": [
      "Epoch 160, Loss 0.0404\n",
      "Training Accuracy: 0.9594, Testing Accuracy: 0.9652\n",
      "\n"
     ]
    },
    {
     "name": "stdout",
     "output_type": "stream",
     "text": [
      "Epoch 170, Loss 0.0398\n",
      "Training Accuracy: 0.9599, Testing Accuracy: 0.9657\n",
      "\n"
     ]
    },
    {
     "name": "stdout",
     "output_type": "stream",
     "text": [
      "Epoch 180, Loss 0.0392\n",
      "Training Accuracy: 0.9609, Testing Accuracy: 0.9662\n",
      "\n"
     ]
    },
    {
     "name": "stdout",
     "output_type": "stream",
     "text": [
      "Epoch 190, Loss 0.0387\n",
      "Training Accuracy: 0.9613, Testing Accuracy: 0.9662\n",
      "\n"
     ]
    },
    {
     "name": "stdout",
     "output_type": "stream",
     "text": [
      "Epoch 200, Loss 0.0382\n",
      "Training Accuracy: 0.9616, Testing Accuracy: 0.9667\n",
      "\n"
     ]
    },
    {
     "name": "stdout",
     "output_type": "stream",
     "text": [
      "Epoch 210, Loss 0.0378\n",
      "Training Accuracy: 0.9617, Testing Accuracy: 0.9667\n",
      "\n"
     ]
    },
    {
     "name": "stdout",
     "output_type": "stream",
     "text": [
      "Epoch 220, Loss 0.0374\n",
      "Training Accuracy: 0.9619, Testing Accuracy: 0.9677\n",
      "\n"
     ]
    },
    {
     "name": "stdout",
     "output_type": "stream",
     "text": [
      "Epoch 230, Loss 0.037\n",
      "Training Accuracy: 0.9622, Testing Accuracy: 0.9682\n",
      "\n"
     ]
    },
    {
     "name": "stdout",
     "output_type": "stream",
     "text": [
      "Epoch 240, Loss 0.0367\n",
      "Training Accuracy: 0.9626, Testing Accuracy: 0.9682\n",
      "\n"
     ]
    },
    {
     "data": {
      "text/plain": [
       "0.03373621060082585"
      ]
     },
     "execution_count": 23,
     "metadata": {},
     "output_type": "execute_result"
    }
   ],
   "source": [
    "lr_learner.train_loop(dl)"
   ]
  },
  {
   "cell_type": "code",
   "execution_count": 24,
   "id": "ca410940",
   "metadata": {
    "execution": {
     "iopub.execute_input": "2022-06-14T20:11:28.677859Z",
     "iopub.status.busy": "2022-06-14T20:11:28.677241Z",
     "iopub.status.idle": "2022-06-14T20:11:28.899658Z",
     "shell.execute_reply": "2022-06-14T20:11:28.899180Z"
    },
    "papermill": {
     "duration": 0.277512,
     "end_time": "2022-06-14T20:11:28.899793",
     "exception": false,
     "start_time": "2022-06-14T20:11:28.622281",
     "status": "completed"
    },
    "tags": []
   },
   "outputs": [
    {
     "data": {
      "text/plain": [
       "<matplotlib.legend.Legend at 0x7f5cd0bd9b00>"
      ]
     },
     "execution_count": 24,
     "metadata": {},
     "output_type": "execute_result"
    },
    {
     "data": {
      "image/png": "[encoded data removed]",
      "text/plain": [
       "<Figure size 1080x720 with 1 Axes>"
      ]
     },
     "metadata": {
      "needs_background": "light"
     },
     "output_type": "display_data"
    }
   ],
   "source": [
    "#comparing the results of NN and LR\n",
    "plt.figure(figsize=(15,10))\n",
    "\n",
    "# Neural Network plots\n",
    "plt.plot(acc_nn.accuracies, 'r-', label = \"Training Accuracies - NN\")\n",
    "plt.plot(acc_nn.test_accuracies, 'g-', label = \"Testing Accuracies - NN\")\n",
    "\n",
    "# Logistic Regression plots\n",
    "plt.plot(acc_lr.accuracies, 'k-', label = \"Training Accuracies - LR\")\n",
    "plt.plot(acc_lr.test_accuracies, 'b-', label = \"Testing Accuracies - LR\")\n",
    "plt.legend()"
   ]
  },
  {
   "cell_type": "markdown",
   "id": "80dfb35c",
   "metadata": {
    "papermill": {
     "duration": 0.041872,
     "end_time": "2022-06-14T20:11:28.983908",
     "exception": false,
     "start_time": "2022-06-14T20:11:28.942036",
     "status": "completed"
    },
    "tags": []
   },
   "source": [
    "#### Plotting the outputs of this layer of the NN.\n"
   ]
  },
  {
   "cell_type": "code",
   "execution_count": 25,
   "id": "45eb2ff5",
   "metadata": {
    "execution": {
     "iopub.execute_input": "2022-06-14T20:11:29.072654Z",
     "iopub.status.busy": "2022-06-14T20:11:29.072009Z",
     "iopub.status.idle": "2022-06-14T20:11:29.095311Z",
     "shell.execute_reply": "2022-06-14T20:11:29.095799Z"
    },
    "papermill": {
     "duration": 0.070107,
     "end_time": "2022-06-14T20:11:29.095958",
     "exception": false,
     "start_time": "2022-06-14T20:11:29.025851",
     "status": "completed"
    },
    "tags": []
   },
   "outputs": [],
   "source": [
    "new_model = Model(layers[:-2])\n",
    "testing_plot = new_model(testing_data_x)"
   ]
  },
  {
   "cell_type": "code",
   "execution_count": 26,
   "id": "4c0a5485",
   "metadata": {
    "execution": {
     "iopub.execute_input": "2022-06-14T20:11:29.185065Z",
     "iopub.status.busy": "2022-06-14T20:11:29.184442Z",
     "iopub.status.idle": "2022-06-14T20:11:29.400959Z",
     "shell.execute_reply": "2022-06-14T20:11:29.399981Z"
    },
    "papermill": {
     "duration": 0.262958,
     "end_time": "2022-06-14T20:11:29.401144",
     "exception": false,
     "start_time": "2022-06-14T20:11:29.138186",
     "status": "completed"
    },
    "tags": []
   },
   "outputs": [
    {
     "data": {
      "text/plain": [
       "Text(0.5, 1.0, 'Outputs')"
      ]
     },
     "execution_count": 26,
     "metadata": {},
     "output_type": "execute_result"
    },
    {
     "data": {
      "image/png": "[encoded data removed]",
      "text/plain": [
       "<Figure size 576x504 with 1 Axes>"
      ]
     },
     "metadata": {
      "needs_background": "light"
     },
     "output_type": "display_data"
    }
   ],
   "source": [
    "# Plotting the scatter plot of points and color coding by class\n",
    "plt.figure(figsize=(8,7))\n",
    "plt.scatter(testing_plot[:,0], testing_plot[:,1], alpha = 0.1, c = y_test.ravel());\n",
    "plt.title('Outputs')"
   ]
  },
  {
   "cell_type": "markdown",
   "id": "a74fcf8f",
   "metadata": {
    "papermill": {
     "duration": 0.039917,
     "end_time": "2022-06-14T20:11:29.482861",
     "exception": false,
     "start_time": "2022-06-14T20:11:29.442944",
     "status": "completed"
    },
    "tags": []
   },
   "source": [
    "Probability contours"
   ]
  },
  {
   "cell_type": "code",
   "execution_count": 27,
   "id": "d0afc8e3",
   "metadata": {
    "execution": {
     "iopub.execute_input": "2022-06-14T20:11:29.566963Z",
     "iopub.status.busy": "2022-06-14T20:11:29.566263Z",
     "iopub.status.idle": "2022-06-14T20:11:29.577762Z",
     "shell.execute_reply": "2022-06-14T20:11:29.577242Z"
    },
    "papermill": {
     "duration": 0.055119,
     "end_time": "2022-06-14T20:11:29.577889",
     "exception": false,
     "start_time": "2022-06-14T20:11:29.522770",
     "status": "completed"
    },
    "tags": []
   },
   "outputs": [],
   "source": [
    "model_prob = Model(layers[-2:]) "
   ]
  },
  {
   "cell_type": "code",
   "execution_count": 28,
   "id": "9b96e238",
   "metadata": {
    "execution": {
     "iopub.execute_input": "2022-06-14T20:11:29.708757Z",
     "iopub.status.busy": "2022-06-14T20:11:29.708122Z",
     "iopub.status.idle": "2022-06-14T20:11:29.722786Z",
     "shell.execute_reply": "2022-06-14T20:11:29.723209Z"
    },
    "papermill": {
     "duration": 0.099211,
     "end_time": "2022-06-14T20:11:29.723349",
     "exception": false,
     "start_time": "2022-06-14T20:11:29.624138",
     "status": "completed"
    },
    "tags": []
   },
   "outputs": [],
   "source": [
    "#creating the x and y ranges according to the above generated plot.\n",
    "x_range = np.linspace(-4, 1, 100) \n",
    "y_range = np.linspace(-6, 6, 100) \n",
    "x_grid, y_grid = np.meshgrid(x_range, y_range) # x_grid and y_grig are of size 100 X 100\n",
    "\n",
    "# converting x_grid and y_grid to continuous arrays\n",
    "x_gridflat = np.ravel(x_grid)\n",
    "y_gridflat = np.ravel(y_grid)\n",
    "\n",
    "# The last layer of the current model takes two columns as input. Hence transpose of np.vstack() is required.\n",
    "X = np.vstack((x_gridflat, y_gridflat)).T\n",
    "\n",
    "prob_contour = model_prob(X).reshape(100,100) "
   ]
  },
  {
   "cell_type": "code",
   "execution_count": 29,
   "id": "da72499a",
   "metadata": {
    "execution": {
     "iopub.execute_input": "2022-06-14T20:11:29.819056Z",
     "iopub.status.busy": "2022-06-14T20:11:29.818433Z",
     "iopub.status.idle": "2022-06-14T20:11:30.076994Z",
     "shell.execute_reply": "2022-06-14T20:11:30.077382Z"
    },
    "papermill": {
     "duration": 0.308626,
     "end_time": "2022-06-14T20:11:30.077519",
     "exception": false,
     "start_time": "2022-06-14T20:11:29.768893",
     "status": "completed"
    },
    "tags": []
   },
   "outputs": [
    {
     "data": {
      "image/png": "[encoded data removed]",
      "text/plain": [
       "<Figure size 720x648 with 1 Axes>"
      ]
     },
     "metadata": {
      "needs_background": "light"
     },
     "output_type": "display_data"
    }
   ],
   "source": [
    "plt.figure(figsize=(10,9))\n",
    "plt.scatter(testing_plot[:,0], testing_plot[:,1], alpha = 0.1, c = y_test.ravel())\n",
    "contours = plt.contour(x_grid,y_grid,prob_contour)\n",
    "plt.title('Probability Contours')\n",
    "plt.clabel(contours, inline = True );"
   ]
  },
  {
   "cell_type": "code",
   "execution_count": null,
   "id": "e81b4ac7",
   "metadata": {
    "papermill": {
     "duration": 0.042752,
     "end_time": "2022-06-14T20:11:30.163485",
     "exception": false,
     "start_time": "2022-06-14T20:11:30.120733",
     "status": "completed"
    },
    "tags": []
   },
   "outputs": [],
   "source": []
  }
 ],
 "metadata": {
  "kernelspec": {
   "display_name": "Python 3",
   "language": "python",
   "name": "python3"
  },
  "language_info": {
   "codemirror_mode": {
    "name": "ipython",
    "version": 3
   },
   "file_extension": ".py",
   "mimetype": "text/x-python",
   "name": "python",
   "nbconvert_exporter": "python",
   "pygments_lexer": "ipython3",
   "version": "3.6.15"
  },
  "papermill": {
   "default_parameters": {},
   "duration": 107.408213,
   "end_time": "2022-06-14T20:11:30.625968",
   "environment_variables": {},
   "exception": null,
   "input_path": "2020-08-11-part2.ipynb",
   "output_path": "2020-08-11-part2.ipynb",
   "parameters": {},
   "start_time": "2022-06-14T20:09:43.217755",
   "version": "2.3.3"
  }
 },
 "nbformat": 4,
 "nbformat_minor": 5
}