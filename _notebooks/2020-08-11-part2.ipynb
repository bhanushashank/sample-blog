{
 "cells": [
  {
   "cell_type": "markdown",
   "id": "98380cd3",
   "metadata": {
    "papermill": {
     "duration": 0.034826,
     "end_time": "2022-07-19T00:47:02.721685",
     "exception": false,
     "start_time": "2022-07-19T00:47:02.686859",
     "status": "completed"
    },
    "tags": []
   },
   "source": [
    "# Distinguish Your Own Digits (DYOD)"
   ]
  },
  {
   "cell_type": "markdown",
   "id": "ef31240d",
   "metadata": {
    "papermill": {
     "duration": 0.027404,
     "end_time": "2022-07-19T00:47:02.776983",
     "exception": false,
     "start_time": "2022-07-19T00:47:02.749579",
     "status": "completed"
    },
    "tags": []
   },
   "source": [
    "You are going to write a classifier that distinguishes between the number 3 and number 8."
   ]
  },
  {
   "cell_type": "code",
   "execution_count": 1,
   "id": "b15c8646",
   "metadata": {
    "execution": {
     "iopub.execute_input": "2022-07-19T00:47:02.843591Z",
     "iopub.status.busy": "2022-07-19T00:47:02.842852Z",
     "iopub.status.idle": "2022-07-19T00:47:02.856831Z",
     "shell.execute_reply": "2022-07-19T00:47:02.856176Z"
    },
    "papermill": {
     "duration": 0.052978,
     "end_time": "2022-07-19T00:47:02.856993",
     "exception": false,
     "start_time": "2022-07-19T00:47:02.804015",
     "status": "completed"
    },
    "tags": []
   },
   "outputs": [],
   "source": [
    "%load_ext autoreload\n",
    "%autoreload 2"
   ]
  },
  {
   "cell_type": "code",
   "execution_count": 2,
   "id": "22ef38dc",
   "metadata": {
    "execution": {
     "iopub.execute_input": "2022-07-19T00:47:02.919283Z",
     "iopub.status.busy": "2022-07-19T00:47:02.918593Z",
     "iopub.status.idle": "2022-07-19T00:47:03.538646Z",
     "shell.execute_reply": "2022-07-19T00:47:03.535589Z"
    },
    "papermill": {
     "duration": 0.651815,
     "end_time": "2022-07-19T00:47:03.538896",
     "exception": false,
     "start_time": "2022-07-19T00:47:02.887081",
     "status": "completed"
    },
    "tags": []
   },
   "outputs": [],
   "source": [
    "%matplotlib inline\n",
    "import numpy as np\n",
    "import matplotlib.pyplot as plt\n",
    "import pandas as pd"
   ]
  },
  {
   "cell_type": "markdown",
   "id": "ba036198",
   "metadata": {
    "papermill": {
     "duration": 0.031207,
     "end_time": "2022-07-19T00:47:03.602770",
     "exception": false,
     "start_time": "2022-07-19T00:47:03.571563",
     "status": "completed"
    },
    "tags": []
   },
   "source": [
    "From the command line run `pip install mnist`. This is a library that will help you bring down the mnist dataset. If you run this from a notebook, you need to put  `!pip install mnist` in a cell by itself."
   ]
  },
  {
   "cell_type": "code",
   "execution_count": 3,
   "id": "bb6ad8a1",
   "metadata": {
    "execution": {
     "iopub.execute_input": "2022-07-19T00:47:03.663335Z",
     "iopub.status.busy": "2022-07-19T00:47:03.662587Z",
     "iopub.status.idle": "2022-07-19T00:47:05.527895Z",
     "shell.execute_reply": "2022-07-19T00:47:05.528394Z"
    },
    "papermill": {
     "duration": 1.899375,
     "end_time": "2022-07-19T00:47:05.528607",
     "exception": false,
     "start_time": "2022-07-19T00:47:03.629232",
     "status": "completed"
    },
    "tags": []
   },
   "outputs": [
    {
     "name": "stdout",
     "output_type": "stream",
     "text": [
      "Collecting mnist\r\n",
      "  Downloading mnist-0.2.2-py2.py3-none-any.whl (3.5 kB)\r\n",
      "Requirement already satisfied: numpy in /opt/hostedtoolcache/Python/3.6.15/x64/lib/python3.6/site-packages (from mnist) (1.19.5)\r\n"
     ]
    },
    {
     "name": "stdout",
     "output_type": "stream",
     "text": [
      "Installing collected packages: mnist\r\n"
     ]
    },
    {
     "name": "stdout",
     "output_type": "stream",
     "text": [
      "Successfully installed mnist-0.2.2\r\n"
     ]
    }
   ],
   "source": [
    "!pip install mnist"
   ]
  },
  {
   "cell_type": "markdown",
   "id": "69df9c9a",
   "metadata": {
    "papermill": {
     "duration": 0.029411,
     "end_time": "2022-07-19T00:47:05.589600",
     "exception": false,
     "start_time": "2022-07-19T00:47:05.560189",
     "status": "completed"
    },
    "tags": []
   },
   "source": [
    "## Preparing the Data"
   ]
  },
  {
   "cell_type": "code",
   "execution_count": 4,
   "id": "7f69d806",
   "metadata": {
    "execution": {
     "iopub.execute_input": "2022-07-19T00:47:05.649689Z",
     "iopub.status.busy": "2022-07-19T00:47:05.648997Z",
     "iopub.status.idle": "2022-07-19T00:47:05.666183Z",
     "shell.execute_reply": "2022-07-19T00:47:05.665619Z"
    },
    "papermill": {
     "duration": 0.049225,
     "end_time": "2022-07-19T00:47:05.666288",
     "exception": false,
     "start_time": "2022-07-19T00:47:05.617063",
     "status": "completed"
    },
    "tags": []
   },
   "outputs": [],
   "source": [
    "import mnist"
   ]
  },
  {
   "cell_type": "code",
   "execution_count": 5,
   "id": "a411e44f",
   "metadata": {
    "execution": {
     "iopub.execute_input": "2022-07-19T00:47:05.729790Z",
     "iopub.status.busy": "2022-07-19T00:47:05.729105Z",
     "iopub.status.idle": "2022-07-19T00:47:06.372635Z",
     "shell.execute_reply": "2022-07-19T00:47:06.372020Z"
    },
    "papermill": {
     "duration": 0.677464,
     "end_time": "2022-07-19T00:47:06.372771",
     "exception": false,
     "start_time": "2022-07-19T00:47:05.695307",
     "status": "completed"
    },
    "tags": []
   },
   "outputs": [],
   "source": [
    "train_images = mnist.train_images()\n",
    "train_labels = mnist.train_labels()"
   ]
  },
  {
   "cell_type": "code",
   "execution_count": 6,
   "id": "dceab3a5",
   "metadata": {
    "execution": {
     "iopub.execute_input": "2022-07-19T00:47:06.443311Z",
     "iopub.status.busy": "2022-07-19T00:47:06.442506Z",
     "iopub.status.idle": "2022-07-19T00:47:06.460797Z",
     "shell.execute_reply": "2022-07-19T00:47:06.460242Z"
    },
    "papermill": {
     "duration": 0.054446,
     "end_time": "2022-07-19T00:47:06.460922",
     "exception": false,
     "start_time": "2022-07-19T00:47:06.406476",
     "status": "completed"
    },
    "tags": []
   },
   "outputs": [
    {
     "data": {
      "text/plain": [
       "((60000, 28, 28), (60000,))"
      ]
     },
     "execution_count": 6,
     "metadata": {},
     "output_type": "execute_result"
    }
   ],
   "source": [
    "train_images.shape, train_labels.shape"
   ]
  },
  {
   "cell_type": "code",
   "execution_count": 7,
   "id": "f50dc2bb",
   "metadata": {
    "execution": {
     "iopub.execute_input": "2022-07-19T00:47:06.527362Z",
     "iopub.status.busy": "2022-07-19T00:47:06.526531Z",
     "iopub.status.idle": "2022-07-19T00:47:06.692427Z",
     "shell.execute_reply": "2022-07-19T00:47:06.691624Z"
    },
    "papermill": {
     "duration": 0.200231,
     "end_time": "2022-07-19T00:47:06.692637",
     "exception": false,
     "start_time": "2022-07-19T00:47:06.492406",
     "status": "completed"
    },
    "tags": []
   },
   "outputs": [],
   "source": [
    "test_images = mnist.test_images()\n",
    "test_labels = mnist.test_labels()"
   ]
  },
  {
   "cell_type": "code",
   "execution_count": 8,
   "id": "fc38cf1b",
   "metadata": {
    "execution": {
     "iopub.execute_input": "2022-07-19T00:47:06.758565Z",
     "iopub.status.busy": "2022-07-19T00:47:06.757879Z",
     "iopub.status.idle": "2022-07-19T00:47:06.772925Z",
     "shell.execute_reply": "2022-07-19T00:47:06.773615Z"
    },
    "papermill": {
     "duration": 0.050028,
     "end_time": "2022-07-19T00:47:06.773737",
     "exception": false,
     "start_time": "2022-07-19T00:47:06.723709",
     "status": "completed"
    },
    "tags": []
   },
   "outputs": [
    {
     "data": {
      "text/plain": [
       "((10000, 28, 28), (10000,))"
      ]
     },
     "execution_count": 8,
     "metadata": {},
     "output_type": "execute_result"
    }
   ],
   "source": [
    "test_images.shape, test_labels.shape"
   ]
  },
  {
   "cell_type": "code",
   "execution_count": 9,
   "id": "f9ed8fe0",
   "metadata": {
    "execution": {
     "iopub.execute_input": "2022-07-19T00:47:06.838701Z",
     "iopub.status.busy": "2022-07-19T00:47:06.837874Z",
     "iopub.status.idle": "2022-07-19T00:47:07.033182Z",
     "shell.execute_reply": "2022-07-19T00:47:07.032610Z"
    },
    "papermill": {
     "duration": 0.228934,
     "end_time": "2022-07-19T00:47:07.033311",
     "exception": false,
     "start_time": "2022-07-19T00:47:06.804377",
     "status": "completed"
    },
    "tags": []
   },
   "outputs": [
    {
     "name": "stdout",
     "output_type": "stream",
     "text": [
      "2\n"
     ]
    },
    {
     "data": {
      "text/plain": [
       "<matplotlib.image.AxesImage at 0x7f29a0c2c4a8>"
      ]
     },
     "execution_count": 9,
     "metadata": {},
     "output_type": "execute_result"
    },
    {
     "data": {
      "image/png": "[encoded data removed]",
      "text/plain": [
       "<Figure size 432x288 with 1 Axes>"
      ]
     },
     "metadata": {
      "needs_background": "light"
     },
     "output_type": "display_data"
    }
   ],
   "source": [
    "image_index = 7776 # You may select anything up to 60,000\n",
    "print(train_labels[image_index]) \n",
    "plt.imshow(train_images[image_index], cmap='Greys')"
   ]
  },
  {
   "cell_type": "markdown",
   "id": "a8d2388d",
   "metadata": {
    "papermill": {
     "duration": 0.035065,
     "end_time": "2022-07-19T00:47:07.103380",
     "exception": false,
     "start_time": "2022-07-19T00:47:07.068315",
     "status": "completed"
    },
    "tags": []
   },
   "source": [
    "## Filter data to get 3 and 8 out"
   ]
  },
  {
   "cell_type": "code",
   "execution_count": 10,
   "id": "776f7fc7",
   "metadata": {
    "execution": {
     "iopub.execute_input": "2022-07-19T00:47:07.180203Z",
     "iopub.status.busy": "2022-07-19T00:47:07.173474Z",
     "iopub.status.idle": "2022-07-19T00:47:07.195269Z",
     "shell.execute_reply": "2022-07-19T00:47:07.194711Z"
    },
    "papermill": {
     "duration": 0.05722,
     "end_time": "2022-07-19T00:47:07.195395",
     "exception": false,
     "start_time": "2022-07-19T00:47:07.138175",
     "status": "completed"
    },
    "tags": []
   },
   "outputs": [],
   "source": [
    "train_filter = np.where((train_labels == 3 ) | (train_labels == 8))\n",
    "test_filter = np.where((test_labels == 3) | (test_labels == 8))\n",
    "X_train, y_train = train_images[train_filter], train_labels[train_filter]\n",
    "X_test, y_test = test_images[test_filter], test_labels[test_filter]"
   ]
  },
  {
   "cell_type": "markdown",
   "id": "948f0b7e",
   "metadata": {
    "papermill": {
     "duration": 0.029409,
     "end_time": "2022-07-19T00:47:07.255021",
     "exception": false,
     "start_time": "2022-07-19T00:47:07.225612",
     "status": "completed"
    },
    "tags": []
   },
   "source": [
    "We normalize the pizel values in the 0 to 1 range"
   ]
  },
  {
   "cell_type": "code",
   "execution_count": 11,
   "id": "ee4c2166",
   "metadata": {
    "execution": {
     "iopub.execute_input": "2022-07-19T00:47:07.320634Z",
     "iopub.status.busy": "2022-07-19T00:47:07.319983Z",
     "iopub.status.idle": "2022-07-19T00:47:07.381996Z",
     "shell.execute_reply": "2022-07-19T00:47:07.381357Z"
    },
    "papermill": {
     "duration": 0.097344,
     "end_time": "2022-07-19T00:47:07.382137",
     "exception": false,
     "start_time": "2022-07-19T00:47:07.284793",
     "status": "completed"
    },
    "tags": []
   },
   "outputs": [],
   "source": [
    "X_train = X_train/255.\n",
    "X_test = X_test/255."
   ]
  },
  {
   "cell_type": "markdown",
   "id": "ddcf4fab",
   "metadata": {
    "papermill": {
     "duration": 0.03431,
     "end_time": "2022-07-19T00:47:07.451560",
     "exception": false,
     "start_time": "2022-07-19T00:47:07.417250",
     "status": "completed"
    },
    "tags": []
   },
   "source": [
    "And setup the labels as 1 (when the digit is 3) and 0 (when the digit is 8)"
   ]
  },
  {
   "cell_type": "code",
   "execution_count": 12,
   "id": "7dc908f2",
   "metadata": {
    "execution": {
     "iopub.execute_input": "2022-07-19T00:47:07.521494Z",
     "iopub.status.busy": "2022-07-19T00:47:07.520649Z",
     "iopub.status.idle": "2022-07-19T00:47:07.533975Z",
     "shell.execute_reply": "2022-07-19T00:47:07.533393Z"
    },
    "papermill": {
     "duration": 0.052598,
     "end_time": "2022-07-19T00:47:07.534095",
     "exception": false,
     "start_time": "2022-07-19T00:47:07.481497",
     "status": "completed"
    },
    "tags": []
   },
   "outputs": [],
   "source": [
    "y_train = 1*(y_train==3)\n",
    "y_test = 1*(y_test==3)"
   ]
  },
  {
   "cell_type": "code",
   "execution_count": 13,
   "id": "01e4e969",
   "metadata": {
    "execution": {
     "iopub.execute_input": "2022-07-19T00:47:07.606360Z",
     "iopub.status.busy": "2022-07-19T00:47:07.605459Z",
     "iopub.status.idle": "2022-07-19T00:47:07.621228Z",
     "shell.execute_reply": "2022-07-19T00:47:07.620507Z"
    },
    "papermill": {
     "duration": 0.053204,
     "end_time": "2022-07-19T00:47:07.621365",
     "exception": false,
     "start_time": "2022-07-19T00:47:07.568161",
     "status": "completed"
    },
    "tags": []
   },
   "outputs": [
    {
     "data": {
      "text/plain": [
       "((11982, 28, 28), (1984, 28, 28))"
      ]
     },
     "execution_count": 13,
     "metadata": {},
     "output_type": "execute_result"
    }
   ],
   "source": [
    "X_train.shape, X_test.shape"
   ]
  },
  {
   "cell_type": "markdown",
   "id": "5ccf3f85",
   "metadata": {
    "papermill": {
     "duration": 0.03317,
     "end_time": "2022-07-19T00:47:07.688846",
     "exception": false,
     "start_time": "2022-07-19T00:47:07.655676",
     "status": "completed"
    },
    "tags": []
   },
   "source": [
    "We reshape the data to flatten the image pixels into a set of features or co-variates:"
   ]
  },
  {
   "cell_type": "code",
   "execution_count": 14,
   "id": "5286a4a3",
   "metadata": {
    "execution": {
     "iopub.execute_input": "2022-07-19T00:47:07.766455Z",
     "iopub.status.busy": "2022-07-19T00:47:07.765789Z",
     "iopub.status.idle": "2022-07-19T00:47:07.782183Z",
     "shell.execute_reply": "2022-07-19T00:47:07.782923Z"
    },
    "papermill": {
     "duration": 0.056457,
     "end_time": "2022-07-19T00:47:07.783052",
     "exception": false,
     "start_time": "2022-07-19T00:47:07.726595",
     "status": "completed"
    },
    "tags": []
   },
   "outputs": [
    {
     "data": {
      "text/plain": [
       "((11982, 784), (1984, 784))"
      ]
     },
     "execution_count": 14,
     "metadata": {},
     "output_type": "execute_result"
    }
   ],
   "source": [
    "X_train = X_train.reshape(X_train.shape[0], -1)\n",
    "X_test = X_test.reshape(X_test.shape[0], -1)\n",
    "X_train.shape, X_test.shape"
   ]
  },
  {
   "cell_type": "code",
   "execution_count": 15,
   "id": "73c5f88a",
   "metadata": {
    "execution": {
     "iopub.execute_input": "2022-07-19T00:47:07.851224Z",
     "iopub.status.busy": "2022-07-19T00:47:07.850589Z",
     "iopub.status.idle": "2022-07-19T00:47:07.872169Z",
     "shell.execute_reply": "2022-07-19T00:47:07.872868Z"
    },
    "papermill": {
     "duration": 0.058747,
     "end_time": "2022-07-19T00:47:07.872993",
     "exception": false,
     "start_time": "2022-07-19T00:47:07.814246",
     "status": "completed"
    },
    "tags": []
   },
   "outputs": [],
   "source": [
    "#Impoting functions from 'Kudzu'\n",
    "from kudzu.model import Model\n",
    "from kudzu.train import Learner\n",
    "from kudzu.optim import GD\n",
    "from kudzu.data import Data, Sampler,Dataloader\n",
    "\n",
    "from kudzu.callbacks import AccCallback\n",
    "from kudzu.callbacks import ClfCallback\n",
    "\n",
    "from kudzu.loss import MSE\n",
    "\n",
    "from kudzu.layer import Sigmoid,Relu\n",
    "from kudzu.layer import Affine"
   ]
  },
  {
   "cell_type": "markdown",
   "id": "bc01172a",
   "metadata": {
    "papermill": {
     "duration": 0.03496,
     "end_time": "2022-07-19T00:47:07.942403",
     "exception": false,
     "start_time": "2022-07-19T00:47:07.907443",
     "status": "completed"
    },
    "tags": []
   },
   "source": [
    "### Let us create a `Config` class, to store important parameters. \n",
    "This class essentially plays the role of a dictionary."
   ]
  },
  {
   "cell_type": "code",
   "execution_count": 16,
   "id": "978281aa",
   "metadata": {
    "execution": {
     "iopub.execute_input": "2022-07-19T00:47:08.013321Z",
     "iopub.status.busy": "2022-07-19T00:47:08.012649Z",
     "iopub.status.idle": "2022-07-19T00:47:08.027338Z",
     "shell.execute_reply": "2022-07-19T00:47:08.028061Z"
    },
    "papermill": {
     "duration": 0.053947,
     "end_time": "2022-07-19T00:47:08.028189",
     "exception": false,
     "start_time": "2022-07-19T00:47:07.974242",
     "status": "completed"
    },
    "tags": []
   },
   "outputs": [],
   "source": [
    "class Config:\n",
    "    pass\n",
    "config = Config()\n",
    "config.lr = 0.001\n",
    "config.num_epochs = 250\n",
    "config.bs = 50"
   ]
  },
  {
   "cell_type": "markdown",
   "id": "1385fa59",
   "metadata": {
    "papermill": {
     "duration": 0.034837,
     "end_time": "2022-07-19T00:47:08.099826",
     "exception": false,
     "start_time": "2022-07-19T00:47:08.064989",
     "status": "completed"
    },
    "tags": []
   },
   "source": [
    "### Running Models with the Training data\n",
    "Details about the network layers:\n",
    "- A first affine layer has 784 inputs and does 100 affine transforms. These are followed by a Relu\n",
    "- A second affine layer has 100 inputs from the 100 activations of the past layer, and does 100 affine transforms. These are followed by a Relu\n",
    "- A third affine layer has 100 activations and does 2 affine transformations to create an embedding for visualization. There is no non-linearity here.\n",
    "- A final \"logistic regression\" which has an affine transform from 2 inputs to 1 output, which is squeezed through a sigmoid.\n"
   ]
  },
  {
   "cell_type": "code",
   "execution_count": 17,
   "id": "2b9c66db",
   "metadata": {
    "execution": {
     "iopub.execute_input": "2022-07-19T00:47:08.177562Z",
     "iopub.status.busy": "2022-07-19T00:47:08.176526Z",
     "iopub.status.idle": "2022-07-19T00:47:08.190317Z",
     "shell.execute_reply": "2022-07-19T00:47:08.190945Z"
    },
    "papermill": {
     "duration": 0.053552,
     "end_time": "2022-07-19T00:47:08.191104",
     "exception": false,
     "start_time": "2022-07-19T00:47:08.137552",
     "status": "completed"
    },
    "tags": []
   },
   "outputs": [],
   "source": [
    "data = Data(X_train, y_train.reshape(-1,1))\n",
    "sampler = Sampler(data, config.bs, shuffle=True)\n",
    "\n",
    "dl = Dataloader(data, sampler)\n",
    "\n",
    "opt = GD(config.lr)\n",
    "loss = MSE()"
   ]
  },
  {
   "cell_type": "code",
   "execution_count": 18,
   "id": "b275e4c2",
   "metadata": {
    "execution": {
     "iopub.execute_input": "2022-07-19T00:47:08.267399Z",
     "iopub.status.busy": "2022-07-19T00:47:08.266764Z",
     "iopub.status.idle": "2022-07-19T00:47:08.280255Z",
     "shell.execute_reply": "2022-07-19T00:47:08.279589Z"
    },
    "papermill": {
     "duration": 0.05158,
     "end_time": "2022-07-19T00:47:08.280417",
     "exception": false,
     "start_time": "2022-07-19T00:47:08.228837",
     "status": "completed"
    },
    "tags": []
   },
   "outputs": [],
   "source": [
    "training_data_x = X_train\n",
    "testing_data_x = X_test\n",
    "training_data_y = y_train.reshape(-1,1)\n",
    "testing_data_y = y_test.reshape(-1,1)"
   ]
  },
  {
   "cell_type": "code",
   "execution_count": 19,
   "id": "76951160",
   "metadata": {
    "execution": {
     "iopub.execute_input": "2022-07-19T00:47:08.352897Z",
     "iopub.status.busy": "2022-07-19T00:47:08.352126Z",
     "iopub.status.idle": "2022-07-19T00:47:08.370749Z",
     "shell.execute_reply": "2022-07-19T00:47:08.370120Z"
    },
    "papermill": {
     "duration": 0.055937,
     "end_time": "2022-07-19T00:47:08.370860",
     "exception": false,
     "start_time": "2022-07-19T00:47:08.314923",
     "status": "completed"
    },
    "tags": []
   },
   "outputs": [
    {
     "name": "stdout",
     "output_type": "stream",
     "text": [
      "xavier\n",
      "xavier\n",
      "xavier\n",
      "xavier\n",
      "xavier\n"
     ]
    }
   ],
   "source": [
    "layers = [Affine(\"first\", 784, 100), Relu(\"first\"), Affine(\"second\", 100, 100), Relu(\"second\"), Affine(\"third\", 100, 2), Affine(\"last\", 2, 1), Sigmoid(\"last\")]\n",
    "model_nn = Model(layers)\n",
    "model_lr = Model([Affine(\"logits\", 784, 1), Sigmoid(\"sigmoid\")])"
   ]
  },
  {
   "cell_type": "code",
   "execution_count": 20,
   "id": "6eede77a",
   "metadata": {
    "execution": {
     "iopub.execute_input": "2022-07-19T00:47:08.443025Z",
     "iopub.status.busy": "2022-07-19T00:47:08.442195Z",
     "iopub.status.idle": "2022-07-19T00:47:08.460224Z",
     "shell.execute_reply": "2022-07-19T00:47:08.459573Z"
    },
    "papermill": {
     "duration": 0.057258,
     "end_time": "2022-07-19T00:47:08.460378",
     "exception": false,
     "start_time": "2022-07-19T00:47:08.403120",
     "status": "completed"
    },
    "tags": []
   },
   "outputs": [],
   "source": [
    "nn_learner = Learner(loss, model_nn, opt, config.num_epochs)\n",
    "acc_nn = ClfCallback(nn_learner, config.bs, training_data_x , testing_data_x, training_data_y, testing_data_y)\n",
    "nn_learner.set_callbacks([acc_nn])"
   ]
  },
  {
   "cell_type": "code",
   "execution_count": 21,
   "id": "877b6cc7",
   "metadata": {
    "execution": {
     "iopub.execute_input": "2022-07-19T00:47:08.530624Z",
     "iopub.status.busy": "2022-07-19T00:47:08.529957Z",
     "iopub.status.idle": "2022-07-19T00:47:08.544265Z",
     "shell.execute_reply": "2022-07-19T00:47:08.543626Z"
    },
    "papermill": {
     "duration": 0.051451,
     "end_time": "2022-07-19T00:47:08.544428",
     "exception": false,
     "start_time": "2022-07-19T00:47:08.492977",
     "status": "completed"
    },
    "tags": []
   },
   "outputs": [],
   "source": [
    "lr_learner = Learner(loss, model_lr, opt, config.num_epochs)\n",
    "acc_lr = ClfCallback(lr_learner, config.bs, training_data_x , testing_data_x, training_data_y, testing_data_y)\n",
    "lr_learner.set_callbacks([acc_lr])"
   ]
  },
  {
   "cell_type": "code",
   "execution_count": 22,
   "id": "d9b133c3",
   "metadata": {
    "execution": {
     "iopub.execute_input": "2022-07-19T00:47:08.616155Z",
     "iopub.status.busy": "2022-07-19T00:47:08.615531Z",
     "iopub.status.idle": "2022-07-19T00:49:31.382510Z",
     "shell.execute_reply": "2022-07-19T00:49:31.383646Z"
    },
    "papermill": {
     "duration": 142.805866,
     "end_time": "2022-07-19T00:49:31.383819",
     "exception": false,
     "start_time": "2022-07-19T00:47:08.577953",
     "status": "completed"
    },
    "tags": []
   },
   "outputs": [
    {
     "name": "stdout",
     "output_type": "stream",
     "text": [
      "Epoch 0, Loss 0.2231\n",
      "Training Accuracy: 0.8099, Testing Accuracy: 0.8317\n",
      "\n"
     ]
    },
    {
     "name": "stdout",
     "output_type": "stream",
     "text": [
      "Epoch 10, Loss 0.0839\n",
      "Training Accuracy: 0.9286, Testing Accuracy: 0.9360\n",
      "\n"
     ]
    },
    {
     "name": "stdout",
     "output_type": "stream",
     "text": [
      "Epoch 20, Loss 0.0521\n",
      "Training Accuracy: 0.9478, Testing Accuracy: 0.9546\n",
      "\n"
     ]
    },
    {
     "name": "stdout",
     "output_type": "stream",
     "text": [
      "Epoch 30, Loss 0.0415\n",
      "Training Accuracy: 0.9554, Testing Accuracy: 0.9587\n",
      "\n"
     ]
    },
    {
     "name": "stdout",
     "output_type": "stream",
     "text": [
      "Epoch 40, Loss 0.0364\n",
      "Training Accuracy: 0.9599, Testing Accuracy: 0.9627\n",
      "\n"
     ]
    },
    {
     "name": "stdout",
     "output_type": "stream",
     "text": [
      "Epoch 50, Loss 0.0332\n",
      "Training Accuracy: 0.9621, Testing Accuracy: 0.9652\n",
      "\n"
     ]
    },
    {
     "name": "stdout",
     "output_type": "stream",
     "text": [
      "Epoch 60, Loss 0.031\n",
      "Training Accuracy: 0.9643, Testing Accuracy: 0.9667\n",
      "\n"
     ]
    },
    {
     "name": "stdout",
     "output_type": "stream",
     "text": [
      "Epoch 70, Loss 0.0293\n",
      "Training Accuracy: 0.9657, Testing Accuracy: 0.9682\n",
      "\n"
     ]
    },
    {
     "name": "stdout",
     "output_type": "stream",
     "text": [
      "Epoch 80, Loss 0.028\n",
      "Training Accuracy: 0.9674, Testing Accuracy: 0.9682\n",
      "\n"
     ]
    },
    {
     "name": "stdout",
     "output_type": "stream",
     "text": [
      "Epoch 90, Loss 0.0269\n",
      "Training Accuracy: 0.9686, Testing Accuracy: 0.9693\n",
      "\n"
     ]
    },
    {
     "name": "stdout",
     "output_type": "stream",
     "text": [
      "Epoch 100, Loss 0.0259\n",
      "Training Accuracy: 0.9702, Testing Accuracy: 0.9693\n",
      "\n"
     ]
    },
    {
     "name": "stdout",
     "output_type": "stream",
     "text": [
      "Epoch 110, Loss 0.025\n",
      "Training Accuracy: 0.9712, Testing Accuracy: 0.9698\n",
      "\n"
     ]
    },
    {
     "name": "stdout",
     "output_type": "stream",
     "text": [
      "Epoch 120, Loss 0.0243\n",
      "Training Accuracy: 0.9722, Testing Accuracy: 0.9703\n",
      "\n"
     ]
    },
    {
     "name": "stdout",
     "output_type": "stream",
     "text": [
      "Epoch 130, Loss 0.0236\n",
      "Training Accuracy: 0.9730, Testing Accuracy: 0.9713\n",
      "\n"
     ]
    },
    {
     "name": "stdout",
     "output_type": "stream",
     "text": [
      "Epoch 140, Loss 0.0229\n",
      "Training Accuracy: 0.9741, Testing Accuracy: 0.9713\n",
      "\n"
     ]
    },
    {
     "name": "stdout",
     "output_type": "stream",
     "text": [
      "Epoch 150, Loss 0.0223\n",
      "Training Accuracy: 0.9746, Testing Accuracy: 0.9708\n",
      "\n"
     ]
    },
    {
     "name": "stdout",
     "output_type": "stream",
     "text": [
      "Epoch 160, Loss 0.0218\n",
      "Training Accuracy: 0.9749, Testing Accuracy: 0.9703\n",
      "\n"
     ]
    },
    {
     "name": "stdout",
     "output_type": "stream",
     "text": [
      "Epoch 170, Loss 0.0212\n",
      "Training Accuracy: 0.9751, Testing Accuracy: 0.9703\n",
      "\n"
     ]
    },
    {
     "name": "stdout",
     "output_type": "stream",
     "text": [
      "Epoch 180, Loss 0.0207\n",
      "Training Accuracy: 0.9759, Testing Accuracy: 0.9708\n",
      "\n"
     ]
    },
    {
     "name": "stdout",
     "output_type": "stream",
     "text": [
      "Epoch 190, Loss 0.0203\n",
      "Training Accuracy: 0.9762, Testing Accuracy: 0.9708\n",
      "\n"
     ]
    },
    {
     "name": "stdout",
     "output_type": "stream",
     "text": [
      "Epoch 200, Loss 0.0198\n",
      "Training Accuracy: 0.9775, Testing Accuracy: 0.9708\n",
      "\n"
     ]
    },
    {
     "name": "stdout",
     "output_type": "stream",
     "text": [
      "Epoch 210, Loss 0.0193\n",
      "Training Accuracy: 0.9783, Testing Accuracy: 0.9708\n",
      "\n"
     ]
    },
    {
     "name": "stdout",
     "output_type": "stream",
     "text": [
      "Epoch 220, Loss 0.0189\n",
      "Training Accuracy: 0.9789, Testing Accuracy: 0.9718\n",
      "\n"
     ]
    },
    {
     "name": "stdout",
     "output_type": "stream",
     "text": [
      "Epoch 230, Loss 0.0185\n",
      "Training Accuracy: 0.9797, Testing Accuracy: 0.9728\n",
      "\n"
     ]
    },
    {
     "name": "stdout",
     "output_type": "stream",
     "text": [
      "Epoch 240, Loss 0.0181\n",
      "Training Accuracy: 0.9802, Testing Accuracy: 0.9733\n",
      "\n"
     ]
    },
    {
     "data": {
      "text/plain": [
       "0.008694778830327893"
      ]
     },
     "execution_count": 22,
     "metadata": {},
     "output_type": "execute_result"
    }
   ],
   "source": [
    "nn_learner.train_loop(dl)"
   ]
  },
  {
   "cell_type": "code",
   "execution_count": 23,
   "id": "e0163366",
   "metadata": {
    "execution": {
     "iopub.execute_input": "2022-07-19T00:49:31.487113Z",
     "iopub.status.busy": "2022-07-19T00:49:31.486368Z",
     "iopub.status.idle": "2022-07-19T00:49:52.184351Z",
     "shell.execute_reply": "2022-07-19T00:49:52.185459Z"
    },
    "papermill": {
     "duration": 20.755117,
     "end_time": "2022-07-19T00:49:52.185663",
     "exception": false,
     "start_time": "2022-07-19T00:49:31.430546",
     "status": "completed"
    },
    "tags": []
   },
   "outputs": [
    {
     "name": "stdout",
     "output_type": "stream",
     "text": [
      "Epoch 0, Loss 0.2061\n",
      "Training Accuracy: 0.8036, Testing Accuracy: 0.8150\n",
      "\n"
     ]
    },
    {
     "name": "stdout",
     "output_type": "stream",
     "text": [
      "Epoch 10, Loss 0.0949\n",
      "Training Accuracy: 0.9260, Testing Accuracy: 0.9380\n",
      "\n"
     ]
    },
    {
     "name": "stdout",
     "output_type": "stream",
     "text": [
      "Epoch 20, Loss 0.0751\n",
      "Training Accuracy: 0.9349, Testing Accuracy: 0.9486\n",
      "\n"
     ]
    },
    {
     "name": "stdout",
     "output_type": "stream",
     "text": [
      "Epoch 30, Loss 0.0656\n",
      "Training Accuracy: 0.9404, Testing Accuracy: 0.9531\n",
      "\n"
     ]
    },
    {
     "name": "stdout",
     "output_type": "stream",
     "text": [
      "Epoch 40, Loss 0.0597\n",
      "Training Accuracy: 0.9443, Testing Accuracy: 0.9541\n",
      "\n"
     ]
    },
    {
     "name": "stdout",
     "output_type": "stream",
     "text": [
      "Epoch 50, Loss 0.0557\n",
      "Training Accuracy: 0.9468, Testing Accuracy: 0.9592\n",
      "\n"
     ]
    },
    {
     "name": "stdout",
     "output_type": "stream",
     "text": [
      "Epoch 60, Loss 0.0527\n",
      "Training Accuracy: 0.9483, Testing Accuracy: 0.9597\n",
      "\n"
     ]
    },
    {
     "name": "stdout",
     "output_type": "stream",
     "text": [
      "Epoch 70, Loss 0.0503\n",
      "Training Accuracy: 0.9503, Testing Accuracy: 0.9612\n",
      "\n"
     ]
    },
    {
     "name": "stdout",
     "output_type": "stream",
     "text": [
      "Epoch 80, Loss 0.0484\n",
      "Training Accuracy: 0.9518, Testing Accuracy: 0.9617\n",
      "\n"
     ]
    },
    {
     "name": "stdout",
     "output_type": "stream",
     "text": [
      "Epoch 90, Loss 0.0468\n",
      "Training Accuracy: 0.9530, Testing Accuracy: 0.9632\n",
      "\n"
     ]
    },
    {
     "name": "stdout",
     "output_type": "stream",
     "text": [
      "Epoch 100, Loss 0.0455\n",
      "Training Accuracy: 0.9542, Testing Accuracy: 0.9632\n",
      "\n"
     ]
    },
    {
     "name": "stdout",
     "output_type": "stream",
     "text": [
      "Epoch 110, Loss 0.0444\n",
      "Training Accuracy: 0.9546, Testing Accuracy: 0.9642\n",
      "\n"
     ]
    },
    {
     "name": "stdout",
     "output_type": "stream",
     "text": [
      "Epoch 120, Loss 0.0434\n",
      "Training Accuracy: 0.9555, Testing Accuracy: 0.9647\n",
      "\n"
     ]
    },
    {
     "name": "stdout",
     "output_type": "stream",
     "text": [
      "Epoch 130, Loss 0.0425\n",
      "Training Accuracy: 0.9563, Testing Accuracy: 0.9647\n",
      "\n"
     ]
    },
    {
     "name": "stdout",
     "output_type": "stream",
     "text": [
      "Epoch 140, Loss 0.0417\n",
      "Training Accuracy: 0.9564, Testing Accuracy: 0.9657\n",
      "\n"
     ]
    },
    {
     "name": "stdout",
     "output_type": "stream",
     "text": [
      "Epoch 150, Loss 0.041\n",
      "Training Accuracy: 0.9570, Testing Accuracy: 0.9672\n",
      "\n"
     ]
    },
    {
     "name": "stdout",
     "output_type": "stream",
     "text": [
      "Epoch 160, Loss 0.0403\n",
      "Training Accuracy: 0.9579, Testing Accuracy: 0.9667\n",
      "\n"
     ]
    },
    {
     "name": "stdout",
     "output_type": "stream",
     "text": [
      "Epoch 170, Loss 0.0398\n",
      "Training Accuracy: 0.9581, Testing Accuracy: 0.9667\n",
      "\n"
     ]
    },
    {
     "name": "stdout",
     "output_type": "stream",
     "text": [
      "Epoch 180, Loss 0.0392\n",
      "Training Accuracy: 0.9584, Testing Accuracy: 0.9667\n",
      "\n"
     ]
    },
    {
     "name": "stdout",
     "output_type": "stream",
     "text": [
      "Epoch 190, Loss 0.0387\n",
      "Training Accuracy: 0.9588, Testing Accuracy: 0.9672\n",
      "\n"
     ]
    },
    {
     "name": "stdout",
     "output_type": "stream",
     "text": [
      "Epoch 200, Loss 0.0383\n",
      "Training Accuracy: 0.9591, Testing Accuracy: 0.9672\n",
      "\n"
     ]
    },
    {
     "name": "stdout",
     "output_type": "stream",
     "text": [
      "Epoch 210, Loss 0.0379\n",
      "Training Accuracy: 0.9596, Testing Accuracy: 0.9677\n",
      "\n"
     ]
    },
    {
     "name": "stdout",
     "output_type": "stream",
     "text": [
      "Epoch 220, Loss 0.0375\n",
      "Training Accuracy: 0.9601, Testing Accuracy: 0.9677\n",
      "\n"
     ]
    },
    {
     "name": "stdout",
     "output_type": "stream",
     "text": [
      "Epoch 230, Loss 0.0371\n",
      "Training Accuracy: 0.9604, Testing Accuracy: 0.9677\n",
      "\n"
     ]
    },
    {
     "name": "stdout",
     "output_type": "stream",
     "text": [
      "Epoch 240, Loss 0.0367\n",
      "Training Accuracy: 0.9607, Testing Accuracy: 0.9677\n",
      "\n"
     ]
    },
    {
     "data": {
      "text/plain": [
       "0.037102775663977405"
      ]
     },
     "execution_count": 23,
     "metadata": {},
     "output_type": "execute_result"
    }
   ],
   "source": [
    "lr_learner.train_loop(dl)"
   ]
  },
  {
   "cell_type": "code",
   "execution_count": 24,
   "id": "ca410940",
   "metadata": {
    "execution": {
     "iopub.execute_input": "2022-07-19T00:49:52.304133Z",
     "iopub.status.busy": "2022-07-19T00:49:52.303335Z",
     "iopub.status.idle": "2022-07-19T00:49:52.635971Z",
     "shell.execute_reply": "2022-07-19T00:49:52.635362Z"
    },
    "papermill": {
     "duration": 0.394484,
     "end_time": "2022-07-19T00:49:52.636116",
     "exception": false,
     "start_time": "2022-07-19T00:49:52.241632",
     "status": "completed"
    },
    "tags": []
   },
   "outputs": [
    {
     "data": {
      "text/plain": [
       "<matplotlib.legend.Legend at 0x7f29a078ea58>"
      ]
     },
     "execution_count": 24,
     "metadata": {},
     "output_type": "execute_result"
    },
    {
     "data": {
      "image/png": "[encoded data removed]",
      "text/plain": [
       "<Figure size 1080x720 with 1 Axes>"
      ]
     },
     "metadata": {
      "needs_background": "light"
     },
     "output_type": "display_data"
    }
   ],
   "source": [
    "#comparing the results of NN and LR\n",
    "plt.figure(figsize=(15,10))\n",
    "\n",
    "# Neural Network plots\n",
    "plt.plot(acc_nn.accuracies, 'r-', label = \"Training Accuracies - NN\")\n",
    "plt.plot(acc_nn.test_accuracies, 'g-', label = \"Testing Accuracies - NN\")\n",
    "\n",
    "# Logistic Regression plots\n",
    "plt.plot(acc_lr.accuracies, 'k-', label = \"Training Accuracies - LR\")\n",
    "plt.plot(acc_lr.test_accuracies, 'b-', label = \"Testing Accuracies - LR\")\n",
    "plt.legend()"
   ]
  },
  {
   "cell_type": "markdown",
   "id": "80dfb35c",
   "metadata": {
    "papermill": {
     "duration": 0.053661,
     "end_time": "2022-07-19T00:49:52.744257",
     "exception": false,
     "start_time": "2022-07-19T00:49:52.690596",
     "status": "completed"
    },
    "tags": []
   },
   "source": [
    "#### Plotting the outputs of this layer of the NN.\n"
   ]
  },
  {
   "cell_type": "code",
   "execution_count": 25,
   "id": "45eb2ff5",
   "metadata": {
    "execution": {
     "iopub.execute_input": "2022-07-19T00:49:52.859051Z",
     "iopub.status.busy": "2022-07-19T00:49:52.858171Z",
     "iopub.status.idle": "2022-07-19T00:49:52.888055Z",
     "shell.execute_reply": "2022-07-19T00:49:52.887329Z"
    },
    "papermill": {
     "duration": 0.089366,
     "end_time": "2022-07-19T00:49:52.888250",
     "exception": false,
     "start_time": "2022-07-19T00:49:52.798884",
     "status": "completed"
    },
    "tags": []
   },
   "outputs": [],
   "source": [
    "new_model = Model(layers[:-2])\n",
    "testing_plot = new_model(testing_data_x)"
   ]
  },
  {
   "cell_type": "code",
   "execution_count": 26,
   "id": "4c0a5485",
   "metadata": {
    "execution": {
     "iopub.execute_input": "2022-07-19T00:49:53.007035Z",
     "iopub.status.busy": "2022-07-19T00:49:53.006137Z",
     "iopub.status.idle": "2022-07-19T00:49:53.291648Z",
     "shell.execute_reply": "2022-07-19T00:49:53.292339Z"
    },
    "papermill": {
     "duration": 0.348342,
     "end_time": "2022-07-19T00:49:53.292513",
     "exception": false,
     "start_time": "2022-07-19T00:49:52.944171",
     "status": "completed"
    },
    "tags": []
   },
   "outputs": [
    {
     "data": {
      "text/plain": [
       "Text(0.5, 1.0, 'Outputs')"
      ]
     },
     "execution_count": 26,
     "metadata": {},
     "output_type": "execute_result"
    },
    {
     "data": {
      "image/png": "[encoded data removed]",
      "text/plain": [
       "<Figure size 576x504 with 1 Axes>"
      ]
     },
     "metadata": {
      "needs_background": "light"
     },
     "output_type": "display_data"
    }
   ],
   "source": [
    "# Plotting the scatter plot of points and color coding by class\n",
    "plt.figure(figsize=(8,7))\n",
    "plt.scatter(testing_plot[:,0], testing_plot[:,1], alpha = 0.1, c = y_test.ravel());\n",
    "plt.title('Outputs')"
   ]
  },
  {
   "cell_type": "markdown",
   "id": "a74fcf8f",
   "metadata": {
    "papermill": {
     "duration": 0.056486,
     "end_time": "2022-07-19T00:49:53.405558",
     "exception": false,
     "start_time": "2022-07-19T00:49:53.349072",
     "status": "completed"
    },
    "tags": []
   },
   "source": [
    "Probability contours"
   ]
  },
  {
   "cell_type": "code",
   "execution_count": 27,
   "id": "d0afc8e3",
   "metadata": {
    "execution": {
     "iopub.execute_input": "2022-07-19T00:49:53.519488Z",
     "iopub.status.busy": "2022-07-19T00:49:53.518776Z",
     "iopub.status.idle": "2022-07-19T00:49:53.532290Z",
     "shell.execute_reply": "2022-07-19T00:49:53.532905Z"
    },
    "papermill": {
     "duration": 0.070514,
     "end_time": "2022-07-19T00:49:53.533038",
     "exception": false,
     "start_time": "2022-07-19T00:49:53.462524",
     "status": "completed"
    },
    "tags": []
   },
   "outputs": [],
   "source": [
    "model_prob = Model(layers[-2:]) "
   ]
  },
  {
   "cell_type": "code",
   "execution_count": 28,
   "id": "9b96e238",
   "metadata": {
    "execution": {
     "iopub.execute_input": "2022-07-19T00:49:53.672660Z",
     "iopub.status.busy": "2022-07-19T00:49:53.671885Z",
     "iopub.status.idle": "2022-07-19T00:49:53.689603Z",
     "shell.execute_reply": "2022-07-19T00:49:53.690179Z"
    },
    "papermill": {
     "duration": 0.082171,
     "end_time": "2022-07-19T00:49:53.690426",
     "exception": false,
     "start_time": "2022-07-19T00:49:53.608255",
     "status": "completed"
    },
    "tags": []
   },
   "outputs": [],
   "source": [
    "#creating the x and y ranges according to the above generated plot.\n",
    "x_range = np.linspace(-4, 1, 100) \n",
    "y_range = np.linspace(-6, 6, 100) \n",
    "x_grid, y_grid = np.meshgrid(x_range, y_range) # x_grid and y_grig are of size 100 X 100\n",
    "\n",
    "# converting x_grid and y_grid to continuous arrays\n",
    "x_gridflat = np.ravel(x_grid)\n",
    "y_gridflat = np.ravel(y_grid)\n",
    "\n",
    "# The last layer of the current model takes two columns as input. Hence transpose of np.vstack() is required.\n",
    "X = np.vstack((x_gridflat, y_gridflat)).T\n",
    "\n",
    "prob_contour = model_prob(X).reshape(100,100) "
   ]
  },
  {
   "cell_type": "code",
   "execution_count": 29,
   "id": "da72499a",
   "metadata": {
    "execution": {
     "iopub.execute_input": "2022-07-19T00:49:53.808221Z",
     "iopub.status.busy": "2022-07-19T00:49:53.807458Z",
     "iopub.status.idle": "2022-07-19T00:49:54.159798Z",
     "shell.execute_reply": "2022-07-19T00:49:54.158911Z"
    },
    "papermill": {
     "duration": 0.413986,
     "end_time": "2022-07-19T00:49:54.159930",
     "exception": false,
     "start_time": "2022-07-19T00:49:53.745944",
     "status": "completed"
    },
    "tags": []
   },
   "outputs": [
    {
     "data": {
      "image/png": "[encoded data removed]",
      "text/plain": [
       "<Figure size 720x648 with 1 Axes>"
      ]
     },
     "metadata": {
      "needs_background": "light"
     },
     "output_type": "display_data"
    }
   ],
   "source": [
    "plt.figure(figsize=(10,9))\n",
    "plt.scatter(testing_plot[:,0], testing_plot[:,1], alpha = 0.1, c = y_test.ravel())\n",
    "contours = plt.contour(x_grid,y_grid,prob_contour)\n",
    "plt.title('Probability Contours')\n",
    "plt.clabel(contours, inline = True );"
   ]
  },
  {
   "cell_type": "code",
   "execution_count": null,
   "id": "e81b4ac7",
   "metadata": {
    "papermill": {
     "duration": 0.054953,
     "end_time": "2022-07-19T00:49:54.271277",
     "exception": false,
     "start_time": "2022-07-19T00:49:54.216324",
     "status": "completed"
    },
    "tags": []
   },
   "outputs": [],
   "source": []
  }
 ],
 "metadata": {
  "kernelspec": {
   "display_name": "Python 3",
   "language": "python",
   "name": "python3"
  },
  "language_info": {
   "codemirror_mode": {
    "name": "ipython",
    "version": 3
   },
   "file_extension": ".py",
   "mimetype": "text/x-python",
   "name": "python",
   "nbconvert_exporter": "python",
   "pygments_lexer": "ipython3",
   "version": "3.6.15"
  },
  "papermill": {
   "default_parameters": {},
   "duration": 173.357528,
   "end_time": "2022-07-19T00:49:54.747706",
   "environment_variables": {},
   "exception": null,
   "input_path": "2020-08-11-part2.ipynb",
   "output_path": "2020-08-11-part2.ipynb",
   "parameters": {},
   "start_time": "2022-07-19T00:47:01.390178",
   "version": "2.3.3"
  }
 },
 "nbformat": 4,
 "nbformat_minor": 5
}