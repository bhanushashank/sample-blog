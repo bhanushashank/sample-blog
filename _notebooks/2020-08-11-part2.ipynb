{
 "cells": [
  {
   "cell_type": "markdown",
   "id": "98380cd3",
   "metadata": {
    "papermill": {
     "duration": 0.037526,
     "end_time": "2021-12-05T00:25:23.780179",
     "exception": false,
     "start_time": "2021-12-05T00:25:23.742653",
     "status": "completed"
    },
    "tags": []
   },
   "source": [
    "# Distinguish Your Own Digits (DYOD)"
   ]
  },
  {
   "cell_type": "markdown",
   "id": "ef31240d",
   "metadata": {
    "papermill": {
     "duration": 0.031591,
     "end_time": "2021-12-05T00:25:23.843273",
     "exception": false,
     "start_time": "2021-12-05T00:25:23.811682",
     "status": "completed"
    },
    "tags": []
   },
   "source": [
    "You are going to write a classifier that distinguishes between the number 3 and number 8."
   ]
  },
  {
   "cell_type": "code",
   "execution_count": 1,
   "id": "b15c8646",
   "metadata": {
    "execution": {
     "iopub.execute_input": "2021-12-05T00:25:23.920938Z",
     "iopub.status.busy": "2021-12-05T00:25:23.920048Z",
     "iopub.status.idle": "2021-12-05T00:25:23.933308Z",
     "shell.execute_reply": "2021-12-05T00:25:23.932714Z"
    },
    "papermill": {
     "duration": 0.058712,
     "end_time": "2021-12-05T00:25:23.933485",
     "exception": false,
     "start_time": "2021-12-05T00:25:23.874773",
     "status": "completed"
    },
    "tags": []
   },
   "outputs": [],
   "source": [
    "%load_ext autoreload\n",
    "%autoreload 2"
   ]
  },
  {
   "cell_type": "code",
   "execution_count": 2,
   "id": "22ef38dc",
   "metadata": {
    "execution": {
     "iopub.execute_input": "2021-12-05T00:25:24.003558Z",
     "iopub.status.busy": "2021-12-05T00:25:24.002795Z",
     "iopub.status.idle": "2021-12-05T00:25:24.686940Z",
     "shell.execute_reply": "2021-12-05T00:25:24.686349Z"
    },
    "papermill": {
     "duration": 0.721824,
     "end_time": "2021-12-05T00:25:24.687130",
     "exception": false,
     "start_time": "2021-12-05T00:25:23.965306",
     "status": "completed"
    },
    "tags": []
   },
   "outputs": [],
   "source": [
    "%matplotlib inline\n",
    "import numpy as np\n",
    "import matplotlib.pyplot as plt\n",
    "import pandas as pd"
   ]
  },
  {
   "cell_type": "markdown",
   "id": "ba036198",
   "metadata": {
    "papermill": {
     "duration": 0.031641,
     "end_time": "2021-12-05T00:25:24.748891",
     "exception": false,
     "start_time": "2021-12-05T00:25:24.717250",
     "status": "completed"
    },
    "tags": []
   },
   "source": [
    "From the command line run `pip install mnist`. This is a library that will help you bring down the mnist dataset. If you run this from a notebook, you need to put  `!pip install mnist` in a cell by itself."
   ]
  },
  {
   "cell_type": "code",
   "execution_count": 3,
   "id": "bb6ad8a1",
   "metadata": {
    "execution": {
     "iopub.execute_input": "2021-12-05T00:25:24.816047Z",
     "iopub.status.busy": "2021-12-05T00:25:24.814575Z",
     "iopub.status.idle": "2021-12-05T00:25:27.804102Z",
     "shell.execute_reply": "2021-12-05T00:25:27.803477Z"
    },
    "papermill": {
     "duration": 3.025567,
     "end_time": "2021-12-05T00:25:27.804257",
     "exception": false,
     "start_time": "2021-12-05T00:25:24.778690",
     "status": "completed"
    },
    "tags": []
   },
   "outputs": [
    {
     "name": "stdout",
     "output_type": "stream",
     "text": [
      "Collecting mnist\r\n"
     ]
    },
    {
     "name": "stdout",
     "output_type": "stream",
     "text": [
      "  Downloading mnist-0.2.2-py2.py3-none-any.whl (3.5 kB)\r\n"
     ]
    },
    {
     "name": "stdout",
     "output_type": "stream",
     "text": [
      "Requirement already satisfied: numpy in /opt/hostedtoolcache/Python/3.6.15/x64/lib/python3.6/site-packages (from mnist) (1.19.5)\r\n"
     ]
    },
    {
     "name": "stdout",
     "output_type": "stream",
     "text": [
      "Installing collected packages: mnist\r\n"
     ]
    },
    {
     "name": "stdout",
     "output_type": "stream",
     "text": [
      "Successfully installed mnist-0.2.2\r\n"
     ]
    }
   ],
   "source": [
    "!pip install mnist"
   ]
  },
  {
   "cell_type": "markdown",
   "id": "69df9c9a",
   "metadata": {
    "papermill": {
     "duration": 0.032613,
     "end_time": "2021-12-05T00:25:27.874714",
     "exception": false,
     "start_time": "2021-12-05T00:25:27.842101",
     "status": "completed"
    },
    "tags": []
   },
   "source": [
    "## Preparing the Data"
   ]
  },
  {
   "cell_type": "code",
   "execution_count": 4,
   "id": "7f69d806",
   "metadata": {
    "execution": {
     "iopub.execute_input": "2021-12-05T00:25:27.954797Z",
     "iopub.status.busy": "2021-12-05T00:25:27.954124Z",
     "iopub.status.idle": "2021-12-05T00:25:27.964031Z",
     "shell.execute_reply": "2021-12-05T00:25:27.964598Z"
    },
    "papermill": {
     "duration": 0.058111,
     "end_time": "2021-12-05T00:25:27.964753",
     "exception": false,
     "start_time": "2021-12-05T00:25:27.906642",
     "status": "completed"
    },
    "tags": []
   },
   "outputs": [],
   "source": [
    "import mnist"
   ]
  },
  {
   "cell_type": "code",
   "execution_count": 5,
   "id": "a411e44f",
   "metadata": {
    "execution": {
     "iopub.execute_input": "2021-12-05T00:25:28.034180Z",
     "iopub.status.busy": "2021-12-05T00:25:28.033514Z",
     "iopub.status.idle": "2021-12-05T00:25:28.686781Z",
     "shell.execute_reply": "2021-12-05T00:25:28.685798Z"
    },
    "papermill": {
     "duration": 0.689199,
     "end_time": "2021-12-05T00:25:28.686934",
     "exception": false,
     "start_time": "2021-12-05T00:25:27.997735",
     "status": "completed"
    },
    "tags": []
   },
   "outputs": [],
   "source": [
    "train_images = mnist.train_images()\n",
    "train_labels = mnist.train_labels()"
   ]
  },
  {
   "cell_type": "code",
   "execution_count": 6,
   "id": "dceab3a5",
   "metadata": {
    "execution": {
     "iopub.execute_input": "2021-12-05T00:25:28.757389Z",
     "iopub.status.busy": "2021-12-05T00:25:28.756585Z",
     "iopub.status.idle": "2021-12-05T00:25:28.772346Z",
     "shell.execute_reply": "2021-12-05T00:25:28.771815Z"
    },
    "papermill": {
     "duration": 0.05223,
     "end_time": "2021-12-05T00:25:28.772475",
     "exception": false,
     "start_time": "2021-12-05T00:25:28.720245",
     "status": "completed"
    },
    "tags": []
   },
   "outputs": [
    {
     "data": {
      "text/plain": [
       "((60000, 28, 28), (60000,))"
      ]
     },
     "execution_count": 6,
     "metadata": {},
     "output_type": "execute_result"
    }
   ],
   "source": [
    "train_images.shape, train_labels.shape"
   ]
  },
  {
   "cell_type": "code",
   "execution_count": 7,
   "id": "f50dc2bb",
   "metadata": {
    "execution": {
     "iopub.execute_input": "2021-12-05T00:25:28.841000Z",
     "iopub.status.busy": "2021-12-05T00:25:28.840336Z",
     "iopub.status.idle": "2021-12-05T00:25:29.128489Z",
     "shell.execute_reply": "2021-12-05T00:25:29.127901Z"
    },
    "papermill": {
     "duration": 0.323353,
     "end_time": "2021-12-05T00:25:29.128660",
     "exception": false,
     "start_time": "2021-12-05T00:25:28.805307",
     "status": "completed"
    },
    "tags": []
   },
   "outputs": [],
   "source": [
    "test_images = mnist.test_images()\n",
    "test_labels = mnist.test_labels()"
   ]
  },
  {
   "cell_type": "code",
   "execution_count": 8,
   "id": "fc38cf1b",
   "metadata": {
    "execution": {
     "iopub.execute_input": "2021-12-05T00:25:29.195619Z",
     "iopub.status.busy": "2021-12-05T00:25:29.194903Z",
     "iopub.status.idle": "2021-12-05T00:25:29.208928Z",
     "shell.execute_reply": "2021-12-05T00:25:29.209573Z"
    },
    "papermill": {
     "duration": 0.049642,
     "end_time": "2021-12-05T00:25:29.209722",
     "exception": false,
     "start_time": "2021-12-05T00:25:29.160080",
     "status": "completed"
    },
    "tags": []
   },
   "outputs": [
    {
     "data": {
      "text/plain": [
       "((10000, 28, 28), (10000,))"
      ]
     },
     "execution_count": 8,
     "metadata": {},
     "output_type": "execute_result"
    }
   ],
   "source": [
    "test_images.shape, test_labels.shape"
   ]
  },
  {
   "cell_type": "code",
   "execution_count": 9,
   "id": "f9ed8fe0",
   "metadata": {
    "execution": {
     "iopub.execute_input": "2021-12-05T00:25:29.289090Z",
     "iopub.status.busy": "2021-12-05T00:25:29.286535Z",
     "iopub.status.idle": "2021-12-05T00:25:29.462235Z",
     "shell.execute_reply": "2021-12-05T00:25:29.461745Z"
    },
    "papermill": {
     "duration": 0.219775,
     "end_time": "2021-12-05T00:25:29.462370",
     "exception": false,
     "start_time": "2021-12-05T00:25:29.242595",
     "status": "completed"
    },
    "tags": []
   },
   "outputs": [
    {
     "name": "stdout",
     "output_type": "stream",
     "text": [
      "2\n"
     ]
    },
    {
     "data": {
      "text/plain": [
       "<matplotlib.image.AxesImage at 0x7fc5b4b04ac8>"
      ]
     },
     "execution_count": 9,
     "metadata": {},
     "output_type": "execute_result"
    },
    {
     "data": {
      "image/png": "[encoded data removed]",
      "text/plain": [
       "<Figure size 432x288 with 1 Axes>"
      ]
     },
     "metadata": {
      "needs_background": "light"
     },
     "output_type": "display_data"
    }
   ],
   "source": [
    "image_index = 7776 # You may select anything up to 60,000\n",
    "print(train_labels[image_index]) \n",
    "plt.imshow(train_images[image_index], cmap='Greys')"
   ]
  },
  {
   "cell_type": "markdown",
   "id": "a8d2388d",
   "metadata": {
    "papermill": {
     "duration": 0.034543,
     "end_time": "2021-12-05T00:25:29.531565",
     "exception": false,
     "start_time": "2021-12-05T00:25:29.497022",
     "status": "completed"
    },
    "tags": []
   },
   "source": [
    "## Filter data to get 3 and 8 out"
   ]
  },
  {
   "cell_type": "code",
   "execution_count": 10,
   "id": "776f7fc7",
   "metadata": {
    "execution": {
     "iopub.execute_input": "2021-12-05T00:25:29.610518Z",
     "iopub.status.busy": "2021-12-05T00:25:29.609824Z",
     "iopub.status.idle": "2021-12-05T00:25:29.629518Z",
     "shell.execute_reply": "2021-12-05T00:25:29.628959Z"
    },
    "papermill": {
     "duration": 0.061279,
     "end_time": "2021-12-05T00:25:29.629659",
     "exception": false,
     "start_time": "2021-12-05T00:25:29.568380",
     "status": "completed"
    },
    "tags": []
   },
   "outputs": [],
   "source": [
    "train_filter = np.where((train_labels == 3 ) | (train_labels == 8))\n",
    "test_filter = np.where((test_labels == 3) | (test_labels == 8))\n",
    "X_train, y_train = train_images[train_filter], train_labels[train_filter]\n",
    "X_test, y_test = test_images[test_filter], test_labels[test_filter]"
   ]
  },
  {
   "cell_type": "markdown",
   "id": "948f0b7e",
   "metadata": {
    "papermill": {
     "duration": 0.034481,
     "end_time": "2021-12-05T00:25:29.701382",
     "exception": false,
     "start_time": "2021-12-05T00:25:29.666901",
     "status": "completed"
    },
    "tags": []
   },
   "source": [
    "We normalize the pizel values in the 0 to 1 range"
   ]
  },
  {
   "cell_type": "code",
   "execution_count": 11,
   "id": "ee4c2166",
   "metadata": {
    "execution": {
     "iopub.execute_input": "2021-12-05T00:25:29.771714Z",
     "iopub.status.busy": "2021-12-05T00:25:29.770954Z",
     "iopub.status.idle": "2021-12-05T00:25:29.835671Z",
     "shell.execute_reply": "2021-12-05T00:25:29.834973Z"
    },
    "papermill": {
     "duration": 0.101532,
     "end_time": "2021-12-05T00:25:29.835830",
     "exception": false,
     "start_time": "2021-12-05T00:25:29.734298",
     "status": "completed"
    },
    "tags": []
   },
   "outputs": [],
   "source": [
    "X_train = X_train/255.\n",
    "X_test = X_test/255."
   ]
  },
  {
   "cell_type": "markdown",
   "id": "ddcf4fab",
   "metadata": {
    "papermill": {
     "duration": 0.034691,
     "end_time": "2021-12-05T00:25:29.904484",
     "exception": false,
     "start_time": "2021-12-05T00:25:29.869793",
     "status": "completed"
    },
    "tags": []
   },
   "source": [
    "And setup the labels as 1 (when the digit is 3) and 0 (when the digit is 8)"
   ]
  },
  {
   "cell_type": "code",
   "execution_count": 12,
   "id": "7dc908f2",
   "metadata": {
    "execution": {
     "iopub.execute_input": "2021-12-05T00:25:29.979692Z",
     "iopub.status.busy": "2021-12-05T00:25:29.978949Z",
     "iopub.status.idle": "2021-12-05T00:25:29.992973Z",
     "shell.execute_reply": "2021-12-05T00:25:29.992403Z"
    },
    "papermill": {
     "duration": 0.054775,
     "end_time": "2021-12-05T00:25:29.993116",
     "exception": false,
     "start_time": "2021-12-05T00:25:29.938341",
     "status": "completed"
    },
    "tags": []
   },
   "outputs": [],
   "source": [
    "y_train = 1*(y_train==3)\n",
    "y_test = 1*(y_test==3)"
   ]
  },
  {
   "cell_type": "code",
   "execution_count": 13,
   "id": "01e4e969",
   "metadata": {
    "execution": {
     "iopub.execute_input": "2021-12-05T00:25:30.071869Z",
     "iopub.status.busy": "2021-12-05T00:25:30.070986Z",
     "iopub.status.idle": "2021-12-05T00:25:30.085061Z",
     "shell.execute_reply": "2021-12-05T00:25:30.085606Z"
    },
    "papermill": {
     "duration": 0.055321,
     "end_time": "2021-12-05T00:25:30.085772",
     "exception": false,
     "start_time": "2021-12-05T00:25:30.030451",
     "status": "completed"
    },
    "tags": []
   },
   "outputs": [
    {
     "data": {
      "text/plain": [
       "((11982, 28, 28), (1984, 28, 28))"
      ]
     },
     "execution_count": 13,
     "metadata": {},
     "output_type": "execute_result"
    }
   ],
   "source": [
    "X_train.shape, X_test.shape"
   ]
  },
  {
   "cell_type": "markdown",
   "id": "5ccf3f85",
   "metadata": {
    "papermill": {
     "duration": 0.033745,
     "end_time": "2021-12-05T00:25:30.154803",
     "exception": false,
     "start_time": "2021-12-05T00:25:30.121058",
     "status": "completed"
    },
    "tags": []
   },
   "source": [
    "We reshape the data to flatten the image pixels into a set of features or co-variates:"
   ]
  },
  {
   "cell_type": "code",
   "execution_count": 14,
   "id": "5286a4a3",
   "metadata": {
    "execution": {
     "iopub.execute_input": "2021-12-05T00:25:30.231151Z",
     "iopub.status.busy": "2021-12-05T00:25:30.230269Z",
     "iopub.status.idle": "2021-12-05T00:25:30.243239Z",
     "shell.execute_reply": "2021-12-05T00:25:30.242648Z"
    },
    "papermill": {
     "duration": 0.054056,
     "end_time": "2021-12-05T00:25:30.243396",
     "exception": false,
     "start_time": "2021-12-05T00:25:30.189340",
     "status": "completed"
    },
    "tags": []
   },
   "outputs": [
    {
     "data": {
      "text/plain": [
       "((11982, 784), (1984, 784))"
      ]
     },
     "execution_count": 14,
     "metadata": {},
     "output_type": "execute_result"
    }
   ],
   "source": [
    "X_train = X_train.reshape(X_train.shape[0], -1)\n",
    "X_test = X_test.reshape(X_test.shape[0], -1)\n",
    "X_train.shape, X_test.shape"
   ]
  },
  {
   "cell_type": "code",
   "execution_count": 15,
   "id": "73c5f88a",
   "metadata": {
    "execution": {
     "iopub.execute_input": "2021-12-05T00:25:30.333250Z",
     "iopub.status.busy": "2021-12-05T00:25:30.328282Z",
     "iopub.status.idle": "2021-12-05T00:25:30.343393Z",
     "shell.execute_reply": "2021-12-05T00:25:30.343884Z"
    },
    "papermill": {
     "duration": 0.065806,
     "end_time": "2021-12-05T00:25:30.344021",
     "exception": false,
     "start_time": "2021-12-05T00:25:30.278215",
     "status": "completed"
    },
    "tags": []
   },
   "outputs": [],
   "source": [
    "#Impoting functions from 'Kudzu'\n",
    "from kudzu.model import Model\n",
    "from kudzu.train import Learner\n",
    "from kudzu.optim import GD\n",
    "from kudzu.data import Data, Sampler,Dataloader\n",
    "\n",
    "from kudzu.callbacks import AccCallback\n",
    "from kudzu.callbacks import ClfCallback\n",
    "\n",
    "from kudzu.loss import MSE\n",
    "\n",
    "from kudzu.layer import Sigmoid,Relu\n",
    "from kudzu.layer import Affine"
   ]
  },
  {
   "cell_type": "markdown",
   "id": "bc01172a",
   "metadata": {
    "papermill": {
     "duration": 0.032885,
     "end_time": "2021-12-05T00:25:30.407757",
     "exception": false,
     "start_time": "2021-12-05T00:25:30.374872",
     "status": "completed"
    },
    "tags": []
   },
   "source": [
    "### Let us create a `Config` class, to store important parameters. \n",
    "This class essentially plays the role of a dictionary."
   ]
  },
  {
   "cell_type": "code",
   "execution_count": 16,
   "id": "978281aa",
   "metadata": {
    "execution": {
     "iopub.execute_input": "2021-12-05T00:25:30.488905Z",
     "iopub.status.busy": "2021-12-05T00:25:30.483027Z",
     "iopub.status.idle": "2021-12-05T00:25:30.493884Z",
     "shell.execute_reply": "2021-12-05T00:25:30.493285Z"
    },
    "papermill": {
     "duration": 0.054573,
     "end_time": "2021-12-05T00:25:30.494005",
     "exception": false,
     "start_time": "2021-12-05T00:25:30.439432",
     "status": "completed"
    },
    "tags": []
   },
   "outputs": [],
   "source": [
    "class Config:\n",
    "    pass\n",
    "config = Config()\n",
    "config.lr = 0.001\n",
    "config.num_epochs = 250\n",
    "config.bs = 50"
   ]
  },
  {
   "cell_type": "markdown",
   "id": "1385fa59",
   "metadata": {
    "papermill": {
     "duration": 0.033049,
     "end_time": "2021-12-05T00:25:30.559673",
     "exception": false,
     "start_time": "2021-12-05T00:25:30.526624",
     "status": "completed"
    },
    "tags": []
   },
   "source": [
    "### Running Models with the Training data\n",
    "Details about the network layers:\n",
    "- A first affine layer has 784 inputs and does 100 affine transforms. These are followed by a Relu\n",
    "- A second affine layer has 100 inputs from the 100 activations of the past layer, and does 100 affine transforms. These are followed by a Relu\n",
    "- A third affine layer has 100 activations and does 2 affine transformations to create an embedding for visualization. There is no non-linearity here.\n",
    "- A final \"logistic regression\" which has an affine transform from 2 inputs to 1 output, which is squeezed through a sigmoid.\n"
   ]
  },
  {
   "cell_type": "code",
   "execution_count": 17,
   "id": "2b9c66db",
   "metadata": {
    "execution": {
     "iopub.execute_input": "2021-12-05T00:25:30.635849Z",
     "iopub.status.busy": "2021-12-05T00:25:30.626898Z",
     "iopub.status.idle": "2021-12-05T00:25:30.642599Z",
     "shell.execute_reply": "2021-12-05T00:25:30.643593Z"
    },
    "papermill": {
     "duration": 0.052038,
     "end_time": "2021-12-05T00:25:30.643734",
     "exception": false,
     "start_time": "2021-12-05T00:25:30.591696",
     "status": "completed"
    },
    "tags": []
   },
   "outputs": [],
   "source": [
    "data = Data(X_train, y_train.reshape(-1,1))\n",
    "sampler = Sampler(data, config.bs, shuffle=True)\n",
    "\n",
    "dl = Dataloader(data, sampler)\n",
    "\n",
    "opt = GD(config.lr)\n",
    "loss = MSE()"
   ]
  },
  {
   "cell_type": "code",
   "execution_count": 18,
   "id": "b275e4c2",
   "metadata": {
    "execution": {
     "iopub.execute_input": "2021-12-05T00:25:30.717046Z",
     "iopub.status.busy": "2021-12-05T00:25:30.716383Z",
     "iopub.status.idle": "2021-12-05T00:25:30.730849Z",
     "shell.execute_reply": "2021-12-05T00:25:30.730275Z"
    },
    "papermill": {
     "duration": 0.055263,
     "end_time": "2021-12-05T00:25:30.730984",
     "exception": false,
     "start_time": "2021-12-05T00:25:30.675721",
     "status": "completed"
    },
    "tags": []
   },
   "outputs": [],
   "source": [
    "training_data_x = X_train\n",
    "testing_data_x = X_test\n",
    "training_data_y = y_train.reshape(-1,1)\n",
    "testing_data_y = y_test.reshape(-1,1)"
   ]
  },
  {
   "cell_type": "code",
   "execution_count": 19,
   "id": "76951160",
   "metadata": {
    "execution": {
     "iopub.execute_input": "2021-12-05T00:25:30.807339Z",
     "iopub.status.busy": "2021-12-05T00:25:30.806618Z",
     "iopub.status.idle": "2021-12-05T00:25:30.824358Z",
     "shell.execute_reply": "2021-12-05T00:25:30.824929Z"
    },
    "papermill": {
     "duration": 0.057039,
     "end_time": "2021-12-05T00:25:30.825072",
     "exception": false,
     "start_time": "2021-12-05T00:25:30.768033",
     "status": "completed"
    },
    "tags": []
   },
   "outputs": [
    {
     "name": "stdout",
     "output_type": "stream",
     "text": [
      "xavier\n",
      "xavier\n",
      "xavier\n",
      "xavier\n",
      "xavier\n"
     ]
    }
   ],
   "source": [
    "layers = [Affine(\"first\", 784, 100), Relu(\"first\"), Affine(\"second\", 100, 100), Relu(\"second\"), Affine(\"third\", 100, 2), Affine(\"last\", 2, 1), Sigmoid(\"last\")]\n",
    "model_nn = Model(layers)\n",
    "model_lr = Model([Affine(\"logits\", 784, 1), Sigmoid(\"sigmoid\")])"
   ]
  },
  {
   "cell_type": "code",
   "execution_count": 20,
   "id": "6eede77a",
   "metadata": {
    "execution": {
     "iopub.execute_input": "2021-12-05T00:25:30.897073Z",
     "iopub.status.busy": "2021-12-05T00:25:30.896392Z",
     "iopub.status.idle": "2021-12-05T00:25:30.909618Z",
     "shell.execute_reply": "2021-12-05T00:25:30.909117Z"
    },
    "papermill": {
     "duration": 0.050241,
     "end_time": "2021-12-05T00:25:30.909735",
     "exception": false,
     "start_time": "2021-12-05T00:25:30.859494",
     "status": "completed"
    },
    "tags": []
   },
   "outputs": [],
   "source": [
    "nn_learner = Learner(loss, model_nn, opt, config.num_epochs)\n",
    "acc_nn = ClfCallback(nn_learner, config.bs, training_data_x , testing_data_x, training_data_y, testing_data_y)\n",
    "nn_learner.set_callbacks([acc_nn])"
   ]
  },
  {
   "cell_type": "code",
   "execution_count": 21,
   "id": "877b6cc7",
   "metadata": {
    "execution": {
     "iopub.execute_input": "2021-12-05T00:25:30.983259Z",
     "iopub.status.busy": "2021-12-05T00:25:30.982220Z",
     "iopub.status.idle": "2021-12-05T00:25:30.996778Z",
     "shell.execute_reply": "2021-12-05T00:25:30.997267Z"
    },
    "papermill": {
     "duration": 0.053137,
     "end_time": "2021-12-05T00:25:30.997429",
     "exception": false,
     "start_time": "2021-12-05T00:25:30.944292",
     "status": "completed"
    },
    "tags": []
   },
   "outputs": [],
   "source": [
    "lr_learner = Learner(loss, model_lr, opt, config.num_epochs)\n",
    "acc_lr = ClfCallback(lr_learner, config.bs, training_data_x , testing_data_x, training_data_y, testing_data_y)\n",
    "lr_learner.set_callbacks([acc_lr])"
   ]
  },
  {
   "cell_type": "code",
   "execution_count": 22,
   "id": "d9b133c3",
   "metadata": {
    "execution": {
     "iopub.execute_input": "2021-12-05T00:25:31.078693Z",
     "iopub.status.busy": "2021-12-05T00:25:31.076908Z",
     "iopub.status.idle": "2021-12-05T00:27:39.827579Z",
     "shell.execute_reply": "2021-12-05T00:27:39.828377Z"
    },
    "papermill": {
     "duration": 128.794993,
     "end_time": "2021-12-05T00:27:39.828552",
     "exception": false,
     "start_time": "2021-12-05T00:25:31.033559",
     "status": "completed"
    },
    "tags": []
   },
   "outputs": [
    {
     "name": "stdout",
     "output_type": "stream",
     "text": [
      "Epoch 0, Loss 0.2509\n",
      "Training Accuracy: 0.6194, Testing Accuracy: 0.6129\n",
      "\n"
     ]
    },
    {
     "name": "stdout",
     "output_type": "stream",
     "text": [
      "Epoch 10, Loss 0.0859\n",
      "Training Accuracy: 0.9215, Testing Accuracy: 0.9299\n",
      "\n"
     ]
    },
    {
     "name": "stdout",
     "output_type": "stream",
     "text": [
      "Epoch 20, Loss 0.0534\n",
      "Training Accuracy: 0.9442, Testing Accuracy: 0.9546\n",
      "\n"
     ]
    },
    {
     "name": "stdout",
     "output_type": "stream",
     "text": [
      "Epoch 30, Loss 0.0426\n",
      "Training Accuracy: 0.9527, Testing Accuracy: 0.9577\n",
      "\n"
     ]
    },
    {
     "name": "stdout",
     "output_type": "stream",
     "text": [
      "Epoch 40, Loss 0.0373\n",
      "Training Accuracy: 0.9572, Testing Accuracy: 0.9622\n",
      "\n"
     ]
    },
    {
     "name": "stdout",
     "output_type": "stream",
     "text": [
      "Epoch 50, Loss 0.0341\n",
      "Training Accuracy: 0.9605, Testing Accuracy: 0.9652\n",
      "\n"
     ]
    },
    {
     "name": "stdout",
     "output_type": "stream",
     "text": [
      "Epoch 60, Loss 0.0318\n",
      "Training Accuracy: 0.9626, Testing Accuracy: 0.9677\n",
      "\n"
     ]
    },
    {
     "name": "stdout",
     "output_type": "stream",
     "text": [
      "Epoch 70, Loss 0.0301\n",
      "Training Accuracy: 0.9639, Testing Accuracy: 0.9672\n",
      "\n"
     ]
    },
    {
     "name": "stdout",
     "output_type": "stream",
     "text": [
      "Epoch 80, Loss 0.0288\n",
      "Training Accuracy: 0.9648, Testing Accuracy: 0.9677\n",
      "\n"
     ]
    },
    {
     "name": "stdout",
     "output_type": "stream",
     "text": [
      "Epoch 90, Loss 0.0276\n",
      "Training Accuracy: 0.9659, Testing Accuracy: 0.9698\n",
      "\n"
     ]
    },
    {
     "name": "stdout",
     "output_type": "stream",
     "text": [
      "Epoch 100, Loss 0.0266\n",
      "Training Accuracy: 0.9670, Testing Accuracy: 0.9703\n",
      "\n"
     ]
    },
    {
     "name": "stdout",
     "output_type": "stream",
     "text": [
      "Epoch 110, Loss 0.0258\n",
      "Training Accuracy: 0.9685, Testing Accuracy: 0.9703\n",
      "\n"
     ]
    },
    {
     "name": "stdout",
     "output_type": "stream",
     "text": [
      "Epoch 120, Loss 0.025\n",
      "Training Accuracy: 0.9705, Testing Accuracy: 0.9708\n",
      "\n"
     ]
    },
    {
     "name": "stdout",
     "output_type": "stream",
     "text": [
      "Epoch 130, Loss 0.0243\n",
      "Training Accuracy: 0.9714, Testing Accuracy: 0.9708\n",
      "\n"
     ]
    },
    {
     "name": "stdout",
     "output_type": "stream",
     "text": [
      "Epoch 140, Loss 0.0236\n",
      "Training Accuracy: 0.9723, Testing Accuracy: 0.9708\n",
      "\n"
     ]
    },
    {
     "name": "stdout",
     "output_type": "stream",
     "text": [
      "Epoch 150, Loss 0.023\n",
      "Training Accuracy: 0.9729, Testing Accuracy: 0.9718\n",
      "\n"
     ]
    },
    {
     "name": "stdout",
     "output_type": "stream",
     "text": [
      "Epoch 160, Loss 0.0225\n",
      "Training Accuracy: 0.9734, Testing Accuracy: 0.9723\n",
      "\n"
     ]
    },
    {
     "name": "stdout",
     "output_type": "stream",
     "text": [
      "Epoch 170, Loss 0.0219\n",
      "Training Accuracy: 0.9743, Testing Accuracy: 0.9723\n",
      "\n"
     ]
    },
    {
     "name": "stdout",
     "output_type": "stream",
     "text": [
      "Epoch 180, Loss 0.0214\n",
      "Training Accuracy: 0.9751, Testing Accuracy: 0.9728\n",
      "\n"
     ]
    },
    {
     "name": "stdout",
     "output_type": "stream",
     "text": [
      "Epoch 190, Loss 0.0209\n",
      "Training Accuracy: 0.9761, Testing Accuracy: 0.9723\n",
      "\n"
     ]
    },
    {
     "name": "stdout",
     "output_type": "stream",
     "text": [
      "Epoch 200, Loss 0.0205\n",
      "Training Accuracy: 0.9764, Testing Accuracy: 0.9728\n",
      "\n"
     ]
    },
    {
     "name": "stdout",
     "output_type": "stream",
     "text": [
      "Epoch 210, Loss 0.0201\n",
      "Training Accuracy: 0.9766, Testing Accuracy: 0.9733\n",
      "\n"
     ]
    },
    {
     "name": "stdout",
     "output_type": "stream",
     "text": [
      "Epoch 220, Loss 0.0196\n",
      "Training Accuracy: 0.9772, Testing Accuracy: 0.9733\n",
      "\n"
     ]
    },
    {
     "name": "stdout",
     "output_type": "stream",
     "text": [
      "Epoch 230, Loss 0.0192\n",
      "Training Accuracy: 0.9776, Testing Accuracy: 0.9738\n",
      "\n"
     ]
    },
    {
     "name": "stdout",
     "output_type": "stream",
     "text": [
      "Epoch 240, Loss 0.0188\n",
      "Training Accuracy: 0.9785, Testing Accuracy: 0.9733\n",
      "\n"
     ]
    },
    {
     "data": {
      "text/plain": [
       "0.01316967404151902"
      ]
     },
     "execution_count": 22,
     "metadata": {},
     "output_type": "execute_result"
    }
   ],
   "source": [
    "nn_learner.train_loop(dl)"
   ]
  },
  {
   "cell_type": "code",
   "execution_count": 23,
   "id": "e0163366",
   "metadata": {
    "execution": {
     "iopub.execute_input": "2021-12-05T00:27:39.928852Z",
     "iopub.status.busy": "2021-12-05T00:27:39.928181Z",
     "iopub.status.idle": "2021-12-05T00:27:58.977257Z",
     "shell.execute_reply": "2021-12-05T00:27:58.978229Z"
    },
    "papermill": {
     "duration": 19.10473,
     "end_time": "2021-12-05T00:27:58.978408",
     "exception": false,
     "start_time": "2021-12-05T00:27:39.873678",
     "status": "completed"
    },
    "tags": []
   },
   "outputs": [
    {
     "name": "stdout",
     "output_type": "stream",
     "text": [
      "Epoch 0, Loss 0.24\n",
      "Training Accuracy: 0.7127, Testing Accuracy: 0.7419\n",
      "\n"
     ]
    },
    {
     "name": "stdout",
     "output_type": "stream",
     "text": [
      "Epoch 10, Loss 0.1024\n",
      "Training Accuracy: 0.9097, Testing Accuracy: 0.9234\n",
      "\n"
     ]
    },
    {
     "name": "stdout",
     "output_type": "stream",
     "text": [
      "Epoch 20, Loss 0.0797\n",
      "Training Accuracy: 0.9242, Testing Accuracy: 0.9420\n",
      "\n"
     ]
    },
    {
     "name": "stdout",
     "output_type": "stream",
     "text": [
      "Epoch 30, Loss 0.069\n",
      "Training Accuracy: 0.9337, Testing Accuracy: 0.9471\n",
      "\n"
     ]
    },
    {
     "name": "stdout",
     "output_type": "stream",
     "text": [
      "Epoch 40, Loss 0.0624\n",
      "Training Accuracy: 0.9397, Testing Accuracy: 0.9511\n",
      "\n"
     ]
    },
    {
     "name": "stdout",
     "output_type": "stream",
     "text": [
      "Epoch 50, Loss 0.0579\n",
      "Training Accuracy: 0.9430, Testing Accuracy: 0.9521\n",
      "\n"
     ]
    },
    {
     "name": "stdout",
     "output_type": "stream",
     "text": [
      "Epoch 60, Loss 0.0546\n",
      "Training Accuracy: 0.9456, Testing Accuracy: 0.9546\n",
      "\n"
     ]
    },
    {
     "name": "stdout",
     "output_type": "stream",
     "text": [
      "Epoch 70, Loss 0.052\n",
      "Training Accuracy: 0.9477, Testing Accuracy: 0.9572\n",
      "\n"
     ]
    },
    {
     "name": "stdout",
     "output_type": "stream",
     "text": [
      "Epoch 80, Loss 0.0499\n",
      "Training Accuracy: 0.9490, Testing Accuracy: 0.9582\n",
      "\n"
     ]
    },
    {
     "name": "stdout",
     "output_type": "stream",
     "text": [
      "Epoch 90, Loss 0.0482\n",
      "Training Accuracy: 0.9503, Testing Accuracy: 0.9582\n",
      "\n"
     ]
    },
    {
     "name": "stdout",
     "output_type": "stream",
     "text": [
      "Epoch 100, Loss 0.0467\n",
      "Training Accuracy: 0.9510, Testing Accuracy: 0.9592\n",
      "\n"
     ]
    },
    {
     "name": "stdout",
     "output_type": "stream",
     "text": [
      "Epoch 110, Loss 0.0455\n",
      "Training Accuracy: 0.9523, Testing Accuracy: 0.9617\n",
      "\n"
     ]
    },
    {
     "name": "stdout",
     "output_type": "stream",
     "text": [
      "Epoch 120, Loss 0.0444\n",
      "Training Accuracy: 0.9532, Testing Accuracy: 0.9627\n",
      "\n"
     ]
    },
    {
     "name": "stdout",
     "output_type": "stream",
     "text": [
      "Epoch 130, Loss 0.0434\n",
      "Training Accuracy: 0.9540, Testing Accuracy: 0.9632\n",
      "\n"
     ]
    },
    {
     "name": "stdout",
     "output_type": "stream",
     "text": [
      "Epoch 140, Loss 0.0426\n",
      "Training Accuracy: 0.9543, Testing Accuracy: 0.9642\n",
      "\n"
     ]
    },
    {
     "name": "stdout",
     "output_type": "stream",
     "text": [
      "Epoch 150, Loss 0.0418\n",
      "Training Accuracy: 0.9550, Testing Accuracy: 0.9647\n",
      "\n"
     ]
    },
    {
     "name": "stdout",
     "output_type": "stream",
     "text": [
      "Epoch 160, Loss 0.0411\n",
      "Training Accuracy: 0.9552, Testing Accuracy: 0.9647\n",
      "\n"
     ]
    },
    {
     "name": "stdout",
     "output_type": "stream",
     "text": [
      "Epoch 170, Loss 0.0405\n",
      "Training Accuracy: 0.9560, Testing Accuracy: 0.9657\n",
      "\n"
     ]
    },
    {
     "name": "stdout",
     "output_type": "stream",
     "text": [
      "Epoch 180, Loss 0.0399\n",
      "Training Accuracy: 0.9569, Testing Accuracy: 0.9662\n",
      "\n"
     ]
    },
    {
     "name": "stdout",
     "output_type": "stream",
     "text": [
      "Epoch 190, Loss 0.0394\n",
      "Training Accuracy: 0.9576, Testing Accuracy: 0.9677\n",
      "\n"
     ]
    },
    {
     "name": "stdout",
     "output_type": "stream",
     "text": [
      "Epoch 200, Loss 0.0389\n",
      "Training Accuracy: 0.9583, Testing Accuracy: 0.9682\n",
      "\n"
     ]
    },
    {
     "name": "stdout",
     "output_type": "stream",
     "text": [
      "Epoch 210, Loss 0.0384\n",
      "Training Accuracy: 0.9590, Testing Accuracy: 0.9677\n",
      "\n"
     ]
    },
    {
     "name": "stdout",
     "output_type": "stream",
     "text": [
      "Epoch 220, Loss 0.038\n",
      "Training Accuracy: 0.9594, Testing Accuracy: 0.9672\n",
      "\n"
     ]
    },
    {
     "name": "stdout",
     "output_type": "stream",
     "text": [
      "Epoch 230, Loss 0.0376\n",
      "Training Accuracy: 0.9597, Testing Accuracy: 0.9672\n",
      "\n"
     ]
    },
    {
     "name": "stdout",
     "output_type": "stream",
     "text": [
      "Epoch 240, Loss 0.0372\n",
      "Training Accuracy: 0.9599, Testing Accuracy: 0.9677\n",
      "\n"
     ]
    },
    {
     "data": {
      "text/plain": [
       "0.01558145767100764"
      ]
     },
     "execution_count": 23,
     "metadata": {},
     "output_type": "execute_result"
    }
   ],
   "source": [
    "lr_learner.train_loop(dl)"
   ]
  },
  {
   "cell_type": "code",
   "execution_count": 24,
   "id": "ca410940",
   "metadata": {
    "execution": {
     "iopub.execute_input": "2021-12-05T00:27:59.104313Z",
     "iopub.status.busy": "2021-12-05T00:27:59.103613Z",
     "iopub.status.idle": "2021-12-05T00:27:59.421649Z",
     "shell.execute_reply": "2021-12-05T00:27:59.422153Z"
    },
    "papermill": {
     "duration": 0.38885,
     "end_time": "2021-12-05T00:27:59.422357",
     "exception": false,
     "start_time": "2021-12-05T00:27:59.033507",
     "status": "completed"
    },
    "tags": []
   },
   "outputs": [
    {
     "data": {
      "text/plain": [
       "<matplotlib.legend.Legend at 0x7fc5b46ebc50>"
      ]
     },
     "execution_count": 24,
     "metadata": {},
     "output_type": "execute_result"
    },
    {
     "data": {
      "image/png": "[encoded data removed]",
      "text/plain": [
       "<Figure size 1080x720 with 1 Axes>"
      ]
     },
     "metadata": {
      "needs_background": "light"
     },
     "output_type": "display_data"
    }
   ],
   "source": [
    "#comparing the results of NN and LR\n",
    "plt.figure(figsize=(15,10))\n",
    "\n",
    "# Neural Network plots\n",
    "plt.plot(acc_nn.accuracies, 'r-', label = \"Training Accuracies - NN\")\n",
    "plt.plot(acc_nn.test_accuracies, 'g-', label = \"Testing Accuracies - NN\")\n",
    "\n",
    "# Logistic Regression plots\n",
    "plt.plot(acc_lr.accuracies, 'k-', label = \"Training Accuracies - LR\")\n",
    "plt.plot(acc_lr.test_accuracies, 'b-', label = \"Testing Accuracies - LR\")\n",
    "plt.legend()"
   ]
  },
  {
   "cell_type": "markdown",
   "id": "80dfb35c",
   "metadata": {
    "papermill": {
     "duration": 0.05473,
     "end_time": "2021-12-05T00:27:59.533420",
     "exception": false,
     "start_time": "2021-12-05T00:27:59.478690",
     "status": "completed"
    },
    "tags": []
   },
   "source": [
    "#### Plotting the outputs of this layer of the NN.\n"
   ]
  },
  {
   "cell_type": "code",
   "execution_count": 25,
   "id": "45eb2ff5",
   "metadata": {
    "execution": {
     "iopub.execute_input": "2021-12-05T00:27:59.648921Z",
     "iopub.status.busy": "2021-12-05T00:27:59.647787Z",
     "iopub.status.idle": "2021-12-05T00:27:59.673631Z",
     "shell.execute_reply": "2021-12-05T00:27:59.674188Z"
    },
    "papermill": {
     "duration": 0.086432,
     "end_time": "2021-12-05T00:27:59.674362",
     "exception": false,
     "start_time": "2021-12-05T00:27:59.587930",
     "status": "completed"
    },
    "tags": []
   },
   "outputs": [],
   "source": [
    "new_model = Model(layers[:-2])\n",
    "testing_plot = new_model(testing_data_x)"
   ]
  },
  {
   "cell_type": "code",
   "execution_count": 26,
   "id": "4c0a5485",
   "metadata": {
    "execution": {
     "iopub.execute_input": "2021-12-05T00:27:59.793384Z",
     "iopub.status.busy": "2021-12-05T00:27:59.792480Z",
     "iopub.status.idle": "2021-12-05T00:28:00.069898Z",
     "shell.execute_reply": "2021-12-05T00:28:00.070424Z"
    },
    "papermill": {
     "duration": 0.340748,
     "end_time": "2021-12-05T00:28:00.070599",
     "exception": false,
     "start_time": "2021-12-05T00:27:59.729851",
     "status": "completed"
    },
    "tags": []
   },
   "outputs": [
    {
     "data": {
      "text/plain": [
       "Text(0.5, 1.0, 'Outputs')"
      ]
     },
     "execution_count": 26,
     "metadata": {},
     "output_type": "execute_result"
    },
    {
     "data": {
      "image/png": "[encoded data removed]",
      "text/plain": [
       "<Figure size 576x504 with 1 Axes>"
      ]
     },
     "metadata": {
      "needs_background": "light"
     },
     "output_type": "display_data"
    }
   ],
   "source": [
    "# Plotting the scatter plot of points and color coding by class\n",
    "plt.figure(figsize=(8,7))\n",
    "plt.scatter(testing_plot[:,0], testing_plot[:,1], alpha = 0.1, c = y_test.ravel());\n",
    "plt.title('Outputs')"
   ]
  },
  {
   "cell_type": "markdown",
   "id": "a74fcf8f",
   "metadata": {
    "papermill": {
     "duration": 0.056808,
     "end_time": "2021-12-05T00:28:00.186019",
     "exception": false,
     "start_time": "2021-12-05T00:28:00.129211",
     "status": "completed"
    },
    "tags": []
   },
   "source": [
    "Probability contours"
   ]
  },
  {
   "cell_type": "code",
   "execution_count": 27,
   "id": "d0afc8e3",
   "metadata": {
    "execution": {
     "iopub.execute_input": "2021-12-05T00:28:00.337806Z",
     "iopub.status.busy": "2021-12-05T00:28:00.335785Z",
     "iopub.status.idle": "2021-12-05T00:28:00.349015Z",
     "shell.execute_reply": "2021-12-05T00:28:00.348422Z"
    },
    "papermill": {
     "duration": 0.10513,
     "end_time": "2021-12-05T00:28:00.349187",
     "exception": false,
     "start_time": "2021-12-05T00:28:00.244057",
     "status": "completed"
    },
    "tags": []
   },
   "outputs": [],
   "source": [
    "model_prob = Model(layers[-2:]) "
   ]
  },
  {
   "cell_type": "code",
   "execution_count": 28,
   "id": "9b96e238",
   "metadata": {
    "execution": {
     "iopub.execute_input": "2021-12-05T00:28:00.481326Z",
     "iopub.status.busy": "2021-12-05T00:28:00.472480Z",
     "iopub.status.idle": "2021-12-05T00:28:00.490366Z",
     "shell.execute_reply": "2021-12-05T00:28:00.489676Z"
    },
    "papermill": {
     "duration": 0.083255,
     "end_time": "2021-12-05T00:28:00.490515",
     "exception": false,
     "start_time": "2021-12-05T00:28:00.407260",
     "status": "completed"
    },
    "tags": []
   },
   "outputs": [],
   "source": [
    "#creating the x and y ranges according to the above generated plot.\n",
    "x_range = np.linspace(-4, 1, 100) \n",
    "y_range = np.linspace(-6, 6, 100) \n",
    "x_grid, y_grid = np.meshgrid(x_range, y_range) # x_grid and y_grig are of size 100 X 100\n",
    "\n",
    "# converting x_grid and y_grid to continuous arrays\n",
    "x_gridflat = np.ravel(x_grid)\n",
    "y_gridflat = np.ravel(y_grid)\n",
    "\n",
    "# The last layer of the current model takes two columns as input. Hence transpose of np.vstack() is required.\n",
    "X = np.vstack((x_gridflat, y_gridflat)).T\n",
    "\n",
    "prob_contour = model_prob(X).reshape(100,100) "
   ]
  },
  {
   "cell_type": "code",
   "execution_count": 29,
   "id": "da72499a",
   "metadata": {
    "execution": {
     "iopub.execute_input": "2021-12-05T00:28:00.620236Z",
     "iopub.status.busy": "2021-12-05T00:28:00.619534Z",
     "iopub.status.idle": "2021-12-05T00:28:00.945888Z",
     "shell.execute_reply": "2021-12-05T00:28:00.946498Z"
    },
    "papermill": {
     "duration": 0.399079,
     "end_time": "2021-12-05T00:28:00.946669",
     "exception": false,
     "start_time": "2021-12-05T00:28:00.547590",
     "status": "completed"
    },
    "tags": []
   },
   "outputs": [
    {
     "data": {
      "image/png": "[encoded data removed]",
      "text/plain": [
       "<Figure size 720x648 with 1 Axes>"
      ]
     },
     "metadata": {
      "needs_background": "light"
     },
     "output_type": "display_data"
    }
   ],
   "source": [
    "plt.figure(figsize=(10,9))\n",
    "plt.scatter(testing_plot[:,0], testing_plot[:,1], alpha = 0.1, c = y_test.ravel())\n",
    "contours = plt.contour(x_grid,y_grid,prob_contour)\n",
    "plt.title('Probability Contours')\n",
    "plt.clabel(contours, inline = True );"
   ]
  },
  {
   "cell_type": "code",
   "execution_count": null,
   "id": "e81b4ac7",
   "metadata": {
    "papermill": {
     "duration": 0.062427,
     "end_time": "2021-12-05T00:28:01.070039",
     "exception": false,
     "start_time": "2021-12-05T00:28:01.007612",
     "status": "completed"
    },
    "tags": []
   },
   "outputs": [],
   "source": []
  }
 ],
 "metadata": {
  "kernelspec": {
   "display_name": "Python 3",
   "language": "python",
   "name": "python3"
  },
  "language_info": {
   "codemirror_mode": {
    "name": "ipython",
    "version": 3
   },
   "file_extension": ".py",
   "mimetype": "text/x-python",
   "name": "python",
   "nbconvert_exporter": "python",
   "pygments_lexer": "ipython3",
   "version": "3.6.15"
  },
  "papermill": {
   "default_parameters": {},
   "duration": 159.127344,
   "end_time": "2021-12-05T00:28:01.539554",
   "environment_variables": {},
   "exception": null,
   "input_path": "2020-08-11-part2.ipynb",
   "output_path": "2020-08-11-part2.ipynb",
   "parameters": {},
   "start_time": "2021-12-05T00:25:22.412210",
   "version": "2.3.3"
  }
 },
 "nbformat": 4,
 "nbformat_minor": 5
}