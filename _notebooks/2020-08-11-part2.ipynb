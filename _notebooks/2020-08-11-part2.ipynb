{
 "cells": [
  {
   "cell_type": "markdown",
   "id": "98380cd3",
   "metadata": {
    "papermill": {
     "duration": 0.028786,
     "end_time": "2021-10-07T00:20:25.365865",
     "exception": false,
     "start_time": "2021-10-07T00:20:25.337079",
     "status": "completed"
    },
    "tags": []
   },
   "source": [
    "# Distinguish Your Own Digits (DYOD)"
   ]
  },
  {
   "cell_type": "markdown",
   "id": "ef31240d",
   "metadata": {
    "papermill": {
     "duration": 0.022596,
     "end_time": "2021-10-07T00:20:25.412699",
     "exception": false,
     "start_time": "2021-10-07T00:20:25.390103",
     "status": "completed"
    },
    "tags": []
   },
   "source": [
    "You are going to write a classifier that distinguishes between the number 3 and number 8."
   ]
  },
  {
   "cell_type": "code",
   "execution_count": 1,
   "id": "b15c8646",
   "metadata": {
    "execution": {
     "iopub.execute_input": "2021-10-07T00:20:25.475338Z",
     "iopub.status.busy": "2021-10-07T00:20:25.474764Z",
     "iopub.status.idle": "2021-10-07T00:20:25.485280Z",
     "shell.execute_reply": "2021-10-07T00:20:25.484819Z"
    },
    "papermill": {
     "duration": 0.049018,
     "end_time": "2021-10-07T00:20:25.485399",
     "exception": false,
     "start_time": "2021-10-07T00:20:25.436381",
     "status": "completed"
    },
    "tags": []
   },
   "outputs": [],
   "source": [
    "%load_ext autoreload\n",
    "%autoreload 2"
   ]
  },
  {
   "cell_type": "code",
   "execution_count": 2,
   "id": "22ef38dc",
   "metadata": {
    "execution": {
     "iopub.execute_input": "2021-10-07T00:20:25.534145Z",
     "iopub.status.busy": "2021-10-07T00:20:25.533593Z",
     "iopub.status.idle": "2021-10-07T00:20:26.024211Z",
     "shell.execute_reply": "2021-10-07T00:20:26.023740Z"
    },
    "papermill": {
     "duration": 0.516388,
     "end_time": "2021-10-07T00:20:26.024327",
     "exception": false,
     "start_time": "2021-10-07T00:20:25.507939",
     "status": "completed"
    },
    "tags": []
   },
   "outputs": [],
   "source": [
    "%matplotlib inline\n",
    "import numpy as np\n",
    "import matplotlib.pyplot as plt\n",
    "import pandas as pd"
   ]
  },
  {
   "cell_type": "markdown",
   "id": "ba036198",
   "metadata": {
    "papermill": {
     "duration": 0.023159,
     "end_time": "2021-10-07T00:20:26.071016",
     "exception": false,
     "start_time": "2021-10-07T00:20:26.047857",
     "status": "completed"
    },
    "tags": []
   },
   "source": [
    "From the command line run `pip install mnist`. This is a library that will help you bring down the mnist dataset. If you run this from a notebook, you need to put  `!pip install mnist` in a cell by itself."
   ]
  },
  {
   "cell_type": "code",
   "execution_count": 3,
   "id": "bb6ad8a1",
   "metadata": {
    "execution": {
     "iopub.execute_input": "2021-10-07T00:20:26.124731Z",
     "iopub.status.busy": "2021-10-07T00:20:26.122265Z",
     "iopub.status.idle": "2021-10-07T00:20:27.772377Z",
     "shell.execute_reply": "2021-10-07T00:20:27.771892Z"
    },
    "papermill": {
     "duration": 1.677551,
     "end_time": "2021-10-07T00:20:27.772483",
     "exception": false,
     "start_time": "2021-10-07T00:20:26.094932",
     "status": "completed"
    },
    "tags": []
   },
   "outputs": [
    {
     "name": "stdout",
     "output_type": "stream",
     "text": [
      "Collecting mnist\r\n"
     ]
    },
    {
     "name": "stdout",
     "output_type": "stream",
     "text": [
      "  Downloading mnist-0.2.2-py2.py3-none-any.whl (3.5 kB)\r\n",
      "Requirement already satisfied: numpy in /opt/hostedtoolcache/Python/3.6.15/x64/lib/python3.6/site-packages (from mnist) (1.19.5)\r\n"
     ]
    },
    {
     "name": "stdout",
     "output_type": "stream",
     "text": [
      "Installing collected packages: mnist\r\n",
      "Successfully installed mnist-0.2.2\r\n"
     ]
    }
   ],
   "source": [
    "!pip install mnist"
   ]
  },
  {
   "cell_type": "markdown",
   "id": "69df9c9a",
   "metadata": {
    "papermill": {
     "duration": 0.023114,
     "end_time": "2021-10-07T00:20:27.820749",
     "exception": false,
     "start_time": "2021-10-07T00:20:27.797635",
     "status": "completed"
    },
    "tags": []
   },
   "source": [
    "## Preparing the Data"
   ]
  },
  {
   "cell_type": "code",
   "execution_count": 4,
   "id": "7f69d806",
   "metadata": {
    "execution": {
     "iopub.execute_input": "2021-10-07T00:20:27.875547Z",
     "iopub.status.busy": "2021-10-07T00:20:27.871068Z",
     "iopub.status.idle": "2021-10-07T00:20:27.885343Z",
     "shell.execute_reply": "2021-10-07T00:20:27.884839Z"
    },
    "papermill": {
     "duration": 0.041959,
     "end_time": "2021-10-07T00:20:27.885459",
     "exception": false,
     "start_time": "2021-10-07T00:20:27.843500",
     "status": "completed"
    },
    "tags": []
   },
   "outputs": [],
   "source": [
    "import mnist"
   ]
  },
  {
   "cell_type": "code",
   "execution_count": 5,
   "id": "a411e44f",
   "metadata": {
    "execution": {
     "iopub.execute_input": "2021-10-07T00:20:27.937563Z",
     "iopub.status.busy": "2021-10-07T00:20:27.936957Z",
     "iopub.status.idle": "2021-10-07T00:20:28.458089Z",
     "shell.execute_reply": "2021-10-07T00:20:28.456961Z"
    },
    "papermill": {
     "duration": 0.548837,
     "end_time": "2021-10-07T00:20:28.458208",
     "exception": false,
     "start_time": "2021-10-07T00:20:27.909371",
     "status": "completed"
    },
    "tags": []
   },
   "outputs": [],
   "source": [
    "train_images = mnist.train_images()\n",
    "train_labels = mnist.train_labels()"
   ]
  },
  {
   "cell_type": "code",
   "execution_count": 6,
   "id": "dceab3a5",
   "metadata": {
    "execution": {
     "iopub.execute_input": "2021-10-07T00:20:28.508295Z",
     "iopub.status.busy": "2021-10-07T00:20:28.507666Z",
     "iopub.status.idle": "2021-10-07T00:20:28.523745Z",
     "shell.execute_reply": "2021-10-07T00:20:28.523148Z"
    },
    "papermill": {
     "duration": 0.044394,
     "end_time": "2021-10-07T00:20:28.523845",
     "exception": false,
     "start_time": "2021-10-07T00:20:28.479451",
     "status": "completed"
    },
    "tags": []
   },
   "outputs": [
    {
     "data": {
      "text/plain": [
       "((60000, 28, 28), (60000,))"
      ]
     },
     "execution_count": 6,
     "metadata": {},
     "output_type": "execute_result"
    }
   ],
   "source": [
    "train_images.shape, train_labels.shape"
   ]
  },
  {
   "cell_type": "code",
   "execution_count": 7,
   "id": "f50dc2bb",
   "metadata": {
    "execution": {
     "iopub.execute_input": "2021-10-07T00:20:28.569886Z",
     "iopub.status.busy": "2021-10-07T00:20:28.569426Z",
     "iopub.status.idle": "2021-10-07T00:20:28.736673Z",
     "shell.execute_reply": "2021-10-07T00:20:28.738080Z"
    },
    "papermill": {
     "duration": 0.192952,
     "end_time": "2021-10-07T00:20:28.738343",
     "exception": false,
     "start_time": "2021-10-07T00:20:28.545391",
     "status": "completed"
    },
    "tags": []
   },
   "outputs": [],
   "source": [
    "test_images = mnist.test_images()\n",
    "test_labels = mnist.test_labels()"
   ]
  },
  {
   "cell_type": "code",
   "execution_count": 8,
   "id": "fc38cf1b",
   "metadata": {
    "execution": {
     "iopub.execute_input": "2021-10-07T00:20:28.789050Z",
     "iopub.status.busy": "2021-10-07T00:20:28.788205Z",
     "iopub.status.idle": "2021-10-07T00:20:28.800380Z",
     "shell.execute_reply": "2021-10-07T00:20:28.800745Z"
    },
    "papermill": {
     "duration": 0.037251,
     "end_time": "2021-10-07T00:20:28.800866",
     "exception": false,
     "start_time": "2021-10-07T00:20:28.763615",
     "status": "completed"
    },
    "tags": []
   },
   "outputs": [
    {
     "data": {
      "text/plain": [
       "((10000, 28, 28), (10000,))"
      ]
     },
     "execution_count": 8,
     "metadata": {},
     "output_type": "execute_result"
    }
   ],
   "source": [
    "test_images.shape, test_labels.shape"
   ]
  },
  {
   "cell_type": "code",
   "execution_count": 9,
   "id": "f9ed8fe0",
   "metadata": {
    "execution": {
     "iopub.execute_input": "2021-10-07T00:20:28.850027Z",
     "iopub.status.busy": "2021-10-07T00:20:28.849524Z",
     "iopub.status.idle": "2021-10-07T00:20:28.975680Z",
     "shell.execute_reply": "2021-10-07T00:20:28.975201Z"
    },
    "papermill": {
     "duration": 0.152432,
     "end_time": "2021-10-07T00:20:28.975787",
     "exception": false,
     "start_time": "2021-10-07T00:20:28.823355",
     "status": "completed"
    },
    "tags": []
   },
   "outputs": [
    {
     "name": "stdout",
     "output_type": "stream",
     "text": [
      "2\n"
     ]
    },
    {
     "data": {
      "text/plain": [
       "<matplotlib.image.AxesImage at 0x7f5f9a930828>"
      ]
     },
     "execution_count": 9,
     "metadata": {},
     "output_type": "execute_result"
    },
    {
     "data": {
      "image/png": "[encoded data removed]",
      "text/plain": [
       "<Figure size 432x288 with 1 Axes>"
      ]
     },
     "metadata": {
      "needs_background": "light"
     },
     "output_type": "display_data"
    }
   ],
   "source": [
    "image_index = 7776 # You may select anything up to 60,000\n",
    "print(train_labels[image_index]) \n",
    "plt.imshow(train_images[image_index], cmap='Greys')"
   ]
  },
  {
   "cell_type": "markdown",
   "id": "a8d2388d",
   "metadata": {
    "papermill": {
     "duration": 0.023673,
     "end_time": "2021-10-07T00:20:29.022931",
     "exception": false,
     "start_time": "2021-10-07T00:20:28.999258",
     "status": "completed"
    },
    "tags": []
   },
   "source": [
    "## Filter data to get 3 and 8 out"
   ]
  },
  {
   "cell_type": "code",
   "execution_count": 10,
   "id": "776f7fc7",
   "metadata": {
    "execution": {
     "iopub.execute_input": "2021-10-07T00:20:29.077029Z",
     "iopub.status.busy": "2021-10-07T00:20:29.076419Z",
     "iopub.status.idle": "2021-10-07T00:20:29.100663Z",
     "shell.execute_reply": "2021-10-07T00:20:29.099967Z"
    },
    "papermill": {
     "duration": 0.055189,
     "end_time": "2021-10-07T00:20:29.100825",
     "exception": false,
     "start_time": "2021-10-07T00:20:29.045636",
     "status": "completed"
    },
    "tags": []
   },
   "outputs": [],
   "source": [
    "train_filter = np.where((train_labels == 3 ) | (train_labels == 8))\n",
    "test_filter = np.where((test_labels == 3) | (test_labels == 8))\n",
    "X_train, y_train = train_images[train_filter], train_labels[train_filter]\n",
    "X_test, y_test = test_images[test_filter], test_labels[test_filter]"
   ]
  },
  {
   "cell_type": "markdown",
   "id": "948f0b7e",
   "metadata": {
    "papermill": {
     "duration": 0.027748,
     "end_time": "2021-10-07T00:20:29.157443",
     "exception": false,
     "start_time": "2021-10-07T00:20:29.129695",
     "status": "completed"
    },
    "tags": []
   },
   "source": [
    "We normalize the pizel values in the 0 to 1 range"
   ]
  },
  {
   "cell_type": "code",
   "execution_count": 11,
   "id": "ee4c2166",
   "metadata": {
    "execution": {
     "iopub.execute_input": "2021-10-07T00:20:29.218510Z",
     "iopub.status.busy": "2021-10-07T00:20:29.217894Z",
     "iopub.status.idle": "2021-10-07T00:20:29.270472Z",
     "shell.execute_reply": "2021-10-07T00:20:29.269555Z"
    },
    "papermill": {
     "duration": 0.085301,
     "end_time": "2021-10-07T00:20:29.270684",
     "exception": false,
     "start_time": "2021-10-07T00:20:29.185383",
     "status": "completed"
    },
    "tags": []
   },
   "outputs": [],
   "source": [
    "X_train = X_train/255.\n",
    "X_test = X_test/255."
   ]
  },
  {
   "cell_type": "markdown",
   "id": "ddcf4fab",
   "metadata": {
    "papermill": {
     "duration": 0.027656,
     "end_time": "2021-10-07T00:20:29.329890",
     "exception": false,
     "start_time": "2021-10-07T00:20:29.302234",
     "status": "completed"
    },
    "tags": []
   },
   "source": [
    "And setup the labels as 1 (when the digit is 3) and 0 (when the digit is 8)"
   ]
  },
  {
   "cell_type": "code",
   "execution_count": 12,
   "id": "7dc908f2",
   "metadata": {
    "execution": {
     "iopub.execute_input": "2021-10-07T00:20:29.393704Z",
     "iopub.status.busy": "2021-10-07T00:20:29.384521Z",
     "iopub.status.idle": "2021-10-07T00:20:29.397508Z",
     "shell.execute_reply": "2021-10-07T00:20:29.397097Z"
    },
    "papermill": {
     "duration": 0.041014,
     "end_time": "2021-10-07T00:20:29.397617",
     "exception": false,
     "start_time": "2021-10-07T00:20:29.356603",
     "status": "completed"
    },
    "tags": []
   },
   "outputs": [],
   "source": [
    "y_train = 1*(y_train==3)\n",
    "y_test = 1*(y_test==3)"
   ]
  },
  {
   "cell_type": "code",
   "execution_count": 13,
   "id": "01e4e969",
   "metadata": {
    "execution": {
     "iopub.execute_input": "2021-10-07T00:20:29.452848Z",
     "iopub.status.busy": "2021-10-07T00:20:29.452263Z",
     "iopub.status.idle": "2021-10-07T00:20:29.468616Z",
     "shell.execute_reply": "2021-10-07T00:20:29.468162Z"
    },
    "papermill": {
     "duration": 0.044878,
     "end_time": "2021-10-07T00:20:29.468730",
     "exception": false,
     "start_time": "2021-10-07T00:20:29.423852",
     "status": "completed"
    },
    "tags": []
   },
   "outputs": [
    {
     "data": {
      "text/plain": [
       "((11982, 28, 28), (1984, 28, 28))"
      ]
     },
     "execution_count": 13,
     "metadata": {},
     "output_type": "execute_result"
    }
   ],
   "source": [
    "X_train.shape, X_test.shape"
   ]
  },
  {
   "cell_type": "markdown",
   "id": "5ccf3f85",
   "metadata": {
    "papermill": {
     "duration": 0.02418,
     "end_time": "2021-10-07T00:20:29.516921",
     "exception": false,
     "start_time": "2021-10-07T00:20:29.492741",
     "status": "completed"
    },
    "tags": []
   },
   "source": [
    "We reshape the data to flatten the image pixels into a set of features or co-variates:"
   ]
  },
  {
   "cell_type": "code",
   "execution_count": 14,
   "id": "5286a4a3",
   "metadata": {
    "execution": {
     "iopub.execute_input": "2021-10-07T00:20:29.567533Z",
     "iopub.status.busy": "2021-10-07T00:20:29.566629Z",
     "iopub.status.idle": "2021-10-07T00:20:29.581217Z",
     "shell.execute_reply": "2021-10-07T00:20:29.581693Z"
    },
    "papermill": {
     "duration": 0.041088,
     "end_time": "2021-10-07T00:20:29.581820",
     "exception": false,
     "start_time": "2021-10-07T00:20:29.540732",
     "status": "completed"
    },
    "tags": []
   },
   "outputs": [
    {
     "data": {
      "text/plain": [
       "((11982, 784), (1984, 784))"
      ]
     },
     "execution_count": 14,
     "metadata": {},
     "output_type": "execute_result"
    }
   ],
   "source": [
    "X_train = X_train.reshape(X_train.shape[0], -1)\n",
    "X_test = X_test.reshape(X_test.shape[0], -1)\n",
    "X_train.shape, X_test.shape"
   ]
  },
  {
   "cell_type": "code",
   "execution_count": 15,
   "id": "73c5f88a",
   "metadata": {
    "execution": {
     "iopub.execute_input": "2021-10-07T00:20:29.632789Z",
     "iopub.status.busy": "2021-10-07T00:20:29.632301Z",
     "iopub.status.idle": "2021-10-07T00:20:29.649697Z",
     "shell.execute_reply": "2021-10-07T00:20:29.649242Z"
    },
    "papermill": {
     "duration": 0.045515,
     "end_time": "2021-10-07T00:20:29.649798",
     "exception": false,
     "start_time": "2021-10-07T00:20:29.604283",
     "status": "completed"
    },
    "tags": []
   },
   "outputs": [],
   "source": [
    "#Impoting functions from 'Kudzu'\n",
    "from kudzu.model import Model\n",
    "from kudzu.train import Learner\n",
    "from kudzu.optim import GD\n",
    "from kudzu.data import Data, Sampler,Dataloader\n",
    "\n",
    "from kudzu.callbacks import AccCallback\n",
    "from kudzu.callbacks import ClfCallback\n",
    "\n",
    "from kudzu.loss import MSE\n",
    "\n",
    "from kudzu.layer import Sigmoid,Relu\n",
    "from kudzu.layer import Affine"
   ]
  },
  {
   "cell_type": "markdown",
   "id": "bc01172a",
   "metadata": {
    "papermill": {
     "duration": 0.025474,
     "end_time": "2021-10-07T00:20:29.698743",
     "exception": false,
     "start_time": "2021-10-07T00:20:29.673269",
     "status": "completed"
    },
    "tags": []
   },
   "source": [
    "### Let us create a `Config` class, to store important parameters. \n",
    "This class essentially plays the role of a dictionary."
   ]
  },
  {
   "cell_type": "code",
   "execution_count": 16,
   "id": "978281aa",
   "metadata": {
    "execution": {
     "iopub.execute_input": "2021-10-07T00:20:29.751283Z",
     "iopub.status.busy": "2021-10-07T00:20:29.750783Z",
     "iopub.status.idle": "2021-10-07T00:20:29.762441Z",
     "shell.execute_reply": "2021-10-07T00:20:29.762852Z"
    },
    "papermill": {
     "duration": 0.039956,
     "end_time": "2021-10-07T00:20:29.762953",
     "exception": false,
     "start_time": "2021-10-07T00:20:29.722997",
     "status": "completed"
    },
    "tags": []
   },
   "outputs": [],
   "source": [
    "class Config:\n",
    "    pass\n",
    "config = Config()\n",
    "config.lr = 0.001\n",
    "config.num_epochs = 250\n",
    "config.bs = 50"
   ]
  },
  {
   "cell_type": "markdown",
   "id": "1385fa59",
   "metadata": {
    "papermill": {
     "duration": 0.026929,
     "end_time": "2021-10-07T00:20:29.812583",
     "exception": false,
     "start_time": "2021-10-07T00:20:29.785654",
     "status": "completed"
    },
    "tags": []
   },
   "source": [
    "### Running Models with the Training data\n",
    "Details about the network layers:\n",
    "- A first affine layer has 784 inputs and does 100 affine transforms. These are followed by a Relu\n",
    "- A second affine layer has 100 inputs from the 100 activations of the past layer, and does 100 affine transforms. These are followed by a Relu\n",
    "- A third affine layer has 100 activations and does 2 affine transformations to create an embedding for visualization. There is no non-linearity here.\n",
    "- A final \"logistic regression\" which has an affine transform from 2 inputs to 1 output, which is squeezed through a sigmoid.\n"
   ]
  },
  {
   "cell_type": "code",
   "execution_count": 17,
   "id": "2b9c66db",
   "metadata": {
    "execution": {
     "iopub.execute_input": "2021-10-07T00:20:29.866157Z",
     "iopub.status.busy": "2021-10-07T00:20:29.865720Z",
     "iopub.status.idle": "2021-10-07T00:20:29.878250Z",
     "shell.execute_reply": "2021-10-07T00:20:29.877768Z"
    },
    "papermill": {
     "duration": 0.041343,
     "end_time": "2021-10-07T00:20:29.878373",
     "exception": false,
     "start_time": "2021-10-07T00:20:29.837030",
     "status": "completed"
    },
    "tags": []
   },
   "outputs": [],
   "source": [
    "data = Data(X_train, y_train.reshape(-1,1))\n",
    "sampler = Sampler(data, config.bs, shuffle=True)\n",
    "\n",
    "dl = Dataloader(data, sampler)\n",
    "\n",
    "opt = GD(config.lr)\n",
    "loss = MSE()"
   ]
  },
  {
   "cell_type": "code",
   "execution_count": 18,
   "id": "b275e4c2",
   "metadata": {
    "execution": {
     "iopub.execute_input": "2021-10-07T00:20:29.931064Z",
     "iopub.status.busy": "2021-10-07T00:20:29.930467Z",
     "iopub.status.idle": "2021-10-07T00:20:29.944163Z",
     "shell.execute_reply": "2021-10-07T00:20:29.943819Z"
    },
    "papermill": {
     "duration": 0.04193,
     "end_time": "2021-10-07T00:20:29.944254",
     "exception": false,
     "start_time": "2021-10-07T00:20:29.902324",
     "status": "completed"
    },
    "tags": []
   },
   "outputs": [],
   "source": [
    "training_data_x = X_train\n",
    "testing_data_x = X_test\n",
    "training_data_y = y_train.reshape(-1,1)\n",
    "testing_data_y = y_test.reshape(-1,1)"
   ]
  },
  {
   "cell_type": "code",
   "execution_count": 19,
   "id": "76951160",
   "metadata": {
    "execution": {
     "iopub.execute_input": "2021-10-07T00:20:29.997222Z",
     "iopub.status.busy": "2021-10-07T00:20:29.996177Z",
     "iopub.status.idle": "2021-10-07T00:20:30.015769Z",
     "shell.execute_reply": "2021-10-07T00:20:30.015429Z"
    },
    "papermill": {
     "duration": 0.048604,
     "end_time": "2021-10-07T00:20:30.015880",
     "exception": false,
     "start_time": "2021-10-07T00:20:29.967276",
     "status": "completed"
    },
    "tags": []
   },
   "outputs": [
    {
     "name": "stdout",
     "output_type": "stream",
     "text": [
      "xavier\n",
      "xavier\n",
      "xavier\n",
      "xavier\n",
      "xavier\n"
     ]
    }
   ],
   "source": [
    "layers = [Affine(\"first\", 784, 100), Relu(\"first\"), Affine(\"second\", 100, 100), Relu(\"second\"), Affine(\"third\", 100, 2), Affine(\"last\", 2, 1), Sigmoid(\"last\")]\n",
    "model_nn = Model(layers)\n",
    "model_lr = Model([Affine(\"logits\", 784, 1), Sigmoid(\"sigmoid\")])"
   ]
  },
  {
   "cell_type": "code",
   "execution_count": 20,
   "id": "6eede77a",
   "metadata": {
    "execution": {
     "iopub.execute_input": "2021-10-07T00:20:30.070423Z",
     "iopub.status.busy": "2021-10-07T00:20:30.069834Z",
     "iopub.status.idle": "2021-10-07T00:20:30.083053Z",
     "shell.execute_reply": "2021-10-07T00:20:30.082578Z"
    },
    "papermill": {
     "duration": 0.043492,
     "end_time": "2021-10-07T00:20:30.083176",
     "exception": false,
     "start_time": "2021-10-07T00:20:30.039684",
     "status": "completed"
    },
    "tags": []
   },
   "outputs": [],
   "source": [
    "nn_learner = Learner(loss, model_nn, opt, config.num_epochs)\n",
    "acc_nn = ClfCallback(nn_learner, config.bs, training_data_x , testing_data_x, training_data_y, testing_data_y)\n",
    "nn_learner.set_callbacks([acc_nn])"
   ]
  },
  {
   "cell_type": "code",
   "execution_count": 21,
   "id": "877b6cc7",
   "metadata": {
    "execution": {
     "iopub.execute_input": "2021-10-07T00:20:30.137821Z",
     "iopub.status.busy": "2021-10-07T00:20:30.137333Z",
     "iopub.status.idle": "2021-10-07T00:20:30.149047Z",
     "shell.execute_reply": "2021-10-07T00:20:30.148606Z"
    },
    "papermill": {
     "duration": 0.042151,
     "end_time": "2021-10-07T00:20:30.149195",
     "exception": false,
     "start_time": "2021-10-07T00:20:30.107044",
     "status": "completed"
    },
    "tags": []
   },
   "outputs": [],
   "source": [
    "lr_learner = Learner(loss, model_lr, opt, config.num_epochs)\n",
    "acc_lr = ClfCallback(lr_learner, config.bs, training_data_x , testing_data_x, training_data_y, testing_data_y)\n",
    "lr_learner.set_callbacks([acc_lr])"
   ]
  },
  {
   "cell_type": "code",
   "execution_count": 22,
   "id": "d9b133c3",
   "metadata": {
    "execution": {
     "iopub.execute_input": "2021-10-07T00:20:30.205554Z",
     "iopub.status.busy": "2021-10-07T00:20:30.204954Z",
     "iopub.status.idle": "2021-10-07T00:21:43.677648Z",
     "shell.execute_reply": "2021-10-07T00:21:43.678482Z"
    },
    "papermill": {
     "duration": 73.506225,
     "end_time": "2021-10-07T00:21:43.678623",
     "exception": false,
     "start_time": "2021-10-07T00:20:30.172398",
     "status": "completed"
    },
    "tags": []
   },
   "outputs": [
    {
     "name": "stdout",
     "output_type": "stream",
     "text": [
      "Epoch 0, Loss 0.2177\n",
      "Training Accuracy: 0.8186, Testing Accuracy: 0.8317\n",
      "\n"
     ]
    },
    {
     "name": "stdout",
     "output_type": "stream",
     "text": [
      "Epoch 10, Loss 0.0548\n",
      "Training Accuracy: 0.9418, Testing Accuracy: 0.9481\n",
      "\n"
     ]
    },
    {
     "name": "stdout",
     "output_type": "stream",
     "text": [
      "Epoch 20, Loss 0.0398\n",
      "Training Accuracy: 0.9553, Testing Accuracy: 0.9652\n",
      "\n"
     ]
    },
    {
     "name": "stdout",
     "output_type": "stream",
     "text": [
      "Epoch 30, Loss 0.0338\n",
      "Training Accuracy: 0.9607, Testing Accuracy: 0.9708\n",
      "\n"
     ]
    },
    {
     "name": "stdout",
     "output_type": "stream",
     "text": [
      "Epoch 40, Loss 0.0304\n",
      "Training Accuracy: 0.9644, Testing Accuracy: 0.9718\n",
      "\n"
     ]
    },
    {
     "name": "stdout",
     "output_type": "stream",
     "text": [
      "Epoch 50, Loss 0.0281\n",
      "Training Accuracy: 0.9680, Testing Accuracy: 0.9728\n",
      "\n"
     ]
    },
    {
     "name": "stdout",
     "output_type": "stream",
     "text": [
      "Epoch 60, Loss 0.0264\n",
      "Training Accuracy: 0.9695, Testing Accuracy: 0.9738\n",
      "\n"
     ]
    },
    {
     "name": "stdout",
     "output_type": "stream",
     "text": [
      "Epoch 70, Loss 0.025\n",
      "Training Accuracy: 0.9709, Testing Accuracy: 0.9738\n",
      "\n"
     ]
    },
    {
     "name": "stdout",
     "output_type": "stream",
     "text": [
      "Epoch 80, Loss 0.0239\n",
      "Training Accuracy: 0.9725, Testing Accuracy: 0.9748\n",
      "\n"
     ]
    },
    {
     "name": "stdout",
     "output_type": "stream",
     "text": [
      "Epoch 90, Loss 0.0229\n",
      "Training Accuracy: 0.9742, Testing Accuracy: 0.9758\n",
      "\n"
     ]
    },
    {
     "name": "stdout",
     "output_type": "stream",
     "text": [
      "Epoch 100, Loss 0.022\n",
      "Training Accuracy: 0.9749, Testing Accuracy: 0.9768\n",
      "\n"
     ]
    },
    {
     "name": "stdout",
     "output_type": "stream",
     "text": [
      "Epoch 110, Loss 0.0212\n",
      "Training Accuracy: 0.9760, Testing Accuracy: 0.9773\n",
      "\n"
     ]
    },
    {
     "name": "stdout",
     "output_type": "stream",
     "text": [
      "Epoch 120, Loss 0.0205\n",
      "Training Accuracy: 0.9770, Testing Accuracy: 0.9763\n",
      "\n"
     ]
    },
    {
     "name": "stdout",
     "output_type": "stream",
     "text": [
      "Epoch 130, Loss 0.0199\n",
      "Training Accuracy: 0.9780, Testing Accuracy: 0.9763\n",
      "\n"
     ]
    },
    {
     "name": "stdout",
     "output_type": "stream",
     "text": [
      "Epoch 140, Loss 0.0192\n",
      "Training Accuracy: 0.9789, Testing Accuracy: 0.9768\n",
      "\n"
     ]
    },
    {
     "name": "stdout",
     "output_type": "stream",
     "text": [
      "Epoch 150, Loss 0.0187\n",
      "Training Accuracy: 0.9795, Testing Accuracy: 0.9768\n",
      "\n"
     ]
    },
    {
     "name": "stdout",
     "output_type": "stream",
     "text": [
      "Epoch 160, Loss 0.0181\n",
      "Training Accuracy: 0.9806, Testing Accuracy: 0.9773\n",
      "\n"
     ]
    },
    {
     "name": "stdout",
     "output_type": "stream",
     "text": [
      "Epoch 170, Loss 0.0176\n",
      "Training Accuracy: 0.9810, Testing Accuracy: 0.9778\n",
      "\n"
     ]
    },
    {
     "name": "stdout",
     "output_type": "stream",
     "text": [
      "Epoch 180, Loss 0.0171\n",
      "Training Accuracy: 0.9817, Testing Accuracy: 0.9783\n",
      "\n"
     ]
    },
    {
     "name": "stdout",
     "output_type": "stream",
     "text": [
      "Epoch 190, Loss 0.0166\n",
      "Training Accuracy: 0.9824, Testing Accuracy: 0.9783\n",
      "\n"
     ]
    },
    {
     "name": "stdout",
     "output_type": "stream",
     "text": [
      "Epoch 200, Loss 0.0162\n",
      "Training Accuracy: 0.9830, Testing Accuracy: 0.9783\n",
      "\n"
     ]
    },
    {
     "name": "stdout",
     "output_type": "stream",
     "text": [
      "Epoch 210, Loss 0.0158\n",
      "Training Accuracy: 0.9836, Testing Accuracy: 0.9783\n",
      "\n"
     ]
    },
    {
     "name": "stdout",
     "output_type": "stream",
     "text": [
      "Epoch 220, Loss 0.0153\n",
      "Training Accuracy: 0.9842, Testing Accuracy: 0.9788\n",
      "\n"
     ]
    },
    {
     "name": "stdout",
     "output_type": "stream",
     "text": [
      "Epoch 230, Loss 0.0149\n",
      "Training Accuracy: 0.9846, Testing Accuracy: 0.9788\n",
      "\n"
     ]
    },
    {
     "name": "stdout",
     "output_type": "stream",
     "text": [
      "Epoch 240, Loss 0.0145\n",
      "Training Accuracy: 0.9850, Testing Accuracy: 0.9788\n",
      "\n"
     ]
    },
    {
     "data": {
      "text/plain": [
       "0.0851275399507539"
      ]
     },
     "execution_count": 22,
     "metadata": {},
     "output_type": "execute_result"
    }
   ],
   "source": [
    "nn_learner.train_loop(dl)"
   ]
  },
  {
   "cell_type": "code",
   "execution_count": 23,
   "id": "e0163366",
   "metadata": {
    "execution": {
     "iopub.execute_input": "2021-10-07T00:21:43.750606Z",
     "iopub.status.busy": "2021-10-07T00:21:43.750117Z",
     "iopub.status.idle": "2021-10-07T00:21:56.616204Z",
     "shell.execute_reply": "2021-10-07T00:21:56.616755Z"
    },
    "papermill": {
     "duration": 12.905499,
     "end_time": "2021-10-07T00:21:56.616933",
     "exception": false,
     "start_time": "2021-10-07T00:21:43.711434",
     "status": "completed"
    },
    "tags": []
   },
   "outputs": [
    {
     "name": "stdout",
     "output_type": "stream",
     "text": [
      "Epoch 0, Loss 0.2271\n",
      "Training Accuracy: 0.7238, Testing Accuracy: 0.7147\n",
      "\n"
     ]
    },
    {
     "name": "stdout",
     "output_type": "stream",
     "text": [
      "Epoch 10, Loss 0.1038\n",
      "Training Accuracy: 0.9068, Testing Accuracy: 0.9108\n",
      "\n"
     ]
    },
    {
     "name": "stdout",
     "output_type": "stream",
     "text": [
      "Epoch 20, Loss 0.08\n",
      "Training Accuracy: 0.9279, Testing Accuracy: 0.9370\n",
      "\n"
     ]
    },
    {
     "name": "stdout",
     "output_type": "stream",
     "text": [
      "Epoch 30, Loss 0.0689\n",
      "Training Accuracy: 0.9360, Testing Accuracy: 0.9461\n",
      "\n"
     ]
    },
    {
     "name": "stdout",
     "output_type": "stream",
     "text": [
      "Epoch 40, Loss 0.0623\n",
      "Training Accuracy: 0.9406, Testing Accuracy: 0.9516\n",
      "\n"
     ]
    },
    {
     "name": "stdout",
     "output_type": "stream",
     "text": [
      "Epoch 50, Loss 0.0577\n",
      "Training Accuracy: 0.9436, Testing Accuracy: 0.9531\n",
      "\n"
     ]
    },
    {
     "name": "stdout",
     "output_type": "stream",
     "text": [
      "Epoch 60, Loss 0.0544\n",
      "Training Accuracy: 0.9462, Testing Accuracy: 0.9567\n",
      "\n"
     ]
    },
    {
     "name": "stdout",
     "output_type": "stream",
     "text": [
      "Epoch 70, Loss 0.0518\n",
      "Training Accuracy: 0.9482, Testing Accuracy: 0.9592\n",
      "\n"
     ]
    },
    {
     "name": "stdout",
     "output_type": "stream",
     "text": [
      "Epoch 80, Loss 0.0498\n",
      "Training Accuracy: 0.9501, Testing Accuracy: 0.9617\n",
      "\n"
     ]
    },
    {
     "name": "stdout",
     "output_type": "stream",
     "text": [
      "Epoch 90, Loss 0.0481\n",
      "Training Accuracy: 0.9515, Testing Accuracy: 0.9627\n",
      "\n"
     ]
    },
    {
     "name": "stdout",
     "output_type": "stream",
     "text": [
      "Epoch 100, Loss 0.0466\n",
      "Training Accuracy: 0.9524, Testing Accuracy: 0.9632\n",
      "\n"
     ]
    },
    {
     "name": "stdout",
     "output_type": "stream",
     "text": [
      "Epoch 110, Loss 0.0454\n",
      "Training Accuracy: 0.9533, Testing Accuracy: 0.9647\n",
      "\n"
     ]
    },
    {
     "name": "stdout",
     "output_type": "stream",
     "text": [
      "Epoch 120, Loss 0.0443\n",
      "Training Accuracy: 0.9542, Testing Accuracy: 0.9647\n",
      "\n"
     ]
    },
    {
     "name": "stdout",
     "output_type": "stream",
     "text": [
      "Epoch 130, Loss 0.0434\n",
      "Training Accuracy: 0.9548, Testing Accuracy: 0.9647\n",
      "\n"
     ]
    },
    {
     "name": "stdout",
     "output_type": "stream",
     "text": [
      "Epoch 140, Loss 0.0426\n",
      "Training Accuracy: 0.9554, Testing Accuracy: 0.9647\n",
      "\n"
     ]
    },
    {
     "name": "stdout",
     "output_type": "stream",
     "text": [
      "Epoch 150, Loss 0.0418\n",
      "Training Accuracy: 0.9558, Testing Accuracy: 0.9642\n",
      "\n"
     ]
    },
    {
     "name": "stdout",
     "output_type": "stream",
     "text": [
      "Epoch 160, Loss 0.0411\n",
      "Training Accuracy: 0.9567, Testing Accuracy: 0.9647\n",
      "\n"
     ]
    },
    {
     "name": "stdout",
     "output_type": "stream",
     "text": [
      "Epoch 170, Loss 0.0405\n",
      "Training Accuracy: 0.9573, Testing Accuracy: 0.9647\n",
      "\n"
     ]
    },
    {
     "name": "stdout",
     "output_type": "stream",
     "text": [
      "Epoch 180, Loss 0.0399\n",
      "Training Accuracy: 0.9575, Testing Accuracy: 0.9642\n",
      "\n"
     ]
    },
    {
     "name": "stdout",
     "output_type": "stream",
     "text": [
      "Epoch 190, Loss 0.0394\n",
      "Training Accuracy: 0.9578, Testing Accuracy: 0.9657\n",
      "\n"
     ]
    },
    {
     "name": "stdout",
     "output_type": "stream",
     "text": [
      "Epoch 200, Loss 0.0389\n",
      "Training Accuracy: 0.9584, Testing Accuracy: 0.9662\n",
      "\n"
     ]
    },
    {
     "name": "stdout",
     "output_type": "stream",
     "text": [
      "Epoch 210, Loss 0.0385\n",
      "Training Accuracy: 0.9588, Testing Accuracy: 0.9657\n",
      "\n"
     ]
    },
    {
     "name": "stdout",
     "output_type": "stream",
     "text": [
      "Epoch 220, Loss 0.0381\n",
      "Training Accuracy: 0.9594, Testing Accuracy: 0.9657\n",
      "\n"
     ]
    },
    {
     "name": "stdout",
     "output_type": "stream",
     "text": [
      "Epoch 230, Loss 0.0377\n",
      "Training Accuracy: 0.9595, Testing Accuracy: 0.9657\n",
      "\n"
     ]
    },
    {
     "name": "stdout",
     "output_type": "stream",
     "text": [
      "Epoch 240, Loss 0.0373\n",
      "Training Accuracy: 0.9597, Testing Accuracy: 0.9657\n",
      "\n"
     ]
    },
    {
     "data": {
      "text/plain": [
       "0.05690384211761054"
      ]
     },
     "execution_count": 23,
     "metadata": {},
     "output_type": "execute_result"
    }
   ],
   "source": [
    "lr_learner.train_loop(dl)"
   ]
  },
  {
   "cell_type": "code",
   "execution_count": 24,
   "id": "ca410940",
   "metadata": {
    "execution": {
     "iopub.execute_input": "2021-10-07T00:21:56.718430Z",
     "iopub.status.busy": "2021-10-07T00:21:56.717796Z",
     "iopub.status.idle": "2021-10-07T00:21:56.935503Z",
     "shell.execute_reply": "2021-10-07T00:21:56.935965Z"
    },
    "papermill": {
     "duration": 0.275576,
     "end_time": "2021-10-07T00:21:56.936112",
     "exception": false,
     "start_time": "2021-10-07T00:21:56.660536",
     "status": "completed"
    },
    "tags": []
   },
   "outputs": [
    {
     "data": {
      "text/plain": [
       "<matplotlib.legend.Legend at 0x7f5f9a493908>"
      ]
     },
     "execution_count": 24,
     "metadata": {},
     "output_type": "execute_result"
    },
    {
     "data": {
      "image/png": "[encoded data removed]",
      "text/plain": [
       "<Figure size 1080x720 with 1 Axes>"
      ]
     },
     "metadata": {
      "needs_background": "light"
     },
     "output_type": "display_data"
    }
   ],
   "source": [
    "#comparing the results of NN and LR\n",
    "plt.figure(figsize=(15,10))\n",
    "\n",
    "# Neural Network plots\n",
    "plt.plot(acc_nn.accuracies, 'r-', label = \"Training Accuracies - NN\")\n",
    "plt.plot(acc_nn.test_accuracies, 'g-', label = \"Testing Accuracies - NN\")\n",
    "\n",
    "# Logistic Regression plots\n",
    "plt.plot(acc_lr.accuracies, 'k-', label = \"Training Accuracies - LR\")\n",
    "plt.plot(acc_lr.test_accuracies, 'b-', label = \"Testing Accuracies - LR\")\n",
    "plt.legend()"
   ]
  },
  {
   "cell_type": "markdown",
   "id": "80dfb35c",
   "metadata": {
    "papermill": {
     "duration": 0.042843,
     "end_time": "2021-10-07T00:21:57.020547",
     "exception": false,
     "start_time": "2021-10-07T00:21:56.977704",
     "status": "completed"
    },
    "tags": []
   },
   "source": [
    "#### Plotting the outputs of this layer of the NN.\n"
   ]
  },
  {
   "cell_type": "code",
   "execution_count": 25,
   "id": "45eb2ff5",
   "metadata": {
    "execution": {
     "iopub.execute_input": "2021-10-07T00:21:57.101444Z",
     "iopub.status.busy": "2021-10-07T00:21:57.100960Z",
     "iopub.status.idle": "2021-10-07T00:21:57.122868Z",
     "shell.execute_reply": "2021-10-07T00:21:57.123272Z"
    },
    "papermill": {
     "duration": 0.06423,
     "end_time": "2021-10-07T00:21:57.123415",
     "exception": false,
     "start_time": "2021-10-07T00:21:57.059185",
     "status": "completed"
    },
    "tags": []
   },
   "outputs": [],
   "source": [
    "new_model = Model(layers[:-2])\n",
    "testing_plot = new_model(testing_data_x)"
   ]
  },
  {
   "cell_type": "code",
   "execution_count": 26,
   "id": "4c0a5485",
   "metadata": {
    "execution": {
     "iopub.execute_input": "2021-10-07T00:21:57.212924Z",
     "iopub.status.busy": "2021-10-07T00:21:57.211903Z",
     "iopub.status.idle": "2021-10-07T00:21:57.383832Z",
     "shell.execute_reply": "2021-10-07T00:21:57.383334Z"
    },
    "papermill": {
     "duration": 0.213919,
     "end_time": "2021-10-07T00:21:57.383955",
     "exception": false,
     "start_time": "2021-10-07T00:21:57.170036",
     "status": "completed"
    },
    "tags": []
   },
   "outputs": [
    {
     "data": {
      "text/plain": [
       "Text(0.5, 1.0, 'Outputs')"
      ]
     },
     "execution_count": 26,
     "metadata": {},
     "output_type": "execute_result"
    },
    {
     "data": {
      "image/png": "[encoded data removed]",
      "text/plain": [
       "<Figure size 576x504 with 1 Axes>"
      ]
     },
     "metadata": {
      "needs_background": "light"
     },
     "output_type": "display_data"
    }
   ],
   "source": [
    "# Plotting the scatter plot of points and color coding by class\n",
    "plt.figure(figsize=(8,7))\n",
    "plt.scatter(testing_plot[:,0], testing_plot[:,1], alpha = 0.1, c = y_test.ravel());\n",
    "plt.title('Outputs')"
   ]
  },
  {
   "cell_type": "markdown",
   "id": "a74fcf8f",
   "metadata": {
    "papermill": {
     "duration": 0.038511,
     "end_time": "2021-10-07T00:21:57.466373",
     "exception": false,
     "start_time": "2021-10-07T00:21:57.427862",
     "status": "completed"
    },
    "tags": []
   },
   "source": [
    "Probability contours"
   ]
  },
  {
   "cell_type": "code",
   "execution_count": 27,
   "id": "d0afc8e3",
   "metadata": {
    "execution": {
     "iopub.execute_input": "2021-10-07T00:21:57.554115Z",
     "iopub.status.busy": "2021-10-07T00:21:57.553549Z",
     "iopub.status.idle": "2021-10-07T00:21:57.565384Z",
     "shell.execute_reply": "2021-10-07T00:21:57.564954Z"
    },
    "papermill": {
     "duration": 0.05805,
     "end_time": "2021-10-07T00:21:57.565492",
     "exception": false,
     "start_time": "2021-10-07T00:21:57.507442",
     "status": "completed"
    },
    "tags": []
   },
   "outputs": [],
   "source": [
    "model_prob = Model(layers[-2:]) "
   ]
  },
  {
   "cell_type": "code",
   "execution_count": 28,
   "id": "9b96e238",
   "metadata": {
    "execution": {
     "iopub.execute_input": "2021-10-07T00:21:57.646091Z",
     "iopub.status.busy": "2021-10-07T00:21:57.645662Z",
     "iopub.status.idle": "2021-10-07T00:21:57.658430Z",
     "shell.execute_reply": "2021-10-07T00:21:57.658800Z"
    },
    "papermill": {
     "duration": 0.055063,
     "end_time": "2021-10-07T00:21:57.658919",
     "exception": false,
     "start_time": "2021-10-07T00:21:57.603856",
     "status": "completed"
    },
    "tags": []
   },
   "outputs": [],
   "source": [
    "#creating the x and y ranges according to the above generated plot.\n",
    "x_range = np.linspace(-4, 1, 100) \n",
    "y_range = np.linspace(-6, 6, 100) \n",
    "x_grid, y_grid = np.meshgrid(x_range, y_range) # x_grid and y_grig are of size 100 X 100\n",
    "\n",
    "# converting x_grid and y_grid to continuous arrays\n",
    "x_gridflat = np.ravel(x_grid)\n",
    "y_gridflat = np.ravel(y_grid)\n",
    "\n",
    "# The last layer of the current model takes two columns as input. Hence transpose of np.vstack() is required.\n",
    "X = np.vstack((x_gridflat, y_gridflat)).T\n",
    "\n",
    "prob_contour = model_prob(X).reshape(100,100) "
   ]
  },
  {
   "cell_type": "code",
   "execution_count": 29,
   "id": "da72499a",
   "metadata": {
    "execution": {
     "iopub.execute_input": "2021-10-07T00:21:57.746726Z",
     "iopub.status.busy": "2021-10-07T00:21:57.746260Z",
     "iopub.status.idle": "2021-10-07T00:21:57.964513Z",
     "shell.execute_reply": "2021-10-07T00:21:57.963576Z"
    },
    "papermill": {
     "duration": 0.260361,
     "end_time": "2021-10-07T00:21:57.964622",
     "exception": false,
     "start_time": "2021-10-07T00:21:57.704261",
     "status": "completed"
    },
    "tags": []
   },
   "outputs": [
    {
     "data": {
      "image/png": "[encoded data removed]",
      "text/plain": [
       "<Figure size 720x648 with 1 Axes>"
      ]
     },
     "metadata": {
      "needs_background": "light"
     },
     "output_type": "display_data"
    }
   ],
   "source": [
    "plt.figure(figsize=(10,9))\n",
    "plt.scatter(testing_plot[:,0], testing_plot[:,1], alpha = 0.1, c = y_test.ravel())\n",
    "contours = plt.contour(x_grid,y_grid,prob_contour)\n",
    "plt.title('Probability Contours')\n",
    "plt.clabel(contours, inline = True );"
   ]
  },
  {
   "cell_type": "code",
   "execution_count": null,
   "id": "e81b4ac7",
   "metadata": {
    "papermill": {
     "duration": 0.042664,
     "end_time": "2021-10-07T00:21:58.074490",
     "exception": false,
     "start_time": "2021-10-07T00:21:58.031826",
     "status": "completed"
    },
    "tags": []
   },
   "outputs": [],
   "source": []
  }
 ],
 "metadata": {
  "kernelspec": {
   "display_name": "Python 3",
   "language": "python",
   "name": "python3"
  },
  "language_info": {
   "codemirror_mode": {
    "name": "ipython",
    "version": 3
   },
   "file_extension": ".py",
   "mimetype": "text/x-python",
   "name": "python",
   "nbconvert_exporter": "python",
   "pygments_lexer": "ipython3",
   "version": "3.6.15"
  },
  "papermill": {
   "default_parameters": {},
   "duration": 94.13814,
   "end_time": "2021-10-07T00:21:58.426616",
   "environment_variables": {},
   "exception": null,
   "input_path": "2020-08-11-part2.ipynb",
   "output_path": "2020-08-11-part2.ipynb",
   "parameters": {},
   "start_time": "2021-10-07T00:20:24.288476",
   "version": "2.3.3"
  }
 },
 "nbformat": 4,
 "nbformat_minor": 5
}