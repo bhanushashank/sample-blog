{
 "cells": [
  {
   "cell_type": "markdown",
   "id": "98380cd3",
   "metadata": {
    "papermill": {
     "duration": 0.024865,
     "end_time": "2022-02-08T20:07:37.583499",
     "exception": false,
     "start_time": "2022-02-08T20:07:37.558634",
     "status": "completed"
    },
    "tags": []
   },
   "source": [
    "# Distinguish Your Own Digits (DYOD)"
   ]
  },
  {
   "cell_type": "markdown",
   "id": "ef31240d",
   "metadata": {
    "papermill": {
     "duration": 0.022766,
     "end_time": "2022-02-08T20:07:37.628195",
     "exception": false,
     "start_time": "2022-02-08T20:07:37.605429",
     "status": "completed"
    },
    "tags": []
   },
   "source": [
    "You are going to write a classifier that distinguishes between the number 3 and number 8."
   ]
  },
  {
   "cell_type": "code",
   "execution_count": 1,
   "id": "b15c8646",
   "metadata": {
    "execution": {
     "iopub.execute_input": "2022-02-08T20:07:37.680803Z",
     "iopub.status.busy": "2022-02-08T20:07:37.680270Z",
     "iopub.status.idle": "2022-02-08T20:07:37.689757Z",
     "shell.execute_reply": "2022-02-08T20:07:37.689340Z"
    },
    "papermill": {
     "duration": 0.040415,
     "end_time": "2022-02-08T20:07:37.689878",
     "exception": false,
     "start_time": "2022-02-08T20:07:37.649463",
     "status": "completed"
    },
    "tags": []
   },
   "outputs": [],
   "source": [
    "%load_ext autoreload\n",
    "%autoreload 2"
   ]
  },
  {
   "cell_type": "code",
   "execution_count": 2,
   "id": "22ef38dc",
   "metadata": {
    "execution": {
     "iopub.execute_input": "2022-02-08T20:07:37.737536Z",
     "iopub.status.busy": "2022-02-08T20:07:37.737070Z",
     "iopub.status.idle": "2022-02-08T20:07:38.283213Z",
     "shell.execute_reply": "2022-02-08T20:07:38.282767Z"
    },
    "papermill": {
     "duration": 0.571868,
     "end_time": "2022-02-08T20:07:38.283337",
     "exception": false,
     "start_time": "2022-02-08T20:07:37.711469",
     "status": "completed"
    },
    "tags": []
   },
   "outputs": [],
   "source": [
    "%matplotlib inline\n",
    "import numpy as np\n",
    "import matplotlib.pyplot as plt\n",
    "import pandas as pd"
   ]
  },
  {
   "cell_type": "markdown",
   "id": "ba036198",
   "metadata": {
    "papermill": {
     "duration": 0.021349,
     "end_time": "2022-02-08T20:07:38.326184",
     "exception": false,
     "start_time": "2022-02-08T20:07:38.304835",
     "status": "completed"
    },
    "tags": []
   },
   "source": [
    "From the command line run `pip install mnist`. This is a library that will help you bring down the mnist dataset. If you run this from a notebook, you need to put  `!pip install mnist` in a cell by itself."
   ]
  },
  {
   "cell_type": "code",
   "execution_count": 3,
   "id": "bb6ad8a1",
   "metadata": {
    "execution": {
     "iopub.execute_input": "2022-02-08T20:07:38.374796Z",
     "iopub.status.busy": "2022-02-08T20:07:38.374309Z",
     "iopub.status.idle": "2022-02-08T20:07:39.987798Z",
     "shell.execute_reply": "2022-02-08T20:07:39.987342Z"
    },
    "papermill": {
     "duration": 1.640195,
     "end_time": "2022-02-08T20:07:39.987922",
     "exception": false,
     "start_time": "2022-02-08T20:07:38.347727",
     "status": "completed"
    },
    "tags": []
   },
   "outputs": [
    {
     "name": "stdout",
     "output_type": "stream",
     "text": [
      "Collecting mnist\r\n"
     ]
    },
    {
     "name": "stdout",
     "output_type": "stream",
     "text": [
      "  Downloading mnist-0.2.2-py2.py3-none-any.whl (3.5 kB)\r\n",
      "Requirement already satisfied: numpy in /opt/hostedtoolcache/Python/3.6.15/x64/lib/python3.6/site-packages (from mnist) (1.19.5)\r\n"
     ]
    },
    {
     "name": "stdout",
     "output_type": "stream",
     "text": [
      "Installing collected packages: mnist\r\n",
      "Successfully installed mnist-0.2.2\r\n"
     ]
    }
   ],
   "source": [
    "!pip install mnist"
   ]
  },
  {
   "cell_type": "markdown",
   "id": "69df9c9a",
   "metadata": {
    "papermill": {
     "duration": 0.022511,
     "end_time": "2022-02-08T20:07:40.033308",
     "exception": false,
     "start_time": "2022-02-08T20:07:40.010797",
     "status": "completed"
    },
    "tags": []
   },
   "source": [
    "## Preparing the Data"
   ]
  },
  {
   "cell_type": "code",
   "execution_count": 4,
   "id": "7f69d806",
   "metadata": {
    "execution": {
     "iopub.execute_input": "2022-02-08T20:07:40.081940Z",
     "iopub.status.busy": "2022-02-08T20:07:40.081357Z",
     "iopub.status.idle": "2022-02-08T20:07:40.096542Z",
     "shell.execute_reply": "2022-02-08T20:07:40.096084Z"
    },
    "papermill": {
     "duration": 0.041158,
     "end_time": "2022-02-08T20:07:40.096666",
     "exception": false,
     "start_time": "2022-02-08T20:07:40.055508",
     "status": "completed"
    },
    "tags": []
   },
   "outputs": [],
   "source": [
    "import mnist"
   ]
  },
  {
   "cell_type": "code",
   "execution_count": 5,
   "id": "a411e44f",
   "metadata": {
    "execution": {
     "iopub.execute_input": "2022-02-08T20:07:40.145008Z",
     "iopub.status.busy": "2022-02-08T20:07:40.144538Z",
     "iopub.status.idle": "2022-02-08T20:07:40.808406Z",
     "shell.execute_reply": "2022-02-08T20:07:40.807908Z"
    },
    "papermill": {
     "duration": 0.68951,
     "end_time": "2022-02-08T20:07:40.808533",
     "exception": false,
     "start_time": "2022-02-08T20:07:40.119023",
     "status": "completed"
    },
    "tags": []
   },
   "outputs": [],
   "source": [
    "train_images = mnist.train_images()\n",
    "train_labels = mnist.train_labels()"
   ]
  },
  {
   "cell_type": "code",
   "execution_count": 6,
   "id": "dceab3a5",
   "metadata": {
    "execution": {
     "iopub.execute_input": "2022-02-08T20:07:40.857167Z",
     "iopub.status.busy": "2022-02-08T20:07:40.856665Z",
     "iopub.status.idle": "2022-02-08T20:07:40.871527Z",
     "shell.execute_reply": "2022-02-08T20:07:40.870854Z"
    },
    "papermill": {
     "duration": 0.040604,
     "end_time": "2022-02-08T20:07:40.871648",
     "exception": false,
     "start_time": "2022-02-08T20:07:40.831044",
     "status": "completed"
    },
    "tags": []
   },
   "outputs": [
    {
     "data": {
      "text/plain": [
       "((60000, 28, 28), (60000,))"
      ]
     },
     "execution_count": 6,
     "metadata": {},
     "output_type": "execute_result"
    }
   ],
   "source": [
    "train_images.shape, train_labels.shape"
   ]
  },
  {
   "cell_type": "code",
   "execution_count": 7,
   "id": "f50dc2bb",
   "metadata": {
    "execution": {
     "iopub.execute_input": "2022-02-08T20:07:40.920402Z",
     "iopub.status.busy": "2022-02-08T20:07:40.919877Z",
     "iopub.status.idle": "2022-02-08T20:07:41.177884Z",
     "shell.execute_reply": "2022-02-08T20:07:41.178395Z"
    },
    "papermill": {
     "duration": 0.284553,
     "end_time": "2022-02-08T20:07:41.178558",
     "exception": false,
     "start_time": "2022-02-08T20:07:40.894005",
     "status": "completed"
    },
    "tags": []
   },
   "outputs": [],
   "source": [
    "test_images = mnist.test_images()\n",
    "test_labels = mnist.test_labels()"
   ]
  },
  {
   "cell_type": "code",
   "execution_count": 8,
   "id": "fc38cf1b",
   "metadata": {
    "execution": {
     "iopub.execute_input": "2022-02-08T20:07:41.229035Z",
     "iopub.status.busy": "2022-02-08T20:07:41.228525Z",
     "iopub.status.idle": "2022-02-08T20:07:41.240559Z",
     "shell.execute_reply": "2022-02-08T20:07:41.240123Z"
    },
    "papermill": {
     "duration": 0.038189,
     "end_time": "2022-02-08T20:07:41.240671",
     "exception": false,
     "start_time": "2022-02-08T20:07:41.202482",
     "status": "completed"
    },
    "tags": []
   },
   "outputs": [
    {
     "data": {
      "text/plain": [
       "((10000, 28, 28), (10000,))"
      ]
     },
     "execution_count": 8,
     "metadata": {},
     "output_type": "execute_result"
    }
   ],
   "source": [
    "test_images.shape, test_labels.shape"
   ]
  },
  {
   "cell_type": "code",
   "execution_count": 9,
   "id": "f9ed8fe0",
   "metadata": {
    "execution": {
     "iopub.execute_input": "2022-02-08T20:07:41.298297Z",
     "iopub.status.busy": "2022-02-08T20:07:41.297795Z",
     "iopub.status.idle": "2022-02-08T20:07:41.425147Z",
     "shell.execute_reply": "2022-02-08T20:07:41.424672Z"
    },
    "papermill": {
     "duration": 0.161935,
     "end_time": "2022-02-08T20:07:41.425270",
     "exception": false,
     "start_time": "2022-02-08T20:07:41.263335",
     "status": "completed"
    },
    "tags": []
   },
   "outputs": [
    {
     "name": "stdout",
     "output_type": "stream",
     "text": [
      "2\n"
     ]
    },
    {
     "data": {
      "text/plain": [
       "<matplotlib.image.AxesImage at 0x7f856d284eb8>"
      ]
     },
     "execution_count": 9,
     "metadata": {},
     "output_type": "execute_result"
    },
    {
     "data": {
      "image/png": "[encoded data removed]",
      "text/plain": [
       "<Figure size 432x288 with 1 Axes>"
      ]
     },
     "metadata": {
      "needs_background": "light"
     },
     "output_type": "display_data"
    }
   ],
   "source": [
    "image_index = 7776 # You may select anything up to 60,000\n",
    "print(train_labels[image_index]) \n",
    "plt.imshow(train_images[image_index], cmap='Greys')"
   ]
  },
  {
   "cell_type": "markdown",
   "id": "a8d2388d",
   "metadata": {
    "papermill": {
     "duration": 0.023502,
     "end_time": "2022-02-08T20:07:41.472864",
     "exception": false,
     "start_time": "2022-02-08T20:07:41.449362",
     "status": "completed"
    },
    "tags": []
   },
   "source": [
    "## Filter data to get 3 and 8 out"
   ]
  },
  {
   "cell_type": "code",
   "execution_count": 10,
   "id": "776f7fc7",
   "metadata": {
    "execution": {
     "iopub.execute_input": "2022-02-08T20:07:41.524425Z",
     "iopub.status.busy": "2022-02-08T20:07:41.523904Z",
     "iopub.status.idle": "2022-02-08T20:07:41.540243Z",
     "shell.execute_reply": "2022-02-08T20:07:41.539700Z"
    },
    "papermill": {
     "duration": 0.043972,
     "end_time": "2022-02-08T20:07:41.540406",
     "exception": false,
     "start_time": "2022-02-08T20:07:41.496434",
     "status": "completed"
    },
    "tags": []
   },
   "outputs": [],
   "source": [
    "train_filter = np.where((train_labels == 3 ) | (train_labels == 8))\n",
    "test_filter = np.where((test_labels == 3) | (test_labels == 8))\n",
    "X_train, y_train = train_images[train_filter], train_labels[train_filter]\n",
    "X_test, y_test = test_images[test_filter], test_labels[test_filter]"
   ]
  },
  {
   "cell_type": "markdown",
   "id": "948f0b7e",
   "metadata": {
    "papermill": {
     "duration": 0.023507,
     "end_time": "2022-02-08T20:07:41.588398",
     "exception": false,
     "start_time": "2022-02-08T20:07:41.564891",
     "status": "completed"
    },
    "tags": []
   },
   "source": [
    "We normalize the pizel values in the 0 to 1 range"
   ]
  },
  {
   "cell_type": "code",
   "execution_count": 11,
   "id": "ee4c2166",
   "metadata": {
    "execution": {
     "iopub.execute_input": "2022-02-08T20:07:41.639016Z",
     "iopub.status.busy": "2022-02-08T20:07:41.638539Z",
     "iopub.status.idle": "2022-02-08T20:07:41.680887Z",
     "shell.execute_reply": "2022-02-08T20:07:41.681372Z"
    },
    "papermill": {
     "duration": 0.069786,
     "end_time": "2022-02-08T20:07:41.681591",
     "exception": false,
     "start_time": "2022-02-08T20:07:41.611805",
     "status": "completed"
    },
    "tags": []
   },
   "outputs": [],
   "source": [
    "X_train = X_train/255.\n",
    "X_test = X_test/255."
   ]
  },
  {
   "cell_type": "markdown",
   "id": "ddcf4fab",
   "metadata": {
    "papermill": {
     "duration": 0.023698,
     "end_time": "2022-02-08T20:07:41.733172",
     "exception": false,
     "start_time": "2022-02-08T20:07:41.709474",
     "status": "completed"
    },
    "tags": []
   },
   "source": [
    "And setup the labels as 1 (when the digit is 3) and 0 (when the digit is 8)"
   ]
  },
  {
   "cell_type": "code",
   "execution_count": 12,
   "id": "7dc908f2",
   "metadata": {
    "execution": {
     "iopub.execute_input": "2022-02-08T20:07:41.786781Z",
     "iopub.status.busy": "2022-02-08T20:07:41.786253Z",
     "iopub.status.idle": "2022-02-08T20:07:41.795934Z",
     "shell.execute_reply": "2022-02-08T20:07:41.796379Z"
    },
    "papermill": {
     "duration": 0.03905,
     "end_time": "2022-02-08T20:07:41.796529",
     "exception": false,
     "start_time": "2022-02-08T20:07:41.757479",
     "status": "completed"
    },
    "tags": []
   },
   "outputs": [],
   "source": [
    "y_train = 1*(y_train==3)\n",
    "y_test = 1*(y_test==3)"
   ]
  },
  {
   "cell_type": "code",
   "execution_count": 13,
   "id": "01e4e969",
   "metadata": {
    "execution": {
     "iopub.execute_input": "2022-02-08T20:07:41.854410Z",
     "iopub.status.busy": "2022-02-08T20:07:41.853871Z",
     "iopub.status.idle": "2022-02-08T20:07:41.865329Z",
     "shell.execute_reply": "2022-02-08T20:07:41.865737Z"
    },
    "papermill": {
     "duration": 0.042626,
     "end_time": "2022-02-08T20:07:41.865879",
     "exception": false,
     "start_time": "2022-02-08T20:07:41.823253",
     "status": "completed"
    },
    "tags": []
   },
   "outputs": [
    {
     "data": {
      "text/plain": [
       "((11982, 28, 28), (1984, 28, 28))"
      ]
     },
     "execution_count": 13,
     "metadata": {},
     "output_type": "execute_result"
    }
   ],
   "source": [
    "X_train.shape, X_test.shape"
   ]
  },
  {
   "cell_type": "markdown",
   "id": "5ccf3f85",
   "metadata": {
    "papermill": {
     "duration": 0.026865,
     "end_time": "2022-02-08T20:07:41.919673",
     "exception": false,
     "start_time": "2022-02-08T20:07:41.892808",
     "status": "completed"
    },
    "tags": []
   },
   "source": [
    "We reshape the data to flatten the image pixels into a set of features or co-variates:"
   ]
  },
  {
   "cell_type": "code",
   "execution_count": 14,
   "id": "5286a4a3",
   "metadata": {
    "execution": {
     "iopub.execute_input": "2022-02-08T20:07:41.980303Z",
     "iopub.status.busy": "2022-02-08T20:07:41.979730Z",
     "iopub.status.idle": "2022-02-08T20:07:41.991787Z",
     "shell.execute_reply": "2022-02-08T20:07:41.992176Z"
    },
    "papermill": {
     "duration": 0.045681,
     "end_time": "2022-02-08T20:07:41.992349",
     "exception": false,
     "start_time": "2022-02-08T20:07:41.946668",
     "status": "completed"
    },
    "tags": []
   },
   "outputs": [
    {
     "data": {
      "text/plain": [
       "((11982, 784), (1984, 784))"
      ]
     },
     "execution_count": 14,
     "metadata": {},
     "output_type": "execute_result"
    }
   ],
   "source": [
    "X_train = X_train.reshape(X_train.shape[0], -1)\n",
    "X_test = X_test.reshape(X_test.shape[0], -1)\n",
    "X_train.shape, X_test.shape"
   ]
  },
  {
   "cell_type": "code",
   "execution_count": 15,
   "id": "73c5f88a",
   "metadata": {
    "execution": {
     "iopub.execute_input": "2022-02-08T20:07:42.055425Z",
     "iopub.status.busy": "2022-02-08T20:07:42.054870Z",
     "iopub.status.idle": "2022-02-08T20:07:42.070141Z",
     "shell.execute_reply": "2022-02-08T20:07:42.070538Z"
    },
    "papermill": {
     "duration": 0.050993,
     "end_time": "2022-02-08T20:07:42.070689",
     "exception": false,
     "start_time": "2022-02-08T20:07:42.019696",
     "status": "completed"
    },
    "tags": []
   },
   "outputs": [],
   "source": [
    "#Impoting functions from 'Kudzu'\n",
    "from kudzu.model import Model\n",
    "from kudzu.train import Learner\n",
    "from kudzu.optim import GD\n",
    "from kudzu.data import Data, Sampler,Dataloader\n",
    "\n",
    "from kudzu.callbacks import AccCallback\n",
    "from kudzu.callbacks import ClfCallback\n",
    "\n",
    "from kudzu.loss import MSE\n",
    "\n",
    "from kudzu.layer import Sigmoid,Relu\n",
    "from kudzu.layer import Affine"
   ]
  },
  {
   "cell_type": "markdown",
   "id": "bc01172a",
   "metadata": {
    "papermill": {
     "duration": 0.027114,
     "end_time": "2022-02-08T20:07:42.125470",
     "exception": false,
     "start_time": "2022-02-08T20:07:42.098356",
     "status": "completed"
    },
    "tags": []
   },
   "source": [
    "### Let us create a `Config` class, to store important parameters. \n",
    "This class essentially plays the role of a dictionary."
   ]
  },
  {
   "cell_type": "code",
   "execution_count": 16,
   "id": "978281aa",
   "metadata": {
    "execution": {
     "iopub.execute_input": "2022-02-08T20:07:42.185844Z",
     "iopub.status.busy": "2022-02-08T20:07:42.185311Z",
     "iopub.status.idle": "2022-02-08T20:07:42.196332Z",
     "shell.execute_reply": "2022-02-08T20:07:42.195883Z"
    },
    "papermill": {
     "duration": 0.043846,
     "end_time": "2022-02-08T20:07:42.196459",
     "exception": false,
     "start_time": "2022-02-08T20:07:42.152613",
     "status": "completed"
    },
    "tags": []
   },
   "outputs": [],
   "source": [
    "class Config:\n",
    "    pass\n",
    "config = Config()\n",
    "config.lr = 0.001\n",
    "config.num_epochs = 250\n",
    "config.bs = 50"
   ]
  },
  {
   "cell_type": "markdown",
   "id": "1385fa59",
   "metadata": {
    "papermill": {
     "duration": 0.0271,
     "end_time": "2022-02-08T20:07:42.250878",
     "exception": false,
     "start_time": "2022-02-08T20:07:42.223778",
     "status": "completed"
    },
    "tags": []
   },
   "source": [
    "### Running Models with the Training data\n",
    "Details about the network layers:\n",
    "- A first affine layer has 784 inputs and does 100 affine transforms. These are followed by a Relu\n",
    "- A second affine layer has 100 inputs from the 100 activations of the past layer, and does 100 affine transforms. These are followed by a Relu\n",
    "- A third affine layer has 100 activations and does 2 affine transformations to create an embedding for visualization. There is no non-linearity here.\n",
    "- A final \"logistic regression\" which has an affine transform from 2 inputs to 1 output, which is squeezed through a sigmoid.\n"
   ]
  },
  {
   "cell_type": "code",
   "execution_count": 17,
   "id": "2b9c66db",
   "metadata": {
    "execution": {
     "iopub.execute_input": "2022-02-08T20:07:42.310743Z",
     "iopub.status.busy": "2022-02-08T20:07:42.310221Z",
     "iopub.status.idle": "2022-02-08T20:07:42.321361Z",
     "shell.execute_reply": "2022-02-08T20:07:42.320931Z"
    },
    "papermill": {
     "duration": 0.043469,
     "end_time": "2022-02-08T20:07:42.321486",
     "exception": false,
     "start_time": "2022-02-08T20:07:42.278017",
     "status": "completed"
    },
    "tags": []
   },
   "outputs": [],
   "source": [
    "data = Data(X_train, y_train.reshape(-1,1))\n",
    "sampler = Sampler(data, config.bs, shuffle=True)\n",
    "\n",
    "dl = Dataloader(data, sampler)\n",
    "\n",
    "opt = GD(config.lr)\n",
    "loss = MSE()"
   ]
  },
  {
   "cell_type": "code",
   "execution_count": 18,
   "id": "b275e4c2",
   "metadata": {
    "execution": {
     "iopub.execute_input": "2022-02-08T20:07:42.380094Z",
     "iopub.status.busy": "2022-02-08T20:07:42.379567Z",
     "iopub.status.idle": "2022-02-08T20:07:42.391560Z",
     "shell.execute_reply": "2022-02-08T20:07:42.391100Z"
    },
    "papermill": {
     "duration": 0.042736,
     "end_time": "2022-02-08T20:07:42.391678",
     "exception": false,
     "start_time": "2022-02-08T20:07:42.348942",
     "status": "completed"
    },
    "tags": []
   },
   "outputs": [],
   "source": [
    "training_data_x = X_train\n",
    "testing_data_x = X_test\n",
    "training_data_y = y_train.reshape(-1,1)\n",
    "testing_data_y = y_test.reshape(-1,1)"
   ]
  },
  {
   "cell_type": "code",
   "execution_count": 19,
   "id": "76951160",
   "metadata": {
    "execution": {
     "iopub.execute_input": "2022-02-08T20:07:42.454021Z",
     "iopub.status.busy": "2022-02-08T20:07:42.453467Z",
     "iopub.status.idle": "2022-02-08T20:07:42.467015Z",
     "shell.execute_reply": "2022-02-08T20:07:42.467458Z"
    },
    "papermill": {
     "duration": 0.048753,
     "end_time": "2022-02-08T20:07:42.467607",
     "exception": false,
     "start_time": "2022-02-08T20:07:42.418854",
     "status": "completed"
    },
    "tags": []
   },
   "outputs": [
    {
     "name": "stdout",
     "output_type": "stream",
     "text": [
      "xavier\n",
      "xavier\n",
      "xavier\n",
      "xavier\n",
      "xavier\n"
     ]
    }
   ],
   "source": [
    "layers = [Affine(\"first\", 784, 100), Relu(\"first\"), Affine(\"second\", 100, 100), Relu(\"second\"), Affine(\"third\", 100, 2), Affine(\"last\", 2, 1), Sigmoid(\"last\")]\n",
    "model_nn = Model(layers)\n",
    "model_lr = Model([Affine(\"logits\", 784, 1), Sigmoid(\"sigmoid\")])"
   ]
  },
  {
   "cell_type": "code",
   "execution_count": 20,
   "id": "6eede77a",
   "metadata": {
    "execution": {
     "iopub.execute_input": "2022-02-08T20:07:42.527401Z",
     "iopub.status.busy": "2022-02-08T20:07:42.526866Z",
     "iopub.status.idle": "2022-02-08T20:07:42.538173Z",
     "shell.execute_reply": "2022-02-08T20:07:42.537728Z"
    },
    "papermill": {
     "duration": 0.042908,
     "end_time": "2022-02-08T20:07:42.538289",
     "exception": false,
     "start_time": "2022-02-08T20:07:42.495381",
     "status": "completed"
    },
    "tags": []
   },
   "outputs": [],
   "source": [
    "nn_learner = Learner(loss, model_nn, opt, config.num_epochs)\n",
    "acc_nn = ClfCallback(nn_learner, config.bs, training_data_x , testing_data_x, training_data_y, testing_data_y)\n",
    "nn_learner.set_callbacks([acc_nn])"
   ]
  },
  {
   "cell_type": "code",
   "execution_count": 21,
   "id": "877b6cc7",
   "metadata": {
    "execution": {
     "iopub.execute_input": "2022-02-08T20:07:42.598546Z",
     "iopub.status.busy": "2022-02-08T20:07:42.598006Z",
     "iopub.status.idle": "2022-02-08T20:07:42.609291Z",
     "shell.execute_reply": "2022-02-08T20:07:42.608860Z"
    },
    "papermill": {
     "duration": 0.043589,
     "end_time": "2022-02-08T20:07:42.609413",
     "exception": false,
     "start_time": "2022-02-08T20:07:42.565824",
     "status": "completed"
    },
    "tags": []
   },
   "outputs": [],
   "source": [
    "lr_learner = Learner(loss, model_lr, opt, config.num_epochs)\n",
    "acc_lr = ClfCallback(lr_learner, config.bs, training_data_x , testing_data_x, training_data_y, testing_data_y)\n",
    "lr_learner.set_callbacks([acc_lr])"
   ]
  },
  {
   "cell_type": "code",
   "execution_count": 22,
   "id": "d9b133c3",
   "metadata": {
    "execution": {
     "iopub.execute_input": "2022-02-08T20:07:42.670357Z",
     "iopub.status.busy": "2022-02-08T20:07:42.669821Z",
     "iopub.status.idle": "2022-02-08T20:09:02.510444Z",
     "shell.execute_reply": "2022-02-08T20:09:02.511149Z"
    },
    "papermill": {
     "duration": 79.874063,
     "end_time": "2022-02-08T20:09:02.511297",
     "exception": false,
     "start_time": "2022-02-08T20:07:42.637234",
     "status": "completed"
    },
    "tags": []
   },
   "outputs": [
    {
     "name": "stdout",
     "output_type": "stream",
     "text": [
      "Epoch 0, Loss 0.2206\n",
      "Training Accuracy: 0.7747, Testing Accuracy: 0.7797\n",
      "\n"
     ]
    },
    {
     "name": "stdout",
     "output_type": "stream",
     "text": [
      "Epoch 10, Loss 0.0611\n",
      "Training Accuracy: 0.9406, Testing Accuracy: 0.9541\n",
      "\n"
     ]
    },
    {
     "name": "stdout",
     "output_type": "stream",
     "text": [
      "Epoch 20, Loss 0.0423\n",
      "Training Accuracy: 0.9553, Testing Accuracy: 0.9672\n",
      "\n"
     ]
    },
    {
     "name": "stdout",
     "output_type": "stream",
     "text": [
      "Epoch 30, Loss 0.0354\n",
      "Training Accuracy: 0.9611, Testing Accuracy: 0.9688\n",
      "\n"
     ]
    },
    {
     "name": "stdout",
     "output_type": "stream",
     "text": [
      "Epoch 40, Loss 0.0316\n",
      "Training Accuracy: 0.9643, Testing Accuracy: 0.9698\n",
      "\n"
     ]
    },
    {
     "name": "stdout",
     "output_type": "stream",
     "text": [
      "Epoch 50, Loss 0.029\n",
      "Training Accuracy: 0.9673, Testing Accuracy: 0.9698\n",
      "\n"
     ]
    },
    {
     "name": "stdout",
     "output_type": "stream",
     "text": [
      "Epoch 60, Loss 0.0272\n",
      "Training Accuracy: 0.9687, Testing Accuracy: 0.9693\n",
      "\n"
     ]
    },
    {
     "name": "stdout",
     "output_type": "stream",
     "text": [
      "Epoch 70, Loss 0.0257\n",
      "Training Accuracy: 0.9708, Testing Accuracy: 0.9708\n",
      "\n"
     ]
    },
    {
     "name": "stdout",
     "output_type": "stream",
     "text": [
      "Epoch 80, Loss 0.0245\n",
      "Training Accuracy: 0.9722, Testing Accuracy: 0.9703\n",
      "\n"
     ]
    },
    {
     "name": "stdout",
     "output_type": "stream",
     "text": [
      "Epoch 90, Loss 0.0235\n",
      "Training Accuracy: 0.9735, Testing Accuracy: 0.9703\n",
      "\n"
     ]
    },
    {
     "name": "stdout",
     "output_type": "stream",
     "text": [
      "Epoch 100, Loss 0.0226\n",
      "Training Accuracy: 0.9746, Testing Accuracy: 0.9713\n",
      "\n"
     ]
    },
    {
     "name": "stdout",
     "output_type": "stream",
     "text": [
      "Epoch 110, Loss 0.0218\n",
      "Training Accuracy: 0.9760, Testing Accuracy: 0.9718\n",
      "\n"
     ]
    },
    {
     "name": "stdout",
     "output_type": "stream",
     "text": [
      "Epoch 120, Loss 0.0211\n",
      "Training Accuracy: 0.9763, Testing Accuracy: 0.9728\n",
      "\n"
     ]
    },
    {
     "name": "stdout",
     "output_type": "stream",
     "text": [
      "Epoch 130, Loss 0.0205\n",
      "Training Accuracy: 0.9771, Testing Accuracy: 0.9723\n",
      "\n"
     ]
    },
    {
     "name": "stdout",
     "output_type": "stream",
     "text": [
      "Epoch 140, Loss 0.0199\n",
      "Training Accuracy: 0.9785, Testing Accuracy: 0.9723\n",
      "\n"
     ]
    },
    {
     "name": "stdout",
     "output_type": "stream",
     "text": [
      "Epoch 150, Loss 0.0193\n",
      "Training Accuracy: 0.9790, Testing Accuracy: 0.9728\n",
      "\n"
     ]
    },
    {
     "name": "stdout",
     "output_type": "stream",
     "text": [
      "Epoch 160, Loss 0.0188\n",
      "Training Accuracy: 0.9796, Testing Accuracy: 0.9738\n",
      "\n"
     ]
    },
    {
     "name": "stdout",
     "output_type": "stream",
     "text": [
      "Epoch 170, Loss 0.0183\n",
      "Training Accuracy: 0.9804, Testing Accuracy: 0.9738\n",
      "\n"
     ]
    },
    {
     "name": "stdout",
     "output_type": "stream",
     "text": [
      "Epoch 180, Loss 0.0178\n",
      "Training Accuracy: 0.9816, Testing Accuracy: 0.9733\n",
      "\n"
     ]
    },
    {
     "name": "stdout",
     "output_type": "stream",
     "text": [
      "Epoch 190, Loss 0.0174\n",
      "Training Accuracy: 0.9821, Testing Accuracy: 0.9733\n",
      "\n"
     ]
    },
    {
     "name": "stdout",
     "output_type": "stream",
     "text": [
      "Epoch 200, Loss 0.017\n",
      "Training Accuracy: 0.9826, Testing Accuracy: 0.9738\n",
      "\n"
     ]
    },
    {
     "name": "stdout",
     "output_type": "stream",
     "text": [
      "Epoch 210, Loss 0.0166\n",
      "Training Accuracy: 0.9828, Testing Accuracy: 0.9743\n",
      "\n"
     ]
    },
    {
     "name": "stdout",
     "output_type": "stream",
     "text": [
      "Epoch 220, Loss 0.0162\n",
      "Training Accuracy: 0.9833, Testing Accuracy: 0.9748\n",
      "\n"
     ]
    },
    {
     "name": "stdout",
     "output_type": "stream",
     "text": [
      "Epoch 230, Loss 0.0158\n",
      "Training Accuracy: 0.9836, Testing Accuracy: 0.9758\n",
      "\n"
     ]
    },
    {
     "name": "stdout",
     "output_type": "stream",
     "text": [
      "Epoch 240, Loss 0.0154\n",
      "Training Accuracy: 0.9841, Testing Accuracy: 0.9763\n",
      "\n"
     ]
    },
    {
     "data": {
      "text/plain": [
       "0.05507606685893202"
      ]
     },
     "execution_count": 22,
     "metadata": {},
     "output_type": "execute_result"
    }
   ],
   "source": [
    "nn_learner.train_loop(dl)"
   ]
  },
  {
   "cell_type": "code",
   "execution_count": 23,
   "id": "e0163366",
   "metadata": {
    "execution": {
     "iopub.execute_input": "2022-02-08T20:09:02.582260Z",
     "iopub.status.busy": "2022-02-08T20:09:02.581770Z",
     "iopub.status.idle": "2022-02-08T20:09:17.179495Z",
     "shell.execute_reply": "2022-02-08T20:09:17.180175Z"
    },
    "papermill": {
     "duration": 14.638253,
     "end_time": "2022-02-08T20:09:17.180356",
     "exception": false,
     "start_time": "2022-02-08T20:09:02.542103",
     "status": "completed"
    },
    "tags": []
   },
   "outputs": [
    {
     "name": "stdout",
     "output_type": "stream",
     "text": [
      "Epoch 0, Loss 0.2619\n",
      "Training Accuracy: 0.6306, Testing Accuracy: 0.6623\n",
      "\n"
     ]
    },
    {
     "name": "stdout",
     "output_type": "stream",
     "text": [
      "Epoch 10, Loss 0.1022\n",
      "Training Accuracy: 0.9120, Testing Accuracy: 0.9209\n",
      "\n"
     ]
    },
    {
     "name": "stdout",
     "output_type": "stream",
     "text": [
      "Epoch 20, Loss 0.0788\n",
      "Training Accuracy: 0.9276, Testing Accuracy: 0.9400\n",
      "\n"
     ]
    },
    {
     "name": "stdout",
     "output_type": "stream",
     "text": [
      "Epoch 30, Loss 0.0681\n",
      "Training Accuracy: 0.9353, Testing Accuracy: 0.9466\n",
      "\n"
     ]
    },
    {
     "name": "stdout",
     "output_type": "stream",
     "text": [
      "Epoch 40, Loss 0.0617\n",
      "Training Accuracy: 0.9404, Testing Accuracy: 0.9521\n",
      "\n"
     ]
    },
    {
     "name": "stdout",
     "output_type": "stream",
     "text": [
      "Epoch 50, Loss 0.0573\n",
      "Training Accuracy: 0.9427, Testing Accuracy: 0.9567\n",
      "\n"
     ]
    },
    {
     "name": "stdout",
     "output_type": "stream",
     "text": [
      "Epoch 60, Loss 0.0541\n",
      "Training Accuracy: 0.9457, Testing Accuracy: 0.9582\n",
      "\n"
     ]
    },
    {
     "name": "stdout",
     "output_type": "stream",
     "text": [
      "Epoch 70, Loss 0.0516\n",
      "Training Accuracy: 0.9469, Testing Accuracy: 0.9602\n",
      "\n"
     ]
    },
    {
     "name": "stdout",
     "output_type": "stream",
     "text": [
      "Epoch 80, Loss 0.0495\n",
      "Training Accuracy: 0.9485, Testing Accuracy: 0.9607\n",
      "\n"
     ]
    },
    {
     "name": "stdout",
     "output_type": "stream",
     "text": [
      "Epoch 90, Loss 0.0479\n",
      "Training Accuracy: 0.9499, Testing Accuracy: 0.9607\n",
      "\n"
     ]
    },
    {
     "name": "stdout",
     "output_type": "stream",
     "text": [
      "Epoch 100, Loss 0.0464\n",
      "Training Accuracy: 0.9506, Testing Accuracy: 0.9612\n",
      "\n"
     ]
    },
    {
     "name": "stdout",
     "output_type": "stream",
     "text": [
      "Epoch 110, Loss 0.0452\n",
      "Training Accuracy: 0.9516, Testing Accuracy: 0.9627\n",
      "\n"
     ]
    },
    {
     "name": "stdout",
     "output_type": "stream",
     "text": [
      "Epoch 120, Loss 0.0441\n",
      "Training Accuracy: 0.9531, Testing Accuracy: 0.9627\n",
      "\n"
     ]
    },
    {
     "name": "stdout",
     "output_type": "stream",
     "text": [
      "Epoch 130, Loss 0.0432\n",
      "Training Accuracy: 0.9540, Testing Accuracy: 0.9627\n",
      "\n"
     ]
    },
    {
     "name": "stdout",
     "output_type": "stream",
     "text": [
      "Epoch 140, Loss 0.0424\n",
      "Training Accuracy: 0.9548, Testing Accuracy: 0.9637\n",
      "\n"
     ]
    },
    {
     "name": "stdout",
     "output_type": "stream",
     "text": [
      "Epoch 150, Loss 0.0416\n",
      "Training Accuracy: 0.9561, Testing Accuracy: 0.9642\n",
      "\n"
     ]
    },
    {
     "name": "stdout",
     "output_type": "stream",
     "text": [
      "Epoch 160, Loss 0.0409\n",
      "Training Accuracy: 0.9568, Testing Accuracy: 0.9642\n",
      "\n"
     ]
    },
    {
     "name": "stdout",
     "output_type": "stream",
     "text": [
      "Epoch 170, Loss 0.0403\n",
      "Training Accuracy: 0.9574, Testing Accuracy: 0.9647\n",
      "\n"
     ]
    },
    {
     "name": "stdout",
     "output_type": "stream",
     "text": [
      "Epoch 180, Loss 0.0397\n",
      "Training Accuracy: 0.9578, Testing Accuracy: 0.9647\n",
      "\n"
     ]
    },
    {
     "name": "stdout",
     "output_type": "stream",
     "text": [
      "Epoch 190, Loss 0.0392\n",
      "Training Accuracy: 0.9584, Testing Accuracy: 0.9652\n",
      "\n"
     ]
    },
    {
     "name": "stdout",
     "output_type": "stream",
     "text": [
      "Epoch 200, Loss 0.0387\n",
      "Training Accuracy: 0.9593, Testing Accuracy: 0.9657\n",
      "\n"
     ]
    },
    {
     "name": "stdout",
     "output_type": "stream",
     "text": [
      "Epoch 210, Loss 0.0383\n",
      "Training Accuracy: 0.9596, Testing Accuracy: 0.9662\n",
      "\n"
     ]
    },
    {
     "name": "stdout",
     "output_type": "stream",
     "text": [
      "Epoch 220, Loss 0.0378\n",
      "Training Accuracy: 0.9601, Testing Accuracy: 0.9667\n",
      "\n"
     ]
    },
    {
     "name": "stdout",
     "output_type": "stream",
     "text": [
      "Epoch 230, Loss 0.0374\n",
      "Training Accuracy: 0.9605, Testing Accuracy: 0.9667\n",
      "\n"
     ]
    },
    {
     "name": "stdout",
     "output_type": "stream",
     "text": [
      "Epoch 240, Loss 0.0371\n",
      "Training Accuracy: 0.9605, Testing Accuracy: 0.9657\n",
      "\n"
     ]
    },
    {
     "data": {
      "text/plain": [
       "0.03441808462171207"
      ]
     },
     "execution_count": 23,
     "metadata": {},
     "output_type": "execute_result"
    }
   ],
   "source": [
    "lr_learner.train_loop(dl)"
   ]
  },
  {
   "cell_type": "code",
   "execution_count": 24,
   "id": "ca410940",
   "metadata": {
    "execution": {
     "iopub.execute_input": "2022-02-08T20:09:17.262178Z",
     "iopub.status.busy": "2022-02-08T20:09:17.261667Z",
     "iopub.status.idle": "2022-02-08T20:09:17.477061Z",
     "shell.execute_reply": "2022-02-08T20:09:17.476599Z"
    },
    "papermill": {
     "duration": 0.260102,
     "end_time": "2022-02-08T20:09:17.477182",
     "exception": false,
     "start_time": "2022-02-08T20:09:17.217080",
     "status": "completed"
    },
    "tags": []
   },
   "outputs": [
    {
     "data": {
      "text/plain": [
       "<matplotlib.legend.Legend at 0x7f8560647668>"
      ]
     },
     "execution_count": 24,
     "metadata": {},
     "output_type": "execute_result"
    },
    {
     "data": {
      "image/png": "[encoded data removed]",
      "text/plain": [
       "<Figure size 1080x720 with 1 Axes>"
      ]
     },
     "metadata": {
      "needs_background": "light"
     },
     "output_type": "display_data"
    }
   ],
   "source": [
    "#comparing the results of NN and LR\n",
    "plt.figure(figsize=(15,10))\n",
    "\n",
    "# Neural Network plots\n",
    "plt.plot(acc_nn.accuracies, 'r-', label = \"Training Accuracies - NN\")\n",
    "plt.plot(acc_nn.test_accuracies, 'g-', label = \"Testing Accuracies - NN\")\n",
    "\n",
    "# Logistic Regression plots\n",
    "plt.plot(acc_lr.accuracies, 'k-', label = \"Training Accuracies - LR\")\n",
    "plt.plot(acc_lr.test_accuracies, 'b-', label = \"Testing Accuracies - LR\")\n",
    "plt.legend()"
   ]
  },
  {
   "cell_type": "markdown",
   "id": "80dfb35c",
   "metadata": {
    "papermill": {
     "duration": 0.042387,
     "end_time": "2022-02-08T20:09:17.562394",
     "exception": false,
     "start_time": "2022-02-08T20:09:17.520007",
     "status": "completed"
    },
    "tags": []
   },
   "source": [
    "#### Plotting the outputs of this layer of the NN.\n"
   ]
  },
  {
   "cell_type": "code",
   "execution_count": 25,
   "id": "45eb2ff5",
   "metadata": {
    "execution": {
     "iopub.execute_input": "2022-02-08T20:09:17.653185Z",
     "iopub.status.busy": "2022-02-08T20:09:17.652616Z",
     "iopub.status.idle": "2022-02-08T20:09:17.671463Z",
     "shell.execute_reply": "2022-02-08T20:09:17.671897Z"
    },
    "papermill": {
     "duration": 0.067067,
     "end_time": "2022-02-08T20:09:17.672041",
     "exception": false,
     "start_time": "2022-02-08T20:09:17.604974",
     "status": "completed"
    },
    "tags": []
   },
   "outputs": [],
   "source": [
    "new_model = Model(layers[:-2])\n",
    "testing_plot = new_model(testing_data_x)"
   ]
  },
  {
   "cell_type": "code",
   "execution_count": 26,
   "id": "4c0a5485",
   "metadata": {
    "execution": {
     "iopub.execute_input": "2022-02-08T20:09:17.765605Z",
     "iopub.status.busy": "2022-02-08T20:09:17.765104Z",
     "iopub.status.idle": "2022-02-08T20:09:17.950248Z",
     "shell.execute_reply": "2022-02-08T20:09:17.949859Z"
    },
    "papermill": {
     "duration": 0.23491,
     "end_time": "2022-02-08T20:09:17.950362",
     "exception": false,
     "start_time": "2022-02-08T20:09:17.715452",
     "status": "completed"
    },
    "tags": []
   },
   "outputs": [
    {
     "data": {
      "text/plain": [
       "Text(0.5, 1.0, 'Outputs')"
      ]
     },
     "execution_count": 26,
     "metadata": {},
     "output_type": "execute_result"
    },
    {
     "data": {
      "image/png": "[encoded data removed]",
      "text/plain": [
       "<Figure size 576x504 with 1 Axes>"
      ]
     },
     "metadata": {
      "needs_background": "light"
     },
     "output_type": "display_data"
    }
   ],
   "source": [
    "# Plotting the scatter plot of points and color coding by class\n",
    "plt.figure(figsize=(8,7))\n",
    "plt.scatter(testing_plot[:,0], testing_plot[:,1], alpha = 0.1, c = y_test.ravel());\n",
    "plt.title('Outputs')"
   ]
  },
  {
   "cell_type": "markdown",
   "id": "a74fcf8f",
   "metadata": {
    "papermill": {
     "duration": 0.039974,
     "end_time": "2022-02-08T20:09:18.030431",
     "exception": false,
     "start_time": "2022-02-08T20:09:17.990457",
     "status": "completed"
    },
    "tags": []
   },
   "source": [
    "Probability contours"
   ]
  },
  {
   "cell_type": "code",
   "execution_count": 27,
   "id": "d0afc8e3",
   "metadata": {
    "execution": {
     "iopub.execute_input": "2022-02-08T20:09:18.117581Z",
     "iopub.status.busy": "2022-02-08T20:09:18.117091Z",
     "iopub.status.idle": "2022-02-08T20:09:18.125103Z",
     "shell.execute_reply": "2022-02-08T20:09:18.124705Z"
    },
    "papermill": {
     "duration": 0.054489,
     "end_time": "2022-02-08T20:09:18.125215",
     "exception": false,
     "start_time": "2022-02-08T20:09:18.070726",
     "status": "completed"
    },
    "tags": []
   },
   "outputs": [],
   "source": [
    "model_prob = Model(layers[-2:]) "
   ]
  },
  {
   "cell_type": "code",
   "execution_count": 28,
   "id": "9b96e238",
   "metadata": {
    "execution": {
     "iopub.execute_input": "2022-02-08T20:09:18.211293Z",
     "iopub.status.busy": "2022-02-08T20:09:18.210636Z",
     "iopub.status.idle": "2022-02-08T20:09:18.223639Z",
     "shell.execute_reply": "2022-02-08T20:09:18.224004Z"
    },
    "papermill": {
     "duration": 0.058756,
     "end_time": "2022-02-08T20:09:18.224142",
     "exception": false,
     "start_time": "2022-02-08T20:09:18.165386",
     "status": "completed"
    },
    "tags": []
   },
   "outputs": [],
   "source": [
    "#creating the x and y ranges according to the above generated plot.\n",
    "x_range = np.linspace(-4, 1, 100) \n",
    "y_range = np.linspace(-6, 6, 100) \n",
    "x_grid, y_grid = np.meshgrid(x_range, y_range) # x_grid and y_grig are of size 100 X 100\n",
    "\n",
    "# converting x_grid and y_grid to continuous arrays\n",
    "x_gridflat = np.ravel(x_grid)\n",
    "y_gridflat = np.ravel(y_grid)\n",
    "\n",
    "# The last layer of the current model takes two columns as input. Hence transpose of np.vstack() is required.\n",
    "X = np.vstack((x_gridflat, y_gridflat)).T\n",
    "\n",
    "prob_contour = model_prob(X).reshape(100,100) "
   ]
  },
  {
   "cell_type": "code",
   "execution_count": 29,
   "id": "da72499a",
   "metadata": {
    "execution": {
     "iopub.execute_input": "2022-02-08T20:09:18.337333Z",
     "iopub.status.busy": "2022-02-08T20:09:18.336868Z",
     "iopub.status.idle": "2022-02-08T20:09:18.562884Z",
     "shell.execute_reply": "2022-02-08T20:09:18.562389Z"
    },
    "papermill": {
     "duration": 0.298552,
     "end_time": "2022-02-08T20:09:18.563026",
     "exception": false,
     "start_time": "2022-02-08T20:09:18.264474",
     "status": "completed"
    },
    "tags": []
   },
   "outputs": [
    {
     "data": {
      "image/png": "[encoded data removed]",
      "text/plain": [
       "<Figure size 720x648 with 1 Axes>"
      ]
     },
     "metadata": {
      "needs_background": "light"
     },
     "output_type": "display_data"
    }
   ],
   "source": [
    "plt.figure(figsize=(10,9))\n",
    "plt.scatter(testing_plot[:,0], testing_plot[:,1], alpha = 0.1, c = y_test.ravel())\n",
    "contours = plt.contour(x_grid,y_grid,prob_contour)\n",
    "plt.title('Probability Contours')\n",
    "plt.clabel(contours, inline = True );"
   ]
  },
  {
   "cell_type": "code",
   "execution_count": null,
   "id": "e81b4ac7",
   "metadata": {
    "papermill": {
     "duration": 0.042564,
     "end_time": "2022-02-08T20:09:18.648992",
     "exception": false,
     "start_time": "2022-02-08T20:09:18.606428",
     "status": "completed"
    },
    "tags": []
   },
   "outputs": [],
   "source": []
  }
 ],
 "metadata": {
  "kernelspec": {
   "display_name": "Python 3",
   "language": "python",
   "name": "python3"
  },
  "language_info": {
   "codemirror_mode": {
    "name": "ipython",
    "version": 3
   },
   "file_extension": ".py",
   "mimetype": "text/x-python",
   "name": "python",
   "nbconvert_exporter": "python",
   "pygments_lexer": "ipython3",
   "version": "3.6.15"
  },
  "papermill": {
   "default_parameters": {},
   "duration": 102.641495,
   "end_time": "2022-02-08T20:09:19.110215",
   "environment_variables": {},
   "exception": null,
   "input_path": "2020-08-11-part2.ipynb",
   "output_path": "2020-08-11-part2.ipynb",
   "parameters": {},
   "start_time": "2022-02-08T20:07:36.468720",
   "version": "2.3.3"
  }
 },
 "nbformat": 4,
 "nbformat_minor": 5
}