{
 "cells": [
  {
   "cell_type": "markdown",
   "id": "98380cd3",
   "metadata": {
    "papermill": {
     "duration": 0.035217,
     "end_time": "2022-04-01T00:36:42.856594",
     "exception": false,
     "start_time": "2022-04-01T00:36:42.821377",
     "status": "completed"
    },
    "tags": []
   },
   "source": [
    "# Distinguish Your Own Digits (DYOD)"
   ]
  },
  {
   "cell_type": "markdown",
   "id": "ef31240d",
   "metadata": {
    "papermill": {
     "duration": 0.038822,
     "end_time": "2022-04-01T00:36:42.929170",
     "exception": false,
     "start_time": "2022-04-01T00:36:42.890348",
     "status": "completed"
    },
    "tags": []
   },
   "source": [
    "You are going to write a classifier that distinguishes between the number 3 and number 8."
   ]
  },
  {
   "cell_type": "code",
   "execution_count": 1,
   "id": "b15c8646",
   "metadata": {
    "execution": {
     "iopub.execute_input": "2022-04-01T00:36:43.006940Z",
     "iopub.status.busy": "2022-04-01T00:36:43.006181Z",
     "iopub.status.idle": "2022-04-01T00:36:43.019308Z",
     "shell.execute_reply": "2022-04-01T00:36:43.018661Z"
    },
    "papermill": {
     "duration": 0.059586,
     "end_time": "2022-04-01T00:36:43.019463",
     "exception": false,
     "start_time": "2022-04-01T00:36:42.959877",
     "status": "completed"
    },
    "tags": []
   },
   "outputs": [],
   "source": [
    "%load_ext autoreload\n",
    "%autoreload 2"
   ]
  },
  {
   "cell_type": "code",
   "execution_count": 2,
   "id": "22ef38dc",
   "metadata": {
    "execution": {
     "iopub.execute_input": "2022-04-01T00:36:43.092020Z",
     "iopub.status.busy": "2022-04-01T00:36:43.091279Z",
     "iopub.status.idle": "2022-04-01T00:36:43.801281Z",
     "shell.execute_reply": "2022-04-01T00:36:43.801946Z"
    },
    "papermill": {
     "duration": 0.746377,
     "end_time": "2022-04-01T00:36:43.802107",
     "exception": false,
     "start_time": "2022-04-01T00:36:43.055730",
     "status": "completed"
    },
    "tags": []
   },
   "outputs": [],
   "source": [
    "%matplotlib inline\n",
    "import numpy as np\n",
    "import matplotlib.pyplot as plt\n",
    "import pandas as pd"
   ]
  },
  {
   "cell_type": "markdown",
   "id": "ba036198",
   "metadata": {
    "papermill": {
     "duration": 0.031842,
     "end_time": "2022-04-01T00:36:43.866454",
     "exception": false,
     "start_time": "2022-04-01T00:36:43.834612",
     "status": "completed"
    },
    "tags": []
   },
   "source": [
    "From the command line run `pip install mnist`. This is a library that will help you bring down the mnist dataset. If you run this from a notebook, you need to put  `!pip install mnist` in a cell by itself."
   ]
  },
  {
   "cell_type": "code",
   "execution_count": 3,
   "id": "bb6ad8a1",
   "metadata": {
    "execution": {
     "iopub.execute_input": "2022-04-01T00:36:43.934944Z",
     "iopub.status.busy": "2022-04-01T00:36:43.934247Z",
     "iopub.status.idle": "2022-04-01T00:36:46.748367Z",
     "shell.execute_reply": "2022-04-01T00:36:46.747785Z"
    },
    "papermill": {
     "duration": 2.852075,
     "end_time": "2022-04-01T00:36:46.748505",
     "exception": false,
     "start_time": "2022-04-01T00:36:43.896430",
     "status": "completed"
    },
    "tags": []
   },
   "outputs": [
    {
     "name": "stdout",
     "output_type": "stream",
     "text": [
      "Collecting mnist\r\n",
      "  Downloading mnist-0.2.2-py2.py3-none-any.whl (3.5 kB)\r\n"
     ]
    },
    {
     "name": "stdout",
     "output_type": "stream",
     "text": [
      "Requirement already satisfied: numpy in /opt/hostedtoolcache/Python/3.6.15/x64/lib/python3.6/site-packages (from mnist) (1.19.5)\r\n"
     ]
    },
    {
     "name": "stdout",
     "output_type": "stream",
     "text": [
      "Installing collected packages: mnist\r\n"
     ]
    },
    {
     "name": "stdout",
     "output_type": "stream",
     "text": [
      "Successfully installed mnist-0.2.2\r\n"
     ]
    }
   ],
   "source": [
    "!pip install mnist"
   ]
  },
  {
   "cell_type": "markdown",
   "id": "69df9c9a",
   "metadata": {
    "papermill": {
     "duration": 0.032808,
     "end_time": "2022-04-01T00:36:46.817089",
     "exception": false,
     "start_time": "2022-04-01T00:36:46.784281",
     "status": "completed"
    },
    "tags": []
   },
   "source": [
    "## Preparing the Data"
   ]
  },
  {
   "cell_type": "code",
   "execution_count": 4,
   "id": "7f69d806",
   "metadata": {
    "execution": {
     "iopub.execute_input": "2022-04-01T00:36:46.887084Z",
     "iopub.status.busy": "2022-04-01T00:36:46.886019Z",
     "iopub.status.idle": "2022-04-01T00:36:46.902949Z",
     "shell.execute_reply": "2022-04-01T00:36:46.902266Z"
    },
    "papermill": {
     "duration": 0.054044,
     "end_time": "2022-04-01T00:36:46.903311",
     "exception": false,
     "start_time": "2022-04-01T00:36:46.849267",
     "status": "completed"
    },
    "tags": []
   },
   "outputs": [],
   "source": [
    "import mnist"
   ]
  },
  {
   "cell_type": "code",
   "execution_count": 5,
   "id": "a411e44f",
   "metadata": {
    "execution": {
     "iopub.execute_input": "2022-04-01T00:36:46.985645Z",
     "iopub.status.busy": "2022-04-01T00:36:46.984967Z",
     "iopub.status.idle": "2022-04-01T00:36:47.564522Z",
     "shell.execute_reply": "2022-04-01T00:36:47.565122Z"
    },
    "papermill": {
     "duration": 0.629049,
     "end_time": "2022-04-01T00:36:47.565289",
     "exception": false,
     "start_time": "2022-04-01T00:36:46.936240",
     "status": "completed"
    },
    "tags": []
   },
   "outputs": [],
   "source": [
    "train_images = mnist.train_images()\n",
    "train_labels = mnist.train_labels()"
   ]
  },
  {
   "cell_type": "code",
   "execution_count": 6,
   "id": "dceab3a5",
   "metadata": {
    "execution": {
     "iopub.execute_input": "2022-04-01T00:36:47.636239Z",
     "iopub.status.busy": "2022-04-01T00:36:47.634585Z",
     "iopub.status.idle": "2022-04-01T00:36:47.649921Z",
     "shell.execute_reply": "2022-04-01T00:36:47.650510Z"
    },
    "papermill": {
     "duration": 0.052381,
     "end_time": "2022-04-01T00:36:47.650662",
     "exception": false,
     "start_time": "2022-04-01T00:36:47.598281",
     "status": "completed"
    },
    "tags": []
   },
   "outputs": [
    {
     "data": {
      "text/plain": [
       "((60000, 28, 28), (60000,))"
      ]
     },
     "execution_count": 6,
     "metadata": {},
     "output_type": "execute_result"
    }
   ],
   "source": [
    "train_images.shape, train_labels.shape"
   ]
  },
  {
   "cell_type": "code",
   "execution_count": 7,
   "id": "f50dc2bb",
   "metadata": {
    "execution": {
     "iopub.execute_input": "2022-04-01T00:36:47.729537Z",
     "iopub.status.busy": "2022-04-01T00:36:47.724897Z",
     "iopub.status.idle": "2022-04-01T00:36:47.856550Z",
     "shell.execute_reply": "2022-04-01T00:36:47.855946Z"
    },
    "papermill": {
     "duration": 0.173882,
     "end_time": "2022-04-01T00:36:47.856689",
     "exception": false,
     "start_time": "2022-04-01T00:36:47.682807",
     "status": "completed"
    },
    "tags": []
   },
   "outputs": [],
   "source": [
    "test_images = mnist.test_images()\n",
    "test_labels = mnist.test_labels()"
   ]
  },
  {
   "cell_type": "code",
   "execution_count": 8,
   "id": "fc38cf1b",
   "metadata": {
    "execution": {
     "iopub.execute_input": "2022-04-01T00:36:47.928094Z",
     "iopub.status.busy": "2022-04-01T00:36:47.927486Z",
     "iopub.status.idle": "2022-04-01T00:36:47.942817Z",
     "shell.execute_reply": "2022-04-01T00:36:47.942293Z"
    },
    "papermill": {
     "duration": 0.052305,
     "end_time": "2022-04-01T00:36:47.942951",
     "exception": false,
     "start_time": "2022-04-01T00:36:47.890646",
     "status": "completed"
    },
    "tags": []
   },
   "outputs": [
    {
     "data": {
      "text/plain": [
       "((10000, 28, 28), (10000,))"
      ]
     },
     "execution_count": 8,
     "metadata": {},
     "output_type": "execute_result"
    }
   ],
   "source": [
    "test_images.shape, test_labels.shape"
   ]
  },
  {
   "cell_type": "code",
   "execution_count": 9,
   "id": "f9ed8fe0",
   "metadata": {
    "execution": {
     "iopub.execute_input": "2022-04-01T00:36:48.020129Z",
     "iopub.status.busy": "2022-04-01T00:36:48.018932Z",
     "iopub.status.idle": "2022-04-01T00:36:48.220814Z",
     "shell.execute_reply": "2022-04-01T00:36:48.220274Z"
    },
    "papermill": {
     "duration": 0.245413,
     "end_time": "2022-04-01T00:36:48.221042",
     "exception": false,
     "start_time": "2022-04-01T00:36:47.975629",
     "status": "completed"
    },
    "tags": []
   },
   "outputs": [
    {
     "name": "stdout",
     "output_type": "stream",
     "text": [
      "2\n"
     ]
    },
    {
     "data": {
      "text/plain": [
       "<matplotlib.image.AxesImage at 0x7f1735680588>"
      ]
     },
     "execution_count": 9,
     "metadata": {},
     "output_type": "execute_result"
    },
    {
     "data": {
      "image/png": "[encoded data removed]",
      "text/plain": [
       "<Figure size 432x288 with 1 Axes>"
      ]
     },
     "metadata": {
      "needs_background": "light"
     },
     "output_type": "display_data"
    }
   ],
   "source": [
    "image_index = 7776 # You may select anything up to 60,000\n",
    "print(train_labels[image_index]) \n",
    "plt.imshow(train_images[image_index], cmap='Greys')"
   ]
  },
  {
   "cell_type": "markdown",
   "id": "a8d2388d",
   "metadata": {
    "papermill": {
     "duration": 0.03684,
     "end_time": "2022-04-01T00:36:48.293959",
     "exception": false,
     "start_time": "2022-04-01T00:36:48.257119",
     "status": "completed"
    },
    "tags": []
   },
   "source": [
    "## Filter data to get 3 and 8 out"
   ]
  },
  {
   "cell_type": "code",
   "execution_count": 10,
   "id": "776f7fc7",
   "metadata": {
    "execution": {
     "iopub.execute_input": "2022-04-01T00:36:48.380214Z",
     "iopub.status.busy": "2022-04-01T00:36:48.372440Z",
     "iopub.status.idle": "2022-04-01T00:36:48.390295Z",
     "shell.execute_reply": "2022-04-01T00:36:48.390838Z"
    },
    "papermill": {
     "duration": 0.061673,
     "end_time": "2022-04-01T00:36:48.391033",
     "exception": false,
     "start_time": "2022-04-01T00:36:48.329360",
     "status": "completed"
    },
    "tags": []
   },
   "outputs": [],
   "source": [
    "train_filter = np.where((train_labels == 3 ) | (train_labels == 8))\n",
    "test_filter = np.where((test_labels == 3) | (test_labels == 8))\n",
    "X_train, y_train = train_images[train_filter], train_labels[train_filter]\n",
    "X_test, y_test = test_images[test_filter], test_labels[test_filter]"
   ]
  },
  {
   "cell_type": "markdown",
   "id": "948f0b7e",
   "metadata": {
    "papermill": {
     "duration": 0.03572,
     "end_time": "2022-04-01T00:36:48.461310",
     "exception": false,
     "start_time": "2022-04-01T00:36:48.425590",
     "status": "completed"
    },
    "tags": []
   },
   "source": [
    "We normalize the pizel values in the 0 to 1 range"
   ]
  },
  {
   "cell_type": "code",
   "execution_count": 11,
   "id": "ee4c2166",
   "metadata": {
    "execution": {
     "iopub.execute_input": "2022-04-01T00:36:48.540892Z",
     "iopub.status.busy": "2022-04-01T00:36:48.540235Z",
     "iopub.status.idle": "2022-04-01T00:36:48.600030Z",
     "shell.execute_reply": "2022-04-01T00:36:48.599296Z"
    },
    "papermill": {
     "duration": 0.104586,
     "end_time": "2022-04-01T00:36:48.600209",
     "exception": false,
     "start_time": "2022-04-01T00:36:48.495623",
     "status": "completed"
    },
    "tags": []
   },
   "outputs": [],
   "source": [
    "X_train = X_train/255.\n",
    "X_test = X_test/255."
   ]
  },
  {
   "cell_type": "markdown",
   "id": "ddcf4fab",
   "metadata": {
    "papermill": {
     "duration": 0.035953,
     "end_time": "2022-04-01T00:36:48.671608",
     "exception": false,
     "start_time": "2022-04-01T00:36:48.635655",
     "status": "completed"
    },
    "tags": []
   },
   "source": [
    "And setup the labels as 1 (when the digit is 3) and 0 (when the digit is 8)"
   ]
  },
  {
   "cell_type": "code",
   "execution_count": 12,
   "id": "7dc908f2",
   "metadata": {
    "execution": {
     "iopub.execute_input": "2022-04-01T00:36:48.750503Z",
     "iopub.status.busy": "2022-04-01T00:36:48.749525Z",
     "iopub.status.idle": "2022-04-01T00:36:48.763477Z",
     "shell.execute_reply": "2022-04-01T00:36:48.762850Z"
    },
    "papermill": {
     "duration": 0.057223,
     "end_time": "2022-04-01T00:36:48.763639",
     "exception": false,
     "start_time": "2022-04-01T00:36:48.706416",
     "status": "completed"
    },
    "tags": []
   },
   "outputs": [],
   "source": [
    "y_train = 1*(y_train==3)\n",
    "y_test = 1*(y_test==3)"
   ]
  },
  {
   "cell_type": "code",
   "execution_count": 13,
   "id": "01e4e969",
   "metadata": {
    "execution": {
     "iopub.execute_input": "2022-04-01T00:36:48.840205Z",
     "iopub.status.busy": "2022-04-01T00:36:48.839416Z",
     "iopub.status.idle": "2022-04-01T00:36:48.855176Z",
     "shell.execute_reply": "2022-04-01T00:36:48.854560Z"
    },
    "papermill": {
     "duration": 0.055124,
     "end_time": "2022-04-01T00:36:48.855331",
     "exception": false,
     "start_time": "2022-04-01T00:36:48.800207",
     "status": "completed"
    },
    "tags": []
   },
   "outputs": [
    {
     "data": {
      "text/plain": [
       "((11982, 28, 28), (1984, 28, 28))"
      ]
     },
     "execution_count": 13,
     "metadata": {},
     "output_type": "execute_result"
    }
   ],
   "source": [
    "X_train.shape, X_test.shape"
   ]
  },
  {
   "cell_type": "markdown",
   "id": "5ccf3f85",
   "metadata": {
    "papermill": {
     "duration": 0.034579,
     "end_time": "2022-04-01T00:36:48.924787",
     "exception": false,
     "start_time": "2022-04-01T00:36:48.890208",
     "status": "completed"
    },
    "tags": []
   },
   "source": [
    "We reshape the data to flatten the image pixels into a set of features or co-variates:"
   ]
  },
  {
   "cell_type": "code",
   "execution_count": 14,
   "id": "5286a4a3",
   "metadata": {
    "execution": {
     "iopub.execute_input": "2022-04-01T00:36:49.000853Z",
     "iopub.status.busy": "2022-04-01T00:36:49.000124Z",
     "iopub.status.idle": "2022-04-01T00:36:49.015713Z",
     "shell.execute_reply": "2022-04-01T00:36:49.015109Z"
    },
    "papermill": {
     "duration": 0.056436,
     "end_time": "2022-04-01T00:36:49.015891",
     "exception": false,
     "start_time": "2022-04-01T00:36:48.959455",
     "status": "completed"
    },
    "tags": []
   },
   "outputs": [
    {
     "data": {
      "text/plain": [
       "((11982, 784), (1984, 784))"
      ]
     },
     "execution_count": 14,
     "metadata": {},
     "output_type": "execute_result"
    }
   ],
   "source": [
    "X_train = X_train.reshape(X_train.shape[0], -1)\n",
    "X_test = X_test.reshape(X_test.shape[0], -1)\n",
    "X_train.shape, X_test.shape"
   ]
  },
  {
   "cell_type": "code",
   "execution_count": 15,
   "id": "73c5f88a",
   "metadata": {
    "execution": {
     "iopub.execute_input": "2022-04-01T00:36:49.095902Z",
     "iopub.status.busy": "2022-04-01T00:36:49.095177Z",
     "iopub.status.idle": "2022-04-01T00:36:49.117157Z",
     "shell.execute_reply": "2022-04-01T00:36:49.117674Z"
    },
    "papermill": {
     "duration": 0.065067,
     "end_time": "2022-04-01T00:36:49.117856",
     "exception": false,
     "start_time": "2022-04-01T00:36:49.052789",
     "status": "completed"
    },
    "tags": []
   },
   "outputs": [],
   "source": [
    "#Impoting functions from 'Kudzu'\n",
    "from kudzu.model import Model\n",
    "from kudzu.train import Learner\n",
    "from kudzu.optim import GD\n",
    "from kudzu.data import Data, Sampler,Dataloader\n",
    "\n",
    "from kudzu.callbacks import AccCallback\n",
    "from kudzu.callbacks import ClfCallback\n",
    "\n",
    "from kudzu.loss import MSE\n",
    "\n",
    "from kudzu.layer import Sigmoid,Relu\n",
    "from kudzu.layer import Affine"
   ]
  },
  {
   "cell_type": "markdown",
   "id": "bc01172a",
   "metadata": {
    "papermill": {
     "duration": 0.038046,
     "end_time": "2022-04-01T00:36:49.191264",
     "exception": false,
     "start_time": "2022-04-01T00:36:49.153218",
     "status": "completed"
    },
    "tags": []
   },
   "source": [
    "### Let us create a `Config` class, to store important parameters. \n",
    "This class essentially plays the role of a dictionary."
   ]
  },
  {
   "cell_type": "code",
   "execution_count": 16,
   "id": "978281aa",
   "metadata": {
    "execution": {
     "iopub.execute_input": "2022-04-01T00:36:49.267075Z",
     "iopub.status.busy": "2022-04-01T00:36:49.266240Z",
     "iopub.status.idle": "2022-04-01T00:36:49.280741Z",
     "shell.execute_reply": "2022-04-01T00:36:49.280136Z"
    },
    "papermill": {
     "duration": 0.054007,
     "end_time": "2022-04-01T00:36:49.280879",
     "exception": false,
     "start_time": "2022-04-01T00:36:49.226872",
     "status": "completed"
    },
    "tags": []
   },
   "outputs": [],
   "source": [
    "class Config:\n",
    "    pass\n",
    "config = Config()\n",
    "config.lr = 0.001\n",
    "config.num_epochs = 250\n",
    "config.bs = 50"
   ]
  },
  {
   "cell_type": "markdown",
   "id": "1385fa59",
   "metadata": {
    "papermill": {
     "duration": 0.035233,
     "end_time": "2022-04-01T00:36:49.352144",
     "exception": false,
     "start_time": "2022-04-01T00:36:49.316911",
     "status": "completed"
    },
    "tags": []
   },
   "source": [
    "### Running Models with the Training data\n",
    "Details about the network layers:\n",
    "- A first affine layer has 784 inputs and does 100 affine transforms. These are followed by a Relu\n",
    "- A second affine layer has 100 inputs from the 100 activations of the past layer, and does 100 affine transforms. These are followed by a Relu\n",
    "- A third affine layer has 100 activations and does 2 affine transformations to create an embedding for visualization. There is no non-linearity here.\n",
    "- A final \"logistic regression\" which has an affine transform from 2 inputs to 1 output, which is squeezed through a sigmoid.\n"
   ]
  },
  {
   "cell_type": "code",
   "execution_count": 17,
   "id": "2b9c66db",
   "metadata": {
    "execution": {
     "iopub.execute_input": "2022-04-01T00:36:49.428016Z",
     "iopub.status.busy": "2022-04-01T00:36:49.427330Z",
     "iopub.status.idle": "2022-04-01T00:36:49.441512Z",
     "shell.execute_reply": "2022-04-01T00:36:49.442094Z"
    },
    "papermill": {
     "duration": 0.05501,
     "end_time": "2022-04-01T00:36:49.442268",
     "exception": false,
     "start_time": "2022-04-01T00:36:49.387258",
     "status": "completed"
    },
    "tags": []
   },
   "outputs": [],
   "source": [
    "data = Data(X_train, y_train.reshape(-1,1))\n",
    "sampler = Sampler(data, config.bs, shuffle=True)\n",
    "\n",
    "dl = Dataloader(data, sampler)\n",
    "\n",
    "opt = GD(config.lr)\n",
    "loss = MSE()"
   ]
  },
  {
   "cell_type": "code",
   "execution_count": 18,
   "id": "b275e4c2",
   "metadata": {
    "execution": {
     "iopub.execute_input": "2022-04-01T00:36:49.519797Z",
     "iopub.status.busy": "2022-04-01T00:36:49.519066Z",
     "iopub.status.idle": "2022-04-01T00:36:49.533123Z",
     "shell.execute_reply": "2022-04-01T00:36:49.532549Z"
    },
    "papermill": {
     "duration": 0.055327,
     "end_time": "2022-04-01T00:36:49.533261",
     "exception": false,
     "start_time": "2022-04-01T00:36:49.477934",
     "status": "completed"
    },
    "tags": []
   },
   "outputs": [],
   "source": [
    "training_data_x = X_train\n",
    "testing_data_x = X_test\n",
    "training_data_y = y_train.reshape(-1,1)\n",
    "testing_data_y = y_test.reshape(-1,1)"
   ]
  },
  {
   "cell_type": "code",
   "execution_count": 19,
   "id": "76951160",
   "metadata": {
    "execution": {
     "iopub.execute_input": "2022-04-01T00:36:49.607365Z",
     "iopub.status.busy": "2022-04-01T00:36:49.606660Z",
     "iopub.status.idle": "2022-04-01T00:36:49.626191Z",
     "shell.execute_reply": "2022-04-01T00:36:49.625425Z"
    },
    "papermill": {
     "duration": 0.059437,
     "end_time": "2022-04-01T00:36:49.626569",
     "exception": false,
     "start_time": "2022-04-01T00:36:49.567132",
     "status": "completed"
    },
    "tags": []
   },
   "outputs": [
    {
     "name": "stdout",
     "output_type": "stream",
     "text": [
      "xavier\n",
      "xavier\n",
      "xavier\n",
      "xavier\n",
      "xavier\n"
     ]
    }
   ],
   "source": [
    "layers = [Affine(\"first\", 784, 100), Relu(\"first\"), Affine(\"second\", 100, 100), Relu(\"second\"), Affine(\"third\", 100, 2), Affine(\"last\", 2, 1), Sigmoid(\"last\")]\n",
    "model_nn = Model(layers)\n",
    "model_lr = Model([Affine(\"logits\", 784, 1), Sigmoid(\"sigmoid\")])"
   ]
  },
  {
   "cell_type": "code",
   "execution_count": 20,
   "id": "6eede77a",
   "metadata": {
    "execution": {
     "iopub.execute_input": "2022-04-01T00:36:49.713949Z",
     "iopub.status.busy": "2022-04-01T00:36:49.713246Z",
     "iopub.status.idle": "2022-04-01T00:36:49.728050Z",
     "shell.execute_reply": "2022-04-01T00:36:49.728605Z"
    },
    "papermill": {
     "duration": 0.059258,
     "end_time": "2022-04-01T00:36:49.728782",
     "exception": false,
     "start_time": "2022-04-01T00:36:49.669524",
     "status": "completed"
    },
    "tags": []
   },
   "outputs": [],
   "source": [
    "nn_learner = Learner(loss, model_nn, opt, config.num_epochs)\n",
    "acc_nn = ClfCallback(nn_learner, config.bs, training_data_x , testing_data_x, training_data_y, testing_data_y)\n",
    "nn_learner.set_callbacks([acc_nn])"
   ]
  },
  {
   "cell_type": "code",
   "execution_count": 21,
   "id": "877b6cc7",
   "metadata": {
    "execution": {
     "iopub.execute_input": "2022-04-01T00:36:49.806799Z",
     "iopub.status.busy": "2022-04-01T00:36:49.806096Z",
     "iopub.status.idle": "2022-04-01T00:36:49.821620Z",
     "shell.execute_reply": "2022-04-01T00:36:49.820684Z"
    },
    "papermill": {
     "duration": 0.057572,
     "end_time": "2022-04-01T00:36:49.822156",
     "exception": false,
     "start_time": "2022-04-01T00:36:49.764584",
     "status": "completed"
    },
    "tags": []
   },
   "outputs": [],
   "source": [
    "lr_learner = Learner(loss, model_lr, opt, config.num_epochs)\n",
    "acc_lr = ClfCallback(lr_learner, config.bs, training_data_x , testing_data_x, training_data_y, testing_data_y)\n",
    "lr_learner.set_callbacks([acc_lr])"
   ]
  },
  {
   "cell_type": "code",
   "execution_count": 22,
   "id": "d9b133c3",
   "metadata": {
    "execution": {
     "iopub.execute_input": "2022-04-01T00:36:49.908172Z",
     "iopub.status.busy": "2022-04-01T00:36:49.907477Z",
     "iopub.status.idle": "2022-04-01T00:39:16.136987Z",
     "shell.execute_reply": "2022-04-01T00:39:16.138334Z"
    },
    "papermill": {
     "duration": 146.270841,
     "end_time": "2022-04-01T00:39:16.138521",
     "exception": false,
     "start_time": "2022-04-01T00:36:49.867680",
     "status": "completed"
    },
    "tags": []
   },
   "outputs": [
    {
     "name": "stdout",
     "output_type": "stream",
     "text": [
      "Epoch 0, Loss 0.2297\n",
      "Training Accuracy: 0.7783, Testing Accuracy: 0.7782\n",
      "\n"
     ]
    },
    {
     "name": "stdout",
     "output_type": "stream",
     "text": [
      "Epoch 10, Loss 0.0585\n",
      "Training Accuracy: 0.9410, Testing Accuracy: 0.9531\n",
      "\n"
     ]
    },
    {
     "name": "stdout",
     "output_type": "stream",
     "text": [
      "Epoch 20, Loss 0.0415\n",
      "Training Accuracy: 0.9545, Testing Accuracy: 0.9612\n",
      "\n"
     ]
    },
    {
     "name": "stdout",
     "output_type": "stream",
     "text": [
      "Epoch 30, Loss 0.0349\n",
      "Training Accuracy: 0.9600, Testing Accuracy: 0.9672\n",
      "\n"
     ]
    },
    {
     "name": "stdout",
     "output_type": "stream",
     "text": [
      "Epoch 40, Loss 0.0312\n",
      "Training Accuracy: 0.9643, Testing Accuracy: 0.9682\n",
      "\n"
     ]
    },
    {
     "name": "stdout",
     "output_type": "stream",
     "text": [
      "Epoch 50, Loss 0.0287\n",
      "Training Accuracy: 0.9670, Testing Accuracy: 0.9703\n",
      "\n"
     ]
    },
    {
     "name": "stdout",
     "output_type": "stream",
     "text": [
      "Epoch 60, Loss 0.0268\n",
      "Training Accuracy: 0.9685, Testing Accuracy: 0.9718\n",
      "\n"
     ]
    },
    {
     "name": "stdout",
     "output_type": "stream",
     "text": [
      "Epoch 70, Loss 0.0253\n",
      "Training Accuracy: 0.9709, Testing Accuracy: 0.9738\n",
      "\n"
     ]
    },
    {
     "name": "stdout",
     "output_type": "stream",
     "text": [
      "Epoch 80, Loss 0.0241\n",
      "Training Accuracy: 0.9723, Testing Accuracy: 0.9743\n",
      "\n"
     ]
    },
    {
     "name": "stdout",
     "output_type": "stream",
     "text": [
      "Epoch 90, Loss 0.023\n",
      "Training Accuracy: 0.9735, Testing Accuracy: 0.9743\n",
      "\n"
     ]
    },
    {
     "name": "stdout",
     "output_type": "stream",
     "text": [
      "Epoch 100, Loss 0.0221\n",
      "Training Accuracy: 0.9753, Testing Accuracy: 0.9743\n",
      "\n"
     ]
    },
    {
     "name": "stdout",
     "output_type": "stream",
     "text": [
      "Epoch 110, Loss 0.0213\n",
      "Training Accuracy: 0.9769, Testing Accuracy: 0.9743\n",
      "\n"
     ]
    },
    {
     "name": "stdout",
     "output_type": "stream",
     "text": [
      "Epoch 120, Loss 0.0205\n",
      "Training Accuracy: 0.9781, Testing Accuracy: 0.9743\n",
      "\n"
     ]
    },
    {
     "name": "stdout",
     "output_type": "stream",
     "text": [
      "Epoch 130, Loss 0.0198\n",
      "Training Accuracy: 0.9786, Testing Accuracy: 0.9753\n",
      "\n"
     ]
    },
    {
     "name": "stdout",
     "output_type": "stream",
     "text": [
      "Epoch 140, Loss 0.0192\n",
      "Training Accuracy: 0.9790, Testing Accuracy: 0.9758\n",
      "\n"
     ]
    },
    {
     "name": "stdout",
     "output_type": "stream",
     "text": [
      "Epoch 150, Loss 0.0186\n",
      "Training Accuracy: 0.9796, Testing Accuracy: 0.9758\n",
      "\n"
     ]
    },
    {
     "name": "stdout",
     "output_type": "stream",
     "text": [
      "Epoch 160, Loss 0.018\n",
      "Training Accuracy: 0.9802, Testing Accuracy: 0.9768\n",
      "\n"
     ]
    },
    {
     "name": "stdout",
     "output_type": "stream",
     "text": [
      "Epoch 170, Loss 0.0175\n",
      "Training Accuracy: 0.9811, Testing Accuracy: 0.9773\n",
      "\n"
     ]
    },
    {
     "name": "stdout",
     "output_type": "stream",
     "text": [
      "Epoch 180, Loss 0.017\n",
      "Training Accuracy: 0.9817, Testing Accuracy: 0.9773\n",
      "\n"
     ]
    },
    {
     "name": "stdout",
     "output_type": "stream",
     "text": [
      "Epoch 190, Loss 0.0166\n",
      "Training Accuracy: 0.9822, Testing Accuracy: 0.9773\n",
      "\n"
     ]
    },
    {
     "name": "stdout",
     "output_type": "stream",
     "text": [
      "Epoch 200, Loss 0.0161\n",
      "Training Accuracy: 0.9828, Testing Accuracy: 0.9778\n",
      "\n"
     ]
    },
    {
     "name": "stdout",
     "output_type": "stream",
     "text": [
      "Epoch 210, Loss 0.0157\n",
      "Training Accuracy: 0.9832, Testing Accuracy: 0.9773\n",
      "\n"
     ]
    },
    {
     "name": "stdout",
     "output_type": "stream",
     "text": [
      "Epoch 220, Loss 0.0153\n",
      "Training Accuracy: 0.9841, Testing Accuracy: 0.9778\n",
      "\n"
     ]
    },
    {
     "name": "stdout",
     "output_type": "stream",
     "text": [
      "Epoch 230, Loss 0.0149\n",
      "Training Accuracy: 0.9846, Testing Accuracy: 0.9788\n",
      "\n"
     ]
    },
    {
     "name": "stdout",
     "output_type": "stream",
     "text": [
      "Epoch 240, Loss 0.0145\n",
      "Training Accuracy: 0.9851, Testing Accuracy: 0.9788\n",
      "\n"
     ]
    },
    {
     "data": {
      "text/plain": [
       "0.025171427324246765"
      ]
     },
     "execution_count": 22,
     "metadata": {},
     "output_type": "execute_result"
    }
   ],
   "source": [
    "nn_learner.train_loop(dl)"
   ]
  },
  {
   "cell_type": "code",
   "execution_count": 23,
   "id": "e0163366",
   "metadata": {
    "execution": {
     "iopub.execute_input": "2022-04-01T00:39:16.240764Z",
     "iopub.status.busy": "2022-04-01T00:39:16.240024Z",
     "iopub.status.idle": "2022-04-01T00:39:37.720655Z",
     "shell.execute_reply": "2022-04-01T00:39:37.721666Z"
    },
    "papermill": {
     "duration": 21.537691,
     "end_time": "2022-04-01T00:39:37.721893",
     "exception": false,
     "start_time": "2022-04-01T00:39:16.184202",
     "status": "completed"
    },
    "tags": []
   },
   "outputs": [
    {
     "name": "stdout",
     "output_type": "stream",
     "text": [
      "Epoch 0, Loss 0.2228\n",
      "Training Accuracy: 0.7648, Testing Accuracy: 0.7782\n",
      "\n"
     ]
    },
    {
     "name": "stdout",
     "output_type": "stream",
     "text": [
      "Epoch 10, Loss 0.1014\n",
      "Training Accuracy: 0.9097, Testing Accuracy: 0.9224\n",
      "\n"
     ]
    },
    {
     "name": "stdout",
     "output_type": "stream",
     "text": [
      "Epoch 20, Loss 0.079\n",
      "Training Accuracy: 0.9271, Testing Accuracy: 0.9375\n",
      "\n"
     ]
    },
    {
     "name": "stdout",
     "output_type": "stream",
     "text": [
      "Epoch 30, Loss 0.0684\n",
      "Training Accuracy: 0.9362, Testing Accuracy: 0.9481\n",
      "\n"
     ]
    },
    {
     "name": "stdout",
     "output_type": "stream",
     "text": [
      "Epoch 40, Loss 0.0618\n",
      "Training Accuracy: 0.9412, Testing Accuracy: 0.9521\n",
      "\n"
     ]
    },
    {
     "name": "stdout",
     "output_type": "stream",
     "text": [
      "Epoch 50, Loss 0.0573\n",
      "Training Accuracy: 0.9449, Testing Accuracy: 0.9556\n",
      "\n"
     ]
    },
    {
     "name": "stdout",
     "output_type": "stream",
     "text": [
      "Epoch 60, Loss 0.054\n",
      "Training Accuracy: 0.9475, Testing Accuracy: 0.9597\n",
      "\n"
     ]
    },
    {
     "name": "stdout",
     "output_type": "stream",
     "text": [
      "Epoch 70, Loss 0.0515\n",
      "Training Accuracy: 0.9496, Testing Accuracy: 0.9612\n",
      "\n"
     ]
    },
    {
     "name": "stdout",
     "output_type": "stream",
     "text": [
      "Epoch 80, Loss 0.0494\n",
      "Training Accuracy: 0.9510, Testing Accuracy: 0.9622\n",
      "\n"
     ]
    },
    {
     "name": "stdout",
     "output_type": "stream",
     "text": [
      "Epoch 90, Loss 0.0477\n",
      "Training Accuracy: 0.9523, Testing Accuracy: 0.9637\n",
      "\n"
     ]
    },
    {
     "name": "stdout",
     "output_type": "stream",
     "text": [
      "Epoch 100, Loss 0.0463\n",
      "Training Accuracy: 0.9541, Testing Accuracy: 0.9647\n",
      "\n"
     ]
    },
    {
     "name": "stdout",
     "output_type": "stream",
     "text": [
      "Epoch 110, Loss 0.045\n",
      "Training Accuracy: 0.9546, Testing Accuracy: 0.9657\n",
      "\n"
     ]
    },
    {
     "name": "stdout",
     "output_type": "stream",
     "text": [
      "Epoch 120, Loss 0.044\n",
      "Training Accuracy: 0.9554, Testing Accuracy: 0.9662\n",
      "\n"
     ]
    },
    {
     "name": "stdout",
     "output_type": "stream",
     "text": [
      "Epoch 130, Loss 0.043\n",
      "Training Accuracy: 0.9562, Testing Accuracy: 0.9667\n",
      "\n"
     ]
    },
    {
     "name": "stdout",
     "output_type": "stream",
     "text": [
      "Epoch 140, Loss 0.0422\n",
      "Training Accuracy: 0.9564, Testing Accuracy: 0.9667\n",
      "\n"
     ]
    },
    {
     "name": "stdout",
     "output_type": "stream",
     "text": [
      "Epoch 150, Loss 0.0414\n",
      "Training Accuracy: 0.9574, Testing Accuracy: 0.9677\n",
      "\n"
     ]
    },
    {
     "name": "stdout",
     "output_type": "stream",
     "text": [
      "Epoch 160, Loss 0.0407\n",
      "Training Accuracy: 0.9579, Testing Accuracy: 0.9672\n",
      "\n"
     ]
    },
    {
     "name": "stdout",
     "output_type": "stream",
     "text": [
      "Epoch 170, Loss 0.0401\n",
      "Training Accuracy: 0.9584, Testing Accuracy: 0.9672\n",
      "\n"
     ]
    },
    {
     "name": "stdout",
     "output_type": "stream",
     "text": [
      "Epoch 180, Loss 0.0396\n",
      "Training Accuracy: 0.9588, Testing Accuracy: 0.9672\n",
      "\n"
     ]
    },
    {
     "name": "stdout",
     "output_type": "stream",
     "text": [
      "Epoch 190, Loss 0.039\n",
      "Training Accuracy: 0.9594, Testing Accuracy: 0.9667\n",
      "\n"
     ]
    },
    {
     "name": "stdout",
     "output_type": "stream",
     "text": [
      "Epoch 200, Loss 0.0386\n",
      "Training Accuracy: 0.9602, Testing Accuracy: 0.9667\n",
      "\n"
     ]
    },
    {
     "name": "stdout",
     "output_type": "stream",
     "text": [
      "Epoch 210, Loss 0.0381\n",
      "Training Accuracy: 0.9605, Testing Accuracy: 0.9667\n",
      "\n"
     ]
    },
    {
     "name": "stdout",
     "output_type": "stream",
     "text": [
      "Epoch 220, Loss 0.0377\n",
      "Training Accuracy: 0.9609, Testing Accuracy: 0.9672\n",
      "\n"
     ]
    },
    {
     "name": "stdout",
     "output_type": "stream",
     "text": [
      "Epoch 230, Loss 0.0373\n",
      "Training Accuracy: 0.9613, Testing Accuracy: 0.9667\n",
      "\n"
     ]
    },
    {
     "name": "stdout",
     "output_type": "stream",
     "text": [
      "Epoch 240, Loss 0.0369\n",
      "Training Accuracy: 0.9612, Testing Accuracy: 0.9672\n",
      "\n"
     ]
    },
    {
     "data": {
      "text/plain": [
       "0.019354298002099635"
      ]
     },
     "execution_count": 23,
     "metadata": {},
     "output_type": "execute_result"
    }
   ],
   "source": [
    "lr_learner.train_loop(dl)"
   ]
  },
  {
   "cell_type": "code",
   "execution_count": 24,
   "id": "ca410940",
   "metadata": {
    "execution": {
     "iopub.execute_input": "2022-04-01T00:39:37.832120Z",
     "iopub.status.busy": "2022-04-01T00:39:37.831380Z",
     "iopub.status.idle": "2022-04-01T00:39:38.130487Z",
     "shell.execute_reply": "2022-04-01T00:39:38.129938Z"
    },
    "papermill": {
     "duration": 0.356683,
     "end_time": "2022-04-01T00:39:38.130618",
     "exception": false,
     "start_time": "2022-04-01T00:39:37.773935",
     "status": "completed"
    },
    "tags": []
   },
   "outputs": [
    {
     "data": {
      "text/plain": [
       "<matplotlib.legend.Legend at 0x7f173525ccf8>"
      ]
     },
     "execution_count": 24,
     "metadata": {},
     "output_type": "execute_result"
    },
    {
     "data": {
      "image/png": "[encoded data removed]",
      "text/plain": [
       "<Figure size 1080x720 with 1 Axes>"
      ]
     },
     "metadata": {
      "needs_background": "light"
     },
     "output_type": "display_data"
    }
   ],
   "source": [
    "#comparing the results of NN and LR\n",
    "plt.figure(figsize=(15,10))\n",
    "\n",
    "# Neural Network plots\n",
    "plt.plot(acc_nn.accuracies, 'r-', label = \"Training Accuracies - NN\")\n",
    "plt.plot(acc_nn.test_accuracies, 'g-', label = \"Testing Accuracies - NN\")\n",
    "\n",
    "# Logistic Regression plots\n",
    "plt.plot(acc_lr.accuracies, 'k-', label = \"Training Accuracies - LR\")\n",
    "plt.plot(acc_lr.test_accuracies, 'b-', label = \"Testing Accuracies - LR\")\n",
    "plt.legend()"
   ]
  },
  {
   "cell_type": "markdown",
   "id": "80dfb35c",
   "metadata": {
    "papermill": {
     "duration": 0.051581,
     "end_time": "2022-04-01T00:39:38.235821",
     "exception": false,
     "start_time": "2022-04-01T00:39:38.184240",
     "status": "completed"
    },
    "tags": []
   },
   "source": [
    "#### Plotting the outputs of this layer of the NN.\n"
   ]
  },
  {
   "cell_type": "code",
   "execution_count": 25,
   "id": "45eb2ff5",
   "metadata": {
    "execution": {
     "iopub.execute_input": "2022-04-01T00:39:38.344929Z",
     "iopub.status.busy": "2022-04-01T00:39:38.344159Z",
     "iopub.status.idle": "2022-04-01T00:39:38.371760Z",
     "shell.execute_reply": "2022-04-01T00:39:38.372567Z"
    },
    "papermill": {
     "duration": 0.084625,
     "end_time": "2022-04-01T00:39:38.372726",
     "exception": false,
     "start_time": "2022-04-01T00:39:38.288101",
     "status": "completed"
    },
    "tags": []
   },
   "outputs": [],
   "source": [
    "new_model = Model(layers[:-2])\n",
    "testing_plot = new_model(testing_data_x)"
   ]
  },
  {
   "cell_type": "code",
   "execution_count": 26,
   "id": "4c0a5485",
   "metadata": {
    "execution": {
     "iopub.execute_input": "2022-04-01T00:39:38.483201Z",
     "iopub.status.busy": "2022-04-01T00:39:38.482476Z",
     "iopub.status.idle": "2022-04-01T00:39:38.738266Z",
     "shell.execute_reply": "2022-04-01T00:39:38.738843Z"
    },
    "papermill": {
     "duration": 0.312451,
     "end_time": "2022-04-01T00:39:38.739070",
     "exception": false,
     "start_time": "2022-04-01T00:39:38.426619",
     "status": "completed"
    },
    "tags": []
   },
   "outputs": [
    {
     "data": {
      "text/plain": [
       "Text(0.5, 1.0, 'Outputs')"
      ]
     },
     "execution_count": 26,
     "metadata": {},
     "output_type": "execute_result"
    },
    {
     "data": {
      "image/png": "[encoded data removed]",
      "text/plain": [
       "<Figure size 576x504 with 1 Axes>"
      ]
     },
     "metadata": {
      "needs_background": "light"
     },
     "output_type": "display_data"
    }
   ],
   "source": [
    "# Plotting the scatter plot of points and color coding by class\n",
    "plt.figure(figsize=(8,7))\n",
    "plt.scatter(testing_plot[:,0], testing_plot[:,1], alpha = 0.1, c = y_test.ravel());\n",
    "plt.title('Outputs')"
   ]
  },
  {
   "cell_type": "markdown",
   "id": "a74fcf8f",
   "metadata": {
    "papermill": {
     "duration": 0.0575,
     "end_time": "2022-04-01T00:39:38.855796",
     "exception": false,
     "start_time": "2022-04-01T00:39:38.798296",
     "status": "completed"
    },
    "tags": []
   },
   "source": [
    "Probability contours"
   ]
  },
  {
   "cell_type": "code",
   "execution_count": 27,
   "id": "d0afc8e3",
   "metadata": {
    "execution": {
     "iopub.execute_input": "2022-04-01T00:39:38.994350Z",
     "iopub.status.busy": "2022-04-01T00:39:38.993570Z",
     "iopub.status.idle": "2022-04-01T00:39:39.005584Z",
     "shell.execute_reply": "2022-04-01T00:39:39.006162Z"
    },
    "papermill": {
     "duration": 0.073159,
     "end_time": "2022-04-01T00:39:39.007022",
     "exception": false,
     "start_time": "2022-04-01T00:39:38.933863",
     "status": "completed"
    },
    "tags": []
   },
   "outputs": [],
   "source": [
    "model_prob = Model(layers[-2:]) "
   ]
  },
  {
   "cell_type": "code",
   "execution_count": 28,
   "id": "9b96e238",
   "metadata": {
    "execution": {
     "iopub.execute_input": "2022-04-01T00:39:39.133659Z",
     "iopub.status.busy": "2022-04-01T00:39:39.129242Z",
     "iopub.status.idle": "2022-04-01T00:39:39.144612Z",
     "shell.execute_reply": "2022-04-01T00:39:39.144048Z"
    },
    "papermill": {
     "duration": 0.084174,
     "end_time": "2022-04-01T00:39:39.145012",
     "exception": false,
     "start_time": "2022-04-01T00:39:39.060838",
     "status": "completed"
    },
    "tags": []
   },
   "outputs": [],
   "source": [
    "#creating the x and y ranges according to the above generated plot.\n",
    "x_range = np.linspace(-4, 1, 100) \n",
    "y_range = np.linspace(-6, 6, 100) \n",
    "x_grid, y_grid = np.meshgrid(x_range, y_range) # x_grid and y_grig are of size 100 X 100\n",
    "\n",
    "# converting x_grid and y_grid to continuous arrays\n",
    "x_gridflat = np.ravel(x_grid)\n",
    "y_gridflat = np.ravel(y_grid)\n",
    "\n",
    "# The last layer of the current model takes two columns as input. Hence transpose of np.vstack() is required.\n",
    "X = np.vstack((x_gridflat, y_gridflat)).T\n",
    "\n",
    "prob_contour = model_prob(X).reshape(100,100) "
   ]
  },
  {
   "cell_type": "code",
   "execution_count": 29,
   "id": "da72499a",
   "metadata": {
    "execution": {
     "iopub.execute_input": "2022-04-01T00:39:39.270691Z",
     "iopub.status.busy": "2022-04-01T00:39:39.269985Z",
     "iopub.status.idle": "2022-04-01T00:39:39.589848Z",
     "shell.execute_reply": "2022-04-01T00:39:39.590461Z"
    },
    "papermill": {
     "duration": 0.384985,
     "end_time": "2022-04-01T00:39:39.590637",
     "exception": false,
     "start_time": "2022-04-01T00:39:39.205652",
     "status": "completed"
    },
    "tags": []
   },
   "outputs": [
    {
     "data": {
      "image/png": "[encoded data removed]",
      "text/plain": [
       "<Figure size 720x648 with 1 Axes>"
      ]
     },
     "metadata": {
      "needs_background": "light"
     },
     "output_type": "display_data"
    }
   ],
   "source": [
    "plt.figure(figsize=(10,9))\n",
    "plt.scatter(testing_plot[:,0], testing_plot[:,1], alpha = 0.1, c = y_test.ravel())\n",
    "contours = plt.contour(x_grid,y_grid,prob_contour)\n",
    "plt.title('Probability Contours')\n",
    "plt.clabel(contours, inline = True );"
   ]
  },
  {
   "cell_type": "code",
   "execution_count": null,
   "id": "e81b4ac7",
   "metadata": {
    "papermill": {
     "duration": 0.057564,
     "end_time": "2022-04-01T00:39:39.707688",
     "exception": false,
     "start_time": "2022-04-01T00:39:39.650124",
     "status": "completed"
    },
    "tags": []
   },
   "outputs": [],
   "source": []
  }
 ],
 "metadata": {
  "kernelspec": {
   "display_name": "Python 3",
   "language": "python",
   "name": "python3"
  },
  "language_info": {
   "codemirror_mode": {
    "name": "ipython",
    "version": 3
   },
   "file_extension": ".py",
   "mimetype": "text/x-python",
   "name": "python",
   "nbconvert_exporter": "python",
   "pygments_lexer": "ipython3",
   "version": "3.6.15"
  },
  "papermill": {
   "default_parameters": {},
   "duration": 178.702351,
   "end_time": "2022-04-01T00:39:40.183939",
   "environment_variables": {},
   "exception": null,
   "input_path": "2020-08-11-part2.ipynb",
   "output_path": "2020-08-11-part2.ipynb",
   "parameters": {},
   "start_time": "2022-04-01T00:36:41.481588",
   "version": "2.3.3"
  }
 },
 "nbformat": 4,
 "nbformat_minor": 5
}