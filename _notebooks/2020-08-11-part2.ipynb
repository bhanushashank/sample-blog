{
 "cells": [
  {
   "cell_type": "markdown",
   "id": "98380cd3",
   "metadata": {
    "papermill": {
     "duration": 0.034585,
     "end_time": "2022-10-16T00:56:37.955322",
     "exception": false,
     "start_time": "2022-10-16T00:56:37.920737",
     "status": "completed"
    },
    "tags": []
   },
   "source": [
    "# Distinguish Your Own Digits (DYOD)"
   ]
  },
  {
   "cell_type": "markdown",
   "id": "ef31240d",
   "metadata": {
    "papermill": {
     "duration": 0.027022,
     "end_time": "2022-10-16T00:56:38.010412",
     "exception": false,
     "start_time": "2022-10-16T00:56:37.983390",
     "status": "completed"
    },
    "tags": []
   },
   "source": [
    "You are going to write a classifier that distinguishes between the number 3 and number 8."
   ]
  },
  {
   "cell_type": "code",
   "execution_count": 1,
   "id": "b15c8646",
   "metadata": {
    "execution": {
     "iopub.execute_input": "2022-10-16T00:56:38.079043Z",
     "iopub.status.busy": "2022-10-16T00:56:38.078279Z",
     "iopub.status.idle": "2022-10-16T00:56:38.095922Z",
     "shell.execute_reply": "2022-10-16T00:56:38.095244Z"
    },
    "papermill": {
     "duration": 0.05862,
     "end_time": "2022-10-16T00:56:38.096083",
     "exception": false,
     "start_time": "2022-10-16T00:56:38.037463",
     "status": "completed"
    },
    "tags": []
   },
   "outputs": [],
   "source": [
    "%load_ext autoreload\n",
    "%autoreload 2"
   ]
  },
  {
   "cell_type": "code",
   "execution_count": 2,
   "id": "22ef38dc",
   "metadata": {
    "execution": {
     "iopub.execute_input": "2022-10-16T00:56:38.167707Z",
     "iopub.status.busy": "2022-10-16T00:56:38.166967Z",
     "iopub.status.idle": "2022-10-16T00:56:38.827308Z",
     "shell.execute_reply": "2022-10-16T00:56:38.826232Z"
    },
    "papermill": {
     "duration": 0.700078,
     "end_time": "2022-10-16T00:56:38.827475",
     "exception": false,
     "start_time": "2022-10-16T00:56:38.127397",
     "status": "completed"
    },
    "tags": []
   },
   "outputs": [],
   "source": [
    "%matplotlib inline\n",
    "import numpy as np\n",
    "import matplotlib.pyplot as plt\n",
    "import pandas as pd"
   ]
  },
  {
   "cell_type": "markdown",
   "id": "ba036198",
   "metadata": {
    "papermill": {
     "duration": 0.027551,
     "end_time": "2022-10-16T00:56:38.883046",
     "exception": false,
     "start_time": "2022-10-16T00:56:38.855495",
     "status": "completed"
    },
    "tags": []
   },
   "source": [
    "From the command line run `pip install mnist`. This is a library that will help you bring down the mnist dataset. If you run this from a notebook, you need to put  `!pip install mnist` in a cell by itself."
   ]
  },
  {
   "cell_type": "code",
   "execution_count": 3,
   "id": "bb6ad8a1",
   "metadata": {
    "execution": {
     "iopub.execute_input": "2022-10-16T00:56:38.942358Z",
     "iopub.status.busy": "2022-10-16T00:56:38.941590Z",
     "iopub.status.idle": "2022-10-16T00:56:40.979689Z",
     "shell.execute_reply": "2022-10-16T00:56:40.978725Z"
    },
    "papermill": {
     "duration": 2.06979,
     "end_time": "2022-10-16T00:56:40.979831",
     "exception": false,
     "start_time": "2022-10-16T00:56:38.910041",
     "status": "completed"
    },
    "tags": []
   },
   "outputs": [
    {
     "name": "stdout",
     "output_type": "stream",
     "text": [
      "Collecting mnist\r\n"
     ]
    },
    {
     "name": "stdout",
     "output_type": "stream",
     "text": [
      "  Downloading mnist-0.2.2-py2.py3-none-any.whl (3.5 kB)\r\n",
      "Requirement already satisfied: numpy in /opt/hostedtoolcache/Python/3.6.15/x64/lib/python3.6/site-packages (from mnist) (1.19.5)\r\n"
     ]
    },
    {
     "name": "stdout",
     "output_type": "stream",
     "text": [
      "Installing collected packages: mnist\r\n"
     ]
    },
    {
     "name": "stdout",
     "output_type": "stream",
     "text": [
      "Successfully installed mnist-0.2.2\r\n"
     ]
    }
   ],
   "source": [
    "!pip install mnist"
   ]
  },
  {
   "cell_type": "markdown",
   "id": "69df9c9a",
   "metadata": {
    "papermill": {
     "duration": 0.028859,
     "end_time": "2022-10-16T00:56:41.037287",
     "exception": false,
     "start_time": "2022-10-16T00:56:41.008428",
     "status": "completed"
    },
    "tags": []
   },
   "source": [
    "## Preparing the Data"
   ]
  },
  {
   "cell_type": "code",
   "execution_count": 4,
   "id": "7f69d806",
   "metadata": {
    "execution": {
     "iopub.execute_input": "2022-10-16T00:56:41.100601Z",
     "iopub.status.busy": "2022-10-16T00:56:41.099860Z",
     "iopub.status.idle": "2022-10-16T00:56:41.118351Z",
     "shell.execute_reply": "2022-10-16T00:56:41.117696Z"
    },
    "papermill": {
     "duration": 0.052741,
     "end_time": "2022-10-16T00:56:41.118491",
     "exception": false,
     "start_time": "2022-10-16T00:56:41.065750",
     "status": "completed"
    },
    "tags": []
   },
   "outputs": [],
   "source": [
    "import mnist"
   ]
  },
  {
   "cell_type": "code",
   "execution_count": 5,
   "id": "a411e44f",
   "metadata": {
    "execution": {
     "iopub.execute_input": "2022-10-16T00:56:41.194400Z",
     "iopub.status.busy": "2022-10-16T00:56:41.193646Z",
     "iopub.status.idle": "2022-10-16T00:56:41.986109Z",
     "shell.execute_reply": "2022-10-16T00:56:41.986902Z"
    },
    "papermill": {
     "duration": 0.833788,
     "end_time": "2022-10-16T00:56:41.987076",
     "exception": false,
     "start_time": "2022-10-16T00:56:41.153288",
     "status": "completed"
    },
    "tags": []
   },
   "outputs": [],
   "source": [
    "train_images = mnist.train_images()\n",
    "train_labels = mnist.train_labels()"
   ]
  },
  {
   "cell_type": "code",
   "execution_count": 6,
   "id": "dceab3a5",
   "metadata": {
    "execution": {
     "iopub.execute_input": "2022-10-16T00:56:42.049213Z",
     "iopub.status.busy": "2022-10-16T00:56:42.048477Z",
     "iopub.status.idle": "2022-10-16T00:56:42.069948Z",
     "shell.execute_reply": "2022-10-16T00:56:42.069287Z"
    },
    "papermill": {
     "duration": 0.054114,
     "end_time": "2022-10-16T00:56:42.070099",
     "exception": false,
     "start_time": "2022-10-16T00:56:42.015985",
     "status": "completed"
    },
    "tags": []
   },
   "outputs": [
    {
     "data": {
      "text/plain": [
       "((60000, 28, 28), (60000,))"
      ]
     },
     "execution_count": 6,
     "metadata": {},
     "output_type": "execute_result"
    }
   ],
   "source": [
    "train_images.shape, train_labels.shape"
   ]
  },
  {
   "cell_type": "code",
   "execution_count": 7,
   "id": "f50dc2bb",
   "metadata": {
    "execution": {
     "iopub.execute_input": "2022-10-16T00:56:42.133491Z",
     "iopub.status.busy": "2022-10-16T00:56:42.132773Z",
     "iopub.status.idle": "2022-10-16T00:56:42.401468Z",
     "shell.execute_reply": "2022-10-16T00:56:42.400860Z"
    },
    "papermill": {
     "duration": 0.302576,
     "end_time": "2022-10-16T00:56:42.401612",
     "exception": false,
     "start_time": "2022-10-16T00:56:42.099036",
     "status": "completed"
    },
    "tags": []
   },
   "outputs": [],
   "source": [
    "test_images = mnist.test_images()\n",
    "test_labels = mnist.test_labels()"
   ]
  },
  {
   "cell_type": "code",
   "execution_count": 8,
   "id": "fc38cf1b",
   "metadata": {
    "execution": {
     "iopub.execute_input": "2022-10-16T00:56:42.472563Z",
     "iopub.status.busy": "2022-10-16T00:56:42.467784Z",
     "iopub.status.idle": "2022-10-16T00:56:42.484663Z",
     "shell.execute_reply": "2022-10-16T00:56:42.485168Z"
    },
    "papermill": {
     "duration": 0.054559,
     "end_time": "2022-10-16T00:56:42.485331",
     "exception": false,
     "start_time": "2022-10-16T00:56:42.430772",
     "status": "completed"
    },
    "tags": []
   },
   "outputs": [
    {
     "data": {
      "text/plain": [
       "((10000, 28, 28), (10000,))"
      ]
     },
     "execution_count": 8,
     "metadata": {},
     "output_type": "execute_result"
    }
   ],
   "source": [
    "test_images.shape, test_labels.shape"
   ]
  },
  {
   "cell_type": "code",
   "execution_count": 9,
   "id": "f9ed8fe0",
   "metadata": {
    "execution": {
     "iopub.execute_input": "2022-10-16T00:56:42.548903Z",
     "iopub.status.busy": "2022-10-16T00:56:42.547511Z",
     "iopub.status.idle": "2022-10-16T00:56:42.712816Z",
     "shell.execute_reply": "2022-10-16T00:56:42.712231Z"
    },
    "papermill": {
     "duration": 0.198538,
     "end_time": "2022-10-16T00:56:42.712949",
     "exception": false,
     "start_time": "2022-10-16T00:56:42.514411",
     "status": "completed"
    },
    "tags": []
   },
   "outputs": [
    {
     "name": "stdout",
     "output_type": "stream",
     "text": [
      "2\n"
     ]
    },
    {
     "data": {
      "text/plain": [
       "<matplotlib.image.AxesImage at 0x7feaa00eec88>"
      ]
     },
     "execution_count": 9,
     "metadata": {},
     "output_type": "execute_result"
    },
    {
     "data": {
      "image/png": "[encoded data removed]",
      "text/plain": [
       "<Figure size 432x288 with 1 Axes>"
      ]
     },
     "metadata": {
      "needs_background": "light"
     },
     "output_type": "display_data"
    }
   ],
   "source": [
    "image_index = 7776 # You may select anything up to 60,000\n",
    "print(train_labels[image_index]) \n",
    "plt.imshow(train_images[image_index], cmap='Greys')"
   ]
  },
  {
   "cell_type": "markdown",
   "id": "a8d2388d",
   "metadata": {
    "papermill": {
     "duration": 0.030447,
     "end_time": "2022-10-16T00:56:42.773962",
     "exception": false,
     "start_time": "2022-10-16T00:56:42.743515",
     "status": "completed"
    },
    "tags": []
   },
   "source": [
    "## Filter data to get 3 and 8 out"
   ]
  },
  {
   "cell_type": "code",
   "execution_count": 10,
   "id": "776f7fc7",
   "metadata": {
    "execution": {
     "iopub.execute_input": "2022-10-16T00:56:42.841363Z",
     "iopub.status.busy": "2022-10-16T00:56:42.840588Z",
     "iopub.status.idle": "2022-10-16T00:56:42.861715Z",
     "shell.execute_reply": "2022-10-16T00:56:42.861083Z"
    },
    "papermill": {
     "duration": 0.05761,
     "end_time": "2022-10-16T00:56:42.861866",
     "exception": false,
     "start_time": "2022-10-16T00:56:42.804256",
     "status": "completed"
    },
    "tags": []
   },
   "outputs": [],
   "source": [
    "train_filter = np.where((train_labels == 3 ) | (train_labels == 8))\n",
    "test_filter = np.where((test_labels == 3) | (test_labels == 8))\n",
    "X_train, y_train = train_images[train_filter], train_labels[train_filter]\n",
    "X_test, y_test = test_images[test_filter], test_labels[test_filter]"
   ]
  },
  {
   "cell_type": "markdown",
   "id": "948f0b7e",
   "metadata": {
    "papermill": {
     "duration": 0.032263,
     "end_time": "2022-10-16T00:56:42.931853",
     "exception": false,
     "start_time": "2022-10-16T00:56:42.899590",
     "status": "completed"
    },
    "tags": []
   },
   "source": [
    "We normalize the pizel values in the 0 to 1 range"
   ]
  },
  {
   "cell_type": "code",
   "execution_count": 11,
   "id": "ee4c2166",
   "metadata": {
    "execution": {
     "iopub.execute_input": "2022-10-16T00:56:43.004784Z",
     "iopub.status.busy": "2022-10-16T00:56:43.004035Z",
     "iopub.status.idle": "2022-10-16T00:56:43.057751Z",
     "shell.execute_reply": "2022-10-16T00:56:43.057079Z"
    },
    "papermill": {
     "duration": 0.090108,
     "end_time": "2022-10-16T00:56:43.057902",
     "exception": false,
     "start_time": "2022-10-16T00:56:42.967794",
     "status": "completed"
    },
    "tags": []
   },
   "outputs": [],
   "source": [
    "X_train = X_train/255.\n",
    "X_test = X_test/255."
   ]
  },
  {
   "cell_type": "markdown",
   "id": "ddcf4fab",
   "metadata": {
    "papermill": {
     "duration": 0.034701,
     "end_time": "2022-10-16T00:56:43.130653",
     "exception": false,
     "start_time": "2022-10-16T00:56:43.095952",
     "status": "completed"
    },
    "tags": []
   },
   "source": [
    "And setup the labels as 1 (when the digit is 3) and 0 (when the digit is 8)"
   ]
  },
  {
   "cell_type": "code",
   "execution_count": 12,
   "id": "7dc908f2",
   "metadata": {
    "execution": {
     "iopub.execute_input": "2022-10-16T00:56:43.197430Z",
     "iopub.status.busy": "2022-10-16T00:56:43.196564Z",
     "iopub.status.idle": "2022-10-16T00:56:43.210857Z",
     "shell.execute_reply": "2022-10-16T00:56:43.210266Z"
    },
    "papermill": {
     "duration": 0.050023,
     "end_time": "2022-10-16T00:56:43.211002",
     "exception": false,
     "start_time": "2022-10-16T00:56:43.160979",
     "status": "completed"
    },
    "tags": []
   },
   "outputs": [],
   "source": [
    "y_train = 1*(y_train==3)\n",
    "y_test = 1*(y_test==3)"
   ]
  },
  {
   "cell_type": "code",
   "execution_count": 13,
   "id": "01e4e969",
   "metadata": {
    "execution": {
     "iopub.execute_input": "2022-10-16T00:56:43.278042Z",
     "iopub.status.busy": "2022-10-16T00:56:43.277300Z",
     "iopub.status.idle": "2022-10-16T00:56:43.293022Z",
     "shell.execute_reply": "2022-10-16T00:56:43.293564Z"
    },
    "papermill": {
     "duration": 0.052229,
     "end_time": "2022-10-16T00:56:43.293751",
     "exception": false,
     "start_time": "2022-10-16T00:56:43.241522",
     "status": "completed"
    },
    "tags": []
   },
   "outputs": [
    {
     "data": {
      "text/plain": [
       "((11982, 28, 28), (1984, 28, 28))"
      ]
     },
     "execution_count": 13,
     "metadata": {},
     "output_type": "execute_result"
    }
   ],
   "source": [
    "X_train.shape, X_test.shape"
   ]
  },
  {
   "cell_type": "markdown",
   "id": "5ccf3f85",
   "metadata": {
    "papermill": {
     "duration": 0.030483,
     "end_time": "2022-10-16T00:56:43.354795",
     "exception": false,
     "start_time": "2022-10-16T00:56:43.324312",
     "status": "completed"
    },
    "tags": []
   },
   "source": [
    "We reshape the data to flatten the image pixels into a set of features or co-variates:"
   ]
  },
  {
   "cell_type": "code",
   "execution_count": 14,
   "id": "5286a4a3",
   "metadata": {
    "execution": {
     "iopub.execute_input": "2022-10-16T00:56:43.424765Z",
     "iopub.status.busy": "2022-10-16T00:56:43.424027Z",
     "iopub.status.idle": "2022-10-16T00:56:43.440399Z",
     "shell.execute_reply": "2022-10-16T00:56:43.439824Z"
    },
    "papermill": {
     "duration": 0.054663,
     "end_time": "2022-10-16T00:56:43.440538",
     "exception": false,
     "start_time": "2022-10-16T00:56:43.385875",
     "status": "completed"
    },
    "tags": []
   },
   "outputs": [
    {
     "data": {
      "text/plain": [
       "((11982, 784), (1984, 784))"
      ]
     },
     "execution_count": 14,
     "metadata": {},
     "output_type": "execute_result"
    }
   ],
   "source": [
    "X_train = X_train.reshape(X_train.shape[0], -1)\n",
    "X_test = X_test.reshape(X_test.shape[0], -1)\n",
    "X_train.shape, X_test.shape"
   ]
  },
  {
   "cell_type": "code",
   "execution_count": 15,
   "id": "73c5f88a",
   "metadata": {
    "execution": {
     "iopub.execute_input": "2022-10-16T00:56:43.508757Z",
     "iopub.status.busy": "2022-10-16T00:56:43.507803Z",
     "iopub.status.idle": "2022-10-16T00:56:43.530330Z",
     "shell.execute_reply": "2022-10-16T00:56:43.529523Z"
    },
    "papermill": {
     "duration": 0.058842,
     "end_time": "2022-10-16T00:56:43.530487",
     "exception": false,
     "start_time": "2022-10-16T00:56:43.471645",
     "status": "completed"
    },
    "tags": []
   },
   "outputs": [],
   "source": [
    "#Impoting functions from 'Kudzu'\n",
    "from kudzu.model import Model\n",
    "from kudzu.train import Learner\n",
    "from kudzu.optim import GD\n",
    "from kudzu.data import Data, Sampler,Dataloader\n",
    "\n",
    "from kudzu.callbacks import AccCallback\n",
    "from kudzu.callbacks import ClfCallback\n",
    "\n",
    "from kudzu.loss import MSE\n",
    "\n",
    "from kudzu.layer import Sigmoid,Relu\n",
    "from kudzu.layer import Affine"
   ]
  },
  {
   "cell_type": "markdown",
   "id": "bc01172a",
   "metadata": {
    "papermill": {
     "duration": 0.038246,
     "end_time": "2022-10-16T00:56:43.613583",
     "exception": false,
     "start_time": "2022-10-16T00:56:43.575337",
     "status": "completed"
    },
    "tags": []
   },
   "source": [
    "### Let us create a `Config` class, to store important parameters. \n",
    "This class essentially plays the role of a dictionary."
   ]
  },
  {
   "cell_type": "code",
   "execution_count": 16,
   "id": "978281aa",
   "metadata": {
    "execution": {
     "iopub.execute_input": "2022-10-16T00:56:43.689029Z",
     "iopub.status.busy": "2022-10-16T00:56:43.688312Z",
     "iopub.status.idle": "2022-10-16T00:56:43.702386Z",
     "shell.execute_reply": "2022-10-16T00:56:43.701658Z"
    },
    "papermill": {
     "duration": 0.051609,
     "end_time": "2022-10-16T00:56:43.702523",
     "exception": false,
     "start_time": "2022-10-16T00:56:43.650914",
     "status": "completed"
    },
    "tags": []
   },
   "outputs": [],
   "source": [
    "class Config:\n",
    "    pass\n",
    "config = Config()\n",
    "config.lr = 0.001\n",
    "config.num_epochs = 250\n",
    "config.bs = 50"
   ]
  },
  {
   "cell_type": "markdown",
   "id": "1385fa59",
   "metadata": {
    "papermill": {
     "duration": 0.033702,
     "end_time": "2022-10-16T00:56:43.768471",
     "exception": false,
     "start_time": "2022-10-16T00:56:43.734769",
     "status": "completed"
    },
    "tags": []
   },
   "source": [
    "### Running Models with the Training data\n",
    "Details about the network layers:\n",
    "- A first affine layer has 784 inputs and does 100 affine transforms. These are followed by a Relu\n",
    "- A second affine layer has 100 inputs from the 100 activations of the past layer, and does 100 affine transforms. These are followed by a Relu\n",
    "- A third affine layer has 100 activations and does 2 affine transformations to create an embedding for visualization. There is no non-linearity here.\n",
    "- A final \"logistic regression\" which has an affine transform from 2 inputs to 1 output, which is squeezed through a sigmoid.\n"
   ]
  },
  {
   "cell_type": "code",
   "execution_count": 17,
   "id": "2b9c66db",
   "metadata": {
    "execution": {
     "iopub.execute_input": "2022-10-16T00:56:43.848293Z",
     "iopub.status.busy": "2022-10-16T00:56:43.847576Z",
     "iopub.status.idle": "2022-10-16T00:56:43.863259Z",
     "shell.execute_reply": "2022-10-16T00:56:43.862679Z"
    },
    "papermill": {
     "duration": 0.055389,
     "end_time": "2022-10-16T00:56:43.863397",
     "exception": false,
     "start_time": "2022-10-16T00:56:43.808008",
     "status": "completed"
    },
    "tags": []
   },
   "outputs": [],
   "source": [
    "data = Data(X_train, y_train.reshape(-1,1))\n",
    "sampler = Sampler(data, config.bs, shuffle=True)\n",
    "\n",
    "dl = Dataloader(data, sampler)\n",
    "\n",
    "opt = GD(config.lr)\n",
    "loss = MSE()"
   ]
  },
  {
   "cell_type": "code",
   "execution_count": 18,
   "id": "b275e4c2",
   "metadata": {
    "execution": {
     "iopub.execute_input": "2022-10-16T00:56:43.937285Z",
     "iopub.status.busy": "2022-10-16T00:56:43.936540Z",
     "iopub.status.idle": "2022-10-16T00:56:43.951376Z",
     "shell.execute_reply": "2022-10-16T00:56:43.950782Z"
    },
    "papermill": {
     "duration": 0.051662,
     "end_time": "2022-10-16T00:56:43.951514",
     "exception": false,
     "start_time": "2022-10-16T00:56:43.899852",
     "status": "completed"
    },
    "tags": []
   },
   "outputs": [],
   "source": [
    "training_data_x = X_train\n",
    "testing_data_x = X_test\n",
    "training_data_y = y_train.reshape(-1,1)\n",
    "testing_data_y = y_test.reshape(-1,1)"
   ]
  },
  {
   "cell_type": "code",
   "execution_count": 19,
   "id": "76951160",
   "metadata": {
    "execution": {
     "iopub.execute_input": "2022-10-16T00:56:44.024829Z",
     "iopub.status.busy": "2022-10-16T00:56:44.024097Z",
     "iopub.status.idle": "2022-10-16T00:56:44.043169Z",
     "shell.execute_reply": "2022-10-16T00:56:44.043717Z"
    },
    "papermill": {
     "duration": 0.059383,
     "end_time": "2022-10-16T00:56:44.043880",
     "exception": false,
     "start_time": "2022-10-16T00:56:43.984497",
     "status": "completed"
    },
    "tags": []
   },
   "outputs": [
    {
     "name": "stdout",
     "output_type": "stream",
     "text": [
      "xavier\n",
      "xavier\n",
      "xavier\n",
      "xavier\n",
      "xavier\n"
     ]
    }
   ],
   "source": [
    "layers = [Affine(\"first\", 784, 100), Relu(\"first\"), Affine(\"second\", 100, 100), Relu(\"second\"), Affine(\"third\", 100, 2), Affine(\"last\", 2, 1), Sigmoid(\"last\")]\n",
    "model_nn = Model(layers)\n",
    "model_lr = Model([Affine(\"logits\", 784, 1), Sigmoid(\"sigmoid\")])"
   ]
  },
  {
   "cell_type": "code",
   "execution_count": 20,
   "id": "6eede77a",
   "metadata": {
    "execution": {
     "iopub.execute_input": "2022-10-16T00:56:44.118907Z",
     "iopub.status.busy": "2022-10-16T00:56:44.114065Z",
     "iopub.status.idle": "2022-10-16T00:56:44.127764Z",
     "shell.execute_reply": "2022-10-16T00:56:44.128299Z"
    },
    "papermill": {
     "duration": 0.052301,
     "end_time": "2022-10-16T00:56:44.128467",
     "exception": false,
     "start_time": "2022-10-16T00:56:44.076166",
     "status": "completed"
    },
    "tags": []
   },
   "outputs": [],
   "source": [
    "nn_learner = Learner(loss, model_nn, opt, config.num_epochs)\n",
    "acc_nn = ClfCallback(nn_learner, config.bs, training_data_x , testing_data_x, training_data_y, testing_data_y)\n",
    "nn_learner.set_callbacks([acc_nn])"
   ]
  },
  {
   "cell_type": "code",
   "execution_count": 21,
   "id": "877b6cc7",
   "metadata": {
    "execution": {
     "iopub.execute_input": "2022-10-16T00:56:44.199661Z",
     "iopub.status.busy": "2022-10-16T00:56:44.198948Z",
     "iopub.status.idle": "2022-10-16T00:56:44.215091Z",
     "shell.execute_reply": "2022-10-16T00:56:44.214472Z"
    },
    "papermill": {
     "duration": 0.052975,
     "end_time": "2022-10-16T00:56:44.215230",
     "exception": false,
     "start_time": "2022-10-16T00:56:44.162255",
     "status": "completed"
    },
    "tags": []
   },
   "outputs": [],
   "source": [
    "lr_learner = Learner(loss, model_lr, opt, config.num_epochs)\n",
    "acc_lr = ClfCallback(lr_learner, config.bs, training_data_x , testing_data_x, training_data_y, testing_data_y)\n",
    "lr_learner.set_callbacks([acc_lr])"
   ]
  },
  {
   "cell_type": "code",
   "execution_count": 22,
   "id": "d9b133c3",
   "metadata": {
    "execution": {
     "iopub.execute_input": "2022-10-16T00:56:44.286154Z",
     "iopub.status.busy": "2022-10-16T00:56:44.285354Z",
     "iopub.status.idle": "2022-10-16T00:58:14.958114Z",
     "shell.execute_reply": "2022-10-16T00:58:14.959110Z"
    },
    "papermill": {
     "duration": 90.711993,
     "end_time": "2022-10-16T00:58:14.959281",
     "exception": false,
     "start_time": "2022-10-16T00:56:44.247288",
     "status": "completed"
    },
    "tags": []
   },
   "outputs": [
    {
     "name": "stdout",
     "output_type": "stream",
     "text": [
      "Epoch 0, Loss 0.2429\n",
      "Training Accuracy: 0.5363, Testing Accuracy: 0.5287\n",
      "\n"
     ]
    },
    {
     "name": "stdout",
     "output_type": "stream",
     "text": [
      "Epoch 10, Loss 0.1808\n",
      "Training Accuracy: 0.8594, Testing Accuracy: 0.8599\n",
      "\n"
     ]
    },
    {
     "name": "stdout",
     "output_type": "stream",
     "text": [
      "Epoch 20, Loss 0.0899\n",
      "Training Accuracy: 0.9125, Testing Accuracy: 0.9239\n",
      "\n"
     ]
    },
    {
     "name": "stdout",
     "output_type": "stream",
     "text": [
      "Epoch 30, Loss 0.0582\n",
      "Training Accuracy: 0.9382, Testing Accuracy: 0.9506\n",
      "\n"
     ]
    },
    {
     "name": "stdout",
     "output_type": "stream",
     "text": [
      "Epoch 40, Loss 0.0458\n",
      "Training Accuracy: 0.9487, Testing Accuracy: 0.9597\n",
      "\n"
     ]
    },
    {
     "name": "stdout",
     "output_type": "stream",
     "text": [
      "Epoch 50, Loss 0.0395\n",
      "Training Accuracy: 0.9540, Testing Accuracy: 0.9642\n",
      "\n"
     ]
    },
    {
     "name": "stdout",
     "output_type": "stream",
     "text": [
      "Epoch 60, Loss 0.0358\n",
      "Training Accuracy: 0.9579, Testing Accuracy: 0.9667\n",
      "\n"
     ]
    },
    {
     "name": "stdout",
     "output_type": "stream",
     "text": [
      "Epoch 70, Loss 0.0333\n",
      "Training Accuracy: 0.9612, Testing Accuracy: 0.9682\n",
      "\n"
     ]
    },
    {
     "name": "stdout",
     "output_type": "stream",
     "text": [
      "Epoch 80, Loss 0.0314\n",
      "Training Accuracy: 0.9629, Testing Accuracy: 0.9693\n",
      "\n"
     ]
    },
    {
     "name": "stdout",
     "output_type": "stream",
     "text": [
      "Epoch 90, Loss 0.0299\n",
      "Training Accuracy: 0.9649, Testing Accuracy: 0.9693\n",
      "\n"
     ]
    },
    {
     "name": "stdout",
     "output_type": "stream",
     "text": [
      "Epoch 100, Loss 0.0287\n",
      "Training Accuracy: 0.9659, Testing Accuracy: 0.9698\n",
      "\n"
     ]
    },
    {
     "name": "stdout",
     "output_type": "stream",
     "text": [
      "Epoch 110, Loss 0.0277\n",
      "Training Accuracy: 0.9675, Testing Accuracy: 0.9703\n",
      "\n"
     ]
    },
    {
     "name": "stdout",
     "output_type": "stream",
     "text": [
      "Epoch 120, Loss 0.0269\n",
      "Training Accuracy: 0.9685, Testing Accuracy: 0.9718\n",
      "\n"
     ]
    },
    {
     "name": "stdout",
     "output_type": "stream",
     "text": [
      "Epoch 130, Loss 0.0261\n",
      "Training Accuracy: 0.9694, Testing Accuracy: 0.9713\n",
      "\n"
     ]
    },
    {
     "name": "stdout",
     "output_type": "stream",
     "text": [
      "Epoch 140, Loss 0.0254\n",
      "Training Accuracy: 0.9702, Testing Accuracy: 0.9708\n",
      "\n"
     ]
    },
    {
     "name": "stdout",
     "output_type": "stream",
     "text": [
      "Epoch 150, Loss 0.0248\n",
      "Training Accuracy: 0.9710, Testing Accuracy: 0.9708\n",
      "\n"
     ]
    },
    {
     "name": "stdout",
     "output_type": "stream",
     "text": [
      "Epoch 160, Loss 0.0242\n",
      "Training Accuracy: 0.9716, Testing Accuracy: 0.9708\n",
      "\n"
     ]
    },
    {
     "name": "stdout",
     "output_type": "stream",
     "text": [
      "Epoch 170, Loss 0.0237\n",
      "Training Accuracy: 0.9720, Testing Accuracy: 0.9703\n",
      "\n"
     ]
    },
    {
     "name": "stdout",
     "output_type": "stream",
     "text": [
      "Epoch 180, Loss 0.0232\n",
      "Training Accuracy: 0.9725, Testing Accuracy: 0.9713\n",
      "\n"
     ]
    },
    {
     "name": "stdout",
     "output_type": "stream",
     "text": [
      "Epoch 190, Loss 0.0228\n",
      "Training Accuracy: 0.9732, Testing Accuracy: 0.9718\n",
      "\n"
     ]
    },
    {
     "name": "stdout",
     "output_type": "stream",
     "text": [
      "Epoch 200, Loss 0.0223\n",
      "Training Accuracy: 0.9739, Testing Accuracy: 0.9708\n",
      "\n"
     ]
    },
    {
     "name": "stdout",
     "output_type": "stream",
     "text": [
      "Epoch 210, Loss 0.0219\n",
      "Training Accuracy: 0.9744, Testing Accuracy: 0.9713\n",
      "\n"
     ]
    },
    {
     "name": "stdout",
     "output_type": "stream",
     "text": [
      "Epoch 220, Loss 0.0215\n",
      "Training Accuracy: 0.9750, Testing Accuracy: 0.9708\n",
      "\n"
     ]
    },
    {
     "name": "stdout",
     "output_type": "stream",
     "text": [
      "Epoch 230, Loss 0.0212\n",
      "Training Accuracy: 0.9760, Testing Accuracy: 0.9708\n",
      "\n"
     ]
    },
    {
     "name": "stdout",
     "output_type": "stream",
     "text": [
      "Epoch 240, Loss 0.0208\n",
      "Training Accuracy: 0.9764, Testing Accuracy: 0.9713\n",
      "\n"
     ]
    },
    {
     "data": {
      "text/plain": [
       "0.026755432658344215"
      ]
     },
     "execution_count": 22,
     "metadata": {},
     "output_type": "execute_result"
    }
   ],
   "source": [
    "nn_learner.train_loop(dl)"
   ]
  },
  {
   "cell_type": "code",
   "execution_count": 23,
   "id": "e0163366",
   "metadata": {
    "execution": {
     "iopub.execute_input": "2022-10-16T00:58:15.054983Z",
     "iopub.status.busy": "2022-10-16T00:58:15.054251Z",
     "iopub.status.idle": "2022-10-16T00:58:31.340004Z",
     "shell.execute_reply": "2022-10-16T00:58:31.340987Z"
    },
    "papermill": {
     "duration": 16.341648,
     "end_time": "2022-10-16T00:58:31.341161",
     "exception": false,
     "start_time": "2022-10-16T00:58:14.999513",
     "status": "completed"
    },
    "tags": []
   },
   "outputs": [
    {
     "name": "stdout",
     "output_type": "stream",
     "text": [
      "Epoch 0, Loss 0.2231\n",
      "Training Accuracy: 0.7436, Testing Accuracy: 0.7510\n",
      "\n"
     ]
    },
    {
     "name": "stdout",
     "output_type": "stream",
     "text": [
      "Epoch 10, Loss 0.1011\n",
      "Training Accuracy: 0.9109, Testing Accuracy: 0.9148\n",
      "\n"
     ]
    },
    {
     "name": "stdout",
     "output_type": "stream",
     "text": [
      "Epoch 20, Loss 0.0782\n",
      "Training Accuracy: 0.9296, Testing Accuracy: 0.9355\n",
      "\n"
     ]
    },
    {
     "name": "stdout",
     "output_type": "stream",
     "text": [
      "Epoch 30, Loss 0.0676\n",
      "Training Accuracy: 0.9382, Testing Accuracy: 0.9456\n",
      "\n"
     ]
    },
    {
     "name": "stdout",
     "output_type": "stream",
     "text": [
      "Epoch 40, Loss 0.0612\n",
      "Training Accuracy: 0.9418, Testing Accuracy: 0.9496\n",
      "\n"
     ]
    },
    {
     "name": "stdout",
     "output_type": "stream",
     "text": [
      "Epoch 50, Loss 0.0568\n",
      "Training Accuracy: 0.9447, Testing Accuracy: 0.9536\n",
      "\n"
     ]
    },
    {
     "name": "stdout",
     "output_type": "stream",
     "text": [
      "Epoch 60, Loss 0.0536\n",
      "Training Accuracy: 0.9475, Testing Accuracy: 0.9561\n",
      "\n"
     ]
    },
    {
     "name": "stdout",
     "output_type": "stream",
     "text": [
      "Epoch 70, Loss 0.0511\n",
      "Training Accuracy: 0.9495, Testing Accuracy: 0.9572\n",
      "\n"
     ]
    },
    {
     "name": "stdout",
     "output_type": "stream",
     "text": [
      "Epoch 80, Loss 0.0491\n",
      "Training Accuracy: 0.9508, Testing Accuracy: 0.9582\n",
      "\n"
     ]
    },
    {
     "name": "stdout",
     "output_type": "stream",
     "text": [
      "Epoch 90, Loss 0.0474\n",
      "Training Accuracy: 0.9518, Testing Accuracy: 0.9587\n",
      "\n"
     ]
    },
    {
     "name": "stdout",
     "output_type": "stream",
     "text": [
      "Epoch 100, Loss 0.046\n",
      "Training Accuracy: 0.9531, Testing Accuracy: 0.9592\n",
      "\n"
     ]
    },
    {
     "name": "stdout",
     "output_type": "stream",
     "text": [
      "Epoch 110, Loss 0.0448\n",
      "Training Accuracy: 0.9541, Testing Accuracy: 0.9607\n",
      "\n"
     ]
    },
    {
     "name": "stdout",
     "output_type": "stream",
     "text": [
      "Epoch 120, Loss 0.0438\n",
      "Training Accuracy: 0.9553, Testing Accuracy: 0.9622\n",
      "\n"
     ]
    },
    {
     "name": "stdout",
     "output_type": "stream",
     "text": [
      "Epoch 130, Loss 0.0429\n",
      "Training Accuracy: 0.9559, Testing Accuracy: 0.9632\n",
      "\n"
     ]
    },
    {
     "name": "stdout",
     "output_type": "stream",
     "text": [
      "Epoch 140, Loss 0.0421\n",
      "Training Accuracy: 0.9569, Testing Accuracy: 0.9637\n",
      "\n"
     ]
    },
    {
     "name": "stdout",
     "output_type": "stream",
     "text": [
      "Epoch 150, Loss 0.0413\n",
      "Training Accuracy: 0.9571, Testing Accuracy: 0.9642\n",
      "\n"
     ]
    },
    {
     "name": "stdout",
     "output_type": "stream",
     "text": [
      "Epoch 160, Loss 0.0407\n",
      "Training Accuracy: 0.9578, Testing Accuracy: 0.9647\n",
      "\n"
     ]
    },
    {
     "name": "stdout",
     "output_type": "stream",
     "text": [
      "Epoch 170, Loss 0.0401\n",
      "Training Accuracy: 0.9577, Testing Accuracy: 0.9652\n",
      "\n"
     ]
    },
    {
     "name": "stdout",
     "output_type": "stream",
     "text": [
      "Epoch 180, Loss 0.0395\n",
      "Training Accuracy: 0.9581, Testing Accuracy: 0.9647\n",
      "\n"
     ]
    },
    {
     "name": "stdout",
     "output_type": "stream",
     "text": [
      "Epoch 190, Loss 0.039\n",
      "Training Accuracy: 0.9584, Testing Accuracy: 0.9652\n",
      "\n"
     ]
    },
    {
     "name": "stdout",
     "output_type": "stream",
     "text": [
      "Epoch 200, Loss 0.0385\n",
      "Training Accuracy: 0.9586, Testing Accuracy: 0.9652\n",
      "\n"
     ]
    },
    {
     "name": "stdout",
     "output_type": "stream",
     "text": [
      "Epoch 210, Loss 0.0381\n",
      "Training Accuracy: 0.9594, Testing Accuracy: 0.9652\n",
      "\n"
     ]
    },
    {
     "name": "stdout",
     "output_type": "stream",
     "text": [
      "Epoch 220, Loss 0.0377\n",
      "Training Accuracy: 0.9600, Testing Accuracy: 0.9652\n",
      "\n"
     ]
    },
    {
     "name": "stdout",
     "output_type": "stream",
     "text": [
      "Epoch 230, Loss 0.0373\n",
      "Training Accuracy: 0.9609, Testing Accuracy: 0.9657\n",
      "\n"
     ]
    },
    {
     "name": "stdout",
     "output_type": "stream",
     "text": [
      "Epoch 240, Loss 0.0369\n",
      "Training Accuracy: 0.9613, Testing Accuracy: 0.9657\n",
      "\n"
     ]
    },
    {
     "data": {
      "text/plain": [
       "0.019213730300414497"
      ]
     },
     "execution_count": 23,
     "metadata": {},
     "output_type": "execute_result"
    }
   ],
   "source": [
    "lr_learner.train_loop(dl)"
   ]
  },
  {
   "cell_type": "code",
   "execution_count": 24,
   "id": "ca410940",
   "metadata": {
    "execution": {
     "iopub.execute_input": "2022-10-16T00:58:31.451528Z",
     "iopub.status.busy": "2022-10-16T00:58:31.450813Z",
     "iopub.status.idle": "2022-10-16T00:58:31.700980Z",
     "shell.execute_reply": "2022-10-16T00:58:31.701519Z"
    },
    "papermill": {
     "duration": 0.312429,
     "end_time": "2022-10-16T00:58:31.701707",
     "exception": false,
     "start_time": "2022-10-16T00:58:31.389278",
     "status": "completed"
    },
    "tags": []
   },
   "outputs": [
    {
     "data": {
      "text/plain": [
       "<matplotlib.legend.Legend at 0x7fea9fc5b438>"
      ]
     },
     "execution_count": 24,
     "metadata": {},
     "output_type": "execute_result"
    },
    {
     "data": {
      "image/png": "[encoded data removed]",
      "text/plain": [
       "<Figure size 1080x720 with 1 Axes>"
      ]
     },
     "metadata": {
      "needs_background": "light"
     },
     "output_type": "display_data"
    }
   ],
   "source": [
    "#comparing the results of NN and LR\n",
    "plt.figure(figsize=(15,10))\n",
    "\n",
    "# Neural Network plots\n",
    "plt.plot(acc_nn.accuracies, 'r-', label = \"Training Accuracies - NN\")\n",
    "plt.plot(acc_nn.test_accuracies, 'g-', label = \"Testing Accuracies - NN\")\n",
    "\n",
    "# Logistic Regression plots\n",
    "plt.plot(acc_lr.accuracies, 'k-', label = \"Training Accuracies - LR\")\n",
    "plt.plot(acc_lr.test_accuracies, 'b-', label = \"Testing Accuracies - LR\")\n",
    "plt.legend()"
   ]
  },
  {
   "cell_type": "markdown",
   "id": "80dfb35c",
   "metadata": {
    "papermill": {
     "duration": 0.048305,
     "end_time": "2022-10-16T00:58:31.798701",
     "exception": false,
     "start_time": "2022-10-16T00:58:31.750396",
     "status": "completed"
    },
    "tags": []
   },
   "source": [
    "#### Plotting the outputs of this layer of the NN.\n"
   ]
  },
  {
   "cell_type": "code",
   "execution_count": 25,
   "id": "45eb2ff5",
   "metadata": {
    "execution": {
     "iopub.execute_input": "2022-10-16T00:58:31.903949Z",
     "iopub.status.busy": "2022-10-16T00:58:31.900973Z",
     "iopub.status.idle": "2022-10-16T00:58:31.927649Z",
     "shell.execute_reply": "2022-10-16T00:58:31.927013Z"
    },
    "papermill": {
     "duration": 0.080783,
     "end_time": "2022-10-16T00:58:31.927791",
     "exception": false,
     "start_time": "2022-10-16T00:58:31.847008",
     "status": "completed"
    },
    "tags": []
   },
   "outputs": [],
   "source": [
    "new_model = Model(layers[:-2])\n",
    "testing_plot = new_model(testing_data_x)"
   ]
  },
  {
   "cell_type": "code",
   "execution_count": 26,
   "id": "4c0a5485",
   "metadata": {
    "execution": {
     "iopub.execute_input": "2022-10-16T00:58:32.037541Z",
     "iopub.status.busy": "2022-10-16T00:58:32.036800Z",
     "iopub.status.idle": "2022-10-16T00:58:32.276155Z",
     "shell.execute_reply": "2022-10-16T00:58:32.275595Z"
    },
    "papermill": {
     "duration": 0.299122,
     "end_time": "2022-10-16T00:58:32.276293",
     "exception": false,
     "start_time": "2022-10-16T00:58:31.977171",
     "status": "completed"
    },
    "tags": []
   },
   "outputs": [
    {
     "data": {
      "text/plain": [
       "Text(0.5, 1.0, 'Outputs')"
      ]
     },
     "execution_count": 26,
     "metadata": {},
     "output_type": "execute_result"
    },
    {
     "data": {
      "image/png": "[encoded data removed]",
      "text/plain": [
       "<Figure size 576x504 with 1 Axes>"
      ]
     },
     "metadata": {
      "needs_background": "light"
     },
     "output_type": "display_data"
    }
   ],
   "source": [
    "# Plotting the scatter plot of points and color coding by class\n",
    "plt.figure(figsize=(8,7))\n",
    "plt.scatter(testing_plot[:,0], testing_plot[:,1], alpha = 0.1, c = y_test.ravel());\n",
    "plt.title('Outputs')"
   ]
  },
  {
   "cell_type": "markdown",
   "id": "a74fcf8f",
   "metadata": {
    "papermill": {
     "duration": 0.051069,
     "end_time": "2022-10-16T00:58:32.378903",
     "exception": false,
     "start_time": "2022-10-16T00:58:32.327834",
     "status": "completed"
    },
    "tags": []
   },
   "source": [
    "Probability contours"
   ]
  },
  {
   "cell_type": "code",
   "execution_count": 27,
   "id": "d0afc8e3",
   "metadata": {
    "execution": {
     "iopub.execute_input": "2022-10-16T00:58:32.522107Z",
     "iopub.status.busy": "2022-10-16T00:58:32.521364Z",
     "iopub.status.idle": "2022-10-16T00:58:32.536986Z",
     "shell.execute_reply": "2022-10-16T00:58:32.536409Z"
    },
    "papermill": {
     "duration": 0.071563,
     "end_time": "2022-10-16T00:58:32.537124",
     "exception": false,
     "start_time": "2022-10-16T00:58:32.465561",
     "status": "completed"
    },
    "tags": []
   },
   "outputs": [],
   "source": [
    "model_prob = Model(layers[-2:]) "
   ]
  },
  {
   "cell_type": "code",
   "execution_count": 28,
   "id": "9b96e238",
   "metadata": {
    "execution": {
     "iopub.execute_input": "2022-10-16T00:58:32.645359Z",
     "iopub.status.busy": "2022-10-16T00:58:32.644643Z",
     "iopub.status.idle": "2022-10-16T00:58:32.661174Z",
     "shell.execute_reply": "2022-10-16T00:58:32.662312Z"
    },
    "papermill": {
     "duration": 0.074235,
     "end_time": "2022-10-16T00:58:32.662484",
     "exception": false,
     "start_time": "2022-10-16T00:58:32.588249",
     "status": "completed"
    },
    "tags": []
   },
   "outputs": [],
   "source": [
    "#creating the x and y ranges according to the above generated plot.\n",
    "x_range = np.linspace(-4, 1, 100) \n",
    "y_range = np.linspace(-6, 6, 100) \n",
    "x_grid, y_grid = np.meshgrid(x_range, y_range) # x_grid and y_grig are of size 100 X 100\n",
    "\n",
    "# converting x_grid and y_grid to continuous arrays\n",
    "x_gridflat = np.ravel(x_grid)\n",
    "y_gridflat = np.ravel(y_grid)\n",
    "\n",
    "# The last layer of the current model takes two columns as input. Hence transpose of np.vstack() is required.\n",
    "X = np.vstack((x_gridflat, y_gridflat)).T\n",
    "\n",
    "prob_contour = model_prob(X).reshape(100,100) "
   ]
  },
  {
   "cell_type": "code",
   "execution_count": 29,
   "id": "da72499a",
   "metadata": {
    "execution": {
     "iopub.execute_input": "2022-10-16T00:58:32.781676Z",
     "iopub.status.busy": "2022-10-16T00:58:32.780913Z",
     "iopub.status.idle": "2022-10-16T00:58:33.085217Z",
     "shell.execute_reply": "2022-10-16T00:58:33.084524Z"
    },
    "papermill": {
     "duration": 0.36668,
     "end_time": "2022-10-16T00:58:33.085377",
     "exception": false,
     "start_time": "2022-10-16T00:58:32.718697",
     "status": "completed"
    },
    "tags": []
   },
   "outputs": [
    {
     "data": {
      "image/png": "[encoded data removed]",
      "text/plain": [
       "<Figure size 720x648 with 1 Axes>"
      ]
     },
     "metadata": {
      "needs_background": "light"
     },
     "output_type": "display_data"
    }
   ],
   "source": [
    "plt.figure(figsize=(10,9))\n",
    "plt.scatter(testing_plot[:,0], testing_plot[:,1], alpha = 0.1, c = y_test.ravel())\n",
    "contours = plt.contour(x_grid,y_grid,prob_contour)\n",
    "plt.title('Probability Contours')\n",
    "plt.clabel(contours, inline = True );"
   ]
  },
  {
   "cell_type": "code",
   "execution_count": null,
   "id": "e81b4ac7",
   "metadata": {
    "papermill": {
     "duration": 0.055842,
     "end_time": "2022-10-16T00:58:33.204792",
     "exception": false,
     "start_time": "2022-10-16T00:58:33.148950",
     "status": "completed"
    },
    "tags": []
   },
   "outputs": [],
   "source": []
  }
 ],
 "metadata": {
  "kernelspec": {
   "display_name": "Python 3",
   "language": "python",
   "name": "python3"
  },
  "language_info": {
   "codemirror_mode": {
    "name": "ipython",
    "version": 3
   },
   "file_extension": ".py",
   "mimetype": "text/x-python",
   "name": "python",
   "nbconvert_exporter": "python",
   "pygments_lexer": "ipython3",
   "version": "3.6.15"
  },
  "papermill": {
   "default_parameters": {},
   "duration": 117.172648,
   "end_time": "2022-10-16T00:58:33.790328",
   "environment_variables": {},
   "exception": null,
   "input_path": "2020-08-11-part2.ipynb",
   "output_path": "2020-08-11-part2.ipynb",
   "parameters": {},
   "start_time": "2022-10-16T00:56:36.617680",
   "version": "2.3.3"
  }
 },
 "nbformat": 4,
 "nbformat_minor": 5
}