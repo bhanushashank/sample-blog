{
 "cells": [
  {
   "cell_type": "markdown",
   "id": "98380cd3",
   "metadata": {
    "papermill": {
     "duration": 0.02932,
     "end_time": "2022-08-06T20:09:29.397977",
     "exception": false,
     "start_time": "2022-08-06T20:09:29.368657",
     "status": "completed"
    },
    "tags": []
   },
   "source": [
    "# Distinguish Your Own Digits (DYOD)"
   ]
  },
  {
   "cell_type": "markdown",
   "id": "ef31240d",
   "metadata": {
    "papermill": {
     "duration": 0.02435,
     "end_time": "2022-08-06T20:09:29.447056",
     "exception": false,
     "start_time": "2022-08-06T20:09:29.422706",
     "status": "completed"
    },
    "tags": []
   },
   "source": [
    "You are going to write a classifier that distinguishes between the number 3 and number 8."
   ]
  },
  {
   "cell_type": "code",
   "execution_count": 1,
   "id": "b15c8646",
   "metadata": {
    "execution": {
     "iopub.execute_input": "2022-08-06T20:09:29.505343Z",
     "iopub.status.busy": "2022-08-06T20:09:29.504782Z",
     "iopub.status.idle": "2022-08-06T20:09:29.515405Z",
     "shell.execute_reply": "2022-08-06T20:09:29.514859Z"
    },
    "papermill": {
     "duration": 0.044256,
     "end_time": "2022-08-06T20:09:29.515513",
     "exception": false,
     "start_time": "2022-08-06T20:09:29.471257",
     "status": "completed"
    },
    "tags": []
   },
   "outputs": [],
   "source": [
    "%load_ext autoreload\n",
    "%autoreload 2"
   ]
  },
  {
   "cell_type": "code",
   "execution_count": 2,
   "id": "22ef38dc",
   "metadata": {
    "execution": {
     "iopub.execute_input": "2022-08-06T20:09:29.567439Z",
     "iopub.status.busy": "2022-08-06T20:09:29.566896Z",
     "iopub.status.idle": "2022-08-06T20:09:30.065225Z",
     "shell.execute_reply": "2022-08-06T20:09:30.064730Z"
    },
    "papermill": {
     "duration": 0.525786,
     "end_time": "2022-08-06T20:09:30.065343",
     "exception": false,
     "start_time": "2022-08-06T20:09:29.539557",
     "status": "completed"
    },
    "tags": []
   },
   "outputs": [],
   "source": [
    "%matplotlib inline\n",
    "import numpy as np\n",
    "import matplotlib.pyplot as plt\n",
    "import pandas as pd"
   ]
  },
  {
   "cell_type": "markdown",
   "id": "ba036198",
   "metadata": {
    "papermill": {
     "duration": 0.024356,
     "end_time": "2022-08-06T20:09:30.113894",
     "exception": false,
     "start_time": "2022-08-06T20:09:30.089538",
     "status": "completed"
    },
    "tags": []
   },
   "source": [
    "From the command line run `pip install mnist`. This is a library that will help you bring down the mnist dataset. If you run this from a notebook, you need to put  `!pip install mnist` in a cell by itself."
   ]
  },
  {
   "cell_type": "code",
   "execution_count": 3,
   "id": "bb6ad8a1",
   "metadata": {
    "execution": {
     "iopub.execute_input": "2022-08-06T20:09:30.165892Z",
     "iopub.status.busy": "2022-08-06T20:09:30.165345Z",
     "iopub.status.idle": "2022-08-06T20:09:31.785398Z",
     "shell.execute_reply": "2022-08-06T20:09:31.784671Z"
    },
    "papermill": {
     "duration": 1.647449,
     "end_time": "2022-08-06T20:09:31.785513",
     "exception": false,
     "start_time": "2022-08-06T20:09:30.138064",
     "status": "completed"
    },
    "tags": []
   },
   "outputs": [
    {
     "name": "stdout",
     "output_type": "stream",
     "text": [
      "Collecting mnist\r\n"
     ]
    },
    {
     "name": "stdout",
     "output_type": "stream",
     "text": [
      "  Downloading mnist-0.2.2-py2.py3-none-any.whl (3.5 kB)\r\n",
      "Requirement already satisfied: numpy in /opt/hostedtoolcache/Python/3.6.15/x64/lib/python3.6/site-packages (from mnist) (1.19.5)\r\n"
     ]
    },
    {
     "name": "stdout",
     "output_type": "stream",
     "text": [
      "Installing collected packages: mnist\r\n"
     ]
    },
    {
     "name": "stdout",
     "output_type": "stream",
     "text": [
      "Successfully installed mnist-0.2.2\r\n"
     ]
    }
   ],
   "source": [
    "!pip install mnist"
   ]
  },
  {
   "cell_type": "markdown",
   "id": "69df9c9a",
   "metadata": {
    "papermill": {
     "duration": 0.025546,
     "end_time": "2022-08-06T20:09:31.836533",
     "exception": false,
     "start_time": "2022-08-06T20:09:31.810987",
     "status": "completed"
    },
    "tags": []
   },
   "source": [
    "## Preparing the Data"
   ]
  },
  {
   "cell_type": "code",
   "execution_count": 4,
   "id": "7f69d806",
   "metadata": {
    "execution": {
     "iopub.execute_input": "2022-08-06T20:09:31.891056Z",
     "iopub.status.busy": "2022-08-06T20:09:31.890508Z",
     "iopub.status.idle": "2022-08-06T20:09:31.904139Z",
     "shell.execute_reply": "2022-08-06T20:09:31.903693Z"
    },
    "papermill": {
     "duration": 0.042579,
     "end_time": "2022-08-06T20:09:31.904236",
     "exception": false,
     "start_time": "2022-08-06T20:09:31.861657",
     "status": "completed"
    },
    "tags": []
   },
   "outputs": [],
   "source": [
    "import mnist"
   ]
  },
  {
   "cell_type": "code",
   "execution_count": 5,
   "id": "a411e44f",
   "metadata": {
    "execution": {
     "iopub.execute_input": "2022-08-06T20:09:31.958176Z",
     "iopub.status.busy": "2022-08-06T20:09:31.957612Z",
     "iopub.status.idle": "2022-08-06T20:09:32.699186Z",
     "shell.execute_reply": "2022-08-06T20:09:32.698244Z"
    },
    "papermill": {
     "duration": 0.769933,
     "end_time": "2022-08-06T20:09:32.699308",
     "exception": false,
     "start_time": "2022-08-06T20:09:31.929375",
     "status": "completed"
    },
    "tags": []
   },
   "outputs": [],
   "source": [
    "train_images = mnist.train_images()\n",
    "train_labels = mnist.train_labels()"
   ]
  },
  {
   "cell_type": "code",
   "execution_count": 6,
   "id": "dceab3a5",
   "metadata": {
    "execution": {
     "iopub.execute_input": "2022-08-06T20:09:32.757074Z",
     "iopub.status.busy": "2022-08-06T20:09:32.755527Z",
     "iopub.status.idle": "2022-08-06T20:09:32.768463Z",
     "shell.execute_reply": "2022-08-06T20:09:32.768931Z"
    },
    "papermill": {
     "duration": 0.043985,
     "end_time": "2022-08-06T20:09:32.769043",
     "exception": false,
     "start_time": "2022-08-06T20:09:32.725058",
     "status": "completed"
    },
    "tags": []
   },
   "outputs": [
    {
     "data": {
      "text/plain": [
       "((60000, 28, 28), (60000,))"
      ]
     },
     "execution_count": 6,
     "metadata": {},
     "output_type": "execute_result"
    }
   ],
   "source": [
    "train_images.shape, train_labels.shape"
   ]
  },
  {
   "cell_type": "code",
   "execution_count": 7,
   "id": "f50dc2bb",
   "metadata": {
    "execution": {
     "iopub.execute_input": "2022-08-06T20:09:32.822926Z",
     "iopub.status.busy": "2022-08-06T20:09:32.822380Z",
     "iopub.status.idle": "2022-08-06T20:09:33.021233Z",
     "shell.execute_reply": "2022-08-06T20:09:33.020588Z"
    },
    "papermill": {
     "duration": 0.226686,
     "end_time": "2022-08-06T20:09:33.021343",
     "exception": false,
     "start_time": "2022-08-06T20:09:32.794657",
     "status": "completed"
    },
    "tags": []
   },
   "outputs": [],
   "source": [
    "test_images = mnist.test_images()\n",
    "test_labels = mnist.test_labels()"
   ]
  },
  {
   "cell_type": "code",
   "execution_count": 8,
   "id": "fc38cf1b",
   "metadata": {
    "execution": {
     "iopub.execute_input": "2022-08-06T20:09:33.075969Z",
     "iopub.status.busy": "2022-08-06T20:09:33.075422Z",
     "iopub.status.idle": "2022-08-06T20:09:33.088188Z",
     "shell.execute_reply": "2022-08-06T20:09:33.087752Z"
    },
    "papermill": {
     "duration": 0.041278,
     "end_time": "2022-08-06T20:09:33.088288",
     "exception": false,
     "start_time": "2022-08-06T20:09:33.047010",
     "status": "completed"
    },
    "tags": []
   },
   "outputs": [
    {
     "data": {
      "text/plain": [
       "((10000, 28, 28), (10000,))"
      ]
     },
     "execution_count": 8,
     "metadata": {},
     "output_type": "execute_result"
    }
   ],
   "source": [
    "test_images.shape, test_labels.shape"
   ]
  },
  {
   "cell_type": "code",
   "execution_count": 9,
   "id": "f9ed8fe0",
   "metadata": {
    "execution": {
     "iopub.execute_input": "2022-08-06T20:09:33.142865Z",
     "iopub.status.busy": "2022-08-06T20:09:33.142324Z",
     "iopub.status.idle": "2022-08-06T20:09:33.273089Z",
     "shell.execute_reply": "2022-08-06T20:09:33.273519Z"
    },
    "papermill": {
     "duration": 0.159613,
     "end_time": "2022-08-06T20:09:33.273641",
     "exception": false,
     "start_time": "2022-08-06T20:09:33.114028",
     "status": "completed"
    },
    "tags": []
   },
   "outputs": [
    {
     "name": "stdout",
     "output_type": "stream",
     "text": [
      "2\n"
     ]
    },
    {
     "data": {
      "text/plain": [
       "<matplotlib.image.AxesImage at 0x7f8dab85f550>"
      ]
     },
     "execution_count": 9,
     "metadata": {},
     "output_type": "execute_result"
    },
    {
     "data": {
      "image/png": "[encoded data removed]",
      "text/plain": [
       "<Figure size 432x288 with 1 Axes>"
      ]
     },
     "metadata": {
      "needs_background": "light"
     },
     "output_type": "display_data"
    }
   ],
   "source": [
    "image_index = 7776 # You may select anything up to 60,000\n",
    "print(train_labels[image_index]) \n",
    "plt.imshow(train_images[image_index], cmap='Greys')"
   ]
  },
  {
   "cell_type": "markdown",
   "id": "a8d2388d",
   "metadata": {
    "papermill": {
     "duration": 0.026729,
     "end_time": "2022-08-06T20:09:33.327536",
     "exception": false,
     "start_time": "2022-08-06T20:09:33.300807",
     "status": "completed"
    },
    "tags": []
   },
   "source": [
    "## Filter data to get 3 and 8 out"
   ]
  },
  {
   "cell_type": "code",
   "execution_count": 10,
   "id": "776f7fc7",
   "metadata": {
    "execution": {
     "iopub.execute_input": "2022-08-06T20:09:33.384827Z",
     "iopub.status.busy": "2022-08-06T20:09:33.384239Z",
     "iopub.status.idle": "2022-08-06T20:09:33.400900Z",
     "shell.execute_reply": "2022-08-06T20:09:33.400331Z"
    },
    "papermill": {
     "duration": 0.046759,
     "end_time": "2022-08-06T20:09:33.400999",
     "exception": false,
     "start_time": "2022-08-06T20:09:33.354240",
     "status": "completed"
    },
    "tags": []
   },
   "outputs": [],
   "source": [
    "train_filter = np.where((train_labels == 3 ) | (train_labels == 8))\n",
    "test_filter = np.where((test_labels == 3) | (test_labels == 8))\n",
    "X_train, y_train = train_images[train_filter], train_labels[train_filter]\n",
    "X_test, y_test = test_images[test_filter], test_labels[test_filter]"
   ]
  },
  {
   "cell_type": "markdown",
   "id": "948f0b7e",
   "metadata": {
    "papermill": {
     "duration": 0.02675,
     "end_time": "2022-08-06T20:09:33.454473",
     "exception": false,
     "start_time": "2022-08-06T20:09:33.427723",
     "status": "completed"
    },
    "tags": []
   },
   "source": [
    "We normalize the pizel values in the 0 to 1 range"
   ]
  },
  {
   "cell_type": "code",
   "execution_count": 11,
   "id": "ee4c2166",
   "metadata": {
    "execution": {
     "iopub.execute_input": "2022-08-06T20:09:33.510924Z",
     "iopub.status.busy": "2022-08-06T20:09:33.510368Z",
     "iopub.status.idle": "2022-08-06T20:09:33.549351Z",
     "shell.execute_reply": "2022-08-06T20:09:33.548884Z"
    },
    "papermill": {
     "duration": 0.068336,
     "end_time": "2022-08-06T20:09:33.549458",
     "exception": false,
     "start_time": "2022-08-06T20:09:33.481122",
     "status": "completed"
    },
    "tags": []
   },
   "outputs": [],
   "source": [
    "X_train = X_train/255.\n",
    "X_test = X_test/255."
   ]
  },
  {
   "cell_type": "markdown",
   "id": "ddcf4fab",
   "metadata": {
    "papermill": {
     "duration": 0.02684,
     "end_time": "2022-08-06T20:09:33.603342",
     "exception": false,
     "start_time": "2022-08-06T20:09:33.576502",
     "status": "completed"
    },
    "tags": []
   },
   "source": [
    "And setup the labels as 1 (when the digit is 3) and 0 (when the digit is 8)"
   ]
  },
  {
   "cell_type": "code",
   "execution_count": 12,
   "id": "7dc908f2",
   "metadata": {
    "execution": {
     "iopub.execute_input": "2022-08-06T20:09:33.660224Z",
     "iopub.status.busy": "2022-08-06T20:09:33.659689Z",
     "iopub.status.idle": "2022-08-06T20:09:33.671427Z",
     "shell.execute_reply": "2022-08-06T20:09:33.670891Z"
    },
    "papermill": {
     "duration": 0.041523,
     "end_time": "2022-08-06T20:09:33.671525",
     "exception": false,
     "start_time": "2022-08-06T20:09:33.630002",
     "status": "completed"
    },
    "tags": []
   },
   "outputs": [],
   "source": [
    "y_train = 1*(y_train==3)\n",
    "y_test = 1*(y_test==3)"
   ]
  },
  {
   "cell_type": "code",
   "execution_count": 13,
   "id": "01e4e969",
   "metadata": {
    "execution": {
     "iopub.execute_input": "2022-08-06T20:09:33.728115Z",
     "iopub.status.busy": "2022-08-06T20:09:33.727573Z",
     "iopub.status.idle": "2022-08-06T20:09:33.740050Z",
     "shell.execute_reply": "2022-08-06T20:09:33.740477Z"
    },
    "papermill": {
     "duration": 0.042278,
     "end_time": "2022-08-06T20:09:33.740584",
     "exception": false,
     "start_time": "2022-08-06T20:09:33.698306",
     "status": "completed"
    },
    "tags": []
   },
   "outputs": [
    {
     "data": {
      "text/plain": [
       "((11982, 28, 28), (1984, 28, 28))"
      ]
     },
     "execution_count": 13,
     "metadata": {},
     "output_type": "execute_result"
    }
   ],
   "source": [
    "X_train.shape, X_test.shape"
   ]
  },
  {
   "cell_type": "markdown",
   "id": "5ccf3f85",
   "metadata": {
    "papermill": {
     "duration": 0.026856,
     "end_time": "2022-08-06T20:09:33.794323",
     "exception": false,
     "start_time": "2022-08-06T20:09:33.767467",
     "status": "completed"
    },
    "tags": []
   },
   "source": [
    "We reshape the data to flatten the image pixels into a set of features or co-variates:"
   ]
  },
  {
   "cell_type": "code",
   "execution_count": 14,
   "id": "5286a4a3",
   "metadata": {
    "execution": {
     "iopub.execute_input": "2022-08-06T20:09:33.851508Z",
     "iopub.status.busy": "2022-08-06T20:09:33.850954Z",
     "iopub.status.idle": "2022-08-06T20:09:33.864115Z",
     "shell.execute_reply": "2022-08-06T20:09:33.863665Z"
    },
    "papermill": {
     "duration": 0.04287,
     "end_time": "2022-08-06T20:09:33.864210",
     "exception": false,
     "start_time": "2022-08-06T20:09:33.821340",
     "status": "completed"
    },
    "tags": []
   },
   "outputs": [
    {
     "data": {
      "text/plain": [
       "((11982, 784), (1984, 784))"
      ]
     },
     "execution_count": 14,
     "metadata": {},
     "output_type": "execute_result"
    }
   ],
   "source": [
    "X_train = X_train.reshape(X_train.shape[0], -1)\n",
    "X_test = X_test.reshape(X_test.shape[0], -1)\n",
    "X_train.shape, X_test.shape"
   ]
  },
  {
   "cell_type": "code",
   "execution_count": 15,
   "id": "73c5f88a",
   "metadata": {
    "execution": {
     "iopub.execute_input": "2022-08-06T20:09:33.922533Z",
     "iopub.status.busy": "2022-08-06T20:09:33.921969Z",
     "iopub.status.idle": "2022-08-06T20:09:33.938792Z",
     "shell.execute_reply": "2022-08-06T20:09:33.939233Z"
    },
    "papermill": {
     "duration": 0.0479,
     "end_time": "2022-08-06T20:09:33.939340",
     "exception": false,
     "start_time": "2022-08-06T20:09:33.891440",
     "status": "completed"
    },
    "tags": []
   },
   "outputs": [],
   "source": [
    "#Impoting functions from 'Kudzu'\n",
    "from kudzu.model import Model\n",
    "from kudzu.train import Learner\n",
    "from kudzu.optim import GD\n",
    "from kudzu.data import Data, Sampler,Dataloader\n",
    "\n",
    "from kudzu.callbacks import AccCallback\n",
    "from kudzu.callbacks import ClfCallback\n",
    "\n",
    "from kudzu.loss import MSE\n",
    "\n",
    "from kudzu.layer import Sigmoid,Relu\n",
    "from kudzu.layer import Affine"
   ]
  },
  {
   "cell_type": "markdown",
   "id": "bc01172a",
   "metadata": {
    "papermill": {
     "duration": 0.027252,
     "end_time": "2022-08-06T20:09:33.994027",
     "exception": false,
     "start_time": "2022-08-06T20:09:33.966775",
     "status": "completed"
    },
    "tags": []
   },
   "source": [
    "### Let us create a `Config` class, to store important parameters. \n",
    "This class essentially plays the role of a dictionary."
   ]
  },
  {
   "cell_type": "code",
   "execution_count": 16,
   "id": "978281aa",
   "metadata": {
    "execution": {
     "iopub.execute_input": "2022-08-06T20:09:34.051480Z",
     "iopub.status.busy": "2022-08-06T20:09:34.050924Z",
     "iopub.status.idle": "2022-08-06T20:09:34.062328Z",
     "shell.execute_reply": "2022-08-06T20:09:34.061809Z"
    },
    "papermill": {
     "duration": 0.041288,
     "end_time": "2022-08-06T20:09:34.062423",
     "exception": false,
     "start_time": "2022-08-06T20:09:34.021135",
     "status": "completed"
    },
    "tags": []
   },
   "outputs": [],
   "source": [
    "class Config:\n",
    "    pass\n",
    "config = Config()\n",
    "config.lr = 0.001\n",
    "config.num_epochs = 250\n",
    "config.bs = 50"
   ]
  },
  {
   "cell_type": "markdown",
   "id": "1385fa59",
   "metadata": {
    "papermill": {
     "duration": 0.027094,
     "end_time": "2022-08-06T20:09:34.116718",
     "exception": false,
     "start_time": "2022-08-06T20:09:34.089624",
     "status": "completed"
    },
    "tags": []
   },
   "source": [
    "### Running Models with the Training data\n",
    "Details about the network layers:\n",
    "- A first affine layer has 784 inputs and does 100 affine transforms. These are followed by a Relu\n",
    "- A second affine layer has 100 inputs from the 100 activations of the past layer, and does 100 affine transforms. These are followed by a Relu\n",
    "- A third affine layer has 100 activations and does 2 affine transformations to create an embedding for visualization. There is no non-linearity here.\n",
    "- A final \"logistic regression\" which has an affine transform from 2 inputs to 1 output, which is squeezed through a sigmoid.\n"
   ]
  },
  {
   "cell_type": "code",
   "execution_count": 17,
   "id": "2b9c66db",
   "metadata": {
    "execution": {
     "iopub.execute_input": "2022-08-06T20:09:34.174436Z",
     "iopub.status.busy": "2022-08-06T20:09:34.173879Z",
     "iopub.status.idle": "2022-08-06T20:09:34.185439Z",
     "shell.execute_reply": "2022-08-06T20:09:34.185007Z"
    },
    "papermill": {
     "duration": 0.041687,
     "end_time": "2022-08-06T20:09:34.185533",
     "exception": false,
     "start_time": "2022-08-06T20:09:34.143846",
     "status": "completed"
    },
    "tags": []
   },
   "outputs": [],
   "source": [
    "data = Data(X_train, y_train.reshape(-1,1))\n",
    "sampler = Sampler(data, config.bs, shuffle=True)\n",
    "\n",
    "dl = Dataloader(data, sampler)\n",
    "\n",
    "opt = GD(config.lr)\n",
    "loss = MSE()"
   ]
  },
  {
   "cell_type": "code",
   "execution_count": 18,
   "id": "b275e4c2",
   "metadata": {
    "execution": {
     "iopub.execute_input": "2022-08-06T20:09:34.243033Z",
     "iopub.status.busy": "2022-08-06T20:09:34.242481Z",
     "iopub.status.idle": "2022-08-06T20:09:34.253862Z",
     "shell.execute_reply": "2022-08-06T20:09:34.253418Z"
    },
    "papermill": {
     "duration": 0.041225,
     "end_time": "2022-08-06T20:09:34.253955",
     "exception": false,
     "start_time": "2022-08-06T20:09:34.212730",
     "status": "completed"
    },
    "tags": []
   },
   "outputs": [],
   "source": [
    "training_data_x = X_train\n",
    "testing_data_x = X_test\n",
    "training_data_y = y_train.reshape(-1,1)\n",
    "testing_data_y = y_test.reshape(-1,1)"
   ]
  },
  {
   "cell_type": "code",
   "execution_count": 19,
   "id": "76951160",
   "metadata": {
    "execution": {
     "iopub.execute_input": "2022-08-06T20:09:34.311715Z",
     "iopub.status.busy": "2022-08-06T20:09:34.311171Z",
     "iopub.status.idle": "2022-08-06T20:09:34.327186Z",
     "shell.execute_reply": "2022-08-06T20:09:34.327633Z"
    },
    "papermill": {
     "duration": 0.046686,
     "end_time": "2022-08-06T20:09:34.327742",
     "exception": false,
     "start_time": "2022-08-06T20:09:34.281056",
     "status": "completed"
    },
    "tags": []
   },
   "outputs": [
    {
     "name": "stdout",
     "output_type": "stream",
     "text": [
      "xavier\n",
      "xavier\n",
      "xavier\n",
      "xavier\n",
      "xavier\n"
     ]
    }
   ],
   "source": [
    "layers = [Affine(\"first\", 784, 100), Relu(\"first\"), Affine(\"second\", 100, 100), Relu(\"second\"), Affine(\"third\", 100, 2), Affine(\"last\", 2, 1), Sigmoid(\"last\")]\n",
    "model_nn = Model(layers)\n",
    "model_lr = Model([Affine(\"logits\", 784, 1), Sigmoid(\"sigmoid\")])"
   ]
  },
  {
   "cell_type": "code",
   "execution_count": 20,
   "id": "6eede77a",
   "metadata": {
    "execution": {
     "iopub.execute_input": "2022-08-06T20:09:34.385996Z",
     "iopub.status.busy": "2022-08-06T20:09:34.385447Z",
     "iopub.status.idle": "2022-08-06T20:09:34.396914Z",
     "shell.execute_reply": "2022-08-06T20:09:34.396449Z"
    },
    "papermill": {
     "duration": 0.041673,
     "end_time": "2022-08-06T20:09:34.397008",
     "exception": false,
     "start_time": "2022-08-06T20:09:34.355335",
     "status": "completed"
    },
    "tags": []
   },
   "outputs": [],
   "source": [
    "nn_learner = Learner(loss, model_nn, opt, config.num_epochs)\n",
    "acc_nn = ClfCallback(nn_learner, config.bs, training_data_x , testing_data_x, training_data_y, testing_data_y)\n",
    "nn_learner.set_callbacks([acc_nn])"
   ]
  },
  {
   "cell_type": "code",
   "execution_count": 21,
   "id": "877b6cc7",
   "metadata": {
    "execution": {
     "iopub.execute_input": "2022-08-06T20:09:34.455124Z",
     "iopub.status.busy": "2022-08-06T20:09:34.454587Z",
     "iopub.status.idle": "2022-08-06T20:09:34.466269Z",
     "shell.execute_reply": "2022-08-06T20:09:34.466724Z"
    },
    "papermill": {
     "duration": 0.042361,
     "end_time": "2022-08-06T20:09:34.466830",
     "exception": false,
     "start_time": "2022-08-06T20:09:34.424469",
     "status": "completed"
    },
    "tags": []
   },
   "outputs": [],
   "source": [
    "lr_learner = Learner(loss, model_lr, opt, config.num_epochs)\n",
    "acc_lr = ClfCallback(lr_learner, config.bs, training_data_x , testing_data_x, training_data_y, testing_data_y)\n",
    "lr_learner.set_callbacks([acc_lr])"
   ]
  },
  {
   "cell_type": "code",
   "execution_count": 22,
   "id": "d9b133c3",
   "metadata": {
    "execution": {
     "iopub.execute_input": "2022-08-06T20:09:34.524764Z",
     "iopub.status.busy": "2022-08-06T20:09:34.524184Z",
     "iopub.status.idle": "2022-08-06T20:12:29.703101Z",
     "shell.execute_reply": "2022-08-06T20:12:29.703631Z"
    },
    "papermill": {
     "duration": 175.209333,
     "end_time": "2022-08-06T20:12:29.703758",
     "exception": false,
     "start_time": "2022-08-06T20:09:34.494425",
     "status": "completed"
    },
    "tags": []
   },
   "outputs": [
    {
     "name": "stdout",
     "output_type": "stream",
     "text": [
      "Epoch 0, Loss 0.2477\n",
      "Training Accuracy: 0.6543, Testing Accuracy: 0.6981\n",
      "\n"
     ]
    },
    {
     "name": "stdout",
     "output_type": "stream",
     "text": [
      "Epoch 10, Loss 0.0834\n",
      "Training Accuracy: 0.9190, Testing Accuracy: 0.9415\n",
      "\n"
     ]
    },
    {
     "name": "stdout",
     "output_type": "stream",
     "text": [
      "Epoch 20, Loss 0.0526\n",
      "Training Accuracy: 0.9433, Testing Accuracy: 0.9526\n",
      "\n"
     ]
    },
    {
     "name": "stdout",
     "output_type": "stream",
     "text": [
      "Epoch 30, Loss 0.0426\n",
      "Training Accuracy: 0.9521, Testing Accuracy: 0.9622\n",
      "\n"
     ]
    },
    {
     "name": "stdout",
     "output_type": "stream",
     "text": [
      "Epoch 40, Loss 0.0375\n",
      "Training Accuracy: 0.9568, Testing Accuracy: 0.9662\n",
      "\n"
     ]
    },
    {
     "name": "stdout",
     "output_type": "stream",
     "text": [
      "Epoch 50, Loss 0.0343\n",
      "Training Accuracy: 0.9599, Testing Accuracy: 0.9698\n",
      "\n"
     ]
    },
    {
     "name": "stdout",
     "output_type": "stream",
     "text": [
      "Epoch 60, Loss 0.032\n",
      "Training Accuracy: 0.9621, Testing Accuracy: 0.9723\n",
      "\n"
     ]
    },
    {
     "name": "stdout",
     "output_type": "stream",
     "text": [
      "Epoch 70, Loss 0.0302\n",
      "Training Accuracy: 0.9652, Testing Accuracy: 0.9728\n",
      "\n"
     ]
    },
    {
     "name": "stdout",
     "output_type": "stream",
     "text": [
      "Epoch 80, Loss 0.0288\n",
      "Training Accuracy: 0.9669, Testing Accuracy: 0.9738\n",
      "\n"
     ]
    },
    {
     "name": "stdout",
     "output_type": "stream",
     "text": [
      "Epoch 90, Loss 0.0276\n",
      "Training Accuracy: 0.9683, Testing Accuracy: 0.9748\n",
      "\n"
     ]
    },
    {
     "name": "stdout",
     "output_type": "stream",
     "text": [
      "Epoch 100, Loss 0.0266\n",
      "Training Accuracy: 0.9697, Testing Accuracy: 0.9753\n",
      "\n"
     ]
    },
    {
     "name": "stdout",
     "output_type": "stream",
     "text": [
      "Epoch 110, Loss 0.0257\n",
      "Training Accuracy: 0.9703, Testing Accuracy: 0.9748\n",
      "\n"
     ]
    },
    {
     "name": "stdout",
     "output_type": "stream",
     "text": [
      "Epoch 120, Loss 0.0248\n",
      "Training Accuracy: 0.9714, Testing Accuracy: 0.9748\n",
      "\n"
     ]
    },
    {
     "name": "stdout",
     "output_type": "stream",
     "text": [
      "Epoch 130, Loss 0.0241\n",
      "Training Accuracy: 0.9719, Testing Accuracy: 0.9753\n",
      "\n"
     ]
    },
    {
     "name": "stdout",
     "output_type": "stream",
     "text": [
      "Epoch 140, Loss 0.0234\n",
      "Training Accuracy: 0.9727, Testing Accuracy: 0.9758\n",
      "\n"
     ]
    },
    {
     "name": "stdout",
     "output_type": "stream",
     "text": [
      "Epoch 150, Loss 0.0227\n",
      "Training Accuracy: 0.9740, Testing Accuracy: 0.9758\n",
      "\n"
     ]
    },
    {
     "name": "stdout",
     "output_type": "stream",
     "text": [
      "Epoch 160, Loss 0.0222\n",
      "Training Accuracy: 0.9747, Testing Accuracy: 0.9758\n",
      "\n"
     ]
    },
    {
     "name": "stdout",
     "output_type": "stream",
     "text": [
      "Epoch 170, Loss 0.0216\n",
      "Training Accuracy: 0.9754, Testing Accuracy: 0.9753\n",
      "\n"
     ]
    },
    {
     "name": "stdout",
     "output_type": "stream",
     "text": [
      "Epoch 180, Loss 0.0211\n",
      "Training Accuracy: 0.9763, Testing Accuracy: 0.9753\n",
      "\n"
     ]
    },
    {
     "name": "stdout",
     "output_type": "stream",
     "text": [
      "Epoch 190, Loss 0.0206\n",
      "Training Accuracy: 0.9772, Testing Accuracy: 0.9753\n",
      "\n"
     ]
    },
    {
     "name": "stdout",
     "output_type": "stream",
     "text": [
      "Epoch 200, Loss 0.0201\n",
      "Training Accuracy: 0.9778, Testing Accuracy: 0.9758\n",
      "\n"
     ]
    },
    {
     "name": "stdout",
     "output_type": "stream",
     "text": [
      "Epoch 210, Loss 0.0196\n",
      "Training Accuracy: 0.9780, Testing Accuracy: 0.9758\n",
      "\n"
     ]
    },
    {
     "name": "stdout",
     "output_type": "stream",
     "text": [
      "Epoch 220, Loss 0.0192\n",
      "Training Accuracy: 0.9784, Testing Accuracy: 0.9758\n",
      "\n"
     ]
    },
    {
     "name": "stdout",
     "output_type": "stream",
     "text": [
      "Epoch 230, Loss 0.0188\n",
      "Training Accuracy: 0.9791, Testing Accuracy: 0.9763\n",
      "\n"
     ]
    },
    {
     "name": "stdout",
     "output_type": "stream",
     "text": [
      "Epoch 240, Loss 0.0184\n",
      "Training Accuracy: 0.9798, Testing Accuracy: 0.9768\n",
      "\n"
     ]
    },
    {
     "data": {
      "text/plain": [
       "0.0017655712984982223"
      ]
     },
     "execution_count": 22,
     "metadata": {},
     "output_type": "execute_result"
    }
   ],
   "source": [
    "nn_learner.train_loop(dl)"
   ]
  },
  {
   "cell_type": "code",
   "execution_count": 23,
   "id": "e0163366",
   "metadata": {
    "execution": {
     "iopub.execute_input": "2022-08-06T20:12:29.777600Z",
     "iopub.status.busy": "2022-08-06T20:12:29.777021Z",
     "iopub.status.idle": "2022-08-06T20:12:41.920040Z",
     "shell.execute_reply": "2022-08-06T20:12:41.920561Z"
    },
    "papermill": {
     "duration": 12.181933,
     "end_time": "2022-08-06T20:12:41.920706",
     "exception": false,
     "start_time": "2022-08-06T20:12:29.738773",
     "status": "completed"
    },
    "tags": []
   },
   "outputs": [
    {
     "name": "stdout",
     "output_type": "stream",
     "text": [
      "Epoch 0, Loss 0.226\n",
      "Training Accuracy: 0.7258, Testing Accuracy: 0.7177\n",
      "\n"
     ]
    },
    {
     "name": "stdout",
     "output_type": "stream",
     "text": [
      "Epoch 10, Loss 0.1047\n",
      "Training Accuracy: 0.9038, Testing Accuracy: 0.9163\n",
      "\n"
     ]
    },
    {
     "name": "stdout",
     "output_type": "stream",
     "text": [
      "Epoch 20, Loss 0.0806\n",
      "Training Accuracy: 0.9251, Testing Accuracy: 0.9395\n",
      "\n"
     ]
    },
    {
     "name": "stdout",
     "output_type": "stream",
     "text": [
      "Epoch 30, Loss 0.0693\n",
      "Training Accuracy: 0.9334, Testing Accuracy: 0.9476\n",
      "\n"
     ]
    },
    {
     "name": "stdout",
     "output_type": "stream",
     "text": [
      "Epoch 40, Loss 0.0625\n",
      "Training Accuracy: 0.9394, Testing Accuracy: 0.9526\n",
      "\n"
     ]
    },
    {
     "name": "stdout",
     "output_type": "stream",
     "text": [
      "Epoch 50, Loss 0.0579\n",
      "Training Accuracy: 0.9430, Testing Accuracy: 0.9561\n",
      "\n"
     ]
    },
    {
     "name": "stdout",
     "output_type": "stream",
     "text": [
      "Epoch 60, Loss 0.0545\n",
      "Training Accuracy: 0.9458, Testing Accuracy: 0.9602\n",
      "\n"
     ]
    },
    {
     "name": "stdout",
     "output_type": "stream",
     "text": [
      "Epoch 70, Loss 0.0518\n",
      "Training Accuracy: 0.9481, Testing Accuracy: 0.9607\n",
      "\n"
     ]
    },
    {
     "name": "stdout",
     "output_type": "stream",
     "text": [
      "Epoch 80, Loss 0.0497\n",
      "Training Accuracy: 0.9498, Testing Accuracy: 0.9622\n",
      "\n"
     ]
    },
    {
     "name": "stdout",
     "output_type": "stream",
     "text": [
      "Epoch 90, Loss 0.048\n",
      "Training Accuracy: 0.9515, Testing Accuracy: 0.9627\n",
      "\n"
     ]
    },
    {
     "name": "stdout",
     "output_type": "stream",
     "text": [
      "Epoch 100, Loss 0.0465\n",
      "Training Accuracy: 0.9526, Testing Accuracy: 0.9642\n",
      "\n"
     ]
    },
    {
     "name": "stdout",
     "output_type": "stream",
     "text": [
      "Epoch 110, Loss 0.0452\n",
      "Training Accuracy: 0.9539, Testing Accuracy: 0.9637\n",
      "\n"
     ]
    },
    {
     "name": "stdout",
     "output_type": "stream",
     "text": [
      "Epoch 120, Loss 0.0441\n",
      "Training Accuracy: 0.9548, Testing Accuracy: 0.9642\n",
      "\n"
     ]
    },
    {
     "name": "stdout",
     "output_type": "stream",
     "text": [
      "Epoch 130, Loss 0.0432\n",
      "Training Accuracy: 0.9556, Testing Accuracy: 0.9642\n",
      "\n"
     ]
    },
    {
     "name": "stdout",
     "output_type": "stream",
     "text": [
      "Epoch 140, Loss 0.0423\n",
      "Training Accuracy: 0.9564, Testing Accuracy: 0.9637\n",
      "\n"
     ]
    },
    {
     "name": "stdout",
     "output_type": "stream",
     "text": [
      "Epoch 150, Loss 0.0415\n",
      "Training Accuracy: 0.9572, Testing Accuracy: 0.9647\n",
      "\n"
     ]
    },
    {
     "name": "stdout",
     "output_type": "stream",
     "text": [
      "Epoch 160, Loss 0.0408\n",
      "Training Accuracy: 0.9579, Testing Accuracy: 0.9657\n",
      "\n"
     ]
    },
    {
     "name": "stdout",
     "output_type": "stream",
     "text": [
      "Epoch 170, Loss 0.0402\n",
      "Training Accuracy: 0.9579, Testing Accuracy: 0.9662\n",
      "\n"
     ]
    },
    {
     "name": "stdout",
     "output_type": "stream",
     "text": [
      "Epoch 180, Loss 0.0396\n",
      "Training Accuracy: 0.9584, Testing Accuracy: 0.9662\n",
      "\n"
     ]
    },
    {
     "name": "stdout",
     "output_type": "stream",
     "text": [
      "Epoch 190, Loss 0.0391\n",
      "Training Accuracy: 0.9591, Testing Accuracy: 0.9662\n",
      "\n"
     ]
    },
    {
     "name": "stdout",
     "output_type": "stream",
     "text": [
      "Epoch 200, Loss 0.0386\n",
      "Training Accuracy: 0.9595, Testing Accuracy: 0.9662\n",
      "\n"
     ]
    },
    {
     "name": "stdout",
     "output_type": "stream",
     "text": [
      "Epoch 210, Loss 0.0381\n",
      "Training Accuracy: 0.9600, Testing Accuracy: 0.9667\n",
      "\n"
     ]
    },
    {
     "name": "stdout",
     "output_type": "stream",
     "text": [
      "Epoch 220, Loss 0.0377\n",
      "Training Accuracy: 0.9604, Testing Accuracy: 0.9672\n",
      "\n"
     ]
    },
    {
     "name": "stdout",
     "output_type": "stream",
     "text": [
      "Epoch 230, Loss 0.0373\n",
      "Training Accuracy: 0.9608, Testing Accuracy: 0.9677\n",
      "\n"
     ]
    },
    {
     "name": "stdout",
     "output_type": "stream",
     "text": [
      "Epoch 240, Loss 0.0369\n",
      "Training Accuracy: 0.9612, Testing Accuracy: 0.9688\n",
      "\n"
     ]
    },
    {
     "data": {
      "text/plain": [
       "0.059586214819224714"
      ]
     },
     "execution_count": 23,
     "metadata": {},
     "output_type": "execute_result"
    }
   ],
   "source": [
    "lr_learner.train_loop(dl)"
   ]
  },
  {
   "cell_type": "code",
   "execution_count": 24,
   "id": "ca410940",
   "metadata": {
    "execution": {
     "iopub.execute_input": "2022-08-06T20:12:42.012085Z",
     "iopub.status.busy": "2022-08-06T20:12:42.011427Z",
     "iopub.status.idle": "2022-08-06T20:12:42.237983Z",
     "shell.execute_reply": "2022-08-06T20:12:42.238430Z"
    },
    "papermill": {
     "duration": 0.275725,
     "end_time": "2022-08-06T20:12:42.238557",
     "exception": false,
     "start_time": "2022-08-06T20:12:41.962832",
     "status": "completed"
    },
    "tags": []
   },
   "outputs": [
    {
     "data": {
      "text/plain": [
       "<matplotlib.legend.Legend at 0x7f8dab3c0b38>"
      ]
     },
     "execution_count": 24,
     "metadata": {},
     "output_type": "execute_result"
    },
    {
     "data": {
      "image/png": "[encoded data removed]",
      "text/plain": [
       "<Figure size 1080x720 with 1 Axes>"
      ]
     },
     "metadata": {
      "needs_background": "light"
     },
     "output_type": "display_data"
    }
   ],
   "source": [
    "#comparing the results of NN and LR\n",
    "plt.figure(figsize=(15,10))\n",
    "\n",
    "# Neural Network plots\n",
    "plt.plot(acc_nn.accuracies, 'r-', label = \"Training Accuracies - NN\")\n",
    "plt.plot(acc_nn.test_accuracies, 'g-', label = \"Testing Accuracies - NN\")\n",
    "\n",
    "# Logistic Regression plots\n",
    "plt.plot(acc_lr.accuracies, 'k-', label = \"Training Accuracies - LR\")\n",
    "plt.plot(acc_lr.test_accuracies, 'b-', label = \"Testing Accuracies - LR\")\n",
    "plt.legend()"
   ]
  },
  {
   "cell_type": "markdown",
   "id": "80dfb35c",
   "metadata": {
    "papermill": {
     "duration": 0.042344,
     "end_time": "2022-08-06T20:12:42.323797",
     "exception": false,
     "start_time": "2022-08-06T20:12:42.281453",
     "status": "completed"
    },
    "tags": []
   },
   "source": [
    "#### Plotting the outputs of this layer of the NN.\n"
   ]
  },
  {
   "cell_type": "code",
   "execution_count": 25,
   "id": "45eb2ff5",
   "metadata": {
    "execution": {
     "iopub.execute_input": "2022-08-06T20:12:42.412954Z",
     "iopub.status.busy": "2022-08-06T20:12:42.412371Z",
     "iopub.status.idle": "2022-08-06T20:12:42.447385Z",
     "shell.execute_reply": "2022-08-06T20:12:42.447847Z"
    },
    "papermill": {
     "duration": 0.081619,
     "end_time": "2022-08-06T20:12:42.447972",
     "exception": false,
     "start_time": "2022-08-06T20:12:42.366353",
     "status": "completed"
    },
    "tags": []
   },
   "outputs": [],
   "source": [
    "new_model = Model(layers[:-2])\n",
    "testing_plot = new_model(testing_data_x)"
   ]
  },
  {
   "cell_type": "code",
   "execution_count": 26,
   "id": "4c0a5485",
   "metadata": {
    "execution": {
     "iopub.execute_input": "2022-08-06T20:12:42.549404Z",
     "iopub.status.busy": "2022-08-06T20:12:42.541651Z",
     "iopub.status.idle": "2022-08-06T20:12:42.768723Z",
     "shell.execute_reply": "2022-08-06T20:12:42.769158Z"
    },
    "papermill": {
     "duration": 0.274867,
     "end_time": "2022-08-06T20:12:42.769281",
     "exception": false,
     "start_time": "2022-08-06T20:12:42.494414",
     "status": "completed"
    },
    "tags": []
   },
   "outputs": [
    {
     "data": {
      "text/plain": [
       "Text(0.5, 1.0, 'Outputs')"
      ]
     },
     "execution_count": 26,
     "metadata": {},
     "output_type": "execute_result"
    },
    {
     "data": {
      "image/png": "[encoded data removed]",
      "text/plain": [
       "<Figure size 576x504 with 1 Axes>"
      ]
     },
     "metadata": {
      "needs_background": "light"
     },
     "output_type": "display_data"
    }
   ],
   "source": [
    "# Plotting the scatter plot of points and color coding by class\n",
    "plt.figure(figsize=(8,7))\n",
    "plt.scatter(testing_plot[:,0], testing_plot[:,1], alpha = 0.1, c = y_test.ravel());\n",
    "plt.title('Outputs')"
   ]
  },
  {
   "cell_type": "markdown",
   "id": "a74fcf8f",
   "metadata": {
    "papermill": {
     "duration": 0.045944,
     "end_time": "2022-08-06T20:12:42.883756",
     "exception": false,
     "start_time": "2022-08-06T20:12:42.837812",
     "status": "completed"
    },
    "tags": []
   },
   "source": [
    "Probability contours"
   ]
  },
  {
   "cell_type": "code",
   "execution_count": 27,
   "id": "d0afc8e3",
   "metadata": {
    "execution": {
     "iopub.execute_input": "2022-08-06T20:12:42.981464Z",
     "iopub.status.busy": "2022-08-06T20:12:42.978970Z",
     "iopub.status.idle": "2022-08-06T20:12:42.990553Z",
     "shell.execute_reply": "2022-08-06T20:12:42.990107Z"
    },
    "papermill": {
     "duration": 0.060879,
     "end_time": "2022-08-06T20:12:42.990651",
     "exception": false,
     "start_time": "2022-08-06T20:12:42.929772",
     "status": "completed"
    },
    "tags": []
   },
   "outputs": [],
   "source": [
    "model_prob = Model(layers[-2:]) "
   ]
  },
  {
   "cell_type": "code",
   "execution_count": 28,
   "id": "9b96e238",
   "metadata": {
    "execution": {
     "iopub.execute_input": "2022-08-06T20:12:43.088206Z",
     "iopub.status.busy": "2022-08-06T20:12:43.087657Z",
     "iopub.status.idle": "2022-08-06T20:12:43.100556Z",
     "shell.execute_reply": "2022-08-06T20:12:43.101015Z"
    },
    "papermill": {
     "duration": 0.064237,
     "end_time": "2022-08-06T20:12:43.101142",
     "exception": false,
     "start_time": "2022-08-06T20:12:43.036905",
     "status": "completed"
    },
    "tags": []
   },
   "outputs": [],
   "source": [
    "#creating the x and y ranges according to the above generated plot.\n",
    "x_range = np.linspace(-4, 1, 100) \n",
    "y_range = np.linspace(-6, 6, 100) \n",
    "x_grid, y_grid = np.meshgrid(x_range, y_range) # x_grid and y_grig are of size 100 X 100\n",
    "\n",
    "# converting x_grid and y_grid to continuous arrays\n",
    "x_gridflat = np.ravel(x_grid)\n",
    "y_gridflat = np.ravel(y_grid)\n",
    "\n",
    "# The last layer of the current model takes two columns as input. Hence transpose of np.vstack() is required.\n",
    "X = np.vstack((x_gridflat, y_gridflat)).T\n",
    "\n",
    "prob_contour = model_prob(X).reshape(100,100) "
   ]
  },
  {
   "cell_type": "code",
   "execution_count": 29,
   "id": "da72499a",
   "metadata": {
    "execution": {
     "iopub.execute_input": "2022-08-06T20:12:43.198432Z",
     "iopub.status.busy": "2022-08-06T20:12:43.197878Z",
     "iopub.status.idle": "2022-08-06T20:12:43.439336Z",
     "shell.execute_reply": "2022-08-06T20:12:43.438891Z"
    },
    "papermill": {
     "duration": 0.291665,
     "end_time": "2022-08-06T20:12:43.439446",
     "exception": false,
     "start_time": "2022-08-06T20:12:43.147781",
     "status": "completed"
    },
    "tags": []
   },
   "outputs": [
    {
     "data": {
      "image/png": "[encoded data removed]",
      "text/plain": [
       "<Figure size 720x648 with 1 Axes>"
      ]
     },
     "metadata": {
      "needs_background": "light"
     },
     "output_type": "display_data"
    }
   ],
   "source": [
    "plt.figure(figsize=(10,9))\n",
    "plt.scatter(testing_plot[:,0], testing_plot[:,1], alpha = 0.1, c = y_test.ravel())\n",
    "contours = plt.contour(x_grid,y_grid,prob_contour)\n",
    "plt.title('Probability Contours')\n",
    "plt.clabel(contours, inline = True );"
   ]
  },
  {
   "cell_type": "code",
   "execution_count": null,
   "id": "e81b4ac7",
   "metadata": {
    "papermill": {
     "duration": 0.047933,
     "end_time": "2022-08-06T20:12:43.536099",
     "exception": false,
     "start_time": "2022-08-06T20:12:43.488166",
     "status": "completed"
    },
    "tags": []
   },
   "outputs": [],
   "source": []
  }
 ],
 "metadata": {
  "kernelspec": {
   "display_name": "Python 3",
   "language": "python",
   "name": "python3"
  },
  "language_info": {
   "codemirror_mode": {
    "name": "ipython",
    "version": 3
   },
   "file_extension": ".py",
   "mimetype": "text/x-python",
   "name": "python",
   "nbconvert_exporter": "python",
   "pygments_lexer": "ipython3",
   "version": "3.6.15"
  },
  "papermill": {
   "default_parameters": {},
   "duration": 195.455674,
   "end_time": "2022-08-06T20:12:43.901806",
   "environment_variables": {},
   "exception": null,
   "input_path": "2020-08-11-part2.ipynb",
   "output_path": "2020-08-11-part2.ipynb",
   "parameters": {},
   "start_time": "2022-08-06T20:09:28.446132",
   "version": "2.3.3"
  }
 },
 "nbformat": 4,
 "nbformat_minor": 5
}