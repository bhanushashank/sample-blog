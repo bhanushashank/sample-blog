{
 "cells": [
  {
   "cell_type": "markdown",
   "id": "98380cd3",
   "metadata": {
    "papermill": {
     "duration": 0.034178,
     "end_time": "2022-03-10T20:10:44.770981",
     "exception": false,
     "start_time": "2022-03-10T20:10:44.736803",
     "status": "completed"
    },
    "tags": []
   },
   "source": [
    "# Distinguish Your Own Digits (DYOD)"
   ]
  },
  {
   "cell_type": "markdown",
   "id": "ef31240d",
   "metadata": {
    "papermill": {
     "duration": 0.031818,
     "end_time": "2022-03-10T20:10:44.847095",
     "exception": false,
     "start_time": "2022-03-10T20:10:44.815277",
     "status": "completed"
    },
    "tags": []
   },
   "source": [
    "You are going to write a classifier that distinguishes between the number 3 and number 8."
   ]
  },
  {
   "cell_type": "code",
   "execution_count": 1,
   "id": "b15c8646",
   "metadata": {
    "execution": {
     "iopub.execute_input": "2022-03-10T20:10:44.922079Z",
     "iopub.status.busy": "2022-03-10T20:10:44.921017Z",
     "iopub.status.idle": "2022-03-10T20:10:44.933339Z",
     "shell.execute_reply": "2022-03-10T20:10:44.933855Z"
    },
    "papermill": {
     "duration": 0.057443,
     "end_time": "2022-03-10T20:10:44.934041",
     "exception": false,
     "start_time": "2022-03-10T20:10:44.876598",
     "status": "completed"
    },
    "tags": []
   },
   "outputs": [],
   "source": [
    "%load_ext autoreload\n",
    "%autoreload 2"
   ]
  },
  {
   "cell_type": "code",
   "execution_count": 2,
   "id": "22ef38dc",
   "metadata": {
    "execution": {
     "iopub.execute_input": "2022-03-10T20:10:45.000041Z",
     "iopub.status.busy": "2022-03-10T20:10:44.999402Z",
     "iopub.status.idle": "2022-03-10T20:10:45.723588Z",
     "shell.execute_reply": "2022-03-10T20:10:45.722843Z"
    },
    "papermill": {
     "duration": 0.76154,
     "end_time": "2022-03-10T20:10:45.723730",
     "exception": false,
     "start_time": "2022-03-10T20:10:44.962190",
     "status": "completed"
    },
    "tags": []
   },
   "outputs": [],
   "source": [
    "%matplotlib inline\n",
    "import numpy as np\n",
    "import matplotlib.pyplot as plt\n",
    "import pandas as pd"
   ]
  },
  {
   "cell_type": "markdown",
   "id": "ba036198",
   "metadata": {
    "papermill": {
     "duration": 0.028703,
     "end_time": "2022-03-10T20:10:45.780906",
     "exception": false,
     "start_time": "2022-03-10T20:10:45.752203",
     "status": "completed"
    },
    "tags": []
   },
   "source": [
    "From the command line run `pip install mnist`. This is a library that will help you bring down the mnist dataset. If you run this from a notebook, you need to put  `!pip install mnist` in a cell by itself."
   ]
  },
  {
   "cell_type": "code",
   "execution_count": 3,
   "id": "bb6ad8a1",
   "metadata": {
    "execution": {
     "iopub.execute_input": "2022-03-10T20:10:45.842578Z",
     "iopub.status.busy": "2022-03-10T20:10:45.841464Z",
     "iopub.status.idle": "2022-03-10T20:10:48.615612Z",
     "shell.execute_reply": "2022-03-10T20:10:48.615062Z"
    },
    "papermill": {
     "duration": 2.806749,
     "end_time": "2022-03-10T20:10:48.615758",
     "exception": false,
     "start_time": "2022-03-10T20:10:45.809009",
     "status": "completed"
    },
    "tags": []
   },
   "outputs": [
    {
     "name": "stdout",
     "output_type": "stream",
     "text": [
      "Collecting mnist\r\n"
     ]
    },
    {
     "name": "stdout",
     "output_type": "stream",
     "text": [
      "  Downloading mnist-0.2.2-py2.py3-none-any.whl (3.5 kB)\r\n",
      "Requirement already satisfied: numpy in /opt/hostedtoolcache/Python/3.6.15/x64/lib/python3.6/site-packages (from mnist) (1.19.5)\r\n"
     ]
    },
    {
     "name": "stdout",
     "output_type": "stream",
     "text": [
      "Installing collected packages: mnist\r\n"
     ]
    },
    {
     "name": "stdout",
     "output_type": "stream",
     "text": [
      "Successfully installed mnist-0.2.2\r\n"
     ]
    }
   ],
   "source": [
    "!pip install mnist"
   ]
  },
  {
   "cell_type": "markdown",
   "id": "69df9c9a",
   "metadata": {
    "papermill": {
     "duration": 0.029512,
     "end_time": "2022-03-10T20:10:48.674933",
     "exception": false,
     "start_time": "2022-03-10T20:10:48.645421",
     "status": "completed"
    },
    "tags": []
   },
   "source": [
    "## Preparing the Data"
   ]
  },
  {
   "cell_type": "code",
   "execution_count": 4,
   "id": "7f69d806",
   "metadata": {
    "execution": {
     "iopub.execute_input": "2022-03-10T20:10:48.745574Z",
     "iopub.status.busy": "2022-03-10T20:10:48.744949Z",
     "iopub.status.idle": "2022-03-10T20:10:48.760729Z",
     "shell.execute_reply": "2022-03-10T20:10:48.760146Z"
    },
    "papermill": {
     "duration": 0.055276,
     "end_time": "2022-03-10T20:10:48.760867",
     "exception": false,
     "start_time": "2022-03-10T20:10:48.705591",
     "status": "completed"
    },
    "tags": []
   },
   "outputs": [],
   "source": [
    "import mnist"
   ]
  },
  {
   "cell_type": "code",
   "execution_count": 5,
   "id": "a411e44f",
   "metadata": {
    "execution": {
     "iopub.execute_input": "2022-03-10T20:10:48.829976Z",
     "iopub.status.busy": "2022-03-10T20:10:48.829270Z",
     "iopub.status.idle": "2022-03-10T20:10:49.409556Z",
     "shell.execute_reply": "2022-03-10T20:10:49.408979Z"
    },
    "papermill": {
     "duration": 0.617685,
     "end_time": "2022-03-10T20:10:49.409709",
     "exception": false,
     "start_time": "2022-03-10T20:10:48.792024",
     "status": "completed"
    },
    "tags": []
   },
   "outputs": [],
   "source": [
    "train_images = mnist.train_images()\n",
    "train_labels = mnist.train_labels()"
   ]
  },
  {
   "cell_type": "code",
   "execution_count": 6,
   "id": "dceab3a5",
   "metadata": {
    "execution": {
     "iopub.execute_input": "2022-03-10T20:10:49.478150Z",
     "iopub.status.busy": "2022-03-10T20:10:49.477092Z",
     "iopub.status.idle": "2022-03-10T20:10:49.496231Z",
     "shell.execute_reply": "2022-03-10T20:10:49.495698Z"
    },
    "papermill": {
     "duration": 0.055801,
     "end_time": "2022-03-10T20:10:49.496368",
     "exception": false,
     "start_time": "2022-03-10T20:10:49.440567",
     "status": "completed"
    },
    "tags": []
   },
   "outputs": [
    {
     "data": {
      "text/plain": [
       "((60000, 28, 28), (60000,))"
      ]
     },
     "execution_count": 6,
     "metadata": {},
     "output_type": "execute_result"
    }
   ],
   "source": [
    "train_images.shape, train_labels.shape"
   ]
  },
  {
   "cell_type": "code",
   "execution_count": 7,
   "id": "f50dc2bb",
   "metadata": {
    "execution": {
     "iopub.execute_input": "2022-03-10T20:10:49.560259Z",
     "iopub.status.busy": "2022-03-10T20:10:49.559601Z",
     "iopub.status.idle": "2022-03-10T20:10:49.703599Z",
     "shell.execute_reply": "2022-03-10T20:10:49.703041Z"
    },
    "papermill": {
     "duration": 0.178861,
     "end_time": "2022-03-10T20:10:49.703744",
     "exception": false,
     "start_time": "2022-03-10T20:10:49.524883",
     "status": "completed"
    },
    "tags": []
   },
   "outputs": [],
   "source": [
    "test_images = mnist.test_images()\n",
    "test_labels = mnist.test_labels()"
   ]
  },
  {
   "cell_type": "code",
   "execution_count": 8,
   "id": "fc38cf1b",
   "metadata": {
    "execution": {
     "iopub.execute_input": "2022-03-10T20:10:49.768680Z",
     "iopub.status.busy": "2022-03-10T20:10:49.768051Z",
     "iopub.status.idle": "2022-03-10T20:10:49.785155Z",
     "shell.execute_reply": "2022-03-10T20:10:49.784657Z"
    },
    "papermill": {
     "duration": 0.052256,
     "end_time": "2022-03-10T20:10:49.785292",
     "exception": false,
     "start_time": "2022-03-10T20:10:49.733036",
     "status": "completed"
    },
    "tags": []
   },
   "outputs": [
    {
     "data": {
      "text/plain": [
       "((10000, 28, 28), (10000,))"
      ]
     },
     "execution_count": 8,
     "metadata": {},
     "output_type": "execute_result"
    }
   ],
   "source": [
    "test_images.shape, test_labels.shape"
   ]
  },
  {
   "cell_type": "code",
   "execution_count": 9,
   "id": "f9ed8fe0",
   "metadata": {
    "execution": {
     "iopub.execute_input": "2022-03-10T20:10:49.851169Z",
     "iopub.status.busy": "2022-03-10T20:10:49.850554Z",
     "iopub.status.idle": "2022-03-10T20:10:50.023306Z",
     "shell.execute_reply": "2022-03-10T20:10:50.023775Z"
    },
    "papermill": {
     "duration": 0.208887,
     "end_time": "2022-03-10T20:10:50.023970",
     "exception": false,
     "start_time": "2022-03-10T20:10:49.815083",
     "status": "completed"
    },
    "tags": []
   },
   "outputs": [
    {
     "name": "stdout",
     "output_type": "stream",
     "text": [
      "2\n"
     ]
    },
    {
     "data": {
      "text/plain": [
       "<matplotlib.image.AxesImage at 0x7f17973115f8>"
      ]
     },
     "execution_count": 9,
     "metadata": {},
     "output_type": "execute_result"
    },
    {
     "data": {
      "image/png": "[encoded data removed]",
      "text/plain": [
       "<Figure size 432x288 with 1 Axes>"
      ]
     },
     "metadata": {
      "needs_background": "light"
     },
     "output_type": "display_data"
    }
   ],
   "source": [
    "image_index = 7776 # You may select anything up to 60,000\n",
    "print(train_labels[image_index]) \n",
    "plt.imshow(train_images[image_index], cmap='Greys')"
   ]
  },
  {
   "cell_type": "markdown",
   "id": "a8d2388d",
   "metadata": {
    "papermill": {
     "duration": 0.030887,
     "end_time": "2022-03-10T20:10:50.087173",
     "exception": false,
     "start_time": "2022-03-10T20:10:50.056286",
     "status": "completed"
    },
    "tags": []
   },
   "source": [
    "## Filter data to get 3 and 8 out"
   ]
  },
  {
   "cell_type": "code",
   "execution_count": 10,
   "id": "776f7fc7",
   "metadata": {
    "execution": {
     "iopub.execute_input": "2022-03-10T20:10:50.164602Z",
     "iopub.status.busy": "2022-03-10T20:10:50.163960Z",
     "iopub.status.idle": "2022-03-10T20:10:50.192192Z",
     "shell.execute_reply": "2022-03-10T20:10:50.191572Z"
    },
    "papermill": {
     "duration": 0.068378,
     "end_time": "2022-03-10T20:10:50.192335",
     "exception": false,
     "start_time": "2022-03-10T20:10:50.123957",
     "status": "completed"
    },
    "tags": []
   },
   "outputs": [],
   "source": [
    "train_filter = np.where((train_labels == 3 ) | (train_labels == 8))\n",
    "test_filter = np.where((test_labels == 3) | (test_labels == 8))\n",
    "X_train, y_train = train_images[train_filter], train_labels[train_filter]\n",
    "X_test, y_test = test_images[test_filter], test_labels[test_filter]"
   ]
  },
  {
   "cell_type": "markdown",
   "id": "948f0b7e",
   "metadata": {
    "papermill": {
     "duration": 0.034177,
     "end_time": "2022-03-10T20:10:50.262172",
     "exception": false,
     "start_time": "2022-03-10T20:10:50.227995",
     "status": "completed"
    },
    "tags": []
   },
   "source": [
    "We normalize the pizel values in the 0 to 1 range"
   ]
  },
  {
   "cell_type": "code",
   "execution_count": 11,
   "id": "ee4c2166",
   "metadata": {
    "execution": {
     "iopub.execute_input": "2022-03-10T20:10:50.332178Z",
     "iopub.status.busy": "2022-03-10T20:10:50.331519Z",
     "iopub.status.idle": "2022-03-10T20:10:50.385131Z",
     "shell.execute_reply": "2022-03-10T20:10:50.384541Z"
    },
    "papermill": {
     "duration": 0.089532,
     "end_time": "2022-03-10T20:10:50.385282",
     "exception": false,
     "start_time": "2022-03-10T20:10:50.295750",
     "status": "completed"
    },
    "tags": []
   },
   "outputs": [],
   "source": [
    "X_train = X_train/255.\n",
    "X_test = X_test/255."
   ]
  },
  {
   "cell_type": "markdown",
   "id": "ddcf4fab",
   "metadata": {
    "papermill": {
     "duration": 0.033946,
     "end_time": "2022-03-10T20:10:50.452071",
     "exception": false,
     "start_time": "2022-03-10T20:10:50.418125",
     "status": "completed"
    },
    "tags": []
   },
   "source": [
    "And setup the labels as 1 (when the digit is 3) and 0 (when the digit is 8)"
   ]
  },
  {
   "cell_type": "code",
   "execution_count": 12,
   "id": "7dc908f2",
   "metadata": {
    "execution": {
     "iopub.execute_input": "2022-03-10T20:10:50.519274Z",
     "iopub.status.busy": "2022-03-10T20:10:50.518648Z",
     "iopub.status.idle": "2022-03-10T20:10:50.534507Z",
     "shell.execute_reply": "2022-03-10T20:10:50.533829Z"
    },
    "papermill": {
     "duration": 0.050412,
     "end_time": "2022-03-10T20:10:50.534651",
     "exception": false,
     "start_time": "2022-03-10T20:10:50.484239",
     "status": "completed"
    },
    "tags": []
   },
   "outputs": [],
   "source": [
    "y_train = 1*(y_train==3)\n",
    "y_test = 1*(y_test==3)"
   ]
  },
  {
   "cell_type": "code",
   "execution_count": 13,
   "id": "01e4e969",
   "metadata": {
    "execution": {
     "iopub.execute_input": "2022-03-10T20:10:50.602387Z",
     "iopub.status.busy": "2022-03-10T20:10:50.601741Z",
     "iopub.status.idle": "2022-03-10T20:10:50.619630Z",
     "shell.execute_reply": "2022-03-10T20:10:50.620131Z"
    },
    "papermill": {
     "duration": 0.054673,
     "end_time": "2022-03-10T20:10:50.620297",
     "exception": false,
     "start_time": "2022-03-10T20:10:50.565624",
     "status": "completed"
    },
    "tags": []
   },
   "outputs": [
    {
     "data": {
      "text/plain": [
       "((11982, 28, 28), (1984, 28, 28))"
      ]
     },
     "execution_count": 13,
     "metadata": {},
     "output_type": "execute_result"
    }
   ],
   "source": [
    "X_train.shape, X_test.shape"
   ]
  },
  {
   "cell_type": "markdown",
   "id": "5ccf3f85",
   "metadata": {
    "papermill": {
     "duration": 0.030256,
     "end_time": "2022-03-10T20:10:50.684304",
     "exception": false,
     "start_time": "2022-03-10T20:10:50.654048",
     "status": "completed"
    },
    "tags": []
   },
   "source": [
    "We reshape the data to flatten the image pixels into a set of features or co-variates:"
   ]
  },
  {
   "cell_type": "code",
   "execution_count": 14,
   "id": "5286a4a3",
   "metadata": {
    "execution": {
     "iopub.execute_input": "2022-03-10T20:10:50.757654Z",
     "iopub.status.busy": "2022-03-10T20:10:50.752133Z",
     "iopub.status.idle": "2022-03-10T20:10:50.767504Z",
     "shell.execute_reply": "2022-03-10T20:10:50.766991Z"
    },
    "papermill": {
     "duration": 0.052259,
     "end_time": "2022-03-10T20:10:50.767632",
     "exception": false,
     "start_time": "2022-03-10T20:10:50.715373",
     "status": "completed"
    },
    "tags": []
   },
   "outputs": [
    {
     "data": {
      "text/plain": [
       "((11982, 784), (1984, 784))"
      ]
     },
     "execution_count": 14,
     "metadata": {},
     "output_type": "execute_result"
    }
   ],
   "source": [
    "X_train = X_train.reshape(X_train.shape[0], -1)\n",
    "X_test = X_test.reshape(X_test.shape[0], -1)\n",
    "X_train.shape, X_test.shape"
   ]
  },
  {
   "cell_type": "code",
   "execution_count": 15,
   "id": "73c5f88a",
   "metadata": {
    "execution": {
     "iopub.execute_input": "2022-03-10T20:10:50.838499Z",
     "iopub.status.busy": "2022-03-10T20:10:50.837880Z",
     "iopub.status.idle": "2022-03-10T20:10:50.859079Z",
     "shell.execute_reply": "2022-03-10T20:10:50.858577Z"
    },
    "papermill": {
     "duration": 0.060802,
     "end_time": "2022-03-10T20:10:50.859214",
     "exception": false,
     "start_time": "2022-03-10T20:10:50.798412",
     "status": "completed"
    },
    "tags": []
   },
   "outputs": [],
   "source": [
    "#Impoting functions from 'Kudzu'\n",
    "from kudzu.model import Model\n",
    "from kudzu.train import Learner\n",
    "from kudzu.optim import GD\n",
    "from kudzu.data import Data, Sampler,Dataloader\n",
    "\n",
    "from kudzu.callbacks import AccCallback\n",
    "from kudzu.callbacks import ClfCallback\n",
    "\n",
    "from kudzu.loss import MSE\n",
    "\n",
    "from kudzu.layer import Sigmoid,Relu\n",
    "from kudzu.layer import Affine"
   ]
  },
  {
   "cell_type": "markdown",
   "id": "bc01172a",
   "metadata": {
    "papermill": {
     "duration": 0.030939,
     "end_time": "2022-03-10T20:10:50.920849",
     "exception": false,
     "start_time": "2022-03-10T20:10:50.889910",
     "status": "completed"
    },
    "tags": []
   },
   "source": [
    "### Let us create a `Config` class, to store important parameters. \n",
    "This class essentially plays the role of a dictionary."
   ]
  },
  {
   "cell_type": "code",
   "execution_count": 16,
   "id": "978281aa",
   "metadata": {
    "execution": {
     "iopub.execute_input": "2022-03-10T20:10:50.987540Z",
     "iopub.status.busy": "2022-03-10T20:10:50.986914Z",
     "iopub.status.idle": "2022-03-10T20:10:51.000847Z",
     "shell.execute_reply": "2022-03-10T20:10:51.001344Z"
    },
    "papermill": {
     "duration": 0.05003,
     "end_time": "2022-03-10T20:10:51.001502",
     "exception": false,
     "start_time": "2022-03-10T20:10:50.951472",
     "status": "completed"
    },
    "tags": []
   },
   "outputs": [],
   "source": [
    "class Config:\n",
    "    pass\n",
    "config = Config()\n",
    "config.lr = 0.001\n",
    "config.num_epochs = 250\n",
    "config.bs = 50"
   ]
  },
  {
   "cell_type": "markdown",
   "id": "1385fa59",
   "metadata": {
    "papermill": {
     "duration": 0.030813,
     "end_time": "2022-03-10T20:10:51.063750",
     "exception": false,
     "start_time": "2022-03-10T20:10:51.032937",
     "status": "completed"
    },
    "tags": []
   },
   "source": [
    "### Running Models with the Training data\n",
    "Details about the network layers:\n",
    "- A first affine layer has 784 inputs and does 100 affine transforms. These are followed by a Relu\n",
    "- A second affine layer has 100 inputs from the 100 activations of the past layer, and does 100 affine transforms. These are followed by a Relu\n",
    "- A third affine layer has 100 activations and does 2 affine transformations to create an embedding for visualization. There is no non-linearity here.\n",
    "- A final \"logistic regression\" which has an affine transform from 2 inputs to 1 output, which is squeezed through a sigmoid.\n"
   ]
  },
  {
   "cell_type": "code",
   "execution_count": 17,
   "id": "2b9c66db",
   "metadata": {
    "execution": {
     "iopub.execute_input": "2022-03-10T20:10:51.130788Z",
     "iopub.status.busy": "2022-03-10T20:10:51.130085Z",
     "iopub.status.idle": "2022-03-10T20:10:51.146825Z",
     "shell.execute_reply": "2022-03-10T20:10:51.145607Z"
    },
    "papermill": {
     "duration": 0.052326,
     "end_time": "2022-03-10T20:10:51.146969",
     "exception": false,
     "start_time": "2022-03-10T20:10:51.094643",
     "status": "completed"
    },
    "tags": []
   },
   "outputs": [],
   "source": [
    "data = Data(X_train, y_train.reshape(-1,1))\n",
    "sampler = Sampler(data, config.bs, shuffle=True)\n",
    "\n",
    "dl = Dataloader(data, sampler)\n",
    "\n",
    "opt = GD(config.lr)\n",
    "loss = MSE()"
   ]
  },
  {
   "cell_type": "code",
   "execution_count": 18,
   "id": "b275e4c2",
   "metadata": {
    "execution": {
     "iopub.execute_input": "2022-03-10T20:10:51.216716Z",
     "iopub.status.busy": "2022-03-10T20:10:51.213442Z",
     "iopub.status.idle": "2022-03-10T20:10:51.228675Z",
     "shell.execute_reply": "2022-03-10T20:10:51.229149Z"
    },
    "papermill": {
     "duration": 0.05135,
     "end_time": "2022-03-10T20:10:51.229314",
     "exception": false,
     "start_time": "2022-03-10T20:10:51.177964",
     "status": "completed"
    },
    "tags": []
   },
   "outputs": [],
   "source": [
    "training_data_x = X_train\n",
    "testing_data_x = X_test\n",
    "training_data_y = y_train.reshape(-1,1)\n",
    "testing_data_y = y_test.reshape(-1,1)"
   ]
  },
  {
   "cell_type": "code",
   "execution_count": 19,
   "id": "76951160",
   "metadata": {
    "execution": {
     "iopub.execute_input": "2022-03-10T20:10:51.296269Z",
     "iopub.status.busy": "2022-03-10T20:10:51.295602Z",
     "iopub.status.idle": "2022-03-10T20:10:51.314593Z",
     "shell.execute_reply": "2022-03-10T20:10:51.314077Z"
    },
    "papermill": {
     "duration": 0.054665,
     "end_time": "2022-03-10T20:10:51.314727",
     "exception": false,
     "start_time": "2022-03-10T20:10:51.260062",
     "status": "completed"
    },
    "tags": []
   },
   "outputs": [
    {
     "name": "stdout",
     "output_type": "stream",
     "text": [
      "xavier\n",
      "xavier\n",
      "xavier\n",
      "xavier\n",
      "xavier\n"
     ]
    }
   ],
   "source": [
    "layers = [Affine(\"first\", 784, 100), Relu(\"first\"), Affine(\"second\", 100, 100), Relu(\"second\"), Affine(\"third\", 100, 2), Affine(\"last\", 2, 1), Sigmoid(\"last\")]\n",
    "model_nn = Model(layers)\n",
    "model_lr = Model([Affine(\"logits\", 784, 1), Sigmoid(\"sigmoid\")])"
   ]
  },
  {
   "cell_type": "code",
   "execution_count": 20,
   "id": "6eede77a",
   "metadata": {
    "execution": {
     "iopub.execute_input": "2022-03-10T20:10:51.382712Z",
     "iopub.status.busy": "2022-03-10T20:10:51.382095Z",
     "iopub.status.idle": "2022-03-10T20:10:51.399042Z",
     "shell.execute_reply": "2022-03-10T20:10:51.398537Z"
    },
    "papermill": {
     "duration": 0.053175,
     "end_time": "2022-03-10T20:10:51.399179",
     "exception": false,
     "start_time": "2022-03-10T20:10:51.346004",
     "status": "completed"
    },
    "tags": []
   },
   "outputs": [],
   "source": [
    "nn_learner = Learner(loss, model_nn, opt, config.num_epochs)\n",
    "acc_nn = ClfCallback(nn_learner, config.bs, training_data_x , testing_data_x, training_data_y, testing_data_y)\n",
    "nn_learner.set_callbacks([acc_nn])"
   ]
  },
  {
   "cell_type": "code",
   "execution_count": 21,
   "id": "877b6cc7",
   "metadata": {
    "execution": {
     "iopub.execute_input": "2022-03-10T20:10:51.466735Z",
     "iopub.status.busy": "2022-03-10T20:10:51.466130Z",
     "iopub.status.idle": "2022-03-10T20:10:51.479756Z",
     "shell.execute_reply": "2022-03-10T20:10:51.480255Z"
    },
    "papermill": {
     "duration": 0.050037,
     "end_time": "2022-03-10T20:10:51.480414",
     "exception": false,
     "start_time": "2022-03-10T20:10:51.430377",
     "status": "completed"
    },
    "tags": []
   },
   "outputs": [],
   "source": [
    "lr_learner = Learner(loss, model_lr, opt, config.num_epochs)\n",
    "acc_lr = ClfCallback(lr_learner, config.bs, training_data_x , testing_data_x, training_data_y, testing_data_y)\n",
    "lr_learner.set_callbacks([acc_lr])"
   ]
  },
  {
   "cell_type": "code",
   "execution_count": 22,
   "id": "d9b133c3",
   "metadata": {
    "execution": {
     "iopub.execute_input": "2022-03-10T20:10:51.548139Z",
     "iopub.status.busy": "2022-03-10T20:10:51.547504Z",
     "iopub.status.idle": "2022-03-10T20:12:23.104136Z",
     "shell.execute_reply": "2022-03-10T20:12:23.105005Z"
    },
    "papermill": {
     "duration": 91.593625,
     "end_time": "2022-03-10T20:12:23.105175",
     "exception": false,
     "start_time": "2022-03-10T20:10:51.511550",
     "status": "completed"
    },
    "tags": []
   },
   "outputs": [
    {
     "name": "stdout",
     "output_type": "stream",
     "text": [
      "Epoch 0, Loss 0.2518\n",
      "Training Accuracy: 0.5461, Testing Accuracy: 0.5605\n",
      "\n"
     ]
    },
    {
     "name": "stdout",
     "output_type": "stream",
     "text": [
      "Epoch 10, Loss 0.1499\n",
      "Training Accuracy: 0.9018, Testing Accuracy: 0.9098\n",
      "\n"
     ]
    },
    {
     "name": "stdout",
     "output_type": "stream",
     "text": [
      "Epoch 20, Loss 0.0747\n",
      "Training Accuracy: 0.9292, Testing Accuracy: 0.9390\n",
      "\n"
     ]
    },
    {
     "name": "stdout",
     "output_type": "stream",
     "text": [
      "Epoch 30, Loss 0.0525\n",
      "Training Accuracy: 0.9439, Testing Accuracy: 0.9561\n",
      "\n"
     ]
    },
    {
     "name": "stdout",
     "output_type": "stream",
     "text": [
      "Epoch 40, Loss 0.043\n",
      "Training Accuracy: 0.9517, Testing Accuracy: 0.9607\n",
      "\n"
     ]
    },
    {
     "name": "stdout",
     "output_type": "stream",
     "text": [
      "Epoch 50, Loss 0.0379\n",
      "Training Accuracy: 0.9565, Testing Accuracy: 0.9647\n",
      "\n"
     ]
    },
    {
     "name": "stdout",
     "output_type": "stream",
     "text": [
      "Epoch 60, Loss 0.0347\n",
      "Training Accuracy: 0.9599, Testing Accuracy: 0.9667\n",
      "\n"
     ]
    },
    {
     "name": "stdout",
     "output_type": "stream",
     "text": [
      "Epoch 70, Loss 0.0323\n",
      "Training Accuracy: 0.9621, Testing Accuracy: 0.9682\n",
      "\n"
     ]
    },
    {
     "name": "stdout",
     "output_type": "stream",
     "text": [
      "Epoch 80, Loss 0.0306\n",
      "Training Accuracy: 0.9647, Testing Accuracy: 0.9708\n",
      "\n"
     ]
    },
    {
     "name": "stdout",
     "output_type": "stream",
     "text": [
      "Epoch 90, Loss 0.0292\n",
      "Training Accuracy: 0.9659, Testing Accuracy: 0.9723\n",
      "\n"
     ]
    },
    {
     "name": "stdout",
     "output_type": "stream",
     "text": [
      "Epoch 100, Loss 0.028\n",
      "Training Accuracy: 0.9674, Testing Accuracy: 0.9723\n",
      "\n"
     ]
    },
    {
     "name": "stdout",
     "output_type": "stream",
     "text": [
      "Epoch 110, Loss 0.027\n",
      "Training Accuracy: 0.9689, Testing Accuracy: 0.9718\n",
      "\n"
     ]
    },
    {
     "name": "stdout",
     "output_type": "stream",
     "text": [
      "Epoch 120, Loss 0.0261\n",
      "Training Accuracy: 0.9700, Testing Accuracy: 0.9718\n",
      "\n"
     ]
    },
    {
     "name": "stdout",
     "output_type": "stream",
     "text": [
      "Epoch 130, Loss 0.0253\n",
      "Training Accuracy: 0.9710, Testing Accuracy: 0.9728\n",
      "\n"
     ]
    },
    {
     "name": "stdout",
     "output_type": "stream",
     "text": [
      "Epoch 140, Loss 0.0246\n",
      "Training Accuracy: 0.9715, Testing Accuracy: 0.9728\n",
      "\n"
     ]
    },
    {
     "name": "stdout",
     "output_type": "stream",
     "text": [
      "Epoch 150, Loss 0.024\n",
      "Training Accuracy: 0.9725, Testing Accuracy: 0.9743\n",
      "\n"
     ]
    },
    {
     "name": "stdout",
     "output_type": "stream",
     "text": [
      "Epoch 160, Loss 0.0234\n",
      "Training Accuracy: 0.9734, Testing Accuracy: 0.9733\n",
      "\n"
     ]
    },
    {
     "name": "stdout",
     "output_type": "stream",
     "text": [
      "Epoch 170, Loss 0.0229\n",
      "Training Accuracy: 0.9740, Testing Accuracy: 0.9743\n",
      "\n"
     ]
    },
    {
     "name": "stdout",
     "output_type": "stream",
     "text": [
      "Epoch 180, Loss 0.0224\n",
      "Training Accuracy: 0.9749, Testing Accuracy: 0.9743\n",
      "\n"
     ]
    },
    {
     "name": "stdout",
     "output_type": "stream",
     "text": [
      "Epoch 190, Loss 0.0219\n",
      "Training Accuracy: 0.9752, Testing Accuracy: 0.9743\n",
      "\n"
     ]
    },
    {
     "name": "stdout",
     "output_type": "stream",
     "text": [
      "Epoch 200, Loss 0.0215\n",
      "Training Accuracy: 0.9755, Testing Accuracy: 0.9738\n",
      "\n"
     ]
    },
    {
     "name": "stdout",
     "output_type": "stream",
     "text": [
      "Epoch 210, Loss 0.0211\n",
      "Training Accuracy: 0.9762, Testing Accuracy: 0.9743\n",
      "\n"
     ]
    },
    {
     "name": "stdout",
     "output_type": "stream",
     "text": [
      "Epoch 220, Loss 0.0207\n",
      "Training Accuracy: 0.9765, Testing Accuracy: 0.9748\n",
      "\n"
     ]
    },
    {
     "name": "stdout",
     "output_type": "stream",
     "text": [
      "Epoch 230, Loss 0.0203\n",
      "Training Accuracy: 0.9769, Testing Accuracy: 0.9748\n",
      "\n"
     ]
    },
    {
     "name": "stdout",
     "output_type": "stream",
     "text": [
      "Epoch 240, Loss 0.02\n",
      "Training Accuracy: 0.9772, Testing Accuracy: 0.9748\n",
      "\n"
     ]
    },
    {
     "data": {
      "text/plain": [
       "0.04281282784687867"
      ]
     },
     "execution_count": 22,
     "metadata": {},
     "output_type": "execute_result"
    }
   ],
   "source": [
    "nn_learner.train_loop(dl)"
   ]
  },
  {
   "cell_type": "code",
   "execution_count": 23,
   "id": "e0163366",
   "metadata": {
    "execution": {
     "iopub.execute_input": "2022-03-10T20:12:23.194088Z",
     "iopub.status.busy": "2022-03-10T20:12:23.193447Z",
     "iopub.status.idle": "2022-03-10T20:12:39.302427Z",
     "shell.execute_reply": "2022-03-10T20:12:39.303309Z"
    },
    "papermill": {
     "duration": 16.158372,
     "end_time": "2022-03-10T20:12:39.303483",
     "exception": false,
     "start_time": "2022-03-10T20:12:23.145111",
     "status": "completed"
    },
    "tags": []
   },
   "outputs": [
    {
     "name": "stdout",
     "output_type": "stream",
     "text": [
      "Epoch 0, Loss 0.2444\n",
      "Training Accuracy: 0.6749, Testing Accuracy: 0.6830\n",
      "\n"
     ]
    },
    {
     "name": "stdout",
     "output_type": "stream",
     "text": [
      "Epoch 10, Loss 0.1048\n",
      "Training Accuracy: 0.9063, Testing Accuracy: 0.9103\n",
      "\n"
     ]
    },
    {
     "name": "stdout",
     "output_type": "stream",
     "text": [
      "Epoch 20, Loss 0.0797\n",
      "Training Accuracy: 0.9284, Testing Accuracy: 0.9360\n",
      "\n"
     ]
    },
    {
     "name": "stdout",
     "output_type": "stream",
     "text": [
      "Epoch 30, Loss 0.0682\n",
      "Training Accuracy: 0.9376, Testing Accuracy: 0.9486\n",
      "\n"
     ]
    },
    {
     "name": "stdout",
     "output_type": "stream",
     "text": [
      "Epoch 40, Loss 0.0615\n",
      "Training Accuracy: 0.9437, Testing Accuracy: 0.9541\n",
      "\n"
     ]
    },
    {
     "name": "stdout",
     "output_type": "stream",
     "text": [
      "Epoch 50, Loss 0.0569\n",
      "Training Accuracy: 0.9453, Testing Accuracy: 0.9572\n",
      "\n"
     ]
    },
    {
     "name": "stdout",
     "output_type": "stream",
     "text": [
      "Epoch 60, Loss 0.0536\n",
      "Training Accuracy: 0.9480, Testing Accuracy: 0.9607\n",
      "\n"
     ]
    },
    {
     "name": "stdout",
     "output_type": "stream",
     "text": [
      "Epoch 70, Loss 0.0511\n",
      "Training Accuracy: 0.9499, Testing Accuracy: 0.9617\n",
      "\n"
     ]
    },
    {
     "name": "stdout",
     "output_type": "stream",
     "text": [
      "Epoch 80, Loss 0.049\n",
      "Training Accuracy: 0.9507, Testing Accuracy: 0.9622\n",
      "\n"
     ]
    },
    {
     "name": "stdout",
     "output_type": "stream",
     "text": [
      "Epoch 90, Loss 0.0474\n",
      "Training Accuracy: 0.9517, Testing Accuracy: 0.9637\n",
      "\n"
     ]
    },
    {
     "name": "stdout",
     "output_type": "stream",
     "text": [
      "Epoch 100, Loss 0.046\n",
      "Training Accuracy: 0.9531, Testing Accuracy: 0.9637\n",
      "\n"
     ]
    },
    {
     "name": "stdout",
     "output_type": "stream",
     "text": [
      "Epoch 110, Loss 0.0448\n",
      "Training Accuracy: 0.9538, Testing Accuracy: 0.9652\n",
      "\n"
     ]
    },
    {
     "name": "stdout",
     "output_type": "stream",
     "text": [
      "Epoch 120, Loss 0.0437\n",
      "Training Accuracy: 0.9547, Testing Accuracy: 0.9657\n",
      "\n"
     ]
    },
    {
     "name": "stdout",
     "output_type": "stream",
     "text": [
      "Epoch 130, Loss 0.0428\n",
      "Training Accuracy: 0.9553, Testing Accuracy: 0.9657\n",
      "\n"
     ]
    },
    {
     "name": "stdout",
     "output_type": "stream",
     "text": [
      "Epoch 140, Loss 0.042\n",
      "Training Accuracy: 0.9559, Testing Accuracy: 0.9662\n",
      "\n"
     ]
    },
    {
     "name": "stdout",
     "output_type": "stream",
     "text": [
      "Epoch 150, Loss 0.0413\n",
      "Training Accuracy: 0.9561, Testing Accuracy: 0.9677\n",
      "\n"
     ]
    },
    {
     "name": "stdout",
     "output_type": "stream",
     "text": [
      "Epoch 160, Loss 0.0406\n",
      "Training Accuracy: 0.9569, Testing Accuracy: 0.9677\n",
      "\n"
     ]
    },
    {
     "name": "stdout",
     "output_type": "stream",
     "text": [
      "Epoch 170, Loss 0.04\n",
      "Training Accuracy: 0.9577, Testing Accuracy: 0.9677\n",
      "\n"
     ]
    },
    {
     "name": "stdout",
     "output_type": "stream",
     "text": [
      "Epoch 180, Loss 0.0395\n",
      "Training Accuracy: 0.9581, Testing Accuracy: 0.9677\n",
      "\n"
     ]
    },
    {
     "name": "stdout",
     "output_type": "stream",
     "text": [
      "Epoch 190, Loss 0.039\n",
      "Training Accuracy: 0.9585, Testing Accuracy: 0.9672\n",
      "\n"
     ]
    },
    {
     "name": "stdout",
     "output_type": "stream",
     "text": [
      "Epoch 200, Loss 0.0385\n",
      "Training Accuracy: 0.9589, Testing Accuracy: 0.9672\n",
      "\n"
     ]
    },
    {
     "name": "stdout",
     "output_type": "stream",
     "text": [
      "Epoch 210, Loss 0.0381\n",
      "Training Accuracy: 0.9590, Testing Accuracy: 0.9672\n",
      "\n"
     ]
    },
    {
     "name": "stdout",
     "output_type": "stream",
     "text": [
      "Epoch 220, Loss 0.0377\n",
      "Training Accuracy: 0.9597, Testing Accuracy: 0.9667\n",
      "\n"
     ]
    },
    {
     "name": "stdout",
     "output_type": "stream",
     "text": [
      "Epoch 230, Loss 0.0373\n",
      "Training Accuracy: 0.9600, Testing Accuracy: 0.9677\n",
      "\n"
     ]
    },
    {
     "name": "stdout",
     "output_type": "stream",
     "text": [
      "Epoch 240, Loss 0.0369\n",
      "Training Accuracy: 0.9602, Testing Accuracy: 0.9672\n",
      "\n"
     ]
    },
    {
     "data": {
      "text/plain": [
       "0.061616786195571"
      ]
     },
     "execution_count": 23,
     "metadata": {},
     "output_type": "execute_result"
    }
   ],
   "source": [
    "lr_learner.train_loop(dl)"
   ]
  },
  {
   "cell_type": "code",
   "execution_count": 24,
   "id": "ca410940",
   "metadata": {
    "execution": {
     "iopub.execute_input": "2022-03-10T20:12:39.413511Z",
     "iopub.status.busy": "2022-03-10T20:12:39.412868Z",
     "iopub.status.idle": "2022-03-10T20:12:39.664329Z",
     "shell.execute_reply": "2022-03-10T20:12:39.663736Z"
    },
    "papermill": {
     "duration": 0.313447,
     "end_time": "2022-03-10T20:12:39.664474",
     "exception": false,
     "start_time": "2022-03-10T20:12:39.351027",
     "status": "completed"
    },
    "tags": []
   },
   "outputs": [
    {
     "data": {
      "text/plain": [
       "<matplotlib.legend.Legend at 0x7f178a740d68>"
      ]
     },
     "execution_count": 24,
     "metadata": {},
     "output_type": "execute_result"
    },
    {
     "data": {
      "image/png": "[encoded data removed]",
      "text/plain": [
       "<Figure size 1080x720 with 1 Axes>"
      ]
     },
     "metadata": {
      "needs_background": "light"
     },
     "output_type": "display_data"
    }
   ],
   "source": [
    "#comparing the results of NN and LR\n",
    "plt.figure(figsize=(15,10))\n",
    "\n",
    "# Neural Network plots\n",
    "plt.plot(acc_nn.accuracies, 'r-', label = \"Training Accuracies - NN\")\n",
    "plt.plot(acc_nn.test_accuracies, 'g-', label = \"Testing Accuracies - NN\")\n",
    "\n",
    "# Logistic Regression plots\n",
    "plt.plot(acc_lr.accuracies, 'k-', label = \"Training Accuracies - LR\")\n",
    "plt.plot(acc_lr.test_accuracies, 'b-', label = \"Testing Accuracies - LR\")\n",
    "plt.legend()"
   ]
  },
  {
   "cell_type": "markdown",
   "id": "80dfb35c",
   "metadata": {
    "papermill": {
     "duration": 0.04807,
     "end_time": "2022-03-10T20:12:39.762025",
     "exception": false,
     "start_time": "2022-03-10T20:12:39.713955",
     "status": "completed"
    },
    "tags": []
   },
   "source": [
    "#### Plotting the outputs of this layer of the NN.\n"
   ]
  },
  {
   "cell_type": "code",
   "execution_count": 25,
   "id": "45eb2ff5",
   "metadata": {
    "execution": {
     "iopub.execute_input": "2022-03-10T20:12:39.865272Z",
     "iopub.status.busy": "2022-03-10T20:12:39.864426Z",
     "iopub.status.idle": "2022-03-10T20:12:39.886876Z",
     "shell.execute_reply": "2022-03-10T20:12:39.887407Z"
    },
    "papermill": {
     "duration": 0.077559,
     "end_time": "2022-03-10T20:12:39.887575",
     "exception": false,
     "start_time": "2022-03-10T20:12:39.810016",
     "status": "completed"
    },
    "tags": []
   },
   "outputs": [],
   "source": [
    "new_model = Model(layers[:-2])\n",
    "testing_plot = new_model(testing_data_x)"
   ]
  },
  {
   "cell_type": "code",
   "execution_count": 26,
   "id": "4c0a5485",
   "metadata": {
    "execution": {
     "iopub.execute_input": "2022-03-10T20:12:40.003976Z",
     "iopub.status.busy": "2022-03-10T20:12:39.998473Z",
     "iopub.status.idle": "2022-03-10T20:12:40.239344Z",
     "shell.execute_reply": "2022-03-10T20:12:40.238808Z"
    },
    "papermill": {
     "duration": 0.300077,
     "end_time": "2022-03-10T20:12:40.239480",
     "exception": false,
     "start_time": "2022-03-10T20:12:39.939403",
     "status": "completed"
    },
    "tags": []
   },
   "outputs": [
    {
     "data": {
      "text/plain": [
       "Text(0.5, 1.0, 'Outputs')"
      ]
     },
     "execution_count": 26,
     "metadata": {},
     "output_type": "execute_result"
    },
    {
     "data": {
      "image/png": "[encoded data removed]",
      "text/plain": [
       "<Figure size 576x504 with 1 Axes>"
      ]
     },
     "metadata": {
      "needs_background": "light"
     },
     "output_type": "display_data"
    }
   ],
   "source": [
    "# Plotting the scatter plot of points and color coding by class\n",
    "plt.figure(figsize=(8,7))\n",
    "plt.scatter(testing_plot[:,0], testing_plot[:,1], alpha = 0.1, c = y_test.ravel());\n",
    "plt.title('Outputs')"
   ]
  },
  {
   "cell_type": "markdown",
   "id": "a74fcf8f",
   "metadata": {
    "papermill": {
     "duration": 0.05035,
     "end_time": "2022-03-10T20:12:40.340568",
     "exception": false,
     "start_time": "2022-03-10T20:12:40.290218",
     "status": "completed"
    },
    "tags": []
   },
   "source": [
    "Probability contours"
   ]
  },
  {
   "cell_type": "code",
   "execution_count": 27,
   "id": "d0afc8e3",
   "metadata": {
    "execution": {
     "iopub.execute_input": "2022-03-10T20:12:40.479366Z",
     "iopub.status.busy": "2022-03-10T20:12:40.478763Z",
     "iopub.status.idle": "2022-03-10T20:12:40.495466Z",
     "shell.execute_reply": "2022-03-10T20:12:40.494920Z"
    },
    "papermill": {
     "duration": 0.104306,
     "end_time": "2022-03-10T20:12:40.495603",
     "exception": false,
     "start_time": "2022-03-10T20:12:40.391297",
     "status": "completed"
    },
    "tags": []
   },
   "outputs": [],
   "source": [
    "model_prob = Model(layers[-2:]) "
   ]
  },
  {
   "cell_type": "code",
   "execution_count": 28,
   "id": "9b96e238",
   "metadata": {
    "execution": {
     "iopub.execute_input": "2022-03-10T20:12:40.609139Z",
     "iopub.status.busy": "2022-03-10T20:12:40.608462Z",
     "iopub.status.idle": "2022-03-10T20:12:40.628804Z",
     "shell.execute_reply": "2022-03-10T20:12:40.629300Z"
    },
    "papermill": {
     "duration": 0.081181,
     "end_time": "2022-03-10T20:12:40.629472",
     "exception": false,
     "start_time": "2022-03-10T20:12:40.548291",
     "status": "completed"
    },
    "tags": []
   },
   "outputs": [],
   "source": [
    "#creating the x and y ranges according to the above generated plot.\n",
    "x_range = np.linspace(-4, 1, 100) \n",
    "y_range = np.linspace(-6, 6, 100) \n",
    "x_grid, y_grid = np.meshgrid(x_range, y_range) # x_grid and y_grig are of size 100 X 100\n",
    "\n",
    "# converting x_grid and y_grid to continuous arrays\n",
    "x_gridflat = np.ravel(x_grid)\n",
    "y_gridflat = np.ravel(y_grid)\n",
    "\n",
    "# The last layer of the current model takes two columns as input. Hence transpose of np.vstack() is required.\n",
    "X = np.vstack((x_gridflat, y_gridflat)).T\n",
    "\n",
    "prob_contour = model_prob(X).reshape(100,100) "
   ]
  },
  {
   "cell_type": "code",
   "execution_count": 29,
   "id": "da72499a",
   "metadata": {
    "execution": {
     "iopub.execute_input": "2022-03-10T20:12:40.739844Z",
     "iopub.status.busy": "2022-03-10T20:12:40.738774Z",
     "iopub.status.idle": "2022-03-10T20:12:41.045026Z",
     "shell.execute_reply": "2022-03-10T20:12:41.045512Z"
    },
    "papermill": {
     "duration": 0.365522,
     "end_time": "2022-03-10T20:12:41.045667",
     "exception": false,
     "start_time": "2022-03-10T20:12:40.680145",
     "status": "completed"
    },
    "tags": []
   },
   "outputs": [
    {
     "data": {
      "image/png": "[encoded data removed]",
      "text/plain": [
       "<Figure size 720x648 with 1 Axes>"
      ]
     },
     "metadata": {
      "needs_background": "light"
     },
     "output_type": "display_data"
    }
   ],
   "source": [
    "plt.figure(figsize=(10,9))\n",
    "plt.scatter(testing_plot[:,0], testing_plot[:,1], alpha = 0.1, c = y_test.ravel())\n",
    "contours = plt.contour(x_grid,y_grid,prob_contour)\n",
    "plt.title('Probability Contours')\n",
    "plt.clabel(contours, inline = True );"
   ]
  },
  {
   "cell_type": "code",
   "execution_count": null,
   "id": "e81b4ac7",
   "metadata": {
    "papermill": {
     "duration": 0.053839,
     "end_time": "2022-03-10T20:12:41.155966",
     "exception": false,
     "start_time": "2022-03-10T20:12:41.102127",
     "status": "completed"
    },
    "tags": []
   },
   "outputs": [],
   "source": []
  }
 ],
 "metadata": {
  "kernelspec": {
   "display_name": "Python 3",
   "language": "python",
   "name": "python3"
  },
  "language_info": {
   "codemirror_mode": {
    "name": "ipython",
    "version": 3
   },
   "file_extension": ".py",
   "mimetype": "text/x-python",
   "name": "python",
   "nbconvert_exporter": "python",
   "pygments_lexer": "ipython3",
   "version": "3.6.15"
  },
  "papermill": {
   "default_parameters": {},
   "duration": 118.368749,
   "end_time": "2022-03-10T20:12:41.730903",
   "environment_variables": {},
   "exception": null,
   "input_path": "2020-08-11-part2.ipynb",
   "output_path": "2020-08-11-part2.ipynb",
   "parameters": {},
   "start_time": "2022-03-10T20:10:43.362154",
   "version": "2.3.3"
  }
 },
 "nbformat": 4,
 "nbformat_minor": 5
}