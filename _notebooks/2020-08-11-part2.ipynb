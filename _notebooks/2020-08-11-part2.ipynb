{
 "cells": [
  {
   "cell_type": "markdown",
   "id": "98380cd3",
   "metadata": {
    "papermill": {
     "duration": 0.034686,
     "end_time": "2022-02-07T00:25:17.692411",
     "exception": false,
     "start_time": "2022-02-07T00:25:17.657725",
     "status": "completed"
    },
    "tags": []
   },
   "source": [
    "# Distinguish Your Own Digits (DYOD)"
   ]
  },
  {
   "cell_type": "markdown",
   "id": "ef31240d",
   "metadata": {
    "papermill": {
     "duration": 0.029178,
     "end_time": "2022-02-07T00:25:17.751888",
     "exception": false,
     "start_time": "2022-02-07T00:25:17.722710",
     "status": "completed"
    },
    "tags": []
   },
   "source": [
    "You are going to write a classifier that distinguishes between the number 3 and number 8."
   ]
  },
  {
   "cell_type": "code",
   "execution_count": 1,
   "id": "b15c8646",
   "metadata": {
    "execution": {
     "iopub.execute_input": "2022-02-07T00:25:17.824097Z",
     "iopub.status.busy": "2022-02-07T00:25:17.823370Z",
     "iopub.status.idle": "2022-02-07T00:25:17.836047Z",
     "shell.execute_reply": "2022-02-07T00:25:17.835547Z"
    },
    "papermill": {
     "duration": 0.054875,
     "end_time": "2022-02-07T00:25:17.836194",
     "exception": false,
     "start_time": "2022-02-07T00:25:17.781319",
     "status": "completed"
    },
    "tags": []
   },
   "outputs": [],
   "source": [
    "%load_ext autoreload\n",
    "%autoreload 2"
   ]
  },
  {
   "cell_type": "code",
   "execution_count": 2,
   "id": "22ef38dc",
   "metadata": {
    "execution": {
     "iopub.execute_input": "2022-02-07T00:25:17.901308Z",
     "iopub.status.busy": "2022-02-07T00:25:17.900658Z",
     "iopub.status.idle": "2022-02-07T00:25:18.599014Z",
     "shell.execute_reply": "2022-02-07T00:25:18.598441Z"
    },
    "papermill": {
     "duration": 0.733246,
     "end_time": "2022-02-07T00:25:18.599168",
     "exception": false,
     "start_time": "2022-02-07T00:25:17.865922",
     "status": "completed"
    },
    "tags": []
   },
   "outputs": [],
   "source": [
    "%matplotlib inline\n",
    "import numpy as np\n",
    "import matplotlib.pyplot as plt\n",
    "import pandas as pd"
   ]
  },
  {
   "cell_type": "markdown",
   "id": "ba036198",
   "metadata": {
    "papermill": {
     "duration": 0.028438,
     "end_time": "2022-02-07T00:25:18.655981",
     "exception": false,
     "start_time": "2022-02-07T00:25:18.627543",
     "status": "completed"
    },
    "tags": []
   },
   "source": [
    "From the command line run `pip install mnist`. This is a library that will help you bring down the mnist dataset. If you run this from a notebook, you need to put  `!pip install mnist` in a cell by itself."
   ]
  },
  {
   "cell_type": "code",
   "execution_count": 3,
   "id": "bb6ad8a1",
   "metadata": {
    "execution": {
     "iopub.execute_input": "2022-02-07T00:25:18.719407Z",
     "iopub.status.busy": "2022-02-07T00:25:18.718653Z",
     "iopub.status.idle": "2022-02-07T00:25:20.603216Z",
     "shell.execute_reply": "2022-02-07T00:25:20.603748Z"
    },
    "papermill": {
     "duration": 1.91854,
     "end_time": "2022-02-07T00:25:20.603906",
     "exception": false,
     "start_time": "2022-02-07T00:25:18.685366",
     "status": "completed"
    },
    "tags": []
   },
   "outputs": [
    {
     "name": "stdout",
     "output_type": "stream",
     "text": [
      "Collecting mnist\r\n"
     ]
    },
    {
     "name": "stdout",
     "output_type": "stream",
     "text": [
      "  Downloading mnist-0.2.2-py2.py3-none-any.whl (3.5 kB)\r\n",
      "Requirement already satisfied: numpy in /opt/hostedtoolcache/Python/3.6.15/x64/lib/python3.6/site-packages (from mnist) (1.19.5)\r\n"
     ]
    },
    {
     "name": "stdout",
     "output_type": "stream",
     "text": [
      "Installing collected packages: mnist\r\n"
     ]
    },
    {
     "name": "stdout",
     "output_type": "stream",
     "text": [
      "Successfully installed mnist-0.2.2\r\n"
     ]
    }
   ],
   "source": [
    "!pip install mnist"
   ]
  },
  {
   "cell_type": "markdown",
   "id": "69df9c9a",
   "metadata": {
    "papermill": {
     "duration": 0.028662,
     "end_time": "2022-02-07T00:25:20.661489",
     "exception": false,
     "start_time": "2022-02-07T00:25:20.632827",
     "status": "completed"
    },
    "tags": []
   },
   "source": [
    "## Preparing the Data"
   ]
  },
  {
   "cell_type": "code",
   "execution_count": 4,
   "id": "7f69d806",
   "metadata": {
    "execution": {
     "iopub.execute_input": "2022-02-07T00:25:20.724575Z",
     "iopub.status.busy": "2022-02-07T00:25:20.723892Z",
     "iopub.status.idle": "2022-02-07T00:25:20.738063Z",
     "shell.execute_reply": "2022-02-07T00:25:20.738700Z"
    },
    "papermill": {
     "duration": 0.050109,
     "end_time": "2022-02-07T00:25:20.738899",
     "exception": false,
     "start_time": "2022-02-07T00:25:20.688790",
     "status": "completed"
    },
    "tags": []
   },
   "outputs": [],
   "source": [
    "import mnist"
   ]
  },
  {
   "cell_type": "code",
   "execution_count": 5,
   "id": "a411e44f",
   "metadata": {
    "execution": {
     "iopub.execute_input": "2022-02-07T00:25:20.802363Z",
     "iopub.status.busy": "2022-02-07T00:25:20.801742Z",
     "iopub.status.idle": "2022-02-07T00:25:21.403371Z",
     "shell.execute_reply": "2022-02-07T00:25:21.402794Z"
    },
    "papermill": {
     "duration": 0.63489,
     "end_time": "2022-02-07T00:25:21.403579",
     "exception": false,
     "start_time": "2022-02-07T00:25:20.768689",
     "status": "completed"
    },
    "tags": []
   },
   "outputs": [],
   "source": [
    "train_images = mnist.train_images()\n",
    "train_labels = mnist.train_labels()"
   ]
  },
  {
   "cell_type": "code",
   "execution_count": 6,
   "id": "dceab3a5",
   "metadata": {
    "execution": {
     "iopub.execute_input": "2022-02-07T00:25:21.467476Z",
     "iopub.status.busy": "2022-02-07T00:25:21.466864Z",
     "iopub.status.idle": "2022-02-07T00:25:21.482752Z",
     "shell.execute_reply": "2022-02-07T00:25:21.483216Z"
    },
    "papermill": {
     "duration": 0.049675,
     "end_time": "2022-02-07T00:25:21.483332",
     "exception": false,
     "start_time": "2022-02-07T00:25:21.433657",
     "status": "completed"
    },
    "tags": []
   },
   "outputs": [
    {
     "data": {
      "text/plain": [
       "((60000, 28, 28), (60000,))"
      ]
     },
     "execution_count": 6,
     "metadata": {},
     "output_type": "execute_result"
    }
   ],
   "source": [
    "train_images.shape, train_labels.shape"
   ]
  },
  {
   "cell_type": "code",
   "execution_count": 7,
   "id": "f50dc2bb",
   "metadata": {
    "execution": {
     "iopub.execute_input": "2022-02-07T00:25:21.544292Z",
     "iopub.status.busy": "2022-02-07T00:25:21.543621Z",
     "iopub.status.idle": "2022-02-07T00:25:21.712149Z",
     "shell.execute_reply": "2022-02-07T00:25:21.712847Z"
    },
    "papermill": {
     "duration": 0.20228,
     "end_time": "2022-02-07T00:25:21.713053",
     "exception": false,
     "start_time": "2022-02-07T00:25:21.510773",
     "status": "completed"
    },
    "tags": []
   },
   "outputs": [],
   "source": [
    "test_images = mnist.test_images()\n",
    "test_labels = mnist.test_labels()"
   ]
  },
  {
   "cell_type": "code",
   "execution_count": 8,
   "id": "fc38cf1b",
   "metadata": {
    "execution": {
     "iopub.execute_input": "2022-02-07T00:25:21.776002Z",
     "iopub.status.busy": "2022-02-07T00:25:21.775301Z",
     "iopub.status.idle": "2022-02-07T00:25:21.789567Z",
     "shell.execute_reply": "2022-02-07T00:25:21.789013Z"
    },
    "papermill": {
     "duration": 0.048101,
     "end_time": "2022-02-07T00:25:21.789684",
     "exception": false,
     "start_time": "2022-02-07T00:25:21.741583",
     "status": "completed"
    },
    "tags": []
   },
   "outputs": [
    {
     "data": {
      "text/plain": [
       "((10000, 28, 28), (10000,))"
      ]
     },
     "execution_count": 8,
     "metadata": {},
     "output_type": "execute_result"
    }
   ],
   "source": [
    "test_images.shape, test_labels.shape"
   ]
  },
  {
   "cell_type": "code",
   "execution_count": 9,
   "id": "f9ed8fe0",
   "metadata": {
    "execution": {
     "iopub.execute_input": "2022-02-07T00:25:21.854027Z",
     "iopub.status.busy": "2022-02-07T00:25:21.853368Z",
     "iopub.status.idle": "2022-02-07T00:25:22.030992Z",
     "shell.execute_reply": "2022-02-07T00:25:22.031995Z"
    },
    "papermill": {
     "duration": 0.214403,
     "end_time": "2022-02-07T00:25:22.032149",
     "exception": false,
     "start_time": "2022-02-07T00:25:21.817746",
     "status": "completed"
    },
    "tags": []
   },
   "outputs": [
    {
     "name": "stdout",
     "output_type": "stream",
     "text": [
      "2\n"
     ]
    },
    {
     "data": {
      "text/plain": [
       "<matplotlib.image.AxesImage at 0x7fe6142dbc88>"
      ]
     },
     "execution_count": 9,
     "metadata": {},
     "output_type": "execute_result"
    },
    {
     "data": {
      "image/png": "[encoded data removed]",
      "text/plain": [
       "<Figure size 432x288 with 1 Axes>"
      ]
     },
     "metadata": {
      "needs_background": "light"
     },
     "output_type": "display_data"
    }
   ],
   "source": [
    "image_index = 7776 # You may select anything up to 60,000\n",
    "print(train_labels[image_index]) \n",
    "plt.imshow(train_images[image_index], cmap='Greys')"
   ]
  },
  {
   "cell_type": "markdown",
   "id": "a8d2388d",
   "metadata": {
    "papermill": {
     "duration": 0.033075,
     "end_time": "2022-02-07T00:25:22.095911",
     "exception": false,
     "start_time": "2022-02-07T00:25:22.062836",
     "status": "completed"
    },
    "tags": []
   },
   "source": [
    "## Filter data to get 3 and 8 out"
   ]
  },
  {
   "cell_type": "code",
   "execution_count": 10,
   "id": "776f7fc7",
   "metadata": {
    "execution": {
     "iopub.execute_input": "2022-02-07T00:25:22.167430Z",
     "iopub.status.busy": "2022-02-07T00:25:22.164717Z",
     "iopub.status.idle": "2022-02-07T00:25:22.185426Z",
     "shell.execute_reply": "2022-02-07T00:25:22.184866Z"
    },
    "papermill": {
     "duration": 0.056967,
     "end_time": "2022-02-07T00:25:22.185545",
     "exception": false,
     "start_time": "2022-02-07T00:25:22.128578",
     "status": "completed"
    },
    "tags": []
   },
   "outputs": [],
   "source": [
    "train_filter = np.where((train_labels == 3 ) | (train_labels == 8))\n",
    "test_filter = np.where((test_labels == 3) | (test_labels == 8))\n",
    "X_train, y_train = train_images[train_filter], train_labels[train_filter]\n",
    "X_test, y_test = test_images[test_filter], test_labels[test_filter]"
   ]
  },
  {
   "cell_type": "markdown",
   "id": "948f0b7e",
   "metadata": {
    "papermill": {
     "duration": 0.033575,
     "end_time": "2022-02-07T00:25:22.251616",
     "exception": false,
     "start_time": "2022-02-07T00:25:22.218041",
     "status": "completed"
    },
    "tags": []
   },
   "source": [
    "We normalize the pizel values in the 0 to 1 range"
   ]
  },
  {
   "cell_type": "code",
   "execution_count": 11,
   "id": "ee4c2166",
   "metadata": {
    "execution": {
     "iopub.execute_input": "2022-02-07T00:25:22.317071Z",
     "iopub.status.busy": "2022-02-07T00:25:22.313765Z",
     "iopub.status.idle": "2022-02-07T00:25:22.377918Z",
     "shell.execute_reply": "2022-02-07T00:25:22.378414Z"
    },
    "papermill": {
     "duration": 0.098293,
     "end_time": "2022-02-07T00:25:22.378622",
     "exception": false,
     "start_time": "2022-02-07T00:25:22.280329",
     "status": "completed"
    },
    "tags": []
   },
   "outputs": [],
   "source": [
    "X_train = X_train/255.\n",
    "X_test = X_test/255."
   ]
  },
  {
   "cell_type": "markdown",
   "id": "ddcf4fab",
   "metadata": {
    "papermill": {
     "duration": 0.029767,
     "end_time": "2022-02-07T00:25:22.440391",
     "exception": false,
     "start_time": "2022-02-07T00:25:22.410624",
     "status": "completed"
    },
    "tags": []
   },
   "source": [
    "And setup the labels as 1 (when the digit is 3) and 0 (when the digit is 8)"
   ]
  },
  {
   "cell_type": "code",
   "execution_count": 12,
   "id": "7dc908f2",
   "metadata": {
    "execution": {
     "iopub.execute_input": "2022-02-07T00:25:22.503620Z",
     "iopub.status.busy": "2022-02-07T00:25:22.501403Z",
     "iopub.status.idle": "2022-02-07T00:25:22.516188Z",
     "shell.execute_reply": "2022-02-07T00:25:22.515676Z"
    },
    "papermill": {
     "duration": 0.047466,
     "end_time": "2022-02-07T00:25:22.516293",
     "exception": false,
     "start_time": "2022-02-07T00:25:22.468827",
     "status": "completed"
    },
    "tags": []
   },
   "outputs": [],
   "source": [
    "y_train = 1*(y_train==3)\n",
    "y_test = 1*(y_test==3)"
   ]
  },
  {
   "cell_type": "code",
   "execution_count": 13,
   "id": "01e4e969",
   "metadata": {
    "execution": {
     "iopub.execute_input": "2022-02-07T00:25:22.576360Z",
     "iopub.status.busy": "2022-02-07T00:25:22.575739Z",
     "iopub.status.idle": "2022-02-07T00:25:22.589008Z",
     "shell.execute_reply": "2022-02-07T00:25:22.588530Z"
    },
    "papermill": {
     "duration": 0.044482,
     "end_time": "2022-02-07T00:25:22.589127",
     "exception": false,
     "start_time": "2022-02-07T00:25:22.544645",
     "status": "completed"
    },
    "tags": []
   },
   "outputs": [
    {
     "data": {
      "text/plain": [
       "((11982, 28, 28), (1984, 28, 28))"
      ]
     },
     "execution_count": 13,
     "metadata": {},
     "output_type": "execute_result"
    }
   ],
   "source": [
    "X_train.shape, X_test.shape"
   ]
  },
  {
   "cell_type": "markdown",
   "id": "5ccf3f85",
   "metadata": {
    "papermill": {
     "duration": 0.03027,
     "end_time": "2022-02-07T00:25:22.647764",
     "exception": false,
     "start_time": "2022-02-07T00:25:22.617494",
     "status": "completed"
    },
    "tags": []
   },
   "source": [
    "We reshape the data to flatten the image pixels into a set of features or co-variates:"
   ]
  },
  {
   "cell_type": "code",
   "execution_count": 14,
   "id": "5286a4a3",
   "metadata": {
    "execution": {
     "iopub.execute_input": "2022-02-07T00:25:22.712927Z",
     "iopub.status.busy": "2022-02-07T00:25:22.711531Z",
     "iopub.status.idle": "2022-02-07T00:25:22.726149Z",
     "shell.execute_reply": "2022-02-07T00:25:22.726640Z"
    },
    "papermill": {
     "duration": 0.04807,
     "end_time": "2022-02-07T00:25:22.726764",
     "exception": false,
     "start_time": "2022-02-07T00:25:22.678694",
     "status": "completed"
    },
    "tags": []
   },
   "outputs": [
    {
     "data": {
      "text/plain": [
       "((11982, 784), (1984, 784))"
      ]
     },
     "execution_count": 14,
     "metadata": {},
     "output_type": "execute_result"
    }
   ],
   "source": [
    "X_train = X_train.reshape(X_train.shape[0], -1)\n",
    "X_test = X_test.reshape(X_test.shape[0], -1)\n",
    "X_train.shape, X_test.shape"
   ]
  },
  {
   "cell_type": "code",
   "execution_count": 15,
   "id": "73c5f88a",
   "metadata": {
    "execution": {
     "iopub.execute_input": "2022-02-07T00:25:22.790957Z",
     "iopub.status.busy": "2022-02-07T00:25:22.790306Z",
     "iopub.status.idle": "2022-02-07T00:25:22.808743Z",
     "shell.execute_reply": "2022-02-07T00:25:22.809354Z"
    },
    "papermill": {
     "duration": 0.051578,
     "end_time": "2022-02-07T00:25:22.809489",
     "exception": false,
     "start_time": "2022-02-07T00:25:22.757911",
     "status": "completed"
    },
    "tags": []
   },
   "outputs": [],
   "source": [
    "#Impoting functions from 'Kudzu'\n",
    "from kudzu.model import Model\n",
    "from kudzu.train import Learner\n",
    "from kudzu.optim import GD\n",
    "from kudzu.data import Data, Sampler,Dataloader\n",
    "\n",
    "from kudzu.callbacks import AccCallback\n",
    "from kudzu.callbacks import ClfCallback\n",
    "\n",
    "from kudzu.loss import MSE\n",
    "\n",
    "from kudzu.layer import Sigmoid,Relu\n",
    "from kudzu.layer import Affine"
   ]
  },
  {
   "cell_type": "markdown",
   "id": "bc01172a",
   "metadata": {
    "papermill": {
     "duration": 0.03154,
     "end_time": "2022-02-07T00:25:22.872724",
     "exception": false,
     "start_time": "2022-02-07T00:25:22.841184",
     "status": "completed"
    },
    "tags": []
   },
   "source": [
    "### Let us create a `Config` class, to store important parameters. \n",
    "This class essentially plays the role of a dictionary."
   ]
  },
  {
   "cell_type": "code",
   "execution_count": 16,
   "id": "978281aa",
   "metadata": {
    "execution": {
     "iopub.execute_input": "2022-02-07T00:25:22.944829Z",
     "iopub.status.busy": "2022-02-07T00:25:22.944185Z",
     "iopub.status.idle": "2022-02-07T00:25:22.957907Z",
     "shell.execute_reply": "2022-02-07T00:25:22.958498Z"
    },
    "papermill": {
     "duration": 0.051882,
     "end_time": "2022-02-07T00:25:22.958666",
     "exception": false,
     "start_time": "2022-02-07T00:25:22.906784",
     "status": "completed"
    },
    "tags": []
   },
   "outputs": [],
   "source": [
    "class Config:\n",
    "    pass\n",
    "config = Config()\n",
    "config.lr = 0.001\n",
    "config.num_epochs = 250\n",
    "config.bs = 50"
   ]
  },
  {
   "cell_type": "markdown",
   "id": "1385fa59",
   "metadata": {
    "papermill": {
     "duration": 0.029672,
     "end_time": "2022-02-07T00:25:23.018465",
     "exception": false,
     "start_time": "2022-02-07T00:25:22.988793",
     "status": "completed"
    },
    "tags": []
   },
   "source": [
    "### Running Models with the Training data\n",
    "Details about the network layers:\n",
    "- A first affine layer has 784 inputs and does 100 affine transforms. These are followed by a Relu\n",
    "- A second affine layer has 100 inputs from the 100 activations of the past layer, and does 100 affine transforms. These are followed by a Relu\n",
    "- A third affine layer has 100 activations and does 2 affine transformations to create an embedding for visualization. There is no non-linearity here.\n",
    "- A final \"logistic regression\" which has an affine transform from 2 inputs to 1 output, which is squeezed through a sigmoid.\n"
   ]
  },
  {
   "cell_type": "code",
   "execution_count": 17,
   "id": "2b9c66db",
   "metadata": {
    "execution": {
     "iopub.execute_input": "2022-02-07T00:25:23.084771Z",
     "iopub.status.busy": "2022-02-07T00:25:23.084153Z",
     "iopub.status.idle": "2022-02-07T00:25:23.097697Z",
     "shell.execute_reply": "2022-02-07T00:25:23.097204Z"
    },
    "papermill": {
     "duration": 0.048961,
     "end_time": "2022-02-07T00:25:23.097799",
     "exception": false,
     "start_time": "2022-02-07T00:25:23.048838",
     "status": "completed"
    },
    "tags": []
   },
   "outputs": [],
   "source": [
    "data = Data(X_train, y_train.reshape(-1,1))\n",
    "sampler = Sampler(data, config.bs, shuffle=True)\n",
    "\n",
    "dl = Dataloader(data, sampler)\n",
    "\n",
    "opt = GD(config.lr)\n",
    "loss = MSE()"
   ]
  },
  {
   "cell_type": "code",
   "execution_count": 18,
   "id": "b275e4c2",
   "metadata": {
    "execution": {
     "iopub.execute_input": "2022-02-07T00:25:23.163550Z",
     "iopub.status.busy": "2022-02-07T00:25:23.162923Z",
     "iopub.status.idle": "2022-02-07T00:25:23.175722Z",
     "shell.execute_reply": "2022-02-07T00:25:23.175188Z"
    },
    "papermill": {
     "duration": 0.047081,
     "end_time": "2022-02-07T00:25:23.175832",
     "exception": false,
     "start_time": "2022-02-07T00:25:23.128751",
     "status": "completed"
    },
    "tags": []
   },
   "outputs": [],
   "source": [
    "training_data_x = X_train\n",
    "testing_data_x = X_test\n",
    "training_data_y = y_train.reshape(-1,1)\n",
    "testing_data_y = y_test.reshape(-1,1)"
   ]
  },
  {
   "cell_type": "code",
   "execution_count": 19,
   "id": "76951160",
   "metadata": {
    "execution": {
     "iopub.execute_input": "2022-02-07T00:25:23.239344Z",
     "iopub.status.busy": "2022-02-07T00:25:23.238771Z",
     "iopub.status.idle": "2022-02-07T00:25:23.254323Z",
     "shell.execute_reply": "2022-02-07T00:25:23.254876Z"
    },
    "papermill": {
     "duration": 0.049574,
     "end_time": "2022-02-07T00:25:23.254995",
     "exception": false,
     "start_time": "2022-02-07T00:25:23.205421",
     "status": "completed"
    },
    "tags": []
   },
   "outputs": [
    {
     "name": "stdout",
     "output_type": "stream",
     "text": [
      "xavier\n",
      "xavier\n",
      "xavier\n",
      "xavier\n",
      "xavier\n"
     ]
    }
   ],
   "source": [
    "layers = [Affine(\"first\", 784, 100), Relu(\"first\"), Affine(\"second\", 100, 100), Relu(\"second\"), Affine(\"third\", 100, 2), Affine(\"last\", 2, 1), Sigmoid(\"last\")]\n",
    "model_nn = Model(layers)\n",
    "model_lr = Model([Affine(\"logits\", 784, 1), Sigmoid(\"sigmoid\")])"
   ]
  },
  {
   "cell_type": "code",
   "execution_count": 20,
   "id": "6eede77a",
   "metadata": {
    "execution": {
     "iopub.execute_input": "2022-02-07T00:25:23.319865Z",
     "iopub.status.busy": "2022-02-07T00:25:23.319223Z",
     "iopub.status.idle": "2022-02-07T00:25:23.331034Z",
     "shell.execute_reply": "2022-02-07T00:25:23.331529Z"
    },
    "papermill": {
     "duration": 0.045715,
     "end_time": "2022-02-07T00:25:23.331672",
     "exception": false,
     "start_time": "2022-02-07T00:25:23.285957",
     "status": "completed"
    },
    "tags": []
   },
   "outputs": [],
   "source": [
    "nn_learner = Learner(loss, model_nn, opt, config.num_epochs)\n",
    "acc_nn = ClfCallback(nn_learner, config.bs, training_data_x , testing_data_x, training_data_y, testing_data_y)\n",
    "nn_learner.set_callbacks([acc_nn])"
   ]
  },
  {
   "cell_type": "code",
   "execution_count": 21,
   "id": "877b6cc7",
   "metadata": {
    "execution": {
     "iopub.execute_input": "2022-02-07T00:25:23.396185Z",
     "iopub.status.busy": "2022-02-07T00:25:23.395586Z",
     "iopub.status.idle": "2022-02-07T00:25:23.406495Z",
     "shell.execute_reply": "2022-02-07T00:25:23.407002Z"
    },
    "papermill": {
     "duration": 0.04344,
     "end_time": "2022-02-07T00:25:23.407139",
     "exception": false,
     "start_time": "2022-02-07T00:25:23.363699",
     "status": "completed"
    },
    "tags": []
   },
   "outputs": [],
   "source": [
    "lr_learner = Learner(loss, model_lr, opt, config.num_epochs)\n",
    "acc_lr = ClfCallback(lr_learner, config.bs, training_data_x , testing_data_x, training_data_y, testing_data_y)\n",
    "lr_learner.set_callbacks([acc_lr])"
   ]
  },
  {
   "cell_type": "code",
   "execution_count": 22,
   "id": "d9b133c3",
   "metadata": {
    "execution": {
     "iopub.execute_input": "2022-02-07T00:25:23.470883Z",
     "iopub.status.busy": "2022-02-07T00:25:23.470204Z",
     "iopub.status.idle": "2022-02-07T00:27:47.017523Z",
     "shell.execute_reply": "2022-02-07T00:27:47.018206Z"
    },
    "papermill": {
     "duration": 143.581606,
     "end_time": "2022-02-07T00:27:47.018526",
     "exception": false,
     "start_time": "2022-02-07T00:25:23.436920",
     "status": "completed"
    },
    "tags": []
   },
   "outputs": [
    {
     "name": "stdout",
     "output_type": "stream",
     "text": [
      "Epoch 0, Loss 0.246\n",
      "Training Accuracy: 0.5847, Testing Accuracy: 0.5902\n",
      "\n"
     ]
    },
    {
     "name": "stdout",
     "output_type": "stream",
     "text": [
      "Epoch 10, Loss 0.1896\n",
      "Training Accuracy: 0.8797, Testing Accuracy: 0.8987\n",
      "\n"
     ]
    },
    {
     "name": "stdout",
     "output_type": "stream",
     "text": [
      "Epoch 20, Loss 0.0975\n",
      "Training Accuracy: 0.9106, Testing Accuracy: 0.9259\n",
      "\n"
     ]
    },
    {
     "name": "stdout",
     "output_type": "stream",
     "text": [
      "Epoch 30, Loss 0.063\n",
      "Training Accuracy: 0.9328, Testing Accuracy: 0.9461\n",
      "\n"
     ]
    },
    {
     "name": "stdout",
     "output_type": "stream",
     "text": [
      "Epoch 40, Loss 0.0502\n",
      "Training Accuracy: 0.9440, Testing Accuracy: 0.9556\n",
      "\n"
     ]
    },
    {
     "name": "stdout",
     "output_type": "stream",
     "text": [
      "Epoch 50, Loss 0.0434\n",
      "Training Accuracy: 0.9512, Testing Accuracy: 0.9622\n",
      "\n"
     ]
    },
    {
     "name": "stdout",
     "output_type": "stream",
     "text": [
      "Epoch 60, Loss 0.0392\n",
      "Training Accuracy: 0.9541, Testing Accuracy: 0.9647\n",
      "\n"
     ]
    },
    {
     "name": "stdout",
     "output_type": "stream",
     "text": [
      "Epoch 70, Loss 0.0362\n",
      "Training Accuracy: 0.9579, Testing Accuracy: 0.9682\n",
      "\n"
     ]
    },
    {
     "name": "stdout",
     "output_type": "stream",
     "text": [
      "Epoch 80, Loss 0.034\n",
      "Training Accuracy: 0.9599, Testing Accuracy: 0.9688\n",
      "\n"
     ]
    },
    {
     "name": "stdout",
     "output_type": "stream",
     "text": [
      "Epoch 90, Loss 0.0322\n",
      "Training Accuracy: 0.9621, Testing Accuracy: 0.9682\n",
      "\n"
     ]
    },
    {
     "name": "stdout",
     "output_type": "stream",
     "text": [
      "Epoch 100, Loss 0.0308\n",
      "Training Accuracy: 0.9632, Testing Accuracy: 0.9693\n",
      "\n"
     ]
    },
    {
     "name": "stdout",
     "output_type": "stream",
     "text": [
      "Epoch 110, Loss 0.0295\n",
      "Training Accuracy: 0.9644, Testing Accuracy: 0.9698\n",
      "\n"
     ]
    },
    {
     "name": "stdout",
     "output_type": "stream",
     "text": [
      "Epoch 120, Loss 0.0285\n",
      "Training Accuracy: 0.9659, Testing Accuracy: 0.9688\n",
      "\n"
     ]
    },
    {
     "name": "stdout",
     "output_type": "stream",
     "text": [
      "Epoch 130, Loss 0.0276\n",
      "Training Accuracy: 0.9666, Testing Accuracy: 0.9698\n",
      "\n"
     ]
    },
    {
     "name": "stdout",
     "output_type": "stream",
     "text": [
      "Epoch 140, Loss 0.0268\n",
      "Training Accuracy: 0.9675, Testing Accuracy: 0.9698\n",
      "\n"
     ]
    },
    {
     "name": "stdout",
     "output_type": "stream",
     "text": [
      "Epoch 150, Loss 0.026\n",
      "Training Accuracy: 0.9687, Testing Accuracy: 0.9693\n",
      "\n"
     ]
    },
    {
     "name": "stdout",
     "output_type": "stream",
     "text": [
      "Epoch 160, Loss 0.0254\n",
      "Training Accuracy: 0.9694, Testing Accuracy: 0.9693\n",
      "\n"
     ]
    },
    {
     "name": "stdout",
     "output_type": "stream",
     "text": [
      "Epoch 170, Loss 0.0248\n",
      "Training Accuracy: 0.9704, Testing Accuracy: 0.9698\n",
      "\n"
     ]
    },
    {
     "name": "stdout",
     "output_type": "stream",
     "text": [
      "Epoch 180, Loss 0.0242\n",
      "Training Accuracy: 0.9716, Testing Accuracy: 0.9703\n",
      "\n"
     ]
    },
    {
     "name": "stdout",
     "output_type": "stream",
     "text": [
      "Epoch 190, Loss 0.0237\n",
      "Training Accuracy: 0.9726, Testing Accuracy: 0.9698\n",
      "\n"
     ]
    },
    {
     "name": "stdout",
     "output_type": "stream",
     "text": [
      "Epoch 200, Loss 0.0232\n",
      "Training Accuracy: 0.9735, Testing Accuracy: 0.9703\n",
      "\n"
     ]
    },
    {
     "name": "stdout",
     "output_type": "stream",
     "text": [
      "Epoch 210, Loss 0.0227\n",
      "Training Accuracy: 0.9739, Testing Accuracy: 0.9708\n",
      "\n"
     ]
    },
    {
     "name": "stdout",
     "output_type": "stream",
     "text": [
      "Epoch 220, Loss 0.0223\n",
      "Training Accuracy: 0.9745, Testing Accuracy: 0.9708\n",
      "\n"
     ]
    },
    {
     "name": "stdout",
     "output_type": "stream",
     "text": [
      "Epoch 230, Loss 0.0219\n",
      "Training Accuracy: 0.9749, Testing Accuracy: 0.9703\n",
      "\n"
     ]
    },
    {
     "name": "stdout",
     "output_type": "stream",
     "text": [
      "Epoch 240, Loss 0.0215\n",
      "Training Accuracy: 0.9757, Testing Accuracy: 0.9708\n",
      "\n"
     ]
    },
    {
     "data": {
      "text/plain": [
       "0.0027670580481251694"
      ]
     },
     "execution_count": 22,
     "metadata": {},
     "output_type": "execute_result"
    }
   ],
   "source": [
    "nn_learner.train_loop(dl)"
   ]
  },
  {
   "cell_type": "code",
   "execution_count": 23,
   "id": "e0163366",
   "metadata": {
    "execution": {
     "iopub.execute_input": "2022-02-07T00:27:47.148599Z",
     "iopub.status.busy": "2022-02-07T00:27:47.147835Z",
     "iopub.status.idle": "2022-02-07T00:28:07.640886Z",
     "shell.execute_reply": "2022-02-07T00:28:07.641764Z"
    },
    "papermill": {
     "duration": 20.570899,
     "end_time": "2022-02-07T00:28:07.641923",
     "exception": false,
     "start_time": "2022-02-07T00:27:47.071024",
     "status": "completed"
    },
    "tags": []
   },
   "outputs": [
    {
     "name": "stdout",
     "output_type": "stream",
     "text": [
      "Epoch 0, Loss 0.2309\n",
      "Training Accuracy: 0.7155, Testing Accuracy: 0.7137\n",
      "\n"
     ]
    },
    {
     "name": "stdout",
     "output_type": "stream",
     "text": [
      "Epoch 10, Loss 0.1001\n",
      "Training Accuracy: 0.9150, Testing Accuracy: 0.9204\n",
      "\n"
     ]
    },
    {
     "name": "stdout",
     "output_type": "stream",
     "text": [
      "Epoch 20, Loss 0.0775\n",
      "Training Accuracy: 0.9306, Testing Accuracy: 0.9400\n",
      "\n"
     ]
    },
    {
     "name": "stdout",
     "output_type": "stream",
     "text": [
      "Epoch 30, Loss 0.0671\n",
      "Training Accuracy: 0.9396, Testing Accuracy: 0.9461\n",
      "\n"
     ]
    },
    {
     "name": "stdout",
     "output_type": "stream",
     "text": [
      "Epoch 40, Loss 0.0607\n",
      "Training Accuracy: 0.9440, Testing Accuracy: 0.9511\n",
      "\n"
     ]
    },
    {
     "name": "stdout",
     "output_type": "stream",
     "text": [
      "Epoch 50, Loss 0.0564\n",
      "Training Accuracy: 0.9468, Testing Accuracy: 0.9556\n",
      "\n"
     ]
    },
    {
     "name": "stdout",
     "output_type": "stream",
     "text": [
      "Epoch 60, Loss 0.0532\n",
      "Training Accuracy: 0.9490, Testing Accuracy: 0.9582\n",
      "\n"
     ]
    },
    {
     "name": "stdout",
     "output_type": "stream",
     "text": [
      "Epoch 70, Loss 0.0508\n",
      "Training Accuracy: 0.9508, Testing Accuracy: 0.9582\n",
      "\n"
     ]
    },
    {
     "name": "stdout",
     "output_type": "stream",
     "text": [
      "Epoch 80, Loss 0.0488\n",
      "Training Accuracy: 0.9518, Testing Accuracy: 0.9582\n",
      "\n"
     ]
    },
    {
     "name": "stdout",
     "output_type": "stream",
     "text": [
      "Epoch 90, Loss 0.0472\n",
      "Training Accuracy: 0.9522, Testing Accuracy: 0.9597\n",
      "\n"
     ]
    },
    {
     "name": "stdout",
     "output_type": "stream",
     "text": [
      "Epoch 100, Loss 0.0458\n",
      "Training Accuracy: 0.9531, Testing Accuracy: 0.9622\n",
      "\n"
     ]
    },
    {
     "name": "stdout",
     "output_type": "stream",
     "text": [
      "Epoch 110, Loss 0.0446\n",
      "Training Accuracy: 0.9534, Testing Accuracy: 0.9622\n",
      "\n"
     ]
    },
    {
     "name": "stdout",
     "output_type": "stream",
     "text": [
      "Epoch 120, Loss 0.0436\n",
      "Training Accuracy: 0.9543, Testing Accuracy: 0.9637\n",
      "\n"
     ]
    },
    {
     "name": "stdout",
     "output_type": "stream",
     "text": [
      "Epoch 130, Loss 0.0427\n",
      "Training Accuracy: 0.9552, Testing Accuracy: 0.9637\n",
      "\n"
     ]
    },
    {
     "name": "stdout",
     "output_type": "stream",
     "text": [
      "Epoch 140, Loss 0.0419\n",
      "Training Accuracy: 0.9558, Testing Accuracy: 0.9632\n",
      "\n"
     ]
    },
    {
     "name": "stdout",
     "output_type": "stream",
     "text": [
      "Epoch 150, Loss 0.0411\n",
      "Training Accuracy: 0.9564, Testing Accuracy: 0.9627\n",
      "\n"
     ]
    },
    {
     "name": "stdout",
     "output_type": "stream",
     "text": [
      "Epoch 160, Loss 0.0405\n",
      "Training Accuracy: 0.9566, Testing Accuracy: 0.9637\n",
      "\n"
     ]
    },
    {
     "name": "stdout",
     "output_type": "stream",
     "text": [
      "Epoch 170, Loss 0.0399\n",
      "Training Accuracy: 0.9573, Testing Accuracy: 0.9637\n",
      "\n"
     ]
    },
    {
     "name": "stdout",
     "output_type": "stream",
     "text": [
      "Epoch 180, Loss 0.0393\n",
      "Training Accuracy: 0.9583, Testing Accuracy: 0.9637\n",
      "\n"
     ]
    },
    {
     "name": "stdout",
     "output_type": "stream",
     "text": [
      "Epoch 190, Loss 0.0388\n",
      "Training Accuracy: 0.9584, Testing Accuracy: 0.9637\n",
      "\n"
     ]
    },
    {
     "name": "stdout",
     "output_type": "stream",
     "text": [
      "Epoch 200, Loss 0.0383\n",
      "Training Accuracy: 0.9587, Testing Accuracy: 0.9642\n",
      "\n"
     ]
    },
    {
     "name": "stdout",
     "output_type": "stream",
     "text": [
      "Epoch 210, Loss 0.0379\n",
      "Training Accuracy: 0.9593, Testing Accuracy: 0.9647\n",
      "\n"
     ]
    },
    {
     "name": "stdout",
     "output_type": "stream",
     "text": [
      "Epoch 220, Loss 0.0375\n",
      "Training Accuracy: 0.9596, Testing Accuracy: 0.9652\n",
      "\n"
     ]
    },
    {
     "name": "stdout",
     "output_type": "stream",
     "text": [
      "Epoch 230, Loss 0.0371\n",
      "Training Accuracy: 0.9597, Testing Accuracy: 0.9657\n",
      "\n"
     ]
    },
    {
     "name": "stdout",
     "output_type": "stream",
     "text": [
      "Epoch 240, Loss 0.0368\n",
      "Training Accuracy: 0.9602, Testing Accuracy: 0.9657\n",
      "\n"
     ]
    },
    {
     "data": {
      "text/plain": [
       "0.02385124715789979"
      ]
     },
     "execution_count": 23,
     "metadata": {},
     "output_type": "execute_result"
    }
   ],
   "source": [
    "lr_learner.train_loop(dl)"
   ]
  },
  {
   "cell_type": "code",
   "execution_count": 24,
   "id": "ca410940",
   "metadata": {
    "execution": {
     "iopub.execute_input": "2022-02-07T00:28:07.752358Z",
     "iopub.status.busy": "2022-02-07T00:28:07.751746Z",
     "iopub.status.idle": "2022-02-07T00:28:08.047325Z",
     "shell.execute_reply": "2022-02-07T00:28:08.048172Z"
    },
    "papermill": {
     "duration": 0.354849,
     "end_time": "2022-02-07T00:28:08.048378",
     "exception": false,
     "start_time": "2022-02-07T00:28:07.693529",
     "status": "completed"
    },
    "tags": []
   },
   "outputs": [
    {
     "data": {
      "text/plain": [
       "<matplotlib.legend.Legend at 0x7fe613e49470>"
      ]
     },
     "execution_count": 24,
     "metadata": {},
     "output_type": "execute_result"
    },
    {
     "data": {
      "image/png": "[encoded data removed]",
      "text/plain": [
       "<Figure size 1080x720 with 1 Axes>"
      ]
     },
     "metadata": {
      "needs_background": "light"
     },
     "output_type": "display_data"
    }
   ],
   "source": [
    "#comparing the results of NN and LR\n",
    "plt.figure(figsize=(15,10))\n",
    "\n",
    "# Neural Network plots\n",
    "plt.plot(acc_nn.accuracies, 'r-', label = \"Training Accuracies - NN\")\n",
    "plt.plot(acc_nn.test_accuracies, 'g-', label = \"Testing Accuracies - NN\")\n",
    "\n",
    "# Logistic Regression plots\n",
    "plt.plot(acc_lr.accuracies, 'k-', label = \"Training Accuracies - LR\")\n",
    "plt.plot(acc_lr.test_accuracies, 'b-', label = \"Testing Accuracies - LR\")\n",
    "plt.legend()"
   ]
  },
  {
   "cell_type": "markdown",
   "id": "80dfb35c",
   "metadata": {
    "papermill": {
     "duration": 0.046931,
     "end_time": "2022-02-07T00:28:08.141897",
     "exception": false,
     "start_time": "2022-02-07T00:28:08.094966",
     "status": "completed"
    },
    "tags": []
   },
   "source": [
    "#### Plotting the outputs of this layer of the NN.\n"
   ]
  },
  {
   "cell_type": "code",
   "execution_count": 25,
   "id": "45eb2ff5",
   "metadata": {
    "execution": {
     "iopub.execute_input": "2022-02-07T00:28:08.237271Z",
     "iopub.status.busy": "2022-02-07T00:28:08.236637Z",
     "iopub.status.idle": "2022-02-07T00:28:08.263837Z",
     "shell.execute_reply": "2022-02-07T00:28:08.264319Z"
    },
    "papermill": {
     "duration": 0.0771,
     "end_time": "2022-02-07T00:28:08.264455",
     "exception": false,
     "start_time": "2022-02-07T00:28:08.187355",
     "status": "completed"
    },
    "tags": []
   },
   "outputs": [],
   "source": [
    "new_model = Model(layers[:-2])\n",
    "testing_plot = new_model(testing_data_x)"
   ]
  },
  {
   "cell_type": "code",
   "execution_count": 26,
   "id": "4c0a5485",
   "metadata": {
    "execution": {
     "iopub.execute_input": "2022-02-07T00:28:08.366593Z",
     "iopub.status.busy": "2022-02-07T00:28:08.364853Z",
     "iopub.status.idle": "2022-02-07T00:28:08.613153Z",
     "shell.execute_reply": "2022-02-07T00:28:08.613819Z"
    },
    "papermill": {
     "duration": 0.301523,
     "end_time": "2022-02-07T00:28:08.613963",
     "exception": false,
     "start_time": "2022-02-07T00:28:08.312440",
     "status": "completed"
    },
    "tags": []
   },
   "outputs": [
    {
     "data": {
      "text/plain": [
       "Text(0.5, 1.0, 'Outputs')"
      ]
     },
     "execution_count": 26,
     "metadata": {},
     "output_type": "execute_result"
    },
    {
     "data": {
      "image/png": "[encoded data removed]",
      "text/plain": [
       "<Figure size 576x504 with 1 Axes>"
      ]
     },
     "metadata": {
      "needs_background": "light"
     },
     "output_type": "display_data"
    }
   ],
   "source": [
    "# Plotting the scatter plot of points and color coding by class\n",
    "plt.figure(figsize=(8,7))\n",
    "plt.scatter(testing_plot[:,0], testing_plot[:,1], alpha = 0.1, c = y_test.ravel());\n",
    "plt.title('Outputs')"
   ]
  },
  {
   "cell_type": "markdown",
   "id": "a74fcf8f",
   "metadata": {
    "papermill": {
     "duration": 0.04474,
     "end_time": "2022-02-07T00:28:08.709679",
     "exception": false,
     "start_time": "2022-02-07T00:28:08.664939",
     "status": "completed"
    },
    "tags": []
   },
   "source": [
    "Probability contours"
   ]
  },
  {
   "cell_type": "code",
   "execution_count": 27,
   "id": "d0afc8e3",
   "metadata": {
    "execution": {
     "iopub.execute_input": "2022-02-07T00:28:08.832215Z",
     "iopub.status.busy": "2022-02-07T00:28:08.831623Z",
     "iopub.status.idle": "2022-02-07T00:28:08.842189Z",
     "shell.execute_reply": "2022-02-07T00:28:08.842726Z"
    },
    "papermill": {
     "duration": 0.086785,
     "end_time": "2022-02-07T00:28:08.842883",
     "exception": false,
     "start_time": "2022-02-07T00:28:08.756098",
     "status": "completed"
    },
    "tags": []
   },
   "outputs": [],
   "source": [
    "model_prob = Model(layers[-2:]) "
   ]
  },
  {
   "cell_type": "code",
   "execution_count": 28,
   "id": "9b96e238",
   "metadata": {
    "execution": {
     "iopub.execute_input": "2022-02-07T00:28:08.949575Z",
     "iopub.status.busy": "2022-02-07T00:28:08.948949Z",
     "iopub.status.idle": "2022-02-07T00:28:08.963672Z",
     "shell.execute_reply": "2022-02-07T00:28:08.963172Z"
    },
    "papermill": {
     "duration": 0.069683,
     "end_time": "2022-02-07T00:28:08.963828",
     "exception": false,
     "start_time": "2022-02-07T00:28:08.894145",
     "status": "completed"
    },
    "tags": []
   },
   "outputs": [],
   "source": [
    "#creating the x and y ranges according to the above generated plot.\n",
    "x_range = np.linspace(-4, 1, 100) \n",
    "y_range = np.linspace(-6, 6, 100) \n",
    "x_grid, y_grid = np.meshgrid(x_range, y_range) # x_grid and y_grig are of size 100 X 100\n",
    "\n",
    "# converting x_grid and y_grid to continuous arrays\n",
    "x_gridflat = np.ravel(x_grid)\n",
    "y_gridflat = np.ravel(y_grid)\n",
    "\n",
    "# The last layer of the current model takes two columns as input. Hence transpose of np.vstack() is required.\n",
    "X = np.vstack((x_gridflat, y_gridflat)).T\n",
    "\n",
    "prob_contour = model_prob(X).reshape(100,100) "
   ]
  },
  {
   "cell_type": "code",
   "execution_count": 29,
   "id": "da72499a",
   "metadata": {
    "execution": {
     "iopub.execute_input": "2022-02-07T00:28:09.071345Z",
     "iopub.status.busy": "2022-02-07T00:28:09.070737Z",
     "iopub.status.idle": "2022-02-07T00:28:09.384546Z",
     "shell.execute_reply": "2022-02-07T00:28:09.383504Z"
    },
    "papermill": {
     "duration": 0.369565,
     "end_time": "2022-02-07T00:28:09.384692",
     "exception": false,
     "start_time": "2022-02-07T00:28:09.015127",
     "status": "completed"
    },
    "tags": []
   },
   "outputs": [
    {
     "data": {
      "image/png": "[encoded data removed]",
      "text/plain": [
       "<Figure size 720x648 with 1 Axes>"
      ]
     },
     "metadata": {
      "needs_background": "light"
     },
     "output_type": "display_data"
    }
   ],
   "source": [
    "plt.figure(figsize=(10,9))\n",
    "plt.scatter(testing_plot[:,0], testing_plot[:,1], alpha = 0.1, c = y_test.ravel())\n",
    "contours = plt.contour(x_grid,y_grid,prob_contour)\n",
    "plt.title('Probability Contours')\n",
    "plt.clabel(contours, inline = True );"
   ]
  },
  {
   "cell_type": "code",
   "execution_count": null,
   "id": "e81b4ac7",
   "metadata": {
    "papermill": {
     "duration": 0.051195,
     "end_time": "2022-02-07T00:28:09.486986",
     "exception": false,
     "start_time": "2022-02-07T00:28:09.435791",
     "status": "completed"
    },
    "tags": []
   },
   "outputs": [],
   "source": []
  }
 ],
 "metadata": {
  "kernelspec": {
   "display_name": "Python 3",
   "language": "python",
   "name": "python3"
  },
  "language_info": {
   "codemirror_mode": {
    "name": "ipython",
    "version": 3
   },
   "file_extension": ".py",
   "mimetype": "text/x-python",
   "name": "python",
   "nbconvert_exporter": "python",
   "pygments_lexer": "ipython3",
   "version": "3.6.15"
  },
  "papermill": {
   "default_parameters": {},
   "duration": 173.58256,
   "end_time": "2022-02-07T00:28:09.958815",
   "environment_variables": {},
   "exception": null,
   "input_path": "2020-08-11-part2.ipynb",
   "output_path": "2020-08-11-part2.ipynb",
   "parameters": {},
   "start_time": "2022-02-07T00:25:16.376255",
   "version": "2.3.3"
  }
 },
 "nbformat": 4,
 "nbformat_minor": 5
}