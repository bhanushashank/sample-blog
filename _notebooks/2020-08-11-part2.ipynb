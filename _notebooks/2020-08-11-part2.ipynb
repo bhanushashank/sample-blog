{
 "cells": [
  {
   "cell_type": "markdown",
   "id": "98380cd3",
   "metadata": {
    "papermill": {
     "duration": 0.030213,
     "end_time": "2022-10-20T20:13:30.924058",
     "exception": false,
     "start_time": "2022-10-20T20:13:30.893845",
     "status": "completed"
    },
    "tags": []
   },
   "source": [
    "# Distinguish Your Own Digits (DYOD)"
   ]
  },
  {
   "cell_type": "markdown",
   "id": "ef31240d",
   "metadata": {
    "papermill": {
     "duration": 0.023979,
     "end_time": "2022-10-20T20:13:30.973612",
     "exception": false,
     "start_time": "2022-10-20T20:13:30.949633",
     "status": "completed"
    },
    "tags": []
   },
   "source": [
    "You are going to write a classifier that distinguishes between the number 3 and number 8."
   ]
  },
  {
   "cell_type": "code",
   "execution_count": 1,
   "id": "b15c8646",
   "metadata": {
    "execution": {
     "iopub.execute_input": "2022-10-20T20:13:31.033388Z",
     "iopub.status.busy": "2022-10-20T20:13:31.032711Z",
     "iopub.status.idle": "2022-10-20T20:13:31.044644Z",
     "shell.execute_reply": "2022-10-20T20:13:31.044127Z"
    },
    "papermill": {
     "duration": 0.047355,
     "end_time": "2022-10-20T20:13:31.044798",
     "exception": false,
     "start_time": "2022-10-20T20:13:30.997443",
     "status": "completed"
    },
    "tags": []
   },
   "outputs": [],
   "source": [
    "%load_ext autoreload\n",
    "%autoreload 2"
   ]
  },
  {
   "cell_type": "code",
   "execution_count": 2,
   "id": "22ef38dc",
   "metadata": {
    "execution": {
     "iopub.execute_input": "2022-10-20T20:13:31.099772Z",
     "iopub.status.busy": "2022-10-20T20:13:31.099142Z",
     "iopub.status.idle": "2022-10-20T20:13:31.678387Z",
     "shell.execute_reply": "2022-10-20T20:13:31.677835Z"
    },
    "papermill": {
     "duration": 0.609497,
     "end_time": "2022-10-20T20:13:31.678522",
     "exception": false,
     "start_time": "2022-10-20T20:13:31.069025",
     "status": "completed"
    },
    "tags": []
   },
   "outputs": [],
   "source": [
    "%matplotlib inline\n",
    "import numpy as np\n",
    "import matplotlib.pyplot as plt\n",
    "import pandas as pd"
   ]
  },
  {
   "cell_type": "markdown",
   "id": "ba036198",
   "metadata": {
    "papermill": {
     "duration": 0.023807,
     "end_time": "2022-10-20T20:13:31.726152",
     "exception": false,
     "start_time": "2022-10-20T20:13:31.702345",
     "status": "completed"
    },
    "tags": []
   },
   "source": [
    "From the command line run `pip install mnist`. This is a library that will help you bring down the mnist dataset. If you run this from a notebook, you need to put  `!pip install mnist` in a cell by itself."
   ]
  },
  {
   "cell_type": "code",
   "execution_count": 3,
   "id": "bb6ad8a1",
   "metadata": {
    "execution": {
     "iopub.execute_input": "2022-10-20T20:13:31.779430Z",
     "iopub.status.busy": "2022-10-20T20:13:31.778805Z",
     "iopub.status.idle": "2022-10-20T20:13:33.543339Z",
     "shell.execute_reply": "2022-10-20T20:13:33.542785Z"
    },
    "papermill": {
     "duration": 1.793201,
     "end_time": "2022-10-20T20:13:33.543472",
     "exception": false,
     "start_time": "2022-10-20T20:13:31.750271",
     "status": "completed"
    },
    "tags": []
   },
   "outputs": [
    {
     "name": "stdout",
     "output_type": "stream",
     "text": [
      "Collecting mnist\r\n"
     ]
    },
    {
     "name": "stdout",
     "output_type": "stream",
     "text": [
      "  Downloading mnist-0.2.2-py2.py3-none-any.whl (3.5 kB)\r\n",
      "Requirement already satisfied: numpy in /opt/hostedtoolcache/Python/3.6.15/x64/lib/python3.6/site-packages (from mnist) (1.19.5)\r\n"
     ]
    },
    {
     "name": "stdout",
     "output_type": "stream",
     "text": [
      "Installing collected packages: mnist\r\n"
     ]
    },
    {
     "name": "stdout",
     "output_type": "stream",
     "text": [
      "Successfully installed mnist-0.2.2\r\n"
     ]
    }
   ],
   "source": [
    "!pip install mnist"
   ]
  },
  {
   "cell_type": "markdown",
   "id": "69df9c9a",
   "metadata": {
    "papermill": {
     "duration": 0.025333,
     "end_time": "2022-10-20T20:13:33.594146",
     "exception": false,
     "start_time": "2022-10-20T20:13:33.568813",
     "status": "completed"
    },
    "tags": []
   },
   "source": [
    "## Preparing the Data"
   ]
  },
  {
   "cell_type": "code",
   "execution_count": 4,
   "id": "7f69d806",
   "metadata": {
    "execution": {
     "iopub.execute_input": "2022-10-20T20:13:33.661461Z",
     "iopub.status.busy": "2022-10-20T20:13:33.655710Z",
     "iopub.status.idle": "2022-10-20T20:13:33.666144Z",
     "shell.execute_reply": "2022-10-20T20:13:33.666608Z"
    },
    "papermill": {
     "duration": 0.047707,
     "end_time": "2022-10-20T20:13:33.666753",
     "exception": false,
     "start_time": "2022-10-20T20:13:33.619046",
     "status": "completed"
    },
    "tags": []
   },
   "outputs": [],
   "source": [
    "import mnist"
   ]
  },
  {
   "cell_type": "code",
   "execution_count": 5,
   "id": "a411e44f",
   "metadata": {
    "execution": {
     "iopub.execute_input": "2022-10-20T20:13:33.731015Z",
     "iopub.status.busy": "2022-10-20T20:13:33.730337Z",
     "iopub.status.idle": "2022-10-20T20:13:34.399390Z",
     "shell.execute_reply": "2022-10-20T20:13:34.398141Z"
    },
    "papermill": {
     "duration": 0.707613,
     "end_time": "2022-10-20T20:13:34.399523",
     "exception": false,
     "start_time": "2022-10-20T20:13:33.691910",
     "status": "completed"
    },
    "tags": []
   },
   "outputs": [],
   "source": [
    "train_images = mnist.train_images()\n",
    "train_labels = mnist.train_labels()"
   ]
  },
  {
   "cell_type": "code",
   "execution_count": 6,
   "id": "dceab3a5",
   "metadata": {
    "execution": {
     "iopub.execute_input": "2022-10-20T20:13:34.458608Z",
     "iopub.status.busy": "2022-10-20T20:13:34.453713Z",
     "iopub.status.idle": "2022-10-20T20:13:34.469610Z",
     "shell.execute_reply": "2022-10-20T20:13:34.469052Z"
    },
    "papermill": {
     "duration": 0.044987,
     "end_time": "2022-10-20T20:13:34.469739",
     "exception": false,
     "start_time": "2022-10-20T20:13:34.424752",
     "status": "completed"
    },
    "tags": []
   },
   "outputs": [
    {
     "data": {
      "text/plain": [
       "((60000, 28, 28), (60000,))"
      ]
     },
     "execution_count": 6,
     "metadata": {},
     "output_type": "execute_result"
    }
   ],
   "source": [
    "train_images.shape, train_labels.shape"
   ]
  },
  {
   "cell_type": "code",
   "execution_count": 7,
   "id": "f50dc2bb",
   "metadata": {
    "execution": {
     "iopub.execute_input": "2022-10-20T20:13:34.539306Z",
     "iopub.status.busy": "2022-10-20T20:13:34.538641Z",
     "iopub.status.idle": "2022-10-20T20:13:34.744839Z",
     "shell.execute_reply": "2022-10-20T20:13:34.744220Z"
    },
    "papermill": {
     "duration": 0.249867,
     "end_time": "2022-10-20T20:13:34.744969",
     "exception": false,
     "start_time": "2022-10-20T20:13:34.495102",
     "status": "completed"
    },
    "tags": []
   },
   "outputs": [],
   "source": [
    "test_images = mnist.test_images()\n",
    "test_labels = mnist.test_labels()"
   ]
  },
  {
   "cell_type": "code",
   "execution_count": 8,
   "id": "fc38cf1b",
   "metadata": {
    "execution": {
     "iopub.execute_input": "2022-10-20T20:13:34.811804Z",
     "iopub.status.busy": "2022-10-20T20:13:34.811157Z",
     "iopub.status.idle": "2022-10-20T20:13:34.820999Z",
     "shell.execute_reply": "2022-10-20T20:13:34.820505Z"
    },
    "papermill": {
     "duration": 0.050413,
     "end_time": "2022-10-20T20:13:34.821124",
     "exception": false,
     "start_time": "2022-10-20T20:13:34.770711",
     "status": "completed"
    },
    "tags": []
   },
   "outputs": [
    {
     "data": {
      "text/plain": [
       "((10000, 28, 28), (10000,))"
      ]
     },
     "execution_count": 8,
     "metadata": {},
     "output_type": "execute_result"
    }
   ],
   "source": [
    "test_images.shape, test_labels.shape"
   ]
  },
  {
   "cell_type": "code",
   "execution_count": 9,
   "id": "f9ed8fe0",
   "metadata": {
    "execution": {
     "iopub.execute_input": "2022-10-20T20:13:34.882292Z",
     "iopub.status.busy": "2022-10-20T20:13:34.881639Z",
     "iopub.status.idle": "2022-10-20T20:13:35.024154Z",
     "shell.execute_reply": "2022-10-20T20:13:35.023650Z"
    },
    "papermill": {
     "duration": 0.177664,
     "end_time": "2022-10-20T20:13:35.024286",
     "exception": false,
     "start_time": "2022-10-20T20:13:34.846622",
     "status": "completed"
    },
    "tags": []
   },
   "outputs": [
    {
     "name": "stdout",
     "output_type": "stream",
     "text": [
      "2\n"
     ]
    },
    {
     "data": {
      "text/plain": [
       "<matplotlib.image.AxesImage at 0x7f67e37fecf8>"
      ]
     },
     "execution_count": 9,
     "metadata": {},
     "output_type": "execute_result"
    },
    {
     "data": {
      "image/png": "[encoded data removed]",
      "text/plain": [
       "<Figure size 432x288 with 1 Axes>"
      ]
     },
     "metadata": {
      "needs_background": "light"
     },
     "output_type": "display_data"
    }
   ],
   "source": [
    "image_index = 7776 # You may select anything up to 60,000\n",
    "print(train_labels[image_index]) \n",
    "plt.imshow(train_images[image_index], cmap='Greys')"
   ]
  },
  {
   "cell_type": "markdown",
   "id": "a8d2388d",
   "metadata": {
    "papermill": {
     "duration": 0.027009,
     "end_time": "2022-10-20T20:13:35.078174",
     "exception": false,
     "start_time": "2022-10-20T20:13:35.051165",
     "status": "completed"
    },
    "tags": []
   },
   "source": [
    "## Filter data to get 3 and 8 out"
   ]
  },
  {
   "cell_type": "code",
   "execution_count": 10,
   "id": "776f7fc7",
   "metadata": {
    "execution": {
     "iopub.execute_input": "2022-10-20T20:13:35.137825Z",
     "iopub.status.busy": "2022-10-20T20:13:35.137143Z",
     "iopub.status.idle": "2022-10-20T20:13:35.155698Z",
     "shell.execute_reply": "2022-10-20T20:13:35.155201Z"
    },
    "papermill": {
     "duration": 0.049715,
     "end_time": "2022-10-20T20:13:35.155832",
     "exception": false,
     "start_time": "2022-10-20T20:13:35.106117",
     "status": "completed"
    },
    "tags": []
   },
   "outputs": [],
   "source": [
    "train_filter = np.where((train_labels == 3 ) | (train_labels == 8))\n",
    "test_filter = np.where((test_labels == 3) | (test_labels == 8))\n",
    "X_train, y_train = train_images[train_filter], train_labels[train_filter]\n",
    "X_test, y_test = test_images[test_filter], test_labels[test_filter]"
   ]
  },
  {
   "cell_type": "markdown",
   "id": "948f0b7e",
   "metadata": {
    "papermill": {
     "duration": 0.029004,
     "end_time": "2022-10-20T20:13:35.211640",
     "exception": false,
     "start_time": "2022-10-20T20:13:35.182636",
     "status": "completed"
    },
    "tags": []
   },
   "source": [
    "We normalize the pizel values in the 0 to 1 range"
   ]
  },
  {
   "cell_type": "code",
   "execution_count": 11,
   "id": "ee4c2166",
   "metadata": {
    "execution": {
     "iopub.execute_input": "2022-10-20T20:13:35.277490Z",
     "iopub.status.busy": "2022-10-20T20:13:35.276800Z",
     "iopub.status.idle": "2022-10-20T20:13:35.319295Z",
     "shell.execute_reply": "2022-10-20T20:13:35.318706Z"
    },
    "papermill": {
     "duration": 0.081273,
     "end_time": "2022-10-20T20:13:35.319435",
     "exception": false,
     "start_time": "2022-10-20T20:13:35.238162",
     "status": "completed"
    },
    "tags": []
   },
   "outputs": [],
   "source": [
    "X_train = X_train/255.\n",
    "X_test = X_test/255."
   ]
  },
  {
   "cell_type": "markdown",
   "id": "ddcf4fab",
   "metadata": {
    "papermill": {
     "duration": 0.027212,
     "end_time": "2022-10-20T20:13:35.374184",
     "exception": false,
     "start_time": "2022-10-20T20:13:35.346972",
     "status": "completed"
    },
    "tags": []
   },
   "source": [
    "And setup the labels as 1 (when the digit is 3) and 0 (when the digit is 8)"
   ]
  },
  {
   "cell_type": "code",
   "execution_count": 12,
   "id": "7dc908f2",
   "metadata": {
    "execution": {
     "iopub.execute_input": "2022-10-20T20:13:35.434080Z",
     "iopub.status.busy": "2022-10-20T20:13:35.433462Z",
     "iopub.status.idle": "2022-10-20T20:13:35.445154Z",
     "shell.execute_reply": "2022-10-20T20:13:35.444661Z"
    },
    "papermill": {
     "duration": 0.044537,
     "end_time": "2022-10-20T20:13:35.445276",
     "exception": false,
     "start_time": "2022-10-20T20:13:35.400739",
     "status": "completed"
    },
    "tags": []
   },
   "outputs": [],
   "source": [
    "y_train = 1*(y_train==3)\n",
    "y_test = 1*(y_test==3)"
   ]
  },
  {
   "cell_type": "code",
   "execution_count": 13,
   "id": "01e4e969",
   "metadata": {
    "execution": {
     "iopub.execute_input": "2022-10-20T20:13:35.508352Z",
     "iopub.status.busy": "2022-10-20T20:13:35.503765Z",
     "iopub.status.idle": "2022-10-20T20:13:35.520506Z",
     "shell.execute_reply": "2022-10-20T20:13:35.519734Z"
    },
    "papermill": {
     "duration": 0.048743,
     "end_time": "2022-10-20T20:13:35.520633",
     "exception": false,
     "start_time": "2022-10-20T20:13:35.471890",
     "status": "completed"
    },
    "tags": []
   },
   "outputs": [
    {
     "data": {
      "text/plain": [
       "((11982, 28, 28), (1984, 28, 28))"
      ]
     },
     "execution_count": 13,
     "metadata": {},
     "output_type": "execute_result"
    }
   ],
   "source": [
    "X_train.shape, X_test.shape"
   ]
  },
  {
   "cell_type": "markdown",
   "id": "5ccf3f85",
   "metadata": {
    "papermill": {
     "duration": 0.026849,
     "end_time": "2022-10-20T20:13:35.574260",
     "exception": false,
     "start_time": "2022-10-20T20:13:35.547411",
     "status": "completed"
    },
    "tags": []
   },
   "source": [
    "We reshape the data to flatten the image pixels into a set of features or co-variates:"
   ]
  },
  {
   "cell_type": "code",
   "execution_count": 14,
   "id": "5286a4a3",
   "metadata": {
    "execution": {
     "iopub.execute_input": "2022-10-20T20:13:35.647050Z",
     "iopub.status.busy": "2022-10-20T20:13:35.643123Z",
     "iopub.status.idle": "2022-10-20T20:13:35.650511Z",
     "shell.execute_reply": "2022-10-20T20:13:35.650944Z"
    },
    "papermill": {
     "duration": 0.047621,
     "end_time": "2022-10-20T20:13:35.651095",
     "exception": false,
     "start_time": "2022-10-20T20:13:35.603474",
     "status": "completed"
    },
    "tags": []
   },
   "outputs": [
    {
     "data": {
      "text/plain": [
       "((11982, 784), (1984, 784))"
      ]
     },
     "execution_count": 14,
     "metadata": {},
     "output_type": "execute_result"
    }
   ],
   "source": [
    "X_train = X_train.reshape(X_train.shape[0], -1)\n",
    "X_test = X_test.reshape(X_test.shape[0], -1)\n",
    "X_train.shape, X_test.shape"
   ]
  },
  {
   "cell_type": "code",
   "execution_count": 15,
   "id": "73c5f88a",
   "metadata": {
    "execution": {
     "iopub.execute_input": "2022-10-20T20:13:35.718454Z",
     "iopub.status.busy": "2022-10-20T20:13:35.709866Z",
     "iopub.status.idle": "2022-10-20T20:13:35.732840Z",
     "shell.execute_reply": "2022-10-20T20:13:35.732330Z"
    },
    "papermill": {
     "duration": 0.054732,
     "end_time": "2022-10-20T20:13:35.732964",
     "exception": false,
     "start_time": "2022-10-20T20:13:35.678232",
     "status": "completed"
    },
    "tags": []
   },
   "outputs": [],
   "source": [
    "#Impoting functions from 'Kudzu'\n",
    "from kudzu.model import Model\n",
    "from kudzu.train import Learner\n",
    "from kudzu.optim import GD\n",
    "from kudzu.data import Data, Sampler,Dataloader\n",
    "\n",
    "from kudzu.callbacks import AccCallback\n",
    "from kudzu.callbacks import ClfCallback\n",
    "\n",
    "from kudzu.loss import MSE\n",
    "\n",
    "from kudzu.layer import Sigmoid,Relu\n",
    "from kudzu.layer import Affine"
   ]
  },
  {
   "cell_type": "markdown",
   "id": "bc01172a",
   "metadata": {
    "papermill": {
     "duration": 0.026851,
     "end_time": "2022-10-20T20:13:35.786985",
     "exception": false,
     "start_time": "2022-10-20T20:13:35.760134",
     "status": "completed"
    },
    "tags": []
   },
   "source": [
    "### Let us create a `Config` class, to store important parameters. \n",
    "This class essentially plays the role of a dictionary."
   ]
  },
  {
   "cell_type": "code",
   "execution_count": 16,
   "id": "978281aa",
   "metadata": {
    "execution": {
     "iopub.execute_input": "2022-10-20T20:13:35.846405Z",
     "iopub.status.busy": "2022-10-20T20:13:35.845741Z",
     "iopub.status.idle": "2022-10-20T20:13:35.859207Z",
     "shell.execute_reply": "2022-10-20T20:13:35.858717Z"
    },
    "papermill": {
     "duration": 0.045461,
     "end_time": "2022-10-20T20:13:35.859341",
     "exception": false,
     "start_time": "2022-10-20T20:13:35.813880",
     "status": "completed"
    },
    "tags": []
   },
   "outputs": [],
   "source": [
    "class Config:\n",
    "    pass\n",
    "config = Config()\n",
    "config.lr = 0.001\n",
    "config.num_epochs = 250\n",
    "config.bs = 50"
   ]
  },
  {
   "cell_type": "markdown",
   "id": "1385fa59",
   "metadata": {
    "papermill": {
     "duration": 0.027126,
     "end_time": "2022-10-20T20:13:35.914095",
     "exception": false,
     "start_time": "2022-10-20T20:13:35.886969",
     "status": "completed"
    },
    "tags": []
   },
   "source": [
    "### Running Models with the Training data\n",
    "Details about the network layers:\n",
    "- A first affine layer has 784 inputs and does 100 affine transforms. These are followed by a Relu\n",
    "- A second affine layer has 100 inputs from the 100 activations of the past layer, and does 100 affine transforms. These are followed by a Relu\n",
    "- A third affine layer has 100 activations and does 2 affine transformations to create an embedding for visualization. There is no non-linearity here.\n",
    "- A final \"logistic regression\" which has an affine transform from 2 inputs to 1 output, which is squeezed through a sigmoid.\n"
   ]
  },
  {
   "cell_type": "code",
   "execution_count": 17,
   "id": "2b9c66db",
   "metadata": {
    "execution": {
     "iopub.execute_input": "2022-10-20T20:13:35.977394Z",
     "iopub.status.busy": "2022-10-20T20:13:35.976760Z",
     "iopub.status.idle": "2022-10-20T20:13:35.989705Z",
     "shell.execute_reply": "2022-10-20T20:13:35.989184Z"
    },
    "papermill": {
     "duration": 0.045314,
     "end_time": "2022-10-20T20:13:35.989829",
     "exception": false,
     "start_time": "2022-10-20T20:13:35.944515",
     "status": "completed"
    },
    "tags": []
   },
   "outputs": [],
   "source": [
    "data = Data(X_train, y_train.reshape(-1,1))\n",
    "sampler = Sampler(data, config.bs, shuffle=True)\n",
    "\n",
    "dl = Dataloader(data, sampler)\n",
    "\n",
    "opt = GD(config.lr)\n",
    "loss = MSE()"
   ]
  },
  {
   "cell_type": "code",
   "execution_count": 18,
   "id": "b275e4c2",
   "metadata": {
    "execution": {
     "iopub.execute_input": "2022-10-20T20:13:36.048340Z",
     "iopub.status.busy": "2022-10-20T20:13:36.047731Z",
     "iopub.status.idle": "2022-10-20T20:13:36.060756Z",
     "shell.execute_reply": "2022-10-20T20:13:36.060258Z"
    },
    "papermill": {
     "duration": 0.043992,
     "end_time": "2022-10-20T20:13:36.060880",
     "exception": false,
     "start_time": "2022-10-20T20:13:36.016888",
     "status": "completed"
    },
    "tags": []
   },
   "outputs": [],
   "source": [
    "training_data_x = X_train\n",
    "testing_data_x = X_test\n",
    "training_data_y = y_train.reshape(-1,1)\n",
    "testing_data_y = y_test.reshape(-1,1)"
   ]
  },
  {
   "cell_type": "code",
   "execution_count": 19,
   "id": "76951160",
   "metadata": {
    "execution": {
     "iopub.execute_input": "2022-10-20T20:13:36.135472Z",
     "iopub.status.busy": "2022-10-20T20:13:36.129587Z",
     "iopub.status.idle": "2022-10-20T20:13:36.142482Z",
     "shell.execute_reply": "2022-10-20T20:13:36.142943Z"
    },
    "papermill": {
     "duration": 0.055176,
     "end_time": "2022-10-20T20:13:36.143091",
     "exception": false,
     "start_time": "2022-10-20T20:13:36.087915",
     "status": "completed"
    },
    "tags": []
   },
   "outputs": [
    {
     "name": "stdout",
     "output_type": "stream",
     "text": [
      "xavier\n",
      "xavier\n",
      "xavier\n",
      "xavier\n",
      "xavier\n"
     ]
    }
   ],
   "source": [
    "layers = [Affine(\"first\", 784, 100), Relu(\"first\"), Affine(\"second\", 100, 100), Relu(\"second\"), Affine(\"third\", 100, 2), Affine(\"last\", 2, 1), Sigmoid(\"last\")]\n",
    "model_nn = Model(layers)\n",
    "model_lr = Model([Affine(\"logits\", 784, 1), Sigmoid(\"sigmoid\")])"
   ]
  },
  {
   "cell_type": "code",
   "execution_count": 20,
   "id": "6eede77a",
   "metadata": {
    "execution": {
     "iopub.execute_input": "2022-10-20T20:13:36.214271Z",
     "iopub.status.busy": "2022-10-20T20:13:36.202061Z",
     "iopub.status.idle": "2022-10-20T20:13:36.218143Z",
     "shell.execute_reply": "2022-10-20T20:13:36.218612Z"
    },
    "papermill": {
     "duration": 0.048162,
     "end_time": "2022-10-20T20:13:36.218759",
     "exception": false,
     "start_time": "2022-10-20T20:13:36.170597",
     "status": "completed"
    },
    "tags": []
   },
   "outputs": [],
   "source": [
    "nn_learner = Learner(loss, model_nn, opt, config.num_epochs)\n",
    "acc_nn = ClfCallback(nn_learner, config.bs, training_data_x , testing_data_x, training_data_y, testing_data_y)\n",
    "nn_learner.set_callbacks([acc_nn])"
   ]
  },
  {
   "cell_type": "code",
   "execution_count": 21,
   "id": "877b6cc7",
   "metadata": {
    "execution": {
     "iopub.execute_input": "2022-10-20T20:13:36.285658Z",
     "iopub.status.busy": "2022-10-20T20:13:36.277517Z",
     "iopub.status.idle": "2022-10-20T20:13:36.292055Z",
     "shell.execute_reply": "2022-10-20T20:13:36.292523Z"
    },
    "papermill": {
     "duration": 0.046667,
     "end_time": "2022-10-20T20:13:36.292667",
     "exception": false,
     "start_time": "2022-10-20T20:13:36.246000",
     "status": "completed"
    },
    "tags": []
   },
   "outputs": [],
   "source": [
    "lr_learner = Learner(loss, model_lr, opt, config.num_epochs)\n",
    "acc_lr = ClfCallback(lr_learner, config.bs, training_data_x , testing_data_x, training_data_y, testing_data_y)\n",
    "lr_learner.set_callbacks([acc_lr])"
   ]
  },
  {
   "cell_type": "code",
   "execution_count": 22,
   "id": "d9b133c3",
   "metadata": {
    "execution": {
     "iopub.execute_input": "2022-10-20T20:13:36.362642Z",
     "iopub.status.busy": "2022-10-20T20:13:36.357709Z",
     "iopub.status.idle": "2022-10-20T20:14:57.612789Z",
     "shell.execute_reply": "2022-10-20T20:14:57.613727Z"
    },
    "papermill": {
     "duration": 81.293589,
     "end_time": "2022-10-20T20:14:57.613885",
     "exception": false,
     "start_time": "2022-10-20T20:13:36.320296",
     "status": "completed"
    },
    "tags": []
   },
   "outputs": [
    {
     "name": "stdout",
     "output_type": "stream",
     "text": [
      "Epoch 0, Loss 0.2344\n",
      "Training Accuracy: 0.6866, Testing Accuracy: 0.7082\n",
      "\n"
     ]
    },
    {
     "name": "stdout",
     "output_type": "stream",
     "text": [
      "Epoch 10, Loss 0.0866\n",
      "Training Accuracy: 0.9242, Testing Accuracy: 0.9410\n",
      "\n"
     ]
    },
    {
     "name": "stdout",
     "output_type": "stream",
     "text": [
      "Epoch 20, Loss 0.0551\n",
      "Training Accuracy: 0.9433, Testing Accuracy: 0.9526\n",
      "\n"
     ]
    },
    {
     "name": "stdout",
     "output_type": "stream",
     "text": [
      "Epoch 30, Loss 0.0441\n",
      "Training Accuracy: 0.9513, Testing Accuracy: 0.9607\n",
      "\n"
     ]
    },
    {
     "name": "stdout",
     "output_type": "stream",
     "text": [
      "Epoch 40, Loss 0.0383\n",
      "Training Accuracy: 0.9566, Testing Accuracy: 0.9662\n",
      "\n"
     ]
    },
    {
     "name": "stdout",
     "output_type": "stream",
     "text": [
      "Epoch 50, Loss 0.0347\n",
      "Training Accuracy: 0.9608, Testing Accuracy: 0.9677\n",
      "\n"
     ]
    },
    {
     "name": "stdout",
     "output_type": "stream",
     "text": [
      "Epoch 60, Loss 0.0321\n",
      "Training Accuracy: 0.9629, Testing Accuracy: 0.9703\n",
      "\n"
     ]
    },
    {
     "name": "stdout",
     "output_type": "stream",
     "text": [
      "Epoch 70, Loss 0.0302\n",
      "Training Accuracy: 0.9651, Testing Accuracy: 0.9703\n",
      "\n"
     ]
    },
    {
     "name": "stdout",
     "output_type": "stream",
     "text": [
      "Epoch 80, Loss 0.0286\n",
      "Training Accuracy: 0.9676, Testing Accuracy: 0.9708\n",
      "\n"
     ]
    },
    {
     "name": "stdout",
     "output_type": "stream",
     "text": [
      "Epoch 90, Loss 0.0273\n",
      "Training Accuracy: 0.9689, Testing Accuracy: 0.9713\n",
      "\n"
     ]
    },
    {
     "name": "stdout",
     "output_type": "stream",
     "text": [
      "Epoch 100, Loss 0.0263\n",
      "Training Accuracy: 0.9699, Testing Accuracy: 0.9718\n",
      "\n"
     ]
    },
    {
     "name": "stdout",
     "output_type": "stream",
     "text": [
      "Epoch 110, Loss 0.0254\n",
      "Training Accuracy: 0.9706, Testing Accuracy: 0.9708\n",
      "\n"
     ]
    },
    {
     "name": "stdout",
     "output_type": "stream",
     "text": [
      "Epoch 120, Loss 0.0245\n",
      "Training Accuracy: 0.9716, Testing Accuracy: 0.9708\n",
      "\n"
     ]
    },
    {
     "name": "stdout",
     "output_type": "stream",
     "text": [
      "Epoch 130, Loss 0.0238\n",
      "Training Accuracy: 0.9725, Testing Accuracy: 0.9708\n",
      "\n"
     ]
    },
    {
     "name": "stdout",
     "output_type": "stream",
     "text": [
      "Epoch 140, Loss 0.0232\n",
      "Training Accuracy: 0.9730, Testing Accuracy: 0.9708\n",
      "\n"
     ]
    },
    {
     "name": "stdout",
     "output_type": "stream",
     "text": [
      "Epoch 150, Loss 0.0226\n",
      "Training Accuracy: 0.9741, Testing Accuracy: 0.9718\n",
      "\n"
     ]
    },
    {
     "name": "stdout",
     "output_type": "stream",
     "text": [
      "Epoch 160, Loss 0.022\n",
      "Training Accuracy: 0.9749, Testing Accuracy: 0.9723\n",
      "\n"
     ]
    },
    {
     "name": "stdout",
     "output_type": "stream",
     "text": [
      "Epoch 170, Loss 0.0215\n",
      "Training Accuracy: 0.9754, Testing Accuracy: 0.9728\n",
      "\n"
     ]
    },
    {
     "name": "stdout",
     "output_type": "stream",
     "text": [
      "Epoch 180, Loss 0.0211\n",
      "Training Accuracy: 0.9760, Testing Accuracy: 0.9733\n",
      "\n"
     ]
    },
    {
     "name": "stdout",
     "output_type": "stream",
     "text": [
      "Epoch 190, Loss 0.0206\n",
      "Training Accuracy: 0.9768, Testing Accuracy: 0.9738\n",
      "\n"
     ]
    },
    {
     "name": "stdout",
     "output_type": "stream",
     "text": [
      "Epoch 200, Loss 0.0202\n",
      "Training Accuracy: 0.9770, Testing Accuracy: 0.9748\n",
      "\n"
     ]
    },
    {
     "name": "stdout",
     "output_type": "stream",
     "text": [
      "Epoch 210, Loss 0.0198\n",
      "Training Accuracy: 0.9777, Testing Accuracy: 0.9748\n",
      "\n"
     ]
    },
    {
     "name": "stdout",
     "output_type": "stream",
     "text": [
      "Epoch 220, Loss 0.0195\n",
      "Training Accuracy: 0.9784, Testing Accuracy: 0.9753\n",
      "\n"
     ]
    },
    {
     "name": "stdout",
     "output_type": "stream",
     "text": [
      "Epoch 230, Loss 0.0191\n",
      "Training Accuracy: 0.9784, Testing Accuracy: 0.9753\n",
      "\n"
     ]
    },
    {
     "name": "stdout",
     "output_type": "stream",
     "text": [
      "Epoch 240, Loss 0.0188\n",
      "Training Accuracy: 0.9791, Testing Accuracy: 0.9748\n",
      "\n"
     ]
    },
    {
     "data": {
      "text/plain": [
       "0.00842873248194279"
      ]
     },
     "execution_count": 22,
     "metadata": {},
     "output_type": "execute_result"
    }
   ],
   "source": [
    "nn_learner.train_loop(dl)"
   ]
  },
  {
   "cell_type": "code",
   "execution_count": 23,
   "id": "e0163366",
   "metadata": {
    "execution": {
     "iopub.execute_input": "2022-10-20T20:14:57.697761Z",
     "iopub.status.busy": "2022-10-20T20:14:57.697028Z",
     "iopub.status.idle": "2022-10-20T20:15:12.591390Z",
     "shell.execute_reply": "2022-10-20T20:15:12.592284Z"
    },
    "papermill": {
     "duration": 14.943356,
     "end_time": "2022-10-20T20:15:12.592449",
     "exception": false,
     "start_time": "2022-10-20T20:14:57.649093",
     "status": "completed"
    },
    "tags": []
   },
   "outputs": [
    {
     "name": "stdout",
     "output_type": "stream",
     "text": [
      "Epoch 0, Loss 0.2246\n",
      "Training Accuracy: 0.7524, Testing Accuracy: 0.7354\n",
      "\n"
     ]
    },
    {
     "name": "stdout",
     "output_type": "stream",
     "text": [
      "Epoch 10, Loss 0.102\n",
      "Training Accuracy: 0.9095, Testing Accuracy: 0.9183\n",
      "\n"
     ]
    },
    {
     "name": "stdout",
     "output_type": "stream",
     "text": [
      "Epoch 20, Loss 0.0789\n",
      "Training Accuracy: 0.9267, Testing Accuracy: 0.9360\n",
      "\n"
     ]
    },
    {
     "name": "stdout",
     "output_type": "stream",
     "text": [
      "Epoch 30, Loss 0.0681\n",
      "Training Accuracy: 0.9348, Testing Accuracy: 0.9430\n",
      "\n"
     ]
    },
    {
     "name": "stdout",
     "output_type": "stream",
     "text": [
      "Epoch 40, Loss 0.0615\n",
      "Training Accuracy: 0.9408, Testing Accuracy: 0.9486\n",
      "\n"
     ]
    },
    {
     "name": "stdout",
     "output_type": "stream",
     "text": [
      "Epoch 50, Loss 0.0571\n",
      "Training Accuracy: 0.9440, Testing Accuracy: 0.9491\n",
      "\n"
     ]
    },
    {
     "name": "stdout",
     "output_type": "stream",
     "text": [
      "Epoch 60, Loss 0.0538\n",
      "Training Accuracy: 0.9465, Testing Accuracy: 0.9536\n",
      "\n"
     ]
    },
    {
     "name": "stdout",
     "output_type": "stream",
     "text": [
      "Epoch 70, Loss 0.0512\n",
      "Training Accuracy: 0.9489, Testing Accuracy: 0.9556\n",
      "\n"
     ]
    },
    {
     "name": "stdout",
     "output_type": "stream",
     "text": [
      "Epoch 80, Loss 0.0492\n",
      "Training Accuracy: 0.9501, Testing Accuracy: 0.9587\n",
      "\n"
     ]
    },
    {
     "name": "stdout",
     "output_type": "stream",
     "text": [
      "Epoch 90, Loss 0.0475\n",
      "Training Accuracy: 0.9515, Testing Accuracy: 0.9592\n",
      "\n"
     ]
    },
    {
     "name": "stdout",
     "output_type": "stream",
     "text": [
      "Epoch 100, Loss 0.046\n",
      "Training Accuracy: 0.9525, Testing Accuracy: 0.9617\n",
      "\n"
     ]
    },
    {
     "name": "stdout",
     "output_type": "stream",
     "text": [
      "Epoch 110, Loss 0.0448\n",
      "Training Accuracy: 0.9536, Testing Accuracy: 0.9627\n",
      "\n"
     ]
    },
    {
     "name": "stdout",
     "output_type": "stream",
     "text": [
      "Epoch 120, Loss 0.0437\n",
      "Training Accuracy: 0.9542, Testing Accuracy: 0.9642\n",
      "\n"
     ]
    },
    {
     "name": "stdout",
     "output_type": "stream",
     "text": [
      "Epoch 130, Loss 0.0428\n",
      "Training Accuracy: 0.9548, Testing Accuracy: 0.9652\n",
      "\n"
     ]
    },
    {
     "name": "stdout",
     "output_type": "stream",
     "text": [
      "Epoch 140, Loss 0.042\n",
      "Training Accuracy: 0.9559, Testing Accuracy: 0.9657\n",
      "\n"
     ]
    },
    {
     "name": "stdout",
     "output_type": "stream",
     "text": [
      "Epoch 150, Loss 0.0412\n",
      "Training Accuracy: 0.9565, Testing Accuracy: 0.9657\n",
      "\n"
     ]
    },
    {
     "name": "stdout",
     "output_type": "stream",
     "text": [
      "Epoch 160, Loss 0.0406\n",
      "Training Accuracy: 0.9571, Testing Accuracy: 0.9657\n",
      "\n"
     ]
    },
    {
     "name": "stdout",
     "output_type": "stream",
     "text": [
      "Epoch 170, Loss 0.0399\n",
      "Training Accuracy: 0.9578, Testing Accuracy: 0.9657\n",
      "\n"
     ]
    },
    {
     "name": "stdout",
     "output_type": "stream",
     "text": [
      "Epoch 180, Loss 0.0394\n",
      "Training Accuracy: 0.9583, Testing Accuracy: 0.9657\n",
      "\n"
     ]
    },
    {
     "name": "stdout",
     "output_type": "stream",
     "text": [
      "Epoch 190, Loss 0.0389\n",
      "Training Accuracy: 0.9588, Testing Accuracy: 0.9662\n",
      "\n"
     ]
    },
    {
     "name": "stdout",
     "output_type": "stream",
     "text": [
      "Epoch 200, Loss 0.0384\n",
      "Training Accuracy: 0.9593, Testing Accuracy: 0.9662\n",
      "\n"
     ]
    },
    {
     "name": "stdout",
     "output_type": "stream",
     "text": [
      "Epoch 210, Loss 0.0379\n",
      "Training Accuracy: 0.9596, Testing Accuracy: 0.9657\n",
      "\n"
     ]
    },
    {
     "name": "stdout",
     "output_type": "stream",
     "text": [
      "Epoch 220, Loss 0.0375\n",
      "Training Accuracy: 0.9601, Testing Accuracy: 0.9662\n",
      "\n"
     ]
    },
    {
     "name": "stdout",
     "output_type": "stream",
     "text": [
      "Epoch 230, Loss 0.0371\n",
      "Training Accuracy: 0.9608, Testing Accuracy: 0.9662\n",
      "\n"
     ]
    },
    {
     "name": "stdout",
     "output_type": "stream",
     "text": [
      "Epoch 240, Loss 0.0368\n",
      "Training Accuracy: 0.9609, Testing Accuracy: 0.9667\n",
      "\n"
     ]
    },
    {
     "data": {
      "text/plain": [
       "0.006276097879708597"
      ]
     },
     "execution_count": 23,
     "metadata": {},
     "output_type": "execute_result"
    }
   ],
   "source": [
    "lr_learner.train_loop(dl)"
   ]
  },
  {
   "cell_type": "code",
   "execution_count": 24,
   "id": "ca410940",
   "metadata": {
    "execution": {
     "iopub.execute_input": "2022-10-20T20:15:12.689630Z",
     "iopub.status.busy": "2022-10-20T20:15:12.688907Z",
     "iopub.status.idle": "2022-10-20T20:15:12.913752Z",
     "shell.execute_reply": "2022-10-20T20:15:12.914219Z"
    },
    "papermill": {
     "duration": 0.279701,
     "end_time": "2022-10-20T20:15:12.914364",
     "exception": false,
     "start_time": "2022-10-20T20:15:12.634663",
     "status": "completed"
    },
    "tags": []
   },
   "outputs": [
    {
     "data": {
      "text/plain": [
       "<matplotlib.legend.Legend at 0x7f67d6bbf390>"
      ]
     },
     "execution_count": 24,
     "metadata": {},
     "output_type": "execute_result"
    },
    {
     "data": {
      "image/png": "[encoded data removed]",
      "text/plain": [
       "<Figure size 1080x720 with 1 Axes>"
      ]
     },
     "metadata": {
      "needs_background": "light"
     },
     "output_type": "display_data"
    }
   ],
   "source": [
    "#comparing the results of NN and LR\n",
    "plt.figure(figsize=(15,10))\n",
    "\n",
    "# Neural Network plots\n",
    "plt.plot(acc_nn.accuracies, 'r-', label = \"Training Accuracies - NN\")\n",
    "plt.plot(acc_nn.test_accuracies, 'g-', label = \"Testing Accuracies - NN\")\n",
    "\n",
    "# Logistic Regression plots\n",
    "plt.plot(acc_lr.accuracies, 'k-', label = \"Training Accuracies - LR\")\n",
    "plt.plot(acc_lr.test_accuracies, 'b-', label = \"Testing Accuracies - LR\")\n",
    "plt.legend()"
   ]
  },
  {
   "cell_type": "markdown",
   "id": "80dfb35c",
   "metadata": {
    "papermill": {
     "duration": 0.042234,
     "end_time": "2022-10-20T20:15:12.998983",
     "exception": false,
     "start_time": "2022-10-20T20:15:12.956749",
     "status": "completed"
    },
    "tags": []
   },
   "source": [
    "#### Plotting the outputs of this layer of the NN.\n"
   ]
  },
  {
   "cell_type": "code",
   "execution_count": 25,
   "id": "45eb2ff5",
   "metadata": {
    "execution": {
     "iopub.execute_input": "2022-10-20T20:15:13.089366Z",
     "iopub.status.busy": "2022-10-20T20:15:13.088707Z",
     "iopub.status.idle": "2022-10-20T20:15:13.110341Z",
     "shell.execute_reply": "2022-10-20T20:15:13.110806Z"
    },
    "papermill": {
     "duration": 0.069125,
     "end_time": "2022-10-20T20:15:13.110962",
     "exception": false,
     "start_time": "2022-10-20T20:15:13.041837",
     "status": "completed"
    },
    "tags": []
   },
   "outputs": [],
   "source": [
    "new_model = Model(layers[:-2])\n",
    "testing_plot = new_model(testing_data_x)"
   ]
  },
  {
   "cell_type": "code",
   "execution_count": 26,
   "id": "4c0a5485",
   "metadata": {
    "execution": {
     "iopub.execute_input": "2022-10-20T20:15:13.202066Z",
     "iopub.status.busy": "2022-10-20T20:15:13.201441Z",
     "iopub.status.idle": "2022-10-20T20:15:13.415646Z",
     "shell.execute_reply": "2022-10-20T20:15:13.416128Z"
    },
    "papermill": {
     "duration": 0.261166,
     "end_time": "2022-10-20T20:15:13.416286",
     "exception": false,
     "start_time": "2022-10-20T20:15:13.155120",
     "status": "completed"
    },
    "tags": []
   },
   "outputs": [
    {
     "data": {
      "text/plain": [
       "Text(0.5, 1.0, 'Outputs')"
      ]
     },
     "execution_count": 26,
     "metadata": {},
     "output_type": "execute_result"
    },
    {
     "data": {
      "image/png": "[encoded data removed]",
      "text/plain": [
       "<Figure size 576x504 with 1 Axes>"
      ]
     },
     "metadata": {
      "needs_background": "light"
     },
     "output_type": "display_data"
    }
   ],
   "source": [
    "# Plotting the scatter plot of points and color coding by class\n",
    "plt.figure(figsize=(8,7))\n",
    "plt.scatter(testing_plot[:,0], testing_plot[:,1], alpha = 0.1, c = y_test.ravel());\n",
    "plt.title('Outputs')"
   ]
  },
  {
   "cell_type": "markdown",
   "id": "a74fcf8f",
   "metadata": {
    "papermill": {
     "duration": 0.044258,
     "end_time": "2022-10-20T20:15:13.505030",
     "exception": false,
     "start_time": "2022-10-20T20:15:13.460772",
     "status": "completed"
    },
    "tags": []
   },
   "source": [
    "Probability contours"
   ]
  },
  {
   "cell_type": "code",
   "execution_count": 27,
   "id": "d0afc8e3",
   "metadata": {
    "execution": {
     "iopub.execute_input": "2022-10-20T20:15:13.638341Z",
     "iopub.status.busy": "2022-10-20T20:15:13.636213Z",
     "iopub.status.idle": "2022-10-20T20:15:13.649072Z",
     "shell.execute_reply": "2022-10-20T20:15:13.648532Z"
    },
    "papermill": {
     "duration": 0.099643,
     "end_time": "2022-10-20T20:15:13.649199",
     "exception": false,
     "start_time": "2022-10-20T20:15:13.549556",
     "status": "completed"
    },
    "tags": []
   },
   "outputs": [],
   "source": [
    "model_prob = Model(layers[-2:]) "
   ]
  },
  {
   "cell_type": "code",
   "execution_count": 28,
   "id": "9b96e238",
   "metadata": {
    "execution": {
     "iopub.execute_input": "2022-10-20T20:15:13.749013Z",
     "iopub.status.busy": "2022-10-20T20:15:13.748366Z",
     "iopub.status.idle": "2022-10-20T20:15:13.761396Z",
     "shell.execute_reply": "2022-10-20T20:15:13.760862Z"
    },
    "papermill": {
     "duration": 0.067701,
     "end_time": "2022-10-20T20:15:13.761534",
     "exception": false,
     "start_time": "2022-10-20T20:15:13.693833",
     "status": "completed"
    },
    "tags": []
   },
   "outputs": [],
   "source": [
    "#creating the x and y ranges according to the above generated plot.\n",
    "x_range = np.linspace(-4, 1, 100) \n",
    "y_range = np.linspace(-6, 6, 100) \n",
    "x_grid, y_grid = np.meshgrid(x_range, y_range) # x_grid and y_grig are of size 100 X 100\n",
    "\n",
    "# converting x_grid and y_grid to continuous arrays\n",
    "x_gridflat = np.ravel(x_grid)\n",
    "y_gridflat = np.ravel(y_grid)\n",
    "\n",
    "# The last layer of the current model takes two columns as input. Hence transpose of np.vstack() is required.\n",
    "X = np.vstack((x_gridflat, y_gridflat)).T\n",
    "\n",
    "prob_contour = model_prob(X).reshape(100,100) "
   ]
  },
  {
   "cell_type": "code",
   "execution_count": 29,
   "id": "da72499a",
   "metadata": {
    "execution": {
     "iopub.execute_input": "2022-10-20T20:15:13.855944Z",
     "iopub.status.busy": "2022-10-20T20:15:13.855339Z",
     "iopub.status.idle": "2022-10-20T20:15:14.120416Z",
     "shell.execute_reply": "2022-10-20T20:15:14.120883Z"
    },
    "papermill": {
     "duration": 0.314566,
     "end_time": "2022-10-20T20:15:14.121034",
     "exception": false,
     "start_time": "2022-10-20T20:15:13.806468",
     "status": "completed"
    },
    "tags": []
   },
   "outputs": [
    {
     "data": {
      "image/png": "[encoded data removed]",
      "text/plain": [
       "<Figure size 720x648 with 1 Axes>"
      ]
     },
     "metadata": {
      "needs_background": "light"
     },
     "output_type": "display_data"
    }
   ],
   "source": [
    "plt.figure(figsize=(10,9))\n",
    "plt.scatter(testing_plot[:,0], testing_plot[:,1], alpha = 0.1, c = y_test.ravel())\n",
    "contours = plt.contour(x_grid,y_grid,prob_contour)\n",
    "plt.title('Probability Contours')\n",
    "plt.clabel(contours, inline = True );"
   ]
  },
  {
   "cell_type": "code",
   "execution_count": null,
   "id": "e81b4ac7",
   "metadata": {
    "papermill": {
     "duration": 0.047389,
     "end_time": "2022-10-20T20:15:14.216289",
     "exception": false,
     "start_time": "2022-10-20T20:15:14.168900",
     "status": "completed"
    },
    "tags": []
   },
   "outputs": [],
   "source": []
  }
 ],
 "metadata": {
  "kernelspec": {
   "display_name": "Python 3",
   "language": "python",
   "name": "python3"
  },
  "language_info": {
   "codemirror_mode": {
    "name": "ipython",
    "version": 3
   },
   "file_extension": ".py",
   "mimetype": "text/x-python",
   "name": "python",
   "nbconvert_exporter": "python",
   "pygments_lexer": "ipython3",
   "version": "3.6.15"
  },
  "papermill": {
   "default_parameters": {},
   "duration": 105.152691,
   "end_time": "2022-10-20T20:15:14.785500",
   "environment_variables": {},
   "exception": null,
   "input_path": "2020-08-11-part2.ipynb",
   "output_path": "2020-08-11-part2.ipynb",
   "parameters": {},
   "start_time": "2022-10-20T20:13:29.632809",
   "version": "2.3.3"
  }
 },
 "nbformat": 4,
 "nbformat_minor": 5
}