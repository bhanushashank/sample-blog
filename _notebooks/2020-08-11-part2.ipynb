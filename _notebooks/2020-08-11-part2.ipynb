{
 "cells": [
  {
   "cell_type": "markdown",
   "id": "98380cd3",
   "metadata": {
    "papermill": {
     "duration": 0.029658,
     "end_time": "2022-11-02T20:10:27.499765",
     "exception": false,
     "start_time": "2022-11-02T20:10:27.470107",
     "status": "completed"
    },
    "tags": []
   },
   "source": [
    "# Distinguish Your Own Digits (DYOD)"
   ]
  },
  {
   "cell_type": "markdown",
   "id": "ef31240d",
   "metadata": {
    "papermill": {
     "duration": 0.023811,
     "end_time": "2022-11-02T20:10:27.547948",
     "exception": false,
     "start_time": "2022-11-02T20:10:27.524137",
     "status": "completed"
    },
    "tags": []
   },
   "source": [
    "You are going to write a classifier that distinguishes between the number 3 and number 8."
   ]
  },
  {
   "cell_type": "code",
   "execution_count": 1,
   "id": "b15c8646",
   "metadata": {
    "execution": {
     "iopub.execute_input": "2022-11-02T20:10:27.605520Z",
     "iopub.status.busy": "2022-11-02T20:10:27.603173Z",
     "iopub.status.idle": "2022-11-02T20:10:27.616344Z",
     "shell.execute_reply": "2022-11-02T20:10:27.615851Z"
    },
    "papermill": {
     "duration": 0.044849,
     "end_time": "2022-11-02T20:10:27.616472",
     "exception": false,
     "start_time": "2022-11-02T20:10:27.571623",
     "status": "completed"
    },
    "tags": []
   },
   "outputs": [],
   "source": [
    "%load_ext autoreload\n",
    "%autoreload 2"
   ]
  },
  {
   "cell_type": "code",
   "execution_count": 2,
   "id": "22ef38dc",
   "metadata": {
    "execution": {
     "iopub.execute_input": "2022-11-02T20:10:27.672788Z",
     "iopub.status.busy": "2022-11-02T20:10:27.672190Z",
     "iopub.status.idle": "2022-11-02T20:10:28.210203Z",
     "shell.execute_reply": "2022-11-02T20:10:28.209619Z"
    },
    "papermill": {
     "duration": 0.570088,
     "end_time": "2022-11-02T20:10:28.210344",
     "exception": false,
     "start_time": "2022-11-02T20:10:27.640256",
     "status": "completed"
    },
    "tags": []
   },
   "outputs": [],
   "source": [
    "%matplotlib inline\n",
    "import numpy as np\n",
    "import matplotlib.pyplot as plt\n",
    "import pandas as pd"
   ]
  },
  {
   "cell_type": "markdown",
   "id": "ba036198",
   "metadata": {
    "papermill": {
     "duration": 0.023734,
     "end_time": "2022-11-02T20:10:28.258329",
     "exception": false,
     "start_time": "2022-11-02T20:10:28.234595",
     "status": "completed"
    },
    "tags": []
   },
   "source": [
    "From the command line run `pip install mnist`. This is a library that will help you bring down the mnist dataset. If you run this from a notebook, you need to put  `!pip install mnist` in a cell by itself."
   ]
  },
  {
   "cell_type": "code",
   "execution_count": 3,
   "id": "bb6ad8a1",
   "metadata": {
    "execution": {
     "iopub.execute_input": "2022-11-02T20:10:28.311188Z",
     "iopub.status.busy": "2022-11-02T20:10:28.310543Z",
     "iopub.status.idle": "2022-11-02T20:10:29.888121Z",
     "shell.execute_reply": "2022-11-02T20:10:29.887523Z"
    },
    "papermill": {
     "duration": 1.606033,
     "end_time": "2022-11-02T20:10:29.888254",
     "exception": false,
     "start_time": "2022-11-02T20:10:28.282221",
     "status": "completed"
    },
    "tags": []
   },
   "outputs": [
    {
     "name": "stdout",
     "output_type": "stream",
     "text": [
      "Collecting mnist\r\n"
     ]
    },
    {
     "name": "stdout",
     "output_type": "stream",
     "text": [
      "  Downloading mnist-0.2.2-py2.py3-none-any.whl (3.5 kB)\r\n",
      "Requirement already satisfied: numpy in /opt/hostedtoolcache/Python/3.6.15/x64/lib/python3.6/site-packages (from mnist) (1.19.5)\r\n"
     ]
    },
    {
     "name": "stdout",
     "output_type": "stream",
     "text": [
      "Installing collected packages: mnist\r\n"
     ]
    },
    {
     "name": "stdout",
     "output_type": "stream",
     "text": [
      "Successfully installed mnist-0.2.2\r\n"
     ]
    }
   ],
   "source": [
    "!pip install mnist"
   ]
  },
  {
   "cell_type": "markdown",
   "id": "69df9c9a",
   "metadata": {
    "papermill": {
     "duration": 0.024785,
     "end_time": "2022-11-02T20:10:29.938756",
     "exception": false,
     "start_time": "2022-11-02T20:10:29.913971",
     "status": "completed"
    },
    "tags": []
   },
   "source": [
    "## Preparing the Data"
   ]
  },
  {
   "cell_type": "code",
   "execution_count": 4,
   "id": "7f69d806",
   "metadata": {
    "execution": {
     "iopub.execute_input": "2022-11-02T20:10:30.007753Z",
     "iopub.status.busy": "2022-11-02T20:10:30.005086Z",
     "iopub.status.idle": "2022-11-02T20:10:30.012386Z",
     "shell.execute_reply": "2022-11-02T20:10:30.011901Z"
    },
    "papermill": {
     "duration": 0.04915,
     "end_time": "2022-11-02T20:10:30.012503",
     "exception": false,
     "start_time": "2022-11-02T20:10:29.963353",
     "status": "completed"
    },
    "tags": []
   },
   "outputs": [],
   "source": [
    "import mnist"
   ]
  },
  {
   "cell_type": "code",
   "execution_count": 5,
   "id": "a411e44f",
   "metadata": {
    "execution": {
     "iopub.execute_input": "2022-11-02T20:10:30.066235Z",
     "iopub.status.busy": "2022-11-02T20:10:30.065653Z",
     "iopub.status.idle": "2022-11-02T20:10:30.589336Z",
     "shell.execute_reply": "2022-11-02T20:10:30.589865Z"
    },
    "papermill": {
     "duration": 0.55252,
     "end_time": "2022-11-02T20:10:30.590026",
     "exception": false,
     "start_time": "2022-11-02T20:10:30.037506",
     "status": "completed"
    },
    "tags": []
   },
   "outputs": [],
   "source": [
    "train_images = mnist.train_images()\n",
    "train_labels = mnist.train_labels()"
   ]
  },
  {
   "cell_type": "code",
   "execution_count": 6,
   "id": "dceab3a5",
   "metadata": {
    "execution": {
     "iopub.execute_input": "2022-11-02T20:10:30.645845Z",
     "iopub.status.busy": "2022-11-02T20:10:30.645253Z",
     "iopub.status.idle": "2022-11-02T20:10:30.659456Z",
     "shell.execute_reply": "2022-11-02T20:10:30.660021Z"
    },
    "papermill": {
     "duration": 0.044392,
     "end_time": "2022-11-02T20:10:30.660151",
     "exception": false,
     "start_time": "2022-11-02T20:10:30.615759",
     "status": "completed"
    },
    "tags": []
   },
   "outputs": [
    {
     "data": {
      "text/plain": [
       "((60000, 28, 28), (60000,))"
      ]
     },
     "execution_count": 6,
     "metadata": {},
     "output_type": "execute_result"
    }
   ],
   "source": [
    "train_images.shape, train_labels.shape"
   ]
  },
  {
   "cell_type": "code",
   "execution_count": 7,
   "id": "f50dc2bb",
   "metadata": {
    "execution": {
     "iopub.execute_input": "2022-11-02T20:10:30.714683Z",
     "iopub.status.busy": "2022-11-02T20:10:30.714072Z",
     "iopub.status.idle": "2022-11-02T20:10:30.839808Z",
     "shell.execute_reply": "2022-11-02T20:10:30.839135Z"
    },
    "papermill": {
     "duration": 0.154585,
     "end_time": "2022-11-02T20:10:30.839928",
     "exception": false,
     "start_time": "2022-11-02T20:10:30.685343",
     "status": "completed"
    },
    "tags": []
   },
   "outputs": [],
   "source": [
    "test_images = mnist.test_images()\n",
    "test_labels = mnist.test_labels()"
   ]
  },
  {
   "cell_type": "code",
   "execution_count": 8,
   "id": "fc38cf1b",
   "metadata": {
    "execution": {
     "iopub.execute_input": "2022-11-02T20:10:30.894318Z",
     "iopub.status.busy": "2022-11-02T20:10:30.893739Z",
     "iopub.status.idle": "2022-11-02T20:10:30.907443Z",
     "shell.execute_reply": "2022-11-02T20:10:30.908000Z"
    },
    "papermill": {
     "duration": 0.042916,
     "end_time": "2022-11-02T20:10:30.908131",
     "exception": false,
     "start_time": "2022-11-02T20:10:30.865215",
     "status": "completed"
    },
    "tags": []
   },
   "outputs": [
    {
     "data": {
      "text/plain": [
       "((10000, 28, 28), (10000,))"
      ]
     },
     "execution_count": 8,
     "metadata": {},
     "output_type": "execute_result"
    }
   ],
   "source": [
    "test_images.shape, test_labels.shape"
   ]
  },
  {
   "cell_type": "code",
   "execution_count": 9,
   "id": "f9ed8fe0",
   "metadata": {
    "execution": {
     "iopub.execute_input": "2022-11-02T20:10:30.962359Z",
     "iopub.status.busy": "2022-11-02T20:10:30.961782Z",
     "iopub.status.idle": "2022-11-02T20:10:31.100085Z",
     "shell.execute_reply": "2022-11-02T20:10:31.099591Z"
    },
    "papermill": {
     "duration": 0.166735,
     "end_time": "2022-11-02T20:10:31.100201",
     "exception": false,
     "start_time": "2022-11-02T20:10:30.933466",
     "status": "completed"
    },
    "tags": []
   },
   "outputs": [
    {
     "name": "stdout",
     "output_type": "stream",
     "text": [
      "2\n"
     ]
    },
    {
     "data": {
      "text/plain": [
       "<matplotlib.image.AxesImage at 0x7f99325b9cf8>"
      ]
     },
     "execution_count": 9,
     "metadata": {},
     "output_type": "execute_result"
    },
    {
     "data": {
      "image/png": "[encoded data removed]",
      "text/plain": [
       "<Figure size 432x288 with 1 Axes>"
      ]
     },
     "metadata": {
      "needs_background": "light"
     },
     "output_type": "display_data"
    }
   ],
   "source": [
    "image_index = 7776 # You may select anything up to 60,000\n",
    "print(train_labels[image_index]) \n",
    "plt.imshow(train_images[image_index], cmap='Greys')"
   ]
  },
  {
   "cell_type": "markdown",
   "id": "a8d2388d",
   "metadata": {
    "papermill": {
     "duration": 0.026447,
     "end_time": "2022-11-02T20:10:31.153359",
     "exception": false,
     "start_time": "2022-11-02T20:10:31.126912",
     "status": "completed"
    },
    "tags": []
   },
   "source": [
    "## Filter data to get 3 and 8 out"
   ]
  },
  {
   "cell_type": "code",
   "execution_count": 10,
   "id": "776f7fc7",
   "metadata": {
    "execution": {
     "iopub.execute_input": "2022-11-02T20:10:31.211414Z",
     "iopub.status.busy": "2022-11-02T20:10:31.210803Z",
     "iopub.status.idle": "2022-11-02T20:10:31.230535Z",
     "shell.execute_reply": "2022-11-02T20:10:31.229980Z"
    },
    "papermill": {
     "duration": 0.050455,
     "end_time": "2022-11-02T20:10:31.230686",
     "exception": false,
     "start_time": "2022-11-02T20:10:31.180231",
     "status": "completed"
    },
    "tags": []
   },
   "outputs": [],
   "source": [
    "train_filter = np.where((train_labels == 3 ) | (train_labels == 8))\n",
    "test_filter = np.where((test_labels == 3) | (test_labels == 8))\n",
    "X_train, y_train = train_images[train_filter], train_labels[train_filter]\n",
    "X_test, y_test = test_images[test_filter], test_labels[test_filter]"
   ]
  },
  {
   "cell_type": "markdown",
   "id": "948f0b7e",
   "metadata": {
    "papermill": {
     "duration": 0.026446,
     "end_time": "2022-11-02T20:10:31.284624",
     "exception": false,
     "start_time": "2022-11-02T20:10:31.258178",
     "status": "completed"
    },
    "tags": []
   },
   "source": [
    "We normalize the pizel values in the 0 to 1 range"
   ]
  },
  {
   "cell_type": "code",
   "execution_count": 11,
   "id": "ee4c2166",
   "metadata": {
    "execution": {
     "iopub.execute_input": "2022-11-02T20:10:31.343602Z",
     "iopub.status.busy": "2022-11-02T20:10:31.343005Z",
     "iopub.status.idle": "2022-11-02T20:10:31.391621Z",
     "shell.execute_reply": "2022-11-02T20:10:31.391011Z"
    },
    "papermill": {
     "duration": 0.078525,
     "end_time": "2022-11-02T20:10:31.391751",
     "exception": false,
     "start_time": "2022-11-02T20:10:31.313226",
     "status": "completed"
    },
    "tags": []
   },
   "outputs": [],
   "source": [
    "X_train = X_train/255.\n",
    "X_test = X_test/255."
   ]
  },
  {
   "cell_type": "markdown",
   "id": "ddcf4fab",
   "metadata": {
    "papermill": {
     "duration": 0.026519,
     "end_time": "2022-11-02T20:10:31.445969",
     "exception": false,
     "start_time": "2022-11-02T20:10:31.419450",
     "status": "completed"
    },
    "tags": []
   },
   "source": [
    "And setup the labels as 1 (when the digit is 3) and 0 (when the digit is 8)"
   ]
  },
  {
   "cell_type": "code",
   "execution_count": 12,
   "id": "7dc908f2",
   "metadata": {
    "execution": {
     "iopub.execute_input": "2022-11-02T20:10:31.515903Z",
     "iopub.status.busy": "2022-11-02T20:10:31.511926Z",
     "iopub.status.idle": "2022-11-02T20:10:31.518927Z",
     "shell.execute_reply": "2022-11-02T20:10:31.519352Z"
    },
    "papermill": {
     "duration": 0.046932,
     "end_time": "2022-11-02T20:10:31.519485",
     "exception": false,
     "start_time": "2022-11-02T20:10:31.472553",
     "status": "completed"
    },
    "tags": []
   },
   "outputs": [],
   "source": [
    "y_train = 1*(y_train==3)\n",
    "y_test = 1*(y_test==3)"
   ]
  },
  {
   "cell_type": "code",
   "execution_count": 13,
   "id": "01e4e969",
   "metadata": {
    "execution": {
     "iopub.execute_input": "2022-11-02T20:10:31.584004Z",
     "iopub.status.busy": "2022-11-02T20:10:31.575320Z",
     "iopub.status.idle": "2022-11-02T20:10:31.591435Z",
     "shell.execute_reply": "2022-11-02T20:10:31.590328Z"
    },
    "papermill": {
     "duration": 0.045629,
     "end_time": "2022-11-02T20:10:31.591548",
     "exception": false,
     "start_time": "2022-11-02T20:10:31.545919",
     "status": "completed"
    },
    "tags": []
   },
   "outputs": [
    {
     "data": {
      "text/plain": [
       "((11982, 28, 28), (1984, 28, 28))"
      ]
     },
     "execution_count": 13,
     "metadata": {},
     "output_type": "execute_result"
    }
   ],
   "source": [
    "X_train.shape, X_test.shape"
   ]
  },
  {
   "cell_type": "markdown",
   "id": "5ccf3f85",
   "metadata": {
    "papermill": {
     "duration": 0.026639,
     "end_time": "2022-11-02T20:10:31.645201",
     "exception": false,
     "start_time": "2022-11-02T20:10:31.618562",
     "status": "completed"
    },
    "tags": []
   },
   "source": [
    "We reshape the data to flatten the image pixels into a set of features or co-variates:"
   ]
  },
  {
   "cell_type": "code",
   "execution_count": 14,
   "id": "5286a4a3",
   "metadata": {
    "execution": {
     "iopub.execute_input": "2022-11-02T20:10:31.702768Z",
     "iopub.status.busy": "2022-11-02T20:10:31.702168Z",
     "iopub.status.idle": "2022-11-02T20:10:31.716219Z",
     "shell.execute_reply": "2022-11-02T20:10:31.715649Z"
    },
    "papermill": {
     "duration": 0.044433,
     "end_time": "2022-11-02T20:10:31.716332",
     "exception": false,
     "start_time": "2022-11-02T20:10:31.671899",
     "status": "completed"
    },
    "tags": []
   },
   "outputs": [
    {
     "data": {
      "text/plain": [
       "((11982, 784), (1984, 784))"
      ]
     },
     "execution_count": 14,
     "metadata": {},
     "output_type": "execute_result"
    }
   ],
   "source": [
    "X_train = X_train.reshape(X_train.shape[0], -1)\n",
    "X_test = X_test.reshape(X_test.shape[0], -1)\n",
    "X_train.shape, X_test.shape"
   ]
  },
  {
   "cell_type": "code",
   "execution_count": 15,
   "id": "73c5f88a",
   "metadata": {
    "execution": {
     "iopub.execute_input": "2022-11-02T20:10:31.776028Z",
     "iopub.status.busy": "2022-11-02T20:10:31.775441Z",
     "iopub.status.idle": "2022-11-02T20:10:31.794159Z",
     "shell.execute_reply": "2022-11-02T20:10:31.793692Z"
    },
    "papermill": {
     "duration": 0.050909,
     "end_time": "2022-11-02T20:10:31.794276",
     "exception": false,
     "start_time": "2022-11-02T20:10:31.743367",
     "status": "completed"
    },
    "tags": []
   },
   "outputs": [],
   "source": [
    "#Impoting functions from 'Kudzu'\n",
    "from kudzu.model import Model\n",
    "from kudzu.train import Learner\n",
    "from kudzu.optim import GD\n",
    "from kudzu.data import Data, Sampler,Dataloader\n",
    "\n",
    "from kudzu.callbacks import AccCallback\n",
    "from kudzu.callbacks import ClfCallback\n",
    "\n",
    "from kudzu.loss import MSE\n",
    "\n",
    "from kudzu.layer import Sigmoid,Relu\n",
    "from kudzu.layer import Affine"
   ]
  },
  {
   "cell_type": "markdown",
   "id": "bc01172a",
   "metadata": {
    "papermill": {
     "duration": 0.026855,
     "end_time": "2022-11-02T20:10:31.849114",
     "exception": false,
     "start_time": "2022-11-02T20:10:31.822259",
     "status": "completed"
    },
    "tags": []
   },
   "source": [
    "### Let us create a `Config` class, to store important parameters. \n",
    "This class essentially plays the role of a dictionary."
   ]
  },
  {
   "cell_type": "code",
   "execution_count": 16,
   "id": "978281aa",
   "metadata": {
    "execution": {
     "iopub.execute_input": "2022-11-02T20:10:31.908024Z",
     "iopub.status.busy": "2022-11-02T20:10:31.907419Z",
     "iopub.status.idle": "2022-11-02T20:10:31.919001Z",
     "shell.execute_reply": "2022-11-02T20:10:31.919438Z"
    },
    "papermill": {
     "duration": 0.043676,
     "end_time": "2022-11-02T20:10:31.919573",
     "exception": false,
     "start_time": "2022-11-02T20:10:31.875897",
     "status": "completed"
    },
    "tags": []
   },
   "outputs": [],
   "source": [
    "class Config:\n",
    "    pass\n",
    "config = Config()\n",
    "config.lr = 0.001\n",
    "config.num_epochs = 250\n",
    "config.bs = 50"
   ]
  },
  {
   "cell_type": "markdown",
   "id": "1385fa59",
   "metadata": {
    "papermill": {
     "duration": 0.026879,
     "end_time": "2022-11-02T20:10:31.973792",
     "exception": false,
     "start_time": "2022-11-02T20:10:31.946913",
     "status": "completed"
    },
    "tags": []
   },
   "source": [
    "### Running Models with the Training data\n",
    "Details about the network layers:\n",
    "- A first affine layer has 784 inputs and does 100 affine transforms. These are followed by a Relu\n",
    "- A second affine layer has 100 inputs from the 100 activations of the past layer, and does 100 affine transforms. These are followed by a Relu\n",
    "- A third affine layer has 100 activations and does 2 affine transformations to create an embedding for visualization. There is no non-linearity here.\n",
    "- A final \"logistic regression\" which has an affine transform from 2 inputs to 1 output, which is squeezed through a sigmoid.\n"
   ]
  },
  {
   "cell_type": "code",
   "execution_count": 17,
   "id": "2b9c66db",
   "metadata": {
    "execution": {
     "iopub.execute_input": "2022-11-02T20:10:32.034473Z",
     "iopub.status.busy": "2022-11-02T20:10:32.033865Z",
     "iopub.status.idle": "2022-11-02T20:10:32.046674Z",
     "shell.execute_reply": "2022-11-02T20:10:32.047150Z"
    },
    "papermill": {
     "duration": 0.046575,
     "end_time": "2022-11-02T20:10:32.047283",
     "exception": false,
     "start_time": "2022-11-02T20:10:32.000708",
     "status": "completed"
    },
    "tags": []
   },
   "outputs": [],
   "source": [
    "data = Data(X_train, y_train.reshape(-1,1))\n",
    "sampler = Sampler(data, config.bs, shuffle=True)\n",
    "\n",
    "dl = Dataloader(data, sampler)\n",
    "\n",
    "opt = GD(config.lr)\n",
    "loss = MSE()"
   ]
  },
  {
   "cell_type": "code",
   "execution_count": 18,
   "id": "b275e4c2",
   "metadata": {
    "execution": {
     "iopub.execute_input": "2022-11-02T20:10:32.105830Z",
     "iopub.status.busy": "2022-11-02T20:10:32.105233Z",
     "iopub.status.idle": "2022-11-02T20:10:32.117782Z",
     "shell.execute_reply": "2022-11-02T20:10:32.118212Z"
    },
    "papermill": {
     "duration": 0.043702,
     "end_time": "2022-11-02T20:10:32.118347",
     "exception": false,
     "start_time": "2022-11-02T20:10:32.074645",
     "status": "completed"
    },
    "tags": []
   },
   "outputs": [],
   "source": [
    "training_data_x = X_train\n",
    "testing_data_x = X_test\n",
    "training_data_y = y_train.reshape(-1,1)\n",
    "testing_data_y = y_test.reshape(-1,1)"
   ]
  },
  {
   "cell_type": "code",
   "execution_count": 19,
   "id": "76951160",
   "metadata": {
    "execution": {
     "iopub.execute_input": "2022-11-02T20:10:32.178104Z",
     "iopub.status.busy": "2022-11-02T20:10:32.177520Z",
     "iopub.status.idle": "2022-11-02T20:10:32.193689Z",
     "shell.execute_reply": "2022-11-02T20:10:32.193232Z"
    },
    "papermill": {
     "duration": 0.048575,
     "end_time": "2022-11-02T20:10:32.193803",
     "exception": false,
     "start_time": "2022-11-02T20:10:32.145228",
     "status": "completed"
    },
    "tags": []
   },
   "outputs": [
    {
     "name": "stdout",
     "output_type": "stream",
     "text": [
      "xavier\n",
      "xavier\n",
      "xavier\n",
      "xavier\n",
      "xavier\n"
     ]
    }
   ],
   "source": [
    "layers = [Affine(\"first\", 784, 100), Relu(\"first\"), Affine(\"second\", 100, 100), Relu(\"second\"), Affine(\"third\", 100, 2), Affine(\"last\", 2, 1), Sigmoid(\"last\")]\n",
    "model_nn = Model(layers)\n",
    "model_lr = Model([Affine(\"logits\", 784, 1), Sigmoid(\"sigmoid\")])"
   ]
  },
  {
   "cell_type": "code",
   "execution_count": 20,
   "id": "6eede77a",
   "metadata": {
    "execution": {
     "iopub.execute_input": "2022-11-02T20:10:32.253044Z",
     "iopub.status.busy": "2022-11-02T20:10:32.252458Z",
     "iopub.status.idle": "2022-11-02T20:10:32.265028Z",
     "shell.execute_reply": "2022-11-02T20:10:32.264541Z"
    },
    "papermill": {
     "duration": 0.043883,
     "end_time": "2022-11-02T20:10:32.265142",
     "exception": false,
     "start_time": "2022-11-02T20:10:32.221259",
     "status": "completed"
    },
    "tags": []
   },
   "outputs": [],
   "source": [
    "nn_learner = Learner(loss, model_nn, opt, config.num_epochs)\n",
    "acc_nn = ClfCallback(nn_learner, config.bs, training_data_x , testing_data_x, training_data_y, testing_data_y)\n",
    "nn_learner.set_callbacks([acc_nn])"
   ]
  },
  {
   "cell_type": "code",
   "execution_count": 21,
   "id": "877b6cc7",
   "metadata": {
    "execution": {
     "iopub.execute_input": "2022-11-02T20:10:32.324654Z",
     "iopub.status.busy": "2022-11-02T20:10:32.324063Z",
     "iopub.status.idle": "2022-11-02T20:10:32.336436Z",
     "shell.execute_reply": "2022-11-02T20:10:32.335960Z"
    },
    "papermill": {
     "duration": 0.043946,
     "end_time": "2022-11-02T20:10:32.336548",
     "exception": false,
     "start_time": "2022-11-02T20:10:32.292602",
     "status": "completed"
    },
    "tags": []
   },
   "outputs": [],
   "source": [
    "lr_learner = Learner(loss, model_lr, opt, config.num_epochs)\n",
    "acc_lr = ClfCallback(lr_learner, config.bs, training_data_x , testing_data_x, training_data_y, testing_data_y)\n",
    "lr_learner.set_callbacks([acc_lr])"
   ]
  },
  {
   "cell_type": "code",
   "execution_count": 22,
   "id": "d9b133c3",
   "metadata": {
    "execution": {
     "iopub.execute_input": "2022-11-02T20:10:32.394413Z",
     "iopub.status.busy": "2022-11-02T20:10:32.393841Z",
     "iopub.status.idle": "2022-11-02T20:11:46.689509Z",
     "shell.execute_reply": "2022-11-02T20:11:46.690065Z"
    },
    "papermill": {
     "duration": 74.326409,
     "end_time": "2022-11-02T20:11:46.690201",
     "exception": false,
     "start_time": "2022-11-02T20:10:32.363792",
     "status": "completed"
    },
    "tags": []
   },
   "outputs": [
    {
     "name": "stdout",
     "output_type": "stream",
     "text": [
      "Epoch 0, Loss 0.238\n",
      "Training Accuracy: 0.6783, Testing Accuracy: 0.6830\n",
      "\n"
     ]
    },
    {
     "name": "stdout",
     "output_type": "stream",
     "text": [
      "Epoch 10, Loss 0.1239\n",
      "Training Accuracy: 0.8902, Testing Accuracy: 0.8957\n",
      "\n"
     ]
    },
    {
     "name": "stdout",
     "output_type": "stream",
     "text": [
      "Epoch 20, Loss 0.0707\n",
      "Training Accuracy: 0.9233, Testing Accuracy: 0.9365\n",
      "\n"
     ]
    },
    {
     "name": "stdout",
     "output_type": "stream",
     "text": [
      "Epoch 30, Loss 0.0521\n",
      "Training Accuracy: 0.9415, Testing Accuracy: 0.9526\n",
      "\n"
     ]
    },
    {
     "name": "stdout",
     "output_type": "stream",
     "text": [
      "Epoch 40, Loss 0.0436\n",
      "Training Accuracy: 0.9509, Testing Accuracy: 0.9592\n",
      "\n"
     ]
    },
    {
     "name": "stdout",
     "output_type": "stream",
     "text": [
      "Epoch 50, Loss 0.0388\n",
      "Training Accuracy: 0.9554, Testing Accuracy: 0.9627\n",
      "\n"
     ]
    },
    {
     "name": "stdout",
     "output_type": "stream",
     "text": [
      "Epoch 60, Loss 0.0357\n",
      "Training Accuracy: 0.9582, Testing Accuracy: 0.9627\n",
      "\n"
     ]
    },
    {
     "name": "stdout",
     "output_type": "stream",
     "text": [
      "Epoch 70, Loss 0.0334\n",
      "Training Accuracy: 0.9604, Testing Accuracy: 0.9632\n",
      "\n"
     ]
    },
    {
     "name": "stdout",
     "output_type": "stream",
     "text": [
      "Epoch 80, Loss 0.0317\n",
      "Training Accuracy: 0.9619, Testing Accuracy: 0.9637\n",
      "\n"
     ]
    },
    {
     "name": "stdout",
     "output_type": "stream",
     "text": [
      "Epoch 90, Loss 0.0303\n",
      "Training Accuracy: 0.9637, Testing Accuracy: 0.9642\n",
      "\n"
     ]
    },
    {
     "name": "stdout",
     "output_type": "stream",
     "text": [
      "Epoch 100, Loss 0.0291\n",
      "Training Accuracy: 0.9651, Testing Accuracy: 0.9662\n",
      "\n"
     ]
    },
    {
     "name": "stdout",
     "output_type": "stream",
     "text": [
      "Epoch 110, Loss 0.0281\n",
      "Training Accuracy: 0.9664, Testing Accuracy: 0.9657\n",
      "\n"
     ]
    },
    {
     "name": "stdout",
     "output_type": "stream",
     "text": [
      "Epoch 120, Loss 0.0272\n",
      "Training Accuracy: 0.9673, Testing Accuracy: 0.9672\n",
      "\n"
     ]
    },
    {
     "name": "stdout",
     "output_type": "stream",
     "text": [
      "Epoch 130, Loss 0.0264\n",
      "Training Accuracy: 0.9680, Testing Accuracy: 0.9672\n",
      "\n"
     ]
    },
    {
     "name": "stdout",
     "output_type": "stream",
     "text": [
      "Epoch 140, Loss 0.0257\n",
      "Training Accuracy: 0.9694, Testing Accuracy: 0.9677\n",
      "\n"
     ]
    },
    {
     "name": "stdout",
     "output_type": "stream",
     "text": [
      "Epoch 150, Loss 0.025\n",
      "Training Accuracy: 0.9703, Testing Accuracy: 0.9682\n",
      "\n"
     ]
    },
    {
     "name": "stdout",
     "output_type": "stream",
     "text": [
      "Epoch 160, Loss 0.0244\n",
      "Training Accuracy: 0.9711, Testing Accuracy: 0.9703\n",
      "\n"
     ]
    },
    {
     "name": "stdout",
     "output_type": "stream",
     "text": [
      "Epoch 170, Loss 0.0239\n",
      "Training Accuracy: 0.9720, Testing Accuracy: 0.9708\n",
      "\n"
     ]
    },
    {
     "name": "stdout",
     "output_type": "stream",
     "text": [
      "Epoch 180, Loss 0.0233\n",
      "Training Accuracy: 0.9726, Testing Accuracy: 0.9703\n",
      "\n"
     ]
    },
    {
     "name": "stdout",
     "output_type": "stream",
     "text": [
      "Epoch 190, Loss 0.0229\n",
      "Training Accuracy: 0.9734, Testing Accuracy: 0.9708\n",
      "\n"
     ]
    },
    {
     "name": "stdout",
     "output_type": "stream",
     "text": [
      "Epoch 200, Loss 0.0224\n",
      "Training Accuracy: 0.9742, Testing Accuracy: 0.9708\n",
      "\n"
     ]
    },
    {
     "name": "stdout",
     "output_type": "stream",
     "text": [
      "Epoch 210, Loss 0.022\n",
      "Training Accuracy: 0.9749, Testing Accuracy: 0.9708\n",
      "\n"
     ]
    },
    {
     "name": "stdout",
     "output_type": "stream",
     "text": [
      "Epoch 220, Loss 0.0216\n",
      "Training Accuracy: 0.9760, Testing Accuracy: 0.9718\n",
      "\n"
     ]
    },
    {
     "name": "stdout",
     "output_type": "stream",
     "text": [
      "Epoch 230, Loss 0.0212\n",
      "Training Accuracy: 0.9767, Testing Accuracy: 0.9718\n",
      "\n"
     ]
    },
    {
     "name": "stdout",
     "output_type": "stream",
     "text": [
      "Epoch 240, Loss 0.0208\n",
      "Training Accuracy: 0.9772, Testing Accuracy: 0.9723\n",
      "\n"
     ]
    },
    {
     "data": {
      "text/plain": [
       "0.016362418735210056"
      ]
     },
     "execution_count": 22,
     "metadata": {},
     "output_type": "execute_result"
    }
   ],
   "source": [
    "nn_learner.train_loop(dl)"
   ]
  },
  {
   "cell_type": "code",
   "execution_count": 23,
   "id": "e0163366",
   "metadata": {
    "execution": {
     "iopub.execute_input": "2022-11-02T20:11:46.768231Z",
     "iopub.status.busy": "2022-11-02T20:11:46.767642Z",
     "iopub.status.idle": "2022-11-02T20:11:59.959718Z",
     "shell.execute_reply": "2022-11-02T20:11:59.960550Z"
    },
    "papermill": {
     "duration": 13.235516,
     "end_time": "2022-11-02T20:11:59.960692",
     "exception": false,
     "start_time": "2022-11-02T20:11:46.725176",
     "status": "completed"
    },
    "tags": []
   },
   "outputs": [
    {
     "name": "stdout",
     "output_type": "stream",
     "text": [
      "Epoch 0, Loss 0.26\n",
      "Training Accuracy: 0.6251, Testing Accuracy: 0.6331\n",
      "\n"
     ]
    },
    {
     "name": "stdout",
     "output_type": "stream",
     "text": [
      "Epoch 10, Loss 0.1045\n",
      "Training Accuracy: 0.9071, Testing Accuracy: 0.9199\n",
      "\n"
     ]
    },
    {
     "name": "stdout",
     "output_type": "stream",
     "text": [
      "Epoch 20, Loss 0.0793\n",
      "Training Accuracy: 0.9291, Testing Accuracy: 0.9355\n",
      "\n"
     ]
    },
    {
     "name": "stdout",
     "output_type": "stream",
     "text": [
      "Epoch 30, Loss 0.068\n",
      "Training Accuracy: 0.9382, Testing Accuracy: 0.9435\n",
      "\n"
     ]
    },
    {
     "name": "stdout",
     "output_type": "stream",
     "text": [
      "Epoch 40, Loss 0.0612\n",
      "Training Accuracy: 0.9430, Testing Accuracy: 0.9481\n",
      "\n"
     ]
    },
    {
     "name": "stdout",
     "output_type": "stream",
     "text": [
      "Epoch 50, Loss 0.0567\n",
      "Training Accuracy: 0.9463, Testing Accuracy: 0.9521\n",
      "\n"
     ]
    },
    {
     "name": "stdout",
     "output_type": "stream",
     "text": [
      "Epoch 60, Loss 0.0534\n",
      "Training Accuracy: 0.9478, Testing Accuracy: 0.9546\n",
      "\n"
     ]
    },
    {
     "name": "stdout",
     "output_type": "stream",
     "text": [
      "Epoch 70, Loss 0.0509\n",
      "Training Accuracy: 0.9497, Testing Accuracy: 0.9567\n",
      "\n"
     ]
    },
    {
     "name": "stdout",
     "output_type": "stream",
     "text": [
      "Epoch 80, Loss 0.0488\n",
      "Training Accuracy: 0.9509, Testing Accuracy: 0.9587\n",
      "\n"
     ]
    },
    {
     "name": "stdout",
     "output_type": "stream",
     "text": [
      "Epoch 90, Loss 0.0472\n",
      "Training Accuracy: 0.9527, Testing Accuracy: 0.9617\n",
      "\n"
     ]
    },
    {
     "name": "stdout",
     "output_type": "stream",
     "text": [
      "Epoch 100, Loss 0.0458\n",
      "Training Accuracy: 0.9537, Testing Accuracy: 0.9622\n",
      "\n"
     ]
    },
    {
     "name": "stdout",
     "output_type": "stream",
     "text": [
      "Epoch 110, Loss 0.0446\n",
      "Training Accuracy: 0.9543, Testing Accuracy: 0.9632\n",
      "\n"
     ]
    },
    {
     "name": "stdout",
     "output_type": "stream",
     "text": [
      "Epoch 120, Loss 0.0435\n",
      "Training Accuracy: 0.9553, Testing Accuracy: 0.9637\n",
      "\n"
     ]
    },
    {
     "name": "stdout",
     "output_type": "stream",
     "text": [
      "Epoch 130, Loss 0.0426\n",
      "Training Accuracy: 0.9557, Testing Accuracy: 0.9647\n",
      "\n"
     ]
    },
    {
     "name": "stdout",
     "output_type": "stream",
     "text": [
      "Epoch 140, Loss 0.0418\n",
      "Training Accuracy: 0.9562, Testing Accuracy: 0.9652\n",
      "\n"
     ]
    },
    {
     "name": "stdout",
     "output_type": "stream",
     "text": [
      "Epoch 150, Loss 0.0411\n",
      "Training Accuracy: 0.9567, Testing Accuracy: 0.9662\n",
      "\n"
     ]
    },
    {
     "name": "stdout",
     "output_type": "stream",
     "text": [
      "Epoch 160, Loss 0.0404\n",
      "Training Accuracy: 0.9574, Testing Accuracy: 0.9662\n",
      "\n"
     ]
    },
    {
     "name": "stdout",
     "output_type": "stream",
     "text": [
      "Epoch 170, Loss 0.0398\n",
      "Training Accuracy: 0.9578, Testing Accuracy: 0.9662\n",
      "\n"
     ]
    },
    {
     "name": "stdout",
     "output_type": "stream",
     "text": [
      "Epoch 180, Loss 0.0393\n",
      "Training Accuracy: 0.9584, Testing Accuracy: 0.9662\n",
      "\n"
     ]
    },
    {
     "name": "stdout",
     "output_type": "stream",
     "text": [
      "Epoch 190, Loss 0.0387\n",
      "Training Accuracy: 0.9584, Testing Accuracy: 0.9662\n",
      "\n"
     ]
    },
    {
     "name": "stdout",
     "output_type": "stream",
     "text": [
      "Epoch 200, Loss 0.0383\n",
      "Training Accuracy: 0.9589, Testing Accuracy: 0.9672\n",
      "\n"
     ]
    },
    {
     "name": "stdout",
     "output_type": "stream",
     "text": [
      "Epoch 210, Loss 0.0378\n",
      "Training Accuracy: 0.9591, Testing Accuracy: 0.9672\n",
      "\n"
     ]
    },
    {
     "name": "stdout",
     "output_type": "stream",
     "text": [
      "Epoch 220, Loss 0.0374\n",
      "Training Accuracy: 0.9597, Testing Accuracy: 0.9672\n",
      "\n"
     ]
    },
    {
     "name": "stdout",
     "output_type": "stream",
     "text": [
      "Epoch 230, Loss 0.0371\n",
      "Training Accuracy: 0.9601, Testing Accuracy: 0.9672\n",
      "\n"
     ]
    },
    {
     "name": "stdout",
     "output_type": "stream",
     "text": [
      "Epoch 240, Loss 0.0367\n",
      "Training Accuracy: 0.9604, Testing Accuracy: 0.9672\n",
      "\n"
     ]
    },
    {
     "data": {
      "text/plain": [
       "0.0419850771215172"
      ]
     },
     "execution_count": 23,
     "metadata": {},
     "output_type": "execute_result"
    }
   ],
   "source": [
    "lr_learner.train_loop(dl)"
   ]
  },
  {
   "cell_type": "code",
   "execution_count": 24,
   "id": "ca410940",
   "metadata": {
    "execution": {
     "iopub.execute_input": "2022-11-02T20:12:00.052797Z",
     "iopub.status.busy": "2022-11-02T20:12:00.052182Z",
     "iopub.status.idle": "2022-11-02T20:12:00.280222Z",
     "shell.execute_reply": "2022-11-02T20:12:00.279663Z"
    },
    "papermill": {
     "duration": 0.277952,
     "end_time": "2022-11-02T20:12:00.280349",
     "exception": false,
     "start_time": "2022-11-02T20:12:00.002397",
     "status": "completed"
    },
    "tags": []
   },
   "outputs": [
    {
     "data": {
      "text/plain": [
       "<matplotlib.legend.Legend at 0x7f993212a320>"
      ]
     },
     "execution_count": 24,
     "metadata": {},
     "output_type": "execute_result"
    },
    {
     "data": {
      "image/png": "[encoded data removed]",
      "text/plain": [
       "<Figure size 1080x720 with 1 Axes>"
      ]
     },
     "metadata": {
      "needs_background": "light"
     },
     "output_type": "display_data"
    }
   ],
   "source": [
    "#comparing the results of NN and LR\n",
    "plt.figure(figsize=(15,10))\n",
    "\n",
    "# Neural Network plots\n",
    "plt.plot(acc_nn.accuracies, 'r-', label = \"Training Accuracies - NN\")\n",
    "plt.plot(acc_nn.test_accuracies, 'g-', label = \"Testing Accuracies - NN\")\n",
    "\n",
    "# Logistic Regression plots\n",
    "plt.plot(acc_lr.accuracies, 'k-', label = \"Training Accuracies - LR\")\n",
    "plt.plot(acc_lr.test_accuracies, 'b-', label = \"Testing Accuracies - LR\")\n",
    "plt.legend()"
   ]
  },
  {
   "cell_type": "markdown",
   "id": "80dfb35c",
   "metadata": {
    "papermill": {
     "duration": 0.041914,
     "end_time": "2022-11-02T20:12:00.366678",
     "exception": false,
     "start_time": "2022-11-02T20:12:00.324764",
     "status": "completed"
    },
    "tags": []
   },
   "source": [
    "#### Plotting the outputs of this layer of the NN.\n"
   ]
  },
  {
   "cell_type": "code",
   "execution_count": 25,
   "id": "45eb2ff5",
   "metadata": {
    "execution": {
     "iopub.execute_input": "2022-11-02T20:12:00.454803Z",
     "iopub.status.busy": "2022-11-02T20:12:00.454180Z",
     "iopub.status.idle": "2022-11-02T20:12:00.473616Z",
     "shell.execute_reply": "2022-11-02T20:12:00.473158Z"
    },
    "papermill": {
     "duration": 0.065165,
     "end_time": "2022-11-02T20:12:00.473730",
     "exception": false,
     "start_time": "2022-11-02T20:12:00.408565",
     "status": "completed"
    },
    "tags": []
   },
   "outputs": [],
   "source": [
    "new_model = Model(layers[:-2])\n",
    "testing_plot = new_model(testing_data_x)"
   ]
  },
  {
   "cell_type": "code",
   "execution_count": 26,
   "id": "4c0a5485",
   "metadata": {
    "execution": {
     "iopub.execute_input": "2022-11-02T20:12:00.565792Z",
     "iopub.status.busy": "2022-11-02T20:12:00.563514Z",
     "iopub.status.idle": "2022-11-02T20:12:00.757550Z",
     "shell.execute_reply": "2022-11-02T20:12:00.758012Z"
    },
    "papermill": {
     "duration": 0.242335,
     "end_time": "2022-11-02T20:12:00.758148",
     "exception": false,
     "start_time": "2022-11-02T20:12:00.515813",
     "status": "completed"
    },
    "tags": []
   },
   "outputs": [
    {
     "data": {
      "text/plain": [
       "Text(0.5, 1.0, 'Outputs')"
      ]
     },
     "execution_count": 26,
     "metadata": {},
     "output_type": "execute_result"
    },
    {
     "data": {
      "image/png": "[encoded data removed]",
      "text/plain": [
       "<Figure size 576x504 with 1 Axes>"
      ]
     },
     "metadata": {
      "needs_background": "light"
     },
     "output_type": "display_data"
    }
   ],
   "source": [
    "# Plotting the scatter plot of points and color coding by class\n",
    "plt.figure(figsize=(8,7))\n",
    "plt.scatter(testing_plot[:,0], testing_plot[:,1], alpha = 0.1, c = y_test.ravel());\n",
    "plt.title('Outputs')"
   ]
  },
  {
   "cell_type": "markdown",
   "id": "a74fcf8f",
   "metadata": {
    "papermill": {
     "duration": 0.044095,
     "end_time": "2022-11-02T20:12:00.846478",
     "exception": false,
     "start_time": "2022-11-02T20:12:00.802383",
     "status": "completed"
    },
    "tags": []
   },
   "source": [
    "Probability contours"
   ]
  },
  {
   "cell_type": "code",
   "execution_count": 27,
   "id": "d0afc8e3",
   "metadata": {
    "execution": {
     "iopub.execute_input": "2022-11-02T20:12:00.971104Z",
     "iopub.status.busy": "2022-11-02T20:12:00.969968Z",
     "iopub.status.idle": "2022-11-02T20:12:00.981928Z",
     "shell.execute_reply": "2022-11-02T20:12:00.982384Z"
    },
    "papermill": {
     "duration": 0.091217,
     "end_time": "2022-11-02T20:12:00.982515",
     "exception": false,
     "start_time": "2022-11-02T20:12:00.891298",
     "status": "completed"
    },
    "tags": []
   },
   "outputs": [],
   "source": [
    "model_prob = Model(layers[-2:]) "
   ]
  },
  {
   "cell_type": "code",
   "execution_count": 28,
   "id": "9b96e238",
   "metadata": {
    "execution": {
     "iopub.execute_input": "2022-11-02T20:12:01.077288Z",
     "iopub.status.busy": "2022-11-02T20:12:01.076680Z",
     "iopub.status.idle": "2022-11-02T20:12:01.090793Z",
     "shell.execute_reply": "2022-11-02T20:12:01.091241Z"
    },
    "papermill": {
     "duration": 0.064484,
     "end_time": "2022-11-02T20:12:01.091379",
     "exception": false,
     "start_time": "2022-11-02T20:12:01.026895",
     "status": "completed"
    },
    "tags": []
   },
   "outputs": [],
   "source": [
    "#creating the x and y ranges according to the above generated plot.\n",
    "x_range = np.linspace(-4, 1, 100) \n",
    "y_range = np.linspace(-6, 6, 100) \n",
    "x_grid, y_grid = np.meshgrid(x_range, y_range) # x_grid and y_grig are of size 100 X 100\n",
    "\n",
    "# converting x_grid and y_grid to continuous arrays\n",
    "x_gridflat = np.ravel(x_grid)\n",
    "y_gridflat = np.ravel(y_grid)\n",
    "\n",
    "# The last layer of the current model takes two columns as input. Hence transpose of np.vstack() is required.\n",
    "X = np.vstack((x_gridflat, y_gridflat)).T\n",
    "\n",
    "prob_contour = model_prob(X).reshape(100,100) "
   ]
  },
  {
   "cell_type": "code",
   "execution_count": 29,
   "id": "da72499a",
   "metadata": {
    "execution": {
     "iopub.execute_input": "2022-11-02T20:12:01.184639Z",
     "iopub.status.busy": "2022-11-02T20:12:01.184052Z",
     "iopub.status.idle": "2022-11-02T20:12:01.433658Z",
     "shell.execute_reply": "2022-11-02T20:12:01.434116Z"
    },
    "papermill": {
     "duration": 0.298322,
     "end_time": "2022-11-02T20:12:01.434251",
     "exception": false,
     "start_time": "2022-11-02T20:12:01.135929",
     "status": "completed"
    },
    "tags": []
   },
   "outputs": [
    {
     "data": {
      "image/png": "[encoded data removed]",
      "text/plain": [
       "<Figure size 720x648 with 1 Axes>"
      ]
     },
     "metadata": {
      "needs_background": "light"
     },
     "output_type": "display_data"
    }
   ],
   "source": [
    "plt.figure(figsize=(10,9))\n",
    "plt.scatter(testing_plot[:,0], testing_plot[:,1], alpha = 0.1, c = y_test.ravel())\n",
    "contours = plt.contour(x_grid,y_grid,prob_contour)\n",
    "plt.title('Probability Contours')\n",
    "plt.clabel(contours, inline = True );"
   ]
  },
  {
   "cell_type": "code",
   "execution_count": null,
   "id": "e81b4ac7",
   "metadata": {
    "papermill": {
     "duration": 0.046856,
     "end_time": "2022-11-02T20:12:01.528716",
     "exception": false,
     "start_time": "2022-11-02T20:12:01.481860",
     "status": "completed"
    },
    "tags": []
   },
   "outputs": [],
   "source": []
  }
 ],
 "metadata": {
  "kernelspec": {
   "display_name": "Python 3",
   "language": "python",
   "name": "python3"
  },
  "language_info": {
   "codemirror_mode": {
    "name": "ipython",
    "version": 3
   },
   "file_extension": ".py",
   "mimetype": "text/x-python",
   "name": "python",
   "nbconvert_exporter": "python",
   "pygments_lexer": "ipython3",
   "version": "3.6.15"
  },
  "papermill": {
   "default_parameters": {},
   "duration": 95.473311,
   "end_time": "2022-11-02T20:12:01.995581",
   "environment_variables": {},
   "exception": null,
   "input_path": "2020-08-11-part2.ipynb",
   "output_path": "2020-08-11-part2.ipynb",
   "parameters": {},
   "start_time": "2022-11-02T20:10:26.522270",
   "version": "2.3.3"
  }
 },
 "nbformat": 4,
 "nbformat_minor": 5
}