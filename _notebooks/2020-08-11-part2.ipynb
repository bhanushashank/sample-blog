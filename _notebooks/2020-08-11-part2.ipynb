{
 "cells": [
  {
   "cell_type": "markdown",
   "id": "98380cd3",
   "metadata": {
    "papermill": {
     "duration": 0.025732,
     "end_time": "2022-05-18T20:10:22.369459",
     "exception": false,
     "start_time": "2022-05-18T20:10:22.343727",
     "status": "completed"
    },
    "tags": []
   },
   "source": [
    "# Distinguish Your Own Digits (DYOD)"
   ]
  },
  {
   "cell_type": "markdown",
   "id": "ef31240d",
   "metadata": {
    "papermill": {
     "duration": 0.022495,
     "end_time": "2022-05-18T20:10:22.413638",
     "exception": false,
     "start_time": "2022-05-18T20:10:22.391143",
     "status": "completed"
    },
    "tags": []
   },
   "source": [
    "You are going to write a classifier that distinguishes between the number 3 and number 8."
   ]
  },
  {
   "cell_type": "code",
   "execution_count": 1,
   "id": "b15c8646",
   "metadata": {
    "execution": {
     "iopub.execute_input": "2022-05-18T20:10:22.467104Z",
     "iopub.status.busy": "2022-05-18T20:10:22.466607Z",
     "iopub.status.idle": "2022-05-18T20:10:22.476739Z",
     "shell.execute_reply": "2022-05-18T20:10:22.477142Z"
    },
    "papermill": {
     "duration": 0.042693,
     "end_time": "2022-05-18T20:10:22.477314",
     "exception": false,
     "start_time": "2022-05-18T20:10:22.434621",
     "status": "completed"
    },
    "tags": []
   },
   "outputs": [],
   "source": [
    "%load_ext autoreload\n",
    "%autoreload 2"
   ]
  },
  {
   "cell_type": "code",
   "execution_count": 2,
   "id": "22ef38dc",
   "metadata": {
    "execution": {
     "iopub.execute_input": "2022-05-18T20:10:22.526030Z",
     "iopub.status.busy": "2022-05-18T20:10:22.525534Z",
     "iopub.status.idle": "2022-05-18T20:10:23.081354Z",
     "shell.execute_reply": "2022-05-18T20:10:23.081914Z"
    },
    "papermill": {
     "duration": 0.583603,
     "end_time": "2022-05-18T20:10:23.082099",
     "exception": false,
     "start_time": "2022-05-18T20:10:22.498496",
     "status": "completed"
    },
    "tags": []
   },
   "outputs": [],
   "source": [
    "%matplotlib inline\n",
    "import numpy as np\n",
    "import matplotlib.pyplot as plt\n",
    "import pandas as pd"
   ]
  },
  {
   "cell_type": "markdown",
   "id": "ba036198",
   "metadata": {
    "papermill": {
     "duration": 0.021032,
     "end_time": "2022-05-18T20:10:23.124751",
     "exception": false,
     "start_time": "2022-05-18T20:10:23.103719",
     "status": "completed"
    },
    "tags": []
   },
   "source": [
    "From the command line run `pip install mnist`. This is a library that will help you bring down the mnist dataset. If you run this from a notebook, you need to put  `!pip install mnist` in a cell by itself."
   ]
  },
  {
   "cell_type": "code",
   "execution_count": 3,
   "id": "bb6ad8a1",
   "metadata": {
    "execution": {
     "iopub.execute_input": "2022-05-18T20:10:23.171543Z",
     "iopub.status.busy": "2022-05-18T20:10:23.171075Z",
     "iopub.status.idle": "2022-05-18T20:10:25.555855Z",
     "shell.execute_reply": "2022-05-18T20:10:25.555032Z"
    },
    "papermill": {
     "duration": 2.410156,
     "end_time": "2022-05-18T20:10:25.556001",
     "exception": false,
     "start_time": "2022-05-18T20:10:23.145845",
     "status": "completed"
    },
    "tags": []
   },
   "outputs": [
    {
     "name": "stdout",
     "output_type": "stream",
     "text": [
      "Collecting mnist\r\n",
      "  Downloading mnist-0.2.2-py2.py3-none-any.whl (3.5 kB)\r\n"
     ]
    },
    {
     "name": "stdout",
     "output_type": "stream",
     "text": [
      "Requirement already satisfied: numpy in /opt/hostedtoolcache/Python/3.6.15/x64/lib/python3.6/site-packages (from mnist) (1.19.5)\r\n"
     ]
    },
    {
     "name": "stdout",
     "output_type": "stream",
     "text": [
      "Installing collected packages: mnist\r\n"
     ]
    },
    {
     "name": "stdout",
     "output_type": "stream",
     "text": [
      "Successfully installed mnist-0.2.2\r\n"
     ]
    }
   ],
   "source": [
    "!pip install mnist"
   ]
  },
  {
   "cell_type": "markdown",
   "id": "69df9c9a",
   "metadata": {
    "papermill": {
     "duration": 0.022049,
     "end_time": "2022-05-18T20:10:25.600398",
     "exception": false,
     "start_time": "2022-05-18T20:10:25.578349",
     "status": "completed"
    },
    "tags": []
   },
   "source": [
    "## Preparing the Data"
   ]
  },
  {
   "cell_type": "code",
   "execution_count": 4,
   "id": "7f69d806",
   "metadata": {
    "execution": {
     "iopub.execute_input": "2022-05-18T20:10:25.650123Z",
     "iopub.status.busy": "2022-05-18T20:10:25.648149Z",
     "iopub.status.idle": "2022-05-18T20:10:25.662150Z",
     "shell.execute_reply": "2022-05-18T20:10:25.661576Z"
    },
    "papermill": {
     "duration": 0.039898,
     "end_time": "2022-05-18T20:10:25.662274",
     "exception": false,
     "start_time": "2022-05-18T20:10:25.622376",
     "status": "completed"
    },
    "tags": []
   },
   "outputs": [],
   "source": [
    "import mnist"
   ]
  },
  {
   "cell_type": "code",
   "execution_count": 5,
   "id": "a411e44f",
   "metadata": {
    "execution": {
     "iopub.execute_input": "2022-05-18T20:10:25.722891Z",
     "iopub.status.busy": "2022-05-18T20:10:25.722363Z",
     "iopub.status.idle": "2022-05-18T20:10:26.224026Z",
     "shell.execute_reply": "2022-05-18T20:10:26.223490Z"
    },
    "papermill": {
     "duration": 0.536602,
     "end_time": "2022-05-18T20:10:26.224172",
     "exception": false,
     "start_time": "2022-05-18T20:10:25.687570",
     "status": "completed"
    },
    "tags": []
   },
   "outputs": [],
   "source": [
    "train_images = mnist.train_images()\n",
    "train_labels = mnist.train_labels()"
   ]
  },
  {
   "cell_type": "code",
   "execution_count": 6,
   "id": "dceab3a5",
   "metadata": {
    "execution": {
     "iopub.execute_input": "2022-05-18T20:10:26.278936Z",
     "iopub.status.busy": "2022-05-18T20:10:26.278418Z",
     "iopub.status.idle": "2022-05-18T20:10:26.291943Z",
     "shell.execute_reply": "2022-05-18T20:10:26.291513Z"
    },
    "papermill": {
     "duration": 0.042503,
     "end_time": "2022-05-18T20:10:26.292064",
     "exception": false,
     "start_time": "2022-05-18T20:10:26.249561",
     "status": "completed"
    },
    "tags": []
   },
   "outputs": [
    {
     "data": {
      "text/plain": [
       "((60000, 28, 28), (60000,))"
      ]
     },
     "execution_count": 6,
     "metadata": {},
     "output_type": "execute_result"
    }
   ],
   "source": [
    "train_images.shape, train_labels.shape"
   ]
  },
  {
   "cell_type": "code",
   "execution_count": 7,
   "id": "f50dc2bb",
   "metadata": {
    "execution": {
     "iopub.execute_input": "2022-05-18T20:10:26.346142Z",
     "iopub.status.busy": "2022-05-18T20:10:26.345614Z",
     "iopub.status.idle": "2022-05-18T20:10:26.503477Z",
     "shell.execute_reply": "2022-05-18T20:10:26.503970Z"
    },
    "papermill": {
     "duration": 0.187069,
     "end_time": "2022-05-18T20:10:26.504147",
     "exception": false,
     "start_time": "2022-05-18T20:10:26.317078",
     "status": "completed"
    },
    "tags": []
   },
   "outputs": [],
   "source": [
    "test_images = mnist.test_images()\n",
    "test_labels = mnist.test_labels()"
   ]
  },
  {
   "cell_type": "code",
   "execution_count": 8,
   "id": "fc38cf1b",
   "metadata": {
    "execution": {
     "iopub.execute_input": "2022-05-18T20:10:26.559802Z",
     "iopub.status.busy": "2022-05-18T20:10:26.559279Z",
     "iopub.status.idle": "2022-05-18T20:10:26.572366Z",
     "shell.execute_reply": "2022-05-18T20:10:26.571926Z"
    },
    "papermill": {
     "duration": 0.041887,
     "end_time": "2022-05-18T20:10:26.572485",
     "exception": false,
     "start_time": "2022-05-18T20:10:26.530598",
     "status": "completed"
    },
    "tags": []
   },
   "outputs": [
    {
     "data": {
      "text/plain": [
       "((10000, 28, 28), (10000,))"
      ]
     },
     "execution_count": 8,
     "metadata": {},
     "output_type": "execute_result"
    }
   ],
   "source": [
    "test_images.shape, test_labels.shape"
   ]
  },
  {
   "cell_type": "code",
   "execution_count": 9,
   "id": "f9ed8fe0",
   "metadata": {
    "execution": {
     "iopub.execute_input": "2022-05-18T20:10:26.629237Z",
     "iopub.status.busy": "2022-05-18T20:10:26.628720Z",
     "iopub.status.idle": "2022-05-18T20:10:26.755254Z",
     "shell.execute_reply": "2022-05-18T20:10:26.754819Z"
    },
    "papermill": {
     "duration": 0.157529,
     "end_time": "2022-05-18T20:10:26.755381",
     "exception": false,
     "start_time": "2022-05-18T20:10:26.597852",
     "status": "completed"
    },
    "tags": []
   },
   "outputs": [
    {
     "name": "stdout",
     "output_type": "stream",
     "text": [
      "2\n"
     ]
    },
    {
     "data": {
      "text/plain": [
       "<matplotlib.image.AxesImage at 0x7f4b9547f4e0>"
      ]
     },
     "execution_count": 9,
     "metadata": {},
     "output_type": "execute_result"
    },
    {
     "data": {
      "image/png": "[encoded data removed]",
      "text/plain": [
       "<Figure size 432x288 with 1 Axes>"
      ]
     },
     "metadata": {
      "needs_background": "light"
     },
     "output_type": "display_data"
    }
   ],
   "source": [
    "image_index = 7776 # You may select anything up to 60,000\n",
    "print(train_labels[image_index]) \n",
    "plt.imshow(train_images[image_index], cmap='Greys')"
   ]
  },
  {
   "cell_type": "markdown",
   "id": "a8d2388d",
   "metadata": {
    "papermill": {
     "duration": 0.026728,
     "end_time": "2022-05-18T20:10:26.808948",
     "exception": false,
     "start_time": "2022-05-18T20:10:26.782220",
     "status": "completed"
    },
    "tags": []
   },
   "source": [
    "## Filter data to get 3 and 8 out"
   ]
  },
  {
   "cell_type": "code",
   "execution_count": 10,
   "id": "776f7fc7",
   "metadata": {
    "execution": {
     "iopub.execute_input": "2022-05-18T20:10:26.866730Z",
     "iopub.status.busy": "2022-05-18T20:10:26.866200Z",
     "iopub.status.idle": "2022-05-18T20:10:26.882048Z",
     "shell.execute_reply": "2022-05-18T20:10:26.881619Z"
    },
    "papermill": {
     "duration": 0.046603,
     "end_time": "2022-05-18T20:10:26.882171",
     "exception": false,
     "start_time": "2022-05-18T20:10:26.835568",
     "status": "completed"
    },
    "tags": []
   },
   "outputs": [],
   "source": [
    "train_filter = np.where((train_labels == 3 ) | (train_labels == 8))\n",
    "test_filter = np.where((test_labels == 3) | (test_labels == 8))\n",
    "X_train, y_train = train_images[train_filter], train_labels[train_filter]\n",
    "X_test, y_test = test_images[test_filter], test_labels[test_filter]"
   ]
  },
  {
   "cell_type": "markdown",
   "id": "948f0b7e",
   "metadata": {
    "papermill": {
     "duration": 0.026409,
     "end_time": "2022-05-18T20:10:26.935143",
     "exception": false,
     "start_time": "2022-05-18T20:10:26.908734",
     "status": "completed"
    },
    "tags": []
   },
   "source": [
    "We normalize the pizel values in the 0 to 1 range"
   ]
  },
  {
   "cell_type": "code",
   "execution_count": 11,
   "id": "ee4c2166",
   "metadata": {
    "execution": {
     "iopub.execute_input": "2022-05-18T20:10:26.995716Z",
     "iopub.status.busy": "2022-05-18T20:10:26.995166Z",
     "iopub.status.idle": "2022-05-18T20:10:27.038874Z",
     "shell.execute_reply": "2022-05-18T20:10:27.038343Z"
    },
    "papermill": {
     "duration": 0.077347,
     "end_time": "2022-05-18T20:10:27.039016",
     "exception": false,
     "start_time": "2022-05-18T20:10:26.961669",
     "status": "completed"
    },
    "tags": []
   },
   "outputs": [],
   "source": [
    "X_train = X_train/255.\n",
    "X_test = X_test/255."
   ]
  },
  {
   "cell_type": "markdown",
   "id": "ddcf4fab",
   "metadata": {
    "papermill": {
     "duration": 0.026784,
     "end_time": "2022-05-18T20:10:27.093218",
     "exception": false,
     "start_time": "2022-05-18T20:10:27.066434",
     "status": "completed"
    },
    "tags": []
   },
   "source": [
    "And setup the labels as 1 (when the digit is 3) and 0 (when the digit is 8)"
   ]
  },
  {
   "cell_type": "code",
   "execution_count": 12,
   "id": "7dc908f2",
   "metadata": {
    "execution": {
     "iopub.execute_input": "2022-05-18T20:10:27.150467Z",
     "iopub.status.busy": "2022-05-18T20:10:27.149936Z",
     "iopub.status.idle": "2022-05-18T20:10:27.162360Z",
     "shell.execute_reply": "2022-05-18T20:10:27.161933Z"
    },
    "papermill": {
     "duration": 0.042531,
     "end_time": "2022-05-18T20:10:27.162485",
     "exception": false,
     "start_time": "2022-05-18T20:10:27.119954",
     "status": "completed"
    },
    "tags": []
   },
   "outputs": [],
   "source": [
    "y_train = 1*(y_train==3)\n",
    "y_test = 1*(y_test==3)"
   ]
  },
  {
   "cell_type": "code",
   "execution_count": 13,
   "id": "01e4e969",
   "metadata": {
    "execution": {
     "iopub.execute_input": "2022-05-18T20:10:27.227873Z",
     "iopub.status.busy": "2022-05-18T20:10:27.227374Z",
     "iopub.status.idle": "2022-05-18T20:10:27.236532Z",
     "shell.execute_reply": "2022-05-18T20:10:27.236884Z"
    },
    "papermill": {
     "duration": 0.047731,
     "end_time": "2022-05-18T20:10:27.237021",
     "exception": false,
     "start_time": "2022-05-18T20:10:27.189290",
     "status": "completed"
    },
    "tags": []
   },
   "outputs": [
    {
     "data": {
      "text/plain": [
       "((11982, 28, 28), (1984, 28, 28))"
      ]
     },
     "execution_count": 13,
     "metadata": {},
     "output_type": "execute_result"
    }
   ],
   "source": [
    "X_train.shape, X_test.shape"
   ]
  },
  {
   "cell_type": "markdown",
   "id": "5ccf3f85",
   "metadata": {
    "papermill": {
     "duration": 0.023782,
     "end_time": "2022-05-18T20:10:27.284582",
     "exception": false,
     "start_time": "2022-05-18T20:10:27.260800",
     "status": "completed"
    },
    "tags": []
   },
   "source": [
    "We reshape the data to flatten the image pixels into a set of features or co-variates:"
   ]
  },
  {
   "cell_type": "code",
   "execution_count": 14,
   "id": "5286a4a3",
   "metadata": {
    "execution": {
     "iopub.execute_input": "2022-05-18T20:10:27.336258Z",
     "iopub.status.busy": "2022-05-18T20:10:27.335452Z",
     "iopub.status.idle": "2022-05-18T20:10:27.349872Z",
     "shell.execute_reply": "2022-05-18T20:10:27.350264Z"
    },
    "papermill": {
     "duration": 0.042024,
     "end_time": "2022-05-18T20:10:27.350398",
     "exception": false,
     "start_time": "2022-05-18T20:10:27.308374",
     "status": "completed"
    },
    "tags": []
   },
   "outputs": [
    {
     "data": {
      "text/plain": [
       "((11982, 784), (1984, 784))"
      ]
     },
     "execution_count": 14,
     "metadata": {},
     "output_type": "execute_result"
    }
   ],
   "source": [
    "X_train = X_train.reshape(X_train.shape[0], -1)\n",
    "X_test = X_test.reshape(X_test.shape[0], -1)\n",
    "X_train.shape, X_test.shape"
   ]
  },
  {
   "cell_type": "code",
   "execution_count": 15,
   "id": "73c5f88a",
   "metadata": {
    "execution": {
     "iopub.execute_input": "2022-05-18T20:10:27.411346Z",
     "iopub.status.busy": "2022-05-18T20:10:27.410850Z",
     "iopub.status.idle": "2022-05-18T20:10:27.425024Z",
     "shell.execute_reply": "2022-05-18T20:10:27.424641Z"
    },
    "papermill": {
     "duration": 0.050624,
     "end_time": "2022-05-18T20:10:27.425139",
     "exception": false,
     "start_time": "2022-05-18T20:10:27.374515",
     "status": "completed"
    },
    "tags": []
   },
   "outputs": [],
   "source": [
    "#Impoting functions from 'Kudzu'\n",
    "from kudzu.model import Model\n",
    "from kudzu.train import Learner\n",
    "from kudzu.optim import GD\n",
    "from kudzu.data import Data, Sampler,Dataloader\n",
    "\n",
    "from kudzu.callbacks import AccCallback\n",
    "from kudzu.callbacks import ClfCallback\n",
    "\n",
    "from kudzu.loss import MSE\n",
    "\n",
    "from kudzu.layer import Sigmoid,Relu\n",
    "from kudzu.layer import Affine"
   ]
  },
  {
   "cell_type": "markdown",
   "id": "bc01172a",
   "metadata": {
    "papermill": {
     "duration": 0.023951,
     "end_time": "2022-05-18T20:10:27.473302",
     "exception": false,
     "start_time": "2022-05-18T20:10:27.449351",
     "status": "completed"
    },
    "tags": []
   },
   "source": [
    "### Let us create a `Config` class, to store important parameters. \n",
    "This class essentially plays the role of a dictionary."
   ]
  },
  {
   "cell_type": "code",
   "execution_count": 16,
   "id": "978281aa",
   "metadata": {
    "execution": {
     "iopub.execute_input": "2022-05-18T20:10:27.525717Z",
     "iopub.status.busy": "2022-05-18T20:10:27.525187Z",
     "iopub.status.idle": "2022-05-18T20:10:27.538050Z",
     "shell.execute_reply": "2022-05-18T20:10:27.537651Z"
    },
    "papermill": {
     "duration": 0.040865,
     "end_time": "2022-05-18T20:10:27.538156",
     "exception": false,
     "start_time": "2022-05-18T20:10:27.497291",
     "status": "completed"
    },
    "tags": []
   },
   "outputs": [],
   "source": [
    "class Config:\n",
    "    pass\n",
    "config = Config()\n",
    "config.lr = 0.001\n",
    "config.num_epochs = 250\n",
    "config.bs = 50"
   ]
  },
  {
   "cell_type": "markdown",
   "id": "1385fa59",
   "metadata": {
    "papermill": {
     "duration": 0.023916,
     "end_time": "2022-05-18T20:10:27.586140",
     "exception": false,
     "start_time": "2022-05-18T20:10:27.562224",
     "status": "completed"
    },
    "tags": []
   },
   "source": [
    "### Running Models with the Training data\n",
    "Details about the network layers:\n",
    "- A first affine layer has 784 inputs and does 100 affine transforms. These are followed by a Relu\n",
    "- A second affine layer has 100 inputs from the 100 activations of the past layer, and does 100 affine transforms. These are followed by a Relu\n",
    "- A third affine layer has 100 activations and does 2 affine transformations to create an embedding for visualization. There is no non-linearity here.\n",
    "- A final \"logistic regression\" which has an affine transform from 2 inputs to 1 output, which is squeezed through a sigmoid.\n"
   ]
  },
  {
   "cell_type": "code",
   "execution_count": 17,
   "id": "2b9c66db",
   "metadata": {
    "execution": {
     "iopub.execute_input": "2022-05-18T20:10:27.638234Z",
     "iopub.status.busy": "2022-05-18T20:10:27.637725Z",
     "iopub.status.idle": "2022-05-18T20:10:27.651243Z",
     "shell.execute_reply": "2022-05-18T20:10:27.650358Z"
    },
    "papermill": {
     "duration": 0.041209,
     "end_time": "2022-05-18T20:10:27.651361",
     "exception": false,
     "start_time": "2022-05-18T20:10:27.610152",
     "status": "completed"
    },
    "tags": []
   },
   "outputs": [],
   "source": [
    "data = Data(X_train, y_train.reshape(-1,1))\n",
    "sampler = Sampler(data, config.bs, shuffle=True)\n",
    "\n",
    "dl = Dataloader(data, sampler)\n",
    "\n",
    "opt = GD(config.lr)\n",
    "loss = MSE()"
   ]
  },
  {
   "cell_type": "code",
   "execution_count": 18,
   "id": "b275e4c2",
   "metadata": {
    "execution": {
     "iopub.execute_input": "2022-05-18T20:10:27.706322Z",
     "iopub.status.busy": "2022-05-18T20:10:27.702766Z",
     "iopub.status.idle": "2022-05-18T20:10:27.713822Z",
     "shell.execute_reply": "2022-05-18T20:10:27.714214Z"
    },
    "papermill": {
     "duration": 0.038827,
     "end_time": "2022-05-18T20:10:27.714361",
     "exception": false,
     "start_time": "2022-05-18T20:10:27.675534",
     "status": "completed"
    },
    "tags": []
   },
   "outputs": [],
   "source": [
    "training_data_x = X_train\n",
    "testing_data_x = X_test\n",
    "training_data_y = y_train.reshape(-1,1)\n",
    "testing_data_y = y_test.reshape(-1,1)"
   ]
  },
  {
   "cell_type": "code",
   "execution_count": 19,
   "id": "76951160",
   "metadata": {
    "execution": {
     "iopub.execute_input": "2022-05-18T20:10:27.773781Z",
     "iopub.status.busy": "2022-05-18T20:10:27.773230Z",
     "iopub.status.idle": "2022-05-18T20:10:27.788775Z",
     "shell.execute_reply": "2022-05-18T20:10:27.788362Z"
    },
    "papermill": {
     "duration": 0.047423,
     "end_time": "2022-05-18T20:10:27.788895",
     "exception": false,
     "start_time": "2022-05-18T20:10:27.741472",
     "status": "completed"
    },
    "tags": []
   },
   "outputs": [
    {
     "name": "stdout",
     "output_type": "stream",
     "text": [
      "xavier\n",
      "xavier\n",
      "xavier\n",
      "xavier\n",
      "xavier\n"
     ]
    }
   ],
   "source": [
    "layers = [Affine(\"first\", 784, 100), Relu(\"first\"), Affine(\"second\", 100, 100), Relu(\"second\"), Affine(\"third\", 100, 2), Affine(\"last\", 2, 1), Sigmoid(\"last\")]\n",
    "model_nn = Model(layers)\n",
    "model_lr = Model([Affine(\"logits\", 784, 1), Sigmoid(\"sigmoid\")])"
   ]
  },
  {
   "cell_type": "code",
   "execution_count": 20,
   "id": "6eede77a",
   "metadata": {
    "execution": {
     "iopub.execute_input": "2022-05-18T20:10:27.850570Z",
     "iopub.status.busy": "2022-05-18T20:10:27.850043Z",
     "iopub.status.idle": "2022-05-18T20:10:27.860242Z",
     "shell.execute_reply": "2022-05-18T20:10:27.859821Z"
    },
    "papermill": {
     "duration": 0.044022,
     "end_time": "2022-05-18T20:10:27.860364",
     "exception": false,
     "start_time": "2022-05-18T20:10:27.816342",
     "status": "completed"
    },
    "tags": []
   },
   "outputs": [],
   "source": [
    "nn_learner = Learner(loss, model_nn, opt, config.num_epochs)\n",
    "acc_nn = ClfCallback(nn_learner, config.bs, training_data_x , testing_data_x, training_data_y, testing_data_y)\n",
    "nn_learner.set_callbacks([acc_nn])"
   ]
  },
  {
   "cell_type": "code",
   "execution_count": 21,
   "id": "877b6cc7",
   "metadata": {
    "execution": {
     "iopub.execute_input": "2022-05-18T20:10:27.920289Z",
     "iopub.status.busy": "2022-05-18T20:10:27.919675Z",
     "iopub.status.idle": "2022-05-18T20:10:27.931604Z",
     "shell.execute_reply": "2022-05-18T20:10:27.931226Z"
    },
    "papermill": {
     "duration": 0.043802,
     "end_time": "2022-05-18T20:10:27.931724",
     "exception": false,
     "start_time": "2022-05-18T20:10:27.887922",
     "status": "completed"
    },
    "tags": []
   },
   "outputs": [],
   "source": [
    "lr_learner = Learner(loss, model_lr, opt, config.num_epochs)\n",
    "acc_lr = ClfCallback(lr_learner, config.bs, training_data_x , testing_data_x, training_data_y, testing_data_y)\n",
    "lr_learner.set_callbacks([acc_lr])"
   ]
  },
  {
   "cell_type": "code",
   "execution_count": 22,
   "id": "d9b133c3",
   "metadata": {
    "execution": {
     "iopub.execute_input": "2022-05-18T20:10:27.983514Z",
     "iopub.status.busy": "2022-05-18T20:10:27.983052Z",
     "iopub.status.idle": "2022-05-18T20:11:46.516777Z",
     "shell.execute_reply": "2022-05-18T20:11:46.517476Z"
    },
    "papermill": {
     "duration": 78.561704,
     "end_time": "2022-05-18T20:11:46.517622",
     "exception": false,
     "start_time": "2022-05-18T20:10:27.955918",
     "status": "completed"
    },
    "tags": []
   },
   "outputs": [
    {
     "name": "stdout",
     "output_type": "stream",
     "text": [
      "Epoch 0, Loss 0.2379\n",
      "Training Accuracy: 0.6833, Testing Accuracy: 0.6815\n",
      "\n"
     ]
    },
    {
     "name": "stdout",
     "output_type": "stream",
     "text": [
      "Epoch 10, Loss 0.1019\n",
      "Training Accuracy: 0.9109, Testing Accuracy: 0.9274\n",
      "\n"
     ]
    },
    {
     "name": "stdout",
     "output_type": "stream",
     "text": [
      "Epoch 20, Loss 0.0597\n",
      "Training Accuracy: 0.9411, Testing Accuracy: 0.9526\n",
      "\n"
     ]
    },
    {
     "name": "stdout",
     "output_type": "stream",
     "text": [
      "Epoch 30, Loss 0.0457\n",
      "Training Accuracy: 0.9511, Testing Accuracy: 0.9592\n",
      "\n"
     ]
    },
    {
     "name": "stdout",
     "output_type": "stream",
     "text": [
      "Epoch 40, Loss 0.039\n",
      "Training Accuracy: 0.9561, Testing Accuracy: 0.9647\n",
      "\n"
     ]
    },
    {
     "name": "stdout",
     "output_type": "stream",
     "text": [
      "Epoch 50, Loss 0.035\n",
      "Training Accuracy: 0.9600, Testing Accuracy: 0.9682\n",
      "\n"
     ]
    },
    {
     "name": "stdout",
     "output_type": "stream",
     "text": [
      "Epoch 60, Loss 0.0324\n",
      "Training Accuracy: 0.9634, Testing Accuracy: 0.9693\n",
      "\n"
     ]
    },
    {
     "name": "stdout",
     "output_type": "stream",
     "text": [
      "Epoch 70, Loss 0.0304\n",
      "Training Accuracy: 0.9655, Testing Accuracy: 0.9713\n",
      "\n"
     ]
    },
    {
     "name": "stdout",
     "output_type": "stream",
     "text": [
      "Epoch 80, Loss 0.0289\n",
      "Training Accuracy: 0.9667, Testing Accuracy: 0.9713\n",
      "\n"
     ]
    },
    {
     "name": "stdout",
     "output_type": "stream",
     "text": [
      "Epoch 90, Loss 0.0277\n",
      "Training Accuracy: 0.9680, Testing Accuracy: 0.9723\n",
      "\n"
     ]
    },
    {
     "name": "stdout",
     "output_type": "stream",
     "text": [
      "Epoch 100, Loss 0.0266\n",
      "Training Accuracy: 0.9702, Testing Accuracy: 0.9728\n",
      "\n"
     ]
    },
    {
     "name": "stdout",
     "output_type": "stream",
     "text": [
      "Epoch 110, Loss 0.0257\n",
      "Training Accuracy: 0.9713, Testing Accuracy: 0.9743\n",
      "\n"
     ]
    },
    {
     "name": "stdout",
     "output_type": "stream",
     "text": [
      "Epoch 120, Loss 0.0249\n",
      "Training Accuracy: 0.9720, Testing Accuracy: 0.9743\n",
      "\n"
     ]
    },
    {
     "name": "stdout",
     "output_type": "stream",
     "text": [
      "Epoch 130, Loss 0.0242\n",
      "Training Accuracy: 0.9726, Testing Accuracy: 0.9743\n",
      "\n"
     ]
    },
    {
     "name": "stdout",
     "output_type": "stream",
     "text": [
      "Epoch 140, Loss 0.0236\n",
      "Training Accuracy: 0.9733, Testing Accuracy: 0.9748\n",
      "\n"
     ]
    },
    {
     "name": "stdout",
     "output_type": "stream",
     "text": [
      "Epoch 150, Loss 0.0229\n",
      "Training Accuracy: 0.9737, Testing Accuracy: 0.9743\n",
      "\n"
     ]
    },
    {
     "name": "stdout",
     "output_type": "stream",
     "text": [
      "Epoch 160, Loss 0.0224\n",
      "Training Accuracy: 0.9741, Testing Accuracy: 0.9748\n",
      "\n"
     ]
    },
    {
     "name": "stdout",
     "output_type": "stream",
     "text": [
      "Epoch 170, Loss 0.0218\n",
      "Training Accuracy: 0.9744, Testing Accuracy: 0.9743\n",
      "\n"
     ]
    },
    {
     "name": "stdout",
     "output_type": "stream",
     "text": [
      "Epoch 180, Loss 0.0213\n",
      "Training Accuracy: 0.9751, Testing Accuracy: 0.9733\n",
      "\n"
     ]
    },
    {
     "name": "stdout",
     "output_type": "stream",
     "text": [
      "Epoch 190, Loss 0.0209\n",
      "Training Accuracy: 0.9757, Testing Accuracy: 0.9743\n",
      "\n"
     ]
    },
    {
     "name": "stdout",
     "output_type": "stream",
     "text": [
      "Epoch 200, Loss 0.0204\n",
      "Training Accuracy: 0.9765, Testing Accuracy: 0.9748\n",
      "\n"
     ]
    },
    {
     "name": "stdout",
     "output_type": "stream",
     "text": [
      "Epoch 210, Loss 0.02\n",
      "Training Accuracy: 0.9770, Testing Accuracy: 0.9743\n",
      "\n"
     ]
    },
    {
     "name": "stdout",
     "output_type": "stream",
     "text": [
      "Epoch 220, Loss 0.0196\n",
      "Training Accuracy: 0.9773, Testing Accuracy: 0.9748\n",
      "\n"
     ]
    },
    {
     "name": "stdout",
     "output_type": "stream",
     "text": [
      "Epoch 230, Loss 0.0192\n",
      "Training Accuracy: 0.9781, Testing Accuracy: 0.9748\n",
      "\n"
     ]
    },
    {
     "name": "stdout",
     "output_type": "stream",
     "text": [
      "Epoch 240, Loss 0.0188\n",
      "Training Accuracy: 0.9790, Testing Accuracy: 0.9743\n",
      "\n"
     ]
    },
    {
     "data": {
      "text/plain": [
       "0.0202314722511273"
      ]
     },
     "execution_count": 22,
     "metadata": {},
     "output_type": "execute_result"
    }
   ],
   "source": [
    "nn_learner.train_loop(dl)"
   ]
  },
  {
   "cell_type": "code",
   "execution_count": 23,
   "id": "e0163366",
   "metadata": {
    "execution": {
     "iopub.execute_input": "2022-05-18T20:11:46.587005Z",
     "iopub.status.busy": "2022-05-18T20:11:46.586533Z",
     "iopub.status.idle": "2022-05-18T20:12:00.921027Z",
     "shell.execute_reply": "2022-05-18T20:12:00.921727Z"
    },
    "papermill": {
     "duration": 14.373756,
     "end_time": "2022-05-18T20:12:00.921870",
     "exception": false,
     "start_time": "2022-05-18T20:11:46.548114",
     "status": "completed"
    },
    "tags": []
   },
   "outputs": [
    {
     "name": "stdout",
     "output_type": "stream",
     "text": [
      "Epoch 0, Loss 0.2267\n",
      "Training Accuracy: 0.7612, Testing Accuracy: 0.7712\n",
      "\n"
     ]
    },
    {
     "name": "stdout",
     "output_type": "stream",
     "text": [
      "Epoch 10, Loss 0.1025\n",
      "Training Accuracy: 0.9090, Testing Accuracy: 0.9194\n",
      "\n"
     ]
    },
    {
     "name": "stdout",
     "output_type": "stream",
     "text": [
      "Epoch 20, Loss 0.0796\n",
      "Training Accuracy: 0.9265, Testing Accuracy: 0.9370\n",
      "\n"
     ]
    },
    {
     "name": "stdout",
     "output_type": "stream",
     "text": [
      "Epoch 30, Loss 0.0688\n",
      "Training Accuracy: 0.9338, Testing Accuracy: 0.9471\n",
      "\n"
     ]
    },
    {
     "name": "stdout",
     "output_type": "stream",
     "text": [
      "Epoch 40, Loss 0.0623\n",
      "Training Accuracy: 0.9382, Testing Accuracy: 0.9511\n",
      "\n"
     ]
    },
    {
     "name": "stdout",
     "output_type": "stream",
     "text": [
      "Epoch 50, Loss 0.0579\n",
      "Training Accuracy: 0.9411, Testing Accuracy: 0.9531\n",
      "\n"
     ]
    },
    {
     "name": "stdout",
     "output_type": "stream",
     "text": [
      "Epoch 60, Loss 0.0545\n",
      "Training Accuracy: 0.9433, Testing Accuracy: 0.9551\n",
      "\n"
     ]
    },
    {
     "name": "stdout",
     "output_type": "stream",
     "text": [
      "Epoch 70, Loss 0.052\n",
      "Training Accuracy: 0.9464, Testing Accuracy: 0.9556\n",
      "\n"
     ]
    },
    {
     "name": "stdout",
     "output_type": "stream",
     "text": [
      "Epoch 80, Loss 0.0499\n",
      "Training Accuracy: 0.9487, Testing Accuracy: 0.9582\n",
      "\n"
     ]
    },
    {
     "name": "stdout",
     "output_type": "stream",
     "text": [
      "Epoch 90, Loss 0.0482\n",
      "Training Accuracy: 0.9494, Testing Accuracy: 0.9592\n",
      "\n"
     ]
    },
    {
     "name": "stdout",
     "output_type": "stream",
     "text": [
      "Epoch 100, Loss 0.0468\n",
      "Training Accuracy: 0.9504, Testing Accuracy: 0.9597\n",
      "\n"
     ]
    },
    {
     "name": "stdout",
     "output_type": "stream",
     "text": [
      "Epoch 110, Loss 0.0455\n",
      "Training Accuracy: 0.9515, Testing Accuracy: 0.9607\n",
      "\n"
     ]
    },
    {
     "name": "stdout",
     "output_type": "stream",
     "text": [
      "Epoch 120, Loss 0.0444\n",
      "Training Accuracy: 0.9523, Testing Accuracy: 0.9617\n",
      "\n"
     ]
    },
    {
     "name": "stdout",
     "output_type": "stream",
     "text": [
      "Epoch 130, Loss 0.0435\n",
      "Training Accuracy: 0.9532, Testing Accuracy: 0.9622\n",
      "\n"
     ]
    },
    {
     "name": "stdout",
     "output_type": "stream",
     "text": [
      "Epoch 140, Loss 0.0426\n",
      "Training Accuracy: 0.9543, Testing Accuracy: 0.9632\n",
      "\n"
     ]
    },
    {
     "name": "stdout",
     "output_type": "stream",
     "text": [
      "Epoch 150, Loss 0.0419\n",
      "Training Accuracy: 0.9551, Testing Accuracy: 0.9642\n",
      "\n"
     ]
    },
    {
     "name": "stdout",
     "output_type": "stream",
     "text": [
      "Epoch 160, Loss 0.0412\n",
      "Training Accuracy: 0.9561, Testing Accuracy: 0.9647\n",
      "\n"
     ]
    },
    {
     "name": "stdout",
     "output_type": "stream",
     "text": [
      "Epoch 170, Loss 0.0405\n",
      "Training Accuracy: 0.9568, Testing Accuracy: 0.9647\n",
      "\n"
     ]
    },
    {
     "name": "stdout",
     "output_type": "stream",
     "text": [
      "Epoch 180, Loss 0.04\n",
      "Training Accuracy: 0.9571, Testing Accuracy: 0.9647\n",
      "\n"
     ]
    },
    {
     "name": "stdout",
     "output_type": "stream",
     "text": [
      "Epoch 190, Loss 0.0394\n",
      "Training Accuracy: 0.9576, Testing Accuracy: 0.9647\n",
      "\n"
     ]
    },
    {
     "name": "stdout",
     "output_type": "stream",
     "text": [
      "Epoch 200, Loss 0.0389\n",
      "Training Accuracy: 0.9578, Testing Accuracy: 0.9652\n",
      "\n"
     ]
    },
    {
     "name": "stdout",
     "output_type": "stream",
     "text": [
      "Epoch 210, Loss 0.0385\n",
      "Training Accuracy: 0.9582, Testing Accuracy: 0.9652\n",
      "\n"
     ]
    },
    {
     "name": "stdout",
     "output_type": "stream",
     "text": [
      "Epoch 220, Loss 0.0381\n",
      "Training Accuracy: 0.9584, Testing Accuracy: 0.9647\n",
      "\n"
     ]
    },
    {
     "name": "stdout",
     "output_type": "stream",
     "text": [
      "Epoch 230, Loss 0.0377\n",
      "Training Accuracy: 0.9589, Testing Accuracy: 0.9647\n",
      "\n"
     ]
    },
    {
     "name": "stdout",
     "output_type": "stream",
     "text": [
      "Epoch 240, Loss 0.0373\n",
      "Training Accuracy: 0.9593, Testing Accuracy: 0.9647\n",
      "\n"
     ]
    },
    {
     "data": {
      "text/plain": [
       "0.04915771363689133"
      ]
     },
     "execution_count": 23,
     "metadata": {},
     "output_type": "execute_result"
    }
   ],
   "source": [
    "lr_learner.train_loop(dl)"
   ]
  },
  {
   "cell_type": "code",
   "execution_count": 24,
   "id": "ca410940",
   "metadata": {
    "execution": {
     "iopub.execute_input": "2022-05-18T20:12:01.010623Z",
     "iopub.status.busy": "2022-05-18T20:12:01.010126Z",
     "iopub.status.idle": "2022-05-18T20:12:01.227916Z",
     "shell.execute_reply": "2022-05-18T20:12:01.228305Z"
    },
    "papermill": {
     "duration": 0.269534,
     "end_time": "2022-05-18T20:12:01.228440",
     "exception": false,
     "start_time": "2022-05-18T20:12:00.958906",
     "status": "completed"
    },
    "tags": []
   },
   "outputs": [
    {
     "data": {
      "text/plain": [
       "<matplotlib.legend.Legend at 0x7f4b87cd3c18>"
      ]
     },
     "execution_count": 24,
     "metadata": {},
     "output_type": "execute_result"
    },
    {
     "data": {
      "image/png": "[encoded data removed]",
      "text/plain": [
       "<Figure size 1080x720 with 1 Axes>"
      ]
     },
     "metadata": {
      "needs_background": "light"
     },
     "output_type": "display_data"
    }
   ],
   "source": [
    "#comparing the results of NN and LR\n",
    "plt.figure(figsize=(15,10))\n",
    "\n",
    "# Neural Network plots\n",
    "plt.plot(acc_nn.accuracies, 'r-', label = \"Training Accuracies - NN\")\n",
    "plt.plot(acc_nn.test_accuracies, 'g-', label = \"Testing Accuracies - NN\")\n",
    "\n",
    "# Logistic Regression plots\n",
    "plt.plot(acc_lr.accuracies, 'k-', label = \"Training Accuracies - LR\")\n",
    "plt.plot(acc_lr.test_accuracies, 'b-', label = \"Testing Accuracies - LR\")\n",
    "plt.legend()"
   ]
  },
  {
   "cell_type": "markdown",
   "id": "80dfb35c",
   "metadata": {
    "papermill": {
     "duration": 0.037361,
     "end_time": "2022-05-18T20:12:01.303454",
     "exception": false,
     "start_time": "2022-05-18T20:12:01.266093",
     "status": "completed"
    },
    "tags": []
   },
   "source": [
    "#### Plotting the outputs of this layer of the NN.\n"
   ]
  },
  {
   "cell_type": "code",
   "execution_count": 25,
   "id": "45eb2ff5",
   "metadata": {
    "execution": {
     "iopub.execute_input": "2022-05-18T20:12:01.382501Z",
     "iopub.status.busy": "2022-05-18T20:12:01.382021Z",
     "iopub.status.idle": "2022-05-18T20:12:01.401775Z",
     "shell.execute_reply": "2022-05-18T20:12:01.402171Z"
    },
    "papermill": {
     "duration": 0.061563,
     "end_time": "2022-05-18T20:12:01.402306",
     "exception": false,
     "start_time": "2022-05-18T20:12:01.340743",
     "status": "completed"
    },
    "tags": []
   },
   "outputs": [],
   "source": [
    "new_model = Model(layers[:-2])\n",
    "testing_plot = new_model(testing_data_x)"
   ]
  },
  {
   "cell_type": "code",
   "execution_count": 26,
   "id": "4c0a5485",
   "metadata": {
    "execution": {
     "iopub.execute_input": "2022-05-18T20:12:01.482398Z",
     "iopub.status.busy": "2022-05-18T20:12:01.481892Z",
     "iopub.status.idle": "2022-05-18T20:12:01.667965Z",
     "shell.execute_reply": "2022-05-18T20:12:01.668363Z"
    },
    "papermill": {
     "duration": 0.228314,
     "end_time": "2022-05-18T20:12:01.668520",
     "exception": false,
     "start_time": "2022-05-18T20:12:01.440206",
     "status": "completed"
    },
    "tags": []
   },
   "outputs": [
    {
     "data": {
      "text/plain": [
       "Text(0.5, 1.0, 'Outputs')"
      ]
     },
     "execution_count": 26,
     "metadata": {},
     "output_type": "execute_result"
    },
    {
     "data": {
      "image/png": "[encoded data removed]",
      "text/plain": [
       "<Figure size 576x504 with 1 Axes>"
      ]
     },
     "metadata": {
      "needs_background": "light"
     },
     "output_type": "display_data"
    }
   ],
   "source": [
    "# Plotting the scatter plot of points and color coding by class\n",
    "plt.figure(figsize=(8,7))\n",
    "plt.scatter(testing_plot[:,0], testing_plot[:,1], alpha = 0.1, c = y_test.ravel());\n",
    "plt.title('Outputs')"
   ]
  },
  {
   "cell_type": "markdown",
   "id": "a74fcf8f",
   "metadata": {
    "papermill": {
     "duration": 0.044991,
     "end_time": "2022-05-18T20:12:01.758109",
     "exception": false,
     "start_time": "2022-05-18T20:12:01.713118",
     "status": "completed"
    },
    "tags": []
   },
   "source": [
    "Probability contours"
   ]
  },
  {
   "cell_type": "code",
   "execution_count": 27,
   "id": "d0afc8e3",
   "metadata": {
    "execution": {
     "iopub.execute_input": "2022-05-18T20:12:01.851968Z",
     "iopub.status.busy": "2022-05-18T20:12:01.851425Z",
     "iopub.status.idle": "2022-05-18T20:12:01.862868Z",
     "shell.execute_reply": "2022-05-18T20:12:01.862394Z"
    },
    "papermill": {
     "duration": 0.060132,
     "end_time": "2022-05-18T20:12:01.862995",
     "exception": false,
     "start_time": "2022-05-18T20:12:01.802863",
     "status": "completed"
    },
    "tags": []
   },
   "outputs": [],
   "source": [
    "model_prob = Model(layers[-2:]) "
   ]
  },
  {
   "cell_type": "code",
   "execution_count": 28,
   "id": "9b96e238",
   "metadata": {
    "execution": {
     "iopub.execute_input": "2022-05-18T20:12:01.994544Z",
     "iopub.status.busy": "2022-05-18T20:12:01.994054Z",
     "iopub.status.idle": "2022-05-18T20:12:02.007011Z",
     "shell.execute_reply": "2022-05-18T20:12:02.007670Z"
    },
    "papermill": {
     "duration": 0.062504,
     "end_time": "2022-05-18T20:12:02.007804",
     "exception": false,
     "start_time": "2022-05-18T20:12:01.945300",
     "status": "completed"
    },
    "tags": []
   },
   "outputs": [],
   "source": [
    "#creating the x and y ranges according to the above generated plot.\n",
    "x_range = np.linspace(-4, 1, 100) \n",
    "y_range = np.linspace(-6, 6, 100) \n",
    "x_grid, y_grid = np.meshgrid(x_range, y_range) # x_grid and y_grig are of size 100 X 100\n",
    "\n",
    "# converting x_grid and y_grid to continuous arrays\n",
    "x_gridflat = np.ravel(x_grid)\n",
    "y_gridflat = np.ravel(y_grid)\n",
    "\n",
    "# The last layer of the current model takes two columns as input. Hence transpose of np.vstack() is required.\n",
    "X = np.vstack((x_gridflat, y_gridflat)).T\n",
    "\n",
    "prob_contour = model_prob(X).reshape(100,100) "
   ]
  },
  {
   "cell_type": "code",
   "execution_count": 29,
   "id": "da72499a",
   "metadata": {
    "execution": {
     "iopub.execute_input": "2022-05-18T20:12:02.092938Z",
     "iopub.status.busy": "2022-05-18T20:12:02.092468Z",
     "iopub.status.idle": "2022-05-18T20:12:02.332330Z",
     "shell.execute_reply": "2022-05-18T20:12:02.332706Z"
    },
    "papermill": {
     "duration": 0.285064,
     "end_time": "2022-05-18T20:12:02.332845",
     "exception": false,
     "start_time": "2022-05-18T20:12:02.047781",
     "status": "completed"
    },
    "tags": []
   },
   "outputs": [
    {
     "data": {
      "image/png": "[encoded data removed]",
      "text/plain": [
       "<Figure size 720x648 with 1 Axes>"
      ]
     },
     "metadata": {
      "needs_background": "light"
     },
     "output_type": "display_data"
    }
   ],
   "source": [
    "plt.figure(figsize=(10,9))\n",
    "plt.scatter(testing_plot[:,0], testing_plot[:,1], alpha = 0.1, c = y_test.ravel())\n",
    "contours = plt.contour(x_grid,y_grid,prob_contour)\n",
    "plt.title('Probability Contours')\n",
    "plt.clabel(contours, inline = True );"
   ]
  },
  {
   "cell_type": "code",
   "execution_count": null,
   "id": "e81b4ac7",
   "metadata": {
    "papermill": {
     "duration": 0.041622,
     "end_time": "2022-05-18T20:12:02.416434",
     "exception": false,
     "start_time": "2022-05-18T20:12:02.374812",
     "status": "completed"
    },
    "tags": []
   },
   "outputs": [],
   "source": []
  }
 ],
 "metadata": {
  "kernelspec": {
   "display_name": "Python 3",
   "language": "python",
   "name": "python3"
  },
  "language_info": {
   "codemirror_mode": {
    "name": "ipython",
    "version": 3
   },
   "file_extension": ".py",
   "mimetype": "text/x-python",
   "name": "python",
   "nbconvert_exporter": "python",
   "pygments_lexer": "ipython3",
   "version": "3.6.15"
  },
  "papermill": {
   "default_parameters": {},
   "duration": 101.449124,
   "end_time": "2022-05-18T20:12:02.877610",
   "environment_variables": {},
   "exception": null,
   "input_path": "2020-08-11-part2.ipynb",
   "output_path": "2020-08-11-part2.ipynb",
   "parameters": {},
   "start_time": "2022-05-18T20:10:21.428486",
   "version": "2.3.3"
  }
 },
 "nbformat": 4,
 "nbformat_minor": 5
}