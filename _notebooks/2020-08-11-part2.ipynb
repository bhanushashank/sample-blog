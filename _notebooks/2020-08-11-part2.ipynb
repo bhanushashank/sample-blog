{
 "cells": [
  {
   "cell_type": "markdown",
   "id": "98380cd3",
   "metadata": {
    "papermill": {
     "duration": 0.029531,
     "end_time": "2022-10-28T20:11:30.406391",
     "exception": false,
     "start_time": "2022-10-28T20:11:30.376860",
     "status": "completed"
    },
    "tags": []
   },
   "source": [
    "# Distinguish Your Own Digits (DYOD)"
   ]
  },
  {
   "cell_type": "markdown",
   "id": "ef31240d",
   "metadata": {
    "papermill": {
     "duration": 0.023841,
     "end_time": "2022-10-28T20:11:30.454640",
     "exception": false,
     "start_time": "2022-10-28T20:11:30.430799",
     "status": "completed"
    },
    "tags": []
   },
   "source": [
    "You are going to write a classifier that distinguishes between the number 3 and number 8."
   ]
  },
  {
   "cell_type": "code",
   "execution_count": 1,
   "id": "b15c8646",
   "metadata": {
    "execution": {
     "iopub.execute_input": "2022-10-28T20:11:30.513966Z",
     "iopub.status.busy": "2022-10-28T20:11:30.513344Z",
     "iopub.status.idle": "2022-10-28T20:11:30.524797Z",
     "shell.execute_reply": "2022-10-28T20:11:30.524303Z"
    },
    "papermill": {
     "duration": 0.046514,
     "end_time": "2022-10-28T20:11:30.524924",
     "exception": false,
     "start_time": "2022-10-28T20:11:30.478410",
     "status": "completed"
    },
    "tags": []
   },
   "outputs": [],
   "source": [
    "%load_ext autoreload\n",
    "%autoreload 2"
   ]
  },
  {
   "cell_type": "code",
   "execution_count": 2,
   "id": "22ef38dc",
   "metadata": {
    "execution": {
     "iopub.execute_input": "2022-10-28T20:11:30.577241Z",
     "iopub.status.busy": "2022-10-28T20:11:30.576621Z",
     "iopub.status.idle": "2022-10-28T20:11:31.135476Z",
     "shell.execute_reply": "2022-10-28T20:11:31.134939Z"
    },
    "papermill": {
     "duration": 0.586778,
     "end_time": "2022-10-28T20:11:31.135609",
     "exception": false,
     "start_time": "2022-10-28T20:11:30.548831",
     "status": "completed"
    },
    "tags": []
   },
   "outputs": [],
   "source": [
    "%matplotlib inline\n",
    "import numpy as np\n",
    "import matplotlib.pyplot as plt\n",
    "import pandas as pd"
   ]
  },
  {
   "cell_type": "markdown",
   "id": "ba036198",
   "metadata": {
    "papermill": {
     "duration": 0.023827,
     "end_time": "2022-10-28T20:11:31.183406",
     "exception": false,
     "start_time": "2022-10-28T20:11:31.159579",
     "status": "completed"
    },
    "tags": []
   },
   "source": [
    "From the command line run `pip install mnist`. This is a library that will help you bring down the mnist dataset. If you run this from a notebook, you need to put  `!pip install mnist` in a cell by itself."
   ]
  },
  {
   "cell_type": "code",
   "execution_count": 3,
   "id": "bb6ad8a1",
   "metadata": {
    "execution": {
     "iopub.execute_input": "2022-10-28T20:11:31.235962Z",
     "iopub.status.busy": "2022-10-28T20:11:31.235368Z",
     "iopub.status.idle": "2022-10-28T20:11:32.868889Z",
     "shell.execute_reply": "2022-10-28T20:11:32.868266Z"
    },
    "papermill": {
     "duration": 1.661542,
     "end_time": "2022-10-28T20:11:32.869062",
     "exception": false,
     "start_time": "2022-10-28T20:11:31.207520",
     "status": "completed"
    },
    "tags": []
   },
   "outputs": [
    {
     "name": "stdout",
     "output_type": "stream",
     "text": [
      "Collecting mnist\r\n"
     ]
    },
    {
     "name": "stdout",
     "output_type": "stream",
     "text": [
      "  Downloading mnist-0.2.2-py2.py3-none-any.whl (3.5 kB)\r\n",
      "Requirement already satisfied: numpy in /opt/hostedtoolcache/Python/3.6.15/x64/lib/python3.6/site-packages (from mnist) (1.19.5)\r\n"
     ]
    },
    {
     "name": "stdout",
     "output_type": "stream",
     "text": [
      "Installing collected packages: mnist\r\n"
     ]
    },
    {
     "name": "stdout",
     "output_type": "stream",
     "text": [
      "Successfully installed mnist-0.2.2\r\n"
     ]
    }
   ],
   "source": [
    "!pip install mnist"
   ]
  },
  {
   "cell_type": "markdown",
   "id": "69df9c9a",
   "metadata": {
    "papermill": {
     "duration": 0.025023,
     "end_time": "2022-10-28T20:11:32.920044",
     "exception": false,
     "start_time": "2022-10-28T20:11:32.895021",
     "status": "completed"
    },
    "tags": []
   },
   "source": [
    "## Preparing the Data"
   ]
  },
  {
   "cell_type": "code",
   "execution_count": 4,
   "id": "7f69d806",
   "metadata": {
    "execution": {
     "iopub.execute_input": "2022-10-28T20:11:32.988094Z",
     "iopub.status.busy": "2022-10-28T20:11:32.987455Z",
     "iopub.status.idle": "2022-10-28T20:11:32.994010Z",
     "shell.execute_reply": "2022-10-28T20:11:32.993526Z"
    },
    "papermill": {
     "duration": 0.049237,
     "end_time": "2022-10-28T20:11:32.994130",
     "exception": false,
     "start_time": "2022-10-28T20:11:32.944893",
     "status": "completed"
    },
    "tags": []
   },
   "outputs": [],
   "source": [
    "import mnist"
   ]
  },
  {
   "cell_type": "code",
   "execution_count": 5,
   "id": "a411e44f",
   "metadata": {
    "execution": {
     "iopub.execute_input": "2022-10-28T20:11:33.049250Z",
     "iopub.status.busy": "2022-10-28T20:11:33.048506Z",
     "iopub.status.idle": "2022-10-28T20:11:33.557912Z",
     "shell.execute_reply": "2022-10-28T20:11:33.557369Z"
    },
    "papermill": {
     "duration": 0.538545,
     "end_time": "2022-10-28T20:11:33.558041",
     "exception": false,
     "start_time": "2022-10-28T20:11:33.019496",
     "status": "completed"
    },
    "tags": []
   },
   "outputs": [],
   "source": [
    "train_images = mnist.train_images()\n",
    "train_labels = mnist.train_labels()"
   ]
  },
  {
   "cell_type": "code",
   "execution_count": 6,
   "id": "dceab3a5",
   "metadata": {
    "execution": {
     "iopub.execute_input": "2022-10-28T20:11:33.613427Z",
     "iopub.status.busy": "2022-10-28T20:11:33.612780Z",
     "iopub.status.idle": "2022-10-28T20:11:33.628809Z",
     "shell.execute_reply": "2022-10-28T20:11:33.628330Z"
    },
    "papermill": {
     "duration": 0.045761,
     "end_time": "2022-10-28T20:11:33.628926",
     "exception": false,
     "start_time": "2022-10-28T20:11:33.583165",
     "status": "completed"
    },
    "tags": []
   },
   "outputs": [
    {
     "data": {
      "text/plain": [
       "((60000, 28, 28), (60000,))"
      ]
     },
     "execution_count": 6,
     "metadata": {},
     "output_type": "execute_result"
    }
   ],
   "source": [
    "train_images.shape, train_labels.shape"
   ]
  },
  {
   "cell_type": "code",
   "execution_count": 7,
   "id": "f50dc2bb",
   "metadata": {
    "execution": {
     "iopub.execute_input": "2022-10-28T20:11:33.683138Z",
     "iopub.status.busy": "2022-10-28T20:11:33.682565Z",
     "iopub.status.idle": "2022-10-28T20:11:33.795139Z",
     "shell.execute_reply": "2022-10-28T20:11:33.794544Z"
    },
    "papermill": {
     "duration": 0.141211,
     "end_time": "2022-10-28T20:11:33.795285",
     "exception": false,
     "start_time": "2022-10-28T20:11:33.654074",
     "status": "completed"
    },
    "tags": []
   },
   "outputs": [],
   "source": [
    "test_images = mnist.test_images()\n",
    "test_labels = mnist.test_labels()"
   ]
  },
  {
   "cell_type": "code",
   "execution_count": 8,
   "id": "fc38cf1b",
   "metadata": {
    "execution": {
     "iopub.execute_input": "2022-10-28T20:11:33.858556Z",
     "iopub.status.busy": "2022-10-28T20:11:33.857939Z",
     "iopub.status.idle": "2022-10-28T20:11:33.864542Z",
     "shell.execute_reply": "2022-10-28T20:11:33.865488Z"
    },
    "papermill": {
     "duration": 0.043972,
     "end_time": "2022-10-28T20:11:33.865629",
     "exception": false,
     "start_time": "2022-10-28T20:11:33.821657",
     "status": "completed"
    },
    "tags": []
   },
   "outputs": [
    {
     "data": {
      "text/plain": [
       "((10000, 28, 28), (10000,))"
      ]
     },
     "execution_count": 8,
     "metadata": {},
     "output_type": "execute_result"
    }
   ],
   "source": [
    "test_images.shape, test_labels.shape"
   ]
  },
  {
   "cell_type": "code",
   "execution_count": 9,
   "id": "f9ed8fe0",
   "metadata": {
    "execution": {
     "iopub.execute_input": "2022-10-28T20:11:33.925151Z",
     "iopub.status.busy": "2022-10-28T20:11:33.921384Z",
     "iopub.status.idle": "2022-10-28T20:11:34.058976Z",
     "shell.execute_reply": "2022-10-28T20:11:34.059433Z"
    },
    "papermill": {
     "duration": 0.167964,
     "end_time": "2022-10-28T20:11:34.059574",
     "exception": false,
     "start_time": "2022-10-28T20:11:33.891610",
     "status": "completed"
    },
    "tags": []
   },
   "outputs": [
    {
     "name": "stdout",
     "output_type": "stream",
     "text": [
      "2\n"
     ]
    },
    {
     "data": {
      "text/plain": [
       "<matplotlib.image.AxesImage at 0x7f2943294d30>"
      ]
     },
     "execution_count": 9,
     "metadata": {},
     "output_type": "execute_result"
    },
    {
     "data": {
      "image/png": "[encoded data removed]",
      "text/plain": [
       "<Figure size 432x288 with 1 Axes>"
      ]
     },
     "metadata": {
      "needs_background": "light"
     },
     "output_type": "display_data"
    }
   ],
   "source": [
    "image_index = 7776 # You may select anything up to 60,000\n",
    "print(train_labels[image_index]) \n",
    "plt.imshow(train_images[image_index], cmap='Greys')"
   ]
  },
  {
   "cell_type": "markdown",
   "id": "a8d2388d",
   "metadata": {
    "papermill": {
     "duration": 0.026809,
     "end_time": "2022-10-28T20:11:34.113152",
     "exception": false,
     "start_time": "2022-10-28T20:11:34.086343",
     "status": "completed"
    },
    "tags": []
   },
   "source": [
    "## Filter data to get 3 and 8 out"
   ]
  },
  {
   "cell_type": "code",
   "execution_count": 10,
   "id": "776f7fc7",
   "metadata": {
    "execution": {
     "iopub.execute_input": "2022-10-28T20:11:34.170965Z",
     "iopub.status.busy": "2022-10-28T20:11:34.170359Z",
     "iopub.status.idle": "2022-10-28T20:11:34.191713Z",
     "shell.execute_reply": "2022-10-28T20:11:34.191124Z"
    },
    "papermill": {
     "duration": 0.052165,
     "end_time": "2022-10-28T20:11:34.191846",
     "exception": false,
     "start_time": "2022-10-28T20:11:34.139681",
     "status": "completed"
    },
    "tags": []
   },
   "outputs": [],
   "source": [
    "train_filter = np.where((train_labels == 3 ) | (train_labels == 8))\n",
    "test_filter = np.where((test_labels == 3) | (test_labels == 8))\n",
    "X_train, y_train = train_images[train_filter], train_labels[train_filter]\n",
    "X_test, y_test = test_images[test_filter], test_labels[test_filter]"
   ]
  },
  {
   "cell_type": "markdown",
   "id": "948f0b7e",
   "metadata": {
    "papermill": {
     "duration": 0.026718,
     "end_time": "2022-10-28T20:11:34.246070",
     "exception": false,
     "start_time": "2022-10-28T20:11:34.219352",
     "status": "completed"
    },
    "tags": []
   },
   "source": [
    "We normalize the pizel values in the 0 to 1 range"
   ]
  },
  {
   "cell_type": "code",
   "execution_count": 11,
   "id": "ee4c2166",
   "metadata": {
    "execution": {
     "iopub.execute_input": "2022-10-28T20:11:34.315144Z",
     "iopub.status.busy": "2022-10-28T20:11:34.311761Z",
     "iopub.status.idle": "2022-10-28T20:11:34.356391Z",
     "shell.execute_reply": "2022-10-28T20:11:34.355810Z"
    },
    "papermill": {
     "duration": 0.084124,
     "end_time": "2022-10-28T20:11:34.356521",
     "exception": false,
     "start_time": "2022-10-28T20:11:34.272397",
     "status": "completed"
    },
    "tags": []
   },
   "outputs": [],
   "source": [
    "X_train = X_train/255.\n",
    "X_test = X_test/255."
   ]
  },
  {
   "cell_type": "markdown",
   "id": "ddcf4fab",
   "metadata": {
    "papermill": {
     "duration": 0.0271,
     "end_time": "2022-10-28T20:11:34.410968",
     "exception": false,
     "start_time": "2022-10-28T20:11:34.383868",
     "status": "completed"
    },
    "tags": []
   },
   "source": [
    "And setup the labels as 1 (when the digit is 3) and 0 (when the digit is 8)"
   ]
  },
  {
   "cell_type": "code",
   "execution_count": 12,
   "id": "7dc908f2",
   "metadata": {
    "execution": {
     "iopub.execute_input": "2022-10-28T20:11:34.470463Z",
     "iopub.status.busy": "2022-10-28T20:11:34.469877Z",
     "iopub.status.idle": "2022-10-28T20:11:34.481621Z",
     "shell.execute_reply": "2022-10-28T20:11:34.482175Z"
    },
    "papermill": {
     "duration": 0.044455,
     "end_time": "2022-10-28T20:11:34.482312",
     "exception": false,
     "start_time": "2022-10-28T20:11:34.437857",
     "status": "completed"
    },
    "tags": []
   },
   "outputs": [],
   "source": [
    "y_train = 1*(y_train==3)\n",
    "y_test = 1*(y_test==3)"
   ]
  },
  {
   "cell_type": "code",
   "execution_count": 13,
   "id": "01e4e969",
   "metadata": {
    "execution": {
     "iopub.execute_input": "2022-10-28T20:11:34.539673Z",
     "iopub.status.busy": "2022-10-28T20:11:34.539088Z",
     "iopub.status.idle": "2022-10-28T20:11:34.554238Z",
     "shell.execute_reply": "2022-10-28T20:11:34.553754Z"
    },
    "papermill": {
     "duration": 0.045297,
     "end_time": "2022-10-28T20:11:34.554355",
     "exception": false,
     "start_time": "2022-10-28T20:11:34.509058",
     "status": "completed"
    },
    "tags": []
   },
   "outputs": [
    {
     "data": {
      "text/plain": [
       "((11982, 28, 28), (1984, 28, 28))"
      ]
     },
     "execution_count": 13,
     "metadata": {},
     "output_type": "execute_result"
    }
   ],
   "source": [
    "X_train.shape, X_test.shape"
   ]
  },
  {
   "cell_type": "markdown",
   "id": "5ccf3f85",
   "metadata": {
    "papermill": {
     "duration": 0.026841,
     "end_time": "2022-10-28T20:11:34.608293",
     "exception": false,
     "start_time": "2022-10-28T20:11:34.581452",
     "status": "completed"
    },
    "tags": []
   },
   "source": [
    "We reshape the data to flatten the image pixels into a set of features or co-variates:"
   ]
  },
  {
   "cell_type": "code",
   "execution_count": 14,
   "id": "5286a4a3",
   "metadata": {
    "execution": {
     "iopub.execute_input": "2022-10-28T20:11:34.669262Z",
     "iopub.status.busy": "2022-10-28T20:11:34.668654Z",
     "iopub.status.idle": "2022-10-28T20:11:34.682899Z",
     "shell.execute_reply": "2022-10-28T20:11:34.682324Z"
    },
    "papermill": {
     "duration": 0.047613,
     "end_time": "2022-10-28T20:11:34.683014",
     "exception": false,
     "start_time": "2022-10-28T20:11:34.635401",
     "status": "completed"
    },
    "tags": []
   },
   "outputs": [
    {
     "data": {
      "text/plain": [
       "((11982, 784), (1984, 784))"
      ]
     },
     "execution_count": 14,
     "metadata": {},
     "output_type": "execute_result"
    }
   ],
   "source": [
    "X_train = X_train.reshape(X_train.shape[0], -1)\n",
    "X_test = X_test.reshape(X_test.shape[0], -1)\n",
    "X_train.shape, X_test.shape"
   ]
  },
  {
   "cell_type": "code",
   "execution_count": 15,
   "id": "73c5f88a",
   "metadata": {
    "execution": {
     "iopub.execute_input": "2022-10-28T20:11:34.745514Z",
     "iopub.status.busy": "2022-10-28T20:11:34.744883Z",
     "iopub.status.idle": "2022-10-28T20:11:34.762034Z",
     "shell.execute_reply": "2022-10-28T20:11:34.762487Z"
    },
    "papermill": {
     "duration": 0.0523,
     "end_time": "2022-10-28T20:11:34.762622",
     "exception": false,
     "start_time": "2022-10-28T20:11:34.710322",
     "status": "completed"
    },
    "tags": []
   },
   "outputs": [],
   "source": [
    "#Impoting functions from 'Kudzu'\n",
    "from kudzu.model import Model\n",
    "from kudzu.train import Learner\n",
    "from kudzu.optim import GD\n",
    "from kudzu.data import Data, Sampler,Dataloader\n",
    "\n",
    "from kudzu.callbacks import AccCallback\n",
    "from kudzu.callbacks import ClfCallback\n",
    "\n",
    "from kudzu.loss import MSE\n",
    "\n",
    "from kudzu.layer import Sigmoid,Relu\n",
    "from kudzu.layer import Affine"
   ]
  },
  {
   "cell_type": "markdown",
   "id": "bc01172a",
   "metadata": {
    "papermill": {
     "duration": 0.027144,
     "end_time": "2022-10-28T20:11:34.816915",
     "exception": false,
     "start_time": "2022-10-28T20:11:34.789771",
     "status": "completed"
    },
    "tags": []
   },
   "source": [
    "### Let us create a `Config` class, to store important parameters. \n",
    "This class essentially plays the role of a dictionary."
   ]
  },
  {
   "cell_type": "code",
   "execution_count": 16,
   "id": "978281aa",
   "metadata": {
    "execution": {
     "iopub.execute_input": "2022-10-28T20:11:34.889045Z",
     "iopub.status.busy": "2022-10-28T20:11:34.885465Z",
     "iopub.status.idle": "2022-10-28T20:11:34.891372Z",
     "shell.execute_reply": "2022-10-28T20:11:34.891794Z"
    },
    "papermill": {
     "duration": 0.048017,
     "end_time": "2022-10-28T20:11:34.891935",
     "exception": false,
     "start_time": "2022-10-28T20:11:34.843918",
     "status": "completed"
    },
    "tags": []
   },
   "outputs": [],
   "source": [
    "class Config:\n",
    "    pass\n",
    "config = Config()\n",
    "config.lr = 0.001\n",
    "config.num_epochs = 250\n",
    "config.bs = 50"
   ]
  },
  {
   "cell_type": "markdown",
   "id": "1385fa59",
   "metadata": {
    "papermill": {
     "duration": 0.027124,
     "end_time": "2022-10-28T20:11:34.946301",
     "exception": false,
     "start_time": "2022-10-28T20:11:34.919177",
     "status": "completed"
    },
    "tags": []
   },
   "source": [
    "### Running Models with the Training data\n",
    "Details about the network layers:\n",
    "- A first affine layer has 784 inputs and does 100 affine transforms. These are followed by a Relu\n",
    "- A second affine layer has 100 inputs from the 100 activations of the past layer, and does 100 affine transforms. These are followed by a Relu\n",
    "- A third affine layer has 100 activations and does 2 affine transformations to create an embedding for visualization. There is no non-linearity here.\n",
    "- A final \"logistic regression\" which has an affine transform from 2 inputs to 1 output, which is squeezed through a sigmoid.\n"
   ]
  },
  {
   "cell_type": "code",
   "execution_count": 17,
   "id": "2b9c66db",
   "metadata": {
    "execution": {
     "iopub.execute_input": "2022-10-28T20:11:35.013464Z",
     "iopub.status.busy": "2022-10-28T20:11:35.012814Z",
     "iopub.status.idle": "2022-10-28T20:11:35.021902Z",
     "shell.execute_reply": "2022-10-28T20:11:35.021425Z"
    },
    "papermill": {
     "duration": 0.048631,
     "end_time": "2022-10-28T20:11:35.022014",
     "exception": false,
     "start_time": "2022-10-28T20:11:34.973383",
     "status": "completed"
    },
    "tags": []
   },
   "outputs": [],
   "source": [
    "data = Data(X_train, y_train.reshape(-1,1))\n",
    "sampler = Sampler(data, config.bs, shuffle=True)\n",
    "\n",
    "dl = Dataloader(data, sampler)\n",
    "\n",
    "opt = GD(config.lr)\n",
    "loss = MSE()"
   ]
  },
  {
   "cell_type": "code",
   "execution_count": 18,
   "id": "b275e4c2",
   "metadata": {
    "execution": {
     "iopub.execute_input": "2022-10-28T20:11:35.080283Z",
     "iopub.status.busy": "2022-10-28T20:11:35.079687Z",
     "iopub.status.idle": "2022-10-28T20:11:35.093131Z",
     "shell.execute_reply": "2022-10-28T20:11:35.093593Z"
    },
    "papermill": {
     "duration": 0.044607,
     "end_time": "2022-10-28T20:11:35.093728",
     "exception": false,
     "start_time": "2022-10-28T20:11:35.049121",
     "status": "completed"
    },
    "tags": []
   },
   "outputs": [],
   "source": [
    "training_data_x = X_train\n",
    "testing_data_x = X_test\n",
    "training_data_y = y_train.reshape(-1,1)\n",
    "testing_data_y = y_test.reshape(-1,1)"
   ]
  },
  {
   "cell_type": "code",
   "execution_count": 19,
   "id": "76951160",
   "metadata": {
    "execution": {
     "iopub.execute_input": "2022-10-28T20:11:35.152524Z",
     "iopub.status.busy": "2022-10-28T20:11:35.151928Z",
     "iopub.status.idle": "2022-10-28T20:11:35.170053Z",
     "shell.execute_reply": "2022-10-28T20:11:35.169478Z"
    },
    "papermill": {
     "duration": 0.049545,
     "end_time": "2022-10-28T20:11:35.170169",
     "exception": false,
     "start_time": "2022-10-28T20:11:35.120624",
     "status": "completed"
    },
    "tags": []
   },
   "outputs": [
    {
     "name": "stdout",
     "output_type": "stream",
     "text": [
      "xavier\n",
      "xavier\n",
      "xavier\n",
      "xavier\n",
      "xavier\n"
     ]
    }
   ],
   "source": [
    "layers = [Affine(\"first\", 784, 100), Relu(\"first\"), Affine(\"second\", 100, 100), Relu(\"second\"), Affine(\"third\", 100, 2), Affine(\"last\", 2, 1), Sigmoid(\"last\")]\n",
    "model_nn = Model(layers)\n",
    "model_lr = Model([Affine(\"logits\", 784, 1), Sigmoid(\"sigmoid\")])"
   ]
  },
  {
   "cell_type": "code",
   "execution_count": 20,
   "id": "6eede77a",
   "metadata": {
    "execution": {
     "iopub.execute_input": "2022-10-28T20:11:35.233659Z",
     "iopub.status.busy": "2022-10-28T20:11:35.233060Z",
     "iopub.status.idle": "2022-10-28T20:11:35.242845Z",
     "shell.execute_reply": "2022-10-28T20:11:35.243296Z"
    },
    "papermill": {
     "duration": 0.045653,
     "end_time": "2022-10-28T20:11:35.243427",
     "exception": false,
     "start_time": "2022-10-28T20:11:35.197774",
     "status": "completed"
    },
    "tags": []
   },
   "outputs": [],
   "source": [
    "nn_learner = Learner(loss, model_nn, opt, config.num_epochs)\n",
    "acc_nn = ClfCallback(nn_learner, config.bs, training_data_x , testing_data_x, training_data_y, testing_data_y)\n",
    "nn_learner.set_callbacks([acc_nn])"
   ]
  },
  {
   "cell_type": "code",
   "execution_count": 21,
   "id": "877b6cc7",
   "metadata": {
    "execution": {
     "iopub.execute_input": "2022-10-28T20:11:35.306506Z",
     "iopub.status.busy": "2022-10-28T20:11:35.305875Z",
     "iopub.status.idle": "2022-10-28T20:11:35.316911Z",
     "shell.execute_reply": "2022-10-28T20:11:35.317717Z"
    },
    "papermill": {
     "duration": 0.047034,
     "end_time": "2022-10-28T20:11:35.317852",
     "exception": false,
     "start_time": "2022-10-28T20:11:35.270818",
     "status": "completed"
    },
    "tags": []
   },
   "outputs": [],
   "source": [
    "lr_learner = Learner(loss, model_lr, opt, config.num_epochs)\n",
    "acc_lr = ClfCallback(lr_learner, config.bs, training_data_x , testing_data_x, training_data_y, testing_data_y)\n",
    "lr_learner.set_callbacks([acc_lr])"
   ]
  },
  {
   "cell_type": "code",
   "execution_count": 22,
   "id": "d9b133c3",
   "metadata": {
    "execution": {
     "iopub.execute_input": "2022-10-28T20:11:35.385834Z",
     "iopub.status.busy": "2022-10-28T20:11:35.376386Z",
     "iopub.status.idle": "2022-10-28T20:12:57.158127Z",
     "shell.execute_reply": "2022-10-28T20:12:57.158701Z"
    },
    "papermill": {
     "duration": 81.813654,
     "end_time": "2022-10-28T20:12:57.158847",
     "exception": false,
     "start_time": "2022-10-28T20:11:35.345193",
     "status": "completed"
    },
    "tags": []
   },
   "outputs": [
    {
     "name": "stdout",
     "output_type": "stream",
     "text": [
      "Epoch 0, Loss 0.2451\n",
      "Training Accuracy: 0.6076, Testing Accuracy: 0.6159\n",
      "\n"
     ]
    },
    {
     "name": "stdout",
     "output_type": "stream",
     "text": [
      "Epoch 10, Loss 0.0911\n",
      "Training Accuracy: 0.9139, Testing Accuracy: 0.9224\n",
      "\n"
     ]
    },
    {
     "name": "stdout",
     "output_type": "stream",
     "text": [
      "Epoch 20, Loss 0.0548\n",
      "Training Accuracy: 0.9436, Testing Accuracy: 0.9531\n",
      "\n"
     ]
    },
    {
     "name": "stdout",
     "output_type": "stream",
     "text": [
      "Epoch 30, Loss 0.0427\n",
      "Training Accuracy: 0.9542, Testing Accuracy: 0.9627\n",
      "\n"
     ]
    },
    {
     "name": "stdout",
     "output_type": "stream",
     "text": [
      "Epoch 40, Loss 0.0369\n",
      "Training Accuracy: 0.9589, Testing Accuracy: 0.9657\n",
      "\n"
     ]
    },
    {
     "name": "stdout",
     "output_type": "stream",
     "text": [
      "Epoch 50, Loss 0.0334\n",
      "Training Accuracy: 0.9626, Testing Accuracy: 0.9677\n",
      "\n"
     ]
    },
    {
     "name": "stdout",
     "output_type": "stream",
     "text": [
      "Epoch 60, Loss 0.031\n",
      "Training Accuracy: 0.9649, Testing Accuracy: 0.9688\n",
      "\n"
     ]
    },
    {
     "name": "stdout",
     "output_type": "stream",
     "text": [
      "Epoch 70, Loss 0.0291\n",
      "Training Accuracy: 0.9664, Testing Accuracy: 0.9682\n",
      "\n"
     ]
    },
    {
     "name": "stdout",
     "output_type": "stream",
     "text": [
      "Epoch 80, Loss 0.0276\n",
      "Training Accuracy: 0.9678, Testing Accuracy: 0.9682\n",
      "\n"
     ]
    },
    {
     "name": "stdout",
     "output_type": "stream",
     "text": [
      "Epoch 90, Loss 0.0264\n",
      "Training Accuracy: 0.9692, Testing Accuracy: 0.9682\n",
      "\n"
     ]
    },
    {
     "name": "stdout",
     "output_type": "stream",
     "text": [
      "Epoch 100, Loss 0.0253\n",
      "Training Accuracy: 0.9709, Testing Accuracy: 0.9688\n",
      "\n"
     ]
    },
    {
     "name": "stdout",
     "output_type": "stream",
     "text": [
      "Epoch 110, Loss 0.0244\n",
      "Training Accuracy: 0.9722, Testing Accuracy: 0.9703\n",
      "\n"
     ]
    },
    {
     "name": "stdout",
     "output_type": "stream",
     "text": [
      "Epoch 120, Loss 0.0235\n",
      "Training Accuracy: 0.9734, Testing Accuracy: 0.9703\n",
      "\n"
     ]
    },
    {
     "name": "stdout",
     "output_type": "stream",
     "text": [
      "Epoch 130, Loss 0.0227\n",
      "Training Accuracy: 0.9741, Testing Accuracy: 0.9708\n",
      "\n"
     ]
    },
    {
     "name": "stdout",
     "output_type": "stream",
     "text": [
      "Epoch 140, Loss 0.022\n",
      "Training Accuracy: 0.9749, Testing Accuracy: 0.9718\n",
      "\n"
     ]
    },
    {
     "name": "stdout",
     "output_type": "stream",
     "text": [
      "Epoch 150, Loss 0.0213\n",
      "Training Accuracy: 0.9757, Testing Accuracy: 0.9713\n",
      "\n"
     ]
    },
    {
     "name": "stdout",
     "output_type": "stream",
     "text": [
      "Epoch 160, Loss 0.0207\n",
      "Training Accuracy: 0.9769, Testing Accuracy: 0.9718\n",
      "\n"
     ]
    },
    {
     "name": "stdout",
     "output_type": "stream",
     "text": [
      "Epoch 170, Loss 0.0201\n",
      "Training Accuracy: 0.9776, Testing Accuracy: 0.9723\n",
      "\n"
     ]
    },
    {
     "name": "stdout",
     "output_type": "stream",
     "text": [
      "Epoch 180, Loss 0.0196\n",
      "Training Accuracy: 0.9780, Testing Accuracy: 0.9738\n",
      "\n"
     ]
    },
    {
     "name": "stdout",
     "output_type": "stream",
     "text": [
      "Epoch 190, Loss 0.0191\n",
      "Training Accuracy: 0.9788, Testing Accuracy: 0.9738\n",
      "\n"
     ]
    },
    {
     "name": "stdout",
     "output_type": "stream",
     "text": [
      "Epoch 200, Loss 0.0186\n",
      "Training Accuracy: 0.9792, Testing Accuracy: 0.9743\n",
      "\n"
     ]
    },
    {
     "name": "stdout",
     "output_type": "stream",
     "text": [
      "Epoch 210, Loss 0.0181\n",
      "Training Accuracy: 0.9800, Testing Accuracy: 0.9743\n",
      "\n"
     ]
    },
    {
     "name": "stdout",
     "output_type": "stream",
     "text": [
      "Epoch 220, Loss 0.0176\n",
      "Training Accuracy: 0.9806, Testing Accuracy: 0.9758\n",
      "\n"
     ]
    },
    {
     "name": "stdout",
     "output_type": "stream",
     "text": [
      "Epoch 230, Loss 0.0172\n",
      "Training Accuracy: 0.9809, Testing Accuracy: 0.9768\n",
      "\n"
     ]
    },
    {
     "name": "stdout",
     "output_type": "stream",
     "text": [
      "Epoch 240, Loss 0.0167\n",
      "Training Accuracy: 0.9811, Testing Accuracy: 0.9768\n",
      "\n"
     ]
    },
    {
     "data": {
      "text/plain": [
       "0.004099931613534006"
      ]
     },
     "execution_count": 22,
     "metadata": {},
     "output_type": "execute_result"
    }
   ],
   "source": [
    "nn_learner.train_loop(dl)"
   ]
  },
  {
   "cell_type": "code",
   "execution_count": 23,
   "id": "e0163366",
   "metadata": {
    "execution": {
     "iopub.execute_input": "2022-10-28T20:12:57.234743Z",
     "iopub.status.busy": "2022-10-28T20:12:57.234141Z",
     "iopub.status.idle": "2022-10-28T20:13:11.937728Z",
     "shell.execute_reply": "2022-10-28T20:13:11.937221Z"
    },
    "papermill": {
     "duration": 14.74373,
     "end_time": "2022-10-28T20:13:11.937854",
     "exception": false,
     "start_time": "2022-10-28T20:12:57.194124",
     "status": "completed"
    },
    "tags": []
   },
   "outputs": [
    {
     "name": "stdout",
     "output_type": "stream",
     "text": [
      "Epoch 0, Loss 0.2734\n",
      "Training Accuracy: 0.5393, Testing Accuracy: 0.5559\n",
      "\n"
     ]
    },
    {
     "name": "stdout",
     "output_type": "stream",
     "text": [
      "Epoch 10, Loss 0.1092\n",
      "Training Accuracy: 0.8974, Testing Accuracy: 0.9088\n",
      "\n"
     ]
    },
    {
     "name": "stdout",
     "output_type": "stream",
     "text": [
      "Epoch 20, Loss 0.0828\n",
      "Training Accuracy: 0.9215, Testing Accuracy: 0.9284\n",
      "\n"
     ]
    },
    {
     "name": "stdout",
     "output_type": "stream",
     "text": [
      "Epoch 30, Loss 0.0708\n",
      "Training Accuracy: 0.9322, Testing Accuracy: 0.9420\n",
      "\n"
     ]
    },
    {
     "name": "stdout",
     "output_type": "stream",
     "text": [
      "Epoch 40, Loss 0.0636\n",
      "Training Accuracy: 0.9392, Testing Accuracy: 0.9506\n",
      "\n"
     ]
    },
    {
     "name": "stdout",
     "output_type": "stream",
     "text": [
      "Epoch 50, Loss 0.0587\n",
      "Training Accuracy: 0.9418, Testing Accuracy: 0.9541\n",
      "\n"
     ]
    },
    {
     "name": "stdout",
     "output_type": "stream",
     "text": [
      "Epoch 60, Loss 0.0552\n",
      "Training Accuracy: 0.9445, Testing Accuracy: 0.9567\n",
      "\n"
     ]
    },
    {
     "name": "stdout",
     "output_type": "stream",
     "text": [
      "Epoch 70, Loss 0.0524\n",
      "Training Accuracy: 0.9478, Testing Accuracy: 0.9602\n",
      "\n"
     ]
    },
    {
     "name": "stdout",
     "output_type": "stream",
     "text": [
      "Epoch 80, Loss 0.0503\n",
      "Training Accuracy: 0.9493, Testing Accuracy: 0.9617\n",
      "\n"
     ]
    },
    {
     "name": "stdout",
     "output_type": "stream",
     "text": [
      "Epoch 90, Loss 0.0485\n",
      "Training Accuracy: 0.9512, Testing Accuracy: 0.9617\n",
      "\n"
     ]
    },
    {
     "name": "stdout",
     "output_type": "stream",
     "text": [
      "Epoch 100, Loss 0.047\n",
      "Training Accuracy: 0.9524, Testing Accuracy: 0.9642\n",
      "\n"
     ]
    },
    {
     "name": "stdout",
     "output_type": "stream",
     "text": [
      "Epoch 110, Loss 0.0457\n",
      "Training Accuracy: 0.9536, Testing Accuracy: 0.9642\n",
      "\n"
     ]
    },
    {
     "name": "stdout",
     "output_type": "stream",
     "text": [
      "Epoch 120, Loss 0.0446\n",
      "Training Accuracy: 0.9543, Testing Accuracy: 0.9642\n",
      "\n"
     ]
    },
    {
     "name": "stdout",
     "output_type": "stream",
     "text": [
      "Epoch 130, Loss 0.0436\n",
      "Training Accuracy: 0.9550, Testing Accuracy: 0.9642\n",
      "\n"
     ]
    },
    {
     "name": "stdout",
     "output_type": "stream",
     "text": [
      "Epoch 140, Loss 0.0427\n",
      "Training Accuracy: 0.9557, Testing Accuracy: 0.9647\n",
      "\n"
     ]
    },
    {
     "name": "stdout",
     "output_type": "stream",
     "text": [
      "Epoch 150, Loss 0.0419\n",
      "Training Accuracy: 0.9564, Testing Accuracy: 0.9647\n",
      "\n"
     ]
    },
    {
     "name": "stdout",
     "output_type": "stream",
     "text": [
      "Epoch 160, Loss 0.0412\n",
      "Training Accuracy: 0.9575, Testing Accuracy: 0.9642\n",
      "\n"
     ]
    },
    {
     "name": "stdout",
     "output_type": "stream",
     "text": [
      "Epoch 170, Loss 0.0406\n",
      "Training Accuracy: 0.9583, Testing Accuracy: 0.9652\n",
      "\n"
     ]
    },
    {
     "name": "stdout",
     "output_type": "stream",
     "text": [
      "Epoch 180, Loss 0.04\n",
      "Training Accuracy: 0.9593, Testing Accuracy: 0.9652\n",
      "\n"
     ]
    },
    {
     "name": "stdout",
     "output_type": "stream",
     "text": [
      "Epoch 190, Loss 0.0394\n",
      "Training Accuracy: 0.9594, Testing Accuracy: 0.9657\n",
      "\n"
     ]
    },
    {
     "name": "stdout",
     "output_type": "stream",
     "text": [
      "Epoch 200, Loss 0.0389\n",
      "Training Accuracy: 0.9597, Testing Accuracy: 0.9657\n",
      "\n"
     ]
    },
    {
     "name": "stdout",
     "output_type": "stream",
     "text": [
      "Epoch 210, Loss 0.0385\n",
      "Training Accuracy: 0.9598, Testing Accuracy: 0.9657\n",
      "\n"
     ]
    },
    {
     "name": "stdout",
     "output_type": "stream",
     "text": [
      "Epoch 220, Loss 0.0381\n",
      "Training Accuracy: 0.9604, Testing Accuracy: 0.9647\n",
      "\n"
     ]
    },
    {
     "name": "stdout",
     "output_type": "stream",
     "text": [
      "Epoch 230, Loss 0.0377\n",
      "Training Accuracy: 0.9606, Testing Accuracy: 0.9657\n",
      "\n"
     ]
    },
    {
     "name": "stdout",
     "output_type": "stream",
     "text": [
      "Epoch 240, Loss 0.0373\n",
      "Training Accuracy: 0.9607, Testing Accuracy: 0.9657\n",
      "\n"
     ]
    },
    {
     "data": {
      "text/plain": [
       "0.04162818903088174"
      ]
     },
     "execution_count": 23,
     "metadata": {},
     "output_type": "execute_result"
    }
   ],
   "source": [
    "lr_learner.train_loop(dl)"
   ]
  },
  {
   "cell_type": "code",
   "execution_count": 24,
   "id": "ca410940",
   "metadata": {
    "execution": {
     "iopub.execute_input": "2022-10-28T20:13:12.030447Z",
     "iopub.status.busy": "2022-10-28T20:13:12.029798Z",
     "iopub.status.idle": "2022-10-28T20:13:12.255724Z",
     "shell.execute_reply": "2022-10-28T20:13:12.254903Z"
    },
    "papermill": {
     "duration": 0.27652,
     "end_time": "2022-10-28T20:13:12.255860",
     "exception": false,
     "start_time": "2022-10-28T20:13:11.979340",
     "status": "completed"
    },
    "tags": []
   },
   "outputs": [
    {
     "data": {
      "text/plain": [
       "<matplotlib.legend.Legend at 0x7f2942e01400>"
      ]
     },
     "execution_count": 24,
     "metadata": {},
     "output_type": "execute_result"
    },
    {
     "data": {
      "image/png": "[encoded data removed]",
      "text/plain": [
       "<Figure size 1080x720 with 1 Axes>"
      ]
     },
     "metadata": {
      "needs_background": "light"
     },
     "output_type": "display_data"
    }
   ],
   "source": [
    "#comparing the results of NN and LR\n",
    "plt.figure(figsize=(15,10))\n",
    "\n",
    "# Neural Network plots\n",
    "plt.plot(acc_nn.accuracies, 'r-', label = \"Training Accuracies - NN\")\n",
    "plt.plot(acc_nn.test_accuracies, 'g-', label = \"Testing Accuracies - NN\")\n",
    "\n",
    "# Logistic Regression plots\n",
    "plt.plot(acc_lr.accuracies, 'k-', label = \"Training Accuracies - LR\")\n",
    "plt.plot(acc_lr.test_accuracies, 'b-', label = \"Testing Accuracies - LR\")\n",
    "plt.legend()"
   ]
  },
  {
   "cell_type": "markdown",
   "id": "80dfb35c",
   "metadata": {
    "papermill": {
     "duration": 0.042159,
     "end_time": "2022-10-28T20:13:12.340540",
     "exception": false,
     "start_time": "2022-10-28T20:13:12.298381",
     "status": "completed"
    },
    "tags": []
   },
   "source": [
    "#### Plotting the outputs of this layer of the NN.\n"
   ]
  },
  {
   "cell_type": "code",
   "execution_count": 25,
   "id": "45eb2ff5",
   "metadata": {
    "execution": {
     "iopub.execute_input": "2022-10-28T20:13:12.439179Z",
     "iopub.status.busy": "2022-10-28T20:13:12.438191Z",
     "iopub.status.idle": "2022-10-28T20:13:12.456305Z",
     "shell.execute_reply": "2022-10-28T20:13:12.455488Z"
    },
    "papermill": {
     "duration": 0.07351,
     "end_time": "2022-10-28T20:13:12.456431",
     "exception": false,
     "start_time": "2022-10-28T20:13:12.382921",
     "status": "completed"
    },
    "tags": []
   },
   "outputs": [],
   "source": [
    "new_model = Model(layers[:-2])\n",
    "testing_plot = new_model(testing_data_x)"
   ]
  },
  {
   "cell_type": "code",
   "execution_count": 26,
   "id": "4c0a5485",
   "metadata": {
    "execution": {
     "iopub.execute_input": "2022-10-28T20:13:12.546038Z",
     "iopub.status.busy": "2022-10-28T20:13:12.545431Z",
     "iopub.status.idle": "2022-10-28T20:13:12.744357Z",
     "shell.execute_reply": "2022-10-28T20:13:12.743861Z"
    },
    "papermill": {
     "duration": 0.24522,
     "end_time": "2022-10-28T20:13:12.744478",
     "exception": false,
     "start_time": "2022-10-28T20:13:12.499258",
     "status": "completed"
    },
    "tags": []
   },
   "outputs": [
    {
     "data": {
      "text/plain": [
       "Text(0.5, 1.0, 'Outputs')"
      ]
     },
     "execution_count": 26,
     "metadata": {},
     "output_type": "execute_result"
    },
    {
     "data": {
      "image/png": "[encoded data removed]",
      "text/plain": [
       "<Figure size 576x504 with 1 Axes>"
      ]
     },
     "metadata": {
      "needs_background": "light"
     },
     "output_type": "display_data"
    }
   ],
   "source": [
    "# Plotting the scatter plot of points and color coding by class\n",
    "plt.figure(figsize=(8,7))\n",
    "plt.scatter(testing_plot[:,0], testing_plot[:,1], alpha = 0.1, c = y_test.ravel());\n",
    "plt.title('Outputs')"
   ]
  },
  {
   "cell_type": "markdown",
   "id": "a74fcf8f",
   "metadata": {
    "papermill": {
     "duration": 0.04493,
     "end_time": "2022-10-28T20:13:12.834676",
     "exception": false,
     "start_time": "2022-10-28T20:13:12.789746",
     "status": "completed"
    },
    "tags": []
   },
   "source": [
    "Probability contours"
   ]
  },
  {
   "cell_type": "code",
   "execution_count": 27,
   "id": "d0afc8e3",
   "metadata": {
    "execution": {
     "iopub.execute_input": "2022-10-28T20:13:12.969691Z",
     "iopub.status.busy": "2022-10-28T20:13:12.969069Z",
     "iopub.status.idle": "2022-10-28T20:13:12.977830Z",
     "shell.execute_reply": "2022-10-28T20:13:12.978259Z"
    },
    "papermill": {
     "duration": 0.098505,
     "end_time": "2022-10-28T20:13:12.978389",
     "exception": false,
     "start_time": "2022-10-28T20:13:12.879884",
     "status": "completed"
    },
    "tags": []
   },
   "outputs": [],
   "source": [
    "model_prob = Model(layers[-2:]) "
   ]
  },
  {
   "cell_type": "code",
   "execution_count": 28,
   "id": "9b96e238",
   "metadata": {
    "execution": {
     "iopub.execute_input": "2022-10-28T20:13:13.075506Z",
     "iopub.status.busy": "2022-10-28T20:13:13.074887Z",
     "iopub.status.idle": "2022-10-28T20:13:13.089676Z",
     "shell.execute_reply": "2022-10-28T20:13:13.090104Z"
    },
    "papermill": {
     "duration": 0.066953,
     "end_time": "2022-10-28T20:13:13.090243",
     "exception": false,
     "start_time": "2022-10-28T20:13:13.023290",
     "status": "completed"
    },
    "tags": []
   },
   "outputs": [],
   "source": [
    "#creating the x and y ranges according to the above generated plot.\n",
    "x_range = np.linspace(-4, 1, 100) \n",
    "y_range = np.linspace(-6, 6, 100) \n",
    "x_grid, y_grid = np.meshgrid(x_range, y_range) # x_grid and y_grig are of size 100 X 100\n",
    "\n",
    "# converting x_grid and y_grid to continuous arrays\n",
    "x_gridflat = np.ravel(x_grid)\n",
    "y_gridflat = np.ravel(y_grid)\n",
    "\n",
    "# The last layer of the current model takes two columns as input. Hence transpose of np.vstack() is required.\n",
    "X = np.vstack((x_gridflat, y_gridflat)).T\n",
    "\n",
    "prob_contour = model_prob(X).reshape(100,100) "
   ]
  },
  {
   "cell_type": "code",
   "execution_count": 29,
   "id": "da72499a",
   "metadata": {
    "execution": {
     "iopub.execute_input": "2022-10-28T20:13:13.186524Z",
     "iopub.status.busy": "2022-10-28T20:13:13.185941Z",
     "iopub.status.idle": "2022-10-28T20:13:13.430526Z",
     "shell.execute_reply": "2022-10-28T20:13:13.431291Z"
    },
    "papermill": {
     "duration": 0.295623,
     "end_time": "2022-10-28T20:13:13.431441",
     "exception": false,
     "start_time": "2022-10-28T20:13:13.135818",
     "status": "completed"
    },
    "tags": []
   },
   "outputs": [
    {
     "data": {
      "image/png": "[encoded data removed]",
      "text/plain": [
       "<Figure size 720x648 with 1 Axes>"
      ]
     },
     "metadata": {
      "needs_background": "light"
     },
     "output_type": "display_data"
    }
   ],
   "source": [
    "plt.figure(figsize=(10,9))\n",
    "plt.scatter(testing_plot[:,0], testing_plot[:,1], alpha = 0.1, c = y_test.ravel())\n",
    "contours = plt.contour(x_grid,y_grid,prob_contour)\n",
    "plt.title('Probability Contours')\n",
    "plt.clabel(contours, inline = True );"
   ]
  },
  {
   "cell_type": "code",
   "execution_count": null,
   "id": "e81b4ac7",
   "metadata": {
    "papermill": {
     "duration": 0.047398,
     "end_time": "2022-10-28T20:13:13.526934",
     "exception": false,
     "start_time": "2022-10-28T20:13:13.479536",
     "status": "completed"
    },
    "tags": []
   },
   "outputs": [],
   "source": []
  }
 ],
 "metadata": {
  "kernelspec": {
   "display_name": "Python 3",
   "language": "python",
   "name": "python3"
  },
  "language_info": {
   "codemirror_mode": {
    "name": "ipython",
    "version": 3
   },
   "file_extension": ".py",
   "mimetype": "text/x-python",
   "name": "python",
   "nbconvert_exporter": "python",
   "pygments_lexer": "ipython3",
   "version": "3.6.15"
  },
  "papermill": {
   "default_parameters": {},
   "duration": 104.573742,
   "end_time": "2022-10-28T20:13:13.995567",
   "environment_variables": {},
   "exception": null,
   "input_path": "2020-08-11-part2.ipynb",
   "output_path": "2020-08-11-part2.ipynb",
   "parameters": {},
   "start_time": "2022-10-28T20:11:29.421825",
   "version": "2.3.3"
  }
 },
 "nbformat": 4,
 "nbformat_minor": 5
}