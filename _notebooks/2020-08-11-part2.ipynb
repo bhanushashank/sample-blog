{
 "cells": [
  {
   "cell_type": "markdown",
   "id": "98380cd3",
   "metadata": {
    "papermill": {
     "duration": 0.03544,
     "end_time": "2021-10-14T20:07:32.152908",
     "exception": false,
     "start_time": "2021-10-14T20:07:32.117468",
     "status": "completed"
    },
    "tags": []
   },
   "source": [
    "# Distinguish Your Own Digits (DYOD)"
   ]
  },
  {
   "cell_type": "markdown",
   "id": "ef31240d",
   "metadata": {
    "papermill": {
     "duration": 0.02936,
     "end_time": "2021-10-14T20:07:32.210075",
     "exception": false,
     "start_time": "2021-10-14T20:07:32.180715",
     "status": "completed"
    },
    "tags": []
   },
   "source": [
    "You are going to write a classifier that distinguishes between the number 3 and number 8."
   ]
  },
  {
   "cell_type": "code",
   "execution_count": 1,
   "id": "b15c8646",
   "metadata": {
    "execution": {
     "iopub.execute_input": "2021-10-14T20:07:32.278566Z",
     "iopub.status.busy": "2021-10-14T20:07:32.277952Z",
     "iopub.status.idle": "2021-10-14T20:07:32.289853Z",
     "shell.execute_reply": "2021-10-14T20:07:32.289013Z"
    },
    "papermill": {
     "duration": 0.052595,
     "end_time": "2021-10-14T20:07:32.290008",
     "exception": false,
     "start_time": "2021-10-14T20:07:32.237413",
     "status": "completed"
    },
    "tags": []
   },
   "outputs": [],
   "source": [
    "%load_ext autoreload\n",
    "%autoreload 2"
   ]
  },
  {
   "cell_type": "code",
   "execution_count": 2,
   "id": "22ef38dc",
   "metadata": {
    "execution": {
     "iopub.execute_input": "2021-10-14T20:07:32.351868Z",
     "iopub.status.busy": "2021-10-14T20:07:32.351210Z",
     "iopub.status.idle": "2021-10-14T20:07:32.932847Z",
     "shell.execute_reply": "2021-10-14T20:07:32.932294Z"
    },
    "papermill": {
     "duration": 0.614592,
     "end_time": "2021-10-14T20:07:32.932994",
     "exception": false,
     "start_time": "2021-10-14T20:07:32.318402",
     "status": "completed"
    },
    "tags": []
   },
   "outputs": [],
   "source": [
    "%matplotlib inline\n",
    "import numpy as np\n",
    "import matplotlib.pyplot as plt\n",
    "import pandas as pd"
   ]
  },
  {
   "cell_type": "markdown",
   "id": "ba036198",
   "metadata": {
    "papermill": {
     "duration": 0.027166,
     "end_time": "2021-10-14T20:07:32.987799",
     "exception": false,
     "start_time": "2021-10-14T20:07:32.960633",
     "status": "completed"
    },
    "tags": []
   },
   "source": [
    "From the command line run `pip install mnist`. This is a library that will help you bring down the mnist dataset. If you run this from a notebook, you need to put  `!pip install mnist` in a cell by itself."
   ]
  },
  {
   "cell_type": "code",
   "execution_count": 3,
   "id": "bb6ad8a1",
   "metadata": {
    "execution": {
     "iopub.execute_input": "2021-10-14T20:07:33.048154Z",
     "iopub.status.busy": "2021-10-14T20:07:33.047552Z",
     "iopub.status.idle": "2021-10-14T20:07:34.888525Z",
     "shell.execute_reply": "2021-10-14T20:07:34.887974Z"
    },
    "papermill": {
     "duration": 1.873995,
     "end_time": "2021-10-14T20:07:34.888672",
     "exception": false,
     "start_time": "2021-10-14T20:07:33.014677",
     "status": "completed"
    },
    "tags": []
   },
   "outputs": [
    {
     "name": "stdout",
     "output_type": "stream",
     "text": [
      "Collecting mnist\r\n",
      "  Downloading mnist-0.2.2-py2.py3-none-any.whl (3.5 kB)\r\n"
     ]
    },
    {
     "name": "stdout",
     "output_type": "stream",
     "text": [
      "Requirement already satisfied: numpy in /opt/hostedtoolcache/Python/3.6.15/x64/lib/python3.6/site-packages (from mnist) (1.19.5)\r\n"
     ]
    },
    {
     "name": "stdout",
     "output_type": "stream",
     "text": [
      "Installing collected packages: mnist\r\n"
     ]
    },
    {
     "name": "stdout",
     "output_type": "stream",
     "text": [
      "Successfully installed mnist-0.2.2\r\n"
     ]
    },
    {
     "name": "stdout",
     "output_type": "stream",
     "text": [
      "\u001b[33mWARNING: You are using pip version 21.2.4; however, version 21.3 is available.\r\n",
      "You should consider upgrading via the '/opt/hostedtoolcache/Python/3.6.15/x64/bin/python -m pip install --upgrade pip' command.\u001b[0m\r\n"
     ]
    }
   ],
   "source": [
    "!pip install mnist"
   ]
  },
  {
   "cell_type": "markdown",
   "id": "69df9c9a",
   "metadata": {
    "papermill": {
     "duration": 0.027564,
     "end_time": "2021-10-14T20:07:34.945176",
     "exception": false,
     "start_time": "2021-10-14T20:07:34.917612",
     "status": "completed"
    },
    "tags": []
   },
   "source": [
    "## Preparing the Data"
   ]
  },
  {
   "cell_type": "code",
   "execution_count": 4,
   "id": "7f69d806",
   "metadata": {
    "execution": {
     "iopub.execute_input": "2021-10-14T20:07:35.006142Z",
     "iopub.status.busy": "2021-10-14T20:07:35.005530Z",
     "iopub.status.idle": "2021-10-14T20:07:35.022698Z",
     "shell.execute_reply": "2021-10-14T20:07:35.022060Z"
    },
    "papermill": {
     "duration": 0.049545,
     "end_time": "2021-10-14T20:07:35.022831",
     "exception": false,
     "start_time": "2021-10-14T20:07:34.973286",
     "status": "completed"
    },
    "tags": []
   },
   "outputs": [],
   "source": [
    "import mnist"
   ]
  },
  {
   "cell_type": "code",
   "execution_count": 5,
   "id": "a411e44f",
   "metadata": {
    "execution": {
     "iopub.execute_input": "2021-10-14T20:07:35.084446Z",
     "iopub.status.busy": "2021-10-14T20:07:35.083799Z",
     "iopub.status.idle": "2021-10-14T20:07:36.048701Z",
     "shell.execute_reply": "2021-10-14T20:07:36.049227Z"
    },
    "papermill": {
     "duration": 0.997754,
     "end_time": "2021-10-14T20:07:36.049417",
     "exception": false,
     "start_time": "2021-10-14T20:07:35.051663",
     "status": "completed"
    },
    "tags": []
   },
   "outputs": [],
   "source": [
    "train_images = mnist.train_images()\n",
    "train_labels = mnist.train_labels()"
   ]
  },
  {
   "cell_type": "code",
   "execution_count": 6,
   "id": "dceab3a5",
   "metadata": {
    "execution": {
     "iopub.execute_input": "2021-10-14T20:07:36.114119Z",
     "iopub.status.busy": "2021-10-14T20:07:36.113422Z",
     "iopub.status.idle": "2021-10-14T20:07:36.128653Z",
     "shell.execute_reply": "2021-10-14T20:07:36.128167Z"
    },
    "papermill": {
     "duration": 0.050194,
     "end_time": "2021-10-14T20:07:36.128790",
     "exception": false,
     "start_time": "2021-10-14T20:07:36.078596",
     "status": "completed"
    },
    "tags": []
   },
   "outputs": [
    {
     "data": {
      "text/plain": [
       "((60000, 28, 28), (60000,))"
      ]
     },
     "execution_count": 6,
     "metadata": {},
     "output_type": "execute_result"
    }
   ],
   "source": [
    "train_images.shape, train_labels.shape"
   ]
  },
  {
   "cell_type": "code",
   "execution_count": 7,
   "id": "f50dc2bb",
   "metadata": {
    "execution": {
     "iopub.execute_input": "2021-10-14T20:07:36.191861Z",
     "iopub.status.busy": "2021-10-14T20:07:36.191233Z",
     "iopub.status.idle": "2021-10-14T20:07:36.407940Z",
     "shell.execute_reply": "2021-10-14T20:07:36.407056Z"
    },
    "papermill": {
     "duration": 0.250422,
     "end_time": "2021-10-14T20:07:36.408149",
     "exception": false,
     "start_time": "2021-10-14T20:07:36.157727",
     "status": "completed"
    },
    "tags": []
   },
   "outputs": [],
   "source": [
    "test_images = mnist.test_images()\n",
    "test_labels = mnist.test_labels()"
   ]
  },
  {
   "cell_type": "code",
   "execution_count": 8,
   "id": "fc38cf1b",
   "metadata": {
    "execution": {
     "iopub.execute_input": "2021-10-14T20:07:36.474718Z",
     "iopub.status.busy": "2021-10-14T20:07:36.473648Z",
     "iopub.status.idle": "2021-10-14T20:07:36.490387Z",
     "shell.execute_reply": "2021-10-14T20:07:36.489910Z"
    },
    "papermill": {
     "duration": 0.052649,
     "end_time": "2021-10-14T20:07:36.490515",
     "exception": false,
     "start_time": "2021-10-14T20:07:36.437866",
     "status": "completed"
    },
    "tags": []
   },
   "outputs": [
    {
     "data": {
      "text/plain": [
       "((10000, 28, 28), (10000,))"
      ]
     },
     "execution_count": 8,
     "metadata": {},
     "output_type": "execute_result"
    }
   ],
   "source": [
    "test_images.shape, test_labels.shape"
   ]
  },
  {
   "cell_type": "code",
   "execution_count": 9,
   "id": "f9ed8fe0",
   "metadata": {
    "execution": {
     "iopub.execute_input": "2021-10-14T20:07:36.559277Z",
     "iopub.status.busy": "2021-10-14T20:07:36.558680Z",
     "iopub.status.idle": "2021-10-14T20:07:36.712243Z",
     "shell.execute_reply": "2021-10-14T20:07:36.711720Z"
    },
    "papermill": {
     "duration": 0.192811,
     "end_time": "2021-10-14T20:07:36.712378",
     "exception": false,
     "start_time": "2021-10-14T20:07:36.519567",
     "status": "completed"
    },
    "tags": []
   },
   "outputs": [
    {
     "name": "stdout",
     "output_type": "stream",
     "text": [
      "2\n"
     ]
    },
    {
     "data": {
      "text/plain": [
       "<matplotlib.image.AxesImage at 0x7fc18e0e2860>"
      ]
     },
     "execution_count": 9,
     "metadata": {},
     "output_type": "execute_result"
    },
    {
     "data": {
      "image/png": "[encoded data removed]",
      "text/plain": [
       "<Figure size 432x288 with 1 Axes>"
      ]
     },
     "metadata": {
      "needs_background": "light"
     },
     "output_type": "display_data"
    }
   ],
   "source": [
    "image_index = 7776 # You may select anything up to 60,000\n",
    "print(train_labels[image_index]) \n",
    "plt.imshow(train_images[image_index], cmap='Greys')"
   ]
  },
  {
   "cell_type": "markdown",
   "id": "a8d2388d",
   "metadata": {
    "papermill": {
     "duration": 0.030442,
     "end_time": "2021-10-14T20:07:36.772389",
     "exception": false,
     "start_time": "2021-10-14T20:07:36.741947",
     "status": "completed"
    },
    "tags": []
   },
   "source": [
    "## Filter data to get 3 and 8 out"
   ]
  },
  {
   "cell_type": "code",
   "execution_count": 10,
   "id": "776f7fc7",
   "metadata": {
    "execution": {
     "iopub.execute_input": "2021-10-14T20:07:36.842122Z",
     "iopub.status.busy": "2021-10-14T20:07:36.841490Z",
     "iopub.status.idle": "2021-10-14T20:07:36.857733Z",
     "shell.execute_reply": "2021-10-14T20:07:36.857206Z"
    },
    "papermill": {
     "duration": 0.055734,
     "end_time": "2021-10-14T20:07:36.857860",
     "exception": false,
     "start_time": "2021-10-14T20:07:36.802126",
     "status": "completed"
    },
    "tags": []
   },
   "outputs": [],
   "source": [
    "train_filter = np.where((train_labels == 3 ) | (train_labels == 8))\n",
    "test_filter = np.where((test_labels == 3) | (test_labels == 8))\n",
    "X_train, y_train = train_images[train_filter], train_labels[train_filter]\n",
    "X_test, y_test = test_images[test_filter], test_labels[test_filter]"
   ]
  },
  {
   "cell_type": "markdown",
   "id": "948f0b7e",
   "metadata": {
    "papermill": {
     "duration": 0.030513,
     "end_time": "2021-10-14T20:07:36.918618",
     "exception": false,
     "start_time": "2021-10-14T20:07:36.888105",
     "status": "completed"
    },
    "tags": []
   },
   "source": [
    "We normalize the pizel values in the 0 to 1 range"
   ]
  },
  {
   "cell_type": "code",
   "execution_count": 11,
   "id": "ee4c2166",
   "metadata": {
    "execution": {
     "iopub.execute_input": "2021-10-14T20:07:36.981674Z",
     "iopub.status.busy": "2021-10-14T20:07:36.981082Z",
     "iopub.status.idle": "2021-10-14T20:07:37.035373Z",
     "shell.execute_reply": "2021-10-14T20:07:37.034192Z"
    },
    "papermill": {
     "duration": 0.08754,
     "end_time": "2021-10-14T20:07:37.035546",
     "exception": false,
     "start_time": "2021-10-14T20:07:36.948006",
     "status": "completed"
    },
    "tags": []
   },
   "outputs": [],
   "source": [
    "X_train = X_train/255.\n",
    "X_test = X_test/255."
   ]
  },
  {
   "cell_type": "markdown",
   "id": "ddcf4fab",
   "metadata": {
    "papermill": {
     "duration": 0.030001,
     "end_time": "2021-10-14T20:07:37.095763",
     "exception": false,
     "start_time": "2021-10-14T20:07:37.065762",
     "status": "completed"
    },
    "tags": []
   },
   "source": [
    "And setup the labels as 1 (when the digit is 3) and 0 (when the digit is 8)"
   ]
  },
  {
   "cell_type": "code",
   "execution_count": 12,
   "id": "7dc908f2",
   "metadata": {
    "execution": {
     "iopub.execute_input": "2021-10-14T20:07:37.160190Z",
     "iopub.status.busy": "2021-10-14T20:07:37.158718Z",
     "iopub.status.idle": "2021-10-14T20:07:37.171468Z",
     "shell.execute_reply": "2021-10-14T20:07:37.170916Z"
    },
    "papermill": {
     "duration": 0.045971,
     "end_time": "2021-10-14T20:07:37.171601",
     "exception": false,
     "start_time": "2021-10-14T20:07:37.125630",
     "status": "completed"
    },
    "tags": []
   },
   "outputs": [],
   "source": [
    "y_train = 1*(y_train==3)\n",
    "y_test = 1*(y_test==3)"
   ]
  },
  {
   "cell_type": "code",
   "execution_count": 13,
   "id": "01e4e969",
   "metadata": {
    "execution": {
     "iopub.execute_input": "2021-10-14T20:07:37.235619Z",
     "iopub.status.busy": "2021-10-14T20:07:37.235009Z",
     "iopub.status.idle": "2021-10-14T20:07:37.250706Z",
     "shell.execute_reply": "2021-10-14T20:07:37.251215Z"
    },
    "papermill": {
     "duration": 0.049872,
     "end_time": "2021-10-14T20:07:37.251365",
     "exception": false,
     "start_time": "2021-10-14T20:07:37.201493",
     "status": "completed"
    },
    "tags": []
   },
   "outputs": [
    {
     "data": {
      "text/plain": [
       "((11982, 28, 28), (1984, 28, 28))"
      ]
     },
     "execution_count": 13,
     "metadata": {},
     "output_type": "execute_result"
    }
   ],
   "source": [
    "X_train.shape, X_test.shape"
   ]
  },
  {
   "cell_type": "markdown",
   "id": "5ccf3f85",
   "metadata": {
    "papermill": {
     "duration": 0.030654,
     "end_time": "2021-10-14T20:07:37.312525",
     "exception": false,
     "start_time": "2021-10-14T20:07:37.281871",
     "status": "completed"
    },
    "tags": []
   },
   "source": [
    "We reshape the data to flatten the image pixels into a set of features or co-variates:"
   ]
  },
  {
   "cell_type": "code",
   "execution_count": 14,
   "id": "5286a4a3",
   "metadata": {
    "execution": {
     "iopub.execute_input": "2021-10-14T20:07:37.383103Z",
     "iopub.status.busy": "2021-10-14T20:07:37.382495Z",
     "iopub.status.idle": "2021-10-14T20:07:37.394829Z",
     "shell.execute_reply": "2021-10-14T20:07:37.394317Z"
    },
    "papermill": {
     "duration": 0.051868,
     "end_time": "2021-10-14T20:07:37.394958",
     "exception": false,
     "start_time": "2021-10-14T20:07:37.343090",
     "status": "completed"
    },
    "tags": []
   },
   "outputs": [
    {
     "data": {
      "text/plain": [
       "((11982, 784), (1984, 784))"
      ]
     },
     "execution_count": 14,
     "metadata": {},
     "output_type": "execute_result"
    }
   ],
   "source": [
    "X_train = X_train.reshape(X_train.shape[0], -1)\n",
    "X_test = X_test.reshape(X_test.shape[0], -1)\n",
    "X_train.shape, X_test.shape"
   ]
  },
  {
   "cell_type": "code",
   "execution_count": 15,
   "id": "73c5f88a",
   "metadata": {
    "execution": {
     "iopub.execute_input": "2021-10-14T20:07:37.462195Z",
     "iopub.status.busy": "2021-10-14T20:07:37.461586Z",
     "iopub.status.idle": "2021-10-14T20:07:37.482967Z",
     "shell.execute_reply": "2021-10-14T20:07:37.483477Z"
    },
    "papermill": {
     "duration": 0.057697,
     "end_time": "2021-10-14T20:07:37.483631",
     "exception": false,
     "start_time": "2021-10-14T20:07:37.425934",
     "status": "completed"
    },
    "tags": []
   },
   "outputs": [],
   "source": [
    "#Impoting functions from 'Kudzu'\n",
    "from kudzu.model import Model\n",
    "from kudzu.train import Learner\n",
    "from kudzu.optim import GD\n",
    "from kudzu.data import Data, Sampler,Dataloader\n",
    "\n",
    "from kudzu.callbacks import AccCallback\n",
    "from kudzu.callbacks import ClfCallback\n",
    "\n",
    "from kudzu.loss import MSE\n",
    "\n",
    "from kudzu.layer import Sigmoid,Relu\n",
    "from kudzu.layer import Affine"
   ]
  },
  {
   "cell_type": "markdown",
   "id": "bc01172a",
   "metadata": {
    "papermill": {
     "duration": 0.030802,
     "end_time": "2021-10-14T20:07:37.545044",
     "exception": false,
     "start_time": "2021-10-14T20:07:37.514242",
     "status": "completed"
    },
    "tags": []
   },
   "source": [
    "### Let us create a `Config` class, to store important parameters. \n",
    "This class essentially plays the role of a dictionary."
   ]
  },
  {
   "cell_type": "code",
   "execution_count": 16,
   "id": "978281aa",
   "metadata": {
    "execution": {
     "iopub.execute_input": "2021-10-14T20:07:37.611070Z",
     "iopub.status.busy": "2021-10-14T20:07:37.610468Z",
     "iopub.status.idle": "2021-10-14T20:07:37.627176Z",
     "shell.execute_reply": "2021-10-14T20:07:37.626684Z"
    },
    "papermill": {
     "duration": 0.051357,
     "end_time": "2021-10-14T20:07:37.627308",
     "exception": false,
     "start_time": "2021-10-14T20:07:37.575951",
     "status": "completed"
    },
    "tags": []
   },
   "outputs": [],
   "source": [
    "class Config:\n",
    "    pass\n",
    "config = Config()\n",
    "config.lr = 0.001\n",
    "config.num_epochs = 250\n",
    "config.bs = 50"
   ]
  },
  {
   "cell_type": "markdown",
   "id": "1385fa59",
   "metadata": {
    "papermill": {
     "duration": 0.030942,
     "end_time": "2021-10-14T20:07:37.689540",
     "exception": false,
     "start_time": "2021-10-14T20:07:37.658598",
     "status": "completed"
    },
    "tags": []
   },
   "source": [
    "### Running Models with the Training data\n",
    "Details about the network layers:\n",
    "- A first affine layer has 784 inputs and does 100 affine transforms. These are followed by a Relu\n",
    "- A second affine layer has 100 inputs from the 100 activations of the past layer, and does 100 affine transforms. These are followed by a Relu\n",
    "- A third affine layer has 100 activations and does 2 affine transformations to create an embedding for visualization. There is no non-linearity here.\n",
    "- A final \"logistic regression\" which has an affine transform from 2 inputs to 1 output, which is squeezed through a sigmoid.\n"
   ]
  },
  {
   "cell_type": "code",
   "execution_count": 17,
   "id": "2b9c66db",
   "metadata": {
    "execution": {
     "iopub.execute_input": "2021-10-14T20:07:37.757407Z",
     "iopub.status.busy": "2021-10-14T20:07:37.756795Z",
     "iopub.status.idle": "2021-10-14T20:07:37.770386Z",
     "shell.execute_reply": "2021-10-14T20:07:37.769870Z"
    },
    "papermill": {
     "duration": 0.05059,
     "end_time": "2021-10-14T20:07:37.770514",
     "exception": false,
     "start_time": "2021-10-14T20:07:37.719924",
     "status": "completed"
    },
    "tags": []
   },
   "outputs": [],
   "source": [
    "data = Data(X_train, y_train.reshape(-1,1))\n",
    "sampler = Sampler(data, config.bs, shuffle=True)\n",
    "\n",
    "dl = Dataloader(data, sampler)\n",
    "\n",
    "opt = GD(config.lr)\n",
    "loss = MSE()"
   ]
  },
  {
   "cell_type": "code",
   "execution_count": 18,
   "id": "b275e4c2",
   "metadata": {
    "execution": {
     "iopub.execute_input": "2021-10-14T20:07:37.836104Z",
     "iopub.status.busy": "2021-10-14T20:07:37.835488Z",
     "iopub.status.idle": "2021-10-14T20:07:37.848429Z",
     "shell.execute_reply": "2021-10-14T20:07:37.848880Z"
    },
    "papermill": {
     "duration": 0.047769,
     "end_time": "2021-10-14T20:07:37.849031",
     "exception": false,
     "start_time": "2021-10-14T20:07:37.801262",
     "status": "completed"
    },
    "tags": []
   },
   "outputs": [],
   "source": [
    "training_data_x = X_train\n",
    "testing_data_x = X_test\n",
    "training_data_y = y_train.reshape(-1,1)\n",
    "testing_data_y = y_test.reshape(-1,1)"
   ]
  },
  {
   "cell_type": "code",
   "execution_count": 19,
   "id": "76951160",
   "metadata": {
    "execution": {
     "iopub.execute_input": "2021-10-14T20:07:37.914302Z",
     "iopub.status.busy": "2021-10-14T20:07:37.913719Z",
     "iopub.status.idle": "2021-10-14T20:07:37.932405Z",
     "shell.execute_reply": "2021-10-14T20:07:37.931896Z"
    },
    "papermill": {
     "duration": 0.052902,
     "end_time": "2021-10-14T20:07:37.932528",
     "exception": false,
     "start_time": "2021-10-14T20:07:37.879626",
     "status": "completed"
    },
    "tags": []
   },
   "outputs": [
    {
     "name": "stdout",
     "output_type": "stream",
     "text": [
      "xavier\n",
      "xavier\n",
      "xavier\n",
      "xavier\n",
      "xavier\n"
     ]
    }
   ],
   "source": [
    "layers = [Affine(\"first\", 784, 100), Relu(\"first\"), Affine(\"second\", 100, 100), Relu(\"second\"), Affine(\"third\", 100, 2), Affine(\"last\", 2, 1), Sigmoid(\"last\")]\n",
    "model_nn = Model(layers)\n",
    "model_lr = Model([Affine(\"logits\", 784, 1), Sigmoid(\"sigmoid\")])"
   ]
  },
  {
   "cell_type": "code",
   "execution_count": 20,
   "id": "6eede77a",
   "metadata": {
    "execution": {
     "iopub.execute_input": "2021-10-14T20:07:37.998249Z",
     "iopub.status.busy": "2021-10-14T20:07:37.997637Z",
     "iopub.status.idle": "2021-10-14T20:07:38.011884Z",
     "shell.execute_reply": "2021-10-14T20:07:38.011347Z"
    },
    "papermill": {
     "duration": 0.048644,
     "end_time": "2021-10-14T20:07:38.012003",
     "exception": false,
     "start_time": "2021-10-14T20:07:37.963359",
     "status": "completed"
    },
    "tags": []
   },
   "outputs": [],
   "source": [
    "nn_learner = Learner(loss, model_nn, opt, config.num_epochs)\n",
    "acc_nn = ClfCallback(nn_learner, config.bs, training_data_x , testing_data_x, training_data_y, testing_data_y)\n",
    "nn_learner.set_callbacks([acc_nn])"
   ]
  },
  {
   "cell_type": "code",
   "execution_count": 21,
   "id": "877b6cc7",
   "metadata": {
    "execution": {
     "iopub.execute_input": "2021-10-14T20:07:38.079253Z",
     "iopub.status.busy": "2021-10-14T20:07:38.078688Z",
     "iopub.status.idle": "2021-10-14T20:07:38.092604Z",
     "shell.execute_reply": "2021-10-14T20:07:38.092096Z"
    },
    "papermill": {
     "duration": 0.050644,
     "end_time": "2021-10-14T20:07:38.092727",
     "exception": false,
     "start_time": "2021-10-14T20:07:38.042083",
     "status": "completed"
    },
    "tags": []
   },
   "outputs": [],
   "source": [
    "lr_learner = Learner(loss, model_lr, opt, config.num_epochs)\n",
    "acc_lr = ClfCallback(lr_learner, config.bs, training_data_x , testing_data_x, training_data_y, testing_data_y)\n",
    "lr_learner.set_callbacks([acc_lr])"
   ]
  },
  {
   "cell_type": "code",
   "execution_count": 22,
   "id": "d9b133c3",
   "metadata": {
    "execution": {
     "iopub.execute_input": "2021-10-14T20:07:38.162986Z",
     "iopub.status.busy": "2021-10-14T20:07:38.162386Z",
     "iopub.status.idle": "2021-10-14T20:09:03.395786Z",
     "shell.execute_reply": "2021-10-14T20:09:03.396312Z"
    },
    "papermill": {
     "duration": 85.273377,
     "end_time": "2021-10-14T20:09:03.396473",
     "exception": false,
     "start_time": "2021-10-14T20:07:38.123096",
     "status": "completed"
    },
    "tags": []
   },
   "outputs": [
    {
     "name": "stdout",
     "output_type": "stream",
     "text": [
      "Epoch 0, Loss 0.2343\n",
      "Training Accuracy: 0.7205, Testing Accuracy: 0.7223\n",
      "\n"
     ]
    },
    {
     "name": "stdout",
     "output_type": "stream",
     "text": [
      "Epoch 10, Loss 0.0934\n",
      "Training Accuracy: 0.9238, Testing Accuracy: 0.9365\n",
      "\n"
     ]
    },
    {
     "name": "stdout",
     "output_type": "stream",
     "text": [
      "Epoch 20, Loss 0.0549\n",
      "Training Accuracy: 0.9462, Testing Accuracy: 0.9607\n",
      "\n"
     ]
    },
    {
     "name": "stdout",
     "output_type": "stream",
     "text": [
      "Epoch 30, Loss 0.0428\n",
      "Training Accuracy: 0.9538, Testing Accuracy: 0.9647\n",
      "\n"
     ]
    },
    {
     "name": "stdout",
     "output_type": "stream",
     "text": [
      "Epoch 40, Loss 0.0369\n",
      "Training Accuracy: 0.9599, Testing Accuracy: 0.9667\n",
      "\n"
     ]
    },
    {
     "name": "stdout",
     "output_type": "stream",
     "text": [
      "Epoch 50, Loss 0.0333\n",
      "Training Accuracy: 0.9637, Testing Accuracy: 0.9688\n",
      "\n"
     ]
    },
    {
     "name": "stdout",
     "output_type": "stream",
     "text": [
      "Epoch 60, Loss 0.0308\n",
      "Training Accuracy: 0.9655, Testing Accuracy: 0.9693\n",
      "\n"
     ]
    },
    {
     "name": "stdout",
     "output_type": "stream",
     "text": [
      "Epoch 70, Loss 0.0289\n",
      "Training Accuracy: 0.9678, Testing Accuracy: 0.9703\n",
      "\n"
     ]
    },
    {
     "name": "stdout",
     "output_type": "stream",
     "text": [
      "Epoch 80, Loss 0.0274\n",
      "Training Accuracy: 0.9691, Testing Accuracy: 0.9713\n",
      "\n"
     ]
    },
    {
     "name": "stdout",
     "output_type": "stream",
     "text": [
      "Epoch 90, Loss 0.0262\n",
      "Training Accuracy: 0.9696, Testing Accuracy: 0.9738\n",
      "\n"
     ]
    },
    {
     "name": "stdout",
     "output_type": "stream",
     "text": [
      "Epoch 100, Loss 0.0252\n",
      "Training Accuracy: 0.9705, Testing Accuracy: 0.9738\n",
      "\n"
     ]
    },
    {
     "name": "stdout",
     "output_type": "stream",
     "text": [
      "Epoch 110, Loss 0.0243\n",
      "Training Accuracy: 0.9720, Testing Accuracy: 0.9753\n",
      "\n"
     ]
    },
    {
     "name": "stdout",
     "output_type": "stream",
     "text": [
      "Epoch 120, Loss 0.0235\n",
      "Training Accuracy: 0.9730, Testing Accuracy: 0.9748\n",
      "\n"
     ]
    },
    {
     "name": "stdout",
     "output_type": "stream",
     "text": [
      "Epoch 130, Loss 0.0228\n",
      "Training Accuracy: 0.9734, Testing Accuracy: 0.9753\n",
      "\n"
     ]
    },
    {
     "name": "stdout",
     "output_type": "stream",
     "text": [
      "Epoch 140, Loss 0.0222\n",
      "Training Accuracy: 0.9740, Testing Accuracy: 0.9748\n",
      "\n"
     ]
    },
    {
     "name": "stdout",
     "output_type": "stream",
     "text": [
      "Epoch 150, Loss 0.0216\n",
      "Training Accuracy: 0.9752, Testing Accuracy: 0.9748\n",
      "\n"
     ]
    },
    {
     "name": "stdout",
     "output_type": "stream",
     "text": [
      "Epoch 160, Loss 0.021\n",
      "Training Accuracy: 0.9760, Testing Accuracy: 0.9743\n",
      "\n"
     ]
    },
    {
     "name": "stdout",
     "output_type": "stream",
     "text": [
      "Epoch 170, Loss 0.0205\n",
      "Training Accuracy: 0.9765, Testing Accuracy: 0.9748\n",
      "\n"
     ]
    },
    {
     "name": "stdout",
     "output_type": "stream",
     "text": [
      "Epoch 180, Loss 0.02\n",
      "Training Accuracy: 0.9773, Testing Accuracy: 0.9743\n",
      "\n"
     ]
    },
    {
     "name": "stdout",
     "output_type": "stream",
     "text": [
      "Epoch 190, Loss 0.0195\n",
      "Training Accuracy: 0.9777, Testing Accuracy: 0.9738\n",
      "\n"
     ]
    },
    {
     "name": "stdout",
     "output_type": "stream",
     "text": [
      "Epoch 200, Loss 0.0191\n",
      "Training Accuracy: 0.9786, Testing Accuracy: 0.9738\n",
      "\n"
     ]
    },
    {
     "name": "stdout",
     "output_type": "stream",
     "text": [
      "Epoch 210, Loss 0.0187\n",
      "Training Accuracy: 0.9791, Testing Accuracy: 0.9748\n",
      "\n"
     ]
    },
    {
     "name": "stdout",
     "output_type": "stream",
     "text": [
      "Epoch 220, Loss 0.0183\n",
      "Training Accuracy: 0.9796, Testing Accuracy: 0.9748\n",
      "\n"
     ]
    },
    {
     "name": "stdout",
     "output_type": "stream",
     "text": [
      "Epoch 230, Loss 0.0179\n",
      "Training Accuracy: 0.9801, Testing Accuracy: 0.9753\n",
      "\n"
     ]
    },
    {
     "name": "stdout",
     "output_type": "stream",
     "text": [
      "Epoch 240, Loss 0.0175\n",
      "Training Accuracy: 0.9807, Testing Accuracy: 0.9753\n",
      "\n"
     ]
    },
    {
     "data": {
      "text/plain": [
       "0.003219090167397953"
      ]
     },
     "execution_count": 22,
     "metadata": {},
     "output_type": "execute_result"
    }
   ],
   "source": [
    "nn_learner.train_loop(dl)"
   ]
  },
  {
   "cell_type": "code",
   "execution_count": 23,
   "id": "e0163366",
   "metadata": {
    "execution": {
     "iopub.execute_input": "2021-10-14T20:09:03.484923Z",
     "iopub.status.busy": "2021-10-14T20:09:03.484347Z",
     "iopub.status.idle": "2021-10-14T20:09:19.040550Z",
     "shell.execute_reply": "2021-10-14T20:09:19.041426Z"
    },
    "papermill": {
     "duration": 15.604006,
     "end_time": "2021-10-14T20:09:19.041598",
     "exception": false,
     "start_time": "2021-10-14T20:09:03.437592",
     "status": "completed"
    },
    "tags": []
   },
   "outputs": [
    {
     "name": "stdout",
     "output_type": "stream",
     "text": [
      "Epoch 0, Loss 0.2183\n",
      "Training Accuracy: 0.7858, Testing Accuracy: 0.8115\n",
      "\n"
     ]
    },
    {
     "name": "stdout",
     "output_type": "stream",
     "text": [
      "Epoch 10, Loss 0.1007\n",
      "Training Accuracy: 0.9130, Testing Accuracy: 0.9234\n",
      "\n"
     ]
    },
    {
     "name": "stdout",
     "output_type": "stream",
     "text": [
      "Epoch 20, Loss 0.0785\n",
      "Training Accuracy: 0.9281, Testing Accuracy: 0.9390\n",
      "\n"
     ]
    },
    {
     "name": "stdout",
     "output_type": "stream",
     "text": [
      "Epoch 30, Loss 0.068\n",
      "Training Accuracy: 0.9364, Testing Accuracy: 0.9466\n",
      "\n"
     ]
    },
    {
     "name": "stdout",
     "output_type": "stream",
     "text": [
      "Epoch 40, Loss 0.0616\n",
      "Training Accuracy: 0.9408, Testing Accuracy: 0.9481\n",
      "\n"
     ]
    },
    {
     "name": "stdout",
     "output_type": "stream",
     "text": [
      "Epoch 50, Loss 0.0572\n",
      "Training Accuracy: 0.9443, Testing Accuracy: 0.9521\n",
      "\n"
     ]
    },
    {
     "name": "stdout",
     "output_type": "stream",
     "text": [
      "Epoch 60, Loss 0.054\n",
      "Training Accuracy: 0.9463, Testing Accuracy: 0.9546\n",
      "\n"
     ]
    },
    {
     "name": "stdout",
     "output_type": "stream",
     "text": [
      "Epoch 70, Loss 0.0515\n",
      "Training Accuracy: 0.9483, Testing Accuracy: 0.9567\n",
      "\n"
     ]
    },
    {
     "name": "stdout",
     "output_type": "stream",
     "text": [
      "Epoch 80, Loss 0.0494\n",
      "Training Accuracy: 0.9495, Testing Accuracy: 0.9582\n",
      "\n"
     ]
    },
    {
     "name": "stdout",
     "output_type": "stream",
     "text": [
      "Epoch 90, Loss 0.0478\n",
      "Training Accuracy: 0.9506, Testing Accuracy: 0.9597\n",
      "\n"
     ]
    },
    {
     "name": "stdout",
     "output_type": "stream",
     "text": [
      "Epoch 100, Loss 0.0464\n",
      "Training Accuracy: 0.9513, Testing Accuracy: 0.9597\n",
      "\n"
     ]
    },
    {
     "name": "stdout",
     "output_type": "stream",
     "text": [
      "Epoch 110, Loss 0.0452\n",
      "Training Accuracy: 0.9522, Testing Accuracy: 0.9597\n",
      "\n"
     ]
    },
    {
     "name": "stdout",
     "output_type": "stream",
     "text": [
      "Epoch 120, Loss 0.0441\n",
      "Training Accuracy: 0.9528, Testing Accuracy: 0.9607\n",
      "\n"
     ]
    },
    {
     "name": "stdout",
     "output_type": "stream",
     "text": [
      "Epoch 130, Loss 0.0432\n",
      "Training Accuracy: 0.9536, Testing Accuracy: 0.9607\n",
      "\n"
     ]
    },
    {
     "name": "stdout",
     "output_type": "stream",
     "text": [
      "Epoch 140, Loss 0.0423\n",
      "Training Accuracy: 0.9546, Testing Accuracy: 0.9622\n",
      "\n"
     ]
    },
    {
     "name": "stdout",
     "output_type": "stream",
     "text": [
      "Epoch 150, Loss 0.0416\n",
      "Training Accuracy: 0.9553, Testing Accuracy: 0.9632\n",
      "\n"
     ]
    },
    {
     "name": "stdout",
     "output_type": "stream",
     "text": [
      "Epoch 160, Loss 0.0409\n",
      "Training Accuracy: 0.9562, Testing Accuracy: 0.9637\n",
      "\n"
     ]
    },
    {
     "name": "stdout",
     "output_type": "stream",
     "text": [
      "Epoch 170, Loss 0.0403\n",
      "Training Accuracy: 0.9571, Testing Accuracy: 0.9642\n",
      "\n"
     ]
    },
    {
     "name": "stdout",
     "output_type": "stream",
     "text": [
      "Epoch 180, Loss 0.0397\n",
      "Training Accuracy: 0.9577, Testing Accuracy: 0.9647\n",
      "\n"
     ]
    },
    {
     "name": "stdout",
     "output_type": "stream",
     "text": [
      "Epoch 190, Loss 0.0392\n",
      "Training Accuracy: 0.9581, Testing Accuracy: 0.9652\n",
      "\n"
     ]
    },
    {
     "name": "stdout",
     "output_type": "stream",
     "text": [
      "Epoch 200, Loss 0.0387\n",
      "Training Accuracy: 0.9584, Testing Accuracy: 0.9652\n",
      "\n"
     ]
    },
    {
     "name": "stdout",
     "output_type": "stream",
     "text": [
      "Epoch 210, Loss 0.0383\n",
      "Training Accuracy: 0.9586, Testing Accuracy: 0.9652\n",
      "\n"
     ]
    },
    {
     "name": "stdout",
     "output_type": "stream",
     "text": [
      "Epoch 220, Loss 0.0379\n",
      "Training Accuracy: 0.9590, Testing Accuracy: 0.9652\n",
      "\n"
     ]
    },
    {
     "name": "stdout",
     "output_type": "stream",
     "text": [
      "Epoch 230, Loss 0.0375\n",
      "Training Accuracy: 0.9597, Testing Accuracy: 0.9652\n",
      "\n"
     ]
    },
    {
     "name": "stdout",
     "output_type": "stream",
     "text": [
      "Epoch 240, Loss 0.0371\n",
      "Training Accuracy: 0.9600, Testing Accuracy: 0.9652\n",
      "\n"
     ]
    },
    {
     "data": {
      "text/plain": [
       "0.02798497562167193"
      ]
     },
     "execution_count": 23,
     "metadata": {},
     "output_type": "execute_result"
    }
   ],
   "source": [
    "lr_learner.train_loop(dl)"
   ]
  },
  {
   "cell_type": "code",
   "execution_count": 24,
   "id": "ca410940",
   "metadata": {
    "execution": {
     "iopub.execute_input": "2021-10-14T20:09:19.145450Z",
     "iopub.status.busy": "2021-10-14T20:09:19.144852Z",
     "iopub.status.idle": "2021-10-14T20:09:19.389898Z",
     "shell.execute_reply": "2021-10-14T20:09:19.390482Z"
    },
    "papermill": {
     "duration": 0.301865,
     "end_time": "2021-10-14T20:09:19.390655",
     "exception": false,
     "start_time": "2021-10-14T20:09:19.088790",
     "status": "completed"
    },
    "tags": []
   },
   "outputs": [
    {
     "data": {
      "text/plain": [
       "<matplotlib.legend.Legend at 0x7fc1808b9908>"
      ]
     },
     "execution_count": 24,
     "metadata": {},
     "output_type": "execute_result"
    },
    {
     "data": {
      "image/png": "[encoded data removed]",
      "text/plain": [
       "<Figure size 1080x720 with 1 Axes>"
      ]
     },
     "metadata": {
      "needs_background": "light"
     },
     "output_type": "display_data"
    }
   ],
   "source": [
    "#comparing the results of NN and LR\n",
    "plt.figure(figsize=(15,10))\n",
    "\n",
    "# Neural Network plots\n",
    "plt.plot(acc_nn.accuracies, 'r-', label = \"Training Accuracies - NN\")\n",
    "plt.plot(acc_nn.test_accuracies, 'g-', label = \"Testing Accuracies - NN\")\n",
    "\n",
    "# Logistic Regression plots\n",
    "plt.plot(acc_lr.accuracies, 'k-', label = \"Training Accuracies - LR\")\n",
    "plt.plot(acc_lr.test_accuracies, 'b-', label = \"Testing Accuracies - LR\")\n",
    "plt.legend()"
   ]
  },
  {
   "cell_type": "markdown",
   "id": "80dfb35c",
   "metadata": {
    "papermill": {
     "duration": 0.050694,
     "end_time": "2021-10-14T20:09:19.493462",
     "exception": false,
     "start_time": "2021-10-14T20:09:19.442768",
     "status": "completed"
    },
    "tags": []
   },
   "source": [
    "#### Plotting the outputs of this layer of the NN.\n"
   ]
  },
  {
   "cell_type": "code",
   "execution_count": 25,
   "id": "45eb2ff5",
   "metadata": {
    "execution": {
     "iopub.execute_input": "2021-10-14T20:09:19.601581Z",
     "iopub.status.busy": "2021-10-14T20:09:19.600950Z",
     "iopub.status.idle": "2021-10-14T20:09:19.626868Z",
     "shell.execute_reply": "2021-10-14T20:09:19.627379Z"
    },
    "papermill": {
     "duration": 0.081033,
     "end_time": "2021-10-14T20:09:19.627564",
     "exception": false,
     "start_time": "2021-10-14T20:09:19.546531",
     "status": "completed"
    },
    "tags": []
   },
   "outputs": [],
   "source": [
    "new_model = Model(layers[:-2])\n",
    "testing_plot = new_model(testing_data_x)"
   ]
  },
  {
   "cell_type": "code",
   "execution_count": 26,
   "id": "4c0a5485",
   "metadata": {
    "execution": {
     "iopub.execute_input": "2021-10-14T20:09:19.743172Z",
     "iopub.status.busy": "2021-10-14T20:09:19.742559Z",
     "iopub.status.idle": "2021-10-14T20:09:19.984279Z",
     "shell.execute_reply": "2021-10-14T20:09:19.983746Z"
    },
    "papermill": {
     "duration": 0.299023,
     "end_time": "2021-10-14T20:09:19.984414",
     "exception": false,
     "start_time": "2021-10-14T20:09:19.685391",
     "status": "completed"
    },
    "tags": []
   },
   "outputs": [
    {
     "data": {
      "text/plain": [
       "Text(0.5, 1.0, 'Outputs')"
      ]
     },
     "execution_count": 26,
     "metadata": {},
     "output_type": "execute_result"
    },
    {
     "data": {
      "image/png": "[encoded data removed]",
      "text/plain": [
       "<Figure size 576x504 with 1 Axes>"
      ]
     },
     "metadata": {
      "needs_background": "light"
     },
     "output_type": "display_data"
    }
   ],
   "source": [
    "# Plotting the scatter plot of points and color coding by class\n",
    "plt.figure(figsize=(8,7))\n",
    "plt.scatter(testing_plot[:,0], testing_plot[:,1], alpha = 0.1, c = y_test.ravel());\n",
    "plt.title('Outputs')"
   ]
  },
  {
   "cell_type": "markdown",
   "id": "a74fcf8f",
   "metadata": {
    "papermill": {
     "duration": 0.050563,
     "end_time": "2021-10-14T20:09:20.084814",
     "exception": false,
     "start_time": "2021-10-14T20:09:20.034251",
     "status": "completed"
    },
    "tags": []
   },
   "source": [
    "Probability contours"
   ]
  },
  {
   "cell_type": "code",
   "execution_count": 27,
   "id": "d0afc8e3",
   "metadata": {
    "execution": {
     "iopub.execute_input": "2021-10-14T20:09:20.196592Z",
     "iopub.status.busy": "2021-10-14T20:09:20.195952Z",
     "iopub.status.idle": "2021-10-14T20:09:20.203218Z",
     "shell.execute_reply": "2021-10-14T20:09:20.202706Z"
    },
    "papermill": {
     "duration": 0.067702,
     "end_time": "2021-10-14T20:09:20.203347",
     "exception": false,
     "start_time": "2021-10-14T20:09:20.135645",
     "status": "completed"
    },
    "tags": []
   },
   "outputs": [],
   "source": [
    "model_prob = Model(layers[-2:]) "
   ]
  },
  {
   "cell_type": "code",
   "execution_count": 28,
   "id": "9b96e238",
   "metadata": {
    "execution": {
     "iopub.execute_input": "2021-10-14T20:09:20.344665Z",
     "iopub.status.busy": "2021-10-14T20:09:20.344005Z",
     "iopub.status.idle": "2021-10-14T20:09:20.357596Z",
     "shell.execute_reply": "2021-10-14T20:09:20.358011Z"
    },
    "papermill": {
     "duration": 0.074471,
     "end_time": "2021-10-14T20:09:20.358158",
     "exception": false,
     "start_time": "2021-10-14T20:09:20.283687",
     "status": "completed"
    },
    "tags": []
   },
   "outputs": [],
   "source": [
    "#creating the x and y ranges according to the above generated plot.\n",
    "x_range = np.linspace(-4, 1, 100) \n",
    "y_range = np.linspace(-6, 6, 100) \n",
    "x_grid, y_grid = np.meshgrid(x_range, y_range) # x_grid and y_grig are of size 100 X 100\n",
    "\n",
    "# converting x_grid and y_grid to continuous arrays\n",
    "x_gridflat = np.ravel(x_grid)\n",
    "y_gridflat = np.ravel(y_grid)\n",
    "\n",
    "# The last layer of the current model takes two columns as input. Hence transpose of np.vstack() is required.\n",
    "X = np.vstack((x_gridflat, y_gridflat)).T\n",
    "\n",
    "prob_contour = model_prob(X).reshape(100,100) "
   ]
  },
  {
   "cell_type": "code",
   "execution_count": 29,
   "id": "da72499a",
   "metadata": {
    "execution": {
     "iopub.execute_input": "2021-10-14T20:09:20.477348Z",
     "iopub.status.busy": "2021-10-14T20:09:20.474090Z",
     "iopub.status.idle": "2021-10-14T20:09:20.778489Z",
     "shell.execute_reply": "2021-10-14T20:09:20.778975Z"
    },
    "papermill": {
     "duration": 0.36377,
     "end_time": "2021-10-14T20:09:20.779132",
     "exception": false,
     "start_time": "2021-10-14T20:09:20.415362",
     "status": "completed"
    },
    "tags": []
   },
   "outputs": [
    {
     "data": {
      "image/png": "[encoded data removed]",
      "text/plain": [
       "<Figure size 720x648 with 1 Axes>"
      ]
     },
     "metadata": {
      "needs_background": "light"
     },
     "output_type": "display_data"
    }
   ],
   "source": [
    "plt.figure(figsize=(10,9))\n",
    "plt.scatter(testing_plot[:,0], testing_plot[:,1], alpha = 0.1, c = y_test.ravel())\n",
    "contours = plt.contour(x_grid,y_grid,prob_contour)\n",
    "plt.title('Probability Contours')\n",
    "plt.clabel(contours, inline = True );"
   ]
  },
  {
   "cell_type": "code",
   "execution_count": null,
   "id": "e81b4ac7",
   "metadata": {
    "papermill": {
     "duration": 0.053993,
     "end_time": "2021-10-14T20:09:20.887529",
     "exception": false,
     "start_time": "2021-10-14T20:09:20.833536",
     "status": "completed"
    },
    "tags": []
   },
   "outputs": [],
   "source": []
  }
 ],
 "metadata": {
  "kernelspec": {
   "display_name": "Python 3",
   "language": "python",
   "name": "python3"
  },
  "language_info": {
   "codemirror_mode": {
    "name": "ipython",
    "version": 3
   },
   "file_extension": ".py",
   "mimetype": "text/x-python",
   "name": "python",
   "nbconvert_exporter": "python",
   "pygments_lexer": "ipython3",
   "version": "3.6.15"
  },
  "papermill": {
   "default_parameters": {},
   "duration": 110.306402,
   "end_time": "2021-10-14T20:09:21.352735",
   "environment_variables": {},
   "exception": null,
   "input_path": "2020-08-11-part2.ipynb",
   "output_path": "2020-08-11-part2.ipynb",
   "parameters": {},
   "start_time": "2021-10-14T20:07:31.046333",
   "version": "2.3.3"
  }
 },
 "nbformat": 4,
 "nbformat_minor": 5
}