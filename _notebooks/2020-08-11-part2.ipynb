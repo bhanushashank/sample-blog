{
 "cells": [
  {
   "cell_type": "markdown",
   "id": "98380cd3",
   "metadata": {
    "papermill": {
     "duration": 0.034793,
     "end_time": "2021-11-11T10:10:12.349642",
     "exception": false,
     "start_time": "2021-11-11T10:10:12.314849",
     "status": "completed"
    },
    "tags": []
   },
   "source": [
    "# Distinguish Your Own Digits (DYOD)"
   ]
  },
  {
   "cell_type": "markdown",
   "id": "ef31240d",
   "metadata": {
    "papermill": {
     "duration": 0.031213,
     "end_time": "2021-11-11T10:10:12.413361",
     "exception": false,
     "start_time": "2021-11-11T10:10:12.382148",
     "status": "completed"
    },
    "tags": []
   },
   "source": [
    "You are going to write a classifier that distinguishes between the number 3 and number 8."
   ]
  },
  {
   "cell_type": "code",
   "execution_count": 1,
   "id": "b15c8646",
   "metadata": {
    "execution": {
     "iopub.execute_input": "2021-11-11T10:10:12.492505Z",
     "iopub.status.busy": "2021-11-11T10:10:12.491793Z",
     "iopub.status.idle": "2021-11-11T10:10:12.505674Z",
     "shell.execute_reply": "2021-11-11T10:10:12.505022Z"
    },
    "papermill": {
     "duration": 0.059288,
     "end_time": "2021-11-11T10:10:12.505849",
     "exception": false,
     "start_time": "2021-11-11T10:10:12.446561",
     "status": "completed"
    },
    "tags": []
   },
   "outputs": [],
   "source": [
    "%load_ext autoreload\n",
    "%autoreload 2"
   ]
  },
  {
   "cell_type": "code",
   "execution_count": 2,
   "id": "22ef38dc",
   "metadata": {
    "execution": {
     "iopub.execute_input": "2021-11-11T10:10:12.576607Z",
     "iopub.status.busy": "2021-11-11T10:10:12.575894Z",
     "iopub.status.idle": "2021-11-11T10:10:13.237030Z",
     "shell.execute_reply": "2021-11-11T10:10:13.236429Z"
    },
    "papermill": {
     "duration": 0.699898,
     "end_time": "2021-11-11T10:10:13.237188",
     "exception": false,
     "start_time": "2021-11-11T10:10:12.537290",
     "status": "completed"
    },
    "tags": []
   },
   "outputs": [],
   "source": [
    "%matplotlib inline\n",
    "import numpy as np\n",
    "import matplotlib.pyplot as plt\n",
    "import pandas as pd"
   ]
  },
  {
   "cell_type": "markdown",
   "id": "ba036198",
   "metadata": {
    "papermill": {
     "duration": 0.031347,
     "end_time": "2021-11-11T10:10:13.306031",
     "exception": false,
     "start_time": "2021-11-11T10:10:13.274684",
     "status": "completed"
    },
    "tags": []
   },
   "source": [
    "From the command line run `pip install mnist`. This is a library that will help you bring down the mnist dataset. If you run this from a notebook, you need to put  `!pip install mnist` in a cell by itself."
   ]
  },
  {
   "cell_type": "code",
   "execution_count": 3,
   "id": "bb6ad8a1",
   "metadata": {
    "execution": {
     "iopub.execute_input": "2021-11-11T10:10:13.373455Z",
     "iopub.status.busy": "2021-11-11T10:10:13.372790Z",
     "iopub.status.idle": "2021-11-11T10:10:16.317429Z",
     "shell.execute_reply": "2021-11-11T10:10:16.316113Z"
    },
    "papermill": {
     "duration": 2.980779,
     "end_time": "2021-11-11T10:10:16.317617",
     "exception": false,
     "start_time": "2021-11-11T10:10:13.336838",
     "status": "completed"
    },
    "tags": []
   },
   "outputs": [
    {
     "name": "stdout",
     "output_type": "stream",
     "text": [
      "Collecting mnist\r\n"
     ]
    },
    {
     "name": "stdout",
     "output_type": "stream",
     "text": [
      "  Downloading mnist-0.2.2-py2.py3-none-any.whl (3.5 kB)\r\n",
      "Requirement already satisfied: numpy in /opt/hostedtoolcache/Python/3.6.15/x64/lib/python3.6/site-packages (from mnist) (1.19.5)\r\n"
     ]
    },
    {
     "name": "stdout",
     "output_type": "stream",
     "text": [
      "Installing collected packages: mnist\r\n"
     ]
    },
    {
     "name": "stdout",
     "output_type": "stream",
     "text": [
      "Successfully installed mnist-0.2.2\r\n"
     ]
    }
   ],
   "source": [
    "!pip install mnist"
   ]
  },
  {
   "cell_type": "markdown",
   "id": "69df9c9a",
   "metadata": {
    "papermill": {
     "duration": 0.031703,
     "end_time": "2021-11-11T10:10:16.382063",
     "exception": false,
     "start_time": "2021-11-11T10:10:16.350360",
     "status": "completed"
    },
    "tags": []
   },
   "source": [
    "## Preparing the Data"
   ]
  },
  {
   "cell_type": "code",
   "execution_count": 4,
   "id": "7f69d806",
   "metadata": {
    "execution": {
     "iopub.execute_input": "2021-11-11T10:10:16.454526Z",
     "iopub.status.busy": "2021-11-11T10:10:16.449414Z",
     "iopub.status.idle": "2021-11-11T10:10:16.467620Z",
     "shell.execute_reply": "2021-11-11T10:10:16.467013Z"
    },
    "papermill": {
     "duration": 0.054216,
     "end_time": "2021-11-11T10:10:16.467774",
     "exception": false,
     "start_time": "2021-11-11T10:10:16.413558",
     "status": "completed"
    },
    "tags": []
   },
   "outputs": [],
   "source": [
    "import mnist"
   ]
  },
  {
   "cell_type": "code",
   "execution_count": 5,
   "id": "a411e44f",
   "metadata": {
    "execution": {
     "iopub.execute_input": "2021-11-11T10:10:16.536829Z",
     "iopub.status.busy": "2021-11-11T10:10:16.536053Z",
     "iopub.status.idle": "2021-11-11T10:10:17.226895Z",
     "shell.execute_reply": "2021-11-11T10:10:17.227428Z"
    },
    "papermill": {
     "duration": 0.72804,
     "end_time": "2021-11-11T10:10:17.227613",
     "exception": false,
     "start_time": "2021-11-11T10:10:16.499573",
     "status": "completed"
    },
    "tags": []
   },
   "outputs": [],
   "source": [
    "train_images = mnist.train_images()\n",
    "train_labels = mnist.train_labels()"
   ]
  },
  {
   "cell_type": "code",
   "execution_count": 6,
   "id": "dceab3a5",
   "metadata": {
    "execution": {
     "iopub.execute_input": "2021-11-11T10:10:17.297752Z",
     "iopub.status.busy": "2021-11-11T10:10:17.296997Z",
     "iopub.status.idle": "2021-11-11T10:10:17.312862Z",
     "shell.execute_reply": "2021-11-11T10:10:17.314137Z"
    },
    "papermill": {
     "duration": 0.054124,
     "end_time": "2021-11-11T10:10:17.314316",
     "exception": false,
     "start_time": "2021-11-11T10:10:17.260192",
     "status": "completed"
    },
    "tags": []
   },
   "outputs": [
    {
     "data": {
      "text/plain": [
       "((60000, 28, 28), (60000,))"
      ]
     },
     "execution_count": 6,
     "metadata": {},
     "output_type": "execute_result"
    }
   ],
   "source": [
    "train_images.shape, train_labels.shape"
   ]
  },
  {
   "cell_type": "code",
   "execution_count": 7,
   "id": "f50dc2bb",
   "metadata": {
    "execution": {
     "iopub.execute_input": "2021-11-11T10:10:17.383139Z",
     "iopub.status.busy": "2021-11-11T10:10:17.382480Z",
     "iopub.status.idle": "2021-11-11T10:10:17.590280Z",
     "shell.execute_reply": "2021-11-11T10:10:17.589676Z"
    },
    "papermill": {
     "duration": 0.2442,
     "end_time": "2021-11-11T10:10:17.590431",
     "exception": false,
     "start_time": "2021-11-11T10:10:17.346231",
     "status": "completed"
    },
    "tags": []
   },
   "outputs": [],
   "source": [
    "test_images = mnist.test_images()\n",
    "test_labels = mnist.test_labels()"
   ]
  },
  {
   "cell_type": "code",
   "execution_count": 8,
   "id": "fc38cf1b",
   "metadata": {
    "execution": {
     "iopub.execute_input": "2021-11-11T10:10:17.663575Z",
     "iopub.status.busy": "2021-11-11T10:10:17.660919Z",
     "iopub.status.idle": "2021-11-11T10:10:17.678273Z",
     "shell.execute_reply": "2021-11-11T10:10:17.677669Z"
    },
    "papermill": {
     "duration": 0.055689,
     "end_time": "2021-11-11T10:10:17.678423",
     "exception": false,
     "start_time": "2021-11-11T10:10:17.622734",
     "status": "completed"
    },
    "tags": []
   },
   "outputs": [
    {
     "data": {
      "text/plain": [
       "((10000, 28, 28), (10000,))"
      ]
     },
     "execution_count": 8,
     "metadata": {},
     "output_type": "execute_result"
    }
   ],
   "source": [
    "test_images.shape, test_labels.shape"
   ]
  },
  {
   "cell_type": "code",
   "execution_count": 9,
   "id": "f9ed8fe0",
   "metadata": {
    "execution": {
     "iopub.execute_input": "2021-11-11T10:10:17.762543Z",
     "iopub.status.busy": "2021-11-11T10:10:17.761158Z",
     "iopub.status.idle": "2021-11-11T10:10:17.952340Z",
     "shell.execute_reply": "2021-11-11T10:10:17.952881Z"
    },
    "papermill": {
     "duration": 0.242029,
     "end_time": "2021-11-11T10:10:17.953059",
     "exception": false,
     "start_time": "2021-11-11T10:10:17.711030",
     "status": "completed"
    },
    "tags": []
   },
   "outputs": [
    {
     "name": "stdout",
     "output_type": "stream",
     "text": [
      "2\n"
     ]
    },
    {
     "data": {
      "text/plain": [
       "<matplotlib.image.AxesImage at 0x7f17d42f30b8>"
      ]
     },
     "execution_count": 9,
     "metadata": {},
     "output_type": "execute_result"
    },
    {
     "data": {
      "image/png": "[encoded data removed]",
      "text/plain": [
       "<Figure size 432x288 with 1 Axes>"
      ]
     },
     "metadata": {
      "needs_background": "light"
     },
     "output_type": "display_data"
    }
   ],
   "source": [
    "image_index = 7776 # You may select anything up to 60,000\n",
    "print(train_labels[image_index]) \n",
    "plt.imshow(train_images[image_index], cmap='Greys')"
   ]
  },
  {
   "cell_type": "markdown",
   "id": "a8d2388d",
   "metadata": {
    "papermill": {
     "duration": 0.034102,
     "end_time": "2021-11-11T10:10:18.021119",
     "exception": false,
     "start_time": "2021-11-11T10:10:17.987017",
     "status": "completed"
    },
    "tags": []
   },
   "source": [
    "## Filter data to get 3 and 8 out"
   ]
  },
  {
   "cell_type": "code",
   "execution_count": 10,
   "id": "776f7fc7",
   "metadata": {
    "execution": {
     "iopub.execute_input": "2021-11-11T10:10:18.096579Z",
     "iopub.status.busy": "2021-11-11T10:10:18.095900Z",
     "iopub.status.idle": "2021-11-11T10:10:18.117108Z",
     "shell.execute_reply": "2021-11-11T10:10:18.116526Z"
    },
    "papermill": {
     "duration": 0.061995,
     "end_time": "2021-11-11T10:10:18.117267",
     "exception": false,
     "start_time": "2021-11-11T10:10:18.055272",
     "status": "completed"
    },
    "tags": []
   },
   "outputs": [],
   "source": [
    "train_filter = np.where((train_labels == 3 ) | (train_labels == 8))\n",
    "test_filter = np.where((test_labels == 3) | (test_labels == 8))\n",
    "X_train, y_train = train_images[train_filter], train_labels[train_filter]\n",
    "X_test, y_test = test_images[test_filter], test_labels[test_filter]"
   ]
  },
  {
   "cell_type": "markdown",
   "id": "948f0b7e",
   "metadata": {
    "papermill": {
     "duration": 0.033758,
     "end_time": "2021-11-11T10:10:18.185195",
     "exception": false,
     "start_time": "2021-11-11T10:10:18.151437",
     "status": "completed"
    },
    "tags": []
   },
   "source": [
    "We normalize the pizel values in the 0 to 1 range"
   ]
  },
  {
   "cell_type": "code",
   "execution_count": 11,
   "id": "ee4c2166",
   "metadata": {
    "execution": {
     "iopub.execute_input": "2021-11-11T10:10:18.260626Z",
     "iopub.status.busy": "2021-11-11T10:10:18.259954Z",
     "iopub.status.idle": "2021-11-11T10:10:18.326940Z",
     "shell.execute_reply": "2021-11-11T10:10:18.326322Z"
    },
    "papermill": {
     "duration": 0.105479,
     "end_time": "2021-11-11T10:10:18.327095",
     "exception": false,
     "start_time": "2021-11-11T10:10:18.221616",
     "status": "completed"
    },
    "tags": []
   },
   "outputs": [],
   "source": [
    "X_train = X_train/255.\n",
    "X_test = X_test/255."
   ]
  },
  {
   "cell_type": "markdown",
   "id": "ddcf4fab",
   "metadata": {
    "papermill": {
     "duration": 0.033818,
     "end_time": "2021-11-11T10:10:18.395102",
     "exception": false,
     "start_time": "2021-11-11T10:10:18.361284",
     "status": "completed"
    },
    "tags": []
   },
   "source": [
    "And setup the labels as 1 (when the digit is 3) and 0 (when the digit is 8)"
   ]
  },
  {
   "cell_type": "code",
   "execution_count": 12,
   "id": "7dc908f2",
   "metadata": {
    "execution": {
     "iopub.execute_input": "2021-11-11T10:10:18.475862Z",
     "iopub.status.busy": "2021-11-11T10:10:18.475175Z",
     "iopub.status.idle": "2021-11-11T10:10:18.487484Z",
     "shell.execute_reply": "2021-11-11T10:10:18.487991Z"
    },
    "papermill": {
     "duration": 0.058708,
     "end_time": "2021-11-11T10:10:18.488171",
     "exception": false,
     "start_time": "2021-11-11T10:10:18.429463",
     "status": "completed"
    },
    "tags": []
   },
   "outputs": [],
   "source": [
    "y_train = 1*(y_train==3)\n",
    "y_test = 1*(y_test==3)"
   ]
  },
  {
   "cell_type": "code",
   "execution_count": 13,
   "id": "01e4e969",
   "metadata": {
    "execution": {
     "iopub.execute_input": "2021-11-11T10:10:18.560885Z",
     "iopub.status.busy": "2021-11-11T10:10:18.560206Z",
     "iopub.status.idle": "2021-11-11T10:10:18.576554Z",
     "shell.execute_reply": "2021-11-11T10:10:18.575874Z"
    },
    "papermill": {
     "duration": 0.054337,
     "end_time": "2021-11-11T10:10:18.576705",
     "exception": false,
     "start_time": "2021-11-11T10:10:18.522368",
     "status": "completed"
    },
    "tags": []
   },
   "outputs": [
    {
     "data": {
      "text/plain": [
       "((11982, 28, 28), (1984, 28, 28))"
      ]
     },
     "execution_count": 13,
     "metadata": {},
     "output_type": "execute_result"
    }
   ],
   "source": [
    "X_train.shape, X_test.shape"
   ]
  },
  {
   "cell_type": "markdown",
   "id": "5ccf3f85",
   "metadata": {
    "papermill": {
     "duration": 0.033543,
     "end_time": "2021-11-11T10:10:18.653927",
     "exception": false,
     "start_time": "2021-11-11T10:10:18.620384",
     "status": "completed"
    },
    "tags": []
   },
   "source": [
    "We reshape the data to flatten the image pixels into a set of features or co-variates:"
   ]
  },
  {
   "cell_type": "code",
   "execution_count": 14,
   "id": "5286a4a3",
   "metadata": {
    "execution": {
     "iopub.execute_input": "2021-11-11T10:10:18.730576Z",
     "iopub.status.busy": "2021-11-11T10:10:18.727967Z",
     "iopub.status.idle": "2021-11-11T10:10:18.743535Z",
     "shell.execute_reply": "2021-11-11T10:10:18.742975Z"
    },
    "papermill": {
     "duration": 0.054733,
     "end_time": "2021-11-11T10:10:18.743692",
     "exception": false,
     "start_time": "2021-11-11T10:10:18.688959",
     "status": "completed"
    },
    "tags": []
   },
   "outputs": [
    {
     "data": {
      "text/plain": [
       "((11982, 784), (1984, 784))"
      ]
     },
     "execution_count": 14,
     "metadata": {},
     "output_type": "execute_result"
    }
   ],
   "source": [
    "X_train = X_train.reshape(X_train.shape[0], -1)\n",
    "X_test = X_test.reshape(X_test.shape[0], -1)\n",
    "X_train.shape, X_test.shape"
   ]
  },
  {
   "cell_type": "code",
   "execution_count": 15,
   "id": "73c5f88a",
   "metadata": {
    "execution": {
     "iopub.execute_input": "2021-11-11T10:10:18.823613Z",
     "iopub.status.busy": "2021-11-11T10:10:18.822896Z",
     "iopub.status.idle": "2021-11-11T10:10:18.843210Z",
     "shell.execute_reply": "2021-11-11T10:10:18.842624Z"
    },
    "papermill": {
     "duration": 0.06281,
     "end_time": "2021-11-11T10:10:18.843369",
     "exception": false,
     "start_time": "2021-11-11T10:10:18.780559",
     "status": "completed"
    },
    "tags": []
   },
   "outputs": [],
   "source": [
    "#Impoting functions from 'Kudzu'\n",
    "from kudzu.model import Model\n",
    "from kudzu.train import Learner\n",
    "from kudzu.optim import GD\n",
    "from kudzu.data import Data, Sampler,Dataloader\n",
    "\n",
    "from kudzu.callbacks import AccCallback\n",
    "from kudzu.callbacks import ClfCallback\n",
    "\n",
    "from kudzu.loss import MSE\n",
    "\n",
    "from kudzu.layer import Sigmoid,Relu\n",
    "from kudzu.layer import Affine"
   ]
  },
  {
   "cell_type": "markdown",
   "id": "bc01172a",
   "metadata": {
    "papermill": {
     "duration": 0.035482,
     "end_time": "2021-11-11T10:10:18.914172",
     "exception": false,
     "start_time": "2021-11-11T10:10:18.878690",
     "status": "completed"
    },
    "tags": []
   },
   "source": [
    "### Let us create a `Config` class, to store important parameters. \n",
    "This class essentially plays the role of a dictionary."
   ]
  },
  {
   "cell_type": "code",
   "execution_count": 16,
   "id": "978281aa",
   "metadata": {
    "execution": {
     "iopub.execute_input": "2021-11-11T10:10:18.994690Z",
     "iopub.status.busy": "2021-11-11T10:10:18.993998Z",
     "iopub.status.idle": "2021-11-11T10:10:19.007710Z",
     "shell.execute_reply": "2021-11-11T10:10:19.007128Z"
    },
    "papermill": {
     "duration": 0.057906,
     "end_time": "2021-11-11T10:10:19.007871",
     "exception": false,
     "start_time": "2021-11-11T10:10:18.949965",
     "status": "completed"
    },
    "tags": []
   },
   "outputs": [],
   "source": [
    "class Config:\n",
    "    pass\n",
    "config = Config()\n",
    "config.lr = 0.001\n",
    "config.num_epochs = 250\n",
    "config.bs = 50"
   ]
  },
  {
   "cell_type": "markdown",
   "id": "1385fa59",
   "metadata": {
    "papermill": {
     "duration": 0.034558,
     "end_time": "2021-11-11T10:10:19.077457",
     "exception": false,
     "start_time": "2021-11-11T10:10:19.042899",
     "status": "completed"
    },
    "tags": []
   },
   "source": [
    "### Running Models with the Training data\n",
    "Details about the network layers:\n",
    "- A first affine layer has 784 inputs and does 100 affine transforms. These are followed by a Relu\n",
    "- A second affine layer has 100 inputs from the 100 activations of the past layer, and does 100 affine transforms. These are followed by a Relu\n",
    "- A third affine layer has 100 activations and does 2 affine transformations to create an embedding for visualization. There is no non-linearity here.\n",
    "- A final \"logistic regression\" which has an affine transform from 2 inputs to 1 output, which is squeezed through a sigmoid.\n"
   ]
  },
  {
   "cell_type": "code",
   "execution_count": 17,
   "id": "2b9c66db",
   "metadata": {
    "execution": {
     "iopub.execute_input": "2021-11-11T10:10:19.151630Z",
     "iopub.status.busy": "2021-11-11T10:10:19.150947Z",
     "iopub.status.idle": "2021-11-11T10:10:19.165665Z",
     "shell.execute_reply": "2021-11-11T10:10:19.165024Z"
    },
    "papermill": {
     "duration": 0.052808,
     "end_time": "2021-11-11T10:10:19.165822",
     "exception": false,
     "start_time": "2021-11-11T10:10:19.113014",
     "status": "completed"
    },
    "tags": []
   },
   "outputs": [],
   "source": [
    "data = Data(X_train, y_train.reshape(-1,1))\n",
    "sampler = Sampler(data, config.bs, shuffle=True)\n",
    "\n",
    "dl = Dataloader(data, sampler)\n",
    "\n",
    "opt = GD(config.lr)\n",
    "loss = MSE()"
   ]
  },
  {
   "cell_type": "code",
   "execution_count": 18,
   "id": "b275e4c2",
   "metadata": {
    "execution": {
     "iopub.execute_input": "2021-11-11T10:10:19.240975Z",
     "iopub.status.busy": "2021-11-11T10:10:19.240139Z",
     "iopub.status.idle": "2021-11-11T10:10:19.254123Z",
     "shell.execute_reply": "2021-11-11T10:10:19.253550Z"
    },
    "papermill": {
     "duration": 0.054609,
     "end_time": "2021-11-11T10:10:19.254281",
     "exception": false,
     "start_time": "2021-11-11T10:10:19.199672",
     "status": "completed"
    },
    "tags": []
   },
   "outputs": [],
   "source": [
    "training_data_x = X_train\n",
    "testing_data_x = X_test\n",
    "training_data_y = y_train.reshape(-1,1)\n",
    "testing_data_y = y_test.reshape(-1,1)"
   ]
  },
  {
   "cell_type": "code",
   "execution_count": 19,
   "id": "76951160",
   "metadata": {
    "execution": {
     "iopub.execute_input": "2021-11-11T10:10:19.331119Z",
     "iopub.status.busy": "2021-11-11T10:10:19.330434Z",
     "iopub.status.idle": "2021-11-11T10:10:19.349826Z",
     "shell.execute_reply": "2021-11-11T10:10:19.349227Z"
    },
    "papermill": {
     "duration": 0.061128,
     "end_time": "2021-11-11T10:10:19.349976",
     "exception": false,
     "start_time": "2021-11-11T10:10:19.288848",
     "status": "completed"
    },
    "tags": []
   },
   "outputs": [
    {
     "name": "stdout",
     "output_type": "stream",
     "text": [
      "xavier\n",
      "xavier\n",
      "xavier\n",
      "xavier\n",
      "xavier\n"
     ]
    }
   ],
   "source": [
    "layers = [Affine(\"first\", 784, 100), Relu(\"first\"), Affine(\"second\", 100, 100), Relu(\"second\"), Affine(\"third\", 100, 2), Affine(\"last\", 2, 1), Sigmoid(\"last\")]\n",
    "model_nn = Model(layers)\n",
    "model_lr = Model([Affine(\"logits\", 784, 1), Sigmoid(\"sigmoid\")])"
   ]
  },
  {
   "cell_type": "code",
   "execution_count": 20,
   "id": "6eede77a",
   "metadata": {
    "execution": {
     "iopub.execute_input": "2021-11-11T10:10:19.426620Z",
     "iopub.status.busy": "2021-11-11T10:10:19.425963Z",
     "iopub.status.idle": "2021-11-11T10:10:19.440534Z",
     "shell.execute_reply": "2021-11-11T10:10:19.441112Z"
    },
    "papermill": {
     "duration": 0.055529,
     "end_time": "2021-11-11T10:10:19.441300",
     "exception": false,
     "start_time": "2021-11-11T10:10:19.385771",
     "status": "completed"
    },
    "tags": []
   },
   "outputs": [],
   "source": [
    "nn_learner = Learner(loss, model_nn, opt, config.num_epochs)\n",
    "acc_nn = ClfCallback(nn_learner, config.bs, training_data_x , testing_data_x, training_data_y, testing_data_y)\n",
    "nn_learner.set_callbacks([acc_nn])"
   ]
  },
  {
   "cell_type": "code",
   "execution_count": 21,
   "id": "877b6cc7",
   "metadata": {
    "execution": {
     "iopub.execute_input": "2021-11-11T10:10:19.528127Z",
     "iopub.status.busy": "2021-11-11T10:10:19.522345Z",
     "iopub.status.idle": "2021-11-11T10:10:19.534110Z",
     "shell.execute_reply": "2021-11-11T10:10:19.533538Z"
    },
    "papermill": {
     "duration": 0.055166,
     "end_time": "2021-11-11T10:10:19.534258",
     "exception": false,
     "start_time": "2021-11-11T10:10:19.479092",
     "status": "completed"
    },
    "tags": []
   },
   "outputs": [],
   "source": [
    "lr_learner = Learner(loss, model_lr, opt, config.num_epochs)\n",
    "acc_lr = ClfCallback(lr_learner, config.bs, training_data_x , testing_data_x, training_data_y, testing_data_y)\n",
    "lr_learner.set_callbacks([acc_lr])"
   ]
  },
  {
   "cell_type": "code",
   "execution_count": 22,
   "id": "d9b133c3",
   "metadata": {
    "execution": {
     "iopub.execute_input": "2021-11-11T10:10:19.611231Z",
     "iopub.status.busy": "2021-11-11T10:10:19.610575Z",
     "iopub.status.idle": "2021-11-11T10:12:32.050923Z",
     "shell.execute_reply": "2021-11-11T10:12:32.051837Z"
    },
    "papermill": {
     "duration": 132.482666,
     "end_time": "2021-11-11T10:12:32.052018",
     "exception": false,
     "start_time": "2021-11-11T10:10:19.569352",
     "status": "completed"
    },
    "tags": []
   },
   "outputs": [
    {
     "name": "stdout",
     "output_type": "stream",
     "text": [
      "Epoch 0, Loss 0.2647\n",
      "Training Accuracy: 0.6521, Testing Accuracy: 0.6754\n",
      "\n"
     ]
    },
    {
     "name": "stdout",
     "output_type": "stream",
     "text": [
      "Epoch 10, Loss 0.0673\n",
      "Training Accuracy: 0.9366, Testing Accuracy: 0.9491\n",
      "\n"
     ]
    },
    {
     "name": "stdout",
     "output_type": "stream",
     "text": [
      "Epoch 20, Loss 0.0451\n",
      "Training Accuracy: 0.9529, Testing Accuracy: 0.9592\n",
      "\n"
     ]
    },
    {
     "name": "stdout",
     "output_type": "stream",
     "text": [
      "Epoch 30, Loss 0.0373\n",
      "Training Accuracy: 0.9589, Testing Accuracy: 0.9657\n",
      "\n"
     ]
    },
    {
     "name": "stdout",
     "output_type": "stream",
     "text": [
      "Epoch 40, Loss 0.0332\n",
      "Training Accuracy: 0.9631, Testing Accuracy: 0.9682\n",
      "\n"
     ]
    },
    {
     "name": "stdout",
     "output_type": "stream",
     "text": [
      "Epoch 50, Loss 0.0305\n",
      "Training Accuracy: 0.9644, Testing Accuracy: 0.9703\n",
      "\n"
     ]
    },
    {
     "name": "stdout",
     "output_type": "stream",
     "text": [
      "Epoch 60, Loss 0.0286\n",
      "Training Accuracy: 0.9672, Testing Accuracy: 0.9693\n",
      "\n"
     ]
    },
    {
     "name": "stdout",
     "output_type": "stream",
     "text": [
      "Epoch 70, Loss 0.027\n",
      "Training Accuracy: 0.9691, Testing Accuracy: 0.9688\n",
      "\n"
     ]
    },
    {
     "name": "stdout",
     "output_type": "stream",
     "text": [
      "Epoch 80, Loss 0.0258\n",
      "Training Accuracy: 0.9705, Testing Accuracy: 0.9693\n",
      "\n"
     ]
    },
    {
     "name": "stdout",
     "output_type": "stream",
     "text": [
      "Epoch 90, Loss 0.0247\n",
      "Training Accuracy: 0.9721, Testing Accuracy: 0.9688\n",
      "\n"
     ]
    },
    {
     "name": "stdout",
     "output_type": "stream",
     "text": [
      "Epoch 100, Loss 0.0238\n",
      "Training Accuracy: 0.9730, Testing Accuracy: 0.9708\n",
      "\n"
     ]
    },
    {
     "name": "stdout",
     "output_type": "stream",
     "text": [
      "Epoch 110, Loss 0.023\n",
      "Training Accuracy: 0.9736, Testing Accuracy: 0.9708\n",
      "\n"
     ]
    },
    {
     "name": "stdout",
     "output_type": "stream",
     "text": [
      "Epoch 120, Loss 0.0222\n",
      "Training Accuracy: 0.9751, Testing Accuracy: 0.9703\n",
      "\n"
     ]
    },
    {
     "name": "stdout",
     "output_type": "stream",
     "text": [
      "Epoch 130, Loss 0.0215\n",
      "Training Accuracy: 0.9756, Testing Accuracy: 0.9708\n",
      "\n"
     ]
    },
    {
     "name": "stdout",
     "output_type": "stream",
     "text": [
      "Epoch 140, Loss 0.0209\n",
      "Training Accuracy: 0.9759, Testing Accuracy: 0.9713\n",
      "\n"
     ]
    },
    {
     "name": "stdout",
     "output_type": "stream",
     "text": [
      "Epoch 150, Loss 0.0203\n",
      "Training Accuracy: 0.9765, Testing Accuracy: 0.9708\n",
      "\n"
     ]
    },
    {
     "name": "stdout",
     "output_type": "stream",
     "text": [
      "Epoch 160, Loss 0.0198\n",
      "Training Accuracy: 0.9771, Testing Accuracy: 0.9718\n",
      "\n"
     ]
    },
    {
     "name": "stdout",
     "output_type": "stream",
     "text": [
      "Epoch 170, Loss 0.0193\n",
      "Training Accuracy: 0.9778, Testing Accuracy: 0.9723\n",
      "\n"
     ]
    },
    {
     "name": "stdout",
     "output_type": "stream",
     "text": [
      "Epoch 180, Loss 0.0188\n",
      "Training Accuracy: 0.9790, Testing Accuracy: 0.9733\n",
      "\n"
     ]
    },
    {
     "name": "stdout",
     "output_type": "stream",
     "text": [
      "Epoch 190, Loss 0.0183\n",
      "Training Accuracy: 0.9795, Testing Accuracy: 0.9738\n",
      "\n"
     ]
    },
    {
     "name": "stdout",
     "output_type": "stream",
     "text": [
      "Epoch 200, Loss 0.0179\n",
      "Training Accuracy: 0.9802, Testing Accuracy: 0.9738\n",
      "\n"
     ]
    },
    {
     "name": "stdout",
     "output_type": "stream",
     "text": [
      "Epoch 210, Loss 0.0175\n",
      "Training Accuracy: 0.9810, Testing Accuracy: 0.9748\n",
      "\n"
     ]
    },
    {
     "name": "stdout",
     "output_type": "stream",
     "text": [
      "Epoch 220, Loss 0.017\n",
      "Training Accuracy: 0.9822, Testing Accuracy: 0.9753\n",
      "\n"
     ]
    },
    {
     "name": "stdout",
     "output_type": "stream",
     "text": [
      "Epoch 230, Loss 0.0167\n",
      "Training Accuracy: 0.9825, Testing Accuracy: 0.9758\n",
      "\n"
     ]
    },
    {
     "name": "stdout",
     "output_type": "stream",
     "text": [
      "Epoch 240, Loss 0.0163\n",
      "Training Accuracy: 0.9830, Testing Accuracy: 0.9753\n",
      "\n"
     ]
    },
    {
     "data": {
      "text/plain": [
       "0.0009367566984642701"
      ]
     },
     "execution_count": 22,
     "metadata": {},
     "output_type": "execute_result"
    }
   ],
   "source": [
    "nn_learner.train_loop(dl)"
   ]
  },
  {
   "cell_type": "code",
   "execution_count": 23,
   "id": "e0163366",
   "metadata": {
    "execution": {
     "iopub.execute_input": "2021-11-11T10:12:32.156337Z",
     "iopub.status.busy": "2021-11-11T10:12:32.155565Z",
     "iopub.status.idle": "2021-11-11T10:12:51.202003Z",
     "shell.execute_reply": "2021-11-11T10:12:51.202881Z"
    },
    "papermill": {
     "duration": 19.106114,
     "end_time": "2021-11-11T10:12:51.203058",
     "exception": false,
     "start_time": "2021-11-11T10:12:32.096944",
     "status": "completed"
    },
    "tags": []
   },
   "outputs": [
    {
     "name": "stdout",
     "output_type": "stream",
     "text": [
      "Epoch 0, Loss 0.2468\n",
      "Training Accuracy: 0.6572, Testing Accuracy: 0.6270\n",
      "\n"
     ]
    },
    {
     "name": "stdout",
     "output_type": "stream",
     "text": [
      "Epoch 10, Loss 0.1067\n",
      "Training Accuracy: 0.9010, Testing Accuracy: 0.9123\n",
      "\n"
     ]
    },
    {
     "name": "stdout",
     "output_type": "stream",
     "text": [
      "Epoch 20, Loss 0.0812\n",
      "Training Accuracy: 0.9231, Testing Accuracy: 0.9335\n",
      "\n"
     ]
    },
    {
     "name": "stdout",
     "output_type": "stream",
     "text": [
      "Epoch 30, Loss 0.0694\n",
      "Training Accuracy: 0.9346, Testing Accuracy: 0.9441\n",
      "\n"
     ]
    },
    {
     "name": "stdout",
     "output_type": "stream",
     "text": [
      "Epoch 40, Loss 0.0624\n",
      "Training Accuracy: 0.9389, Testing Accuracy: 0.9486\n",
      "\n"
     ]
    },
    {
     "name": "stdout",
     "output_type": "stream",
     "text": [
      "Epoch 50, Loss 0.0576\n",
      "Training Accuracy: 0.9433, Testing Accuracy: 0.9561\n",
      "\n"
     ]
    },
    {
     "name": "stdout",
     "output_type": "stream",
     "text": [
      "Epoch 60, Loss 0.0541\n",
      "Training Accuracy: 0.9468, Testing Accuracy: 0.9561\n",
      "\n"
     ]
    },
    {
     "name": "stdout",
     "output_type": "stream",
     "text": [
      "Epoch 70, Loss 0.0515\n",
      "Training Accuracy: 0.9484, Testing Accuracy: 0.9582\n",
      "\n"
     ]
    },
    {
     "name": "stdout",
     "output_type": "stream",
     "text": [
      "Epoch 80, Loss 0.0494\n",
      "Training Accuracy: 0.9501, Testing Accuracy: 0.9592\n",
      "\n"
     ]
    },
    {
     "name": "stdout",
     "output_type": "stream",
     "text": [
      "Epoch 90, Loss 0.0476\n",
      "Training Accuracy: 0.9515, Testing Accuracy: 0.9612\n",
      "\n"
     ]
    },
    {
     "name": "stdout",
     "output_type": "stream",
     "text": [
      "Epoch 100, Loss 0.0461\n",
      "Training Accuracy: 0.9533, Testing Accuracy: 0.9622\n",
      "\n"
     ]
    },
    {
     "name": "stdout",
     "output_type": "stream",
     "text": [
      "Epoch 110, Loss 0.0449\n",
      "Training Accuracy: 0.9541, Testing Accuracy: 0.9627\n",
      "\n"
     ]
    },
    {
     "name": "stdout",
     "output_type": "stream",
     "text": [
      "Epoch 120, Loss 0.0438\n",
      "Training Accuracy: 0.9548, Testing Accuracy: 0.9627\n",
      "\n"
     ]
    },
    {
     "name": "stdout",
     "output_type": "stream",
     "text": [
      "Epoch 130, Loss 0.0429\n",
      "Training Accuracy: 0.9559, Testing Accuracy: 0.9632\n",
      "\n"
     ]
    },
    {
     "name": "stdout",
     "output_type": "stream",
     "text": [
      "Epoch 140, Loss 0.042\n",
      "Training Accuracy: 0.9565, Testing Accuracy: 0.9637\n",
      "\n"
     ]
    },
    {
     "name": "stdout",
     "output_type": "stream",
     "text": [
      "Epoch 150, Loss 0.0413\n",
      "Training Accuracy: 0.9569, Testing Accuracy: 0.9652\n",
      "\n"
     ]
    },
    {
     "name": "stdout",
     "output_type": "stream",
     "text": [
      "Epoch 160, Loss 0.0406\n",
      "Training Accuracy: 0.9579, Testing Accuracy: 0.9652\n",
      "\n"
     ]
    },
    {
     "name": "stdout",
     "output_type": "stream",
     "text": [
      "Epoch 170, Loss 0.04\n",
      "Training Accuracy: 0.9584, Testing Accuracy: 0.9657\n",
      "\n"
     ]
    },
    {
     "name": "stdout",
     "output_type": "stream",
     "text": [
      "Epoch 180, Loss 0.0394\n",
      "Training Accuracy: 0.9589, Testing Accuracy: 0.9657\n",
      "\n"
     ]
    },
    {
     "name": "stdout",
     "output_type": "stream",
     "text": [
      "Epoch 190, Loss 0.0389\n",
      "Training Accuracy: 0.9589, Testing Accuracy: 0.9662\n",
      "\n"
     ]
    },
    {
     "name": "stdout",
     "output_type": "stream",
     "text": [
      "Epoch 200, Loss 0.0384\n",
      "Training Accuracy: 0.9593, Testing Accuracy: 0.9662\n",
      "\n"
     ]
    },
    {
     "name": "stdout",
     "output_type": "stream",
     "text": [
      "Epoch 210, Loss 0.0379\n",
      "Training Accuracy: 0.9594, Testing Accuracy: 0.9667\n",
      "\n"
     ]
    },
    {
     "name": "stdout",
     "output_type": "stream",
     "text": [
      "Epoch 220, Loss 0.0375\n",
      "Training Accuracy: 0.9598, Testing Accuracy: 0.9672\n",
      "\n"
     ]
    },
    {
     "name": "stdout",
     "output_type": "stream",
     "text": [
      "Epoch 230, Loss 0.0371\n",
      "Training Accuracy: 0.9601, Testing Accuracy: 0.9667\n",
      "\n"
     ]
    },
    {
     "name": "stdout",
     "output_type": "stream",
     "text": [
      "Epoch 240, Loss 0.0368\n",
      "Training Accuracy: 0.9604, Testing Accuracy: 0.9667\n",
      "\n"
     ]
    },
    {
     "data": {
      "text/plain": [
       "0.0910208985225646"
      ]
     },
     "execution_count": 23,
     "metadata": {},
     "output_type": "execute_result"
    }
   ],
   "source": [
    "lr_learner.train_loop(dl)"
   ]
  },
  {
   "cell_type": "code",
   "execution_count": 24,
   "id": "ca410940",
   "metadata": {
    "execution": {
     "iopub.execute_input": "2021-11-11T10:12:51.313818Z",
     "iopub.status.busy": "2021-11-11T10:12:51.313108Z",
     "iopub.status.idle": "2021-11-11T10:12:51.632622Z",
     "shell.execute_reply": "2021-11-11T10:12:51.633283Z"
    },
    "papermill": {
     "duration": 0.377403,
     "end_time": "2021-11-11T10:12:51.633496",
     "exception": false,
     "start_time": "2021-11-11T10:12:51.256093",
     "status": "completed"
    },
    "tags": []
   },
   "outputs": [
    {
     "data": {
      "text/plain": [
       "<matplotlib.legend.Legend at 0x7f17d3e57780>"
      ]
     },
     "execution_count": 24,
     "metadata": {},
     "output_type": "execute_result"
    },
    {
     "data": {
      "image/png": "[encoded data removed]",
      "text/plain": [
       "<Figure size 1080x720 with 1 Axes>"
      ]
     },
     "metadata": {
      "needs_background": "light"
     },
     "output_type": "display_data"
    }
   ],
   "source": [
    "#comparing the results of NN and LR\n",
    "plt.figure(figsize=(15,10))\n",
    "\n",
    "# Neural Network plots\n",
    "plt.plot(acc_nn.accuracies, 'r-', label = \"Training Accuracies - NN\")\n",
    "plt.plot(acc_nn.test_accuracies, 'g-', label = \"Testing Accuracies - NN\")\n",
    "\n",
    "# Logistic Regression plots\n",
    "plt.plot(acc_lr.accuracies, 'k-', label = \"Training Accuracies - LR\")\n",
    "plt.plot(acc_lr.test_accuracies, 'b-', label = \"Testing Accuracies - LR\")\n",
    "plt.legend()"
   ]
  },
  {
   "cell_type": "markdown",
   "id": "80dfb35c",
   "metadata": {
    "papermill": {
     "duration": 0.057391,
     "end_time": "2021-11-11T10:12:51.754164",
     "exception": false,
     "start_time": "2021-11-11T10:12:51.696773",
     "status": "completed"
    },
    "tags": []
   },
   "source": [
    "#### Plotting the outputs of this layer of the NN.\n"
   ]
  },
  {
   "cell_type": "code",
   "execution_count": 25,
   "id": "45eb2ff5",
   "metadata": {
    "execution": {
     "iopub.execute_input": "2021-11-11T10:12:51.869600Z",
     "iopub.status.busy": "2021-11-11T10:12:51.868888Z",
     "iopub.status.idle": "2021-11-11T10:12:51.896392Z",
     "shell.execute_reply": "2021-11-11T10:12:51.896948Z"
    },
    "papermill": {
     "duration": 0.089286,
     "end_time": "2021-11-11T10:12:51.897127",
     "exception": false,
     "start_time": "2021-11-11T10:12:51.807841",
     "status": "completed"
    },
    "tags": []
   },
   "outputs": [],
   "source": [
    "new_model = Model(layers[:-2])\n",
    "testing_plot = new_model(testing_data_x)"
   ]
  },
  {
   "cell_type": "code",
   "execution_count": 26,
   "id": "4c0a5485",
   "metadata": {
    "execution": {
     "iopub.execute_input": "2021-11-11T10:12:52.018061Z",
     "iopub.status.busy": "2021-11-11T10:12:52.015109Z",
     "iopub.status.idle": "2021-11-11T10:12:52.280574Z",
     "shell.execute_reply": "2021-11-11T10:12:52.280021Z"
    },
    "papermill": {
     "duration": 0.328775,
     "end_time": "2021-11-11T10:12:52.280728",
     "exception": false,
     "start_time": "2021-11-11T10:12:51.951953",
     "status": "completed"
    },
    "tags": []
   },
   "outputs": [
    {
     "data": {
      "text/plain": [
       "Text(0.5, 1.0, 'Outputs')"
      ]
     },
     "execution_count": 26,
     "metadata": {},
     "output_type": "execute_result"
    },
    {
     "data": {
      "image/png": "[encoded data removed]",
      "text/plain": [
       "<Figure size 576x504 with 1 Axes>"
      ]
     },
     "metadata": {
      "needs_background": "light"
     },
     "output_type": "display_data"
    }
   ],
   "source": [
    "# Plotting the scatter plot of points and color coding by class\n",
    "plt.figure(figsize=(8,7))\n",
    "plt.scatter(testing_plot[:,0], testing_plot[:,1], alpha = 0.1, c = y_test.ravel());\n",
    "plt.title('Outputs')"
   ]
  },
  {
   "cell_type": "markdown",
   "id": "a74fcf8f",
   "metadata": {
    "papermill": {
     "duration": 0.059019,
     "end_time": "2021-11-11T10:12:52.403424",
     "exception": false,
     "start_time": "2021-11-11T10:12:52.344405",
     "status": "completed"
    },
    "tags": []
   },
   "source": [
    "Probability contours"
   ]
  },
  {
   "cell_type": "code",
   "execution_count": 27,
   "id": "d0afc8e3",
   "metadata": {
    "execution": {
     "iopub.execute_input": "2021-11-11T10:12:52.556458Z",
     "iopub.status.busy": "2021-11-11T10:12:52.555803Z",
     "iopub.status.idle": "2021-11-11T10:12:52.571497Z",
     "shell.execute_reply": "2021-11-11T10:12:52.572130Z"
    },
    "papermill": {
     "duration": 0.076868,
     "end_time": "2021-11-11T10:12:52.572298",
     "exception": false,
     "start_time": "2021-11-11T10:12:52.495430",
     "status": "completed"
    },
    "tags": []
   },
   "outputs": [],
   "source": [
    "model_prob = Model(layers[-2:]) "
   ]
  },
  {
   "cell_type": "code",
   "execution_count": 28,
   "id": "9b96e238",
   "metadata": {
    "execution": {
     "iopub.execute_input": "2021-11-11T10:12:52.705445Z",
     "iopub.status.busy": "2021-11-11T10:12:52.704354Z",
     "iopub.status.idle": "2021-11-11T10:12:52.720028Z",
     "shell.execute_reply": "2021-11-11T10:12:52.720548Z"
    },
    "papermill": {
     "duration": 0.080567,
     "end_time": "2021-11-11T10:12:52.720720",
     "exception": false,
     "start_time": "2021-11-11T10:12:52.640153",
     "status": "completed"
    },
    "tags": []
   },
   "outputs": [],
   "source": [
    "#creating the x and y ranges according to the above generated plot.\n",
    "x_range = np.linspace(-4, 1, 100) \n",
    "y_range = np.linspace(-6, 6, 100) \n",
    "x_grid, y_grid = np.meshgrid(x_range, y_range) # x_grid and y_grig are of size 100 X 100\n",
    "\n",
    "# converting x_grid and y_grid to continuous arrays\n",
    "x_gridflat = np.ravel(x_grid)\n",
    "y_gridflat = np.ravel(y_grid)\n",
    "\n",
    "# The last layer of the current model takes two columns as input. Hence transpose of np.vstack() is required.\n",
    "X = np.vstack((x_gridflat, y_gridflat)).T\n",
    "\n",
    "prob_contour = model_prob(X).reshape(100,100) "
   ]
  },
  {
   "cell_type": "code",
   "execution_count": 29,
   "id": "da72499a",
   "metadata": {
    "execution": {
     "iopub.execute_input": "2021-11-11T10:12:52.842870Z",
     "iopub.status.busy": "2021-11-11T10:12:52.842184Z",
     "iopub.status.idle": "2021-11-11T10:12:53.149388Z",
     "shell.execute_reply": "2021-11-11T10:12:53.149975Z"
    },
    "papermill": {
     "duration": 0.371292,
     "end_time": "2021-11-11T10:12:53.150164",
     "exception": false,
     "start_time": "2021-11-11T10:12:52.778872",
     "status": "completed"
    },
    "tags": []
   },
   "outputs": [
    {
     "data": {
      "image/png": "[encoded data removed]",
      "text/plain": [
       "<Figure size 720x648 with 1 Axes>"
      ]
     },
     "metadata": {
      "needs_background": "light"
     },
     "output_type": "display_data"
    }
   ],
   "source": [
    "plt.figure(figsize=(10,9))\n",
    "plt.scatter(testing_plot[:,0], testing_plot[:,1], alpha = 0.1, c = y_test.ravel())\n",
    "contours = plt.contour(x_grid,y_grid,prob_contour)\n",
    "plt.title('Probability Contours')\n",
    "plt.clabel(contours, inline = True );"
   ]
  },
  {
   "cell_type": "code",
   "execution_count": null,
   "id": "e81b4ac7",
   "metadata": {
    "papermill": {
     "duration": 0.061166,
     "end_time": "2021-11-11T10:12:53.270376",
     "exception": false,
     "start_time": "2021-11-11T10:12:53.209210",
     "status": "completed"
    },
    "tags": []
   },
   "outputs": [],
   "source": []
  }
 ],
 "metadata": {
  "kernelspec": {
   "display_name": "Python 3",
   "language": "python",
   "name": "python3"
  },
  "language_info": {
   "codemirror_mode": {
    "name": "ipython",
    "version": 3
   },
   "file_extension": ".py",
   "mimetype": "text/x-python",
   "name": "python",
   "nbconvert_exporter": "python",
   "pygments_lexer": "ipython3",
   "version": "3.6.15"
  },
  "papermill": {
   "default_parameters": {},
   "duration": 162.582152,
   "end_time": "2021-11-11T10:12:53.740903",
   "environment_variables": {},
   "exception": null,
   "input_path": "2020-08-11-part2.ipynb",
   "output_path": "2020-08-11-part2.ipynb",
   "parameters": {},
   "start_time": "2021-11-11T10:10:11.158751",
   "version": "2.3.3"
  }
 },
 "nbformat": 4,
 "nbformat_minor": 5
}