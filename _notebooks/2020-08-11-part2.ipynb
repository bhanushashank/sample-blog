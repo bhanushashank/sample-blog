{
 "cells": [
  {
   "cell_type": "markdown",
   "id": "98380cd3",
   "metadata": {
    "papermill": {
     "duration": 0.033435,
     "end_time": "2021-09-23T10:07:16.211575",
     "exception": false,
     "start_time": "2021-09-23T10:07:16.178140",
     "status": "completed"
    },
    "tags": []
   },
   "source": [
    "# Distinguish Your Own Digits (DYOD)"
   ]
  },
  {
   "cell_type": "markdown",
   "id": "ef31240d",
   "metadata": {
    "papermill": {
     "duration": 0.025577,
     "end_time": "2021-09-23T10:07:16.263117",
     "exception": false,
     "start_time": "2021-09-23T10:07:16.237540",
     "status": "completed"
    },
    "tags": []
   },
   "source": [
    "You are going to write a classifier that distinguishes between the number 3 and number 8."
   ]
  },
  {
   "cell_type": "code",
   "execution_count": 1,
   "id": "b15c8646",
   "metadata": {
    "execution": {
     "iopub.execute_input": "2021-09-23T10:07:16.327556Z",
     "iopub.status.busy": "2021-09-23T10:07:16.326939Z",
     "iopub.status.idle": "2021-09-23T10:07:16.338566Z",
     "shell.execute_reply": "2021-09-23T10:07:16.338062Z"
    },
    "papermill": {
     "duration": 0.050373,
     "end_time": "2021-09-23T10:07:16.338711",
     "exception": false,
     "start_time": "2021-09-23T10:07:16.288338",
     "status": "completed"
    },
    "tags": []
   },
   "outputs": [],
   "source": [
    "%load_ext autoreload\n",
    "%autoreload 2"
   ]
  },
  {
   "cell_type": "code",
   "execution_count": 2,
   "id": "22ef38dc",
   "metadata": {
    "execution": {
     "iopub.execute_input": "2021-09-23T10:07:16.396594Z",
     "iopub.status.busy": "2021-09-23T10:07:16.395994Z",
     "iopub.status.idle": "2021-09-23T10:07:16.979691Z",
     "shell.execute_reply": "2021-09-23T10:07:16.979123Z"
    },
    "papermill": {
     "duration": 0.615426,
     "end_time": "2021-09-23T10:07:16.979839",
     "exception": false,
     "start_time": "2021-09-23T10:07:16.364413",
     "status": "completed"
    },
    "tags": []
   },
   "outputs": [],
   "source": [
    "%matplotlib inline\n",
    "import numpy as np\n",
    "import matplotlib.pyplot as plt\n",
    "import pandas as pd"
   ]
  },
  {
   "cell_type": "markdown",
   "id": "ba036198",
   "metadata": {
    "papermill": {
     "duration": 0.026791,
     "end_time": "2021-09-23T10:07:17.033783",
     "exception": false,
     "start_time": "2021-09-23T10:07:17.006992",
     "status": "completed"
    },
    "tags": []
   },
   "source": [
    "From the command line run `pip install mnist`. This is a library that will help you bring down the mnist dataset. If you run this from a notebook, you need to put  `!pip install mnist` in a cell by itself."
   ]
  },
  {
   "cell_type": "code",
   "execution_count": 3,
   "id": "bb6ad8a1",
   "metadata": {
    "execution": {
     "iopub.execute_input": "2021-09-23T10:07:17.094920Z",
     "iopub.status.busy": "2021-09-23T10:07:17.091959Z",
     "iopub.status.idle": "2021-09-23T10:07:18.916580Z",
     "shell.execute_reply": "2021-09-23T10:07:18.915465Z"
    },
    "papermill": {
     "duration": 1.856474,
     "end_time": "2021-09-23T10:07:18.916723",
     "exception": false,
     "start_time": "2021-09-23T10:07:17.060249",
     "status": "completed"
    },
    "tags": []
   },
   "outputs": [
    {
     "name": "stdout",
     "output_type": "stream",
     "text": [
      "Collecting mnist\r\n"
     ]
    },
    {
     "name": "stdout",
     "output_type": "stream",
     "text": [
      "  Downloading mnist-0.2.2-py2.py3-none-any.whl (3.5 kB)\r\n",
      "Requirement already satisfied: numpy in /opt/hostedtoolcache/Python/3.6.15/x64/lib/python3.6/site-packages (from mnist) (1.19.5)\r\n"
     ]
    },
    {
     "name": "stdout",
     "output_type": "stream",
     "text": [
      "Installing collected packages: mnist\r\n",
      "Successfully installed mnist-0.2.2\r\n"
     ]
    }
   ],
   "source": [
    "!pip install mnist"
   ]
  },
  {
   "cell_type": "markdown",
   "id": "69df9c9a",
   "metadata": {
    "papermill": {
     "duration": 0.026204,
     "end_time": "2021-09-23T10:07:18.969576",
     "exception": false,
     "start_time": "2021-09-23T10:07:18.943372",
     "status": "completed"
    },
    "tags": []
   },
   "source": [
    "## Preparing the Data"
   ]
  },
  {
   "cell_type": "code",
   "execution_count": 4,
   "id": "7f69d806",
   "metadata": {
    "execution": {
     "iopub.execute_input": "2021-09-23T10:07:19.028034Z",
     "iopub.status.busy": "2021-09-23T10:07:19.027433Z",
     "iopub.status.idle": "2021-09-23T10:07:19.044336Z",
     "shell.execute_reply": "2021-09-23T10:07:19.043846Z"
    },
    "papermill": {
     "duration": 0.047992,
     "end_time": "2021-09-23T10:07:19.044474",
     "exception": false,
     "start_time": "2021-09-23T10:07:18.996482",
     "status": "completed"
    },
    "tags": []
   },
   "outputs": [],
   "source": [
    "import mnist"
   ]
  },
  {
   "cell_type": "code",
   "execution_count": 5,
   "id": "a411e44f",
   "metadata": {
    "execution": {
     "iopub.execute_input": "2021-09-23T10:07:19.101778Z",
     "iopub.status.busy": "2021-09-23T10:07:19.101227Z",
     "iopub.status.idle": "2021-09-23T10:07:19.700164Z",
     "shell.execute_reply": "2021-09-23T10:07:19.699076Z"
    },
    "papermill": {
     "duration": 0.6293,
     "end_time": "2021-09-23T10:07:19.700313",
     "exception": false,
     "start_time": "2021-09-23T10:07:19.071013",
     "status": "completed"
    },
    "tags": []
   },
   "outputs": [],
   "source": [
    "train_images = mnist.train_images()\n",
    "train_labels = mnist.train_labels()"
   ]
  },
  {
   "cell_type": "code",
   "execution_count": 6,
   "id": "dceab3a5",
   "metadata": {
    "execution": {
     "iopub.execute_input": "2021-09-23T10:07:19.763781Z",
     "iopub.status.busy": "2021-09-23T10:07:19.760695Z",
     "iopub.status.idle": "2021-09-23T10:07:19.775511Z",
     "shell.execute_reply": "2021-09-23T10:07:19.775022Z"
    },
    "papermill": {
     "duration": 0.046321,
     "end_time": "2021-09-23T10:07:19.775635",
     "exception": false,
     "start_time": "2021-09-23T10:07:19.729314",
     "status": "completed"
    },
    "tags": []
   },
   "outputs": [
    {
     "data": {
      "text/plain": [
       "((60000, 28, 28), (60000,))"
      ]
     },
     "execution_count": 6,
     "metadata": {},
     "output_type": "execute_result"
    }
   ],
   "source": [
    "train_images.shape, train_labels.shape"
   ]
  },
  {
   "cell_type": "code",
   "execution_count": 7,
   "id": "f50dc2bb",
   "metadata": {
    "execution": {
     "iopub.execute_input": "2021-09-23T10:07:19.835399Z",
     "iopub.status.busy": "2021-09-23T10:07:19.834838Z",
     "iopub.status.idle": "2021-09-23T10:07:19.956983Z",
     "shell.execute_reply": "2021-09-23T10:07:19.957496Z"
    },
    "papermill": {
     "duration": 0.154672,
     "end_time": "2021-09-23T10:07:19.957651",
     "exception": false,
     "start_time": "2021-09-23T10:07:19.802979",
     "status": "completed"
    },
    "tags": []
   },
   "outputs": [],
   "source": [
    "test_images = mnist.test_images()\n",
    "test_labels = mnist.test_labels()"
   ]
  },
  {
   "cell_type": "code",
   "execution_count": 8,
   "id": "fc38cf1b",
   "metadata": {
    "execution": {
     "iopub.execute_input": "2021-09-23T10:07:20.015585Z",
     "iopub.status.busy": "2021-09-23T10:07:20.014982Z",
     "iopub.status.idle": "2021-09-23T10:07:20.031831Z",
     "shell.execute_reply": "2021-09-23T10:07:20.030622Z"
    },
    "papermill": {
     "duration": 0.047314,
     "end_time": "2021-09-23T10:07:20.031956",
     "exception": false,
     "start_time": "2021-09-23T10:07:19.984642",
     "status": "completed"
    },
    "tags": []
   },
   "outputs": [
    {
     "data": {
      "text/plain": [
       "((10000, 28, 28), (10000,))"
      ]
     },
     "execution_count": 8,
     "metadata": {},
     "output_type": "execute_result"
    }
   ],
   "source": [
    "test_images.shape, test_labels.shape"
   ]
  },
  {
   "cell_type": "code",
   "execution_count": 9,
   "id": "f9ed8fe0",
   "metadata": {
    "execution": {
     "iopub.execute_input": "2021-09-23T10:07:20.092212Z",
     "iopub.status.busy": "2021-09-23T10:07:20.090553Z",
     "iopub.status.idle": "2021-09-23T10:07:20.245565Z",
     "shell.execute_reply": "2021-09-23T10:07:20.246034Z"
    },
    "papermill": {
     "duration": 0.186996,
     "end_time": "2021-09-23T10:07:20.246215",
     "exception": false,
     "start_time": "2021-09-23T10:07:20.059219",
     "status": "completed"
    },
    "tags": []
   },
   "outputs": [
    {
     "name": "stdout",
     "output_type": "stream",
     "text": [
      "2\n"
     ]
    },
    {
     "data": {
      "text/plain": [
       "<matplotlib.image.AxesImage at 0x7f49c57c5898>"
      ]
     },
     "execution_count": 9,
     "metadata": {},
     "output_type": "execute_result"
    },
    {
     "data": {
      "image/png": "[encoded data removed]",
      "text/plain": [
       "<Figure size 432x288 with 1 Axes>"
      ]
     },
     "metadata": {
      "needs_background": "light"
     },
     "output_type": "display_data"
    }
   ],
   "source": [
    "image_index = 7776 # You may select anything up to 60,000\n",
    "print(train_labels[image_index]) \n",
    "plt.imshow(train_images[image_index], cmap='Greys')"
   ]
  },
  {
   "cell_type": "markdown",
   "id": "a8d2388d",
   "metadata": {
    "papermill": {
     "duration": 0.029434,
     "end_time": "2021-09-23T10:07:20.304486",
     "exception": false,
     "start_time": "2021-09-23T10:07:20.275052",
     "status": "completed"
    },
    "tags": []
   },
   "source": [
    "## Filter data to get 3 and 8 out"
   ]
  },
  {
   "cell_type": "code",
   "execution_count": 10,
   "id": "776f7fc7",
   "metadata": {
    "execution": {
     "iopub.execute_input": "2021-09-23T10:07:20.375142Z",
     "iopub.status.busy": "2021-09-23T10:07:20.368597Z",
     "iopub.status.idle": "2021-09-23T10:07:20.386886Z",
     "shell.execute_reply": "2021-09-23T10:07:20.387373Z"
    },
    "papermill": {
     "duration": 0.053888,
     "end_time": "2021-09-23T10:07:20.387523",
     "exception": false,
     "start_time": "2021-09-23T10:07:20.333635",
     "status": "completed"
    },
    "tags": []
   },
   "outputs": [],
   "source": [
    "train_filter = np.where((train_labels == 3 ) | (train_labels == 8))\n",
    "test_filter = np.where((test_labels == 3) | (test_labels == 8))\n",
    "X_train, y_train = train_images[train_filter], train_labels[train_filter]\n",
    "X_test, y_test = test_images[test_filter], test_labels[test_filter]"
   ]
  },
  {
   "cell_type": "markdown",
   "id": "948f0b7e",
   "metadata": {
    "papermill": {
     "duration": 0.02909,
     "end_time": "2021-09-23T10:07:20.446845",
     "exception": false,
     "start_time": "2021-09-23T10:07:20.417755",
     "status": "completed"
    },
    "tags": []
   },
   "source": [
    "We normalize the pizel values in the 0 to 1 range"
   ]
  },
  {
   "cell_type": "code",
   "execution_count": 11,
   "id": "ee4c2166",
   "metadata": {
    "execution": {
     "iopub.execute_input": "2021-09-23T10:07:20.510574Z",
     "iopub.status.busy": "2021-09-23T10:07:20.509912Z",
     "iopub.status.idle": "2021-09-23T10:07:20.565838Z",
     "shell.execute_reply": "2021-09-23T10:07:20.564919Z"
    },
    "papermill": {
     "duration": 0.091224,
     "end_time": "2021-09-23T10:07:20.566049",
     "exception": false,
     "start_time": "2021-09-23T10:07:20.474825",
     "status": "completed"
    },
    "tags": []
   },
   "outputs": [],
   "source": [
    "X_train = X_train/255.\n",
    "X_test = X_test/255."
   ]
  },
  {
   "cell_type": "markdown",
   "id": "ddcf4fab",
   "metadata": {
    "papermill": {
     "duration": 0.028901,
     "end_time": "2021-09-23T10:07:20.626135",
     "exception": false,
     "start_time": "2021-09-23T10:07:20.597234",
     "status": "completed"
    },
    "tags": []
   },
   "source": [
    "And setup the labels as 1 (when the digit is 3) and 0 (when the digit is 8)"
   ]
  },
  {
   "cell_type": "code",
   "execution_count": 12,
   "id": "7dc908f2",
   "metadata": {
    "execution": {
     "iopub.execute_input": "2021-09-23T10:07:20.689553Z",
     "iopub.status.busy": "2021-09-23T10:07:20.688428Z",
     "iopub.status.idle": "2021-09-23T10:07:20.703562Z",
     "shell.execute_reply": "2021-09-23T10:07:20.704127Z"
    },
    "papermill": {
     "duration": 0.049142,
     "end_time": "2021-09-23T10:07:20.704279",
     "exception": false,
     "start_time": "2021-09-23T10:07:20.655137",
     "status": "completed"
    },
    "tags": []
   },
   "outputs": [],
   "source": [
    "y_train = 1*(y_train==3)\n",
    "y_test = 1*(y_test==3)"
   ]
  },
  {
   "cell_type": "code",
   "execution_count": 13,
   "id": "01e4e969",
   "metadata": {
    "execution": {
     "iopub.execute_input": "2021-09-23T10:07:20.771335Z",
     "iopub.status.busy": "2021-09-23T10:07:20.770754Z",
     "iopub.status.idle": "2021-09-23T10:07:20.785617Z",
     "shell.execute_reply": "2021-09-23T10:07:20.786159Z"
    },
    "papermill": {
     "duration": 0.052877,
     "end_time": "2021-09-23T10:07:20.786319",
     "exception": false,
     "start_time": "2021-09-23T10:07:20.733442",
     "status": "completed"
    },
    "tags": []
   },
   "outputs": [
    {
     "data": {
      "text/plain": [
       "((11982, 28, 28), (1984, 28, 28))"
      ]
     },
     "execution_count": 13,
     "metadata": {},
     "output_type": "execute_result"
    }
   ],
   "source": [
    "X_train.shape, X_test.shape"
   ]
  },
  {
   "cell_type": "markdown",
   "id": "5ccf3f85",
   "metadata": {
    "papermill": {
     "duration": 0.02923,
     "end_time": "2021-09-23T10:07:20.844755",
     "exception": false,
     "start_time": "2021-09-23T10:07:20.815525",
     "status": "completed"
    },
    "tags": []
   },
   "source": [
    "We reshape the data to flatten the image pixels into a set of features or co-variates:"
   ]
  },
  {
   "cell_type": "code",
   "execution_count": 14,
   "id": "5286a4a3",
   "metadata": {
    "execution": {
     "iopub.execute_input": "2021-09-23T10:07:20.907240Z",
     "iopub.status.busy": "2021-09-23T10:07:20.906623Z",
     "iopub.status.idle": "2021-09-23T10:07:20.922413Z",
     "shell.execute_reply": "2021-09-23T10:07:20.922874Z"
    },
    "papermill": {
     "duration": 0.049505,
     "end_time": "2021-09-23T10:07:20.923041",
     "exception": false,
     "start_time": "2021-09-23T10:07:20.873536",
     "status": "completed"
    },
    "tags": []
   },
   "outputs": [
    {
     "data": {
      "text/plain": [
       "((11982, 784), (1984, 784))"
      ]
     },
     "execution_count": 14,
     "metadata": {},
     "output_type": "execute_result"
    }
   ],
   "source": [
    "X_train = X_train.reshape(X_train.shape[0], -1)\n",
    "X_test = X_test.reshape(X_test.shape[0], -1)\n",
    "X_train.shape, X_test.shape"
   ]
  },
  {
   "cell_type": "code",
   "execution_count": 15,
   "id": "73c5f88a",
   "metadata": {
    "execution": {
     "iopub.execute_input": "2021-09-23T10:07:20.988385Z",
     "iopub.status.busy": "2021-09-23T10:07:20.987767Z",
     "iopub.status.idle": "2021-09-23T10:07:21.008494Z",
     "shell.execute_reply": "2021-09-23T10:07:21.008021Z"
    },
    "papermill": {
     "duration": 0.055831,
     "end_time": "2021-09-23T10:07:21.008644",
     "exception": false,
     "start_time": "2021-09-23T10:07:20.952813",
     "status": "completed"
    },
    "tags": []
   },
   "outputs": [],
   "source": [
    "#Impoting functions from 'Kudzu'\n",
    "from kudzu.model import Model\n",
    "from kudzu.train import Learner\n",
    "from kudzu.optim import GD\n",
    "from kudzu.data import Data, Sampler,Dataloader\n",
    "\n",
    "from kudzu.callbacks import AccCallback\n",
    "from kudzu.callbacks import ClfCallback\n",
    "\n",
    "from kudzu.loss import MSE\n",
    "\n",
    "from kudzu.layer import Sigmoid,Relu\n",
    "from kudzu.layer import Affine"
   ]
  },
  {
   "cell_type": "markdown",
   "id": "bc01172a",
   "metadata": {
    "papermill": {
     "duration": 0.029488,
     "end_time": "2021-09-23T10:07:21.067612",
     "exception": false,
     "start_time": "2021-09-23T10:07:21.038124",
     "status": "completed"
    },
    "tags": []
   },
   "source": [
    "### Let us create a `Config` class, to store important parameters. \n",
    "This class essentially plays the role of a dictionary."
   ]
  },
  {
   "cell_type": "code",
   "execution_count": 16,
   "id": "978281aa",
   "metadata": {
    "execution": {
     "iopub.execute_input": "2021-09-23T10:07:21.131898Z",
     "iopub.status.busy": "2021-09-23T10:07:21.131285Z",
     "iopub.status.idle": "2021-09-23T10:07:21.147817Z",
     "shell.execute_reply": "2021-09-23T10:07:21.147312Z"
    },
    "papermill": {
     "duration": 0.050535,
     "end_time": "2021-09-23T10:07:21.147937",
     "exception": false,
     "start_time": "2021-09-23T10:07:21.097402",
     "status": "completed"
    },
    "tags": []
   },
   "outputs": [],
   "source": [
    "class Config:\n",
    "    pass\n",
    "config = Config()\n",
    "config.lr = 0.001\n",
    "config.num_epochs = 250\n",
    "config.bs = 50"
   ]
  },
  {
   "cell_type": "markdown",
   "id": "1385fa59",
   "metadata": {
    "papermill": {
     "duration": 0.028782,
     "end_time": "2021-09-23T10:07:21.205873",
     "exception": false,
     "start_time": "2021-09-23T10:07:21.177091",
     "status": "completed"
    },
    "tags": []
   },
   "source": [
    "### Running Models with the Training data\n",
    "Details about the network layers:\n",
    "- A first affine layer has 784 inputs and does 100 affine transforms. These are followed by a Relu\n",
    "- A second affine layer has 100 inputs from the 100 activations of the past layer, and does 100 affine transforms. These are followed by a Relu\n",
    "- A third affine layer has 100 activations and does 2 affine transformations to create an embedding for visualization. There is no non-linearity here.\n",
    "- A final \"logistic regression\" which has an affine transform from 2 inputs to 1 output, which is squeezed through a sigmoid.\n"
   ]
  },
  {
   "cell_type": "code",
   "execution_count": 17,
   "id": "2b9c66db",
   "metadata": {
    "execution": {
     "iopub.execute_input": "2021-09-23T10:07:21.271930Z",
     "iopub.status.busy": "2021-09-23T10:07:21.271373Z",
     "iopub.status.idle": "2021-09-23T10:07:21.284061Z",
     "shell.execute_reply": "2021-09-23T10:07:21.283563Z"
    },
    "papermill": {
     "duration": 0.049498,
     "end_time": "2021-09-23T10:07:21.284189",
     "exception": false,
     "start_time": "2021-09-23T10:07:21.234691",
     "status": "completed"
    },
    "tags": []
   },
   "outputs": [],
   "source": [
    "data = Data(X_train, y_train.reshape(-1,1))\n",
    "sampler = Sampler(data, config.bs, shuffle=True)\n",
    "\n",
    "dl = Dataloader(data, sampler)\n",
    "\n",
    "opt = GD(config.lr)\n",
    "loss = MSE()"
   ]
  },
  {
   "cell_type": "code",
   "execution_count": 18,
   "id": "b275e4c2",
   "metadata": {
    "execution": {
     "iopub.execute_input": "2021-09-23T10:07:21.348611Z",
     "iopub.status.busy": "2021-09-23T10:07:21.348018Z",
     "iopub.status.idle": "2021-09-23T10:07:21.361610Z",
     "shell.execute_reply": "2021-09-23T10:07:21.361093Z"
    },
    "papermill": {
     "duration": 0.047607,
     "end_time": "2021-09-23T10:07:21.361727",
     "exception": false,
     "start_time": "2021-09-23T10:07:21.314120",
     "status": "completed"
    },
    "tags": []
   },
   "outputs": [],
   "source": [
    "training_data_x = X_train\n",
    "testing_data_x = X_test\n",
    "training_data_y = y_train.reshape(-1,1)\n",
    "testing_data_y = y_test.reshape(-1,1)"
   ]
  },
  {
   "cell_type": "code",
   "execution_count": 19,
   "id": "76951160",
   "metadata": {
    "execution": {
     "iopub.execute_input": "2021-09-23T10:07:21.425254Z",
     "iopub.status.busy": "2021-09-23T10:07:21.424698Z",
     "iopub.status.idle": "2021-09-23T10:07:21.442858Z",
     "shell.execute_reply": "2021-09-23T10:07:21.442404Z"
    },
    "papermill": {
     "duration": 0.052337,
     "end_time": "2021-09-23T10:07:21.442983",
     "exception": false,
     "start_time": "2021-09-23T10:07:21.390646",
     "status": "completed"
    },
    "tags": []
   },
   "outputs": [
    {
     "name": "stdout",
     "output_type": "stream",
     "text": [
      "xavier\n",
      "xavier\n",
      "xavier\n",
      "xavier\n",
      "xavier\n"
     ]
    }
   ],
   "source": [
    "layers = [Affine(\"first\", 784, 100), Relu(\"first\"), Affine(\"second\", 100, 100), Relu(\"second\"), Affine(\"third\", 100, 2), Affine(\"last\", 2, 1), Sigmoid(\"last\")]\n",
    "model_nn = Model(layers)\n",
    "model_lr = Model([Affine(\"logits\", 784, 1), Sigmoid(\"sigmoid\")])"
   ]
  },
  {
   "cell_type": "code",
   "execution_count": 20,
   "id": "6eede77a",
   "metadata": {
    "execution": {
     "iopub.execute_input": "2021-09-23T10:07:21.507936Z",
     "iopub.status.busy": "2021-09-23T10:07:21.507336Z",
     "iopub.status.idle": "2021-09-23T10:07:21.520249Z",
     "shell.execute_reply": "2021-09-23T10:07:21.520720Z"
    },
    "papermill": {
     "duration": 0.047983,
     "end_time": "2021-09-23T10:07:21.520865",
     "exception": false,
     "start_time": "2021-09-23T10:07:21.472882",
     "status": "completed"
    },
    "tags": []
   },
   "outputs": [],
   "source": [
    "nn_learner = Learner(loss, model_nn, opt, config.num_epochs)\n",
    "acc_nn = ClfCallback(nn_learner, config.bs, training_data_x , testing_data_x, training_data_y, testing_data_y)\n",
    "nn_learner.set_callbacks([acc_nn])"
   ]
  },
  {
   "cell_type": "code",
   "execution_count": 21,
   "id": "877b6cc7",
   "metadata": {
    "execution": {
     "iopub.execute_input": "2021-09-23T10:07:21.584263Z",
     "iopub.status.busy": "2021-09-23T10:07:21.583696Z",
     "iopub.status.idle": "2021-09-23T10:07:21.598687Z",
     "shell.execute_reply": "2021-09-23T10:07:21.598228Z"
    },
    "papermill": {
     "duration": 0.048694,
     "end_time": "2021-09-23T10:07:21.598807",
     "exception": false,
     "start_time": "2021-09-23T10:07:21.550113",
     "status": "completed"
    },
    "tags": []
   },
   "outputs": [],
   "source": [
    "lr_learner = Learner(loss, model_lr, opt, config.num_epochs)\n",
    "acc_lr = ClfCallback(lr_learner, config.bs, training_data_x , testing_data_x, training_data_y, testing_data_y)\n",
    "lr_learner.set_callbacks([acc_lr])"
   ]
  },
  {
   "cell_type": "code",
   "execution_count": 22,
   "id": "d9b133c3",
   "metadata": {
    "execution": {
     "iopub.execute_input": "2021-09-23T10:07:21.663020Z",
     "iopub.status.busy": "2021-09-23T10:07:21.662465Z",
     "iopub.status.idle": "2021-09-23T10:08:47.695550Z",
     "shell.execute_reply": "2021-09-23T10:08:47.696375Z"
    },
    "papermill": {
     "duration": 86.068302,
     "end_time": "2021-09-23T10:08:47.696548",
     "exception": false,
     "start_time": "2021-09-23T10:07:21.628246",
     "status": "completed"
    },
    "tags": []
   },
   "outputs": [
    {
     "name": "stdout",
     "output_type": "stream",
     "text": [
      "Epoch 0, Loss 0.2263\n",
      "Training Accuracy: 0.7642, Testing Accuracy: 0.7727\n",
      "\n"
     ]
    },
    {
     "name": "stdout",
     "output_type": "stream",
     "text": [
      "Epoch 10, Loss 0.0889\n",
      "Training Accuracy: 0.9073, Testing Accuracy: 0.9189\n",
      "\n"
     ]
    },
    {
     "name": "stdout",
     "output_type": "stream",
     "text": [
      "Epoch 20, Loss 0.0567\n",
      "Training Accuracy: 0.9382, Testing Accuracy: 0.9496\n",
      "\n"
     ]
    },
    {
     "name": "stdout",
     "output_type": "stream",
     "text": [
      "Epoch 30, Loss 0.0445\n",
      "Training Accuracy: 0.9511, Testing Accuracy: 0.9622\n",
      "\n"
     ]
    },
    {
     "name": "stdout",
     "output_type": "stream",
     "text": [
      "Epoch 40, Loss 0.0385\n",
      "Training Accuracy: 0.9568, Testing Accuracy: 0.9622\n",
      "\n"
     ]
    },
    {
     "name": "stdout",
     "output_type": "stream",
     "text": [
      "Epoch 50, Loss 0.0348\n",
      "Training Accuracy: 0.9599, Testing Accuracy: 0.9672\n",
      "\n"
     ]
    },
    {
     "name": "stdout",
     "output_type": "stream",
     "text": [
      "Epoch 60, Loss 0.0322\n",
      "Training Accuracy: 0.9621, Testing Accuracy: 0.9698\n",
      "\n"
     ]
    },
    {
     "name": "stdout",
     "output_type": "stream",
     "text": [
      "Epoch 70, Loss 0.0303\n",
      "Training Accuracy: 0.9649, Testing Accuracy: 0.9682\n",
      "\n"
     ]
    },
    {
     "name": "stdout",
     "output_type": "stream",
     "text": [
      "Epoch 80, Loss 0.0288\n",
      "Training Accuracy: 0.9664, Testing Accuracy: 0.9698\n",
      "\n"
     ]
    },
    {
     "name": "stdout",
     "output_type": "stream",
     "text": [
      "Epoch 90, Loss 0.0276\n",
      "Training Accuracy: 0.9685, Testing Accuracy: 0.9703\n",
      "\n"
     ]
    },
    {
     "name": "stdout",
     "output_type": "stream",
     "text": [
      "Epoch 100, Loss 0.0266\n",
      "Training Accuracy: 0.9693, Testing Accuracy: 0.9708\n",
      "\n"
     ]
    },
    {
     "name": "stdout",
     "output_type": "stream",
     "text": [
      "Epoch 110, Loss 0.0256\n",
      "Training Accuracy: 0.9700, Testing Accuracy: 0.9703\n",
      "\n"
     ]
    },
    {
     "name": "stdout",
     "output_type": "stream",
     "text": [
      "Epoch 120, Loss 0.0248\n",
      "Training Accuracy: 0.9713, Testing Accuracy: 0.9708\n",
      "\n"
     ]
    },
    {
     "name": "stdout",
     "output_type": "stream",
     "text": [
      "Epoch 130, Loss 0.0241\n",
      "Training Accuracy: 0.9720, Testing Accuracy: 0.9703\n",
      "\n"
     ]
    },
    {
     "name": "stdout",
     "output_type": "stream",
     "text": [
      "Epoch 140, Loss 0.0235\n",
      "Training Accuracy: 0.9728, Testing Accuracy: 0.9708\n",
      "\n"
     ]
    },
    {
     "name": "stdout",
     "output_type": "stream",
     "text": [
      "Epoch 150, Loss 0.0229\n",
      "Training Accuracy: 0.9737, Testing Accuracy: 0.9713\n",
      "\n"
     ]
    },
    {
     "name": "stdout",
     "output_type": "stream",
     "text": [
      "Epoch 160, Loss 0.0224\n",
      "Training Accuracy: 0.9741, Testing Accuracy: 0.9718\n",
      "\n"
     ]
    },
    {
     "name": "stdout",
     "output_type": "stream",
     "text": [
      "Epoch 170, Loss 0.0219\n",
      "Training Accuracy: 0.9745, Testing Accuracy: 0.9723\n",
      "\n"
     ]
    },
    {
     "name": "stdout",
     "output_type": "stream",
     "text": [
      "Epoch 180, Loss 0.0214\n",
      "Training Accuracy: 0.9751, Testing Accuracy: 0.9728\n",
      "\n"
     ]
    },
    {
     "name": "stdout",
     "output_type": "stream",
     "text": [
      "Epoch 190, Loss 0.021\n",
      "Training Accuracy: 0.9756, Testing Accuracy: 0.9738\n",
      "\n"
     ]
    },
    {
     "name": "stdout",
     "output_type": "stream",
     "text": [
      "Epoch 200, Loss 0.0206\n",
      "Training Accuracy: 0.9760, Testing Accuracy: 0.9738\n",
      "\n"
     ]
    },
    {
     "name": "stdout",
     "output_type": "stream",
     "text": [
      "Epoch 210, Loss 0.0202\n",
      "Training Accuracy: 0.9769, Testing Accuracy: 0.9738\n",
      "\n"
     ]
    },
    {
     "name": "stdout",
     "output_type": "stream",
     "text": [
      "Epoch 220, Loss 0.0198\n",
      "Training Accuracy: 0.9772, Testing Accuracy: 0.9738\n",
      "\n"
     ]
    },
    {
     "name": "stdout",
     "output_type": "stream",
     "text": [
      "Epoch 230, Loss 0.0195\n",
      "Training Accuracy: 0.9781, Testing Accuracy: 0.9738\n",
      "\n"
     ]
    },
    {
     "name": "stdout",
     "output_type": "stream",
     "text": [
      "Epoch 240, Loss 0.0191\n",
      "Training Accuracy: 0.9789, Testing Accuracy: 0.9738\n",
      "\n"
     ]
    },
    {
     "data": {
      "text/plain": [
       "0.03971654799563948"
      ]
     },
     "execution_count": 22,
     "metadata": {},
     "output_type": "execute_result"
    }
   ],
   "source": [
    "nn_learner.train_loop(dl)"
   ]
  },
  {
   "cell_type": "code",
   "execution_count": 23,
   "id": "e0163366",
   "metadata": {
    "execution": {
     "iopub.execute_input": "2021-09-23T10:08:47.780181Z",
     "iopub.status.busy": "2021-09-23T10:08:47.779566Z",
     "iopub.status.idle": "2021-09-23T10:09:03.577580Z",
     "shell.execute_reply": "2021-09-23T10:09:03.578455Z"
    },
    "papermill": {
     "duration": 15.84405,
     "end_time": "2021-09-23T10:09:03.578625",
     "exception": false,
     "start_time": "2021-09-23T10:08:47.734575",
     "status": "completed"
    },
    "tags": []
   },
   "outputs": [
    {
     "name": "stdout",
     "output_type": "stream",
     "text": [
      "Epoch 0, Loss 0.2141\n",
      "Training Accuracy: 0.7707, Testing Accuracy: 0.7505\n",
      "\n"
     ]
    },
    {
     "name": "stdout",
     "output_type": "stream",
     "text": [
      "Epoch 10, Loss 0.1018\n",
      "Training Accuracy: 0.9044, Testing Accuracy: 0.9143\n",
      "\n"
     ]
    },
    {
     "name": "stdout",
     "output_type": "stream",
     "text": [
      "Epoch 20, Loss 0.0793\n",
      "Training Accuracy: 0.9243, Testing Accuracy: 0.9365\n",
      "\n"
     ]
    },
    {
     "name": "stdout",
     "output_type": "stream",
     "text": [
      "Epoch 30, Loss 0.0685\n",
      "Training Accuracy: 0.9337, Testing Accuracy: 0.9425\n",
      "\n"
     ]
    },
    {
     "name": "stdout",
     "output_type": "stream",
     "text": [
      "Epoch 40, Loss 0.0619\n",
      "Training Accuracy: 0.9391, Testing Accuracy: 0.9476\n",
      "\n"
     ]
    },
    {
     "name": "stdout",
     "output_type": "stream",
     "text": [
      "Epoch 50, Loss 0.0574\n",
      "Training Accuracy: 0.9436, Testing Accuracy: 0.9531\n",
      "\n"
     ]
    },
    {
     "name": "stdout",
     "output_type": "stream",
     "text": [
      "Epoch 60, Loss 0.0541\n",
      "Training Accuracy: 0.9453, Testing Accuracy: 0.9567\n",
      "\n"
     ]
    },
    {
     "name": "stdout",
     "output_type": "stream",
     "text": [
      "Epoch 70, Loss 0.0515\n",
      "Training Accuracy: 0.9471, Testing Accuracy: 0.9582\n",
      "\n"
     ]
    },
    {
     "name": "stdout",
     "output_type": "stream",
     "text": [
      "Epoch 80, Loss 0.0494\n",
      "Training Accuracy: 0.9488, Testing Accuracy: 0.9592\n",
      "\n"
     ]
    },
    {
     "name": "stdout",
     "output_type": "stream",
     "text": [
      "Epoch 90, Loss 0.0477\n",
      "Training Accuracy: 0.9508, Testing Accuracy: 0.9607\n",
      "\n"
     ]
    },
    {
     "name": "stdout",
     "output_type": "stream",
     "text": [
      "Epoch 100, Loss 0.0463\n",
      "Training Accuracy: 0.9521, Testing Accuracy: 0.9617\n",
      "\n"
     ]
    },
    {
     "name": "stdout",
     "output_type": "stream",
     "text": [
      "Epoch 110, Loss 0.0451\n",
      "Training Accuracy: 0.9533, Testing Accuracy: 0.9622\n",
      "\n"
     ]
    },
    {
     "name": "stdout",
     "output_type": "stream",
     "text": [
      "Epoch 120, Loss 0.044\n",
      "Training Accuracy: 0.9543, Testing Accuracy: 0.9637\n",
      "\n"
     ]
    },
    {
     "name": "stdout",
     "output_type": "stream",
     "text": [
      "Epoch 130, Loss 0.0431\n",
      "Training Accuracy: 0.9557, Testing Accuracy: 0.9647\n",
      "\n"
     ]
    },
    {
     "name": "stdout",
     "output_type": "stream",
     "text": [
      "Epoch 140, Loss 0.0422\n",
      "Training Accuracy: 0.9564, Testing Accuracy: 0.9652\n",
      "\n"
     ]
    },
    {
     "name": "stdout",
     "output_type": "stream",
     "text": [
      "Epoch 150, Loss 0.0415\n",
      "Training Accuracy: 0.9570, Testing Accuracy: 0.9662\n",
      "\n"
     ]
    },
    {
     "name": "stdout",
     "output_type": "stream",
     "text": [
      "Epoch 160, Loss 0.0408\n",
      "Training Accuracy: 0.9578, Testing Accuracy: 0.9662\n",
      "\n"
     ]
    },
    {
     "name": "stdout",
     "output_type": "stream",
     "text": [
      "Epoch 170, Loss 0.0402\n",
      "Training Accuracy: 0.9580, Testing Accuracy: 0.9662\n",
      "\n"
     ]
    },
    {
     "name": "stdout",
     "output_type": "stream",
     "text": [
      "Epoch 180, Loss 0.0396\n",
      "Training Accuracy: 0.9585, Testing Accuracy: 0.9677\n",
      "\n"
     ]
    },
    {
     "name": "stdout",
     "output_type": "stream",
     "text": [
      "Epoch 190, Loss 0.0391\n",
      "Training Accuracy: 0.9593, Testing Accuracy: 0.9677\n",
      "\n"
     ]
    },
    {
     "name": "stdout",
     "output_type": "stream",
     "text": [
      "Epoch 200, Loss 0.0386\n",
      "Training Accuracy: 0.9594, Testing Accuracy: 0.9677\n",
      "\n"
     ]
    },
    {
     "name": "stdout",
     "output_type": "stream",
     "text": [
      "Epoch 210, Loss 0.0382\n",
      "Training Accuracy: 0.9599, Testing Accuracy: 0.9677\n",
      "\n"
     ]
    },
    {
     "name": "stdout",
     "output_type": "stream",
     "text": [
      "Epoch 220, Loss 0.0378\n",
      "Training Accuracy: 0.9604, Testing Accuracy: 0.9682\n",
      "\n"
     ]
    },
    {
     "name": "stdout",
     "output_type": "stream",
     "text": [
      "Epoch 230, Loss 0.0374\n",
      "Training Accuracy: 0.9606, Testing Accuracy: 0.9682\n",
      "\n"
     ]
    },
    {
     "name": "stdout",
     "output_type": "stream",
     "text": [
      "Epoch 240, Loss 0.037\n",
      "Training Accuracy: 0.9606, Testing Accuracy: 0.9682\n",
      "\n"
     ]
    },
    {
     "data": {
      "text/plain": [
       "0.04360252552806004"
      ]
     },
     "execution_count": 23,
     "metadata": {},
     "output_type": "execute_result"
    }
   ],
   "source": [
    "lr_learner.train_loop(dl)"
   ]
  },
  {
   "cell_type": "code",
   "execution_count": 24,
   "id": "ca410940",
   "metadata": {
    "execution": {
     "iopub.execute_input": "2021-09-23T10:09:03.680174Z",
     "iopub.status.busy": "2021-09-23T10:09:03.679567Z",
     "iopub.status.idle": "2021-09-23T10:09:03.937085Z",
     "shell.execute_reply": "2021-09-23T10:09:03.937599Z"
    },
    "papermill": {
     "duration": 0.312905,
     "end_time": "2021-09-23T10:09:03.937775",
     "exception": false,
     "start_time": "2021-09-23T10:09:03.624870",
     "status": "completed"
    },
    "tags": []
   },
   "outputs": [
    {
     "data": {
      "text/plain": [
       "<matplotlib.legend.Legend at 0x7f49c5328978>"
      ]
     },
     "execution_count": 24,
     "metadata": {},
     "output_type": "execute_result"
    },
    {
     "data": {
      "image/png": "[encoded data removed]",
      "text/plain": [
       "<Figure size 1080x720 with 1 Axes>"
      ]
     },
     "metadata": {
      "needs_background": "light"
     },
     "output_type": "display_data"
    }
   ],
   "source": [
    "#comparing the results of NN and LR\n",
    "plt.figure(figsize=(15,10))\n",
    "\n",
    "# Neural Network plots\n",
    "plt.plot(acc_nn.accuracies, 'r-', label = \"Training Accuracies - NN\")\n",
    "plt.plot(acc_nn.test_accuracies, 'g-', label = \"Testing Accuracies - NN\")\n",
    "\n",
    "# Logistic Regression plots\n",
    "plt.plot(acc_lr.accuracies, 'k-', label = \"Training Accuracies - LR\")\n",
    "plt.plot(acc_lr.test_accuracies, 'b-', label = \"Testing Accuracies - LR\")\n",
    "plt.legend()"
   ]
  },
  {
   "cell_type": "markdown",
   "id": "80dfb35c",
   "metadata": {
    "papermill": {
     "duration": 0.048223,
     "end_time": "2021-09-23T10:09:04.035808",
     "exception": false,
     "start_time": "2021-09-23T10:09:03.987585",
     "status": "completed"
    },
    "tags": []
   },
   "source": [
    "#### Plotting the outputs of this layer of the NN.\n"
   ]
  },
  {
   "cell_type": "code",
   "execution_count": 25,
   "id": "45eb2ff5",
   "metadata": {
    "execution": {
     "iopub.execute_input": "2021-09-23T10:09:04.136192Z",
     "iopub.status.busy": "2021-09-23T10:09:04.135570Z",
     "iopub.status.idle": "2021-09-23T10:09:04.159042Z",
     "shell.execute_reply": "2021-09-23T10:09:04.158458Z"
    },
    "papermill": {
     "duration": 0.07649,
     "end_time": "2021-09-23T10:09:04.159187",
     "exception": false,
     "start_time": "2021-09-23T10:09:04.082697",
     "status": "completed"
    },
    "tags": []
   },
   "outputs": [],
   "source": [
    "new_model = Model(layers[:-2])\n",
    "testing_plot = new_model(testing_data_x)"
   ]
  },
  {
   "cell_type": "code",
   "execution_count": 26,
   "id": "4c0a5485",
   "metadata": {
    "execution": {
     "iopub.execute_input": "2021-09-23T10:09:04.273992Z",
     "iopub.status.busy": "2021-09-23T10:09:04.273377Z",
     "iopub.status.idle": "2021-09-23T10:09:04.527372Z",
     "shell.execute_reply": "2021-09-23T10:09:04.527813Z"
    },
    "papermill": {
     "duration": 0.313195,
     "end_time": "2021-09-23T10:09:04.527958",
     "exception": false,
     "start_time": "2021-09-23T10:09:04.214763",
     "status": "completed"
    },
    "tags": []
   },
   "outputs": [
    {
     "data": {
      "text/plain": [
       "Text(0.5, 1.0, 'Outputs')"
      ]
     },
     "execution_count": 26,
     "metadata": {},
     "output_type": "execute_result"
    },
    {
     "data": {
      "image/png": "[encoded data removed]",
      "text/plain": [
       "<Figure size 576x504 with 1 Axes>"
      ]
     },
     "metadata": {
      "needs_background": "light"
     },
     "output_type": "display_data"
    }
   ],
   "source": [
    "# Plotting the scatter plot of points and color coding by class\n",
    "plt.figure(figsize=(8,7))\n",
    "plt.scatter(testing_plot[:,0], testing_plot[:,1], alpha = 0.1, c = y_test.ravel());\n",
    "plt.title('Outputs')"
   ]
  },
  {
   "cell_type": "markdown",
   "id": "a74fcf8f",
   "metadata": {
    "papermill": {
     "duration": 0.052267,
     "end_time": "2021-09-23T10:09:04.629837",
     "exception": false,
     "start_time": "2021-09-23T10:09:04.577570",
     "status": "completed"
    },
    "tags": []
   },
   "source": [
    "Probability contours"
   ]
  },
  {
   "cell_type": "code",
   "execution_count": 27,
   "id": "d0afc8e3",
   "metadata": {
    "execution": {
     "iopub.execute_input": "2021-09-23T10:09:04.741317Z",
     "iopub.status.busy": "2021-09-23T10:09:04.740708Z",
     "iopub.status.idle": "2021-09-23T10:09:04.755595Z",
     "shell.execute_reply": "2021-09-23T10:09:04.755097Z"
    },
    "papermill": {
     "duration": 0.068418,
     "end_time": "2021-09-23T10:09:04.755733",
     "exception": false,
     "start_time": "2021-09-23T10:09:04.687315",
     "status": "completed"
    },
    "tags": []
   },
   "outputs": [],
   "source": [
    "model_prob = Model(layers[-2:]) "
   ]
  },
  {
   "cell_type": "code",
   "execution_count": 28,
   "id": "9b96e238",
   "metadata": {
    "execution": {
     "iopub.execute_input": "2021-09-23T10:09:04.860936Z",
     "iopub.status.busy": "2021-09-23T10:09:04.860390Z",
     "iopub.status.idle": "2021-09-23T10:09:04.876567Z",
     "shell.execute_reply": "2021-09-23T10:09:04.877360Z"
    },
    "papermill": {
     "duration": 0.07197,
     "end_time": "2021-09-23T10:09:04.877606",
     "exception": false,
     "start_time": "2021-09-23T10:09:04.805636",
     "status": "completed"
    },
    "tags": []
   },
   "outputs": [],
   "source": [
    "#creating the x and y ranges according to the above generated plot.\n",
    "x_range = np.linspace(-4, 1, 100) \n",
    "y_range = np.linspace(-6, 6, 100) \n",
    "x_grid, y_grid = np.meshgrid(x_range, y_range) # x_grid and y_grig are of size 100 X 100\n",
    "\n",
    "# converting x_grid and y_grid to continuous arrays\n",
    "x_gridflat = np.ravel(x_grid)\n",
    "y_gridflat = np.ravel(y_grid)\n",
    "\n",
    "# The last layer of the current model takes two columns as input. Hence transpose of np.vstack() is required.\n",
    "X = np.vstack((x_gridflat, y_gridflat)).T\n",
    "\n",
    "prob_contour = model_prob(X).reshape(100,100) "
   ]
  },
  {
   "cell_type": "code",
   "execution_count": 29,
   "id": "da72499a",
   "metadata": {
    "execution": {
     "iopub.execute_input": "2021-09-23T10:09:05.027430Z",
     "iopub.status.busy": "2021-09-23T10:09:05.026849Z",
     "iopub.status.idle": "2021-09-23T10:09:05.316127Z",
     "shell.execute_reply": "2021-09-23T10:09:05.315589Z"
    },
    "papermill": {
     "duration": 0.383444,
     "end_time": "2021-09-23T10:09:05.316262",
     "exception": false,
     "start_time": "2021-09-23T10:09:04.932818",
     "status": "completed"
    },
    "tags": []
   },
   "outputs": [
    {
     "data": {
      "image/png": "[encoded data removed]",
      "text/plain": [
       "<Figure size 720x648 with 1 Axes>"
      ]
     },
     "metadata": {
      "needs_background": "light"
     },
     "output_type": "display_data"
    }
   ],
   "source": [
    "plt.figure(figsize=(10,9))\n",
    "plt.scatter(testing_plot[:,0], testing_plot[:,1], alpha = 0.1, c = y_test.ravel())\n",
    "contours = plt.contour(x_grid,y_grid,prob_contour)\n",
    "plt.title('Probability Contours')\n",
    "plt.clabel(contours, inline = True );"
   ]
  },
  {
   "cell_type": "code",
   "execution_count": null,
   "id": "e81b4ac7",
   "metadata": {
    "papermill": {
     "duration": 0.052964,
     "end_time": "2021-09-23T10:09:05.423890",
     "exception": false,
     "start_time": "2021-09-23T10:09:05.370926",
     "status": "completed"
    },
    "tags": []
   },
   "outputs": [],
   "source": []
  }
 ],
 "metadata": {
  "kernelspec": {
   "display_name": "Python 3",
   "language": "python",
   "name": "python3"
  },
  "language_info": {
   "codemirror_mode": {
    "name": "ipython",
    "version": 3
   },
   "file_extension": ".py",
   "mimetype": "text/x-python",
   "name": "python",
   "nbconvert_exporter": "python",
   "pygments_lexer": "ipython3",
   "version": "3.6.15"
  },
  "papermill": {
   "default_parameters": {},
   "duration": 110.782461,
   "end_time": "2021-09-23T10:09:05.888588",
   "environment_variables": {},
   "exception": null,
   "input_path": "2020-08-11-part2.ipynb",
   "output_path": "2020-08-11-part2.ipynb",
   "parameters": {},
   "start_time": "2021-09-23T10:07:15.106127",
   "version": "2.3.3"
  }
 },
 "nbformat": 4,
 "nbformat_minor": 5
}