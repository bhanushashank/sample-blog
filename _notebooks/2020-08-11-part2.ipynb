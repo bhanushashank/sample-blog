{
 "cells": [
  {
   "cell_type": "markdown",
   "id": "98380cd3",
   "metadata": {
    "papermill": {
     "duration": 0.039075,
     "end_time": "2022-02-19T20:09:59.157737",
     "exception": false,
     "start_time": "2022-02-19T20:09:59.118662",
     "status": "completed"
    },
    "tags": []
   },
   "source": [
    "# Distinguish Your Own Digits (DYOD)"
   ]
  },
  {
   "cell_type": "markdown",
   "id": "ef31240d",
   "metadata": {
    "papermill": {
     "duration": 0.029016,
     "end_time": "2022-02-19T20:09:59.214893",
     "exception": false,
     "start_time": "2022-02-19T20:09:59.185877",
     "status": "completed"
    },
    "tags": []
   },
   "source": [
    "You are going to write a classifier that distinguishes between the number 3 and number 8."
   ]
  },
  {
   "cell_type": "code",
   "execution_count": 1,
   "id": "b15c8646",
   "metadata": {
    "execution": {
     "iopub.execute_input": "2022-02-19T20:09:59.284341Z",
     "iopub.status.busy": "2022-02-19T20:09:59.282556Z",
     "iopub.status.idle": "2022-02-19T20:09:59.297035Z",
     "shell.execute_reply": "2022-02-19T20:09:59.296478Z"
    },
    "papermill": {
     "duration": 0.055366,
     "end_time": "2022-02-19T20:09:59.297191",
     "exception": false,
     "start_time": "2022-02-19T20:09:59.241825",
     "status": "completed"
    },
    "tags": []
   },
   "outputs": [],
   "source": [
    "%load_ext autoreload\n",
    "%autoreload 2"
   ]
  },
  {
   "cell_type": "code",
   "execution_count": 2,
   "id": "22ef38dc",
   "metadata": {
    "execution": {
     "iopub.execute_input": "2022-02-19T20:09:59.357479Z",
     "iopub.status.busy": "2022-02-19T20:09:59.356853Z",
     "iopub.status.idle": "2022-02-19T20:10:00.092392Z",
     "shell.execute_reply": "2022-02-19T20:10:00.091711Z"
    },
    "papermill": {
     "duration": 0.767717,
     "end_time": "2022-02-19T20:10:00.092531",
     "exception": false,
     "start_time": "2022-02-19T20:09:59.324814",
     "status": "completed"
    },
    "tags": []
   },
   "outputs": [],
   "source": [
    "%matplotlib inline\n",
    "import numpy as np\n",
    "import matplotlib.pyplot as plt\n",
    "import pandas as pd"
   ]
  },
  {
   "cell_type": "markdown",
   "id": "ba036198",
   "metadata": {
    "papermill": {
     "duration": 0.027733,
     "end_time": "2022-02-19T20:10:00.148098",
     "exception": false,
     "start_time": "2022-02-19T20:10:00.120365",
     "status": "completed"
    },
    "tags": []
   },
   "source": [
    "From the command line run `pip install mnist`. This is a library that will help you bring down the mnist dataset. If you run this from a notebook, you need to put  `!pip install mnist` in a cell by itself."
   ]
  },
  {
   "cell_type": "code",
   "execution_count": 3,
   "id": "bb6ad8a1",
   "metadata": {
    "execution": {
     "iopub.execute_input": "2022-02-19T20:10:00.207730Z",
     "iopub.status.busy": "2022-02-19T20:10:00.207049Z",
     "iopub.status.idle": "2022-02-19T20:10:02.995352Z",
     "shell.execute_reply": "2022-02-19T20:10:02.994784Z"
    },
    "papermill": {
     "duration": 2.819928,
     "end_time": "2022-02-19T20:10:02.995498",
     "exception": false,
     "start_time": "2022-02-19T20:10:00.175570",
     "status": "completed"
    },
    "tags": []
   },
   "outputs": [
    {
     "name": "stdout",
     "output_type": "stream",
     "text": [
      "Collecting mnist\r\n"
     ]
    },
    {
     "name": "stdout",
     "output_type": "stream",
     "text": [
      "  Downloading mnist-0.2.2-py2.py3-none-any.whl (3.5 kB)\r\n",
      "Requirement already satisfied: numpy in /opt/hostedtoolcache/Python/3.6.15/x64/lib/python3.6/site-packages (from mnist) (1.19.5)\r\n"
     ]
    },
    {
     "name": "stdout",
     "output_type": "stream",
     "text": [
      "Installing collected packages: mnist\r\n"
     ]
    },
    {
     "name": "stdout",
     "output_type": "stream",
     "text": [
      "Successfully installed mnist-0.2.2\r\n"
     ]
    }
   ],
   "source": [
    "!pip install mnist"
   ]
  },
  {
   "cell_type": "markdown",
   "id": "69df9c9a",
   "metadata": {
    "papermill": {
     "duration": 0.028943,
     "end_time": "2022-02-19T20:10:03.053006",
     "exception": false,
     "start_time": "2022-02-19T20:10:03.024063",
     "status": "completed"
    },
    "tags": []
   },
   "source": [
    "## Preparing the Data"
   ]
  },
  {
   "cell_type": "code",
   "execution_count": 4,
   "id": "7f69d806",
   "metadata": {
    "execution": {
     "iopub.execute_input": "2022-02-19T20:10:03.115281Z",
     "iopub.status.busy": "2022-02-19T20:10:03.114032Z",
     "iopub.status.idle": "2022-02-19T20:10:03.132124Z",
     "shell.execute_reply": "2022-02-19T20:10:03.132617Z"
    },
    "papermill": {
     "duration": 0.051344,
     "end_time": "2022-02-19T20:10:03.132776",
     "exception": false,
     "start_time": "2022-02-19T20:10:03.081432",
     "status": "completed"
    },
    "tags": []
   },
   "outputs": [],
   "source": [
    "import mnist"
   ]
  },
  {
   "cell_type": "code",
   "execution_count": 5,
   "id": "a411e44f",
   "metadata": {
    "execution": {
     "iopub.execute_input": "2022-02-19T20:10:03.194291Z",
     "iopub.status.busy": "2022-02-19T20:10:03.193691Z",
     "iopub.status.idle": "2022-02-19T20:10:03.787609Z",
     "shell.execute_reply": "2022-02-19T20:10:03.786985Z"
    },
    "papermill": {
     "duration": 0.626321,
     "end_time": "2022-02-19T20:10:03.787753",
     "exception": false,
     "start_time": "2022-02-19T20:10:03.161432",
     "status": "completed"
    },
    "tags": []
   },
   "outputs": [],
   "source": [
    "train_images = mnist.train_images()\n",
    "train_labels = mnist.train_labels()"
   ]
  },
  {
   "cell_type": "code",
   "execution_count": 6,
   "id": "dceab3a5",
   "metadata": {
    "execution": {
     "iopub.execute_input": "2022-02-19T20:10:03.849801Z",
     "iopub.status.busy": "2022-02-19T20:10:03.849169Z",
     "iopub.status.idle": "2022-02-19T20:10:03.867783Z",
     "shell.execute_reply": "2022-02-19T20:10:03.866478Z"
    },
    "papermill": {
     "duration": 0.051233,
     "end_time": "2022-02-19T20:10:03.867930",
     "exception": false,
     "start_time": "2022-02-19T20:10:03.816697",
     "status": "completed"
    },
    "tags": []
   },
   "outputs": [
    {
     "data": {
      "text/plain": [
       "((60000, 28, 28), (60000,))"
      ]
     },
     "execution_count": 6,
     "metadata": {},
     "output_type": "execute_result"
    }
   ],
   "source": [
    "train_images.shape, train_labels.shape"
   ]
  },
  {
   "cell_type": "code",
   "execution_count": 7,
   "id": "f50dc2bb",
   "metadata": {
    "execution": {
     "iopub.execute_input": "2022-02-19T20:10:03.931496Z",
     "iopub.status.busy": "2022-02-19T20:10:03.930848Z",
     "iopub.status.idle": "2022-02-19T20:10:04.066275Z",
     "shell.execute_reply": "2022-02-19T20:10:04.065117Z"
    },
    "papermill": {
     "duration": 0.168863,
     "end_time": "2022-02-19T20:10:04.066519",
     "exception": false,
     "start_time": "2022-02-19T20:10:03.897656",
     "status": "completed"
    },
    "tags": []
   },
   "outputs": [],
   "source": [
    "test_images = mnist.test_images()\n",
    "test_labels = mnist.test_labels()"
   ]
  },
  {
   "cell_type": "code",
   "execution_count": 8,
   "id": "fc38cf1b",
   "metadata": {
    "execution": {
     "iopub.execute_input": "2022-02-19T20:10:04.139355Z",
     "iopub.status.busy": "2022-02-19T20:10:04.137834Z",
     "iopub.status.idle": "2022-02-19T20:10:04.152346Z",
     "shell.execute_reply": "2022-02-19T20:10:04.151726Z"
    },
    "papermill": {
     "duration": 0.053969,
     "end_time": "2022-02-19T20:10:04.152468",
     "exception": false,
     "start_time": "2022-02-19T20:10:04.098499",
     "status": "completed"
    },
    "tags": []
   },
   "outputs": [
    {
     "data": {
      "text/plain": [
       "((10000, 28, 28), (10000,))"
      ]
     },
     "execution_count": 8,
     "metadata": {},
     "output_type": "execute_result"
    }
   ],
   "source": [
    "test_images.shape, test_labels.shape"
   ]
  },
  {
   "cell_type": "code",
   "execution_count": 9,
   "id": "f9ed8fe0",
   "metadata": {
    "execution": {
     "iopub.execute_input": "2022-02-19T20:10:04.216390Z",
     "iopub.status.busy": "2022-02-19T20:10:04.215834Z",
     "iopub.status.idle": "2022-02-19T20:10:04.382679Z",
     "shell.execute_reply": "2022-02-19T20:10:04.383162Z"
    },
    "papermill": {
     "duration": 0.201362,
     "end_time": "2022-02-19T20:10:04.383355",
     "exception": false,
     "start_time": "2022-02-19T20:10:04.181993",
     "status": "completed"
    },
    "tags": []
   },
   "outputs": [
    {
     "name": "stdout",
     "output_type": "stream",
     "text": [
      "2\n"
     ]
    },
    {
     "data": {
      "text/plain": [
       "<matplotlib.image.AxesImage at 0x7fc7a96cf588>"
      ]
     },
     "execution_count": 9,
     "metadata": {},
     "output_type": "execute_result"
    },
    {
     "data": {
      "image/png": "[encoded data removed]",
      "text/plain": [
       "<Figure size 432x288 with 1 Axes>"
      ]
     },
     "metadata": {
      "needs_background": "light"
     },
     "output_type": "display_data"
    }
   ],
   "source": [
    "image_index = 7776 # You may select anything up to 60,000\n",
    "print(train_labels[image_index]) \n",
    "plt.imshow(train_images[image_index], cmap='Greys')"
   ]
  },
  {
   "cell_type": "markdown",
   "id": "a8d2388d",
   "metadata": {
    "papermill": {
     "duration": 0.030576,
     "end_time": "2022-02-19T20:10:04.444778",
     "exception": false,
     "start_time": "2022-02-19T20:10:04.414202",
     "status": "completed"
    },
    "tags": []
   },
   "source": [
    "## Filter data to get 3 and 8 out"
   ]
  },
  {
   "cell_type": "code",
   "execution_count": 10,
   "id": "776f7fc7",
   "metadata": {
    "execution": {
     "iopub.execute_input": "2022-02-19T20:10:04.516029Z",
     "iopub.status.busy": "2022-02-19T20:10:04.515397Z",
     "iopub.status.idle": "2022-02-19T20:10:04.534587Z",
     "shell.execute_reply": "2022-02-19T20:10:04.534079Z"
    },
    "papermill": {
     "duration": 0.057276,
     "end_time": "2022-02-19T20:10:04.534724",
     "exception": false,
     "start_time": "2022-02-19T20:10:04.477448",
     "status": "completed"
    },
    "tags": []
   },
   "outputs": [],
   "source": [
    "train_filter = np.where((train_labels == 3 ) | (train_labels == 8))\n",
    "test_filter = np.where((test_labels == 3) | (test_labels == 8))\n",
    "X_train, y_train = train_images[train_filter], train_labels[train_filter]\n",
    "X_test, y_test = test_images[test_filter], test_labels[test_filter]"
   ]
  },
  {
   "cell_type": "markdown",
   "id": "948f0b7e",
   "metadata": {
    "papermill": {
     "duration": 0.0304,
     "end_time": "2022-02-19T20:10:04.601944",
     "exception": false,
     "start_time": "2022-02-19T20:10:04.571544",
     "status": "completed"
    },
    "tags": []
   },
   "source": [
    "We normalize the pizel values in the 0 to 1 range"
   ]
  },
  {
   "cell_type": "code",
   "execution_count": 11,
   "id": "ee4c2166",
   "metadata": {
    "execution": {
     "iopub.execute_input": "2022-02-19T20:10:04.667986Z",
     "iopub.status.busy": "2022-02-19T20:10:04.667349Z",
     "iopub.status.idle": "2022-02-19T20:10:04.720864Z",
     "shell.execute_reply": "2022-02-19T20:10:04.721680Z"
    },
    "papermill": {
     "duration": 0.089889,
     "end_time": "2022-02-19T20:10:04.721939",
     "exception": false,
     "start_time": "2022-02-19T20:10:04.632050",
     "status": "completed"
    },
    "tags": []
   },
   "outputs": [],
   "source": [
    "X_train = X_train/255.\n",
    "X_test = X_test/255."
   ]
  },
  {
   "cell_type": "markdown",
   "id": "ddcf4fab",
   "metadata": {
    "papermill": {
     "duration": 0.030266,
     "end_time": "2022-02-19T20:10:04.784881",
     "exception": false,
     "start_time": "2022-02-19T20:10:04.754615",
     "status": "completed"
    },
    "tags": []
   },
   "source": [
    "And setup the labels as 1 (when the digit is 3) and 0 (when the digit is 8)"
   ]
  },
  {
   "cell_type": "code",
   "execution_count": 12,
   "id": "7dc908f2",
   "metadata": {
    "execution": {
     "iopub.execute_input": "2022-02-19T20:10:04.851387Z",
     "iopub.status.busy": "2022-02-19T20:10:04.850704Z",
     "iopub.status.idle": "2022-02-19T20:10:04.865857Z",
     "shell.execute_reply": "2022-02-19T20:10:04.865300Z"
    },
    "papermill": {
     "duration": 0.050633,
     "end_time": "2022-02-19T20:10:04.865991",
     "exception": false,
     "start_time": "2022-02-19T20:10:04.815358",
     "status": "completed"
    },
    "tags": []
   },
   "outputs": [],
   "source": [
    "y_train = 1*(y_train==3)\n",
    "y_test = 1*(y_test==3)"
   ]
  },
  {
   "cell_type": "code",
   "execution_count": 13,
   "id": "01e4e969",
   "metadata": {
    "execution": {
     "iopub.execute_input": "2022-02-19T20:10:04.940284Z",
     "iopub.status.busy": "2022-02-19T20:10:04.938939Z",
     "iopub.status.idle": "2022-02-19T20:10:04.954276Z",
     "shell.execute_reply": "2022-02-19T20:10:04.954913Z"
    },
    "papermill": {
     "duration": 0.056172,
     "end_time": "2022-02-19T20:10:04.955069",
     "exception": false,
     "start_time": "2022-02-19T20:10:04.898897",
     "status": "completed"
    },
    "tags": []
   },
   "outputs": [
    {
     "data": {
      "text/plain": [
       "((11982, 28, 28), (1984, 28, 28))"
      ]
     },
     "execution_count": 13,
     "metadata": {},
     "output_type": "execute_result"
    }
   ],
   "source": [
    "X_train.shape, X_test.shape"
   ]
  },
  {
   "cell_type": "markdown",
   "id": "5ccf3f85",
   "metadata": {
    "papermill": {
     "duration": 0.03121,
     "end_time": "2022-02-19T20:10:05.017205",
     "exception": false,
     "start_time": "2022-02-19T20:10:04.985995",
     "status": "completed"
    },
    "tags": []
   },
   "source": [
    "We reshape the data to flatten the image pixels into a set of features or co-variates:"
   ]
  },
  {
   "cell_type": "code",
   "execution_count": 14,
   "id": "5286a4a3",
   "metadata": {
    "execution": {
     "iopub.execute_input": "2022-02-19T20:10:05.092797Z",
     "iopub.status.busy": "2022-02-19T20:10:05.092178Z",
     "iopub.status.idle": "2022-02-19T20:10:05.106862Z",
     "shell.execute_reply": "2022-02-19T20:10:05.107357Z"
    },
    "papermill": {
     "duration": 0.058554,
     "end_time": "2022-02-19T20:10:05.107521",
     "exception": false,
     "start_time": "2022-02-19T20:10:05.048967",
     "status": "completed"
    },
    "tags": []
   },
   "outputs": [
    {
     "data": {
      "text/plain": [
       "((11982, 784), (1984, 784))"
      ]
     },
     "execution_count": 14,
     "metadata": {},
     "output_type": "execute_result"
    }
   ],
   "source": [
    "X_train = X_train.reshape(X_train.shape[0], -1)\n",
    "X_test = X_test.reshape(X_test.shape[0], -1)\n",
    "X_train.shape, X_test.shape"
   ]
  },
  {
   "cell_type": "code",
   "execution_count": 15,
   "id": "73c5f88a",
   "metadata": {
    "execution": {
     "iopub.execute_input": "2022-02-19T20:10:05.180194Z",
     "iopub.status.busy": "2022-02-19T20:10:05.179557Z",
     "iopub.status.idle": "2022-02-19T20:10:05.202757Z",
     "shell.execute_reply": "2022-02-19T20:10:05.202236Z"
    },
    "papermill": {
     "duration": 0.063255,
     "end_time": "2022-02-19T20:10:05.202898",
     "exception": false,
     "start_time": "2022-02-19T20:10:05.139643",
     "status": "completed"
    },
    "tags": []
   },
   "outputs": [],
   "source": [
    "#Impoting functions from 'Kudzu'\n",
    "from kudzu.model import Model\n",
    "from kudzu.train import Learner\n",
    "from kudzu.optim import GD\n",
    "from kudzu.data import Data, Sampler,Dataloader\n",
    "\n",
    "from kudzu.callbacks import AccCallback\n",
    "from kudzu.callbacks import ClfCallback\n",
    "\n",
    "from kudzu.loss import MSE\n",
    "\n",
    "from kudzu.layer import Sigmoid,Relu\n",
    "from kudzu.layer import Affine"
   ]
  },
  {
   "cell_type": "markdown",
   "id": "bc01172a",
   "metadata": {
    "papermill": {
     "duration": 0.031857,
     "end_time": "2022-02-19T20:10:05.266893",
     "exception": false,
     "start_time": "2022-02-19T20:10:05.235036",
     "status": "completed"
    },
    "tags": []
   },
   "source": [
    "### Let us create a `Config` class, to store important parameters. \n",
    "This class essentially plays the role of a dictionary."
   ]
  },
  {
   "cell_type": "code",
   "execution_count": 16,
   "id": "978281aa",
   "metadata": {
    "execution": {
     "iopub.execute_input": "2022-02-19T20:10:05.338569Z",
     "iopub.status.busy": "2022-02-19T20:10:05.337597Z",
     "iopub.status.idle": "2022-02-19T20:10:05.351564Z",
     "shell.execute_reply": "2022-02-19T20:10:05.351026Z"
    },
    "papermill": {
     "duration": 0.05238,
     "end_time": "2022-02-19T20:10:05.351702",
     "exception": false,
     "start_time": "2022-02-19T20:10:05.299322",
     "status": "completed"
    },
    "tags": []
   },
   "outputs": [],
   "source": [
    "class Config:\n",
    "    pass\n",
    "config = Config()\n",
    "config.lr = 0.001\n",
    "config.num_epochs = 250\n",
    "config.bs = 50"
   ]
  },
  {
   "cell_type": "markdown",
   "id": "1385fa59",
   "metadata": {
    "papermill": {
     "duration": 0.031283,
     "end_time": "2022-02-19T20:10:05.417252",
     "exception": false,
     "start_time": "2022-02-19T20:10:05.385969",
     "status": "completed"
    },
    "tags": []
   },
   "source": [
    "### Running Models with the Training data\n",
    "Details about the network layers:\n",
    "- A first affine layer has 784 inputs and does 100 affine transforms. These are followed by a Relu\n",
    "- A second affine layer has 100 inputs from the 100 activations of the past layer, and does 100 affine transforms. These are followed by a Relu\n",
    "- A third affine layer has 100 activations and does 2 affine transformations to create an embedding for visualization. There is no non-linearity here.\n",
    "- A final \"logistic regression\" which has an affine transform from 2 inputs to 1 output, which is squeezed through a sigmoid.\n"
   ]
  },
  {
   "cell_type": "code",
   "execution_count": 17,
   "id": "2b9c66db",
   "metadata": {
    "execution": {
     "iopub.execute_input": "2022-02-19T20:10:05.486544Z",
     "iopub.status.busy": "2022-02-19T20:10:05.485482Z",
     "iopub.status.idle": "2022-02-19T20:10:05.503987Z",
     "shell.execute_reply": "2022-02-19T20:10:05.502818Z"
    },
    "papermill": {
     "duration": 0.055277,
     "end_time": "2022-02-19T20:10:05.504130",
     "exception": false,
     "start_time": "2022-02-19T20:10:05.448853",
     "status": "completed"
    },
    "tags": []
   },
   "outputs": [],
   "source": [
    "data = Data(X_train, y_train.reshape(-1,1))\n",
    "sampler = Sampler(data, config.bs, shuffle=True)\n",
    "\n",
    "dl = Dataloader(data, sampler)\n",
    "\n",
    "opt = GD(config.lr)\n",
    "loss = MSE()"
   ]
  },
  {
   "cell_type": "code",
   "execution_count": 18,
   "id": "b275e4c2",
   "metadata": {
    "execution": {
     "iopub.execute_input": "2022-02-19T20:10:05.576108Z",
     "iopub.status.busy": "2022-02-19T20:10:05.574195Z",
     "iopub.status.idle": "2022-02-19T20:10:05.587342Z",
     "shell.execute_reply": "2022-02-19T20:10:05.586810Z"
    },
    "papermill": {
     "duration": 0.05103,
     "end_time": "2022-02-19T20:10:05.587480",
     "exception": false,
     "start_time": "2022-02-19T20:10:05.536450",
     "status": "completed"
    },
    "tags": []
   },
   "outputs": [],
   "source": [
    "training_data_x = X_train\n",
    "testing_data_x = X_test\n",
    "training_data_y = y_train.reshape(-1,1)\n",
    "testing_data_y = y_test.reshape(-1,1)"
   ]
  },
  {
   "cell_type": "code",
   "execution_count": 19,
   "id": "76951160",
   "metadata": {
    "execution": {
     "iopub.execute_input": "2022-02-19T20:10:05.654550Z",
     "iopub.status.busy": "2022-02-19T20:10:05.653933Z",
     "iopub.status.idle": "2022-02-19T20:10:05.674791Z",
     "shell.execute_reply": "2022-02-19T20:10:05.674269Z"
    },
    "papermill": {
     "duration": 0.05674,
     "end_time": "2022-02-19T20:10:05.674922",
     "exception": false,
     "start_time": "2022-02-19T20:10:05.618182",
     "status": "completed"
    },
    "tags": []
   },
   "outputs": [
    {
     "name": "stdout",
     "output_type": "stream",
     "text": [
      "xavier\n",
      "xavier\n",
      "xavier\n",
      "xavier\n",
      "xavier\n"
     ]
    }
   ],
   "source": [
    "layers = [Affine(\"first\", 784, 100), Relu(\"first\"), Affine(\"second\", 100, 100), Relu(\"second\"), Affine(\"third\", 100, 2), Affine(\"last\", 2, 1), Sigmoid(\"last\")]\n",
    "model_nn = Model(layers)\n",
    "model_lr = Model([Affine(\"logits\", 784, 1), Sigmoid(\"sigmoid\")])"
   ]
  },
  {
   "cell_type": "code",
   "execution_count": 20,
   "id": "6eede77a",
   "metadata": {
    "execution": {
     "iopub.execute_input": "2022-02-19T20:10:05.753630Z",
     "iopub.status.busy": "2022-02-19T20:10:05.753009Z",
     "iopub.status.idle": "2022-02-19T20:10:05.766398Z",
     "shell.execute_reply": "2022-02-19T20:10:05.765871Z"
    },
    "papermill": {
     "duration": 0.059364,
     "end_time": "2022-02-19T20:10:05.766528",
     "exception": false,
     "start_time": "2022-02-19T20:10:05.707164",
     "status": "completed"
    },
    "tags": []
   },
   "outputs": [],
   "source": [
    "nn_learner = Learner(loss, model_nn, opt, config.num_epochs)\n",
    "acc_nn = ClfCallback(nn_learner, config.bs, training_data_x , testing_data_x, training_data_y, testing_data_y)\n",
    "nn_learner.set_callbacks([acc_nn])"
   ]
  },
  {
   "cell_type": "code",
   "execution_count": 21,
   "id": "877b6cc7",
   "metadata": {
    "execution": {
     "iopub.execute_input": "2022-02-19T20:10:05.834974Z",
     "iopub.status.busy": "2022-02-19T20:10:05.834348Z",
     "iopub.status.idle": "2022-02-19T20:10:05.849956Z",
     "shell.execute_reply": "2022-02-19T20:10:05.849444Z"
    },
    "papermill": {
     "duration": 0.052311,
     "end_time": "2022-02-19T20:10:05.850095",
     "exception": false,
     "start_time": "2022-02-19T20:10:05.797784",
     "status": "completed"
    },
    "tags": []
   },
   "outputs": [],
   "source": [
    "lr_learner = Learner(loss, model_lr, opt, config.num_epochs)\n",
    "acc_lr = ClfCallback(lr_learner, config.bs, training_data_x , testing_data_x, training_data_y, testing_data_y)\n",
    "lr_learner.set_callbacks([acc_lr])"
   ]
  },
  {
   "cell_type": "code",
   "execution_count": 22,
   "id": "d9b133c3",
   "metadata": {
    "execution": {
     "iopub.execute_input": "2022-02-19T20:10:05.918503Z",
     "iopub.status.busy": "2022-02-19T20:10:05.917898Z",
     "iopub.status.idle": "2022-02-19T20:11:35.295494Z",
     "shell.execute_reply": "2022-02-19T20:11:35.296081Z"
    },
    "papermill": {
     "duration": 89.414726,
     "end_time": "2022-02-19T20:11:35.296239",
     "exception": false,
     "start_time": "2022-02-19T20:10:05.881513",
     "status": "completed"
    },
    "tags": []
   },
   "outputs": [
    {
     "name": "stdout",
     "output_type": "stream",
     "text": [
      "Epoch 0, Loss 0.2498\n",
      "Training Accuracy: 0.5906, Testing Accuracy: 0.6028\n",
      "\n"
     ]
    },
    {
     "name": "stdout",
     "output_type": "stream",
     "text": [
      "Epoch 10, Loss 0.1316\n",
      "Training Accuracy: 0.8944, Testing Accuracy: 0.9027\n",
      "\n"
     ]
    },
    {
     "name": "stdout",
     "output_type": "stream",
     "text": [
      "Epoch 20, Loss 0.0704\n",
      "Training Accuracy: 0.9291, Testing Accuracy: 0.9400\n",
      "\n"
     ]
    },
    {
     "name": "stdout",
     "output_type": "stream",
     "text": [
      "Epoch 30, Loss 0.051\n",
      "Training Accuracy: 0.9453, Testing Accuracy: 0.9556\n",
      "\n"
     ]
    },
    {
     "name": "stdout",
     "output_type": "stream",
     "text": [
      "Epoch 40, Loss 0.0423\n",
      "Training Accuracy: 0.9533, Testing Accuracy: 0.9622\n",
      "\n"
     ]
    },
    {
     "name": "stdout",
     "output_type": "stream",
     "text": [
      "Epoch 50, Loss 0.0376\n",
      "Training Accuracy: 0.9574, Testing Accuracy: 0.9662\n",
      "\n"
     ]
    },
    {
     "name": "stdout",
     "output_type": "stream",
     "text": [
      "Epoch 60, Loss 0.0345\n",
      "Training Accuracy: 0.9607, Testing Accuracy: 0.9672\n",
      "\n"
     ]
    },
    {
     "name": "stdout",
     "output_type": "stream",
     "text": [
      "Epoch 70, Loss 0.0324\n",
      "Training Accuracy: 0.9626, Testing Accuracy: 0.9677\n",
      "\n"
     ]
    },
    {
     "name": "stdout",
     "output_type": "stream",
     "text": [
      "Epoch 80, Loss 0.0307\n",
      "Training Accuracy: 0.9636, Testing Accuracy: 0.9677\n",
      "\n"
     ]
    },
    {
     "name": "stdout",
     "output_type": "stream",
     "text": [
      "Epoch 90, Loss 0.0294\n",
      "Training Accuracy: 0.9654, Testing Accuracy: 0.9693\n",
      "\n"
     ]
    },
    {
     "name": "stdout",
     "output_type": "stream",
     "text": [
      "Epoch 100, Loss 0.0283\n",
      "Training Accuracy: 0.9668, Testing Accuracy: 0.9703\n",
      "\n"
     ]
    },
    {
     "name": "stdout",
     "output_type": "stream",
     "text": [
      "Epoch 110, Loss 0.0274\n",
      "Training Accuracy: 0.9676, Testing Accuracy: 0.9708\n",
      "\n"
     ]
    },
    {
     "name": "stdout",
     "output_type": "stream",
     "text": [
      "Epoch 120, Loss 0.0265\n",
      "Training Accuracy: 0.9688, Testing Accuracy: 0.9708\n",
      "\n"
     ]
    },
    {
     "name": "stdout",
     "output_type": "stream",
     "text": [
      "Epoch 130, Loss 0.0258\n",
      "Training Accuracy: 0.9703, Testing Accuracy: 0.9703\n",
      "\n"
     ]
    },
    {
     "name": "stdout",
     "output_type": "stream",
     "text": [
      "Epoch 140, Loss 0.0252\n",
      "Training Accuracy: 0.9710, Testing Accuracy: 0.9708\n",
      "\n"
     ]
    },
    {
     "name": "stdout",
     "output_type": "stream",
     "text": [
      "Epoch 150, Loss 0.0246\n",
      "Training Accuracy: 0.9717, Testing Accuracy: 0.9708\n",
      "\n"
     ]
    },
    {
     "name": "stdout",
     "output_type": "stream",
     "text": [
      "Epoch 160, Loss 0.024\n",
      "Training Accuracy: 0.9721, Testing Accuracy: 0.9698\n",
      "\n"
     ]
    },
    {
     "name": "stdout",
     "output_type": "stream",
     "text": [
      "Epoch 170, Loss 0.0235\n",
      "Training Accuracy: 0.9729, Testing Accuracy: 0.9698\n",
      "\n"
     ]
    },
    {
     "name": "stdout",
     "output_type": "stream",
     "text": [
      "Epoch 180, Loss 0.023\n",
      "Training Accuracy: 0.9741, Testing Accuracy: 0.9698\n",
      "\n"
     ]
    },
    {
     "name": "stdout",
     "output_type": "stream",
     "text": [
      "Epoch 190, Loss 0.0226\n",
      "Training Accuracy: 0.9748, Testing Accuracy: 0.9708\n",
      "\n"
     ]
    },
    {
     "name": "stdout",
     "output_type": "stream",
     "text": [
      "Epoch 200, Loss 0.0222\n",
      "Training Accuracy: 0.9751, Testing Accuracy: 0.9713\n",
      "\n"
     ]
    },
    {
     "name": "stdout",
     "output_type": "stream",
     "text": [
      "Epoch 210, Loss 0.0217\n",
      "Training Accuracy: 0.9756, Testing Accuracy: 0.9713\n",
      "\n"
     ]
    },
    {
     "name": "stdout",
     "output_type": "stream",
     "text": [
      "Epoch 220, Loss 0.0213\n",
      "Training Accuracy: 0.9762, Testing Accuracy: 0.9718\n",
      "\n"
     ]
    },
    {
     "name": "stdout",
     "output_type": "stream",
     "text": [
      "Epoch 230, Loss 0.021\n",
      "Training Accuracy: 0.9770, Testing Accuracy: 0.9718\n",
      "\n"
     ]
    },
    {
     "name": "stdout",
     "output_type": "stream",
     "text": [
      "Epoch 240, Loss 0.0206\n",
      "Training Accuracy: 0.9772, Testing Accuracy: 0.9718\n",
      "\n"
     ]
    },
    {
     "data": {
      "text/plain": [
       "0.01408545676558838"
      ]
     },
     "execution_count": 22,
     "metadata": {},
     "output_type": "execute_result"
    }
   ],
   "source": [
    "nn_learner.train_loop(dl)"
   ]
  },
  {
   "cell_type": "code",
   "execution_count": 23,
   "id": "e0163366",
   "metadata": {
    "execution": {
     "iopub.execute_input": "2022-02-19T20:11:35.380978Z",
     "iopub.status.busy": "2022-02-19T20:11:35.380369Z",
     "iopub.status.idle": "2022-02-19T20:11:51.393166Z",
     "shell.execute_reply": "2022-02-19T20:11:51.394016Z"
    },
    "papermill": {
     "duration": 16.058565,
     "end_time": "2022-02-19T20:11:51.394182",
     "exception": false,
     "start_time": "2022-02-19T20:11:35.335617",
     "status": "completed"
    },
    "tags": []
   },
   "outputs": [
    {
     "name": "stdout",
     "output_type": "stream",
     "text": [
      "Epoch 0, Loss 0.2561\n",
      "Training Accuracy: 0.6300, Testing Accuracy: 0.6416\n",
      "\n"
     ]
    },
    {
     "name": "stdout",
     "output_type": "stream",
     "text": [
      "Epoch 10, Loss 0.103\n",
      "Training Accuracy: 0.9138, Testing Accuracy: 0.9244\n",
      "\n"
     ]
    },
    {
     "name": "stdout",
     "output_type": "stream",
     "text": [
      "Epoch 20, Loss 0.079\n",
      "Training Accuracy: 0.9292, Testing Accuracy: 0.9425\n",
      "\n"
     ]
    },
    {
     "name": "stdout",
     "output_type": "stream",
     "text": [
      "Epoch 30, Loss 0.0681\n",
      "Training Accuracy: 0.9376, Testing Accuracy: 0.9521\n",
      "\n"
     ]
    },
    {
     "name": "stdout",
     "output_type": "stream",
     "text": [
      "Epoch 40, Loss 0.0616\n",
      "Training Accuracy: 0.9406, Testing Accuracy: 0.9551\n",
      "\n"
     ]
    },
    {
     "name": "stdout",
     "output_type": "stream",
     "text": [
      "Epoch 50, Loss 0.0572\n",
      "Training Accuracy: 0.9440, Testing Accuracy: 0.9592\n",
      "\n"
     ]
    },
    {
     "name": "stdout",
     "output_type": "stream",
     "text": [
      "Epoch 60, Loss 0.0539\n",
      "Training Accuracy: 0.9462, Testing Accuracy: 0.9587\n",
      "\n"
     ]
    },
    {
     "name": "stdout",
     "output_type": "stream",
     "text": [
      "Epoch 70, Loss 0.0514\n",
      "Training Accuracy: 0.9480, Testing Accuracy: 0.9592\n",
      "\n"
     ]
    },
    {
     "name": "stdout",
     "output_type": "stream",
     "text": [
      "Epoch 80, Loss 0.0494\n",
      "Training Accuracy: 0.9498, Testing Accuracy: 0.9612\n",
      "\n"
     ]
    },
    {
     "name": "stdout",
     "output_type": "stream",
     "text": [
      "Epoch 90, Loss 0.0477\n",
      "Training Accuracy: 0.9512, Testing Accuracy: 0.9627\n",
      "\n"
     ]
    },
    {
     "name": "stdout",
     "output_type": "stream",
     "text": [
      "Epoch 100, Loss 0.0463\n",
      "Training Accuracy: 0.9522, Testing Accuracy: 0.9632\n",
      "\n"
     ]
    },
    {
     "name": "stdout",
     "output_type": "stream",
     "text": [
      "Epoch 110, Loss 0.0451\n",
      "Training Accuracy: 0.9533, Testing Accuracy: 0.9632\n",
      "\n"
     ]
    },
    {
     "name": "stdout",
     "output_type": "stream",
     "text": [
      "Epoch 120, Loss 0.044\n",
      "Training Accuracy: 0.9541, Testing Accuracy: 0.9637\n",
      "\n"
     ]
    },
    {
     "name": "stdout",
     "output_type": "stream",
     "text": [
      "Epoch 130, Loss 0.0431\n",
      "Training Accuracy: 0.9550, Testing Accuracy: 0.9627\n",
      "\n"
     ]
    },
    {
     "name": "stdout",
     "output_type": "stream",
     "text": [
      "Epoch 140, Loss 0.0423\n",
      "Training Accuracy: 0.9556, Testing Accuracy: 0.9642\n",
      "\n"
     ]
    },
    {
     "name": "stdout",
     "output_type": "stream",
     "text": [
      "Epoch 150, Loss 0.0415\n",
      "Training Accuracy: 0.9563, Testing Accuracy: 0.9647\n",
      "\n"
     ]
    },
    {
     "name": "stdout",
     "output_type": "stream",
     "text": [
      "Epoch 160, Loss 0.0409\n",
      "Training Accuracy: 0.9568, Testing Accuracy: 0.9652\n",
      "\n"
     ]
    },
    {
     "name": "stdout",
     "output_type": "stream",
     "text": [
      "Epoch 170, Loss 0.0403\n",
      "Training Accuracy: 0.9572, Testing Accuracy: 0.9652\n",
      "\n"
     ]
    },
    {
     "name": "stdout",
     "output_type": "stream",
     "text": [
      "Epoch 180, Loss 0.0397\n",
      "Training Accuracy: 0.9579, Testing Accuracy: 0.9647\n",
      "\n"
     ]
    },
    {
     "name": "stdout",
     "output_type": "stream",
     "text": [
      "Epoch 190, Loss 0.0392\n",
      "Training Accuracy: 0.9583, Testing Accuracy: 0.9662\n",
      "\n"
     ]
    },
    {
     "name": "stdout",
     "output_type": "stream",
     "text": [
      "Epoch 200, Loss 0.0387\n",
      "Training Accuracy: 0.9587, Testing Accuracy: 0.9662\n",
      "\n"
     ]
    },
    {
     "name": "stdout",
     "output_type": "stream",
     "text": [
      "Epoch 210, Loss 0.0383\n",
      "Training Accuracy: 0.9590, Testing Accuracy: 0.9662\n",
      "\n"
     ]
    },
    {
     "name": "stdout",
     "output_type": "stream",
     "text": [
      "Epoch 220, Loss 0.0378\n",
      "Training Accuracy: 0.9595, Testing Accuracy: 0.9662\n",
      "\n"
     ]
    },
    {
     "name": "stdout",
     "output_type": "stream",
     "text": [
      "Epoch 230, Loss 0.0375\n",
      "Training Accuracy: 0.9598, Testing Accuracy: 0.9662\n",
      "\n"
     ]
    },
    {
     "name": "stdout",
     "output_type": "stream",
     "text": [
      "Epoch 240, Loss 0.0371\n",
      "Training Accuracy: 0.9599, Testing Accuracy: 0.9657\n",
      "\n"
     ]
    },
    {
     "data": {
      "text/plain": [
       "0.016796956364084934"
      ]
     },
     "execution_count": 23,
     "metadata": {},
     "output_type": "execute_result"
    }
   ],
   "source": [
    "lr_learner.train_loop(dl)"
   ]
  },
  {
   "cell_type": "code",
   "execution_count": 24,
   "id": "ca410940",
   "metadata": {
    "execution": {
     "iopub.execute_input": "2022-02-19T20:11:51.500944Z",
     "iopub.status.busy": "2022-02-19T20:11:51.500298Z",
     "iopub.status.idle": "2022-02-19T20:11:51.770435Z",
     "shell.execute_reply": "2022-02-19T20:11:51.769920Z"
    },
    "papermill": {
     "duration": 0.329253,
     "end_time": "2022-02-19T20:11:51.770574",
     "exception": false,
     "start_time": "2022-02-19T20:11:51.441321",
     "status": "completed"
    },
    "tags": []
   },
   "outputs": [
    {
     "data": {
      "text/plain": [
       "<matplotlib.legend.Legend at 0x7fc7a92abcc0>"
      ]
     },
     "execution_count": 24,
     "metadata": {},
     "output_type": "execute_result"
    },
    {
     "data": {
      "image/png": "[encoded data removed]",
      "text/plain": [
       "<Figure size 1080x720 with 1 Axes>"
      ]
     },
     "metadata": {
      "needs_background": "light"
     },
     "output_type": "display_data"
    }
   ],
   "source": [
    "#comparing the results of NN and LR\n",
    "plt.figure(figsize=(15,10))\n",
    "\n",
    "# Neural Network plots\n",
    "plt.plot(acc_nn.accuracies, 'r-', label = \"Training Accuracies - NN\")\n",
    "plt.plot(acc_nn.test_accuracies, 'g-', label = \"Testing Accuracies - NN\")\n",
    "\n",
    "# Logistic Regression plots\n",
    "plt.plot(acc_lr.accuracies, 'k-', label = \"Training Accuracies - LR\")\n",
    "plt.plot(acc_lr.test_accuracies, 'b-', label = \"Testing Accuracies - LR\")\n",
    "plt.legend()"
   ]
  },
  {
   "cell_type": "markdown",
   "id": "80dfb35c",
   "metadata": {
    "papermill": {
     "duration": 0.051646,
     "end_time": "2022-02-19T20:11:51.873859",
     "exception": false,
     "start_time": "2022-02-19T20:11:51.822213",
     "status": "completed"
    },
    "tags": []
   },
   "source": [
    "#### Plotting the outputs of this layer of the NN.\n"
   ]
  },
  {
   "cell_type": "code",
   "execution_count": 25,
   "id": "45eb2ff5",
   "metadata": {
    "execution": {
     "iopub.execute_input": "2022-02-19T20:11:51.987713Z",
     "iopub.status.busy": "2022-02-19T20:11:51.987040Z",
     "iopub.status.idle": "2022-02-19T20:11:52.010586Z",
     "shell.execute_reply": "2022-02-19T20:11:52.011138Z"
    },
    "papermill": {
     "duration": 0.08096,
     "end_time": "2022-02-19T20:11:52.011332",
     "exception": false,
     "start_time": "2022-02-19T20:11:51.930372",
     "status": "completed"
    },
    "tags": []
   },
   "outputs": [],
   "source": [
    "new_model = Model(layers[:-2])\n",
    "testing_plot = new_model(testing_data_x)"
   ]
  },
  {
   "cell_type": "code",
   "execution_count": 26,
   "id": "4c0a5485",
   "metadata": {
    "execution": {
     "iopub.execute_input": "2022-02-19T20:11:52.123843Z",
     "iopub.status.busy": "2022-02-19T20:11:52.122574Z",
     "iopub.status.idle": "2022-02-19T20:11:52.363111Z",
     "shell.execute_reply": "2022-02-19T20:11:52.362582Z"
    },
    "papermill": {
     "duration": 0.302361,
     "end_time": "2022-02-19T20:11:52.363264",
     "exception": false,
     "start_time": "2022-02-19T20:11:52.060903",
     "status": "completed"
    },
    "tags": []
   },
   "outputs": [
    {
     "data": {
      "text/plain": [
       "Text(0.5, 1.0, 'Outputs')"
      ]
     },
     "execution_count": 26,
     "metadata": {},
     "output_type": "execute_result"
    },
    {
     "data": {
      "image/png": "[encoded data removed]",
      "text/plain": [
       "<Figure size 576x504 with 1 Axes>"
      ]
     },
     "metadata": {
      "needs_background": "light"
     },
     "output_type": "display_data"
    }
   ],
   "source": [
    "# Plotting the scatter plot of points and color coding by class\n",
    "plt.figure(figsize=(8,7))\n",
    "plt.scatter(testing_plot[:,0], testing_plot[:,1], alpha = 0.1, c = y_test.ravel());\n",
    "plt.title('Outputs')"
   ]
  },
  {
   "cell_type": "markdown",
   "id": "a74fcf8f",
   "metadata": {
    "papermill": {
     "duration": 0.050617,
     "end_time": "2022-02-19T20:11:52.464949",
     "exception": false,
     "start_time": "2022-02-19T20:11:52.414332",
     "status": "completed"
    },
    "tags": []
   },
   "source": [
    "Probability contours"
   ]
  },
  {
   "cell_type": "code",
   "execution_count": 27,
   "id": "d0afc8e3",
   "metadata": {
    "execution": {
     "iopub.execute_input": "2022-02-19T20:11:52.604212Z",
     "iopub.status.busy": "2022-02-19T20:11:52.603524Z",
     "iopub.status.idle": "2022-02-19T20:11:52.620103Z",
     "shell.execute_reply": "2022-02-19T20:11:52.619514Z"
    },
    "papermill": {
     "duration": 0.104534,
     "end_time": "2022-02-19T20:11:52.620238",
     "exception": false,
     "start_time": "2022-02-19T20:11:52.515704",
     "status": "completed"
    },
    "tags": []
   },
   "outputs": [],
   "source": [
    "model_prob = Model(layers[-2:]) "
   ]
  },
  {
   "cell_type": "code",
   "execution_count": 28,
   "id": "9b96e238",
   "metadata": {
    "execution": {
     "iopub.execute_input": "2022-02-19T20:11:52.754416Z",
     "iopub.status.busy": "2022-02-19T20:11:52.753796Z",
     "iopub.status.idle": "2022-02-19T20:11:52.769249Z",
     "shell.execute_reply": "2022-02-19T20:11:52.769734Z"
    },
    "papermill": {
     "duration": 0.078459,
     "end_time": "2022-02-19T20:11:52.770020",
     "exception": false,
     "start_time": "2022-02-19T20:11:52.691561",
     "status": "completed"
    },
    "tags": []
   },
   "outputs": [],
   "source": [
    "#creating the x and y ranges according to the above generated plot.\n",
    "x_range = np.linspace(-4, 1, 100) \n",
    "y_range = np.linspace(-6, 6, 100) \n",
    "x_grid, y_grid = np.meshgrid(x_range, y_range) # x_grid and y_grig are of size 100 X 100\n",
    "\n",
    "# converting x_grid and y_grid to continuous arrays\n",
    "x_gridflat = np.ravel(x_grid)\n",
    "y_gridflat = np.ravel(y_grid)\n",
    "\n",
    "# The last layer of the current model takes two columns as input. Hence transpose of np.vstack() is required.\n",
    "X = np.vstack((x_gridflat, y_gridflat)).T\n",
    "\n",
    "prob_contour = model_prob(X).reshape(100,100) "
   ]
  },
  {
   "cell_type": "code",
   "execution_count": 29,
   "id": "da72499a",
   "metadata": {
    "execution": {
     "iopub.execute_input": "2022-02-19T20:11:52.888737Z",
     "iopub.status.busy": "2022-02-19T20:11:52.888116Z",
     "iopub.status.idle": "2022-02-19T20:11:53.203516Z",
     "shell.execute_reply": "2022-02-19T20:11:53.202598Z"
    },
    "papermill": {
     "duration": 0.380333,
     "end_time": "2022-02-19T20:11:53.203657",
     "exception": false,
     "start_time": "2022-02-19T20:11:52.823324",
     "status": "completed"
    },
    "tags": []
   },
   "outputs": [
    {
     "data": {
      "image/png": "[encoded data removed]",
      "text/plain": [
       "<Figure size 720x648 with 1 Axes>"
      ]
     },
     "metadata": {
      "needs_background": "light"
     },
     "output_type": "display_data"
    }
   ],
   "source": [
    "plt.figure(figsize=(10,9))\n",
    "plt.scatter(testing_plot[:,0], testing_plot[:,1], alpha = 0.1, c = y_test.ravel())\n",
    "contours = plt.contour(x_grid,y_grid,prob_contour)\n",
    "plt.title('Probability Contours')\n",
    "plt.clabel(contours, inline = True );"
   ]
  },
  {
   "cell_type": "code",
   "execution_count": null,
   "id": "e81b4ac7",
   "metadata": {
    "papermill": {
     "duration": 0.054237,
     "end_time": "2022-02-19T20:11:53.311769",
     "exception": false,
     "start_time": "2022-02-19T20:11:53.257532",
     "status": "completed"
    },
    "tags": []
   },
   "outputs": [],
   "source": []
  }
 ],
 "metadata": {
  "kernelspec": {
   "display_name": "Python 3",
   "language": "python",
   "name": "python3"
  },
  "language_info": {
   "codemirror_mode": {
    "name": "ipython",
    "version": 3
   },
   "file_extension": ".py",
   "mimetype": "text/x-python",
   "name": "python",
   "nbconvert_exporter": "python",
   "pygments_lexer": "ipython3",
   "version": "3.6.15"
  },
  "papermill": {
   "default_parameters": {},
   "duration": 115.986544,
   "end_time": "2022-02-19T20:11:53.786370",
   "environment_variables": {},
   "exception": null,
   "input_path": "2020-08-11-part2.ipynb",
   "output_path": "2020-08-11-part2.ipynb",
   "parameters": {},
   "start_time": "2022-02-19T20:09:57.799826",
   "version": "2.3.3"
  }
 },
 "nbformat": 4,
 "nbformat_minor": 5
}