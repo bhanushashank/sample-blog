{
 "cells": [
  {
   "cell_type": "markdown",
   "id": "98380cd3",
   "metadata": {
    "papermill": {
     "duration": 0.039716,
     "end_time": "2022-10-18T20:13:04.704601",
     "exception": false,
     "start_time": "2022-10-18T20:13:04.664885",
     "status": "completed"
    },
    "tags": []
   },
   "source": [
    "# Distinguish Your Own Digits (DYOD)"
   ]
  },
  {
   "cell_type": "markdown",
   "id": "ef31240d",
   "metadata": {
    "papermill": {
     "duration": 0.032553,
     "end_time": "2022-10-18T20:13:04.770136",
     "exception": false,
     "start_time": "2022-10-18T20:13:04.737583",
     "status": "completed"
    },
    "tags": []
   },
   "source": [
    "You are going to write a classifier that distinguishes between the number 3 and number 8."
   ]
  },
  {
   "cell_type": "code",
   "execution_count": 1,
   "id": "b15c8646",
   "metadata": {
    "execution": {
     "iopub.execute_input": "2022-10-18T20:13:04.846738Z",
     "iopub.status.busy": "2022-10-18T20:13:04.845915Z",
     "iopub.status.idle": "2022-10-18T20:13:04.858901Z",
     "shell.execute_reply": "2022-10-18T20:13:04.858211Z"
    },
    "papermill": {
     "duration": 0.057678,
     "end_time": "2022-10-18T20:13:04.859058",
     "exception": false,
     "start_time": "2022-10-18T20:13:04.801380",
     "status": "completed"
    },
    "tags": []
   },
   "outputs": [],
   "source": [
    "%load_ext autoreload\n",
    "%autoreload 2"
   ]
  },
  {
   "cell_type": "code",
   "execution_count": 2,
   "id": "22ef38dc",
   "metadata": {
    "execution": {
     "iopub.execute_input": "2022-10-18T20:13:04.929446Z",
     "iopub.status.busy": "2022-10-18T20:13:04.928669Z",
     "iopub.status.idle": "2022-10-18T20:13:05.604221Z",
     "shell.execute_reply": "2022-10-18T20:13:05.603557Z"
    },
    "papermill": {
     "duration": 0.713318,
     "end_time": "2022-10-18T20:13:05.604370",
     "exception": false,
     "start_time": "2022-10-18T20:13:04.891052",
     "status": "completed"
    },
    "tags": []
   },
   "outputs": [],
   "source": [
    "%matplotlib inline\n",
    "import numpy as np\n",
    "import matplotlib.pyplot as plt\n",
    "import pandas as pd"
   ]
  },
  {
   "cell_type": "markdown",
   "id": "ba036198",
   "metadata": {
    "papermill": {
     "duration": 0.03452,
     "end_time": "2022-10-18T20:13:05.671407",
     "exception": false,
     "start_time": "2022-10-18T20:13:05.636887",
     "status": "completed"
    },
    "tags": []
   },
   "source": [
    "From the command line run `pip install mnist`. This is a library that will help you bring down the mnist dataset. If you run this from a notebook, you need to put  `!pip install mnist` in a cell by itself."
   ]
  },
  {
   "cell_type": "code",
   "execution_count": 3,
   "id": "bb6ad8a1",
   "metadata": {
    "execution": {
     "iopub.execute_input": "2022-10-18T20:13:05.741609Z",
     "iopub.status.busy": "2022-10-18T20:13:05.739405Z",
     "iopub.status.idle": "2022-10-18T20:13:07.744166Z",
     "shell.execute_reply": "2022-10-18T20:13:07.743461Z"
    },
    "papermill": {
     "duration": 2.040616,
     "end_time": "2022-10-18T20:13:07.744305",
     "exception": false,
     "start_time": "2022-10-18T20:13:05.703689",
     "status": "completed"
    },
    "tags": []
   },
   "outputs": [
    {
     "name": "stdout",
     "output_type": "stream",
     "text": [
      "Collecting mnist\r\n"
     ]
    },
    {
     "name": "stdout",
     "output_type": "stream",
     "text": [
      "  Downloading mnist-0.2.2-py2.py3-none-any.whl (3.5 kB)\r\n",
      "Requirement already satisfied: numpy in /opt/hostedtoolcache/Python/3.6.15/x64/lib/python3.6/site-packages (from mnist) (1.19.5)\r\n"
     ]
    },
    {
     "name": "stdout",
     "output_type": "stream",
     "text": [
      "Installing collected packages: mnist\r\n"
     ]
    },
    {
     "name": "stdout",
     "output_type": "stream",
     "text": [
      "Successfully installed mnist-0.2.2\r\n"
     ]
    }
   ],
   "source": [
    "!pip install mnist"
   ]
  },
  {
   "cell_type": "markdown",
   "id": "69df9c9a",
   "metadata": {
    "papermill": {
     "duration": 0.037065,
     "end_time": "2022-10-18T20:13:07.817525",
     "exception": false,
     "start_time": "2022-10-18T20:13:07.780460",
     "status": "completed"
    },
    "tags": []
   },
   "source": [
    "## Preparing the Data"
   ]
  },
  {
   "cell_type": "code",
   "execution_count": 4,
   "id": "7f69d806",
   "metadata": {
    "execution": {
     "iopub.execute_input": "2022-10-18T20:13:07.888547Z",
     "iopub.status.busy": "2022-10-18T20:13:07.887780Z",
     "iopub.status.idle": "2022-10-18T20:13:07.905501Z",
     "shell.execute_reply": "2022-10-18T20:13:07.904840Z"
    },
    "papermill": {
     "duration": 0.054491,
     "end_time": "2022-10-18T20:13:07.905646",
     "exception": false,
     "start_time": "2022-10-18T20:13:07.851155",
     "status": "completed"
    },
    "tags": []
   },
   "outputs": [],
   "source": [
    "import mnist"
   ]
  },
  {
   "cell_type": "code",
   "execution_count": 5,
   "id": "a411e44f",
   "metadata": {
    "execution": {
     "iopub.execute_input": "2022-10-18T20:13:07.983489Z",
     "iopub.status.busy": "2022-10-18T20:13:07.982726Z",
     "iopub.status.idle": "2022-10-18T20:13:08.630638Z",
     "shell.execute_reply": "2022-10-18T20:13:08.629902Z"
    },
    "papermill": {
     "duration": 0.691571,
     "end_time": "2022-10-18T20:13:08.630785",
     "exception": false,
     "start_time": "2022-10-18T20:13:07.939214",
     "status": "completed"
    },
    "tags": []
   },
   "outputs": [],
   "source": [
    "train_images = mnist.train_images()\n",
    "train_labels = mnist.train_labels()"
   ]
  },
  {
   "cell_type": "code",
   "execution_count": 6,
   "id": "dceab3a5",
   "metadata": {
    "execution": {
     "iopub.execute_input": "2022-10-18T20:13:08.705123Z",
     "iopub.status.busy": "2022-10-18T20:13:08.704353Z",
     "iopub.status.idle": "2022-10-18T20:13:08.721784Z",
     "shell.execute_reply": "2022-10-18T20:13:08.721178Z"
    },
    "papermill": {
     "duration": 0.058509,
     "end_time": "2022-10-18T20:13:08.721927",
     "exception": false,
     "start_time": "2022-10-18T20:13:08.663418",
     "status": "completed"
    },
    "tags": []
   },
   "outputs": [
    {
     "data": {
      "text/plain": [
       "((60000, 28, 28), (60000,))"
      ]
     },
     "execution_count": 6,
     "metadata": {},
     "output_type": "execute_result"
    }
   ],
   "source": [
    "train_images.shape, train_labels.shape"
   ]
  },
  {
   "cell_type": "code",
   "execution_count": 7,
   "id": "f50dc2bb",
   "metadata": {
    "execution": {
     "iopub.execute_input": "2022-10-18T20:13:08.796747Z",
     "iopub.status.busy": "2022-10-18T20:13:08.796002Z",
     "iopub.status.idle": "2022-10-18T20:13:08.920740Z",
     "shell.execute_reply": "2022-10-18T20:13:08.920114Z"
    },
    "papermill": {
     "duration": 0.165847,
     "end_time": "2022-10-18T20:13:08.920890",
     "exception": false,
     "start_time": "2022-10-18T20:13:08.755043",
     "status": "completed"
    },
    "tags": []
   },
   "outputs": [],
   "source": [
    "test_images = mnist.test_images()\n",
    "test_labels = mnist.test_labels()"
   ]
  },
  {
   "cell_type": "code",
   "execution_count": 8,
   "id": "fc38cf1b",
   "metadata": {
    "execution": {
     "iopub.execute_input": "2022-10-18T20:13:08.997069Z",
     "iopub.status.busy": "2022-10-18T20:13:08.996303Z",
     "iopub.status.idle": "2022-10-18T20:13:09.008737Z",
     "shell.execute_reply": "2022-10-18T20:13:09.009469Z"
    },
    "papermill": {
     "duration": 0.05616,
     "end_time": "2022-10-18T20:13:09.009631",
     "exception": false,
     "start_time": "2022-10-18T20:13:08.953471",
     "status": "completed"
    },
    "tags": []
   },
   "outputs": [
    {
     "data": {
      "text/plain": [
       "((10000, 28, 28), (10000,))"
      ]
     },
     "execution_count": 8,
     "metadata": {},
     "output_type": "execute_result"
    }
   ],
   "source": [
    "test_images.shape, test_labels.shape"
   ]
  },
  {
   "cell_type": "code",
   "execution_count": 9,
   "id": "f9ed8fe0",
   "metadata": {
    "execution": {
     "iopub.execute_input": "2022-10-18T20:13:09.084431Z",
     "iopub.status.busy": "2022-10-18T20:13:09.083592Z",
     "iopub.status.idle": "2022-10-18T20:13:09.279347Z",
     "shell.execute_reply": "2022-10-18T20:13:09.278431Z"
    },
    "papermill": {
     "duration": 0.236284,
     "end_time": "2022-10-18T20:13:09.279492",
     "exception": false,
     "start_time": "2022-10-18T20:13:09.043208",
     "status": "completed"
    },
    "tags": []
   },
   "outputs": [
    {
     "name": "stdout",
     "output_type": "stream",
     "text": [
      "2\n"
     ]
    },
    {
     "data": {
      "text/plain": [
       "<matplotlib.image.AxesImage at 0x7fc611022c18>"
      ]
     },
     "execution_count": 9,
     "metadata": {},
     "output_type": "execute_result"
    },
    {
     "data": {
      "image/png": "[encoded data removed]",
      "text/plain": [
       "<Figure size 432x288 with 1 Axes>"
      ]
     },
     "metadata": {
      "needs_background": "light"
     },
     "output_type": "display_data"
    }
   ],
   "source": [
    "image_index = 7776 # You may select anything up to 60,000\n",
    "print(train_labels[image_index]) \n",
    "plt.imshow(train_images[image_index], cmap='Greys')"
   ]
  },
  {
   "cell_type": "markdown",
   "id": "a8d2388d",
   "metadata": {
    "papermill": {
     "duration": 0.034581,
     "end_time": "2022-10-18T20:13:09.349680",
     "exception": false,
     "start_time": "2022-10-18T20:13:09.315099",
     "status": "completed"
    },
    "tags": []
   },
   "source": [
    "## Filter data to get 3 and 8 out"
   ]
  },
  {
   "cell_type": "code",
   "execution_count": 10,
   "id": "776f7fc7",
   "metadata": {
    "execution": {
     "iopub.execute_input": "2022-10-18T20:13:09.425980Z",
     "iopub.status.busy": "2022-10-18T20:13:09.425193Z",
     "iopub.status.idle": "2022-10-18T20:13:09.448329Z",
     "shell.execute_reply": "2022-10-18T20:13:09.447670Z"
    },
    "papermill": {
     "duration": 0.063955,
     "end_time": "2022-10-18T20:13:09.448479",
     "exception": false,
     "start_time": "2022-10-18T20:13:09.384524",
     "status": "completed"
    },
    "tags": []
   },
   "outputs": [],
   "source": [
    "train_filter = np.where((train_labels == 3 ) | (train_labels == 8))\n",
    "test_filter = np.where((test_labels == 3) | (test_labels == 8))\n",
    "X_train, y_train = train_images[train_filter], train_labels[train_filter]\n",
    "X_test, y_test = test_images[test_filter], test_labels[test_filter]"
   ]
  },
  {
   "cell_type": "markdown",
   "id": "948f0b7e",
   "metadata": {
    "papermill": {
     "duration": 0.035661,
     "end_time": "2022-10-18T20:13:09.519740",
     "exception": false,
     "start_time": "2022-10-18T20:13:09.484079",
     "status": "completed"
    },
    "tags": []
   },
   "source": [
    "We normalize the pizel values in the 0 to 1 range"
   ]
  },
  {
   "cell_type": "code",
   "execution_count": 11,
   "id": "ee4c2166",
   "metadata": {
    "execution": {
     "iopub.execute_input": "2022-10-18T20:13:09.593164Z",
     "iopub.status.busy": "2022-10-18T20:13:09.592391Z",
     "iopub.status.idle": "2022-10-18T20:13:09.657667Z",
     "shell.execute_reply": "2022-10-18T20:13:09.656998Z"
    },
    "papermill": {
     "duration": 0.104017,
     "end_time": "2022-10-18T20:13:09.657815",
     "exception": false,
     "start_time": "2022-10-18T20:13:09.553798",
     "status": "completed"
    },
    "tags": []
   },
   "outputs": [],
   "source": [
    "X_train = X_train/255.\n",
    "X_test = X_test/255."
   ]
  },
  {
   "cell_type": "markdown",
   "id": "ddcf4fab",
   "metadata": {
    "papermill": {
     "duration": 0.038296,
     "end_time": "2022-10-18T20:13:09.731880",
     "exception": false,
     "start_time": "2022-10-18T20:13:09.693584",
     "status": "completed"
    },
    "tags": []
   },
   "source": [
    "And setup the labels as 1 (when the digit is 3) and 0 (when the digit is 8)"
   ]
  },
  {
   "cell_type": "code",
   "execution_count": 12,
   "id": "7dc908f2",
   "metadata": {
    "execution": {
     "iopub.execute_input": "2022-10-18T20:13:09.808861Z",
     "iopub.status.busy": "2022-10-18T20:13:09.808091Z",
     "iopub.status.idle": "2022-10-18T20:13:09.824437Z",
     "shell.execute_reply": "2022-10-18T20:13:09.823759Z"
    },
    "papermill": {
     "duration": 0.056409,
     "end_time": "2022-10-18T20:13:09.824580",
     "exception": false,
     "start_time": "2022-10-18T20:13:09.768171",
     "status": "completed"
    },
    "tags": []
   },
   "outputs": [],
   "source": [
    "y_train = 1*(y_train==3)\n",
    "y_test = 1*(y_test==3)"
   ]
  },
  {
   "cell_type": "code",
   "execution_count": 13,
   "id": "01e4e969",
   "metadata": {
    "execution": {
     "iopub.execute_input": "2022-10-18T20:13:09.907137Z",
     "iopub.status.busy": "2022-10-18T20:13:09.906090Z",
     "iopub.status.idle": "2022-10-18T20:13:09.925963Z",
     "shell.execute_reply": "2022-10-18T20:13:09.926735Z"
    },
    "papermill": {
     "duration": 0.061199,
     "end_time": "2022-10-18T20:13:09.926903",
     "exception": false,
     "start_time": "2022-10-18T20:13:09.865704",
     "status": "completed"
    },
    "tags": []
   },
   "outputs": [
    {
     "data": {
      "text/plain": [
       "((11982, 28, 28), (1984, 28, 28))"
      ]
     },
     "execution_count": 13,
     "metadata": {},
     "output_type": "execute_result"
    }
   ],
   "source": [
    "X_train.shape, X_test.shape"
   ]
  },
  {
   "cell_type": "markdown",
   "id": "5ccf3f85",
   "metadata": {
    "papermill": {
     "duration": 0.035803,
     "end_time": "2022-10-18T20:13:09.997675",
     "exception": false,
     "start_time": "2022-10-18T20:13:09.961872",
     "status": "completed"
    },
    "tags": []
   },
   "source": [
    "We reshape the data to flatten the image pixels into a set of features or co-variates:"
   ]
  },
  {
   "cell_type": "code",
   "execution_count": 14,
   "id": "5286a4a3",
   "metadata": {
    "execution": {
     "iopub.execute_input": "2022-10-18T20:13:10.083466Z",
     "iopub.status.busy": "2022-10-18T20:13:10.077256Z",
     "iopub.status.idle": "2022-10-18T20:13:10.090930Z",
     "shell.execute_reply": "2022-10-18T20:13:10.091532Z"
    },
    "papermill": {
     "duration": 0.058756,
     "end_time": "2022-10-18T20:13:10.091708",
     "exception": false,
     "start_time": "2022-10-18T20:13:10.032952",
     "status": "completed"
    },
    "tags": []
   },
   "outputs": [
    {
     "data": {
      "text/plain": [
       "((11982, 784), (1984, 784))"
      ]
     },
     "execution_count": 14,
     "metadata": {},
     "output_type": "execute_result"
    }
   ],
   "source": [
    "X_train = X_train.reshape(X_train.shape[0], -1)\n",
    "X_test = X_test.reshape(X_test.shape[0], -1)\n",
    "X_train.shape, X_test.shape"
   ]
  },
  {
   "cell_type": "code",
   "execution_count": 15,
   "id": "73c5f88a",
   "metadata": {
    "execution": {
     "iopub.execute_input": "2022-10-18T20:13:10.179514Z",
     "iopub.status.busy": "2022-10-18T20:13:10.170656Z",
     "iopub.status.idle": "2022-10-18T20:13:10.195298Z",
     "shell.execute_reply": "2022-10-18T20:13:10.195900Z"
    },
    "papermill": {
     "duration": 0.068104,
     "end_time": "2022-10-18T20:13:10.196064",
     "exception": false,
     "start_time": "2022-10-18T20:13:10.127960",
     "status": "completed"
    },
    "tags": []
   },
   "outputs": [],
   "source": [
    "#Impoting functions from 'Kudzu'\n",
    "from kudzu.model import Model\n",
    "from kudzu.train import Learner\n",
    "from kudzu.optim import GD\n",
    "from kudzu.data import Data, Sampler,Dataloader\n",
    "\n",
    "from kudzu.callbacks import AccCallback\n",
    "from kudzu.callbacks import ClfCallback\n",
    "\n",
    "from kudzu.loss import MSE\n",
    "\n",
    "from kudzu.layer import Sigmoid,Relu\n",
    "from kudzu.layer import Affine"
   ]
  },
  {
   "cell_type": "markdown",
   "id": "bc01172a",
   "metadata": {
    "papermill": {
     "duration": 0.03987,
     "end_time": "2022-10-18T20:13:10.270744",
     "exception": false,
     "start_time": "2022-10-18T20:13:10.230874",
     "status": "completed"
    },
    "tags": []
   },
   "source": [
    "### Let us create a `Config` class, to store important parameters. \n",
    "This class essentially plays the role of a dictionary."
   ]
  },
  {
   "cell_type": "code",
   "execution_count": 16,
   "id": "978281aa",
   "metadata": {
    "execution": {
     "iopub.execute_input": "2022-10-18T20:13:10.362021Z",
     "iopub.status.busy": "2022-10-18T20:13:10.361255Z",
     "iopub.status.idle": "2022-10-18T20:13:10.376439Z",
     "shell.execute_reply": "2022-10-18T20:13:10.375784Z"
    },
    "papermill": {
     "duration": 0.058312,
     "end_time": "2022-10-18T20:13:10.376585",
     "exception": false,
     "start_time": "2022-10-18T20:13:10.318273",
     "status": "completed"
    },
    "tags": []
   },
   "outputs": [],
   "source": [
    "class Config:\n",
    "    pass\n",
    "config = Config()\n",
    "config.lr = 0.001\n",
    "config.num_epochs = 250\n",
    "config.bs = 50"
   ]
  },
  {
   "cell_type": "markdown",
   "id": "1385fa59",
   "metadata": {
    "papermill": {
     "duration": 0.035326,
     "end_time": "2022-10-18T20:13:10.447416",
     "exception": false,
     "start_time": "2022-10-18T20:13:10.412090",
     "status": "completed"
    },
    "tags": []
   },
   "source": [
    "### Running Models with the Training data\n",
    "Details about the network layers:\n",
    "- A first affine layer has 784 inputs and does 100 affine transforms. These are followed by a Relu\n",
    "- A second affine layer has 100 inputs from the 100 activations of the past layer, and does 100 affine transforms. These are followed by a Relu\n",
    "- A third affine layer has 100 activations and does 2 affine transformations to create an embedding for visualization. There is no non-linearity here.\n",
    "- A final \"logistic regression\" which has an affine transform from 2 inputs to 1 output, which is squeezed through a sigmoid.\n"
   ]
  },
  {
   "cell_type": "code",
   "execution_count": 17,
   "id": "2b9c66db",
   "metadata": {
    "execution": {
     "iopub.execute_input": "2022-10-18T20:13:10.524789Z",
     "iopub.status.busy": "2022-10-18T20:13:10.524018Z",
     "iopub.status.idle": "2022-10-18T20:13:10.539476Z",
     "shell.execute_reply": "2022-10-18T20:13:10.538831Z"
    },
    "papermill": {
     "duration": 0.05559,
     "end_time": "2022-10-18T20:13:10.539619",
     "exception": false,
     "start_time": "2022-10-18T20:13:10.484029",
     "status": "completed"
    },
    "tags": []
   },
   "outputs": [],
   "source": [
    "data = Data(X_train, y_train.reshape(-1,1))\n",
    "sampler = Sampler(data, config.bs, shuffle=True)\n",
    "\n",
    "dl = Dataloader(data, sampler)\n",
    "\n",
    "opt = GD(config.lr)\n",
    "loss = MSE()"
   ]
  },
  {
   "cell_type": "code",
   "execution_count": 18,
   "id": "b275e4c2",
   "metadata": {
    "execution": {
     "iopub.execute_input": "2022-10-18T20:13:10.618993Z",
     "iopub.status.busy": "2022-10-18T20:13:10.617912Z",
     "iopub.status.idle": "2022-10-18T20:13:10.632420Z",
     "shell.execute_reply": "2022-10-18T20:13:10.631775Z"
    },
    "papermill": {
     "duration": 0.057457,
     "end_time": "2022-10-18T20:13:10.632562",
     "exception": false,
     "start_time": "2022-10-18T20:13:10.575105",
     "status": "completed"
    },
    "tags": []
   },
   "outputs": [],
   "source": [
    "training_data_x = X_train\n",
    "testing_data_x = X_test\n",
    "training_data_y = y_train.reshape(-1,1)\n",
    "testing_data_y = y_test.reshape(-1,1)"
   ]
  },
  {
   "cell_type": "code",
   "execution_count": 19,
   "id": "76951160",
   "metadata": {
    "execution": {
     "iopub.execute_input": "2022-10-18T20:13:10.709682Z",
     "iopub.status.busy": "2022-10-18T20:13:10.708898Z",
     "iopub.status.idle": "2022-10-18T20:13:10.729027Z",
     "shell.execute_reply": "2022-10-18T20:13:10.729665Z"
    },
    "papermill": {
     "duration": 0.062267,
     "end_time": "2022-10-18T20:13:10.729830",
     "exception": false,
     "start_time": "2022-10-18T20:13:10.667563",
     "status": "completed"
    },
    "tags": []
   },
   "outputs": [
    {
     "name": "stdout",
     "output_type": "stream",
     "text": [
      "xavier\n",
      "xavier\n",
      "xavier\n",
      "xavier\n",
      "xavier\n"
     ]
    }
   ],
   "source": [
    "layers = [Affine(\"first\", 784, 100), Relu(\"first\"), Affine(\"second\", 100, 100), Relu(\"second\"), Affine(\"third\", 100, 2), Affine(\"last\", 2, 1), Sigmoid(\"last\")]\n",
    "model_nn = Model(layers)\n",
    "model_lr = Model([Affine(\"logits\", 784, 1), Sigmoid(\"sigmoid\")])"
   ]
  },
  {
   "cell_type": "code",
   "execution_count": 20,
   "id": "6eede77a",
   "metadata": {
    "execution": {
     "iopub.execute_input": "2022-10-18T20:13:10.808404Z",
     "iopub.status.busy": "2022-10-18T20:13:10.807637Z",
     "iopub.status.idle": "2022-10-18T20:13:10.822727Z",
     "shell.execute_reply": "2022-10-18T20:13:10.823366Z"
    },
    "papermill": {
     "duration": 0.057877,
     "end_time": "2022-10-18T20:13:10.823531",
     "exception": false,
     "start_time": "2022-10-18T20:13:10.765654",
     "status": "completed"
    },
    "tags": []
   },
   "outputs": [],
   "source": [
    "nn_learner = Learner(loss, model_nn, opt, config.num_epochs)\n",
    "acc_nn = ClfCallback(nn_learner, config.bs, training_data_x , testing_data_x, training_data_y, testing_data_y)\n",
    "nn_learner.set_callbacks([acc_nn])"
   ]
  },
  {
   "cell_type": "code",
   "execution_count": 21,
   "id": "877b6cc7",
   "metadata": {
    "execution": {
     "iopub.execute_input": "2022-10-18T20:13:10.903928Z",
     "iopub.status.busy": "2022-10-18T20:13:10.903130Z",
     "iopub.status.idle": "2022-10-18T20:13:10.920272Z",
     "shell.execute_reply": "2022-10-18T20:13:10.919654Z"
    },
    "papermill": {
     "duration": 0.061152,
     "end_time": "2022-10-18T20:13:10.920418",
     "exception": false,
     "start_time": "2022-10-18T20:13:10.859266",
     "status": "completed"
    },
    "tags": []
   },
   "outputs": [],
   "source": [
    "lr_learner = Learner(loss, model_lr, opt, config.num_epochs)\n",
    "acc_lr = ClfCallback(lr_learner, config.bs, training_data_x , testing_data_x, training_data_y, testing_data_y)\n",
    "lr_learner.set_callbacks([acc_lr])"
   ]
  },
  {
   "cell_type": "code",
   "execution_count": 22,
   "id": "d9b133c3",
   "metadata": {
    "execution": {
     "iopub.execute_input": "2022-10-18T20:13:10.998262Z",
     "iopub.status.busy": "2022-10-18T20:13:10.997508Z",
     "iopub.status.idle": "2022-10-18T20:15:25.810071Z",
     "shell.execute_reply": "2022-10-18T20:15:25.811180Z"
    },
    "papermill": {
     "duration": 134.854846,
     "end_time": "2022-10-18T20:15:25.811348",
     "exception": false,
     "start_time": "2022-10-18T20:13:10.956502",
     "status": "completed"
    },
    "tags": []
   },
   "outputs": [
    {
     "name": "stdout",
     "output_type": "stream",
     "text": [
      "Epoch 0, Loss 0.1998\n",
      "Training Accuracy: 0.8440, Testing Accuracy: 0.8407\n",
      "\n"
     ]
    },
    {
     "name": "stdout",
     "output_type": "stream",
     "text": [
      "Epoch 10, Loss 0.0578\n",
      "Training Accuracy: 0.9422, Testing Accuracy: 0.9541\n",
      "\n"
     ]
    },
    {
     "name": "stdout",
     "output_type": "stream",
     "text": [
      "Epoch 20, Loss 0.0416\n",
      "Training Accuracy: 0.9548, Testing Accuracy: 0.9652\n",
      "\n"
     ]
    },
    {
     "name": "stdout",
     "output_type": "stream",
     "text": [
      "Epoch 30, Loss 0.0354\n",
      "Training Accuracy: 0.9600, Testing Accuracy: 0.9657\n",
      "\n"
     ]
    },
    {
     "name": "stdout",
     "output_type": "stream",
     "text": [
      "Epoch 40, Loss 0.032\n",
      "Training Accuracy: 0.9631, Testing Accuracy: 0.9667\n",
      "\n"
     ]
    },
    {
     "name": "stdout",
     "output_type": "stream",
     "text": [
      "Epoch 50, Loss 0.0297\n",
      "Training Accuracy: 0.9645, Testing Accuracy: 0.9688\n",
      "\n"
     ]
    },
    {
     "name": "stdout",
     "output_type": "stream",
     "text": [
      "Epoch 60, Loss 0.028\n",
      "Training Accuracy: 0.9669, Testing Accuracy: 0.9698\n",
      "\n"
     ]
    },
    {
     "name": "stdout",
     "output_type": "stream",
     "text": [
      "Epoch 70, Loss 0.0266\n",
      "Training Accuracy: 0.9688, Testing Accuracy: 0.9723\n",
      "\n"
     ]
    },
    {
     "name": "stdout",
     "output_type": "stream",
     "text": [
      "Epoch 80, Loss 0.0255\n",
      "Training Accuracy: 0.9702, Testing Accuracy: 0.9733\n",
      "\n"
     ]
    },
    {
     "name": "stdout",
     "output_type": "stream",
     "text": [
      "Epoch 90, Loss 0.0245\n",
      "Training Accuracy: 0.9716, Testing Accuracy: 0.9738\n",
      "\n"
     ]
    },
    {
     "name": "stdout",
     "output_type": "stream",
     "text": [
      "Epoch 100, Loss 0.0236\n",
      "Training Accuracy: 0.9730, Testing Accuracy: 0.9738\n",
      "\n"
     ]
    },
    {
     "name": "stdout",
     "output_type": "stream",
     "text": [
      "Epoch 110, Loss 0.0228\n",
      "Training Accuracy: 0.9741, Testing Accuracy: 0.9738\n",
      "\n"
     ]
    },
    {
     "name": "stdout",
     "output_type": "stream",
     "text": [
      "Epoch 120, Loss 0.0221\n",
      "Training Accuracy: 0.9750, Testing Accuracy: 0.9738\n",
      "\n"
     ]
    },
    {
     "name": "stdout",
     "output_type": "stream",
     "text": [
      "Epoch 130, Loss 0.0214\n",
      "Training Accuracy: 0.9761, Testing Accuracy: 0.9733\n",
      "\n"
     ]
    },
    {
     "name": "stdout",
     "output_type": "stream",
     "text": [
      "Epoch 140, Loss 0.0208\n",
      "Training Accuracy: 0.9772, Testing Accuracy: 0.9733\n",
      "\n"
     ]
    },
    {
     "name": "stdout",
     "output_type": "stream",
     "text": [
      "Epoch 150, Loss 0.0202\n",
      "Training Accuracy: 0.9778, Testing Accuracy: 0.9738\n",
      "\n"
     ]
    },
    {
     "name": "stdout",
     "output_type": "stream",
     "text": [
      "Epoch 160, Loss 0.0196\n",
      "Training Accuracy: 0.9786, Testing Accuracy: 0.9738\n",
      "\n"
     ]
    },
    {
     "name": "stdout",
     "output_type": "stream",
     "text": [
      "Epoch 170, Loss 0.0191\n",
      "Training Accuracy: 0.9793, Testing Accuracy: 0.9738\n",
      "\n"
     ]
    },
    {
     "name": "stdout",
     "output_type": "stream",
     "text": [
      "Epoch 180, Loss 0.0186\n",
      "Training Accuracy: 0.9799, Testing Accuracy: 0.9748\n",
      "\n"
     ]
    },
    {
     "name": "stdout",
     "output_type": "stream",
     "text": [
      "Epoch 190, Loss 0.0181\n",
      "Training Accuracy: 0.9804, Testing Accuracy: 0.9748\n",
      "\n"
     ]
    },
    {
     "name": "stdout",
     "output_type": "stream",
     "text": [
      "Epoch 200, Loss 0.0176\n",
      "Training Accuracy: 0.9809, Testing Accuracy: 0.9753\n",
      "\n"
     ]
    },
    {
     "name": "stdout",
     "output_type": "stream",
     "text": [
      "Epoch 210, Loss 0.0172\n",
      "Training Accuracy: 0.9814, Testing Accuracy: 0.9753\n",
      "\n"
     ]
    },
    {
     "name": "stdout",
     "output_type": "stream",
     "text": [
      "Epoch 220, Loss 0.0168\n",
      "Training Accuracy: 0.9820, Testing Accuracy: 0.9758\n",
      "\n"
     ]
    },
    {
     "name": "stdout",
     "output_type": "stream",
     "text": [
      "Epoch 230, Loss 0.0164\n",
      "Training Accuracy: 0.9823, Testing Accuracy: 0.9768\n",
      "\n"
     ]
    },
    {
     "name": "stdout",
     "output_type": "stream",
     "text": [
      "Epoch 240, Loss 0.016\n",
      "Training Accuracy: 0.9828, Testing Accuracy: 0.9773\n",
      "\n"
     ]
    },
    {
     "data": {
      "text/plain": [
       "0.012448038577835654"
      ]
     },
     "execution_count": 22,
     "metadata": {},
     "output_type": "execute_result"
    }
   ],
   "source": [
    "nn_learner.train_loop(dl)"
   ]
  },
  {
   "cell_type": "code",
   "execution_count": 23,
   "id": "e0163366",
   "metadata": {
    "execution": {
     "iopub.execute_input": "2022-10-18T20:15:25.916751Z",
     "iopub.status.busy": "2022-10-18T20:15:25.915596Z",
     "iopub.status.idle": "2022-10-18T20:15:45.353674Z",
     "shell.execute_reply": "2022-10-18T20:15:45.354736Z"
    },
    "papermill": {
     "duration": 19.497789,
     "end_time": "2022-10-18T20:15:45.354905",
     "exception": false,
     "start_time": "2022-10-18T20:15:25.857116",
     "status": "completed"
    },
    "tags": []
   },
   "outputs": [
    {
     "name": "stdout",
     "output_type": "stream",
     "text": [
      "Epoch 0, Loss 0.254\n",
      "Training Accuracy: 0.6365, Testing Accuracy: 0.6310\n",
      "\n"
     ]
    },
    {
     "name": "stdout",
     "output_type": "stream",
     "text": [
      "Epoch 10, Loss 0.1059\n",
      "Training Accuracy: 0.9039, Testing Accuracy: 0.9128\n",
      "\n"
     ]
    },
    {
     "name": "stdout",
     "output_type": "stream",
     "text": [
      "Epoch 20, Loss 0.0808\n",
      "Training Accuracy: 0.9258, Testing Accuracy: 0.9320\n",
      "\n"
     ]
    },
    {
     "name": "stdout",
     "output_type": "stream",
     "text": [
      "Epoch 30, Loss 0.0694\n",
      "Training Accuracy: 0.9337, Testing Accuracy: 0.9415\n",
      "\n"
     ]
    },
    {
     "name": "stdout",
     "output_type": "stream",
     "text": [
      "Epoch 40, Loss 0.0625\n",
      "Training Accuracy: 0.9389, Testing Accuracy: 0.9476\n",
      "\n"
     ]
    },
    {
     "name": "stdout",
     "output_type": "stream",
     "text": [
      "Epoch 50, Loss 0.0579\n",
      "Training Accuracy: 0.9433, Testing Accuracy: 0.9541\n",
      "\n"
     ]
    },
    {
     "name": "stdout",
     "output_type": "stream",
     "text": [
      "Epoch 60, Loss 0.0545\n",
      "Training Accuracy: 0.9458, Testing Accuracy: 0.9582\n",
      "\n"
     ]
    },
    {
     "name": "stdout",
     "output_type": "stream",
     "text": [
      "Epoch 70, Loss 0.0518\n",
      "Training Accuracy: 0.9478, Testing Accuracy: 0.9597\n",
      "\n"
     ]
    },
    {
     "name": "stdout",
     "output_type": "stream",
     "text": [
      "Epoch 80, Loss 0.0497\n",
      "Training Accuracy: 0.9493, Testing Accuracy: 0.9612\n",
      "\n"
     ]
    },
    {
     "name": "stdout",
     "output_type": "stream",
     "text": [
      "Epoch 90, Loss 0.048\n",
      "Training Accuracy: 0.9510, Testing Accuracy: 0.9612\n",
      "\n"
     ]
    },
    {
     "name": "stdout",
     "output_type": "stream",
     "text": [
      "Epoch 100, Loss 0.0465\n",
      "Training Accuracy: 0.9523, Testing Accuracy: 0.9632\n",
      "\n"
     ]
    },
    {
     "name": "stdout",
     "output_type": "stream",
     "text": [
      "Epoch 110, Loss 0.0453\n",
      "Training Accuracy: 0.9528, Testing Accuracy: 0.9637\n",
      "\n"
     ]
    },
    {
     "name": "stdout",
     "output_type": "stream",
     "text": [
      "Epoch 120, Loss 0.0442\n",
      "Training Accuracy: 0.9535, Testing Accuracy: 0.9637\n",
      "\n"
     ]
    },
    {
     "name": "stdout",
     "output_type": "stream",
     "text": [
      "Epoch 130, Loss 0.0432\n",
      "Training Accuracy: 0.9546, Testing Accuracy: 0.9637\n",
      "\n"
     ]
    },
    {
     "name": "stdout",
     "output_type": "stream",
     "text": [
      "Epoch 140, Loss 0.0424\n",
      "Training Accuracy: 0.9552, Testing Accuracy: 0.9642\n",
      "\n"
     ]
    },
    {
     "name": "stdout",
     "output_type": "stream",
     "text": [
      "Epoch 150, Loss 0.0416\n",
      "Training Accuracy: 0.9558, Testing Accuracy: 0.9637\n",
      "\n"
     ]
    },
    {
     "name": "stdout",
     "output_type": "stream",
     "text": [
      "Epoch 160, Loss 0.0409\n",
      "Training Accuracy: 0.9568, Testing Accuracy: 0.9652\n",
      "\n"
     ]
    },
    {
     "name": "stdout",
     "output_type": "stream",
     "text": [
      "Epoch 170, Loss 0.0403\n",
      "Training Accuracy: 0.9578, Testing Accuracy: 0.9652\n",
      "\n"
     ]
    },
    {
     "name": "stdout",
     "output_type": "stream",
     "text": [
      "Epoch 180, Loss 0.0397\n",
      "Training Accuracy: 0.9583, Testing Accuracy: 0.9652\n",
      "\n"
     ]
    },
    {
     "name": "stdout",
     "output_type": "stream",
     "text": [
      "Epoch 190, Loss 0.0392\n",
      "Training Accuracy: 0.9588, Testing Accuracy: 0.9652\n",
      "\n"
     ]
    },
    {
     "name": "stdout",
     "output_type": "stream",
     "text": [
      "Epoch 200, Loss 0.0387\n",
      "Training Accuracy: 0.9589, Testing Accuracy: 0.9657\n",
      "\n"
     ]
    },
    {
     "name": "stdout",
     "output_type": "stream",
     "text": [
      "Epoch 210, Loss 0.0383\n",
      "Training Accuracy: 0.9595, Testing Accuracy: 0.9657\n",
      "\n"
     ]
    },
    {
     "name": "stdout",
     "output_type": "stream",
     "text": [
      "Epoch 220, Loss 0.0379\n",
      "Training Accuracy: 0.9599, Testing Accuracy: 0.9657\n",
      "\n"
     ]
    },
    {
     "name": "stdout",
     "output_type": "stream",
     "text": [
      "Epoch 230, Loss 0.0375\n",
      "Training Accuracy: 0.9599, Testing Accuracy: 0.9662\n",
      "\n"
     ]
    },
    {
     "name": "stdout",
     "output_type": "stream",
     "text": [
      "Epoch 240, Loss 0.0371\n",
      "Training Accuracy: 0.9600, Testing Accuracy: 0.9657\n",
      "\n"
     ]
    },
    {
     "data": {
      "text/plain": [
       "0.05119571115585006"
      ]
     },
     "execution_count": 23,
     "metadata": {},
     "output_type": "execute_result"
    }
   ],
   "source": [
    "lr_learner.train_loop(dl)"
   ]
  },
  {
   "cell_type": "code",
   "execution_count": 24,
   "id": "ca410940",
   "metadata": {
    "execution": {
     "iopub.execute_input": "2022-10-18T20:15:45.470077Z",
     "iopub.status.busy": "2022-10-18T20:15:45.469309Z",
     "iopub.status.idle": "2022-10-18T20:15:45.790038Z",
     "shell.execute_reply": "2022-10-18T20:15:45.790692Z"
    },
    "papermill": {
     "duration": 0.382152,
     "end_time": "2022-10-18T20:15:45.790856",
     "exception": false,
     "start_time": "2022-10-18T20:15:45.408704",
     "status": "completed"
    },
    "tags": []
   },
   "outputs": [
    {
     "data": {
      "text/plain": [
       "<matplotlib.legend.Legend at 0x7fc610b92320>"
      ]
     },
     "execution_count": 24,
     "metadata": {},
     "output_type": "execute_result"
    },
    {
     "data": {
      "image/png": "[encoded data removed]",
      "text/plain": [
       "<Figure size 1080x720 with 1 Axes>"
      ]
     },
     "metadata": {
      "needs_background": "light"
     },
     "output_type": "display_data"
    }
   ],
   "source": [
    "#comparing the results of NN and LR\n",
    "plt.figure(figsize=(15,10))\n",
    "\n",
    "# Neural Network plots\n",
    "plt.plot(acc_nn.accuracies, 'r-', label = \"Training Accuracies - NN\")\n",
    "plt.plot(acc_nn.test_accuracies, 'g-', label = \"Testing Accuracies - NN\")\n",
    "\n",
    "# Logistic Regression plots\n",
    "plt.plot(acc_lr.accuracies, 'k-', label = \"Training Accuracies - LR\")\n",
    "plt.plot(acc_lr.test_accuracies, 'b-', label = \"Testing Accuracies - LR\")\n",
    "plt.legend()"
   ]
  },
  {
   "cell_type": "markdown",
   "id": "80dfb35c",
   "metadata": {
    "papermill": {
     "duration": 0.056893,
     "end_time": "2022-10-18T20:15:45.902385",
     "exception": false,
     "start_time": "2022-10-18T20:15:45.845492",
     "status": "completed"
    },
    "tags": []
   },
   "source": [
    "#### Plotting the outputs of this layer of the NN.\n"
   ]
  },
  {
   "cell_type": "code",
   "execution_count": 25,
   "id": "45eb2ff5",
   "metadata": {
    "execution": {
     "iopub.execute_input": "2022-10-18T20:15:46.023770Z",
     "iopub.status.busy": "2022-10-18T20:15:46.022603Z",
     "iopub.status.idle": "2022-10-18T20:15:46.047685Z",
     "shell.execute_reply": "2022-10-18T20:15:46.048299Z"
    },
    "papermill": {
     "duration": 0.091187,
     "end_time": "2022-10-18T20:15:46.048469",
     "exception": false,
     "start_time": "2022-10-18T20:15:45.957282",
     "status": "completed"
    },
    "tags": []
   },
   "outputs": [],
   "source": [
    "new_model = Model(layers[:-2])\n",
    "testing_plot = new_model(testing_data_x)"
   ]
  },
  {
   "cell_type": "code",
   "execution_count": 26,
   "id": "4c0a5485",
   "metadata": {
    "execution": {
     "iopub.execute_input": "2022-10-18T20:15:46.186559Z",
     "iopub.status.busy": "2022-10-18T20:15:46.185765Z",
     "iopub.status.idle": "2022-10-18T20:15:46.449898Z",
     "shell.execute_reply": "2022-10-18T20:15:46.450523Z"
    },
    "papermill": {
     "duration": 0.328986,
     "end_time": "2022-10-18T20:15:46.450705",
     "exception": false,
     "start_time": "2022-10-18T20:15:46.121719",
     "status": "completed"
    },
    "tags": []
   },
   "outputs": [
    {
     "data": {
      "text/plain": [
       "Text(0.5, 1.0, 'Outputs')"
      ]
     },
     "execution_count": 26,
     "metadata": {},
     "output_type": "execute_result"
    },
    {
     "data": {
      "image/png": "[encoded data removed]",
      "text/plain": [
       "<Figure size 576x504 with 1 Axes>"
      ]
     },
     "metadata": {
      "needs_background": "light"
     },
     "output_type": "display_data"
    }
   ],
   "source": [
    "# Plotting the scatter plot of points and color coding by class\n",
    "plt.figure(figsize=(8,7))\n",
    "plt.scatter(testing_plot[:,0], testing_plot[:,1], alpha = 0.1, c = y_test.ravel());\n",
    "plt.title('Outputs')"
   ]
  },
  {
   "cell_type": "markdown",
   "id": "a74fcf8f",
   "metadata": {
    "papermill": {
     "duration": 0.084499,
     "end_time": "2022-10-18T20:15:46.591118",
     "exception": false,
     "start_time": "2022-10-18T20:15:46.506619",
     "status": "completed"
    },
    "tags": []
   },
   "source": [
    "Probability contours"
   ]
  },
  {
   "cell_type": "code",
   "execution_count": 27,
   "id": "d0afc8e3",
   "metadata": {
    "execution": {
     "iopub.execute_input": "2022-10-18T20:15:46.713097Z",
     "iopub.status.busy": "2022-10-18T20:15:46.712319Z",
     "iopub.status.idle": "2022-10-18T20:15:46.727270Z",
     "shell.execute_reply": "2022-10-18T20:15:46.726673Z"
    },
    "papermill": {
     "duration": 0.077319,
     "end_time": "2022-10-18T20:15:46.727399",
     "exception": false,
     "start_time": "2022-10-18T20:15:46.650080",
     "status": "completed"
    },
    "tags": []
   },
   "outputs": [],
   "source": [
    "model_prob = Model(layers[-2:]) "
   ]
  },
  {
   "cell_type": "code",
   "execution_count": 28,
   "id": "9b96e238",
   "metadata": {
    "execution": {
     "iopub.execute_input": "2022-10-18T20:15:46.846294Z",
     "iopub.status.busy": "2022-10-18T20:15:46.845533Z",
     "iopub.status.idle": "2022-10-18T20:15:46.863462Z",
     "shell.execute_reply": "2022-10-18T20:15:46.864069Z"
    },
    "papermill": {
     "duration": 0.080065,
     "end_time": "2022-10-18T20:15:46.864237",
     "exception": false,
     "start_time": "2022-10-18T20:15:46.784172",
     "status": "completed"
    },
    "tags": []
   },
   "outputs": [],
   "source": [
    "#creating the x and y ranges according to the above generated plot.\n",
    "x_range = np.linspace(-4, 1, 100) \n",
    "y_range = np.linspace(-6, 6, 100) \n",
    "x_grid, y_grid = np.meshgrid(x_range, y_range) # x_grid and y_grig are of size 100 X 100\n",
    "\n",
    "# converting x_grid and y_grid to continuous arrays\n",
    "x_gridflat = np.ravel(x_grid)\n",
    "y_gridflat = np.ravel(y_grid)\n",
    "\n",
    "# The last layer of the current model takes two columns as input. Hence transpose of np.vstack() is required.\n",
    "X = np.vstack((x_gridflat, y_gridflat)).T\n",
    "\n",
    "prob_contour = model_prob(X).reshape(100,100) "
   ]
  },
  {
   "cell_type": "code",
   "execution_count": 29,
   "id": "da72499a",
   "metadata": {
    "execution": {
     "iopub.execute_input": "2022-10-18T20:15:46.982216Z",
     "iopub.status.busy": "2022-10-18T20:15:46.981465Z",
     "iopub.status.idle": "2022-10-18T20:15:47.345057Z",
     "shell.execute_reply": "2022-10-18T20:15:47.345661Z"
    },
    "papermill": {
     "duration": 0.425581,
     "end_time": "2022-10-18T20:15:47.345830",
     "exception": false,
     "start_time": "2022-10-18T20:15:46.920249",
     "status": "completed"
    },
    "tags": []
   },
   "outputs": [
    {
     "data": {
      "image/png": "[encoded data removed]",
      "text/plain": [
       "<Figure size 720x648 with 1 Axes>"
      ]
     },
     "metadata": {
      "needs_background": "light"
     },
     "output_type": "display_data"
    }
   ],
   "source": [
    "plt.figure(figsize=(10,9))\n",
    "plt.scatter(testing_plot[:,0], testing_plot[:,1], alpha = 0.1, c = y_test.ravel())\n",
    "contours = plt.contour(x_grid,y_grid,prob_contour)\n",
    "plt.title('Probability Contours')\n",
    "plt.clabel(contours, inline = True );"
   ]
  },
  {
   "cell_type": "code",
   "execution_count": null,
   "id": "e81b4ac7",
   "metadata": {
    "papermill": {
     "duration": 0.06197,
     "end_time": "2022-10-18T20:15:47.474949",
     "exception": false,
     "start_time": "2022-10-18T20:15:47.412979",
     "status": "completed"
    },
    "tags": []
   },
   "outputs": [],
   "source": []
  }
 ],
 "metadata": {
  "kernelspec": {
   "display_name": "Python 3",
   "language": "python",
   "name": "python3"
  },
  "language_info": {
   "codemirror_mode": {
    "name": "ipython",
    "version": 3
   },
   "file_extension": ".py",
   "mimetype": "text/x-python",
   "name": "python",
   "nbconvert_exporter": "python",
   "pygments_lexer": "ipython3",
   "version": "3.6.15"
  },
  "papermill": {
   "default_parameters": {},
   "duration": 164.678004,
   "end_time": "2022-10-18T20:15:47.958076",
   "environment_variables": {},
   "exception": null,
   "input_path": "2020-08-11-part2.ipynb",
   "output_path": "2020-08-11-part2.ipynb",
   "parameters": {},
   "start_time": "2022-10-18T20:13:03.280072",
   "version": "2.3.3"
  }
 },
 "nbformat": 4,
 "nbformat_minor": 5
}