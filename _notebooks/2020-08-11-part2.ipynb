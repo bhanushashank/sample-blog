{
 "cells": [
  {
   "cell_type": "markdown",
   "id": "98380cd3",
   "metadata": {
    "papermill": {
     "duration": 0.0286,
     "end_time": "2022-03-07T00:30:15.372190",
     "exception": false,
     "start_time": "2022-03-07T00:30:15.343590",
     "status": "completed"
    },
    "tags": []
   },
   "source": [
    "# Distinguish Your Own Digits (DYOD)"
   ]
  },
  {
   "cell_type": "markdown",
   "id": "ef31240d",
   "metadata": {
    "papermill": {
     "duration": 0.025218,
     "end_time": "2022-03-07T00:30:15.421817",
     "exception": false,
     "start_time": "2022-03-07T00:30:15.396599",
     "status": "completed"
    },
    "tags": []
   },
   "source": [
    "You are going to write a classifier that distinguishes between the number 3 and number 8."
   ]
  },
  {
   "cell_type": "code",
   "execution_count": 1,
   "id": "b15c8646",
   "metadata": {
    "execution": {
     "iopub.execute_input": "2022-03-07T00:30:15.479561Z",
     "iopub.status.busy": "2022-03-07T00:30:15.479006Z",
     "iopub.status.idle": "2022-03-07T00:30:15.489434Z",
     "shell.execute_reply": "2022-03-07T00:30:15.489824Z"
    },
    "papermill": {
     "duration": 0.044433,
     "end_time": "2022-03-07T00:30:15.489975",
     "exception": false,
     "start_time": "2022-03-07T00:30:15.445542",
     "status": "completed"
    },
    "tags": []
   },
   "outputs": [],
   "source": [
    "%load_ext autoreload\n",
    "%autoreload 2"
   ]
  },
  {
   "cell_type": "code",
   "execution_count": 2,
   "id": "22ef38dc",
   "metadata": {
    "execution": {
     "iopub.execute_input": "2022-03-07T00:30:15.541503Z",
     "iopub.status.busy": "2022-03-07T00:30:15.540989Z",
     "iopub.status.idle": "2022-03-07T00:30:16.116118Z",
     "shell.execute_reply": "2022-03-07T00:30:16.115576Z"
    },
    "papermill": {
     "duration": 0.602432,
     "end_time": "2022-03-07T00:30:16.116276",
     "exception": false,
     "start_time": "2022-03-07T00:30:15.513844",
     "status": "completed"
    },
    "tags": []
   },
   "outputs": [],
   "source": [
    "%matplotlib inline\n",
    "import numpy as np\n",
    "import matplotlib.pyplot as plt\n",
    "import pandas as pd"
   ]
  },
  {
   "cell_type": "markdown",
   "id": "ba036198",
   "metadata": {
    "papermill": {
     "duration": 0.023774,
     "end_time": "2022-03-07T00:30:16.164887",
     "exception": false,
     "start_time": "2022-03-07T00:30:16.141113",
     "status": "completed"
    },
    "tags": []
   },
   "source": [
    "From the command line run `pip install mnist`. This is a library that will help you bring down the mnist dataset. If you run this from a notebook, you need to put  `!pip install mnist` in a cell by itself."
   ]
  },
  {
   "cell_type": "code",
   "execution_count": 3,
   "id": "bb6ad8a1",
   "metadata": {
    "execution": {
     "iopub.execute_input": "2022-03-07T00:30:16.226348Z",
     "iopub.status.busy": "2022-03-07T00:30:16.225827Z",
     "iopub.status.idle": "2022-03-07T00:30:18.768778Z",
     "shell.execute_reply": "2022-03-07T00:30:18.769266Z"
    },
    "papermill": {
     "duration": 2.580755,
     "end_time": "2022-03-07T00:30:18.769439",
     "exception": false,
     "start_time": "2022-03-07T00:30:16.188684",
     "status": "completed"
    },
    "tags": []
   },
   "outputs": [
    {
     "name": "stdout",
     "output_type": "stream",
     "text": [
      "Collecting mnist\r\n"
     ]
    },
    {
     "name": "stdout",
     "output_type": "stream",
     "text": [
      "  Downloading mnist-0.2.2-py2.py3-none-any.whl (3.5 kB)\r\n",
      "Requirement already satisfied: numpy in /opt/hostedtoolcache/Python/3.6.15/x64/lib/python3.6/site-packages (from mnist) (1.19.5)\r\n"
     ]
    },
    {
     "name": "stdout",
     "output_type": "stream",
     "text": [
      "Installing collected packages: mnist\r\n",
      "Successfully installed mnist-0.2.2\r\n"
     ]
    }
   ],
   "source": [
    "!pip install mnist"
   ]
  },
  {
   "cell_type": "markdown",
   "id": "69df9c9a",
   "metadata": {
    "papermill": {
     "duration": 0.024615,
     "end_time": "2022-03-07T00:30:18.820094",
     "exception": false,
     "start_time": "2022-03-07T00:30:18.795479",
     "status": "completed"
    },
    "tags": []
   },
   "source": [
    "## Preparing the Data"
   ]
  },
  {
   "cell_type": "code",
   "execution_count": 4,
   "id": "7f69d806",
   "metadata": {
    "execution": {
     "iopub.execute_input": "2022-03-07T00:30:18.890382Z",
     "iopub.status.busy": "2022-03-07T00:30:18.889372Z",
     "iopub.status.idle": "2022-03-07T00:30:18.893692Z",
     "shell.execute_reply": "2022-03-07T00:30:18.893286Z"
    },
    "papermill": {
     "duration": 0.049356,
     "end_time": "2022-03-07T00:30:18.893804",
     "exception": false,
     "start_time": "2022-03-07T00:30:18.844448",
     "status": "completed"
    },
    "tags": []
   },
   "outputs": [],
   "source": [
    "import mnist"
   ]
  },
  {
   "cell_type": "code",
   "execution_count": 5,
   "id": "a411e44f",
   "metadata": {
    "execution": {
     "iopub.execute_input": "2022-03-07T00:30:18.947641Z",
     "iopub.status.busy": "2022-03-07T00:30:18.947133Z",
     "iopub.status.idle": "2022-03-07T00:30:19.866087Z",
     "shell.execute_reply": "2022-03-07T00:30:19.865553Z"
    },
    "papermill": {
     "duration": 0.947915,
     "end_time": "2022-03-07T00:30:19.866233",
     "exception": false,
     "start_time": "2022-03-07T00:30:18.918318",
     "status": "completed"
    },
    "tags": []
   },
   "outputs": [],
   "source": [
    "train_images = mnist.train_images()\n",
    "train_labels = mnist.train_labels()"
   ]
  },
  {
   "cell_type": "code",
   "execution_count": 6,
   "id": "dceab3a5",
   "metadata": {
    "execution": {
     "iopub.execute_input": "2022-03-07T00:30:19.928442Z",
     "iopub.status.busy": "2022-03-07T00:30:19.927934Z",
     "iopub.status.idle": "2022-03-07T00:30:19.937145Z",
     "shell.execute_reply": "2022-03-07T00:30:19.936714Z"
    },
    "papermill": {
     "duration": 0.044987,
     "end_time": "2022-03-07T00:30:19.937248",
     "exception": false,
     "start_time": "2022-03-07T00:30:19.892261",
     "status": "completed"
    },
    "tags": []
   },
   "outputs": [
    {
     "data": {
      "text/plain": [
       "((60000, 28, 28), (60000,))"
      ]
     },
     "execution_count": 6,
     "metadata": {},
     "output_type": "execute_result"
    }
   ],
   "source": [
    "train_images.shape, train_labels.shape"
   ]
  },
  {
   "cell_type": "code",
   "execution_count": 7,
   "id": "f50dc2bb",
   "metadata": {
    "execution": {
     "iopub.execute_input": "2022-03-07T00:30:19.989901Z",
     "iopub.status.busy": "2022-03-07T00:30:19.989403Z",
     "iopub.status.idle": "2022-03-07T00:30:20.354242Z",
     "shell.execute_reply": "2022-03-07T00:30:20.353714Z"
    },
    "papermill": {
     "duration": 0.392498,
     "end_time": "2022-03-07T00:30:20.354386",
     "exception": false,
     "start_time": "2022-03-07T00:30:19.961888",
     "status": "completed"
    },
    "tags": []
   },
   "outputs": [],
   "source": [
    "test_images = mnist.test_images()\n",
    "test_labels = mnist.test_labels()"
   ]
  },
  {
   "cell_type": "code",
   "execution_count": 8,
   "id": "fc38cf1b",
   "metadata": {
    "execution": {
     "iopub.execute_input": "2022-03-07T00:30:20.409055Z",
     "iopub.status.busy": "2022-03-07T00:30:20.408552Z",
     "iopub.status.idle": "2022-03-07T00:30:20.421539Z",
     "shell.execute_reply": "2022-03-07T00:30:20.421112Z"
    },
    "papermill": {
     "duration": 0.041179,
     "end_time": "2022-03-07T00:30:20.421646",
     "exception": false,
     "start_time": "2022-03-07T00:30:20.380467",
     "status": "completed"
    },
    "tags": []
   },
   "outputs": [
    {
     "data": {
      "text/plain": [
       "((10000, 28, 28), (10000,))"
      ]
     },
     "execution_count": 8,
     "metadata": {},
     "output_type": "execute_result"
    }
   ],
   "source": [
    "test_images.shape, test_labels.shape"
   ]
  },
  {
   "cell_type": "code",
   "execution_count": 9,
   "id": "f9ed8fe0",
   "metadata": {
    "execution": {
     "iopub.execute_input": "2022-03-07T00:30:20.482013Z",
     "iopub.status.busy": "2022-03-07T00:30:20.481500Z",
     "iopub.status.idle": "2022-03-07T00:30:20.615701Z",
     "shell.execute_reply": "2022-03-07T00:30:20.616569Z"
    },
    "papermill": {
     "duration": 0.169902,
     "end_time": "2022-03-07T00:30:20.616715",
     "exception": false,
     "start_time": "2022-03-07T00:30:20.446813",
     "status": "completed"
    },
    "tags": []
   },
   "outputs": [
    {
     "name": "stdout",
     "output_type": "stream",
     "text": [
      "2\n"
     ]
    },
    {
     "data": {
      "text/plain": [
       "<matplotlib.image.AxesImage at 0x7fa0180805c0>"
      ]
     },
     "execution_count": 9,
     "metadata": {},
     "output_type": "execute_result"
    },
    {
     "data": {
      "image/png": "[encoded data removed]",
      "text/plain": [
       "<Figure size 432x288 with 1 Axes>"
      ]
     },
     "metadata": {
      "needs_background": "light"
     },
     "output_type": "display_data"
    }
   ],
   "source": [
    "image_index = 7776 # You may select anything up to 60,000\n",
    "print(train_labels[image_index]) \n",
    "plt.imshow(train_images[image_index], cmap='Greys')"
   ]
  },
  {
   "cell_type": "markdown",
   "id": "a8d2388d",
   "metadata": {
    "papermill": {
     "duration": 0.026308,
     "end_time": "2022-03-07T00:30:20.669523",
     "exception": false,
     "start_time": "2022-03-07T00:30:20.643215",
     "status": "completed"
    },
    "tags": []
   },
   "source": [
    "## Filter data to get 3 and 8 out"
   ]
  },
  {
   "cell_type": "code",
   "execution_count": 10,
   "id": "776f7fc7",
   "metadata": {
    "execution": {
     "iopub.execute_input": "2022-03-07T00:30:20.726542Z",
     "iopub.status.busy": "2022-03-07T00:30:20.725653Z",
     "iopub.status.idle": "2022-03-07T00:30:20.741139Z",
     "shell.execute_reply": "2022-03-07T00:30:20.741522Z"
    },
    "papermill": {
     "duration": 0.045953,
     "end_time": "2022-03-07T00:30:20.741645",
     "exception": false,
     "start_time": "2022-03-07T00:30:20.695692",
     "status": "completed"
    },
    "tags": []
   },
   "outputs": [],
   "source": [
    "train_filter = np.where((train_labels == 3 ) | (train_labels == 8))\n",
    "test_filter = np.where((test_labels == 3) | (test_labels == 8))\n",
    "X_train, y_train = train_images[train_filter], train_labels[train_filter]\n",
    "X_test, y_test = test_images[test_filter], test_labels[test_filter]"
   ]
  },
  {
   "cell_type": "markdown",
   "id": "948f0b7e",
   "metadata": {
    "papermill": {
     "duration": 0.026105,
     "end_time": "2022-03-07T00:30:20.797797",
     "exception": false,
     "start_time": "2022-03-07T00:30:20.771692",
     "status": "completed"
    },
    "tags": []
   },
   "source": [
    "We normalize the pizel values in the 0 to 1 range"
   ]
  },
  {
   "cell_type": "code",
   "execution_count": 11,
   "id": "ee4c2166",
   "metadata": {
    "execution": {
     "iopub.execute_input": "2022-03-07T00:30:20.853957Z",
     "iopub.status.busy": "2022-03-07T00:30:20.853452Z",
     "iopub.status.idle": "2022-03-07T00:30:20.898671Z",
     "shell.execute_reply": "2022-03-07T00:30:20.898201Z"
    },
    "papermill": {
     "duration": 0.074035,
     "end_time": "2022-03-07T00:30:20.898799",
     "exception": false,
     "start_time": "2022-03-07T00:30:20.824764",
     "status": "completed"
    },
    "tags": []
   },
   "outputs": [],
   "source": [
    "X_train = X_train/255.\n",
    "X_test = X_test/255."
   ]
  },
  {
   "cell_type": "markdown",
   "id": "ddcf4fab",
   "metadata": {
    "papermill": {
     "duration": 0.02641,
     "end_time": "2022-03-07T00:30:20.951921",
     "exception": false,
     "start_time": "2022-03-07T00:30:20.925511",
     "status": "completed"
    },
    "tags": []
   },
   "source": [
    "And setup the labels as 1 (when the digit is 3) and 0 (when the digit is 8)"
   ]
  },
  {
   "cell_type": "code",
   "execution_count": 12,
   "id": "7dc908f2",
   "metadata": {
    "execution": {
     "iopub.execute_input": "2022-03-07T00:30:21.008874Z",
     "iopub.status.busy": "2022-03-07T00:30:21.008368Z",
     "iopub.status.idle": "2022-03-07T00:30:21.020546Z",
     "shell.execute_reply": "2022-03-07T00:30:21.019993Z"
    },
    "papermill": {
     "duration": 0.042653,
     "end_time": "2022-03-07T00:30:21.020660",
     "exception": false,
     "start_time": "2022-03-07T00:30:20.978007",
     "status": "completed"
    },
    "tags": []
   },
   "outputs": [],
   "source": [
    "y_train = 1*(y_train==3)\n",
    "y_test = 1*(y_test==3)"
   ]
  },
  {
   "cell_type": "code",
   "execution_count": 13,
   "id": "01e4e969",
   "metadata": {
    "execution": {
     "iopub.execute_input": "2022-03-07T00:30:21.076954Z",
     "iopub.status.busy": "2022-03-07T00:30:21.076451Z",
     "iopub.status.idle": "2022-03-07T00:30:21.088104Z",
     "shell.execute_reply": "2022-03-07T00:30:21.087691Z"
    },
    "papermill": {
     "duration": 0.041389,
     "end_time": "2022-03-07T00:30:21.088216",
     "exception": false,
     "start_time": "2022-03-07T00:30:21.046827",
     "status": "completed"
    },
    "tags": []
   },
   "outputs": [
    {
     "data": {
      "text/plain": [
       "((11982, 28, 28), (1984, 28, 28))"
      ]
     },
     "execution_count": 13,
     "metadata": {},
     "output_type": "execute_result"
    }
   ],
   "source": [
    "X_train.shape, X_test.shape"
   ]
  },
  {
   "cell_type": "markdown",
   "id": "5ccf3f85",
   "metadata": {
    "papermill": {
     "duration": 0.026301,
     "end_time": "2022-03-07T00:30:21.140748",
     "exception": false,
     "start_time": "2022-03-07T00:30:21.114447",
     "status": "completed"
    },
    "tags": []
   },
   "source": [
    "We reshape the data to flatten the image pixels into a set of features or co-variates:"
   ]
  },
  {
   "cell_type": "code",
   "execution_count": 14,
   "id": "5286a4a3",
   "metadata": {
    "execution": {
     "iopub.execute_input": "2022-03-07T00:30:21.207779Z",
     "iopub.status.busy": "2022-03-07T00:30:21.204181Z",
     "iopub.status.idle": "2022-03-07T00:30:21.212238Z",
     "shell.execute_reply": "2022-03-07T00:30:21.212647Z"
    },
    "papermill": {
     "duration": 0.045539,
     "end_time": "2022-03-07T00:30:21.212769",
     "exception": false,
     "start_time": "2022-03-07T00:30:21.167230",
     "status": "completed"
    },
    "tags": []
   },
   "outputs": [
    {
     "data": {
      "text/plain": [
       "((11982, 784), (1984, 784))"
      ]
     },
     "execution_count": 14,
     "metadata": {},
     "output_type": "execute_result"
    }
   ],
   "source": [
    "X_train = X_train.reshape(X_train.shape[0], -1)\n",
    "X_test = X_test.reshape(X_test.shape[0], -1)\n",
    "X_train.shape, X_test.shape"
   ]
  },
  {
   "cell_type": "code",
   "execution_count": 15,
   "id": "73c5f88a",
   "metadata": {
    "execution": {
     "iopub.execute_input": "2022-03-07T00:30:21.274305Z",
     "iopub.status.busy": "2022-03-07T00:30:21.269360Z",
     "iopub.status.idle": "2022-03-07T00:30:21.286885Z",
     "shell.execute_reply": "2022-03-07T00:30:21.286479Z"
    },
    "papermill": {
     "duration": 0.047525,
     "end_time": "2022-03-07T00:30:21.287011",
     "exception": false,
     "start_time": "2022-03-07T00:30:21.239486",
     "status": "completed"
    },
    "tags": []
   },
   "outputs": [],
   "source": [
    "#Impoting functions from 'Kudzu'\n",
    "from kudzu.model import Model\n",
    "from kudzu.train import Learner\n",
    "from kudzu.optim import GD\n",
    "from kudzu.data import Data, Sampler,Dataloader\n",
    "\n",
    "from kudzu.callbacks import AccCallback\n",
    "from kudzu.callbacks import ClfCallback\n",
    "\n",
    "from kudzu.loss import MSE\n",
    "\n",
    "from kudzu.layer import Sigmoid,Relu\n",
    "from kudzu.layer import Affine"
   ]
  },
  {
   "cell_type": "markdown",
   "id": "bc01172a",
   "metadata": {
    "papermill": {
     "duration": 0.02658,
     "end_time": "2022-03-07T00:30:21.340437",
     "exception": false,
     "start_time": "2022-03-07T00:30:21.313857",
     "status": "completed"
    },
    "tags": []
   },
   "source": [
    "### Let us create a `Config` class, to store important parameters. \n",
    "This class essentially plays the role of a dictionary."
   ]
  },
  {
   "cell_type": "code",
   "execution_count": 16,
   "id": "978281aa",
   "metadata": {
    "execution": {
     "iopub.execute_input": "2022-03-07T00:30:21.397654Z",
     "iopub.status.busy": "2022-03-07T00:30:21.397147Z",
     "iopub.status.idle": "2022-03-07T00:30:21.407051Z",
     "shell.execute_reply": "2022-03-07T00:30:21.406627Z"
    },
    "papermill": {
     "duration": 0.040226,
     "end_time": "2022-03-07T00:30:21.407159",
     "exception": false,
     "start_time": "2022-03-07T00:30:21.366933",
     "status": "completed"
    },
    "tags": []
   },
   "outputs": [],
   "source": [
    "class Config:\n",
    "    pass\n",
    "config = Config()\n",
    "config.lr = 0.001\n",
    "config.num_epochs = 250\n",
    "config.bs = 50"
   ]
  },
  {
   "cell_type": "markdown",
   "id": "1385fa59",
   "metadata": {
    "papermill": {
     "duration": 0.026619,
     "end_time": "2022-03-07T00:30:21.460379",
     "exception": false,
     "start_time": "2022-03-07T00:30:21.433760",
     "status": "completed"
    },
    "tags": []
   },
   "source": [
    "### Running Models with the Training data\n",
    "Details about the network layers:\n",
    "- A first affine layer has 784 inputs and does 100 affine transforms. These are followed by a Relu\n",
    "- A second affine layer has 100 inputs from the 100 activations of the past layer, and does 100 affine transforms. These are followed by a Relu\n",
    "- A third affine layer has 100 activations and does 2 affine transformations to create an embedding for visualization. There is no non-linearity here.\n",
    "- A final \"logistic regression\" which has an affine transform from 2 inputs to 1 output, which is squeezed through a sigmoid.\n"
   ]
  },
  {
   "cell_type": "code",
   "execution_count": 17,
   "id": "2b9c66db",
   "metadata": {
    "execution": {
     "iopub.execute_input": "2022-03-07T00:30:21.518136Z",
     "iopub.status.busy": "2022-03-07T00:30:21.517609Z",
     "iopub.status.idle": "2022-03-07T00:30:21.529221Z",
     "shell.execute_reply": "2022-03-07T00:30:21.528806Z"
    },
    "papermill": {
     "duration": 0.042185,
     "end_time": "2022-03-07T00:30:21.529337",
     "exception": false,
     "start_time": "2022-03-07T00:30:21.487152",
     "status": "completed"
    },
    "tags": []
   },
   "outputs": [],
   "source": [
    "data = Data(X_train, y_train.reshape(-1,1))\n",
    "sampler = Sampler(data, config.bs, shuffle=True)\n",
    "\n",
    "dl = Dataloader(data, sampler)\n",
    "\n",
    "opt = GD(config.lr)\n",
    "loss = MSE()"
   ]
  },
  {
   "cell_type": "code",
   "execution_count": 18,
   "id": "b275e4c2",
   "metadata": {
    "execution": {
     "iopub.execute_input": "2022-03-07T00:30:21.589946Z",
     "iopub.status.busy": "2022-03-07T00:30:21.589430Z",
     "iopub.status.idle": "2022-03-07T00:30:21.598553Z",
     "shell.execute_reply": "2022-03-07T00:30:21.598118Z"
    },
    "papermill": {
     "duration": 0.042443,
     "end_time": "2022-03-07T00:30:21.598660",
     "exception": false,
     "start_time": "2022-03-07T00:30:21.556217",
     "status": "completed"
    },
    "tags": []
   },
   "outputs": [],
   "source": [
    "training_data_x = X_train\n",
    "testing_data_x = X_test\n",
    "training_data_y = y_train.reshape(-1,1)\n",
    "testing_data_y = y_test.reshape(-1,1)"
   ]
  },
  {
   "cell_type": "code",
   "execution_count": 19,
   "id": "76951160",
   "metadata": {
    "execution": {
     "iopub.execute_input": "2022-03-07T00:30:21.656188Z",
     "iopub.status.busy": "2022-03-07T00:30:21.655679Z",
     "iopub.status.idle": "2022-03-07T00:30:21.670289Z",
     "shell.execute_reply": "2022-03-07T00:30:21.669862Z"
    },
    "papermill": {
     "duration": 0.045184,
     "end_time": "2022-03-07T00:30:21.670394",
     "exception": false,
     "start_time": "2022-03-07T00:30:21.625210",
     "status": "completed"
    },
    "tags": []
   },
   "outputs": [
    {
     "name": "stdout",
     "output_type": "stream",
     "text": [
      "xavier\n",
      "xavier\n",
      "xavier\n",
      "xavier\n",
      "xavier\n"
     ]
    }
   ],
   "source": [
    "layers = [Affine(\"first\", 784, 100), Relu(\"first\"), Affine(\"second\", 100, 100), Relu(\"second\"), Affine(\"third\", 100, 2), Affine(\"last\", 2, 1), Sigmoid(\"last\")]\n",
    "model_nn = Model(layers)\n",
    "model_lr = Model([Affine(\"logits\", 784, 1), Sigmoid(\"sigmoid\")])"
   ]
  },
  {
   "cell_type": "code",
   "execution_count": 20,
   "id": "6eede77a",
   "metadata": {
    "execution": {
     "iopub.execute_input": "2022-03-07T00:30:21.729114Z",
     "iopub.status.busy": "2022-03-07T00:30:21.728605Z",
     "iopub.status.idle": "2022-03-07T00:30:21.739053Z",
     "shell.execute_reply": "2022-03-07T00:30:21.738625Z"
    },
    "papermill": {
     "duration": 0.041736,
     "end_time": "2022-03-07T00:30:21.739165",
     "exception": false,
     "start_time": "2022-03-07T00:30:21.697429",
     "status": "completed"
    },
    "tags": []
   },
   "outputs": [],
   "source": [
    "nn_learner = Learner(loss, model_nn, opt, config.num_epochs)\n",
    "acc_nn = ClfCallback(nn_learner, config.bs, training_data_x , testing_data_x, training_data_y, testing_data_y)\n",
    "nn_learner.set_callbacks([acc_nn])"
   ]
  },
  {
   "cell_type": "code",
   "execution_count": 21,
   "id": "877b6cc7",
   "metadata": {
    "execution": {
     "iopub.execute_input": "2022-03-07T00:30:21.807298Z",
     "iopub.status.busy": "2022-03-07T00:30:21.802825Z",
     "iopub.status.idle": "2022-03-07T00:30:21.809366Z",
     "shell.execute_reply": "2022-03-07T00:30:21.808942Z"
    },
    "papermill": {
     "duration": 0.043385,
     "end_time": "2022-03-07T00:30:21.809466",
     "exception": false,
     "start_time": "2022-03-07T00:30:21.766081",
     "status": "completed"
    },
    "tags": []
   },
   "outputs": [],
   "source": [
    "lr_learner = Learner(loss, model_lr, opt, config.num_epochs)\n",
    "acc_lr = ClfCallback(lr_learner, config.bs, training_data_x , testing_data_x, training_data_y, testing_data_y)\n",
    "lr_learner.set_callbacks([acc_lr])"
   ]
  },
  {
   "cell_type": "code",
   "execution_count": 22,
   "id": "d9b133c3",
   "metadata": {
    "execution": {
     "iopub.execute_input": "2022-03-07T00:30:21.868149Z",
     "iopub.status.busy": "2022-03-07T00:30:21.867644Z",
     "iopub.status.idle": "2022-03-07T00:31:37.000316Z",
     "shell.execute_reply": "2022-03-07T00:31:37.001056Z"
    },
    "papermill": {
     "duration": 75.164639,
     "end_time": "2022-03-07T00:31:37.001219",
     "exception": false,
     "start_time": "2022-03-07T00:30:21.836580",
     "status": "completed"
    },
    "tags": []
   },
   "outputs": [
    {
     "name": "stdout",
     "output_type": "stream",
     "text": [
      "Epoch 0, Loss 0.2436\n",
      "Training Accuracy: 0.6005, Testing Accuracy: 0.6003\n",
      "\n"
     ]
    },
    {
     "name": "stdout",
     "output_type": "stream",
     "text": [
      "Epoch 10, Loss 0.1635\n",
      "Training Accuracy: 0.8801, Testing Accuracy: 0.8886\n",
      "\n"
     ]
    },
    {
     "name": "stdout",
     "output_type": "stream",
     "text": [
      "Epoch 20, Loss 0.0829\n",
      "Training Accuracy: 0.9178, Testing Accuracy: 0.9304\n",
      "\n"
     ]
    },
    {
     "name": "stdout",
     "output_type": "stream",
     "text": [
      "Epoch 30, Loss 0.0572\n",
      "Training Accuracy: 0.9377, Testing Accuracy: 0.9471\n",
      "\n"
     ]
    },
    {
     "name": "stdout",
     "output_type": "stream",
     "text": [
      "Epoch 40, Loss 0.0461\n",
      "Training Accuracy: 0.9480, Testing Accuracy: 0.9551\n",
      "\n"
     ]
    },
    {
     "name": "stdout",
     "output_type": "stream",
     "text": [
      "Epoch 50, Loss 0.0402\n",
      "Training Accuracy: 0.9541, Testing Accuracy: 0.9627\n",
      "\n"
     ]
    },
    {
     "name": "stdout",
     "output_type": "stream",
     "text": [
      "Epoch 60, Loss 0.0365\n",
      "Training Accuracy: 0.9573, Testing Accuracy: 0.9647\n",
      "\n"
     ]
    },
    {
     "name": "stdout",
     "output_type": "stream",
     "text": [
      "Epoch 70, Loss 0.0339\n",
      "Training Accuracy: 0.9605, Testing Accuracy: 0.9682\n",
      "\n"
     ]
    },
    {
     "name": "stdout",
     "output_type": "stream",
     "text": [
      "Epoch 80, Loss 0.032\n",
      "Training Accuracy: 0.9629, Testing Accuracy: 0.9688\n",
      "\n"
     ]
    },
    {
     "name": "stdout",
     "output_type": "stream",
     "text": [
      "Epoch 90, Loss 0.0305\n",
      "Training Accuracy: 0.9644, Testing Accuracy: 0.9693\n",
      "\n"
     ]
    },
    {
     "name": "stdout",
     "output_type": "stream",
     "text": [
      "Epoch 100, Loss 0.0292\n",
      "Training Accuracy: 0.9663, Testing Accuracy: 0.9698\n",
      "\n"
     ]
    },
    {
     "name": "stdout",
     "output_type": "stream",
     "text": [
      "Epoch 110, Loss 0.0281\n",
      "Training Accuracy: 0.9676, Testing Accuracy: 0.9703\n",
      "\n"
     ]
    },
    {
     "name": "stdout",
     "output_type": "stream",
     "text": [
      "Epoch 120, Loss 0.0272\n",
      "Training Accuracy: 0.9686, Testing Accuracy: 0.9713\n",
      "\n"
     ]
    },
    {
     "name": "stdout",
     "output_type": "stream",
     "text": [
      "Epoch 130, Loss 0.0264\n",
      "Training Accuracy: 0.9695, Testing Accuracy: 0.9703\n",
      "\n"
     ]
    },
    {
     "name": "stdout",
     "output_type": "stream",
     "text": [
      "Epoch 140, Loss 0.0257\n",
      "Training Accuracy: 0.9704, Testing Accuracy: 0.9708\n",
      "\n"
     ]
    },
    {
     "name": "stdout",
     "output_type": "stream",
     "text": [
      "Epoch 150, Loss 0.0251\n",
      "Training Accuracy: 0.9713, Testing Accuracy: 0.9703\n",
      "\n"
     ]
    },
    {
     "name": "stdout",
     "output_type": "stream",
     "text": [
      "Epoch 160, Loss 0.0245\n",
      "Training Accuracy: 0.9722, Testing Accuracy: 0.9698\n",
      "\n"
     ]
    },
    {
     "name": "stdout",
     "output_type": "stream",
     "text": [
      "Epoch 170, Loss 0.0239\n",
      "Training Accuracy: 0.9727, Testing Accuracy: 0.9693\n",
      "\n"
     ]
    },
    {
     "name": "stdout",
     "output_type": "stream",
     "text": [
      "Epoch 180, Loss 0.0234\n",
      "Training Accuracy: 0.9735, Testing Accuracy: 0.9698\n",
      "\n"
     ]
    },
    {
     "name": "stdout",
     "output_type": "stream",
     "text": [
      "Epoch 190, Loss 0.0229\n",
      "Training Accuracy: 0.9742, Testing Accuracy: 0.9693\n",
      "\n"
     ]
    },
    {
     "name": "stdout",
     "output_type": "stream",
     "text": [
      "Epoch 200, Loss 0.0225\n",
      "Training Accuracy: 0.9745, Testing Accuracy: 0.9698\n",
      "\n"
     ]
    },
    {
     "name": "stdout",
     "output_type": "stream",
     "text": [
      "Epoch 210, Loss 0.0221\n",
      "Training Accuracy: 0.9754, Testing Accuracy: 0.9703\n",
      "\n"
     ]
    },
    {
     "name": "stdout",
     "output_type": "stream",
     "text": [
      "Epoch 220, Loss 0.0217\n",
      "Training Accuracy: 0.9757, Testing Accuracy: 0.9713\n",
      "\n"
     ]
    },
    {
     "name": "stdout",
     "output_type": "stream",
     "text": [
      "Epoch 230, Loss 0.0213\n",
      "Training Accuracy: 0.9761, Testing Accuracy: 0.9708\n",
      "\n"
     ]
    },
    {
     "name": "stdout",
     "output_type": "stream",
     "text": [
      "Epoch 240, Loss 0.0209\n",
      "Training Accuracy: 0.9769, Testing Accuracy: 0.9708\n",
      "\n"
     ]
    },
    {
     "data": {
      "text/plain": [
       "0.027639989226368372"
      ]
     },
     "execution_count": 22,
     "metadata": {},
     "output_type": "execute_result"
    }
   ],
   "source": [
    "nn_learner.train_loop(dl)"
   ]
  },
  {
   "cell_type": "code",
   "execution_count": 23,
   "id": "e0163366",
   "metadata": {
    "execution": {
     "iopub.execute_input": "2022-03-07T00:31:37.088283Z",
     "iopub.status.busy": "2022-03-07T00:31:37.087759Z",
     "iopub.status.idle": "2022-03-07T00:31:51.131674Z",
     "shell.execute_reply": "2022-03-07T00:31:51.132338Z"
    },
    "papermill": {
     "duration": 14.096765,
     "end_time": "2022-03-07T00:31:51.132491",
     "exception": false,
     "start_time": "2022-03-07T00:31:37.035726",
     "status": "completed"
    },
    "tags": []
   },
   "outputs": [
    {
     "name": "stdout",
     "output_type": "stream",
     "text": [
      "Epoch 0, Loss 0.2366\n",
      "Training Accuracy: 0.7157, Testing Accuracy: 0.7364\n",
      "\n"
     ]
    },
    {
     "name": "stdout",
     "output_type": "stream",
     "text": [
      "Epoch 10, Loss 0.1031\n",
      "Training Accuracy: 0.9041, Testing Accuracy: 0.9148\n",
      "\n"
     ]
    },
    {
     "name": "stdout",
     "output_type": "stream",
     "text": [
      "Epoch 20, Loss 0.0801\n",
      "Training Accuracy: 0.9229, Testing Accuracy: 0.9330\n",
      "\n"
     ]
    },
    {
     "name": "stdout",
     "output_type": "stream",
     "text": [
      "Epoch 30, Loss 0.0691\n",
      "Training Accuracy: 0.9324, Testing Accuracy: 0.9441\n",
      "\n"
     ]
    },
    {
     "name": "stdout",
     "output_type": "stream",
     "text": [
      "Epoch 40, Loss 0.0623\n",
      "Training Accuracy: 0.9389, Testing Accuracy: 0.9491\n",
      "\n"
     ]
    },
    {
     "name": "stdout",
     "output_type": "stream",
     "text": [
      "Epoch 50, Loss 0.0577\n",
      "Training Accuracy: 0.9427, Testing Accuracy: 0.9526\n",
      "\n"
     ]
    },
    {
     "name": "stdout",
     "output_type": "stream",
     "text": [
      "Epoch 60, Loss 0.0543\n",
      "Training Accuracy: 0.9456, Testing Accuracy: 0.9567\n",
      "\n"
     ]
    },
    {
     "name": "stdout",
     "output_type": "stream",
     "text": [
      "Epoch 70, Loss 0.0516\n",
      "Training Accuracy: 0.9481, Testing Accuracy: 0.9582\n",
      "\n"
     ]
    },
    {
     "name": "stdout",
     "output_type": "stream",
     "text": [
      "Epoch 80, Loss 0.0495\n",
      "Training Accuracy: 0.9500, Testing Accuracy: 0.9617\n",
      "\n"
     ]
    },
    {
     "name": "stdout",
     "output_type": "stream",
     "text": [
      "Epoch 90, Loss 0.0478\n",
      "Training Accuracy: 0.9510, Testing Accuracy: 0.9632\n",
      "\n"
     ]
    },
    {
     "name": "stdout",
     "output_type": "stream",
     "text": [
      "Epoch 100, Loss 0.0463\n",
      "Training Accuracy: 0.9520, Testing Accuracy: 0.9642\n",
      "\n"
     ]
    },
    {
     "name": "stdout",
     "output_type": "stream",
     "text": [
      "Epoch 110, Loss 0.0451\n",
      "Training Accuracy: 0.9530, Testing Accuracy: 0.9652\n",
      "\n"
     ]
    },
    {
     "name": "stdout",
     "output_type": "stream",
     "text": [
      "Epoch 120, Loss 0.044\n",
      "Training Accuracy: 0.9544, Testing Accuracy: 0.9652\n",
      "\n"
     ]
    },
    {
     "name": "stdout",
     "output_type": "stream",
     "text": [
      "Epoch 130, Loss 0.043\n",
      "Training Accuracy: 0.9553, Testing Accuracy: 0.9662\n",
      "\n"
     ]
    },
    {
     "name": "stdout",
     "output_type": "stream",
     "text": [
      "Epoch 140, Loss 0.0422\n",
      "Training Accuracy: 0.9560, Testing Accuracy: 0.9662\n",
      "\n"
     ]
    },
    {
     "name": "stdout",
     "output_type": "stream",
     "text": [
      "Epoch 150, Loss 0.0414\n",
      "Training Accuracy: 0.9567, Testing Accuracy: 0.9667\n",
      "\n"
     ]
    },
    {
     "name": "stdout",
     "output_type": "stream",
     "text": [
      "Epoch 160, Loss 0.0407\n",
      "Training Accuracy: 0.9573, Testing Accuracy: 0.9667\n",
      "\n"
     ]
    },
    {
     "name": "stdout",
     "output_type": "stream",
     "text": [
      "Epoch 170, Loss 0.0401\n",
      "Training Accuracy: 0.9579, Testing Accuracy: 0.9667\n",
      "\n"
     ]
    },
    {
     "name": "stdout",
     "output_type": "stream",
     "text": [
      "Epoch 180, Loss 0.0395\n",
      "Training Accuracy: 0.9585, Testing Accuracy: 0.9677\n",
      "\n"
     ]
    },
    {
     "name": "stdout",
     "output_type": "stream",
     "text": [
      "Epoch 190, Loss 0.039\n",
      "Training Accuracy: 0.9586, Testing Accuracy: 0.9672\n",
      "\n"
     ]
    },
    {
     "name": "stdout",
     "output_type": "stream",
     "text": [
      "Epoch 200, Loss 0.0385\n",
      "Training Accuracy: 0.9587, Testing Accuracy: 0.9672\n",
      "\n"
     ]
    },
    {
     "name": "stdout",
     "output_type": "stream",
     "text": [
      "Epoch 210, Loss 0.0381\n",
      "Training Accuracy: 0.9589, Testing Accuracy: 0.9677\n",
      "\n"
     ]
    },
    {
     "name": "stdout",
     "output_type": "stream",
     "text": [
      "Epoch 220, Loss 0.0377\n",
      "Training Accuracy: 0.9593, Testing Accuracy: 0.9682\n",
      "\n"
     ]
    },
    {
     "name": "stdout",
     "output_type": "stream",
     "text": [
      "Epoch 230, Loss 0.0373\n",
      "Training Accuracy: 0.9598, Testing Accuracy: 0.9688\n",
      "\n"
     ]
    },
    {
     "name": "stdout",
     "output_type": "stream",
     "text": [
      "Epoch 240, Loss 0.0369\n",
      "Training Accuracy: 0.9602, Testing Accuracy: 0.9698\n",
      "\n"
     ]
    },
    {
     "data": {
      "text/plain": [
       "0.019925898190514744"
      ]
     },
     "execution_count": 23,
     "metadata": {},
     "output_type": "execute_result"
    }
   ],
   "source": [
    "lr_learner.train_loop(dl)"
   ]
  },
  {
   "cell_type": "code",
   "execution_count": 24,
   "id": "ca410940",
   "metadata": {
    "execution": {
     "iopub.execute_input": "2022-03-07T00:31:51.228333Z",
     "iopub.status.busy": "2022-03-07T00:31:51.227795Z",
     "iopub.status.idle": "2022-03-07T00:31:51.461923Z",
     "shell.execute_reply": "2022-03-07T00:31:51.461421Z"
    },
    "papermill": {
     "duration": 0.287678,
     "end_time": "2022-03-07T00:31:51.462068",
     "exception": false,
     "start_time": "2022-03-07T00:31:51.174390",
     "status": "completed"
    },
    "tags": []
   },
   "outputs": [
    {
     "data": {
      "text/plain": [
       "<matplotlib.legend.Legend at 0x7fa00b4afda0>"
      ]
     },
     "execution_count": 24,
     "metadata": {},
     "output_type": "execute_result"
    },
    {
     "data": {
      "image/png": "[encoded data removed]",
      "text/plain": [
       "<Figure size 1080x720 with 1 Axes>"
      ]
     },
     "metadata": {
      "needs_background": "light"
     },
     "output_type": "display_data"
    }
   ],
   "source": [
    "#comparing the results of NN and LR\n",
    "plt.figure(figsize=(15,10))\n",
    "\n",
    "# Neural Network plots\n",
    "plt.plot(acc_nn.accuracies, 'r-', label = \"Training Accuracies - NN\")\n",
    "plt.plot(acc_nn.test_accuracies, 'g-', label = \"Testing Accuracies - NN\")\n",
    "\n",
    "# Logistic Regression plots\n",
    "plt.plot(acc_lr.accuracies, 'k-', label = \"Training Accuracies - LR\")\n",
    "plt.plot(acc_lr.test_accuracies, 'b-', label = \"Testing Accuracies - LR\")\n",
    "plt.legend()"
   ]
  },
  {
   "cell_type": "markdown",
   "id": "80dfb35c",
   "metadata": {
    "papermill": {
     "duration": 0.04214,
     "end_time": "2022-03-07T00:31:51.547152",
     "exception": false,
     "start_time": "2022-03-07T00:31:51.505012",
     "status": "completed"
    },
    "tags": []
   },
   "source": [
    "#### Plotting the outputs of this layer of the NN.\n"
   ]
  },
  {
   "cell_type": "code",
   "execution_count": 25,
   "id": "45eb2ff5",
   "metadata": {
    "execution": {
     "iopub.execute_input": "2022-03-07T00:31:51.636612Z",
     "iopub.status.busy": "2022-03-07T00:31:51.635993Z",
     "iopub.status.idle": "2022-03-07T00:31:51.658605Z",
     "shell.execute_reply": "2022-03-07T00:31:51.659083Z"
    },
    "papermill": {
     "duration": 0.069954,
     "end_time": "2022-03-07T00:31:51.659242",
     "exception": false,
     "start_time": "2022-03-07T00:31:51.589288",
     "status": "completed"
    },
    "tags": []
   },
   "outputs": [],
   "source": [
    "new_model = Model(layers[:-2])\n",
    "testing_plot = new_model(testing_data_x)"
   ]
  },
  {
   "cell_type": "code",
   "execution_count": 26,
   "id": "4c0a5485",
   "metadata": {
    "execution": {
     "iopub.execute_input": "2022-03-07T00:31:51.759980Z",
     "iopub.status.busy": "2022-03-07T00:31:51.759408Z",
     "iopub.status.idle": "2022-03-07T00:31:51.940328Z",
     "shell.execute_reply": "2022-03-07T00:31:51.939787Z"
    },
    "papermill": {
     "duration": 0.233928,
     "end_time": "2022-03-07T00:31:51.940477",
     "exception": false,
     "start_time": "2022-03-07T00:31:51.706549",
     "status": "completed"
    },
    "tags": []
   },
   "outputs": [
    {
     "data": {
      "text/plain": [
       "Text(0.5, 1.0, 'Outputs')"
      ]
     },
     "execution_count": 26,
     "metadata": {},
     "output_type": "execute_result"
    },
    {
     "data": {
      "image/png": "[encoded data removed]",
      "text/plain": [
       "<Figure size 576x504 with 1 Axes>"
      ]
     },
     "metadata": {
      "needs_background": "light"
     },
     "output_type": "display_data"
    }
   ],
   "source": [
    "# Plotting the scatter plot of points and color coding by class\n",
    "plt.figure(figsize=(8,7))\n",
    "plt.scatter(testing_plot[:,0], testing_plot[:,1], alpha = 0.1, c = y_test.ravel());\n",
    "plt.title('Outputs')"
   ]
  },
  {
   "cell_type": "markdown",
   "id": "a74fcf8f",
   "metadata": {
    "papermill": {
     "duration": 0.044008,
     "end_time": "2022-03-07T00:31:52.029037",
     "exception": false,
     "start_time": "2022-03-07T00:31:51.985029",
     "status": "completed"
    },
    "tags": []
   },
   "source": [
    "Probability contours"
   ]
  },
  {
   "cell_type": "code",
   "execution_count": 27,
   "id": "d0afc8e3",
   "metadata": {
    "execution": {
     "iopub.execute_input": "2022-03-07T00:31:52.128708Z",
     "iopub.status.busy": "2022-03-07T00:31:52.128119Z",
     "iopub.status.idle": "2022-03-07T00:31:52.136109Z",
     "shell.execute_reply": "2022-03-07T00:31:52.136533Z"
    },
    "papermill": {
     "duration": 0.063367,
     "end_time": "2022-03-07T00:31:52.136679",
     "exception": false,
     "start_time": "2022-03-07T00:31:52.073312",
     "status": "completed"
    },
    "tags": []
   },
   "outputs": [],
   "source": [
    "model_prob = Model(layers[-2:]) "
   ]
  },
  {
   "cell_type": "code",
   "execution_count": 28,
   "id": "9b96e238",
   "metadata": {
    "execution": {
     "iopub.execute_input": "2022-03-07T00:31:52.239788Z",
     "iopub.status.busy": "2022-03-07T00:31:52.235966Z",
     "iopub.status.idle": "2022-03-07T00:31:52.247135Z",
     "shell.execute_reply": "2022-03-07T00:31:52.247647Z"
    },
    "papermill": {
     "duration": 0.065442,
     "end_time": "2022-03-07T00:31:52.247792",
     "exception": false,
     "start_time": "2022-03-07T00:31:52.182350",
     "status": "completed"
    },
    "tags": []
   },
   "outputs": [],
   "source": [
    "#creating the x and y ranges according to the above generated plot.\n",
    "x_range = np.linspace(-4, 1, 100) \n",
    "y_range = np.linspace(-6, 6, 100) \n",
    "x_grid, y_grid = np.meshgrid(x_range, y_range) # x_grid and y_grig are of size 100 X 100\n",
    "\n",
    "# converting x_grid and y_grid to continuous arrays\n",
    "x_gridflat = np.ravel(x_grid)\n",
    "y_gridflat = np.ravel(y_grid)\n",
    "\n",
    "# The last layer of the current model takes two columns as input. Hence transpose of np.vstack() is required.\n",
    "X = np.vstack((x_gridflat, y_gridflat)).T\n",
    "\n",
    "prob_contour = model_prob(X).reshape(100,100) "
   ]
  },
  {
   "cell_type": "code",
   "execution_count": 29,
   "id": "da72499a",
   "metadata": {
    "execution": {
     "iopub.execute_input": "2022-03-07T00:31:52.377454Z",
     "iopub.status.busy": "2022-03-07T00:31:52.376923Z",
     "iopub.status.idle": "2022-03-07T00:31:52.612687Z",
     "shell.execute_reply": "2022-03-07T00:31:52.613156Z"
    },
    "papermill": {
     "duration": 0.320296,
     "end_time": "2022-03-07T00:31:52.613313",
     "exception": false,
     "start_time": "2022-03-07T00:31:52.293017",
     "status": "completed"
    },
    "tags": []
   },
   "outputs": [
    {
     "data": {
      "image/png": "[encoded data removed]",
      "text/plain": [
       "<Figure size 720x648 with 1 Axes>"
      ]
     },
     "metadata": {
      "needs_background": "light"
     },
     "output_type": "display_data"
    }
   ],
   "source": [
    "plt.figure(figsize=(10,9))\n",
    "plt.scatter(testing_plot[:,0], testing_plot[:,1], alpha = 0.1, c = y_test.ravel())\n",
    "contours = plt.contour(x_grid,y_grid,prob_contour)\n",
    "plt.title('Probability Contours')\n",
    "plt.clabel(contours, inline = True );"
   ]
  },
  {
   "cell_type": "code",
   "execution_count": null,
   "id": "e81b4ac7",
   "metadata": {
    "papermill": {
     "duration": 0.046802,
     "end_time": "2022-03-07T00:31:52.707437",
     "exception": false,
     "start_time": "2022-03-07T00:31:52.660635",
     "status": "completed"
    },
    "tags": []
   },
   "outputs": [],
   "source": []
  }
 ],
 "metadata": {
  "kernelspec": {
   "display_name": "Python 3",
   "language": "python",
   "name": "python3"
  },
  "language_info": {
   "codemirror_mode": {
    "name": "ipython",
    "version": 3
   },
   "file_extension": ".py",
   "mimetype": "text/x-python",
   "name": "python",
   "nbconvert_exporter": "python",
   "pygments_lexer": "ipython3",
   "version": "3.6.15"
  },
  "papermill": {
   "default_parameters": {},
   "duration": 98.756991,
   "end_time": "2022-03-07T00:31:53.172840",
   "environment_variables": {},
   "exception": null,
   "input_path": "2020-08-11-part2.ipynb",
   "output_path": "2020-08-11-part2.ipynb",
   "parameters": {},
   "start_time": "2022-03-07T00:30:14.415849",
   "version": "2.3.3"
  }
 },
 "nbformat": 4,
 "nbformat_minor": 5
}