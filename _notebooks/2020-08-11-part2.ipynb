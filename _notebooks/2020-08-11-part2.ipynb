{
 "cells": [
  {
   "cell_type": "markdown",
   "id": "98380cd3",
   "metadata": {
    "papermill": {
     "duration": 0.035334,
     "end_time": "2021-09-28T00:22:02.330753",
     "exception": false,
     "start_time": "2021-09-28T00:22:02.295419",
     "status": "completed"
    },
    "tags": []
   },
   "source": [
    "# Distinguish Your Own Digits (DYOD)"
   ]
  },
  {
   "cell_type": "markdown",
   "id": "ef31240d",
   "metadata": {
    "papermill": {
     "duration": 0.029632,
     "end_time": "2021-09-28T00:22:02.390129",
     "exception": false,
     "start_time": "2021-09-28T00:22:02.360497",
     "status": "completed"
    },
    "tags": []
   },
   "source": [
    "You are going to write a classifier that distinguishes between the number 3 and number 8."
   ]
  },
  {
   "cell_type": "code",
   "execution_count": 1,
   "id": "b15c8646",
   "metadata": {
    "execution": {
     "iopub.execute_input": "2021-09-28T00:22:02.460189Z",
     "iopub.status.busy": "2021-09-28T00:22:02.459523Z",
     "iopub.status.idle": "2021-09-28T00:22:02.473254Z",
     "shell.execute_reply": "2021-09-28T00:22:02.472642Z"
    },
    "papermill": {
     "duration": 0.055208,
     "end_time": "2021-09-28T00:22:02.473411",
     "exception": false,
     "start_time": "2021-09-28T00:22:02.418203",
     "status": "completed"
    },
    "tags": []
   },
   "outputs": [],
   "source": [
    "%load_ext autoreload\n",
    "%autoreload 2"
   ]
  },
  {
   "cell_type": "code",
   "execution_count": 2,
   "id": "22ef38dc",
   "metadata": {
    "execution": {
     "iopub.execute_input": "2021-09-28T00:22:02.538657Z",
     "iopub.status.busy": "2021-09-28T00:22:02.537945Z",
     "iopub.status.idle": "2021-09-28T00:22:03.161792Z",
     "shell.execute_reply": "2021-09-28T00:22:03.162304Z"
    },
    "papermill": {
     "duration": 0.659005,
     "end_time": "2021-09-28T00:22:03.162491",
     "exception": false,
     "start_time": "2021-09-28T00:22:02.503486",
     "status": "completed"
    },
    "tags": []
   },
   "outputs": [],
   "source": [
    "%matplotlib inline\n",
    "import numpy as np\n",
    "import matplotlib.pyplot as plt\n",
    "import pandas as pd"
   ]
  },
  {
   "cell_type": "markdown",
   "id": "ba036198",
   "metadata": {
    "papermill": {
     "duration": 0.029288,
     "end_time": "2021-09-28T00:22:03.221559",
     "exception": false,
     "start_time": "2021-09-28T00:22:03.192271",
     "status": "completed"
    },
    "tags": []
   },
   "source": [
    "From the command line run `pip install mnist`. This is a library that will help you bring down the mnist dataset. If you run this from a notebook, you need to put  `!pip install mnist` in a cell by itself."
   ]
  },
  {
   "cell_type": "code",
   "execution_count": 3,
   "id": "bb6ad8a1",
   "metadata": {
    "execution": {
     "iopub.execute_input": "2021-09-28T00:22:03.296668Z",
     "iopub.status.busy": "2021-09-28T00:22:03.295989Z",
     "iopub.status.idle": "2021-09-28T00:22:06.066106Z",
     "shell.execute_reply": "2021-09-28T00:22:06.065369Z"
    },
    "papermill": {
     "duration": 2.815364,
     "end_time": "2021-09-28T00:22:06.066321",
     "exception": false,
     "start_time": "2021-09-28T00:22:03.250957",
     "status": "completed"
    },
    "tags": []
   },
   "outputs": [
    {
     "name": "stdout",
     "output_type": "stream",
     "text": [
      "Collecting mnist\r\n"
     ]
    },
    {
     "name": "stdout",
     "output_type": "stream",
     "text": [
      "  Downloading mnist-0.2.2-py2.py3-none-any.whl (3.5 kB)\r\n",
      "Requirement already satisfied: numpy in /opt/hostedtoolcache/Python/3.6.15/x64/lib/python3.6/site-packages (from mnist) (1.19.5)\r\n"
     ]
    },
    {
     "name": "stdout",
     "output_type": "stream",
     "text": [
      "Installing collected packages: mnist\r\n",
      "Successfully installed mnist-0.2.2\r\n"
     ]
    }
   ],
   "source": [
    "!pip install mnist"
   ]
  },
  {
   "cell_type": "markdown",
   "id": "69df9c9a",
   "metadata": {
    "papermill": {
     "duration": 0.031681,
     "end_time": "2021-09-28T00:22:06.134613",
     "exception": false,
     "start_time": "2021-09-28T00:22:06.102932",
     "status": "completed"
    },
    "tags": []
   },
   "source": [
    "## Preparing the Data"
   ]
  },
  {
   "cell_type": "code",
   "execution_count": 4,
   "id": "7f69d806",
   "metadata": {
    "execution": {
     "iopub.execute_input": "2021-09-28T00:22:06.214144Z",
     "iopub.status.busy": "2021-09-28T00:22:06.209885Z",
     "iopub.status.idle": "2021-09-28T00:22:06.221436Z",
     "shell.execute_reply": "2021-09-28T00:22:06.220911Z"
    },
    "papermill": {
     "duration": 0.055947,
     "end_time": "2021-09-28T00:22:06.221554",
     "exception": false,
     "start_time": "2021-09-28T00:22:06.165607",
     "status": "completed"
    },
    "tags": []
   },
   "outputs": [],
   "source": [
    "import mnist"
   ]
  },
  {
   "cell_type": "code",
   "execution_count": 5,
   "id": "a411e44f",
   "metadata": {
    "execution": {
     "iopub.execute_input": "2021-09-28T00:22:06.289591Z",
     "iopub.status.busy": "2021-09-28T00:22:06.288945Z",
     "iopub.status.idle": "2021-09-28T00:22:06.908684Z",
     "shell.execute_reply": "2021-09-28T00:22:06.907994Z"
    },
    "papermill": {
     "duration": 0.656335,
     "end_time": "2021-09-28T00:22:06.908828",
     "exception": false,
     "start_time": "2021-09-28T00:22:06.252493",
     "status": "completed"
    },
    "tags": []
   },
   "outputs": [],
   "source": [
    "train_images = mnist.train_images()\n",
    "train_labels = mnist.train_labels()"
   ]
  },
  {
   "cell_type": "code",
   "execution_count": 6,
   "id": "dceab3a5",
   "metadata": {
    "execution": {
     "iopub.execute_input": "2021-09-28T00:22:06.975418Z",
     "iopub.status.busy": "2021-09-28T00:22:06.974735Z",
     "iopub.status.idle": "2021-09-28T00:22:06.992549Z",
     "shell.execute_reply": "2021-09-28T00:22:06.992058Z"
    },
    "papermill": {
     "duration": 0.052936,
     "end_time": "2021-09-28T00:22:06.992728",
     "exception": false,
     "start_time": "2021-09-28T00:22:06.939792",
     "status": "completed"
    },
    "tags": []
   },
   "outputs": [
    {
     "data": {
      "text/plain": [
       "((60000, 28, 28), (60000,))"
      ]
     },
     "execution_count": 6,
     "metadata": {},
     "output_type": "execute_result"
    }
   ],
   "source": [
    "train_images.shape, train_labels.shape"
   ]
  },
  {
   "cell_type": "code",
   "execution_count": 7,
   "id": "f50dc2bb",
   "metadata": {
    "execution": {
     "iopub.execute_input": "2021-09-28T00:22:07.060735Z",
     "iopub.status.busy": "2021-09-28T00:22:07.060024Z",
     "iopub.status.idle": "2021-09-28T00:22:07.224357Z",
     "shell.execute_reply": "2021-09-28T00:22:07.223707Z"
    },
    "papermill": {
     "duration": 0.200484,
     "end_time": "2021-09-28T00:22:07.224508",
     "exception": false,
     "start_time": "2021-09-28T00:22:07.024024",
     "status": "completed"
    },
    "tags": []
   },
   "outputs": [],
   "source": [
    "test_images = mnist.test_images()\n",
    "test_labels = mnist.test_labels()"
   ]
  },
  {
   "cell_type": "code",
   "execution_count": 8,
   "id": "fc38cf1b",
   "metadata": {
    "execution": {
     "iopub.execute_input": "2021-09-28T00:22:07.294445Z",
     "iopub.status.busy": "2021-09-28T00:22:07.293733Z",
     "iopub.status.idle": "2021-09-28T00:22:07.309365Z",
     "shell.execute_reply": "2021-09-28T00:22:07.308697Z"
    },
    "papermill": {
     "duration": 0.051631,
     "end_time": "2021-09-28T00:22:07.309525",
     "exception": false,
     "start_time": "2021-09-28T00:22:07.257894",
     "status": "completed"
    },
    "tags": []
   },
   "outputs": [
    {
     "data": {
      "text/plain": [
       "((10000, 28, 28), (10000,))"
      ]
     },
     "execution_count": 8,
     "metadata": {},
     "output_type": "execute_result"
    }
   ],
   "source": [
    "test_images.shape, test_labels.shape"
   ]
  },
  {
   "cell_type": "code",
   "execution_count": 9,
   "id": "f9ed8fe0",
   "metadata": {
    "execution": {
     "iopub.execute_input": "2021-09-28T00:22:07.379930Z",
     "iopub.status.busy": "2021-09-28T00:22:07.379275Z",
     "iopub.status.idle": "2021-09-28T00:22:07.571124Z",
     "shell.execute_reply": "2021-09-28T00:22:07.570517Z"
    },
    "papermill": {
     "duration": 0.22931,
     "end_time": "2021-09-28T00:22:07.571306",
     "exception": false,
     "start_time": "2021-09-28T00:22:07.341996",
     "status": "completed"
    },
    "tags": []
   },
   "outputs": [
    {
     "name": "stdout",
     "output_type": "stream",
     "text": [
      "2\n"
     ]
    },
    {
     "data": {
      "text/plain": [
       "<matplotlib.image.AxesImage at 0x7ff8cdf21898>"
      ]
     },
     "execution_count": 9,
     "metadata": {},
     "output_type": "execute_result"
    },
    {
     "data": {
      "image/png": "[encoded data removed]",
      "text/plain": [
       "<Figure size 432x288 with 1 Axes>"
      ]
     },
     "metadata": {
      "needs_background": "light"
     },
     "output_type": "display_data"
    }
   ],
   "source": [
    "image_index = 7776 # You may select anything up to 60,000\n",
    "print(train_labels[image_index]) \n",
    "plt.imshow(train_images[image_index], cmap='Greys')"
   ]
  },
  {
   "cell_type": "markdown",
   "id": "a8d2388d",
   "metadata": {
    "papermill": {
     "duration": 0.0326,
     "end_time": "2021-09-28T00:22:07.637124",
     "exception": false,
     "start_time": "2021-09-28T00:22:07.604524",
     "status": "completed"
    },
    "tags": []
   },
   "source": [
    "## Filter data to get 3 and 8 out"
   ]
  },
  {
   "cell_type": "code",
   "execution_count": 10,
   "id": "776f7fc7",
   "metadata": {
    "execution": {
     "iopub.execute_input": "2021-09-28T00:22:07.709168Z",
     "iopub.status.busy": "2021-09-28T00:22:07.708495Z",
     "iopub.status.idle": "2021-09-28T00:22:07.728439Z",
     "shell.execute_reply": "2021-09-28T00:22:07.727913Z"
    },
    "papermill": {
     "duration": 0.057406,
     "end_time": "2021-09-28T00:22:07.728574",
     "exception": false,
     "start_time": "2021-09-28T00:22:07.671168",
     "status": "completed"
    },
    "tags": []
   },
   "outputs": [],
   "source": [
    "train_filter = np.where((train_labels == 3 ) | (train_labels == 8))\n",
    "test_filter = np.where((test_labels == 3) | (test_labels == 8))\n",
    "X_train, y_train = train_images[train_filter], train_labels[train_filter]\n",
    "X_test, y_test = test_images[test_filter], test_labels[test_filter]"
   ]
  },
  {
   "cell_type": "markdown",
   "id": "948f0b7e",
   "metadata": {
    "papermill": {
     "duration": 0.032466,
     "end_time": "2021-09-28T00:22:07.792206",
     "exception": false,
     "start_time": "2021-09-28T00:22:07.759740",
     "status": "completed"
    },
    "tags": []
   },
   "source": [
    "We normalize the pizel values in the 0 to 1 range"
   ]
  },
  {
   "cell_type": "code",
   "execution_count": 11,
   "id": "ee4c2166",
   "metadata": {
    "execution": {
     "iopub.execute_input": "2021-09-28T00:22:07.863603Z",
     "iopub.status.busy": "2021-09-28T00:22:07.862433Z",
     "iopub.status.idle": "2021-09-28T00:22:07.921539Z",
     "shell.execute_reply": "2021-09-28T00:22:07.922051Z"
    },
    "papermill": {
     "duration": 0.097924,
     "end_time": "2021-09-28T00:22:07.922242",
     "exception": false,
     "start_time": "2021-09-28T00:22:07.824318",
     "status": "completed"
    },
    "tags": []
   },
   "outputs": [],
   "source": [
    "X_train = X_train/255.\n",
    "X_test = X_test/255."
   ]
  },
  {
   "cell_type": "markdown",
   "id": "ddcf4fab",
   "metadata": {
    "papermill": {
     "duration": 0.032139,
     "end_time": "2021-09-28T00:22:07.988021",
     "exception": false,
     "start_time": "2021-09-28T00:22:07.955882",
     "status": "completed"
    },
    "tags": []
   },
   "source": [
    "And setup the labels as 1 (when the digit is 3) and 0 (when the digit is 8)"
   ]
  },
  {
   "cell_type": "code",
   "execution_count": 12,
   "id": "7dc908f2",
   "metadata": {
    "execution": {
     "iopub.execute_input": "2021-09-28T00:22:08.055384Z",
     "iopub.status.busy": "2021-09-28T00:22:08.054550Z",
     "iopub.status.idle": "2021-09-28T00:22:08.071828Z",
     "shell.execute_reply": "2021-09-28T00:22:08.071282Z"
    },
    "papermill": {
     "duration": 0.052028,
     "end_time": "2021-09-28T00:22:08.071956",
     "exception": false,
     "start_time": "2021-09-28T00:22:08.019928",
     "status": "completed"
    },
    "tags": []
   },
   "outputs": [],
   "source": [
    "y_train = 1*(y_train==3)\n",
    "y_test = 1*(y_test==3)"
   ]
  },
  {
   "cell_type": "code",
   "execution_count": 13,
   "id": "01e4e969",
   "metadata": {
    "execution": {
     "iopub.execute_input": "2021-09-28T00:22:08.142777Z",
     "iopub.status.busy": "2021-09-28T00:22:08.142074Z",
     "iopub.status.idle": "2021-09-28T00:22:08.157256Z",
     "shell.execute_reply": "2021-09-28T00:22:08.157773Z"
    },
    "papermill": {
     "duration": 0.053164,
     "end_time": "2021-09-28T00:22:08.157907",
     "exception": false,
     "start_time": "2021-09-28T00:22:08.104743",
     "status": "completed"
    },
    "tags": []
   },
   "outputs": [
    {
     "data": {
      "text/plain": [
       "((11982, 28, 28), (1984, 28, 28))"
      ]
     },
     "execution_count": 13,
     "metadata": {},
     "output_type": "execute_result"
    }
   ],
   "source": [
    "X_train.shape, X_test.shape"
   ]
  },
  {
   "cell_type": "markdown",
   "id": "5ccf3f85",
   "metadata": {
    "papermill": {
     "duration": 0.033371,
     "end_time": "2021-09-28T00:22:08.224493",
     "exception": false,
     "start_time": "2021-09-28T00:22:08.191122",
     "status": "completed"
    },
    "tags": []
   },
   "source": [
    "We reshape the data to flatten the image pixels into a set of features or co-variates:"
   ]
  },
  {
   "cell_type": "code",
   "execution_count": 14,
   "id": "5286a4a3",
   "metadata": {
    "execution": {
     "iopub.execute_input": "2021-09-28T00:22:08.306964Z",
     "iopub.status.busy": "2021-09-28T00:22:08.306225Z",
     "iopub.status.idle": "2021-09-28T00:22:08.322990Z",
     "shell.execute_reply": "2021-09-28T00:22:08.323604Z"
    },
    "papermill": {
     "duration": 0.067021,
     "end_time": "2021-09-28T00:22:08.323762",
     "exception": false,
     "start_time": "2021-09-28T00:22:08.256741",
     "status": "completed"
    },
    "tags": []
   },
   "outputs": [
    {
     "data": {
      "text/plain": [
       "((11982, 784), (1984, 784))"
      ]
     },
     "execution_count": 14,
     "metadata": {},
     "output_type": "execute_result"
    }
   ],
   "source": [
    "X_train = X_train.reshape(X_train.shape[0], -1)\n",
    "X_test = X_test.reshape(X_test.shape[0], -1)\n",
    "X_train.shape, X_test.shape"
   ]
  },
  {
   "cell_type": "code",
   "execution_count": 15,
   "id": "73c5f88a",
   "metadata": {
    "execution": {
     "iopub.execute_input": "2021-09-28T00:22:08.412788Z",
     "iopub.status.busy": "2021-09-28T00:22:08.412036Z",
     "iopub.status.idle": "2021-09-28T00:22:08.421351Z",
     "shell.execute_reply": "2021-09-28T00:22:08.420830Z"
    },
    "papermill": {
     "duration": 0.062751,
     "end_time": "2021-09-28T00:22:08.421474",
     "exception": false,
     "start_time": "2021-09-28T00:22:08.358723",
     "status": "completed"
    },
    "tags": []
   },
   "outputs": [],
   "source": [
    "#Impoting functions from 'Kudzu'\n",
    "from kudzu.model import Model\n",
    "from kudzu.train import Learner\n",
    "from kudzu.optim import GD\n",
    "from kudzu.data import Data, Sampler,Dataloader\n",
    "\n",
    "from kudzu.callbacks import AccCallback\n",
    "from kudzu.callbacks import ClfCallback\n",
    "\n",
    "from kudzu.loss import MSE\n",
    "\n",
    "from kudzu.layer import Sigmoid,Relu\n",
    "from kudzu.layer import Affine"
   ]
  },
  {
   "cell_type": "markdown",
   "id": "bc01172a",
   "metadata": {
    "papermill": {
     "duration": 0.03288,
     "end_time": "2021-09-28T00:22:08.488136",
     "exception": false,
     "start_time": "2021-09-28T00:22:08.455256",
     "status": "completed"
    },
    "tags": []
   },
   "source": [
    "### Let us create a `Config` class, to store important parameters. \n",
    "This class essentially plays the role of a dictionary."
   ]
  },
  {
   "cell_type": "code",
   "execution_count": 16,
   "id": "978281aa",
   "metadata": {
    "execution": {
     "iopub.execute_input": "2021-09-28T00:22:08.562823Z",
     "iopub.status.busy": "2021-09-28T00:22:08.562118Z",
     "iopub.status.idle": "2021-09-28T00:22:08.578156Z",
     "shell.execute_reply": "2021-09-28T00:22:08.578703Z"
    },
    "papermill": {
     "duration": 0.056475,
     "end_time": "2021-09-28T00:22:08.578892",
     "exception": false,
     "start_time": "2021-09-28T00:22:08.522417",
     "status": "completed"
    },
    "tags": []
   },
   "outputs": [],
   "source": [
    "class Config:\n",
    "    pass\n",
    "config = Config()\n",
    "config.lr = 0.001\n",
    "config.num_epochs = 250\n",
    "config.bs = 50"
   ]
  },
  {
   "cell_type": "markdown",
   "id": "1385fa59",
   "metadata": {
    "papermill": {
     "duration": 0.033497,
     "end_time": "2021-09-28T00:22:08.646819",
     "exception": false,
     "start_time": "2021-09-28T00:22:08.613322",
     "status": "completed"
    },
    "tags": []
   },
   "source": [
    "### Running Models with the Training data\n",
    "Details about the network layers:\n",
    "- A first affine layer has 784 inputs and does 100 affine transforms. These are followed by a Relu\n",
    "- A second affine layer has 100 inputs from the 100 activations of the past layer, and does 100 affine transforms. These are followed by a Relu\n",
    "- A third affine layer has 100 activations and does 2 affine transformations to create an embedding for visualization. There is no non-linearity here.\n",
    "- A final \"logistic regression\" which has an affine transform from 2 inputs to 1 output, which is squeezed through a sigmoid.\n"
   ]
  },
  {
   "cell_type": "code",
   "execution_count": 17,
   "id": "2b9c66db",
   "metadata": {
    "execution": {
     "iopub.execute_input": "2021-09-28T00:22:08.718944Z",
     "iopub.status.busy": "2021-09-28T00:22:08.718203Z",
     "iopub.status.idle": "2021-09-28T00:22:08.731737Z",
     "shell.execute_reply": "2021-09-28T00:22:08.732376Z"
    },
    "papermill": {
     "duration": 0.05319,
     "end_time": "2021-09-28T00:22:08.732704",
     "exception": false,
     "start_time": "2021-09-28T00:22:08.679514",
     "status": "completed"
    },
    "tags": []
   },
   "outputs": [],
   "source": [
    "data = Data(X_train, y_train.reshape(-1,1))\n",
    "sampler = Sampler(data, config.bs, shuffle=True)\n",
    "\n",
    "dl = Dataloader(data, sampler)\n",
    "\n",
    "opt = GD(config.lr)\n",
    "loss = MSE()"
   ]
  },
  {
   "cell_type": "code",
   "execution_count": 18,
   "id": "b275e4c2",
   "metadata": {
    "execution": {
     "iopub.execute_input": "2021-09-28T00:22:08.805035Z",
     "iopub.status.busy": "2021-09-28T00:22:08.804372Z",
     "iopub.status.idle": "2021-09-28T00:22:08.818021Z",
     "shell.execute_reply": "2021-09-28T00:22:08.817483Z"
    },
    "papermill": {
     "duration": 0.053097,
     "end_time": "2021-09-28T00:22:08.818149",
     "exception": false,
     "start_time": "2021-09-28T00:22:08.765052",
     "status": "completed"
    },
    "tags": []
   },
   "outputs": [],
   "source": [
    "training_data_x = X_train\n",
    "testing_data_x = X_test\n",
    "training_data_y = y_train.reshape(-1,1)\n",
    "testing_data_y = y_test.reshape(-1,1)"
   ]
  },
  {
   "cell_type": "code",
   "execution_count": 19,
   "id": "76951160",
   "metadata": {
    "execution": {
     "iopub.execute_input": "2021-09-28T00:22:08.891832Z",
     "iopub.status.busy": "2021-09-28T00:22:08.891040Z",
     "iopub.status.idle": "2021-09-28T00:22:08.910674Z",
     "shell.execute_reply": "2021-09-28T00:22:08.910174Z"
    },
    "papermill": {
     "duration": 0.059538,
     "end_time": "2021-09-28T00:22:08.910812",
     "exception": false,
     "start_time": "2021-09-28T00:22:08.851274",
     "status": "completed"
    },
    "tags": []
   },
   "outputs": [
    {
     "name": "stdout",
     "output_type": "stream",
     "text": [
      "xavier\n",
      "xavier\n",
      "xavier\n",
      "xavier\n",
      "xavier\n"
     ]
    }
   ],
   "source": [
    "layers = [Affine(\"first\", 784, 100), Relu(\"first\"), Affine(\"second\", 100, 100), Relu(\"second\"), Affine(\"third\", 100, 2), Affine(\"last\", 2, 1), Sigmoid(\"last\")]\n",
    "model_nn = Model(layers)\n",
    "model_lr = Model([Affine(\"logits\", 784, 1), Sigmoid(\"sigmoid\")])"
   ]
  },
  {
   "cell_type": "code",
   "execution_count": 20,
   "id": "6eede77a",
   "metadata": {
    "execution": {
     "iopub.execute_input": "2021-09-28T00:22:08.981541Z",
     "iopub.status.busy": "2021-09-28T00:22:08.980941Z",
     "iopub.status.idle": "2021-09-28T00:22:08.994962Z",
     "shell.execute_reply": "2021-09-28T00:22:08.995801Z"
    },
    "papermill": {
     "duration": 0.051344,
     "end_time": "2021-09-28T00:22:08.995968",
     "exception": false,
     "start_time": "2021-09-28T00:22:08.944624",
     "status": "completed"
    },
    "tags": []
   },
   "outputs": [],
   "source": [
    "nn_learner = Learner(loss, model_nn, opt, config.num_epochs)\n",
    "acc_nn = ClfCallback(nn_learner, config.bs, training_data_x , testing_data_x, training_data_y, testing_data_y)\n",
    "nn_learner.set_callbacks([acc_nn])"
   ]
  },
  {
   "cell_type": "code",
   "execution_count": 21,
   "id": "877b6cc7",
   "metadata": {
    "execution": {
     "iopub.execute_input": "2021-09-28T00:22:09.067844Z",
     "iopub.status.busy": "2021-09-28T00:22:09.067190Z",
     "iopub.status.idle": "2021-09-28T00:22:09.081336Z",
     "shell.execute_reply": "2021-09-28T00:22:09.081901Z"
    },
    "papermill": {
     "duration": 0.052856,
     "end_time": "2021-09-28T00:22:09.082075",
     "exception": false,
     "start_time": "2021-09-28T00:22:09.029219",
     "status": "completed"
    },
    "tags": []
   },
   "outputs": [],
   "source": [
    "lr_learner = Learner(loss, model_lr, opt, config.num_epochs)\n",
    "acc_lr = ClfCallback(lr_learner, config.bs, training_data_x , testing_data_x, training_data_y, testing_data_y)\n",
    "lr_learner.set_callbacks([acc_lr])"
   ]
  },
  {
   "cell_type": "code",
   "execution_count": 22,
   "id": "d9b133c3",
   "metadata": {
    "execution": {
     "iopub.execute_input": "2021-09-28T00:22:09.161132Z",
     "iopub.status.busy": "2021-09-28T00:22:09.160515Z",
     "iopub.status.idle": "2021-09-28T00:24:32.947784Z",
     "shell.execute_reply": "2021-09-28T00:24:32.948756Z"
    },
    "papermill": {
     "duration": 143.833296,
     "end_time": "2021-09-28T00:24:32.948978",
     "exception": false,
     "start_time": "2021-09-28T00:22:09.115682",
     "status": "completed"
    },
    "tags": []
   },
   "outputs": [
    {
     "name": "stdout",
     "output_type": "stream",
     "text": [
      "Epoch 0, Loss 0.2193\n",
      "Training Accuracy: 0.7853, Testing Accuracy: 0.7838\n",
      "\n"
     ]
    },
    {
     "name": "stdout",
     "output_type": "stream",
     "text": [
      "Epoch 10, Loss 0.0619\n",
      "Training Accuracy: 0.9344, Testing Accuracy: 0.9506\n",
      "\n"
     ]
    },
    {
     "name": "stdout",
     "output_type": "stream",
     "text": [
      "Epoch 20, Loss 0.0443\n",
      "Training Accuracy: 0.9500, Testing Accuracy: 0.9602\n",
      "\n"
     ]
    },
    {
     "name": "stdout",
     "output_type": "stream",
     "text": [
      "Epoch 30, Loss 0.0373\n",
      "Training Accuracy: 0.9572, Testing Accuracy: 0.9652\n",
      "\n"
     ]
    },
    {
     "name": "stdout",
     "output_type": "stream",
     "text": [
      "Epoch 40, Loss 0.0334\n",
      "Training Accuracy: 0.9611, Testing Accuracy: 0.9672\n",
      "\n"
     ]
    },
    {
     "name": "stdout",
     "output_type": "stream",
     "text": [
      "Epoch 50, Loss 0.0307\n",
      "Training Accuracy: 0.9639, Testing Accuracy: 0.9688\n",
      "\n"
     ]
    },
    {
     "name": "stdout",
     "output_type": "stream",
     "text": [
      "Epoch 60, Loss 0.0287\n",
      "Training Accuracy: 0.9667, Testing Accuracy: 0.9688\n",
      "\n"
     ]
    },
    {
     "name": "stdout",
     "output_type": "stream",
     "text": [
      "Epoch 70, Loss 0.0272\n",
      "Training Accuracy: 0.9685, Testing Accuracy: 0.9703\n",
      "\n"
     ]
    },
    {
     "name": "stdout",
     "output_type": "stream",
     "text": [
      "Epoch 80, Loss 0.0259\n",
      "Training Accuracy: 0.9704, Testing Accuracy: 0.9693\n",
      "\n"
     ]
    },
    {
     "name": "stdout",
     "output_type": "stream",
     "text": [
      "Epoch 90, Loss 0.0248\n",
      "Training Accuracy: 0.9717, Testing Accuracy: 0.9693\n",
      "\n"
     ]
    },
    {
     "name": "stdout",
     "output_type": "stream",
     "text": [
      "Epoch 100, Loss 0.0238\n",
      "Training Accuracy: 0.9729, Testing Accuracy: 0.9698\n",
      "\n"
     ]
    },
    {
     "name": "stdout",
     "output_type": "stream",
     "text": [
      "Epoch 110, Loss 0.023\n",
      "Training Accuracy: 0.9739, Testing Accuracy: 0.9708\n",
      "\n"
     ]
    },
    {
     "name": "stdout",
     "output_type": "stream",
     "text": [
      "Epoch 120, Loss 0.0222\n",
      "Training Accuracy: 0.9750, Testing Accuracy: 0.9708\n",
      "\n"
     ]
    },
    {
     "name": "stdout",
     "output_type": "stream",
     "text": [
      "Epoch 130, Loss 0.0214\n",
      "Training Accuracy: 0.9756, Testing Accuracy: 0.9708\n",
      "\n"
     ]
    },
    {
     "name": "stdout",
     "output_type": "stream",
     "text": [
      "Epoch 140, Loss 0.0207\n",
      "Training Accuracy: 0.9767, Testing Accuracy: 0.9723\n",
      "\n"
     ]
    },
    {
     "name": "stdout",
     "output_type": "stream",
     "text": [
      "Epoch 150, Loss 0.0201\n",
      "Training Accuracy: 0.9776, Testing Accuracy: 0.9723\n",
      "\n"
     ]
    },
    {
     "name": "stdout",
     "output_type": "stream",
     "text": [
      "Epoch 160, Loss 0.0195\n",
      "Training Accuracy: 0.9782, Testing Accuracy: 0.9723\n",
      "\n"
     ]
    },
    {
     "name": "stdout",
     "output_type": "stream",
     "text": [
      "Epoch 170, Loss 0.0189\n",
      "Training Accuracy: 0.9785, Testing Accuracy: 0.9723\n",
      "\n"
     ]
    },
    {
     "name": "stdout",
     "output_type": "stream",
     "text": [
      "Epoch 180, Loss 0.0184\n",
      "Training Accuracy: 0.9793, Testing Accuracy: 0.9723\n",
      "\n"
     ]
    },
    {
     "name": "stdout",
     "output_type": "stream",
     "text": [
      "Epoch 190, Loss 0.0179\n",
      "Training Accuracy: 0.9801, Testing Accuracy: 0.9728\n",
      "\n"
     ]
    },
    {
     "name": "stdout",
     "output_type": "stream",
     "text": [
      "Epoch 200, Loss 0.0174\n",
      "Training Accuracy: 0.9811, Testing Accuracy: 0.9733\n",
      "\n"
     ]
    },
    {
     "name": "stdout",
     "output_type": "stream",
     "text": [
      "Epoch 210, Loss 0.017\n",
      "Training Accuracy: 0.9817, Testing Accuracy: 0.9738\n",
      "\n"
     ]
    },
    {
     "name": "stdout",
     "output_type": "stream",
     "text": [
      "Epoch 220, Loss 0.0165\n",
      "Training Accuracy: 0.9823, Testing Accuracy: 0.9738\n",
      "\n"
     ]
    },
    {
     "name": "stdout",
     "output_type": "stream",
     "text": [
      "Epoch 230, Loss 0.0161\n",
      "Training Accuracy: 0.9829, Testing Accuracy: 0.9738\n",
      "\n"
     ]
    },
    {
     "name": "stdout",
     "output_type": "stream",
     "text": [
      "Epoch 240, Loss 0.0157\n",
      "Training Accuracy: 0.9833, Testing Accuracy: 0.9753\n",
      "\n"
     ]
    },
    {
     "data": {
      "text/plain": [
       "0.007046906396132034"
      ]
     },
     "execution_count": 22,
     "metadata": {},
     "output_type": "execute_result"
    }
   ],
   "source": [
    "nn_learner.train_loop(dl)"
   ]
  },
  {
   "cell_type": "code",
   "execution_count": 23,
   "id": "e0163366",
   "metadata": {
    "execution": {
     "iopub.execute_input": "2021-09-28T00:24:33.045159Z",
     "iopub.status.busy": "2021-09-28T00:24:33.044442Z",
     "iopub.status.idle": "2021-09-28T00:24:53.997160Z",
     "shell.execute_reply": "2021-09-28T00:24:53.998167Z"
    },
    "papermill": {
     "duration": 21.005457,
     "end_time": "2021-09-28T00:24:53.998412",
     "exception": false,
     "start_time": "2021-09-28T00:24:32.992955",
     "status": "completed"
    },
    "tags": []
   },
   "outputs": [
    {
     "name": "stdout",
     "output_type": "stream",
     "text": [
      "Epoch 0, Loss 0.2799\n",
      "Training Accuracy: 0.5111, Testing Accuracy: 0.5121\n",
      "\n"
     ]
    },
    {
     "name": "stdout",
     "output_type": "stream",
     "text": [
      "Epoch 10, Loss 0.1057\n",
      "Training Accuracy: 0.9071, Testing Accuracy: 0.9199\n",
      "\n"
     ]
    },
    {
     "name": "stdout",
     "output_type": "stream",
     "text": [
      "Epoch 20, Loss 0.0797\n",
      "Training Accuracy: 0.9280, Testing Accuracy: 0.9410\n",
      "\n"
     ]
    },
    {
     "name": "stdout",
     "output_type": "stream",
     "text": [
      "Epoch 30, Loss 0.0682\n",
      "Training Accuracy: 0.9364, Testing Accuracy: 0.9491\n",
      "\n"
     ]
    },
    {
     "name": "stdout",
     "output_type": "stream",
     "text": [
      "Epoch 40, Loss 0.0615\n",
      "Training Accuracy: 0.9421, Testing Accuracy: 0.9541\n",
      "\n"
     ]
    },
    {
     "name": "stdout",
     "output_type": "stream",
     "text": [
      "Epoch 50, Loss 0.0569\n",
      "Training Accuracy: 0.9462, Testing Accuracy: 0.9572\n",
      "\n"
     ]
    },
    {
     "name": "stdout",
     "output_type": "stream",
     "text": [
      "Epoch 60, Loss 0.0536\n",
      "Training Accuracy: 0.9482, Testing Accuracy: 0.9587\n",
      "\n"
     ]
    },
    {
     "name": "stdout",
     "output_type": "stream",
     "text": [
      "Epoch 70, Loss 0.0511\n",
      "Training Accuracy: 0.9503, Testing Accuracy: 0.9612\n",
      "\n"
     ]
    },
    {
     "name": "stdout",
     "output_type": "stream",
     "text": [
      "Epoch 80, Loss 0.049\n",
      "Training Accuracy: 0.9523, Testing Accuracy: 0.9612\n",
      "\n"
     ]
    },
    {
     "name": "stdout",
     "output_type": "stream",
     "text": [
      "Epoch 90, Loss 0.0474\n",
      "Training Accuracy: 0.9533, Testing Accuracy: 0.9612\n",
      "\n"
     ]
    },
    {
     "name": "stdout",
     "output_type": "stream",
     "text": [
      "Epoch 100, Loss 0.046\n",
      "Training Accuracy: 0.9548, Testing Accuracy: 0.9622\n",
      "\n"
     ]
    },
    {
     "name": "stdout",
     "output_type": "stream",
     "text": [
      "Epoch 110, Loss 0.0447\n",
      "Training Accuracy: 0.9555, Testing Accuracy: 0.9627\n",
      "\n"
     ]
    },
    {
     "name": "stdout",
     "output_type": "stream",
     "text": [
      "Epoch 120, Loss 0.0437\n",
      "Training Accuracy: 0.9560, Testing Accuracy: 0.9642\n",
      "\n"
     ]
    },
    {
     "name": "stdout",
     "output_type": "stream",
     "text": [
      "Epoch 130, Loss 0.0428\n",
      "Training Accuracy: 0.9564, Testing Accuracy: 0.9647\n",
      "\n"
     ]
    },
    {
     "name": "stdout",
     "output_type": "stream",
     "text": [
      "Epoch 140, Loss 0.042\n",
      "Training Accuracy: 0.9569, Testing Accuracy: 0.9652\n",
      "\n"
     ]
    },
    {
     "name": "stdout",
     "output_type": "stream",
     "text": [
      "Epoch 150, Loss 0.0412\n",
      "Training Accuracy: 0.9578, Testing Accuracy: 0.9662\n",
      "\n"
     ]
    },
    {
     "name": "stdout",
     "output_type": "stream",
     "text": [
      "Epoch 160, Loss 0.0406\n",
      "Training Accuracy: 0.9582, Testing Accuracy: 0.9667\n",
      "\n"
     ]
    },
    {
     "name": "stdout",
     "output_type": "stream",
     "text": [
      "Epoch 170, Loss 0.04\n",
      "Training Accuracy: 0.9586, Testing Accuracy: 0.9672\n",
      "\n"
     ]
    },
    {
     "name": "stdout",
     "output_type": "stream",
     "text": [
      "Epoch 180, Loss 0.0394\n",
      "Training Accuracy: 0.9592, Testing Accuracy: 0.9672\n",
      "\n"
     ]
    },
    {
     "name": "stdout",
     "output_type": "stream",
     "text": [
      "Epoch 190, Loss 0.0389\n",
      "Training Accuracy: 0.9600, Testing Accuracy: 0.9672\n",
      "\n"
     ]
    },
    {
     "name": "stdout",
     "output_type": "stream",
     "text": [
      "Epoch 200, Loss 0.0384\n",
      "Training Accuracy: 0.9604, Testing Accuracy: 0.9672\n",
      "\n"
     ]
    },
    {
     "name": "stdout",
     "output_type": "stream",
     "text": [
      "Epoch 210, Loss 0.038\n",
      "Training Accuracy: 0.9608, Testing Accuracy: 0.9672\n",
      "\n"
     ]
    },
    {
     "name": "stdout",
     "output_type": "stream",
     "text": [
      "Epoch 220, Loss 0.0376\n",
      "Training Accuracy: 0.9609, Testing Accuracy: 0.9672\n",
      "\n"
     ]
    },
    {
     "name": "stdout",
     "output_type": "stream",
     "text": [
      "Epoch 230, Loss 0.0372\n",
      "Training Accuracy: 0.9610, Testing Accuracy: 0.9672\n",
      "\n"
     ]
    },
    {
     "name": "stdout",
     "output_type": "stream",
     "text": [
      "Epoch 240, Loss 0.0368\n",
      "Training Accuracy: 0.9611, Testing Accuracy: 0.9688\n",
      "\n"
     ]
    },
    {
     "data": {
      "text/plain": [
       "0.09876196092431103"
      ]
     },
     "execution_count": 23,
     "metadata": {},
     "output_type": "execute_result"
    }
   ],
   "source": [
    "lr_learner.train_loop(dl)"
   ]
  },
  {
   "cell_type": "code",
   "execution_count": 24,
   "id": "ca410940",
   "metadata": {
    "execution": {
     "iopub.execute_input": "2021-09-28T00:24:54.112303Z",
     "iopub.status.busy": "2021-09-28T00:24:54.111557Z",
     "iopub.status.idle": "2021-09-28T00:24:54.421348Z",
     "shell.execute_reply": "2021-09-28T00:24:54.420821Z"
    },
    "papermill": {
     "duration": 0.371707,
     "end_time": "2021-09-28T00:24:54.421490",
     "exception": false,
     "start_time": "2021-09-28T00:24:54.049783",
     "status": "completed"
    },
    "tags": []
   },
   "outputs": [
    {
     "data": {
      "text/plain": [
       "<matplotlib.legend.Legend at 0x7ff8c12d88d0>"
      ]
     },
     "execution_count": 24,
     "metadata": {},
     "output_type": "execute_result"
    },
    {
     "data": {
      "image/png": "[encoded data removed]",
      "text/plain": [
       "<Figure size 1080x720 with 1 Axes>"
      ]
     },
     "metadata": {
      "needs_background": "light"
     },
     "output_type": "display_data"
    }
   ],
   "source": [
    "#comparing the results of NN and LR\n",
    "plt.figure(figsize=(15,10))\n",
    "\n",
    "# Neural Network plots\n",
    "plt.plot(acc_nn.accuracies, 'r-', label = \"Training Accuracies - NN\")\n",
    "plt.plot(acc_nn.test_accuracies, 'g-', label = \"Testing Accuracies - NN\")\n",
    "\n",
    "# Logistic Regression plots\n",
    "plt.plot(acc_lr.accuracies, 'k-', label = \"Training Accuracies - LR\")\n",
    "plt.plot(acc_lr.test_accuracies, 'b-', label = \"Testing Accuracies - LR\")\n",
    "plt.legend()"
   ]
  },
  {
   "cell_type": "markdown",
   "id": "80dfb35c",
   "metadata": {
    "papermill": {
     "duration": 0.052797,
     "end_time": "2021-09-28T00:24:54.527863",
     "exception": false,
     "start_time": "2021-09-28T00:24:54.475066",
     "status": "completed"
    },
    "tags": []
   },
   "source": [
    "#### Plotting the outputs of this layer of the NN.\n"
   ]
  },
  {
   "cell_type": "code",
   "execution_count": 25,
   "id": "45eb2ff5",
   "metadata": {
    "execution": {
     "iopub.execute_input": "2021-09-28T00:24:54.641224Z",
     "iopub.status.busy": "2021-09-28T00:24:54.640412Z",
     "iopub.status.idle": "2021-09-28T00:24:54.669326Z",
     "shell.execute_reply": "2021-09-28T00:24:54.669834Z"
    },
    "papermill": {
     "duration": 0.088042,
     "end_time": "2021-09-28T00:24:54.669990",
     "exception": false,
     "start_time": "2021-09-28T00:24:54.581948",
     "status": "completed"
    },
    "tags": []
   },
   "outputs": [],
   "source": [
    "new_model = Model(layers[:-2])\n",
    "testing_plot = new_model(testing_data_x)"
   ]
  },
  {
   "cell_type": "code",
   "execution_count": 26,
   "id": "4c0a5485",
   "metadata": {
    "execution": {
     "iopub.execute_input": "2021-09-28T00:24:54.798039Z",
     "iopub.status.busy": "2021-09-28T00:24:54.797406Z",
     "iopub.status.idle": "2021-09-28T00:24:55.059810Z",
     "shell.execute_reply": "2021-09-28T00:24:55.060348Z"
    },
    "papermill": {
     "duration": 0.322565,
     "end_time": "2021-09-28T00:24:55.060523",
     "exception": false,
     "start_time": "2021-09-28T00:24:54.737958",
     "status": "completed"
    },
    "tags": []
   },
   "outputs": [
    {
     "data": {
      "text/plain": [
       "Text(0.5, 1.0, 'Outputs')"
      ]
     },
     "execution_count": 26,
     "metadata": {},
     "output_type": "execute_result"
    },
    {
     "data": {
      "image/png": "[encoded data removed]",
      "text/plain": [
       "<Figure size 576x504 with 1 Axes>"
      ]
     },
     "metadata": {
      "needs_background": "light"
     },
     "output_type": "display_data"
    }
   ],
   "source": [
    "# Plotting the scatter plot of points and color coding by class\n",
    "plt.figure(figsize=(8,7))\n",
    "plt.scatter(testing_plot[:,0], testing_plot[:,1], alpha = 0.1, c = y_test.ravel());\n",
    "plt.title('Outputs')"
   ]
  },
  {
   "cell_type": "markdown",
   "id": "a74fcf8f",
   "metadata": {
    "papermill": {
     "duration": 0.057523,
     "end_time": "2021-09-28T00:24:55.188968",
     "exception": false,
     "start_time": "2021-09-28T00:24:55.131445",
     "status": "completed"
    },
    "tags": []
   },
   "source": [
    "Probability contours"
   ]
  },
  {
   "cell_type": "code",
   "execution_count": 27,
   "id": "d0afc8e3",
   "metadata": {
    "execution": {
     "iopub.execute_input": "2021-09-28T00:24:55.320580Z",
     "iopub.status.busy": "2021-09-28T00:24:55.319867Z",
     "iopub.status.idle": "2021-09-28T00:24:55.329471Z",
     "shell.execute_reply": "2021-09-28T00:24:55.330140Z"
    },
    "papermill": {
     "duration": 0.08383,
     "end_time": "2021-09-28T00:24:55.330318",
     "exception": false,
     "start_time": "2021-09-28T00:24:55.246488",
     "status": "completed"
    },
    "tags": []
   },
   "outputs": [],
   "source": [
    "model_prob = Model(layers[-2:]) "
   ]
  },
  {
   "cell_type": "code",
   "execution_count": 28,
   "id": "9b96e238",
   "metadata": {
    "execution": {
     "iopub.execute_input": "2021-09-28T00:24:55.496473Z",
     "iopub.status.busy": "2021-09-28T00:24:55.491473Z",
     "iopub.status.idle": "2021-09-28T00:24:55.508630Z",
     "shell.execute_reply": "2021-09-28T00:24:55.509271Z"
    },
    "papermill": {
     "duration": 0.114438,
     "end_time": "2021-09-28T00:24:55.509419",
     "exception": false,
     "start_time": "2021-09-28T00:24:55.394981",
     "status": "completed"
    },
    "tags": []
   },
   "outputs": [],
   "source": [
    "#creating the x and y ranges according to the above generated plot.\n",
    "x_range = np.linspace(-4, 1, 100) \n",
    "y_range = np.linspace(-6, 6, 100) \n",
    "x_grid, y_grid = np.meshgrid(x_range, y_range) # x_grid and y_grig are of size 100 X 100\n",
    "\n",
    "# converting x_grid and y_grid to continuous arrays\n",
    "x_gridflat = np.ravel(x_grid)\n",
    "y_gridflat = np.ravel(y_grid)\n",
    "\n",
    "# The last layer of the current model takes two columns as input. Hence transpose of np.vstack() is required.\n",
    "X = np.vstack((x_gridflat, y_gridflat)).T\n",
    "\n",
    "prob_contour = model_prob(X).reshape(100,100) "
   ]
  },
  {
   "cell_type": "code",
   "execution_count": 29,
   "id": "da72499a",
   "metadata": {
    "execution": {
     "iopub.execute_input": "2021-09-28T00:24:55.636458Z",
     "iopub.status.busy": "2021-09-28T00:24:55.635708Z",
     "iopub.status.idle": "2021-09-28T00:24:55.967673Z",
     "shell.execute_reply": "2021-09-28T00:24:55.967072Z"
    },
    "papermill": {
     "duration": 0.393151,
     "end_time": "2021-09-28T00:24:55.967812",
     "exception": false,
     "start_time": "2021-09-28T00:24:55.574661",
     "status": "completed"
    },
    "tags": []
   },
   "outputs": [
    {
     "data": {
      "image/png": "[encoded data removed]",
      "text/plain": [
       "<Figure size 720x648 with 1 Axes>"
      ]
     },
     "metadata": {
      "needs_background": "light"
     },
     "output_type": "display_data"
    }
   ],
   "source": [
    "plt.figure(figsize=(10,9))\n",
    "plt.scatter(testing_plot[:,0], testing_plot[:,1], alpha = 0.1, c = y_test.ravel())\n",
    "contours = plt.contour(x_grid,y_grid,prob_contour)\n",
    "plt.title('Probability Contours')\n",
    "plt.clabel(contours, inline = True );"
   ]
  },
  {
   "cell_type": "code",
   "execution_count": null,
   "id": "e81b4ac7",
   "metadata": {
    "papermill": {
     "duration": 0.058022,
     "end_time": "2021-09-28T00:24:56.084492",
     "exception": false,
     "start_time": "2021-09-28T00:24:56.026470",
     "status": "completed"
    },
    "tags": []
   },
   "outputs": [],
   "source": []
  }
 ],
 "metadata": {
  "kernelspec": {
   "display_name": "Python 3",
   "language": "python",
   "name": "python3"
  },
  "language_info": {
   "codemirror_mode": {
    "name": "ipython",
    "version": 3
   },
   "file_extension": ".py",
   "mimetype": "text/x-python",
   "name": "python",
   "nbconvert_exporter": "python",
   "pygments_lexer": "ipython3",
   "version": "3.6.15"
  },
  "papermill": {
   "default_parameters": {},
   "duration": 175.393984,
   "end_time": "2021-09-28T00:24:56.549886",
   "environment_variables": {},
   "exception": null,
   "input_path": "2020-08-11-part2.ipynb",
   "output_path": "2020-08-11-part2.ipynb",
   "parameters": {},
   "start_time": "2021-09-28T00:22:01.155902",
   "version": "2.3.3"
  }
 },
 "nbformat": 4,
 "nbformat_minor": 5
}