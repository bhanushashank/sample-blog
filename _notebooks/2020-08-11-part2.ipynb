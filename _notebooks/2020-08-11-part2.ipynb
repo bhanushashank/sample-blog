{
 "cells": [
  {
   "cell_type": "markdown",
   "id": "98380cd3",
   "metadata": {
    "papermill": {
     "duration": 0.028603,
     "end_time": "2022-02-06T10:09:53.019623",
     "exception": false,
     "start_time": "2022-02-06T10:09:52.991020",
     "status": "completed"
    },
    "tags": []
   },
   "source": [
    "# Distinguish Your Own Digits (DYOD)"
   ]
  },
  {
   "cell_type": "markdown",
   "id": "ef31240d",
   "metadata": {
    "papermill": {
     "duration": 0.023714,
     "end_time": "2022-02-06T10:09:53.067667",
     "exception": false,
     "start_time": "2022-02-06T10:09:53.043953",
     "status": "completed"
    },
    "tags": []
   },
   "source": [
    "You are going to write a classifier that distinguishes between the number 3 and number 8."
   ]
  },
  {
   "cell_type": "code",
   "execution_count": 1,
   "id": "b15c8646",
   "metadata": {
    "execution": {
     "iopub.execute_input": "2022-02-06T10:09:53.126611Z",
     "iopub.status.busy": "2022-02-06T10:09:53.126073Z",
     "iopub.status.idle": "2022-02-06T10:09:53.136880Z",
     "shell.execute_reply": "2022-02-06T10:09:53.136454Z"
    },
    "papermill": {
     "duration": 0.045684,
     "end_time": "2022-02-06T10:09:53.137006",
     "exception": false,
     "start_time": "2022-02-06T10:09:53.091322",
     "status": "completed"
    },
    "tags": []
   },
   "outputs": [],
   "source": [
    "%load_ext autoreload\n",
    "%autoreload 2"
   ]
  },
  {
   "cell_type": "code",
   "execution_count": 2,
   "id": "22ef38dc",
   "metadata": {
    "execution": {
     "iopub.execute_input": "2022-02-06T10:09:53.188064Z",
     "iopub.status.busy": "2022-02-06T10:09:53.187548Z",
     "iopub.status.idle": "2022-02-06T10:09:53.762870Z",
     "shell.execute_reply": "2022-02-06T10:09:53.762330Z"
    },
    "papermill": {
     "duration": 0.602302,
     "end_time": "2022-02-06T10:09:53.763011",
     "exception": false,
     "start_time": "2022-02-06T10:09:53.160709",
     "status": "completed"
    },
    "tags": []
   },
   "outputs": [],
   "source": [
    "%matplotlib inline\n",
    "import numpy as np\n",
    "import matplotlib.pyplot as plt\n",
    "import pandas as pd"
   ]
  },
  {
   "cell_type": "markdown",
   "id": "ba036198",
   "metadata": {
    "papermill": {
     "duration": 0.02378,
     "end_time": "2022-02-06T10:09:53.811479",
     "exception": false,
     "start_time": "2022-02-06T10:09:53.787699",
     "status": "completed"
    },
    "tags": []
   },
   "source": [
    "From the command line run `pip install mnist`. This is a library that will help you bring down the mnist dataset. If you run this from a notebook, you need to put  `!pip install mnist` in a cell by itself."
   ]
  },
  {
   "cell_type": "code",
   "execution_count": 3,
   "id": "bb6ad8a1",
   "metadata": {
    "execution": {
     "iopub.execute_input": "2022-02-06T10:09:53.882538Z",
     "iopub.status.busy": "2022-02-06T10:09:53.877203Z",
     "iopub.status.idle": "2022-02-06T10:09:55.535228Z",
     "shell.execute_reply": "2022-02-06T10:09:55.534664Z"
    },
    "papermill": {
     "duration": 1.700039,
     "end_time": "2022-02-06T10:09:55.535378",
     "exception": false,
     "start_time": "2022-02-06T10:09:53.835339",
     "status": "completed"
    },
    "tags": []
   },
   "outputs": [
    {
     "name": "stdout",
     "output_type": "stream",
     "text": [
      "Collecting mnist\r\n"
     ]
    },
    {
     "name": "stdout",
     "output_type": "stream",
     "text": [
      "  Downloading mnist-0.2.2-py2.py3-none-any.whl (3.5 kB)\r\n",
      "Requirement already satisfied: numpy in /opt/hostedtoolcache/Python/3.6.15/x64/lib/python3.6/site-packages (from mnist) (1.19.5)\r\n"
     ]
    },
    {
     "name": "stdout",
     "output_type": "stream",
     "text": [
      "Installing collected packages: mnist\r\n",
      "Successfully installed mnist-0.2.2\r\n"
     ]
    }
   ],
   "source": [
    "!pip install mnist"
   ]
  },
  {
   "cell_type": "markdown",
   "id": "69df9c9a",
   "metadata": {
    "papermill": {
     "duration": 0.024957,
     "end_time": "2022-02-06T10:09:55.586190",
     "exception": false,
     "start_time": "2022-02-06T10:09:55.561233",
     "status": "completed"
    },
    "tags": []
   },
   "source": [
    "## Preparing the Data"
   ]
  },
  {
   "cell_type": "code",
   "execution_count": 4,
   "id": "7f69d806",
   "metadata": {
    "execution": {
     "iopub.execute_input": "2022-02-06T10:09:55.654079Z",
     "iopub.status.busy": "2022-02-06T10:09:55.651025Z",
     "iopub.status.idle": "2022-02-06T10:09:55.657523Z",
     "shell.execute_reply": "2022-02-06T10:09:55.657068Z"
    },
    "papermill": {
     "duration": 0.047043,
     "end_time": "2022-02-06T10:09:55.657632",
     "exception": false,
     "start_time": "2022-02-06T10:09:55.610589",
     "status": "completed"
    },
    "tags": []
   },
   "outputs": [],
   "source": [
    "import mnist"
   ]
  },
  {
   "cell_type": "code",
   "execution_count": 5,
   "id": "a411e44f",
   "metadata": {
    "execution": {
     "iopub.execute_input": "2022-02-06T10:09:55.715106Z",
     "iopub.status.busy": "2022-02-06T10:09:55.714601Z",
     "iopub.status.idle": "2022-02-06T10:09:56.227208Z",
     "shell.execute_reply": "2022-02-06T10:09:56.227691Z"
    },
    "papermill": {
     "duration": 0.545582,
     "end_time": "2022-02-06T10:09:56.227863",
     "exception": false,
     "start_time": "2022-02-06T10:09:55.682281",
     "status": "completed"
    },
    "tags": []
   },
   "outputs": [],
   "source": [
    "train_images = mnist.train_images()\n",
    "train_labels = mnist.train_labels()"
   ]
  },
  {
   "cell_type": "code",
   "execution_count": 6,
   "id": "dceab3a5",
   "metadata": {
    "execution": {
     "iopub.execute_input": "2022-02-06T10:09:56.280620Z",
     "iopub.status.busy": "2022-02-06T10:09:56.280112Z",
     "iopub.status.idle": "2022-02-06T10:09:56.294387Z",
     "shell.execute_reply": "2022-02-06T10:09:56.293947Z"
    },
    "papermill": {
     "duration": 0.041634,
     "end_time": "2022-02-06T10:09:56.294496",
     "exception": false,
     "start_time": "2022-02-06T10:09:56.252862",
     "status": "completed"
    },
    "tags": []
   },
   "outputs": [
    {
     "data": {
      "text/plain": [
       "((60000, 28, 28), (60000,))"
      ]
     },
     "execution_count": 6,
     "metadata": {},
     "output_type": "execute_result"
    }
   ],
   "source": [
    "train_images.shape, train_labels.shape"
   ]
  },
  {
   "cell_type": "code",
   "execution_count": 7,
   "id": "f50dc2bb",
   "metadata": {
    "execution": {
     "iopub.execute_input": "2022-02-06T10:09:56.349580Z",
     "iopub.status.busy": "2022-02-06T10:09:56.349049Z",
     "iopub.status.idle": "2022-02-06T10:09:56.492549Z",
     "shell.execute_reply": "2022-02-06T10:09:56.492981Z"
    },
    "papermill": {
     "duration": 0.173934,
     "end_time": "2022-02-06T10:09:56.493133",
     "exception": false,
     "start_time": "2022-02-06T10:09:56.319199",
     "status": "completed"
    },
    "tags": []
   },
   "outputs": [],
   "source": [
    "test_images = mnist.test_images()\n",
    "test_labels = mnist.test_labels()"
   ]
  },
  {
   "cell_type": "code",
   "execution_count": 8,
   "id": "fc38cf1b",
   "metadata": {
    "execution": {
     "iopub.execute_input": "2022-02-06T10:09:56.546376Z",
     "iopub.status.busy": "2022-02-06T10:09:56.545858Z",
     "iopub.status.idle": "2022-02-06T10:09:56.559683Z",
     "shell.execute_reply": "2022-02-06T10:09:56.559272Z"
    },
    "papermill": {
     "duration": 0.041542,
     "end_time": "2022-02-06T10:09:56.559793",
     "exception": false,
     "start_time": "2022-02-06T10:09:56.518251",
     "status": "completed"
    },
    "tags": []
   },
   "outputs": [
    {
     "data": {
      "text/plain": [
       "((10000, 28, 28), (10000,))"
      ]
     },
     "execution_count": 8,
     "metadata": {},
     "output_type": "execute_result"
    }
   ],
   "source": [
    "test_images.shape, test_labels.shape"
   ]
  },
  {
   "cell_type": "code",
   "execution_count": 9,
   "id": "f9ed8fe0",
   "metadata": {
    "execution": {
     "iopub.execute_input": "2022-02-06T10:09:56.621274Z",
     "iopub.status.busy": "2022-02-06T10:09:56.620766Z",
     "iopub.status.idle": "2022-02-06T10:09:56.751975Z",
     "shell.execute_reply": "2022-02-06T10:09:56.752380Z"
    },
    "papermill": {
     "duration": 0.167872,
     "end_time": "2022-02-06T10:09:56.752530",
     "exception": false,
     "start_time": "2022-02-06T10:09:56.584658",
     "status": "completed"
    },
    "tags": []
   },
   "outputs": [
    {
     "name": "stdout",
     "output_type": "stream",
     "text": [
      "2\n"
     ]
    },
    {
     "data": {
      "text/plain": [
       "<matplotlib.image.AxesImage at 0x7f5a3a5e2cc0>"
      ]
     },
     "execution_count": 9,
     "metadata": {},
     "output_type": "execute_result"
    },
    {
     "data": {
      "image/png": "[encoded data removed]",
      "text/plain": [
       "<Figure size 432x288 with 1 Axes>"
      ]
     },
     "metadata": {
      "needs_background": "light"
     },
     "output_type": "display_data"
    }
   ],
   "source": [
    "image_index = 7776 # You may select anything up to 60,000\n",
    "print(train_labels[image_index]) \n",
    "plt.imshow(train_images[image_index], cmap='Greys')"
   ]
  },
  {
   "cell_type": "markdown",
   "id": "a8d2388d",
   "metadata": {
    "papermill": {
     "duration": 0.026046,
     "end_time": "2022-02-06T10:09:56.804993",
     "exception": false,
     "start_time": "2022-02-06T10:09:56.778947",
     "status": "completed"
    },
    "tags": []
   },
   "source": [
    "## Filter data to get 3 and 8 out"
   ]
  },
  {
   "cell_type": "code",
   "execution_count": 10,
   "id": "776f7fc7",
   "metadata": {
    "execution": {
     "iopub.execute_input": "2022-02-06T10:09:56.871134Z",
     "iopub.status.busy": "2022-02-06T10:09:56.870608Z",
     "iopub.status.idle": "2022-02-06T10:09:56.883654Z",
     "shell.execute_reply": "2022-02-06T10:09:56.883240Z"
    },
    "papermill": {
     "duration": 0.052704,
     "end_time": "2022-02-06T10:09:56.883767",
     "exception": false,
     "start_time": "2022-02-06T10:09:56.831063",
     "status": "completed"
    },
    "tags": []
   },
   "outputs": [],
   "source": [
    "train_filter = np.where((train_labels == 3 ) | (train_labels == 8))\n",
    "test_filter = np.where((test_labels == 3) | (test_labels == 8))\n",
    "X_train, y_train = train_images[train_filter], train_labels[train_filter]\n",
    "X_test, y_test = test_images[test_filter], test_labels[test_filter]"
   ]
  },
  {
   "cell_type": "markdown",
   "id": "948f0b7e",
   "metadata": {
    "papermill": {
     "duration": 0.025872,
     "end_time": "2022-02-06T10:09:56.935725",
     "exception": false,
     "start_time": "2022-02-06T10:09:56.909853",
     "status": "completed"
    },
    "tags": []
   },
   "source": [
    "We normalize the pizel values in the 0 to 1 range"
   ]
  },
  {
   "cell_type": "code",
   "execution_count": 11,
   "id": "ee4c2166",
   "metadata": {
    "execution": {
     "iopub.execute_input": "2022-02-06T10:09:57.002142Z",
     "iopub.status.busy": "2022-02-06T10:09:56.998165Z",
     "iopub.status.idle": "2022-02-06T10:09:57.042541Z",
     "shell.execute_reply": "2022-02-06T10:09:57.041998Z"
    },
    "papermill": {
     "duration": 0.081092,
     "end_time": "2022-02-06T10:09:57.042678",
     "exception": false,
     "start_time": "2022-02-06T10:09:56.961586",
     "status": "completed"
    },
    "tags": []
   },
   "outputs": [],
   "source": [
    "X_train = X_train/255.\n",
    "X_test = X_test/255."
   ]
  },
  {
   "cell_type": "markdown",
   "id": "ddcf4fab",
   "metadata": {
    "papermill": {
     "duration": 0.02613,
     "end_time": "2022-02-06T10:09:57.096086",
     "exception": false,
     "start_time": "2022-02-06T10:09:57.069956",
     "status": "completed"
    },
    "tags": []
   },
   "source": [
    "And setup the labels as 1 (when the digit is 3) and 0 (when the digit is 8)"
   ]
  },
  {
   "cell_type": "code",
   "execution_count": 12,
   "id": "7dc908f2",
   "metadata": {
    "execution": {
     "iopub.execute_input": "2022-02-06T10:09:57.156974Z",
     "iopub.status.busy": "2022-02-06T10:09:57.156443Z",
     "iopub.status.idle": "2022-02-06T10:09:57.166407Z",
     "shell.execute_reply": "2022-02-06T10:09:57.165973Z"
    },
    "papermill": {
     "duration": 0.044392,
     "end_time": "2022-02-06T10:09:57.166515",
     "exception": false,
     "start_time": "2022-02-06T10:09:57.122123",
     "status": "completed"
    },
    "tags": []
   },
   "outputs": [],
   "source": [
    "y_train = 1*(y_train==3)\n",
    "y_test = 1*(y_test==3)"
   ]
  },
  {
   "cell_type": "code",
   "execution_count": 13,
   "id": "01e4e969",
   "metadata": {
    "execution": {
     "iopub.execute_input": "2022-02-06T10:09:57.231870Z",
     "iopub.status.busy": "2022-02-06T10:09:57.231341Z",
     "iopub.status.idle": "2022-02-06T10:09:57.239760Z",
     "shell.execute_reply": "2022-02-06T10:09:57.239347Z"
    },
    "papermill": {
     "duration": 0.047012,
     "end_time": "2022-02-06T10:09:57.239876",
     "exception": false,
     "start_time": "2022-02-06T10:09:57.192864",
     "status": "completed"
    },
    "tags": []
   },
   "outputs": [
    {
     "data": {
      "text/plain": [
       "((11982, 28, 28), (1984, 28, 28))"
      ]
     },
     "execution_count": 13,
     "metadata": {},
     "output_type": "execute_result"
    }
   ],
   "source": [
    "X_train.shape, X_test.shape"
   ]
  },
  {
   "cell_type": "markdown",
   "id": "5ccf3f85",
   "metadata": {
    "papermill": {
     "duration": 0.026194,
     "end_time": "2022-02-06T10:09:57.292413",
     "exception": false,
     "start_time": "2022-02-06T10:09:57.266219",
     "status": "completed"
    },
    "tags": []
   },
   "source": [
    "We reshape the data to flatten the image pixels into a set of features or co-variates:"
   ]
  },
  {
   "cell_type": "code",
   "execution_count": 14,
   "id": "5286a4a3",
   "metadata": {
    "execution": {
     "iopub.execute_input": "2022-02-06T10:09:57.348732Z",
     "iopub.status.busy": "2022-02-06T10:09:57.348222Z",
     "iopub.status.idle": "2022-02-06T10:09:57.362360Z",
     "shell.execute_reply": "2022-02-06T10:09:57.361953Z"
    },
    "papermill": {
     "duration": 0.043718,
     "end_time": "2022-02-06T10:09:57.362467",
     "exception": false,
     "start_time": "2022-02-06T10:09:57.318749",
     "status": "completed"
    },
    "tags": []
   },
   "outputs": [
    {
     "data": {
      "text/plain": [
       "((11982, 784), (1984, 784))"
      ]
     },
     "execution_count": 14,
     "metadata": {},
     "output_type": "execute_result"
    }
   ],
   "source": [
    "X_train = X_train.reshape(X_train.shape[0], -1)\n",
    "X_test = X_test.reshape(X_test.shape[0], -1)\n",
    "X_train.shape, X_test.shape"
   ]
  },
  {
   "cell_type": "code",
   "execution_count": 15,
   "id": "73c5f88a",
   "metadata": {
    "execution": {
     "iopub.execute_input": "2022-02-06T10:09:57.430127Z",
     "iopub.status.busy": "2022-02-06T10:09:57.425482Z",
     "iopub.status.idle": "2022-02-06T10:09:57.439504Z",
     "shell.execute_reply": "2022-02-06T10:09:57.439883Z"
    },
    "papermill": {
     "duration": 0.050865,
     "end_time": "2022-02-06T10:09:57.440002",
     "exception": false,
     "start_time": "2022-02-06T10:09:57.389137",
     "status": "completed"
    },
    "tags": []
   },
   "outputs": [],
   "source": [
    "#Impoting functions from 'Kudzu'\n",
    "from kudzu.model import Model\n",
    "from kudzu.train import Learner\n",
    "from kudzu.optim import GD\n",
    "from kudzu.data import Data, Sampler,Dataloader\n",
    "\n",
    "from kudzu.callbacks import AccCallback\n",
    "from kudzu.callbacks import ClfCallback\n",
    "\n",
    "from kudzu.loss import MSE\n",
    "\n",
    "from kudzu.layer import Sigmoid,Relu\n",
    "from kudzu.layer import Affine"
   ]
  },
  {
   "cell_type": "markdown",
   "id": "bc01172a",
   "metadata": {
    "papermill": {
     "duration": 0.026675,
     "end_time": "2022-02-06T10:09:57.493437",
     "exception": false,
     "start_time": "2022-02-06T10:09:57.466762",
     "status": "completed"
    },
    "tags": []
   },
   "source": [
    "### Let us create a `Config` class, to store important parameters. \n",
    "This class essentially plays the role of a dictionary."
   ]
  },
  {
   "cell_type": "code",
   "execution_count": 16,
   "id": "978281aa",
   "metadata": {
    "execution": {
     "iopub.execute_input": "2022-02-06T10:09:57.560833Z",
     "iopub.status.busy": "2022-02-06T10:09:57.558019Z",
     "iopub.status.idle": "2022-02-06T10:09:57.563095Z",
     "shell.execute_reply": "2022-02-06T10:09:57.562666Z"
    },
    "papermill": {
     "duration": 0.043274,
     "end_time": "2022-02-06T10:09:57.563196",
     "exception": false,
     "start_time": "2022-02-06T10:09:57.519922",
     "status": "completed"
    },
    "tags": []
   },
   "outputs": [],
   "source": [
    "class Config:\n",
    "    pass\n",
    "config = Config()\n",
    "config.lr = 0.001\n",
    "config.num_epochs = 250\n",
    "config.bs = 50"
   ]
  },
  {
   "cell_type": "markdown",
   "id": "1385fa59",
   "metadata": {
    "papermill": {
     "duration": 0.026684,
     "end_time": "2022-02-06T10:09:57.616581",
     "exception": false,
     "start_time": "2022-02-06T10:09:57.589897",
     "status": "completed"
    },
    "tags": []
   },
   "source": [
    "### Running Models with the Training data\n",
    "Details about the network layers:\n",
    "- A first affine layer has 784 inputs and does 100 affine transforms. These are followed by a Relu\n",
    "- A second affine layer has 100 inputs from the 100 activations of the past layer, and does 100 affine transforms. These are followed by a Relu\n",
    "- A third affine layer has 100 activations and does 2 affine transformations to create an embedding for visualization. There is no non-linearity here.\n",
    "- A final \"logistic regression\" which has an affine transform from 2 inputs to 1 output, which is squeezed through a sigmoid.\n"
   ]
  },
  {
   "cell_type": "code",
   "execution_count": 17,
   "id": "2b9c66db",
   "metadata": {
    "execution": {
     "iopub.execute_input": "2022-02-06T10:09:57.676125Z",
     "iopub.status.busy": "2022-02-06T10:09:57.675623Z",
     "iopub.status.idle": "2022-02-06T10:09:57.686353Z",
     "shell.execute_reply": "2022-02-06T10:09:57.685925Z"
    },
    "papermill": {
     "duration": 0.043185,
     "end_time": "2022-02-06T10:09:57.686453",
     "exception": false,
     "start_time": "2022-02-06T10:09:57.643268",
     "status": "completed"
    },
    "tags": []
   },
   "outputs": [],
   "source": [
    "data = Data(X_train, y_train.reshape(-1,1))\n",
    "sampler = Sampler(data, config.bs, shuffle=True)\n",
    "\n",
    "dl = Dataloader(data, sampler)\n",
    "\n",
    "opt = GD(config.lr)\n",
    "loss = MSE()"
   ]
  },
  {
   "cell_type": "code",
   "execution_count": 18,
   "id": "b275e4c2",
   "metadata": {
    "execution": {
     "iopub.execute_input": "2022-02-06T10:09:57.744996Z",
     "iopub.status.busy": "2022-02-06T10:09:57.744484Z",
     "iopub.status.idle": "2022-02-06T10:09:57.755689Z",
     "shell.execute_reply": "2022-02-06T10:09:57.755276Z"
    },
    "papermill": {
     "duration": 0.04266,
     "end_time": "2022-02-06T10:09:57.755797",
     "exception": false,
     "start_time": "2022-02-06T10:09:57.713137",
     "status": "completed"
    },
    "tags": []
   },
   "outputs": [],
   "source": [
    "training_data_x = X_train\n",
    "testing_data_x = X_test\n",
    "training_data_y = y_train.reshape(-1,1)\n",
    "testing_data_y = y_test.reshape(-1,1)"
   ]
  },
  {
   "cell_type": "code",
   "execution_count": 19,
   "id": "76951160",
   "metadata": {
    "execution": {
     "iopub.execute_input": "2022-02-06T10:09:57.812978Z",
     "iopub.status.busy": "2022-02-06T10:09:57.812465Z",
     "iopub.status.idle": "2022-02-06T10:09:57.828713Z",
     "shell.execute_reply": "2022-02-06T10:09:57.828283Z"
    },
    "papermill": {
     "duration": 0.046388,
     "end_time": "2022-02-06T10:09:57.828818",
     "exception": false,
     "start_time": "2022-02-06T10:09:57.782430",
     "status": "completed"
    },
    "tags": []
   },
   "outputs": [
    {
     "name": "stdout",
     "output_type": "stream",
     "text": [
      "xavier\n",
      "xavier\n",
      "xavier\n",
      "xavier\n",
      "xavier\n"
     ]
    }
   ],
   "source": [
    "layers = [Affine(\"first\", 784, 100), Relu(\"first\"), Affine(\"second\", 100, 100), Relu(\"second\"), Affine(\"third\", 100, 2), Affine(\"last\", 2, 1), Sigmoid(\"last\")]\n",
    "model_nn = Model(layers)\n",
    "model_lr = Model([Affine(\"logits\", 784, 1), Sigmoid(\"sigmoid\")])"
   ]
  },
  {
   "cell_type": "code",
   "execution_count": 20,
   "id": "6eede77a",
   "metadata": {
    "execution": {
     "iopub.execute_input": "2022-02-06T10:09:57.886186Z",
     "iopub.status.busy": "2022-02-06T10:09:57.885672Z",
     "iopub.status.idle": "2022-02-06T10:09:57.897802Z",
     "shell.execute_reply": "2022-02-06T10:09:57.897390Z"
    },
    "papermill": {
     "duration": 0.042009,
     "end_time": "2022-02-06T10:09:57.897907",
     "exception": false,
     "start_time": "2022-02-06T10:09:57.855898",
     "status": "completed"
    },
    "tags": []
   },
   "outputs": [],
   "source": [
    "nn_learner = Learner(loss, model_nn, opt, config.num_epochs)\n",
    "acc_nn = ClfCallback(nn_learner, config.bs, training_data_x , testing_data_x, training_data_y, testing_data_y)\n",
    "nn_learner.set_callbacks([acc_nn])"
   ]
  },
  {
   "cell_type": "code",
   "execution_count": 21,
   "id": "877b6cc7",
   "metadata": {
    "execution": {
     "iopub.execute_input": "2022-02-06T10:09:57.963792Z",
     "iopub.status.busy": "2022-02-06T10:09:57.963292Z",
     "iopub.status.idle": "2022-02-06T10:09:57.969599Z",
     "shell.execute_reply": "2022-02-06T10:09:57.969169Z"
    },
    "papermill": {
     "duration": 0.044897,
     "end_time": "2022-02-06T10:09:57.969709",
     "exception": false,
     "start_time": "2022-02-06T10:09:57.924812",
     "status": "completed"
    },
    "tags": []
   },
   "outputs": [],
   "source": [
    "lr_learner = Learner(loss, model_lr, opt, config.num_epochs)\n",
    "acc_lr = ClfCallback(lr_learner, config.bs, training_data_x , testing_data_x, training_data_y, testing_data_y)\n",
    "lr_learner.set_callbacks([acc_lr])"
   ]
  },
  {
   "cell_type": "code",
   "execution_count": 22,
   "id": "d9b133c3",
   "metadata": {
    "execution": {
     "iopub.execute_input": "2022-02-06T10:09:58.040652Z",
     "iopub.status.busy": "2022-02-06T10:09:58.038056Z",
     "iopub.status.idle": "2022-02-06T10:11:12.366118Z",
     "shell.execute_reply": "2022-02-06T10:11:12.366919Z"
    },
    "papermill": {
     "duration": 74.37034,
     "end_time": "2022-02-06T10:11:12.367081",
     "exception": false,
     "start_time": "2022-02-06T10:09:57.996741",
     "status": "completed"
    },
    "tags": []
   },
   "outputs": [
    {
     "name": "stdout",
     "output_type": "stream",
     "text": [
      "Epoch 0, Loss 0.2478\n",
      "Training Accuracy: 0.5362, Testing Accuracy: 0.5247\n",
      "\n"
     ]
    },
    {
     "name": "stdout",
     "output_type": "stream",
     "text": [
      "Epoch 10, Loss 0.209\n",
      "Training Accuracy: 0.8684, Testing Accuracy: 0.8780\n",
      "\n"
     ]
    },
    {
     "name": "stdout",
     "output_type": "stream",
     "text": [
      "Epoch 20, Loss 0.118\n",
      "Training Accuracy: 0.9090, Testing Accuracy: 0.9209\n",
      "\n"
     ]
    },
    {
     "name": "stdout",
     "output_type": "stream",
     "text": [
      "Epoch 30, Loss 0.0691\n",
      "Training Accuracy: 0.9299, Testing Accuracy: 0.9410\n",
      "\n"
     ]
    },
    {
     "name": "stdout",
     "output_type": "stream",
     "text": [
      "Epoch 40, Loss 0.0525\n",
      "Training Accuracy: 0.9413, Testing Accuracy: 0.9521\n",
      "\n"
     ]
    },
    {
     "name": "stdout",
     "output_type": "stream",
     "text": [
      "Epoch 50, Loss 0.0444\n",
      "Training Accuracy: 0.9506, Testing Accuracy: 0.9597\n",
      "\n"
     ]
    },
    {
     "name": "stdout",
     "output_type": "stream",
     "text": [
      "Epoch 60, Loss 0.0395\n",
      "Training Accuracy: 0.9546, Testing Accuracy: 0.9647\n",
      "\n"
     ]
    },
    {
     "name": "stdout",
     "output_type": "stream",
     "text": [
      "Epoch 70, Loss 0.0363\n",
      "Training Accuracy: 0.9571, Testing Accuracy: 0.9662\n",
      "\n"
     ]
    },
    {
     "name": "stdout",
     "output_type": "stream",
     "text": [
      "Epoch 80, Loss 0.0339\n",
      "Training Accuracy: 0.9600, Testing Accuracy: 0.9667\n",
      "\n"
     ]
    },
    {
     "name": "stdout",
     "output_type": "stream",
     "text": [
      "Epoch 90, Loss 0.0321\n",
      "Training Accuracy: 0.9623, Testing Accuracy: 0.9677\n",
      "\n"
     ]
    },
    {
     "name": "stdout",
     "output_type": "stream",
     "text": [
      "Epoch 100, Loss 0.0307\n",
      "Training Accuracy: 0.9637, Testing Accuracy: 0.9677\n",
      "\n"
     ]
    },
    {
     "name": "stdout",
     "output_type": "stream",
     "text": [
      "Epoch 110, Loss 0.0295\n",
      "Training Accuracy: 0.9648, Testing Accuracy: 0.9693\n",
      "\n"
     ]
    },
    {
     "name": "stdout",
     "output_type": "stream",
     "text": [
      "Epoch 120, Loss 0.0285\n",
      "Training Accuracy: 0.9658, Testing Accuracy: 0.9693\n",
      "\n"
     ]
    },
    {
     "name": "stdout",
     "output_type": "stream",
     "text": [
      "Epoch 130, Loss 0.0276\n",
      "Training Accuracy: 0.9669, Testing Accuracy: 0.9677\n",
      "\n"
     ]
    },
    {
     "name": "stdout",
     "output_type": "stream",
     "text": [
      "Epoch 140, Loss 0.0268\n",
      "Training Accuracy: 0.9679, Testing Accuracy: 0.9677\n",
      "\n"
     ]
    },
    {
     "name": "stdout",
     "output_type": "stream",
     "text": [
      "Epoch 150, Loss 0.0261\n",
      "Training Accuracy: 0.9687, Testing Accuracy: 0.9677\n",
      "\n"
     ]
    },
    {
     "name": "stdout",
     "output_type": "stream",
     "text": [
      "Epoch 160, Loss 0.0255\n",
      "Training Accuracy: 0.9696, Testing Accuracy: 0.9667\n",
      "\n"
     ]
    },
    {
     "name": "stdout",
     "output_type": "stream",
     "text": [
      "Epoch 170, Loss 0.0249\n",
      "Training Accuracy: 0.9705, Testing Accuracy: 0.9667\n",
      "\n"
     ]
    },
    {
     "name": "stdout",
     "output_type": "stream",
     "text": [
      "Epoch 180, Loss 0.0243\n",
      "Training Accuracy: 0.9712, Testing Accuracy: 0.9672\n",
      "\n"
     ]
    },
    {
     "name": "stdout",
     "output_type": "stream",
     "text": [
      "Epoch 190, Loss 0.0238\n",
      "Training Accuracy: 0.9720, Testing Accuracy: 0.9677\n",
      "\n"
     ]
    },
    {
     "name": "stdout",
     "output_type": "stream",
     "text": [
      "Epoch 200, Loss 0.0233\n",
      "Training Accuracy: 0.9727, Testing Accuracy: 0.9672\n",
      "\n"
     ]
    },
    {
     "name": "stdout",
     "output_type": "stream",
     "text": [
      "Epoch 210, Loss 0.0229\n",
      "Training Accuracy: 0.9732, Testing Accuracy: 0.9682\n",
      "\n"
     ]
    },
    {
     "name": "stdout",
     "output_type": "stream",
     "text": [
      "Epoch 220, Loss 0.0225\n",
      "Training Accuracy: 0.9742, Testing Accuracy: 0.9698\n",
      "\n"
     ]
    },
    {
     "name": "stdout",
     "output_type": "stream",
     "text": [
      "Epoch 230, Loss 0.0221\n",
      "Training Accuracy: 0.9746, Testing Accuracy: 0.9703\n",
      "\n"
     ]
    },
    {
     "name": "stdout",
     "output_type": "stream",
     "text": [
      "Epoch 240, Loss 0.0216\n",
      "Training Accuracy: 0.9750, Testing Accuracy: 0.9708\n",
      "\n"
     ]
    },
    {
     "data": {
      "text/plain": [
       "0.011316533448328111"
      ]
     },
     "execution_count": 22,
     "metadata": {},
     "output_type": "execute_result"
    }
   ],
   "source": [
    "nn_learner.train_loop(dl)"
   ]
  },
  {
   "cell_type": "code",
   "execution_count": 23,
   "id": "e0163366",
   "metadata": {
    "execution": {
     "iopub.execute_input": "2022-02-06T10:11:12.446693Z",
     "iopub.status.busy": "2022-02-06T10:11:12.446176Z",
     "iopub.status.idle": "2022-02-06T10:11:26.092024Z",
     "shell.execute_reply": "2022-02-06T10:11:26.092766Z"
    },
    "papermill": {
     "duration": 13.690919,
     "end_time": "2022-02-06T10:11:26.092925",
     "exception": false,
     "start_time": "2022-02-06T10:11:12.402006",
     "status": "completed"
    },
    "tags": []
   },
   "outputs": [
    {
     "name": "stdout",
     "output_type": "stream",
     "text": [
      "Epoch 0, Loss 0.2525\n",
      "Training Accuracy: 0.6484, Testing Accuracy: 0.6527\n",
      "\n"
     ]
    },
    {
     "name": "stdout",
     "output_type": "stream",
     "text": [
      "Epoch 10, Loss 0.1058\n",
      "Training Accuracy: 0.9020, Testing Accuracy: 0.9133\n",
      "\n"
     ]
    },
    {
     "name": "stdout",
     "output_type": "stream",
     "text": [
      "Epoch 20, Loss 0.0806\n",
      "Training Accuracy: 0.9250, Testing Accuracy: 0.9350\n",
      "\n"
     ]
    },
    {
     "name": "stdout",
     "output_type": "stream",
     "text": [
      "Epoch 30, Loss 0.0692\n",
      "Training Accuracy: 0.9337, Testing Accuracy: 0.9451\n",
      "\n"
     ]
    },
    {
     "name": "stdout",
     "output_type": "stream",
     "text": [
      "Epoch 40, Loss 0.0624\n",
      "Training Accuracy: 0.9400, Testing Accuracy: 0.9496\n",
      "\n"
     ]
    },
    {
     "name": "stdout",
     "output_type": "stream",
     "text": [
      "Epoch 50, Loss 0.0578\n",
      "Training Accuracy: 0.9434, Testing Accuracy: 0.9546\n",
      "\n"
     ]
    },
    {
     "name": "stdout",
     "output_type": "stream",
     "text": [
      "Epoch 60, Loss 0.0545\n",
      "Training Accuracy: 0.9463, Testing Accuracy: 0.9572\n",
      "\n"
     ]
    },
    {
     "name": "stdout",
     "output_type": "stream",
     "text": [
      "Epoch 70, Loss 0.0519\n",
      "Training Accuracy: 0.9480, Testing Accuracy: 0.9597\n",
      "\n"
     ]
    },
    {
     "name": "stdout",
     "output_type": "stream",
     "text": [
      "Epoch 80, Loss 0.0498\n",
      "Training Accuracy: 0.9495, Testing Accuracy: 0.9602\n",
      "\n"
     ]
    },
    {
     "name": "stdout",
     "output_type": "stream",
     "text": [
      "Epoch 90, Loss 0.0481\n",
      "Training Accuracy: 0.9504, Testing Accuracy: 0.9612\n",
      "\n"
     ]
    },
    {
     "name": "stdout",
     "output_type": "stream",
     "text": [
      "Epoch 100, Loss 0.0466\n",
      "Training Accuracy: 0.9513, Testing Accuracy: 0.9617\n",
      "\n"
     ]
    },
    {
     "name": "stdout",
     "output_type": "stream",
     "text": [
      "Epoch 110, Loss 0.0454\n",
      "Training Accuracy: 0.9525, Testing Accuracy: 0.9642\n",
      "\n"
     ]
    },
    {
     "name": "stdout",
     "output_type": "stream",
     "text": [
      "Epoch 120, Loss 0.0443\n",
      "Training Accuracy: 0.9541, Testing Accuracy: 0.9642\n",
      "\n"
     ]
    },
    {
     "name": "stdout",
     "output_type": "stream",
     "text": [
      "Epoch 130, Loss 0.0433\n",
      "Training Accuracy: 0.9548, Testing Accuracy: 0.9642\n",
      "\n"
     ]
    },
    {
     "name": "stdout",
     "output_type": "stream",
     "text": [
      "Epoch 140, Loss 0.0425\n",
      "Training Accuracy: 0.9553, Testing Accuracy: 0.9647\n",
      "\n"
     ]
    },
    {
     "name": "stdout",
     "output_type": "stream",
     "text": [
      "Epoch 150, Loss 0.0417\n",
      "Training Accuracy: 0.9560, Testing Accuracy: 0.9652\n",
      "\n"
     ]
    },
    {
     "name": "stdout",
     "output_type": "stream",
     "text": [
      "Epoch 160, Loss 0.041\n",
      "Training Accuracy: 0.9566, Testing Accuracy: 0.9662\n",
      "\n"
     ]
    },
    {
     "name": "stdout",
     "output_type": "stream",
     "text": [
      "Epoch 170, Loss 0.0404\n",
      "Training Accuracy: 0.9570, Testing Accuracy: 0.9672\n",
      "\n"
     ]
    },
    {
     "name": "stdout",
     "output_type": "stream",
     "text": [
      "Epoch 180, Loss 0.0398\n",
      "Training Accuracy: 0.9573, Testing Accuracy: 0.9672\n",
      "\n"
     ]
    },
    {
     "name": "stdout",
     "output_type": "stream",
     "text": [
      "Epoch 190, Loss 0.0393\n",
      "Training Accuracy: 0.9573, Testing Accuracy: 0.9672\n",
      "\n"
     ]
    },
    {
     "name": "stdout",
     "output_type": "stream",
     "text": [
      "Epoch 200, Loss 0.0388\n",
      "Training Accuracy: 0.9578, Testing Accuracy: 0.9672\n",
      "\n"
     ]
    },
    {
     "name": "stdout",
     "output_type": "stream",
     "text": [
      "Epoch 210, Loss 0.0384\n",
      "Training Accuracy: 0.9579, Testing Accuracy: 0.9677\n",
      "\n"
     ]
    },
    {
     "name": "stdout",
     "output_type": "stream",
     "text": [
      "Epoch 220, Loss 0.038\n",
      "Training Accuracy: 0.9581, Testing Accuracy: 0.9677\n",
      "\n"
     ]
    },
    {
     "name": "stdout",
     "output_type": "stream",
     "text": [
      "Epoch 230, Loss 0.0376\n",
      "Training Accuracy: 0.9586, Testing Accuracy: 0.9677\n",
      "\n"
     ]
    },
    {
     "name": "stdout",
     "output_type": "stream",
     "text": [
      "Epoch 240, Loss 0.0372\n",
      "Training Accuracy: 0.9590, Testing Accuracy: 0.9688\n",
      "\n"
     ]
    },
    {
     "data": {
      "text/plain": [
       "0.04461731683939503"
      ]
     },
     "execution_count": 23,
     "metadata": {},
     "output_type": "execute_result"
    }
   ],
   "source": [
    "lr_learner.train_loop(dl)"
   ]
  },
  {
   "cell_type": "code",
   "execution_count": 24,
   "id": "ca410940",
   "metadata": {
    "execution": {
     "iopub.execute_input": "2022-02-06T10:11:26.186692Z",
     "iopub.status.busy": "2022-02-06T10:11:26.186173Z",
     "iopub.status.idle": "2022-02-06T10:11:26.397911Z",
     "shell.execute_reply": "2022-02-06T10:11:26.398621Z"
    },
    "papermill": {
     "duration": 0.264747,
     "end_time": "2022-02-06T10:11:26.398782",
     "exception": false,
     "start_time": "2022-02-06T10:11:26.134035",
     "status": "completed"
    },
    "tags": []
   },
   "outputs": [
    {
     "data": {
      "text/plain": [
       "<matplotlib.legend.Legend at 0x7f5a3a150438>"
      ]
     },
     "execution_count": 24,
     "metadata": {},
     "output_type": "execute_result"
    },
    {
     "data": {
      "image/png": "[encoded data removed]",
      "text/plain": [
       "<Figure size 1080x720 with 1 Axes>"
      ]
     },
     "metadata": {
      "needs_background": "light"
     },
     "output_type": "display_data"
    }
   ],
   "source": [
    "#comparing the results of NN and LR\n",
    "plt.figure(figsize=(15,10))\n",
    "\n",
    "# Neural Network plots\n",
    "plt.plot(acc_nn.accuracies, 'r-', label = \"Training Accuracies - NN\")\n",
    "plt.plot(acc_nn.test_accuracies, 'g-', label = \"Testing Accuracies - NN\")\n",
    "\n",
    "# Logistic Regression plots\n",
    "plt.plot(acc_lr.accuracies, 'k-', label = \"Training Accuracies - LR\")\n",
    "plt.plot(acc_lr.test_accuracies, 'b-', label = \"Testing Accuracies - LR\")\n",
    "plt.legend()"
   ]
  },
  {
   "cell_type": "markdown",
   "id": "80dfb35c",
   "metadata": {
    "papermill": {
     "duration": 0.041494,
     "end_time": "2022-02-06T10:11:26.482280",
     "exception": false,
     "start_time": "2022-02-06T10:11:26.440786",
     "status": "completed"
    },
    "tags": []
   },
   "source": [
    "#### Plotting the outputs of this layer of the NN.\n"
   ]
  },
  {
   "cell_type": "code",
   "execution_count": 25,
   "id": "45eb2ff5",
   "metadata": {
    "execution": {
     "iopub.execute_input": "2022-02-06T10:11:26.568671Z",
     "iopub.status.busy": "2022-02-06T10:11:26.568079Z",
     "iopub.status.idle": "2022-02-06T10:11:26.587467Z",
     "shell.execute_reply": "2022-02-06T10:11:26.587890Z"
    },
    "papermill": {
     "duration": 0.064283,
     "end_time": "2022-02-06T10:11:26.588020",
     "exception": false,
     "start_time": "2022-02-06T10:11:26.523737",
     "status": "completed"
    },
    "tags": []
   },
   "outputs": [],
   "source": [
    "new_model = Model(layers[:-2])\n",
    "testing_plot = new_model(testing_data_x)"
   ]
  },
  {
   "cell_type": "code",
   "execution_count": 26,
   "id": "4c0a5485",
   "metadata": {
    "execution": {
     "iopub.execute_input": "2022-02-06T10:11:26.675913Z",
     "iopub.status.busy": "2022-02-06T10:11:26.675403Z",
     "iopub.status.idle": "2022-02-06T10:11:26.863298Z",
     "shell.execute_reply": "2022-02-06T10:11:26.862850Z"
    },
    "papermill": {
     "duration": 0.23291,
     "end_time": "2022-02-06T10:11:26.863415",
     "exception": false,
     "start_time": "2022-02-06T10:11:26.630505",
     "status": "completed"
    },
    "tags": []
   },
   "outputs": [
    {
     "data": {
      "text/plain": [
       "Text(0.5, 1.0, 'Outputs')"
      ]
     },
     "execution_count": 26,
     "metadata": {},
     "output_type": "execute_result"
    },
    {
     "data": {
      "image/png": "[encoded data removed]",
      "text/plain": [
       "<Figure size 576x504 with 1 Axes>"
      ]
     },
     "metadata": {
      "needs_background": "light"
     },
     "output_type": "display_data"
    }
   ],
   "source": [
    "# Plotting the scatter plot of points and color coding by class\n",
    "plt.figure(figsize=(8,7))\n",
    "plt.scatter(testing_plot[:,0], testing_plot[:,1], alpha = 0.1, c = y_test.ravel());\n",
    "plt.title('Outputs')"
   ]
  },
  {
   "cell_type": "markdown",
   "id": "a74fcf8f",
   "metadata": {
    "papermill": {
     "duration": 0.043279,
     "end_time": "2022-02-06T10:11:26.950375",
     "exception": false,
     "start_time": "2022-02-06T10:11:26.907096",
     "status": "completed"
    },
    "tags": []
   },
   "source": [
    "Probability contours"
   ]
  },
  {
   "cell_type": "code",
   "execution_count": 27,
   "id": "d0afc8e3",
   "metadata": {
    "execution": {
     "iopub.execute_input": "2022-02-06T10:11:27.051153Z",
     "iopub.status.busy": "2022-02-06T10:11:27.050096Z",
     "iopub.status.idle": "2022-02-06T10:11:27.056089Z",
     "shell.execute_reply": "2022-02-06T10:11:27.055651Z"
    },
    "papermill": {
     "duration": 0.062391,
     "end_time": "2022-02-06T10:11:27.056197",
     "exception": false,
     "start_time": "2022-02-06T10:11:26.993806",
     "status": "completed"
    },
    "tags": []
   },
   "outputs": [],
   "source": [
    "model_prob = Model(layers[-2:]) "
   ]
  },
  {
   "cell_type": "code",
   "execution_count": 28,
   "id": "9b96e238",
   "metadata": {
    "execution": {
     "iopub.execute_input": "2022-02-06T10:11:27.151090Z",
     "iopub.status.busy": "2022-02-06T10:11:27.146759Z",
     "iopub.status.idle": "2022-02-06T10:11:27.160495Z",
     "shell.execute_reply": "2022-02-06T10:11:27.160886Z"
    },
    "papermill": {
     "duration": 0.061468,
     "end_time": "2022-02-06T10:11:27.161021",
     "exception": false,
     "start_time": "2022-02-06T10:11:27.099553",
     "status": "completed"
    },
    "tags": []
   },
   "outputs": [],
   "source": [
    "#creating the x and y ranges according to the above generated plot.\n",
    "x_range = np.linspace(-4, 1, 100) \n",
    "y_range = np.linspace(-6, 6, 100) \n",
    "x_grid, y_grid = np.meshgrid(x_range, y_range) # x_grid and y_grig are of size 100 X 100\n",
    "\n",
    "# converting x_grid and y_grid to continuous arrays\n",
    "x_gridflat = np.ravel(x_grid)\n",
    "y_gridflat = np.ravel(y_grid)\n",
    "\n",
    "# The last layer of the current model takes two columns as input. Hence transpose of np.vstack() is required.\n",
    "X = np.vstack((x_gridflat, y_gridflat)).T\n",
    "\n",
    "prob_contour = model_prob(X).reshape(100,100) "
   ]
  },
  {
   "cell_type": "code",
   "execution_count": 29,
   "id": "da72499a",
   "metadata": {
    "execution": {
     "iopub.execute_input": "2022-02-06T10:11:27.258872Z",
     "iopub.status.busy": "2022-02-06T10:11:27.258364Z",
     "iopub.status.idle": "2022-02-06T10:11:27.505021Z",
     "shell.execute_reply": "2022-02-06T10:11:27.504531Z"
    },
    "papermill": {
     "duration": 0.29845,
     "end_time": "2022-02-06T10:11:27.505158",
     "exception": false,
     "start_time": "2022-02-06T10:11:27.206708",
     "status": "completed"
    },
    "tags": []
   },
   "outputs": [
    {
     "data": {
      "image/png": "[encoded data removed]",
      "text/plain": [
       "<Figure size 720x648 with 1 Axes>"
      ]
     },
     "metadata": {
      "needs_background": "light"
     },
     "output_type": "display_data"
    }
   ],
   "source": [
    "plt.figure(figsize=(10,9))\n",
    "plt.scatter(testing_plot[:,0], testing_plot[:,1], alpha = 0.1, c = y_test.ravel())\n",
    "contours = plt.contour(x_grid,y_grid,prob_contour)\n",
    "plt.title('Probability Contours')\n",
    "plt.clabel(contours, inline = True );"
   ]
  },
  {
   "cell_type": "code",
   "execution_count": null,
   "id": "e81b4ac7",
   "metadata": {
    "papermill": {
     "duration": 0.045776,
     "end_time": "2022-02-06T10:11:27.626220",
     "exception": false,
     "start_time": "2022-02-06T10:11:27.580444",
     "status": "completed"
    },
    "tags": []
   },
   "outputs": [],
   "source": []
  }
 ],
 "metadata": {
  "kernelspec": {
   "display_name": "Python 3",
   "language": "python",
   "name": "python3"
  },
  "language_info": {
   "codemirror_mode": {
    "name": "ipython",
    "version": 3
   },
   "file_extension": ".py",
   "mimetype": "text/x-python",
   "name": "python",
   "nbconvert_exporter": "python",
   "pygments_lexer": "ipython3",
   "version": "3.6.15"
  },
  "papermill": {
   "default_parameters": {},
   "duration": 96.014574,
   "end_time": "2022-02-06T10:11:28.091000",
   "environment_variables": {},
   "exception": null,
   "input_path": "2020-08-11-part2.ipynb",
   "output_path": "2020-08-11-part2.ipynb",
   "parameters": {},
   "start_time": "2022-02-06T10:09:52.076426",
   "version": "2.3.3"
  }
 },
 "nbformat": 4,
 "nbformat_minor": 5
}