{
 "cells": [
  {
   "cell_type": "markdown",
   "id": "98380cd3",
   "metadata": {
    "papermill": {
     "duration": 0.032947,
     "end_time": "2022-08-19T00:44:05.020152",
     "exception": false,
     "start_time": "2022-08-19T00:44:04.987205",
     "status": "completed"
    },
    "tags": []
   },
   "source": [
    "# Distinguish Your Own Digits (DYOD)"
   ]
  },
  {
   "cell_type": "markdown",
   "id": "ef31240d",
   "metadata": {
    "papermill": {
     "duration": 0.028687,
     "end_time": "2022-08-19T00:44:05.079510",
     "exception": false,
     "start_time": "2022-08-19T00:44:05.050823",
     "status": "completed"
    },
    "tags": []
   },
   "source": [
    "You are going to write a classifier that distinguishes between the number 3 and number 8."
   ]
  },
  {
   "cell_type": "code",
   "execution_count": 1,
   "id": "b15c8646",
   "metadata": {
    "execution": {
     "iopub.execute_input": "2022-08-19T00:44:05.148979Z",
     "iopub.status.busy": "2022-08-19T00:44:05.147793Z",
     "iopub.status.idle": "2022-08-19T00:44:05.160042Z",
     "shell.execute_reply": "2022-08-19T00:44:05.159323Z"
    },
    "papermill": {
     "duration": 0.054279,
     "end_time": "2022-08-19T00:44:05.160193",
     "exception": false,
     "start_time": "2022-08-19T00:44:05.105914",
     "status": "completed"
    },
    "tags": []
   },
   "outputs": [],
   "source": [
    "%load_ext autoreload\n",
    "%autoreload 2"
   ]
  },
  {
   "cell_type": "code",
   "execution_count": 2,
   "id": "22ef38dc",
   "metadata": {
    "execution": {
     "iopub.execute_input": "2022-08-19T00:44:05.223114Z",
     "iopub.status.busy": "2022-08-19T00:44:05.222479Z",
     "iopub.status.idle": "2022-08-19T00:44:05.857555Z",
     "shell.execute_reply": "2022-08-19T00:44:05.856700Z"
    },
    "papermill": {
     "duration": 0.66761,
     "end_time": "2022-08-19T00:44:05.857708",
     "exception": false,
     "start_time": "2022-08-19T00:44:05.190098",
     "status": "completed"
    },
    "tags": []
   },
   "outputs": [],
   "source": [
    "%matplotlib inline\n",
    "import numpy as np\n",
    "import matplotlib.pyplot as plt\n",
    "import pandas as pd"
   ]
  },
  {
   "cell_type": "markdown",
   "id": "ba036198",
   "metadata": {
    "papermill": {
     "duration": 0.029431,
     "end_time": "2022-08-19T00:44:05.918149",
     "exception": false,
     "start_time": "2022-08-19T00:44:05.888718",
     "status": "completed"
    },
    "tags": []
   },
   "source": [
    "From the command line run `pip install mnist`. This is a library that will help you bring down the mnist dataset. If you run this from a notebook, you need to put  `!pip install mnist` in a cell by itself."
   ]
  },
  {
   "cell_type": "code",
   "execution_count": 3,
   "id": "bb6ad8a1",
   "metadata": {
    "execution": {
     "iopub.execute_input": "2022-08-19T00:44:05.989581Z",
     "iopub.status.busy": "2022-08-19T00:44:05.988770Z",
     "iopub.status.idle": "2022-08-19T00:44:08.026481Z",
     "shell.execute_reply": "2022-08-19T00:44:08.025499Z"
    },
    "papermill": {
     "duration": 2.075594,
     "end_time": "2022-08-19T00:44:08.026625",
     "exception": false,
     "start_time": "2022-08-19T00:44:05.951031",
     "status": "completed"
    },
    "tags": []
   },
   "outputs": [
    {
     "name": "stdout",
     "output_type": "stream",
     "text": [
      "Collecting mnist\r\n"
     ]
    },
    {
     "name": "stdout",
     "output_type": "stream",
     "text": [
      "  Downloading mnist-0.2.2-py2.py3-none-any.whl (3.5 kB)\r\n",
      "Requirement already satisfied: numpy in /opt/hostedtoolcache/Python/3.6.15/x64/lib/python3.6/site-packages (from mnist) (1.19.5)\r\n"
     ]
    },
    {
     "name": "stdout",
     "output_type": "stream",
     "text": [
      "Installing collected packages: mnist\r\n"
     ]
    },
    {
     "name": "stdout",
     "output_type": "stream",
     "text": [
      "Successfully installed mnist-0.2.2\r\n"
     ]
    }
   ],
   "source": [
    "!pip install mnist"
   ]
  },
  {
   "cell_type": "markdown",
   "id": "69df9c9a",
   "metadata": {
    "papermill": {
     "duration": 0.034132,
     "end_time": "2022-08-19T00:44:08.093934",
     "exception": false,
     "start_time": "2022-08-19T00:44:08.059802",
     "status": "completed"
    },
    "tags": []
   },
   "source": [
    "## Preparing the Data"
   ]
  },
  {
   "cell_type": "code",
   "execution_count": 4,
   "id": "7f69d806",
   "metadata": {
    "execution": {
     "iopub.execute_input": "2022-08-19T00:44:08.166524Z",
     "iopub.status.busy": "2022-08-19T00:44:08.165827Z",
     "iopub.status.idle": "2022-08-19T00:44:08.185722Z",
     "shell.execute_reply": "2022-08-19T00:44:08.184976Z"
    },
    "papermill": {
     "duration": 0.057933,
     "end_time": "2022-08-19T00:44:08.185855",
     "exception": false,
     "start_time": "2022-08-19T00:44:08.127922",
     "status": "completed"
    },
    "tags": []
   },
   "outputs": [],
   "source": [
    "import mnist"
   ]
  },
  {
   "cell_type": "code",
   "execution_count": 5,
   "id": "a411e44f",
   "metadata": {
    "execution": {
     "iopub.execute_input": "2022-08-19T00:44:08.254189Z",
     "iopub.status.busy": "2022-08-19T00:44:08.253350Z",
     "iopub.status.idle": "2022-08-19T00:44:09.048895Z",
     "shell.execute_reply": "2022-08-19T00:44:09.047508Z"
    },
    "papermill": {
     "duration": 0.831668,
     "end_time": "2022-08-19T00:44:09.049054",
     "exception": false,
     "start_time": "2022-08-19T00:44:08.217386",
     "status": "completed"
    },
    "tags": []
   },
   "outputs": [],
   "source": [
    "train_images = mnist.train_images()\n",
    "train_labels = mnist.train_labels()"
   ]
  },
  {
   "cell_type": "code",
   "execution_count": 6,
   "id": "dceab3a5",
   "metadata": {
    "execution": {
     "iopub.execute_input": "2022-08-19T00:44:09.120108Z",
     "iopub.status.busy": "2022-08-19T00:44:09.119283Z",
     "iopub.status.idle": "2022-08-19T00:44:09.136908Z",
     "shell.execute_reply": "2022-08-19T00:44:09.137567Z"
    },
    "papermill": {
     "duration": 0.052856,
     "end_time": "2022-08-19T00:44:09.137702",
     "exception": false,
     "start_time": "2022-08-19T00:44:09.084846",
     "status": "completed"
    },
    "tags": []
   },
   "outputs": [
    {
     "data": {
      "text/plain": [
       "((60000, 28, 28), (60000,))"
      ]
     },
     "execution_count": 6,
     "metadata": {},
     "output_type": "execute_result"
    }
   ],
   "source": [
    "train_images.shape, train_labels.shape"
   ]
  },
  {
   "cell_type": "code",
   "execution_count": 7,
   "id": "f50dc2bb",
   "metadata": {
    "execution": {
     "iopub.execute_input": "2022-08-19T00:44:09.214653Z",
     "iopub.status.busy": "2022-08-19T00:44:09.209713Z",
     "iopub.status.idle": "2022-08-19T00:44:09.570637Z",
     "shell.execute_reply": "2022-08-19T00:44:09.570074Z"
    },
    "papermill": {
     "duration": 0.40171,
     "end_time": "2022-08-19T00:44:09.570762",
     "exception": false,
     "start_time": "2022-08-19T00:44:09.169052",
     "status": "completed"
    },
    "tags": []
   },
   "outputs": [],
   "source": [
    "test_images = mnist.test_images()\n",
    "test_labels = mnist.test_labels()"
   ]
  },
  {
   "cell_type": "code",
   "execution_count": 8,
   "id": "fc38cf1b",
   "metadata": {
    "execution": {
     "iopub.execute_input": "2022-08-19T00:44:09.639136Z",
     "iopub.status.busy": "2022-08-19T00:44:09.638414Z",
     "iopub.status.idle": "2022-08-19T00:44:09.653896Z",
     "shell.execute_reply": "2022-08-19T00:44:09.653212Z"
    },
    "papermill": {
     "duration": 0.051958,
     "end_time": "2022-08-19T00:44:09.654022",
     "exception": false,
     "start_time": "2022-08-19T00:44:09.602064",
     "status": "completed"
    },
    "tags": []
   },
   "outputs": [
    {
     "data": {
      "text/plain": [
       "((10000, 28, 28), (10000,))"
      ]
     },
     "execution_count": 8,
     "metadata": {},
     "output_type": "execute_result"
    }
   ],
   "source": [
    "test_images.shape, test_labels.shape"
   ]
  },
  {
   "cell_type": "code",
   "execution_count": 9,
   "id": "f9ed8fe0",
   "metadata": {
    "execution": {
     "iopub.execute_input": "2022-08-19T00:44:09.726784Z",
     "iopub.status.busy": "2022-08-19T00:44:09.726017Z",
     "iopub.status.idle": "2022-08-19T00:44:09.914600Z",
     "shell.execute_reply": "2022-08-19T00:44:09.913839Z"
    },
    "papermill": {
     "duration": 0.228282,
     "end_time": "2022-08-19T00:44:09.914764",
     "exception": false,
     "start_time": "2022-08-19T00:44:09.686482",
     "status": "completed"
    },
    "tags": []
   },
   "outputs": [
    {
     "name": "stdout",
     "output_type": "stream",
     "text": [
      "2\n"
     ]
    },
    {
     "data": {
      "text/plain": [
       "<matplotlib.image.AxesImage at 0x7f31c378a978>"
      ]
     },
     "execution_count": 9,
     "metadata": {},
     "output_type": "execute_result"
    },
    {
     "data": {
      "image/png": "[encoded data removed]",
      "text/plain": [
       "<Figure size 432x288 with 1 Axes>"
      ]
     },
     "metadata": {
      "needs_background": "light"
     },
     "output_type": "display_data"
    }
   ],
   "source": [
    "image_index = 7776 # You may select anything up to 60,000\n",
    "print(train_labels[image_index]) \n",
    "plt.imshow(train_images[image_index], cmap='Greys')"
   ]
  },
  {
   "cell_type": "markdown",
   "id": "a8d2388d",
   "metadata": {
    "papermill": {
     "duration": 0.033132,
     "end_time": "2022-08-19T00:44:09.978966",
     "exception": false,
     "start_time": "2022-08-19T00:44:09.945834",
     "status": "completed"
    },
    "tags": []
   },
   "source": [
    "## Filter data to get 3 and 8 out"
   ]
  },
  {
   "cell_type": "code",
   "execution_count": 10,
   "id": "776f7fc7",
   "metadata": {
    "execution": {
     "iopub.execute_input": "2022-08-19T00:44:10.054345Z",
     "iopub.status.busy": "2022-08-19T00:44:10.053505Z",
     "iopub.status.idle": "2022-08-19T00:44:10.075488Z",
     "shell.execute_reply": "2022-08-19T00:44:10.074834Z"
    },
    "papermill": {
     "duration": 0.062431,
     "end_time": "2022-08-19T00:44:10.075620",
     "exception": false,
     "start_time": "2022-08-19T00:44:10.013189",
     "status": "completed"
    },
    "tags": []
   },
   "outputs": [],
   "source": [
    "train_filter = np.where((train_labels == 3 ) | (train_labels == 8))\n",
    "test_filter = np.where((test_labels == 3) | (test_labels == 8))\n",
    "X_train, y_train = train_images[train_filter], train_labels[train_filter]\n",
    "X_test, y_test = test_images[test_filter], test_labels[test_filter]"
   ]
  },
  {
   "cell_type": "markdown",
   "id": "948f0b7e",
   "metadata": {
    "papermill": {
     "duration": 0.033355,
     "end_time": "2022-08-19T00:44:10.144620",
     "exception": false,
     "start_time": "2022-08-19T00:44:10.111265",
     "status": "completed"
    },
    "tags": []
   },
   "source": [
    "We normalize the pizel values in the 0 to 1 range"
   ]
  },
  {
   "cell_type": "code",
   "execution_count": 11,
   "id": "ee4c2166",
   "metadata": {
    "execution": {
     "iopub.execute_input": "2022-08-19T00:44:10.218675Z",
     "iopub.status.busy": "2022-08-19T00:44:10.217892Z",
     "iopub.status.idle": "2022-08-19T00:44:10.280259Z",
     "shell.execute_reply": "2022-08-19T00:44:10.279717Z"
    },
    "papermill": {
     "duration": 0.100735,
     "end_time": "2022-08-19T00:44:10.280408",
     "exception": false,
     "start_time": "2022-08-19T00:44:10.179673",
     "status": "completed"
    },
    "tags": []
   },
   "outputs": [],
   "source": [
    "X_train = X_train/255.\n",
    "X_test = X_test/255."
   ]
  },
  {
   "cell_type": "markdown",
   "id": "ddcf4fab",
   "metadata": {
    "papermill": {
     "duration": 0.035396,
     "end_time": "2022-08-19T00:44:10.349404",
     "exception": false,
     "start_time": "2022-08-19T00:44:10.314008",
     "status": "completed"
    },
    "tags": []
   },
   "source": [
    "And setup the labels as 1 (when the digit is 3) and 0 (when the digit is 8)"
   ]
  },
  {
   "cell_type": "code",
   "execution_count": 12,
   "id": "7dc908f2",
   "metadata": {
    "execution": {
     "iopub.execute_input": "2022-08-19T00:44:10.425007Z",
     "iopub.status.busy": "2022-08-19T00:44:10.424218Z",
     "iopub.status.idle": "2022-08-19T00:44:10.439816Z",
     "shell.execute_reply": "2022-08-19T00:44:10.439197Z"
    },
    "papermill": {
     "duration": 0.056687,
     "end_time": "2022-08-19T00:44:10.439941",
     "exception": false,
     "start_time": "2022-08-19T00:44:10.383254",
     "status": "completed"
    },
    "tags": []
   },
   "outputs": [],
   "source": [
    "y_train = 1*(y_train==3)\n",
    "y_test = 1*(y_test==3)"
   ]
  },
  {
   "cell_type": "code",
   "execution_count": 13,
   "id": "01e4e969",
   "metadata": {
    "execution": {
     "iopub.execute_input": "2022-08-19T00:44:10.511434Z",
     "iopub.status.busy": "2022-08-19T00:44:10.510772Z",
     "iopub.status.idle": "2022-08-19T00:44:10.527224Z",
     "shell.execute_reply": "2022-08-19T00:44:10.526721Z"
    },
    "papermill": {
     "duration": 0.055722,
     "end_time": "2022-08-19T00:44:10.527341",
     "exception": false,
     "start_time": "2022-08-19T00:44:10.471619",
     "status": "completed"
    },
    "tags": []
   },
   "outputs": [
    {
     "data": {
      "text/plain": [
       "((11982, 28, 28), (1984, 28, 28))"
      ]
     },
     "execution_count": 13,
     "metadata": {},
     "output_type": "execute_result"
    }
   ],
   "source": [
    "X_train.shape, X_test.shape"
   ]
  },
  {
   "cell_type": "markdown",
   "id": "5ccf3f85",
   "metadata": {
    "papermill": {
     "duration": 0.031341,
     "end_time": "2022-08-19T00:44:10.591591",
     "exception": false,
     "start_time": "2022-08-19T00:44:10.560250",
     "status": "completed"
    },
    "tags": []
   },
   "source": [
    "We reshape the data to flatten the image pixels into a set of features or co-variates:"
   ]
  },
  {
   "cell_type": "code",
   "execution_count": 14,
   "id": "5286a4a3",
   "metadata": {
    "execution": {
     "iopub.execute_input": "2022-08-19T00:44:10.662158Z",
     "iopub.status.busy": "2022-08-19T00:44:10.661437Z",
     "iopub.status.idle": "2022-08-19T00:44:10.677602Z",
     "shell.execute_reply": "2022-08-19T00:44:10.678176Z"
    },
    "papermill": {
     "duration": 0.05482,
     "end_time": "2022-08-19T00:44:10.678304",
     "exception": false,
     "start_time": "2022-08-19T00:44:10.623484",
     "status": "completed"
    },
    "tags": []
   },
   "outputs": [
    {
     "data": {
      "text/plain": [
       "((11982, 784), (1984, 784))"
      ]
     },
     "execution_count": 14,
     "metadata": {},
     "output_type": "execute_result"
    }
   ],
   "source": [
    "X_train = X_train.reshape(X_train.shape[0], -1)\n",
    "X_test = X_test.reshape(X_test.shape[0], -1)\n",
    "X_train.shape, X_test.shape"
   ]
  },
  {
   "cell_type": "code",
   "execution_count": 15,
   "id": "73c5f88a",
   "metadata": {
    "execution": {
     "iopub.execute_input": "2022-08-19T00:44:10.763356Z",
     "iopub.status.busy": "2022-08-19T00:44:10.762246Z",
     "iopub.status.idle": "2022-08-19T00:44:10.782010Z",
     "shell.execute_reply": "2022-08-19T00:44:10.782553Z"
    },
    "papermill": {
     "duration": 0.068357,
     "end_time": "2022-08-19T00:44:10.782718",
     "exception": false,
     "start_time": "2022-08-19T00:44:10.714361",
     "status": "completed"
    },
    "tags": []
   },
   "outputs": [],
   "source": [
    "#Impoting functions from 'Kudzu'\n",
    "from kudzu.model import Model\n",
    "from kudzu.train import Learner\n",
    "from kudzu.optim import GD\n",
    "from kudzu.data import Data, Sampler,Dataloader\n",
    "\n",
    "from kudzu.callbacks import AccCallback\n",
    "from kudzu.callbacks import ClfCallback\n",
    "\n",
    "from kudzu.loss import MSE\n",
    "\n",
    "from kudzu.layer import Sigmoid,Relu\n",
    "from kudzu.layer import Affine"
   ]
  },
  {
   "cell_type": "markdown",
   "id": "bc01172a",
   "metadata": {
    "papermill": {
     "duration": 0.032076,
     "end_time": "2022-08-19T00:44:10.846833",
     "exception": false,
     "start_time": "2022-08-19T00:44:10.814757",
     "status": "completed"
    },
    "tags": []
   },
   "source": [
    "### Let us create a `Config` class, to store important parameters. \n",
    "This class essentially plays the role of a dictionary."
   ]
  },
  {
   "cell_type": "code",
   "execution_count": 16,
   "id": "978281aa",
   "metadata": {
    "execution": {
     "iopub.execute_input": "2022-08-19T00:44:10.922510Z",
     "iopub.status.busy": "2022-08-19T00:44:10.917507Z",
     "iopub.status.idle": "2022-08-19T00:44:10.934229Z",
     "shell.execute_reply": "2022-08-19T00:44:10.933608Z"
    },
    "papermill": {
     "duration": 0.056524,
     "end_time": "2022-08-19T00:44:10.934373",
     "exception": false,
     "start_time": "2022-08-19T00:44:10.877849",
     "status": "completed"
    },
    "tags": []
   },
   "outputs": [],
   "source": [
    "class Config:\n",
    "    pass\n",
    "config = Config()\n",
    "config.lr = 0.001\n",
    "config.num_epochs = 250\n",
    "config.bs = 50"
   ]
  },
  {
   "cell_type": "markdown",
   "id": "1385fa59",
   "metadata": {
    "papermill": {
     "duration": 0.037827,
     "end_time": "2022-08-19T00:44:11.007752",
     "exception": false,
     "start_time": "2022-08-19T00:44:10.969925",
     "status": "completed"
    },
    "tags": []
   },
   "source": [
    "### Running Models with the Training data\n",
    "Details about the network layers:\n",
    "- A first affine layer has 784 inputs and does 100 affine transforms. These are followed by a Relu\n",
    "- A second affine layer has 100 inputs from the 100 activations of the past layer, and does 100 affine transforms. These are followed by a Relu\n",
    "- A third affine layer has 100 activations and does 2 affine transformations to create an embedding for visualization. There is no non-linearity here.\n",
    "- A final \"logistic regression\" which has an affine transform from 2 inputs to 1 output, which is squeezed through a sigmoid.\n"
   ]
  },
  {
   "cell_type": "code",
   "execution_count": 17,
   "id": "2b9c66db",
   "metadata": {
    "execution": {
     "iopub.execute_input": "2022-08-19T00:44:11.090811Z",
     "iopub.status.busy": "2022-08-19T00:44:11.089844Z",
     "iopub.status.idle": "2022-08-19T00:44:11.107525Z",
     "shell.execute_reply": "2022-08-19T00:44:11.106641Z"
    },
    "papermill": {
     "duration": 0.062261,
     "end_time": "2022-08-19T00:44:11.107672",
     "exception": false,
     "start_time": "2022-08-19T00:44:11.045411",
     "status": "completed"
    },
    "tags": []
   },
   "outputs": [],
   "source": [
    "data = Data(X_train, y_train.reshape(-1,1))\n",
    "sampler = Sampler(data, config.bs, shuffle=True)\n",
    "\n",
    "dl = Dataloader(data, sampler)\n",
    "\n",
    "opt = GD(config.lr)\n",
    "loss = MSE()"
   ]
  },
  {
   "cell_type": "code",
   "execution_count": 18,
   "id": "b275e4c2",
   "metadata": {
    "execution": {
     "iopub.execute_input": "2022-08-19T00:44:11.182445Z",
     "iopub.status.busy": "2022-08-19T00:44:11.181652Z",
     "iopub.status.idle": "2022-08-19T00:44:11.195521Z",
     "shell.execute_reply": "2022-08-19T00:44:11.196288Z"
    },
    "papermill": {
     "duration": 0.054049,
     "end_time": "2022-08-19T00:44:11.196457",
     "exception": false,
     "start_time": "2022-08-19T00:44:11.142408",
     "status": "completed"
    },
    "tags": []
   },
   "outputs": [],
   "source": [
    "training_data_x = X_train\n",
    "testing_data_x = X_test\n",
    "training_data_y = y_train.reshape(-1,1)\n",
    "testing_data_y = y_test.reshape(-1,1)"
   ]
  },
  {
   "cell_type": "code",
   "execution_count": 19,
   "id": "76951160",
   "metadata": {
    "execution": {
     "iopub.execute_input": "2022-08-19T00:44:11.270198Z",
     "iopub.status.busy": "2022-08-19T00:44:11.269433Z",
     "iopub.status.idle": "2022-08-19T00:44:11.290186Z",
     "shell.execute_reply": "2022-08-19T00:44:11.290939Z"
    },
    "papermill": {
     "duration": 0.060944,
     "end_time": "2022-08-19T00:44:11.291122",
     "exception": false,
     "start_time": "2022-08-19T00:44:11.230178",
     "status": "completed"
    },
    "tags": []
   },
   "outputs": [
    {
     "name": "stdout",
     "output_type": "stream",
     "text": [
      "xavier\n",
      "xavier\n",
      "xavier\n",
      "xavier\n",
      "xavier\n"
     ]
    }
   ],
   "source": [
    "layers = [Affine(\"first\", 784, 100), Relu(\"first\"), Affine(\"second\", 100, 100), Relu(\"second\"), Affine(\"third\", 100, 2), Affine(\"last\", 2, 1), Sigmoid(\"last\")]\n",
    "model_nn = Model(layers)\n",
    "model_lr = Model([Affine(\"logits\", 784, 1), Sigmoid(\"sigmoid\")])"
   ]
  },
  {
   "cell_type": "code",
   "execution_count": 20,
   "id": "6eede77a",
   "metadata": {
    "execution": {
     "iopub.execute_input": "2022-08-19T00:44:11.371846Z",
     "iopub.status.busy": "2022-08-19T00:44:11.371052Z",
     "iopub.status.idle": "2022-08-19T00:44:11.385289Z",
     "shell.execute_reply": "2022-08-19T00:44:11.385839Z"
    },
    "papermill": {
     "duration": 0.05789,
     "end_time": "2022-08-19T00:44:11.385984",
     "exception": false,
     "start_time": "2022-08-19T00:44:11.328094",
     "status": "completed"
    },
    "tags": []
   },
   "outputs": [],
   "source": [
    "nn_learner = Learner(loss, model_nn, opt, config.num_epochs)\n",
    "acc_nn = ClfCallback(nn_learner, config.bs, training_data_x , testing_data_x, training_data_y, testing_data_y)\n",
    "nn_learner.set_callbacks([acc_nn])"
   ]
  },
  {
   "cell_type": "code",
   "execution_count": 21,
   "id": "877b6cc7",
   "metadata": {
    "execution": {
     "iopub.execute_input": "2022-08-19T00:44:11.467531Z",
     "iopub.status.busy": "2022-08-19T00:44:11.466827Z",
     "iopub.status.idle": "2022-08-19T00:44:11.480713Z",
     "shell.execute_reply": "2022-08-19T00:44:11.480057Z"
    },
    "papermill": {
     "duration": 0.059089,
     "end_time": "2022-08-19T00:44:11.480834",
     "exception": false,
     "start_time": "2022-08-19T00:44:11.421745",
     "status": "completed"
    },
    "tags": []
   },
   "outputs": [],
   "source": [
    "lr_learner = Learner(loss, model_lr, opt, config.num_epochs)\n",
    "acc_lr = ClfCallback(lr_learner, config.bs, training_data_x , testing_data_x, training_data_y, testing_data_y)\n",
    "lr_learner.set_callbacks([acc_lr])"
   ]
  },
  {
   "cell_type": "code",
   "execution_count": 22,
   "id": "d9b133c3",
   "metadata": {
    "execution": {
     "iopub.execute_input": "2022-08-19T00:44:11.559261Z",
     "iopub.status.busy": "2022-08-19T00:44:11.558563Z",
     "iopub.status.idle": "2022-08-19T00:46:36.124439Z",
     "shell.execute_reply": "2022-08-19T00:46:36.125452Z"
    },
    "papermill": {
     "duration": 144.611244,
     "end_time": "2022-08-19T00:46:36.125617",
     "exception": false,
     "start_time": "2022-08-19T00:44:11.514373",
     "status": "completed"
    },
    "tags": []
   },
   "outputs": [
    {
     "name": "stdout",
     "output_type": "stream",
     "text": [
      "Epoch 0, Loss 0.2572\n",
      "Training Accuracy: 0.5809, Testing Accuracy: 0.5912\n",
      "\n"
     ]
    },
    {
     "name": "stdout",
     "output_type": "stream",
     "text": [
      "Epoch 10, Loss 0.0836\n",
      "Training Accuracy: 0.9216, Testing Accuracy: 0.9325\n",
      "\n"
     ]
    },
    {
     "name": "stdout",
     "output_type": "stream",
     "text": [
      "Epoch 20, Loss 0.0505\n",
      "Training Accuracy: 0.9475, Testing Accuracy: 0.9577\n",
      "\n"
     ]
    },
    {
     "name": "stdout",
     "output_type": "stream",
     "text": [
      "Epoch 30, Loss 0.0397\n",
      "Training Accuracy: 0.9569, Testing Accuracy: 0.9637\n",
      "\n"
     ]
    },
    {
     "name": "stdout",
     "output_type": "stream",
     "text": [
      "Epoch 40, Loss 0.0346\n",
      "Training Accuracy: 0.9626, Testing Accuracy: 0.9652\n",
      "\n"
     ]
    },
    {
     "name": "stdout",
     "output_type": "stream",
     "text": [
      "Epoch 50, Loss 0.0316\n",
      "Training Accuracy: 0.9649, Testing Accuracy: 0.9672\n",
      "\n"
     ]
    },
    {
     "name": "stdout",
     "output_type": "stream",
     "text": [
      "Epoch 60, Loss 0.0295\n",
      "Training Accuracy: 0.9674, Testing Accuracy: 0.9682\n",
      "\n"
     ]
    },
    {
     "name": "stdout",
     "output_type": "stream",
     "text": [
      "Epoch 70, Loss 0.0279\n",
      "Training Accuracy: 0.9680, Testing Accuracy: 0.9677\n",
      "\n"
     ]
    },
    {
     "name": "stdout",
     "output_type": "stream",
     "text": [
      "Epoch 80, Loss 0.0267\n",
      "Training Accuracy: 0.9693, Testing Accuracy: 0.9698\n",
      "\n"
     ]
    },
    {
     "name": "stdout",
     "output_type": "stream",
     "text": [
      "Epoch 90, Loss 0.0257\n",
      "Training Accuracy: 0.9710, Testing Accuracy: 0.9708\n",
      "\n"
     ]
    },
    {
     "name": "stdout",
     "output_type": "stream",
     "text": [
      "Epoch 100, Loss 0.0248\n",
      "Training Accuracy: 0.9725, Testing Accuracy: 0.9708\n",
      "\n"
     ]
    },
    {
     "name": "stdout",
     "output_type": "stream",
     "text": [
      "Epoch 110, Loss 0.0241\n",
      "Training Accuracy: 0.9735, Testing Accuracy: 0.9713\n",
      "\n"
     ]
    },
    {
     "name": "stdout",
     "output_type": "stream",
     "text": [
      "Epoch 120, Loss 0.0234\n",
      "Training Accuracy: 0.9737, Testing Accuracy: 0.9713\n",
      "\n"
     ]
    },
    {
     "name": "stdout",
     "output_type": "stream",
     "text": [
      "Epoch 130, Loss 0.0228\n",
      "Training Accuracy: 0.9743, Testing Accuracy: 0.9718\n",
      "\n"
     ]
    },
    {
     "name": "stdout",
     "output_type": "stream",
     "text": [
      "Epoch 140, Loss 0.0222\n",
      "Training Accuracy: 0.9754, Testing Accuracy: 0.9718\n",
      "\n"
     ]
    },
    {
     "name": "stdout",
     "output_type": "stream",
     "text": [
      "Epoch 150, Loss 0.0217\n",
      "Training Accuracy: 0.9755, Testing Accuracy: 0.9713\n",
      "\n"
     ]
    },
    {
     "name": "stdout",
     "output_type": "stream",
     "text": [
      "Epoch 160, Loss 0.0212\n",
      "Training Accuracy: 0.9757, Testing Accuracy: 0.9713\n",
      "\n"
     ]
    },
    {
     "name": "stdout",
     "output_type": "stream",
     "text": [
      "Epoch 170, Loss 0.0207\n",
      "Training Accuracy: 0.9763, Testing Accuracy: 0.9718\n",
      "\n"
     ]
    },
    {
     "name": "stdout",
     "output_type": "stream",
     "text": [
      "Epoch 180, Loss 0.0203\n",
      "Training Accuracy: 0.9770, Testing Accuracy: 0.9718\n",
      "\n"
     ]
    },
    {
     "name": "stdout",
     "output_type": "stream",
     "text": [
      "Epoch 190, Loss 0.0198\n",
      "Training Accuracy: 0.9777, Testing Accuracy: 0.9718\n",
      "\n"
     ]
    },
    {
     "name": "stdout",
     "output_type": "stream",
     "text": [
      "Epoch 200, Loss 0.0194\n",
      "Training Accuracy: 0.9781, Testing Accuracy: 0.9718\n",
      "\n"
     ]
    },
    {
     "name": "stdout",
     "output_type": "stream",
     "text": [
      "Epoch 210, Loss 0.019\n",
      "Training Accuracy: 0.9786, Testing Accuracy: 0.9718\n",
      "\n"
     ]
    },
    {
     "name": "stdout",
     "output_type": "stream",
     "text": [
      "Epoch 220, Loss 0.0186\n",
      "Training Accuracy: 0.9794, Testing Accuracy: 0.9723\n",
      "\n"
     ]
    },
    {
     "name": "stdout",
     "output_type": "stream",
     "text": [
      "Epoch 230, Loss 0.0182\n",
      "Training Accuracy: 0.9798, Testing Accuracy: 0.9728\n",
      "\n"
     ]
    },
    {
     "name": "stdout",
     "output_type": "stream",
     "text": [
      "Epoch 240, Loss 0.0178\n",
      "Training Accuracy: 0.9806, Testing Accuracy: 0.9733\n",
      "\n"
     ]
    },
    {
     "data": {
      "text/plain": [
       "0.0047797392947953165"
      ]
     },
     "execution_count": 22,
     "metadata": {},
     "output_type": "execute_result"
    }
   ],
   "source": [
    "nn_learner.train_loop(dl)"
   ]
  },
  {
   "cell_type": "code",
   "execution_count": 23,
   "id": "e0163366",
   "metadata": {
    "execution": {
     "iopub.execute_input": "2022-08-19T00:46:36.227229Z",
     "iopub.status.busy": "2022-08-19T00:46:36.226313Z",
     "iopub.status.idle": "2022-08-19T00:46:56.297549Z",
     "shell.execute_reply": "2022-08-19T00:46:56.298484Z"
    },
    "papermill": {
     "duration": 20.129946,
     "end_time": "2022-08-19T00:46:56.298659",
     "exception": false,
     "start_time": "2022-08-19T00:46:36.168713",
     "status": "completed"
    },
    "tags": []
   },
   "outputs": [
    {
     "name": "stdout",
     "output_type": "stream",
     "text": [
      "Epoch 0, Loss 0.2157\n",
      "Training Accuracy: 0.7857, Testing Accuracy: 0.7858\n",
      "\n"
     ]
    },
    {
     "name": "stdout",
     "output_type": "stream",
     "text": [
      "Epoch 10, Loss 0.0996\n",
      "Training Accuracy: 0.9163, Testing Accuracy: 0.9244\n",
      "\n"
     ]
    },
    {
     "name": "stdout",
     "output_type": "stream",
     "text": [
      "Epoch 20, Loss 0.0773\n",
      "Training Accuracy: 0.9314, Testing Accuracy: 0.9435\n",
      "\n"
     ]
    },
    {
     "name": "stdout",
     "output_type": "stream",
     "text": [
      "Epoch 30, Loss 0.0669\n",
      "Training Accuracy: 0.9396, Testing Accuracy: 0.9496\n",
      "\n"
     ]
    },
    {
     "name": "stdout",
     "output_type": "stream",
     "text": [
      "Epoch 40, Loss 0.0606\n",
      "Training Accuracy: 0.9437, Testing Accuracy: 0.9531\n",
      "\n"
     ]
    },
    {
     "name": "stdout",
     "output_type": "stream",
     "text": [
      "Epoch 50, Loss 0.0563\n",
      "Training Accuracy: 0.9463, Testing Accuracy: 0.9536\n",
      "\n"
     ]
    },
    {
     "name": "stdout",
     "output_type": "stream",
     "text": [
      "Epoch 60, Loss 0.0531\n",
      "Training Accuracy: 0.9488, Testing Accuracy: 0.9577\n",
      "\n"
     ]
    },
    {
     "name": "stdout",
     "output_type": "stream",
     "text": [
      "Epoch 70, Loss 0.0506\n",
      "Training Accuracy: 0.9503, Testing Accuracy: 0.9597\n",
      "\n"
     ]
    },
    {
     "name": "stdout",
     "output_type": "stream",
     "text": [
      "Epoch 80, Loss 0.0487\n",
      "Training Accuracy: 0.9510, Testing Accuracy: 0.9612\n",
      "\n"
     ]
    },
    {
     "name": "stdout",
     "output_type": "stream",
     "text": [
      "Epoch 90, Loss 0.047\n",
      "Training Accuracy: 0.9526, Testing Accuracy: 0.9622\n",
      "\n"
     ]
    },
    {
     "name": "stdout",
     "output_type": "stream",
     "text": [
      "Epoch 100, Loss 0.0456\n",
      "Training Accuracy: 0.9543, Testing Accuracy: 0.9627\n",
      "\n"
     ]
    },
    {
     "name": "stdout",
     "output_type": "stream",
     "text": [
      "Epoch 110, Loss 0.0445\n",
      "Training Accuracy: 0.9550, Testing Accuracy: 0.9642\n",
      "\n"
     ]
    },
    {
     "name": "stdout",
     "output_type": "stream",
     "text": [
      "Epoch 120, Loss 0.0434\n",
      "Training Accuracy: 0.9559, Testing Accuracy: 0.9662\n",
      "\n"
     ]
    },
    {
     "name": "stdout",
     "output_type": "stream",
     "text": [
      "Epoch 130, Loss 0.0425\n",
      "Training Accuracy: 0.9565, Testing Accuracy: 0.9657\n",
      "\n"
     ]
    },
    {
     "name": "stdout",
     "output_type": "stream",
     "text": [
      "Epoch 140, Loss 0.0417\n",
      "Training Accuracy: 0.9567, Testing Accuracy: 0.9657\n",
      "\n"
     ]
    },
    {
     "name": "stdout",
     "output_type": "stream",
     "text": [
      "Epoch 150, Loss 0.041\n",
      "Training Accuracy: 0.9574, Testing Accuracy: 0.9662\n",
      "\n"
     ]
    },
    {
     "name": "stdout",
     "output_type": "stream",
     "text": [
      "Epoch 160, Loss 0.0403\n",
      "Training Accuracy: 0.9583, Testing Accuracy: 0.9657\n",
      "\n"
     ]
    },
    {
     "name": "stdout",
     "output_type": "stream",
     "text": [
      "Epoch 170, Loss 0.0397\n",
      "Training Accuracy: 0.9589, Testing Accuracy: 0.9657\n",
      "\n"
     ]
    },
    {
     "name": "stdout",
     "output_type": "stream",
     "text": [
      "Epoch 180, Loss 0.0392\n",
      "Training Accuracy: 0.9591, Testing Accuracy: 0.9662\n",
      "\n"
     ]
    },
    {
     "name": "stdout",
     "output_type": "stream",
     "text": [
      "Epoch 190, Loss 0.0387\n",
      "Training Accuracy: 0.9594, Testing Accuracy: 0.9667\n",
      "\n"
     ]
    },
    {
     "name": "stdout",
     "output_type": "stream",
     "text": [
      "Epoch 200, Loss 0.0382\n",
      "Training Accuracy: 0.9598, Testing Accuracy: 0.9667\n",
      "\n"
     ]
    },
    {
     "name": "stdout",
     "output_type": "stream",
     "text": [
      "Epoch 210, Loss 0.0378\n",
      "Training Accuracy: 0.9602, Testing Accuracy: 0.9672\n",
      "\n"
     ]
    },
    {
     "name": "stdout",
     "output_type": "stream",
     "text": [
      "Epoch 220, Loss 0.0374\n",
      "Training Accuracy: 0.9600, Testing Accuracy: 0.9672\n",
      "\n"
     ]
    },
    {
     "name": "stdout",
     "output_type": "stream",
     "text": [
      "Epoch 230, Loss 0.037\n",
      "Training Accuracy: 0.9603, Testing Accuracy: 0.9672\n",
      "\n"
     ]
    },
    {
     "name": "stdout",
     "output_type": "stream",
     "text": [
      "Epoch 240, Loss 0.0367\n",
      "Training Accuracy: 0.9606, Testing Accuracy: 0.9682\n",
      "\n"
     ]
    },
    {
     "data": {
      "text/plain": [
       "0.013437441843003009"
      ]
     },
     "execution_count": 23,
     "metadata": {},
     "output_type": "execute_result"
    }
   ],
   "source": [
    "lr_learner.train_loop(dl)"
   ]
  },
  {
   "cell_type": "code",
   "execution_count": 24,
   "id": "ca410940",
   "metadata": {
    "execution": {
     "iopub.execute_input": "2022-08-19T00:46:56.413176Z",
     "iopub.status.busy": "2022-08-19T00:46:56.411915Z",
     "iopub.status.idle": "2022-08-19T00:46:56.765378Z",
     "shell.execute_reply": "2022-08-19T00:46:56.765986Z"
    },
    "papermill": {
     "duration": 0.414308,
     "end_time": "2022-08-19T00:46:56.766173",
     "exception": false,
     "start_time": "2022-08-19T00:46:56.351865",
     "status": "completed"
    },
    "tags": []
   },
   "outputs": [
    {
     "data": {
      "text/plain": [
       "<matplotlib.legend.Legend at 0x7f31c32eaeb8>"
      ]
     },
     "execution_count": 24,
     "metadata": {},
     "output_type": "execute_result"
    },
    {
     "data": {
      "image/png": "[encoded data removed]",
      "text/plain": [
       "<Figure size 1080x720 with 1 Axes>"
      ]
     },
     "metadata": {
      "needs_background": "light"
     },
     "output_type": "display_data"
    }
   ],
   "source": [
    "#comparing the results of NN and LR\n",
    "plt.figure(figsize=(15,10))\n",
    "\n",
    "# Neural Network plots\n",
    "plt.plot(acc_nn.accuracies, 'r-', label = \"Training Accuracies - NN\")\n",
    "plt.plot(acc_nn.test_accuracies, 'g-', label = \"Testing Accuracies - NN\")\n",
    "\n",
    "# Logistic Regression plots\n",
    "plt.plot(acc_lr.accuracies, 'k-', label = \"Training Accuracies - LR\")\n",
    "plt.plot(acc_lr.test_accuracies, 'b-', label = \"Testing Accuracies - LR\")\n",
    "plt.legend()"
   ]
  },
  {
   "cell_type": "markdown",
   "id": "80dfb35c",
   "metadata": {
    "papermill": {
     "duration": 0.054577,
     "end_time": "2022-08-19T00:46:56.876575",
     "exception": false,
     "start_time": "2022-08-19T00:46:56.821998",
     "status": "completed"
    },
    "tags": []
   },
   "source": [
    "#### Plotting the outputs of this layer of the NN.\n"
   ]
  },
  {
   "cell_type": "code",
   "execution_count": 25,
   "id": "45eb2ff5",
   "metadata": {
    "execution": {
     "iopub.execute_input": "2022-08-19T00:46:56.992711Z",
     "iopub.status.busy": "2022-08-19T00:46:56.991825Z",
     "iopub.status.idle": "2022-08-19T00:46:57.019738Z",
     "shell.execute_reply": "2022-08-19T00:46:57.020755Z"
    },
    "papermill": {
     "duration": 0.091016,
     "end_time": "2022-08-19T00:46:57.020912",
     "exception": false,
     "start_time": "2022-08-19T00:46:56.929896",
     "status": "completed"
    },
    "tags": []
   },
   "outputs": [],
   "source": [
    "new_model = Model(layers[:-2])\n",
    "testing_plot = new_model(testing_data_x)"
   ]
  },
  {
   "cell_type": "code",
   "execution_count": 26,
   "id": "4c0a5485",
   "metadata": {
    "execution": {
     "iopub.execute_input": "2022-08-19T00:46:57.129103Z",
     "iopub.status.busy": "2022-08-19T00:46:57.128433Z",
     "iopub.status.idle": "2022-08-19T00:46:57.379072Z",
     "shell.execute_reply": "2022-08-19T00:46:57.378510Z"
    },
    "papermill": {
     "duration": 0.307218,
     "end_time": "2022-08-19T00:46:57.379203",
     "exception": false,
     "start_time": "2022-08-19T00:46:57.071985",
     "status": "completed"
    },
    "tags": []
   },
   "outputs": [
    {
     "data": {
      "text/plain": [
       "Text(0.5, 1.0, 'Outputs')"
      ]
     },
     "execution_count": 26,
     "metadata": {},
     "output_type": "execute_result"
    },
    {
     "data": {
      "image/png": "[encoded data removed]",
      "text/plain": [
       "<Figure size 576x504 with 1 Axes>"
      ]
     },
     "metadata": {
      "needs_background": "light"
     },
     "output_type": "display_data"
    }
   ],
   "source": [
    "# Plotting the scatter plot of points and color coding by class\n",
    "plt.figure(figsize=(8,7))\n",
    "plt.scatter(testing_plot[:,0], testing_plot[:,1], alpha = 0.1, c = y_test.ravel());\n",
    "plt.title('Outputs')"
   ]
  },
  {
   "cell_type": "markdown",
   "id": "a74fcf8f",
   "metadata": {
    "papermill": {
     "duration": 0.083247,
     "end_time": "2022-08-19T00:46:57.517098",
     "exception": false,
     "start_time": "2022-08-19T00:46:57.433851",
     "status": "completed"
    },
    "tags": []
   },
   "source": [
    "Probability contours"
   ]
  },
  {
   "cell_type": "code",
   "execution_count": 27,
   "id": "d0afc8e3",
   "metadata": {
    "execution": {
     "iopub.execute_input": "2022-08-19T00:46:57.635864Z",
     "iopub.status.busy": "2022-08-19T00:46:57.635080Z",
     "iopub.status.idle": "2022-08-19T00:46:57.650448Z",
     "shell.execute_reply": "2022-08-19T00:46:57.649575Z"
    },
    "papermill": {
     "duration": 0.077124,
     "end_time": "2022-08-19T00:46:57.650598",
     "exception": false,
     "start_time": "2022-08-19T00:46:57.573474",
     "status": "completed"
    },
    "tags": []
   },
   "outputs": [],
   "source": [
    "model_prob = Model(layers[-2:]) "
   ]
  },
  {
   "cell_type": "code",
   "execution_count": 28,
   "id": "9b96e238",
   "metadata": {
    "execution": {
     "iopub.execute_input": "2022-08-19T00:46:57.778142Z",
     "iopub.status.busy": "2022-08-19T00:46:57.777395Z",
     "iopub.status.idle": "2022-08-19T00:46:57.794133Z",
     "shell.execute_reply": "2022-08-19T00:46:57.794650Z"
    },
    "papermill": {
     "duration": 0.084472,
     "end_time": "2022-08-19T00:46:57.794810",
     "exception": false,
     "start_time": "2022-08-19T00:46:57.710338",
     "status": "completed"
    },
    "tags": []
   },
   "outputs": [],
   "source": [
    "#creating the x and y ranges according to the above generated plot.\n",
    "x_range = np.linspace(-4, 1, 100) \n",
    "y_range = np.linspace(-6, 6, 100) \n",
    "x_grid, y_grid = np.meshgrid(x_range, y_range) # x_grid and y_grig are of size 100 X 100\n",
    "\n",
    "# converting x_grid and y_grid to continuous arrays\n",
    "x_gridflat = np.ravel(x_grid)\n",
    "y_gridflat = np.ravel(y_grid)\n",
    "\n",
    "# The last layer of the current model takes two columns as input. Hence transpose of np.vstack() is required.\n",
    "X = np.vstack((x_gridflat, y_gridflat)).T\n",
    "\n",
    "prob_contour = model_prob(X).reshape(100,100) "
   ]
  },
  {
   "cell_type": "code",
   "execution_count": 29,
   "id": "da72499a",
   "metadata": {
    "execution": {
     "iopub.execute_input": "2022-08-19T00:46:57.914427Z",
     "iopub.status.busy": "2022-08-19T00:46:57.913570Z",
     "iopub.status.idle": "2022-08-19T00:46:58.239603Z",
     "shell.execute_reply": "2022-08-19T00:46:58.239080Z"
    },
    "papermill": {
     "duration": 0.392428,
     "end_time": "2022-08-19T00:46:58.239725",
     "exception": false,
     "start_time": "2022-08-19T00:46:57.847297",
     "status": "completed"
    },
    "tags": []
   },
   "outputs": [
    {
     "data": {
      "image/png": "[encoded data removed]",
      "text/plain": [
       "<Figure size 720x648 with 1 Axes>"
      ]
     },
     "metadata": {
      "needs_background": "light"
     },
     "output_type": "display_data"
    }
   ],
   "source": [
    "plt.figure(figsize=(10,9))\n",
    "plt.scatter(testing_plot[:,0], testing_plot[:,1], alpha = 0.1, c = y_test.ravel())\n",
    "contours = plt.contour(x_grid,y_grid,prob_contour)\n",
    "plt.title('Probability Contours')\n",
    "plt.clabel(contours, inline = True );"
   ]
  },
  {
   "cell_type": "code",
   "execution_count": null,
   "id": "e81b4ac7",
   "metadata": {
    "papermill": {
     "duration": 0.050882,
     "end_time": "2022-08-19T00:46:58.345027",
     "exception": false,
     "start_time": "2022-08-19T00:46:58.294145",
     "status": "completed"
    },
    "tags": []
   },
   "outputs": [],
   "source": []
  }
 ],
 "metadata": {
  "kernelspec": {
   "display_name": "Python 3",
   "language": "python",
   "name": "python3"
  },
  "language_info": {
   "codemirror_mode": {
    "name": "ipython",
    "version": 3
   },
   "file_extension": ".py",
   "mimetype": "text/x-python",
   "name": "python",
   "nbconvert_exporter": "python",
   "pygments_lexer": "ipython3",
   "version": "3.6.15"
  },
  "papermill": {
   "default_parameters": {},
   "duration": 175.174768,
   "end_time": "2022-08-19T00:46:58.817960",
   "environment_variables": {},
   "exception": null,
   "input_path": "2020-08-11-part2.ipynb",
   "output_path": "2020-08-11-part2.ipynb",
   "parameters": {},
   "start_time": "2022-08-19T00:44:03.643192",
   "version": "2.3.3"
  }
 },
 "nbformat": 4,
 "nbformat_minor": 5
}