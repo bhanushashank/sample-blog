{
 "cells": [
  {
   "cell_type": "markdown",
   "id": "98380cd3",
   "metadata": {
    "papermill": {
     "duration": 0.035741,
     "end_time": "2021-08-27T00:21:41.810929",
     "exception": false,
     "start_time": "2021-08-27T00:21:41.775188",
     "status": "completed"
    },
    "tags": []
   },
   "source": [
    "# Distinguish Your Own Digits (DYOD)"
   ]
  },
  {
   "cell_type": "markdown",
   "id": "ef31240d",
   "metadata": {
    "papermill": {
     "duration": 0.029029,
     "end_time": "2021-08-27T00:21:41.871552",
     "exception": false,
     "start_time": "2021-08-27T00:21:41.842523",
     "status": "completed"
    },
    "tags": []
   },
   "source": [
    "You are going to write a classifier that distinguishes between the number 3 and number 8."
   ]
  },
  {
   "cell_type": "code",
   "execution_count": 1,
   "id": "b15c8646",
   "metadata": {
    "execution": {
     "iopub.execute_input": "2021-08-27T00:21:41.943741Z",
     "iopub.status.busy": "2021-08-27T00:21:41.942879Z",
     "iopub.status.idle": "2021-08-27T00:21:41.954468Z",
     "shell.execute_reply": "2021-08-27T00:21:41.953868Z"
    },
    "papermill": {
     "duration": 0.053831,
     "end_time": "2021-08-27T00:21:41.954642",
     "exception": false,
     "start_time": "2021-08-27T00:21:41.900811",
     "status": "completed"
    },
    "tags": []
   },
   "outputs": [],
   "source": [
    "%load_ext autoreload\n",
    "%autoreload 2"
   ]
  },
  {
   "cell_type": "code",
   "execution_count": 2,
   "id": "22ef38dc",
   "metadata": {
    "execution": {
     "iopub.execute_input": "2021-08-27T00:21:42.021653Z",
     "iopub.status.busy": "2021-08-27T00:21:42.020941Z",
     "iopub.status.idle": "2021-08-27T00:21:42.598926Z",
     "shell.execute_reply": "2021-08-27T00:21:42.599479Z"
    },
    "papermill": {
     "duration": 0.614437,
     "end_time": "2021-08-27T00:21:42.599665",
     "exception": false,
     "start_time": "2021-08-27T00:21:41.985228",
     "status": "completed"
    },
    "tags": []
   },
   "outputs": [],
   "source": [
    "%matplotlib inline\n",
    "import numpy as np\n",
    "import matplotlib.pyplot as plt\n",
    "import pandas as pd"
   ]
  },
  {
   "cell_type": "markdown",
   "id": "ba036198",
   "metadata": {
    "papermill": {
     "duration": 0.031581,
     "end_time": "2021-08-27T00:21:42.662175",
     "exception": false,
     "start_time": "2021-08-27T00:21:42.630594",
     "status": "completed"
    },
    "tags": []
   },
   "source": [
    "From the command line run `pip install mnist`. This is a library that will help you bring down the mnist dataset. If you run this from a notebook, you need to put  `!pip install mnist` in a cell by itself."
   ]
  },
  {
   "cell_type": "code",
   "execution_count": 3,
   "id": "bb6ad8a1",
   "metadata": {
    "execution": {
     "iopub.execute_input": "2021-08-27T00:21:42.731472Z",
     "iopub.status.busy": "2021-08-27T00:21:42.730770Z",
     "iopub.status.idle": "2021-08-27T00:21:45.526923Z",
     "shell.execute_reply": "2021-08-27T00:21:45.526262Z"
    },
    "papermill": {
     "duration": 2.83198,
     "end_time": "2021-08-27T00:21:45.527094",
     "exception": false,
     "start_time": "2021-08-27T00:21:42.695114",
     "status": "completed"
    },
    "tags": []
   },
   "outputs": [
    {
     "name": "stdout",
     "output_type": "stream",
     "text": [
      "Collecting mnist\r\n"
     ]
    },
    {
     "name": "stdout",
     "output_type": "stream",
     "text": [
      "  Downloading mnist-0.2.2-py2.py3-none-any.whl (3.5 kB)\r\n",
      "Requirement already satisfied: numpy in /opt/hostedtoolcache/Python/3.6.14/x64/lib/python3.6/site-packages (from mnist) (1.19.5)\r\n"
     ]
    },
    {
     "name": "stdout",
     "output_type": "stream",
     "text": [
      "Installing collected packages: mnist\r\n"
     ]
    },
    {
     "name": "stdout",
     "output_type": "stream",
     "text": [
      "Successfully installed mnist-0.2.2\r\n"
     ]
    }
   ],
   "source": [
    "!pip install mnist"
   ]
  },
  {
   "cell_type": "markdown",
   "id": "69df9c9a",
   "metadata": {
    "papermill": {
     "duration": 0.030686,
     "end_time": "2021-08-27T00:21:45.589271",
     "exception": false,
     "start_time": "2021-08-27T00:21:45.558585",
     "status": "completed"
    },
    "tags": []
   },
   "source": [
    "## Preparing the Data"
   ]
  },
  {
   "cell_type": "code",
   "execution_count": 4,
   "id": "7f69d806",
   "metadata": {
    "execution": {
     "iopub.execute_input": "2021-08-27T00:21:45.664732Z",
     "iopub.status.busy": "2021-08-27T00:21:45.656357Z",
     "iopub.status.idle": "2021-08-27T00:21:45.671871Z",
     "shell.execute_reply": "2021-08-27T00:21:45.672428Z"
    },
    "papermill": {
     "duration": 0.053467,
     "end_time": "2021-08-27T00:21:45.672634",
     "exception": false,
     "start_time": "2021-08-27T00:21:45.619167",
     "status": "completed"
    },
    "tags": []
   },
   "outputs": [],
   "source": [
    "import mnist"
   ]
  },
  {
   "cell_type": "code",
   "execution_count": 5,
   "id": "a411e44f",
   "metadata": {
    "execution": {
     "iopub.execute_input": "2021-08-27T00:21:45.751873Z",
     "iopub.status.busy": "2021-08-27T00:21:45.743655Z",
     "iopub.status.idle": "2021-08-27T00:21:46.392346Z",
     "shell.execute_reply": "2021-08-27T00:21:46.391422Z"
    },
    "papermill": {
     "duration": 0.687335,
     "end_time": "2021-08-27T00:21:46.392510",
     "exception": false,
     "start_time": "2021-08-27T00:21:45.705175",
     "status": "completed"
    },
    "tags": []
   },
   "outputs": [],
   "source": [
    "train_images = mnist.train_images()\n",
    "train_labels = mnist.train_labels()"
   ]
  },
  {
   "cell_type": "code",
   "execution_count": 6,
   "id": "dceab3a5",
   "metadata": {
    "execution": {
     "iopub.execute_input": "2021-08-27T00:21:46.475718Z",
     "iopub.status.busy": "2021-08-27T00:21:46.462449Z",
     "iopub.status.idle": "2021-08-27T00:21:46.479755Z",
     "shell.execute_reply": "2021-08-27T00:21:46.480346Z"
    },
    "papermill": {
     "duration": 0.053933,
     "end_time": "2021-08-27T00:21:46.480529",
     "exception": false,
     "start_time": "2021-08-27T00:21:46.426596",
     "status": "completed"
    },
    "tags": []
   },
   "outputs": [
    {
     "data": {
      "text/plain": [
       "((60000, 28, 28), (60000,))"
      ]
     },
     "execution_count": 6,
     "metadata": {},
     "output_type": "execute_result"
    }
   ],
   "source": [
    "train_images.shape, train_labels.shape"
   ]
  },
  {
   "cell_type": "code",
   "execution_count": 7,
   "id": "f50dc2bb",
   "metadata": {
    "execution": {
     "iopub.execute_input": "2021-08-27T00:21:46.564091Z",
     "iopub.status.busy": "2021-08-27T00:21:46.563387Z",
     "iopub.status.idle": "2021-08-27T00:21:46.805057Z",
     "shell.execute_reply": "2021-08-27T00:21:46.804349Z"
    },
    "papermill": {
     "duration": 0.291134,
     "end_time": "2021-08-27T00:21:46.805190",
     "exception": false,
     "start_time": "2021-08-27T00:21:46.514056",
     "status": "completed"
    },
    "tags": []
   },
   "outputs": [],
   "source": [
    "test_images = mnist.test_images()\n",
    "test_labels = mnist.test_labels()"
   ]
  },
  {
   "cell_type": "code",
   "execution_count": 8,
   "id": "fc38cf1b",
   "metadata": {
    "execution": {
     "iopub.execute_input": "2021-08-27T00:21:46.873252Z",
     "iopub.status.busy": "2021-08-27T00:21:46.872632Z",
     "iopub.status.idle": "2021-08-27T00:21:46.887408Z",
     "shell.execute_reply": "2021-08-27T00:21:46.886857Z"
    },
    "papermill": {
     "duration": 0.047699,
     "end_time": "2021-08-27T00:21:46.887527",
     "exception": false,
     "start_time": "2021-08-27T00:21:46.839828",
     "status": "completed"
    },
    "tags": []
   },
   "outputs": [
    {
     "data": {
      "text/plain": [
       "((10000, 28, 28), (10000,))"
      ]
     },
     "execution_count": 8,
     "metadata": {},
     "output_type": "execute_result"
    }
   ],
   "source": [
    "test_images.shape, test_labels.shape"
   ]
  },
  {
   "cell_type": "code",
   "execution_count": 9,
   "id": "f9ed8fe0",
   "metadata": {
    "execution": {
     "iopub.execute_input": "2021-08-27T00:21:46.956839Z",
     "iopub.status.busy": "2021-08-27T00:21:46.956164Z",
     "iopub.status.idle": "2021-08-27T00:21:47.132961Z",
     "shell.execute_reply": "2021-08-27T00:21:47.132411Z"
    },
    "papermill": {
     "duration": 0.21647,
     "end_time": "2021-08-27T00:21:47.133109",
     "exception": false,
     "start_time": "2021-08-27T00:21:46.916639",
     "status": "completed"
    },
    "tags": []
   },
   "outputs": [
    {
     "name": "stdout",
     "output_type": "stream",
     "text": [
      "2\n"
     ]
    },
    {
     "data": {
      "text/plain": [
       "<matplotlib.image.AxesImage at 0x7f0b4c60c978>"
      ]
     },
     "execution_count": 9,
     "metadata": {},
     "output_type": "execute_result"
    },
    {
     "data": {
      "image/png": "[encoded data removed]",
      "text/plain": [
       "<Figure size 432x288 with 1 Axes>"
      ]
     },
     "metadata": {
      "needs_background": "light"
     },
     "output_type": "display_data"
    }
   ],
   "source": [
    "image_index = 7776 # You may select anything up to 60,000\n",
    "print(train_labels[image_index]) \n",
    "plt.imshow(train_images[image_index], cmap='Greys')"
   ]
  },
  {
   "cell_type": "markdown",
   "id": "a8d2388d",
   "metadata": {
    "papermill": {
     "duration": 0.033737,
     "end_time": "2021-08-27T00:21:47.199506",
     "exception": false,
     "start_time": "2021-08-27T00:21:47.165769",
     "status": "completed"
    },
    "tags": []
   },
   "source": [
    "## Filter data to get 3 and 8 out"
   ]
  },
  {
   "cell_type": "code",
   "execution_count": 10,
   "id": "776f7fc7",
   "metadata": {
    "execution": {
     "iopub.execute_input": "2021-08-27T00:21:47.270152Z",
     "iopub.status.busy": "2021-08-27T00:21:47.269444Z",
     "iopub.status.idle": "2021-08-27T00:21:47.289126Z",
     "shell.execute_reply": "2021-08-27T00:21:47.289647Z"
    },
    "papermill": {
     "duration": 0.057796,
     "end_time": "2021-08-27T00:21:47.289811",
     "exception": false,
     "start_time": "2021-08-27T00:21:47.232015",
     "status": "completed"
    },
    "tags": []
   },
   "outputs": [],
   "source": [
    "train_filter = np.where((train_labels == 3 ) | (train_labels == 8))\n",
    "test_filter = np.where((test_labels == 3) | (test_labels == 8))\n",
    "X_train, y_train = train_images[train_filter], train_labels[train_filter]\n",
    "X_test, y_test = test_images[test_filter], test_labels[test_filter]"
   ]
  },
  {
   "cell_type": "markdown",
   "id": "948f0b7e",
   "metadata": {
    "papermill": {
     "duration": 0.033609,
     "end_time": "2021-08-27T00:21:47.354982",
     "exception": false,
     "start_time": "2021-08-27T00:21:47.321373",
     "status": "completed"
    },
    "tags": []
   },
   "source": [
    "We normalize the pizel values in the 0 to 1 range"
   ]
  },
  {
   "cell_type": "code",
   "execution_count": 11,
   "id": "ee4c2166",
   "metadata": {
    "execution": {
     "iopub.execute_input": "2021-08-27T00:21:47.427983Z",
     "iopub.status.busy": "2021-08-27T00:21:47.427325Z",
     "iopub.status.idle": "2021-08-27T00:21:47.491050Z",
     "shell.execute_reply": "2021-08-27T00:21:47.490448Z"
    },
    "papermill": {
     "duration": 0.101943,
     "end_time": "2021-08-27T00:21:47.491204",
     "exception": false,
     "start_time": "2021-08-27T00:21:47.389261",
     "status": "completed"
    },
    "tags": []
   },
   "outputs": [],
   "source": [
    "X_train = X_train/255.\n",
    "X_test = X_test/255."
   ]
  },
  {
   "cell_type": "markdown",
   "id": "ddcf4fab",
   "metadata": {
    "papermill": {
     "duration": 0.033197,
     "end_time": "2021-08-27T00:21:47.558231",
     "exception": false,
     "start_time": "2021-08-27T00:21:47.525034",
     "status": "completed"
    },
    "tags": []
   },
   "source": [
    "And setup the labels as 1 (when the digit is 3) and 0 (when the digit is 8)"
   ]
  },
  {
   "cell_type": "code",
   "execution_count": 12,
   "id": "7dc908f2",
   "metadata": {
    "execution": {
     "iopub.execute_input": "2021-08-27T00:21:47.630849Z",
     "iopub.status.busy": "2021-08-27T00:21:47.630150Z",
     "iopub.status.idle": "2021-08-27T00:21:47.643679Z",
     "shell.execute_reply": "2021-08-27T00:21:47.643111Z"
    },
    "papermill": {
     "duration": 0.051512,
     "end_time": "2021-08-27T00:21:47.643827",
     "exception": false,
     "start_time": "2021-08-27T00:21:47.592315",
     "status": "completed"
    },
    "tags": []
   },
   "outputs": [],
   "source": [
    "y_train = 1*(y_train==3)\n",
    "y_test = 1*(y_test==3)"
   ]
  },
  {
   "cell_type": "code",
   "execution_count": 13,
   "id": "01e4e969",
   "metadata": {
    "execution": {
     "iopub.execute_input": "2021-08-27T00:21:47.713618Z",
     "iopub.status.busy": "2021-08-27T00:21:47.712984Z",
     "iopub.status.idle": "2021-08-27T00:21:47.726835Z",
     "shell.execute_reply": "2021-08-27T00:21:47.727353Z"
    },
    "papermill": {
     "duration": 0.049932,
     "end_time": "2021-08-27T00:21:47.727506",
     "exception": false,
     "start_time": "2021-08-27T00:21:47.677574",
     "status": "completed"
    },
    "tags": []
   },
   "outputs": [
    {
     "data": {
      "text/plain": [
       "((11982, 28, 28), (1984, 28, 28))"
      ]
     },
     "execution_count": 13,
     "metadata": {},
     "output_type": "execute_result"
    }
   ],
   "source": [
    "X_train.shape, X_test.shape"
   ]
  },
  {
   "cell_type": "markdown",
   "id": "5ccf3f85",
   "metadata": {
    "papermill": {
     "duration": 0.034689,
     "end_time": "2021-08-27T00:21:47.795873",
     "exception": false,
     "start_time": "2021-08-27T00:21:47.761184",
     "status": "completed"
    },
    "tags": []
   },
   "source": [
    "We reshape the data to flatten the image pixels into a set of features or co-variates:"
   ]
  },
  {
   "cell_type": "code",
   "execution_count": 14,
   "id": "5286a4a3",
   "metadata": {
    "execution": {
     "iopub.execute_input": "2021-08-27T00:21:47.868630Z",
     "iopub.status.busy": "2021-08-27T00:21:47.867959Z",
     "iopub.status.idle": "2021-08-27T00:21:47.884273Z",
     "shell.execute_reply": "2021-08-27T00:21:47.883690Z"
    },
    "papermill": {
     "duration": 0.054398,
     "end_time": "2021-08-27T00:21:47.884414",
     "exception": false,
     "start_time": "2021-08-27T00:21:47.830016",
     "status": "completed"
    },
    "tags": []
   },
   "outputs": [
    {
     "data": {
      "text/plain": [
       "((11982, 784), (1984, 784))"
      ]
     },
     "execution_count": 14,
     "metadata": {},
     "output_type": "execute_result"
    }
   ],
   "source": [
    "X_train = X_train.reshape(X_train.shape[0], -1)\n",
    "X_test = X_test.reshape(X_test.shape[0], -1)\n",
    "X_train.shape, X_test.shape"
   ]
  },
  {
   "cell_type": "code",
   "execution_count": 15,
   "id": "73c5f88a",
   "metadata": {
    "execution": {
     "iopub.execute_input": "2021-08-27T00:21:47.976420Z",
     "iopub.status.busy": "2021-08-27T00:21:47.975721Z",
     "iopub.status.idle": "2021-08-27T00:21:47.994518Z",
     "shell.execute_reply": "2021-08-27T00:21:47.993818Z"
    },
    "papermill": {
     "duration": 0.062102,
     "end_time": "2021-08-27T00:21:47.994670",
     "exception": false,
     "start_time": "2021-08-27T00:21:47.932568",
     "status": "completed"
    },
    "tags": []
   },
   "outputs": [],
   "source": [
    "#Impoting functions from 'Kudzu'\n",
    "from kudzu.model import Model\n",
    "from kudzu.train import Learner\n",
    "from kudzu.optim import GD\n",
    "from kudzu.data import Data, Sampler,Dataloader\n",
    "\n",
    "from kudzu.callbacks import AccCallback\n",
    "from kudzu.callbacks import ClfCallback\n",
    "\n",
    "from kudzu.loss import MSE\n",
    "\n",
    "from kudzu.layer import Sigmoid,Relu\n",
    "from kudzu.layer import Affine"
   ]
  },
  {
   "cell_type": "markdown",
   "id": "bc01172a",
   "metadata": {
    "papermill": {
     "duration": 0.034166,
     "end_time": "2021-08-27T00:21:48.062036",
     "exception": false,
     "start_time": "2021-08-27T00:21:48.027870",
     "status": "completed"
    },
    "tags": []
   },
   "source": [
    "### Let us create a `Config` class, to store important parameters. \n",
    "This class essentially plays the role of a dictionary."
   ]
  },
  {
   "cell_type": "code",
   "execution_count": 16,
   "id": "978281aa",
   "metadata": {
    "execution": {
     "iopub.execute_input": "2021-08-27T00:21:48.131013Z",
     "iopub.status.busy": "2021-08-27T00:21:48.130274Z",
     "iopub.status.idle": "2021-08-27T00:21:48.142919Z",
     "shell.execute_reply": "2021-08-27T00:21:48.143509Z"
    },
    "papermill": {
     "duration": 0.04869,
     "end_time": "2021-08-27T00:21:48.143643",
     "exception": false,
     "start_time": "2021-08-27T00:21:48.094953",
     "status": "completed"
    },
    "tags": []
   },
   "outputs": [],
   "source": [
    "class Config:\n",
    "    pass\n",
    "config = Config()\n",
    "config.lr = 0.001\n",
    "config.num_epochs = 250\n",
    "config.bs = 50"
   ]
  },
  {
   "cell_type": "markdown",
   "id": "1385fa59",
   "metadata": {
    "papermill": {
     "duration": 0.030291,
     "end_time": "2021-08-27T00:21:48.207516",
     "exception": false,
     "start_time": "2021-08-27T00:21:48.177225",
     "status": "completed"
    },
    "tags": []
   },
   "source": [
    "### Running Models with the Training data\n",
    "Details about the network layers:\n",
    "- A first affine layer has 784 inputs and does 100 affine transforms. These are followed by a Relu\n",
    "- A second affine layer has 100 inputs from the 100 activations of the past layer, and does 100 affine transforms. These are followed by a Relu\n",
    "- A third affine layer has 100 activations and does 2 affine transformations to create an embedding for visualization. There is no non-linearity here.\n",
    "- A final \"logistic regression\" which has an affine transform from 2 inputs to 1 output, which is squeezed through a sigmoid.\n"
   ]
  },
  {
   "cell_type": "code",
   "execution_count": 17,
   "id": "2b9c66db",
   "metadata": {
    "execution": {
     "iopub.execute_input": "2021-08-27T00:21:48.273916Z",
     "iopub.status.busy": "2021-08-27T00:21:48.273296Z",
     "iopub.status.idle": "2021-08-27T00:21:48.286367Z",
     "shell.execute_reply": "2021-08-27T00:21:48.287163Z"
    },
    "papermill": {
     "duration": 0.048292,
     "end_time": "2021-08-27T00:21:48.287314",
     "exception": false,
     "start_time": "2021-08-27T00:21:48.239022",
     "status": "completed"
    },
    "tags": []
   },
   "outputs": [],
   "source": [
    "data = Data(X_train, y_train.reshape(-1,1))\n",
    "sampler = Sampler(data, config.bs, shuffle=True)\n",
    "\n",
    "dl = Dataloader(data, sampler)\n",
    "\n",
    "opt = GD(config.lr)\n",
    "loss = MSE()"
   ]
  },
  {
   "cell_type": "code",
   "execution_count": 18,
   "id": "b275e4c2",
   "metadata": {
    "execution": {
     "iopub.execute_input": "2021-08-27T00:21:48.356545Z",
     "iopub.status.busy": "2021-08-27T00:21:48.355888Z",
     "iopub.status.idle": "2021-08-27T00:21:48.372200Z",
     "shell.execute_reply": "2021-08-27T00:21:48.371669Z"
    },
    "papermill": {
     "duration": 0.052605,
     "end_time": "2021-08-27T00:21:48.372325",
     "exception": false,
     "start_time": "2021-08-27T00:21:48.319720",
     "status": "completed"
    },
    "tags": []
   },
   "outputs": [],
   "source": [
    "training_data_x = X_train\n",
    "testing_data_x = X_test\n",
    "training_data_y = y_train.reshape(-1,1)\n",
    "testing_data_y = y_test.reshape(-1,1)"
   ]
  },
  {
   "cell_type": "code",
   "execution_count": 19,
   "id": "76951160",
   "metadata": {
    "execution": {
     "iopub.execute_input": "2021-08-27T00:21:48.460092Z",
     "iopub.status.busy": "2021-08-27T00:21:48.455424Z",
     "iopub.status.idle": "2021-08-27T00:21:48.465596Z",
     "shell.execute_reply": "2021-08-27T00:21:48.465011Z"
    },
    "papermill": {
     "duration": 0.06168,
     "end_time": "2021-08-27T00:21:48.465717",
     "exception": false,
     "start_time": "2021-08-27T00:21:48.404037",
     "status": "completed"
    },
    "tags": []
   },
   "outputs": [
    {
     "name": "stdout",
     "output_type": "stream",
     "text": [
      "xavier\n",
      "xavier\n",
      "xavier\n",
      "xavier\n",
      "xavier\n"
     ]
    }
   ],
   "source": [
    "layers = [Affine(\"first\", 784, 100), Relu(\"first\"), Affine(\"second\", 100, 100), Relu(\"second\"), Affine(\"third\", 100, 2), Affine(\"last\", 2, 1), Sigmoid(\"last\")]\n",
    "model_nn = Model(layers)\n",
    "model_lr = Model([Affine(\"logits\", 784, 1), Sigmoid(\"sigmoid\")])"
   ]
  },
  {
   "cell_type": "code",
   "execution_count": 20,
   "id": "6eede77a",
   "metadata": {
    "execution": {
     "iopub.execute_input": "2021-08-27T00:21:48.536668Z",
     "iopub.status.busy": "2021-08-27T00:21:48.535940Z",
     "iopub.status.idle": "2021-08-27T00:21:48.549083Z",
     "shell.execute_reply": "2021-08-27T00:21:48.548573Z"
    },
    "papermill": {
     "duration": 0.051119,
     "end_time": "2021-08-27T00:21:48.549235",
     "exception": false,
     "start_time": "2021-08-27T00:21:48.498116",
     "status": "completed"
    },
    "tags": []
   },
   "outputs": [],
   "source": [
    "nn_learner = Learner(loss, model_nn, opt, config.num_epochs)\n",
    "acc_nn = ClfCallback(nn_learner, config.bs, training_data_x , testing_data_x, training_data_y, testing_data_y)\n",
    "nn_learner.set_callbacks([acc_nn])"
   ]
  },
  {
   "cell_type": "code",
   "execution_count": 21,
   "id": "877b6cc7",
   "metadata": {
    "execution": {
     "iopub.execute_input": "2021-08-27T00:21:48.636676Z",
     "iopub.status.busy": "2021-08-27T00:21:48.631533Z",
     "iopub.status.idle": "2021-08-27T00:21:48.639744Z",
     "shell.execute_reply": "2021-08-27T00:21:48.639189Z"
    },
    "papermill": {
     "duration": 0.055439,
     "end_time": "2021-08-27T00:21:48.639875",
     "exception": false,
     "start_time": "2021-08-27T00:21:48.584436",
     "status": "completed"
    },
    "tags": []
   },
   "outputs": [],
   "source": [
    "lr_learner = Learner(loss, model_lr, opt, config.num_epochs)\n",
    "acc_lr = ClfCallback(lr_learner, config.bs, training_data_x , testing_data_x, training_data_y, testing_data_y)\n",
    "lr_learner.set_callbacks([acc_lr])"
   ]
  },
  {
   "cell_type": "code",
   "execution_count": 22,
   "id": "d9b133c3",
   "metadata": {
    "execution": {
     "iopub.execute_input": "2021-08-27T00:21:48.717597Z",
     "iopub.status.busy": "2021-08-27T00:21:48.716927Z",
     "iopub.status.idle": "2021-08-27T00:23:56.243287Z",
     "shell.execute_reply": "2021-08-27T00:23:56.244174Z"
    },
    "papermill": {
     "duration": 127.568581,
     "end_time": "2021-08-27T00:23:56.244354",
     "exception": false,
     "start_time": "2021-08-27T00:21:48.675773",
     "status": "completed"
    },
    "tags": []
   },
   "outputs": [
    {
     "name": "stdout",
     "output_type": "stream",
     "text": [
      "Epoch 0, Loss 0.2458\n",
      "Training Accuracy: 0.5991, Testing Accuracy: 0.6215\n",
      "\n"
     ]
    },
    {
     "name": "stdout",
     "output_type": "stream",
     "text": [
      "Epoch 10, Loss 0.1925\n",
      "Training Accuracy: 0.8808, Testing Accuracy: 0.8911\n",
      "\n"
     ]
    },
    {
     "name": "stdout",
     "output_type": "stream",
     "text": [
      "Epoch 20, Loss 0.0951\n",
      "Training Accuracy: 0.9125, Testing Accuracy: 0.9229\n",
      "\n"
     ]
    },
    {
     "name": "stdout",
     "output_type": "stream",
     "text": [
      "Epoch 30, Loss 0.0613\n",
      "Training Accuracy: 0.9331, Testing Accuracy: 0.9415\n",
      "\n"
     ]
    },
    {
     "name": "stdout",
     "output_type": "stream",
     "text": [
      "Epoch 40, Loss 0.0485\n",
      "Training Accuracy: 0.9439, Testing Accuracy: 0.9526\n",
      "\n"
     ]
    },
    {
     "name": "stdout",
     "output_type": "stream",
     "text": [
      "Epoch 50, Loss 0.0419\n",
      "Training Accuracy: 0.9511, Testing Accuracy: 0.9582\n",
      "\n"
     ]
    },
    {
     "name": "stdout",
     "output_type": "stream",
     "text": [
      "Epoch 60, Loss 0.0379\n",
      "Training Accuracy: 0.9545, Testing Accuracy: 0.9612\n",
      "\n"
     ]
    },
    {
     "name": "stdout",
     "output_type": "stream",
     "text": [
      "Epoch 70, Loss 0.0351\n",
      "Training Accuracy: 0.9584, Testing Accuracy: 0.9637\n",
      "\n"
     ]
    },
    {
     "name": "stdout",
     "output_type": "stream",
     "text": [
      "Epoch 80, Loss 0.033\n",
      "Training Accuracy: 0.9610, Testing Accuracy: 0.9652\n",
      "\n"
     ]
    },
    {
     "name": "stdout",
     "output_type": "stream",
     "text": [
      "Epoch 90, Loss 0.0313\n",
      "Training Accuracy: 0.9625, Testing Accuracy: 0.9657\n",
      "\n"
     ]
    },
    {
     "name": "stdout",
     "output_type": "stream",
     "text": [
      "Epoch 100, Loss 0.03\n",
      "Training Accuracy: 0.9645, Testing Accuracy: 0.9657\n",
      "\n"
     ]
    },
    {
     "name": "stdout",
     "output_type": "stream",
     "text": [
      "Epoch 110, Loss 0.0288\n",
      "Training Accuracy: 0.9658, Testing Accuracy: 0.9667\n",
      "\n"
     ]
    },
    {
     "name": "stdout",
     "output_type": "stream",
     "text": [
      "Epoch 120, Loss 0.0278\n",
      "Training Accuracy: 0.9670, Testing Accuracy: 0.9677\n",
      "\n"
     ]
    },
    {
     "name": "stdout",
     "output_type": "stream",
     "text": [
      "Epoch 130, Loss 0.027\n",
      "Training Accuracy: 0.9685, Testing Accuracy: 0.9682\n",
      "\n"
     ]
    },
    {
     "name": "stdout",
     "output_type": "stream",
     "text": [
      "Epoch 140, Loss 0.0262\n",
      "Training Accuracy: 0.9696, Testing Accuracy: 0.9688\n",
      "\n"
     ]
    },
    {
     "name": "stdout",
     "output_type": "stream",
     "text": [
      "Epoch 150, Loss 0.0255\n",
      "Training Accuracy: 0.9710, Testing Accuracy: 0.9682\n",
      "\n"
     ]
    },
    {
     "name": "stdout",
     "output_type": "stream",
     "text": [
      "Epoch 160, Loss 0.0248\n",
      "Training Accuracy: 0.9717, Testing Accuracy: 0.9693\n",
      "\n"
     ]
    },
    {
     "name": "stdout",
     "output_type": "stream",
     "text": [
      "Epoch 170, Loss 0.0242\n",
      "Training Accuracy: 0.9726, Testing Accuracy: 0.9698\n",
      "\n"
     ]
    },
    {
     "name": "stdout",
     "output_type": "stream",
     "text": [
      "Epoch 180, Loss 0.0237\n",
      "Training Accuracy: 0.9730, Testing Accuracy: 0.9698\n",
      "\n"
     ]
    },
    {
     "name": "stdout",
     "output_type": "stream",
     "text": [
      "Epoch 190, Loss 0.0232\n",
      "Training Accuracy: 0.9737, Testing Accuracy: 0.9698\n",
      "\n"
     ]
    },
    {
     "name": "stdout",
     "output_type": "stream",
     "text": [
      "Epoch 200, Loss 0.0227\n",
      "Training Accuracy: 0.9744, Testing Accuracy: 0.9698\n",
      "\n"
     ]
    },
    {
     "name": "stdout",
     "output_type": "stream",
     "text": [
      "Epoch 210, Loss 0.0222\n",
      "Training Accuracy: 0.9750, Testing Accuracy: 0.9698\n",
      "\n"
     ]
    },
    {
     "name": "stdout",
     "output_type": "stream",
     "text": [
      "Epoch 220, Loss 0.0218\n",
      "Training Accuracy: 0.9755, Testing Accuracy: 0.9708\n",
      "\n"
     ]
    },
    {
     "name": "stdout",
     "output_type": "stream",
     "text": [
      "Epoch 230, Loss 0.0214\n",
      "Training Accuracy: 0.9756, Testing Accuracy: 0.9713\n",
      "\n"
     ]
    },
    {
     "name": "stdout",
     "output_type": "stream",
     "text": [
      "Epoch 240, Loss 0.021\n",
      "Training Accuracy: 0.9761, Testing Accuracy: 0.9713\n",
      "\n"
     ]
    },
    {
     "data": {
      "text/plain": [
       "0.010165492840844883"
      ]
     },
     "execution_count": 22,
     "metadata": {},
     "output_type": "execute_result"
    }
   ],
   "source": [
    "nn_learner.train_loop(dl)"
   ]
  },
  {
   "cell_type": "code",
   "execution_count": 23,
   "id": "e0163366",
   "metadata": {
    "execution": {
     "iopub.execute_input": "2021-08-27T00:23:56.344879Z",
     "iopub.status.busy": "2021-08-27T00:23:56.344193Z",
     "iopub.status.idle": "2021-08-27T00:24:14.971226Z",
     "shell.execute_reply": "2021-08-27T00:24:14.972117Z"
    },
    "papermill": {
     "duration": 18.681334,
     "end_time": "2021-08-27T00:24:14.972302",
     "exception": false,
     "start_time": "2021-08-27T00:23:56.290968",
     "status": "completed"
    },
    "tags": []
   },
   "outputs": [
    {
     "name": "stdout",
     "output_type": "stream",
     "text": [
      "Epoch 0, Loss 0.2499\n",
      "Training Accuracy: 0.6498, Testing Accuracy: 0.6462\n",
      "\n"
     ]
    },
    {
     "name": "stdout",
     "output_type": "stream",
     "text": [
      "Epoch 10, Loss 0.1077\n",
      "Training Accuracy: 0.8979, Testing Accuracy: 0.9108\n",
      "\n"
     ]
    },
    {
     "name": "stdout",
     "output_type": "stream",
     "text": [
      "Epoch 20, Loss 0.0817\n",
      "Training Accuracy: 0.9219, Testing Accuracy: 0.9365\n",
      "\n"
     ]
    },
    {
     "name": "stdout",
     "output_type": "stream",
     "text": [
      "Epoch 30, Loss 0.0699\n",
      "Training Accuracy: 0.9321, Testing Accuracy: 0.9461\n",
      "\n"
     ]
    },
    {
     "name": "stdout",
     "output_type": "stream",
     "text": [
      "Epoch 40, Loss 0.0629\n",
      "Training Accuracy: 0.9385, Testing Accuracy: 0.9506\n",
      "\n"
     ]
    },
    {
     "name": "stdout",
     "output_type": "stream",
     "text": [
      "Epoch 50, Loss 0.0581\n",
      "Training Accuracy: 0.9419, Testing Accuracy: 0.9546\n",
      "\n"
     ]
    },
    {
     "name": "stdout",
     "output_type": "stream",
     "text": [
      "Epoch 60, Loss 0.0547\n",
      "Training Accuracy: 0.9446, Testing Accuracy: 0.9572\n",
      "\n"
     ]
    },
    {
     "name": "stdout",
     "output_type": "stream",
     "text": [
      "Epoch 70, Loss 0.052\n",
      "Training Accuracy: 0.9468, Testing Accuracy: 0.9572\n",
      "\n"
     ]
    },
    {
     "name": "stdout",
     "output_type": "stream",
     "text": [
      "Epoch 80, Loss 0.0499\n",
      "Training Accuracy: 0.9488, Testing Accuracy: 0.9582\n",
      "\n"
     ]
    },
    {
     "name": "stdout",
     "output_type": "stream",
     "text": [
      "Epoch 90, Loss 0.0481\n",
      "Training Accuracy: 0.9501, Testing Accuracy: 0.9592\n",
      "\n"
     ]
    },
    {
     "name": "stdout",
     "output_type": "stream",
     "text": [
      "Epoch 100, Loss 0.0466\n",
      "Training Accuracy: 0.9521, Testing Accuracy: 0.9602\n",
      "\n"
     ]
    },
    {
     "name": "stdout",
     "output_type": "stream",
     "text": [
      "Epoch 110, Loss 0.0454\n",
      "Training Accuracy: 0.9533, Testing Accuracy: 0.9622\n",
      "\n"
     ]
    },
    {
     "name": "stdout",
     "output_type": "stream",
     "text": [
      "Epoch 120, Loss 0.0443\n",
      "Training Accuracy: 0.9543, Testing Accuracy: 0.9642\n",
      "\n"
     ]
    },
    {
     "name": "stdout",
     "output_type": "stream",
     "text": [
      "Epoch 130, Loss 0.0433\n",
      "Training Accuracy: 0.9550, Testing Accuracy: 0.9642\n",
      "\n"
     ]
    },
    {
     "name": "stdout",
     "output_type": "stream",
     "text": [
      "Epoch 140, Loss 0.0425\n",
      "Training Accuracy: 0.9560, Testing Accuracy: 0.9647\n",
      "\n"
     ]
    },
    {
     "name": "stdout",
     "output_type": "stream",
     "text": [
      "Epoch 150, Loss 0.0417\n",
      "Training Accuracy: 0.9563, Testing Accuracy: 0.9652\n",
      "\n"
     ]
    },
    {
     "name": "stdout",
     "output_type": "stream",
     "text": [
      "Epoch 160, Loss 0.041\n",
      "Training Accuracy: 0.9568, Testing Accuracy: 0.9652\n",
      "\n"
     ]
    },
    {
     "name": "stdout",
     "output_type": "stream",
     "text": [
      "Epoch 170, Loss 0.0404\n",
      "Training Accuracy: 0.9573, Testing Accuracy: 0.9662\n",
      "\n"
     ]
    },
    {
     "name": "stdout",
     "output_type": "stream",
     "text": [
      "Epoch 180, Loss 0.0398\n",
      "Training Accuracy: 0.9582, Testing Accuracy: 0.9667\n",
      "\n"
     ]
    },
    {
     "name": "stdout",
     "output_type": "stream",
     "text": [
      "Epoch 190, Loss 0.0392\n",
      "Training Accuracy: 0.9586, Testing Accuracy: 0.9667\n",
      "\n"
     ]
    },
    {
     "name": "stdout",
     "output_type": "stream",
     "text": [
      "Epoch 200, Loss 0.0387\n",
      "Training Accuracy: 0.9592, Testing Accuracy: 0.9672\n",
      "\n"
     ]
    },
    {
     "name": "stdout",
     "output_type": "stream",
     "text": [
      "Epoch 210, Loss 0.0383\n",
      "Training Accuracy: 0.9599, Testing Accuracy: 0.9667\n",
      "\n"
     ]
    },
    {
     "name": "stdout",
     "output_type": "stream",
     "text": [
      "Epoch 220, Loss 0.0379\n",
      "Training Accuracy: 0.9602, Testing Accuracy: 0.9667\n",
      "\n"
     ]
    },
    {
     "name": "stdout",
     "output_type": "stream",
     "text": [
      "Epoch 230, Loss 0.0375\n",
      "Training Accuracy: 0.9604, Testing Accuracy: 0.9662\n",
      "\n"
     ]
    },
    {
     "name": "stdout",
     "output_type": "stream",
     "text": [
      "Epoch 240, Loss 0.0371\n",
      "Training Accuracy: 0.9609, Testing Accuracy: 0.9662\n",
      "\n"
     ]
    },
    {
     "data": {
      "text/plain": [
       "0.06385002544643335"
      ]
     },
     "execution_count": 23,
     "metadata": {},
     "output_type": "execute_result"
    }
   ],
   "source": [
    "lr_learner.train_loop(dl)"
   ]
  },
  {
   "cell_type": "code",
   "execution_count": 24,
   "id": "ca410940",
   "metadata": {
    "execution": {
     "iopub.execute_input": "2021-08-27T00:24:15.086978Z",
     "iopub.status.busy": "2021-08-27T00:24:15.086260Z",
     "iopub.status.idle": "2021-08-27T00:24:15.369720Z",
     "shell.execute_reply": "2021-08-27T00:24:15.368667Z"
    },
    "papermill": {
     "duration": 0.341916,
     "end_time": "2021-08-27T00:24:15.369851",
     "exception": false,
     "start_time": "2021-08-27T00:24:15.027935",
     "status": "completed"
    },
    "tags": []
   },
   "outputs": [
    {
     "data": {
      "text/plain": [
       "<matplotlib.legend.Legend at 0x7f0b4c172a58>"
      ]
     },
     "execution_count": 24,
     "metadata": {},
     "output_type": "execute_result"
    },
    {
     "data": {
      "image/png": "[encoded data removed]",
      "text/plain": [
       "<Figure size 1080x720 with 1 Axes>"
      ]
     },
     "metadata": {
      "needs_background": "light"
     },
     "output_type": "display_data"
    }
   ],
   "source": [
    "#comparing the results of NN and LR\n",
    "plt.figure(figsize=(15,10))\n",
    "\n",
    "# Neural Network plots\n",
    "plt.plot(acc_nn.accuracies, 'r-', label = \"Training Accuracies - NN\")\n",
    "plt.plot(acc_nn.test_accuracies, 'g-', label = \"Testing Accuracies - NN\")\n",
    "\n",
    "# Logistic Regression plots\n",
    "plt.plot(acc_lr.accuracies, 'k-', label = \"Training Accuracies - LR\")\n",
    "plt.plot(acc_lr.test_accuracies, 'b-', label = \"Testing Accuracies - LR\")\n",
    "plt.legend()"
   ]
  },
  {
   "cell_type": "markdown",
   "id": "80dfb35c",
   "metadata": {
    "papermill": {
     "duration": 0.048596,
     "end_time": "2021-08-27T00:24:15.468635",
     "exception": false,
     "start_time": "2021-08-27T00:24:15.420039",
     "status": "completed"
    },
    "tags": []
   },
   "source": [
    "#### Plotting the outputs of this layer of the NN.\n"
   ]
  },
  {
   "cell_type": "code",
   "execution_count": 25,
   "id": "45eb2ff5",
   "metadata": {
    "execution": {
     "iopub.execute_input": "2021-08-27T00:24:15.569995Z",
     "iopub.status.busy": "2021-08-27T00:24:15.569394Z",
     "iopub.status.idle": "2021-08-27T00:24:15.593936Z",
     "shell.execute_reply": "2021-08-27T00:24:15.594479Z"
    },
    "papermill": {
     "duration": 0.078905,
     "end_time": "2021-08-27T00:24:15.594656",
     "exception": false,
     "start_time": "2021-08-27T00:24:15.515751",
     "status": "completed"
    },
    "tags": []
   },
   "outputs": [],
   "source": [
    "new_model = Model(layers[:-2])\n",
    "testing_plot = new_model(testing_data_x)"
   ]
  },
  {
   "cell_type": "code",
   "execution_count": 26,
   "id": "4c0a5485",
   "metadata": {
    "execution": {
     "iopub.execute_input": "2021-08-27T00:24:15.705749Z",
     "iopub.status.busy": "2021-08-27T00:24:15.705051Z",
     "iopub.status.idle": "2021-08-27T00:24:15.953331Z",
     "shell.execute_reply": "2021-08-27T00:24:15.953914Z"
    },
    "papermill": {
     "duration": 0.308807,
     "end_time": "2021-08-27T00:24:15.954102",
     "exception": false,
     "start_time": "2021-08-27T00:24:15.645295",
     "status": "completed"
    },
    "tags": []
   },
   "outputs": [
    {
     "data": {
      "text/plain": [
       "Text(0.5, 1.0, 'Outputs')"
      ]
     },
     "execution_count": 26,
     "metadata": {},
     "output_type": "execute_result"
    },
    {
     "data": {
      "image/png": "[encoded data removed]",
      "text/plain": [
       "<Figure size 576x504 with 1 Axes>"
      ]
     },
     "metadata": {
      "needs_background": "light"
     },
     "output_type": "display_data"
    }
   ],
   "source": [
    "# Plotting the scatter plot of points and color coding by class\n",
    "plt.figure(figsize=(8,7))\n",
    "plt.scatter(testing_plot[:,0], testing_plot[:,1], alpha = 0.1, c = y_test.ravel());\n",
    "plt.title('Outputs')"
   ]
  },
  {
   "cell_type": "markdown",
   "id": "a74fcf8f",
   "metadata": {
    "papermill": {
     "duration": 0.055312,
     "end_time": "2021-08-27T00:24:16.065039",
     "exception": false,
     "start_time": "2021-08-27T00:24:16.009727",
     "status": "completed"
    },
    "tags": []
   },
   "source": [
    "Probability contours"
   ]
  },
  {
   "cell_type": "code",
   "execution_count": 27,
   "id": "d0afc8e3",
   "metadata": {
    "execution": {
     "iopub.execute_input": "2021-08-27T00:24:16.183092Z",
     "iopub.status.busy": "2021-08-27T00:24:16.178351Z",
     "iopub.status.idle": "2021-08-27T00:24:16.192749Z",
     "shell.execute_reply": "2021-08-27T00:24:16.193244Z"
    },
    "papermill": {
     "duration": 0.073299,
     "end_time": "2021-08-27T00:24:16.193407",
     "exception": false,
     "start_time": "2021-08-27T00:24:16.120108",
     "status": "completed"
    },
    "tags": []
   },
   "outputs": [],
   "source": [
    "model_prob = Model(layers[-2:]) "
   ]
  },
  {
   "cell_type": "code",
   "execution_count": 28,
   "id": "9b96e238",
   "metadata": {
    "execution": {
     "iopub.execute_input": "2021-08-27T00:24:16.347004Z",
     "iopub.status.busy": "2021-08-27T00:24:16.345072Z",
     "iopub.status.idle": "2021-08-27T00:24:16.362268Z",
     "shell.execute_reply": "2021-08-27T00:24:16.361686Z"
    },
    "papermill": {
     "duration": 0.113974,
     "end_time": "2021-08-27T00:24:16.362451",
     "exception": false,
     "start_time": "2021-08-27T00:24:16.248477",
     "status": "completed"
    },
    "tags": []
   },
   "outputs": [],
   "source": [
    "#creating the x and y ranges according to the above generated plot.\n",
    "x_range = np.linspace(-4, 1, 100) \n",
    "y_range = np.linspace(-6, 6, 100) \n",
    "x_grid, y_grid = np.meshgrid(x_range, y_range) # x_grid and y_grig are of size 100 X 100\n",
    "\n",
    "# converting x_grid and y_grid to continuous arrays\n",
    "x_gridflat = np.ravel(x_grid)\n",
    "y_gridflat = np.ravel(y_grid)\n",
    "\n",
    "# The last layer of the current model takes two columns as input. Hence transpose of np.vstack() is required.\n",
    "X = np.vstack((x_gridflat, y_gridflat)).T\n",
    "\n",
    "prob_contour = model_prob(X).reshape(100,100) "
   ]
  },
  {
   "cell_type": "code",
   "execution_count": 29,
   "id": "da72499a",
   "metadata": {
    "execution": {
     "iopub.execute_input": "2021-08-27T00:24:16.493916Z",
     "iopub.status.busy": "2021-08-27T00:24:16.493239Z",
     "iopub.status.idle": "2021-08-27T00:24:16.816677Z",
     "shell.execute_reply": "2021-08-27T00:24:16.817238Z"
    },
    "papermill": {
     "duration": 0.388842,
     "end_time": "2021-08-27T00:24:16.817424",
     "exception": false,
     "start_time": "2021-08-27T00:24:16.428582",
     "status": "completed"
    },
    "tags": []
   },
   "outputs": [
    {
     "data": {
      "image/png": "[encoded data removed]",
      "text/plain": [
       "<Figure size 720x648 with 1 Axes>"
      ]
     },
     "metadata": {
      "needs_background": "light"
     },
     "output_type": "display_data"
    }
   ],
   "source": [
    "plt.figure(figsize=(10,9))\n",
    "plt.scatter(testing_plot[:,0], testing_plot[:,1], alpha = 0.1, c = y_test.ravel())\n",
    "contours = plt.contour(x_grid,y_grid,prob_contour)\n",
    "plt.title('Probability Contours')\n",
    "plt.clabel(contours, inline = True );"
   ]
  },
  {
   "cell_type": "code",
   "execution_count": null,
   "id": "e81b4ac7",
   "metadata": {
    "papermill": {
     "duration": 0.060314,
     "end_time": "2021-08-27T00:24:16.937869",
     "exception": false,
     "start_time": "2021-08-27T00:24:16.877555",
     "status": "completed"
    },
    "tags": []
   },
   "outputs": [],
   "source": []
  }
 ],
 "metadata": {
  "kernelspec": {
   "display_name": "Python 3",
   "language": "python",
   "name": "python3"
  },
  "language_info": {
   "codemirror_mode": {
    "name": "ipython",
    "version": 3
   },
   "file_extension": ".py",
   "mimetype": "text/x-python",
   "name": "python",
   "nbconvert_exporter": "python",
   "pygments_lexer": "ipython3",
   "version": "3.6.14"
  },
  "papermill": {
   "default_parameters": {},
   "duration": 156.766484,
   "end_time": "2021-08-27T00:24:17.407516",
   "environment_variables": {},
   "exception": null,
   "input_path": "2020-08-11-part2.ipynb",
   "output_path": "2020-08-11-part2.ipynb",
   "parameters": {},
   "start_time": "2021-08-27T00:21:40.641032",
   "version": "2.3.3"
  }
 },
 "nbformat": 4,
 "nbformat_minor": 5
}