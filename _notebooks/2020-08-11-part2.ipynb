{
 "cells": [
  {
   "cell_type": "markdown",
   "id": "98380cd3",
   "metadata": {
    "papermill": {
     "duration": 0.028076,
     "end_time": "2022-01-13T20:09:00.130687",
     "exception": false,
     "start_time": "2022-01-13T20:09:00.102611",
     "status": "completed"
    },
    "tags": []
   },
   "source": [
    "# Distinguish Your Own Digits (DYOD)"
   ]
  },
  {
   "cell_type": "markdown",
   "id": "ef31240d",
   "metadata": {
    "papermill": {
     "duration": 0.023911,
     "end_time": "2022-01-13T20:09:00.181707",
     "exception": false,
     "start_time": "2022-01-13T20:09:00.157796",
     "status": "completed"
    },
    "tags": []
   },
   "source": [
    "You are going to write a classifier that distinguishes between the number 3 and number 8."
   ]
  },
  {
   "cell_type": "code",
   "execution_count": 1,
   "id": "b15c8646",
   "metadata": {
    "execution": {
     "iopub.execute_input": "2022-01-13T20:09:00.235431Z",
     "iopub.status.busy": "2022-01-13T20:09:00.234299Z",
     "iopub.status.idle": "2022-01-13T20:09:00.253251Z",
     "shell.execute_reply": "2022-01-13T20:09:00.254015Z"
    },
    "papermill": {
     "duration": 0.047572,
     "end_time": "2022-01-13T20:09:00.254178",
     "exception": false,
     "start_time": "2022-01-13T20:09:00.206606",
     "status": "completed"
    },
    "tags": []
   },
   "outputs": [],
   "source": [
    "%load_ext autoreload\n",
    "%autoreload 2"
   ]
  },
  {
   "cell_type": "code",
   "execution_count": 2,
   "id": "22ef38dc",
   "metadata": {
    "execution": {
     "iopub.execute_input": "2022-01-13T20:09:00.321688Z",
     "iopub.status.busy": "2022-01-13T20:09:00.321162Z",
     "iopub.status.idle": "2022-01-13T20:09:00.897243Z",
     "shell.execute_reply": "2022-01-13T20:09:00.897689Z"
    },
    "papermill": {
     "duration": 0.618513,
     "end_time": "2022-01-13T20:09:00.897826",
     "exception": false,
     "start_time": "2022-01-13T20:09:00.279313",
     "status": "completed"
    },
    "tags": []
   },
   "outputs": [],
   "source": [
    "%matplotlib inline\n",
    "import numpy as np\n",
    "import matplotlib.pyplot as plt\n",
    "import pandas as pd"
   ]
  },
  {
   "cell_type": "markdown",
   "id": "ba036198",
   "metadata": {
    "papermill": {
     "duration": 0.024492,
     "end_time": "2022-01-13T20:09:00.946583",
     "exception": false,
     "start_time": "2022-01-13T20:09:00.922091",
     "status": "completed"
    },
    "tags": []
   },
   "source": [
    "From the command line run `pip install mnist`. This is a library that will help you bring down the mnist dataset. If you run this from a notebook, you need to put  `!pip install mnist` in a cell by itself."
   ]
  },
  {
   "cell_type": "code",
   "execution_count": 3,
   "id": "bb6ad8a1",
   "metadata": {
    "execution": {
     "iopub.execute_input": "2022-01-13T20:09:01.000360Z",
     "iopub.status.busy": "2022-01-13T20:09:00.999197Z",
     "iopub.status.idle": "2022-01-13T20:09:02.722372Z",
     "shell.execute_reply": "2022-01-13T20:09:02.721499Z"
    },
    "papermill": {
     "duration": 1.751957,
     "end_time": "2022-01-13T20:09:02.722515",
     "exception": false,
     "start_time": "2022-01-13T20:09:00.970558",
     "status": "completed"
    },
    "tags": []
   },
   "outputs": [
    {
     "name": "stdout",
     "output_type": "stream",
     "text": [
      "Collecting mnist\r\n"
     ]
    },
    {
     "name": "stdout",
     "output_type": "stream",
     "text": [
      "  Downloading mnist-0.2.2-py2.py3-none-any.whl (3.5 kB)\r\n",
      "Requirement already satisfied: numpy in /opt/hostedtoolcache/Python/3.6.15/x64/lib/python3.6/site-packages (from mnist) (1.19.5)\r\n"
     ]
    },
    {
     "name": "stdout",
     "output_type": "stream",
     "text": [
      "Installing collected packages: mnist\r\n"
     ]
    },
    {
     "name": "stdout",
     "output_type": "stream",
     "text": [
      "Successfully installed mnist-0.2.2\r\n"
     ]
    }
   ],
   "source": [
    "!pip install mnist"
   ]
  },
  {
   "cell_type": "markdown",
   "id": "69df9c9a",
   "metadata": {
    "papermill": {
     "duration": 0.024936,
     "end_time": "2022-01-13T20:09:02.773607",
     "exception": false,
     "start_time": "2022-01-13T20:09:02.748671",
     "status": "completed"
    },
    "tags": []
   },
   "source": [
    "## Preparing the Data"
   ]
  },
  {
   "cell_type": "code",
   "execution_count": 4,
   "id": "7f69d806",
   "metadata": {
    "execution": {
     "iopub.execute_input": "2022-01-13T20:09:02.829498Z",
     "iopub.status.busy": "2022-01-13T20:09:02.828988Z",
     "iopub.status.idle": "2022-01-13T20:09:02.841916Z",
     "shell.execute_reply": "2022-01-13T20:09:02.842306Z"
    },
    "papermill": {
     "duration": 0.043822,
     "end_time": "2022-01-13T20:09:02.842448",
     "exception": false,
     "start_time": "2022-01-13T20:09:02.798626",
     "status": "completed"
    },
    "tags": []
   },
   "outputs": [],
   "source": [
    "import mnist"
   ]
  },
  {
   "cell_type": "code",
   "execution_count": 5,
   "id": "a411e44f",
   "metadata": {
    "execution": {
     "iopub.execute_input": "2022-01-13T20:09:02.910191Z",
     "iopub.status.busy": "2022-01-13T20:09:02.909152Z",
     "iopub.status.idle": "2022-01-13T20:09:03.463058Z",
     "shell.execute_reply": "2022-01-13T20:09:03.462559Z"
    },
    "papermill": {
     "duration": 0.595218,
     "end_time": "2022-01-13T20:09:03.463194",
     "exception": false,
     "start_time": "2022-01-13T20:09:02.867976",
     "status": "completed"
    },
    "tags": []
   },
   "outputs": [],
   "source": [
    "train_images = mnist.train_images()\n",
    "train_labels = mnist.train_labels()"
   ]
  },
  {
   "cell_type": "code",
   "execution_count": 6,
   "id": "dceab3a5",
   "metadata": {
    "execution": {
     "iopub.execute_input": "2022-01-13T20:09:03.519237Z",
     "iopub.status.busy": "2022-01-13T20:09:03.518703Z",
     "iopub.status.idle": "2022-01-13T20:09:03.532529Z",
     "shell.execute_reply": "2022-01-13T20:09:03.532943Z"
    },
    "papermill": {
     "duration": 0.044457,
     "end_time": "2022-01-13T20:09:03.533079",
     "exception": false,
     "start_time": "2022-01-13T20:09:03.488622",
     "status": "completed"
    },
    "tags": []
   },
   "outputs": [
    {
     "data": {
      "text/plain": [
       "((60000, 28, 28), (60000,))"
      ]
     },
     "execution_count": 6,
     "metadata": {},
     "output_type": "execute_result"
    }
   ],
   "source": [
    "train_images.shape, train_labels.shape"
   ]
  },
  {
   "cell_type": "code",
   "execution_count": 7,
   "id": "f50dc2bb",
   "metadata": {
    "execution": {
     "iopub.execute_input": "2022-01-13T20:09:03.588323Z",
     "iopub.status.busy": "2022-01-13T20:09:03.587764Z",
     "iopub.status.idle": "2022-01-13T20:09:03.778603Z",
     "shell.execute_reply": "2022-01-13T20:09:03.778076Z"
    },
    "papermill": {
     "duration": 0.220254,
     "end_time": "2022-01-13T20:09:03.778743",
     "exception": false,
     "start_time": "2022-01-13T20:09:03.558489",
     "status": "completed"
    },
    "tags": []
   },
   "outputs": [],
   "source": [
    "test_images = mnist.test_images()\n",
    "test_labels = mnist.test_labels()"
   ]
  },
  {
   "cell_type": "code",
   "execution_count": 8,
   "id": "fc38cf1b",
   "metadata": {
    "execution": {
     "iopub.execute_input": "2022-01-13T20:09:03.834537Z",
     "iopub.status.busy": "2022-01-13T20:09:03.834023Z",
     "iopub.status.idle": "2022-01-13T20:09:03.848114Z",
     "shell.execute_reply": "2022-01-13T20:09:03.847679Z"
    },
    "papermill": {
     "duration": 0.042881,
     "end_time": "2022-01-13T20:09:03.848245",
     "exception": false,
     "start_time": "2022-01-13T20:09:03.805364",
     "status": "completed"
    },
    "tags": []
   },
   "outputs": [
    {
     "data": {
      "text/plain": [
       "((10000, 28, 28), (10000,))"
      ]
     },
     "execution_count": 8,
     "metadata": {},
     "output_type": "execute_result"
    }
   ],
   "source": [
    "test_images.shape, test_labels.shape"
   ]
  },
  {
   "cell_type": "code",
   "execution_count": 9,
   "id": "f9ed8fe0",
   "metadata": {
    "execution": {
     "iopub.execute_input": "2022-01-13T20:09:03.904036Z",
     "iopub.status.busy": "2022-01-13T20:09:03.903522Z",
     "iopub.status.idle": "2022-01-13T20:09:04.039735Z",
     "shell.execute_reply": "2022-01-13T20:09:04.040161Z"
    },
    "papermill": {
     "duration": 0.166215,
     "end_time": "2022-01-13T20:09:04.040329",
     "exception": false,
     "start_time": "2022-01-13T20:09:03.874114",
     "status": "completed"
    },
    "tags": []
   },
   "outputs": [
    {
     "name": "stdout",
     "output_type": "stream",
     "text": [
      "2\n"
     ]
    },
    {
     "data": {
      "text/plain": [
       "<matplotlib.image.AxesImage at 0x7fb323aa3358>"
      ]
     },
     "execution_count": 9,
     "metadata": {},
     "output_type": "execute_result"
    },
    {
     "data": {
      "image/png": "[encoded data removed]",
      "text/plain": [
       "<Figure size 432x288 with 1 Axes>"
      ]
     },
     "metadata": {
      "needs_background": "light"
     },
     "output_type": "display_data"
    }
   ],
   "source": [
    "image_index = 7776 # You may select anything up to 60,000\n",
    "print(train_labels[image_index]) \n",
    "plt.imshow(train_images[image_index], cmap='Greys')"
   ]
  },
  {
   "cell_type": "markdown",
   "id": "a8d2388d",
   "metadata": {
    "papermill": {
     "duration": 0.026486,
     "end_time": "2022-01-13T20:09:04.093532",
     "exception": false,
     "start_time": "2022-01-13T20:09:04.067046",
     "status": "completed"
    },
    "tags": []
   },
   "source": [
    "## Filter data to get 3 and 8 out"
   ]
  },
  {
   "cell_type": "code",
   "execution_count": 10,
   "id": "776f7fc7",
   "metadata": {
    "execution": {
     "iopub.execute_input": "2022-01-13T20:09:04.164992Z",
     "iopub.status.busy": "2022-01-13T20:09:04.161401Z",
     "iopub.status.idle": "2022-01-13T20:09:04.169970Z",
     "shell.execute_reply": "2022-01-13T20:09:04.169555Z"
    },
    "papermill": {
     "duration": 0.050164,
     "end_time": "2022-01-13T20:09:04.170083",
     "exception": false,
     "start_time": "2022-01-13T20:09:04.119919",
     "status": "completed"
    },
    "tags": []
   },
   "outputs": [],
   "source": [
    "train_filter = np.where((train_labels == 3 ) | (train_labels == 8))\n",
    "test_filter = np.where((test_labels == 3) | (test_labels == 8))\n",
    "X_train, y_train = train_images[train_filter], train_labels[train_filter]\n",
    "X_test, y_test = test_images[test_filter], test_labels[test_filter]"
   ]
  },
  {
   "cell_type": "markdown",
   "id": "948f0b7e",
   "metadata": {
    "papermill": {
     "duration": 0.02631,
     "end_time": "2022-01-13T20:09:04.223076",
     "exception": false,
     "start_time": "2022-01-13T20:09:04.196766",
     "status": "completed"
    },
    "tags": []
   },
   "source": [
    "We normalize the pizel values in the 0 to 1 range"
   ]
  },
  {
   "cell_type": "code",
   "execution_count": 11,
   "id": "ee4c2166",
   "metadata": {
    "execution": {
     "iopub.execute_input": "2022-01-13T20:09:04.279573Z",
     "iopub.status.busy": "2022-01-13T20:09:04.279069Z",
     "iopub.status.idle": "2022-01-13T20:09:04.326852Z",
     "shell.execute_reply": "2022-01-13T20:09:04.326326Z"
    },
    "papermill": {
     "duration": 0.077481,
     "end_time": "2022-01-13T20:09:04.326983",
     "exception": false,
     "start_time": "2022-01-13T20:09:04.249502",
     "status": "completed"
    },
    "tags": []
   },
   "outputs": [],
   "source": [
    "X_train = X_train/255.\n",
    "X_test = X_test/255."
   ]
  },
  {
   "cell_type": "markdown",
   "id": "ddcf4fab",
   "metadata": {
    "papermill": {
     "duration": 0.026588,
     "end_time": "2022-01-13T20:09:04.381436",
     "exception": false,
     "start_time": "2022-01-13T20:09:04.354848",
     "status": "completed"
    },
    "tags": []
   },
   "source": [
    "And setup the labels as 1 (when the digit is 3) and 0 (when the digit is 8)"
   ]
  },
  {
   "cell_type": "code",
   "execution_count": 12,
   "id": "7dc908f2",
   "metadata": {
    "execution": {
     "iopub.execute_input": "2022-01-13T20:09:04.437995Z",
     "iopub.status.busy": "2022-01-13T20:09:04.437473Z",
     "iopub.status.idle": "2022-01-13T20:09:04.450020Z",
     "shell.execute_reply": "2022-01-13T20:09:04.450459Z"
    },
    "papermill": {
     "duration": 0.042728,
     "end_time": "2022-01-13T20:09:04.450592",
     "exception": false,
     "start_time": "2022-01-13T20:09:04.407864",
     "status": "completed"
    },
    "tags": []
   },
   "outputs": [],
   "source": [
    "y_train = 1*(y_train==3)\n",
    "y_test = 1*(y_test==3)"
   ]
  },
  {
   "cell_type": "code",
   "execution_count": 13,
   "id": "01e4e969",
   "metadata": {
    "execution": {
     "iopub.execute_input": "2022-01-13T20:09:04.513456Z",
     "iopub.status.busy": "2022-01-13T20:09:04.512642Z",
     "iopub.status.idle": "2022-01-13T20:09:04.523051Z",
     "shell.execute_reply": "2022-01-13T20:09:04.523436Z"
    },
    "papermill": {
     "duration": 0.045995,
     "end_time": "2022-01-13T20:09:04.523579",
     "exception": false,
     "start_time": "2022-01-13T20:09:04.477584",
     "status": "completed"
    },
    "tags": []
   },
   "outputs": [
    {
     "data": {
      "text/plain": [
       "((11982, 28, 28), (1984, 28, 28))"
      ]
     },
     "execution_count": 13,
     "metadata": {},
     "output_type": "execute_result"
    }
   ],
   "source": [
    "X_train.shape, X_test.shape"
   ]
  },
  {
   "cell_type": "markdown",
   "id": "5ccf3f85",
   "metadata": {
    "papermill": {
     "duration": 0.026695,
     "end_time": "2022-01-13T20:09:04.576975",
     "exception": false,
     "start_time": "2022-01-13T20:09:04.550280",
     "status": "completed"
    },
    "tags": []
   },
   "source": [
    "We reshape the data to flatten the image pixels into a set of features or co-variates:"
   ]
  },
  {
   "cell_type": "code",
   "execution_count": 14,
   "id": "5286a4a3",
   "metadata": {
    "execution": {
     "iopub.execute_input": "2022-01-13T20:09:04.635002Z",
     "iopub.status.busy": "2022-01-13T20:09:04.634066Z",
     "iopub.status.idle": "2022-01-13T20:09:04.649850Z",
     "shell.execute_reply": "2022-01-13T20:09:04.649410Z"
    },
    "papermill": {
     "duration": 0.046172,
     "end_time": "2022-01-13T20:09:04.649964",
     "exception": false,
     "start_time": "2022-01-13T20:09:04.603792",
     "status": "completed"
    },
    "tags": []
   },
   "outputs": [
    {
     "data": {
      "text/plain": [
       "((11982, 784), (1984, 784))"
      ]
     },
     "execution_count": 14,
     "metadata": {},
     "output_type": "execute_result"
    }
   ],
   "source": [
    "X_train = X_train.reshape(X_train.shape[0], -1)\n",
    "X_test = X_test.reshape(X_test.shape[0], -1)\n",
    "X_train.shape, X_test.shape"
   ]
  },
  {
   "cell_type": "code",
   "execution_count": 15,
   "id": "73c5f88a",
   "metadata": {
    "execution": {
     "iopub.execute_input": "2022-01-13T20:09:04.710915Z",
     "iopub.status.busy": "2022-01-13T20:09:04.710384Z",
     "iopub.status.idle": "2022-01-13T20:09:04.727966Z",
     "shell.execute_reply": "2022-01-13T20:09:04.727538Z"
    },
    "papermill": {
     "duration": 0.050933,
     "end_time": "2022-01-13T20:09:04.728083",
     "exception": false,
     "start_time": "2022-01-13T20:09:04.677150",
     "status": "completed"
    },
    "tags": []
   },
   "outputs": [],
   "source": [
    "#Impoting functions from 'Kudzu'\n",
    "from kudzu.model import Model\n",
    "from kudzu.train import Learner\n",
    "from kudzu.optim import GD\n",
    "from kudzu.data import Data, Sampler,Dataloader\n",
    "\n",
    "from kudzu.callbacks import AccCallback\n",
    "from kudzu.callbacks import ClfCallback\n",
    "\n",
    "from kudzu.loss import MSE\n",
    "\n",
    "from kudzu.layer import Sigmoid,Relu\n",
    "from kudzu.layer import Affine"
   ]
  },
  {
   "cell_type": "markdown",
   "id": "bc01172a",
   "metadata": {
    "papermill": {
     "duration": 0.027041,
     "end_time": "2022-01-13T20:09:04.782680",
     "exception": false,
     "start_time": "2022-01-13T20:09:04.755639",
     "status": "completed"
    },
    "tags": []
   },
   "source": [
    "### Let us create a `Config` class, to store important parameters. \n",
    "This class essentially plays the role of a dictionary."
   ]
  },
  {
   "cell_type": "code",
   "execution_count": 16,
   "id": "978281aa",
   "metadata": {
    "execution": {
     "iopub.execute_input": "2022-01-13T20:09:04.840503Z",
     "iopub.status.busy": "2022-01-13T20:09:04.839909Z",
     "iopub.status.idle": "2022-01-13T20:09:04.852964Z",
     "shell.execute_reply": "2022-01-13T20:09:04.852543Z"
    },
    "papermill": {
     "duration": 0.043468,
     "end_time": "2022-01-13T20:09:04.853077",
     "exception": false,
     "start_time": "2022-01-13T20:09:04.809609",
     "status": "completed"
    },
    "tags": []
   },
   "outputs": [],
   "source": [
    "class Config:\n",
    "    pass\n",
    "config = Config()\n",
    "config.lr = 0.001\n",
    "config.num_epochs = 250\n",
    "config.bs = 50"
   ]
  },
  {
   "cell_type": "markdown",
   "id": "1385fa59",
   "metadata": {
    "papermill": {
     "duration": 0.026996,
     "end_time": "2022-01-13T20:09:04.907385",
     "exception": false,
     "start_time": "2022-01-13T20:09:04.880389",
     "status": "completed"
    },
    "tags": []
   },
   "source": [
    "### Running Models with the Training data\n",
    "Details about the network layers:\n",
    "- A first affine layer has 784 inputs and does 100 affine transforms. These are followed by a Relu\n",
    "- A second affine layer has 100 inputs from the 100 activations of the past layer, and does 100 affine transforms. These are followed by a Relu\n",
    "- A third affine layer has 100 activations and does 2 affine transformations to create an embedding for visualization. There is no non-linearity here.\n",
    "- A final \"logistic regression\" which has an affine transform from 2 inputs to 1 output, which is squeezed through a sigmoid.\n"
   ]
  },
  {
   "cell_type": "code",
   "execution_count": 17,
   "id": "2b9c66db",
   "metadata": {
    "execution": {
     "iopub.execute_input": "2022-01-13T20:09:04.965772Z",
     "iopub.status.busy": "2022-01-13T20:09:04.965260Z",
     "iopub.status.idle": "2022-01-13T20:09:04.977495Z",
     "shell.execute_reply": "2022-01-13T20:09:04.977055Z"
    },
    "papermill": {
     "duration": 0.04319,
     "end_time": "2022-01-13T20:09:04.977609",
     "exception": false,
     "start_time": "2022-01-13T20:09:04.934419",
     "status": "completed"
    },
    "tags": []
   },
   "outputs": [],
   "source": [
    "data = Data(X_train, y_train.reshape(-1,1))\n",
    "sampler = Sampler(data, config.bs, shuffle=True)\n",
    "\n",
    "dl = Dataloader(data, sampler)\n",
    "\n",
    "opt = GD(config.lr)\n",
    "loss = MSE()"
   ]
  },
  {
   "cell_type": "code",
   "execution_count": 18,
   "id": "b275e4c2",
   "metadata": {
    "execution": {
     "iopub.execute_input": "2022-01-13T20:09:05.035664Z",
     "iopub.status.busy": "2022-01-13T20:09:05.035153Z",
     "iopub.status.idle": "2022-01-13T20:09:05.046792Z",
     "shell.execute_reply": "2022-01-13T20:09:05.047202Z"
    },
    "papermill": {
     "duration": 0.042549,
     "end_time": "2022-01-13T20:09:05.047333",
     "exception": false,
     "start_time": "2022-01-13T20:09:05.004784",
     "status": "completed"
    },
    "tags": []
   },
   "outputs": [],
   "source": [
    "training_data_x = X_train\n",
    "testing_data_x = X_test\n",
    "training_data_y = y_train.reshape(-1,1)\n",
    "testing_data_y = y_test.reshape(-1,1)"
   ]
  },
  {
   "cell_type": "code",
   "execution_count": 19,
   "id": "76951160",
   "metadata": {
    "execution": {
     "iopub.execute_input": "2022-01-13T20:09:05.110191Z",
     "iopub.status.busy": "2022-01-13T20:09:05.109669Z",
     "iopub.status.idle": "2022-01-13T20:09:05.123115Z",
     "shell.execute_reply": "2022-01-13T20:09:05.122690Z"
    },
    "papermill": {
     "duration": 0.04898,
     "end_time": "2022-01-13T20:09:05.123230",
     "exception": false,
     "start_time": "2022-01-13T20:09:05.074250",
     "status": "completed"
    },
    "tags": []
   },
   "outputs": [
    {
     "name": "stdout",
     "output_type": "stream",
     "text": [
      "xavier\n",
      "xavier\n",
      "xavier\n",
      "xavier\n",
      "xavier\n"
     ]
    }
   ],
   "source": [
    "layers = [Affine(\"first\", 784, 100), Relu(\"first\"), Affine(\"second\", 100, 100), Relu(\"second\"), Affine(\"third\", 100, 2), Affine(\"last\", 2, 1), Sigmoid(\"last\")]\n",
    "model_nn = Model(layers)\n",
    "model_lr = Model([Affine(\"logits\", 784, 1), Sigmoid(\"sigmoid\")])"
   ]
  },
  {
   "cell_type": "code",
   "execution_count": 20,
   "id": "6eede77a",
   "metadata": {
    "execution": {
     "iopub.execute_input": "2022-01-13T20:09:05.182028Z",
     "iopub.status.busy": "2022-01-13T20:09:05.181516Z",
     "iopub.status.idle": "2022-01-13T20:09:05.194557Z",
     "shell.execute_reply": "2022-01-13T20:09:05.194138Z"
    },
    "papermill": {
     "duration": 0.044065,
     "end_time": "2022-01-13T20:09:05.194671",
     "exception": false,
     "start_time": "2022-01-13T20:09:05.150606",
     "status": "completed"
    },
    "tags": []
   },
   "outputs": [],
   "source": [
    "nn_learner = Learner(loss, model_nn, opt, config.num_epochs)\n",
    "acc_nn = ClfCallback(nn_learner, config.bs, training_data_x , testing_data_x, training_data_y, testing_data_y)\n",
    "nn_learner.set_callbacks([acc_nn])"
   ]
  },
  {
   "cell_type": "code",
   "execution_count": 21,
   "id": "877b6cc7",
   "metadata": {
    "execution": {
     "iopub.execute_input": "2022-01-13T20:09:05.255571Z",
     "iopub.status.busy": "2022-01-13T20:09:05.255063Z",
     "iopub.status.idle": "2022-01-13T20:09:05.266599Z",
     "shell.execute_reply": "2022-01-13T20:09:05.266183Z"
    },
    "papermill": {
     "duration": 0.044686,
     "end_time": "2022-01-13T20:09:05.266714",
     "exception": false,
     "start_time": "2022-01-13T20:09:05.222028",
     "status": "completed"
    },
    "tags": []
   },
   "outputs": [],
   "source": [
    "lr_learner = Learner(loss, model_lr, opt, config.num_epochs)\n",
    "acc_lr = ClfCallback(lr_learner, config.bs, training_data_x , testing_data_x, training_data_y, testing_data_y)\n",
    "lr_learner.set_callbacks([acc_lr])"
   ]
  },
  {
   "cell_type": "code",
   "execution_count": 22,
   "id": "d9b133c3",
   "metadata": {
    "execution": {
     "iopub.execute_input": "2022-01-13T20:09:05.339746Z",
     "iopub.status.busy": "2022-01-13T20:09:05.337108Z",
     "iopub.status.idle": "2022-01-13T20:10:22.028117Z",
     "shell.execute_reply": "2022-01-13T20:10:22.028599Z"
    },
    "papermill": {
     "duration": 76.734651,
     "end_time": "2022-01-13T20:10:22.028740",
     "exception": false,
     "start_time": "2022-01-13T20:09:05.294089",
     "status": "completed"
    },
    "tags": []
   },
   "outputs": [
    {
     "name": "stdout",
     "output_type": "stream",
     "text": [
      "Epoch 0, Loss 0.2458\n",
      "Training Accuracy: 0.7570, Testing Accuracy: 0.7545\n",
      "\n"
     ]
    },
    {
     "name": "stdout",
     "output_type": "stream",
     "text": [
      "Epoch 10, Loss 0.058\n",
      "Training Accuracy: 0.9392, Testing Accuracy: 0.9471\n",
      "\n"
     ]
    },
    {
     "name": "stdout",
     "output_type": "stream",
     "text": [
      "Epoch 20, Loss 0.0405\n",
      "Training Accuracy: 0.9551, Testing Accuracy: 0.9647\n",
      "\n"
     ]
    },
    {
     "name": "stdout",
     "output_type": "stream",
     "text": [
      "Epoch 30, Loss 0.034\n",
      "Training Accuracy: 0.9622, Testing Accuracy: 0.9693\n",
      "\n"
     ]
    },
    {
     "name": "stdout",
     "output_type": "stream",
     "text": [
      "Epoch 40, Loss 0.0304\n",
      "Training Accuracy: 0.9659, Testing Accuracy: 0.9703\n",
      "\n"
     ]
    },
    {
     "name": "stdout",
     "output_type": "stream",
     "text": [
      "Epoch 50, Loss 0.0281\n",
      "Training Accuracy: 0.9687, Testing Accuracy: 0.9698\n",
      "\n"
     ]
    },
    {
     "name": "stdout",
     "output_type": "stream",
     "text": [
      "Epoch 60, Loss 0.0264\n",
      "Training Accuracy: 0.9699, Testing Accuracy: 0.9698\n",
      "\n"
     ]
    },
    {
     "name": "stdout",
     "output_type": "stream",
     "text": [
      "Epoch 70, Loss 0.025\n",
      "Training Accuracy: 0.9714, Testing Accuracy: 0.9708\n",
      "\n"
     ]
    },
    {
     "name": "stdout",
     "output_type": "stream",
     "text": [
      "Epoch 80, Loss 0.0239\n",
      "Training Accuracy: 0.9727, Testing Accuracy: 0.9713\n",
      "\n"
     ]
    },
    {
     "name": "stdout",
     "output_type": "stream",
     "text": [
      "Epoch 90, Loss 0.0229\n",
      "Training Accuracy: 0.9739, Testing Accuracy: 0.9713\n",
      "\n"
     ]
    },
    {
     "name": "stdout",
     "output_type": "stream",
     "text": [
      "Epoch 100, Loss 0.0221\n",
      "Training Accuracy: 0.9751, Testing Accuracy: 0.9713\n",
      "\n"
     ]
    },
    {
     "name": "stdout",
     "output_type": "stream",
     "text": [
      "Epoch 110, Loss 0.0214\n",
      "Training Accuracy: 0.9760, Testing Accuracy: 0.9718\n",
      "\n"
     ]
    },
    {
     "name": "stdout",
     "output_type": "stream",
     "text": [
      "Epoch 120, Loss 0.0207\n",
      "Training Accuracy: 0.9765, Testing Accuracy: 0.9718\n",
      "\n"
     ]
    },
    {
     "name": "stdout",
     "output_type": "stream",
     "text": [
      "Epoch 130, Loss 0.0201\n",
      "Training Accuracy: 0.9777, Testing Accuracy: 0.9708\n",
      "\n"
     ]
    },
    {
     "name": "stdout",
     "output_type": "stream",
     "text": [
      "Epoch 140, Loss 0.0195\n",
      "Training Accuracy: 0.9781, Testing Accuracy: 0.9708\n",
      "\n"
     ]
    },
    {
     "name": "stdout",
     "output_type": "stream",
     "text": [
      "Epoch 150, Loss 0.019\n",
      "Training Accuracy: 0.9788, Testing Accuracy: 0.9708\n",
      "\n"
     ]
    },
    {
     "name": "stdout",
     "output_type": "stream",
     "text": [
      "Epoch 160, Loss 0.0184\n",
      "Training Accuracy: 0.9795, Testing Accuracy: 0.9713\n",
      "\n"
     ]
    },
    {
     "name": "stdout",
     "output_type": "stream",
     "text": [
      "Epoch 170, Loss 0.0179\n",
      "Training Accuracy: 0.9799, Testing Accuracy: 0.9718\n",
      "\n"
     ]
    },
    {
     "name": "stdout",
     "output_type": "stream",
     "text": [
      "Epoch 180, Loss 0.0174\n",
      "Training Accuracy: 0.9806, Testing Accuracy: 0.9718\n",
      "\n"
     ]
    },
    {
     "name": "stdout",
     "output_type": "stream",
     "text": [
      "Epoch 190, Loss 0.017\n",
      "Training Accuracy: 0.9806, Testing Accuracy: 0.9733\n",
      "\n"
     ]
    },
    {
     "name": "stdout",
     "output_type": "stream",
     "text": [
      "Epoch 200, Loss 0.0165\n",
      "Training Accuracy: 0.9818, Testing Accuracy: 0.9728\n",
      "\n"
     ]
    },
    {
     "name": "stdout",
     "output_type": "stream",
     "text": [
      "Epoch 210, Loss 0.0161\n",
      "Training Accuracy: 0.9826, Testing Accuracy: 0.9738\n",
      "\n"
     ]
    },
    {
     "name": "stdout",
     "output_type": "stream",
     "text": [
      "Epoch 220, Loss 0.0157\n",
      "Training Accuracy: 0.9836, Testing Accuracy: 0.9748\n",
      "\n"
     ]
    },
    {
     "name": "stdout",
     "output_type": "stream",
     "text": [
      "Epoch 230, Loss 0.0152\n",
      "Training Accuracy: 0.9844, Testing Accuracy: 0.9753\n",
      "\n"
     ]
    },
    {
     "name": "stdout",
     "output_type": "stream",
     "text": [
      "Epoch 240, Loss 0.0148\n",
      "Training Accuracy: 0.9849, Testing Accuracy: 0.9758\n",
      "\n"
     ]
    },
    {
     "data": {
      "text/plain": [
       "0.007325376649406317"
      ]
     },
     "execution_count": 22,
     "metadata": {},
     "output_type": "execute_result"
    }
   ],
   "source": [
    "nn_learner.train_loop(dl)"
   ]
  },
  {
   "cell_type": "code",
   "execution_count": 23,
   "id": "e0163366",
   "metadata": {
    "execution": {
     "iopub.execute_input": "2022-01-13T20:10:22.105737Z",
     "iopub.status.busy": "2022-01-13T20:10:22.105203Z",
     "iopub.status.idle": "2022-01-13T20:10:35.828280Z",
     "shell.execute_reply": "2022-01-13T20:10:35.829039Z"
    },
    "papermill": {
     "duration": 13.765394,
     "end_time": "2022-01-13T20:10:35.829187",
     "exception": false,
     "start_time": "2022-01-13T20:10:22.063793",
     "status": "completed"
    },
    "tags": []
   },
   "outputs": [
    {
     "name": "stdout",
     "output_type": "stream",
     "text": [
      "Epoch 0, Loss 0.2576\n",
      "Training Accuracy: 0.6149, Testing Accuracy: 0.5887\n",
      "\n"
     ]
    },
    {
     "name": "stdout",
     "output_type": "stream",
     "text": [
      "Epoch 10, Loss 0.1045\n",
      "Training Accuracy: 0.9107, Testing Accuracy: 0.9214\n",
      "\n"
     ]
    },
    {
     "name": "stdout",
     "output_type": "stream",
     "text": [
      "Epoch 20, Loss 0.0795\n",
      "Training Accuracy: 0.9286, Testing Accuracy: 0.9435\n",
      "\n"
     ]
    },
    {
     "name": "stdout",
     "output_type": "stream",
     "text": [
      "Epoch 30, Loss 0.0684\n",
      "Training Accuracy: 0.9362, Testing Accuracy: 0.9501\n",
      "\n"
     ]
    },
    {
     "name": "stdout",
     "output_type": "stream",
     "text": [
      "Epoch 40, Loss 0.0618\n",
      "Training Accuracy: 0.9411, Testing Accuracy: 0.9526\n",
      "\n"
     ]
    },
    {
     "name": "stdout",
     "output_type": "stream",
     "text": [
      "Epoch 50, Loss 0.0573\n",
      "Training Accuracy: 0.9434, Testing Accuracy: 0.9572\n",
      "\n"
     ]
    },
    {
     "name": "stdout",
     "output_type": "stream",
     "text": [
      "Epoch 60, Loss 0.0541\n",
      "Training Accuracy: 0.9453, Testing Accuracy: 0.9597\n",
      "\n"
     ]
    },
    {
     "name": "stdout",
     "output_type": "stream",
     "text": [
      "Epoch 70, Loss 0.0515\n",
      "Training Accuracy: 0.9475, Testing Accuracy: 0.9592\n",
      "\n"
     ]
    },
    {
     "name": "stdout",
     "output_type": "stream",
     "text": [
      "Epoch 80, Loss 0.0495\n",
      "Training Accuracy: 0.9491, Testing Accuracy: 0.9592\n",
      "\n"
     ]
    },
    {
     "name": "stdout",
     "output_type": "stream",
     "text": [
      "Epoch 90, Loss 0.0478\n",
      "Training Accuracy: 0.9511, Testing Accuracy: 0.9617\n",
      "\n"
     ]
    },
    {
     "name": "stdout",
     "output_type": "stream",
     "text": [
      "Epoch 100, Loss 0.0464\n",
      "Training Accuracy: 0.9520, Testing Accuracy: 0.9627\n",
      "\n"
     ]
    },
    {
     "name": "stdout",
     "output_type": "stream",
     "text": [
      "Epoch 110, Loss 0.0452\n",
      "Training Accuracy: 0.9530, Testing Accuracy: 0.9637\n",
      "\n"
     ]
    },
    {
     "name": "stdout",
     "output_type": "stream",
     "text": [
      "Epoch 120, Loss 0.0441\n",
      "Training Accuracy: 0.9538, Testing Accuracy: 0.9637\n",
      "\n"
     ]
    },
    {
     "name": "stdout",
     "output_type": "stream",
     "text": [
      "Epoch 130, Loss 0.0432\n",
      "Training Accuracy: 0.9546, Testing Accuracy: 0.9637\n",
      "\n"
     ]
    },
    {
     "name": "stdout",
     "output_type": "stream",
     "text": [
      "Epoch 140, Loss 0.0423\n",
      "Training Accuracy: 0.9553, Testing Accuracy: 0.9637\n",
      "\n"
     ]
    },
    {
     "name": "stdout",
     "output_type": "stream",
     "text": [
      "Epoch 150, Loss 0.0416\n",
      "Training Accuracy: 0.9558, Testing Accuracy: 0.9647\n",
      "\n"
     ]
    },
    {
     "name": "stdout",
     "output_type": "stream",
     "text": [
      "Epoch 160, Loss 0.0409\n",
      "Training Accuracy: 0.9562, Testing Accuracy: 0.9652\n",
      "\n"
     ]
    },
    {
     "name": "stdout",
     "output_type": "stream",
     "text": [
      "Epoch 170, Loss 0.0403\n",
      "Training Accuracy: 0.9569, Testing Accuracy: 0.9652\n",
      "\n"
     ]
    },
    {
     "name": "stdout",
     "output_type": "stream",
     "text": [
      "Epoch 180, Loss 0.0397\n",
      "Training Accuracy: 0.9575, Testing Accuracy: 0.9657\n",
      "\n"
     ]
    },
    {
     "name": "stdout",
     "output_type": "stream",
     "text": [
      "Epoch 190, Loss 0.0392\n",
      "Training Accuracy: 0.9583, Testing Accuracy: 0.9657\n",
      "\n"
     ]
    },
    {
     "name": "stdout",
     "output_type": "stream",
     "text": [
      "Epoch 200, Loss 0.0387\n",
      "Training Accuracy: 0.9584, Testing Accuracy: 0.9657\n",
      "\n"
     ]
    },
    {
     "name": "stdout",
     "output_type": "stream",
     "text": [
      "Epoch 210, Loss 0.0383\n",
      "Training Accuracy: 0.9589, Testing Accuracy: 0.9652\n",
      "\n"
     ]
    },
    {
     "name": "stdout",
     "output_type": "stream",
     "text": [
      "Epoch 220, Loss 0.0378\n",
      "Training Accuracy: 0.9595, Testing Accuracy: 0.9662\n",
      "\n"
     ]
    },
    {
     "name": "stdout",
     "output_type": "stream",
     "text": [
      "Epoch 230, Loss 0.0375\n",
      "Training Accuracy: 0.9599, Testing Accuracy: 0.9662\n",
      "\n"
     ]
    },
    {
     "name": "stdout",
     "output_type": "stream",
     "text": [
      "Epoch 240, Loss 0.0371\n",
      "Training Accuracy: 0.9600, Testing Accuracy: 0.9662\n",
      "\n"
     ]
    },
    {
     "data": {
      "text/plain": [
       "0.034422742829871504"
      ]
     },
     "execution_count": 23,
     "metadata": {},
     "output_type": "execute_result"
    }
   ],
   "source": [
    "lr_learner.train_loop(dl)"
   ]
  },
  {
   "cell_type": "code",
   "execution_count": 24,
   "id": "ca410940",
   "metadata": {
    "execution": {
     "iopub.execute_input": "2022-01-13T20:10:35.927305Z",
     "iopub.status.busy": "2022-01-13T20:10:35.926726Z",
     "iopub.status.idle": "2022-01-13T20:10:36.161550Z",
     "shell.execute_reply": "2022-01-13T20:10:36.162025Z"
    },
    "papermill": {
     "duration": 0.290902,
     "end_time": "2022-01-13T20:10:36.162174",
     "exception": false,
     "start_time": "2022-01-13T20:10:35.871272",
     "status": "completed"
    },
    "tags": []
   },
   "outputs": [
    {
     "data": {
      "text/plain": [
       "<matplotlib.legend.Legend at 0x7fb316278ac8>"
      ]
     },
     "execution_count": 24,
     "metadata": {},
     "output_type": "execute_result"
    },
    {
     "data": {
      "image/png": "[encoded data removed]",
      "text/plain": [
       "<Figure size 1080x720 with 1 Axes>"
      ]
     },
     "metadata": {
      "needs_background": "light"
     },
     "output_type": "display_data"
    }
   ],
   "source": [
    "#comparing the results of NN and LR\n",
    "plt.figure(figsize=(15,10))\n",
    "\n",
    "# Neural Network plots\n",
    "plt.plot(acc_nn.accuracies, 'r-', label = \"Training Accuracies - NN\")\n",
    "plt.plot(acc_nn.test_accuracies, 'g-', label = \"Testing Accuracies - NN\")\n",
    "\n",
    "# Logistic Regression plots\n",
    "plt.plot(acc_lr.accuracies, 'k-', label = \"Training Accuracies - LR\")\n",
    "plt.plot(acc_lr.test_accuracies, 'b-', label = \"Testing Accuracies - LR\")\n",
    "plt.legend()"
   ]
  },
  {
   "cell_type": "markdown",
   "id": "80dfb35c",
   "metadata": {
    "papermill": {
     "duration": 0.042796,
     "end_time": "2022-01-13T20:10:36.247757",
     "exception": false,
     "start_time": "2022-01-13T20:10:36.204961",
     "status": "completed"
    },
    "tags": []
   },
   "source": [
    "#### Plotting the outputs of this layer of the NN.\n"
   ]
  },
  {
   "cell_type": "code",
   "execution_count": 25,
   "id": "45eb2ff5",
   "metadata": {
    "execution": {
     "iopub.execute_input": "2022-01-13T20:10:36.340708Z",
     "iopub.status.busy": "2022-01-13T20:10:36.338104Z",
     "iopub.status.idle": "2022-01-13T20:10:36.358474Z",
     "shell.execute_reply": "2022-01-13T20:10:36.358922Z"
    },
    "papermill": {
     "duration": 0.068658,
     "end_time": "2022-01-13T20:10:36.359069",
     "exception": false,
     "start_time": "2022-01-13T20:10:36.290411",
     "status": "completed"
    },
    "tags": []
   },
   "outputs": [],
   "source": [
    "new_model = Model(layers[:-2])\n",
    "testing_plot = new_model(testing_data_x)"
   ]
  },
  {
   "cell_type": "code",
   "execution_count": 26,
   "id": "4c0a5485",
   "metadata": {
    "execution": {
     "iopub.execute_input": "2022-01-13T20:10:36.452187Z",
     "iopub.status.busy": "2022-01-13T20:10:36.451641Z",
     "iopub.status.idle": "2022-01-13T20:10:36.635059Z",
     "shell.execute_reply": "2022-01-13T20:10:36.634610Z"
    },
    "papermill": {
     "duration": 0.23238,
     "end_time": "2022-01-13T20:10:36.635177",
     "exception": false,
     "start_time": "2022-01-13T20:10:36.402797",
     "status": "completed"
    },
    "tags": []
   },
   "outputs": [
    {
     "data": {
      "text/plain": [
       "Text(0.5, 1.0, 'Outputs')"
      ]
     },
     "execution_count": 26,
     "metadata": {},
     "output_type": "execute_result"
    },
    {
     "data": {
      "image/png": "[encoded data removed]",
      "text/plain": [
       "<Figure size 576x504 with 1 Axes>"
      ]
     },
     "metadata": {
      "needs_background": "light"
     },
     "output_type": "display_data"
    }
   ],
   "source": [
    "# Plotting the scatter plot of points and color coding by class\n",
    "plt.figure(figsize=(8,7))\n",
    "plt.scatter(testing_plot[:,0], testing_plot[:,1], alpha = 0.1, c = y_test.ravel());\n",
    "plt.title('Outputs')"
   ]
  },
  {
   "cell_type": "markdown",
   "id": "a74fcf8f",
   "metadata": {
    "papermill": {
     "duration": 0.044599,
     "end_time": "2022-01-13T20:10:36.724766",
     "exception": false,
     "start_time": "2022-01-13T20:10:36.680167",
     "status": "completed"
    },
    "tags": []
   },
   "source": [
    "Probability contours"
   ]
  },
  {
   "cell_type": "code",
   "execution_count": 27,
   "id": "d0afc8e3",
   "metadata": {
    "execution": {
     "iopub.execute_input": "2022-01-13T20:10:36.818779Z",
     "iopub.status.busy": "2022-01-13T20:10:36.818249Z",
     "iopub.status.idle": "2022-01-13T20:10:36.830344Z",
     "shell.execute_reply": "2022-01-13T20:10:36.829929Z"
    },
    "papermill": {
     "duration": 0.061068,
     "end_time": "2022-01-13T20:10:36.830458",
     "exception": false,
     "start_time": "2022-01-13T20:10:36.769390",
     "status": "completed"
    },
    "tags": []
   },
   "outputs": [],
   "source": [
    "model_prob = Model(layers[-2:]) "
   ]
  },
  {
   "cell_type": "code",
   "execution_count": 28,
   "id": "9b96e238",
   "metadata": {
    "execution": {
     "iopub.execute_input": "2022-01-13T20:10:36.965659Z",
     "iopub.status.busy": "2022-01-13T20:10:36.965139Z",
     "iopub.status.idle": "2022-01-13T20:10:36.973037Z",
     "shell.execute_reply": "2022-01-13T20:10:36.972611Z"
    },
    "papermill": {
     "duration": 0.097868,
     "end_time": "2022-01-13T20:10:36.973149",
     "exception": false,
     "start_time": "2022-01-13T20:10:36.875281",
     "status": "completed"
    },
    "tags": []
   },
   "outputs": [],
   "source": [
    "#creating the x and y ranges according to the above generated plot.\n",
    "x_range = np.linspace(-4, 1, 100) \n",
    "y_range = np.linspace(-6, 6, 100) \n",
    "x_grid, y_grid = np.meshgrid(x_range, y_range) # x_grid and y_grig are of size 100 X 100\n",
    "\n",
    "# converting x_grid and y_grid to continuous arrays\n",
    "x_gridflat = np.ravel(x_grid)\n",
    "y_gridflat = np.ravel(y_grid)\n",
    "\n",
    "# The last layer of the current model takes two columns as input. Hence transpose of np.vstack() is required.\n",
    "X = np.vstack((x_gridflat, y_gridflat)).T\n",
    "\n",
    "prob_contour = model_prob(X).reshape(100,100) "
   ]
  },
  {
   "cell_type": "code",
   "execution_count": 29,
   "id": "da72499a",
   "metadata": {
    "execution": {
     "iopub.execute_input": "2022-01-13T20:10:37.077016Z",
     "iopub.status.busy": "2022-01-13T20:10:37.076488Z",
     "iopub.status.idle": "2022-01-13T20:10:37.306924Z",
     "shell.execute_reply": "2022-01-13T20:10:37.307337Z"
    },
    "papermill": {
     "duration": 0.288739,
     "end_time": "2022-01-13T20:10:37.307481",
     "exception": false,
     "start_time": "2022-01-13T20:10:37.018742",
     "status": "completed"
    },
    "tags": []
   },
   "outputs": [
    {
     "data": {
      "image/png": "[encoded data removed]",
      "text/plain": [
       "<Figure size 720x648 with 1 Axes>"
      ]
     },
     "metadata": {
      "needs_background": "light"
     },
     "output_type": "display_data"
    }
   ],
   "source": [
    "plt.figure(figsize=(10,9))\n",
    "plt.scatter(testing_plot[:,0], testing_plot[:,1], alpha = 0.1, c = y_test.ravel())\n",
    "contours = plt.contour(x_grid,y_grid,prob_contour)\n",
    "plt.title('Probability Contours')\n",
    "plt.clabel(contours, inline = True );"
   ]
  },
  {
   "cell_type": "code",
   "execution_count": null,
   "id": "e81b4ac7",
   "metadata": {
    "papermill": {
     "duration": 0.047384,
     "end_time": "2022-01-13T20:10:37.402662",
     "exception": false,
     "start_time": "2022-01-13T20:10:37.355278",
     "status": "completed"
    },
    "tags": []
   },
   "outputs": [],
   "source": []
  }
 ],
 "metadata": {
  "kernelspec": {
   "display_name": "Python 3",
   "language": "python",
   "name": "python3"
  },
  "language_info": {
   "codemirror_mode": {
    "name": "ipython",
    "version": 3
   },
   "file_extension": ".py",
   "mimetype": "text/x-python",
   "name": "python",
   "nbconvert_exporter": "python",
   "pygments_lexer": "ipython3",
   "version": "3.6.15"
  },
  "papermill": {
   "default_parameters": {},
   "duration": 98.68285,
   "end_time": "2022-01-13T20:10:37.858801",
   "environment_variables": {},
   "exception": null,
   "input_path": "2020-08-11-part2.ipynb",
   "output_path": "2020-08-11-part2.ipynb",
   "parameters": {},
   "start_time": "2022-01-13T20:08:59.175951",
   "version": "2.3.3"
  }
 },
 "nbformat": 4,
 "nbformat_minor": 5
}