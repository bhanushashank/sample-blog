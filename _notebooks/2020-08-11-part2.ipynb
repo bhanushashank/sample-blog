{
 "cells": [
  {
   "cell_type": "markdown",
   "id": "98380cd3",
   "metadata": {
    "papermill": {
     "duration": 0.029669,
     "end_time": "2022-05-28T20:10:07.240475",
     "exception": false,
     "start_time": "2022-05-28T20:10:07.210806",
     "status": "completed"
    },
    "tags": []
   },
   "source": [
    "# Distinguish Your Own Digits (DYOD)"
   ]
  },
  {
   "cell_type": "markdown",
   "id": "ef31240d",
   "metadata": {
    "papermill": {
     "duration": 0.023633,
     "end_time": "2022-05-28T20:10:07.288542",
     "exception": false,
     "start_time": "2022-05-28T20:10:07.264909",
     "status": "completed"
    },
    "tags": []
   },
   "source": [
    "You are going to write a classifier that distinguishes between the number 3 and number 8."
   ]
  },
  {
   "cell_type": "code",
   "execution_count": 1,
   "id": "b15c8646",
   "metadata": {
    "execution": {
     "iopub.execute_input": "2022-05-28T20:10:07.346175Z",
     "iopub.status.busy": "2022-05-28T20:10:07.345593Z",
     "iopub.status.idle": "2022-05-28T20:10:07.357032Z",
     "shell.execute_reply": "2022-05-28T20:10:07.356535Z"
    },
    "papermill": {
     "duration": 0.045055,
     "end_time": "2022-05-28T20:10:07.357157",
     "exception": false,
     "start_time": "2022-05-28T20:10:07.312102",
     "status": "completed"
    },
    "tags": []
   },
   "outputs": [],
   "source": [
    "%load_ext autoreload\n",
    "%autoreload 2"
   ]
  },
  {
   "cell_type": "code",
   "execution_count": 2,
   "id": "22ef38dc",
   "metadata": {
    "execution": {
     "iopub.execute_input": "2022-05-28T20:10:07.410968Z",
     "iopub.status.busy": "2022-05-28T20:10:07.410390Z",
     "iopub.status.idle": "2022-05-28T20:10:07.936143Z",
     "shell.execute_reply": "2022-05-28T20:10:07.935511Z"
    },
    "papermill": {
     "duration": 0.555449,
     "end_time": "2022-05-28T20:10:07.936300",
     "exception": false,
     "start_time": "2022-05-28T20:10:07.380851",
     "status": "completed"
    },
    "tags": []
   },
   "outputs": [],
   "source": [
    "%matplotlib inline\n",
    "import numpy as np\n",
    "import matplotlib.pyplot as plt\n",
    "import pandas as pd"
   ]
  },
  {
   "cell_type": "markdown",
   "id": "ba036198",
   "metadata": {
    "papermill": {
     "duration": 0.023593,
     "end_time": "2022-05-28T20:10:07.983929",
     "exception": false,
     "start_time": "2022-05-28T20:10:07.960336",
     "status": "completed"
    },
    "tags": []
   },
   "source": [
    "From the command line run `pip install mnist`. This is a library that will help you bring down the mnist dataset. If you run this from a notebook, you need to put  `!pip install mnist` in a cell by itself."
   ]
  },
  {
   "cell_type": "code",
   "execution_count": 3,
   "id": "bb6ad8a1",
   "metadata": {
    "execution": {
     "iopub.execute_input": "2022-05-28T20:10:08.037622Z",
     "iopub.status.busy": "2022-05-28T20:10:08.037047Z",
     "iopub.status.idle": "2022-05-28T20:10:10.505424Z",
     "shell.execute_reply": "2022-05-28T20:10:10.504491Z"
    },
    "papermill": {
     "duration": 2.497946,
     "end_time": "2022-05-28T20:10:10.505578",
     "exception": false,
     "start_time": "2022-05-28T20:10:08.007632",
     "status": "completed"
    },
    "tags": []
   },
   "outputs": [
    {
     "name": "stdout",
     "output_type": "stream",
     "text": [
      "Collecting mnist\r\n"
     ]
    },
    {
     "name": "stdout",
     "output_type": "stream",
     "text": [
      "  Downloading mnist-0.2.2-py2.py3-none-any.whl (3.5 kB)\r\n",
      "Requirement already satisfied: numpy in /opt/hostedtoolcache/Python/3.6.15/x64/lib/python3.6/site-packages (from mnist) (1.19.5)\r\n"
     ]
    },
    {
     "name": "stdout",
     "output_type": "stream",
     "text": [
      "Installing collected packages: mnist\r\n"
     ]
    },
    {
     "name": "stdout",
     "output_type": "stream",
     "text": [
      "Successfully installed mnist-0.2.2\r\n"
     ]
    }
   ],
   "source": [
    "!pip install mnist"
   ]
  },
  {
   "cell_type": "markdown",
   "id": "69df9c9a",
   "metadata": {
    "papermill": {
     "duration": 0.024855,
     "end_time": "2022-05-28T20:10:10.555947",
     "exception": false,
     "start_time": "2022-05-28T20:10:10.531092",
     "status": "completed"
    },
    "tags": []
   },
   "source": [
    "## Preparing the Data"
   ]
  },
  {
   "cell_type": "code",
   "execution_count": 4,
   "id": "7f69d806",
   "metadata": {
    "execution": {
     "iopub.execute_input": "2022-05-28T20:10:10.618096Z",
     "iopub.status.busy": "2022-05-28T20:10:10.617283Z",
     "iopub.status.idle": "2022-05-28T20:10:10.626461Z",
     "shell.execute_reply": "2022-05-28T20:10:10.626911Z"
    },
    "papermill": {
     "duration": 0.046176,
     "end_time": "2022-05-28T20:10:10.627036",
     "exception": false,
     "start_time": "2022-05-28T20:10:10.580860",
     "status": "completed"
    },
    "tags": []
   },
   "outputs": [],
   "source": [
    "import mnist"
   ]
  },
  {
   "cell_type": "code",
   "execution_count": 5,
   "id": "a411e44f",
   "metadata": {
    "execution": {
     "iopub.execute_input": "2022-05-28T20:10:10.692963Z",
     "iopub.status.busy": "2022-05-28T20:10:10.678968Z",
     "iopub.status.idle": "2022-05-28T20:10:11.251427Z",
     "shell.execute_reply": "2022-05-28T20:10:11.250374Z"
    },
    "papermill": {
     "duration": 0.599813,
     "end_time": "2022-05-28T20:10:11.251588",
     "exception": false,
     "start_time": "2022-05-28T20:10:10.651775",
     "status": "completed"
    },
    "tags": []
   },
   "outputs": [],
   "source": [
    "train_images = mnist.train_images()\n",
    "train_labels = mnist.train_labels()"
   ]
  },
  {
   "cell_type": "code",
   "execution_count": 6,
   "id": "dceab3a5",
   "metadata": {
    "execution": {
     "iopub.execute_input": "2022-05-28T20:10:11.312393Z",
     "iopub.status.busy": "2022-05-28T20:10:11.311006Z",
     "iopub.status.idle": "2022-05-28T20:10:11.324322Z",
     "shell.execute_reply": "2022-05-28T20:10:11.323535Z"
    },
    "papermill": {
     "duration": 0.047579,
     "end_time": "2022-05-28T20:10:11.324432",
     "exception": false,
     "start_time": "2022-05-28T20:10:11.276853",
     "status": "completed"
    },
    "tags": []
   },
   "outputs": [
    {
     "data": {
      "text/plain": [
       "((60000, 28, 28), (60000,))"
      ]
     },
     "execution_count": 6,
     "metadata": {},
     "output_type": "execute_result"
    }
   ],
   "source": [
    "train_images.shape, train_labels.shape"
   ]
  },
  {
   "cell_type": "code",
   "execution_count": 7,
   "id": "f50dc2bb",
   "metadata": {
    "execution": {
     "iopub.execute_input": "2022-05-28T20:10:11.389400Z",
     "iopub.status.busy": "2022-05-28T20:10:11.384327Z",
     "iopub.status.idle": "2022-05-28T20:10:11.593677Z",
     "shell.execute_reply": "2022-05-28T20:10:11.592422Z"
    },
    "papermill": {
     "duration": 0.244455,
     "end_time": "2022-05-28T20:10:11.593830",
     "exception": false,
     "start_time": "2022-05-28T20:10:11.349375",
     "status": "completed"
    },
    "tags": []
   },
   "outputs": [],
   "source": [
    "test_images = mnist.test_images()\n",
    "test_labels = mnist.test_labels()"
   ]
  },
  {
   "cell_type": "code",
   "execution_count": 8,
   "id": "fc38cf1b",
   "metadata": {
    "execution": {
     "iopub.execute_input": "2022-05-28T20:10:11.651106Z",
     "iopub.status.busy": "2022-05-28T20:10:11.649227Z",
     "iopub.status.idle": "2022-05-28T20:10:11.662148Z",
     "shell.execute_reply": "2022-05-28T20:10:11.662599Z"
    },
    "papermill": {
     "duration": 0.042745,
     "end_time": "2022-05-28T20:10:11.662729",
     "exception": false,
     "start_time": "2022-05-28T20:10:11.619984",
     "status": "completed"
    },
    "tags": []
   },
   "outputs": [
    {
     "data": {
      "text/plain": [
       "((10000, 28, 28), (10000,))"
      ]
     },
     "execution_count": 8,
     "metadata": {},
     "output_type": "execute_result"
    }
   ],
   "source": [
    "test_images.shape, test_labels.shape"
   ]
  },
  {
   "cell_type": "code",
   "execution_count": 9,
   "id": "f9ed8fe0",
   "metadata": {
    "execution": {
     "iopub.execute_input": "2022-05-28T20:10:11.717108Z",
     "iopub.status.busy": "2022-05-28T20:10:11.716458Z",
     "iopub.status.idle": "2022-05-28T20:10:11.851520Z",
     "shell.execute_reply": "2022-05-28T20:10:11.852017Z"
    },
    "papermill": {
     "duration": 0.164054,
     "end_time": "2022-05-28T20:10:11.852162",
     "exception": false,
     "start_time": "2022-05-28T20:10:11.688108",
     "status": "completed"
    },
    "tags": []
   },
   "outputs": [
    {
     "name": "stdout",
     "output_type": "stream",
     "text": [
      "2\n"
     ]
    },
    {
     "data": {
      "text/plain": [
       "<matplotlib.image.AxesImage at 0x7fd492cd0e80>"
      ]
     },
     "execution_count": 9,
     "metadata": {},
     "output_type": "execute_result"
    },
    {
     "data": {
      "image/png": "[encoded data removed]",
      "text/plain": [
       "<Figure size 432x288 with 1 Axes>"
      ]
     },
     "metadata": {
      "needs_background": "light"
     },
     "output_type": "display_data"
    }
   ],
   "source": [
    "image_index = 7776 # You may select anything up to 60,000\n",
    "print(train_labels[image_index]) \n",
    "plt.imshow(train_images[image_index], cmap='Greys')"
   ]
  },
  {
   "cell_type": "markdown",
   "id": "a8d2388d",
   "metadata": {
    "papermill": {
     "duration": 0.026241,
     "end_time": "2022-05-28T20:10:11.904824",
     "exception": false,
     "start_time": "2022-05-28T20:10:11.878583",
     "status": "completed"
    },
    "tags": []
   },
   "source": [
    "## Filter data to get 3 and 8 out"
   ]
  },
  {
   "cell_type": "code",
   "execution_count": 10,
   "id": "776f7fc7",
   "metadata": {
    "execution": {
     "iopub.execute_input": "2022-05-28T20:10:11.965039Z",
     "iopub.status.busy": "2022-05-28T20:10:11.964450Z",
     "iopub.status.idle": "2022-05-28T20:10:11.980696Z",
     "shell.execute_reply": "2022-05-28T20:10:11.981120Z"
    },
    "papermill": {
     "duration": 0.0502,
     "end_time": "2022-05-28T20:10:11.981248",
     "exception": false,
     "start_time": "2022-05-28T20:10:11.931048",
     "status": "completed"
    },
    "tags": []
   },
   "outputs": [],
   "source": [
    "train_filter = np.where((train_labels == 3 ) | (train_labels == 8))\n",
    "test_filter = np.where((test_labels == 3) | (test_labels == 8))\n",
    "X_train, y_train = train_images[train_filter], train_labels[train_filter]\n",
    "X_test, y_test = test_images[test_filter], test_labels[test_filter]"
   ]
  },
  {
   "cell_type": "markdown",
   "id": "948f0b7e",
   "metadata": {
    "papermill": {
     "duration": 0.026193,
     "end_time": "2022-05-28T20:10:12.033745",
     "exception": false,
     "start_time": "2022-05-28T20:10:12.007552",
     "status": "completed"
    },
    "tags": []
   },
   "source": [
    "We normalize the pizel values in the 0 to 1 range"
   ]
  },
  {
   "cell_type": "code",
   "execution_count": 11,
   "id": "ee4c2166",
   "metadata": {
    "execution": {
     "iopub.execute_input": "2022-05-28T20:10:12.090379Z",
     "iopub.status.busy": "2022-05-28T20:10:12.089790Z",
     "iopub.status.idle": "2022-05-28T20:10:12.138754Z",
     "shell.execute_reply": "2022-05-28T20:10:12.138156Z"
    },
    "papermill": {
     "duration": 0.078812,
     "end_time": "2022-05-28T20:10:12.138898",
     "exception": false,
     "start_time": "2022-05-28T20:10:12.060086",
     "status": "completed"
    },
    "tags": []
   },
   "outputs": [],
   "source": [
    "X_train = X_train/255.\n",
    "X_test = X_test/255."
   ]
  },
  {
   "cell_type": "markdown",
   "id": "ddcf4fab",
   "metadata": {
    "papermill": {
     "duration": 0.026371,
     "end_time": "2022-05-28T20:10:12.192794",
     "exception": false,
     "start_time": "2022-05-28T20:10:12.166423",
     "status": "completed"
    },
    "tags": []
   },
   "source": [
    "And setup the labels as 1 (when the digit is 3) and 0 (when the digit is 8)"
   ]
  },
  {
   "cell_type": "code",
   "execution_count": 12,
   "id": "7dc908f2",
   "metadata": {
    "execution": {
     "iopub.execute_input": "2022-05-28T20:10:12.249006Z",
     "iopub.status.busy": "2022-05-28T20:10:12.248423Z",
     "iopub.status.idle": "2022-05-28T20:10:12.260518Z",
     "shell.execute_reply": "2022-05-28T20:10:12.260991Z"
    },
    "papermill": {
     "duration": 0.042129,
     "end_time": "2022-05-28T20:10:12.261119",
     "exception": false,
     "start_time": "2022-05-28T20:10:12.218990",
     "status": "completed"
    },
    "tags": []
   },
   "outputs": [],
   "source": [
    "y_train = 1*(y_train==3)\n",
    "y_test = 1*(y_test==3)"
   ]
  },
  {
   "cell_type": "code",
   "execution_count": 13,
   "id": "01e4e969",
   "metadata": {
    "execution": {
     "iopub.execute_input": "2022-05-28T20:10:12.328746Z",
     "iopub.status.busy": "2022-05-28T20:10:12.324314Z",
     "iopub.status.idle": "2022-05-28T20:10:12.331674Z",
     "shell.execute_reply": "2022-05-28T20:10:12.332129Z"
    },
    "papermill": {
     "duration": 0.044929,
     "end_time": "2022-05-28T20:10:12.332248",
     "exception": false,
     "start_time": "2022-05-28T20:10:12.287319",
     "status": "completed"
    },
    "tags": []
   },
   "outputs": [
    {
     "data": {
      "text/plain": [
       "((11982, 28, 28), (1984, 28, 28))"
      ]
     },
     "execution_count": 13,
     "metadata": {},
     "output_type": "execute_result"
    }
   ],
   "source": [
    "X_train.shape, X_test.shape"
   ]
  },
  {
   "cell_type": "markdown",
   "id": "5ccf3f85",
   "metadata": {
    "papermill": {
     "duration": 0.026536,
     "end_time": "2022-05-28T20:10:12.385020",
     "exception": false,
     "start_time": "2022-05-28T20:10:12.358484",
     "status": "completed"
    },
    "tags": []
   },
   "source": [
    "We reshape the data to flatten the image pixels into a set of features or co-variates:"
   ]
  },
  {
   "cell_type": "code",
   "execution_count": 14,
   "id": "5286a4a3",
   "metadata": {
    "execution": {
     "iopub.execute_input": "2022-05-28T20:10:12.452461Z",
     "iopub.status.busy": "2022-05-28T20:10:12.440988Z",
     "iopub.status.idle": "2022-05-28T20:10:12.457231Z",
     "shell.execute_reply": "2022-05-28T20:10:12.457653Z"
    },
    "papermill": {
     "duration": 0.046317,
     "end_time": "2022-05-28T20:10:12.457774",
     "exception": false,
     "start_time": "2022-05-28T20:10:12.411457",
     "status": "completed"
    },
    "tags": []
   },
   "outputs": [
    {
     "data": {
      "text/plain": [
       "((11982, 784), (1984, 784))"
      ]
     },
     "execution_count": 14,
     "metadata": {},
     "output_type": "execute_result"
    }
   ],
   "source": [
    "X_train = X_train.reshape(X_train.shape[0], -1)\n",
    "X_test = X_test.reshape(X_test.shape[0], -1)\n",
    "X_train.shape, X_test.shape"
   ]
  },
  {
   "cell_type": "code",
   "execution_count": 15,
   "id": "73c5f88a",
   "metadata": {
    "execution": {
     "iopub.execute_input": "2022-05-28T20:10:12.532582Z",
     "iopub.status.busy": "2022-05-28T20:10:12.524309Z",
     "iopub.status.idle": "2022-05-28T20:10:12.536640Z",
     "shell.execute_reply": "2022-05-28T20:10:12.537386Z"
    },
    "papermill": {
     "duration": 0.053163,
     "end_time": "2022-05-28T20:10:12.537511",
     "exception": false,
     "start_time": "2022-05-28T20:10:12.484348",
     "status": "completed"
    },
    "tags": []
   },
   "outputs": [],
   "source": [
    "#Impoting functions from 'Kudzu'\n",
    "from kudzu.model import Model\n",
    "from kudzu.train import Learner\n",
    "from kudzu.optim import GD\n",
    "from kudzu.data import Data, Sampler,Dataloader\n",
    "\n",
    "from kudzu.callbacks import AccCallback\n",
    "from kudzu.callbacks import ClfCallback\n",
    "\n",
    "from kudzu.loss import MSE\n",
    "\n",
    "from kudzu.layer import Sigmoid,Relu\n",
    "from kudzu.layer import Affine"
   ]
  },
  {
   "cell_type": "markdown",
   "id": "bc01172a",
   "metadata": {
    "papermill": {
     "duration": 0.027038,
     "end_time": "2022-05-28T20:10:12.591305",
     "exception": false,
     "start_time": "2022-05-28T20:10:12.564267",
     "status": "completed"
    },
    "tags": []
   },
   "source": [
    "### Let us create a `Config` class, to store important parameters. \n",
    "This class essentially plays the role of a dictionary."
   ]
  },
  {
   "cell_type": "code",
   "execution_count": 16,
   "id": "978281aa",
   "metadata": {
    "execution": {
     "iopub.execute_input": "2022-05-28T20:10:12.648787Z",
     "iopub.status.busy": "2022-05-28T20:10:12.648097Z",
     "iopub.status.idle": "2022-05-28T20:10:12.660028Z",
     "shell.execute_reply": "2022-05-28T20:10:12.659526Z"
    },
    "papermill": {
     "duration": 0.04232,
     "end_time": "2022-05-28T20:10:12.660136",
     "exception": false,
     "start_time": "2022-05-28T20:10:12.617816",
     "status": "completed"
    },
    "tags": []
   },
   "outputs": [],
   "source": [
    "class Config:\n",
    "    pass\n",
    "config = Config()\n",
    "config.lr = 0.001\n",
    "config.num_epochs = 250\n",
    "config.bs = 50"
   ]
  },
  {
   "cell_type": "markdown",
   "id": "1385fa59",
   "metadata": {
    "papermill": {
     "duration": 0.026586,
     "end_time": "2022-05-28T20:10:12.713438",
     "exception": false,
     "start_time": "2022-05-28T20:10:12.686852",
     "status": "completed"
    },
    "tags": []
   },
   "source": [
    "### Running Models with the Training data\n",
    "Details about the network layers:\n",
    "- A first affine layer has 784 inputs and does 100 affine transforms. These are followed by a Relu\n",
    "- A second affine layer has 100 inputs from the 100 activations of the past layer, and does 100 affine transforms. These are followed by a Relu\n",
    "- A third affine layer has 100 activations and does 2 affine transformations to create an embedding for visualization. There is no non-linearity here.\n",
    "- A final \"logistic regression\" which has an affine transform from 2 inputs to 1 output, which is squeezed through a sigmoid.\n"
   ]
  },
  {
   "cell_type": "code",
   "execution_count": 17,
   "id": "2b9c66db",
   "metadata": {
    "execution": {
     "iopub.execute_input": "2022-05-28T20:10:12.770613Z",
     "iopub.status.busy": "2022-05-28T20:10:12.770036Z",
     "iopub.status.idle": "2022-05-28T20:10:12.782958Z",
     "shell.execute_reply": "2022-05-28T20:10:12.782490Z"
    },
    "papermill": {
     "duration": 0.0429,
     "end_time": "2022-05-28T20:10:12.783061",
     "exception": false,
     "start_time": "2022-05-28T20:10:12.740161",
     "status": "completed"
    },
    "tags": []
   },
   "outputs": [],
   "source": [
    "data = Data(X_train, y_train.reshape(-1,1))\n",
    "sampler = Sampler(data, config.bs, shuffle=True)\n",
    "\n",
    "dl = Dataloader(data, sampler)\n",
    "\n",
    "opt = GD(config.lr)\n",
    "loss = MSE()"
   ]
  },
  {
   "cell_type": "code",
   "execution_count": 18,
   "id": "b275e4c2",
   "metadata": {
    "execution": {
     "iopub.execute_input": "2022-05-28T20:10:12.839692Z",
     "iopub.status.busy": "2022-05-28T20:10:12.839089Z",
     "iopub.status.idle": "2022-05-28T20:10:12.852054Z",
     "shell.execute_reply": "2022-05-28T20:10:12.851557Z"
    },
    "papermill": {
     "duration": 0.042429,
     "end_time": "2022-05-28T20:10:12.852159",
     "exception": false,
     "start_time": "2022-05-28T20:10:12.809730",
     "status": "completed"
    },
    "tags": []
   },
   "outputs": [],
   "source": [
    "training_data_x = X_train\n",
    "testing_data_x = X_test\n",
    "training_data_y = y_train.reshape(-1,1)\n",
    "testing_data_y = y_test.reshape(-1,1)"
   ]
  },
  {
   "cell_type": "code",
   "execution_count": 19,
   "id": "76951160",
   "metadata": {
    "execution": {
     "iopub.execute_input": "2022-05-28T20:10:12.909139Z",
     "iopub.status.busy": "2022-05-28T20:10:12.908569Z",
     "iopub.status.idle": "2022-05-28T20:10:12.925128Z",
     "shell.execute_reply": "2022-05-28T20:10:12.924566Z"
    },
    "papermill": {
     "duration": 0.04655,
     "end_time": "2022-05-28T20:10:12.925229",
     "exception": false,
     "start_time": "2022-05-28T20:10:12.878679",
     "status": "completed"
    },
    "tags": []
   },
   "outputs": [
    {
     "name": "stdout",
     "output_type": "stream",
     "text": [
      "xavier\n",
      "xavier\n",
      "xavier\n",
      "xavier\n",
      "xavier\n"
     ]
    }
   ],
   "source": [
    "layers = [Affine(\"first\", 784, 100), Relu(\"first\"), Affine(\"second\", 100, 100), Relu(\"second\"), Affine(\"third\", 100, 2), Affine(\"last\", 2, 1), Sigmoid(\"last\")]\n",
    "model_nn = Model(layers)\n",
    "model_lr = Model([Affine(\"logits\", 784, 1), Sigmoid(\"sigmoid\")])"
   ]
  },
  {
   "cell_type": "code",
   "execution_count": 20,
   "id": "6eede77a",
   "metadata": {
    "execution": {
     "iopub.execute_input": "2022-05-28T20:10:12.989723Z",
     "iopub.status.busy": "2022-05-28T20:10:12.988847Z",
     "iopub.status.idle": "2022-05-28T20:10:12.997384Z",
     "shell.execute_reply": "2022-05-28T20:10:12.996923Z"
    },
    "papermill": {
     "duration": 0.045277,
     "end_time": "2022-05-28T20:10:12.997487",
     "exception": false,
     "start_time": "2022-05-28T20:10:12.952210",
     "status": "completed"
    },
    "tags": []
   },
   "outputs": [],
   "source": [
    "nn_learner = Learner(loss, model_nn, opt, config.num_epochs)\n",
    "acc_nn = ClfCallback(nn_learner, config.bs, training_data_x , testing_data_x, training_data_y, testing_data_y)\n",
    "nn_learner.set_callbacks([acc_nn])"
   ]
  },
  {
   "cell_type": "code",
   "execution_count": 21,
   "id": "877b6cc7",
   "metadata": {
    "execution": {
     "iopub.execute_input": "2022-05-28T20:10:13.059305Z",
     "iopub.status.busy": "2022-05-28T20:10:13.056141Z",
     "iopub.status.idle": "2022-05-28T20:10:13.067759Z",
     "shell.execute_reply": "2022-05-28T20:10:13.068191Z"
    },
    "papermill": {
     "duration": 0.043875,
     "end_time": "2022-05-28T20:10:13.068311",
     "exception": false,
     "start_time": "2022-05-28T20:10:13.024436",
     "status": "completed"
    },
    "tags": []
   },
   "outputs": [],
   "source": [
    "lr_learner = Learner(loss, model_lr, opt, config.num_epochs)\n",
    "acc_lr = ClfCallback(lr_learner, config.bs, training_data_x , testing_data_x, training_data_y, testing_data_y)\n",
    "lr_learner.set_callbacks([acc_lr])"
   ]
  },
  {
   "cell_type": "code",
   "execution_count": 22,
   "id": "d9b133c3",
   "metadata": {
    "execution": {
     "iopub.execute_input": "2022-05-28T20:10:13.125547Z",
     "iopub.status.busy": "2022-05-28T20:10:13.124904Z",
     "iopub.status.idle": "2022-05-28T20:11:27.427781Z",
     "shell.execute_reply": "2022-05-28T20:11:27.428621Z"
    },
    "papermill": {
     "duration": 74.333626,
     "end_time": "2022-05-28T20:11:27.428777",
     "exception": false,
     "start_time": "2022-05-28T20:10:13.095151",
     "status": "completed"
    },
    "tags": []
   },
   "outputs": [
    {
     "name": "stdout",
     "output_type": "stream",
     "text": [
      "Epoch 0, Loss 0.2537\n",
      "Training Accuracy: 0.6192, Testing Accuracy: 0.6321\n",
      "\n"
     ]
    },
    {
     "name": "stdout",
     "output_type": "stream",
     "text": [
      "Epoch 10, Loss 0.0807\n",
      "Training Accuracy: 0.9202, Testing Accuracy: 0.9289\n",
      "\n"
     ]
    },
    {
     "name": "stdout",
     "output_type": "stream",
     "text": [
      "Epoch 20, Loss 0.0536\n",
      "Training Accuracy: 0.9440, Testing Accuracy: 0.9486\n",
      "\n"
     ]
    },
    {
     "name": "stdout",
     "output_type": "stream",
     "text": [
      "Epoch 30, Loss 0.0431\n",
      "Training Accuracy: 0.9528, Testing Accuracy: 0.9602\n",
      "\n"
     ]
    },
    {
     "name": "stdout",
     "output_type": "stream",
     "text": [
      "Epoch 40, Loss 0.0376\n",
      "Training Accuracy: 0.9575, Testing Accuracy: 0.9622\n",
      "\n"
     ]
    },
    {
     "name": "stdout",
     "output_type": "stream",
     "text": [
      "Epoch 50, Loss 0.0341\n",
      "Training Accuracy: 0.9614, Testing Accuracy: 0.9657\n",
      "\n"
     ]
    },
    {
     "name": "stdout",
     "output_type": "stream",
     "text": [
      "Epoch 60, Loss 0.0316\n",
      "Training Accuracy: 0.9643, Testing Accuracy: 0.9667\n",
      "\n"
     ]
    },
    {
     "name": "stdout",
     "output_type": "stream",
     "text": [
      "Epoch 70, Loss 0.0298\n",
      "Training Accuracy: 0.9665, Testing Accuracy: 0.9693\n",
      "\n"
     ]
    },
    {
     "name": "stdout",
     "output_type": "stream",
     "text": [
      "Epoch 80, Loss 0.0283\n",
      "Training Accuracy: 0.9679, Testing Accuracy: 0.9698\n",
      "\n"
     ]
    },
    {
     "name": "stdout",
     "output_type": "stream",
     "text": [
      "Epoch 90, Loss 0.027\n",
      "Training Accuracy: 0.9689, Testing Accuracy: 0.9718\n",
      "\n"
     ]
    },
    {
     "name": "stdout",
     "output_type": "stream",
     "text": [
      "Epoch 100, Loss 0.026\n",
      "Training Accuracy: 0.9698, Testing Accuracy: 0.9723\n",
      "\n"
     ]
    },
    {
     "name": "stdout",
     "output_type": "stream",
     "text": [
      "Epoch 110, Loss 0.025\n",
      "Training Accuracy: 0.9708, Testing Accuracy: 0.9718\n",
      "\n"
     ]
    },
    {
     "name": "stdout",
     "output_type": "stream",
     "text": [
      "Epoch 120, Loss 0.0242\n",
      "Training Accuracy: 0.9719, Testing Accuracy: 0.9738\n",
      "\n"
     ]
    },
    {
     "name": "stdout",
     "output_type": "stream",
     "text": [
      "Epoch 130, Loss 0.0234\n",
      "Training Accuracy: 0.9726, Testing Accuracy: 0.9748\n",
      "\n"
     ]
    },
    {
     "name": "stdout",
     "output_type": "stream",
     "text": [
      "Epoch 140, Loss 0.0227\n",
      "Training Accuracy: 0.9731, Testing Accuracy: 0.9743\n",
      "\n"
     ]
    },
    {
     "name": "stdout",
     "output_type": "stream",
     "text": [
      "Epoch 150, Loss 0.0221\n",
      "Training Accuracy: 0.9738, Testing Accuracy: 0.9748\n",
      "\n"
     ]
    },
    {
     "name": "stdout",
     "output_type": "stream",
     "text": [
      "Epoch 160, Loss 0.0215\n",
      "Training Accuracy: 0.9748, Testing Accuracy: 0.9758\n",
      "\n"
     ]
    },
    {
     "name": "stdout",
     "output_type": "stream",
     "text": [
      "Epoch 170, Loss 0.0209\n",
      "Training Accuracy: 0.9756, Testing Accuracy: 0.9753\n",
      "\n"
     ]
    },
    {
     "name": "stdout",
     "output_type": "stream",
     "text": [
      "Epoch 180, Loss 0.0204\n",
      "Training Accuracy: 0.9763, Testing Accuracy: 0.9753\n",
      "\n"
     ]
    },
    {
     "name": "stdout",
     "output_type": "stream",
     "text": [
      "Epoch 190, Loss 0.0199\n",
      "Training Accuracy: 0.9776, Testing Accuracy: 0.9753\n",
      "\n"
     ]
    },
    {
     "name": "stdout",
     "output_type": "stream",
     "text": [
      "Epoch 200, Loss 0.0194\n",
      "Training Accuracy: 0.9783, Testing Accuracy: 0.9748\n",
      "\n"
     ]
    },
    {
     "name": "stdout",
     "output_type": "stream",
     "text": [
      "Epoch 210, Loss 0.0189\n",
      "Training Accuracy: 0.9789, Testing Accuracy: 0.9763\n",
      "\n"
     ]
    },
    {
     "name": "stdout",
     "output_type": "stream",
     "text": [
      "Epoch 220, Loss 0.0185\n",
      "Training Accuracy: 0.9794, Testing Accuracy: 0.9768\n",
      "\n"
     ]
    },
    {
     "name": "stdout",
     "output_type": "stream",
     "text": [
      "Epoch 230, Loss 0.0181\n",
      "Training Accuracy: 0.9801, Testing Accuracy: 0.9768\n",
      "\n"
     ]
    },
    {
     "name": "stdout",
     "output_type": "stream",
     "text": [
      "Epoch 240, Loss 0.0176\n",
      "Training Accuracy: 0.9808, Testing Accuracy: 0.9768\n",
      "\n"
     ]
    },
    {
     "data": {
      "text/plain": [
       "0.026817724281685718"
      ]
     },
     "execution_count": 22,
     "metadata": {},
     "output_type": "execute_result"
    }
   ],
   "source": [
    "nn_learner.train_loop(dl)"
   ]
  },
  {
   "cell_type": "code",
   "execution_count": 23,
   "id": "e0163366",
   "metadata": {
    "execution": {
     "iopub.execute_input": "2022-05-28T20:11:27.511083Z",
     "iopub.status.busy": "2022-05-28T20:11:27.510514Z",
     "iopub.status.idle": "2022-05-28T20:11:40.746362Z",
     "shell.execute_reply": "2022-05-28T20:11:40.747254Z"
    },
    "papermill": {
     "duration": 13.284034,
     "end_time": "2022-05-28T20:11:40.747412",
     "exception": false,
     "start_time": "2022-05-28T20:11:27.463378",
     "status": "completed"
    },
    "tags": []
   },
   "outputs": [
    {
     "name": "stdout",
     "output_type": "stream",
     "text": [
      "Epoch 0, Loss 0.2452\n",
      "Training Accuracy: 0.6520, Testing Accuracy: 0.6532\n",
      "\n"
     ]
    },
    {
     "name": "stdout",
     "output_type": "stream",
     "text": [
      "Epoch 10, Loss 0.1045\n",
      "Training Accuracy: 0.9029, Testing Accuracy: 0.9189\n",
      "\n"
     ]
    },
    {
     "name": "stdout",
     "output_type": "stream",
     "text": [
      "Epoch 20, Loss 0.0801\n",
      "Training Accuracy: 0.9246, Testing Accuracy: 0.9385\n",
      "\n"
     ]
    },
    {
     "name": "stdout",
     "output_type": "stream",
     "text": [
      "Epoch 30, Loss 0.0688\n",
      "Training Accuracy: 0.9346, Testing Accuracy: 0.9461\n",
      "\n"
     ]
    },
    {
     "name": "stdout",
     "output_type": "stream",
     "text": [
      "Epoch 40, Loss 0.062\n",
      "Training Accuracy: 0.9395, Testing Accuracy: 0.9506\n",
      "\n"
     ]
    },
    {
     "name": "stdout",
     "output_type": "stream",
     "text": [
      "Epoch 50, Loss 0.0574\n",
      "Training Accuracy: 0.9435, Testing Accuracy: 0.9556\n",
      "\n"
     ]
    },
    {
     "name": "stdout",
     "output_type": "stream",
     "text": [
      "Epoch 60, Loss 0.054\n",
      "Training Accuracy: 0.9458, Testing Accuracy: 0.9592\n",
      "\n"
     ]
    },
    {
     "name": "stdout",
     "output_type": "stream",
     "text": [
      "Epoch 70, Loss 0.0514\n",
      "Training Accuracy: 0.9488, Testing Accuracy: 0.9617\n",
      "\n"
     ]
    },
    {
     "name": "stdout",
     "output_type": "stream",
     "text": [
      "Epoch 80, Loss 0.0494\n",
      "Training Accuracy: 0.9500, Testing Accuracy: 0.9627\n",
      "\n"
     ]
    },
    {
     "name": "stdout",
     "output_type": "stream",
     "text": [
      "Epoch 90, Loss 0.0477\n",
      "Training Accuracy: 0.9511, Testing Accuracy: 0.9627\n",
      "\n"
     ]
    },
    {
     "name": "stdout",
     "output_type": "stream",
     "text": [
      "Epoch 100, Loss 0.0462\n",
      "Training Accuracy: 0.9531, Testing Accuracy: 0.9642\n",
      "\n"
     ]
    },
    {
     "name": "stdout",
     "output_type": "stream",
     "text": [
      "Epoch 110, Loss 0.045\n",
      "Training Accuracy: 0.9545, Testing Accuracy: 0.9657\n",
      "\n"
     ]
    },
    {
     "name": "stdout",
     "output_type": "stream",
     "text": [
      "Epoch 120, Loss 0.0439\n",
      "Training Accuracy: 0.9550, Testing Accuracy: 0.9652\n",
      "\n"
     ]
    },
    {
     "name": "stdout",
     "output_type": "stream",
     "text": [
      "Epoch 130, Loss 0.043\n",
      "Training Accuracy: 0.9555, Testing Accuracy: 0.9652\n",
      "\n"
     ]
    },
    {
     "name": "stdout",
     "output_type": "stream",
     "text": [
      "Epoch 140, Loss 0.0422\n",
      "Training Accuracy: 0.9564, Testing Accuracy: 0.9652\n",
      "\n"
     ]
    },
    {
     "name": "stdout",
     "output_type": "stream",
     "text": [
      "Epoch 150, Loss 0.0414\n",
      "Training Accuracy: 0.9569, Testing Accuracy: 0.9657\n",
      "\n"
     ]
    },
    {
     "name": "stdout",
     "output_type": "stream",
     "text": [
      "Epoch 160, Loss 0.0407\n",
      "Training Accuracy: 0.9573, Testing Accuracy: 0.9652\n",
      "\n"
     ]
    },
    {
     "name": "stdout",
     "output_type": "stream",
     "text": [
      "Epoch 170, Loss 0.0401\n",
      "Training Accuracy: 0.9581, Testing Accuracy: 0.9662\n",
      "\n"
     ]
    },
    {
     "name": "stdout",
     "output_type": "stream",
     "text": [
      "Epoch 180, Loss 0.0395\n",
      "Training Accuracy: 0.9584, Testing Accuracy: 0.9662\n",
      "\n"
     ]
    },
    {
     "name": "stdout",
     "output_type": "stream",
     "text": [
      "Epoch 190, Loss 0.039\n",
      "Training Accuracy: 0.9593, Testing Accuracy: 0.9657\n",
      "\n"
     ]
    },
    {
     "name": "stdout",
     "output_type": "stream",
     "text": [
      "Epoch 200, Loss 0.0385\n",
      "Training Accuracy: 0.9595, Testing Accuracy: 0.9657\n",
      "\n"
     ]
    },
    {
     "name": "stdout",
     "output_type": "stream",
     "text": [
      "Epoch 210, Loss 0.0381\n",
      "Training Accuracy: 0.9596, Testing Accuracy: 0.9652\n",
      "\n"
     ]
    },
    {
     "name": "stdout",
     "output_type": "stream",
     "text": [
      "Epoch 220, Loss 0.0377\n",
      "Training Accuracy: 0.9598, Testing Accuracy: 0.9647\n",
      "\n"
     ]
    },
    {
     "name": "stdout",
     "output_type": "stream",
     "text": [
      "Epoch 230, Loss 0.0373\n",
      "Training Accuracy: 0.9601, Testing Accuracy: 0.9647\n",
      "\n"
     ]
    },
    {
     "name": "stdout",
     "output_type": "stream",
     "text": [
      "Epoch 240, Loss 0.0369\n",
      "Training Accuracy: 0.9604, Testing Accuracy: 0.9652\n",
      "\n"
     ]
    },
    {
     "data": {
      "text/plain": [
       "0.024150528640232892"
      ]
     },
     "execution_count": 23,
     "metadata": {},
     "output_type": "execute_result"
    }
   ],
   "source": [
    "lr_learner.train_loop(dl)"
   ]
  },
  {
   "cell_type": "code",
   "execution_count": 24,
   "id": "ca410940",
   "metadata": {
    "execution": {
     "iopub.execute_input": "2022-05-28T20:11:40.837580Z",
     "iopub.status.busy": "2022-05-28T20:11:40.836981Z",
     "iopub.status.idle": "2022-05-28T20:11:41.067034Z",
     "shell.execute_reply": "2022-05-28T20:11:41.066199Z"
    },
    "papermill": {
     "duration": 0.278554,
     "end_time": "2022-05-28T20:11:41.067176",
     "exception": false,
     "start_time": "2022-05-28T20:11:40.788622",
     "status": "completed"
    },
    "tags": []
   },
   "outputs": [
    {
     "data": {
      "text/plain": [
       "<matplotlib.legend.Legend at 0x7fd492841550>"
      ]
     },
     "execution_count": 24,
     "metadata": {},
     "output_type": "execute_result"
    },
    {
     "data": {
      "image/png": "[encoded data removed]",
      "text/plain": [
       "<Figure size 1080x720 with 1 Axes>"
      ]
     },
     "metadata": {
      "needs_background": "light"
     },
     "output_type": "display_data"
    }
   ],
   "source": [
    "#comparing the results of NN and LR\n",
    "plt.figure(figsize=(15,10))\n",
    "\n",
    "# Neural Network plots\n",
    "plt.plot(acc_nn.accuracies, 'r-', label = \"Training Accuracies - NN\")\n",
    "plt.plot(acc_nn.test_accuracies, 'g-', label = \"Testing Accuracies - NN\")\n",
    "\n",
    "# Logistic Regression plots\n",
    "plt.plot(acc_lr.accuracies, 'k-', label = \"Training Accuracies - LR\")\n",
    "plt.plot(acc_lr.test_accuracies, 'b-', label = \"Testing Accuracies - LR\")\n",
    "plt.legend()"
   ]
  },
  {
   "cell_type": "markdown",
   "id": "80dfb35c",
   "metadata": {
    "papermill": {
     "duration": 0.041759,
     "end_time": "2022-05-28T20:11:41.151000",
     "exception": false,
     "start_time": "2022-05-28T20:11:41.109241",
     "status": "completed"
    },
    "tags": []
   },
   "source": [
    "#### Plotting the outputs of this layer of the NN.\n"
   ]
  },
  {
   "cell_type": "code",
   "execution_count": 25,
   "id": "45eb2ff5",
   "metadata": {
    "execution": {
     "iopub.execute_input": "2022-05-28T20:11:41.241478Z",
     "iopub.status.busy": "2022-05-28T20:11:41.240872Z",
     "iopub.status.idle": "2022-05-28T20:11:41.259793Z",
     "shell.execute_reply": "2022-05-28T20:11:41.259290Z"
    },
    "papermill": {
     "duration": 0.067274,
     "end_time": "2022-05-28T20:11:41.259914",
     "exception": false,
     "start_time": "2022-05-28T20:11:41.192640",
     "status": "completed"
    },
    "tags": []
   },
   "outputs": [],
   "source": [
    "new_model = Model(layers[:-2])\n",
    "testing_plot = new_model(testing_data_x)"
   ]
  },
  {
   "cell_type": "code",
   "execution_count": 26,
   "id": "4c0a5485",
   "metadata": {
    "execution": {
     "iopub.execute_input": "2022-05-28T20:11:41.348228Z",
     "iopub.status.busy": "2022-05-28T20:11:41.347615Z",
     "iopub.status.idle": "2022-05-28T20:11:41.535125Z",
     "shell.execute_reply": "2022-05-28T20:11:41.535571Z"
    },
    "papermill": {
     "duration": 0.233859,
     "end_time": "2022-05-28T20:11:41.535732",
     "exception": false,
     "start_time": "2022-05-28T20:11:41.301873",
     "status": "completed"
    },
    "tags": []
   },
   "outputs": [
    {
     "data": {
      "text/plain": [
       "Text(0.5, 1.0, 'Outputs')"
      ]
     },
     "execution_count": 26,
     "metadata": {},
     "output_type": "execute_result"
    },
    {
     "data": {
      "image/png": "[encoded data removed]",
      "text/plain": [
       "<Figure size 576x504 with 1 Axes>"
      ]
     },
     "metadata": {
      "needs_background": "light"
     },
     "output_type": "display_data"
    }
   ],
   "source": [
    "# Plotting the scatter plot of points and color coding by class\n",
    "plt.figure(figsize=(8,7))\n",
    "plt.scatter(testing_plot[:,0], testing_plot[:,1], alpha = 0.1, c = y_test.ravel());\n",
    "plt.title('Outputs')"
   ]
  },
  {
   "cell_type": "markdown",
   "id": "a74fcf8f",
   "metadata": {
    "papermill": {
     "duration": 0.043401,
     "end_time": "2022-05-28T20:11:41.623107",
     "exception": false,
     "start_time": "2022-05-28T20:11:41.579706",
     "status": "completed"
    },
    "tags": []
   },
   "source": [
    "Probability contours"
   ]
  },
  {
   "cell_type": "code",
   "execution_count": 27,
   "id": "d0afc8e3",
   "metadata": {
    "execution": {
     "iopub.execute_input": "2022-05-28T20:11:41.747471Z",
     "iopub.status.busy": "2022-05-28T20:11:41.746873Z",
     "iopub.status.idle": "2022-05-28T20:11:41.759344Z",
     "shell.execute_reply": "2022-05-28T20:11:41.758787Z"
    },
    "papermill": {
     "duration": 0.092256,
     "end_time": "2022-05-28T20:11:41.759453",
     "exception": false,
     "start_time": "2022-05-28T20:11:41.667197",
     "status": "completed"
    },
    "tags": []
   },
   "outputs": [],
   "source": [
    "model_prob = Model(layers[-2:]) "
   ]
  },
  {
   "cell_type": "code",
   "execution_count": 28,
   "id": "9b96e238",
   "metadata": {
    "execution": {
     "iopub.execute_input": "2022-05-28T20:11:41.851351Z",
     "iopub.status.busy": "2022-05-28T20:11:41.850764Z",
     "iopub.status.idle": "2022-05-28T20:11:41.866575Z",
     "shell.execute_reply": "2022-05-28T20:11:41.866995Z"
    },
    "papermill": {
     "duration": 0.064074,
     "end_time": "2022-05-28T20:11:41.867117",
     "exception": false,
     "start_time": "2022-05-28T20:11:41.803043",
     "status": "completed"
    },
    "tags": []
   },
   "outputs": [],
   "source": [
    "#creating the x and y ranges according to the above generated plot.\n",
    "x_range = np.linspace(-4, 1, 100) \n",
    "y_range = np.linspace(-6, 6, 100) \n",
    "x_grid, y_grid = np.meshgrid(x_range, y_range) # x_grid and y_grig are of size 100 X 100\n",
    "\n",
    "# converting x_grid and y_grid to continuous arrays\n",
    "x_gridflat = np.ravel(x_grid)\n",
    "y_gridflat = np.ravel(y_grid)\n",
    "\n",
    "# The last layer of the current model takes two columns as input. Hence transpose of np.vstack() is required.\n",
    "X = np.vstack((x_gridflat, y_gridflat)).T\n",
    "\n",
    "prob_contour = model_prob(X).reshape(100,100) "
   ]
  },
  {
   "cell_type": "code",
   "execution_count": 29,
   "id": "da72499a",
   "metadata": {
    "execution": {
     "iopub.execute_input": "2022-05-28T20:11:41.962608Z",
     "iopub.status.busy": "2022-05-28T20:11:41.962021Z",
     "iopub.status.idle": "2022-05-28T20:11:42.199482Z",
     "shell.execute_reply": "2022-05-28T20:11:42.198931Z"
    },
    "papermill": {
     "duration": 0.288845,
     "end_time": "2022-05-28T20:11:42.199640",
     "exception": false,
     "start_time": "2022-05-28T20:11:41.910795",
     "status": "completed"
    },
    "tags": []
   },
   "outputs": [
    {
     "data": {
      "image/png": "[encoded data removed]",
      "text/plain": [
       "<Figure size 720x648 with 1 Axes>"
      ]
     },
     "metadata": {
      "needs_background": "light"
     },
     "output_type": "display_data"
    }
   ],
   "source": [
    "plt.figure(figsize=(10,9))\n",
    "plt.scatter(testing_plot[:,0], testing_plot[:,1], alpha = 0.1, c = y_test.ravel())\n",
    "contours = plt.contour(x_grid,y_grid,prob_contour)\n",
    "plt.title('Probability Contours')\n",
    "plt.clabel(contours, inline = True );"
   ]
  },
  {
   "cell_type": "code",
   "execution_count": null,
   "id": "e81b4ac7",
   "metadata": {
    "papermill": {
     "duration": 0.046175,
     "end_time": "2022-05-28T20:11:42.293082",
     "exception": false,
     "start_time": "2022-05-28T20:11:42.246907",
     "status": "completed"
    },
    "tags": []
   },
   "outputs": [],
   "source": []
  }
 ],
 "metadata": {
  "kernelspec": {
   "display_name": "Python 3",
   "language": "python",
   "name": "python3"
  },
  "language_info": {
   "codemirror_mode": {
    "name": "ipython",
    "version": 3
   },
   "file_extension": ".py",
   "mimetype": "text/x-python",
   "name": "python",
   "nbconvert_exporter": "python",
   "pygments_lexer": "ipython3",
   "version": "3.6.15"
  },
  "papermill": {
   "default_parameters": {},
   "duration": 96.475192,
   "end_time": "2022-05-28T20:11:42.758348",
   "environment_variables": {},
   "exception": null,
   "input_path": "2020-08-11-part2.ipynb",
   "output_path": "2020-08-11-part2.ipynb",
   "parameters": {},
   "start_time": "2022-05-28T20:10:06.283156",
   "version": "2.3.3"
  }
 },
 "nbformat": 4,
 "nbformat_minor": 5
}