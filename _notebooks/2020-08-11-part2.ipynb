{
 "cells": [
  {
   "cell_type": "markdown",
   "id": "98380cd3",
   "metadata": {
    "papermill": {
     "duration": 0.037813,
     "end_time": "2021-09-02T00:21:04.695922",
     "exception": false,
     "start_time": "2021-09-02T00:21:04.658109",
     "status": "completed"
    },
    "tags": []
   },
   "source": [
    "# Distinguish Your Own Digits (DYOD)"
   ]
  },
  {
   "cell_type": "markdown",
   "id": "ef31240d",
   "metadata": {
    "papermill": {
     "duration": 0.033959,
     "end_time": "2021-09-02T00:21:04.762188",
     "exception": false,
     "start_time": "2021-09-02T00:21:04.728229",
     "status": "completed"
    },
    "tags": []
   },
   "source": [
    "You are going to write a classifier that distinguishes between the number 3 and number 8."
   ]
  },
  {
   "cell_type": "code",
   "execution_count": 1,
   "id": "b15c8646",
   "metadata": {
    "execution": {
     "iopub.execute_input": "2021-09-02T00:21:04.839320Z",
     "iopub.status.busy": "2021-09-02T00:21:04.838572Z",
     "iopub.status.idle": "2021-09-02T00:21:04.852974Z",
     "shell.execute_reply": "2021-09-02T00:21:04.852328Z"
    },
    "papermill": {
     "duration": 0.059114,
     "end_time": "2021-09-02T00:21:04.853152",
     "exception": false,
     "start_time": "2021-09-02T00:21:04.794038",
     "status": "completed"
    },
    "tags": []
   },
   "outputs": [],
   "source": [
    "%load_ext autoreload\n",
    "%autoreload 2"
   ]
  },
  {
   "cell_type": "code",
   "execution_count": 2,
   "id": "22ef38dc",
   "metadata": {
    "execution": {
     "iopub.execute_input": "2021-09-02T00:21:04.939590Z",
     "iopub.status.busy": "2021-09-02T00:21:04.938771Z",
     "iopub.status.idle": "2021-09-02T00:21:05.650815Z",
     "shell.execute_reply": "2021-09-02T00:21:05.651420Z"
    },
    "papermill": {
     "duration": 0.766084,
     "end_time": "2021-09-02T00:21:05.651633",
     "exception": false,
     "start_time": "2021-09-02T00:21:04.885549",
     "status": "completed"
    },
    "tags": []
   },
   "outputs": [],
   "source": [
    "%matplotlib inline\n",
    "import numpy as np\n",
    "import matplotlib.pyplot as plt\n",
    "import pandas as pd"
   ]
  },
  {
   "cell_type": "markdown",
   "id": "ba036198",
   "metadata": {
    "papermill": {
     "duration": 0.037068,
     "end_time": "2021-09-02T00:21:05.724507",
     "exception": false,
     "start_time": "2021-09-02T00:21:05.687439",
     "status": "completed"
    },
    "tags": []
   },
   "source": [
    "From the command line run `pip install mnist`. This is a library that will help you bring down the mnist dataset. If you run this from a notebook, you need to put  `!pip install mnist` in a cell by itself."
   ]
  },
  {
   "cell_type": "code",
   "execution_count": 3,
   "id": "bb6ad8a1",
   "metadata": {
    "execution": {
     "iopub.execute_input": "2021-09-02T00:21:05.798141Z",
     "iopub.status.busy": "2021-09-02T00:21:05.797350Z",
     "iopub.status.idle": "2021-09-02T00:21:08.824221Z",
     "shell.execute_reply": "2021-09-02T00:21:08.823641Z"
    },
    "papermill": {
     "duration": 3.068066,
     "end_time": "2021-09-02T00:21:08.824377",
     "exception": false,
     "start_time": "2021-09-02T00:21:05.756311",
     "status": "completed"
    },
    "tags": []
   },
   "outputs": [
    {
     "name": "stdout",
     "output_type": "stream",
     "text": [
      "Collecting mnist\r\n"
     ]
    },
    {
     "name": "stdout",
     "output_type": "stream",
     "text": [
      "  Downloading mnist-0.2.2-py2.py3-none-any.whl (3.5 kB)\r\n",
      "Requirement already satisfied: numpy in /opt/hostedtoolcache/Python/3.6.14/x64/lib/python3.6/site-packages (from mnist) (1.19.5)\r\n"
     ]
    },
    {
     "name": "stdout",
     "output_type": "stream",
     "text": [
      "Installing collected packages: mnist\r\n"
     ]
    },
    {
     "name": "stdout",
     "output_type": "stream",
     "text": [
      "Successfully installed mnist-0.2.2\r\n"
     ]
    }
   ],
   "source": [
    "!pip install mnist"
   ]
  },
  {
   "cell_type": "markdown",
   "id": "69df9c9a",
   "metadata": {
    "papermill": {
     "duration": 0.033548,
     "end_time": "2021-09-02T00:21:08.909983",
     "exception": false,
     "start_time": "2021-09-02T00:21:08.876435",
     "status": "completed"
    },
    "tags": []
   },
   "source": [
    "## Preparing the Data"
   ]
  },
  {
   "cell_type": "code",
   "execution_count": 4,
   "id": "7f69d806",
   "metadata": {
    "execution": {
     "iopub.execute_input": "2021-09-02T00:21:08.982117Z",
     "iopub.status.busy": "2021-09-02T00:21:08.981418Z",
     "iopub.status.idle": "2021-09-02T00:21:08.998746Z",
     "shell.execute_reply": "2021-09-02T00:21:08.998162Z"
    },
    "papermill": {
     "duration": 0.055436,
     "end_time": "2021-09-02T00:21:08.998967",
     "exception": false,
     "start_time": "2021-09-02T00:21:08.943531",
     "status": "completed"
    },
    "tags": []
   },
   "outputs": [],
   "source": [
    "import mnist"
   ]
  },
  {
   "cell_type": "code",
   "execution_count": 5,
   "id": "a411e44f",
   "metadata": {
    "execution": {
     "iopub.execute_input": "2021-09-02T00:21:09.112367Z",
     "iopub.status.busy": "2021-09-02T00:21:09.111688Z",
     "iopub.status.idle": "2021-09-02T00:21:09.807735Z",
     "shell.execute_reply": "2021-09-02T00:21:09.807154Z"
    },
    "papermill": {
     "duration": 0.747837,
     "end_time": "2021-09-02T00:21:09.807894",
     "exception": false,
     "start_time": "2021-09-02T00:21:09.060057",
     "status": "completed"
    },
    "tags": []
   },
   "outputs": [],
   "source": [
    "train_images = mnist.train_images()\n",
    "train_labels = mnist.train_labels()"
   ]
  },
  {
   "cell_type": "code",
   "execution_count": 6,
   "id": "dceab3a5",
   "metadata": {
    "execution": {
     "iopub.execute_input": "2021-09-02T00:21:09.883143Z",
     "iopub.status.busy": "2021-09-02T00:21:09.881980Z",
     "iopub.status.idle": "2021-09-02T00:21:09.902530Z",
     "shell.execute_reply": "2021-09-02T00:21:09.903074Z"
    },
    "papermill": {
     "duration": 0.062242,
     "end_time": "2021-09-02T00:21:09.903249",
     "exception": false,
     "start_time": "2021-09-02T00:21:09.841007",
     "status": "completed"
    },
    "tags": []
   },
   "outputs": [
    {
     "data": {
      "text/plain": [
       "((60000, 28, 28), (60000,))"
      ]
     },
     "execution_count": 6,
     "metadata": {},
     "output_type": "execute_result"
    }
   ],
   "source": [
    "train_images.shape, train_labels.shape"
   ]
  },
  {
   "cell_type": "code",
   "execution_count": 7,
   "id": "f50dc2bb",
   "metadata": {
    "execution": {
     "iopub.execute_input": "2021-09-02T00:21:09.987217Z",
     "iopub.status.busy": "2021-09-02T00:21:09.981808Z",
     "iopub.status.idle": "2021-09-02T00:21:10.188417Z",
     "shell.execute_reply": "2021-09-02T00:21:10.187817Z"
    },
    "papermill": {
     "duration": 0.250929,
     "end_time": "2021-09-02T00:21:10.188580",
     "exception": false,
     "start_time": "2021-09-02T00:21:09.937651",
     "status": "completed"
    },
    "tags": []
   },
   "outputs": [],
   "source": [
    "test_images = mnist.test_images()\n",
    "test_labels = mnist.test_labels()"
   ]
  },
  {
   "cell_type": "code",
   "execution_count": 8,
   "id": "fc38cf1b",
   "metadata": {
    "execution": {
     "iopub.execute_input": "2021-09-02T00:21:10.264190Z",
     "iopub.status.busy": "2021-09-02T00:21:10.263445Z",
     "iopub.status.idle": "2021-09-02T00:21:10.278235Z",
     "shell.execute_reply": "2021-09-02T00:21:10.277628Z"
    },
    "papermill": {
     "duration": 0.055395,
     "end_time": "2021-09-02T00:21:10.278385",
     "exception": false,
     "start_time": "2021-09-02T00:21:10.222990",
     "status": "completed"
    },
    "tags": []
   },
   "outputs": [
    {
     "data": {
      "text/plain": [
       "((10000, 28, 28), (10000,))"
      ]
     },
     "execution_count": 8,
     "metadata": {},
     "output_type": "execute_result"
    }
   ],
   "source": [
    "test_images.shape, test_labels.shape"
   ]
  },
  {
   "cell_type": "code",
   "execution_count": 9,
   "id": "f9ed8fe0",
   "metadata": {
    "execution": {
     "iopub.execute_input": "2021-09-02T00:21:10.353029Z",
     "iopub.status.busy": "2021-09-02T00:21:10.352282Z",
     "iopub.status.idle": "2021-09-02T00:21:10.555881Z",
     "shell.execute_reply": "2021-09-02T00:21:10.555325Z"
    },
    "papermill": {
     "duration": 0.243562,
     "end_time": "2021-09-02T00:21:10.556033",
     "exception": false,
     "start_time": "2021-09-02T00:21:10.312471",
     "status": "completed"
    },
    "tags": []
   },
   "outputs": [
    {
     "name": "stdout",
     "output_type": "stream",
     "text": [
      "2\n"
     ]
    },
    {
     "data": {
      "text/plain": [
       "<matplotlib.image.AxesImage at 0x7fb8b408bfd0>"
      ]
     },
     "execution_count": 9,
     "metadata": {},
     "output_type": "execute_result"
    },
    {
     "data": {
      "image/png": "[encoded data removed]",
      "text/plain": [
       "<Figure size 432x288 with 1 Axes>"
      ]
     },
     "metadata": {
      "needs_background": "light"
     },
     "output_type": "display_data"
    }
   ],
   "source": [
    "image_index = 7776 # You may select anything up to 60,000\n",
    "print(train_labels[image_index]) \n",
    "plt.imshow(train_images[image_index], cmap='Greys')"
   ]
  },
  {
   "cell_type": "markdown",
   "id": "a8d2388d",
   "metadata": {
    "papermill": {
     "duration": 0.033957,
     "end_time": "2021-09-02T00:21:10.624760",
     "exception": false,
     "start_time": "2021-09-02T00:21:10.590803",
     "status": "completed"
    },
    "tags": []
   },
   "source": [
    "## Filter data to get 3 and 8 out"
   ]
  },
  {
   "cell_type": "code",
   "execution_count": 10,
   "id": "776f7fc7",
   "metadata": {
    "execution": {
     "iopub.execute_input": "2021-09-02T00:21:10.701795Z",
     "iopub.status.busy": "2021-09-02T00:21:10.701082Z",
     "iopub.status.idle": "2021-09-02T00:21:10.724236Z",
     "shell.execute_reply": "2021-09-02T00:21:10.723660Z"
    },
    "papermill": {
     "duration": 0.06501,
     "end_time": "2021-09-02T00:21:10.724389",
     "exception": false,
     "start_time": "2021-09-02T00:21:10.659379",
     "status": "completed"
    },
    "tags": []
   },
   "outputs": [],
   "source": [
    "train_filter = np.where((train_labels == 3 ) | (train_labels == 8))\n",
    "test_filter = np.where((test_labels == 3) | (test_labels == 8))\n",
    "X_train, y_train = train_images[train_filter], train_labels[train_filter]\n",
    "X_test, y_test = test_images[test_filter], test_labels[test_filter]"
   ]
  },
  {
   "cell_type": "markdown",
   "id": "948f0b7e",
   "metadata": {
    "papermill": {
     "duration": 0.035307,
     "end_time": "2021-09-02T00:21:10.794182",
     "exception": false,
     "start_time": "2021-09-02T00:21:10.758875",
     "status": "completed"
    },
    "tags": []
   },
   "source": [
    "We normalize the pizel values in the 0 to 1 range"
   ]
  },
  {
   "cell_type": "code",
   "execution_count": 11,
   "id": "ee4c2166",
   "metadata": {
    "execution": {
     "iopub.execute_input": "2021-09-02T00:21:10.870907Z",
     "iopub.status.busy": "2021-09-02T00:21:10.870232Z",
     "iopub.status.idle": "2021-09-02T00:21:10.938241Z",
     "shell.execute_reply": "2021-09-02T00:21:10.938827Z"
    },
    "papermill": {
     "duration": 0.107692,
     "end_time": "2021-09-02T00:21:10.939013",
     "exception": false,
     "start_time": "2021-09-02T00:21:10.831321",
     "status": "completed"
    },
    "tags": []
   },
   "outputs": [],
   "source": [
    "X_train = X_train/255.\n",
    "X_test = X_test/255."
   ]
  },
  {
   "cell_type": "markdown",
   "id": "ddcf4fab",
   "metadata": {
    "papermill": {
     "duration": 0.035174,
     "end_time": "2021-09-02T00:21:11.007894",
     "exception": false,
     "start_time": "2021-09-02T00:21:10.972720",
     "status": "completed"
    },
    "tags": []
   },
   "source": [
    "And setup the labels as 1 (when the digit is 3) and 0 (when the digit is 8)"
   ]
  },
  {
   "cell_type": "code",
   "execution_count": 12,
   "id": "7dc908f2",
   "metadata": {
    "execution": {
     "iopub.execute_input": "2021-09-02T00:21:11.081541Z",
     "iopub.status.busy": "2021-09-02T00:21:11.080850Z",
     "iopub.status.idle": "2021-09-02T00:21:11.096136Z",
     "shell.execute_reply": "2021-09-02T00:21:11.095418Z"
    },
    "papermill": {
     "duration": 0.053917,
     "end_time": "2021-09-02T00:21:11.096285",
     "exception": false,
     "start_time": "2021-09-02T00:21:11.042368",
     "status": "completed"
    },
    "tags": []
   },
   "outputs": [],
   "source": [
    "y_train = 1*(y_train==3)\n",
    "y_test = 1*(y_test==3)"
   ]
  },
  {
   "cell_type": "code",
   "execution_count": 13,
   "id": "01e4e969",
   "metadata": {
    "execution": {
     "iopub.execute_input": "2021-09-02T00:21:11.174356Z",
     "iopub.status.busy": "2021-09-02T00:21:11.173650Z",
     "iopub.status.idle": "2021-09-02T00:21:11.195903Z",
     "shell.execute_reply": "2021-09-02T00:21:11.196447Z"
    },
    "papermill": {
     "duration": 0.066247,
     "end_time": "2021-09-02T00:21:11.196620",
     "exception": false,
     "start_time": "2021-09-02T00:21:11.130373",
     "status": "completed"
    },
    "tags": []
   },
   "outputs": [
    {
     "data": {
      "text/plain": [
       "((11982, 28, 28), (1984, 28, 28))"
      ]
     },
     "execution_count": 13,
     "metadata": {},
     "output_type": "execute_result"
    }
   ],
   "source": [
    "X_train.shape, X_test.shape"
   ]
  },
  {
   "cell_type": "markdown",
   "id": "5ccf3f85",
   "metadata": {
    "papermill": {
     "duration": 0.034745,
     "end_time": "2021-09-02T00:21:11.272768",
     "exception": false,
     "start_time": "2021-09-02T00:21:11.238023",
     "status": "completed"
    },
    "tags": []
   },
   "source": [
    "We reshape the data to flatten the image pixels into a set of features or co-variates:"
   ]
  },
  {
   "cell_type": "code",
   "execution_count": 14,
   "id": "5286a4a3",
   "metadata": {
    "execution": {
     "iopub.execute_input": "2021-09-02T00:21:11.349780Z",
     "iopub.status.busy": "2021-09-02T00:21:11.349085Z",
     "iopub.status.idle": "2021-09-02T00:21:11.363642Z",
     "shell.execute_reply": "2021-09-02T00:21:11.364232Z"
    },
    "papermill": {
     "duration": 0.055545,
     "end_time": "2021-09-02T00:21:11.364403",
     "exception": false,
     "start_time": "2021-09-02T00:21:11.308858",
     "status": "completed"
    },
    "tags": []
   },
   "outputs": [
    {
     "data": {
      "text/plain": [
       "((11982, 784), (1984, 784))"
      ]
     },
     "execution_count": 14,
     "metadata": {},
     "output_type": "execute_result"
    }
   ],
   "source": [
    "X_train = X_train.reshape(X_train.shape[0], -1)\n",
    "X_test = X_test.reshape(X_test.shape[0], -1)\n",
    "X_train.shape, X_test.shape"
   ]
  },
  {
   "cell_type": "code",
   "execution_count": 15,
   "id": "73c5f88a",
   "metadata": {
    "execution": {
     "iopub.execute_input": "2021-09-02T00:21:11.441894Z",
     "iopub.status.busy": "2021-09-02T00:21:11.441202Z",
     "iopub.status.idle": "2021-09-02T00:21:11.471781Z",
     "shell.execute_reply": "2021-09-02T00:21:11.471089Z"
    },
    "papermill": {
     "duration": 0.071218,
     "end_time": "2021-09-02T00:21:11.471950",
     "exception": false,
     "start_time": "2021-09-02T00:21:11.400732",
     "status": "completed"
    },
    "tags": []
   },
   "outputs": [],
   "source": [
    "#Impoting functions from 'Kudzu'\n",
    "from kudzu.model import Model\n",
    "from kudzu.train import Learner\n",
    "from kudzu.optim import GD\n",
    "from kudzu.data import Data, Sampler,Dataloader\n",
    "\n",
    "from kudzu.callbacks import AccCallback\n",
    "from kudzu.callbacks import ClfCallback\n",
    "\n",
    "from kudzu.loss import MSE\n",
    "\n",
    "from kudzu.layer import Sigmoid,Relu\n",
    "from kudzu.layer import Affine"
   ]
  },
  {
   "cell_type": "markdown",
   "id": "bc01172a",
   "metadata": {
    "papermill": {
     "duration": 0.037355,
     "end_time": "2021-09-02T00:21:11.550204",
     "exception": false,
     "start_time": "2021-09-02T00:21:11.512849",
     "status": "completed"
    },
    "tags": []
   },
   "source": [
    "### Let us create a `Config` class, to store important parameters. \n",
    "This class essentially plays the role of a dictionary."
   ]
  },
  {
   "cell_type": "code",
   "execution_count": 16,
   "id": "978281aa",
   "metadata": {
    "execution": {
     "iopub.execute_input": "2021-09-02T00:21:11.632531Z",
     "iopub.status.busy": "2021-09-02T00:21:11.631808Z",
     "iopub.status.idle": "2021-09-02T00:21:11.646852Z",
     "shell.execute_reply": "2021-09-02T00:21:11.646202Z"
    },
    "papermill": {
     "duration": 0.058868,
     "end_time": "2021-09-02T00:21:11.647013",
     "exception": false,
     "start_time": "2021-09-02T00:21:11.588145",
     "status": "completed"
    },
    "tags": []
   },
   "outputs": [],
   "source": [
    "class Config:\n",
    "    pass\n",
    "config = Config()\n",
    "config.lr = 0.001\n",
    "config.num_epochs = 250\n",
    "config.bs = 50"
   ]
  },
  {
   "cell_type": "markdown",
   "id": "1385fa59",
   "metadata": {
    "papermill": {
     "duration": 0.038462,
     "end_time": "2021-09-02T00:21:11.720750",
     "exception": false,
     "start_time": "2021-09-02T00:21:11.682288",
     "status": "completed"
    },
    "tags": []
   },
   "source": [
    "### Running Models with the Training data\n",
    "Details about the network layers:\n",
    "- A first affine layer has 784 inputs and does 100 affine transforms. These are followed by a Relu\n",
    "- A second affine layer has 100 inputs from the 100 activations of the past layer, and does 100 affine transforms. These are followed by a Relu\n",
    "- A third affine layer has 100 activations and does 2 affine transformations to create an embedding for visualization. There is no non-linearity here.\n",
    "- A final \"logistic regression\" which has an affine transform from 2 inputs to 1 output, which is squeezed through a sigmoid.\n"
   ]
  },
  {
   "cell_type": "code",
   "execution_count": 17,
   "id": "2b9c66db",
   "metadata": {
    "execution": {
     "iopub.execute_input": "2021-09-02T00:21:11.812491Z",
     "iopub.status.busy": "2021-09-02T00:21:11.811560Z",
     "iopub.status.idle": "2021-09-02T00:21:11.826757Z",
     "shell.execute_reply": "2021-09-02T00:21:11.826179Z"
    },
    "papermill": {
     "duration": 0.056687,
     "end_time": "2021-09-02T00:21:11.826913",
     "exception": false,
     "start_time": "2021-09-02T00:21:11.770226",
     "status": "completed"
    },
    "tags": []
   },
   "outputs": [],
   "source": [
    "data = Data(X_train, y_train.reshape(-1,1))\n",
    "sampler = Sampler(data, config.bs, shuffle=True)\n",
    "\n",
    "dl = Dataloader(data, sampler)\n",
    "\n",
    "opt = GD(config.lr)\n",
    "loss = MSE()"
   ]
  },
  {
   "cell_type": "code",
   "execution_count": 18,
   "id": "b275e4c2",
   "metadata": {
    "execution": {
     "iopub.execute_input": "2021-09-02T00:21:11.919639Z",
     "iopub.status.busy": "2021-09-02T00:21:11.914043Z",
     "iopub.status.idle": "2021-09-02T00:21:11.922091Z",
     "shell.execute_reply": "2021-09-02T00:21:11.922609Z"
    },
    "papermill": {
     "duration": 0.059268,
     "end_time": "2021-09-02T00:21:11.922887",
     "exception": false,
     "start_time": "2021-09-02T00:21:11.863619",
     "status": "completed"
    },
    "tags": []
   },
   "outputs": [],
   "source": [
    "training_data_x = X_train\n",
    "testing_data_x = X_test\n",
    "training_data_y = y_train.reshape(-1,1)\n",
    "testing_data_y = y_test.reshape(-1,1)"
   ]
  },
  {
   "cell_type": "code",
   "execution_count": 19,
   "id": "76951160",
   "metadata": {
    "execution": {
     "iopub.execute_input": "2021-09-02T00:21:12.017601Z",
     "iopub.status.busy": "2021-09-02T00:21:12.016844Z",
     "iopub.status.idle": "2021-09-02T00:21:12.036559Z",
     "shell.execute_reply": "2021-09-02T00:21:12.037132Z"
    },
    "papermill": {
     "duration": 0.078102,
     "end_time": "2021-09-02T00:21:12.037316",
     "exception": false,
     "start_time": "2021-09-02T00:21:11.959214",
     "status": "completed"
    },
    "tags": []
   },
   "outputs": [
    {
     "name": "stdout",
     "output_type": "stream",
     "text": [
      "xavier\n",
      "xavier\n",
      "xavier\n",
      "xavier\n",
      "xavier\n"
     ]
    }
   ],
   "source": [
    "layers = [Affine(\"first\", 784, 100), Relu(\"first\"), Affine(\"second\", 100, 100), Relu(\"second\"), Affine(\"third\", 100, 2), Affine(\"last\", 2, 1), Sigmoid(\"last\")]\n",
    "model_nn = Model(layers)\n",
    "model_lr = Model([Affine(\"logits\", 784, 1), Sigmoid(\"sigmoid\")])"
   ]
  },
  {
   "cell_type": "code",
   "execution_count": 20,
   "id": "6eede77a",
   "metadata": {
    "execution": {
     "iopub.execute_input": "2021-09-02T00:21:12.127142Z",
     "iopub.status.busy": "2021-09-02T00:21:12.126477Z",
     "iopub.status.idle": "2021-09-02T00:21:12.140941Z",
     "shell.execute_reply": "2021-09-02T00:21:12.140329Z"
    },
    "papermill": {
     "duration": 0.065107,
     "end_time": "2021-09-02T00:21:12.141095",
     "exception": false,
     "start_time": "2021-09-02T00:21:12.075988",
     "status": "completed"
    },
    "tags": []
   },
   "outputs": [],
   "source": [
    "nn_learner = Learner(loss, model_nn, opt, config.num_epochs)\n",
    "acc_nn = ClfCallback(nn_learner, config.bs, training_data_x , testing_data_x, training_data_y, testing_data_y)\n",
    "nn_learner.set_callbacks([acc_nn])"
   ]
  },
  {
   "cell_type": "code",
   "execution_count": 21,
   "id": "877b6cc7",
   "metadata": {
    "execution": {
     "iopub.execute_input": "2021-09-02T00:21:12.222053Z",
     "iopub.status.busy": "2021-09-02T00:21:12.221363Z",
     "iopub.status.idle": "2021-09-02T00:21:12.236536Z",
     "shell.execute_reply": "2021-09-02T00:21:12.235955Z"
    },
    "papermill": {
     "duration": 0.055937,
     "end_time": "2021-09-02T00:21:12.236687",
     "exception": false,
     "start_time": "2021-09-02T00:21:12.180750",
     "status": "completed"
    },
    "tags": []
   },
   "outputs": [],
   "source": [
    "lr_learner = Learner(loss, model_lr, opt, config.num_epochs)\n",
    "acc_lr = ClfCallback(lr_learner, config.bs, training_data_x , testing_data_x, training_data_y, testing_data_y)\n",
    "lr_learner.set_callbacks([acc_lr])"
   ]
  },
  {
   "cell_type": "code",
   "execution_count": 22,
   "id": "d9b133c3",
   "metadata": {
    "execution": {
     "iopub.execute_input": "2021-09-02T00:21:12.315263Z",
     "iopub.status.busy": "2021-09-02T00:21:12.314573Z",
     "iopub.status.idle": "2021-09-02T00:23:28.640127Z",
     "shell.execute_reply": "2021-09-02T00:23:28.641062Z"
    },
    "papermill": {
     "duration": 136.369587,
     "end_time": "2021-09-02T00:23:28.641241",
     "exception": false,
     "start_time": "2021-09-02T00:21:12.271654",
     "status": "completed"
    },
    "tags": []
   },
   "outputs": [
    {
     "name": "stdout",
     "output_type": "stream",
     "text": [
      "Epoch 0, Loss 0.2501\n",
      "Training Accuracy: 0.5428, Testing Accuracy: 0.5499\n",
      "\n"
     ]
    },
    {
     "name": "stdout",
     "output_type": "stream",
     "text": [
      "Epoch 10, Loss 0.2282\n",
      "Training Accuracy: 0.8225, Testing Accuracy: 0.8251\n",
      "\n"
     ]
    },
    {
     "name": "stdout",
     "output_type": "stream",
     "text": [
      "Epoch 20, Loss 0.146\n",
      "Training Accuracy: 0.8908, Testing Accuracy: 0.9032\n",
      "\n"
     ]
    },
    {
     "name": "stdout",
     "output_type": "stream",
     "text": [
      "Epoch 30, Loss 0.0758\n",
      "Training Accuracy: 0.9235, Testing Accuracy: 0.9365\n",
      "\n"
     ]
    },
    {
     "name": "stdout",
     "output_type": "stream",
     "text": [
      "Epoch 40, Loss 0.0544\n",
      "Training Accuracy: 0.9394, Testing Accuracy: 0.9481\n",
      "\n"
     ]
    },
    {
     "name": "stdout",
     "output_type": "stream",
     "text": [
      "Epoch 50, Loss 0.0451\n",
      "Training Accuracy: 0.9486, Testing Accuracy: 0.9572\n",
      "\n"
     ]
    },
    {
     "name": "stdout",
     "output_type": "stream",
     "text": [
      "Epoch 60, Loss 0.0398\n",
      "Training Accuracy: 0.9533, Testing Accuracy: 0.9602\n",
      "\n"
     ]
    },
    {
     "name": "stdout",
     "output_type": "stream",
     "text": [
      "Epoch 70, Loss 0.0364\n",
      "Training Accuracy: 0.9574, Testing Accuracy: 0.9637\n",
      "\n"
     ]
    },
    {
     "name": "stdout",
     "output_type": "stream",
     "text": [
      "Epoch 80, Loss 0.0339\n",
      "Training Accuracy: 0.9605, Testing Accuracy: 0.9647\n",
      "\n"
     ]
    },
    {
     "name": "stdout",
     "output_type": "stream",
     "text": [
      "Epoch 90, Loss 0.0321\n",
      "Training Accuracy: 0.9629, Testing Accuracy: 0.9637\n",
      "\n"
     ]
    },
    {
     "name": "stdout",
     "output_type": "stream",
     "text": [
      "Epoch 100, Loss 0.0306\n",
      "Training Accuracy: 0.9642, Testing Accuracy: 0.9647\n",
      "\n"
     ]
    },
    {
     "name": "stdout",
     "output_type": "stream",
     "text": [
      "Epoch 110, Loss 0.0294\n",
      "Training Accuracy: 0.9658, Testing Accuracy: 0.9657\n",
      "\n"
     ]
    },
    {
     "name": "stdout",
     "output_type": "stream",
     "text": [
      "Epoch 120, Loss 0.0283\n",
      "Training Accuracy: 0.9670, Testing Accuracy: 0.9667\n",
      "\n"
     ]
    },
    {
     "name": "stdout",
     "output_type": "stream",
     "text": [
      "Epoch 130, Loss 0.0274\n",
      "Training Accuracy: 0.9680, Testing Accuracy: 0.9662\n",
      "\n"
     ]
    },
    {
     "name": "stdout",
     "output_type": "stream",
     "text": [
      "Epoch 140, Loss 0.0266\n",
      "Training Accuracy: 0.9692, Testing Accuracy: 0.9662\n",
      "\n"
     ]
    },
    {
     "name": "stdout",
     "output_type": "stream",
     "text": [
      "Epoch 150, Loss 0.0259\n",
      "Training Accuracy: 0.9695, Testing Accuracy: 0.9667\n",
      "\n"
     ]
    },
    {
     "name": "stdout",
     "output_type": "stream",
     "text": [
      "Epoch 160, Loss 0.0252\n",
      "Training Accuracy: 0.9705, Testing Accuracy: 0.9677\n",
      "\n"
     ]
    },
    {
     "name": "stdout",
     "output_type": "stream",
     "text": [
      "Epoch 170, Loss 0.0246\n",
      "Training Accuracy: 0.9710, Testing Accuracy: 0.9693\n",
      "\n"
     ]
    },
    {
     "name": "stdout",
     "output_type": "stream",
     "text": [
      "Epoch 180, Loss 0.024\n",
      "Training Accuracy: 0.9719, Testing Accuracy: 0.9703\n",
      "\n"
     ]
    },
    {
     "name": "stdout",
     "output_type": "stream",
     "text": [
      "Epoch 190, Loss 0.0235\n",
      "Training Accuracy: 0.9720, Testing Accuracy: 0.9703\n",
      "\n"
     ]
    },
    {
     "name": "stdout",
     "output_type": "stream",
     "text": [
      "Epoch 200, Loss 0.023\n",
      "Training Accuracy: 0.9728, Testing Accuracy: 0.9698\n",
      "\n"
     ]
    },
    {
     "name": "stdout",
     "output_type": "stream",
     "text": [
      "Epoch 210, Loss 0.0226\n",
      "Training Accuracy: 0.9734, Testing Accuracy: 0.9693\n",
      "\n"
     ]
    },
    {
     "name": "stdout",
     "output_type": "stream",
     "text": [
      "Epoch 220, Loss 0.0221\n",
      "Training Accuracy: 0.9745, Testing Accuracy: 0.9693\n",
      "\n"
     ]
    },
    {
     "name": "stdout",
     "output_type": "stream",
     "text": [
      "Epoch 230, Loss 0.0217\n",
      "Training Accuracy: 0.9749, Testing Accuracy: 0.9698\n",
      "\n"
     ]
    },
    {
     "name": "stdout",
     "output_type": "stream",
     "text": [
      "Epoch 240, Loss 0.0213\n",
      "Training Accuracy: 0.9758, Testing Accuracy: 0.9698\n",
      "\n"
     ]
    },
    {
     "data": {
      "text/plain": [
       "0.0030113244784621407"
      ]
     },
     "execution_count": 22,
     "metadata": {},
     "output_type": "execute_result"
    }
   ],
   "source": [
    "nn_learner.train_loop(dl)"
   ]
  },
  {
   "cell_type": "code",
   "execution_count": 23,
   "id": "e0163366",
   "metadata": {
    "execution": {
     "iopub.execute_input": "2021-09-02T00:23:28.762664Z",
     "iopub.status.busy": "2021-09-02T00:23:28.761997Z",
     "iopub.status.idle": "2021-09-02T00:23:49.808338Z",
     "shell.execute_reply": "2021-09-02T00:23:49.809391Z"
    },
    "papermill": {
     "duration": 21.122647,
     "end_time": "2021-09-02T00:23:49.809581",
     "exception": false,
     "start_time": "2021-09-02T00:23:28.686934",
     "status": "completed"
    },
    "tags": []
   },
   "outputs": [
    {
     "name": "stdout",
     "output_type": "stream",
     "text": [
      "Epoch 0, Loss 0.2703\n",
      "Training Accuracy: 0.5577, Testing Accuracy: 0.5192\n",
      "\n"
     ]
    },
    {
     "name": "stdout",
     "output_type": "stream",
     "text": [
      "Epoch 10, Loss 0.103\n",
      "Training Accuracy: 0.9160, Testing Accuracy: 0.9214\n",
      "\n"
     ]
    },
    {
     "name": "stdout",
     "output_type": "stream",
     "text": [
      "Epoch 20, Loss 0.0784\n",
      "Training Accuracy: 0.9315, Testing Accuracy: 0.9446\n",
      "\n"
     ]
    },
    {
     "name": "stdout",
     "output_type": "stream",
     "text": [
      "Epoch 30, Loss 0.0675\n",
      "Training Accuracy: 0.9386, Testing Accuracy: 0.9496\n",
      "\n"
     ]
    },
    {
     "name": "stdout",
     "output_type": "stream",
     "text": [
      "Epoch 40, Loss 0.061\n",
      "Training Accuracy: 0.9435, Testing Accuracy: 0.9551\n",
      "\n"
     ]
    },
    {
     "name": "stdout",
     "output_type": "stream",
     "text": [
      "Epoch 50, Loss 0.0566\n",
      "Training Accuracy: 0.9463, Testing Accuracy: 0.9567\n",
      "\n"
     ]
    },
    {
     "name": "stdout",
     "output_type": "stream",
     "text": [
      "Epoch 60, Loss 0.0533\n",
      "Training Accuracy: 0.9484, Testing Accuracy: 0.9597\n",
      "\n"
     ]
    },
    {
     "name": "stdout",
     "output_type": "stream",
     "text": [
      "Epoch 70, Loss 0.0508\n",
      "Training Accuracy: 0.9493, Testing Accuracy: 0.9597\n",
      "\n"
     ]
    },
    {
     "name": "stdout",
     "output_type": "stream",
     "text": [
      "Epoch 80, Loss 0.0488\n",
      "Training Accuracy: 0.9508, Testing Accuracy: 0.9607\n",
      "\n"
     ]
    },
    {
     "name": "stdout",
     "output_type": "stream",
     "text": [
      "Epoch 90, Loss 0.0472\n",
      "Training Accuracy: 0.9524, Testing Accuracy: 0.9612\n",
      "\n"
     ]
    },
    {
     "name": "stdout",
     "output_type": "stream",
     "text": [
      "Epoch 100, Loss 0.0458\n",
      "Training Accuracy: 0.9533, Testing Accuracy: 0.9627\n",
      "\n"
     ]
    },
    {
     "name": "stdout",
     "output_type": "stream",
     "text": [
      "Epoch 110, Loss 0.0446\n",
      "Training Accuracy: 0.9543, Testing Accuracy: 0.9637\n",
      "\n"
     ]
    },
    {
     "name": "stdout",
     "output_type": "stream",
     "text": [
      "Epoch 120, Loss 0.0435\n",
      "Training Accuracy: 0.9552, Testing Accuracy: 0.9637\n",
      "\n"
     ]
    },
    {
     "name": "stdout",
     "output_type": "stream",
     "text": [
      "Epoch 130, Loss 0.0426\n",
      "Training Accuracy: 0.9565, Testing Accuracy: 0.9647\n",
      "\n"
     ]
    },
    {
     "name": "stdout",
     "output_type": "stream",
     "text": [
      "Epoch 140, Loss 0.0418\n",
      "Training Accuracy: 0.9571, Testing Accuracy: 0.9662\n",
      "\n"
     ]
    },
    {
     "name": "stdout",
     "output_type": "stream",
     "text": [
      "Epoch 150, Loss 0.041\n",
      "Training Accuracy: 0.9578, Testing Accuracy: 0.9667\n",
      "\n"
     ]
    },
    {
     "name": "stdout",
     "output_type": "stream",
     "text": [
      "Epoch 160, Loss 0.0404\n",
      "Training Accuracy: 0.9582, Testing Accuracy: 0.9662\n",
      "\n"
     ]
    },
    {
     "name": "stdout",
     "output_type": "stream",
     "text": [
      "Epoch 170, Loss 0.0398\n",
      "Training Accuracy: 0.9586, Testing Accuracy: 0.9672\n",
      "\n"
     ]
    },
    {
     "name": "stdout",
     "output_type": "stream",
     "text": [
      "Epoch 180, Loss 0.0392\n",
      "Training Accuracy: 0.9592, Testing Accuracy: 0.9672\n",
      "\n"
     ]
    },
    {
     "name": "stdout",
     "output_type": "stream",
     "text": [
      "Epoch 190, Loss 0.0387\n",
      "Training Accuracy: 0.9594, Testing Accuracy: 0.9677\n",
      "\n"
     ]
    },
    {
     "name": "stdout",
     "output_type": "stream",
     "text": [
      "Epoch 200, Loss 0.0382\n",
      "Training Accuracy: 0.9596, Testing Accuracy: 0.9672\n",
      "\n"
     ]
    },
    {
     "name": "stdout",
     "output_type": "stream",
     "text": [
      "Epoch 210, Loss 0.0378\n",
      "Training Accuracy: 0.9603, Testing Accuracy: 0.9672\n",
      "\n"
     ]
    },
    {
     "name": "stdout",
     "output_type": "stream",
     "text": [
      "Epoch 220, Loss 0.0374\n",
      "Training Accuracy: 0.9605, Testing Accuracy: 0.9682\n",
      "\n"
     ]
    },
    {
     "name": "stdout",
     "output_type": "stream",
     "text": [
      "Epoch 230, Loss 0.037\n",
      "Training Accuracy: 0.9609, Testing Accuracy: 0.9682\n",
      "\n"
     ]
    },
    {
     "name": "stdout",
     "output_type": "stream",
     "text": [
      "Epoch 240, Loss 0.0366\n",
      "Training Accuracy: 0.9609, Testing Accuracy: 0.9682\n",
      "\n"
     ]
    },
    {
     "data": {
      "text/plain": [
       "0.06255264731637454"
      ]
     },
     "execution_count": 23,
     "metadata": {},
     "output_type": "execute_result"
    }
   ],
   "source": [
    "lr_learner.train_loop(dl)"
   ]
  },
  {
   "cell_type": "code",
   "execution_count": 24,
   "id": "ca410940",
   "metadata": {
    "execution": {
     "iopub.execute_input": "2021-09-02T00:23:49.951146Z",
     "iopub.status.busy": "2021-09-02T00:23:49.950389Z",
     "iopub.status.idle": "2021-09-02T00:23:50.271341Z",
     "shell.execute_reply": "2021-09-02T00:23:50.270138Z"
    },
    "papermill": {
     "duration": 0.406833,
     "end_time": "2021-09-02T00:23:50.271495",
     "exception": false,
     "start_time": "2021-09-02T00:23:49.864662",
     "status": "completed"
    },
    "tags": []
   },
   "outputs": [
    {
     "data": {
      "text/plain": [
       "<matplotlib.legend.Legend at 0x7fb8b3c7aba8>"
      ]
     },
     "execution_count": 24,
     "metadata": {},
     "output_type": "execute_result"
    },
    {
     "data": {
      "image/png": "[encoded data removed]",
      "text/plain": [
       "<Figure size 1080x720 with 1 Axes>"
      ]
     },
     "metadata": {
      "needs_background": "light"
     },
     "output_type": "display_data"
    }
   ],
   "source": [
    "#comparing the results of NN and LR\n",
    "plt.figure(figsize=(15,10))\n",
    "\n",
    "# Neural Network plots\n",
    "plt.plot(acc_nn.accuracies, 'r-', label = \"Training Accuracies - NN\")\n",
    "plt.plot(acc_nn.test_accuracies, 'g-', label = \"Testing Accuracies - NN\")\n",
    "\n",
    "# Logistic Regression plots\n",
    "plt.plot(acc_lr.accuracies, 'k-', label = \"Training Accuracies - LR\")\n",
    "plt.plot(acc_lr.test_accuracies, 'b-', label = \"Testing Accuracies - LR\")\n",
    "plt.legend()"
   ]
  },
  {
   "cell_type": "markdown",
   "id": "80dfb35c",
   "metadata": {
    "papermill": {
     "duration": 0.055774,
     "end_time": "2021-09-02T00:23:50.388921",
     "exception": false,
     "start_time": "2021-09-02T00:23:50.333147",
     "status": "completed"
    },
    "tags": []
   },
   "source": [
    "#### Plotting the outputs of this layer of the NN.\n"
   ]
  },
  {
   "cell_type": "code",
   "execution_count": 25,
   "id": "45eb2ff5",
   "metadata": {
    "execution": {
     "iopub.execute_input": "2021-09-02T00:23:50.534023Z",
     "iopub.status.busy": "2021-09-02T00:23:50.531028Z",
     "iopub.status.idle": "2021-09-02T00:23:50.556736Z",
     "shell.execute_reply": "2021-09-02T00:23:50.557327Z"
    },
    "papermill": {
     "duration": 0.103505,
     "end_time": "2021-09-02T00:23:50.557506",
     "exception": false,
     "start_time": "2021-09-02T00:23:50.454001",
     "status": "completed"
    },
    "tags": []
   },
   "outputs": [],
   "source": [
    "new_model = Model(layers[:-2])\n",
    "testing_plot = new_model(testing_data_x)"
   ]
  },
  {
   "cell_type": "code",
   "execution_count": 26,
   "id": "4c0a5485",
   "metadata": {
    "execution": {
     "iopub.execute_input": "2021-09-02T00:23:50.689733Z",
     "iopub.status.busy": "2021-09-02T00:23:50.688411Z",
     "iopub.status.idle": "2021-09-02T00:23:50.979621Z",
     "shell.execute_reply": "2021-09-02T00:23:50.978132Z"
    },
    "papermill": {
     "duration": 0.354754,
     "end_time": "2021-09-02T00:23:50.980226",
     "exception": false,
     "start_time": "2021-09-02T00:23:50.625472",
     "status": "completed"
    },
    "tags": []
   },
   "outputs": [
    {
     "data": {
      "text/plain": [
       "Text(0.5, 1.0, 'Outputs')"
      ]
     },
     "execution_count": 26,
     "metadata": {},
     "output_type": "execute_result"
    },
    {
     "data": {
      "image/png": "[encoded data removed]",
      "text/plain": [
       "<Figure size 576x504 with 1 Axes>"
      ]
     },
     "metadata": {
      "needs_background": "light"
     },
     "output_type": "display_data"
    }
   ],
   "source": [
    "# Plotting the scatter plot of points and color coding by class\n",
    "plt.figure(figsize=(8,7))\n",
    "plt.scatter(testing_plot[:,0], testing_plot[:,1], alpha = 0.1, c = y_test.ravel());\n",
    "plt.title('Outputs')"
   ]
  },
  {
   "cell_type": "markdown",
   "id": "a74fcf8f",
   "metadata": {
    "papermill": {
     "duration": 0.057292,
     "end_time": "2021-09-02T00:23:51.107824",
     "exception": false,
     "start_time": "2021-09-02T00:23:51.050532",
     "status": "completed"
    },
    "tags": []
   },
   "source": [
    "Probability contours"
   ]
  },
  {
   "cell_type": "code",
   "execution_count": 27,
   "id": "d0afc8e3",
   "metadata": {
    "execution": {
     "iopub.execute_input": "2021-09-02T00:23:51.242401Z",
     "iopub.status.busy": "2021-09-02T00:23:51.238571Z",
     "iopub.status.idle": "2021-09-02T00:23:51.252316Z",
     "shell.execute_reply": "2021-09-02T00:23:51.253033Z"
    },
    "papermill": {
     "duration": 0.086173,
     "end_time": "2021-09-02T00:23:51.253214",
     "exception": false,
     "start_time": "2021-09-02T00:23:51.167041",
     "status": "completed"
    },
    "tags": []
   },
   "outputs": [],
   "source": [
    "model_prob = Model(layers[-2:]) "
   ]
  },
  {
   "cell_type": "code",
   "execution_count": 28,
   "id": "9b96e238",
   "metadata": {
    "execution": {
     "iopub.execute_input": "2021-09-02T00:23:51.415929Z",
     "iopub.status.busy": "2021-09-02T00:23:51.409917Z",
     "iopub.status.idle": "2021-09-02T00:23:51.425105Z",
     "shell.execute_reply": "2021-09-02T00:23:51.425637Z"
    },
    "papermill": {
     "duration": 0.115503,
     "end_time": "2021-09-02T00:23:51.426142",
     "exception": false,
     "start_time": "2021-09-02T00:23:51.310639",
     "status": "completed"
    },
    "tags": []
   },
   "outputs": [],
   "source": [
    "#creating the x and y ranges according to the above generated plot.\n",
    "x_range = np.linspace(-4, 1, 100) \n",
    "y_range = np.linspace(-6, 6, 100) \n",
    "x_grid, y_grid = np.meshgrid(x_range, y_range) # x_grid and y_grig are of size 100 X 100\n",
    "\n",
    "# converting x_grid and y_grid to continuous arrays\n",
    "x_gridflat = np.ravel(x_grid)\n",
    "y_gridflat = np.ravel(y_grid)\n",
    "\n",
    "# The last layer of the current model takes two columns as input. Hence transpose of np.vstack() is required.\n",
    "X = np.vstack((x_gridflat, y_gridflat)).T\n",
    "\n",
    "prob_contour = model_prob(X).reshape(100,100) "
   ]
  },
  {
   "cell_type": "code",
   "execution_count": 29,
   "id": "da72499a",
   "metadata": {
    "execution": {
     "iopub.execute_input": "2021-09-02T00:23:51.587198Z",
     "iopub.status.busy": "2021-09-02T00:23:51.586412Z",
     "iopub.status.idle": "2021-09-02T00:23:51.924129Z",
     "shell.execute_reply": "2021-09-02T00:23:51.923579Z"
    },
    "papermill": {
     "duration": 0.428798,
     "end_time": "2021-09-02T00:23:51.924278",
     "exception": false,
     "start_time": "2021-09-02T00:23:51.495480",
     "status": "completed"
    },
    "tags": []
   },
   "outputs": [
    {
     "data": {
      "image/png": "[encoded data removed]",
      "text/plain": [
       "<Figure size 720x648 with 1 Axes>"
      ]
     },
     "metadata": {
      "needs_background": "light"
     },
     "output_type": "display_data"
    }
   ],
   "source": [
    "plt.figure(figsize=(10,9))\n",
    "plt.scatter(testing_plot[:,0], testing_plot[:,1], alpha = 0.1, c = y_test.ravel())\n",
    "contours = plt.contour(x_grid,y_grid,prob_contour)\n",
    "plt.title('Probability Contours')\n",
    "plt.clabel(contours, inline = True );"
   ]
  },
  {
   "cell_type": "code",
   "execution_count": null,
   "id": "e81b4ac7",
   "metadata": {
    "papermill": {
     "duration": 0.08268,
     "end_time": "2021-09-02T00:23:52.066688",
     "exception": false,
     "start_time": "2021-09-02T00:23:51.984008",
     "status": "completed"
    },
    "tags": []
   },
   "outputs": [],
   "source": []
  }
 ],
 "metadata": {
  "kernelspec": {
   "display_name": "Python 3",
   "language": "python",
   "name": "python3"
  },
  "language_info": {
   "codemirror_mode": {
    "name": "ipython",
    "version": 3
   },
   "file_extension": ".py",
   "mimetype": "text/x-python",
   "name": "python",
   "nbconvert_exporter": "python",
   "pygments_lexer": "ipython3",
   "version": "3.6.14"
  },
  "papermill": {
   "default_parameters": {},
   "duration": 169.15356,
   "end_time": "2021-09-02T00:23:52.540412",
   "environment_variables": {},
   "exception": null,
   "input_path": "2020-08-11-part2.ipynb",
   "output_path": "2020-08-11-part2.ipynb",
   "parameters": {},
   "start_time": "2021-09-02T00:21:03.386852",
   "version": "2.3.3"
  }
 },
 "nbformat": 4,
 "nbformat_minor": 5
}