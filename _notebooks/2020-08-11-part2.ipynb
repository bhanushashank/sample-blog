{
 "cells": [
  {
   "cell_type": "markdown",
   "id": "98380cd3",
   "metadata": {
    "papermill": {
     "duration": 0.029127,
     "end_time": "2022-03-09T10:09:26.357480",
     "exception": false,
     "start_time": "2022-03-09T10:09:26.328353",
     "status": "completed"
    },
    "tags": []
   },
   "source": [
    "# Distinguish Your Own Digits (DYOD)"
   ]
  },
  {
   "cell_type": "markdown",
   "id": "ef31240d",
   "metadata": {
    "papermill": {
     "duration": 0.025838,
     "end_time": "2022-03-09T10:09:26.408142",
     "exception": false,
     "start_time": "2022-03-09T10:09:26.382304",
     "status": "completed"
    },
    "tags": []
   },
   "source": [
    "You are going to write a classifier that distinguishes between the number 3 and number 8."
   ]
  },
  {
   "cell_type": "code",
   "execution_count": 1,
   "id": "b15c8646",
   "metadata": {
    "execution": {
     "iopub.execute_input": "2022-03-09T10:09:26.466943Z",
     "iopub.status.busy": "2022-03-09T10:09:26.466332Z",
     "iopub.status.idle": "2022-03-09T10:09:26.476922Z",
     "shell.execute_reply": "2022-03-09T10:09:26.476464Z"
    },
    "papermill": {
     "duration": 0.044932,
     "end_time": "2022-03-09T10:09:26.477054",
     "exception": false,
     "start_time": "2022-03-09T10:09:26.432122",
     "status": "completed"
    },
    "tags": []
   },
   "outputs": [],
   "source": [
    "%load_ext autoreload\n",
    "%autoreload 2"
   ]
  },
  {
   "cell_type": "code",
   "execution_count": 2,
   "id": "22ef38dc",
   "metadata": {
    "execution": {
     "iopub.execute_input": "2022-03-09T10:09:26.539528Z",
     "iopub.status.busy": "2022-03-09T10:09:26.538053Z",
     "iopub.status.idle": "2022-03-09T10:09:27.136479Z",
     "shell.execute_reply": "2022-03-09T10:09:27.135511Z"
    },
    "papermill": {
     "duration": 0.635187,
     "end_time": "2022-03-09T10:09:27.136628",
     "exception": false,
     "start_time": "2022-03-09T10:09:26.501441",
     "status": "completed"
    },
    "tags": []
   },
   "outputs": [],
   "source": [
    "%matplotlib inline\n",
    "import numpy as np\n",
    "import matplotlib.pyplot as plt\n",
    "import pandas as pd"
   ]
  },
  {
   "cell_type": "markdown",
   "id": "ba036198",
   "metadata": {
    "papermill": {
     "duration": 0.024098,
     "end_time": "2022-03-09T10:09:27.184876",
     "exception": false,
     "start_time": "2022-03-09T10:09:27.160778",
     "status": "completed"
    },
    "tags": []
   },
   "source": [
    "From the command line run `pip install mnist`. This is a library that will help you bring down the mnist dataset. If you run this from a notebook, you need to put  `!pip install mnist` in a cell by itself."
   ]
  },
  {
   "cell_type": "code",
   "execution_count": 3,
   "id": "bb6ad8a1",
   "metadata": {
    "execution": {
     "iopub.execute_input": "2022-03-09T10:09:27.240045Z",
     "iopub.status.busy": "2022-03-09T10:09:27.239435Z",
     "iopub.status.idle": "2022-03-09T10:09:29.738925Z",
     "shell.execute_reply": "2022-03-09T10:09:29.738339Z"
    },
    "papermill": {
     "duration": 2.530007,
     "end_time": "2022-03-09T10:09:29.739080",
     "exception": false,
     "start_time": "2022-03-09T10:09:27.209073",
     "status": "completed"
    },
    "tags": []
   },
   "outputs": [
    {
     "name": "stdout",
     "output_type": "stream",
     "text": [
      "Collecting mnist\r\n",
      "  Downloading mnist-0.2.2-py2.py3-none-any.whl (3.5 kB)\r\n"
     ]
    },
    {
     "name": "stdout",
     "output_type": "stream",
     "text": [
      "Requirement already satisfied: numpy in /opt/hostedtoolcache/Python/3.6.15/x64/lib/python3.6/site-packages (from mnist) (1.19.5)\r\n"
     ]
    },
    {
     "name": "stdout",
     "output_type": "stream",
     "text": [
      "Installing collected packages: mnist\r\n"
     ]
    },
    {
     "name": "stdout",
     "output_type": "stream",
     "text": [
      "Successfully installed mnist-0.2.2\r\n"
     ]
    }
   ],
   "source": [
    "!pip install mnist"
   ]
  },
  {
   "cell_type": "markdown",
   "id": "69df9c9a",
   "metadata": {
    "papermill": {
     "duration": 0.025558,
     "end_time": "2022-03-09T10:09:29.790301",
     "exception": false,
     "start_time": "2022-03-09T10:09:29.764743",
     "status": "completed"
    },
    "tags": []
   },
   "source": [
    "## Preparing the Data"
   ]
  },
  {
   "cell_type": "code",
   "execution_count": 4,
   "id": "7f69d806",
   "metadata": {
    "execution": {
     "iopub.execute_input": "2022-03-09T10:09:29.851122Z",
     "iopub.status.busy": "2022-03-09T10:09:29.850591Z",
     "iopub.status.idle": "2022-03-09T10:09:29.861438Z",
     "shell.execute_reply": "2022-03-09T10:09:29.860997Z"
    },
    "papermill": {
     "duration": 0.045966,
     "end_time": "2022-03-09T10:09:29.861553",
     "exception": false,
     "start_time": "2022-03-09T10:09:29.815587",
     "status": "completed"
    },
    "tags": []
   },
   "outputs": [],
   "source": [
    "import mnist"
   ]
  },
  {
   "cell_type": "code",
   "execution_count": 5,
   "id": "a411e44f",
   "metadata": {
    "execution": {
     "iopub.execute_input": "2022-03-09T10:09:29.927569Z",
     "iopub.status.busy": "2022-03-09T10:09:29.926209Z",
     "iopub.status.idle": "2022-03-09T10:09:30.435729Z",
     "shell.execute_reply": "2022-03-09T10:09:30.435215Z"
    },
    "papermill": {
     "duration": 0.548781,
     "end_time": "2022-03-09T10:09:30.435857",
     "exception": false,
     "start_time": "2022-03-09T10:09:29.887076",
     "status": "completed"
    },
    "tags": []
   },
   "outputs": [],
   "source": [
    "train_images = mnist.train_images()\n",
    "train_labels = mnist.train_labels()"
   ]
  },
  {
   "cell_type": "code",
   "execution_count": 6,
   "id": "dceab3a5",
   "metadata": {
    "execution": {
     "iopub.execute_input": "2022-03-09T10:09:30.498540Z",
     "iopub.status.busy": "2022-03-09T10:09:30.497973Z",
     "iopub.status.idle": "2022-03-09T10:09:30.508904Z",
     "shell.execute_reply": "2022-03-09T10:09:30.508463Z"
    },
    "papermill": {
     "duration": 0.047528,
     "end_time": "2022-03-09T10:09:30.509020",
     "exception": false,
     "start_time": "2022-03-09T10:09:30.461492",
     "status": "completed"
    },
    "tags": []
   },
   "outputs": [
    {
     "data": {
      "text/plain": [
       "((60000, 28, 28), (60000,))"
      ]
     },
     "execution_count": 6,
     "metadata": {},
     "output_type": "execute_result"
    }
   ],
   "source": [
    "train_images.shape, train_labels.shape"
   ]
  },
  {
   "cell_type": "code",
   "execution_count": 7,
   "id": "f50dc2bb",
   "metadata": {
    "execution": {
     "iopub.execute_input": "2022-03-09T10:09:30.564603Z",
     "iopub.status.busy": "2022-03-09T10:09:30.564076Z",
     "iopub.status.idle": "2022-03-09T10:09:30.715811Z",
     "shell.execute_reply": "2022-03-09T10:09:30.715282Z"
    },
    "papermill": {
     "duration": 0.181288,
     "end_time": "2022-03-09T10:09:30.715950",
     "exception": false,
     "start_time": "2022-03-09T10:09:30.534662",
     "status": "completed"
    },
    "tags": []
   },
   "outputs": [],
   "source": [
    "test_images = mnist.test_images()\n",
    "test_labels = mnist.test_labels()"
   ]
  },
  {
   "cell_type": "code",
   "execution_count": 8,
   "id": "fc38cf1b",
   "metadata": {
    "execution": {
     "iopub.execute_input": "2022-03-09T10:09:30.771646Z",
     "iopub.status.busy": "2022-03-09T10:09:30.771132Z",
     "iopub.status.idle": "2022-03-09T10:09:30.785454Z",
     "shell.execute_reply": "2022-03-09T10:09:30.785025Z"
    },
    "papermill": {
     "duration": 0.043618,
     "end_time": "2022-03-09T10:09:30.785575",
     "exception": false,
     "start_time": "2022-03-09T10:09:30.741957",
     "status": "completed"
    },
    "tags": []
   },
   "outputs": [
    {
     "data": {
      "text/plain": [
       "((10000, 28, 28), (10000,))"
      ]
     },
     "execution_count": 8,
     "metadata": {},
     "output_type": "execute_result"
    }
   ],
   "source": [
    "test_images.shape, test_labels.shape"
   ]
  },
  {
   "cell_type": "code",
   "execution_count": 9,
   "id": "f9ed8fe0",
   "metadata": {
    "execution": {
     "iopub.execute_input": "2022-03-09T10:09:30.845944Z",
     "iopub.status.busy": "2022-03-09T10:09:30.845416Z",
     "iopub.status.idle": "2022-03-09T10:09:30.981823Z",
     "shell.execute_reply": "2022-03-09T10:09:30.982272Z"
    },
    "papermill": {
     "duration": 0.170716,
     "end_time": "2022-03-09T10:09:30.982410",
     "exception": false,
     "start_time": "2022-03-09T10:09:30.811694",
     "status": "completed"
    },
    "tags": []
   },
   "outputs": [
    {
     "name": "stdout",
     "output_type": "stream",
     "text": [
      "2\n"
     ]
    },
    {
     "data": {
      "text/plain": [
       "<matplotlib.image.AxesImage at 0x7fdeb9c1d5c0>"
      ]
     },
     "execution_count": 9,
     "metadata": {},
     "output_type": "execute_result"
    },
    {
     "data": {
      "image/png": "[encoded data removed]",
      "text/plain": [
       "<Figure size 432x288 with 1 Axes>"
      ]
     },
     "metadata": {
      "needs_background": "light"
     },
     "output_type": "display_data"
    }
   ],
   "source": [
    "image_index = 7776 # You may select anything up to 60,000\n",
    "print(train_labels[image_index]) \n",
    "plt.imshow(train_images[image_index], cmap='Greys')"
   ]
  },
  {
   "cell_type": "markdown",
   "id": "a8d2388d",
   "metadata": {
    "papermill": {
     "duration": 0.027247,
     "end_time": "2022-03-09T10:09:31.036727",
     "exception": false,
     "start_time": "2022-03-09T10:09:31.009480",
     "status": "completed"
    },
    "tags": []
   },
   "source": [
    "## Filter data to get 3 and 8 out"
   ]
  },
  {
   "cell_type": "code",
   "execution_count": 10,
   "id": "776f7fc7",
   "metadata": {
    "execution": {
     "iopub.execute_input": "2022-03-09T10:09:31.097831Z",
     "iopub.status.busy": "2022-03-09T10:09:31.097298Z",
     "iopub.status.idle": "2022-03-09T10:09:31.114237Z",
     "shell.execute_reply": "2022-03-09T10:09:31.114683Z"
    },
    "papermill": {
     "duration": 0.050826,
     "end_time": "2022-03-09T10:09:31.114830",
     "exception": false,
     "start_time": "2022-03-09T10:09:31.064004",
     "status": "completed"
    },
    "tags": []
   },
   "outputs": [],
   "source": [
    "train_filter = np.where((train_labels == 3 ) | (train_labels == 8))\n",
    "test_filter = np.where((test_labels == 3) | (test_labels == 8))\n",
    "X_train, y_train = train_images[train_filter], train_labels[train_filter]\n",
    "X_test, y_test = test_images[test_filter], test_labels[test_filter]"
   ]
  },
  {
   "cell_type": "markdown",
   "id": "948f0b7e",
   "metadata": {
    "papermill": {
     "duration": 0.026946,
     "end_time": "2022-03-09T10:09:31.168746",
     "exception": false,
     "start_time": "2022-03-09T10:09:31.141800",
     "status": "completed"
    },
    "tags": []
   },
   "source": [
    "We normalize the pizel values in the 0 to 1 range"
   ]
  },
  {
   "cell_type": "code",
   "execution_count": 11,
   "id": "ee4c2166",
   "metadata": {
    "execution": {
     "iopub.execute_input": "2022-03-09T10:09:31.227840Z",
     "iopub.status.busy": "2022-03-09T10:09:31.227302Z",
     "iopub.status.idle": "2022-03-09T10:09:31.274346Z",
     "shell.execute_reply": "2022-03-09T10:09:31.273834Z"
    },
    "papermill": {
     "duration": 0.078653,
     "end_time": "2022-03-09T10:09:31.274510",
     "exception": false,
     "start_time": "2022-03-09T10:09:31.195857",
     "status": "completed"
    },
    "tags": []
   },
   "outputs": [],
   "source": [
    "X_train = X_train/255.\n",
    "X_test = X_test/255."
   ]
  },
  {
   "cell_type": "markdown",
   "id": "ddcf4fab",
   "metadata": {
    "papermill": {
     "duration": 0.026941,
     "end_time": "2022-03-09T10:09:31.328859",
     "exception": false,
     "start_time": "2022-03-09T10:09:31.301918",
     "status": "completed"
    },
    "tags": []
   },
   "source": [
    "And setup the labels as 1 (when the digit is 3) and 0 (when the digit is 8)"
   ]
  },
  {
   "cell_type": "code",
   "execution_count": 12,
   "id": "7dc908f2",
   "metadata": {
    "execution": {
     "iopub.execute_input": "2022-03-09T10:09:31.391987Z",
     "iopub.status.busy": "2022-03-09T10:09:31.391445Z",
     "iopub.status.idle": "2022-03-09T10:09:31.400481Z",
     "shell.execute_reply": "2022-03-09T10:09:31.400031Z"
    },
    "papermill": {
     "duration": 0.044606,
     "end_time": "2022-03-09T10:09:31.400602",
     "exception": false,
     "start_time": "2022-03-09T10:09:31.355996",
     "status": "completed"
    },
    "tags": []
   },
   "outputs": [],
   "source": [
    "y_train = 1*(y_train==3)\n",
    "y_test = 1*(y_test==3)"
   ]
  },
  {
   "cell_type": "code",
   "execution_count": 13,
   "id": "01e4e969",
   "metadata": {
    "execution": {
     "iopub.execute_input": "2022-03-09T10:09:31.459484Z",
     "iopub.status.busy": "2022-03-09T10:09:31.458927Z",
     "iopub.status.idle": "2022-03-09T10:09:31.472138Z",
     "shell.execute_reply": "2022-03-09T10:09:31.471714Z"
    },
    "papermill": {
     "duration": 0.044611,
     "end_time": "2022-03-09T10:09:31.472258",
     "exception": false,
     "start_time": "2022-03-09T10:09:31.427647",
     "status": "completed"
    },
    "tags": []
   },
   "outputs": [
    {
     "data": {
      "text/plain": [
       "((11982, 28, 28), (1984, 28, 28))"
      ]
     },
     "execution_count": 13,
     "metadata": {},
     "output_type": "execute_result"
    }
   ],
   "source": [
    "X_train.shape, X_test.shape"
   ]
  },
  {
   "cell_type": "markdown",
   "id": "5ccf3f85",
   "metadata": {
    "papermill": {
     "duration": 0.027248,
     "end_time": "2022-03-09T10:09:31.526752",
     "exception": false,
     "start_time": "2022-03-09T10:09:31.499504",
     "status": "completed"
    },
    "tags": []
   },
   "source": [
    "We reshape the data to flatten the image pixels into a set of features or co-variates:"
   ]
  },
  {
   "cell_type": "code",
   "execution_count": 14,
   "id": "5286a4a3",
   "metadata": {
    "execution": {
     "iopub.execute_input": "2022-03-09T10:09:31.595368Z",
     "iopub.status.busy": "2022-03-09T10:09:31.593550Z",
     "iopub.status.idle": "2022-03-09T10:09:31.602250Z",
     "shell.execute_reply": "2022-03-09T10:09:31.601811Z"
    },
    "papermill": {
     "duration": 0.04838,
     "end_time": "2022-03-09T10:09:31.602370",
     "exception": false,
     "start_time": "2022-03-09T10:09:31.553990",
     "status": "completed"
    },
    "tags": []
   },
   "outputs": [
    {
     "data": {
      "text/plain": [
       "((11982, 784), (1984, 784))"
      ]
     },
     "execution_count": 14,
     "metadata": {},
     "output_type": "execute_result"
    }
   ],
   "source": [
    "X_train = X_train.reshape(X_train.shape[0], -1)\n",
    "X_test = X_test.reshape(X_test.shape[0], -1)\n",
    "X_train.shape, X_test.shape"
   ]
  },
  {
   "cell_type": "code",
   "execution_count": 15,
   "id": "73c5f88a",
   "metadata": {
    "execution": {
     "iopub.execute_input": "2022-03-09T10:09:31.668877Z",
     "iopub.status.busy": "2022-03-09T10:09:31.668322Z",
     "iopub.status.idle": "2022-03-09T10:09:31.683859Z",
     "shell.execute_reply": "2022-03-09T10:09:31.683409Z"
    },
    "papermill": {
     "duration": 0.054052,
     "end_time": "2022-03-09T10:09:31.683980",
     "exception": false,
     "start_time": "2022-03-09T10:09:31.629928",
     "status": "completed"
    },
    "tags": []
   },
   "outputs": [],
   "source": [
    "#Impoting functions from 'Kudzu'\n",
    "from kudzu.model import Model\n",
    "from kudzu.train import Learner\n",
    "from kudzu.optim import GD\n",
    "from kudzu.data import Data, Sampler,Dataloader\n",
    "\n",
    "from kudzu.callbacks import AccCallback\n",
    "from kudzu.callbacks import ClfCallback\n",
    "\n",
    "from kudzu.loss import MSE\n",
    "\n",
    "from kudzu.layer import Sigmoid,Relu\n",
    "from kudzu.layer import Affine"
   ]
  },
  {
   "cell_type": "markdown",
   "id": "bc01172a",
   "metadata": {
    "papermill": {
     "duration": 0.027427,
     "end_time": "2022-03-09T10:09:31.739117",
     "exception": false,
     "start_time": "2022-03-09T10:09:31.711690",
     "status": "completed"
    },
    "tags": []
   },
   "source": [
    "### Let us create a `Config` class, to store important parameters. \n",
    "This class essentially plays the role of a dictionary."
   ]
  },
  {
   "cell_type": "code",
   "execution_count": 16,
   "id": "978281aa",
   "metadata": {
    "execution": {
     "iopub.execute_input": "2022-03-09T10:09:31.812024Z",
     "iopub.status.busy": "2022-03-09T10:09:31.807667Z",
     "iopub.status.idle": "2022-03-09T10:09:31.814456Z",
     "shell.execute_reply": "2022-03-09T10:09:31.814028Z"
    },
    "papermill": {
     "duration": 0.048139,
     "end_time": "2022-03-09T10:09:31.814603",
     "exception": false,
     "start_time": "2022-03-09T10:09:31.766464",
     "status": "completed"
    },
    "tags": []
   },
   "outputs": [],
   "source": [
    "class Config:\n",
    "    pass\n",
    "config = Config()\n",
    "config.lr = 0.001\n",
    "config.num_epochs = 250\n",
    "config.bs = 50"
   ]
  },
  {
   "cell_type": "markdown",
   "id": "1385fa59",
   "metadata": {
    "papermill": {
     "duration": 0.027426,
     "end_time": "2022-03-09T10:09:31.869618",
     "exception": false,
     "start_time": "2022-03-09T10:09:31.842192",
     "status": "completed"
    },
    "tags": []
   },
   "source": [
    "### Running Models with the Training data\n",
    "Details about the network layers:\n",
    "- A first affine layer has 784 inputs and does 100 affine transforms. These are followed by a Relu\n",
    "- A second affine layer has 100 inputs from the 100 activations of the past layer, and does 100 affine transforms. These are followed by a Relu\n",
    "- A third affine layer has 100 activations and does 2 affine transformations to create an embedding for visualization. There is no non-linearity here.\n",
    "- A final \"logistic regression\" which has an affine transform from 2 inputs to 1 output, which is squeezed through a sigmoid.\n"
   ]
  },
  {
   "cell_type": "code",
   "execution_count": 17,
   "id": "2b9c66db",
   "metadata": {
    "execution": {
     "iopub.execute_input": "2022-03-09T10:09:31.934165Z",
     "iopub.status.busy": "2022-03-09T10:09:31.933643Z",
     "iopub.status.idle": "2022-03-09T10:09:31.942522Z",
     "shell.execute_reply": "2022-03-09T10:09:31.942061Z"
    },
    "papermill": {
     "duration": 0.045399,
     "end_time": "2022-03-09T10:09:31.942638",
     "exception": false,
     "start_time": "2022-03-09T10:09:31.897239",
     "status": "completed"
    },
    "tags": []
   },
   "outputs": [],
   "source": [
    "data = Data(X_train, y_train.reshape(-1,1))\n",
    "sampler = Sampler(data, config.bs, shuffle=True)\n",
    "\n",
    "dl = Dataloader(data, sampler)\n",
    "\n",
    "opt = GD(config.lr)\n",
    "loss = MSE()"
   ]
  },
  {
   "cell_type": "code",
   "execution_count": 18,
   "id": "b275e4c2",
   "metadata": {
    "execution": {
     "iopub.execute_input": "2022-03-09T10:09:32.011307Z",
     "iopub.status.busy": "2022-03-09T10:09:32.007257Z",
     "iopub.status.idle": "2022-03-09T10:09:32.015877Z",
     "shell.execute_reply": "2022-03-09T10:09:32.016290Z"
    },
    "papermill": {
     "duration": 0.046293,
     "end_time": "2022-03-09T10:09:32.016430",
     "exception": false,
     "start_time": "2022-03-09T10:09:31.970137",
     "status": "completed"
    },
    "tags": []
   },
   "outputs": [],
   "source": [
    "training_data_x = X_train\n",
    "testing_data_x = X_test\n",
    "training_data_y = y_train.reshape(-1,1)\n",
    "testing_data_y = y_test.reshape(-1,1)"
   ]
  },
  {
   "cell_type": "code",
   "execution_count": 19,
   "id": "76951160",
   "metadata": {
    "execution": {
     "iopub.execute_input": "2022-03-09T10:09:32.083435Z",
     "iopub.status.busy": "2022-03-09T10:09:32.082881Z",
     "iopub.status.idle": "2022-03-09T10:09:32.095916Z",
     "shell.execute_reply": "2022-03-09T10:09:32.096300Z"
    },
    "papermill": {
     "duration": 0.052444,
     "end_time": "2022-03-09T10:09:32.096448",
     "exception": false,
     "start_time": "2022-03-09T10:09:32.044004",
     "status": "completed"
    },
    "tags": []
   },
   "outputs": [
    {
     "name": "stdout",
     "output_type": "stream",
     "text": [
      "xavier\n",
      "xavier\n",
      "xavier\n",
      "xavier\n",
      "xavier\n"
     ]
    }
   ],
   "source": [
    "layers = [Affine(\"first\", 784, 100), Relu(\"first\"), Affine(\"second\", 100, 100), Relu(\"second\"), Affine(\"third\", 100, 2), Affine(\"last\", 2, 1), Sigmoid(\"last\")]\n",
    "model_nn = Model(layers)\n",
    "model_lr = Model([Affine(\"logits\", 784, 1), Sigmoid(\"sigmoid\")])"
   ]
  },
  {
   "cell_type": "code",
   "execution_count": 20,
   "id": "6eede77a",
   "metadata": {
    "execution": {
     "iopub.execute_input": "2022-03-09T10:09:32.159163Z",
     "iopub.status.busy": "2022-03-09T10:09:32.158630Z",
     "iopub.status.idle": "2022-03-09T10:09:32.169521Z",
     "shell.execute_reply": "2022-03-09T10:09:32.169093Z"
    },
    "papermill": {
     "duration": 0.045353,
     "end_time": "2022-03-09T10:09:32.169644",
     "exception": false,
     "start_time": "2022-03-09T10:09:32.124291",
     "status": "completed"
    },
    "tags": []
   },
   "outputs": [],
   "source": [
    "nn_learner = Learner(loss, model_nn, opt, config.num_epochs)\n",
    "acc_nn = ClfCallback(nn_learner, config.bs, training_data_x , testing_data_x, training_data_y, testing_data_y)\n",
    "nn_learner.set_callbacks([acc_nn])"
   ]
  },
  {
   "cell_type": "code",
   "execution_count": 21,
   "id": "877b6cc7",
   "metadata": {
    "execution": {
     "iopub.execute_input": "2022-03-09T10:09:32.232262Z",
     "iopub.status.busy": "2022-03-09T10:09:32.231741Z",
     "iopub.status.idle": "2022-03-09T10:09:32.242230Z",
     "shell.execute_reply": "2022-03-09T10:09:32.241816Z"
    },
    "papermill": {
     "duration": 0.04484,
     "end_time": "2022-03-09T10:09:32.242346",
     "exception": false,
     "start_time": "2022-03-09T10:09:32.197506",
     "status": "completed"
    },
    "tags": []
   },
   "outputs": [],
   "source": [
    "lr_learner = Learner(loss, model_lr, opt, config.num_epochs)\n",
    "acc_lr = ClfCallback(lr_learner, config.bs, training_data_x , testing_data_x, training_data_y, testing_data_y)\n",
    "lr_learner.set_callbacks([acc_lr])"
   ]
  },
  {
   "cell_type": "code",
   "execution_count": 22,
   "id": "d9b133c3",
   "metadata": {
    "execution": {
     "iopub.execute_input": "2022-03-09T10:09:32.303808Z",
     "iopub.status.busy": "2022-03-09T10:09:32.303288Z",
     "iopub.status.idle": "2022-03-09T10:10:57.034237Z",
     "shell.execute_reply": "2022-03-09T10:10:57.035028Z"
    },
    "papermill": {
     "duration": 84.764744,
     "end_time": "2022-03-09T10:10:57.035189",
     "exception": false,
     "start_time": "2022-03-09T10:09:32.270445",
     "status": "completed"
    },
    "tags": []
   },
   "outputs": [
    {
     "name": "stdout",
     "output_type": "stream",
     "text": [
      "Epoch 0, Loss 0.2269\n",
      "Training Accuracy: 0.7625, Testing Accuracy: 0.7752\n",
      "\n"
     ]
    },
    {
     "name": "stdout",
     "output_type": "stream",
     "text": [
      "Epoch 10, Loss 0.0728\n",
      "Training Accuracy: 0.9266, Testing Accuracy: 0.9400\n",
      "\n"
     ]
    },
    {
     "name": "stdout",
     "output_type": "stream",
     "text": [
      "Epoch 20, Loss 0.0471\n",
      "Training Accuracy: 0.9517, Testing Accuracy: 0.9607\n",
      "\n"
     ]
    },
    {
     "name": "stdout",
     "output_type": "stream",
     "text": [
      "Epoch 30, Loss 0.038\n",
      "Training Accuracy: 0.9592, Testing Accuracy: 0.9632\n",
      "\n"
     ]
    },
    {
     "name": "stdout",
     "output_type": "stream",
     "text": [
      "Epoch 40, Loss 0.0334\n",
      "Training Accuracy: 0.9633, Testing Accuracy: 0.9662\n",
      "\n"
     ]
    },
    {
     "name": "stdout",
     "output_type": "stream",
     "text": [
      "Epoch 50, Loss 0.0305\n",
      "Training Accuracy: 0.9652, Testing Accuracy: 0.9672\n",
      "\n"
     ]
    },
    {
     "name": "stdout",
     "output_type": "stream",
     "text": [
      "Epoch 60, Loss 0.0285\n",
      "Training Accuracy: 0.9677, Testing Accuracy: 0.9688\n",
      "\n"
     ]
    },
    {
     "name": "stdout",
     "output_type": "stream",
     "text": [
      "Epoch 70, Loss 0.0269\n",
      "Training Accuracy: 0.9699, Testing Accuracy: 0.9688\n",
      "\n"
     ]
    },
    {
     "name": "stdout",
     "output_type": "stream",
     "text": [
      "Epoch 80, Loss 0.0257\n",
      "Training Accuracy: 0.9710, Testing Accuracy: 0.9703\n",
      "\n"
     ]
    },
    {
     "name": "stdout",
     "output_type": "stream",
     "text": [
      "Epoch 90, Loss 0.0246\n",
      "Training Accuracy: 0.9720, Testing Accuracy: 0.9713\n",
      "\n"
     ]
    },
    {
     "name": "stdout",
     "output_type": "stream",
     "text": [
      "Epoch 100, Loss 0.0237\n",
      "Training Accuracy: 0.9731, Testing Accuracy: 0.9708\n",
      "\n"
     ]
    },
    {
     "name": "stdout",
     "output_type": "stream",
     "text": [
      "Epoch 110, Loss 0.0229\n",
      "Training Accuracy: 0.9740, Testing Accuracy: 0.9713\n",
      "\n"
     ]
    },
    {
     "name": "stdout",
     "output_type": "stream",
     "text": [
      "Epoch 120, Loss 0.0222\n",
      "Training Accuracy: 0.9753, Testing Accuracy: 0.9723\n",
      "\n"
     ]
    },
    {
     "name": "stdout",
     "output_type": "stream",
     "text": [
      "Epoch 130, Loss 0.0215\n",
      "Training Accuracy: 0.9757, Testing Accuracy: 0.9723\n",
      "\n"
     ]
    },
    {
     "name": "stdout",
     "output_type": "stream",
     "text": [
      "Epoch 140, Loss 0.0209\n",
      "Training Accuracy: 0.9765, Testing Accuracy: 0.9723\n",
      "\n"
     ]
    },
    {
     "name": "stdout",
     "output_type": "stream",
     "text": [
      "Epoch 150, Loss 0.0204\n",
      "Training Accuracy: 0.9770, Testing Accuracy: 0.9728\n",
      "\n"
     ]
    },
    {
     "name": "stdout",
     "output_type": "stream",
     "text": [
      "Epoch 160, Loss 0.0199\n",
      "Training Accuracy: 0.9778, Testing Accuracy: 0.9743\n",
      "\n"
     ]
    },
    {
     "name": "stdout",
     "output_type": "stream",
     "text": [
      "Epoch 170, Loss 0.0194\n",
      "Training Accuracy: 0.9786, Testing Accuracy: 0.9743\n",
      "\n"
     ]
    },
    {
     "name": "stdout",
     "output_type": "stream",
     "text": [
      "Epoch 180, Loss 0.0189\n",
      "Training Accuracy: 0.9793, Testing Accuracy: 0.9743\n",
      "\n"
     ]
    },
    {
     "name": "stdout",
     "output_type": "stream",
     "text": [
      "Epoch 190, Loss 0.0185\n",
      "Training Accuracy: 0.9798, Testing Accuracy: 0.9748\n",
      "\n"
     ]
    },
    {
     "name": "stdout",
     "output_type": "stream",
     "text": [
      "Epoch 200, Loss 0.018\n",
      "Training Accuracy: 0.9802, Testing Accuracy: 0.9753\n",
      "\n"
     ]
    },
    {
     "name": "stdout",
     "output_type": "stream",
     "text": [
      "Epoch 210, Loss 0.0176\n",
      "Training Accuracy: 0.9807, Testing Accuracy: 0.9758\n",
      "\n"
     ]
    },
    {
     "name": "stdout",
     "output_type": "stream",
     "text": [
      "Epoch 220, Loss 0.0173\n",
      "Training Accuracy: 0.9813, Testing Accuracy: 0.9758\n",
      "\n"
     ]
    },
    {
     "name": "stdout",
     "output_type": "stream",
     "text": [
      "Epoch 230, Loss 0.0169\n",
      "Training Accuracy: 0.9816, Testing Accuracy: 0.9768\n",
      "\n"
     ]
    },
    {
     "name": "stdout",
     "output_type": "stream",
     "text": [
      "Epoch 240, Loss 0.0165\n",
      "Training Accuracy: 0.9821, Testing Accuracy: 0.9773\n",
      "\n"
     ]
    },
    {
     "data": {
      "text/plain": [
       "0.009142877860753473"
      ]
     },
     "execution_count": 22,
     "metadata": {},
     "output_type": "execute_result"
    }
   ],
   "source": [
    "nn_learner.train_loop(dl)"
   ]
  },
  {
   "cell_type": "code",
   "execution_count": 23,
   "id": "e0163366",
   "metadata": {
    "execution": {
     "iopub.execute_input": "2022-03-09T10:10:57.122632Z",
     "iopub.status.busy": "2022-03-09T10:10:57.121441Z",
     "iopub.status.idle": "2022-03-09T10:11:12.363645Z",
     "shell.execute_reply": "2022-03-09T10:11:12.364394Z"
    },
    "papermill": {
     "duration": 15.291222,
     "end_time": "2022-03-09T10:11:12.364552",
     "exception": false,
     "start_time": "2022-03-09T10:10:57.073330",
     "status": "completed"
    },
    "tags": []
   },
   "outputs": [
    {
     "name": "stdout",
     "output_type": "stream",
     "text": [
      "Epoch 0, Loss 0.2178\n",
      "Training Accuracy: 0.7627, Testing Accuracy: 0.7535\n",
      "\n"
     ]
    },
    {
     "name": "stdout",
     "output_type": "stream",
     "text": [
      "Epoch 10, Loss 0.0979\n",
      "Training Accuracy: 0.9185, Testing Accuracy: 0.9294\n",
      "\n"
     ]
    },
    {
     "name": "stdout",
     "output_type": "stream",
     "text": [
      "Epoch 20, Loss 0.0761\n",
      "Training Accuracy: 0.9340, Testing Accuracy: 0.9415\n",
      "\n"
     ]
    },
    {
     "name": "stdout",
     "output_type": "stream",
     "text": [
      "Epoch 30, Loss 0.0661\n",
      "Training Accuracy: 0.9397, Testing Accuracy: 0.9496\n",
      "\n"
     ]
    },
    {
     "name": "stdout",
     "output_type": "stream",
     "text": [
      "Epoch 40, Loss 0.06\n",
      "Training Accuracy: 0.9431, Testing Accuracy: 0.9531\n",
      "\n"
     ]
    },
    {
     "name": "stdout",
     "output_type": "stream",
     "text": [
      "Epoch 50, Loss 0.0558\n",
      "Training Accuracy: 0.9462, Testing Accuracy: 0.9551\n",
      "\n"
     ]
    },
    {
     "name": "stdout",
     "output_type": "stream",
     "text": [
      "Epoch 60, Loss 0.0527\n",
      "Training Accuracy: 0.9484, Testing Accuracy: 0.9592\n",
      "\n"
     ]
    },
    {
     "name": "stdout",
     "output_type": "stream",
     "text": [
      "Epoch 70, Loss 0.0503\n",
      "Training Accuracy: 0.9507, Testing Accuracy: 0.9597\n",
      "\n"
     ]
    },
    {
     "name": "stdout",
     "output_type": "stream",
     "text": [
      "Epoch 80, Loss 0.0484\n",
      "Training Accuracy: 0.9518, Testing Accuracy: 0.9602\n",
      "\n"
     ]
    },
    {
     "name": "stdout",
     "output_type": "stream",
     "text": [
      "Epoch 90, Loss 0.0468\n",
      "Training Accuracy: 0.9534, Testing Accuracy: 0.9607\n",
      "\n"
     ]
    },
    {
     "name": "stdout",
     "output_type": "stream",
     "text": [
      "Epoch 100, Loss 0.0454\n",
      "Training Accuracy: 0.9545, Testing Accuracy: 0.9612\n",
      "\n"
     ]
    },
    {
     "name": "stdout",
     "output_type": "stream",
     "text": [
      "Epoch 110, Loss 0.0443\n",
      "Training Accuracy: 0.9548, Testing Accuracy: 0.9627\n",
      "\n"
     ]
    },
    {
     "name": "stdout",
     "output_type": "stream",
     "text": [
      "Epoch 120, Loss 0.0433\n",
      "Training Accuracy: 0.9555, Testing Accuracy: 0.9642\n",
      "\n"
     ]
    },
    {
     "name": "stdout",
     "output_type": "stream",
     "text": [
      "Epoch 130, Loss 0.0424\n",
      "Training Accuracy: 0.9563, Testing Accuracy: 0.9647\n",
      "\n"
     ]
    },
    {
     "name": "stdout",
     "output_type": "stream",
     "text": [
      "Epoch 140, Loss 0.0416\n",
      "Training Accuracy: 0.9566, Testing Accuracy: 0.9652\n",
      "\n"
     ]
    },
    {
     "name": "stdout",
     "output_type": "stream",
     "text": [
      "Epoch 150, Loss 0.0408\n",
      "Training Accuracy: 0.9578, Testing Accuracy: 0.9657\n",
      "\n"
     ]
    },
    {
     "name": "stdout",
     "output_type": "stream",
     "text": [
      "Epoch 160, Loss 0.0402\n",
      "Training Accuracy: 0.9583, Testing Accuracy: 0.9667\n",
      "\n"
     ]
    },
    {
     "name": "stdout",
     "output_type": "stream",
     "text": [
      "Epoch 170, Loss 0.0396\n",
      "Training Accuracy: 0.9587, Testing Accuracy: 0.9672\n",
      "\n"
     ]
    },
    {
     "name": "stdout",
     "output_type": "stream",
     "text": [
      "Epoch 180, Loss 0.0391\n",
      "Training Accuracy: 0.9592, Testing Accuracy: 0.9672\n",
      "\n"
     ]
    },
    {
     "name": "stdout",
     "output_type": "stream",
     "text": [
      "Epoch 190, Loss 0.0386\n",
      "Training Accuracy: 0.9596, Testing Accuracy: 0.9672\n",
      "\n"
     ]
    },
    {
     "name": "stdout",
     "output_type": "stream",
     "text": [
      "Epoch 200, Loss 0.0381\n",
      "Training Accuracy: 0.9599, Testing Accuracy: 0.9682\n",
      "\n"
     ]
    },
    {
     "name": "stdout",
     "output_type": "stream",
     "text": [
      "Epoch 210, Loss 0.0377\n",
      "Training Accuracy: 0.9601, Testing Accuracy: 0.9677\n",
      "\n"
     ]
    },
    {
     "name": "stdout",
     "output_type": "stream",
     "text": [
      "Epoch 220, Loss 0.0373\n",
      "Training Accuracy: 0.9602, Testing Accuracy: 0.9682\n",
      "\n"
     ]
    },
    {
     "name": "stdout",
     "output_type": "stream",
     "text": [
      "Epoch 230, Loss 0.0369\n",
      "Training Accuracy: 0.9605, Testing Accuracy: 0.9682\n",
      "\n"
     ]
    },
    {
     "name": "stdout",
     "output_type": "stream",
     "text": [
      "Epoch 240, Loss 0.0366\n",
      "Training Accuracy: 0.9609, Testing Accuracy: 0.9682\n",
      "\n"
     ]
    },
    {
     "data": {
      "text/plain": [
       "0.024892088069271116"
      ]
     },
     "execution_count": 23,
     "metadata": {},
     "output_type": "execute_result"
    }
   ],
   "source": [
    "lr_learner.train_loop(dl)"
   ]
  },
  {
   "cell_type": "code",
   "execution_count": 24,
   "id": "ca410940",
   "metadata": {
    "execution": {
     "iopub.execute_input": "2022-03-09T10:11:12.456546Z",
     "iopub.status.busy": "2022-03-09T10:11:12.455981Z",
     "iopub.status.idle": "2022-03-09T10:11:12.683897Z",
     "shell.execute_reply": "2022-03-09T10:11:12.684302Z"
    },
    "papermill": {
     "duration": 0.27805,
     "end_time": "2022-03-09T10:11:12.684453",
     "exception": false,
     "start_time": "2022-03-09T10:11:12.406403",
     "status": "completed"
    },
    "tags": []
   },
   "outputs": [
    {
     "data": {
      "text/plain": [
       "<matplotlib.legend.Legend at 0x7fdeb97f8da0>"
      ]
     },
     "execution_count": 24,
     "metadata": {},
     "output_type": "execute_result"
    },
    {
     "data": {
      "image/png": "[encoded data removed]",
      "text/plain": [
       "<Figure size 1080x720 with 1 Axes>"
      ]
     },
     "metadata": {
      "needs_background": "light"
     },
     "output_type": "display_data"
    }
   ],
   "source": [
    "#comparing the results of NN and LR\n",
    "plt.figure(figsize=(15,10))\n",
    "\n",
    "# Neural Network plots\n",
    "plt.plot(acc_nn.accuracies, 'r-', label = \"Training Accuracies - NN\")\n",
    "plt.plot(acc_nn.test_accuracies, 'g-', label = \"Testing Accuracies - NN\")\n",
    "\n",
    "# Logistic Regression plots\n",
    "plt.plot(acc_lr.accuracies, 'k-', label = \"Training Accuracies - LR\")\n",
    "plt.plot(acc_lr.test_accuracies, 'b-', label = \"Testing Accuracies - LR\")\n",
    "plt.legend()"
   ]
  },
  {
   "cell_type": "markdown",
   "id": "80dfb35c",
   "metadata": {
    "papermill": {
     "duration": 0.043452,
     "end_time": "2022-03-09T10:11:12.772146",
     "exception": false,
     "start_time": "2022-03-09T10:11:12.728694",
     "status": "completed"
    },
    "tags": []
   },
   "source": [
    "#### Plotting the outputs of this layer of the NN.\n"
   ]
  },
  {
   "cell_type": "code",
   "execution_count": 25,
   "id": "45eb2ff5",
   "metadata": {
    "execution": {
     "iopub.execute_input": "2022-03-09T10:11:12.864171Z",
     "iopub.status.busy": "2022-03-09T10:11:12.863521Z",
     "iopub.status.idle": "2022-03-09T10:11:12.885708Z",
     "shell.execute_reply": "2022-03-09T10:11:12.886172Z"
    },
    "papermill": {
     "duration": 0.070901,
     "end_time": "2022-03-09T10:11:12.886330",
     "exception": false,
     "start_time": "2022-03-09T10:11:12.815429",
     "status": "completed"
    },
    "tags": []
   },
   "outputs": [],
   "source": [
    "new_model = Model(layers[:-2])\n",
    "testing_plot = new_model(testing_data_x)"
   ]
  },
  {
   "cell_type": "code",
   "execution_count": 26,
   "id": "4c0a5485",
   "metadata": {
    "execution": {
     "iopub.execute_input": "2022-03-09T10:11:12.980022Z",
     "iopub.status.busy": "2022-03-09T10:11:12.979496Z",
     "iopub.status.idle": "2022-03-09T10:11:13.213194Z",
     "shell.execute_reply": "2022-03-09T10:11:13.213616Z"
    },
    "papermill": {
     "duration": 0.28315,
     "end_time": "2022-03-09T10:11:13.213764",
     "exception": false,
     "start_time": "2022-03-09T10:11:12.930614",
     "status": "completed"
    },
    "tags": []
   },
   "outputs": [
    {
     "data": {
      "text/plain": [
       "Text(0.5, 1.0, 'Outputs')"
      ]
     },
     "execution_count": 26,
     "metadata": {},
     "output_type": "execute_result"
    },
    {
     "data": {
      "image/png": "[encoded data removed]",
      "text/plain": [
       "<Figure size 576x504 with 1 Axes>"
      ]
     },
     "metadata": {
      "needs_background": "light"
     },
     "output_type": "display_data"
    }
   ],
   "source": [
    "# Plotting the scatter plot of points and color coding by class\n",
    "plt.figure(figsize=(8,7))\n",
    "plt.scatter(testing_plot[:,0], testing_plot[:,1], alpha = 0.1, c = y_test.ravel());\n",
    "plt.title('Outputs')"
   ]
  },
  {
   "cell_type": "markdown",
   "id": "a74fcf8f",
   "metadata": {
    "papermill": {
     "duration": 0.046008,
     "end_time": "2022-03-09T10:11:13.305970",
     "exception": false,
     "start_time": "2022-03-09T10:11:13.259962",
     "status": "completed"
    },
    "tags": []
   },
   "source": [
    "Probability contours"
   ]
  },
  {
   "cell_type": "code",
   "execution_count": 27,
   "id": "d0afc8e3",
   "metadata": {
    "execution": {
     "iopub.execute_input": "2022-03-09T10:11:13.437146Z",
     "iopub.status.busy": "2022-03-09T10:11:13.436622Z",
     "iopub.status.idle": "2022-03-09T10:11:13.448657Z",
     "shell.execute_reply": "2022-03-09T10:11:13.448209Z"
    },
    "papermill": {
     "duration": 0.0965,
     "end_time": "2022-03-09T10:11:13.448772",
     "exception": false,
     "start_time": "2022-03-09T10:11:13.352272",
     "status": "completed"
    },
    "tags": []
   },
   "outputs": [],
   "source": [
    "model_prob = Model(layers[-2:]) "
   ]
  },
  {
   "cell_type": "code",
   "execution_count": 28,
   "id": "9b96e238",
   "metadata": {
    "execution": {
     "iopub.execute_input": "2022-03-09T10:11:13.545837Z",
     "iopub.status.busy": "2022-03-09T10:11:13.545310Z",
     "iopub.status.idle": "2022-03-09T10:11:13.558428Z",
     "shell.execute_reply": "2022-03-09T10:11:13.558864Z"
    },
    "papermill": {
     "duration": 0.064092,
     "end_time": "2022-03-09T10:11:13.559015",
     "exception": false,
     "start_time": "2022-03-09T10:11:13.494923",
     "status": "completed"
    },
    "tags": []
   },
   "outputs": [],
   "source": [
    "#creating the x and y ranges according to the above generated plot.\n",
    "x_range = np.linspace(-4, 1, 100) \n",
    "y_range = np.linspace(-6, 6, 100) \n",
    "x_grid, y_grid = np.meshgrid(x_range, y_range) # x_grid and y_grig are of size 100 X 100\n",
    "\n",
    "# converting x_grid and y_grid to continuous arrays\n",
    "x_gridflat = np.ravel(x_grid)\n",
    "y_gridflat = np.ravel(y_grid)\n",
    "\n",
    "# The last layer of the current model takes two columns as input. Hence transpose of np.vstack() is required.\n",
    "X = np.vstack((x_gridflat, y_gridflat)).T\n",
    "\n",
    "prob_contour = model_prob(X).reshape(100,100) "
   ]
  },
  {
   "cell_type": "code",
   "execution_count": 29,
   "id": "da72499a",
   "metadata": {
    "execution": {
     "iopub.execute_input": "2022-03-09T10:11:13.664303Z",
     "iopub.status.busy": "2022-03-09T10:11:13.663729Z",
     "iopub.status.idle": "2022-03-09T10:11:13.902388Z",
     "shell.execute_reply": "2022-03-09T10:11:13.901935Z"
    },
    "papermill": {
     "duration": 0.296988,
     "end_time": "2022-03-09T10:11:13.902542",
     "exception": false,
     "start_time": "2022-03-09T10:11:13.605554",
     "status": "completed"
    },
    "tags": []
   },
   "outputs": [
    {
     "data": {
      "image/png": "[encoded data removed]",
      "text/plain": [
       "<Figure size 720x648 with 1 Axes>"
      ]
     },
     "metadata": {
      "needs_background": "light"
     },
     "output_type": "display_data"
    }
   ],
   "source": [
    "plt.figure(figsize=(10,9))\n",
    "plt.scatter(testing_plot[:,0], testing_plot[:,1], alpha = 0.1, c = y_test.ravel())\n",
    "contours = plt.contour(x_grid,y_grid,prob_contour)\n",
    "plt.title('Probability Contours')\n",
    "plt.clabel(contours, inline = True );"
   ]
  },
  {
   "cell_type": "code",
   "execution_count": null,
   "id": "e81b4ac7",
   "metadata": {
    "papermill": {
     "duration": 0.048708,
     "end_time": "2022-03-09T10:11:14.000064",
     "exception": false,
     "start_time": "2022-03-09T10:11:13.951356",
     "status": "completed"
    },
    "tags": []
   },
   "outputs": [],
   "source": []
  }
 ],
 "metadata": {
  "kernelspec": {
   "display_name": "Python 3",
   "language": "python",
   "name": "python3"
  },
  "language_info": {
   "codemirror_mode": {
    "name": "ipython",
    "version": 3
   },
   "file_extension": ".py",
   "mimetype": "text/x-python",
   "name": "python",
   "nbconvert_exporter": "python",
   "pygments_lexer": "ipython3",
   "version": "3.6.15"
  },
  "papermill": {
   "default_parameters": {},
   "duration": 109.086305,
   "end_time": "2022-03-09T10:11:14.468103",
   "environment_variables": {},
   "exception": null,
   "input_path": "2020-08-11-part2.ipynb",
   "output_path": "2020-08-11-part2.ipynb",
   "parameters": {},
   "start_time": "2022-03-09T10:09:25.381798",
   "version": "2.3.3"
  }
 },
 "nbformat": 4,
 "nbformat_minor": 5
}