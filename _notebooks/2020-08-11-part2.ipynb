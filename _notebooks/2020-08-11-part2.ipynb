{
 "cells": [
  {
   "cell_type": "markdown",
   "id": "98380cd3",
   "metadata": {
    "papermill": {
     "duration": 0.029557,
     "end_time": "2022-11-21T10:11:00.689854",
     "exception": false,
     "start_time": "2022-11-21T10:11:00.660297",
     "status": "completed"
    },
    "tags": []
   },
   "source": [
    "# Distinguish Your Own Digits (DYOD)"
   ]
  },
  {
   "cell_type": "markdown",
   "id": "ef31240d",
   "metadata": {
    "papermill": {
     "duration": 0.023632,
     "end_time": "2022-11-21T10:11:00.740878",
     "exception": false,
     "start_time": "2022-11-21T10:11:00.717246",
     "status": "completed"
    },
    "tags": []
   },
   "source": [
    "You are going to write a classifier that distinguishes between the number 3 and number 8."
   ]
  },
  {
   "cell_type": "code",
   "execution_count": 1,
   "id": "b15c8646",
   "metadata": {
    "execution": {
     "iopub.execute_input": "2022-11-21T10:11:00.799043Z",
     "iopub.status.busy": "2022-11-21T10:11:00.796160Z",
     "iopub.status.idle": "2022-11-21T10:11:00.809736Z",
     "shell.execute_reply": "2022-11-21T10:11:00.809149Z"
    },
    "papermill": {
     "duration": 0.045302,
     "end_time": "2022-11-21T10:11:00.809862",
     "exception": false,
     "start_time": "2022-11-21T10:11:00.764560",
     "status": "completed"
    },
    "tags": []
   },
   "outputs": [],
   "source": [
    "%load_ext autoreload\n",
    "%autoreload 2"
   ]
  },
  {
   "cell_type": "code",
   "execution_count": 2,
   "id": "22ef38dc",
   "metadata": {
    "execution": {
     "iopub.execute_input": "2022-11-21T10:11:00.861196Z",
     "iopub.status.busy": "2022-11-21T10:11:00.860621Z",
     "iopub.status.idle": "2022-11-21T10:11:01.387773Z",
     "shell.execute_reply": "2022-11-21T10:11:01.387184Z"
    },
    "papermill": {
     "duration": 0.554224,
     "end_time": "2022-11-21T10:11:01.387901",
     "exception": false,
     "start_time": "2022-11-21T10:11:00.833677",
     "status": "completed"
    },
    "tags": []
   },
   "outputs": [],
   "source": [
    "%matplotlib inline\n",
    "import numpy as np\n",
    "import matplotlib.pyplot as plt\n",
    "import pandas as pd"
   ]
  },
  {
   "cell_type": "markdown",
   "id": "ba036198",
   "metadata": {
    "papermill": {
     "duration": 0.02377,
     "end_time": "2022-11-21T10:11:01.435556",
     "exception": false,
     "start_time": "2022-11-21T10:11:01.411786",
     "status": "completed"
    },
    "tags": []
   },
   "source": [
    "From the command line run `pip install mnist`. This is a library that will help you bring down the mnist dataset. If you run this from a notebook, you need to put  `!pip install mnist` in a cell by itself."
   ]
  },
  {
   "cell_type": "code",
   "execution_count": 3,
   "id": "bb6ad8a1",
   "metadata": {
    "execution": {
     "iopub.execute_input": "2022-11-21T10:11:01.490517Z",
     "iopub.status.busy": "2022-11-21T10:11:01.489923Z",
     "iopub.status.idle": "2022-11-21T10:11:03.555239Z",
     "shell.execute_reply": "2022-11-21T10:11:03.554609Z"
    },
    "papermill": {
     "duration": 2.095841,
     "end_time": "2022-11-21T10:11:03.555377",
     "exception": false,
     "start_time": "2022-11-21T10:11:01.459536",
     "status": "completed"
    },
    "tags": []
   },
   "outputs": [
    {
     "name": "stdout",
     "output_type": "stream",
     "text": [
      "Collecting mnist\r\n",
      "  Downloading mnist-0.2.2-py2.py3-none-any.whl (3.5 kB)\r\n",
      "Requirement already satisfied: numpy in /opt/hostedtoolcache/Python/3.6.15/x64/lib/python3.6/site-packages (from mnist) (1.19.5)\r\n"
     ]
    },
    {
     "name": "stdout",
     "output_type": "stream",
     "text": [
      "Installing collected packages: mnist\r\n"
     ]
    },
    {
     "name": "stdout",
     "output_type": "stream",
     "text": [
      "Successfully installed mnist-0.2.2\r\n"
     ]
    }
   ],
   "source": [
    "!pip install mnist"
   ]
  },
  {
   "cell_type": "markdown",
   "id": "69df9c9a",
   "metadata": {
    "papermill": {
     "duration": 0.02479,
     "end_time": "2022-11-21T10:11:03.605843",
     "exception": false,
     "start_time": "2022-11-21T10:11:03.581053",
     "status": "completed"
    },
    "tags": []
   },
   "source": [
    "## Preparing the Data"
   ]
  },
  {
   "cell_type": "code",
   "execution_count": 4,
   "id": "7f69d806",
   "metadata": {
    "execution": {
     "iopub.execute_input": "2022-11-21T10:11:03.660623Z",
     "iopub.status.busy": "2022-11-21T10:11:03.660048Z",
     "iopub.status.idle": "2022-11-21T10:11:03.675031Z",
     "shell.execute_reply": "2022-11-21T10:11:03.674522Z"
    },
    "papermill": {
     "duration": 0.044737,
     "end_time": "2022-11-21T10:11:03.675145",
     "exception": false,
     "start_time": "2022-11-21T10:11:03.630408",
     "status": "completed"
    },
    "tags": []
   },
   "outputs": [],
   "source": [
    "import mnist"
   ]
  },
  {
   "cell_type": "code",
   "execution_count": 5,
   "id": "a411e44f",
   "metadata": {
    "execution": {
     "iopub.execute_input": "2022-11-21T10:11:03.728231Z",
     "iopub.status.busy": "2022-11-21T10:11:03.727656Z",
     "iopub.status.idle": "2022-11-21T10:11:04.194626Z",
     "shell.execute_reply": "2022-11-21T10:11:04.194062Z"
    },
    "papermill": {
     "duration": 0.495052,
     "end_time": "2022-11-21T10:11:04.194763",
     "exception": false,
     "start_time": "2022-11-21T10:11:03.699711",
     "status": "completed"
    },
    "tags": []
   },
   "outputs": [],
   "source": [
    "train_images = mnist.train_images()\n",
    "train_labels = mnist.train_labels()"
   ]
  },
  {
   "cell_type": "code",
   "execution_count": 6,
   "id": "dceab3a5",
   "metadata": {
    "execution": {
     "iopub.execute_input": "2022-11-21T10:11:04.250639Z",
     "iopub.status.busy": "2022-11-21T10:11:04.250052Z",
     "iopub.status.idle": "2022-11-21T10:11:04.265273Z",
     "shell.execute_reply": "2022-11-21T10:11:04.264803Z"
    },
    "papermill": {
     "duration": 0.043394,
     "end_time": "2022-11-21T10:11:04.265383",
     "exception": false,
     "start_time": "2022-11-21T10:11:04.221989",
     "status": "completed"
    },
    "tags": []
   },
   "outputs": [
    {
     "data": {
      "text/plain": [
       "((60000, 28, 28), (60000,))"
      ]
     },
     "execution_count": 6,
     "metadata": {},
     "output_type": "execute_result"
    }
   ],
   "source": [
    "train_images.shape, train_labels.shape"
   ]
  },
  {
   "cell_type": "code",
   "execution_count": 7,
   "id": "f50dc2bb",
   "metadata": {
    "execution": {
     "iopub.execute_input": "2022-11-21T10:11:04.318999Z",
     "iopub.status.busy": "2022-11-21T10:11:04.318406Z",
     "iopub.status.idle": "2022-11-21T10:11:04.430944Z",
     "shell.execute_reply": "2022-11-21T10:11:04.430377Z"
    },
    "papermill": {
     "duration": 0.140548,
     "end_time": "2022-11-21T10:11:04.431108",
     "exception": false,
     "start_time": "2022-11-21T10:11:04.290560",
     "status": "completed"
    },
    "tags": []
   },
   "outputs": [],
   "source": [
    "test_images = mnist.test_images()\n",
    "test_labels = mnist.test_labels()"
   ]
  },
  {
   "cell_type": "code",
   "execution_count": 8,
   "id": "fc38cf1b",
   "metadata": {
    "execution": {
     "iopub.execute_input": "2022-11-21T10:11:04.488417Z",
     "iopub.status.busy": "2022-11-21T10:11:04.487827Z",
     "iopub.status.idle": "2022-11-21T10:11:04.500382Z",
     "shell.execute_reply": "2022-11-21T10:11:04.499821Z"
    },
    "papermill": {
     "duration": 0.043329,
     "end_time": "2022-11-21T10:11:04.500496",
     "exception": false,
     "start_time": "2022-11-21T10:11:04.457167",
     "status": "completed"
    },
    "tags": []
   },
   "outputs": [
    {
     "data": {
      "text/plain": [
       "((10000, 28, 28), (10000,))"
      ]
     },
     "execution_count": 8,
     "metadata": {},
     "output_type": "execute_result"
    }
   ],
   "source": [
    "test_images.shape, test_labels.shape"
   ]
  },
  {
   "cell_type": "code",
   "execution_count": 9,
   "id": "f9ed8fe0",
   "metadata": {
    "execution": {
     "iopub.execute_input": "2022-11-21T10:11:04.555182Z",
     "iopub.status.busy": "2022-11-21T10:11:04.554571Z",
     "iopub.status.idle": "2022-11-21T10:11:04.691480Z",
     "shell.execute_reply": "2022-11-21T10:11:04.691997Z"
    },
    "papermill": {
     "duration": 0.166012,
     "end_time": "2022-11-21T10:11:04.692145",
     "exception": false,
     "start_time": "2022-11-21T10:11:04.526133",
     "status": "completed"
    },
    "tags": []
   },
   "outputs": [
    {
     "name": "stdout",
     "output_type": "stream",
     "text": [
      "2\n"
     ]
    },
    {
     "data": {
      "text/plain": [
       "<matplotlib.image.AxesImage at 0x7fb957981e10>"
      ]
     },
     "execution_count": 9,
     "metadata": {},
     "output_type": "execute_result"
    },
    {
     "data": {
      "image/png": "[encoded data removed]",
      "text/plain": [
       "<Figure size 432x288 with 1 Axes>"
      ]
     },
     "metadata": {
      "needs_background": "light"
     },
     "output_type": "display_data"
    }
   ],
   "source": [
    "image_index = 7776 # You may select anything up to 60,000\n",
    "print(train_labels[image_index]) \n",
    "plt.imshow(train_images[image_index], cmap='Greys')"
   ]
  },
  {
   "cell_type": "markdown",
   "id": "a8d2388d",
   "metadata": {
    "papermill": {
     "duration": 0.026252,
     "end_time": "2022-11-21T10:11:04.745510",
     "exception": false,
     "start_time": "2022-11-21T10:11:04.719258",
     "status": "completed"
    },
    "tags": []
   },
   "source": [
    "## Filter data to get 3 and 8 out"
   ]
  },
  {
   "cell_type": "code",
   "execution_count": 10,
   "id": "776f7fc7",
   "metadata": {
    "execution": {
     "iopub.execute_input": "2022-11-21T10:11:04.811873Z",
     "iopub.status.busy": "2022-11-21T10:11:04.807756Z",
     "iopub.status.idle": "2022-11-21T10:11:04.822259Z",
     "shell.execute_reply": "2022-11-21T10:11:04.822716Z"
    },
    "papermill": {
     "duration": 0.051101,
     "end_time": "2022-11-21T10:11:04.822853",
     "exception": false,
     "start_time": "2022-11-21T10:11:04.771752",
     "status": "completed"
    },
    "tags": []
   },
   "outputs": [],
   "source": [
    "train_filter = np.where((train_labels == 3 ) | (train_labels == 8))\n",
    "test_filter = np.where((test_labels == 3) | (test_labels == 8))\n",
    "X_train, y_train = train_images[train_filter], train_labels[train_filter]\n",
    "X_test, y_test = test_images[test_filter], test_labels[test_filter]"
   ]
  },
  {
   "cell_type": "markdown",
   "id": "948f0b7e",
   "metadata": {
    "papermill": {
     "duration": 0.026267,
     "end_time": "2022-11-21T10:11:04.875707",
     "exception": false,
     "start_time": "2022-11-21T10:11:04.849440",
     "status": "completed"
    },
    "tags": []
   },
   "source": [
    "We normalize the pizel values in the 0 to 1 range"
   ]
  },
  {
   "cell_type": "code",
   "execution_count": 11,
   "id": "ee4c2166",
   "metadata": {
    "execution": {
     "iopub.execute_input": "2022-11-21T10:11:04.939744Z",
     "iopub.status.busy": "2022-11-21T10:11:04.931392Z",
     "iopub.status.idle": "2022-11-21T10:11:04.981125Z",
     "shell.execute_reply": "2022-11-21T10:11:04.980636Z"
    },
    "papermill": {
     "duration": 0.079427,
     "end_time": "2022-11-21T10:11:04.981249",
     "exception": false,
     "start_time": "2022-11-21T10:11:04.901822",
     "status": "completed"
    },
    "tags": []
   },
   "outputs": [],
   "source": [
    "X_train = X_train/255.\n",
    "X_test = X_test/255."
   ]
  },
  {
   "cell_type": "markdown",
   "id": "ddcf4fab",
   "metadata": {
    "papermill": {
     "duration": 0.026224,
     "end_time": "2022-11-21T10:11:05.034575",
     "exception": false,
     "start_time": "2022-11-21T10:11:05.008351",
     "status": "completed"
    },
    "tags": []
   },
   "source": [
    "And setup the labels as 1 (when the digit is 3) and 0 (when the digit is 8)"
   ]
  },
  {
   "cell_type": "code",
   "execution_count": 12,
   "id": "7dc908f2",
   "metadata": {
    "execution": {
     "iopub.execute_input": "2022-11-21T10:11:05.090771Z",
     "iopub.status.busy": "2022-11-21T10:11:05.090193Z",
     "iopub.status.idle": "2022-11-21T10:11:05.102561Z",
     "shell.execute_reply": "2022-11-21T10:11:05.102092Z"
    },
    "papermill": {
     "duration": 0.041878,
     "end_time": "2022-11-21T10:11:05.102670",
     "exception": false,
     "start_time": "2022-11-21T10:11:05.060792",
     "status": "completed"
    },
    "tags": []
   },
   "outputs": [],
   "source": [
    "y_train = 1*(y_train==3)\n",
    "y_test = 1*(y_test==3)"
   ]
  },
  {
   "cell_type": "code",
   "execution_count": 13,
   "id": "01e4e969",
   "metadata": {
    "execution": {
     "iopub.execute_input": "2022-11-21T10:11:05.158665Z",
     "iopub.status.busy": "2022-11-21T10:11:05.158090Z",
     "iopub.status.idle": "2022-11-21T10:11:05.172075Z",
     "shell.execute_reply": "2022-11-21T10:11:05.171512Z"
    },
    "papermill": {
     "duration": 0.04313,
     "end_time": "2022-11-21T10:11:05.172184",
     "exception": false,
     "start_time": "2022-11-21T10:11:05.129054",
     "status": "completed"
    },
    "tags": []
   },
   "outputs": [
    {
     "data": {
      "text/plain": [
       "((11982, 28, 28), (1984, 28, 28))"
      ]
     },
     "execution_count": 13,
     "metadata": {},
     "output_type": "execute_result"
    }
   ],
   "source": [
    "X_train.shape, X_test.shape"
   ]
  },
  {
   "cell_type": "markdown",
   "id": "5ccf3f85",
   "metadata": {
    "papermill": {
     "duration": 0.026397,
     "end_time": "2022-11-21T10:11:05.225089",
     "exception": false,
     "start_time": "2022-11-21T10:11:05.198692",
     "status": "completed"
    },
    "tags": []
   },
   "source": [
    "We reshape the data to flatten the image pixels into a set of features or co-variates:"
   ]
  },
  {
   "cell_type": "code",
   "execution_count": 14,
   "id": "5286a4a3",
   "metadata": {
    "execution": {
     "iopub.execute_input": "2022-11-21T10:11:05.283979Z",
     "iopub.status.busy": "2022-11-21T10:11:05.283398Z",
     "iopub.status.idle": "2022-11-21T10:11:05.297350Z",
     "shell.execute_reply": "2022-11-21T10:11:05.296883Z"
    },
    "papermill": {
     "duration": 0.043806,
     "end_time": "2022-11-21T10:11:05.297457",
     "exception": false,
     "start_time": "2022-11-21T10:11:05.253651",
     "status": "completed"
    },
    "tags": []
   },
   "outputs": [
    {
     "data": {
      "text/plain": [
       "((11982, 784), (1984, 784))"
      ]
     },
     "execution_count": 14,
     "metadata": {},
     "output_type": "execute_result"
    }
   ],
   "source": [
    "X_train = X_train.reshape(X_train.shape[0], -1)\n",
    "X_test = X_test.reshape(X_test.shape[0], -1)\n",
    "X_train.shape, X_test.shape"
   ]
  },
  {
   "cell_type": "code",
   "execution_count": 15,
   "id": "73c5f88a",
   "metadata": {
    "execution": {
     "iopub.execute_input": "2022-11-21T10:11:05.372049Z",
     "iopub.status.busy": "2022-11-21T10:11:05.363682Z",
     "iopub.status.idle": "2022-11-21T10:11:05.377375Z",
     "shell.execute_reply": "2022-11-21T10:11:05.376910Z"
    },
    "papermill": {
     "duration": 0.053435,
     "end_time": "2022-11-21T10:11:05.377479",
     "exception": false,
     "start_time": "2022-11-21T10:11:05.324044",
     "status": "completed"
    },
    "tags": []
   },
   "outputs": [],
   "source": [
    "#Impoting functions from 'Kudzu'\n",
    "from kudzu.model import Model\n",
    "from kudzu.train import Learner\n",
    "from kudzu.optim import GD\n",
    "from kudzu.data import Data, Sampler,Dataloader\n",
    "\n",
    "from kudzu.callbacks import AccCallback\n",
    "from kudzu.callbacks import ClfCallback\n",
    "\n",
    "from kudzu.loss import MSE\n",
    "\n",
    "from kudzu.layer import Sigmoid,Relu\n",
    "from kudzu.layer import Affine"
   ]
  },
  {
   "cell_type": "markdown",
   "id": "bc01172a",
   "metadata": {
    "papermill": {
     "duration": 0.02667,
     "end_time": "2022-11-21T10:11:05.431152",
     "exception": false,
     "start_time": "2022-11-21T10:11:05.404482",
     "status": "completed"
    },
    "tags": []
   },
   "source": [
    "### Let us create a `Config` class, to store important parameters. \n",
    "This class essentially plays the role of a dictionary."
   ]
  },
  {
   "cell_type": "code",
   "execution_count": 16,
   "id": "978281aa",
   "metadata": {
    "execution": {
     "iopub.execute_input": "2022-11-21T10:11:05.493727Z",
     "iopub.status.busy": "2022-11-21T10:11:05.493133Z",
     "iopub.status.idle": "2022-11-21T10:11:05.502771Z",
     "shell.execute_reply": "2022-11-21T10:11:05.502299Z"
    },
    "papermill": {
     "duration": 0.044955,
     "end_time": "2022-11-21T10:11:05.502881",
     "exception": false,
     "start_time": "2022-11-21T10:11:05.457926",
     "status": "completed"
    },
    "tags": []
   },
   "outputs": [],
   "source": [
    "class Config:\n",
    "    pass\n",
    "config = Config()\n",
    "config.lr = 0.001\n",
    "config.num_epochs = 250\n",
    "config.bs = 50"
   ]
  },
  {
   "cell_type": "markdown",
   "id": "1385fa59",
   "metadata": {
    "papermill": {
     "duration": 0.02678,
     "end_time": "2022-11-21T10:11:05.556494",
     "exception": false,
     "start_time": "2022-11-21T10:11:05.529714",
     "status": "completed"
    },
    "tags": []
   },
   "source": [
    "### Running Models with the Training data\n",
    "Details about the network layers:\n",
    "- A first affine layer has 784 inputs and does 100 affine transforms. These are followed by a Relu\n",
    "- A second affine layer has 100 inputs from the 100 activations of the past layer, and does 100 affine transforms. These are followed by a Relu\n",
    "- A third affine layer has 100 activations and does 2 affine transformations to create an embedding for visualization. There is no non-linearity here.\n",
    "- A final \"logistic regression\" which has an affine transform from 2 inputs to 1 output, which is squeezed through a sigmoid.\n"
   ]
  },
  {
   "cell_type": "code",
   "execution_count": 17,
   "id": "2b9c66db",
   "metadata": {
    "execution": {
     "iopub.execute_input": "2022-11-21T10:11:05.614510Z",
     "iopub.status.busy": "2022-11-21T10:11:05.613925Z",
     "iopub.status.idle": "2022-11-21T10:11:05.626395Z",
     "shell.execute_reply": "2022-11-21T10:11:05.625923Z"
    },
    "papermill": {
     "duration": 0.043161,
     "end_time": "2022-11-21T10:11:05.626505",
     "exception": false,
     "start_time": "2022-11-21T10:11:05.583344",
     "status": "completed"
    },
    "tags": []
   },
   "outputs": [],
   "source": [
    "data = Data(X_train, y_train.reshape(-1,1))\n",
    "sampler = Sampler(data, config.bs, shuffle=True)\n",
    "\n",
    "dl = Dataloader(data, sampler)\n",
    "\n",
    "opt = GD(config.lr)\n",
    "loss = MSE()"
   ]
  },
  {
   "cell_type": "code",
   "execution_count": 18,
   "id": "b275e4c2",
   "metadata": {
    "execution": {
     "iopub.execute_input": "2022-11-21T10:11:05.685737Z",
     "iopub.status.busy": "2022-11-21T10:11:05.685151Z",
     "iopub.status.idle": "2022-11-21T10:11:05.696489Z",
     "shell.execute_reply": "2022-11-21T10:11:05.696019Z"
    },
    "papermill": {
     "duration": 0.043153,
     "end_time": "2022-11-21T10:11:05.696598",
     "exception": false,
     "start_time": "2022-11-21T10:11:05.653445",
     "status": "completed"
    },
    "tags": []
   },
   "outputs": [],
   "source": [
    "training_data_x = X_train\n",
    "testing_data_x = X_test\n",
    "training_data_y = y_train.reshape(-1,1)\n",
    "testing_data_y = y_test.reshape(-1,1)"
   ]
  },
  {
   "cell_type": "code",
   "execution_count": 19,
   "id": "76951160",
   "metadata": {
    "execution": {
     "iopub.execute_input": "2022-11-21T10:11:05.764665Z",
     "iopub.status.busy": "2022-11-21T10:11:05.758556Z",
     "iopub.status.idle": "2022-11-21T10:11:05.771476Z",
     "shell.execute_reply": "2022-11-21T10:11:05.771003Z"
    },
    "papermill": {
     "duration": 0.048374,
     "end_time": "2022-11-21T10:11:05.771584",
     "exception": false,
     "start_time": "2022-11-21T10:11:05.723210",
     "status": "completed"
    },
    "tags": []
   },
   "outputs": [
    {
     "name": "stdout",
     "output_type": "stream",
     "text": [
      "xavier\n",
      "xavier\n",
      "xavier\n",
      "xavier\n",
      "xavier\n"
     ]
    }
   ],
   "source": [
    "layers = [Affine(\"first\", 784, 100), Relu(\"first\"), Affine(\"second\", 100, 100), Relu(\"second\"), Affine(\"third\", 100, 2), Affine(\"last\", 2, 1), Sigmoid(\"last\")]\n",
    "model_nn = Model(layers)\n",
    "model_lr = Model([Affine(\"logits\", 784, 1), Sigmoid(\"sigmoid\")])"
   ]
  },
  {
   "cell_type": "code",
   "execution_count": 20,
   "id": "6eede77a",
   "metadata": {
    "execution": {
     "iopub.execute_input": "2022-11-21T10:11:05.829378Z",
     "iopub.status.busy": "2022-11-21T10:11:05.828800Z",
     "iopub.status.idle": "2022-11-21T10:11:05.840557Z",
     "shell.execute_reply": "2022-11-21T10:11:05.841031Z"
    },
    "papermill": {
     "duration": 0.042496,
     "end_time": "2022-11-21T10:11:05.841154",
     "exception": false,
     "start_time": "2022-11-21T10:11:05.798658",
     "status": "completed"
    },
    "tags": []
   },
   "outputs": [],
   "source": [
    "nn_learner = Learner(loss, model_nn, opt, config.num_epochs)\n",
    "acc_nn = ClfCallback(nn_learner, config.bs, training_data_x , testing_data_x, training_data_y, testing_data_y)\n",
    "nn_learner.set_callbacks([acc_nn])"
   ]
  },
  {
   "cell_type": "code",
   "execution_count": 21,
   "id": "877b6cc7",
   "metadata": {
    "execution": {
     "iopub.execute_input": "2022-11-21T10:11:05.899360Z",
     "iopub.status.busy": "2022-11-21T10:11:05.898745Z",
     "iopub.status.idle": "2022-11-21T10:11:05.911157Z",
     "shell.execute_reply": "2022-11-21T10:11:05.910666Z"
    },
    "papermill": {
     "duration": 0.043039,
     "end_time": "2022-11-21T10:11:05.911268",
     "exception": false,
     "start_time": "2022-11-21T10:11:05.868229",
     "status": "completed"
    },
    "tags": []
   },
   "outputs": [],
   "source": [
    "lr_learner = Learner(loss, model_lr, opt, config.num_epochs)\n",
    "acc_lr = ClfCallback(lr_learner, config.bs, training_data_x , testing_data_x, training_data_y, testing_data_y)\n",
    "lr_learner.set_callbacks([acc_lr])"
   ]
  },
  {
   "cell_type": "code",
   "execution_count": 22,
   "id": "d9b133c3",
   "metadata": {
    "execution": {
     "iopub.execute_input": "2022-11-21T10:11:05.969126Z",
     "iopub.status.busy": "2022-11-21T10:11:05.968563Z",
     "iopub.status.idle": "2022-11-21T10:12:21.312835Z",
     "shell.execute_reply": "2022-11-21T10:12:21.313671Z"
    },
    "papermill": {
     "duration": 75.374985,
     "end_time": "2022-11-21T10:12:21.313822",
     "exception": false,
     "start_time": "2022-11-21T10:11:05.938837",
     "status": "completed"
    },
    "tags": []
   },
   "outputs": [
    {
     "name": "stdout",
     "output_type": "stream",
     "text": [
      "Epoch 0, Loss 0.2555\n",
      "Training Accuracy: 0.6341, Testing Accuracy: 0.6482\n",
      "\n"
     ]
    },
    {
     "name": "stdout",
     "output_type": "stream",
     "text": [
      "Epoch 10, Loss 0.0804\n",
      "Training Accuracy: 0.9243, Testing Accuracy: 0.9315\n",
      "\n"
     ]
    },
    {
     "name": "stdout",
     "output_type": "stream",
     "text": [
      "Epoch 20, Loss 0.0513\n",
      "Training Accuracy: 0.9450, Testing Accuracy: 0.9536\n",
      "\n"
     ]
    },
    {
     "name": "stdout",
     "output_type": "stream",
     "text": [
      "Epoch 30, Loss 0.0415\n",
      "Training Accuracy: 0.9548, Testing Accuracy: 0.9617\n",
      "\n"
     ]
    },
    {
     "name": "stdout",
     "output_type": "stream",
     "text": [
      "Epoch 40, Loss 0.0365\n",
      "Training Accuracy: 0.9591, Testing Accuracy: 0.9677\n",
      "\n"
     ]
    },
    {
     "name": "stdout",
     "output_type": "stream",
     "text": [
      "Epoch 50, Loss 0.0334\n",
      "Training Accuracy: 0.9609, Testing Accuracy: 0.9698\n",
      "\n"
     ]
    },
    {
     "name": "stdout",
     "output_type": "stream",
     "text": [
      "Epoch 60, Loss 0.0312\n",
      "Training Accuracy: 0.9634, Testing Accuracy: 0.9693\n",
      "\n"
     ]
    },
    {
     "name": "stdout",
     "output_type": "stream",
     "text": [
      "Epoch 70, Loss 0.0295\n",
      "Training Accuracy: 0.9654, Testing Accuracy: 0.9708\n",
      "\n"
     ]
    },
    {
     "name": "stdout",
     "output_type": "stream",
     "text": [
      "Epoch 80, Loss 0.0281\n",
      "Training Accuracy: 0.9664, Testing Accuracy: 0.9708\n",
      "\n"
     ]
    },
    {
     "name": "stdout",
     "output_type": "stream",
     "text": [
      "Epoch 90, Loss 0.027\n",
      "Training Accuracy: 0.9675, Testing Accuracy: 0.9718\n",
      "\n"
     ]
    },
    {
     "name": "stdout",
     "output_type": "stream",
     "text": [
      "Epoch 100, Loss 0.026\n",
      "Training Accuracy: 0.9693, Testing Accuracy: 0.9708\n",
      "\n"
     ]
    },
    {
     "name": "stdout",
     "output_type": "stream",
     "text": [
      "Epoch 110, Loss 0.0251\n",
      "Training Accuracy: 0.9705, Testing Accuracy: 0.9713\n",
      "\n"
     ]
    },
    {
     "name": "stdout",
     "output_type": "stream",
     "text": [
      "Epoch 120, Loss 0.0243\n",
      "Training Accuracy: 0.9714, Testing Accuracy: 0.9713\n",
      "\n"
     ]
    },
    {
     "name": "stdout",
     "output_type": "stream",
     "text": [
      "Epoch 130, Loss 0.0236\n",
      "Training Accuracy: 0.9723, Testing Accuracy: 0.9708\n",
      "\n"
     ]
    },
    {
     "name": "stdout",
     "output_type": "stream",
     "text": [
      "Epoch 140, Loss 0.023\n",
      "Training Accuracy: 0.9729, Testing Accuracy: 0.9723\n",
      "\n"
     ]
    },
    {
     "name": "stdout",
     "output_type": "stream",
     "text": [
      "Epoch 150, Loss 0.0224\n",
      "Training Accuracy: 0.9734, Testing Accuracy: 0.9728\n",
      "\n"
     ]
    },
    {
     "name": "stdout",
     "output_type": "stream",
     "text": [
      "Epoch 160, Loss 0.0218\n",
      "Training Accuracy: 0.9742, Testing Accuracy: 0.9723\n",
      "\n"
     ]
    },
    {
     "name": "stdout",
     "output_type": "stream",
     "text": [
      "Epoch 170, Loss 0.0213\n",
      "Training Accuracy: 0.9752, Testing Accuracy: 0.9713\n",
      "\n"
     ]
    },
    {
     "name": "stdout",
     "output_type": "stream",
     "text": [
      "Epoch 180, Loss 0.0208\n",
      "Training Accuracy: 0.9757, Testing Accuracy: 0.9723\n",
      "\n"
     ]
    },
    {
     "name": "stdout",
     "output_type": "stream",
     "text": [
      "Epoch 190, Loss 0.0203\n",
      "Training Accuracy: 0.9765, Testing Accuracy: 0.9733\n",
      "\n"
     ]
    },
    {
     "name": "stdout",
     "output_type": "stream",
     "text": [
      "Epoch 200, Loss 0.0199\n",
      "Training Accuracy: 0.9772, Testing Accuracy: 0.9733\n",
      "\n"
     ]
    },
    {
     "name": "stdout",
     "output_type": "stream",
     "text": [
      "Epoch 210, Loss 0.0195\n",
      "Training Accuracy: 0.9775, Testing Accuracy: 0.9738\n",
      "\n"
     ]
    },
    {
     "name": "stdout",
     "output_type": "stream",
     "text": [
      "Epoch 220, Loss 0.0191\n",
      "Training Accuracy: 0.9781, Testing Accuracy: 0.9738\n",
      "\n"
     ]
    },
    {
     "name": "stdout",
     "output_type": "stream",
     "text": [
      "Epoch 230, Loss 0.0187\n",
      "Training Accuracy: 0.9783, Testing Accuracy: 0.9738\n",
      "\n"
     ]
    },
    {
     "name": "stdout",
     "output_type": "stream",
     "text": [
      "Epoch 240, Loss 0.0183\n",
      "Training Accuracy: 0.9787, Testing Accuracy: 0.9733\n",
      "\n"
     ]
    },
    {
     "data": {
      "text/plain": [
       "0.0014867711017995772"
      ]
     },
     "execution_count": 22,
     "metadata": {},
     "output_type": "execute_result"
    }
   ],
   "source": [
    "nn_learner.train_loop(dl)"
   ]
  },
  {
   "cell_type": "code",
   "execution_count": 23,
   "id": "e0163366",
   "metadata": {
    "execution": {
     "iopub.execute_input": "2022-11-21T10:12:21.392930Z",
     "iopub.status.busy": "2022-11-21T10:12:21.392343Z",
     "iopub.status.idle": "2022-11-21T10:12:34.903318Z",
     "shell.execute_reply": "2022-11-21T10:12:34.904147Z"
    },
    "papermill": {
     "duration": 13.555415,
     "end_time": "2022-11-21T10:12:34.904291",
     "exception": false,
     "start_time": "2022-11-21T10:12:21.348876",
     "status": "completed"
    },
    "tags": []
   },
   "outputs": [
    {
     "name": "stdout",
     "output_type": "stream",
     "text": [
      "Epoch 0, Loss 0.2366\n",
      "Training Accuracy: 0.7244, Testing Accuracy: 0.7082\n",
      "\n"
     ]
    },
    {
     "name": "stdout",
     "output_type": "stream",
     "text": [
      "Epoch 10, Loss 0.1017\n",
      "Training Accuracy: 0.9094, Testing Accuracy: 0.9173\n",
      "\n"
     ]
    },
    {
     "name": "stdout",
     "output_type": "stream",
     "text": [
      "Epoch 20, Loss 0.0788\n",
      "Training Accuracy: 0.9257, Testing Accuracy: 0.9355\n",
      "\n"
     ]
    },
    {
     "name": "stdout",
     "output_type": "stream",
     "text": [
      "Epoch 30, Loss 0.068\n",
      "Training Accuracy: 0.9343, Testing Accuracy: 0.9456\n",
      "\n"
     ]
    },
    {
     "name": "stdout",
     "output_type": "stream",
     "text": [
      "Epoch 40, Loss 0.0614\n",
      "Training Accuracy: 0.9409, Testing Accuracy: 0.9511\n",
      "\n"
     ]
    },
    {
     "name": "stdout",
     "output_type": "stream",
     "text": [
      "Epoch 50, Loss 0.0569\n",
      "Training Accuracy: 0.9441, Testing Accuracy: 0.9546\n",
      "\n"
     ]
    },
    {
     "name": "stdout",
     "output_type": "stream",
     "text": [
      "Epoch 60, Loss 0.0536\n",
      "Training Accuracy: 0.9465, Testing Accuracy: 0.9587\n",
      "\n"
     ]
    },
    {
     "name": "stdout",
     "output_type": "stream",
     "text": [
      "Epoch 70, Loss 0.0511\n",
      "Training Accuracy: 0.9483, Testing Accuracy: 0.9592\n",
      "\n"
     ]
    },
    {
     "name": "stdout",
     "output_type": "stream",
     "text": [
      "Epoch 80, Loss 0.049\n",
      "Training Accuracy: 0.9508, Testing Accuracy: 0.9592\n",
      "\n"
     ]
    },
    {
     "name": "stdout",
     "output_type": "stream",
     "text": [
      "Epoch 90, Loss 0.0473\n",
      "Training Accuracy: 0.9523, Testing Accuracy: 0.9602\n",
      "\n"
     ]
    },
    {
     "name": "stdout",
     "output_type": "stream",
     "text": [
      "Epoch 100, Loss 0.0459\n",
      "Training Accuracy: 0.9535, Testing Accuracy: 0.9602\n",
      "\n"
     ]
    },
    {
     "name": "stdout",
     "output_type": "stream",
     "text": [
      "Epoch 110, Loss 0.0447\n",
      "Training Accuracy: 0.9547, Testing Accuracy: 0.9622\n",
      "\n"
     ]
    },
    {
     "name": "stdout",
     "output_type": "stream",
     "text": [
      "Epoch 120, Loss 0.0436\n",
      "Training Accuracy: 0.9557, Testing Accuracy: 0.9637\n",
      "\n"
     ]
    },
    {
     "name": "stdout",
     "output_type": "stream",
     "text": [
      "Epoch 130, Loss 0.0427\n",
      "Training Accuracy: 0.9563, Testing Accuracy: 0.9637\n",
      "\n"
     ]
    },
    {
     "name": "stdout",
     "output_type": "stream",
     "text": [
      "Epoch 140, Loss 0.0418\n",
      "Training Accuracy: 0.9569, Testing Accuracy: 0.9637\n",
      "\n"
     ]
    },
    {
     "name": "stdout",
     "output_type": "stream",
     "text": [
      "Epoch 150, Loss 0.0411\n",
      "Training Accuracy: 0.9579, Testing Accuracy: 0.9637\n",
      "\n"
     ]
    },
    {
     "name": "stdout",
     "output_type": "stream",
     "text": [
      "Epoch 160, Loss 0.0404\n",
      "Training Accuracy: 0.9586, Testing Accuracy: 0.9637\n",
      "\n"
     ]
    },
    {
     "name": "stdout",
     "output_type": "stream",
     "text": [
      "Epoch 170, Loss 0.0398\n",
      "Training Accuracy: 0.9589, Testing Accuracy: 0.9637\n",
      "\n"
     ]
    },
    {
     "name": "stdout",
     "output_type": "stream",
     "text": [
      "Epoch 180, Loss 0.0392\n",
      "Training Accuracy: 0.9591, Testing Accuracy: 0.9637\n",
      "\n"
     ]
    },
    {
     "name": "stdout",
     "output_type": "stream",
     "text": [
      "Epoch 190, Loss 0.0387\n",
      "Training Accuracy: 0.9594, Testing Accuracy: 0.9637\n",
      "\n"
     ]
    },
    {
     "name": "stdout",
     "output_type": "stream",
     "text": [
      "Epoch 200, Loss 0.0382\n",
      "Training Accuracy: 0.9598, Testing Accuracy: 0.9647\n",
      "\n"
     ]
    },
    {
     "name": "stdout",
     "output_type": "stream",
     "text": [
      "Epoch 210, Loss 0.0378\n",
      "Training Accuracy: 0.9602, Testing Accuracy: 0.9652\n",
      "\n"
     ]
    },
    {
     "name": "stdout",
     "output_type": "stream",
     "text": [
      "Epoch 220, Loss 0.0374\n",
      "Training Accuracy: 0.9607, Testing Accuracy: 0.9652\n",
      "\n"
     ]
    },
    {
     "name": "stdout",
     "output_type": "stream",
     "text": [
      "Epoch 230, Loss 0.037\n",
      "Training Accuracy: 0.9607, Testing Accuracy: 0.9657\n",
      "\n"
     ]
    },
    {
     "name": "stdout",
     "output_type": "stream",
     "text": [
      "Epoch 240, Loss 0.0366\n",
      "Training Accuracy: 0.9610, Testing Accuracy: 0.9662\n",
      "\n"
     ]
    },
    {
     "data": {
      "text/plain": [
       "0.023762680091740623"
      ]
     },
     "execution_count": 23,
     "metadata": {},
     "output_type": "execute_result"
    }
   ],
   "source": [
    "lr_learner.train_loop(dl)"
   ]
  },
  {
   "cell_type": "code",
   "execution_count": 24,
   "id": "ca410940",
   "metadata": {
    "execution": {
     "iopub.execute_input": "2022-11-21T10:12:35.001899Z",
     "iopub.status.busy": "2022-11-21T10:12:35.001302Z",
     "iopub.status.idle": "2022-11-21T10:12:35.226971Z",
     "shell.execute_reply": "2022-11-21T10:12:35.225866Z"
    },
    "papermill": {
     "duration": 0.277141,
     "end_time": "2022-11-21T10:12:35.227098",
     "exception": false,
     "start_time": "2022-11-21T10:12:34.949957",
     "status": "completed"
    },
    "tags": []
   },
   "outputs": [
    {
     "data": {
      "text/plain": [
       "<matplotlib.legend.Legend at 0x7fb9574f0518>"
      ]
     },
     "execution_count": 24,
     "metadata": {},
     "output_type": "execute_result"
    },
    {
     "data": {
      "image/png": "[encoded data removed]",
      "text/plain": [
       "<Figure size 1080x720 with 1 Axes>"
      ]
     },
     "metadata": {
      "needs_background": "light"
     },
     "output_type": "display_data"
    }
   ],
   "source": [
    "#comparing the results of NN and LR\n",
    "plt.figure(figsize=(15,10))\n",
    "\n",
    "# Neural Network plots\n",
    "plt.plot(acc_nn.accuracies, 'r-', label = \"Training Accuracies - NN\")\n",
    "plt.plot(acc_nn.test_accuracies, 'g-', label = \"Testing Accuracies - NN\")\n",
    "\n",
    "# Logistic Regression plots\n",
    "plt.plot(acc_lr.accuracies, 'k-', label = \"Training Accuracies - LR\")\n",
    "plt.plot(acc_lr.test_accuracies, 'b-', label = \"Testing Accuracies - LR\")\n",
    "plt.legend()"
   ]
  },
  {
   "cell_type": "markdown",
   "id": "80dfb35c",
   "metadata": {
    "papermill": {
     "duration": 0.042873,
     "end_time": "2022-11-21T10:12:35.312206",
     "exception": false,
     "start_time": "2022-11-21T10:12:35.269333",
     "status": "completed"
    },
    "tags": []
   },
   "source": [
    "#### Plotting the outputs of this layer of the NN.\n"
   ]
  },
  {
   "cell_type": "code",
   "execution_count": 25,
   "id": "45eb2ff5",
   "metadata": {
    "execution": {
     "iopub.execute_input": "2022-11-21T10:12:35.402379Z",
     "iopub.status.busy": "2022-11-21T10:12:35.400223Z",
     "iopub.status.idle": "2022-11-21T10:12:35.419804Z",
     "shell.execute_reply": "2022-11-21T10:12:35.420262Z"
    },
    "papermill": {
     "duration": 0.066522,
     "end_time": "2022-11-21T10:12:35.420390",
     "exception": false,
     "start_time": "2022-11-21T10:12:35.353868",
     "status": "completed"
    },
    "tags": []
   },
   "outputs": [],
   "source": [
    "new_model = Model(layers[:-2])\n",
    "testing_plot = new_model(testing_data_x)"
   ]
  },
  {
   "cell_type": "code",
   "execution_count": 26,
   "id": "4c0a5485",
   "metadata": {
    "execution": {
     "iopub.execute_input": "2022-11-21T10:12:35.513621Z",
     "iopub.status.busy": "2022-11-21T10:12:35.511943Z",
     "iopub.status.idle": "2022-11-21T10:12:35.730073Z",
     "shell.execute_reply": "2022-11-21T10:12:35.729503Z"
    },
    "papermill": {
     "duration": 0.264953,
     "end_time": "2022-11-21T10:12:35.730188",
     "exception": false,
     "start_time": "2022-11-21T10:12:35.465235",
     "status": "completed"
    },
    "tags": []
   },
   "outputs": [
    {
     "data": {
      "text/plain": [
       "Text(0.5, 1.0, 'Outputs')"
      ]
     },
     "execution_count": 26,
     "metadata": {},
     "output_type": "execute_result"
    },
    {
     "data": {
      "image/png": "[encoded data removed]",
      "text/plain": [
       "<Figure size 576x504 with 1 Axes>"
      ]
     },
     "metadata": {
      "needs_background": "light"
     },
     "output_type": "display_data"
    }
   ],
   "source": [
    "# Plotting the scatter plot of points and color coding by class\n",
    "plt.figure(figsize=(8,7))\n",
    "plt.scatter(testing_plot[:,0], testing_plot[:,1], alpha = 0.1, c = y_test.ravel());\n",
    "plt.title('Outputs')"
   ]
  },
  {
   "cell_type": "markdown",
   "id": "a74fcf8f",
   "metadata": {
    "papermill": {
     "duration": 0.044582,
     "end_time": "2022-11-21T10:12:35.819607",
     "exception": false,
     "start_time": "2022-11-21T10:12:35.775025",
     "status": "completed"
    },
    "tags": []
   },
   "source": [
    "Probability contours"
   ]
  },
  {
   "cell_type": "code",
   "execution_count": 27,
   "id": "d0afc8e3",
   "metadata": {
    "execution": {
     "iopub.execute_input": "2022-11-21T10:12:35.916948Z",
     "iopub.status.busy": "2022-11-21T10:12:35.916150Z",
     "iopub.status.idle": "2022-11-21T10:12:35.926797Z",
     "shell.execute_reply": "2022-11-21T10:12:35.926222Z"
    },
    "papermill": {
     "duration": 0.062853,
     "end_time": "2022-11-21T10:12:35.926907",
     "exception": false,
     "start_time": "2022-11-21T10:12:35.864054",
     "status": "completed"
    },
    "tags": []
   },
   "outputs": [],
   "source": [
    "model_prob = Model(layers[-2:]) "
   ]
  },
  {
   "cell_type": "code",
   "execution_count": 28,
   "id": "9b96e238",
   "metadata": {
    "execution": {
     "iopub.execute_input": "2022-11-21T10:12:36.022240Z",
     "iopub.status.busy": "2022-11-21T10:12:36.021566Z",
     "iopub.status.idle": "2022-11-21T10:12:36.035720Z",
     "shell.execute_reply": "2022-11-21T10:12:36.035240Z"
    },
    "papermill": {
     "duration": 0.06378,
     "end_time": "2022-11-21T10:12:36.035830",
     "exception": false,
     "start_time": "2022-11-21T10:12:35.972050",
     "status": "completed"
    },
    "tags": []
   },
   "outputs": [],
   "source": [
    "#creating the x and y ranges according to the above generated plot.\n",
    "x_range = np.linspace(-4, 1, 100) \n",
    "y_range = np.linspace(-6, 6, 100) \n",
    "x_grid, y_grid = np.meshgrid(x_range, y_range) # x_grid and y_grig are of size 100 X 100\n",
    "\n",
    "# converting x_grid and y_grid to continuous arrays\n",
    "x_gridflat = np.ravel(x_grid)\n",
    "y_gridflat = np.ravel(y_grid)\n",
    "\n",
    "# The last layer of the current model takes two columns as input. Hence transpose of np.vstack() is required.\n",
    "X = np.vstack((x_gridflat, y_gridflat)).T\n",
    "\n",
    "prob_contour = model_prob(X).reshape(100,100) "
   ]
  },
  {
   "cell_type": "code",
   "execution_count": 29,
   "id": "da72499a",
   "metadata": {
    "execution": {
     "iopub.execute_input": "2022-11-21T10:12:36.159778Z",
     "iopub.status.busy": "2022-11-21T10:12:36.159196Z",
     "iopub.status.idle": "2022-11-21T10:12:36.410057Z",
     "shell.execute_reply": "2022-11-21T10:12:36.409566Z"
    },
    "papermill": {
     "duration": 0.301539,
     "end_time": "2022-11-21T10:12:36.410183",
     "exception": false,
     "start_time": "2022-11-21T10:12:36.108644",
     "status": "completed"
    },
    "tags": []
   },
   "outputs": [
    {
     "data": {
      "image/png": "[encoded data removed]",
      "text/plain": [
       "<Figure size 720x648 with 1 Axes>"
      ]
     },
     "metadata": {
      "needs_background": "light"
     },
     "output_type": "display_data"
    }
   ],
   "source": [
    "plt.figure(figsize=(10,9))\n",
    "plt.scatter(testing_plot[:,0], testing_plot[:,1], alpha = 0.1, c = y_test.ravel())\n",
    "contours = plt.contour(x_grid,y_grid,prob_contour)\n",
    "plt.title('Probability Contours')\n",
    "plt.clabel(contours, inline = True );"
   ]
  },
  {
   "cell_type": "code",
   "execution_count": null,
   "id": "e81b4ac7",
   "metadata": {
    "papermill": {
     "duration": 0.047832,
     "end_time": "2022-11-21T10:12:36.506075",
     "exception": false,
     "start_time": "2022-11-21T10:12:36.458243",
     "status": "completed"
    },
    "tags": []
   },
   "outputs": [],
   "source": []
  }
 ],
 "metadata": {
  "kernelspec": {
   "display_name": "Python 3",
   "language": "python",
   "name": "python3"
  },
  "language_info": {
   "codemirror_mode": {
    "name": "ipython",
    "version": 3
   },
   "file_extension": ".py",
   "mimetype": "text/x-python",
   "name": "python",
   "nbconvert_exporter": "python",
   "pygments_lexer": "ipython3",
   "version": "3.6.15"
  },
  "papermill": {
   "default_parameters": {},
   "duration": 97.249024,
   "end_time": "2022-11-21T10:12:36.973570",
   "environment_variables": {},
   "exception": null,
   "input_path": "2020-08-11-part2.ipynb",
   "output_path": "2020-08-11-part2.ipynb",
   "parameters": {},
   "start_time": "2022-11-21T10:10:59.724546",
   "version": "2.3.3"
  }
 },
 "nbformat": 4,
 "nbformat_minor": 5
}