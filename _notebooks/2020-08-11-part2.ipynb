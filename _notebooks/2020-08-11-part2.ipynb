{
 "cells": [
  {
   "cell_type": "markdown",
   "id": "98380cd3",
   "metadata": {
    "papermill": {
     "duration": 0.028077,
     "end_time": "2021-09-17T10:06:26.083980",
     "exception": false,
     "start_time": "2021-09-17T10:06:26.055903",
     "status": "completed"
    },
    "tags": []
   },
   "source": [
    "# Distinguish Your Own Digits (DYOD)"
   ]
  },
  {
   "cell_type": "markdown",
   "id": "ef31240d",
   "metadata": {
    "papermill": {
     "duration": 0.023806,
     "end_time": "2021-09-17T10:06:26.132435",
     "exception": false,
     "start_time": "2021-09-17T10:06:26.108629",
     "status": "completed"
    },
    "tags": []
   },
   "source": [
    "You are going to write a classifier that distinguishes between the number 3 and number 8."
   ]
  },
  {
   "cell_type": "code",
   "execution_count": 1,
   "id": "b15c8646",
   "metadata": {
    "execution": {
     "iopub.execute_input": "2021-09-17T10:06:26.191117Z",
     "iopub.status.busy": "2021-09-17T10:06:26.190578Z",
     "iopub.status.idle": "2021-09-17T10:06:26.200577Z",
     "shell.execute_reply": "2021-09-17T10:06:26.200150Z"
    },
    "papermill": {
     "duration": 0.044565,
     "end_time": "2021-09-17T10:06:26.200702",
     "exception": false,
     "start_time": "2021-09-17T10:06:26.156137",
     "status": "completed"
    },
    "tags": []
   },
   "outputs": [],
   "source": [
    "%load_ext autoreload\n",
    "%autoreload 2"
   ]
  },
  {
   "cell_type": "code",
   "execution_count": 2,
   "id": "22ef38dc",
   "metadata": {
    "execution": {
     "iopub.execute_input": "2021-09-17T10:06:26.254896Z",
     "iopub.status.busy": "2021-09-17T10:06:26.254385Z",
     "iopub.status.idle": "2021-09-17T10:06:26.757742Z",
     "shell.execute_reply": "2021-09-17T10:06:26.758172Z"
    },
    "papermill": {
     "duration": 0.533422,
     "end_time": "2021-09-17T10:06:26.758303",
     "exception": false,
     "start_time": "2021-09-17T10:06:26.224881",
     "status": "completed"
    },
    "tags": []
   },
   "outputs": [],
   "source": [
    "%matplotlib inline\n",
    "import numpy as np\n",
    "import matplotlib.pyplot as plt\n",
    "import pandas as pd"
   ]
  },
  {
   "cell_type": "markdown",
   "id": "ba036198",
   "metadata": {
    "papermill": {
     "duration": 0.023887,
     "end_time": "2021-09-17T10:06:26.806228",
     "exception": false,
     "start_time": "2021-09-17T10:06:26.782341",
     "status": "completed"
    },
    "tags": []
   },
   "source": [
    "From the command line run `pip install mnist`. This is a library that will help you bring down the mnist dataset. If you run this from a notebook, you need to put  `!pip install mnist` in a cell by itself."
   ]
  },
  {
   "cell_type": "code",
   "execution_count": 3,
   "id": "bb6ad8a1",
   "metadata": {
    "execution": {
     "iopub.execute_input": "2021-09-17T10:06:26.861224Z",
     "iopub.status.busy": "2021-09-17T10:06:26.858573Z",
     "iopub.status.idle": "2021-09-17T10:06:28.484354Z",
     "shell.execute_reply": "2021-09-17T10:06:28.483597Z"
    },
    "papermill": {
     "duration": 1.654425,
     "end_time": "2021-09-17T10:06:28.484479",
     "exception": false,
     "start_time": "2021-09-17T10:06:26.830054",
     "status": "completed"
    },
    "tags": []
   },
   "outputs": [
    {
     "name": "stdout",
     "output_type": "stream",
     "text": [
      "Collecting mnist\r\n"
     ]
    },
    {
     "name": "stdout",
     "output_type": "stream",
     "text": [
      "  Downloading mnist-0.2.2-py2.py3-none-any.whl (3.5 kB)\r\n",
      "Requirement already satisfied: numpy in /opt/hostedtoolcache/Python/3.6.15/x64/lib/python3.6/site-packages (from mnist) (1.19.5)\r\n"
     ]
    },
    {
     "name": "stdout",
     "output_type": "stream",
     "text": [
      "Installing collected packages: mnist\r\n",
      "Successfully installed mnist-0.2.2\r\n"
     ]
    }
   ],
   "source": [
    "!pip install mnist"
   ]
  },
  {
   "cell_type": "markdown",
   "id": "69df9c9a",
   "metadata": {
    "papermill": {
     "duration": 0.024918,
     "end_time": "2021-09-17T10:06:28.534356",
     "exception": false,
     "start_time": "2021-09-17T10:06:28.509438",
     "status": "completed"
    },
    "tags": []
   },
   "source": [
    "## Preparing the Data"
   ]
  },
  {
   "cell_type": "code",
   "execution_count": 4,
   "id": "7f69d806",
   "metadata": {
    "execution": {
     "iopub.execute_input": "2021-09-17T10:06:28.589870Z",
     "iopub.status.busy": "2021-09-17T10:06:28.587079Z",
     "iopub.status.idle": "2021-09-17T10:06:28.600337Z",
     "shell.execute_reply": "2021-09-17T10:06:28.599906Z"
    },
    "papermill": {
     "duration": 0.04152,
     "end_time": "2021-09-17T10:06:28.600449",
     "exception": false,
     "start_time": "2021-09-17T10:06:28.558929",
     "status": "completed"
    },
    "tags": []
   },
   "outputs": [],
   "source": [
    "import mnist"
   ]
  },
  {
   "cell_type": "code",
   "execution_count": 5,
   "id": "a411e44f",
   "metadata": {
    "execution": {
     "iopub.execute_input": "2021-09-17T10:06:28.655898Z",
     "iopub.status.busy": "2021-09-17T10:06:28.655392Z",
     "iopub.status.idle": "2021-09-17T10:06:29.175565Z",
     "shell.execute_reply": "2021-09-17T10:06:29.174543Z"
    },
    "papermill": {
     "duration": 0.550167,
     "end_time": "2021-09-17T10:06:29.175692",
     "exception": false,
     "start_time": "2021-09-17T10:06:28.625525",
     "status": "completed"
    },
    "tags": []
   },
   "outputs": [],
   "source": [
    "train_images = mnist.train_images()\n",
    "train_labels = mnist.train_labels()"
   ]
  },
  {
   "cell_type": "code",
   "execution_count": 6,
   "id": "dceab3a5",
   "metadata": {
    "execution": {
     "iopub.execute_input": "2021-09-17T10:06:29.233784Z",
     "iopub.status.busy": "2021-09-17T10:06:29.230585Z",
     "iopub.status.idle": "2021-09-17T10:06:29.243897Z",
     "shell.execute_reply": "2021-09-17T10:06:29.243492Z"
    },
    "papermill": {
     "duration": 0.043104,
     "end_time": "2021-09-17T10:06:29.244005",
     "exception": false,
     "start_time": "2021-09-17T10:06:29.200901",
     "status": "completed"
    },
    "tags": []
   },
   "outputs": [
    {
     "data": {
      "text/plain": [
       "((60000, 28, 28), (60000,))"
      ]
     },
     "execution_count": 6,
     "metadata": {},
     "output_type": "execute_result"
    }
   ],
   "source": [
    "train_images.shape, train_labels.shape"
   ]
  },
  {
   "cell_type": "code",
   "execution_count": 7,
   "id": "f50dc2bb",
   "metadata": {
    "execution": {
     "iopub.execute_input": "2021-09-17T10:06:29.298919Z",
     "iopub.status.busy": "2021-09-17T10:06:29.298425Z",
     "iopub.status.idle": "2021-09-17T10:06:29.462631Z",
     "shell.execute_reply": "2021-09-17T10:06:29.462131Z"
    },
    "papermill": {
     "duration": 0.193729,
     "end_time": "2021-09-17T10:06:29.462759",
     "exception": false,
     "start_time": "2021-09-17T10:06:29.269030",
     "status": "completed"
    },
    "tags": []
   },
   "outputs": [],
   "source": [
    "test_images = mnist.test_images()\n",
    "test_labels = mnist.test_labels()"
   ]
  },
  {
   "cell_type": "code",
   "execution_count": 8,
   "id": "fc38cf1b",
   "metadata": {
    "execution": {
     "iopub.execute_input": "2021-09-17T10:06:29.517782Z",
     "iopub.status.busy": "2021-09-17T10:06:29.517279Z",
     "iopub.status.idle": "2021-09-17T10:06:29.529962Z",
     "shell.execute_reply": "2021-09-17T10:06:29.529534Z"
    },
    "papermill": {
     "duration": 0.041285,
     "end_time": "2021-09-17T10:06:29.530070",
     "exception": false,
     "start_time": "2021-09-17T10:06:29.488785",
     "status": "completed"
    },
    "tags": []
   },
   "outputs": [
    {
     "data": {
      "text/plain": [
       "((10000, 28, 28), (10000,))"
      ]
     },
     "execution_count": 8,
     "metadata": {},
     "output_type": "execute_result"
    }
   ],
   "source": [
    "test_images.shape, test_labels.shape"
   ]
  },
  {
   "cell_type": "code",
   "execution_count": 9,
   "id": "f9ed8fe0",
   "metadata": {
    "execution": {
     "iopub.execute_input": "2021-09-17T10:06:29.584902Z",
     "iopub.status.busy": "2021-09-17T10:06:29.584386Z",
     "iopub.status.idle": "2021-09-17T10:06:29.719444Z",
     "shell.execute_reply": "2021-09-17T10:06:29.719906Z"
    },
    "papermill": {
     "duration": 0.164647,
     "end_time": "2021-09-17T10:06:29.720052",
     "exception": false,
     "start_time": "2021-09-17T10:06:29.555405",
     "status": "completed"
    },
    "tags": []
   },
   "outputs": [
    {
     "name": "stdout",
     "output_type": "stream",
     "text": [
      "2\n"
     ]
    },
    {
     "data": {
      "text/plain": [
       "<matplotlib.image.AxesImage at 0x7fe3e0a617f0>"
      ]
     },
     "execution_count": 9,
     "metadata": {},
     "output_type": "execute_result"
    },
    {
     "data": {
      "image/png": "[encoded data removed]",
      "text/plain": [
       "<Figure size 432x288 with 1 Axes>"
      ]
     },
     "metadata": {
      "needs_background": "light"
     },
     "output_type": "display_data"
    }
   ],
   "source": [
    "image_index = 7776 # You may select anything up to 60,000\n",
    "print(train_labels[image_index]) \n",
    "plt.imshow(train_images[image_index], cmap='Greys')"
   ]
  },
  {
   "cell_type": "markdown",
   "id": "a8d2388d",
   "metadata": {
    "papermill": {
     "duration": 0.026301,
     "end_time": "2021-09-17T10:06:29.776445",
     "exception": false,
     "start_time": "2021-09-17T10:06:29.750144",
     "status": "completed"
    },
    "tags": []
   },
   "source": [
    "## Filter data to get 3 and 8 out"
   ]
  },
  {
   "cell_type": "code",
   "execution_count": 10,
   "id": "776f7fc7",
   "metadata": {
    "execution": {
     "iopub.execute_input": "2021-09-17T10:06:29.834753Z",
     "iopub.status.busy": "2021-09-17T10:06:29.834241Z",
     "iopub.status.idle": "2021-09-17T10:06:29.851300Z",
     "shell.execute_reply": "2021-09-17T10:06:29.850858Z"
    },
    "papermill": {
     "duration": 0.048674,
     "end_time": "2021-09-17T10:06:29.851407",
     "exception": false,
     "start_time": "2021-09-17T10:06:29.802733",
     "status": "completed"
    },
    "tags": []
   },
   "outputs": [],
   "source": [
    "train_filter = np.where((train_labels == 3 ) | (train_labels == 8))\n",
    "test_filter = np.where((test_labels == 3) | (test_labels == 8))\n",
    "X_train, y_train = train_images[train_filter], train_labels[train_filter]\n",
    "X_test, y_test = test_images[test_filter], test_labels[test_filter]"
   ]
  },
  {
   "cell_type": "markdown",
   "id": "948f0b7e",
   "metadata": {
    "papermill": {
     "duration": 0.025996,
     "end_time": "2021-09-17T10:06:29.904030",
     "exception": false,
     "start_time": "2021-09-17T10:06:29.878034",
     "status": "completed"
    },
    "tags": []
   },
   "source": [
    "We normalize the pizel values in the 0 to 1 range"
   ]
  },
  {
   "cell_type": "code",
   "execution_count": 11,
   "id": "ee4c2166",
   "metadata": {
    "execution": {
     "iopub.execute_input": "2021-09-17T10:06:29.959649Z",
     "iopub.status.busy": "2021-09-17T10:06:29.959149Z",
     "iopub.status.idle": "2021-09-17T10:06:30.005137Z",
     "shell.execute_reply": "2021-09-17T10:06:30.004624Z"
    },
    "papermill": {
     "duration": 0.075156,
     "end_time": "2021-09-17T10:06:30.005267",
     "exception": false,
     "start_time": "2021-09-17T10:06:29.930111",
     "status": "completed"
    },
    "tags": []
   },
   "outputs": [],
   "source": [
    "X_train = X_train/255.\n",
    "X_test = X_test/255."
   ]
  },
  {
   "cell_type": "markdown",
   "id": "ddcf4fab",
   "metadata": {
    "papermill": {
     "duration": 0.026194,
     "end_time": "2021-09-17T10:06:30.058776",
     "exception": false,
     "start_time": "2021-09-17T10:06:30.032582",
     "status": "completed"
    },
    "tags": []
   },
   "source": [
    "And setup the labels as 1 (when the digit is 3) and 0 (when the digit is 8)"
   ]
  },
  {
   "cell_type": "code",
   "execution_count": 12,
   "id": "7dc908f2",
   "metadata": {
    "execution": {
     "iopub.execute_input": "2021-09-17T10:06:30.116837Z",
     "iopub.status.busy": "2021-09-17T10:06:30.116328Z",
     "iopub.status.idle": "2021-09-17T10:06:30.127087Z",
     "shell.execute_reply": "2021-09-17T10:06:30.126661Z"
    },
    "papermill": {
     "duration": 0.04203,
     "end_time": "2021-09-17T10:06:30.127192",
     "exception": false,
     "start_time": "2021-09-17T10:06:30.085162",
     "status": "completed"
    },
    "tags": []
   },
   "outputs": [],
   "source": [
    "y_train = 1*(y_train==3)\n",
    "y_test = 1*(y_test==3)"
   ]
  },
  {
   "cell_type": "code",
   "execution_count": 13,
   "id": "01e4e969",
   "metadata": {
    "execution": {
     "iopub.execute_input": "2021-09-17T10:06:30.183113Z",
     "iopub.status.busy": "2021-09-17T10:06:30.182622Z",
     "iopub.status.idle": "2021-09-17T10:06:30.194943Z",
     "shell.execute_reply": "2021-09-17T10:06:30.194539Z"
    },
    "papermill": {
     "duration": 0.041506,
     "end_time": "2021-09-17T10:06:30.195049",
     "exception": false,
     "start_time": "2021-09-17T10:06:30.153543",
     "status": "completed"
    },
    "tags": []
   },
   "outputs": [
    {
     "data": {
      "text/plain": [
       "((11982, 28, 28), (1984, 28, 28))"
      ]
     },
     "execution_count": 13,
     "metadata": {},
     "output_type": "execute_result"
    }
   ],
   "source": [
    "X_train.shape, X_test.shape"
   ]
  },
  {
   "cell_type": "markdown",
   "id": "5ccf3f85",
   "metadata": {
    "papermill": {
     "duration": 0.026334,
     "end_time": "2021-09-17T10:06:30.248061",
     "exception": false,
     "start_time": "2021-09-17T10:06:30.221727",
     "status": "completed"
    },
    "tags": []
   },
   "source": [
    "We reshape the data to flatten the image pixels into a set of features or co-variates:"
   ]
  },
  {
   "cell_type": "code",
   "execution_count": 14,
   "id": "5286a4a3",
   "metadata": {
    "execution": {
     "iopub.execute_input": "2021-09-17T10:06:30.305506Z",
     "iopub.status.busy": "2021-09-17T10:06:30.304999Z",
     "iopub.status.idle": "2021-09-17T10:06:30.317451Z",
     "shell.execute_reply": "2021-09-17T10:06:30.317047Z"
    },
    "papermill": {
     "duration": 0.042908,
     "end_time": "2021-09-17T10:06:30.317557",
     "exception": false,
     "start_time": "2021-09-17T10:06:30.274649",
     "status": "completed"
    },
    "tags": []
   },
   "outputs": [
    {
     "data": {
      "text/plain": [
       "((11982, 784), (1984, 784))"
      ]
     },
     "execution_count": 14,
     "metadata": {},
     "output_type": "execute_result"
    }
   ],
   "source": [
    "X_train = X_train.reshape(X_train.shape[0], -1)\n",
    "X_test = X_test.reshape(X_test.shape[0], -1)\n",
    "X_train.shape, X_test.shape"
   ]
  },
  {
   "cell_type": "code",
   "execution_count": 15,
   "id": "73c5f88a",
   "metadata": {
    "execution": {
     "iopub.execute_input": "2021-09-17T10:06:30.374688Z",
     "iopub.status.busy": "2021-09-17T10:06:30.374190Z",
     "iopub.status.idle": "2021-09-17T10:06:30.391576Z",
     "shell.execute_reply": "2021-09-17T10:06:30.391173Z"
    },
    "papermill": {
     "duration": 0.04757,
     "end_time": "2021-09-17T10:06:30.391678",
     "exception": false,
     "start_time": "2021-09-17T10:06:30.344108",
     "status": "completed"
    },
    "tags": []
   },
   "outputs": [],
   "source": [
    "#Impoting functions from 'Kudzu'\n",
    "from kudzu.model import Model\n",
    "from kudzu.train import Learner\n",
    "from kudzu.optim import GD\n",
    "from kudzu.data import Data, Sampler,Dataloader\n",
    "\n",
    "from kudzu.callbacks import AccCallback\n",
    "from kudzu.callbacks import ClfCallback\n",
    "\n",
    "from kudzu.loss import MSE\n",
    "\n",
    "from kudzu.layer import Sigmoid,Relu\n",
    "from kudzu.layer import Affine"
   ]
  },
  {
   "cell_type": "markdown",
   "id": "bc01172a",
   "metadata": {
    "papermill": {
     "duration": 0.026438,
     "end_time": "2021-09-17T10:06:30.444720",
     "exception": false,
     "start_time": "2021-09-17T10:06:30.418282",
     "status": "completed"
    },
    "tags": []
   },
   "source": [
    "### Let us create a `Config` class, to store important parameters. \n",
    "This class essentially plays the role of a dictionary."
   ]
  },
  {
   "cell_type": "code",
   "execution_count": 16,
   "id": "978281aa",
   "metadata": {
    "execution": {
     "iopub.execute_input": "2021-09-17T10:06:30.503090Z",
     "iopub.status.busy": "2021-09-17T10:06:30.502589Z",
     "iopub.status.idle": "2021-09-17T10:06:30.513730Z",
     "shell.execute_reply": "2021-09-17T10:06:30.513329Z"
    },
    "papermill": {
     "duration": 0.04263,
     "end_time": "2021-09-17T10:06:30.513834",
     "exception": false,
     "start_time": "2021-09-17T10:06:30.471204",
     "status": "completed"
    },
    "tags": []
   },
   "outputs": [],
   "source": [
    "class Config:\n",
    "    pass\n",
    "config = Config()\n",
    "config.lr = 0.001\n",
    "config.num_epochs = 250\n",
    "config.bs = 50"
   ]
  },
  {
   "cell_type": "markdown",
   "id": "1385fa59",
   "metadata": {
    "papermill": {
     "duration": 0.02646,
     "end_time": "2021-09-17T10:06:30.567018",
     "exception": false,
     "start_time": "2021-09-17T10:06:30.540558",
     "status": "completed"
    },
    "tags": []
   },
   "source": [
    "### Running Models with the Training data\n",
    "Details about the network layers:\n",
    "- A first affine layer has 784 inputs and does 100 affine transforms. These are followed by a Relu\n",
    "- A second affine layer has 100 inputs from the 100 activations of the past layer, and does 100 affine transforms. These are followed by a Relu\n",
    "- A third affine layer has 100 activations and does 2 affine transformations to create an embedding for visualization. There is no non-linearity here.\n",
    "- A final \"logistic regression\" which has an affine transform from 2 inputs to 1 output, which is squeezed through a sigmoid.\n"
   ]
  },
  {
   "cell_type": "code",
   "execution_count": 17,
   "id": "2b9c66db",
   "metadata": {
    "execution": {
     "iopub.execute_input": "2021-09-17T10:06:30.623941Z",
     "iopub.status.busy": "2021-09-17T10:06:30.623447Z",
     "iopub.status.idle": "2021-09-17T10:06:30.635688Z",
     "shell.execute_reply": "2021-09-17T10:06:30.635263Z"
    },
    "papermill": {
     "duration": 0.042182,
     "end_time": "2021-09-17T10:06:30.635788",
     "exception": false,
     "start_time": "2021-09-17T10:06:30.593606",
     "status": "completed"
    },
    "tags": []
   },
   "outputs": [],
   "source": [
    "data = Data(X_train, y_train.reshape(-1,1))\n",
    "sampler = Sampler(data, config.bs, shuffle=True)\n",
    "\n",
    "dl = Dataloader(data, sampler)\n",
    "\n",
    "opt = GD(config.lr)\n",
    "loss = MSE()"
   ]
  },
  {
   "cell_type": "code",
   "execution_count": 18,
   "id": "b275e4c2",
   "metadata": {
    "execution": {
     "iopub.execute_input": "2021-09-17T10:06:30.693049Z",
     "iopub.status.busy": "2021-09-17T10:06:30.692535Z",
     "iopub.status.idle": "2021-09-17T10:06:30.703366Z",
     "shell.execute_reply": "2021-09-17T10:06:30.702964Z"
    },
    "papermill": {
     "duration": 0.04093,
     "end_time": "2021-09-17T10:06:30.703469",
     "exception": false,
     "start_time": "2021-09-17T10:06:30.662539",
     "status": "completed"
    },
    "tags": []
   },
   "outputs": [],
   "source": [
    "training_data_x = X_train\n",
    "testing_data_x = X_test\n",
    "training_data_y = y_train.reshape(-1,1)\n",
    "testing_data_y = y_test.reshape(-1,1)"
   ]
  },
  {
   "cell_type": "code",
   "execution_count": 19,
   "id": "76951160",
   "metadata": {
    "execution": {
     "iopub.execute_input": "2021-09-17T10:06:30.761085Z",
     "iopub.status.busy": "2021-09-17T10:06:30.760562Z",
     "iopub.status.idle": "2021-09-17T10:06:30.775861Z",
     "shell.execute_reply": "2021-09-17T10:06:30.775440Z"
    },
    "papermill": {
     "duration": 0.045905,
     "end_time": "2021-09-17T10:06:30.775963",
     "exception": false,
     "start_time": "2021-09-17T10:06:30.730058",
     "status": "completed"
    },
    "tags": []
   },
   "outputs": [
    {
     "name": "stdout",
     "output_type": "stream",
     "text": [
      "xavier\n",
      "xavier\n",
      "xavier\n",
      "xavier\n",
      "xavier\n"
     ]
    }
   ],
   "source": [
    "layers = [Affine(\"first\", 784, 100), Relu(\"first\"), Affine(\"second\", 100, 100), Relu(\"second\"), Affine(\"third\", 100, 2), Affine(\"last\", 2, 1), Sigmoid(\"last\")]\n",
    "model_nn = Model(layers)\n",
    "model_lr = Model([Affine(\"logits\", 784, 1), Sigmoid(\"sigmoid\")])"
   ]
  },
  {
   "cell_type": "code",
   "execution_count": 20,
   "id": "6eede77a",
   "metadata": {
    "execution": {
     "iopub.execute_input": "2021-09-17T10:06:30.834032Z",
     "iopub.status.busy": "2021-09-17T10:06:30.833535Z",
     "iopub.status.idle": "2021-09-17T10:06:30.844715Z",
     "shell.execute_reply": "2021-09-17T10:06:30.844317Z"
    },
    "papermill": {
     "duration": 0.041711,
     "end_time": "2021-09-17T10:06:30.844820",
     "exception": false,
     "start_time": "2021-09-17T10:06:30.803109",
     "status": "completed"
    },
    "tags": []
   },
   "outputs": [],
   "source": [
    "nn_learner = Learner(loss, model_nn, opt, config.num_epochs)\n",
    "acc_nn = ClfCallback(nn_learner, config.bs, training_data_x , testing_data_x, training_data_y, testing_data_y)\n",
    "nn_learner.set_callbacks([acc_nn])"
   ]
  },
  {
   "cell_type": "code",
   "execution_count": 21,
   "id": "877b6cc7",
   "metadata": {
    "execution": {
     "iopub.execute_input": "2021-09-17T10:06:30.905248Z",
     "iopub.status.busy": "2021-09-17T10:06:30.904731Z",
     "iopub.status.idle": "2021-09-17T10:06:30.915090Z",
     "shell.execute_reply": "2021-09-17T10:06:30.914691Z"
    },
    "papermill": {
     "duration": 0.043402,
     "end_time": "2021-09-17T10:06:30.915194",
     "exception": false,
     "start_time": "2021-09-17T10:06:30.871792",
     "status": "completed"
    },
    "tags": []
   },
   "outputs": [],
   "source": [
    "lr_learner = Learner(loss, model_lr, opt, config.num_epochs)\n",
    "acc_lr = ClfCallback(lr_learner, config.bs, training_data_x , testing_data_x, training_data_y, testing_data_y)\n",
    "lr_learner.set_callbacks([acc_lr])"
   ]
  },
  {
   "cell_type": "code",
   "execution_count": 22,
   "id": "d9b133c3",
   "metadata": {
    "execution": {
     "iopub.execute_input": "2021-09-17T10:06:30.972621Z",
     "iopub.status.busy": "2021-09-17T10:06:30.972119Z",
     "iopub.status.idle": "2021-09-17T10:07:46.569518Z",
     "shell.execute_reply": "2021-09-17T10:07:46.570216Z"
    },
    "papermill": {
     "duration": 75.628204,
     "end_time": "2021-09-17T10:07:46.570355",
     "exception": false,
     "start_time": "2021-09-17T10:06:30.942151",
     "status": "completed"
    },
    "tags": []
   },
   "outputs": [
    {
     "name": "stdout",
     "output_type": "stream",
     "text": [
      "Epoch 0, Loss 0.2465\n",
      "Training Accuracy: 0.6494, Testing Accuracy: 0.6568\n",
      "\n"
     ]
    },
    {
     "name": "stdout",
     "output_type": "stream",
     "text": [
      "Epoch 10, Loss 0.0962\n",
      "Training Accuracy: 0.9145, Testing Accuracy: 0.9239\n",
      "\n"
     ]
    },
    {
     "name": "stdout",
     "output_type": "stream",
     "text": [
      "Epoch 20, Loss 0.0582\n",
      "Training Accuracy: 0.9404, Testing Accuracy: 0.9461\n",
      "\n"
     ]
    },
    {
     "name": "stdout",
     "output_type": "stream",
     "text": [
      "Epoch 30, Loss 0.0451\n",
      "Training Accuracy: 0.9520, Testing Accuracy: 0.9582\n",
      "\n"
     ]
    },
    {
     "name": "stdout",
     "output_type": "stream",
     "text": [
      "Epoch 40, Loss 0.0386\n",
      "Training Accuracy: 0.9580, Testing Accuracy: 0.9622\n",
      "\n"
     ]
    },
    {
     "name": "stdout",
     "output_type": "stream",
     "text": [
      "Epoch 50, Loss 0.0348\n",
      "Training Accuracy: 0.9617, Testing Accuracy: 0.9662\n",
      "\n"
     ]
    },
    {
     "name": "stdout",
     "output_type": "stream",
     "text": [
      "Epoch 60, Loss 0.0321\n",
      "Training Accuracy: 0.9645, Testing Accuracy: 0.9662\n",
      "\n"
     ]
    },
    {
     "name": "stdout",
     "output_type": "stream",
     "text": [
      "Epoch 70, Loss 0.0301\n",
      "Training Accuracy: 0.9662, Testing Accuracy: 0.9698\n",
      "\n"
     ]
    },
    {
     "name": "stdout",
     "output_type": "stream",
     "text": [
      "Epoch 80, Loss 0.0286\n",
      "Training Accuracy: 0.9680, Testing Accuracy: 0.9698\n",
      "\n"
     ]
    },
    {
     "name": "stdout",
     "output_type": "stream",
     "text": [
      "Epoch 90, Loss 0.0273\n",
      "Training Accuracy: 0.9695, Testing Accuracy: 0.9698\n",
      "\n"
     ]
    },
    {
     "name": "stdout",
     "output_type": "stream",
     "text": [
      "Epoch 100, Loss 0.0263\n",
      "Training Accuracy: 0.9705, Testing Accuracy: 0.9703\n",
      "\n"
     ]
    },
    {
     "name": "stdout",
     "output_type": "stream",
     "text": [
      "Epoch 110, Loss 0.0254\n",
      "Training Accuracy: 0.9716, Testing Accuracy: 0.9718\n",
      "\n"
     ]
    },
    {
     "name": "stdout",
     "output_type": "stream",
     "text": [
      "Epoch 120, Loss 0.0246\n",
      "Training Accuracy: 0.9724, Testing Accuracy: 0.9728\n",
      "\n"
     ]
    },
    {
     "name": "stdout",
     "output_type": "stream",
     "text": [
      "Epoch 130, Loss 0.0238\n",
      "Training Accuracy: 0.9733, Testing Accuracy: 0.9733\n",
      "\n"
     ]
    },
    {
     "name": "stdout",
     "output_type": "stream",
     "text": [
      "Epoch 140, Loss 0.0232\n",
      "Training Accuracy: 0.9740, Testing Accuracy: 0.9738\n",
      "\n"
     ]
    },
    {
     "name": "stdout",
     "output_type": "stream",
     "text": [
      "Epoch 150, Loss 0.0226\n",
      "Training Accuracy: 0.9746, Testing Accuracy: 0.9748\n",
      "\n"
     ]
    },
    {
     "name": "stdout",
     "output_type": "stream",
     "text": [
      "Epoch 160, Loss 0.022\n",
      "Training Accuracy: 0.9750, Testing Accuracy: 0.9738\n",
      "\n"
     ]
    },
    {
     "name": "stdout",
     "output_type": "stream",
     "text": [
      "Epoch 170, Loss 0.0215\n",
      "Training Accuracy: 0.9760, Testing Accuracy: 0.9738\n",
      "\n"
     ]
    },
    {
     "name": "stdout",
     "output_type": "stream",
     "text": [
      "Epoch 180, Loss 0.021\n",
      "Training Accuracy: 0.9772, Testing Accuracy: 0.9733\n",
      "\n"
     ]
    },
    {
     "name": "stdout",
     "output_type": "stream",
     "text": [
      "Epoch 190, Loss 0.0206\n",
      "Training Accuracy: 0.9776, Testing Accuracy: 0.9738\n",
      "\n"
     ]
    },
    {
     "name": "stdout",
     "output_type": "stream",
     "text": [
      "Epoch 200, Loss 0.0201\n",
      "Training Accuracy: 0.9784, Testing Accuracy: 0.9743\n",
      "\n"
     ]
    },
    {
     "name": "stdout",
     "output_type": "stream",
     "text": [
      "Epoch 210, Loss 0.0197\n",
      "Training Accuracy: 0.9786, Testing Accuracy: 0.9743\n",
      "\n"
     ]
    },
    {
     "name": "stdout",
     "output_type": "stream",
     "text": [
      "Epoch 220, Loss 0.0193\n",
      "Training Accuracy: 0.9791, Testing Accuracy: 0.9743\n",
      "\n"
     ]
    },
    {
     "name": "stdout",
     "output_type": "stream",
     "text": [
      "Epoch 230, Loss 0.019\n",
      "Training Accuracy: 0.9796, Testing Accuracy: 0.9753\n",
      "\n"
     ]
    },
    {
     "name": "stdout",
     "output_type": "stream",
     "text": [
      "Epoch 240, Loss 0.0186\n",
      "Training Accuracy: 0.9802, Testing Accuracy: 0.9753\n",
      "\n"
     ]
    },
    {
     "data": {
      "text/plain": [
       "0.018092009518691506"
      ]
     },
     "execution_count": 22,
     "metadata": {},
     "output_type": "execute_result"
    }
   ],
   "source": [
    "nn_learner.train_loop(dl)"
   ]
  },
  {
   "cell_type": "code",
   "execution_count": 23,
   "id": "e0163366",
   "metadata": {
    "execution": {
     "iopub.execute_input": "2021-09-17T10:07:46.650966Z",
     "iopub.status.busy": "2021-09-17T10:07:46.650429Z",
     "iopub.status.idle": "2021-09-17T10:08:00.099665Z",
     "shell.execute_reply": "2021-09-17T10:08:00.100370Z"
    },
    "papermill": {
     "duration": 13.495705,
     "end_time": "2021-09-17T10:08:00.100508",
     "exception": false,
     "start_time": "2021-09-17T10:07:46.604803",
     "status": "completed"
    },
    "tags": []
   },
   "outputs": [
    {
     "name": "stdout",
     "output_type": "stream",
     "text": [
      "Epoch 0, Loss 0.2541\n",
      "Training Accuracy: 0.6313, Testing Accuracy: 0.6426\n",
      "\n"
     ]
    },
    {
     "name": "stdout",
     "output_type": "stream",
     "text": [
      "Epoch 10, Loss 0.1076\n",
      "Training Accuracy: 0.8961, Testing Accuracy: 0.9118\n",
      "\n"
     ]
    },
    {
     "name": "stdout",
     "output_type": "stream",
     "text": [
      "Epoch 20, Loss 0.0821\n",
      "Training Accuracy: 0.9210, Testing Accuracy: 0.9335\n",
      "\n"
     ]
    },
    {
     "name": "stdout",
     "output_type": "stream",
     "text": [
      "Epoch 30, Loss 0.0703\n",
      "Training Accuracy: 0.9310, Testing Accuracy: 0.9430\n",
      "\n"
     ]
    },
    {
     "name": "stdout",
     "output_type": "stream",
     "text": [
      "Epoch 40, Loss 0.0632\n",
      "Training Accuracy: 0.9379, Testing Accuracy: 0.9491\n",
      "\n"
     ]
    },
    {
     "name": "stdout",
     "output_type": "stream",
     "text": [
      "Epoch 50, Loss 0.0584\n",
      "Training Accuracy: 0.9419, Testing Accuracy: 0.9551\n",
      "\n"
     ]
    },
    {
     "name": "stdout",
     "output_type": "stream",
     "text": [
      "Epoch 60, Loss 0.0549\n",
      "Training Accuracy: 0.9438, Testing Accuracy: 0.9551\n",
      "\n"
     ]
    },
    {
     "name": "stdout",
     "output_type": "stream",
     "text": [
      "Epoch 70, Loss 0.0522\n",
      "Training Accuracy: 0.9463, Testing Accuracy: 0.9592\n",
      "\n"
     ]
    },
    {
     "name": "stdout",
     "output_type": "stream",
     "text": [
      "Epoch 80, Loss 0.05\n",
      "Training Accuracy: 0.9488, Testing Accuracy: 0.9597\n",
      "\n"
     ]
    },
    {
     "name": "stdout",
     "output_type": "stream",
     "text": [
      "Epoch 90, Loss 0.0482\n",
      "Training Accuracy: 0.9507, Testing Accuracy: 0.9612\n",
      "\n"
     ]
    },
    {
     "name": "stdout",
     "output_type": "stream",
     "text": [
      "Epoch 100, Loss 0.0467\n",
      "Training Accuracy: 0.9514, Testing Accuracy: 0.9622\n",
      "\n"
     ]
    },
    {
     "name": "stdout",
     "output_type": "stream",
     "text": [
      "Epoch 110, Loss 0.0455\n",
      "Training Accuracy: 0.9529, Testing Accuracy: 0.9642\n",
      "\n"
     ]
    },
    {
     "name": "stdout",
     "output_type": "stream",
     "text": [
      "Epoch 120, Loss 0.0444\n",
      "Training Accuracy: 0.9547, Testing Accuracy: 0.9662\n",
      "\n"
     ]
    },
    {
     "name": "stdout",
     "output_type": "stream",
     "text": [
      "Epoch 130, Loss 0.0434\n",
      "Training Accuracy: 0.9553, Testing Accuracy: 0.9662\n",
      "\n"
     ]
    },
    {
     "name": "stdout",
     "output_type": "stream",
     "text": [
      "Epoch 140, Loss 0.0425\n",
      "Training Accuracy: 0.9559, Testing Accuracy: 0.9657\n",
      "\n"
     ]
    },
    {
     "name": "stdout",
     "output_type": "stream",
     "text": [
      "Epoch 150, Loss 0.0417\n",
      "Training Accuracy: 0.9565, Testing Accuracy: 0.9662\n",
      "\n"
     ]
    },
    {
     "name": "stdout",
     "output_type": "stream",
     "text": [
      "Epoch 160, Loss 0.041\n",
      "Training Accuracy: 0.9574, Testing Accuracy: 0.9667\n",
      "\n"
     ]
    },
    {
     "name": "stdout",
     "output_type": "stream",
     "text": [
      "Epoch 170, Loss 0.0404\n",
      "Training Accuracy: 0.9583, Testing Accuracy: 0.9667\n",
      "\n"
     ]
    },
    {
     "name": "stdout",
     "output_type": "stream",
     "text": [
      "Epoch 180, Loss 0.0398\n",
      "Training Accuracy: 0.9589, Testing Accuracy: 0.9667\n",
      "\n"
     ]
    },
    {
     "name": "stdout",
     "output_type": "stream",
     "text": [
      "Epoch 190, Loss 0.0393\n",
      "Training Accuracy: 0.9591, Testing Accuracy: 0.9667\n",
      "\n"
     ]
    },
    {
     "name": "stdout",
     "output_type": "stream",
     "text": [
      "Epoch 200, Loss 0.0388\n",
      "Training Accuracy: 0.9597, Testing Accuracy: 0.9672\n",
      "\n"
     ]
    },
    {
     "name": "stdout",
     "output_type": "stream",
     "text": [
      "Epoch 210, Loss 0.0383\n",
      "Training Accuracy: 0.9600, Testing Accuracy: 0.9677\n",
      "\n"
     ]
    },
    {
     "name": "stdout",
     "output_type": "stream",
     "text": [
      "Epoch 220, Loss 0.0379\n",
      "Training Accuracy: 0.9599, Testing Accuracy: 0.9672\n",
      "\n"
     ]
    },
    {
     "name": "stdout",
     "output_type": "stream",
     "text": [
      "Epoch 230, Loss 0.0375\n",
      "Training Accuracy: 0.9603, Testing Accuracy: 0.9677\n",
      "\n"
     ]
    },
    {
     "name": "stdout",
     "output_type": "stream",
     "text": [
      "Epoch 240, Loss 0.0371\n",
      "Training Accuracy: 0.9610, Testing Accuracy: 0.9677\n",
      "\n"
     ]
    },
    {
     "data": {
      "text/plain": [
       "0.01669747794263793"
      ]
     },
     "execution_count": 23,
     "metadata": {},
     "output_type": "execute_result"
    }
   ],
   "source": [
    "lr_learner.train_loop(dl)"
   ]
  },
  {
   "cell_type": "code",
   "execution_count": 24,
   "id": "ca410940",
   "metadata": {
    "execution": {
     "iopub.execute_input": "2021-09-17T10:08:00.194278Z",
     "iopub.status.busy": "2021-09-17T10:08:00.193752Z",
     "iopub.status.idle": "2021-09-17T10:08:00.415850Z",
     "shell.execute_reply": "2021-09-17T10:08:00.416523Z"
    },
    "papermill": {
     "duration": 0.275317,
     "end_time": "2021-09-17T10:08:00.416665",
     "exception": false,
     "start_time": "2021-09-17T10:08:00.141348",
     "status": "completed"
    },
    "tags": []
   },
   "outputs": [
    {
     "data": {
      "text/plain": [
       "<matplotlib.legend.Legend at 0x7fe3e05c38d0>"
      ]
     },
     "execution_count": 24,
     "metadata": {},
     "output_type": "execute_result"
    },
    {
     "data": {
      "image/png": "[encoded data removed]",
      "text/plain": [
       "<Figure size 1080x720 with 1 Axes>"
      ]
     },
     "metadata": {
      "needs_background": "light"
     },
     "output_type": "display_data"
    }
   ],
   "source": [
    "#comparing the results of NN and LR\n",
    "plt.figure(figsize=(15,10))\n",
    "\n",
    "# Neural Network plots\n",
    "plt.plot(acc_nn.accuracies, 'r-', label = \"Training Accuracies - NN\")\n",
    "plt.plot(acc_nn.test_accuracies, 'g-', label = \"Testing Accuracies - NN\")\n",
    "\n",
    "# Logistic Regression plots\n",
    "plt.plot(acc_lr.accuracies, 'k-', label = \"Training Accuracies - LR\")\n",
    "plt.plot(acc_lr.test_accuracies, 'b-', label = \"Testing Accuracies - LR\")\n",
    "plt.legend()"
   ]
  },
  {
   "cell_type": "markdown",
   "id": "80dfb35c",
   "metadata": {
    "papermill": {
     "duration": 0.041544,
     "end_time": "2021-09-17T10:08:00.500254",
     "exception": false,
     "start_time": "2021-09-17T10:08:00.458710",
     "status": "completed"
    },
    "tags": []
   },
   "source": [
    "#### Plotting the outputs of this layer of the NN.\n"
   ]
  },
  {
   "cell_type": "code",
   "execution_count": 25,
   "id": "45eb2ff5",
   "metadata": {
    "execution": {
     "iopub.execute_input": "2021-09-17T10:08:00.589706Z",
     "iopub.status.busy": "2021-09-17T10:08:00.587572Z",
     "iopub.status.idle": "2021-09-17T10:08:00.606945Z",
     "shell.execute_reply": "2021-09-17T10:08:00.607362Z"
    },
    "papermill": {
     "duration": 0.06546,
     "end_time": "2021-09-17T10:08:00.607491",
     "exception": false,
     "start_time": "2021-09-17T10:08:00.542031",
     "status": "completed"
    },
    "tags": []
   },
   "outputs": [],
   "source": [
    "new_model = Model(layers[:-2])\n",
    "testing_plot = new_model(testing_data_x)"
   ]
  },
  {
   "cell_type": "code",
   "execution_count": 26,
   "id": "4c0a5485",
   "metadata": {
    "execution": {
     "iopub.execute_input": "2021-09-17T10:08:00.704531Z",
     "iopub.status.busy": "2021-09-17T10:08:00.704029Z",
     "iopub.status.idle": "2021-09-17T10:08:00.886173Z",
     "shell.execute_reply": "2021-09-17T10:08:00.885724Z"
    },
    "papermill": {
     "duration": 0.229273,
     "end_time": "2021-09-17T10:08:00.886286",
     "exception": false,
     "start_time": "2021-09-17T10:08:00.657013",
     "status": "completed"
    },
    "tags": []
   },
   "outputs": [
    {
     "data": {
      "text/plain": [
       "Text(0.5, 1.0, 'Outputs')"
      ]
     },
     "execution_count": 26,
     "metadata": {},
     "output_type": "execute_result"
    },
    {
     "data": {
      "image/png": "[encoded data removed]",
      "text/plain": [
       "<Figure size 576x504 with 1 Axes>"
      ]
     },
     "metadata": {
      "needs_background": "light"
     },
     "output_type": "display_data"
    }
   ],
   "source": [
    "# Plotting the scatter plot of points and color coding by class\n",
    "plt.figure(figsize=(8,7))\n",
    "plt.scatter(testing_plot[:,0], testing_plot[:,1], alpha = 0.1, c = y_test.ravel());\n",
    "plt.title('Outputs')"
   ]
  },
  {
   "cell_type": "markdown",
   "id": "a74fcf8f",
   "metadata": {
    "papermill": {
     "duration": 0.043692,
     "end_time": "2021-09-17T10:08:00.973666",
     "exception": false,
     "start_time": "2021-09-17T10:08:00.929974",
     "status": "completed"
    },
    "tags": []
   },
   "source": [
    "Probability contours"
   ]
  },
  {
   "cell_type": "code",
   "execution_count": 27,
   "id": "d0afc8e3",
   "metadata": {
    "execution": {
     "iopub.execute_input": "2021-09-17T10:08:01.066312Z",
     "iopub.status.busy": "2021-09-17T10:08:01.065142Z",
     "iopub.status.idle": "2021-09-17T10:08:01.076747Z",
     "shell.execute_reply": "2021-09-17T10:08:01.076241Z"
    },
    "papermill": {
     "duration": 0.059477,
     "end_time": "2021-09-17T10:08:01.076873",
     "exception": false,
     "start_time": "2021-09-17T10:08:01.017396",
     "status": "completed"
    },
    "tags": []
   },
   "outputs": [],
   "source": [
    "model_prob = Model(layers[-2:]) "
   ]
  },
  {
   "cell_type": "code",
   "execution_count": 28,
   "id": "9b96e238",
   "metadata": {
    "execution": {
     "iopub.execute_input": "2021-09-17T10:08:01.170123Z",
     "iopub.status.busy": "2021-09-17T10:08:01.169597Z",
     "iopub.status.idle": "2021-09-17T10:08:01.183750Z",
     "shell.execute_reply": "2021-09-17T10:08:01.183342Z"
    },
    "papermill": {
     "duration": 0.063151,
     "end_time": "2021-09-17T10:08:01.183859",
     "exception": false,
     "start_time": "2021-09-17T10:08:01.120708",
     "status": "completed"
    },
    "tags": []
   },
   "outputs": [],
   "source": [
    "#creating the x and y ranges according to the above generated plot.\n",
    "x_range = np.linspace(-4, 1, 100) \n",
    "y_range = np.linspace(-6, 6, 100) \n",
    "x_grid, y_grid = np.meshgrid(x_range, y_range) # x_grid and y_grig are of size 100 X 100\n",
    "\n",
    "# converting x_grid and y_grid to continuous arrays\n",
    "x_gridflat = np.ravel(x_grid)\n",
    "y_gridflat = np.ravel(y_grid)\n",
    "\n",
    "# The last layer of the current model takes two columns as input. Hence transpose of np.vstack() is required.\n",
    "X = np.vstack((x_gridflat, y_gridflat)).T\n",
    "\n",
    "prob_contour = model_prob(X).reshape(100,100) "
   ]
  },
  {
   "cell_type": "code",
   "execution_count": 29,
   "id": "da72499a",
   "metadata": {
    "execution": {
     "iopub.execute_input": "2021-09-17T10:08:01.289799Z",
     "iopub.status.busy": "2021-09-17T10:08:01.289236Z",
     "iopub.status.idle": "2021-09-17T10:08:01.522112Z",
     "shell.execute_reply": "2021-09-17T10:08:01.522520Z"
    },
    "papermill": {
     "duration": 0.290108,
     "end_time": "2021-09-17T10:08:01.522650",
     "exception": false,
     "start_time": "2021-09-17T10:08:01.232542",
     "status": "completed"
    },
    "tags": []
   },
   "outputs": [
    {
     "data": {
      "image/png": "[encoded data removed]",
      "text/plain": [
       "<Figure size 720x648 with 1 Axes>"
      ]
     },
     "metadata": {
      "needs_background": "light"
     },
     "output_type": "display_data"
    }
   ],
   "source": [
    "plt.figure(figsize=(10,9))\n",
    "plt.scatter(testing_plot[:,0], testing_plot[:,1], alpha = 0.1, c = y_test.ravel())\n",
    "contours = plt.contour(x_grid,y_grid,prob_contour)\n",
    "plt.title('Probability Contours')\n",
    "plt.clabel(contours, inline = True );"
   ]
  },
  {
   "cell_type": "code",
   "execution_count": null,
   "id": "e81b4ac7",
   "metadata": {
    "papermill": {
     "duration": 0.046228,
     "end_time": "2021-09-17T10:08:01.641919",
     "exception": false,
     "start_time": "2021-09-17T10:08:01.595691",
     "status": "completed"
    },
    "tags": []
   },
   "outputs": [],
   "source": []
  }
 ],
 "metadata": {
  "kernelspec": {
   "display_name": "Python 3",
   "language": "python",
   "name": "python3"
  },
  "language_info": {
   "codemirror_mode": {
    "name": "ipython",
    "version": 3
   },
   "file_extension": ".py",
   "mimetype": "text/x-python",
   "name": "python",
   "nbconvert_exporter": "python",
   "pygments_lexer": "ipython3",
   "version": "3.6.15"
  },
  "papermill": {
   "default_parameters": {},
   "duration": 97.069357,
   "end_time": "2021-09-17T10:08:02.095721",
   "environment_variables": {},
   "exception": null,
   "input_path": "2020-08-11-part2.ipynb",
   "output_path": "2020-08-11-part2.ipynb",
   "parameters": {},
   "start_time": "2021-09-17T10:06:25.026364",
   "version": "2.3.3"
  }
 },
 "nbformat": 4,
 "nbformat_minor": 5
}