{
 "cells": [
  {
   "cell_type": "markdown",
   "id": "98380cd3",
   "metadata": {
    "papermill": {
     "duration": 0.028007,
     "end_time": "2021-12-25T00:23:00.031621",
     "exception": false,
     "start_time": "2021-12-25T00:23:00.003614",
     "status": "completed"
    },
    "tags": []
   },
   "source": [
    "# Distinguish Your Own Digits (DYOD)"
   ]
  },
  {
   "cell_type": "markdown",
   "id": "ef31240d",
   "metadata": {
    "papermill": {
     "duration": 0.023452,
     "end_time": "2021-12-25T00:23:00.079252",
     "exception": false,
     "start_time": "2021-12-25T00:23:00.055800",
     "status": "completed"
    },
    "tags": []
   },
   "source": [
    "You are going to write a classifier that distinguishes between the number 3 and number 8."
   ]
  },
  {
   "cell_type": "code",
   "execution_count": 1,
   "id": "b15c8646",
   "metadata": {
    "execution": {
     "iopub.execute_input": "2021-12-25T00:23:00.137998Z",
     "iopub.status.busy": "2021-12-25T00:23:00.137445Z",
     "iopub.status.idle": "2021-12-25T00:23:00.148330Z",
     "shell.execute_reply": "2021-12-25T00:23:00.147907Z"
    },
    "papermill": {
     "duration": 0.045851,
     "end_time": "2021-12-25T00:23:00.148455",
     "exception": false,
     "start_time": "2021-12-25T00:23:00.102604",
     "status": "completed"
    },
    "tags": []
   },
   "outputs": [],
   "source": [
    "%load_ext autoreload\n",
    "%autoreload 2"
   ]
  },
  {
   "cell_type": "code",
   "execution_count": 2,
   "id": "22ef38dc",
   "metadata": {
    "execution": {
     "iopub.execute_input": "2021-12-25T00:23:00.200642Z",
     "iopub.status.busy": "2021-12-25T00:23:00.200123Z",
     "iopub.status.idle": "2021-12-25T00:23:00.766578Z",
     "shell.execute_reply": "2021-12-25T00:23:00.766037Z"
    },
    "papermill": {
     "duration": 0.59473,
     "end_time": "2021-12-25T00:23:00.766723",
     "exception": false,
     "start_time": "2021-12-25T00:23:00.171993",
     "status": "completed"
    },
    "tags": []
   },
   "outputs": [],
   "source": [
    "%matplotlib inline\n",
    "import numpy as np\n",
    "import matplotlib.pyplot as plt\n",
    "import pandas as pd"
   ]
  },
  {
   "cell_type": "markdown",
   "id": "ba036198",
   "metadata": {
    "papermill": {
     "duration": 0.023773,
     "end_time": "2021-12-25T00:23:00.815014",
     "exception": false,
     "start_time": "2021-12-25T00:23:00.791241",
     "status": "completed"
    },
    "tags": []
   },
   "source": [
    "From the command line run `pip install mnist`. This is a library that will help you bring down the mnist dataset. If you run this from a notebook, you need to put  `!pip install mnist` in a cell by itself."
   ]
  },
  {
   "cell_type": "code",
   "execution_count": 3,
   "id": "bb6ad8a1",
   "metadata": {
    "execution": {
     "iopub.execute_input": "2021-12-25T00:23:00.869206Z",
     "iopub.status.busy": "2021-12-25T00:23:00.868659Z",
     "iopub.status.idle": "2021-12-25T00:23:02.593567Z",
     "shell.execute_reply": "2021-12-25T00:23:02.592493Z"
    },
    "papermill": {
     "duration": 1.755001,
     "end_time": "2021-12-25T00:23:02.593714",
     "exception": false,
     "start_time": "2021-12-25T00:23:00.838713",
     "status": "completed"
    },
    "tags": []
   },
   "outputs": [
    {
     "name": "stdout",
     "output_type": "stream",
     "text": [
      "Collecting mnist\r\n"
     ]
    },
    {
     "name": "stdout",
     "output_type": "stream",
     "text": [
      "  Downloading mnist-0.2.2-py2.py3-none-any.whl (3.5 kB)\r\n",
      "Requirement already satisfied: numpy in /opt/hostedtoolcache/Python/3.6.15/x64/lib/python3.6/site-packages (from mnist) (1.19.5)\r\n"
     ]
    },
    {
     "name": "stdout",
     "output_type": "stream",
     "text": [
      "Installing collected packages: mnist\r\n",
      "Successfully installed mnist-0.2.2\r\n"
     ]
    }
   ],
   "source": [
    "!pip install mnist"
   ]
  },
  {
   "cell_type": "markdown",
   "id": "69df9c9a",
   "metadata": {
    "papermill": {
     "duration": 0.024437,
     "end_time": "2021-12-25T00:23:02.643017",
     "exception": false,
     "start_time": "2021-12-25T00:23:02.618580",
     "status": "completed"
    },
    "tags": []
   },
   "source": [
    "## Preparing the Data"
   ]
  },
  {
   "cell_type": "code",
   "execution_count": 4,
   "id": "7f69d806",
   "metadata": {
    "execution": {
     "iopub.execute_input": "2021-12-25T00:23:02.696121Z",
     "iopub.status.busy": "2021-12-25T00:23:02.695610Z",
     "iopub.status.idle": "2021-12-25T00:23:02.709845Z",
     "shell.execute_reply": "2021-12-25T00:23:02.710322Z"
    },
    "papermill": {
     "duration": 0.042951,
     "end_time": "2021-12-25T00:23:02.710445",
     "exception": false,
     "start_time": "2021-12-25T00:23:02.667494",
     "status": "completed"
    },
    "tags": []
   },
   "outputs": [],
   "source": [
    "import mnist"
   ]
  },
  {
   "cell_type": "code",
   "execution_count": 5,
   "id": "a411e44f",
   "metadata": {
    "execution": {
     "iopub.execute_input": "2021-12-25T00:23:02.762404Z",
     "iopub.status.busy": "2021-12-25T00:23:02.761903Z",
     "iopub.status.idle": "2021-12-25T00:23:03.291144Z",
     "shell.execute_reply": "2021-12-25T00:23:03.291634Z"
    },
    "papermill": {
     "duration": 0.556826,
     "end_time": "2021-12-25T00:23:03.291806",
     "exception": false,
     "start_time": "2021-12-25T00:23:02.734980",
     "status": "completed"
    },
    "tags": []
   },
   "outputs": [],
   "source": [
    "train_images = mnist.train_images()\n",
    "train_labels = mnist.train_labels()"
   ]
  },
  {
   "cell_type": "code",
   "execution_count": 6,
   "id": "dceab3a5",
   "metadata": {
    "execution": {
     "iopub.execute_input": "2021-12-25T00:23:03.345387Z",
     "iopub.status.busy": "2021-12-25T00:23:03.344841Z",
     "iopub.status.idle": "2021-12-25T00:23:03.359247Z",
     "shell.execute_reply": "2021-12-25T00:23:03.358814Z"
    },
    "papermill": {
     "duration": 0.042558,
     "end_time": "2021-12-25T00:23:03.359357",
     "exception": false,
     "start_time": "2021-12-25T00:23:03.316799",
     "status": "completed"
    },
    "tags": []
   },
   "outputs": [
    {
     "data": {
      "text/plain": [
       "((60000, 28, 28), (60000,))"
      ]
     },
     "execution_count": 6,
     "metadata": {},
     "output_type": "execute_result"
    }
   ],
   "source": [
    "train_images.shape, train_labels.shape"
   ]
  },
  {
   "cell_type": "code",
   "execution_count": 7,
   "id": "f50dc2bb",
   "metadata": {
    "execution": {
     "iopub.execute_input": "2021-12-25T00:23:03.416413Z",
     "iopub.status.busy": "2021-12-25T00:23:03.415914Z",
     "iopub.status.idle": "2021-12-25T00:23:03.547953Z",
     "shell.execute_reply": "2021-12-25T00:23:03.547405Z"
    },
    "papermill": {
     "duration": 0.163747,
     "end_time": "2021-12-25T00:23:03.548086",
     "exception": false,
     "start_time": "2021-12-25T00:23:03.384339",
     "status": "completed"
    },
    "tags": []
   },
   "outputs": [],
   "source": [
    "test_images = mnist.test_images()\n",
    "test_labels = mnist.test_labels()"
   ]
  },
  {
   "cell_type": "code",
   "execution_count": 8,
   "id": "fc38cf1b",
   "metadata": {
    "execution": {
     "iopub.execute_input": "2021-12-25T00:23:03.605379Z",
     "iopub.status.busy": "2021-12-25T00:23:03.604846Z",
     "iopub.status.idle": "2021-12-25T00:23:03.615844Z",
     "shell.execute_reply": "2021-12-25T00:23:03.615444Z"
    },
    "papermill": {
     "duration": 0.042709,
     "end_time": "2021-12-25T00:23:03.615950",
     "exception": false,
     "start_time": "2021-12-25T00:23:03.573241",
     "status": "completed"
    },
    "tags": []
   },
   "outputs": [
    {
     "data": {
      "text/plain": [
       "((10000, 28, 28), (10000,))"
      ]
     },
     "execution_count": 8,
     "metadata": {},
     "output_type": "execute_result"
    }
   ],
   "source": [
    "test_images.shape, test_labels.shape"
   ]
  },
  {
   "cell_type": "code",
   "execution_count": 9,
   "id": "f9ed8fe0",
   "metadata": {
    "execution": {
     "iopub.execute_input": "2021-12-25T00:23:03.670206Z",
     "iopub.status.busy": "2021-12-25T00:23:03.669706Z",
     "iopub.status.idle": "2021-12-25T00:23:03.804542Z",
     "shell.execute_reply": "2021-12-25T00:23:03.805008Z"
    },
    "papermill": {
     "duration": 0.164349,
     "end_time": "2021-12-25T00:23:03.805187",
     "exception": false,
     "start_time": "2021-12-25T00:23:03.640838",
     "status": "completed"
    },
    "tags": []
   },
   "outputs": [
    {
     "name": "stdout",
     "output_type": "stream",
     "text": [
      "2\n"
     ]
    },
    {
     "data": {
      "text/plain": [
       "<matplotlib.image.AxesImage at 0x7f742a696518>"
      ]
     },
     "execution_count": 9,
     "metadata": {},
     "output_type": "execute_result"
    },
    {
     "data": {
      "image/png": "[encoded data removed]",
      "text/plain": [
       "<Figure size 432x288 with 1 Axes>"
      ]
     },
     "metadata": {
      "needs_background": "light"
     },
     "output_type": "display_data"
    }
   ],
   "source": [
    "image_index = 7776 # You may select anything up to 60,000\n",
    "print(train_labels[image_index]) \n",
    "plt.imshow(train_images[image_index], cmap='Greys')"
   ]
  },
  {
   "cell_type": "markdown",
   "id": "a8d2388d",
   "metadata": {
    "papermill": {
     "duration": 0.026494,
     "end_time": "2021-12-25T00:23:03.859260",
     "exception": false,
     "start_time": "2021-12-25T00:23:03.832766",
     "status": "completed"
    },
    "tags": []
   },
   "source": [
    "## Filter data to get 3 and 8 out"
   ]
  },
  {
   "cell_type": "code",
   "execution_count": 10,
   "id": "776f7fc7",
   "metadata": {
    "execution": {
     "iopub.execute_input": "2021-12-25T00:23:03.929756Z",
     "iopub.status.busy": "2021-12-25T00:23:03.926656Z",
     "iopub.status.idle": "2021-12-25T00:23:03.934017Z",
     "shell.execute_reply": "2021-12-25T00:23:03.933610Z"
    },
    "papermill": {
     "duration": 0.049005,
     "end_time": "2021-12-25T00:23:03.934128",
     "exception": false,
     "start_time": "2021-12-25T00:23:03.885123",
     "status": "completed"
    },
    "tags": []
   },
   "outputs": [],
   "source": [
    "train_filter = np.where((train_labels == 3 ) | (train_labels == 8))\n",
    "test_filter = np.where((test_labels == 3) | (test_labels == 8))\n",
    "X_train, y_train = train_images[train_filter], train_labels[train_filter]\n",
    "X_test, y_test = test_images[test_filter], test_labels[test_filter]"
   ]
  },
  {
   "cell_type": "markdown",
   "id": "948f0b7e",
   "metadata": {
    "papermill": {
     "duration": 0.025921,
     "end_time": "2021-12-25T00:23:03.986026",
     "exception": false,
     "start_time": "2021-12-25T00:23:03.960105",
     "status": "completed"
    },
    "tags": []
   },
   "source": [
    "We normalize the pizel values in the 0 to 1 range"
   ]
  },
  {
   "cell_type": "code",
   "execution_count": 11,
   "id": "ee4c2166",
   "metadata": {
    "execution": {
     "iopub.execute_input": "2021-12-25T00:23:04.049853Z",
     "iopub.status.busy": "2021-12-25T00:23:04.048229Z",
     "iopub.status.idle": "2021-12-25T00:23:04.090122Z",
     "shell.execute_reply": "2021-12-25T00:23:04.089589Z"
    },
    "papermill": {
     "duration": 0.077706,
     "end_time": "2021-12-25T00:23:04.090257",
     "exception": false,
     "start_time": "2021-12-25T00:23:04.012551",
     "status": "completed"
    },
    "tags": []
   },
   "outputs": [],
   "source": [
    "X_train = X_train/255.\n",
    "X_test = X_test/255."
   ]
  },
  {
   "cell_type": "markdown",
   "id": "ddcf4fab",
   "metadata": {
    "papermill": {
     "duration": 0.026083,
     "end_time": "2021-12-25T00:23:04.144562",
     "exception": false,
     "start_time": "2021-12-25T00:23:04.118479",
     "status": "completed"
    },
    "tags": []
   },
   "source": [
    "And setup the labels as 1 (when the digit is 3) and 0 (when the digit is 8)"
   ]
  },
  {
   "cell_type": "code",
   "execution_count": 12,
   "id": "7dc908f2",
   "metadata": {
    "execution": {
     "iopub.execute_input": "2021-12-25T00:23:04.202094Z",
     "iopub.status.busy": "2021-12-25T00:23:04.199586Z",
     "iopub.status.idle": "2021-12-25T00:23:04.211871Z",
     "shell.execute_reply": "2021-12-25T00:23:04.211459Z"
    },
    "papermill": {
     "duration": 0.041499,
     "end_time": "2021-12-25T00:23:04.211980",
     "exception": false,
     "start_time": "2021-12-25T00:23:04.170481",
     "status": "completed"
    },
    "tags": []
   },
   "outputs": [],
   "source": [
    "y_train = 1*(y_train==3)\n",
    "y_test = 1*(y_test==3)"
   ]
  },
  {
   "cell_type": "code",
   "execution_count": 13,
   "id": "01e4e969",
   "metadata": {
    "execution": {
     "iopub.execute_input": "2021-12-25T00:23:04.280923Z",
     "iopub.status.busy": "2021-12-25T00:23:04.280402Z",
     "iopub.status.idle": "2021-12-25T00:23:04.283462Z",
     "shell.execute_reply": "2021-12-25T00:23:04.283007Z"
    },
    "papermill": {
     "duration": 0.045644,
     "end_time": "2021-12-25T00:23:04.283567",
     "exception": false,
     "start_time": "2021-12-25T00:23:04.237923",
     "status": "completed"
    },
    "tags": []
   },
   "outputs": [
    {
     "data": {
      "text/plain": [
       "((11982, 28, 28), (1984, 28, 28))"
      ]
     },
     "execution_count": 13,
     "metadata": {},
     "output_type": "execute_result"
    }
   ],
   "source": [
    "X_train.shape, X_test.shape"
   ]
  },
  {
   "cell_type": "markdown",
   "id": "5ccf3f85",
   "metadata": {
    "papermill": {
     "duration": 0.026088,
     "end_time": "2021-12-25T00:23:04.335784",
     "exception": false,
     "start_time": "2021-12-25T00:23:04.309696",
     "status": "completed"
    },
    "tags": []
   },
   "source": [
    "We reshape the data to flatten the image pixels into a set of features or co-variates:"
   ]
  },
  {
   "cell_type": "code",
   "execution_count": 14,
   "id": "5286a4a3",
   "metadata": {
    "execution": {
     "iopub.execute_input": "2021-12-25T00:23:04.403020Z",
     "iopub.status.busy": "2021-12-25T00:23:04.393697Z",
     "iopub.status.idle": "2021-12-25T00:23:04.406114Z",
     "shell.execute_reply": "2021-12-25T00:23:04.405605Z"
    },
    "papermill": {
     "duration": 0.044169,
     "end_time": "2021-12-25T00:23:04.406218",
     "exception": false,
     "start_time": "2021-12-25T00:23:04.362049",
     "status": "completed"
    },
    "tags": []
   },
   "outputs": [
    {
     "data": {
      "text/plain": [
       "((11982, 784), (1984, 784))"
      ]
     },
     "execution_count": 14,
     "metadata": {},
     "output_type": "execute_result"
    }
   ],
   "source": [
    "X_train = X_train.reshape(X_train.shape[0], -1)\n",
    "X_test = X_test.reshape(X_test.shape[0], -1)\n",
    "X_train.shape, X_test.shape"
   ]
  },
  {
   "cell_type": "code",
   "execution_count": 15,
   "id": "73c5f88a",
   "metadata": {
    "execution": {
     "iopub.execute_input": "2021-12-25T00:23:04.473825Z",
     "iopub.status.busy": "2021-12-25T00:23:04.469654Z",
     "iopub.status.idle": "2021-12-25T00:23:04.484156Z",
     "shell.execute_reply": "2021-12-25T00:23:04.484533Z"
    },
    "papermill": {
     "duration": 0.052016,
     "end_time": "2021-12-25T00:23:04.484657",
     "exception": false,
     "start_time": "2021-12-25T00:23:04.432641",
     "status": "completed"
    },
    "tags": []
   },
   "outputs": [],
   "source": [
    "#Impoting functions from 'Kudzu'\n",
    "from kudzu.model import Model\n",
    "from kudzu.train import Learner\n",
    "from kudzu.optim import GD\n",
    "from kudzu.data import Data, Sampler,Dataloader\n",
    "\n",
    "from kudzu.callbacks import AccCallback\n",
    "from kudzu.callbacks import ClfCallback\n",
    "\n",
    "from kudzu.loss import MSE\n",
    "\n",
    "from kudzu.layer import Sigmoid,Relu\n",
    "from kudzu.layer import Affine"
   ]
  },
  {
   "cell_type": "markdown",
   "id": "bc01172a",
   "metadata": {
    "papermill": {
     "duration": 0.026563,
     "end_time": "2021-12-25T00:23:04.537734",
     "exception": false,
     "start_time": "2021-12-25T00:23:04.511171",
     "status": "completed"
    },
    "tags": []
   },
   "source": [
    "### Let us create a `Config` class, to store important parameters. \n",
    "This class essentially plays the role of a dictionary."
   ]
  },
  {
   "cell_type": "code",
   "execution_count": 16,
   "id": "978281aa",
   "metadata": {
    "execution": {
     "iopub.execute_input": "2021-12-25T00:23:04.595491Z",
     "iopub.status.busy": "2021-12-25T00:23:04.594962Z",
     "iopub.status.idle": "2021-12-25T00:23:04.606494Z",
     "shell.execute_reply": "2021-12-25T00:23:04.606058Z"
    },
    "papermill": {
     "duration": 0.042456,
     "end_time": "2021-12-25T00:23:04.606599",
     "exception": false,
     "start_time": "2021-12-25T00:23:04.564143",
     "status": "completed"
    },
    "tags": []
   },
   "outputs": [],
   "source": [
    "class Config:\n",
    "    pass\n",
    "config = Config()\n",
    "config.lr = 0.001\n",
    "config.num_epochs = 250\n",
    "config.bs = 50"
   ]
  },
  {
   "cell_type": "markdown",
   "id": "1385fa59",
   "metadata": {
    "papermill": {
     "duration": 0.026299,
     "end_time": "2021-12-25T00:23:04.659438",
     "exception": false,
     "start_time": "2021-12-25T00:23:04.633139",
     "status": "completed"
    },
    "tags": []
   },
   "source": [
    "### Running Models with the Training data\n",
    "Details about the network layers:\n",
    "- A first affine layer has 784 inputs and does 100 affine transforms. These are followed by a Relu\n",
    "- A second affine layer has 100 inputs from the 100 activations of the past layer, and does 100 affine transforms. These are followed by a Relu\n",
    "- A third affine layer has 100 activations and does 2 affine transformations to create an embedding for visualization. There is no non-linearity here.\n",
    "- A final \"logistic regression\" which has an affine transform from 2 inputs to 1 output, which is squeezed through a sigmoid.\n"
   ]
  },
  {
   "cell_type": "code",
   "execution_count": 17,
   "id": "2b9c66db",
   "metadata": {
    "execution": {
     "iopub.execute_input": "2021-12-25T00:23:04.722437Z",
     "iopub.status.busy": "2021-12-25T00:23:04.721921Z",
     "iopub.status.idle": "2021-12-25T00:23:04.730801Z",
     "shell.execute_reply": "2021-12-25T00:23:04.730395Z"
    },
    "papermill": {
     "duration": 0.045043,
     "end_time": "2021-12-25T00:23:04.730908",
     "exception": false,
     "start_time": "2021-12-25T00:23:04.685865",
     "status": "completed"
    },
    "tags": []
   },
   "outputs": [],
   "source": [
    "data = Data(X_train, y_train.reshape(-1,1))\n",
    "sampler = Sampler(data, config.bs, shuffle=True)\n",
    "\n",
    "dl = Dataloader(data, sampler)\n",
    "\n",
    "opt = GD(config.lr)\n",
    "loss = MSE()"
   ]
  },
  {
   "cell_type": "code",
   "execution_count": 18,
   "id": "b275e4c2",
   "metadata": {
    "execution": {
     "iopub.execute_input": "2021-12-25T00:23:04.787512Z",
     "iopub.status.busy": "2021-12-25T00:23:04.787011Z",
     "iopub.status.idle": "2021-12-25T00:23:04.798910Z",
     "shell.execute_reply": "2021-12-25T00:23:04.798503Z"
    },
    "papermill": {
     "duration": 0.04157,
     "end_time": "2021-12-25T00:23:04.799018",
     "exception": false,
     "start_time": "2021-12-25T00:23:04.757448",
     "status": "completed"
    },
    "tags": []
   },
   "outputs": [],
   "source": [
    "training_data_x = X_train\n",
    "testing_data_x = X_test\n",
    "training_data_y = y_train.reshape(-1,1)\n",
    "testing_data_y = y_test.reshape(-1,1)"
   ]
  },
  {
   "cell_type": "code",
   "execution_count": 19,
   "id": "76951160",
   "metadata": {
    "execution": {
     "iopub.execute_input": "2021-12-25T00:23:04.855351Z",
     "iopub.status.busy": "2021-12-25T00:23:04.854838Z",
     "iopub.status.idle": "2021-12-25T00:23:04.869962Z",
     "shell.execute_reply": "2021-12-25T00:23:04.869555Z"
    },
    "papermill": {
     "duration": 0.044736,
     "end_time": "2021-12-25T00:23:04.870067",
     "exception": false,
     "start_time": "2021-12-25T00:23:04.825331",
     "status": "completed"
    },
    "tags": []
   },
   "outputs": [
    {
     "name": "stdout",
     "output_type": "stream",
     "text": [
      "xavier\n",
      "xavier\n",
      "xavier\n",
      "xavier\n",
      "xavier\n"
     ]
    }
   ],
   "source": [
    "layers = [Affine(\"first\", 784, 100), Relu(\"first\"), Affine(\"second\", 100, 100), Relu(\"second\"), Affine(\"third\", 100, 2), Affine(\"last\", 2, 1), Sigmoid(\"last\")]\n",
    "model_nn = Model(layers)\n",
    "model_lr = Model([Affine(\"logits\", 784, 1), Sigmoid(\"sigmoid\")])"
   ]
  },
  {
   "cell_type": "code",
   "execution_count": 20,
   "id": "6eede77a",
   "metadata": {
    "execution": {
     "iopub.execute_input": "2021-12-25T00:23:04.927029Z",
     "iopub.status.busy": "2021-12-25T00:23:04.926526Z",
     "iopub.status.idle": "2021-12-25T00:23:04.938211Z",
     "shell.execute_reply": "2021-12-25T00:23:04.938591Z"
    },
    "papermill": {
     "duration": 0.041949,
     "end_time": "2021-12-25T00:23:04.938706",
     "exception": false,
     "start_time": "2021-12-25T00:23:04.896757",
     "status": "completed"
    },
    "tags": []
   },
   "outputs": [],
   "source": [
    "nn_learner = Learner(loss, model_nn, opt, config.num_epochs)\n",
    "acc_nn = ClfCallback(nn_learner, config.bs, training_data_x , testing_data_x, training_data_y, testing_data_y)\n",
    "nn_learner.set_callbacks([acc_nn])"
   ]
  },
  {
   "cell_type": "code",
   "execution_count": 21,
   "id": "877b6cc7",
   "metadata": {
    "execution": {
     "iopub.execute_input": "2021-12-25T00:23:04.995547Z",
     "iopub.status.busy": "2021-12-25T00:23:04.995050Z",
     "iopub.status.idle": "2021-12-25T00:23:05.006249Z",
     "shell.execute_reply": "2021-12-25T00:23:05.006678Z"
    },
    "papermill": {
     "duration": 0.041219,
     "end_time": "2021-12-25T00:23:05.006791",
     "exception": false,
     "start_time": "2021-12-25T00:23:04.965572",
     "status": "completed"
    },
    "tags": []
   },
   "outputs": [],
   "source": [
    "lr_learner = Learner(loss, model_lr, opt, config.num_epochs)\n",
    "acc_lr = ClfCallback(lr_learner, config.bs, training_data_x , testing_data_x, training_data_y, testing_data_y)\n",
    "lr_learner.set_callbacks([acc_lr])"
   ]
  },
  {
   "cell_type": "code",
   "execution_count": 22,
   "id": "d9b133c3",
   "metadata": {
    "execution": {
     "iopub.execute_input": "2021-12-25T00:23:05.074211Z",
     "iopub.status.busy": "2021-12-25T00:23:05.068972Z",
     "iopub.status.idle": "2021-12-25T00:24:19.521561Z",
     "shell.execute_reply": "2021-12-25T00:24:19.522054Z"
    },
    "papermill": {
     "duration": 74.488667,
     "end_time": "2021-12-25T00:24:19.522199",
     "exception": false,
     "start_time": "2021-12-25T00:23:05.033532",
     "status": "completed"
    },
    "tags": []
   },
   "outputs": [
    {
     "name": "stdout",
     "output_type": "stream",
     "text": [
      "Epoch 0, Loss 0.2484\n",
      "Training Accuracy: 0.6652, Testing Accuracy: 0.7107\n",
      "\n"
     ]
    },
    {
     "name": "stdout",
     "output_type": "stream",
     "text": [
      "Epoch 10, Loss 0.0828\n",
      "Training Accuracy: 0.9200, Testing Accuracy: 0.9355\n",
      "\n"
     ]
    },
    {
     "name": "stdout",
     "output_type": "stream",
     "text": [
      "Epoch 20, Loss 0.0545\n",
      "Training Accuracy: 0.9405, Testing Accuracy: 0.9521\n",
      "\n"
     ]
    },
    {
     "name": "stdout",
     "output_type": "stream",
     "text": [
      "Epoch 30, Loss 0.044\n",
      "Training Accuracy: 0.9510, Testing Accuracy: 0.9602\n",
      "\n"
     ]
    },
    {
     "name": "stdout",
     "output_type": "stream",
     "text": [
      "Epoch 40, Loss 0.0384\n",
      "Training Accuracy: 0.9563, Testing Accuracy: 0.9652\n",
      "\n"
     ]
    },
    {
     "name": "stdout",
     "output_type": "stream",
     "text": [
      "Epoch 50, Loss 0.0349\n",
      "Training Accuracy: 0.9594, Testing Accuracy: 0.9662\n",
      "\n"
     ]
    },
    {
     "name": "stdout",
     "output_type": "stream",
     "text": [
      "Epoch 60, Loss 0.0324\n",
      "Training Accuracy: 0.9626, Testing Accuracy: 0.9688\n",
      "\n"
     ]
    },
    {
     "name": "stdout",
     "output_type": "stream",
     "text": [
      "Epoch 70, Loss 0.0305\n",
      "Training Accuracy: 0.9644, Testing Accuracy: 0.9703\n",
      "\n"
     ]
    },
    {
     "name": "stdout",
     "output_type": "stream",
     "text": [
      "Epoch 80, Loss 0.029\n",
      "Training Accuracy: 0.9665, Testing Accuracy: 0.9698\n",
      "\n"
     ]
    },
    {
     "name": "stdout",
     "output_type": "stream",
     "text": [
      "Epoch 90, Loss 0.0277\n",
      "Training Accuracy: 0.9680, Testing Accuracy: 0.9703\n",
      "\n"
     ]
    },
    {
     "name": "stdout",
     "output_type": "stream",
     "text": [
      "Epoch 100, Loss 0.0266\n",
      "Training Accuracy: 0.9696, Testing Accuracy: 0.9703\n",
      "\n"
     ]
    },
    {
     "name": "stdout",
     "output_type": "stream",
     "text": [
      "Epoch 110, Loss 0.0257\n",
      "Training Accuracy: 0.9710, Testing Accuracy: 0.9708\n",
      "\n"
     ]
    },
    {
     "name": "stdout",
     "output_type": "stream",
     "text": [
      "Epoch 120, Loss 0.0249\n",
      "Training Accuracy: 0.9723, Testing Accuracy: 0.9703\n",
      "\n"
     ]
    },
    {
     "name": "stdout",
     "output_type": "stream",
     "text": [
      "Epoch 130, Loss 0.0241\n",
      "Training Accuracy: 0.9730, Testing Accuracy: 0.9708\n",
      "\n"
     ]
    },
    {
     "name": "stdout",
     "output_type": "stream",
     "text": [
      "Epoch 140, Loss 0.0234\n",
      "Training Accuracy: 0.9740, Testing Accuracy: 0.9708\n",
      "\n"
     ]
    },
    {
     "name": "stdout",
     "output_type": "stream",
     "text": [
      "Epoch 150, Loss 0.0227\n",
      "Training Accuracy: 0.9749, Testing Accuracy: 0.9713\n",
      "\n"
     ]
    },
    {
     "name": "stdout",
     "output_type": "stream",
     "text": [
      "Epoch 160, Loss 0.0221\n",
      "Training Accuracy: 0.9758, Testing Accuracy: 0.9713\n",
      "\n"
     ]
    },
    {
     "name": "stdout",
     "output_type": "stream",
     "text": [
      "Epoch 170, Loss 0.0215\n",
      "Training Accuracy: 0.9763, Testing Accuracy: 0.9713\n",
      "\n"
     ]
    },
    {
     "name": "stdout",
     "output_type": "stream",
     "text": [
      "Epoch 180, Loss 0.0209\n",
      "Training Accuracy: 0.9777, Testing Accuracy: 0.9713\n",
      "\n"
     ]
    },
    {
     "name": "stdout",
     "output_type": "stream",
     "text": [
      "Epoch 190, Loss 0.0203\n",
      "Training Accuracy: 0.9782, Testing Accuracy: 0.9718\n",
      "\n"
     ]
    },
    {
     "name": "stdout",
     "output_type": "stream",
     "text": [
      "Epoch 200, Loss 0.0198\n",
      "Training Accuracy: 0.9789, Testing Accuracy: 0.9723\n",
      "\n"
     ]
    },
    {
     "name": "stdout",
     "output_type": "stream",
     "text": [
      "Epoch 210, Loss 0.0193\n",
      "Training Accuracy: 0.9792, Testing Accuracy: 0.9728\n",
      "\n"
     ]
    },
    {
     "name": "stdout",
     "output_type": "stream",
     "text": [
      "Epoch 220, Loss 0.0188\n",
      "Training Accuracy: 0.9796, Testing Accuracy: 0.9728\n",
      "\n"
     ]
    },
    {
     "name": "stdout",
     "output_type": "stream",
     "text": [
      "Epoch 230, Loss 0.0184\n",
      "Training Accuracy: 0.9804, Testing Accuracy: 0.9728\n",
      "\n"
     ]
    },
    {
     "name": "stdout",
     "output_type": "stream",
     "text": [
      "Epoch 240, Loss 0.0179\n",
      "Training Accuracy: 0.9810, Testing Accuracy: 0.9733\n",
      "\n"
     ]
    },
    {
     "data": {
      "text/plain": [
       "0.05435245821834478"
      ]
     },
     "execution_count": 22,
     "metadata": {},
     "output_type": "execute_result"
    }
   ],
   "source": [
    "nn_learner.train_loop(dl)"
   ]
  },
  {
   "cell_type": "code",
   "execution_count": 23,
   "id": "e0163366",
   "metadata": {
    "execution": {
     "iopub.execute_input": "2021-12-25T00:24:19.598366Z",
     "iopub.status.busy": "2021-12-25T00:24:19.597859Z",
     "iopub.status.idle": "2021-12-25T00:24:33.071532Z",
     "shell.execute_reply": "2021-12-25T00:24:33.072351Z"
    },
    "papermill": {
     "duration": 13.516314,
     "end_time": "2021-12-25T00:24:33.072508",
     "exception": false,
     "start_time": "2021-12-25T00:24:19.556194",
     "status": "completed"
    },
    "tags": []
   },
   "outputs": [
    {
     "name": "stdout",
     "output_type": "stream",
     "text": [
      "Epoch 0, Loss 0.1924\n",
      "Training Accuracy: 0.8397, Testing Accuracy: 0.8463\n",
      "\n"
     ]
    },
    {
     "name": "stdout",
     "output_type": "stream",
     "text": [
      "Epoch 10, Loss 0.0971\n",
      "Training Accuracy: 0.9150, Testing Accuracy: 0.9219\n",
      "\n"
     ]
    },
    {
     "name": "stdout",
     "output_type": "stream",
     "text": [
      "Epoch 20, Loss 0.0765\n",
      "Training Accuracy: 0.9298, Testing Accuracy: 0.9380\n",
      "\n"
     ]
    },
    {
     "name": "stdout",
     "output_type": "stream",
     "text": [
      "Epoch 30, Loss 0.0665\n",
      "Training Accuracy: 0.9368, Testing Accuracy: 0.9456\n",
      "\n"
     ]
    },
    {
     "name": "stdout",
     "output_type": "stream",
     "text": [
      "Epoch 40, Loss 0.0604\n",
      "Training Accuracy: 0.9416, Testing Accuracy: 0.9521\n",
      "\n"
     ]
    },
    {
     "name": "stdout",
     "output_type": "stream",
     "text": [
      "Epoch 50, Loss 0.0561\n",
      "Training Accuracy: 0.9457, Testing Accuracy: 0.9546\n",
      "\n"
     ]
    },
    {
     "name": "stdout",
     "output_type": "stream",
     "text": [
      "Epoch 60, Loss 0.0529\n",
      "Training Accuracy: 0.9481, Testing Accuracy: 0.9572\n",
      "\n"
     ]
    },
    {
     "name": "stdout",
     "output_type": "stream",
     "text": [
      "Epoch 70, Loss 0.0505\n",
      "Training Accuracy: 0.9502, Testing Accuracy: 0.9607\n",
      "\n"
     ]
    },
    {
     "name": "stdout",
     "output_type": "stream",
     "text": [
      "Epoch 80, Loss 0.0485\n",
      "Training Accuracy: 0.9519, Testing Accuracy: 0.9627\n",
      "\n"
     ]
    },
    {
     "name": "stdout",
     "output_type": "stream",
     "text": [
      "Epoch 90, Loss 0.0469\n",
      "Training Accuracy: 0.9531, Testing Accuracy: 0.9622\n",
      "\n"
     ]
    },
    {
     "name": "stdout",
     "output_type": "stream",
     "text": [
      "Epoch 100, Loss 0.0455\n",
      "Training Accuracy: 0.9548, Testing Accuracy: 0.9627\n",
      "\n"
     ]
    },
    {
     "name": "stdout",
     "output_type": "stream",
     "text": [
      "Epoch 110, Loss 0.0443\n",
      "Training Accuracy: 0.9552, Testing Accuracy: 0.9632\n",
      "\n"
     ]
    },
    {
     "name": "stdout",
     "output_type": "stream",
     "text": [
      "Epoch 120, Loss 0.0433\n",
      "Training Accuracy: 0.9560, Testing Accuracy: 0.9637\n",
      "\n"
     ]
    },
    {
     "name": "stdout",
     "output_type": "stream",
     "text": [
      "Epoch 130, Loss 0.0424\n",
      "Training Accuracy: 0.9567, Testing Accuracy: 0.9642\n",
      "\n"
     ]
    },
    {
     "name": "stdout",
     "output_type": "stream",
     "text": [
      "Epoch 140, Loss 0.0416\n",
      "Training Accuracy: 0.9579, Testing Accuracy: 0.9647\n",
      "\n"
     ]
    },
    {
     "name": "stdout",
     "output_type": "stream",
     "text": [
      "Epoch 150, Loss 0.0408\n",
      "Training Accuracy: 0.9589, Testing Accuracy: 0.9652\n",
      "\n"
     ]
    },
    {
     "name": "stdout",
     "output_type": "stream",
     "text": [
      "Epoch 160, Loss 0.0402\n",
      "Training Accuracy: 0.9594, Testing Accuracy: 0.9652\n",
      "\n"
     ]
    },
    {
     "name": "stdout",
     "output_type": "stream",
     "text": [
      "Epoch 170, Loss 0.0396\n",
      "Training Accuracy: 0.9595, Testing Accuracy: 0.9652\n",
      "\n"
     ]
    },
    {
     "name": "stdout",
     "output_type": "stream",
     "text": [
      "Epoch 180, Loss 0.039\n",
      "Training Accuracy: 0.9598, Testing Accuracy: 0.9652\n",
      "\n"
     ]
    },
    {
     "name": "stdout",
     "output_type": "stream",
     "text": [
      "Epoch 190, Loss 0.0385\n",
      "Training Accuracy: 0.9601, Testing Accuracy: 0.9652\n",
      "\n"
     ]
    },
    {
     "name": "stdout",
     "output_type": "stream",
     "text": [
      "Epoch 200, Loss 0.0381\n",
      "Training Accuracy: 0.9608, Testing Accuracy: 0.9647\n",
      "\n"
     ]
    },
    {
     "name": "stdout",
     "output_type": "stream",
     "text": [
      "Epoch 210, Loss 0.0377\n",
      "Training Accuracy: 0.9609, Testing Accuracy: 0.9662\n",
      "\n"
     ]
    },
    {
     "name": "stdout",
     "output_type": "stream",
     "text": [
      "Epoch 220, Loss 0.0373\n",
      "Training Accuracy: 0.9609, Testing Accuracy: 0.9662\n",
      "\n"
     ]
    },
    {
     "name": "stdout",
     "output_type": "stream",
     "text": [
      "Epoch 230, Loss 0.0369\n",
      "Training Accuracy: 0.9614, Testing Accuracy: 0.9662\n",
      "\n"
     ]
    },
    {
     "name": "stdout",
     "output_type": "stream",
     "text": [
      "Epoch 240, Loss 0.0365\n",
      "Training Accuracy: 0.9617, Testing Accuracy: 0.9662\n",
      "\n"
     ]
    },
    {
     "data": {
      "text/plain": [
       "0.014476023777096217"
      ]
     },
     "execution_count": 23,
     "metadata": {},
     "output_type": "execute_result"
    }
   ],
   "source": [
    "lr_learner.train_loop(dl)"
   ]
  },
  {
   "cell_type": "code",
   "execution_count": 24,
   "id": "ca410940",
   "metadata": {
    "execution": {
     "iopub.execute_input": "2021-12-25T00:24:33.162725Z",
     "iopub.status.busy": "2021-12-25T00:24:33.162193Z",
     "iopub.status.idle": "2021-12-25T00:24:33.389647Z",
     "shell.execute_reply": "2021-12-25T00:24:33.390066Z"
    },
    "papermill": {
     "duration": 0.277005,
     "end_time": "2021-12-25T00:24:33.390211",
     "exception": false,
     "start_time": "2021-12-25T00:24:33.113206",
     "status": "completed"
    },
    "tags": []
   },
   "outputs": [
    {
     "data": {
      "text/plain": [
       "<matplotlib.legend.Legend at 0x7f741dac5cc0>"
      ]
     },
     "execution_count": 24,
     "metadata": {},
     "output_type": "execute_result"
    },
    {
     "data": {
      "image/png": "[encoded data removed]",
      "text/plain": [
       "<Figure size 1080x720 with 1 Axes>"
      ]
     },
     "metadata": {
      "needs_background": "light"
     },
     "output_type": "display_data"
    }
   ],
   "source": [
    "#comparing the results of NN and LR\n",
    "plt.figure(figsize=(15,10))\n",
    "\n",
    "# Neural Network plots\n",
    "plt.plot(acc_nn.accuracies, 'r-', label = \"Training Accuracies - NN\")\n",
    "plt.plot(acc_nn.test_accuracies, 'g-', label = \"Testing Accuracies - NN\")\n",
    "\n",
    "# Logistic Regression plots\n",
    "plt.plot(acc_lr.accuracies, 'k-', label = \"Training Accuracies - LR\")\n",
    "plt.plot(acc_lr.test_accuracies, 'b-', label = \"Testing Accuracies - LR\")\n",
    "plt.legend()"
   ]
  },
  {
   "cell_type": "markdown",
   "id": "80dfb35c",
   "metadata": {
    "papermill": {
     "duration": 0.041277,
     "end_time": "2021-12-25T00:24:33.473445",
     "exception": false,
     "start_time": "2021-12-25T00:24:33.432168",
     "status": "completed"
    },
    "tags": []
   },
   "source": [
    "#### Plotting the outputs of this layer of the NN.\n"
   ]
  },
  {
   "cell_type": "code",
   "execution_count": 25,
   "id": "45eb2ff5",
   "metadata": {
    "execution": {
     "iopub.execute_input": "2021-12-25T00:24:33.576017Z",
     "iopub.status.busy": "2021-12-25T00:24:33.575477Z",
     "iopub.status.idle": "2021-12-25T00:24:33.587576Z",
     "shell.execute_reply": "2021-12-25T00:24:33.588307Z"
    },
    "papermill": {
     "duration": 0.073714,
     "end_time": "2021-12-25T00:24:33.588449",
     "exception": false,
     "start_time": "2021-12-25T00:24:33.514735",
     "status": "completed"
    },
    "tags": []
   },
   "outputs": [],
   "source": [
    "new_model = Model(layers[:-2])\n",
    "testing_plot = new_model(testing_data_x)"
   ]
  },
  {
   "cell_type": "code",
   "execution_count": 26,
   "id": "4c0a5485",
   "metadata": {
    "execution": {
     "iopub.execute_input": "2021-12-25T00:24:33.682320Z",
     "iopub.status.busy": "2021-12-25T00:24:33.681810Z",
     "iopub.status.idle": "2021-12-25T00:24:33.859775Z",
     "shell.execute_reply": "2021-12-25T00:24:33.859327Z"
    },
    "papermill": {
     "duration": 0.229194,
     "end_time": "2021-12-25T00:24:33.859893",
     "exception": false,
     "start_time": "2021-12-25T00:24:33.630699",
     "status": "completed"
    },
    "tags": []
   },
   "outputs": [
    {
     "data": {
      "text/plain": [
       "Text(0.5, 1.0, 'Outputs')"
      ]
     },
     "execution_count": 26,
     "metadata": {},
     "output_type": "execute_result"
    },
    {
     "data": {
      "image/png": "[encoded data removed]",
      "text/plain": [
       "<Figure size 576x504 with 1 Axes>"
      ]
     },
     "metadata": {
      "needs_background": "light"
     },
     "output_type": "display_data"
    }
   ],
   "source": [
    "# Plotting the scatter plot of points and color coding by class\n",
    "plt.figure(figsize=(8,7))\n",
    "plt.scatter(testing_plot[:,0], testing_plot[:,1], alpha = 0.1, c = y_test.ravel());\n",
    "plt.title('Outputs')"
   ]
  },
  {
   "cell_type": "markdown",
   "id": "a74fcf8f",
   "metadata": {
    "papermill": {
     "duration": 0.043509,
     "end_time": "2021-12-25T00:24:33.947109",
     "exception": false,
     "start_time": "2021-12-25T00:24:33.903600",
     "status": "completed"
    },
    "tags": []
   },
   "source": [
    "Probability contours"
   ]
  },
  {
   "cell_type": "code",
   "execution_count": 27,
   "id": "d0afc8e3",
   "metadata": {
    "execution": {
     "iopub.execute_input": "2021-12-25T00:24:34.037886Z",
     "iopub.status.busy": "2021-12-25T00:24:34.037361Z",
     "iopub.status.idle": "2021-12-25T00:24:34.049340Z",
     "shell.execute_reply": "2021-12-25T00:24:34.048905Z"
    },
    "papermill": {
     "duration": 0.0587,
     "end_time": "2021-12-25T00:24:34.049456",
     "exception": false,
     "start_time": "2021-12-25T00:24:33.990756",
     "status": "completed"
    },
    "tags": []
   },
   "outputs": [],
   "source": [
    "model_prob = Model(layers[-2:]) "
   ]
  },
  {
   "cell_type": "code",
   "execution_count": 28,
   "id": "9b96e238",
   "metadata": {
    "execution": {
     "iopub.execute_input": "2021-12-25T00:24:34.143432Z",
     "iopub.status.busy": "2021-12-25T00:24:34.142175Z",
     "iopub.status.idle": "2021-12-25T00:24:34.156652Z",
     "shell.execute_reply": "2021-12-25T00:24:34.157033Z"
    },
    "papermill": {
     "duration": 0.064047,
     "end_time": "2021-12-25T00:24:34.157189",
     "exception": false,
     "start_time": "2021-12-25T00:24:34.093142",
     "status": "completed"
    },
    "tags": []
   },
   "outputs": [],
   "source": [
    "#creating the x and y ranges according to the above generated plot.\n",
    "x_range = np.linspace(-4, 1, 100) \n",
    "y_range = np.linspace(-6, 6, 100) \n",
    "x_grid, y_grid = np.meshgrid(x_range, y_range) # x_grid and y_grig are of size 100 X 100\n",
    "\n",
    "# converting x_grid and y_grid to continuous arrays\n",
    "x_gridflat = np.ravel(x_grid)\n",
    "y_gridflat = np.ravel(y_grid)\n",
    "\n",
    "# The last layer of the current model takes two columns as input. Hence transpose of np.vstack() is required.\n",
    "X = np.vstack((x_gridflat, y_gridflat)).T\n",
    "\n",
    "prob_contour = model_prob(X).reshape(100,100) "
   ]
  },
  {
   "cell_type": "code",
   "execution_count": 29,
   "id": "da72499a",
   "metadata": {
    "execution": {
     "iopub.execute_input": "2021-12-25T00:24:34.250763Z",
     "iopub.status.busy": "2021-12-25T00:24:34.249007Z",
     "iopub.status.idle": "2021-12-25T00:24:34.482947Z",
     "shell.execute_reply": "2021-12-25T00:24:34.483394Z"
    },
    "papermill": {
     "duration": 0.282584,
     "end_time": "2021-12-25T00:24:34.483552",
     "exception": false,
     "start_time": "2021-12-25T00:24:34.200968",
     "status": "completed"
    },
    "tags": []
   },
   "outputs": [
    {
     "data": {
      "image/png": "[encoded data removed]",
      "text/plain": [
       "<Figure size 720x648 with 1 Axes>"
      ]
     },
     "metadata": {
      "needs_background": "light"
     },
     "output_type": "display_data"
    }
   ],
   "source": [
    "plt.figure(figsize=(10,9))\n",
    "plt.scatter(testing_plot[:,0], testing_plot[:,1], alpha = 0.1, c = y_test.ravel())\n",
    "contours = plt.contour(x_grid,y_grid,prob_contour)\n",
    "plt.title('Probability Contours')\n",
    "plt.clabel(contours, inline = True );"
   ]
  },
  {
   "cell_type": "code",
   "execution_count": null,
   "id": "e81b4ac7",
   "metadata": {
    "papermill": {
     "duration": 0.046478,
     "end_time": "2021-12-25T00:24:34.605125",
     "exception": false,
     "start_time": "2021-12-25T00:24:34.558647",
     "status": "completed"
    },
    "tags": []
   },
   "outputs": [],
   "source": []
  }
 ],
 "metadata": {
  "kernelspec": {
   "display_name": "Python 3",
   "language": "python",
   "name": "python3"
  },
  "language_info": {
   "codemirror_mode": {
    "name": "ipython",
    "version": 3
   },
   "file_extension": ".py",
   "mimetype": "text/x-python",
   "name": "python",
   "nbconvert_exporter": "python",
   "pygments_lexer": "ipython3",
   "version": "3.6.15"
  },
  "papermill": {
   "default_parameters": {},
   "duration": 95.968882,
   "end_time": "2021-12-25T00:24:35.060200",
   "environment_variables": {},
   "exception": null,
   "input_path": "2020-08-11-part2.ipynb",
   "output_path": "2020-08-11-part2.ipynb",
   "parameters": {},
   "start_time": "2021-12-25T00:22:59.091318",
   "version": "2.3.3"
  }
 },
 "nbformat": 4,
 "nbformat_minor": 5
}