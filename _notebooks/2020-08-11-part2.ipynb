{
 "cells": [
  {
   "cell_type": "markdown",
   "id": "98380cd3",
   "metadata": {
    "papermill": {
     "duration": 0.032013,
     "end_time": "2021-11-06T20:07:29.614317",
     "exception": false,
     "start_time": "2021-11-06T20:07:29.582304",
     "status": "completed"
    },
    "tags": []
   },
   "source": [
    "# Distinguish Your Own Digits (DYOD)"
   ]
  },
  {
   "cell_type": "markdown",
   "id": "ef31240d",
   "metadata": {
    "papermill": {
     "duration": 0.026073,
     "end_time": "2021-11-06T20:07:29.669977",
     "exception": false,
     "start_time": "2021-11-06T20:07:29.643904",
     "status": "completed"
    },
    "tags": []
   },
   "source": [
    "You are going to write a classifier that distinguishes between the number 3 and number 8."
   ]
  },
  {
   "cell_type": "code",
   "execution_count": 1,
   "id": "b15c8646",
   "metadata": {
    "execution": {
     "iopub.execute_input": "2021-11-06T20:07:29.735318Z",
     "iopub.status.busy": "2021-11-06T20:07:29.734450Z",
     "iopub.status.idle": "2021-11-06T20:07:29.745339Z",
     "shell.execute_reply": "2021-11-06T20:07:29.744795Z"
    },
    "papermill": {
     "duration": 0.048266,
     "end_time": "2021-11-06T20:07:29.745485",
     "exception": false,
     "start_time": "2021-11-06T20:07:29.697219",
     "status": "completed"
    },
    "tags": []
   },
   "outputs": [],
   "source": [
    "%load_ext autoreload\n",
    "%autoreload 2"
   ]
  },
  {
   "cell_type": "code",
   "execution_count": 2,
   "id": "22ef38dc",
   "metadata": {
    "execution": {
     "iopub.execute_input": "2021-11-06T20:07:29.806050Z",
     "iopub.status.busy": "2021-11-06T20:07:29.805450Z",
     "iopub.status.idle": "2021-11-06T20:07:30.375346Z",
     "shell.execute_reply": "2021-11-06T20:07:30.375817Z"
    },
    "papermill": {
     "duration": 0.602373,
     "end_time": "2021-11-06T20:07:30.375983",
     "exception": false,
     "start_time": "2021-11-06T20:07:29.773610",
     "status": "completed"
    },
    "tags": []
   },
   "outputs": [],
   "source": [
    "%matplotlib inline\n",
    "import numpy as np\n",
    "import matplotlib.pyplot as plt\n",
    "import pandas as pd"
   ]
  },
  {
   "cell_type": "markdown",
   "id": "ba036198",
   "metadata": {
    "papermill": {
     "duration": 0.028453,
     "end_time": "2021-11-06T20:07:30.434268",
     "exception": false,
     "start_time": "2021-11-06T20:07:30.405815",
     "status": "completed"
    },
    "tags": []
   },
   "source": [
    "From the command line run `pip install mnist`. This is a library that will help you bring down the mnist dataset. If you run this from a notebook, you need to put  `!pip install mnist` in a cell by itself."
   ]
  },
  {
   "cell_type": "code",
   "execution_count": 3,
   "id": "bb6ad8a1",
   "metadata": {
    "execution": {
     "iopub.execute_input": "2021-11-06T20:07:30.495283Z",
     "iopub.status.busy": "2021-11-06T20:07:30.494646Z",
     "iopub.status.idle": "2021-11-06T20:07:32.437606Z",
     "shell.execute_reply": "2021-11-06T20:07:32.437043Z"
    },
    "papermill": {
     "duration": 1.974989,
     "end_time": "2021-11-06T20:07:32.437748",
     "exception": false,
     "start_time": "2021-11-06T20:07:30.462759",
     "status": "completed"
    },
    "tags": []
   },
   "outputs": [
    {
     "name": "stdout",
     "output_type": "stream",
     "text": [
      "Collecting mnist\r\n"
     ]
    },
    {
     "name": "stdout",
     "output_type": "stream",
     "text": [
      "  Downloading mnist-0.2.2-py2.py3-none-any.whl (3.5 kB)\r\n"
     ]
    },
    {
     "name": "stdout",
     "output_type": "stream",
     "text": [
      "Requirement already satisfied: numpy in /opt/hostedtoolcache/Python/3.6.15/x64/lib/python3.6/site-packages (from mnist) (1.19.5)\r\n"
     ]
    },
    {
     "name": "stdout",
     "output_type": "stream",
     "text": [
      "Installing collected packages: mnist\r\n",
      "Successfully installed mnist-0.2.2\r\n"
     ]
    }
   ],
   "source": [
    "!pip install mnist"
   ]
  },
  {
   "cell_type": "markdown",
   "id": "69df9c9a",
   "metadata": {
    "papermill": {
     "duration": 0.029904,
     "end_time": "2021-11-06T20:07:32.496974",
     "exception": false,
     "start_time": "2021-11-06T20:07:32.467070",
     "status": "completed"
    },
    "tags": []
   },
   "source": [
    "## Preparing the Data"
   ]
  },
  {
   "cell_type": "code",
   "execution_count": 4,
   "id": "7f69d806",
   "metadata": {
    "execution": {
     "iopub.execute_input": "2021-11-06T20:07:32.560622Z",
     "iopub.status.busy": "2021-11-06T20:07:32.560016Z",
     "iopub.status.idle": "2021-11-06T20:07:32.573383Z",
     "shell.execute_reply": "2021-11-06T20:07:32.573913Z"
    },
    "papermill": {
     "duration": 0.047962,
     "end_time": "2021-11-06T20:07:32.574056",
     "exception": false,
     "start_time": "2021-11-06T20:07:32.526094",
     "status": "completed"
    },
    "tags": []
   },
   "outputs": [],
   "source": [
    "import mnist"
   ]
  },
  {
   "cell_type": "code",
   "execution_count": 5,
   "id": "a411e44f",
   "metadata": {
    "execution": {
     "iopub.execute_input": "2021-11-06T20:07:32.634966Z",
     "iopub.status.busy": "2021-11-06T20:07:32.634361Z",
     "iopub.status.idle": "2021-11-06T20:07:33.555458Z",
     "shell.execute_reply": "2021-11-06T20:07:33.556095Z"
    },
    "papermill": {
     "duration": 0.952195,
     "end_time": "2021-11-06T20:07:33.556258",
     "exception": false,
     "start_time": "2021-11-06T20:07:32.604063",
     "status": "completed"
    },
    "tags": []
   },
   "outputs": [],
   "source": [
    "train_images = mnist.train_images()\n",
    "train_labels = mnist.train_labels()"
   ]
  },
  {
   "cell_type": "code",
   "execution_count": 6,
   "id": "dceab3a5",
   "metadata": {
    "execution": {
     "iopub.execute_input": "2021-11-06T20:07:33.618108Z",
     "iopub.status.busy": "2021-11-06T20:07:33.617410Z",
     "iopub.status.idle": "2021-11-06T20:07:33.635663Z",
     "shell.execute_reply": "2021-11-06T20:07:33.635140Z"
    },
    "papermill": {
     "duration": 0.052082,
     "end_time": "2021-11-06T20:07:33.636256",
     "exception": false,
     "start_time": "2021-11-06T20:07:33.584174",
     "status": "completed"
    },
    "tags": []
   },
   "outputs": [
    {
     "data": {
      "text/plain": [
       "((60000, 28, 28), (60000,))"
      ]
     },
     "execution_count": 6,
     "metadata": {},
     "output_type": "execute_result"
    }
   ],
   "source": [
    "train_images.shape, train_labels.shape"
   ]
  },
  {
   "cell_type": "code",
   "execution_count": 7,
   "id": "f50dc2bb",
   "metadata": {
    "execution": {
     "iopub.execute_input": "2021-11-06T20:07:33.710622Z",
     "iopub.status.busy": "2021-11-06T20:07:33.704194Z",
     "iopub.status.idle": "2021-11-06T20:07:33.933351Z",
     "shell.execute_reply": "2021-11-06T20:07:33.932830Z"
    },
    "papermill": {
     "duration": 0.267466,
     "end_time": "2021-11-06T20:07:33.933504",
     "exception": false,
     "start_time": "2021-11-06T20:07:33.666038",
     "status": "completed"
    },
    "tags": []
   },
   "outputs": [],
   "source": [
    "test_images = mnist.test_images()\n",
    "test_labels = mnist.test_labels()"
   ]
  },
  {
   "cell_type": "code",
   "execution_count": 8,
   "id": "fc38cf1b",
   "metadata": {
    "execution": {
     "iopub.execute_input": "2021-11-06T20:07:34.002147Z",
     "iopub.status.busy": "2021-11-06T20:07:34.001500Z",
     "iopub.status.idle": "2021-11-06T20:07:34.013334Z",
     "shell.execute_reply": "2021-11-06T20:07:34.012834Z"
    },
    "papermill": {
     "duration": 0.051814,
     "end_time": "2021-11-06T20:07:34.013456",
     "exception": false,
     "start_time": "2021-11-06T20:07:33.961642",
     "status": "completed"
    },
    "tags": []
   },
   "outputs": [
    {
     "data": {
      "text/plain": [
       "((10000, 28, 28), (10000,))"
      ]
     },
     "execution_count": 8,
     "metadata": {},
     "output_type": "execute_result"
    }
   ],
   "source": [
    "test_images.shape, test_labels.shape"
   ]
  },
  {
   "cell_type": "code",
   "execution_count": 9,
   "id": "f9ed8fe0",
   "metadata": {
    "execution": {
     "iopub.execute_input": "2021-11-06T20:07:34.075475Z",
     "iopub.status.busy": "2021-11-06T20:07:34.074851Z",
     "iopub.status.idle": "2021-11-06T20:07:34.248514Z",
     "shell.execute_reply": "2021-11-06T20:07:34.249076Z"
    },
    "papermill": {
     "duration": 0.206527,
     "end_time": "2021-11-06T20:07:34.249241",
     "exception": false,
     "start_time": "2021-11-06T20:07:34.042714",
     "status": "completed"
    },
    "tags": []
   },
   "outputs": [
    {
     "name": "stdout",
     "output_type": "stream",
     "text": [
      "2\n"
     ]
    },
    {
     "data": {
      "text/plain": [
       "<matplotlib.image.AxesImage at 0x7f8bec870080>"
      ]
     },
     "execution_count": 9,
     "metadata": {},
     "output_type": "execute_result"
    },
    {
     "data": {
      "image/png": "[encoded data removed]",
      "text/plain": [
       "<Figure size 432x288 with 1 Axes>"
      ]
     },
     "metadata": {
      "needs_background": "light"
     },
     "output_type": "display_data"
    }
   ],
   "source": [
    "image_index = 7776 # You may select anything up to 60,000\n",
    "print(train_labels[image_index]) \n",
    "plt.imshow(train_images[image_index], cmap='Greys')"
   ]
  },
  {
   "cell_type": "markdown",
   "id": "a8d2388d",
   "metadata": {
    "papermill": {
     "duration": 0.031213,
     "end_time": "2021-11-06T20:07:34.313294",
     "exception": false,
     "start_time": "2021-11-06T20:07:34.282081",
     "status": "completed"
    },
    "tags": []
   },
   "source": [
    "## Filter data to get 3 and 8 out"
   ]
  },
  {
   "cell_type": "code",
   "execution_count": 10,
   "id": "776f7fc7",
   "metadata": {
    "execution": {
     "iopub.execute_input": "2021-11-06T20:07:34.378120Z",
     "iopub.status.busy": "2021-11-06T20:07:34.377368Z",
     "iopub.status.idle": "2021-11-06T20:07:34.400263Z",
     "shell.execute_reply": "2021-11-06T20:07:34.399680Z"
    },
    "papermill": {
     "duration": 0.056079,
     "end_time": "2021-11-06T20:07:34.400401",
     "exception": false,
     "start_time": "2021-11-06T20:07:34.344322",
     "status": "completed"
    },
    "tags": []
   },
   "outputs": [],
   "source": [
    "train_filter = np.where((train_labels == 3 ) | (train_labels == 8))\n",
    "test_filter = np.where((test_labels == 3) | (test_labels == 8))\n",
    "X_train, y_train = train_images[train_filter], train_labels[train_filter]\n",
    "X_test, y_test = test_images[test_filter], test_labels[test_filter]"
   ]
  },
  {
   "cell_type": "markdown",
   "id": "948f0b7e",
   "metadata": {
    "papermill": {
     "duration": 0.030892,
     "end_time": "2021-11-06T20:07:34.462421",
     "exception": false,
     "start_time": "2021-11-06T20:07:34.431529",
     "status": "completed"
    },
    "tags": []
   },
   "source": [
    "We normalize the pizel values in the 0 to 1 range"
   ]
  },
  {
   "cell_type": "code",
   "execution_count": 11,
   "id": "ee4c2166",
   "metadata": {
    "execution": {
     "iopub.execute_input": "2021-11-06T20:07:34.529426Z",
     "iopub.status.busy": "2021-11-06T20:07:34.528842Z",
     "iopub.status.idle": "2021-11-06T20:07:34.587750Z",
     "shell.execute_reply": "2021-11-06T20:07:34.587170Z"
    },
    "papermill": {
     "duration": 0.094608,
     "end_time": "2021-11-06T20:07:34.587895",
     "exception": false,
     "start_time": "2021-11-06T20:07:34.493287",
     "status": "completed"
    },
    "tags": []
   },
   "outputs": [],
   "source": [
    "X_train = X_train/255.\n",
    "X_test = X_test/255."
   ]
  },
  {
   "cell_type": "markdown",
   "id": "ddcf4fab",
   "metadata": {
    "papermill": {
     "duration": 0.030484,
     "end_time": "2021-11-06T20:07:34.653570",
     "exception": false,
     "start_time": "2021-11-06T20:07:34.623086",
     "status": "completed"
    },
    "tags": []
   },
   "source": [
    "And setup the labels as 1 (when the digit is 3) and 0 (when the digit is 8)"
   ]
  },
  {
   "cell_type": "code",
   "execution_count": 12,
   "id": "7dc908f2",
   "metadata": {
    "execution": {
     "iopub.execute_input": "2021-11-06T20:07:34.719755Z",
     "iopub.status.busy": "2021-11-06T20:07:34.719132Z",
     "iopub.status.idle": "2021-11-06T20:07:34.730314Z",
     "shell.execute_reply": "2021-11-06T20:07:34.729812Z"
    },
    "papermill": {
     "duration": 0.047242,
     "end_time": "2021-11-06T20:07:34.730433",
     "exception": false,
     "start_time": "2021-11-06T20:07:34.683191",
     "status": "completed"
    },
    "tags": []
   },
   "outputs": [],
   "source": [
    "y_train = 1*(y_train==3)\n",
    "y_test = 1*(y_test==3)"
   ]
  },
  {
   "cell_type": "code",
   "execution_count": 13,
   "id": "01e4e969",
   "metadata": {
    "execution": {
     "iopub.execute_input": "2021-11-06T20:07:34.796451Z",
     "iopub.status.busy": "2021-11-06T20:07:34.795774Z",
     "iopub.status.idle": "2021-11-06T20:07:34.809904Z",
     "shell.execute_reply": "2021-11-06T20:07:34.809400Z"
    },
    "papermill": {
     "duration": 0.048274,
     "end_time": "2021-11-06T20:07:34.810045",
     "exception": false,
     "start_time": "2021-11-06T20:07:34.761771",
     "status": "completed"
    },
    "tags": []
   },
   "outputs": [
    {
     "data": {
      "text/plain": [
       "((11982, 28, 28), (1984, 28, 28))"
      ]
     },
     "execution_count": 13,
     "metadata": {},
     "output_type": "execute_result"
    }
   ],
   "source": [
    "X_train.shape, X_test.shape"
   ]
  },
  {
   "cell_type": "markdown",
   "id": "5ccf3f85",
   "metadata": {
    "papermill": {
     "duration": 0.030583,
     "end_time": "2021-11-06T20:07:34.872353",
     "exception": false,
     "start_time": "2021-11-06T20:07:34.841770",
     "status": "completed"
    },
    "tags": []
   },
   "source": [
    "We reshape the data to flatten the image pixels into a set of features or co-variates:"
   ]
  },
  {
   "cell_type": "code",
   "execution_count": 14,
   "id": "5286a4a3",
   "metadata": {
    "execution": {
     "iopub.execute_input": "2021-11-06T20:07:34.953560Z",
     "iopub.status.busy": "2021-11-06T20:07:34.949769Z",
     "iopub.status.idle": "2021-11-06T20:07:34.959066Z",
     "shell.execute_reply": "2021-11-06T20:07:34.959534Z"
    },
    "papermill": {
     "duration": 0.055644,
     "end_time": "2021-11-06T20:07:34.959676",
     "exception": false,
     "start_time": "2021-11-06T20:07:34.904032",
     "status": "completed"
    },
    "tags": []
   },
   "outputs": [
    {
     "data": {
      "text/plain": [
       "((11982, 784), (1984, 784))"
      ]
     },
     "execution_count": 14,
     "metadata": {},
     "output_type": "execute_result"
    }
   ],
   "source": [
    "X_train = X_train.reshape(X_train.shape[0], -1)\n",
    "X_test = X_test.reshape(X_test.shape[0], -1)\n",
    "X_train.shape, X_test.shape"
   ]
  },
  {
   "cell_type": "code",
   "execution_count": 15,
   "id": "73c5f88a",
   "metadata": {
    "execution": {
     "iopub.execute_input": "2021-11-06T20:07:35.043214Z",
     "iopub.status.busy": "2021-11-06T20:07:35.042586Z",
     "iopub.status.idle": "2021-11-06T20:07:35.055180Z",
     "shell.execute_reply": "2021-11-06T20:07:35.055681Z"
    },
    "papermill": {
     "duration": 0.064337,
     "end_time": "2021-11-06T20:07:35.055817",
     "exception": false,
     "start_time": "2021-11-06T20:07:34.991480",
     "status": "completed"
    },
    "tags": []
   },
   "outputs": [],
   "source": [
    "#Impoting functions from 'Kudzu'\n",
    "from kudzu.model import Model\n",
    "from kudzu.train import Learner\n",
    "from kudzu.optim import GD\n",
    "from kudzu.data import Data, Sampler,Dataloader\n",
    "\n",
    "from kudzu.callbacks import AccCallback\n",
    "from kudzu.callbacks import ClfCallback\n",
    "\n",
    "from kudzu.loss import MSE\n",
    "\n",
    "from kudzu.layer import Sigmoid,Relu\n",
    "from kudzu.layer import Affine"
   ]
  },
  {
   "cell_type": "markdown",
   "id": "bc01172a",
   "metadata": {
    "papermill": {
     "duration": 0.031618,
     "end_time": "2021-11-06T20:07:35.119233",
     "exception": false,
     "start_time": "2021-11-06T20:07:35.087615",
     "status": "completed"
    },
    "tags": []
   },
   "source": [
    "### Let us create a `Config` class, to store important parameters. \n",
    "This class essentially plays the role of a dictionary."
   ]
  },
  {
   "cell_type": "code",
   "execution_count": 16,
   "id": "978281aa",
   "metadata": {
    "execution": {
     "iopub.execute_input": "2021-11-06T20:07:35.189832Z",
     "iopub.status.busy": "2021-11-06T20:07:35.189176Z",
     "iopub.status.idle": "2021-11-06T20:07:35.199914Z",
     "shell.execute_reply": "2021-11-06T20:07:35.199420Z"
    },
    "papermill": {
     "duration": 0.049746,
     "end_time": "2021-11-06T20:07:35.200031",
     "exception": false,
     "start_time": "2021-11-06T20:07:35.150285",
     "status": "completed"
    },
    "tags": []
   },
   "outputs": [],
   "source": [
    "class Config:\n",
    "    pass\n",
    "config = Config()\n",
    "config.lr = 0.001\n",
    "config.num_epochs = 250\n",
    "config.bs = 50"
   ]
  },
  {
   "cell_type": "markdown",
   "id": "1385fa59",
   "metadata": {
    "papermill": {
     "duration": 0.031701,
     "end_time": "2021-11-06T20:07:35.263181",
     "exception": false,
     "start_time": "2021-11-06T20:07:35.231480",
     "status": "completed"
    },
    "tags": []
   },
   "source": [
    "### Running Models with the Training data\n",
    "Details about the network layers:\n",
    "- A first affine layer has 784 inputs and does 100 affine transforms. These are followed by a Relu\n",
    "- A second affine layer has 100 inputs from the 100 activations of the past layer, and does 100 affine transforms. These are followed by a Relu\n",
    "- A third affine layer has 100 activations and does 2 affine transformations to create an embedding for visualization. There is no non-linearity here.\n",
    "- A final \"logistic regression\" which has an affine transform from 2 inputs to 1 output, which is squeezed through a sigmoid.\n"
   ]
  },
  {
   "cell_type": "code",
   "execution_count": 17,
   "id": "2b9c66db",
   "metadata": {
    "execution": {
     "iopub.execute_input": "2021-11-06T20:07:35.332844Z",
     "iopub.status.busy": "2021-11-06T20:07:35.332231Z",
     "iopub.status.idle": "2021-11-06T20:07:35.344618Z",
     "shell.execute_reply": "2021-11-06T20:07:35.345091Z"
    },
    "papermill": {
     "duration": 0.051236,
     "end_time": "2021-11-06T20:07:35.345227",
     "exception": false,
     "start_time": "2021-11-06T20:07:35.293991",
     "status": "completed"
    },
    "tags": []
   },
   "outputs": [],
   "source": [
    "data = Data(X_train, y_train.reshape(-1,1))\n",
    "sampler = Sampler(data, config.bs, shuffle=True)\n",
    "\n",
    "dl = Dataloader(data, sampler)\n",
    "\n",
    "opt = GD(config.lr)\n",
    "loss = MSE()"
   ]
  },
  {
   "cell_type": "code",
   "execution_count": 18,
   "id": "b275e4c2",
   "metadata": {
    "execution": {
     "iopub.execute_input": "2021-11-06T20:07:35.417671Z",
     "iopub.status.busy": "2021-11-06T20:07:35.415517Z",
     "iopub.status.idle": "2021-11-06T20:07:35.425109Z",
     "shell.execute_reply": "2021-11-06T20:07:35.424617Z"
    },
    "papermill": {
     "duration": 0.049133,
     "end_time": "2021-11-06T20:07:35.425231",
     "exception": false,
     "start_time": "2021-11-06T20:07:35.376098",
     "status": "completed"
    },
    "tags": []
   },
   "outputs": [],
   "source": [
    "training_data_x = X_train\n",
    "testing_data_x = X_test\n",
    "training_data_y = y_train.reshape(-1,1)\n",
    "testing_data_y = y_test.reshape(-1,1)"
   ]
  },
  {
   "cell_type": "code",
   "execution_count": 19,
   "id": "76951160",
   "metadata": {
    "execution": {
     "iopub.execute_input": "2021-11-06T20:07:35.501172Z",
     "iopub.status.busy": "2021-11-06T20:07:35.495917Z",
     "iopub.status.idle": "2021-11-06T20:07:35.513219Z",
     "shell.execute_reply": "2021-11-06T20:07:35.513708Z"
    },
    "papermill": {
     "duration": 0.057448,
     "end_time": "2021-11-06T20:07:35.513850",
     "exception": false,
     "start_time": "2021-11-06T20:07:35.456402",
     "status": "completed"
    },
    "tags": []
   },
   "outputs": [
    {
     "name": "stdout",
     "output_type": "stream",
     "text": [
      "xavier\n",
      "xavier\n",
      "xavier\n",
      "xavier\n",
      "xavier\n"
     ]
    }
   ],
   "source": [
    "layers = [Affine(\"first\", 784, 100), Relu(\"first\"), Affine(\"second\", 100, 100), Relu(\"second\"), Affine(\"third\", 100, 2), Affine(\"last\", 2, 1), Sigmoid(\"last\")]\n",
    "model_nn = Model(layers)\n",
    "model_lr = Model([Affine(\"logits\", 784, 1), Sigmoid(\"sigmoid\")])"
   ]
  },
  {
   "cell_type": "code",
   "execution_count": 20,
   "id": "6eede77a",
   "metadata": {
    "execution": {
     "iopub.execute_input": "2021-11-06T20:07:35.594169Z",
     "iopub.status.busy": "2021-11-06T20:07:35.589297Z",
     "iopub.status.idle": "2021-11-06T20:07:35.597778Z",
     "shell.execute_reply": "2021-11-06T20:07:35.597273Z"
    },
    "papermill": {
     "duration": 0.051838,
     "end_time": "2021-11-06T20:07:35.597896",
     "exception": false,
     "start_time": "2021-11-06T20:07:35.546058",
     "status": "completed"
    },
    "tags": []
   },
   "outputs": [],
   "source": [
    "nn_learner = Learner(loss, model_nn, opt, config.num_epochs)\n",
    "acc_nn = ClfCallback(nn_learner, config.bs, training_data_x , testing_data_x, training_data_y, testing_data_y)\n",
    "nn_learner.set_callbacks([acc_nn])"
   ]
  },
  {
   "cell_type": "code",
   "execution_count": 21,
   "id": "877b6cc7",
   "metadata": {
    "execution": {
     "iopub.execute_input": "2021-11-06T20:07:35.678375Z",
     "iopub.status.busy": "2021-11-06T20:07:35.677766Z",
     "iopub.status.idle": "2021-11-06T20:07:35.683439Z",
     "shell.execute_reply": "2021-11-06T20:07:35.682930Z"
    },
    "papermill": {
     "duration": 0.054202,
     "end_time": "2021-11-06T20:07:35.683570",
     "exception": false,
     "start_time": "2021-11-06T20:07:35.629368",
     "status": "completed"
    },
    "tags": []
   },
   "outputs": [],
   "source": [
    "lr_learner = Learner(loss, model_lr, opt, config.num_epochs)\n",
    "acc_lr = ClfCallback(lr_learner, config.bs, training_data_x , testing_data_x, training_data_y, testing_data_y)\n",
    "lr_learner.set_callbacks([acc_lr])"
   ]
  },
  {
   "cell_type": "code",
   "execution_count": 22,
   "id": "d9b133c3",
   "metadata": {
    "execution": {
     "iopub.execute_input": "2021-11-06T20:07:35.750473Z",
     "iopub.status.busy": "2021-11-06T20:07:35.749870Z",
     "iopub.status.idle": "2021-11-06T20:09:40.106246Z",
     "shell.execute_reply": "2021-11-06T20:09:40.107102Z"
    },
    "papermill": {
     "duration": 124.392385,
     "end_time": "2021-11-06T20:09:40.107263",
     "exception": false,
     "start_time": "2021-11-06T20:07:35.714878",
     "status": "completed"
    },
    "tags": []
   },
   "outputs": [
    {
     "name": "stdout",
     "output_type": "stream",
     "text": [
      "Epoch 0, Loss 0.2404\n",
      "Training Accuracy: 0.6327, Testing Accuracy: 0.6472\n",
      "\n"
     ]
    },
    {
     "name": "stdout",
     "output_type": "stream",
     "text": [
      "Epoch 10, Loss 0.0902\n",
      "Training Accuracy: 0.9247, Testing Accuracy: 0.9400\n",
      "\n"
     ]
    },
    {
     "name": "stdout",
     "output_type": "stream",
     "text": [
      "Epoch 20, Loss 0.0561\n",
      "Training Accuracy: 0.9403, Testing Accuracy: 0.9572\n",
      "\n"
     ]
    },
    {
     "name": "stdout",
     "output_type": "stream",
     "text": [
      "Epoch 30, Loss 0.0448\n",
      "Training Accuracy: 0.9509, Testing Accuracy: 0.9627\n",
      "\n"
     ]
    },
    {
     "name": "stdout",
     "output_type": "stream",
     "text": [
      "Epoch 40, Loss 0.039\n",
      "Training Accuracy: 0.9558, Testing Accuracy: 0.9667\n",
      "\n"
     ]
    },
    {
     "name": "stdout",
     "output_type": "stream",
     "text": [
      "Epoch 50, Loss 0.0353\n",
      "Training Accuracy: 0.9594, Testing Accuracy: 0.9682\n",
      "\n"
     ]
    },
    {
     "name": "stdout",
     "output_type": "stream",
     "text": [
      "Epoch 60, Loss 0.0327\n",
      "Training Accuracy: 0.9623, Testing Accuracy: 0.9703\n",
      "\n"
     ]
    },
    {
     "name": "stdout",
     "output_type": "stream",
     "text": [
      "Epoch 70, Loss 0.0308\n",
      "Training Accuracy: 0.9645, Testing Accuracy: 0.9693\n",
      "\n"
     ]
    },
    {
     "name": "stdout",
     "output_type": "stream",
     "text": [
      "Epoch 80, Loss 0.0293\n",
      "Training Accuracy: 0.9663, Testing Accuracy: 0.9698\n",
      "\n"
     ]
    },
    {
     "name": "stdout",
     "output_type": "stream",
     "text": [
      "Epoch 90, Loss 0.0281\n",
      "Training Accuracy: 0.9676, Testing Accuracy: 0.9703\n",
      "\n"
     ]
    },
    {
     "name": "stdout",
     "output_type": "stream",
     "text": [
      "Epoch 100, Loss 0.027\n",
      "Training Accuracy: 0.9687, Testing Accuracy: 0.9708\n",
      "\n"
     ]
    },
    {
     "name": "stdout",
     "output_type": "stream",
     "text": [
      "Epoch 110, Loss 0.0261\n",
      "Training Accuracy: 0.9699, Testing Accuracy: 0.9733\n",
      "\n"
     ]
    },
    {
     "name": "stdout",
     "output_type": "stream",
     "text": [
      "Epoch 120, Loss 0.0253\n",
      "Training Accuracy: 0.9709, Testing Accuracy: 0.9743\n",
      "\n"
     ]
    },
    {
     "name": "stdout",
     "output_type": "stream",
     "text": [
      "Epoch 130, Loss 0.0246\n",
      "Training Accuracy: 0.9718, Testing Accuracy: 0.9738\n",
      "\n"
     ]
    },
    {
     "name": "stdout",
     "output_type": "stream",
     "text": [
      "Epoch 140, Loss 0.0239\n",
      "Training Accuracy: 0.9729, Testing Accuracy: 0.9748\n",
      "\n"
     ]
    },
    {
     "name": "stdout",
     "output_type": "stream",
     "text": [
      "Epoch 150, Loss 0.0234\n",
      "Training Accuracy: 0.9732, Testing Accuracy: 0.9773\n",
      "\n"
     ]
    },
    {
     "name": "stdout",
     "output_type": "stream",
     "text": [
      "Epoch 160, Loss 0.0228\n",
      "Training Accuracy: 0.9733, Testing Accuracy: 0.9758\n",
      "\n"
     ]
    },
    {
     "name": "stdout",
     "output_type": "stream",
     "text": [
      "Epoch 170, Loss 0.0223\n",
      "Training Accuracy: 0.9743, Testing Accuracy: 0.9763\n",
      "\n"
     ]
    },
    {
     "name": "stdout",
     "output_type": "stream",
     "text": [
      "Epoch 180, Loss 0.0218\n",
      "Training Accuracy: 0.9750, Testing Accuracy: 0.9763\n",
      "\n"
     ]
    },
    {
     "name": "stdout",
     "output_type": "stream",
     "text": [
      "Epoch 190, Loss 0.0214\n",
      "Training Accuracy: 0.9755, Testing Accuracy: 0.9758\n",
      "\n"
     ]
    },
    {
     "name": "stdout",
     "output_type": "stream",
     "text": [
      "Epoch 200, Loss 0.0209\n",
      "Training Accuracy: 0.9763, Testing Accuracy: 0.9763\n",
      "\n"
     ]
    },
    {
     "name": "stdout",
     "output_type": "stream",
     "text": [
      "Epoch 210, Loss 0.0205\n",
      "Training Accuracy: 0.9770, Testing Accuracy: 0.9758\n",
      "\n"
     ]
    },
    {
     "name": "stdout",
     "output_type": "stream",
     "text": [
      "Epoch 220, Loss 0.0201\n",
      "Training Accuracy: 0.9772, Testing Accuracy: 0.9758\n",
      "\n"
     ]
    },
    {
     "name": "stdout",
     "output_type": "stream",
     "text": [
      "Epoch 230, Loss 0.0197\n",
      "Training Accuracy: 0.9780, Testing Accuracy: 0.9758\n",
      "\n"
     ]
    },
    {
     "name": "stdout",
     "output_type": "stream",
     "text": [
      "Epoch 240, Loss 0.0194\n",
      "Training Accuracy: 0.9787, Testing Accuracy: 0.9758\n",
      "\n"
     ]
    },
    {
     "data": {
      "text/plain": [
       "0.020197398803082578"
      ]
     },
     "execution_count": 22,
     "metadata": {},
     "output_type": "execute_result"
    }
   ],
   "source": [
    "nn_learner.train_loop(dl)"
   ]
  },
  {
   "cell_type": "code",
   "execution_count": 23,
   "id": "e0163366",
   "metadata": {
    "execution": {
     "iopub.execute_input": "2021-11-06T20:09:40.198299Z",
     "iopub.status.busy": "2021-11-06T20:09:40.197703Z",
     "iopub.status.idle": "2021-11-06T20:09:58.164736Z",
     "shell.execute_reply": "2021-11-06T20:09:58.165552Z"
    },
    "papermill": {
     "duration": 18.01544,
     "end_time": "2021-11-06T20:09:58.165718",
     "exception": false,
     "start_time": "2021-11-06T20:09:40.150278",
     "status": "completed"
    },
    "tags": []
   },
   "outputs": [
    {
     "name": "stdout",
     "output_type": "stream",
     "text": [
      "Epoch 0, Loss 0.2519\n",
      "Training Accuracy: 0.6652, Testing Accuracy: 0.6603\n",
      "\n"
     ]
    },
    {
     "name": "stdout",
     "output_type": "stream",
     "text": [
      "Epoch 10, Loss 0.1037\n",
      "Training Accuracy: 0.9069, Testing Accuracy: 0.9158\n",
      "\n"
     ]
    },
    {
     "name": "stdout",
     "output_type": "stream",
     "text": [
      "Epoch 20, Loss 0.08\n",
      "Training Accuracy: 0.9261, Testing Accuracy: 0.9355\n",
      "\n"
     ]
    },
    {
     "name": "stdout",
     "output_type": "stream",
     "text": [
      "Epoch 30, Loss 0.069\n",
      "Training Accuracy: 0.9359, Testing Accuracy: 0.9466\n",
      "\n"
     ]
    },
    {
     "name": "stdout",
     "output_type": "stream",
     "text": [
      "Epoch 40, Loss 0.0622\n",
      "Training Accuracy: 0.9426, Testing Accuracy: 0.9476\n",
      "\n"
     ]
    },
    {
     "name": "stdout",
     "output_type": "stream",
     "text": [
      "Epoch 50, Loss 0.0576\n",
      "Training Accuracy: 0.9449, Testing Accuracy: 0.9501\n",
      "\n"
     ]
    },
    {
     "name": "stdout",
     "output_type": "stream",
     "text": [
      "Epoch 60, Loss 0.0542\n",
      "Training Accuracy: 0.9476, Testing Accuracy: 0.9516\n",
      "\n"
     ]
    },
    {
     "name": "stdout",
     "output_type": "stream",
     "text": [
      "Epoch 70, Loss 0.0516\n",
      "Training Accuracy: 0.9491, Testing Accuracy: 0.9556\n",
      "\n"
     ]
    },
    {
     "name": "stdout",
     "output_type": "stream",
     "text": [
      "Epoch 80, Loss 0.0495\n",
      "Training Accuracy: 0.9497, Testing Accuracy: 0.9577\n",
      "\n"
     ]
    },
    {
     "name": "stdout",
     "output_type": "stream",
     "text": [
      "Epoch 90, Loss 0.0478\n",
      "Training Accuracy: 0.9508, Testing Accuracy: 0.9602\n",
      "\n"
     ]
    },
    {
     "name": "stdout",
     "output_type": "stream",
     "text": [
      "Epoch 100, Loss 0.0464\n",
      "Training Accuracy: 0.9523, Testing Accuracy: 0.9612\n",
      "\n"
     ]
    },
    {
     "name": "stdout",
     "output_type": "stream",
     "text": [
      "Epoch 110, Loss 0.0451\n",
      "Training Accuracy: 0.9533, Testing Accuracy: 0.9617\n",
      "\n"
     ]
    },
    {
     "name": "stdout",
     "output_type": "stream",
     "text": [
      "Epoch 120, Loss 0.0441\n",
      "Training Accuracy: 0.9542, Testing Accuracy: 0.9622\n",
      "\n"
     ]
    },
    {
     "name": "stdout",
     "output_type": "stream",
     "text": [
      "Epoch 130, Loss 0.0431\n",
      "Training Accuracy: 0.9550, Testing Accuracy: 0.9632\n",
      "\n"
     ]
    },
    {
     "name": "stdout",
     "output_type": "stream",
     "text": [
      "Epoch 140, Loss 0.0423\n",
      "Training Accuracy: 0.9558, Testing Accuracy: 0.9642\n",
      "\n"
     ]
    },
    {
     "name": "stdout",
     "output_type": "stream",
     "text": [
      "Epoch 150, Loss 0.0415\n",
      "Training Accuracy: 0.9565, Testing Accuracy: 0.9642\n",
      "\n"
     ]
    },
    {
     "name": "stdout",
     "output_type": "stream",
     "text": [
      "Epoch 160, Loss 0.0408\n",
      "Training Accuracy: 0.9572, Testing Accuracy: 0.9652\n",
      "\n"
     ]
    },
    {
     "name": "stdout",
     "output_type": "stream",
     "text": [
      "Epoch 170, Loss 0.0402\n",
      "Training Accuracy: 0.9574, Testing Accuracy: 0.9652\n",
      "\n"
     ]
    },
    {
     "name": "stdout",
     "output_type": "stream",
     "text": [
      "Epoch 180, Loss 0.0396\n",
      "Training Accuracy: 0.9579, Testing Accuracy: 0.9652\n",
      "\n"
     ]
    },
    {
     "name": "stdout",
     "output_type": "stream",
     "text": [
      "Epoch 190, Loss 0.0391\n",
      "Training Accuracy: 0.9586, Testing Accuracy: 0.9662\n",
      "\n"
     ]
    },
    {
     "name": "stdout",
     "output_type": "stream",
     "text": [
      "Epoch 200, Loss 0.0386\n",
      "Training Accuracy: 0.9594, Testing Accuracy: 0.9672\n",
      "\n"
     ]
    },
    {
     "name": "stdout",
     "output_type": "stream",
     "text": [
      "Epoch 210, Loss 0.0382\n",
      "Training Accuracy: 0.9598, Testing Accuracy: 0.9677\n",
      "\n"
     ]
    },
    {
     "name": "stdout",
     "output_type": "stream",
     "text": [
      "Epoch 220, Loss 0.0378\n",
      "Training Accuracy: 0.9601, Testing Accuracy: 0.9682\n",
      "\n"
     ]
    },
    {
     "name": "stdout",
     "output_type": "stream",
     "text": [
      "Epoch 230, Loss 0.0374\n",
      "Training Accuracy: 0.9603, Testing Accuracy: 0.9682\n",
      "\n"
     ]
    },
    {
     "name": "stdout",
     "output_type": "stream",
     "text": [
      "Epoch 240, Loss 0.037\n",
      "Training Accuracy: 0.9604, Testing Accuracy: 0.9682\n",
      "\n"
     ]
    },
    {
     "data": {
      "text/plain": [
       "0.05401506007625429"
      ]
     },
     "execution_count": 23,
     "metadata": {},
     "output_type": "execute_result"
    }
   ],
   "source": [
    "lr_learner.train_loop(dl)"
   ]
  },
  {
   "cell_type": "code",
   "execution_count": 24,
   "id": "ca410940",
   "metadata": {
    "execution": {
     "iopub.execute_input": "2021-11-06T20:09:58.278821Z",
     "iopub.status.busy": "2021-11-06T20:09:58.275424Z",
     "iopub.status.idle": "2021-11-06T20:09:58.563657Z",
     "shell.execute_reply": "2021-11-06T20:09:58.564211Z"
    },
    "papermill": {
     "duration": 0.346281,
     "end_time": "2021-11-06T20:09:58.564372",
     "exception": false,
     "start_time": "2021-11-06T20:09:58.218091",
     "status": "completed"
    },
    "tags": []
   },
   "outputs": [
    {
     "data": {
      "text/plain": [
       "<matplotlib.legend.Legend at 0x7f8bec3d0828>"
      ]
     },
     "execution_count": 24,
     "metadata": {},
     "output_type": "execute_result"
    },
    {
     "data": {
      "image/png": "[encoded data removed]",
      "text/plain": [
       "<Figure size 1080x720 with 1 Axes>"
      ]
     },
     "metadata": {
      "needs_background": "light"
     },
     "output_type": "display_data"
    }
   ],
   "source": [
    "#comparing the results of NN and LR\n",
    "plt.figure(figsize=(15,10))\n",
    "\n",
    "# Neural Network plots\n",
    "plt.plot(acc_nn.accuracies, 'r-', label = \"Training Accuracies - NN\")\n",
    "plt.plot(acc_nn.test_accuracies, 'g-', label = \"Testing Accuracies - NN\")\n",
    "\n",
    "# Logistic Regression plots\n",
    "plt.plot(acc_lr.accuracies, 'k-', label = \"Training Accuracies - LR\")\n",
    "plt.plot(acc_lr.test_accuracies, 'b-', label = \"Testing Accuracies - LR\")\n",
    "plt.legend()"
   ]
  },
  {
   "cell_type": "markdown",
   "id": "80dfb35c",
   "metadata": {
    "papermill": {
     "duration": 0.05004,
     "end_time": "2021-11-06T20:09:58.663644",
     "exception": false,
     "start_time": "2021-11-06T20:09:58.613604",
     "status": "completed"
    },
    "tags": []
   },
   "source": [
    "#### Plotting the outputs of this layer of the NN.\n"
   ]
  },
  {
   "cell_type": "code",
   "execution_count": 25,
   "id": "45eb2ff5",
   "metadata": {
    "execution": {
     "iopub.execute_input": "2021-11-06T20:09:58.771830Z",
     "iopub.status.busy": "2021-11-06T20:09:58.768837Z",
     "iopub.status.idle": "2021-11-06T20:09:58.795136Z",
     "shell.execute_reply": "2021-11-06T20:09:58.795672Z"
    },
    "papermill": {
     "duration": 0.083913,
     "end_time": "2021-11-06T20:09:58.795833",
     "exception": false,
     "start_time": "2021-11-06T20:09:58.711920",
     "status": "completed"
    },
    "tags": []
   },
   "outputs": [],
   "source": [
    "new_model = Model(layers[:-2])\n",
    "testing_plot = new_model(testing_data_x)"
   ]
  },
  {
   "cell_type": "code",
   "execution_count": 26,
   "id": "4c0a5485",
   "metadata": {
    "execution": {
     "iopub.execute_input": "2021-11-06T20:09:58.915888Z",
     "iopub.status.busy": "2021-11-06T20:09:58.911137Z",
     "iopub.status.idle": "2021-11-06T20:09:59.193987Z",
     "shell.execute_reply": "2021-11-06T20:09:59.193275Z"
    },
    "papermill": {
     "duration": 0.344209,
     "end_time": "2021-11-06T20:09:59.194174",
     "exception": false,
     "start_time": "2021-11-06T20:09:58.849965",
     "status": "completed"
    },
    "tags": []
   },
   "outputs": [
    {
     "data": {
      "text/plain": [
       "Text(0.5, 1.0, 'Outputs')"
      ]
     },
     "execution_count": 26,
     "metadata": {},
     "output_type": "execute_result"
    },
    {
     "data": {
      "image/png": "[encoded data removed]",
      "text/plain": [
       "<Figure size 576x504 with 1 Axes>"
      ]
     },
     "metadata": {
      "needs_background": "light"
     },
     "output_type": "display_data"
    }
   ],
   "source": [
    "# Plotting the scatter plot of points and color coding by class\n",
    "plt.figure(figsize=(8,7))\n",
    "plt.scatter(testing_plot[:,0], testing_plot[:,1], alpha = 0.1, c = y_test.ravel());\n",
    "plt.title('Outputs')"
   ]
  },
  {
   "cell_type": "markdown",
   "id": "a74fcf8f",
   "metadata": {
    "papermill": {
     "duration": 0.054357,
     "end_time": "2021-11-06T20:09:59.301645",
     "exception": false,
     "start_time": "2021-11-06T20:09:59.247288",
     "status": "completed"
    },
    "tags": []
   },
   "source": [
    "Probability contours"
   ]
  },
  {
   "cell_type": "code",
   "execution_count": 27,
   "id": "d0afc8e3",
   "metadata": {
    "execution": {
     "iopub.execute_input": "2021-11-06T20:09:59.419215Z",
     "iopub.status.busy": "2021-11-06T20:09:59.415838Z",
     "iopub.status.idle": "2021-11-06T20:09:59.428673Z",
     "shell.execute_reply": "2021-11-06T20:09:59.428073Z"
    },
    "papermill": {
     "duration": 0.077646,
     "end_time": "2021-11-06T20:09:59.428802",
     "exception": false,
     "start_time": "2021-11-06T20:09:59.351156",
     "status": "completed"
    },
    "tags": []
   },
   "outputs": [],
   "source": [
    "model_prob = Model(layers[-2:]) "
   ]
  },
  {
   "cell_type": "code",
   "execution_count": 28,
   "id": "9b96e238",
   "metadata": {
    "execution": {
     "iopub.execute_input": "2021-11-06T20:09:59.577273Z",
     "iopub.status.busy": "2021-11-06T20:09:59.570348Z",
     "iopub.status.idle": "2021-11-06T20:09:59.582702Z",
     "shell.execute_reply": "2021-11-06T20:09:59.583216Z"
    },
    "papermill": {
     "duration": 0.098635,
     "end_time": "2021-11-06T20:09:59.583363",
     "exception": false,
     "start_time": "2021-11-06T20:09:59.484728",
     "status": "completed"
    },
    "tags": []
   },
   "outputs": [],
   "source": [
    "#creating the x and y ranges according to the above generated plot.\n",
    "x_range = np.linspace(-4, 1, 100) \n",
    "y_range = np.linspace(-6, 6, 100) \n",
    "x_grid, y_grid = np.meshgrid(x_range, y_range) # x_grid and y_grig are of size 100 X 100\n",
    "\n",
    "# converting x_grid and y_grid to continuous arrays\n",
    "x_gridflat = np.ravel(x_grid)\n",
    "y_gridflat = np.ravel(y_grid)\n",
    "\n",
    "# The last layer of the current model takes two columns as input. Hence transpose of np.vstack() is required.\n",
    "X = np.vstack((x_gridflat, y_gridflat)).T\n",
    "\n",
    "prob_contour = model_prob(X).reshape(100,100) "
   ]
  },
  {
   "cell_type": "code",
   "execution_count": 29,
   "id": "da72499a",
   "metadata": {
    "execution": {
     "iopub.execute_input": "2021-11-06T20:09:59.708711Z",
     "iopub.status.busy": "2021-11-06T20:09:59.708069Z",
     "iopub.status.idle": "2021-11-06T20:10:00.012592Z",
     "shell.execute_reply": "2021-11-06T20:10:00.011651Z"
    },
    "papermill": {
     "duration": 0.366769,
     "end_time": "2021-11-06T20:10:00.012725",
     "exception": false,
     "start_time": "2021-11-06T20:09:59.645956",
     "status": "completed"
    },
    "tags": []
   },
   "outputs": [
    {
     "data": {
      "image/png": "[encoded data removed]",
      "text/plain": [
       "<Figure size 720x648 with 1 Axes>"
      ]
     },
     "metadata": {
      "needs_background": "light"
     },
     "output_type": "display_data"
    }
   ],
   "source": [
    "plt.figure(figsize=(10,9))\n",
    "plt.scatter(testing_plot[:,0], testing_plot[:,1], alpha = 0.1, c = y_test.ravel())\n",
    "contours = plt.contour(x_grid,y_grid,prob_contour)\n",
    "plt.title('Probability Contours')\n",
    "plt.clabel(contours, inline = True );"
   ]
  },
  {
   "cell_type": "code",
   "execution_count": null,
   "id": "e81b4ac7",
   "metadata": {
    "papermill": {
     "duration": 0.055177,
     "end_time": "2021-11-06T20:10:00.124418",
     "exception": false,
     "start_time": "2021-11-06T20:10:00.069241",
     "status": "completed"
    },
    "tags": []
   },
   "outputs": [],
   "source": []
  }
 ],
 "metadata": {
  "kernelspec": {
   "display_name": "Python 3",
   "language": "python",
   "name": "python3"
  },
  "language_info": {
   "codemirror_mode": {
    "name": "ipython",
    "version": 3
   },
   "file_extension": ".py",
   "mimetype": "text/x-python",
   "name": "python",
   "nbconvert_exporter": "python",
   "pygments_lexer": "ipython3",
   "version": "3.6.15"
  },
  "papermill": {
   "default_parameters": {},
   "duration": 152.094007,
   "end_time": "2021-11-06T20:10:00.590828",
   "environment_variables": {},
   "exception": null,
   "input_path": "2020-08-11-part2.ipynb",
   "output_path": "2020-08-11-part2.ipynb",
   "parameters": {},
   "start_time": "2021-11-06T20:07:28.496821",
   "version": "2.3.3"
  }
 },
 "nbformat": 4,
 "nbformat_minor": 5
}