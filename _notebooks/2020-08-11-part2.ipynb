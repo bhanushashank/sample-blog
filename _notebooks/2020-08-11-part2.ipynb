{
 "cells": [
  {
   "cell_type": "markdown",
   "id": "98380cd3",
   "metadata": {
    "papermill": {
     "duration": 0.04133,
     "end_time": "2022-08-22T20:11:28.245737",
     "exception": false,
     "start_time": "2022-08-22T20:11:28.204407",
     "status": "completed"
    },
    "tags": []
   },
   "source": [
    "# Distinguish Your Own Digits (DYOD)"
   ]
  },
  {
   "cell_type": "markdown",
   "id": "ef31240d",
   "metadata": {
    "papermill": {
     "duration": 0.031673,
     "end_time": "2022-08-22T20:11:28.313629",
     "exception": false,
     "start_time": "2022-08-22T20:11:28.281956",
     "status": "completed"
    },
    "tags": []
   },
   "source": [
    "You are going to write a classifier that distinguishes between the number 3 and number 8."
   ]
  },
  {
   "cell_type": "code",
   "execution_count": 1,
   "id": "b15c8646",
   "metadata": {
    "execution": {
     "iopub.execute_input": "2022-08-22T20:11:28.392543Z",
     "iopub.status.busy": "2022-08-22T20:11:28.391510Z",
     "iopub.status.idle": "2022-08-22T20:11:28.412170Z",
     "shell.execute_reply": "2022-08-22T20:11:28.411499Z"
    },
    "papermill": {
     "duration": 0.06581,
     "end_time": "2022-08-22T20:11:28.412342",
     "exception": false,
     "start_time": "2022-08-22T20:11:28.346532",
     "status": "completed"
    },
    "tags": []
   },
   "outputs": [],
   "source": [
    "%load_ext autoreload\n",
    "%autoreload 2"
   ]
  },
  {
   "cell_type": "code",
   "execution_count": 2,
   "id": "22ef38dc",
   "metadata": {
    "execution": {
     "iopub.execute_input": "2022-08-22T20:11:28.492176Z",
     "iopub.status.busy": "2022-08-22T20:11:28.491200Z",
     "iopub.status.idle": "2022-08-22T20:11:29.264673Z",
     "shell.execute_reply": "2022-08-22T20:11:29.263311Z"
    },
    "papermill": {
     "duration": 0.82013,
     "end_time": "2022-08-22T20:11:29.264829",
     "exception": false,
     "start_time": "2022-08-22T20:11:28.444699",
     "status": "completed"
    },
    "tags": []
   },
   "outputs": [],
   "source": [
    "%matplotlib inline\n",
    "import numpy as np\n",
    "import matplotlib.pyplot as plt\n",
    "import pandas as pd"
   ]
  },
  {
   "cell_type": "markdown",
   "id": "ba036198",
   "metadata": {
    "papermill": {
     "duration": 0.03302,
     "end_time": "2022-08-22T20:11:29.332241",
     "exception": false,
     "start_time": "2022-08-22T20:11:29.299221",
     "status": "completed"
    },
    "tags": []
   },
   "source": [
    "From the command line run `pip install mnist`. This is a library that will help you bring down the mnist dataset. If you run this from a notebook, you need to put  `!pip install mnist` in a cell by itself."
   ]
  },
  {
   "cell_type": "code",
   "execution_count": 3,
   "id": "bb6ad8a1",
   "metadata": {
    "execution": {
     "iopub.execute_input": "2022-08-22T20:11:29.404625Z",
     "iopub.status.busy": "2022-08-22T20:11:29.403858Z",
     "iopub.status.idle": "2022-08-22T20:11:31.513339Z",
     "shell.execute_reply": "2022-08-22T20:11:31.512267Z"
    },
    "papermill": {
     "duration": 2.148919,
     "end_time": "2022-08-22T20:11:31.513492",
     "exception": false,
     "start_time": "2022-08-22T20:11:29.364573",
     "status": "completed"
    },
    "tags": []
   },
   "outputs": [
    {
     "name": "stdout",
     "output_type": "stream",
     "text": [
      "Collecting mnist\r\n"
     ]
    },
    {
     "name": "stdout",
     "output_type": "stream",
     "text": [
      "  Downloading mnist-0.2.2-py2.py3-none-any.whl (3.5 kB)\r\n",
      "Requirement already satisfied: numpy in /opt/hostedtoolcache/Python/3.6.15/x64/lib/python3.6/site-packages (from mnist) (1.19.5)\r\n"
     ]
    },
    {
     "name": "stdout",
     "output_type": "stream",
     "text": [
      "Installing collected packages: mnist\r\n"
     ]
    },
    {
     "name": "stdout",
     "output_type": "stream",
     "text": [
      "Successfully installed mnist-0.2.2\r\n"
     ]
    }
   ],
   "source": [
    "!pip install mnist"
   ]
  },
  {
   "cell_type": "markdown",
   "id": "69df9c9a",
   "metadata": {
    "papermill": {
     "duration": 0.03616,
     "end_time": "2022-08-22T20:11:31.582764",
     "exception": false,
     "start_time": "2022-08-22T20:11:31.546604",
     "status": "completed"
    },
    "tags": []
   },
   "source": [
    "## Preparing the Data"
   ]
  },
  {
   "cell_type": "code",
   "execution_count": 4,
   "id": "7f69d806",
   "metadata": {
    "execution": {
     "iopub.execute_input": "2022-08-22T20:11:31.656283Z",
     "iopub.status.busy": "2022-08-22T20:11:31.655233Z",
     "iopub.status.idle": "2022-08-22T20:11:31.673373Z",
     "shell.execute_reply": "2022-08-22T20:11:31.672721Z"
    },
    "papermill": {
     "duration": 0.056813,
     "end_time": "2022-08-22T20:11:31.673521",
     "exception": false,
     "start_time": "2022-08-22T20:11:31.616708",
     "status": "completed"
    },
    "tags": []
   },
   "outputs": [],
   "source": [
    "import mnist"
   ]
  },
  {
   "cell_type": "code",
   "execution_count": 5,
   "id": "a411e44f",
   "metadata": {
    "execution": {
     "iopub.execute_input": "2022-08-22T20:11:31.745520Z",
     "iopub.status.busy": "2022-08-22T20:11:31.744759Z",
     "iopub.status.idle": "2022-08-22T20:11:32.488861Z",
     "shell.execute_reply": "2022-08-22T20:11:32.489441Z"
    },
    "papermill": {
     "duration": 0.781986,
     "end_time": "2022-08-22T20:11:32.489617",
     "exception": false,
     "start_time": "2022-08-22T20:11:31.707631",
     "status": "completed"
    },
    "tags": []
   },
   "outputs": [],
   "source": [
    "train_images = mnist.train_images()\n",
    "train_labels = mnist.train_labels()"
   ]
  },
  {
   "cell_type": "code",
   "execution_count": 6,
   "id": "dceab3a5",
   "metadata": {
    "execution": {
     "iopub.execute_input": "2022-08-22T20:11:32.575427Z",
     "iopub.status.busy": "2022-08-22T20:11:32.572727Z",
     "iopub.status.idle": "2022-08-22T20:11:32.586280Z",
     "shell.execute_reply": "2022-08-22T20:11:32.585528Z"
    },
    "papermill": {
     "duration": 0.0625,
     "end_time": "2022-08-22T20:11:32.586430",
     "exception": false,
     "start_time": "2022-08-22T20:11:32.523930",
     "status": "completed"
    },
    "tags": []
   },
   "outputs": [
    {
     "data": {
      "text/plain": [
       "((60000, 28, 28), (60000,))"
      ]
     },
     "execution_count": 6,
     "metadata": {},
     "output_type": "execute_result"
    }
   ],
   "source": [
    "train_images.shape, train_labels.shape"
   ]
  },
  {
   "cell_type": "code",
   "execution_count": 7,
   "id": "f50dc2bb",
   "metadata": {
    "execution": {
     "iopub.execute_input": "2022-08-22T20:11:32.660659Z",
     "iopub.status.busy": "2022-08-22T20:11:32.659905Z",
     "iopub.status.idle": "2022-08-22T20:11:32.800358Z",
     "shell.execute_reply": "2022-08-22T20:11:32.799482Z"
    },
    "papermill": {
     "duration": 0.178616,
     "end_time": "2022-08-22T20:11:32.800510",
     "exception": false,
     "start_time": "2022-08-22T20:11:32.621894",
     "status": "completed"
    },
    "tags": []
   },
   "outputs": [],
   "source": [
    "test_images = mnist.test_images()\n",
    "test_labels = mnist.test_labels()"
   ]
  },
  {
   "cell_type": "code",
   "execution_count": 8,
   "id": "fc38cf1b",
   "metadata": {
    "execution": {
     "iopub.execute_input": "2022-08-22T20:11:32.877266Z",
     "iopub.status.busy": "2022-08-22T20:11:32.876489Z",
     "iopub.status.idle": "2022-08-22T20:11:32.897897Z",
     "shell.execute_reply": "2022-08-22T20:11:32.897132Z"
    },
    "papermill": {
     "duration": 0.061296,
     "end_time": "2022-08-22T20:11:32.898047",
     "exception": false,
     "start_time": "2022-08-22T20:11:32.836751",
     "status": "completed"
    },
    "tags": []
   },
   "outputs": [
    {
     "data": {
      "text/plain": [
       "((10000, 28, 28), (10000,))"
      ]
     },
     "execution_count": 8,
     "metadata": {},
     "output_type": "execute_result"
    }
   ],
   "source": [
    "test_images.shape, test_labels.shape"
   ]
  },
  {
   "cell_type": "code",
   "execution_count": 9,
   "id": "f9ed8fe0",
   "metadata": {
    "execution": {
     "iopub.execute_input": "2022-08-22T20:11:32.996405Z",
     "iopub.status.busy": "2022-08-22T20:11:32.995626Z",
     "iopub.status.idle": "2022-08-22T20:11:33.182735Z",
     "shell.execute_reply": "2022-08-22T20:11:33.181675Z"
    },
    "papermill": {
     "duration": 0.242501,
     "end_time": "2022-08-22T20:11:33.182878",
     "exception": false,
     "start_time": "2022-08-22T20:11:32.940377",
     "status": "completed"
    },
    "tags": []
   },
   "outputs": [
    {
     "name": "stdout",
     "output_type": "stream",
     "text": [
      "2\n"
     ]
    },
    {
     "data": {
      "text/plain": [
       "<matplotlib.image.AxesImage at 0x7fb3e65c49e8>"
      ]
     },
     "execution_count": 9,
     "metadata": {},
     "output_type": "execute_result"
    },
    {
     "data": {
      "image/png": "[encoded data removed]",
      "text/plain": [
       "<Figure size 432x288 with 1 Axes>"
      ]
     },
     "metadata": {
      "needs_background": "light"
     },
     "output_type": "display_data"
    }
   ],
   "source": [
    "image_index = 7776 # You may select anything up to 60,000\n",
    "print(train_labels[image_index]) \n",
    "plt.imshow(train_images[image_index], cmap='Greys')"
   ]
  },
  {
   "cell_type": "markdown",
   "id": "a8d2388d",
   "metadata": {
    "papermill": {
     "duration": 0.034129,
     "end_time": "2022-08-22T20:11:33.256783",
     "exception": false,
     "start_time": "2022-08-22T20:11:33.222654",
     "status": "completed"
    },
    "tags": []
   },
   "source": [
    "## Filter data to get 3 and 8 out"
   ]
  },
  {
   "cell_type": "code",
   "execution_count": 10,
   "id": "776f7fc7",
   "metadata": {
    "execution": {
     "iopub.execute_input": "2022-08-22T20:11:33.340232Z",
     "iopub.status.busy": "2022-08-22T20:11:33.339440Z",
     "iopub.status.idle": "2022-08-22T20:11:33.355521Z",
     "shell.execute_reply": "2022-08-22T20:11:33.356114Z"
    },
    "papermill": {
     "duration": 0.065116,
     "end_time": "2022-08-22T20:11:33.356287",
     "exception": false,
     "start_time": "2022-08-22T20:11:33.291171",
     "status": "completed"
    },
    "tags": []
   },
   "outputs": [],
   "source": [
    "train_filter = np.where((train_labels == 3 ) | (train_labels == 8))\n",
    "test_filter = np.where((test_labels == 3) | (test_labels == 8))\n",
    "X_train, y_train = train_images[train_filter], train_labels[train_filter]\n",
    "X_test, y_test = test_images[test_filter], test_labels[test_filter]"
   ]
  },
  {
   "cell_type": "markdown",
   "id": "948f0b7e",
   "metadata": {
    "papermill": {
     "duration": 0.034508,
     "end_time": "2022-08-22T20:11:33.432946",
     "exception": false,
     "start_time": "2022-08-22T20:11:33.398438",
     "status": "completed"
    },
    "tags": []
   },
   "source": [
    "We normalize the pizel values in the 0 to 1 range"
   ]
  },
  {
   "cell_type": "code",
   "execution_count": 11,
   "id": "ee4c2166",
   "metadata": {
    "execution": {
     "iopub.execute_input": "2022-08-22T20:11:33.511080Z",
     "iopub.status.busy": "2022-08-22T20:11:33.509321Z",
     "iopub.status.idle": "2022-08-22T20:11:33.577332Z",
     "shell.execute_reply": "2022-08-22T20:11:33.576722Z"
    },
    "papermill": {
     "duration": 0.106683,
     "end_time": "2022-08-22T20:11:33.577479",
     "exception": false,
     "start_time": "2022-08-22T20:11:33.470796",
     "status": "completed"
    },
    "tags": []
   },
   "outputs": [],
   "source": [
    "X_train = X_train/255.\n",
    "X_test = X_test/255."
   ]
  },
  {
   "cell_type": "markdown",
   "id": "ddcf4fab",
   "metadata": {
    "papermill": {
     "duration": 0.038275,
     "end_time": "2022-08-22T20:11:33.652844",
     "exception": false,
     "start_time": "2022-08-22T20:11:33.614569",
     "status": "completed"
    },
    "tags": []
   },
   "source": [
    "And setup the labels as 1 (when the digit is 3) and 0 (when the digit is 8)"
   ]
  },
  {
   "cell_type": "code",
   "execution_count": 12,
   "id": "7dc908f2",
   "metadata": {
    "execution": {
     "iopub.execute_input": "2022-08-22T20:11:33.736288Z",
     "iopub.status.busy": "2022-08-22T20:11:33.735530Z",
     "iopub.status.idle": "2022-08-22T20:11:33.755845Z",
     "shell.execute_reply": "2022-08-22T20:11:33.756486Z"
    },
    "papermill": {
     "duration": 0.066417,
     "end_time": "2022-08-22T20:11:33.756664",
     "exception": false,
     "start_time": "2022-08-22T20:11:33.690247",
     "status": "completed"
    },
    "tags": []
   },
   "outputs": [],
   "source": [
    "y_train = 1*(y_train==3)\n",
    "y_test = 1*(y_test==3)"
   ]
  },
  {
   "cell_type": "code",
   "execution_count": 13,
   "id": "01e4e969",
   "metadata": {
    "execution": {
     "iopub.execute_input": "2022-08-22T20:11:33.838533Z",
     "iopub.status.busy": "2022-08-22T20:11:33.837720Z",
     "iopub.status.idle": "2022-08-22T20:11:33.855740Z",
     "shell.execute_reply": "2022-08-22T20:11:33.855113Z"
    },
    "papermill": {
     "duration": 0.059482,
     "end_time": "2022-08-22T20:11:33.855888",
     "exception": false,
     "start_time": "2022-08-22T20:11:33.796406",
     "status": "completed"
    },
    "tags": []
   },
   "outputs": [
    {
     "data": {
      "text/plain": [
       "((11982, 28, 28), (1984, 28, 28))"
      ]
     },
     "execution_count": 13,
     "metadata": {},
     "output_type": "execute_result"
    }
   ],
   "source": [
    "X_train.shape, X_test.shape"
   ]
  },
  {
   "cell_type": "markdown",
   "id": "5ccf3f85",
   "metadata": {
    "papermill": {
     "duration": 0.038356,
     "end_time": "2022-08-22T20:11:33.930767",
     "exception": false,
     "start_time": "2022-08-22T20:11:33.892411",
     "status": "completed"
    },
    "tags": []
   },
   "source": [
    "We reshape the data to flatten the image pixels into a set of features or co-variates:"
   ]
  },
  {
   "cell_type": "code",
   "execution_count": 14,
   "id": "5286a4a3",
   "metadata": {
    "execution": {
     "iopub.execute_input": "2022-08-22T20:11:34.012889Z",
     "iopub.status.busy": "2022-08-22T20:11:34.011234Z",
     "iopub.status.idle": "2022-08-22T20:11:34.029664Z",
     "shell.execute_reply": "2022-08-22T20:11:34.029036Z"
    },
    "papermill": {
     "duration": 0.061869,
     "end_time": "2022-08-22T20:11:34.029807",
     "exception": false,
     "start_time": "2022-08-22T20:11:33.967938",
     "status": "completed"
    },
    "tags": []
   },
   "outputs": [
    {
     "data": {
      "text/plain": [
       "((11982, 784), (1984, 784))"
      ]
     },
     "execution_count": 14,
     "metadata": {},
     "output_type": "execute_result"
    }
   ],
   "source": [
    "X_train = X_train.reshape(X_train.shape[0], -1)\n",
    "X_test = X_test.reshape(X_test.shape[0], -1)\n",
    "X_train.shape, X_test.shape"
   ]
  },
  {
   "cell_type": "code",
   "execution_count": 15,
   "id": "73c5f88a",
   "metadata": {
    "execution": {
     "iopub.execute_input": "2022-08-22T20:11:34.115863Z",
     "iopub.status.busy": "2022-08-22T20:11:34.115064Z",
     "iopub.status.idle": "2022-08-22T20:11:34.139528Z",
     "shell.execute_reply": "2022-08-22T20:11:34.138879Z"
    },
    "papermill": {
     "duration": 0.068727,
     "end_time": "2022-08-22T20:11:34.139676",
     "exception": false,
     "start_time": "2022-08-22T20:11:34.070949",
     "status": "completed"
    },
    "tags": []
   },
   "outputs": [],
   "source": [
    "#Impoting functions from 'Kudzu'\n",
    "from kudzu.model import Model\n",
    "from kudzu.train import Learner\n",
    "from kudzu.optim import GD\n",
    "from kudzu.data import Data, Sampler,Dataloader\n",
    "\n",
    "from kudzu.callbacks import AccCallback\n",
    "from kudzu.callbacks import ClfCallback\n",
    "\n",
    "from kudzu.loss import MSE\n",
    "\n",
    "from kudzu.layer import Sigmoid,Relu\n",
    "from kudzu.layer import Affine"
   ]
  },
  {
   "cell_type": "markdown",
   "id": "bc01172a",
   "metadata": {
    "papermill": {
     "duration": 0.044864,
     "end_time": "2022-08-22T20:11:34.225735",
     "exception": false,
     "start_time": "2022-08-22T20:11:34.180871",
     "status": "completed"
    },
    "tags": []
   },
   "source": [
    "### Let us create a `Config` class, to store important parameters. \n",
    "This class essentially plays the role of a dictionary."
   ]
  },
  {
   "cell_type": "code",
   "execution_count": 16,
   "id": "978281aa",
   "metadata": {
    "execution": {
     "iopub.execute_input": "2022-08-22T20:11:34.312974Z",
     "iopub.status.busy": "2022-08-22T20:11:34.312185Z",
     "iopub.status.idle": "2022-08-22T20:11:34.321838Z",
     "shell.execute_reply": "2022-08-22T20:11:34.321085Z"
    },
    "papermill": {
     "duration": 0.06009,
     "end_time": "2022-08-22T20:11:34.321991",
     "exception": false,
     "start_time": "2022-08-22T20:11:34.261901",
     "status": "completed"
    },
    "tags": []
   },
   "outputs": [],
   "source": [
    "class Config:\n",
    "    pass\n",
    "config = Config()\n",
    "config.lr = 0.001\n",
    "config.num_epochs = 250\n",
    "config.bs = 50"
   ]
  },
  {
   "cell_type": "markdown",
   "id": "1385fa59",
   "metadata": {
    "papermill": {
     "duration": 0.05066,
     "end_time": "2022-08-22T20:11:34.410858",
     "exception": false,
     "start_time": "2022-08-22T20:11:34.360198",
     "status": "completed"
    },
    "tags": []
   },
   "source": [
    "### Running Models with the Training data\n",
    "Details about the network layers:\n",
    "- A first affine layer has 784 inputs and does 100 affine transforms. These are followed by a Relu\n",
    "- A second affine layer has 100 inputs from the 100 activations of the past layer, and does 100 affine transforms. These are followed by a Relu\n",
    "- A third affine layer has 100 activations and does 2 affine transformations to create an embedding for visualization. There is no non-linearity here.\n",
    "- A final \"logistic regression\" which has an affine transform from 2 inputs to 1 output, which is squeezed through a sigmoid.\n"
   ]
  },
  {
   "cell_type": "code",
   "execution_count": 17,
   "id": "2b9c66db",
   "metadata": {
    "execution": {
     "iopub.execute_input": "2022-08-22T20:11:34.492047Z",
     "iopub.status.busy": "2022-08-22T20:11:34.491254Z",
     "iopub.status.idle": "2022-08-22T20:11:34.513627Z",
     "shell.execute_reply": "2022-08-22T20:11:34.511733Z"
    },
    "papermill": {
     "duration": 0.06771,
     "end_time": "2022-08-22T20:11:34.513784",
     "exception": false,
     "start_time": "2022-08-22T20:11:34.446074",
     "status": "completed"
    },
    "tags": []
   },
   "outputs": [],
   "source": [
    "data = Data(X_train, y_train.reshape(-1,1))\n",
    "sampler = Sampler(data, config.bs, shuffle=True)\n",
    "\n",
    "dl = Dataloader(data, sampler)\n",
    "\n",
    "opt = GD(config.lr)\n",
    "loss = MSE()"
   ]
  },
  {
   "cell_type": "code",
   "execution_count": 18,
   "id": "b275e4c2",
   "metadata": {
    "execution": {
     "iopub.execute_input": "2022-08-22T20:11:34.601164Z",
     "iopub.status.busy": "2022-08-22T20:11:34.600386Z",
     "iopub.status.idle": "2022-08-22T20:11:34.615897Z",
     "shell.execute_reply": "2022-08-22T20:11:34.614838Z"
    },
    "papermill": {
     "duration": 0.064581,
     "end_time": "2022-08-22T20:11:34.616046",
     "exception": false,
     "start_time": "2022-08-22T20:11:34.551465",
     "status": "completed"
    },
    "tags": []
   },
   "outputs": [],
   "source": [
    "training_data_x = X_train\n",
    "testing_data_x = X_test\n",
    "training_data_y = y_train.reshape(-1,1)\n",
    "testing_data_y = y_test.reshape(-1,1)"
   ]
  },
  {
   "cell_type": "code",
   "execution_count": 19,
   "id": "76951160",
   "metadata": {
    "execution": {
     "iopub.execute_input": "2022-08-22T20:11:34.697166Z",
     "iopub.status.busy": "2022-08-22T20:11:34.696377Z",
     "iopub.status.idle": "2022-08-22T20:11:34.716514Z",
     "shell.execute_reply": "2022-08-22T20:11:34.717130Z"
    },
    "papermill": {
     "duration": 0.062884,
     "end_time": "2022-08-22T20:11:34.717297",
     "exception": false,
     "start_time": "2022-08-22T20:11:34.654413",
     "status": "completed"
    },
    "tags": []
   },
   "outputs": [
    {
     "name": "stdout",
     "output_type": "stream",
     "text": [
      "xavier\n",
      "xavier\n",
      "xavier\n",
      "xavier\n",
      "xavier\n"
     ]
    }
   ],
   "source": [
    "layers = [Affine(\"first\", 784, 100), Relu(\"first\"), Affine(\"second\", 100, 100), Relu(\"second\"), Affine(\"third\", 100, 2), Affine(\"last\", 2, 1), Sigmoid(\"last\")]\n",
    "model_nn = Model(layers)\n",
    "model_lr = Model([Affine(\"logits\", 784, 1), Sigmoid(\"sigmoid\")])"
   ]
  },
  {
   "cell_type": "code",
   "execution_count": 20,
   "id": "6eede77a",
   "metadata": {
    "execution": {
     "iopub.execute_input": "2022-08-22T20:11:34.808788Z",
     "iopub.status.busy": "2022-08-22T20:11:34.796034Z",
     "iopub.status.idle": "2022-08-22T20:11:34.814880Z",
     "shell.execute_reply": "2022-08-22T20:11:34.814245Z"
    },
    "papermill": {
     "duration": 0.061796,
     "end_time": "2022-08-22T20:11:34.815022",
     "exception": false,
     "start_time": "2022-08-22T20:11:34.753226",
     "status": "completed"
    },
    "tags": []
   },
   "outputs": [],
   "source": [
    "nn_learner = Learner(loss, model_nn, opt, config.num_epochs)\n",
    "acc_nn = ClfCallback(nn_learner, config.bs, training_data_x , testing_data_x, training_data_y, testing_data_y)\n",
    "nn_learner.set_callbacks([acc_nn])"
   ]
  },
  {
   "cell_type": "code",
   "execution_count": 21,
   "id": "877b6cc7",
   "metadata": {
    "execution": {
     "iopub.execute_input": "2022-08-22T20:11:34.896375Z",
     "iopub.status.busy": "2022-08-22T20:11:34.895611Z",
     "iopub.status.idle": "2022-08-22T20:11:34.911254Z",
     "shell.execute_reply": "2022-08-22T20:11:34.911928Z"
    },
    "papermill": {
     "duration": 0.058354,
     "end_time": "2022-08-22T20:11:34.912098",
     "exception": false,
     "start_time": "2022-08-22T20:11:34.853744",
     "status": "completed"
    },
    "tags": []
   },
   "outputs": [],
   "source": [
    "lr_learner = Learner(loss, model_lr, opt, config.num_epochs)\n",
    "acc_lr = ClfCallback(lr_learner, config.bs, training_data_x , testing_data_x, training_data_y, testing_data_y)\n",
    "lr_learner.set_callbacks([acc_lr])"
   ]
  },
  {
   "cell_type": "code",
   "execution_count": 22,
   "id": "d9b133c3",
   "metadata": {
    "execution": {
     "iopub.execute_input": "2022-08-22T20:11:34.996409Z",
     "iopub.status.busy": "2022-08-22T20:11:34.995679Z",
     "iopub.status.idle": "2022-08-22T20:13:57.793853Z",
     "shell.execute_reply": "2022-08-22T20:13:57.793112Z"
    },
    "papermill": {
     "duration": 142.844019,
     "end_time": "2022-08-22T20:13:57.793994",
     "exception": false,
     "start_time": "2022-08-22T20:11:34.949975",
     "status": "completed"
    },
    "tags": []
   },
   "outputs": [
    {
     "name": "stdout",
     "output_type": "stream",
     "text": [
      "Epoch 0, Loss 0.2132\n",
      "Training Accuracy: 0.8048, Testing Accuracy: 0.8221\n",
      "\n"
     ]
    },
    {
     "name": "stdout",
     "output_type": "stream",
     "text": [
      "Epoch 10, Loss 0.0579\n",
      "Training Accuracy: 0.9388, Testing Accuracy: 0.9496\n",
      "\n"
     ]
    },
    {
     "name": "stdout",
     "output_type": "stream",
     "text": [
      "Epoch 20, Loss 0.0423\n",
      "Training Accuracy: 0.9525, Testing Accuracy: 0.9612\n",
      "\n"
     ]
    },
    {
     "name": "stdout",
     "output_type": "stream",
     "text": [
      "Epoch 30, Loss 0.0362\n",
      "Training Accuracy: 0.9577, Testing Accuracy: 0.9688\n",
      "\n"
     ]
    },
    {
     "name": "stdout",
     "output_type": "stream",
     "text": [
      "Epoch 40, Loss 0.0328\n",
      "Training Accuracy: 0.9619, Testing Accuracy: 0.9703\n",
      "\n"
     ]
    },
    {
     "name": "stdout",
     "output_type": "stream",
     "text": [
      "Epoch 50, Loss 0.0304\n",
      "Training Accuracy: 0.9646, Testing Accuracy: 0.9693\n",
      "\n"
     ]
    },
    {
     "name": "stdout",
     "output_type": "stream",
     "text": [
      "Epoch 60, Loss 0.0287\n",
      "Training Accuracy: 0.9655, Testing Accuracy: 0.9693\n",
      "\n"
     ]
    },
    {
     "name": "stdout",
     "output_type": "stream",
     "text": [
      "Epoch 70, Loss 0.0273\n",
      "Training Accuracy: 0.9674, Testing Accuracy: 0.9703\n",
      "\n"
     ]
    },
    {
     "name": "stdout",
     "output_type": "stream",
     "text": [
      "Epoch 80, Loss 0.0262\n",
      "Training Accuracy: 0.9695, Testing Accuracy: 0.9698\n",
      "\n"
     ]
    },
    {
     "name": "stdout",
     "output_type": "stream",
     "text": [
      "Epoch 90, Loss 0.0252\n",
      "Training Accuracy: 0.9710, Testing Accuracy: 0.9703\n",
      "\n"
     ]
    },
    {
     "name": "stdout",
     "output_type": "stream",
     "text": [
      "Epoch 100, Loss 0.0243\n",
      "Training Accuracy: 0.9720, Testing Accuracy: 0.9708\n",
      "\n"
     ]
    },
    {
     "name": "stdout",
     "output_type": "stream",
     "text": [
      "Epoch 110, Loss 0.0236\n",
      "Training Accuracy: 0.9730, Testing Accuracy: 0.9703\n",
      "\n"
     ]
    },
    {
     "name": "stdout",
     "output_type": "stream",
     "text": [
      "Epoch 120, Loss 0.0229\n",
      "Training Accuracy: 0.9737, Testing Accuracy: 0.9708\n",
      "\n"
     ]
    },
    {
     "name": "stdout",
     "output_type": "stream",
     "text": [
      "Epoch 130, Loss 0.0222\n",
      "Training Accuracy: 0.9740, Testing Accuracy: 0.9708\n",
      "\n"
     ]
    },
    {
     "name": "stdout",
     "output_type": "stream",
     "text": [
      "Epoch 140, Loss 0.0216\n",
      "Training Accuracy: 0.9752, Testing Accuracy: 0.9708\n",
      "\n"
     ]
    },
    {
     "name": "stdout",
     "output_type": "stream",
     "text": [
      "Epoch 150, Loss 0.021\n",
      "Training Accuracy: 0.9760, Testing Accuracy: 0.9708\n",
      "\n"
     ]
    },
    {
     "name": "stdout",
     "output_type": "stream",
     "text": [
      "Epoch 160, Loss 0.0205\n",
      "Training Accuracy: 0.9767, Testing Accuracy: 0.9718\n",
      "\n"
     ]
    },
    {
     "name": "stdout",
     "output_type": "stream",
     "text": [
      "Epoch 170, Loss 0.02\n",
      "Training Accuracy: 0.9776, Testing Accuracy: 0.9718\n",
      "\n"
     ]
    },
    {
     "name": "stdout",
     "output_type": "stream",
     "text": [
      "Epoch 180, Loss 0.0195\n",
      "Training Accuracy: 0.9781, Testing Accuracy: 0.9718\n",
      "\n"
     ]
    },
    {
     "name": "stdout",
     "output_type": "stream",
     "text": [
      "Epoch 190, Loss 0.019\n",
      "Training Accuracy: 0.9788, Testing Accuracy: 0.9728\n",
      "\n"
     ]
    },
    {
     "name": "stdout",
     "output_type": "stream",
     "text": [
      "Epoch 200, Loss 0.0185\n",
      "Training Accuracy: 0.9791, Testing Accuracy: 0.9733\n",
      "\n"
     ]
    },
    {
     "name": "stdout",
     "output_type": "stream",
     "text": [
      "Epoch 210, Loss 0.0181\n",
      "Training Accuracy: 0.9797, Testing Accuracy: 0.9733\n",
      "\n"
     ]
    },
    {
     "name": "stdout",
     "output_type": "stream",
     "text": [
      "Epoch 220, Loss 0.0176\n",
      "Training Accuracy: 0.9801, Testing Accuracy: 0.9738\n",
      "\n"
     ]
    },
    {
     "name": "stdout",
     "output_type": "stream",
     "text": [
      "Epoch 230, Loss 0.0172\n",
      "Training Accuracy: 0.9808, Testing Accuracy: 0.9753\n",
      "\n"
     ]
    },
    {
     "name": "stdout",
     "output_type": "stream",
     "text": [
      "Epoch 240, Loss 0.0168\n",
      "Training Accuracy: 0.9816, Testing Accuracy: 0.9758\n",
      "\n"
     ]
    },
    {
     "data": {
      "text/plain": [
       "0.00939892229455238"
      ]
     },
     "execution_count": 22,
     "metadata": {},
     "output_type": "execute_result"
    }
   ],
   "source": [
    "nn_learner.train_loop(dl)"
   ]
  },
  {
   "cell_type": "code",
   "execution_count": 23,
   "id": "e0163366",
   "metadata": {
    "execution": {
     "iopub.execute_input": "2022-08-22T20:13:57.897899Z",
     "iopub.status.busy": "2022-08-22T20:13:57.897135Z",
     "iopub.status.idle": "2022-08-22T20:14:18.545743Z",
     "shell.execute_reply": "2022-08-22T20:14:18.546768Z"
    },
    "papermill": {
     "duration": 20.707152,
     "end_time": "2022-08-22T20:14:18.546940",
     "exception": false,
     "start_time": "2022-08-22T20:13:57.839788",
     "status": "completed"
    },
    "tags": []
   },
   "outputs": [
    {
     "name": "stdout",
     "output_type": "stream",
     "text": [
      "Epoch 0, Loss 0.222\n",
      "Training Accuracy: 0.7276, Testing Accuracy: 0.7031\n",
      "\n"
     ]
    },
    {
     "name": "stdout",
     "output_type": "stream",
     "text": [
      "Epoch 10, Loss 0.1032\n",
      "Training Accuracy: 0.9031, Testing Accuracy: 0.9133\n",
      "\n"
     ]
    },
    {
     "name": "stdout",
     "output_type": "stream",
     "text": [
      "Epoch 20, Loss 0.0797\n",
      "Training Accuracy: 0.9237, Testing Accuracy: 0.9340\n",
      "\n"
     ]
    },
    {
     "name": "stdout",
     "output_type": "stream",
     "text": [
      "Epoch 30, Loss 0.0687\n",
      "Training Accuracy: 0.9342, Testing Accuracy: 0.9430\n",
      "\n"
     ]
    },
    {
     "name": "stdout",
     "output_type": "stream",
     "text": [
      "Epoch 40, Loss 0.062\n",
      "Training Accuracy: 0.9390, Testing Accuracy: 0.9506\n",
      "\n"
     ]
    },
    {
     "name": "stdout",
     "output_type": "stream",
     "text": [
      "Epoch 50, Loss 0.0574\n",
      "Training Accuracy: 0.9434, Testing Accuracy: 0.9546\n",
      "\n"
     ]
    },
    {
     "name": "stdout",
     "output_type": "stream",
     "text": [
      "Epoch 60, Loss 0.054\n",
      "Training Accuracy: 0.9466, Testing Accuracy: 0.9587\n",
      "\n"
     ]
    },
    {
     "name": "stdout",
     "output_type": "stream",
     "text": [
      "Epoch 70, Loss 0.0514\n",
      "Training Accuracy: 0.9483, Testing Accuracy: 0.9597\n",
      "\n"
     ]
    },
    {
     "name": "stdout",
     "output_type": "stream",
     "text": [
      "Epoch 80, Loss 0.0494\n",
      "Training Accuracy: 0.9503, Testing Accuracy: 0.9597\n",
      "\n"
     ]
    },
    {
     "name": "stdout",
     "output_type": "stream",
     "text": [
      "Epoch 90, Loss 0.0476\n",
      "Training Accuracy: 0.9518, Testing Accuracy: 0.9617\n",
      "\n"
     ]
    },
    {
     "name": "stdout",
     "output_type": "stream",
     "text": [
      "Epoch 100, Loss 0.0462\n",
      "Training Accuracy: 0.9523, Testing Accuracy: 0.9632\n",
      "\n"
     ]
    },
    {
     "name": "stdout",
     "output_type": "stream",
     "text": [
      "Epoch 110, Loss 0.045\n",
      "Training Accuracy: 0.9535, Testing Accuracy: 0.9632\n",
      "\n"
     ]
    },
    {
     "name": "stdout",
     "output_type": "stream",
     "text": [
      "Epoch 120, Loss 0.0439\n",
      "Training Accuracy: 0.9543, Testing Accuracy: 0.9642\n",
      "\n"
     ]
    },
    {
     "name": "stdout",
     "output_type": "stream",
     "text": [
      "Epoch 130, Loss 0.0429\n",
      "Training Accuracy: 0.9548, Testing Accuracy: 0.9642\n",
      "\n"
     ]
    },
    {
     "name": "stdout",
     "output_type": "stream",
     "text": [
      "Epoch 140, Loss 0.0421\n",
      "Training Accuracy: 0.9558, Testing Accuracy: 0.9647\n",
      "\n"
     ]
    },
    {
     "name": "stdout",
     "output_type": "stream",
     "text": [
      "Epoch 150, Loss 0.0413\n",
      "Training Accuracy: 0.9566, Testing Accuracy: 0.9652\n",
      "\n"
     ]
    },
    {
     "name": "stdout",
     "output_type": "stream",
     "text": [
      "Epoch 160, Loss 0.0407\n",
      "Training Accuracy: 0.9569, Testing Accuracy: 0.9647\n",
      "\n"
     ]
    },
    {
     "name": "stdout",
     "output_type": "stream",
     "text": [
      "Epoch 170, Loss 0.04\n",
      "Training Accuracy: 0.9575, Testing Accuracy: 0.9652\n",
      "\n"
     ]
    },
    {
     "name": "stdout",
     "output_type": "stream",
     "text": [
      "Epoch 180, Loss 0.0395\n",
      "Training Accuracy: 0.9578, Testing Accuracy: 0.9652\n",
      "\n"
     ]
    },
    {
     "name": "stdout",
     "output_type": "stream",
     "text": [
      "Epoch 190, Loss 0.0389\n",
      "Training Accuracy: 0.9584, Testing Accuracy: 0.9667\n",
      "\n"
     ]
    },
    {
     "name": "stdout",
     "output_type": "stream",
     "text": [
      "Epoch 200, Loss 0.0385\n",
      "Training Accuracy: 0.9584, Testing Accuracy: 0.9672\n",
      "\n"
     ]
    },
    {
     "name": "stdout",
     "output_type": "stream",
     "text": [
      "Epoch 210, Loss 0.038\n",
      "Training Accuracy: 0.9587, Testing Accuracy: 0.9677\n",
      "\n"
     ]
    },
    {
     "name": "stdout",
     "output_type": "stream",
     "text": [
      "Epoch 220, Loss 0.0376\n",
      "Training Accuracy: 0.9592, Testing Accuracy: 0.9672\n",
      "\n"
     ]
    },
    {
     "name": "stdout",
     "output_type": "stream",
     "text": [
      "Epoch 230, Loss 0.0372\n",
      "Training Accuracy: 0.9593, Testing Accuracy: 0.9677\n",
      "\n"
     ]
    },
    {
     "name": "stdout",
     "output_type": "stream",
     "text": [
      "Epoch 240, Loss 0.0368\n",
      "Training Accuracy: 0.9596, Testing Accuracy: 0.9682\n",
      "\n"
     ]
    },
    {
     "data": {
      "text/plain": [
       "0.04781126490878847"
      ]
     },
     "execution_count": 23,
     "metadata": {},
     "output_type": "execute_result"
    }
   ],
   "source": [
    "lr_learner.train_loop(dl)"
   ]
  },
  {
   "cell_type": "code",
   "execution_count": 24,
   "id": "ca410940",
   "metadata": {
    "execution": {
     "iopub.execute_input": "2022-08-22T20:14:18.666380Z",
     "iopub.status.busy": "2022-08-22T20:14:18.665595Z",
     "iopub.status.idle": "2022-08-22T20:14:19.020575Z",
     "shell.execute_reply": "2022-08-22T20:14:19.021175Z"
    },
    "papermill": {
     "duration": 0.415479,
     "end_time": "2022-08-22T20:14:19.021347",
     "exception": false,
     "start_time": "2022-08-22T20:14:18.605868",
     "status": "completed"
    },
    "tags": []
   },
   "outputs": [
    {
     "data": {
      "text/plain": [
       "<matplotlib.legend.Legend at 0x7fb3e6125f28>"
      ]
     },
     "execution_count": 24,
     "metadata": {},
     "output_type": "execute_result"
    },
    {
     "data": {
      "image/png": "[encoded data removed]",
      "text/plain": [
       "<Figure size 1080x720 with 1 Axes>"
      ]
     },
     "metadata": {
      "needs_background": "light"
     },
     "output_type": "display_data"
    }
   ],
   "source": [
    "#comparing the results of NN and LR\n",
    "plt.figure(figsize=(15,10))\n",
    "\n",
    "# Neural Network plots\n",
    "plt.plot(acc_nn.accuracies, 'r-', label = \"Training Accuracies - NN\")\n",
    "plt.plot(acc_nn.test_accuracies, 'g-', label = \"Testing Accuracies - NN\")\n",
    "\n",
    "# Logistic Regression plots\n",
    "plt.plot(acc_lr.accuracies, 'k-', label = \"Training Accuracies - LR\")\n",
    "plt.plot(acc_lr.test_accuracies, 'b-', label = \"Testing Accuracies - LR\")\n",
    "plt.legend()"
   ]
  },
  {
   "cell_type": "markdown",
   "id": "80dfb35c",
   "metadata": {
    "papermill": {
     "duration": 0.05488,
     "end_time": "2022-08-22T20:14:19.131778",
     "exception": false,
     "start_time": "2022-08-22T20:14:19.076898",
     "status": "completed"
    },
    "tags": []
   },
   "source": [
    "#### Plotting the outputs of this layer of the NN.\n"
   ]
  },
  {
   "cell_type": "code",
   "execution_count": 25,
   "id": "45eb2ff5",
   "metadata": {
    "execution": {
     "iopub.execute_input": "2022-08-22T20:14:19.252683Z",
     "iopub.status.busy": "2022-08-22T20:14:19.251907Z",
     "iopub.status.idle": "2022-08-22T20:14:19.291860Z",
     "shell.execute_reply": "2022-08-22T20:14:19.292470Z"
    },
    "papermill": {
     "duration": 0.101609,
     "end_time": "2022-08-22T20:14:19.292646",
     "exception": false,
     "start_time": "2022-08-22T20:14:19.191037",
     "status": "completed"
    },
    "tags": []
   },
   "outputs": [],
   "source": [
    "new_model = Model(layers[:-2])\n",
    "testing_plot = new_model(testing_data_x)"
   ]
  },
  {
   "cell_type": "code",
   "execution_count": 26,
   "id": "4c0a5485",
   "metadata": {
    "execution": {
     "iopub.execute_input": "2022-08-22T20:14:19.419872Z",
     "iopub.status.busy": "2022-08-22T20:14:19.419074Z",
     "iopub.status.idle": "2022-08-22T20:14:19.669984Z",
     "shell.execute_reply": "2022-08-22T20:14:19.669366Z"
    },
    "papermill": {
     "duration": 0.319286,
     "end_time": "2022-08-22T20:14:19.670149",
     "exception": false,
     "start_time": "2022-08-22T20:14:19.350863",
     "status": "completed"
    },
    "tags": []
   },
   "outputs": [
    {
     "data": {
      "text/plain": [
       "Text(0.5, 1.0, 'Outputs')"
      ]
     },
     "execution_count": 26,
     "metadata": {},
     "output_type": "execute_result"
    },
    {
     "data": {
      "image/png": "[encoded data removed]",
      "text/plain": [
       "<Figure size 576x504 with 1 Axes>"
      ]
     },
     "metadata": {
      "needs_background": "light"
     },
     "output_type": "display_data"
    }
   ],
   "source": [
    "# Plotting the scatter plot of points and color coding by class\n",
    "plt.figure(figsize=(8,7))\n",
    "plt.scatter(testing_plot[:,0], testing_plot[:,1], alpha = 0.1, c = y_test.ravel());\n",
    "plt.title('Outputs')"
   ]
  },
  {
   "cell_type": "markdown",
   "id": "a74fcf8f",
   "metadata": {
    "papermill": {
     "duration": 0.09918,
     "end_time": "2022-08-22T20:14:19.834524",
     "exception": false,
     "start_time": "2022-08-22T20:14:19.735344",
     "status": "completed"
    },
    "tags": []
   },
   "source": [
    "Probability contours"
   ]
  },
  {
   "cell_type": "code",
   "execution_count": 27,
   "id": "d0afc8e3",
   "metadata": {
    "execution": {
     "iopub.execute_input": "2022-08-22T20:14:19.960740Z",
     "iopub.status.busy": "2022-08-22T20:14:19.959596Z",
     "iopub.status.idle": "2022-08-22T20:14:19.974927Z",
     "shell.execute_reply": "2022-08-22T20:14:19.974269Z"
    },
    "papermill": {
     "duration": 0.080243,
     "end_time": "2022-08-22T20:14:19.975076",
     "exception": false,
     "start_time": "2022-08-22T20:14:19.894833",
     "status": "completed"
    },
    "tags": []
   },
   "outputs": [],
   "source": [
    "model_prob = Model(layers[-2:]) "
   ]
  },
  {
   "cell_type": "code",
   "execution_count": 28,
   "id": "9b96e238",
   "metadata": {
    "execution": {
     "iopub.execute_input": "2022-08-22T20:14:20.111375Z",
     "iopub.status.busy": "2022-08-22T20:14:20.110588Z",
     "iopub.status.idle": "2022-08-22T20:14:20.125801Z",
     "shell.execute_reply": "2022-08-22T20:14:20.126413Z"
    },
    "papermill": {
     "duration": 0.092418,
     "end_time": "2022-08-22T20:14:20.126586",
     "exception": false,
     "start_time": "2022-08-22T20:14:20.034168",
     "status": "completed"
    },
    "tags": []
   },
   "outputs": [],
   "source": [
    "#creating the x and y ranges according to the above generated plot.\n",
    "x_range = np.linspace(-4, 1, 100) \n",
    "y_range = np.linspace(-6, 6, 100) \n",
    "x_grid, y_grid = np.meshgrid(x_range, y_range) # x_grid and y_grig are of size 100 X 100\n",
    "\n",
    "# converting x_grid and y_grid to continuous arrays\n",
    "x_gridflat = np.ravel(x_grid)\n",
    "y_gridflat = np.ravel(y_grid)\n",
    "\n",
    "# The last layer of the current model takes two columns as input. Hence transpose of np.vstack() is required.\n",
    "X = np.vstack((x_gridflat, y_gridflat)).T\n",
    "\n",
    "prob_contour = model_prob(X).reshape(100,100) "
   ]
  },
  {
   "cell_type": "code",
   "execution_count": 29,
   "id": "da72499a",
   "metadata": {
    "execution": {
     "iopub.execute_input": "2022-08-22T20:14:20.252477Z",
     "iopub.status.busy": "2022-08-22T20:14:20.251568Z",
     "iopub.status.idle": "2022-08-22T20:14:20.573385Z",
     "shell.execute_reply": "2022-08-22T20:14:20.572766Z"
    },
    "papermill": {
     "duration": 0.386721,
     "end_time": "2022-08-22T20:14:20.573534",
     "exception": false,
     "start_time": "2022-08-22T20:14:20.186813",
     "status": "completed"
    },
    "tags": []
   },
   "outputs": [
    {
     "data": {
      "image/png": "[encoded data removed]",
      "text/plain": [
       "<Figure size 720x648 with 1 Axes>"
      ]
     },
     "metadata": {
      "needs_background": "light"
     },
     "output_type": "display_data"
    }
   ],
   "source": [
    "plt.figure(figsize=(10,9))\n",
    "plt.scatter(testing_plot[:,0], testing_plot[:,1], alpha = 0.1, c = y_test.ravel())\n",
    "contours = plt.contour(x_grid,y_grid,prob_contour)\n",
    "plt.title('Probability Contours')\n",
    "plt.clabel(contours, inline = True );"
   ]
  },
  {
   "cell_type": "code",
   "execution_count": null,
   "id": "e81b4ac7",
   "metadata": {
    "papermill": {
     "duration": 0.064183,
     "end_time": "2022-08-22T20:14:20.700787",
     "exception": false,
     "start_time": "2022-08-22T20:14:20.636604",
     "status": "completed"
    },
    "tags": []
   },
   "outputs": [],
   "source": []
  }
 ],
 "metadata": {
  "kernelspec": {
   "display_name": "Python 3",
   "language": "python",
   "name": "python3"
  },
  "language_info": {
   "codemirror_mode": {
    "name": "ipython",
    "version": 3
   },
   "file_extension": ".py",
   "mimetype": "text/x-python",
   "name": "python",
   "nbconvert_exporter": "python",
   "pygments_lexer": "ipython3",
   "version": "3.6.15"
  },
  "papermill": {
   "default_parameters": {},
   "duration": 174.355062,
   "end_time": "2022-08-22T20:14:21.287738",
   "environment_variables": {},
   "exception": null,
   "input_path": "2020-08-11-part2.ipynb",
   "output_path": "2020-08-11-part2.ipynb",
   "parameters": {},
   "start_time": "2022-08-22T20:11:26.932676",
   "version": "2.3.3"
  }
 },
 "nbformat": 4,
 "nbformat_minor": 5
}