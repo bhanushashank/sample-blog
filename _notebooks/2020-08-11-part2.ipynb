{
 "cells": [
  {
   "cell_type": "markdown",
   "id": "98380cd3",
   "metadata": {
    "papermill": {
     "duration": 0.028381,
     "end_time": "2022-01-14T20:09:21.348217",
     "exception": false,
     "start_time": "2022-01-14T20:09:21.319836",
     "status": "completed"
    },
    "tags": []
   },
   "source": [
    "# Distinguish Your Own Digits (DYOD)"
   ]
  },
  {
   "cell_type": "markdown",
   "id": "ef31240d",
   "metadata": {
    "papermill": {
     "duration": 0.023688,
     "end_time": "2022-01-14T20:09:21.396330",
     "exception": false,
     "start_time": "2022-01-14T20:09:21.372642",
     "status": "completed"
    },
    "tags": []
   },
   "source": [
    "You are going to write a classifier that distinguishes between the number 3 and number 8."
   ]
  },
  {
   "cell_type": "code",
   "execution_count": 1,
   "id": "b15c8646",
   "metadata": {
    "execution": {
     "iopub.execute_input": "2022-01-14T20:09:21.455311Z",
     "iopub.status.busy": "2022-01-14T20:09:21.454753Z",
     "iopub.status.idle": "2022-01-14T20:09:21.464889Z",
     "shell.execute_reply": "2022-01-14T20:09:21.465331Z"
    },
    "papermill": {
     "duration": 0.045418,
     "end_time": "2022-01-14T20:09:21.465479",
     "exception": false,
     "start_time": "2022-01-14T20:09:21.420061",
     "status": "completed"
    },
    "tags": []
   },
   "outputs": [],
   "source": [
    "%load_ext autoreload\n",
    "%autoreload 2"
   ]
  },
  {
   "cell_type": "code",
   "execution_count": 2,
   "id": "22ef38dc",
   "metadata": {
    "execution": {
     "iopub.execute_input": "2022-01-14T20:09:21.516933Z",
     "iopub.status.busy": "2022-01-14T20:09:21.516415Z",
     "iopub.status.idle": "2022-01-14T20:09:22.085453Z",
     "shell.execute_reply": "2022-01-14T20:09:22.085941Z"
    },
    "papermill": {
     "duration": 0.596909,
     "end_time": "2022-01-14T20:09:22.086104",
     "exception": false,
     "start_time": "2022-01-14T20:09:21.489195",
     "status": "completed"
    },
    "tags": []
   },
   "outputs": [],
   "source": [
    "%matplotlib inline\n",
    "import numpy as np\n",
    "import matplotlib.pyplot as plt\n",
    "import pandas as pd"
   ]
  },
  {
   "cell_type": "markdown",
   "id": "ba036198",
   "metadata": {
    "papermill": {
     "duration": 0.023805,
     "end_time": "2022-01-14T20:09:22.134011",
     "exception": false,
     "start_time": "2022-01-14T20:09:22.110206",
     "status": "completed"
    },
    "tags": []
   },
   "source": [
    "From the command line run `pip install mnist`. This is a library that will help you bring down the mnist dataset. If you run this from a notebook, you need to put  `!pip install mnist` in a cell by itself."
   ]
  },
  {
   "cell_type": "code",
   "execution_count": 3,
   "id": "bb6ad8a1",
   "metadata": {
    "execution": {
     "iopub.execute_input": "2022-01-14T20:09:22.185870Z",
     "iopub.status.busy": "2022-01-14T20:09:22.185361Z",
     "iopub.status.idle": "2022-01-14T20:09:24.718004Z",
     "shell.execute_reply": "2022-01-14T20:09:24.717181Z"
    },
    "papermill": {
     "duration": 2.560463,
     "end_time": "2022-01-14T20:09:24.718132",
     "exception": false,
     "start_time": "2022-01-14T20:09:22.157669",
     "status": "completed"
    },
    "tags": []
   },
   "outputs": [
    {
     "name": "stdout",
     "output_type": "stream",
     "text": [
      "Collecting mnist\r\n"
     ]
    },
    {
     "name": "stdout",
     "output_type": "stream",
     "text": [
      "  Downloading mnist-0.2.2-py2.py3-none-any.whl (3.5 kB)\r\n",
      "Requirement already satisfied: numpy in /opt/hostedtoolcache/Python/3.6.15/x64/lib/python3.6/site-packages (from mnist) (1.19.5)\r\n"
     ]
    },
    {
     "name": "stdout",
     "output_type": "stream",
     "text": [
      "Installing collected packages: mnist\r\n"
     ]
    },
    {
     "name": "stdout",
     "output_type": "stream",
     "text": [
      "Successfully installed mnist-0.2.2\r\n"
     ]
    }
   ],
   "source": [
    "!pip install mnist"
   ]
  },
  {
   "cell_type": "markdown",
   "id": "69df9c9a",
   "metadata": {
    "papermill": {
     "duration": 0.025124,
     "end_time": "2022-01-14T20:09:24.768099",
     "exception": false,
     "start_time": "2022-01-14T20:09:24.742975",
     "status": "completed"
    },
    "tags": []
   },
   "source": [
    "## Preparing the Data"
   ]
  },
  {
   "cell_type": "code",
   "execution_count": 4,
   "id": "7f69d806",
   "metadata": {
    "execution": {
     "iopub.execute_input": "2022-01-14T20:09:24.821105Z",
     "iopub.status.busy": "2022-01-14T20:09:24.820588Z",
     "iopub.status.idle": "2022-01-14T20:09:24.834506Z",
     "shell.execute_reply": "2022-01-14T20:09:24.834044Z"
    },
    "papermill": {
     "duration": 0.042063,
     "end_time": "2022-01-14T20:09:24.834622",
     "exception": false,
     "start_time": "2022-01-14T20:09:24.792559",
     "status": "completed"
    },
    "tags": []
   },
   "outputs": [],
   "source": [
    "import mnist"
   ]
  },
  {
   "cell_type": "code",
   "execution_count": 5,
   "id": "a411e44f",
   "metadata": {
    "execution": {
     "iopub.execute_input": "2022-01-14T20:09:24.887322Z",
     "iopub.status.busy": "2022-01-14T20:09:24.886796Z",
     "iopub.status.idle": "2022-01-14T20:09:25.496764Z",
     "shell.execute_reply": "2022-01-14T20:09:25.497272Z"
    },
    "papermill": {
     "duration": 0.638186,
     "end_time": "2022-01-14T20:09:25.497426",
     "exception": false,
     "start_time": "2022-01-14T20:09:24.859240",
     "status": "completed"
    },
    "tags": []
   },
   "outputs": [],
   "source": [
    "train_images = mnist.train_images()\n",
    "train_labels = mnist.train_labels()"
   ]
  },
  {
   "cell_type": "code",
   "execution_count": 6,
   "id": "dceab3a5",
   "metadata": {
    "execution": {
     "iopub.execute_input": "2022-01-14T20:09:25.551767Z",
     "iopub.status.busy": "2022-01-14T20:09:25.551250Z",
     "iopub.status.idle": "2022-01-14T20:09:25.563828Z",
     "shell.execute_reply": "2022-01-14T20:09:25.564307Z"
    },
    "papermill": {
     "duration": 0.042079,
     "end_time": "2022-01-14T20:09:25.564435",
     "exception": false,
     "start_time": "2022-01-14T20:09:25.522356",
     "status": "completed"
    },
    "tags": []
   },
   "outputs": [
    {
     "data": {
      "text/plain": [
       "((60000, 28, 28), (60000,))"
      ]
     },
     "execution_count": 6,
     "metadata": {},
     "output_type": "execute_result"
    }
   ],
   "source": [
    "train_images.shape, train_labels.shape"
   ]
  },
  {
   "cell_type": "code",
   "execution_count": 7,
   "id": "f50dc2bb",
   "metadata": {
    "execution": {
     "iopub.execute_input": "2022-01-14T20:09:25.623112Z",
     "iopub.status.busy": "2022-01-14T20:09:25.622584Z",
     "iopub.status.idle": "2022-01-14T20:09:25.870539Z",
     "shell.execute_reply": "2022-01-14T20:09:25.871068Z"
    },
    "papermill": {
     "duration": 0.281878,
     "end_time": "2022-01-14T20:09:25.871237",
     "exception": false,
     "start_time": "2022-01-14T20:09:25.589359",
     "status": "completed"
    },
    "tags": []
   },
   "outputs": [],
   "source": [
    "test_images = mnist.test_images()\n",
    "test_labels = mnist.test_labels()"
   ]
  },
  {
   "cell_type": "code",
   "execution_count": 8,
   "id": "fc38cf1b",
   "metadata": {
    "execution": {
     "iopub.execute_input": "2022-01-14T20:09:25.926151Z",
     "iopub.status.busy": "2022-01-14T20:09:25.925634Z",
     "iopub.status.idle": "2022-01-14T20:09:25.938109Z",
     "shell.execute_reply": "2022-01-14T20:09:25.937683Z"
    },
    "papermill": {
     "duration": 0.041466,
     "end_time": "2022-01-14T20:09:25.938224",
     "exception": false,
     "start_time": "2022-01-14T20:09:25.896758",
     "status": "completed"
    },
    "tags": []
   },
   "outputs": [
    {
     "data": {
      "text/plain": [
       "((10000, 28, 28), (10000,))"
      ]
     },
     "execution_count": 8,
     "metadata": {},
     "output_type": "execute_result"
    }
   ],
   "source": [
    "test_images.shape, test_labels.shape"
   ]
  },
  {
   "cell_type": "code",
   "execution_count": 9,
   "id": "f9ed8fe0",
   "metadata": {
    "execution": {
     "iopub.execute_input": "2022-01-14T20:09:25.992388Z",
     "iopub.status.busy": "2022-01-14T20:09:25.991875Z",
     "iopub.status.idle": "2022-01-14T20:09:26.127204Z",
     "shell.execute_reply": "2022-01-14T20:09:26.127674Z"
    },
    "papermill": {
     "duration": 0.164598,
     "end_time": "2022-01-14T20:09:26.127821",
     "exception": false,
     "start_time": "2022-01-14T20:09:25.963223",
     "status": "completed"
    },
    "tags": []
   },
   "outputs": [
    {
     "name": "stdout",
     "output_type": "stream",
     "text": [
      "2\n"
     ]
    },
    {
     "data": {
      "text/plain": [
       "<matplotlib.image.AxesImage at 0x7f34e14e74e0>"
      ]
     },
     "execution_count": 9,
     "metadata": {},
     "output_type": "execute_result"
    },
    {
     "data": {
      "image/png": "[encoded data removed]",
      "text/plain": [
       "<Figure size 432x288 with 1 Axes>"
      ]
     },
     "metadata": {
      "needs_background": "light"
     },
     "output_type": "display_data"
    }
   ],
   "source": [
    "image_index = 7776 # You may select anything up to 60,000\n",
    "print(train_labels[image_index]) \n",
    "plt.imshow(train_images[image_index], cmap='Greys')"
   ]
  },
  {
   "cell_type": "markdown",
   "id": "a8d2388d",
   "metadata": {
    "papermill": {
     "duration": 0.027177,
     "end_time": "2022-01-14T20:09:26.181445",
     "exception": false,
     "start_time": "2022-01-14T20:09:26.154268",
     "status": "completed"
    },
    "tags": []
   },
   "source": [
    "## Filter data to get 3 and 8 out"
   ]
  },
  {
   "cell_type": "code",
   "execution_count": 10,
   "id": "776f7fc7",
   "metadata": {
    "execution": {
     "iopub.execute_input": "2022-01-14T20:09:26.237632Z",
     "iopub.status.busy": "2022-01-14T20:09:26.237105Z",
     "iopub.status.idle": "2022-01-14T20:09:26.255361Z",
     "shell.execute_reply": "2022-01-14T20:09:26.254865Z"
    },
    "papermill": {
     "duration": 0.048033,
     "end_time": "2022-01-14T20:09:26.255494",
     "exception": false,
     "start_time": "2022-01-14T20:09:26.207461",
     "status": "completed"
    },
    "tags": []
   },
   "outputs": [],
   "source": [
    "train_filter = np.where((train_labels == 3 ) | (train_labels == 8))\n",
    "test_filter = np.where((test_labels == 3) | (test_labels == 8))\n",
    "X_train, y_train = train_images[train_filter], train_labels[train_filter]\n",
    "X_test, y_test = test_images[test_filter], test_labels[test_filter]"
   ]
  },
  {
   "cell_type": "markdown",
   "id": "948f0b7e",
   "metadata": {
    "papermill": {
     "duration": 0.026081,
     "end_time": "2022-01-14T20:09:26.308660",
     "exception": false,
     "start_time": "2022-01-14T20:09:26.282579",
     "status": "completed"
    },
    "tags": []
   },
   "source": [
    "We normalize the pizel values in the 0 to 1 range"
   ]
  },
  {
   "cell_type": "code",
   "execution_count": 11,
   "id": "ee4c2166",
   "metadata": {
    "execution": {
     "iopub.execute_input": "2022-01-14T20:09:26.364855Z",
     "iopub.status.busy": "2022-01-14T20:09:26.364318Z",
     "iopub.status.idle": "2022-01-14T20:09:26.410722Z",
     "shell.execute_reply": "2022-01-14T20:09:26.410173Z"
    },
    "papermill": {
     "duration": 0.076078,
     "end_time": "2022-01-14T20:09:26.410860",
     "exception": false,
     "start_time": "2022-01-14T20:09:26.334782",
     "status": "completed"
    },
    "tags": []
   },
   "outputs": [],
   "source": [
    "X_train = X_train/255.\n",
    "X_test = X_test/255."
   ]
  },
  {
   "cell_type": "markdown",
   "id": "ddcf4fab",
   "metadata": {
    "papermill": {
     "duration": 0.02608,
     "end_time": "2022-01-14T20:09:26.463636",
     "exception": false,
     "start_time": "2022-01-14T20:09:26.437556",
     "status": "completed"
    },
    "tags": []
   },
   "source": [
    "And setup the labels as 1 (when the digit is 3) and 0 (when the digit is 8)"
   ]
  },
  {
   "cell_type": "code",
   "execution_count": 12,
   "id": "7dc908f2",
   "metadata": {
    "execution": {
     "iopub.execute_input": "2022-01-14T20:09:26.526299Z",
     "iopub.status.busy": "2022-01-14T20:09:26.525768Z",
     "iopub.status.idle": "2022-01-14T20:09:26.533501Z",
     "shell.execute_reply": "2022-01-14T20:09:26.533911Z"
    },
    "papermill": {
     "duration": 0.044405,
     "end_time": "2022-01-14T20:09:26.534043",
     "exception": false,
     "start_time": "2022-01-14T20:09:26.489638",
     "status": "completed"
    },
    "tags": []
   },
   "outputs": [],
   "source": [
    "y_train = 1*(y_train==3)\n",
    "y_test = 1*(y_test==3)"
   ]
  },
  {
   "cell_type": "code",
   "execution_count": 13,
   "id": "01e4e969",
   "metadata": {
    "execution": {
     "iopub.execute_input": "2022-01-14T20:09:26.593644Z",
     "iopub.status.busy": "2022-01-14T20:09:26.593128Z",
     "iopub.status.idle": "2022-01-14T20:09:26.604304Z",
     "shell.execute_reply": "2022-01-14T20:09:26.603866Z"
    },
    "papermill": {
     "duration": 0.044227,
     "end_time": "2022-01-14T20:09:26.604415",
     "exception": false,
     "start_time": "2022-01-14T20:09:26.560188",
     "status": "completed"
    },
    "tags": []
   },
   "outputs": [
    {
     "data": {
      "text/plain": [
       "((11982, 28, 28), (1984, 28, 28))"
      ]
     },
     "execution_count": 13,
     "metadata": {},
     "output_type": "execute_result"
    }
   ],
   "source": [
    "X_train.shape, X_test.shape"
   ]
  },
  {
   "cell_type": "markdown",
   "id": "5ccf3f85",
   "metadata": {
    "papermill": {
     "duration": 0.026337,
     "end_time": "2022-01-14T20:09:26.657089",
     "exception": false,
     "start_time": "2022-01-14T20:09:26.630752",
     "status": "completed"
    },
    "tags": []
   },
   "source": [
    "We reshape the data to flatten the image pixels into a set of features or co-variates:"
   ]
  },
  {
   "cell_type": "code",
   "execution_count": 14,
   "id": "5286a4a3",
   "metadata": {
    "execution": {
     "iopub.execute_input": "2022-01-14T20:09:26.714311Z",
     "iopub.status.busy": "2022-01-14T20:09:26.713788Z",
     "iopub.status.idle": "2022-01-14T20:09:26.728421Z",
     "shell.execute_reply": "2022-01-14T20:09:26.728009Z"
    },
    "papermill": {
     "duration": 0.044499,
     "end_time": "2022-01-14T20:09:26.728535",
     "exception": false,
     "start_time": "2022-01-14T20:09:26.684036",
     "status": "completed"
    },
    "tags": []
   },
   "outputs": [
    {
     "data": {
      "text/plain": [
       "((11982, 784), (1984, 784))"
      ]
     },
     "execution_count": 14,
     "metadata": {},
     "output_type": "execute_result"
    }
   ],
   "source": [
    "X_train = X_train.reshape(X_train.shape[0], -1)\n",
    "X_test = X_test.reshape(X_test.shape[0], -1)\n",
    "X_train.shape, X_test.shape"
   ]
  },
  {
   "cell_type": "code",
   "execution_count": 15,
   "id": "73c5f88a",
   "metadata": {
    "execution": {
     "iopub.execute_input": "2022-01-14T20:09:26.786324Z",
     "iopub.status.busy": "2022-01-14T20:09:26.785806Z",
     "iopub.status.idle": "2022-01-14T20:09:26.804625Z",
     "shell.execute_reply": "2022-01-14T20:09:26.804155Z"
    },
    "papermill": {
     "duration": 0.049555,
     "end_time": "2022-01-14T20:09:26.804752",
     "exception": false,
     "start_time": "2022-01-14T20:09:26.755197",
     "status": "completed"
    },
    "tags": []
   },
   "outputs": [],
   "source": [
    "#Impoting functions from 'Kudzu'\n",
    "from kudzu.model import Model\n",
    "from kudzu.train import Learner\n",
    "from kudzu.optim import GD\n",
    "from kudzu.data import Data, Sampler,Dataloader\n",
    "\n",
    "from kudzu.callbacks import AccCallback\n",
    "from kudzu.callbacks import ClfCallback\n",
    "\n",
    "from kudzu.loss import MSE\n",
    "\n",
    "from kudzu.layer import Sigmoid,Relu\n",
    "from kudzu.layer import Affine"
   ]
  },
  {
   "cell_type": "markdown",
   "id": "bc01172a",
   "metadata": {
    "papermill": {
     "duration": 0.026657,
     "end_time": "2022-01-14T20:09:26.859073",
     "exception": false,
     "start_time": "2022-01-14T20:09:26.832416",
     "status": "completed"
    },
    "tags": []
   },
   "source": [
    "### Let us create a `Config` class, to store important parameters. \n",
    "This class essentially plays the role of a dictionary."
   ]
  },
  {
   "cell_type": "code",
   "execution_count": 16,
   "id": "978281aa",
   "metadata": {
    "execution": {
     "iopub.execute_input": "2022-01-14T20:09:26.919606Z",
     "iopub.status.busy": "2022-01-14T20:09:26.919061Z",
     "iopub.status.idle": "2022-01-14T20:09:26.929500Z",
     "shell.execute_reply": "2022-01-14T20:09:26.929912Z"
    },
    "papermill": {
     "duration": 0.044473,
     "end_time": "2022-01-14T20:09:26.930044",
     "exception": false,
     "start_time": "2022-01-14T20:09:26.885571",
     "status": "completed"
    },
    "tags": []
   },
   "outputs": [],
   "source": [
    "class Config:\n",
    "    pass\n",
    "config = Config()\n",
    "config.lr = 0.001\n",
    "config.num_epochs = 250\n",
    "config.bs = 50"
   ]
  },
  {
   "cell_type": "markdown",
   "id": "1385fa59",
   "metadata": {
    "papermill": {
     "duration": 0.026739,
     "end_time": "2022-01-14T20:09:26.983480",
     "exception": false,
     "start_time": "2022-01-14T20:09:26.956741",
     "status": "completed"
    },
    "tags": []
   },
   "source": [
    "### Running Models with the Training data\n",
    "Details about the network layers:\n",
    "- A first affine layer has 784 inputs and does 100 affine transforms. These are followed by a Relu\n",
    "- A second affine layer has 100 inputs from the 100 activations of the past layer, and does 100 affine transforms. These are followed by a Relu\n",
    "- A third affine layer has 100 activations and does 2 affine transformations to create an embedding for visualization. There is no non-linearity here.\n",
    "- A final \"logistic regression\" which has an affine transform from 2 inputs to 1 output, which is squeezed through a sigmoid.\n"
   ]
  },
  {
   "cell_type": "code",
   "execution_count": 17,
   "id": "2b9c66db",
   "metadata": {
    "execution": {
     "iopub.execute_input": "2022-01-14T20:09:27.051386Z",
     "iopub.status.busy": "2022-01-14T20:09:27.048347Z",
     "iopub.status.idle": "2022-01-14T20:09:27.056123Z",
     "shell.execute_reply": "2022-01-14T20:09:27.055666Z"
    },
    "papermill": {
     "duration": 0.046195,
     "end_time": "2022-01-14T20:09:27.056234",
     "exception": false,
     "start_time": "2022-01-14T20:09:27.010039",
     "status": "completed"
    },
    "tags": []
   },
   "outputs": [],
   "source": [
    "data = Data(X_train, y_train.reshape(-1,1))\n",
    "sampler = Sampler(data, config.bs, shuffle=True)\n",
    "\n",
    "dl = Dataloader(data, sampler)\n",
    "\n",
    "opt = GD(config.lr)\n",
    "loss = MSE()"
   ]
  },
  {
   "cell_type": "code",
   "execution_count": 18,
   "id": "b275e4c2",
   "metadata": {
    "execution": {
     "iopub.execute_input": "2022-01-14T20:09:27.116481Z",
     "iopub.status.busy": "2022-01-14T20:09:27.115947Z",
     "iopub.status.idle": "2022-01-14T20:09:27.128184Z",
     "shell.execute_reply": "2022-01-14T20:09:27.127763Z"
    },
    "papermill": {
     "duration": 0.045161,
     "end_time": "2022-01-14T20:09:27.128302",
     "exception": false,
     "start_time": "2022-01-14T20:09:27.083141",
     "status": "completed"
    },
    "tags": []
   },
   "outputs": [],
   "source": [
    "training_data_x = X_train\n",
    "testing_data_x = X_test\n",
    "training_data_y = y_train.reshape(-1,1)\n",
    "testing_data_y = y_test.reshape(-1,1)"
   ]
  },
  {
   "cell_type": "code",
   "execution_count": 19,
   "id": "76951160",
   "metadata": {
    "execution": {
     "iopub.execute_input": "2022-01-14T20:09:27.185826Z",
     "iopub.status.busy": "2022-01-14T20:09:27.185294Z",
     "iopub.status.idle": "2022-01-14T20:09:27.201035Z",
     "shell.execute_reply": "2022-01-14T20:09:27.201471Z"
    },
    "papermill": {
     "duration": 0.046727,
     "end_time": "2022-01-14T20:09:27.201600",
     "exception": false,
     "start_time": "2022-01-14T20:09:27.154873",
     "status": "completed"
    },
    "tags": []
   },
   "outputs": [
    {
     "name": "stdout",
     "output_type": "stream",
     "text": [
      "xavier\n",
      "xavier\n",
      "xavier\n",
      "xavier\n",
      "xavier\n"
     ]
    }
   ],
   "source": [
    "layers = [Affine(\"first\", 784, 100), Relu(\"first\"), Affine(\"second\", 100, 100), Relu(\"second\"), Affine(\"third\", 100, 2), Affine(\"last\", 2, 1), Sigmoid(\"last\")]\n",
    "model_nn = Model(layers)\n",
    "model_lr = Model([Affine(\"logits\", 784, 1), Sigmoid(\"sigmoid\")])"
   ]
  },
  {
   "cell_type": "code",
   "execution_count": 20,
   "id": "6eede77a",
   "metadata": {
    "execution": {
     "iopub.execute_input": "2022-01-14T20:09:27.260086Z",
     "iopub.status.busy": "2022-01-14T20:09:27.259153Z",
     "iopub.status.idle": "2022-01-14T20:09:27.271923Z",
     "shell.execute_reply": "2022-01-14T20:09:27.272334Z"
    },
    "papermill": {
     "duration": 0.043942,
     "end_time": "2022-01-14T20:09:27.272463",
     "exception": false,
     "start_time": "2022-01-14T20:09:27.228521",
     "status": "completed"
    },
    "tags": []
   },
   "outputs": [],
   "source": [
    "nn_learner = Learner(loss, model_nn, opt, config.num_epochs)\n",
    "acc_nn = ClfCallback(nn_learner, config.bs, training_data_x , testing_data_x, training_data_y, testing_data_y)\n",
    "nn_learner.set_callbacks([acc_nn])"
   ]
  },
  {
   "cell_type": "code",
   "execution_count": 21,
   "id": "877b6cc7",
   "metadata": {
    "execution": {
     "iopub.execute_input": "2022-01-14T20:09:27.331214Z",
     "iopub.status.busy": "2022-01-14T20:09:27.330671Z",
     "iopub.status.idle": "2022-01-14T20:09:27.342484Z",
     "shell.execute_reply": "2022-01-14T20:09:27.342043Z"
    },
    "papermill": {
     "duration": 0.042826,
     "end_time": "2022-01-14T20:09:27.342604",
     "exception": false,
     "start_time": "2022-01-14T20:09:27.299778",
     "status": "completed"
    },
    "tags": []
   },
   "outputs": [],
   "source": [
    "lr_learner = Learner(loss, model_lr, opt, config.num_epochs)\n",
    "acc_lr = ClfCallback(lr_learner, config.bs, training_data_x , testing_data_x, training_data_y, testing_data_y)\n",
    "lr_learner.set_callbacks([acc_lr])"
   ]
  },
  {
   "cell_type": "code",
   "execution_count": 22,
   "id": "d9b133c3",
   "metadata": {
    "execution": {
     "iopub.execute_input": "2022-01-14T20:09:27.400697Z",
     "iopub.status.busy": "2022-01-14T20:09:27.400186Z",
     "iopub.status.idle": "2022-01-14T20:10:42.430663Z",
     "shell.execute_reply": "2022-01-14T20:10:42.431163Z"
    },
    "papermill": {
     "duration": 75.061586,
     "end_time": "2022-01-14T20:10:42.431298",
     "exception": false,
     "start_time": "2022-01-14T20:09:27.369712",
     "status": "completed"
    },
    "tags": []
   },
   "outputs": [
    {
     "name": "stdout",
     "output_type": "stream",
     "text": [
      "Epoch 0, Loss 0.2474\n",
      "Training Accuracy: 0.5121, Testing Accuracy: 0.5091\n",
      "\n"
     ]
    },
    {
     "name": "stdout",
     "output_type": "stream",
     "text": [
      "Epoch 10, Loss 0.2324\n",
      "Training Accuracy: 0.6195, Testing Accuracy: 0.6290\n",
      "\n"
     ]
    },
    {
     "name": "stdout",
     "output_type": "stream",
     "text": [
      "Epoch 20, Loss 0.18\n",
      "Training Accuracy: 0.8533, Testing Accuracy: 0.8533\n",
      "\n"
     ]
    },
    {
     "name": "stdout",
     "output_type": "stream",
     "text": [
      "Epoch 30, Loss 0.0961\n",
      "Training Accuracy: 0.9106, Testing Accuracy: 0.9194\n",
      "\n"
     ]
    },
    {
     "name": "stdout",
     "output_type": "stream",
     "text": [
      "Epoch 40, Loss 0.0614\n",
      "Training Accuracy: 0.9345, Testing Accuracy: 0.9476\n",
      "\n"
     ]
    },
    {
     "name": "stdout",
     "output_type": "stream",
     "text": [
      "Epoch 50, Loss 0.0474\n",
      "Training Accuracy: 0.9486, Testing Accuracy: 0.9561\n",
      "\n"
     ]
    },
    {
     "name": "stdout",
     "output_type": "stream",
     "text": [
      "Epoch 60, Loss 0.0402\n",
      "Training Accuracy: 0.9554, Testing Accuracy: 0.9622\n",
      "\n"
     ]
    },
    {
     "name": "stdout",
     "output_type": "stream",
     "text": [
      "Epoch 70, Loss 0.036\n",
      "Training Accuracy: 0.9598, Testing Accuracy: 0.9647\n",
      "\n"
     ]
    },
    {
     "name": "stdout",
     "output_type": "stream",
     "text": [
      "Epoch 80, Loss 0.0332\n",
      "Training Accuracy: 0.9629, Testing Accuracy: 0.9672\n",
      "\n"
     ]
    },
    {
     "name": "stdout",
     "output_type": "stream",
     "text": [
      "Epoch 90, Loss 0.0311\n",
      "Training Accuracy: 0.9659, Testing Accuracy: 0.9693\n",
      "\n"
     ]
    },
    {
     "name": "stdout",
     "output_type": "stream",
     "text": [
      "Epoch 100, Loss 0.0295\n",
      "Training Accuracy: 0.9664, Testing Accuracy: 0.9698\n",
      "\n"
     ]
    },
    {
     "name": "stdout",
     "output_type": "stream",
     "text": [
      "Epoch 110, Loss 0.0283\n",
      "Training Accuracy: 0.9680, Testing Accuracy: 0.9703\n",
      "\n"
     ]
    },
    {
     "name": "stdout",
     "output_type": "stream",
     "text": [
      "Epoch 120, Loss 0.0272\n",
      "Training Accuracy: 0.9693, Testing Accuracy: 0.9703\n",
      "\n"
     ]
    },
    {
     "name": "stdout",
     "output_type": "stream",
     "text": [
      "Epoch 130, Loss 0.0263\n",
      "Training Accuracy: 0.9702, Testing Accuracy: 0.9708\n",
      "\n"
     ]
    },
    {
     "name": "stdout",
     "output_type": "stream",
     "text": [
      "Epoch 140, Loss 0.0255\n",
      "Training Accuracy: 0.9709, Testing Accuracy: 0.9708\n",
      "\n"
     ]
    },
    {
     "name": "stdout",
     "output_type": "stream",
     "text": [
      "Epoch 150, Loss 0.0247\n",
      "Training Accuracy: 0.9715, Testing Accuracy: 0.9718\n",
      "\n"
     ]
    },
    {
     "name": "stdout",
     "output_type": "stream",
     "text": [
      "Epoch 160, Loss 0.0241\n",
      "Training Accuracy: 0.9730, Testing Accuracy: 0.9728\n",
      "\n"
     ]
    },
    {
     "name": "stdout",
     "output_type": "stream",
     "text": [
      "Epoch 170, Loss 0.0235\n",
      "Training Accuracy: 0.9735, Testing Accuracy: 0.9728\n",
      "\n"
     ]
    },
    {
     "name": "stdout",
     "output_type": "stream",
     "text": [
      "Epoch 180, Loss 0.023\n",
      "Training Accuracy: 0.9742, Testing Accuracy: 0.9738\n",
      "\n"
     ]
    },
    {
     "name": "stdout",
     "output_type": "stream",
     "text": [
      "Epoch 190, Loss 0.0224\n",
      "Training Accuracy: 0.9749, Testing Accuracy: 0.9733\n",
      "\n"
     ]
    },
    {
     "name": "stdout",
     "output_type": "stream",
     "text": [
      "Epoch 200, Loss 0.022\n",
      "Training Accuracy: 0.9752, Testing Accuracy: 0.9738\n",
      "\n"
     ]
    },
    {
     "name": "stdout",
     "output_type": "stream",
     "text": [
      "Epoch 210, Loss 0.0215\n",
      "Training Accuracy: 0.9755, Testing Accuracy: 0.9738\n",
      "\n"
     ]
    },
    {
     "name": "stdout",
     "output_type": "stream",
     "text": [
      "Epoch 220, Loss 0.0211\n",
      "Training Accuracy: 0.9760, Testing Accuracy: 0.9743\n",
      "\n"
     ]
    },
    {
     "name": "stdout",
     "output_type": "stream",
     "text": [
      "Epoch 230, Loss 0.0207\n",
      "Training Accuracy: 0.9764, Testing Accuracy: 0.9753\n",
      "\n"
     ]
    },
    {
     "name": "stdout",
     "output_type": "stream",
     "text": [
      "Epoch 240, Loss 0.0203\n",
      "Training Accuracy: 0.9768, Testing Accuracy: 0.9753\n",
      "\n"
     ]
    },
    {
     "data": {
      "text/plain": [
       "0.06556191499873261"
      ]
     },
     "execution_count": 22,
     "metadata": {},
     "output_type": "execute_result"
    }
   ],
   "source": [
    "nn_learner.train_loop(dl)"
   ]
  },
  {
   "cell_type": "code",
   "execution_count": 23,
   "id": "e0163366",
   "metadata": {
    "execution": {
     "iopub.execute_input": "2022-01-14T20:10:42.507941Z",
     "iopub.status.busy": "2022-01-14T20:10:42.507414Z",
     "iopub.status.idle": "2022-01-14T20:10:55.836725Z",
     "shell.execute_reply": "2022-01-14T20:10:55.837475Z"
    },
    "papermill": {
     "duration": 13.372171,
     "end_time": "2022-01-14T20:10:55.837619",
     "exception": false,
     "start_time": "2022-01-14T20:10:42.465448",
     "status": "completed"
    },
    "tags": []
   },
   "outputs": [
    {
     "name": "stdout",
     "output_type": "stream",
     "text": [
      "Epoch 0, Loss 0.239\n",
      "Training Accuracy: 0.7001, Testing Accuracy: 0.7117\n",
      "\n"
     ]
    },
    {
     "name": "stdout",
     "output_type": "stream",
     "text": [
      "Epoch 10, Loss 0.1039\n",
      "Training Accuracy: 0.9079, Testing Accuracy: 0.9209\n",
      "\n"
     ]
    },
    {
     "name": "stdout",
     "output_type": "stream",
     "text": [
      "Epoch 20, Loss 0.0796\n",
      "Training Accuracy: 0.9254, Testing Accuracy: 0.9410\n",
      "\n"
     ]
    },
    {
     "name": "stdout",
     "output_type": "stream",
     "text": [
      "Epoch 30, Loss 0.0685\n",
      "Training Accuracy: 0.9357, Testing Accuracy: 0.9471\n",
      "\n"
     ]
    },
    {
     "name": "stdout",
     "output_type": "stream",
     "text": [
      "Epoch 40, Loss 0.0618\n",
      "Training Accuracy: 0.9420, Testing Accuracy: 0.9531\n",
      "\n"
     ]
    },
    {
     "name": "stdout",
     "output_type": "stream",
     "text": [
      "Epoch 50, Loss 0.0573\n",
      "Training Accuracy: 0.9460, Testing Accuracy: 0.9561\n",
      "\n"
     ]
    },
    {
     "name": "stdout",
     "output_type": "stream",
     "text": [
      "Epoch 60, Loss 0.054\n",
      "Training Accuracy: 0.9473, Testing Accuracy: 0.9587\n",
      "\n"
     ]
    },
    {
     "name": "stdout",
     "output_type": "stream",
     "text": [
      "Epoch 70, Loss 0.0514\n",
      "Training Accuracy: 0.9495, Testing Accuracy: 0.9617\n",
      "\n"
     ]
    },
    {
     "name": "stdout",
     "output_type": "stream",
     "text": [
      "Epoch 80, Loss 0.0493\n",
      "Training Accuracy: 0.9509, Testing Accuracy: 0.9627\n",
      "\n"
     ]
    },
    {
     "name": "stdout",
     "output_type": "stream",
     "text": [
      "Epoch 90, Loss 0.0476\n",
      "Training Accuracy: 0.9523, Testing Accuracy: 0.9647\n",
      "\n"
     ]
    },
    {
     "name": "stdout",
     "output_type": "stream",
     "text": [
      "Epoch 100, Loss 0.0462\n",
      "Training Accuracy: 0.9538, Testing Accuracy: 0.9647\n",
      "\n"
     ]
    },
    {
     "name": "stdout",
     "output_type": "stream",
     "text": [
      "Epoch 110, Loss 0.045\n",
      "Training Accuracy: 0.9543, Testing Accuracy: 0.9667\n",
      "\n"
     ]
    },
    {
     "name": "stdout",
     "output_type": "stream",
     "text": [
      "Epoch 120, Loss 0.0439\n",
      "Training Accuracy: 0.9550, Testing Accuracy: 0.9672\n",
      "\n"
     ]
    },
    {
     "name": "stdout",
     "output_type": "stream",
     "text": [
      "Epoch 130, Loss 0.043\n",
      "Training Accuracy: 0.9556, Testing Accuracy: 0.9667\n",
      "\n"
     ]
    },
    {
     "name": "stdout",
     "output_type": "stream",
     "text": [
      "Epoch 140, Loss 0.0422\n",
      "Training Accuracy: 0.9564, Testing Accuracy: 0.9667\n",
      "\n"
     ]
    },
    {
     "name": "stdout",
     "output_type": "stream",
     "text": [
      "Epoch 150, Loss 0.0414\n",
      "Training Accuracy: 0.9574, Testing Accuracy: 0.9667\n",
      "\n"
     ]
    },
    {
     "name": "stdout",
     "output_type": "stream",
     "text": [
      "Epoch 160, Loss 0.0408\n",
      "Training Accuracy: 0.9582, Testing Accuracy: 0.9672\n",
      "\n"
     ]
    },
    {
     "name": "stdout",
     "output_type": "stream",
     "text": [
      "Epoch 170, Loss 0.0401\n",
      "Training Accuracy: 0.9585, Testing Accuracy: 0.9672\n",
      "\n"
     ]
    },
    {
     "name": "stdout",
     "output_type": "stream",
     "text": [
      "Epoch 180, Loss 0.0396\n",
      "Training Accuracy: 0.9589, Testing Accuracy: 0.9672\n",
      "\n"
     ]
    },
    {
     "name": "stdout",
     "output_type": "stream",
     "text": [
      "Epoch 190, Loss 0.0391\n",
      "Training Accuracy: 0.9595, Testing Accuracy: 0.9672\n",
      "\n"
     ]
    },
    {
     "name": "stdout",
     "output_type": "stream",
     "text": [
      "Epoch 200, Loss 0.0386\n",
      "Training Accuracy: 0.9599, Testing Accuracy: 0.9672\n",
      "\n"
     ]
    },
    {
     "name": "stdout",
     "output_type": "stream",
     "text": [
      "Epoch 210, Loss 0.0382\n",
      "Training Accuracy: 0.9606, Testing Accuracy: 0.9667\n",
      "\n"
     ]
    },
    {
     "name": "stdout",
     "output_type": "stream",
     "text": [
      "Epoch 220, Loss 0.0377\n",
      "Training Accuracy: 0.9609, Testing Accuracy: 0.9672\n",
      "\n"
     ]
    },
    {
     "name": "stdout",
     "output_type": "stream",
     "text": [
      "Epoch 230, Loss 0.0374\n",
      "Training Accuracy: 0.9611, Testing Accuracy: 0.9672\n",
      "\n"
     ]
    },
    {
     "name": "stdout",
     "output_type": "stream",
     "text": [
      "Epoch 240, Loss 0.037\n",
      "Training Accuracy: 0.9612, Testing Accuracy: 0.9677\n",
      "\n"
     ]
    },
    {
     "data": {
      "text/plain": [
       "0.06481624960816063"
      ]
     },
     "execution_count": 23,
     "metadata": {},
     "output_type": "execute_result"
    }
   ],
   "source": [
    "lr_learner.train_loop(dl)"
   ]
  },
  {
   "cell_type": "code",
   "execution_count": 24,
   "id": "ca410940",
   "metadata": {
    "execution": {
     "iopub.execute_input": "2022-01-14T20:10:55.928318Z",
     "iopub.status.busy": "2022-01-14T20:10:55.927774Z",
     "iopub.status.idle": "2022-01-14T20:10:56.151999Z",
     "shell.execute_reply": "2022-01-14T20:10:56.151249Z"
    },
    "papermill": {
     "duration": 0.273075,
     "end_time": "2022-01-14T20:10:56.152126",
     "exception": false,
     "start_time": "2022-01-14T20:10:55.879051",
     "status": "completed"
    },
    "tags": []
   },
   "outputs": [
    {
     "data": {
      "text/plain": [
       "<matplotlib.legend.Legend at 0x7f34e10c1c50>"
      ]
     },
     "execution_count": 24,
     "metadata": {},
     "output_type": "execute_result"
    },
    {
     "data": {
      "image/png": "[encoded data removed]",
      "text/plain": [
       "<Figure size 1080x720 with 1 Axes>"
      ]
     },
     "metadata": {
      "needs_background": "light"
     },
     "output_type": "display_data"
    }
   ],
   "source": [
    "#comparing the results of NN and LR\n",
    "plt.figure(figsize=(15,10))\n",
    "\n",
    "# Neural Network plots\n",
    "plt.plot(acc_nn.accuracies, 'r-', label = \"Training Accuracies - NN\")\n",
    "plt.plot(acc_nn.test_accuracies, 'g-', label = \"Testing Accuracies - NN\")\n",
    "\n",
    "# Logistic Regression plots\n",
    "plt.plot(acc_lr.accuracies, 'k-', label = \"Training Accuracies - LR\")\n",
    "plt.plot(acc_lr.test_accuracies, 'b-', label = \"Testing Accuracies - LR\")\n",
    "plt.legend()"
   ]
  },
  {
   "cell_type": "markdown",
   "id": "80dfb35c",
   "metadata": {
    "papermill": {
     "duration": 0.04156,
     "end_time": "2022-01-14T20:10:56.237411",
     "exception": false,
     "start_time": "2022-01-14T20:10:56.195851",
     "status": "completed"
    },
    "tags": []
   },
   "source": [
    "#### Plotting the outputs of this layer of the NN.\n"
   ]
  },
  {
   "cell_type": "code",
   "execution_count": 25,
   "id": "45eb2ff5",
   "metadata": {
    "execution": {
     "iopub.execute_input": "2022-01-14T20:10:56.327225Z",
     "iopub.status.busy": "2022-01-14T20:10:56.323953Z",
     "iopub.status.idle": "2022-01-14T20:10:56.344267Z",
     "shell.execute_reply": "2022-01-14T20:10:56.343810Z"
    },
    "papermill": {
     "duration": 0.065372,
     "end_time": "2022-01-14T20:10:56.344395",
     "exception": false,
     "start_time": "2022-01-14T20:10:56.279023",
     "status": "completed"
    },
    "tags": []
   },
   "outputs": [],
   "source": [
    "new_model = Model(layers[:-2])\n",
    "testing_plot = new_model(testing_data_x)"
   ]
  },
  {
   "cell_type": "code",
   "execution_count": 26,
   "id": "4c0a5485",
   "metadata": {
    "execution": {
     "iopub.execute_input": "2022-01-14T20:10:56.439582Z",
     "iopub.status.busy": "2022-01-14T20:10:56.436802Z",
     "iopub.status.idle": "2022-01-14T20:10:56.631520Z",
     "shell.execute_reply": "2022-01-14T20:10:56.631069Z"
    },
    "papermill": {
     "duration": 0.24456,
     "end_time": "2022-01-14T20:10:56.631640",
     "exception": false,
     "start_time": "2022-01-14T20:10:56.387080",
     "status": "completed"
    },
    "tags": []
   },
   "outputs": [
    {
     "data": {
      "text/plain": [
       "Text(0.5, 1.0, 'Outputs')"
      ]
     },
     "execution_count": 26,
     "metadata": {},
     "output_type": "execute_result"
    },
    {
     "data": {
      "image/png": "[encoded data removed]",
      "text/plain": [
       "<Figure size 576x504 with 1 Axes>"
      ]
     },
     "metadata": {
      "needs_background": "light"
     },
     "output_type": "display_data"
    }
   ],
   "source": [
    "# Plotting the scatter plot of points and color coding by class\n",
    "plt.figure(figsize=(8,7))\n",
    "plt.scatter(testing_plot[:,0], testing_plot[:,1], alpha = 0.1, c = y_test.ravel());\n",
    "plt.title('Outputs')"
   ]
  },
  {
   "cell_type": "markdown",
   "id": "a74fcf8f",
   "metadata": {
    "papermill": {
     "duration": 0.043504,
     "end_time": "2022-01-14T20:10:56.718826",
     "exception": false,
     "start_time": "2022-01-14T20:10:56.675322",
     "status": "completed"
    },
    "tags": []
   },
   "source": [
    "Probability contours"
   ]
  },
  {
   "cell_type": "code",
   "execution_count": 27,
   "id": "d0afc8e3",
   "metadata": {
    "execution": {
     "iopub.execute_input": "2022-01-14T20:10:56.810203Z",
     "iopub.status.busy": "2022-01-14T20:10:56.809660Z",
     "iopub.status.idle": "2022-01-14T20:10:56.820484Z",
     "shell.execute_reply": "2022-01-14T20:10:56.820896Z"
    },
    "papermill": {
     "duration": 0.058804,
     "end_time": "2022-01-14T20:10:56.821029",
     "exception": false,
     "start_time": "2022-01-14T20:10:56.762225",
     "status": "completed"
    },
    "tags": []
   },
   "outputs": [],
   "source": [
    "model_prob = Model(layers[-2:]) "
   ]
  },
  {
   "cell_type": "code",
   "execution_count": 28,
   "id": "9b96e238",
   "metadata": {
    "execution": {
     "iopub.execute_input": "2022-01-14T20:10:56.947459Z",
     "iopub.status.busy": "2022-01-14T20:10:56.944800Z",
     "iopub.status.idle": "2022-01-14T20:10:56.955494Z",
     "shell.execute_reply": "2022-01-14T20:10:56.955075Z"
    },
    "papermill": {
     "duration": 0.090972,
     "end_time": "2022-01-14T20:10:56.955608",
     "exception": false,
     "start_time": "2022-01-14T20:10:56.864636",
     "status": "completed"
    },
    "tags": []
   },
   "outputs": [],
   "source": [
    "#creating the x and y ranges according to the above generated plot.\n",
    "x_range = np.linspace(-4, 1, 100) \n",
    "y_range = np.linspace(-6, 6, 100) \n",
    "x_grid, y_grid = np.meshgrid(x_range, y_range) # x_grid and y_grig are of size 100 X 100\n",
    "\n",
    "# converting x_grid and y_grid to continuous arrays\n",
    "x_gridflat = np.ravel(x_grid)\n",
    "y_gridflat = np.ravel(y_grid)\n",
    "\n",
    "# The last layer of the current model takes two columns as input. Hence transpose of np.vstack() is required.\n",
    "X = np.vstack((x_gridflat, y_gridflat)).T\n",
    "\n",
    "prob_contour = model_prob(X).reshape(100,100) "
   ]
  },
  {
   "cell_type": "code",
   "execution_count": 29,
   "id": "da72499a",
   "metadata": {
    "execution": {
     "iopub.execute_input": "2022-01-14T20:10:57.055867Z",
     "iopub.status.busy": "2022-01-14T20:10:57.055333Z",
     "iopub.status.idle": "2022-01-14T20:10:57.307374Z",
     "shell.execute_reply": "2022-01-14T20:10:57.307843Z"
    },
    "papermill": {
     "duration": 0.307883,
     "end_time": "2022-01-14T20:10:57.307979",
     "exception": false,
     "start_time": "2022-01-14T20:10:57.000096",
     "status": "completed"
    },
    "tags": []
   },
   "outputs": [
    {
     "data": {
      "image/png": "[encoded data removed]",
      "text/plain": [
       "<Figure size 720x648 with 1 Axes>"
      ]
     },
     "metadata": {
      "needs_background": "light"
     },
     "output_type": "display_data"
    }
   ],
   "source": [
    "plt.figure(figsize=(10,9))\n",
    "plt.scatter(testing_plot[:,0], testing_plot[:,1], alpha = 0.1, c = y_test.ravel())\n",
    "contours = plt.contour(x_grid,y_grid,prob_contour)\n",
    "plt.title('Probability Contours')\n",
    "plt.clabel(contours, inline = True );"
   ]
  },
  {
   "cell_type": "code",
   "execution_count": null,
   "id": "e81b4ac7",
   "metadata": {
    "papermill": {
     "duration": 0.045879,
     "end_time": "2022-01-14T20:10:57.400217",
     "exception": false,
     "start_time": "2022-01-14T20:10:57.354338",
     "status": "completed"
    },
    "tags": []
   },
   "outputs": [],
   "source": []
  }
 ],
 "metadata": {
  "kernelspec": {
   "display_name": "Python 3",
   "language": "python",
   "name": "python3"
  },
  "language_info": {
   "codemirror_mode": {
    "name": "ipython",
    "version": 3
   },
   "file_extension": ".py",
   "mimetype": "text/x-python",
   "name": "python",
   "nbconvert_exporter": "python",
   "pygments_lexer": "ipython3",
   "version": "3.6.15"
  },
  "papermill": {
   "default_parameters": {},
   "duration": 97.46793,
   "end_time": "2022-01-14T20:10:57.864714",
   "environment_variables": {},
   "exception": null,
   "input_path": "2020-08-11-part2.ipynb",
   "output_path": "2020-08-11-part2.ipynb",
   "parameters": {},
   "start_time": "2022-01-14T20:09:20.396784",
   "version": "2.3.3"
  }
 },
 "nbformat": 4,
 "nbformat_minor": 5
}