{
 "cells": [
  {
   "cell_type": "markdown",
   "id": "98380cd3",
   "metadata": {
    "papermill": {
     "duration": 0.030186,
     "end_time": "2022-07-17T20:09:39.141751",
     "exception": false,
     "start_time": "2022-07-17T20:09:39.111565",
     "status": "completed"
    },
    "tags": []
   },
   "source": [
    "# Distinguish Your Own Digits (DYOD)"
   ]
  },
  {
   "cell_type": "markdown",
   "id": "ef31240d",
   "metadata": {
    "papermill": {
     "duration": 0.024174,
     "end_time": "2022-07-17T20:09:39.190602",
     "exception": false,
     "start_time": "2022-07-17T20:09:39.166428",
     "status": "completed"
    },
    "tags": []
   },
   "source": [
    "You are going to write a classifier that distinguishes between the number 3 and number 8."
   ]
  },
  {
   "cell_type": "code",
   "execution_count": 1,
   "id": "b15c8646",
   "metadata": {
    "execution": {
     "iopub.execute_input": "2022-07-17T20:09:39.248203Z",
     "iopub.status.busy": "2022-07-17T20:09:39.247553Z",
     "iopub.status.idle": "2022-07-17T20:09:39.257842Z",
     "shell.execute_reply": "2022-07-17T20:09:39.257340Z"
    },
    "papermill": {
     "duration": 0.043503,
     "end_time": "2022-07-17T20:09:39.257983",
     "exception": false,
     "start_time": "2022-07-17T20:09:39.214480",
     "status": "completed"
    },
    "tags": []
   },
   "outputs": [],
   "source": [
    "%load_ext autoreload\n",
    "%autoreload 2"
   ]
  },
  {
   "cell_type": "code",
   "execution_count": 2,
   "id": "22ef38dc",
   "metadata": {
    "execution": {
     "iopub.execute_input": "2022-07-17T20:09:39.311100Z",
     "iopub.status.busy": "2022-07-17T20:09:39.310482Z",
     "iopub.status.idle": "2022-07-17T20:09:39.826351Z",
     "shell.execute_reply": "2022-07-17T20:09:39.825807Z"
    },
    "papermill": {
     "duration": 0.544223,
     "end_time": "2022-07-17T20:09:39.826488",
     "exception": false,
     "start_time": "2022-07-17T20:09:39.282265",
     "status": "completed"
    },
    "tags": []
   },
   "outputs": [],
   "source": [
    "%matplotlib inline\n",
    "import numpy as np\n",
    "import matplotlib.pyplot as plt\n",
    "import pandas as pd"
   ]
  },
  {
   "cell_type": "markdown",
   "id": "ba036198",
   "metadata": {
    "papermill": {
     "duration": 0.02371,
     "end_time": "2022-07-17T20:09:39.873988",
     "exception": false,
     "start_time": "2022-07-17T20:09:39.850278",
     "status": "completed"
    },
    "tags": []
   },
   "source": [
    "From the command line run `pip install mnist`. This is a library that will help you bring down the mnist dataset. If you run this from a notebook, you need to put  `!pip install mnist` in a cell by itself."
   ]
  },
  {
   "cell_type": "code",
   "execution_count": 3,
   "id": "bb6ad8a1",
   "metadata": {
    "execution": {
     "iopub.execute_input": "2022-07-17T20:09:39.928671Z",
     "iopub.status.busy": "2022-07-17T20:09:39.928064Z",
     "iopub.status.idle": "2022-07-17T20:09:41.621254Z",
     "shell.execute_reply": "2022-07-17T20:09:41.621788Z"
    },
    "papermill": {
     "duration": 1.724052,
     "end_time": "2022-07-17T20:09:41.621969",
     "exception": false,
     "start_time": "2022-07-17T20:09:39.897917",
     "status": "completed"
    },
    "tags": []
   },
   "outputs": [
    {
     "name": "stdout",
     "output_type": "stream",
     "text": [
      "Collecting mnist\r\n"
     ]
    },
    {
     "name": "stdout",
     "output_type": "stream",
     "text": [
      "  Downloading mnist-0.2.2-py2.py3-none-any.whl (3.5 kB)\r\n",
      "Requirement already satisfied: numpy in /opt/hostedtoolcache/Python/3.6.15/x64/lib/python3.6/site-packages (from mnist) (1.19.5)\r\n"
     ]
    },
    {
     "name": "stdout",
     "output_type": "stream",
     "text": [
      "Installing collected packages: mnist\r\n",
      "Successfully installed mnist-0.2.2\r\n"
     ]
    }
   ],
   "source": [
    "!pip install mnist"
   ]
  },
  {
   "cell_type": "markdown",
   "id": "69df9c9a",
   "metadata": {
    "papermill": {
     "duration": 0.02473,
     "end_time": "2022-07-17T20:09:41.673670",
     "exception": false,
     "start_time": "2022-07-17T20:09:41.648940",
     "status": "completed"
    },
    "tags": []
   },
   "source": [
    "## Preparing the Data"
   ]
  },
  {
   "cell_type": "code",
   "execution_count": 4,
   "id": "7f69d806",
   "metadata": {
    "execution": {
     "iopub.execute_input": "2022-07-17T20:09:41.733219Z",
     "iopub.status.busy": "2022-07-17T20:09:41.731448Z",
     "iopub.status.idle": "2022-07-17T20:09:41.744083Z",
     "shell.execute_reply": "2022-07-17T20:09:41.743371Z"
    },
    "papermill": {
     "duration": 0.045416,
     "end_time": "2022-07-17T20:09:41.744209",
     "exception": false,
     "start_time": "2022-07-17T20:09:41.698793",
     "status": "completed"
    },
    "tags": []
   },
   "outputs": [],
   "source": [
    "import mnist"
   ]
  },
  {
   "cell_type": "code",
   "execution_count": 5,
   "id": "a411e44f",
   "metadata": {
    "execution": {
     "iopub.execute_input": "2022-07-17T20:09:41.801301Z",
     "iopub.status.busy": "2022-07-17T20:09:41.799130Z",
     "iopub.status.idle": "2022-07-17T20:09:42.444509Z",
     "shell.execute_reply": "2022-07-17T20:09:42.444000Z"
    },
    "papermill": {
     "duration": 0.675287,
     "end_time": "2022-07-17T20:09:42.444637",
     "exception": false,
     "start_time": "2022-07-17T20:09:41.769350",
     "status": "completed"
    },
    "tags": []
   },
   "outputs": [],
   "source": [
    "train_images = mnist.train_images()\n",
    "train_labels = mnist.train_labels()"
   ]
  },
  {
   "cell_type": "code",
   "execution_count": 6,
   "id": "dceab3a5",
   "metadata": {
    "execution": {
     "iopub.execute_input": "2022-07-17T20:09:42.493210Z",
     "iopub.status.busy": "2022-07-17T20:09:42.492657Z",
     "iopub.status.idle": "2022-07-17T20:09:42.508271Z",
     "shell.execute_reply": "2022-07-17T20:09:42.508774Z"
    },
    "papermill": {
     "duration": 0.042175,
     "end_time": "2022-07-17T20:09:42.508918",
     "exception": false,
     "start_time": "2022-07-17T20:09:42.466743",
     "status": "completed"
    },
    "tags": []
   },
   "outputs": [
    {
     "data": {
      "text/plain": [
       "((60000, 28, 28), (60000,))"
      ]
     },
     "execution_count": 6,
     "metadata": {},
     "output_type": "execute_result"
    }
   ],
   "source": [
    "train_images.shape, train_labels.shape"
   ]
  },
  {
   "cell_type": "code",
   "execution_count": 7,
   "id": "f50dc2bb",
   "metadata": {
    "execution": {
     "iopub.execute_input": "2022-07-17T20:09:42.568039Z",
     "iopub.status.busy": "2022-07-17T20:09:42.560875Z",
     "iopub.status.idle": "2022-07-17T20:09:42.738555Z",
     "shell.execute_reply": "2022-07-17T20:09:42.737924Z"
    },
    "papermill": {
     "duration": 0.207665,
     "end_time": "2022-07-17T20:09:42.738706",
     "exception": false,
     "start_time": "2022-07-17T20:09:42.531041",
     "status": "completed"
    },
    "tags": []
   },
   "outputs": [],
   "source": [
    "test_images = mnist.test_images()\n",
    "test_labels = mnist.test_labels()"
   ]
  },
  {
   "cell_type": "code",
   "execution_count": 8,
   "id": "fc38cf1b",
   "metadata": {
    "execution": {
     "iopub.execute_input": "2022-07-17T20:09:42.791495Z",
     "iopub.status.busy": "2022-07-17T20:09:42.790926Z",
     "iopub.status.idle": "2022-07-17T20:09:42.801940Z",
     "shell.execute_reply": "2022-07-17T20:09:42.802316Z"
    },
    "papermill": {
     "duration": 0.041517,
     "end_time": "2022-07-17T20:09:42.802448",
     "exception": false,
     "start_time": "2022-07-17T20:09:42.760931",
     "status": "completed"
    },
    "tags": []
   },
   "outputs": [
    {
     "data": {
      "text/plain": [
       "((10000, 28, 28), (10000,))"
      ]
     },
     "execution_count": 8,
     "metadata": {},
     "output_type": "execute_result"
    }
   ],
   "source": [
    "test_images.shape, test_labels.shape"
   ]
  },
  {
   "cell_type": "code",
   "execution_count": 9,
   "id": "f9ed8fe0",
   "metadata": {
    "execution": {
     "iopub.execute_input": "2022-07-17T20:09:42.850034Z",
     "iopub.status.busy": "2022-07-17T20:09:42.849516Z",
     "iopub.status.idle": "2022-07-17T20:09:42.992584Z",
     "shell.execute_reply": "2022-07-17T20:09:42.993121Z"
    },
    "papermill": {
     "duration": 0.168915,
     "end_time": "2022-07-17T20:09:42.993278",
     "exception": false,
     "start_time": "2022-07-17T20:09:42.824363",
     "status": "completed"
    },
    "tags": []
   },
   "outputs": [
    {
     "name": "stdout",
     "output_type": "stream",
     "text": [
      "2\n"
     ]
    },
    {
     "data": {
      "text/plain": [
       "<matplotlib.image.AxesImage at 0x7f36b6dc64a8>"
      ]
     },
     "execution_count": 9,
     "metadata": {},
     "output_type": "execute_result"
    },
    {
     "data": {
      "image/png": "[encoded data removed]",
      "text/plain": [
       "<Figure size 432x288 with 1 Axes>"
      ]
     },
     "metadata": {
      "needs_background": "light"
     },
     "output_type": "display_data"
    }
   ],
   "source": [
    "image_index = 7776 # You may select anything up to 60,000\n",
    "print(train_labels[image_index]) \n",
    "plt.imshow(train_images[image_index], cmap='Greys')"
   ]
  },
  {
   "cell_type": "markdown",
   "id": "a8d2388d",
   "metadata": {
    "papermill": {
     "duration": 0.023662,
     "end_time": "2022-07-17T20:09:43.040478",
     "exception": false,
     "start_time": "2022-07-17T20:09:43.016816",
     "status": "completed"
    },
    "tags": []
   },
   "source": [
    "## Filter data to get 3 and 8 out"
   ]
  },
  {
   "cell_type": "code",
   "execution_count": 10,
   "id": "776f7fc7",
   "metadata": {
    "execution": {
     "iopub.execute_input": "2022-07-17T20:09:43.092270Z",
     "iopub.status.busy": "2022-07-17T20:09:43.091699Z",
     "iopub.status.idle": "2022-07-17T20:09:43.112024Z",
     "shell.execute_reply": "2022-07-17T20:09:43.111517Z"
    },
    "papermill": {
     "duration": 0.04843,
     "end_time": "2022-07-17T20:09:43.112158",
     "exception": false,
     "start_time": "2022-07-17T20:09:43.063728",
     "status": "completed"
    },
    "tags": []
   },
   "outputs": [],
   "source": [
    "train_filter = np.where((train_labels == 3 ) | (train_labels == 8))\n",
    "test_filter = np.where((test_labels == 3) | (test_labels == 8))\n",
    "X_train, y_train = train_images[train_filter], train_labels[train_filter]\n",
    "X_test, y_test = test_images[test_filter], test_labels[test_filter]"
   ]
  },
  {
   "cell_type": "markdown",
   "id": "948f0b7e",
   "metadata": {
    "papermill": {
     "duration": 0.02321,
     "end_time": "2022-07-17T20:09:43.159247",
     "exception": false,
     "start_time": "2022-07-17T20:09:43.136037",
     "status": "completed"
    },
    "tags": []
   },
   "source": [
    "We normalize the pizel values in the 0 to 1 range"
   ]
  },
  {
   "cell_type": "code",
   "execution_count": 11,
   "id": "ee4c2166",
   "metadata": {
    "execution": {
     "iopub.execute_input": "2022-07-17T20:09:43.221856Z",
     "iopub.status.busy": "2022-07-17T20:09:43.221280Z",
     "iopub.status.idle": "2022-07-17T20:09:43.265043Z",
     "shell.execute_reply": "2022-07-17T20:09:43.264425Z"
    },
    "papermill": {
     "duration": 0.082825,
     "end_time": "2022-07-17T20:09:43.265186",
     "exception": false,
     "start_time": "2022-07-17T20:09:43.182361",
     "status": "completed"
    },
    "tags": []
   },
   "outputs": [],
   "source": [
    "X_train = X_train/255.\n",
    "X_test = X_test/255."
   ]
  },
  {
   "cell_type": "markdown",
   "id": "ddcf4fab",
   "metadata": {
    "papermill": {
     "duration": 0.023349,
     "end_time": "2022-07-17T20:09:43.313083",
     "exception": false,
     "start_time": "2022-07-17T20:09:43.289734",
     "status": "completed"
    },
    "tags": []
   },
   "source": [
    "And setup the labels as 1 (when the digit is 3) and 0 (when the digit is 8)"
   ]
  },
  {
   "cell_type": "code",
   "execution_count": 12,
   "id": "7dc908f2",
   "metadata": {
    "execution": {
     "iopub.execute_input": "2022-07-17T20:09:43.376144Z",
     "iopub.status.busy": "2022-07-17T20:09:43.367759Z",
     "iopub.status.idle": "2022-07-17T20:09:43.379379Z",
     "shell.execute_reply": "2022-07-17T20:09:43.378665Z"
    },
    "papermill": {
     "duration": 0.043214,
     "end_time": "2022-07-17T20:09:43.379506",
     "exception": false,
     "start_time": "2022-07-17T20:09:43.336292",
     "status": "completed"
    },
    "tags": []
   },
   "outputs": [],
   "source": [
    "y_train = 1*(y_train==3)\n",
    "y_test = 1*(y_test==3)"
   ]
  },
  {
   "cell_type": "code",
   "execution_count": 13,
   "id": "01e4e969",
   "metadata": {
    "execution": {
     "iopub.execute_input": "2022-07-17T20:09:43.429810Z",
     "iopub.status.busy": "2022-07-17T20:09:43.429288Z",
     "iopub.status.idle": "2022-07-17T20:09:43.443069Z",
     "shell.execute_reply": "2022-07-17T20:09:43.443597Z"
    },
    "papermill": {
     "duration": 0.040962,
     "end_time": "2022-07-17T20:09:43.443723",
     "exception": false,
     "start_time": "2022-07-17T20:09:43.402761",
     "status": "completed"
    },
    "tags": []
   },
   "outputs": [
    {
     "data": {
      "text/plain": [
       "((11982, 28, 28), (1984, 28, 28))"
      ]
     },
     "execution_count": 13,
     "metadata": {},
     "output_type": "execute_result"
    }
   ],
   "source": [
    "X_train.shape, X_test.shape"
   ]
  },
  {
   "cell_type": "markdown",
   "id": "5ccf3f85",
   "metadata": {
    "papermill": {
     "duration": 0.02309,
     "end_time": "2022-07-17T20:09:43.490013",
     "exception": false,
     "start_time": "2022-07-17T20:09:43.466923",
     "status": "completed"
    },
    "tags": []
   },
   "source": [
    "We reshape the data to flatten the image pixels into a set of features or co-variates:"
   ]
  },
  {
   "cell_type": "code",
   "execution_count": 14,
   "id": "5286a4a3",
   "metadata": {
    "execution": {
     "iopub.execute_input": "2022-07-17T20:09:43.541633Z",
     "iopub.status.busy": "2022-07-17T20:09:43.541091Z",
     "iopub.status.idle": "2022-07-17T20:09:43.556725Z",
     "shell.execute_reply": "2022-07-17T20:09:43.557232Z"
    },
    "papermill": {
     "duration": 0.043949,
     "end_time": "2022-07-17T20:09:43.557375",
     "exception": false,
     "start_time": "2022-07-17T20:09:43.513426",
     "status": "completed"
    },
    "tags": []
   },
   "outputs": [
    {
     "data": {
      "text/plain": [
       "((11982, 784), (1984, 784))"
      ]
     },
     "execution_count": 14,
     "metadata": {},
     "output_type": "execute_result"
    }
   ],
   "source": [
    "X_train = X_train.reshape(X_train.shape[0], -1)\n",
    "X_test = X_test.reshape(X_test.shape[0], -1)\n",
    "X_train.shape, X_test.shape"
   ]
  },
  {
   "cell_type": "code",
   "execution_count": 15,
   "id": "73c5f88a",
   "metadata": {
    "execution": {
     "iopub.execute_input": "2022-07-17T20:09:43.610326Z",
     "iopub.status.busy": "2022-07-17T20:09:43.609776Z",
     "iopub.status.idle": "2022-07-17T20:09:43.630580Z",
     "shell.execute_reply": "2022-07-17T20:09:43.630030Z"
    },
    "papermill": {
     "duration": 0.049485,
     "end_time": "2022-07-17T20:09:43.630724",
     "exception": false,
     "start_time": "2022-07-17T20:09:43.581239",
     "status": "completed"
    },
    "tags": []
   },
   "outputs": [],
   "source": [
    "#Impoting functions from 'Kudzu'\n",
    "from kudzu.model import Model\n",
    "from kudzu.train import Learner\n",
    "from kudzu.optim import GD\n",
    "from kudzu.data import Data, Sampler,Dataloader\n",
    "\n",
    "from kudzu.callbacks import AccCallback\n",
    "from kudzu.callbacks import ClfCallback\n",
    "\n",
    "from kudzu.loss import MSE\n",
    "\n",
    "from kudzu.layer import Sigmoid,Relu\n",
    "from kudzu.layer import Affine"
   ]
  },
  {
   "cell_type": "markdown",
   "id": "bc01172a",
   "metadata": {
    "papermill": {
     "duration": 0.023708,
     "end_time": "2022-07-17T20:09:43.679641",
     "exception": false,
     "start_time": "2022-07-17T20:09:43.655933",
     "status": "completed"
    },
    "tags": []
   },
   "source": [
    "### Let us create a `Config` class, to store important parameters. \n",
    "This class essentially plays the role of a dictionary."
   ]
  },
  {
   "cell_type": "code",
   "execution_count": 16,
   "id": "978281aa",
   "metadata": {
    "execution": {
     "iopub.execute_input": "2022-07-17T20:09:43.731924Z",
     "iopub.status.busy": "2022-07-17T20:09:43.731282Z",
     "iopub.status.idle": "2022-07-17T20:09:43.746393Z",
     "shell.execute_reply": "2022-07-17T20:09:43.746790Z"
    },
    "papermill": {
     "duration": 0.043674,
     "end_time": "2022-07-17T20:09:43.746936",
     "exception": false,
     "start_time": "2022-07-17T20:09:43.703262",
     "status": "completed"
    },
    "tags": []
   },
   "outputs": [],
   "source": [
    "class Config:\n",
    "    pass\n",
    "config = Config()\n",
    "config.lr = 0.001\n",
    "config.num_epochs = 250\n",
    "config.bs = 50"
   ]
  },
  {
   "cell_type": "markdown",
   "id": "1385fa59",
   "metadata": {
    "papermill": {
     "duration": 0.023733,
     "end_time": "2022-07-17T20:09:43.794768",
     "exception": false,
     "start_time": "2022-07-17T20:09:43.771035",
     "status": "completed"
    },
    "tags": []
   },
   "source": [
    "### Running Models with the Training data\n",
    "Details about the network layers:\n",
    "- A first affine layer has 784 inputs and does 100 affine transforms. These are followed by a Relu\n",
    "- A second affine layer has 100 inputs from the 100 activations of the past layer, and does 100 affine transforms. These are followed by a Relu\n",
    "- A third affine layer has 100 activations and does 2 affine transformations to create an embedding for visualization. There is no non-linearity here.\n",
    "- A final \"logistic regression\" which has an affine transform from 2 inputs to 1 output, which is squeezed through a sigmoid.\n"
   ]
  },
  {
   "cell_type": "code",
   "execution_count": 17,
   "id": "2b9c66db",
   "metadata": {
    "execution": {
     "iopub.execute_input": "2022-07-17T20:09:43.849587Z",
     "iopub.status.busy": "2022-07-17T20:09:43.849021Z",
     "iopub.status.idle": "2022-07-17T20:09:43.860876Z",
     "shell.execute_reply": "2022-07-17T20:09:43.861296Z"
    },
    "papermill": {
     "duration": 0.042991,
     "end_time": "2022-07-17T20:09:43.861441",
     "exception": false,
     "start_time": "2022-07-17T20:09:43.818450",
     "status": "completed"
    },
    "tags": []
   },
   "outputs": [],
   "source": [
    "data = Data(X_train, y_train.reshape(-1,1))\n",
    "sampler = Sampler(data, config.bs, shuffle=True)\n",
    "\n",
    "dl = Dataloader(data, sampler)\n",
    "\n",
    "opt = GD(config.lr)\n",
    "loss = MSE()"
   ]
  },
  {
   "cell_type": "code",
   "execution_count": 18,
   "id": "b275e4c2",
   "metadata": {
    "execution": {
     "iopub.execute_input": "2022-07-17T20:09:43.913802Z",
     "iopub.status.busy": "2022-07-17T20:09:43.913277Z",
     "iopub.status.idle": "2022-07-17T20:09:43.924884Z",
     "shell.execute_reply": "2022-07-17T20:09:43.925308Z"
    },
    "papermill": {
     "duration": 0.040129,
     "end_time": "2022-07-17T20:09:43.925441",
     "exception": false,
     "start_time": "2022-07-17T20:09:43.885312",
     "status": "completed"
    },
    "tags": []
   },
   "outputs": [],
   "source": [
    "training_data_x = X_train\n",
    "testing_data_x = X_test\n",
    "training_data_y = y_train.reshape(-1,1)\n",
    "testing_data_y = y_test.reshape(-1,1)"
   ]
  },
  {
   "cell_type": "code",
   "execution_count": 19,
   "id": "76951160",
   "metadata": {
    "execution": {
     "iopub.execute_input": "2022-07-17T20:09:43.977342Z",
     "iopub.status.busy": "2022-07-17T20:09:43.976812Z",
     "iopub.status.idle": "2022-07-17T20:09:43.994173Z",
     "shell.execute_reply": "2022-07-17T20:09:43.993661Z"
    },
    "papermill": {
     "duration": 0.045273,
     "end_time": "2022-07-17T20:09:43.994279",
     "exception": false,
     "start_time": "2022-07-17T20:09:43.949006",
     "status": "completed"
    },
    "tags": []
   },
   "outputs": [
    {
     "name": "stdout",
     "output_type": "stream",
     "text": [
      "xavier\n",
      "xavier\n",
      "xavier\n",
      "xavier\n",
      "xavier\n"
     ]
    }
   ],
   "source": [
    "layers = [Affine(\"first\", 784, 100), Relu(\"first\"), Affine(\"second\", 100, 100), Relu(\"second\"), Affine(\"third\", 100, 2), Affine(\"last\", 2, 1), Sigmoid(\"last\")]\n",
    "model_nn = Model(layers)\n",
    "model_lr = Model([Affine(\"logits\", 784, 1), Sigmoid(\"sigmoid\")])"
   ]
  },
  {
   "cell_type": "code",
   "execution_count": 20,
   "id": "6eede77a",
   "metadata": {
    "execution": {
     "iopub.execute_input": "2022-07-17T20:09:44.046000Z",
     "iopub.status.busy": "2022-07-17T20:09:44.045480Z",
     "iopub.status.idle": "2022-07-17T20:09:44.057558Z",
     "shell.execute_reply": "2022-07-17T20:09:44.057982Z"
    },
    "papermill": {
     "duration": 0.039902,
     "end_time": "2022-07-17T20:09:44.058106",
     "exception": false,
     "start_time": "2022-07-17T20:09:44.018204",
     "status": "completed"
    },
    "tags": []
   },
   "outputs": [],
   "source": [
    "nn_learner = Learner(loss, model_nn, opt, config.num_epochs)\n",
    "acc_nn = ClfCallback(nn_learner, config.bs, training_data_x , testing_data_x, training_data_y, testing_data_y)\n",
    "nn_learner.set_callbacks([acc_nn])"
   ]
  },
  {
   "cell_type": "code",
   "execution_count": 21,
   "id": "877b6cc7",
   "metadata": {
    "execution": {
     "iopub.execute_input": "2022-07-17T20:09:44.119518Z",
     "iopub.status.busy": "2022-07-17T20:09:44.118831Z",
     "iopub.status.idle": "2022-07-17T20:09:44.126138Z",
     "shell.execute_reply": "2022-07-17T20:09:44.125522Z"
    },
    "papermill": {
     "duration": 0.044109,
     "end_time": "2022-07-17T20:09:44.126264",
     "exception": false,
     "start_time": "2022-07-17T20:09:44.082155",
     "status": "completed"
    },
    "tags": []
   },
   "outputs": [],
   "source": [
    "lr_learner = Learner(loss, model_lr, opt, config.num_epochs)\n",
    "acc_lr = ClfCallback(lr_learner, config.bs, training_data_x , testing_data_x, training_data_y, testing_data_y)\n",
    "lr_learner.set_callbacks([acc_lr])"
   ]
  },
  {
   "cell_type": "code",
   "execution_count": 22,
   "id": "d9b133c3",
   "metadata": {
    "execution": {
     "iopub.execute_input": "2022-07-17T20:09:44.186609Z",
     "iopub.status.busy": "2022-07-17T20:09:44.185994Z",
     "iopub.status.idle": "2022-07-17T20:11:05.375044Z",
     "shell.execute_reply": "2022-07-17T20:11:05.375879Z"
    },
    "papermill": {
     "duration": 81.22175,
     "end_time": "2022-07-17T20:11:05.376021",
     "exception": false,
     "start_time": "2022-07-17T20:09:44.154271",
     "status": "completed"
    },
    "tags": []
   },
   "outputs": [
    {
     "name": "stdout",
     "output_type": "stream",
     "text": [
      "Epoch 0, Loss 0.2046\n",
      "Training Accuracy: 0.8098, Testing Accuracy: 0.8115\n",
      "\n"
     ]
    },
    {
     "name": "stdout",
     "output_type": "stream",
     "text": [
      "Epoch 10, Loss 0.058\n",
      "Training Accuracy: 0.9406, Testing Accuracy: 0.9561\n",
      "\n"
     ]
    },
    {
     "name": "stdout",
     "output_type": "stream",
     "text": [
      "Epoch 20, Loss 0.0415\n",
      "Training Accuracy: 0.9558, Testing Accuracy: 0.9647\n",
      "\n"
     ]
    },
    {
     "name": "stdout",
     "output_type": "stream",
     "text": [
      "Epoch 30, Loss 0.0352\n",
      "Training Accuracy: 0.9611, Testing Accuracy: 0.9693\n",
      "\n"
     ]
    },
    {
     "name": "stdout",
     "output_type": "stream",
     "text": [
      "Epoch 40, Loss 0.0317\n",
      "Training Accuracy: 0.9639, Testing Accuracy: 0.9718\n",
      "\n"
     ]
    },
    {
     "name": "stdout",
     "output_type": "stream",
     "text": [
      "Epoch 50, Loss 0.0294\n",
      "Training Accuracy: 0.9670, Testing Accuracy: 0.9738\n",
      "\n"
     ]
    },
    {
     "name": "stdout",
     "output_type": "stream",
     "text": [
      "Epoch 60, Loss 0.0276\n",
      "Training Accuracy: 0.9689, Testing Accuracy: 0.9738\n",
      "\n"
     ]
    },
    {
     "name": "stdout",
     "output_type": "stream",
     "text": [
      "Epoch 70, Loss 0.0262\n",
      "Training Accuracy: 0.9694, Testing Accuracy: 0.9748\n",
      "\n"
     ]
    },
    {
     "name": "stdout",
     "output_type": "stream",
     "text": [
      "Epoch 80, Loss 0.025\n",
      "Training Accuracy: 0.9710, Testing Accuracy: 0.9743\n",
      "\n"
     ]
    },
    {
     "name": "stdout",
     "output_type": "stream",
     "text": [
      "Epoch 90, Loss 0.0241\n",
      "Training Accuracy: 0.9726, Testing Accuracy: 0.9743\n",
      "\n"
     ]
    },
    {
     "name": "stdout",
     "output_type": "stream",
     "text": [
      "Epoch 100, Loss 0.0232\n",
      "Training Accuracy: 0.9738, Testing Accuracy: 0.9743\n",
      "\n"
     ]
    },
    {
     "name": "stdout",
     "output_type": "stream",
     "text": [
      "Epoch 110, Loss 0.0224\n",
      "Training Accuracy: 0.9749, Testing Accuracy: 0.9743\n",
      "\n"
     ]
    },
    {
     "name": "stdout",
     "output_type": "stream",
     "text": [
      "Epoch 120, Loss 0.0217\n",
      "Training Accuracy: 0.9760, Testing Accuracy: 0.9743\n",
      "\n"
     ]
    },
    {
     "name": "stdout",
     "output_type": "stream",
     "text": [
      "Epoch 130, Loss 0.021\n",
      "Training Accuracy: 0.9770, Testing Accuracy: 0.9763\n",
      "\n"
     ]
    },
    {
     "name": "stdout",
     "output_type": "stream",
     "text": [
      "Epoch 140, Loss 0.0204\n",
      "Training Accuracy: 0.9775, Testing Accuracy: 0.9763\n",
      "\n"
     ]
    },
    {
     "name": "stdout",
     "output_type": "stream",
     "text": [
      "Epoch 150, Loss 0.0199\n",
      "Training Accuracy: 0.9785, Testing Accuracy: 0.9758\n",
      "\n"
     ]
    },
    {
     "name": "stdout",
     "output_type": "stream",
     "text": [
      "Epoch 160, Loss 0.0193\n",
      "Training Accuracy: 0.9788, Testing Accuracy: 0.9758\n",
      "\n"
     ]
    },
    {
     "name": "stdout",
     "output_type": "stream",
     "text": [
      "Epoch 170, Loss 0.0188\n",
      "Training Accuracy: 0.9794, Testing Accuracy: 0.9753\n",
      "\n"
     ]
    },
    {
     "name": "stdout",
     "output_type": "stream",
     "text": [
      "Epoch 180, Loss 0.0183\n",
      "Training Accuracy: 0.9799, Testing Accuracy: 0.9763\n",
      "\n"
     ]
    },
    {
     "name": "stdout",
     "output_type": "stream",
     "text": [
      "Epoch 190, Loss 0.0179\n",
      "Training Accuracy: 0.9806, Testing Accuracy: 0.9758\n",
      "\n"
     ]
    },
    {
     "name": "stdout",
     "output_type": "stream",
     "text": [
      "Epoch 200, Loss 0.0175\n",
      "Training Accuracy: 0.9815, Testing Accuracy: 0.9763\n",
      "\n"
     ]
    },
    {
     "name": "stdout",
     "output_type": "stream",
     "text": [
      "Epoch 210, Loss 0.017\n",
      "Training Accuracy: 0.9816, Testing Accuracy: 0.9763\n",
      "\n"
     ]
    },
    {
     "name": "stdout",
     "output_type": "stream",
     "text": [
      "Epoch 220, Loss 0.0166\n",
      "Training Accuracy: 0.9821, Testing Accuracy: 0.9768\n",
      "\n"
     ]
    },
    {
     "name": "stdout",
     "output_type": "stream",
     "text": [
      "Epoch 230, Loss 0.0163\n",
      "Training Accuracy: 0.9822, Testing Accuracy: 0.9768\n",
      "\n"
     ]
    },
    {
     "name": "stdout",
     "output_type": "stream",
     "text": [
      "Epoch 240, Loss 0.0159\n",
      "Training Accuracy: 0.9826, Testing Accuracy: 0.9763\n",
      "\n"
     ]
    },
    {
     "data": {
      "text/plain": [
       "0.011921908622049011"
      ]
     },
     "execution_count": 22,
     "metadata": {},
     "output_type": "execute_result"
    }
   ],
   "source": [
    "nn_learner.train_loop(dl)"
   ]
  },
  {
   "cell_type": "code",
   "execution_count": 23,
   "id": "e0163366",
   "metadata": {
    "execution": {
     "iopub.execute_input": "2022-07-17T20:11:05.450675Z",
     "iopub.status.busy": "2022-07-17T20:11:05.450107Z",
     "iopub.status.idle": "2022-07-17T20:11:20.210566Z",
     "shell.execute_reply": "2022-07-17T20:11:20.211315Z"
    },
    "papermill": {
     "duration": 14.804954,
     "end_time": "2022-07-17T20:11:20.211476",
     "exception": false,
     "start_time": "2022-07-17T20:11:05.406522",
     "status": "completed"
    },
    "tags": []
   },
   "outputs": [
    {
     "name": "stdout",
     "output_type": "stream",
     "text": [
      "Epoch 0, Loss 0.2248\n",
      "Training Accuracy: 0.7429, Testing Accuracy: 0.7596\n",
      "\n"
     ]
    },
    {
     "name": "stdout",
     "output_type": "stream",
     "text": [
      "Epoch 10, Loss 0.1038\n",
      "Training Accuracy: 0.9049, Testing Accuracy: 0.9153\n",
      "\n"
     ]
    },
    {
     "name": "stdout",
     "output_type": "stream",
     "text": [
      "Epoch 20, Loss 0.0801\n",
      "Training Accuracy: 0.9243, Testing Accuracy: 0.9304\n",
      "\n"
     ]
    },
    {
     "name": "stdout",
     "output_type": "stream",
     "text": [
      "Epoch 30, Loss 0.069\n",
      "Training Accuracy: 0.9358, Testing Accuracy: 0.9435\n",
      "\n"
     ]
    },
    {
     "name": "stdout",
     "output_type": "stream",
     "text": [
      "Epoch 40, Loss 0.0622\n",
      "Training Accuracy: 0.9399, Testing Accuracy: 0.9506\n",
      "\n"
     ]
    },
    {
     "name": "stdout",
     "output_type": "stream",
     "text": [
      "Epoch 50, Loss 0.0576\n",
      "Training Accuracy: 0.9440, Testing Accuracy: 0.9546\n",
      "\n"
     ]
    },
    {
     "name": "stdout",
     "output_type": "stream",
     "text": [
      "Epoch 60, Loss 0.0543\n",
      "Training Accuracy: 0.9463, Testing Accuracy: 0.9582\n",
      "\n"
     ]
    },
    {
     "name": "stdout",
     "output_type": "stream",
     "text": [
      "Epoch 70, Loss 0.0516\n",
      "Training Accuracy: 0.9489, Testing Accuracy: 0.9592\n",
      "\n"
     ]
    },
    {
     "name": "stdout",
     "output_type": "stream",
     "text": [
      "Epoch 80, Loss 0.0495\n",
      "Training Accuracy: 0.9507, Testing Accuracy: 0.9592\n",
      "\n"
     ]
    },
    {
     "name": "stdout",
     "output_type": "stream",
     "text": [
      "Epoch 90, Loss 0.0478\n",
      "Training Accuracy: 0.9517, Testing Accuracy: 0.9612\n",
      "\n"
     ]
    },
    {
     "name": "stdout",
     "output_type": "stream",
     "text": [
      "Epoch 100, Loss 0.0464\n",
      "Training Accuracy: 0.9527, Testing Accuracy: 0.9637\n",
      "\n"
     ]
    },
    {
     "name": "stdout",
     "output_type": "stream",
     "text": [
      "Epoch 110, Loss 0.0451\n",
      "Training Accuracy: 0.9533, Testing Accuracy: 0.9642\n",
      "\n"
     ]
    },
    {
     "name": "stdout",
     "output_type": "stream",
     "text": [
      "Epoch 120, Loss 0.0441\n",
      "Training Accuracy: 0.9541, Testing Accuracy: 0.9647\n",
      "\n"
     ]
    },
    {
     "name": "stdout",
     "output_type": "stream",
     "text": [
      "Epoch 130, Loss 0.0431\n",
      "Training Accuracy: 0.9551, Testing Accuracy: 0.9652\n",
      "\n"
     ]
    },
    {
     "name": "stdout",
     "output_type": "stream",
     "text": [
      "Epoch 140, Loss 0.0423\n",
      "Training Accuracy: 0.9558, Testing Accuracy: 0.9657\n",
      "\n"
     ]
    },
    {
     "name": "stdout",
     "output_type": "stream",
     "text": [
      "Epoch 150, Loss 0.0415\n",
      "Training Accuracy: 0.9564, Testing Accuracy: 0.9657\n",
      "\n"
     ]
    },
    {
     "name": "stdout",
     "output_type": "stream",
     "text": [
      "Epoch 160, Loss 0.0408\n",
      "Training Accuracy: 0.9567, Testing Accuracy: 0.9657\n",
      "\n"
     ]
    },
    {
     "name": "stdout",
     "output_type": "stream",
     "text": [
      "Epoch 170, Loss 0.0402\n",
      "Training Accuracy: 0.9570, Testing Accuracy: 0.9657\n",
      "\n"
     ]
    },
    {
     "name": "stdout",
     "output_type": "stream",
     "text": [
      "Epoch 180, Loss 0.0396\n",
      "Training Accuracy: 0.9574, Testing Accuracy: 0.9657\n",
      "\n"
     ]
    },
    {
     "name": "stdout",
     "output_type": "stream",
     "text": [
      "Epoch 190, Loss 0.0391\n",
      "Training Accuracy: 0.9574, Testing Accuracy: 0.9667\n",
      "\n"
     ]
    },
    {
     "name": "stdout",
     "output_type": "stream",
     "text": [
      "Epoch 200, Loss 0.0386\n",
      "Training Accuracy: 0.9581, Testing Accuracy: 0.9662\n",
      "\n"
     ]
    },
    {
     "name": "stdout",
     "output_type": "stream",
     "text": [
      "Epoch 210, Loss 0.0382\n",
      "Training Accuracy: 0.9585, Testing Accuracy: 0.9667\n",
      "\n"
     ]
    },
    {
     "name": "stdout",
     "output_type": "stream",
     "text": [
      "Epoch 220, Loss 0.0377\n",
      "Training Accuracy: 0.9591, Testing Accuracy: 0.9667\n",
      "\n"
     ]
    },
    {
     "name": "stdout",
     "output_type": "stream",
     "text": [
      "Epoch 230, Loss 0.0374\n",
      "Training Accuracy: 0.9594, Testing Accuracy: 0.9662\n",
      "\n"
     ]
    },
    {
     "name": "stdout",
     "output_type": "stream",
     "text": [
      "Epoch 240, Loss 0.037\n",
      "Training Accuracy: 0.9596, Testing Accuracy: 0.9662\n",
      "\n"
     ]
    },
    {
     "data": {
      "text/plain": [
       "0.02690625499825796"
      ]
     },
     "execution_count": 23,
     "metadata": {},
     "output_type": "execute_result"
    }
   ],
   "source": [
    "lr_learner.train_loop(dl)"
   ]
  },
  {
   "cell_type": "code",
   "execution_count": 24,
   "id": "ca410940",
   "metadata": {
    "execution": {
     "iopub.execute_input": "2022-07-17T20:11:20.293486Z",
     "iopub.status.busy": "2022-07-17T20:11:20.292931Z",
     "iopub.status.idle": "2022-07-17T20:11:20.501750Z",
     "shell.execute_reply": "2022-07-17T20:11:20.501191Z"
    },
    "papermill": {
     "duration": 0.254041,
     "end_time": "2022-07-17T20:11:20.501878",
     "exception": false,
     "start_time": "2022-07-17T20:11:20.247837",
     "status": "completed"
    },
    "tags": []
   },
   "outputs": [
    {
     "data": {
      "text/plain": [
       "<matplotlib.legend.Legend at 0x7f36b6927b38>"
      ]
     },
     "execution_count": 24,
     "metadata": {},
     "output_type": "execute_result"
    },
    {
     "data": {
      "image/png": "[encoded data removed]",
      "text/plain": [
       "<Figure size 1080x720 with 1 Axes>"
      ]
     },
     "metadata": {
      "needs_background": "light"
     },
     "output_type": "display_data"
    }
   ],
   "source": [
    "#comparing the results of NN and LR\n",
    "plt.figure(figsize=(15,10))\n",
    "\n",
    "# Neural Network plots\n",
    "plt.plot(acc_nn.accuracies, 'r-', label = \"Training Accuracies - NN\")\n",
    "plt.plot(acc_nn.test_accuracies, 'g-', label = \"Testing Accuracies - NN\")\n",
    "\n",
    "# Logistic Regression plots\n",
    "plt.plot(acc_lr.accuracies, 'k-', label = \"Training Accuracies - LR\")\n",
    "plt.plot(acc_lr.test_accuracies, 'b-', label = \"Testing Accuracies - LR\")\n",
    "plt.legend()"
   ]
  },
  {
   "cell_type": "markdown",
   "id": "80dfb35c",
   "metadata": {
    "papermill": {
     "duration": 0.042019,
     "end_time": "2022-07-17T20:11:20.585961",
     "exception": false,
     "start_time": "2022-07-17T20:11:20.543942",
     "status": "completed"
    },
    "tags": []
   },
   "source": [
    "#### Plotting the outputs of this layer of the NN.\n"
   ]
  },
  {
   "cell_type": "code",
   "execution_count": 25,
   "id": "45eb2ff5",
   "metadata": {
    "execution": {
     "iopub.execute_input": "2022-07-17T20:11:20.673842Z",
     "iopub.status.busy": "2022-07-17T20:11:20.673157Z",
     "iopub.status.idle": "2022-07-17T20:11:20.693600Z",
     "shell.execute_reply": "2022-07-17T20:11:20.694045Z"
    },
    "papermill": {
     "duration": 0.066542,
     "end_time": "2022-07-17T20:11:20.694195",
     "exception": false,
     "start_time": "2022-07-17T20:11:20.627653",
     "status": "completed"
    },
    "tags": []
   },
   "outputs": [],
   "source": [
    "new_model = Model(layers[:-2])\n",
    "testing_plot = new_model(testing_data_x)"
   ]
  },
  {
   "cell_type": "code",
   "execution_count": 26,
   "id": "4c0a5485",
   "metadata": {
    "execution": {
     "iopub.execute_input": "2022-07-17T20:11:20.785755Z",
     "iopub.status.busy": "2022-07-17T20:11:20.784858Z",
     "iopub.status.idle": "2022-07-17T20:11:20.969758Z",
     "shell.execute_reply": "2022-07-17T20:11:20.969318Z"
    },
    "papermill": {
     "duration": 0.23285,
     "end_time": "2022-07-17T20:11:20.969883",
     "exception": false,
     "start_time": "2022-07-17T20:11:20.737033",
     "status": "completed"
    },
    "tags": []
   },
   "outputs": [
    {
     "data": {
      "text/plain": [
       "Text(0.5, 1.0, 'Outputs')"
      ]
     },
     "execution_count": 26,
     "metadata": {},
     "output_type": "execute_result"
    },
    {
     "data": {
      "image/png": "[encoded data removed]",
      "text/plain": [
       "<Figure size 576x504 with 1 Axes>"
      ]
     },
     "metadata": {
      "needs_background": "light"
     },
     "output_type": "display_data"
    }
   ],
   "source": [
    "# Plotting the scatter plot of points and color coding by class\n",
    "plt.figure(figsize=(8,7))\n",
    "plt.scatter(testing_plot[:,0], testing_plot[:,1], alpha = 0.1, c = y_test.ravel());\n",
    "plt.title('Outputs')"
   ]
  },
  {
   "cell_type": "markdown",
   "id": "a74fcf8f",
   "metadata": {
    "papermill": {
     "duration": 0.039526,
     "end_time": "2022-07-17T20:11:21.049107",
     "exception": false,
     "start_time": "2022-07-17T20:11:21.009581",
     "status": "completed"
    },
    "tags": []
   },
   "source": [
    "Probability contours"
   ]
  },
  {
   "cell_type": "code",
   "execution_count": 27,
   "id": "d0afc8e3",
   "metadata": {
    "execution": {
     "iopub.execute_input": "2022-07-17T20:11:21.133435Z",
     "iopub.status.busy": "2022-07-17T20:11:21.132283Z",
     "iopub.status.idle": "2022-07-17T20:11:21.143990Z",
     "shell.execute_reply": "2022-07-17T20:11:21.143443Z"
    },
    "papermill": {
     "duration": 0.054903,
     "end_time": "2022-07-17T20:11:21.144114",
     "exception": false,
     "start_time": "2022-07-17T20:11:21.089211",
     "status": "completed"
    },
    "tags": []
   },
   "outputs": [],
   "source": [
    "model_prob = Model(layers[-2:]) "
   ]
  },
  {
   "cell_type": "code",
   "execution_count": 28,
   "id": "9b96e238",
   "metadata": {
    "execution": {
     "iopub.execute_input": "2022-07-17T20:11:21.236177Z",
     "iopub.status.busy": "2022-07-17T20:11:21.235444Z",
     "iopub.status.idle": "2022-07-17T20:11:21.253597Z",
     "shell.execute_reply": "2022-07-17T20:11:21.254054Z"
    },
    "papermill": {
     "duration": 0.063058,
     "end_time": "2022-07-17T20:11:21.254217",
     "exception": false,
     "start_time": "2022-07-17T20:11:21.191159",
     "status": "completed"
    },
    "tags": []
   },
   "outputs": [],
   "source": [
    "#creating the x and y ranges according to the above generated plot.\n",
    "x_range = np.linspace(-4, 1, 100) \n",
    "y_range = np.linspace(-6, 6, 100) \n",
    "x_grid, y_grid = np.meshgrid(x_range, y_range) # x_grid and y_grig are of size 100 X 100\n",
    "\n",
    "# converting x_grid and y_grid to continuous arrays\n",
    "x_gridflat = np.ravel(x_grid)\n",
    "y_gridflat = np.ravel(y_grid)\n",
    "\n",
    "# The last layer of the current model takes two columns as input. Hence transpose of np.vstack() is required.\n",
    "X = np.vstack((x_gridflat, y_gridflat)).T\n",
    "\n",
    "prob_contour = model_prob(X).reshape(100,100) "
   ]
  },
  {
   "cell_type": "code",
   "execution_count": 29,
   "id": "da72499a",
   "metadata": {
    "execution": {
     "iopub.execute_input": "2022-07-17T20:11:21.393180Z",
     "iopub.status.busy": "2022-07-17T20:11:21.392481Z",
     "iopub.status.idle": "2022-07-17T20:11:21.635615Z",
     "shell.execute_reply": "2022-07-17T20:11:21.634978Z"
    },
    "papermill": {
     "duration": 0.298033,
     "end_time": "2022-07-17T20:11:21.635769",
     "exception": false,
     "start_time": "2022-07-17T20:11:21.337736",
     "status": "completed"
    },
    "tags": []
   },
   "outputs": [
    {
     "data": {
      "image/png": "[encoded data removed]",
      "text/plain": [
       "<Figure size 720x648 with 1 Axes>"
      ]
     },
     "metadata": {
      "needs_background": "light"
     },
     "output_type": "display_data"
    }
   ],
   "source": [
    "plt.figure(figsize=(10,9))\n",
    "plt.scatter(testing_plot[:,0], testing_plot[:,1], alpha = 0.1, c = y_test.ravel())\n",
    "contours = plt.contour(x_grid,y_grid,prob_contour)\n",
    "plt.title('Probability Contours')\n",
    "plt.clabel(contours, inline = True );"
   ]
  },
  {
   "cell_type": "code",
   "execution_count": null,
   "id": "e81b4ac7",
   "metadata": {
    "papermill": {
     "duration": 0.047451,
     "end_time": "2022-07-17T20:11:21.734159",
     "exception": false,
     "start_time": "2022-07-17T20:11:21.686708",
     "status": "completed"
    },
    "tags": []
   },
   "outputs": [],
   "source": []
  }
 ],
 "metadata": {
  "kernelspec": {
   "display_name": "Python 3",
   "language": "python",
   "name": "python3"
  },
  "language_info": {
   "codemirror_mode": {
    "name": "ipython",
    "version": 3
   },
   "file_extension": ".py",
   "mimetype": "text/x-python",
   "name": "python",
   "nbconvert_exporter": "python",
   "pygments_lexer": "ipython3",
   "version": "3.6.15"
  },
  "papermill": {
   "default_parameters": {},
   "duration": 104.212959,
   "end_time": "2022-07-17T20:11:22.200992",
   "environment_variables": {},
   "exception": null,
   "input_path": "2020-08-11-part2.ipynb",
   "output_path": "2020-08-11-part2.ipynb",
   "parameters": {},
   "start_time": "2022-07-17T20:09:37.988033",
   "version": "2.3.3"
  }
 },
 "nbformat": 4,
 "nbformat_minor": 5
}