{
 "cells": [
  {
   "cell_type": "markdown",
   "id": "98380cd3",
   "metadata": {
    "papermill": {
     "duration": 0.034811,
     "end_time": "2021-10-18T20:07:44.256122",
     "exception": false,
     "start_time": "2021-10-18T20:07:44.221311",
     "status": "completed"
    },
    "tags": []
   },
   "source": [
    "# Distinguish Your Own Digits (DYOD)"
   ]
  },
  {
   "cell_type": "markdown",
   "id": "ef31240d",
   "metadata": {
    "papermill": {
     "duration": 0.02716,
     "end_time": "2021-10-18T20:07:44.312596",
     "exception": false,
     "start_time": "2021-10-18T20:07:44.285436",
     "status": "completed"
    },
    "tags": []
   },
   "source": [
    "You are going to write a classifier that distinguishes between the number 3 and number 8."
   ]
  },
  {
   "cell_type": "code",
   "execution_count": 1,
   "id": "b15c8646",
   "metadata": {
    "execution": {
     "iopub.execute_input": "2021-10-18T20:07:44.382568Z",
     "iopub.status.busy": "2021-10-18T20:07:44.381756Z",
     "iopub.status.idle": "2021-10-18T20:07:44.393559Z",
     "shell.execute_reply": "2021-10-18T20:07:44.392995Z"
    },
    "papermill": {
     "duration": 0.054245,
     "end_time": "2021-10-18T20:07:44.393707",
     "exception": false,
     "start_time": "2021-10-18T20:07:44.339462",
     "status": "completed"
    },
    "tags": []
   },
   "outputs": [],
   "source": [
    "%load_ext autoreload\n",
    "%autoreload 2"
   ]
  },
  {
   "cell_type": "code",
   "execution_count": 2,
   "id": "22ef38dc",
   "metadata": {
    "execution": {
     "iopub.execute_input": "2021-10-18T20:07:44.457791Z",
     "iopub.status.busy": "2021-10-18T20:07:44.457121Z",
     "iopub.status.idle": "2021-10-18T20:07:45.044258Z",
     "shell.execute_reply": "2021-10-18T20:07:45.043276Z"
    },
    "papermill": {
     "duration": 0.620604,
     "end_time": "2021-10-18T20:07:45.044417",
     "exception": false,
     "start_time": "2021-10-18T20:07:44.423813",
     "status": "completed"
    },
    "tags": []
   },
   "outputs": [],
   "source": [
    "%matplotlib inline\n",
    "import numpy as np\n",
    "import matplotlib.pyplot as plt\n",
    "import pandas as pd"
   ]
  },
  {
   "cell_type": "markdown",
   "id": "ba036198",
   "metadata": {
    "papermill": {
     "duration": 0.027394,
     "end_time": "2021-10-18T20:07:45.099322",
     "exception": false,
     "start_time": "2021-10-18T20:07:45.071928",
     "status": "completed"
    },
    "tags": []
   },
   "source": [
    "From the command line run `pip install mnist`. This is a library that will help you bring down the mnist dataset. If you run this from a notebook, you need to put  `!pip install mnist` in a cell by itself."
   ]
  },
  {
   "cell_type": "code",
   "execution_count": 3,
   "id": "bb6ad8a1",
   "metadata": {
    "execution": {
     "iopub.execute_input": "2021-10-18T20:07:45.158255Z",
     "iopub.status.busy": "2021-10-18T20:07:45.157631Z",
     "iopub.status.idle": "2021-10-18T20:07:47.005795Z",
     "shell.execute_reply": "2021-10-18T20:07:47.005219Z"
    },
    "papermill": {
     "duration": 1.879766,
     "end_time": "2021-10-18T20:07:47.005933",
     "exception": false,
     "start_time": "2021-10-18T20:07:45.126167",
     "status": "completed"
    },
    "tags": []
   },
   "outputs": [
    {
     "name": "stdout",
     "output_type": "stream",
     "text": [
      "Collecting mnist\r\n",
      "  Downloading mnist-0.2.2-py2.py3-none-any.whl (3.5 kB)\r\n",
      "Requirement already satisfied: numpy in /opt/hostedtoolcache/Python/3.6.15/x64/lib/python3.6/site-packages (from mnist) (1.19.5)\r\n"
     ]
    },
    {
     "name": "stdout",
     "output_type": "stream",
     "text": [
      "Installing collected packages: mnist\r\n"
     ]
    },
    {
     "name": "stdout",
     "output_type": "stream",
     "text": [
      "Successfully installed mnist-0.2.2\r\n"
     ]
    },
    {
     "name": "stdout",
     "output_type": "stream",
     "text": [
      "\u001b[33mWARNING: You are using pip version 21.2.4; however, version 21.3 is available.\r\n",
      "You should consider upgrading via the '/opt/hostedtoolcache/Python/3.6.15/x64/bin/python -m pip install --upgrade pip' command.\u001b[0m\r\n"
     ]
    }
   ],
   "source": [
    "!pip install mnist"
   ]
  },
  {
   "cell_type": "markdown",
   "id": "69df9c9a",
   "metadata": {
    "papermill": {
     "duration": 0.028165,
     "end_time": "2021-10-18T20:07:47.062384",
     "exception": false,
     "start_time": "2021-10-18T20:07:47.034219",
     "status": "completed"
    },
    "tags": []
   },
   "source": [
    "## Preparing the Data"
   ]
  },
  {
   "cell_type": "code",
   "execution_count": 4,
   "id": "7f69d806",
   "metadata": {
    "execution": {
     "iopub.execute_input": "2021-10-18T20:07:47.123908Z",
     "iopub.status.busy": "2021-10-18T20:07:47.123313Z",
     "iopub.status.idle": "2021-10-18T20:07:47.139921Z",
     "shell.execute_reply": "2021-10-18T20:07:47.139397Z"
    },
    "papermill": {
     "duration": 0.049235,
     "end_time": "2021-10-18T20:07:47.140072",
     "exception": false,
     "start_time": "2021-10-18T20:07:47.090837",
     "status": "completed"
    },
    "tags": []
   },
   "outputs": [],
   "source": [
    "import mnist"
   ]
  },
  {
   "cell_type": "code",
   "execution_count": 5,
   "id": "a411e44f",
   "metadata": {
    "execution": {
     "iopub.execute_input": "2021-10-18T20:07:47.200523Z",
     "iopub.status.busy": "2021-10-18T20:07:47.199923Z",
     "iopub.status.idle": "2021-10-18T20:07:47.758828Z",
     "shell.execute_reply": "2021-10-18T20:07:47.757616Z"
    },
    "papermill": {
     "duration": 0.590685,
     "end_time": "2021-10-18T20:07:47.758979",
     "exception": false,
     "start_time": "2021-10-18T20:07:47.168294",
     "status": "completed"
    },
    "tags": []
   },
   "outputs": [],
   "source": [
    "train_images = mnist.train_images()\n",
    "train_labels = mnist.train_labels()"
   ]
  },
  {
   "cell_type": "code",
   "execution_count": 6,
   "id": "dceab3a5",
   "metadata": {
    "execution": {
     "iopub.execute_input": "2021-10-18T20:07:47.823016Z",
     "iopub.status.busy": "2021-10-18T20:07:47.822372Z",
     "iopub.status.idle": "2021-10-18T20:07:47.840662Z",
     "shell.execute_reply": "2021-10-18T20:07:47.840145Z"
    },
    "papermill": {
     "duration": 0.05318,
     "end_time": "2021-10-18T20:07:47.840787",
     "exception": false,
     "start_time": "2021-10-18T20:07:47.787607",
     "status": "completed"
    },
    "tags": []
   },
   "outputs": [
    {
     "data": {
      "text/plain": [
       "((60000, 28, 28), (60000,))"
      ]
     },
     "execution_count": 6,
     "metadata": {},
     "output_type": "execute_result"
    }
   ],
   "source": [
    "train_images.shape, train_labels.shape"
   ]
  },
  {
   "cell_type": "code",
   "execution_count": 7,
   "id": "f50dc2bb",
   "metadata": {
    "execution": {
     "iopub.execute_input": "2021-10-18T20:07:47.901438Z",
     "iopub.status.busy": "2021-10-18T20:07:47.900843Z",
     "iopub.status.idle": "2021-10-18T20:07:48.043894Z",
     "shell.execute_reply": "2021-10-18T20:07:48.043262Z"
    },
    "papermill": {
     "duration": 0.174825,
     "end_time": "2021-10-18T20:07:48.044058",
     "exception": false,
     "start_time": "2021-10-18T20:07:47.869233",
     "status": "completed"
    },
    "tags": []
   },
   "outputs": [],
   "source": [
    "test_images = mnist.test_images()\n",
    "test_labels = mnist.test_labels()"
   ]
  },
  {
   "cell_type": "code",
   "execution_count": 8,
   "id": "fc38cf1b",
   "metadata": {
    "execution": {
     "iopub.execute_input": "2021-10-18T20:07:48.107595Z",
     "iopub.status.busy": "2021-10-18T20:07:48.106989Z",
     "iopub.status.idle": "2021-10-18T20:07:48.127028Z",
     "shell.execute_reply": "2021-10-18T20:07:48.127688Z"
    },
    "papermill": {
     "duration": 0.05368,
     "end_time": "2021-10-18T20:07:48.127884",
     "exception": false,
     "start_time": "2021-10-18T20:07:48.074204",
     "status": "completed"
    },
    "tags": []
   },
   "outputs": [
    {
     "data": {
      "text/plain": [
       "((10000, 28, 28), (10000,))"
      ]
     },
     "execution_count": 8,
     "metadata": {},
     "output_type": "execute_result"
    }
   ],
   "source": [
    "test_images.shape, test_labels.shape"
   ]
  },
  {
   "cell_type": "code",
   "execution_count": 9,
   "id": "f9ed8fe0",
   "metadata": {
    "execution": {
     "iopub.execute_input": "2021-10-18T20:07:48.190522Z",
     "iopub.status.busy": "2021-10-18T20:07:48.189901Z",
     "iopub.status.idle": "2021-10-18T20:07:48.378542Z",
     "shell.execute_reply": "2021-10-18T20:07:48.377994Z"
    },
    "papermill": {
     "duration": 0.220615,
     "end_time": "2021-10-18T20:07:48.378690",
     "exception": false,
     "start_time": "2021-10-18T20:07:48.158075",
     "status": "completed"
    },
    "tags": []
   },
   "outputs": [
    {
     "name": "stdout",
     "output_type": "stream",
     "text": [
      "2\n"
     ]
    },
    {
     "data": {
      "text/plain": [
       "<matplotlib.image.AxesImage at 0x7f758db999b0>"
      ]
     },
     "execution_count": 9,
     "metadata": {},
     "output_type": "execute_result"
    },
    {
     "data": {
      "image/png": "[encoded data removed]",
      "text/plain": [
       "<Figure size 432x288 with 1 Axes>"
      ]
     },
     "metadata": {
      "needs_background": "light"
     },
     "output_type": "display_data"
    }
   ],
   "source": [
    "image_index = 7776 # You may select anything up to 60,000\n",
    "print(train_labels[image_index]) \n",
    "plt.imshow(train_images[image_index], cmap='Greys')"
   ]
  },
  {
   "cell_type": "markdown",
   "id": "a8d2388d",
   "metadata": {
    "papermill": {
     "duration": 0.032761,
     "end_time": "2021-10-18T20:07:48.441685",
     "exception": false,
     "start_time": "2021-10-18T20:07:48.408924",
     "status": "completed"
    },
    "tags": []
   },
   "source": [
    "## Filter data to get 3 and 8 out"
   ]
  },
  {
   "cell_type": "code",
   "execution_count": 10,
   "id": "776f7fc7",
   "metadata": {
    "execution": {
     "iopub.execute_input": "2021-10-18T20:07:48.509450Z",
     "iopub.status.busy": "2021-10-18T20:07:48.508819Z",
     "iopub.status.idle": "2021-10-18T20:07:48.529613Z",
     "shell.execute_reply": "2021-10-18T20:07:48.529057Z"
    },
    "papermill": {
     "duration": 0.057202,
     "end_time": "2021-10-18T20:07:48.529747",
     "exception": false,
     "start_time": "2021-10-18T20:07:48.472545",
     "status": "completed"
    },
    "tags": []
   },
   "outputs": [],
   "source": [
    "train_filter = np.where((train_labels == 3 ) | (train_labels == 8))\n",
    "test_filter = np.where((test_labels == 3) | (test_labels == 8))\n",
    "X_train, y_train = train_images[train_filter], train_labels[train_filter]\n",
    "X_test, y_test = test_images[test_filter], test_labels[test_filter]"
   ]
  },
  {
   "cell_type": "markdown",
   "id": "948f0b7e",
   "metadata": {
    "papermill": {
     "duration": 0.03032,
     "end_time": "2021-10-18T20:07:48.590271",
     "exception": false,
     "start_time": "2021-10-18T20:07:48.559951",
     "status": "completed"
    },
    "tags": []
   },
   "source": [
    "We normalize the pizel values in the 0 to 1 range"
   ]
  },
  {
   "cell_type": "code",
   "execution_count": 11,
   "id": "ee4c2166",
   "metadata": {
    "execution": {
     "iopub.execute_input": "2021-10-18T20:07:48.656033Z",
     "iopub.status.busy": "2021-10-18T20:07:48.655422Z",
     "iopub.status.idle": "2021-10-18T20:07:48.711606Z",
     "shell.execute_reply": "2021-10-18T20:07:48.710786Z"
    },
    "papermill": {
     "duration": 0.092042,
     "end_time": "2021-10-18T20:07:48.711755",
     "exception": false,
     "start_time": "2021-10-18T20:07:48.619713",
     "status": "completed"
    },
    "tags": []
   },
   "outputs": [],
   "source": [
    "X_train = X_train/255.\n",
    "X_test = X_test/255."
   ]
  },
  {
   "cell_type": "markdown",
   "id": "ddcf4fab",
   "metadata": {
    "papermill": {
     "duration": 0.030441,
     "end_time": "2021-10-18T20:07:48.772137",
     "exception": false,
     "start_time": "2021-10-18T20:07:48.741696",
     "status": "completed"
    },
    "tags": []
   },
   "source": [
    "And setup the labels as 1 (when the digit is 3) and 0 (when the digit is 8)"
   ]
  },
  {
   "cell_type": "code",
   "execution_count": 12,
   "id": "7dc908f2",
   "metadata": {
    "execution": {
     "iopub.execute_input": "2021-10-18T20:07:48.836119Z",
     "iopub.status.busy": "2021-10-18T20:07:48.835508Z",
     "iopub.status.idle": "2021-10-18T20:07:48.849393Z",
     "shell.execute_reply": "2021-10-18T20:07:48.848899Z"
    },
    "papermill": {
     "duration": 0.047444,
     "end_time": "2021-10-18T20:07:48.849527",
     "exception": false,
     "start_time": "2021-10-18T20:07:48.802083",
     "status": "completed"
    },
    "tags": []
   },
   "outputs": [],
   "source": [
    "y_train = 1*(y_train==3)\n",
    "y_test = 1*(y_test==3)"
   ]
  },
  {
   "cell_type": "code",
   "execution_count": 13,
   "id": "01e4e969",
   "metadata": {
    "execution": {
     "iopub.execute_input": "2021-10-18T20:07:48.914667Z",
     "iopub.status.busy": "2021-10-18T20:07:48.914038Z",
     "iopub.status.idle": "2021-10-18T20:07:48.928532Z",
     "shell.execute_reply": "2021-10-18T20:07:48.928050Z"
    },
    "papermill": {
     "duration": 0.048798,
     "end_time": "2021-10-18T20:07:48.928653",
     "exception": false,
     "start_time": "2021-10-18T20:07:48.879855",
     "status": "completed"
    },
    "tags": []
   },
   "outputs": [
    {
     "data": {
      "text/plain": [
       "((11982, 28, 28), (1984, 28, 28))"
      ]
     },
     "execution_count": 13,
     "metadata": {},
     "output_type": "execute_result"
    }
   ],
   "source": [
    "X_train.shape, X_test.shape"
   ]
  },
  {
   "cell_type": "markdown",
   "id": "5ccf3f85",
   "metadata": {
    "papermill": {
     "duration": 0.030161,
     "end_time": "2021-10-18T20:07:48.989108",
     "exception": false,
     "start_time": "2021-10-18T20:07:48.958947",
     "status": "completed"
    },
    "tags": []
   },
   "source": [
    "We reshape the data to flatten the image pixels into a set of features or co-variates:"
   ]
  },
  {
   "cell_type": "code",
   "execution_count": 14,
   "id": "5286a4a3",
   "metadata": {
    "execution": {
     "iopub.execute_input": "2021-10-18T20:07:49.053663Z",
     "iopub.status.busy": "2021-10-18T20:07:49.053055Z",
     "iopub.status.idle": "2021-10-18T20:07:49.071987Z",
     "shell.execute_reply": "2021-10-18T20:07:49.071495Z"
    },
    "papermill": {
     "duration": 0.053169,
     "end_time": "2021-10-18T20:07:49.072125",
     "exception": false,
     "start_time": "2021-10-18T20:07:49.018956",
     "status": "completed"
    },
    "tags": []
   },
   "outputs": [
    {
     "data": {
      "text/plain": [
       "((11982, 784), (1984, 784))"
      ]
     },
     "execution_count": 14,
     "metadata": {},
     "output_type": "execute_result"
    }
   ],
   "source": [
    "X_train = X_train.reshape(X_train.shape[0], -1)\n",
    "X_test = X_test.reshape(X_test.shape[0], -1)\n",
    "X_train.shape, X_test.shape"
   ]
  },
  {
   "cell_type": "code",
   "execution_count": 15,
   "id": "73c5f88a",
   "metadata": {
    "execution": {
     "iopub.execute_input": "2021-10-18T20:07:49.141948Z",
     "iopub.status.busy": "2021-10-18T20:07:49.140212Z",
     "iopub.status.idle": "2021-10-18T20:07:49.162231Z",
     "shell.execute_reply": "2021-10-18T20:07:49.162773Z"
    },
    "papermill": {
     "duration": 0.059687,
     "end_time": "2021-10-18T20:07:49.162946",
     "exception": false,
     "start_time": "2021-10-18T20:07:49.103259",
     "status": "completed"
    },
    "tags": []
   },
   "outputs": [],
   "source": [
    "#Impoting functions from 'Kudzu'\n",
    "from kudzu.model import Model\n",
    "from kudzu.train import Learner\n",
    "from kudzu.optim import GD\n",
    "from kudzu.data import Data, Sampler,Dataloader\n",
    "\n",
    "from kudzu.callbacks import AccCallback\n",
    "from kudzu.callbacks import ClfCallback\n",
    "\n",
    "from kudzu.loss import MSE\n",
    "\n",
    "from kudzu.layer import Sigmoid,Relu\n",
    "from kudzu.layer import Affine"
   ]
  },
  {
   "cell_type": "markdown",
   "id": "bc01172a",
   "metadata": {
    "papermill": {
     "duration": 0.030333,
     "end_time": "2021-10-18T20:07:49.224685",
     "exception": false,
     "start_time": "2021-10-18T20:07:49.194352",
     "status": "completed"
    },
    "tags": []
   },
   "source": [
    "### Let us create a `Config` class, to store important parameters. \n",
    "This class essentially plays the role of a dictionary."
   ]
  },
  {
   "cell_type": "code",
   "execution_count": 16,
   "id": "978281aa",
   "metadata": {
    "execution": {
     "iopub.execute_input": "2021-10-18T20:07:49.291471Z",
     "iopub.status.busy": "2021-10-18T20:07:49.289265Z",
     "iopub.status.idle": "2021-10-18T20:07:49.303342Z",
     "shell.execute_reply": "2021-10-18T20:07:49.303815Z"
    },
    "papermill": {
     "duration": 0.048676,
     "end_time": "2021-10-18T20:07:49.303970",
     "exception": false,
     "start_time": "2021-10-18T20:07:49.255294",
     "status": "completed"
    },
    "tags": []
   },
   "outputs": [],
   "source": [
    "class Config:\n",
    "    pass\n",
    "config = Config()\n",
    "config.lr = 0.001\n",
    "config.num_epochs = 250\n",
    "config.bs = 50"
   ]
  },
  {
   "cell_type": "markdown",
   "id": "1385fa59",
   "metadata": {
    "papermill": {
     "duration": 0.038689,
     "end_time": "2021-10-18T20:07:49.375627",
     "exception": false,
     "start_time": "2021-10-18T20:07:49.336938",
     "status": "completed"
    },
    "tags": []
   },
   "source": [
    "### Running Models with the Training data\n",
    "Details about the network layers:\n",
    "- A first affine layer has 784 inputs and does 100 affine transforms. These are followed by a Relu\n",
    "- A second affine layer has 100 inputs from the 100 activations of the past layer, and does 100 affine transforms. These are followed by a Relu\n",
    "- A third affine layer has 100 activations and does 2 affine transformations to create an embedding for visualization. There is no non-linearity here.\n",
    "- A final \"logistic regression\" which has an affine transform from 2 inputs to 1 output, which is squeezed through a sigmoid.\n"
   ]
  },
  {
   "cell_type": "code",
   "execution_count": 17,
   "id": "2b9c66db",
   "metadata": {
    "execution": {
     "iopub.execute_input": "2021-10-18T20:07:49.447859Z",
     "iopub.status.busy": "2021-10-18T20:07:49.447240Z",
     "iopub.status.idle": "2021-10-18T20:07:49.460836Z",
     "shell.execute_reply": "2021-10-18T20:07:49.460322Z"
    },
    "papermill": {
     "duration": 0.05256,
     "end_time": "2021-10-18T20:07:49.460973",
     "exception": false,
     "start_time": "2021-10-18T20:07:49.408413",
     "status": "completed"
    },
    "tags": []
   },
   "outputs": [],
   "source": [
    "data = Data(X_train, y_train.reshape(-1,1))\n",
    "sampler = Sampler(data, config.bs, shuffle=True)\n",
    "\n",
    "dl = Dataloader(data, sampler)\n",
    "\n",
    "opt = GD(config.lr)\n",
    "loss = MSE()"
   ]
  },
  {
   "cell_type": "code",
   "execution_count": 18,
   "id": "b275e4c2",
   "metadata": {
    "execution": {
     "iopub.execute_input": "2021-10-18T20:07:49.526602Z",
     "iopub.status.busy": "2021-10-18T20:07:49.525971Z",
     "iopub.status.idle": "2021-10-18T20:07:49.541564Z",
     "shell.execute_reply": "2021-10-18T20:07:49.540415Z"
    },
    "papermill": {
     "duration": 0.049733,
     "end_time": "2021-10-18T20:07:49.541793",
     "exception": false,
     "start_time": "2021-10-18T20:07:49.492060",
     "status": "completed"
    },
    "tags": []
   },
   "outputs": [],
   "source": [
    "training_data_x = X_train\n",
    "testing_data_x = X_test\n",
    "training_data_y = y_train.reshape(-1,1)\n",
    "testing_data_y = y_test.reshape(-1,1)"
   ]
  },
  {
   "cell_type": "code",
   "execution_count": 19,
   "id": "76951160",
   "metadata": {
    "execution": {
     "iopub.execute_input": "2021-10-18T20:07:49.616387Z",
     "iopub.status.busy": "2021-10-18T20:07:49.615743Z",
     "iopub.status.idle": "2021-10-18T20:07:49.633932Z",
     "shell.execute_reply": "2021-10-18T20:07:49.634421Z"
    },
    "papermill": {
     "duration": 0.053946,
     "end_time": "2021-10-18T20:07:49.634614",
     "exception": false,
     "start_time": "2021-10-18T20:07:49.580668",
     "status": "completed"
    },
    "tags": []
   },
   "outputs": [
    {
     "name": "stdout",
     "output_type": "stream",
     "text": [
      "xavier\n",
      "xavier\n",
      "xavier\n",
      "xavier\n",
      "xavier\n"
     ]
    }
   ],
   "source": [
    "layers = [Affine(\"first\", 784, 100), Relu(\"first\"), Affine(\"second\", 100, 100), Relu(\"second\"), Affine(\"third\", 100, 2), Affine(\"last\", 2, 1), Sigmoid(\"last\")]\n",
    "model_nn = Model(layers)\n",
    "model_lr = Model([Affine(\"logits\", 784, 1), Sigmoid(\"sigmoid\")])"
   ]
  },
  {
   "cell_type": "code",
   "execution_count": 20,
   "id": "6eede77a",
   "metadata": {
    "execution": {
     "iopub.execute_input": "2021-10-18T20:07:49.711354Z",
     "iopub.status.busy": "2021-10-18T20:07:49.710711Z",
     "iopub.status.idle": "2021-10-18T20:07:49.724063Z",
     "shell.execute_reply": "2021-10-18T20:07:49.723556Z"
    },
    "papermill": {
     "duration": 0.055043,
     "end_time": "2021-10-18T20:07:49.724186",
     "exception": false,
     "start_time": "2021-10-18T20:07:49.669143",
     "status": "completed"
    },
    "tags": []
   },
   "outputs": [],
   "source": [
    "nn_learner = Learner(loss, model_nn, opt, config.num_epochs)\n",
    "acc_nn = ClfCallback(nn_learner, config.bs, training_data_x , testing_data_x, training_data_y, testing_data_y)\n",
    "nn_learner.set_callbacks([acc_nn])"
   ]
  },
  {
   "cell_type": "code",
   "execution_count": 21,
   "id": "877b6cc7",
   "metadata": {
    "execution": {
     "iopub.execute_input": "2021-10-18T20:07:49.796189Z",
     "iopub.status.busy": "2021-10-18T20:07:49.795265Z",
     "iopub.status.idle": "2021-10-18T20:07:49.808504Z",
     "shell.execute_reply": "2021-10-18T20:07:49.808966Z"
    },
    "papermill": {
     "duration": 0.052227,
     "end_time": "2021-10-18T20:07:49.809126",
     "exception": false,
     "start_time": "2021-10-18T20:07:49.756899",
     "status": "completed"
    },
    "tags": []
   },
   "outputs": [],
   "source": [
    "lr_learner = Learner(loss, model_lr, opt, config.num_epochs)\n",
    "acc_lr = ClfCallback(lr_learner, config.bs, training_data_x , testing_data_x, training_data_y, testing_data_y)\n",
    "lr_learner.set_callbacks([acc_lr])"
   ]
  },
  {
   "cell_type": "code",
   "execution_count": 22,
   "id": "d9b133c3",
   "metadata": {
    "execution": {
     "iopub.execute_input": "2021-10-18T20:07:49.881332Z",
     "iopub.status.busy": "2021-10-18T20:07:49.880716Z",
     "iopub.status.idle": "2021-10-18T20:09:18.382738Z",
     "shell.execute_reply": "2021-10-18T20:09:18.383619Z"
    },
    "papermill": {
     "duration": 88.543223,
     "end_time": "2021-10-18T20:09:18.383778",
     "exception": false,
     "start_time": "2021-10-18T20:07:49.840555",
     "status": "completed"
    },
    "tags": []
   },
   "outputs": [
    {
     "name": "stdout",
     "output_type": "stream",
     "text": [
      "Epoch 0, Loss 0.2529\n",
      "Training Accuracy: 0.5018, Testing Accuracy: 0.5005\n",
      "\n"
     ]
    },
    {
     "name": "stdout",
     "output_type": "stream",
     "text": [
      "Epoch 10, Loss 0.1199\n",
      "Training Accuracy: 0.9166, Testing Accuracy: 0.9249\n",
      "\n"
     ]
    },
    {
     "name": "stdout",
     "output_type": "stream",
     "text": [
      "Epoch 20, Loss 0.0639\n",
      "Training Accuracy: 0.9395, Testing Accuracy: 0.9476\n",
      "\n"
     ]
    },
    {
     "name": "stdout",
     "output_type": "stream",
     "text": [
      "Epoch 30, Loss 0.0475\n",
      "Training Accuracy: 0.9498, Testing Accuracy: 0.9582\n",
      "\n"
     ]
    },
    {
     "name": "stdout",
     "output_type": "stream",
     "text": [
      "Epoch 40, Loss 0.0401\n",
      "Training Accuracy: 0.9577, Testing Accuracy: 0.9642\n",
      "\n"
     ]
    },
    {
     "name": "stdout",
     "output_type": "stream",
     "text": [
      "Epoch 50, Loss 0.0359\n",
      "Training Accuracy: 0.9602, Testing Accuracy: 0.9677\n",
      "\n"
     ]
    },
    {
     "name": "stdout",
     "output_type": "stream",
     "text": [
      "Epoch 60, Loss 0.0331\n",
      "Training Accuracy: 0.9626, Testing Accuracy: 0.9698\n",
      "\n"
     ]
    },
    {
     "name": "stdout",
     "output_type": "stream",
     "text": [
      "Epoch 70, Loss 0.031\n",
      "Training Accuracy: 0.9650, Testing Accuracy: 0.9698\n",
      "\n"
     ]
    },
    {
     "name": "stdout",
     "output_type": "stream",
     "text": [
      "Epoch 80, Loss 0.0294\n",
      "Training Accuracy: 0.9664, Testing Accuracy: 0.9703\n",
      "\n"
     ]
    },
    {
     "name": "stdout",
     "output_type": "stream",
     "text": [
      "Epoch 90, Loss 0.0281\n",
      "Training Accuracy: 0.9681, Testing Accuracy: 0.9708\n",
      "\n"
     ]
    },
    {
     "name": "stdout",
     "output_type": "stream",
     "text": [
      "Epoch 100, Loss 0.027\n",
      "Training Accuracy: 0.9690, Testing Accuracy: 0.9713\n",
      "\n"
     ]
    },
    {
     "name": "stdout",
     "output_type": "stream",
     "text": [
      "Epoch 110, Loss 0.0261\n",
      "Training Accuracy: 0.9700, Testing Accuracy: 0.9718\n",
      "\n"
     ]
    },
    {
     "name": "stdout",
     "output_type": "stream",
     "text": [
      "Epoch 120, Loss 0.0252\n",
      "Training Accuracy: 0.9703, Testing Accuracy: 0.9713\n",
      "\n"
     ]
    },
    {
     "name": "stdout",
     "output_type": "stream",
     "text": [
      "Epoch 130, Loss 0.0245\n",
      "Training Accuracy: 0.9712, Testing Accuracy: 0.9713\n",
      "\n"
     ]
    },
    {
     "name": "stdout",
     "output_type": "stream",
     "text": [
      "Epoch 140, Loss 0.0238\n",
      "Training Accuracy: 0.9724, Testing Accuracy: 0.9718\n",
      "\n"
     ]
    },
    {
     "name": "stdout",
     "output_type": "stream",
     "text": [
      "Epoch 150, Loss 0.0232\n",
      "Training Accuracy: 0.9730, Testing Accuracy: 0.9718\n",
      "\n"
     ]
    },
    {
     "name": "stdout",
     "output_type": "stream",
     "text": [
      "Epoch 160, Loss 0.0226\n",
      "Training Accuracy: 0.9734, Testing Accuracy: 0.9728\n",
      "\n"
     ]
    },
    {
     "name": "stdout",
     "output_type": "stream",
     "text": [
      "Epoch 170, Loss 0.0221\n",
      "Training Accuracy: 0.9740, Testing Accuracy: 0.9733\n",
      "\n"
     ]
    },
    {
     "name": "stdout",
     "output_type": "stream",
     "text": [
      "Epoch 180, Loss 0.0216\n",
      "Training Accuracy: 0.9745, Testing Accuracy: 0.9733\n",
      "\n"
     ]
    },
    {
     "name": "stdout",
     "output_type": "stream",
     "text": [
      "Epoch 190, Loss 0.0211\n",
      "Training Accuracy: 0.9755, Testing Accuracy: 0.9733\n",
      "\n"
     ]
    },
    {
     "name": "stdout",
     "output_type": "stream",
     "text": [
      "Epoch 200, Loss 0.0206\n",
      "Training Accuracy: 0.9761, Testing Accuracy: 0.9733\n",
      "\n"
     ]
    },
    {
     "name": "stdout",
     "output_type": "stream",
     "text": [
      "Epoch 210, Loss 0.0202\n",
      "Training Accuracy: 0.9766, Testing Accuracy: 0.9753\n",
      "\n"
     ]
    },
    {
     "name": "stdout",
     "output_type": "stream",
     "text": [
      "Epoch 220, Loss 0.0198\n",
      "Training Accuracy: 0.9771, Testing Accuracy: 0.9763\n",
      "\n"
     ]
    },
    {
     "name": "stdout",
     "output_type": "stream",
     "text": [
      "Epoch 230, Loss 0.0193\n",
      "Training Accuracy: 0.9777, Testing Accuracy: 0.9763\n",
      "\n"
     ]
    },
    {
     "name": "stdout",
     "output_type": "stream",
     "text": [
      "Epoch 240, Loss 0.0189\n",
      "Training Accuracy: 0.9782, Testing Accuracy: 0.9773\n",
      "\n"
     ]
    },
    {
     "data": {
      "text/plain": [
       "0.0345132839232792"
      ]
     },
     "execution_count": 22,
     "metadata": {},
     "output_type": "execute_result"
    }
   ],
   "source": [
    "nn_learner.train_loop(dl)"
   ]
  },
  {
   "cell_type": "code",
   "execution_count": 23,
   "id": "e0163366",
   "metadata": {
    "execution": {
     "iopub.execute_input": "2021-10-18T20:09:18.472050Z",
     "iopub.status.busy": "2021-10-18T20:09:18.471445Z",
     "iopub.status.idle": "2021-10-18T20:09:34.314611Z",
     "shell.execute_reply": "2021-10-18T20:09:34.315466Z"
    },
    "papermill": {
     "duration": 15.891641,
     "end_time": "2021-10-18T20:09:34.315636",
     "exception": false,
     "start_time": "2021-10-18T20:09:18.423995",
     "status": "completed"
    },
    "tags": []
   },
   "outputs": [
    {
     "name": "stdout",
     "output_type": "stream",
     "text": [
      "Epoch 0, Loss 0.2463\n",
      "Training Accuracy: 0.6668, Testing Accuracy: 0.6875\n",
      "\n"
     ]
    },
    {
     "name": "stdout",
     "output_type": "stream",
     "text": [
      "Epoch 10, Loss 0.1054\n",
      "Training Accuracy: 0.9065, Testing Accuracy: 0.9219\n",
      "\n"
     ]
    },
    {
     "name": "stdout",
     "output_type": "stream",
     "text": [
      "Epoch 20, Loss 0.0806\n",
      "Training Accuracy: 0.9265, Testing Accuracy: 0.9395\n",
      "\n"
     ]
    },
    {
     "name": "stdout",
     "output_type": "stream",
     "text": [
      "Epoch 30, Loss 0.0692\n",
      "Training Accuracy: 0.9369, Testing Accuracy: 0.9486\n",
      "\n"
     ]
    },
    {
     "name": "stdout",
     "output_type": "stream",
     "text": [
      "Epoch 40, Loss 0.0623\n",
      "Training Accuracy: 0.9410, Testing Accuracy: 0.9521\n",
      "\n"
     ]
    },
    {
     "name": "stdout",
     "output_type": "stream",
     "text": [
      "Epoch 50, Loss 0.0576\n",
      "Training Accuracy: 0.9441, Testing Accuracy: 0.9541\n",
      "\n"
     ]
    },
    {
     "name": "stdout",
     "output_type": "stream",
     "text": [
      "Epoch 60, Loss 0.0542\n",
      "Training Accuracy: 0.9463, Testing Accuracy: 0.9546\n",
      "\n"
     ]
    },
    {
     "name": "stdout",
     "output_type": "stream",
     "text": [
      "Epoch 70, Loss 0.0516\n",
      "Training Accuracy: 0.9480, Testing Accuracy: 0.9572\n",
      "\n"
     ]
    },
    {
     "name": "stdout",
     "output_type": "stream",
     "text": [
      "Epoch 80, Loss 0.0495\n",
      "Training Accuracy: 0.9495, Testing Accuracy: 0.9577\n",
      "\n"
     ]
    },
    {
     "name": "stdout",
     "output_type": "stream",
     "text": [
      "Epoch 90, Loss 0.0478\n",
      "Training Accuracy: 0.9514, Testing Accuracy: 0.9602\n",
      "\n"
     ]
    },
    {
     "name": "stdout",
     "output_type": "stream",
     "text": [
      "Epoch 100, Loss 0.0463\n",
      "Training Accuracy: 0.9530, Testing Accuracy: 0.9617\n",
      "\n"
     ]
    },
    {
     "name": "stdout",
     "output_type": "stream",
     "text": [
      "Epoch 110, Loss 0.0451\n",
      "Training Accuracy: 0.9534, Testing Accuracy: 0.9632\n",
      "\n"
     ]
    },
    {
     "name": "stdout",
     "output_type": "stream",
     "text": [
      "Epoch 120, Loss 0.044\n",
      "Training Accuracy: 0.9540, Testing Accuracy: 0.9632\n",
      "\n"
     ]
    },
    {
     "name": "stdout",
     "output_type": "stream",
     "text": [
      "Epoch 130, Loss 0.0431\n",
      "Training Accuracy: 0.9545, Testing Accuracy: 0.9632\n",
      "\n"
     ]
    },
    {
     "name": "stdout",
     "output_type": "stream",
     "text": [
      "Epoch 140, Loss 0.0422\n",
      "Training Accuracy: 0.9559, Testing Accuracy: 0.9642\n",
      "\n"
     ]
    },
    {
     "name": "stdout",
     "output_type": "stream",
     "text": [
      "Epoch 150, Loss 0.0414\n",
      "Training Accuracy: 0.9567, Testing Accuracy: 0.9647\n",
      "\n"
     ]
    },
    {
     "name": "stdout",
     "output_type": "stream",
     "text": [
      "Epoch 160, Loss 0.0408\n",
      "Training Accuracy: 0.9569, Testing Accuracy: 0.9657\n",
      "\n"
     ]
    },
    {
     "name": "stdout",
     "output_type": "stream",
     "text": [
      "Epoch 170, Loss 0.0401\n",
      "Training Accuracy: 0.9574, Testing Accuracy: 0.9662\n",
      "\n"
     ]
    },
    {
     "name": "stdout",
     "output_type": "stream",
     "text": [
      "Epoch 180, Loss 0.0396\n",
      "Training Accuracy: 0.9579, Testing Accuracy: 0.9662\n",
      "\n"
     ]
    },
    {
     "name": "stdout",
     "output_type": "stream",
     "text": [
      "Epoch 190, Loss 0.0391\n",
      "Training Accuracy: 0.9581, Testing Accuracy: 0.9662\n",
      "\n"
     ]
    },
    {
     "name": "stdout",
     "output_type": "stream",
     "text": [
      "Epoch 200, Loss 0.0386\n",
      "Training Accuracy: 0.9587, Testing Accuracy: 0.9672\n",
      "\n"
     ]
    },
    {
     "name": "stdout",
     "output_type": "stream",
     "text": [
      "Epoch 210, Loss 0.0381\n",
      "Training Accuracy: 0.9591, Testing Accuracy: 0.9667\n",
      "\n"
     ]
    },
    {
     "name": "stdout",
     "output_type": "stream",
     "text": [
      "Epoch 220, Loss 0.0377\n",
      "Training Accuracy: 0.9594, Testing Accuracy: 0.9667\n",
      "\n"
     ]
    },
    {
     "name": "stdout",
     "output_type": "stream",
     "text": [
      "Epoch 230, Loss 0.0373\n",
      "Training Accuracy: 0.9596, Testing Accuracy: 0.9667\n",
      "\n"
     ]
    },
    {
     "name": "stdout",
     "output_type": "stream",
     "text": [
      "Epoch 240, Loss 0.0369\n",
      "Training Accuracy: 0.9597, Testing Accuracy: 0.9667\n",
      "\n"
     ]
    },
    {
     "data": {
      "text/plain": [
       "0.038009282034188435"
      ]
     },
     "execution_count": 23,
     "metadata": {},
     "output_type": "execute_result"
    }
   ],
   "source": [
    "lr_learner.train_loop(dl)"
   ]
  },
  {
   "cell_type": "code",
   "execution_count": 24,
   "id": "ca410940",
   "metadata": {
    "execution": {
     "iopub.execute_input": "2021-10-18T20:09:34.424085Z",
     "iopub.status.busy": "2021-10-18T20:09:34.423460Z",
     "iopub.status.idle": "2021-10-18T20:09:34.675893Z",
     "shell.execute_reply": "2021-10-18T20:09:34.675360Z"
    },
    "papermill": {
     "duration": 0.313595,
     "end_time": "2021-10-18T20:09:34.676030",
     "exception": false,
     "start_time": "2021-10-18T20:09:34.362435",
     "status": "completed"
    },
    "tags": []
   },
   "outputs": [
    {
     "data": {
      "text/plain": [
       "<matplotlib.legend.Legend at 0x7f758d6faeb8>"
      ]
     },
     "execution_count": 24,
     "metadata": {},
     "output_type": "execute_result"
    },
    {
     "data": {
      "image/png": "[encoded data removed]",
      "text/plain": [
       "<Figure size 1080x720 with 1 Axes>"
      ]
     },
     "metadata": {
      "needs_background": "light"
     },
     "output_type": "display_data"
    }
   ],
   "source": [
    "#comparing the results of NN and LR\n",
    "plt.figure(figsize=(15,10))\n",
    "\n",
    "# Neural Network plots\n",
    "plt.plot(acc_nn.accuracies, 'r-', label = \"Training Accuracies - NN\")\n",
    "plt.plot(acc_nn.test_accuracies, 'g-', label = \"Testing Accuracies - NN\")\n",
    "\n",
    "# Logistic Regression plots\n",
    "plt.plot(acc_lr.accuracies, 'k-', label = \"Training Accuracies - LR\")\n",
    "plt.plot(acc_lr.test_accuracies, 'b-', label = \"Testing Accuracies - LR\")\n",
    "plt.legend()"
   ]
  },
  {
   "cell_type": "markdown",
   "id": "80dfb35c",
   "metadata": {
    "papermill": {
     "duration": 0.047362,
     "end_time": "2021-10-18T20:09:34.771494",
     "exception": false,
     "start_time": "2021-10-18T20:09:34.724132",
     "status": "completed"
    },
    "tags": []
   },
   "source": [
    "#### Plotting the outputs of this layer of the NN.\n"
   ]
  },
  {
   "cell_type": "code",
   "execution_count": 25,
   "id": "45eb2ff5",
   "metadata": {
    "execution": {
     "iopub.execute_input": "2021-10-18T20:09:34.870767Z",
     "iopub.status.busy": "2021-10-18T20:09:34.870101Z",
     "iopub.status.idle": "2021-10-18T20:09:34.893885Z",
     "shell.execute_reply": "2021-10-18T20:09:34.893333Z"
    },
    "papermill": {
     "duration": 0.074998,
     "end_time": "2021-10-18T20:09:34.894020",
     "exception": false,
     "start_time": "2021-10-18T20:09:34.819022",
     "status": "completed"
    },
    "tags": []
   },
   "outputs": [],
   "source": [
    "new_model = Model(layers[:-2])\n",
    "testing_plot = new_model(testing_data_x)"
   ]
  },
  {
   "cell_type": "code",
   "execution_count": 26,
   "id": "4c0a5485",
   "metadata": {
    "execution": {
     "iopub.execute_input": "2021-10-18T20:09:35.007334Z",
     "iopub.status.busy": "2021-10-18T20:09:35.006714Z",
     "iopub.status.idle": "2021-10-18T20:09:35.271224Z",
     "shell.execute_reply": "2021-10-18T20:09:35.270709Z"
    },
    "papermill": {
     "duration": 0.32298,
     "end_time": "2021-10-18T20:09:35.271363",
     "exception": false,
     "start_time": "2021-10-18T20:09:34.948383",
     "status": "completed"
    },
    "tags": []
   },
   "outputs": [
    {
     "data": {
      "text/plain": [
       "Text(0.5, 1.0, 'Outputs')"
      ]
     },
     "execution_count": 26,
     "metadata": {},
     "output_type": "execute_result"
    },
    {
     "data": {
      "image/png": "[encoded data removed]",
      "text/plain": [
       "<Figure size 576x504 with 1 Axes>"
      ]
     },
     "metadata": {
      "needs_background": "light"
     },
     "output_type": "display_data"
    }
   ],
   "source": [
    "# Plotting the scatter plot of points and color coding by class\n",
    "plt.figure(figsize=(8,7))\n",
    "plt.scatter(testing_plot[:,0], testing_plot[:,1], alpha = 0.1, c = y_test.ravel());\n",
    "plt.title('Outputs')"
   ]
  },
  {
   "cell_type": "markdown",
   "id": "a74fcf8f",
   "metadata": {
    "papermill": {
     "duration": 0.051421,
     "end_time": "2021-10-18T20:09:35.374112",
     "exception": false,
     "start_time": "2021-10-18T20:09:35.322691",
     "status": "completed"
    },
    "tags": []
   },
   "source": [
    "Probability contours"
   ]
  },
  {
   "cell_type": "code",
   "execution_count": 27,
   "id": "d0afc8e3",
   "metadata": {
    "execution": {
     "iopub.execute_input": "2021-10-18T20:09:35.483999Z",
     "iopub.status.busy": "2021-10-18T20:09:35.483321Z",
     "iopub.status.idle": "2021-10-18T20:09:35.492962Z",
     "shell.execute_reply": "2021-10-18T20:09:35.492473Z"
    },
    "papermill": {
     "duration": 0.067751,
     "end_time": "2021-10-18T20:09:35.493098",
     "exception": false,
     "start_time": "2021-10-18T20:09:35.425347",
     "status": "completed"
    },
    "tags": []
   },
   "outputs": [],
   "source": [
    "model_prob = Model(layers[-2:]) "
   ]
  },
  {
   "cell_type": "code",
   "execution_count": 28,
   "id": "9b96e238",
   "metadata": {
    "execution": {
     "iopub.execute_input": "2021-10-18T20:09:35.631573Z",
     "iopub.status.busy": "2021-10-18T20:09:35.630962Z",
     "iopub.status.idle": "2021-10-18T20:09:35.646929Z",
     "shell.execute_reply": "2021-10-18T20:09:35.647393Z"
    },
    "papermill": {
     "duration": 0.072342,
     "end_time": "2021-10-18T20:09:35.647545",
     "exception": false,
     "start_time": "2021-10-18T20:09:35.575203",
     "status": "completed"
    },
    "tags": []
   },
   "outputs": [],
   "source": [
    "#creating the x and y ranges according to the above generated plot.\n",
    "x_range = np.linspace(-4, 1, 100) \n",
    "y_range = np.linspace(-6, 6, 100) \n",
    "x_grid, y_grid = np.meshgrid(x_range, y_range) # x_grid and y_grig are of size 100 X 100\n",
    "\n",
    "# converting x_grid and y_grid to continuous arrays\n",
    "x_gridflat = np.ravel(x_grid)\n",
    "y_gridflat = np.ravel(y_grid)\n",
    "\n",
    "# The last layer of the current model takes two columns as input. Hence transpose of np.vstack() is required.\n",
    "X = np.vstack((x_gridflat, y_gridflat)).T\n",
    "\n",
    "prob_contour = model_prob(X).reshape(100,100) "
   ]
  },
  {
   "cell_type": "code",
   "execution_count": 29,
   "id": "da72499a",
   "metadata": {
    "execution": {
     "iopub.execute_input": "2021-10-18T20:09:35.758666Z",
     "iopub.status.busy": "2021-10-18T20:09:35.757996Z",
     "iopub.status.idle": "2021-10-18T20:09:36.049115Z",
     "shell.execute_reply": "2021-10-18T20:09:36.049571Z"
    },
    "papermill": {
     "duration": 0.346862,
     "end_time": "2021-10-18T20:09:36.049733",
     "exception": false,
     "start_time": "2021-10-18T20:09:35.702871",
     "status": "completed"
    },
    "tags": []
   },
   "outputs": [
    {
     "data": {
      "image/png": "[encoded data removed]",
      "text/plain": [
       "<Figure size 720x648 with 1 Axes>"
      ]
     },
     "metadata": {
      "needs_background": "light"
     },
     "output_type": "display_data"
    }
   ],
   "source": [
    "plt.figure(figsize=(10,9))\n",
    "plt.scatter(testing_plot[:,0], testing_plot[:,1], alpha = 0.1, c = y_test.ravel())\n",
    "contours = plt.contour(x_grid,y_grid,prob_contour)\n",
    "plt.title('Probability Contours')\n",
    "plt.clabel(contours, inline = True );"
   ]
  },
  {
   "cell_type": "code",
   "execution_count": null,
   "id": "e81b4ac7",
   "metadata": {
    "papermill": {
     "duration": 0.054368,
     "end_time": "2021-10-18T20:09:36.158211",
     "exception": false,
     "start_time": "2021-10-18T20:09:36.103843",
     "status": "completed"
    },
    "tags": []
   },
   "outputs": [],
   "source": []
  }
 ],
 "metadata": {
  "kernelspec": {
   "display_name": "Python 3",
   "language": "python",
   "name": "python3"
  },
  "language_info": {
   "codemirror_mode": {
    "name": "ipython",
    "version": 3
   },
   "file_extension": ".py",
   "mimetype": "text/x-python",
   "name": "python",
   "nbconvert_exporter": "python",
   "pygments_lexer": "ipython3",
   "version": "3.6.15"
  },
  "papermill": {
   "default_parameters": {},
   "duration": 113.477913,
   "end_time": "2021-10-18T20:09:36.620609",
   "environment_variables": {},
   "exception": null,
   "input_path": "2020-08-11-part2.ipynb",
   "output_path": "2020-08-11-part2.ipynb",
   "parameters": {},
   "start_time": "2021-10-18T20:07:43.142696",
   "version": "2.3.3"
  }
 },
 "nbformat": 4,
 "nbformat_minor": 5
}