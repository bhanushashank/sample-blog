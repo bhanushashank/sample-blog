{
 "cells": [
  {
   "cell_type": "markdown",
   "id": "98380cd3",
   "metadata": {
    "papermill": {
     "duration": 0.032507,
     "end_time": "2021-12-09T10:09:26.543659",
     "exception": false,
     "start_time": "2021-12-09T10:09:26.511152",
     "status": "completed"
    },
    "tags": []
   },
   "source": [
    "# Distinguish Your Own Digits (DYOD)"
   ]
  },
  {
   "cell_type": "markdown",
   "id": "ef31240d",
   "metadata": {
    "papermill": {
     "duration": 0.026856,
     "end_time": "2021-12-09T10:09:26.599143",
     "exception": false,
     "start_time": "2021-12-09T10:09:26.572287",
     "status": "completed"
    },
    "tags": []
   },
   "source": [
    "You are going to write a classifier that distinguishes between the number 3 and number 8."
   ]
  },
  {
   "cell_type": "code",
   "execution_count": 1,
   "id": "b15c8646",
   "metadata": {
    "execution": {
     "iopub.execute_input": "2021-12-09T10:09:26.668991Z",
     "iopub.status.busy": "2021-12-09T10:09:26.667887Z",
     "iopub.status.idle": "2021-12-09T10:09:26.679597Z",
     "shell.execute_reply": "2021-12-09T10:09:26.678975Z"
    },
    "papermill": {
     "duration": 0.052747,
     "end_time": "2021-12-09T10:09:26.679715",
     "exception": false,
     "start_time": "2021-12-09T10:09:26.626968",
     "status": "completed"
    },
    "tags": []
   },
   "outputs": [],
   "source": [
    "%load_ext autoreload\n",
    "%autoreload 2"
   ]
  },
  {
   "cell_type": "code",
   "execution_count": 2,
   "id": "22ef38dc",
   "metadata": {
    "execution": {
     "iopub.execute_input": "2021-12-09T10:09:26.737144Z",
     "iopub.status.busy": "2021-12-09T10:09:26.736533Z",
     "iopub.status.idle": "2021-12-09T10:09:27.392783Z",
     "shell.execute_reply": "2021-12-09T10:09:27.393280Z"
    },
    "papermill": {
     "duration": 0.687065,
     "end_time": "2021-12-09T10:09:27.393476",
     "exception": false,
     "start_time": "2021-12-09T10:09:26.706411",
     "status": "completed"
    },
    "tags": []
   },
   "outputs": [],
   "source": [
    "%matplotlib inline\n",
    "import numpy as np\n",
    "import matplotlib.pyplot as plt\n",
    "import pandas as pd"
   ]
  },
  {
   "cell_type": "markdown",
   "id": "ba036198",
   "metadata": {
    "papermill": {
     "duration": 0.027256,
     "end_time": "2021-12-09T10:09:27.448819",
     "exception": false,
     "start_time": "2021-12-09T10:09:27.421563",
     "status": "completed"
    },
    "tags": []
   },
   "source": [
    "From the command line run `pip install mnist`. This is a library that will help you bring down the mnist dataset. If you run this from a notebook, you need to put  `!pip install mnist` in a cell by itself."
   ]
  },
  {
   "cell_type": "code",
   "execution_count": 3,
   "id": "bb6ad8a1",
   "metadata": {
    "execution": {
     "iopub.execute_input": "2021-12-09T10:09:27.510234Z",
     "iopub.status.busy": "2021-12-09T10:09:27.509556Z",
     "iopub.status.idle": "2021-12-09T10:09:29.638022Z",
     "shell.execute_reply": "2021-12-09T10:09:29.637040Z"
    },
    "papermill": {
     "duration": 2.161545,
     "end_time": "2021-12-09T10:09:29.638176",
     "exception": false,
     "start_time": "2021-12-09T10:09:27.476631",
     "status": "completed"
    },
    "tags": []
   },
   "outputs": [
    {
     "name": "stdout",
     "output_type": "stream",
     "text": [
      "Collecting mnist\r\n"
     ]
    },
    {
     "name": "stdout",
     "output_type": "stream",
     "text": [
      "  Downloading mnist-0.2.2-py2.py3-none-any.whl (3.5 kB)\r\n",
      "Requirement already satisfied: numpy in /opt/hostedtoolcache/Python/3.6.15/x64/lib/python3.6/site-packages (from mnist) (1.19.5)\r\n"
     ]
    },
    {
     "name": "stdout",
     "output_type": "stream",
     "text": [
      "Installing collected packages: mnist\r\n",
      "Successfully installed mnist-0.2.2\r\n"
     ]
    }
   ],
   "source": [
    "!pip install mnist"
   ]
  },
  {
   "cell_type": "markdown",
   "id": "69df9c9a",
   "metadata": {
    "papermill": {
     "duration": 0.027862,
     "end_time": "2021-12-09T10:09:29.694486",
     "exception": false,
     "start_time": "2021-12-09T10:09:29.666624",
     "status": "completed"
    },
    "tags": []
   },
   "source": [
    "## Preparing the Data"
   ]
  },
  {
   "cell_type": "code",
   "execution_count": 4,
   "id": "7f69d806",
   "metadata": {
    "execution": {
     "iopub.execute_input": "2021-12-09T10:09:29.756458Z",
     "iopub.status.busy": "2021-12-09T10:09:29.755854Z",
     "iopub.status.idle": "2021-12-09T10:09:29.772072Z",
     "shell.execute_reply": "2021-12-09T10:09:29.771588Z"
    },
    "papermill": {
     "duration": 0.04988,
     "end_time": "2021-12-09T10:09:29.772202",
     "exception": false,
     "start_time": "2021-12-09T10:09:29.722322",
     "status": "completed"
    },
    "tags": []
   },
   "outputs": [],
   "source": [
    "import mnist"
   ]
  },
  {
   "cell_type": "code",
   "execution_count": 5,
   "id": "a411e44f",
   "metadata": {
    "execution": {
     "iopub.execute_input": "2021-12-09T10:09:29.833916Z",
     "iopub.status.busy": "2021-12-09T10:09:29.833277Z",
     "iopub.status.idle": "2021-12-09T10:09:30.572275Z",
     "shell.execute_reply": "2021-12-09T10:09:30.572760Z"
    },
    "papermill": {
     "duration": 0.772048,
     "end_time": "2021-12-09T10:09:30.572926",
     "exception": false,
     "start_time": "2021-12-09T10:09:29.800878",
     "status": "completed"
    },
    "tags": []
   },
   "outputs": [],
   "source": [
    "train_images = mnist.train_images()\n",
    "train_labels = mnist.train_labels()"
   ]
  },
  {
   "cell_type": "code",
   "execution_count": 6,
   "id": "dceab3a5",
   "metadata": {
    "execution": {
     "iopub.execute_input": "2021-12-09T10:09:30.631520Z",
     "iopub.status.busy": "2021-12-09T10:09:30.630921Z",
     "iopub.status.idle": "2021-12-09T10:09:30.646647Z",
     "shell.execute_reply": "2021-12-09T10:09:30.647092Z"
    },
    "papermill": {
     "duration": 0.046497,
     "end_time": "2021-12-09T10:09:30.647225",
     "exception": false,
     "start_time": "2021-12-09T10:09:30.600728",
     "status": "completed"
    },
    "tags": []
   },
   "outputs": [
    {
     "data": {
      "text/plain": [
       "((60000, 28, 28), (60000,))"
      ]
     },
     "execution_count": 6,
     "metadata": {},
     "output_type": "execute_result"
    }
   ],
   "source": [
    "train_images.shape, train_labels.shape"
   ]
  },
  {
   "cell_type": "code",
   "execution_count": 7,
   "id": "f50dc2bb",
   "metadata": {
    "execution": {
     "iopub.execute_input": "2021-12-09T10:09:30.705013Z",
     "iopub.status.busy": "2021-12-09T10:09:30.704463Z",
     "iopub.status.idle": "2021-12-09T10:09:30.951400Z",
     "shell.execute_reply": "2021-12-09T10:09:30.950858Z"
    },
    "papermill": {
     "duration": 0.276884,
     "end_time": "2021-12-09T10:09:30.951529",
     "exception": false,
     "start_time": "2021-12-09T10:09:30.674645",
     "status": "completed"
    },
    "tags": []
   },
   "outputs": [],
   "source": [
    "test_images = mnist.test_images()\n",
    "test_labels = mnist.test_labels()"
   ]
  },
  {
   "cell_type": "code",
   "execution_count": 8,
   "id": "fc38cf1b",
   "metadata": {
    "execution": {
     "iopub.execute_input": "2021-12-09T10:09:31.012041Z",
     "iopub.status.busy": "2021-12-09T10:09:31.011439Z",
     "iopub.status.idle": "2021-12-09T10:09:31.036187Z",
     "shell.execute_reply": "2021-12-09T10:09:31.035624Z"
    },
    "papermill": {
     "duration": 0.056419,
     "end_time": "2021-12-09T10:09:31.036317",
     "exception": false,
     "start_time": "2021-12-09T10:09:30.979898",
     "status": "completed"
    },
    "tags": []
   },
   "outputs": [
    {
     "data": {
      "text/plain": [
       "((10000, 28, 28), (10000,))"
      ]
     },
     "execution_count": 8,
     "metadata": {},
     "output_type": "execute_result"
    }
   ],
   "source": [
    "test_images.shape, test_labels.shape"
   ]
  },
  {
   "cell_type": "code",
   "execution_count": 9,
   "id": "f9ed8fe0",
   "metadata": {
    "execution": {
     "iopub.execute_input": "2021-12-09T10:09:31.097131Z",
     "iopub.status.busy": "2021-12-09T10:09:31.096532Z",
     "iopub.status.idle": "2021-12-09T10:09:31.252050Z",
     "shell.execute_reply": "2021-12-09T10:09:31.251556Z"
    },
    "papermill": {
     "duration": 0.187671,
     "end_time": "2021-12-09T10:09:31.252180",
     "exception": false,
     "start_time": "2021-12-09T10:09:31.064509",
     "status": "completed"
    },
    "tags": []
   },
   "outputs": [
    {
     "name": "stdout",
     "output_type": "stream",
     "text": [
      "2\n"
     ]
    },
    {
     "data": {
      "text/plain": [
       "<matplotlib.image.AxesImage at 0x7eff8cda3470>"
      ]
     },
     "execution_count": 9,
     "metadata": {},
     "output_type": "execute_result"
    },
    {
     "data": {
      "image/png": "[encoded data removed]",
      "text/plain": [
       "<Figure size 432x288 with 1 Axes>"
      ]
     },
     "metadata": {
      "needs_background": "light"
     },
     "output_type": "display_data"
    }
   ],
   "source": [
    "image_index = 7776 # You may select anything up to 60,000\n",
    "print(train_labels[image_index]) \n",
    "plt.imshow(train_images[image_index], cmap='Greys')"
   ]
  },
  {
   "cell_type": "markdown",
   "id": "a8d2388d",
   "metadata": {
    "papermill": {
     "duration": 0.029147,
     "end_time": "2021-12-09T10:09:31.311046",
     "exception": false,
     "start_time": "2021-12-09T10:09:31.281899",
     "status": "completed"
    },
    "tags": []
   },
   "source": [
    "## Filter data to get 3 and 8 out"
   ]
  },
  {
   "cell_type": "code",
   "execution_count": 10,
   "id": "776f7fc7",
   "metadata": {
    "execution": {
     "iopub.execute_input": "2021-12-09T10:09:31.373821Z",
     "iopub.status.busy": "2021-12-09T10:09:31.373169Z",
     "iopub.status.idle": "2021-12-09T10:09:31.393932Z",
     "shell.execute_reply": "2021-12-09T10:09:31.393505Z"
    },
    "papermill": {
     "duration": 0.054905,
     "end_time": "2021-12-09T10:09:31.394076",
     "exception": false,
     "start_time": "2021-12-09T10:09:31.339171",
     "status": "completed"
    },
    "tags": []
   },
   "outputs": [],
   "source": [
    "train_filter = np.where((train_labels == 3 ) | (train_labels == 8))\n",
    "test_filter = np.where((test_labels == 3) | (test_labels == 8))\n",
    "X_train, y_train = train_images[train_filter], train_labels[train_filter]\n",
    "X_test, y_test = test_images[test_filter], test_labels[test_filter]"
   ]
  },
  {
   "cell_type": "markdown",
   "id": "948f0b7e",
   "metadata": {
    "papermill": {
     "duration": 0.029923,
     "end_time": "2021-12-09T10:09:31.453420",
     "exception": false,
     "start_time": "2021-12-09T10:09:31.423497",
     "status": "completed"
    },
    "tags": []
   },
   "source": [
    "We normalize the pizel values in the 0 to 1 range"
   ]
  },
  {
   "cell_type": "code",
   "execution_count": 11,
   "id": "ee4c2166",
   "metadata": {
    "execution": {
     "iopub.execute_input": "2021-12-09T10:09:31.516804Z",
     "iopub.status.busy": "2021-12-09T10:09:31.516206Z",
     "iopub.status.idle": "2021-12-09T10:09:31.568501Z",
     "shell.execute_reply": "2021-12-09T10:09:31.567989Z"
    },
    "papermill": {
     "duration": 0.085787,
     "end_time": "2021-12-09T10:09:31.568640",
     "exception": false,
     "start_time": "2021-12-09T10:09:31.482853",
     "status": "completed"
    },
    "tags": []
   },
   "outputs": [],
   "source": [
    "X_train = X_train/255.\n",
    "X_test = X_test/255."
   ]
  },
  {
   "cell_type": "markdown",
   "id": "ddcf4fab",
   "metadata": {
    "papermill": {
     "duration": 0.030523,
     "end_time": "2021-12-09T10:09:31.628763",
     "exception": false,
     "start_time": "2021-12-09T10:09:31.598240",
     "status": "completed"
    },
    "tags": []
   },
   "source": [
    "And setup the labels as 1 (when the digit is 3) and 0 (when the digit is 8)"
   ]
  },
  {
   "cell_type": "code",
   "execution_count": 12,
   "id": "7dc908f2",
   "metadata": {
    "execution": {
     "iopub.execute_input": "2021-12-09T10:09:31.695811Z",
     "iopub.status.busy": "2021-12-09T10:09:31.694563Z",
     "iopub.status.idle": "2021-12-09T10:09:31.709848Z",
     "shell.execute_reply": "2021-12-09T10:09:31.710313Z"
    },
    "papermill": {
     "duration": 0.051441,
     "end_time": "2021-12-09T10:09:31.710467",
     "exception": false,
     "start_time": "2021-12-09T10:09:31.659026",
     "status": "completed"
    },
    "tags": []
   },
   "outputs": [],
   "source": [
    "y_train = 1*(y_train==3)\n",
    "y_test = 1*(y_test==3)"
   ]
  },
  {
   "cell_type": "code",
   "execution_count": 13,
   "id": "01e4e969",
   "metadata": {
    "execution": {
     "iopub.execute_input": "2021-12-09T10:09:31.772698Z",
     "iopub.status.busy": "2021-12-09T10:09:31.772094Z",
     "iopub.status.idle": "2021-12-09T10:09:31.786997Z",
     "shell.execute_reply": "2021-12-09T10:09:31.786469Z"
    },
    "papermill": {
     "duration": 0.047683,
     "end_time": "2021-12-09T10:09:31.787116",
     "exception": false,
     "start_time": "2021-12-09T10:09:31.739433",
     "status": "completed"
    },
    "tags": []
   },
   "outputs": [
    {
     "data": {
      "text/plain": [
       "((11982, 28, 28), (1984, 28, 28))"
      ]
     },
     "execution_count": 13,
     "metadata": {},
     "output_type": "execute_result"
    }
   ],
   "source": [
    "X_train.shape, X_test.shape"
   ]
  },
  {
   "cell_type": "markdown",
   "id": "5ccf3f85",
   "metadata": {
    "papermill": {
     "duration": 0.030015,
     "end_time": "2021-12-09T10:09:31.846503",
     "exception": false,
     "start_time": "2021-12-09T10:09:31.816488",
     "status": "completed"
    },
    "tags": []
   },
   "source": [
    "We reshape the data to flatten the image pixels into a set of features or co-variates:"
   ]
  },
  {
   "cell_type": "code",
   "execution_count": 14,
   "id": "5286a4a3",
   "metadata": {
    "execution": {
     "iopub.execute_input": "2021-12-09T10:09:31.914511Z",
     "iopub.status.busy": "2021-12-09T10:09:31.913888Z",
     "iopub.status.idle": "2021-12-09T10:09:31.933240Z",
     "shell.execute_reply": "2021-12-09T10:09:31.932750Z"
    },
    "papermill": {
     "duration": 0.056329,
     "end_time": "2021-12-09T10:09:31.933380",
     "exception": false,
     "start_time": "2021-12-09T10:09:31.877051",
     "status": "completed"
    },
    "tags": []
   },
   "outputs": [
    {
     "data": {
      "text/plain": [
       "((11982, 784), (1984, 784))"
      ]
     },
     "execution_count": 14,
     "metadata": {},
     "output_type": "execute_result"
    }
   ],
   "source": [
    "X_train = X_train.reshape(X_train.shape[0], -1)\n",
    "X_test = X_test.reshape(X_test.shape[0], -1)\n",
    "X_train.shape, X_test.shape"
   ]
  },
  {
   "cell_type": "code",
   "execution_count": 15,
   "id": "73c5f88a",
   "metadata": {
    "execution": {
     "iopub.execute_input": "2021-12-09T10:09:31.999910Z",
     "iopub.status.busy": "2021-12-09T10:09:31.998607Z",
     "iopub.status.idle": "2021-12-09T10:09:32.021637Z",
     "shell.execute_reply": "2021-12-09T10:09:32.020555Z"
    },
    "papermill": {
     "duration": 0.057723,
     "end_time": "2021-12-09T10:09:32.021780",
     "exception": false,
     "start_time": "2021-12-09T10:09:31.964057",
     "status": "completed"
    },
    "tags": []
   },
   "outputs": [],
   "source": [
    "#Impoting functions from 'Kudzu'\n",
    "from kudzu.model import Model\n",
    "from kudzu.train import Learner\n",
    "from kudzu.optim import GD\n",
    "from kudzu.data import Data, Sampler,Dataloader\n",
    "\n",
    "from kudzu.callbacks import AccCallback\n",
    "from kudzu.callbacks import ClfCallback\n",
    "\n",
    "from kudzu.loss import MSE\n",
    "\n",
    "from kudzu.layer import Sigmoid,Relu\n",
    "from kudzu.layer import Affine"
   ]
  },
  {
   "cell_type": "markdown",
   "id": "bc01172a",
   "metadata": {
    "papermill": {
     "duration": 0.030596,
     "end_time": "2021-12-09T10:09:32.083136",
     "exception": false,
     "start_time": "2021-12-09T10:09:32.052540",
     "status": "completed"
    },
    "tags": []
   },
   "source": [
    "### Let us create a `Config` class, to store important parameters. \n",
    "This class essentially plays the role of a dictionary."
   ]
  },
  {
   "cell_type": "code",
   "execution_count": 16,
   "id": "978281aa",
   "metadata": {
    "execution": {
     "iopub.execute_input": "2021-12-09T10:09:32.149013Z",
     "iopub.status.busy": "2021-12-09T10:09:32.148394Z",
     "iopub.status.idle": "2021-12-09T10:09:32.167382Z",
     "shell.execute_reply": "2021-12-09T10:09:32.166858Z"
    },
    "papermill": {
     "duration": 0.053836,
     "end_time": "2021-12-09T10:09:32.167511",
     "exception": false,
     "start_time": "2021-12-09T10:09:32.113675",
     "status": "completed"
    },
    "tags": []
   },
   "outputs": [],
   "source": [
    "class Config:\n",
    "    pass\n",
    "config = Config()\n",
    "config.lr = 0.001\n",
    "config.num_epochs = 250\n",
    "config.bs = 50"
   ]
  },
  {
   "cell_type": "markdown",
   "id": "1385fa59",
   "metadata": {
    "papermill": {
     "duration": 0.03069,
     "end_time": "2021-12-09T10:09:32.229011",
     "exception": false,
     "start_time": "2021-12-09T10:09:32.198321",
     "status": "completed"
    },
    "tags": []
   },
   "source": [
    "### Running Models with the Training data\n",
    "Details about the network layers:\n",
    "- A first affine layer has 784 inputs and does 100 affine transforms. These are followed by a Relu\n",
    "- A second affine layer has 100 inputs from the 100 activations of the past layer, and does 100 affine transforms. These are followed by a Relu\n",
    "- A third affine layer has 100 activations and does 2 affine transformations to create an embedding for visualization. There is no non-linearity here.\n",
    "- A final \"logistic regression\" which has an affine transform from 2 inputs to 1 output, which is squeezed through a sigmoid.\n"
   ]
  },
  {
   "cell_type": "code",
   "execution_count": 17,
   "id": "2b9c66db",
   "metadata": {
    "execution": {
     "iopub.execute_input": "2021-12-09T10:09:32.298482Z",
     "iopub.status.busy": "2021-12-09T10:09:32.297864Z",
     "iopub.status.idle": "2021-12-09T10:09:32.310394Z",
     "shell.execute_reply": "2021-12-09T10:09:32.310889Z"
    },
    "papermill": {
     "duration": 0.051921,
     "end_time": "2021-12-09T10:09:32.311038",
     "exception": false,
     "start_time": "2021-12-09T10:09:32.259117",
     "status": "completed"
    },
    "tags": []
   },
   "outputs": [],
   "source": [
    "data = Data(X_train, y_train.reshape(-1,1))\n",
    "sampler = Sampler(data, config.bs, shuffle=True)\n",
    "\n",
    "dl = Dataloader(data, sampler)\n",
    "\n",
    "opt = GD(config.lr)\n",
    "loss = MSE()"
   ]
  },
  {
   "cell_type": "code",
   "execution_count": 18,
   "id": "b275e4c2",
   "metadata": {
    "execution": {
     "iopub.execute_input": "2021-12-09T10:09:32.380037Z",
     "iopub.status.busy": "2021-12-09T10:09:32.379436Z",
     "iopub.status.idle": "2021-12-09T10:09:32.393376Z",
     "shell.execute_reply": "2021-12-09T10:09:32.392895Z"
    },
    "papermill": {
     "duration": 0.05196,
     "end_time": "2021-12-09T10:09:32.393529",
     "exception": false,
     "start_time": "2021-12-09T10:09:32.341569",
     "status": "completed"
    },
    "tags": []
   },
   "outputs": [],
   "source": [
    "training_data_x = X_train\n",
    "testing_data_x = X_test\n",
    "training_data_y = y_train.reshape(-1,1)\n",
    "testing_data_y = y_test.reshape(-1,1)"
   ]
  },
  {
   "cell_type": "code",
   "execution_count": 19,
   "id": "76951160",
   "metadata": {
    "execution": {
     "iopub.execute_input": "2021-12-09T10:09:32.457637Z",
     "iopub.status.busy": "2021-12-09T10:09:32.457031Z",
     "iopub.status.idle": "2021-12-09T10:09:32.476560Z",
     "shell.execute_reply": "2021-12-09T10:09:32.476076Z"
    },
    "papermill": {
     "duration": 0.053687,
     "end_time": "2021-12-09T10:09:32.476686",
     "exception": false,
     "start_time": "2021-12-09T10:09:32.422999",
     "status": "completed"
    },
    "tags": []
   },
   "outputs": [
    {
     "name": "stdout",
     "output_type": "stream",
     "text": [
      "xavier\n",
      "xavier\n",
      "xavier\n",
      "xavier\n",
      "xavier\n"
     ]
    }
   ],
   "source": [
    "layers = [Affine(\"first\", 784, 100), Relu(\"first\"), Affine(\"second\", 100, 100), Relu(\"second\"), Affine(\"third\", 100, 2), Affine(\"last\", 2, 1), Sigmoid(\"last\")]\n",
    "model_nn = Model(layers)\n",
    "model_lr = Model([Affine(\"logits\", 784, 1), Sigmoid(\"sigmoid\")])"
   ]
  },
  {
   "cell_type": "code",
   "execution_count": 20,
   "id": "6eede77a",
   "metadata": {
    "execution": {
     "iopub.execute_input": "2021-12-09T10:09:32.541476Z",
     "iopub.status.busy": "2021-12-09T10:09:32.540858Z",
     "iopub.status.idle": "2021-12-09T10:09:32.556508Z",
     "shell.execute_reply": "2021-12-09T10:09:32.555969Z"
    },
    "papermill": {
     "duration": 0.050199,
     "end_time": "2021-12-09T10:09:32.556633",
     "exception": false,
     "start_time": "2021-12-09T10:09:32.506434",
     "status": "completed"
    },
    "tags": []
   },
   "outputs": [],
   "source": [
    "nn_learner = Learner(loss, model_nn, opt, config.num_epochs)\n",
    "acc_nn = ClfCallback(nn_learner, config.bs, training_data_x , testing_data_x, training_data_y, testing_data_y)\n",
    "nn_learner.set_callbacks([acc_nn])"
   ]
  },
  {
   "cell_type": "code",
   "execution_count": 21,
   "id": "877b6cc7",
   "metadata": {
    "execution": {
     "iopub.execute_input": "2021-12-09T10:09:32.621009Z",
     "iopub.status.busy": "2021-12-09T10:09:32.620405Z",
     "iopub.status.idle": "2021-12-09T10:09:32.633317Z",
     "shell.execute_reply": "2021-12-09T10:09:32.632780Z"
    },
    "papermill": {
     "duration": 0.046557,
     "end_time": "2021-12-09T10:09:32.633501",
     "exception": false,
     "start_time": "2021-12-09T10:09:32.586944",
     "status": "completed"
    },
    "tags": []
   },
   "outputs": [],
   "source": [
    "lr_learner = Learner(loss, model_lr, opt, config.num_epochs)\n",
    "acc_lr = ClfCallback(lr_learner, config.bs, training_data_x , testing_data_x, training_data_y, testing_data_y)\n",
    "lr_learner.set_callbacks([acc_lr])"
   ]
  },
  {
   "cell_type": "code",
   "execution_count": 22,
   "id": "d9b133c3",
   "metadata": {
    "execution": {
     "iopub.execute_input": "2021-12-09T10:09:32.697394Z",
     "iopub.status.busy": "2021-12-09T10:09:32.696805Z",
     "iopub.status.idle": "2021-12-09T10:10:58.970663Z",
     "shell.execute_reply": "2021-12-09T10:10:58.971516Z"
    },
    "papermill": {
     "duration": 86.308083,
     "end_time": "2021-12-09T10:10:58.971679",
     "exception": false,
     "start_time": "2021-12-09T10:09:32.663596",
     "status": "completed"
    },
    "tags": []
   },
   "outputs": [
    {
     "name": "stdout",
     "output_type": "stream",
     "text": [
      "Epoch 0, Loss 0.2169\n",
      "Training Accuracy: 0.7742, Testing Accuracy: 0.7762\n",
      "\n"
     ]
    },
    {
     "name": "stdout",
     "output_type": "stream",
     "text": [
      "Epoch 10, Loss 0.0749\n",
      "Training Accuracy: 0.9296, Testing Accuracy: 0.9425\n",
      "\n"
     ]
    },
    {
     "name": "stdout",
     "output_type": "stream",
     "text": [
      "Epoch 20, Loss 0.0497\n",
      "Training Accuracy: 0.9475, Testing Accuracy: 0.9602\n",
      "\n"
     ]
    },
    {
     "name": "stdout",
     "output_type": "stream",
     "text": [
      "Epoch 30, Loss 0.0406\n",
      "Training Accuracy: 0.9560, Testing Accuracy: 0.9667\n",
      "\n"
     ]
    },
    {
     "name": "stdout",
     "output_type": "stream",
     "text": [
      "Epoch 40, Loss 0.0358\n",
      "Training Accuracy: 0.9602, Testing Accuracy: 0.9677\n",
      "\n"
     ]
    },
    {
     "name": "stdout",
     "output_type": "stream",
     "text": [
      "Epoch 50, Loss 0.0327\n",
      "Training Accuracy: 0.9628, Testing Accuracy: 0.9677\n",
      "\n"
     ]
    },
    {
     "name": "stdout",
     "output_type": "stream",
     "text": [
      "Epoch 60, Loss 0.0305\n",
      "Training Accuracy: 0.9654, Testing Accuracy: 0.9693\n",
      "\n"
     ]
    },
    {
     "name": "stdout",
     "output_type": "stream",
     "text": [
      "Epoch 70, Loss 0.0289\n",
      "Training Accuracy: 0.9666, Testing Accuracy: 0.9708\n",
      "\n"
     ]
    },
    {
     "name": "stdout",
     "output_type": "stream",
     "text": [
      "Epoch 80, Loss 0.0275\n",
      "Training Accuracy: 0.9679, Testing Accuracy: 0.9718\n",
      "\n"
     ]
    },
    {
     "name": "stdout",
     "output_type": "stream",
     "text": [
      "Epoch 90, Loss 0.0264\n",
      "Training Accuracy: 0.9697, Testing Accuracy: 0.9738\n",
      "\n"
     ]
    },
    {
     "name": "stdout",
     "output_type": "stream",
     "text": [
      "Epoch 100, Loss 0.0255\n",
      "Training Accuracy: 0.9708, Testing Accuracy: 0.9738\n",
      "\n"
     ]
    },
    {
     "name": "stdout",
     "output_type": "stream",
     "text": [
      "Epoch 110, Loss 0.0247\n",
      "Training Accuracy: 0.9718, Testing Accuracy: 0.9743\n",
      "\n"
     ]
    },
    {
     "name": "stdout",
     "output_type": "stream",
     "text": [
      "Epoch 120, Loss 0.024\n",
      "Training Accuracy: 0.9723, Testing Accuracy: 0.9743\n",
      "\n"
     ]
    },
    {
     "name": "stdout",
     "output_type": "stream",
     "text": [
      "Epoch 130, Loss 0.0233\n",
      "Training Accuracy: 0.9728, Testing Accuracy: 0.9738\n",
      "\n"
     ]
    },
    {
     "name": "stdout",
     "output_type": "stream",
     "text": [
      "Epoch 140, Loss 0.0227\n",
      "Training Accuracy: 0.9740, Testing Accuracy: 0.9738\n",
      "\n"
     ]
    },
    {
     "name": "stdout",
     "output_type": "stream",
     "text": [
      "Epoch 150, Loss 0.0221\n",
      "Training Accuracy: 0.9746, Testing Accuracy: 0.9738\n",
      "\n"
     ]
    },
    {
     "name": "stdout",
     "output_type": "stream",
     "text": [
      "Epoch 160, Loss 0.0216\n",
      "Training Accuracy: 0.9749, Testing Accuracy: 0.9733\n",
      "\n"
     ]
    },
    {
     "name": "stdout",
     "output_type": "stream",
     "text": [
      "Epoch 170, Loss 0.0211\n",
      "Training Accuracy: 0.9755, Testing Accuracy: 0.9733\n",
      "\n"
     ]
    },
    {
     "name": "stdout",
     "output_type": "stream",
     "text": [
      "Epoch 180, Loss 0.0207\n",
      "Training Accuracy: 0.9764, Testing Accuracy: 0.9738\n",
      "\n"
     ]
    },
    {
     "name": "stdout",
     "output_type": "stream",
     "text": [
      "Epoch 190, Loss 0.0203\n",
      "Training Accuracy: 0.9770, Testing Accuracy: 0.9738\n",
      "\n"
     ]
    },
    {
     "name": "stdout",
     "output_type": "stream",
     "text": [
      "Epoch 200, Loss 0.0199\n",
      "Training Accuracy: 0.9776, Testing Accuracy: 0.9743\n",
      "\n"
     ]
    },
    {
     "name": "stdout",
     "output_type": "stream",
     "text": [
      "Epoch 210, Loss 0.0195\n",
      "Training Accuracy: 0.9782, Testing Accuracy: 0.9738\n",
      "\n"
     ]
    },
    {
     "name": "stdout",
     "output_type": "stream",
     "text": [
      "Epoch 220, Loss 0.0191\n",
      "Training Accuracy: 0.9789, Testing Accuracy: 0.9743\n",
      "\n"
     ]
    },
    {
     "name": "stdout",
     "output_type": "stream",
     "text": [
      "Epoch 230, Loss 0.0188\n",
      "Training Accuracy: 0.9795, Testing Accuracy: 0.9748\n",
      "\n"
     ]
    },
    {
     "name": "stdout",
     "output_type": "stream",
     "text": [
      "Epoch 240, Loss 0.0184\n",
      "Training Accuracy: 0.9800, Testing Accuracy: 0.9753\n",
      "\n"
     ]
    },
    {
     "data": {
      "text/plain": [
       "0.022275215829423375"
      ]
     },
     "execution_count": 22,
     "metadata": {},
     "output_type": "execute_result"
    }
   ],
   "source": [
    "nn_learner.train_loop(dl)"
   ]
  },
  {
   "cell_type": "code",
   "execution_count": 23,
   "id": "e0163366",
   "metadata": {
    "execution": {
     "iopub.execute_input": "2021-12-09T10:10:59.054894Z",
     "iopub.status.busy": "2021-12-09T10:10:59.054393Z",
     "iopub.status.idle": "2021-12-09T10:11:14.235068Z",
     "shell.execute_reply": "2021-12-09T10:11:14.235907Z"
    },
    "papermill": {
     "duration": 15.225523,
     "end_time": "2021-12-09T10:11:14.236069",
     "exception": false,
     "start_time": "2021-12-09T10:10:59.010546",
     "status": "completed"
    },
    "tags": []
   },
   "outputs": [
    {
     "name": "stdout",
     "output_type": "stream",
     "text": [
      "Epoch 0, Loss 0.2172\n",
      "Training Accuracy: 0.7942, Testing Accuracy: 0.7974\n",
      "\n"
     ]
    },
    {
     "name": "stdout",
     "output_type": "stream",
     "text": [
      "Epoch 10, Loss 0.0998\n",
      "Training Accuracy: 0.9169, Testing Accuracy: 0.9244\n",
      "\n"
     ]
    },
    {
     "name": "stdout",
     "output_type": "stream",
     "text": [
      "Epoch 20, Loss 0.0775\n",
      "Training Accuracy: 0.9326, Testing Accuracy: 0.9430\n",
      "\n"
     ]
    },
    {
     "name": "stdout",
     "output_type": "stream",
     "text": [
      "Epoch 30, Loss 0.067\n",
      "Training Accuracy: 0.9392, Testing Accuracy: 0.9491\n",
      "\n"
     ]
    },
    {
     "name": "stdout",
     "output_type": "stream",
     "text": [
      "Epoch 40, Loss 0.0606\n",
      "Training Accuracy: 0.9439, Testing Accuracy: 0.9536\n",
      "\n"
     ]
    },
    {
     "name": "stdout",
     "output_type": "stream",
     "text": [
      "Epoch 50, Loss 0.0562\n",
      "Training Accuracy: 0.9471, Testing Accuracy: 0.9567\n",
      "\n"
     ]
    },
    {
     "name": "stdout",
     "output_type": "stream",
     "text": [
      "Epoch 60, Loss 0.053\n",
      "Training Accuracy: 0.9483, Testing Accuracy: 0.9577\n",
      "\n"
     ]
    },
    {
     "name": "stdout",
     "output_type": "stream",
     "text": [
      "Epoch 70, Loss 0.0505\n",
      "Training Accuracy: 0.9509, Testing Accuracy: 0.9577\n",
      "\n"
     ]
    },
    {
     "name": "stdout",
     "output_type": "stream",
     "text": [
      "Epoch 80, Loss 0.0485\n",
      "Training Accuracy: 0.9523, Testing Accuracy: 0.9602\n",
      "\n"
     ]
    },
    {
     "name": "stdout",
     "output_type": "stream",
     "text": [
      "Epoch 90, Loss 0.0469\n",
      "Training Accuracy: 0.9538, Testing Accuracy: 0.9612\n",
      "\n"
     ]
    },
    {
     "name": "stdout",
     "output_type": "stream",
     "text": [
      "Epoch 100, Loss 0.0455\n",
      "Training Accuracy: 0.9550, Testing Accuracy: 0.9632\n",
      "\n"
     ]
    },
    {
     "name": "stdout",
     "output_type": "stream",
     "text": [
      "Epoch 110, Loss 0.0443\n",
      "Training Accuracy: 0.9555, Testing Accuracy: 0.9637\n",
      "\n"
     ]
    },
    {
     "name": "stdout",
     "output_type": "stream",
     "text": [
      "Epoch 120, Loss 0.0433\n",
      "Training Accuracy: 0.9564, Testing Accuracy: 0.9642\n",
      "\n"
     ]
    },
    {
     "name": "stdout",
     "output_type": "stream",
     "text": [
      "Epoch 130, Loss 0.0424\n",
      "Training Accuracy: 0.9579, Testing Accuracy: 0.9647\n",
      "\n"
     ]
    },
    {
     "name": "stdout",
     "output_type": "stream",
     "text": [
      "Epoch 140, Loss 0.0416\n",
      "Training Accuracy: 0.9581, Testing Accuracy: 0.9647\n",
      "\n"
     ]
    },
    {
     "name": "stdout",
     "output_type": "stream",
     "text": [
      "Epoch 150, Loss 0.0408\n",
      "Training Accuracy: 0.9586, Testing Accuracy: 0.9652\n",
      "\n"
     ]
    },
    {
     "name": "stdout",
     "output_type": "stream",
     "text": [
      "Epoch 160, Loss 0.0402\n",
      "Training Accuracy: 0.9595, Testing Accuracy: 0.9652\n",
      "\n"
     ]
    },
    {
     "name": "stdout",
     "output_type": "stream",
     "text": [
      "Epoch 170, Loss 0.0396\n",
      "Training Accuracy: 0.9598, Testing Accuracy: 0.9652\n",
      "\n"
     ]
    },
    {
     "name": "stdout",
     "output_type": "stream",
     "text": [
      "Epoch 180, Loss 0.039\n",
      "Training Accuracy: 0.9603, Testing Accuracy: 0.9657\n",
      "\n"
     ]
    },
    {
     "name": "stdout",
     "output_type": "stream",
     "text": [
      "Epoch 190, Loss 0.0385\n",
      "Training Accuracy: 0.9604, Testing Accuracy: 0.9667\n",
      "\n"
     ]
    },
    {
     "name": "stdout",
     "output_type": "stream",
     "text": [
      "Epoch 200, Loss 0.0381\n",
      "Training Accuracy: 0.9608, Testing Accuracy: 0.9677\n",
      "\n"
     ]
    },
    {
     "name": "stdout",
     "output_type": "stream",
     "text": [
      "Epoch 210, Loss 0.0376\n",
      "Training Accuracy: 0.9611, Testing Accuracy: 0.9682\n",
      "\n"
     ]
    },
    {
     "name": "stdout",
     "output_type": "stream",
     "text": [
      "Epoch 220, Loss 0.0372\n",
      "Training Accuracy: 0.9613, Testing Accuracy: 0.9677\n",
      "\n"
     ]
    },
    {
     "name": "stdout",
     "output_type": "stream",
     "text": [
      "Epoch 230, Loss 0.0369\n",
      "Training Accuracy: 0.9614, Testing Accuracy: 0.9677\n",
      "\n"
     ]
    },
    {
     "name": "stdout",
     "output_type": "stream",
     "text": [
      "Epoch 240, Loss 0.0365\n",
      "Training Accuracy: 0.9617, Testing Accuracy: 0.9688\n",
      "\n"
     ]
    },
    {
     "data": {
      "text/plain": [
       "0.06683298919675298"
      ]
     },
     "execution_count": 23,
     "metadata": {},
     "output_type": "execute_result"
    }
   ],
   "source": [
    "lr_learner.train_loop(dl)"
   ]
  },
  {
   "cell_type": "code",
   "execution_count": 24,
   "id": "ca410940",
   "metadata": {
    "execution": {
     "iopub.execute_input": "2021-12-09T10:11:14.338852Z",
     "iopub.status.busy": "2021-12-09T10:11:14.338224Z",
     "iopub.status.idle": "2021-12-09T10:11:14.588993Z",
     "shell.execute_reply": "2021-12-09T10:11:14.589552Z"
    },
    "papermill": {
     "duration": 0.306733,
     "end_time": "2021-12-09T10:11:14.589715",
     "exception": false,
     "start_time": "2021-12-09T10:11:14.282982",
     "status": "completed"
    },
    "tags": []
   },
   "outputs": [
    {
     "data": {
      "text/plain": [
       "<matplotlib.legend.Legend at 0x7eff8c97dc50>"
      ]
     },
     "execution_count": 24,
     "metadata": {},
     "output_type": "execute_result"
    },
    {
     "data": {
      "image/png": "[encoded data removed]",
      "text/plain": [
       "<Figure size 1080x720 with 1 Axes>"
      ]
     },
     "metadata": {
      "needs_background": "light"
     },
     "output_type": "display_data"
    }
   ],
   "source": [
    "#comparing the results of NN and LR\n",
    "plt.figure(figsize=(15,10))\n",
    "\n",
    "# Neural Network plots\n",
    "plt.plot(acc_nn.accuracies, 'r-', label = \"Training Accuracies - NN\")\n",
    "plt.plot(acc_nn.test_accuracies, 'g-', label = \"Testing Accuracies - NN\")\n",
    "\n",
    "# Logistic Regression plots\n",
    "plt.plot(acc_lr.accuracies, 'k-', label = \"Training Accuracies - LR\")\n",
    "plt.plot(acc_lr.test_accuracies, 'b-', label = \"Testing Accuracies - LR\")\n",
    "plt.legend()"
   ]
  },
  {
   "cell_type": "markdown",
   "id": "80dfb35c",
   "metadata": {
    "papermill": {
     "duration": 0.046671,
     "end_time": "2021-12-09T10:11:14.684171",
     "exception": false,
     "start_time": "2021-12-09T10:11:14.637500",
     "status": "completed"
    },
    "tags": []
   },
   "source": [
    "#### Plotting the outputs of this layer of the NN.\n"
   ]
  },
  {
   "cell_type": "code",
   "execution_count": 25,
   "id": "45eb2ff5",
   "metadata": {
    "execution": {
     "iopub.execute_input": "2021-12-09T10:11:14.784468Z",
     "iopub.status.busy": "2021-12-09T10:11:14.783794Z",
     "iopub.status.idle": "2021-12-09T10:11:14.802503Z",
     "shell.execute_reply": "2021-12-09T10:11:14.803037Z"
    },
    "papermill": {
     "duration": 0.072824,
     "end_time": "2021-12-09T10:11:14.803188",
     "exception": false,
     "start_time": "2021-12-09T10:11:14.730364",
     "status": "completed"
    },
    "tags": []
   },
   "outputs": [],
   "source": [
    "new_model = Model(layers[:-2])\n",
    "testing_plot = new_model(testing_data_x)"
   ]
  },
  {
   "cell_type": "code",
   "execution_count": 26,
   "id": "4c0a5485",
   "metadata": {
    "execution": {
     "iopub.execute_input": "2021-12-09T10:11:14.919283Z",
     "iopub.status.busy": "2021-12-09T10:11:14.918656Z",
     "iopub.status.idle": "2021-12-09T10:11:15.128489Z",
     "shell.execute_reply": "2021-12-09T10:11:15.127877Z"
    },
    "papermill": {
     "duration": 0.27214,
     "end_time": "2021-12-09T10:11:15.128623",
     "exception": false,
     "start_time": "2021-12-09T10:11:14.856483",
     "status": "completed"
    },
    "tags": []
   },
   "outputs": [
    {
     "data": {
      "text/plain": [
       "Text(0.5, 1.0, 'Outputs')"
      ]
     },
     "execution_count": 26,
     "metadata": {},
     "output_type": "execute_result"
    },
    {
     "data": {
      "image/png": "[encoded data removed]",
      "text/plain": [
       "<Figure size 576x504 with 1 Axes>"
      ]
     },
     "metadata": {
      "needs_background": "light"
     },
     "output_type": "display_data"
    }
   ],
   "source": [
    "# Plotting the scatter plot of points and color coding by class\n",
    "plt.figure(figsize=(8,7))\n",
    "plt.scatter(testing_plot[:,0], testing_plot[:,1], alpha = 0.1, c = y_test.ravel());\n",
    "plt.title('Outputs')"
   ]
  },
  {
   "cell_type": "markdown",
   "id": "a74fcf8f",
   "metadata": {
    "papermill": {
     "duration": 0.049918,
     "end_time": "2021-12-09T10:11:15.228809",
     "exception": false,
     "start_time": "2021-12-09T10:11:15.178891",
     "status": "completed"
    },
    "tags": []
   },
   "source": [
    "Probability contours"
   ]
  },
  {
   "cell_type": "code",
   "execution_count": 27,
   "id": "d0afc8e3",
   "metadata": {
    "execution": {
     "iopub.execute_input": "2021-12-09T10:11:15.333021Z",
     "iopub.status.busy": "2021-12-09T10:11:15.332331Z",
     "iopub.status.idle": "2021-12-09T10:11:15.346241Z",
     "shell.execute_reply": "2021-12-09T10:11:15.346723Z"
    },
    "papermill": {
     "duration": 0.067925,
     "end_time": "2021-12-09T10:11:15.346872",
     "exception": false,
     "start_time": "2021-12-09T10:11:15.278947",
     "status": "completed"
    },
    "tags": []
   },
   "outputs": [],
   "source": [
    "model_prob = Model(layers[-2:]) "
   ]
  },
  {
   "cell_type": "code",
   "execution_count": 28,
   "id": "9b96e238",
   "metadata": {
    "execution": {
     "iopub.execute_input": "2021-12-09T10:11:15.451135Z",
     "iopub.status.busy": "2021-12-09T10:11:15.450532Z",
     "iopub.status.idle": "2021-12-09T10:11:15.464856Z",
     "shell.execute_reply": "2021-12-09T10:11:15.465321Z"
    },
    "papermill": {
     "duration": 0.06952,
     "end_time": "2021-12-09T10:11:15.465506",
     "exception": false,
     "start_time": "2021-12-09T10:11:15.395986",
     "status": "completed"
    },
    "tags": []
   },
   "outputs": [],
   "source": [
    "#creating the x and y ranges according to the above generated plot.\n",
    "x_range = np.linspace(-4, 1, 100) \n",
    "y_range = np.linspace(-6, 6, 100) \n",
    "x_grid, y_grid = np.meshgrid(x_range, y_range) # x_grid and y_grig are of size 100 X 100\n",
    "\n",
    "# converting x_grid and y_grid to continuous arrays\n",
    "x_gridflat = np.ravel(x_grid)\n",
    "y_gridflat = np.ravel(y_grid)\n",
    "\n",
    "# The last layer of the current model takes two columns as input. Hence transpose of np.vstack() is required.\n",
    "X = np.vstack((x_gridflat, y_gridflat)).T\n",
    "\n",
    "prob_contour = model_prob(X).reshape(100,100) "
   ]
  },
  {
   "cell_type": "code",
   "execution_count": 29,
   "id": "da72499a",
   "metadata": {
    "execution": {
     "iopub.execute_input": "2021-12-09T10:11:15.606949Z",
     "iopub.status.busy": "2021-12-09T10:11:15.606312Z",
     "iopub.status.idle": "2021-12-09T10:11:15.883961Z",
     "shell.execute_reply": "2021-12-09T10:11:15.883436Z"
    },
    "papermill": {
     "duration": 0.362704,
     "end_time": "2021-12-09T10:11:15.884096",
     "exception": false,
     "start_time": "2021-12-09T10:11:15.521392",
     "status": "completed"
    },
    "tags": []
   },
   "outputs": [
    {
     "data": {
      "image/png": "[encoded data removed]",
      "text/plain": [
       "<Figure size 720x648 with 1 Axes>"
      ]
     },
     "metadata": {
      "needs_background": "light"
     },
     "output_type": "display_data"
    }
   ],
   "source": [
    "plt.figure(figsize=(10,9))\n",
    "plt.scatter(testing_plot[:,0], testing_plot[:,1], alpha = 0.1, c = y_test.ravel())\n",
    "contours = plt.contour(x_grid,y_grid,prob_contour)\n",
    "plt.title('Probability Contours')\n",
    "plt.clabel(contours, inline = True );"
   ]
  },
  {
   "cell_type": "code",
   "execution_count": null,
   "id": "e81b4ac7",
   "metadata": {
    "papermill": {
     "duration": 0.053977,
     "end_time": "2021-12-09T10:11:15.992359",
     "exception": false,
     "start_time": "2021-12-09T10:11:15.938382",
     "status": "completed"
    },
    "tags": []
   },
   "outputs": [],
   "source": []
  }
 ],
 "metadata": {
  "kernelspec": {
   "display_name": "Python 3",
   "language": "python",
   "name": "python3"
  },
  "language_info": {
   "codemirror_mode": {
    "name": "ipython",
    "version": 3
   },
   "file_extension": ".py",
   "mimetype": "text/x-python",
   "name": "python",
   "nbconvert_exporter": "python",
   "pygments_lexer": "ipython3",
   "version": "3.6.15"
  },
  "papermill": {
   "default_parameters": {},
   "duration": 111.222026,
   "end_time": "2021-12-09T10:11:16.455848",
   "environment_variables": {},
   "exception": null,
   "input_path": "2020-08-11-part2.ipynb",
   "output_path": "2020-08-11-part2.ipynb",
   "parameters": {},
   "start_time": "2021-12-09T10:09:25.233822",
   "version": "2.3.3"
  }
 },
 "nbformat": 4,
 "nbformat_minor": 5
}