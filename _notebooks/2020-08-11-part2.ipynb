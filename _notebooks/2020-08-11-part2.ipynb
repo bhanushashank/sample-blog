{
 "cells": [
  {
   "cell_type": "markdown",
   "id": "98380cd3",
   "metadata": {
    "papermill": {
     "duration": 0.036964,
     "end_time": "2022-10-08T20:11:48.471897",
     "exception": false,
     "start_time": "2022-10-08T20:11:48.434933",
     "status": "completed"
    },
    "tags": []
   },
   "source": [
    "# Distinguish Your Own Digits (DYOD)"
   ]
  },
  {
   "cell_type": "markdown",
   "id": "ef31240d",
   "metadata": {
    "papermill": {
     "duration": 0.028863,
     "end_time": "2022-10-08T20:11:48.531034",
     "exception": false,
     "start_time": "2022-10-08T20:11:48.502171",
     "status": "completed"
    },
    "tags": []
   },
   "source": [
    "You are going to write a classifier that distinguishes between the number 3 and number 8."
   ]
  },
  {
   "cell_type": "code",
   "execution_count": 1,
   "id": "b15c8646",
   "metadata": {
    "execution": {
     "iopub.execute_input": "2022-10-08T20:11:48.601605Z",
     "iopub.status.busy": "2022-10-08T20:11:48.600761Z",
     "iopub.status.idle": "2022-10-08T20:11:48.615100Z",
     "shell.execute_reply": "2022-10-08T20:11:48.614447Z"
    },
    "papermill": {
     "duration": 0.055742,
     "end_time": "2022-10-08T20:11:48.615267",
     "exception": false,
     "start_time": "2022-10-08T20:11:48.559525",
     "status": "completed"
    },
    "tags": []
   },
   "outputs": [],
   "source": [
    "%load_ext autoreload\n",
    "%autoreload 2"
   ]
  },
  {
   "cell_type": "code",
   "execution_count": 2,
   "id": "22ef38dc",
   "metadata": {
    "execution": {
     "iopub.execute_input": "2022-10-08T20:11:48.685181Z",
     "iopub.status.busy": "2022-10-08T20:11:48.684393Z",
     "iopub.status.idle": "2022-10-08T20:11:49.356226Z",
     "shell.execute_reply": "2022-10-08T20:11:49.355561Z"
    },
    "papermill": {
     "duration": 0.709456,
     "end_time": "2022-10-08T20:11:49.356383",
     "exception": false,
     "start_time": "2022-10-08T20:11:48.646927",
     "status": "completed"
    },
    "tags": []
   },
   "outputs": [],
   "source": [
    "%matplotlib inline\n",
    "import numpy as np\n",
    "import matplotlib.pyplot as plt\n",
    "import pandas as pd"
   ]
  },
  {
   "cell_type": "markdown",
   "id": "ba036198",
   "metadata": {
    "papermill": {
     "duration": 0.03102,
     "end_time": "2022-10-08T20:11:49.424809",
     "exception": false,
     "start_time": "2022-10-08T20:11:49.393789",
     "status": "completed"
    },
    "tags": []
   },
   "source": [
    "From the command line run `pip install mnist`. This is a library that will help you bring down the mnist dataset. If you run this from a notebook, you need to put  `!pip install mnist` in a cell by itself."
   ]
  },
  {
   "cell_type": "code",
   "execution_count": 3,
   "id": "bb6ad8a1",
   "metadata": {
    "execution": {
     "iopub.execute_input": "2022-10-08T20:11:49.498850Z",
     "iopub.status.busy": "2022-10-08T20:11:49.497669Z",
     "iopub.status.idle": "2022-10-08T20:11:51.553775Z",
     "shell.execute_reply": "2022-10-08T20:11:51.552998Z"
    },
    "papermill": {
     "duration": 2.098494,
     "end_time": "2022-10-08T20:11:51.553935",
     "exception": false,
     "start_time": "2022-10-08T20:11:49.455441",
     "status": "completed"
    },
    "tags": []
   },
   "outputs": [
    {
     "name": "stdout",
     "output_type": "stream",
     "text": [
      "Collecting mnist\r\n"
     ]
    },
    {
     "name": "stdout",
     "output_type": "stream",
     "text": [
      "  Downloading mnist-0.2.2-py2.py3-none-any.whl (3.5 kB)\r\n",
      "Requirement already satisfied: numpy in /opt/hostedtoolcache/Python/3.6.15/x64/lib/python3.6/site-packages (from mnist) (1.19.5)\r\n"
     ]
    },
    {
     "name": "stdout",
     "output_type": "stream",
     "text": [
      "Installing collected packages: mnist\r\n"
     ]
    },
    {
     "name": "stdout",
     "output_type": "stream",
     "text": [
      "Successfully installed mnist-0.2.2\r\n"
     ]
    }
   ],
   "source": [
    "!pip install mnist"
   ]
  },
  {
   "cell_type": "markdown",
   "id": "69df9c9a",
   "metadata": {
    "papermill": {
     "duration": 0.032337,
     "end_time": "2022-10-08T20:11:51.618968",
     "exception": false,
     "start_time": "2022-10-08T20:11:51.586631",
     "status": "completed"
    },
    "tags": []
   },
   "source": [
    "## Preparing the Data"
   ]
  },
  {
   "cell_type": "code",
   "execution_count": 4,
   "id": "7f69d806",
   "metadata": {
    "execution": {
     "iopub.execute_input": "2022-10-08T20:11:51.698502Z",
     "iopub.status.busy": "2022-10-08T20:11:51.692501Z",
     "iopub.status.idle": "2022-10-08T20:11:51.706091Z",
     "shell.execute_reply": "2022-10-08T20:11:51.705446Z"
    },
    "papermill": {
     "duration": 0.054905,
     "end_time": "2022-10-08T20:11:51.706248",
     "exception": false,
     "start_time": "2022-10-08T20:11:51.651343",
     "status": "completed"
    },
    "tags": []
   },
   "outputs": [],
   "source": [
    "import mnist"
   ]
  },
  {
   "cell_type": "code",
   "execution_count": 5,
   "id": "a411e44f",
   "metadata": {
    "execution": {
     "iopub.execute_input": "2022-10-08T20:11:51.782649Z",
     "iopub.status.busy": "2022-10-08T20:11:51.781644Z",
     "iopub.status.idle": "2022-10-08T20:11:52.656783Z",
     "shell.execute_reply": "2022-10-08T20:11:52.656185Z"
    },
    "papermill": {
     "duration": 0.918621,
     "end_time": "2022-10-08T20:11:52.656933",
     "exception": false,
     "start_time": "2022-10-08T20:11:51.738312",
     "status": "completed"
    },
    "tags": []
   },
   "outputs": [],
   "source": [
    "train_images = mnist.train_images()\n",
    "train_labels = mnist.train_labels()"
   ]
  },
  {
   "cell_type": "code",
   "execution_count": 6,
   "id": "dceab3a5",
   "metadata": {
    "execution": {
     "iopub.execute_input": "2022-10-08T20:11:52.736177Z",
     "iopub.status.busy": "2022-10-08T20:11:52.735424Z",
     "iopub.status.idle": "2022-10-08T20:11:52.750354Z",
     "shell.execute_reply": "2022-10-08T20:11:52.749358Z"
    },
    "papermill": {
     "duration": 0.060025,
     "end_time": "2022-10-08T20:11:52.750508",
     "exception": false,
     "start_time": "2022-10-08T20:11:52.690483",
     "status": "completed"
    },
    "tags": []
   },
   "outputs": [
    {
     "data": {
      "text/plain": [
       "((60000, 28, 28), (60000,))"
      ]
     },
     "execution_count": 6,
     "metadata": {},
     "output_type": "execute_result"
    }
   ],
   "source": [
    "train_images.shape, train_labels.shape"
   ]
  },
  {
   "cell_type": "code",
   "execution_count": 7,
   "id": "f50dc2bb",
   "metadata": {
    "execution": {
     "iopub.execute_input": "2022-10-08T20:11:52.819181Z",
     "iopub.status.busy": "2022-10-08T20:11:52.818422Z",
     "iopub.status.idle": "2022-10-08T20:11:53.114508Z",
     "shell.execute_reply": "2022-10-08T20:11:53.115024Z"
    },
    "papermill": {
     "duration": 0.332309,
     "end_time": "2022-10-08T20:11:53.115201",
     "exception": false,
     "start_time": "2022-10-08T20:11:52.782892",
     "status": "completed"
    },
    "tags": []
   },
   "outputs": [],
   "source": [
    "test_images = mnist.test_images()\n",
    "test_labels = mnist.test_labels()"
   ]
  },
  {
   "cell_type": "code",
   "execution_count": 8,
   "id": "fc38cf1b",
   "metadata": {
    "execution": {
     "iopub.execute_input": "2022-10-08T20:11:53.183674Z",
     "iopub.status.busy": "2022-10-08T20:11:53.182870Z",
     "iopub.status.idle": "2022-10-08T20:11:53.204919Z",
     "shell.execute_reply": "2022-10-08T20:11:53.204358Z"
    },
    "papermill": {
     "duration": 0.05801,
     "end_time": "2022-10-08T20:11:53.205054",
     "exception": false,
     "start_time": "2022-10-08T20:11:53.147044",
     "status": "completed"
    },
    "tags": []
   },
   "outputs": [
    {
     "data": {
      "text/plain": [
       "((10000, 28, 28), (10000,))"
      ]
     },
     "execution_count": 8,
     "metadata": {},
     "output_type": "execute_result"
    }
   ],
   "source": [
    "test_images.shape, test_labels.shape"
   ]
  },
  {
   "cell_type": "code",
   "execution_count": 9,
   "id": "f9ed8fe0",
   "metadata": {
    "execution": {
     "iopub.execute_input": "2022-10-08T20:11:53.317479Z",
     "iopub.status.busy": "2022-10-08T20:11:53.292121Z",
     "iopub.status.idle": "2022-10-08T20:11:53.477170Z",
     "shell.execute_reply": "2022-10-08T20:11:53.476572Z"
    },
    "papermill": {
     "duration": 0.23993,
     "end_time": "2022-10-08T20:11:53.477316",
     "exception": false,
     "start_time": "2022-10-08T20:11:53.237386",
     "status": "completed"
    },
    "tags": []
   },
   "outputs": [
    {
     "name": "stdout",
     "output_type": "stream",
     "text": [
      "2\n"
     ]
    },
    {
     "data": {
      "text/plain": [
       "<matplotlib.image.AxesImage at 0x7f11efba5dd8>"
      ]
     },
     "execution_count": 9,
     "metadata": {},
     "output_type": "execute_result"
    },
    {
     "data": {
      "image/png": "[encoded data removed]",
      "text/plain": [
       "<Figure size 432x288 with 1 Axes>"
      ]
     },
     "metadata": {
      "needs_background": "light"
     },
     "output_type": "display_data"
    }
   ],
   "source": [
    "image_index = 7776 # You may select anything up to 60,000\n",
    "print(train_labels[image_index]) \n",
    "plt.imshow(train_images[image_index], cmap='Greys')"
   ]
  },
  {
   "cell_type": "markdown",
   "id": "a8d2388d",
   "metadata": {
    "papermill": {
     "duration": 0.032698,
     "end_time": "2022-10-08T20:11:53.542092",
     "exception": false,
     "start_time": "2022-10-08T20:11:53.509394",
     "status": "completed"
    },
    "tags": []
   },
   "source": [
    "## Filter data to get 3 and 8 out"
   ]
  },
  {
   "cell_type": "code",
   "execution_count": 10,
   "id": "776f7fc7",
   "metadata": {
    "execution": {
     "iopub.execute_input": "2022-10-08T20:11:53.632354Z",
     "iopub.status.busy": "2022-10-08T20:11:53.626196Z",
     "iopub.status.idle": "2022-10-08T20:11:53.642415Z",
     "shell.execute_reply": "2022-10-08T20:11:53.641755Z"
    },
    "papermill": {
     "duration": 0.066315,
     "end_time": "2022-10-08T20:11:53.642564",
     "exception": false,
     "start_time": "2022-10-08T20:11:53.576249",
     "status": "completed"
    },
    "tags": []
   },
   "outputs": [],
   "source": [
    "train_filter = np.where((train_labels == 3 ) | (train_labels == 8))\n",
    "test_filter = np.where((test_labels == 3) | (test_labels == 8))\n",
    "X_train, y_train = train_images[train_filter], train_labels[train_filter]\n",
    "X_test, y_test = test_images[test_filter], test_labels[test_filter]"
   ]
  },
  {
   "cell_type": "markdown",
   "id": "948f0b7e",
   "metadata": {
    "papermill": {
     "duration": 0.033248,
     "end_time": "2022-10-08T20:11:53.708079",
     "exception": false,
     "start_time": "2022-10-08T20:11:53.674831",
     "status": "completed"
    },
    "tags": []
   },
   "source": [
    "We normalize the pizel values in the 0 to 1 range"
   ]
  },
  {
   "cell_type": "code",
   "execution_count": 11,
   "id": "ee4c2166",
   "metadata": {
    "execution": {
     "iopub.execute_input": "2022-10-08T20:11:53.784694Z",
     "iopub.status.busy": "2022-10-08T20:11:53.783947Z",
     "iopub.status.idle": "2022-10-08T20:11:53.845808Z",
     "shell.execute_reply": "2022-10-08T20:11:53.845137Z"
    },
    "papermill": {
     "duration": 0.105481,
     "end_time": "2022-10-08T20:11:53.845985",
     "exception": false,
     "start_time": "2022-10-08T20:11:53.740504",
     "status": "completed"
    },
    "tags": []
   },
   "outputs": [],
   "source": [
    "X_train = X_train/255.\n",
    "X_test = X_test/255."
   ]
  },
  {
   "cell_type": "markdown",
   "id": "ddcf4fab",
   "metadata": {
    "papermill": {
     "duration": 0.03256,
     "end_time": "2022-10-08T20:11:53.912508",
     "exception": false,
     "start_time": "2022-10-08T20:11:53.879948",
     "status": "completed"
    },
    "tags": []
   },
   "source": [
    "And setup the labels as 1 (when the digit is 3) and 0 (when the digit is 8)"
   ]
  },
  {
   "cell_type": "code",
   "execution_count": 12,
   "id": "7dc908f2",
   "metadata": {
    "execution": {
     "iopub.execute_input": "2022-10-08T20:11:53.984190Z",
     "iopub.status.busy": "2022-10-08T20:11:53.983265Z",
     "iopub.status.idle": "2022-10-08T20:11:54.000130Z",
     "shell.execute_reply": "2022-10-08T20:11:54.000912Z"
    },
    "papermill": {
     "duration": 0.0563,
     "end_time": "2022-10-08T20:11:54.001063",
     "exception": false,
     "start_time": "2022-10-08T20:11:53.944763",
     "status": "completed"
    },
    "tags": []
   },
   "outputs": [],
   "source": [
    "y_train = 1*(y_train==3)\n",
    "y_test = 1*(y_test==3)"
   ]
  },
  {
   "cell_type": "code",
   "execution_count": 13,
   "id": "01e4e969",
   "metadata": {
    "execution": {
     "iopub.execute_input": "2022-10-08T20:11:54.082490Z",
     "iopub.status.busy": "2022-10-08T20:11:54.081715Z",
     "iopub.status.idle": "2022-10-08T20:11:54.093546Z",
     "shell.execute_reply": "2022-10-08T20:11:54.094158Z"
    },
    "papermill": {
     "duration": 0.060149,
     "end_time": "2022-10-08T20:11:54.094326",
     "exception": false,
     "start_time": "2022-10-08T20:11:54.034177",
     "status": "completed"
    },
    "tags": []
   },
   "outputs": [
    {
     "data": {
      "text/plain": [
       "((11982, 28, 28), (1984, 28, 28))"
      ]
     },
     "execution_count": 13,
     "metadata": {},
     "output_type": "execute_result"
    }
   ],
   "source": [
    "X_train.shape, X_test.shape"
   ]
  },
  {
   "cell_type": "markdown",
   "id": "5ccf3f85",
   "metadata": {
    "papermill": {
     "duration": 0.035109,
     "end_time": "2022-10-08T20:11:54.162420",
     "exception": false,
     "start_time": "2022-10-08T20:11:54.127311",
     "status": "completed"
    },
    "tags": []
   },
   "source": [
    "We reshape the data to flatten the image pixels into a set of features or co-variates:"
   ]
  },
  {
   "cell_type": "code",
   "execution_count": 14,
   "id": "5286a4a3",
   "metadata": {
    "execution": {
     "iopub.execute_input": "2022-10-08T20:11:54.249109Z",
     "iopub.status.busy": "2022-10-08T20:11:54.243607Z",
     "iopub.status.idle": "2022-10-08T20:11:54.260989Z",
     "shell.execute_reply": "2022-10-08T20:11:54.260373Z"
    },
    "papermill": {
     "duration": 0.058561,
     "end_time": "2022-10-08T20:11:54.261129",
     "exception": false,
     "start_time": "2022-10-08T20:11:54.202568",
     "status": "completed"
    },
    "tags": []
   },
   "outputs": [
    {
     "data": {
      "text/plain": [
       "((11982, 784), (1984, 784))"
      ]
     },
     "execution_count": 14,
     "metadata": {},
     "output_type": "execute_result"
    }
   ],
   "source": [
    "X_train = X_train.reshape(X_train.shape[0], -1)\n",
    "X_test = X_test.reshape(X_test.shape[0], -1)\n",
    "X_train.shape, X_test.shape"
   ]
  },
  {
   "cell_type": "code",
   "execution_count": 15,
   "id": "73c5f88a",
   "metadata": {
    "execution": {
     "iopub.execute_input": "2022-10-08T20:11:54.344617Z",
     "iopub.status.busy": "2022-10-08T20:11:54.340882Z",
     "iopub.status.idle": "2022-10-08T20:11:54.362093Z",
     "shell.execute_reply": "2022-10-08T20:11:54.362679Z"
    },
    "papermill": {
     "duration": 0.066437,
     "end_time": "2022-10-08T20:11:54.362935",
     "exception": false,
     "start_time": "2022-10-08T20:11:54.296498",
     "status": "completed"
    },
    "tags": []
   },
   "outputs": [],
   "source": [
    "#Impoting functions from 'Kudzu'\n",
    "from kudzu.model import Model\n",
    "from kudzu.train import Learner\n",
    "from kudzu.optim import GD\n",
    "from kudzu.data import Data, Sampler,Dataloader\n",
    "\n",
    "from kudzu.callbacks import AccCallback\n",
    "from kudzu.callbacks import ClfCallback\n",
    "\n",
    "from kudzu.loss import MSE\n",
    "\n",
    "from kudzu.layer import Sigmoid,Relu\n",
    "from kudzu.layer import Affine"
   ]
  },
  {
   "cell_type": "markdown",
   "id": "bc01172a",
   "metadata": {
    "papermill": {
     "duration": 0.034145,
     "end_time": "2022-10-08T20:11:54.437057",
     "exception": false,
     "start_time": "2022-10-08T20:11:54.402912",
     "status": "completed"
    },
    "tags": []
   },
   "source": [
    "### Let us create a `Config` class, to store important parameters. \n",
    "This class essentially plays the role of a dictionary."
   ]
  },
  {
   "cell_type": "code",
   "execution_count": 16,
   "id": "978281aa",
   "metadata": {
    "execution": {
     "iopub.execute_input": "2022-10-08T20:11:54.513117Z",
     "iopub.status.busy": "2022-10-08T20:11:54.512253Z",
     "iopub.status.idle": "2022-10-08T20:11:54.526071Z",
     "shell.execute_reply": "2022-10-08T20:11:54.525436Z"
    },
    "papermill": {
     "duration": 0.056307,
     "end_time": "2022-10-08T20:11:54.526216",
     "exception": false,
     "start_time": "2022-10-08T20:11:54.469909",
     "status": "completed"
    },
    "tags": []
   },
   "outputs": [],
   "source": [
    "class Config:\n",
    "    pass\n",
    "config = Config()\n",
    "config.lr = 0.001\n",
    "config.num_epochs = 250\n",
    "config.bs = 50"
   ]
  },
  {
   "cell_type": "markdown",
   "id": "1385fa59",
   "metadata": {
    "papermill": {
     "duration": 0.03373,
     "end_time": "2022-10-08T20:11:54.593360",
     "exception": false,
     "start_time": "2022-10-08T20:11:54.559630",
     "status": "completed"
    },
    "tags": []
   },
   "source": [
    "### Running Models with the Training data\n",
    "Details about the network layers:\n",
    "- A first affine layer has 784 inputs and does 100 affine transforms. These are followed by a Relu\n",
    "- A second affine layer has 100 inputs from the 100 activations of the past layer, and does 100 affine transforms. These are followed by a Relu\n",
    "- A third affine layer has 100 activations and does 2 affine transformations to create an embedding for visualization. There is no non-linearity here.\n",
    "- A final \"logistic regression\" which has an affine transform from 2 inputs to 1 output, which is squeezed through a sigmoid.\n"
   ]
  },
  {
   "cell_type": "code",
   "execution_count": 17,
   "id": "2b9c66db",
   "metadata": {
    "execution": {
     "iopub.execute_input": "2022-10-08T20:11:54.668098Z",
     "iopub.status.busy": "2022-10-08T20:11:54.667318Z",
     "iopub.status.idle": "2022-10-08T20:11:54.680320Z",
     "shell.execute_reply": "2022-10-08T20:11:54.681042Z"
    },
    "papermill": {
     "duration": 0.055171,
     "end_time": "2022-10-08T20:11:54.681209",
     "exception": false,
     "start_time": "2022-10-08T20:11:54.626038",
     "status": "completed"
    },
    "tags": []
   },
   "outputs": [],
   "source": [
    "data = Data(X_train, y_train.reshape(-1,1))\n",
    "sampler = Sampler(data, config.bs, shuffle=True)\n",
    "\n",
    "dl = Dataloader(data, sampler)\n",
    "\n",
    "opt = GD(config.lr)\n",
    "loss = MSE()"
   ]
  },
  {
   "cell_type": "code",
   "execution_count": 18,
   "id": "b275e4c2",
   "metadata": {
    "execution": {
     "iopub.execute_input": "2022-10-08T20:11:54.754155Z",
     "iopub.status.busy": "2022-10-08T20:11:54.753382Z",
     "iopub.status.idle": "2022-10-08T20:11:54.767763Z",
     "shell.execute_reply": "2022-10-08T20:11:54.768494Z"
    },
    "papermill": {
     "duration": 0.053938,
     "end_time": "2022-10-08T20:11:54.768660",
     "exception": false,
     "start_time": "2022-10-08T20:11:54.714722",
     "status": "completed"
    },
    "tags": []
   },
   "outputs": [],
   "source": [
    "training_data_x = X_train\n",
    "testing_data_x = X_test\n",
    "training_data_y = y_train.reshape(-1,1)\n",
    "testing_data_y = y_test.reshape(-1,1)"
   ]
  },
  {
   "cell_type": "code",
   "execution_count": 19,
   "id": "76951160",
   "metadata": {
    "execution": {
     "iopub.execute_input": "2022-10-08T20:11:54.843895Z",
     "iopub.status.busy": "2022-10-08T20:11:54.843129Z",
     "iopub.status.idle": "2022-10-08T20:11:54.861817Z",
     "shell.execute_reply": "2022-10-08T20:11:54.861176Z"
    },
    "papermill": {
     "duration": 0.059952,
     "end_time": "2022-10-08T20:11:54.861968",
     "exception": false,
     "start_time": "2022-10-08T20:11:54.802016",
     "status": "completed"
    },
    "tags": []
   },
   "outputs": [
    {
     "name": "stdout",
     "output_type": "stream",
     "text": [
      "xavier\n",
      "xavier\n",
      "xavier\n",
      "xavier\n",
      "xavier\n"
     ]
    }
   ],
   "source": [
    "layers = [Affine(\"first\", 784, 100), Relu(\"first\"), Affine(\"second\", 100, 100), Relu(\"second\"), Affine(\"third\", 100, 2), Affine(\"last\", 2, 1), Sigmoid(\"last\")]\n",
    "model_nn = Model(layers)\n",
    "model_lr = Model([Affine(\"logits\", 784, 1), Sigmoid(\"sigmoid\")])"
   ]
  },
  {
   "cell_type": "code",
   "execution_count": 20,
   "id": "6eede77a",
   "metadata": {
    "execution": {
     "iopub.execute_input": "2022-10-08T20:11:54.948186Z",
     "iopub.status.busy": "2022-10-08T20:11:54.947395Z",
     "iopub.status.idle": "2022-10-08T20:11:54.957166Z",
     "shell.execute_reply": "2022-10-08T20:11:54.958299Z"
    },
    "papermill": {
     "duration": 0.060228,
     "end_time": "2022-10-08T20:11:54.958458",
     "exception": false,
     "start_time": "2022-10-08T20:11:54.898230",
     "status": "completed"
    },
    "tags": []
   },
   "outputs": [],
   "source": [
    "nn_learner = Learner(loss, model_nn, opt, config.num_epochs)\n",
    "acc_nn = ClfCallback(nn_learner, config.bs, training_data_x , testing_data_x, training_data_y, testing_data_y)\n",
    "nn_learner.set_callbacks([acc_nn])"
   ]
  },
  {
   "cell_type": "code",
   "execution_count": 21,
   "id": "877b6cc7",
   "metadata": {
    "execution": {
     "iopub.execute_input": "2022-10-08T20:11:55.045434Z",
     "iopub.status.busy": "2022-10-08T20:11:55.044674Z",
     "iopub.status.idle": "2022-10-08T20:11:55.051867Z",
     "shell.execute_reply": "2022-10-08T20:11:55.052362Z"
    },
    "papermill": {
     "duration": 0.055403,
     "end_time": "2022-10-08T20:11:55.052504",
     "exception": false,
     "start_time": "2022-10-08T20:11:54.997101",
     "status": "completed"
    },
    "tags": []
   },
   "outputs": [],
   "source": [
    "lr_learner = Learner(loss, model_lr, opt, config.num_epochs)\n",
    "acc_lr = ClfCallback(lr_learner, config.bs, training_data_x , testing_data_x, training_data_y, testing_data_y)\n",
    "lr_learner.set_callbacks([acc_lr])"
   ]
  },
  {
   "cell_type": "code",
   "execution_count": 22,
   "id": "d9b133c3",
   "metadata": {
    "execution": {
     "iopub.execute_input": "2022-10-08T20:11:55.130640Z",
     "iopub.status.busy": "2022-10-08T20:11:55.129788Z",
     "iopub.status.idle": "2022-10-08T20:14:07.136728Z",
     "shell.execute_reply": "2022-10-08T20:14:07.137879Z"
    },
    "papermill": {
     "duration": 132.05028,
     "end_time": "2022-10-08T20:14:07.138053",
     "exception": false,
     "start_time": "2022-10-08T20:11:55.087773",
     "status": "completed"
    },
    "tags": []
   },
   "outputs": [
    {
     "name": "stdout",
     "output_type": "stream",
     "text": [
      "Epoch 0, Loss 0.2489\n",
      "Training Accuracy: 0.4892, Testing Accuracy: 0.4929\n",
      "\n"
     ]
    },
    {
     "name": "stdout",
     "output_type": "stream",
     "text": [
      "Epoch 10, Loss 0.1872\n",
      "Training Accuracy: 0.8751, Testing Accuracy: 0.8987\n",
      "\n"
     ]
    },
    {
     "name": "stdout",
     "output_type": "stream",
     "text": [
      "Epoch 20, Loss 0.0957\n",
      "Training Accuracy: 0.9171, Testing Accuracy: 0.9284\n",
      "\n"
     ]
    },
    {
     "name": "stdout",
     "output_type": "stream",
     "text": [
      "Epoch 30, Loss 0.0616\n",
      "Training Accuracy: 0.9350, Testing Accuracy: 0.9476\n",
      "\n"
     ]
    },
    {
     "name": "stdout",
     "output_type": "stream",
     "text": [
      "Epoch 40, Loss 0.0481\n",
      "Training Accuracy: 0.9463, Testing Accuracy: 0.9577\n",
      "\n"
     ]
    },
    {
     "name": "stdout",
     "output_type": "stream",
     "text": [
      "Epoch 50, Loss 0.0412\n",
      "Training Accuracy: 0.9537, Testing Accuracy: 0.9637\n",
      "\n"
     ]
    },
    {
     "name": "stdout",
     "output_type": "stream",
     "text": [
      "Epoch 60, Loss 0.037\n",
      "Training Accuracy: 0.9577, Testing Accuracy: 0.9667\n",
      "\n"
     ]
    },
    {
     "name": "stdout",
     "output_type": "stream",
     "text": [
      "Epoch 70, Loss 0.0343\n",
      "Training Accuracy: 0.9602, Testing Accuracy: 0.9693\n",
      "\n"
     ]
    },
    {
     "name": "stdout",
     "output_type": "stream",
     "text": [
      "Epoch 80, Loss 0.0323\n",
      "Training Accuracy: 0.9619, Testing Accuracy: 0.9693\n",
      "\n"
     ]
    },
    {
     "name": "stdout",
     "output_type": "stream",
     "text": [
      "Epoch 90, Loss 0.0308\n",
      "Training Accuracy: 0.9642, Testing Accuracy: 0.9693\n",
      "\n"
     ]
    },
    {
     "name": "stdout",
     "output_type": "stream",
     "text": [
      "Epoch 100, Loss 0.0296\n",
      "Training Accuracy: 0.9654, Testing Accuracy: 0.9698\n",
      "\n"
     ]
    },
    {
     "name": "stdout",
     "output_type": "stream",
     "text": [
      "Epoch 110, Loss 0.0285\n",
      "Training Accuracy: 0.9664, Testing Accuracy: 0.9713\n",
      "\n"
     ]
    },
    {
     "name": "stdout",
     "output_type": "stream",
     "text": [
      "Epoch 120, Loss 0.0276\n",
      "Training Accuracy: 0.9672, Testing Accuracy: 0.9713\n",
      "\n"
     ]
    },
    {
     "name": "stdout",
     "output_type": "stream",
     "text": [
      "Epoch 130, Loss 0.0268\n",
      "Training Accuracy: 0.9682, Testing Accuracy: 0.9718\n",
      "\n"
     ]
    },
    {
     "name": "stdout",
     "output_type": "stream",
     "text": [
      "Epoch 140, Loss 0.0261\n",
      "Training Accuracy: 0.9693, Testing Accuracy: 0.9718\n",
      "\n"
     ]
    },
    {
     "name": "stdout",
     "output_type": "stream",
     "text": [
      "Epoch 150, Loss 0.0255\n",
      "Training Accuracy: 0.9708, Testing Accuracy: 0.9718\n",
      "\n"
     ]
    },
    {
     "name": "stdout",
     "output_type": "stream",
     "text": [
      "Epoch 160, Loss 0.0249\n",
      "Training Accuracy: 0.9713, Testing Accuracy: 0.9723\n",
      "\n"
     ]
    },
    {
     "name": "stdout",
     "output_type": "stream",
     "text": [
      "Epoch 170, Loss 0.0244\n",
      "Training Accuracy: 0.9720, Testing Accuracy: 0.9713\n",
      "\n"
     ]
    },
    {
     "name": "stdout",
     "output_type": "stream",
     "text": [
      "Epoch 180, Loss 0.0239\n",
      "Training Accuracy: 0.9728, Testing Accuracy: 0.9708\n",
      "\n"
     ]
    },
    {
     "name": "stdout",
     "output_type": "stream",
     "text": [
      "Epoch 190, Loss 0.0234\n",
      "Training Accuracy: 0.9731, Testing Accuracy: 0.9708\n",
      "\n"
     ]
    },
    {
     "name": "stdout",
     "output_type": "stream",
     "text": [
      "Epoch 200, Loss 0.023\n",
      "Training Accuracy: 0.9736, Testing Accuracy: 0.9713\n",
      "\n"
     ]
    },
    {
     "name": "stdout",
     "output_type": "stream",
     "text": [
      "Epoch 210, Loss 0.0226\n",
      "Training Accuracy: 0.9736, Testing Accuracy: 0.9708\n",
      "\n"
     ]
    },
    {
     "name": "stdout",
     "output_type": "stream",
     "text": [
      "Epoch 220, Loss 0.0222\n",
      "Training Accuracy: 0.9743, Testing Accuracy: 0.9718\n",
      "\n"
     ]
    },
    {
     "name": "stdout",
     "output_type": "stream",
     "text": [
      "Epoch 230, Loss 0.0218\n",
      "Training Accuracy: 0.9748, Testing Accuracy: 0.9713\n",
      "\n"
     ]
    },
    {
     "name": "stdout",
     "output_type": "stream",
     "text": [
      "Epoch 240, Loss 0.0215\n",
      "Training Accuracy: 0.9752, Testing Accuracy: 0.9708\n",
      "\n"
     ]
    },
    {
     "data": {
      "text/plain": [
       "0.004745856786004813"
      ]
     },
     "execution_count": 22,
     "metadata": {},
     "output_type": "execute_result"
    }
   ],
   "source": [
    "nn_learner.train_loop(dl)"
   ]
  },
  {
   "cell_type": "code",
   "execution_count": 23,
   "id": "e0163366",
   "metadata": {
    "execution": {
     "iopub.execute_input": "2022-10-08T20:14:07.237981Z",
     "iopub.status.busy": "2022-10-08T20:14:07.237226Z",
     "iopub.status.idle": "2022-10-08T20:14:26.948510Z",
     "shell.execute_reply": "2022-10-08T20:14:26.949626Z"
    },
    "papermill": {
     "duration": 19.766916,
     "end_time": "2022-10-08T20:14:26.949808",
     "exception": false,
     "start_time": "2022-10-08T20:14:07.182892",
     "status": "completed"
    },
    "tags": []
   },
   "outputs": [
    {
     "name": "stdout",
     "output_type": "stream",
     "text": [
      "Epoch 0, Loss 0.2846\n",
      "Training Accuracy: 0.5090, Testing Accuracy: 0.5050\n",
      "\n"
     ]
    },
    {
     "name": "stdout",
     "output_type": "stream",
     "text": [
      "Epoch 10, Loss 0.1077\n",
      "Training Accuracy: 0.9017, Testing Accuracy: 0.9103\n",
      "\n"
     ]
    },
    {
     "name": "stdout",
     "output_type": "stream",
     "text": [
      "Epoch 20, Loss 0.0812\n",
      "Training Accuracy: 0.9240, Testing Accuracy: 0.9380\n",
      "\n"
     ]
    },
    {
     "name": "stdout",
     "output_type": "stream",
     "text": [
      "Epoch 30, Loss 0.0692\n",
      "Training Accuracy: 0.9352, Testing Accuracy: 0.9506\n",
      "\n"
     ]
    },
    {
     "name": "stdout",
     "output_type": "stream",
     "text": [
      "Epoch 40, Loss 0.0622\n",
      "Training Accuracy: 0.9402, Testing Accuracy: 0.9541\n",
      "\n"
     ]
    },
    {
     "name": "stdout",
     "output_type": "stream",
     "text": [
      "Epoch 50, Loss 0.0574\n",
      "Training Accuracy: 0.9447, Testing Accuracy: 0.9556\n",
      "\n"
     ]
    },
    {
     "name": "stdout",
     "output_type": "stream",
     "text": [
      "Epoch 60, Loss 0.054\n",
      "Training Accuracy: 0.9479, Testing Accuracy: 0.9582\n",
      "\n"
     ]
    },
    {
     "name": "stdout",
     "output_type": "stream",
     "text": [
      "Epoch 70, Loss 0.0513\n",
      "Training Accuracy: 0.9499, Testing Accuracy: 0.9582\n",
      "\n"
     ]
    },
    {
     "name": "stdout",
     "output_type": "stream",
     "text": [
      "Epoch 80, Loss 0.0492\n",
      "Training Accuracy: 0.9511, Testing Accuracy: 0.9612\n",
      "\n"
     ]
    },
    {
     "name": "stdout",
     "output_type": "stream",
     "text": [
      "Epoch 90, Loss 0.0475\n",
      "Training Accuracy: 0.9531, Testing Accuracy: 0.9632\n",
      "\n"
     ]
    },
    {
     "name": "stdout",
     "output_type": "stream",
     "text": [
      "Epoch 100, Loss 0.0461\n",
      "Training Accuracy: 0.9542, Testing Accuracy: 0.9647\n",
      "\n"
     ]
    },
    {
     "name": "stdout",
     "output_type": "stream",
     "text": [
      "Epoch 110, Loss 0.0449\n",
      "Training Accuracy: 0.9548, Testing Accuracy: 0.9647\n",
      "\n"
     ]
    },
    {
     "name": "stdout",
     "output_type": "stream",
     "text": [
      "Epoch 120, Loss 0.0438\n",
      "Training Accuracy: 0.9555, Testing Accuracy: 0.9642\n",
      "\n"
     ]
    },
    {
     "name": "stdout",
     "output_type": "stream",
     "text": [
      "Epoch 130, Loss 0.0428\n",
      "Training Accuracy: 0.9561, Testing Accuracy: 0.9642\n",
      "\n"
     ]
    },
    {
     "name": "stdout",
     "output_type": "stream",
     "text": [
      "Epoch 140, Loss 0.042\n",
      "Training Accuracy: 0.9564, Testing Accuracy: 0.9652\n",
      "\n"
     ]
    },
    {
     "name": "stdout",
     "output_type": "stream",
     "text": [
      "Epoch 150, Loss 0.0413\n",
      "Training Accuracy: 0.9568, Testing Accuracy: 0.9652\n",
      "\n"
     ]
    },
    {
     "name": "stdout",
     "output_type": "stream",
     "text": [
      "Epoch 160, Loss 0.0406\n",
      "Training Accuracy: 0.9575, Testing Accuracy: 0.9647\n",
      "\n"
     ]
    },
    {
     "name": "stdout",
     "output_type": "stream",
     "text": [
      "Epoch 170, Loss 0.04\n",
      "Training Accuracy: 0.9578, Testing Accuracy: 0.9657\n",
      "\n"
     ]
    },
    {
     "name": "stdout",
     "output_type": "stream",
     "text": [
      "Epoch 180, Loss 0.0394\n",
      "Training Accuracy: 0.9584, Testing Accuracy: 0.9662\n",
      "\n"
     ]
    },
    {
     "name": "stdout",
     "output_type": "stream",
     "text": [
      "Epoch 190, Loss 0.0389\n",
      "Training Accuracy: 0.9589, Testing Accuracy: 0.9657\n",
      "\n"
     ]
    },
    {
     "name": "stdout",
     "output_type": "stream",
     "text": [
      "Epoch 200, Loss 0.0384\n",
      "Training Accuracy: 0.9590, Testing Accuracy: 0.9662\n",
      "\n"
     ]
    },
    {
     "name": "stdout",
     "output_type": "stream",
     "text": [
      "Epoch 210, Loss 0.038\n",
      "Training Accuracy: 0.9597, Testing Accuracy: 0.9662\n",
      "\n"
     ]
    },
    {
     "name": "stdout",
     "output_type": "stream",
     "text": [
      "Epoch 220, Loss 0.0376\n",
      "Training Accuracy: 0.9601, Testing Accuracy: 0.9662\n",
      "\n"
     ]
    },
    {
     "name": "stdout",
     "output_type": "stream",
     "text": [
      "Epoch 230, Loss 0.0372\n",
      "Training Accuracy: 0.9605, Testing Accuracy: 0.9667\n",
      "\n"
     ]
    },
    {
     "name": "stdout",
     "output_type": "stream",
     "text": [
      "Epoch 240, Loss 0.0368\n",
      "Training Accuracy: 0.9607, Testing Accuracy: 0.9662\n",
      "\n"
     ]
    },
    {
     "data": {
      "text/plain": [
       "0.024506489949059976"
      ]
     },
     "execution_count": 23,
     "metadata": {},
     "output_type": "execute_result"
    }
   ],
   "source": [
    "lr_learner.train_loop(dl)"
   ]
  },
  {
   "cell_type": "code",
   "execution_count": 24,
   "id": "ca410940",
   "metadata": {
    "execution": {
     "iopub.execute_input": "2022-10-08T20:14:27.074490Z",
     "iopub.status.busy": "2022-10-08T20:14:27.073723Z",
     "iopub.status.idle": "2022-10-08T20:14:27.383615Z",
     "shell.execute_reply": "2022-10-08T20:14:27.382938Z"
    },
    "papermill": {
     "duration": 0.37958,
     "end_time": "2022-10-08T20:14:27.383770",
     "exception": false,
     "start_time": "2022-10-08T20:14:27.004190",
     "status": "completed"
    },
    "tags": []
   },
   "outputs": [
    {
     "data": {
      "text/plain": [
       "<matplotlib.legend.Legend at 0x7f11ef7154a8>"
      ]
     },
     "execution_count": 24,
     "metadata": {},
     "output_type": "execute_result"
    },
    {
     "data": {
      "image/png": "[encoded data removed]",
      "text/plain": [
       "<Figure size 1080x720 with 1 Axes>"
      ]
     },
     "metadata": {
      "needs_background": "light"
     },
     "output_type": "display_data"
    }
   ],
   "source": [
    "#comparing the results of NN and LR\n",
    "plt.figure(figsize=(15,10))\n",
    "\n",
    "# Neural Network plots\n",
    "plt.plot(acc_nn.accuracies, 'r-', label = \"Training Accuracies - NN\")\n",
    "plt.plot(acc_nn.test_accuracies, 'g-', label = \"Testing Accuracies - NN\")\n",
    "\n",
    "# Logistic Regression plots\n",
    "plt.plot(acc_lr.accuracies, 'k-', label = \"Training Accuracies - LR\")\n",
    "plt.plot(acc_lr.test_accuracies, 'b-', label = \"Testing Accuracies - LR\")\n",
    "plt.legend()"
   ]
  },
  {
   "cell_type": "markdown",
   "id": "80dfb35c",
   "metadata": {
    "papermill": {
     "duration": 0.057139,
     "end_time": "2022-10-08T20:14:27.497587",
     "exception": false,
     "start_time": "2022-10-08T20:14:27.440448",
     "status": "completed"
    },
    "tags": []
   },
   "source": [
    "#### Plotting the outputs of this layer of the NN.\n"
   ]
  },
  {
   "cell_type": "code",
   "execution_count": 25,
   "id": "45eb2ff5",
   "metadata": {
    "execution": {
     "iopub.execute_input": "2022-10-08T20:14:27.616906Z",
     "iopub.status.busy": "2022-10-08T20:14:27.615986Z",
     "iopub.status.idle": "2022-10-08T20:14:27.647326Z",
     "shell.execute_reply": "2022-10-08T20:14:27.648328Z"
    },
    "papermill": {
     "duration": 0.096577,
     "end_time": "2022-10-08T20:14:27.648520",
     "exception": false,
     "start_time": "2022-10-08T20:14:27.551943",
     "status": "completed"
    },
    "tags": []
   },
   "outputs": [],
   "source": [
    "new_model = Model(layers[:-2])\n",
    "testing_plot = new_model(testing_data_x)"
   ]
  },
  {
   "cell_type": "code",
   "execution_count": 26,
   "id": "4c0a5485",
   "metadata": {
    "execution": {
     "iopub.execute_input": "2022-10-08T20:14:27.766709Z",
     "iopub.status.busy": "2022-10-08T20:14:27.765820Z",
     "iopub.status.idle": "2022-10-08T20:14:28.035038Z",
     "shell.execute_reply": "2022-10-08T20:14:28.035690Z"
    },
    "papermill": {
     "duration": 0.331386,
     "end_time": "2022-10-08T20:14:28.035869",
     "exception": false,
     "start_time": "2022-10-08T20:14:27.704483",
     "status": "completed"
    },
    "tags": []
   },
   "outputs": [
    {
     "data": {
      "text/plain": [
       "Text(0.5, 1.0, 'Outputs')"
      ]
     },
     "execution_count": 26,
     "metadata": {},
     "output_type": "execute_result"
    },
    {
     "data": {
      "image/png": "[encoded data removed]",
      "text/plain": [
       "<Figure size 576x504 with 1 Axes>"
      ]
     },
     "metadata": {
      "needs_background": "light"
     },
     "output_type": "display_data"
    }
   ],
   "source": [
    "# Plotting the scatter plot of points and color coding by class\n",
    "plt.figure(figsize=(8,7))\n",
    "plt.scatter(testing_plot[:,0], testing_plot[:,1], alpha = 0.1, c = y_test.ravel());\n",
    "plt.title('Outputs')"
   ]
  },
  {
   "cell_type": "markdown",
   "id": "a74fcf8f",
   "metadata": {
    "papermill": {
     "duration": 0.087673,
     "end_time": "2022-10-08T20:14:28.185404",
     "exception": false,
     "start_time": "2022-10-08T20:14:28.097731",
     "status": "completed"
    },
    "tags": []
   },
   "source": [
    "Probability contours"
   ]
  },
  {
   "cell_type": "code",
   "execution_count": 27,
   "id": "d0afc8e3",
   "metadata": {
    "execution": {
     "iopub.execute_input": "2022-10-08T20:14:28.307446Z",
     "iopub.status.busy": "2022-10-08T20:14:28.306671Z",
     "iopub.status.idle": "2022-10-08T20:14:28.322637Z",
     "shell.execute_reply": "2022-10-08T20:14:28.322042Z"
    },
    "papermill": {
     "duration": 0.079938,
     "end_time": "2022-10-08T20:14:28.322780",
     "exception": false,
     "start_time": "2022-10-08T20:14:28.242842",
     "status": "completed"
    },
    "tags": []
   },
   "outputs": [],
   "source": [
    "model_prob = Model(layers[-2:]) "
   ]
  },
  {
   "cell_type": "code",
   "execution_count": 28,
   "id": "9b96e238",
   "metadata": {
    "execution": {
     "iopub.execute_input": "2022-10-08T20:14:28.456894Z",
     "iopub.status.busy": "2022-10-08T20:14:28.451650Z",
     "iopub.status.idle": "2022-10-08T20:14:28.467589Z",
     "shell.execute_reply": "2022-10-08T20:14:28.466822Z"
    },
    "papermill": {
     "duration": 0.086637,
     "end_time": "2022-10-08T20:14:28.467742",
     "exception": false,
     "start_time": "2022-10-08T20:14:28.381105",
     "status": "completed"
    },
    "tags": []
   },
   "outputs": [],
   "source": [
    "#creating the x and y ranges according to the above generated plot.\n",
    "x_range = np.linspace(-4, 1, 100) \n",
    "y_range = np.linspace(-6, 6, 100) \n",
    "x_grid, y_grid = np.meshgrid(x_range, y_range) # x_grid and y_grig are of size 100 X 100\n",
    "\n",
    "# converting x_grid and y_grid to continuous arrays\n",
    "x_gridflat = np.ravel(x_grid)\n",
    "y_gridflat = np.ravel(y_grid)\n",
    "\n",
    "# The last layer of the current model takes two columns as input. Hence transpose of np.vstack() is required.\n",
    "X = np.vstack((x_gridflat, y_gridflat)).T\n",
    "\n",
    "prob_contour = model_prob(X).reshape(100,100) "
   ]
  },
  {
   "cell_type": "code",
   "execution_count": 29,
   "id": "da72499a",
   "metadata": {
    "execution": {
     "iopub.execute_input": "2022-10-08T20:14:28.598406Z",
     "iopub.status.busy": "2022-10-08T20:14:28.596896Z",
     "iopub.status.idle": "2022-10-08T20:14:28.929239Z",
     "shell.execute_reply": "2022-10-08T20:14:28.928485Z"
    },
    "papermill": {
     "duration": 0.396677,
     "end_time": "2022-10-08T20:14:28.929392",
     "exception": false,
     "start_time": "2022-10-08T20:14:28.532715",
     "status": "completed"
    },
    "tags": []
   },
   "outputs": [
    {
     "data": {
      "image/png": "[encoded data removed]",
      "text/plain": [
       "<Figure size 720x648 with 1 Axes>"
      ]
     },
     "metadata": {
      "needs_background": "light"
     },
     "output_type": "display_data"
    }
   ],
   "source": [
    "plt.figure(figsize=(10,9))\n",
    "plt.scatter(testing_plot[:,0], testing_plot[:,1], alpha = 0.1, c = y_test.ravel())\n",
    "contours = plt.contour(x_grid,y_grid,prob_contour)\n",
    "plt.title('Probability Contours')\n",
    "plt.clabel(contours, inline = True );"
   ]
  },
  {
   "cell_type": "code",
   "execution_count": null,
   "id": "e81b4ac7",
   "metadata": {
    "papermill": {
     "duration": 0.064674,
     "end_time": "2022-10-08T20:14:29.056361",
     "exception": false,
     "start_time": "2022-10-08T20:14:28.991687",
     "status": "completed"
    },
    "tags": []
   },
   "outputs": [],
   "source": []
  }
 ],
 "metadata": {
  "kernelspec": {
   "display_name": "Python 3",
   "language": "python",
   "name": "python3"
  },
  "language_info": {
   "codemirror_mode": {
    "name": "ipython",
    "version": 3
   },
   "file_extension": ".py",
   "mimetype": "text/x-python",
   "name": "python",
   "nbconvert_exporter": "python",
   "pygments_lexer": "ipython3",
   "version": "3.6.15"
  },
  "papermill": {
   "default_parameters": {},
   "duration": 162.567824,
   "end_time": "2022-10-08T20:14:29.640911",
   "environment_variables": {},
   "exception": null,
   "input_path": "2020-08-11-part2.ipynb",
   "output_path": "2020-08-11-part2.ipynb",
   "parameters": {},
   "start_time": "2022-10-08T20:11:47.073087",
   "version": "2.3.3"
  }
 },
 "nbformat": 4,
 "nbformat_minor": 5
}