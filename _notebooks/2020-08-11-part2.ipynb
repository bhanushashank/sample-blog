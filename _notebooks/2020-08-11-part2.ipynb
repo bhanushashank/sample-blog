{
 "cells": [
  {
   "cell_type": "markdown",
   "id": "98380cd3",
   "metadata": {
    "papermill": {
     "duration": 0.031346,
     "end_time": "2022-02-01T10:08:44.219076",
     "exception": false,
     "start_time": "2022-02-01T10:08:44.187730",
     "status": "completed"
    },
    "tags": []
   },
   "source": [
    "# Distinguish Your Own Digits (DYOD)"
   ]
  },
  {
   "cell_type": "markdown",
   "id": "ef31240d",
   "metadata": {
    "papermill": {
     "duration": 0.026794,
     "end_time": "2022-02-01T10:08:44.273620",
     "exception": false,
     "start_time": "2022-02-01T10:08:44.246826",
     "status": "completed"
    },
    "tags": []
   },
   "source": [
    "You are going to write a classifier that distinguishes between the number 3 and number 8."
   ]
  },
  {
   "cell_type": "code",
   "execution_count": 1,
   "id": "b15c8646",
   "metadata": {
    "execution": {
     "iopub.execute_input": "2022-02-01T10:08:44.338831Z",
     "iopub.status.busy": "2022-02-01T10:08:44.338303Z",
     "iopub.status.idle": "2022-02-01T10:08:44.349834Z",
     "shell.execute_reply": "2022-02-01T10:08:44.350315Z"
    },
    "papermill": {
     "duration": 0.050218,
     "end_time": "2022-02-01T10:08:44.350479",
     "exception": false,
     "start_time": "2022-02-01T10:08:44.300261",
     "status": "completed"
    },
    "tags": []
   },
   "outputs": [],
   "source": [
    "%load_ext autoreload\n",
    "%autoreload 2"
   ]
  },
  {
   "cell_type": "code",
   "execution_count": 2,
   "id": "22ef38dc",
   "metadata": {
    "execution": {
     "iopub.execute_input": "2022-02-01T10:08:44.413695Z",
     "iopub.status.busy": "2022-02-01T10:08:44.413060Z",
     "iopub.status.idle": "2022-02-01T10:08:45.066451Z",
     "shell.execute_reply": "2022-02-01T10:08:45.065565Z"
    },
    "papermill": {
     "duration": 0.689255,
     "end_time": "2022-02-01T10:08:45.066669",
     "exception": false,
     "start_time": "2022-02-01T10:08:44.377414",
     "status": "completed"
    },
    "tags": []
   },
   "outputs": [],
   "source": [
    "%matplotlib inline\n",
    "import numpy as np\n",
    "import matplotlib.pyplot as plt\n",
    "import pandas as pd"
   ]
  },
  {
   "cell_type": "markdown",
   "id": "ba036198",
   "metadata": {
    "papermill": {
     "duration": 0.027144,
     "end_time": "2022-02-01T10:08:45.122454",
     "exception": false,
     "start_time": "2022-02-01T10:08:45.095310",
     "status": "completed"
    },
    "tags": []
   },
   "source": [
    "From the command line run `pip install mnist`. This is a library that will help you bring down the mnist dataset. If you run this from a notebook, you need to put  `!pip install mnist` in a cell by itself."
   ]
  },
  {
   "cell_type": "code",
   "execution_count": 3,
   "id": "bb6ad8a1",
   "metadata": {
    "execution": {
     "iopub.execute_input": "2022-02-01T10:08:45.179371Z",
     "iopub.status.busy": "2022-02-01T10:08:45.178051Z",
     "iopub.status.idle": "2022-02-01T10:08:47.029467Z",
     "shell.execute_reply": "2022-02-01T10:08:47.029984Z"
    },
    "papermill": {
     "duration": 1.882023,
     "end_time": "2022-02-01T10:08:47.030144",
     "exception": false,
     "start_time": "2022-02-01T10:08:45.148121",
     "status": "completed"
    },
    "tags": []
   },
   "outputs": [
    {
     "name": "stdout",
     "output_type": "stream",
     "text": [
      "Collecting mnist\r\n"
     ]
    },
    {
     "name": "stdout",
     "output_type": "stream",
     "text": [
      "  Downloading mnist-0.2.2-py2.py3-none-any.whl (3.5 kB)\r\n",
      "Requirement already satisfied: numpy in /opt/hostedtoolcache/Python/3.6.15/x64/lib/python3.6/site-packages (from mnist) (1.19.5)\r\n"
     ]
    },
    {
     "name": "stdout",
     "output_type": "stream",
     "text": [
      "Installing collected packages: mnist\r\n"
     ]
    },
    {
     "name": "stdout",
     "output_type": "stream",
     "text": [
      "Successfully installed mnist-0.2.2\r\n"
     ]
    }
   ],
   "source": [
    "!pip install mnist"
   ]
  },
  {
   "cell_type": "markdown",
   "id": "69df9c9a",
   "metadata": {
    "papermill": {
     "duration": 0.028045,
     "end_time": "2022-02-01T10:08:47.086631",
     "exception": false,
     "start_time": "2022-02-01T10:08:47.058586",
     "status": "completed"
    },
    "tags": []
   },
   "source": [
    "## Preparing the Data"
   ]
  },
  {
   "cell_type": "code",
   "execution_count": 4,
   "id": "7f69d806",
   "metadata": {
    "execution": {
     "iopub.execute_input": "2022-02-01T10:08:47.150148Z",
     "iopub.status.busy": "2022-02-01T10:08:47.149535Z",
     "iopub.status.idle": "2022-02-01T10:08:47.166297Z",
     "shell.execute_reply": "2022-02-01T10:08:47.165771Z"
    },
    "papermill": {
     "duration": 0.052043,
     "end_time": "2022-02-01T10:08:47.166426",
     "exception": false,
     "start_time": "2022-02-01T10:08:47.114383",
     "status": "completed"
    },
    "tags": []
   },
   "outputs": [],
   "source": [
    "import mnist"
   ]
  },
  {
   "cell_type": "code",
   "execution_count": 5,
   "id": "a411e44f",
   "metadata": {
    "execution": {
     "iopub.execute_input": "2022-02-01T10:08:47.230400Z",
     "iopub.status.busy": "2022-02-01T10:08:47.229837Z",
     "iopub.status.idle": "2022-02-01T10:08:47.745904Z",
     "shell.execute_reply": "2022-02-01T10:08:47.745099Z"
    },
    "papermill": {
     "duration": 0.551929,
     "end_time": "2022-02-01T10:08:47.746038",
     "exception": false,
     "start_time": "2022-02-01T10:08:47.194109",
     "status": "completed"
    },
    "tags": []
   },
   "outputs": [],
   "source": [
    "train_images = mnist.train_images()\n",
    "train_labels = mnist.train_labels()"
   ]
  },
  {
   "cell_type": "code",
   "execution_count": 6,
   "id": "dceab3a5",
   "metadata": {
    "execution": {
     "iopub.execute_input": "2022-02-01T10:08:47.804406Z",
     "iopub.status.busy": "2022-02-01T10:08:47.803793Z",
     "iopub.status.idle": "2022-02-01T10:08:47.821245Z",
     "shell.execute_reply": "2022-02-01T10:08:47.820523Z"
    },
    "papermill": {
     "duration": 0.048127,
     "end_time": "2022-02-01T10:08:47.821367",
     "exception": false,
     "start_time": "2022-02-01T10:08:47.773240",
     "status": "completed"
    },
    "tags": []
   },
   "outputs": [
    {
     "data": {
      "text/plain": [
       "((60000, 28, 28), (60000,))"
      ]
     },
     "execution_count": 6,
     "metadata": {},
     "output_type": "execute_result"
    }
   ],
   "source": [
    "train_images.shape, train_labels.shape"
   ]
  },
  {
   "cell_type": "code",
   "execution_count": 7,
   "id": "f50dc2bb",
   "metadata": {
    "execution": {
     "iopub.execute_input": "2022-02-01T10:08:47.879806Z",
     "iopub.status.busy": "2022-02-01T10:08:47.879231Z",
     "iopub.status.idle": "2022-02-01T10:08:48.002047Z",
     "shell.execute_reply": "2022-02-01T10:08:48.002784Z"
    },
    "papermill": {
     "duration": 0.154217,
     "end_time": "2022-02-01T10:08:48.003051",
     "exception": false,
     "start_time": "2022-02-01T10:08:47.848834",
     "status": "completed"
    },
    "tags": []
   },
   "outputs": [],
   "source": [
    "test_images = mnist.test_images()\n",
    "test_labels = mnist.test_labels()"
   ]
  },
  {
   "cell_type": "code",
   "execution_count": 8,
   "id": "fc38cf1b",
   "metadata": {
    "execution": {
     "iopub.execute_input": "2022-02-01T10:08:48.064043Z",
     "iopub.status.busy": "2022-02-01T10:08:48.063469Z",
     "iopub.status.idle": "2022-02-01T10:08:48.079634Z",
     "shell.execute_reply": "2022-02-01T10:08:48.079115Z"
    },
    "papermill": {
     "duration": 0.047195,
     "end_time": "2022-02-01T10:08:48.079765",
     "exception": false,
     "start_time": "2022-02-01T10:08:48.032570",
     "status": "completed"
    },
    "tags": []
   },
   "outputs": [
    {
     "data": {
      "text/plain": [
       "((10000, 28, 28), (10000,))"
      ]
     },
     "execution_count": 8,
     "metadata": {},
     "output_type": "execute_result"
    }
   ],
   "source": [
    "test_images.shape, test_labels.shape"
   ]
  },
  {
   "cell_type": "code",
   "execution_count": 9,
   "id": "f9ed8fe0",
   "metadata": {
    "execution": {
     "iopub.execute_input": "2022-02-01T10:08:48.143778Z",
     "iopub.status.busy": "2022-02-01T10:08:48.140089Z",
     "iopub.status.idle": "2022-02-01T10:08:48.294796Z",
     "shell.execute_reply": "2022-02-01T10:08:48.294295Z"
    },
    "papermill": {
     "duration": 0.186862,
     "end_time": "2022-02-01T10:08:48.294925",
     "exception": false,
     "start_time": "2022-02-01T10:08:48.108063",
     "status": "completed"
    },
    "tags": []
   },
   "outputs": [
    {
     "name": "stdout",
     "output_type": "stream",
     "text": [
      "2\n"
     ]
    },
    {
     "data": {
      "text/plain": [
       "<matplotlib.image.AxesImage at 0x7f0cb2e2ec50>"
      ]
     },
     "execution_count": 9,
     "metadata": {},
     "output_type": "execute_result"
    },
    {
     "data": {
      "image/png": "[encoded data removed]",
      "text/plain": [
       "<Figure size 432x288 with 1 Axes>"
      ]
     },
     "metadata": {
      "needs_background": "light"
     },
     "output_type": "display_data"
    }
   ],
   "source": [
    "image_index = 7776 # You may select anything up to 60,000\n",
    "print(train_labels[image_index]) \n",
    "plt.imshow(train_images[image_index], cmap='Greys')"
   ]
  },
  {
   "cell_type": "markdown",
   "id": "a8d2388d",
   "metadata": {
    "papermill": {
     "duration": 0.029556,
     "end_time": "2022-02-01T10:08:48.353839",
     "exception": false,
     "start_time": "2022-02-01T10:08:48.324283",
     "status": "completed"
    },
    "tags": []
   },
   "source": [
    "## Filter data to get 3 and 8 out"
   ]
  },
  {
   "cell_type": "code",
   "execution_count": 10,
   "id": "776f7fc7",
   "metadata": {
    "execution": {
     "iopub.execute_input": "2022-02-01T10:08:48.417452Z",
     "iopub.status.busy": "2022-02-01T10:08:48.416817Z",
     "iopub.status.idle": "2022-02-01T10:08:48.434270Z",
     "shell.execute_reply": "2022-02-01T10:08:48.433716Z"
    },
    "papermill": {
     "duration": 0.051156,
     "end_time": "2022-02-01T10:08:48.434400",
     "exception": false,
     "start_time": "2022-02-01T10:08:48.383244",
     "status": "completed"
    },
    "tags": []
   },
   "outputs": [],
   "source": [
    "train_filter = np.where((train_labels == 3 ) | (train_labels == 8))\n",
    "test_filter = np.where((test_labels == 3) | (test_labels == 8))\n",
    "X_train, y_train = train_images[train_filter], train_labels[train_filter]\n",
    "X_test, y_test = test_images[test_filter], test_labels[test_filter]"
   ]
  },
  {
   "cell_type": "markdown",
   "id": "948f0b7e",
   "metadata": {
    "papermill": {
     "duration": 0.028968,
     "end_time": "2022-02-01T10:08:48.492852",
     "exception": false,
     "start_time": "2022-02-01T10:08:48.463884",
     "status": "completed"
    },
    "tags": []
   },
   "source": [
    "We normalize the pizel values in the 0 to 1 range"
   ]
  },
  {
   "cell_type": "code",
   "execution_count": 11,
   "id": "ee4c2166",
   "metadata": {
    "execution": {
     "iopub.execute_input": "2022-02-01T10:08:48.564249Z",
     "iopub.status.busy": "2022-02-01T10:08:48.555681Z",
     "iopub.status.idle": "2022-02-01T10:08:48.606413Z",
     "shell.execute_reply": "2022-02-01T10:08:48.605510Z"
    },
    "papermill": {
     "duration": 0.084888,
     "end_time": "2022-02-01T10:08:48.606623",
     "exception": false,
     "start_time": "2022-02-01T10:08:48.521735",
     "status": "completed"
    },
    "tags": []
   },
   "outputs": [],
   "source": [
    "X_train = X_train/255.\n",
    "X_test = X_test/255."
   ]
  },
  {
   "cell_type": "markdown",
   "id": "ddcf4fab",
   "metadata": {
    "papermill": {
     "duration": 0.029646,
     "end_time": "2022-02-01T10:08:48.665777",
     "exception": false,
     "start_time": "2022-02-01T10:08:48.636131",
     "status": "completed"
    },
    "tags": []
   },
   "source": [
    "And setup the labels as 1 (when the digit is 3) and 0 (when the digit is 8)"
   ]
  },
  {
   "cell_type": "code",
   "execution_count": 12,
   "id": "7dc908f2",
   "metadata": {
    "execution": {
     "iopub.execute_input": "2022-02-01T10:08:48.728918Z",
     "iopub.status.busy": "2022-02-01T10:08:48.728321Z",
     "iopub.status.idle": "2022-02-01T10:08:48.743443Z",
     "shell.execute_reply": "2022-02-01T10:08:48.742425Z"
    },
    "papermill": {
     "duration": 0.048518,
     "end_time": "2022-02-01T10:08:48.743573",
     "exception": false,
     "start_time": "2022-02-01T10:08:48.695055",
     "status": "completed"
    },
    "tags": []
   },
   "outputs": [],
   "source": [
    "y_train = 1*(y_train==3)\n",
    "y_test = 1*(y_test==3)"
   ]
  },
  {
   "cell_type": "code",
   "execution_count": 13,
   "id": "01e4e969",
   "metadata": {
    "execution": {
     "iopub.execute_input": "2022-02-01T10:08:48.806980Z",
     "iopub.status.busy": "2022-02-01T10:08:48.806373Z",
     "iopub.status.idle": "2022-02-01T10:08:48.822123Z",
     "shell.execute_reply": "2022-02-01T10:08:48.822572Z"
    },
    "papermill": {
     "duration": 0.049444,
     "end_time": "2022-02-01T10:08:48.822721",
     "exception": false,
     "start_time": "2022-02-01T10:08:48.773277",
     "status": "completed"
    },
    "tags": []
   },
   "outputs": [
    {
     "data": {
      "text/plain": [
       "((11982, 28, 28), (1984, 28, 28))"
      ]
     },
     "execution_count": 13,
     "metadata": {},
     "output_type": "execute_result"
    }
   ],
   "source": [
    "X_train.shape, X_test.shape"
   ]
  },
  {
   "cell_type": "markdown",
   "id": "5ccf3f85",
   "metadata": {
    "papermill": {
     "duration": 0.028594,
     "end_time": "2022-02-01T10:08:48.880036",
     "exception": false,
     "start_time": "2022-02-01T10:08:48.851442",
     "status": "completed"
    },
    "tags": []
   },
   "source": [
    "We reshape the data to flatten the image pixels into a set of features or co-variates:"
   ]
  },
  {
   "cell_type": "code",
   "execution_count": 14,
   "id": "5286a4a3",
   "metadata": {
    "execution": {
     "iopub.execute_input": "2022-02-01T10:08:48.942781Z",
     "iopub.status.busy": "2022-02-01T10:08:48.942169Z",
     "iopub.status.idle": "2022-02-01T10:08:48.958548Z",
     "shell.execute_reply": "2022-02-01T10:08:48.959101Z"
    },
    "papermill": {
     "duration": 0.050846,
     "end_time": "2022-02-01T10:08:48.959247",
     "exception": false,
     "start_time": "2022-02-01T10:08:48.908401",
     "status": "completed"
    },
    "tags": []
   },
   "outputs": [
    {
     "data": {
      "text/plain": [
       "((11982, 784), (1984, 784))"
      ]
     },
     "execution_count": 14,
     "metadata": {},
     "output_type": "execute_result"
    }
   ],
   "source": [
    "X_train = X_train.reshape(X_train.shape[0], -1)\n",
    "X_test = X_test.reshape(X_test.shape[0], -1)\n",
    "X_train.shape, X_test.shape"
   ]
  },
  {
   "cell_type": "code",
   "execution_count": 15,
   "id": "73c5f88a",
   "metadata": {
    "execution": {
     "iopub.execute_input": "2022-02-01T10:08:49.023682Z",
     "iopub.status.busy": "2022-02-01T10:08:49.023049Z",
     "iopub.status.idle": "2022-02-01T10:08:49.043414Z",
     "shell.execute_reply": "2022-02-01T10:08:49.043905Z"
    },
    "papermill": {
     "duration": 0.055304,
     "end_time": "2022-02-01T10:08:49.044050",
     "exception": false,
     "start_time": "2022-02-01T10:08:48.988746",
     "status": "completed"
    },
    "tags": []
   },
   "outputs": [],
   "source": [
    "#Impoting functions from 'Kudzu'\n",
    "from kudzu.model import Model\n",
    "from kudzu.train import Learner\n",
    "from kudzu.optim import GD\n",
    "from kudzu.data import Data, Sampler,Dataloader\n",
    "\n",
    "from kudzu.callbacks import AccCallback\n",
    "from kudzu.callbacks import ClfCallback\n",
    "\n",
    "from kudzu.loss import MSE\n",
    "\n",
    "from kudzu.layer import Sigmoid,Relu\n",
    "from kudzu.layer import Affine"
   ]
  },
  {
   "cell_type": "markdown",
   "id": "bc01172a",
   "metadata": {
    "papermill": {
     "duration": 0.029805,
     "end_time": "2022-02-01T10:08:49.104230",
     "exception": false,
     "start_time": "2022-02-01T10:08:49.074425",
     "status": "completed"
    },
    "tags": []
   },
   "source": [
    "### Let us create a `Config` class, to store important parameters. \n",
    "This class essentially plays the role of a dictionary."
   ]
  },
  {
   "cell_type": "code",
   "execution_count": 16,
   "id": "978281aa",
   "metadata": {
    "execution": {
     "iopub.execute_input": "2022-02-01T10:08:49.167643Z",
     "iopub.status.busy": "2022-02-01T10:08:49.167024Z",
     "iopub.status.idle": "2022-02-01T10:08:49.180860Z",
     "shell.execute_reply": "2022-02-01T10:08:49.180092Z"
    },
    "papermill": {
     "duration": 0.047563,
     "end_time": "2022-02-01T10:08:49.181025",
     "exception": false,
     "start_time": "2022-02-01T10:08:49.133462",
     "status": "completed"
    },
    "tags": []
   },
   "outputs": [],
   "source": [
    "class Config:\n",
    "    pass\n",
    "config = Config()\n",
    "config.lr = 0.001\n",
    "config.num_epochs = 250\n",
    "config.bs = 50"
   ]
  },
  {
   "cell_type": "markdown",
   "id": "1385fa59",
   "metadata": {
    "papermill": {
     "duration": 0.032132,
     "end_time": "2022-02-01T10:08:49.246668",
     "exception": false,
     "start_time": "2022-02-01T10:08:49.214536",
     "status": "completed"
    },
    "tags": []
   },
   "source": [
    "### Running Models with the Training data\n",
    "Details about the network layers:\n",
    "- A first affine layer has 784 inputs and does 100 affine transforms. These are followed by a Relu\n",
    "- A second affine layer has 100 inputs from the 100 activations of the past layer, and does 100 affine transforms. These are followed by a Relu\n",
    "- A third affine layer has 100 activations and does 2 affine transformations to create an embedding for visualization. There is no non-linearity here.\n",
    "- A final \"logistic regression\" which has an affine transform from 2 inputs to 1 output, which is squeezed through a sigmoid.\n"
   ]
  },
  {
   "cell_type": "code",
   "execution_count": 17,
   "id": "2b9c66db",
   "metadata": {
    "execution": {
     "iopub.execute_input": "2022-02-01T10:08:49.316607Z",
     "iopub.status.busy": "2022-02-01T10:08:49.315989Z",
     "iopub.status.idle": "2022-02-01T10:08:49.330548Z",
     "shell.execute_reply": "2022-02-01T10:08:49.330081Z"
    },
    "papermill": {
     "duration": 0.053904,
     "end_time": "2022-02-01T10:08:49.330675",
     "exception": false,
     "start_time": "2022-02-01T10:08:49.276771",
     "status": "completed"
    },
    "tags": []
   },
   "outputs": [],
   "source": [
    "data = Data(X_train, y_train.reshape(-1,1))\n",
    "sampler = Sampler(data, config.bs, shuffle=True)\n",
    "\n",
    "dl = Dataloader(data, sampler)\n",
    "\n",
    "opt = GD(config.lr)\n",
    "loss = MSE()"
   ]
  },
  {
   "cell_type": "code",
   "execution_count": 18,
   "id": "b275e4c2",
   "metadata": {
    "execution": {
     "iopub.execute_input": "2022-02-01T10:08:49.400728Z",
     "iopub.status.busy": "2022-02-01T10:08:49.399447Z",
     "iopub.status.idle": "2022-02-01T10:08:49.412113Z",
     "shell.execute_reply": "2022-02-01T10:08:49.411629Z"
    },
    "papermill": {
     "duration": 0.050808,
     "end_time": "2022-02-01T10:08:49.412234",
     "exception": false,
     "start_time": "2022-02-01T10:08:49.361426",
     "status": "completed"
    },
    "tags": []
   },
   "outputs": [],
   "source": [
    "training_data_x = X_train\n",
    "testing_data_x = X_test\n",
    "training_data_y = y_train.reshape(-1,1)\n",
    "testing_data_y = y_test.reshape(-1,1)"
   ]
  },
  {
   "cell_type": "code",
   "execution_count": 19,
   "id": "76951160",
   "metadata": {
    "execution": {
     "iopub.execute_input": "2022-02-01T10:08:49.483309Z",
     "iopub.status.busy": "2022-02-01T10:08:49.482645Z",
     "iopub.status.idle": "2022-02-01T10:08:49.500382Z",
     "shell.execute_reply": "2022-02-01T10:08:49.499867Z"
    },
    "papermill": {
     "duration": 0.051959,
     "end_time": "2022-02-01T10:08:49.500507",
     "exception": false,
     "start_time": "2022-02-01T10:08:49.448548",
     "status": "completed"
    },
    "tags": []
   },
   "outputs": [
    {
     "name": "stdout",
     "output_type": "stream",
     "text": [
      "xavier\n",
      "xavier\n",
      "xavier\n",
      "xavier\n",
      "xavier\n"
     ]
    }
   ],
   "source": [
    "layers = [Affine(\"first\", 784, 100), Relu(\"first\"), Affine(\"second\", 100, 100), Relu(\"second\"), Affine(\"third\", 100, 2), Affine(\"last\", 2, 1), Sigmoid(\"last\")]\n",
    "model_nn = Model(layers)\n",
    "model_lr = Model([Affine(\"logits\", 784, 1), Sigmoid(\"sigmoid\")])"
   ]
  },
  {
   "cell_type": "code",
   "execution_count": 20,
   "id": "6eede77a",
   "metadata": {
    "execution": {
     "iopub.execute_input": "2022-02-01T10:08:49.571233Z",
     "iopub.status.busy": "2022-02-01T10:08:49.570567Z",
     "iopub.status.idle": "2022-02-01T10:08:49.583124Z",
     "shell.execute_reply": "2022-02-01T10:08:49.582618Z"
    },
    "papermill": {
     "duration": 0.05264,
     "end_time": "2022-02-01T10:08:49.583257",
     "exception": false,
     "start_time": "2022-02-01T10:08:49.530617",
     "status": "completed"
    },
    "tags": []
   },
   "outputs": [],
   "source": [
    "nn_learner = Learner(loss, model_nn, opt, config.num_epochs)\n",
    "acc_nn = ClfCallback(nn_learner, config.bs, training_data_x , testing_data_x, training_data_y, testing_data_y)\n",
    "nn_learner.set_callbacks([acc_nn])"
   ]
  },
  {
   "cell_type": "code",
   "execution_count": 21,
   "id": "877b6cc7",
   "metadata": {
    "execution": {
     "iopub.execute_input": "2022-02-01T10:08:49.654306Z",
     "iopub.status.busy": "2022-02-01T10:08:49.653714Z",
     "iopub.status.idle": "2022-02-01T10:08:49.665204Z",
     "shell.execute_reply": "2022-02-01T10:08:49.664703Z"
    },
    "papermill": {
     "duration": 0.052305,
     "end_time": "2022-02-01T10:08:49.665326",
     "exception": false,
     "start_time": "2022-02-01T10:08:49.613021",
     "status": "completed"
    },
    "tags": []
   },
   "outputs": [],
   "source": [
    "lr_learner = Learner(loss, model_lr, opt, config.num_epochs)\n",
    "acc_lr = ClfCallback(lr_learner, config.bs, training_data_x , testing_data_x, training_data_y, testing_data_y)\n",
    "lr_learner.set_callbacks([acc_lr])"
   ]
  },
  {
   "cell_type": "code",
   "execution_count": 22,
   "id": "d9b133c3",
   "metadata": {
    "execution": {
     "iopub.execute_input": "2022-02-01T10:08:49.730102Z",
     "iopub.status.busy": "2022-02-01T10:08:49.729541Z",
     "iopub.status.idle": "2022-02-01T10:10:15.474480Z",
     "shell.execute_reply": "2022-02-01T10:10:15.475389Z"
    },
    "papermill": {
     "duration": 85.779947,
     "end_time": "2022-02-01T10:10:15.475552",
     "exception": false,
     "start_time": "2022-02-01T10:08:49.695605",
     "status": "completed"
    },
    "tags": []
   },
   "outputs": [
    {
     "name": "stdout",
     "output_type": "stream",
     "text": [
      "Epoch 0, Loss 0.2291\n",
      "Training Accuracy: 0.7663, Testing Accuracy: 0.7873\n",
      "\n"
     ]
    },
    {
     "name": "stdout",
     "output_type": "stream",
     "text": [
      "Epoch 10, Loss 0.0713\n",
      "Training Accuracy: 0.9351, Testing Accuracy: 0.9410\n",
      "\n"
     ]
    },
    {
     "name": "stdout",
     "output_type": "stream",
     "text": [
      "Epoch 20, Loss 0.0468\n",
      "Training Accuracy: 0.9528, Testing Accuracy: 0.9597\n",
      "\n"
     ]
    },
    {
     "name": "stdout",
     "output_type": "stream",
     "text": [
      "Epoch 30, Loss 0.0383\n",
      "Training Accuracy: 0.9589, Testing Accuracy: 0.9642\n",
      "\n"
     ]
    },
    {
     "name": "stdout",
     "output_type": "stream",
     "text": [
      "Epoch 40, Loss 0.034\n",
      "Training Accuracy: 0.9626, Testing Accuracy: 0.9657\n",
      "\n"
     ]
    },
    {
     "name": "stdout",
     "output_type": "stream",
     "text": [
      "Epoch 50, Loss 0.0313\n",
      "Training Accuracy: 0.9645, Testing Accuracy: 0.9677\n",
      "\n"
     ]
    },
    {
     "name": "stdout",
     "output_type": "stream",
     "text": [
      "Epoch 60, Loss 0.0294\n",
      "Training Accuracy: 0.9665, Testing Accuracy: 0.9682\n",
      "\n"
     ]
    },
    {
     "name": "stdout",
     "output_type": "stream",
     "text": [
      "Epoch 70, Loss 0.0279\n",
      "Training Accuracy: 0.9679, Testing Accuracy: 0.9682\n",
      "\n"
     ]
    },
    {
     "name": "stdout",
     "output_type": "stream",
     "text": [
      "Epoch 80, Loss 0.0267\n",
      "Training Accuracy: 0.9693, Testing Accuracy: 0.9698\n",
      "\n"
     ]
    },
    {
     "name": "stdout",
     "output_type": "stream",
     "text": [
      "Epoch 90, Loss 0.0257\n",
      "Training Accuracy: 0.9702, Testing Accuracy: 0.9708\n",
      "\n"
     ]
    },
    {
     "name": "stdout",
     "output_type": "stream",
     "text": [
      "Epoch 100, Loss 0.0249\n",
      "Training Accuracy: 0.9712, Testing Accuracy: 0.9723\n",
      "\n"
     ]
    },
    {
     "name": "stdout",
     "output_type": "stream",
     "text": [
      "Epoch 110, Loss 0.0241\n",
      "Training Accuracy: 0.9722, Testing Accuracy: 0.9723\n",
      "\n"
     ]
    },
    {
     "name": "stdout",
     "output_type": "stream",
     "text": [
      "Epoch 120, Loss 0.0235\n",
      "Training Accuracy: 0.9733, Testing Accuracy: 0.9723\n",
      "\n"
     ]
    },
    {
     "name": "stdout",
     "output_type": "stream",
     "text": [
      "Epoch 130, Loss 0.0228\n",
      "Training Accuracy: 0.9740, Testing Accuracy: 0.9728\n",
      "\n"
     ]
    },
    {
     "name": "stdout",
     "output_type": "stream",
     "text": [
      "Epoch 140, Loss 0.0223\n",
      "Training Accuracy: 0.9747, Testing Accuracy: 0.9733\n",
      "\n"
     ]
    },
    {
     "name": "stdout",
     "output_type": "stream",
     "text": [
      "Epoch 150, Loss 0.0218\n",
      "Training Accuracy: 0.9755, Testing Accuracy: 0.9738\n",
      "\n"
     ]
    },
    {
     "name": "stdout",
     "output_type": "stream",
     "text": [
      "Epoch 160, Loss 0.0213\n",
      "Training Accuracy: 0.9764, Testing Accuracy: 0.9733\n",
      "\n"
     ]
    },
    {
     "name": "stdout",
     "output_type": "stream",
     "text": [
      "Epoch 170, Loss 0.0208\n",
      "Training Accuracy: 0.9772, Testing Accuracy: 0.9733\n",
      "\n"
     ]
    },
    {
     "name": "stdout",
     "output_type": "stream",
     "text": [
      "Epoch 180, Loss 0.0203\n",
      "Training Accuracy: 0.9781, Testing Accuracy: 0.9733\n",
      "\n"
     ]
    },
    {
     "name": "stdout",
     "output_type": "stream",
     "text": [
      "Epoch 190, Loss 0.0199\n",
      "Training Accuracy: 0.9785, Testing Accuracy: 0.9733\n",
      "\n"
     ]
    },
    {
     "name": "stdout",
     "output_type": "stream",
     "text": [
      "Epoch 200, Loss 0.0195\n",
      "Training Accuracy: 0.9790, Testing Accuracy: 0.9738\n",
      "\n"
     ]
    },
    {
     "name": "stdout",
     "output_type": "stream",
     "text": [
      "Epoch 210, Loss 0.0191\n",
      "Training Accuracy: 0.9796, Testing Accuracy: 0.9738\n",
      "\n"
     ]
    },
    {
     "name": "stdout",
     "output_type": "stream",
     "text": [
      "Epoch 220, Loss 0.0187\n",
      "Training Accuracy: 0.9803, Testing Accuracy: 0.9743\n",
      "\n"
     ]
    },
    {
     "name": "stdout",
     "output_type": "stream",
     "text": [
      "Epoch 230, Loss 0.0184\n",
      "Training Accuracy: 0.9804, Testing Accuracy: 0.9748\n",
      "\n"
     ]
    },
    {
     "name": "stdout",
     "output_type": "stream",
     "text": [
      "Epoch 240, Loss 0.018\n",
      "Training Accuracy: 0.9806, Testing Accuracy: 0.9748\n",
      "\n"
     ]
    },
    {
     "data": {
      "text/plain": [
       "0.025671909370597774"
      ]
     },
     "execution_count": 22,
     "metadata": {},
     "output_type": "execute_result"
    }
   ],
   "source": [
    "nn_learner.train_loop(dl)"
   ]
  },
  {
   "cell_type": "code",
   "execution_count": 23,
   "id": "e0163366",
   "metadata": {
    "execution": {
     "iopub.execute_input": "2022-02-01T10:10:15.561376Z",
     "iopub.status.busy": "2022-02-01T10:10:15.560813Z",
     "iopub.status.idle": "2022-02-01T10:10:30.884296Z",
     "shell.execute_reply": "2022-02-01T10:10:30.885093Z"
    },
    "papermill": {
     "duration": 15.370739,
     "end_time": "2022-02-01T10:10:30.885262",
     "exception": false,
     "start_time": "2022-02-01T10:10:15.514523",
     "status": "completed"
    },
    "tags": []
   },
   "outputs": [
    {
     "name": "stdout",
     "output_type": "stream",
     "text": [
      "Epoch 0, Loss 0.2011\n",
      "Training Accuracy: 0.8193, Testing Accuracy: 0.8236\n",
      "\n"
     ]
    },
    {
     "name": "stdout",
     "output_type": "stream",
     "text": [
      "Epoch 10, Loss 0.0992\n",
      "Training Accuracy: 0.9118, Testing Accuracy: 0.9178\n",
      "\n"
     ]
    },
    {
     "name": "stdout",
     "output_type": "stream",
     "text": [
      "Epoch 20, Loss 0.0781\n",
      "Training Accuracy: 0.9289, Testing Accuracy: 0.9390\n",
      "\n"
     ]
    },
    {
     "name": "stdout",
     "output_type": "stream",
     "text": [
      "Epoch 30, Loss 0.0678\n",
      "Training Accuracy: 0.9363, Testing Accuracy: 0.9486\n",
      "\n"
     ]
    },
    {
     "name": "stdout",
     "output_type": "stream",
     "text": [
      "Epoch 40, Loss 0.0614\n",
      "Training Accuracy: 0.9417, Testing Accuracy: 0.9526\n",
      "\n"
     ]
    },
    {
     "name": "stdout",
     "output_type": "stream",
     "text": [
      "Epoch 50, Loss 0.057\n",
      "Training Accuracy: 0.9445, Testing Accuracy: 0.9561\n",
      "\n"
     ]
    },
    {
     "name": "stdout",
     "output_type": "stream",
     "text": [
      "Epoch 60, Loss 0.0538\n",
      "Training Accuracy: 0.9475, Testing Accuracy: 0.9582\n",
      "\n"
     ]
    },
    {
     "name": "stdout",
     "output_type": "stream",
     "text": [
      "Epoch 70, Loss 0.0513\n",
      "Training Accuracy: 0.9496, Testing Accuracy: 0.9592\n",
      "\n"
     ]
    },
    {
     "name": "stdout",
     "output_type": "stream",
     "text": [
      "Epoch 80, Loss 0.0492\n",
      "Training Accuracy: 0.9512, Testing Accuracy: 0.9602\n",
      "\n"
     ]
    },
    {
     "name": "stdout",
     "output_type": "stream",
     "text": [
      "Epoch 90, Loss 0.0476\n",
      "Training Accuracy: 0.9527, Testing Accuracy: 0.9622\n",
      "\n"
     ]
    },
    {
     "name": "stdout",
     "output_type": "stream",
     "text": [
      "Epoch 100, Loss 0.0461\n",
      "Training Accuracy: 0.9532, Testing Accuracy: 0.9627\n",
      "\n"
     ]
    },
    {
     "name": "stdout",
     "output_type": "stream",
     "text": [
      "Epoch 110, Loss 0.0449\n",
      "Training Accuracy: 0.9540, Testing Accuracy: 0.9637\n",
      "\n"
     ]
    },
    {
     "name": "stdout",
     "output_type": "stream",
     "text": [
      "Epoch 120, Loss 0.0439\n",
      "Training Accuracy: 0.9550, Testing Accuracy: 0.9647\n",
      "\n"
     ]
    },
    {
     "name": "stdout",
     "output_type": "stream",
     "text": [
      "Epoch 130, Loss 0.0429\n",
      "Training Accuracy: 0.9560, Testing Accuracy: 0.9647\n",
      "\n"
     ]
    },
    {
     "name": "stdout",
     "output_type": "stream",
     "text": [
      "Epoch 140, Loss 0.0421\n",
      "Training Accuracy: 0.9569, Testing Accuracy: 0.9647\n",
      "\n"
     ]
    },
    {
     "name": "stdout",
     "output_type": "stream",
     "text": [
      "Epoch 150, Loss 0.0414\n",
      "Training Accuracy: 0.9576, Testing Accuracy: 0.9652\n",
      "\n"
     ]
    },
    {
     "name": "stdout",
     "output_type": "stream",
     "text": [
      "Epoch 160, Loss 0.0407\n",
      "Training Accuracy: 0.9582, Testing Accuracy: 0.9662\n",
      "\n"
     ]
    },
    {
     "name": "stdout",
     "output_type": "stream",
     "text": [
      "Epoch 170, Loss 0.0401\n",
      "Training Accuracy: 0.9587, Testing Accuracy: 0.9662\n",
      "\n"
     ]
    },
    {
     "name": "stdout",
     "output_type": "stream",
     "text": [
      "Epoch 180, Loss 0.0395\n",
      "Training Accuracy: 0.9591, Testing Accuracy: 0.9657\n",
      "\n"
     ]
    },
    {
     "name": "stdout",
     "output_type": "stream",
     "text": [
      "Epoch 190, Loss 0.039\n",
      "Training Accuracy: 0.9595, Testing Accuracy: 0.9662\n",
      "\n"
     ]
    },
    {
     "name": "stdout",
     "output_type": "stream",
     "text": [
      "Epoch 200, Loss 0.0385\n",
      "Training Accuracy: 0.9599, Testing Accuracy: 0.9662\n",
      "\n"
     ]
    },
    {
     "name": "stdout",
     "output_type": "stream",
     "text": [
      "Epoch 210, Loss 0.0381\n",
      "Training Accuracy: 0.9606, Testing Accuracy: 0.9662\n",
      "\n"
     ]
    },
    {
     "name": "stdout",
     "output_type": "stream",
     "text": [
      "Epoch 220, Loss 0.0377\n",
      "Training Accuracy: 0.9609, Testing Accuracy: 0.9662\n",
      "\n"
     ]
    },
    {
     "name": "stdout",
     "output_type": "stream",
     "text": [
      "Epoch 230, Loss 0.0373\n",
      "Training Accuracy: 0.9609, Testing Accuracy: 0.9662\n",
      "\n"
     ]
    },
    {
     "name": "stdout",
     "output_type": "stream",
     "text": [
      "Epoch 240, Loss 0.0369\n",
      "Training Accuracy: 0.9609, Testing Accuracy: 0.9667\n",
      "\n"
     ]
    },
    {
     "data": {
      "text/plain": [
       "0.04933878530674514"
      ]
     },
     "execution_count": 23,
     "metadata": {},
     "output_type": "execute_result"
    }
   ],
   "source": [
    "lr_learner.train_loop(dl)"
   ]
  },
  {
   "cell_type": "code",
   "execution_count": 24,
   "id": "ca410940",
   "metadata": {
    "execution": {
     "iopub.execute_input": "2022-02-01T10:10:30.984662Z",
     "iopub.status.busy": "2022-02-01T10:10:30.984029Z",
     "iopub.status.idle": "2022-02-01T10:10:31.237777Z",
     "shell.execute_reply": "2022-02-01T10:10:31.237206Z"
    },
    "papermill": {
     "duration": 0.3066,
     "end_time": "2022-02-01T10:10:31.237917",
     "exception": false,
     "start_time": "2022-02-01T10:10:30.931317",
     "status": "completed"
    },
    "tags": []
   },
   "outputs": [
    {
     "data": {
      "text/plain": [
       "<matplotlib.legend.Legend at 0x7f0ca61ef400>"
      ]
     },
     "execution_count": 24,
     "metadata": {},
     "output_type": "execute_result"
    },
    {
     "data": {
      "image/png": "[encoded data removed]",
      "text/plain": [
       "<Figure size 1080x720 with 1 Axes>"
      ]
     },
     "metadata": {
      "needs_background": "light"
     },
     "output_type": "display_data"
    }
   ],
   "source": [
    "#comparing the results of NN and LR\n",
    "plt.figure(figsize=(15,10))\n",
    "\n",
    "# Neural Network plots\n",
    "plt.plot(acc_nn.accuracies, 'r-', label = \"Training Accuracies - NN\")\n",
    "plt.plot(acc_nn.test_accuracies, 'g-', label = \"Testing Accuracies - NN\")\n",
    "\n",
    "# Logistic Regression plots\n",
    "plt.plot(acc_lr.accuracies, 'k-', label = \"Training Accuracies - LR\")\n",
    "plt.plot(acc_lr.test_accuracies, 'b-', label = \"Testing Accuracies - LR\")\n",
    "plt.legend()"
   ]
  },
  {
   "cell_type": "markdown",
   "id": "80dfb35c",
   "metadata": {
    "papermill": {
     "duration": 0.049167,
     "end_time": "2022-02-01T10:10:31.335955",
     "exception": false,
     "start_time": "2022-02-01T10:10:31.286788",
     "status": "completed"
    },
    "tags": []
   },
   "source": [
    "#### Plotting the outputs of this layer of the NN.\n"
   ]
  },
  {
   "cell_type": "code",
   "execution_count": 25,
   "id": "45eb2ff5",
   "metadata": {
    "execution": {
     "iopub.execute_input": "2022-02-01T10:10:31.436565Z",
     "iopub.status.busy": "2022-02-01T10:10:31.434829Z",
     "iopub.status.idle": "2022-02-01T10:10:31.456078Z",
     "shell.execute_reply": "2022-02-01T10:10:31.456569Z"
    },
    "papermill": {
     "duration": 0.07408,
     "end_time": "2022-02-01T10:10:31.456723",
     "exception": false,
     "start_time": "2022-02-01T10:10:31.382643",
     "status": "completed"
    },
    "tags": []
   },
   "outputs": [],
   "source": [
    "new_model = Model(layers[:-2])\n",
    "testing_plot = new_model(testing_data_x)"
   ]
  },
  {
   "cell_type": "code",
   "execution_count": 26,
   "id": "4c0a5485",
   "metadata": {
    "execution": {
     "iopub.execute_input": "2022-02-01T10:10:31.563504Z",
     "iopub.status.busy": "2022-02-01T10:10:31.562424Z",
     "iopub.status.idle": "2022-02-01T10:10:31.779999Z",
     "shell.execute_reply": "2022-02-01T10:10:31.780480Z"
    },
    "papermill": {
     "duration": 0.274544,
     "end_time": "2022-02-01T10:10:31.780634",
     "exception": false,
     "start_time": "2022-02-01T10:10:31.506090",
     "status": "completed"
    },
    "tags": []
   },
   "outputs": [
    {
     "data": {
      "text/plain": [
       "Text(0.5, 1.0, 'Outputs')"
      ]
     },
     "execution_count": 26,
     "metadata": {},
     "output_type": "execute_result"
    },
    {
     "data": {
      "image/png": "[encoded data removed]",
      "text/plain": [
       "<Figure size 576x504 with 1 Axes>"
      ]
     },
     "metadata": {
      "needs_background": "light"
     },
     "output_type": "display_data"
    }
   ],
   "source": [
    "# Plotting the scatter plot of points and color coding by class\n",
    "plt.figure(figsize=(8,7))\n",
    "plt.scatter(testing_plot[:,0], testing_plot[:,1], alpha = 0.1, c = y_test.ravel());\n",
    "plt.title('Outputs')"
   ]
  },
  {
   "cell_type": "markdown",
   "id": "a74fcf8f",
   "metadata": {
    "papermill": {
     "duration": 0.049615,
     "end_time": "2022-02-01T10:10:31.880425",
     "exception": false,
     "start_time": "2022-02-01T10:10:31.830810",
     "status": "completed"
    },
    "tags": []
   },
   "source": [
    "Probability contours"
   ]
  },
  {
   "cell_type": "code",
   "execution_count": 27,
   "id": "d0afc8e3",
   "metadata": {
    "execution": {
     "iopub.execute_input": "2022-02-01T10:10:31.984897Z",
     "iopub.status.busy": "2022-02-01T10:10:31.984300Z",
     "iopub.status.idle": "2022-02-01T10:10:31.998166Z",
     "shell.execute_reply": "2022-02-01T10:10:31.997657Z"
    },
    "papermill": {
     "duration": 0.068323,
     "end_time": "2022-02-01T10:10:31.998291",
     "exception": false,
     "start_time": "2022-02-01T10:10:31.929968",
     "status": "completed"
    },
    "tags": []
   },
   "outputs": [],
   "source": [
    "model_prob = Model(layers[-2:]) "
   ]
  },
  {
   "cell_type": "code",
   "execution_count": 28,
   "id": "9b96e238",
   "metadata": {
    "execution": {
     "iopub.execute_input": "2022-02-01T10:10:32.134825Z",
     "iopub.status.busy": "2022-02-01T10:10:32.134224Z",
     "iopub.status.idle": "2022-02-01T10:10:32.149070Z",
     "shell.execute_reply": "2022-02-01T10:10:32.149517Z"
    },
    "papermill": {
     "duration": 0.071276,
     "end_time": "2022-02-01T10:10:32.149661",
     "exception": false,
     "start_time": "2022-02-01T10:10:32.078385",
     "status": "completed"
    },
    "tags": []
   },
   "outputs": [],
   "source": [
    "#creating the x and y ranges according to the above generated plot.\n",
    "x_range = np.linspace(-4, 1, 100) \n",
    "y_range = np.linspace(-6, 6, 100) \n",
    "x_grid, y_grid = np.meshgrid(x_range, y_range) # x_grid and y_grig are of size 100 X 100\n",
    "\n",
    "# converting x_grid and y_grid to continuous arrays\n",
    "x_gridflat = np.ravel(x_grid)\n",
    "y_gridflat = np.ravel(y_grid)\n",
    "\n",
    "# The last layer of the current model takes two columns as input. Hence transpose of np.vstack() is required.\n",
    "X = np.vstack((x_gridflat, y_gridflat)).T\n",
    "\n",
    "prob_contour = model_prob(X).reshape(100,100) "
   ]
  },
  {
   "cell_type": "code",
   "execution_count": 29,
   "id": "da72499a",
   "metadata": {
    "execution": {
     "iopub.execute_input": "2022-02-01T10:10:32.265253Z",
     "iopub.status.busy": "2022-02-01T10:10:32.264463Z",
     "iopub.status.idle": "2022-02-01T10:10:32.554478Z",
     "shell.execute_reply": "2022-02-01T10:10:32.554947Z"
    },
    "papermill": {
     "duration": 0.353242,
     "end_time": "2022-02-01T10:10:32.555136",
     "exception": false,
     "start_time": "2022-02-01T10:10:32.201894",
     "status": "completed"
    },
    "tags": []
   },
   "outputs": [
    {
     "data": {
      "image/png": "[encoded data removed]",
      "text/plain": [
       "<Figure size 720x648 with 1 Axes>"
      ]
     },
     "metadata": {
      "needs_background": "light"
     },
     "output_type": "display_data"
    }
   ],
   "source": [
    "plt.figure(figsize=(10,9))\n",
    "plt.scatter(testing_plot[:,0], testing_plot[:,1], alpha = 0.1, c = y_test.ravel())\n",
    "contours = plt.contour(x_grid,y_grid,prob_contour)\n",
    "plt.title('Probability Contours')\n",
    "plt.clabel(contours, inline = True );"
   ]
  },
  {
   "cell_type": "code",
   "execution_count": null,
   "id": "e81b4ac7",
   "metadata": {
    "papermill": {
     "duration": 0.053585,
     "end_time": "2022-02-01T10:10:32.664525",
     "exception": false,
     "start_time": "2022-02-01T10:10:32.610940",
     "status": "completed"
    },
    "tags": []
   },
   "outputs": [],
   "source": []
  }
 ],
 "metadata": {
  "kernelspec": {
   "display_name": "Python 3",
   "language": "python",
   "name": "python3"
  },
  "language_info": {
   "codemirror_mode": {
    "name": "ipython",
    "version": 3
   },
   "file_extension": ".py",
   "mimetype": "text/x-python",
   "name": "python",
   "nbconvert_exporter": "python",
   "pygments_lexer": "ipython3",
   "version": "3.6.15"
  },
  "papermill": {
   "default_parameters": {},
   "duration": 110.235266,
   "end_time": "2022-02-01T10:10:33.138862",
   "environment_variables": {},
   "exception": null,
   "input_path": "2020-08-11-part2.ipynb",
   "output_path": "2020-08-11-part2.ipynb",
   "parameters": {},
   "start_time": "2022-02-01T10:08:42.903596",
   "version": "2.3.3"
  }
 },
 "nbformat": 4,
 "nbformat_minor": 5
}