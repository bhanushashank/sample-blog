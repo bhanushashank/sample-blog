{
 "cells": [
  {
   "cell_type": "markdown",
   "id": "98380cd3",
   "metadata": {
    "papermill": {
     "duration": 0.035769,
     "end_time": "2022-10-05T00:58:14.643694",
     "exception": false,
     "start_time": "2022-10-05T00:58:14.607925",
     "status": "completed"
    },
    "tags": []
   },
   "source": [
    "# Distinguish Your Own Digits (DYOD)"
   ]
  },
  {
   "cell_type": "markdown",
   "id": "ef31240d",
   "metadata": {
    "papermill": {
     "duration": 0.028425,
     "end_time": "2022-10-05T00:58:14.705335",
     "exception": false,
     "start_time": "2022-10-05T00:58:14.676910",
     "status": "completed"
    },
    "tags": []
   },
   "source": [
    "You are going to write a classifier that distinguishes between the number 3 and number 8."
   ]
  },
  {
   "cell_type": "code",
   "execution_count": 1,
   "id": "b15c8646",
   "metadata": {
    "execution": {
     "iopub.execute_input": "2022-10-05T00:58:14.774825Z",
     "iopub.status.busy": "2022-10-05T00:58:14.773954Z",
     "iopub.status.idle": "2022-10-05T00:58:14.786474Z",
     "shell.execute_reply": "2022-10-05T00:58:14.787107Z"
    },
    "papermill": {
     "duration": 0.052713,
     "end_time": "2022-10-05T00:58:14.787247",
     "exception": false,
     "start_time": "2022-10-05T00:58:14.734534",
     "status": "completed"
    },
    "tags": []
   },
   "outputs": [],
   "source": [
    "%load_ext autoreload\n",
    "%autoreload 2"
   ]
  },
  {
   "cell_type": "code",
   "execution_count": 2,
   "id": "22ef38dc",
   "metadata": {
    "execution": {
     "iopub.execute_input": "2022-10-05T00:58:14.857882Z",
     "iopub.status.busy": "2022-10-05T00:58:14.857159Z",
     "iopub.status.idle": "2022-10-05T00:58:15.486917Z",
     "shell.execute_reply": "2022-10-05T00:58:15.486362Z"
    },
    "papermill": {
     "duration": 0.670862,
     "end_time": "2022-10-05T00:58:15.487054",
     "exception": false,
     "start_time": "2022-10-05T00:58:14.816192",
     "status": "completed"
    },
    "tags": []
   },
   "outputs": [],
   "source": [
    "%matplotlib inline\n",
    "import numpy as np\n",
    "import matplotlib.pyplot as plt\n",
    "import pandas as pd"
   ]
  },
  {
   "cell_type": "markdown",
   "id": "ba036198",
   "metadata": {
    "papermill": {
     "duration": 0.028438,
     "end_time": "2022-10-05T00:58:15.545442",
     "exception": false,
     "start_time": "2022-10-05T00:58:15.517004",
     "status": "completed"
    },
    "tags": []
   },
   "source": [
    "From the command line run `pip install mnist`. This is a library that will help you bring down the mnist dataset. If you run this from a notebook, you need to put  `!pip install mnist` in a cell by itself."
   ]
  },
  {
   "cell_type": "code",
   "execution_count": 3,
   "id": "bb6ad8a1",
   "metadata": {
    "execution": {
     "iopub.execute_input": "2022-10-05T00:58:15.612109Z",
     "iopub.status.busy": "2022-10-05T00:58:15.611456Z",
     "iopub.status.idle": "2022-10-05T00:58:17.475106Z",
     "shell.execute_reply": "2022-10-05T00:58:17.475686Z"
    },
    "papermill": {
     "duration": 1.901893,
     "end_time": "2022-10-05T00:58:17.475848",
     "exception": false,
     "start_time": "2022-10-05T00:58:15.573955",
     "status": "completed"
    },
    "tags": []
   },
   "outputs": [
    {
     "name": "stdout",
     "output_type": "stream",
     "text": [
      "Collecting mnist\r\n",
      "  Downloading mnist-0.2.2-py2.py3-none-any.whl (3.5 kB)\r\n"
     ]
    },
    {
     "name": "stdout",
     "output_type": "stream",
     "text": [
      "Requirement already satisfied: numpy in /opt/hostedtoolcache/Python/3.6.15/x64/lib/python3.6/site-packages (from mnist) (1.19.5)\r\n"
     ]
    },
    {
     "name": "stdout",
     "output_type": "stream",
     "text": [
      "Installing collected packages: mnist\r\n",
      "Successfully installed mnist-0.2.2\r\n"
     ]
    }
   ],
   "source": [
    "!pip install mnist"
   ]
  },
  {
   "cell_type": "markdown",
   "id": "69df9c9a",
   "metadata": {
    "papermill": {
     "duration": 0.029276,
     "end_time": "2022-10-05T00:58:17.536269",
     "exception": false,
     "start_time": "2022-10-05T00:58:17.506993",
     "status": "completed"
    },
    "tags": []
   },
   "source": [
    "## Preparing the Data"
   ]
  },
  {
   "cell_type": "code",
   "execution_count": 4,
   "id": "7f69d806",
   "metadata": {
    "execution": {
     "iopub.execute_input": "2022-10-05T00:58:17.611111Z",
     "iopub.status.busy": "2022-10-05T00:58:17.610256Z",
     "iopub.status.idle": "2022-10-05T00:58:17.622079Z",
     "shell.execute_reply": "2022-10-05T00:58:17.621509Z"
    },
    "papermill": {
     "duration": 0.054162,
     "end_time": "2022-10-05T00:58:17.622234",
     "exception": false,
     "start_time": "2022-10-05T00:58:17.568072",
     "status": "completed"
    },
    "tags": []
   },
   "outputs": [],
   "source": [
    "import mnist"
   ]
  },
  {
   "cell_type": "code",
   "execution_count": 5,
   "id": "a411e44f",
   "metadata": {
    "execution": {
     "iopub.execute_input": "2022-10-05T00:58:17.690575Z",
     "iopub.status.busy": "2022-10-05T00:58:17.689750Z",
     "iopub.status.idle": "2022-10-05T00:58:18.254230Z",
     "shell.execute_reply": "2022-10-05T00:58:18.253448Z"
    },
    "papermill": {
     "duration": 0.598875,
     "end_time": "2022-10-05T00:58:18.254362",
     "exception": false,
     "start_time": "2022-10-05T00:58:17.655487",
     "status": "completed"
    },
    "tags": []
   },
   "outputs": [],
   "source": [
    "train_images = mnist.train_images()\n",
    "train_labels = mnist.train_labels()"
   ]
  },
  {
   "cell_type": "code",
   "execution_count": 6,
   "id": "dceab3a5",
   "metadata": {
    "execution": {
     "iopub.execute_input": "2022-10-05T00:58:18.319400Z",
     "iopub.status.busy": "2022-10-05T00:58:18.318580Z",
     "iopub.status.idle": "2022-10-05T00:58:18.336168Z",
     "shell.execute_reply": "2022-10-05T00:58:18.335658Z"
    },
    "papermill": {
     "duration": 0.050896,
     "end_time": "2022-10-05T00:58:18.336274",
     "exception": false,
     "start_time": "2022-10-05T00:58:18.285378",
     "status": "completed"
    },
    "tags": []
   },
   "outputs": [
    {
     "data": {
      "text/plain": [
       "((60000, 28, 28), (60000,))"
      ]
     },
     "execution_count": 6,
     "metadata": {},
     "output_type": "execute_result"
    }
   ],
   "source": [
    "train_images.shape, train_labels.shape"
   ]
  },
  {
   "cell_type": "code",
   "execution_count": 7,
   "id": "f50dc2bb",
   "metadata": {
    "execution": {
     "iopub.execute_input": "2022-10-05T00:58:18.408425Z",
     "iopub.status.busy": "2022-10-05T00:58:18.407529Z",
     "iopub.status.idle": "2022-10-05T00:58:18.543243Z",
     "shell.execute_reply": "2022-10-05T00:58:18.542654Z"
    },
    "papermill": {
     "duration": 0.174838,
     "end_time": "2022-10-05T00:58:18.543371",
     "exception": false,
     "start_time": "2022-10-05T00:58:18.368533",
     "status": "completed"
    },
    "tags": []
   },
   "outputs": [],
   "source": [
    "test_images = mnist.test_images()\n",
    "test_labels = mnist.test_labels()"
   ]
  },
  {
   "cell_type": "code",
   "execution_count": 8,
   "id": "fc38cf1b",
   "metadata": {
    "execution": {
     "iopub.execute_input": "2022-10-05T00:58:18.608751Z",
     "iopub.status.busy": "2022-10-05T00:58:18.608003Z",
     "iopub.status.idle": "2022-10-05T00:58:18.623383Z",
     "shell.execute_reply": "2022-10-05T00:58:18.624063Z"
    },
    "papermill": {
     "duration": 0.050194,
     "end_time": "2022-10-05T00:58:18.624205",
     "exception": false,
     "start_time": "2022-10-05T00:58:18.574011",
     "status": "completed"
    },
    "tags": []
   },
   "outputs": [
    {
     "data": {
      "text/plain": [
       "((10000, 28, 28), (10000,))"
      ]
     },
     "execution_count": 8,
     "metadata": {},
     "output_type": "execute_result"
    }
   ],
   "source": [
    "test_images.shape, test_labels.shape"
   ]
  },
  {
   "cell_type": "code",
   "execution_count": 9,
   "id": "f9ed8fe0",
   "metadata": {
    "execution": {
     "iopub.execute_input": "2022-10-05T00:58:18.692266Z",
     "iopub.status.busy": "2022-10-05T00:58:18.691638Z",
     "iopub.status.idle": "2022-10-05T00:58:18.891434Z",
     "shell.execute_reply": "2022-10-05T00:58:18.890844Z"
    },
    "papermill": {
     "duration": 0.236464,
     "end_time": "2022-10-05T00:58:18.891567",
     "exception": false,
     "start_time": "2022-10-05T00:58:18.655103",
     "status": "completed"
    },
    "tags": []
   },
   "outputs": [
    {
     "name": "stdout",
     "output_type": "stream",
     "text": [
      "2\n"
     ]
    },
    {
     "data": {
      "text/plain": [
       "<matplotlib.image.AxesImage at 0x7f5e54317c88>"
      ]
     },
     "execution_count": 9,
     "metadata": {},
     "output_type": "execute_result"
    },
    {
     "data": {
      "image/png": "[encoded data removed]",
      "text/plain": [
       "<Figure size 432x288 with 1 Axes>"
      ]
     },
     "metadata": {
      "needs_background": "light"
     },
     "output_type": "display_data"
    }
   ],
   "source": [
    "image_index = 7776 # You may select anything up to 60,000\n",
    "print(train_labels[image_index]) \n",
    "plt.imshow(train_images[image_index], cmap='Greys')"
   ]
  },
  {
   "cell_type": "markdown",
   "id": "a8d2388d",
   "metadata": {
    "papermill": {
     "duration": 0.031084,
     "end_time": "2022-10-05T00:58:18.954567",
     "exception": false,
     "start_time": "2022-10-05T00:58:18.923483",
     "status": "completed"
    },
    "tags": []
   },
   "source": [
    "## Filter data to get 3 and 8 out"
   ]
  },
  {
   "cell_type": "code",
   "execution_count": 10,
   "id": "776f7fc7",
   "metadata": {
    "execution": {
     "iopub.execute_input": "2022-10-05T00:58:19.030412Z",
     "iopub.status.busy": "2022-10-05T00:58:19.029686Z",
     "iopub.status.idle": "2022-10-05T00:58:19.046626Z",
     "shell.execute_reply": "2022-10-05T00:58:19.047113Z"
    },
    "papermill": {
     "duration": 0.061193,
     "end_time": "2022-10-05T00:58:19.047267",
     "exception": false,
     "start_time": "2022-10-05T00:58:18.986074",
     "status": "completed"
    },
    "tags": []
   },
   "outputs": [],
   "source": [
    "train_filter = np.where((train_labels == 3 ) | (train_labels == 8))\n",
    "test_filter = np.where((test_labels == 3) | (test_labels == 8))\n",
    "X_train, y_train = train_images[train_filter], train_labels[train_filter]\n",
    "X_test, y_test = test_images[test_filter], test_labels[test_filter]"
   ]
  },
  {
   "cell_type": "markdown",
   "id": "948f0b7e",
   "metadata": {
    "papermill": {
     "duration": 0.035413,
     "end_time": "2022-10-05T00:58:19.118199",
     "exception": false,
     "start_time": "2022-10-05T00:58:19.082786",
     "status": "completed"
    },
    "tags": []
   },
   "source": [
    "We normalize the pizel values in the 0 to 1 range"
   ]
  },
  {
   "cell_type": "code",
   "execution_count": 11,
   "id": "ee4c2166",
   "metadata": {
    "execution": {
     "iopub.execute_input": "2022-10-05T00:58:19.191428Z",
     "iopub.status.busy": "2022-10-05T00:58:19.190745Z",
     "iopub.status.idle": "2022-10-05T00:58:19.252187Z",
     "shell.execute_reply": "2022-10-05T00:58:19.251393Z"
    },
    "papermill": {
     "duration": 0.100633,
     "end_time": "2022-10-05T00:58:19.252368",
     "exception": false,
     "start_time": "2022-10-05T00:58:19.151735",
     "status": "completed"
    },
    "tags": []
   },
   "outputs": [],
   "source": [
    "X_train = X_train/255.\n",
    "X_test = X_test/255."
   ]
  },
  {
   "cell_type": "markdown",
   "id": "ddcf4fab",
   "metadata": {
    "papermill": {
     "duration": 0.03078,
     "end_time": "2022-10-05T00:58:19.316059",
     "exception": false,
     "start_time": "2022-10-05T00:58:19.285279",
     "status": "completed"
    },
    "tags": []
   },
   "source": [
    "And setup the labels as 1 (when the digit is 3) and 0 (when the digit is 8)"
   ]
  },
  {
   "cell_type": "code",
   "execution_count": 12,
   "id": "7dc908f2",
   "metadata": {
    "execution": {
     "iopub.execute_input": "2022-10-05T00:58:19.386774Z",
     "iopub.status.busy": "2022-10-05T00:58:19.386011Z",
     "iopub.status.idle": "2022-10-05T00:58:19.401229Z",
     "shell.execute_reply": "2022-10-05T00:58:19.400596Z"
    },
    "papermill": {
     "duration": 0.053042,
     "end_time": "2022-10-05T00:58:19.401357",
     "exception": false,
     "start_time": "2022-10-05T00:58:19.348315",
     "status": "completed"
    },
    "tags": []
   },
   "outputs": [],
   "source": [
    "y_train = 1*(y_train==3)\n",
    "y_test = 1*(y_test==3)"
   ]
  },
  {
   "cell_type": "code",
   "execution_count": 13,
   "id": "01e4e969",
   "metadata": {
    "execution": {
     "iopub.execute_input": "2022-10-05T00:58:19.469989Z",
     "iopub.status.busy": "2022-10-05T00:58:19.469130Z",
     "iopub.status.idle": "2022-10-05T00:58:19.485007Z",
     "shell.execute_reply": "2022-10-05T00:58:19.484186Z"
    },
    "papermill": {
     "duration": 0.050788,
     "end_time": "2022-10-05T00:58:19.485127",
     "exception": false,
     "start_time": "2022-10-05T00:58:19.434339",
     "status": "completed"
    },
    "tags": []
   },
   "outputs": [
    {
     "data": {
      "text/plain": [
       "((11982, 28, 28), (1984, 28, 28))"
      ]
     },
     "execution_count": 13,
     "metadata": {},
     "output_type": "execute_result"
    }
   ],
   "source": [
    "X_train.shape, X_test.shape"
   ]
  },
  {
   "cell_type": "markdown",
   "id": "5ccf3f85",
   "metadata": {
    "papermill": {
     "duration": 0.031314,
     "end_time": "2022-10-05T00:58:19.548330",
     "exception": false,
     "start_time": "2022-10-05T00:58:19.517016",
     "status": "completed"
    },
    "tags": []
   },
   "source": [
    "We reshape the data to flatten the image pixels into a set of features or co-variates:"
   ]
  },
  {
   "cell_type": "code",
   "execution_count": 14,
   "id": "5286a4a3",
   "metadata": {
    "execution": {
     "iopub.execute_input": "2022-10-05T00:58:19.618366Z",
     "iopub.status.busy": "2022-10-05T00:58:19.617627Z",
     "iopub.status.idle": "2022-10-05T00:58:19.633613Z",
     "shell.execute_reply": "2022-10-05T00:58:19.632507Z"
    },
    "papermill": {
     "duration": 0.052281,
     "end_time": "2022-10-05T00:58:19.633752",
     "exception": false,
     "start_time": "2022-10-05T00:58:19.581471",
     "status": "completed"
    },
    "tags": []
   },
   "outputs": [
    {
     "data": {
      "text/plain": [
       "((11982, 784), (1984, 784))"
      ]
     },
     "execution_count": 14,
     "metadata": {},
     "output_type": "execute_result"
    }
   ],
   "source": [
    "X_train = X_train.reshape(X_train.shape[0], -1)\n",
    "X_test = X_test.reshape(X_test.shape[0], -1)\n",
    "X_train.shape, X_test.shape"
   ]
  },
  {
   "cell_type": "code",
   "execution_count": 15,
   "id": "73c5f88a",
   "metadata": {
    "execution": {
     "iopub.execute_input": "2022-10-05T00:58:19.704830Z",
     "iopub.status.busy": "2022-10-05T00:58:19.703945Z",
     "iopub.status.idle": "2022-10-05T00:58:19.726207Z",
     "shell.execute_reply": "2022-10-05T00:58:19.725622Z"
    },
    "papermill": {
     "duration": 0.057647,
     "end_time": "2022-10-05T00:58:19.726400",
     "exception": false,
     "start_time": "2022-10-05T00:58:19.668753",
     "status": "completed"
    },
    "tags": []
   },
   "outputs": [],
   "source": [
    "#Impoting functions from 'Kudzu'\n",
    "from kudzu.model import Model\n",
    "from kudzu.train import Learner\n",
    "from kudzu.optim import GD\n",
    "from kudzu.data import Data, Sampler,Dataloader\n",
    "\n",
    "from kudzu.callbacks import AccCallback\n",
    "from kudzu.callbacks import ClfCallback\n",
    "\n",
    "from kudzu.loss import MSE\n",
    "\n",
    "from kudzu.layer import Sigmoid,Relu\n",
    "from kudzu.layer import Affine"
   ]
  },
  {
   "cell_type": "markdown",
   "id": "bc01172a",
   "metadata": {
    "papermill": {
     "duration": 0.032704,
     "end_time": "2022-10-05T00:58:19.792428",
     "exception": false,
     "start_time": "2022-10-05T00:58:19.759724",
     "status": "completed"
    },
    "tags": []
   },
   "source": [
    "### Let us create a `Config` class, to store important parameters. \n",
    "This class essentially plays the role of a dictionary."
   ]
  },
  {
   "cell_type": "code",
   "execution_count": 16,
   "id": "978281aa",
   "metadata": {
    "execution": {
     "iopub.execute_input": "2022-10-05T00:58:19.862627Z",
     "iopub.status.busy": "2022-10-05T00:58:19.861927Z",
     "iopub.status.idle": "2022-10-05T00:58:19.875108Z",
     "shell.execute_reply": "2022-10-05T00:58:19.874371Z"
    },
    "papermill": {
     "duration": 0.050914,
     "end_time": "2022-10-05T00:58:19.875214",
     "exception": false,
     "start_time": "2022-10-05T00:58:19.824300",
     "status": "completed"
    },
    "tags": []
   },
   "outputs": [],
   "source": [
    "class Config:\n",
    "    pass\n",
    "config = Config()\n",
    "config.lr = 0.001\n",
    "config.num_epochs = 250\n",
    "config.bs = 50"
   ]
  },
  {
   "cell_type": "markdown",
   "id": "1385fa59",
   "metadata": {
    "papermill": {
     "duration": 0.032815,
     "end_time": "2022-10-05T00:58:19.940009",
     "exception": false,
     "start_time": "2022-10-05T00:58:19.907194",
     "status": "completed"
    },
    "tags": []
   },
   "source": [
    "### Running Models with the Training data\n",
    "Details about the network layers:\n",
    "- A first affine layer has 784 inputs and does 100 affine transforms. These are followed by a Relu\n",
    "- A second affine layer has 100 inputs from the 100 activations of the past layer, and does 100 affine transforms. These are followed by a Relu\n",
    "- A third affine layer has 100 activations and does 2 affine transformations to create an embedding for visualization. There is no non-linearity here.\n",
    "- A final \"logistic regression\" which has an affine transform from 2 inputs to 1 output, which is squeezed through a sigmoid.\n"
   ]
  },
  {
   "cell_type": "code",
   "execution_count": 17,
   "id": "2b9c66db",
   "metadata": {
    "execution": {
     "iopub.execute_input": "2022-10-05T00:58:20.011755Z",
     "iopub.status.busy": "2022-10-05T00:58:20.011086Z",
     "iopub.status.idle": "2022-10-05T00:58:20.023612Z",
     "shell.execute_reply": "2022-10-05T00:58:20.024241Z"
    },
    "papermill": {
     "duration": 0.052419,
     "end_time": "2022-10-05T00:58:20.024384",
     "exception": false,
     "start_time": "2022-10-05T00:58:19.971965",
     "status": "completed"
    },
    "tags": []
   },
   "outputs": [],
   "source": [
    "data = Data(X_train, y_train.reshape(-1,1))\n",
    "sampler = Sampler(data, config.bs, shuffle=True)\n",
    "\n",
    "dl = Dataloader(data, sampler)\n",
    "\n",
    "opt = GD(config.lr)\n",
    "loss = MSE()"
   ]
  },
  {
   "cell_type": "code",
   "execution_count": 18,
   "id": "b275e4c2",
   "metadata": {
    "execution": {
     "iopub.execute_input": "2022-10-05T00:58:20.103899Z",
     "iopub.status.busy": "2022-10-05T00:58:20.103153Z",
     "iopub.status.idle": "2022-10-05T00:58:20.121151Z",
     "shell.execute_reply": "2022-10-05T00:58:20.121904Z"
    },
    "papermill": {
     "duration": 0.065441,
     "end_time": "2022-10-05T00:58:20.122079",
     "exception": false,
     "start_time": "2022-10-05T00:58:20.056638",
     "status": "completed"
    },
    "tags": []
   },
   "outputs": [],
   "source": [
    "training_data_x = X_train\n",
    "testing_data_x = X_test\n",
    "training_data_y = y_train.reshape(-1,1)\n",
    "testing_data_y = y_test.reshape(-1,1)"
   ]
  },
  {
   "cell_type": "code",
   "execution_count": 19,
   "id": "76951160",
   "metadata": {
    "execution": {
     "iopub.execute_input": "2022-10-05T00:58:20.198406Z",
     "iopub.status.busy": "2022-10-05T00:58:20.197658Z",
     "iopub.status.idle": "2022-10-05T00:58:20.218157Z",
     "shell.execute_reply": "2022-10-05T00:58:20.218919Z"
    },
    "papermill": {
     "duration": 0.06156,
     "end_time": "2022-10-05T00:58:20.219072",
     "exception": false,
     "start_time": "2022-10-05T00:58:20.157512",
     "status": "completed"
    },
    "tags": []
   },
   "outputs": [
    {
     "name": "stdout",
     "output_type": "stream",
     "text": [
      "xavier\n",
      "xavier\n",
      "xavier\n",
      "xavier\n",
      "xavier\n"
     ]
    }
   ],
   "source": [
    "layers = [Affine(\"first\", 784, 100), Relu(\"first\"), Affine(\"second\", 100, 100), Relu(\"second\"), Affine(\"third\", 100, 2), Affine(\"last\", 2, 1), Sigmoid(\"last\")]\n",
    "model_nn = Model(layers)\n",
    "model_lr = Model([Affine(\"logits\", 784, 1), Sigmoid(\"sigmoid\")])"
   ]
  },
  {
   "cell_type": "code",
   "execution_count": 20,
   "id": "6eede77a",
   "metadata": {
    "execution": {
     "iopub.execute_input": "2022-10-05T00:58:20.297357Z",
     "iopub.status.busy": "2022-10-05T00:58:20.296449Z",
     "iopub.status.idle": "2022-10-05T00:58:20.312428Z",
     "shell.execute_reply": "2022-10-05T00:58:20.311767Z"
    },
    "papermill": {
     "duration": 0.056984,
     "end_time": "2022-10-05T00:58:20.312673",
     "exception": false,
     "start_time": "2022-10-05T00:58:20.255689",
     "status": "completed"
    },
    "tags": []
   },
   "outputs": [],
   "source": [
    "nn_learner = Learner(loss, model_nn, opt, config.num_epochs)\n",
    "acc_nn = ClfCallback(nn_learner, config.bs, training_data_x , testing_data_x, training_data_y, testing_data_y)\n",
    "nn_learner.set_callbacks([acc_nn])"
   ]
  },
  {
   "cell_type": "code",
   "execution_count": 21,
   "id": "877b6cc7",
   "metadata": {
    "execution": {
     "iopub.execute_input": "2022-10-05T00:58:20.388410Z",
     "iopub.status.busy": "2022-10-05T00:58:20.387687Z",
     "iopub.status.idle": "2022-10-05T00:58:20.402955Z",
     "shell.execute_reply": "2022-10-05T00:58:20.402183Z"
    },
    "papermill": {
     "duration": 0.056162,
     "end_time": "2022-10-05T00:58:20.403117",
     "exception": false,
     "start_time": "2022-10-05T00:58:20.346955",
     "status": "completed"
    },
    "tags": []
   },
   "outputs": [],
   "source": [
    "lr_learner = Learner(loss, model_lr, opt, config.num_epochs)\n",
    "acc_lr = ClfCallback(lr_learner, config.bs, training_data_x , testing_data_x, training_data_y, testing_data_y)\n",
    "lr_learner.set_callbacks([acc_lr])"
   ]
  },
  {
   "cell_type": "code",
   "execution_count": 22,
   "id": "d9b133c3",
   "metadata": {
    "execution": {
     "iopub.execute_input": "2022-10-05T00:58:20.486363Z",
     "iopub.status.busy": "2022-10-05T00:58:20.482365Z",
     "iopub.status.idle": "2022-10-05T01:00:49.374507Z",
     "shell.execute_reply": "2022-10-05T01:00:49.375462Z"
    },
    "papermill": {
     "duration": 148.937671,
     "end_time": "2022-10-05T01:00:49.375617",
     "exception": false,
     "start_time": "2022-10-05T00:58:20.437946",
     "status": "completed"
    },
    "tags": []
   },
   "outputs": [
    {
     "name": "stdout",
     "output_type": "stream",
     "text": [
      "Epoch 0, Loss 0.2349\n",
      "Training Accuracy: 0.7167, Testing Accuracy: 0.7092\n",
      "\n"
     ]
    },
    {
     "name": "stdout",
     "output_type": "stream",
     "text": [
      "Epoch 10, Loss 0.0741\n",
      "Training Accuracy: 0.9293, Testing Accuracy: 0.9400\n",
      "\n"
     ]
    },
    {
     "name": "stdout",
     "output_type": "stream",
     "text": [
      "Epoch 20, Loss 0.0494\n",
      "Training Accuracy: 0.9494, Testing Accuracy: 0.9561\n",
      "\n"
     ]
    },
    {
     "name": "stdout",
     "output_type": "stream",
     "text": [
      "Epoch 30, Loss 0.04\n",
      "Training Accuracy: 0.9571, Testing Accuracy: 0.9622\n",
      "\n"
     ]
    },
    {
     "name": "stdout",
     "output_type": "stream",
     "text": [
      "Epoch 40, Loss 0.0349\n",
      "Training Accuracy: 0.9626, Testing Accuracy: 0.9662\n",
      "\n"
     ]
    },
    {
     "name": "stdout",
     "output_type": "stream",
     "text": [
      "Epoch 50, Loss 0.0317\n",
      "Training Accuracy: 0.9640, Testing Accuracy: 0.9672\n",
      "\n"
     ]
    },
    {
     "name": "stdout",
     "output_type": "stream",
     "text": [
      "Epoch 60, Loss 0.0294\n",
      "Training Accuracy: 0.9666, Testing Accuracy: 0.9698\n",
      "\n"
     ]
    },
    {
     "name": "stdout",
     "output_type": "stream",
     "text": [
      "Epoch 70, Loss 0.0276\n",
      "Training Accuracy: 0.9683, Testing Accuracy: 0.9713\n",
      "\n"
     ]
    },
    {
     "name": "stdout",
     "output_type": "stream",
     "text": [
      "Epoch 80, Loss 0.0262\n",
      "Training Accuracy: 0.9702, Testing Accuracy: 0.9733\n",
      "\n"
     ]
    },
    {
     "name": "stdout",
     "output_type": "stream",
     "text": [
      "Epoch 90, Loss 0.0251\n",
      "Training Accuracy: 0.9717, Testing Accuracy: 0.9733\n",
      "\n"
     ]
    },
    {
     "name": "stdout",
     "output_type": "stream",
     "text": [
      "Epoch 100, Loss 0.0241\n",
      "Training Accuracy: 0.9729, Testing Accuracy: 0.9733\n",
      "\n"
     ]
    },
    {
     "name": "stdout",
     "output_type": "stream",
     "text": [
      "Epoch 110, Loss 0.0232\n",
      "Training Accuracy: 0.9740, Testing Accuracy: 0.9738\n",
      "\n"
     ]
    },
    {
     "name": "stdout",
     "output_type": "stream",
     "text": [
      "Epoch 120, Loss 0.0224\n",
      "Training Accuracy: 0.9750, Testing Accuracy: 0.9733\n",
      "\n"
     ]
    },
    {
     "name": "stdout",
     "output_type": "stream",
     "text": [
      "Epoch 130, Loss 0.0217\n",
      "Training Accuracy: 0.9760, Testing Accuracy: 0.9743\n",
      "\n"
     ]
    },
    {
     "name": "stdout",
     "output_type": "stream",
     "text": [
      "Epoch 140, Loss 0.021\n",
      "Training Accuracy: 0.9770, Testing Accuracy: 0.9743\n",
      "\n"
     ]
    },
    {
     "name": "stdout",
     "output_type": "stream",
     "text": [
      "Epoch 150, Loss 0.0204\n",
      "Training Accuracy: 0.9775, Testing Accuracy: 0.9748\n",
      "\n"
     ]
    },
    {
     "name": "stdout",
     "output_type": "stream",
     "text": [
      "Epoch 160, Loss 0.0198\n",
      "Training Accuracy: 0.9782, Testing Accuracy: 0.9763\n",
      "\n"
     ]
    },
    {
     "name": "stdout",
     "output_type": "stream",
     "text": [
      "Epoch 170, Loss 0.0193\n",
      "Training Accuracy: 0.9787, Testing Accuracy: 0.9763\n",
      "\n"
     ]
    },
    {
     "name": "stdout",
     "output_type": "stream",
     "text": [
      "Epoch 180, Loss 0.0188\n",
      "Training Accuracy: 0.9796, Testing Accuracy: 0.9768\n",
      "\n"
     ]
    },
    {
     "name": "stdout",
     "output_type": "stream",
     "text": [
      "Epoch 190, Loss 0.0183\n",
      "Training Accuracy: 0.9801, Testing Accuracy: 0.9778\n",
      "\n"
     ]
    },
    {
     "name": "stdout",
     "output_type": "stream",
     "text": [
      "Epoch 200, Loss 0.0178\n",
      "Training Accuracy: 0.9806, Testing Accuracy: 0.9783\n",
      "\n"
     ]
    },
    {
     "name": "stdout",
     "output_type": "stream",
     "text": [
      "Epoch 210, Loss 0.0173\n",
      "Training Accuracy: 0.9814, Testing Accuracy: 0.9783\n",
      "\n"
     ]
    },
    {
     "name": "stdout",
     "output_type": "stream",
     "text": [
      "Epoch 220, Loss 0.0169\n",
      "Training Accuracy: 0.9818, Testing Accuracy: 0.9788\n",
      "\n"
     ]
    },
    {
     "name": "stdout",
     "output_type": "stream",
     "text": [
      "Epoch 230, Loss 0.0165\n",
      "Training Accuracy: 0.9825, Testing Accuracy: 0.9793\n",
      "\n"
     ]
    },
    {
     "name": "stdout",
     "output_type": "stream",
     "text": [
      "Epoch 240, Loss 0.0161\n",
      "Training Accuracy: 0.9827, Testing Accuracy: 0.9793\n",
      "\n"
     ]
    },
    {
     "data": {
      "text/plain": [
       "0.009312057340267115"
      ]
     },
     "execution_count": 22,
     "metadata": {},
     "output_type": "execute_result"
    }
   ],
   "source": [
    "nn_learner.train_loop(dl)"
   ]
  },
  {
   "cell_type": "code",
   "execution_count": 23,
   "id": "e0163366",
   "metadata": {
    "execution": {
     "iopub.execute_input": "2022-10-05T01:00:49.470864Z",
     "iopub.status.busy": "2022-10-05T01:00:49.470072Z",
     "iopub.status.idle": "2022-10-05T01:01:11.469137Z",
     "shell.execute_reply": "2022-10-05T01:01:11.470131Z"
    },
    "papermill": {
     "duration": 22.053109,
     "end_time": "2022-10-05T01:01:11.470280",
     "exception": false,
     "start_time": "2022-10-05T01:00:49.417171",
     "status": "completed"
    },
    "tags": []
   },
   "outputs": [
    {
     "name": "stdout",
     "output_type": "stream",
     "text": [
      "Epoch 0, Loss 0.2354\n",
      "Training Accuracy: 0.7206, Testing Accuracy: 0.7067\n",
      "\n"
     ]
    },
    {
     "name": "stdout",
     "output_type": "stream",
     "text": [
      "Epoch 10, Loss 0.102\n",
      "Training Accuracy: 0.9139, Testing Accuracy: 0.9224\n",
      "\n"
     ]
    },
    {
     "name": "stdout",
     "output_type": "stream",
     "text": [
      "Epoch 20, Loss 0.0786\n",
      "Training Accuracy: 0.9301, Testing Accuracy: 0.9405\n",
      "\n"
     ]
    },
    {
     "name": "stdout",
     "output_type": "stream",
     "text": [
      "Epoch 30, Loss 0.0679\n",
      "Training Accuracy: 0.9380, Testing Accuracy: 0.9476\n",
      "\n"
     ]
    },
    {
     "name": "stdout",
     "output_type": "stream",
     "text": [
      "Epoch 40, Loss 0.0614\n",
      "Training Accuracy: 0.9419, Testing Accuracy: 0.9511\n",
      "\n"
     ]
    },
    {
     "name": "stdout",
     "output_type": "stream",
     "text": [
      "Epoch 50, Loss 0.057\n",
      "Training Accuracy: 0.9441, Testing Accuracy: 0.9556\n",
      "\n"
     ]
    },
    {
     "name": "stdout",
     "output_type": "stream",
     "text": [
      "Epoch 60, Loss 0.0538\n",
      "Training Accuracy: 0.9463, Testing Accuracy: 0.9567\n",
      "\n"
     ]
    },
    {
     "name": "stdout",
     "output_type": "stream",
     "text": [
      "Epoch 70, Loss 0.0513\n",
      "Training Accuracy: 0.9480, Testing Accuracy: 0.9587\n",
      "\n"
     ]
    },
    {
     "name": "stdout",
     "output_type": "stream",
     "text": [
      "Epoch 80, Loss 0.0492\n",
      "Training Accuracy: 0.9494, Testing Accuracy: 0.9602\n",
      "\n"
     ]
    },
    {
     "name": "stdout",
     "output_type": "stream",
     "text": [
      "Epoch 90, Loss 0.0476\n",
      "Training Accuracy: 0.9511, Testing Accuracy: 0.9612\n",
      "\n"
     ]
    },
    {
     "name": "stdout",
     "output_type": "stream",
     "text": [
      "Epoch 100, Loss 0.0462\n",
      "Training Accuracy: 0.9528, Testing Accuracy: 0.9622\n",
      "\n"
     ]
    },
    {
     "name": "stdout",
     "output_type": "stream",
     "text": [
      "Epoch 110, Loss 0.0449\n",
      "Training Accuracy: 0.9541, Testing Accuracy: 0.9627\n",
      "\n"
     ]
    },
    {
     "name": "stdout",
     "output_type": "stream",
     "text": [
      "Epoch 120, Loss 0.0439\n",
      "Training Accuracy: 0.9550, Testing Accuracy: 0.9637\n",
      "\n"
     ]
    },
    {
     "name": "stdout",
     "output_type": "stream",
     "text": [
      "Epoch 130, Loss 0.043\n",
      "Training Accuracy: 0.9563, Testing Accuracy: 0.9647\n",
      "\n"
     ]
    },
    {
     "name": "stdout",
     "output_type": "stream",
     "text": [
      "Epoch 140, Loss 0.0421\n",
      "Training Accuracy: 0.9570, Testing Accuracy: 0.9647\n",
      "\n"
     ]
    },
    {
     "name": "stdout",
     "output_type": "stream",
     "text": [
      "Epoch 150, Loss 0.0414\n",
      "Training Accuracy: 0.9574, Testing Accuracy: 0.9652\n",
      "\n"
     ]
    },
    {
     "name": "stdout",
     "output_type": "stream",
     "text": [
      "Epoch 160, Loss 0.0407\n",
      "Training Accuracy: 0.9579, Testing Accuracy: 0.9652\n",
      "\n"
     ]
    },
    {
     "name": "stdout",
     "output_type": "stream",
     "text": [
      "Epoch 170, Loss 0.0401\n",
      "Training Accuracy: 0.9581, Testing Accuracy: 0.9652\n",
      "\n"
     ]
    },
    {
     "name": "stdout",
     "output_type": "stream",
     "text": [
      "Epoch 180, Loss 0.0395\n",
      "Training Accuracy: 0.9583, Testing Accuracy: 0.9657\n",
      "\n"
     ]
    },
    {
     "name": "stdout",
     "output_type": "stream",
     "text": [
      "Epoch 190, Loss 0.039\n",
      "Training Accuracy: 0.9589, Testing Accuracy: 0.9657\n",
      "\n"
     ]
    },
    {
     "name": "stdout",
     "output_type": "stream",
     "text": [
      "Epoch 200, Loss 0.0385\n",
      "Training Accuracy: 0.9589, Testing Accuracy: 0.9662\n",
      "\n"
     ]
    },
    {
     "name": "stdout",
     "output_type": "stream",
     "text": [
      "Epoch 210, Loss 0.0381\n",
      "Training Accuracy: 0.9589, Testing Accuracy: 0.9662\n",
      "\n"
     ]
    },
    {
     "name": "stdout",
     "output_type": "stream",
     "text": [
      "Epoch 220, Loss 0.0377\n",
      "Training Accuracy: 0.9592, Testing Accuracy: 0.9672\n",
      "\n"
     ]
    },
    {
     "name": "stdout",
     "output_type": "stream",
     "text": [
      "Epoch 230, Loss 0.0373\n",
      "Training Accuracy: 0.9594, Testing Accuracy: 0.9667\n",
      "\n"
     ]
    },
    {
     "name": "stdout",
     "output_type": "stream",
     "text": [
      "Epoch 240, Loss 0.0369\n",
      "Training Accuracy: 0.9602, Testing Accuracy: 0.9667\n",
      "\n"
     ]
    },
    {
     "data": {
      "text/plain": [
       "0.07018232114819584"
      ]
     },
     "execution_count": 23,
     "metadata": {},
     "output_type": "execute_result"
    }
   ],
   "source": [
    "lr_learner.train_loop(dl)"
   ]
  },
  {
   "cell_type": "code",
   "execution_count": 24,
   "id": "ca410940",
   "metadata": {
    "execution": {
     "iopub.execute_input": "2022-10-05T01:01:11.580065Z",
     "iopub.status.busy": "2022-10-05T01:01:11.579298Z",
     "iopub.status.idle": "2022-10-05T01:01:11.891269Z",
     "shell.execute_reply": "2022-10-05T01:01:11.890749Z"
    },
    "papermill": {
     "duration": 0.370558,
     "end_time": "2022-10-05T01:01:11.891532",
     "exception": false,
     "start_time": "2022-10-05T01:01:11.520974",
     "status": "completed"
    },
    "tags": []
   },
   "outputs": [
    {
     "data": {
      "text/plain": [
       "<matplotlib.legend.Legend at 0x7f5e476d8390>"
      ]
     },
     "execution_count": 24,
     "metadata": {},
     "output_type": "execute_result"
    },
    {
     "data": {
      "image/png": "[encoded data removed]",
      "text/plain": [
       "<Figure size 1080x720 with 1 Axes>"
      ]
     },
     "metadata": {
      "needs_background": "light"
     },
     "output_type": "display_data"
    }
   ],
   "source": [
    "#comparing the results of NN and LR\n",
    "plt.figure(figsize=(15,10))\n",
    "\n",
    "# Neural Network plots\n",
    "plt.plot(acc_nn.accuracies, 'r-', label = \"Training Accuracies - NN\")\n",
    "plt.plot(acc_nn.test_accuracies, 'g-', label = \"Testing Accuracies - NN\")\n",
    "\n",
    "# Logistic Regression plots\n",
    "plt.plot(acc_lr.accuracies, 'k-', label = \"Training Accuracies - LR\")\n",
    "plt.plot(acc_lr.test_accuracies, 'b-', label = \"Testing Accuracies - LR\")\n",
    "plt.legend()"
   ]
  },
  {
   "cell_type": "markdown",
   "id": "80dfb35c",
   "metadata": {
    "papermill": {
     "duration": 0.06281,
     "end_time": "2022-10-05T01:01:12.006916",
     "exception": false,
     "start_time": "2022-10-05T01:01:11.944106",
     "status": "completed"
    },
    "tags": []
   },
   "source": [
    "#### Plotting the outputs of this layer of the NN.\n"
   ]
  },
  {
   "cell_type": "code",
   "execution_count": 25,
   "id": "45eb2ff5",
   "metadata": {
    "execution": {
     "iopub.execute_input": "2022-10-05T01:01:12.129103Z",
     "iopub.status.busy": "2022-10-05T01:01:12.128301Z",
     "iopub.status.idle": "2022-10-05T01:01:12.156187Z",
     "shell.execute_reply": "2022-10-05T01:01:12.157186Z"
    },
    "papermill": {
     "duration": 0.091354,
     "end_time": "2022-10-05T01:01:12.157510",
     "exception": false,
     "start_time": "2022-10-05T01:01:12.066156",
     "status": "completed"
    },
    "tags": []
   },
   "outputs": [],
   "source": [
    "new_model = Model(layers[:-2])\n",
    "testing_plot = new_model(testing_data_x)"
   ]
  },
  {
   "cell_type": "code",
   "execution_count": 26,
   "id": "4c0a5485",
   "metadata": {
    "execution": {
     "iopub.execute_input": "2022-10-05T01:01:12.270401Z",
     "iopub.status.busy": "2022-10-05T01:01:12.269523Z",
     "iopub.status.idle": "2022-10-05T01:01:12.534080Z",
     "shell.execute_reply": "2022-10-05T01:01:12.534934Z"
    },
    "papermill": {
     "duration": 0.324007,
     "end_time": "2022-10-05T01:01:12.535106",
     "exception": false,
     "start_time": "2022-10-05T01:01:12.211099",
     "status": "completed"
    },
    "tags": []
   },
   "outputs": [
    {
     "data": {
      "text/plain": [
       "Text(0.5, 1.0, 'Outputs')"
      ]
     },
     "execution_count": 26,
     "metadata": {},
     "output_type": "execute_result"
    },
    {
     "data": {
      "image/png": "[encoded data removed]",
      "text/plain": [
       "<Figure size 576x504 with 1 Axes>"
      ]
     },
     "metadata": {
      "needs_background": "light"
     },
     "output_type": "display_data"
    }
   ],
   "source": [
    "# Plotting the scatter plot of points and color coding by class\n",
    "plt.figure(figsize=(8,7))\n",
    "plt.scatter(testing_plot[:,0], testing_plot[:,1], alpha = 0.1, c = y_test.ravel());\n",
    "plt.title('Outputs')"
   ]
  },
  {
   "cell_type": "markdown",
   "id": "a74fcf8f",
   "metadata": {
    "papermill": {
     "duration": 0.063209,
     "end_time": "2022-10-05T01:01:12.653159",
     "exception": false,
     "start_time": "2022-10-05T01:01:12.589950",
     "status": "completed"
    },
    "tags": []
   },
   "source": [
    "Probability contours"
   ]
  },
  {
   "cell_type": "code",
   "execution_count": 27,
   "id": "d0afc8e3",
   "metadata": {
    "execution": {
     "iopub.execute_input": "2022-10-05T01:01:12.766578Z",
     "iopub.status.busy": "2022-10-05T01:01:12.765421Z",
     "iopub.status.idle": "2022-10-05T01:01:12.777839Z",
     "shell.execute_reply": "2022-10-05T01:01:12.778308Z"
    },
    "papermill": {
     "duration": 0.072531,
     "end_time": "2022-10-05T01:01:12.778433",
     "exception": false,
     "start_time": "2022-10-05T01:01:12.705902",
     "status": "completed"
    },
    "tags": []
   },
   "outputs": [],
   "source": [
    "model_prob = Model(layers[-2:]) "
   ]
  },
  {
   "cell_type": "code",
   "execution_count": 28,
   "id": "9b96e238",
   "metadata": {
    "execution": {
     "iopub.execute_input": "2022-10-05T01:01:12.915007Z",
     "iopub.status.busy": "2022-10-05T01:01:12.913958Z",
     "iopub.status.idle": "2022-10-05T01:01:12.929896Z",
     "shell.execute_reply": "2022-10-05T01:01:12.930463Z"
    },
    "papermill": {
     "duration": 0.076719,
     "end_time": "2022-10-05T01:01:12.930674",
     "exception": false,
     "start_time": "2022-10-05T01:01:12.853955",
     "status": "completed"
    },
    "tags": []
   },
   "outputs": [],
   "source": [
    "#creating the x and y ranges according to the above generated plot.\n",
    "x_range = np.linspace(-4, 1, 100) \n",
    "y_range = np.linspace(-6, 6, 100) \n",
    "x_grid, y_grid = np.meshgrid(x_range, y_range) # x_grid and y_grig are of size 100 X 100\n",
    "\n",
    "# converting x_grid and y_grid to continuous arrays\n",
    "x_gridflat = np.ravel(x_grid)\n",
    "y_gridflat = np.ravel(y_grid)\n",
    "\n",
    "# The last layer of the current model takes two columns as input. Hence transpose of np.vstack() is required.\n",
    "X = np.vstack((x_gridflat, y_gridflat)).T\n",
    "\n",
    "prob_contour = model_prob(X).reshape(100,100) "
   ]
  },
  {
   "cell_type": "code",
   "execution_count": 29,
   "id": "da72499a",
   "metadata": {
    "execution": {
     "iopub.execute_input": "2022-10-05T01:01:13.047936Z",
     "iopub.status.busy": "2022-10-05T01:01:13.047244Z",
     "iopub.status.idle": "2022-10-05T01:01:13.388412Z",
     "shell.execute_reply": "2022-10-05T01:01:13.389054Z"
    },
    "papermill": {
     "duration": 0.403843,
     "end_time": "2022-10-05T01:01:13.389226",
     "exception": false,
     "start_time": "2022-10-05T01:01:12.985383",
     "status": "completed"
    },
    "tags": []
   },
   "outputs": [
    {
     "data": {
      "image/png": "[encoded data removed]",
      "text/plain": [
       "<Figure size 720x648 with 1 Axes>"
      ]
     },
     "metadata": {
      "needs_background": "light"
     },
     "output_type": "display_data"
    }
   ],
   "source": [
    "plt.figure(figsize=(10,9))\n",
    "plt.scatter(testing_plot[:,0], testing_plot[:,1], alpha = 0.1, c = y_test.ravel())\n",
    "contours = plt.contour(x_grid,y_grid,prob_contour)\n",
    "plt.title('Probability Contours')\n",
    "plt.clabel(contours, inline = True );"
   ]
  },
  {
   "cell_type": "code",
   "execution_count": null,
   "id": "e81b4ac7",
   "metadata": {
    "papermill": {
     "duration": 0.053113,
     "end_time": "2022-10-05T01:01:13.501220",
     "exception": false,
     "start_time": "2022-10-05T01:01:13.448107",
     "status": "completed"
    },
    "tags": []
   },
   "outputs": [],
   "source": []
  }
 ],
 "metadata": {
  "kernelspec": {
   "display_name": "Python 3",
   "language": "python",
   "name": "python3"
  },
  "language_info": {
   "codemirror_mode": {
    "name": "ipython",
    "version": 3
   },
   "file_extension": ".py",
   "mimetype": "text/x-python",
   "name": "python",
   "nbconvert_exporter": "python",
   "pygments_lexer": "ipython3",
   "version": "3.6.15"
  },
  "papermill": {
   "default_parameters": {},
   "duration": 180.699735,
   "end_time": "2022-10-05T01:01:13.976271",
   "environment_variables": {},
   "exception": null,
   "input_path": "2020-08-11-part2.ipynb",
   "output_path": "2020-08-11-part2.ipynb",
   "parameters": {},
   "start_time": "2022-10-05T00:58:13.276536",
   "version": "2.3.3"
  }
 },
 "nbformat": 4,
 "nbformat_minor": 5
}