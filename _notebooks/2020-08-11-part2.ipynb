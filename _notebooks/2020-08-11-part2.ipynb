{
 "cells": [
  {
   "cell_type": "markdown",
   "id": "98380cd3",
   "metadata": {
    "papermill": {
     "duration": 0.029354,
     "end_time": "2022-07-20T10:10:07.458429",
     "exception": false,
     "start_time": "2022-07-20T10:10:07.429075",
     "status": "completed"
    },
    "tags": []
   },
   "source": [
    "# Distinguish Your Own Digits (DYOD)"
   ]
  },
  {
   "cell_type": "markdown",
   "id": "ef31240d",
   "metadata": {
    "papermill": {
     "duration": 0.024077,
     "end_time": "2022-07-20T10:10:07.507140",
     "exception": false,
     "start_time": "2022-07-20T10:10:07.483063",
     "status": "completed"
    },
    "tags": []
   },
   "source": [
    "You are going to write a classifier that distinguishes between the number 3 and number 8."
   ]
  },
  {
   "cell_type": "code",
   "execution_count": 1,
   "id": "b15c8646",
   "metadata": {
    "execution": {
     "iopub.execute_input": "2022-07-20T10:10:07.566323Z",
     "iopub.status.busy": "2022-07-20T10:10:07.565697Z",
     "iopub.status.idle": "2022-07-20T10:10:07.577719Z",
     "shell.execute_reply": "2022-07-20T10:10:07.577167Z"
    },
    "papermill": {
     "duration": 0.046852,
     "end_time": "2022-07-20T10:10:07.577853",
     "exception": false,
     "start_time": "2022-07-20T10:10:07.531001",
     "status": "completed"
    },
    "tags": []
   },
   "outputs": [],
   "source": [
    "%load_ext autoreload\n",
    "%autoreload 2"
   ]
  },
  {
   "cell_type": "code",
   "execution_count": 2,
   "id": "22ef38dc",
   "metadata": {
    "execution": {
     "iopub.execute_input": "2022-07-20T10:10:07.630665Z",
     "iopub.status.busy": "2022-07-20T10:10:07.630047Z",
     "iopub.status.idle": "2022-07-20T10:10:08.169630Z",
     "shell.execute_reply": "2022-07-20T10:10:08.169003Z"
    },
    "papermill": {
     "duration": 0.568275,
     "end_time": "2022-07-20T10:10:08.169781",
     "exception": false,
     "start_time": "2022-07-20T10:10:07.601506",
     "status": "completed"
    },
    "tags": []
   },
   "outputs": [],
   "source": [
    "%matplotlib inline\n",
    "import numpy as np\n",
    "import matplotlib.pyplot as plt\n",
    "import pandas as pd"
   ]
  },
  {
   "cell_type": "markdown",
   "id": "ba036198",
   "metadata": {
    "papermill": {
     "duration": 0.023622,
     "end_time": "2022-07-20T10:10:08.217773",
     "exception": false,
     "start_time": "2022-07-20T10:10:08.194151",
     "status": "completed"
    },
    "tags": []
   },
   "source": [
    "From the command line run `pip install mnist`. This is a library that will help you bring down the mnist dataset. If you run this from a notebook, you need to put  `!pip install mnist` in a cell by itself."
   ]
  },
  {
   "cell_type": "code",
   "execution_count": 3,
   "id": "bb6ad8a1",
   "metadata": {
    "execution": {
     "iopub.execute_input": "2022-07-20T10:10:08.269011Z",
     "iopub.status.busy": "2022-07-20T10:10:08.268287Z",
     "iopub.status.idle": "2022-07-20T10:10:09.894818Z",
     "shell.execute_reply": "2022-07-20T10:10:09.895323Z"
    },
    "papermill": {
     "duration": 1.653706,
     "end_time": "2022-07-20T10:10:09.895472",
     "exception": false,
     "start_time": "2022-07-20T10:10:08.241766",
     "status": "completed"
    },
    "tags": []
   },
   "outputs": [
    {
     "name": "stdout",
     "output_type": "stream",
     "text": [
      "Collecting mnist\r\n"
     ]
    },
    {
     "name": "stdout",
     "output_type": "stream",
     "text": [
      "  Downloading mnist-0.2.2-py2.py3-none-any.whl (3.5 kB)\r\n",
      "Requirement already satisfied: numpy in /opt/hostedtoolcache/Python/3.6.15/x64/lib/python3.6/site-packages (from mnist) (1.19.5)\r\n"
     ]
    },
    {
     "name": "stdout",
     "output_type": "stream",
     "text": [
      "Installing collected packages: mnist\r\n",
      "Successfully installed mnist-0.2.2\r\n"
     ]
    }
   ],
   "source": [
    "!pip install mnist"
   ]
  },
  {
   "cell_type": "markdown",
   "id": "69df9c9a",
   "metadata": {
    "papermill": {
     "duration": 0.024964,
     "end_time": "2022-07-20T10:10:09.945210",
     "exception": false,
     "start_time": "2022-07-20T10:10:09.920246",
     "status": "completed"
    },
    "tags": []
   },
   "source": [
    "## Preparing the Data"
   ]
  },
  {
   "cell_type": "code",
   "execution_count": 4,
   "id": "7f69d806",
   "metadata": {
    "execution": {
     "iopub.execute_input": "2022-07-20T10:10:10.007946Z",
     "iopub.status.busy": "2022-07-20T10:10:10.001876Z",
     "iopub.status.idle": "2022-07-20T10:10:10.019300Z",
     "shell.execute_reply": "2022-07-20T10:10:10.018809Z"
    },
    "papermill": {
     "duration": 0.046365,
     "end_time": "2022-07-20T10:10:10.019421",
     "exception": false,
     "start_time": "2022-07-20T10:10:09.973056",
     "status": "completed"
    },
    "tags": []
   },
   "outputs": [],
   "source": [
    "import mnist"
   ]
  },
  {
   "cell_type": "code",
   "execution_count": 5,
   "id": "a411e44f",
   "metadata": {
    "execution": {
     "iopub.execute_input": "2022-07-20T10:10:10.073952Z",
     "iopub.status.busy": "2022-07-20T10:10:10.073339Z",
     "iopub.status.idle": "2022-07-20T10:10:10.592703Z",
     "shell.execute_reply": "2022-07-20T10:10:10.592119Z"
    },
    "papermill": {
     "duration": 0.548426,
     "end_time": "2022-07-20T10:10:10.592846",
     "exception": false,
     "start_time": "2022-07-20T10:10:10.044420",
     "status": "completed"
    },
    "tags": []
   },
   "outputs": [],
   "source": [
    "train_images = mnist.train_images()\n",
    "train_labels = mnist.train_labels()"
   ]
  },
  {
   "cell_type": "code",
   "execution_count": 6,
   "id": "dceab3a5",
   "metadata": {
    "execution": {
     "iopub.execute_input": "2022-07-20T10:10:10.648263Z",
     "iopub.status.busy": "2022-07-20T10:10:10.647653Z",
     "iopub.status.idle": "2022-07-20T10:10:10.664255Z",
     "shell.execute_reply": "2022-07-20T10:10:10.663792Z"
    },
    "papermill": {
     "duration": 0.045988,
     "end_time": "2022-07-20T10:10:10.664376",
     "exception": false,
     "start_time": "2022-07-20T10:10:10.618388",
     "status": "completed"
    },
    "tags": []
   },
   "outputs": [
    {
     "data": {
      "text/plain": [
       "((60000, 28, 28), (60000,))"
      ]
     },
     "execution_count": 6,
     "metadata": {},
     "output_type": "execute_result"
    }
   ],
   "source": [
    "train_images.shape, train_labels.shape"
   ]
  },
  {
   "cell_type": "code",
   "execution_count": 7,
   "id": "f50dc2bb",
   "metadata": {
    "execution": {
     "iopub.execute_input": "2022-07-20T10:10:10.718984Z",
     "iopub.status.busy": "2022-07-20T10:10:10.718386Z",
     "iopub.status.idle": "2022-07-20T10:10:10.825138Z",
     "shell.execute_reply": "2022-07-20T10:10:10.824550Z"
    },
    "papermill": {
     "duration": 0.136273,
     "end_time": "2022-07-20T10:10:10.825288",
     "exception": false,
     "start_time": "2022-07-20T10:10:10.689015",
     "status": "completed"
    },
    "tags": []
   },
   "outputs": [],
   "source": [
    "test_images = mnist.test_images()\n",
    "test_labels = mnist.test_labels()"
   ]
  },
  {
   "cell_type": "code",
   "execution_count": 8,
   "id": "fc38cf1b",
   "metadata": {
    "execution": {
     "iopub.execute_input": "2022-07-20T10:10:10.879658Z",
     "iopub.status.busy": "2022-07-20T10:10:10.878955Z",
     "iopub.status.idle": "2022-07-20T10:10:10.895699Z",
     "shell.execute_reply": "2022-07-20T10:10:10.896480Z"
    },
    "papermill": {
     "duration": 0.046337,
     "end_time": "2022-07-20T10:10:10.896614",
     "exception": false,
     "start_time": "2022-07-20T10:10:10.850277",
     "status": "completed"
    },
    "tags": []
   },
   "outputs": [
    {
     "data": {
      "text/plain": [
       "((10000, 28, 28), (10000,))"
      ]
     },
     "execution_count": 8,
     "metadata": {},
     "output_type": "execute_result"
    }
   ],
   "source": [
    "test_images.shape, test_labels.shape"
   ]
  },
  {
   "cell_type": "code",
   "execution_count": 9,
   "id": "f9ed8fe0",
   "metadata": {
    "execution": {
     "iopub.execute_input": "2022-07-20T10:10:10.951462Z",
     "iopub.status.busy": "2022-07-20T10:10:10.950768Z",
     "iopub.status.idle": "2022-07-20T10:10:11.096042Z",
     "shell.execute_reply": "2022-07-20T10:10:11.095538Z"
    },
    "papermill": {
     "duration": 0.174717,
     "end_time": "2022-07-20T10:10:11.096166",
     "exception": false,
     "start_time": "2022-07-20T10:10:10.921449",
     "status": "completed"
    },
    "tags": []
   },
   "outputs": [
    {
     "name": "stdout",
     "output_type": "stream",
     "text": [
      "2\n"
     ]
    },
    {
     "data": {
      "text/plain": [
       "<matplotlib.image.AxesImage at 0x7fa73ed2f4e0>"
      ]
     },
     "execution_count": 9,
     "metadata": {},
     "output_type": "execute_result"
    },
    {
     "data": {
      "image/png": "[encoded data removed]",
      "text/plain": [
       "<Figure size 432x288 with 1 Axes>"
      ]
     },
     "metadata": {
      "needs_background": "light"
     },
     "output_type": "display_data"
    }
   ],
   "source": [
    "image_index = 7776 # You may select anything up to 60,000\n",
    "print(train_labels[image_index]) \n",
    "plt.imshow(train_images[image_index], cmap='Greys')"
   ]
  },
  {
   "cell_type": "markdown",
   "id": "a8d2388d",
   "metadata": {
    "papermill": {
     "duration": 0.026363,
     "end_time": "2022-07-20T10:10:11.148896",
     "exception": false,
     "start_time": "2022-07-20T10:10:11.122533",
     "status": "completed"
    },
    "tags": []
   },
   "source": [
    "## Filter data to get 3 and 8 out"
   ]
  },
  {
   "cell_type": "code",
   "execution_count": 10,
   "id": "776f7fc7",
   "metadata": {
    "execution": {
     "iopub.execute_input": "2022-07-20T10:10:11.206939Z",
     "iopub.status.busy": "2022-07-20T10:10:11.205031Z",
     "iopub.status.idle": "2022-07-20T10:10:11.223874Z",
     "shell.execute_reply": "2022-07-20T10:10:11.224330Z"
    },
    "papermill": {
     "duration": 0.049551,
     "end_time": "2022-07-20T10:10:11.224462",
     "exception": false,
     "start_time": "2022-07-20T10:10:11.174911",
     "status": "completed"
    },
    "tags": []
   },
   "outputs": [],
   "source": [
    "train_filter = np.where((train_labels == 3 ) | (train_labels == 8))\n",
    "test_filter = np.where((test_labels == 3) | (test_labels == 8))\n",
    "X_train, y_train = train_images[train_filter], train_labels[train_filter]\n",
    "X_test, y_test = test_images[test_filter], test_labels[test_filter]"
   ]
  },
  {
   "cell_type": "markdown",
   "id": "948f0b7e",
   "metadata": {
    "papermill": {
     "duration": 0.025958,
     "end_time": "2022-07-20T10:10:11.276393",
     "exception": false,
     "start_time": "2022-07-20T10:10:11.250435",
     "status": "completed"
    },
    "tags": []
   },
   "source": [
    "We normalize the pizel values in the 0 to 1 range"
   ]
  },
  {
   "cell_type": "code",
   "execution_count": 11,
   "id": "ee4c2166",
   "metadata": {
    "execution": {
     "iopub.execute_input": "2022-07-20T10:10:11.340021Z",
     "iopub.status.busy": "2022-07-20T10:10:11.331838Z",
     "iopub.status.idle": "2022-07-20T10:10:11.380575Z",
     "shell.execute_reply": "2022-07-20T10:10:11.380030Z"
    },
    "papermill": {
     "duration": 0.07795,
     "end_time": "2022-07-20T10:10:11.380705",
     "exception": false,
     "start_time": "2022-07-20T10:10:11.302755",
     "status": "completed"
    },
    "tags": []
   },
   "outputs": [],
   "source": [
    "X_train = X_train/255.\n",
    "X_test = X_test/255."
   ]
  },
  {
   "cell_type": "markdown",
   "id": "ddcf4fab",
   "metadata": {
    "papermill": {
     "duration": 0.026519,
     "end_time": "2022-07-20T10:10:11.434052",
     "exception": false,
     "start_time": "2022-07-20T10:10:11.407533",
     "status": "completed"
    },
    "tags": []
   },
   "source": [
    "And setup the labels as 1 (when the digit is 3) and 0 (when the digit is 8)"
   ]
  },
  {
   "cell_type": "code",
   "execution_count": 12,
   "id": "7dc908f2",
   "metadata": {
    "execution": {
     "iopub.execute_input": "2022-07-20T10:10:11.494426Z",
     "iopub.status.busy": "2022-07-20T10:10:11.491313Z",
     "iopub.status.idle": "2022-07-20T10:10:11.505658Z",
     "shell.execute_reply": "2022-07-20T10:10:11.505031Z"
    },
    "papermill": {
     "duration": 0.045598,
     "end_time": "2022-07-20T10:10:11.505779",
     "exception": false,
     "start_time": "2022-07-20T10:10:11.460181",
     "status": "completed"
    },
    "tags": []
   },
   "outputs": [],
   "source": [
    "y_train = 1*(y_train==3)\n",
    "y_test = 1*(y_test==3)"
   ]
  },
  {
   "cell_type": "code",
   "execution_count": 13,
   "id": "01e4e969",
   "metadata": {
    "execution": {
     "iopub.execute_input": "2022-07-20T10:10:11.566728Z",
     "iopub.status.busy": "2022-07-20T10:10:11.562696Z",
     "iopub.status.idle": "2022-07-20T10:10:11.578152Z",
     "shell.execute_reply": "2022-07-20T10:10:11.578613Z"
    },
    "papermill": {
     "duration": 0.046811,
     "end_time": "2022-07-20T10:10:11.578748",
     "exception": false,
     "start_time": "2022-07-20T10:10:11.531937",
     "status": "completed"
    },
    "tags": []
   },
   "outputs": [
    {
     "data": {
      "text/plain": [
       "((11982, 28, 28), (1984, 28, 28))"
      ]
     },
     "execution_count": 13,
     "metadata": {},
     "output_type": "execute_result"
    }
   ],
   "source": [
    "X_train.shape, X_test.shape"
   ]
  },
  {
   "cell_type": "markdown",
   "id": "5ccf3f85",
   "metadata": {
    "papermill": {
     "duration": 0.026402,
     "end_time": "2022-07-20T10:10:11.631513",
     "exception": false,
     "start_time": "2022-07-20T10:10:11.605111",
     "status": "completed"
    },
    "tags": []
   },
   "source": [
    "We reshape the data to flatten the image pixels into a set of features or co-variates:"
   ]
  },
  {
   "cell_type": "code",
   "execution_count": 14,
   "id": "5286a4a3",
   "metadata": {
    "execution": {
     "iopub.execute_input": "2022-07-20T10:10:11.695127Z",
     "iopub.status.busy": "2022-07-20T10:10:11.689467Z",
     "iopub.status.idle": "2022-07-20T10:10:11.705730Z",
     "shell.execute_reply": "2022-07-20T10:10:11.705235Z"
    },
    "papermill": {
     "duration": 0.047794,
     "end_time": "2022-07-20T10:10:11.705844",
     "exception": false,
     "start_time": "2022-07-20T10:10:11.658050",
     "status": "completed"
    },
    "tags": []
   },
   "outputs": [
    {
     "data": {
      "text/plain": [
       "((11982, 784), (1984, 784))"
      ]
     },
     "execution_count": 14,
     "metadata": {},
     "output_type": "execute_result"
    }
   ],
   "source": [
    "X_train = X_train.reshape(X_train.shape[0], -1)\n",
    "X_test = X_test.reshape(X_test.shape[0], -1)\n",
    "X_train.shape, X_test.shape"
   ]
  },
  {
   "cell_type": "code",
   "execution_count": 15,
   "id": "73c5f88a",
   "metadata": {
    "execution": {
     "iopub.execute_input": "2022-07-20T10:10:11.767037Z",
     "iopub.status.busy": "2022-07-20T10:10:11.764095Z",
     "iopub.status.idle": "2022-07-20T10:10:11.784196Z",
     "shell.execute_reply": "2022-07-20T10:10:11.784657Z"
    },
    "papermill": {
     "duration": 0.051941,
     "end_time": "2022-07-20T10:10:11.784782",
     "exception": false,
     "start_time": "2022-07-20T10:10:11.732841",
     "status": "completed"
    },
    "tags": []
   },
   "outputs": [],
   "source": [
    "#Impoting functions from 'Kudzu'\n",
    "from kudzu.model import Model\n",
    "from kudzu.train import Learner\n",
    "from kudzu.optim import GD\n",
    "from kudzu.data import Data, Sampler,Dataloader\n",
    "\n",
    "from kudzu.callbacks import AccCallback\n",
    "from kudzu.callbacks import ClfCallback\n",
    "\n",
    "from kudzu.loss import MSE\n",
    "\n",
    "from kudzu.layer import Sigmoid,Relu\n",
    "from kudzu.layer import Affine"
   ]
  },
  {
   "cell_type": "markdown",
   "id": "bc01172a",
   "metadata": {
    "papermill": {
     "duration": 0.026431,
     "end_time": "2022-07-20T10:10:11.837753",
     "exception": false,
     "start_time": "2022-07-20T10:10:11.811322",
     "status": "completed"
    },
    "tags": []
   },
   "source": [
    "### Let us create a `Config` class, to store important parameters. \n",
    "This class essentially plays the role of a dictionary."
   ]
  },
  {
   "cell_type": "code",
   "execution_count": 16,
   "id": "978281aa",
   "metadata": {
    "execution": {
     "iopub.execute_input": "2022-07-20T10:10:11.895876Z",
     "iopub.status.busy": "2022-07-20T10:10:11.895141Z",
     "iopub.status.idle": "2022-07-20T10:10:11.909832Z",
     "shell.execute_reply": "2022-07-20T10:10:11.909328Z"
    },
    "papermill": {
     "duration": 0.045793,
     "end_time": "2022-07-20T10:10:11.909948",
     "exception": false,
     "start_time": "2022-07-20T10:10:11.864155",
     "status": "completed"
    },
    "tags": []
   },
   "outputs": [],
   "source": [
    "class Config:\n",
    "    pass\n",
    "config = Config()\n",
    "config.lr = 0.001\n",
    "config.num_epochs = 250\n",
    "config.bs = 50"
   ]
  },
  {
   "cell_type": "markdown",
   "id": "1385fa59",
   "metadata": {
    "papermill": {
     "duration": 0.026568,
     "end_time": "2022-07-20T10:10:11.963458",
     "exception": false,
     "start_time": "2022-07-20T10:10:11.936890",
     "status": "completed"
    },
    "tags": []
   },
   "source": [
    "### Running Models with the Training data\n",
    "Details about the network layers:\n",
    "- A first affine layer has 784 inputs and does 100 affine transforms. These are followed by a Relu\n",
    "- A second affine layer has 100 inputs from the 100 activations of the past layer, and does 100 affine transforms. These are followed by a Relu\n",
    "- A third affine layer has 100 activations and does 2 affine transformations to create an embedding for visualization. There is no non-linearity here.\n",
    "- A final \"logistic regression\" which has an affine transform from 2 inputs to 1 output, which is squeezed through a sigmoid.\n"
   ]
  },
  {
   "cell_type": "code",
   "execution_count": 17,
   "id": "2b9c66db",
   "metadata": {
    "execution": {
     "iopub.execute_input": "2022-07-20T10:10:12.021848Z",
     "iopub.status.busy": "2022-07-20T10:10:12.021221Z",
     "iopub.status.idle": "2022-07-20T10:10:12.035871Z",
     "shell.execute_reply": "2022-07-20T10:10:12.035386Z"
    },
    "papermill": {
     "duration": 0.045736,
     "end_time": "2022-07-20T10:10:12.035983",
     "exception": false,
     "start_time": "2022-07-20T10:10:11.990247",
     "status": "completed"
    },
    "tags": []
   },
   "outputs": [],
   "source": [
    "data = Data(X_train, y_train.reshape(-1,1))\n",
    "sampler = Sampler(data, config.bs, shuffle=True)\n",
    "\n",
    "dl = Dataloader(data, sampler)\n",
    "\n",
    "opt = GD(config.lr)\n",
    "loss = MSE()"
   ]
  },
  {
   "cell_type": "code",
   "execution_count": 18,
   "id": "b275e4c2",
   "metadata": {
    "execution": {
     "iopub.execute_input": "2022-07-20T10:10:12.092925Z",
     "iopub.status.busy": "2022-07-20T10:10:12.092333Z",
     "iopub.status.idle": "2022-07-20T10:10:12.107355Z",
     "shell.execute_reply": "2022-07-20T10:10:12.106873Z"
    },
    "papermill": {
     "duration": 0.044865,
     "end_time": "2022-07-20T10:10:12.107467",
     "exception": false,
     "start_time": "2022-07-20T10:10:12.062602",
     "status": "completed"
    },
    "tags": []
   },
   "outputs": [],
   "source": [
    "training_data_x = X_train\n",
    "testing_data_x = X_test\n",
    "training_data_y = y_train.reshape(-1,1)\n",
    "testing_data_y = y_test.reshape(-1,1)"
   ]
  },
  {
   "cell_type": "code",
   "execution_count": 19,
   "id": "76951160",
   "metadata": {
    "execution": {
     "iopub.execute_input": "2022-07-20T10:10:12.164786Z",
     "iopub.status.busy": "2022-07-20T10:10:12.164176Z",
     "iopub.status.idle": "2022-07-20T10:10:12.182302Z",
     "shell.execute_reply": "2022-07-20T10:10:12.182872Z"
    },
    "papermill": {
     "duration": 0.049151,
     "end_time": "2022-07-20T10:10:12.182995",
     "exception": false,
     "start_time": "2022-07-20T10:10:12.133844",
     "status": "completed"
    },
    "tags": []
   },
   "outputs": [
    {
     "name": "stdout",
     "output_type": "stream",
     "text": [
      "xavier\n",
      "xavier\n",
      "xavier\n",
      "xavier\n",
      "xavier\n"
     ]
    }
   ],
   "source": [
    "layers = [Affine(\"first\", 784, 100), Relu(\"first\"), Affine(\"second\", 100, 100), Relu(\"second\"), Affine(\"third\", 100, 2), Affine(\"last\", 2, 1), Sigmoid(\"last\")]\n",
    "model_nn = Model(layers)\n",
    "model_lr = Model([Affine(\"logits\", 784, 1), Sigmoid(\"sigmoid\")])"
   ]
  },
  {
   "cell_type": "code",
   "execution_count": 20,
   "id": "6eede77a",
   "metadata": {
    "execution": {
     "iopub.execute_input": "2022-07-20T10:10:12.240591Z",
     "iopub.status.busy": "2022-07-20T10:10:12.239997Z",
     "iopub.status.idle": "2022-07-20T10:10:12.254137Z",
     "shell.execute_reply": "2022-07-20T10:10:12.253659Z"
    },
    "papermill": {
     "duration": 0.044254,
     "end_time": "2022-07-20T10:10:12.254245",
     "exception": false,
     "start_time": "2022-07-20T10:10:12.209991",
     "status": "completed"
    },
    "tags": []
   },
   "outputs": [],
   "source": [
    "nn_learner = Learner(loss, model_nn, opt, config.num_epochs)\n",
    "acc_nn = ClfCallback(nn_learner, config.bs, training_data_x , testing_data_x, training_data_y, testing_data_y)\n",
    "nn_learner.set_callbacks([acc_nn])"
   ]
  },
  {
   "cell_type": "code",
   "execution_count": 21,
   "id": "877b6cc7",
   "metadata": {
    "execution": {
     "iopub.execute_input": "2022-07-20T10:10:12.311337Z",
     "iopub.status.busy": "2022-07-20T10:10:12.310747Z",
     "iopub.status.idle": "2022-07-20T10:10:12.325264Z",
     "shell.execute_reply": "2022-07-20T10:10:12.324750Z"
    },
    "papermill": {
     "duration": 0.044452,
     "end_time": "2022-07-20T10:10:12.325378",
     "exception": false,
     "start_time": "2022-07-20T10:10:12.280926",
     "status": "completed"
    },
    "tags": []
   },
   "outputs": [],
   "source": [
    "lr_learner = Learner(loss, model_lr, opt, config.num_epochs)\n",
    "acc_lr = ClfCallback(lr_learner, config.bs, training_data_x , testing_data_x, training_data_y, testing_data_y)\n",
    "lr_learner.set_callbacks([acc_lr])"
   ]
  },
  {
   "cell_type": "code",
   "execution_count": 22,
   "id": "d9b133c3",
   "metadata": {
    "execution": {
     "iopub.execute_input": "2022-07-20T10:10:12.383196Z",
     "iopub.status.busy": "2022-07-20T10:10:12.382606Z",
     "iopub.status.idle": "2022-07-20T10:11:28.721917Z",
     "shell.execute_reply": "2022-07-20T10:11:28.722580Z"
    },
    "papermill": {
     "duration": 76.370529,
     "end_time": "2022-07-20T10:11:28.722726",
     "exception": false,
     "start_time": "2022-07-20T10:10:12.352197",
     "status": "completed"
    },
    "tags": []
   },
   "outputs": [
    {
     "name": "stdout",
     "output_type": "stream",
     "text": [
      "Epoch 0, Loss 0.2611\n",
      "Training Accuracy: 0.5565, Testing Accuracy: 0.5408\n",
      "\n"
     ]
    },
    {
     "name": "stdout",
     "output_type": "stream",
     "text": [
      "Epoch 10, Loss 0.0906\n",
      "Training Accuracy: 0.9137, Testing Accuracy: 0.9259\n",
      "\n"
     ]
    },
    {
     "name": "stdout",
     "output_type": "stream",
     "text": [
      "Epoch 20, Loss 0.0576\n",
      "Training Accuracy: 0.9370, Testing Accuracy: 0.9531\n",
      "\n"
     ]
    },
    {
     "name": "stdout",
     "output_type": "stream",
     "text": [
      "Epoch 30, Loss 0.0451\n",
      "Training Accuracy: 0.9489, Testing Accuracy: 0.9657\n",
      "\n"
     ]
    },
    {
     "name": "stdout",
     "output_type": "stream",
     "text": [
      "Epoch 40, Loss 0.0387\n",
      "Training Accuracy: 0.9559, Testing Accuracy: 0.9667\n",
      "\n"
     ]
    },
    {
     "name": "stdout",
     "output_type": "stream",
     "text": [
      "Epoch 50, Loss 0.0348\n",
      "Training Accuracy: 0.9602, Testing Accuracy: 0.9667\n",
      "\n"
     ]
    },
    {
     "name": "stdout",
     "output_type": "stream",
     "text": [
      "Epoch 60, Loss 0.0322\n",
      "Training Accuracy: 0.9628, Testing Accuracy: 0.9698\n",
      "\n"
     ]
    },
    {
     "name": "stdout",
     "output_type": "stream",
     "text": [
      "Epoch 70, Loss 0.0302\n",
      "Training Accuracy: 0.9655, Testing Accuracy: 0.9708\n",
      "\n"
     ]
    },
    {
     "name": "stdout",
     "output_type": "stream",
     "text": [
      "Epoch 80, Loss 0.0286\n",
      "Training Accuracy: 0.9669, Testing Accuracy: 0.9713\n",
      "\n"
     ]
    },
    {
     "name": "stdout",
     "output_type": "stream",
     "text": [
      "Epoch 90, Loss 0.0274\n",
      "Training Accuracy: 0.9690, Testing Accuracy: 0.9708\n",
      "\n"
     ]
    },
    {
     "name": "stdout",
     "output_type": "stream",
     "text": [
      "Epoch 100, Loss 0.0263\n",
      "Training Accuracy: 0.9709, Testing Accuracy: 0.9723\n",
      "\n"
     ]
    },
    {
     "name": "stdout",
     "output_type": "stream",
     "text": [
      "Epoch 110, Loss 0.0254\n",
      "Training Accuracy: 0.9716, Testing Accuracy: 0.9728\n",
      "\n"
     ]
    },
    {
     "name": "stdout",
     "output_type": "stream",
     "text": [
      "Epoch 120, Loss 0.0247\n",
      "Training Accuracy: 0.9727, Testing Accuracy: 0.9738\n",
      "\n"
     ]
    },
    {
     "name": "stdout",
     "output_type": "stream",
     "text": [
      "Epoch 130, Loss 0.024\n",
      "Training Accuracy: 0.9731, Testing Accuracy: 0.9743\n",
      "\n"
     ]
    },
    {
     "name": "stdout",
     "output_type": "stream",
     "text": [
      "Epoch 140, Loss 0.0234\n",
      "Training Accuracy: 0.9743, Testing Accuracy: 0.9738\n",
      "\n"
     ]
    },
    {
     "name": "stdout",
     "output_type": "stream",
     "text": [
      "Epoch 150, Loss 0.0228\n",
      "Training Accuracy: 0.9744, Testing Accuracy: 0.9738\n",
      "\n"
     ]
    },
    {
     "name": "stdout",
     "output_type": "stream",
     "text": [
      "Epoch 160, Loss 0.0223\n",
      "Training Accuracy: 0.9751, Testing Accuracy: 0.9738\n",
      "\n"
     ]
    },
    {
     "name": "stdout",
     "output_type": "stream",
     "text": [
      "Epoch 170, Loss 0.0218\n",
      "Training Accuracy: 0.9758, Testing Accuracy: 0.9738\n",
      "\n"
     ]
    },
    {
     "name": "stdout",
     "output_type": "stream",
     "text": [
      "Epoch 180, Loss 0.0214\n",
      "Training Accuracy: 0.9763, Testing Accuracy: 0.9743\n",
      "\n"
     ]
    },
    {
     "name": "stdout",
     "output_type": "stream",
     "text": [
      "Epoch 190, Loss 0.021\n",
      "Training Accuracy: 0.9768, Testing Accuracy: 0.9748\n",
      "\n"
     ]
    },
    {
     "name": "stdout",
     "output_type": "stream",
     "text": [
      "Epoch 200, Loss 0.0206\n",
      "Training Accuracy: 0.9770, Testing Accuracy: 0.9748\n",
      "\n"
     ]
    },
    {
     "name": "stdout",
     "output_type": "stream",
     "text": [
      "Epoch 210, Loss 0.0202\n",
      "Training Accuracy: 0.9774, Testing Accuracy: 0.9748\n",
      "\n"
     ]
    },
    {
     "name": "stdout",
     "output_type": "stream",
     "text": [
      "Epoch 220, Loss 0.0199\n",
      "Training Accuracy: 0.9778, Testing Accuracy: 0.9743\n",
      "\n"
     ]
    },
    {
     "name": "stdout",
     "output_type": "stream",
     "text": [
      "Epoch 230, Loss 0.0196\n",
      "Training Accuracy: 0.9782, Testing Accuracy: 0.9743\n",
      "\n"
     ]
    },
    {
     "name": "stdout",
     "output_type": "stream",
     "text": [
      "Epoch 240, Loss 0.0192\n",
      "Training Accuracy: 0.9786, Testing Accuracy: 0.9743\n",
      "\n"
     ]
    },
    {
     "data": {
      "text/plain": [
       "0.0040044505817078396"
      ]
     },
     "execution_count": 22,
     "metadata": {},
     "output_type": "execute_result"
    }
   ],
   "source": [
    "nn_learner.train_loop(dl)"
   ]
  },
  {
   "cell_type": "code",
   "execution_count": 23,
   "id": "e0163366",
   "metadata": {
    "execution": {
     "iopub.execute_input": "2022-07-20T10:11:28.818783Z",
     "iopub.status.busy": "2022-07-20T10:11:28.818165Z",
     "iopub.status.idle": "2022-07-20T10:11:42.535749Z",
     "shell.execute_reply": "2022-07-20T10:11:42.536622Z"
    },
    "papermill": {
     "duration": 13.765156,
     "end_time": "2022-07-20T10:11:42.536778",
     "exception": false,
     "start_time": "2022-07-20T10:11:28.771622",
     "status": "completed"
    },
    "tags": []
   },
   "outputs": [
    {
     "name": "stdout",
     "output_type": "stream",
     "text": [
      "Epoch 0, Loss 0.2532\n",
      "Training Accuracy: 0.6476, Testing Accuracy: 0.6668\n",
      "\n"
     ]
    },
    {
     "name": "stdout",
     "output_type": "stream",
     "text": [
      "Epoch 10, Loss 0.1006\n",
      "Training Accuracy: 0.9197, Testing Accuracy: 0.9345\n",
      "\n"
     ]
    },
    {
     "name": "stdout",
     "output_type": "stream",
     "text": [
      "Epoch 20, Loss 0.077\n",
      "Training Accuracy: 0.9333, Testing Accuracy: 0.9481\n",
      "\n"
     ]
    },
    {
     "name": "stdout",
     "output_type": "stream",
     "text": [
      "Epoch 30, Loss 0.0664\n",
      "Training Accuracy: 0.9407, Testing Accuracy: 0.9531\n",
      "\n"
     ]
    },
    {
     "name": "stdout",
     "output_type": "stream",
     "text": [
      "Epoch 40, Loss 0.0601\n",
      "Training Accuracy: 0.9453, Testing Accuracy: 0.9541\n",
      "\n"
     ]
    },
    {
     "name": "stdout",
     "output_type": "stream",
     "text": [
      "Epoch 50, Loss 0.0558\n",
      "Training Accuracy: 0.9480, Testing Accuracy: 0.9572\n",
      "\n"
     ]
    },
    {
     "name": "stdout",
     "output_type": "stream",
     "text": [
      "Epoch 60, Loss 0.0527\n",
      "Training Accuracy: 0.9495, Testing Accuracy: 0.9572\n",
      "\n"
     ]
    },
    {
     "name": "stdout",
     "output_type": "stream",
     "text": [
      "Epoch 70, Loss 0.0502\n",
      "Training Accuracy: 0.9513, Testing Accuracy: 0.9592\n",
      "\n"
     ]
    },
    {
     "name": "stdout",
     "output_type": "stream",
     "text": [
      "Epoch 80, Loss 0.0483\n",
      "Training Accuracy: 0.9532, Testing Accuracy: 0.9602\n",
      "\n"
     ]
    },
    {
     "name": "stdout",
     "output_type": "stream",
     "text": [
      "Epoch 90, Loss 0.0467\n",
      "Training Accuracy: 0.9539, Testing Accuracy: 0.9622\n",
      "\n"
     ]
    },
    {
     "name": "stdout",
     "output_type": "stream",
     "text": [
      "Epoch 100, Loss 0.0453\n",
      "Training Accuracy: 0.9548, Testing Accuracy: 0.9632\n",
      "\n"
     ]
    },
    {
     "name": "stdout",
     "output_type": "stream",
     "text": [
      "Epoch 110, Loss 0.0442\n",
      "Training Accuracy: 0.9553, Testing Accuracy: 0.9647\n",
      "\n"
     ]
    },
    {
     "name": "stdout",
     "output_type": "stream",
     "text": [
      "Epoch 120, Loss 0.0432\n",
      "Training Accuracy: 0.9563, Testing Accuracy: 0.9647\n",
      "\n"
     ]
    },
    {
     "name": "stdout",
     "output_type": "stream",
     "text": [
      "Epoch 130, Loss 0.0423\n",
      "Training Accuracy: 0.9566, Testing Accuracy: 0.9647\n",
      "\n"
     ]
    },
    {
     "name": "stdout",
     "output_type": "stream",
     "text": [
      "Epoch 140, Loss 0.0415\n",
      "Training Accuracy: 0.9570, Testing Accuracy: 0.9662\n",
      "\n"
     ]
    },
    {
     "name": "stdout",
     "output_type": "stream",
     "text": [
      "Epoch 150, Loss 0.0408\n",
      "Training Accuracy: 0.9575, Testing Accuracy: 0.9662\n",
      "\n"
     ]
    },
    {
     "name": "stdout",
     "output_type": "stream",
     "text": [
      "Epoch 160, Loss 0.0401\n",
      "Training Accuracy: 0.9580, Testing Accuracy: 0.9667\n",
      "\n"
     ]
    },
    {
     "name": "stdout",
     "output_type": "stream",
     "text": [
      "Epoch 170, Loss 0.0395\n",
      "Training Accuracy: 0.9584, Testing Accuracy: 0.9667\n",
      "\n"
     ]
    },
    {
     "name": "stdout",
     "output_type": "stream",
     "text": [
      "Epoch 180, Loss 0.039\n",
      "Training Accuracy: 0.9588, Testing Accuracy: 0.9667\n",
      "\n"
     ]
    },
    {
     "name": "stdout",
     "output_type": "stream",
     "text": [
      "Epoch 190, Loss 0.0385\n",
      "Training Accuracy: 0.9591, Testing Accuracy: 0.9672\n",
      "\n"
     ]
    },
    {
     "name": "stdout",
     "output_type": "stream",
     "text": [
      "Epoch 200, Loss 0.0381\n",
      "Training Accuracy: 0.9596, Testing Accuracy: 0.9677\n",
      "\n"
     ]
    },
    {
     "name": "stdout",
     "output_type": "stream",
     "text": [
      "Epoch 210, Loss 0.0376\n",
      "Training Accuracy: 0.9599, Testing Accuracy: 0.9672\n",
      "\n"
     ]
    },
    {
     "name": "stdout",
     "output_type": "stream",
     "text": [
      "Epoch 220, Loss 0.0372\n",
      "Training Accuracy: 0.9604, Testing Accuracy: 0.9672\n",
      "\n"
     ]
    },
    {
     "name": "stdout",
     "output_type": "stream",
     "text": [
      "Epoch 230, Loss 0.0369\n",
      "Training Accuracy: 0.9606, Testing Accuracy: 0.9672\n",
      "\n"
     ]
    },
    {
     "name": "stdout",
     "output_type": "stream",
     "text": [
      "Epoch 240, Loss 0.0365\n",
      "Training Accuracy: 0.9609, Testing Accuracy: 0.9682\n",
      "\n"
     ]
    },
    {
     "data": {
      "text/plain": [
       "0.024899290707717642"
      ]
     },
     "execution_count": 23,
     "metadata": {},
     "output_type": "execute_result"
    }
   ],
   "source": [
    "lr_learner.train_loop(dl)"
   ]
  },
  {
   "cell_type": "code",
   "execution_count": 24,
   "id": "ca410940",
   "metadata": {
    "execution": {
     "iopub.execute_input": "2022-07-20T10:11:42.634213Z",
     "iopub.status.busy": "2022-07-20T10:11:42.633566Z",
     "iopub.status.idle": "2022-07-20T10:11:42.872487Z",
     "shell.execute_reply": "2022-07-20T10:11:42.871980Z"
    },
    "papermill": {
     "duration": 0.294925,
     "end_time": "2022-07-20T10:11:42.872610",
     "exception": false,
     "start_time": "2022-07-20T10:11:42.577685",
     "status": "completed"
    },
    "tags": []
   },
   "outputs": [
    {
     "data": {
      "text/plain": [
       "<matplotlib.legend.Legend at 0x7fa7320e1c18>"
      ]
     },
     "execution_count": 24,
     "metadata": {},
     "output_type": "execute_result"
    },
    {
     "data": {
      "image/png": "[encoded data removed]",
      "text/plain": [
       "<Figure size 1080x720 with 1 Axes>"
      ]
     },
     "metadata": {
      "needs_background": "light"
     },
     "output_type": "display_data"
    }
   ],
   "source": [
    "#comparing the results of NN and LR\n",
    "plt.figure(figsize=(15,10))\n",
    "\n",
    "# Neural Network plots\n",
    "plt.plot(acc_nn.accuracies, 'r-', label = \"Training Accuracies - NN\")\n",
    "plt.plot(acc_nn.test_accuracies, 'g-', label = \"Testing Accuracies - NN\")\n",
    "\n",
    "# Logistic Regression plots\n",
    "plt.plot(acc_lr.accuracies, 'k-', label = \"Training Accuracies - LR\")\n",
    "plt.plot(acc_lr.test_accuracies, 'b-', label = \"Testing Accuracies - LR\")\n",
    "plt.legend()"
   ]
  },
  {
   "cell_type": "markdown",
   "id": "80dfb35c",
   "metadata": {
    "papermill": {
     "duration": 0.041701,
     "end_time": "2022-07-20T10:11:42.956097",
     "exception": false,
     "start_time": "2022-07-20T10:11:42.914396",
     "status": "completed"
    },
    "tags": []
   },
   "source": [
    "#### Plotting the outputs of this layer of the NN.\n"
   ]
  },
  {
   "cell_type": "code",
   "execution_count": 25,
   "id": "45eb2ff5",
   "metadata": {
    "execution": {
     "iopub.execute_input": "2022-07-20T10:11:43.044208Z",
     "iopub.status.busy": "2022-07-20T10:11:43.043588Z",
     "iopub.status.idle": "2022-07-20T10:11:43.066520Z",
     "shell.execute_reply": "2022-07-20T10:11:43.065984Z"
    },
    "papermill": {
     "duration": 0.069085,
     "end_time": "2022-07-20T10:11:43.066646",
     "exception": false,
     "start_time": "2022-07-20T10:11:42.997561",
     "status": "completed"
    },
    "tags": []
   },
   "outputs": [],
   "source": [
    "new_model = Model(layers[:-2])\n",
    "testing_plot = new_model(testing_data_x)"
   ]
  },
  {
   "cell_type": "code",
   "execution_count": 26,
   "id": "4c0a5485",
   "metadata": {
    "execution": {
     "iopub.execute_input": "2022-07-20T10:11:43.154957Z",
     "iopub.status.busy": "2022-07-20T10:11:43.154351Z",
     "iopub.status.idle": "2022-07-20T10:11:43.343423Z",
     "shell.execute_reply": "2022-07-20T10:11:43.342919Z"
    },
    "papermill": {
     "duration": 0.234889,
     "end_time": "2022-07-20T10:11:43.343547",
     "exception": false,
     "start_time": "2022-07-20T10:11:43.108658",
     "status": "completed"
    },
    "tags": []
   },
   "outputs": [
    {
     "data": {
      "text/plain": [
       "Text(0.5, 1.0, 'Outputs')"
      ]
     },
     "execution_count": 26,
     "metadata": {},
     "output_type": "execute_result"
    },
    {
     "data": {
      "image/png": "[encoded data removed]",
      "text/plain": [
       "<Figure size 576x504 with 1 Axes>"
      ]
     },
     "metadata": {
      "needs_background": "light"
     },
     "output_type": "display_data"
    }
   ],
   "source": [
    "# Plotting the scatter plot of points and color coding by class\n",
    "plt.figure(figsize=(8,7))\n",
    "plt.scatter(testing_plot[:,0], testing_plot[:,1], alpha = 0.1, c = y_test.ravel());\n",
    "plt.title('Outputs')"
   ]
  },
  {
   "cell_type": "markdown",
   "id": "a74fcf8f",
   "metadata": {
    "papermill": {
     "duration": 0.043768,
     "end_time": "2022-07-20T10:11:43.431061",
     "exception": false,
     "start_time": "2022-07-20T10:11:43.387293",
     "status": "completed"
    },
    "tags": []
   },
   "source": [
    "Probability contours"
   ]
  },
  {
   "cell_type": "code",
   "execution_count": 27,
   "id": "d0afc8e3",
   "metadata": {
    "execution": {
     "iopub.execute_input": "2022-07-20T10:11:43.522041Z",
     "iopub.status.busy": "2022-07-20T10:11:43.521408Z",
     "iopub.status.idle": "2022-07-20T10:11:43.534222Z",
     "shell.execute_reply": "2022-07-20T10:11:43.534654Z"
    },
    "papermill": {
     "duration": 0.060526,
     "end_time": "2022-07-20T10:11:43.534792",
     "exception": false,
     "start_time": "2022-07-20T10:11:43.474266",
     "status": "completed"
    },
    "tags": []
   },
   "outputs": [],
   "source": [
    "model_prob = Model(layers[-2:]) "
   ]
  },
  {
   "cell_type": "code",
   "execution_count": 28,
   "id": "9b96e238",
   "metadata": {
    "execution": {
     "iopub.execute_input": "2022-07-20T10:11:43.629543Z",
     "iopub.status.busy": "2022-07-20T10:11:43.627086Z",
     "iopub.status.idle": "2022-07-20T10:11:43.645376Z",
     "shell.execute_reply": "2022-07-20T10:11:43.644867Z"
    },
    "papermill": {
     "duration": 0.067356,
     "end_time": "2022-07-20T10:11:43.645510",
     "exception": false,
     "start_time": "2022-07-20T10:11:43.578154",
     "status": "completed"
    },
    "tags": []
   },
   "outputs": [],
   "source": [
    "#creating the x and y ranges according to the above generated plot.\n",
    "x_range = np.linspace(-4, 1, 100) \n",
    "y_range = np.linspace(-6, 6, 100) \n",
    "x_grid, y_grid = np.meshgrid(x_range, y_range) # x_grid and y_grig are of size 100 X 100\n",
    "\n",
    "# converting x_grid and y_grid to continuous arrays\n",
    "x_gridflat = np.ravel(x_grid)\n",
    "y_gridflat = np.ravel(y_grid)\n",
    "\n",
    "# The last layer of the current model takes two columns as input. Hence transpose of np.vstack() is required.\n",
    "X = np.vstack((x_gridflat, y_gridflat)).T\n",
    "\n",
    "prob_contour = model_prob(X).reshape(100,100) "
   ]
  },
  {
   "cell_type": "code",
   "execution_count": 29,
   "id": "da72499a",
   "metadata": {
    "execution": {
     "iopub.execute_input": "2022-07-20T10:11:43.767279Z",
     "iopub.status.busy": "2022-07-20T10:11:43.766663Z",
     "iopub.status.idle": "2022-07-20T10:11:44.016322Z",
     "shell.execute_reply": "2022-07-20T10:11:44.015715Z"
    },
    "papermill": {
     "duration": 0.299974,
     "end_time": "2022-07-20T10:11:44.016449",
     "exception": false,
     "start_time": "2022-07-20T10:11:43.716475",
     "status": "completed"
    },
    "tags": []
   },
   "outputs": [
    {
     "data": {
      "image/png": "[encoded data removed]",
      "text/plain": [
       "<Figure size 720x648 with 1 Axes>"
      ]
     },
     "metadata": {
      "needs_background": "light"
     },
     "output_type": "display_data"
    }
   ],
   "source": [
    "plt.figure(figsize=(10,9))\n",
    "plt.scatter(testing_plot[:,0], testing_plot[:,1], alpha = 0.1, c = y_test.ravel())\n",
    "contours = plt.contour(x_grid,y_grid,prob_contour)\n",
    "plt.title('Probability Contours')\n",
    "plt.clabel(contours, inline = True );"
   ]
  },
  {
   "cell_type": "code",
   "execution_count": null,
   "id": "e81b4ac7",
   "metadata": {
    "papermill": {
     "duration": 0.04601,
     "end_time": "2022-07-20T10:11:44.108804",
     "exception": false,
     "start_time": "2022-07-20T10:11:44.062794",
     "status": "completed"
    },
    "tags": []
   },
   "outputs": [],
   "source": []
  }
 ],
 "metadata": {
  "kernelspec": {
   "display_name": "Python 3",
   "language": "python",
   "name": "python3"
  },
  "language_info": {
   "codemirror_mode": {
    "name": "ipython",
    "version": 3
   },
   "file_extension": ".py",
   "mimetype": "text/x-python",
   "name": "python",
   "nbconvert_exporter": "python",
   "pygments_lexer": "ipython3",
   "version": "3.6.15"
  },
  "papermill": {
   "default_parameters": {},
   "duration": 98.310432,
   "end_time": "2022-07-20T10:11:44.573996",
   "environment_variables": {},
   "exception": null,
   "input_path": "2020-08-11-part2.ipynb",
   "output_path": "2020-08-11-part2.ipynb",
   "parameters": {},
   "start_time": "2022-07-20T10:10:06.263564",
   "version": "2.3.3"
  }
 },
 "nbformat": 4,
 "nbformat_minor": 5
}