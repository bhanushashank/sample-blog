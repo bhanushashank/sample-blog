{
 "cells": [
  {
   "cell_type": "markdown",
   "id": "98380cd3",
   "metadata": {
    "papermill": {
     "duration": 0.03839,
     "end_time": "2022-02-09T20:08:38.555728",
     "exception": false,
     "start_time": "2022-02-09T20:08:38.517338",
     "status": "completed"
    },
    "tags": []
   },
   "source": [
    "# Distinguish Your Own Digits (DYOD)"
   ]
  },
  {
   "cell_type": "markdown",
   "id": "ef31240d",
   "metadata": {
    "papermill": {
     "duration": 0.036441,
     "end_time": "2022-02-09T20:08:38.633595",
     "exception": false,
     "start_time": "2022-02-09T20:08:38.597154",
     "status": "completed"
    },
    "tags": []
   },
   "source": [
    "You are going to write a classifier that distinguishes between the number 3 and number 8."
   ]
  },
  {
   "cell_type": "code",
   "execution_count": 1,
   "id": "b15c8646",
   "metadata": {
    "execution": {
     "iopub.execute_input": "2022-02-09T20:08:38.715083Z",
     "iopub.status.busy": "2022-02-09T20:08:38.712484Z",
     "iopub.status.idle": "2022-02-09T20:08:38.726400Z",
     "shell.execute_reply": "2022-02-09T20:08:38.725805Z"
    },
    "papermill": {
     "duration": 0.059233,
     "end_time": "2022-02-09T20:08:38.726556",
     "exception": false,
     "start_time": "2022-02-09T20:08:38.667323",
     "status": "completed"
    },
    "tags": []
   },
   "outputs": [],
   "source": [
    "%load_ext autoreload\n",
    "%autoreload 2"
   ]
  },
  {
   "cell_type": "code",
   "execution_count": 2,
   "id": "22ef38dc",
   "metadata": {
    "execution": {
     "iopub.execute_input": "2022-02-09T20:08:38.801671Z",
     "iopub.status.busy": "2022-02-09T20:08:38.800932Z",
     "iopub.status.idle": "2022-02-09T20:08:39.542803Z",
     "shell.execute_reply": "2022-02-09T20:08:39.541601Z"
    },
    "papermill": {
     "duration": 0.781304,
     "end_time": "2022-02-09T20:08:39.542970",
     "exception": false,
     "start_time": "2022-02-09T20:08:38.761666",
     "status": "completed"
    },
    "tags": []
   },
   "outputs": [],
   "source": [
    "%matplotlib inline\n",
    "import numpy as np\n",
    "import matplotlib.pyplot as plt\n",
    "import pandas as pd"
   ]
  },
  {
   "cell_type": "markdown",
   "id": "ba036198",
   "metadata": {
    "papermill": {
     "duration": 0.034131,
     "end_time": "2022-02-09T20:08:39.610232",
     "exception": false,
     "start_time": "2022-02-09T20:08:39.576101",
     "status": "completed"
    },
    "tags": []
   },
   "source": [
    "From the command line run `pip install mnist`. This is a library that will help you bring down the mnist dataset. If you run this from a notebook, you need to put  `!pip install mnist` in a cell by itself."
   ]
  },
  {
   "cell_type": "code",
   "execution_count": 3,
   "id": "bb6ad8a1",
   "metadata": {
    "execution": {
     "iopub.execute_input": "2022-02-09T20:08:39.681973Z",
     "iopub.status.busy": "2022-02-09T20:08:39.680419Z",
     "iopub.status.idle": "2022-02-09T20:08:41.779430Z",
     "shell.execute_reply": "2022-02-09T20:08:41.778754Z"
    },
    "papermill": {
     "duration": 2.137121,
     "end_time": "2022-02-09T20:08:41.779579",
     "exception": false,
     "start_time": "2022-02-09T20:08:39.642458",
     "status": "completed"
    },
    "tags": []
   },
   "outputs": [
    {
     "name": "stdout",
     "output_type": "stream",
     "text": [
      "Collecting mnist\r\n",
      "  Downloading mnist-0.2.2-py2.py3-none-any.whl (3.5 kB)\r\n",
      "Requirement already satisfied: numpy in /opt/hostedtoolcache/Python/3.6.15/x64/lib/python3.6/site-packages (from mnist) (1.19.5)\r\n"
     ]
    },
    {
     "name": "stdout",
     "output_type": "stream",
     "text": [
      "Installing collected packages: mnist\r\n",
      "Successfully installed mnist-0.2.2\r\n"
     ]
    }
   ],
   "source": [
    "!pip install mnist"
   ]
  },
  {
   "cell_type": "markdown",
   "id": "69df9c9a",
   "metadata": {
    "papermill": {
     "duration": 0.035744,
     "end_time": "2022-02-09T20:08:41.852166",
     "exception": false,
     "start_time": "2022-02-09T20:08:41.816422",
     "status": "completed"
    },
    "tags": []
   },
   "source": [
    "## Preparing the Data"
   ]
  },
  {
   "cell_type": "code",
   "execution_count": 4,
   "id": "7f69d806",
   "metadata": {
    "execution": {
     "iopub.execute_input": "2022-02-09T20:08:41.934023Z",
     "iopub.status.busy": "2022-02-09T20:08:41.930907Z",
     "iopub.status.idle": "2022-02-09T20:08:41.948934Z",
     "shell.execute_reply": "2022-02-09T20:08:41.949586Z"
    },
    "papermill": {
     "duration": 0.058642,
     "end_time": "2022-02-09T20:08:41.949782",
     "exception": false,
     "start_time": "2022-02-09T20:08:41.891140",
     "status": "completed"
    },
    "tags": []
   },
   "outputs": [],
   "source": [
    "import mnist"
   ]
  },
  {
   "cell_type": "code",
   "execution_count": 5,
   "id": "a411e44f",
   "metadata": {
    "execution": {
     "iopub.execute_input": "2022-02-09T20:08:42.029007Z",
     "iopub.status.busy": "2022-02-09T20:08:42.026708Z",
     "iopub.status.idle": "2022-02-09T20:08:42.600687Z",
     "shell.execute_reply": "2022-02-09T20:08:42.601366Z"
    },
    "papermill": {
     "duration": 0.613844,
     "end_time": "2022-02-09T20:08:42.601542",
     "exception": false,
     "start_time": "2022-02-09T20:08:41.987698",
     "status": "completed"
    },
    "tags": []
   },
   "outputs": [],
   "source": [
    "train_images = mnist.train_images()\n",
    "train_labels = mnist.train_labels()"
   ]
  },
  {
   "cell_type": "code",
   "execution_count": 6,
   "id": "dceab3a5",
   "metadata": {
    "execution": {
     "iopub.execute_input": "2022-02-09T20:08:42.678742Z",
     "iopub.status.busy": "2022-02-09T20:08:42.677827Z",
     "iopub.status.idle": "2022-02-09T20:08:42.696048Z",
     "shell.execute_reply": "2022-02-09T20:08:42.696681Z"
    },
    "papermill": {
     "duration": 0.059762,
     "end_time": "2022-02-09T20:08:42.696890",
     "exception": false,
     "start_time": "2022-02-09T20:08:42.637128",
     "status": "completed"
    },
    "tags": []
   },
   "outputs": [
    {
     "data": {
      "text/plain": [
       "((60000, 28, 28), (60000,))"
      ]
     },
     "execution_count": 6,
     "metadata": {},
     "output_type": "execute_result"
    }
   ],
   "source": [
    "train_images.shape, train_labels.shape"
   ]
  },
  {
   "cell_type": "code",
   "execution_count": 7,
   "id": "f50dc2bb",
   "metadata": {
    "execution": {
     "iopub.execute_input": "2022-02-09T20:08:42.770105Z",
     "iopub.status.busy": "2022-02-09T20:08:42.769396Z",
     "iopub.status.idle": "2022-02-09T20:08:42.903708Z",
     "shell.execute_reply": "2022-02-09T20:08:42.903093Z"
    },
    "papermill": {
     "duration": 0.171903,
     "end_time": "2022-02-09T20:08:42.903872",
     "exception": false,
     "start_time": "2022-02-09T20:08:42.731969",
     "status": "completed"
    },
    "tags": []
   },
   "outputs": [],
   "source": [
    "test_images = mnist.test_images()\n",
    "test_labels = mnist.test_labels()"
   ]
  },
  {
   "cell_type": "code",
   "execution_count": 8,
   "id": "fc38cf1b",
   "metadata": {
    "execution": {
     "iopub.execute_input": "2022-02-09T20:08:42.983851Z",
     "iopub.status.busy": "2022-02-09T20:08:42.983214Z",
     "iopub.status.idle": "2022-02-09T20:08:42.998979Z",
     "shell.execute_reply": "2022-02-09T20:08:42.998191Z"
    },
    "papermill": {
     "duration": 0.05782,
     "end_time": "2022-02-09T20:08:42.999122",
     "exception": false,
     "start_time": "2022-02-09T20:08:42.941302",
     "status": "completed"
    },
    "tags": []
   },
   "outputs": [
    {
     "data": {
      "text/plain": [
       "((10000, 28, 28), (10000,))"
      ]
     },
     "execution_count": 8,
     "metadata": {},
     "output_type": "execute_result"
    }
   ],
   "source": [
    "test_images.shape, test_labels.shape"
   ]
  },
  {
   "cell_type": "code",
   "execution_count": 9,
   "id": "f9ed8fe0",
   "metadata": {
    "execution": {
     "iopub.execute_input": "2022-02-09T20:08:43.078944Z",
     "iopub.status.busy": "2022-02-09T20:08:43.078101Z",
     "iopub.status.idle": "2022-02-09T20:08:43.288035Z",
     "shell.execute_reply": "2022-02-09T20:08:43.288536Z"
    },
    "papermill": {
     "duration": 0.252128,
     "end_time": "2022-02-09T20:08:43.288702",
     "exception": false,
     "start_time": "2022-02-09T20:08:43.036574",
     "status": "completed"
    },
    "tags": []
   },
   "outputs": [
    {
     "name": "stdout",
     "output_type": "stream",
     "text": [
      "2\n"
     ]
    },
    {
     "data": {
      "text/plain": [
       "<matplotlib.image.AxesImage at 0x7fe9fbb2ce80>"
      ]
     },
     "execution_count": 9,
     "metadata": {},
     "output_type": "execute_result"
    },
    {
     "data": {
      "image/png": "[encoded data removed]",
      "text/plain": [
       "<Figure size 432x288 with 1 Axes>"
      ]
     },
     "metadata": {
      "needs_background": "light"
     },
     "output_type": "display_data"
    }
   ],
   "source": [
    "image_index = 7776 # You may select anything up to 60,000\n",
    "print(train_labels[image_index]) \n",
    "plt.imshow(train_images[image_index], cmap='Greys')"
   ]
  },
  {
   "cell_type": "markdown",
   "id": "a8d2388d",
   "metadata": {
    "papermill": {
     "duration": 0.036356,
     "end_time": "2022-02-09T20:08:43.364262",
     "exception": false,
     "start_time": "2022-02-09T20:08:43.327906",
     "status": "completed"
    },
    "tags": []
   },
   "source": [
    "## Filter data to get 3 and 8 out"
   ]
  },
  {
   "cell_type": "code",
   "execution_count": 10,
   "id": "776f7fc7",
   "metadata": {
    "execution": {
     "iopub.execute_input": "2022-02-09T20:08:43.462216Z",
     "iopub.status.busy": "2022-02-09T20:08:43.458588Z",
     "iopub.status.idle": "2022-02-09T20:08:43.474270Z",
     "shell.execute_reply": "2022-02-09T20:08:43.473495Z"
    },
    "papermill": {
     "duration": 0.072928,
     "end_time": "2022-02-09T20:08:43.474429",
     "exception": false,
     "start_time": "2022-02-09T20:08:43.401501",
     "status": "completed"
    },
    "tags": []
   },
   "outputs": [],
   "source": [
    "train_filter = np.where((train_labels == 3 ) | (train_labels == 8))\n",
    "test_filter = np.where((test_labels == 3) | (test_labels == 8))\n",
    "X_train, y_train = train_images[train_filter], train_labels[train_filter]\n",
    "X_test, y_test = test_images[test_filter], test_labels[test_filter]"
   ]
  },
  {
   "cell_type": "markdown",
   "id": "948f0b7e",
   "metadata": {
    "papermill": {
     "duration": 0.034744,
     "end_time": "2022-02-09T20:08:43.547297",
     "exception": false,
     "start_time": "2022-02-09T20:08:43.512553",
     "status": "completed"
    },
    "tags": []
   },
   "source": [
    "We normalize the pizel values in the 0 to 1 range"
   ]
  },
  {
   "cell_type": "code",
   "execution_count": 11,
   "id": "ee4c2166",
   "metadata": {
    "execution": {
     "iopub.execute_input": "2022-02-09T20:08:43.620814Z",
     "iopub.status.busy": "2022-02-09T20:08:43.620062Z",
     "iopub.status.idle": "2022-02-09T20:08:43.688035Z",
     "shell.execute_reply": "2022-02-09T20:08:43.688793Z"
    },
    "papermill": {
     "duration": 0.107761,
     "end_time": "2022-02-09T20:08:43.689048",
     "exception": false,
     "start_time": "2022-02-09T20:08:43.581287",
     "status": "completed"
    },
    "tags": []
   },
   "outputs": [],
   "source": [
    "X_train = X_train/255.\n",
    "X_test = X_test/255."
   ]
  },
  {
   "cell_type": "markdown",
   "id": "ddcf4fab",
   "metadata": {
    "papermill": {
     "duration": 0.033637,
     "end_time": "2022-02-09T20:08:43.758422",
     "exception": false,
     "start_time": "2022-02-09T20:08:43.724785",
     "status": "completed"
    },
    "tags": []
   },
   "source": [
    "And setup the labels as 1 (when the digit is 3) and 0 (when the digit is 8)"
   ]
  },
  {
   "cell_type": "code",
   "execution_count": 12,
   "id": "7dc908f2",
   "metadata": {
    "execution": {
     "iopub.execute_input": "2022-02-09T20:08:43.833572Z",
     "iopub.status.busy": "2022-02-09T20:08:43.832640Z",
     "iopub.status.idle": "2022-02-09T20:08:43.847800Z",
     "shell.execute_reply": "2022-02-09T20:08:43.847136Z"
    },
    "papermill": {
     "duration": 0.054793,
     "end_time": "2022-02-09T20:08:43.847939",
     "exception": false,
     "start_time": "2022-02-09T20:08:43.793146",
     "status": "completed"
    },
    "tags": []
   },
   "outputs": [],
   "source": [
    "y_train = 1*(y_train==3)\n",
    "y_test = 1*(y_test==3)"
   ]
  },
  {
   "cell_type": "code",
   "execution_count": 13,
   "id": "01e4e969",
   "metadata": {
    "execution": {
     "iopub.execute_input": "2022-02-09T20:08:43.920458Z",
     "iopub.status.busy": "2022-02-09T20:08:43.919781Z",
     "iopub.status.idle": "2022-02-09T20:08:43.934958Z",
     "shell.execute_reply": "2022-02-09T20:08:43.935655Z"
    },
    "papermill": {
     "duration": 0.054046,
     "end_time": "2022-02-09T20:08:43.935817",
     "exception": false,
     "start_time": "2022-02-09T20:08:43.881771",
     "status": "completed"
    },
    "tags": []
   },
   "outputs": [
    {
     "data": {
      "text/plain": [
       "((11982, 28, 28), (1984, 28, 28))"
      ]
     },
     "execution_count": 13,
     "metadata": {},
     "output_type": "execute_result"
    }
   ],
   "source": [
    "X_train.shape, X_test.shape"
   ]
  },
  {
   "cell_type": "markdown",
   "id": "5ccf3f85",
   "metadata": {
    "papermill": {
     "duration": 0.033978,
     "end_time": "2022-02-09T20:08:44.005912",
     "exception": false,
     "start_time": "2022-02-09T20:08:43.971934",
     "status": "completed"
    },
    "tags": []
   },
   "source": [
    "We reshape the data to flatten the image pixels into a set of features or co-variates:"
   ]
  },
  {
   "cell_type": "code",
   "execution_count": 14,
   "id": "5286a4a3",
   "metadata": {
    "execution": {
     "iopub.execute_input": "2022-02-09T20:08:44.083881Z",
     "iopub.status.busy": "2022-02-09T20:08:44.083077Z",
     "iopub.status.idle": "2022-02-09T20:08:44.098474Z",
     "shell.execute_reply": "2022-02-09T20:08:44.097758Z"
    },
    "papermill": {
     "duration": 0.056474,
     "end_time": "2022-02-09T20:08:44.098630",
     "exception": false,
     "start_time": "2022-02-09T20:08:44.042156",
     "status": "completed"
    },
    "tags": []
   },
   "outputs": [
    {
     "data": {
      "text/plain": [
       "((11982, 784), (1984, 784))"
      ]
     },
     "execution_count": 14,
     "metadata": {},
     "output_type": "execute_result"
    }
   ],
   "source": [
    "X_train = X_train.reshape(X_train.shape[0], -1)\n",
    "X_test = X_test.reshape(X_test.shape[0], -1)\n",
    "X_train.shape, X_test.shape"
   ]
  },
  {
   "cell_type": "code",
   "execution_count": 15,
   "id": "73c5f88a",
   "metadata": {
    "execution": {
     "iopub.execute_input": "2022-02-09T20:08:44.178117Z",
     "iopub.status.busy": "2022-02-09T20:08:44.177431Z",
     "iopub.status.idle": "2022-02-09T20:08:44.202022Z",
     "shell.execute_reply": "2022-02-09T20:08:44.201040Z"
    },
    "papermill": {
     "duration": 0.066879,
     "end_time": "2022-02-09T20:08:44.202159",
     "exception": false,
     "start_time": "2022-02-09T20:08:44.135280",
     "status": "completed"
    },
    "tags": []
   },
   "outputs": [],
   "source": [
    "#Impoting functions from 'Kudzu'\n",
    "from kudzu.model import Model\n",
    "from kudzu.train import Learner\n",
    "from kudzu.optim import GD\n",
    "from kudzu.data import Data, Sampler,Dataloader\n",
    "\n",
    "from kudzu.callbacks import AccCallback\n",
    "from kudzu.callbacks import ClfCallback\n",
    "\n",
    "from kudzu.loss import MSE\n",
    "\n",
    "from kudzu.layer import Sigmoid,Relu\n",
    "from kudzu.layer import Affine"
   ]
  },
  {
   "cell_type": "markdown",
   "id": "bc01172a",
   "metadata": {
    "papermill": {
     "duration": 0.037827,
     "end_time": "2022-02-09T20:08:44.278165",
     "exception": false,
     "start_time": "2022-02-09T20:08:44.240338",
     "status": "completed"
    },
    "tags": []
   },
   "source": [
    "### Let us create a `Config` class, to store important parameters. \n",
    "This class essentially plays the role of a dictionary."
   ]
  },
  {
   "cell_type": "code",
   "execution_count": 16,
   "id": "978281aa",
   "metadata": {
    "execution": {
     "iopub.execute_input": "2022-02-09T20:08:44.357085Z",
     "iopub.status.busy": "2022-02-09T20:08:44.356349Z",
     "iopub.status.idle": "2022-02-09T20:08:44.370036Z",
     "shell.execute_reply": "2022-02-09T20:08:44.370746Z"
    },
    "papermill": {
     "duration": 0.055444,
     "end_time": "2022-02-09T20:08:44.370922",
     "exception": false,
     "start_time": "2022-02-09T20:08:44.315478",
     "status": "completed"
    },
    "tags": []
   },
   "outputs": [],
   "source": [
    "class Config:\n",
    "    pass\n",
    "config = Config()\n",
    "config.lr = 0.001\n",
    "config.num_epochs = 250\n",
    "config.bs = 50"
   ]
  },
  {
   "cell_type": "markdown",
   "id": "1385fa59",
   "metadata": {
    "papermill": {
     "duration": 0.041292,
     "end_time": "2022-02-09T20:08:44.449402",
     "exception": false,
     "start_time": "2022-02-09T20:08:44.408110",
     "status": "completed"
    },
    "tags": []
   },
   "source": [
    "### Running Models with the Training data\n",
    "Details about the network layers:\n",
    "- A first affine layer has 784 inputs and does 100 affine transforms. These are followed by a Relu\n",
    "- A second affine layer has 100 inputs from the 100 activations of the past layer, and does 100 affine transforms. These are followed by a Relu\n",
    "- A third affine layer has 100 activations and does 2 affine transformations to create an embedding for visualization. There is no non-linearity here.\n",
    "- A final \"logistic regression\" which has an affine transform from 2 inputs to 1 output, which is squeezed through a sigmoid.\n"
   ]
  },
  {
   "cell_type": "code",
   "execution_count": 17,
   "id": "2b9c66db",
   "metadata": {
    "execution": {
     "iopub.execute_input": "2022-02-09T20:08:44.529292Z",
     "iopub.status.busy": "2022-02-09T20:08:44.528588Z",
     "iopub.status.idle": "2022-02-09T20:08:44.541867Z",
     "shell.execute_reply": "2022-02-09T20:08:44.542651Z"
    },
    "papermill": {
     "duration": 0.057679,
     "end_time": "2022-02-09T20:08:44.542876",
     "exception": false,
     "start_time": "2022-02-09T20:08:44.485197",
     "status": "completed"
    },
    "tags": []
   },
   "outputs": [],
   "source": [
    "data = Data(X_train, y_train.reshape(-1,1))\n",
    "sampler = Sampler(data, config.bs, shuffle=True)\n",
    "\n",
    "dl = Dataloader(data, sampler)\n",
    "\n",
    "opt = GD(config.lr)\n",
    "loss = MSE()"
   ]
  },
  {
   "cell_type": "code",
   "execution_count": 18,
   "id": "b275e4c2",
   "metadata": {
    "execution": {
     "iopub.execute_input": "2022-02-09T20:08:44.621652Z",
     "iopub.status.busy": "2022-02-09T20:08:44.620959Z",
     "iopub.status.idle": "2022-02-09T20:08:44.634213Z",
     "shell.execute_reply": "2022-02-09T20:08:44.633612Z"
    },
    "papermill": {
     "duration": 0.055151,
     "end_time": "2022-02-09T20:08:44.634342",
     "exception": false,
     "start_time": "2022-02-09T20:08:44.579191",
     "status": "completed"
    },
    "tags": []
   },
   "outputs": [],
   "source": [
    "training_data_x = X_train\n",
    "testing_data_x = X_test\n",
    "training_data_y = y_train.reshape(-1,1)\n",
    "testing_data_y = y_test.reshape(-1,1)"
   ]
  },
  {
   "cell_type": "code",
   "execution_count": 19,
   "id": "76951160",
   "metadata": {
    "execution": {
     "iopub.execute_input": "2022-02-09T20:08:44.718307Z",
     "iopub.status.busy": "2022-02-09T20:08:44.717551Z",
     "iopub.status.idle": "2022-02-09T20:08:44.738118Z",
     "shell.execute_reply": "2022-02-09T20:08:44.737556Z"
    },
    "papermill": {
     "duration": 0.063396,
     "end_time": "2022-02-09T20:08:44.738308",
     "exception": false,
     "start_time": "2022-02-09T20:08:44.674912",
     "status": "completed"
    },
    "tags": []
   },
   "outputs": [
    {
     "name": "stdout",
     "output_type": "stream",
     "text": [
      "xavier\n",
      "xavier\n",
      "xavier\n",
      "xavier\n",
      "xavier\n"
     ]
    }
   ],
   "source": [
    "layers = [Affine(\"first\", 784, 100), Relu(\"first\"), Affine(\"second\", 100, 100), Relu(\"second\"), Affine(\"third\", 100, 2), Affine(\"last\", 2, 1), Sigmoid(\"last\")]\n",
    "model_nn = Model(layers)\n",
    "model_lr = Model([Affine(\"logits\", 784, 1), Sigmoid(\"sigmoid\")])"
   ]
  },
  {
   "cell_type": "code",
   "execution_count": 20,
   "id": "6eede77a",
   "metadata": {
    "execution": {
     "iopub.execute_input": "2022-02-09T20:08:44.820988Z",
     "iopub.status.busy": "2022-02-09T20:08:44.820193Z",
     "iopub.status.idle": "2022-02-09T20:08:44.835773Z",
     "shell.execute_reply": "2022-02-09T20:08:44.835053Z"
    },
    "papermill": {
     "duration": 0.058665,
     "end_time": "2022-02-09T20:08:44.835944",
     "exception": false,
     "start_time": "2022-02-09T20:08:44.777279",
     "status": "completed"
    },
    "tags": []
   },
   "outputs": [],
   "source": [
    "nn_learner = Learner(loss, model_nn, opt, config.num_epochs)\n",
    "acc_nn = ClfCallback(nn_learner, config.bs, training_data_x , testing_data_x, training_data_y, testing_data_y)\n",
    "nn_learner.set_callbacks([acc_nn])"
   ]
  },
  {
   "cell_type": "code",
   "execution_count": 21,
   "id": "877b6cc7",
   "metadata": {
    "execution": {
     "iopub.execute_input": "2022-02-09T20:08:44.916021Z",
     "iopub.status.busy": "2022-02-09T20:08:44.915366Z",
     "iopub.status.idle": "2022-02-09T20:08:44.930188Z",
     "shell.execute_reply": "2022-02-09T20:08:44.931127Z"
    },
    "papermill": {
     "duration": 0.056097,
     "end_time": "2022-02-09T20:08:44.931293",
     "exception": false,
     "start_time": "2022-02-09T20:08:44.875196",
     "status": "completed"
    },
    "tags": []
   },
   "outputs": [],
   "source": [
    "lr_learner = Learner(loss, model_lr, opt, config.num_epochs)\n",
    "acc_lr = ClfCallback(lr_learner, config.bs, training_data_x , testing_data_x, training_data_y, testing_data_y)\n",
    "lr_learner.set_callbacks([acc_lr])"
   ]
  },
  {
   "cell_type": "code",
   "execution_count": 22,
   "id": "d9b133c3",
   "metadata": {
    "execution": {
     "iopub.execute_input": "2022-02-09T20:08:45.009052Z",
     "iopub.status.busy": "2022-02-09T20:08:45.008366Z",
     "iopub.status.idle": "2022-02-09T20:11:17.140524Z",
     "shell.execute_reply": "2022-02-09T20:11:17.141606Z"
    },
    "papermill": {
     "duration": 152.173203,
     "end_time": "2022-02-09T20:11:17.141787",
     "exception": false,
     "start_time": "2022-02-09T20:08:44.968584",
     "status": "completed"
    },
    "tags": []
   },
   "outputs": [
    {
     "name": "stdout",
     "output_type": "stream",
     "text": [
      "Epoch 0, Loss 0.2242\n",
      "Training Accuracy: 0.7516, Testing Accuracy: 0.7571\n",
      "\n"
     ]
    },
    {
     "name": "stdout",
     "output_type": "stream",
     "text": [
      "Epoch 10, Loss 0.0834\n",
      "Training Accuracy: 0.9190, Testing Accuracy: 0.9279\n",
      "\n"
     ]
    },
    {
     "name": "stdout",
     "output_type": "stream",
     "text": [
      "Epoch 20, Loss 0.0528\n",
      "Training Accuracy: 0.9442, Testing Accuracy: 0.9516\n",
      "\n"
     ]
    },
    {
     "name": "stdout",
     "output_type": "stream",
     "text": [
      "Epoch 30, Loss 0.0421\n",
      "Training Accuracy: 0.9533, Testing Accuracy: 0.9577\n",
      "\n"
     ]
    },
    {
     "name": "stdout",
     "output_type": "stream",
     "text": [
      "Epoch 40, Loss 0.0367\n",
      "Training Accuracy: 0.9589, Testing Accuracy: 0.9647\n",
      "\n"
     ]
    },
    {
     "name": "stdout",
     "output_type": "stream",
     "text": [
      "Epoch 50, Loss 0.0333\n",
      "Training Accuracy: 0.9621, Testing Accuracy: 0.9677\n",
      "\n"
     ]
    },
    {
     "name": "stdout",
     "output_type": "stream",
     "text": [
      "Epoch 60, Loss 0.0309\n",
      "Training Accuracy: 0.9645, Testing Accuracy: 0.9703\n",
      "\n"
     ]
    },
    {
     "name": "stdout",
     "output_type": "stream",
     "text": [
      "Epoch 70, Loss 0.0291\n",
      "Training Accuracy: 0.9666, Testing Accuracy: 0.9718\n",
      "\n"
     ]
    },
    {
     "name": "stdout",
     "output_type": "stream",
     "text": [
      "Epoch 80, Loss 0.0277\n",
      "Training Accuracy: 0.9682, Testing Accuracy: 0.9713\n",
      "\n"
     ]
    },
    {
     "name": "stdout",
     "output_type": "stream",
     "text": [
      "Epoch 90, Loss 0.0265\n",
      "Training Accuracy: 0.9697, Testing Accuracy: 0.9723\n",
      "\n"
     ]
    },
    {
     "name": "stdout",
     "output_type": "stream",
     "text": [
      "Epoch 100, Loss 0.0254\n",
      "Training Accuracy: 0.9705, Testing Accuracy: 0.9723\n",
      "\n"
     ]
    },
    {
     "name": "stdout",
     "output_type": "stream",
     "text": [
      "Epoch 110, Loss 0.0245\n",
      "Training Accuracy: 0.9723, Testing Accuracy: 0.9718\n",
      "\n"
     ]
    },
    {
     "name": "stdout",
     "output_type": "stream",
     "text": [
      "Epoch 120, Loss 0.0237\n",
      "Training Accuracy: 0.9730, Testing Accuracy: 0.9728\n",
      "\n"
     ]
    },
    {
     "name": "stdout",
     "output_type": "stream",
     "text": [
      "Epoch 130, Loss 0.0229\n",
      "Training Accuracy: 0.9732, Testing Accuracy: 0.9728\n",
      "\n"
     ]
    },
    {
     "name": "stdout",
     "output_type": "stream",
     "text": [
      "Epoch 140, Loss 0.0222\n",
      "Training Accuracy: 0.9740, Testing Accuracy: 0.9723\n",
      "\n"
     ]
    },
    {
     "name": "stdout",
     "output_type": "stream",
     "text": [
      "Epoch 150, Loss 0.0216\n",
      "Training Accuracy: 0.9749, Testing Accuracy: 0.9728\n",
      "\n"
     ]
    },
    {
     "name": "stdout",
     "output_type": "stream",
     "text": [
      "Epoch 160, Loss 0.021\n",
      "Training Accuracy: 0.9758, Testing Accuracy: 0.9738\n",
      "\n"
     ]
    },
    {
     "name": "stdout",
     "output_type": "stream",
     "text": [
      "Epoch 170, Loss 0.0204\n",
      "Training Accuracy: 0.9765, Testing Accuracy: 0.9743\n",
      "\n"
     ]
    },
    {
     "name": "stdout",
     "output_type": "stream",
     "text": [
      "Epoch 180, Loss 0.0198\n",
      "Training Accuracy: 0.9767, Testing Accuracy: 0.9743\n",
      "\n"
     ]
    },
    {
     "name": "stdout",
     "output_type": "stream",
     "text": [
      "Epoch 190, Loss 0.0193\n",
      "Training Accuracy: 0.9777, Testing Accuracy: 0.9748\n",
      "\n"
     ]
    },
    {
     "name": "stdout",
     "output_type": "stream",
     "text": [
      "Epoch 200, Loss 0.0188\n",
      "Training Accuracy: 0.9785, Testing Accuracy: 0.9753\n",
      "\n"
     ]
    },
    {
     "name": "stdout",
     "output_type": "stream",
     "text": [
      "Epoch 210, Loss 0.0183\n",
      "Training Accuracy: 0.9791, Testing Accuracy: 0.9758\n",
      "\n"
     ]
    },
    {
     "name": "stdout",
     "output_type": "stream",
     "text": [
      "Epoch 220, Loss 0.0179\n",
      "Training Accuracy: 0.9796, Testing Accuracy: 0.9763\n",
      "\n"
     ]
    },
    {
     "name": "stdout",
     "output_type": "stream",
     "text": [
      "Epoch 230, Loss 0.0174\n",
      "Training Accuracy: 0.9801, Testing Accuracy: 0.9768\n",
      "\n"
     ]
    },
    {
     "name": "stdout",
     "output_type": "stream",
     "text": [
      "Epoch 240, Loss 0.017\n",
      "Training Accuracy: 0.9807, Testing Accuracy: 0.9768\n",
      "\n"
     ]
    },
    {
     "data": {
      "text/plain": [
       "0.027091512807728656"
      ]
     },
     "execution_count": 22,
     "metadata": {},
     "output_type": "execute_result"
    }
   ],
   "source": [
    "nn_learner.train_loop(dl)"
   ]
  },
  {
   "cell_type": "code",
   "execution_count": 23,
   "id": "e0163366",
   "metadata": {
    "execution": {
     "iopub.execute_input": "2022-02-09T20:11:17.255383Z",
     "iopub.status.busy": "2022-02-09T20:11:17.254693Z",
     "iopub.status.idle": "2022-02-09T20:11:39.473170Z",
     "shell.execute_reply": "2022-02-09T20:11:39.474252Z"
    },
    "papermill": {
     "duration": 22.280458,
     "end_time": "2022-02-09T20:11:39.474453",
     "exception": false,
     "start_time": "2022-02-09T20:11:17.193995",
     "status": "completed"
    },
    "tags": []
   },
   "outputs": [
    {
     "name": "stdout",
     "output_type": "stream",
     "text": [
      "Epoch 0, Loss 0.2341\n",
      "Training Accuracy: 0.7107, Testing Accuracy: 0.7117\n",
      "\n"
     ]
    },
    {
     "name": "stdout",
     "output_type": "stream",
     "text": [
      "Epoch 10, Loss 0.1021\n",
      "Training Accuracy: 0.9125, Testing Accuracy: 0.9224\n",
      "\n"
     ]
    },
    {
     "name": "stdout",
     "output_type": "stream",
     "text": [
      "Epoch 20, Loss 0.079\n",
      "Training Accuracy: 0.9278, Testing Accuracy: 0.9380\n",
      "\n"
     ]
    },
    {
     "name": "stdout",
     "output_type": "stream",
     "text": [
      "Epoch 30, Loss 0.0683\n",
      "Training Accuracy: 0.9372, Testing Accuracy: 0.9491\n",
      "\n"
     ]
    },
    {
     "name": "stdout",
     "output_type": "stream",
     "text": [
      "Epoch 40, Loss 0.0618\n",
      "Training Accuracy: 0.9413, Testing Accuracy: 0.9526\n",
      "\n"
     ]
    },
    {
     "name": "stdout",
     "output_type": "stream",
     "text": [
      "Epoch 50, Loss 0.0574\n",
      "Training Accuracy: 0.9449, Testing Accuracy: 0.9541\n",
      "\n"
     ]
    },
    {
     "name": "stdout",
     "output_type": "stream",
     "text": [
      "Epoch 60, Loss 0.0541\n",
      "Training Accuracy: 0.9476, Testing Accuracy: 0.9572\n",
      "\n"
     ]
    },
    {
     "name": "stdout",
     "output_type": "stream",
     "text": [
      "Epoch 70, Loss 0.0516\n",
      "Training Accuracy: 0.9493, Testing Accuracy: 0.9587\n",
      "\n"
     ]
    },
    {
     "name": "stdout",
     "output_type": "stream",
     "text": [
      "Epoch 80, Loss 0.0495\n",
      "Training Accuracy: 0.9503, Testing Accuracy: 0.9592\n",
      "\n"
     ]
    },
    {
     "name": "stdout",
     "output_type": "stream",
     "text": [
      "Epoch 90, Loss 0.0478\n",
      "Training Accuracy: 0.9514, Testing Accuracy: 0.9602\n",
      "\n"
     ]
    },
    {
     "name": "stdout",
     "output_type": "stream",
     "text": [
      "Epoch 100, Loss 0.0464\n",
      "Training Accuracy: 0.9526, Testing Accuracy: 0.9617\n",
      "\n"
     ]
    },
    {
     "name": "stdout",
     "output_type": "stream",
     "text": [
      "Epoch 110, Loss 0.0452\n",
      "Training Accuracy: 0.9532, Testing Accuracy: 0.9622\n",
      "\n"
     ]
    },
    {
     "name": "stdout",
     "output_type": "stream",
     "text": [
      "Epoch 120, Loss 0.0441\n",
      "Training Accuracy: 0.9541, Testing Accuracy: 0.9637\n",
      "\n"
     ]
    },
    {
     "name": "stdout",
     "output_type": "stream",
     "text": [
      "Epoch 130, Loss 0.0432\n",
      "Training Accuracy: 0.9544, Testing Accuracy: 0.9637\n",
      "\n"
     ]
    },
    {
     "name": "stdout",
     "output_type": "stream",
     "text": [
      "Epoch 140, Loss 0.0423\n",
      "Training Accuracy: 0.9557, Testing Accuracy: 0.9642\n",
      "\n"
     ]
    },
    {
     "name": "stdout",
     "output_type": "stream",
     "text": [
      "Epoch 150, Loss 0.0416\n",
      "Training Accuracy: 0.9560, Testing Accuracy: 0.9637\n",
      "\n"
     ]
    },
    {
     "name": "stdout",
     "output_type": "stream",
     "text": [
      "Epoch 160, Loss 0.0409\n",
      "Training Accuracy: 0.9567, Testing Accuracy: 0.9642\n",
      "\n"
     ]
    },
    {
     "name": "stdout",
     "output_type": "stream",
     "text": [
      "Epoch 170, Loss 0.0403\n",
      "Training Accuracy: 0.9575, Testing Accuracy: 0.9642\n",
      "\n"
     ]
    },
    {
     "name": "stdout",
     "output_type": "stream",
     "text": [
      "Epoch 180, Loss 0.0397\n",
      "Training Accuracy: 0.9581, Testing Accuracy: 0.9642\n",
      "\n"
     ]
    },
    {
     "name": "stdout",
     "output_type": "stream",
     "text": [
      "Epoch 190, Loss 0.0392\n",
      "Training Accuracy: 0.9584, Testing Accuracy: 0.9637\n",
      "\n"
     ]
    },
    {
     "name": "stdout",
     "output_type": "stream",
     "text": [
      "Epoch 200, Loss 0.0387\n",
      "Training Accuracy: 0.9589, Testing Accuracy: 0.9642\n",
      "\n"
     ]
    },
    {
     "name": "stdout",
     "output_type": "stream",
     "text": [
      "Epoch 210, Loss 0.0382\n",
      "Training Accuracy: 0.9591, Testing Accuracy: 0.9647\n",
      "\n"
     ]
    },
    {
     "name": "stdout",
     "output_type": "stream",
     "text": [
      "Epoch 220, Loss 0.0378\n",
      "Training Accuracy: 0.9598, Testing Accuracy: 0.9652\n",
      "\n"
     ]
    },
    {
     "name": "stdout",
     "output_type": "stream",
     "text": [
      "Epoch 230, Loss 0.0374\n",
      "Training Accuracy: 0.9606, Testing Accuracy: 0.9647\n",
      "\n"
     ]
    },
    {
     "name": "stdout",
     "output_type": "stream",
     "text": [
      "Epoch 240, Loss 0.0371\n",
      "Training Accuracy: 0.9608, Testing Accuracy: 0.9647\n",
      "\n"
     ]
    },
    {
     "data": {
      "text/plain": [
       "0.047650035337498696"
      ]
     },
     "execution_count": 23,
     "metadata": {},
     "output_type": "execute_result"
    }
   ],
   "source": [
    "lr_learner.train_loop(dl)"
   ]
  },
  {
   "cell_type": "code",
   "execution_count": 24,
   "id": "ca410940",
   "metadata": {
    "execution": {
     "iopub.execute_input": "2022-02-09T20:11:39.594323Z",
     "iopub.status.busy": "2022-02-09T20:11:39.593392Z",
     "iopub.status.idle": "2022-02-09T20:11:39.923056Z",
     "shell.execute_reply": "2022-02-09T20:11:39.922472Z"
    },
    "papermill": {
     "duration": 0.393,
     "end_time": "2022-02-09T20:11:39.923207",
     "exception": false,
     "start_time": "2022-02-09T20:11:39.530207",
     "status": "completed"
    },
    "tags": []
   },
   "outputs": [
    {
     "data": {
      "text/plain": [
       "<matplotlib.legend.Legend at 0x7fe9ee30f6a0>"
      ]
     },
     "execution_count": 24,
     "metadata": {},
     "output_type": "execute_result"
    },
    {
     "data": {
      "image/png": "[encoded data removed]",
      "text/plain": [
       "<Figure size 1080x720 with 1 Axes>"
      ]
     },
     "metadata": {
      "needs_background": "light"
     },
     "output_type": "display_data"
    }
   ],
   "source": [
    "#comparing the results of NN and LR\n",
    "plt.figure(figsize=(15,10))\n",
    "\n",
    "# Neural Network plots\n",
    "plt.plot(acc_nn.accuracies, 'r-', label = \"Training Accuracies - NN\")\n",
    "plt.plot(acc_nn.test_accuracies, 'g-', label = \"Testing Accuracies - NN\")\n",
    "\n",
    "# Logistic Regression plots\n",
    "plt.plot(acc_lr.accuracies, 'k-', label = \"Training Accuracies - LR\")\n",
    "plt.plot(acc_lr.test_accuracies, 'b-', label = \"Testing Accuracies - LR\")\n",
    "plt.legend()"
   ]
  },
  {
   "cell_type": "markdown",
   "id": "80dfb35c",
   "metadata": {
    "papermill": {
     "duration": 0.058698,
     "end_time": "2022-02-09T20:11:40.041461",
     "exception": false,
     "start_time": "2022-02-09T20:11:39.982763",
     "status": "completed"
    },
    "tags": []
   },
   "source": [
    "#### Plotting the outputs of this layer of the NN.\n"
   ]
  },
  {
   "cell_type": "code",
   "execution_count": 25,
   "id": "45eb2ff5",
   "metadata": {
    "execution": {
     "iopub.execute_input": "2022-02-09T20:11:40.167089Z",
     "iopub.status.busy": "2022-02-09T20:11:40.166244Z",
     "iopub.status.idle": "2022-02-09T20:11:40.198263Z",
     "shell.execute_reply": "2022-02-09T20:11:40.199431Z"
    },
    "papermill": {
     "duration": 0.098952,
     "end_time": "2022-02-09T20:11:40.199620",
     "exception": false,
     "start_time": "2022-02-09T20:11:40.100668",
     "status": "completed"
    },
    "tags": []
   },
   "outputs": [],
   "source": [
    "new_model = Model(layers[:-2])\n",
    "testing_plot = new_model(testing_data_x)"
   ]
  },
  {
   "cell_type": "code",
   "execution_count": 26,
   "id": "4c0a5485",
   "metadata": {
    "execution": {
     "iopub.execute_input": "2022-02-09T20:11:40.328200Z",
     "iopub.status.busy": "2022-02-09T20:11:40.324711Z",
     "iopub.status.idle": "2022-02-09T20:11:40.616520Z",
     "shell.execute_reply": "2022-02-09T20:11:40.615705Z"
    },
    "papermill": {
     "duration": 0.356213,
     "end_time": "2022-02-09T20:11:40.616816",
     "exception": false,
     "start_time": "2022-02-09T20:11:40.260603",
     "status": "completed"
    },
    "tags": []
   },
   "outputs": [
    {
     "data": {
      "text/plain": [
       "Text(0.5, 1.0, 'Outputs')"
      ]
     },
     "execution_count": 26,
     "metadata": {},
     "output_type": "execute_result"
    },
    {
     "data": {
      "image/png": "[encoded data removed]",
      "text/plain": [
       "<Figure size 576x504 with 1 Axes>"
      ]
     },
     "metadata": {
      "needs_background": "light"
     },
     "output_type": "display_data"
    }
   ],
   "source": [
    "# Plotting the scatter plot of points and color coding by class\n",
    "plt.figure(figsize=(8,7))\n",
    "plt.scatter(testing_plot[:,0], testing_plot[:,1], alpha = 0.1, c = y_test.ravel());\n",
    "plt.title('Outputs')"
   ]
  },
  {
   "cell_type": "markdown",
   "id": "a74fcf8f",
   "metadata": {
    "papermill": {
     "duration": 0.059401,
     "end_time": "2022-02-09T20:11:40.739286",
     "exception": false,
     "start_time": "2022-02-09T20:11:40.679885",
     "status": "completed"
    },
    "tags": []
   },
   "source": [
    "Probability contours"
   ]
  },
  {
   "cell_type": "code",
   "execution_count": 27,
   "id": "d0afc8e3",
   "metadata": {
    "execution": {
     "iopub.execute_input": "2022-02-09T20:11:40.872876Z",
     "iopub.status.busy": "2022-02-09T20:11:40.872170Z",
     "iopub.status.idle": "2022-02-09T20:11:40.885745Z",
     "shell.execute_reply": "2022-02-09T20:11:40.885189Z"
    },
    "papermill": {
     "duration": 0.083631,
     "end_time": "2022-02-09T20:11:40.885880",
     "exception": false,
     "start_time": "2022-02-09T20:11:40.802249",
     "status": "completed"
    },
    "tags": []
   },
   "outputs": [],
   "source": [
    "model_prob = Model(layers[-2:]) "
   ]
  },
  {
   "cell_type": "code",
   "execution_count": 28,
   "id": "9b96e238",
   "metadata": {
    "execution": {
     "iopub.execute_input": "2022-02-09T20:11:41.042126Z",
     "iopub.status.busy": "2022-02-09T20:11:41.041452Z",
     "iopub.status.idle": "2022-02-09T20:11:41.056581Z",
     "shell.execute_reply": "2022-02-09T20:11:41.057144Z"
    },
    "papermill": {
     "duration": 0.083741,
     "end_time": "2022-02-09T20:11:41.057325",
     "exception": false,
     "start_time": "2022-02-09T20:11:40.973584",
     "status": "completed"
    },
    "tags": []
   },
   "outputs": [],
   "source": [
    "#creating the x and y ranges according to the above generated plot.\n",
    "x_range = np.linspace(-4, 1, 100) \n",
    "y_range = np.linspace(-6, 6, 100) \n",
    "x_grid, y_grid = np.meshgrid(x_range, y_range) # x_grid and y_grig are of size 100 X 100\n",
    "\n",
    "# converting x_grid and y_grid to continuous arrays\n",
    "x_gridflat = np.ravel(x_grid)\n",
    "y_gridflat = np.ravel(y_grid)\n",
    "\n",
    "# The last layer of the current model takes two columns as input. Hence transpose of np.vstack() is required.\n",
    "X = np.vstack((x_gridflat, y_gridflat)).T\n",
    "\n",
    "prob_contour = model_prob(X).reshape(100,100) "
   ]
  },
  {
   "cell_type": "code",
   "execution_count": 29,
   "id": "da72499a",
   "metadata": {
    "execution": {
     "iopub.execute_input": "2022-02-09T20:11:41.181299Z",
     "iopub.status.busy": "2022-02-09T20:11:41.180594Z",
     "iopub.status.idle": "2022-02-09T20:11:41.528647Z",
     "shell.execute_reply": "2022-02-09T20:11:41.527547Z"
    },
    "papermill": {
     "duration": 0.413236,
     "end_time": "2022-02-09T20:11:41.528916",
     "exception": false,
     "start_time": "2022-02-09T20:11:41.115680",
     "status": "completed"
    },
    "tags": []
   },
   "outputs": [
    {
     "data": {
      "image/png": "[encoded data removed]",
      "text/plain": [
       "<Figure size 720x648 with 1 Axes>"
      ]
     },
     "metadata": {
      "needs_background": "light"
     },
     "output_type": "display_data"
    }
   ],
   "source": [
    "plt.figure(figsize=(10,9))\n",
    "plt.scatter(testing_plot[:,0], testing_plot[:,1], alpha = 0.1, c = y_test.ravel())\n",
    "contours = plt.contour(x_grid,y_grid,prob_contour)\n",
    "plt.title('Probability Contours')\n",
    "plt.clabel(contours, inline = True );"
   ]
  },
  {
   "cell_type": "code",
   "execution_count": null,
   "id": "e81b4ac7",
   "metadata": {
    "papermill": {
     "duration": 0.066973,
     "end_time": "2022-02-09T20:11:41.664615",
     "exception": false,
     "start_time": "2022-02-09T20:11:41.597642",
     "status": "completed"
    },
    "tags": []
   },
   "outputs": [],
   "source": []
  }
 ],
 "metadata": {
  "kernelspec": {
   "display_name": "Python 3",
   "language": "python",
   "name": "python3"
  },
  "language_info": {
   "codemirror_mode": {
    "name": "ipython",
    "version": 3
   },
   "file_extension": ".py",
   "mimetype": "text/x-python",
   "name": "python",
   "nbconvert_exporter": "python",
   "pygments_lexer": "ipython3",
   "version": "3.6.15"
  },
  "papermill": {
   "default_parameters": {},
   "duration": 185.009438,
   "end_time": "2022-02-09T20:11:42.153320",
   "environment_variables": {},
   "exception": null,
   "input_path": "2020-08-11-part2.ipynb",
   "output_path": "2020-08-11-part2.ipynb",
   "parameters": {},
   "start_time": "2022-02-09T20:08:37.143882",
   "version": "2.3.3"
  }
 },
 "nbformat": 4,
 "nbformat_minor": 5
}