{
 "cells": [
  {
   "cell_type": "markdown",
   "id": "98380cd3",
   "metadata": {
    "papermill": {
     "duration": 0.028557,
     "end_time": "2022-04-22T00:38:23.953380",
     "exception": false,
     "start_time": "2022-04-22T00:38:23.924823",
     "status": "completed"
    },
    "tags": []
   },
   "source": [
    "# Distinguish Your Own Digits (DYOD)"
   ]
  },
  {
   "cell_type": "markdown",
   "id": "ef31240d",
   "metadata": {
    "papermill": {
     "duration": 0.025744,
     "end_time": "2022-04-22T00:38:24.004284",
     "exception": false,
     "start_time": "2022-04-22T00:38:23.978540",
     "status": "completed"
    },
    "tags": []
   },
   "source": [
    "You are going to write a classifier that distinguishes between the number 3 and number 8."
   ]
  },
  {
   "cell_type": "code",
   "execution_count": 1,
   "id": "b15c8646",
   "metadata": {
    "execution": {
     "iopub.execute_input": "2022-04-22T00:38:24.062952Z",
     "iopub.status.busy": "2022-04-22T00:38:24.062451Z",
     "iopub.status.idle": "2022-04-22T00:38:24.072025Z",
     "shell.execute_reply": "2022-04-22T00:38:24.072407Z"
    },
    "papermill": {
     "duration": 0.043801,
     "end_time": "2022-04-22T00:38:24.072532",
     "exception": false,
     "start_time": "2022-04-22T00:38:24.028731",
     "status": "completed"
    },
    "tags": []
   },
   "outputs": [],
   "source": [
    "%load_ext autoreload\n",
    "%autoreload 2"
   ]
  },
  {
   "cell_type": "code",
   "execution_count": 2,
   "id": "22ef38dc",
   "metadata": {
    "execution": {
     "iopub.execute_input": "2022-04-22T00:38:24.125818Z",
     "iopub.status.busy": "2022-04-22T00:38:24.124852Z",
     "iopub.status.idle": "2022-04-22T00:38:24.616413Z",
     "shell.execute_reply": "2022-04-22T00:38:24.615963Z"
    },
    "papermill": {
     "duration": 0.519061,
     "end_time": "2022-04-22T00:38:24.616527",
     "exception": false,
     "start_time": "2022-04-22T00:38:24.097466",
     "status": "completed"
    },
    "tags": []
   },
   "outputs": [],
   "source": [
    "%matplotlib inline\n",
    "import numpy as np\n",
    "import matplotlib.pyplot as plt\n",
    "import pandas as pd"
   ]
  },
  {
   "cell_type": "markdown",
   "id": "ba036198",
   "metadata": {
    "papermill": {
     "duration": 0.02474,
     "end_time": "2022-04-22T00:38:24.666155",
     "exception": false,
     "start_time": "2022-04-22T00:38:24.641415",
     "status": "completed"
    },
    "tags": []
   },
   "source": [
    "From the command line run `pip install mnist`. This is a library that will help you bring down the mnist dataset. If you run this from a notebook, you need to put  `!pip install mnist` in a cell by itself."
   ]
  },
  {
   "cell_type": "code",
   "execution_count": 3,
   "id": "bb6ad8a1",
   "metadata": {
    "execution": {
     "iopub.execute_input": "2022-04-22T00:38:24.719047Z",
     "iopub.status.busy": "2022-04-22T00:38:24.718564Z",
     "iopub.status.idle": "2022-04-22T00:38:26.290324Z",
     "shell.execute_reply": "2022-04-22T00:38:26.289888Z"
    },
    "papermill": {
     "duration": 1.599518,
     "end_time": "2022-04-22T00:38:26.290439",
     "exception": false,
     "start_time": "2022-04-22T00:38:24.690921",
     "status": "completed"
    },
    "tags": []
   },
   "outputs": [
    {
     "name": "stdout",
     "output_type": "stream",
     "text": [
      "Collecting mnist\r\n",
      "  Downloading mnist-0.2.2-py2.py3-none-any.whl (3.5 kB)\r\n",
      "Requirement already satisfied: numpy in /opt/hostedtoolcache/Python/3.6.15/x64/lib/python3.6/site-packages (from mnist) (1.19.5)\r\n"
     ]
    },
    {
     "name": "stdout",
     "output_type": "stream",
     "text": [
      "Installing collected packages: mnist\r\n"
     ]
    },
    {
     "name": "stdout",
     "output_type": "stream",
     "text": [
      "Successfully installed mnist-0.2.2\r\n"
     ]
    }
   ],
   "source": [
    "!pip install mnist"
   ]
  },
  {
   "cell_type": "markdown",
   "id": "69df9c9a",
   "metadata": {
    "papermill": {
     "duration": 0.025697,
     "end_time": "2022-04-22T00:38:26.342210",
     "exception": false,
     "start_time": "2022-04-22T00:38:26.316513",
     "status": "completed"
    },
    "tags": []
   },
   "source": [
    "## Preparing the Data"
   ]
  },
  {
   "cell_type": "code",
   "execution_count": 4,
   "id": "7f69d806",
   "metadata": {
    "execution": {
     "iopub.execute_input": "2022-04-22T00:38:26.422841Z",
     "iopub.status.busy": "2022-04-22T00:38:26.422351Z",
     "iopub.status.idle": "2022-04-22T00:38:26.426711Z",
     "shell.execute_reply": "2022-04-22T00:38:26.426326Z"
    },
    "papermill": {
     "duration": 0.059054,
     "end_time": "2022-04-22T00:38:26.426810",
     "exception": false,
     "start_time": "2022-04-22T00:38:26.367756",
     "status": "completed"
    },
    "tags": []
   },
   "outputs": [],
   "source": [
    "import mnist"
   ]
  },
  {
   "cell_type": "code",
   "execution_count": 5,
   "id": "a411e44f",
   "metadata": {
    "execution": {
     "iopub.execute_input": "2022-04-22T00:38:26.481138Z",
     "iopub.status.busy": "2022-04-22T00:38:26.480640Z",
     "iopub.status.idle": "2022-04-22T00:38:26.993162Z",
     "shell.execute_reply": "2022-04-22T00:38:26.992697Z"
    },
    "papermill": {
     "duration": 0.540687,
     "end_time": "2022-04-22T00:38:26.993273",
     "exception": false,
     "start_time": "2022-04-22T00:38:26.452586",
     "status": "completed"
    },
    "tags": []
   },
   "outputs": [],
   "source": [
    "train_images = mnist.train_images()\n",
    "train_labels = mnist.train_labels()"
   ]
  },
  {
   "cell_type": "code",
   "execution_count": 6,
   "id": "dceab3a5",
   "metadata": {
    "execution": {
     "iopub.execute_input": "2022-04-22T00:38:27.049541Z",
     "iopub.status.busy": "2022-04-22T00:38:27.049045Z",
     "iopub.status.idle": "2022-04-22T00:38:27.062031Z",
     "shell.execute_reply": "2022-04-22T00:38:27.062475Z"
    },
    "papermill": {
     "duration": 0.043484,
     "end_time": "2022-04-22T00:38:27.062585",
     "exception": false,
     "start_time": "2022-04-22T00:38:27.019101",
     "status": "completed"
    },
    "tags": []
   },
   "outputs": [
    {
     "data": {
      "text/plain": [
       "((60000, 28, 28), (60000,))"
      ]
     },
     "execution_count": 6,
     "metadata": {},
     "output_type": "execute_result"
    }
   ],
   "source": [
    "train_images.shape, train_labels.shape"
   ]
  },
  {
   "cell_type": "code",
   "execution_count": 7,
   "id": "f50dc2bb",
   "metadata": {
    "execution": {
     "iopub.execute_input": "2022-04-22T00:38:27.117706Z",
     "iopub.status.busy": "2022-04-22T00:38:27.117207Z",
     "iopub.status.idle": "2022-04-22T00:38:27.225938Z",
     "shell.execute_reply": "2022-04-22T00:38:27.225489Z"
    },
    "papermill": {
     "duration": 0.137566,
     "end_time": "2022-04-22T00:38:27.226044",
     "exception": false,
     "start_time": "2022-04-22T00:38:27.088478",
     "status": "completed"
    },
    "tags": []
   },
   "outputs": [],
   "source": [
    "test_images = mnist.test_images()\n",
    "test_labels = mnist.test_labels()"
   ]
  },
  {
   "cell_type": "code",
   "execution_count": 8,
   "id": "fc38cf1b",
   "metadata": {
    "execution": {
     "iopub.execute_input": "2022-04-22T00:38:27.282409Z",
     "iopub.status.busy": "2022-04-22T00:38:27.281918Z",
     "iopub.status.idle": "2022-04-22T00:38:27.293923Z",
     "shell.execute_reply": "2022-04-22T00:38:27.293522Z"
    },
    "papermill": {
     "duration": 0.041613,
     "end_time": "2022-04-22T00:38:27.294024",
     "exception": false,
     "start_time": "2022-04-22T00:38:27.252411",
     "status": "completed"
    },
    "tags": []
   },
   "outputs": [
    {
     "data": {
      "text/plain": [
       "((10000, 28, 28), (10000,))"
      ]
     },
     "execution_count": 8,
     "metadata": {},
     "output_type": "execute_result"
    }
   ],
   "source": [
    "test_images.shape, test_labels.shape"
   ]
  },
  {
   "cell_type": "code",
   "execution_count": 9,
   "id": "f9ed8fe0",
   "metadata": {
    "execution": {
     "iopub.execute_input": "2022-04-22T00:38:27.349395Z",
     "iopub.status.busy": "2022-04-22T00:38:27.348910Z",
     "iopub.status.idle": "2022-04-22T00:38:27.480574Z",
     "shell.execute_reply": "2022-04-22T00:38:27.480980Z"
    },
    "papermill": {
     "duration": 0.160889,
     "end_time": "2022-04-22T00:38:27.481101",
     "exception": false,
     "start_time": "2022-04-22T00:38:27.320212",
     "status": "completed"
    },
    "tags": []
   },
   "outputs": [
    {
     "name": "stdout",
     "output_type": "stream",
     "text": [
      "2\n"
     ]
    },
    {
     "data": {
      "text/plain": [
       "<matplotlib.image.AxesImage at 0x7f7aa09577f0>"
      ]
     },
     "execution_count": 9,
     "metadata": {},
     "output_type": "execute_result"
    },
    {
     "data": {
      "image/png": "[encoded data removed]",
      "text/plain": [
       "<Figure size 432x288 with 1 Axes>"
      ]
     },
     "metadata": {
      "needs_background": "light"
     },
     "output_type": "display_data"
    }
   ],
   "source": [
    "image_index = 7776 # You may select anything up to 60,000\n",
    "print(train_labels[image_index]) \n",
    "plt.imshow(train_images[image_index], cmap='Greys')"
   ]
  },
  {
   "cell_type": "markdown",
   "id": "a8d2388d",
   "metadata": {
    "papermill": {
     "duration": 0.027452,
     "end_time": "2022-04-22T00:38:27.535903",
     "exception": false,
     "start_time": "2022-04-22T00:38:27.508451",
     "status": "completed"
    },
    "tags": []
   },
   "source": [
    "## Filter data to get 3 and 8 out"
   ]
  },
  {
   "cell_type": "code",
   "execution_count": 10,
   "id": "776f7fc7",
   "metadata": {
    "execution": {
     "iopub.execute_input": "2022-04-22T00:38:27.593773Z",
     "iopub.status.busy": "2022-04-22T00:38:27.593276Z",
     "iopub.status.idle": "2022-04-22T00:38:27.609106Z",
     "shell.execute_reply": "2022-04-22T00:38:27.608717Z"
    },
    "papermill": {
     "duration": 0.046075,
     "end_time": "2022-04-22T00:38:27.609204",
     "exception": false,
     "start_time": "2022-04-22T00:38:27.563129",
     "status": "completed"
    },
    "tags": []
   },
   "outputs": [],
   "source": [
    "train_filter = np.where((train_labels == 3 ) | (train_labels == 8))\n",
    "test_filter = np.where((test_labels == 3) | (test_labels == 8))\n",
    "X_train, y_train = train_images[train_filter], train_labels[train_filter]\n",
    "X_test, y_test = test_images[test_filter], test_labels[test_filter]"
   ]
  },
  {
   "cell_type": "markdown",
   "id": "948f0b7e",
   "metadata": {
    "papermill": {
     "duration": 0.027034,
     "end_time": "2022-04-22T00:38:27.663569",
     "exception": false,
     "start_time": "2022-04-22T00:38:27.636535",
     "status": "completed"
    },
    "tags": []
   },
   "source": [
    "We normalize the pizel values in the 0 to 1 range"
   ]
  },
  {
   "cell_type": "code",
   "execution_count": 11,
   "id": "ee4c2166",
   "metadata": {
    "execution": {
     "iopub.execute_input": "2022-04-22T00:38:27.720999Z",
     "iopub.status.busy": "2022-04-22T00:38:27.720501Z",
     "iopub.status.idle": "2022-04-22T00:38:27.758850Z",
     "shell.execute_reply": "2022-04-22T00:38:27.758425Z"
    },
    "papermill": {
     "duration": 0.068234,
     "end_time": "2022-04-22T00:38:27.758954",
     "exception": false,
     "start_time": "2022-04-22T00:38:27.690720",
     "status": "completed"
    },
    "tags": []
   },
   "outputs": [],
   "source": [
    "X_train = X_train/255.\n",
    "X_test = X_test/255."
   ]
  },
  {
   "cell_type": "markdown",
   "id": "ddcf4fab",
   "metadata": {
    "papermill": {
     "duration": 0.02713,
     "end_time": "2022-04-22T00:38:27.813612",
     "exception": false,
     "start_time": "2022-04-22T00:38:27.786482",
     "status": "completed"
    },
    "tags": []
   },
   "source": [
    "And setup the labels as 1 (when the digit is 3) and 0 (when the digit is 8)"
   ]
  },
  {
   "cell_type": "code",
   "execution_count": 12,
   "id": "7dc908f2",
   "metadata": {
    "execution": {
     "iopub.execute_input": "2022-04-22T00:38:27.871371Z",
     "iopub.status.busy": "2022-04-22T00:38:27.870866Z",
     "iopub.status.idle": "2022-04-22T00:38:27.881973Z",
     "shell.execute_reply": "2022-04-22T00:38:27.881582Z"
    },
    "papermill": {
     "duration": 0.041322,
     "end_time": "2022-04-22T00:38:27.882073",
     "exception": false,
     "start_time": "2022-04-22T00:38:27.840751",
     "status": "completed"
    },
    "tags": []
   },
   "outputs": [],
   "source": [
    "y_train = 1*(y_train==3)\n",
    "y_test = 1*(y_test==3)"
   ]
  },
  {
   "cell_type": "code",
   "execution_count": 13,
   "id": "01e4e969",
   "metadata": {
    "execution": {
     "iopub.execute_input": "2022-04-22T00:38:27.939414Z",
     "iopub.status.busy": "2022-04-22T00:38:27.938933Z",
     "iopub.status.idle": "2022-04-22T00:38:27.951257Z",
     "shell.execute_reply": "2022-04-22T00:38:27.950852Z"
    },
    "papermill": {
     "duration": 0.041931,
     "end_time": "2022-04-22T00:38:27.951358",
     "exception": false,
     "start_time": "2022-04-22T00:38:27.909427",
     "status": "completed"
    },
    "tags": []
   },
   "outputs": [
    {
     "data": {
      "text/plain": [
       "((11982, 28, 28), (1984, 28, 28))"
      ]
     },
     "execution_count": 13,
     "metadata": {},
     "output_type": "execute_result"
    }
   ],
   "source": [
    "X_train.shape, X_test.shape"
   ]
  },
  {
   "cell_type": "markdown",
   "id": "5ccf3f85",
   "metadata": {
    "papermill": {
     "duration": 0.027333,
     "end_time": "2022-04-22T00:38:28.006291",
     "exception": false,
     "start_time": "2022-04-22T00:38:27.978958",
     "status": "completed"
    },
    "tags": []
   },
   "source": [
    "We reshape the data to flatten the image pixels into a set of features or co-variates:"
   ]
  },
  {
   "cell_type": "code",
   "execution_count": 14,
   "id": "5286a4a3",
   "metadata": {
    "execution": {
     "iopub.execute_input": "2022-04-22T00:38:28.066041Z",
     "iopub.status.busy": "2022-04-22T00:38:28.065551Z",
     "iopub.status.idle": "2022-04-22T00:38:28.078186Z",
     "shell.execute_reply": "2022-04-22T00:38:28.077792Z"
    },
    "papermill": {
     "duration": 0.044491,
     "end_time": "2022-04-22T00:38:28.078286",
     "exception": false,
     "start_time": "2022-04-22T00:38:28.033795",
     "status": "completed"
    },
    "tags": []
   },
   "outputs": [
    {
     "data": {
      "text/plain": [
       "((11982, 784), (1984, 784))"
      ]
     },
     "execution_count": 14,
     "metadata": {},
     "output_type": "execute_result"
    }
   ],
   "source": [
    "X_train = X_train.reshape(X_train.shape[0], -1)\n",
    "X_test = X_test.reshape(X_test.shape[0], -1)\n",
    "X_train.shape, X_test.shape"
   ]
  },
  {
   "cell_type": "code",
   "execution_count": 15,
   "id": "73c5f88a",
   "metadata": {
    "execution": {
     "iopub.execute_input": "2022-04-22T00:38:28.137469Z",
     "iopub.status.busy": "2022-04-22T00:38:28.136983Z",
     "iopub.status.idle": "2022-04-22T00:38:28.154112Z",
     "shell.execute_reply": "2022-04-22T00:38:28.153717Z"
    },
    "papermill": {
     "duration": 0.048142,
     "end_time": "2022-04-22T00:38:28.154211",
     "exception": false,
     "start_time": "2022-04-22T00:38:28.106069",
     "status": "completed"
    },
    "tags": []
   },
   "outputs": [],
   "source": [
    "#Impoting functions from 'Kudzu'\n",
    "from kudzu.model import Model\n",
    "from kudzu.train import Learner\n",
    "from kudzu.optim import GD\n",
    "from kudzu.data import Data, Sampler,Dataloader\n",
    "\n",
    "from kudzu.callbacks import AccCallback\n",
    "from kudzu.callbacks import ClfCallback\n",
    "\n",
    "from kudzu.loss import MSE\n",
    "\n",
    "from kudzu.layer import Sigmoid,Relu\n",
    "from kudzu.layer import Affine"
   ]
  },
  {
   "cell_type": "markdown",
   "id": "bc01172a",
   "metadata": {
    "papermill": {
     "duration": 0.027648,
     "end_time": "2022-04-22T00:38:28.209719",
     "exception": false,
     "start_time": "2022-04-22T00:38:28.182071",
     "status": "completed"
    },
    "tags": []
   },
   "source": [
    "### Let us create a `Config` class, to store important parameters. \n",
    "This class essentially plays the role of a dictionary."
   ]
  },
  {
   "cell_type": "code",
   "execution_count": 16,
   "id": "978281aa",
   "metadata": {
    "execution": {
     "iopub.execute_input": "2022-04-22T00:38:28.268527Z",
     "iopub.status.busy": "2022-04-22T00:38:28.268023Z",
     "iopub.status.idle": "2022-04-22T00:38:28.279266Z",
     "shell.execute_reply": "2022-04-22T00:38:28.278868Z"
    },
    "papermill": {
     "duration": 0.042034,
     "end_time": "2022-04-22T00:38:28.279366",
     "exception": false,
     "start_time": "2022-04-22T00:38:28.237332",
     "status": "completed"
    },
    "tags": []
   },
   "outputs": [],
   "source": [
    "class Config:\n",
    "    pass\n",
    "config = Config()\n",
    "config.lr = 0.001\n",
    "config.num_epochs = 250\n",
    "config.bs = 50"
   ]
  },
  {
   "cell_type": "markdown",
   "id": "1385fa59",
   "metadata": {
    "papermill": {
     "duration": 0.027676,
     "end_time": "2022-04-22T00:38:28.334865",
     "exception": false,
     "start_time": "2022-04-22T00:38:28.307189",
     "status": "completed"
    },
    "tags": []
   },
   "source": [
    "### Running Models with the Training data\n",
    "Details about the network layers:\n",
    "- A first affine layer has 784 inputs and does 100 affine transforms. These are followed by a Relu\n",
    "- A second affine layer has 100 inputs from the 100 activations of the past layer, and does 100 affine transforms. These are followed by a Relu\n",
    "- A third affine layer has 100 activations and does 2 affine transformations to create an embedding for visualization. There is no non-linearity here.\n",
    "- A final \"logistic regression\" which has an affine transform from 2 inputs to 1 output, which is squeezed through a sigmoid.\n"
   ]
  },
  {
   "cell_type": "code",
   "execution_count": 17,
   "id": "2b9c66db",
   "metadata": {
    "execution": {
     "iopub.execute_input": "2022-04-22T00:38:28.393585Z",
     "iopub.status.busy": "2022-04-22T00:38:28.393097Z",
     "iopub.status.idle": "2022-04-22T00:38:28.404534Z",
     "shell.execute_reply": "2022-04-22T00:38:28.404134Z"
    },
    "papermill": {
     "duration": 0.041982,
     "end_time": "2022-04-22T00:38:28.404634",
     "exception": false,
     "start_time": "2022-04-22T00:38:28.362652",
     "status": "completed"
    },
    "tags": []
   },
   "outputs": [],
   "source": [
    "data = Data(X_train, y_train.reshape(-1,1))\n",
    "sampler = Sampler(data, config.bs, shuffle=True)\n",
    "\n",
    "dl = Dataloader(data, sampler)\n",
    "\n",
    "opt = GD(config.lr)\n",
    "loss = MSE()"
   ]
  },
  {
   "cell_type": "code",
   "execution_count": 18,
   "id": "b275e4c2",
   "metadata": {
    "execution": {
     "iopub.execute_input": "2022-04-22T00:38:28.463166Z",
     "iopub.status.busy": "2022-04-22T00:38:28.462658Z",
     "iopub.status.idle": "2022-04-22T00:38:28.473705Z",
     "shell.execute_reply": "2022-04-22T00:38:28.474081Z"
    },
    "papermill": {
     "duration": 0.041809,
     "end_time": "2022-04-22T00:38:28.474194",
     "exception": false,
     "start_time": "2022-04-22T00:38:28.432385",
     "status": "completed"
    },
    "tags": []
   },
   "outputs": [],
   "source": [
    "training_data_x = X_train\n",
    "testing_data_x = X_test\n",
    "training_data_y = y_train.reshape(-1,1)\n",
    "testing_data_y = y_test.reshape(-1,1)"
   ]
  },
  {
   "cell_type": "code",
   "execution_count": 19,
   "id": "76951160",
   "metadata": {
    "execution": {
     "iopub.execute_input": "2022-04-22T00:38:28.533127Z",
     "iopub.status.busy": "2022-04-22T00:38:28.532634Z",
     "iopub.status.idle": "2022-04-22T00:38:28.547384Z",
     "shell.execute_reply": "2022-04-22T00:38:28.546968Z"
    },
    "papermill": {
     "duration": 0.045633,
     "end_time": "2022-04-22T00:38:28.547477",
     "exception": false,
     "start_time": "2022-04-22T00:38:28.501844",
     "status": "completed"
    },
    "tags": []
   },
   "outputs": [
    {
     "name": "stdout",
     "output_type": "stream",
     "text": [
      "xavier\n",
      "xavier\n",
      "xavier\n",
      "xavier\n",
      "xavier\n"
     ]
    }
   ],
   "source": [
    "layers = [Affine(\"first\", 784, 100), Relu(\"first\"), Affine(\"second\", 100, 100), Relu(\"second\"), Affine(\"third\", 100, 2), Affine(\"last\", 2, 1), Sigmoid(\"last\")]\n",
    "model_nn = Model(layers)\n",
    "model_lr = Model([Affine(\"logits\", 784, 1), Sigmoid(\"sigmoid\")])"
   ]
  },
  {
   "cell_type": "code",
   "execution_count": 20,
   "id": "6eede77a",
   "metadata": {
    "execution": {
     "iopub.execute_input": "2022-04-22T00:38:28.606757Z",
     "iopub.status.busy": "2022-04-22T00:38:28.606260Z",
     "iopub.status.idle": "2022-04-22T00:38:28.616686Z",
     "shell.execute_reply": "2022-04-22T00:38:28.616298Z"
    },
    "papermill": {
     "duration": 0.041211,
     "end_time": "2022-04-22T00:38:28.616782",
     "exception": false,
     "start_time": "2022-04-22T00:38:28.575571",
     "status": "completed"
    },
    "tags": []
   },
   "outputs": [],
   "source": [
    "nn_learner = Learner(loss, model_nn, opt, config.num_epochs)\n",
    "acc_nn = ClfCallback(nn_learner, config.bs, training_data_x , testing_data_x, training_data_y, testing_data_y)\n",
    "nn_learner.set_callbacks([acc_nn])"
   ]
  },
  {
   "cell_type": "code",
   "execution_count": 21,
   "id": "877b6cc7",
   "metadata": {
    "execution": {
     "iopub.execute_input": "2022-04-22T00:38:28.676107Z",
     "iopub.status.busy": "2022-04-22T00:38:28.675618Z",
     "iopub.status.idle": "2022-04-22T00:38:28.685783Z",
     "shell.execute_reply": "2022-04-22T00:38:28.686185Z"
    },
    "papermill": {
     "duration": 0.041417,
     "end_time": "2022-04-22T00:38:28.686293",
     "exception": false,
     "start_time": "2022-04-22T00:38:28.644876",
     "status": "completed"
    },
    "tags": []
   },
   "outputs": [],
   "source": [
    "lr_learner = Learner(loss, model_lr, opt, config.num_epochs)\n",
    "acc_lr = ClfCallback(lr_learner, config.bs, training_data_x , testing_data_x, training_data_y, testing_data_y)\n",
    "lr_learner.set_callbacks([acc_lr])"
   ]
  },
  {
   "cell_type": "code",
   "execution_count": 22,
   "id": "d9b133c3",
   "metadata": {
    "execution": {
     "iopub.execute_input": "2022-04-22T00:38:28.745156Z",
     "iopub.status.busy": "2022-04-22T00:38:28.744666Z",
     "iopub.status.idle": "2022-04-22T00:41:23.320470Z",
     "shell.execute_reply": "2022-04-22T00:41:23.320884Z"
    },
    "papermill": {
     "duration": 174.606616,
     "end_time": "2022-04-22T00:41:23.321011",
     "exception": false,
     "start_time": "2022-04-22T00:38:28.714395",
     "status": "completed"
    },
    "tags": []
   },
   "outputs": [
    {
     "name": "stdout",
     "output_type": "stream",
     "text": [
      "Epoch 0, Loss 0.2515\n",
      "Training Accuracy: 0.5506, Testing Accuracy: 0.5650\n",
      "\n"
     ]
    },
    {
     "name": "stdout",
     "output_type": "stream",
     "text": [
      "Epoch 10, Loss 0.1304\n",
      "Training Accuracy: 0.9060, Testing Accuracy: 0.9133\n",
      "\n"
     ]
    },
    {
     "name": "stdout",
     "output_type": "stream",
     "text": [
      "Epoch 20, Loss 0.0696\n",
      "Training Accuracy: 0.9293, Testing Accuracy: 0.9430\n",
      "\n"
     ]
    },
    {
     "name": "stdout",
     "output_type": "stream",
     "text": [
      "Epoch 30, Loss 0.0514\n",
      "Training Accuracy: 0.9421, Testing Accuracy: 0.9531\n",
      "\n"
     ]
    },
    {
     "name": "stdout",
     "output_type": "stream",
     "text": [
      "Epoch 40, Loss 0.0431\n",
      "Training Accuracy: 0.9508, Testing Accuracy: 0.9607\n",
      "\n"
     ]
    },
    {
     "name": "stdout",
     "output_type": "stream",
     "text": [
      "Epoch 50, Loss 0.0383\n",
      "Training Accuracy: 0.9559, Testing Accuracy: 0.9627\n",
      "\n"
     ]
    },
    {
     "name": "stdout",
     "output_type": "stream",
     "text": [
      "Epoch 60, Loss 0.0352\n",
      "Training Accuracy: 0.9586, Testing Accuracy: 0.9642\n",
      "\n"
     ]
    },
    {
     "name": "stdout",
     "output_type": "stream",
     "text": [
      "Epoch 70, Loss 0.0329\n",
      "Training Accuracy: 0.9616, Testing Accuracy: 0.9662\n",
      "\n"
     ]
    },
    {
     "name": "stdout",
     "output_type": "stream",
     "text": [
      "Epoch 80, Loss 0.0311\n",
      "Training Accuracy: 0.9639, Testing Accuracy: 0.9667\n",
      "\n"
     ]
    },
    {
     "name": "stdout",
     "output_type": "stream",
     "text": [
      "Epoch 90, Loss 0.0297\n",
      "Training Accuracy: 0.9658, Testing Accuracy: 0.9667\n",
      "\n"
     ]
    },
    {
     "name": "stdout",
     "output_type": "stream",
     "text": [
      "Epoch 100, Loss 0.0284\n",
      "Training Accuracy: 0.9673, Testing Accuracy: 0.9672\n",
      "\n"
     ]
    },
    {
     "name": "stdout",
     "output_type": "stream",
     "text": [
      "Epoch 110, Loss 0.0274\n",
      "Training Accuracy: 0.9691, Testing Accuracy: 0.9682\n",
      "\n"
     ]
    },
    {
     "name": "stdout",
     "output_type": "stream",
     "text": [
      "Epoch 120, Loss 0.0265\n",
      "Training Accuracy: 0.9704, Testing Accuracy: 0.9693\n",
      "\n"
     ]
    },
    {
     "name": "stdout",
     "output_type": "stream",
     "text": [
      "Epoch 130, Loss 0.0257\n",
      "Training Accuracy: 0.9712, Testing Accuracy: 0.9698\n",
      "\n"
     ]
    },
    {
     "name": "stdout",
     "output_type": "stream",
     "text": [
      "Epoch 140, Loss 0.0249\n",
      "Training Accuracy: 0.9717, Testing Accuracy: 0.9713\n",
      "\n"
     ]
    },
    {
     "name": "stdout",
     "output_type": "stream",
     "text": [
      "Epoch 150, Loss 0.0243\n",
      "Training Accuracy: 0.9727, Testing Accuracy: 0.9718\n",
      "\n"
     ]
    },
    {
     "name": "stdout",
     "output_type": "stream",
     "text": [
      "Epoch 160, Loss 0.0237\n",
      "Training Accuracy: 0.9735, Testing Accuracy: 0.9713\n",
      "\n"
     ]
    },
    {
     "name": "stdout",
     "output_type": "stream",
     "text": [
      "Epoch 170, Loss 0.0231\n",
      "Training Accuracy: 0.9745, Testing Accuracy: 0.9718\n",
      "\n"
     ]
    },
    {
     "name": "stdout",
     "output_type": "stream",
     "text": [
      "Epoch 180, Loss 0.0226\n",
      "Training Accuracy: 0.9750, Testing Accuracy: 0.9723\n",
      "\n"
     ]
    },
    {
     "name": "stdout",
     "output_type": "stream",
     "text": [
      "Epoch 190, Loss 0.0221\n",
      "Training Accuracy: 0.9755, Testing Accuracy: 0.9723\n",
      "\n"
     ]
    },
    {
     "name": "stdout",
     "output_type": "stream",
     "text": [
      "Epoch 200, Loss 0.0216\n",
      "Training Accuracy: 0.9759, Testing Accuracy: 0.9728\n",
      "\n"
     ]
    },
    {
     "name": "stdout",
     "output_type": "stream",
     "text": [
      "Epoch 210, Loss 0.0212\n",
      "Training Accuracy: 0.9765, Testing Accuracy: 0.9728\n",
      "\n"
     ]
    },
    {
     "name": "stdout",
     "output_type": "stream",
     "text": [
      "Epoch 220, Loss 0.0207\n",
      "Training Accuracy: 0.9767, Testing Accuracy: 0.9723\n",
      "\n"
     ]
    },
    {
     "name": "stdout",
     "output_type": "stream",
     "text": [
      "Epoch 230, Loss 0.0203\n",
      "Training Accuracy: 0.9770, Testing Accuracy: 0.9753\n",
      "\n"
     ]
    },
    {
     "name": "stdout",
     "output_type": "stream",
     "text": [
      "Epoch 240, Loss 0.02\n",
      "Training Accuracy: 0.9775, Testing Accuracy: 0.9753\n",
      "\n"
     ]
    },
    {
     "data": {
      "text/plain": [
       "0.02333971088430668"
      ]
     },
     "execution_count": 22,
     "metadata": {},
     "output_type": "execute_result"
    }
   ],
   "source": [
    "nn_learner.train_loop(dl)"
   ]
  },
  {
   "cell_type": "code",
   "execution_count": 23,
   "id": "e0163366",
   "metadata": {
    "execution": {
     "iopub.execute_input": "2022-04-22T00:41:23.394819Z",
     "iopub.status.busy": "2022-04-22T00:41:23.394316Z",
     "iopub.status.idle": "2022-04-22T00:41:35.611992Z",
     "shell.execute_reply": "2022-04-22T00:41:35.612681Z"
    },
    "papermill": {
     "duration": 12.25655,
     "end_time": "2022-04-22T00:41:35.612819",
     "exception": false,
     "start_time": "2022-04-22T00:41:23.356269",
     "status": "completed"
    },
    "tags": []
   },
   "outputs": [
    {
     "name": "stdout",
     "output_type": "stream",
     "text": [
      "Epoch 0, Loss 0.2156\n",
      "Training Accuracy: 0.7628, Testing Accuracy: 0.7485\n",
      "\n"
     ]
    },
    {
     "name": "stdout",
     "output_type": "stream",
     "text": [
      "Epoch 10, Loss 0.1015\n",
      "Training Accuracy: 0.9104, Testing Accuracy: 0.9168\n",
      "\n"
     ]
    },
    {
     "name": "stdout",
     "output_type": "stream",
     "text": [
      "Epoch 20, Loss 0.0784\n",
      "Training Accuracy: 0.9277, Testing Accuracy: 0.9380\n",
      "\n"
     ]
    },
    {
     "name": "stdout",
     "output_type": "stream",
     "text": [
      "Epoch 30, Loss 0.0676\n",
      "Training Accuracy: 0.9368, Testing Accuracy: 0.9481\n",
      "\n"
     ]
    },
    {
     "name": "stdout",
     "output_type": "stream",
     "text": [
      "Epoch 40, Loss 0.0611\n",
      "Training Accuracy: 0.9412, Testing Accuracy: 0.9511\n",
      "\n"
     ]
    },
    {
     "name": "stdout",
     "output_type": "stream",
     "text": [
      "Epoch 50, Loss 0.0567\n",
      "Training Accuracy: 0.9454, Testing Accuracy: 0.9556\n",
      "\n"
     ]
    },
    {
     "name": "stdout",
     "output_type": "stream",
     "text": [
      "Epoch 60, Loss 0.0534\n",
      "Training Accuracy: 0.9469, Testing Accuracy: 0.9582\n",
      "\n"
     ]
    },
    {
     "name": "stdout",
     "output_type": "stream",
     "text": [
      "Epoch 70, Loss 0.0509\n",
      "Training Accuracy: 0.9496, Testing Accuracy: 0.9617\n",
      "\n"
     ]
    },
    {
     "name": "stdout",
     "output_type": "stream",
     "text": [
      "Epoch 80, Loss 0.0489\n",
      "Training Accuracy: 0.9512, Testing Accuracy: 0.9637\n",
      "\n"
     ]
    },
    {
     "name": "stdout",
     "output_type": "stream",
     "text": [
      "Epoch 90, Loss 0.0473\n",
      "Training Accuracy: 0.9523, Testing Accuracy: 0.9632\n",
      "\n"
     ]
    },
    {
     "name": "stdout",
     "output_type": "stream",
     "text": [
      "Epoch 100, Loss 0.0459\n",
      "Training Accuracy: 0.9538, Testing Accuracy: 0.9657\n",
      "\n"
     ]
    },
    {
     "name": "stdout",
     "output_type": "stream",
     "text": [
      "Epoch 110, Loss 0.0447\n",
      "Training Accuracy: 0.9548, Testing Accuracy: 0.9662\n",
      "\n"
     ]
    },
    {
     "name": "stdout",
     "output_type": "stream",
     "text": [
      "Epoch 120, Loss 0.0437\n",
      "Training Accuracy: 0.9553, Testing Accuracy: 0.9667\n",
      "\n"
     ]
    },
    {
     "name": "stdout",
     "output_type": "stream",
     "text": [
      "Epoch 130, Loss 0.0428\n",
      "Training Accuracy: 0.9561, Testing Accuracy: 0.9662\n",
      "\n"
     ]
    },
    {
     "name": "stdout",
     "output_type": "stream",
     "text": [
      "Epoch 140, Loss 0.042\n",
      "Training Accuracy: 0.9564, Testing Accuracy: 0.9667\n",
      "\n"
     ]
    },
    {
     "name": "stdout",
     "output_type": "stream",
     "text": [
      "Epoch 150, Loss 0.0412\n",
      "Training Accuracy: 0.9569, Testing Accuracy: 0.9672\n",
      "\n"
     ]
    },
    {
     "name": "stdout",
     "output_type": "stream",
     "text": [
      "Epoch 160, Loss 0.0406\n",
      "Training Accuracy: 0.9574, Testing Accuracy: 0.9672\n",
      "\n"
     ]
    },
    {
     "name": "stdout",
     "output_type": "stream",
     "text": [
      "Epoch 170, Loss 0.04\n",
      "Training Accuracy: 0.9578, Testing Accuracy: 0.9682\n",
      "\n"
     ]
    },
    {
     "name": "stdout",
     "output_type": "stream",
     "text": [
      "Epoch 180, Loss 0.0394\n",
      "Training Accuracy: 0.9580, Testing Accuracy: 0.9682\n",
      "\n"
     ]
    },
    {
     "name": "stdout",
     "output_type": "stream",
     "text": [
      "Epoch 190, Loss 0.0389\n",
      "Training Accuracy: 0.9584, Testing Accuracy: 0.9677\n",
      "\n"
     ]
    },
    {
     "name": "stdout",
     "output_type": "stream",
     "text": [
      "Epoch 200, Loss 0.0385\n",
      "Training Accuracy: 0.9586, Testing Accuracy: 0.9677\n",
      "\n"
     ]
    },
    {
     "name": "stdout",
     "output_type": "stream",
     "text": [
      "Epoch 210, Loss 0.038\n",
      "Training Accuracy: 0.9588, Testing Accuracy: 0.9677\n",
      "\n"
     ]
    },
    {
     "name": "stdout",
     "output_type": "stream",
     "text": [
      "Epoch 220, Loss 0.0376\n",
      "Training Accuracy: 0.9589, Testing Accuracy: 0.9677\n",
      "\n"
     ]
    },
    {
     "name": "stdout",
     "output_type": "stream",
     "text": [
      "Epoch 230, Loss 0.0372\n",
      "Training Accuracy: 0.9598, Testing Accuracy: 0.9677\n",
      "\n"
     ]
    },
    {
     "name": "stdout",
     "output_type": "stream",
     "text": [
      "Epoch 240, Loss 0.0369\n",
      "Training Accuracy: 0.9599, Testing Accuracy: 0.9682\n",
      "\n"
     ]
    },
    {
     "data": {
      "text/plain": [
       "0.027749072387696146"
      ]
     },
     "execution_count": 23,
     "metadata": {},
     "output_type": "execute_result"
    }
   ],
   "source": [
    "lr_learner.train_loop(dl)"
   ]
  },
  {
   "cell_type": "code",
   "execution_count": 24,
   "id": "ca410940",
   "metadata": {
    "execution": {
     "iopub.execute_input": "2022-04-22T00:41:35.706208Z",
     "iopub.status.busy": "2022-04-22T00:41:35.705112Z",
     "iopub.status.idle": "2022-04-22T00:41:35.921671Z",
     "shell.execute_reply": "2022-04-22T00:41:35.921234Z"
    },
    "papermill": {
     "duration": 0.266176,
     "end_time": "2022-04-22T00:41:35.921778",
     "exception": false,
     "start_time": "2022-04-22T00:41:35.655602",
     "status": "completed"
    },
    "tags": []
   },
   "outputs": [
    {
     "data": {
      "text/plain": [
       "<matplotlib.legend.Legend at 0x7f7aa04c5a90>"
      ]
     },
     "execution_count": 24,
     "metadata": {},
     "output_type": "execute_result"
    },
    {
     "data": {
      "image/png": "[encoded data removed]",
      "text/plain": [
       "<Figure size 1080x720 with 1 Axes>"
      ]
     },
     "metadata": {
      "needs_background": "light"
     },
     "output_type": "display_data"
    }
   ],
   "source": [
    "#comparing the results of NN and LR\n",
    "plt.figure(figsize=(15,10))\n",
    "\n",
    "# Neural Network plots\n",
    "plt.plot(acc_nn.accuracies, 'r-', label = \"Training Accuracies - NN\")\n",
    "plt.plot(acc_nn.test_accuracies, 'g-', label = \"Testing Accuracies - NN\")\n",
    "\n",
    "# Logistic Regression plots\n",
    "plt.plot(acc_lr.accuracies, 'k-', label = \"Training Accuracies - LR\")\n",
    "plt.plot(acc_lr.test_accuracies, 'b-', label = \"Testing Accuracies - LR\")\n",
    "plt.legend()"
   ]
  },
  {
   "cell_type": "markdown",
   "id": "80dfb35c",
   "metadata": {
    "papermill": {
     "duration": 0.043845,
     "end_time": "2022-04-22T00:41:36.010012",
     "exception": false,
     "start_time": "2022-04-22T00:41:35.966167",
     "status": "completed"
    },
    "tags": []
   },
   "source": [
    "#### Plotting the outputs of this layer of the NN.\n"
   ]
  },
  {
   "cell_type": "code",
   "execution_count": 25,
   "id": "45eb2ff5",
   "metadata": {
    "execution": {
     "iopub.execute_input": "2022-04-22T00:41:36.100219Z",
     "iopub.status.busy": "2022-04-22T00:41:36.099724Z",
     "iopub.status.idle": "2022-04-22T00:41:36.134125Z",
     "shell.execute_reply": "2022-04-22T00:41:36.134805Z"
    },
    "papermill": {
     "duration": 0.081522,
     "end_time": "2022-04-22T00:41:36.134936",
     "exception": false,
     "start_time": "2022-04-22T00:41:36.053414",
     "status": "completed"
    },
    "tags": []
   },
   "outputs": [],
   "source": [
    "new_model = Model(layers[:-2])\n",
    "testing_plot = new_model(testing_data_x)"
   ]
  },
  {
   "cell_type": "code",
   "execution_count": 26,
   "id": "4c0a5485",
   "metadata": {
    "execution": {
     "iopub.execute_input": "2022-04-22T00:41:36.240896Z",
     "iopub.status.busy": "2022-04-22T00:41:36.240364Z",
     "iopub.status.idle": "2022-04-22T00:41:36.457715Z",
     "shell.execute_reply": "2022-04-22T00:41:36.458098Z"
    },
    "papermill": {
     "duration": 0.267962,
     "end_time": "2022-04-22T00:41:36.458231",
     "exception": false,
     "start_time": "2022-04-22T00:41:36.190269",
     "status": "completed"
    },
    "tags": []
   },
   "outputs": [
    {
     "data": {
      "text/plain": [
       "Text(0.5, 1.0, 'Outputs')"
      ]
     },
     "execution_count": 26,
     "metadata": {},
     "output_type": "execute_result"
    },
    {
     "data": {
      "image/png": "[encoded data removed]",
      "text/plain": [
       "<Figure size 576x504 with 1 Axes>"
      ]
     },
     "metadata": {
      "needs_background": "light"
     },
     "output_type": "display_data"
    }
   ],
   "source": [
    "# Plotting the scatter plot of points and color coding by class\n",
    "plt.figure(figsize=(8,7))\n",
    "plt.scatter(testing_plot[:,0], testing_plot[:,1], alpha = 0.1, c = y_test.ravel());\n",
    "plt.title('Outputs')"
   ]
  },
  {
   "cell_type": "markdown",
   "id": "a74fcf8f",
   "metadata": {
    "papermill": {
     "duration": 0.046059,
     "end_time": "2022-04-22T00:41:36.550424",
     "exception": false,
     "start_time": "2022-04-22T00:41:36.504365",
     "status": "completed"
    },
    "tags": []
   },
   "source": [
    "Probability contours"
   ]
  },
  {
   "cell_type": "code",
   "execution_count": 27,
   "id": "d0afc8e3",
   "metadata": {
    "execution": {
     "iopub.execute_input": "2022-04-22T00:41:36.647330Z",
     "iopub.status.busy": "2022-04-22T00:41:36.646112Z",
     "iopub.status.idle": "2022-04-22T00:41:36.656876Z",
     "shell.execute_reply": "2022-04-22T00:41:36.656492Z"
    },
    "papermill": {
     "duration": 0.060577,
     "end_time": "2022-04-22T00:41:36.656976",
     "exception": false,
     "start_time": "2022-04-22T00:41:36.596399",
     "status": "completed"
    },
    "tags": []
   },
   "outputs": [],
   "source": [
    "model_prob = Model(layers[-2:]) "
   ]
  },
  {
   "cell_type": "code",
   "execution_count": 28,
   "id": "9b96e238",
   "metadata": {
    "execution": {
     "iopub.execute_input": "2022-04-22T00:41:36.774305Z",
     "iopub.status.busy": "2022-04-22T00:41:36.773806Z",
     "iopub.status.idle": "2022-04-22T00:41:36.786836Z",
     "shell.execute_reply": "2022-04-22T00:41:36.787498Z"
    },
    "papermill": {
     "duration": 0.063798,
     "end_time": "2022-04-22T00:41:36.787632",
     "exception": false,
     "start_time": "2022-04-22T00:41:36.723834",
     "status": "completed"
    },
    "tags": []
   },
   "outputs": [],
   "source": [
    "#creating the x and y ranges according to the above generated plot.\n",
    "x_range = np.linspace(-4, 1, 100) \n",
    "y_range = np.linspace(-6, 6, 100) \n",
    "x_grid, y_grid = np.meshgrid(x_range, y_range) # x_grid and y_grig are of size 100 X 100\n",
    "\n",
    "# converting x_grid and y_grid to continuous arrays\n",
    "x_gridflat = np.ravel(x_grid)\n",
    "y_gridflat = np.ravel(y_grid)\n",
    "\n",
    "# The last layer of the current model takes two columns as input. Hence transpose of np.vstack() is required.\n",
    "X = np.vstack((x_gridflat, y_gridflat)).T\n",
    "\n",
    "prob_contour = model_prob(X).reshape(100,100) "
   ]
  },
  {
   "cell_type": "code",
   "execution_count": 29,
   "id": "da72499a",
   "metadata": {
    "execution": {
     "iopub.execute_input": "2022-04-22T00:41:36.883997Z",
     "iopub.status.busy": "2022-04-22T00:41:36.883458Z",
     "iopub.status.idle": "2022-04-22T00:41:37.136822Z",
     "shell.execute_reply": "2022-04-22T00:41:37.137505Z"
    },
    "papermill": {
     "duration": 0.303276,
     "end_time": "2022-04-22T00:41:37.137641",
     "exception": false,
     "start_time": "2022-04-22T00:41:36.834365",
     "status": "completed"
    },
    "tags": []
   },
   "outputs": [
    {
     "data": {
      "image/png": "[encoded data removed]",
      "text/plain": [
       "<Figure size 720x648 with 1 Axes>"
      ]
     },
     "metadata": {
      "needs_background": "light"
     },
     "output_type": "display_data"
    }
   ],
   "source": [
    "plt.figure(figsize=(10,9))\n",
    "plt.scatter(testing_plot[:,0], testing_plot[:,1], alpha = 0.1, c = y_test.ravel())\n",
    "contours = plt.contour(x_grid,y_grid,prob_contour)\n",
    "plt.title('Probability Contours')\n",
    "plt.clabel(contours, inline = True );"
   ]
  },
  {
   "cell_type": "code",
   "execution_count": null,
   "id": "e81b4ac7",
   "metadata": {
    "papermill": {
     "duration": 0.048687,
     "end_time": "2022-04-22T00:41:37.235447",
     "exception": false,
     "start_time": "2022-04-22T00:41:37.186760",
     "status": "completed"
    },
    "tags": []
   },
   "outputs": [],
   "source": []
  }
 ],
 "metadata": {
  "kernelspec": {
   "display_name": "Python 3",
   "language": "python",
   "name": "python3"
  },
  "language_info": {
   "codemirror_mode": {
    "name": "ipython",
    "version": 3
   },
   "file_extension": ".py",
   "mimetype": "text/x-python",
   "name": "python",
   "nbconvert_exporter": "python",
   "pygments_lexer": "ipython3",
   "version": "3.6.15"
  },
  "papermill": {
   "default_parameters": {},
   "duration": 194.779934,
   "end_time": "2022-04-22T00:41:37.601016",
   "environment_variables": {},
   "exception": null,
   "input_path": "2020-08-11-part2.ipynb",
   "output_path": "2020-08-11-part2.ipynb",
   "parameters": {},
   "start_time": "2022-04-22T00:38:22.821082",
   "version": "2.3.3"
  }
 },
 "nbformat": 4,
 "nbformat_minor": 5
}