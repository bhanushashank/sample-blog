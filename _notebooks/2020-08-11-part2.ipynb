{
 "cells": [
  {
   "cell_type": "markdown",
   "id": "98380cd3",
   "metadata": {
    "papermill": {
     "duration": 0.030308,
     "end_time": "2022-07-21T10:10:34.642107",
     "exception": false,
     "start_time": "2022-07-21T10:10:34.611799",
     "status": "completed"
    },
    "tags": []
   },
   "source": [
    "# Distinguish Your Own Digits (DYOD)"
   ]
  },
  {
   "cell_type": "markdown",
   "id": "ef31240d",
   "metadata": {
    "papermill": {
     "duration": 0.02436,
     "end_time": "2022-07-21T10:10:34.691601",
     "exception": false,
     "start_time": "2022-07-21T10:10:34.667241",
     "status": "completed"
    },
    "tags": []
   },
   "source": [
    "You are going to write a classifier that distinguishes between the number 3 and number 8."
   ]
  },
  {
   "cell_type": "code",
   "execution_count": 1,
   "id": "b15c8646",
   "metadata": {
    "execution": {
     "iopub.execute_input": "2022-07-21T10:10:34.753215Z",
     "iopub.status.busy": "2022-07-21T10:10:34.751205Z",
     "iopub.status.idle": "2022-07-21T10:10:34.763086Z",
     "shell.execute_reply": "2022-07-21T10:10:34.763554Z"
    },
    "papermill": {
     "duration": 0.047819,
     "end_time": "2022-07-21T10:10:34.763706",
     "exception": false,
     "start_time": "2022-07-21T10:10:34.715887",
     "status": "completed"
    },
    "tags": []
   },
   "outputs": [],
   "source": [
    "%load_ext autoreload\n",
    "%autoreload 2"
   ]
  },
  {
   "cell_type": "code",
   "execution_count": 2,
   "id": "22ef38dc",
   "metadata": {
    "execution": {
     "iopub.execute_input": "2022-07-21T10:10:34.820296Z",
     "iopub.status.busy": "2022-07-21T10:10:34.818938Z",
     "iopub.status.idle": "2022-07-21T10:10:35.369957Z",
     "shell.execute_reply": "2022-07-21T10:10:35.370418Z"
    },
    "papermill": {
     "duration": 0.581603,
     "end_time": "2022-07-21T10:10:35.370564",
     "exception": false,
     "start_time": "2022-07-21T10:10:34.788961",
     "status": "completed"
    },
    "tags": []
   },
   "outputs": [],
   "source": [
    "%matplotlib inline\n",
    "import numpy as np\n",
    "import matplotlib.pyplot as plt\n",
    "import pandas as pd"
   ]
  },
  {
   "cell_type": "markdown",
   "id": "ba036198",
   "metadata": {
    "papermill": {
     "duration": 0.024394,
     "end_time": "2022-07-21T10:10:35.419744",
     "exception": false,
     "start_time": "2022-07-21T10:10:35.395350",
     "status": "completed"
    },
    "tags": []
   },
   "source": [
    "From the command line run `pip install mnist`. This is a library that will help you bring down the mnist dataset. If you run this from a notebook, you need to put  `!pip install mnist` in a cell by itself."
   ]
  },
  {
   "cell_type": "code",
   "execution_count": 3,
   "id": "bb6ad8a1",
   "metadata": {
    "execution": {
     "iopub.execute_input": "2022-07-21T10:10:35.472661Z",
     "iopub.status.busy": "2022-07-21T10:10:35.472055Z",
     "iopub.status.idle": "2022-07-21T10:10:37.192927Z",
     "shell.execute_reply": "2022-07-21T10:10:37.191549Z"
    },
    "papermill": {
     "duration": 1.748903,
     "end_time": "2022-07-21T10:10:37.193061",
     "exception": false,
     "start_time": "2022-07-21T10:10:35.444158",
     "status": "completed"
    },
    "tags": []
   },
   "outputs": [
    {
     "name": "stdout",
     "output_type": "stream",
     "text": [
      "Collecting mnist\r\n"
     ]
    },
    {
     "name": "stdout",
     "output_type": "stream",
     "text": [
      "  Downloading mnist-0.2.2-py2.py3-none-any.whl (3.5 kB)\r\n",
      "Requirement already satisfied: numpy in /opt/hostedtoolcache/Python/3.6.15/x64/lib/python3.6/site-packages (from mnist) (1.19.5)\r\n"
     ]
    },
    {
     "name": "stdout",
     "output_type": "stream",
     "text": [
      "Installing collected packages: mnist\r\n",
      "Successfully installed mnist-0.2.2\r\n"
     ]
    }
   ],
   "source": [
    "!pip install mnist"
   ]
  },
  {
   "cell_type": "markdown",
   "id": "69df9c9a",
   "metadata": {
    "papermill": {
     "duration": 0.025372,
     "end_time": "2022-07-21T10:10:37.249019",
     "exception": false,
     "start_time": "2022-07-21T10:10:37.223647",
     "status": "completed"
    },
    "tags": []
   },
   "source": [
    "## Preparing the Data"
   ]
  },
  {
   "cell_type": "code",
   "execution_count": 4,
   "id": "7f69d806",
   "metadata": {
    "execution": {
     "iopub.execute_input": "2022-07-21T10:10:37.303446Z",
     "iopub.status.busy": "2022-07-21T10:10:37.302875Z",
     "iopub.status.idle": "2022-07-21T10:10:37.317802Z",
     "shell.execute_reply": "2022-07-21T10:10:37.318274Z"
    },
    "papermill": {
     "duration": 0.044344,
     "end_time": "2022-07-21T10:10:37.318400",
     "exception": false,
     "start_time": "2022-07-21T10:10:37.274056",
     "status": "completed"
    },
    "tags": []
   },
   "outputs": [],
   "source": [
    "import mnist"
   ]
  },
  {
   "cell_type": "code",
   "execution_count": 5,
   "id": "a411e44f",
   "metadata": {
    "execution": {
     "iopub.execute_input": "2022-07-21T10:10:37.372484Z",
     "iopub.status.busy": "2022-07-21T10:10:37.371893Z",
     "iopub.status.idle": "2022-07-21T10:10:37.971086Z",
     "shell.execute_reply": "2022-07-21T10:10:37.970092Z"
    },
    "papermill": {
     "duration": 0.627651,
     "end_time": "2022-07-21T10:10:37.971218",
     "exception": false,
     "start_time": "2022-07-21T10:10:37.343567",
     "status": "completed"
    },
    "tags": []
   },
   "outputs": [],
   "source": [
    "train_images = mnist.train_images()\n",
    "train_labels = mnist.train_labels()"
   ]
  },
  {
   "cell_type": "code",
   "execution_count": 6,
   "id": "dceab3a5",
   "metadata": {
    "execution": {
     "iopub.execute_input": "2022-07-21T10:10:38.026492Z",
     "iopub.status.busy": "2022-07-21T10:10:38.024721Z",
     "iopub.status.idle": "2022-07-21T10:10:38.040047Z",
     "shell.execute_reply": "2022-07-21T10:10:38.040506Z"
    },
    "papermill": {
     "duration": 0.044225,
     "end_time": "2022-07-21T10:10:38.040634",
     "exception": false,
     "start_time": "2022-07-21T10:10:37.996409",
     "status": "completed"
    },
    "tags": []
   },
   "outputs": [
    {
     "data": {
      "text/plain": [
       "((60000, 28, 28), (60000,))"
      ]
     },
     "execution_count": 6,
     "metadata": {},
     "output_type": "execute_result"
    }
   ],
   "source": [
    "train_images.shape, train_labels.shape"
   ]
  },
  {
   "cell_type": "code",
   "execution_count": 7,
   "id": "f50dc2bb",
   "metadata": {
    "execution": {
     "iopub.execute_input": "2022-07-21T10:10:38.095511Z",
     "iopub.status.busy": "2022-07-21T10:10:38.094946Z",
     "iopub.status.idle": "2022-07-21T10:10:38.295639Z",
     "shell.execute_reply": "2022-07-21T10:10:38.295117Z"
    },
    "papermill": {
     "duration": 0.229843,
     "end_time": "2022-07-21T10:10:38.295755",
     "exception": false,
     "start_time": "2022-07-21T10:10:38.065912",
     "status": "completed"
    },
    "tags": []
   },
   "outputs": [],
   "source": [
    "test_images = mnist.test_images()\n",
    "test_labels = mnist.test_labels()"
   ]
  },
  {
   "cell_type": "code",
   "execution_count": 8,
   "id": "fc38cf1b",
   "metadata": {
    "execution": {
     "iopub.execute_input": "2022-07-21T10:10:38.350663Z",
     "iopub.status.busy": "2022-07-21T10:10:38.350093Z",
     "iopub.status.idle": "2022-07-21T10:10:38.365302Z",
     "shell.execute_reply": "2022-07-21T10:10:38.364829Z"
    },
    "papermill": {
     "duration": 0.044083,
     "end_time": "2022-07-21T10:10:38.365415",
     "exception": false,
     "start_time": "2022-07-21T10:10:38.321332",
     "status": "completed"
    },
    "tags": []
   },
   "outputs": [
    {
     "data": {
      "text/plain": [
       "((10000, 28, 28), (10000,))"
      ]
     },
     "execution_count": 8,
     "metadata": {},
     "output_type": "execute_result"
    }
   ],
   "source": [
    "test_images.shape, test_labels.shape"
   ]
  },
  {
   "cell_type": "code",
   "execution_count": 9,
   "id": "f9ed8fe0",
   "metadata": {
    "execution": {
     "iopub.execute_input": "2022-07-21T10:10:38.420873Z",
     "iopub.status.busy": "2022-07-21T10:10:38.420287Z",
     "iopub.status.idle": "2022-07-21T10:10:38.558931Z",
     "shell.execute_reply": "2022-07-21T10:10:38.558465Z"
    },
    "papermill": {
     "duration": 0.167873,
     "end_time": "2022-07-21T10:10:38.559044",
     "exception": false,
     "start_time": "2022-07-21T10:10:38.391171",
     "status": "completed"
    },
    "tags": []
   },
   "outputs": [
    {
     "name": "stdout",
     "output_type": "stream",
     "text": [
      "2\n"
     ]
    },
    {
     "data": {
      "text/plain": [
       "<matplotlib.image.AxesImage at 0x7fa4d2fe1a90>"
      ]
     },
     "execution_count": 9,
     "metadata": {},
     "output_type": "execute_result"
    },
    {
     "data": {
      "image/png": "[encoded data removed]",
      "text/plain": [
       "<Figure size 432x288 with 1 Axes>"
      ]
     },
     "metadata": {
      "needs_background": "light"
     },
     "output_type": "display_data"
    }
   ],
   "source": [
    "image_index = 7776 # You may select anything up to 60,000\n",
    "print(train_labels[image_index]) \n",
    "plt.imshow(train_images[image_index], cmap='Greys')"
   ]
  },
  {
   "cell_type": "markdown",
   "id": "a8d2388d",
   "metadata": {
    "papermill": {
     "duration": 0.027015,
     "end_time": "2022-07-21T10:10:38.613294",
     "exception": false,
     "start_time": "2022-07-21T10:10:38.586279",
     "status": "completed"
    },
    "tags": []
   },
   "source": [
    "## Filter data to get 3 and 8 out"
   ]
  },
  {
   "cell_type": "code",
   "execution_count": 10,
   "id": "776f7fc7",
   "metadata": {
    "execution": {
     "iopub.execute_input": "2022-07-21T10:10:38.670963Z",
     "iopub.status.busy": "2022-07-21T10:10:38.670369Z",
     "iopub.status.idle": "2022-07-21T10:10:38.686606Z",
     "shell.execute_reply": "2022-07-21T10:10:38.687038Z"
    },
    "papermill": {
     "duration": 0.047261,
     "end_time": "2022-07-21T10:10:38.687167",
     "exception": false,
     "start_time": "2022-07-21T10:10:38.639906",
     "status": "completed"
    },
    "tags": []
   },
   "outputs": [],
   "source": [
    "train_filter = np.where((train_labels == 3 ) | (train_labels == 8))\n",
    "test_filter = np.where((test_labels == 3) | (test_labels == 8))\n",
    "X_train, y_train = train_images[train_filter], train_labels[train_filter]\n",
    "X_test, y_test = test_images[test_filter], test_labels[test_filter]"
   ]
  },
  {
   "cell_type": "markdown",
   "id": "948f0b7e",
   "metadata": {
    "papermill": {
     "duration": 0.02656,
     "end_time": "2022-07-21T10:10:38.740462",
     "exception": false,
     "start_time": "2022-07-21T10:10:38.713902",
     "status": "completed"
    },
    "tags": []
   },
   "source": [
    "We normalize the pizel values in the 0 to 1 range"
   ]
  },
  {
   "cell_type": "code",
   "execution_count": 11,
   "id": "ee4c2166",
   "metadata": {
    "execution": {
     "iopub.execute_input": "2022-07-21T10:10:38.797419Z",
     "iopub.status.busy": "2022-07-21T10:10:38.796842Z",
     "iopub.status.idle": "2022-07-21T10:10:38.837573Z",
     "shell.execute_reply": "2022-07-21T10:10:38.837066Z"
    },
    "papermill": {
     "duration": 0.07067,
     "end_time": "2022-07-21T10:10:38.837693",
     "exception": false,
     "start_time": "2022-07-21T10:10:38.767023",
     "status": "completed"
    },
    "tags": []
   },
   "outputs": [],
   "source": [
    "X_train = X_train/255.\n",
    "X_test = X_test/255."
   ]
  },
  {
   "cell_type": "markdown",
   "id": "ddcf4fab",
   "metadata": {
    "papermill": {
     "duration": 0.027464,
     "end_time": "2022-07-21T10:10:38.893295",
     "exception": false,
     "start_time": "2022-07-21T10:10:38.865831",
     "status": "completed"
    },
    "tags": []
   },
   "source": [
    "And setup the labels as 1 (when the digit is 3) and 0 (when the digit is 8)"
   ]
  },
  {
   "cell_type": "code",
   "execution_count": 12,
   "id": "7dc908f2",
   "metadata": {
    "execution": {
     "iopub.execute_input": "2022-07-21T10:10:38.953630Z",
     "iopub.status.busy": "2022-07-21T10:10:38.953030Z",
     "iopub.status.idle": "2022-07-21T10:10:38.966341Z",
     "shell.execute_reply": "2022-07-21T10:10:38.966862Z"
    },
    "papermill": {
     "duration": 0.045537,
     "end_time": "2022-07-21T10:10:38.967002",
     "exception": false,
     "start_time": "2022-07-21T10:10:38.921465",
     "status": "completed"
    },
    "tags": []
   },
   "outputs": [],
   "source": [
    "y_train = 1*(y_train==3)\n",
    "y_test = 1*(y_test==3)"
   ]
  },
  {
   "cell_type": "code",
   "execution_count": 13,
   "id": "01e4e969",
   "metadata": {
    "execution": {
     "iopub.execute_input": "2022-07-21T10:10:39.027918Z",
     "iopub.status.busy": "2022-07-21T10:10:39.027334Z",
     "iopub.status.idle": "2022-07-21T10:10:39.041879Z",
     "shell.execute_reply": "2022-07-21T10:10:39.041282Z"
    },
    "papermill": {
     "duration": 0.047476,
     "end_time": "2022-07-21T10:10:39.041994",
     "exception": false,
     "start_time": "2022-07-21T10:10:38.994518",
     "status": "completed"
    },
    "tags": []
   },
   "outputs": [
    {
     "data": {
      "text/plain": [
       "((11982, 28, 28), (1984, 28, 28))"
      ]
     },
     "execution_count": 13,
     "metadata": {},
     "output_type": "execute_result"
    }
   ],
   "source": [
    "X_train.shape, X_test.shape"
   ]
  },
  {
   "cell_type": "markdown",
   "id": "5ccf3f85",
   "metadata": {
    "papermill": {
     "duration": 0.027341,
     "end_time": "2022-07-21T10:10:39.099736",
     "exception": false,
     "start_time": "2022-07-21T10:10:39.072395",
     "status": "completed"
    },
    "tags": []
   },
   "source": [
    "We reshape the data to flatten the image pixels into a set of features or co-variates:"
   ]
  },
  {
   "cell_type": "code",
   "execution_count": 14,
   "id": "5286a4a3",
   "metadata": {
    "execution": {
     "iopub.execute_input": "2022-07-21T10:10:39.157975Z",
     "iopub.status.busy": "2022-07-21T10:10:39.157334Z",
     "iopub.status.idle": "2022-07-21T10:10:39.172299Z",
     "shell.execute_reply": "2022-07-21T10:10:39.172746Z"
    },
    "papermill": {
     "duration": 0.045924,
     "end_time": "2022-07-21T10:10:39.172877",
     "exception": false,
     "start_time": "2022-07-21T10:10:39.126953",
     "status": "completed"
    },
    "tags": []
   },
   "outputs": [
    {
     "data": {
      "text/plain": [
       "((11982, 784), (1984, 784))"
      ]
     },
     "execution_count": 14,
     "metadata": {},
     "output_type": "execute_result"
    }
   ],
   "source": [
    "X_train = X_train.reshape(X_train.shape[0], -1)\n",
    "X_test = X_test.reshape(X_test.shape[0], -1)\n",
    "X_train.shape, X_test.shape"
   ]
  },
  {
   "cell_type": "code",
   "execution_count": 15,
   "id": "73c5f88a",
   "metadata": {
    "execution": {
     "iopub.execute_input": "2022-07-21T10:10:39.233173Z",
     "iopub.status.busy": "2022-07-21T10:10:39.232578Z",
     "iopub.status.idle": "2022-07-21T10:10:39.252451Z",
     "shell.execute_reply": "2022-07-21T10:10:39.252000Z"
    },
    "papermill": {
     "duration": 0.052386,
     "end_time": "2022-07-21T10:10:39.252566",
     "exception": false,
     "start_time": "2022-07-21T10:10:39.200180",
     "status": "completed"
    },
    "tags": []
   },
   "outputs": [],
   "source": [
    "#Impoting functions from 'Kudzu'\n",
    "from kudzu.model import Model\n",
    "from kudzu.train import Learner\n",
    "from kudzu.optim import GD\n",
    "from kudzu.data import Data, Sampler,Dataloader\n",
    "\n",
    "from kudzu.callbacks import AccCallback\n",
    "from kudzu.callbacks import ClfCallback\n",
    "\n",
    "from kudzu.loss import MSE\n",
    "\n",
    "from kudzu.layer import Sigmoid,Relu\n",
    "from kudzu.layer import Affine"
   ]
  },
  {
   "cell_type": "markdown",
   "id": "bc01172a",
   "metadata": {
    "papermill": {
     "duration": 0.027697,
     "end_time": "2022-07-21T10:10:39.307790",
     "exception": false,
     "start_time": "2022-07-21T10:10:39.280093",
     "status": "completed"
    },
    "tags": []
   },
   "source": [
    "### Let us create a `Config` class, to store important parameters. \n",
    "This class essentially plays the role of a dictionary."
   ]
  },
  {
   "cell_type": "code",
   "execution_count": 16,
   "id": "978281aa",
   "metadata": {
    "execution": {
     "iopub.execute_input": "2022-07-21T10:10:39.366567Z",
     "iopub.status.busy": "2022-07-21T10:10:39.365943Z",
     "iopub.status.idle": "2022-07-21T10:10:39.379535Z",
     "shell.execute_reply": "2022-07-21T10:10:39.379964Z"
    },
    "papermill": {
     "duration": 0.045108,
     "end_time": "2022-07-21T10:10:39.380100",
     "exception": false,
     "start_time": "2022-07-21T10:10:39.334992",
     "status": "completed"
    },
    "tags": []
   },
   "outputs": [],
   "source": [
    "class Config:\n",
    "    pass\n",
    "config = Config()\n",
    "config.lr = 0.001\n",
    "config.num_epochs = 250\n",
    "config.bs = 50"
   ]
  },
  {
   "cell_type": "markdown",
   "id": "1385fa59",
   "metadata": {
    "papermill": {
     "duration": 0.027316,
     "end_time": "2022-07-21T10:10:39.435642",
     "exception": false,
     "start_time": "2022-07-21T10:10:39.408326",
     "status": "completed"
    },
    "tags": []
   },
   "source": [
    "### Running Models with the Training data\n",
    "Details about the network layers:\n",
    "- A first affine layer has 784 inputs and does 100 affine transforms. These are followed by a Relu\n",
    "- A second affine layer has 100 inputs from the 100 activations of the past layer, and does 100 affine transforms. These are followed by a Relu\n",
    "- A third affine layer has 100 activations and does 2 affine transformations to create an embedding for visualization. There is no non-linearity here.\n",
    "- A final \"logistic regression\" which has an affine transform from 2 inputs to 1 output, which is squeezed through a sigmoid.\n"
   ]
  },
  {
   "cell_type": "code",
   "execution_count": 17,
   "id": "2b9c66db",
   "metadata": {
    "execution": {
     "iopub.execute_input": "2022-07-21T10:10:39.495165Z",
     "iopub.status.busy": "2022-07-21T10:10:39.494563Z",
     "iopub.status.idle": "2022-07-21T10:10:39.509605Z",
     "shell.execute_reply": "2022-07-21T10:10:39.510062Z"
    },
    "papermill": {
     "duration": 0.047122,
     "end_time": "2022-07-21T10:10:39.510199",
     "exception": false,
     "start_time": "2022-07-21T10:10:39.463077",
     "status": "completed"
    },
    "tags": []
   },
   "outputs": [],
   "source": [
    "data = Data(X_train, y_train.reshape(-1,1))\n",
    "sampler = Sampler(data, config.bs, shuffle=True)\n",
    "\n",
    "dl = Dataloader(data, sampler)\n",
    "\n",
    "opt = GD(config.lr)\n",
    "loss = MSE()"
   ]
  },
  {
   "cell_type": "code",
   "execution_count": 18,
   "id": "b275e4c2",
   "metadata": {
    "execution": {
     "iopub.execute_input": "2022-07-21T10:10:39.569175Z",
     "iopub.status.busy": "2022-07-21T10:10:39.568597Z",
     "iopub.status.idle": "2022-07-21T10:10:39.582720Z",
     "shell.execute_reply": "2022-07-21T10:10:39.583209Z"
    },
    "papermill": {
     "duration": 0.045495,
     "end_time": "2022-07-21T10:10:39.583342",
     "exception": false,
     "start_time": "2022-07-21T10:10:39.537847",
     "status": "completed"
    },
    "tags": []
   },
   "outputs": [],
   "source": [
    "training_data_x = X_train\n",
    "testing_data_x = X_test\n",
    "training_data_y = y_train.reshape(-1,1)\n",
    "testing_data_y = y_test.reshape(-1,1)"
   ]
  },
  {
   "cell_type": "code",
   "execution_count": 19,
   "id": "76951160",
   "metadata": {
    "execution": {
     "iopub.execute_input": "2022-07-21T10:10:39.642564Z",
     "iopub.status.busy": "2022-07-21T10:10:39.641869Z",
     "iopub.status.idle": "2022-07-21T10:10:39.659927Z",
     "shell.execute_reply": "2022-07-21T10:10:39.659381Z"
    },
    "papermill": {
     "duration": 0.049349,
     "end_time": "2022-07-21T10:10:39.660043",
     "exception": false,
     "start_time": "2022-07-21T10:10:39.610694",
     "status": "completed"
    },
    "tags": []
   },
   "outputs": [
    {
     "name": "stdout",
     "output_type": "stream",
     "text": [
      "xavier\n",
      "xavier\n",
      "xavier\n",
      "xavier\n",
      "xavier\n"
     ]
    }
   ],
   "source": [
    "layers = [Affine(\"first\", 784, 100), Relu(\"first\"), Affine(\"second\", 100, 100), Relu(\"second\"), Affine(\"third\", 100, 2), Affine(\"last\", 2, 1), Sigmoid(\"last\")]\n",
    "model_nn = Model(layers)\n",
    "model_lr = Model([Affine(\"logits\", 784, 1), Sigmoid(\"sigmoid\")])"
   ]
  },
  {
   "cell_type": "code",
   "execution_count": 20,
   "id": "6eede77a",
   "metadata": {
    "execution": {
     "iopub.execute_input": "2022-07-21T10:10:39.724162Z",
     "iopub.status.busy": "2022-07-21T10:10:39.723570Z",
     "iopub.status.idle": "2022-07-21T10:10:39.736668Z",
     "shell.execute_reply": "2022-07-21T10:10:39.737231Z"
    },
    "papermill": {
     "duration": 0.044972,
     "end_time": "2022-07-21T10:10:39.737365",
     "exception": false,
     "start_time": "2022-07-21T10:10:39.692393",
     "status": "completed"
    },
    "tags": []
   },
   "outputs": [],
   "source": [
    "nn_learner = Learner(loss, model_nn, opt, config.num_epochs)\n",
    "acc_nn = ClfCallback(nn_learner, config.bs, training_data_x , testing_data_x, training_data_y, testing_data_y)\n",
    "nn_learner.set_callbacks([acc_nn])"
   ]
  },
  {
   "cell_type": "code",
   "execution_count": 21,
   "id": "877b6cc7",
   "metadata": {
    "execution": {
     "iopub.execute_input": "2022-07-21T10:10:39.795209Z",
     "iopub.status.busy": "2022-07-21T10:10:39.794624Z",
     "iopub.status.idle": "2022-07-21T10:10:39.809246Z",
     "shell.execute_reply": "2022-07-21T10:10:39.808793Z"
    },
    "papermill": {
     "duration": 0.044436,
     "end_time": "2022-07-21T10:10:39.809357",
     "exception": false,
     "start_time": "2022-07-21T10:10:39.764921",
     "status": "completed"
    },
    "tags": []
   },
   "outputs": [],
   "source": [
    "lr_learner = Learner(loss, model_lr, opt, config.num_epochs)\n",
    "acc_lr = ClfCallback(lr_learner, config.bs, training_data_x , testing_data_x, training_data_y, testing_data_y)\n",
    "lr_learner.set_callbacks([acc_lr])"
   ]
  },
  {
   "cell_type": "code",
   "execution_count": 22,
   "id": "d9b133c3",
   "metadata": {
    "execution": {
     "iopub.execute_input": "2022-07-21T10:10:39.868445Z",
     "iopub.status.busy": "2022-07-21T10:10:39.867862Z",
     "iopub.status.idle": "2022-07-21T10:13:39.120109Z",
     "shell.execute_reply": "2022-07-21T10:13:39.120636Z"
    },
    "papermill": {
     "duration": 179.283801,
     "end_time": "2022-07-21T10:13:39.120779",
     "exception": false,
     "start_time": "2022-07-21T10:10:39.836978",
     "status": "completed"
    },
    "tags": []
   },
   "outputs": [
    {
     "name": "stdout",
     "output_type": "stream",
     "text": [
      "Epoch 0, Loss 0.2491\n",
      "Training Accuracy: 0.5642, Testing Accuracy: 0.5625\n",
      "\n"
     ]
    },
    {
     "name": "stdout",
     "output_type": "stream",
     "text": [
      "Epoch 10, Loss 0.2126\n",
      "Training Accuracy: 0.8521, Testing Accuracy: 0.8644\n",
      "\n"
     ]
    },
    {
     "name": "stdout",
     "output_type": "stream",
     "text": [
      "Epoch 20, Loss 0.1162\n",
      "Training Accuracy: 0.8938, Testing Accuracy: 0.9088\n",
      "\n"
     ]
    },
    {
     "name": "stdout",
     "output_type": "stream",
     "text": [
      "Epoch 30, Loss 0.0694\n",
      "Training Accuracy: 0.9246, Testing Accuracy: 0.9340\n",
      "\n"
     ]
    },
    {
     "name": "stdout",
     "output_type": "stream",
     "text": [
      "Epoch 40, Loss 0.0525\n",
      "Training Accuracy: 0.9396, Testing Accuracy: 0.9491\n",
      "\n"
     ]
    },
    {
     "name": "stdout",
     "output_type": "stream",
     "text": [
      "Epoch 50, Loss 0.0441\n",
      "Training Accuracy: 0.9494, Testing Accuracy: 0.9582\n",
      "\n"
     ]
    },
    {
     "name": "stdout",
     "output_type": "stream",
     "text": [
      "Epoch 60, Loss 0.0391\n",
      "Training Accuracy: 0.9541, Testing Accuracy: 0.9622\n",
      "\n"
     ]
    },
    {
     "name": "stdout",
     "output_type": "stream",
     "text": [
      "Epoch 70, Loss 0.0358\n",
      "Training Accuracy: 0.9576, Testing Accuracy: 0.9632\n",
      "\n"
     ]
    },
    {
     "name": "stdout",
     "output_type": "stream",
     "text": [
      "Epoch 80, Loss 0.0333\n",
      "Training Accuracy: 0.9606, Testing Accuracy: 0.9652\n",
      "\n"
     ]
    },
    {
     "name": "stdout",
     "output_type": "stream",
     "text": [
      "Epoch 90, Loss 0.0315\n",
      "Training Accuracy: 0.9628, Testing Accuracy: 0.9652\n",
      "\n"
     ]
    },
    {
     "name": "stdout",
     "output_type": "stream",
     "text": [
      "Epoch 100, Loss 0.03\n",
      "Training Accuracy: 0.9643, Testing Accuracy: 0.9667\n",
      "\n"
     ]
    },
    {
     "name": "stdout",
     "output_type": "stream",
     "text": [
      "Epoch 110, Loss 0.0288\n",
      "Training Accuracy: 0.9657, Testing Accuracy: 0.9672\n",
      "\n"
     ]
    },
    {
     "name": "stdout",
     "output_type": "stream",
     "text": [
      "Epoch 120, Loss 0.0277\n",
      "Training Accuracy: 0.9674, Testing Accuracy: 0.9677\n",
      "\n"
     ]
    },
    {
     "name": "stdout",
     "output_type": "stream",
     "text": [
      "Epoch 130, Loss 0.0268\n",
      "Training Accuracy: 0.9684, Testing Accuracy: 0.9677\n",
      "\n"
     ]
    },
    {
     "name": "stdout",
     "output_type": "stream",
     "text": [
      "Epoch 140, Loss 0.026\n",
      "Training Accuracy: 0.9690, Testing Accuracy: 0.9677\n",
      "\n"
     ]
    },
    {
     "name": "stdout",
     "output_type": "stream",
     "text": [
      "Epoch 150, Loss 0.0253\n",
      "Training Accuracy: 0.9699, Testing Accuracy: 0.9688\n",
      "\n"
     ]
    },
    {
     "name": "stdout",
     "output_type": "stream",
     "text": [
      "Epoch 160, Loss 0.0246\n",
      "Training Accuracy: 0.9707, Testing Accuracy: 0.9688\n",
      "\n"
     ]
    },
    {
     "name": "stdout",
     "output_type": "stream",
     "text": [
      "Epoch 170, Loss 0.024\n",
      "Training Accuracy: 0.9711, Testing Accuracy: 0.9688\n",
      "\n"
     ]
    },
    {
     "name": "stdout",
     "output_type": "stream",
     "text": [
      "Epoch 180, Loss 0.0234\n",
      "Training Accuracy: 0.9718, Testing Accuracy: 0.9688\n",
      "\n"
     ]
    },
    {
     "name": "stdout",
     "output_type": "stream",
     "text": [
      "Epoch 190, Loss 0.0229\n",
      "Training Accuracy: 0.9726, Testing Accuracy: 0.9693\n",
      "\n"
     ]
    },
    {
     "name": "stdout",
     "output_type": "stream",
     "text": [
      "Epoch 200, Loss 0.0224\n",
      "Training Accuracy: 0.9737, Testing Accuracy: 0.9693\n",
      "\n"
     ]
    },
    {
     "name": "stdout",
     "output_type": "stream",
     "text": [
      "Epoch 210, Loss 0.0219\n",
      "Training Accuracy: 0.9742, Testing Accuracy: 0.9693\n",
      "\n"
     ]
    },
    {
     "name": "stdout",
     "output_type": "stream",
     "text": [
      "Epoch 220, Loss 0.0215\n",
      "Training Accuracy: 0.9747, Testing Accuracy: 0.9703\n",
      "\n"
     ]
    },
    {
     "name": "stdout",
     "output_type": "stream",
     "text": [
      "Epoch 230, Loss 0.0211\n",
      "Training Accuracy: 0.9751, Testing Accuracy: 0.9688\n",
      "\n"
     ]
    },
    {
     "name": "stdout",
     "output_type": "stream",
     "text": [
      "Epoch 240, Loss 0.0207\n",
      "Training Accuracy: 0.9759, Testing Accuracy: 0.9698\n",
      "\n"
     ]
    },
    {
     "data": {
      "text/plain": [
       "0.03174536302972471"
      ]
     },
     "execution_count": 22,
     "metadata": {},
     "output_type": "execute_result"
    }
   ],
   "source": [
    "nn_learner.train_loop(dl)"
   ]
  },
  {
   "cell_type": "code",
   "execution_count": 23,
   "id": "e0163366",
   "metadata": {
    "execution": {
     "iopub.execute_input": "2022-07-21T10:13:39.193786Z",
     "iopub.status.busy": "2022-07-21T10:13:39.193178Z",
     "iopub.status.idle": "2022-07-21T10:13:51.814552Z",
     "shell.execute_reply": "2022-07-21T10:13:51.815097Z"
    },
    "papermill": {
     "duration": 12.659735,
     "end_time": "2022-07-21T10:13:51.815232",
     "exception": false,
     "start_time": "2022-07-21T10:13:39.155497",
     "status": "completed"
    },
    "tags": []
   },
   "outputs": [
    {
     "name": "stdout",
     "output_type": "stream",
     "text": [
      "Epoch 0, Loss 0.2294\n",
      "Training Accuracy: 0.7133, Testing Accuracy: 0.7389\n",
      "\n"
     ]
    },
    {
     "name": "stdout",
     "output_type": "stream",
     "text": [
      "Epoch 10, Loss 0.1019\n",
      "Training Accuracy: 0.9077, Testing Accuracy: 0.9158\n",
      "\n"
     ]
    },
    {
     "name": "stdout",
     "output_type": "stream",
     "text": [
      "Epoch 20, Loss 0.0789\n",
      "Training Accuracy: 0.9248, Testing Accuracy: 0.9365\n",
      "\n"
     ]
    },
    {
     "name": "stdout",
     "output_type": "stream",
     "text": [
      "Epoch 30, Loss 0.0683\n",
      "Training Accuracy: 0.9339, Testing Accuracy: 0.9451\n",
      "\n"
     ]
    },
    {
     "name": "stdout",
     "output_type": "stream",
     "text": [
      "Epoch 40, Loss 0.0618\n",
      "Training Accuracy: 0.9391, Testing Accuracy: 0.9521\n",
      "\n"
     ]
    },
    {
     "name": "stdout",
     "output_type": "stream",
     "text": [
      "Epoch 50, Loss 0.0574\n",
      "Training Accuracy: 0.9436, Testing Accuracy: 0.9551\n",
      "\n"
     ]
    },
    {
     "name": "stdout",
     "output_type": "stream",
     "text": [
      "Epoch 60, Loss 0.0541\n",
      "Training Accuracy: 0.9461, Testing Accuracy: 0.9577\n",
      "\n"
     ]
    },
    {
     "name": "stdout",
     "output_type": "stream",
     "text": [
      "Epoch 70, Loss 0.0516\n",
      "Training Accuracy: 0.9487, Testing Accuracy: 0.9582\n",
      "\n"
     ]
    },
    {
     "name": "stdout",
     "output_type": "stream",
     "text": [
      "Epoch 80, Loss 0.0495\n",
      "Training Accuracy: 0.9502, Testing Accuracy: 0.9592\n",
      "\n"
     ]
    },
    {
     "name": "stdout",
     "output_type": "stream",
     "text": [
      "Epoch 90, Loss 0.0478\n",
      "Training Accuracy: 0.9515, Testing Accuracy: 0.9607\n",
      "\n"
     ]
    },
    {
     "name": "stdout",
     "output_type": "stream",
     "text": [
      "Epoch 100, Loss 0.0464\n",
      "Training Accuracy: 0.9529, Testing Accuracy: 0.9612\n",
      "\n"
     ]
    },
    {
     "name": "stdout",
     "output_type": "stream",
     "text": [
      "Epoch 110, Loss 0.0452\n",
      "Training Accuracy: 0.9542, Testing Accuracy: 0.9617\n",
      "\n"
     ]
    },
    {
     "name": "stdout",
     "output_type": "stream",
     "text": [
      "Epoch 120, Loss 0.0441\n",
      "Training Accuracy: 0.9548, Testing Accuracy: 0.9622\n",
      "\n"
     ]
    },
    {
     "name": "stdout",
     "output_type": "stream",
     "text": [
      "Epoch 130, Loss 0.0432\n",
      "Training Accuracy: 0.9557, Testing Accuracy: 0.9622\n",
      "\n"
     ]
    },
    {
     "name": "stdout",
     "output_type": "stream",
     "text": [
      "Epoch 140, Loss 0.0423\n",
      "Training Accuracy: 0.9564, Testing Accuracy: 0.9622\n",
      "\n"
     ]
    },
    {
     "name": "stdout",
     "output_type": "stream",
     "text": [
      "Epoch 150, Loss 0.0416\n",
      "Training Accuracy: 0.9571, Testing Accuracy: 0.9627\n",
      "\n"
     ]
    },
    {
     "name": "stdout",
     "output_type": "stream",
     "text": [
      "Epoch 160, Loss 0.0409\n",
      "Training Accuracy: 0.9577, Testing Accuracy: 0.9632\n",
      "\n"
     ]
    },
    {
     "name": "stdout",
     "output_type": "stream",
     "text": [
      "Epoch 170, Loss 0.0403\n",
      "Training Accuracy: 0.9583, Testing Accuracy: 0.9632\n",
      "\n"
     ]
    },
    {
     "name": "stdout",
     "output_type": "stream",
     "text": [
      "Epoch 180, Loss 0.0397\n",
      "Training Accuracy: 0.9584, Testing Accuracy: 0.9637\n",
      "\n"
     ]
    },
    {
     "name": "stdout",
     "output_type": "stream",
     "text": [
      "Epoch 190, Loss 0.0392\n",
      "Training Accuracy: 0.9589, Testing Accuracy: 0.9647\n",
      "\n"
     ]
    },
    {
     "name": "stdout",
     "output_type": "stream",
     "text": [
      "Epoch 200, Loss 0.0387\n",
      "Training Accuracy: 0.9594, Testing Accuracy: 0.9652\n",
      "\n"
     ]
    },
    {
     "name": "stdout",
     "output_type": "stream",
     "text": [
      "Epoch 210, Loss 0.0383\n",
      "Training Accuracy: 0.9597, Testing Accuracy: 0.9652\n",
      "\n"
     ]
    },
    {
     "name": "stdout",
     "output_type": "stream",
     "text": [
      "Epoch 220, Loss 0.0379\n",
      "Training Accuracy: 0.9600, Testing Accuracy: 0.9652\n",
      "\n"
     ]
    },
    {
     "name": "stdout",
     "output_type": "stream",
     "text": [
      "Epoch 230, Loss 0.0375\n",
      "Training Accuracy: 0.9603, Testing Accuracy: 0.9647\n",
      "\n"
     ]
    },
    {
     "name": "stdout",
     "output_type": "stream",
     "text": [
      "Epoch 240, Loss 0.0371\n",
      "Training Accuracy: 0.9605, Testing Accuracy: 0.9647\n",
      "\n"
     ]
    },
    {
     "data": {
      "text/plain": [
       "0.04421590944437574"
      ]
     },
     "execution_count": 23,
     "metadata": {},
     "output_type": "execute_result"
    }
   ],
   "source": [
    "lr_learner.train_loop(dl)"
   ]
  },
  {
   "cell_type": "code",
   "execution_count": 24,
   "id": "ca410940",
   "metadata": {
    "execution": {
     "iopub.execute_input": "2022-07-21T10:13:51.902760Z",
     "iopub.status.busy": "2022-07-21T10:13:51.902160Z",
     "iopub.status.idle": "2022-07-21T10:13:52.133969Z",
     "shell.execute_reply": "2022-07-21T10:13:52.134425Z"
    },
    "papermill": {
     "duration": 0.277749,
     "end_time": "2022-07-21T10:13:52.134564",
     "exception": false,
     "start_time": "2022-07-21T10:13:51.856815",
     "status": "completed"
    },
    "tags": []
   },
   "outputs": [
    {
     "data": {
      "text/plain": [
       "<matplotlib.legend.Legend at 0x7fa4c639ebe0>"
      ]
     },
     "execution_count": 24,
     "metadata": {},
     "output_type": "execute_result"
    },
    {
     "data": {
      "image/png": "[encoded data removed]",
      "text/plain": [
       "<Figure size 1080x720 with 1 Axes>"
      ]
     },
     "metadata": {
      "needs_background": "light"
     },
     "output_type": "display_data"
    }
   ],
   "source": [
    "#comparing the results of NN and LR\n",
    "plt.figure(figsize=(15,10))\n",
    "\n",
    "# Neural Network plots\n",
    "plt.plot(acc_nn.accuracies, 'r-', label = \"Training Accuracies - NN\")\n",
    "plt.plot(acc_nn.test_accuracies, 'g-', label = \"Testing Accuracies - NN\")\n",
    "\n",
    "# Logistic Regression plots\n",
    "plt.plot(acc_lr.accuracies, 'k-', label = \"Training Accuracies - LR\")\n",
    "plt.plot(acc_lr.test_accuracies, 'b-', label = \"Testing Accuracies - LR\")\n",
    "plt.legend()"
   ]
  },
  {
   "cell_type": "markdown",
   "id": "80dfb35c",
   "metadata": {
    "papermill": {
     "duration": 0.049802,
     "end_time": "2022-07-21T10:13:52.229222",
     "exception": false,
     "start_time": "2022-07-21T10:13:52.179420",
     "status": "completed"
    },
    "tags": []
   },
   "source": [
    "#### Plotting the outputs of this layer of the NN.\n"
   ]
  },
  {
   "cell_type": "code",
   "execution_count": 25,
   "id": "45eb2ff5",
   "metadata": {
    "execution": {
     "iopub.execute_input": "2022-07-21T10:13:52.321441Z",
     "iopub.status.busy": "2022-07-21T10:13:52.320837Z",
     "iopub.status.idle": "2022-07-21T10:13:52.359353Z",
     "shell.execute_reply": "2022-07-21T10:13:52.358856Z"
    },
    "papermill": {
     "duration": 0.08604,
     "end_time": "2022-07-21T10:13:52.359474",
     "exception": false,
     "start_time": "2022-07-21T10:13:52.273434",
     "status": "completed"
    },
    "tags": []
   },
   "outputs": [],
   "source": [
    "new_model = Model(layers[:-2])\n",
    "testing_plot = new_model(testing_data_x)"
   ]
  },
  {
   "cell_type": "code",
   "execution_count": 26,
   "id": "4c0a5485",
   "metadata": {
    "execution": {
     "iopub.execute_input": "2022-07-21T10:13:52.449886Z",
     "iopub.status.busy": "2022-07-21T10:13:52.449271Z",
     "iopub.status.idle": "2022-07-21T10:13:52.668484Z",
     "shell.execute_reply": "2022-07-21T10:13:52.668916Z"
    },
    "papermill": {
     "duration": 0.266369,
     "end_time": "2022-07-21T10:13:52.669056",
     "exception": false,
     "start_time": "2022-07-21T10:13:52.402687",
     "status": "completed"
    },
    "tags": []
   },
   "outputs": [
    {
     "data": {
      "text/plain": [
       "Text(0.5, 1.0, 'Outputs')"
      ]
     },
     "execution_count": 26,
     "metadata": {},
     "output_type": "execute_result"
    },
    {
     "data": {
      "image/png": "[encoded data removed]",
      "text/plain": [
       "<Figure size 576x504 with 1 Axes>"
      ]
     },
     "metadata": {
      "needs_background": "light"
     },
     "output_type": "display_data"
    }
   ],
   "source": [
    "# Plotting the scatter plot of points and color coding by class\n",
    "plt.figure(figsize=(8,7))\n",
    "plt.scatter(testing_plot[:,0], testing_plot[:,1], alpha = 0.1, c = y_test.ravel());\n",
    "plt.title('Outputs')"
   ]
  },
  {
   "cell_type": "markdown",
   "id": "a74fcf8f",
   "metadata": {
    "papermill": {
     "duration": 0.045168,
     "end_time": "2022-07-21T10:13:52.759561",
     "exception": false,
     "start_time": "2022-07-21T10:13:52.714393",
     "status": "completed"
    },
    "tags": []
   },
   "source": [
    "Probability contours"
   ]
  },
  {
   "cell_type": "code",
   "execution_count": 27,
   "id": "d0afc8e3",
   "metadata": {
    "execution": {
     "iopub.execute_input": "2022-07-21T10:13:52.878052Z",
     "iopub.status.busy": "2022-07-21T10:13:52.877442Z",
     "iopub.status.idle": "2022-07-21T10:13:52.890089Z",
     "shell.execute_reply": "2022-07-21T10:13:52.890563Z"
    },
    "papermill": {
     "duration": 0.085484,
     "end_time": "2022-07-21T10:13:52.890689",
     "exception": false,
     "start_time": "2022-07-21T10:13:52.805205",
     "status": "completed"
    },
    "tags": []
   },
   "outputs": [],
   "source": [
    "model_prob = Model(layers[-2:]) "
   ]
  },
  {
   "cell_type": "code",
   "execution_count": 28,
   "id": "9b96e238",
   "metadata": {
    "execution": {
     "iopub.execute_input": "2022-07-21T10:13:52.986402Z",
     "iopub.status.busy": "2022-07-21T10:13:52.985799Z",
     "iopub.status.idle": "2022-07-21T10:13:53.002358Z",
     "shell.execute_reply": "2022-07-21T10:13:53.001897Z"
    },
    "papermill": {
     "duration": 0.066233,
     "end_time": "2022-07-21T10:13:53.002475",
     "exception": false,
     "start_time": "2022-07-21T10:13:52.936242",
     "status": "completed"
    },
    "tags": []
   },
   "outputs": [],
   "source": [
    "#creating the x and y ranges according to the above generated plot.\n",
    "x_range = np.linspace(-4, 1, 100) \n",
    "y_range = np.linspace(-6, 6, 100) \n",
    "x_grid, y_grid = np.meshgrid(x_range, y_range) # x_grid and y_grig are of size 100 X 100\n",
    "\n",
    "# converting x_grid and y_grid to continuous arrays\n",
    "x_gridflat = np.ravel(x_grid)\n",
    "y_gridflat = np.ravel(y_grid)\n",
    "\n",
    "# The last layer of the current model takes two columns as input. Hence transpose of np.vstack() is required.\n",
    "X = np.vstack((x_gridflat, y_gridflat)).T\n",
    "\n",
    "prob_contour = model_prob(X).reshape(100,100) "
   ]
  },
  {
   "cell_type": "code",
   "execution_count": 29,
   "id": "da72499a",
   "metadata": {
    "execution": {
     "iopub.execute_input": "2022-07-21T10:13:53.104959Z",
     "iopub.status.busy": "2022-07-21T10:13:53.104376Z",
     "iopub.status.idle": "2022-07-21T10:13:53.374955Z",
     "shell.execute_reply": "2022-07-21T10:13:53.375836Z"
    },
    "papermill": {
     "duration": 0.323075,
     "end_time": "2022-07-21T10:13:53.375984",
     "exception": false,
     "start_time": "2022-07-21T10:13:53.052909",
     "status": "completed"
    },
    "tags": []
   },
   "outputs": [
    {
     "data": {
      "image/png": "[encoded data removed]",
      "text/plain": [
       "<Figure size 720x648 with 1 Axes>"
      ]
     },
     "metadata": {
      "needs_background": "light"
     },
     "output_type": "display_data"
    }
   ],
   "source": [
    "plt.figure(figsize=(10,9))\n",
    "plt.scatter(testing_plot[:,0], testing_plot[:,1], alpha = 0.1, c = y_test.ravel())\n",
    "contours = plt.contour(x_grid,y_grid,prob_contour)\n",
    "plt.title('Probability Contours')\n",
    "plt.clabel(contours, inline = True );"
   ]
  },
  {
   "cell_type": "code",
   "execution_count": null,
   "id": "e81b4ac7",
   "metadata": {
    "papermill": {
     "duration": 0.048529,
     "end_time": "2022-07-21T10:13:53.472997",
     "exception": false,
     "start_time": "2022-07-21T10:13:53.424468",
     "status": "completed"
    },
    "tags": []
   },
   "outputs": [],
   "source": []
  }
 ],
 "metadata": {
  "kernelspec": {
   "display_name": "Python 3",
   "language": "python",
   "name": "python3"
  },
  "language_info": {
   "codemirror_mode": {
    "name": "ipython",
    "version": 3
   },
   "file_extension": ".py",
   "mimetype": "text/x-python",
   "name": "python",
   "nbconvert_exporter": "python",
   "pygments_lexer": "ipython3",
   "version": "3.6.15"
  },
  "papermill": {
   "default_parameters": {},
   "duration": 200.360031,
   "end_time": "2022-07-21T10:13:53.838987",
   "environment_variables": {},
   "exception": null,
   "input_path": "2020-08-11-part2.ipynb",
   "output_path": "2020-08-11-part2.ipynb",
   "parameters": {},
   "start_time": "2022-07-21T10:10:33.478956",
   "version": "2.3.3"
  }
 },
 "nbformat": 4,
 "nbformat_minor": 5
}