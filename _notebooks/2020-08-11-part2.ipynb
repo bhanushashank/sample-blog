{
 "cells": [
  {
   "cell_type": "markdown",
   "id": "98380cd3",
   "metadata": {
    "papermill": {
     "duration": 0.03943,
     "end_time": "2022-11-18T20:11:18.854501",
     "exception": false,
     "start_time": "2022-11-18T20:11:18.815071",
     "status": "completed"
    },
    "tags": []
   },
   "source": [
    "# Distinguish Your Own Digits (DYOD)"
   ]
  },
  {
   "cell_type": "markdown",
   "id": "ef31240d",
   "metadata": {
    "papermill": {
     "duration": 0.034655,
     "end_time": "2022-11-18T20:11:18.922980",
     "exception": false,
     "start_time": "2022-11-18T20:11:18.888325",
     "status": "completed"
    },
    "tags": []
   },
   "source": [
    "You are going to write a classifier that distinguishes between the number 3 and number 8."
   ]
  },
  {
   "cell_type": "code",
   "execution_count": 1,
   "id": "b15c8646",
   "metadata": {
    "execution": {
     "iopub.execute_input": "2022-11-18T20:11:19.002591Z",
     "iopub.status.busy": "2022-11-18T20:11:19.001236Z",
     "iopub.status.idle": "2022-11-18T20:11:19.016278Z",
     "shell.execute_reply": "2022-11-18T20:11:19.015606Z"
    },
    "papermill": {
     "duration": 0.060867,
     "end_time": "2022-11-18T20:11:19.016466",
     "exception": false,
     "start_time": "2022-11-18T20:11:18.955599",
     "status": "completed"
    },
    "tags": []
   },
   "outputs": [],
   "source": [
    "%load_ext autoreload\n",
    "%autoreload 2"
   ]
  },
  {
   "cell_type": "code",
   "execution_count": 2,
   "id": "22ef38dc",
   "metadata": {
    "execution": {
     "iopub.execute_input": "2022-11-18T20:11:19.094662Z",
     "iopub.status.busy": "2022-11-18T20:11:19.093562Z",
     "iopub.status.idle": "2022-11-18T20:11:19.856494Z",
     "shell.execute_reply": "2022-11-18T20:11:19.855774Z"
    },
    "papermill": {
     "duration": 0.807648,
     "end_time": "2022-11-18T20:11:19.856656",
     "exception": false,
     "start_time": "2022-11-18T20:11:19.049008",
     "status": "completed"
    },
    "tags": []
   },
   "outputs": [],
   "source": [
    "%matplotlib inline\n",
    "import numpy as np\n",
    "import matplotlib.pyplot as plt\n",
    "import pandas as pd"
   ]
  },
  {
   "cell_type": "markdown",
   "id": "ba036198",
   "metadata": {
    "papermill": {
     "duration": 0.034002,
     "end_time": "2022-11-18T20:11:19.922924",
     "exception": false,
     "start_time": "2022-11-18T20:11:19.888922",
     "status": "completed"
    },
    "tags": []
   },
   "source": [
    "From the command line run `pip install mnist`. This is a library that will help you bring down the mnist dataset. If you run this from a notebook, you need to put  `!pip install mnist` in a cell by itself."
   ]
  },
  {
   "cell_type": "code",
   "execution_count": 3,
   "id": "bb6ad8a1",
   "metadata": {
    "execution": {
     "iopub.execute_input": "2022-11-18T20:11:20.000996Z",
     "iopub.status.busy": "2022-11-18T20:11:20.000156Z",
     "iopub.status.idle": "2022-11-18T20:11:22.227692Z",
     "shell.execute_reply": "2022-11-18T20:11:22.225858Z"
    },
    "papermill": {
     "duration": 2.273371,
     "end_time": "2022-11-18T20:11:22.228294",
     "exception": false,
     "start_time": "2022-11-18T20:11:19.954923",
     "status": "completed"
    },
    "tags": []
   },
   "outputs": [
    {
     "name": "stdout",
     "output_type": "stream",
     "text": [
      "Collecting mnist\r\n"
     ]
    },
    {
     "name": "stdout",
     "output_type": "stream",
     "text": [
      "  Downloading mnist-0.2.2-py2.py3-none-any.whl (3.5 kB)\r\n",
      "Requirement already satisfied: numpy in /opt/hostedtoolcache/Python/3.6.15/x64/lib/python3.6/site-packages (from mnist) (1.19.5)\r\n"
     ]
    },
    {
     "name": "stdout",
     "output_type": "stream",
     "text": [
      "Installing collected packages: mnist\r\n"
     ]
    },
    {
     "name": "stdout",
     "output_type": "stream",
     "text": [
      "Successfully installed mnist-0.2.2\r\n"
     ]
    }
   ],
   "source": [
    "!pip install mnist"
   ]
  },
  {
   "cell_type": "markdown",
   "id": "69df9c9a",
   "metadata": {
    "papermill": {
     "duration": 0.034866,
     "end_time": "2022-11-18T20:11:22.299192",
     "exception": false,
     "start_time": "2022-11-18T20:11:22.264326",
     "status": "completed"
    },
    "tags": []
   },
   "source": [
    "## Preparing the Data"
   ]
  },
  {
   "cell_type": "code",
   "execution_count": 4,
   "id": "7f69d806",
   "metadata": {
    "execution": {
     "iopub.execute_input": "2022-11-18T20:11:22.375318Z",
     "iopub.status.busy": "2022-11-18T20:11:22.374481Z",
     "iopub.status.idle": "2022-11-18T20:11:22.393066Z",
     "shell.execute_reply": "2022-11-18T20:11:22.392384Z"
    },
    "papermill": {
     "duration": 0.058352,
     "end_time": "2022-11-18T20:11:22.393234",
     "exception": false,
     "start_time": "2022-11-18T20:11:22.334882",
     "status": "completed"
    },
    "tags": []
   },
   "outputs": [],
   "source": [
    "import mnist"
   ]
  },
  {
   "cell_type": "code",
   "execution_count": 5,
   "id": "a411e44f",
   "metadata": {
    "execution": {
     "iopub.execute_input": "2022-11-18T20:11:22.475886Z",
     "iopub.status.busy": "2022-11-18T20:11:22.474908Z",
     "iopub.status.idle": "2022-11-18T20:11:23.240676Z",
     "shell.execute_reply": "2022-11-18T20:11:23.240006Z"
    },
    "papermill": {
     "duration": 0.811875,
     "end_time": "2022-11-18T20:11:23.240841",
     "exception": false,
     "start_time": "2022-11-18T20:11:22.428966",
     "status": "completed"
    },
    "tags": []
   },
   "outputs": [],
   "source": [
    "train_images = mnist.train_images()\n",
    "train_labels = mnist.train_labels()"
   ]
  },
  {
   "cell_type": "code",
   "execution_count": 6,
   "id": "dceab3a5",
   "metadata": {
    "execution": {
     "iopub.execute_input": "2022-11-18T20:11:23.315957Z",
     "iopub.status.busy": "2022-11-18T20:11:23.314611Z",
     "iopub.status.idle": "2022-11-18T20:11:23.333183Z",
     "shell.execute_reply": "2022-11-18T20:11:23.332438Z"
    },
    "papermill": {
     "duration": 0.058702,
     "end_time": "2022-11-18T20:11:23.333348",
     "exception": false,
     "start_time": "2022-11-18T20:11:23.274646",
     "status": "completed"
    },
    "tags": []
   },
   "outputs": [
    {
     "data": {
      "text/plain": [
       "((60000, 28, 28), (60000,))"
      ]
     },
     "execution_count": 6,
     "metadata": {},
     "output_type": "execute_result"
    }
   ],
   "source": [
    "train_images.shape, train_labels.shape"
   ]
  },
  {
   "cell_type": "code",
   "execution_count": 7,
   "id": "f50dc2bb",
   "metadata": {
    "execution": {
     "iopub.execute_input": "2022-11-18T20:11:23.412692Z",
     "iopub.status.busy": "2022-11-18T20:11:23.411855Z",
     "iopub.status.idle": "2022-11-18T20:11:23.652596Z",
     "shell.execute_reply": "2022-11-18T20:11:23.651184Z"
    },
    "papermill": {
     "duration": 0.285045,
     "end_time": "2022-11-18T20:11:23.652766",
     "exception": false,
     "start_time": "2022-11-18T20:11:23.367721",
     "status": "completed"
    },
    "tags": []
   },
   "outputs": [],
   "source": [
    "test_images = mnist.test_images()\n",
    "test_labels = mnist.test_labels()"
   ]
  },
  {
   "cell_type": "code",
   "execution_count": 8,
   "id": "fc38cf1b",
   "metadata": {
    "execution": {
     "iopub.execute_input": "2022-11-18T20:11:23.727839Z",
     "iopub.status.busy": "2022-11-18T20:11:23.727042Z",
     "iopub.status.idle": "2022-11-18T20:11:23.745119Z",
     "shell.execute_reply": "2022-11-18T20:11:23.744455Z"
    },
    "papermill": {
     "duration": 0.058064,
     "end_time": "2022-11-18T20:11:23.745276",
     "exception": false,
     "start_time": "2022-11-18T20:11:23.687212",
     "status": "completed"
    },
    "tags": []
   },
   "outputs": [
    {
     "data": {
      "text/plain": [
       "((10000, 28, 28), (10000,))"
      ]
     },
     "execution_count": 8,
     "metadata": {},
     "output_type": "execute_result"
    }
   ],
   "source": [
    "test_images.shape, test_labels.shape"
   ]
  },
  {
   "cell_type": "code",
   "execution_count": 9,
   "id": "f9ed8fe0",
   "metadata": {
    "execution": {
     "iopub.execute_input": "2022-11-18T20:11:23.822269Z",
     "iopub.status.busy": "2022-11-18T20:11:23.821414Z",
     "iopub.status.idle": "2022-11-18T20:11:24.028859Z",
     "shell.execute_reply": "2022-11-18T20:11:24.029448Z"
    },
    "papermill": {
     "duration": 0.24933,
     "end_time": "2022-11-18T20:11:24.029633",
     "exception": false,
     "start_time": "2022-11-18T20:11:23.780303",
     "status": "completed"
    },
    "tags": []
   },
   "outputs": [
    {
     "name": "stdout",
     "output_type": "stream",
     "text": [
      "2\n"
     ]
    },
    {
     "data": {
      "text/plain": [
       "<matplotlib.image.AxesImage at 0x7f297b202dd8>"
      ]
     },
     "execution_count": 9,
     "metadata": {},
     "output_type": "execute_result"
    },
    {
     "data": {
      "image/png": "[encoded data removed]",
      "text/plain": [
       "<Figure size 432x288 with 1 Axes>"
      ]
     },
     "metadata": {
      "needs_background": "light"
     },
     "output_type": "display_data"
    }
   ],
   "source": [
    "image_index = 7776 # You may select anything up to 60,000\n",
    "print(train_labels[image_index]) \n",
    "plt.imshow(train_images[image_index], cmap='Greys')"
   ]
  },
  {
   "cell_type": "markdown",
   "id": "a8d2388d",
   "metadata": {
    "papermill": {
     "duration": 0.035219,
     "end_time": "2022-11-18T20:11:24.102114",
     "exception": false,
     "start_time": "2022-11-18T20:11:24.066895",
     "status": "completed"
    },
    "tags": []
   },
   "source": [
    "## Filter data to get 3 and 8 out"
   ]
  },
  {
   "cell_type": "code",
   "execution_count": 10,
   "id": "776f7fc7",
   "metadata": {
    "execution": {
     "iopub.execute_input": "2022-11-18T20:11:24.191363Z",
     "iopub.status.busy": "2022-11-18T20:11:24.184021Z",
     "iopub.status.idle": "2022-11-18T20:11:24.208279Z",
     "shell.execute_reply": "2022-11-18T20:11:24.208888Z"
    },
    "papermill": {
     "duration": 0.067232,
     "end_time": "2022-11-18T20:11:24.209082",
     "exception": false,
     "start_time": "2022-11-18T20:11:24.141850",
     "status": "completed"
    },
    "tags": []
   },
   "outputs": [],
   "source": [
    "train_filter = np.where((train_labels == 3 ) | (train_labels == 8))\n",
    "test_filter = np.where((test_labels == 3) | (test_labels == 8))\n",
    "X_train, y_train = train_images[train_filter], train_labels[train_filter]\n",
    "X_test, y_test = test_images[test_filter], test_labels[test_filter]"
   ]
  },
  {
   "cell_type": "markdown",
   "id": "948f0b7e",
   "metadata": {
    "papermill": {
     "duration": 0.035624,
     "end_time": "2022-11-18T20:11:24.280346",
     "exception": false,
     "start_time": "2022-11-18T20:11:24.244722",
     "status": "completed"
    },
    "tags": []
   },
   "source": [
    "We normalize the pizel values in the 0 to 1 range"
   ]
  },
  {
   "cell_type": "code",
   "execution_count": 11,
   "id": "ee4c2166",
   "metadata": {
    "execution": {
     "iopub.execute_input": "2022-11-18T20:11:24.360003Z",
     "iopub.status.busy": "2022-11-18T20:11:24.359193Z",
     "iopub.status.idle": "2022-11-18T20:11:24.426666Z",
     "shell.execute_reply": "2022-11-18T20:11:24.425845Z"
    },
    "papermill": {
     "duration": 0.109384,
     "end_time": "2022-11-18T20:11:24.426832",
     "exception": false,
     "start_time": "2022-11-18T20:11:24.317448",
     "status": "completed"
    },
    "tags": []
   },
   "outputs": [],
   "source": [
    "X_train = X_train/255.\n",
    "X_test = X_test/255."
   ]
  },
  {
   "cell_type": "markdown",
   "id": "ddcf4fab",
   "metadata": {
    "papermill": {
     "duration": 0.035712,
     "end_time": "2022-11-18T20:11:24.498301",
     "exception": false,
     "start_time": "2022-11-18T20:11:24.462589",
     "status": "completed"
    },
    "tags": []
   },
   "source": [
    "And setup the labels as 1 (when the digit is 3) and 0 (when the digit is 8)"
   ]
  },
  {
   "cell_type": "code",
   "execution_count": 12,
   "id": "7dc908f2",
   "metadata": {
    "execution": {
     "iopub.execute_input": "2022-11-18T20:11:24.589264Z",
     "iopub.status.busy": "2022-11-18T20:11:24.584212Z",
     "iopub.status.idle": "2022-11-18T20:11:24.598385Z",
     "shell.execute_reply": "2022-11-18T20:11:24.599025Z"
    },
    "papermill": {
     "duration": 0.065005,
     "end_time": "2022-11-18T20:11:24.599214",
     "exception": false,
     "start_time": "2022-11-18T20:11:24.534209",
     "status": "completed"
    },
    "tags": []
   },
   "outputs": [],
   "source": [
    "y_train = 1*(y_train==3)\n",
    "y_test = 1*(y_test==3)"
   ]
  },
  {
   "cell_type": "code",
   "execution_count": 13,
   "id": "01e4e969",
   "metadata": {
    "execution": {
     "iopub.execute_input": "2022-11-18T20:11:24.683722Z",
     "iopub.status.busy": "2022-11-18T20:11:24.677860Z",
     "iopub.status.idle": "2022-11-18T20:11:24.695358Z",
     "shell.execute_reply": "2022-11-18T20:11:24.694554Z"
    },
    "papermill": {
     "duration": 0.059441,
     "end_time": "2022-11-18T20:11:24.695520",
     "exception": false,
     "start_time": "2022-11-18T20:11:24.636079",
     "status": "completed"
    },
    "tags": []
   },
   "outputs": [
    {
     "data": {
      "text/plain": [
       "((11982, 28, 28), (1984, 28, 28))"
      ]
     },
     "execution_count": 13,
     "metadata": {},
     "output_type": "execute_result"
    }
   ],
   "source": [
    "X_train.shape, X_test.shape"
   ]
  },
  {
   "cell_type": "markdown",
   "id": "5ccf3f85",
   "metadata": {
    "papermill": {
     "duration": 0.037171,
     "end_time": "2022-11-18T20:11:24.769356",
     "exception": false,
     "start_time": "2022-11-18T20:11:24.732185",
     "status": "completed"
    },
    "tags": []
   },
   "source": [
    "We reshape the data to flatten the image pixels into a set of features or co-variates:"
   ]
  },
  {
   "cell_type": "code",
   "execution_count": 14,
   "id": "5286a4a3",
   "metadata": {
    "execution": {
     "iopub.execute_input": "2022-11-18T20:11:24.849883Z",
     "iopub.status.busy": "2022-11-18T20:11:24.848928Z",
     "iopub.status.idle": "2022-11-18T20:11:24.870482Z",
     "shell.execute_reply": "2022-11-18T20:11:24.871238Z"
    },
    "papermill": {
     "duration": 0.064172,
     "end_time": "2022-11-18T20:11:24.871418",
     "exception": false,
     "start_time": "2022-11-18T20:11:24.807246",
     "status": "completed"
    },
    "tags": []
   },
   "outputs": [
    {
     "data": {
      "text/plain": [
       "((11982, 784), (1984, 784))"
      ]
     },
     "execution_count": 14,
     "metadata": {},
     "output_type": "execute_result"
    }
   ],
   "source": [
    "X_train = X_train.reshape(X_train.shape[0], -1)\n",
    "X_test = X_test.reshape(X_test.shape[0], -1)\n",
    "X_train.shape, X_test.shape"
   ]
  },
  {
   "cell_type": "code",
   "execution_count": 15,
   "id": "73c5f88a",
   "metadata": {
    "execution": {
     "iopub.execute_input": "2022-11-18T20:11:24.953157Z",
     "iopub.status.busy": "2022-11-18T20:11:24.952310Z",
     "iopub.status.idle": "2022-11-18T20:11:24.977002Z",
     "shell.execute_reply": "2022-11-18T20:11:24.977644Z"
    },
    "papermill": {
     "duration": 0.06916,
     "end_time": "2022-11-18T20:11:24.977841",
     "exception": false,
     "start_time": "2022-11-18T20:11:24.908681",
     "status": "completed"
    },
    "tags": []
   },
   "outputs": [],
   "source": [
    "#Impoting functions from 'Kudzu'\n",
    "from kudzu.model import Model\n",
    "from kudzu.train import Learner\n",
    "from kudzu.optim import GD\n",
    "from kudzu.data import Data, Sampler,Dataloader\n",
    "\n",
    "from kudzu.callbacks import AccCallback\n",
    "from kudzu.callbacks import ClfCallback\n",
    "\n",
    "from kudzu.loss import MSE\n",
    "\n",
    "from kudzu.layer import Sigmoid,Relu\n",
    "from kudzu.layer import Affine"
   ]
  },
  {
   "cell_type": "markdown",
   "id": "bc01172a",
   "metadata": {
    "papermill": {
     "duration": 0.039571,
     "end_time": "2022-11-18T20:11:25.057182",
     "exception": false,
     "start_time": "2022-11-18T20:11:25.017611",
     "status": "completed"
    },
    "tags": []
   },
   "source": [
    "### Let us create a `Config` class, to store important parameters. \n",
    "This class essentially plays the role of a dictionary."
   ]
  },
  {
   "cell_type": "code",
   "execution_count": 16,
   "id": "978281aa",
   "metadata": {
    "execution": {
     "iopub.execute_input": "2022-11-18T20:11:25.135478Z",
     "iopub.status.busy": "2022-11-18T20:11:25.134649Z",
     "iopub.status.idle": "2022-11-18T20:11:25.151505Z",
     "shell.execute_reply": "2022-11-18T20:11:25.150787Z"
    },
    "papermill": {
     "duration": 0.05837,
     "end_time": "2022-11-18T20:11:25.151666",
     "exception": false,
     "start_time": "2022-11-18T20:11:25.093296",
     "status": "completed"
    },
    "tags": []
   },
   "outputs": [],
   "source": [
    "class Config:\n",
    "    pass\n",
    "config = Config()\n",
    "config.lr = 0.001\n",
    "config.num_epochs = 250\n",
    "config.bs = 50"
   ]
  },
  {
   "cell_type": "markdown",
   "id": "1385fa59",
   "metadata": {
    "papermill": {
     "duration": 0.038107,
     "end_time": "2022-11-18T20:11:25.226713",
     "exception": false,
     "start_time": "2022-11-18T20:11:25.188606",
     "status": "completed"
    },
    "tags": []
   },
   "source": [
    "### Running Models with the Training data\n",
    "Details about the network layers:\n",
    "- A first affine layer has 784 inputs and does 100 affine transforms. These are followed by a Relu\n",
    "- A second affine layer has 100 inputs from the 100 activations of the past layer, and does 100 affine transforms. These are followed by a Relu\n",
    "- A third affine layer has 100 activations and does 2 affine transformations to create an embedding for visualization. There is no non-linearity here.\n",
    "- A final \"logistic regression\" which has an affine transform from 2 inputs to 1 output, which is squeezed through a sigmoid.\n"
   ]
  },
  {
   "cell_type": "code",
   "execution_count": 17,
   "id": "2b9c66db",
   "metadata": {
    "execution": {
     "iopub.execute_input": "2022-11-18T20:11:25.308984Z",
     "iopub.status.busy": "2022-11-18T20:11:25.307620Z",
     "iopub.status.idle": "2022-11-18T20:11:25.325070Z",
     "shell.execute_reply": "2022-11-18T20:11:25.325824Z"
    },
    "papermill": {
     "duration": 0.06237,
     "end_time": "2022-11-18T20:11:25.326019",
     "exception": false,
     "start_time": "2022-11-18T20:11:25.263649",
     "status": "completed"
    },
    "tags": []
   },
   "outputs": [],
   "source": [
    "data = Data(X_train, y_train.reshape(-1,1))\n",
    "sampler = Sampler(data, config.bs, shuffle=True)\n",
    "\n",
    "dl = Dataloader(data, sampler)\n",
    "\n",
    "opt = GD(config.lr)\n",
    "loss = MSE()"
   ]
  },
  {
   "cell_type": "code",
   "execution_count": 18,
   "id": "b275e4c2",
   "metadata": {
    "execution": {
     "iopub.execute_input": "2022-11-18T20:11:25.409914Z",
     "iopub.status.busy": "2022-11-18T20:11:25.405903Z",
     "iopub.status.idle": "2022-11-18T20:11:25.424245Z",
     "shell.execute_reply": "2022-11-18T20:11:25.423474Z"
    },
    "papermill": {
     "duration": 0.060942,
     "end_time": "2022-11-18T20:11:25.424403",
     "exception": false,
     "start_time": "2022-11-18T20:11:25.363461",
     "status": "completed"
    },
    "tags": []
   },
   "outputs": [],
   "source": [
    "training_data_x = X_train\n",
    "testing_data_x = X_test\n",
    "training_data_y = y_train.reshape(-1,1)\n",
    "testing_data_y = y_test.reshape(-1,1)"
   ]
  },
  {
   "cell_type": "code",
   "execution_count": 19,
   "id": "76951160",
   "metadata": {
    "execution": {
     "iopub.execute_input": "2022-11-18T20:11:25.503893Z",
     "iopub.status.busy": "2022-11-18T20:11:25.503081Z",
     "iopub.status.idle": "2022-11-18T20:11:25.524245Z",
     "shell.execute_reply": "2022-11-18T20:11:25.523603Z"
    },
    "papermill": {
     "duration": 0.063253,
     "end_time": "2022-11-18T20:11:25.524394",
     "exception": false,
     "start_time": "2022-11-18T20:11:25.461141",
     "status": "completed"
    },
    "tags": []
   },
   "outputs": [
    {
     "name": "stdout",
     "output_type": "stream",
     "text": [
      "xavier\n",
      "xavier\n",
      "xavier\n",
      "xavier\n",
      "xavier\n"
     ]
    }
   ],
   "source": [
    "layers = [Affine(\"first\", 784, 100), Relu(\"first\"), Affine(\"second\", 100, 100), Relu(\"second\"), Affine(\"third\", 100, 2), Affine(\"last\", 2, 1), Sigmoid(\"last\")]\n",
    "model_nn = Model(layers)\n",
    "model_lr = Model([Affine(\"logits\", 784, 1), Sigmoid(\"sigmoid\")])"
   ]
  },
  {
   "cell_type": "code",
   "execution_count": 20,
   "id": "6eede77a",
   "metadata": {
    "execution": {
     "iopub.execute_input": "2022-11-18T20:11:25.603464Z",
     "iopub.status.busy": "2022-11-18T20:11:25.602703Z",
     "iopub.status.idle": "2022-11-18T20:11:25.618989Z",
     "shell.execute_reply": "2022-11-18T20:11:25.618324Z"
    },
    "papermill": {
     "duration": 0.058494,
     "end_time": "2022-11-18T20:11:25.619143",
     "exception": false,
     "start_time": "2022-11-18T20:11:25.560649",
     "status": "completed"
    },
    "tags": []
   },
   "outputs": [],
   "source": [
    "nn_learner = Learner(loss, model_nn, opt, config.num_epochs)\n",
    "acc_nn = ClfCallback(nn_learner, config.bs, training_data_x , testing_data_x, training_data_y, testing_data_y)\n",
    "nn_learner.set_callbacks([acc_nn])"
   ]
  },
  {
   "cell_type": "code",
   "execution_count": 21,
   "id": "877b6cc7",
   "metadata": {
    "execution": {
     "iopub.execute_input": "2022-11-18T20:11:25.706409Z",
     "iopub.status.busy": "2022-11-18T20:11:25.705535Z",
     "iopub.status.idle": "2022-11-18T20:11:25.722438Z",
     "shell.execute_reply": "2022-11-18T20:11:25.721707Z"
    },
    "papermill": {
     "duration": 0.066903,
     "end_time": "2022-11-18T20:11:25.722600",
     "exception": false,
     "start_time": "2022-11-18T20:11:25.655697",
     "status": "completed"
    },
    "tags": []
   },
   "outputs": [],
   "source": [
    "lr_learner = Learner(loss, model_lr, opt, config.num_epochs)\n",
    "acc_lr = ClfCallback(lr_learner, config.bs, training_data_x , testing_data_x, training_data_y, testing_data_y)\n",
    "lr_learner.set_callbacks([acc_lr])"
   ]
  },
  {
   "cell_type": "code",
   "execution_count": 22,
   "id": "d9b133c3",
   "metadata": {
    "execution": {
     "iopub.execute_input": "2022-11-18T20:11:25.802810Z",
     "iopub.status.busy": "2022-11-18T20:11:25.801816Z",
     "iopub.status.idle": "2022-11-18T20:13:50.348286Z",
     "shell.execute_reply": "2022-11-18T20:13:50.349319Z"
    },
    "papermill": {
     "duration": 144.589076,
     "end_time": "2022-11-18T20:13:50.349499",
     "exception": false,
     "start_time": "2022-11-18T20:11:25.760423",
     "status": "completed"
    },
    "tags": []
   },
   "outputs": [
    {
     "name": "stdout",
     "output_type": "stream",
     "text": [
      "Epoch 0, Loss 0.2433\n",
      "Training Accuracy: 0.6453, Testing Accuracy: 0.6537\n",
      "\n"
     ]
    },
    {
     "name": "stdout",
     "output_type": "stream",
     "text": [
      "Epoch 10, Loss 0.0859\n",
      "Training Accuracy: 0.9146, Testing Accuracy: 0.9249\n",
      "\n"
     ]
    },
    {
     "name": "stdout",
     "output_type": "stream",
     "text": [
      "Epoch 20, Loss 0.0536\n",
      "Training Accuracy: 0.9449, Testing Accuracy: 0.9561\n",
      "\n"
     ]
    },
    {
     "name": "stdout",
     "output_type": "stream",
     "text": [
      "Epoch 30, Loss 0.0424\n",
      "Training Accuracy: 0.9541, Testing Accuracy: 0.9632\n",
      "\n"
     ]
    },
    {
     "name": "stdout",
     "output_type": "stream",
     "text": [
      "Epoch 40, Loss 0.0368\n",
      "Training Accuracy: 0.9587, Testing Accuracy: 0.9667\n",
      "\n"
     ]
    },
    {
     "name": "stdout",
     "output_type": "stream",
     "text": [
      "Epoch 50, Loss 0.0334\n",
      "Training Accuracy: 0.9620, Testing Accuracy: 0.9703\n",
      "\n"
     ]
    },
    {
     "name": "stdout",
     "output_type": "stream",
     "text": [
      "Epoch 60, Loss 0.031\n",
      "Training Accuracy: 0.9644, Testing Accuracy: 0.9708\n",
      "\n"
     ]
    },
    {
     "name": "stdout",
     "output_type": "stream",
     "text": [
      "Epoch 70, Loss 0.0292\n",
      "Training Accuracy: 0.9660, Testing Accuracy: 0.9713\n",
      "\n"
     ]
    },
    {
     "name": "stdout",
     "output_type": "stream",
     "text": [
      "Epoch 80, Loss 0.0279\n",
      "Training Accuracy: 0.9673, Testing Accuracy: 0.9703\n",
      "\n"
     ]
    },
    {
     "name": "stdout",
     "output_type": "stream",
     "text": [
      "Epoch 90, Loss 0.0267\n",
      "Training Accuracy: 0.9685, Testing Accuracy: 0.9713\n",
      "\n"
     ]
    },
    {
     "name": "stdout",
     "output_type": "stream",
     "text": [
      "Epoch 100, Loss 0.0257\n",
      "Training Accuracy: 0.9698, Testing Accuracy: 0.9718\n",
      "\n"
     ]
    },
    {
     "name": "stdout",
     "output_type": "stream",
     "text": [
      "Epoch 110, Loss 0.0249\n",
      "Training Accuracy: 0.9706, Testing Accuracy: 0.9723\n",
      "\n"
     ]
    },
    {
     "name": "stdout",
     "output_type": "stream",
     "text": [
      "Epoch 120, Loss 0.0241\n",
      "Training Accuracy: 0.9715, Testing Accuracy: 0.9723\n",
      "\n"
     ]
    },
    {
     "name": "stdout",
     "output_type": "stream",
     "text": [
      "Epoch 130, Loss 0.0234\n",
      "Training Accuracy: 0.9723, Testing Accuracy: 0.9723\n",
      "\n"
     ]
    },
    {
     "name": "stdout",
     "output_type": "stream",
     "text": [
      "Epoch 140, Loss 0.0228\n",
      "Training Accuracy: 0.9733, Testing Accuracy: 0.9733\n",
      "\n"
     ]
    },
    {
     "name": "stdout",
     "output_type": "stream",
     "text": [
      "Epoch 150, Loss 0.0222\n",
      "Training Accuracy: 0.9739, Testing Accuracy: 0.9728\n",
      "\n"
     ]
    },
    {
     "name": "stdout",
     "output_type": "stream",
     "text": [
      "Epoch 160, Loss 0.0216\n",
      "Training Accuracy: 0.9750, Testing Accuracy: 0.9728\n",
      "\n"
     ]
    },
    {
     "name": "stdout",
     "output_type": "stream",
     "text": [
      "Epoch 170, Loss 0.0211\n",
      "Training Accuracy: 0.9756, Testing Accuracy: 0.9733\n",
      "\n"
     ]
    },
    {
     "name": "stdout",
     "output_type": "stream",
     "text": [
      "Epoch 180, Loss 0.0206\n",
      "Training Accuracy: 0.9764, Testing Accuracy: 0.9738\n",
      "\n"
     ]
    },
    {
     "name": "stdout",
     "output_type": "stream",
     "text": [
      "Epoch 190, Loss 0.0201\n",
      "Training Accuracy: 0.9762, Testing Accuracy: 0.9733\n",
      "\n"
     ]
    },
    {
     "name": "stdout",
     "output_type": "stream",
     "text": [
      "Epoch 200, Loss 0.0196\n",
      "Training Accuracy: 0.9775, Testing Accuracy: 0.9743\n",
      "\n"
     ]
    },
    {
     "name": "stdout",
     "output_type": "stream",
     "text": [
      "Epoch 210, Loss 0.0192\n",
      "Training Accuracy: 0.9782, Testing Accuracy: 0.9743\n",
      "\n"
     ]
    },
    {
     "name": "stdout",
     "output_type": "stream",
     "text": [
      "Epoch 220, Loss 0.0188\n",
      "Training Accuracy: 0.9787, Testing Accuracy: 0.9748\n",
      "\n"
     ]
    },
    {
     "name": "stdout",
     "output_type": "stream",
     "text": [
      "Epoch 230, Loss 0.0183\n",
      "Training Accuracy: 0.9794, Testing Accuracy: 0.9748\n",
      "\n"
     ]
    },
    {
     "name": "stdout",
     "output_type": "stream",
     "text": [
      "Epoch 240, Loss 0.018\n",
      "Training Accuracy: 0.9796, Testing Accuracy: 0.9743\n",
      "\n"
     ]
    },
    {
     "data": {
      "text/plain": [
       "0.01240703488331597"
      ]
     },
     "execution_count": 22,
     "metadata": {},
     "output_type": "execute_result"
    }
   ],
   "source": [
    "nn_learner.train_loop(dl)"
   ]
  },
  {
   "cell_type": "code",
   "execution_count": 23,
   "id": "e0163366",
   "metadata": {
    "execution": {
     "iopub.execute_input": "2022-11-18T20:13:50.452185Z",
     "iopub.status.busy": "2022-11-18T20:13:50.451364Z",
     "iopub.status.idle": "2022-11-18T20:14:10.951370Z",
     "shell.execute_reply": "2022-11-18T20:14:10.952050Z"
    },
    "papermill": {
     "duration": 20.556226,
     "end_time": "2022-11-18T20:14:10.952220",
     "exception": false,
     "start_time": "2022-11-18T20:13:50.395994",
     "status": "completed"
    },
    "tags": []
   },
   "outputs": [
    {
     "name": "stdout",
     "output_type": "stream",
     "text": [
      "Epoch 0, Loss 0.2127\n",
      "Training Accuracy: 0.7877, Testing Accuracy: 0.7974\n",
      "\n"
     ]
    },
    {
     "name": "stdout",
     "output_type": "stream",
     "text": [
      "Epoch 10, Loss 0.0988\n",
      "Training Accuracy: 0.9170, Testing Accuracy: 0.9224\n",
      "\n"
     ]
    },
    {
     "name": "stdout",
     "output_type": "stream",
     "text": [
      "Epoch 20, Loss 0.0768\n",
      "Training Accuracy: 0.9303, Testing Accuracy: 0.9400\n",
      "\n"
     ]
    },
    {
     "name": "stdout",
     "output_type": "stream",
     "text": [
      "Epoch 30, Loss 0.0664\n",
      "Training Accuracy: 0.9384, Testing Accuracy: 0.9491\n",
      "\n"
     ]
    },
    {
     "name": "stdout",
     "output_type": "stream",
     "text": [
      "Epoch 40, Loss 0.0602\n",
      "Training Accuracy: 0.9431, Testing Accuracy: 0.9526\n",
      "\n"
     ]
    },
    {
     "name": "stdout",
     "output_type": "stream",
     "text": [
      "Epoch 50, Loss 0.0559\n",
      "Training Accuracy: 0.9462, Testing Accuracy: 0.9556\n",
      "\n"
     ]
    },
    {
     "name": "stdout",
     "output_type": "stream",
     "text": [
      "Epoch 60, Loss 0.0527\n",
      "Training Accuracy: 0.9483, Testing Accuracy: 0.9587\n",
      "\n"
     ]
    },
    {
     "name": "stdout",
     "output_type": "stream",
     "text": [
      "Epoch 70, Loss 0.0503\n",
      "Training Accuracy: 0.9500, Testing Accuracy: 0.9587\n",
      "\n"
     ]
    },
    {
     "name": "stdout",
     "output_type": "stream",
     "text": [
      "Epoch 80, Loss 0.0484\n",
      "Training Accuracy: 0.9511, Testing Accuracy: 0.9607\n",
      "\n"
     ]
    },
    {
     "name": "stdout",
     "output_type": "stream",
     "text": [
      "Epoch 90, Loss 0.0468\n",
      "Training Accuracy: 0.9520, Testing Accuracy: 0.9622\n",
      "\n"
     ]
    },
    {
     "name": "stdout",
     "output_type": "stream",
     "text": [
      "Epoch 100, Loss 0.0454\n",
      "Training Accuracy: 0.9537, Testing Accuracy: 0.9632\n",
      "\n"
     ]
    },
    {
     "name": "stdout",
     "output_type": "stream",
     "text": [
      "Epoch 110, Loss 0.0442\n",
      "Training Accuracy: 0.9544, Testing Accuracy: 0.9652\n",
      "\n"
     ]
    },
    {
     "name": "stdout",
     "output_type": "stream",
     "text": [
      "Epoch 120, Loss 0.0432\n",
      "Training Accuracy: 0.9549, Testing Accuracy: 0.9652\n",
      "\n"
     ]
    },
    {
     "name": "stdout",
     "output_type": "stream",
     "text": [
      "Epoch 130, Loss 0.0423\n",
      "Training Accuracy: 0.9559, Testing Accuracy: 0.9657\n",
      "\n"
     ]
    },
    {
     "name": "stdout",
     "output_type": "stream",
     "text": [
      "Epoch 140, Loss 0.0415\n",
      "Training Accuracy: 0.9570, Testing Accuracy: 0.9657\n",
      "\n"
     ]
    },
    {
     "name": "stdout",
     "output_type": "stream",
     "text": [
      "Epoch 150, Loss 0.0408\n",
      "Training Accuracy: 0.9575, Testing Accuracy: 0.9657\n",
      "\n"
     ]
    },
    {
     "name": "stdout",
     "output_type": "stream",
     "text": [
      "Epoch 160, Loss 0.0402\n",
      "Training Accuracy: 0.9582, Testing Accuracy: 0.9657\n",
      "\n"
     ]
    },
    {
     "name": "stdout",
     "output_type": "stream",
     "text": [
      "Epoch 170, Loss 0.0396\n",
      "Training Accuracy: 0.9587, Testing Accuracy: 0.9657\n",
      "\n"
     ]
    },
    {
     "name": "stdout",
     "output_type": "stream",
     "text": [
      "Epoch 180, Loss 0.0391\n",
      "Training Accuracy: 0.9588, Testing Accuracy: 0.9667\n",
      "\n"
     ]
    },
    {
     "name": "stdout",
     "output_type": "stream",
     "text": [
      "Epoch 190, Loss 0.0386\n",
      "Training Accuracy: 0.9591, Testing Accuracy: 0.9667\n",
      "\n"
     ]
    },
    {
     "name": "stdout",
     "output_type": "stream",
     "text": [
      "Epoch 200, Loss 0.0381\n",
      "Training Accuracy: 0.9594, Testing Accuracy: 0.9667\n",
      "\n"
     ]
    },
    {
     "name": "stdout",
     "output_type": "stream",
     "text": [
      "Epoch 210, Loss 0.0377\n",
      "Training Accuracy: 0.9597, Testing Accuracy: 0.9682\n",
      "\n"
     ]
    },
    {
     "name": "stdout",
     "output_type": "stream",
     "text": [
      "Epoch 220, Loss 0.0373\n",
      "Training Accuracy: 0.9599, Testing Accuracy: 0.9688\n",
      "\n"
     ]
    },
    {
     "name": "stdout",
     "output_type": "stream",
     "text": [
      "Epoch 230, Loss 0.0369\n",
      "Training Accuracy: 0.9605, Testing Accuracy: 0.9688\n",
      "\n"
     ]
    },
    {
     "name": "stdout",
     "output_type": "stream",
     "text": [
      "Epoch 240, Loss 0.0366\n",
      "Training Accuracy: 0.9607, Testing Accuracy: 0.9682\n",
      "\n"
     ]
    },
    {
     "data": {
      "text/plain": [
       "0.027606130138694257"
      ]
     },
     "execution_count": 23,
     "metadata": {},
     "output_type": "execute_result"
    }
   ],
   "source": [
    "lr_learner.train_loop(dl)"
   ]
  },
  {
   "cell_type": "code",
   "execution_count": 24,
   "id": "ca410940",
   "metadata": {
    "execution": {
     "iopub.execute_input": "2022-11-18T20:14:11.072565Z",
     "iopub.status.busy": "2022-11-18T20:14:11.071184Z",
     "iopub.status.idle": "2022-11-18T20:14:11.417770Z",
     "shell.execute_reply": "2022-11-18T20:14:11.418533Z"
    },
    "papermill": {
     "duration": 0.411036,
     "end_time": "2022-11-18T20:14:11.418727",
     "exception": false,
     "start_time": "2022-11-18T20:14:11.007691",
     "status": "completed"
    },
    "tags": []
   },
   "outputs": [
    {
     "data": {
      "text/plain": [
       "<matplotlib.legend.Legend at 0x7f297ad6f4a8>"
      ]
     },
     "execution_count": 24,
     "metadata": {},
     "output_type": "execute_result"
    },
    {
     "data": {
      "image/png": "[encoded data removed]",
      "text/plain": [
       "<Figure size 1080x720 with 1 Axes>"
      ]
     },
     "metadata": {
      "needs_background": "light"
     },
     "output_type": "display_data"
    }
   ],
   "source": [
    "#comparing the results of NN and LR\n",
    "plt.figure(figsize=(15,10))\n",
    "\n",
    "# Neural Network plots\n",
    "plt.plot(acc_nn.accuracies, 'r-', label = \"Training Accuracies - NN\")\n",
    "plt.plot(acc_nn.test_accuracies, 'g-', label = \"Testing Accuracies - NN\")\n",
    "\n",
    "# Logistic Regression plots\n",
    "plt.plot(acc_lr.accuracies, 'k-', label = \"Training Accuracies - LR\")\n",
    "plt.plot(acc_lr.test_accuracies, 'b-', label = \"Testing Accuracies - LR\")\n",
    "plt.legend()"
   ]
  },
  {
   "cell_type": "markdown",
   "id": "80dfb35c",
   "metadata": {
    "papermill": {
     "duration": 0.057716,
     "end_time": "2022-11-18T20:14:11.535591",
     "exception": false,
     "start_time": "2022-11-18T20:14:11.477875",
     "status": "completed"
    },
    "tags": []
   },
   "source": [
    "#### Plotting the outputs of this layer of the NN.\n"
   ]
  },
  {
   "cell_type": "code",
   "execution_count": 25,
   "id": "45eb2ff5",
   "metadata": {
    "execution": {
     "iopub.execute_input": "2022-11-18T20:14:11.663161Z",
     "iopub.status.busy": "2022-11-18T20:14:11.661380Z",
     "iopub.status.idle": "2022-11-18T20:14:11.687669Z",
     "shell.execute_reply": "2022-11-18T20:14:11.688681Z"
    },
    "papermill": {
     "duration": 0.097965,
     "end_time": "2022-11-18T20:14:11.688874",
     "exception": false,
     "start_time": "2022-11-18T20:14:11.590909",
     "status": "completed"
    },
    "tags": []
   },
   "outputs": [],
   "source": [
    "new_model = Model(layers[:-2])\n",
    "testing_plot = new_model(testing_data_x)"
   ]
  },
  {
   "cell_type": "code",
   "execution_count": 26,
   "id": "4c0a5485",
   "metadata": {
    "execution": {
     "iopub.execute_input": "2022-11-18T20:14:11.807262Z",
     "iopub.status.busy": "2022-11-18T20:14:11.806496Z",
     "iopub.status.idle": "2022-11-18T20:14:12.065844Z",
     "shell.execute_reply": "2022-11-18T20:14:12.066493Z"
    },
    "papermill": {
     "duration": 0.320346,
     "end_time": "2022-11-18T20:14:12.066674",
     "exception": false,
     "start_time": "2022-11-18T20:14:11.746328",
     "status": "completed"
    },
    "tags": []
   },
   "outputs": [
    {
     "data": {
      "text/plain": [
       "Text(0.5, 1.0, 'Outputs')"
      ]
     },
     "execution_count": 26,
     "metadata": {},
     "output_type": "execute_result"
    },
    {
     "data": {
      "image/png": "[encoded data removed]",
      "text/plain": [
       "<Figure size 576x504 with 1 Axes>"
      ]
     },
     "metadata": {
      "needs_background": "light"
     },
     "output_type": "display_data"
    }
   ],
   "source": [
    "# Plotting the scatter plot of points and color coding by class\n",
    "plt.figure(figsize=(8,7))\n",
    "plt.scatter(testing_plot[:,0], testing_plot[:,1], alpha = 0.1, c = y_test.ravel());\n",
    "plt.title('Outputs')"
   ]
  },
  {
   "cell_type": "markdown",
   "id": "a74fcf8f",
   "metadata": {
    "papermill": {
     "duration": 0.095942,
     "end_time": "2022-11-18T20:14:12.227681",
     "exception": false,
     "start_time": "2022-11-18T20:14:12.131739",
     "status": "completed"
    },
    "tags": []
   },
   "source": [
    "Probability contours"
   ]
  },
  {
   "cell_type": "code",
   "execution_count": 27,
   "id": "d0afc8e3",
   "metadata": {
    "execution": {
     "iopub.execute_input": "2022-11-18T20:14:12.350384Z",
     "iopub.status.busy": "2022-11-18T20:14:12.349618Z",
     "iopub.status.idle": "2022-11-18T20:14:12.365455Z",
     "shell.execute_reply": "2022-11-18T20:14:12.366077Z"
    },
    "papermill": {
     "duration": 0.07982,
     "end_time": "2022-11-18T20:14:12.366265",
     "exception": false,
     "start_time": "2022-11-18T20:14:12.286445",
     "status": "completed"
    },
    "tags": []
   },
   "outputs": [],
   "source": [
    "model_prob = Model(layers[-2:]) "
   ]
  },
  {
   "cell_type": "code",
   "execution_count": 28,
   "id": "9b96e238",
   "metadata": {
    "execution": {
     "iopub.execute_input": "2022-11-18T20:14:12.503206Z",
     "iopub.status.busy": "2022-11-18T20:14:12.498461Z",
     "iopub.status.idle": "2022-11-18T20:14:12.510862Z",
     "shell.execute_reply": "2022-11-18T20:14:12.511494Z"
    },
    "papermill": {
     "duration": 0.086062,
     "end_time": "2022-11-18T20:14:12.511690",
     "exception": false,
     "start_time": "2022-11-18T20:14:12.425628",
     "status": "completed"
    },
    "tags": []
   },
   "outputs": [],
   "source": [
    "#creating the x and y ranges according to the above generated plot.\n",
    "x_range = np.linspace(-4, 1, 100) \n",
    "y_range = np.linspace(-6, 6, 100) \n",
    "x_grid, y_grid = np.meshgrid(x_range, y_range) # x_grid and y_grig are of size 100 X 100\n",
    "\n",
    "# converting x_grid and y_grid to continuous arrays\n",
    "x_gridflat = np.ravel(x_grid)\n",
    "y_gridflat = np.ravel(y_grid)\n",
    "\n",
    "# The last layer of the current model takes two columns as input. Hence transpose of np.vstack() is required.\n",
    "X = np.vstack((x_gridflat, y_gridflat)).T\n",
    "\n",
    "prob_contour = model_prob(X).reshape(100,100) "
   ]
  },
  {
   "cell_type": "code",
   "execution_count": 29,
   "id": "da72499a",
   "metadata": {
    "execution": {
     "iopub.execute_input": "2022-11-18T20:14:12.647413Z",
     "iopub.status.busy": "2022-11-18T20:14:12.646624Z",
     "iopub.status.idle": "2022-11-18T20:14:12.988156Z",
     "shell.execute_reply": "2022-11-18T20:14:12.987392Z"
    },
    "papermill": {
     "duration": 0.407662,
     "end_time": "2022-11-18T20:14:12.988307",
     "exception": false,
     "start_time": "2022-11-18T20:14:12.580645",
     "status": "completed"
    },
    "tags": []
   },
   "outputs": [
    {
     "data": {
      "image/png": "[encoded data removed]",
      "text/plain": [
       "<Figure size 720x648 with 1 Axes>"
      ]
     },
     "metadata": {
      "needs_background": "light"
     },
     "output_type": "display_data"
    }
   ],
   "source": [
    "plt.figure(figsize=(10,9))\n",
    "plt.scatter(testing_plot[:,0], testing_plot[:,1], alpha = 0.1, c = y_test.ravel())\n",
    "contours = plt.contour(x_grid,y_grid,prob_contour)\n",
    "plt.title('Probability Contours')\n",
    "plt.clabel(contours, inline = True );"
   ]
  },
  {
   "cell_type": "code",
   "execution_count": null,
   "id": "e81b4ac7",
   "metadata": {
    "papermill": {
     "duration": 0.079049,
     "end_time": "2022-11-18T20:14:13.130587",
     "exception": false,
     "start_time": "2022-11-18T20:14:13.051538",
     "status": "completed"
    },
    "tags": []
   },
   "outputs": [],
   "source": []
  }
 ],
 "metadata": {
  "kernelspec": {
   "display_name": "Python 3",
   "language": "python",
   "name": "python3"
  },
  "language_info": {
   "codemirror_mode": {
    "name": "ipython",
    "version": 3
   },
   "file_extension": ".py",
   "mimetype": "text/x-python",
   "name": "python",
   "nbconvert_exporter": "python",
   "pygments_lexer": "ipython3",
   "version": "3.6.15"
  },
  "papermill": {
   "default_parameters": {},
   "duration": 176.26928,
   "end_time": "2022-11-18T20:14:13.614137",
   "environment_variables": {},
   "exception": null,
   "input_path": "2020-08-11-part2.ipynb",
   "output_path": "2020-08-11-part2.ipynb",
   "parameters": {},
   "start_time": "2022-11-18T20:11:17.344857",
   "version": "2.3.3"
  }
 },
 "nbformat": 4,
 "nbformat_minor": 5
}