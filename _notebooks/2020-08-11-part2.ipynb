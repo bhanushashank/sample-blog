{
 "cells": [
  {
   "cell_type": "markdown",
   "id": "98380cd3",
   "metadata": {
    "papermill": {
     "duration": 0.031133,
     "end_time": "2021-12-26T00:26:33.646739",
     "exception": false,
     "start_time": "2021-12-26T00:26:33.615606",
     "status": "completed"
    },
    "tags": []
   },
   "source": [
    "# Distinguish Your Own Digits (DYOD)"
   ]
  },
  {
   "cell_type": "markdown",
   "id": "ef31240d",
   "metadata": {
    "papermill": {
     "duration": 0.026782,
     "end_time": "2021-12-26T00:26:33.701844",
     "exception": false,
     "start_time": "2021-12-26T00:26:33.675062",
     "status": "completed"
    },
    "tags": []
   },
   "source": [
    "You are going to write a classifier that distinguishes between the number 3 and number 8."
   ]
  },
  {
   "cell_type": "code",
   "execution_count": 1,
   "id": "b15c8646",
   "metadata": {
    "execution": {
     "iopub.execute_input": "2021-12-26T00:26:33.769601Z",
     "iopub.status.busy": "2021-12-26T00:26:33.768941Z",
     "iopub.status.idle": "2021-12-26T00:26:33.779935Z",
     "shell.execute_reply": "2021-12-26T00:26:33.780424Z"
    },
    "papermill": {
     "duration": 0.051128,
     "end_time": "2021-12-26T00:26:33.780598",
     "exception": false,
     "start_time": "2021-12-26T00:26:33.729470",
     "status": "completed"
    },
    "tags": []
   },
   "outputs": [],
   "source": [
    "%load_ext autoreload\n",
    "%autoreload 2"
   ]
  },
  {
   "cell_type": "code",
   "execution_count": 2,
   "id": "22ef38dc",
   "metadata": {
    "execution": {
     "iopub.execute_input": "2021-12-26T00:26:33.838653Z",
     "iopub.status.busy": "2021-12-26T00:26:33.838015Z",
     "iopub.status.idle": "2021-12-26T00:26:34.500482Z",
     "shell.execute_reply": "2021-12-26T00:26:34.499345Z"
    },
    "papermill": {
     "duration": 0.693337,
     "end_time": "2021-12-26T00:26:34.500647",
     "exception": false,
     "start_time": "2021-12-26T00:26:33.807310",
     "status": "completed"
    },
    "tags": []
   },
   "outputs": [],
   "source": [
    "%matplotlib inline\n",
    "import numpy as np\n",
    "import matplotlib.pyplot as plt\n",
    "import pandas as pd"
   ]
  },
  {
   "cell_type": "markdown",
   "id": "ba036198",
   "metadata": {
    "papermill": {
     "duration": 0.026662,
     "end_time": "2021-12-26T00:26:34.554802",
     "exception": false,
     "start_time": "2021-12-26T00:26:34.528140",
     "status": "completed"
    },
    "tags": []
   },
   "source": [
    "From the command line run `pip install mnist`. This is a library that will help you bring down the mnist dataset. If you run this from a notebook, you need to put  `!pip install mnist` in a cell by itself."
   ]
  },
  {
   "cell_type": "code",
   "execution_count": 3,
   "id": "bb6ad8a1",
   "metadata": {
    "execution": {
     "iopub.execute_input": "2021-12-26T00:26:34.612993Z",
     "iopub.status.busy": "2021-12-26T00:26:34.612367Z",
     "iopub.status.idle": "2021-12-26T00:26:37.307665Z",
     "shell.execute_reply": "2021-12-26T00:26:37.308214Z"
    },
    "papermill": {
     "duration": 2.726887,
     "end_time": "2021-12-26T00:26:37.308370",
     "exception": false,
     "start_time": "2021-12-26T00:26:34.581483",
     "status": "completed"
    },
    "tags": []
   },
   "outputs": [
    {
     "name": "stdout",
     "output_type": "stream",
     "text": [
      "Collecting mnist\r\n"
     ]
    },
    {
     "name": "stdout",
     "output_type": "stream",
     "text": [
      "  Downloading mnist-0.2.2-py2.py3-none-any.whl (3.5 kB)\r\n",
      "Requirement already satisfied: numpy in /opt/hostedtoolcache/Python/3.6.15/x64/lib/python3.6/site-packages (from mnist) (1.19.5)\r\n"
     ]
    },
    {
     "name": "stdout",
     "output_type": "stream",
     "text": [
      "Installing collected packages: mnist\r\n"
     ]
    },
    {
     "name": "stdout",
     "output_type": "stream",
     "text": [
      "Successfully installed mnist-0.2.2\r\n"
     ]
    }
   ],
   "source": [
    "!pip install mnist"
   ]
  },
  {
   "cell_type": "markdown",
   "id": "69df9c9a",
   "metadata": {
    "papermill": {
     "duration": 0.027794,
     "end_time": "2021-12-26T00:26:37.363740",
     "exception": false,
     "start_time": "2021-12-26T00:26:37.335946",
     "status": "completed"
    },
    "tags": []
   },
   "source": [
    "## Preparing the Data"
   ]
  },
  {
   "cell_type": "code",
   "execution_count": 4,
   "id": "7f69d806",
   "metadata": {
    "execution": {
     "iopub.execute_input": "2021-12-26T00:26:37.438586Z",
     "iopub.status.busy": "2021-12-26T00:26:37.433879Z",
     "iopub.status.idle": "2021-12-26T00:26:37.441800Z",
     "shell.execute_reply": "2021-12-26T00:26:37.442284Z"
    },
    "papermill": {
     "duration": 0.050361,
     "end_time": "2021-12-26T00:26:37.442437",
     "exception": false,
     "start_time": "2021-12-26T00:26:37.392076",
     "status": "completed"
    },
    "tags": []
   },
   "outputs": [],
   "source": [
    "import mnist"
   ]
  },
  {
   "cell_type": "code",
   "execution_count": 5,
   "id": "a411e44f",
   "metadata": {
    "execution": {
     "iopub.execute_input": "2021-12-26T00:26:37.503448Z",
     "iopub.status.busy": "2021-12-26T00:26:37.502832Z",
     "iopub.status.idle": "2021-12-26T00:26:38.169163Z",
     "shell.execute_reply": "2021-12-26T00:26:38.168475Z"
    },
    "papermill": {
     "duration": 0.698773,
     "end_time": "2021-12-26T00:26:38.169331",
     "exception": false,
     "start_time": "2021-12-26T00:26:37.470558",
     "status": "completed"
    },
    "tags": []
   },
   "outputs": [],
   "source": [
    "train_images = mnist.train_images()\n",
    "train_labels = mnist.train_labels()"
   ]
  },
  {
   "cell_type": "code",
   "execution_count": 6,
   "id": "dceab3a5",
   "metadata": {
    "execution": {
     "iopub.execute_input": "2021-12-26T00:26:38.228391Z",
     "iopub.status.busy": "2021-12-26T00:26:38.227805Z",
     "iopub.status.idle": "2021-12-26T00:26:38.243681Z",
     "shell.execute_reply": "2021-12-26T00:26:38.244192Z"
    },
    "papermill": {
     "duration": 0.047161,
     "end_time": "2021-12-26T00:26:38.244330",
     "exception": false,
     "start_time": "2021-12-26T00:26:38.197169",
     "status": "completed"
    },
    "tags": []
   },
   "outputs": [
    {
     "data": {
      "text/plain": [
       "((60000, 28, 28), (60000,))"
      ]
     },
     "execution_count": 6,
     "metadata": {},
     "output_type": "execute_result"
    }
   ],
   "source": [
    "train_images.shape, train_labels.shape"
   ]
  },
  {
   "cell_type": "code",
   "execution_count": 7,
   "id": "f50dc2bb",
   "metadata": {
    "execution": {
     "iopub.execute_input": "2021-12-26T00:26:38.304960Z",
     "iopub.status.busy": "2021-12-26T00:26:38.303877Z",
     "iopub.status.idle": "2021-12-26T00:26:38.538980Z",
     "shell.execute_reply": "2021-12-26T00:26:38.538375Z"
    },
    "papermill": {
     "duration": 0.266745,
     "end_time": "2021-12-26T00:26:38.539140",
     "exception": false,
     "start_time": "2021-12-26T00:26:38.272395",
     "status": "completed"
    },
    "tags": []
   },
   "outputs": [],
   "source": [
    "test_images = mnist.test_images()\n",
    "test_labels = mnist.test_labels()"
   ]
  },
  {
   "cell_type": "code",
   "execution_count": 8,
   "id": "fc38cf1b",
   "metadata": {
    "execution": {
     "iopub.execute_input": "2021-12-26T00:26:38.602001Z",
     "iopub.status.busy": "2021-12-26T00:26:38.601386Z",
     "iopub.status.idle": "2021-12-26T00:26:38.615857Z",
     "shell.execute_reply": "2021-12-26T00:26:38.615415Z"
    },
    "papermill": {
     "duration": 0.046901,
     "end_time": "2021-12-26T00:26:38.615979",
     "exception": false,
     "start_time": "2021-12-26T00:26:38.569078",
     "status": "completed"
    },
    "tags": []
   },
   "outputs": [
    {
     "data": {
      "text/plain": [
       "((10000, 28, 28), (10000,))"
      ]
     },
     "execution_count": 8,
     "metadata": {},
     "output_type": "execute_result"
    }
   ],
   "source": [
    "test_images.shape, test_labels.shape"
   ]
  },
  {
   "cell_type": "code",
   "execution_count": 9,
   "id": "f9ed8fe0",
   "metadata": {
    "execution": {
     "iopub.execute_input": "2021-12-26T00:26:38.677576Z",
     "iopub.status.busy": "2021-12-26T00:26:38.676947Z",
     "iopub.status.idle": "2021-12-26T00:26:38.831718Z",
     "shell.execute_reply": "2021-12-26T00:26:38.832195Z"
    },
    "papermill": {
     "duration": 0.188117,
     "end_time": "2021-12-26T00:26:38.832349",
     "exception": false,
     "start_time": "2021-12-26T00:26:38.644232",
     "status": "completed"
    },
    "tags": []
   },
   "outputs": [
    {
     "name": "stdout",
     "output_type": "stream",
     "text": [
      "2\n"
     ]
    },
    {
     "data": {
      "text/plain": [
       "<matplotlib.image.AxesImage at 0x7f01e61bf4e0>"
      ]
     },
     "execution_count": 9,
     "metadata": {},
     "output_type": "execute_result"
    },
    {
     "data": {
      "image/png": "[encoded data removed]",
      "text/plain": [
       "<Figure size 432x288 with 1 Axes>"
      ]
     },
     "metadata": {
      "needs_background": "light"
     },
     "output_type": "display_data"
    }
   ],
   "source": [
    "image_index = 7776 # You may select anything up to 60,000\n",
    "print(train_labels[image_index]) \n",
    "plt.imshow(train_images[image_index], cmap='Greys')"
   ]
  },
  {
   "cell_type": "markdown",
   "id": "a8d2388d",
   "metadata": {
    "papermill": {
     "duration": 0.029475,
     "end_time": "2021-12-26T00:26:38.892726",
     "exception": false,
     "start_time": "2021-12-26T00:26:38.863251",
     "status": "completed"
    },
    "tags": []
   },
   "source": [
    "## Filter data to get 3 and 8 out"
   ]
  },
  {
   "cell_type": "code",
   "execution_count": 10,
   "id": "776f7fc7",
   "metadata": {
    "execution": {
     "iopub.execute_input": "2021-12-26T00:26:38.956218Z",
     "iopub.status.busy": "2021-12-26T00:26:38.955596Z",
     "iopub.status.idle": "2021-12-26T00:26:38.975135Z",
     "shell.execute_reply": "2021-12-26T00:26:38.974671Z"
    },
    "papermill": {
     "duration": 0.052963,
     "end_time": "2021-12-26T00:26:38.975263",
     "exception": false,
     "start_time": "2021-12-26T00:26:38.922300",
     "status": "completed"
    },
    "tags": []
   },
   "outputs": [],
   "source": [
    "train_filter = np.where((train_labels == 3 ) | (train_labels == 8))\n",
    "test_filter = np.where((test_labels == 3) | (test_labels == 8))\n",
    "X_train, y_train = train_images[train_filter], train_labels[train_filter]\n",
    "X_test, y_test = test_images[test_filter], test_labels[test_filter]"
   ]
  },
  {
   "cell_type": "markdown",
   "id": "948f0b7e",
   "metadata": {
    "papermill": {
     "duration": 0.028051,
     "end_time": "2021-12-26T00:26:39.033181",
     "exception": false,
     "start_time": "2021-12-26T00:26:39.005130",
     "status": "completed"
    },
    "tags": []
   },
   "source": [
    "We normalize the pizel values in the 0 to 1 range"
   ]
  },
  {
   "cell_type": "code",
   "execution_count": 11,
   "id": "ee4c2166",
   "metadata": {
    "execution": {
     "iopub.execute_input": "2021-12-26T00:26:39.098399Z",
     "iopub.status.busy": "2021-12-26T00:26:39.097796Z",
     "iopub.status.idle": "2021-12-26T00:26:39.152818Z",
     "shell.execute_reply": "2021-12-26T00:26:39.152157Z"
    },
    "papermill": {
     "duration": 0.089253,
     "end_time": "2021-12-26T00:26:39.153008",
     "exception": false,
     "start_time": "2021-12-26T00:26:39.063755",
     "status": "completed"
    },
    "tags": []
   },
   "outputs": [],
   "source": [
    "X_train = X_train/255.\n",
    "X_test = X_test/255."
   ]
  },
  {
   "cell_type": "markdown",
   "id": "ddcf4fab",
   "metadata": {
    "papermill": {
     "duration": 0.029939,
     "end_time": "2021-12-26T00:26:39.214958",
     "exception": false,
     "start_time": "2021-12-26T00:26:39.185019",
     "status": "completed"
    },
    "tags": []
   },
   "source": [
    "And setup the labels as 1 (when the digit is 3) and 0 (when the digit is 8)"
   ]
  },
  {
   "cell_type": "code",
   "execution_count": 12,
   "id": "7dc908f2",
   "metadata": {
    "execution": {
     "iopub.execute_input": "2021-12-26T00:26:39.278847Z",
     "iopub.status.busy": "2021-12-26T00:26:39.278185Z",
     "iopub.status.idle": "2021-12-26T00:26:39.291277Z",
     "shell.execute_reply": "2021-12-26T00:26:39.290788Z"
    },
    "papermill": {
     "duration": 0.046668,
     "end_time": "2021-12-26T00:26:39.291410",
     "exception": false,
     "start_time": "2021-12-26T00:26:39.244742",
     "status": "completed"
    },
    "tags": []
   },
   "outputs": [],
   "source": [
    "y_train = 1*(y_train==3)\n",
    "y_test = 1*(y_test==3)"
   ]
  },
  {
   "cell_type": "code",
   "execution_count": 13,
   "id": "01e4e969",
   "metadata": {
    "execution": {
     "iopub.execute_input": "2021-12-26T00:26:39.355446Z",
     "iopub.status.busy": "2021-12-26T00:26:39.354753Z",
     "iopub.status.idle": "2021-12-26T00:26:39.370104Z",
     "shell.execute_reply": "2021-12-26T00:26:39.370607Z"
    },
    "papermill": {
     "duration": 0.04917,
     "end_time": "2021-12-26T00:26:39.370756",
     "exception": false,
     "start_time": "2021-12-26T00:26:39.321586",
     "status": "completed"
    },
    "tags": []
   },
   "outputs": [
    {
     "data": {
      "text/plain": [
       "((11982, 28, 28), (1984, 28, 28))"
      ]
     },
     "execution_count": 13,
     "metadata": {},
     "output_type": "execute_result"
    }
   ],
   "source": [
    "X_train.shape, X_test.shape"
   ]
  },
  {
   "cell_type": "markdown",
   "id": "5ccf3f85",
   "metadata": {
    "papermill": {
     "duration": 0.030106,
     "end_time": "2021-12-26T00:26:39.431069",
     "exception": false,
     "start_time": "2021-12-26T00:26:39.400963",
     "status": "completed"
    },
    "tags": []
   },
   "source": [
    "We reshape the data to flatten the image pixels into a set of features or co-variates:"
   ]
  },
  {
   "cell_type": "code",
   "execution_count": 14,
   "id": "5286a4a3",
   "metadata": {
    "execution": {
     "iopub.execute_input": "2021-12-26T00:26:39.501344Z",
     "iopub.status.busy": "2021-12-26T00:26:39.500666Z",
     "iopub.status.idle": "2021-12-26T00:26:39.513123Z",
     "shell.execute_reply": "2021-12-26T00:26:39.513612Z"
    },
    "papermill": {
     "duration": 0.052603,
     "end_time": "2021-12-26T00:26:39.513765",
     "exception": false,
     "start_time": "2021-12-26T00:26:39.461162",
     "status": "completed"
    },
    "tags": []
   },
   "outputs": [
    {
     "data": {
      "text/plain": [
       "((11982, 784), (1984, 784))"
      ]
     },
     "execution_count": 14,
     "metadata": {},
     "output_type": "execute_result"
    }
   ],
   "source": [
    "X_train = X_train.reshape(X_train.shape[0], -1)\n",
    "X_test = X_test.reshape(X_test.shape[0], -1)\n",
    "X_train.shape, X_test.shape"
   ]
  },
  {
   "cell_type": "code",
   "execution_count": 15,
   "id": "73c5f88a",
   "metadata": {
    "execution": {
     "iopub.execute_input": "2021-12-26T00:26:39.590528Z",
     "iopub.status.busy": "2021-12-26T00:26:39.585967Z",
     "iopub.status.idle": "2021-12-26T00:26:39.600817Z",
     "shell.execute_reply": "2021-12-26T00:26:39.600360Z"
    },
    "papermill": {
     "duration": 0.05746,
     "end_time": "2021-12-26T00:26:39.600975",
     "exception": false,
     "start_time": "2021-12-26T00:26:39.543515",
     "status": "completed"
    },
    "tags": []
   },
   "outputs": [],
   "source": [
    "#Impoting functions from 'Kudzu'\n",
    "from kudzu.model import Model\n",
    "from kudzu.train import Learner\n",
    "from kudzu.optim import GD\n",
    "from kudzu.data import Data, Sampler,Dataloader\n",
    "\n",
    "from kudzu.callbacks import AccCallback\n",
    "from kudzu.callbacks import ClfCallback\n",
    "\n",
    "from kudzu.loss import MSE\n",
    "\n",
    "from kudzu.layer import Sigmoid,Relu\n",
    "from kudzu.layer import Affine"
   ]
  },
  {
   "cell_type": "markdown",
   "id": "bc01172a",
   "metadata": {
    "papermill": {
     "duration": 0.029078,
     "end_time": "2021-12-26T00:26:39.660097",
     "exception": false,
     "start_time": "2021-12-26T00:26:39.631019",
     "status": "completed"
    },
    "tags": []
   },
   "source": [
    "### Let us create a `Config` class, to store important parameters. \n",
    "This class essentially plays the role of a dictionary."
   ]
  },
  {
   "cell_type": "code",
   "execution_count": 16,
   "id": "978281aa",
   "metadata": {
    "execution": {
     "iopub.execute_input": "2021-12-26T00:26:39.725981Z",
     "iopub.status.busy": "2021-12-26T00:26:39.725374Z",
     "iopub.status.idle": "2021-12-26T00:26:39.738692Z",
     "shell.execute_reply": "2021-12-26T00:26:39.738188Z"
    },
    "papermill": {
     "duration": 0.048003,
     "end_time": "2021-12-26T00:26:39.738816",
     "exception": false,
     "start_time": "2021-12-26T00:26:39.690813",
     "status": "completed"
    },
    "tags": []
   },
   "outputs": [],
   "source": [
    "class Config:\n",
    "    pass\n",
    "config = Config()\n",
    "config.lr = 0.001\n",
    "config.num_epochs = 250\n",
    "config.bs = 50"
   ]
  },
  {
   "cell_type": "markdown",
   "id": "1385fa59",
   "metadata": {
    "papermill": {
     "duration": 0.02985,
     "end_time": "2021-12-26T00:26:39.798468",
     "exception": false,
     "start_time": "2021-12-26T00:26:39.768618",
     "status": "completed"
    },
    "tags": []
   },
   "source": [
    "### Running Models with the Training data\n",
    "Details about the network layers:\n",
    "- A first affine layer has 784 inputs and does 100 affine transforms. These are followed by a Relu\n",
    "- A second affine layer has 100 inputs from the 100 activations of the past layer, and does 100 affine transforms. These are followed by a Relu\n",
    "- A third affine layer has 100 activations and does 2 affine transformations to create an embedding for visualization. There is no non-linearity here.\n",
    "- A final \"logistic regression\" which has an affine transform from 2 inputs to 1 output, which is squeezed through a sigmoid.\n"
   ]
  },
  {
   "cell_type": "code",
   "execution_count": 17,
   "id": "2b9c66db",
   "metadata": {
    "execution": {
     "iopub.execute_input": "2021-12-26T00:26:39.862998Z",
     "iopub.status.busy": "2021-12-26T00:26:39.862385Z",
     "iopub.status.idle": "2021-12-26T00:26:39.876804Z",
     "shell.execute_reply": "2021-12-26T00:26:39.876298Z"
    },
    "papermill": {
     "duration": 0.048565,
     "end_time": "2021-12-26T00:26:39.876959",
     "exception": false,
     "start_time": "2021-12-26T00:26:39.828394",
     "status": "completed"
    },
    "tags": []
   },
   "outputs": [],
   "source": [
    "data = Data(X_train, y_train.reshape(-1,1))\n",
    "sampler = Sampler(data, config.bs, shuffle=True)\n",
    "\n",
    "dl = Dataloader(data, sampler)\n",
    "\n",
    "opt = GD(config.lr)\n",
    "loss = MSE()"
   ]
  },
  {
   "cell_type": "code",
   "execution_count": 18,
   "id": "b275e4c2",
   "metadata": {
    "execution": {
     "iopub.execute_input": "2021-12-26T00:26:39.946179Z",
     "iopub.status.busy": "2021-12-26T00:26:39.945583Z",
     "iopub.status.idle": "2021-12-26T00:26:39.957147Z",
     "shell.execute_reply": "2021-12-26T00:26:39.956634Z"
    },
    "papermill": {
     "duration": 0.0497,
     "end_time": "2021-12-26T00:26:39.957288",
     "exception": false,
     "start_time": "2021-12-26T00:26:39.907588",
     "status": "completed"
    },
    "tags": []
   },
   "outputs": [],
   "source": [
    "training_data_x = X_train\n",
    "testing_data_x = X_test\n",
    "training_data_y = y_train.reshape(-1,1)\n",
    "testing_data_y = y_test.reshape(-1,1)"
   ]
  },
  {
   "cell_type": "code",
   "execution_count": 19,
   "id": "76951160",
   "metadata": {
    "execution": {
     "iopub.execute_input": "2021-12-26T00:26:40.033834Z",
     "iopub.status.busy": "2021-12-26T00:26:40.028858Z",
     "iopub.status.idle": "2021-12-26T00:26:40.043664Z",
     "shell.execute_reply": "2021-12-26T00:26:40.043151Z"
    },
    "papermill": {
     "duration": 0.055953,
     "end_time": "2021-12-26T00:26:40.043794",
     "exception": false,
     "start_time": "2021-12-26T00:26:39.987841",
     "status": "completed"
    },
    "tags": []
   },
   "outputs": [
    {
     "name": "stdout",
     "output_type": "stream",
     "text": [
      "xavier\n",
      "xavier\n",
      "xavier\n",
      "xavier\n",
      "xavier\n"
     ]
    }
   ],
   "source": [
    "layers = [Affine(\"first\", 784, 100), Relu(\"first\"), Affine(\"second\", 100, 100), Relu(\"second\"), Affine(\"third\", 100, 2), Affine(\"last\", 2, 1), Sigmoid(\"last\")]\n",
    "model_nn = Model(layers)\n",
    "model_lr = Model([Affine(\"logits\", 784, 1), Sigmoid(\"sigmoid\")])"
   ]
  },
  {
   "cell_type": "code",
   "execution_count": 20,
   "id": "6eede77a",
   "metadata": {
    "execution": {
     "iopub.execute_input": "2021-12-26T00:26:40.108183Z",
     "iopub.status.busy": "2021-12-26T00:26:40.107093Z",
     "iopub.status.idle": "2021-12-26T00:26:40.119857Z",
     "shell.execute_reply": "2021-12-26T00:26:40.120309Z"
    },
    "papermill": {
     "duration": 0.046822,
     "end_time": "2021-12-26T00:26:40.120467",
     "exception": false,
     "start_time": "2021-12-26T00:26:40.073645",
     "status": "completed"
    },
    "tags": []
   },
   "outputs": [],
   "source": [
    "nn_learner = Learner(loss, model_nn, opt, config.num_epochs)\n",
    "acc_nn = ClfCallback(nn_learner, config.bs, training_data_x , testing_data_x, training_data_y, testing_data_y)\n",
    "nn_learner.set_callbacks([acc_nn])"
   ]
  },
  {
   "cell_type": "code",
   "execution_count": 21,
   "id": "877b6cc7",
   "metadata": {
    "execution": {
     "iopub.execute_input": "2021-12-26T00:26:40.190290Z",
     "iopub.status.busy": "2021-12-26T00:26:40.189689Z",
     "iopub.status.idle": "2021-12-26T00:26:40.201877Z",
     "shell.execute_reply": "2021-12-26T00:26:40.201389Z"
    },
    "papermill": {
     "duration": 0.051422,
     "end_time": "2021-12-26T00:26:40.202016",
     "exception": false,
     "start_time": "2021-12-26T00:26:40.150594",
     "status": "completed"
    },
    "tags": []
   },
   "outputs": [],
   "source": [
    "lr_learner = Learner(loss, model_lr, opt, config.num_epochs)\n",
    "acc_lr = ClfCallback(lr_learner, config.bs, training_data_x , testing_data_x, training_data_y, testing_data_y)\n",
    "lr_learner.set_callbacks([acc_lr])"
   ]
  },
  {
   "cell_type": "code",
   "execution_count": 22,
   "id": "d9b133c3",
   "metadata": {
    "execution": {
     "iopub.execute_input": "2021-12-26T00:26:40.267411Z",
     "iopub.status.busy": "2021-12-26T00:26:40.266785Z",
     "iopub.status.idle": "2021-12-26T00:28:07.031534Z",
     "shell.execute_reply": "2021-12-26T00:28:07.032397Z"
    },
    "papermill": {
     "duration": 86.799565,
     "end_time": "2021-12-26T00:28:07.032568",
     "exception": false,
     "start_time": "2021-12-26T00:26:40.233003",
     "status": "completed"
    },
    "tags": []
   },
   "outputs": [
    {
     "name": "stdout",
     "output_type": "stream",
     "text": [
      "Epoch 0, Loss 0.2431\n",
      "Training Accuracy: 0.6693, Testing Accuracy: 0.6709\n",
      "\n"
     ]
    },
    {
     "name": "stdout",
     "output_type": "stream",
     "text": [
      "Epoch 10, Loss 0.0801\n",
      "Training Accuracy: 0.9314, Testing Accuracy: 0.9415\n",
      "\n"
     ]
    },
    {
     "name": "stdout",
     "output_type": "stream",
     "text": [
      "Epoch 20, Loss 0.0508\n",
      "Training Accuracy: 0.9488, Testing Accuracy: 0.9556\n",
      "\n"
     ]
    },
    {
     "name": "stdout",
     "output_type": "stream",
     "text": [
      "Epoch 30, Loss 0.041\n",
      "Training Accuracy: 0.9563, Testing Accuracy: 0.9637\n",
      "\n"
     ]
    },
    {
     "name": "stdout",
     "output_type": "stream",
     "text": [
      "Epoch 40, Loss 0.036\n",
      "Training Accuracy: 0.9605, Testing Accuracy: 0.9662\n",
      "\n"
     ]
    },
    {
     "name": "stdout",
     "output_type": "stream",
     "text": [
      "Epoch 50, Loss 0.0329\n",
      "Training Accuracy: 0.9624, Testing Accuracy: 0.9682\n",
      "\n"
     ]
    },
    {
     "name": "stdout",
     "output_type": "stream",
     "text": [
      "Epoch 60, Loss 0.0307\n",
      "Training Accuracy: 0.9649, Testing Accuracy: 0.9693\n",
      "\n"
     ]
    },
    {
     "name": "stdout",
     "output_type": "stream",
     "text": [
      "Epoch 70, Loss 0.029\n",
      "Training Accuracy: 0.9669, Testing Accuracy: 0.9703\n",
      "\n"
     ]
    },
    {
     "name": "stdout",
     "output_type": "stream",
     "text": [
      "Epoch 80, Loss 0.0276\n",
      "Training Accuracy: 0.9686, Testing Accuracy: 0.9703\n",
      "\n"
     ]
    },
    {
     "name": "stdout",
     "output_type": "stream",
     "text": [
      "Epoch 90, Loss 0.0265\n",
      "Training Accuracy: 0.9700, Testing Accuracy: 0.9713\n",
      "\n"
     ]
    },
    {
     "name": "stdout",
     "output_type": "stream",
     "text": [
      "Epoch 100, Loss 0.0255\n",
      "Training Accuracy: 0.9717, Testing Accuracy: 0.9733\n",
      "\n"
     ]
    },
    {
     "name": "stdout",
     "output_type": "stream",
     "text": [
      "Epoch 110, Loss 0.0246\n",
      "Training Accuracy: 0.9726, Testing Accuracy: 0.9733\n",
      "\n"
     ]
    },
    {
     "name": "stdout",
     "output_type": "stream",
     "text": [
      "Epoch 120, Loss 0.0238\n",
      "Training Accuracy: 0.9735, Testing Accuracy: 0.9738\n",
      "\n"
     ]
    },
    {
     "name": "stdout",
     "output_type": "stream",
     "text": [
      "Epoch 130, Loss 0.0231\n",
      "Training Accuracy: 0.9742, Testing Accuracy: 0.9738\n",
      "\n"
     ]
    },
    {
     "name": "stdout",
     "output_type": "stream",
     "text": [
      "Epoch 140, Loss 0.0225\n",
      "Training Accuracy: 0.9753, Testing Accuracy: 0.9718\n",
      "\n"
     ]
    },
    {
     "name": "stdout",
     "output_type": "stream",
     "text": [
      "Epoch 150, Loss 0.0219\n",
      "Training Accuracy: 0.9757, Testing Accuracy: 0.9718\n",
      "\n"
     ]
    },
    {
     "name": "stdout",
     "output_type": "stream",
     "text": [
      "Epoch 160, Loss 0.0213\n",
      "Training Accuracy: 0.9760, Testing Accuracy: 0.9728\n",
      "\n"
     ]
    },
    {
     "name": "stdout",
     "output_type": "stream",
     "text": [
      "Epoch 170, Loss 0.0208\n",
      "Training Accuracy: 0.9768, Testing Accuracy: 0.9723\n",
      "\n"
     ]
    },
    {
     "name": "stdout",
     "output_type": "stream",
     "text": [
      "Epoch 180, Loss 0.0203\n",
      "Training Accuracy: 0.9771, Testing Accuracy: 0.9728\n",
      "\n"
     ]
    },
    {
     "name": "stdout",
     "output_type": "stream",
     "text": [
      "Epoch 190, Loss 0.0198\n",
      "Training Accuracy: 0.9775, Testing Accuracy: 0.9728\n",
      "\n"
     ]
    },
    {
     "name": "stdout",
     "output_type": "stream",
     "text": [
      "Epoch 200, Loss 0.0194\n",
      "Training Accuracy: 0.9781, Testing Accuracy: 0.9738\n",
      "\n"
     ]
    },
    {
     "name": "stdout",
     "output_type": "stream",
     "text": [
      "Epoch 210, Loss 0.0189\n",
      "Training Accuracy: 0.9789, Testing Accuracy: 0.9738\n",
      "\n"
     ]
    },
    {
     "name": "stdout",
     "output_type": "stream",
     "text": [
      "Epoch 220, Loss 0.0185\n",
      "Training Accuracy: 0.9791, Testing Accuracy: 0.9738\n",
      "\n"
     ]
    },
    {
     "name": "stdout",
     "output_type": "stream",
     "text": [
      "Epoch 230, Loss 0.0181\n",
      "Training Accuracy: 0.9796, Testing Accuracy: 0.9743\n",
      "\n"
     ]
    },
    {
     "name": "stdout",
     "output_type": "stream",
     "text": [
      "Epoch 240, Loss 0.0177\n",
      "Training Accuracy: 0.9803, Testing Accuracy: 0.9748\n",
      "\n"
     ]
    },
    {
     "data": {
      "text/plain": [
       "0.02463623903944847"
      ]
     },
     "execution_count": 22,
     "metadata": {},
     "output_type": "execute_result"
    }
   ],
   "source": [
    "nn_learner.train_loop(dl)"
   ]
  },
  {
   "cell_type": "code",
   "execution_count": 23,
   "id": "e0163366",
   "metadata": {
    "execution": {
     "iopub.execute_input": "2021-12-26T00:28:07.122015Z",
     "iopub.status.busy": "2021-12-26T00:28:07.121403Z",
     "iopub.status.idle": "2021-12-26T00:28:22.332897Z",
     "shell.execute_reply": "2021-12-26T00:28:22.333743Z"
    },
    "papermill": {
     "duration": 15.263642,
     "end_time": "2021-12-26T00:28:22.333905",
     "exception": false,
     "start_time": "2021-12-26T00:28:07.070263",
     "status": "completed"
    },
    "tags": []
   },
   "outputs": [
    {
     "name": "stdout",
     "output_type": "stream",
     "text": [
      "Epoch 0, Loss 0.2346\n",
      "Training Accuracy: 0.7072, Testing Accuracy: 0.6971\n",
      "\n"
     ]
    },
    {
     "name": "stdout",
     "output_type": "stream",
     "text": [
      "Epoch 10, Loss 0.1031\n",
      "Training Accuracy: 0.9087, Testing Accuracy: 0.9214\n",
      "\n"
     ]
    },
    {
     "name": "stdout",
     "output_type": "stream",
     "text": [
      "Epoch 20, Loss 0.0792\n",
      "Training Accuracy: 0.9266, Testing Accuracy: 0.9446\n",
      "\n"
     ]
    },
    {
     "name": "stdout",
     "output_type": "stream",
     "text": [
      "Epoch 30, Loss 0.0682\n",
      "Training Accuracy: 0.9363, Testing Accuracy: 0.9501\n",
      "\n"
     ]
    },
    {
     "name": "stdout",
     "output_type": "stream",
     "text": [
      "Epoch 40, Loss 0.0616\n",
      "Training Accuracy: 0.9413, Testing Accuracy: 0.9546\n",
      "\n"
     ]
    },
    {
     "name": "stdout",
     "output_type": "stream",
     "text": [
      "Epoch 50, Loss 0.0571\n",
      "Training Accuracy: 0.9442, Testing Accuracy: 0.9592\n",
      "\n"
     ]
    },
    {
     "name": "stdout",
     "output_type": "stream",
     "text": [
      "Epoch 60, Loss 0.0538\n",
      "Training Accuracy: 0.9478, Testing Accuracy: 0.9612\n",
      "\n"
     ]
    },
    {
     "name": "stdout",
     "output_type": "stream",
     "text": [
      "Epoch 70, Loss 0.0513\n",
      "Training Accuracy: 0.9493, Testing Accuracy: 0.9617\n",
      "\n"
     ]
    },
    {
     "name": "stdout",
     "output_type": "stream",
     "text": [
      "Epoch 80, Loss 0.0492\n",
      "Training Accuracy: 0.9511, Testing Accuracy: 0.9612\n",
      "\n"
     ]
    },
    {
     "name": "stdout",
     "output_type": "stream",
     "text": [
      "Epoch 90, Loss 0.0476\n",
      "Training Accuracy: 0.9524, Testing Accuracy: 0.9617\n",
      "\n"
     ]
    },
    {
     "name": "stdout",
     "output_type": "stream",
     "text": [
      "Epoch 100, Loss 0.0461\n",
      "Training Accuracy: 0.9534, Testing Accuracy: 0.9637\n",
      "\n"
     ]
    },
    {
     "name": "stdout",
     "output_type": "stream",
     "text": [
      "Epoch 110, Loss 0.0449\n",
      "Training Accuracy: 0.9546, Testing Accuracy: 0.9647\n",
      "\n"
     ]
    },
    {
     "name": "stdout",
     "output_type": "stream",
     "text": [
      "Epoch 120, Loss 0.0439\n",
      "Training Accuracy: 0.9551, Testing Accuracy: 0.9657\n",
      "\n"
     ]
    },
    {
     "name": "stdout",
     "output_type": "stream",
     "text": [
      "Epoch 130, Loss 0.0429\n",
      "Training Accuracy: 0.9559, Testing Accuracy: 0.9662\n",
      "\n"
     ]
    },
    {
     "name": "stdout",
     "output_type": "stream",
     "text": [
      "Epoch 140, Loss 0.0421\n",
      "Training Accuracy: 0.9570, Testing Accuracy: 0.9672\n",
      "\n"
     ]
    },
    {
     "name": "stdout",
     "output_type": "stream",
     "text": [
      "Epoch 150, Loss 0.0414\n",
      "Training Accuracy: 0.9575, Testing Accuracy: 0.9677\n",
      "\n"
     ]
    },
    {
     "name": "stdout",
     "output_type": "stream",
     "text": [
      "Epoch 160, Loss 0.0407\n",
      "Training Accuracy: 0.9579, Testing Accuracy: 0.9677\n",
      "\n"
     ]
    },
    {
     "name": "stdout",
     "output_type": "stream",
     "text": [
      "Epoch 170, Loss 0.0401\n",
      "Training Accuracy: 0.9589, Testing Accuracy: 0.9672\n",
      "\n"
     ]
    },
    {
     "name": "stdout",
     "output_type": "stream",
     "text": [
      "Epoch 180, Loss 0.0396\n",
      "Training Accuracy: 0.9591, Testing Accuracy: 0.9672\n",
      "\n"
     ]
    },
    {
     "name": "stdout",
     "output_type": "stream",
     "text": [
      "Epoch 190, Loss 0.039\n",
      "Training Accuracy: 0.9596, Testing Accuracy: 0.9672\n",
      "\n"
     ]
    },
    {
     "name": "stdout",
     "output_type": "stream",
     "text": [
      "Epoch 200, Loss 0.0386\n",
      "Training Accuracy: 0.9599, Testing Accuracy: 0.9672\n",
      "\n"
     ]
    },
    {
     "name": "stdout",
     "output_type": "stream",
     "text": [
      "Epoch 210, Loss 0.0381\n",
      "Training Accuracy: 0.9604, Testing Accuracy: 0.9672\n",
      "\n"
     ]
    },
    {
     "name": "stdout",
     "output_type": "stream",
     "text": [
      "Epoch 220, Loss 0.0377\n",
      "Training Accuracy: 0.9608, Testing Accuracy: 0.9672\n",
      "\n"
     ]
    },
    {
     "name": "stdout",
     "output_type": "stream",
     "text": [
      "Epoch 230, Loss 0.0373\n",
      "Training Accuracy: 0.9609, Testing Accuracy: 0.9677\n",
      "\n"
     ]
    },
    {
     "name": "stdout",
     "output_type": "stream",
     "text": [
      "Epoch 240, Loss 0.037\n",
      "Training Accuracy: 0.9611, Testing Accuracy: 0.9677\n",
      "\n"
     ]
    },
    {
     "data": {
      "text/plain": [
       "0.013794450691281771"
      ]
     },
     "execution_count": 23,
     "metadata": {},
     "output_type": "execute_result"
    }
   ],
   "source": [
    "lr_learner.train_loop(dl)"
   ]
  },
  {
   "cell_type": "code",
   "execution_count": 24,
   "id": "ca410940",
   "metadata": {
    "execution": {
     "iopub.execute_input": "2021-12-26T00:28:22.434957Z",
     "iopub.status.busy": "2021-12-26T00:28:22.434338Z",
     "iopub.status.idle": "2021-12-26T00:28:22.695785Z",
     "shell.execute_reply": "2021-12-26T00:28:22.696269Z"
    },
    "papermill": {
     "duration": 0.316047,
     "end_time": "2021-12-26T00:28:22.696426",
     "exception": false,
     "start_time": "2021-12-26T00:28:22.380379",
     "status": "completed"
    },
    "tags": []
   },
   "outputs": [
    {
     "data": {
      "text/plain": [
       "<matplotlib.legend.Legend at 0x7f01e5d99c88>"
      ]
     },
     "execution_count": 24,
     "metadata": {},
     "output_type": "execute_result"
    },
    {
     "data": {
      "image/png": "[encoded data removed]",
      "text/plain": [
       "<Figure size 1080x720 with 1 Axes>"
      ]
     },
     "metadata": {
      "needs_background": "light"
     },
     "output_type": "display_data"
    }
   ],
   "source": [
    "#comparing the results of NN and LR\n",
    "plt.figure(figsize=(15,10))\n",
    "\n",
    "# Neural Network plots\n",
    "plt.plot(acc_nn.accuracies, 'r-', label = \"Training Accuracies - NN\")\n",
    "plt.plot(acc_nn.test_accuracies, 'g-', label = \"Testing Accuracies - NN\")\n",
    "\n",
    "# Logistic Regression plots\n",
    "plt.plot(acc_lr.accuracies, 'k-', label = \"Training Accuracies - LR\")\n",
    "plt.plot(acc_lr.test_accuracies, 'b-', label = \"Testing Accuracies - LR\")\n",
    "plt.legend()"
   ]
  },
  {
   "cell_type": "markdown",
   "id": "80dfb35c",
   "metadata": {
    "papermill": {
     "duration": 0.047933,
     "end_time": "2021-12-26T00:28:22.792653",
     "exception": false,
     "start_time": "2021-12-26T00:28:22.744720",
     "status": "completed"
    },
    "tags": []
   },
   "source": [
    "#### Plotting the outputs of this layer of the NN.\n"
   ]
  },
  {
   "cell_type": "code",
   "execution_count": 25,
   "id": "45eb2ff5",
   "metadata": {
    "execution": {
     "iopub.execute_input": "2021-12-26T00:28:22.891273Z",
     "iopub.status.busy": "2021-12-26T00:28:22.890675Z",
     "iopub.status.idle": "2021-12-26T00:28:22.911696Z",
     "shell.execute_reply": "2021-12-26T00:28:22.912151Z"
    },
    "papermill": {
     "duration": 0.071945,
     "end_time": "2021-12-26T00:28:22.912295",
     "exception": false,
     "start_time": "2021-12-26T00:28:22.840350",
     "status": "completed"
    },
    "tags": []
   },
   "outputs": [],
   "source": [
    "new_model = Model(layers[:-2])\n",
    "testing_plot = new_model(testing_data_x)"
   ]
  },
  {
   "cell_type": "code",
   "execution_count": 26,
   "id": "4c0a5485",
   "metadata": {
    "execution": {
     "iopub.execute_input": "2021-12-26T00:28:23.022385Z",
     "iopub.status.busy": "2021-12-26T00:28:23.016395Z",
     "iopub.status.idle": "2021-12-26T00:28:23.236348Z",
     "shell.execute_reply": "2021-12-26T00:28:23.235807Z"
    },
    "papermill": {
     "duration": 0.273478,
     "end_time": "2021-12-26T00:28:23.236488",
     "exception": false,
     "start_time": "2021-12-26T00:28:22.963010",
     "status": "completed"
    },
    "tags": []
   },
   "outputs": [
    {
     "data": {
      "text/plain": [
       "Text(0.5, 1.0, 'Outputs')"
      ]
     },
     "execution_count": 26,
     "metadata": {},
     "output_type": "execute_result"
    },
    {
     "data": {
      "image/png": "[encoded data removed]",
      "text/plain": [
       "<Figure size 576x504 with 1 Axes>"
      ]
     },
     "metadata": {
      "needs_background": "light"
     },
     "output_type": "display_data"
    }
   ],
   "source": [
    "# Plotting the scatter plot of points and color coding by class\n",
    "plt.figure(figsize=(8,7))\n",
    "plt.scatter(testing_plot[:,0], testing_plot[:,1], alpha = 0.1, c = y_test.ravel());\n",
    "plt.title('Outputs')"
   ]
  },
  {
   "cell_type": "markdown",
   "id": "a74fcf8f",
   "metadata": {
    "papermill": {
     "duration": 0.049309,
     "end_time": "2021-12-26T00:28:23.334660",
     "exception": false,
     "start_time": "2021-12-26T00:28:23.285351",
     "status": "completed"
    },
    "tags": []
   },
   "source": [
    "Probability contours"
   ]
  },
  {
   "cell_type": "code",
   "execution_count": 27,
   "id": "d0afc8e3",
   "metadata": {
    "execution": {
     "iopub.execute_input": "2021-12-26T00:28:23.438267Z",
     "iopub.status.busy": "2021-12-26T00:28:23.437647Z",
     "iopub.status.idle": "2021-12-26T00:28:23.450507Z",
     "shell.execute_reply": "2021-12-26T00:28:23.450027Z"
    },
    "papermill": {
     "duration": 0.066616,
     "end_time": "2021-12-26T00:28:23.450641",
     "exception": false,
     "start_time": "2021-12-26T00:28:23.384025",
     "status": "completed"
    },
    "tags": []
   },
   "outputs": [],
   "source": [
    "model_prob = Model(layers[-2:]) "
   ]
  },
  {
   "cell_type": "code",
   "execution_count": 28,
   "id": "9b96e238",
   "metadata": {
    "execution": {
     "iopub.execute_input": "2021-12-26T00:28:23.585977Z",
     "iopub.status.busy": "2021-12-26T00:28:23.585365Z",
     "iopub.status.idle": "2021-12-26T00:28:23.599506Z",
     "shell.execute_reply": "2021-12-26T00:28:23.599959Z"
    },
    "papermill": {
     "duration": 0.069281,
     "end_time": "2021-12-26T00:28:23.600116",
     "exception": false,
     "start_time": "2021-12-26T00:28:23.530835",
     "status": "completed"
    },
    "tags": []
   },
   "outputs": [],
   "source": [
    "#creating the x and y ranges according to the above generated plot.\n",
    "x_range = np.linspace(-4, 1, 100) \n",
    "y_range = np.linspace(-6, 6, 100) \n",
    "x_grid, y_grid = np.meshgrid(x_range, y_range) # x_grid and y_grig are of size 100 X 100\n",
    "\n",
    "# converting x_grid and y_grid to continuous arrays\n",
    "x_gridflat = np.ravel(x_grid)\n",
    "y_gridflat = np.ravel(y_grid)\n",
    "\n",
    "# The last layer of the current model takes two columns as input. Hence transpose of np.vstack() is required.\n",
    "X = np.vstack((x_gridflat, y_gridflat)).T\n",
    "\n",
    "prob_contour = model_prob(X).reshape(100,100) "
   ]
  },
  {
   "cell_type": "code",
   "execution_count": 29,
   "id": "da72499a",
   "metadata": {
    "execution": {
     "iopub.execute_input": "2021-12-26T00:28:23.710608Z",
     "iopub.status.busy": "2021-12-26T00:28:23.710056Z",
     "iopub.status.idle": "2021-12-26T00:28:23.983728Z",
     "shell.execute_reply": "2021-12-26T00:28:23.984204Z"
    },
    "papermill": {
     "duration": 0.334094,
     "end_time": "2021-12-26T00:28:23.984359",
     "exception": false,
     "start_time": "2021-12-26T00:28:23.650265",
     "status": "completed"
    },
    "tags": []
   },
   "outputs": [
    {
     "data": {
      "image/png": "[encoded data removed]",
      "text/plain": [
       "<Figure size 720x648 with 1 Axes>"
      ]
     },
     "metadata": {
      "needs_background": "light"
     },
     "output_type": "display_data"
    }
   ],
   "source": [
    "plt.figure(figsize=(10,9))\n",
    "plt.scatter(testing_plot[:,0], testing_plot[:,1], alpha = 0.1, c = y_test.ravel())\n",
    "contours = plt.contour(x_grid,y_grid,prob_contour)\n",
    "plt.title('Probability Contours')\n",
    "plt.clabel(contours, inline = True );"
   ]
  },
  {
   "cell_type": "code",
   "execution_count": null,
   "id": "e81b4ac7",
   "metadata": {
    "papermill": {
     "duration": 0.052425,
     "end_time": "2021-12-26T00:28:24.089521",
     "exception": false,
     "start_time": "2021-12-26T00:28:24.037096",
     "status": "completed"
    },
    "tags": []
   },
   "outputs": [],
   "source": []
  }
 ],
 "metadata": {
  "kernelspec": {
   "display_name": "Python 3",
   "language": "python",
   "name": "python3"
  },
  "language_info": {
   "codemirror_mode": {
    "name": "ipython",
    "version": 3
   },
   "file_extension": ".py",
   "mimetype": "text/x-python",
   "name": "python",
   "nbconvert_exporter": "python",
   "pygments_lexer": "ipython3",
   "version": "3.6.15"
  },
  "papermill": {
   "default_parameters": {},
   "duration": 112.218722,
   "end_time": "2021-12-26T00:28:24.548083",
   "environment_variables": {},
   "exception": null,
   "input_path": "2020-08-11-part2.ipynb",
   "output_path": "2020-08-11-part2.ipynb",
   "parameters": {},
   "start_time": "2021-12-26T00:26:32.329361",
   "version": "2.3.3"
  }
 },
 "nbformat": 4,
 "nbformat_minor": 5
}