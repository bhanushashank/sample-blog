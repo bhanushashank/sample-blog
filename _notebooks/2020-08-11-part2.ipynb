{
 "cells": [
  {
   "cell_type": "markdown",
   "id": "98380cd3",
   "metadata": {
    "papermill": {
     "duration": 0.033088,
     "end_time": "2022-07-12T10:11:54.757182",
     "exception": false,
     "start_time": "2022-07-12T10:11:54.724094",
     "status": "completed"
    },
    "tags": []
   },
   "source": [
    "# Distinguish Your Own Digits (DYOD)"
   ]
  },
  {
   "cell_type": "markdown",
   "id": "ef31240d",
   "metadata": {
    "papermill": {
     "duration": 0.024162,
     "end_time": "2022-07-12T10:11:54.806062",
     "exception": false,
     "start_time": "2022-07-12T10:11:54.781900",
     "status": "completed"
    },
    "tags": []
   },
   "source": [
    "You are going to write a classifier that distinguishes between the number 3 and number 8."
   ]
  },
  {
   "cell_type": "code",
   "execution_count": 1,
   "id": "b15c8646",
   "metadata": {
    "execution": {
     "iopub.execute_input": "2022-07-12T10:11:54.864030Z",
     "iopub.status.busy": "2022-07-12T10:11:54.862762Z",
     "iopub.status.idle": "2022-07-12T10:11:54.876876Z",
     "shell.execute_reply": "2022-07-12T10:11:54.876347Z"
    },
    "papermill": {
     "duration": 0.047121,
     "end_time": "2022-07-12T10:11:54.877009",
     "exception": false,
     "start_time": "2022-07-12T10:11:54.829888",
     "status": "completed"
    },
    "tags": []
   },
   "outputs": [],
   "source": [
    "%load_ext autoreload\n",
    "%autoreload 2"
   ]
  },
  {
   "cell_type": "code",
   "execution_count": 2,
   "id": "22ef38dc",
   "metadata": {
    "execution": {
     "iopub.execute_input": "2022-07-12T10:11:54.929460Z",
     "iopub.status.busy": "2022-07-12T10:11:54.928856Z",
     "iopub.status.idle": "2022-07-12T10:11:55.476536Z",
     "shell.execute_reply": "2022-07-12T10:11:55.477581Z"
    },
    "papermill": {
     "duration": 0.576704,
     "end_time": "2022-07-12T10:11:55.477761",
     "exception": false,
     "start_time": "2022-07-12T10:11:54.901057",
     "status": "completed"
    },
    "tags": []
   },
   "outputs": [],
   "source": [
    "%matplotlib inline\n",
    "import numpy as np\n",
    "import matplotlib.pyplot as plt\n",
    "import pandas as pd"
   ]
  },
  {
   "cell_type": "markdown",
   "id": "ba036198",
   "metadata": {
    "papermill": {
     "duration": 0.024051,
     "end_time": "2022-07-12T10:11:55.525911",
     "exception": false,
     "start_time": "2022-07-12T10:11:55.501860",
     "status": "completed"
    },
    "tags": []
   },
   "source": [
    "From the command line run `pip install mnist`. This is a library that will help you bring down the mnist dataset. If you run this from a notebook, you need to put  `!pip install mnist` in a cell by itself."
   ]
  },
  {
   "cell_type": "code",
   "execution_count": 3,
   "id": "bb6ad8a1",
   "metadata": {
    "execution": {
     "iopub.execute_input": "2022-07-12T10:11:55.578270Z",
     "iopub.status.busy": "2022-07-12T10:11:55.577685Z",
     "iopub.status.idle": "2022-07-12T10:11:59.399525Z",
     "shell.execute_reply": "2022-07-12T10:11:59.400035Z"
    },
    "papermill": {
     "duration": 3.850196,
     "end_time": "2022-07-12T10:11:59.400188",
     "exception": false,
     "start_time": "2022-07-12T10:11:55.549992",
     "status": "completed"
    },
    "tags": []
   },
   "outputs": [
    {
     "name": "stdout",
     "output_type": "stream",
     "text": [
      "Collecting mnist\r\n"
     ]
    },
    {
     "name": "stdout",
     "output_type": "stream",
     "text": [
      "  Downloading mnist-0.2.2-py2.py3-none-any.whl (3.5 kB)\r\n",
      "Requirement already satisfied: numpy in /opt/hostedtoolcache/Python/3.6.15/x64/lib/python3.6/site-packages (from mnist) (1.19.5)\r\n"
     ]
    },
    {
     "name": "stdout",
     "output_type": "stream",
     "text": [
      "Installing collected packages: mnist\r\n"
     ]
    },
    {
     "name": "stdout",
     "output_type": "stream",
     "text": [
      "Successfully installed mnist-0.2.2\r\n"
     ]
    }
   ],
   "source": [
    "!pip install mnist"
   ]
  },
  {
   "cell_type": "markdown",
   "id": "69df9c9a",
   "metadata": {
    "papermill": {
     "duration": 0.022323,
     "end_time": "2022-07-12T10:11:59.445358",
     "exception": false,
     "start_time": "2022-07-12T10:11:59.423035",
     "status": "completed"
    },
    "tags": []
   },
   "source": [
    "## Preparing the Data"
   ]
  },
  {
   "cell_type": "code",
   "execution_count": 4,
   "id": "7f69d806",
   "metadata": {
    "execution": {
     "iopub.execute_input": "2022-07-12T10:11:59.494321Z",
     "iopub.status.busy": "2022-07-12T10:11:59.493774Z",
     "iopub.status.idle": "2022-07-12T10:11:59.509995Z",
     "shell.execute_reply": "2022-07-12T10:11:59.510473Z"
    },
    "papermill": {
     "duration": 0.043149,
     "end_time": "2022-07-12T10:11:59.510625",
     "exception": false,
     "start_time": "2022-07-12T10:11:59.467476",
     "status": "completed"
    },
    "tags": []
   },
   "outputs": [],
   "source": [
    "import mnist"
   ]
  },
  {
   "cell_type": "code",
   "execution_count": 5,
   "id": "a411e44f",
   "metadata": {
    "execution": {
     "iopub.execute_input": "2022-07-12T10:11:59.565854Z",
     "iopub.status.busy": "2022-07-12T10:11:59.565231Z",
     "iopub.status.idle": "2022-07-12T10:12:00.096379Z",
     "shell.execute_reply": "2022-07-12T10:12:00.094235Z"
    },
    "papermill": {
     "duration": 0.560675,
     "end_time": "2022-07-12T10:12:00.096533",
     "exception": false,
     "start_time": "2022-07-12T10:11:59.535858",
     "status": "completed"
    },
    "tags": []
   },
   "outputs": [],
   "source": [
    "train_images = mnist.train_images()\n",
    "train_labels = mnist.train_labels()"
   ]
  },
  {
   "cell_type": "code",
   "execution_count": 6,
   "id": "dceab3a5",
   "metadata": {
    "execution": {
     "iopub.execute_input": "2022-07-12T10:12:00.156264Z",
     "iopub.status.busy": "2022-07-12T10:12:00.155589Z",
     "iopub.status.idle": "2022-07-12T10:12:00.170414Z",
     "shell.execute_reply": "2022-07-12T10:12:00.169915Z"
    },
    "papermill": {
     "duration": 0.048766,
     "end_time": "2022-07-12T10:12:00.170534",
     "exception": false,
     "start_time": "2022-07-12T10:12:00.121768",
     "status": "completed"
    },
    "tags": []
   },
   "outputs": [
    {
     "data": {
      "text/plain": [
       "((60000, 28, 28), (60000,))"
      ]
     },
     "execution_count": 6,
     "metadata": {},
     "output_type": "execute_result"
    }
   ],
   "source": [
    "train_images.shape, train_labels.shape"
   ]
  },
  {
   "cell_type": "code",
   "execution_count": 7,
   "id": "f50dc2bb",
   "metadata": {
    "execution": {
     "iopub.execute_input": "2022-07-12T10:12:00.229558Z",
     "iopub.status.busy": "2022-07-12T10:12:00.225575Z",
     "iopub.status.idle": "2022-07-12T10:12:00.330654Z",
     "shell.execute_reply": "2022-07-12T10:12:00.330017Z"
    },
    "papermill": {
     "duration": 0.1349,
     "end_time": "2022-07-12T10:12:00.330775",
     "exception": false,
     "start_time": "2022-07-12T10:12:00.195875",
     "status": "completed"
    },
    "tags": []
   },
   "outputs": [],
   "source": [
    "test_images = mnist.test_images()\n",
    "test_labels = mnist.test_labels()"
   ]
  },
  {
   "cell_type": "code",
   "execution_count": 8,
   "id": "fc38cf1b",
   "metadata": {
    "execution": {
     "iopub.execute_input": "2022-07-12T10:12:00.398660Z",
     "iopub.status.busy": "2022-07-12T10:12:00.398035Z",
     "iopub.status.idle": "2022-07-12T10:12:00.413524Z",
     "shell.execute_reply": "2022-07-12T10:12:00.414044Z"
    },
    "papermill": {
     "duration": 0.045271,
     "end_time": "2022-07-12T10:12:00.414182",
     "exception": false,
     "start_time": "2022-07-12T10:12:00.368911",
     "status": "completed"
    },
    "tags": []
   },
   "outputs": [
    {
     "data": {
      "text/plain": [
       "((10000, 28, 28), (10000,))"
      ]
     },
     "execution_count": 8,
     "metadata": {},
     "output_type": "execute_result"
    }
   ],
   "source": [
    "test_images.shape, test_labels.shape"
   ]
  },
  {
   "cell_type": "code",
   "execution_count": 9,
   "id": "f9ed8fe0",
   "metadata": {
    "execution": {
     "iopub.execute_input": "2022-07-12T10:12:00.468736Z",
     "iopub.status.busy": "2022-07-12T10:12:00.468032Z",
     "iopub.status.idle": "2022-07-12T10:12:00.605333Z",
     "shell.execute_reply": "2022-07-12T10:12:00.605800Z"
    },
    "papermill": {
     "duration": 0.169037,
     "end_time": "2022-07-12T10:12:00.605941",
     "exception": false,
     "start_time": "2022-07-12T10:12:00.436904",
     "status": "completed"
    },
    "tags": []
   },
   "outputs": [
    {
     "name": "stdout",
     "output_type": "stream",
     "text": [
      "2\n"
     ]
    },
    {
     "data": {
      "text/plain": [
       "<matplotlib.image.AxesImage at 0x7fcaa68c64a8>"
      ]
     },
     "execution_count": 9,
     "metadata": {},
     "output_type": "execute_result"
    },
    {
     "data": {
      "image/png": "[encoded data removed]",
      "text/plain": [
       "<Figure size 432x288 with 1 Axes>"
      ]
     },
     "metadata": {
      "needs_background": "light"
     },
     "output_type": "display_data"
    }
   ],
   "source": [
    "image_index = 7776 # You may select anything up to 60,000\n",
    "print(train_labels[image_index]) \n",
    "plt.imshow(train_images[image_index], cmap='Greys')"
   ]
  },
  {
   "cell_type": "markdown",
   "id": "a8d2388d",
   "metadata": {
    "papermill": {
     "duration": 0.027117,
     "end_time": "2022-07-12T10:12:00.659822",
     "exception": false,
     "start_time": "2022-07-12T10:12:00.632705",
     "status": "completed"
    },
    "tags": []
   },
   "source": [
    "## Filter data to get 3 and 8 out"
   ]
  },
  {
   "cell_type": "code",
   "execution_count": 10,
   "id": "776f7fc7",
   "metadata": {
    "execution": {
     "iopub.execute_input": "2022-07-12T10:12:00.717547Z",
     "iopub.status.busy": "2022-07-12T10:12:00.716939Z",
     "iopub.status.idle": "2022-07-12T10:12:00.747878Z",
     "shell.execute_reply": "2022-07-12T10:12:00.747333Z"
    },
    "papermill": {
     "duration": 0.061731,
     "end_time": "2022-07-12T10:12:00.748006",
     "exception": false,
     "start_time": "2022-07-12T10:12:00.686275",
     "status": "completed"
    },
    "tags": []
   },
   "outputs": [],
   "source": [
    "train_filter = np.where((train_labels == 3 ) | (train_labels == 8))\n",
    "test_filter = np.where((test_labels == 3) | (test_labels == 8))\n",
    "X_train, y_train = train_images[train_filter], train_labels[train_filter]\n",
    "X_test, y_test = test_images[test_filter], test_labels[test_filter]"
   ]
  },
  {
   "cell_type": "markdown",
   "id": "948f0b7e",
   "metadata": {
    "papermill": {
     "duration": 0.026719,
     "end_time": "2022-07-12T10:12:00.801650",
     "exception": false,
     "start_time": "2022-07-12T10:12:00.774931",
     "status": "completed"
    },
    "tags": []
   },
   "source": [
    "We normalize the pizel values in the 0 to 1 range"
   ]
  },
  {
   "cell_type": "code",
   "execution_count": 11,
   "id": "ee4c2166",
   "metadata": {
    "execution": {
     "iopub.execute_input": "2022-07-12T10:12:00.857793Z",
     "iopub.status.busy": "2022-07-12T10:12:00.857209Z",
     "iopub.status.idle": "2022-07-12T10:12:00.909587Z",
     "shell.execute_reply": "2022-07-12T10:12:00.909029Z"
    },
    "papermill": {
     "duration": 0.081576,
     "end_time": "2022-07-12T10:12:00.909712",
     "exception": false,
     "start_time": "2022-07-12T10:12:00.828136",
     "status": "completed"
    },
    "tags": []
   },
   "outputs": [],
   "source": [
    "X_train = X_train/255.\n",
    "X_test = X_test/255."
   ]
  },
  {
   "cell_type": "markdown",
   "id": "ddcf4fab",
   "metadata": {
    "papermill": {
     "duration": 0.026721,
     "end_time": "2022-07-12T10:12:00.963655",
     "exception": false,
     "start_time": "2022-07-12T10:12:00.936934",
     "status": "completed"
    },
    "tags": []
   },
   "source": [
    "And setup the labels as 1 (when the digit is 3) and 0 (when the digit is 8)"
   ]
  },
  {
   "cell_type": "code",
   "execution_count": 12,
   "id": "7dc908f2",
   "metadata": {
    "execution": {
     "iopub.execute_input": "2022-07-12T10:12:01.023697Z",
     "iopub.status.busy": "2022-07-12T10:12:01.023061Z",
     "iopub.status.idle": "2022-07-12T10:12:01.033497Z",
     "shell.execute_reply": "2022-07-12T10:12:01.034304Z"
    },
    "papermill": {
     "duration": 0.044244,
     "end_time": "2022-07-12T10:12:01.034462",
     "exception": false,
     "start_time": "2022-07-12T10:12:00.990218",
     "status": "completed"
    },
    "tags": []
   },
   "outputs": [],
   "source": [
    "y_train = 1*(y_train==3)\n",
    "y_test = 1*(y_test==3)"
   ]
  },
  {
   "cell_type": "code",
   "execution_count": 13,
   "id": "01e4e969",
   "metadata": {
    "execution": {
     "iopub.execute_input": "2022-07-12T10:12:01.094867Z",
     "iopub.status.busy": "2022-07-12T10:12:01.094284Z",
     "iopub.status.idle": "2022-07-12T10:12:01.107671Z",
     "shell.execute_reply": "2022-07-12T10:12:01.108130Z"
    },
    "papermill": {
     "duration": 0.04437,
     "end_time": "2022-07-12T10:12:01.108287",
     "exception": false,
     "start_time": "2022-07-12T10:12:01.063917",
     "status": "completed"
    },
    "tags": []
   },
   "outputs": [
    {
     "data": {
      "text/plain": [
       "((11982, 28, 28), (1984, 28, 28))"
      ]
     },
     "execution_count": 13,
     "metadata": {},
     "output_type": "execute_result"
    }
   ],
   "source": [
    "X_train.shape, X_test.shape"
   ]
  },
  {
   "cell_type": "markdown",
   "id": "5ccf3f85",
   "metadata": {
    "papermill": {
     "duration": 0.026823,
     "end_time": "2022-07-12T10:12:01.161857",
     "exception": false,
     "start_time": "2022-07-12T10:12:01.135034",
     "status": "completed"
    },
    "tags": []
   },
   "source": [
    "We reshape the data to flatten the image pixels into a set of features or co-variates:"
   ]
  },
  {
   "cell_type": "code",
   "execution_count": 14,
   "id": "5286a4a3",
   "metadata": {
    "execution": {
     "iopub.execute_input": "2022-07-12T10:12:01.219950Z",
     "iopub.status.busy": "2022-07-12T10:12:01.219359Z",
     "iopub.status.idle": "2022-07-12T10:12:01.244198Z",
     "shell.execute_reply": "2022-07-12T10:12:01.244676Z"
    },
    "papermill": {
     "duration": 0.056045,
     "end_time": "2022-07-12T10:12:01.244816",
     "exception": false,
     "start_time": "2022-07-12T10:12:01.188771",
     "status": "completed"
    },
    "tags": []
   },
   "outputs": [
    {
     "data": {
      "text/plain": [
       "((11982, 784), (1984, 784))"
      ]
     },
     "execution_count": 14,
     "metadata": {},
     "output_type": "execute_result"
    }
   ],
   "source": [
    "X_train = X_train.reshape(X_train.shape[0], -1)\n",
    "X_test = X_test.reshape(X_test.shape[0], -1)\n",
    "X_train.shape, X_test.shape"
   ]
  },
  {
   "cell_type": "code",
   "execution_count": 15,
   "id": "73c5f88a",
   "metadata": {
    "execution": {
     "iopub.execute_input": "2022-07-12T10:12:01.304928Z",
     "iopub.status.busy": "2022-07-12T10:12:01.304264Z",
     "iopub.status.idle": "2022-07-12T10:12:01.326703Z",
     "shell.execute_reply": "2022-07-12T10:12:01.326105Z"
    },
    "papermill": {
     "duration": 0.054853,
     "end_time": "2022-07-12T10:12:01.326834",
     "exception": false,
     "start_time": "2022-07-12T10:12:01.271981",
     "status": "completed"
    },
    "tags": []
   },
   "outputs": [],
   "source": [
    "#Impoting functions from 'Kudzu'\n",
    "from kudzu.model import Model\n",
    "from kudzu.train import Learner\n",
    "from kudzu.optim import GD\n",
    "from kudzu.data import Data, Sampler,Dataloader\n",
    "\n",
    "from kudzu.callbacks import AccCallback\n",
    "from kudzu.callbacks import ClfCallback\n",
    "\n",
    "from kudzu.loss import MSE\n",
    "\n",
    "from kudzu.layer import Sigmoid,Relu\n",
    "from kudzu.layer import Affine"
   ]
  },
  {
   "cell_type": "markdown",
   "id": "bc01172a",
   "metadata": {
    "papermill": {
     "duration": 0.08097,
     "end_time": "2022-07-12T10:12:01.488443",
     "exception": false,
     "start_time": "2022-07-12T10:12:01.407473",
     "status": "completed"
    },
    "tags": []
   },
   "source": [
    "### Let us create a `Config` class, to store important parameters. \n",
    "This class essentially plays the role of a dictionary."
   ]
  },
  {
   "cell_type": "code",
   "execution_count": 16,
   "id": "978281aa",
   "metadata": {
    "execution": {
     "iopub.execute_input": "2022-07-12T10:12:01.657653Z",
     "iopub.status.busy": "2022-07-12T10:12:01.655887Z",
     "iopub.status.idle": "2022-07-12T10:12:01.672382Z",
     "shell.execute_reply": "2022-07-12T10:12:01.671733Z"
    },
    "papermill": {
     "duration": 0.103101,
     "end_time": "2022-07-12T10:12:01.672600",
     "exception": false,
     "start_time": "2022-07-12T10:12:01.569499",
     "status": "completed"
    },
    "tags": []
   },
   "outputs": [],
   "source": [
    "class Config:\n",
    "    pass\n",
    "config = Config()\n",
    "config.lr = 0.001\n",
    "config.num_epochs = 250\n",
    "config.bs = 50"
   ]
  },
  {
   "cell_type": "markdown",
   "id": "1385fa59",
   "metadata": {
    "papermill": {
     "duration": 0.027257,
     "end_time": "2022-07-12T10:12:01.736869",
     "exception": false,
     "start_time": "2022-07-12T10:12:01.709612",
     "status": "completed"
    },
    "tags": []
   },
   "source": [
    "### Running Models with the Training data\n",
    "Details about the network layers:\n",
    "- A first affine layer has 784 inputs and does 100 affine transforms. These are followed by a Relu\n",
    "- A second affine layer has 100 inputs from the 100 activations of the past layer, and does 100 affine transforms. These are followed by a Relu\n",
    "- A third affine layer has 100 activations and does 2 affine transformations to create an embedding for visualization. There is no non-linearity here.\n",
    "- A final \"logistic regression\" which has an affine transform from 2 inputs to 1 output, which is squeezed through a sigmoid.\n"
   ]
  },
  {
   "cell_type": "code",
   "execution_count": 17,
   "id": "2b9c66db",
   "metadata": {
    "execution": {
     "iopub.execute_input": "2022-07-12T10:12:01.795619Z",
     "iopub.status.busy": "2022-07-12T10:12:01.795026Z",
     "iopub.status.idle": "2022-07-12T10:12:01.811063Z",
     "shell.execute_reply": "2022-07-12T10:12:01.810389Z"
    },
    "papermill": {
     "duration": 0.047094,
     "end_time": "2022-07-12T10:12:01.811186",
     "exception": false,
     "start_time": "2022-07-12T10:12:01.764092",
     "status": "completed"
    },
    "tags": []
   },
   "outputs": [],
   "source": [
    "data = Data(X_train, y_train.reshape(-1,1))\n",
    "sampler = Sampler(data, config.bs, shuffle=True)\n",
    "\n",
    "dl = Dataloader(data, sampler)\n",
    "\n",
    "opt = GD(config.lr)\n",
    "loss = MSE()"
   ]
  },
  {
   "cell_type": "code",
   "execution_count": 18,
   "id": "b275e4c2",
   "metadata": {
    "execution": {
     "iopub.execute_input": "2022-07-12T10:12:01.872917Z",
     "iopub.status.busy": "2022-07-12T10:12:01.872312Z",
     "iopub.status.idle": "2022-07-12T10:12:01.888492Z",
     "shell.execute_reply": "2022-07-12T10:12:01.887878Z"
    },
    "papermill": {
     "duration": 0.047041,
     "end_time": "2022-07-12T10:12:01.888618",
     "exception": false,
     "start_time": "2022-07-12T10:12:01.841577",
     "status": "completed"
    },
    "tags": []
   },
   "outputs": [],
   "source": [
    "training_data_x = X_train\n",
    "testing_data_x = X_test\n",
    "training_data_y = y_train.reshape(-1,1)\n",
    "testing_data_y = y_test.reshape(-1,1)"
   ]
  },
  {
   "cell_type": "code",
   "execution_count": 19,
   "id": "76951160",
   "metadata": {
    "execution": {
     "iopub.execute_input": "2022-07-12T10:12:01.948037Z",
     "iopub.status.busy": "2022-07-12T10:12:01.947177Z",
     "iopub.status.idle": "2022-07-12T10:12:01.965127Z",
     "shell.execute_reply": "2022-07-12T10:12:01.964574Z"
    },
    "papermill": {
     "duration": 0.049768,
     "end_time": "2022-07-12T10:12:01.965349",
     "exception": false,
     "start_time": "2022-07-12T10:12:01.915581",
     "status": "completed"
    },
    "tags": []
   },
   "outputs": [
    {
     "name": "stdout",
     "output_type": "stream",
     "text": [
      "xavier\n",
      "xavier\n",
      "xavier\n",
      "xavier\n",
      "xavier\n"
     ]
    }
   ],
   "source": [
    "layers = [Affine(\"first\", 784, 100), Relu(\"first\"), Affine(\"second\", 100, 100), Relu(\"second\"), Affine(\"third\", 100, 2), Affine(\"last\", 2, 1), Sigmoid(\"last\")]\n",
    "model_nn = Model(layers)\n",
    "model_lr = Model([Affine(\"logits\", 784, 1), Sigmoid(\"sigmoid\")])"
   ]
  },
  {
   "cell_type": "code",
   "execution_count": 20,
   "id": "6eede77a",
   "metadata": {
    "execution": {
     "iopub.execute_input": "2022-07-12T10:12:02.034206Z",
     "iopub.status.busy": "2022-07-12T10:12:02.033575Z",
     "iopub.status.idle": "2022-07-12T10:12:02.037980Z",
     "shell.execute_reply": "2022-07-12T10:12:02.038536Z"
    },
    "papermill": {
     "duration": 0.043529,
     "end_time": "2022-07-12T10:12:02.038680",
     "exception": false,
     "start_time": "2022-07-12T10:12:01.995151",
     "status": "completed"
    },
    "tags": []
   },
   "outputs": [],
   "source": [
    "nn_learner = Learner(loss, model_nn, opt, config.num_epochs)\n",
    "acc_nn = ClfCallback(nn_learner, config.bs, training_data_x , testing_data_x, training_data_y, testing_data_y)\n",
    "nn_learner.set_callbacks([acc_nn])"
   ]
  },
  {
   "cell_type": "code",
   "execution_count": 21,
   "id": "877b6cc7",
   "metadata": {
    "execution": {
     "iopub.execute_input": "2022-07-12T10:12:02.107246Z",
     "iopub.status.busy": "2022-07-12T10:12:02.106628Z",
     "iopub.status.idle": "2022-07-12T10:12:02.114232Z",
     "shell.execute_reply": "2022-07-12T10:12:02.113748Z"
    },
    "papermill": {
     "duration": 0.047444,
     "end_time": "2022-07-12T10:12:02.114347",
     "exception": false,
     "start_time": "2022-07-12T10:12:02.066903",
     "status": "completed"
    },
    "tags": []
   },
   "outputs": [],
   "source": [
    "lr_learner = Learner(loss, model_lr, opt, config.num_epochs)\n",
    "acc_lr = ClfCallback(lr_learner, config.bs, training_data_x , testing_data_x, training_data_y, testing_data_y)\n",
    "lr_learner.set_callbacks([acc_lr])"
   ]
  },
  {
   "cell_type": "code",
   "execution_count": 22,
   "id": "d9b133c3",
   "metadata": {
    "execution": {
     "iopub.execute_input": "2022-07-12T10:12:02.182867Z",
     "iopub.status.busy": "2022-07-12T10:12:02.176185Z",
     "iopub.status.idle": "2022-07-12T10:13:25.570421Z",
     "shell.execute_reply": "2022-07-12T10:13:25.571285Z"
    },
    "papermill": {
     "duration": 83.429339,
     "end_time": "2022-07-12T10:13:25.571436",
     "exception": false,
     "start_time": "2022-07-12T10:12:02.142097",
     "status": "completed"
    },
    "tags": []
   },
   "outputs": [
    {
     "name": "stdout",
     "output_type": "stream",
     "text": [
      "Epoch 0, Loss 0.2373\n",
      "Training Accuracy: 0.7529, Testing Accuracy: 0.7540\n",
      "\n"
     ]
    },
    {
     "name": "stdout",
     "output_type": "stream",
     "text": [
      "Epoch 10, Loss 0.0821\n",
      "Training Accuracy: 0.9217, Testing Accuracy: 0.9355\n",
      "\n"
     ]
    },
    {
     "name": "stdout",
     "output_type": "stream",
     "text": [
      "Epoch 20, Loss 0.0519\n",
      "Training Accuracy: 0.9446, Testing Accuracy: 0.9536\n",
      "\n"
     ]
    },
    {
     "name": "stdout",
     "output_type": "stream",
     "text": [
      "Epoch 30, Loss 0.0417\n",
      "Training Accuracy: 0.9539, Testing Accuracy: 0.9612\n",
      "\n"
     ]
    },
    {
     "name": "stdout",
     "output_type": "stream",
     "text": [
      "Epoch 40, Loss 0.0366\n",
      "Training Accuracy: 0.9594, Testing Accuracy: 0.9657\n",
      "\n"
     ]
    },
    {
     "name": "stdout",
     "output_type": "stream",
     "text": [
      "Epoch 50, Loss 0.0333\n",
      "Training Accuracy: 0.9626, Testing Accuracy: 0.9677\n",
      "\n"
     ]
    },
    {
     "name": "stdout",
     "output_type": "stream",
     "text": [
      "Epoch 60, Loss 0.031\n",
      "Training Accuracy: 0.9645, Testing Accuracy: 0.9672\n",
      "\n"
     ]
    },
    {
     "name": "stdout",
     "output_type": "stream",
     "text": [
      "Epoch 70, Loss 0.0293\n",
      "Training Accuracy: 0.9667, Testing Accuracy: 0.9662\n",
      "\n"
     ]
    },
    {
     "name": "stdout",
     "output_type": "stream",
     "text": [
      "Epoch 80, Loss 0.0279\n",
      "Training Accuracy: 0.9677, Testing Accuracy: 0.9682\n",
      "\n"
     ]
    },
    {
     "name": "stdout",
     "output_type": "stream",
     "text": [
      "Epoch 90, Loss 0.0267\n",
      "Training Accuracy: 0.9691, Testing Accuracy: 0.9677\n",
      "\n"
     ]
    },
    {
     "name": "stdout",
     "output_type": "stream",
     "text": [
      "Epoch 100, Loss 0.0257\n",
      "Training Accuracy: 0.9700, Testing Accuracy: 0.9693\n",
      "\n"
     ]
    },
    {
     "name": "stdout",
     "output_type": "stream",
     "text": [
      "Epoch 110, Loss 0.0249\n",
      "Training Accuracy: 0.9709, Testing Accuracy: 0.9723\n",
      "\n"
     ]
    },
    {
     "name": "stdout",
     "output_type": "stream",
     "text": [
      "Epoch 120, Loss 0.0241\n",
      "Training Accuracy: 0.9724, Testing Accuracy: 0.9723\n",
      "\n"
     ]
    },
    {
     "name": "stdout",
     "output_type": "stream",
     "text": [
      "Epoch 130, Loss 0.0234\n",
      "Training Accuracy: 0.9735, Testing Accuracy: 0.9728\n",
      "\n"
     ]
    },
    {
     "name": "stdout",
     "output_type": "stream",
     "text": [
      "Epoch 140, Loss 0.0228\n",
      "Training Accuracy: 0.9740, Testing Accuracy: 0.9733\n",
      "\n"
     ]
    },
    {
     "name": "stdout",
     "output_type": "stream",
     "text": [
      "Epoch 150, Loss 0.0222\n",
      "Training Accuracy: 0.9747, Testing Accuracy: 0.9733\n",
      "\n"
     ]
    },
    {
     "name": "stdout",
     "output_type": "stream",
     "text": [
      "Epoch 160, Loss 0.0216\n",
      "Training Accuracy: 0.9750, Testing Accuracy: 0.9743\n",
      "\n"
     ]
    },
    {
     "name": "stdout",
     "output_type": "stream",
     "text": [
      "Epoch 170, Loss 0.0211\n",
      "Training Accuracy: 0.9756, Testing Accuracy: 0.9743\n",
      "\n"
     ]
    },
    {
     "name": "stdout",
     "output_type": "stream",
     "text": [
      "Epoch 180, Loss 0.0206\n",
      "Training Accuracy: 0.9765, Testing Accuracy: 0.9758\n",
      "\n"
     ]
    },
    {
     "name": "stdout",
     "output_type": "stream",
     "text": [
      "Epoch 190, Loss 0.0202\n",
      "Training Accuracy: 0.9770, Testing Accuracy: 0.9758\n",
      "\n"
     ]
    },
    {
     "name": "stdout",
     "output_type": "stream",
     "text": [
      "Epoch 200, Loss 0.0197\n",
      "Training Accuracy: 0.9775, Testing Accuracy: 0.9763\n",
      "\n"
     ]
    },
    {
     "name": "stdout",
     "output_type": "stream",
     "text": [
      "Epoch 210, Loss 0.0193\n",
      "Training Accuracy: 0.9780, Testing Accuracy: 0.9758\n",
      "\n"
     ]
    },
    {
     "name": "stdout",
     "output_type": "stream",
     "text": [
      "Epoch 220, Loss 0.0189\n",
      "Training Accuracy: 0.9783, Testing Accuracy: 0.9763\n",
      "\n"
     ]
    },
    {
     "name": "stdout",
     "output_type": "stream",
     "text": [
      "Epoch 230, Loss 0.0185\n",
      "Training Accuracy: 0.9789, Testing Accuracy: 0.9763\n",
      "\n"
     ]
    },
    {
     "name": "stdout",
     "output_type": "stream",
     "text": [
      "Epoch 240, Loss 0.0182\n",
      "Training Accuracy: 0.9795, Testing Accuracy: 0.9758\n",
      "\n"
     ]
    },
    {
     "data": {
      "text/plain": [
       "0.017696102724332047"
      ]
     },
     "execution_count": 22,
     "metadata": {},
     "output_type": "execute_result"
    }
   ],
   "source": [
    "nn_learner.train_loop(dl)"
   ]
  },
  {
   "cell_type": "code",
   "execution_count": 23,
   "id": "e0163366",
   "metadata": {
    "execution": {
     "iopub.execute_input": "2022-07-12T10:13:25.650470Z",
     "iopub.status.busy": "2022-07-12T10:13:25.649855Z",
     "iopub.status.idle": "2022-07-12T10:13:40.585292Z",
     "shell.execute_reply": "2022-07-12T10:13:40.586147Z"
    },
    "papermill": {
     "duration": 14.979746,
     "end_time": "2022-07-12T10:13:40.586303",
     "exception": false,
     "start_time": "2022-07-12T10:13:25.606557",
     "status": "completed"
    },
    "tags": []
   },
   "outputs": [
    {
     "name": "stdout",
     "output_type": "stream",
     "text": [
      "Epoch 0, Loss 0.2242\n",
      "Training Accuracy: 0.7214, Testing Accuracy: 0.7314\n",
      "\n"
     ]
    },
    {
     "name": "stdout",
     "output_type": "stream",
     "text": [
      "Epoch 10, Loss 0.1017\n",
      "Training Accuracy: 0.9103, Testing Accuracy: 0.9224\n",
      "\n"
     ]
    },
    {
     "name": "stdout",
     "output_type": "stream",
     "text": [
      "Epoch 20, Loss 0.0784\n",
      "Training Accuracy: 0.9289, Testing Accuracy: 0.9415\n",
      "\n"
     ]
    },
    {
     "name": "stdout",
     "output_type": "stream",
     "text": [
      "Epoch 30, Loss 0.0677\n",
      "Training Accuracy: 0.9362, Testing Accuracy: 0.9476\n",
      "\n"
     ]
    },
    {
     "name": "stdout",
     "output_type": "stream",
     "text": [
      "Epoch 40, Loss 0.0612\n",
      "Training Accuracy: 0.9414, Testing Accuracy: 0.9511\n",
      "\n"
     ]
    },
    {
     "name": "stdout",
     "output_type": "stream",
     "text": [
      "Epoch 50, Loss 0.0568\n",
      "Training Accuracy: 0.9447, Testing Accuracy: 0.9526\n",
      "\n"
     ]
    },
    {
     "name": "stdout",
     "output_type": "stream",
     "text": [
      "Epoch 60, Loss 0.0535\n",
      "Training Accuracy: 0.9477, Testing Accuracy: 0.9556\n",
      "\n"
     ]
    },
    {
     "name": "stdout",
     "output_type": "stream",
     "text": [
      "Epoch 70, Loss 0.051\n",
      "Training Accuracy: 0.9499, Testing Accuracy: 0.9582\n",
      "\n"
     ]
    },
    {
     "name": "stdout",
     "output_type": "stream",
     "text": [
      "Epoch 80, Loss 0.049\n",
      "Training Accuracy: 0.9516, Testing Accuracy: 0.9607\n",
      "\n"
     ]
    },
    {
     "name": "stdout",
     "output_type": "stream",
     "text": [
      "Epoch 90, Loss 0.0473\n",
      "Training Accuracy: 0.9531, Testing Accuracy: 0.9617\n",
      "\n"
     ]
    },
    {
     "name": "stdout",
     "output_type": "stream",
     "text": [
      "Epoch 100, Loss 0.0459\n",
      "Training Accuracy: 0.9543, Testing Accuracy: 0.9627\n",
      "\n"
     ]
    },
    {
     "name": "stdout",
     "output_type": "stream",
     "text": [
      "Epoch 110, Loss 0.0447\n",
      "Training Accuracy: 0.9559, Testing Accuracy: 0.9632\n",
      "\n"
     ]
    },
    {
     "name": "stdout",
     "output_type": "stream",
     "text": [
      "Epoch 120, Loss 0.0436\n",
      "Training Accuracy: 0.9571, Testing Accuracy: 0.9632\n",
      "\n"
     ]
    },
    {
     "name": "stdout",
     "output_type": "stream",
     "text": [
      "Epoch 130, Loss 0.0427\n",
      "Training Accuracy: 0.9579, Testing Accuracy: 0.9627\n",
      "\n"
     ]
    },
    {
     "name": "stdout",
     "output_type": "stream",
     "text": [
      "Epoch 140, Loss 0.0419\n",
      "Training Accuracy: 0.9581, Testing Accuracy: 0.9632\n",
      "\n"
     ]
    },
    {
     "name": "stdout",
     "output_type": "stream",
     "text": [
      "Epoch 150, Loss 0.0411\n",
      "Training Accuracy: 0.9589, Testing Accuracy: 0.9642\n",
      "\n"
     ]
    },
    {
     "name": "stdout",
     "output_type": "stream",
     "text": [
      "Epoch 160, Loss 0.0405\n",
      "Training Accuracy: 0.9589, Testing Accuracy: 0.9647\n",
      "\n"
     ]
    },
    {
     "name": "stdout",
     "output_type": "stream",
     "text": [
      "Epoch 170, Loss 0.0398\n",
      "Training Accuracy: 0.9594, Testing Accuracy: 0.9652\n",
      "\n"
     ]
    },
    {
     "name": "stdout",
     "output_type": "stream",
     "text": [
      "Epoch 180, Loss 0.0393\n",
      "Training Accuracy: 0.9595, Testing Accuracy: 0.9647\n",
      "\n"
     ]
    },
    {
     "name": "stdout",
     "output_type": "stream",
     "text": [
      "Epoch 190, Loss 0.0388\n",
      "Training Accuracy: 0.9595, Testing Accuracy: 0.9647\n",
      "\n"
     ]
    },
    {
     "name": "stdout",
     "output_type": "stream",
     "text": [
      "Epoch 200, Loss 0.0383\n",
      "Training Accuracy: 0.9603, Testing Accuracy: 0.9647\n",
      "\n"
     ]
    },
    {
     "name": "stdout",
     "output_type": "stream",
     "text": [
      "Epoch 210, Loss 0.0379\n",
      "Training Accuracy: 0.9604, Testing Accuracy: 0.9652\n",
      "\n"
     ]
    },
    {
     "name": "stdout",
     "output_type": "stream",
     "text": [
      "Epoch 220, Loss 0.0374\n",
      "Training Accuracy: 0.9606, Testing Accuracy: 0.9657\n",
      "\n"
     ]
    },
    {
     "name": "stdout",
     "output_type": "stream",
     "text": [
      "Epoch 230, Loss 0.0371\n",
      "Training Accuracy: 0.9608, Testing Accuracy: 0.9657\n",
      "\n"
     ]
    },
    {
     "name": "stdout",
     "output_type": "stream",
     "text": [
      "Epoch 240, Loss 0.0367\n",
      "Training Accuracy: 0.9610, Testing Accuracy: 0.9667\n",
      "\n"
     ]
    },
    {
     "data": {
      "text/plain": [
       "0.01852106352646863"
      ]
     },
     "execution_count": 23,
     "metadata": {},
     "output_type": "execute_result"
    }
   ],
   "source": [
    "lr_learner.train_loop(dl)"
   ]
  },
  {
   "cell_type": "code",
   "execution_count": 24,
   "id": "ca410940",
   "metadata": {
    "execution": {
     "iopub.execute_input": "2022-07-12T10:13:40.683665Z",
     "iopub.status.busy": "2022-07-12T10:13:40.683012Z",
     "iopub.status.idle": "2022-07-12T10:13:40.898205Z",
     "shell.execute_reply": "2022-07-12T10:13:40.897697Z"
    },
    "papermill": {
     "duration": 0.270556,
     "end_time": "2022-07-12T10:13:40.898330",
     "exception": false,
     "start_time": "2022-07-12T10:13:40.627774",
     "status": "completed"
    },
    "tags": []
   },
   "outputs": [
    {
     "data": {
      "text/plain": [
       "<matplotlib.legend.Legend at 0x7fca99099b00>"
      ]
     },
     "execution_count": 24,
     "metadata": {},
     "output_type": "execute_result"
    },
    {
     "data": {
      "image/png": "[encoded data removed]",
      "text/plain": [
       "<Figure size 1080x720 with 1 Axes>"
      ]
     },
     "metadata": {
      "needs_background": "light"
     },
     "output_type": "display_data"
    }
   ],
   "source": [
    "#comparing the results of NN and LR\n",
    "plt.figure(figsize=(15,10))\n",
    "\n",
    "# Neural Network plots\n",
    "plt.plot(acc_nn.accuracies, 'r-', label = \"Training Accuracies - NN\")\n",
    "plt.plot(acc_nn.test_accuracies, 'g-', label = \"Testing Accuracies - NN\")\n",
    "\n",
    "# Logistic Regression plots\n",
    "plt.plot(acc_lr.accuracies, 'k-', label = \"Training Accuracies - LR\")\n",
    "plt.plot(acc_lr.test_accuracies, 'b-', label = \"Testing Accuracies - LR\")\n",
    "plt.legend()"
   ]
  },
  {
   "cell_type": "markdown",
   "id": "80dfb35c",
   "metadata": {
    "papermill": {
     "duration": 0.041971,
     "end_time": "2022-07-12T10:13:40.982757",
     "exception": false,
     "start_time": "2022-07-12T10:13:40.940786",
     "status": "completed"
    },
    "tags": []
   },
   "source": [
    "#### Plotting the outputs of this layer of the NN.\n"
   ]
  },
  {
   "cell_type": "code",
   "execution_count": 25,
   "id": "45eb2ff5",
   "metadata": {
    "execution": {
     "iopub.execute_input": "2022-07-12T10:13:41.072434Z",
     "iopub.status.busy": "2022-07-12T10:13:41.071783Z",
     "iopub.status.idle": "2022-07-12T10:13:41.097441Z",
     "shell.execute_reply": "2022-07-12T10:13:41.096925Z"
    },
    "papermill": {
     "duration": 0.072798,
     "end_time": "2022-07-12T10:13:41.097563",
     "exception": false,
     "start_time": "2022-07-12T10:13:41.024765",
     "status": "completed"
    },
    "tags": []
   },
   "outputs": [],
   "source": [
    "new_model = Model(layers[:-2])\n",
    "testing_plot = new_model(testing_data_x)"
   ]
  },
  {
   "cell_type": "code",
   "execution_count": 26,
   "id": "4c0a5485",
   "metadata": {
    "execution": {
     "iopub.execute_input": "2022-07-12T10:13:41.192586Z",
     "iopub.status.busy": "2022-07-12T10:13:41.190767Z",
     "iopub.status.idle": "2022-07-12T10:13:41.375952Z",
     "shell.execute_reply": "2022-07-12T10:13:41.375273Z"
    },
    "papermill": {
     "duration": 0.235819,
     "end_time": "2022-07-12T10:13:41.376141",
     "exception": false,
     "start_time": "2022-07-12T10:13:41.140322",
     "status": "completed"
    },
    "tags": []
   },
   "outputs": [
    {
     "data": {
      "text/plain": [
       "Text(0.5, 1.0, 'Outputs')"
      ]
     },
     "execution_count": 26,
     "metadata": {},
     "output_type": "execute_result"
    },
    {
     "data": {
      "image/png": "[encoded data removed]",
      "text/plain": [
       "<Figure size 576x504 with 1 Axes>"
      ]
     },
     "metadata": {
      "needs_background": "light"
     },
     "output_type": "display_data"
    }
   ],
   "source": [
    "# Plotting the scatter plot of points and color coding by class\n",
    "plt.figure(figsize=(8,7))\n",
    "plt.scatter(testing_plot[:,0], testing_plot[:,1], alpha = 0.1, c = y_test.ravel());\n",
    "plt.title('Outputs')"
   ]
  },
  {
   "cell_type": "markdown",
   "id": "a74fcf8f",
   "metadata": {
    "papermill": {
     "duration": 0.043982,
     "end_time": "2022-07-12T10:13:41.464592",
     "exception": false,
     "start_time": "2022-07-12T10:13:41.420610",
     "status": "completed"
    },
    "tags": []
   },
   "source": [
    "Probability contours"
   ]
  },
  {
   "cell_type": "code",
   "execution_count": 27,
   "id": "d0afc8e3",
   "metadata": {
    "execution": {
     "iopub.execute_input": "2022-07-12T10:13:41.591625Z",
     "iopub.status.busy": "2022-07-12T10:13:41.588823Z",
     "iopub.status.idle": "2022-07-12T10:13:41.603540Z",
     "shell.execute_reply": "2022-07-12T10:13:41.603073Z"
    },
    "papermill": {
     "duration": 0.062554,
     "end_time": "2022-07-12T10:13:41.603662",
     "exception": false,
     "start_time": "2022-07-12T10:13:41.541108",
     "status": "completed"
    },
    "tags": []
   },
   "outputs": [],
   "source": [
    "model_prob = Model(layers[-2:]) "
   ]
  },
  {
   "cell_type": "code",
   "execution_count": 28,
   "id": "9b96e238",
   "metadata": {
    "execution": {
     "iopub.execute_input": "2022-07-12T10:13:41.698811Z",
     "iopub.status.busy": "2022-07-12T10:13:41.698157Z",
     "iopub.status.idle": "2022-07-12T10:13:41.713484Z",
     "shell.execute_reply": "2022-07-12T10:13:41.713004Z"
    },
    "papermill": {
     "duration": 0.065437,
     "end_time": "2022-07-12T10:13:41.713608",
     "exception": false,
     "start_time": "2022-07-12T10:13:41.648171",
     "status": "completed"
    },
    "tags": []
   },
   "outputs": [],
   "source": [
    "#creating the x and y ranges according to the above generated plot.\n",
    "x_range = np.linspace(-4, 1, 100) \n",
    "y_range = np.linspace(-6, 6, 100) \n",
    "x_grid, y_grid = np.meshgrid(x_range, y_range) # x_grid and y_grig are of size 100 X 100\n",
    "\n",
    "# converting x_grid and y_grid to continuous arrays\n",
    "x_gridflat = np.ravel(x_grid)\n",
    "y_gridflat = np.ravel(y_grid)\n",
    "\n",
    "# The last layer of the current model takes two columns as input. Hence transpose of np.vstack() is required.\n",
    "X = np.vstack((x_gridflat, y_gridflat)).T\n",
    "\n",
    "prob_contour = model_prob(X).reshape(100,100) "
   ]
  },
  {
   "cell_type": "code",
   "execution_count": 29,
   "id": "da72499a",
   "metadata": {
    "execution": {
     "iopub.execute_input": "2022-07-12T10:13:41.807914Z",
     "iopub.status.busy": "2022-07-12T10:13:41.807320Z",
     "iopub.status.idle": "2022-07-12T10:13:42.047180Z",
     "shell.execute_reply": "2022-07-12T10:13:42.047641Z"
    },
    "papermill": {
     "duration": 0.288741,
     "end_time": "2022-07-12T10:13:42.047784",
     "exception": false,
     "start_time": "2022-07-12T10:13:41.759043",
     "status": "completed"
    },
    "tags": []
   },
   "outputs": [
    {
     "data": {
      "image/png": "[encoded data removed]",
      "text/plain": [
       "<Figure size 720x648 with 1 Axes>"
      ]
     },
     "metadata": {
      "needs_background": "light"
     },
     "output_type": "display_data"
    }
   ],
   "source": [
    "plt.figure(figsize=(10,9))\n",
    "plt.scatter(testing_plot[:,0], testing_plot[:,1], alpha = 0.1, c = y_test.ravel())\n",
    "contours = plt.contour(x_grid,y_grid,prob_contour)\n",
    "plt.title('Probability Contours')\n",
    "plt.clabel(contours, inline = True );"
   ]
  },
  {
   "cell_type": "code",
   "execution_count": null,
   "id": "e81b4ac7",
   "metadata": {
    "papermill": {
     "duration": 0.057626,
     "end_time": "2022-07-12T10:13:42.153584",
     "exception": false,
     "start_time": "2022-07-12T10:13:42.095958",
     "status": "completed"
    },
    "tags": []
   },
   "outputs": [],
   "source": []
  }
 ],
 "metadata": {
  "kernelspec": {
   "display_name": "Python 3",
   "language": "python",
   "name": "python3"
  },
  "language_info": {
   "codemirror_mode": {
    "name": "ipython",
    "version": 3
   },
   "file_extension": ".py",
   "mimetype": "text/x-python",
   "name": "python",
   "nbconvert_exporter": "python",
   "pygments_lexer": "ipython3",
   "version": "3.6.15"
  },
  "papermill": {
   "default_parameters": {},
   "duration": 108.849364,
   "end_time": "2022-07-12T10:13:42.620619",
   "environment_variables": {},
   "exception": null,
   "input_path": "2020-08-11-part2.ipynb",
   "output_path": "2020-08-11-part2.ipynb",
   "parameters": {},
   "start_time": "2022-07-12T10:11:53.771255",
   "version": "2.3.3"
  }
 },
 "nbformat": 4,
 "nbformat_minor": 5
}