{
 "cells": [
  {
   "cell_type": "markdown",
   "id": "98380cd3",
   "metadata": {
    "papermill": {
     "duration": 0.028953,
     "end_time": "2022-10-23T00:55:07.136137",
     "exception": false,
     "start_time": "2022-10-23T00:55:07.107184",
     "status": "completed"
    },
    "tags": []
   },
   "source": [
    "# Distinguish Your Own Digits (DYOD)"
   ]
  },
  {
   "cell_type": "markdown",
   "id": "ef31240d",
   "metadata": {
    "papermill": {
     "duration": 0.025198,
     "end_time": "2022-10-23T00:55:07.186191",
     "exception": false,
     "start_time": "2022-10-23T00:55:07.160993",
     "status": "completed"
    },
    "tags": []
   },
   "source": [
    "You are going to write a classifier that distinguishes between the number 3 and number 8."
   ]
  },
  {
   "cell_type": "code",
   "execution_count": 1,
   "id": "b15c8646",
   "metadata": {
    "execution": {
     "iopub.execute_input": "2022-10-23T00:55:07.244303Z",
     "iopub.status.busy": "2022-10-23T00:55:07.243744Z",
     "iopub.status.idle": "2022-10-23T00:55:07.253562Z",
     "shell.execute_reply": "2022-10-23T00:55:07.254090Z"
    },
    "papermill": {
     "duration": 0.043996,
     "end_time": "2022-10-23T00:55:07.254214",
     "exception": false,
     "start_time": "2022-10-23T00:55:07.210218",
     "status": "completed"
    },
    "tags": []
   },
   "outputs": [],
   "source": [
    "%load_ext autoreload\n",
    "%autoreload 2"
   ]
  },
  {
   "cell_type": "code",
   "execution_count": 2,
   "id": "22ef38dc",
   "metadata": {
    "execution": {
     "iopub.execute_input": "2022-10-23T00:55:07.305779Z",
     "iopub.status.busy": "2022-10-23T00:55:07.305198Z",
     "iopub.status.idle": "2022-10-23T00:55:07.806834Z",
     "shell.execute_reply": "2022-10-23T00:55:07.805774Z"
    },
    "papermill": {
     "duration": 0.528642,
     "end_time": "2022-10-23T00:55:07.806953",
     "exception": false,
     "start_time": "2022-10-23T00:55:07.278311",
     "status": "completed"
    },
    "tags": []
   },
   "outputs": [],
   "source": [
    "%matplotlib inline\n",
    "import numpy as np\n",
    "import matplotlib.pyplot as plt\n",
    "import pandas as pd"
   ]
  },
  {
   "cell_type": "markdown",
   "id": "ba036198",
   "metadata": {
    "papermill": {
     "duration": 0.024036,
     "end_time": "2022-10-23T00:55:07.855191",
     "exception": false,
     "start_time": "2022-10-23T00:55:07.831155",
     "status": "completed"
    },
    "tags": []
   },
   "source": [
    "From the command line run `pip install mnist`. This is a library that will help you bring down the mnist dataset. If you run this from a notebook, you need to put  `!pip install mnist` in a cell by itself."
   ]
  },
  {
   "cell_type": "code",
   "execution_count": 3,
   "id": "bb6ad8a1",
   "metadata": {
    "execution": {
     "iopub.execute_input": "2022-10-23T00:55:07.907572Z",
     "iopub.status.busy": "2022-10-23T00:55:07.906484Z",
     "iopub.status.idle": "2022-10-23T00:55:09.435878Z",
     "shell.execute_reply": "2022-10-23T00:55:09.435385Z"
    },
    "papermill": {
     "duration": 1.556587,
     "end_time": "2022-10-23T00:55:09.435985",
     "exception": false,
     "start_time": "2022-10-23T00:55:07.879398",
     "status": "completed"
    },
    "tags": []
   },
   "outputs": [
    {
     "name": "stdout",
     "output_type": "stream",
     "text": [
      "Collecting mnist\r\n"
     ]
    },
    {
     "name": "stdout",
     "output_type": "stream",
     "text": [
      "  Downloading mnist-0.2.2-py2.py3-none-any.whl (3.5 kB)\r\n",
      "Requirement already satisfied: numpy in /opt/hostedtoolcache/Python/3.6.15/x64/lib/python3.6/site-packages (from mnist) (1.19.5)\r\n"
     ]
    },
    {
     "name": "stdout",
     "output_type": "stream",
     "text": [
      "Installing collected packages: mnist\r\n",
      "Successfully installed mnist-0.2.2\r\n"
     ]
    }
   ],
   "source": [
    "!pip install mnist"
   ]
  },
  {
   "cell_type": "markdown",
   "id": "69df9c9a",
   "metadata": {
    "papermill": {
     "duration": 0.0254,
     "end_time": "2022-10-23T00:55:09.486537",
     "exception": false,
     "start_time": "2022-10-23T00:55:09.461137",
     "status": "completed"
    },
    "tags": []
   },
   "source": [
    "## Preparing the Data"
   ]
  },
  {
   "cell_type": "code",
   "execution_count": 4,
   "id": "7f69d806",
   "metadata": {
    "execution": {
     "iopub.execute_input": "2022-10-23T00:55:09.539847Z",
     "iopub.status.busy": "2022-10-23T00:55:09.539291Z",
     "iopub.status.idle": "2022-10-23T00:55:09.553047Z",
     "shell.execute_reply": "2022-10-23T00:55:09.552513Z"
    },
    "papermill": {
     "duration": 0.041856,
     "end_time": "2022-10-23T00:55:09.553144",
     "exception": false,
     "start_time": "2022-10-23T00:55:09.511288",
     "status": "completed"
    },
    "tags": []
   },
   "outputs": [],
   "source": [
    "import mnist"
   ]
  },
  {
   "cell_type": "code",
   "execution_count": 5,
   "id": "a411e44f",
   "metadata": {
    "execution": {
     "iopub.execute_input": "2022-10-23T00:55:09.606231Z",
     "iopub.status.busy": "2022-10-23T00:55:09.605678Z",
     "iopub.status.idle": "2022-10-23T00:55:10.174267Z",
     "shell.execute_reply": "2022-10-23T00:55:10.173745Z"
    },
    "papermill": {
     "duration": 0.596303,
     "end_time": "2022-10-23T00:55:10.174377",
     "exception": false,
     "start_time": "2022-10-23T00:55:09.578074",
     "status": "completed"
    },
    "tags": []
   },
   "outputs": [],
   "source": [
    "train_images = mnist.train_images()\n",
    "train_labels = mnist.train_labels()"
   ]
  },
  {
   "cell_type": "code",
   "execution_count": 6,
   "id": "dceab3a5",
   "metadata": {
    "execution": {
     "iopub.execute_input": "2022-10-23T00:55:10.228233Z",
     "iopub.status.busy": "2022-10-23T00:55:10.227679Z",
     "iopub.status.idle": "2022-10-23T00:55:10.241100Z",
     "shell.execute_reply": "2022-10-23T00:55:10.241498Z"
    },
    "papermill": {
     "duration": 0.042,
     "end_time": "2022-10-23T00:55:10.241608",
     "exception": false,
     "start_time": "2022-10-23T00:55:10.199608",
     "status": "completed"
    },
    "tags": []
   },
   "outputs": [
    {
     "data": {
      "text/plain": [
       "((60000, 28, 28), (60000,))"
      ]
     },
     "execution_count": 6,
     "metadata": {},
     "output_type": "execute_result"
    }
   ],
   "source": [
    "train_images.shape, train_labels.shape"
   ]
  },
  {
   "cell_type": "code",
   "execution_count": 7,
   "id": "f50dc2bb",
   "metadata": {
    "execution": {
     "iopub.execute_input": "2022-10-23T00:55:10.295125Z",
     "iopub.status.busy": "2022-10-23T00:55:10.294582Z",
     "iopub.status.idle": "2022-10-23T00:55:10.452981Z",
     "shell.execute_reply": "2022-10-23T00:55:10.452493Z"
    },
    "papermill": {
     "duration": 0.18635,
     "end_time": "2022-10-23T00:55:10.453094",
     "exception": false,
     "start_time": "2022-10-23T00:55:10.266744",
     "status": "completed"
    },
    "tags": []
   },
   "outputs": [],
   "source": [
    "test_images = mnist.test_images()\n",
    "test_labels = mnist.test_labels()"
   ]
  },
  {
   "cell_type": "code",
   "execution_count": 8,
   "id": "fc38cf1b",
   "metadata": {
    "execution": {
     "iopub.execute_input": "2022-10-23T00:55:10.508032Z",
     "iopub.status.busy": "2022-10-23T00:55:10.507485Z",
     "iopub.status.idle": "2022-10-23T00:55:10.519790Z",
     "shell.execute_reply": "2022-10-23T00:55:10.520227Z"
    },
    "papermill": {
     "duration": 0.041241,
     "end_time": "2022-10-23T00:55:10.520338",
     "exception": false,
     "start_time": "2022-10-23T00:55:10.479097",
     "status": "completed"
    },
    "tags": []
   },
   "outputs": [
    {
     "data": {
      "text/plain": [
       "((10000, 28, 28), (10000,))"
      ]
     },
     "execution_count": 8,
     "metadata": {},
     "output_type": "execute_result"
    }
   ],
   "source": [
    "test_images.shape, test_labels.shape"
   ]
  },
  {
   "cell_type": "code",
   "execution_count": 9,
   "id": "f9ed8fe0",
   "metadata": {
    "execution": {
     "iopub.execute_input": "2022-10-23T00:55:10.574057Z",
     "iopub.status.busy": "2022-10-23T00:55:10.573482Z",
     "iopub.status.idle": "2022-10-23T00:55:10.706155Z",
     "shell.execute_reply": "2022-10-23T00:55:10.705676Z"
    },
    "papermill": {
     "duration": 0.160583,
     "end_time": "2022-10-23T00:55:10.706262",
     "exception": false,
     "start_time": "2022-10-23T00:55:10.545679",
     "status": "completed"
    },
    "tags": []
   },
   "outputs": [
    {
     "name": "stdout",
     "output_type": "stream",
     "text": [
      "2\n"
     ]
    },
    {
     "data": {
      "text/plain": [
       "<matplotlib.image.AxesImage at 0x7fc90a41ccf8>"
      ]
     },
     "execution_count": 9,
     "metadata": {},
     "output_type": "execute_result"
    },
    {
     "data": {
      "image/png": "[encoded data removed]",
      "text/plain": [
       "<Figure size 432x288 with 1 Axes>"
      ]
     },
     "metadata": {
      "needs_background": "light"
     },
     "output_type": "display_data"
    }
   ],
   "source": [
    "image_index = 7776 # You may select anything up to 60,000\n",
    "print(train_labels[image_index]) \n",
    "plt.imshow(train_images[image_index], cmap='Greys')"
   ]
  },
  {
   "cell_type": "markdown",
   "id": "a8d2388d",
   "metadata": {
    "papermill": {
     "duration": 0.026553,
     "end_time": "2022-10-23T00:55:10.759595",
     "exception": false,
     "start_time": "2022-10-23T00:55:10.733042",
     "status": "completed"
    },
    "tags": []
   },
   "source": [
    "## Filter data to get 3 and 8 out"
   ]
  },
  {
   "cell_type": "code",
   "execution_count": 10,
   "id": "776f7fc7",
   "metadata": {
    "execution": {
     "iopub.execute_input": "2022-10-23T00:55:10.816543Z",
     "iopub.status.busy": "2022-10-23T00:55:10.815973Z",
     "iopub.status.idle": "2022-10-23T00:55:10.832443Z",
     "shell.execute_reply": "2022-10-23T00:55:10.831996Z"
    },
    "papermill": {
     "duration": 0.046417,
     "end_time": "2022-10-23T00:55:10.832540",
     "exception": false,
     "start_time": "2022-10-23T00:55:10.786123",
     "status": "completed"
    },
    "tags": []
   },
   "outputs": [],
   "source": [
    "train_filter = np.where((train_labels == 3 ) | (train_labels == 8))\n",
    "test_filter = np.where((test_labels == 3) | (test_labels == 8))\n",
    "X_train, y_train = train_images[train_filter], train_labels[train_filter]\n",
    "X_test, y_test = test_images[test_filter], test_labels[test_filter]"
   ]
  },
  {
   "cell_type": "markdown",
   "id": "948f0b7e",
   "metadata": {
    "papermill": {
     "duration": 0.026562,
     "end_time": "2022-10-23T00:55:10.885863",
     "exception": false,
     "start_time": "2022-10-23T00:55:10.859301",
     "status": "completed"
    },
    "tags": []
   },
   "source": [
    "We normalize the pizel values in the 0 to 1 range"
   ]
  },
  {
   "cell_type": "code",
   "execution_count": 11,
   "id": "ee4c2166",
   "metadata": {
    "execution": {
     "iopub.execute_input": "2022-10-23T00:55:10.941929Z",
     "iopub.status.busy": "2022-10-23T00:55:10.941362Z",
     "iopub.status.idle": "2022-10-23T00:55:10.981501Z",
     "shell.execute_reply": "2022-10-23T00:55:10.981046Z"
    },
    "papermill": {
     "duration": 0.069214,
     "end_time": "2022-10-23T00:55:10.981605",
     "exception": false,
     "start_time": "2022-10-23T00:55:10.912391",
     "status": "completed"
    },
    "tags": []
   },
   "outputs": [],
   "source": [
    "X_train = X_train/255.\n",
    "X_test = X_test/255."
   ]
  },
  {
   "cell_type": "markdown",
   "id": "ddcf4fab",
   "metadata": {
    "papermill": {
     "duration": 0.026461,
     "end_time": "2022-10-23T00:55:11.034871",
     "exception": false,
     "start_time": "2022-10-23T00:55:11.008410",
     "status": "completed"
    },
    "tags": []
   },
   "source": [
    "And setup the labels as 1 (when the digit is 3) and 0 (when the digit is 8)"
   ]
  },
  {
   "cell_type": "code",
   "execution_count": 12,
   "id": "7dc908f2",
   "metadata": {
    "execution": {
     "iopub.execute_input": "2022-10-23T00:55:11.091655Z",
     "iopub.status.busy": "2022-10-23T00:55:11.091108Z",
     "iopub.status.idle": "2022-10-23T00:55:11.102030Z",
     "shell.execute_reply": "2022-10-23T00:55:11.102439Z"
    },
    "papermill": {
     "duration": 0.041195,
     "end_time": "2022-10-23T00:55:11.102553",
     "exception": false,
     "start_time": "2022-10-23T00:55:11.061358",
     "status": "completed"
    },
    "tags": []
   },
   "outputs": [],
   "source": [
    "y_train = 1*(y_train==3)\n",
    "y_test = 1*(y_test==3)"
   ]
  },
  {
   "cell_type": "code",
   "execution_count": 13,
   "id": "01e4e969",
   "metadata": {
    "execution": {
     "iopub.execute_input": "2022-10-23T00:55:11.158952Z",
     "iopub.status.busy": "2022-10-23T00:55:11.158396Z",
     "iopub.status.idle": "2022-10-23T00:55:11.171304Z",
     "shell.execute_reply": "2022-10-23T00:55:11.170784Z"
    },
    "papermill": {
     "duration": 0.042104,
     "end_time": "2022-10-23T00:55:11.171401",
     "exception": false,
     "start_time": "2022-10-23T00:55:11.129297",
     "status": "completed"
    },
    "tags": []
   },
   "outputs": [
    {
     "data": {
      "text/plain": [
       "((11982, 28, 28), (1984, 28, 28))"
      ]
     },
     "execution_count": 13,
     "metadata": {},
     "output_type": "execute_result"
    }
   ],
   "source": [
    "X_train.shape, X_test.shape"
   ]
  },
  {
   "cell_type": "markdown",
   "id": "5ccf3f85",
   "metadata": {
    "papermill": {
     "duration": 0.026837,
     "end_time": "2022-10-23T00:55:11.225156",
     "exception": false,
     "start_time": "2022-10-23T00:55:11.198319",
     "status": "completed"
    },
    "tags": []
   },
   "source": [
    "We reshape the data to flatten the image pixels into a set of features or co-variates:"
   ]
  },
  {
   "cell_type": "code",
   "execution_count": 14,
   "id": "5286a4a3",
   "metadata": {
    "execution": {
     "iopub.execute_input": "2022-10-23T00:55:11.282444Z",
     "iopub.status.busy": "2022-10-23T00:55:11.281884Z",
     "iopub.status.idle": "2022-10-23T00:55:11.294702Z",
     "shell.execute_reply": "2022-10-23T00:55:11.295122Z"
    },
    "papermill": {
     "duration": 0.043171,
     "end_time": "2022-10-23T00:55:11.295232",
     "exception": false,
     "start_time": "2022-10-23T00:55:11.252061",
     "status": "completed"
    },
    "tags": []
   },
   "outputs": [
    {
     "data": {
      "text/plain": [
       "((11982, 784), (1984, 784))"
      ]
     },
     "execution_count": 14,
     "metadata": {},
     "output_type": "execute_result"
    }
   ],
   "source": [
    "X_train = X_train.reshape(X_train.shape[0], -1)\n",
    "X_test = X_test.reshape(X_test.shape[0], -1)\n",
    "X_train.shape, X_test.shape"
   ]
  },
  {
   "cell_type": "code",
   "execution_count": 15,
   "id": "73c5f88a",
   "metadata": {
    "execution": {
     "iopub.execute_input": "2022-10-23T00:55:11.353192Z",
     "iopub.status.busy": "2022-10-23T00:55:11.352648Z",
     "iopub.status.idle": "2022-10-23T00:55:11.370378Z",
     "shell.execute_reply": "2022-10-23T00:55:11.370829Z"
    },
    "papermill": {
     "duration": 0.04871,
     "end_time": "2022-10-23T00:55:11.370939",
     "exception": false,
     "start_time": "2022-10-23T00:55:11.322229",
     "status": "completed"
    },
    "tags": []
   },
   "outputs": [],
   "source": [
    "#Impoting functions from 'Kudzu'\n",
    "from kudzu.model import Model\n",
    "from kudzu.train import Learner\n",
    "from kudzu.optim import GD\n",
    "from kudzu.data import Data, Sampler,Dataloader\n",
    "\n",
    "from kudzu.callbacks import AccCallback\n",
    "from kudzu.callbacks import ClfCallback\n",
    "\n",
    "from kudzu.loss import MSE\n",
    "\n",
    "from kudzu.layer import Sigmoid,Relu\n",
    "from kudzu.layer import Affine"
   ]
  },
  {
   "cell_type": "markdown",
   "id": "bc01172a",
   "metadata": {
    "papermill": {
     "duration": 0.026994,
     "end_time": "2022-10-23T00:55:11.425012",
     "exception": false,
     "start_time": "2022-10-23T00:55:11.398018",
     "status": "completed"
    },
    "tags": []
   },
   "source": [
    "### Let us create a `Config` class, to store important parameters. \n",
    "This class essentially plays the role of a dictionary."
   ]
  },
  {
   "cell_type": "code",
   "execution_count": 16,
   "id": "978281aa",
   "metadata": {
    "execution": {
     "iopub.execute_input": "2022-10-23T00:55:11.482555Z",
     "iopub.status.busy": "2022-10-23T00:55:11.481991Z",
     "iopub.status.idle": "2022-10-23T00:55:11.493497Z",
     "shell.execute_reply": "2022-10-23T00:55:11.493052Z"
    },
    "papermill": {
     "duration": 0.04153,
     "end_time": "2022-10-23T00:55:11.493590",
     "exception": false,
     "start_time": "2022-10-23T00:55:11.452060",
     "status": "completed"
    },
    "tags": []
   },
   "outputs": [],
   "source": [
    "class Config:\n",
    "    pass\n",
    "config = Config()\n",
    "config.lr = 0.001\n",
    "config.num_epochs = 250\n",
    "config.bs = 50"
   ]
  },
  {
   "cell_type": "markdown",
   "id": "1385fa59",
   "metadata": {
    "papermill": {
     "duration": 0.027205,
     "end_time": "2022-10-23T00:55:11.547950",
     "exception": false,
     "start_time": "2022-10-23T00:55:11.520745",
     "status": "completed"
    },
    "tags": []
   },
   "source": [
    "### Running Models with the Training data\n",
    "Details about the network layers:\n",
    "- A first affine layer has 784 inputs and does 100 affine transforms. These are followed by a Relu\n",
    "- A second affine layer has 100 inputs from the 100 activations of the past layer, and does 100 affine transforms. These are followed by a Relu\n",
    "- A third affine layer has 100 activations and does 2 affine transformations to create an embedding for visualization. There is no non-linearity here.\n",
    "- A final \"logistic regression\" which has an affine transform from 2 inputs to 1 output, which is squeezed through a sigmoid.\n"
   ]
  },
  {
   "cell_type": "code",
   "execution_count": 17,
   "id": "2b9c66db",
   "metadata": {
    "execution": {
     "iopub.execute_input": "2022-10-23T00:55:11.605437Z",
     "iopub.status.busy": "2022-10-23T00:55:11.604895Z",
     "iopub.status.idle": "2022-10-23T00:55:11.616408Z",
     "shell.execute_reply": "2022-10-23T00:55:11.616860Z"
    },
    "papermill": {
     "duration": 0.041984,
     "end_time": "2022-10-23T00:55:11.616967",
     "exception": false,
     "start_time": "2022-10-23T00:55:11.574983",
     "status": "completed"
    },
    "tags": []
   },
   "outputs": [],
   "source": [
    "data = Data(X_train, y_train.reshape(-1,1))\n",
    "sampler = Sampler(data, config.bs, shuffle=True)\n",
    "\n",
    "dl = Dataloader(data, sampler)\n",
    "\n",
    "opt = GD(config.lr)\n",
    "loss = MSE()"
   ]
  },
  {
   "cell_type": "code",
   "execution_count": 18,
   "id": "b275e4c2",
   "metadata": {
    "execution": {
     "iopub.execute_input": "2022-10-23T00:55:11.674689Z",
     "iopub.status.busy": "2022-10-23T00:55:11.674139Z",
     "iopub.status.idle": "2022-10-23T00:55:11.685425Z",
     "shell.execute_reply": "2022-10-23T00:55:11.684988Z"
    },
    "papermill": {
     "duration": 0.04148,
     "end_time": "2022-10-23T00:55:11.685519",
     "exception": false,
     "start_time": "2022-10-23T00:55:11.644039",
     "status": "completed"
    },
    "tags": []
   },
   "outputs": [],
   "source": [
    "training_data_x = X_train\n",
    "testing_data_x = X_test\n",
    "training_data_y = y_train.reshape(-1,1)\n",
    "testing_data_y = y_test.reshape(-1,1)"
   ]
  },
  {
   "cell_type": "code",
   "execution_count": 19,
   "id": "76951160",
   "metadata": {
    "execution": {
     "iopub.execute_input": "2022-10-23T00:55:11.743612Z",
     "iopub.status.busy": "2022-10-23T00:55:11.743056Z",
     "iopub.status.idle": "2022-10-23T00:55:11.759256Z",
     "shell.execute_reply": "2022-10-23T00:55:11.758722Z"
    },
    "papermill": {
     "duration": 0.046792,
     "end_time": "2022-10-23T00:55:11.759353",
     "exception": false,
     "start_time": "2022-10-23T00:55:11.712561",
     "status": "completed"
    },
    "tags": []
   },
   "outputs": [
    {
     "name": "stdout",
     "output_type": "stream",
     "text": [
      "xavier\n",
      "xavier\n",
      "xavier\n",
      "xavier\n",
      "xavier\n"
     ]
    }
   ],
   "source": [
    "layers = [Affine(\"first\", 784, 100), Relu(\"first\"), Affine(\"second\", 100, 100), Relu(\"second\"), Affine(\"third\", 100, 2), Affine(\"last\", 2, 1), Sigmoid(\"last\")]\n",
    "model_nn = Model(layers)\n",
    "model_lr = Model([Affine(\"logits\", 784, 1), Sigmoid(\"sigmoid\")])"
   ]
  },
  {
   "cell_type": "code",
   "execution_count": 20,
   "id": "6eede77a",
   "metadata": {
    "execution": {
     "iopub.execute_input": "2022-10-23T00:55:11.818111Z",
     "iopub.status.busy": "2022-10-23T00:55:11.817519Z",
     "iopub.status.idle": "2022-10-23T00:55:11.829080Z",
     "shell.execute_reply": "2022-10-23T00:55:11.829575Z"
    },
    "papermill": {
     "duration": 0.042741,
     "end_time": "2022-10-23T00:55:11.829701",
     "exception": false,
     "start_time": "2022-10-23T00:55:11.786960",
     "status": "completed"
    },
    "tags": []
   },
   "outputs": [],
   "source": [
    "nn_learner = Learner(loss, model_nn, opt, config.num_epochs)\n",
    "acc_nn = ClfCallback(nn_learner, config.bs, training_data_x , testing_data_x, training_data_y, testing_data_y)\n",
    "nn_learner.set_callbacks([acc_nn])"
   ]
  },
  {
   "cell_type": "code",
   "execution_count": 21,
   "id": "877b6cc7",
   "metadata": {
    "execution": {
     "iopub.execute_input": "2022-10-23T00:55:11.887894Z",
     "iopub.status.busy": "2022-10-23T00:55:11.887350Z",
     "iopub.status.idle": "2022-10-23T00:55:11.898251Z",
     "shell.execute_reply": "2022-10-23T00:55:11.898691Z"
    },
    "papermill": {
     "duration": 0.041697,
     "end_time": "2022-10-23T00:55:11.898796",
     "exception": false,
     "start_time": "2022-10-23T00:55:11.857099",
     "status": "completed"
    },
    "tags": []
   },
   "outputs": [],
   "source": [
    "lr_learner = Learner(loss, model_lr, opt, config.num_epochs)\n",
    "acc_lr = ClfCallback(lr_learner, config.bs, training_data_x , testing_data_x, training_data_y, testing_data_y)\n",
    "lr_learner.set_callbacks([acc_lr])"
   ]
  },
  {
   "cell_type": "code",
   "execution_count": 22,
   "id": "d9b133c3",
   "metadata": {
    "execution": {
     "iopub.execute_input": "2022-10-23T00:55:11.960717Z",
     "iopub.status.busy": "2022-10-23T00:55:11.957413Z",
     "iopub.status.idle": "2022-10-23T00:58:05.666239Z",
     "shell.execute_reply": "2022-10-23T00:58:05.666684Z"
    },
    "papermill": {
     "duration": 173.740608,
     "end_time": "2022-10-23T00:58:05.666808",
     "exception": false,
     "start_time": "2022-10-23T00:55:11.926200",
     "status": "completed"
    },
    "tags": []
   },
   "outputs": [
    {
     "name": "stdout",
     "output_type": "stream",
     "text": [
      "Epoch 0, Loss 0.249\n",
      "Training Accuracy: 0.6163, Testing Accuracy: 0.6144\n",
      "\n"
     ]
    },
    {
     "name": "stdout",
     "output_type": "stream",
     "text": [
      "Epoch 10, Loss 0.0881\n",
      "Training Accuracy: 0.9203, Testing Accuracy: 0.9239\n",
      "\n"
     ]
    },
    {
     "name": "stdout",
     "output_type": "stream",
     "text": [
      "Epoch 20, Loss 0.0557\n",
      "Training Accuracy: 0.9411, Testing Accuracy: 0.9476\n",
      "\n"
     ]
    },
    {
     "name": "stdout",
     "output_type": "stream",
     "text": [
      "Epoch 30, Loss 0.0444\n",
      "Training Accuracy: 0.9486, Testing Accuracy: 0.9572\n",
      "\n"
     ]
    },
    {
     "name": "stdout",
     "output_type": "stream",
     "text": [
      "Epoch 40, Loss 0.0387\n",
      "Training Accuracy: 0.9553, Testing Accuracy: 0.9627\n",
      "\n"
     ]
    },
    {
     "name": "stdout",
     "output_type": "stream",
     "text": [
      "Epoch 50, Loss 0.0352\n",
      "Training Accuracy: 0.9594, Testing Accuracy: 0.9657\n",
      "\n"
     ]
    },
    {
     "name": "stdout",
     "output_type": "stream",
     "text": [
      "Epoch 60, Loss 0.0327\n",
      "Training Accuracy: 0.9626, Testing Accuracy: 0.9703\n",
      "\n"
     ]
    },
    {
     "name": "stdout",
     "output_type": "stream",
     "text": [
      "Epoch 70, Loss 0.0309\n",
      "Training Accuracy: 0.9639, Testing Accuracy: 0.9703\n",
      "\n"
     ]
    },
    {
     "name": "stdout",
     "output_type": "stream",
     "text": [
      "Epoch 80, Loss 0.0295\n",
      "Training Accuracy: 0.9658, Testing Accuracy: 0.9698\n",
      "\n"
     ]
    },
    {
     "name": "stdout",
     "output_type": "stream",
     "text": [
      "Epoch 90, Loss 0.0283\n",
      "Training Accuracy: 0.9672, Testing Accuracy: 0.9703\n",
      "\n"
     ]
    },
    {
     "name": "stdout",
     "output_type": "stream",
     "text": [
      "Epoch 100, Loss 0.0273\n",
      "Training Accuracy: 0.9684, Testing Accuracy: 0.9713\n",
      "\n"
     ]
    },
    {
     "name": "stdout",
     "output_type": "stream",
     "text": [
      "Epoch 110, Loss 0.0264\n",
      "Training Accuracy: 0.9693, Testing Accuracy: 0.9713\n",
      "\n"
     ]
    },
    {
     "name": "stdout",
     "output_type": "stream",
     "text": [
      "Epoch 120, Loss 0.0257\n",
      "Training Accuracy: 0.9701, Testing Accuracy: 0.9713\n",
      "\n"
     ]
    },
    {
     "name": "stdout",
     "output_type": "stream",
     "text": [
      "Epoch 130, Loss 0.025\n",
      "Training Accuracy: 0.9709, Testing Accuracy: 0.9708\n",
      "\n"
     ]
    },
    {
     "name": "stdout",
     "output_type": "stream",
     "text": [
      "Epoch 140, Loss 0.0244\n",
      "Training Accuracy: 0.9712, Testing Accuracy: 0.9713\n",
      "\n"
     ]
    },
    {
     "name": "stdout",
     "output_type": "stream",
     "text": [
      "Epoch 150, Loss 0.0239\n",
      "Training Accuracy: 0.9719, Testing Accuracy: 0.9713\n",
      "\n"
     ]
    },
    {
     "name": "stdout",
     "output_type": "stream",
     "text": [
      "Epoch 160, Loss 0.0234\n",
      "Training Accuracy: 0.9723, Testing Accuracy: 0.9708\n",
      "\n"
     ]
    },
    {
     "name": "stdout",
     "output_type": "stream",
     "text": [
      "Epoch 170, Loss 0.0229\n",
      "Training Accuracy: 0.9725, Testing Accuracy: 0.9713\n",
      "\n"
     ]
    },
    {
     "name": "stdout",
     "output_type": "stream",
     "text": [
      "Epoch 180, Loss 0.0225\n",
      "Training Accuracy: 0.9728, Testing Accuracy: 0.9713\n",
      "\n"
     ]
    },
    {
     "name": "stdout",
     "output_type": "stream",
     "text": [
      "Epoch 190, Loss 0.022\n",
      "Training Accuracy: 0.9730, Testing Accuracy: 0.9708\n",
      "\n"
     ]
    },
    {
     "name": "stdout",
     "output_type": "stream",
     "text": [
      "Epoch 200, Loss 0.0216\n",
      "Training Accuracy: 0.9737, Testing Accuracy: 0.9708\n",
      "\n"
     ]
    },
    {
     "name": "stdout",
     "output_type": "stream",
     "text": [
      "Epoch 210, Loss 0.0213\n",
      "Training Accuracy: 0.9745, Testing Accuracy: 0.9713\n",
      "\n"
     ]
    },
    {
     "name": "stdout",
     "output_type": "stream",
     "text": [
      "Epoch 220, Loss 0.0209\n",
      "Training Accuracy: 0.9753, Testing Accuracy: 0.9723\n",
      "\n"
     ]
    },
    {
     "name": "stdout",
     "output_type": "stream",
     "text": [
      "Epoch 230, Loss 0.0205\n",
      "Training Accuracy: 0.9761, Testing Accuracy: 0.9723\n",
      "\n"
     ]
    },
    {
     "name": "stdout",
     "output_type": "stream",
     "text": [
      "Epoch 240, Loss 0.0202\n",
      "Training Accuracy: 0.9772, Testing Accuracy: 0.9728\n",
      "\n"
     ]
    },
    {
     "data": {
      "text/plain": [
       "0.010807962710899179"
      ]
     },
     "execution_count": 22,
     "metadata": {},
     "output_type": "execute_result"
    }
   ],
   "source": [
    "nn_learner.train_loop(dl)"
   ]
  },
  {
   "cell_type": "code",
   "execution_count": 23,
   "id": "e0163366",
   "metadata": {
    "execution": {
     "iopub.execute_input": "2022-10-23T00:58:05.739017Z",
     "iopub.status.busy": "2022-10-23T00:58:05.738445Z",
     "iopub.status.idle": "2022-10-23T00:58:17.763923Z",
     "shell.execute_reply": "2022-10-23T00:58:17.764356Z"
    },
    "papermill": {
     "duration": 12.063434,
     "end_time": "2022-10-23T00:58:17.764483",
     "exception": false,
     "start_time": "2022-10-23T00:58:05.701049",
     "status": "completed"
    },
    "tags": []
   },
   "outputs": [
    {
     "name": "stdout",
     "output_type": "stream",
     "text": [
      "Epoch 0, Loss 0.2292\n",
      "Training Accuracy: 0.7181, Testing Accuracy: 0.6890\n",
      "\n"
     ]
    },
    {
     "name": "stdout",
     "output_type": "stream",
     "text": [
      "Epoch 10, Loss 0.0988\n",
      "Training Accuracy: 0.9197, Testing Accuracy: 0.9365\n",
      "\n"
     ]
    },
    {
     "name": "stdout",
     "output_type": "stream",
     "text": [
      "Epoch 20, Loss 0.0767\n",
      "Training Accuracy: 0.9330, Testing Accuracy: 0.9435\n",
      "\n"
     ]
    },
    {
     "name": "stdout",
     "output_type": "stream",
     "text": [
      "Epoch 30, Loss 0.0665\n",
      "Training Accuracy: 0.9388, Testing Accuracy: 0.9536\n",
      "\n"
     ]
    },
    {
     "name": "stdout",
     "output_type": "stream",
     "text": [
      "Epoch 40, Loss 0.0604\n",
      "Training Accuracy: 0.9432, Testing Accuracy: 0.9567\n",
      "\n"
     ]
    },
    {
     "name": "stdout",
     "output_type": "stream",
     "text": [
      "Epoch 50, Loss 0.0562\n",
      "Training Accuracy: 0.9457, Testing Accuracy: 0.9582\n",
      "\n"
     ]
    },
    {
     "name": "stdout",
     "output_type": "stream",
     "text": [
      "Epoch 60, Loss 0.053\n",
      "Training Accuracy: 0.9482, Testing Accuracy: 0.9602\n",
      "\n"
     ]
    },
    {
     "name": "stdout",
     "output_type": "stream",
     "text": [
      "Epoch 70, Loss 0.0506\n",
      "Training Accuracy: 0.9500, Testing Accuracy: 0.9607\n",
      "\n"
     ]
    },
    {
     "name": "stdout",
     "output_type": "stream",
     "text": [
      "Epoch 80, Loss 0.0486\n",
      "Training Accuracy: 0.9516, Testing Accuracy: 0.9617\n",
      "\n"
     ]
    },
    {
     "name": "stdout",
     "output_type": "stream",
     "text": [
      "Epoch 90, Loss 0.047\n",
      "Training Accuracy: 0.9528, Testing Accuracy: 0.9627\n",
      "\n"
     ]
    },
    {
     "name": "stdout",
     "output_type": "stream",
     "text": [
      "Epoch 100, Loss 0.0456\n",
      "Training Accuracy: 0.9538, Testing Accuracy: 0.9627\n",
      "\n"
     ]
    },
    {
     "name": "stdout",
     "output_type": "stream",
     "text": [
      "Epoch 110, Loss 0.0445\n",
      "Training Accuracy: 0.9548, Testing Accuracy: 0.9627\n",
      "\n"
     ]
    },
    {
     "name": "stdout",
     "output_type": "stream",
     "text": [
      "Epoch 120, Loss 0.0434\n",
      "Training Accuracy: 0.9554, Testing Accuracy: 0.9632\n",
      "\n"
     ]
    },
    {
     "name": "stdout",
     "output_type": "stream",
     "text": [
      "Epoch 130, Loss 0.0425\n",
      "Training Accuracy: 0.9564, Testing Accuracy: 0.9642\n",
      "\n"
     ]
    },
    {
     "name": "stdout",
     "output_type": "stream",
     "text": [
      "Epoch 140, Loss 0.0417\n",
      "Training Accuracy: 0.9574, Testing Accuracy: 0.9652\n",
      "\n"
     ]
    },
    {
     "name": "stdout",
     "output_type": "stream",
     "text": [
      "Epoch 150, Loss 0.041\n",
      "Training Accuracy: 0.9579, Testing Accuracy: 0.9652\n",
      "\n"
     ]
    },
    {
     "name": "stdout",
     "output_type": "stream",
     "text": [
      "Epoch 160, Loss 0.0403\n",
      "Training Accuracy: 0.9587, Testing Accuracy: 0.9652\n",
      "\n"
     ]
    },
    {
     "name": "stdout",
     "output_type": "stream",
     "text": [
      "Epoch 170, Loss 0.0397\n",
      "Training Accuracy: 0.9594, Testing Accuracy: 0.9652\n",
      "\n"
     ]
    },
    {
     "name": "stdout",
     "output_type": "stream",
     "text": [
      "Epoch 180, Loss 0.0392\n",
      "Training Accuracy: 0.9598, Testing Accuracy: 0.9647\n",
      "\n"
     ]
    },
    {
     "name": "stdout",
     "output_type": "stream",
     "text": [
      "Epoch 190, Loss 0.0387\n",
      "Training Accuracy: 0.9599, Testing Accuracy: 0.9647\n",
      "\n"
     ]
    },
    {
     "name": "stdout",
     "output_type": "stream",
     "text": [
      "Epoch 200, Loss 0.0382\n",
      "Training Accuracy: 0.9599, Testing Accuracy: 0.9647\n",
      "\n"
     ]
    },
    {
     "name": "stdout",
     "output_type": "stream",
     "text": [
      "Epoch 210, Loss 0.0378\n",
      "Training Accuracy: 0.9602, Testing Accuracy: 0.9652\n",
      "\n"
     ]
    },
    {
     "name": "stdout",
     "output_type": "stream",
     "text": [
      "Epoch 220, Loss 0.0373\n",
      "Training Accuracy: 0.9604, Testing Accuracy: 0.9652\n",
      "\n"
     ]
    },
    {
     "name": "stdout",
     "output_type": "stream",
     "text": [
      "Epoch 230, Loss 0.037\n",
      "Training Accuracy: 0.9608, Testing Accuracy: 0.9652\n",
      "\n"
     ]
    },
    {
     "name": "stdout",
     "output_type": "stream",
     "text": [
      "Epoch 240, Loss 0.0366\n",
      "Training Accuracy: 0.9610, Testing Accuracy: 0.9657\n",
      "\n"
     ]
    },
    {
     "data": {
      "text/plain": [
       "0.020334546911248884"
      ]
     },
     "execution_count": 23,
     "metadata": {},
     "output_type": "execute_result"
    }
   ],
   "source": [
    "lr_learner.train_loop(dl)"
   ]
  },
  {
   "cell_type": "code",
   "execution_count": 24,
   "id": "ca410940",
   "metadata": {
    "execution": {
     "iopub.execute_input": "2022-10-23T00:58:17.855138Z",
     "iopub.status.busy": "2022-10-23T00:58:17.854575Z",
     "iopub.status.idle": "2022-10-23T00:58:18.084655Z",
     "shell.execute_reply": "2022-10-23T00:58:18.084207Z"
    },
    "papermill": {
     "duration": 0.278469,
     "end_time": "2022-10-23T00:58:18.084763",
     "exception": false,
     "start_time": "2022-10-23T00:58:17.806294",
     "status": "completed"
    },
    "tags": []
   },
   "outputs": [
    {
     "data": {
      "text/plain": [
       "<matplotlib.legend.Legend at 0x7fc909f8d2b0>"
      ]
     },
     "execution_count": 24,
     "metadata": {},
     "output_type": "execute_result"
    },
    {
     "data": {
      "image/png": "[encoded data removed]",
      "text/plain": [
       "<Figure size 1080x720 with 1 Axes>"
      ]
     },
     "metadata": {
      "needs_background": "light"
     },
     "output_type": "display_data"
    }
   ],
   "source": [
    "#comparing the results of NN and LR\n",
    "plt.figure(figsize=(15,10))\n",
    "\n",
    "# Neural Network plots\n",
    "plt.plot(acc_nn.accuracies, 'r-', label = \"Training Accuracies - NN\")\n",
    "plt.plot(acc_nn.test_accuracies, 'g-', label = \"Testing Accuracies - NN\")\n",
    "\n",
    "# Logistic Regression plots\n",
    "plt.plot(acc_lr.accuracies, 'k-', label = \"Training Accuracies - LR\")\n",
    "plt.plot(acc_lr.test_accuracies, 'b-', label = \"Testing Accuracies - LR\")\n",
    "plt.legend()"
   ]
  },
  {
   "cell_type": "markdown",
   "id": "80dfb35c",
   "metadata": {
    "papermill": {
     "duration": 0.042327,
     "end_time": "2022-10-23T00:58:18.169732",
     "exception": false,
     "start_time": "2022-10-23T00:58:18.127405",
     "status": "completed"
    },
    "tags": []
   },
   "source": [
    "#### Plotting the outputs of this layer of the NN.\n"
   ]
  },
  {
   "cell_type": "code",
   "execution_count": 25,
   "id": "45eb2ff5",
   "metadata": {
    "execution": {
     "iopub.execute_input": "2022-10-23T00:58:18.259640Z",
     "iopub.status.busy": "2022-10-23T00:58:18.258466Z",
     "iopub.status.idle": "2022-10-23T00:58:18.292942Z",
     "shell.execute_reply": "2022-10-23T00:58:18.293716Z"
    },
    "papermill": {
     "duration": 0.08183,
     "end_time": "2022-10-23T00:58:18.293848",
     "exception": false,
     "start_time": "2022-10-23T00:58:18.212018",
     "status": "completed"
    },
    "tags": []
   },
   "outputs": [],
   "source": [
    "new_model = Model(layers[:-2])\n",
    "testing_plot = new_model(testing_data_x)"
   ]
  },
  {
   "cell_type": "code",
   "execution_count": 26,
   "id": "4c0a5485",
   "metadata": {
    "execution": {
     "iopub.execute_input": "2022-10-23T00:58:18.387141Z",
     "iopub.status.busy": "2022-10-23T00:58:18.386596Z",
     "iopub.status.idle": "2022-10-23T00:58:18.571478Z",
     "shell.execute_reply": "2022-10-23T00:58:18.571916Z"
    },
    "papermill": {
     "duration": 0.235181,
     "end_time": "2022-10-23T00:58:18.572041",
     "exception": false,
     "start_time": "2022-10-23T00:58:18.336860",
     "status": "completed"
    },
    "tags": []
   },
   "outputs": [
    {
     "data": {
      "text/plain": [
       "Text(0.5, 1.0, 'Outputs')"
      ]
     },
     "execution_count": 26,
     "metadata": {},
     "output_type": "execute_result"
    },
    {
     "data": {
      "image/png": "[encoded data removed]",
      "text/plain": [
       "<Figure size 576x504 with 1 Axes>"
      ]
     },
     "metadata": {
      "needs_background": "light"
     },
     "output_type": "display_data"
    }
   ],
   "source": [
    "# Plotting the scatter plot of points and color coding by class\n",
    "plt.figure(figsize=(8,7))\n",
    "plt.scatter(testing_plot[:,0], testing_plot[:,1], alpha = 0.1, c = y_test.ravel());\n",
    "plt.title('Outputs')"
   ]
  },
  {
   "cell_type": "markdown",
   "id": "a74fcf8f",
   "metadata": {
    "papermill": {
     "duration": 0.044267,
     "end_time": "2022-10-23T00:58:18.661060",
     "exception": false,
     "start_time": "2022-10-23T00:58:18.616793",
     "status": "completed"
    },
    "tags": []
   },
   "source": [
    "Probability contours"
   ]
  },
  {
   "cell_type": "code",
   "execution_count": 27,
   "id": "d0afc8e3",
   "metadata": {
    "execution": {
     "iopub.execute_input": "2022-10-23T00:58:18.776981Z",
     "iopub.status.busy": "2022-10-23T00:58:18.774746Z",
     "iopub.status.idle": "2022-10-23T00:58:18.786463Z",
     "shell.execute_reply": "2022-10-23T00:58:18.786014Z"
    },
    "papermill": {
     "duration": 0.081131,
     "end_time": "2022-10-23T00:58:18.786558",
     "exception": false,
     "start_time": "2022-10-23T00:58:18.705427",
     "status": "completed"
    },
    "tags": []
   },
   "outputs": [],
   "source": [
    "model_prob = Model(layers[-2:]) "
   ]
  },
  {
   "cell_type": "code",
   "execution_count": 28,
   "id": "9b96e238",
   "metadata": {
    "execution": {
     "iopub.execute_input": "2022-10-23T00:58:18.878942Z",
     "iopub.status.busy": "2022-10-23T00:58:18.878382Z",
     "iopub.status.idle": "2022-10-23T00:58:18.890839Z",
     "shell.execute_reply": "2022-10-23T00:58:18.891270Z"
    },
    "papermill": {
     "duration": 0.060561,
     "end_time": "2022-10-23T00:58:18.891383",
     "exception": false,
     "start_time": "2022-10-23T00:58:18.830822",
     "status": "completed"
    },
    "tags": []
   },
   "outputs": [],
   "source": [
    "#creating the x and y ranges according to the above generated plot.\n",
    "x_range = np.linspace(-4, 1, 100) \n",
    "y_range = np.linspace(-6, 6, 100) \n",
    "x_grid, y_grid = np.meshgrid(x_range, y_range) # x_grid and y_grig are of size 100 X 100\n",
    "\n",
    "# converting x_grid and y_grid to continuous arrays\n",
    "x_gridflat = np.ravel(x_grid)\n",
    "y_gridflat = np.ravel(y_grid)\n",
    "\n",
    "# The last layer of the current model takes two columns as input. Hence transpose of np.vstack() is required.\n",
    "X = np.vstack((x_gridflat, y_gridflat)).T\n",
    "\n",
    "prob_contour = model_prob(X).reshape(100,100) "
   ]
  },
  {
   "cell_type": "code",
   "execution_count": 29,
   "id": "da72499a",
   "metadata": {
    "execution": {
     "iopub.execute_input": "2022-10-23T00:58:18.985383Z",
     "iopub.status.busy": "2022-10-23T00:58:18.984855Z",
     "iopub.status.idle": "2022-10-23T00:58:19.224794Z",
     "shell.execute_reply": "2022-10-23T00:58:19.224330Z"
    },
    "papermill": {
     "duration": 0.28835,
     "end_time": "2022-10-23T00:58:19.224899",
     "exception": false,
     "start_time": "2022-10-23T00:58:18.936549",
     "status": "completed"
    },
    "tags": []
   },
   "outputs": [
    {
     "data": {
      "image/png": "[encoded data removed]",
      "text/plain": [
       "<Figure size 720x648 with 1 Axes>"
      ]
     },
     "metadata": {
      "needs_background": "light"
     },
     "output_type": "display_data"
    }
   ],
   "source": [
    "plt.figure(figsize=(10,9))\n",
    "plt.scatter(testing_plot[:,0], testing_plot[:,1], alpha = 0.1, c = y_test.ravel())\n",
    "contours = plt.contour(x_grid,y_grid,prob_contour)\n",
    "plt.title('Probability Contours')\n",
    "plt.clabel(contours, inline = True );"
   ]
  },
  {
   "cell_type": "code",
   "execution_count": null,
   "id": "e81b4ac7",
   "metadata": {
    "papermill": {
     "duration": 0.04937,
     "end_time": "2022-10-23T00:58:19.322024",
     "exception": false,
     "start_time": "2022-10-23T00:58:19.272654",
     "status": "completed"
    },
    "tags": []
   },
   "outputs": [],
   "source": []
  }
 ],
 "metadata": {
  "kernelspec": {
   "display_name": "Python 3",
   "language": "python",
   "name": "python3"
  },
  "language_info": {
   "codemirror_mode": {
    "name": "ipython",
    "version": 3
   },
   "file_extension": ".py",
   "mimetype": "text/x-python",
   "name": "python",
   "nbconvert_exporter": "python",
   "pygments_lexer": "ipython3",
   "version": "3.6.15"
  },
  "papermill": {
   "default_parameters": {},
   "duration": 193.492755,
   "end_time": "2022-10-23T00:58:19.686963",
   "environment_variables": {},
   "exception": null,
   "input_path": "2020-08-11-part2.ipynb",
   "output_path": "2020-08-11-part2.ipynb",
   "parameters": {},
   "start_time": "2022-10-23T00:55:06.194208",
   "version": "2.3.3"
  }
 },
 "nbformat": 4,
 "nbformat_minor": 5
}